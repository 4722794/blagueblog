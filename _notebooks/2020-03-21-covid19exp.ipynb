{
 "cells": [
  {
   "cell_type": "markdown",
   "id": "muslim-click",
   "metadata": {
    "papermill": {
     "duration": 0.040575,
     "end_time": "2022-11-01T01:01:01.057509",
     "exception": false,
     "start_time": "2022-11-01T01:01:01.016934",
     "status": "completed"
    },
    "tags": []
   },
   "source": [
    "# COVID-19 Case Race\n",
    "> A race chart to see rising cases around the world\n",
    "\n",
    "- author: Hargun Oberoi\n",
    "- image: images/covid-overview.png\n",
    "- hide: false\n",
    "- badges: false"
   ]
  },
  {
   "cell_type": "code",
   "execution_count": 1,
   "id": "proof-material",
   "metadata": {
    "execution": {
     "iopub.execute_input": "2022-11-01T01:01:01.135770Z",
     "iopub.status.busy": "2022-11-01T01:01:01.135026Z",
     "iopub.status.idle": "2022-11-01T01:01:01.523411Z",
     "shell.execute_reply": "2022-11-01T01:01:01.522394Z"
    },
    "papermill": {
     "duration": 0.432156,
     "end_time": "2022-11-01T01:01:01.523580",
     "exception": false,
     "start_time": "2022-11-01T01:01:01.091424",
     "status": "completed"
    },
    "tags": []
   },
   "outputs": [],
   "source": [
    "#hide\n",
    "import numpy as np\n",
    "import pandas as pd\n",
    "from jinja2 import Template\n",
    "from IPython.display import HTML"
   ]
  },
  {
   "cell_type": "code",
   "execution_count": 2,
   "id": "developed-terminology",
   "metadata": {
    "execution": {
     "iopub.execute_input": "2022-11-01T01:01:01.597337Z",
     "iopub.status.busy": "2022-11-01T01:01:01.596622Z",
     "iopub.status.idle": "2022-11-01T01:01:01.599171Z",
     "shell.execute_reply": "2022-11-01T01:01:01.599722Z"
    },
    "papermill": {
     "duration": 0.042565,
     "end_time": "2022-11-01T01:01:01.599873",
     "exception": false,
     "start_time": "2022-11-01T01:01:01.557308",
     "status": "completed"
    },
    "tags": []
   },
   "outputs": [],
   "source": [
    "#hide\n",
    "\n",
    "# FETCH\n",
    "base_url = 'https://raw.githubusercontent.com/pratapvardhan/notebooks/master/covid19/'\n",
    "paths = {\n",
    "    'mapping': base_url + 'mapping_countries.csv',\n",
    "    'overview': base_url + 'overview.tpl'\n",
    "}"
   ]
  },
  {
   "cell_type": "code",
   "execution_count": 3,
   "id": "dynamic-saver",
   "metadata": {
    "execution": {
     "iopub.execute_input": "2022-11-01T01:01:01.678507Z",
     "iopub.status.busy": "2022-11-01T01:01:01.675053Z",
     "iopub.status.idle": "2022-11-01T01:01:01.681715Z",
     "shell.execute_reply": "2022-11-01T01:01:01.682360Z"
    },
    "papermill": {
     "duration": 0.049312,
     "end_time": "2022-11-01T01:01:01.682519",
     "exception": false,
     "start_time": "2022-11-01T01:01:01.633207",
     "status": "completed"
    },
    "tags": []
   },
   "outputs": [
    {
     "data": {
      "text/plain": [
       "'https://raw.githubusercontent.com/pratapvardhan/notebooks/master/covid19/mapping_countries.csv'"
      ]
     },
     "execution_count": 3,
     "metadata": {},
     "output_type": "execute_result"
    }
   ],
   "source": [
    "#hide\n",
    "paths['mapping']"
   ]
  },
  {
   "cell_type": "code",
   "execution_count": 4,
   "id": "urban-software",
   "metadata": {
    "execution": {
     "iopub.execute_input": "2022-11-01T01:01:01.755694Z",
     "iopub.status.busy": "2022-11-01T01:01:01.755002Z",
     "iopub.status.idle": "2022-11-01T01:01:01.758298Z",
     "shell.execute_reply": "2022-11-01T01:01:01.757734Z"
    },
    "papermill": {
     "duration": 0.042346,
     "end_time": "2022-11-01T01:01:01.758429",
     "exception": false,
     "start_time": "2022-11-01T01:01:01.716083",
     "status": "completed"
    },
    "tags": []
   },
   "outputs": [],
   "source": [
    "#hide\n",
    "def get_mappings(url):\n",
    "    df = pd.read_csv(url)\n",
    "    return {\n",
    "        'df': df,\n",
    "        'replace.country': dict(df.dropna(subset=['Name']).set_index('Country')['Name']),\n",
    "        'map.continent': dict(df.set_index('Name')['Continent'])\n",
    "    }"
   ]
  },
  {
   "cell_type": "code",
   "execution_count": 5,
   "id": "intimate-machinery",
   "metadata": {
    "execution": {
     "iopub.execute_input": "2022-11-01T01:01:01.832813Z",
     "iopub.status.busy": "2022-11-01T01:01:01.832072Z",
     "iopub.status.idle": "2022-11-01T01:01:01.879679Z",
     "shell.execute_reply": "2022-11-01T01:01:01.880212Z"
    },
    "papermill": {
     "duration": 0.088359,
     "end_time": "2022-11-01T01:01:01.880404",
     "exception": false,
     "start_time": "2022-11-01T01:01:01.792045",
     "status": "completed"
    },
    "tags": []
   },
   "outputs": [],
   "source": [
    "#hide\n",
    "mapping = get_mappings(paths['mapping'])"
   ]
  },
  {
   "cell_type": "code",
   "execution_count": 6,
   "id": "certified-tactics",
   "metadata": {
    "execution": {
     "iopub.execute_input": "2022-11-01T01:01:01.955116Z",
     "iopub.status.busy": "2022-11-01T01:01:01.954263Z",
     "iopub.status.idle": "2022-11-01T01:01:01.956273Z",
     "shell.execute_reply": "2022-11-01T01:01:01.956930Z"
    },
    "papermill": {
     "duration": 0.042913,
     "end_time": "2022-11-01T01:01:01.957107",
     "exception": false,
     "start_time": "2022-11-01T01:01:01.914194",
     "status": "completed"
    },
    "tags": []
   },
   "outputs": [],
   "source": [
    "#hide\n",
    "def get_template(path):\n",
    "    from urllib.parse import urlparse\n",
    "    if bool(urlparse(path).netloc):\n",
    "        from urllib.request import urlopen\n",
    "        return urlopen(path).read().decode('utf8')\n",
    "    return open(path).read()"
   ]
  },
  {
   "cell_type": "code",
   "execution_count": 7,
   "id": "realistic-blast",
   "metadata": {
    "execution": {
     "iopub.execute_input": "2022-11-01T01:01:02.031470Z",
     "iopub.status.busy": "2022-11-01T01:01:02.030744Z",
     "iopub.status.idle": "2022-11-01T01:01:02.033401Z",
     "shell.execute_reply": "2022-11-01T01:01:02.032736Z"
    },
    "papermill": {
     "duration": 0.042648,
     "end_time": "2022-11-01T01:01:02.033532",
     "exception": false,
     "start_time": "2022-11-01T01:01:01.990884",
     "status": "completed"
    },
    "tags": []
   },
   "outputs": [],
   "source": [
    "#hide\n",
    "def get_frame(name):\n",
    "    url = (\n",
    "        'https://raw.githubusercontent.com/CSSEGISandData/COVID-19/master/csse_covid_19_data/'\n",
    "        f'csse_covid_19_time_series/time_series_covid19_{name}_global.csv')\n",
    "    df = pd.read_csv(url)\n",
    "    # rename countries\n",
    "    df['Country/Region'] = df['Country/Region'].replace(mapping['replace.country'])\n",
    "    return df"
   ]
  },
  {
   "cell_type": "code",
   "execution_count": 8,
   "id": "affiliated-characterization",
   "metadata": {
    "execution": {
     "iopub.execute_input": "2022-11-01T01:01:02.109564Z",
     "iopub.status.busy": "2022-11-01T01:01:02.108828Z",
     "iopub.status.idle": "2022-11-01T01:01:02.111832Z",
     "shell.execute_reply": "2022-11-01T01:01:02.111277Z"
    },
    "papermill": {
     "duration": 0.044295,
     "end_time": "2022-11-01T01:01:02.111972",
     "exception": false,
     "start_time": "2022-11-01T01:01:02.067677",
     "status": "completed"
    },
    "tags": []
   },
   "outputs": [],
   "source": [
    "#hide\n",
    "def get_dates(df):\n",
    "    dt_cols = df.columns[~df.columns.isin(['Province/State', 'Country/Region', 'Lat', 'Long'])]\n",
    "    LAST_DATE_I = -1\n",
    "    # sometimes last column may be empty, then go backwards\n",
    "    for i in range(-1, -len(dt_cols), -1):\n",
    "        if not df[dt_cols[i]].fillna(0).eq(0).all():\n",
    "            LAST_DATE_I = i\n",
    "            break\n",
    "    return LAST_DATE_I, dt_cols"
   ]
  },
  {
   "cell_type": "code",
   "execution_count": 9,
   "id": "recent-optimization",
   "metadata": {
    "execution": {
     "iopub.execute_input": "2022-11-01T01:01:02.185737Z",
     "iopub.status.busy": "2022-11-01T01:01:02.185042Z",
     "iopub.status.idle": "2022-11-01T01:01:02.799430Z",
     "shell.execute_reply": "2022-11-01T01:01:02.798687Z"
    },
    "papermill": {
     "duration": 0.654098,
     "end_time": "2022-11-01T01:01:02.799561",
     "exception": false,
     "start_time": "2022-11-01T01:01:02.145463",
     "status": "completed"
    },
    "tags": []
   },
   "outputs": [],
   "source": [
    "#hide\n",
    "COL_REGION = 'Country/Region'\n",
    "# Confirmed, Recovered, Deaths\n",
    "df = get_frame('confirmed')\n",
    "# dft_: timeseries, dfc_: today country agg\n",
    "dft_cases = df\n",
    "dft_deaths = get_frame('deaths')\n",
    "dft_recovered = get_frame('recovered')\n",
    "LAST_DATE_I, dt_cols = get_dates(df)"
   ]
  },
  {
   "cell_type": "code",
   "execution_count": 10,
   "id": "absolute-copper",
   "metadata": {
    "execution": {
     "iopub.execute_input": "2022-11-01T01:01:02.875466Z",
     "iopub.status.busy": "2022-11-01T01:01:02.874740Z",
     "iopub.status.idle": "2022-11-01T01:01:02.876331Z",
     "shell.execute_reply": "2022-11-01T01:01:02.876985Z"
    },
    "papermill": {
     "duration": 0.043988,
     "end_time": "2022-11-01T01:01:02.877137",
     "exception": false,
     "start_time": "2022-11-01T01:01:02.833149",
     "status": "completed"
    },
    "tags": []
   },
   "outputs": [],
   "source": [
    "#hide\n",
    "LAST_DATE_I, dt_cols = get_dates(df)\n",
    "dt_today =dt_cols[LAST_DATE_I]\n",
    "# dt_5day = dt_cols[LAST_DATE_I - 5]\n",
    "dt_yday = dt_cols[LAST_DATE_I - 1]"
   ]
  },
  {
   "cell_type": "code",
   "execution_count": 11,
   "id": "restricted-sheriff",
   "metadata": {
    "execution": {
     "iopub.execute_input": "2022-11-01T01:01:02.951050Z",
     "iopub.status.busy": "2022-11-01T01:01:02.950342Z",
     "iopub.status.idle": "2022-11-01T01:01:02.958214Z",
     "shell.execute_reply": "2022-11-01T01:01:02.958773Z"
    },
    "papermill": {
     "duration": 0.048634,
     "end_time": "2022-11-01T01:01:02.958930",
     "exception": false,
     "start_time": "2022-11-01T01:01:02.910296",
     "status": "completed"
    },
    "tags": []
   },
   "outputs": [],
   "source": [
    "#hide\n",
    "dfc_cases = dft_cases.groupby(COL_REGION)[dt_today].sum()\n",
    "dfc_deaths = dft_deaths.groupby(COL_REGION)[dt_today].sum()\n",
    "# dfp_cases = dft_cases.groupby(COL_REGION)[dt_5day].sum()\n",
    "# dfp_deaths = dft_deaths.groupby(COL_REGION)[dt_5day].sum()\n",
    "dfp_cases = dft_cases.groupby(COL_REGION)[dt_yday].sum()\n",
    "dfp_deaths = dft_deaths.groupby(COL_REGION)[dt_yday].sum()"
   ]
  },
  {
   "cell_type": "code",
   "execution_count": 12,
   "id": "deluxe-hepatitis",
   "metadata": {
    "execution": {
     "iopub.execute_input": "2022-11-01T01:01:03.034745Z",
     "iopub.status.busy": "2022-11-01T01:01:03.034048Z",
     "iopub.status.idle": "2022-11-01T01:01:03.039529Z",
     "shell.execute_reply": "2022-11-01T01:01:03.040104Z"
    },
    "papermill": {
     "duration": 0.048061,
     "end_time": "2022-11-01T01:01:03.040265",
     "exception": false,
     "start_time": "2022-11-01T01:01:02.992204",
     "status": "completed"
    },
    "tags": []
   },
   "outputs": [],
   "source": [
    "#hide\n",
    "df_table = (pd.DataFrame(dict(Cases = dfc_cases, Deaths = dfc_deaths, PCases = dfp_cases, PDeaths = dfp_deaths))\n",
    "            .sort_values(by = ['Cases','Deaths'], ascending = [False, False])\n",
    "            .reset_index())"
   ]
  },
  {
   "cell_type": "code",
   "execution_count": 13,
   "id": "educational-chancellor",
   "metadata": {
    "execution": {
     "iopub.execute_input": "2022-11-01T01:01:03.129066Z",
     "iopub.status.busy": "2022-11-01T01:01:03.128307Z",
     "iopub.status.idle": "2022-11-01T01:01:03.138420Z",
     "shell.execute_reply": "2022-11-01T01:01:03.137861Z"
    },
    "papermill": {
     "duration": 0.064275,
     "end_time": "2022-11-01T01:01:03.138553",
     "exception": false,
     "start_time": "2022-11-01T01:01:03.074278",
     "status": "completed"
    },
    "tags": []
   },
   "outputs": [
    {
     "data": {
      "text/html": [
       "<div>\n",
       "<style scoped>\n",
       "    .dataframe tbody tr th:only-of-type {\n",
       "        vertical-align: middle;\n",
       "    }\n",
       "\n",
       "    .dataframe tbody tr th {\n",
       "        vertical-align: top;\n",
       "    }\n",
       "\n",
       "    .dataframe thead th {\n",
       "        text-align: right;\n",
       "    }\n",
       "</style>\n",
       "<table border=\"1\" class=\"dataframe\">\n",
       "  <thead>\n",
       "    <tr style=\"text-align: right;\">\n",
       "      <th></th>\n",
       "      <th>Country/Region</th>\n",
       "      <th>Cases</th>\n",
       "      <th>Deaths</th>\n",
       "      <th>PCases</th>\n",
       "      <th>PDeaths</th>\n",
       "      <th>Cases (+)</th>\n",
       "      <th>Deaths (+)</th>\n",
       "      <th>Fatality Rate</th>\n",
       "      <th>Continent</th>\n",
       "    </tr>\n",
       "  </thead>\n",
       "  <tbody>\n",
       "    <tr>\n",
       "      <th>0</th>\n",
       "      <td>US</td>\n",
       "      <td>97450639</td>\n",
       "      <td>1070266</td>\n",
       "      <td>97447532</td>\n",
       "      <td>1070264</td>\n",
       "      <td>3107</td>\n",
       "      <td>2</td>\n",
       "      <td>1.10</td>\n",
       "      <td>North America</td>\n",
       "    </tr>\n",
       "    <tr>\n",
       "      <th>1</th>\n",
       "      <td>India</td>\n",
       "      <td>44653592</td>\n",
       "      <td>529024</td>\n",
       "      <td>44652256</td>\n",
       "      <td>529016</td>\n",
       "      <td>1336</td>\n",
       "      <td>8</td>\n",
       "      <td>1.18</td>\n",
       "      <td>Asia</td>\n",
       "    </tr>\n",
       "    <tr>\n",
       "      <th>2</th>\n",
       "      <td>France</td>\n",
       "      <td>36987918</td>\n",
       "      <td>157872</td>\n",
       "      <td>36987918</td>\n",
       "      <td>157872</td>\n",
       "      <td>0</td>\n",
       "      <td>0</td>\n",
       "      <td>0.43</td>\n",
       "      <td>Europe</td>\n",
       "    </tr>\n",
       "    <tr>\n",
       "      <th>3</th>\n",
       "      <td>Germany</td>\n",
       "      <td>35571131</td>\n",
       "      <td>153544</td>\n",
       "      <td>35571130</td>\n",
       "      <td>153544</td>\n",
       "      <td>1</td>\n",
       "      <td>0</td>\n",
       "      <td>0.43</td>\n",
       "      <td>Europe</td>\n",
       "    </tr>\n",
       "    <tr>\n",
       "      <th>4</th>\n",
       "      <td>Brazil</td>\n",
       "      <td>34815258</td>\n",
       "      <td>687962</td>\n",
       "      <td>34815258</td>\n",
       "      <td>687962</td>\n",
       "      <td>0</td>\n",
       "      <td>0</td>\n",
       "      <td>1.98</td>\n",
       "      <td>South America</td>\n",
       "    </tr>\n",
       "  </tbody>\n",
       "</table>\n",
       "</div>"
      ],
      "text/plain": [
       "  Country/Region     Cases   Deaths    PCases  PDeaths  Cases (+)  Deaths (+)  \\\n",
       "0             US  97450639  1070266  97447532  1070264       3107           2   \n",
       "1          India  44653592   529024  44652256   529016       1336           8   \n",
       "2         France  36987918   157872  36987918   157872          0           0   \n",
       "3        Germany  35571131   153544  35571130   153544          1           0   \n",
       "4         Brazil  34815258   687962  34815258   687962          0           0   \n",
       "\n",
       "   Fatality Rate      Continent  \n",
       "0           1.10  North America  \n",
       "1           1.18           Asia  \n",
       "2           0.43         Europe  \n",
       "3           0.43         Europe  \n",
       "4           1.98  South America  "
      ]
     },
     "execution_count": 13,
     "metadata": {},
     "output_type": "execute_result"
    }
   ],
   "source": [
    "#hide\n",
    "for c in 'Cases, Deaths'.split(', '):\n",
    "    df_table[f'{c} (+)'] = (df_table[c] - df_table[f'P{c}']).clip(0)\n",
    "    #Clip ça veut dire, les chiffres negatif sont interdit\n",
    "df_table['Fatality Rate'] = (100* df_table['Deaths']/ df_table['Cases']).round(2)\n",
    "df_table['Continent'] = df_table['Country/Region'].map(mapping['map.continent'])\n",
    "df_table.head(5)"
   ]
  },
  {
   "cell_type": "code",
   "execution_count": 14,
   "id": "aboriginal-bulgaria",
   "metadata": {
    "execution": {
     "iopub.execute_input": "2022-11-01T01:01:03.214341Z",
     "iopub.status.busy": "2022-11-01T01:01:03.213651Z",
     "iopub.status.idle": "2022-11-01T01:01:03.216294Z",
     "shell.execute_reply": "2022-11-01T01:01:03.216905Z"
    },
    "papermill": {
     "duration": 0.044132,
     "end_time": "2022-11-01T01:01:03.217060",
     "exception": false,
     "start_time": "2022-11-01T01:01:03.172928",
     "status": "completed"
    },
    "tags": []
   },
   "outputs": [],
   "source": [
    "#hide\n",
    "#delete problematic countries from table\n",
    "df_table = df_table[~df_table['Country/Region'].isin(['Cape Verde', 'Cruise Ship', 'Kosovo'])]"
   ]
  },
  {
   "cell_type": "code",
   "execution_count": 15,
   "id": "fantastic-effect",
   "metadata": {
    "execution": {
     "iopub.execute_input": "2022-11-01T01:01:03.294120Z",
     "iopub.status.busy": "2022-11-01T01:01:03.293413Z",
     "iopub.status.idle": "2022-11-01T01:01:03.313982Z",
     "shell.execute_reply": "2022-11-01T01:01:03.314542Z"
    },
    "papermill": {
     "duration": 0.063835,
     "end_time": "2022-11-01T01:01:03.314704",
     "exception": false,
     "start_time": "2022-11-01T01:01:03.250869",
     "status": "completed"
    },
    "tags": []
   },
   "outputs": [
    {
     "data": {
      "text/html": [
       "<div>\n",
       "<style scoped>\n",
       "    .dataframe tbody tr th:only-of-type {\n",
       "        vertical-align: middle;\n",
       "    }\n",
       "\n",
       "    .dataframe tbody tr th {\n",
       "        vertical-align: top;\n",
       "    }\n",
       "\n",
       "    .dataframe thead th {\n",
       "        text-align: right;\n",
       "    }\n",
       "</style>\n",
       "<table border=\"1\" class=\"dataframe\">\n",
       "  <thead>\n",
       "    <tr style=\"text-align: right;\">\n",
       "      <th></th>\n",
       "      <th>Country/Region</th>\n",
       "      <th>Cases</th>\n",
       "      <th>Deaths</th>\n",
       "      <th>PCases</th>\n",
       "      <th>PDeaths</th>\n",
       "      <th>Cases (+)</th>\n",
       "      <th>Deaths (+)</th>\n",
       "      <th>Fatality Rate</th>\n",
       "      <th>Continent</th>\n",
       "    </tr>\n",
       "  </thead>\n",
       "  <tbody>\n",
       "    <tr>\n",
       "      <th>0</th>\n",
       "      <td>US</td>\n",
       "      <td>97450639</td>\n",
       "      <td>1070266</td>\n",
       "      <td>97447532</td>\n",
       "      <td>1070264</td>\n",
       "      <td>3107</td>\n",
       "      <td>2</td>\n",
       "      <td>1.1</td>\n",
       "      <td>North America</td>\n",
       "    </tr>\n",
       "    <tr>\n",
       "      <th>1</th>\n",
       "      <td>India</td>\n",
       "      <td>44653592</td>\n",
       "      <td>529024</td>\n",
       "      <td>44652256</td>\n",
       "      <td>529016</td>\n",
       "      <td>1336</td>\n",
       "      <td>8</td>\n",
       "      <td>1.2</td>\n",
       "      <td>Asia</td>\n",
       "    </tr>\n",
       "    <tr>\n",
       "      <th>2</th>\n",
       "      <td>France</td>\n",
       "      <td>36987918</td>\n",
       "      <td>157872</td>\n",
       "      <td>36987918</td>\n",
       "      <td>157872</td>\n",
       "      <td>0</td>\n",
       "      <td>0</td>\n",
       "      <td>0.4</td>\n",
       "      <td>Europe</td>\n",
       "    </tr>\n",
       "    <tr>\n",
       "      <th>3</th>\n",
       "      <td>Germany</td>\n",
       "      <td>35571131</td>\n",
       "      <td>153544</td>\n",
       "      <td>35571130</td>\n",
       "      <td>153544</td>\n",
       "      <td>1</td>\n",
       "      <td>0</td>\n",
       "      <td>0.4</td>\n",
       "      <td>Europe</td>\n",
       "    </tr>\n",
       "    <tr>\n",
       "      <th>4</th>\n",
       "      <td>Brazil</td>\n",
       "      <td>34815258</td>\n",
       "      <td>687962</td>\n",
       "      <td>34815258</td>\n",
       "      <td>687962</td>\n",
       "      <td>0</td>\n",
       "      <td>0</td>\n",
       "      <td>2.0</td>\n",
       "      <td>South America</td>\n",
       "    </tr>\n",
       "  </tbody>\n",
       "</table>\n",
       "</div>"
      ],
      "text/plain": [
       "  Country/Region     Cases   Deaths    PCases  PDeaths  Cases (+)  Deaths (+)  \\\n",
       "0             US  97450639  1070266  97447532  1070264       3107           2   \n",
       "1          India  44653592   529024  44652256   529016       1336           8   \n",
       "2         France  36987918   157872  36987918   157872          0           0   \n",
       "3        Germany  35571131   153544  35571130   153544          1           0   \n",
       "4         Brazil  34815258   687962  34815258   687962          0           0   \n",
       "\n",
       "   Fatality Rate      Continent  \n",
       "0            1.1  North America  \n",
       "1            1.2           Asia  \n",
       "2            0.4         Europe  \n",
       "3            0.4         Europe  \n",
       "4            2.0  South America  "
      ]
     },
     "execution_count": 15,
     "metadata": {},
     "output_type": "execute_result"
    }
   ],
   "source": [
    "#hide\n",
    "df_table = (pd.DataFrame(dict(Cases=dfc_cases, Deaths=dfc_deaths, PCases=dfp_cases, PDeaths=dfp_deaths))\n",
    "             .sort_values(by=['Cases', 'Deaths'], ascending=[False, False])\n",
    "             .reset_index())\n",
    "df_table.rename(columns={'index': 'Country/Region'}, inplace=True)\n",
    "for c in 'Cases, Deaths'.split(', '):\n",
    "    df_table[f'{c} (+)'] = (df_table[c] - df_table[f'P{c}']).clip(0)  # DATA BUG\n",
    "df_table['Fatality Rate'] = (100 * df_table['Deaths'] / df_table['Cases']).round(1)\n",
    "df_table['Continent'] = df_table['Country/Region'].map(mapping['map.continent'])\n",
    "df_table.head(5)"
   ]
  },
  {
   "cell_type": "code",
   "execution_count": 16,
   "id": "fewer-occasion",
   "metadata": {
    "execution": {
     "iopub.execute_input": "2022-11-01T01:01:03.391028Z",
     "iopub.status.busy": "2022-11-01T01:01:03.390339Z",
     "iopub.status.idle": "2022-11-01T01:01:03.394497Z",
     "shell.execute_reply": "2022-11-01T01:01:03.393804Z"
    },
    "papermill": {
     "duration": 0.044841,
     "end_time": "2022-11-01T01:01:03.394631",
     "exception": false,
     "start_time": "2022-11-01T01:01:03.349790",
     "status": "completed"
    },
    "tags": []
   },
   "outputs": [],
   "source": [
    "#hide\n",
    "#delete problematic countries from table\n",
    "df_table = df_table[~df_table['Country/Region'].isin(['Cape Verde', 'Cruise Ship', 'Kosovo'])]"
   ]
  },
  {
   "cell_type": "code",
   "execution_count": 17,
   "id": "related-center",
   "metadata": {
    "execution": {
     "iopub.execute_input": "2022-11-01T01:01:03.486195Z",
     "iopub.status.busy": "2022-11-01T01:01:03.485423Z",
     "iopub.status.idle": "2022-11-01T01:01:03.488121Z",
     "shell.execute_reply": "2022-11-01T01:01:03.487447Z"
    },
    "papermill": {
     "duration": 0.059124,
     "end_time": "2022-11-01T01:01:03.488255",
     "exception": false,
     "start_time": "2022-11-01T01:01:03.429131",
     "status": "completed"
    },
    "tags": []
   },
   "outputs": [],
   "source": [
    "#hide\n",
    "metrics = [df_table.columns[index] for index in [1,2,5,6]]\n",
    "# s_china = df_table[df_table['Country/Region'].eq('China')][metrics].sum().add_prefix('China ')\n",
    "s_us = df_table[df_table['Country/Region'].eq('US')][metrics].sum().add_prefix('US ')\n",
    "s_eu = df_table[df_table['Continent'].eq('Europe')][metrics].sum().add_prefix('EU ')\n",
    "s_ind = df_table[df_table['Country/Region'].eq('India')][metrics].sum().add_prefix('India ')\n",
    "summary = {'updated': pd.to_datetime(dt_today), 'since': pd.to_datetime(dt_yday)}\n",
    "summary = {'updated': pd.to_datetime(dt_today), 'since': pd.to_datetime(dt_yday)}\n",
    "summary = {**summary, **df_table[metrics].sum(), **s_ind, **s_us, **s_eu}"
   ]
  },
  {
   "cell_type": "code",
   "execution_count": 18,
   "id": "engaging-syndrome",
   "metadata": {
    "execution": {
     "iopub.execute_input": "2022-11-01T01:01:03.565573Z",
     "iopub.status.busy": "2022-11-01T01:01:03.564883Z",
     "iopub.status.idle": "2022-11-01T01:01:03.588605Z",
     "shell.execute_reply": "2022-11-01T01:01:03.587997Z"
    },
    "papermill": {
     "duration": 0.064729,
     "end_time": "2022-11-01T01:01:03.588749",
     "exception": false,
     "start_time": "2022-11-01T01:01:03.524020",
     "status": "completed"
    },
    "tags": []
   },
   "outputs": [],
   "source": [
    "#hide\n",
    "dft_ct_new_cases = dft_cases.groupby(COL_REGION)[dt_cols].sum().diff(axis=1).fillna(0).astype(int)"
   ]
  },
  {
   "cell_type": "code",
   "execution_count": 19,
   "id": "neutral-assignment",
   "metadata": {
    "execution": {
     "iopub.execute_input": "2022-11-01T01:01:03.667171Z",
     "iopub.status.busy": "2022-11-01T01:01:03.666306Z",
     "iopub.status.idle": "2022-11-01T01:01:03.668255Z",
     "shell.execute_reply": "2022-11-01T01:01:03.668844Z"
    },
    "papermill": {
     "duration": 0.045339,
     "end_time": "2022-11-01T01:01:03.669008",
     "exception": false,
     "start_time": "2022-11-01T01:01:03.623669",
     "status": "completed"
    },
    "tags": []
   },
   "outputs": [],
   "source": [
    "#hide\n",
    "everydaycases = dft_ct_new_cases.cumsum(axis=1)"
   ]
  },
  {
   "cell_type": "code",
   "execution_count": 20,
   "id": "parliamentary-calgary",
   "metadata": {
    "execution": {
     "iopub.execute_input": "2022-11-01T01:01:03.744227Z",
     "iopub.status.busy": "2022-11-01T01:01:03.743574Z",
     "iopub.status.idle": "2022-11-01T01:01:04.377536Z",
     "shell.execute_reply": "2022-11-01T01:01:04.376929Z"
    },
    "papermill": {
     "duration": 0.673793,
     "end_time": "2022-11-01T01:01:04.377678",
     "exception": false,
     "start_time": "2022-11-01T01:01:03.703885",
     "status": "completed"
    },
    "tags": []
   },
   "outputs": [],
   "source": [
    "#hide\n",
    "import pandas as pd\n",
    "import matplotlib.pyplot as plt\n",
    "import matplotlib.ticker as ticker\n",
    "import matplotlib.animation as animation\n",
    "from IPython.display import HTML"
   ]
  },
  {
   "cell_type": "code",
   "execution_count": 21,
   "id": "lasting-extraction",
   "metadata": {
    "execution": {
     "iopub.execute_input": "2022-11-01T01:01:04.455675Z",
     "iopub.status.busy": "2022-11-01T01:01:04.454979Z",
     "iopub.status.idle": "2022-11-01T01:01:04.462936Z",
     "shell.execute_reply": "2022-11-01T01:01:04.463462Z"
    },
    "papermill": {
     "duration": 0.051015,
     "end_time": "2022-11-01T01:01:04.463619",
     "exception": false,
     "start_time": "2022-11-01T01:01:04.412604",
     "status": "completed"
    },
    "tags": []
   },
   "outputs": [],
   "source": [
    "#hide\n",
    "t = everydaycases.stack()"
   ]
  },
  {
   "cell_type": "code",
   "execution_count": 22,
   "id": "premier-sleeve",
   "metadata": {
    "execution": {
     "iopub.execute_input": "2022-11-01T01:01:04.539103Z",
     "iopub.status.busy": "2022-11-01T01:01:04.538410Z",
     "iopub.status.idle": "2022-11-01T01:01:04.553184Z",
     "shell.execute_reply": "2022-11-01T01:01:04.553683Z"
    },
    "papermill": {
     "duration": 0.055266,
     "end_time": "2022-11-01T01:01:04.553859",
     "exception": false,
     "start_time": "2022-11-01T01:01:04.498593",
     "status": "completed"
    },
    "tags": []
   },
   "outputs": [],
   "source": [
    "#hide\n",
    "g = t.reset_index(['Country/Region'])"
   ]
  },
  {
   "cell_type": "code",
   "execution_count": 23,
   "id": "distributed-pittsburgh",
   "metadata": {
    "execution": {
     "iopub.execute_input": "2022-11-01T01:01:04.628668Z",
     "iopub.status.busy": "2022-11-01T01:01:04.627775Z",
     "iopub.status.idle": "2022-11-01T01:01:04.629727Z",
     "shell.execute_reply": "2022-11-01T01:01:04.630467Z"
    },
    "papermill": {
     "duration": 0.042161,
     "end_time": "2022-11-01T01:01:04.630643",
     "exception": false,
     "start_time": "2022-11-01T01:01:04.588482",
     "status": "completed"
    },
    "tags": []
   },
   "outputs": [],
   "source": [
    "#hide\n",
    "g.index.name = 'date'"
   ]
  },
  {
   "cell_type": "code",
   "execution_count": 24,
   "id": "naked-donor",
   "metadata": {
    "execution": {
     "iopub.execute_input": "2022-11-01T01:01:04.705049Z",
     "iopub.status.busy": "2022-11-01T01:01:04.704222Z",
     "iopub.status.idle": "2022-11-01T01:01:04.706040Z",
     "shell.execute_reply": "2022-11-01T01:01:04.706666Z"
    },
    "papermill": {
     "duration": 0.040872,
     "end_time": "2022-11-01T01:01:04.706815",
     "exception": false,
     "start_time": "2022-11-01T01:01:04.665943",
     "status": "completed"
    },
    "tags": []
   },
   "outputs": [],
   "source": [
    "# #hide\n",
    "# g = g.reset_index(['date'])"
   ]
  },
  {
   "cell_type": "code",
   "execution_count": 25,
   "id": "incomplete-mustang",
   "metadata": {
    "execution": {
     "iopub.execute_input": "2022-11-01T01:01:04.779907Z",
     "iopub.status.busy": "2022-11-01T01:01:04.779172Z",
     "iopub.status.idle": "2022-11-01T01:01:04.783679Z",
     "shell.execute_reply": "2022-11-01T01:01:04.783110Z"
    },
    "papermill": {
     "duration": 0.043103,
     "end_time": "2022-11-01T01:01:04.783837",
     "exception": false,
     "start_time": "2022-11-01T01:01:04.740734",
     "status": "completed"
    },
    "tags": []
   },
   "outputs": [],
   "source": [
    "#hide\n",
    "# g.head()"
   ]
  },
  {
   "cell_type": "code",
   "execution_count": 26,
   "id": "specific-kruger",
   "metadata": {
    "execution": {
     "iopub.execute_input": "2022-11-01T01:01:04.858152Z",
     "iopub.status.busy": "2022-11-01T01:01:04.857310Z",
     "iopub.status.idle": "2022-11-01T01:01:04.859194Z",
     "shell.execute_reply": "2022-11-01T01:01:04.859742Z"
    },
    "papermill": {
     "duration": 0.041161,
     "end_time": "2022-11-01T01:01:04.859894",
     "exception": false,
     "start_time": "2022-11-01T01:01:04.818733",
     "status": "completed"
    },
    "tags": []
   },
   "outputs": [],
   "source": [
    "#hide\n",
    "# g.columns = ['date','country','cases']"
   ]
  },
  {
   "cell_type": "code",
   "execution_count": 27,
   "id": "tender-conversion",
   "metadata": {
    "execution": {
     "iopub.execute_input": "2022-11-01T01:01:04.935947Z",
     "iopub.status.busy": "2022-11-01T01:01:04.934730Z",
     "iopub.status.idle": "2022-11-01T01:01:04.937313Z",
     "shell.execute_reply": "2022-11-01T01:01:04.938212Z"
    },
    "papermill": {
     "duration": 0.043988,
     "end_time": "2022-11-01T01:01:04.938457",
     "exception": false,
     "start_time": "2022-11-01T01:01:04.894469",
     "status": "completed"
    },
    "tags": []
   },
   "outputs": [],
   "source": [
    "#hide\n",
    "# g['continent'] = g.country"
   ]
  },
  {
   "cell_type": "code",
   "execution_count": 28,
   "id": "substantial-wilderness",
   "metadata": {
    "execution": {
     "iopub.execute_input": "2022-11-01T01:01:05.013106Z",
     "iopub.status.busy": "2022-11-01T01:01:05.012317Z",
     "iopub.status.idle": "2022-11-01T01:01:05.015074Z",
     "shell.execute_reply": "2022-11-01T01:01:05.014522Z"
    },
    "papermill": {
     "duration": 0.041344,
     "end_time": "2022-11-01T01:01:05.015203",
     "exception": false,
     "start_time": "2022-11-01T01:01:04.973859",
     "status": "completed"
    },
    "tags": []
   },
   "outputs": [],
   "source": [
    "#hide\n",
    "# cols = list(g.columns.values)"
   ]
  },
  {
   "cell_type": "code",
   "execution_count": 29,
   "id": "solved-farming",
   "metadata": {
    "execution": {
     "iopub.execute_input": "2022-11-01T01:01:05.090232Z",
     "iopub.status.busy": "2022-11-01T01:01:05.089555Z",
     "iopub.status.idle": "2022-11-01T01:01:05.093644Z",
     "shell.execute_reply": "2022-11-01T01:01:05.093092Z"
    },
    "papermill": {
     "duration": 0.043967,
     "end_time": "2022-11-01T01:01:05.093773",
     "exception": false,
     "start_time": "2022-11-01T01:01:05.049806",
     "status": "completed"
    },
    "tags": []
   },
   "outputs": [],
   "source": [
    "#hide\n",
    "# cols.insert(0, cols.pop())"
   ]
  },
  {
   "cell_type": "code",
   "execution_count": 30,
   "id": "executed-adoption",
   "metadata": {
    "execution": {
     "iopub.execute_input": "2022-11-01T01:01:05.167039Z",
     "iopub.status.busy": "2022-11-01T01:01:05.166311Z",
     "iopub.status.idle": "2022-11-01T01:01:05.170350Z",
     "shell.execute_reply": "2022-11-01T01:01:05.170803Z"
    },
    "papermill": {
     "duration": 0.042904,
     "end_time": "2022-11-01T01:01:05.170968",
     "exception": false,
     "start_time": "2022-11-01T01:01:05.128064",
     "status": "completed"
    },
    "tags": []
   },
   "outputs": [],
   "source": [
    "#hide\n",
    "# g = g[cols]"
   ]
  },
  {
   "cell_type": "code",
   "execution_count": 31,
   "id": "subject-dublin",
   "metadata": {
    "execution": {
     "iopub.execute_input": "2022-11-01T01:01:05.243960Z",
     "iopub.status.busy": "2022-11-01T01:01:05.243280Z",
     "iopub.status.idle": "2022-11-01T01:01:05.246349Z",
     "shell.execute_reply": "2022-11-01T01:01:05.245798Z"
    },
    "papermill": {
     "duration": 0.041241,
     "end_time": "2022-11-01T01:01:05.246476",
     "exception": false,
     "start_time": "2022-11-01T01:01:05.205235",
     "status": "completed"
    },
    "tags": []
   },
   "outputs": [],
   "source": [
    "#hide\n",
    "# g['continent'] = g['continent'].map(mapping['map.continent'])"
   ]
  },
  {
   "cell_type": "code",
   "execution_count": 32,
   "id": "freelance-scout",
   "metadata": {
    "execution": {
     "iopub.execute_input": "2022-11-01T01:01:05.319952Z",
     "iopub.status.busy": "2022-11-01T01:01:05.319109Z",
     "iopub.status.idle": "2022-11-01T01:01:05.321108Z",
     "shell.execute_reply": "2022-11-01T01:01:05.321755Z"
    },
    "papermill": {
     "duration": 0.040927,
     "end_time": "2022-11-01T01:01:05.321926",
     "exception": false,
     "start_time": "2022-11-01T01:01:05.280999",
     "status": "completed"
    },
    "tags": []
   },
   "outputs": [],
   "source": [
    "#hide\n",
    "# g.head()"
   ]
  },
  {
   "cell_type": "code",
   "execution_count": 33,
   "id": "limited-engine",
   "metadata": {
    "execution": {
     "iopub.execute_input": "2022-11-01T01:01:05.395212Z",
     "iopub.status.busy": "2022-11-01T01:01:05.394493Z",
     "iopub.status.idle": "2022-11-01T01:01:05.399211Z",
     "shell.execute_reply": "2022-11-01T01:01:05.398624Z"
    },
    "papermill": {
     "duration": 0.042764,
     "end_time": "2022-11-01T01:01:05.399328",
     "exception": false,
     "start_time": "2022-11-01T01:01:05.356564",
     "status": "completed"
    },
    "tags": []
   },
   "outputs": [],
   "source": [
    "# hide\n",
    "# g['date'] = g['date'].astype('datetime64[ns]')"
   ]
  },
  {
   "cell_type": "code",
   "execution_count": 34,
   "id": "sophisticated-supervisor",
   "metadata": {
    "execution": {
     "iopub.execute_input": "2022-11-01T01:01:05.473670Z",
     "iopub.status.busy": "2022-11-01T01:01:05.472797Z",
     "iopub.status.idle": "2022-11-01T01:01:05.475326Z",
     "shell.execute_reply": "2022-11-01T01:01:05.474561Z"
    },
    "papermill": {
     "duration": 0.041649,
     "end_time": "2022-11-01T01:01:05.475476",
     "exception": false,
     "start_time": "2022-11-01T01:01:05.433827",
     "status": "completed"
    },
    "tags": []
   },
   "outputs": [],
   "source": [
    "#hide\n",
    "# g['date'] = g.date.dt.dayofyear"
   ]
  },
  {
   "cell_type": "code",
   "execution_count": 35,
   "id": "inside-dubai",
   "metadata": {
    "execution": {
     "iopub.execute_input": "2022-11-01T01:01:05.550030Z",
     "iopub.status.busy": "2022-11-01T01:01:05.549290Z",
     "iopub.status.idle": "2022-11-01T01:01:05.550845Z",
     "shell.execute_reply": "2022-11-01T01:01:05.551485Z"
    },
    "papermill": {
     "duration": 0.041924,
     "end_time": "2022-11-01T01:01:05.551636",
     "exception": false,
     "start_time": "2022-11-01T01:01:05.509712",
     "status": "completed"
    },
    "tags": []
   },
   "outputs": [],
   "source": [
    "#hide\n",
    "# g = g.rename(columns= {'continent':'group','country':'name','cases':'value'})"
   ]
  },
  {
   "cell_type": "code",
   "execution_count": 36,
   "id": "fleet-motorcycle",
   "metadata": {
    "execution": {
     "iopub.execute_input": "2022-11-01T01:01:05.626233Z",
     "iopub.status.busy": "2022-11-01T01:01:05.625387Z",
     "iopub.status.idle": "2022-11-01T01:01:05.630067Z",
     "shell.execute_reply": "2022-11-01T01:01:05.630561Z"
    },
    "papermill": {
     "duration": 0.044298,
     "end_time": "2022-11-01T01:01:05.630716",
     "exception": false,
     "start_time": "2022-11-01T01:01:05.586418",
     "status": "completed"
    },
    "tags": []
   },
   "outputs": [],
   "source": [
    "#hide\n",
    "# cols = ['name','group','day','value']"
   ]
  },
  {
   "cell_type": "code",
   "execution_count": 37,
   "id": "continued-sleeping",
   "metadata": {
    "execution": {
     "iopub.execute_input": "2022-11-01T01:01:05.705471Z",
     "iopub.status.busy": "2022-11-01T01:01:05.704778Z",
     "iopub.status.idle": "2022-11-01T01:01:05.709155Z",
     "shell.execute_reply": "2022-11-01T01:01:05.708612Z"
    },
    "papermill": {
     "duration": 0.043922,
     "end_time": "2022-11-01T01:01:05.709289",
     "exception": false,
     "start_time": "2022-11-01T01:01:05.665367",
     "status": "completed"
    },
    "tags": []
   },
   "outputs": [],
   "source": [
    "#hide\n",
    "# g.rename(columns= {'date':'day'},inplace = True)"
   ]
  },
  {
   "cell_type": "code",
   "execution_count": 38,
   "id": "major-fight",
   "metadata": {
    "execution": {
     "iopub.execute_input": "2022-11-01T01:01:05.783532Z",
     "iopub.status.busy": "2022-11-01T01:01:05.782845Z",
     "iopub.status.idle": "2022-11-01T01:01:05.785581Z",
     "shell.execute_reply": "2022-11-01T01:01:05.786093Z"
    },
    "papermill": {
     "duration": 0.042183,
     "end_time": "2022-11-01T01:01:05.786251",
     "exception": false,
     "start_time": "2022-11-01T01:01:05.744068",
     "status": "completed"
    },
    "tags": []
   },
   "outputs": [],
   "source": [
    "#hide\n",
    "# g = g[cols]"
   ]
  },
  {
   "cell_type": "code",
   "execution_count": 39,
   "id": "structured-mobile",
   "metadata": {
    "execution": {
     "iopub.execute_input": "2022-11-01T01:01:05.859930Z",
     "iopub.status.busy": "2022-11-01T01:01:05.859102Z",
     "iopub.status.idle": "2022-11-01T01:01:05.861098Z",
     "shell.execute_reply": "2022-11-01T01:01:05.861708Z"
    },
    "papermill": {
     "duration": 0.041351,
     "end_time": "2022-11-01T01:01:05.861875",
     "exception": false,
     "start_time": "2022-11-01T01:01:05.820524",
     "status": "completed"
    },
    "tags": []
   },
   "outputs": [],
   "source": [
    "# #hide\n",
    "# g = g[g.group.notna()]"
   ]
  },
  {
   "cell_type": "code",
   "execution_count": 40,
   "id": "determined-closing",
   "metadata": {
    "execution": {
     "iopub.execute_input": "2022-11-01T01:01:05.935520Z",
     "iopub.status.busy": "2022-11-01T01:01:05.934810Z",
     "iopub.status.idle": "2022-11-01T01:01:05.937499Z",
     "shell.execute_reply": "2022-11-01T01:01:05.936939Z"
    },
    "papermill": {
     "duration": 0.040709,
     "end_time": "2022-11-01T01:01:05.937630",
     "exception": false,
     "start_time": "2022-11-01T01:01:05.896921",
     "status": "completed"
    },
    "tags": []
   },
   "outputs": [],
   "source": [
    "# #hide\n",
    "# colors = dict(zip(\n",
    "#     [\"Oceania\", \"Europe\", \"Asia\", \"South America\", \"Middle East\", \"North America\", \"Africa\"],\n",
    "#     [\"#adb0ff\", \"#ffb3ff\", \"#90d595\", \"#e48381\", \"#aafbff\", \"#f7bb5f\", \"#eafb50\"]\n",
    "# ))\n",
    "# group_lk = g.set_index('name')['group'].to_dict()"
   ]
  },
  {
   "cell_type": "code",
   "execution_count": null,
   "id": "gross-drinking",
   "metadata": {
    "papermill": {
     "duration": 0.033248,
     "end_time": "2022-11-01T01:01:06.005115",
     "exception": false,
     "start_time": "2022-11-01T01:01:05.971867",
     "status": "completed"
    },
    "tags": []
   },
   "outputs": [],
   "source": []
  },
  {
   "cell_type": "code",
   "execution_count": 41,
   "id": "subject-macintosh",
   "metadata": {
    "execution": {
     "iopub.execute_input": "2022-11-01T01:01:06.080053Z",
     "iopub.status.busy": "2022-11-01T01:01:06.079311Z",
     "iopub.status.idle": "2022-11-01T01:01:06.083555Z",
     "shell.execute_reply": "2022-11-01T01:01:06.084050Z"
    },
    "papermill": {
     "duration": 0.044906,
     "end_time": "2022-11-01T01:01:06.084208",
     "exception": false,
     "start_time": "2022-11-01T01:01:06.039302",
     "status": "completed"
    },
    "tags": []
   },
   "outputs": [],
   "source": [
    "# #hide\n",
    "# fig, ax = plt.subplots(figsize=(15, 8))\n",
    "\n",
    "# def draw_barchart(current_day):\n",
    "#     dff = g[g['day'].eq(current_day)].sort_values(by='value', ascending=True).tail(10)\n",
    "#     ax.clear()\n",
    "#     ax.barh(dff['name'], dff['value'], color=[colors[group_lk[x]] for x in dff['name']])\n",
    "#     dx = dff['value'].max() / 200\n",
    "    \n",
    "#     for i, (value, name) in enumerate(zip(dff['value'], dff['name'])):\n",
    "#         ax.text(value-dx, i,     name,           size=14, weight=600, ha='right', va='bottom')\n",
    "#         ax.text(value-dx, i-.25, group_lk[name], size=10, color='#444444', ha='right', va='baseline')\n",
    "#         ax.text(value+dx, i,     f'{value:,.0f}',  size=14, ha='left',  va='center')\n",
    "#     ax.text(1, 0.4, current_day, transform=ax.transAxes, color='#777777', size=46, ha='right', weight=800)\n",
    "#     ax.text(0, 1.06, 'Population (thousands)', transform=ax.transAxes, size=12, color='#777777')\n",
    "#     ax.xaxis.set_major_formatter(ticker.StrMethodFormatter('{x:,.0f}'))\n",
    "#     ax.xaxis.set_ticks_position('top')\n",
    "#     ax.tick_params(axis='x', colors='#777777', labelsize=12)\n",
    "#     ax.set_yticks([])\n",
    "#     ax.margins(0, 0.01)\n",
    "#     ax.grid(which='major', axis='x', linestyle='-')\n",
    "#     ax.set_axisbelow(True)\n",
    "    \n",
    "#     ax.text(0, 1.15, 'Coronavirus',\n",
    "#             transform=ax.transAxes, size=24, weight=600, ha='left', va='top')\n",
    "# #     ax.text(1, 0, 'by @pratapvardhan; credit @jburnmurdoch', transform=ax.transAxes, color='#777777', ha='right',\n",
    "# #             bbox=dict(facecolor='white', alpha=0.8, edgecolor='white'))\n",
    "#     plt.box(False)"
   ]
  },
  {
   "cell_type": "code",
   "execution_count": 42,
   "id": "sexual-wages",
   "metadata": {
    "execution": {
     "iopub.execute_input": "2022-11-01T01:01:06.159091Z",
     "iopub.status.busy": "2022-11-01T01:01:06.158357Z",
     "iopub.status.idle": "2022-11-01T01:01:06.161088Z",
     "shell.execute_reply": "2022-11-01T01:01:06.160409Z"
    },
    "papermill": {
     "duration": 0.041946,
     "end_time": "2022-11-01T01:01:06.161219",
     "exception": false,
     "start_time": "2022-11-01T01:01:06.119273",
     "status": "completed"
    },
    "tags": []
   },
   "outputs": [],
   "source": [
    "# #hide_input\n",
    "# fig, ax = plt.subplots(figsize=(15, 8))\n",
    "# animator = animation.FuncAnimation(fig, draw_barchart, frames=range(g.day.values.min(), g.day.values.max()))\n",
    "# HTML(animator.to_jshtml())\n",
    "# # or use animator.to_html5_video() or animator.save() "
   ]
  },
  {
   "cell_type": "code",
   "execution_count": null,
   "id": "australian-container",
   "metadata": {
    "papermill": {
     "duration": 0.034432,
     "end_time": "2022-11-01T01:01:06.230486",
     "exception": false,
     "start_time": "2022-11-01T01:01:06.196054",
     "status": "completed"
    },
    "tags": []
   },
   "outputs": [],
   "source": []
  },
  {
   "cell_type": "code",
   "execution_count": null,
   "id": "mediterranean-pontiac",
   "metadata": {
    "papermill": {
     "duration": 0.034369,
     "end_time": "2022-11-01T01:01:06.299639",
     "exception": false,
     "start_time": "2022-11-01T01:01:06.265270",
     "status": "completed"
    },
    "tags": []
   },
   "outputs": [],
   "source": []
  },
  {
   "cell_type": "code",
   "execution_count": null,
   "id": "aging-legislature",
   "metadata": {
    "papermill": {
     "duration": 0.034428,
     "end_time": "2022-11-01T01:01:06.369209",
     "exception": false,
     "start_time": "2022-11-01T01:01:06.334781",
     "status": "completed"
    },
    "tags": []
   },
   "outputs": [],
   "source": []
  }
 ],
 "metadata": {
  "kernelspec": {
   "display_name": "Python 3",
   "language": "python",
   "name": "python3"
  },
  "language_info": {
   "codemirror_mode": {
    "name": "ipython",
    "version": 3
   },
   "file_extension": ".py",
   "mimetype": "text/x-python",
   "name": "python",
   "nbconvert_exporter": "python",
   "pygments_lexer": "ipython3",
   "version": "3.6.15"
  },
  "papermill": {
   "duration": 7.113198,
   "end_time": "2022-11-01T01:01:06.824992",
   "environment_variables": {},
   "exception": null,
   "input_path": "2020-03-21-covid19exp.ipynb",
   "output_path": "2020-03-21-covid19exp.ipynb",
   "parameters": {},
   "start_time": "2022-11-01T01:00:59.711794",
   "version": "2.0.0"
  }
 },
 "nbformat": 4,
 "nbformat_minor": 5
}