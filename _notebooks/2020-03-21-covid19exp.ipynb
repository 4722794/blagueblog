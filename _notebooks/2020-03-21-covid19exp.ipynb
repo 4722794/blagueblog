{
 "cells": [
  {
   "cell_type": "markdown",
   "id": "muslim-click",
   "metadata": {
    "papermill": {
     "duration": 0.034499,
     "end_time": "2022-02-01T12:13:55.927533",
     "exception": false,
     "start_time": "2022-02-01T12:13:55.893034",
     "status": "completed"
    },
    "tags": []
   },
   "source": [
    "# COVID-19 Case Race\n",
    "> A race chart to see rising cases around the world\n",
    "\n",
    "- author: Hargun Oberoi\n",
    "- image: images/covid-overview.png\n",
    "- hide: false\n",
    "- badges: false"
   ]
  },
  {
   "cell_type": "code",
   "execution_count": 1,
   "id": "proof-material",
   "metadata": {
    "execution": {
     "iopub.execute_input": "2022-02-01T12:13:55.999791Z",
     "iopub.status.busy": "2022-02-01T12:13:55.999281Z",
     "iopub.status.idle": "2022-02-01T12:13:56.314130Z",
     "shell.execute_reply": "2022-02-01T12:13:56.313665Z"
    },
    "papermill": {
     "duration": 0.355441,
     "end_time": "2022-02-01T12:13:56.314258",
     "exception": false,
     "start_time": "2022-02-01T12:13:55.958817",
     "status": "completed"
    },
    "tags": []
   },
   "outputs": [],
   "source": [
    "#hide\n",
    "import numpy as np\n",
    "import pandas as pd\n",
    "from jinja2 import Template\n",
    "from IPython.display import HTML"
   ]
  },
  {
   "cell_type": "code",
   "execution_count": 2,
   "id": "developed-terminology",
   "metadata": {
    "execution": {
     "iopub.execute_input": "2022-02-01T12:13:56.380461Z",
     "iopub.status.busy": "2022-02-01T12:13:56.379921Z",
     "iopub.status.idle": "2022-02-01T12:13:56.381874Z",
     "shell.execute_reply": "2022-02-01T12:13:56.381445Z"
    },
    "papermill": {
     "duration": 0.03707,
     "end_time": "2022-02-01T12:13:56.381975",
     "exception": false,
     "start_time": "2022-02-01T12:13:56.344905",
     "status": "completed"
    },
    "tags": []
   },
   "outputs": [],
   "source": [
    "#hide\n",
    "\n",
    "# FETCH\n",
    "base_url = 'https://raw.githubusercontent.com/pratapvardhan/notebooks/master/covid19/'\n",
    "paths = {\n",
    "    'mapping': base_url + 'mapping_countries.csv',\n",
    "    'overview': base_url + 'overview.tpl'\n",
    "}"
   ]
  },
  {
   "cell_type": "code",
   "execution_count": 3,
   "id": "dynamic-saver",
   "metadata": {
    "execution": {
     "iopub.execute_input": "2022-02-01T12:13:56.451434Z",
     "iopub.status.busy": "2022-02-01T12:13:56.450946Z",
     "iopub.status.idle": "2022-02-01T12:13:56.453867Z",
     "shell.execute_reply": "2022-02-01T12:13:56.453424Z"
    },
    "papermill": {
     "duration": 0.041616,
     "end_time": "2022-02-01T12:13:56.453967",
     "exception": false,
     "start_time": "2022-02-01T12:13:56.412351",
     "status": "completed"
    },
    "tags": []
   },
   "outputs": [
    {
     "data": {
      "text/plain": [
       "'https://raw.githubusercontent.com/pratapvardhan/notebooks/master/covid19/mapping_countries.csv'"
      ]
     },
     "execution_count": 3,
     "metadata": {},
     "output_type": "execute_result"
    }
   ],
   "source": [
    "#hide\n",
    "paths['mapping']"
   ]
  },
  {
   "cell_type": "code",
   "execution_count": 4,
   "id": "urban-software",
   "metadata": {
    "execution": {
     "iopub.execute_input": "2022-02-01T12:13:56.520700Z",
     "iopub.status.busy": "2022-02-01T12:13:56.520174Z",
     "iopub.status.idle": "2022-02-01T12:13:56.522231Z",
     "shell.execute_reply": "2022-02-01T12:13:56.521806Z"
    },
    "papermill": {
     "duration": 0.037379,
     "end_time": "2022-02-01T12:13:56.522333",
     "exception": false,
     "start_time": "2022-02-01T12:13:56.484954",
     "status": "completed"
    },
    "tags": []
   },
   "outputs": [],
   "source": [
    "#hide\n",
    "def get_mappings(url):\n",
    "    df = pd.read_csv(url)\n",
    "    return {\n",
    "        'df': df,\n",
    "        'replace.country': dict(df.dropna(subset=['Name']).set_index('Country')['Name']),\n",
    "        'map.continent': dict(df.set_index('Name')['Continent'])\n",
    "    }"
   ]
  },
  {
   "cell_type": "code",
   "execution_count": 5,
   "id": "intimate-machinery",
   "metadata": {
    "execution": {
     "iopub.execute_input": "2022-02-01T12:13:56.588929Z",
     "iopub.status.busy": "2022-02-01T12:13:56.588403Z",
     "iopub.status.idle": "2022-02-01T12:13:56.622721Z",
     "shell.execute_reply": "2022-02-01T12:13:56.622246Z"
    },
    "papermill": {
     "duration": 0.069735,
     "end_time": "2022-02-01T12:13:56.622829",
     "exception": false,
     "start_time": "2022-02-01T12:13:56.553094",
     "status": "completed"
    },
    "tags": []
   },
   "outputs": [],
   "source": [
    "#hide\n",
    "mapping = get_mappings(paths['mapping'])"
   ]
  },
  {
   "cell_type": "code",
   "execution_count": 6,
   "id": "certified-tactics",
   "metadata": {
    "execution": {
     "iopub.execute_input": "2022-02-01T12:13:56.689398Z",
     "iopub.status.busy": "2022-02-01T12:13:56.688889Z",
     "iopub.status.idle": "2022-02-01T12:13:56.690411Z",
     "shell.execute_reply": "2022-02-01T12:13:56.690798Z"
    },
    "papermill": {
     "duration": 0.037123,
     "end_time": "2022-02-01T12:13:56.690917",
     "exception": false,
     "start_time": "2022-02-01T12:13:56.653794",
     "status": "completed"
    },
    "tags": []
   },
   "outputs": [],
   "source": [
    "#hide\n",
    "def get_template(path):\n",
    "    from urllib.parse import urlparse\n",
    "    if bool(urlparse(path).netloc):\n",
    "        from urllib.request import urlopen\n",
    "        return urlopen(path).read().decode('utf8')\n",
    "    return open(path).read()"
   ]
  },
  {
   "cell_type": "code",
   "execution_count": 7,
   "id": "realistic-blast",
   "metadata": {
    "execution": {
     "iopub.execute_input": "2022-02-01T12:13:56.756981Z",
     "iopub.status.busy": "2022-02-01T12:13:56.756438Z",
     "iopub.status.idle": "2022-02-01T12:13:56.759569Z",
     "shell.execute_reply": "2022-02-01T12:13:56.759946Z"
    },
    "papermill": {
     "duration": 0.038382,
     "end_time": "2022-02-01T12:13:56.760070",
     "exception": false,
     "start_time": "2022-02-01T12:13:56.721688",
     "status": "completed"
    },
    "tags": []
   },
   "outputs": [],
   "source": [
    "#hide\n",
    "def get_frame(name):\n",
    "    url = (\n",
    "        'https://raw.githubusercontent.com/CSSEGISandData/COVID-19/master/csse_covid_19_data/'\n",
    "        f'csse_covid_19_time_series/time_series_covid19_{name}_global.csv')\n",
    "    df = pd.read_csv(url)\n",
    "    # rename countries\n",
    "    df['Country/Region'] = df['Country/Region'].replace(mapping['replace.country'])\n",
    "    return df"
   ]
  },
  {
   "cell_type": "code",
   "execution_count": 8,
   "id": "affiliated-characterization",
   "metadata": {
    "execution": {
     "iopub.execute_input": "2022-02-01T12:13:56.827838Z",
     "iopub.status.busy": "2022-02-01T12:13:56.827302Z",
     "iopub.status.idle": "2022-02-01T12:13:56.828511Z",
     "shell.execute_reply": "2022-02-01T12:13:56.828930Z"
    },
    "papermill": {
     "duration": 0.03812,
     "end_time": "2022-02-01T12:13:56.829056",
     "exception": false,
     "start_time": "2022-02-01T12:13:56.790936",
     "status": "completed"
    },
    "tags": []
   },
   "outputs": [],
   "source": [
    "#hide\n",
    "def get_dates(df):\n",
    "    dt_cols = df.columns[~df.columns.isin(['Province/State', 'Country/Region', 'Lat', 'Long'])]\n",
    "    LAST_DATE_I = -1\n",
    "    # sometimes last column may be empty, then go backwards\n",
    "    for i in range(-1, -len(dt_cols), -1):\n",
    "        if not df[dt_cols[i]].fillna(0).eq(0).all():\n",
    "            LAST_DATE_I = i\n",
    "            break\n",
    "    return LAST_DATE_I, dt_cols"
   ]
  },
  {
   "cell_type": "code",
   "execution_count": 9,
   "id": "recent-optimization",
   "metadata": {
    "execution": {
     "iopub.execute_input": "2022-02-01T12:13:56.894848Z",
     "iopub.status.busy": "2022-02-01T12:13:56.894324Z",
     "iopub.status.idle": "2022-02-01T12:13:57.281346Z",
     "shell.execute_reply": "2022-02-01T12:13:57.281766Z"
    },
    "papermill": {
     "duration": 0.422215,
     "end_time": "2022-02-01T12:13:57.281904",
     "exception": false,
     "start_time": "2022-02-01T12:13:56.859689",
     "status": "completed"
    },
    "tags": []
   },
   "outputs": [],
   "source": [
    "#hide\n",
    "COL_REGION = 'Country/Region'\n",
    "# Confirmed, Recovered, Deaths\n",
    "df = get_frame('confirmed')\n",
    "# dft_: timeseries, dfc_: today country agg\n",
    "dft_cases = df\n",
    "dft_deaths = get_frame('deaths')\n",
    "dft_recovered = get_frame('recovered')\n",
    "LAST_DATE_I, dt_cols = get_dates(df)"
   ]
  },
  {
   "cell_type": "code",
   "execution_count": 10,
   "id": "absolute-copper",
   "metadata": {
    "execution": {
     "iopub.execute_input": "2022-02-01T12:13:57.348744Z",
     "iopub.status.busy": "2022-02-01T12:13:57.348224Z",
     "iopub.status.idle": "2022-02-01T12:13:57.349817Z",
     "shell.execute_reply": "2022-02-01T12:13:57.350195Z"
    },
    "papermill": {
     "duration": 0.037385,
     "end_time": "2022-02-01T12:13:57.350318",
     "exception": false,
     "start_time": "2022-02-01T12:13:57.312933",
     "status": "completed"
    },
    "tags": []
   },
   "outputs": [],
   "source": [
    "#hide\n",
    "LAST_DATE_I, dt_cols = get_dates(df)\n",
    "dt_today =dt_cols[LAST_DATE_I]\n",
    "# dt_5day = dt_cols[LAST_DATE_I - 5]\n",
    "dt_yday = dt_cols[LAST_DATE_I - 1]"
   ]
  },
  {
   "cell_type": "code",
   "execution_count": 11,
   "id": "restricted-sheriff",
   "metadata": {
    "execution": {
     "iopub.execute_input": "2022-02-01T12:13:57.418105Z",
     "iopub.status.busy": "2022-02-01T12:13:57.417587Z",
     "iopub.status.idle": "2022-02-01T12:13:57.424386Z",
     "shell.execute_reply": "2022-02-01T12:13:57.423976Z"
    },
    "papermill": {
     "duration": 0.043155,
     "end_time": "2022-02-01T12:13:57.424496",
     "exception": false,
     "start_time": "2022-02-01T12:13:57.381341",
     "status": "completed"
    },
    "tags": []
   },
   "outputs": [],
   "source": [
    "#hide\n",
    "dfc_cases = dft_cases.groupby(COL_REGION)[dt_today].sum()\n",
    "dfc_deaths = dft_deaths.groupby(COL_REGION)[dt_today].sum()\n",
    "# dfp_cases = dft_cases.groupby(COL_REGION)[dt_5day].sum()\n",
    "# dfp_deaths = dft_deaths.groupby(COL_REGION)[dt_5day].sum()\n",
    "dfp_cases = dft_cases.groupby(COL_REGION)[dt_yday].sum()\n",
    "dfp_deaths = dft_deaths.groupby(COL_REGION)[dt_yday].sum()"
   ]
  },
  {
   "cell_type": "code",
   "execution_count": 12,
   "id": "deluxe-hepatitis",
   "metadata": {
    "execution": {
     "iopub.execute_input": "2022-02-01T12:13:57.492579Z",
     "iopub.status.busy": "2022-02-01T12:13:57.492078Z",
     "iopub.status.idle": "2022-02-01T12:13:57.495709Z",
     "shell.execute_reply": "2022-02-01T12:13:57.496120Z"
    },
    "papermill": {
     "duration": 0.040515,
     "end_time": "2022-02-01T12:13:57.496245",
     "exception": false,
     "start_time": "2022-02-01T12:13:57.455730",
     "status": "completed"
    },
    "tags": []
   },
   "outputs": [],
   "source": [
    "#hide\n",
    "df_table = (pd.DataFrame(dict(Cases = dfc_cases, Deaths = dfc_deaths, PCases = dfp_cases, PDeaths = dfp_deaths))\n",
    "            .sort_values(by = ['Cases','Deaths'], ascending = [False, False])\n",
    "            .reset_index())"
   ]
  },
  {
   "cell_type": "code",
   "execution_count": 13,
   "id": "educational-chancellor",
   "metadata": {
    "execution": {
     "iopub.execute_input": "2022-02-01T12:13:57.571137Z",
     "iopub.status.busy": "2022-02-01T12:13:57.570630Z",
     "iopub.status.idle": "2022-02-01T12:13:57.582580Z",
     "shell.execute_reply": "2022-02-01T12:13:57.582178Z"
    },
    "papermill": {
     "duration": 0.055255,
     "end_time": "2022-02-01T12:13:57.582688",
     "exception": false,
     "start_time": "2022-02-01T12:13:57.527433",
     "status": "completed"
    },
    "tags": []
   },
   "outputs": [
    {
     "data": {
      "text/html": [
       "<div>\n",
       "<style scoped>\n",
       "    .dataframe tbody tr th:only-of-type {\n",
       "        vertical-align: middle;\n",
       "    }\n",
       "\n",
       "    .dataframe tbody tr th {\n",
       "        vertical-align: top;\n",
       "    }\n",
       "\n",
       "    .dataframe thead th {\n",
       "        text-align: right;\n",
       "    }\n",
       "</style>\n",
       "<table border=\"1\" class=\"dataframe\">\n",
       "  <thead>\n",
       "    <tr style=\"text-align: right;\">\n",
       "      <th></th>\n",
       "      <th>Country/Region</th>\n",
       "      <th>Cases</th>\n",
       "      <th>Deaths</th>\n",
       "      <th>PCases</th>\n",
       "      <th>PDeaths</th>\n",
       "      <th>Cases (+)</th>\n",
       "      <th>Deaths (+)</th>\n",
       "      <th>Fatality Rate</th>\n",
       "      <th>Continent</th>\n",
       "    </tr>\n",
       "  </thead>\n",
       "  <tbody>\n",
       "    <tr>\n",
       "      <th>0</th>\n",
       "      <td>US</td>\n",
       "      <td>74941202</td>\n",
       "      <td>886682</td>\n",
       "      <td>74333001</td>\n",
       "      <td>884260</td>\n",
       "      <td>608201</td>\n",
       "      <td>2422</td>\n",
       "      <td>1.18</td>\n",
       "      <td>North America</td>\n",
       "    </tr>\n",
       "    <tr>\n",
       "      <th>1</th>\n",
       "      <td>India</td>\n",
       "      <td>41469499</td>\n",
       "      <td>496242</td>\n",
       "      <td>41302440</td>\n",
       "      <td>495050</td>\n",
       "      <td>167059</td>\n",
       "      <td>1192</td>\n",
       "      <td>1.20</td>\n",
       "      <td>Asia</td>\n",
       "    </tr>\n",
       "    <tr>\n",
       "      <th>2</th>\n",
       "      <td>Brazil</td>\n",
       "      <td>25463530</td>\n",
       "      <td>627589</td>\n",
       "      <td>25360647</td>\n",
       "      <td>627150</td>\n",
       "      <td>102883</td>\n",
       "      <td>439</td>\n",
       "      <td>2.46</td>\n",
       "      <td>South America</td>\n",
       "    </tr>\n",
       "    <tr>\n",
       "      <th>3</th>\n",
       "      <td>France</td>\n",
       "      <td>19266496</td>\n",
       "      <td>131937</td>\n",
       "      <td>19178039</td>\n",
       "      <td>131576</td>\n",
       "      <td>88457</td>\n",
       "      <td>361</td>\n",
       "      <td>0.68</td>\n",
       "      <td>Europe</td>\n",
       "    </tr>\n",
       "    <tr>\n",
       "      <th>4</th>\n",
       "      <td>United Kingdom</td>\n",
       "      <td>17431225</td>\n",
       "      <td>156281</td>\n",
       "      <td>16582263</td>\n",
       "      <td>156222</td>\n",
       "      <td>848962</td>\n",
       "      <td>59</td>\n",
       "      <td>0.90</td>\n",
       "      <td>Europe</td>\n",
       "    </tr>\n",
       "  </tbody>\n",
       "</table>\n",
       "</div>"
      ],
      "text/plain": [
       "   Country/Region     Cases  Deaths    PCases  PDeaths  Cases (+)  Deaths (+)  \\\n",
       "0              US  74941202  886682  74333001   884260     608201        2422   \n",
       "1           India  41469499  496242  41302440   495050     167059        1192   \n",
       "2          Brazil  25463530  627589  25360647   627150     102883         439   \n",
       "3          France  19266496  131937  19178039   131576      88457         361   \n",
       "4  United Kingdom  17431225  156281  16582263   156222     848962          59   \n",
       "\n",
       "   Fatality Rate      Continent  \n",
       "0           1.18  North America  \n",
       "1           1.20           Asia  \n",
       "2           2.46  South America  \n",
       "3           0.68         Europe  \n",
       "4           0.90         Europe  "
      ]
     },
     "execution_count": 13,
     "metadata": {},
     "output_type": "execute_result"
    }
   ],
   "source": [
    "#hide\n",
    "for c in 'Cases, Deaths'.split(', '):\n",
    "    df_table[f'{c} (+)'] = (df_table[c] - df_table[f'P{c}']).clip(0)\n",
    "    #Clip ça veut dire, les chiffres negatif sont interdit\n",
    "df_table['Fatality Rate'] = (100* df_table['Deaths']/ df_table['Cases']).round(2)\n",
    "df_table['Continent'] = df_table['Country/Region'].map(mapping['map.continent'])\n",
    "df_table.head(5)"
   ]
  },
  {
   "cell_type": "code",
   "execution_count": 14,
   "id": "aboriginal-bulgaria",
   "metadata": {
    "execution": {
     "iopub.execute_input": "2022-02-01T12:13:57.651678Z",
     "iopub.status.busy": "2022-02-01T12:13:57.651170Z",
     "iopub.status.idle": "2022-02-01T12:13:57.653075Z",
     "shell.execute_reply": "2022-02-01T12:13:57.652608Z"
    },
    "papermill": {
     "duration": 0.038818,
     "end_time": "2022-02-01T12:13:57.653177",
     "exception": false,
     "start_time": "2022-02-01T12:13:57.614359",
     "status": "completed"
    },
    "tags": []
   },
   "outputs": [],
   "source": [
    "#hide\n",
    "#delete problematic countries from table\n",
    "df_table = df_table[~df_table['Country/Region'].isin(['Cape Verde', 'Cruise Ship', 'Kosovo'])]"
   ]
  },
  {
   "cell_type": "code",
   "execution_count": 15,
   "id": "fantastic-effect",
   "metadata": {
    "execution": {
     "iopub.execute_input": "2022-02-01T12:13:57.737696Z",
     "iopub.status.busy": "2022-02-01T12:13:57.722988Z",
     "iopub.status.idle": "2022-02-01T12:13:57.740576Z",
     "shell.execute_reply": "2022-02-01T12:13:57.740173Z"
    },
    "papermill": {
     "duration": 0.056194,
     "end_time": "2022-02-01T12:13:57.740685",
     "exception": false,
     "start_time": "2022-02-01T12:13:57.684491",
     "status": "completed"
    },
    "tags": []
   },
   "outputs": [
    {
     "data": {
      "text/html": [
       "<div>\n",
       "<style scoped>\n",
       "    .dataframe tbody tr th:only-of-type {\n",
       "        vertical-align: middle;\n",
       "    }\n",
       "\n",
       "    .dataframe tbody tr th {\n",
       "        vertical-align: top;\n",
       "    }\n",
       "\n",
       "    .dataframe thead th {\n",
       "        text-align: right;\n",
       "    }\n",
       "</style>\n",
       "<table border=\"1\" class=\"dataframe\">\n",
       "  <thead>\n",
       "    <tr style=\"text-align: right;\">\n",
       "      <th></th>\n",
       "      <th>Country/Region</th>\n",
       "      <th>Cases</th>\n",
       "      <th>Deaths</th>\n",
       "      <th>PCases</th>\n",
       "      <th>PDeaths</th>\n",
       "      <th>Cases (+)</th>\n",
       "      <th>Deaths (+)</th>\n",
       "      <th>Fatality Rate</th>\n",
       "      <th>Continent</th>\n",
       "    </tr>\n",
       "  </thead>\n",
       "  <tbody>\n",
       "    <tr>\n",
       "      <th>0</th>\n",
       "      <td>US</td>\n",
       "      <td>74941202</td>\n",
       "      <td>886682</td>\n",
       "      <td>74333001</td>\n",
       "      <td>884260</td>\n",
       "      <td>608201</td>\n",
       "      <td>2422</td>\n",
       "      <td>1.2</td>\n",
       "      <td>North America</td>\n",
       "    </tr>\n",
       "    <tr>\n",
       "      <th>1</th>\n",
       "      <td>India</td>\n",
       "      <td>41469499</td>\n",
       "      <td>496242</td>\n",
       "      <td>41302440</td>\n",
       "      <td>495050</td>\n",
       "      <td>167059</td>\n",
       "      <td>1192</td>\n",
       "      <td>1.2</td>\n",
       "      <td>Asia</td>\n",
       "    </tr>\n",
       "    <tr>\n",
       "      <th>2</th>\n",
       "      <td>Brazil</td>\n",
       "      <td>25463530</td>\n",
       "      <td>627589</td>\n",
       "      <td>25360647</td>\n",
       "      <td>627150</td>\n",
       "      <td>102883</td>\n",
       "      <td>439</td>\n",
       "      <td>2.5</td>\n",
       "      <td>South America</td>\n",
       "    </tr>\n",
       "    <tr>\n",
       "      <th>3</th>\n",
       "      <td>France</td>\n",
       "      <td>19266496</td>\n",
       "      <td>131937</td>\n",
       "      <td>19178039</td>\n",
       "      <td>131576</td>\n",
       "      <td>88457</td>\n",
       "      <td>361</td>\n",
       "      <td>0.7</td>\n",
       "      <td>Europe</td>\n",
       "    </tr>\n",
       "    <tr>\n",
       "      <th>4</th>\n",
       "      <td>United Kingdom</td>\n",
       "      <td>17431225</td>\n",
       "      <td>156281</td>\n",
       "      <td>16582263</td>\n",
       "      <td>156222</td>\n",
       "      <td>848962</td>\n",
       "      <td>59</td>\n",
       "      <td>0.9</td>\n",
       "      <td>Europe</td>\n",
       "    </tr>\n",
       "  </tbody>\n",
       "</table>\n",
       "</div>"
      ],
      "text/plain": [
       "   Country/Region     Cases  Deaths    PCases  PDeaths  Cases (+)  Deaths (+)  \\\n",
       "0              US  74941202  886682  74333001   884260     608201        2422   \n",
       "1           India  41469499  496242  41302440   495050     167059        1192   \n",
       "2          Brazil  25463530  627589  25360647   627150     102883         439   \n",
       "3          France  19266496  131937  19178039   131576      88457         361   \n",
       "4  United Kingdom  17431225  156281  16582263   156222     848962          59   \n",
       "\n",
       "   Fatality Rate      Continent  \n",
       "0            1.2  North America  \n",
       "1            1.2           Asia  \n",
       "2            2.5  South America  \n",
       "3            0.7         Europe  \n",
       "4            0.9         Europe  "
      ]
     },
     "execution_count": 15,
     "metadata": {},
     "output_type": "execute_result"
    }
   ],
   "source": [
    "#hide\n",
    "df_table = (pd.DataFrame(dict(Cases=dfc_cases, Deaths=dfc_deaths, PCases=dfp_cases, PDeaths=dfp_deaths))\n",
    "             .sort_values(by=['Cases', 'Deaths'], ascending=[False, False])\n",
    "             .reset_index())\n",
    "df_table.rename(columns={'index': 'Country/Region'}, inplace=True)\n",
    "for c in 'Cases, Deaths'.split(', '):\n",
    "    df_table[f'{c} (+)'] = (df_table[c] - df_table[f'P{c}']).clip(0)  # DATA BUG\n",
    "df_table['Fatality Rate'] = (100 * df_table['Deaths'] / df_table['Cases']).round(1)\n",
    "df_table['Continent'] = df_table['Country/Region'].map(mapping['map.continent'])\n",
    "df_table.head(5)"
   ]
  },
  {
   "cell_type": "code",
   "execution_count": 16,
   "id": "fewer-occasion",
   "metadata": {
    "execution": {
     "iopub.execute_input": "2022-02-01T12:13:57.810289Z",
     "iopub.status.busy": "2022-02-01T12:13:57.809765Z",
     "iopub.status.idle": "2022-02-01T12:13:57.811745Z",
     "shell.execute_reply": "2022-02-01T12:13:57.811264Z"
    },
    "papermill": {
     "duration": 0.039012,
     "end_time": "2022-02-01T12:13:57.811847",
     "exception": false,
     "start_time": "2022-02-01T12:13:57.772835",
     "status": "completed"
    },
    "tags": []
   },
   "outputs": [],
   "source": [
    "#hide\n",
    "#delete problematic countries from table\n",
    "df_table = df_table[~df_table['Country/Region'].isin(['Cape Verde', 'Cruise Ship', 'Kosovo'])]"
   ]
  },
  {
   "cell_type": "code",
   "execution_count": 17,
   "id": "related-center",
   "metadata": {
    "execution": {
     "iopub.execute_input": "2022-02-01T12:13:57.892595Z",
     "iopub.status.busy": "2022-02-01T12:13:57.892092Z",
     "iopub.status.idle": "2022-02-01T12:13:57.894203Z",
     "shell.execute_reply": "2022-02-01T12:13:57.893807Z"
    },
    "papermill": {
     "duration": 0.050897,
     "end_time": "2022-02-01T12:13:57.894313",
     "exception": false,
     "start_time": "2022-02-01T12:13:57.843416",
     "status": "completed"
    },
    "tags": []
   },
   "outputs": [],
   "source": [
    "#hide\n",
    "metrics = [df_table.columns[index] for index in [1,2,5,6]]\n",
    "# s_china = df_table[df_table['Country/Region'].eq('China')][metrics].sum().add_prefix('China ')\n",
    "s_us = df_table[df_table['Country/Region'].eq('US')][metrics].sum().add_prefix('US ')\n",
    "s_eu = df_table[df_table['Continent'].eq('Europe')][metrics].sum().add_prefix('EU ')\n",
    "s_ind = df_table[df_table['Country/Region'].eq('India')][metrics].sum().add_prefix('India ')\n",
    "summary = {'updated': pd.to_datetime(dt_today), 'since': pd.to_datetime(dt_yday)}\n",
    "summary = {'updated': pd.to_datetime(dt_today), 'since': pd.to_datetime(dt_yday)}\n",
    "summary = {**summary, **df_table[metrics].sum(), **s_ind, **s_us, **s_eu}"
   ]
  },
  {
   "cell_type": "code",
   "execution_count": 18,
   "id": "engaging-syndrome",
   "metadata": {
    "execution": {
     "iopub.execute_input": "2022-02-01T12:13:57.962101Z",
     "iopub.status.busy": "2022-02-01T12:13:57.961593Z",
     "iopub.status.idle": "2022-02-01T12:13:57.975945Z",
     "shell.execute_reply": "2022-02-01T12:13:57.975547Z"
    },
    "papermill": {
     "duration": 0.049995,
     "end_time": "2022-02-01T12:13:57.976054",
     "exception": false,
     "start_time": "2022-02-01T12:13:57.926059",
     "status": "completed"
    },
    "tags": []
   },
   "outputs": [],
   "source": [
    "#hide\n",
    "dft_ct_new_cases = dft_cases.groupby(COL_REGION)[dt_cols].sum().diff(axis=1).fillna(0).astype(int)"
   ]
  },
  {
   "cell_type": "code",
   "execution_count": 19,
   "id": "neutral-assignment",
   "metadata": {
    "execution": {
     "iopub.execute_input": "2022-02-01T12:13:58.045344Z",
     "iopub.status.busy": "2022-02-01T12:13:58.044833Z",
     "iopub.status.idle": "2022-02-01T12:13:58.048103Z",
     "shell.execute_reply": "2022-02-01T12:13:58.047674Z"
    },
    "papermill": {
     "duration": 0.040419,
     "end_time": "2022-02-01T12:13:58.048204",
     "exception": false,
     "start_time": "2022-02-01T12:13:58.007785",
     "status": "completed"
    },
    "tags": []
   },
   "outputs": [],
   "source": [
    "#hide\n",
    "everydaycases = dft_ct_new_cases.cumsum(axis=1)"
   ]
  },
  {
   "cell_type": "code",
   "execution_count": 20,
   "id": "parliamentary-calgary",
   "metadata": {
    "execution": {
     "iopub.execute_input": "2022-02-01T12:13:58.116062Z",
     "iopub.status.busy": "2022-02-01T12:13:58.115251Z",
     "iopub.status.idle": "2022-02-01T12:13:58.701703Z",
     "shell.execute_reply": "2022-02-01T12:13:58.701226Z"
    },
    "papermill": {
     "duration": 0.6219,
     "end_time": "2022-02-01T12:13:58.701825",
     "exception": false,
     "start_time": "2022-02-01T12:13:58.079925",
     "status": "completed"
    },
    "tags": []
   },
   "outputs": [],
   "source": [
    "#hide\n",
    "import pandas as pd\n",
    "import matplotlib.pyplot as plt\n",
    "import matplotlib.ticker as ticker\n",
    "import matplotlib.animation as animation\n",
    "from IPython.display import HTML"
   ]
  },
  {
   "cell_type": "code",
   "execution_count": 21,
   "id": "lasting-extraction",
   "metadata": {
    "execution": {
     "iopub.execute_input": "2022-02-01T12:13:58.770087Z",
     "iopub.status.busy": "2022-02-01T12:13:58.769581Z",
     "iopub.status.idle": "2022-02-01T12:13:58.774766Z",
     "shell.execute_reply": "2022-02-01T12:13:58.775208Z"
    },
    "papermill": {
     "duration": 0.041846,
     "end_time": "2022-02-01T12:13:58.775330",
     "exception": false,
     "start_time": "2022-02-01T12:13:58.733484",
     "status": "completed"
    },
    "tags": []
   },
   "outputs": [],
   "source": [
    "#hide\n",
    "t = everydaycases.stack()"
   ]
  },
  {
   "cell_type": "code",
   "execution_count": 22,
   "id": "premier-sleeve",
   "metadata": {
    "execution": {
     "iopub.execute_input": "2022-02-01T12:13:58.846151Z",
     "iopub.status.busy": "2022-02-01T12:13:58.842409Z",
     "iopub.status.idle": "2022-02-01T12:13:58.852396Z",
     "shell.execute_reply": "2022-02-01T12:13:58.851897Z"
    },
    "papermill": {
     "duration": 0.045367,
     "end_time": "2022-02-01T12:13:58.852507",
     "exception": false,
     "start_time": "2022-02-01T12:13:58.807140",
     "status": "completed"
    },
    "tags": []
   },
   "outputs": [],
   "source": [
    "#hide\n",
    "g = t.reset_index(['Country/Region'])"
   ]
  },
  {
   "cell_type": "code",
   "execution_count": 23,
   "id": "distributed-pittsburgh",
   "metadata": {
    "execution": {
     "iopub.execute_input": "2022-02-01T12:13:58.919529Z",
     "iopub.status.busy": "2022-02-01T12:13:58.919013Z",
     "iopub.status.idle": "2022-02-01T12:13:58.920858Z",
     "shell.execute_reply": "2022-02-01T12:13:58.920383Z"
    },
    "papermill": {
     "duration": 0.036843,
     "end_time": "2022-02-01T12:13:58.920963",
     "exception": false,
     "start_time": "2022-02-01T12:13:58.884120",
     "status": "completed"
    },
    "tags": []
   },
   "outputs": [],
   "source": [
    "#hide\n",
    "g.index.name = 'date'"
   ]
  },
  {
   "cell_type": "code",
   "execution_count": 24,
   "id": "naked-donor",
   "metadata": {
    "execution": {
     "iopub.execute_input": "2022-02-01T12:13:58.987943Z",
     "iopub.status.busy": "2022-02-01T12:13:58.987420Z",
     "iopub.status.idle": "2022-02-01T12:13:58.990514Z",
     "shell.execute_reply": "2022-02-01T12:13:58.990889Z"
    },
    "papermill": {
     "duration": 0.038208,
     "end_time": "2022-02-01T12:13:58.991014",
     "exception": false,
     "start_time": "2022-02-01T12:13:58.952806",
     "status": "completed"
    },
    "tags": []
   },
   "outputs": [],
   "source": [
    "# #hide\n",
    "# g = g.reset_index(['date'])"
   ]
  },
  {
   "cell_type": "code",
   "execution_count": 25,
   "id": "incomplete-mustang",
   "metadata": {
    "execution": {
     "iopub.execute_input": "2022-02-01T12:13:59.057849Z",
     "iopub.status.busy": "2022-02-01T12:13:59.057303Z",
     "iopub.status.idle": "2022-02-01T12:13:59.059339Z",
     "shell.execute_reply": "2022-02-01T12:13:59.058851Z"
    },
    "papermill": {
     "duration": 0.036764,
     "end_time": "2022-02-01T12:13:59.059443",
     "exception": false,
     "start_time": "2022-02-01T12:13:59.022679",
     "status": "completed"
    },
    "tags": []
   },
   "outputs": [],
   "source": [
    "#hide\n",
    "# g.head()"
   ]
  },
  {
   "cell_type": "code",
   "execution_count": 26,
   "id": "specific-kruger",
   "metadata": {
    "execution": {
     "iopub.execute_input": "2022-02-01T12:13:59.126640Z",
     "iopub.status.busy": "2022-02-01T12:13:59.126122Z",
     "iopub.status.idle": "2022-02-01T12:13:59.128007Z",
     "shell.execute_reply": "2022-02-01T12:13:59.128391Z"
    },
    "papermill": {
     "duration": 0.037108,
     "end_time": "2022-02-01T12:13:59.128521",
     "exception": false,
     "start_time": "2022-02-01T12:13:59.091413",
     "status": "completed"
    },
    "tags": []
   },
   "outputs": [],
   "source": [
    "#hide\n",
    "# g.columns = ['date','country','cases']"
   ]
  },
  {
   "cell_type": "code",
   "execution_count": 27,
   "id": "tender-conversion",
   "metadata": {
    "execution": {
     "iopub.execute_input": "2022-02-01T12:13:59.195232Z",
     "iopub.status.busy": "2022-02-01T12:13:59.194735Z",
     "iopub.status.idle": "2022-02-01T12:13:59.196494Z",
     "shell.execute_reply": "2022-02-01T12:13:59.196026Z"
    },
    "papermill": {
     "duration": 0.03631,
     "end_time": "2022-02-01T12:13:59.196593",
     "exception": false,
     "start_time": "2022-02-01T12:13:59.160283",
     "status": "completed"
    },
    "tags": []
   },
   "outputs": [],
   "source": [
    "#hide\n",
    "# g['continent'] = g.country"
   ]
  },
  {
   "cell_type": "code",
   "execution_count": 28,
   "id": "substantial-wilderness",
   "metadata": {
    "execution": {
     "iopub.execute_input": "2022-02-01T12:13:59.264247Z",
     "iopub.status.busy": "2022-02-01T12:13:59.263731Z",
     "iopub.status.idle": "2022-02-01T12:13:59.267361Z",
     "shell.execute_reply": "2022-02-01T12:13:59.266948Z"
    },
    "papermill": {
     "duration": 0.039162,
     "end_time": "2022-02-01T12:13:59.267473",
     "exception": false,
     "start_time": "2022-02-01T12:13:59.228311",
     "status": "completed"
    },
    "tags": []
   },
   "outputs": [],
   "source": [
    "#hide\n",
    "# cols = list(g.columns.values)"
   ]
  },
  {
   "cell_type": "code",
   "execution_count": 29,
   "id": "solved-farming",
   "metadata": {
    "execution": {
     "iopub.execute_input": "2022-02-01T12:13:59.334038Z",
     "iopub.status.busy": "2022-02-01T12:13:59.333533Z",
     "iopub.status.idle": "2022-02-01T12:13:59.335268Z",
     "shell.execute_reply": "2022-02-01T12:13:59.334798Z"
    },
    "papermill": {
     "duration": 0.036323,
     "end_time": "2022-02-01T12:13:59.335370",
     "exception": false,
     "start_time": "2022-02-01T12:13:59.299047",
     "status": "completed"
    },
    "tags": []
   },
   "outputs": [],
   "source": [
    "#hide\n",
    "# cols.insert(0, cols.pop())"
   ]
  },
  {
   "cell_type": "code",
   "execution_count": 30,
   "id": "executed-adoption",
   "metadata": {
    "execution": {
     "iopub.execute_input": "2022-02-01T12:13:59.402570Z",
     "iopub.status.busy": "2022-02-01T12:13:59.402063Z",
     "iopub.status.idle": "2022-02-01T12:13:59.403984Z",
     "shell.execute_reply": "2022-02-01T12:13:59.403606Z"
    },
    "papermill": {
     "duration": 0.036931,
     "end_time": "2022-02-01T12:13:59.404088",
     "exception": false,
     "start_time": "2022-02-01T12:13:59.367157",
     "status": "completed"
    },
    "tags": []
   },
   "outputs": [],
   "source": [
    "#hide\n",
    "# g = g[cols]"
   ]
  },
  {
   "cell_type": "code",
   "execution_count": 31,
   "id": "subject-dublin",
   "metadata": {
    "execution": {
     "iopub.execute_input": "2022-02-01T12:13:59.470518Z",
     "iopub.status.busy": "2022-02-01T12:13:59.470029Z",
     "iopub.status.idle": "2022-02-01T12:13:59.472102Z",
     "shell.execute_reply": "2022-02-01T12:13:59.471711Z"
    },
    "papermill": {
     "duration": 0.036383,
     "end_time": "2022-02-01T12:13:59.472203",
     "exception": false,
     "start_time": "2022-02-01T12:13:59.435820",
     "status": "completed"
    },
    "tags": []
   },
   "outputs": [],
   "source": [
    "#hide\n",
    "# g['continent'] = g['continent'].map(mapping['map.continent'])"
   ]
  },
  {
   "cell_type": "code",
   "execution_count": 32,
   "id": "freelance-scout",
   "metadata": {
    "execution": {
     "iopub.execute_input": "2022-02-01T12:13:59.537970Z",
     "iopub.status.busy": "2022-02-01T12:13:59.537433Z",
     "iopub.status.idle": "2022-02-01T12:13:59.540484Z",
     "shell.execute_reply": "2022-02-01T12:13:59.540094Z"
    },
    "papermill": {
     "duration": 0.036696,
     "end_time": "2022-02-01T12:13:59.540589",
     "exception": false,
     "start_time": "2022-02-01T12:13:59.503893",
     "status": "completed"
    },
    "tags": []
   },
   "outputs": [],
   "source": [
    "#hide\n",
    "# g.head()"
   ]
  },
  {
   "cell_type": "code",
   "execution_count": 33,
   "id": "limited-engine",
   "metadata": {
    "execution": {
     "iopub.execute_input": "2022-02-01T12:13:59.606908Z",
     "iopub.status.busy": "2022-02-01T12:13:59.606410Z",
     "iopub.status.idle": "2022-02-01T12:13:59.608129Z",
     "shell.execute_reply": "2022-02-01T12:13:59.608527Z"
    },
    "papermill": {
     "duration": 0.03659,
     "end_time": "2022-02-01T12:13:59.608641",
     "exception": false,
     "start_time": "2022-02-01T12:13:59.572051",
     "status": "completed"
    },
    "tags": []
   },
   "outputs": [],
   "source": [
    "# hide\n",
    "# g['date'] = g['date'].astype('datetime64[ns]')"
   ]
  },
  {
   "cell_type": "code",
   "execution_count": 34,
   "id": "sophisticated-supervisor",
   "metadata": {
    "execution": {
     "iopub.execute_input": "2022-02-01T12:13:59.675685Z",
     "iopub.status.busy": "2022-02-01T12:13:59.675162Z",
     "iopub.status.idle": "2022-02-01T12:13:59.676965Z",
     "shell.execute_reply": "2022-02-01T12:13:59.676491Z"
    },
    "papermill": {
     "duration": 0.036488,
     "end_time": "2022-02-01T12:13:59.677065",
     "exception": false,
     "start_time": "2022-02-01T12:13:59.640577",
     "status": "completed"
    },
    "tags": []
   },
   "outputs": [],
   "source": [
    "#hide\n",
    "# g['date'] = g.date.dt.dayofyear"
   ]
  },
  {
   "cell_type": "code",
   "execution_count": 35,
   "id": "inside-dubai",
   "metadata": {
    "execution": {
     "iopub.execute_input": "2022-02-01T12:13:59.743450Z",
     "iopub.status.busy": "2022-02-01T12:13:59.742933Z",
     "iopub.status.idle": "2022-02-01T12:13:59.746305Z",
     "shell.execute_reply": "2022-02-01T12:13:59.745903Z"
    },
    "papermill": {
     "duration": 0.038044,
     "end_time": "2022-02-01T12:13:59.746413",
     "exception": false,
     "start_time": "2022-02-01T12:13:59.708369",
     "status": "completed"
    },
    "tags": []
   },
   "outputs": [],
   "source": [
    "#hide\n",
    "# g = g.rename(columns= {'continent':'group','country':'name','cases':'value'})"
   ]
  },
  {
   "cell_type": "code",
   "execution_count": 36,
   "id": "fleet-motorcycle",
   "metadata": {
    "execution": {
     "iopub.execute_input": "2022-02-01T12:13:59.813202Z",
     "iopub.status.busy": "2022-02-01T12:13:59.812673Z",
     "iopub.status.idle": "2022-02-01T12:13:59.814743Z",
     "shell.execute_reply": "2022-02-01T12:13:59.814322Z"
    },
    "papermill": {
     "duration": 0.036683,
     "end_time": "2022-02-01T12:13:59.814848",
     "exception": false,
     "start_time": "2022-02-01T12:13:59.778165",
     "status": "completed"
    },
    "tags": []
   },
   "outputs": [],
   "source": [
    "#hide\n",
    "# cols = ['name','group','day','value']"
   ]
  },
  {
   "cell_type": "code",
   "execution_count": 37,
   "id": "continued-sleeping",
   "metadata": {
    "execution": {
     "iopub.execute_input": "2022-02-01T12:13:59.881542Z",
     "iopub.status.busy": "2022-02-01T12:13:59.881018Z",
     "iopub.status.idle": "2022-02-01T12:13:59.882692Z",
     "shell.execute_reply": "2022-02-01T12:13:59.883056Z"
    },
    "papermill": {
     "duration": 0.036664,
     "end_time": "2022-02-01T12:13:59.883174",
     "exception": false,
     "start_time": "2022-02-01T12:13:59.846510",
     "status": "completed"
    },
    "tags": []
   },
   "outputs": [],
   "source": [
    "#hide\n",
    "# g.rename(columns= {'date':'day'},inplace = True)"
   ]
  },
  {
   "cell_type": "code",
   "execution_count": 38,
   "id": "major-fight",
   "metadata": {
    "execution": {
     "iopub.execute_input": "2022-02-01T12:13:59.950292Z",
     "iopub.status.busy": "2022-02-01T12:13:59.949761Z",
     "iopub.status.idle": "2022-02-01T12:13:59.951269Z",
     "shell.execute_reply": "2022-02-01T12:13:59.951658Z"
    },
    "papermill": {
     "duration": 0.0368,
     "end_time": "2022-02-01T12:13:59.951782",
     "exception": false,
     "start_time": "2022-02-01T12:13:59.914982",
     "status": "completed"
    },
    "tags": []
   },
   "outputs": [],
   "source": [
    "#hide\n",
    "# g = g[cols]"
   ]
  },
  {
   "cell_type": "code",
   "execution_count": 39,
   "id": "structured-mobile",
   "metadata": {
    "execution": {
     "iopub.execute_input": "2022-02-01T12:14:00.018396Z",
     "iopub.status.busy": "2022-02-01T12:14:00.017863Z",
     "iopub.status.idle": "2022-02-01T12:14:00.021052Z",
     "shell.execute_reply": "2022-02-01T12:14:00.021441Z"
    },
    "papermill": {
     "duration": 0.038354,
     "end_time": "2022-02-01T12:14:00.021595",
     "exception": false,
     "start_time": "2022-02-01T12:13:59.983241",
     "status": "completed"
    },
    "tags": []
   },
   "outputs": [],
   "source": [
    "# #hide\n",
    "# g = g[g.group.notna()]"
   ]
  },
  {
   "cell_type": "code",
   "execution_count": 40,
   "id": "determined-closing",
   "metadata": {
    "execution": {
     "iopub.execute_input": "2022-02-01T12:14:00.088864Z",
     "iopub.status.busy": "2022-02-01T12:14:00.088323Z",
     "iopub.status.idle": "2022-02-01T12:14:00.089958Z",
     "shell.execute_reply": "2022-02-01T12:14:00.090330Z"
    },
    "papermill": {
     "duration": 0.036897,
     "end_time": "2022-02-01T12:14:00.090454",
     "exception": false,
     "start_time": "2022-02-01T12:14:00.053557",
     "status": "completed"
    },
    "tags": []
   },
   "outputs": [],
   "source": [
    "# #hide\n",
    "# colors = dict(zip(\n",
    "#     [\"Oceania\", \"Europe\", \"Asia\", \"South America\", \"Middle East\", \"North America\", \"Africa\"],\n",
    "#     [\"#adb0ff\", \"#ffb3ff\", \"#90d595\", \"#e48381\", \"#aafbff\", \"#f7bb5f\", \"#eafb50\"]\n",
    "# ))\n",
    "# group_lk = g.set_index('name')['group'].to_dict()"
   ]
  },
  {
   "cell_type": "code",
   "execution_count": null,
   "id": "gross-drinking",
   "metadata": {
    "papermill": {
     "duration": 0.031522,
     "end_time": "2022-02-01T12:14:00.153617",
     "exception": false,
     "start_time": "2022-02-01T12:14:00.122095",
     "status": "completed"
    },
    "tags": []
   },
   "outputs": [],
   "source": []
  },
  {
   "cell_type": "code",
   "execution_count": 41,
   "id": "subject-macintosh",
   "metadata": {
    "execution": {
     "iopub.execute_input": "2022-02-01T12:14:00.221211Z",
     "iopub.status.busy": "2022-02-01T12:14:00.220671Z",
     "iopub.status.idle": "2022-02-01T12:14:00.222366Z",
     "shell.execute_reply": "2022-02-01T12:14:00.222759Z"
    },
    "papermill": {
     "duration": 0.03757,
     "end_time": "2022-02-01T12:14:00.222880",
     "exception": false,
     "start_time": "2022-02-01T12:14:00.185310",
     "status": "completed"
    },
    "tags": []
   },
   "outputs": [],
   "source": [
    "# #hide\n",
    "# fig, ax = plt.subplots(figsize=(15, 8))\n",
    "\n",
    "# def draw_barchart(current_day):\n",
    "#     dff = g[g['day'].eq(current_day)].sort_values(by='value', ascending=True).tail(10)\n",
    "#     ax.clear()\n",
    "#     ax.barh(dff['name'], dff['value'], color=[colors[group_lk[x]] for x in dff['name']])\n",
    "#     dx = dff['value'].max() / 200\n",
    "    \n",
    "#     for i, (value, name) in enumerate(zip(dff['value'], dff['name'])):\n",
    "#         ax.text(value-dx, i,     name,           size=14, weight=600, ha='right', va='bottom')\n",
    "#         ax.text(value-dx, i-.25, group_lk[name], size=10, color='#444444', ha='right', va='baseline')\n",
    "#         ax.text(value+dx, i,     f'{value:,.0f}',  size=14, ha='left',  va='center')\n",
    "#     ax.text(1, 0.4, current_day, transform=ax.transAxes, color='#777777', size=46, ha='right', weight=800)\n",
    "#     ax.text(0, 1.06, 'Population (thousands)', transform=ax.transAxes, size=12, color='#777777')\n",
    "#     ax.xaxis.set_major_formatter(ticker.StrMethodFormatter('{x:,.0f}'))\n",
    "#     ax.xaxis.set_ticks_position('top')\n",
    "#     ax.tick_params(axis='x', colors='#777777', labelsize=12)\n",
    "#     ax.set_yticks([])\n",
    "#     ax.margins(0, 0.01)\n",
    "#     ax.grid(which='major', axis='x', linestyle='-')\n",
    "#     ax.set_axisbelow(True)\n",
    "    \n",
    "#     ax.text(0, 1.15, 'Coronavirus',\n",
    "#             transform=ax.transAxes, size=24, weight=600, ha='left', va='top')\n",
    "# #     ax.text(1, 0, 'by @pratapvardhan; credit @jburnmurdoch', transform=ax.transAxes, color='#777777', ha='right',\n",
    "# #             bbox=dict(facecolor='white', alpha=0.8, edgecolor='white'))\n",
    "#     plt.box(False)"
   ]
  },
  {
   "cell_type": "code",
   "execution_count": 42,
   "id": "sexual-wages",
   "metadata": {
    "execution": {
     "iopub.execute_input": "2022-02-01T12:14:00.290438Z",
     "iopub.status.busy": "2022-02-01T12:14:00.289909Z",
     "iopub.status.idle": "2022-02-01T12:14:00.293020Z",
     "shell.execute_reply": "2022-02-01T12:14:00.293415Z"
    },
    "papermill": {
     "duration": 0.038847,
     "end_time": "2022-02-01T12:14:00.293560",
     "exception": false,
     "start_time": "2022-02-01T12:14:00.254713",
     "status": "completed"
    },
    "tags": []
   },
   "outputs": [],
   "source": [
    "# #hide_input\n",
    "# fig, ax = plt.subplots(figsize=(15, 8))\n",
    "# animator = animation.FuncAnimation(fig, draw_barchart, frames=range(g.day.values.min(), g.day.values.max()))\n",
    "# HTML(animator.to_jshtml())\n",
    "# # or use animator.to_html5_video() or animator.save() "
   ]
  },
  {
   "cell_type": "code",
   "execution_count": null,
   "id": "australian-container",
   "metadata": {
    "papermill": {
     "duration": 0.031507,
     "end_time": "2022-02-01T12:14:00.356951",
     "exception": false,
     "start_time": "2022-02-01T12:14:00.325444",
     "status": "completed"
    },
    "tags": []
   },
   "outputs": [],
   "source": []
  },
  {
   "cell_type": "code",
   "execution_count": null,
   "id": "mediterranean-pontiac",
   "metadata": {
    "papermill": {
     "duration": 0.031372,
     "end_time": "2022-02-01T12:14:00.419674",
     "exception": false,
     "start_time": "2022-02-01T12:14:00.388302",
     "status": "completed"
    },
    "tags": []
   },
   "outputs": [],
   "source": []
  },
  {
   "cell_type": "code",
   "execution_count": null,
   "id": "aging-legislature",
   "metadata": {
    "papermill": {
     "duration": 0.0315,
     "end_time": "2022-02-01T12:14:00.482932",
     "exception": false,
     "start_time": "2022-02-01T12:14:00.451432",
     "status": "completed"
    },
    "tags": []
   },
   "outputs": [],
   "source": []
  }
 ],
 "metadata": {
  "kernelspec": {
   "display_name": "Python 3",
   "language": "python",
   "name": "python3"
  },
  "language_info": {
   "codemirror_mode": {
    "name": "ipython",
    "version": 3
   },
   "file_extension": ".py",
   "mimetype": "text/x-python",
   "name": "python",
   "nbconvert_exporter": "python",
   "pygments_lexer": "ipython3",
   "version": "3.6.15"
  },
  "papermill": {
   "duration": 5.867381,
   "end_time": "2022-02-01T12:14:00.832425",
   "environment_variables": {},
   "exception": null,
   "input_path": "2020-03-21-covid19exp.ipynb",
   "output_path": "2020-03-21-covid19exp.ipynb",
   "parameters": {},
   "start_time": "2022-02-01T12:13:54.965044",
   "version": "2.0.0"
  }
 },
 "nbformat": 4,
 "nbformat_minor": 5
}