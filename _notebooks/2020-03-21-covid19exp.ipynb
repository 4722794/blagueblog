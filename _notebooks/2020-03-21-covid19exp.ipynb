{
 "cells": [
  {
   "cell_type": "markdown",
   "id": "muslim-click",
   "metadata": {
    "papermill": {
     "duration": 0.038488,
     "end_time": "2021-03-27T00:06:01.407584",
     "exception": false,
     "start_time": "2021-03-27T00:06:01.369096",
     "status": "completed"
    },
    "tags": []
   },
   "source": [
    "# COVID-19 Case Race\n",
    "> A race chart to see rising cases around the world\n",
    "\n",
    "- author: Hargun Oberoi\n",
    "- image: images/covid-overview.png\n",
    "- hide: false\n",
    "- badges: false"
   ]
  },
  {
   "cell_type": "code",
   "execution_count": 1,
   "id": "proof-material",
   "metadata": {
    "execution": {
     "iopub.execute_input": "2021-03-27T00:06:01.488568Z",
     "iopub.status.busy": "2021-03-27T00:06:01.487970Z",
     "iopub.status.idle": "2021-03-27T00:06:01.805953Z",
     "shell.execute_reply": "2021-03-27T00:06:01.805458Z"
    },
    "papermill": {
     "duration": 0.366476,
     "end_time": "2021-03-27T00:06:01.806111",
     "exception": false,
     "start_time": "2021-03-27T00:06:01.439635",
     "status": "completed"
    },
    "tags": []
   },
   "outputs": [],
   "source": [
    "#hide\n",
    "import numpy as np\n",
    "import pandas as pd\n",
    "from jinja2 import Template\n",
    "from IPython.display import HTML"
   ]
  },
  {
   "cell_type": "code",
   "execution_count": 2,
   "id": "developed-terminology",
   "metadata": {
    "execution": {
     "iopub.execute_input": "2021-03-27T00:06:01.878746Z",
     "iopub.status.busy": "2021-03-27T00:06:01.878043Z",
     "iopub.status.idle": "2021-03-27T00:06:01.880712Z",
     "shell.execute_reply": "2021-03-27T00:06:01.881383Z"
    },
    "papermill": {
     "duration": 0.040826,
     "end_time": "2021-03-27T00:06:01.881510",
     "exception": false,
     "start_time": "2021-03-27T00:06:01.840684",
     "status": "completed"
    },
    "tags": []
   },
   "outputs": [],
   "source": [
    "#hide\n",
    "\n",
    "# FETCH\n",
    "base_url = 'https://raw.githubusercontent.com/pratapvardhan/notebooks/master/covid19/'\n",
    "paths = {\n",
    "    'mapping': base_url + 'mapping_countries.csv',\n",
    "    'overview': base_url + 'overview.tpl'\n",
    "}"
   ]
  },
  {
   "cell_type": "code",
   "execution_count": 3,
   "id": "dynamic-saver",
   "metadata": {
    "execution": {
     "iopub.execute_input": "2021-03-27T00:06:01.967636Z",
     "iopub.status.busy": "2021-03-27T00:06:01.967005Z",
     "iopub.status.idle": "2021-03-27T00:06:01.970441Z",
     "shell.execute_reply": "2021-03-27T00:06:01.969775Z"
    },
    "papermill": {
     "duration": 0.047194,
     "end_time": "2021-03-27T00:06:01.970553",
     "exception": false,
     "start_time": "2021-03-27T00:06:01.923359",
     "status": "completed"
    },
    "tags": []
   },
   "outputs": [
    {
     "data": {
      "text/plain": [
       "'https://raw.githubusercontent.com/pratapvardhan/notebooks/master/covid19/mapping_countries.csv'"
      ]
     },
     "execution_count": 3,
     "metadata": {},
     "output_type": "execute_result"
    }
   ],
   "source": [
    "#hide\n",
    "paths['mapping']"
   ]
  },
  {
   "cell_type": "code",
   "execution_count": 4,
   "id": "urban-software",
   "metadata": {
    "execution": {
     "iopub.execute_input": "2021-03-27T00:06:02.050181Z",
     "iopub.status.busy": "2021-03-27T00:06:02.049566Z",
     "iopub.status.idle": "2021-03-27T00:06:02.051985Z",
     "shell.execute_reply": "2021-03-27T00:06:02.051529Z"
    },
    "papermill": {
     "duration": 0.046084,
     "end_time": "2021-03-27T00:06:02.052100",
     "exception": false,
     "start_time": "2021-03-27T00:06:02.006016",
     "status": "completed"
    },
    "tags": []
   },
   "outputs": [],
   "source": [
    "#hide\n",
    "def get_mappings(url):\n",
    "    df = pd.read_csv(url)\n",
    "    return {\n",
    "        'df': df,\n",
    "        'replace.country': dict(df.dropna(subset=['Name']).set_index('Country')['Name']),\n",
    "        'map.continent': dict(df.set_index('Name')['Continent'])\n",
    "    }"
   ]
  },
  {
   "cell_type": "code",
   "execution_count": 5,
   "id": "intimate-machinery",
   "metadata": {
    "execution": {
     "iopub.execute_input": "2021-03-27T00:06:02.128928Z",
     "iopub.status.busy": "2021-03-27T00:06:02.128193Z",
     "iopub.status.idle": "2021-03-27T00:06:02.170088Z",
     "shell.execute_reply": "2021-03-27T00:06:02.169502Z"
    },
    "papermill": {
     "duration": 0.083147,
     "end_time": "2021-03-27T00:06:02.170327",
     "exception": false,
     "start_time": "2021-03-27T00:06:02.087180",
     "status": "completed"
    },
    "tags": []
   },
   "outputs": [],
   "source": [
    "#hide\n",
    "mapping = get_mappings(paths['mapping'])"
   ]
  },
  {
   "cell_type": "code",
   "execution_count": 6,
   "id": "certified-tactics",
   "metadata": {
    "execution": {
     "iopub.execute_input": "2021-03-27T00:06:02.247631Z",
     "iopub.status.busy": "2021-03-27T00:06:02.246923Z",
     "iopub.status.idle": "2021-03-27T00:06:02.249253Z",
     "shell.execute_reply": "2021-03-27T00:06:02.248795Z"
    },
    "papermill": {
     "duration": 0.044247,
     "end_time": "2021-03-27T00:06:02.249365",
     "exception": false,
     "start_time": "2021-03-27T00:06:02.205118",
     "status": "completed"
    },
    "tags": []
   },
   "outputs": [],
   "source": [
    "#hide\n",
    "def get_template(path):\n",
    "    from urllib.parse import urlparse\n",
    "    if bool(urlparse(path).netloc):\n",
    "        from urllib.request import urlopen\n",
    "        return urlopen(path).read().decode('utf8')\n",
    "    return open(path).read()"
   ]
  },
  {
   "cell_type": "code",
   "execution_count": 7,
   "id": "realistic-blast",
   "metadata": {
    "execution": {
     "iopub.execute_input": "2021-03-27T00:06:02.324675Z",
     "iopub.status.busy": "2021-03-27T00:06:02.324038Z",
     "iopub.status.idle": "2021-03-27T00:06:02.326697Z",
     "shell.execute_reply": "2021-03-27T00:06:02.327214Z"
    },
    "papermill": {
     "duration": 0.040374,
     "end_time": "2021-03-27T00:06:02.327367",
     "exception": false,
     "start_time": "2021-03-27T00:06:02.286993",
     "status": "completed"
    },
    "tags": []
   },
   "outputs": [],
   "source": [
    "#hide\n",
    "def get_frame(name):\n",
    "    url = (\n",
    "        'https://raw.githubusercontent.com/CSSEGISandData/COVID-19/master/csse_covid_19_data/'\n",
    "        f'csse_covid_19_time_series/time_series_covid19_{name}_global.csv')\n",
    "    df = pd.read_csv(url)\n",
    "    # rename countries\n",
    "    df['Country/Region'] = df['Country/Region'].replace(mapping['replace.country'])\n",
    "    return df"
   ]
  },
  {
   "cell_type": "code",
   "execution_count": 8,
   "id": "affiliated-characterization",
   "metadata": {
    "execution": {
     "iopub.execute_input": "2021-03-27T00:06:02.398221Z",
     "iopub.status.busy": "2021-03-27T00:06:02.397689Z",
     "iopub.status.idle": "2021-03-27T00:06:02.400055Z",
     "shell.execute_reply": "2021-03-27T00:06:02.399639Z"
    },
    "papermill": {
     "duration": 0.038614,
     "end_time": "2021-03-27T00:06:02.400162",
     "exception": false,
     "start_time": "2021-03-27T00:06:02.361548",
     "status": "completed"
    },
    "tags": []
   },
   "outputs": [],
   "source": [
    "#hide\n",
    "def get_dates(df):\n",
    "    dt_cols = df.columns[~df.columns.isin(['Province/State', 'Country/Region', 'Lat', 'Long'])]\n",
    "    LAST_DATE_I = -1\n",
    "    # sometimes last column may be empty, then go backwards\n",
    "    for i in range(-1, -len(dt_cols), -1):\n",
    "        if not df[dt_cols[i]].fillna(0).eq(0).all():\n",
    "            LAST_DATE_I = i\n",
    "            break\n",
    "    return LAST_DATE_I, dt_cols"
   ]
  },
  {
   "cell_type": "code",
   "execution_count": 9,
   "id": "recent-optimization",
   "metadata": {
    "execution": {
     "iopub.execute_input": "2021-03-27T00:06:02.471008Z",
     "iopub.status.busy": "2021-03-27T00:06:02.470394Z",
     "iopub.status.idle": "2021-03-27T00:06:02.826266Z",
     "shell.execute_reply": "2021-03-27T00:06:02.825265Z"
    },
    "papermill": {
     "duration": 0.395362,
     "end_time": "2021-03-27T00:06:02.826501",
     "exception": false,
     "start_time": "2021-03-27T00:06:02.431139",
     "status": "completed"
    },
    "tags": []
   },
   "outputs": [],
   "source": [
    "#hide\n",
    "COL_REGION = 'Country/Region'\n",
    "# Confirmed, Recovered, Deaths\n",
    "df = get_frame('confirmed')\n",
    "# dft_: timeseries, dfc_: today country agg\n",
    "dft_cases = df\n",
    "dft_deaths = get_frame('deaths')\n",
    "dft_recovered = get_frame('recovered')\n",
    "LAST_DATE_I, dt_cols = get_dates(df)"
   ]
  },
  {
   "cell_type": "code",
   "execution_count": 10,
   "id": "absolute-copper",
   "metadata": {
    "execution": {
     "iopub.execute_input": "2021-03-27T00:06:02.913105Z",
     "iopub.status.busy": "2021-03-27T00:06:02.912521Z",
     "iopub.status.idle": "2021-03-27T00:06:02.914803Z",
     "shell.execute_reply": "2021-03-27T00:06:02.914240Z"
    },
    "papermill": {
     "duration": 0.045848,
     "end_time": "2021-03-27T00:06:02.914921",
     "exception": false,
     "start_time": "2021-03-27T00:06:02.869073",
     "status": "completed"
    },
    "tags": []
   },
   "outputs": [],
   "source": [
    "#hide\n",
    "LAST_DATE_I, dt_cols = get_dates(df)\n",
    "dt_today =dt_cols[LAST_DATE_I]\n",
    "# dt_5day = dt_cols[LAST_DATE_I - 5]\n",
    "dt_yday = dt_cols[LAST_DATE_I - 1]"
   ]
  },
  {
   "cell_type": "code",
   "execution_count": 11,
   "id": "restricted-sheriff",
   "metadata": {
    "execution": {
     "iopub.execute_input": "2021-03-27T00:06:02.988699Z",
     "iopub.status.busy": "2021-03-27T00:06:02.988105Z",
     "iopub.status.idle": "2021-03-27T00:06:03.001453Z",
     "shell.execute_reply": "2021-03-27T00:06:03.000995Z"
    },
    "papermill": {
     "duration": 0.051454,
     "end_time": "2021-03-27T00:06:03.001574",
     "exception": false,
     "start_time": "2021-03-27T00:06:02.950120",
     "status": "completed"
    },
    "tags": []
   },
   "outputs": [],
   "source": [
    "#hide\n",
    "dfc_cases = dft_cases.groupby(COL_REGION)[dt_today].sum()\n",
    "dfc_deaths = dft_deaths.groupby(COL_REGION)[dt_today].sum()\n",
    "# dfp_cases = dft_cases.groupby(COL_REGION)[dt_5day].sum()\n",
    "# dfp_deaths = dft_deaths.groupby(COL_REGION)[dt_5day].sum()\n",
    "dfp_cases = dft_cases.groupby(COL_REGION)[dt_yday].sum()\n",
    "dfp_deaths = dft_deaths.groupby(COL_REGION)[dt_yday].sum()"
   ]
  },
  {
   "cell_type": "code",
   "execution_count": 12,
   "id": "deluxe-hepatitis",
   "metadata": {
    "execution": {
     "iopub.execute_input": "2021-03-27T00:06:03.076079Z",
     "iopub.status.busy": "2021-03-27T00:06:03.075368Z",
     "iopub.status.idle": "2021-03-27T00:06:03.080376Z",
     "shell.execute_reply": "2021-03-27T00:06:03.079867Z"
    },
    "papermill": {
     "duration": 0.046131,
     "end_time": "2021-03-27T00:06:03.080492",
     "exception": false,
     "start_time": "2021-03-27T00:06:03.034361",
     "status": "completed"
    },
    "tags": []
   },
   "outputs": [],
   "source": [
    "#hide\n",
    "df_table = (pd.DataFrame(dict(Cases = dfc_cases, Deaths = dfc_deaths, PCases = dfp_cases, PDeaths = dfp_deaths))\n",
    "            .sort_values(by = ['Cases','Deaths'], ascending = [False, False])\n",
    "            .reset_index())"
   ]
  },
  {
   "cell_type": "code",
   "execution_count": 13,
   "id": "educational-chancellor",
   "metadata": {
    "execution": {
     "iopub.execute_input": "2021-03-27T00:06:03.171120Z",
     "iopub.status.busy": "2021-03-27T00:06:03.170541Z",
     "iopub.status.idle": "2021-03-27T00:06:03.178507Z",
     "shell.execute_reply": "2021-03-27T00:06:03.178991Z"
    },
    "papermill": {
     "duration": 0.061673,
     "end_time": "2021-03-27T00:06:03.179131",
     "exception": false,
     "start_time": "2021-03-27T00:06:03.117458",
     "status": "completed"
    },
    "tags": []
   },
   "outputs": [
    {
     "data": {
      "text/html": [
       "<div>\n",
       "<style scoped>\n",
       "    .dataframe tbody tr th:only-of-type {\n",
       "        vertical-align: middle;\n",
       "    }\n",
       "\n",
       "    .dataframe tbody tr th {\n",
       "        vertical-align: top;\n",
       "    }\n",
       "\n",
       "    .dataframe thead th {\n",
       "        text-align: right;\n",
       "    }\n",
       "</style>\n",
       "<table border=\"1\" class=\"dataframe\">\n",
       "  <thead>\n",
       "    <tr style=\"text-align: right;\">\n",
       "      <th></th>\n",
       "      <th>Country/Region</th>\n",
       "      <th>Cases</th>\n",
       "      <th>Deaths</th>\n",
       "      <th>PCases</th>\n",
       "      <th>PDeaths</th>\n",
       "      <th>Cases (+)</th>\n",
       "      <th>Deaths (+)</th>\n",
       "      <th>Fatality Rate</th>\n",
       "      <th>Continent</th>\n",
       "    </tr>\n",
       "  </thead>\n",
       "  <tbody>\n",
       "    <tr>\n",
       "      <th>0</th>\n",
       "      <td>US</td>\n",
       "      <td>30079282</td>\n",
       "      <td>546822</td>\n",
       "      <td>30011839</td>\n",
       "      <td>545264</td>\n",
       "      <td>67443</td>\n",
       "      <td>1558</td>\n",
       "      <td>1.82</td>\n",
       "      <td>North America</td>\n",
       "    </tr>\n",
       "    <tr>\n",
       "      <th>1</th>\n",
       "      <td>Brazil</td>\n",
       "      <td>12320169</td>\n",
       "      <td>303462</td>\n",
       "      <td>12220011</td>\n",
       "      <td>300685</td>\n",
       "      <td>100158</td>\n",
       "      <td>2777</td>\n",
       "      <td>2.46</td>\n",
       "      <td>South America</td>\n",
       "    </tr>\n",
       "    <tr>\n",
       "      <th>2</th>\n",
       "      <td>India</td>\n",
       "      <td>11846652</td>\n",
       "      <td>160949</td>\n",
       "      <td>11787534</td>\n",
       "      <td>160692</td>\n",
       "      <td>59118</td>\n",
       "      <td>257</td>\n",
       "      <td>1.36</td>\n",
       "      <td>Asia</td>\n",
       "    </tr>\n",
       "    <tr>\n",
       "      <th>3</th>\n",
       "      <td>France</td>\n",
       "      <td>4484659</td>\n",
       "      <td>93535</td>\n",
       "      <td>4438999</td>\n",
       "      <td>93310</td>\n",
       "      <td>45660</td>\n",
       "      <td>225</td>\n",
       "      <td>2.09</td>\n",
       "      <td>Europe</td>\n",
       "    </tr>\n",
       "    <tr>\n",
       "      <th>4</th>\n",
       "      <td>Russia</td>\n",
       "      <td>4442492</td>\n",
       "      <td>95010</td>\n",
       "      <td>4433364</td>\n",
       "      <td>94624</td>\n",
       "      <td>9128</td>\n",
       "      <td>386</td>\n",
       "      <td>2.14</td>\n",
       "      <td>Europe</td>\n",
       "    </tr>\n",
       "  </tbody>\n",
       "</table>\n",
       "</div>"
      ],
      "text/plain": [
       "  Country/Region     Cases  Deaths    PCases  PDeaths  Cases (+)  Deaths (+)  \\\n",
       "0             US  30079282  546822  30011839   545264      67443        1558   \n",
       "1         Brazil  12320169  303462  12220011   300685     100158        2777   \n",
       "2          India  11846652  160949  11787534   160692      59118         257   \n",
       "3         France   4484659   93535   4438999    93310      45660         225   \n",
       "4         Russia   4442492   95010   4433364    94624       9128         386   \n",
       "\n",
       "   Fatality Rate      Continent  \n",
       "0           1.82  North America  \n",
       "1           2.46  South America  \n",
       "2           1.36           Asia  \n",
       "3           2.09         Europe  \n",
       "4           2.14         Europe  "
      ]
     },
     "execution_count": 13,
     "metadata": {},
     "output_type": "execute_result"
    }
   ],
   "source": [
    "#hide\n",
    "for c in 'Cases, Deaths'.split(', '):\n",
    "    df_table[f'{c} (+)'] = (df_table[c] - df_table[f'P{c}']).clip(0)\n",
    "    #Clip ça veut dire, les chiffres negatif sont interdit\n",
    "df_table['Fatality Rate'] = (100* df_table['Deaths']/ df_table['Cases']).round(2)\n",
    "df_table['Continent'] = df_table['Country/Region'].map(mapping['map.continent'])\n",
    "df_table.head(5)"
   ]
  },
  {
   "cell_type": "code",
   "execution_count": 14,
   "id": "aboriginal-bulgaria",
   "metadata": {
    "execution": {
     "iopub.execute_input": "2021-03-27T00:06:03.254604Z",
     "iopub.status.busy": "2021-03-27T00:06:03.254059Z",
     "iopub.status.idle": "2021-03-27T00:06:03.255933Z",
     "shell.execute_reply": "2021-03-27T00:06:03.256383Z"
    },
    "papermill": {
     "duration": 0.042207,
     "end_time": "2021-03-27T00:06:03.256564",
     "exception": false,
     "start_time": "2021-03-27T00:06:03.214357",
     "status": "completed"
    },
    "tags": []
   },
   "outputs": [],
   "source": [
    "#hide\n",
    "#delete problematic countries from table\n",
    "df_table = df_table[~df_table['Country/Region'].isin(['Cape Verde', 'Cruise Ship', 'Kosovo'])]"
   ]
  },
  {
   "cell_type": "code",
   "execution_count": 15,
   "id": "fantastic-effect",
   "metadata": {
    "execution": {
     "iopub.execute_input": "2021-03-27T00:06:03.329874Z",
     "iopub.status.busy": "2021-03-27T00:06:03.329084Z",
     "iopub.status.idle": "2021-03-27T00:06:03.350203Z",
     "shell.execute_reply": "2021-03-27T00:06:03.349727Z"
    },
    "papermill": {
     "duration": 0.061838,
     "end_time": "2021-03-27T00:06:03.350314",
     "exception": false,
     "start_time": "2021-03-27T00:06:03.288476",
     "status": "completed"
    },
    "tags": []
   },
   "outputs": [
    {
     "data": {
      "text/html": [
       "<div>\n",
       "<style scoped>\n",
       "    .dataframe tbody tr th:only-of-type {\n",
       "        vertical-align: middle;\n",
       "    }\n",
       "\n",
       "    .dataframe tbody tr th {\n",
       "        vertical-align: top;\n",
       "    }\n",
       "\n",
       "    .dataframe thead th {\n",
       "        text-align: right;\n",
       "    }\n",
       "</style>\n",
       "<table border=\"1\" class=\"dataframe\">\n",
       "  <thead>\n",
       "    <tr style=\"text-align: right;\">\n",
       "      <th></th>\n",
       "      <th>Country/Region</th>\n",
       "      <th>Cases</th>\n",
       "      <th>Deaths</th>\n",
       "      <th>PCases</th>\n",
       "      <th>PDeaths</th>\n",
       "      <th>Cases (+)</th>\n",
       "      <th>Deaths (+)</th>\n",
       "      <th>Fatality Rate</th>\n",
       "      <th>Continent</th>\n",
       "    </tr>\n",
       "  </thead>\n",
       "  <tbody>\n",
       "    <tr>\n",
       "      <th>0</th>\n",
       "      <td>US</td>\n",
       "      <td>30079282</td>\n",
       "      <td>546822</td>\n",
       "      <td>30011839</td>\n",
       "      <td>545264</td>\n",
       "      <td>67443</td>\n",
       "      <td>1558</td>\n",
       "      <td>1.8</td>\n",
       "      <td>North America</td>\n",
       "    </tr>\n",
       "    <tr>\n",
       "      <th>1</th>\n",
       "      <td>Brazil</td>\n",
       "      <td>12320169</td>\n",
       "      <td>303462</td>\n",
       "      <td>12220011</td>\n",
       "      <td>300685</td>\n",
       "      <td>100158</td>\n",
       "      <td>2777</td>\n",
       "      <td>2.5</td>\n",
       "      <td>South America</td>\n",
       "    </tr>\n",
       "    <tr>\n",
       "      <th>2</th>\n",
       "      <td>India</td>\n",
       "      <td>11846652</td>\n",
       "      <td>160949</td>\n",
       "      <td>11787534</td>\n",
       "      <td>160692</td>\n",
       "      <td>59118</td>\n",
       "      <td>257</td>\n",
       "      <td>1.4</td>\n",
       "      <td>Asia</td>\n",
       "    </tr>\n",
       "    <tr>\n",
       "      <th>3</th>\n",
       "      <td>France</td>\n",
       "      <td>4484659</td>\n",
       "      <td>93535</td>\n",
       "      <td>4438999</td>\n",
       "      <td>93310</td>\n",
       "      <td>45660</td>\n",
       "      <td>225</td>\n",
       "      <td>2.1</td>\n",
       "      <td>Europe</td>\n",
       "    </tr>\n",
       "    <tr>\n",
       "      <th>4</th>\n",
       "      <td>Russia</td>\n",
       "      <td>4442492</td>\n",
       "      <td>95010</td>\n",
       "      <td>4433364</td>\n",
       "      <td>94624</td>\n",
       "      <td>9128</td>\n",
       "      <td>386</td>\n",
       "      <td>2.1</td>\n",
       "      <td>Europe</td>\n",
       "    </tr>\n",
       "  </tbody>\n",
       "</table>\n",
       "</div>"
      ],
      "text/plain": [
       "  Country/Region     Cases  Deaths    PCases  PDeaths  Cases (+)  Deaths (+)  \\\n",
       "0             US  30079282  546822  30011839   545264      67443        1558   \n",
       "1         Brazil  12320169  303462  12220011   300685     100158        2777   \n",
       "2          India  11846652  160949  11787534   160692      59118         257   \n",
       "3         France   4484659   93535   4438999    93310      45660         225   \n",
       "4         Russia   4442492   95010   4433364    94624       9128         386   \n",
       "\n",
       "   Fatality Rate      Continent  \n",
       "0            1.8  North America  \n",
       "1            2.5  South America  \n",
       "2            1.4           Asia  \n",
       "3            2.1         Europe  \n",
       "4            2.1         Europe  "
      ]
     },
     "execution_count": 15,
     "metadata": {},
     "output_type": "execute_result"
    }
   ],
   "source": [
    "#hide\n",
    "df_table = (pd.DataFrame(dict(Cases=dfc_cases, Deaths=dfc_deaths, PCases=dfp_cases, PDeaths=dfp_deaths))\n",
    "             .sort_values(by=['Cases', 'Deaths'], ascending=[False, False])\n",
    "             .reset_index())\n",
    "df_table.rename(columns={'index': 'Country/Region'}, inplace=True)\n",
    "for c in 'Cases, Deaths'.split(', '):\n",
    "    df_table[f'{c} (+)'] = (df_table[c] - df_table[f'P{c}']).clip(0)  # DATA BUG\n",
    "df_table['Fatality Rate'] = (100 * df_table['Deaths'] / df_table['Cases']).round(1)\n",
    "df_table['Continent'] = df_table['Country/Region'].map(mapping['map.continent'])\n",
    "df_table.head(5)"
   ]
  },
  {
   "cell_type": "code",
   "execution_count": 16,
   "id": "fewer-occasion",
   "metadata": {
    "execution": {
     "iopub.execute_input": "2021-03-27T00:06:03.420869Z",
     "iopub.status.busy": "2021-03-27T00:06:03.420338Z",
     "iopub.status.idle": "2021-03-27T00:06:03.423617Z",
     "shell.execute_reply": "2021-03-27T00:06:03.424197Z"
    },
    "papermill": {
     "duration": 0.041566,
     "end_time": "2021-03-27T00:06:03.424337",
     "exception": false,
     "start_time": "2021-03-27T00:06:03.382771",
     "status": "completed"
    },
    "tags": []
   },
   "outputs": [],
   "source": [
    "#hide\n",
    "#delete problematic countries from table\n",
    "df_table = df_table[~df_table['Country/Region'].isin(['Cape Verde', 'Cruise Ship', 'Kosovo'])]"
   ]
  },
  {
   "cell_type": "code",
   "execution_count": 17,
   "id": "related-center",
   "metadata": {
    "execution": {
     "iopub.execute_input": "2021-03-27T00:06:03.516859Z",
     "iopub.status.busy": "2021-03-27T00:06:03.516130Z",
     "iopub.status.idle": "2021-03-27T00:06:03.518229Z",
     "shell.execute_reply": "2021-03-27T00:06:03.518751Z"
    },
    "papermill": {
     "duration": 0.059863,
     "end_time": "2021-03-27T00:06:03.518920",
     "exception": false,
     "start_time": "2021-03-27T00:06:03.459057",
     "status": "completed"
    },
    "tags": []
   },
   "outputs": [],
   "source": [
    "#hide\n",
    "metrics = [df_table.columns[index] for index in [1,2,5,6]]\n",
    "# s_china = df_table[df_table['Country/Region'].eq('China')][metrics].sum().add_prefix('China ')\n",
    "s_us = df_table[df_table['Country/Region'].eq('US')][metrics].sum().add_prefix('US ')\n",
    "s_eu = df_table[df_table['Continent'].eq('Europe')][metrics].sum().add_prefix('EU ')\n",
    "s_ind = df_table[df_table['Country/Region'].eq('India')][metrics].sum().add_prefix('India ')\n",
    "summary = {'updated': pd.to_datetime(dt_today), 'since': pd.to_datetime(dt_yday)}\n",
    "summary = {'updated': pd.to_datetime(dt_today), 'since': pd.to_datetime(dt_yday)}\n",
    "summary = {**summary, **df_table[metrics].sum(), **s_ind, **s_us, **s_eu}"
   ]
  },
  {
   "cell_type": "code",
   "execution_count": 18,
   "id": "engaging-syndrome",
   "metadata": {
    "execution": {
     "iopub.execute_input": "2021-03-27T00:06:03.600640Z",
     "iopub.status.busy": "2021-03-27T00:06:03.600077Z",
     "iopub.status.idle": "2021-03-27T00:06:03.611486Z",
     "shell.execute_reply": "2021-03-27T00:06:03.612004Z"
    },
    "papermill": {
     "duration": 0.052991,
     "end_time": "2021-03-27T00:06:03.612146",
     "exception": false,
     "start_time": "2021-03-27T00:06:03.559155",
     "status": "completed"
    },
    "tags": []
   },
   "outputs": [],
   "source": [
    "#hide\n",
    "dft_ct_new_cases = dft_cases.groupby(COL_REGION)[dt_cols].sum().diff(axis=1).fillna(0).astype(int)"
   ]
  },
  {
   "cell_type": "code",
   "execution_count": 19,
   "id": "neutral-assignment",
   "metadata": {
    "execution": {
     "iopub.execute_input": "2021-03-27T00:06:03.687902Z",
     "iopub.status.busy": "2021-03-27T00:06:03.687254Z",
     "iopub.status.idle": "2021-03-27T00:06:03.689061Z",
     "shell.execute_reply": "2021-03-27T00:06:03.689532Z"
    },
    "papermill": {
     "duration": 0.043131,
     "end_time": "2021-03-27T00:06:03.689656",
     "exception": false,
     "start_time": "2021-03-27T00:06:03.646525",
     "status": "completed"
    },
    "tags": []
   },
   "outputs": [],
   "source": [
    "#hide\n",
    "everydaycases = dft_ct_new_cases.cumsum(axis=1)"
   ]
  },
  {
   "cell_type": "code",
   "execution_count": 20,
   "id": "parliamentary-calgary",
   "metadata": {
    "execution": {
     "iopub.execute_input": "2021-03-27T00:06:03.762935Z",
     "iopub.status.busy": "2021-03-27T00:06:03.762060Z",
     "iopub.status.idle": "2021-03-27T00:06:06.348798Z",
     "shell.execute_reply": "2021-03-27T00:06:06.348238Z"
    },
    "papermill": {
     "duration": 2.62395,
     "end_time": "2021-03-27T00:06:06.348932",
     "exception": false,
     "start_time": "2021-03-27T00:06:03.724982",
     "status": "completed"
    },
    "tags": []
   },
   "outputs": [],
   "source": [
    "#hide\n",
    "import pandas as pd\n",
    "import matplotlib.pyplot as plt\n",
    "import matplotlib.ticker as ticker\n",
    "import matplotlib.animation as animation\n",
    "from IPython.display import HTML"
   ]
  },
  {
   "cell_type": "code",
   "execution_count": 21,
   "id": "lasting-extraction",
   "metadata": {
    "execution": {
     "iopub.execute_input": "2021-03-27T00:06:06.424257Z",
     "iopub.status.busy": "2021-03-27T00:06:06.423548Z",
     "iopub.status.idle": "2021-03-27T00:06:06.429171Z",
     "shell.execute_reply": "2021-03-27T00:06:06.428684Z"
    },
    "papermill": {
     "duration": 0.04613,
     "end_time": "2021-03-27T00:06:06.429285",
     "exception": false,
     "start_time": "2021-03-27T00:06:06.383155",
     "status": "completed"
    },
    "tags": []
   },
   "outputs": [],
   "source": [
    "#hide\n",
    "t = everydaycases.stack()"
   ]
  },
  {
   "cell_type": "code",
   "execution_count": 22,
   "id": "premier-sleeve",
   "metadata": {
    "execution": {
     "iopub.execute_input": "2021-03-27T00:06:06.510339Z",
     "iopub.status.busy": "2021-03-27T00:06:06.509645Z",
     "iopub.status.idle": "2021-03-27T00:06:06.518238Z",
     "shell.execute_reply": "2021-03-27T00:06:06.518901Z"
    },
    "papermill": {
     "duration": 0.052481,
     "end_time": "2021-03-27T00:06:06.519152",
     "exception": false,
     "start_time": "2021-03-27T00:06:06.466671",
     "status": "completed"
    },
    "tags": []
   },
   "outputs": [],
   "source": [
    "#hide\n",
    "g = t.reset_index(['Country/Region'])"
   ]
  },
  {
   "cell_type": "code",
   "execution_count": 23,
   "id": "distributed-pittsburgh",
   "metadata": {
    "execution": {
     "iopub.execute_input": "2021-03-27T00:06:06.596146Z",
     "iopub.status.busy": "2021-03-27T00:06:06.595482Z",
     "iopub.status.idle": "2021-03-27T00:06:06.597186Z",
     "shell.execute_reply": "2021-03-27T00:06:06.597818Z"
    },
    "papermill": {
     "duration": 0.039641,
     "end_time": "2021-03-27T00:06:06.597945",
     "exception": false,
     "start_time": "2021-03-27T00:06:06.558304",
     "status": "completed"
    },
    "tags": []
   },
   "outputs": [],
   "source": [
    "#hide\n",
    "g.index.name = 'date'"
   ]
  },
  {
   "cell_type": "code",
   "execution_count": 24,
   "id": "naked-donor",
   "metadata": {
    "execution": {
     "iopub.execute_input": "2021-03-27T00:06:06.669880Z",
     "iopub.status.busy": "2021-03-27T00:06:06.669340Z",
     "iopub.status.idle": "2021-03-27T00:06:06.672220Z",
     "shell.execute_reply": "2021-03-27T00:06:06.671579Z"
    },
    "papermill": {
     "duration": 0.038168,
     "end_time": "2021-03-27T00:06:06.672398",
     "exception": false,
     "start_time": "2021-03-27T00:06:06.634230",
     "status": "completed"
    },
    "tags": []
   },
   "outputs": [],
   "source": [
    "# #hide\n",
    "# g = g.reset_index(['date'])"
   ]
  },
  {
   "cell_type": "code",
   "execution_count": 25,
   "id": "incomplete-mustang",
   "metadata": {
    "execution": {
     "iopub.execute_input": "2021-03-27T00:06:06.746639Z",
     "iopub.status.busy": "2021-03-27T00:06:06.746029Z",
     "iopub.status.idle": "2021-03-27T00:06:06.748436Z",
     "shell.execute_reply": "2021-03-27T00:06:06.749045Z"
    },
    "papermill": {
     "duration": 0.043948,
     "end_time": "2021-03-27T00:06:06.749187",
     "exception": false,
     "start_time": "2021-03-27T00:06:06.705239",
     "status": "completed"
    },
    "tags": []
   },
   "outputs": [],
   "source": [
    "#hide\n",
    "# g.head()"
   ]
  },
  {
   "cell_type": "code",
   "execution_count": 26,
   "id": "specific-kruger",
   "metadata": {
    "execution": {
     "iopub.execute_input": "2021-03-27T00:06:06.823117Z",
     "iopub.status.busy": "2021-03-27T00:06:06.822558Z",
     "iopub.status.idle": "2021-03-27T00:06:06.824866Z",
     "shell.execute_reply": "2021-03-27T00:06:06.825413Z"
    },
    "papermill": {
     "duration": 0.041132,
     "end_time": "2021-03-27T00:06:06.825559",
     "exception": false,
     "start_time": "2021-03-27T00:06:06.784427",
     "status": "completed"
    },
    "tags": []
   },
   "outputs": [],
   "source": [
    "#hide\n",
    "# g.columns = ['date','country','cases']"
   ]
  },
  {
   "cell_type": "code",
   "execution_count": 27,
   "id": "tender-conversion",
   "metadata": {
    "execution": {
     "iopub.execute_input": "2021-03-27T00:06:06.894931Z",
     "iopub.status.busy": "2021-03-27T00:06:06.894359Z",
     "iopub.status.idle": "2021-03-27T00:06:06.896756Z",
     "shell.execute_reply": "2021-03-27T00:06:06.896226Z"
    },
    "papermill": {
     "duration": 0.038382,
     "end_time": "2021-03-27T00:06:06.896866",
     "exception": false,
     "start_time": "2021-03-27T00:06:06.858484",
     "status": "completed"
    },
    "tags": []
   },
   "outputs": [],
   "source": [
    "#hide\n",
    "# g['continent'] = g.country"
   ]
  },
  {
   "cell_type": "code",
   "execution_count": 28,
   "id": "substantial-wilderness",
   "metadata": {
    "execution": {
     "iopub.execute_input": "2021-03-27T00:06:06.972715Z",
     "iopub.status.busy": "2021-03-27T00:06:06.972163Z",
     "iopub.status.idle": "2021-03-27T00:06:06.974589Z",
     "shell.execute_reply": "2021-03-27T00:06:06.975036Z"
    },
    "papermill": {
     "duration": 0.044733,
     "end_time": "2021-03-27T00:06:06.975169",
     "exception": false,
     "start_time": "2021-03-27T00:06:06.930436",
     "status": "completed"
    },
    "tags": []
   },
   "outputs": [],
   "source": [
    "#hide\n",
    "# cols = list(g.columns.values)"
   ]
  },
  {
   "cell_type": "code",
   "execution_count": 29,
   "id": "solved-farming",
   "metadata": {
    "execution": {
     "iopub.execute_input": "2021-03-27T00:06:07.471821Z",
     "iopub.status.busy": "2021-03-27T00:06:07.471105Z",
     "iopub.status.idle": "2021-03-27T00:06:07.473405Z",
     "shell.execute_reply": "2021-03-27T00:06:07.472933Z"
    },
    "papermill": {
     "duration": 0.463073,
     "end_time": "2021-03-27T00:06:07.473519",
     "exception": false,
     "start_time": "2021-03-27T00:06:07.010446",
     "status": "completed"
    },
    "tags": []
   },
   "outputs": [],
   "source": [
    "#hide\n",
    "# cols.insert(0, cols.pop())"
   ]
  },
  {
   "cell_type": "code",
   "execution_count": 30,
   "id": "executed-adoption",
   "metadata": {
    "execution": {
     "iopub.execute_input": "2021-03-27T00:06:07.550748Z",
     "iopub.status.busy": "2021-03-27T00:06:07.550111Z",
     "iopub.status.idle": "2021-03-27T00:06:07.551951Z",
     "shell.execute_reply": "2021-03-27T00:06:07.552414Z"
    },
    "papermill": {
     "duration": 0.043008,
     "end_time": "2021-03-27T00:06:07.552563",
     "exception": false,
     "start_time": "2021-03-27T00:06:07.509555",
     "status": "completed"
    },
    "tags": []
   },
   "outputs": [],
   "source": [
    "#hide\n",
    "# g = g[cols]"
   ]
  },
  {
   "cell_type": "code",
   "execution_count": 31,
   "id": "subject-dublin",
   "metadata": {
    "execution": {
     "iopub.execute_input": "2021-03-27T00:06:07.628089Z",
     "iopub.status.busy": "2021-03-27T00:06:07.627416Z",
     "iopub.status.idle": "2021-03-27T00:06:07.629189Z",
     "shell.execute_reply": "2021-03-27T00:06:07.629684Z"
    },
    "papermill": {
     "duration": 0.040111,
     "end_time": "2021-03-27T00:06:07.629813",
     "exception": false,
     "start_time": "2021-03-27T00:06:07.589702",
     "status": "completed"
    },
    "tags": []
   },
   "outputs": [],
   "source": [
    "#hide\n",
    "# g['continent'] = g['continent'].map(mapping['map.continent'])"
   ]
  },
  {
   "cell_type": "code",
   "execution_count": 32,
   "id": "freelance-scout",
   "metadata": {
    "execution": {
     "iopub.execute_input": "2021-03-27T00:06:07.701384Z",
     "iopub.status.busy": "2021-03-27T00:06:07.700674Z",
     "iopub.status.idle": "2021-03-27T00:06:07.702758Z",
     "shell.execute_reply": "2021-03-27T00:06:07.703340Z"
    },
    "papermill": {
     "duration": 0.038698,
     "end_time": "2021-03-27T00:06:07.703537",
     "exception": false,
     "start_time": "2021-03-27T00:06:07.664839",
     "status": "completed"
    },
    "tags": []
   },
   "outputs": [],
   "source": [
    "#hide\n",
    "# g.head()"
   ]
  },
  {
   "cell_type": "code",
   "execution_count": 33,
   "id": "limited-engine",
   "metadata": {
    "execution": {
     "iopub.execute_input": "2021-03-27T00:06:07.776295Z",
     "iopub.status.busy": "2021-03-27T00:06:07.775705Z",
     "iopub.status.idle": "2021-03-27T00:06:07.779177Z",
     "shell.execute_reply": "2021-03-27T00:06:07.778507Z"
    },
    "papermill": {
     "duration": 0.040884,
     "end_time": "2021-03-27T00:06:07.779302",
     "exception": false,
     "start_time": "2021-03-27T00:06:07.738418",
     "status": "completed"
    },
    "tags": []
   },
   "outputs": [],
   "source": [
    "# hide\n",
    "# g['date'] = g['date'].astype('datetime64[ns]')"
   ]
  },
  {
   "cell_type": "code",
   "execution_count": 34,
   "id": "sophisticated-supervisor",
   "metadata": {
    "execution": {
     "iopub.execute_input": "2021-03-27T00:06:07.847955Z",
     "iopub.status.busy": "2021-03-27T00:06:07.847422Z",
     "iopub.status.idle": "2021-03-27T00:06:07.849061Z",
     "shell.execute_reply": "2021-03-27T00:06:07.849565Z"
    },
    "papermill": {
     "duration": 0.037319,
     "end_time": "2021-03-27T00:06:07.849678",
     "exception": false,
     "start_time": "2021-03-27T00:06:07.812359",
     "status": "completed"
    },
    "tags": []
   },
   "outputs": [],
   "source": [
    "#hide\n",
    "# g['date'] = g.date.dt.dayofyear"
   ]
  },
  {
   "cell_type": "code",
   "execution_count": 35,
   "id": "inside-dubai",
   "metadata": {
    "execution": {
     "iopub.execute_input": "2021-03-27T00:06:07.920632Z",
     "iopub.status.busy": "2021-03-27T00:06:07.920057Z",
     "iopub.status.idle": "2021-03-27T00:06:07.922194Z",
     "shell.execute_reply": "2021-03-27T00:06:07.922719Z"
    },
    "papermill": {
     "duration": 0.039964,
     "end_time": "2021-03-27T00:06:07.922841",
     "exception": false,
     "start_time": "2021-03-27T00:06:07.882877",
     "status": "completed"
    },
    "tags": []
   },
   "outputs": [],
   "source": [
    "#hide\n",
    "# g = g.rename(columns= {'continent':'group','country':'name','cases':'value'})"
   ]
  },
  {
   "cell_type": "code",
   "execution_count": 36,
   "id": "fleet-motorcycle",
   "metadata": {
    "execution": {
     "iopub.execute_input": "2021-03-27T00:06:07.991424Z",
     "iopub.status.busy": "2021-03-27T00:06:07.990859Z",
     "iopub.status.idle": "2021-03-27T00:06:07.993123Z",
     "shell.execute_reply": "2021-03-27T00:06:07.992703Z"
    },
    "papermill": {
     "duration": 0.038059,
     "end_time": "2021-03-27T00:06:07.993226",
     "exception": false,
     "start_time": "2021-03-27T00:06:07.955167",
     "status": "completed"
    },
    "tags": []
   },
   "outputs": [],
   "source": [
    "#hide\n",
    "# cols = ['name','group','day','value']"
   ]
  },
  {
   "cell_type": "code",
   "execution_count": 37,
   "id": "continued-sleeping",
   "metadata": {
    "execution": {
     "iopub.execute_input": "2021-03-27T00:06:08.069112Z",
     "iopub.status.busy": "2021-03-27T00:06:08.068495Z",
     "iopub.status.idle": "2021-03-27T00:06:08.070766Z",
     "shell.execute_reply": "2021-03-27T00:06:08.070116Z"
    },
    "papermill": {
     "duration": 0.043711,
     "end_time": "2021-03-27T00:06:08.070910",
     "exception": false,
     "start_time": "2021-03-27T00:06:08.027199",
     "status": "completed"
    },
    "tags": []
   },
   "outputs": [],
   "source": [
    "#hide\n",
    "# g.rename(columns= {'date':'day'},inplace = True)"
   ]
  },
  {
   "cell_type": "code",
   "execution_count": 38,
   "id": "major-fight",
   "metadata": {
    "execution": {
     "iopub.execute_input": "2021-03-27T00:06:08.150181Z",
     "iopub.status.busy": "2021-03-27T00:06:08.149603Z",
     "iopub.status.idle": "2021-03-27T00:06:08.151595Z",
     "shell.execute_reply": "2021-03-27T00:06:08.152343Z"
    },
    "papermill": {
     "duration": 0.040859,
     "end_time": "2021-03-27T00:06:08.152474",
     "exception": false,
     "start_time": "2021-03-27T00:06:08.111615",
     "status": "completed"
    },
    "tags": []
   },
   "outputs": [],
   "source": [
    "#hide\n",
    "# g = g[cols]"
   ]
  },
  {
   "cell_type": "code",
   "execution_count": 39,
   "id": "structured-mobile",
   "metadata": {
    "execution": {
     "iopub.execute_input": "2021-03-27T00:06:08.230827Z",
     "iopub.status.busy": "2021-03-27T00:06:08.230000Z",
     "iopub.status.idle": "2021-03-27T00:06:08.232412Z",
     "shell.execute_reply": "2021-03-27T00:06:08.231787Z"
    },
    "papermill": {
     "duration": 0.04318,
     "end_time": "2021-03-27T00:06:08.232522",
     "exception": false,
     "start_time": "2021-03-27T00:06:08.189342",
     "status": "completed"
    },
    "tags": []
   },
   "outputs": [],
   "source": [
    "# #hide\n",
    "# g = g[g.group.notna()]"
   ]
  },
  {
   "cell_type": "code",
   "execution_count": 40,
   "id": "determined-closing",
   "metadata": {
    "execution": {
     "iopub.execute_input": "2021-03-27T00:06:08.311724Z",
     "iopub.status.busy": "2021-03-27T00:06:08.311048Z",
     "iopub.status.idle": "2021-03-27T00:06:08.313187Z",
     "shell.execute_reply": "2021-03-27T00:06:08.313626Z"
    },
    "papermill": {
     "duration": 0.041813,
     "end_time": "2021-03-27T00:06:08.313794",
     "exception": false,
     "start_time": "2021-03-27T00:06:08.271981",
     "status": "completed"
    },
    "tags": []
   },
   "outputs": [],
   "source": [
    "# #hide\n",
    "# colors = dict(zip(\n",
    "#     [\"Oceania\", \"Europe\", \"Asia\", \"South America\", \"Middle East\", \"North America\", \"Africa\"],\n",
    "#     [\"#adb0ff\", \"#ffb3ff\", \"#90d595\", \"#e48381\", \"#aafbff\", \"#f7bb5f\", \"#eafb50\"]\n",
    "# ))\n",
    "# group_lk = g.set_index('name')['group'].to_dict()"
   ]
  },
  {
   "cell_type": "code",
   "execution_count": null,
   "id": "gross-drinking",
   "metadata": {
    "papermill": {
     "duration": 0.040093,
     "end_time": "2021-03-27T00:06:08.387568",
     "exception": false,
     "start_time": "2021-03-27T00:06:08.347475",
     "status": "completed"
    },
    "tags": []
   },
   "outputs": [],
   "source": []
  },
  {
   "cell_type": "code",
   "execution_count": 41,
   "id": "subject-macintosh",
   "metadata": {
    "execution": {
     "iopub.execute_input": "2021-03-27T00:06:08.465203Z",
     "iopub.status.busy": "2021-03-27T00:06:08.463920Z",
     "iopub.status.idle": "2021-03-27T00:06:08.465937Z",
     "shell.execute_reply": "2021-03-27T00:06:08.466558Z"
    },
    "papermill": {
     "duration": 0.042233,
     "end_time": "2021-03-27T00:06:08.466708",
     "exception": false,
     "start_time": "2021-03-27T00:06:08.424475",
     "status": "completed"
    },
    "tags": []
   },
   "outputs": [],
   "source": [
    "# #hide\n",
    "# fig, ax = plt.subplots(figsize=(15, 8))\n",
    "\n",
    "# def draw_barchart(current_day):\n",
    "#     dff = g[g['day'].eq(current_day)].sort_values(by='value', ascending=True).tail(10)\n",
    "#     ax.clear()\n",
    "#     ax.barh(dff['name'], dff['value'], color=[colors[group_lk[x]] for x in dff['name']])\n",
    "#     dx = dff['value'].max() / 200\n",
    "    \n",
    "#     for i, (value, name) in enumerate(zip(dff['value'], dff['name'])):\n",
    "#         ax.text(value-dx, i,     name,           size=14, weight=600, ha='right', va='bottom')\n",
    "#         ax.text(value-dx, i-.25, group_lk[name], size=10, color='#444444', ha='right', va='baseline')\n",
    "#         ax.text(value+dx, i,     f'{value:,.0f}',  size=14, ha='left',  va='center')\n",
    "#     ax.text(1, 0.4, current_day, transform=ax.transAxes, color='#777777', size=46, ha='right', weight=800)\n",
    "#     ax.text(0, 1.06, 'Population (thousands)', transform=ax.transAxes, size=12, color='#777777')\n",
    "#     ax.xaxis.set_major_formatter(ticker.StrMethodFormatter('{x:,.0f}'))\n",
    "#     ax.xaxis.set_ticks_position('top')\n",
    "#     ax.tick_params(axis='x', colors='#777777', labelsize=12)\n",
    "#     ax.set_yticks([])\n",
    "#     ax.margins(0, 0.01)\n",
    "#     ax.grid(which='major', axis='x', linestyle='-')\n",
    "#     ax.set_axisbelow(True)\n",
    "    \n",
    "#     ax.text(0, 1.15, 'Coronavirus',\n",
    "#             transform=ax.transAxes, size=24, weight=600, ha='left', va='top')\n",
    "# #     ax.text(1, 0, 'by @pratapvardhan; credit @jburnmurdoch', transform=ax.transAxes, color='#777777', ha='right',\n",
    "# #             bbox=dict(facecolor='white', alpha=0.8, edgecolor='white'))\n",
    "#     plt.box(False)"
   ]
  },
  {
   "cell_type": "code",
   "execution_count": 42,
   "id": "sexual-wages",
   "metadata": {
    "execution": {
     "iopub.execute_input": "2021-03-27T00:06:08.541042Z",
     "iopub.status.busy": "2021-03-27T00:06:08.540189Z",
     "iopub.status.idle": "2021-03-27T00:06:08.542090Z",
     "shell.execute_reply": "2021-03-27T00:06:08.542894Z"
    },
    "papermill": {
     "duration": 0.042886,
     "end_time": "2021-03-27T00:06:08.543063",
     "exception": false,
     "start_time": "2021-03-27T00:06:08.500177",
     "status": "completed"
    },
    "tags": []
   },
   "outputs": [],
   "source": [
    "# #hide_input\n",
    "# fig, ax = plt.subplots(figsize=(15, 8))\n",
    "# animator = animation.FuncAnimation(fig, draw_barchart, frames=range(g.day.values.min(), g.day.values.max()))\n",
    "# HTML(animator.to_jshtml())\n",
    "# # or use animator.to_html5_video() or animator.save() "
   ]
  },
  {
   "cell_type": "code",
   "execution_count": null,
   "id": "australian-container",
   "metadata": {
    "papermill": {
     "duration": 0.036284,
     "end_time": "2021-03-27T00:06:08.619820",
     "exception": false,
     "start_time": "2021-03-27T00:06:08.583536",
     "status": "completed"
    },
    "tags": []
   },
   "outputs": [],
   "source": []
  },
  {
   "cell_type": "code",
   "execution_count": null,
   "id": "mediterranean-pontiac",
   "metadata": {
    "papermill": {
     "duration": 0.037206,
     "end_time": "2021-03-27T00:06:08.693271",
     "exception": false,
     "start_time": "2021-03-27T00:06:08.656065",
     "status": "completed"
    },
    "tags": []
   },
   "outputs": [],
   "source": []
  },
  {
   "cell_type": "code",
   "execution_count": null,
   "id": "aging-legislature",
   "metadata": {
    "papermill": {
     "duration": 0.034732,
     "end_time": "2021-03-27T00:06:08.767963",
     "exception": false,
     "start_time": "2021-03-27T00:06:08.733231",
     "status": "completed"
    },
    "tags": []
   },
   "outputs": [],
   "source": []
  }
 ],
 "metadata": {
  "kernelspec": {
   "display_name": "Python 3",
   "language": "python",
   "name": "python3"
  },
  "language_info": {
   "codemirror_mode": {
    "name": "ipython",
    "version": 3
   },
   "file_extension": ".py",
   "mimetype": "text/x-python",
   "name": "python",
   "nbconvert_exporter": "python",
   "pygments_lexer": "ipython3",
   "version": "3.6.13"
  },
  "papermill": {
   "duration": 9.051643,
   "end_time": "2021-03-27T00:06:09.115096",
   "environment_variables": {},
   "exception": null,
   "input_path": "2020-03-21-covid19exp.ipynb",
   "output_path": "2020-03-21-covid19exp.ipynb",
   "parameters": {},
   "start_time": "2021-03-27T00:06:00.063453",
   "version": "2.0.0"
  }
 },
 "nbformat": 4,
 "nbformat_minor": 5
}