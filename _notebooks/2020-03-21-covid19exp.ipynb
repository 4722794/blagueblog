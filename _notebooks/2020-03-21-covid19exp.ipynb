{
 "cells": [
  {
   "cell_type": "markdown",
   "id": "muslim-click",
   "metadata": {
    "papermill": {
     "duration": 0.043168,
     "end_time": "2022-10-30T12:18:58.747412",
     "exception": false,
     "start_time": "2022-10-30T12:18:58.704244",
     "status": "completed"
    },
    "tags": []
   },
   "source": [
    "# COVID-19 Case Race\n",
    "> A race chart to see rising cases around the world\n",
    "\n",
    "- author: Hargun Oberoi\n",
    "- image: images/covid-overview.png\n",
    "- hide: false\n",
    "- badges: false"
   ]
  },
  {
   "cell_type": "code",
   "execution_count": 1,
   "id": "proof-material",
   "metadata": {
    "execution": {
     "iopub.execute_input": "2022-10-30T12:18:58.834986Z",
     "iopub.status.busy": "2022-10-30T12:18:58.834297Z",
     "iopub.status.idle": "2022-10-30T12:18:59.242198Z",
     "shell.execute_reply": "2022-10-30T12:18:59.241369Z"
    },
    "papermill": {
     "duration": 0.455134,
     "end_time": "2022-10-30T12:18:59.242447",
     "exception": false,
     "start_time": "2022-10-30T12:18:58.787313",
     "status": "completed"
    },
    "tags": []
   },
   "outputs": [],
   "source": [
    "#hide\n",
    "import numpy as np\n",
    "import pandas as pd\n",
    "from jinja2 import Template\n",
    "from IPython.display import HTML"
   ]
  },
  {
   "cell_type": "code",
   "execution_count": 2,
   "id": "developed-terminology",
   "metadata": {
    "execution": {
     "iopub.execute_input": "2022-10-30T12:18:59.323550Z",
     "iopub.status.busy": "2022-10-30T12:18:59.322699Z",
     "iopub.status.idle": "2022-10-30T12:18:59.327182Z",
     "shell.execute_reply": "2022-10-30T12:18:59.327717Z"
    },
    "papermill": {
     "duration": 0.047775,
     "end_time": "2022-10-30T12:18:59.327921",
     "exception": false,
     "start_time": "2022-10-30T12:18:59.280146",
     "status": "completed"
    },
    "tags": []
   },
   "outputs": [],
   "source": [
    "#hide\n",
    "\n",
    "# FETCH\n",
    "base_url = 'https://raw.githubusercontent.com/pratapvardhan/notebooks/master/covid19/'\n",
    "paths = {\n",
    "    'mapping': base_url + 'mapping_countries.csv',\n",
    "    'overview': base_url + 'overview.tpl'\n",
    "}"
   ]
  },
  {
   "cell_type": "code",
   "execution_count": 3,
   "id": "dynamic-saver",
   "metadata": {
    "execution": {
     "iopub.execute_input": "2022-10-30T12:18:59.416962Z",
     "iopub.status.busy": "2022-10-30T12:18:59.416282Z",
     "iopub.status.idle": "2022-10-30T12:18:59.421529Z",
     "shell.execute_reply": "2022-10-30T12:18:59.422044Z"
    },
    "papermill": {
     "duration": 0.058074,
     "end_time": "2022-10-30T12:18:59.422183",
     "exception": false,
     "start_time": "2022-10-30T12:18:59.364109",
     "status": "completed"
    },
    "tags": []
   },
   "outputs": [
    {
     "data": {
      "text/plain": [
       "'https://raw.githubusercontent.com/pratapvardhan/notebooks/master/covid19/mapping_countries.csv'"
      ]
     },
     "execution_count": 3,
     "metadata": {},
     "output_type": "execute_result"
    }
   ],
   "source": [
    "#hide\n",
    "paths['mapping']"
   ]
  },
  {
   "cell_type": "code",
   "execution_count": 4,
   "id": "urban-software",
   "metadata": {
    "execution": {
     "iopub.execute_input": "2022-10-30T12:18:59.506763Z",
     "iopub.status.busy": "2022-10-30T12:18:59.505699Z",
     "iopub.status.idle": "2022-10-30T12:18:59.508855Z",
     "shell.execute_reply": "2022-10-30T12:18:59.508118Z"
    },
    "papermill": {
     "duration": 0.047167,
     "end_time": "2022-10-30T12:18:59.508980",
     "exception": false,
     "start_time": "2022-10-30T12:18:59.461813",
     "status": "completed"
    },
    "tags": []
   },
   "outputs": [],
   "source": [
    "#hide\n",
    "def get_mappings(url):\n",
    "    df = pd.read_csv(url)\n",
    "    return {\n",
    "        'df': df,\n",
    "        'replace.country': dict(df.dropna(subset=['Name']).set_index('Country')['Name']),\n",
    "        'map.continent': dict(df.set_index('Name')['Continent'])\n",
    "    }"
   ]
  },
  {
   "cell_type": "code",
   "execution_count": 5,
   "id": "intimate-machinery",
   "metadata": {
    "execution": {
     "iopub.execute_input": "2022-10-30T12:18:59.595040Z",
     "iopub.status.busy": "2022-10-30T12:18:59.593926Z",
     "iopub.status.idle": "2022-10-30T12:18:59.624096Z",
     "shell.execute_reply": "2022-10-30T12:18:59.623521Z"
    },
    "papermill": {
     "duration": 0.074947,
     "end_time": "2022-10-30T12:18:59.624236",
     "exception": false,
     "start_time": "2022-10-30T12:18:59.549289",
     "status": "completed"
    },
    "tags": []
   },
   "outputs": [],
   "source": [
    "#hide\n",
    "mapping = get_mappings(paths['mapping'])"
   ]
  },
  {
   "cell_type": "code",
   "execution_count": 6,
   "id": "certified-tactics",
   "metadata": {
    "execution": {
     "iopub.execute_input": "2022-10-30T12:18:59.705255Z",
     "iopub.status.busy": "2022-10-30T12:18:59.704517Z",
     "iopub.status.idle": "2022-10-30T12:18:59.707381Z",
     "shell.execute_reply": "2022-10-30T12:18:59.708116Z"
    },
    "papermill": {
     "duration": 0.045311,
     "end_time": "2022-10-30T12:18:59.708280",
     "exception": false,
     "start_time": "2022-10-30T12:18:59.662969",
     "status": "completed"
    },
    "tags": []
   },
   "outputs": [],
   "source": [
    "#hide\n",
    "def get_template(path):\n",
    "    from urllib.parse import urlparse\n",
    "    if bool(urlparse(path).netloc):\n",
    "        from urllib.request import urlopen\n",
    "        return urlopen(path).read().decode('utf8')\n",
    "    return open(path).read()"
   ]
  },
  {
   "cell_type": "code",
   "execution_count": 7,
   "id": "realistic-blast",
   "metadata": {
    "execution": {
     "iopub.execute_input": "2022-10-30T12:18:59.787696Z",
     "iopub.status.busy": "2022-10-30T12:18:59.786936Z",
     "iopub.status.idle": "2022-10-30T12:18:59.791041Z",
     "shell.execute_reply": "2022-10-30T12:18:59.790324Z"
    },
    "papermill": {
     "duration": 0.046489,
     "end_time": "2022-10-30T12:18:59.791196",
     "exception": false,
     "start_time": "2022-10-30T12:18:59.744707",
     "status": "completed"
    },
    "tags": []
   },
   "outputs": [],
   "source": [
    "#hide\n",
    "def get_frame(name):\n",
    "    url = (\n",
    "        'https://raw.githubusercontent.com/CSSEGISandData/COVID-19/master/csse_covid_19_data/'\n",
    "        f'csse_covid_19_time_series/time_series_covid19_{name}_global.csv')\n",
    "    df = pd.read_csv(url)\n",
    "    # rename countries\n",
    "    df['Country/Region'] = df['Country/Region'].replace(mapping['replace.country'])\n",
    "    return df"
   ]
  },
  {
   "cell_type": "code",
   "execution_count": 8,
   "id": "affiliated-characterization",
   "metadata": {
    "execution": {
     "iopub.execute_input": "2022-10-30T12:18:59.875125Z",
     "iopub.status.busy": "2022-10-30T12:18:59.874354Z",
     "iopub.status.idle": "2022-10-30T12:18:59.877490Z",
     "shell.execute_reply": "2022-10-30T12:18:59.876933Z"
    },
    "papermill": {
     "duration": 0.045925,
     "end_time": "2022-10-30T12:18:59.877612",
     "exception": false,
     "start_time": "2022-10-30T12:18:59.831687",
     "status": "completed"
    },
    "tags": []
   },
   "outputs": [],
   "source": [
    "#hide\n",
    "def get_dates(df):\n",
    "    dt_cols = df.columns[~df.columns.isin(['Province/State', 'Country/Region', 'Lat', 'Long'])]\n",
    "    LAST_DATE_I = -1\n",
    "    # sometimes last column may be empty, then go backwards\n",
    "    for i in range(-1, -len(dt_cols), -1):\n",
    "        if not df[dt_cols[i]].fillna(0).eq(0).all():\n",
    "            LAST_DATE_I = i\n",
    "            break\n",
    "    return LAST_DATE_I, dt_cols"
   ]
  },
  {
   "cell_type": "code",
   "execution_count": 9,
   "id": "recent-optimization",
   "metadata": {
    "execution": {
     "iopub.execute_input": "2022-10-30T12:18:59.956502Z",
     "iopub.status.busy": "2022-10-30T12:18:59.955685Z",
     "iopub.status.idle": "2022-10-30T12:19:00.443087Z",
     "shell.execute_reply": "2022-10-30T12:19:00.443841Z"
    },
    "papermill": {
     "duration": 0.530236,
     "end_time": "2022-10-30T12:19:00.444059",
     "exception": false,
     "start_time": "2022-10-30T12:18:59.913823",
     "status": "completed"
    },
    "tags": []
   },
   "outputs": [],
   "source": [
    "#hide\n",
    "COL_REGION = 'Country/Region'\n",
    "# Confirmed, Recovered, Deaths\n",
    "df = get_frame('confirmed')\n",
    "# dft_: timeseries, dfc_: today country agg\n",
    "dft_cases = df\n",
    "dft_deaths = get_frame('deaths')\n",
    "dft_recovered = get_frame('recovered')\n",
    "LAST_DATE_I, dt_cols = get_dates(df)"
   ]
  },
  {
   "cell_type": "code",
   "execution_count": 10,
   "id": "absolute-copper",
   "metadata": {
    "execution": {
     "iopub.execute_input": "2022-10-30T12:19:00.525691Z",
     "iopub.status.busy": "2022-10-30T12:19:00.524987Z",
     "iopub.status.idle": "2022-10-30T12:19:00.529918Z",
     "shell.execute_reply": "2022-10-30T12:19:00.529336Z"
    },
    "papermill": {
     "duration": 0.048586,
     "end_time": "2022-10-30T12:19:00.530224",
     "exception": false,
     "start_time": "2022-10-30T12:19:00.481638",
     "status": "completed"
    },
    "tags": []
   },
   "outputs": [],
   "source": [
    "#hide\n",
    "LAST_DATE_I, dt_cols = get_dates(df)\n",
    "dt_today =dt_cols[LAST_DATE_I]\n",
    "# dt_5day = dt_cols[LAST_DATE_I - 5]\n",
    "dt_yday = dt_cols[LAST_DATE_I - 1]"
   ]
  },
  {
   "cell_type": "code",
   "execution_count": 11,
   "id": "restricted-sheriff",
   "metadata": {
    "execution": {
     "iopub.execute_input": "2022-10-30T12:19:00.611299Z",
     "iopub.status.busy": "2022-10-30T12:19:00.610521Z",
     "iopub.status.idle": "2022-10-30T12:19:00.619833Z",
     "shell.execute_reply": "2022-10-30T12:19:00.620369Z"
    },
    "papermill": {
     "duration": 0.055742,
     "end_time": "2022-10-30T12:19:00.620538",
     "exception": false,
     "start_time": "2022-10-30T12:19:00.564796",
     "status": "completed"
    },
    "tags": []
   },
   "outputs": [],
   "source": [
    "#hide\n",
    "dfc_cases = dft_cases.groupby(COL_REGION)[dt_today].sum()\n",
    "dfc_deaths = dft_deaths.groupby(COL_REGION)[dt_today].sum()\n",
    "# dfp_cases = dft_cases.groupby(COL_REGION)[dt_5day].sum()\n",
    "# dfp_deaths = dft_deaths.groupby(COL_REGION)[dt_5day].sum()\n",
    "dfp_cases = dft_cases.groupby(COL_REGION)[dt_yday].sum()\n",
    "dfp_deaths = dft_deaths.groupby(COL_REGION)[dt_yday].sum()"
   ]
  },
  {
   "cell_type": "code",
   "execution_count": 12,
   "id": "deluxe-hepatitis",
   "metadata": {
    "execution": {
     "iopub.execute_input": "2022-10-30T12:19:00.704120Z",
     "iopub.status.busy": "2022-10-30T12:19:00.703418Z",
     "iopub.status.idle": "2022-10-30T12:19:00.708984Z",
     "shell.execute_reply": "2022-10-30T12:19:00.709446Z"
    },
    "papermill": {
     "duration": 0.051227,
     "end_time": "2022-10-30T12:19:00.709605",
     "exception": false,
     "start_time": "2022-10-30T12:19:00.658378",
     "status": "completed"
    },
    "tags": []
   },
   "outputs": [],
   "source": [
    "#hide\n",
    "df_table = (pd.DataFrame(dict(Cases = dfc_cases, Deaths = dfc_deaths, PCases = dfp_cases, PDeaths = dfp_deaths))\n",
    "            .sort_values(by = ['Cases','Deaths'], ascending = [False, False])\n",
    "            .reset_index())"
   ]
  },
  {
   "cell_type": "code",
   "execution_count": 13,
   "id": "educational-chancellor",
   "metadata": {
    "execution": {
     "iopub.execute_input": "2022-10-30T12:19:00.805041Z",
     "iopub.status.busy": "2022-10-30T12:19:00.804368Z",
     "iopub.status.idle": "2022-10-30T12:19:00.807835Z",
     "shell.execute_reply": "2022-10-30T12:19:00.808455Z"
    },
    "papermill": {
     "duration": 0.065478,
     "end_time": "2022-10-30T12:19:00.808598",
     "exception": false,
     "start_time": "2022-10-30T12:19:00.743120",
     "status": "completed"
    },
    "tags": []
   },
   "outputs": [
    {
     "data": {
      "text/html": [
       "<div>\n",
       "<style scoped>\n",
       "    .dataframe tbody tr th:only-of-type {\n",
       "        vertical-align: middle;\n",
       "    }\n",
       "\n",
       "    .dataframe tbody tr th {\n",
       "        vertical-align: top;\n",
       "    }\n",
       "\n",
       "    .dataframe thead th {\n",
       "        text-align: right;\n",
       "    }\n",
       "</style>\n",
       "<table border=\"1\" class=\"dataframe\">\n",
       "  <thead>\n",
       "    <tr style=\"text-align: right;\">\n",
       "      <th></th>\n",
       "      <th>Country/Region</th>\n",
       "      <th>Cases</th>\n",
       "      <th>Deaths</th>\n",
       "      <th>PCases</th>\n",
       "      <th>PDeaths</th>\n",
       "      <th>Cases (+)</th>\n",
       "      <th>Deaths (+)</th>\n",
       "      <th>Fatality Rate</th>\n",
       "      <th>Continent</th>\n",
       "    </tr>\n",
       "  </thead>\n",
       "  <tbody>\n",
       "    <tr>\n",
       "      <th>0</th>\n",
       "      <td>US</td>\n",
       "      <td>97447532</td>\n",
       "      <td>1070264</td>\n",
       "      <td>97438900</td>\n",
       "      <td>1070234</td>\n",
       "      <td>8632</td>\n",
       "      <td>30</td>\n",
       "      <td>1.10</td>\n",
       "      <td>North America</td>\n",
       "    </tr>\n",
       "    <tr>\n",
       "      <th>1</th>\n",
       "      <td>India</td>\n",
       "      <td>44652256</td>\n",
       "      <td>529016</td>\n",
       "      <td>44650662</td>\n",
       "      <td>529008</td>\n",
       "      <td>1594</td>\n",
       "      <td>8</td>\n",
       "      <td>1.18</td>\n",
       "      <td>Asia</td>\n",
       "    </tr>\n",
       "    <tr>\n",
       "      <th>2</th>\n",
       "      <td>France</td>\n",
       "      <td>36987918</td>\n",
       "      <td>157872</td>\n",
       "      <td>36987918</td>\n",
       "      <td>157872</td>\n",
       "      <td>0</td>\n",
       "      <td>0</td>\n",
       "      <td>0.43</td>\n",
       "      <td>Europe</td>\n",
       "    </tr>\n",
       "    <tr>\n",
       "      <th>3</th>\n",
       "      <td>Germany</td>\n",
       "      <td>35571130</td>\n",
       "      <td>153544</td>\n",
       "      <td>35571130</td>\n",
       "      <td>153544</td>\n",
       "      <td>0</td>\n",
       "      <td>0</td>\n",
       "      <td>0.43</td>\n",
       "      <td>Europe</td>\n",
       "    </tr>\n",
       "    <tr>\n",
       "      <th>4</th>\n",
       "      <td>Brazil</td>\n",
       "      <td>34815258</td>\n",
       "      <td>687962</td>\n",
       "      <td>34815258</td>\n",
       "      <td>687962</td>\n",
       "      <td>0</td>\n",
       "      <td>0</td>\n",
       "      <td>1.98</td>\n",
       "      <td>South America</td>\n",
       "    </tr>\n",
       "  </tbody>\n",
       "</table>\n",
       "</div>"
      ],
      "text/plain": [
       "  Country/Region     Cases   Deaths    PCases  PDeaths  Cases (+)  Deaths (+)  \\\n",
       "0             US  97447532  1070264  97438900  1070234       8632          30   \n",
       "1          India  44652256   529016  44650662   529008       1594           8   \n",
       "2         France  36987918   157872  36987918   157872          0           0   \n",
       "3        Germany  35571130   153544  35571130   153544          0           0   \n",
       "4         Brazil  34815258   687962  34815258   687962          0           0   \n",
       "\n",
       "   Fatality Rate      Continent  \n",
       "0           1.10  North America  \n",
       "1           1.18           Asia  \n",
       "2           0.43         Europe  \n",
       "3           0.43         Europe  \n",
       "4           1.98  South America  "
      ]
     },
     "execution_count": 13,
     "metadata": {},
     "output_type": "execute_result"
    }
   ],
   "source": [
    "#hide\n",
    "for c in 'Cases, Deaths'.split(', '):\n",
    "    df_table[f'{c} (+)'] = (df_table[c] - df_table[f'P{c}']).clip(0)\n",
    "    #Clip ça veut dire, les chiffres negatif sont interdit\n",
    "df_table['Fatality Rate'] = (100* df_table['Deaths']/ df_table['Cases']).round(2)\n",
    "df_table['Continent'] = df_table['Country/Region'].map(mapping['map.continent'])\n",
    "df_table.head(5)"
   ]
  },
  {
   "cell_type": "code",
   "execution_count": 14,
   "id": "aboriginal-bulgaria",
   "metadata": {
    "execution": {
     "iopub.execute_input": "2022-10-30T12:19:00.882399Z",
     "iopub.status.busy": "2022-10-30T12:19:00.880921Z",
     "iopub.status.idle": "2022-10-30T12:19:00.885129Z",
     "shell.execute_reply": "2022-10-30T12:19:00.885741Z"
    },
    "papermill": {
     "duration": 0.043045,
     "end_time": "2022-10-30T12:19:00.885879",
     "exception": false,
     "start_time": "2022-10-30T12:19:00.842834",
     "status": "completed"
    },
    "tags": []
   },
   "outputs": [],
   "source": [
    "#hide\n",
    "#delete problematic countries from table\n",
    "df_table = df_table[~df_table['Country/Region'].isin(['Cape Verde', 'Cruise Ship', 'Kosovo'])]"
   ]
  },
  {
   "cell_type": "code",
   "execution_count": 15,
   "id": "fantastic-effect",
   "metadata": {
    "execution": {
     "iopub.execute_input": "2022-10-30T12:19:00.959939Z",
     "iopub.status.busy": "2022-10-30T12:19:00.959268Z",
     "iopub.status.idle": "2022-10-30T12:19:00.980137Z",
     "shell.execute_reply": "2022-10-30T12:19:00.980749Z"
    },
    "papermill": {
     "duration": 0.061777,
     "end_time": "2022-10-30T12:19:00.980876",
     "exception": false,
     "start_time": "2022-10-30T12:19:00.919099",
     "status": "completed"
    },
    "tags": []
   },
   "outputs": [
    {
     "data": {
      "text/html": [
       "<div>\n",
       "<style scoped>\n",
       "    .dataframe tbody tr th:only-of-type {\n",
       "        vertical-align: middle;\n",
       "    }\n",
       "\n",
       "    .dataframe tbody tr th {\n",
       "        vertical-align: top;\n",
       "    }\n",
       "\n",
       "    .dataframe thead th {\n",
       "        text-align: right;\n",
       "    }\n",
       "</style>\n",
       "<table border=\"1\" class=\"dataframe\">\n",
       "  <thead>\n",
       "    <tr style=\"text-align: right;\">\n",
       "      <th></th>\n",
       "      <th>Country/Region</th>\n",
       "      <th>Cases</th>\n",
       "      <th>Deaths</th>\n",
       "      <th>PCases</th>\n",
       "      <th>PDeaths</th>\n",
       "      <th>Cases (+)</th>\n",
       "      <th>Deaths (+)</th>\n",
       "      <th>Fatality Rate</th>\n",
       "      <th>Continent</th>\n",
       "    </tr>\n",
       "  </thead>\n",
       "  <tbody>\n",
       "    <tr>\n",
       "      <th>0</th>\n",
       "      <td>US</td>\n",
       "      <td>97447532</td>\n",
       "      <td>1070264</td>\n",
       "      <td>97438900</td>\n",
       "      <td>1070234</td>\n",
       "      <td>8632</td>\n",
       "      <td>30</td>\n",
       "      <td>1.1</td>\n",
       "      <td>North America</td>\n",
       "    </tr>\n",
       "    <tr>\n",
       "      <th>1</th>\n",
       "      <td>India</td>\n",
       "      <td>44652256</td>\n",
       "      <td>529016</td>\n",
       "      <td>44650662</td>\n",
       "      <td>529008</td>\n",
       "      <td>1594</td>\n",
       "      <td>8</td>\n",
       "      <td>1.2</td>\n",
       "      <td>Asia</td>\n",
       "    </tr>\n",
       "    <tr>\n",
       "      <th>2</th>\n",
       "      <td>France</td>\n",
       "      <td>36987918</td>\n",
       "      <td>157872</td>\n",
       "      <td>36987918</td>\n",
       "      <td>157872</td>\n",
       "      <td>0</td>\n",
       "      <td>0</td>\n",
       "      <td>0.4</td>\n",
       "      <td>Europe</td>\n",
       "    </tr>\n",
       "    <tr>\n",
       "      <th>3</th>\n",
       "      <td>Germany</td>\n",
       "      <td>35571130</td>\n",
       "      <td>153544</td>\n",
       "      <td>35571130</td>\n",
       "      <td>153544</td>\n",
       "      <td>0</td>\n",
       "      <td>0</td>\n",
       "      <td>0.4</td>\n",
       "      <td>Europe</td>\n",
       "    </tr>\n",
       "    <tr>\n",
       "      <th>4</th>\n",
       "      <td>Brazil</td>\n",
       "      <td>34815258</td>\n",
       "      <td>687962</td>\n",
       "      <td>34815258</td>\n",
       "      <td>687962</td>\n",
       "      <td>0</td>\n",
       "      <td>0</td>\n",
       "      <td>2.0</td>\n",
       "      <td>South America</td>\n",
       "    </tr>\n",
       "  </tbody>\n",
       "</table>\n",
       "</div>"
      ],
      "text/plain": [
       "  Country/Region     Cases   Deaths    PCases  PDeaths  Cases (+)  Deaths (+)  \\\n",
       "0             US  97447532  1070264  97438900  1070234       8632          30   \n",
       "1          India  44652256   529016  44650662   529008       1594           8   \n",
       "2         France  36987918   157872  36987918   157872          0           0   \n",
       "3        Germany  35571130   153544  35571130   153544          0           0   \n",
       "4         Brazil  34815258   687962  34815258   687962          0           0   \n",
       "\n",
       "   Fatality Rate      Continent  \n",
       "0            1.1  North America  \n",
       "1            1.2           Asia  \n",
       "2            0.4         Europe  \n",
       "3            0.4         Europe  \n",
       "4            2.0  South America  "
      ]
     },
     "execution_count": 15,
     "metadata": {},
     "output_type": "execute_result"
    }
   ],
   "source": [
    "#hide\n",
    "df_table = (pd.DataFrame(dict(Cases=dfc_cases, Deaths=dfc_deaths, PCases=dfp_cases, PDeaths=dfp_deaths))\n",
    "             .sort_values(by=['Cases', 'Deaths'], ascending=[False, False])\n",
    "             .reset_index())\n",
    "df_table.rename(columns={'index': 'Country/Region'}, inplace=True)\n",
    "for c in 'Cases, Deaths'.split(', '):\n",
    "    df_table[f'{c} (+)'] = (df_table[c] - df_table[f'P{c}']).clip(0)  # DATA BUG\n",
    "df_table['Fatality Rate'] = (100 * df_table['Deaths'] / df_table['Cases']).round(1)\n",
    "df_table['Continent'] = df_table['Country/Region'].map(mapping['map.continent'])\n",
    "df_table.head(5)"
   ]
  },
  {
   "cell_type": "code",
   "execution_count": 16,
   "id": "fewer-occasion",
   "metadata": {
    "execution": {
     "iopub.execute_input": "2022-10-30T12:19:01.065920Z",
     "iopub.status.busy": "2022-10-30T12:19:01.065034Z",
     "iopub.status.idle": "2022-10-30T12:19:01.068293Z",
     "shell.execute_reply": "2022-10-30T12:19:01.069010Z"
    },
    "papermill": {
     "duration": 0.052291,
     "end_time": "2022-10-30T12:19:01.069159",
     "exception": false,
     "start_time": "2022-10-30T12:19:01.016868",
     "status": "completed"
    },
    "tags": []
   },
   "outputs": [],
   "source": [
    "#hide\n",
    "#delete problematic countries from table\n",
    "df_table = df_table[~df_table['Country/Region'].isin(['Cape Verde', 'Cruise Ship', 'Kosovo'])]"
   ]
  },
  {
   "cell_type": "code",
   "execution_count": 17,
   "id": "related-center",
   "metadata": {
    "execution": {
     "iopub.execute_input": "2022-10-30T12:19:01.161932Z",
     "iopub.status.busy": "2022-10-30T12:19:01.161229Z",
     "iopub.status.idle": "2022-10-30T12:19:01.164251Z",
     "shell.execute_reply": "2022-10-30T12:19:01.163540Z"
    },
    "papermill": {
     "duration": 0.058147,
     "end_time": "2022-10-30T12:19:01.164373",
     "exception": false,
     "start_time": "2022-10-30T12:19:01.106226",
     "status": "completed"
    },
    "tags": []
   },
   "outputs": [],
   "source": [
    "#hide\n",
    "metrics = [df_table.columns[index] for index in [1,2,5,6]]\n",
    "# s_china = df_table[df_table['Country/Region'].eq('China')][metrics].sum().add_prefix('China ')\n",
    "s_us = df_table[df_table['Country/Region'].eq('US')][metrics].sum().add_prefix('US ')\n",
    "s_eu = df_table[df_table['Continent'].eq('Europe')][metrics].sum().add_prefix('EU ')\n",
    "s_ind = df_table[df_table['Country/Region'].eq('India')][metrics].sum().add_prefix('India ')\n",
    "summary = {'updated': pd.to_datetime(dt_today), 'since': pd.to_datetime(dt_yday)}\n",
    "summary = {'updated': pd.to_datetime(dt_today), 'since': pd.to_datetime(dt_yday)}\n",
    "summary = {**summary, **df_table[metrics].sum(), **s_ind, **s_us, **s_eu}"
   ]
  },
  {
   "cell_type": "code",
   "execution_count": 18,
   "id": "engaging-syndrome",
   "metadata": {
    "execution": {
     "iopub.execute_input": "2022-10-30T12:19:01.255041Z",
     "iopub.status.busy": "2022-10-30T12:19:01.254216Z",
     "iopub.status.idle": "2022-10-30T12:19:01.278108Z",
     "shell.execute_reply": "2022-10-30T12:19:01.277531Z"
    },
    "papermill": {
     "duration": 0.076464,
     "end_time": "2022-10-30T12:19:01.278234",
     "exception": false,
     "start_time": "2022-10-30T12:19:01.201770",
     "status": "completed"
    },
    "tags": []
   },
   "outputs": [],
   "source": [
    "#hide\n",
    "dft_ct_new_cases = dft_cases.groupby(COL_REGION)[dt_cols].sum().diff(axis=1).fillna(0).astype(int)"
   ]
  },
  {
   "cell_type": "code",
   "execution_count": 19,
   "id": "neutral-assignment",
   "metadata": {
    "execution": {
     "iopub.execute_input": "2022-10-30T12:19:01.354658Z",
     "iopub.status.busy": "2022-10-30T12:19:01.354027Z",
     "iopub.status.idle": "2022-10-30T12:19:01.359938Z",
     "shell.execute_reply": "2022-10-30T12:19:01.360676Z"
    },
    "papermill": {
     "duration": 0.045953,
     "end_time": "2022-10-30T12:19:01.360803",
     "exception": false,
     "start_time": "2022-10-30T12:19:01.314850",
     "status": "completed"
    },
    "tags": []
   },
   "outputs": [],
   "source": [
    "#hide\n",
    "everydaycases = dft_ct_new_cases.cumsum(axis=1)"
   ]
  },
  {
   "cell_type": "code",
   "execution_count": 20,
   "id": "parliamentary-calgary",
   "metadata": {
    "execution": {
     "iopub.execute_input": "2022-10-30T12:19:01.443031Z",
     "iopub.status.busy": "2022-10-30T12:19:01.442366Z",
     "iopub.status.idle": "2022-10-30T12:19:02.064027Z",
     "shell.execute_reply": "2022-10-30T12:19:02.062489Z"
    },
    "papermill": {
     "duration": 0.665761,
     "end_time": "2022-10-30T12:19:02.064221",
     "exception": false,
     "start_time": "2022-10-30T12:19:01.398460",
     "status": "completed"
    },
    "tags": []
   },
   "outputs": [],
   "source": [
    "#hide\n",
    "import pandas as pd\n",
    "import matplotlib.pyplot as plt\n",
    "import matplotlib.ticker as ticker\n",
    "import matplotlib.animation as animation\n",
    "from IPython.display import HTML"
   ]
  },
  {
   "cell_type": "code",
   "execution_count": 21,
   "id": "lasting-extraction",
   "metadata": {
    "execution": {
     "iopub.execute_input": "2022-10-30T12:19:02.143637Z",
     "iopub.status.busy": "2022-10-30T12:19:02.142983Z",
     "iopub.status.idle": "2022-10-30T12:19:02.150501Z",
     "shell.execute_reply": "2022-10-30T12:19:02.149849Z"
    },
    "papermill": {
     "duration": 0.049767,
     "end_time": "2022-10-30T12:19:02.150620",
     "exception": false,
     "start_time": "2022-10-30T12:19:02.100853",
     "status": "completed"
    },
    "tags": []
   },
   "outputs": [],
   "source": [
    "#hide\n",
    "t = everydaycases.stack()"
   ]
  },
  {
   "cell_type": "code",
   "execution_count": 22,
   "id": "premier-sleeve",
   "metadata": {
    "execution": {
     "iopub.execute_input": "2022-10-30T12:19:02.230720Z",
     "iopub.status.busy": "2022-10-30T12:19:02.229960Z",
     "iopub.status.idle": "2022-10-30T12:19:02.244952Z",
     "shell.execute_reply": "2022-10-30T12:19:02.244404Z"
    },
    "papermill": {
     "duration": 0.057975,
     "end_time": "2022-10-30T12:19:02.245078",
     "exception": false,
     "start_time": "2022-10-30T12:19:02.187103",
     "status": "completed"
    },
    "tags": []
   },
   "outputs": [],
   "source": [
    "#hide\n",
    "g = t.reset_index(['Country/Region'])"
   ]
  },
  {
   "cell_type": "code",
   "execution_count": 23,
   "id": "distributed-pittsburgh",
   "metadata": {
    "execution": {
     "iopub.execute_input": "2022-10-30T12:19:02.324681Z",
     "iopub.status.busy": "2022-10-30T12:19:02.324024Z",
     "iopub.status.idle": "2022-10-30T12:19:02.327030Z",
     "shell.execute_reply": "2022-10-30T12:19:02.326149Z"
    },
    "papermill": {
     "duration": 0.044754,
     "end_time": "2022-10-30T12:19:02.327172",
     "exception": false,
     "start_time": "2022-10-30T12:19:02.282418",
     "status": "completed"
    },
    "tags": []
   },
   "outputs": [],
   "source": [
    "#hide\n",
    "g.index.name = 'date'"
   ]
  },
  {
   "cell_type": "code",
   "execution_count": 24,
   "id": "naked-donor",
   "metadata": {
    "execution": {
     "iopub.execute_input": "2022-10-30T12:19:02.411548Z",
     "iopub.status.busy": "2022-10-30T12:19:02.410688Z",
     "iopub.status.idle": "2022-10-30T12:19:02.413709Z",
     "shell.execute_reply": "2022-10-30T12:19:02.413138Z"
    },
    "papermill": {
     "duration": 0.048698,
     "end_time": "2022-10-30T12:19:02.413837",
     "exception": false,
     "start_time": "2022-10-30T12:19:02.365139",
     "status": "completed"
    },
    "tags": []
   },
   "outputs": [],
   "source": [
    "# #hide\n",
    "# g = g.reset_index(['date'])"
   ]
  },
  {
   "cell_type": "code",
   "execution_count": 25,
   "id": "incomplete-mustang",
   "metadata": {
    "execution": {
     "iopub.execute_input": "2022-10-30T12:19:02.493188Z",
     "iopub.status.busy": "2022-10-30T12:19:02.492489Z",
     "iopub.status.idle": "2022-10-30T12:19:02.495326Z",
     "shell.execute_reply": "2022-10-30T12:19:02.494672Z"
    },
    "papermill": {
     "duration": 0.04277,
     "end_time": "2022-10-30T12:19:02.495447",
     "exception": false,
     "start_time": "2022-10-30T12:19:02.452677",
     "status": "completed"
    },
    "tags": []
   },
   "outputs": [],
   "source": [
    "#hide\n",
    "# g.head()"
   ]
  },
  {
   "cell_type": "code",
   "execution_count": 26,
   "id": "specific-kruger",
   "metadata": {
    "execution": {
     "iopub.execute_input": "2022-10-30T12:19:02.571275Z",
     "iopub.status.busy": "2022-10-30T12:19:02.570604Z",
     "iopub.status.idle": "2022-10-30T12:19:02.573436Z",
     "shell.execute_reply": "2022-10-30T12:19:02.572906Z"
    },
    "papermill": {
     "duration": 0.04349,
     "end_time": "2022-10-30T12:19:02.573554",
     "exception": false,
     "start_time": "2022-10-30T12:19:02.530064",
     "status": "completed"
    },
    "tags": []
   },
   "outputs": [],
   "source": [
    "#hide\n",
    "# g.columns = ['date','country','cases']"
   ]
  },
  {
   "cell_type": "code",
   "execution_count": 27,
   "id": "tender-conversion",
   "metadata": {
    "execution": {
     "iopub.execute_input": "2022-10-30T12:19:02.646575Z",
     "iopub.status.busy": "2022-10-30T12:19:02.645762Z",
     "iopub.status.idle": "2022-10-30T12:19:02.648777Z",
     "shell.execute_reply": "2022-10-30T12:19:02.648172Z"
    },
    "papermill": {
     "duration": 0.040449,
     "end_time": "2022-10-30T12:19:02.648890",
     "exception": false,
     "start_time": "2022-10-30T12:19:02.608441",
     "status": "completed"
    },
    "tags": []
   },
   "outputs": [],
   "source": [
    "#hide\n",
    "# g['continent'] = g.country"
   ]
  },
  {
   "cell_type": "code",
   "execution_count": 28,
   "id": "substantial-wilderness",
   "metadata": {
    "execution": {
     "iopub.execute_input": "2022-10-30T12:19:02.731376Z",
     "iopub.status.busy": "2022-10-30T12:19:02.730582Z",
     "iopub.status.idle": "2022-10-30T12:19:02.733135Z",
     "shell.execute_reply": "2022-10-30T12:19:02.733746Z"
    },
    "papermill": {
     "duration": 0.046123,
     "end_time": "2022-10-30T12:19:02.733890",
     "exception": false,
     "start_time": "2022-10-30T12:19:02.687767",
     "status": "completed"
    },
    "tags": []
   },
   "outputs": [],
   "source": [
    "#hide\n",
    "# cols = list(g.columns.values)"
   ]
  },
  {
   "cell_type": "code",
   "execution_count": 29,
   "id": "solved-farming",
   "metadata": {
    "execution": {
     "iopub.execute_input": "2022-10-30T12:19:02.818741Z",
     "iopub.status.busy": "2022-10-30T12:19:02.818069Z",
     "iopub.status.idle": "2022-10-30T12:19:02.828110Z",
     "shell.execute_reply": "2022-10-30T12:19:02.822858Z"
    },
    "papermill": {
     "duration": 0.052896,
     "end_time": "2022-10-30T12:19:02.828239",
     "exception": false,
     "start_time": "2022-10-30T12:19:02.775343",
     "status": "completed"
    },
    "tags": []
   },
   "outputs": [],
   "source": [
    "#hide\n",
    "# cols.insert(0, cols.pop())"
   ]
  },
  {
   "cell_type": "code",
   "execution_count": 30,
   "id": "executed-adoption",
   "metadata": {
    "execution": {
     "iopub.execute_input": "2022-10-30T12:19:02.919354Z",
     "iopub.status.busy": "2022-10-30T12:19:02.918523Z",
     "iopub.status.idle": "2022-10-30T12:19:02.922534Z",
     "shell.execute_reply": "2022-10-30T12:19:02.921864Z"
    },
    "papermill": {
     "duration": 0.050578,
     "end_time": "2022-10-30T12:19:02.922667",
     "exception": false,
     "start_time": "2022-10-30T12:19:02.872089",
     "status": "completed"
    },
    "tags": []
   },
   "outputs": [],
   "source": [
    "#hide\n",
    "# g = g[cols]"
   ]
  },
  {
   "cell_type": "code",
   "execution_count": 31,
   "id": "subject-dublin",
   "metadata": {
    "execution": {
     "iopub.execute_input": "2022-10-30T12:19:03.006971Z",
     "iopub.status.busy": "2022-10-30T12:19:03.006310Z",
     "iopub.status.idle": "2022-10-30T12:19:03.009108Z",
     "shell.execute_reply": "2022-10-30T12:19:03.008594Z"
    },
    "papermill": {
     "duration": 0.044861,
     "end_time": "2022-10-30T12:19:03.009225",
     "exception": false,
     "start_time": "2022-10-30T12:19:02.964364",
     "status": "completed"
    },
    "tags": []
   },
   "outputs": [],
   "source": [
    "#hide\n",
    "# g['continent'] = g['continent'].map(mapping['map.continent'])"
   ]
  },
  {
   "cell_type": "code",
   "execution_count": 32,
   "id": "freelance-scout",
   "metadata": {
    "execution": {
     "iopub.execute_input": "2022-10-30T12:19:03.097712Z",
     "iopub.status.busy": "2022-10-30T12:19:03.096923Z",
     "iopub.status.idle": "2022-10-30T12:19:03.101405Z",
     "shell.execute_reply": "2022-10-30T12:19:03.102057Z"
    },
    "papermill": {
     "duration": 0.053986,
     "end_time": "2022-10-30T12:19:03.102207",
     "exception": false,
     "start_time": "2022-10-30T12:19:03.048221",
     "status": "completed"
    },
    "tags": []
   },
   "outputs": [],
   "source": [
    "#hide\n",
    "# g.head()"
   ]
  },
  {
   "cell_type": "code",
   "execution_count": 33,
   "id": "limited-engine",
   "metadata": {
    "execution": {
     "iopub.execute_input": "2022-10-30T12:19:03.190443Z",
     "iopub.status.busy": "2022-10-30T12:19:03.189531Z",
     "iopub.status.idle": "2022-10-30T12:19:03.192992Z",
     "shell.execute_reply": "2022-10-30T12:19:03.192424Z"
    },
    "papermill": {
     "duration": 0.048577,
     "end_time": "2022-10-30T12:19:03.193118",
     "exception": false,
     "start_time": "2022-10-30T12:19:03.144541",
     "status": "completed"
    },
    "tags": []
   },
   "outputs": [],
   "source": [
    "# hide\n",
    "# g['date'] = g['date'].astype('datetime64[ns]')"
   ]
  },
  {
   "cell_type": "code",
   "execution_count": 34,
   "id": "sophisticated-supervisor",
   "metadata": {
    "execution": {
     "iopub.execute_input": "2022-10-30T12:19:03.280724Z",
     "iopub.status.busy": "2022-10-30T12:19:03.280028Z",
     "iopub.status.idle": "2022-10-30T12:19:03.283123Z",
     "shell.execute_reply": "2022-10-30T12:19:03.282396Z"
    },
    "papermill": {
     "duration": 0.04837,
     "end_time": "2022-10-30T12:19:03.283250",
     "exception": false,
     "start_time": "2022-10-30T12:19:03.234880",
     "status": "completed"
    },
    "tags": []
   },
   "outputs": [],
   "source": [
    "#hide\n",
    "# g['date'] = g.date.dt.dayofyear"
   ]
  },
  {
   "cell_type": "code",
   "execution_count": 35,
   "id": "inside-dubai",
   "metadata": {
    "execution": {
     "iopub.execute_input": "2022-10-30T12:19:03.361070Z",
     "iopub.status.busy": "2022-10-30T12:19:03.360278Z",
     "iopub.status.idle": "2022-10-30T12:19:03.363816Z",
     "shell.execute_reply": "2022-10-30T12:19:03.363044Z"
    },
    "papermill": {
     "duration": 0.045147,
     "end_time": "2022-10-30T12:19:03.363937",
     "exception": false,
     "start_time": "2022-10-30T12:19:03.318790",
     "status": "completed"
    },
    "tags": []
   },
   "outputs": [],
   "source": [
    "#hide\n",
    "# g = g.rename(columns= {'continent':'group','country':'name','cases':'value'})"
   ]
  },
  {
   "cell_type": "code",
   "execution_count": 36,
   "id": "fleet-motorcycle",
   "metadata": {
    "execution": {
     "iopub.execute_input": "2022-10-30T12:19:03.441067Z",
     "iopub.status.busy": "2022-10-30T12:19:03.440225Z",
     "iopub.status.idle": "2022-10-30T12:19:03.442436Z",
     "shell.execute_reply": "2022-10-30T12:19:03.443041Z"
    },
    "papermill": {
     "duration": 0.043936,
     "end_time": "2022-10-30T12:19:03.443179",
     "exception": false,
     "start_time": "2022-10-30T12:19:03.399243",
     "status": "completed"
    },
    "tags": []
   },
   "outputs": [],
   "source": [
    "#hide\n",
    "# cols = ['name','group','day','value']"
   ]
  },
  {
   "cell_type": "code",
   "execution_count": 37,
   "id": "continued-sleeping",
   "metadata": {
    "execution": {
     "iopub.execute_input": "2022-10-30T12:19:03.516548Z",
     "iopub.status.busy": "2022-10-30T12:19:03.515912Z",
     "iopub.status.idle": "2022-10-30T12:19:03.518798Z",
     "shell.execute_reply": "2022-10-30T12:19:03.518201Z"
    },
    "papermill": {
     "duration": 0.040368,
     "end_time": "2022-10-30T12:19:03.518940",
     "exception": false,
     "start_time": "2022-10-30T12:19:03.478572",
     "status": "completed"
    },
    "tags": []
   },
   "outputs": [],
   "source": [
    "#hide\n",
    "# g.rename(columns= {'date':'day'},inplace = True)"
   ]
  },
  {
   "cell_type": "code",
   "execution_count": 38,
   "id": "major-fight",
   "metadata": {
    "execution": {
     "iopub.execute_input": "2022-10-30T12:19:03.593207Z",
     "iopub.status.busy": "2022-10-30T12:19:03.592548Z",
     "iopub.status.idle": "2022-10-30T12:19:03.595262Z",
     "shell.execute_reply": "2022-10-30T12:19:03.594644Z"
    },
    "papermill": {
     "duration": 0.041273,
     "end_time": "2022-10-30T12:19:03.595378",
     "exception": false,
     "start_time": "2022-10-30T12:19:03.554105",
     "status": "completed"
    },
    "tags": []
   },
   "outputs": [],
   "source": [
    "#hide\n",
    "# g = g[cols]"
   ]
  },
  {
   "cell_type": "code",
   "execution_count": 39,
   "id": "structured-mobile",
   "metadata": {
    "execution": {
     "iopub.execute_input": "2022-10-30T12:19:03.676182Z",
     "iopub.status.busy": "2022-10-30T12:19:03.675507Z",
     "iopub.status.idle": "2022-10-30T12:19:03.677827Z",
     "shell.execute_reply": "2022-10-30T12:19:03.678376Z"
    },
    "papermill": {
     "duration": 0.047246,
     "end_time": "2022-10-30T12:19:03.678517",
     "exception": false,
     "start_time": "2022-10-30T12:19:03.631271",
     "status": "completed"
    },
    "tags": []
   },
   "outputs": [],
   "source": [
    "# #hide\n",
    "# g = g[g.group.notna()]"
   ]
  },
  {
   "cell_type": "code",
   "execution_count": 40,
   "id": "determined-closing",
   "metadata": {
    "execution": {
     "iopub.execute_input": "2022-10-30T12:19:03.766235Z",
     "iopub.status.busy": "2022-10-30T12:19:03.765469Z",
     "iopub.status.idle": "2022-10-30T12:19:03.768472Z",
     "shell.execute_reply": "2022-10-30T12:19:03.767932Z"
    },
    "papermill": {
     "duration": 0.052834,
     "end_time": "2022-10-30T12:19:03.768598",
     "exception": false,
     "start_time": "2022-10-30T12:19:03.715764",
     "status": "completed"
    },
    "tags": []
   },
   "outputs": [],
   "source": [
    "# #hide\n",
    "# colors = dict(zip(\n",
    "#     [\"Oceania\", \"Europe\", \"Asia\", \"South America\", \"Middle East\", \"North America\", \"Africa\"],\n",
    "#     [\"#adb0ff\", \"#ffb3ff\", \"#90d595\", \"#e48381\", \"#aafbff\", \"#f7bb5f\", \"#eafb50\"]\n",
    "# ))\n",
    "# group_lk = g.set_index('name')['group'].to_dict()"
   ]
  },
  {
   "cell_type": "code",
   "execution_count": null,
   "id": "gross-drinking",
   "metadata": {
    "papermill": {
     "duration": 0.034529,
     "end_time": "2022-10-30T12:19:03.841795",
     "exception": false,
     "start_time": "2022-10-30T12:19:03.807266",
     "status": "completed"
    },
    "tags": []
   },
   "outputs": [],
   "source": []
  },
  {
   "cell_type": "code",
   "execution_count": 41,
   "id": "subject-macintosh",
   "metadata": {
    "execution": {
     "iopub.execute_input": "2022-10-30T12:19:03.919019Z",
     "iopub.status.busy": "2022-10-30T12:19:03.918290Z",
     "iopub.status.idle": "2022-10-30T12:19:03.921290Z",
     "shell.execute_reply": "2022-10-30T12:19:03.920723Z"
    },
    "papermill": {
     "duration": 0.04186,
     "end_time": "2022-10-30T12:19:03.921407",
     "exception": false,
     "start_time": "2022-10-30T12:19:03.879547",
     "status": "completed"
    },
    "tags": []
   },
   "outputs": [],
   "source": [
    "# #hide\n",
    "# fig, ax = plt.subplots(figsize=(15, 8))\n",
    "\n",
    "# def draw_barchart(current_day):\n",
    "#     dff = g[g['day'].eq(current_day)].sort_values(by='value', ascending=True).tail(10)\n",
    "#     ax.clear()\n",
    "#     ax.barh(dff['name'], dff['value'], color=[colors[group_lk[x]] for x in dff['name']])\n",
    "#     dx = dff['value'].max() / 200\n",
    "    \n",
    "#     for i, (value, name) in enumerate(zip(dff['value'], dff['name'])):\n",
    "#         ax.text(value-dx, i,     name,           size=14, weight=600, ha='right', va='bottom')\n",
    "#         ax.text(value-dx, i-.25, group_lk[name], size=10, color='#444444', ha='right', va='baseline')\n",
    "#         ax.text(value+dx, i,     f'{value:,.0f}',  size=14, ha='left',  va='center')\n",
    "#     ax.text(1, 0.4, current_day, transform=ax.transAxes, color='#777777', size=46, ha='right', weight=800)\n",
    "#     ax.text(0, 1.06, 'Population (thousands)', transform=ax.transAxes, size=12, color='#777777')\n",
    "#     ax.xaxis.set_major_formatter(ticker.StrMethodFormatter('{x:,.0f}'))\n",
    "#     ax.xaxis.set_ticks_position('top')\n",
    "#     ax.tick_params(axis='x', colors='#777777', labelsize=12)\n",
    "#     ax.set_yticks([])\n",
    "#     ax.margins(0, 0.01)\n",
    "#     ax.grid(which='major', axis='x', linestyle='-')\n",
    "#     ax.set_axisbelow(True)\n",
    "    \n",
    "#     ax.text(0, 1.15, 'Coronavirus',\n",
    "#             transform=ax.transAxes, size=24, weight=600, ha='left', va='top')\n",
    "# #     ax.text(1, 0, 'by @pratapvardhan; credit @jburnmurdoch', transform=ax.transAxes, color='#777777', ha='right',\n",
    "# #             bbox=dict(facecolor='white', alpha=0.8, edgecolor='white'))\n",
    "#     plt.box(False)"
   ]
  },
  {
   "cell_type": "code",
   "execution_count": 42,
   "id": "sexual-wages",
   "metadata": {
    "execution": {
     "iopub.execute_input": "2022-10-30T12:19:03.996469Z",
     "iopub.status.busy": "2022-10-30T12:19:03.995791Z",
     "iopub.status.idle": "2022-10-30T12:19:03.998880Z",
     "shell.execute_reply": "2022-10-30T12:19:03.998348Z"
    },
    "papermill": {
     "duration": 0.042199,
     "end_time": "2022-10-30T12:19:03.998993",
     "exception": false,
     "start_time": "2022-10-30T12:19:03.956794",
     "status": "completed"
    },
    "tags": []
   },
   "outputs": [],
   "source": [
    "# #hide_input\n",
    "# fig, ax = plt.subplots(figsize=(15, 8))\n",
    "# animator = animation.FuncAnimation(fig, draw_barchart, frames=range(g.day.values.min(), g.day.values.max()))\n",
    "# HTML(animator.to_jshtml())\n",
    "# # or use animator.to_html5_video() or animator.save() "
   ]
  },
  {
   "cell_type": "code",
   "execution_count": null,
   "id": "australian-container",
   "metadata": {
    "papermill": {
     "duration": 0.04389,
     "end_time": "2022-10-30T12:19:04.079500",
     "exception": false,
     "start_time": "2022-10-30T12:19:04.035610",
     "status": "completed"
    },
    "tags": []
   },
   "outputs": [],
   "source": []
  },
  {
   "cell_type": "code",
   "execution_count": null,
   "id": "mediterranean-pontiac",
   "metadata": {
    "papermill": {
     "duration": 0.037699,
     "end_time": "2022-10-30T12:19:04.154764",
     "exception": false,
     "start_time": "2022-10-30T12:19:04.117065",
     "status": "completed"
    },
    "tags": []
   },
   "outputs": [],
   "source": []
  },
  {
   "cell_type": "code",
   "execution_count": null,
   "id": "aging-legislature",
   "metadata": {
    "papermill": {
     "duration": 0.034096,
     "end_time": "2022-10-30T12:19:04.226614",
     "exception": false,
     "start_time": "2022-10-30T12:19:04.192518",
     "status": "completed"
    },
    "tags": []
   },
   "outputs": [],
   "source": []
  }
 ],
 "metadata": {
  "kernelspec": {
   "display_name": "Python 3",
   "language": "python",
   "name": "python3"
  },
  "language_info": {
   "codemirror_mode": {
    "name": "ipython",
    "version": 3
   },
   "file_extension": ".py",
   "mimetype": "text/x-python",
   "name": "python",
   "nbconvert_exporter": "python",
   "pygments_lexer": "ipython3",
   "version": "3.6.15"
  },
  "papermill": {
   "duration": 7.208364,
   "end_time": "2022-10-30T12:19:04.580810",
   "environment_variables": {},
   "exception": null,
   "input_path": "2020-03-21-covid19exp.ipynb",
   "output_path": "2020-03-21-covid19exp.ipynb",
   "parameters": {},
   "start_time": "2022-10-30T12:18:57.372446",
   "version": "2.0.0"
  }
 },
 "nbformat": 4,
 "nbformat_minor": 5
}