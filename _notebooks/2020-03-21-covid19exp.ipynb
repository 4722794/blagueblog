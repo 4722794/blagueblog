{
 "cells": [
  {
   "cell_type": "markdown",
   "id": "muslim-click",
   "metadata": {
    "papermill": {
     "duration": 0.033766,
     "end_time": "2022-07-11T00:41:40.725595",
     "exception": false,
     "start_time": "2022-07-11T00:41:40.691829",
     "status": "completed"
    },
    "tags": []
   },
   "source": [
    "# COVID-19 Case Race\n",
    "> A race chart to see rising cases around the world\n",
    "\n",
    "- author: Hargun Oberoi\n",
    "- image: images/covid-overview.png\n",
    "- hide: false\n",
    "- badges: false"
   ]
  },
  {
   "cell_type": "code",
   "execution_count": 1,
   "id": "proof-material",
   "metadata": {
    "execution": {
     "iopub.execute_input": "2022-07-11T00:41:40.796002Z",
     "iopub.status.busy": "2022-07-11T00:41:40.795382Z",
     "iopub.status.idle": "2022-07-11T00:41:41.115735Z",
     "shell.execute_reply": "2022-07-11T00:41:41.116213Z"
    },
    "papermill": {
     "duration": 0.359647,
     "end_time": "2022-07-11T00:41:41.116389",
     "exception": false,
     "start_time": "2022-07-11T00:41:40.756742",
     "status": "completed"
    },
    "tags": []
   },
   "outputs": [],
   "source": [
    "#hide\n",
    "import numpy as np\n",
    "import pandas as pd\n",
    "from jinja2 import Template\n",
    "from IPython.display import HTML"
   ]
  },
  {
   "cell_type": "code",
   "execution_count": 2,
   "id": "developed-terminology",
   "metadata": {
    "execution": {
     "iopub.execute_input": "2022-07-11T00:41:41.180299Z",
     "iopub.status.busy": "2022-07-11T00:41:41.179610Z",
     "iopub.status.idle": "2022-07-11T00:41:41.182231Z",
     "shell.execute_reply": "2022-07-11T00:41:41.181581Z"
    },
    "papermill": {
     "duration": 0.03622,
     "end_time": "2022-07-11T00:41:41.182353",
     "exception": false,
     "start_time": "2022-07-11T00:41:41.146133",
     "status": "completed"
    },
    "tags": []
   },
   "outputs": [],
   "source": [
    "#hide\n",
    "\n",
    "# FETCH\n",
    "base_url = 'https://raw.githubusercontent.com/pratapvardhan/notebooks/master/covid19/'\n",
    "paths = {\n",
    "    'mapping': base_url + 'mapping_countries.csv',\n",
    "    'overview': base_url + 'overview.tpl'\n",
    "}"
   ]
  },
  {
   "cell_type": "code",
   "execution_count": 3,
   "id": "dynamic-saver",
   "metadata": {
    "execution": {
     "iopub.execute_input": "2022-07-11T00:41:41.251272Z",
     "iopub.status.busy": "2022-07-11T00:41:41.250417Z",
     "iopub.status.idle": "2022-07-11T00:41:41.252771Z",
     "shell.execute_reply": "2022-07-11T00:41:41.253204Z"
    },
    "papermill": {
     "duration": 0.041801,
     "end_time": "2022-07-11T00:41:41.253320",
     "exception": false,
     "start_time": "2022-07-11T00:41:41.211519",
     "status": "completed"
    },
    "tags": []
   },
   "outputs": [
    {
     "data": {
      "text/plain": [
       "'https://raw.githubusercontent.com/pratapvardhan/notebooks/master/covid19/mapping_countries.csv'"
      ]
     },
     "execution_count": 3,
     "metadata": {},
     "output_type": "execute_result"
    }
   ],
   "source": [
    "#hide\n",
    "paths['mapping']"
   ]
  },
  {
   "cell_type": "code",
   "execution_count": 4,
   "id": "urban-software",
   "metadata": {
    "execution": {
     "iopub.execute_input": "2022-07-11T00:41:41.317687Z",
     "iopub.status.busy": "2022-07-11T00:41:41.316965Z",
     "iopub.status.idle": "2022-07-11T00:41:41.319493Z",
     "shell.execute_reply": "2022-07-11T00:41:41.318956Z"
    },
    "papermill": {
     "duration": 0.037052,
     "end_time": "2022-07-11T00:41:41.319603",
     "exception": false,
     "start_time": "2022-07-11T00:41:41.282551",
     "status": "completed"
    },
    "tags": []
   },
   "outputs": [],
   "source": [
    "#hide\n",
    "def get_mappings(url):\n",
    "    df = pd.read_csv(url)\n",
    "    return {\n",
    "        'df': df,\n",
    "        'replace.country': dict(df.dropna(subset=['Name']).set_index('Country')['Name']),\n",
    "        'map.continent': dict(df.set_index('Name')['Continent'])\n",
    "    }"
   ]
  },
  {
   "cell_type": "code",
   "execution_count": 5,
   "id": "intimate-machinery",
   "metadata": {
    "execution": {
     "iopub.execute_input": "2022-07-11T00:41:41.383125Z",
     "iopub.status.busy": "2022-07-11T00:41:41.382494Z",
     "iopub.status.idle": "2022-07-11T00:41:41.409142Z",
     "shell.execute_reply": "2022-07-11T00:41:41.408599Z"
    },
    "papermill": {
     "duration": 0.060552,
     "end_time": "2022-07-11T00:41:41.409265",
     "exception": false,
     "start_time": "2022-07-11T00:41:41.348713",
     "status": "completed"
    },
    "tags": []
   },
   "outputs": [],
   "source": [
    "#hide\n",
    "mapping = get_mappings(paths['mapping'])"
   ]
  },
  {
   "cell_type": "code",
   "execution_count": 6,
   "id": "certified-tactics",
   "metadata": {
    "execution": {
     "iopub.execute_input": "2022-07-11T00:41:41.472554Z",
     "iopub.status.busy": "2022-07-11T00:41:41.471977Z",
     "iopub.status.idle": "2022-07-11T00:41:41.474604Z",
     "shell.execute_reply": "2022-07-11T00:41:41.474046Z"
    },
    "papermill": {
     "duration": 0.036095,
     "end_time": "2022-07-11T00:41:41.474708",
     "exception": false,
     "start_time": "2022-07-11T00:41:41.438613",
     "status": "completed"
    },
    "tags": []
   },
   "outputs": [],
   "source": [
    "#hide\n",
    "def get_template(path):\n",
    "    from urllib.parse import urlparse\n",
    "    if bool(urlparse(path).netloc):\n",
    "        from urllib.request import urlopen\n",
    "        return urlopen(path).read().decode('utf8')\n",
    "    return open(path).read()"
   ]
  },
  {
   "cell_type": "code",
   "execution_count": 7,
   "id": "realistic-blast",
   "metadata": {
    "execution": {
     "iopub.execute_input": "2022-07-11T00:41:41.537591Z",
     "iopub.status.busy": "2022-07-11T00:41:41.537022Z",
     "iopub.status.idle": "2022-07-11T00:41:41.539387Z",
     "shell.execute_reply": "2022-07-11T00:41:41.539941Z"
    },
    "papermill": {
     "duration": 0.03632,
     "end_time": "2022-07-11T00:41:41.540056",
     "exception": false,
     "start_time": "2022-07-11T00:41:41.503736",
     "status": "completed"
    },
    "tags": []
   },
   "outputs": [],
   "source": [
    "#hide\n",
    "def get_frame(name):\n",
    "    url = (\n",
    "        'https://raw.githubusercontent.com/CSSEGISandData/COVID-19/master/csse_covid_19_data/'\n",
    "        f'csse_covid_19_time_series/time_series_covid19_{name}_global.csv')\n",
    "    df = pd.read_csv(url)\n",
    "    # rename countries\n",
    "    df['Country/Region'] = df['Country/Region'].replace(mapping['replace.country'])\n",
    "    return df"
   ]
  },
  {
   "cell_type": "code",
   "execution_count": 8,
   "id": "affiliated-characterization",
   "metadata": {
    "execution": {
     "iopub.execute_input": "2022-07-11T00:41:41.603737Z",
     "iopub.status.busy": "2022-07-11T00:41:41.603155Z",
     "iopub.status.idle": "2022-07-11T00:41:41.605495Z",
     "shell.execute_reply": "2022-07-11T00:41:41.605961Z"
    },
    "papermill": {
     "duration": 0.036881,
     "end_time": "2022-07-11T00:41:41.606075",
     "exception": false,
     "start_time": "2022-07-11T00:41:41.569194",
     "status": "completed"
    },
    "tags": []
   },
   "outputs": [],
   "source": [
    "#hide\n",
    "def get_dates(df):\n",
    "    dt_cols = df.columns[~df.columns.isin(['Province/State', 'Country/Region', 'Lat', 'Long'])]\n",
    "    LAST_DATE_I = -1\n",
    "    # sometimes last column may be empty, then go backwards\n",
    "    for i in range(-1, -len(dt_cols), -1):\n",
    "        if not df[dt_cols[i]].fillna(0).eq(0).all():\n",
    "            LAST_DATE_I = i\n",
    "            break\n",
    "    return LAST_DATE_I, dt_cols"
   ]
  },
  {
   "cell_type": "code",
   "execution_count": 9,
   "id": "recent-optimization",
   "metadata": {
    "execution": {
     "iopub.execute_input": "2022-07-11T00:41:41.668722Z",
     "iopub.status.busy": "2022-07-11T00:41:41.668147Z",
     "iopub.status.idle": "2022-07-11T00:41:42.037749Z",
     "shell.execute_reply": "2022-07-11T00:41:42.037196Z"
    },
    "papermill": {
     "duration": 0.402788,
     "end_time": "2022-07-11T00:41:42.037882",
     "exception": false,
     "start_time": "2022-07-11T00:41:41.635094",
     "status": "completed"
    },
    "tags": []
   },
   "outputs": [],
   "source": [
    "#hide\n",
    "COL_REGION = 'Country/Region'\n",
    "# Confirmed, Recovered, Deaths\n",
    "df = get_frame('confirmed')\n",
    "# dft_: timeseries, dfc_: today country agg\n",
    "dft_cases = df\n",
    "dft_deaths = get_frame('deaths')\n",
    "dft_recovered = get_frame('recovered')\n",
    "LAST_DATE_I, dt_cols = get_dates(df)"
   ]
  },
  {
   "cell_type": "code",
   "execution_count": 10,
   "id": "absolute-copper",
   "metadata": {
    "execution": {
     "iopub.execute_input": "2022-07-11T00:41:42.102498Z",
     "iopub.status.busy": "2022-07-11T00:41:42.101881Z",
     "iopub.status.idle": "2022-07-11T00:41:42.104500Z",
     "shell.execute_reply": "2022-07-11T00:41:42.103927Z"
    },
    "papermill": {
     "duration": 0.037072,
     "end_time": "2022-07-11T00:41:42.104613",
     "exception": false,
     "start_time": "2022-07-11T00:41:42.067541",
     "status": "completed"
    },
    "tags": []
   },
   "outputs": [],
   "source": [
    "#hide\n",
    "LAST_DATE_I, dt_cols = get_dates(df)\n",
    "dt_today =dt_cols[LAST_DATE_I]\n",
    "# dt_5day = dt_cols[LAST_DATE_I - 5]\n",
    "dt_yday = dt_cols[LAST_DATE_I - 1]"
   ]
  },
  {
   "cell_type": "code",
   "execution_count": 11,
   "id": "restricted-sheriff",
   "metadata": {
    "execution": {
     "iopub.execute_input": "2022-07-11T00:41:42.169402Z",
     "iopub.status.busy": "2022-07-11T00:41:42.168819Z",
     "iopub.status.idle": "2022-07-11T00:41:42.176474Z",
     "shell.execute_reply": "2022-07-11T00:41:42.176000Z"
    },
    "papermill": {
     "duration": 0.042676,
     "end_time": "2022-07-11T00:41:42.176585",
     "exception": false,
     "start_time": "2022-07-11T00:41:42.133909",
     "status": "completed"
    },
    "tags": []
   },
   "outputs": [],
   "source": [
    "#hide\n",
    "dfc_cases = dft_cases.groupby(COL_REGION)[dt_today].sum()\n",
    "dfc_deaths = dft_deaths.groupby(COL_REGION)[dt_today].sum()\n",
    "# dfp_cases = dft_cases.groupby(COL_REGION)[dt_5day].sum()\n",
    "# dfp_deaths = dft_deaths.groupby(COL_REGION)[dt_5day].sum()\n",
    "dfp_cases = dft_cases.groupby(COL_REGION)[dt_yday].sum()\n",
    "dfp_deaths = dft_deaths.groupby(COL_REGION)[dt_yday].sum()"
   ]
  },
  {
   "cell_type": "code",
   "execution_count": 12,
   "id": "deluxe-hepatitis",
   "metadata": {
    "execution": {
     "iopub.execute_input": "2022-07-11T00:41:42.241149Z",
     "iopub.status.busy": "2022-07-11T00:41:42.240575Z",
     "iopub.status.idle": "2022-07-11T00:41:42.245149Z",
     "shell.execute_reply": "2022-07-11T00:41:42.245683Z"
    },
    "papermill": {
     "duration": 0.040165,
     "end_time": "2022-07-11T00:41:42.245811",
     "exception": false,
     "start_time": "2022-07-11T00:41:42.205646",
     "status": "completed"
    },
    "tags": []
   },
   "outputs": [],
   "source": [
    "#hide\n",
    "df_table = (pd.DataFrame(dict(Cases = dfc_cases, Deaths = dfc_deaths, PCases = dfp_cases, PDeaths = dfp_deaths))\n",
    "            .sort_values(by = ['Cases','Deaths'], ascending = [False, False])\n",
    "            .reset_index())"
   ]
  },
  {
   "cell_type": "code",
   "execution_count": 13,
   "id": "educational-chancellor",
   "metadata": {
    "execution": {
     "iopub.execute_input": "2022-07-11T00:41:42.321974Z",
     "iopub.status.busy": "2022-07-11T00:41:42.321367Z",
     "iopub.status.idle": "2022-07-11T00:41:42.328820Z",
     "shell.execute_reply": "2022-07-11T00:41:42.329291Z"
    },
    "papermill": {
     "duration": 0.054804,
     "end_time": "2022-07-11T00:41:42.329421",
     "exception": false,
     "start_time": "2022-07-11T00:41:42.274617",
     "status": "completed"
    },
    "tags": []
   },
   "outputs": [
    {
     "data": {
      "text/html": [
       "<div>\n",
       "<style scoped>\n",
       "    .dataframe tbody tr th:only-of-type {\n",
       "        vertical-align: middle;\n",
       "    }\n",
       "\n",
       "    .dataframe tbody tr th {\n",
       "        vertical-align: top;\n",
       "    }\n",
       "\n",
       "    .dataframe thead th {\n",
       "        text-align: right;\n",
       "    }\n",
       "</style>\n",
       "<table border=\"1\" class=\"dataframe\">\n",
       "  <thead>\n",
       "    <tr style=\"text-align: right;\">\n",
       "      <th></th>\n",
       "      <th>Country/Region</th>\n",
       "      <th>Cases</th>\n",
       "      <th>Deaths</th>\n",
       "      <th>PCases</th>\n",
       "      <th>PDeaths</th>\n",
       "      <th>Cases (+)</th>\n",
       "      <th>Deaths (+)</th>\n",
       "      <th>Fatality Rate</th>\n",
       "      <th>Continent</th>\n",
       "    </tr>\n",
       "  </thead>\n",
       "  <tbody>\n",
       "    <tr>\n",
       "      <th>0</th>\n",
       "      <td>US</td>\n",
       "      <td>88572807</td>\n",
       "      <td>1020852</td>\n",
       "      <td>88547882</td>\n",
       "      <td>1020816</td>\n",
       "      <td>24925</td>\n",
       "      <td>36</td>\n",
       "      <td>1.15</td>\n",
       "      <td>North America</td>\n",
       "    </tr>\n",
       "    <tr>\n",
       "      <th>1</th>\n",
       "      <td>India</td>\n",
       "      <td>43622651</td>\n",
       "      <td>525428</td>\n",
       "      <td>43604394</td>\n",
       "      <td>525386</td>\n",
       "      <td>18257</td>\n",
       "      <td>42</td>\n",
       "      <td>1.20</td>\n",
       "      <td>Asia</td>\n",
       "    </tr>\n",
       "    <tr>\n",
       "      <th>2</th>\n",
       "      <td>Brazil</td>\n",
       "      <td>32874501</td>\n",
       "      <td>673554</td>\n",
       "      <td>32830844</td>\n",
       "      <td>673339</td>\n",
       "      <td>43657</td>\n",
       "      <td>215</td>\n",
       "      <td>2.05</td>\n",
       "      <td>South America</td>\n",
       "    </tr>\n",
       "    <tr>\n",
       "      <th>3</th>\n",
       "      <td>France</td>\n",
       "      <td>32318670</td>\n",
       "      <td>151056</td>\n",
       "      <td>32318670</td>\n",
       "      <td>151056</td>\n",
       "      <td>0</td>\n",
       "      <td>0</td>\n",
       "      <td>0.47</td>\n",
       "      <td>Europe</td>\n",
       "    </tr>\n",
       "    <tr>\n",
       "      <th>4</th>\n",
       "      <td>Germany</td>\n",
       "      <td>29022265</td>\n",
       "      <td>141862</td>\n",
       "      <td>29022265</td>\n",
       "      <td>141862</td>\n",
       "      <td>0</td>\n",
       "      <td>0</td>\n",
       "      <td>0.49</td>\n",
       "      <td>Europe</td>\n",
       "    </tr>\n",
       "  </tbody>\n",
       "</table>\n",
       "</div>"
      ],
      "text/plain": [
       "  Country/Region     Cases   Deaths    PCases  PDeaths  Cases (+)  Deaths (+)  \\\n",
       "0             US  88572807  1020852  88547882  1020816      24925          36   \n",
       "1          India  43622651   525428  43604394   525386      18257          42   \n",
       "2         Brazil  32874501   673554  32830844   673339      43657         215   \n",
       "3         France  32318670   151056  32318670   151056          0           0   \n",
       "4        Germany  29022265   141862  29022265   141862          0           0   \n",
       "\n",
       "   Fatality Rate      Continent  \n",
       "0           1.15  North America  \n",
       "1           1.20           Asia  \n",
       "2           2.05  South America  \n",
       "3           0.47         Europe  \n",
       "4           0.49         Europe  "
      ]
     },
     "execution_count": 13,
     "metadata": {},
     "output_type": "execute_result"
    }
   ],
   "source": [
    "#hide\n",
    "for c in 'Cases, Deaths'.split(', '):\n",
    "    df_table[f'{c} (+)'] = (df_table[c] - df_table[f'P{c}']).clip(0)\n",
    "    #Clip ça veut dire, les chiffres negatif sont interdit\n",
    "df_table['Fatality Rate'] = (100* df_table['Deaths']/ df_table['Cases']).round(2)\n",
    "df_table['Continent'] = df_table['Country/Region'].map(mapping['map.continent'])\n",
    "df_table.head(5)"
   ]
  },
  {
   "cell_type": "code",
   "execution_count": 14,
   "id": "aboriginal-bulgaria",
   "metadata": {
    "execution": {
     "iopub.execute_input": "2022-07-11T00:41:42.393849Z",
     "iopub.status.busy": "2022-07-11T00:41:42.393281Z",
     "iopub.status.idle": "2022-07-11T00:41:42.396295Z",
     "shell.execute_reply": "2022-07-11T00:41:42.396845Z"
    },
    "papermill": {
     "duration": 0.03806,
     "end_time": "2022-07-11T00:41:42.396972",
     "exception": false,
     "start_time": "2022-07-11T00:41:42.358912",
     "status": "completed"
    },
    "tags": []
   },
   "outputs": [],
   "source": [
    "#hide\n",
    "#delete problematic countries from table\n",
    "df_table = df_table[~df_table['Country/Region'].isin(['Cape Verde', 'Cruise Ship', 'Kosovo'])]"
   ]
  },
  {
   "cell_type": "code",
   "execution_count": 15,
   "id": "fantastic-effect",
   "metadata": {
    "execution": {
     "iopub.execute_input": "2022-07-11T00:41:42.463954Z",
     "iopub.status.busy": "2022-07-11T00:41:42.463365Z",
     "iopub.status.idle": "2022-07-11T00:41:42.481865Z",
     "shell.execute_reply": "2022-07-11T00:41:42.481323Z"
    },
    "papermill": {
     "duration": 0.055606,
     "end_time": "2022-07-11T00:41:42.481989",
     "exception": false,
     "start_time": "2022-07-11T00:41:42.426383",
     "status": "completed"
    },
    "tags": []
   },
   "outputs": [
    {
     "data": {
      "text/html": [
       "<div>\n",
       "<style scoped>\n",
       "    .dataframe tbody tr th:only-of-type {\n",
       "        vertical-align: middle;\n",
       "    }\n",
       "\n",
       "    .dataframe tbody tr th {\n",
       "        vertical-align: top;\n",
       "    }\n",
       "\n",
       "    .dataframe thead th {\n",
       "        text-align: right;\n",
       "    }\n",
       "</style>\n",
       "<table border=\"1\" class=\"dataframe\">\n",
       "  <thead>\n",
       "    <tr style=\"text-align: right;\">\n",
       "      <th></th>\n",
       "      <th>Country/Region</th>\n",
       "      <th>Cases</th>\n",
       "      <th>Deaths</th>\n",
       "      <th>PCases</th>\n",
       "      <th>PDeaths</th>\n",
       "      <th>Cases (+)</th>\n",
       "      <th>Deaths (+)</th>\n",
       "      <th>Fatality Rate</th>\n",
       "      <th>Continent</th>\n",
       "    </tr>\n",
       "  </thead>\n",
       "  <tbody>\n",
       "    <tr>\n",
       "      <th>0</th>\n",
       "      <td>US</td>\n",
       "      <td>88572807</td>\n",
       "      <td>1020852</td>\n",
       "      <td>88547882</td>\n",
       "      <td>1020816</td>\n",
       "      <td>24925</td>\n",
       "      <td>36</td>\n",
       "      <td>1.2</td>\n",
       "      <td>North America</td>\n",
       "    </tr>\n",
       "    <tr>\n",
       "      <th>1</th>\n",
       "      <td>India</td>\n",
       "      <td>43622651</td>\n",
       "      <td>525428</td>\n",
       "      <td>43604394</td>\n",
       "      <td>525386</td>\n",
       "      <td>18257</td>\n",
       "      <td>42</td>\n",
       "      <td>1.2</td>\n",
       "      <td>Asia</td>\n",
       "    </tr>\n",
       "    <tr>\n",
       "      <th>2</th>\n",
       "      <td>Brazil</td>\n",
       "      <td>32874501</td>\n",
       "      <td>673554</td>\n",
       "      <td>32830844</td>\n",
       "      <td>673339</td>\n",
       "      <td>43657</td>\n",
       "      <td>215</td>\n",
       "      <td>2.0</td>\n",
       "      <td>South America</td>\n",
       "    </tr>\n",
       "    <tr>\n",
       "      <th>3</th>\n",
       "      <td>France</td>\n",
       "      <td>32318670</td>\n",
       "      <td>151056</td>\n",
       "      <td>32318670</td>\n",
       "      <td>151056</td>\n",
       "      <td>0</td>\n",
       "      <td>0</td>\n",
       "      <td>0.5</td>\n",
       "      <td>Europe</td>\n",
       "    </tr>\n",
       "    <tr>\n",
       "      <th>4</th>\n",
       "      <td>Germany</td>\n",
       "      <td>29022265</td>\n",
       "      <td>141862</td>\n",
       "      <td>29022265</td>\n",
       "      <td>141862</td>\n",
       "      <td>0</td>\n",
       "      <td>0</td>\n",
       "      <td>0.5</td>\n",
       "      <td>Europe</td>\n",
       "    </tr>\n",
       "  </tbody>\n",
       "</table>\n",
       "</div>"
      ],
      "text/plain": [
       "  Country/Region     Cases   Deaths    PCases  PDeaths  Cases (+)  Deaths (+)  \\\n",
       "0             US  88572807  1020852  88547882  1020816      24925          36   \n",
       "1          India  43622651   525428  43604394   525386      18257          42   \n",
       "2         Brazil  32874501   673554  32830844   673339      43657         215   \n",
       "3         France  32318670   151056  32318670   151056          0           0   \n",
       "4        Germany  29022265   141862  29022265   141862          0           0   \n",
       "\n",
       "   Fatality Rate      Continent  \n",
       "0            1.2  North America  \n",
       "1            1.2           Asia  \n",
       "2            2.0  South America  \n",
       "3            0.5         Europe  \n",
       "4            0.5         Europe  "
      ]
     },
     "execution_count": 15,
     "metadata": {},
     "output_type": "execute_result"
    }
   ],
   "source": [
    "#hide\n",
    "df_table = (pd.DataFrame(dict(Cases=dfc_cases, Deaths=dfc_deaths, PCases=dfp_cases, PDeaths=dfp_deaths))\n",
    "             .sort_values(by=['Cases', 'Deaths'], ascending=[False, False])\n",
    "             .reset_index())\n",
    "df_table.rename(columns={'index': 'Country/Region'}, inplace=True)\n",
    "for c in 'Cases, Deaths'.split(', '):\n",
    "    df_table[f'{c} (+)'] = (df_table[c] - df_table[f'P{c}']).clip(0)  # DATA BUG\n",
    "df_table['Fatality Rate'] = (100 * df_table['Deaths'] / df_table['Cases']).round(1)\n",
    "df_table['Continent'] = df_table['Country/Region'].map(mapping['map.continent'])\n",
    "df_table.head(5)"
   ]
  },
  {
   "cell_type": "code",
   "execution_count": 16,
   "id": "fewer-occasion",
   "metadata": {
    "execution": {
     "iopub.execute_input": "2022-07-11T00:41:42.548598Z",
     "iopub.status.busy": "2022-07-11T00:41:42.548011Z",
     "iopub.status.idle": "2022-07-11T00:41:42.551112Z",
     "shell.execute_reply": "2022-07-11T00:41:42.551567Z"
    },
    "papermill": {
     "duration": 0.038721,
     "end_time": "2022-07-11T00:41:42.551703",
     "exception": false,
     "start_time": "2022-07-11T00:41:42.512982",
     "status": "completed"
    },
    "tags": []
   },
   "outputs": [],
   "source": [
    "#hide\n",
    "#delete problematic countries from table\n",
    "df_table = df_table[~df_table['Country/Region'].isin(['Cape Verde', 'Cruise Ship', 'Kosovo'])]"
   ]
  },
  {
   "cell_type": "code",
   "execution_count": 17,
   "id": "related-center",
   "metadata": {
    "execution": {
     "iopub.execute_input": "2022-07-11T00:41:42.626303Z",
     "iopub.status.busy": "2022-07-11T00:41:42.625666Z",
     "iopub.status.idle": "2022-07-11T00:41:42.634132Z",
     "shell.execute_reply": "2022-07-11T00:41:42.633641Z"
    },
    "papermill": {
     "duration": 0.052472,
     "end_time": "2022-07-11T00:41:42.634255",
     "exception": false,
     "start_time": "2022-07-11T00:41:42.581783",
     "status": "completed"
    },
    "tags": []
   },
   "outputs": [],
   "source": [
    "#hide\n",
    "metrics = [df_table.columns[index] for index in [1,2,5,6]]\n",
    "# s_china = df_table[df_table['Country/Region'].eq('China')][metrics].sum().add_prefix('China ')\n",
    "s_us = df_table[df_table['Country/Region'].eq('US')][metrics].sum().add_prefix('US ')\n",
    "s_eu = df_table[df_table['Continent'].eq('Europe')][metrics].sum().add_prefix('EU ')\n",
    "s_ind = df_table[df_table['Country/Region'].eq('India')][metrics].sum().add_prefix('India ')\n",
    "summary = {'updated': pd.to_datetime(dt_today), 'since': pd.to_datetime(dt_yday)}\n",
    "summary = {'updated': pd.to_datetime(dt_today), 'since': pd.to_datetime(dt_yday)}\n",
    "summary = {**summary, **df_table[metrics].sum(), **s_ind, **s_us, **s_eu}"
   ]
  },
  {
   "cell_type": "code",
   "execution_count": 18,
   "id": "engaging-syndrome",
   "metadata": {
    "execution": {
     "iopub.execute_input": "2022-07-11T00:41:42.700786Z",
     "iopub.status.busy": "2022-07-11T00:41:42.700197Z",
     "iopub.status.idle": "2022-07-11T00:41:42.719601Z",
     "shell.execute_reply": "2022-07-11T00:41:42.719096Z"
    },
    "papermill": {
     "duration": 0.054816,
     "end_time": "2022-07-11T00:41:42.719716",
     "exception": false,
     "start_time": "2022-07-11T00:41:42.664900",
     "status": "completed"
    },
    "tags": []
   },
   "outputs": [],
   "source": [
    "#hide\n",
    "dft_ct_new_cases = dft_cases.groupby(COL_REGION)[dt_cols].sum().diff(axis=1).fillna(0).astype(int)"
   ]
  },
  {
   "cell_type": "code",
   "execution_count": 19,
   "id": "neutral-assignment",
   "metadata": {
    "execution": {
     "iopub.execute_input": "2022-07-11T00:41:42.785372Z",
     "iopub.status.busy": "2022-07-11T00:41:42.784797Z",
     "iopub.status.idle": "2022-07-11T00:41:42.787156Z",
     "shell.execute_reply": "2022-07-11T00:41:42.787633Z"
    },
    "papermill": {
     "duration": 0.038032,
     "end_time": "2022-07-11T00:41:42.787759",
     "exception": false,
     "start_time": "2022-07-11T00:41:42.749727",
     "status": "completed"
    },
    "tags": []
   },
   "outputs": [],
   "source": [
    "#hide\n",
    "everydaycases = dft_ct_new_cases.cumsum(axis=1)"
   ]
  },
  {
   "cell_type": "code",
   "execution_count": 20,
   "id": "parliamentary-calgary",
   "metadata": {
    "execution": {
     "iopub.execute_input": "2022-07-11T00:41:42.852041Z",
     "iopub.status.busy": "2022-07-11T00:41:42.851454Z",
     "iopub.status.idle": "2022-07-11T00:41:43.383995Z",
     "shell.execute_reply": "2022-07-11T00:41:43.384845Z"
    },
    "papermill": {
     "duration": 0.567311,
     "end_time": "2022-07-11T00:41:43.385013",
     "exception": false,
     "start_time": "2022-07-11T00:41:42.817702",
     "status": "completed"
    },
    "tags": []
   },
   "outputs": [],
   "source": [
    "#hide\n",
    "import pandas as pd\n",
    "import matplotlib.pyplot as plt\n",
    "import matplotlib.ticker as ticker\n",
    "import matplotlib.animation as animation\n",
    "from IPython.display import HTML"
   ]
  },
  {
   "cell_type": "code",
   "execution_count": 21,
   "id": "lasting-extraction",
   "metadata": {
    "execution": {
     "iopub.execute_input": "2022-07-11T00:41:43.451749Z",
     "iopub.status.busy": "2022-07-11T00:41:43.451058Z",
     "iopub.status.idle": "2022-07-11T00:41:43.458345Z",
     "shell.execute_reply": "2022-07-11T00:41:43.457772Z"
    },
    "papermill": {
     "duration": 0.043296,
     "end_time": "2022-07-11T00:41:43.458468",
     "exception": false,
     "start_time": "2022-07-11T00:41:43.415172",
     "status": "completed"
    },
    "tags": []
   },
   "outputs": [],
   "source": [
    "#hide\n",
    "t = everydaycases.stack()"
   ]
  },
  {
   "cell_type": "code",
   "execution_count": 22,
   "id": "premier-sleeve",
   "metadata": {
    "execution": {
     "iopub.execute_input": "2022-07-11T00:41:43.523500Z",
     "iopub.status.busy": "2022-07-11T00:41:43.522867Z",
     "iopub.status.idle": "2022-07-11T00:41:43.534223Z",
     "shell.execute_reply": "2022-07-11T00:41:43.533745Z"
    },
    "papermill": {
     "duration": 0.045454,
     "end_time": "2022-07-11T00:41:43.534333",
     "exception": false,
     "start_time": "2022-07-11T00:41:43.488879",
     "status": "completed"
    },
    "tags": []
   },
   "outputs": [],
   "source": [
    "#hide\n",
    "g = t.reset_index(['Country/Region'])"
   ]
  },
  {
   "cell_type": "code",
   "execution_count": 23,
   "id": "distributed-pittsburgh",
   "metadata": {
    "execution": {
     "iopub.execute_input": "2022-07-11T00:41:43.598362Z",
     "iopub.status.busy": "2022-07-11T00:41:43.597705Z",
     "iopub.status.idle": "2022-07-11T00:41:43.601245Z",
     "shell.execute_reply": "2022-07-11T00:41:43.601748Z"
    },
    "papermill": {
     "duration": 0.037693,
     "end_time": "2022-07-11T00:41:43.601889",
     "exception": false,
     "start_time": "2022-07-11T00:41:43.564196",
     "status": "completed"
    },
    "tags": []
   },
   "outputs": [],
   "source": [
    "#hide\n",
    "g.index.name = 'date'"
   ]
  },
  {
   "cell_type": "code",
   "execution_count": 24,
   "id": "naked-donor",
   "metadata": {
    "execution": {
     "iopub.execute_input": "2022-07-11T00:41:43.664985Z",
     "iopub.status.busy": "2022-07-11T00:41:43.664410Z",
     "iopub.status.idle": "2022-07-11T00:41:43.666739Z",
     "shell.execute_reply": "2022-07-11T00:41:43.667230Z"
    },
    "papermill": {
     "duration": 0.035464,
     "end_time": "2022-07-11T00:41:43.667352",
     "exception": false,
     "start_time": "2022-07-11T00:41:43.631888",
     "status": "completed"
    },
    "tags": []
   },
   "outputs": [],
   "source": [
    "# #hide\n",
    "# g = g.reset_index(['date'])"
   ]
  },
  {
   "cell_type": "code",
   "execution_count": 25,
   "id": "incomplete-mustang",
   "metadata": {
    "execution": {
     "iopub.execute_input": "2022-07-11T00:41:43.730797Z",
     "iopub.status.busy": "2022-07-11T00:41:43.730142Z",
     "iopub.status.idle": "2022-07-11T00:41:43.732714Z",
     "shell.execute_reply": "2022-07-11T00:41:43.732075Z"
    },
    "papermill": {
     "duration": 0.035578,
     "end_time": "2022-07-11T00:41:43.732833",
     "exception": false,
     "start_time": "2022-07-11T00:41:43.697255",
     "status": "completed"
    },
    "tags": []
   },
   "outputs": [],
   "source": [
    "#hide\n",
    "# g.head()"
   ]
  },
  {
   "cell_type": "code",
   "execution_count": 26,
   "id": "specific-kruger",
   "metadata": {
    "execution": {
     "iopub.execute_input": "2022-07-11T00:41:43.798621Z",
     "iopub.status.busy": "2022-07-11T00:41:43.797931Z",
     "iopub.status.idle": "2022-07-11T00:41:43.799639Z",
     "shell.execute_reply": "2022-07-11T00:41:43.799171Z"
    },
    "papermill": {
     "duration": 0.036775,
     "end_time": "2022-07-11T00:41:43.799743",
     "exception": false,
     "start_time": "2022-07-11T00:41:43.762968",
     "status": "completed"
    },
    "tags": []
   },
   "outputs": [],
   "source": [
    "#hide\n",
    "# g.columns = ['date','country','cases']"
   ]
  },
  {
   "cell_type": "code",
   "execution_count": 27,
   "id": "tender-conversion",
   "metadata": {
    "execution": {
     "iopub.execute_input": "2022-07-11T00:41:43.862580Z",
     "iopub.status.busy": "2022-07-11T00:41:43.862009Z",
     "iopub.status.idle": "2022-07-11T00:41:43.864313Z",
     "shell.execute_reply": "2022-07-11T00:41:43.864733Z"
    },
    "papermill": {
     "duration": 0.035394,
     "end_time": "2022-07-11T00:41:43.864853",
     "exception": false,
     "start_time": "2022-07-11T00:41:43.829459",
     "status": "completed"
    },
    "tags": []
   },
   "outputs": [],
   "source": [
    "#hide\n",
    "# g['continent'] = g.country"
   ]
  },
  {
   "cell_type": "code",
   "execution_count": 28,
   "id": "substantial-wilderness",
   "metadata": {
    "execution": {
     "iopub.execute_input": "2022-07-11T00:41:43.928211Z",
     "iopub.status.busy": "2022-07-11T00:41:43.927638Z",
     "iopub.status.idle": "2022-07-11T00:41:43.930198Z",
     "shell.execute_reply": "2022-07-11T00:41:43.929635Z"
    },
    "papermill": {
     "duration": 0.035525,
     "end_time": "2022-07-11T00:41:43.930303",
     "exception": false,
     "start_time": "2022-07-11T00:41:43.894778",
     "status": "completed"
    },
    "tags": []
   },
   "outputs": [],
   "source": [
    "#hide\n",
    "# cols = list(g.columns.values)"
   ]
  },
  {
   "cell_type": "code",
   "execution_count": 29,
   "id": "solved-farming",
   "metadata": {
    "execution": {
     "iopub.execute_input": "2022-07-11T00:41:43.993809Z",
     "iopub.status.busy": "2022-07-11T00:41:43.993154Z",
     "iopub.status.idle": "2022-07-11T00:41:43.996952Z",
     "shell.execute_reply": "2022-07-11T00:41:43.997436Z"
    },
    "papermill": {
     "duration": 0.037284,
     "end_time": "2022-07-11T00:41:43.997571",
     "exception": false,
     "start_time": "2022-07-11T00:41:43.960287",
     "status": "completed"
    },
    "tags": []
   },
   "outputs": [],
   "source": [
    "#hide\n",
    "# cols.insert(0, cols.pop())"
   ]
  },
  {
   "cell_type": "code",
   "execution_count": 30,
   "id": "executed-adoption",
   "metadata": {
    "execution": {
     "iopub.execute_input": "2022-07-11T00:41:44.061851Z",
     "iopub.status.busy": "2022-07-11T00:41:44.061179Z",
     "iopub.status.idle": "2022-07-11T00:41:44.063342Z",
     "shell.execute_reply": "2022-07-11T00:41:44.062679Z"
    },
    "papermill": {
     "duration": 0.035727,
     "end_time": "2022-07-11T00:41:44.063465",
     "exception": false,
     "start_time": "2022-07-11T00:41:44.027738",
     "status": "completed"
    },
    "tags": []
   },
   "outputs": [],
   "source": [
    "#hide\n",
    "# g = g[cols]"
   ]
  },
  {
   "cell_type": "code",
   "execution_count": 31,
   "id": "subject-dublin",
   "metadata": {
    "execution": {
     "iopub.execute_input": "2022-07-11T00:41:44.129037Z",
     "iopub.status.busy": "2022-07-11T00:41:44.128337Z",
     "iopub.status.idle": "2022-07-11T00:41:44.130789Z",
     "shell.execute_reply": "2022-07-11T00:41:44.130213Z"
    },
    "papermill": {
     "duration": 0.036624,
     "end_time": "2022-07-11T00:41:44.130904",
     "exception": false,
     "start_time": "2022-07-11T00:41:44.094280",
     "status": "completed"
    },
    "tags": []
   },
   "outputs": [],
   "source": [
    "#hide\n",
    "# g['continent'] = g['continent'].map(mapping['map.continent'])"
   ]
  },
  {
   "cell_type": "code",
   "execution_count": 32,
   "id": "freelance-scout",
   "metadata": {
    "execution": {
     "iopub.execute_input": "2022-07-11T00:41:44.196529Z",
     "iopub.status.busy": "2022-07-11T00:41:44.195804Z",
     "iopub.status.idle": "2022-07-11T00:41:44.198193Z",
     "shell.execute_reply": "2022-07-11T00:41:44.197535Z"
    },
    "papermill": {
     "duration": 0.036788,
     "end_time": "2022-07-11T00:41:44.198320",
     "exception": false,
     "start_time": "2022-07-11T00:41:44.161532",
     "status": "completed"
    },
    "tags": []
   },
   "outputs": [],
   "source": [
    "#hide\n",
    "# g.head()"
   ]
  },
  {
   "cell_type": "code",
   "execution_count": 33,
   "id": "limited-engine",
   "metadata": {
    "execution": {
     "iopub.execute_input": "2022-07-11T00:41:44.263397Z",
     "iopub.status.busy": "2022-07-11T00:41:44.262729Z",
     "iopub.status.idle": "2022-07-11T00:41:44.265261Z",
     "shell.execute_reply": "2022-07-11T00:41:44.264695Z"
    },
    "papermill": {
     "duration": 0.036583,
     "end_time": "2022-07-11T00:41:44.265376",
     "exception": false,
     "start_time": "2022-07-11T00:41:44.228793",
     "status": "completed"
    },
    "tags": []
   },
   "outputs": [],
   "source": [
    "# hide\n",
    "# g['date'] = g['date'].astype('datetime64[ns]')"
   ]
  },
  {
   "cell_type": "code",
   "execution_count": 34,
   "id": "sophisticated-supervisor",
   "metadata": {
    "execution": {
     "iopub.execute_input": "2022-07-11T00:41:44.329681Z",
     "iopub.status.busy": "2022-07-11T00:41:44.329011Z",
     "iopub.status.idle": "2022-07-11T00:41:44.331599Z",
     "shell.execute_reply": "2022-07-11T00:41:44.330921Z"
    },
    "papermill": {
     "duration": 0.03619,
     "end_time": "2022-07-11T00:41:44.331726",
     "exception": false,
     "start_time": "2022-07-11T00:41:44.295536",
     "status": "completed"
    },
    "tags": []
   },
   "outputs": [],
   "source": [
    "#hide\n",
    "# g['date'] = g.date.dt.dayofyear"
   ]
  },
  {
   "cell_type": "code",
   "execution_count": 35,
   "id": "inside-dubai",
   "metadata": {
    "execution": {
     "iopub.execute_input": "2022-07-11T00:41:44.395254Z",
     "iopub.status.busy": "2022-07-11T00:41:44.394648Z",
     "iopub.status.idle": "2022-07-11T00:41:44.397483Z",
     "shell.execute_reply": "2022-07-11T00:41:44.396921Z"
    },
    "papermill": {
     "duration": 0.035686,
     "end_time": "2022-07-11T00:41:44.397586",
     "exception": false,
     "start_time": "2022-07-11T00:41:44.361900",
     "status": "completed"
    },
    "tags": []
   },
   "outputs": [],
   "source": [
    "#hide\n",
    "# g = g.rename(columns= {'continent':'group','country':'name','cases':'value'})"
   ]
  },
  {
   "cell_type": "code",
   "execution_count": 36,
   "id": "fleet-motorcycle",
   "metadata": {
    "execution": {
     "iopub.execute_input": "2022-07-11T00:41:44.461403Z",
     "iopub.status.busy": "2022-07-11T00:41:44.460813Z",
     "iopub.status.idle": "2022-07-11T00:41:44.463555Z",
     "shell.execute_reply": "2022-07-11T00:41:44.462949Z"
    },
    "papermill": {
     "duration": 0.035878,
     "end_time": "2022-07-11T00:41:44.463662",
     "exception": false,
     "start_time": "2022-07-11T00:41:44.427784",
     "status": "completed"
    },
    "tags": []
   },
   "outputs": [],
   "source": [
    "#hide\n",
    "# cols = ['name','group','day','value']"
   ]
  },
  {
   "cell_type": "code",
   "execution_count": 37,
   "id": "continued-sleeping",
   "metadata": {
    "execution": {
     "iopub.execute_input": "2022-07-11T00:41:44.530544Z",
     "iopub.status.busy": "2022-07-11T00:41:44.529889Z",
     "iopub.status.idle": "2022-07-11T00:41:44.533820Z",
     "shell.execute_reply": "2022-07-11T00:41:44.533354Z"
    },
    "papermill": {
     "duration": 0.04042,
     "end_time": "2022-07-11T00:41:44.533923",
     "exception": false,
     "start_time": "2022-07-11T00:41:44.493503",
     "status": "completed"
    },
    "tags": []
   },
   "outputs": [],
   "source": [
    "#hide\n",
    "# g.rename(columns= {'date':'day'},inplace = True)"
   ]
  },
  {
   "cell_type": "code",
   "execution_count": 38,
   "id": "major-fight",
   "metadata": {
    "execution": {
     "iopub.execute_input": "2022-07-11T00:41:44.597692Z",
     "iopub.status.busy": "2022-07-11T00:41:44.597102Z",
     "iopub.status.idle": "2022-07-11T00:41:44.600542Z",
     "shell.execute_reply": "2022-07-11T00:41:44.600987Z"
    },
    "papermill": {
     "duration": 0.037144,
     "end_time": "2022-07-11T00:41:44.601105",
     "exception": false,
     "start_time": "2022-07-11T00:41:44.563961",
     "status": "completed"
    },
    "tags": []
   },
   "outputs": [],
   "source": [
    "#hide\n",
    "# g = g[cols]"
   ]
  },
  {
   "cell_type": "code",
   "execution_count": 39,
   "id": "structured-mobile",
   "metadata": {
    "execution": {
     "iopub.execute_input": "2022-07-11T00:41:44.664457Z",
     "iopub.status.busy": "2022-07-11T00:41:44.663794Z",
     "iopub.status.idle": "2022-07-11T00:41:44.666315Z",
     "shell.execute_reply": "2022-07-11T00:41:44.665779Z"
    },
    "papermill": {
     "duration": 0.035485,
     "end_time": "2022-07-11T00:41:44.666432",
     "exception": false,
     "start_time": "2022-07-11T00:41:44.630947",
     "status": "completed"
    },
    "tags": []
   },
   "outputs": [],
   "source": [
    "# #hide\n",
    "# g = g[g.group.notna()]"
   ]
  },
  {
   "cell_type": "code",
   "execution_count": 40,
   "id": "determined-closing",
   "metadata": {
    "execution": {
     "iopub.execute_input": "2022-07-11T00:41:44.730424Z",
     "iopub.status.busy": "2022-07-11T00:41:44.729843Z",
     "iopub.status.idle": "2022-07-11T00:41:44.732462Z",
     "shell.execute_reply": "2022-07-11T00:41:44.731991Z"
    },
    "papermill": {
     "duration": 0.035699,
     "end_time": "2022-07-11T00:41:44.732562",
     "exception": false,
     "start_time": "2022-07-11T00:41:44.696863",
     "status": "completed"
    },
    "tags": []
   },
   "outputs": [],
   "source": [
    "# #hide\n",
    "# colors = dict(zip(\n",
    "#     [\"Oceania\", \"Europe\", \"Asia\", \"South America\", \"Middle East\", \"North America\", \"Africa\"],\n",
    "#     [\"#adb0ff\", \"#ffb3ff\", \"#90d595\", \"#e48381\", \"#aafbff\", \"#f7bb5f\", \"#eafb50\"]\n",
    "# ))\n",
    "# group_lk = g.set_index('name')['group'].to_dict()"
   ]
  },
  {
   "cell_type": "code",
   "execution_count": null,
   "id": "gross-drinking",
   "metadata": {
    "papermill": {
     "duration": 0.029847,
     "end_time": "2022-07-11T00:41:44.792244",
     "exception": false,
     "start_time": "2022-07-11T00:41:44.762397",
     "status": "completed"
    },
    "tags": []
   },
   "outputs": [],
   "source": []
  },
  {
   "cell_type": "code",
   "execution_count": 41,
   "id": "subject-macintosh",
   "metadata": {
    "execution": {
     "iopub.execute_input": "2022-07-11T00:41:44.856951Z",
     "iopub.status.busy": "2022-07-11T00:41:44.856252Z",
     "iopub.status.idle": "2022-07-11T00:41:44.858816Z",
     "shell.execute_reply": "2022-07-11T00:41:44.858272Z"
    },
    "papermill": {
     "duration": 0.036684,
     "end_time": "2022-07-11T00:41:44.858936",
     "exception": false,
     "start_time": "2022-07-11T00:41:44.822252",
     "status": "completed"
    },
    "tags": []
   },
   "outputs": [],
   "source": [
    "# #hide\n",
    "# fig, ax = plt.subplots(figsize=(15, 8))\n",
    "\n",
    "# def draw_barchart(current_day):\n",
    "#     dff = g[g['day'].eq(current_day)].sort_values(by='value', ascending=True).tail(10)\n",
    "#     ax.clear()\n",
    "#     ax.barh(dff['name'], dff['value'], color=[colors[group_lk[x]] for x in dff['name']])\n",
    "#     dx = dff['value'].max() / 200\n",
    "    \n",
    "#     for i, (value, name) in enumerate(zip(dff['value'], dff['name'])):\n",
    "#         ax.text(value-dx, i,     name,           size=14, weight=600, ha='right', va='bottom')\n",
    "#         ax.text(value-dx, i-.25, group_lk[name], size=10, color='#444444', ha='right', va='baseline')\n",
    "#         ax.text(value+dx, i,     f'{value:,.0f}',  size=14, ha='left',  va='center')\n",
    "#     ax.text(1, 0.4, current_day, transform=ax.transAxes, color='#777777', size=46, ha='right', weight=800)\n",
    "#     ax.text(0, 1.06, 'Population (thousands)', transform=ax.transAxes, size=12, color='#777777')\n",
    "#     ax.xaxis.set_major_formatter(ticker.StrMethodFormatter('{x:,.0f}'))\n",
    "#     ax.xaxis.set_ticks_position('top')\n",
    "#     ax.tick_params(axis='x', colors='#777777', labelsize=12)\n",
    "#     ax.set_yticks([])\n",
    "#     ax.margins(0, 0.01)\n",
    "#     ax.grid(which='major', axis='x', linestyle='-')\n",
    "#     ax.set_axisbelow(True)\n",
    "    \n",
    "#     ax.text(0, 1.15, 'Coronavirus',\n",
    "#             transform=ax.transAxes, size=24, weight=600, ha='left', va='top')\n",
    "# #     ax.text(1, 0, 'by @pratapvardhan; credit @jburnmurdoch', transform=ax.transAxes, color='#777777', ha='right',\n",
    "# #             bbox=dict(facecolor='white', alpha=0.8, edgecolor='white'))\n",
    "#     plt.box(False)"
   ]
  },
  {
   "cell_type": "code",
   "execution_count": 42,
   "id": "sexual-wages",
   "metadata": {
    "execution": {
     "iopub.execute_input": "2022-07-11T00:41:44.924231Z",
     "iopub.status.busy": "2022-07-11T00:41:44.923578Z",
     "iopub.status.idle": "2022-07-11T00:41:44.925843Z",
     "shell.execute_reply": "2022-07-11T00:41:44.926269Z"
    },
    "papermill": {
     "duration": 0.037149,
     "end_time": "2022-07-11T00:41:44.926413",
     "exception": false,
     "start_time": "2022-07-11T00:41:44.889264",
     "status": "completed"
    },
    "tags": []
   },
   "outputs": [],
   "source": [
    "# #hide_input\n",
    "# fig, ax = plt.subplots(figsize=(15, 8))\n",
    "# animator = animation.FuncAnimation(fig, draw_barchart, frames=range(g.day.values.min(), g.day.values.max()))\n",
    "# HTML(animator.to_jshtml())\n",
    "# # or use animator.to_html5_video() or animator.save() "
   ]
  },
  {
   "cell_type": "code",
   "execution_count": null,
   "id": "australian-container",
   "metadata": {
    "papermill": {
     "duration": 0.029991,
     "end_time": "2022-07-11T00:41:44.986820",
     "exception": false,
     "start_time": "2022-07-11T00:41:44.956829",
     "status": "completed"
    },
    "tags": []
   },
   "outputs": [],
   "source": []
  },
  {
   "cell_type": "code",
   "execution_count": null,
   "id": "mediterranean-pontiac",
   "metadata": {
    "papermill": {
     "duration": 0.029846,
     "end_time": "2022-07-11T00:41:45.046794",
     "exception": false,
     "start_time": "2022-07-11T00:41:45.016948",
     "status": "completed"
    },
    "tags": []
   },
   "outputs": [],
   "source": []
  },
  {
   "cell_type": "code",
   "execution_count": null,
   "id": "aging-legislature",
   "metadata": {
    "papermill": {
     "duration": 0.029819,
     "end_time": "2022-07-11T00:41:45.107429",
     "exception": false,
     "start_time": "2022-07-11T00:41:45.077610",
     "status": "completed"
    },
    "tags": []
   },
   "outputs": [],
   "source": []
  }
 ],
 "metadata": {
  "kernelspec": {
   "display_name": "Python 3",
   "language": "python",
   "name": "python3"
  },
  "language_info": {
   "codemirror_mode": {
    "name": "ipython",
    "version": 3
   },
   "file_extension": ".py",
   "mimetype": "text/x-python",
   "name": "python",
   "nbconvert_exporter": "python",
   "pygments_lexer": "ipython3",
   "version": "3.6.15"
  },
  "papermill": {
   "duration": 5.709553,
   "end_time": "2022-07-11T00:41:45.455693",
   "environment_variables": {},
   "exception": null,
   "input_path": "2020-03-21-covid19exp.ipynb",
   "output_path": "2020-03-21-covid19exp.ipynb",
   "parameters": {},
   "start_time": "2022-07-11T00:41:39.746140",
   "version": "2.0.0"
  }
 },
 "nbformat": 4,
 "nbformat_minor": 5
}