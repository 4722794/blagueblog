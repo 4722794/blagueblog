{
 "cells": [
  {
   "cell_type": "markdown",
   "id": "muslim-click",
   "metadata": {
    "papermill": {
     "duration": 0.033298,
     "end_time": "2022-06-26T00:47:13.896541",
     "exception": false,
     "start_time": "2022-06-26T00:47:13.863243",
     "status": "completed"
    },
    "tags": []
   },
   "source": [
    "# COVID-19 Case Race\n",
    "> A race chart to see rising cases around the world\n",
    "\n",
    "- author: Hargun Oberoi\n",
    "- image: images/covid-overview.png\n",
    "- hide: false\n",
    "- badges: false"
   ]
  },
  {
   "cell_type": "code",
   "execution_count": 1,
   "id": "proof-material",
   "metadata": {
    "execution": {
     "iopub.execute_input": "2022-06-26T00:47:13.966408Z",
     "iopub.status.busy": "2022-06-26T00:47:13.965807Z",
     "iopub.status.idle": "2022-06-26T00:47:14.269484Z",
     "shell.execute_reply": "2022-06-26T00:47:14.268534Z"
    },
    "papermill": {
     "duration": 0.342017,
     "end_time": "2022-06-26T00:47:14.269617",
     "exception": false,
     "start_time": "2022-06-26T00:47:13.927600",
     "status": "completed"
    },
    "tags": []
   },
   "outputs": [],
   "source": [
    "#hide\n",
    "import numpy as np\n",
    "import pandas as pd\n",
    "from jinja2 import Template\n",
    "from IPython.display import HTML"
   ]
  },
  {
   "cell_type": "code",
   "execution_count": 2,
   "id": "developed-terminology",
   "metadata": {
    "execution": {
     "iopub.execute_input": "2022-06-26T00:47:14.333584Z",
     "iopub.status.busy": "2022-06-26T00:47:14.333024Z",
     "iopub.status.idle": "2022-06-26T00:47:14.334962Z",
     "shell.execute_reply": "2022-06-26T00:47:14.335402Z"
    },
    "papermill": {
     "duration": 0.036257,
     "end_time": "2022-06-26T00:47:14.335515",
     "exception": false,
     "start_time": "2022-06-26T00:47:14.299258",
     "status": "completed"
    },
    "tags": []
   },
   "outputs": [],
   "source": [
    "#hide\n",
    "\n",
    "# FETCH\n",
    "base_url = 'https://raw.githubusercontent.com/pratapvardhan/notebooks/master/covid19/'\n",
    "paths = {\n",
    "    'mapping': base_url + 'mapping_countries.csv',\n",
    "    'overview': base_url + 'overview.tpl'\n",
    "}"
   ]
  },
  {
   "cell_type": "code",
   "execution_count": 3,
   "id": "dynamic-saver",
   "metadata": {
    "execution": {
     "iopub.execute_input": "2022-06-26T00:47:14.401861Z",
     "iopub.status.busy": "2022-06-26T00:47:14.401067Z",
     "iopub.status.idle": "2022-06-26T00:47:14.404747Z",
     "shell.execute_reply": "2022-06-26T00:47:14.405153Z"
    },
    "papermill": {
     "duration": 0.040493,
     "end_time": "2022-06-26T00:47:14.405261",
     "exception": false,
     "start_time": "2022-06-26T00:47:14.364768",
     "status": "completed"
    },
    "tags": []
   },
   "outputs": [
    {
     "data": {
      "text/plain": [
       "'https://raw.githubusercontent.com/pratapvardhan/notebooks/master/covid19/mapping_countries.csv'"
      ]
     },
     "execution_count": 3,
     "metadata": {},
     "output_type": "execute_result"
    }
   ],
   "source": [
    "#hide\n",
    "paths['mapping']"
   ]
  },
  {
   "cell_type": "code",
   "execution_count": 4,
   "id": "urban-software",
   "metadata": {
    "execution": {
     "iopub.execute_input": "2022-06-26T00:47:14.468742Z",
     "iopub.status.busy": "2022-06-26T00:47:14.468176Z",
     "iopub.status.idle": "2022-06-26T00:47:14.470197Z",
     "shell.execute_reply": "2022-06-26T00:47:14.470646Z"
    },
    "papermill": {
     "duration": 0.035889,
     "end_time": "2022-06-26T00:47:14.470751",
     "exception": false,
     "start_time": "2022-06-26T00:47:14.434862",
     "status": "completed"
    },
    "tags": []
   },
   "outputs": [],
   "source": [
    "#hide\n",
    "def get_mappings(url):\n",
    "    df = pd.read_csv(url)\n",
    "    return {\n",
    "        'df': df,\n",
    "        'replace.country': dict(df.dropna(subset=['Name']).set_index('Country')['Name']),\n",
    "        'map.continent': dict(df.set_index('Name')['Continent'])\n",
    "    }"
   ]
  },
  {
   "cell_type": "code",
   "execution_count": 5,
   "id": "intimate-machinery",
   "metadata": {
    "execution": {
     "iopub.execute_input": "2022-06-26T00:47:14.534358Z",
     "iopub.status.busy": "2022-06-26T00:47:14.533782Z",
     "iopub.status.idle": "2022-06-26T00:47:14.572504Z",
     "shell.execute_reply": "2022-06-26T00:47:14.572058Z"
    },
    "papermill": {
     "duration": 0.072369,
     "end_time": "2022-06-26T00:47:14.572595",
     "exception": false,
     "start_time": "2022-06-26T00:47:14.500226",
     "status": "completed"
    },
    "tags": []
   },
   "outputs": [],
   "source": [
    "#hide\n",
    "mapping = get_mappings(paths['mapping'])"
   ]
  },
  {
   "cell_type": "code",
   "execution_count": 6,
   "id": "certified-tactics",
   "metadata": {
    "execution": {
     "iopub.execute_input": "2022-06-26T00:47:14.636322Z",
     "iopub.status.busy": "2022-06-26T00:47:14.635745Z",
     "iopub.status.idle": "2022-06-26T00:47:14.638167Z",
     "shell.execute_reply": "2022-06-26T00:47:14.637733Z"
    },
    "papermill": {
     "duration": 0.03606,
     "end_time": "2022-06-26T00:47:14.638275",
     "exception": false,
     "start_time": "2022-06-26T00:47:14.602215",
     "status": "completed"
    },
    "tags": []
   },
   "outputs": [],
   "source": [
    "#hide\n",
    "def get_template(path):\n",
    "    from urllib.parse import urlparse\n",
    "    if bool(urlparse(path).netloc):\n",
    "        from urllib.request import urlopen\n",
    "        return urlopen(path).read().decode('utf8')\n",
    "    return open(path).read()"
   ]
  },
  {
   "cell_type": "code",
   "execution_count": 7,
   "id": "realistic-blast",
   "metadata": {
    "execution": {
     "iopub.execute_input": "2022-06-26T00:47:14.701144Z",
     "iopub.status.busy": "2022-06-26T00:47:14.700589Z",
     "iopub.status.idle": "2022-06-26T00:47:14.704523Z",
     "shell.execute_reply": "2022-06-26T00:47:14.704938Z"
    },
    "papermill": {
     "duration": 0.037367,
     "end_time": "2022-06-26T00:47:14.705048",
     "exception": false,
     "start_time": "2022-06-26T00:47:14.667681",
     "status": "completed"
    },
    "tags": []
   },
   "outputs": [],
   "source": [
    "#hide\n",
    "def get_frame(name):\n",
    "    url = (\n",
    "        'https://raw.githubusercontent.com/CSSEGISandData/COVID-19/master/csse_covid_19_data/'\n",
    "        f'csse_covid_19_time_series/time_series_covid19_{name}_global.csv')\n",
    "    df = pd.read_csv(url)\n",
    "    # rename countries\n",
    "    df['Country/Region'] = df['Country/Region'].replace(mapping['replace.country'])\n",
    "    return df"
   ]
  },
  {
   "cell_type": "code",
   "execution_count": 8,
   "id": "affiliated-characterization",
   "metadata": {
    "execution": {
     "iopub.execute_input": "2022-06-26T00:47:14.769341Z",
     "iopub.status.busy": "2022-06-26T00:47:14.768763Z",
     "iopub.status.idle": "2022-06-26T00:47:14.771238Z",
     "shell.execute_reply": "2022-06-26T00:47:14.770787Z"
    },
    "papermill": {
     "duration": 0.036736,
     "end_time": "2022-06-26T00:47:14.771330",
     "exception": false,
     "start_time": "2022-06-26T00:47:14.734594",
     "status": "completed"
    },
    "tags": []
   },
   "outputs": [],
   "source": [
    "#hide\n",
    "def get_dates(df):\n",
    "    dt_cols = df.columns[~df.columns.isin(['Province/State', 'Country/Region', 'Lat', 'Long'])]\n",
    "    LAST_DATE_I = -1\n",
    "    # sometimes last column may be empty, then go backwards\n",
    "    for i in range(-1, -len(dt_cols), -1):\n",
    "        if not df[dt_cols[i]].fillna(0).eq(0).all():\n",
    "            LAST_DATE_I = i\n",
    "            break\n",
    "    return LAST_DATE_I, dt_cols"
   ]
  },
  {
   "cell_type": "code",
   "execution_count": 9,
   "id": "recent-optimization",
   "metadata": {
    "execution": {
     "iopub.execute_input": "2022-06-26T00:47:14.834628Z",
     "iopub.status.busy": "2022-06-26T00:47:14.834051Z",
     "iopub.status.idle": "2022-06-26T00:47:15.276397Z",
     "shell.execute_reply": "2022-06-26T00:47:15.275923Z"
    },
    "papermill": {
     "duration": 0.475714,
     "end_time": "2022-06-26T00:47:15.276514",
     "exception": false,
     "start_time": "2022-06-26T00:47:14.800800",
     "status": "completed"
    },
    "tags": []
   },
   "outputs": [],
   "source": [
    "#hide\n",
    "COL_REGION = 'Country/Region'\n",
    "# Confirmed, Recovered, Deaths\n",
    "df = get_frame('confirmed')\n",
    "# dft_: timeseries, dfc_: today country agg\n",
    "dft_cases = df\n",
    "dft_deaths = get_frame('deaths')\n",
    "dft_recovered = get_frame('recovered')\n",
    "LAST_DATE_I, dt_cols = get_dates(df)"
   ]
  },
  {
   "cell_type": "code",
   "execution_count": 10,
   "id": "absolute-copper",
   "metadata": {
    "execution": {
     "iopub.execute_input": "2022-06-26T00:47:15.340814Z",
     "iopub.status.busy": "2022-06-26T00:47:15.340259Z",
     "iopub.status.idle": "2022-06-26T00:47:15.344423Z",
     "shell.execute_reply": "2022-06-26T00:47:15.344844Z"
    },
    "papermill": {
     "duration": 0.038422,
     "end_time": "2022-06-26T00:47:15.344958",
     "exception": false,
     "start_time": "2022-06-26T00:47:15.306536",
     "status": "completed"
    },
    "tags": []
   },
   "outputs": [],
   "source": [
    "#hide\n",
    "LAST_DATE_I, dt_cols = get_dates(df)\n",
    "dt_today =dt_cols[LAST_DATE_I]\n",
    "# dt_5day = dt_cols[LAST_DATE_I - 5]\n",
    "dt_yday = dt_cols[LAST_DATE_I - 1]"
   ]
  },
  {
   "cell_type": "code",
   "execution_count": 11,
   "id": "restricted-sheriff",
   "metadata": {
    "execution": {
     "iopub.execute_input": "2022-06-26T00:47:15.412117Z",
     "iopub.status.busy": "2022-06-26T00:47:15.407741Z",
     "iopub.status.idle": "2022-06-26T00:47:15.415655Z",
     "shell.execute_reply": "2022-06-26T00:47:15.416099Z"
    },
    "papermill": {
     "duration": 0.0418,
     "end_time": "2022-06-26T00:47:15.416203",
     "exception": false,
     "start_time": "2022-06-26T00:47:15.374403",
     "status": "completed"
    },
    "tags": []
   },
   "outputs": [],
   "source": [
    "#hide\n",
    "dfc_cases = dft_cases.groupby(COL_REGION)[dt_today].sum()\n",
    "dfc_deaths = dft_deaths.groupby(COL_REGION)[dt_today].sum()\n",
    "# dfp_cases = dft_cases.groupby(COL_REGION)[dt_5day].sum()\n",
    "# dfp_deaths = dft_deaths.groupby(COL_REGION)[dt_5day].sum()\n",
    "dfp_cases = dft_cases.groupby(COL_REGION)[dt_yday].sum()\n",
    "dfp_deaths = dft_deaths.groupby(COL_REGION)[dt_yday].sum()"
   ]
  },
  {
   "cell_type": "code",
   "execution_count": 12,
   "id": "deluxe-hepatitis",
   "metadata": {
    "execution": {
     "iopub.execute_input": "2022-06-26T00:47:15.479913Z",
     "iopub.status.busy": "2022-06-26T00:47:15.479372Z",
     "iopub.status.idle": "2022-06-26T00:47:15.483551Z",
     "shell.execute_reply": "2022-06-26T00:47:15.484001Z"
    },
    "papermill": {
     "duration": 0.038432,
     "end_time": "2022-06-26T00:47:15.484107",
     "exception": false,
     "start_time": "2022-06-26T00:47:15.445675",
     "status": "completed"
    },
    "tags": []
   },
   "outputs": [],
   "source": [
    "#hide\n",
    "df_table = (pd.DataFrame(dict(Cases = dfc_cases, Deaths = dfc_deaths, PCases = dfp_cases, PDeaths = dfp_deaths))\n",
    "            .sort_values(by = ['Cases','Deaths'], ascending = [False, False])\n",
    "            .reset_index())"
   ]
  },
  {
   "cell_type": "code",
   "execution_count": 13,
   "id": "educational-chancellor",
   "metadata": {
    "execution": {
     "iopub.execute_input": "2022-06-26T00:47:15.558527Z",
     "iopub.status.busy": "2022-06-26T00:47:15.557950Z",
     "iopub.status.idle": "2022-06-26T00:47:15.565638Z",
     "shell.execute_reply": "2022-06-26T00:47:15.565222Z"
    },
    "papermill": {
     "duration": 0.05234,
     "end_time": "2022-06-26T00:47:15.565732",
     "exception": false,
     "start_time": "2022-06-26T00:47:15.513392",
     "status": "completed"
    },
    "tags": []
   },
   "outputs": [
    {
     "data": {
      "text/html": [
       "<div>\n",
       "<style scoped>\n",
       "    .dataframe tbody tr th:only-of-type {\n",
       "        vertical-align: middle;\n",
       "    }\n",
       "\n",
       "    .dataframe tbody tr th {\n",
       "        vertical-align: top;\n",
       "    }\n",
       "\n",
       "    .dataframe thead th {\n",
       "        text-align: right;\n",
       "    }\n",
       "</style>\n",
       "<table border=\"1\" class=\"dataframe\">\n",
       "  <thead>\n",
       "    <tr style=\"text-align: right;\">\n",
       "      <th></th>\n",
       "      <th>Country/Region</th>\n",
       "      <th>Cases</th>\n",
       "      <th>Deaths</th>\n",
       "      <th>PCases</th>\n",
       "      <th>PDeaths</th>\n",
       "      <th>Cases (+)</th>\n",
       "      <th>Deaths (+)</th>\n",
       "      <th>Fatality Rate</th>\n",
       "      <th>Continent</th>\n",
       "    </tr>\n",
       "  </thead>\n",
       "  <tbody>\n",
       "    <tr>\n",
       "      <th>0</th>\n",
       "      <td>US</td>\n",
       "      <td>86909716</td>\n",
       "      <td>1015789</td>\n",
       "      <td>86757621</td>\n",
       "      <td>1015342</td>\n",
       "      <td>152095</td>\n",
       "      <td>447</td>\n",
       "      <td>1.17</td>\n",
       "      <td>North America</td>\n",
       "    </tr>\n",
       "    <tr>\n",
       "      <th>1</th>\n",
       "      <td>India</td>\n",
       "      <td>43378234</td>\n",
       "      <td>524974</td>\n",
       "      <td>43362294</td>\n",
       "      <td>524954</td>\n",
       "      <td>15940</td>\n",
       "      <td>20</td>\n",
       "      <td>1.21</td>\n",
       "      <td>Asia</td>\n",
       "    </tr>\n",
       "    <tr>\n",
       "      <th>2</th>\n",
       "      <td>Brazil</td>\n",
       "      <td>32023166</td>\n",
       "      <td>670229</td>\n",
       "      <td>31962782</td>\n",
       "      <td>669895</td>\n",
       "      <td>60384</td>\n",
       "      <td>334</td>\n",
       "      <td>2.09</td>\n",
       "      <td>South America</td>\n",
       "    </tr>\n",
       "    <tr>\n",
       "      <th>3</th>\n",
       "      <td>France</td>\n",
       "      <td>30714200</td>\n",
       "      <td>150356</td>\n",
       "      <td>30634890</td>\n",
       "      <td>150307</td>\n",
       "      <td>79310</td>\n",
       "      <td>49</td>\n",
       "      <td>0.49</td>\n",
       "      <td>Europe</td>\n",
       "    </tr>\n",
       "    <tr>\n",
       "      <th>4</th>\n",
       "      <td>Germany</td>\n",
       "      <td>27771111</td>\n",
       "      <td>140734</td>\n",
       "      <td>27681775</td>\n",
       "      <td>140650</td>\n",
       "      <td>89336</td>\n",
       "      <td>84</td>\n",
       "      <td>0.51</td>\n",
       "      <td>Europe</td>\n",
       "    </tr>\n",
       "  </tbody>\n",
       "</table>\n",
       "</div>"
      ],
      "text/plain": [
       "  Country/Region     Cases   Deaths    PCases  PDeaths  Cases (+)  Deaths (+)  \\\n",
       "0             US  86909716  1015789  86757621  1015342     152095         447   \n",
       "1          India  43378234   524974  43362294   524954      15940          20   \n",
       "2         Brazil  32023166   670229  31962782   669895      60384         334   \n",
       "3         France  30714200   150356  30634890   150307      79310          49   \n",
       "4        Germany  27771111   140734  27681775   140650      89336          84   \n",
       "\n",
       "   Fatality Rate      Continent  \n",
       "0           1.17  North America  \n",
       "1           1.21           Asia  \n",
       "2           2.09  South America  \n",
       "3           0.49         Europe  \n",
       "4           0.51         Europe  "
      ]
     },
     "execution_count": 13,
     "metadata": {},
     "output_type": "execute_result"
    }
   ],
   "source": [
    "#hide\n",
    "for c in 'Cases, Deaths'.split(', '):\n",
    "    df_table[f'{c} (+)'] = (df_table[c] - df_table[f'P{c}']).clip(0)\n",
    "    #Clip ça veut dire, les chiffres negatif sont interdit\n",
    "df_table['Fatality Rate'] = (100* df_table['Deaths']/ df_table['Cases']).round(2)\n",
    "df_table['Continent'] = df_table['Country/Region'].map(mapping['map.continent'])\n",
    "df_table.head(5)"
   ]
  },
  {
   "cell_type": "code",
   "execution_count": 14,
   "id": "aboriginal-bulgaria",
   "metadata": {
    "execution": {
     "iopub.execute_input": "2022-06-26T00:47:15.630748Z",
     "iopub.status.busy": "2022-06-26T00:47:15.630168Z",
     "iopub.status.idle": "2022-06-26T00:47:15.632537Z",
     "shell.execute_reply": "2022-06-26T00:47:15.632013Z"
    },
    "papermill": {
     "duration": 0.036808,
     "end_time": "2022-06-26T00:47:15.632628",
     "exception": false,
     "start_time": "2022-06-26T00:47:15.595820",
     "status": "completed"
    },
    "tags": []
   },
   "outputs": [],
   "source": [
    "#hide\n",
    "#delete problematic countries from table\n",
    "df_table = df_table[~df_table['Country/Region'].isin(['Cape Verde', 'Cruise Ship', 'Kosovo'])]"
   ]
  },
  {
   "cell_type": "code",
   "execution_count": 15,
   "id": "fantastic-effect",
   "metadata": {
    "execution": {
     "iopub.execute_input": "2022-06-26T00:47:15.699876Z",
     "iopub.status.busy": "2022-06-26T00:47:15.699310Z",
     "iopub.status.idle": "2022-06-26T00:47:15.716713Z",
     "shell.execute_reply": "2022-06-26T00:47:15.717123Z"
    },
    "papermill": {
     "duration": 0.05442,
     "end_time": "2022-06-26T00:47:15.717232",
     "exception": false,
     "start_time": "2022-06-26T00:47:15.662812",
     "status": "completed"
    },
    "tags": []
   },
   "outputs": [
    {
     "data": {
      "text/html": [
       "<div>\n",
       "<style scoped>\n",
       "    .dataframe tbody tr th:only-of-type {\n",
       "        vertical-align: middle;\n",
       "    }\n",
       "\n",
       "    .dataframe tbody tr th {\n",
       "        vertical-align: top;\n",
       "    }\n",
       "\n",
       "    .dataframe thead th {\n",
       "        text-align: right;\n",
       "    }\n",
       "</style>\n",
       "<table border=\"1\" class=\"dataframe\">\n",
       "  <thead>\n",
       "    <tr style=\"text-align: right;\">\n",
       "      <th></th>\n",
       "      <th>Country/Region</th>\n",
       "      <th>Cases</th>\n",
       "      <th>Deaths</th>\n",
       "      <th>PCases</th>\n",
       "      <th>PDeaths</th>\n",
       "      <th>Cases (+)</th>\n",
       "      <th>Deaths (+)</th>\n",
       "      <th>Fatality Rate</th>\n",
       "      <th>Continent</th>\n",
       "    </tr>\n",
       "  </thead>\n",
       "  <tbody>\n",
       "    <tr>\n",
       "      <th>0</th>\n",
       "      <td>US</td>\n",
       "      <td>86909716</td>\n",
       "      <td>1015789</td>\n",
       "      <td>86757621</td>\n",
       "      <td>1015342</td>\n",
       "      <td>152095</td>\n",
       "      <td>447</td>\n",
       "      <td>1.2</td>\n",
       "      <td>North America</td>\n",
       "    </tr>\n",
       "    <tr>\n",
       "      <th>1</th>\n",
       "      <td>India</td>\n",
       "      <td>43378234</td>\n",
       "      <td>524974</td>\n",
       "      <td>43362294</td>\n",
       "      <td>524954</td>\n",
       "      <td>15940</td>\n",
       "      <td>20</td>\n",
       "      <td>1.2</td>\n",
       "      <td>Asia</td>\n",
       "    </tr>\n",
       "    <tr>\n",
       "      <th>2</th>\n",
       "      <td>Brazil</td>\n",
       "      <td>32023166</td>\n",
       "      <td>670229</td>\n",
       "      <td>31962782</td>\n",
       "      <td>669895</td>\n",
       "      <td>60384</td>\n",
       "      <td>334</td>\n",
       "      <td>2.1</td>\n",
       "      <td>South America</td>\n",
       "    </tr>\n",
       "    <tr>\n",
       "      <th>3</th>\n",
       "      <td>France</td>\n",
       "      <td>30714200</td>\n",
       "      <td>150356</td>\n",
       "      <td>30634890</td>\n",
       "      <td>150307</td>\n",
       "      <td>79310</td>\n",
       "      <td>49</td>\n",
       "      <td>0.5</td>\n",
       "      <td>Europe</td>\n",
       "    </tr>\n",
       "    <tr>\n",
       "      <th>4</th>\n",
       "      <td>Germany</td>\n",
       "      <td>27771111</td>\n",
       "      <td>140734</td>\n",
       "      <td>27681775</td>\n",
       "      <td>140650</td>\n",
       "      <td>89336</td>\n",
       "      <td>84</td>\n",
       "      <td>0.5</td>\n",
       "      <td>Europe</td>\n",
       "    </tr>\n",
       "  </tbody>\n",
       "</table>\n",
       "</div>"
      ],
      "text/plain": [
       "  Country/Region     Cases   Deaths    PCases  PDeaths  Cases (+)  Deaths (+)  \\\n",
       "0             US  86909716  1015789  86757621  1015342     152095         447   \n",
       "1          India  43378234   524974  43362294   524954      15940          20   \n",
       "2         Brazil  32023166   670229  31962782   669895      60384         334   \n",
       "3         France  30714200   150356  30634890   150307      79310          49   \n",
       "4        Germany  27771111   140734  27681775   140650      89336          84   \n",
       "\n",
       "   Fatality Rate      Continent  \n",
       "0            1.2  North America  \n",
       "1            1.2           Asia  \n",
       "2            2.1  South America  \n",
       "3            0.5         Europe  \n",
       "4            0.5         Europe  "
      ]
     },
     "execution_count": 15,
     "metadata": {},
     "output_type": "execute_result"
    }
   ],
   "source": [
    "#hide\n",
    "df_table = (pd.DataFrame(dict(Cases=dfc_cases, Deaths=dfc_deaths, PCases=dfp_cases, PDeaths=dfp_deaths))\n",
    "             .sort_values(by=['Cases', 'Deaths'], ascending=[False, False])\n",
    "             .reset_index())\n",
    "df_table.rename(columns={'index': 'Country/Region'}, inplace=True)\n",
    "for c in 'Cases, Deaths'.split(', '):\n",
    "    df_table[f'{c} (+)'] = (df_table[c] - df_table[f'P{c}']).clip(0)  # DATA BUG\n",
    "df_table['Fatality Rate'] = (100 * df_table['Deaths'] / df_table['Cases']).round(1)\n",
    "df_table['Continent'] = df_table['Country/Region'].map(mapping['map.continent'])\n",
    "df_table.head(5)"
   ]
  },
  {
   "cell_type": "code",
   "execution_count": 16,
   "id": "fewer-occasion",
   "metadata": {
    "execution": {
     "iopub.execute_input": "2022-06-26T00:47:15.783500Z",
     "iopub.status.busy": "2022-06-26T00:47:15.782921Z",
     "iopub.status.idle": "2022-06-26T00:47:15.785321Z",
     "shell.execute_reply": "2022-06-26T00:47:15.784875Z"
    },
    "papermill": {
     "duration": 0.037595,
     "end_time": "2022-06-26T00:47:15.785417",
     "exception": false,
     "start_time": "2022-06-26T00:47:15.747822",
     "status": "completed"
    },
    "tags": []
   },
   "outputs": [],
   "source": [
    "#hide\n",
    "#delete problematic countries from table\n",
    "df_table = df_table[~df_table['Country/Region'].isin(['Cape Verde', 'Cruise Ship', 'Kosovo'])]"
   ]
  },
  {
   "cell_type": "code",
   "execution_count": 17,
   "id": "related-center",
   "metadata": {
    "execution": {
     "iopub.execute_input": "2022-06-26T00:47:15.862583Z",
     "iopub.status.busy": "2022-06-26T00:47:15.862008Z",
     "iopub.status.idle": "2022-06-26T00:47:15.864221Z",
     "shell.execute_reply": "2022-06-26T00:47:15.864633Z"
    },
    "papermill": {
     "duration": 0.048812,
     "end_time": "2022-06-26T00:47:15.864738",
     "exception": false,
     "start_time": "2022-06-26T00:47:15.815926",
     "status": "completed"
    },
    "tags": []
   },
   "outputs": [],
   "source": [
    "#hide\n",
    "metrics = [df_table.columns[index] for index in [1,2,5,6]]\n",
    "# s_china = df_table[df_table['Country/Region'].eq('China')][metrics].sum().add_prefix('China ')\n",
    "s_us = df_table[df_table['Country/Region'].eq('US')][metrics].sum().add_prefix('US ')\n",
    "s_eu = df_table[df_table['Continent'].eq('Europe')][metrics].sum().add_prefix('EU ')\n",
    "s_ind = df_table[df_table['Country/Region'].eq('India')][metrics].sum().add_prefix('India ')\n",
    "summary = {'updated': pd.to_datetime(dt_today), 'since': pd.to_datetime(dt_yday)}\n",
    "summary = {'updated': pd.to_datetime(dt_today), 'since': pd.to_datetime(dt_yday)}\n",
    "summary = {**summary, **df_table[metrics].sum(), **s_ind, **s_us, **s_eu}"
   ]
  },
  {
   "cell_type": "code",
   "execution_count": 18,
   "id": "engaging-syndrome",
   "metadata": {
    "execution": {
     "iopub.execute_input": "2022-06-26T00:47:15.932730Z",
     "iopub.status.busy": "2022-06-26T00:47:15.929616Z",
     "iopub.status.idle": "2022-06-26T00:47:15.948090Z",
     "shell.execute_reply": "2022-06-26T00:47:15.947545Z"
    },
    "papermill": {
     "duration": 0.052934,
     "end_time": "2022-06-26T00:47:15.948200",
     "exception": false,
     "start_time": "2022-06-26T00:47:15.895266",
     "status": "completed"
    },
    "tags": []
   },
   "outputs": [],
   "source": [
    "#hide\n",
    "dft_ct_new_cases = dft_cases.groupby(COL_REGION)[dt_cols].sum().diff(axis=1).fillna(0).astype(int)"
   ]
  },
  {
   "cell_type": "code",
   "execution_count": 19,
   "id": "neutral-assignment",
   "metadata": {
    "execution": {
     "iopub.execute_input": "2022-06-26T00:47:16.014551Z",
     "iopub.status.busy": "2022-06-26T00:47:16.013985Z",
     "iopub.status.idle": "2022-06-26T00:47:16.016247Z",
     "shell.execute_reply": "2022-06-26T00:47:16.016648Z"
    },
    "papermill": {
     "duration": 0.037741,
     "end_time": "2022-06-26T00:47:16.016757",
     "exception": false,
     "start_time": "2022-06-26T00:47:15.979016",
     "status": "completed"
    },
    "tags": []
   },
   "outputs": [],
   "source": [
    "#hide\n",
    "everydaycases = dft_ct_new_cases.cumsum(axis=1)"
   ]
  },
  {
   "cell_type": "code",
   "execution_count": 20,
   "id": "parliamentary-calgary",
   "metadata": {
    "execution": {
     "iopub.execute_input": "2022-06-26T00:47:16.083572Z",
     "iopub.status.busy": "2022-06-26T00:47:16.080780Z",
     "iopub.status.idle": "2022-06-26T00:47:16.630386Z",
     "shell.execute_reply": "2022-06-26T00:47:16.629891Z"
    },
    "papermill": {
     "duration": 0.583182,
     "end_time": "2022-06-26T00:47:16.630504",
     "exception": false,
     "start_time": "2022-06-26T00:47:16.047322",
     "status": "completed"
    },
    "tags": []
   },
   "outputs": [],
   "source": [
    "#hide\n",
    "import pandas as pd\n",
    "import matplotlib.pyplot as plt\n",
    "import matplotlib.ticker as ticker\n",
    "import matplotlib.animation as animation\n",
    "from IPython.display import HTML"
   ]
  },
  {
   "cell_type": "code",
   "execution_count": 21,
   "id": "lasting-extraction",
   "metadata": {
    "execution": {
     "iopub.execute_input": "2022-06-26T00:47:16.697699Z",
     "iopub.status.busy": "2022-06-26T00:47:16.697147Z",
     "iopub.status.idle": "2022-06-26T00:47:16.703659Z",
     "shell.execute_reply": "2022-06-26T00:47:16.704106Z"
    },
    "papermill": {
     "duration": 0.042722,
     "end_time": "2022-06-26T00:47:16.704219",
     "exception": false,
     "start_time": "2022-06-26T00:47:16.661497",
     "status": "completed"
    },
    "tags": []
   },
   "outputs": [],
   "source": [
    "#hide\n",
    "t = everydaycases.stack()"
   ]
  },
  {
   "cell_type": "code",
   "execution_count": 22,
   "id": "premier-sleeve",
   "metadata": {
    "execution": {
     "iopub.execute_input": "2022-06-26T00:47:16.768765Z",
     "iopub.status.busy": "2022-06-26T00:47:16.768219Z",
     "iopub.status.idle": "2022-06-26T00:47:16.779303Z",
     "shell.execute_reply": "2022-06-26T00:47:16.778853Z"
    },
    "papermill": {
     "duration": 0.04458,
     "end_time": "2022-06-26T00:47:16.779398",
     "exception": false,
     "start_time": "2022-06-26T00:47:16.734818",
     "status": "completed"
    },
    "tags": []
   },
   "outputs": [],
   "source": [
    "#hide\n",
    "g = t.reset_index(['Country/Region'])"
   ]
  },
  {
   "cell_type": "code",
   "execution_count": 23,
   "id": "distributed-pittsburgh",
   "metadata": {
    "execution": {
     "iopub.execute_input": "2022-06-26T00:47:16.844065Z",
     "iopub.status.busy": "2022-06-26T00:47:16.843513Z",
     "iopub.status.idle": "2022-06-26T00:47:16.845175Z",
     "shell.execute_reply": "2022-06-26T00:47:16.845587Z"
    },
    "papermill": {
     "duration": 0.035902,
     "end_time": "2022-06-26T00:47:16.845693",
     "exception": false,
     "start_time": "2022-06-26T00:47:16.809791",
     "status": "completed"
    },
    "tags": []
   },
   "outputs": [],
   "source": [
    "#hide\n",
    "g.index.name = 'date'"
   ]
  },
  {
   "cell_type": "code",
   "execution_count": 24,
   "id": "naked-donor",
   "metadata": {
    "execution": {
     "iopub.execute_input": "2022-06-26T00:47:16.909758Z",
     "iopub.status.busy": "2022-06-26T00:47:16.909196Z",
     "iopub.status.idle": "2022-06-26T00:47:16.911584Z",
     "shell.execute_reply": "2022-06-26T00:47:16.911063Z"
    },
    "papermill": {
     "duration": 0.035436,
     "end_time": "2022-06-26T00:47:16.911676",
     "exception": false,
     "start_time": "2022-06-26T00:47:16.876240",
     "status": "completed"
    },
    "tags": []
   },
   "outputs": [],
   "source": [
    "# #hide\n",
    "# g = g.reset_index(['date'])"
   ]
  },
  {
   "cell_type": "code",
   "execution_count": 25,
   "id": "incomplete-mustang",
   "metadata": {
    "execution": {
     "iopub.execute_input": "2022-06-26T00:47:16.975630Z",
     "iopub.status.busy": "2022-06-26T00:47:16.975083Z",
     "iopub.status.idle": "2022-06-26T00:47:16.978432Z",
     "shell.execute_reply": "2022-06-26T00:47:16.978856Z"
    },
    "papermill": {
     "duration": 0.036809,
     "end_time": "2022-06-26T00:47:16.978968",
     "exception": false,
     "start_time": "2022-06-26T00:47:16.942159",
     "status": "completed"
    },
    "tags": []
   },
   "outputs": [],
   "source": [
    "#hide\n",
    "# g.head()"
   ]
  },
  {
   "cell_type": "code",
   "execution_count": 26,
   "id": "specific-kruger",
   "metadata": {
    "execution": {
     "iopub.execute_input": "2022-06-26T00:47:17.042830Z",
     "iopub.status.busy": "2022-06-26T00:47:17.042244Z",
     "iopub.status.idle": "2022-06-26T00:47:17.044724Z",
     "shell.execute_reply": "2022-06-26T00:47:17.044203Z"
    },
    "papermill": {
     "duration": 0.035416,
     "end_time": "2022-06-26T00:47:17.044816",
     "exception": false,
     "start_time": "2022-06-26T00:47:17.009400",
     "status": "completed"
    },
    "tags": []
   },
   "outputs": [],
   "source": [
    "#hide\n",
    "# g.columns = ['date','country','cases']"
   ]
  },
  {
   "cell_type": "code",
   "execution_count": 27,
   "id": "tender-conversion",
   "metadata": {
    "execution": {
     "iopub.execute_input": "2022-06-26T00:47:17.108807Z",
     "iopub.status.busy": "2022-06-26T00:47:17.108260Z",
     "iopub.status.idle": "2022-06-26T00:47:17.111711Z",
     "shell.execute_reply": "2022-06-26T00:47:17.112123Z"
    },
    "papermill": {
     "duration": 0.036906,
     "end_time": "2022-06-26T00:47:17.112250",
     "exception": false,
     "start_time": "2022-06-26T00:47:17.075344",
     "status": "completed"
    },
    "tags": []
   },
   "outputs": [],
   "source": [
    "#hide\n",
    "# g['continent'] = g.country"
   ]
  },
  {
   "cell_type": "code",
   "execution_count": 28,
   "id": "substantial-wilderness",
   "metadata": {
    "execution": {
     "iopub.execute_input": "2022-06-26T00:47:17.176376Z",
     "iopub.status.busy": "2022-06-26T00:47:17.175809Z",
     "iopub.status.idle": "2022-06-26T00:47:17.178484Z",
     "shell.execute_reply": "2022-06-26T00:47:17.177999Z"
    },
    "papermill": {
     "duration": 0.035778,
     "end_time": "2022-06-26T00:47:17.178579",
     "exception": false,
     "start_time": "2022-06-26T00:47:17.142801",
     "status": "completed"
    },
    "tags": []
   },
   "outputs": [],
   "source": [
    "#hide\n",
    "# cols = list(g.columns.values)"
   ]
  },
  {
   "cell_type": "code",
   "execution_count": 29,
   "id": "solved-farming",
   "metadata": {
    "execution": {
     "iopub.execute_input": "2022-06-26T00:47:17.242814Z",
     "iopub.status.busy": "2022-06-26T00:47:17.242226Z",
     "iopub.status.idle": "2022-06-26T00:47:17.244556Z",
     "shell.execute_reply": "2022-06-26T00:47:17.244040Z"
    },
    "papermill": {
     "duration": 0.035635,
     "end_time": "2022-06-26T00:47:17.244647",
     "exception": false,
     "start_time": "2022-06-26T00:47:17.209012",
     "status": "completed"
    },
    "tags": []
   },
   "outputs": [],
   "source": [
    "#hide\n",
    "# cols.insert(0, cols.pop())"
   ]
  },
  {
   "cell_type": "code",
   "execution_count": 30,
   "id": "executed-adoption",
   "metadata": {
    "execution": {
     "iopub.execute_input": "2022-06-26T00:47:17.309228Z",
     "iopub.status.busy": "2022-06-26T00:47:17.308669Z",
     "iopub.status.idle": "2022-06-26T00:47:17.311088Z",
     "shell.execute_reply": "2022-06-26T00:47:17.310653Z"
    },
    "papermill": {
     "duration": 0.036066,
     "end_time": "2022-06-26T00:47:17.311177",
     "exception": false,
     "start_time": "2022-06-26T00:47:17.275111",
     "status": "completed"
    },
    "tags": []
   },
   "outputs": [],
   "source": [
    "#hide\n",
    "# g = g[cols]"
   ]
  },
  {
   "cell_type": "code",
   "execution_count": 31,
   "id": "subject-dublin",
   "metadata": {
    "execution": {
     "iopub.execute_input": "2022-06-26T00:47:17.374987Z",
     "iopub.status.busy": "2022-06-26T00:47:17.374434Z",
     "iopub.status.idle": "2022-06-26T00:47:17.376971Z",
     "shell.execute_reply": "2022-06-26T00:47:17.376433Z"
    },
    "papermill": {
     "duration": 0.03548,
     "end_time": "2022-06-26T00:47:17.377060",
     "exception": false,
     "start_time": "2022-06-26T00:47:17.341580",
     "status": "completed"
    },
    "tags": []
   },
   "outputs": [],
   "source": [
    "#hide\n",
    "# g['continent'] = g['continent'].map(mapping['map.continent'])"
   ]
  },
  {
   "cell_type": "code",
   "execution_count": 32,
   "id": "freelance-scout",
   "metadata": {
    "execution": {
     "iopub.execute_input": "2022-06-26T00:47:17.440695Z",
     "iopub.status.busy": "2022-06-26T00:47:17.440120Z",
     "iopub.status.idle": "2022-06-26T00:47:17.442461Z",
     "shell.execute_reply": "2022-06-26T00:47:17.441917Z"
    },
    "papermill": {
     "duration": 0.035113,
     "end_time": "2022-06-26T00:47:17.442553",
     "exception": false,
     "start_time": "2022-06-26T00:47:17.407440",
     "status": "completed"
    },
    "tags": []
   },
   "outputs": [],
   "source": [
    "#hide\n",
    "# g.head()"
   ]
  },
  {
   "cell_type": "code",
   "execution_count": 33,
   "id": "limited-engine",
   "metadata": {
    "execution": {
     "iopub.execute_input": "2022-06-26T00:47:17.506508Z",
     "iopub.status.busy": "2022-06-26T00:47:17.505942Z",
     "iopub.status.idle": "2022-06-26T00:47:17.509125Z",
     "shell.execute_reply": "2022-06-26T00:47:17.508607Z"
    },
    "papermill": {
     "duration": 0.036299,
     "end_time": "2022-06-26T00:47:17.509216",
     "exception": false,
     "start_time": "2022-06-26T00:47:17.472917",
     "status": "completed"
    },
    "tags": []
   },
   "outputs": [],
   "source": [
    "# hide\n",
    "# g['date'] = g['date'].astype('datetime64[ns]')"
   ]
  },
  {
   "cell_type": "code",
   "execution_count": 34,
   "id": "sophisticated-supervisor",
   "metadata": {
    "execution": {
     "iopub.execute_input": "2022-06-26T00:47:17.573681Z",
     "iopub.status.busy": "2022-06-26T00:47:17.573131Z",
     "iopub.status.idle": "2022-06-26T00:47:17.575535Z",
     "shell.execute_reply": "2022-06-26T00:47:17.575018Z"
    },
    "papermill": {
     "duration": 0.035769,
     "end_time": "2022-06-26T00:47:17.575627",
     "exception": false,
     "start_time": "2022-06-26T00:47:17.539858",
     "status": "completed"
    },
    "tags": []
   },
   "outputs": [],
   "source": [
    "#hide\n",
    "# g['date'] = g.date.dt.dayofyear"
   ]
  },
  {
   "cell_type": "code",
   "execution_count": 35,
   "id": "inside-dubai",
   "metadata": {
    "execution": {
     "iopub.execute_input": "2022-06-26T00:47:17.638887Z",
     "iopub.status.busy": "2022-06-26T00:47:17.638326Z",
     "iopub.status.idle": "2022-06-26T00:47:17.641525Z",
     "shell.execute_reply": "2022-06-26T00:47:17.641088Z"
    },
    "papermill": {
     "duration": 0.035543,
     "end_time": "2022-06-26T00:47:17.641615",
     "exception": false,
     "start_time": "2022-06-26T00:47:17.606072",
     "status": "completed"
    },
    "tags": []
   },
   "outputs": [],
   "source": [
    "#hide\n",
    "# g = g.rename(columns= {'continent':'group','country':'name','cases':'value'})"
   ]
  },
  {
   "cell_type": "code",
   "execution_count": 36,
   "id": "fleet-motorcycle",
   "metadata": {
    "execution": {
     "iopub.execute_input": "2022-06-26T00:47:17.705676Z",
     "iopub.status.busy": "2022-06-26T00:47:17.705113Z",
     "iopub.status.idle": "2022-06-26T00:47:17.707611Z",
     "shell.execute_reply": "2022-06-26T00:47:17.707166Z"
    },
    "papermill": {
     "duration": 0.035604,
     "end_time": "2022-06-26T00:47:17.707704",
     "exception": false,
     "start_time": "2022-06-26T00:47:17.672100",
     "status": "completed"
    },
    "tags": []
   },
   "outputs": [],
   "source": [
    "#hide\n",
    "# cols = ['name','group','day','value']"
   ]
  },
  {
   "cell_type": "code",
   "execution_count": 37,
   "id": "continued-sleeping",
   "metadata": {
    "execution": {
     "iopub.execute_input": "2022-06-26T00:47:17.771668Z",
     "iopub.status.busy": "2022-06-26T00:47:17.771099Z",
     "iopub.status.idle": "2022-06-26T00:47:17.773543Z",
     "shell.execute_reply": "2022-06-26T00:47:17.773107Z"
    },
    "papermill": {
     "duration": 0.035493,
     "end_time": "2022-06-26T00:47:17.773633",
     "exception": false,
     "start_time": "2022-06-26T00:47:17.738140",
     "status": "completed"
    },
    "tags": []
   },
   "outputs": [],
   "source": [
    "#hide\n",
    "# g.rename(columns= {'date':'day'},inplace = True)"
   ]
  },
  {
   "cell_type": "code",
   "execution_count": 38,
   "id": "major-fight",
   "metadata": {
    "execution": {
     "iopub.execute_input": "2022-06-26T00:47:17.837873Z",
     "iopub.status.busy": "2022-06-26T00:47:17.837312Z",
     "iopub.status.idle": "2022-06-26T00:47:17.839654Z",
     "shell.execute_reply": "2022-06-26T00:47:17.839139Z"
    },
    "papermill": {
     "duration": 0.035354,
     "end_time": "2022-06-26T00:47:17.839766",
     "exception": false,
     "start_time": "2022-06-26T00:47:17.804412",
     "status": "completed"
    },
    "tags": []
   },
   "outputs": [],
   "source": [
    "#hide\n",
    "# g = g[cols]"
   ]
  },
  {
   "cell_type": "code",
   "execution_count": 39,
   "id": "structured-mobile",
   "metadata": {
    "execution": {
     "iopub.execute_input": "2022-06-26T00:47:17.903634Z",
     "iopub.status.busy": "2022-06-26T00:47:17.903065Z",
     "iopub.status.idle": "2022-06-26T00:47:17.905270Z",
     "shell.execute_reply": "2022-06-26T00:47:17.905663Z"
    },
    "papermill": {
     "duration": 0.03569,
     "end_time": "2022-06-26T00:47:17.905771",
     "exception": false,
     "start_time": "2022-06-26T00:47:17.870081",
     "status": "completed"
    },
    "tags": []
   },
   "outputs": [],
   "source": [
    "# #hide\n",
    "# g = g[g.group.notna()]"
   ]
  },
  {
   "cell_type": "code",
   "execution_count": 40,
   "id": "determined-closing",
   "metadata": {
    "execution": {
     "iopub.execute_input": "2022-06-26T00:47:17.970103Z",
     "iopub.status.busy": "2022-06-26T00:47:17.969539Z",
     "iopub.status.idle": "2022-06-26T00:47:17.971673Z",
     "shell.execute_reply": "2022-06-26T00:47:17.972087Z"
    },
    "papermill": {
     "duration": 0.035914,
     "end_time": "2022-06-26T00:47:17.972190",
     "exception": false,
     "start_time": "2022-06-26T00:47:17.936276",
     "status": "completed"
    },
    "tags": []
   },
   "outputs": [],
   "source": [
    "# #hide\n",
    "# colors = dict(zip(\n",
    "#     [\"Oceania\", \"Europe\", \"Asia\", \"South America\", \"Middle East\", \"North America\", \"Africa\"],\n",
    "#     [\"#adb0ff\", \"#ffb3ff\", \"#90d595\", \"#e48381\", \"#aafbff\", \"#f7bb5f\", \"#eafb50\"]\n",
    "# ))\n",
    "# group_lk = g.set_index('name')['group'].to_dict()"
   ]
  },
  {
   "cell_type": "code",
   "execution_count": null,
   "id": "gross-drinking",
   "metadata": {
    "papermill": {
     "duration": 0.030297,
     "end_time": "2022-06-26T00:47:18.032833",
     "exception": false,
     "start_time": "2022-06-26T00:47:18.002536",
     "status": "completed"
    },
    "tags": []
   },
   "outputs": [],
   "source": []
  },
  {
   "cell_type": "code",
   "execution_count": 41,
   "id": "subject-macintosh",
   "metadata": {
    "execution": {
     "iopub.execute_input": "2022-06-26T00:47:18.097145Z",
     "iopub.status.busy": "2022-06-26T00:47:18.096566Z",
     "iopub.status.idle": "2022-06-26T00:47:18.098950Z",
     "shell.execute_reply": "2022-06-26T00:47:18.098422Z"
    },
    "papermill": {
     "duration": 0.035671,
     "end_time": "2022-06-26T00:47:18.099041",
     "exception": false,
     "start_time": "2022-06-26T00:47:18.063370",
     "status": "completed"
    },
    "tags": []
   },
   "outputs": [],
   "source": [
    "# #hide\n",
    "# fig, ax = plt.subplots(figsize=(15, 8))\n",
    "\n",
    "# def draw_barchart(current_day):\n",
    "#     dff = g[g['day'].eq(current_day)].sort_values(by='value', ascending=True).tail(10)\n",
    "#     ax.clear()\n",
    "#     ax.barh(dff['name'], dff['value'], color=[colors[group_lk[x]] for x in dff['name']])\n",
    "#     dx = dff['value'].max() / 200\n",
    "    \n",
    "#     for i, (value, name) in enumerate(zip(dff['value'], dff['name'])):\n",
    "#         ax.text(value-dx, i,     name,           size=14, weight=600, ha='right', va='bottom')\n",
    "#         ax.text(value-dx, i-.25, group_lk[name], size=10, color='#444444', ha='right', va='baseline')\n",
    "#         ax.text(value+dx, i,     f'{value:,.0f}',  size=14, ha='left',  va='center')\n",
    "#     ax.text(1, 0.4, current_day, transform=ax.transAxes, color='#777777', size=46, ha='right', weight=800)\n",
    "#     ax.text(0, 1.06, 'Population (thousands)', transform=ax.transAxes, size=12, color='#777777')\n",
    "#     ax.xaxis.set_major_formatter(ticker.StrMethodFormatter('{x:,.0f}'))\n",
    "#     ax.xaxis.set_ticks_position('top')\n",
    "#     ax.tick_params(axis='x', colors='#777777', labelsize=12)\n",
    "#     ax.set_yticks([])\n",
    "#     ax.margins(0, 0.01)\n",
    "#     ax.grid(which='major', axis='x', linestyle='-')\n",
    "#     ax.set_axisbelow(True)\n",
    "    \n",
    "#     ax.text(0, 1.15, 'Coronavirus',\n",
    "#             transform=ax.transAxes, size=24, weight=600, ha='left', va='top')\n",
    "# #     ax.text(1, 0, 'by @pratapvardhan; credit @jburnmurdoch', transform=ax.transAxes, color='#777777', ha='right',\n",
    "# #             bbox=dict(facecolor='white', alpha=0.8, edgecolor='white'))\n",
    "#     plt.box(False)"
   ]
  },
  {
   "cell_type": "code",
   "execution_count": 42,
   "id": "sexual-wages",
   "metadata": {
    "execution": {
     "iopub.execute_input": "2022-06-26T00:47:18.163123Z",
     "iopub.status.busy": "2022-06-26T00:47:18.162553Z",
     "iopub.status.idle": "2022-06-26T00:47:18.164948Z",
     "shell.execute_reply": "2022-06-26T00:47:18.164518Z"
    },
    "papermill": {
     "duration": 0.035484,
     "end_time": "2022-06-26T00:47:18.165038",
     "exception": false,
     "start_time": "2022-06-26T00:47:18.129554",
     "status": "completed"
    },
    "tags": []
   },
   "outputs": [],
   "source": [
    "# #hide_input\n",
    "# fig, ax = plt.subplots(figsize=(15, 8))\n",
    "# animator = animation.FuncAnimation(fig, draw_barchart, frames=range(g.day.values.min(), g.day.values.max()))\n",
    "# HTML(animator.to_jshtml())\n",
    "# # or use animator.to_html5_video() or animator.save() "
   ]
  },
  {
   "cell_type": "code",
   "execution_count": null,
   "id": "australian-container",
   "metadata": {
    "papermill": {
     "duration": 0.03053,
     "end_time": "2022-06-26T00:47:18.226233",
     "exception": false,
     "start_time": "2022-06-26T00:47:18.195703",
     "status": "completed"
    },
    "tags": []
   },
   "outputs": [],
   "source": []
  },
  {
   "cell_type": "code",
   "execution_count": null,
   "id": "mediterranean-pontiac",
   "metadata": {
    "papermill": {
     "duration": 0.032179,
     "end_time": "2022-06-26T00:47:18.288981",
     "exception": false,
     "start_time": "2022-06-26T00:47:18.256802",
     "status": "completed"
    },
    "tags": []
   },
   "outputs": [],
   "source": []
  },
  {
   "cell_type": "code",
   "execution_count": null,
   "id": "aging-legislature",
   "metadata": {
    "papermill": {
     "duration": 0.030328,
     "end_time": "2022-06-26T00:47:18.349992",
     "exception": false,
     "start_time": "2022-06-26T00:47:18.319664",
     "status": "completed"
    },
    "tags": []
   },
   "outputs": [],
   "source": []
  }
 ],
 "metadata": {
  "kernelspec": {
   "display_name": "Python 3",
   "language": "python",
   "name": "python3"
  },
  "language_info": {
   "codemirror_mode": {
    "name": "ipython",
    "version": 3
   },
   "file_extension": ".py",
   "mimetype": "text/x-python",
   "name": "python",
   "nbconvert_exporter": "python",
   "pygments_lexer": "ipython3",
   "version": "3.6.15"
  },
  "papermill": {
   "duration": 5.763097,
   "end_time": "2022-06-26T00:47:18.697507",
   "environment_variables": {},
   "exception": null,
   "input_path": "2020-03-21-covid19exp.ipynb",
   "output_path": "2020-03-21-covid19exp.ipynb",
   "parameters": {},
   "start_time": "2022-06-26T00:47:12.934410",
   "version": "2.0.0"
  }
 },
 "nbformat": 4,
 "nbformat_minor": 5
}