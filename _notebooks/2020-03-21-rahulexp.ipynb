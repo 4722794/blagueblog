{
 "cells": [
  {
   "cell_type": "markdown",
   "id": "substantial-verification",
   "metadata": {
    "papermill": {
     "duration": 0.017697,
     "end_time": "2022-11-14T12:19:22.290292",
     "exception": false,
     "start_time": "2022-11-14T12:19:22.272595",
     "status": "completed"
    },
    "tags": []
   },
   "source": [
    "# COVID-19 India Matplotlib Overview\n",
    "> Tracking coronavirus total cases, deaths and new cases in India\n",
    "\n",
    "- author: Hargun Oberoi\n",
    "- image: images/covid-overview.png\n",
    "- permalink: /covid-overview-linde-matplotlib/\n",
    "- hide: false\n",
    "- badges: false"
   ]
  },
  {
   "cell_type": "code",
   "execution_count": 1,
   "id": "fatty-craft",
   "metadata": {
    "execution": {
     "iopub.execute_input": "2022-11-14T12:19:22.329713Z",
     "iopub.status.busy": "2022-11-14T12:19:22.329156Z",
     "iopub.status.idle": "2022-11-14T12:19:23.163751Z",
     "shell.execute_reply": "2022-11-14T12:19:23.164205Z"
    },
    "papermill": {
     "duration": 0.858958,
     "end_time": "2022-11-14T12:19:23.164357",
     "exception": false,
     "start_time": "2022-11-14T12:19:22.305399",
     "status": "completed"
    },
    "tags": []
   },
   "outputs": [],
   "source": [
    "#hide\n",
    "import pandas as pd\n",
    "import numpy as np\n",
    "import requests\n",
    "import datetime as dt\n",
    "from jinja2 import Template\n",
    "from IPython.display import HTML\n",
    "import json\n",
    "import matplotlib.pyplot as plt\n",
    "import matplotlib.dates as mdates\n",
    "import matplotlib as mpl\n",
    "import seaborn as sns"
   ]
  },
  {
   "cell_type": "code",
   "execution_count": 2,
   "id": "regional-sierra",
   "metadata": {
    "execution": {
     "iopub.execute_input": "2022-11-14T12:19:23.197821Z",
     "iopub.status.busy": "2022-11-14T12:19:23.197257Z",
     "iopub.status.idle": "2022-11-14T12:19:23.333230Z",
     "shell.execute_reply": "2022-11-14T12:19:23.332723Z"
    },
    "papermill": {
     "duration": 0.154349,
     "end_time": "2022-11-14T12:19:23.333340",
     "exception": false,
     "start_time": "2022-11-14T12:19:23.178991",
     "status": "completed"
    },
    "tags": []
   },
   "outputs": [],
   "source": [
    "#hide\n",
    "url = 'https://raw.githubusercontent.com/hargun3045/dashboards/master/abb_dict.json'\n",
    "r = requests.get(url)\n",
    "abb_dict = r.json()"
   ]
  },
  {
   "cell_type": "code",
   "execution_count": 3,
   "id": "suburban-democracy",
   "metadata": {
    "execution": {
     "iopub.execute_input": "2022-11-14T12:19:23.368370Z",
     "iopub.status.busy": "2022-11-14T12:19:23.367814Z",
     "iopub.status.idle": "2022-11-14T12:19:23.371192Z",
     "shell.execute_reply": "2022-11-14T12:19:23.371617Z"
    },
    "papermill": {
     "duration": 0.023735,
     "end_time": "2022-11-14T12:19:23.371735",
     "exception": false,
     "start_time": "2022-11-14T12:19:23.348000",
     "status": "completed"
    },
    "tags": []
   },
   "outputs": [],
   "source": [
    "#hide\n",
    "#write a function that checks if all last index values are zero, and also selects the appropriate date columns\n",
    "def get_dates(df):\n",
    "    dt_cols = df.columns[~df.columns.isin(['stateABB','states'])]\n",
    "    valid_i = -1\n",
    "    for i in range(-1,-len(dt_cols),-1):\n",
    "        if not df[dt_cols[i]].fillna(0).eq(0).all():\n",
    "            valid_i = i\n",
    "            break\n",
    "    return valid_i, dt_cols"
   ]
  },
  {
   "cell_type": "code",
   "execution_count": 4,
   "id": "historical-pound",
   "metadata": {
    "execution": {
     "iopub.execute_input": "2022-11-14T12:19:23.408839Z",
     "iopub.status.busy": "2022-11-14T12:19:23.407557Z",
     "iopub.status.idle": "2022-11-14T12:19:23.409476Z",
     "shell.execute_reply": "2022-11-14T12:19:23.409887Z"
    },
    "papermill": {
     "duration": 0.023878,
     "end_time": "2022-11-14T12:19:23.409996",
     "exception": false,
     "start_time": "2022-11-14T12:19:23.386118",
     "status": "completed"
    },
    "tags": []
   },
   "outputs": [],
   "source": [
    "#hide\n",
    "def get_frame(name):\n",
    "#    pdb.set_trace()\n",
    "    url = f'http://api.covid19india.org/states_daily_csv/{name}.csv'\n",
    "    df = pd.read_csv(url)\n",
    "    df.set_index('date',inplace = True)\n",
    "    df = df.T\n",
    "    df = df.iloc[:-1,:]\n",
    "    df.fillna(0,inplace=True)\n",
    "    df = df[df.columns].astype(int)\n",
    "    df = df.rename_axis('stateABB').reset_index()\n",
    "    df['states'] = df['stateABB'].map(abb_dict)\n",
    "    df = df[[df.columns[-1]] + list(df.columns[:-1])]\n",
    "    df =df.iloc[1:,:]\n",
    "    df = df[df.states.notna()]\n",
    "    df.sort_values(by = [df.columns[-1]], ascending = False, inplace = True)\n",
    "    df.drop(['stateABB'],axis = 1)\n",
    "    df = df.groupby('states').sum().cumsum(axis=1)\n",
    "    df.reset_index(inplace = True)\n",
    "    return df"
   ]
  },
  {
   "cell_type": "code",
   "execution_count": 5,
   "id": "mechanical-andrews",
   "metadata": {
    "execution": {
     "iopub.execute_input": "2022-11-14T12:19:23.442623Z",
     "iopub.status.busy": "2022-11-14T12:19:23.442063Z",
     "iopub.status.idle": "2022-11-14T12:19:23.445745Z",
     "shell.execute_reply": "2022-11-14T12:19:23.445286Z"
    },
    "papermill": {
     "duration": 0.021528,
     "end_time": "2022-11-14T12:19:23.445839",
     "exception": false,
     "start_time": "2022-11-14T12:19:23.424311",
     "status": "completed"
    },
    "tags": []
   },
   "outputs": [],
   "source": [
    "#hide\n",
    "# dft_cases = get_frame('confirmed')\n",
    "# dft_deaths = get_frame('deceased')"
   ]
  },
  {
   "cell_type": "code",
   "execution_count": 6,
   "id": "needed-baseball",
   "metadata": {
    "execution": {
     "iopub.execute_input": "2022-11-14T12:19:23.478304Z",
     "iopub.status.busy": "2022-11-14T12:19:23.477737Z",
     "iopub.status.idle": "2022-11-14T12:19:23.481207Z",
     "shell.execute_reply": "2022-11-14T12:19:23.481635Z"
    },
    "papermill": {
     "duration": 0.021457,
     "end_time": "2022-11-14T12:19:23.481754",
     "exception": false,
     "start_time": "2022-11-14T12:19:23.460297",
     "status": "completed"
    },
    "tags": []
   },
   "outputs": [],
   "source": [
    "#hide\n",
    "# valid_i, dt_cols = get_dates(dft_cases)\n",
    "# dt_today = dt_cols[valid_i]\n",
    "# dt_yday = dt_cols[valid_i -1]"
   ]
  },
  {
   "cell_type": "code",
   "execution_count": 7,
   "id": "funded-dress",
   "metadata": {
    "execution": {
     "iopub.execute_input": "2022-11-14T12:19:23.515090Z",
     "iopub.status.busy": "2022-11-14T12:19:23.513862Z",
     "iopub.status.idle": "2022-11-14T12:19:23.515739Z",
     "shell.execute_reply": "2022-11-14T12:19:23.516155Z"
    },
    "papermill": {
     "duration": 0.020083,
     "end_time": "2022-11-14T12:19:23.516327",
     "exception": false,
     "start_time": "2022-11-14T12:19:23.496244",
     "status": "completed"
    },
    "tags": []
   },
   "outputs": [],
   "source": [
    "#hide\n",
    "# dfc_cases = dft_cases.groupby('states')[dt_today].sum()\n",
    "# dfc_deaths = dft_deaths.groupby('states')[dt_today].sum()\n",
    "# dfp_cases = dft_cases.groupby('states')[dt_yday].sum()\n",
    "# dfp_deaths = dft_deaths.groupby('states')[dt_yday].sum()"
   ]
  },
  {
   "cell_type": "code",
   "execution_count": 8,
   "id": "clear-occupation",
   "metadata": {
    "execution": {
     "iopub.execute_input": "2022-11-14T12:19:23.548444Z",
     "iopub.status.busy": "2022-11-14T12:19:23.547868Z",
     "iopub.status.idle": "2022-11-14T12:19:23.551732Z",
     "shell.execute_reply": "2022-11-14T12:19:23.551275Z"
    },
    "papermill": {
     "duration": 0.021078,
     "end_time": "2022-11-14T12:19:23.551827",
     "exception": false,
     "start_time": "2022-11-14T12:19:23.530749",
     "status": "completed"
    },
    "tags": []
   },
   "outputs": [],
   "source": [
    "# #hide\n",
    "# # Build the cases table\n",
    "# df_table = (pd.DataFrame(dict(Cases = dfc_cases, Deaths = dfc_deaths, PCases = dfp_cases, PDeaths = dfp_deaths))\n",
    "#             .sort_values(by = ['Cases','Deaths'], ascending = [False, False])\n",
    "#             .reset_index())\n",
    "# for c in 'Cases, Deaths'.split(', '):\n",
    "#     df_table[f'{c} (+)'] = (df_table[c] - df_table[f'P{c}']).clip(0)\n",
    "#     #Clip ça veut dire, les chiffres negatif sont interdit\n",
    "# df_table['Fatality Rate'] = (100* df_table['Deaths']/ df_table['Cases']).round(2)"
   ]
  },
  {
   "cell_type": "code",
   "execution_count": 9,
   "id": "sitting-flavor",
   "metadata": {
    "execution": {
     "iopub.execute_input": "2022-11-14T12:19:23.585291Z",
     "iopub.status.busy": "2022-11-14T12:19:23.584065Z",
     "iopub.status.idle": "2022-11-14T12:19:23.585952Z",
     "shell.execute_reply": "2022-11-14T12:19:23.586373Z"
    },
    "papermill": {
     "duration": 0.020081,
     "end_time": "2022-11-14T12:19:23.586478",
     "exception": false,
     "start_time": "2022-11-14T12:19:23.566397",
     "status": "completed"
    },
    "tags": []
   },
   "outputs": [],
   "source": [
    "# #hide\n",
    "# #Building the summary tab\n",
    "# metrics = [df_table.columns[index] for index in [1,2,5,6]]\n",
    "# s_mah = df_table[df_table.states == 'Maharashtra'][metrics].sum().add_prefix('MH ').astype(int)\n",
    "# s_del = df_table[df_table.states =='Delhi'][metrics].sum().add_prefix('DEL ').astype(int)\n",
    "# s_guj = df_table[df_table.states == 'Gujarat'][metrics].sum().add_prefix('GUJ ').astype(int)\n",
    "# summary = {'updated': pd.to_datetime(dt_today).date(), 'since': pd.to_datetime(dt_yday).date()}\n",
    "# summary = {**summary, **df_table[metrics].sum().astype(int), **s_mah, **s_del, **s_guj}"
   ]
  },
  {
   "cell_type": "code",
   "execution_count": 10,
   "id": "fatty-legislature",
   "metadata": {
    "execution": {
     "iopub.execute_input": "2022-11-14T12:19:23.621216Z",
     "iopub.status.busy": "2022-11-14T12:19:23.620652Z",
     "iopub.status.idle": "2022-11-14T12:19:23.624315Z",
     "shell.execute_reply": "2022-11-14T12:19:23.623855Z"
    },
    "papermill": {
     "duration": 0.023626,
     "end_time": "2022-11-14T12:19:23.624409",
     "exception": false,
     "start_time": "2022-11-14T12:19:23.600783",
     "status": "completed"
    },
    "tags": []
   },
   "outputs": [],
   "source": [
    "# #hide\n",
    "# def myconverter(obj):\n",
    "#         if isinstance(obj, np.integer):\n",
    "#             return int(obj)\n",
    "#         elif isinstance(obj, np.floating):\n",
    "#             return float(obj)\n",
    "#         elif isinstance(obj, np.ndarray):\n",
    "#             return obj.tolist()\n",
    "#         elif isinstance(obj, datetime.datetime):\n",
    "#             return obj.__str__()\n",
    "#         elif isinstance(obj, datetime.date):\n",
    "#             return obj.__str__()"
   ]
  },
  {
   "cell_type": "code",
   "execution_count": 11,
   "id": "passive-yellow",
   "metadata": {
    "execution": {
     "iopub.execute_input": "2022-11-14T12:19:23.656379Z",
     "iopub.status.busy": "2022-11-14T12:19:23.655817Z",
     "iopub.status.idle": "2022-11-14T12:19:23.659177Z",
     "shell.execute_reply": "2022-11-14T12:19:23.659601Z"
    },
    "papermill": {
     "duration": 0.020656,
     "end_time": "2022-11-14T12:19:23.659711",
     "exception": false,
     "start_time": "2022-11-14T12:19:23.639055",
     "status": "completed"
    },
    "tags": []
   },
   "outputs": [],
   "source": [
    "# #hide\n",
    "# #Data on new cases\n",
    "# dft_ct_new_cases = dft_cases.groupby('states')[dt_cols].sum().diff(axis=1).fillna(0).astype(int)\n",
    "# dft_ct_new_cases.sort_values(by = [dft_ct_new_cases.columns[-1]], ascending = False,inplace = True)"
   ]
  },
  {
   "cell_type": "code",
   "execution_count": 12,
   "id": "smart-somerset",
   "metadata": {
    "execution": {
     "iopub.execute_input": "2022-11-14T12:19:23.693096Z",
     "iopub.status.busy": "2022-11-14T12:19:23.691836Z",
     "iopub.status.idle": "2022-11-14T12:19:23.693733Z",
     "shell.execute_reply": "2022-11-14T12:19:23.694145Z"
    },
    "papermill": {
     "duration": 0.020002,
     "end_time": "2022-11-14T12:19:23.694250",
     "exception": false,
     "start_time": "2022-11-14T12:19:23.674248",
     "status": "completed"
    },
    "tags": []
   },
   "outputs": [],
   "source": [
    "# #hide\n",
    "# fig, ax = plt.subplots(facecolor='white',figsize = (14,4))\n",
    "\n",
    "# ax.axis([0, 10, 0, 10])\n",
    "\n",
    "# # This chunk is for overall\n",
    "# ax.text(0.5,1, f'India Summary', transform = fig.transFigure, fontsize = 30);\n",
    "# ax.text(0.38,0.5, f\"Latest update on: {summary['updated'].strftime('%B %d, %Y')} (+change since 24 hours)\", transform = fig.transFigure, fontsize = 16);\n",
    "\n",
    "# ax.text(0.1, 0.9,f'Confirmed Cases' , transform=ax.transAxes,fontsize = 16);\n",
    "# ax.text(1, 0.9,f'Deaths' , transform=ax.transAxes,fontsize = 16)\n",
    "\n",
    "# ax.text(0.1, 0.7,f\"{summary['Cases']}\" , transform=ax.transAxes,fontsize = 40);\n",
    "# ax.text(1, 0.7,f\"{summary['Deaths']}\" , transform=ax.transAxes,fontsize = 40)\n",
    "\n",
    "# ax.text(0.1, 0.6,f\"(+{summary['Cases (+)']})\" ,color='r', transform=ax.transAxes,fontsize = 20);\n",
    "# ax.text(1, 0.6,f\"(+{summary['Deaths (+)']})\" ,color ='r', transform=ax.transAxes,fontsize = 20)\n",
    "\n",
    "# ## End of chunk\n",
    "# ax.set_axis_off()"
   ]
  },
  {
   "cell_type": "code",
   "execution_count": 13,
   "id": "civilian-colombia",
   "metadata": {
    "execution": {
     "iopub.execute_input": "2022-11-14T12:19:23.726261Z",
     "iopub.status.busy": "2022-11-14T12:19:23.725682Z",
     "iopub.status.idle": "2022-11-14T12:19:23.729060Z",
     "shell.execute_reply": "2022-11-14T12:19:23.729464Z"
    },
    "papermill": {
     "duration": 0.020951,
     "end_time": "2022-11-14T12:19:23.729574",
     "exception": false,
     "start_time": "2022-11-14T12:19:23.708623",
     "status": "completed"
    },
    "tags": []
   },
   "outputs": [],
   "source": [
    "# #hide_input\n",
    "# overview = '''\n",
    "# <!-- #######  YAY,HTML!! #########-->\n",
    "# <h1 style=\"color: #5e9ca0; text-align: center;\">India</h1>\n",
    "# <p style=\"text-align: center;\">Last update: <strong>{update}</strong></p>\n",
    "# <p style=\"text-align: center;\">Confirmed cases:</p>\n",
    "# <h1 style=\"text-align: center;\">{cases} (<span style=\"color: #ff0000;\">+{new}</span>)</h1>\n",
    "# <p style=\"text-align: center;\">Confirmed deaths:</p>\n",
    "# <h1 style=\"text-align: center;\">{deaths} (<span style=\"color: #ff0000;\">+{dnew}</span>)</h1>\n",
    "# '''\n",
    "\n",
    "# update = summary['updated'].strftime('%B %d %Y')\n",
    "# cases = summary['Cases']\n",
    "# new = summary['Cases (+)']\n",
    "# deaths = summary['Deaths']\n",
    "# dnew = summary['Deaths (+)']\n",
    "\n",
    "# html = HTML(overview.format(update=update, cases=cases,new=new,deaths=deaths,dnew=dnew))\n",
    "\n",
    "# display(html)"
   ]
  },
  {
   "cell_type": "code",
   "execution_count": 14,
   "id": "editorial-community",
   "metadata": {
    "execution": {
     "iopub.execute_input": "2022-11-14T12:19:23.762594Z",
     "iopub.status.busy": "2022-11-14T12:19:23.761983Z",
     "iopub.status.idle": "2022-11-14T12:19:23.763913Z",
     "shell.execute_reply": "2022-11-14T12:19:23.764318Z"
    },
    "papermill": {
     "duration": 0.020484,
     "end_time": "2022-11-14T12:19:23.764427",
     "exception": false,
     "start_time": "2022-11-14T12:19:23.743943",
     "status": "completed"
    },
    "tags": []
   },
   "outputs": [],
   "source": [
    "# #hide\n",
    "# fig, ax = plt.subplots(facecolor='white',figsize = (14,4))\n",
    "\n",
    "# ax.axis([0, 10, 0, 10])\n",
    "\n",
    "# # This chunk is for overall\n",
    "# ax.text(0.4,0.9, f'India CoVID-19 Dashboard', transform = fig.transFigure, fontsize = 30);\n",
    "# ax.text(0.36,0.5, f\"Latest update on: {summary['updated'].strftime('%B %d, %Y')} (+change since 24 hours)\", transform = fig.transFigure, fontsize = 16);\n",
    "\n",
    "# ax.text(0.1, 0.9,f'Confirmed Cases' , transform=ax.transAxes,fontsize = 16);\n",
    "# ax.text(1, 0.9,f'Deaths' , transform=ax.transAxes,fontsize = 16)\n",
    "\n",
    "# ax.text(0.1, 0.7,f\"{summary['Cases']}\" , transform=ax.transAxes,fontsize = 40);\n",
    "# ax.text(1, 0.7,f\"{summary['Deaths']}\" , transform=ax.transAxes,fontsize = 40)\n",
    "\n",
    "# ax.text(0.1, 0.6,f\"(+{summary['Cases (+)']})\" ,color='r', transform=ax.transAxes,fontsize = 20);\n",
    "# ax.text(1, 0.6,f\"(+{summary['Deaths (+)']})\" ,color ='r', transform=ax.transAxes,fontsize = 20)\n",
    "\n",
    "# ## End of chunk\n",
    "\n",
    "# # Attempting Maharashtra Chunk\n",
    "\n",
    "# ax.text(0.25,0.3, f'Maharashtra', transform = fig.transFigure, fontsize = 20);\n",
    "\n",
    "# ax.text(0.05, 0.2,f'Cases' , transform=ax.transAxes,fontsize = 14);\n",
    "# ax.text(0.4, 0.2,f'Deaths' , transform=ax.transAxes,fontsize = 14)\n",
    "\n",
    "# ax.text(0.05, 0.1,f\"{summary['MH Cases']}\" , transform=ax.transAxes,fontsize = 20);\n",
    "# ax.text(0.4, 0.1,f\"{summary['MH Deaths']}\" , transform=ax.transAxes,fontsize = 20)\n",
    "\n",
    "# ax.text(0.05, 0.05,f\"(+{summary['MH Cases (+)']})\" ,color='r', transform=ax.transAxes,fontsize = 10);\n",
    "# ax.text(0.4, 0.05,f\"(+{summary['MH Deaths (+)']})\" ,color ='r', transform=ax.transAxes,fontsize = 10)\n",
    "\n",
    "# ## End Maharashtra Chunk\n",
    "\n",
    "# # Gujarat Chunk\n",
    "\n",
    "# ax.text(0.83,0.3, f'Gujarat', transform = fig.transFigure, fontsize = 20);\n",
    "\n",
    "# ax.text(0.75, 0.2,f'Cases' , transform=ax.transAxes,fontsize = 14);\n",
    "# ax.text(1.1, 0.2,f'Deaths' , transform=ax.transAxes,fontsize = 14)\n",
    "\n",
    "# ax.text(0.75, 0.1,f\"{summary['GUJ Cases']}\" , transform=ax.transAxes,fontsize = 20);\n",
    "# ax.text(1.1, 0.1,f\"{summary['GUJ Deaths']}\" , transform=ax.transAxes,fontsize = 20)\n",
    "\n",
    "# ax.text(0.75, 0.05,f\"(+{summary['GUJ Cases (+)']})\" ,color='r', transform=ax.transAxes,fontsize = 10);\n",
    "# ax.text(1.1, 0.05,f\"(+{summary['GUJ Deaths (+)']})\" ,color ='r', transform=ax.transAxes,fontsize = 10)\n",
    "\n",
    "# ax.set_axis_off()"
   ]
  },
  {
   "cell_type": "code",
   "execution_count": 15,
   "id": "accompanied-metadata",
   "metadata": {
    "execution": {
     "iopub.execute_input": "2022-11-14T12:19:23.797742Z",
     "iopub.status.busy": "2022-11-14T12:19:23.795378Z",
     "iopub.status.idle": "2022-11-14T12:19:23.799483Z",
     "shell.execute_reply": "2022-11-14T12:19:23.799880Z"
    },
    "papermill": {
     "duration": 0.021104,
     "end_time": "2022-11-14T12:19:23.799987",
     "exception": false,
     "start_time": "2022-11-14T12:19:23.778883",
     "status": "completed"
    },
    "tags": []
   },
   "outputs": [],
   "source": [
    "# #hide_input\n",
    "# df = dft_ct_new_cases\n",
    "# df.loc['Total'] = df.sum()\n",
    "# n = 10\n",
    "# ax = []\n",
    "# fig = plt.figure(constrained_layout=True, figsize = (16,32))\n",
    "# gs = fig.add_gridspec(n+2, 3)\n",
    "# # gs = fig.add_gridspec(2, 3)\n",
    "# ax1 = fig.add_subplot(gs[0, :])\n",
    "# ef = df.loc['Total'].reset_index()\n",
    "# ef['date'] = ef['date'].astype('datetime64[ns]')\n",
    "# ax1.bar(ef.date,ef.Total ,color = 'r',alpha=0.5)\n",
    "# ax1.xaxis.set_major_locator(mdates.WeekdayLocator())\n",
    "# ax1.xaxis.set_major_formatter(mdates.DateFormatter('%b %d'))\n",
    "# textstr = '\\n'.join((\n",
    "# f\"India Overview\",\n",
    "# f\"Total Cases: {summary['Cases']} (+{summary['Cases (+)']})\",\n",
    "# f\"Total Deaths: {summary['Deaths']}(+{summary['Deaths (+)']})\",\n",
    "# f\"Last updated: {dt_today}\"\n",
    "# ))\n",
    "# ax1.text(0.02, 0.50, textstr,transform = ax1.transAxes, fontsize = 20);\n",
    "\n",
    "\n",
    "# ax2 = fig.add_subplot(gs[1,0])\n",
    "# ef = df.loc['Maharashtra'].reset_index()\n",
    "# ef['date'] = ef['date'].astype('datetime64[ns]')\n",
    "# ax2.bar(ef.date, ef.Maharashtra,color = 'r',alpha=0.5)\n",
    "# ax2.set_title('Maharashtra')\n",
    "# ax2.xaxis.set_major_locator(mdates.WeekdayLocator())\n",
    "# ax2.xaxis.set_major_formatter(mdates.DateFormatter('%b %d'))\n",
    "# textstr = '\\n'.join((\n",
    "# f\"Maharashtra\",\n",
    "# f\"Total Cases: {summary['MH Cases']} (+{summary['MH Cases (+)']})\",\n",
    "# f\"Total Deaths: {summary['MH Deaths']}(+{summary['MH Deaths (+)']})\"\n",
    "# ))\n",
    "# ax2.text(0.02, 0.50, textstr,transform = ax2.transAxes, fontsize = 16);\n",
    "\n",
    "\n",
    "# ax3 = fig.add_subplot(gs[1,1])\n",
    "# ef = df.loc['Gujarat'].reset_index()\n",
    "# ef['date'] = ef['date'].astype('datetime64[ns]')\n",
    "# ax3.bar(ef.date, ef.Gujarat,color = 'r',alpha=0.5)\n",
    "# ax3.set_title('Gujarat')\n",
    "# ax3.xaxis.set_major_locator(mdates.WeekdayLocator())\n",
    "# ax3.xaxis.set_major_formatter(mdates.DateFormatter('%b %d'))\n",
    "# textstr = '\\n'.join((\n",
    "# f\"Gujarat\",\n",
    "# f\"Total Cases: {summary['GUJ Cases']} (+{summary['GUJ Cases (+)']})\",\n",
    "# f\"Total Deaths: {summary['GUJ Deaths']}(+{summary['GUJ Deaths (+)']})\"\n",
    "# ))\n",
    "# ax3.text(0.02, 0.50, textstr,transform = ax3.transAxes, fontsize = 16);\n",
    "\n",
    "# ax4 = fig.add_subplot(gs[1,2])\n",
    "# ef = df.loc['Delhi'].reset_index()\n",
    "# ef['date'] = ef['date'].astype('datetime64[ns]')\n",
    "# ax4.bar(ef.date, ef.Delhi,color = 'r',alpha=0.5)\n",
    "# ax4.set_title('Delhi')\n",
    "# ax4.xaxis.set_major_locator(mdates.WeekdayLocator())\n",
    "# ax4.xaxis.set_major_formatter(mdates.DateFormatter('%b %d'))\n",
    "# textstr = '\\n'.join((\n",
    "# f\"Delhi\",\n",
    "# f\"Total Cases: {summary['DEL Cases']} (+{summary['DEL Cases (+)']})\",\n",
    "# f\"Total Deaths: {summary['DEL Deaths']}(+{summary['DEL Deaths (+)']})\"\n",
    "# ))\n",
    "# ax4.text(0.02, 0.50, textstr,transform = ax4.transAxes, fontsize = 16);\n",
    "\n",
    "# for i in range(n):\n",
    "    \n",
    "#     ax.append(fig.add_subplot(gs[i+2,:]))\n",
    "#     ef = df.iloc[i+3].reset_index()\n",
    "#     ef['date'] = ef['date'].astype('datetime64[ns]')\n",
    "#     ax[i].bar(ef.date,ef.iloc[:,-1],color = 'r',alpha=0.5)\n",
    "#     ax[i].set_title(f'{ef.columns.values[-1]}')\n",
    "#     ax[i].xaxis.set_major_locator(mdates.WeekdayLocator())\n",
    "#     ax[i].xaxis.set_major_formatter(mdates.DateFormatter('%b %d'))\n",
    "    \n",
    "\n",
    "# sns.despine()"
   ]
  },
  {
   "cell_type": "code",
   "execution_count": 16,
   "id": "unsigned-leonard",
   "metadata": {
    "execution": {
     "iopub.execute_input": "2022-11-14T12:19:23.831780Z",
     "iopub.status.busy": "2022-11-14T12:19:23.831210Z",
     "iopub.status.idle": "2022-11-14T12:19:23.834663Z",
     "shell.execute_reply": "2022-11-14T12:19:23.835100Z"
    },
    "papermill": {
     "duration": 0.020932,
     "end_time": "2022-11-14T12:19:23.835218",
     "exception": false,
     "start_time": "2022-11-14T12:19:23.814286",
     "status": "completed"
    },
    "tags": []
   },
   "outputs": [],
   "source": [
    "#hide_input\n",
    "# print(df_table.head(20).to_string(index=False))"
   ]
  },
  {
   "cell_type": "code",
   "execution_count": 17,
   "id": "delayed-slovak",
   "metadata": {
    "execution": {
     "iopub.execute_input": "2022-11-14T12:19:23.868749Z",
     "iopub.status.busy": "2022-11-14T12:19:23.867474Z",
     "iopub.status.idle": "2022-11-14T12:19:23.869377Z",
     "shell.execute_reply": "2022-11-14T12:19:23.869785Z"
    },
    "papermill": {
     "duration": 0.020144,
     "end_time": "2022-11-14T12:19:23.869894",
     "exception": false,
     "start_time": "2022-11-14T12:19:23.849750",
     "status": "completed"
    },
    "tags": []
   },
   "outputs": [],
   "source": [
    "# #hide\n",
    "# fig, ax2 = plt.subplots(figsize = (12,4))\n",
    "# ef = df.loc['Maharashtra'].reset_index()\n",
    "# ef['date'] = ef['date'].astype('datetime64[ns]')\n",
    "# ax2.bar(ef.date, ef.Maharashtra, color = 'r', alpha = 0.5)\n",
    "# ax2.set_title('Maharashtra')\n",
    "# #set ticks every week\n",
    "# ax2.xaxis.set_major_locator(mdates.WeekdayLocator())\n",
    "# #set major ticks format\n",
    "# ax2.xaxis.set_major_formatter(mdates.DateFormatter('%b %d'))\n",
    "# textstr = '\\n'.join((\n",
    "# f\"Maharashtra\",\n",
    "# f\"Total Cases: {summary['MH Cases']} (+{summary['MH Cases (+)']})\",\n",
    "# f\"Total Deaths: {summary['MH Deaths']}(+{summary['MH Deaths (+)']})\"\n",
    "# ))\n",
    "# ax2.text(0.02, 0.50, textstr,transform = ax2.transAxes, fontsize = 16);"
   ]
  },
  {
   "cell_type": "code",
   "execution_count": null,
   "id": "acting-nigeria",
   "metadata": {
    "papermill": {
     "duration": 0.014572,
     "end_time": "2022-11-14T12:19:23.899179",
     "exception": false,
     "start_time": "2022-11-14T12:19:23.884607",
     "status": "completed"
    },
    "tags": []
   },
   "outputs": [],
   "source": []
  },
  {
   "cell_type": "code",
   "execution_count": null,
   "id": "hydraulic-metro",
   "metadata": {
    "papermill": {
     "duration": 0.014451,
     "end_time": "2022-11-14T12:19:23.928191",
     "exception": false,
     "start_time": "2022-11-14T12:19:23.913740",
     "status": "completed"
    },
    "tags": []
   },
   "outputs": [],
   "source": []
  },
  {
   "cell_type": "code",
   "execution_count": null,
   "id": "mexican-terminal",
   "metadata": {
    "papermill": {
     "duration": 0.014365,
     "end_time": "2022-11-14T12:19:23.957044",
     "exception": false,
     "start_time": "2022-11-14T12:19:23.942679",
     "status": "completed"
    },
    "tags": []
   },
   "outputs": [],
   "source": []
  },
  {
   "cell_type": "code",
   "execution_count": null,
   "id": "abroad-assurance",
   "metadata": {
    "papermill": {
     "duration": 0.014389,
     "end_time": "2022-11-14T12:19:23.985894",
     "exception": false,
     "start_time": "2022-11-14T12:19:23.971505",
     "status": "completed"
    },
    "tags": []
   },
   "outputs": [],
   "source": []
  }
 ],
 "metadata": {
  "kernelspec": {
   "display_name": "Python 3.7.3 64-bit",
   "metadata": {
    "interpreter": {
     "hash": "aee8b7b246df8f9039afb4144a1f6fd8d2ca17a180786b69acc140d282b71a49"
    }
   },
   "name": "python3"
  },
  "language_info": {
   "codemirror_mode": {
    "name": "ipython",
    "version": 3
   },
   "file_extension": ".py",
   "mimetype": "text/x-python",
   "name": "python",
   "nbconvert_exporter": "python",
   "pygments_lexer": "ipython3",
   "version": "3.6.15"
  },
  "papermill": {
   "duration": 2.948488,
   "end_time": "2022-11-14T12:19:24.318055",
   "environment_variables": {},
   "exception": null,
   "input_path": "2020-03-21-rahulexp.ipynb",
   "output_path": "2020-03-21-rahulexp.ipynb",
   "parameters": {},
   "start_time": "2022-11-14T12:19:21.369567",
   "version": "2.1.1"
  }
 },
 "nbformat": 4,
 "nbformat_minor": 5
}