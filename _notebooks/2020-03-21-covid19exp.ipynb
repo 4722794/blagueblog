{
 "cells": [
  {
   "cell_type": "markdown",
   "id": "muslim-click",
   "metadata": {
    "papermill": {
     "duration": 0.046419,
     "end_time": "2022-01-28T12:12:13.853553",
     "exception": false,
     "start_time": "2022-01-28T12:12:13.807134",
     "status": "completed"
    },
    "tags": []
   },
   "source": [
    "# COVID-19 Case Race\n",
    "> A race chart to see rising cases around the world\n",
    "\n",
    "- author: Hargun Oberoi\n",
    "- image: images/covid-overview.png\n",
    "- hide: false\n",
    "- badges: false"
   ]
  },
  {
   "cell_type": "code",
   "execution_count": 1,
   "id": "proof-material",
   "metadata": {
    "execution": {
     "iopub.execute_input": "2022-01-28T12:12:13.940376Z",
     "iopub.status.busy": "2022-01-28T12:12:13.939631Z",
     "iopub.status.idle": "2022-01-28T12:12:14.324879Z",
     "shell.execute_reply": "2022-01-28T12:12:14.323670Z"
    },
    "papermill": {
     "duration": 0.433301,
     "end_time": "2022-01-28T12:12:14.325105",
     "exception": false,
     "start_time": "2022-01-28T12:12:13.891804",
     "status": "completed"
    },
    "tags": []
   },
   "outputs": [],
   "source": [
    "#hide\n",
    "import numpy as np\n",
    "import pandas as pd\n",
    "from jinja2 import Template\n",
    "from IPython.display import HTML"
   ]
  },
  {
   "cell_type": "code",
   "execution_count": 2,
   "id": "developed-terminology",
   "metadata": {
    "execution": {
     "iopub.execute_input": "2022-01-28T12:12:14.406832Z",
     "iopub.status.busy": "2022-01-28T12:12:14.406167Z",
     "iopub.status.idle": "2022-01-28T12:12:14.410530Z",
     "shell.execute_reply": "2022-01-28T12:12:14.409962Z"
    },
    "papermill": {
     "duration": 0.048093,
     "end_time": "2022-01-28T12:12:14.410658",
     "exception": false,
     "start_time": "2022-01-28T12:12:14.362565",
     "status": "completed"
    },
    "tags": []
   },
   "outputs": [],
   "source": [
    "#hide\n",
    "\n",
    "# FETCH\n",
    "base_url = 'https://raw.githubusercontent.com/pratapvardhan/notebooks/master/covid19/'\n",
    "paths = {\n",
    "    'mapping': base_url + 'mapping_countries.csv',\n",
    "    'overview': base_url + 'overview.tpl'\n",
    "}"
   ]
  },
  {
   "cell_type": "code",
   "execution_count": 3,
   "id": "dynamic-saver",
   "metadata": {
    "execution": {
     "iopub.execute_input": "2022-01-28T12:12:14.496935Z",
     "iopub.status.busy": "2022-01-28T12:12:14.496243Z",
     "iopub.status.idle": "2022-01-28T12:12:14.500018Z",
     "shell.execute_reply": "2022-01-28T12:12:14.500679Z"
    },
    "papermill": {
     "duration": 0.052487,
     "end_time": "2022-01-28T12:12:14.500826",
     "exception": false,
     "start_time": "2022-01-28T12:12:14.448339",
     "status": "completed"
    },
    "tags": []
   },
   "outputs": [
    {
     "data": {
      "text/plain": [
       "'https://raw.githubusercontent.com/pratapvardhan/notebooks/master/covid19/mapping_countries.csv'"
      ]
     },
     "execution_count": 3,
     "metadata": {},
     "output_type": "execute_result"
    }
   ],
   "source": [
    "#hide\n",
    "paths['mapping']"
   ]
  },
  {
   "cell_type": "code",
   "execution_count": 4,
   "id": "urban-software",
   "metadata": {
    "execution": {
     "iopub.execute_input": "2022-01-28T12:12:14.580707Z",
     "iopub.status.busy": "2022-01-28T12:12:14.580003Z",
     "iopub.status.idle": "2022-01-28T12:12:14.582672Z",
     "shell.execute_reply": "2022-01-28T12:12:14.582109Z"
    },
    "papermill": {
     "duration": 0.044372,
     "end_time": "2022-01-28T12:12:14.582799",
     "exception": false,
     "start_time": "2022-01-28T12:12:14.538427",
     "status": "completed"
    },
    "tags": []
   },
   "outputs": [],
   "source": [
    "#hide\n",
    "def get_mappings(url):\n",
    "    df = pd.read_csv(url)\n",
    "    return {\n",
    "        'df': df,\n",
    "        'replace.country': dict(df.dropna(subset=['Name']).set_index('Country')['Name']),\n",
    "        'map.continent': dict(df.set_index('Name')['Continent'])\n",
    "    }"
   ]
  },
  {
   "cell_type": "code",
   "execution_count": 5,
   "id": "intimate-machinery",
   "metadata": {
    "execution": {
     "iopub.execute_input": "2022-01-28T12:12:14.663342Z",
     "iopub.status.busy": "2022-01-28T12:12:14.662683Z",
     "iopub.status.idle": "2022-01-28T12:12:14.701535Z",
     "shell.execute_reply": "2022-01-28T12:12:14.702068Z"
    },
    "papermill": {
     "duration": 0.081233,
     "end_time": "2022-01-28T12:12:14.702223",
     "exception": false,
     "start_time": "2022-01-28T12:12:14.620990",
     "status": "completed"
    },
    "tags": []
   },
   "outputs": [],
   "source": [
    "#hide\n",
    "mapping = get_mappings(paths['mapping'])"
   ]
  },
  {
   "cell_type": "code",
   "execution_count": 6,
   "id": "certified-tactics",
   "metadata": {
    "execution": {
     "iopub.execute_input": "2022-01-28T12:12:14.781211Z",
     "iopub.status.busy": "2022-01-28T12:12:14.780548Z",
     "iopub.status.idle": "2022-01-28T12:12:14.782992Z",
     "shell.execute_reply": "2022-01-28T12:12:14.782350Z"
    },
    "papermill": {
     "duration": 0.043897,
     "end_time": "2022-01-28T12:12:14.783125",
     "exception": false,
     "start_time": "2022-01-28T12:12:14.739228",
     "status": "completed"
    },
    "tags": []
   },
   "outputs": [],
   "source": [
    "#hide\n",
    "def get_template(path):\n",
    "    from urllib.parse import urlparse\n",
    "    if bool(urlparse(path).netloc):\n",
    "        from urllib.request import urlopen\n",
    "        return urlopen(path).read().decode('utf8')\n",
    "    return open(path).read()"
   ]
  },
  {
   "cell_type": "code",
   "execution_count": 7,
   "id": "realistic-blast",
   "metadata": {
    "execution": {
     "iopub.execute_input": "2022-01-28T12:12:14.862909Z",
     "iopub.status.busy": "2022-01-28T12:12:14.862253Z",
     "iopub.status.idle": "2022-01-28T12:12:14.864385Z",
     "shell.execute_reply": "2022-01-28T12:12:14.864980Z"
    },
    "papermill": {
     "duration": 0.044772,
     "end_time": "2022-01-28T12:12:14.865119",
     "exception": false,
     "start_time": "2022-01-28T12:12:14.820347",
     "status": "completed"
    },
    "tags": []
   },
   "outputs": [],
   "source": [
    "#hide\n",
    "def get_frame(name):\n",
    "    url = (\n",
    "        'https://raw.githubusercontent.com/CSSEGISandData/COVID-19/master/csse_covid_19_data/'\n",
    "        f'csse_covid_19_time_series/time_series_covid19_{name}_global.csv')\n",
    "    df = pd.read_csv(url)\n",
    "    # rename countries\n",
    "    df['Country/Region'] = df['Country/Region'].replace(mapping['replace.country'])\n",
    "    return df"
   ]
  },
  {
   "cell_type": "code",
   "execution_count": 8,
   "id": "affiliated-characterization",
   "metadata": {
    "execution": {
     "iopub.execute_input": "2022-01-28T12:12:14.944203Z",
     "iopub.status.busy": "2022-01-28T12:12:14.943411Z",
     "iopub.status.idle": "2022-01-28T12:12:14.947377Z",
     "shell.execute_reply": "2022-01-28T12:12:14.947877Z"
    },
    "papermill": {
     "duration": 0.046239,
     "end_time": "2022-01-28T12:12:14.948017",
     "exception": false,
     "start_time": "2022-01-28T12:12:14.901778",
     "status": "completed"
    },
    "tags": []
   },
   "outputs": [],
   "source": [
    "#hide\n",
    "def get_dates(df):\n",
    "    dt_cols = df.columns[~df.columns.isin(['Province/State', 'Country/Region', 'Lat', 'Long'])]\n",
    "    LAST_DATE_I = -1\n",
    "    # sometimes last column may be empty, then go backwards\n",
    "    for i in range(-1, -len(dt_cols), -1):\n",
    "        if not df[dt_cols[i]].fillna(0).eq(0).all():\n",
    "            LAST_DATE_I = i\n",
    "            break\n",
    "    return LAST_DATE_I, dt_cols"
   ]
  },
  {
   "cell_type": "code",
   "execution_count": 9,
   "id": "recent-optimization",
   "metadata": {
    "execution": {
     "iopub.execute_input": "2022-01-28T12:12:15.029910Z",
     "iopub.status.busy": "2022-01-28T12:12:15.029250Z",
     "iopub.status.idle": "2022-01-28T12:12:15.480553Z",
     "shell.execute_reply": "2022-01-28T12:12:15.479912Z"
    },
    "papermill": {
     "duration": 0.493039,
     "end_time": "2022-01-28T12:12:15.480705",
     "exception": false,
     "start_time": "2022-01-28T12:12:14.987666",
     "status": "completed"
    },
    "tags": []
   },
   "outputs": [],
   "source": [
    "#hide\n",
    "COL_REGION = 'Country/Region'\n",
    "# Confirmed, Recovered, Deaths\n",
    "df = get_frame('confirmed')\n",
    "# dft_: timeseries, dfc_: today country agg\n",
    "dft_cases = df\n",
    "dft_deaths = get_frame('deaths')\n",
    "dft_recovered = get_frame('recovered')\n",
    "LAST_DATE_I, dt_cols = get_dates(df)"
   ]
  },
  {
   "cell_type": "code",
   "execution_count": 10,
   "id": "absolute-copper",
   "metadata": {
    "execution": {
     "iopub.execute_input": "2022-01-28T12:12:15.562432Z",
     "iopub.status.busy": "2022-01-28T12:12:15.561755Z",
     "iopub.status.idle": "2022-01-28T12:12:15.565529Z",
     "shell.execute_reply": "2022-01-28T12:12:15.566428Z"
    },
    "papermill": {
     "duration": 0.046997,
     "end_time": "2022-01-28T12:12:15.566590",
     "exception": false,
     "start_time": "2022-01-28T12:12:15.519593",
     "status": "completed"
    },
    "tags": []
   },
   "outputs": [],
   "source": [
    "#hide\n",
    "LAST_DATE_I, dt_cols = get_dates(df)\n",
    "dt_today =dt_cols[LAST_DATE_I]\n",
    "# dt_5day = dt_cols[LAST_DATE_I - 5]\n",
    "dt_yday = dt_cols[LAST_DATE_I - 1]"
   ]
  },
  {
   "cell_type": "code",
   "execution_count": 11,
   "id": "restricted-sheriff",
   "metadata": {
    "execution": {
     "iopub.execute_input": "2022-01-28T12:12:15.648335Z",
     "iopub.status.busy": "2022-01-28T12:12:15.647065Z",
     "iopub.status.idle": "2022-01-28T12:12:15.655266Z",
     "shell.execute_reply": "2022-01-28T12:12:15.655771Z"
    },
    "papermill": {
     "duration": 0.051746,
     "end_time": "2022-01-28T12:12:15.655914",
     "exception": false,
     "start_time": "2022-01-28T12:12:15.604168",
     "status": "completed"
    },
    "tags": []
   },
   "outputs": [],
   "source": [
    "#hide\n",
    "dfc_cases = dft_cases.groupby(COL_REGION)[dt_today].sum()\n",
    "dfc_deaths = dft_deaths.groupby(COL_REGION)[dt_today].sum()\n",
    "# dfp_cases = dft_cases.groupby(COL_REGION)[dt_5day].sum()\n",
    "# dfp_deaths = dft_deaths.groupby(COL_REGION)[dt_5day].sum()\n",
    "dfp_cases = dft_cases.groupby(COL_REGION)[dt_yday].sum()\n",
    "dfp_deaths = dft_deaths.groupby(COL_REGION)[dt_yday].sum()"
   ]
  },
  {
   "cell_type": "code",
   "execution_count": 12,
   "id": "deluxe-hepatitis",
   "metadata": {
    "execution": {
     "iopub.execute_input": "2022-01-28T12:12:15.736164Z",
     "iopub.status.busy": "2022-01-28T12:12:15.735510Z",
     "iopub.status.idle": "2022-01-28T12:12:15.740283Z",
     "shell.execute_reply": "2022-01-28T12:12:15.740950Z"
    },
    "papermill": {
     "duration": 0.048402,
     "end_time": "2022-01-28T12:12:15.741092",
     "exception": false,
     "start_time": "2022-01-28T12:12:15.692690",
     "status": "completed"
    },
    "tags": []
   },
   "outputs": [],
   "source": [
    "#hide\n",
    "df_table = (pd.DataFrame(dict(Cases = dfc_cases, Deaths = dfc_deaths, PCases = dfp_cases, PDeaths = dfp_deaths))\n",
    "            .sort_values(by = ['Cases','Deaths'], ascending = [False, False])\n",
    "            .reset_index())"
   ]
  },
  {
   "cell_type": "code",
   "execution_count": 13,
   "id": "educational-chancellor",
   "metadata": {
    "execution": {
     "iopub.execute_input": "2022-01-28T12:12:15.835347Z",
     "iopub.status.busy": "2022-01-28T12:12:15.834690Z",
     "iopub.status.idle": "2022-01-28T12:12:15.843695Z",
     "shell.execute_reply": "2022-01-28T12:12:15.844321Z"
    },
    "papermill": {
     "duration": 0.066157,
     "end_time": "2022-01-28T12:12:15.844502",
     "exception": false,
     "start_time": "2022-01-28T12:12:15.778345",
     "status": "completed"
    },
    "tags": []
   },
   "outputs": [
    {
     "data": {
      "text/html": [
       "<div>\n",
       "<style scoped>\n",
       "    .dataframe tbody tr th:only-of-type {\n",
       "        vertical-align: middle;\n",
       "    }\n",
       "\n",
       "    .dataframe tbody tr th {\n",
       "        vertical-align: top;\n",
       "    }\n",
       "\n",
       "    .dataframe thead th {\n",
       "        text-align: right;\n",
       "    }\n",
       "</style>\n",
       "<table border=\"1\" class=\"dataframe\">\n",
       "  <thead>\n",
       "    <tr style=\"text-align: right;\">\n",
       "      <th></th>\n",
       "      <th>Country/Region</th>\n",
       "      <th>Cases</th>\n",
       "      <th>Deaths</th>\n",
       "      <th>PCases</th>\n",
       "      <th>PDeaths</th>\n",
       "      <th>Cases (+)</th>\n",
       "      <th>Deaths (+)</th>\n",
       "      <th>Fatality Rate</th>\n",
       "      <th>Continent</th>\n",
       "    </tr>\n",
       "  </thead>\n",
       "  <tbody>\n",
       "    <tr>\n",
       "      <th>0</th>\n",
       "      <td>US</td>\n",
       "      <td>73427335</td>\n",
       "      <td>878424</td>\n",
       "      <td>72910136</td>\n",
       "      <td>876065</td>\n",
       "      <td>517199</td>\n",
       "      <td>2359</td>\n",
       "      <td>1.20</td>\n",
       "      <td>North America</td>\n",
       "    </tr>\n",
       "    <tr>\n",
       "      <th>1</th>\n",
       "      <td>India</td>\n",
       "      <td>40622709</td>\n",
       "      <td>492327</td>\n",
       "      <td>40371500</td>\n",
       "      <td>491700</td>\n",
       "      <td>251209</td>\n",
       "      <td>627</td>\n",
       "      <td>1.21</td>\n",
       "      <td>Asia</td>\n",
       "    </tr>\n",
       "    <tr>\n",
       "      <th>2</th>\n",
       "      <td>Brazil</td>\n",
       "      <td>24789795</td>\n",
       "      <td>625390</td>\n",
       "      <td>24560093</td>\n",
       "      <td>624717</td>\n",
       "      <td>229702</td>\n",
       "      <td>673</td>\n",
       "      <td>2.52</td>\n",
       "      <td>South America</td>\n",
       "    </tr>\n",
       "    <tr>\n",
       "      <th>3</th>\n",
       "      <td>France</td>\n",
       "      <td>18241888</td>\n",
       "      <td>131008</td>\n",
       "      <td>17848291</td>\n",
       "      <td>130739</td>\n",
       "      <td>393597</td>\n",
       "      <td>269</td>\n",
       "      <td>0.72</td>\n",
       "      <td>Europe</td>\n",
       "    </tr>\n",
       "    <tr>\n",
       "      <th>4</th>\n",
       "      <td>United Kingdom</td>\n",
       "      <td>16358047</td>\n",
       "      <td>155561</td>\n",
       "      <td>16260882</td>\n",
       "      <td>155221</td>\n",
       "      <td>97165</td>\n",
       "      <td>340</td>\n",
       "      <td>0.95</td>\n",
       "      <td>Europe</td>\n",
       "    </tr>\n",
       "  </tbody>\n",
       "</table>\n",
       "</div>"
      ],
      "text/plain": [
       "   Country/Region     Cases  Deaths    PCases  PDeaths  Cases (+)  Deaths (+)  \\\n",
       "0              US  73427335  878424  72910136   876065     517199        2359   \n",
       "1           India  40622709  492327  40371500   491700     251209         627   \n",
       "2          Brazil  24789795  625390  24560093   624717     229702         673   \n",
       "3          France  18241888  131008  17848291   130739     393597         269   \n",
       "4  United Kingdom  16358047  155561  16260882   155221      97165         340   \n",
       "\n",
       "   Fatality Rate      Continent  \n",
       "0           1.20  North America  \n",
       "1           1.21           Asia  \n",
       "2           2.52  South America  \n",
       "3           0.72         Europe  \n",
       "4           0.95         Europe  "
      ]
     },
     "execution_count": 13,
     "metadata": {},
     "output_type": "execute_result"
    }
   ],
   "source": [
    "#hide\n",
    "for c in 'Cases, Deaths'.split(', '):\n",
    "    df_table[f'{c} (+)'] = (df_table[c] - df_table[f'P{c}']).clip(0)\n",
    "    #Clip ça veut dire, les chiffres negatif sont interdit\n",
    "df_table['Fatality Rate'] = (100* df_table['Deaths']/ df_table['Cases']).round(2)\n",
    "df_table['Continent'] = df_table['Country/Region'].map(mapping['map.continent'])\n",
    "df_table.head(5)"
   ]
  },
  {
   "cell_type": "code",
   "execution_count": 14,
   "id": "aboriginal-bulgaria",
   "metadata": {
    "execution": {
     "iopub.execute_input": "2022-01-28T12:12:15.925722Z",
     "iopub.status.busy": "2022-01-28T12:12:15.925056Z",
     "iopub.status.idle": "2022-01-28T12:12:15.927653Z",
     "shell.execute_reply": "2022-01-28T12:12:15.926999Z"
    },
    "papermill": {
     "duration": 0.04576,
     "end_time": "2022-01-28T12:12:15.927780",
     "exception": false,
     "start_time": "2022-01-28T12:12:15.882020",
     "status": "completed"
    },
    "tags": []
   },
   "outputs": [],
   "source": [
    "#hide\n",
    "#delete problematic countries from table\n",
    "df_table = df_table[~df_table['Country/Region'].isin(['Cape Verde', 'Cruise Ship', 'Kosovo'])]"
   ]
  },
  {
   "cell_type": "code",
   "execution_count": 15,
   "id": "fantastic-effect",
   "metadata": {
    "execution": {
     "iopub.execute_input": "2022-01-28T12:12:16.011032Z",
     "iopub.status.busy": "2022-01-28T12:12:16.010370Z",
     "iopub.status.idle": "2022-01-28T12:12:16.032661Z",
     "shell.execute_reply": "2022-01-28T12:12:16.033167Z"
    },
    "papermill": {
     "duration": 0.068036,
     "end_time": "2022-01-28T12:12:16.033308",
     "exception": false,
     "start_time": "2022-01-28T12:12:15.965272",
     "status": "completed"
    },
    "tags": []
   },
   "outputs": [
    {
     "data": {
      "text/html": [
       "<div>\n",
       "<style scoped>\n",
       "    .dataframe tbody tr th:only-of-type {\n",
       "        vertical-align: middle;\n",
       "    }\n",
       "\n",
       "    .dataframe tbody tr th {\n",
       "        vertical-align: top;\n",
       "    }\n",
       "\n",
       "    .dataframe thead th {\n",
       "        text-align: right;\n",
       "    }\n",
       "</style>\n",
       "<table border=\"1\" class=\"dataframe\">\n",
       "  <thead>\n",
       "    <tr style=\"text-align: right;\">\n",
       "      <th></th>\n",
       "      <th>Country/Region</th>\n",
       "      <th>Cases</th>\n",
       "      <th>Deaths</th>\n",
       "      <th>PCases</th>\n",
       "      <th>PDeaths</th>\n",
       "      <th>Cases (+)</th>\n",
       "      <th>Deaths (+)</th>\n",
       "      <th>Fatality Rate</th>\n",
       "      <th>Continent</th>\n",
       "    </tr>\n",
       "  </thead>\n",
       "  <tbody>\n",
       "    <tr>\n",
       "      <th>0</th>\n",
       "      <td>US</td>\n",
       "      <td>73427335</td>\n",
       "      <td>878424</td>\n",
       "      <td>72910136</td>\n",
       "      <td>876065</td>\n",
       "      <td>517199</td>\n",
       "      <td>2359</td>\n",
       "      <td>1.2</td>\n",
       "      <td>North America</td>\n",
       "    </tr>\n",
       "    <tr>\n",
       "      <th>1</th>\n",
       "      <td>India</td>\n",
       "      <td>40622709</td>\n",
       "      <td>492327</td>\n",
       "      <td>40371500</td>\n",
       "      <td>491700</td>\n",
       "      <td>251209</td>\n",
       "      <td>627</td>\n",
       "      <td>1.2</td>\n",
       "      <td>Asia</td>\n",
       "    </tr>\n",
       "    <tr>\n",
       "      <th>2</th>\n",
       "      <td>Brazil</td>\n",
       "      <td>24789795</td>\n",
       "      <td>625390</td>\n",
       "      <td>24560093</td>\n",
       "      <td>624717</td>\n",
       "      <td>229702</td>\n",
       "      <td>673</td>\n",
       "      <td>2.5</td>\n",
       "      <td>South America</td>\n",
       "    </tr>\n",
       "    <tr>\n",
       "      <th>3</th>\n",
       "      <td>France</td>\n",
       "      <td>18241888</td>\n",
       "      <td>131008</td>\n",
       "      <td>17848291</td>\n",
       "      <td>130739</td>\n",
       "      <td>393597</td>\n",
       "      <td>269</td>\n",
       "      <td>0.7</td>\n",
       "      <td>Europe</td>\n",
       "    </tr>\n",
       "    <tr>\n",
       "      <th>4</th>\n",
       "      <td>United Kingdom</td>\n",
       "      <td>16358047</td>\n",
       "      <td>155561</td>\n",
       "      <td>16260882</td>\n",
       "      <td>155221</td>\n",
       "      <td>97165</td>\n",
       "      <td>340</td>\n",
       "      <td>1.0</td>\n",
       "      <td>Europe</td>\n",
       "    </tr>\n",
       "  </tbody>\n",
       "</table>\n",
       "</div>"
      ],
      "text/plain": [
       "   Country/Region     Cases  Deaths    PCases  PDeaths  Cases (+)  Deaths (+)  \\\n",
       "0              US  73427335  878424  72910136   876065     517199        2359   \n",
       "1           India  40622709  492327  40371500   491700     251209         627   \n",
       "2          Brazil  24789795  625390  24560093   624717     229702         673   \n",
       "3          France  18241888  131008  17848291   130739     393597         269   \n",
       "4  United Kingdom  16358047  155561  16260882   155221      97165         340   \n",
       "\n",
       "   Fatality Rate      Continent  \n",
       "0            1.2  North America  \n",
       "1            1.2           Asia  \n",
       "2            2.5  South America  \n",
       "3            0.7         Europe  \n",
       "4            1.0         Europe  "
      ]
     },
     "execution_count": 15,
     "metadata": {},
     "output_type": "execute_result"
    }
   ],
   "source": [
    "#hide\n",
    "df_table = (pd.DataFrame(dict(Cases=dfc_cases, Deaths=dfc_deaths, PCases=dfp_cases, PDeaths=dfp_deaths))\n",
    "             .sort_values(by=['Cases', 'Deaths'], ascending=[False, False])\n",
    "             .reset_index())\n",
    "df_table.rename(columns={'index': 'Country/Region'}, inplace=True)\n",
    "for c in 'Cases, Deaths'.split(', '):\n",
    "    df_table[f'{c} (+)'] = (df_table[c] - df_table[f'P{c}']).clip(0)  # DATA BUG\n",
    "df_table['Fatality Rate'] = (100 * df_table['Deaths'] / df_table['Cases']).round(1)\n",
    "df_table['Continent'] = df_table['Country/Region'].map(mapping['map.continent'])\n",
    "df_table.head(5)"
   ]
  },
  {
   "cell_type": "code",
   "execution_count": 16,
   "id": "fewer-occasion",
   "metadata": {
    "execution": {
     "iopub.execute_input": "2022-01-28T12:12:16.122107Z",
     "iopub.status.busy": "2022-01-28T12:12:16.121452Z",
     "iopub.status.idle": "2022-01-28T12:12:16.128570Z",
     "shell.execute_reply": "2022-01-28T12:12:16.130840Z"
    },
    "papermill": {
     "duration": 0.054471,
     "end_time": "2022-01-28T12:12:16.130994",
     "exception": false,
     "start_time": "2022-01-28T12:12:16.076523",
     "status": "completed"
    },
    "tags": []
   },
   "outputs": [],
   "source": [
    "#hide\n",
    "#delete problematic countries from table\n",
    "df_table = df_table[~df_table['Country/Region'].isin(['Cape Verde', 'Cruise Ship', 'Kosovo'])]"
   ]
  },
  {
   "cell_type": "code",
   "execution_count": 17,
   "id": "related-center",
   "metadata": {
    "execution": {
     "iopub.execute_input": "2022-01-28T12:12:16.228963Z",
     "iopub.status.busy": "2022-01-28T12:12:16.228256Z",
     "iopub.status.idle": "2022-01-28T12:12:16.231104Z",
     "shell.execute_reply": "2022-01-28T12:12:16.230542Z"
    },
    "papermill": {
     "duration": 0.062047,
     "end_time": "2022-01-28T12:12:16.231296",
     "exception": false,
     "start_time": "2022-01-28T12:12:16.169249",
     "status": "completed"
    },
    "tags": []
   },
   "outputs": [],
   "source": [
    "#hide\n",
    "metrics = [df_table.columns[index] for index in [1,2,5,6]]\n",
    "# s_china = df_table[df_table['Country/Region'].eq('China')][metrics].sum().add_prefix('China ')\n",
    "s_us = df_table[df_table['Country/Region'].eq('US')][metrics].sum().add_prefix('US ')\n",
    "s_eu = df_table[df_table['Continent'].eq('Europe')][metrics].sum().add_prefix('EU ')\n",
    "s_ind = df_table[df_table['Country/Region'].eq('India')][metrics].sum().add_prefix('India ')\n",
    "summary = {'updated': pd.to_datetime(dt_today), 'since': pd.to_datetime(dt_yday)}\n",
    "summary = {'updated': pd.to_datetime(dt_today), 'since': pd.to_datetime(dt_yday)}\n",
    "summary = {**summary, **df_table[metrics].sum(), **s_ind, **s_us, **s_eu}"
   ]
  },
  {
   "cell_type": "code",
   "execution_count": 18,
   "id": "engaging-syndrome",
   "metadata": {
    "execution": {
     "iopub.execute_input": "2022-01-28T12:12:16.314589Z",
     "iopub.status.busy": "2022-01-28T12:12:16.313910Z",
     "iopub.status.idle": "2022-01-28T12:12:16.330955Z",
     "shell.execute_reply": "2022-01-28T12:12:16.330383Z"
    },
    "papermill": {
     "duration": 0.060948,
     "end_time": "2022-01-28T12:12:16.331091",
     "exception": false,
     "start_time": "2022-01-28T12:12:16.270143",
     "status": "completed"
    },
    "tags": []
   },
   "outputs": [],
   "source": [
    "#hide\n",
    "dft_ct_new_cases = dft_cases.groupby(COL_REGION)[dt_cols].sum().diff(axis=1).fillna(0).astype(int)"
   ]
  },
  {
   "cell_type": "code",
   "execution_count": 19,
   "id": "neutral-assignment",
   "metadata": {
    "execution": {
     "iopub.execute_input": "2022-01-28T12:12:16.417509Z",
     "iopub.status.busy": "2022-01-28T12:12:16.416846Z",
     "iopub.status.idle": "2022-01-28T12:12:16.424442Z",
     "shell.execute_reply": "2022-01-28T12:12:16.425027Z"
    },
    "papermill": {
     "duration": 0.053298,
     "end_time": "2022-01-28T12:12:16.425186",
     "exception": false,
     "start_time": "2022-01-28T12:12:16.371888",
     "status": "completed"
    },
    "tags": []
   },
   "outputs": [],
   "source": [
    "#hide\n",
    "everydaycases = dft_ct_new_cases.cumsum(axis=1)"
   ]
  },
  {
   "cell_type": "code",
   "execution_count": 20,
   "id": "parliamentary-calgary",
   "metadata": {
    "execution": {
     "iopub.execute_input": "2022-01-28T12:12:16.506713Z",
     "iopub.status.busy": "2022-01-28T12:12:16.506043Z",
     "iopub.status.idle": "2022-01-28T12:12:17.212889Z",
     "shell.execute_reply": "2022-01-28T12:12:17.212270Z"
    },
    "papermill": {
     "duration": 0.748179,
     "end_time": "2022-01-28T12:12:17.213048",
     "exception": false,
     "start_time": "2022-01-28T12:12:16.464869",
     "status": "completed"
    },
    "tags": []
   },
   "outputs": [],
   "source": [
    "#hide\n",
    "import pandas as pd\n",
    "import matplotlib.pyplot as plt\n",
    "import matplotlib.ticker as ticker\n",
    "import matplotlib.animation as animation\n",
    "from IPython.display import HTML"
   ]
  },
  {
   "cell_type": "code",
   "execution_count": 21,
   "id": "lasting-extraction",
   "metadata": {
    "execution": {
     "iopub.execute_input": "2022-01-28T12:12:17.298776Z",
     "iopub.status.busy": "2022-01-28T12:12:17.298122Z",
     "iopub.status.idle": "2022-01-28T12:12:17.304310Z",
     "shell.execute_reply": "2022-01-28T12:12:17.304972Z"
    },
    "papermill": {
     "duration": 0.053,
     "end_time": "2022-01-28T12:12:17.305121",
     "exception": false,
     "start_time": "2022-01-28T12:12:17.252121",
     "status": "completed"
    },
    "tags": []
   },
   "outputs": [],
   "source": [
    "#hide\n",
    "t = everydaycases.stack()"
   ]
  },
  {
   "cell_type": "code",
   "execution_count": 22,
   "id": "premier-sleeve",
   "metadata": {
    "execution": {
     "iopub.execute_input": "2022-01-28T12:12:17.386627Z",
     "iopub.status.busy": "2022-01-28T12:12:17.385893Z",
     "iopub.status.idle": "2022-01-28T12:12:17.396749Z",
     "shell.execute_reply": "2022-01-28T12:12:17.397389Z"
    },
    "papermill": {
     "duration": 0.05377,
     "end_time": "2022-01-28T12:12:17.397538",
     "exception": false,
     "start_time": "2022-01-28T12:12:17.343768",
     "status": "completed"
    },
    "tags": []
   },
   "outputs": [],
   "source": [
    "#hide\n",
    "g = t.reset_index(['Country/Region'])"
   ]
  },
  {
   "cell_type": "code",
   "execution_count": 23,
   "id": "distributed-pittsburgh",
   "metadata": {
    "execution": {
     "iopub.execute_input": "2022-01-28T12:12:17.481833Z",
     "iopub.status.busy": "2022-01-28T12:12:17.481162Z",
     "iopub.status.idle": "2022-01-28T12:12:17.483727Z",
     "shell.execute_reply": "2022-01-28T12:12:17.483171Z"
    },
    "papermill": {
     "duration": 0.047118,
     "end_time": "2022-01-28T12:12:17.483860",
     "exception": false,
     "start_time": "2022-01-28T12:12:17.436742",
     "status": "completed"
    },
    "tags": []
   },
   "outputs": [],
   "source": [
    "#hide\n",
    "g.index.name = 'date'"
   ]
  },
  {
   "cell_type": "code",
   "execution_count": 24,
   "id": "naked-donor",
   "metadata": {
    "execution": {
     "iopub.execute_input": "2022-01-28T12:12:17.565566Z",
     "iopub.status.busy": "2022-01-28T12:12:17.564765Z",
     "iopub.status.idle": "2022-01-28T12:12:17.569080Z",
     "shell.execute_reply": "2022-01-28T12:12:17.568524Z"
    },
    "papermill": {
     "duration": 0.045431,
     "end_time": "2022-01-28T12:12:17.569210",
     "exception": false,
     "start_time": "2022-01-28T12:12:17.523779",
     "status": "completed"
    },
    "tags": []
   },
   "outputs": [],
   "source": [
    "# #hide\n",
    "# g = g.reset_index(['date'])"
   ]
  },
  {
   "cell_type": "code",
   "execution_count": 25,
   "id": "incomplete-mustang",
   "metadata": {
    "execution": {
     "iopub.execute_input": "2022-01-28T12:12:17.651521Z",
     "iopub.status.busy": "2022-01-28T12:12:17.650858Z",
     "iopub.status.idle": "2022-01-28T12:12:17.652894Z",
     "shell.execute_reply": "2022-01-28T12:12:17.653654Z"
    },
    "papermill": {
     "duration": 0.045958,
     "end_time": "2022-01-28T12:12:17.653819",
     "exception": false,
     "start_time": "2022-01-28T12:12:17.607861",
     "status": "completed"
    },
    "tags": []
   },
   "outputs": [],
   "source": [
    "#hide\n",
    "# g.head()"
   ]
  },
  {
   "cell_type": "code",
   "execution_count": 26,
   "id": "specific-kruger",
   "metadata": {
    "execution": {
     "iopub.execute_input": "2022-01-28T12:12:17.741878Z",
     "iopub.status.busy": "2022-01-28T12:12:17.741163Z",
     "iopub.status.idle": "2022-01-28T12:12:17.743819Z",
     "shell.execute_reply": "2022-01-28T12:12:17.743248Z"
    },
    "papermill": {
     "duration": 0.046406,
     "end_time": "2022-01-28T12:12:17.743958",
     "exception": false,
     "start_time": "2022-01-28T12:12:17.697552",
     "status": "completed"
    },
    "tags": []
   },
   "outputs": [],
   "source": [
    "#hide\n",
    "# g.columns = ['date','country','cases']"
   ]
  },
  {
   "cell_type": "code",
   "execution_count": 27,
   "id": "tender-conversion",
   "metadata": {
    "execution": {
     "iopub.execute_input": "2022-01-28T12:12:17.833272Z",
     "iopub.status.busy": "2022-01-28T12:12:17.832606Z",
     "iopub.status.idle": "2022-01-28T12:12:17.834977Z",
     "shell.execute_reply": "2022-01-28T12:12:17.835515Z"
    },
    "papermill": {
     "duration": 0.051055,
     "end_time": "2022-01-28T12:12:17.835672",
     "exception": false,
     "start_time": "2022-01-28T12:12:17.784617",
     "status": "completed"
    },
    "tags": []
   },
   "outputs": [],
   "source": [
    "#hide\n",
    "# g['continent'] = g.country"
   ]
  },
  {
   "cell_type": "code",
   "execution_count": 28,
   "id": "substantial-wilderness",
   "metadata": {
    "execution": {
     "iopub.execute_input": "2022-01-28T12:12:17.917991Z",
     "iopub.status.busy": "2022-01-28T12:12:17.917282Z",
     "iopub.status.idle": "2022-01-28T12:12:17.919363Z",
     "shell.execute_reply": "2022-01-28T12:12:17.919907Z"
    },
    "papermill": {
     "duration": 0.045087,
     "end_time": "2022-01-28T12:12:17.920066",
     "exception": false,
     "start_time": "2022-01-28T12:12:17.874979",
     "status": "completed"
    },
    "tags": []
   },
   "outputs": [],
   "source": [
    "#hide\n",
    "# cols = list(g.columns.values)"
   ]
  },
  {
   "cell_type": "code",
   "execution_count": 29,
   "id": "solved-farming",
   "metadata": {
    "execution": {
     "iopub.execute_input": "2022-01-28T12:12:18.006187Z",
     "iopub.status.busy": "2022-01-28T12:12:18.005521Z",
     "iopub.status.idle": "2022-01-28T12:12:18.008237Z",
     "shell.execute_reply": "2022-01-28T12:12:18.007701Z"
    },
    "papermill": {
     "duration": 0.044811,
     "end_time": "2022-01-28T12:12:18.008370",
     "exception": false,
     "start_time": "2022-01-28T12:12:17.963559",
     "status": "completed"
    },
    "tags": []
   },
   "outputs": [],
   "source": [
    "#hide\n",
    "# cols.insert(0, cols.pop())"
   ]
  },
  {
   "cell_type": "code",
   "execution_count": 30,
   "id": "executed-adoption",
   "metadata": {
    "execution": {
     "iopub.execute_input": "2022-01-28T12:12:18.090876Z",
     "iopub.status.busy": "2022-01-28T12:12:18.090203Z",
     "iopub.status.idle": "2022-01-28T12:12:18.092767Z",
     "shell.execute_reply": "2022-01-28T12:12:18.092206Z"
    },
    "papermill": {
     "duration": 0.046141,
     "end_time": "2022-01-28T12:12:18.092904",
     "exception": false,
     "start_time": "2022-01-28T12:12:18.046763",
     "status": "completed"
    },
    "tags": []
   },
   "outputs": [],
   "source": [
    "#hide\n",
    "# g = g[cols]"
   ]
  },
  {
   "cell_type": "code",
   "execution_count": 31,
   "id": "subject-dublin",
   "metadata": {
    "execution": {
     "iopub.execute_input": "2022-01-28T12:12:18.173771Z",
     "iopub.status.busy": "2022-01-28T12:12:18.173123Z",
     "iopub.status.idle": "2022-01-28T12:12:18.175314Z",
     "shell.execute_reply": "2022-01-28T12:12:18.175875Z"
    },
    "papermill": {
     "duration": 0.043653,
     "end_time": "2022-01-28T12:12:18.176013",
     "exception": false,
     "start_time": "2022-01-28T12:12:18.132360",
     "status": "completed"
    },
    "tags": []
   },
   "outputs": [],
   "source": [
    "#hide\n",
    "# g['continent'] = g['continent'].map(mapping['map.continent'])"
   ]
  },
  {
   "cell_type": "code",
   "execution_count": 32,
   "id": "freelance-scout",
   "metadata": {
    "execution": {
     "iopub.execute_input": "2022-01-28T12:12:18.255065Z",
     "iopub.status.busy": "2022-01-28T12:12:18.254414Z",
     "iopub.status.idle": "2022-01-28T12:12:18.257586Z",
     "shell.execute_reply": "2022-01-28T12:12:18.256525Z"
    },
    "papermill": {
     "duration": 0.044187,
     "end_time": "2022-01-28T12:12:18.257715",
     "exception": false,
     "start_time": "2022-01-28T12:12:18.213528",
     "status": "completed"
    },
    "tags": []
   },
   "outputs": [],
   "source": [
    "#hide\n",
    "# g.head()"
   ]
  },
  {
   "cell_type": "code",
   "execution_count": 33,
   "id": "limited-engine",
   "metadata": {
    "execution": {
     "iopub.execute_input": "2022-01-28T12:12:18.337688Z",
     "iopub.status.busy": "2022-01-28T12:12:18.336930Z",
     "iopub.status.idle": "2022-01-28T12:12:18.339784Z",
     "shell.execute_reply": "2022-01-28T12:12:18.339234Z"
    },
    "papermill": {
     "duration": 0.043631,
     "end_time": "2022-01-28T12:12:18.339908",
     "exception": false,
     "start_time": "2022-01-28T12:12:18.296277",
     "status": "completed"
    },
    "tags": []
   },
   "outputs": [],
   "source": [
    "# hide\n",
    "# g['date'] = g['date'].astype('datetime64[ns]')"
   ]
  },
  {
   "cell_type": "code",
   "execution_count": 34,
   "id": "sophisticated-supervisor",
   "metadata": {
    "execution": {
     "iopub.execute_input": "2022-01-28T12:12:18.420250Z",
     "iopub.status.busy": "2022-01-28T12:12:18.419601Z",
     "iopub.status.idle": "2022-01-28T12:12:18.423892Z",
     "shell.execute_reply": "2022-01-28T12:12:18.423338Z"
    },
    "papermill": {
     "duration": 0.045198,
     "end_time": "2022-01-28T12:12:18.424013",
     "exception": false,
     "start_time": "2022-01-28T12:12:18.378815",
     "status": "completed"
    },
    "tags": []
   },
   "outputs": [],
   "source": [
    "#hide\n",
    "# g['date'] = g.date.dt.dayofyear"
   ]
  },
  {
   "cell_type": "code",
   "execution_count": 35,
   "id": "inside-dubai",
   "metadata": {
    "execution": {
     "iopub.execute_input": "2022-01-28T12:12:18.502981Z",
     "iopub.status.busy": "2022-01-28T12:12:18.502331Z",
     "iopub.status.idle": "2022-01-28T12:12:18.505136Z",
     "shell.execute_reply": "2022-01-28T12:12:18.504581Z"
    },
    "papermill": {
     "duration": 0.04362,
     "end_time": "2022-01-28T12:12:18.505261",
     "exception": false,
     "start_time": "2022-01-28T12:12:18.461641",
     "status": "completed"
    },
    "tags": []
   },
   "outputs": [],
   "source": [
    "#hide\n",
    "# g = g.rename(columns= {'continent':'group','country':'name','cases':'value'})"
   ]
  },
  {
   "cell_type": "code",
   "execution_count": 36,
   "id": "fleet-motorcycle",
   "metadata": {
    "execution": {
     "iopub.execute_input": "2022-01-28T12:12:18.583883Z",
     "iopub.status.busy": "2022-01-28T12:12:18.583233Z",
     "iopub.status.idle": "2022-01-28T12:12:18.587474Z",
     "shell.execute_reply": "2022-01-28T12:12:18.586921Z"
    },
    "papermill": {
     "duration": 0.044514,
     "end_time": "2022-01-28T12:12:18.587596",
     "exception": false,
     "start_time": "2022-01-28T12:12:18.543082",
     "status": "completed"
    },
    "tags": []
   },
   "outputs": [],
   "source": [
    "#hide\n",
    "# cols = ['name','group','day','value']"
   ]
  },
  {
   "cell_type": "code",
   "execution_count": 37,
   "id": "continued-sleeping",
   "metadata": {
    "execution": {
     "iopub.execute_input": "2022-01-28T12:12:18.668161Z",
     "iopub.status.busy": "2022-01-28T12:12:18.667498Z",
     "iopub.status.idle": "2022-01-28T12:12:18.670292Z",
     "shell.execute_reply": "2022-01-28T12:12:18.669583Z"
    },
    "papermill": {
     "duration": 0.044452,
     "end_time": "2022-01-28T12:12:18.670419",
     "exception": false,
     "start_time": "2022-01-28T12:12:18.625967",
     "status": "completed"
    },
    "tags": []
   },
   "outputs": [],
   "source": [
    "#hide\n",
    "# g.rename(columns= {'date':'day'},inplace = True)"
   ]
  },
  {
   "cell_type": "code",
   "execution_count": 38,
   "id": "major-fight",
   "metadata": {
    "execution": {
     "iopub.execute_input": "2022-01-28T12:12:18.750437Z",
     "iopub.status.busy": "2022-01-28T12:12:18.749704Z",
     "iopub.status.idle": "2022-01-28T12:12:18.753635Z",
     "shell.execute_reply": "2022-01-28T12:12:18.754144Z"
    },
    "papermill": {
     "duration": 0.045672,
     "end_time": "2022-01-28T12:12:18.754293",
     "exception": false,
     "start_time": "2022-01-28T12:12:18.708621",
     "status": "completed"
    },
    "tags": []
   },
   "outputs": [],
   "source": [
    "#hide\n",
    "# g = g[cols]"
   ]
  },
  {
   "cell_type": "code",
   "execution_count": 39,
   "id": "structured-mobile",
   "metadata": {
    "execution": {
     "iopub.execute_input": "2022-01-28T12:12:18.836840Z",
     "iopub.status.busy": "2022-01-28T12:12:18.836142Z",
     "iopub.status.idle": "2022-01-28T12:12:18.838870Z",
     "shell.execute_reply": "2022-01-28T12:12:18.838317Z"
    },
    "papermill": {
     "duration": 0.044112,
     "end_time": "2022-01-28T12:12:18.838997",
     "exception": false,
     "start_time": "2022-01-28T12:12:18.794885",
     "status": "completed"
    },
    "tags": []
   },
   "outputs": [],
   "source": [
    "# #hide\n",
    "# g = g[g.group.notna()]"
   ]
  },
  {
   "cell_type": "code",
   "execution_count": 40,
   "id": "determined-closing",
   "metadata": {
    "execution": {
     "iopub.execute_input": "2022-01-28T12:12:18.920076Z",
     "iopub.status.busy": "2022-01-28T12:12:18.919407Z",
     "iopub.status.idle": "2022-01-28T12:12:18.923529Z",
     "shell.execute_reply": "2022-01-28T12:12:18.924041Z"
    },
    "papermill": {
     "duration": 0.04596,
     "end_time": "2022-01-28T12:12:18.924188",
     "exception": false,
     "start_time": "2022-01-28T12:12:18.878228",
     "status": "completed"
    },
    "tags": []
   },
   "outputs": [],
   "source": [
    "# #hide\n",
    "# colors = dict(zip(\n",
    "#     [\"Oceania\", \"Europe\", \"Asia\", \"South America\", \"Middle East\", \"North America\", \"Africa\"],\n",
    "#     [\"#adb0ff\", \"#ffb3ff\", \"#90d595\", \"#e48381\", \"#aafbff\", \"#f7bb5f\", \"#eafb50\"]\n",
    "# ))\n",
    "# group_lk = g.set_index('name')['group'].to_dict()"
   ]
  },
  {
   "cell_type": "code",
   "execution_count": null,
   "id": "gross-drinking",
   "metadata": {
    "papermill": {
     "duration": 0.03881,
     "end_time": "2022-01-28T12:12:19.002006",
     "exception": false,
     "start_time": "2022-01-28T12:12:18.963196",
     "status": "completed"
    },
    "tags": []
   },
   "outputs": [],
   "source": []
  },
  {
   "cell_type": "code",
   "execution_count": 41,
   "id": "subject-macintosh",
   "metadata": {
    "execution": {
     "iopub.execute_input": "2022-01-28T12:12:19.089223Z",
     "iopub.status.busy": "2022-01-28T12:12:19.088538Z",
     "iopub.status.idle": "2022-01-28T12:12:19.091128Z",
     "shell.execute_reply": "2022-01-28T12:12:19.091641Z"
    },
    "papermill": {
     "duration": 0.050964,
     "end_time": "2022-01-28T12:12:19.091787",
     "exception": false,
     "start_time": "2022-01-28T12:12:19.040823",
     "status": "completed"
    },
    "tags": []
   },
   "outputs": [],
   "source": [
    "# #hide\n",
    "# fig, ax = plt.subplots(figsize=(15, 8))\n",
    "\n",
    "# def draw_barchart(current_day):\n",
    "#     dff = g[g['day'].eq(current_day)].sort_values(by='value', ascending=True).tail(10)\n",
    "#     ax.clear()\n",
    "#     ax.barh(dff['name'], dff['value'], color=[colors[group_lk[x]] for x in dff['name']])\n",
    "#     dx = dff['value'].max() / 200\n",
    "    \n",
    "#     for i, (value, name) in enumerate(zip(dff['value'], dff['name'])):\n",
    "#         ax.text(value-dx, i,     name,           size=14, weight=600, ha='right', va='bottom')\n",
    "#         ax.text(value-dx, i-.25, group_lk[name], size=10, color='#444444', ha='right', va='baseline')\n",
    "#         ax.text(value+dx, i,     f'{value:,.0f}',  size=14, ha='left',  va='center')\n",
    "#     ax.text(1, 0.4, current_day, transform=ax.transAxes, color='#777777', size=46, ha='right', weight=800)\n",
    "#     ax.text(0, 1.06, 'Population (thousands)', transform=ax.transAxes, size=12, color='#777777')\n",
    "#     ax.xaxis.set_major_formatter(ticker.StrMethodFormatter('{x:,.0f}'))\n",
    "#     ax.xaxis.set_ticks_position('top')\n",
    "#     ax.tick_params(axis='x', colors='#777777', labelsize=12)\n",
    "#     ax.set_yticks([])\n",
    "#     ax.margins(0, 0.01)\n",
    "#     ax.grid(which='major', axis='x', linestyle='-')\n",
    "#     ax.set_axisbelow(True)\n",
    "    \n",
    "#     ax.text(0, 1.15, 'Coronavirus',\n",
    "#             transform=ax.transAxes, size=24, weight=600, ha='left', va='top')\n",
    "# #     ax.text(1, 0, 'by @pratapvardhan; credit @jburnmurdoch', transform=ax.transAxes, color='#777777', ha='right',\n",
    "# #             bbox=dict(facecolor='white', alpha=0.8, edgecolor='white'))\n",
    "#     plt.box(False)"
   ]
  },
  {
   "cell_type": "code",
   "execution_count": 42,
   "id": "sexual-wages",
   "metadata": {
    "execution": {
     "iopub.execute_input": "2022-01-28T12:12:19.174421Z",
     "iopub.status.busy": "2022-01-28T12:12:19.173698Z",
     "iopub.status.idle": "2022-01-28T12:12:19.175990Z",
     "shell.execute_reply": "2022-01-28T12:12:19.175345Z"
    },
    "papermill": {
     "duration": 0.043532,
     "end_time": "2022-01-28T12:12:19.176113",
     "exception": false,
     "start_time": "2022-01-28T12:12:19.132581",
     "status": "completed"
    },
    "tags": []
   },
   "outputs": [],
   "source": [
    "# #hide_input\n",
    "# fig, ax = plt.subplots(figsize=(15, 8))\n",
    "# animator = animation.FuncAnimation(fig, draw_barchart, frames=range(g.day.values.min(), g.day.values.max()))\n",
    "# HTML(animator.to_jshtml())\n",
    "# # or use animator.to_html5_video() or animator.save() "
   ]
  },
  {
   "cell_type": "code",
   "execution_count": null,
   "id": "australian-container",
   "metadata": {
    "papermill": {
     "duration": 0.038312,
     "end_time": "2022-01-28T12:12:19.252772",
     "exception": false,
     "start_time": "2022-01-28T12:12:19.214460",
     "status": "completed"
    },
    "tags": []
   },
   "outputs": [],
   "source": []
  },
  {
   "cell_type": "code",
   "execution_count": null,
   "id": "mediterranean-pontiac",
   "metadata": {
    "papermill": {
     "duration": 0.038723,
     "end_time": "2022-01-28T12:12:19.330918",
     "exception": false,
     "start_time": "2022-01-28T12:12:19.292195",
     "status": "completed"
    },
    "tags": []
   },
   "outputs": [],
   "source": []
  },
  {
   "cell_type": "code",
   "execution_count": null,
   "id": "aging-legislature",
   "metadata": {
    "papermill": {
     "duration": 0.038296,
     "end_time": "2022-01-28T12:12:19.408447",
     "exception": false,
     "start_time": "2022-01-28T12:12:19.370151",
     "status": "completed"
    },
    "tags": []
   },
   "outputs": [],
   "source": []
  }
 ],
 "metadata": {
  "kernelspec": {
   "display_name": "Python 3",
   "language": "python",
   "name": "python3"
  },
  "language_info": {
   "codemirror_mode": {
    "name": "ipython",
    "version": 3
   },
   "file_extension": ".py",
   "mimetype": "text/x-python",
   "name": "python",
   "nbconvert_exporter": "python",
   "pygments_lexer": "ipython3",
   "version": "3.6.15"
  },
  "papermill": {
   "duration": 7.370542,
   "end_time": "2022-01-28T12:12:19.865966",
   "environment_variables": {},
   "exception": null,
   "input_path": "2020-03-21-covid19exp.ipynb",
   "output_path": "2020-03-21-covid19exp.ipynb",
   "parameters": {},
   "start_time": "2022-01-28T12:12:12.495424",
   "version": "2.0.0"
  }
 },
 "nbformat": 4,
 "nbformat_minor": 5
}