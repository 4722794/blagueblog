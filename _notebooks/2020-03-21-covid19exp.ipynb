{
 "cells": [
  {
   "cell_type": "markdown",
   "id": "muslim-click",
   "metadata": {
    "papermill": {
     "duration": 0.037145,
     "end_time": "2022-08-20T00:42:21.152906",
     "exception": false,
     "start_time": "2022-08-20T00:42:21.115761",
     "status": "completed"
    },
    "tags": []
   },
   "source": [
    "# COVID-19 Case Race\n",
    "> A race chart to see rising cases around the world\n",
    "\n",
    "- author: Hargun Oberoi\n",
    "- image: images/covid-overview.png\n",
    "- hide: false\n",
    "- badges: false"
   ]
  },
  {
   "cell_type": "code",
   "execution_count": 1,
   "id": "proof-material",
   "metadata": {
    "execution": {
     "iopub.execute_input": "2022-08-20T00:42:21.224192Z",
     "iopub.status.busy": "2022-08-20T00:42:21.223519Z",
     "iopub.status.idle": "2022-08-20T00:42:21.568325Z",
     "shell.execute_reply": "2022-08-20T00:42:21.567593Z"
    },
    "papermill": {
     "duration": 0.384896,
     "end_time": "2022-08-20T00:42:21.568464",
     "exception": false,
     "start_time": "2022-08-20T00:42:21.183568",
     "status": "completed"
    },
    "tags": []
   },
   "outputs": [],
   "source": [
    "#hide\n",
    "import numpy as np\n",
    "import pandas as pd\n",
    "from jinja2 import Template\n",
    "from IPython.display import HTML"
   ]
  },
  {
   "cell_type": "code",
   "execution_count": 2,
   "id": "developed-terminology",
   "metadata": {
    "execution": {
     "iopub.execute_input": "2022-08-20T00:42:21.634165Z",
     "iopub.status.busy": "2022-08-20T00:42:21.633375Z",
     "iopub.status.idle": "2022-08-20T00:42:21.635226Z",
     "shell.execute_reply": "2022-08-20T00:42:21.635794Z"
    },
    "papermill": {
     "duration": 0.037478,
     "end_time": "2022-08-20T00:42:21.635945",
     "exception": false,
     "start_time": "2022-08-20T00:42:21.598467",
     "status": "completed"
    },
    "tags": []
   },
   "outputs": [],
   "source": [
    "#hide\n",
    "\n",
    "# FETCH\n",
    "base_url = 'https://raw.githubusercontent.com/pratapvardhan/notebooks/master/covid19/'\n",
    "paths = {\n",
    "    'mapping': base_url + 'mapping_countries.csv',\n",
    "    'overview': base_url + 'overview.tpl'\n",
    "}"
   ]
  },
  {
   "cell_type": "code",
   "execution_count": 3,
   "id": "dynamic-saver",
   "metadata": {
    "execution": {
     "iopub.execute_input": "2022-08-20T00:42:21.704604Z",
     "iopub.status.busy": "2022-08-20T00:42:21.697533Z",
     "iopub.status.idle": "2022-08-20T00:42:21.707584Z",
     "shell.execute_reply": "2022-08-20T00:42:21.708088Z"
    },
    "papermill": {
     "duration": 0.042805,
     "end_time": "2022-08-20T00:42:21.708215",
     "exception": false,
     "start_time": "2022-08-20T00:42:21.665410",
     "status": "completed"
    },
    "tags": []
   },
   "outputs": [
    {
     "data": {
      "text/plain": [
       "'https://raw.githubusercontent.com/pratapvardhan/notebooks/master/covid19/mapping_countries.csv'"
      ]
     },
     "execution_count": 3,
     "metadata": {},
     "output_type": "execute_result"
    }
   ],
   "source": [
    "#hide\n",
    "paths['mapping']"
   ]
  },
  {
   "cell_type": "code",
   "execution_count": 4,
   "id": "urban-software",
   "metadata": {
    "execution": {
     "iopub.execute_input": "2022-08-20T00:42:21.773407Z",
     "iopub.status.busy": "2022-08-20T00:42:21.772823Z",
     "iopub.status.idle": "2022-08-20T00:42:21.775240Z",
     "shell.execute_reply": "2022-08-20T00:42:21.775852Z"
    },
    "papermill": {
     "duration": 0.038097,
     "end_time": "2022-08-20T00:42:21.775981",
     "exception": false,
     "start_time": "2022-08-20T00:42:21.737884",
     "status": "completed"
    },
    "tags": []
   },
   "outputs": [],
   "source": [
    "#hide\n",
    "def get_mappings(url):\n",
    "    df = pd.read_csv(url)\n",
    "    return {\n",
    "        'df': df,\n",
    "        'replace.country': dict(df.dropna(subset=['Name']).set_index('Country')['Name']),\n",
    "        'map.continent': dict(df.set_index('Name')['Continent'])\n",
    "    }"
   ]
  },
  {
   "cell_type": "code",
   "execution_count": 5,
   "id": "intimate-machinery",
   "metadata": {
    "execution": {
     "iopub.execute_input": "2022-08-20T00:42:21.841718Z",
     "iopub.status.busy": "2022-08-20T00:42:21.841074Z",
     "iopub.status.idle": "2022-08-20T00:42:21.881842Z",
     "shell.execute_reply": "2022-08-20T00:42:21.881236Z"
    },
    "papermill": {
     "duration": 0.076318,
     "end_time": "2022-08-20T00:42:21.881979",
     "exception": false,
     "start_time": "2022-08-20T00:42:21.805661",
     "status": "completed"
    },
    "tags": []
   },
   "outputs": [],
   "source": [
    "#hide\n",
    "mapping = get_mappings(paths['mapping'])"
   ]
  },
  {
   "cell_type": "code",
   "execution_count": 6,
   "id": "certified-tactics",
   "metadata": {
    "execution": {
     "iopub.execute_input": "2022-08-20T00:42:21.949513Z",
     "iopub.status.busy": "2022-08-20T00:42:21.948812Z",
     "iopub.status.idle": "2022-08-20T00:42:21.951517Z",
     "shell.execute_reply": "2022-08-20T00:42:21.951005Z"
    },
    "papermill": {
     "duration": 0.038692,
     "end_time": "2022-08-20T00:42:21.951631",
     "exception": false,
     "start_time": "2022-08-20T00:42:21.912939",
     "status": "completed"
    },
    "tags": []
   },
   "outputs": [],
   "source": [
    "#hide\n",
    "def get_template(path):\n",
    "    from urllib.parse import urlparse\n",
    "    if bool(urlparse(path).netloc):\n",
    "        from urllib.request import urlopen\n",
    "        return urlopen(path).read().decode('utf8')\n",
    "    return open(path).read()"
   ]
  },
  {
   "cell_type": "code",
   "execution_count": 7,
   "id": "realistic-blast",
   "metadata": {
    "execution": {
     "iopub.execute_input": "2022-08-20T00:42:22.016244Z",
     "iopub.status.busy": "2022-08-20T00:42:22.015567Z",
     "iopub.status.idle": "2022-08-20T00:42:22.018257Z",
     "shell.execute_reply": "2022-08-20T00:42:22.017667Z"
    },
    "papermill": {
     "duration": 0.037226,
     "end_time": "2022-08-20T00:42:22.018379",
     "exception": false,
     "start_time": "2022-08-20T00:42:21.981153",
     "status": "completed"
    },
    "tags": []
   },
   "outputs": [],
   "source": [
    "#hide\n",
    "def get_frame(name):\n",
    "    url = (\n",
    "        'https://raw.githubusercontent.com/CSSEGISandData/COVID-19/master/csse_covid_19_data/'\n",
    "        f'csse_covid_19_time_series/time_series_covid19_{name}_global.csv')\n",
    "    df = pd.read_csv(url)\n",
    "    # rename countries\n",
    "    df['Country/Region'] = df['Country/Region'].replace(mapping['replace.country'])\n",
    "    return df"
   ]
  },
  {
   "cell_type": "code",
   "execution_count": 8,
   "id": "affiliated-characterization",
   "metadata": {
    "execution": {
     "iopub.execute_input": "2022-08-20T00:42:22.084185Z",
     "iopub.status.busy": "2022-08-20T00:42:22.083572Z",
     "iopub.status.idle": "2022-08-20T00:42:22.086182Z",
     "shell.execute_reply": "2022-08-20T00:42:22.085647Z"
    },
    "papermill": {
     "duration": 0.038099,
     "end_time": "2022-08-20T00:42:22.086294",
     "exception": false,
     "start_time": "2022-08-20T00:42:22.048195",
     "status": "completed"
    },
    "tags": []
   },
   "outputs": [],
   "source": [
    "#hide\n",
    "def get_dates(df):\n",
    "    dt_cols = df.columns[~df.columns.isin(['Province/State', 'Country/Region', 'Lat', 'Long'])]\n",
    "    LAST_DATE_I = -1\n",
    "    # sometimes last column may be empty, then go backwards\n",
    "    for i in range(-1, -len(dt_cols), -1):\n",
    "        if not df[dt_cols[i]].fillna(0).eq(0).all():\n",
    "            LAST_DATE_I = i\n",
    "            break\n",
    "    return LAST_DATE_I, dt_cols"
   ]
  },
  {
   "cell_type": "code",
   "execution_count": 9,
   "id": "recent-optimization",
   "metadata": {
    "execution": {
     "iopub.execute_input": "2022-08-20T00:42:22.150338Z",
     "iopub.status.busy": "2022-08-20T00:42:22.149729Z",
     "iopub.status.idle": "2022-08-20T00:42:22.631213Z",
     "shell.execute_reply": "2022-08-20T00:42:22.630624Z"
    },
    "papermill": {
     "duration": 0.515621,
     "end_time": "2022-08-20T00:42:22.631355",
     "exception": false,
     "start_time": "2022-08-20T00:42:22.115734",
     "status": "completed"
    },
    "tags": []
   },
   "outputs": [],
   "source": [
    "#hide\n",
    "COL_REGION = 'Country/Region'\n",
    "# Confirmed, Recovered, Deaths\n",
    "df = get_frame('confirmed')\n",
    "# dft_: timeseries, dfc_: today country agg\n",
    "dft_cases = df\n",
    "dft_deaths = get_frame('deaths')\n",
    "dft_recovered = get_frame('recovered')\n",
    "LAST_DATE_I, dt_cols = get_dates(df)"
   ]
  },
  {
   "cell_type": "code",
   "execution_count": 10,
   "id": "absolute-copper",
   "metadata": {
    "execution": {
     "iopub.execute_input": "2022-08-20T00:42:22.697072Z",
     "iopub.status.busy": "2022-08-20T00:42:22.696375Z",
     "iopub.status.idle": "2022-08-20T00:42:22.698132Z",
     "shell.execute_reply": "2022-08-20T00:42:22.698667Z"
    },
    "papermill": {
     "duration": 0.037592,
     "end_time": "2022-08-20T00:42:22.698812",
     "exception": false,
     "start_time": "2022-08-20T00:42:22.661220",
     "status": "completed"
    },
    "tags": []
   },
   "outputs": [],
   "source": [
    "#hide\n",
    "LAST_DATE_I, dt_cols = get_dates(df)\n",
    "dt_today =dt_cols[LAST_DATE_I]\n",
    "# dt_5day = dt_cols[LAST_DATE_I - 5]\n",
    "dt_yday = dt_cols[LAST_DATE_I - 1]"
   ]
  },
  {
   "cell_type": "code",
   "execution_count": 11,
   "id": "restricted-sheriff",
   "metadata": {
    "execution": {
     "iopub.execute_input": "2022-08-20T00:42:22.764401Z",
     "iopub.status.busy": "2022-08-20T00:42:22.763778Z",
     "iopub.status.idle": "2022-08-20T00:42:22.771590Z",
     "shell.execute_reply": "2022-08-20T00:42:22.772035Z"
    },
    "papermill": {
     "duration": 0.04368,
     "end_time": "2022-08-20T00:42:22.772172",
     "exception": false,
     "start_time": "2022-08-20T00:42:22.728492",
     "status": "completed"
    },
    "tags": []
   },
   "outputs": [],
   "source": [
    "#hide\n",
    "dfc_cases = dft_cases.groupby(COL_REGION)[dt_today].sum()\n",
    "dfc_deaths = dft_deaths.groupby(COL_REGION)[dt_today].sum()\n",
    "# dfp_cases = dft_cases.groupby(COL_REGION)[dt_5day].sum()\n",
    "# dfp_deaths = dft_deaths.groupby(COL_REGION)[dt_5day].sum()\n",
    "dfp_cases = dft_cases.groupby(COL_REGION)[dt_yday].sum()\n",
    "dfp_deaths = dft_deaths.groupby(COL_REGION)[dt_yday].sum()"
   ]
  },
  {
   "cell_type": "code",
   "execution_count": 12,
   "id": "deluxe-hepatitis",
   "metadata": {
    "execution": {
     "iopub.execute_input": "2022-08-20T00:42:22.837636Z",
     "iopub.status.busy": "2022-08-20T00:42:22.837057Z",
     "iopub.status.idle": "2022-08-20T00:42:22.842521Z",
     "shell.execute_reply": "2022-08-20T00:42:22.843058Z"
    },
    "papermill": {
     "duration": 0.041501,
     "end_time": "2022-08-20T00:42:22.843226",
     "exception": false,
     "start_time": "2022-08-20T00:42:22.801725",
     "status": "completed"
    },
    "tags": []
   },
   "outputs": [],
   "source": [
    "#hide\n",
    "df_table = (pd.DataFrame(dict(Cases = dfc_cases, Deaths = dfc_deaths, PCases = dfp_cases, PDeaths = dfp_deaths))\n",
    "            .sort_values(by = ['Cases','Deaths'], ascending = [False, False])\n",
    "            .reset_index())"
   ]
  },
  {
   "cell_type": "code",
   "execution_count": 13,
   "id": "educational-chancellor",
   "metadata": {
    "execution": {
     "iopub.execute_input": "2022-08-20T00:42:22.920615Z",
     "iopub.status.busy": "2022-08-20T00:42:22.920024Z",
     "iopub.status.idle": "2022-08-20T00:42:22.928211Z",
     "shell.execute_reply": "2022-08-20T00:42:22.927731Z"
    },
    "papermill": {
     "duration": 0.055802,
     "end_time": "2022-08-20T00:42:22.928330",
     "exception": false,
     "start_time": "2022-08-20T00:42:22.872528",
     "status": "completed"
    },
    "tags": []
   },
   "outputs": [
    {
     "data": {
      "text/html": [
       "<div>\n",
       "<style scoped>\n",
       "    .dataframe tbody tr th:only-of-type {\n",
       "        vertical-align: middle;\n",
       "    }\n",
       "\n",
       "    .dataframe tbody tr th {\n",
       "        vertical-align: top;\n",
       "    }\n",
       "\n",
       "    .dataframe thead th {\n",
       "        text-align: right;\n",
       "    }\n",
       "</style>\n",
       "<table border=\"1\" class=\"dataframe\">\n",
       "  <thead>\n",
       "    <tr style=\"text-align: right;\">\n",
       "      <th></th>\n",
       "      <th>Country/Region</th>\n",
       "      <th>Cases</th>\n",
       "      <th>Deaths</th>\n",
       "      <th>PCases</th>\n",
       "      <th>PDeaths</th>\n",
       "      <th>Cases (+)</th>\n",
       "      <th>Deaths (+)</th>\n",
       "      <th>Fatality Rate</th>\n",
       "      <th>Continent</th>\n",
       "    </tr>\n",
       "  </thead>\n",
       "  <tbody>\n",
       "    <tr>\n",
       "      <th>0</th>\n",
       "      <td>US</td>\n",
       "      <td>93403142</td>\n",
       "      <td>1039746</td>\n",
       "      <td>93277721</td>\n",
       "      <td>1039116</td>\n",
       "      <td>125421</td>\n",
       "      <td>630</td>\n",
       "      <td>1.11</td>\n",
       "      <td>North America</td>\n",
       "    </tr>\n",
       "    <tr>\n",
       "      <th>1</th>\n",
       "      <td>India</td>\n",
       "      <td>44314618</td>\n",
       "      <td>527253</td>\n",
       "      <td>44298864</td>\n",
       "      <td>527206</td>\n",
       "      <td>15754</td>\n",
       "      <td>47</td>\n",
       "      <td>1.19</td>\n",
       "      <td>Asia</td>\n",
       "    </tr>\n",
       "    <tr>\n",
       "      <th>2</th>\n",
       "      <td>France</td>\n",
       "      <td>34514986</td>\n",
       "      <td>154467</td>\n",
       "      <td>34491381</td>\n",
       "      <td>154375</td>\n",
       "      <td>23605</td>\n",
       "      <td>92</td>\n",
       "      <td>0.45</td>\n",
       "      <td>Europe</td>\n",
       "    </tr>\n",
       "    <tr>\n",
       "      <th>3</th>\n",
       "      <td>Brazil</td>\n",
       "      <td>34245374</td>\n",
       "      <td>682216</td>\n",
       "      <td>34223207</td>\n",
       "      <td>682010</td>\n",
       "      <td>22167</td>\n",
       "      <td>206</td>\n",
       "      <td>1.99</td>\n",
       "      <td>South America</td>\n",
       "    </tr>\n",
       "    <tr>\n",
       "      <th>4</th>\n",
       "      <td>Germany</td>\n",
       "      <td>31771884</td>\n",
       "      <td>146383</td>\n",
       "      <td>31725160</td>\n",
       "      <td>146214</td>\n",
       "      <td>46724</td>\n",
       "      <td>169</td>\n",
       "      <td>0.46</td>\n",
       "      <td>Europe</td>\n",
       "    </tr>\n",
       "  </tbody>\n",
       "</table>\n",
       "</div>"
      ],
      "text/plain": [
       "  Country/Region     Cases   Deaths    PCases  PDeaths  Cases (+)  Deaths (+)  \\\n",
       "0             US  93403142  1039746  93277721  1039116     125421         630   \n",
       "1          India  44314618   527253  44298864   527206      15754          47   \n",
       "2         France  34514986   154467  34491381   154375      23605          92   \n",
       "3         Brazil  34245374   682216  34223207   682010      22167         206   \n",
       "4        Germany  31771884   146383  31725160   146214      46724         169   \n",
       "\n",
       "   Fatality Rate      Continent  \n",
       "0           1.11  North America  \n",
       "1           1.19           Asia  \n",
       "2           0.45         Europe  \n",
       "3           1.99  South America  \n",
       "4           0.46         Europe  "
      ]
     },
     "execution_count": 13,
     "metadata": {},
     "output_type": "execute_result"
    }
   ],
   "source": [
    "#hide\n",
    "for c in 'Cases, Deaths'.split(', '):\n",
    "    df_table[f'{c} (+)'] = (df_table[c] - df_table[f'P{c}']).clip(0)\n",
    "    #Clip ça veut dire, les chiffres negatif sont interdit\n",
    "df_table['Fatality Rate'] = (100* df_table['Deaths']/ df_table['Cases']).round(2)\n",
    "df_table['Continent'] = df_table['Country/Region'].map(mapping['map.continent'])\n",
    "df_table.head(5)"
   ]
  },
  {
   "cell_type": "code",
   "execution_count": 14,
   "id": "aboriginal-bulgaria",
   "metadata": {
    "execution": {
     "iopub.execute_input": "2022-08-20T00:42:22.995919Z",
     "iopub.status.busy": "2022-08-20T00:42:22.995297Z",
     "iopub.status.idle": "2022-08-20T00:42:22.997724Z",
     "shell.execute_reply": "2022-08-20T00:42:22.998279Z"
    },
    "papermill": {
     "duration": 0.040043,
     "end_time": "2022-08-20T00:42:22.998421",
     "exception": false,
     "start_time": "2022-08-20T00:42:22.958378",
     "status": "completed"
    },
    "tags": []
   },
   "outputs": [],
   "source": [
    "#hide\n",
    "#delete problematic countries from table\n",
    "df_table = df_table[~df_table['Country/Region'].isin(['Cape Verde', 'Cruise Ship', 'Kosovo'])]"
   ]
  },
  {
   "cell_type": "code",
   "execution_count": 15,
   "id": "fantastic-effect",
   "metadata": {
    "execution": {
     "iopub.execute_input": "2022-08-20T00:42:23.067299Z",
     "iopub.status.busy": "2022-08-20T00:42:23.066666Z",
     "iopub.status.idle": "2022-08-20T00:42:23.084684Z",
     "shell.execute_reply": "2022-08-20T00:42:23.084205Z"
    },
    "papermill": {
     "duration": 0.05645,
     "end_time": "2022-08-20T00:42:23.084801",
     "exception": false,
     "start_time": "2022-08-20T00:42:23.028351",
     "status": "completed"
    },
    "tags": []
   },
   "outputs": [
    {
     "data": {
      "text/html": [
       "<div>\n",
       "<style scoped>\n",
       "    .dataframe tbody tr th:only-of-type {\n",
       "        vertical-align: middle;\n",
       "    }\n",
       "\n",
       "    .dataframe tbody tr th {\n",
       "        vertical-align: top;\n",
       "    }\n",
       "\n",
       "    .dataframe thead th {\n",
       "        text-align: right;\n",
       "    }\n",
       "</style>\n",
       "<table border=\"1\" class=\"dataframe\">\n",
       "  <thead>\n",
       "    <tr style=\"text-align: right;\">\n",
       "      <th></th>\n",
       "      <th>Country/Region</th>\n",
       "      <th>Cases</th>\n",
       "      <th>Deaths</th>\n",
       "      <th>PCases</th>\n",
       "      <th>PDeaths</th>\n",
       "      <th>Cases (+)</th>\n",
       "      <th>Deaths (+)</th>\n",
       "      <th>Fatality Rate</th>\n",
       "      <th>Continent</th>\n",
       "    </tr>\n",
       "  </thead>\n",
       "  <tbody>\n",
       "    <tr>\n",
       "      <th>0</th>\n",
       "      <td>US</td>\n",
       "      <td>93403142</td>\n",
       "      <td>1039746</td>\n",
       "      <td>93277721</td>\n",
       "      <td>1039116</td>\n",
       "      <td>125421</td>\n",
       "      <td>630</td>\n",
       "      <td>1.1</td>\n",
       "      <td>North America</td>\n",
       "    </tr>\n",
       "    <tr>\n",
       "      <th>1</th>\n",
       "      <td>India</td>\n",
       "      <td>44314618</td>\n",
       "      <td>527253</td>\n",
       "      <td>44298864</td>\n",
       "      <td>527206</td>\n",
       "      <td>15754</td>\n",
       "      <td>47</td>\n",
       "      <td>1.2</td>\n",
       "      <td>Asia</td>\n",
       "    </tr>\n",
       "    <tr>\n",
       "      <th>2</th>\n",
       "      <td>France</td>\n",
       "      <td>34514986</td>\n",
       "      <td>154467</td>\n",
       "      <td>34491381</td>\n",
       "      <td>154375</td>\n",
       "      <td>23605</td>\n",
       "      <td>92</td>\n",
       "      <td>0.4</td>\n",
       "      <td>Europe</td>\n",
       "    </tr>\n",
       "    <tr>\n",
       "      <th>3</th>\n",
       "      <td>Brazil</td>\n",
       "      <td>34245374</td>\n",
       "      <td>682216</td>\n",
       "      <td>34223207</td>\n",
       "      <td>682010</td>\n",
       "      <td>22167</td>\n",
       "      <td>206</td>\n",
       "      <td>2.0</td>\n",
       "      <td>South America</td>\n",
       "    </tr>\n",
       "    <tr>\n",
       "      <th>4</th>\n",
       "      <td>Germany</td>\n",
       "      <td>31771884</td>\n",
       "      <td>146383</td>\n",
       "      <td>31725160</td>\n",
       "      <td>146214</td>\n",
       "      <td>46724</td>\n",
       "      <td>169</td>\n",
       "      <td>0.5</td>\n",
       "      <td>Europe</td>\n",
       "    </tr>\n",
       "  </tbody>\n",
       "</table>\n",
       "</div>"
      ],
      "text/plain": [
       "  Country/Region     Cases   Deaths    PCases  PDeaths  Cases (+)  Deaths (+)  \\\n",
       "0             US  93403142  1039746  93277721  1039116     125421         630   \n",
       "1          India  44314618   527253  44298864   527206      15754          47   \n",
       "2         France  34514986   154467  34491381   154375      23605          92   \n",
       "3         Brazil  34245374   682216  34223207   682010      22167         206   \n",
       "4        Germany  31771884   146383  31725160   146214      46724         169   \n",
       "\n",
       "   Fatality Rate      Continent  \n",
       "0            1.1  North America  \n",
       "1            1.2           Asia  \n",
       "2            0.4         Europe  \n",
       "3            2.0  South America  \n",
       "4            0.5         Europe  "
      ]
     },
     "execution_count": 15,
     "metadata": {},
     "output_type": "execute_result"
    }
   ],
   "source": [
    "#hide\n",
    "df_table = (pd.DataFrame(dict(Cases=dfc_cases, Deaths=dfc_deaths, PCases=dfp_cases, PDeaths=dfp_deaths))\n",
    "             .sort_values(by=['Cases', 'Deaths'], ascending=[False, False])\n",
    "             .reset_index())\n",
    "df_table.rename(columns={'index': 'Country/Region'}, inplace=True)\n",
    "for c in 'Cases, Deaths'.split(', '):\n",
    "    df_table[f'{c} (+)'] = (df_table[c] - df_table[f'P{c}']).clip(0)  # DATA BUG\n",
    "df_table['Fatality Rate'] = (100 * df_table['Deaths'] / df_table['Cases']).round(1)\n",
    "df_table['Continent'] = df_table['Country/Region'].map(mapping['map.continent'])\n",
    "df_table.head(5)"
   ]
  },
  {
   "cell_type": "code",
   "execution_count": 16,
   "id": "fewer-occasion",
   "metadata": {
    "execution": {
     "iopub.execute_input": "2022-08-20T00:42:23.152026Z",
     "iopub.status.busy": "2022-08-20T00:42:23.151444Z",
     "iopub.status.idle": "2022-08-20T00:42:23.153872Z",
     "shell.execute_reply": "2022-08-20T00:42:23.154418Z"
    },
    "papermill": {
     "duration": 0.039121,
     "end_time": "2022-08-20T00:42:23.154551",
     "exception": false,
     "start_time": "2022-08-20T00:42:23.115430",
     "status": "completed"
    },
    "tags": []
   },
   "outputs": [],
   "source": [
    "#hide\n",
    "#delete problematic countries from table\n",
    "df_table = df_table[~df_table['Country/Region'].isin(['Cape Verde', 'Cruise Ship', 'Kosovo'])]"
   ]
  },
  {
   "cell_type": "code",
   "execution_count": 17,
   "id": "related-center",
   "metadata": {
    "execution": {
     "iopub.execute_input": "2022-08-20T00:42:23.233530Z",
     "iopub.status.busy": "2022-08-20T00:42:23.232895Z",
     "iopub.status.idle": "2022-08-20T00:42:23.235360Z",
     "shell.execute_reply": "2022-08-20T00:42:23.235841Z"
    },
    "papermill": {
     "duration": 0.051241,
     "end_time": "2022-08-20T00:42:23.235970",
     "exception": false,
     "start_time": "2022-08-20T00:42:23.184729",
     "status": "completed"
    },
    "tags": []
   },
   "outputs": [],
   "source": [
    "#hide\n",
    "metrics = [df_table.columns[index] for index in [1,2,5,6]]\n",
    "# s_china = df_table[df_table['Country/Region'].eq('China')][metrics].sum().add_prefix('China ')\n",
    "s_us = df_table[df_table['Country/Region'].eq('US')][metrics].sum().add_prefix('US ')\n",
    "s_eu = df_table[df_table['Continent'].eq('Europe')][metrics].sum().add_prefix('EU ')\n",
    "s_ind = df_table[df_table['Country/Region'].eq('India')][metrics].sum().add_prefix('India ')\n",
    "summary = {'updated': pd.to_datetime(dt_today), 'since': pd.to_datetime(dt_yday)}\n",
    "summary = {'updated': pd.to_datetime(dt_today), 'since': pd.to_datetime(dt_yday)}\n",
    "summary = {**summary, **df_table[metrics].sum(), **s_ind, **s_us, **s_eu}"
   ]
  },
  {
   "cell_type": "code",
   "execution_count": 18,
   "id": "engaging-syndrome",
   "metadata": {
    "execution": {
     "iopub.execute_input": "2022-08-20T00:42:23.303014Z",
     "iopub.status.busy": "2022-08-20T00:42:23.302430Z",
     "iopub.status.idle": "2022-08-20T00:42:23.322386Z",
     "shell.execute_reply": "2022-08-20T00:42:23.321870Z"
    },
    "papermill": {
     "duration": 0.055728,
     "end_time": "2022-08-20T00:42:23.322504",
     "exception": false,
     "start_time": "2022-08-20T00:42:23.266776",
     "status": "completed"
    },
    "tags": []
   },
   "outputs": [],
   "source": [
    "#hide\n",
    "dft_ct_new_cases = dft_cases.groupby(COL_REGION)[dt_cols].sum().diff(axis=1).fillna(0).astype(int)"
   ]
  },
  {
   "cell_type": "code",
   "execution_count": 19,
   "id": "neutral-assignment",
   "metadata": {
    "execution": {
     "iopub.execute_input": "2022-08-20T00:42:23.391304Z",
     "iopub.status.busy": "2022-08-20T00:42:23.390554Z",
     "iopub.status.idle": "2022-08-20T00:42:23.392360Z",
     "shell.execute_reply": "2022-08-20T00:42:23.392827Z"
    },
    "papermill": {
     "duration": 0.040018,
     "end_time": "2022-08-20T00:42:23.392961",
     "exception": false,
     "start_time": "2022-08-20T00:42:23.352943",
     "status": "completed"
    },
    "tags": []
   },
   "outputs": [],
   "source": [
    "#hide\n",
    "everydaycases = dft_ct_new_cases.cumsum(axis=1)"
   ]
  },
  {
   "cell_type": "code",
   "execution_count": 20,
   "id": "parliamentary-calgary",
   "metadata": {
    "execution": {
     "iopub.execute_input": "2022-08-20T00:42:23.458621Z",
     "iopub.status.busy": "2022-08-20T00:42:23.458039Z",
     "iopub.status.idle": "2022-08-20T00:42:24.032487Z",
     "shell.execute_reply": "2022-08-20T00:42:24.031931Z"
    },
    "papermill": {
     "duration": 0.608985,
     "end_time": "2022-08-20T00:42:24.032616",
     "exception": false,
     "start_time": "2022-08-20T00:42:23.423631",
     "status": "completed"
    },
    "tags": []
   },
   "outputs": [],
   "source": [
    "#hide\n",
    "import pandas as pd\n",
    "import matplotlib.pyplot as plt\n",
    "import matplotlib.ticker as ticker\n",
    "import matplotlib.animation as animation\n",
    "from IPython.display import HTML"
   ]
  },
  {
   "cell_type": "code",
   "execution_count": 21,
   "id": "lasting-extraction",
   "metadata": {
    "execution": {
     "iopub.execute_input": "2022-08-20T00:42:24.100926Z",
     "iopub.status.busy": "2022-08-20T00:42:24.100328Z",
     "iopub.status.idle": "2022-08-20T00:42:24.107477Z",
     "shell.execute_reply": "2022-08-20T00:42:24.108026Z"
    },
    "papermill": {
     "duration": 0.045107,
     "end_time": "2022-08-20T00:42:24.108163",
     "exception": false,
     "start_time": "2022-08-20T00:42:24.063056",
     "status": "completed"
    },
    "tags": []
   },
   "outputs": [],
   "source": [
    "#hide\n",
    "t = everydaycases.stack()"
   ]
  },
  {
   "cell_type": "code",
   "execution_count": 22,
   "id": "premier-sleeve",
   "metadata": {
    "execution": {
     "iopub.execute_input": "2022-08-20T00:42:24.174627Z",
     "iopub.status.busy": "2022-08-20T00:42:24.174032Z",
     "iopub.status.idle": "2022-08-20T00:42:24.186947Z",
     "shell.execute_reply": "2022-08-20T00:42:24.186469Z"
    },
    "papermill": {
     "duration": 0.048266,
     "end_time": "2022-08-20T00:42:24.187060",
     "exception": false,
     "start_time": "2022-08-20T00:42:24.138794",
     "status": "completed"
    },
    "tags": []
   },
   "outputs": [],
   "source": [
    "#hide\n",
    "g = t.reset_index(['Country/Region'])"
   ]
  },
  {
   "cell_type": "code",
   "execution_count": 23,
   "id": "distributed-pittsburgh",
   "metadata": {
    "execution": {
     "iopub.execute_input": "2022-08-20T00:42:24.252702Z",
     "iopub.status.busy": "2022-08-20T00:42:24.251970Z",
     "iopub.status.idle": "2022-08-20T00:42:24.254551Z",
     "shell.execute_reply": "2022-08-20T00:42:24.253987Z"
    },
    "papermill": {
     "duration": 0.037276,
     "end_time": "2022-08-20T00:42:24.254662",
     "exception": false,
     "start_time": "2022-08-20T00:42:24.217386",
     "status": "completed"
    },
    "tags": []
   },
   "outputs": [],
   "source": [
    "#hide\n",
    "g.index.name = 'date'"
   ]
  },
  {
   "cell_type": "code",
   "execution_count": 24,
   "id": "naked-donor",
   "metadata": {
    "execution": {
     "iopub.execute_input": "2022-08-20T00:42:24.320627Z",
     "iopub.status.busy": "2022-08-20T00:42:24.319988Z",
     "iopub.status.idle": "2022-08-20T00:42:24.322602Z",
     "shell.execute_reply": "2022-08-20T00:42:24.323239Z"
    },
    "papermill": {
     "duration": 0.03726,
     "end_time": "2022-08-20T00:42:24.323371",
     "exception": false,
     "start_time": "2022-08-20T00:42:24.286111",
     "status": "completed"
    },
    "tags": []
   },
   "outputs": [],
   "source": [
    "# #hide\n",
    "# g = g.reset_index(['date'])"
   ]
  },
  {
   "cell_type": "code",
   "execution_count": 25,
   "id": "incomplete-mustang",
   "metadata": {
    "execution": {
     "iopub.execute_input": "2022-08-20T00:42:24.388186Z",
     "iopub.status.busy": "2022-08-20T00:42:24.387602Z",
     "iopub.status.idle": "2022-08-20T00:42:24.390210Z",
     "shell.execute_reply": "2022-08-20T00:42:24.389744Z"
    },
    "papermill": {
     "duration": 0.036323,
     "end_time": "2022-08-20T00:42:24.390318",
     "exception": false,
     "start_time": "2022-08-20T00:42:24.353995",
     "status": "completed"
    },
    "tags": []
   },
   "outputs": [],
   "source": [
    "#hide\n",
    "# g.head()"
   ]
  },
  {
   "cell_type": "code",
   "execution_count": 26,
   "id": "specific-kruger",
   "metadata": {
    "execution": {
     "iopub.execute_input": "2022-08-20T00:42:24.456212Z",
     "iopub.status.busy": "2022-08-20T00:42:24.455539Z",
     "iopub.status.idle": "2022-08-20T00:42:24.459935Z",
     "shell.execute_reply": "2022-08-20T00:42:24.459488Z"
    },
    "papermill": {
     "duration": 0.039436,
     "end_time": "2022-08-20T00:42:24.460049",
     "exception": false,
     "start_time": "2022-08-20T00:42:24.420613",
     "status": "completed"
    },
    "tags": []
   },
   "outputs": [],
   "source": [
    "#hide\n",
    "# g.columns = ['date','country','cases']"
   ]
  },
  {
   "cell_type": "code",
   "execution_count": 27,
   "id": "tender-conversion",
   "metadata": {
    "execution": {
     "iopub.execute_input": "2022-08-20T00:42:24.525428Z",
     "iopub.status.busy": "2022-08-20T00:42:24.524648Z",
     "iopub.status.idle": "2022-08-20T00:42:24.527277Z",
     "shell.execute_reply": "2022-08-20T00:42:24.526712Z"
    },
    "papermill": {
     "duration": 0.036951,
     "end_time": "2022-08-20T00:42:24.527452",
     "exception": false,
     "start_time": "2022-08-20T00:42:24.490501",
     "status": "completed"
    },
    "tags": []
   },
   "outputs": [],
   "source": [
    "#hide\n",
    "# g['continent'] = g.country"
   ]
  },
  {
   "cell_type": "code",
   "execution_count": 28,
   "id": "substantial-wilderness",
   "metadata": {
    "execution": {
     "iopub.execute_input": "2022-08-20T00:42:24.592985Z",
     "iopub.status.busy": "2022-08-20T00:42:24.592346Z",
     "iopub.status.idle": "2022-08-20T00:42:24.596857Z",
     "shell.execute_reply": "2022-08-20T00:42:24.597274Z"
    },
    "papermill": {
     "duration": 0.039024,
     "end_time": "2022-08-20T00:42:24.597452",
     "exception": false,
     "start_time": "2022-08-20T00:42:24.558428",
     "status": "completed"
    },
    "tags": []
   },
   "outputs": [],
   "source": [
    "#hide\n",
    "# cols = list(g.columns.values)"
   ]
  },
  {
   "cell_type": "code",
   "execution_count": 29,
   "id": "solved-farming",
   "metadata": {
    "execution": {
     "iopub.execute_input": "2022-08-20T00:42:24.662805Z",
     "iopub.status.busy": "2022-08-20T00:42:24.662137Z",
     "iopub.status.idle": "2022-08-20T00:42:24.664558Z",
     "shell.execute_reply": "2022-08-20T00:42:24.664093Z"
    },
    "papermill": {
     "duration": 0.036758,
     "end_time": "2022-08-20T00:42:24.664664",
     "exception": false,
     "start_time": "2022-08-20T00:42:24.627906",
     "status": "completed"
    },
    "tags": []
   },
   "outputs": [],
   "source": [
    "#hide\n",
    "# cols.insert(0, cols.pop())"
   ]
  },
  {
   "cell_type": "code",
   "execution_count": 30,
   "id": "executed-adoption",
   "metadata": {
    "execution": {
     "iopub.execute_input": "2022-08-20T00:42:24.731108Z",
     "iopub.status.busy": "2022-08-20T00:42:24.730339Z",
     "iopub.status.idle": "2022-08-20T00:42:24.734591Z",
     "shell.execute_reply": "2022-08-20T00:42:24.733989Z"
    },
    "papermill": {
     "duration": 0.038978,
     "end_time": "2022-08-20T00:42:24.734721",
     "exception": false,
     "start_time": "2022-08-20T00:42:24.695743",
     "status": "completed"
    },
    "tags": []
   },
   "outputs": [],
   "source": [
    "#hide\n",
    "# g = g[cols]"
   ]
  },
  {
   "cell_type": "code",
   "execution_count": 31,
   "id": "subject-dublin",
   "metadata": {
    "execution": {
     "iopub.execute_input": "2022-08-20T00:42:24.800129Z",
     "iopub.status.busy": "2022-08-20T00:42:24.799430Z",
     "iopub.status.idle": "2022-08-20T00:42:24.801972Z",
     "shell.execute_reply": "2022-08-20T00:42:24.801439Z"
    },
    "papermill": {
     "duration": 0.036811,
     "end_time": "2022-08-20T00:42:24.802096",
     "exception": false,
     "start_time": "2022-08-20T00:42:24.765285",
     "status": "completed"
    },
    "tags": []
   },
   "outputs": [],
   "source": [
    "#hide\n",
    "# g['continent'] = g['continent'].map(mapping['map.continent'])"
   ]
  },
  {
   "cell_type": "code",
   "execution_count": 32,
   "id": "freelance-scout",
   "metadata": {
    "execution": {
     "iopub.execute_input": "2022-08-20T00:42:24.867592Z",
     "iopub.status.busy": "2022-08-20T00:42:24.866856Z",
     "iopub.status.idle": "2022-08-20T00:42:24.870270Z",
     "shell.execute_reply": "2022-08-20T00:42:24.869802Z"
    },
    "papermill": {
     "duration": 0.037148,
     "end_time": "2022-08-20T00:42:24.870382",
     "exception": false,
     "start_time": "2022-08-20T00:42:24.833234",
     "status": "completed"
    },
    "tags": []
   },
   "outputs": [],
   "source": [
    "#hide\n",
    "# g.head()"
   ]
  },
  {
   "cell_type": "code",
   "execution_count": 33,
   "id": "limited-engine",
   "metadata": {
    "execution": {
     "iopub.execute_input": "2022-08-20T00:42:24.934805Z",
     "iopub.status.busy": "2022-08-20T00:42:24.934149Z",
     "iopub.status.idle": "2022-08-20T00:42:24.938476Z",
     "shell.execute_reply": "2022-08-20T00:42:24.938978Z"
    },
    "papermill": {
     "duration": 0.03857,
     "end_time": "2022-08-20T00:42:24.939140",
     "exception": false,
     "start_time": "2022-08-20T00:42:24.900570",
     "status": "completed"
    },
    "tags": []
   },
   "outputs": [],
   "source": [
    "# hide\n",
    "# g['date'] = g['date'].astype('datetime64[ns]')"
   ]
  },
  {
   "cell_type": "code",
   "execution_count": 34,
   "id": "sophisticated-supervisor",
   "metadata": {
    "execution": {
     "iopub.execute_input": "2022-08-20T00:42:25.004308Z",
     "iopub.status.busy": "2022-08-20T00:42:25.003709Z",
     "iopub.status.idle": "2022-08-20T00:42:25.006306Z",
     "shell.execute_reply": "2022-08-20T00:42:25.005834Z"
    },
    "papermill": {
     "duration": 0.036743,
     "end_time": "2022-08-20T00:42:25.006416",
     "exception": false,
     "start_time": "2022-08-20T00:42:24.969673",
     "status": "completed"
    },
    "tags": []
   },
   "outputs": [],
   "source": [
    "#hide\n",
    "# g['date'] = g.date.dt.dayofyear"
   ]
  },
  {
   "cell_type": "code",
   "execution_count": 35,
   "id": "inside-dubai",
   "metadata": {
    "execution": {
     "iopub.execute_input": "2022-08-20T00:42:25.071312Z",
     "iopub.status.busy": "2022-08-20T00:42:25.070572Z",
     "iopub.status.idle": "2022-08-20T00:42:25.073200Z",
     "shell.execute_reply": "2022-08-20T00:42:25.072662Z"
    },
    "papermill": {
     "duration": 0.036503,
     "end_time": "2022-08-20T00:42:25.073326",
     "exception": false,
     "start_time": "2022-08-20T00:42:25.036823",
     "status": "completed"
    },
    "tags": []
   },
   "outputs": [],
   "source": [
    "#hide\n",
    "# g = g.rename(columns= {'continent':'group','country':'name','cases':'value'})"
   ]
  },
  {
   "cell_type": "code",
   "execution_count": 36,
   "id": "fleet-motorcycle",
   "metadata": {
    "execution": {
     "iopub.execute_input": "2022-08-20T00:42:25.138353Z",
     "iopub.status.busy": "2022-08-20T00:42:25.137771Z",
     "iopub.status.idle": "2022-08-20T00:42:25.140034Z",
     "shell.execute_reply": "2022-08-20T00:42:25.140587Z"
    },
    "papermill": {
     "duration": 0.036631,
     "end_time": "2022-08-20T00:42:25.140716",
     "exception": false,
     "start_time": "2022-08-20T00:42:25.104085",
     "status": "completed"
    },
    "tags": []
   },
   "outputs": [],
   "source": [
    "#hide\n",
    "# cols = ['name','group','day','value']"
   ]
  },
  {
   "cell_type": "code",
   "execution_count": 37,
   "id": "continued-sleeping",
   "metadata": {
    "execution": {
     "iopub.execute_input": "2022-08-20T00:42:25.205931Z",
     "iopub.status.busy": "2022-08-20T00:42:25.205255Z",
     "iopub.status.idle": "2022-08-20T00:42:25.209320Z",
     "shell.execute_reply": "2022-08-20T00:42:25.208848Z"
    },
    "papermill": {
     "duration": 0.038191,
     "end_time": "2022-08-20T00:42:25.209432",
     "exception": false,
     "start_time": "2022-08-20T00:42:25.171241",
     "status": "completed"
    },
    "tags": []
   },
   "outputs": [],
   "source": [
    "#hide\n",
    "# g.rename(columns= {'date':'day'},inplace = True)"
   ]
  },
  {
   "cell_type": "code",
   "execution_count": 38,
   "id": "major-fight",
   "metadata": {
    "execution": {
     "iopub.execute_input": "2022-08-20T00:42:25.274649Z",
     "iopub.status.busy": "2022-08-20T00:42:25.273939Z",
     "iopub.status.idle": "2022-08-20T00:42:25.276689Z",
     "shell.execute_reply": "2022-08-20T00:42:25.276141Z"
    },
    "papermill": {
     "duration": 0.036994,
     "end_time": "2022-08-20T00:42:25.276814",
     "exception": false,
     "start_time": "2022-08-20T00:42:25.239820",
     "status": "completed"
    },
    "tags": []
   },
   "outputs": [],
   "source": [
    "#hide\n",
    "# g = g[cols]"
   ]
  },
  {
   "cell_type": "code",
   "execution_count": 39,
   "id": "structured-mobile",
   "metadata": {
    "execution": {
     "iopub.execute_input": "2022-08-20T00:42:25.342751Z",
     "iopub.status.busy": "2022-08-20T00:42:25.342172Z",
     "iopub.status.idle": "2022-08-20T00:42:25.344946Z",
     "shell.execute_reply": "2022-08-20T00:42:25.344477Z"
    },
    "papermill": {
     "duration": 0.037442,
     "end_time": "2022-08-20T00:42:25.345055",
     "exception": false,
     "start_time": "2022-08-20T00:42:25.307613",
     "status": "completed"
    },
    "tags": []
   },
   "outputs": [],
   "source": [
    "# #hide\n",
    "# g = g[g.group.notna()]"
   ]
  },
  {
   "cell_type": "code",
   "execution_count": 40,
   "id": "determined-closing",
   "metadata": {
    "execution": {
     "iopub.execute_input": "2022-08-20T00:42:25.410118Z",
     "iopub.status.busy": "2022-08-20T00:42:25.409429Z",
     "iopub.status.idle": "2022-08-20T00:42:25.411518Z",
     "shell.execute_reply": "2022-08-20T00:42:25.412034Z"
    },
    "papermill": {
     "duration": 0.036741,
     "end_time": "2022-08-20T00:42:25.412181",
     "exception": false,
     "start_time": "2022-08-20T00:42:25.375440",
     "status": "completed"
    },
    "tags": []
   },
   "outputs": [],
   "source": [
    "# #hide\n",
    "# colors = dict(zip(\n",
    "#     [\"Oceania\", \"Europe\", \"Asia\", \"South America\", \"Middle East\", \"North America\", \"Africa\"],\n",
    "#     [\"#adb0ff\", \"#ffb3ff\", \"#90d595\", \"#e48381\", \"#aafbff\", \"#f7bb5f\", \"#eafb50\"]\n",
    "# ))\n",
    "# group_lk = g.set_index('name')['group'].to_dict()"
   ]
  },
  {
   "cell_type": "code",
   "execution_count": null,
   "id": "gross-drinking",
   "metadata": {
    "papermill": {
     "duration": 0.030157,
     "end_time": "2022-08-20T00:42:25.472843",
     "exception": false,
     "start_time": "2022-08-20T00:42:25.442686",
     "status": "completed"
    },
    "tags": []
   },
   "outputs": [],
   "source": []
  },
  {
   "cell_type": "code",
   "execution_count": 41,
   "id": "subject-macintosh",
   "metadata": {
    "execution": {
     "iopub.execute_input": "2022-08-20T00:42:25.538480Z",
     "iopub.status.busy": "2022-08-20T00:42:25.537869Z",
     "iopub.status.idle": "2022-08-20T00:42:25.540271Z",
     "shell.execute_reply": "2022-08-20T00:42:25.540748Z"
    },
    "papermill": {
     "duration": 0.037649,
     "end_time": "2022-08-20T00:42:25.540882",
     "exception": false,
     "start_time": "2022-08-20T00:42:25.503233",
     "status": "completed"
    },
    "tags": []
   },
   "outputs": [],
   "source": [
    "# #hide\n",
    "# fig, ax = plt.subplots(figsize=(15, 8))\n",
    "\n",
    "# def draw_barchart(current_day):\n",
    "#     dff = g[g['day'].eq(current_day)].sort_values(by='value', ascending=True).tail(10)\n",
    "#     ax.clear()\n",
    "#     ax.barh(dff['name'], dff['value'], color=[colors[group_lk[x]] for x in dff['name']])\n",
    "#     dx = dff['value'].max() / 200\n",
    "    \n",
    "#     for i, (value, name) in enumerate(zip(dff['value'], dff['name'])):\n",
    "#         ax.text(value-dx, i,     name,           size=14, weight=600, ha='right', va='bottom')\n",
    "#         ax.text(value-dx, i-.25, group_lk[name], size=10, color='#444444', ha='right', va='baseline')\n",
    "#         ax.text(value+dx, i,     f'{value:,.0f}',  size=14, ha='left',  va='center')\n",
    "#     ax.text(1, 0.4, current_day, transform=ax.transAxes, color='#777777', size=46, ha='right', weight=800)\n",
    "#     ax.text(0, 1.06, 'Population (thousands)', transform=ax.transAxes, size=12, color='#777777')\n",
    "#     ax.xaxis.set_major_formatter(ticker.StrMethodFormatter('{x:,.0f}'))\n",
    "#     ax.xaxis.set_ticks_position('top')\n",
    "#     ax.tick_params(axis='x', colors='#777777', labelsize=12)\n",
    "#     ax.set_yticks([])\n",
    "#     ax.margins(0, 0.01)\n",
    "#     ax.grid(which='major', axis='x', linestyle='-')\n",
    "#     ax.set_axisbelow(True)\n",
    "    \n",
    "#     ax.text(0, 1.15, 'Coronavirus',\n",
    "#             transform=ax.transAxes, size=24, weight=600, ha='left', va='top')\n",
    "# #     ax.text(1, 0, 'by @pratapvardhan; credit @jburnmurdoch', transform=ax.transAxes, color='#777777', ha='right',\n",
    "# #             bbox=dict(facecolor='white', alpha=0.8, edgecolor='white'))\n",
    "#     plt.box(False)"
   ]
  },
  {
   "cell_type": "code",
   "execution_count": 42,
   "id": "sexual-wages",
   "metadata": {
    "execution": {
     "iopub.execute_input": "2022-08-20T00:42:25.607716Z",
     "iopub.status.busy": "2022-08-20T00:42:25.607103Z",
     "iopub.status.idle": "2022-08-20T00:42:25.609275Z",
     "shell.execute_reply": "2022-08-20T00:42:25.609720Z"
    },
    "papermill": {
     "duration": 0.038608,
     "end_time": "2022-08-20T00:42:25.609850",
     "exception": false,
     "start_time": "2022-08-20T00:42:25.571242",
     "status": "completed"
    },
    "tags": []
   },
   "outputs": [],
   "source": [
    "# #hide_input\n",
    "# fig, ax = plt.subplots(figsize=(15, 8))\n",
    "# animator = animation.FuncAnimation(fig, draw_barchart, frames=range(g.day.values.min(), g.day.values.max()))\n",
    "# HTML(animator.to_jshtml())\n",
    "# # or use animator.to_html5_video() or animator.save() "
   ]
  },
  {
   "cell_type": "code",
   "execution_count": null,
   "id": "australian-container",
   "metadata": {
    "papermill": {
     "duration": 0.030181,
     "end_time": "2022-08-20T00:42:25.670534",
     "exception": false,
     "start_time": "2022-08-20T00:42:25.640353",
     "status": "completed"
    },
    "tags": []
   },
   "outputs": [],
   "source": []
  },
  {
   "cell_type": "code",
   "execution_count": null,
   "id": "mediterranean-pontiac",
   "metadata": {
    "papermill": {
     "duration": 0.030398,
     "end_time": "2022-08-20T00:42:25.731202",
     "exception": false,
     "start_time": "2022-08-20T00:42:25.700804",
     "status": "completed"
    },
    "tags": []
   },
   "outputs": [],
   "source": []
  },
  {
   "cell_type": "code",
   "execution_count": null,
   "id": "aging-legislature",
   "metadata": {
    "papermill": {
     "duration": 0.030355,
     "end_time": "2022-08-20T00:42:25.792252",
     "exception": false,
     "start_time": "2022-08-20T00:42:25.761897",
     "status": "completed"
    },
    "tags": []
   },
   "outputs": [],
   "source": []
  }
 ],
 "metadata": {
  "kernelspec": {
   "display_name": "Python 3",
   "language": "python",
   "name": "python3"
  },
  "language_info": {
   "codemirror_mode": {
    "name": "ipython",
    "version": 3
   },
   "file_extension": ".py",
   "mimetype": "text/x-python",
   "name": "python",
   "nbconvert_exporter": "python",
   "pygments_lexer": "ipython3",
   "version": "3.6.15"
  },
  "papermill": {
   "duration": 6.390198,
   "end_time": "2022-08-20T00:42:26.241651",
   "environment_variables": {},
   "exception": null,
   "input_path": "2020-03-21-covid19exp.ipynb",
   "output_path": "2020-03-21-covid19exp.ipynb",
   "parameters": {},
   "start_time": "2022-08-20T00:42:19.851453",
   "version": "2.0.0"
  }
 },
 "nbformat": 4,
 "nbformat_minor": 5
}