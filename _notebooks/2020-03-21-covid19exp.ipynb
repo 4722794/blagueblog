{
 "cells": [
  {
   "cell_type": "markdown",
   "id": "muslim-click",
   "metadata": {
    "papermill": {
     "duration": 0.041742,
     "end_time": "2021-04-05T00:06:37.813631",
     "exception": false,
     "start_time": "2021-04-05T00:06:37.771889",
     "status": "completed"
    },
    "tags": []
   },
   "source": [
    "# COVID-19 Case Race\n",
    "> A race chart to see rising cases around the world\n",
    "\n",
    "- author: Hargun Oberoi\n",
    "- image: images/covid-overview.png\n",
    "- hide: false\n",
    "- badges: false"
   ]
  },
  {
   "cell_type": "code",
   "execution_count": 1,
   "id": "proof-material",
   "metadata": {
    "execution": {
     "iopub.execute_input": "2021-04-05T00:06:37.895806Z",
     "iopub.status.busy": "2021-04-05T00:06:37.895232Z",
     "iopub.status.idle": "2021-04-05T00:06:38.244437Z",
     "shell.execute_reply": "2021-04-05T00:06:38.243779Z"
    },
    "papermill": {
     "duration": 0.394677,
     "end_time": "2021-04-05T00:06:38.244585",
     "exception": false,
     "start_time": "2021-04-05T00:06:37.849908",
     "status": "completed"
    },
    "tags": []
   },
   "outputs": [],
   "source": [
    "#hide\n",
    "import numpy as np\n",
    "import pandas as pd\n",
    "from jinja2 import Template\n",
    "from IPython.display import HTML"
   ]
  },
  {
   "cell_type": "code",
   "execution_count": 2,
   "id": "developed-terminology",
   "metadata": {
    "execution": {
     "iopub.execute_input": "2021-04-05T00:06:38.324242Z",
     "iopub.status.busy": "2021-04-05T00:06:38.323579Z",
     "iopub.status.idle": "2021-04-05T00:06:38.326574Z",
     "shell.execute_reply": "2021-04-05T00:06:38.325985Z"
    },
    "papermill": {
     "duration": 0.044238,
     "end_time": "2021-04-05T00:06:38.326709",
     "exception": false,
     "start_time": "2021-04-05T00:06:38.282471",
     "status": "completed"
    },
    "tags": []
   },
   "outputs": [],
   "source": [
    "#hide\n",
    "\n",
    "# FETCH\n",
    "base_url = 'https://raw.githubusercontent.com/pratapvardhan/notebooks/master/covid19/'\n",
    "paths = {\n",
    "    'mapping': base_url + 'mapping_countries.csv',\n",
    "    'overview': base_url + 'overview.tpl'\n",
    "}"
   ]
  },
  {
   "cell_type": "code",
   "execution_count": 3,
   "id": "dynamic-saver",
   "metadata": {
    "execution": {
     "iopub.execute_input": "2021-04-05T00:06:38.408745Z",
     "iopub.status.busy": "2021-04-05T00:06:38.405951Z",
     "iopub.status.idle": "2021-04-05T00:06:38.411786Z",
     "shell.execute_reply": "2021-04-05T00:06:38.412408Z"
    },
    "papermill": {
     "duration": 0.049544,
     "end_time": "2021-04-05T00:06:38.412537",
     "exception": false,
     "start_time": "2021-04-05T00:06:38.362993",
     "status": "completed"
    },
    "tags": []
   },
   "outputs": [
    {
     "data": {
      "text/plain": [
       "'https://raw.githubusercontent.com/pratapvardhan/notebooks/master/covid19/mapping_countries.csv'"
      ]
     },
     "execution_count": 3,
     "metadata": {},
     "output_type": "execute_result"
    }
   ],
   "source": [
    "#hide\n",
    "paths['mapping']"
   ]
  },
  {
   "cell_type": "code",
   "execution_count": 4,
   "id": "urban-software",
   "metadata": {
    "execution": {
     "iopub.execute_input": "2021-04-05T00:06:38.490375Z",
     "iopub.status.busy": "2021-04-05T00:06:38.489753Z",
     "iopub.status.idle": "2021-04-05T00:06:38.492060Z",
     "shell.execute_reply": "2021-04-05T00:06:38.491559Z"
    },
    "papermill": {
     "duration": 0.043928,
     "end_time": "2021-04-05T00:06:38.492170",
     "exception": false,
     "start_time": "2021-04-05T00:06:38.448242",
     "status": "completed"
    },
    "tags": []
   },
   "outputs": [],
   "source": [
    "#hide\n",
    "def get_mappings(url):\n",
    "    df = pd.read_csv(url)\n",
    "    return {\n",
    "        'df': df,\n",
    "        'replace.country': dict(df.dropna(subset=['Name']).set_index('Country')['Name']),\n",
    "        'map.continent': dict(df.set_index('Name')['Continent'])\n",
    "    }"
   ]
  },
  {
   "cell_type": "code",
   "execution_count": 5,
   "id": "intimate-machinery",
   "metadata": {
    "execution": {
     "iopub.execute_input": "2021-04-05T00:06:38.573453Z",
     "iopub.status.busy": "2021-04-05T00:06:38.572830Z",
     "iopub.status.idle": "2021-04-05T00:06:38.613930Z",
     "shell.execute_reply": "2021-04-05T00:06:38.614425Z"
    },
    "papermill": {
     "duration": 0.084588,
     "end_time": "2021-04-05T00:06:38.614667",
     "exception": false,
     "start_time": "2021-04-05T00:06:38.530079",
     "status": "completed"
    },
    "tags": []
   },
   "outputs": [],
   "source": [
    "#hide\n",
    "mapping = get_mappings(paths['mapping'])"
   ]
  },
  {
   "cell_type": "code",
   "execution_count": 6,
   "id": "certified-tactics",
   "metadata": {
    "execution": {
     "iopub.execute_input": "2021-04-05T00:06:38.695272Z",
     "iopub.status.busy": "2021-04-05T00:06:38.694639Z",
     "iopub.status.idle": "2021-04-05T00:06:38.697143Z",
     "shell.execute_reply": "2021-04-05T00:06:38.696643Z"
    },
    "papermill": {
     "duration": 0.045104,
     "end_time": "2021-04-05T00:06:38.697254",
     "exception": false,
     "start_time": "2021-04-05T00:06:38.652150",
     "status": "completed"
    },
    "tags": []
   },
   "outputs": [],
   "source": [
    "#hide\n",
    "def get_template(path):\n",
    "    from urllib.parse import urlparse\n",
    "    if bool(urlparse(path).netloc):\n",
    "        from urllib.request import urlopen\n",
    "        return urlopen(path).read().decode('utf8')\n",
    "    return open(path).read()"
   ]
  },
  {
   "cell_type": "code",
   "execution_count": 7,
   "id": "realistic-blast",
   "metadata": {
    "execution": {
     "iopub.execute_input": "2021-04-05T00:06:38.776235Z",
     "iopub.status.busy": "2021-04-05T00:06:38.775541Z",
     "iopub.status.idle": "2021-04-05T00:06:38.778259Z",
     "shell.execute_reply": "2021-04-05T00:06:38.777679Z"
    },
    "papermill": {
     "duration": 0.045183,
     "end_time": "2021-04-05T00:06:38.778377",
     "exception": false,
     "start_time": "2021-04-05T00:06:38.733194",
     "status": "completed"
    },
    "tags": []
   },
   "outputs": [],
   "source": [
    "#hide\n",
    "def get_frame(name):\n",
    "    url = (\n",
    "        'https://raw.githubusercontent.com/CSSEGISandData/COVID-19/master/csse_covid_19_data/'\n",
    "        f'csse_covid_19_time_series/time_series_covid19_{name}_global.csv')\n",
    "    df = pd.read_csv(url)\n",
    "    # rename countries\n",
    "    df['Country/Region'] = df['Country/Region'].replace(mapping['replace.country'])\n",
    "    return df"
   ]
  },
  {
   "cell_type": "code",
   "execution_count": 8,
   "id": "affiliated-characterization",
   "metadata": {
    "execution": {
     "iopub.execute_input": "2021-04-05T00:06:38.856881Z",
     "iopub.status.busy": "2021-04-05T00:06:38.856291Z",
     "iopub.status.idle": "2021-04-05T00:06:38.858899Z",
     "shell.execute_reply": "2021-04-05T00:06:38.858394Z"
    },
    "papermill": {
     "duration": 0.044223,
     "end_time": "2021-04-05T00:06:38.859014",
     "exception": false,
     "start_time": "2021-04-05T00:06:38.814791",
     "status": "completed"
    },
    "tags": []
   },
   "outputs": [],
   "source": [
    "#hide\n",
    "def get_dates(df):\n",
    "    dt_cols = df.columns[~df.columns.isin(['Province/State', 'Country/Region', 'Lat', 'Long'])]\n",
    "    LAST_DATE_I = -1\n",
    "    # sometimes last column may be empty, then go backwards\n",
    "    for i in range(-1, -len(dt_cols), -1):\n",
    "        if not df[dt_cols[i]].fillna(0).eq(0).all():\n",
    "            LAST_DATE_I = i\n",
    "            break\n",
    "    return LAST_DATE_I, dt_cols"
   ]
  },
  {
   "cell_type": "code",
   "execution_count": 9,
   "id": "recent-optimization",
   "metadata": {
    "execution": {
     "iopub.execute_input": "2021-04-05T00:06:38.937852Z",
     "iopub.status.busy": "2021-04-05T00:06:38.937247Z",
     "iopub.status.idle": "2021-04-05T00:06:39.298048Z",
     "shell.execute_reply": "2021-04-05T00:06:39.297542Z"
    },
    "papermill": {
     "duration": 0.403129,
     "end_time": "2021-04-05T00:06:39.298179",
     "exception": false,
     "start_time": "2021-04-05T00:06:38.895050",
     "status": "completed"
    },
    "tags": []
   },
   "outputs": [],
   "source": [
    "#hide\n",
    "COL_REGION = 'Country/Region'\n",
    "# Confirmed, Recovered, Deaths\n",
    "df = get_frame('confirmed')\n",
    "# dft_: timeseries, dfc_: today country agg\n",
    "dft_cases = df\n",
    "dft_deaths = get_frame('deaths')\n",
    "dft_recovered = get_frame('recovered')\n",
    "LAST_DATE_I, dt_cols = get_dates(df)"
   ]
  },
  {
   "cell_type": "code",
   "execution_count": 10,
   "id": "absolute-copper",
   "metadata": {
    "execution": {
     "iopub.execute_input": "2021-04-05T00:06:39.379831Z",
     "iopub.status.busy": "2021-04-05T00:06:39.379241Z",
     "iopub.status.idle": "2021-04-05T00:06:39.381107Z",
     "shell.execute_reply": "2021-04-05T00:06:39.381715Z"
    },
    "papermill": {
     "duration": 0.045682,
     "end_time": "2021-04-05T00:06:39.381845",
     "exception": false,
     "start_time": "2021-04-05T00:06:39.336163",
     "status": "completed"
    },
    "tags": []
   },
   "outputs": [],
   "source": [
    "#hide\n",
    "LAST_DATE_I, dt_cols = get_dates(df)\n",
    "dt_today =dt_cols[LAST_DATE_I]\n",
    "# dt_5day = dt_cols[LAST_DATE_I - 5]\n",
    "dt_yday = dt_cols[LAST_DATE_I - 1]"
   ]
  },
  {
   "cell_type": "code",
   "execution_count": 11,
   "id": "restricted-sheriff",
   "metadata": {
    "execution": {
     "iopub.execute_input": "2021-04-05T00:06:39.463599Z",
     "iopub.status.busy": "2021-04-05T00:06:39.462985Z",
     "iopub.status.idle": "2021-04-05T00:06:39.472197Z",
     "shell.execute_reply": "2021-04-05T00:06:39.472679Z"
    },
    "papermill": {
     "duration": 0.054662,
     "end_time": "2021-04-05T00:06:39.472814",
     "exception": false,
     "start_time": "2021-04-05T00:06:39.418152",
     "status": "completed"
    },
    "tags": []
   },
   "outputs": [],
   "source": [
    "#hide\n",
    "dfc_cases = dft_cases.groupby(COL_REGION)[dt_today].sum()\n",
    "dfc_deaths = dft_deaths.groupby(COL_REGION)[dt_today].sum()\n",
    "# dfp_cases = dft_cases.groupby(COL_REGION)[dt_5day].sum()\n",
    "# dfp_deaths = dft_deaths.groupby(COL_REGION)[dt_5day].sum()\n",
    "dfp_cases = dft_cases.groupby(COL_REGION)[dt_yday].sum()\n",
    "dfp_deaths = dft_deaths.groupby(COL_REGION)[dt_yday].sum()"
   ]
  },
  {
   "cell_type": "code",
   "execution_count": 12,
   "id": "deluxe-hepatitis",
   "metadata": {
    "execution": {
     "iopub.execute_input": "2021-04-05T00:06:39.552205Z",
     "iopub.status.busy": "2021-04-05T00:06:39.551583Z",
     "iopub.status.idle": "2021-04-05T00:06:39.557206Z",
     "shell.execute_reply": "2021-04-05T00:06:39.557824Z"
    },
    "papermill": {
     "duration": 0.048727,
     "end_time": "2021-04-05T00:06:39.557951",
     "exception": false,
     "start_time": "2021-04-05T00:06:39.509224",
     "status": "completed"
    },
    "tags": []
   },
   "outputs": [],
   "source": [
    "#hide\n",
    "df_table = (pd.DataFrame(dict(Cases = dfc_cases, Deaths = dfc_deaths, PCases = dfp_cases, PDeaths = dfp_deaths))\n",
    "            .sort_values(by = ['Cases','Deaths'], ascending = [False, False])\n",
    "            .reset_index())"
   ]
  },
  {
   "cell_type": "code",
   "execution_count": 13,
   "id": "educational-chancellor",
   "metadata": {
    "execution": {
     "iopub.execute_input": "2021-04-05T00:06:39.637207Z",
     "iopub.status.busy": "2021-04-05T00:06:39.636488Z",
     "iopub.status.idle": "2021-04-05T00:06:39.657029Z",
     "shell.execute_reply": "2021-04-05T00:06:39.657590Z"
    },
    "papermill": {
     "duration": 0.064006,
     "end_time": "2021-04-05T00:06:39.657715",
     "exception": false,
     "start_time": "2021-04-05T00:06:39.593709",
     "status": "completed"
    },
    "tags": []
   },
   "outputs": [
    {
     "data": {
      "text/html": [
       "<div>\n",
       "<style scoped>\n",
       "    .dataframe tbody tr th:only-of-type {\n",
       "        vertical-align: middle;\n",
       "    }\n",
       "\n",
       "    .dataframe tbody tr th {\n",
       "        vertical-align: top;\n",
       "    }\n",
       "\n",
       "    .dataframe thead th {\n",
       "        text-align: right;\n",
       "    }\n",
       "</style>\n",
       "<table border=\"1\" class=\"dataframe\">\n",
       "  <thead>\n",
       "    <tr style=\"text-align: right;\">\n",
       "      <th></th>\n",
       "      <th>Country/Region</th>\n",
       "      <th>Cases</th>\n",
       "      <th>Deaths</th>\n",
       "      <th>PCases</th>\n",
       "      <th>PDeaths</th>\n",
       "      <th>Cases (+)</th>\n",
       "      <th>Deaths (+)</th>\n",
       "      <th>Fatality Rate</th>\n",
       "      <th>Continent</th>\n",
       "    </tr>\n",
       "  </thead>\n",
       "  <tbody>\n",
       "    <tr>\n",
       "      <th>0</th>\n",
       "      <td>US</td>\n",
       "      <td>30671844</td>\n",
       "      <td>554779</td>\n",
       "      <td>30609690</td>\n",
       "      <td>554103</td>\n",
       "      <td>62154</td>\n",
       "      <td>676</td>\n",
       "      <td>1.81</td>\n",
       "      <td>North America</td>\n",
       "    </tr>\n",
       "    <tr>\n",
       "      <th>1</th>\n",
       "      <td>Brazil</td>\n",
       "      <td>12953597</td>\n",
       "      <td>330193</td>\n",
       "      <td>12910082</td>\n",
       "      <td>328206</td>\n",
       "      <td>43515</td>\n",
       "      <td>1987</td>\n",
       "      <td>2.55</td>\n",
       "      <td>South America</td>\n",
       "    </tr>\n",
       "    <tr>\n",
       "      <th>2</th>\n",
       "      <td>India</td>\n",
       "      <td>12485509</td>\n",
       "      <td>164623</td>\n",
       "      <td>12392260</td>\n",
       "      <td>164110</td>\n",
       "      <td>93249</td>\n",
       "      <td>513</td>\n",
       "      <td>1.32</td>\n",
       "      <td>Asia</td>\n",
       "    </tr>\n",
       "    <tr>\n",
       "      <th>3</th>\n",
       "      <td>France</td>\n",
       "      <td>4802545</td>\n",
       "      <td>96439</td>\n",
       "      <td>4802457</td>\n",
       "      <td>96438</td>\n",
       "      <td>88</td>\n",
       "      <td>1</td>\n",
       "      <td>2.01</td>\n",
       "      <td>Europe</td>\n",
       "    </tr>\n",
       "    <tr>\n",
       "      <th>4</th>\n",
       "      <td>Russia</td>\n",
       "      <td>4520879</td>\n",
       "      <td>98363</td>\n",
       "      <td>4511973</td>\n",
       "      <td>97986</td>\n",
       "      <td>8906</td>\n",
       "      <td>377</td>\n",
       "      <td>2.18</td>\n",
       "      <td>Europe</td>\n",
       "    </tr>\n",
       "  </tbody>\n",
       "</table>\n",
       "</div>"
      ],
      "text/plain": [
       "  Country/Region     Cases  Deaths    PCases  PDeaths  Cases (+)  Deaths (+)  \\\n",
       "0             US  30671844  554779  30609690   554103      62154         676   \n",
       "1         Brazil  12953597  330193  12910082   328206      43515        1987   \n",
       "2          India  12485509  164623  12392260   164110      93249         513   \n",
       "3         France   4802545   96439   4802457    96438         88           1   \n",
       "4         Russia   4520879   98363   4511973    97986       8906         377   \n",
       "\n",
       "   Fatality Rate      Continent  \n",
       "0           1.81  North America  \n",
       "1           2.55  South America  \n",
       "2           1.32           Asia  \n",
       "3           2.01         Europe  \n",
       "4           2.18         Europe  "
      ]
     },
     "execution_count": 13,
     "metadata": {},
     "output_type": "execute_result"
    }
   ],
   "source": [
    "#hide\n",
    "for c in 'Cases, Deaths'.split(', '):\n",
    "    df_table[f'{c} (+)'] = (df_table[c] - df_table[f'P{c}']).clip(0)\n",
    "    #Clip ça veut dire, les chiffres negatif sont interdit\n",
    "df_table['Fatality Rate'] = (100* df_table['Deaths']/ df_table['Cases']).round(2)\n",
    "df_table['Continent'] = df_table['Country/Region'].map(mapping['map.continent'])\n",
    "df_table.head(5)"
   ]
  },
  {
   "cell_type": "code",
   "execution_count": 14,
   "id": "aboriginal-bulgaria",
   "metadata": {
    "execution": {
     "iopub.execute_input": "2021-04-05T00:06:39.737320Z",
     "iopub.status.busy": "2021-04-05T00:06:39.736711Z",
     "iopub.status.idle": "2021-04-05T00:06:39.741783Z",
     "shell.execute_reply": "2021-04-05T00:06:39.741318Z"
    },
    "papermill": {
     "duration": 0.046961,
     "end_time": "2021-04-05T00:06:39.741893",
     "exception": false,
     "start_time": "2021-04-05T00:06:39.694932",
     "status": "completed"
    },
    "tags": []
   },
   "outputs": [],
   "source": [
    "#hide\n",
    "#delete problematic countries from table\n",
    "df_table = df_table[~df_table['Country/Region'].isin(['Cape Verde', 'Cruise Ship', 'Kosovo'])]"
   ]
  },
  {
   "cell_type": "code",
   "execution_count": 15,
   "id": "fantastic-effect",
   "metadata": {
    "execution": {
     "iopub.execute_input": "2021-04-05T00:06:39.823478Z",
     "iopub.status.busy": "2021-04-05T00:06:39.822870Z",
     "iopub.status.idle": "2021-04-05T00:06:39.846139Z",
     "shell.execute_reply": "2021-04-05T00:06:39.846634Z"
    },
    "papermill": {
     "duration": 0.068903,
     "end_time": "2021-04-05T00:06:39.846788",
     "exception": false,
     "start_time": "2021-04-05T00:06:39.777885",
     "status": "completed"
    },
    "tags": []
   },
   "outputs": [
    {
     "data": {
      "text/html": [
       "<div>\n",
       "<style scoped>\n",
       "    .dataframe tbody tr th:only-of-type {\n",
       "        vertical-align: middle;\n",
       "    }\n",
       "\n",
       "    .dataframe tbody tr th {\n",
       "        vertical-align: top;\n",
       "    }\n",
       "\n",
       "    .dataframe thead th {\n",
       "        text-align: right;\n",
       "    }\n",
       "</style>\n",
       "<table border=\"1\" class=\"dataframe\">\n",
       "  <thead>\n",
       "    <tr style=\"text-align: right;\">\n",
       "      <th></th>\n",
       "      <th>Country/Region</th>\n",
       "      <th>Cases</th>\n",
       "      <th>Deaths</th>\n",
       "      <th>PCases</th>\n",
       "      <th>PDeaths</th>\n",
       "      <th>Cases (+)</th>\n",
       "      <th>Deaths (+)</th>\n",
       "      <th>Fatality Rate</th>\n",
       "      <th>Continent</th>\n",
       "    </tr>\n",
       "  </thead>\n",
       "  <tbody>\n",
       "    <tr>\n",
       "      <th>0</th>\n",
       "      <td>US</td>\n",
       "      <td>30671844</td>\n",
       "      <td>554779</td>\n",
       "      <td>30609690</td>\n",
       "      <td>554103</td>\n",
       "      <td>62154</td>\n",
       "      <td>676</td>\n",
       "      <td>1.8</td>\n",
       "      <td>North America</td>\n",
       "    </tr>\n",
       "    <tr>\n",
       "      <th>1</th>\n",
       "      <td>Brazil</td>\n",
       "      <td>12953597</td>\n",
       "      <td>330193</td>\n",
       "      <td>12910082</td>\n",
       "      <td>328206</td>\n",
       "      <td>43515</td>\n",
       "      <td>1987</td>\n",
       "      <td>2.5</td>\n",
       "      <td>South America</td>\n",
       "    </tr>\n",
       "    <tr>\n",
       "      <th>2</th>\n",
       "      <td>India</td>\n",
       "      <td>12485509</td>\n",
       "      <td>164623</td>\n",
       "      <td>12392260</td>\n",
       "      <td>164110</td>\n",
       "      <td>93249</td>\n",
       "      <td>513</td>\n",
       "      <td>1.3</td>\n",
       "      <td>Asia</td>\n",
       "    </tr>\n",
       "    <tr>\n",
       "      <th>3</th>\n",
       "      <td>France</td>\n",
       "      <td>4802545</td>\n",
       "      <td>96439</td>\n",
       "      <td>4802457</td>\n",
       "      <td>96438</td>\n",
       "      <td>88</td>\n",
       "      <td>1</td>\n",
       "      <td>2.0</td>\n",
       "      <td>Europe</td>\n",
       "    </tr>\n",
       "    <tr>\n",
       "      <th>4</th>\n",
       "      <td>Russia</td>\n",
       "      <td>4520879</td>\n",
       "      <td>98363</td>\n",
       "      <td>4511973</td>\n",
       "      <td>97986</td>\n",
       "      <td>8906</td>\n",
       "      <td>377</td>\n",
       "      <td>2.2</td>\n",
       "      <td>Europe</td>\n",
       "    </tr>\n",
       "  </tbody>\n",
       "</table>\n",
       "</div>"
      ],
      "text/plain": [
       "  Country/Region     Cases  Deaths    PCases  PDeaths  Cases (+)  Deaths (+)  \\\n",
       "0             US  30671844  554779  30609690   554103      62154         676   \n",
       "1         Brazil  12953597  330193  12910082   328206      43515        1987   \n",
       "2          India  12485509  164623  12392260   164110      93249         513   \n",
       "3         France   4802545   96439   4802457    96438         88           1   \n",
       "4         Russia   4520879   98363   4511973    97986       8906         377   \n",
       "\n",
       "   Fatality Rate      Continent  \n",
       "0            1.8  North America  \n",
       "1            2.5  South America  \n",
       "2            1.3           Asia  \n",
       "3            2.0         Europe  \n",
       "4            2.2         Europe  "
      ]
     },
     "execution_count": 15,
     "metadata": {},
     "output_type": "execute_result"
    }
   ],
   "source": [
    "#hide\n",
    "df_table = (pd.DataFrame(dict(Cases=dfc_cases, Deaths=dfc_deaths, PCases=dfp_cases, PDeaths=dfp_deaths))\n",
    "             .sort_values(by=['Cases', 'Deaths'], ascending=[False, False])\n",
    "             .reset_index())\n",
    "df_table.rename(columns={'index': 'Country/Region'}, inplace=True)\n",
    "for c in 'Cases, Deaths'.split(', '):\n",
    "    df_table[f'{c} (+)'] = (df_table[c] - df_table[f'P{c}']).clip(0)  # DATA BUG\n",
    "df_table['Fatality Rate'] = (100 * df_table['Deaths'] / df_table['Cases']).round(1)\n",
    "df_table['Continent'] = df_table['Country/Region'].map(mapping['map.continent'])\n",
    "df_table.head(5)"
   ]
  },
  {
   "cell_type": "code",
   "execution_count": 16,
   "id": "fewer-occasion",
   "metadata": {
    "execution": {
     "iopub.execute_input": "2021-04-05T00:06:39.933260Z",
     "iopub.status.busy": "2021-04-05T00:06:39.932633Z",
     "iopub.status.idle": "2021-04-05T00:06:39.934661Z",
     "shell.execute_reply": "2021-04-05T00:06:39.935196Z"
    },
    "papermill": {
     "duration": 0.047893,
     "end_time": "2021-04-05T00:06:39.935334",
     "exception": false,
     "start_time": "2021-04-05T00:06:39.887441",
     "status": "completed"
    },
    "tags": []
   },
   "outputs": [],
   "source": [
    "#hide\n",
    "#delete problematic countries from table\n",
    "df_table = df_table[~df_table['Country/Region'].isin(['Cape Verde', 'Cruise Ship', 'Kosovo'])]"
   ]
  },
  {
   "cell_type": "code",
   "execution_count": 17,
   "id": "related-center",
   "metadata": {
    "execution": {
     "iopub.execute_input": "2021-04-05T00:06:40.022474Z",
     "iopub.status.busy": "2021-04-05T00:06:40.021796Z",
     "iopub.status.idle": "2021-04-05T00:06:40.032704Z",
     "shell.execute_reply": "2021-04-05T00:06:40.033271Z"
    },
    "papermill": {
     "duration": 0.059527,
     "end_time": "2021-04-05T00:06:40.033395",
     "exception": false,
     "start_time": "2021-04-05T00:06:39.973868",
     "status": "completed"
    },
    "tags": []
   },
   "outputs": [],
   "source": [
    "#hide\n",
    "metrics = [df_table.columns[index] for index in [1,2,5,6]]\n",
    "# s_china = df_table[df_table['Country/Region'].eq('China')][metrics].sum().add_prefix('China ')\n",
    "s_us = df_table[df_table['Country/Region'].eq('US')][metrics].sum().add_prefix('US ')\n",
    "s_eu = df_table[df_table['Continent'].eq('Europe')][metrics].sum().add_prefix('EU ')\n",
    "s_ind = df_table[df_table['Country/Region'].eq('India')][metrics].sum().add_prefix('India ')\n",
    "summary = {'updated': pd.to_datetime(dt_today), 'since': pd.to_datetime(dt_yday)}\n",
    "summary = {'updated': pd.to_datetime(dt_today), 'since': pd.to_datetime(dt_yday)}\n",
    "summary = {**summary, **df_table[metrics].sum(), **s_ind, **s_us, **s_eu}"
   ]
  },
  {
   "cell_type": "code",
   "execution_count": 18,
   "id": "engaging-syndrome",
   "metadata": {
    "execution": {
     "iopub.execute_input": "2021-04-05T00:06:40.115030Z",
     "iopub.status.busy": "2021-04-05T00:06:40.114437Z",
     "iopub.status.idle": "2021-04-05T00:06:40.126136Z",
     "shell.execute_reply": "2021-04-05T00:06:40.126703Z"
    },
    "papermill": {
     "duration": 0.054342,
     "end_time": "2021-04-05T00:06:40.126833",
     "exception": false,
     "start_time": "2021-04-05T00:06:40.072491",
     "status": "completed"
    },
    "tags": []
   },
   "outputs": [],
   "source": [
    "#hide\n",
    "dft_ct_new_cases = dft_cases.groupby(COL_REGION)[dt_cols].sum().diff(axis=1).fillna(0).astype(int)"
   ]
  },
  {
   "cell_type": "code",
   "execution_count": 19,
   "id": "neutral-assignment",
   "metadata": {
    "execution": {
     "iopub.execute_input": "2021-04-05T00:06:40.207312Z",
     "iopub.status.busy": "2021-04-05T00:06:40.206663Z",
     "iopub.status.idle": "2021-04-05T00:06:40.208945Z",
     "shell.execute_reply": "2021-04-05T00:06:40.209539Z"
    },
    "papermill": {
     "duration": 0.044885,
     "end_time": "2021-04-05T00:06:40.209658",
     "exception": false,
     "start_time": "2021-04-05T00:06:40.164773",
     "status": "completed"
    },
    "tags": []
   },
   "outputs": [],
   "source": [
    "#hide\n",
    "everydaycases = dft_ct_new_cases.cumsum(axis=1)"
   ]
  },
  {
   "cell_type": "code",
   "execution_count": 20,
   "id": "parliamentary-calgary",
   "metadata": {
    "execution": {
     "iopub.execute_input": "2021-04-05T00:06:40.287369Z",
     "iopub.status.busy": "2021-04-05T00:06:40.286718Z",
     "iopub.status.idle": "2021-04-05T00:06:42.167845Z",
     "shell.execute_reply": "2021-04-05T00:06:42.167319Z"
    },
    "papermill": {
     "duration": 1.92143,
     "end_time": "2021-04-05T00:06:42.167981",
     "exception": false,
     "start_time": "2021-04-05T00:06:40.246551",
     "status": "completed"
    },
    "tags": []
   },
   "outputs": [],
   "source": [
    "#hide\n",
    "import pandas as pd\n",
    "import matplotlib.pyplot as plt\n",
    "import matplotlib.ticker as ticker\n",
    "import matplotlib.animation as animation\n",
    "from IPython.display import HTML"
   ]
  },
  {
   "cell_type": "code",
   "execution_count": 21,
   "id": "lasting-extraction",
   "metadata": {
    "execution": {
     "iopub.execute_input": "2021-04-05T00:06:42.248236Z",
     "iopub.status.busy": "2021-04-05T00:06:42.247648Z",
     "iopub.status.idle": "2021-04-05T00:06:42.252919Z",
     "shell.execute_reply": "2021-04-05T00:06:42.253473Z"
    },
    "papermill": {
     "duration": 0.047787,
     "end_time": "2021-04-05T00:06:42.253594",
     "exception": false,
     "start_time": "2021-04-05T00:06:42.205807",
     "status": "completed"
    },
    "tags": []
   },
   "outputs": [],
   "source": [
    "#hide\n",
    "t = everydaycases.stack()"
   ]
  },
  {
   "cell_type": "code",
   "execution_count": 22,
   "id": "premier-sleeve",
   "metadata": {
    "execution": {
     "iopub.execute_input": "2021-04-05T00:06:42.335833Z",
     "iopub.status.busy": "2021-04-05T00:06:42.335247Z",
     "iopub.status.idle": "2021-04-05T00:06:42.342425Z",
     "shell.execute_reply": "2021-04-05T00:06:42.343016Z"
    },
    "papermill": {
     "duration": 0.051213,
     "end_time": "2021-04-05T00:06:42.343160",
     "exception": false,
     "start_time": "2021-04-05T00:06:42.291947",
     "status": "completed"
    },
    "tags": []
   },
   "outputs": [],
   "source": [
    "#hide\n",
    "g = t.reset_index(['Country/Region'])"
   ]
  },
  {
   "cell_type": "code",
   "execution_count": 23,
   "id": "distributed-pittsburgh",
   "metadata": {
    "execution": {
     "iopub.execute_input": "2021-04-05T00:06:42.422847Z",
     "iopub.status.busy": "2021-04-05T00:06:42.422186Z",
     "iopub.status.idle": "2021-04-05T00:06:42.424812Z",
     "shell.execute_reply": "2021-04-05T00:06:42.424313Z"
    },
    "papermill": {
     "duration": 0.044476,
     "end_time": "2021-04-05T00:06:42.424924",
     "exception": false,
     "start_time": "2021-04-05T00:06:42.380448",
     "status": "completed"
    },
    "tags": []
   },
   "outputs": [],
   "source": [
    "#hide\n",
    "g.index.name = 'date'"
   ]
  },
  {
   "cell_type": "code",
   "execution_count": 24,
   "id": "naked-donor",
   "metadata": {
    "execution": {
     "iopub.execute_input": "2021-04-05T00:06:42.502132Z",
     "iopub.status.busy": "2021-04-05T00:06:42.501494Z",
     "iopub.status.idle": "2021-04-05T00:06:42.504236Z",
     "shell.execute_reply": "2021-04-05T00:06:42.503773Z"
    },
    "papermill": {
     "duration": 0.042403,
     "end_time": "2021-04-05T00:06:42.504346",
     "exception": false,
     "start_time": "2021-04-05T00:06:42.461943",
     "status": "completed"
    },
    "tags": []
   },
   "outputs": [],
   "source": [
    "# #hide\n",
    "# g = g.reset_index(['date'])"
   ]
  },
  {
   "cell_type": "code",
   "execution_count": 25,
   "id": "incomplete-mustang",
   "metadata": {
    "execution": {
     "iopub.execute_input": "2021-04-05T00:06:42.585300Z",
     "iopub.status.busy": "2021-04-05T00:06:42.584716Z",
     "iopub.status.idle": "2021-04-05T00:06:42.587277Z",
     "shell.execute_reply": "2021-04-05T00:06:42.586531Z"
    },
    "papermill": {
     "duration": 0.043159,
     "end_time": "2021-04-05T00:06:42.587394",
     "exception": false,
     "start_time": "2021-04-05T00:06:42.544235",
     "status": "completed"
    },
    "tags": []
   },
   "outputs": [],
   "source": [
    "#hide\n",
    "# g.head()"
   ]
  },
  {
   "cell_type": "code",
   "execution_count": 26,
   "id": "specific-kruger",
   "metadata": {
    "execution": {
     "iopub.execute_input": "2021-04-05T00:06:42.670211Z",
     "iopub.status.busy": "2021-04-05T00:06:42.669565Z",
     "iopub.status.idle": "2021-04-05T00:06:42.671586Z",
     "shell.execute_reply": "2021-04-05T00:06:42.672083Z"
    },
    "papermill": {
     "duration": 0.045529,
     "end_time": "2021-04-05T00:06:42.672217",
     "exception": false,
     "start_time": "2021-04-05T00:06:42.626688",
     "status": "completed"
    },
    "tags": []
   },
   "outputs": [],
   "source": [
    "#hide\n",
    "# g.columns = ['date','country','cases']"
   ]
  },
  {
   "cell_type": "code",
   "execution_count": 27,
   "id": "tender-conversion",
   "metadata": {
    "execution": {
     "iopub.execute_input": "2021-04-05T00:06:42.751486Z",
     "iopub.status.busy": "2021-04-05T00:06:42.750845Z",
     "iopub.status.idle": "2021-04-05T00:06:42.753401Z",
     "shell.execute_reply": "2021-04-05T00:06:42.752924Z"
    },
    "papermill": {
     "duration": 0.044802,
     "end_time": "2021-04-05T00:06:42.753518",
     "exception": false,
     "start_time": "2021-04-05T00:06:42.708716",
     "status": "completed"
    },
    "tags": []
   },
   "outputs": [],
   "source": [
    "#hide\n",
    "# g['continent'] = g.country"
   ]
  },
  {
   "cell_type": "code",
   "execution_count": 28,
   "id": "substantial-wilderness",
   "metadata": {
    "execution": {
     "iopub.execute_input": "2021-04-05T00:06:42.833655Z",
     "iopub.status.busy": "2021-04-05T00:06:42.832945Z",
     "iopub.status.idle": "2021-04-05T00:06:42.835662Z",
     "shell.execute_reply": "2021-04-05T00:06:42.835160Z"
    },
    "papermill": {
     "duration": 0.04445,
     "end_time": "2021-04-05T00:06:42.835785",
     "exception": false,
     "start_time": "2021-04-05T00:06:42.791335",
     "status": "completed"
    },
    "tags": []
   },
   "outputs": [],
   "source": [
    "#hide\n",
    "# cols = list(g.columns.values)"
   ]
  },
  {
   "cell_type": "code",
   "execution_count": 29,
   "id": "solved-farming",
   "metadata": {
    "execution": {
     "iopub.execute_input": "2021-04-05T00:06:42.918315Z",
     "iopub.status.busy": "2021-04-05T00:06:42.917694Z",
     "iopub.status.idle": "2021-04-05T00:06:42.919814Z",
     "shell.execute_reply": "2021-04-05T00:06:42.920367Z"
    },
    "papermill": {
     "duration": 0.043192,
     "end_time": "2021-04-05T00:06:42.920494",
     "exception": false,
     "start_time": "2021-04-05T00:06:42.877302",
     "status": "completed"
    },
    "tags": []
   },
   "outputs": [],
   "source": [
    "#hide\n",
    "# cols.insert(0, cols.pop())"
   ]
  },
  {
   "cell_type": "code",
   "execution_count": 30,
   "id": "executed-adoption",
   "metadata": {
    "execution": {
     "iopub.execute_input": "2021-04-05T00:06:42.999301Z",
     "iopub.status.busy": "2021-04-05T00:06:42.998572Z",
     "iopub.status.idle": "2021-04-05T00:06:43.001071Z",
     "shell.execute_reply": "2021-04-05T00:06:43.000545Z"
    },
    "papermill": {
     "duration": 0.042651,
     "end_time": "2021-04-05T00:06:43.001208",
     "exception": false,
     "start_time": "2021-04-05T00:06:42.958557",
     "status": "completed"
    },
    "tags": []
   },
   "outputs": [],
   "source": [
    "#hide\n",
    "# g = g[cols]"
   ]
  },
  {
   "cell_type": "code",
   "execution_count": 31,
   "id": "subject-dublin",
   "metadata": {
    "execution": {
     "iopub.execute_input": "2021-04-05T00:06:43.080010Z",
     "iopub.status.busy": "2021-04-05T00:06:43.079416Z",
     "iopub.status.idle": "2021-04-05T00:06:43.081846Z",
     "shell.execute_reply": "2021-04-05T00:06:43.081329Z"
    },
    "papermill": {
     "duration": 0.044306,
     "end_time": "2021-04-05T00:06:43.081956",
     "exception": false,
     "start_time": "2021-04-05T00:06:43.037650",
     "status": "completed"
    },
    "tags": []
   },
   "outputs": [],
   "source": [
    "#hide\n",
    "# g['continent'] = g['continent'].map(mapping['map.continent'])"
   ]
  },
  {
   "cell_type": "code",
   "execution_count": 32,
   "id": "freelance-scout",
   "metadata": {
    "execution": {
     "iopub.execute_input": "2021-04-05T00:06:43.163700Z",
     "iopub.status.busy": "2021-04-05T00:06:43.162990Z",
     "iopub.status.idle": "2021-04-05T00:06:43.165493Z",
     "shell.execute_reply": "2021-04-05T00:06:43.166085Z"
    },
    "papermill": {
     "duration": 0.04597,
     "end_time": "2021-04-05T00:06:43.166372",
     "exception": false,
     "start_time": "2021-04-05T00:06:43.120402",
     "status": "completed"
    },
    "tags": []
   },
   "outputs": [],
   "source": [
    "#hide\n",
    "# g.head()"
   ]
  },
  {
   "cell_type": "code",
   "execution_count": 33,
   "id": "limited-engine",
   "metadata": {
    "execution": {
     "iopub.execute_input": "2021-04-05T00:06:43.247645Z",
     "iopub.status.busy": "2021-04-05T00:06:43.247033Z",
     "iopub.status.idle": "2021-04-05T00:06:43.249134Z",
     "shell.execute_reply": "2021-04-05T00:06:43.249598Z"
    },
    "papermill": {
     "duration": 0.044974,
     "end_time": "2021-04-05T00:06:43.249722",
     "exception": false,
     "start_time": "2021-04-05T00:06:43.204748",
     "status": "completed"
    },
    "tags": []
   },
   "outputs": [],
   "source": [
    "# hide\n",
    "# g['date'] = g['date'].astype('datetime64[ns]')"
   ]
  },
  {
   "cell_type": "code",
   "execution_count": 34,
   "id": "sophisticated-supervisor",
   "metadata": {
    "execution": {
     "iopub.execute_input": "2021-04-05T00:06:43.326710Z",
     "iopub.status.busy": "2021-04-05T00:06:43.325960Z",
     "iopub.status.idle": "2021-04-05T00:06:43.328950Z",
     "shell.execute_reply": "2021-04-05T00:06:43.328480Z"
    },
    "papermill": {
     "duration": 0.041956,
     "end_time": "2021-04-05T00:06:43.329059",
     "exception": false,
     "start_time": "2021-04-05T00:06:43.287103",
     "status": "completed"
    },
    "tags": []
   },
   "outputs": [],
   "source": [
    "#hide\n",
    "# g['date'] = g.date.dt.dayofyear"
   ]
  },
  {
   "cell_type": "code",
   "execution_count": 35,
   "id": "inside-dubai",
   "metadata": {
    "execution": {
     "iopub.execute_input": "2021-04-05T00:06:43.407186Z",
     "iopub.status.busy": "2021-04-05T00:06:43.406601Z",
     "iopub.status.idle": "2021-04-05T00:06:43.408940Z",
     "shell.execute_reply": "2021-04-05T00:06:43.408478Z"
    },
    "papermill": {
     "duration": 0.044426,
     "end_time": "2021-04-05T00:06:43.409051",
     "exception": false,
     "start_time": "2021-04-05T00:06:43.364625",
     "status": "completed"
    },
    "tags": []
   },
   "outputs": [],
   "source": [
    "#hide\n",
    "# g = g.rename(columns= {'continent':'group','country':'name','cases':'value'})"
   ]
  },
  {
   "cell_type": "code",
   "execution_count": 36,
   "id": "fleet-motorcycle",
   "metadata": {
    "execution": {
     "iopub.execute_input": "2021-04-05T00:06:43.488375Z",
     "iopub.status.busy": "2021-04-05T00:06:43.487806Z",
     "iopub.status.idle": "2021-04-05T00:06:43.490454Z",
     "shell.execute_reply": "2021-04-05T00:06:43.489895Z"
    },
    "papermill": {
     "duration": 0.04262,
     "end_time": "2021-04-05T00:06:43.490567",
     "exception": false,
     "start_time": "2021-04-05T00:06:43.447947",
     "status": "completed"
    },
    "tags": []
   },
   "outputs": [],
   "source": [
    "#hide\n",
    "# cols = ['name','group','day','value']"
   ]
  },
  {
   "cell_type": "code",
   "execution_count": 37,
   "id": "continued-sleeping",
   "metadata": {
    "execution": {
     "iopub.execute_input": "2021-04-05T00:06:43.570280Z",
     "iopub.status.busy": "2021-04-05T00:06:43.569618Z",
     "iopub.status.idle": "2021-04-05T00:06:43.572118Z",
     "shell.execute_reply": "2021-04-05T00:06:43.571502Z"
    },
    "papermill": {
     "duration": 0.043459,
     "end_time": "2021-04-05T00:06:43.572227",
     "exception": false,
     "start_time": "2021-04-05T00:06:43.528768",
     "status": "completed"
    },
    "tags": []
   },
   "outputs": [],
   "source": [
    "#hide\n",
    "# g.rename(columns= {'date':'day'},inplace = True)"
   ]
  },
  {
   "cell_type": "code",
   "execution_count": 38,
   "id": "major-fight",
   "metadata": {
    "execution": {
     "iopub.execute_input": "2021-04-05T00:06:43.648473Z",
     "iopub.status.busy": "2021-04-05T00:06:43.647843Z",
     "iopub.status.idle": "2021-04-05T00:06:43.650983Z",
     "shell.execute_reply": "2021-04-05T00:06:43.650401Z"
    },
    "papermill": {
     "duration": 0.043217,
     "end_time": "2021-04-05T00:06:43.651110",
     "exception": false,
     "start_time": "2021-04-05T00:06:43.607893",
     "status": "completed"
    },
    "tags": []
   },
   "outputs": [],
   "source": [
    "#hide\n",
    "# g = g[cols]"
   ]
  },
  {
   "cell_type": "code",
   "execution_count": 39,
   "id": "structured-mobile",
   "metadata": {
    "execution": {
     "iopub.execute_input": "2021-04-05T00:06:43.727505Z",
     "iopub.status.busy": "2021-04-05T00:06:43.726652Z",
     "iopub.status.idle": "2021-04-05T00:06:43.728982Z",
     "shell.execute_reply": "2021-04-05T00:06:43.729506Z"
    },
    "papermill": {
     "duration": 0.042858,
     "end_time": "2021-04-05T00:06:43.729627",
     "exception": false,
     "start_time": "2021-04-05T00:06:43.686769",
     "status": "completed"
    },
    "tags": []
   },
   "outputs": [],
   "source": [
    "# #hide\n",
    "# g = g[g.group.notna()]"
   ]
  },
  {
   "cell_type": "code",
   "execution_count": 40,
   "id": "determined-closing",
   "metadata": {
    "execution": {
     "iopub.execute_input": "2021-04-05T00:06:43.805643Z",
     "iopub.status.busy": "2021-04-05T00:06:43.804907Z",
     "iopub.status.idle": "2021-04-05T00:06:43.807556Z",
     "shell.execute_reply": "2021-04-05T00:06:43.806995Z"
    },
    "papermill": {
     "duration": 0.042159,
     "end_time": "2021-04-05T00:06:43.807679",
     "exception": false,
     "start_time": "2021-04-05T00:06:43.765520",
     "status": "completed"
    },
    "tags": []
   },
   "outputs": [],
   "source": [
    "# #hide\n",
    "# colors = dict(zip(\n",
    "#     [\"Oceania\", \"Europe\", \"Asia\", \"South America\", \"Middle East\", \"North America\", \"Africa\"],\n",
    "#     [\"#adb0ff\", \"#ffb3ff\", \"#90d595\", \"#e48381\", \"#aafbff\", \"#f7bb5f\", \"#eafb50\"]\n",
    "# ))\n",
    "# group_lk = g.set_index('name')['group'].to_dict()"
   ]
  },
  {
   "cell_type": "code",
   "execution_count": null,
   "id": "gross-drinking",
   "metadata": {
    "papermill": {
     "duration": 0.036892,
     "end_time": "2021-04-05T00:06:43.881375",
     "exception": false,
     "start_time": "2021-04-05T00:06:43.844483",
     "status": "completed"
    },
    "tags": []
   },
   "outputs": [],
   "source": []
  },
  {
   "cell_type": "code",
   "execution_count": 41,
   "id": "subject-macintosh",
   "metadata": {
    "execution": {
     "iopub.execute_input": "2021-04-05T00:06:43.960352Z",
     "iopub.status.busy": "2021-04-05T00:06:43.959752Z",
     "iopub.status.idle": "2021-04-05T00:06:43.962355Z",
     "shell.execute_reply": "2021-04-05T00:06:43.961779Z"
    },
    "papermill": {
     "duration": 0.043773,
     "end_time": "2021-04-05T00:06:43.962469",
     "exception": false,
     "start_time": "2021-04-05T00:06:43.918696",
     "status": "completed"
    },
    "tags": []
   },
   "outputs": [],
   "source": [
    "# #hide\n",
    "# fig, ax = plt.subplots(figsize=(15, 8))\n",
    "\n",
    "# def draw_barchart(current_day):\n",
    "#     dff = g[g['day'].eq(current_day)].sort_values(by='value', ascending=True).tail(10)\n",
    "#     ax.clear()\n",
    "#     ax.barh(dff['name'], dff['value'], color=[colors[group_lk[x]] for x in dff['name']])\n",
    "#     dx = dff['value'].max() / 200\n",
    "    \n",
    "#     for i, (value, name) in enumerate(zip(dff['value'], dff['name'])):\n",
    "#         ax.text(value-dx, i,     name,           size=14, weight=600, ha='right', va='bottom')\n",
    "#         ax.text(value-dx, i-.25, group_lk[name], size=10, color='#444444', ha='right', va='baseline')\n",
    "#         ax.text(value+dx, i,     f'{value:,.0f}',  size=14, ha='left',  va='center')\n",
    "#     ax.text(1, 0.4, current_day, transform=ax.transAxes, color='#777777', size=46, ha='right', weight=800)\n",
    "#     ax.text(0, 1.06, 'Population (thousands)', transform=ax.transAxes, size=12, color='#777777')\n",
    "#     ax.xaxis.set_major_formatter(ticker.StrMethodFormatter('{x:,.0f}'))\n",
    "#     ax.xaxis.set_ticks_position('top')\n",
    "#     ax.tick_params(axis='x', colors='#777777', labelsize=12)\n",
    "#     ax.set_yticks([])\n",
    "#     ax.margins(0, 0.01)\n",
    "#     ax.grid(which='major', axis='x', linestyle='-')\n",
    "#     ax.set_axisbelow(True)\n",
    "    \n",
    "#     ax.text(0, 1.15, 'Coronavirus',\n",
    "#             transform=ax.transAxes, size=24, weight=600, ha='left', va='top')\n",
    "# #     ax.text(1, 0, 'by @pratapvardhan; credit @jburnmurdoch', transform=ax.transAxes, color='#777777', ha='right',\n",
    "# #             bbox=dict(facecolor='white', alpha=0.8, edgecolor='white'))\n",
    "#     plt.box(False)"
   ]
  },
  {
   "cell_type": "code",
   "execution_count": 42,
   "id": "sexual-wages",
   "metadata": {
    "execution": {
     "iopub.execute_input": "2021-04-05T00:06:44.039273Z",
     "iopub.status.busy": "2021-04-05T00:06:44.038662Z",
     "iopub.status.idle": "2021-04-05T00:06:44.041603Z",
     "shell.execute_reply": "2021-04-05T00:06:44.042140Z"
    },
    "papermill": {
     "duration": 0.043048,
     "end_time": "2021-04-05T00:06:44.042284",
     "exception": false,
     "start_time": "2021-04-05T00:06:43.999236",
     "status": "completed"
    },
    "tags": []
   },
   "outputs": [],
   "source": [
    "# #hide_input\n",
    "# fig, ax = plt.subplots(figsize=(15, 8))\n",
    "# animator = animation.FuncAnimation(fig, draw_barchart, frames=range(g.day.values.min(), g.day.values.max()))\n",
    "# HTML(animator.to_jshtml())\n",
    "# # or use animator.to_html5_video() or animator.save() "
   ]
  },
  {
   "cell_type": "code",
   "execution_count": null,
   "id": "australian-container",
   "metadata": {
    "papermill": {
     "duration": 0.037236,
     "end_time": "2021-04-05T00:06:44.117339",
     "exception": false,
     "start_time": "2021-04-05T00:06:44.080103",
     "status": "completed"
    },
    "tags": []
   },
   "outputs": [],
   "source": []
  },
  {
   "cell_type": "code",
   "execution_count": null,
   "id": "mediterranean-pontiac",
   "metadata": {
    "papermill": {
     "duration": 0.036242,
     "end_time": "2021-04-05T00:06:44.190785",
     "exception": false,
     "start_time": "2021-04-05T00:06:44.154543",
     "status": "completed"
    },
    "tags": []
   },
   "outputs": [],
   "source": []
  },
  {
   "cell_type": "code",
   "execution_count": null,
   "id": "aging-legislature",
   "metadata": {
    "papermill": {
     "duration": 0.039173,
     "end_time": "2021-04-05T00:06:44.267783",
     "exception": false,
     "start_time": "2021-04-05T00:06:44.228610",
     "status": "completed"
    },
    "tags": []
   },
   "outputs": [],
   "source": []
  }
 ],
 "metadata": {
  "kernelspec": {
   "display_name": "Python 3",
   "language": "python",
   "name": "python3"
  },
  "language_info": {
   "codemirror_mode": {
    "name": "ipython",
    "version": 3
   },
   "file_extension": ".py",
   "mimetype": "text/x-python",
   "name": "python",
   "nbconvert_exporter": "python",
   "pygments_lexer": "ipython3",
   "version": "3.6.13"
  },
  "papermill": {
   "duration": 8.104539,
   "end_time": "2021-04-05T00:06:44.612811",
   "environment_variables": {},
   "exception": null,
   "input_path": "2020-03-21-covid19exp.ipynb",
   "output_path": "2020-03-21-covid19exp.ipynb",
   "parameters": {},
   "start_time": "2021-04-05T00:06:36.508272",
   "version": "2.0.0"
  }
 },
 "nbformat": 4,
 "nbformat_minor": 5
}