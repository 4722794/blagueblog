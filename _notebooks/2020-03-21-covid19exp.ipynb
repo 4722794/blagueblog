{
 "cells": [
  {
   "cell_type": "markdown",
   "id": "muslim-click",
   "metadata": {
    "papermill": {
     "duration": 0.04357,
     "end_time": "2021-06-27T00:23:00.038042",
     "exception": false,
     "start_time": "2021-06-27T00:22:59.994472",
     "status": "completed"
    },
    "tags": []
   },
   "source": [
    "# COVID-19 Case Race\n",
    "> A race chart to see rising cases around the world\n",
    "\n",
    "- author: Hargun Oberoi\n",
    "- image: images/covid-overview.png\n",
    "- hide: false\n",
    "- badges: false"
   ]
  },
  {
   "cell_type": "code",
   "execution_count": 1,
   "id": "proof-material",
   "metadata": {
    "execution": {
     "iopub.execute_input": "2021-06-27T00:23:00.128351Z",
     "iopub.status.busy": "2021-06-27T00:23:00.127631Z",
     "iopub.status.idle": "2021-06-27T00:23:00.515302Z",
     "shell.execute_reply": "2021-06-27T00:23:00.515833Z"
    },
    "papermill": {
     "duration": 0.438613,
     "end_time": "2021-06-27T00:23:00.516049",
     "exception": false,
     "start_time": "2021-06-27T00:23:00.077436",
     "status": "completed"
    },
    "tags": []
   },
   "outputs": [],
   "source": [
    "#hide\n",
    "import numpy as np\n",
    "import pandas as pd\n",
    "from jinja2 import Template\n",
    "from IPython.display import HTML"
   ]
  },
  {
   "cell_type": "code",
   "execution_count": 2,
   "id": "developed-terminology",
   "metadata": {
    "execution": {
     "iopub.execute_input": "2021-06-27T00:23:00.595246Z",
     "iopub.status.busy": "2021-06-27T00:23:00.594615Z",
     "iopub.status.idle": "2021-06-27T00:23:00.597217Z",
     "shell.execute_reply": "2021-06-27T00:23:00.596679Z"
    },
    "papermill": {
     "duration": 0.04257,
     "end_time": "2021-06-27T00:23:00.597389",
     "exception": false,
     "start_time": "2021-06-27T00:23:00.554819",
     "status": "completed"
    },
    "tags": []
   },
   "outputs": [],
   "source": [
    "#hide\n",
    "\n",
    "# FETCH\n",
    "base_url = 'https://raw.githubusercontent.com/pratapvardhan/notebooks/master/covid19/'\n",
    "paths = {\n",
    "    'mapping': base_url + 'mapping_countries.csv',\n",
    "    'overview': base_url + 'overview.tpl'\n",
    "}"
   ]
  },
  {
   "cell_type": "code",
   "execution_count": 3,
   "id": "dynamic-saver",
   "metadata": {
    "execution": {
     "iopub.execute_input": "2021-06-27T00:23:00.682303Z",
     "iopub.status.busy": "2021-06-27T00:23:00.681565Z",
     "iopub.status.idle": "2021-06-27T00:23:00.684033Z",
     "shell.execute_reply": "2021-06-27T00:23:00.684800Z"
    },
    "papermill": {
     "duration": 0.050664,
     "end_time": "2021-06-27T00:23:00.684960",
     "exception": false,
     "start_time": "2021-06-27T00:23:00.634296",
     "status": "completed"
    },
    "tags": []
   },
   "outputs": [
    {
     "data": {
      "text/plain": [
       "'https://raw.githubusercontent.com/pratapvardhan/notebooks/master/covid19/mapping_countries.csv'"
      ]
     },
     "execution_count": 3,
     "metadata": {},
     "output_type": "execute_result"
    }
   ],
   "source": [
    "#hide\n",
    "paths['mapping']"
   ]
  },
  {
   "cell_type": "code",
   "execution_count": 4,
   "id": "urban-software",
   "metadata": {
    "execution": {
     "iopub.execute_input": "2021-06-27T00:23:00.772845Z",
     "iopub.status.busy": "2021-06-27T00:23:00.772057Z",
     "iopub.status.idle": "2021-06-27T00:23:00.774350Z",
     "shell.execute_reply": "2021-06-27T00:23:00.774993Z"
    },
    "papermill": {
     "duration": 0.048647,
     "end_time": "2021-06-27T00:23:00.775138",
     "exception": false,
     "start_time": "2021-06-27T00:23:00.726491",
     "status": "completed"
    },
    "tags": []
   },
   "outputs": [],
   "source": [
    "#hide\n",
    "def get_mappings(url):\n",
    "    df = pd.read_csv(url)\n",
    "    return {\n",
    "        'df': df,\n",
    "        'replace.country': dict(df.dropna(subset=['Name']).set_index('Country')['Name']),\n",
    "        'map.continent': dict(df.set_index('Name')['Continent'])\n",
    "    }"
   ]
  },
  {
   "cell_type": "code",
   "execution_count": 5,
   "id": "intimate-machinery",
   "metadata": {
    "execution": {
     "iopub.execute_input": "2021-06-27T00:23:00.860507Z",
     "iopub.status.busy": "2021-06-27T00:23:00.859709Z",
     "iopub.status.idle": "2021-06-27T00:23:00.900014Z",
     "shell.execute_reply": "2021-06-27T00:23:00.899513Z"
    },
    "papermill": {
     "duration": 0.084923,
     "end_time": "2021-06-27T00:23:00.900136",
     "exception": false,
     "start_time": "2021-06-27T00:23:00.815213",
     "status": "completed"
    },
    "tags": []
   },
   "outputs": [],
   "source": [
    "#hide\n",
    "mapping = get_mappings(paths['mapping'])"
   ]
  },
  {
   "cell_type": "code",
   "execution_count": 6,
   "id": "certified-tactics",
   "metadata": {
    "execution": {
     "iopub.execute_input": "2021-06-27T00:23:00.977869Z",
     "iopub.status.busy": "2021-06-27T00:23:00.977210Z",
     "iopub.status.idle": "2021-06-27T00:23:00.980067Z",
     "shell.execute_reply": "2021-06-27T00:23:00.979524Z"
    },
    "papermill": {
     "duration": 0.042972,
     "end_time": "2021-06-27T00:23:00.980175",
     "exception": false,
     "start_time": "2021-06-27T00:23:00.937203",
     "status": "completed"
    },
    "tags": []
   },
   "outputs": [],
   "source": [
    "#hide\n",
    "def get_template(path):\n",
    "    from urllib.parse import urlparse\n",
    "    if bool(urlparse(path).netloc):\n",
    "        from urllib.request import urlopen\n",
    "        return urlopen(path).read().decode('utf8')\n",
    "    return open(path).read()"
   ]
  },
  {
   "cell_type": "code",
   "execution_count": 7,
   "id": "realistic-blast",
   "metadata": {
    "execution": {
     "iopub.execute_input": "2021-06-27T00:23:01.059604Z",
     "iopub.status.busy": "2021-06-27T00:23:01.058941Z",
     "iopub.status.idle": "2021-06-27T00:23:01.060952Z",
     "shell.execute_reply": "2021-06-27T00:23:01.061526Z"
    },
    "papermill": {
     "duration": 0.04511,
     "end_time": "2021-06-27T00:23:01.061675",
     "exception": false,
     "start_time": "2021-06-27T00:23:01.016565",
     "status": "completed"
    },
    "tags": []
   },
   "outputs": [],
   "source": [
    "#hide\n",
    "def get_frame(name):\n",
    "    url = (\n",
    "        'https://raw.githubusercontent.com/CSSEGISandData/COVID-19/master/csse_covid_19_data/'\n",
    "        f'csse_covid_19_time_series/time_series_covid19_{name}_global.csv')\n",
    "    df = pd.read_csv(url)\n",
    "    # rename countries\n",
    "    df['Country/Region'] = df['Country/Region'].replace(mapping['replace.country'])\n",
    "    return df"
   ]
  },
  {
   "cell_type": "code",
   "execution_count": 8,
   "id": "affiliated-characterization",
   "metadata": {
    "execution": {
     "iopub.execute_input": "2021-06-27T00:23:01.142456Z",
     "iopub.status.busy": "2021-06-27T00:23:01.141863Z",
     "iopub.status.idle": "2021-06-27T00:23:01.144206Z",
     "shell.execute_reply": "2021-06-27T00:23:01.143583Z"
    },
    "papermill": {
     "duration": 0.045031,
     "end_time": "2021-06-27T00:23:01.144348",
     "exception": false,
     "start_time": "2021-06-27T00:23:01.099317",
     "status": "completed"
    },
    "tags": []
   },
   "outputs": [],
   "source": [
    "#hide\n",
    "def get_dates(df):\n",
    "    dt_cols = df.columns[~df.columns.isin(['Province/State', 'Country/Region', 'Lat', 'Long'])]\n",
    "    LAST_DATE_I = -1\n",
    "    # sometimes last column may be empty, then go backwards\n",
    "    for i in range(-1, -len(dt_cols), -1):\n",
    "        if not df[dt_cols[i]].fillna(0).eq(0).all():\n",
    "            LAST_DATE_I = i\n",
    "            break\n",
    "    return LAST_DATE_I, dt_cols"
   ]
  },
  {
   "cell_type": "code",
   "execution_count": 9,
   "id": "recent-optimization",
   "metadata": {
    "execution": {
     "iopub.execute_input": "2021-06-27T00:23:01.223834Z",
     "iopub.status.busy": "2021-06-27T00:23:01.223045Z",
     "iopub.status.idle": "2021-06-27T00:23:01.669578Z",
     "shell.execute_reply": "2021-06-27T00:23:01.669071Z"
    },
    "papermill": {
     "duration": 0.489176,
     "end_time": "2021-06-27T00:23:01.669708",
     "exception": false,
     "start_time": "2021-06-27T00:23:01.180532",
     "status": "completed"
    },
    "tags": []
   },
   "outputs": [],
   "source": [
    "#hide\n",
    "COL_REGION = 'Country/Region'\n",
    "# Confirmed, Recovered, Deaths\n",
    "df = get_frame('confirmed')\n",
    "# dft_: timeseries, dfc_: today country agg\n",
    "dft_cases = df\n",
    "dft_deaths = get_frame('deaths')\n",
    "dft_recovered = get_frame('recovered')\n",
    "LAST_DATE_I, dt_cols = get_dates(df)"
   ]
  },
  {
   "cell_type": "code",
   "execution_count": 10,
   "id": "absolute-copper",
   "metadata": {
    "execution": {
     "iopub.execute_input": "2021-06-27T00:23:01.750234Z",
     "iopub.status.busy": "2021-06-27T00:23:01.749581Z",
     "iopub.status.idle": "2021-06-27T00:23:01.752034Z",
     "shell.execute_reply": "2021-06-27T00:23:01.751474Z"
    },
    "papermill": {
     "duration": 0.044469,
     "end_time": "2021-06-27T00:23:01.752174",
     "exception": false,
     "start_time": "2021-06-27T00:23:01.707705",
     "status": "completed"
    },
    "tags": []
   },
   "outputs": [],
   "source": [
    "#hide\n",
    "LAST_DATE_I, dt_cols = get_dates(df)\n",
    "dt_today =dt_cols[LAST_DATE_I]\n",
    "# dt_5day = dt_cols[LAST_DATE_I - 5]\n",
    "dt_yday = dt_cols[LAST_DATE_I - 1]"
   ]
  },
  {
   "cell_type": "code",
   "execution_count": 11,
   "id": "restricted-sheriff",
   "metadata": {
    "execution": {
     "iopub.execute_input": "2021-06-27T00:23:01.832282Z",
     "iopub.status.busy": "2021-06-27T00:23:01.831215Z",
     "iopub.status.idle": "2021-06-27T00:23:01.838593Z",
     "shell.execute_reply": "2021-06-27T00:23:01.839049Z"
    },
    "papermill": {
     "duration": 0.051725,
     "end_time": "2021-06-27T00:23:01.839201",
     "exception": false,
     "start_time": "2021-06-27T00:23:01.787476",
     "status": "completed"
    },
    "tags": []
   },
   "outputs": [],
   "source": [
    "#hide\n",
    "dfc_cases = dft_cases.groupby(COL_REGION)[dt_today].sum()\n",
    "dfc_deaths = dft_deaths.groupby(COL_REGION)[dt_today].sum()\n",
    "# dfp_cases = dft_cases.groupby(COL_REGION)[dt_5day].sum()\n",
    "# dfp_deaths = dft_deaths.groupby(COL_REGION)[dt_5day].sum()\n",
    "dfp_cases = dft_cases.groupby(COL_REGION)[dt_yday].sum()\n",
    "dfp_deaths = dft_deaths.groupby(COL_REGION)[dt_yday].sum()"
   ]
  },
  {
   "cell_type": "code",
   "execution_count": 12,
   "id": "deluxe-hepatitis",
   "metadata": {
    "execution": {
     "iopub.execute_input": "2021-06-27T00:23:01.921766Z",
     "iopub.status.busy": "2021-06-27T00:23:01.921079Z",
     "iopub.status.idle": "2021-06-27T00:23:01.927132Z",
     "shell.execute_reply": "2021-06-27T00:23:01.927707Z"
    },
    "papermill": {
     "duration": 0.050772,
     "end_time": "2021-06-27T00:23:01.927861",
     "exception": false,
     "start_time": "2021-06-27T00:23:01.877089",
     "status": "completed"
    },
    "tags": []
   },
   "outputs": [],
   "source": [
    "#hide\n",
    "df_table = (pd.DataFrame(dict(Cases = dfc_cases, Deaths = dfc_deaths, PCases = dfp_cases, PDeaths = dfp_deaths))\n",
    "            .sort_values(by = ['Cases','Deaths'], ascending = [False, False])\n",
    "            .reset_index())"
   ]
  },
  {
   "cell_type": "code",
   "execution_count": 13,
   "id": "educational-chancellor",
   "metadata": {
    "execution": {
     "iopub.execute_input": "2021-06-27T00:23:02.020602Z",
     "iopub.status.busy": "2021-06-27T00:23:02.020012Z",
     "iopub.status.idle": "2021-06-27T00:23:02.029749Z",
     "shell.execute_reply": "2021-06-27T00:23:02.029115Z"
    },
    "papermill": {
     "duration": 0.065287,
     "end_time": "2021-06-27T00:23:02.029906",
     "exception": false,
     "start_time": "2021-06-27T00:23:01.964619",
     "status": "completed"
    },
    "tags": []
   },
   "outputs": [
    {
     "data": {
      "text/html": [
       "<div>\n",
       "<style scoped>\n",
       "    .dataframe tbody tr th:only-of-type {\n",
       "        vertical-align: middle;\n",
       "    }\n",
       "\n",
       "    .dataframe tbody tr th {\n",
       "        vertical-align: top;\n",
       "    }\n",
       "\n",
       "    .dataframe thead th {\n",
       "        text-align: right;\n",
       "    }\n",
       "</style>\n",
       "<table border=\"1\" class=\"dataframe\">\n",
       "  <thead>\n",
       "    <tr style=\"text-align: right;\">\n",
       "      <th></th>\n",
       "      <th>Country/Region</th>\n",
       "      <th>Cases</th>\n",
       "      <th>Deaths</th>\n",
       "      <th>PCases</th>\n",
       "      <th>PDeaths</th>\n",
       "      <th>Cases (+)</th>\n",
       "      <th>Deaths (+)</th>\n",
       "      <th>Fatality Rate</th>\n",
       "      <th>Continent</th>\n",
       "    </tr>\n",
       "  </thead>\n",
       "  <tbody>\n",
       "    <tr>\n",
       "      <th>0</th>\n",
       "      <td>US</td>\n",
       "      <td>33603148</td>\n",
       "      <td>603527</td>\n",
       "      <td>33590481</td>\n",
       "      <td>603178</td>\n",
       "      <td>12667</td>\n",
       "      <td>349</td>\n",
       "      <td>1.80</td>\n",
       "      <td>North America</td>\n",
       "    </tr>\n",
       "    <tr>\n",
       "      <th>1</th>\n",
       "      <td>India</td>\n",
       "      <td>30183143</td>\n",
       "      <td>394493</td>\n",
       "      <td>30134445</td>\n",
       "      <td>393310</td>\n",
       "      <td>48698</td>\n",
       "      <td>1183</td>\n",
       "      <td>1.31</td>\n",
       "      <td>Asia</td>\n",
       "    </tr>\n",
       "    <tr>\n",
       "      <th>2</th>\n",
       "      <td>Brazil</td>\n",
       "      <td>18322760</td>\n",
       "      <td>511142</td>\n",
       "      <td>18243483</td>\n",
       "      <td>509141</td>\n",
       "      <td>79277</td>\n",
       "      <td>2001</td>\n",
       "      <td>2.79</td>\n",
       "      <td>South America</td>\n",
       "    </tr>\n",
       "    <tr>\n",
       "      <th>3</th>\n",
       "      <td>France</td>\n",
       "      <td>5828266</td>\n",
       "      <td>111101</td>\n",
       "      <td>5826278</td>\n",
       "      <td>111068</td>\n",
       "      <td>1988</td>\n",
       "      <td>33</td>\n",
       "      <td>1.91</td>\n",
       "      <td>Europe</td>\n",
       "    </tr>\n",
       "    <tr>\n",
       "      <th>4</th>\n",
       "      <td>Turkey</td>\n",
       "      <td>5398878</td>\n",
       "      <td>49473</td>\n",
       "      <td>5393248</td>\n",
       "      <td>49417</td>\n",
       "      <td>5630</td>\n",
       "      <td>56</td>\n",
       "      <td>0.92</td>\n",
       "      <td>Asia</td>\n",
       "    </tr>\n",
       "  </tbody>\n",
       "</table>\n",
       "</div>"
      ],
      "text/plain": [
       "  Country/Region     Cases  Deaths    PCases  PDeaths  Cases (+)  Deaths (+)  \\\n",
       "0             US  33603148  603527  33590481   603178      12667         349   \n",
       "1          India  30183143  394493  30134445   393310      48698        1183   \n",
       "2         Brazil  18322760  511142  18243483   509141      79277        2001   \n",
       "3         France   5828266  111101   5826278   111068       1988          33   \n",
       "4         Turkey   5398878   49473   5393248    49417       5630          56   \n",
       "\n",
       "   Fatality Rate      Continent  \n",
       "0           1.80  North America  \n",
       "1           1.31           Asia  \n",
       "2           2.79  South America  \n",
       "3           1.91         Europe  \n",
       "4           0.92           Asia  "
      ]
     },
     "execution_count": 13,
     "metadata": {},
     "output_type": "execute_result"
    }
   ],
   "source": [
    "#hide\n",
    "for c in 'Cases, Deaths'.split(', '):\n",
    "    df_table[f'{c} (+)'] = (df_table[c] - df_table[f'P{c}']).clip(0)\n",
    "    #Clip ça veut dire, les chiffres negatif sont interdit\n",
    "df_table['Fatality Rate'] = (100* df_table['Deaths']/ df_table['Cases']).round(2)\n",
    "df_table['Continent'] = df_table['Country/Region'].map(mapping['map.continent'])\n",
    "df_table.head(5)"
   ]
  },
  {
   "cell_type": "code",
   "execution_count": 14,
   "id": "aboriginal-bulgaria",
   "metadata": {
    "execution": {
     "iopub.execute_input": "2021-06-27T00:23:02.108331Z",
     "iopub.status.busy": "2021-06-27T00:23:02.107597Z",
     "iopub.status.idle": "2021-06-27T00:23:02.110392Z",
     "shell.execute_reply": "2021-06-27T00:23:02.110922Z"
    },
    "papermill": {
     "duration": 0.043744,
     "end_time": "2021-06-27T00:23:02.111050",
     "exception": false,
     "start_time": "2021-06-27T00:23:02.067306",
     "status": "completed"
    },
    "tags": []
   },
   "outputs": [],
   "source": [
    "#hide\n",
    "#delete problematic countries from table\n",
    "df_table = df_table[~df_table['Country/Region'].isin(['Cape Verde', 'Cruise Ship', 'Kosovo'])]"
   ]
  },
  {
   "cell_type": "code",
   "execution_count": 15,
   "id": "fantastic-effect",
   "metadata": {
    "execution": {
     "iopub.execute_input": "2021-06-27T00:23:02.190174Z",
     "iopub.status.busy": "2021-06-27T00:23:02.189548Z",
     "iopub.status.idle": "2021-06-27T00:23:02.211514Z",
     "shell.execute_reply": "2021-06-27T00:23:02.210930Z"
    },
    "papermill": {
     "duration": 0.066111,
     "end_time": "2021-06-27T00:23:02.211700",
     "exception": false,
     "start_time": "2021-06-27T00:23:02.145589",
     "status": "completed"
    },
    "tags": []
   },
   "outputs": [
    {
     "data": {
      "text/html": [
       "<div>\n",
       "<style scoped>\n",
       "    .dataframe tbody tr th:only-of-type {\n",
       "        vertical-align: middle;\n",
       "    }\n",
       "\n",
       "    .dataframe tbody tr th {\n",
       "        vertical-align: top;\n",
       "    }\n",
       "\n",
       "    .dataframe thead th {\n",
       "        text-align: right;\n",
       "    }\n",
       "</style>\n",
       "<table border=\"1\" class=\"dataframe\">\n",
       "  <thead>\n",
       "    <tr style=\"text-align: right;\">\n",
       "      <th></th>\n",
       "      <th>Country/Region</th>\n",
       "      <th>Cases</th>\n",
       "      <th>Deaths</th>\n",
       "      <th>PCases</th>\n",
       "      <th>PDeaths</th>\n",
       "      <th>Cases (+)</th>\n",
       "      <th>Deaths (+)</th>\n",
       "      <th>Fatality Rate</th>\n",
       "      <th>Continent</th>\n",
       "    </tr>\n",
       "  </thead>\n",
       "  <tbody>\n",
       "    <tr>\n",
       "      <th>0</th>\n",
       "      <td>US</td>\n",
       "      <td>33603148</td>\n",
       "      <td>603527</td>\n",
       "      <td>33590481</td>\n",
       "      <td>603178</td>\n",
       "      <td>12667</td>\n",
       "      <td>349</td>\n",
       "      <td>1.8</td>\n",
       "      <td>North America</td>\n",
       "    </tr>\n",
       "    <tr>\n",
       "      <th>1</th>\n",
       "      <td>India</td>\n",
       "      <td>30183143</td>\n",
       "      <td>394493</td>\n",
       "      <td>30134445</td>\n",
       "      <td>393310</td>\n",
       "      <td>48698</td>\n",
       "      <td>1183</td>\n",
       "      <td>1.3</td>\n",
       "      <td>Asia</td>\n",
       "    </tr>\n",
       "    <tr>\n",
       "      <th>2</th>\n",
       "      <td>Brazil</td>\n",
       "      <td>18322760</td>\n",
       "      <td>511142</td>\n",
       "      <td>18243483</td>\n",
       "      <td>509141</td>\n",
       "      <td>79277</td>\n",
       "      <td>2001</td>\n",
       "      <td>2.8</td>\n",
       "      <td>South America</td>\n",
       "    </tr>\n",
       "    <tr>\n",
       "      <th>3</th>\n",
       "      <td>France</td>\n",
       "      <td>5828266</td>\n",
       "      <td>111101</td>\n",
       "      <td>5826278</td>\n",
       "      <td>111068</td>\n",
       "      <td>1988</td>\n",
       "      <td>33</td>\n",
       "      <td>1.9</td>\n",
       "      <td>Europe</td>\n",
       "    </tr>\n",
       "    <tr>\n",
       "      <th>4</th>\n",
       "      <td>Turkey</td>\n",
       "      <td>5398878</td>\n",
       "      <td>49473</td>\n",
       "      <td>5393248</td>\n",
       "      <td>49417</td>\n",
       "      <td>5630</td>\n",
       "      <td>56</td>\n",
       "      <td>0.9</td>\n",
       "      <td>Asia</td>\n",
       "    </tr>\n",
       "  </tbody>\n",
       "</table>\n",
       "</div>"
      ],
      "text/plain": [
       "  Country/Region     Cases  Deaths    PCases  PDeaths  Cases (+)  Deaths (+)  \\\n",
       "0             US  33603148  603527  33590481   603178      12667         349   \n",
       "1          India  30183143  394493  30134445   393310      48698        1183   \n",
       "2         Brazil  18322760  511142  18243483   509141      79277        2001   \n",
       "3         France   5828266  111101   5826278   111068       1988          33   \n",
       "4         Turkey   5398878   49473   5393248    49417       5630          56   \n",
       "\n",
       "   Fatality Rate      Continent  \n",
       "0            1.8  North America  \n",
       "1            1.3           Asia  \n",
       "2            2.8  South America  \n",
       "3            1.9         Europe  \n",
       "4            0.9           Asia  "
      ]
     },
     "execution_count": 15,
     "metadata": {},
     "output_type": "execute_result"
    }
   ],
   "source": [
    "#hide\n",
    "df_table = (pd.DataFrame(dict(Cases=dfc_cases, Deaths=dfc_deaths, PCases=dfp_cases, PDeaths=dfp_deaths))\n",
    "             .sort_values(by=['Cases', 'Deaths'], ascending=[False, False])\n",
    "             .reset_index())\n",
    "df_table.rename(columns={'index': 'Country/Region'}, inplace=True)\n",
    "for c in 'Cases, Deaths'.split(', '):\n",
    "    df_table[f'{c} (+)'] = (df_table[c] - df_table[f'P{c}']).clip(0)  # DATA BUG\n",
    "df_table['Fatality Rate'] = (100 * df_table['Deaths'] / df_table['Cases']).round(1)\n",
    "df_table['Continent'] = df_table['Country/Region'].map(mapping['map.continent'])\n",
    "df_table.head(5)"
   ]
  },
  {
   "cell_type": "code",
   "execution_count": 16,
   "id": "fewer-occasion",
   "metadata": {
    "execution": {
     "iopub.execute_input": "2021-06-27T00:23:02.291071Z",
     "iopub.status.busy": "2021-06-27T00:23:02.290373Z",
     "iopub.status.idle": "2021-06-27T00:23:02.297339Z",
     "shell.execute_reply": "2021-06-27T00:23:02.296775Z"
    },
    "papermill": {
     "duration": 0.048372,
     "end_time": "2021-06-27T00:23:02.297483",
     "exception": false,
     "start_time": "2021-06-27T00:23:02.249111",
     "status": "completed"
    },
    "tags": []
   },
   "outputs": [],
   "source": [
    "#hide\n",
    "#delete problematic countries from table\n",
    "df_table = df_table[~df_table['Country/Region'].isin(['Cape Verde', 'Cruise Ship', 'Kosovo'])]"
   ]
  },
  {
   "cell_type": "code",
   "execution_count": 17,
   "id": "related-center",
   "metadata": {
    "execution": {
     "iopub.execute_input": "2021-06-27T00:23:02.389492Z",
     "iopub.status.busy": "2021-06-27T00:23:02.388540Z",
     "iopub.status.idle": "2021-06-27T00:23:02.397327Z",
     "shell.execute_reply": "2021-06-27T00:23:02.397864Z"
    },
    "papermill": {
     "duration": 0.062253,
     "end_time": "2021-06-27T00:23:02.398008",
     "exception": false,
     "start_time": "2021-06-27T00:23:02.335755",
     "status": "completed"
    },
    "tags": []
   },
   "outputs": [],
   "source": [
    "#hide\n",
    "metrics = [df_table.columns[index] for index in [1,2,5,6]]\n",
    "# s_china = df_table[df_table['Country/Region'].eq('China')][metrics].sum().add_prefix('China ')\n",
    "s_us = df_table[df_table['Country/Region'].eq('US')][metrics].sum().add_prefix('US ')\n",
    "s_eu = df_table[df_table['Continent'].eq('Europe')][metrics].sum().add_prefix('EU ')\n",
    "s_ind = df_table[df_table['Country/Region'].eq('India')][metrics].sum().add_prefix('India ')\n",
    "summary = {'updated': pd.to_datetime(dt_today), 'since': pd.to_datetime(dt_yday)}\n",
    "summary = {'updated': pd.to_datetime(dt_today), 'since': pd.to_datetime(dt_yday)}\n",
    "summary = {**summary, **df_table[metrics].sum(), **s_ind, **s_us, **s_eu}"
   ]
  },
  {
   "cell_type": "code",
   "execution_count": 18,
   "id": "engaging-syndrome",
   "metadata": {
    "execution": {
     "iopub.execute_input": "2021-06-27T00:23:02.483222Z",
     "iopub.status.busy": "2021-06-27T00:23:02.482546Z",
     "iopub.status.idle": "2021-06-27T00:23:02.495511Z",
     "shell.execute_reply": "2021-06-27T00:23:02.494989Z"
    },
    "papermill": {
     "duration": 0.05786,
     "end_time": "2021-06-27T00:23:02.495647",
     "exception": false,
     "start_time": "2021-06-27T00:23:02.437787",
     "status": "completed"
    },
    "tags": []
   },
   "outputs": [],
   "source": [
    "#hide\n",
    "dft_ct_new_cases = dft_cases.groupby(COL_REGION)[dt_cols].sum().diff(axis=1).fillna(0).astype(int)"
   ]
  },
  {
   "cell_type": "code",
   "execution_count": 19,
   "id": "neutral-assignment",
   "metadata": {
    "execution": {
     "iopub.execute_input": "2021-06-27T00:23:02.579723Z",
     "iopub.status.busy": "2021-06-27T00:23:02.579021Z",
     "iopub.status.idle": "2021-06-27T00:23:02.581170Z",
     "shell.execute_reply": "2021-06-27T00:23:02.581744Z"
    },
    "papermill": {
     "duration": 0.046901,
     "end_time": "2021-06-27T00:23:02.581887",
     "exception": false,
     "start_time": "2021-06-27T00:23:02.534986",
     "status": "completed"
    },
    "tags": []
   },
   "outputs": [],
   "source": [
    "#hide\n",
    "everydaycases = dft_ct_new_cases.cumsum(axis=1)"
   ]
  },
  {
   "cell_type": "code",
   "execution_count": 20,
   "id": "parliamentary-calgary",
   "metadata": {
    "execution": {
     "iopub.execute_input": "2021-06-27T00:23:02.661895Z",
     "iopub.status.busy": "2021-06-27T00:23:02.661345Z",
     "iopub.status.idle": "2021-06-27T00:23:03.556409Z",
     "shell.execute_reply": "2021-06-27T00:23:03.555835Z"
    },
    "papermill": {
     "duration": 0.937977,
     "end_time": "2021-06-27T00:23:03.556588",
     "exception": false,
     "start_time": "2021-06-27T00:23:02.618611",
     "status": "completed"
    },
    "tags": []
   },
   "outputs": [],
   "source": [
    "#hide\n",
    "import pandas as pd\n",
    "import matplotlib.pyplot as plt\n",
    "import matplotlib.ticker as ticker\n",
    "import matplotlib.animation as animation\n",
    "from IPython.display import HTML"
   ]
  },
  {
   "cell_type": "code",
   "execution_count": 21,
   "id": "lasting-extraction",
   "metadata": {
    "execution": {
     "iopub.execute_input": "2021-06-27T00:23:03.644275Z",
     "iopub.status.busy": "2021-06-27T00:23:03.643639Z",
     "iopub.status.idle": "2021-06-27T00:23:03.650497Z",
     "shell.execute_reply": "2021-06-27T00:23:03.651110Z"
    },
    "papermill": {
     "duration": 0.052823,
     "end_time": "2021-06-27T00:23:03.651265",
     "exception": false,
     "start_time": "2021-06-27T00:23:03.598442",
     "status": "completed"
    },
    "tags": []
   },
   "outputs": [],
   "source": [
    "#hide\n",
    "t = everydaycases.stack()"
   ]
  },
  {
   "cell_type": "code",
   "execution_count": 22,
   "id": "premier-sleeve",
   "metadata": {
    "execution": {
     "iopub.execute_input": "2021-06-27T00:23:03.731963Z",
     "iopub.status.busy": "2021-06-27T00:23:03.731285Z",
     "iopub.status.idle": "2021-06-27T00:23:03.740432Z",
     "shell.execute_reply": "2021-06-27T00:23:03.739922Z"
    },
    "papermill": {
     "duration": 0.051085,
     "end_time": "2021-06-27T00:23:03.740558",
     "exception": false,
     "start_time": "2021-06-27T00:23:03.689473",
     "status": "completed"
    },
    "tags": []
   },
   "outputs": [],
   "source": [
    "#hide\n",
    "g = t.reset_index(['Country/Region'])"
   ]
  },
  {
   "cell_type": "code",
   "execution_count": 23,
   "id": "distributed-pittsburgh",
   "metadata": {
    "execution": {
     "iopub.execute_input": "2021-06-27T00:23:03.821215Z",
     "iopub.status.busy": "2021-06-27T00:23:03.820565Z",
     "iopub.status.idle": "2021-06-27T00:23:03.822741Z",
     "shell.execute_reply": "2021-06-27T00:23:03.822167Z"
    },
    "papermill": {
     "duration": 0.044044,
     "end_time": "2021-06-27T00:23:03.822852",
     "exception": false,
     "start_time": "2021-06-27T00:23:03.778808",
     "status": "completed"
    },
    "tags": []
   },
   "outputs": [],
   "source": [
    "#hide\n",
    "g.index.name = 'date'"
   ]
  },
  {
   "cell_type": "code",
   "execution_count": 24,
   "id": "naked-donor",
   "metadata": {
    "execution": {
     "iopub.execute_input": "2021-06-27T00:23:03.900735Z",
     "iopub.status.busy": "2021-06-27T00:23:03.900146Z",
     "iopub.status.idle": "2021-06-27T00:23:03.902890Z",
     "shell.execute_reply": "2021-06-27T00:23:03.902219Z"
    },
    "papermill": {
     "duration": 0.042188,
     "end_time": "2021-06-27T00:23:03.903095",
     "exception": false,
     "start_time": "2021-06-27T00:23:03.860907",
     "status": "completed"
    },
    "tags": []
   },
   "outputs": [],
   "source": [
    "# #hide\n",
    "# g = g.reset_index(['date'])"
   ]
  },
  {
   "cell_type": "code",
   "execution_count": 25,
   "id": "incomplete-mustang",
   "metadata": {
    "execution": {
     "iopub.execute_input": "2021-06-27T00:23:03.983174Z",
     "iopub.status.busy": "2021-06-27T00:23:03.982353Z",
     "iopub.status.idle": "2021-06-27T00:23:03.984997Z",
     "shell.execute_reply": "2021-06-27T00:23:03.984521Z"
    },
    "papermill": {
     "duration": 0.043869,
     "end_time": "2021-06-27T00:23:03.985106",
     "exception": false,
     "start_time": "2021-06-27T00:23:03.941237",
     "status": "completed"
    },
    "tags": []
   },
   "outputs": [],
   "source": [
    "#hide\n",
    "# g.head()"
   ]
  },
  {
   "cell_type": "code",
   "execution_count": 26,
   "id": "specific-kruger",
   "metadata": {
    "execution": {
     "iopub.execute_input": "2021-06-27T00:23:04.067768Z",
     "iopub.status.busy": "2021-06-27T00:23:04.067182Z",
     "iopub.status.idle": "2021-06-27T00:23:04.069559Z",
     "shell.execute_reply": "2021-06-27T00:23:04.069048Z"
    },
    "papermill": {
     "duration": 0.046937,
     "end_time": "2021-06-27T00:23:04.069676",
     "exception": false,
     "start_time": "2021-06-27T00:23:04.022739",
     "status": "completed"
    },
    "tags": []
   },
   "outputs": [],
   "source": [
    "#hide\n",
    "# g.columns = ['date','country','cases']"
   ]
  },
  {
   "cell_type": "code",
   "execution_count": 27,
   "id": "tender-conversion",
   "metadata": {
    "execution": {
     "iopub.execute_input": "2021-06-27T00:23:04.148367Z",
     "iopub.status.busy": "2021-06-27T00:23:04.147764Z",
     "iopub.status.idle": "2021-06-27T00:23:04.150325Z",
     "shell.execute_reply": "2021-06-27T00:23:04.149851Z"
    },
    "papermill": {
     "duration": 0.044283,
     "end_time": "2021-06-27T00:23:04.150429",
     "exception": false,
     "start_time": "2021-06-27T00:23:04.106146",
     "status": "completed"
    },
    "tags": []
   },
   "outputs": [],
   "source": [
    "#hide\n",
    "# g['continent'] = g.country"
   ]
  },
  {
   "cell_type": "code",
   "execution_count": 28,
   "id": "substantial-wilderness",
   "metadata": {
    "execution": {
     "iopub.execute_input": "2021-06-27T00:23:04.230678Z",
     "iopub.status.busy": "2021-06-27T00:23:04.230033Z",
     "iopub.status.idle": "2021-06-27T00:23:04.232687Z",
     "shell.execute_reply": "2021-06-27T00:23:04.232146Z"
    },
    "papermill": {
     "duration": 0.043277,
     "end_time": "2021-06-27T00:23:04.232835",
     "exception": false,
     "start_time": "2021-06-27T00:23:04.189558",
     "status": "completed"
    },
    "tags": []
   },
   "outputs": [],
   "source": [
    "#hide\n",
    "# cols = list(g.columns.values)"
   ]
  },
  {
   "cell_type": "code",
   "execution_count": 29,
   "id": "solved-farming",
   "metadata": {
    "execution": {
     "iopub.execute_input": "2021-06-27T00:23:04.313871Z",
     "iopub.status.busy": "2021-06-27T00:23:04.313237Z",
     "iopub.status.idle": "2021-06-27T00:23:04.315701Z",
     "shell.execute_reply": "2021-06-27T00:23:04.315199Z"
    },
    "papermill": {
     "duration": 0.044391,
     "end_time": "2021-06-27T00:23:04.315813",
     "exception": false,
     "start_time": "2021-06-27T00:23:04.271422",
     "status": "completed"
    },
    "tags": []
   },
   "outputs": [],
   "source": [
    "#hide\n",
    "# cols.insert(0, cols.pop())"
   ]
  },
  {
   "cell_type": "code",
   "execution_count": 30,
   "id": "executed-adoption",
   "metadata": {
    "execution": {
     "iopub.execute_input": "2021-06-27T00:23:04.396865Z",
     "iopub.status.busy": "2021-06-27T00:23:04.396224Z",
     "iopub.status.idle": "2021-06-27T00:23:04.398888Z",
     "shell.execute_reply": "2021-06-27T00:23:04.398187Z"
    },
    "papermill": {
     "duration": 0.04629,
     "end_time": "2021-06-27T00:23:04.399010",
     "exception": false,
     "start_time": "2021-06-27T00:23:04.352720",
     "status": "completed"
    },
    "tags": []
   },
   "outputs": [],
   "source": [
    "#hide\n",
    "# g = g[cols]"
   ]
  },
  {
   "cell_type": "code",
   "execution_count": 31,
   "id": "subject-dublin",
   "metadata": {
    "execution": {
     "iopub.execute_input": "2021-06-27T00:23:04.477604Z",
     "iopub.status.busy": "2021-06-27T00:23:04.476988Z",
     "iopub.status.idle": "2021-06-27T00:23:04.480154Z",
     "shell.execute_reply": "2021-06-27T00:23:04.479384Z"
    },
    "papermill": {
     "duration": 0.043519,
     "end_time": "2021-06-27T00:23:04.480307",
     "exception": false,
     "start_time": "2021-06-27T00:23:04.436788",
     "status": "completed"
    },
    "tags": []
   },
   "outputs": [],
   "source": [
    "#hide\n",
    "# g['continent'] = g['continent'].map(mapping['map.continent'])"
   ]
  },
  {
   "cell_type": "code",
   "execution_count": 32,
   "id": "freelance-scout",
   "metadata": {
    "execution": {
     "iopub.execute_input": "2021-06-27T00:23:04.557300Z",
     "iopub.status.busy": "2021-06-27T00:23:04.556559Z",
     "iopub.status.idle": "2021-06-27T00:23:04.559161Z",
     "shell.execute_reply": "2021-06-27T00:23:04.558660Z"
    },
    "papermill": {
     "duration": 0.043441,
     "end_time": "2021-06-27T00:23:04.559282",
     "exception": false,
     "start_time": "2021-06-27T00:23:04.515841",
     "status": "completed"
    },
    "tags": []
   },
   "outputs": [],
   "source": [
    "#hide\n",
    "# g.head()"
   ]
  },
  {
   "cell_type": "code",
   "execution_count": 33,
   "id": "limited-engine",
   "metadata": {
    "execution": {
     "iopub.execute_input": "2021-06-27T00:23:04.639217Z",
     "iopub.status.busy": "2021-06-27T00:23:04.638508Z",
     "iopub.status.idle": "2021-06-27T00:23:04.641391Z",
     "shell.execute_reply": "2021-06-27T00:23:04.640551Z"
    },
    "papermill": {
     "duration": 0.045619,
     "end_time": "2021-06-27T00:23:04.641511",
     "exception": false,
     "start_time": "2021-06-27T00:23:04.595892",
     "status": "completed"
    },
    "tags": []
   },
   "outputs": [],
   "source": [
    "# hide\n",
    "# g['date'] = g['date'].astype('datetime64[ns]')"
   ]
  },
  {
   "cell_type": "code",
   "execution_count": 34,
   "id": "sophisticated-supervisor",
   "metadata": {
    "execution": {
     "iopub.execute_input": "2021-06-27T00:23:04.725654Z",
     "iopub.status.busy": "2021-06-27T00:23:04.724949Z",
     "iopub.status.idle": "2021-06-27T00:23:04.726955Z",
     "shell.execute_reply": "2021-06-27T00:23:04.727484Z"
    },
    "papermill": {
     "duration": 0.045974,
     "end_time": "2021-06-27T00:23:04.727627",
     "exception": false,
     "start_time": "2021-06-27T00:23:04.681653",
     "status": "completed"
    },
    "tags": []
   },
   "outputs": [],
   "source": [
    "#hide\n",
    "# g['date'] = g.date.dt.dayofyear"
   ]
  },
  {
   "cell_type": "code",
   "execution_count": 35,
   "id": "inside-dubai",
   "metadata": {
    "execution": {
     "iopub.execute_input": "2021-06-27T00:23:04.809435Z",
     "iopub.status.busy": "2021-06-27T00:23:04.808745Z",
     "iopub.status.idle": "2021-06-27T00:23:04.811170Z",
     "shell.execute_reply": "2021-06-27T00:23:04.810672Z"
    },
    "papermill": {
     "duration": 0.045239,
     "end_time": "2021-06-27T00:23:04.811285",
     "exception": false,
     "start_time": "2021-06-27T00:23:04.766046",
     "status": "completed"
    },
    "tags": []
   },
   "outputs": [],
   "source": [
    "#hide\n",
    "# g = g.rename(columns= {'continent':'group','country':'name','cases':'value'})"
   ]
  },
  {
   "cell_type": "code",
   "execution_count": 36,
   "id": "fleet-motorcycle",
   "metadata": {
    "execution": {
     "iopub.execute_input": "2021-06-27T00:23:04.889214Z",
     "iopub.status.busy": "2021-06-27T00:23:04.888535Z",
     "iopub.status.idle": "2021-06-27T00:23:04.890993Z",
     "shell.execute_reply": "2021-06-27T00:23:04.890494Z"
    },
    "papermill": {
     "duration": 0.043103,
     "end_time": "2021-06-27T00:23:04.891101",
     "exception": false,
     "start_time": "2021-06-27T00:23:04.847998",
     "status": "completed"
    },
    "tags": []
   },
   "outputs": [],
   "source": [
    "#hide\n",
    "# cols = ['name','group','day','value']"
   ]
  },
  {
   "cell_type": "code",
   "execution_count": 37,
   "id": "continued-sleeping",
   "metadata": {
    "execution": {
     "iopub.execute_input": "2021-06-27T00:23:04.969048Z",
     "iopub.status.busy": "2021-06-27T00:23:04.968277Z",
     "iopub.status.idle": "2021-06-27T00:23:04.970841Z",
     "shell.execute_reply": "2021-06-27T00:23:04.970139Z"
    },
    "papermill": {
     "duration": 0.043045,
     "end_time": "2021-06-27T00:23:04.971003",
     "exception": false,
     "start_time": "2021-06-27T00:23:04.927958",
     "status": "completed"
    },
    "tags": []
   },
   "outputs": [],
   "source": [
    "#hide\n",
    "# g.rename(columns= {'date':'day'},inplace = True)"
   ]
  },
  {
   "cell_type": "code",
   "execution_count": 38,
   "id": "major-fight",
   "metadata": {
    "execution": {
     "iopub.execute_input": "2021-06-27T00:23:05.049388Z",
     "iopub.status.busy": "2021-06-27T00:23:05.048774Z",
     "iopub.status.idle": "2021-06-27T00:23:05.051202Z",
     "shell.execute_reply": "2021-06-27T00:23:05.050688Z"
    },
    "papermill": {
     "duration": 0.044803,
     "end_time": "2021-06-27T00:23:05.051359",
     "exception": false,
     "start_time": "2021-06-27T00:23:05.006556",
     "status": "completed"
    },
    "tags": []
   },
   "outputs": [],
   "source": [
    "#hide\n",
    "# g = g[cols]"
   ]
  },
  {
   "cell_type": "code",
   "execution_count": 39,
   "id": "structured-mobile",
   "metadata": {
    "execution": {
     "iopub.execute_input": "2021-06-27T00:23:05.134852Z",
     "iopub.status.busy": "2021-06-27T00:23:05.134223Z",
     "iopub.status.idle": "2021-06-27T00:23:05.136831Z",
     "shell.execute_reply": "2021-06-27T00:23:05.136201Z"
    },
    "papermill": {
     "duration": 0.046174,
     "end_time": "2021-06-27T00:23:05.136957",
     "exception": false,
     "start_time": "2021-06-27T00:23:05.090783",
     "status": "completed"
    },
    "tags": []
   },
   "outputs": [],
   "source": [
    "# #hide\n",
    "# g = g[g.group.notna()]"
   ]
  },
  {
   "cell_type": "code",
   "execution_count": 40,
   "id": "determined-closing",
   "metadata": {
    "execution": {
     "iopub.execute_input": "2021-06-27T00:23:05.218647Z",
     "iopub.status.busy": "2021-06-27T00:23:05.217920Z",
     "iopub.status.idle": "2021-06-27T00:23:05.220640Z",
     "shell.execute_reply": "2021-06-27T00:23:05.220156Z"
    },
    "papermill": {
     "duration": 0.043861,
     "end_time": "2021-06-27T00:23:05.220763",
     "exception": false,
     "start_time": "2021-06-27T00:23:05.176902",
     "status": "completed"
    },
    "tags": []
   },
   "outputs": [],
   "source": [
    "# #hide\n",
    "# colors = dict(zip(\n",
    "#     [\"Oceania\", \"Europe\", \"Asia\", \"South America\", \"Middle East\", \"North America\", \"Africa\"],\n",
    "#     [\"#adb0ff\", \"#ffb3ff\", \"#90d595\", \"#e48381\", \"#aafbff\", \"#f7bb5f\", \"#eafb50\"]\n",
    "# ))\n",
    "# group_lk = g.set_index('name')['group'].to_dict()"
   ]
  },
  {
   "cell_type": "code",
   "execution_count": null,
   "id": "gross-drinking",
   "metadata": {
    "papermill": {
     "duration": 0.038289,
     "end_time": "2021-06-27T00:23:05.295406",
     "exception": false,
     "start_time": "2021-06-27T00:23:05.257117",
     "status": "completed"
    },
    "tags": []
   },
   "outputs": [],
   "source": []
  },
  {
   "cell_type": "code",
   "execution_count": 41,
   "id": "subject-macintosh",
   "metadata": {
    "execution": {
     "iopub.execute_input": "2021-06-27T00:23:05.372401Z",
     "iopub.status.busy": "2021-06-27T00:23:05.371652Z",
     "iopub.status.idle": "2021-06-27T00:23:05.373904Z",
     "shell.execute_reply": "2021-06-27T00:23:05.374514Z"
    },
    "papermill": {
     "duration": 0.043589,
     "end_time": "2021-06-27T00:23:05.374658",
     "exception": false,
     "start_time": "2021-06-27T00:23:05.331069",
     "status": "completed"
    },
    "tags": []
   },
   "outputs": [],
   "source": [
    "# #hide\n",
    "# fig, ax = plt.subplots(figsize=(15, 8))\n",
    "\n",
    "# def draw_barchart(current_day):\n",
    "#     dff = g[g['day'].eq(current_day)].sort_values(by='value', ascending=True).tail(10)\n",
    "#     ax.clear()\n",
    "#     ax.barh(dff['name'], dff['value'], color=[colors[group_lk[x]] for x in dff['name']])\n",
    "#     dx = dff['value'].max() / 200\n",
    "    \n",
    "#     for i, (value, name) in enumerate(zip(dff['value'], dff['name'])):\n",
    "#         ax.text(value-dx, i,     name,           size=14, weight=600, ha='right', va='bottom')\n",
    "#         ax.text(value-dx, i-.25, group_lk[name], size=10, color='#444444', ha='right', va='baseline')\n",
    "#         ax.text(value+dx, i,     f'{value:,.0f}',  size=14, ha='left',  va='center')\n",
    "#     ax.text(1, 0.4, current_day, transform=ax.transAxes, color='#777777', size=46, ha='right', weight=800)\n",
    "#     ax.text(0, 1.06, 'Population (thousands)', transform=ax.transAxes, size=12, color='#777777')\n",
    "#     ax.xaxis.set_major_formatter(ticker.StrMethodFormatter('{x:,.0f}'))\n",
    "#     ax.xaxis.set_ticks_position('top')\n",
    "#     ax.tick_params(axis='x', colors='#777777', labelsize=12)\n",
    "#     ax.set_yticks([])\n",
    "#     ax.margins(0, 0.01)\n",
    "#     ax.grid(which='major', axis='x', linestyle='-')\n",
    "#     ax.set_axisbelow(True)\n",
    "    \n",
    "#     ax.text(0, 1.15, 'Coronavirus',\n",
    "#             transform=ax.transAxes, size=24, weight=600, ha='left', va='top')\n",
    "# #     ax.text(1, 0, 'by @pratapvardhan; credit @jburnmurdoch', transform=ax.transAxes, color='#777777', ha='right',\n",
    "# #             bbox=dict(facecolor='white', alpha=0.8, edgecolor='white'))\n",
    "#     plt.box(False)"
   ]
  },
  {
   "cell_type": "code",
   "execution_count": 42,
   "id": "sexual-wages",
   "metadata": {
    "execution": {
     "iopub.execute_input": "2021-06-27T00:23:05.453712Z",
     "iopub.status.busy": "2021-06-27T00:23:05.453037Z",
     "iopub.status.idle": "2021-06-27T00:23:05.456374Z",
     "shell.execute_reply": "2021-06-27T00:23:05.455848Z"
    },
    "papermill": {
     "duration": 0.045718,
     "end_time": "2021-06-27T00:23:05.456479",
     "exception": false,
     "start_time": "2021-06-27T00:23:05.410761",
     "status": "completed"
    },
    "tags": []
   },
   "outputs": [],
   "source": [
    "# #hide_input\n",
    "# fig, ax = plt.subplots(figsize=(15, 8))\n",
    "# animator = animation.FuncAnimation(fig, draw_barchart, frames=range(g.day.values.min(), g.day.values.max()))\n",
    "# HTML(animator.to_jshtml())\n",
    "# # or use animator.to_html5_video() or animator.save() "
   ]
  },
  {
   "cell_type": "code",
   "execution_count": null,
   "id": "australian-container",
   "metadata": {
    "papermill": {
     "duration": 0.036915,
     "end_time": "2021-06-27T00:23:05.533293",
     "exception": false,
     "start_time": "2021-06-27T00:23:05.496378",
     "status": "completed"
    },
    "tags": []
   },
   "outputs": [],
   "source": []
  },
  {
   "cell_type": "code",
   "execution_count": null,
   "id": "mediterranean-pontiac",
   "metadata": {
    "papermill": {
     "duration": 0.038433,
     "end_time": "2021-06-27T00:23:05.608161",
     "exception": false,
     "start_time": "2021-06-27T00:23:05.569728",
     "status": "completed"
    },
    "tags": []
   },
   "outputs": [],
   "source": []
  },
  {
   "cell_type": "code",
   "execution_count": null,
   "id": "aging-legislature",
   "metadata": {
    "papermill": {
     "duration": 0.036223,
     "end_time": "2021-06-27T00:23:05.682077",
     "exception": false,
     "start_time": "2021-06-27T00:23:05.645854",
     "status": "completed"
    },
    "tags": []
   },
   "outputs": [],
   "source": []
  }
 ],
 "metadata": {
  "kernelspec": {
   "display_name": "Python 3",
   "language": "python",
   "name": "python3"
  },
  "language_info": {
   "codemirror_mode": {
    "name": "ipython",
    "version": 3
   },
   "file_extension": ".py",
   "mimetype": "text/x-python",
   "name": "python",
   "nbconvert_exporter": "python",
   "pygments_lexer": "ipython3",
   "version": "3.6.13"
  },
  "papermill": {
   "duration": 7.142307,
   "end_time": "2021-06-27T00:23:06.034047",
   "environment_variables": {},
   "exception": null,
   "input_path": "2020-03-21-covid19exp.ipynb",
   "output_path": "2020-03-21-covid19exp.ipynb",
   "parameters": {},
   "start_time": "2021-06-27T00:22:58.891740",
   "version": "2.0.0"
  }
 },
 "nbformat": 4,
 "nbformat_minor": 5
}