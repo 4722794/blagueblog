{
 "cells": [
  {
   "cell_type": "markdown",
   "id": "muslim-click",
   "metadata": {
    "papermill": {
     "duration": 0.04151,
     "end_time": "2021-12-17T00:26:24.597053",
     "exception": false,
     "start_time": "2021-12-17T00:26:24.555543",
     "status": "completed"
    },
    "tags": []
   },
   "source": [
    "# COVID-19 Case Race\n",
    "> A race chart to see rising cases around the world\n",
    "\n",
    "- author: Hargun Oberoi\n",
    "- image: images/covid-overview.png\n",
    "- hide: false\n",
    "- badges: false"
   ]
  },
  {
   "cell_type": "code",
   "execution_count": 1,
   "id": "proof-material",
   "metadata": {
    "execution": {
     "iopub.execute_input": "2021-12-17T00:26:24.681172Z",
     "iopub.status.busy": "2021-12-17T00:26:24.680369Z",
     "iopub.status.idle": "2021-12-17T00:26:25.072286Z",
     "shell.execute_reply": "2021-12-17T00:26:25.071630Z"
    },
    "papermill": {
     "duration": 0.438038,
     "end_time": "2021-12-17T00:26:25.072446",
     "exception": false,
     "start_time": "2021-12-17T00:26:24.634408",
     "status": "completed"
    },
    "tags": []
   },
   "outputs": [],
   "source": [
    "#hide\n",
    "import numpy as np\n",
    "import pandas as pd\n",
    "from jinja2 import Template\n",
    "from IPython.display import HTML"
   ]
  },
  {
   "cell_type": "code",
   "execution_count": 2,
   "id": "developed-terminology",
   "metadata": {
    "execution": {
     "iopub.execute_input": "2021-12-17T00:26:25.155299Z",
     "iopub.status.busy": "2021-12-17T00:26:25.154583Z",
     "iopub.status.idle": "2021-12-17T00:26:25.158516Z",
     "shell.execute_reply": "2021-12-17T00:26:25.159000Z"
    },
    "papermill": {
     "duration": 0.049495,
     "end_time": "2021-12-17T00:26:25.159157",
     "exception": false,
     "start_time": "2021-12-17T00:26:25.109662",
     "status": "completed"
    },
    "tags": []
   },
   "outputs": [],
   "source": [
    "#hide\n",
    "\n",
    "# FETCH\n",
    "base_url = 'https://raw.githubusercontent.com/pratapvardhan/notebooks/master/covid19/'\n",
    "paths = {\n",
    "    'mapping': base_url + 'mapping_countries.csv',\n",
    "    'overview': base_url + 'overview.tpl'\n",
    "}"
   ]
  },
  {
   "cell_type": "code",
   "execution_count": 3,
   "id": "dynamic-saver",
   "metadata": {
    "execution": {
     "iopub.execute_input": "2021-12-17T00:26:25.246373Z",
     "iopub.status.busy": "2021-12-17T00:26:25.245704Z",
     "iopub.status.idle": "2021-12-17T00:26:25.249224Z",
     "shell.execute_reply": "2021-12-17T00:26:25.249829Z"
    },
    "papermill": {
     "duration": 0.052568,
     "end_time": "2021-12-17T00:26:25.249968",
     "exception": false,
     "start_time": "2021-12-17T00:26:25.197400",
     "status": "completed"
    },
    "tags": []
   },
   "outputs": [
    {
     "data": {
      "text/plain": [
       "'https://raw.githubusercontent.com/pratapvardhan/notebooks/master/covid19/mapping_countries.csv'"
      ]
     },
     "execution_count": 3,
     "metadata": {},
     "output_type": "execute_result"
    }
   ],
   "source": [
    "#hide\n",
    "paths['mapping']"
   ]
  },
  {
   "cell_type": "code",
   "execution_count": 4,
   "id": "urban-software",
   "metadata": {
    "execution": {
     "iopub.execute_input": "2021-12-17T00:26:25.332926Z",
     "iopub.status.busy": "2021-12-17T00:26:25.332234Z",
     "iopub.status.idle": "2021-12-17T00:26:25.335217Z",
     "shell.execute_reply": "2021-12-17T00:26:25.334693Z"
    },
    "papermill": {
     "duration": 0.046869,
     "end_time": "2021-12-17T00:26:25.335334",
     "exception": false,
     "start_time": "2021-12-17T00:26:25.288465",
     "status": "completed"
    },
    "tags": []
   },
   "outputs": [],
   "source": [
    "#hide\n",
    "def get_mappings(url):\n",
    "    df = pd.read_csv(url)\n",
    "    return {\n",
    "        'df': df,\n",
    "        'replace.country': dict(df.dropna(subset=['Name']).set_index('Country')['Name']),\n",
    "        'map.continent': dict(df.set_index('Name')['Continent'])\n",
    "    }"
   ]
  },
  {
   "cell_type": "code",
   "execution_count": 5,
   "id": "intimate-machinery",
   "metadata": {
    "execution": {
     "iopub.execute_input": "2021-12-17T00:26:25.417628Z",
     "iopub.status.busy": "2021-12-17T00:26:25.416888Z",
     "iopub.status.idle": "2021-12-17T00:26:25.450415Z",
     "shell.execute_reply": "2021-12-17T00:26:25.450926Z"
    },
    "papermill": {
     "duration": 0.076642,
     "end_time": "2021-12-17T00:26:25.451080",
     "exception": false,
     "start_time": "2021-12-17T00:26:25.374438",
     "status": "completed"
    },
    "tags": []
   },
   "outputs": [],
   "source": [
    "#hide\n",
    "mapping = get_mappings(paths['mapping'])"
   ]
  },
  {
   "cell_type": "code",
   "execution_count": 6,
   "id": "certified-tactics",
   "metadata": {
    "execution": {
     "iopub.execute_input": "2021-12-17T00:26:25.532962Z",
     "iopub.status.busy": "2021-12-17T00:26:25.532310Z",
     "iopub.status.idle": "2021-12-17T00:26:25.536121Z",
     "shell.execute_reply": "2021-12-17T00:26:25.536608Z"
    },
    "papermill": {
     "duration": 0.048336,
     "end_time": "2021-12-17T00:26:25.536764",
     "exception": false,
     "start_time": "2021-12-17T00:26:25.488428",
     "status": "completed"
    },
    "tags": []
   },
   "outputs": [],
   "source": [
    "#hide\n",
    "def get_template(path):\n",
    "    from urllib.parse import urlparse\n",
    "    if bool(urlparse(path).netloc):\n",
    "        from urllib.request import urlopen\n",
    "        return urlopen(path).read().decode('utf8')\n",
    "    return open(path).read()"
   ]
  },
  {
   "cell_type": "code",
   "execution_count": 7,
   "id": "realistic-blast",
   "metadata": {
    "execution": {
     "iopub.execute_input": "2021-12-17T00:26:25.616108Z",
     "iopub.status.busy": "2021-12-17T00:26:25.615473Z",
     "iopub.status.idle": "2021-12-17T00:26:25.618246Z",
     "shell.execute_reply": "2021-12-17T00:26:25.618706Z"
    },
    "papermill": {
     "duration": 0.044544,
     "end_time": "2021-12-17T00:26:25.618833",
     "exception": false,
     "start_time": "2021-12-17T00:26:25.574289",
     "status": "completed"
    },
    "tags": []
   },
   "outputs": [],
   "source": [
    "#hide\n",
    "def get_frame(name):\n",
    "    url = (\n",
    "        'https://raw.githubusercontent.com/CSSEGISandData/COVID-19/master/csse_covid_19_data/'\n",
    "        f'csse_covid_19_time_series/time_series_covid19_{name}_global.csv')\n",
    "    df = pd.read_csv(url)\n",
    "    # rename countries\n",
    "    df['Country/Region'] = df['Country/Region'].replace(mapping['replace.country'])\n",
    "    return df"
   ]
  },
  {
   "cell_type": "code",
   "execution_count": 8,
   "id": "affiliated-characterization",
   "metadata": {
    "execution": {
     "iopub.execute_input": "2021-12-17T00:26:25.698242Z",
     "iopub.status.busy": "2021-12-17T00:26:25.697615Z",
     "iopub.status.idle": "2021-12-17T00:26:25.700109Z",
     "shell.execute_reply": "2021-12-17T00:26:25.699560Z"
    },
    "papermill": {
     "duration": 0.043587,
     "end_time": "2021-12-17T00:26:25.700222",
     "exception": false,
     "start_time": "2021-12-17T00:26:25.656635",
     "status": "completed"
    },
    "tags": []
   },
   "outputs": [],
   "source": [
    "#hide\n",
    "def get_dates(df):\n",
    "    dt_cols = df.columns[~df.columns.isin(['Province/State', 'Country/Region', 'Lat', 'Long'])]\n",
    "    LAST_DATE_I = -1\n",
    "    # sometimes last column may be empty, then go backwards\n",
    "    for i in range(-1, -len(dt_cols), -1):\n",
    "        if not df[dt_cols[i]].fillna(0).eq(0).all():\n",
    "            LAST_DATE_I = i\n",
    "            break\n",
    "    return LAST_DATE_I, dt_cols"
   ]
  },
  {
   "cell_type": "code",
   "execution_count": 9,
   "id": "recent-optimization",
   "metadata": {
    "execution": {
     "iopub.execute_input": "2021-12-17T00:26:25.778969Z",
     "iopub.status.busy": "2021-12-17T00:26:25.778366Z",
     "iopub.status.idle": "2021-12-17T00:26:26.157409Z",
     "shell.execute_reply": "2021-12-17T00:26:26.156726Z"
    },
    "papermill": {
     "duration": 0.420413,
     "end_time": "2021-12-17T00:26:26.157603",
     "exception": false,
     "start_time": "2021-12-17T00:26:25.737190",
     "status": "completed"
    },
    "tags": []
   },
   "outputs": [],
   "source": [
    "#hide\n",
    "COL_REGION = 'Country/Region'\n",
    "# Confirmed, Recovered, Deaths\n",
    "df = get_frame('confirmed')\n",
    "# dft_: timeseries, dfc_: today country agg\n",
    "dft_cases = df\n",
    "dft_deaths = get_frame('deaths')\n",
    "dft_recovered = get_frame('recovered')\n",
    "LAST_DATE_I, dt_cols = get_dates(df)"
   ]
  },
  {
   "cell_type": "code",
   "execution_count": 10,
   "id": "absolute-copper",
   "metadata": {
    "execution": {
     "iopub.execute_input": "2021-12-17T00:26:26.247105Z",
     "iopub.status.busy": "2021-12-17T00:26:26.246249Z",
     "iopub.status.idle": "2021-12-17T00:26:26.250500Z",
     "shell.execute_reply": "2021-12-17T00:26:26.250999Z"
    },
    "papermill": {
     "duration": 0.05009,
     "end_time": "2021-12-17T00:26:26.251132",
     "exception": false,
     "start_time": "2021-12-17T00:26:26.201042",
     "status": "completed"
    },
    "tags": []
   },
   "outputs": [],
   "source": [
    "#hide\n",
    "LAST_DATE_I, dt_cols = get_dates(df)\n",
    "dt_today =dt_cols[LAST_DATE_I]\n",
    "# dt_5day = dt_cols[LAST_DATE_I - 5]\n",
    "dt_yday = dt_cols[LAST_DATE_I - 1]"
   ]
  },
  {
   "cell_type": "code",
   "execution_count": 11,
   "id": "restricted-sheriff",
   "metadata": {
    "execution": {
     "iopub.execute_input": "2021-12-17T00:26:26.338216Z",
     "iopub.status.busy": "2021-12-17T00:26:26.337498Z",
     "iopub.status.idle": "2021-12-17T00:26:26.346336Z",
     "shell.execute_reply": "2021-12-17T00:26:26.346884Z"
    },
    "papermill": {
     "duration": 0.05646,
     "end_time": "2021-12-17T00:26:26.347028",
     "exception": false,
     "start_time": "2021-12-17T00:26:26.290568",
     "status": "completed"
    },
    "tags": []
   },
   "outputs": [],
   "source": [
    "#hide\n",
    "dfc_cases = dft_cases.groupby(COL_REGION)[dt_today].sum()\n",
    "dfc_deaths = dft_deaths.groupby(COL_REGION)[dt_today].sum()\n",
    "# dfp_cases = dft_cases.groupby(COL_REGION)[dt_5day].sum()\n",
    "# dfp_deaths = dft_deaths.groupby(COL_REGION)[dt_5day].sum()\n",
    "dfp_cases = dft_cases.groupby(COL_REGION)[dt_yday].sum()\n",
    "dfp_deaths = dft_deaths.groupby(COL_REGION)[dt_yday].sum()"
   ]
  },
  {
   "cell_type": "code",
   "execution_count": 12,
   "id": "deluxe-hepatitis",
   "metadata": {
    "execution": {
     "iopub.execute_input": "2021-12-17T00:26:26.431753Z",
     "iopub.status.busy": "2021-12-17T00:26:26.431085Z",
     "iopub.status.idle": "2021-12-17T00:26:26.437017Z",
     "shell.execute_reply": "2021-12-17T00:26:26.437655Z"
    },
    "papermill": {
     "duration": 0.051106,
     "end_time": "2021-12-17T00:26:26.437794",
     "exception": false,
     "start_time": "2021-12-17T00:26:26.386688",
     "status": "completed"
    },
    "tags": []
   },
   "outputs": [],
   "source": [
    "#hide\n",
    "df_table = (pd.DataFrame(dict(Cases = dfc_cases, Deaths = dfc_deaths, PCases = dfp_cases, PDeaths = dfp_deaths))\n",
    "            .sort_values(by = ['Cases','Deaths'], ascending = [False, False])\n",
    "            .reset_index())"
   ]
  },
  {
   "cell_type": "code",
   "execution_count": 13,
   "id": "educational-chancellor",
   "metadata": {
    "execution": {
     "iopub.execute_input": "2021-12-17T00:26:26.532937Z",
     "iopub.status.busy": "2021-12-17T00:26:26.532256Z",
     "iopub.status.idle": "2021-12-17T00:26:26.541638Z",
     "shell.execute_reply": "2021-12-17T00:26:26.542266Z"
    },
    "papermill": {
     "duration": 0.06841,
     "end_time": "2021-12-17T00:26:26.542397",
     "exception": false,
     "start_time": "2021-12-17T00:26:26.473987",
     "status": "completed"
    },
    "tags": []
   },
   "outputs": [
    {
     "data": {
      "text/html": [
       "<div>\n",
       "<style scoped>\n",
       "    .dataframe tbody tr th:only-of-type {\n",
       "        vertical-align: middle;\n",
       "    }\n",
       "\n",
       "    .dataframe tbody tr th {\n",
       "        vertical-align: top;\n",
       "    }\n",
       "\n",
       "    .dataframe thead th {\n",
       "        text-align: right;\n",
       "    }\n",
       "</style>\n",
       "<table border=\"1\" class=\"dataframe\">\n",
       "  <thead>\n",
       "    <tr style=\"text-align: right;\">\n",
       "      <th></th>\n",
       "      <th>Country/Region</th>\n",
       "      <th>Cases</th>\n",
       "      <th>Deaths</th>\n",
       "      <th>PCases</th>\n",
       "      <th>PDeaths</th>\n",
       "      <th>Cases (+)</th>\n",
       "      <th>Deaths (+)</th>\n",
       "      <th>Fatality Rate</th>\n",
       "      <th>Continent</th>\n",
       "    </tr>\n",
       "  </thead>\n",
       "  <tbody>\n",
       "    <tr>\n",
       "      <th>0</th>\n",
       "      <td>US</td>\n",
       "      <td>50374543</td>\n",
       "      <td>802510</td>\n",
       "      <td>50233338</td>\n",
       "      <td>800343</td>\n",
       "      <td>141205</td>\n",
       "      <td>2167</td>\n",
       "      <td>1.59</td>\n",
       "      <td>North America</td>\n",
       "    </tr>\n",
       "    <tr>\n",
       "      <th>1</th>\n",
       "      <td>India</td>\n",
       "      <td>34718602</td>\n",
       "      <td>476478</td>\n",
       "      <td>34710628</td>\n",
       "      <td>476135</td>\n",
       "      <td>7974</td>\n",
       "      <td>343</td>\n",
       "      <td>1.37</td>\n",
       "      <td>Asia</td>\n",
       "    </tr>\n",
       "    <tr>\n",
       "      <th>2</th>\n",
       "      <td>Brazil</td>\n",
       "      <td>22201221</td>\n",
       "      <td>617271</td>\n",
       "      <td>22195775</td>\n",
       "      <td>616970</td>\n",
       "      <td>5446</td>\n",
       "      <td>301</td>\n",
       "      <td>2.78</td>\n",
       "      <td>South America</td>\n",
       "    </tr>\n",
       "    <tr>\n",
       "      <th>3</th>\n",
       "      <td>United Kingdom</td>\n",
       "      <td>11073455</td>\n",
       "      <td>147249</td>\n",
       "      <td>10995311</td>\n",
       "      <td>147085</td>\n",
       "      <td>78144</td>\n",
       "      <td>164</td>\n",
       "      <td>1.33</td>\n",
       "      <td>Europe</td>\n",
       "    </tr>\n",
       "    <tr>\n",
       "      <th>4</th>\n",
       "      <td>Russia</td>\n",
       "      <td>9927150</td>\n",
       "      <td>287135</td>\n",
       "      <td>9899139</td>\n",
       "      <td>286023</td>\n",
       "      <td>28011</td>\n",
       "      <td>1112</td>\n",
       "      <td>2.89</td>\n",
       "      <td>Europe</td>\n",
       "    </tr>\n",
       "  </tbody>\n",
       "</table>\n",
       "</div>"
      ],
      "text/plain": [
       "   Country/Region     Cases  Deaths    PCases  PDeaths  Cases (+)  Deaths (+)  \\\n",
       "0              US  50374543  802510  50233338   800343     141205        2167   \n",
       "1           India  34718602  476478  34710628   476135       7974         343   \n",
       "2          Brazil  22201221  617271  22195775   616970       5446         301   \n",
       "3  United Kingdom  11073455  147249  10995311   147085      78144         164   \n",
       "4          Russia   9927150  287135   9899139   286023      28011        1112   \n",
       "\n",
       "   Fatality Rate      Continent  \n",
       "0           1.59  North America  \n",
       "1           1.37           Asia  \n",
       "2           2.78  South America  \n",
       "3           1.33         Europe  \n",
       "4           2.89         Europe  "
      ]
     },
     "execution_count": 13,
     "metadata": {},
     "output_type": "execute_result"
    }
   ],
   "source": [
    "#hide\n",
    "for c in 'Cases, Deaths'.split(', '):\n",
    "    df_table[f'{c} (+)'] = (df_table[c] - df_table[f'P{c}']).clip(0)\n",
    "    #Clip ça veut dire, les chiffres negatif sont interdit\n",
    "df_table['Fatality Rate'] = (100* df_table['Deaths']/ df_table['Cases']).round(2)\n",
    "df_table['Continent'] = df_table['Country/Region'].map(mapping['map.continent'])\n",
    "df_table.head(5)"
   ]
  },
  {
   "cell_type": "code",
   "execution_count": 14,
   "id": "aboriginal-bulgaria",
   "metadata": {
    "execution": {
     "iopub.execute_input": "2021-12-17T00:26:26.625098Z",
     "iopub.status.busy": "2021-12-17T00:26:26.624446Z",
     "iopub.status.idle": "2021-12-17T00:26:26.627705Z",
     "shell.execute_reply": "2021-12-17T00:26:26.628296Z"
    },
    "papermill": {
     "duration": 0.047822,
     "end_time": "2021-12-17T00:26:26.628453",
     "exception": false,
     "start_time": "2021-12-17T00:26:26.580631",
     "status": "completed"
    },
    "tags": []
   },
   "outputs": [],
   "source": [
    "#hide\n",
    "#delete problematic countries from table\n",
    "df_table = df_table[~df_table['Country/Region'].isin(['Cape Verde', 'Cruise Ship', 'Kosovo'])]"
   ]
  },
  {
   "cell_type": "code",
   "execution_count": 15,
   "id": "fantastic-effect",
   "metadata": {
    "execution": {
     "iopub.execute_input": "2021-12-17T00:26:26.710524Z",
     "iopub.status.busy": "2021-12-17T00:26:26.709873Z",
     "iopub.status.idle": "2021-12-17T00:26:26.733277Z",
     "shell.execute_reply": "2021-12-17T00:26:26.732765Z"
    },
    "papermill": {
     "duration": 0.068403,
     "end_time": "2021-12-17T00:26:26.733391",
     "exception": false,
     "start_time": "2021-12-17T00:26:26.664988",
     "status": "completed"
    },
    "tags": []
   },
   "outputs": [
    {
     "data": {
      "text/html": [
       "<div>\n",
       "<style scoped>\n",
       "    .dataframe tbody tr th:only-of-type {\n",
       "        vertical-align: middle;\n",
       "    }\n",
       "\n",
       "    .dataframe tbody tr th {\n",
       "        vertical-align: top;\n",
       "    }\n",
       "\n",
       "    .dataframe thead th {\n",
       "        text-align: right;\n",
       "    }\n",
       "</style>\n",
       "<table border=\"1\" class=\"dataframe\">\n",
       "  <thead>\n",
       "    <tr style=\"text-align: right;\">\n",
       "      <th></th>\n",
       "      <th>Country/Region</th>\n",
       "      <th>Cases</th>\n",
       "      <th>Deaths</th>\n",
       "      <th>PCases</th>\n",
       "      <th>PDeaths</th>\n",
       "      <th>Cases (+)</th>\n",
       "      <th>Deaths (+)</th>\n",
       "      <th>Fatality Rate</th>\n",
       "      <th>Continent</th>\n",
       "    </tr>\n",
       "  </thead>\n",
       "  <tbody>\n",
       "    <tr>\n",
       "      <th>0</th>\n",
       "      <td>US</td>\n",
       "      <td>50374543</td>\n",
       "      <td>802510</td>\n",
       "      <td>50233338</td>\n",
       "      <td>800343</td>\n",
       "      <td>141205</td>\n",
       "      <td>2167</td>\n",
       "      <td>1.6</td>\n",
       "      <td>North America</td>\n",
       "    </tr>\n",
       "    <tr>\n",
       "      <th>1</th>\n",
       "      <td>India</td>\n",
       "      <td>34718602</td>\n",
       "      <td>476478</td>\n",
       "      <td>34710628</td>\n",
       "      <td>476135</td>\n",
       "      <td>7974</td>\n",
       "      <td>343</td>\n",
       "      <td>1.4</td>\n",
       "      <td>Asia</td>\n",
       "    </tr>\n",
       "    <tr>\n",
       "      <th>2</th>\n",
       "      <td>Brazil</td>\n",
       "      <td>22201221</td>\n",
       "      <td>617271</td>\n",
       "      <td>22195775</td>\n",
       "      <td>616970</td>\n",
       "      <td>5446</td>\n",
       "      <td>301</td>\n",
       "      <td>2.8</td>\n",
       "      <td>South America</td>\n",
       "    </tr>\n",
       "    <tr>\n",
       "      <th>3</th>\n",
       "      <td>United Kingdom</td>\n",
       "      <td>11073455</td>\n",
       "      <td>147249</td>\n",
       "      <td>10995311</td>\n",
       "      <td>147085</td>\n",
       "      <td>78144</td>\n",
       "      <td>164</td>\n",
       "      <td>1.3</td>\n",
       "      <td>Europe</td>\n",
       "    </tr>\n",
       "    <tr>\n",
       "      <th>4</th>\n",
       "      <td>Russia</td>\n",
       "      <td>9927150</td>\n",
       "      <td>287135</td>\n",
       "      <td>9899139</td>\n",
       "      <td>286023</td>\n",
       "      <td>28011</td>\n",
       "      <td>1112</td>\n",
       "      <td>2.9</td>\n",
       "      <td>Europe</td>\n",
       "    </tr>\n",
       "  </tbody>\n",
       "</table>\n",
       "</div>"
      ],
      "text/plain": [
       "   Country/Region     Cases  Deaths    PCases  PDeaths  Cases (+)  Deaths (+)  \\\n",
       "0              US  50374543  802510  50233338   800343     141205        2167   \n",
       "1           India  34718602  476478  34710628   476135       7974         343   \n",
       "2          Brazil  22201221  617271  22195775   616970       5446         301   \n",
       "3  United Kingdom  11073455  147249  10995311   147085      78144         164   \n",
       "4          Russia   9927150  287135   9899139   286023      28011        1112   \n",
       "\n",
       "   Fatality Rate      Continent  \n",
       "0            1.6  North America  \n",
       "1            1.4           Asia  \n",
       "2            2.8  South America  \n",
       "3            1.3         Europe  \n",
       "4            2.9         Europe  "
      ]
     },
     "execution_count": 15,
     "metadata": {},
     "output_type": "execute_result"
    }
   ],
   "source": [
    "#hide\n",
    "df_table = (pd.DataFrame(dict(Cases=dfc_cases, Deaths=dfc_deaths, PCases=dfp_cases, PDeaths=dfp_deaths))\n",
    "             .sort_values(by=['Cases', 'Deaths'], ascending=[False, False])\n",
    "             .reset_index())\n",
    "df_table.rename(columns={'index': 'Country/Region'}, inplace=True)\n",
    "for c in 'Cases, Deaths'.split(', '):\n",
    "    df_table[f'{c} (+)'] = (df_table[c] - df_table[f'P{c}']).clip(0)  # DATA BUG\n",
    "df_table['Fatality Rate'] = (100 * df_table['Deaths'] / df_table['Cases']).round(1)\n",
    "df_table['Continent'] = df_table['Country/Region'].map(mapping['map.continent'])\n",
    "df_table.head(5)"
   ]
  },
  {
   "cell_type": "code",
   "execution_count": 16,
   "id": "fewer-occasion",
   "metadata": {
    "execution": {
     "iopub.execute_input": "2021-12-17T00:26:26.814159Z",
     "iopub.status.busy": "2021-12-17T00:26:26.813440Z",
     "iopub.status.idle": "2021-12-17T00:26:26.816735Z",
     "shell.execute_reply": "2021-12-17T00:26:26.817336Z"
    },
    "papermill": {
     "duration": 0.046946,
     "end_time": "2021-12-17T00:26:26.817465",
     "exception": false,
     "start_time": "2021-12-17T00:26:26.770519",
     "status": "completed"
    },
    "tags": []
   },
   "outputs": [],
   "source": [
    "#hide\n",
    "#delete problematic countries from table\n",
    "df_table = df_table[~df_table['Country/Region'].isin(['Cape Verde', 'Cruise Ship', 'Kosovo'])]"
   ]
  },
  {
   "cell_type": "code",
   "execution_count": 17,
   "id": "related-center",
   "metadata": {
    "execution": {
     "iopub.execute_input": "2021-12-17T00:26:26.903432Z",
     "iopub.status.busy": "2021-12-17T00:26:26.902685Z",
     "iopub.status.idle": "2021-12-17T00:26:26.919128Z",
     "shell.execute_reply": "2021-12-17T00:26:26.918492Z"
    },
    "papermill": {
     "duration": 0.060238,
     "end_time": "2021-12-17T00:26:26.919246",
     "exception": false,
     "start_time": "2021-12-17T00:26:26.859008",
     "status": "completed"
    },
    "tags": []
   },
   "outputs": [],
   "source": [
    "#hide\n",
    "metrics = [df_table.columns[index] for index in [1,2,5,6]]\n",
    "# s_china = df_table[df_table['Country/Region'].eq('China')][metrics].sum().add_prefix('China ')\n",
    "s_us = df_table[df_table['Country/Region'].eq('US')][metrics].sum().add_prefix('US ')\n",
    "s_eu = df_table[df_table['Continent'].eq('Europe')][metrics].sum().add_prefix('EU ')\n",
    "s_ind = df_table[df_table['Country/Region'].eq('India')][metrics].sum().add_prefix('India ')\n",
    "summary = {'updated': pd.to_datetime(dt_today), 'since': pd.to_datetime(dt_yday)}\n",
    "summary = {'updated': pd.to_datetime(dt_today), 'since': pd.to_datetime(dt_yday)}\n",
    "summary = {**summary, **df_table[metrics].sum(), **s_ind, **s_us, **s_eu}"
   ]
  },
  {
   "cell_type": "code",
   "execution_count": 18,
   "id": "engaging-syndrome",
   "metadata": {
    "execution": {
     "iopub.execute_input": "2021-12-17T00:26:26.999184Z",
     "iopub.status.busy": "2021-12-17T00:26:26.998581Z",
     "iopub.status.idle": "2021-12-17T00:26:27.013387Z",
     "shell.execute_reply": "2021-12-17T00:26:27.013906Z"
    },
    "papermill": {
     "duration": 0.057889,
     "end_time": "2021-12-17T00:26:27.014040",
     "exception": false,
     "start_time": "2021-12-17T00:26:26.956151",
     "status": "completed"
    },
    "tags": []
   },
   "outputs": [],
   "source": [
    "#hide\n",
    "dft_ct_new_cases = dft_cases.groupby(COL_REGION)[dt_cols].sum().diff(axis=1).fillna(0).astype(int)"
   ]
  },
  {
   "cell_type": "code",
   "execution_count": 19,
   "id": "neutral-assignment",
   "metadata": {
    "execution": {
     "iopub.execute_input": "2021-12-17T00:26:27.098589Z",
     "iopub.status.busy": "2021-12-17T00:26:27.097980Z",
     "iopub.status.idle": "2021-12-17T00:26:27.100291Z",
     "shell.execute_reply": "2021-12-17T00:26:27.100869Z"
    },
    "papermill": {
     "duration": 0.047932,
     "end_time": "2021-12-17T00:26:27.101001",
     "exception": false,
     "start_time": "2021-12-17T00:26:27.053069",
     "status": "completed"
    },
    "tags": []
   },
   "outputs": [],
   "source": [
    "#hide\n",
    "everydaycases = dft_ct_new_cases.cumsum(axis=1)"
   ]
  },
  {
   "cell_type": "code",
   "execution_count": 20,
   "id": "parliamentary-calgary",
   "metadata": {
    "execution": {
     "iopub.execute_input": "2021-12-17T00:26:27.180168Z",
     "iopub.status.busy": "2021-12-17T00:26:27.179366Z",
     "iopub.status.idle": "2021-12-17T00:26:27.864163Z",
     "shell.execute_reply": "2021-12-17T00:26:27.864673Z"
    },
    "papermill": {
     "duration": 0.726905,
     "end_time": "2021-12-17T00:26:27.864838",
     "exception": false,
     "start_time": "2021-12-17T00:26:27.137933",
     "status": "completed"
    },
    "tags": []
   },
   "outputs": [],
   "source": [
    "#hide\n",
    "import pandas as pd\n",
    "import matplotlib.pyplot as plt\n",
    "import matplotlib.ticker as ticker\n",
    "import matplotlib.animation as animation\n",
    "from IPython.display import HTML"
   ]
  },
  {
   "cell_type": "code",
   "execution_count": 21,
   "id": "lasting-extraction",
   "metadata": {
    "execution": {
     "iopub.execute_input": "2021-12-17T00:26:27.950018Z",
     "iopub.status.busy": "2021-12-17T00:26:27.949417Z",
     "iopub.status.idle": "2021-12-17T00:26:27.955238Z",
     "shell.execute_reply": "2021-12-17T00:26:27.955820Z"
    },
    "papermill": {
     "duration": 0.048153,
     "end_time": "2021-12-17T00:26:27.955994",
     "exception": false,
     "start_time": "2021-12-17T00:26:27.907841",
     "status": "completed"
    },
    "tags": []
   },
   "outputs": [],
   "source": [
    "#hide\n",
    "t = everydaycases.stack()"
   ]
  },
  {
   "cell_type": "code",
   "execution_count": 22,
   "id": "premier-sleeve",
   "metadata": {
    "execution": {
     "iopub.execute_input": "2021-12-17T00:26:28.036072Z",
     "iopub.status.busy": "2021-12-17T00:26:28.035223Z",
     "iopub.status.idle": "2021-12-17T00:26:28.045370Z",
     "shell.execute_reply": "2021-12-17T00:26:28.045978Z"
    },
    "papermill": {
     "duration": 0.053267,
     "end_time": "2021-12-17T00:26:28.046111",
     "exception": false,
     "start_time": "2021-12-17T00:26:27.992844",
     "status": "completed"
    },
    "tags": []
   },
   "outputs": [],
   "source": [
    "#hide\n",
    "g = t.reset_index(['Country/Region'])"
   ]
  },
  {
   "cell_type": "code",
   "execution_count": 23,
   "id": "distributed-pittsburgh",
   "metadata": {
    "execution": {
     "iopub.execute_input": "2021-12-17T00:26:28.127127Z",
     "iopub.status.busy": "2021-12-17T00:26:28.126431Z",
     "iopub.status.idle": "2021-12-17T00:26:28.128919Z",
     "shell.execute_reply": "2021-12-17T00:26:28.129423Z"
    },
    "papermill": {
     "duration": 0.046312,
     "end_time": "2021-12-17T00:26:28.129553",
     "exception": false,
     "start_time": "2021-12-17T00:26:28.083241",
     "status": "completed"
    },
    "tags": []
   },
   "outputs": [],
   "source": [
    "#hide\n",
    "g.index.name = 'date'"
   ]
  },
  {
   "cell_type": "code",
   "execution_count": 24,
   "id": "naked-donor",
   "metadata": {
    "execution": {
     "iopub.execute_input": "2021-12-17T00:26:28.207523Z",
     "iopub.status.busy": "2021-12-17T00:26:28.206866Z",
     "iopub.status.idle": "2021-12-17T00:26:28.210691Z",
     "shell.execute_reply": "2021-12-17T00:26:28.211232Z"
    },
    "papermill": {
     "duration": 0.044904,
     "end_time": "2021-12-17T00:26:28.211361",
     "exception": false,
     "start_time": "2021-12-17T00:26:28.166457",
     "status": "completed"
    },
    "tags": []
   },
   "outputs": [],
   "source": [
    "# #hide\n",
    "# g = g.reset_index(['date'])"
   ]
  },
  {
   "cell_type": "code",
   "execution_count": 25,
   "id": "incomplete-mustang",
   "metadata": {
    "execution": {
     "iopub.execute_input": "2021-12-17T00:26:28.290181Z",
     "iopub.status.busy": "2021-12-17T00:26:28.289487Z",
     "iopub.status.idle": "2021-12-17T00:26:28.292138Z",
     "shell.execute_reply": "2021-12-17T00:26:28.291457Z"
    },
    "papermill": {
     "duration": 0.043044,
     "end_time": "2021-12-17T00:26:28.292254",
     "exception": false,
     "start_time": "2021-12-17T00:26:28.249210",
     "status": "completed"
    },
    "tags": []
   },
   "outputs": [],
   "source": [
    "#hide\n",
    "# g.head()"
   ]
  },
  {
   "cell_type": "code",
   "execution_count": 26,
   "id": "specific-kruger",
   "metadata": {
    "execution": {
     "iopub.execute_input": "2021-12-17T00:26:28.371404Z",
     "iopub.status.busy": "2021-12-17T00:26:28.370797Z",
     "iopub.status.idle": "2021-12-17T00:26:28.373639Z",
     "shell.execute_reply": "2021-12-17T00:26:28.372966Z"
    },
    "papermill": {
     "duration": 0.04335,
     "end_time": "2021-12-17T00:26:28.373763",
     "exception": false,
     "start_time": "2021-12-17T00:26:28.330413",
     "status": "completed"
    },
    "tags": []
   },
   "outputs": [],
   "source": [
    "#hide\n",
    "# g.columns = ['date','country','cases']"
   ]
  },
  {
   "cell_type": "code",
   "execution_count": 27,
   "id": "tender-conversion",
   "metadata": {
    "execution": {
     "iopub.execute_input": "2021-12-17T00:26:28.453276Z",
     "iopub.status.busy": "2021-12-17T00:26:28.452622Z",
     "iopub.status.idle": "2021-12-17T00:26:28.454864Z",
     "shell.execute_reply": "2021-12-17T00:26:28.455326Z"
    },
    "papermill": {
     "duration": 0.043644,
     "end_time": "2021-12-17T00:26:28.455460",
     "exception": false,
     "start_time": "2021-12-17T00:26:28.411816",
     "status": "completed"
    },
    "tags": []
   },
   "outputs": [],
   "source": [
    "#hide\n",
    "# g['continent'] = g.country"
   ]
  },
  {
   "cell_type": "code",
   "execution_count": 28,
   "id": "substantial-wilderness",
   "metadata": {
    "execution": {
     "iopub.execute_input": "2021-12-17T00:26:28.534059Z",
     "iopub.status.busy": "2021-12-17T00:26:28.533325Z",
     "iopub.status.idle": "2021-12-17T00:26:28.537352Z",
     "shell.execute_reply": "2021-12-17T00:26:28.537833Z"
    },
    "papermill": {
     "duration": 0.044703,
     "end_time": "2021-12-17T00:26:28.537961",
     "exception": false,
     "start_time": "2021-12-17T00:26:28.493258",
     "status": "completed"
    },
    "tags": []
   },
   "outputs": [],
   "source": [
    "#hide\n",
    "# cols = list(g.columns.values)"
   ]
  },
  {
   "cell_type": "code",
   "execution_count": 29,
   "id": "solved-farming",
   "metadata": {
    "execution": {
     "iopub.execute_input": "2021-12-17T00:26:28.616965Z",
     "iopub.status.busy": "2021-12-17T00:26:28.616243Z",
     "iopub.status.idle": "2021-12-17T00:26:28.618288Z",
     "shell.execute_reply": "2021-12-17T00:26:28.618927Z"
    },
    "papermill": {
     "duration": 0.043663,
     "end_time": "2021-12-17T00:26:28.619051",
     "exception": false,
     "start_time": "2021-12-17T00:26:28.575388",
     "status": "completed"
    },
    "tags": []
   },
   "outputs": [],
   "source": [
    "#hide\n",
    "# cols.insert(0, cols.pop())"
   ]
  },
  {
   "cell_type": "code",
   "execution_count": 30,
   "id": "executed-adoption",
   "metadata": {
    "execution": {
     "iopub.execute_input": "2021-12-17T00:26:28.698115Z",
     "iopub.status.busy": "2021-12-17T00:26:28.697500Z",
     "iopub.status.idle": "2021-12-17T00:26:28.702118Z",
     "shell.execute_reply": "2021-12-17T00:26:28.701273Z"
    },
    "papermill": {
     "duration": 0.045457,
     "end_time": "2021-12-17T00:26:28.702240",
     "exception": false,
     "start_time": "2021-12-17T00:26:28.656783",
     "status": "completed"
    },
    "tags": []
   },
   "outputs": [],
   "source": [
    "#hide\n",
    "# g = g[cols]"
   ]
  },
  {
   "cell_type": "code",
   "execution_count": 31,
   "id": "subject-dublin",
   "metadata": {
    "execution": {
     "iopub.execute_input": "2021-12-17T00:26:28.781025Z",
     "iopub.status.busy": "2021-12-17T00:26:28.780406Z",
     "iopub.status.idle": "2021-12-17T00:26:28.782758Z",
     "shell.execute_reply": "2021-12-17T00:26:28.781936Z"
    },
    "papermill": {
     "duration": 0.042999,
     "end_time": "2021-12-17T00:26:28.782896",
     "exception": false,
     "start_time": "2021-12-17T00:26:28.739897",
     "status": "completed"
    },
    "tags": []
   },
   "outputs": [],
   "source": [
    "#hide\n",
    "# g['continent'] = g['continent'].map(mapping['map.continent'])"
   ]
  },
  {
   "cell_type": "code",
   "execution_count": 32,
   "id": "freelance-scout",
   "metadata": {
    "execution": {
     "iopub.execute_input": "2021-12-17T00:26:28.870483Z",
     "iopub.status.busy": "2021-12-17T00:26:28.862911Z",
     "iopub.status.idle": "2021-12-17T00:26:28.871186Z",
     "shell.execute_reply": "2021-12-17T00:26:28.871685Z"
    },
    "papermill": {
     "duration": 0.051458,
     "end_time": "2021-12-17T00:26:28.871820",
     "exception": false,
     "start_time": "2021-12-17T00:26:28.820362",
     "status": "completed"
    },
    "tags": []
   },
   "outputs": [],
   "source": [
    "#hide\n",
    "# g.head()"
   ]
  },
  {
   "cell_type": "code",
   "execution_count": 33,
   "id": "limited-engine",
   "metadata": {
    "execution": {
     "iopub.execute_input": "2021-12-17T00:26:28.949723Z",
     "iopub.status.busy": "2021-12-17T00:26:28.949059Z",
     "iopub.status.idle": "2021-12-17T00:26:28.951462Z",
     "shell.execute_reply": "2021-12-17T00:26:28.950957Z"
    },
    "papermill": {
     "duration": 0.042047,
     "end_time": "2021-12-17T00:26:28.951611",
     "exception": false,
     "start_time": "2021-12-17T00:26:28.909564",
     "status": "completed"
    },
    "tags": []
   },
   "outputs": [],
   "source": [
    "# hide\n",
    "# g['date'] = g['date'].astype('datetime64[ns]')"
   ]
  },
  {
   "cell_type": "code",
   "execution_count": 34,
   "id": "sophisticated-supervisor",
   "metadata": {
    "execution": {
     "iopub.execute_input": "2021-12-17T00:26:29.030264Z",
     "iopub.status.busy": "2021-12-17T00:26:29.029619Z",
     "iopub.status.idle": "2021-12-17T00:26:29.033395Z",
     "shell.execute_reply": "2021-12-17T00:26:29.033953Z"
    },
    "papermill": {
     "duration": 0.045136,
     "end_time": "2021-12-17T00:26:29.034085",
     "exception": false,
     "start_time": "2021-12-17T00:26:28.988949",
     "status": "completed"
    },
    "tags": []
   },
   "outputs": [],
   "source": [
    "#hide\n",
    "# g['date'] = g.date.dt.dayofyear"
   ]
  },
  {
   "cell_type": "code",
   "execution_count": 35,
   "id": "inside-dubai",
   "metadata": {
    "execution": {
     "iopub.execute_input": "2021-12-17T00:26:29.113550Z",
     "iopub.status.busy": "2021-12-17T00:26:29.112924Z",
     "iopub.status.idle": "2021-12-17T00:26:29.115017Z",
     "shell.execute_reply": "2021-12-17T00:26:29.115508Z"
    },
    "papermill": {
     "duration": 0.043133,
     "end_time": "2021-12-17T00:26:29.115666",
     "exception": false,
     "start_time": "2021-12-17T00:26:29.072533",
     "status": "completed"
    },
    "tags": []
   },
   "outputs": [],
   "source": [
    "#hide\n",
    "# g = g.rename(columns= {'continent':'group','country':'name','cases':'value'})"
   ]
  },
  {
   "cell_type": "code",
   "execution_count": 36,
   "id": "fleet-motorcycle",
   "metadata": {
    "execution": {
     "iopub.execute_input": "2021-12-17T00:26:29.193269Z",
     "iopub.status.busy": "2021-12-17T00:26:29.192661Z",
     "iopub.status.idle": "2021-12-17T00:26:29.196541Z",
     "shell.execute_reply": "2021-12-17T00:26:29.197132Z"
    },
    "papermill": {
     "duration": 0.04469,
     "end_time": "2021-12-17T00:26:29.197291",
     "exception": false,
     "start_time": "2021-12-17T00:26:29.152601",
     "status": "completed"
    },
    "tags": []
   },
   "outputs": [],
   "source": [
    "#hide\n",
    "# cols = ['name','group','day','value']"
   ]
  },
  {
   "cell_type": "code",
   "execution_count": 37,
   "id": "continued-sleeping",
   "metadata": {
    "execution": {
     "iopub.execute_input": "2021-12-17T00:26:29.276532Z",
     "iopub.status.busy": "2021-12-17T00:26:29.275762Z",
     "iopub.status.idle": "2021-12-17T00:26:29.278380Z",
     "shell.execute_reply": "2021-12-17T00:26:29.277489Z"
    },
    "papermill": {
     "duration": 0.043492,
     "end_time": "2021-12-17T00:26:29.278557",
     "exception": false,
     "start_time": "2021-12-17T00:26:29.235065",
     "status": "completed"
    },
    "tags": []
   },
   "outputs": [],
   "source": [
    "#hide\n",
    "# g.rename(columns= {'date':'day'},inplace = True)"
   ]
  },
  {
   "cell_type": "code",
   "execution_count": 38,
   "id": "major-fight",
   "metadata": {
    "execution": {
     "iopub.execute_input": "2021-12-17T00:26:29.362273Z",
     "iopub.status.busy": "2021-12-17T00:26:29.361679Z",
     "iopub.status.idle": "2021-12-17T00:26:29.365649Z",
     "shell.execute_reply": "2021-12-17T00:26:29.366205Z"
    },
    "papermill": {
     "duration": 0.049658,
     "end_time": "2021-12-17T00:26:29.366332",
     "exception": false,
     "start_time": "2021-12-17T00:26:29.316674",
     "status": "completed"
    },
    "tags": []
   },
   "outputs": [],
   "source": [
    "#hide\n",
    "# g = g[cols]"
   ]
  },
  {
   "cell_type": "code",
   "execution_count": 39,
   "id": "structured-mobile",
   "metadata": {
    "execution": {
     "iopub.execute_input": "2021-12-17T00:26:29.446430Z",
     "iopub.status.busy": "2021-12-17T00:26:29.445743Z",
     "iopub.status.idle": "2021-12-17T00:26:29.454989Z",
     "shell.execute_reply": "2021-12-17T00:26:29.454460Z"
    },
    "papermill": {
     "duration": 0.051161,
     "end_time": "2021-12-17T00:26:29.455109",
     "exception": false,
     "start_time": "2021-12-17T00:26:29.403948",
     "status": "completed"
    },
    "tags": []
   },
   "outputs": [],
   "source": [
    "# #hide\n",
    "# g = g[g.group.notna()]"
   ]
  },
  {
   "cell_type": "code",
   "execution_count": 40,
   "id": "determined-closing",
   "metadata": {
    "execution": {
     "iopub.execute_input": "2021-12-17T00:26:29.535697Z",
     "iopub.status.busy": "2021-12-17T00:26:29.535038Z",
     "iopub.status.idle": "2021-12-17T00:26:29.537481Z",
     "shell.execute_reply": "2021-12-17T00:26:29.537979Z"
    },
    "papermill": {
     "duration": 0.044536,
     "end_time": "2021-12-17T00:26:29.538112",
     "exception": false,
     "start_time": "2021-12-17T00:26:29.493576",
     "status": "completed"
    },
    "tags": []
   },
   "outputs": [],
   "source": [
    "# #hide\n",
    "# colors = dict(zip(\n",
    "#     [\"Oceania\", \"Europe\", \"Asia\", \"South America\", \"Middle East\", \"North America\", \"Africa\"],\n",
    "#     [\"#adb0ff\", \"#ffb3ff\", \"#90d595\", \"#e48381\", \"#aafbff\", \"#f7bb5f\", \"#eafb50\"]\n",
    "# ))\n",
    "# group_lk = g.set_index('name')['group'].to_dict()"
   ]
  },
  {
   "cell_type": "code",
   "execution_count": null,
   "id": "gross-drinking",
   "metadata": {
    "papermill": {
     "duration": 0.037616,
     "end_time": "2021-12-17T00:26:29.614728",
     "exception": false,
     "start_time": "2021-12-17T00:26:29.577112",
     "status": "completed"
    },
    "tags": []
   },
   "outputs": [],
   "source": []
  },
  {
   "cell_type": "code",
   "execution_count": 41,
   "id": "subject-macintosh",
   "metadata": {
    "execution": {
     "iopub.execute_input": "2021-12-17T00:26:29.693942Z",
     "iopub.status.busy": "2021-12-17T00:26:29.693112Z",
     "iopub.status.idle": "2021-12-17T00:26:29.696472Z",
     "shell.execute_reply": "2021-12-17T00:26:29.695965Z"
    },
    "papermill": {
     "duration": 0.043754,
     "end_time": "2021-12-17T00:26:29.696590",
     "exception": false,
     "start_time": "2021-12-17T00:26:29.652836",
     "status": "completed"
    },
    "tags": []
   },
   "outputs": [],
   "source": [
    "# #hide\n",
    "# fig, ax = plt.subplots(figsize=(15, 8))\n",
    "\n",
    "# def draw_barchart(current_day):\n",
    "#     dff = g[g['day'].eq(current_day)].sort_values(by='value', ascending=True).tail(10)\n",
    "#     ax.clear()\n",
    "#     ax.barh(dff['name'], dff['value'], color=[colors[group_lk[x]] for x in dff['name']])\n",
    "#     dx = dff['value'].max() / 200\n",
    "    \n",
    "#     for i, (value, name) in enumerate(zip(dff['value'], dff['name'])):\n",
    "#         ax.text(value-dx, i,     name,           size=14, weight=600, ha='right', va='bottom')\n",
    "#         ax.text(value-dx, i-.25, group_lk[name], size=10, color='#444444', ha='right', va='baseline')\n",
    "#         ax.text(value+dx, i,     f'{value:,.0f}',  size=14, ha='left',  va='center')\n",
    "#     ax.text(1, 0.4, current_day, transform=ax.transAxes, color='#777777', size=46, ha='right', weight=800)\n",
    "#     ax.text(0, 1.06, 'Population (thousands)', transform=ax.transAxes, size=12, color='#777777')\n",
    "#     ax.xaxis.set_major_formatter(ticker.StrMethodFormatter('{x:,.0f}'))\n",
    "#     ax.xaxis.set_ticks_position('top')\n",
    "#     ax.tick_params(axis='x', colors='#777777', labelsize=12)\n",
    "#     ax.set_yticks([])\n",
    "#     ax.margins(0, 0.01)\n",
    "#     ax.grid(which='major', axis='x', linestyle='-')\n",
    "#     ax.set_axisbelow(True)\n",
    "    \n",
    "#     ax.text(0, 1.15, 'Coronavirus',\n",
    "#             transform=ax.transAxes, size=24, weight=600, ha='left', va='top')\n",
    "# #     ax.text(1, 0, 'by @pratapvardhan; credit @jburnmurdoch', transform=ax.transAxes, color='#777777', ha='right',\n",
    "# #             bbox=dict(facecolor='white', alpha=0.8, edgecolor='white'))\n",
    "#     plt.box(False)"
   ]
  },
  {
   "cell_type": "code",
   "execution_count": 42,
   "id": "sexual-wages",
   "metadata": {
    "execution": {
     "iopub.execute_input": "2021-12-17T00:26:29.775577Z",
     "iopub.status.busy": "2021-12-17T00:26:29.774683Z",
     "iopub.status.idle": "2021-12-17T00:26:29.779368Z",
     "shell.execute_reply": "2021-12-17T00:26:29.778877Z"
    },
    "papermill": {
     "duration": 0.046201,
     "end_time": "2021-12-17T00:26:29.779487",
     "exception": false,
     "start_time": "2021-12-17T00:26:29.733286",
     "status": "completed"
    },
    "tags": []
   },
   "outputs": [],
   "source": [
    "# #hide_input\n",
    "# fig, ax = plt.subplots(figsize=(15, 8))\n",
    "# animator = animation.FuncAnimation(fig, draw_barchart, frames=range(g.day.values.min(), g.day.values.max()))\n",
    "# HTML(animator.to_jshtml())\n",
    "# # or use animator.to_html5_video() or animator.save() "
   ]
  },
  {
   "cell_type": "code",
   "execution_count": null,
   "id": "australian-container",
   "metadata": {
    "papermill": {
     "duration": 0.038099,
     "end_time": "2021-12-17T00:26:29.854862",
     "exception": false,
     "start_time": "2021-12-17T00:26:29.816763",
     "status": "completed"
    },
    "tags": []
   },
   "outputs": [],
   "source": []
  },
  {
   "cell_type": "code",
   "execution_count": null,
   "id": "mediterranean-pontiac",
   "metadata": {
    "papermill": {
     "duration": 0.038463,
     "end_time": "2021-12-17T00:26:29.930109",
     "exception": false,
     "start_time": "2021-12-17T00:26:29.891646",
     "status": "completed"
    },
    "tags": []
   },
   "outputs": [],
   "source": []
  },
  {
   "cell_type": "code",
   "execution_count": null,
   "id": "aging-legislature",
   "metadata": {
    "papermill": {
     "duration": 0.039401,
     "end_time": "2021-12-17T00:26:30.007998",
     "exception": false,
     "start_time": "2021-12-17T00:26:29.968597",
     "status": "completed"
    },
    "tags": []
   },
   "outputs": [],
   "source": []
  }
 ],
 "metadata": {
  "kernelspec": {
   "display_name": "Python 3",
   "language": "python",
   "name": "python3"
  },
  "language_info": {
   "codemirror_mode": {
    "name": "ipython",
    "version": 3
   },
   "file_extension": ".py",
   "mimetype": "text/x-python",
   "name": "python",
   "nbconvert_exporter": "python",
   "pygments_lexer": "ipython3",
   "version": "3.6.15"
  },
  "papermill": {
   "duration": 7.12161,
   "end_time": "2021-12-17T00:26:30.354243",
   "environment_variables": {},
   "exception": null,
   "input_path": "2020-03-21-covid19exp.ipynb",
   "output_path": "2020-03-21-covid19exp.ipynb",
   "parameters": {},
   "start_time": "2021-12-17T00:26:23.232633",
   "version": "2.0.0"
  }
 },
 "nbformat": 4,
 "nbformat_minor": 5
}