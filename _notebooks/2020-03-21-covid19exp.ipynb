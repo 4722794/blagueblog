{
 "cells": [
  {
   "cell_type": "markdown",
   "id": "muslim-click",
   "metadata": {
    "papermill": {
     "duration": 0.036148,
     "end_time": "2022-07-25T00:45:47.420631",
     "exception": false,
     "start_time": "2022-07-25T00:45:47.384483",
     "status": "completed"
    },
    "tags": []
   },
   "source": [
    "# COVID-19 Case Race\n",
    "> A race chart to see rising cases around the world\n",
    "\n",
    "- author: Hargun Oberoi\n",
    "- image: images/covid-overview.png\n",
    "- hide: false\n",
    "- badges: false"
   ]
  },
  {
   "cell_type": "code",
   "execution_count": 1,
   "id": "proof-material",
   "metadata": {
    "execution": {
     "iopub.execute_input": "2022-07-25T00:45:47.492285Z",
     "iopub.status.busy": "2022-07-25T00:45:47.491642Z",
     "iopub.status.idle": "2022-07-25T00:45:47.838731Z",
     "shell.execute_reply": "2022-07-25T00:45:47.839244Z"
    },
    "papermill": {
     "duration": 0.388021,
     "end_time": "2022-07-25T00:45:47.839418",
     "exception": false,
     "start_time": "2022-07-25T00:45:47.451397",
     "status": "completed"
    },
    "tags": []
   },
   "outputs": [],
   "source": [
    "#hide\n",
    "import numpy as np\n",
    "import pandas as pd\n",
    "from jinja2 import Template\n",
    "from IPython.display import HTML"
   ]
  },
  {
   "cell_type": "code",
   "execution_count": 2,
   "id": "developed-terminology",
   "metadata": {
    "execution": {
     "iopub.execute_input": "2022-07-25T00:45:47.904891Z",
     "iopub.status.busy": "2022-07-25T00:45:47.904161Z",
     "iopub.status.idle": "2022-07-25T00:45:47.906872Z",
     "shell.execute_reply": "2022-07-25T00:45:47.906323Z"
    },
    "papermill": {
     "duration": 0.037649,
     "end_time": "2022-07-25T00:45:47.906994",
     "exception": false,
     "start_time": "2022-07-25T00:45:47.869345",
     "status": "completed"
    },
    "tags": []
   },
   "outputs": [],
   "source": [
    "#hide\n",
    "\n",
    "# FETCH\n",
    "base_url = 'https://raw.githubusercontent.com/pratapvardhan/notebooks/master/covid19/'\n",
    "paths = {\n",
    "    'mapping': base_url + 'mapping_countries.csv',\n",
    "    'overview': base_url + 'overview.tpl'\n",
    "}"
   ]
  },
  {
   "cell_type": "code",
   "execution_count": 3,
   "id": "dynamic-saver",
   "metadata": {
    "execution": {
     "iopub.execute_input": "2022-07-25T00:45:47.982249Z",
     "iopub.status.busy": "2022-07-25T00:45:47.981630Z",
     "iopub.status.idle": "2022-07-25T00:45:47.984478Z",
     "shell.execute_reply": "2022-07-25T00:45:47.984955Z"
    },
    "papermill": {
     "duration": 0.043086,
     "end_time": "2022-07-25T00:45:47.985093",
     "exception": false,
     "start_time": "2022-07-25T00:45:47.942007",
     "status": "completed"
    },
    "tags": []
   },
   "outputs": [
    {
     "data": {
      "text/plain": [
       "'https://raw.githubusercontent.com/pratapvardhan/notebooks/master/covid19/mapping_countries.csv'"
      ]
     },
     "execution_count": 3,
     "metadata": {},
     "output_type": "execute_result"
    }
   ],
   "source": [
    "#hide\n",
    "paths['mapping']"
   ]
  },
  {
   "cell_type": "code",
   "execution_count": 4,
   "id": "urban-software",
   "metadata": {
    "execution": {
     "iopub.execute_input": "2022-07-25T00:45:48.050592Z",
     "iopub.status.busy": "2022-07-25T00:45:48.049947Z",
     "iopub.status.idle": "2022-07-25T00:45:48.052626Z",
     "shell.execute_reply": "2022-07-25T00:45:48.052139Z"
    },
    "papermill": {
     "duration": 0.03758,
     "end_time": "2022-07-25T00:45:48.052747",
     "exception": false,
     "start_time": "2022-07-25T00:45:48.015167",
     "status": "completed"
    },
    "tags": []
   },
   "outputs": [],
   "source": [
    "#hide\n",
    "def get_mappings(url):\n",
    "    df = pd.read_csv(url)\n",
    "    return {\n",
    "        'df': df,\n",
    "        'replace.country': dict(df.dropna(subset=['Name']).set_index('Country')['Name']),\n",
    "        'map.continent': dict(df.set_index('Name')['Continent'])\n",
    "    }"
   ]
  },
  {
   "cell_type": "code",
   "execution_count": 5,
   "id": "intimate-machinery",
   "metadata": {
    "execution": {
     "iopub.execute_input": "2022-07-25T00:45:48.118524Z",
     "iopub.status.busy": "2022-07-25T00:45:48.117875Z",
     "iopub.status.idle": "2022-07-25T00:45:48.148819Z",
     "shell.execute_reply": "2022-07-25T00:45:48.148329Z"
    },
    "papermill": {
     "duration": 0.066299,
     "end_time": "2022-07-25T00:45:48.148954",
     "exception": false,
     "start_time": "2022-07-25T00:45:48.082655",
     "status": "completed"
    },
    "tags": []
   },
   "outputs": [],
   "source": [
    "#hide\n",
    "mapping = get_mappings(paths['mapping'])"
   ]
  },
  {
   "cell_type": "code",
   "execution_count": 6,
   "id": "certified-tactics",
   "metadata": {
    "execution": {
     "iopub.execute_input": "2022-07-25T00:45:48.215321Z",
     "iopub.status.busy": "2022-07-25T00:45:48.214720Z",
     "iopub.status.idle": "2022-07-25T00:45:48.216994Z",
     "shell.execute_reply": "2022-07-25T00:45:48.216426Z"
    },
    "papermill": {
     "duration": 0.037939,
     "end_time": "2022-07-25T00:45:48.217107",
     "exception": false,
     "start_time": "2022-07-25T00:45:48.179168",
     "status": "completed"
    },
    "tags": []
   },
   "outputs": [],
   "source": [
    "#hide\n",
    "def get_template(path):\n",
    "    from urllib.parse import urlparse\n",
    "    if bool(urlparse(path).netloc):\n",
    "        from urllib.request import urlopen\n",
    "        return urlopen(path).read().decode('utf8')\n",
    "    return open(path).read()"
   ]
  },
  {
   "cell_type": "code",
   "execution_count": 7,
   "id": "realistic-blast",
   "metadata": {
    "execution": {
     "iopub.execute_input": "2022-07-25T00:45:48.283276Z",
     "iopub.status.busy": "2022-07-25T00:45:48.282545Z",
     "iopub.status.idle": "2022-07-25T00:45:48.284350Z",
     "shell.execute_reply": "2022-07-25T00:45:48.284876Z"
    },
    "papermill": {
     "duration": 0.037791,
     "end_time": "2022-07-25T00:45:48.285016",
     "exception": false,
     "start_time": "2022-07-25T00:45:48.247225",
     "status": "completed"
    },
    "tags": []
   },
   "outputs": [],
   "source": [
    "#hide\n",
    "def get_frame(name):\n",
    "    url = (\n",
    "        'https://raw.githubusercontent.com/CSSEGISandData/COVID-19/master/csse_covid_19_data/'\n",
    "        f'csse_covid_19_time_series/time_series_covid19_{name}_global.csv')\n",
    "    df = pd.read_csv(url)\n",
    "    # rename countries\n",
    "    df['Country/Region'] = df['Country/Region'].replace(mapping['replace.country'])\n",
    "    return df"
   ]
  },
  {
   "cell_type": "code",
   "execution_count": 8,
   "id": "affiliated-characterization",
   "metadata": {
    "execution": {
     "iopub.execute_input": "2022-07-25T00:45:48.351881Z",
     "iopub.status.busy": "2022-07-25T00:45:48.351232Z",
     "iopub.status.idle": "2022-07-25T00:45:48.353728Z",
     "shell.execute_reply": "2022-07-25T00:45:48.353138Z"
    },
    "papermill": {
     "duration": 0.038619,
     "end_time": "2022-07-25T00:45:48.353849",
     "exception": false,
     "start_time": "2022-07-25T00:45:48.315230",
     "status": "completed"
    },
    "tags": []
   },
   "outputs": [],
   "source": [
    "#hide\n",
    "def get_dates(df):\n",
    "    dt_cols = df.columns[~df.columns.isin(['Province/State', 'Country/Region', 'Lat', 'Long'])]\n",
    "    LAST_DATE_I = -1\n",
    "    # sometimes last column may be empty, then go backwards\n",
    "    for i in range(-1, -len(dt_cols), -1):\n",
    "        if not df[dt_cols[i]].fillna(0).eq(0).all():\n",
    "            LAST_DATE_I = i\n",
    "            break\n",
    "    return LAST_DATE_I, dt_cols"
   ]
  },
  {
   "cell_type": "code",
   "execution_count": 9,
   "id": "recent-optimization",
   "metadata": {
    "execution": {
     "iopub.execute_input": "2022-07-25T00:45:48.420414Z",
     "iopub.status.busy": "2022-07-25T00:45:48.419733Z",
     "iopub.status.idle": "2022-07-25T00:45:48.838634Z",
     "shell.execute_reply": "2022-07-25T00:45:48.839117Z"
    },
    "papermill": {
     "duration": 0.45488,
     "end_time": "2022-07-25T00:45:48.839279",
     "exception": false,
     "start_time": "2022-07-25T00:45:48.384399",
     "status": "completed"
    },
    "tags": []
   },
   "outputs": [],
   "source": [
    "#hide\n",
    "COL_REGION = 'Country/Region'\n",
    "# Confirmed, Recovered, Deaths\n",
    "df = get_frame('confirmed')\n",
    "# dft_: timeseries, dfc_: today country agg\n",
    "dft_cases = df\n",
    "dft_deaths = get_frame('deaths')\n",
    "dft_recovered = get_frame('recovered')\n",
    "LAST_DATE_I, dt_cols = get_dates(df)"
   ]
  },
  {
   "cell_type": "code",
   "execution_count": 10,
   "id": "absolute-copper",
   "metadata": {
    "execution": {
     "iopub.execute_input": "2022-07-25T00:45:48.905803Z",
     "iopub.status.busy": "2022-07-25T00:45:48.905097Z",
     "iopub.status.idle": "2022-07-25T00:45:48.907792Z",
     "shell.execute_reply": "2022-07-25T00:45:48.907209Z"
    },
    "papermill": {
     "duration": 0.038345,
     "end_time": "2022-07-25T00:45:48.907925",
     "exception": false,
     "start_time": "2022-07-25T00:45:48.869580",
     "status": "completed"
    },
    "tags": []
   },
   "outputs": [],
   "source": [
    "#hide\n",
    "LAST_DATE_I, dt_cols = get_dates(df)\n",
    "dt_today =dt_cols[LAST_DATE_I]\n",
    "# dt_5day = dt_cols[LAST_DATE_I - 5]\n",
    "dt_yday = dt_cols[LAST_DATE_I - 1]"
   ]
  },
  {
   "cell_type": "code",
   "execution_count": 11,
   "id": "restricted-sheriff",
   "metadata": {
    "execution": {
     "iopub.execute_input": "2022-07-25T00:45:48.978515Z",
     "iopub.status.busy": "2022-07-25T00:45:48.977885Z",
     "iopub.status.idle": "2022-07-25T00:45:48.985676Z",
     "shell.execute_reply": "2022-07-25T00:45:48.986102Z"
    },
    "papermill": {
     "duration": 0.043684,
     "end_time": "2022-07-25T00:45:48.986241",
     "exception": false,
     "start_time": "2022-07-25T00:45:48.942557",
     "status": "completed"
    },
    "tags": []
   },
   "outputs": [],
   "source": [
    "#hide\n",
    "dfc_cases = dft_cases.groupby(COL_REGION)[dt_today].sum()\n",
    "dfc_deaths = dft_deaths.groupby(COL_REGION)[dt_today].sum()\n",
    "# dfp_cases = dft_cases.groupby(COL_REGION)[dt_5day].sum()\n",
    "# dfp_deaths = dft_deaths.groupby(COL_REGION)[dt_5day].sum()\n",
    "dfp_cases = dft_cases.groupby(COL_REGION)[dt_yday].sum()\n",
    "dfp_deaths = dft_deaths.groupby(COL_REGION)[dt_yday].sum()"
   ]
  },
  {
   "cell_type": "code",
   "execution_count": 12,
   "id": "deluxe-hepatitis",
   "metadata": {
    "execution": {
     "iopub.execute_input": "2022-07-25T00:45:49.052085Z",
     "iopub.status.busy": "2022-07-25T00:45:49.051412Z",
     "iopub.status.idle": "2022-07-25T00:45:49.055964Z",
     "shell.execute_reply": "2022-07-25T00:45:49.056449Z"
    },
    "papermill": {
     "duration": 0.040591,
     "end_time": "2022-07-25T00:45:49.056586",
     "exception": false,
     "start_time": "2022-07-25T00:45:49.015995",
     "status": "completed"
    },
    "tags": []
   },
   "outputs": [],
   "source": [
    "#hide\n",
    "df_table = (pd.DataFrame(dict(Cases = dfc_cases, Deaths = dfc_deaths, PCases = dfp_cases, PDeaths = dfp_deaths))\n",
    "            .sort_values(by = ['Cases','Deaths'], ascending = [False, False])\n",
    "            .reset_index())"
   ]
  },
  {
   "cell_type": "code",
   "execution_count": 13,
   "id": "educational-chancellor",
   "metadata": {
    "execution": {
     "iopub.execute_input": "2022-07-25T00:45:49.124450Z",
     "iopub.status.busy": "2022-07-25T00:45:49.123839Z",
     "iopub.status.idle": "2022-07-25T00:45:49.141166Z",
     "shell.execute_reply": "2022-07-25T00:45:49.141601Z"
    },
    "papermill": {
     "duration": 0.055516,
     "end_time": "2022-07-25T00:45:49.141747",
     "exception": false,
     "start_time": "2022-07-25T00:45:49.086231",
     "status": "completed"
    },
    "tags": []
   },
   "outputs": [
    {
     "data": {
      "text/html": [
       "<div>\n",
       "<style scoped>\n",
       "    .dataframe tbody tr th:only-of-type {\n",
       "        vertical-align: middle;\n",
       "    }\n",
       "\n",
       "    .dataframe tbody tr th {\n",
       "        vertical-align: top;\n",
       "    }\n",
       "\n",
       "    .dataframe thead th {\n",
       "        text-align: right;\n",
       "    }\n",
       "</style>\n",
       "<table border=\"1\" class=\"dataframe\">\n",
       "  <thead>\n",
       "    <tr style=\"text-align: right;\">\n",
       "      <th></th>\n",
       "      <th>Country/Region</th>\n",
       "      <th>Cases</th>\n",
       "      <th>Deaths</th>\n",
       "      <th>PCases</th>\n",
       "      <th>PDeaths</th>\n",
       "      <th>Cases (+)</th>\n",
       "      <th>Deaths (+)</th>\n",
       "      <th>Fatality Rate</th>\n",
       "      <th>Continent</th>\n",
       "    </tr>\n",
       "  </thead>\n",
       "  <tbody>\n",
       "    <tr>\n",
       "      <th>0</th>\n",
       "      <td>US</td>\n",
       "      <td>90390185</td>\n",
       "      <td>1026937</td>\n",
       "      <td>90367064</td>\n",
       "      <td>1026883</td>\n",
       "      <td>23121</td>\n",
       "      <td>54</td>\n",
       "      <td>1.14</td>\n",
       "      <td>North America</td>\n",
       "    </tr>\n",
       "    <tr>\n",
       "      <th>1</th>\n",
       "      <td>India</td>\n",
       "      <td>43888755</td>\n",
       "      <td>526033</td>\n",
       "      <td>43868476</td>\n",
       "      <td>525997</td>\n",
       "      <td>20279</td>\n",
       "      <td>36</td>\n",
       "      <td>1.20</td>\n",
       "      <td>Asia</td>\n",
       "    </tr>\n",
       "    <tr>\n",
       "      <th>2</th>\n",
       "      <td>France</td>\n",
       "      <td>33621366</td>\n",
       "      <td>152390</td>\n",
       "      <td>33621366</td>\n",
       "      <td>152390</td>\n",
       "      <td>0</td>\n",
       "      <td>0</td>\n",
       "      <td>0.45</td>\n",
       "      <td>Europe</td>\n",
       "    </tr>\n",
       "    <tr>\n",
       "      <th>3</th>\n",
       "      <td>Brazil</td>\n",
       "      <td>33555526</td>\n",
       "      <td>676766</td>\n",
       "      <td>33555526</td>\n",
       "      <td>676766</td>\n",
       "      <td>0</td>\n",
       "      <td>0</td>\n",
       "      <td>2.02</td>\n",
       "      <td>South America</td>\n",
       "    </tr>\n",
       "    <tr>\n",
       "      <th>4</th>\n",
       "      <td>Germany</td>\n",
       "      <td>30331133</td>\n",
       "      <td>143177</td>\n",
       "      <td>30331131</td>\n",
       "      <td>143177</td>\n",
       "      <td>2</td>\n",
       "      <td>0</td>\n",
       "      <td>0.47</td>\n",
       "      <td>Europe</td>\n",
       "    </tr>\n",
       "  </tbody>\n",
       "</table>\n",
       "</div>"
      ],
      "text/plain": [
       "  Country/Region     Cases   Deaths    PCases  PDeaths  Cases (+)  Deaths (+)  \\\n",
       "0             US  90390185  1026937  90367064  1026883      23121          54   \n",
       "1          India  43888755   526033  43868476   525997      20279          36   \n",
       "2         France  33621366   152390  33621366   152390          0           0   \n",
       "3         Brazil  33555526   676766  33555526   676766          0           0   \n",
       "4        Germany  30331133   143177  30331131   143177          2           0   \n",
       "\n",
       "   Fatality Rate      Continent  \n",
       "0           1.14  North America  \n",
       "1           1.20           Asia  \n",
       "2           0.45         Europe  \n",
       "3           2.02  South America  \n",
       "4           0.47         Europe  "
      ]
     },
     "execution_count": 13,
     "metadata": {},
     "output_type": "execute_result"
    }
   ],
   "source": [
    "#hide\n",
    "for c in 'Cases, Deaths'.split(', '):\n",
    "    df_table[f'{c} (+)'] = (df_table[c] - df_table[f'P{c}']).clip(0)\n",
    "    #Clip ça veut dire, les chiffres negatif sont interdit\n",
    "df_table['Fatality Rate'] = (100* df_table['Deaths']/ df_table['Cases']).round(2)\n",
    "df_table['Continent'] = df_table['Country/Region'].map(mapping['map.continent'])\n",
    "df_table.head(5)"
   ]
  },
  {
   "cell_type": "code",
   "execution_count": 14,
   "id": "aboriginal-bulgaria",
   "metadata": {
    "execution": {
     "iopub.execute_input": "2022-07-25T00:45:49.209002Z",
     "iopub.status.busy": "2022-07-25T00:45:49.208403Z",
     "iopub.status.idle": "2022-07-25T00:45:49.210952Z",
     "shell.execute_reply": "2022-07-25T00:45:49.211509Z"
    },
    "papermill": {
     "duration": 0.039442,
     "end_time": "2022-07-25T00:45:49.211643",
     "exception": false,
     "start_time": "2022-07-25T00:45:49.172201",
     "status": "completed"
    },
    "tags": []
   },
   "outputs": [],
   "source": [
    "#hide\n",
    "#delete problematic countries from table\n",
    "df_table = df_table[~df_table['Country/Region'].isin(['Cape Verde', 'Cruise Ship', 'Kosovo'])]"
   ]
  },
  {
   "cell_type": "code",
   "execution_count": 15,
   "id": "fantastic-effect",
   "metadata": {
    "execution": {
     "iopub.execute_input": "2022-07-25T00:45:49.281060Z",
     "iopub.status.busy": "2022-07-25T00:45:49.280405Z",
     "iopub.status.idle": "2022-07-25T00:45:49.297854Z",
     "shell.execute_reply": "2022-07-25T00:45:49.298378Z"
    },
    "papermill": {
     "duration": 0.056619,
     "end_time": "2022-07-25T00:45:49.298533",
     "exception": false,
     "start_time": "2022-07-25T00:45:49.241914",
     "status": "completed"
    },
    "tags": []
   },
   "outputs": [
    {
     "data": {
      "text/html": [
       "<div>\n",
       "<style scoped>\n",
       "    .dataframe tbody tr th:only-of-type {\n",
       "        vertical-align: middle;\n",
       "    }\n",
       "\n",
       "    .dataframe tbody tr th {\n",
       "        vertical-align: top;\n",
       "    }\n",
       "\n",
       "    .dataframe thead th {\n",
       "        text-align: right;\n",
       "    }\n",
       "</style>\n",
       "<table border=\"1\" class=\"dataframe\">\n",
       "  <thead>\n",
       "    <tr style=\"text-align: right;\">\n",
       "      <th></th>\n",
       "      <th>Country/Region</th>\n",
       "      <th>Cases</th>\n",
       "      <th>Deaths</th>\n",
       "      <th>PCases</th>\n",
       "      <th>PDeaths</th>\n",
       "      <th>Cases (+)</th>\n",
       "      <th>Deaths (+)</th>\n",
       "      <th>Fatality Rate</th>\n",
       "      <th>Continent</th>\n",
       "    </tr>\n",
       "  </thead>\n",
       "  <tbody>\n",
       "    <tr>\n",
       "      <th>0</th>\n",
       "      <td>US</td>\n",
       "      <td>90390185</td>\n",
       "      <td>1026937</td>\n",
       "      <td>90367064</td>\n",
       "      <td>1026883</td>\n",
       "      <td>23121</td>\n",
       "      <td>54</td>\n",
       "      <td>1.1</td>\n",
       "      <td>North America</td>\n",
       "    </tr>\n",
       "    <tr>\n",
       "      <th>1</th>\n",
       "      <td>India</td>\n",
       "      <td>43888755</td>\n",
       "      <td>526033</td>\n",
       "      <td>43868476</td>\n",
       "      <td>525997</td>\n",
       "      <td>20279</td>\n",
       "      <td>36</td>\n",
       "      <td>1.2</td>\n",
       "      <td>Asia</td>\n",
       "    </tr>\n",
       "    <tr>\n",
       "      <th>2</th>\n",
       "      <td>France</td>\n",
       "      <td>33621366</td>\n",
       "      <td>152390</td>\n",
       "      <td>33621366</td>\n",
       "      <td>152390</td>\n",
       "      <td>0</td>\n",
       "      <td>0</td>\n",
       "      <td>0.5</td>\n",
       "      <td>Europe</td>\n",
       "    </tr>\n",
       "    <tr>\n",
       "      <th>3</th>\n",
       "      <td>Brazil</td>\n",
       "      <td>33555526</td>\n",
       "      <td>676766</td>\n",
       "      <td>33555526</td>\n",
       "      <td>676766</td>\n",
       "      <td>0</td>\n",
       "      <td>0</td>\n",
       "      <td>2.0</td>\n",
       "      <td>South America</td>\n",
       "    </tr>\n",
       "    <tr>\n",
       "      <th>4</th>\n",
       "      <td>Germany</td>\n",
       "      <td>30331133</td>\n",
       "      <td>143177</td>\n",
       "      <td>30331131</td>\n",
       "      <td>143177</td>\n",
       "      <td>2</td>\n",
       "      <td>0</td>\n",
       "      <td>0.5</td>\n",
       "      <td>Europe</td>\n",
       "    </tr>\n",
       "  </tbody>\n",
       "</table>\n",
       "</div>"
      ],
      "text/plain": [
       "  Country/Region     Cases   Deaths    PCases  PDeaths  Cases (+)  Deaths (+)  \\\n",
       "0             US  90390185  1026937  90367064  1026883      23121          54   \n",
       "1          India  43888755   526033  43868476   525997      20279          36   \n",
       "2         France  33621366   152390  33621366   152390          0           0   \n",
       "3         Brazil  33555526   676766  33555526   676766          0           0   \n",
       "4        Germany  30331133   143177  30331131   143177          2           0   \n",
       "\n",
       "   Fatality Rate      Continent  \n",
       "0            1.1  North America  \n",
       "1            1.2           Asia  \n",
       "2            0.5         Europe  \n",
       "3            2.0  South America  \n",
       "4            0.5         Europe  "
      ]
     },
     "execution_count": 15,
     "metadata": {},
     "output_type": "execute_result"
    }
   ],
   "source": [
    "#hide\n",
    "df_table = (pd.DataFrame(dict(Cases=dfc_cases, Deaths=dfc_deaths, PCases=dfp_cases, PDeaths=dfp_deaths))\n",
    "             .sort_values(by=['Cases', 'Deaths'], ascending=[False, False])\n",
    "             .reset_index())\n",
    "df_table.rename(columns={'index': 'Country/Region'}, inplace=True)\n",
    "for c in 'Cases, Deaths'.split(', '):\n",
    "    df_table[f'{c} (+)'] = (df_table[c] - df_table[f'P{c}']).clip(0)  # DATA BUG\n",
    "df_table['Fatality Rate'] = (100 * df_table['Deaths'] / df_table['Cases']).round(1)\n",
    "df_table['Continent'] = df_table['Country/Region'].map(mapping['map.continent'])\n",
    "df_table.head(5)"
   ]
  },
  {
   "cell_type": "code",
   "execution_count": 16,
   "id": "fewer-occasion",
   "metadata": {
    "execution": {
     "iopub.execute_input": "2022-07-25T00:45:49.371987Z",
     "iopub.status.busy": "2022-07-25T00:45:49.371265Z",
     "iopub.status.idle": "2022-07-25T00:45:49.373982Z",
     "shell.execute_reply": "2022-07-25T00:45:49.373476Z"
    },
    "papermill": {
     "duration": 0.039733,
     "end_time": "2022-07-25T00:45:49.374116",
     "exception": false,
     "start_time": "2022-07-25T00:45:49.334383",
     "status": "completed"
    },
    "tags": []
   },
   "outputs": [],
   "source": [
    "#hide\n",
    "#delete problematic countries from table\n",
    "df_table = df_table[~df_table['Country/Region'].isin(['Cape Verde', 'Cruise Ship', 'Kosovo'])]"
   ]
  },
  {
   "cell_type": "code",
   "execution_count": 17,
   "id": "related-center",
   "metadata": {
    "execution": {
     "iopub.execute_input": "2022-07-25T00:45:49.440631Z",
     "iopub.status.busy": "2022-07-25T00:45:49.440017Z",
     "iopub.status.idle": "2022-07-25T00:45:49.458134Z",
     "shell.execute_reply": "2022-07-25T00:45:49.457648Z"
    },
    "papermill": {
     "duration": 0.05273,
     "end_time": "2022-07-25T00:45:49.458260",
     "exception": false,
     "start_time": "2022-07-25T00:45:49.405530",
     "status": "completed"
    },
    "tags": []
   },
   "outputs": [],
   "source": [
    "#hide\n",
    "metrics = [df_table.columns[index] for index in [1,2,5,6]]\n",
    "# s_china = df_table[df_table['Country/Region'].eq('China')][metrics].sum().add_prefix('China ')\n",
    "s_us = df_table[df_table['Country/Region'].eq('US')][metrics].sum().add_prefix('US ')\n",
    "s_eu = df_table[df_table['Continent'].eq('Europe')][metrics].sum().add_prefix('EU ')\n",
    "s_ind = df_table[df_table['Country/Region'].eq('India')][metrics].sum().add_prefix('India ')\n",
    "summary = {'updated': pd.to_datetime(dt_today), 'since': pd.to_datetime(dt_yday)}\n",
    "summary = {'updated': pd.to_datetime(dt_today), 'since': pd.to_datetime(dt_yday)}\n",
    "summary = {**summary, **df_table[metrics].sum(), **s_ind, **s_us, **s_eu}"
   ]
  },
  {
   "cell_type": "code",
   "execution_count": 18,
   "id": "engaging-syndrome",
   "metadata": {
    "execution": {
     "iopub.execute_input": "2022-07-25T00:45:49.523659Z",
     "iopub.status.busy": "2022-07-25T00:45:49.523018Z",
     "iopub.status.idle": "2022-07-25T00:45:49.546985Z",
     "shell.execute_reply": "2022-07-25T00:45:49.546470Z"
    },
    "papermill": {
     "duration": 0.057768,
     "end_time": "2022-07-25T00:45:49.547116",
     "exception": false,
     "start_time": "2022-07-25T00:45:49.489348",
     "status": "completed"
    },
    "tags": []
   },
   "outputs": [],
   "source": [
    "#hide\n",
    "dft_ct_new_cases = dft_cases.groupby(COL_REGION)[dt_cols].sum().diff(axis=1).fillna(0).astype(int)"
   ]
  },
  {
   "cell_type": "code",
   "execution_count": 19,
   "id": "neutral-assignment",
   "metadata": {
    "execution": {
     "iopub.execute_input": "2022-07-25T00:45:49.615471Z",
     "iopub.status.busy": "2022-07-25T00:45:49.614853Z",
     "iopub.status.idle": "2022-07-25T00:45:49.617803Z",
     "shell.execute_reply": "2022-07-25T00:45:49.618414Z"
    },
    "papermill": {
     "duration": 0.040602,
     "end_time": "2022-07-25T00:45:49.618562",
     "exception": false,
     "start_time": "2022-07-25T00:45:49.577960",
     "status": "completed"
    },
    "tags": []
   },
   "outputs": [],
   "source": [
    "#hide\n",
    "everydaycases = dft_ct_new_cases.cumsum(axis=1)"
   ]
  },
  {
   "cell_type": "code",
   "execution_count": 20,
   "id": "parliamentary-calgary",
   "metadata": {
    "execution": {
     "iopub.execute_input": "2022-07-25T00:45:49.685435Z",
     "iopub.status.busy": "2022-07-25T00:45:49.684826Z",
     "iopub.status.idle": "2022-07-25T00:45:50.276786Z",
     "shell.execute_reply": "2022-07-25T00:45:50.277302Z"
    },
    "papermill": {
     "duration": 0.627937,
     "end_time": "2022-07-25T00:45:50.277457",
     "exception": false,
     "start_time": "2022-07-25T00:45:49.649520",
     "status": "completed"
    },
    "tags": []
   },
   "outputs": [],
   "source": [
    "#hide\n",
    "import pandas as pd\n",
    "import matplotlib.pyplot as plt\n",
    "import matplotlib.ticker as ticker\n",
    "import matplotlib.animation as animation\n",
    "from IPython.display import HTML"
   ]
  },
  {
   "cell_type": "code",
   "execution_count": 21,
   "id": "lasting-extraction",
   "metadata": {
    "execution": {
     "iopub.execute_input": "2022-07-25T00:45:50.346248Z",
     "iopub.status.busy": "2022-07-25T00:45:50.345639Z",
     "iopub.status.idle": "2022-07-25T00:45:50.352784Z",
     "shell.execute_reply": "2022-07-25T00:45:50.353240Z"
    },
    "papermill": {
     "duration": 0.045067,
     "end_time": "2022-07-25T00:45:50.353380",
     "exception": false,
     "start_time": "2022-07-25T00:45:50.308313",
     "status": "completed"
    },
    "tags": []
   },
   "outputs": [],
   "source": [
    "#hide\n",
    "t = everydaycases.stack()"
   ]
  },
  {
   "cell_type": "code",
   "execution_count": 22,
   "id": "premier-sleeve",
   "metadata": {
    "execution": {
     "iopub.execute_input": "2022-07-25T00:45:50.420385Z",
     "iopub.status.busy": "2022-07-25T00:45:50.419759Z",
     "iopub.status.idle": "2022-07-25T00:45:50.431723Z",
     "shell.execute_reply": "2022-07-25T00:45:50.432199Z"
    },
    "papermill": {
     "duration": 0.047955,
     "end_time": "2022-07-25T00:45:50.432354",
     "exception": false,
     "start_time": "2022-07-25T00:45:50.384399",
     "status": "completed"
    },
    "tags": []
   },
   "outputs": [],
   "source": [
    "#hide\n",
    "g = t.reset_index(['Country/Region'])"
   ]
  },
  {
   "cell_type": "code",
   "execution_count": 23,
   "id": "distributed-pittsburgh",
   "metadata": {
    "execution": {
     "iopub.execute_input": "2022-07-25T00:45:50.500750Z",
     "iopub.status.busy": "2022-07-25T00:45:50.499258Z",
     "iopub.status.idle": "2022-07-25T00:45:50.501445Z",
     "shell.execute_reply": "2022-07-25T00:45:50.501891Z"
    },
    "papermill": {
     "duration": 0.038324,
     "end_time": "2022-07-25T00:45:50.502030",
     "exception": false,
     "start_time": "2022-07-25T00:45:50.463706",
     "status": "completed"
    },
    "tags": []
   },
   "outputs": [],
   "source": [
    "#hide\n",
    "g.index.name = 'date'"
   ]
  },
  {
   "cell_type": "code",
   "execution_count": 24,
   "id": "naked-donor",
   "metadata": {
    "execution": {
     "iopub.execute_input": "2022-07-25T00:45:50.568629Z",
     "iopub.status.busy": "2022-07-25T00:45:50.567912Z",
     "iopub.status.idle": "2022-07-25T00:45:50.572455Z",
     "shell.execute_reply": "2022-07-25T00:45:50.571862Z"
    },
    "papermill": {
     "duration": 0.039229,
     "end_time": "2022-07-25T00:45:50.572576",
     "exception": false,
     "start_time": "2022-07-25T00:45:50.533347",
     "status": "completed"
    },
    "tags": []
   },
   "outputs": [],
   "source": [
    "# #hide\n",
    "# g = g.reset_index(['date'])"
   ]
  },
  {
   "cell_type": "code",
   "execution_count": 25,
   "id": "incomplete-mustang",
   "metadata": {
    "execution": {
     "iopub.execute_input": "2022-07-25T00:45:50.639890Z",
     "iopub.status.busy": "2022-07-25T00:45:50.638369Z",
     "iopub.status.idle": "2022-07-25T00:45:50.640580Z",
     "shell.execute_reply": "2022-07-25T00:45:50.641029Z"
    },
    "papermill": {
     "duration": 0.037589,
     "end_time": "2022-07-25T00:45:50.641166",
     "exception": false,
     "start_time": "2022-07-25T00:45:50.603577",
     "status": "completed"
    },
    "tags": []
   },
   "outputs": [],
   "source": [
    "#hide\n",
    "# g.head()"
   ]
  },
  {
   "cell_type": "code",
   "execution_count": 26,
   "id": "specific-kruger",
   "metadata": {
    "execution": {
     "iopub.execute_input": "2022-07-25T00:45:50.707812Z",
     "iopub.status.busy": "2022-07-25T00:45:50.707079Z",
     "iopub.status.idle": "2022-07-25T00:45:50.709004Z",
     "shell.execute_reply": "2022-07-25T00:45:50.709516Z"
    },
    "papermill": {
     "duration": 0.037275,
     "end_time": "2022-07-25T00:45:50.709670",
     "exception": false,
     "start_time": "2022-07-25T00:45:50.672395",
     "status": "completed"
    },
    "tags": []
   },
   "outputs": [],
   "source": [
    "#hide\n",
    "# g.columns = ['date','country','cases']"
   ]
  },
  {
   "cell_type": "code",
   "execution_count": 27,
   "id": "tender-conversion",
   "metadata": {
    "execution": {
     "iopub.execute_input": "2022-07-25T00:45:50.776852Z",
     "iopub.status.busy": "2022-07-25T00:45:50.776247Z",
     "iopub.status.idle": "2022-07-25T00:45:50.778507Z",
     "shell.execute_reply": "2022-07-25T00:45:50.779000Z"
    },
    "papermill": {
     "duration": 0.037135,
     "end_time": "2022-07-25T00:45:50.779140",
     "exception": false,
     "start_time": "2022-07-25T00:45:50.742005",
     "status": "completed"
    },
    "tags": []
   },
   "outputs": [],
   "source": [
    "#hide\n",
    "# g['continent'] = g.country"
   ]
  },
  {
   "cell_type": "code",
   "execution_count": 28,
   "id": "substantial-wilderness",
   "metadata": {
    "execution": {
     "iopub.execute_input": "2022-07-25T00:45:50.844916Z",
     "iopub.status.busy": "2022-07-25T00:45:50.844289Z",
     "iopub.status.idle": "2022-07-25T00:45:50.847982Z",
     "shell.execute_reply": "2022-07-25T00:45:50.848420Z"
    },
    "papermill": {
     "duration": 0.038417,
     "end_time": "2022-07-25T00:45:50.848564",
     "exception": false,
     "start_time": "2022-07-25T00:45:50.810147",
     "status": "completed"
    },
    "tags": []
   },
   "outputs": [],
   "source": [
    "#hide\n",
    "# cols = list(g.columns.values)"
   ]
  },
  {
   "cell_type": "code",
   "execution_count": 29,
   "id": "solved-farming",
   "metadata": {
    "execution": {
     "iopub.execute_input": "2022-07-25T00:45:50.915992Z",
     "iopub.status.busy": "2022-07-25T00:45:50.915304Z",
     "iopub.status.idle": "2022-07-25T00:45:50.917934Z",
     "shell.execute_reply": "2022-07-25T00:45:50.917438Z"
    },
    "papermill": {
     "duration": 0.037657,
     "end_time": "2022-07-25T00:45:50.918044",
     "exception": false,
     "start_time": "2022-07-25T00:45:50.880387",
     "status": "completed"
    },
    "tags": []
   },
   "outputs": [],
   "source": [
    "#hide\n",
    "# cols.insert(0, cols.pop())"
   ]
  },
  {
   "cell_type": "code",
   "execution_count": 30,
   "id": "executed-adoption",
   "metadata": {
    "execution": {
     "iopub.execute_input": "2022-07-25T00:45:50.983499Z",
     "iopub.status.busy": "2022-07-25T00:45:50.982789Z",
     "iopub.status.idle": "2022-07-25T00:45:50.985384Z",
     "shell.execute_reply": "2022-07-25T00:45:50.984706Z"
    },
    "papermill": {
     "duration": 0.036855,
     "end_time": "2022-07-25T00:45:50.985519",
     "exception": false,
     "start_time": "2022-07-25T00:45:50.948664",
     "status": "completed"
    },
    "tags": []
   },
   "outputs": [],
   "source": [
    "#hide\n",
    "# g = g[cols]"
   ]
  },
  {
   "cell_type": "code",
   "execution_count": 31,
   "id": "subject-dublin",
   "metadata": {
    "execution": {
     "iopub.execute_input": "2022-07-25T00:45:51.055038Z",
     "iopub.status.busy": "2022-07-25T00:45:51.054383Z",
     "iopub.status.idle": "2022-07-25T00:45:51.058623Z",
     "shell.execute_reply": "2022-07-25T00:45:51.058096Z"
    },
    "papermill": {
     "duration": 0.041836,
     "end_time": "2022-07-25T00:45:51.058751",
     "exception": false,
     "start_time": "2022-07-25T00:45:51.016915",
     "status": "completed"
    },
    "tags": []
   },
   "outputs": [],
   "source": [
    "#hide\n",
    "# g['continent'] = g['continent'].map(mapping['map.continent'])"
   ]
  },
  {
   "cell_type": "code",
   "execution_count": 32,
   "id": "freelance-scout",
   "metadata": {
    "execution": {
     "iopub.execute_input": "2022-07-25T00:45:51.124117Z",
     "iopub.status.busy": "2022-07-25T00:45:51.123487Z",
     "iopub.status.idle": "2022-07-25T00:45:51.126491Z",
     "shell.execute_reply": "2022-07-25T00:45:51.127078Z"
    },
    "papermill": {
     "duration": 0.037326,
     "end_time": "2022-07-25T00:45:51.127221",
     "exception": false,
     "start_time": "2022-07-25T00:45:51.089895",
     "status": "completed"
    },
    "tags": []
   },
   "outputs": [],
   "source": [
    "#hide\n",
    "# g.head()"
   ]
  },
  {
   "cell_type": "code",
   "execution_count": 33,
   "id": "limited-engine",
   "metadata": {
    "execution": {
     "iopub.execute_input": "2022-07-25T00:45:51.193448Z",
     "iopub.status.busy": "2022-07-25T00:45:51.192775Z",
     "iopub.status.idle": "2022-07-25T00:45:51.195226Z",
     "shell.execute_reply": "2022-07-25T00:45:51.194743Z"
    },
    "papermill": {
     "duration": 0.037193,
     "end_time": "2022-07-25T00:45:51.195345",
     "exception": false,
     "start_time": "2022-07-25T00:45:51.158152",
     "status": "completed"
    },
    "tags": []
   },
   "outputs": [],
   "source": [
    "# hide\n",
    "# g['date'] = g['date'].astype('datetime64[ns]')"
   ]
  },
  {
   "cell_type": "code",
   "execution_count": 34,
   "id": "sophisticated-supervisor",
   "metadata": {
    "execution": {
     "iopub.execute_input": "2022-07-25T00:45:51.264493Z",
     "iopub.status.busy": "2022-07-25T00:45:51.263898Z",
     "iopub.status.idle": "2022-07-25T00:45:51.266016Z",
     "shell.execute_reply": "2022-07-25T00:45:51.265445Z"
    },
    "papermill": {
     "duration": 0.037888,
     "end_time": "2022-07-25T00:45:51.266137",
     "exception": false,
     "start_time": "2022-07-25T00:45:51.228249",
     "status": "completed"
    },
    "tags": []
   },
   "outputs": [],
   "source": [
    "#hide\n",
    "# g['date'] = g.date.dt.dayofyear"
   ]
  },
  {
   "cell_type": "code",
   "execution_count": 35,
   "id": "inside-dubai",
   "metadata": {
    "execution": {
     "iopub.execute_input": "2022-07-25T00:45:51.331749Z",
     "iopub.status.busy": "2022-07-25T00:45:51.331129Z",
     "iopub.status.idle": "2022-07-25T00:45:51.334939Z",
     "shell.execute_reply": "2022-07-25T00:45:51.334437Z"
    },
    "papermill": {
     "duration": 0.037774,
     "end_time": "2022-07-25T00:45:51.335062",
     "exception": false,
     "start_time": "2022-07-25T00:45:51.297288",
     "status": "completed"
    },
    "tags": []
   },
   "outputs": [],
   "source": [
    "#hide\n",
    "# g = g.rename(columns= {'continent':'group','country':'name','cases':'value'})"
   ]
  },
  {
   "cell_type": "code",
   "execution_count": 36,
   "id": "fleet-motorcycle",
   "metadata": {
    "execution": {
     "iopub.execute_input": "2022-07-25T00:45:51.403060Z",
     "iopub.status.busy": "2022-07-25T00:45:51.402340Z",
     "iopub.status.idle": "2022-07-25T00:45:51.405302Z",
     "shell.execute_reply": "2022-07-25T00:45:51.404644Z"
    },
    "papermill": {
     "duration": 0.038338,
     "end_time": "2022-07-25T00:45:51.405442",
     "exception": false,
     "start_time": "2022-07-25T00:45:51.367104",
     "status": "completed"
    },
    "tags": []
   },
   "outputs": [],
   "source": [
    "#hide\n",
    "# cols = ['name','group','day','value']"
   ]
  },
  {
   "cell_type": "code",
   "execution_count": 37,
   "id": "continued-sleeping",
   "metadata": {
    "execution": {
     "iopub.execute_input": "2022-07-25T00:45:51.476641Z",
     "iopub.status.busy": "2022-07-25T00:45:51.476036Z",
     "iopub.status.idle": "2022-07-25T00:45:51.478326Z",
     "shell.execute_reply": "2022-07-25T00:45:51.478819Z"
    },
    "papermill": {
     "duration": 0.038063,
     "end_time": "2022-07-25T00:45:51.478960",
     "exception": false,
     "start_time": "2022-07-25T00:45:51.440897",
     "status": "completed"
    },
    "tags": []
   },
   "outputs": [],
   "source": [
    "#hide\n",
    "# g.rename(columns= {'date':'day'},inplace = True)"
   ]
  },
  {
   "cell_type": "code",
   "execution_count": 38,
   "id": "major-fight",
   "metadata": {
    "execution": {
     "iopub.execute_input": "2022-07-25T00:45:51.545091Z",
     "iopub.status.busy": "2022-07-25T00:45:51.544469Z",
     "iopub.status.idle": "2022-07-25T00:45:51.547313Z",
     "shell.execute_reply": "2022-07-25T00:45:51.546723Z"
    },
    "papermill": {
     "duration": 0.037543,
     "end_time": "2022-07-25T00:45:51.547435",
     "exception": false,
     "start_time": "2022-07-25T00:45:51.509892",
     "status": "completed"
    },
    "tags": []
   },
   "outputs": [],
   "source": [
    "#hide\n",
    "# g = g[cols]"
   ]
  },
  {
   "cell_type": "code",
   "execution_count": 39,
   "id": "structured-mobile",
   "metadata": {
    "execution": {
     "iopub.execute_input": "2022-07-25T00:45:51.613751Z",
     "iopub.status.busy": "2022-07-25T00:45:51.613123Z",
     "iopub.status.idle": "2022-07-25T00:45:51.615571Z",
     "shell.execute_reply": "2022-07-25T00:45:51.615091Z"
    },
    "papermill": {
     "duration": 0.037288,
     "end_time": "2022-07-25T00:45:51.615688",
     "exception": false,
     "start_time": "2022-07-25T00:45:51.578400",
     "status": "completed"
    },
    "tags": []
   },
   "outputs": [],
   "source": [
    "# #hide\n",
    "# g = g[g.group.notna()]"
   ]
  },
  {
   "cell_type": "code",
   "execution_count": 40,
   "id": "determined-closing",
   "metadata": {
    "execution": {
     "iopub.execute_input": "2022-07-25T00:45:51.682302Z",
     "iopub.status.busy": "2022-07-25T00:45:51.681558Z",
     "iopub.status.idle": "2022-07-25T00:45:51.684304Z",
     "shell.execute_reply": "2022-07-25T00:45:51.683781Z"
    },
    "papermill": {
     "duration": 0.037741,
     "end_time": "2022-07-25T00:45:51.684449",
     "exception": false,
     "start_time": "2022-07-25T00:45:51.646708",
     "status": "completed"
    },
    "tags": []
   },
   "outputs": [],
   "source": [
    "# #hide\n",
    "# colors = dict(zip(\n",
    "#     [\"Oceania\", \"Europe\", \"Asia\", \"South America\", \"Middle East\", \"North America\", \"Africa\"],\n",
    "#     [\"#adb0ff\", \"#ffb3ff\", \"#90d595\", \"#e48381\", \"#aafbff\", \"#f7bb5f\", \"#eafb50\"]\n",
    "# ))\n",
    "# group_lk = g.set_index('name')['group'].to_dict()"
   ]
  },
  {
   "cell_type": "code",
   "execution_count": null,
   "id": "gross-drinking",
   "metadata": {
    "papermill": {
     "duration": 0.030852,
     "end_time": "2022-07-25T00:45:51.745987",
     "exception": false,
     "start_time": "2022-07-25T00:45:51.715135",
     "status": "completed"
    },
    "tags": []
   },
   "outputs": [],
   "source": []
  },
  {
   "cell_type": "code",
   "execution_count": 41,
   "id": "subject-macintosh",
   "metadata": {
    "execution": {
     "iopub.execute_input": "2022-07-25T00:45:51.812745Z",
     "iopub.status.busy": "2022-07-25T00:45:51.812016Z",
     "iopub.status.idle": "2022-07-25T00:45:51.814609Z",
     "shell.execute_reply": "2022-07-25T00:45:51.813915Z"
    },
    "papermill": {
     "duration": 0.037908,
     "end_time": "2022-07-25T00:45:51.814746",
     "exception": false,
     "start_time": "2022-07-25T00:45:51.776838",
     "status": "completed"
    },
    "tags": []
   },
   "outputs": [],
   "source": [
    "# #hide\n",
    "# fig, ax = plt.subplots(figsize=(15, 8))\n",
    "\n",
    "# def draw_barchart(current_day):\n",
    "#     dff = g[g['day'].eq(current_day)].sort_values(by='value', ascending=True).tail(10)\n",
    "#     ax.clear()\n",
    "#     ax.barh(dff['name'], dff['value'], color=[colors[group_lk[x]] for x in dff['name']])\n",
    "#     dx = dff['value'].max() / 200\n",
    "    \n",
    "#     for i, (value, name) in enumerate(zip(dff['value'], dff['name'])):\n",
    "#         ax.text(value-dx, i,     name,           size=14, weight=600, ha='right', va='bottom')\n",
    "#         ax.text(value-dx, i-.25, group_lk[name], size=10, color='#444444', ha='right', va='baseline')\n",
    "#         ax.text(value+dx, i,     f'{value:,.0f}',  size=14, ha='left',  va='center')\n",
    "#     ax.text(1, 0.4, current_day, transform=ax.transAxes, color='#777777', size=46, ha='right', weight=800)\n",
    "#     ax.text(0, 1.06, 'Population (thousands)', transform=ax.transAxes, size=12, color='#777777')\n",
    "#     ax.xaxis.set_major_formatter(ticker.StrMethodFormatter('{x:,.0f}'))\n",
    "#     ax.xaxis.set_ticks_position('top')\n",
    "#     ax.tick_params(axis='x', colors='#777777', labelsize=12)\n",
    "#     ax.set_yticks([])\n",
    "#     ax.margins(0, 0.01)\n",
    "#     ax.grid(which='major', axis='x', linestyle='-')\n",
    "#     ax.set_axisbelow(True)\n",
    "    \n",
    "#     ax.text(0, 1.15, 'Coronavirus',\n",
    "#             transform=ax.transAxes, size=24, weight=600, ha='left', va='top')\n",
    "# #     ax.text(1, 0, 'by @pratapvardhan; credit @jburnmurdoch', transform=ax.transAxes, color='#777777', ha='right',\n",
    "# #             bbox=dict(facecolor='white', alpha=0.8, edgecolor='white'))\n",
    "#     plt.box(False)"
   ]
  },
  {
   "cell_type": "code",
   "execution_count": 42,
   "id": "sexual-wages",
   "metadata": {
    "execution": {
     "iopub.execute_input": "2022-07-25T00:45:51.880932Z",
     "iopub.status.busy": "2022-07-25T00:45:51.880277Z",
     "iopub.status.idle": "2022-07-25T00:45:51.882630Z",
     "shell.execute_reply": "2022-07-25T00:45:51.883065Z"
    },
    "papermill": {
     "duration": 0.037286,
     "end_time": "2022-07-25T00:45:51.883203",
     "exception": false,
     "start_time": "2022-07-25T00:45:51.845917",
     "status": "completed"
    },
    "tags": []
   },
   "outputs": [],
   "source": [
    "# #hide_input\n",
    "# fig, ax = plt.subplots(figsize=(15, 8))\n",
    "# animator = animation.FuncAnimation(fig, draw_barchart, frames=range(g.day.values.min(), g.day.values.max()))\n",
    "# HTML(animator.to_jshtml())\n",
    "# # or use animator.to_html5_video() or animator.save() "
   ]
  },
  {
   "cell_type": "code",
   "execution_count": null,
   "id": "australian-container",
   "metadata": {
    "papermill": {
     "duration": 0.030819,
     "end_time": "2022-07-25T00:45:51.944689",
     "exception": false,
     "start_time": "2022-07-25T00:45:51.913870",
     "status": "completed"
    },
    "tags": []
   },
   "outputs": [],
   "source": []
  },
  {
   "cell_type": "code",
   "execution_count": null,
   "id": "mediterranean-pontiac",
   "metadata": {
    "papermill": {
     "duration": 0.030412,
     "end_time": "2022-07-25T00:45:52.005632",
     "exception": false,
     "start_time": "2022-07-25T00:45:51.975220",
     "status": "completed"
    },
    "tags": []
   },
   "outputs": [],
   "source": []
  },
  {
   "cell_type": "code",
   "execution_count": null,
   "id": "aging-legislature",
   "metadata": {
    "papermill": {
     "duration": 0.030615,
     "end_time": "2022-07-25T00:45:52.067687",
     "exception": false,
     "start_time": "2022-07-25T00:45:52.037072",
     "status": "completed"
    },
    "tags": []
   },
   "outputs": [],
   "source": []
  }
 ],
 "metadata": {
  "kernelspec": {
   "display_name": "Python 3",
   "language": "python",
   "name": "python3"
  },
  "language_info": {
   "codemirror_mode": {
    "name": "ipython",
    "version": 3
   },
   "file_extension": ".py",
   "mimetype": "text/x-python",
   "name": "python",
   "nbconvert_exporter": "python",
   "pygments_lexer": "ipython3",
   "version": "3.6.15"
  },
  "papermill": {
   "duration": 6.409478,
   "end_time": "2022-07-25T00:45:52.517735",
   "environment_variables": {},
   "exception": null,
   "input_path": "2020-03-21-covid19exp.ipynb",
   "output_path": "2020-03-21-covid19exp.ipynb",
   "parameters": {},
   "start_time": "2022-07-25T00:45:46.108257",
   "version": "2.0.0"
  }
 },
 "nbformat": 4,
 "nbformat_minor": 5
}