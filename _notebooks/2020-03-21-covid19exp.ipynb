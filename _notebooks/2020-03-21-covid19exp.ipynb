{
 "cells": [
  {
   "cell_type": "markdown",
   "id": "muslim-click",
   "metadata": {
    "papermill": {
     "duration": 0.035126,
     "end_time": "2021-04-02T00:11:57.231562",
     "exception": false,
     "start_time": "2021-04-02T00:11:57.196436",
     "status": "completed"
    },
    "tags": []
   },
   "source": [
    "# COVID-19 Case Race\n",
    "> A race chart to see rising cases around the world\n",
    "\n",
    "- author: Hargun Oberoi\n",
    "- image: images/covid-overview.png\n",
    "- hide: false\n",
    "- badges: false"
   ]
  },
  {
   "cell_type": "code",
   "execution_count": 1,
   "id": "proof-material",
   "metadata": {
    "execution": {
     "iopub.execute_input": "2021-04-02T00:11:57.301691Z",
     "iopub.status.busy": "2021-04-02T00:11:57.301184Z",
     "iopub.status.idle": "2021-04-02T00:11:57.612884Z",
     "shell.execute_reply": "2021-04-02T00:11:57.612410Z"
    },
    "papermill": {
     "duration": 0.350712,
     "end_time": "2021-04-02T00:11:57.613020",
     "exception": false,
     "start_time": "2021-04-02T00:11:57.262308",
     "status": "completed"
    },
    "tags": []
   },
   "outputs": [],
   "source": [
    "#hide\n",
    "import numpy as np\n",
    "import pandas as pd\n",
    "from jinja2 import Template\n",
    "from IPython.display import HTML"
   ]
  },
  {
   "cell_type": "code",
   "execution_count": 2,
   "id": "developed-terminology",
   "metadata": {
    "execution": {
     "iopub.execute_input": "2021-04-02T00:11:57.682753Z",
     "iopub.status.busy": "2021-04-02T00:11:57.682026Z",
     "iopub.status.idle": "2021-04-02T00:11:57.684227Z",
     "shell.execute_reply": "2021-04-02T00:11:57.684704Z"
    },
    "papermill": {
     "duration": 0.04079,
     "end_time": "2021-04-02T00:11:57.684863",
     "exception": false,
     "start_time": "2021-04-02T00:11:57.644073",
     "status": "completed"
    },
    "tags": []
   },
   "outputs": [],
   "source": [
    "#hide\n",
    "\n",
    "# FETCH\n",
    "base_url = 'https://raw.githubusercontent.com/pratapvardhan/notebooks/master/covid19/'\n",
    "paths = {\n",
    "    'mapping': base_url + 'mapping_countries.csv',\n",
    "    'overview': base_url + 'overview.tpl'\n",
    "}"
   ]
  },
  {
   "cell_type": "code",
   "execution_count": 3,
   "id": "dynamic-saver",
   "metadata": {
    "execution": {
     "iopub.execute_input": "2021-04-02T00:11:57.753936Z",
     "iopub.status.busy": "2021-04-02T00:11:57.752660Z",
     "iopub.status.idle": "2021-04-02T00:11:57.756802Z",
     "shell.execute_reply": "2021-04-02T00:11:57.756380Z"
    },
    "papermill": {
     "duration": 0.041367,
     "end_time": "2021-04-02T00:11:57.756897",
     "exception": false,
     "start_time": "2021-04-02T00:11:57.715530",
     "status": "completed"
    },
    "tags": []
   },
   "outputs": [
    {
     "data": {
      "text/plain": [
       "'https://raw.githubusercontent.com/pratapvardhan/notebooks/master/covid19/mapping_countries.csv'"
      ]
     },
     "execution_count": 3,
     "metadata": {},
     "output_type": "execute_result"
    }
   ],
   "source": [
    "#hide\n",
    "paths['mapping']"
   ]
  },
  {
   "cell_type": "code",
   "execution_count": 4,
   "id": "urban-software",
   "metadata": {
    "execution": {
     "iopub.execute_input": "2021-04-02T00:11:57.823412Z",
     "iopub.status.busy": "2021-04-02T00:11:57.822908Z",
     "iopub.status.idle": "2021-04-02T00:11:57.824634Z",
     "shell.execute_reply": "2021-04-02T00:11:57.825102Z"
    },
    "papermill": {
     "duration": 0.03743,
     "end_time": "2021-04-02T00:11:57.825212",
     "exception": false,
     "start_time": "2021-04-02T00:11:57.787782",
     "status": "completed"
    },
    "tags": []
   },
   "outputs": [],
   "source": [
    "#hide\n",
    "def get_mappings(url):\n",
    "    df = pd.read_csv(url)\n",
    "    return {\n",
    "        'df': df,\n",
    "        'replace.country': dict(df.dropna(subset=['Name']).set_index('Country')['Name']),\n",
    "        'map.continent': dict(df.set_index('Name')['Continent'])\n",
    "    }"
   ]
  },
  {
   "cell_type": "code",
   "execution_count": 5,
   "id": "intimate-machinery",
   "metadata": {
    "execution": {
     "iopub.execute_input": "2021-04-02T00:11:57.890724Z",
     "iopub.status.busy": "2021-04-02T00:11:57.890227Z",
     "iopub.status.idle": "2021-04-02T00:11:57.927413Z",
     "shell.execute_reply": "2021-04-02T00:11:57.926933Z"
    },
    "papermill": {
     "duration": 0.071815,
     "end_time": "2021-04-02T00:11:57.927519",
     "exception": false,
     "start_time": "2021-04-02T00:11:57.855704",
     "status": "completed"
    },
    "tags": []
   },
   "outputs": [],
   "source": [
    "#hide\n",
    "mapping = get_mappings(paths['mapping'])"
   ]
  },
  {
   "cell_type": "code",
   "execution_count": 6,
   "id": "certified-tactics",
   "metadata": {
    "execution": {
     "iopub.execute_input": "2021-04-02T00:11:57.995654Z",
     "iopub.status.busy": "2021-04-02T00:11:57.995126Z",
     "iopub.status.idle": "2021-04-02T00:11:57.996866Z",
     "shell.execute_reply": "2021-04-02T00:11:57.997261Z"
    },
    "papermill": {
     "duration": 0.038209,
     "end_time": "2021-04-02T00:11:57.997372",
     "exception": false,
     "start_time": "2021-04-02T00:11:57.959163",
     "status": "completed"
    },
    "tags": []
   },
   "outputs": [],
   "source": [
    "#hide\n",
    "def get_template(path):\n",
    "    from urllib.parse import urlparse\n",
    "    if bool(urlparse(path).netloc):\n",
    "        from urllib.request import urlopen\n",
    "        return urlopen(path).read().decode('utf8')\n",
    "    return open(path).read()"
   ]
  },
  {
   "cell_type": "code",
   "execution_count": 7,
   "id": "realistic-blast",
   "metadata": {
    "execution": {
     "iopub.execute_input": "2021-04-02T00:11:58.071472Z",
     "iopub.status.busy": "2021-04-02T00:11:58.070783Z",
     "iopub.status.idle": "2021-04-02T00:11:58.072805Z",
     "shell.execute_reply": "2021-04-02T00:11:58.073236Z"
    },
    "papermill": {
     "duration": 0.039874,
     "end_time": "2021-04-02T00:11:58.073350",
     "exception": false,
     "start_time": "2021-04-02T00:11:58.033476",
     "status": "completed"
    },
    "tags": []
   },
   "outputs": [],
   "source": [
    "#hide\n",
    "def get_frame(name):\n",
    "    url = (\n",
    "        'https://raw.githubusercontent.com/CSSEGISandData/COVID-19/master/csse_covid_19_data/'\n",
    "        f'csse_covid_19_time_series/time_series_covid19_{name}_global.csv')\n",
    "    df = pd.read_csv(url)\n",
    "    # rename countries\n",
    "    df['Country/Region'] = df['Country/Region'].replace(mapping['replace.country'])\n",
    "    return df"
   ]
  },
  {
   "cell_type": "code",
   "execution_count": 8,
   "id": "affiliated-characterization",
   "metadata": {
    "execution": {
     "iopub.execute_input": "2021-04-02T00:11:58.141785Z",
     "iopub.status.busy": "2021-04-02T00:11:58.141270Z",
     "iopub.status.idle": "2021-04-02T00:11:58.143100Z",
     "shell.execute_reply": "2021-04-02T00:11:58.143568Z"
    },
    "papermill": {
     "duration": 0.038399,
     "end_time": "2021-04-02T00:11:58.143687",
     "exception": false,
     "start_time": "2021-04-02T00:11:58.105288",
     "status": "completed"
    },
    "tags": []
   },
   "outputs": [],
   "source": [
    "#hide\n",
    "def get_dates(df):\n",
    "    dt_cols = df.columns[~df.columns.isin(['Province/State', 'Country/Region', 'Lat', 'Long'])]\n",
    "    LAST_DATE_I = -1\n",
    "    # sometimes last column may be empty, then go backwards\n",
    "    for i in range(-1, -len(dt_cols), -1):\n",
    "        if not df[dt_cols[i]].fillna(0).eq(0).all():\n",
    "            LAST_DATE_I = i\n",
    "            break\n",
    "    return LAST_DATE_I, dt_cols"
   ]
  },
  {
   "cell_type": "code",
   "execution_count": 9,
   "id": "recent-optimization",
   "metadata": {
    "execution": {
     "iopub.execute_input": "2021-04-02T00:11:58.211337Z",
     "iopub.status.busy": "2021-04-02T00:11:58.210489Z",
     "iopub.status.idle": "2021-04-02T00:11:58.581322Z",
     "shell.execute_reply": "2021-04-02T00:11:58.580262Z"
    },
    "papermill": {
     "duration": 0.405393,
     "end_time": "2021-04-02T00:11:58.581597",
     "exception": false,
     "start_time": "2021-04-02T00:11:58.176204",
     "status": "completed"
    },
    "tags": []
   },
   "outputs": [],
   "source": [
    "#hide\n",
    "COL_REGION = 'Country/Region'\n",
    "# Confirmed, Recovered, Deaths\n",
    "df = get_frame('confirmed')\n",
    "# dft_: timeseries, dfc_: today country agg\n",
    "dft_cases = df\n",
    "dft_deaths = get_frame('deaths')\n",
    "dft_recovered = get_frame('recovered')\n",
    "LAST_DATE_I, dt_cols = get_dates(df)"
   ]
  },
  {
   "cell_type": "code",
   "execution_count": 10,
   "id": "absolute-copper",
   "metadata": {
    "execution": {
     "iopub.execute_input": "2021-04-02T00:11:58.656758Z",
     "iopub.status.busy": "2021-04-02T00:11:58.656234Z",
     "iopub.status.idle": "2021-04-02T00:11:58.658140Z",
     "shell.execute_reply": "2021-04-02T00:11:58.657617Z"
    },
    "papermill": {
     "duration": 0.042263,
     "end_time": "2021-04-02T00:11:58.658240",
     "exception": false,
     "start_time": "2021-04-02T00:11:58.615977",
     "status": "completed"
    },
    "tags": []
   },
   "outputs": [],
   "source": [
    "#hide\n",
    "LAST_DATE_I, dt_cols = get_dates(df)\n",
    "dt_today =dt_cols[LAST_DATE_I]\n",
    "# dt_5day = dt_cols[LAST_DATE_I - 5]\n",
    "dt_yday = dt_cols[LAST_DATE_I - 1]"
   ]
  },
  {
   "cell_type": "code",
   "execution_count": 11,
   "id": "restricted-sheriff",
   "metadata": {
    "execution": {
     "iopub.execute_input": "2021-04-02T00:11:58.733921Z",
     "iopub.status.busy": "2021-04-02T00:11:58.733347Z",
     "iopub.status.idle": "2021-04-02T00:11:58.741880Z",
     "shell.execute_reply": "2021-04-02T00:11:58.742532Z"
    },
    "papermill": {
     "duration": 0.050629,
     "end_time": "2021-04-02T00:11:58.742729",
     "exception": false,
     "start_time": "2021-04-02T00:11:58.692100",
     "status": "completed"
    },
    "tags": []
   },
   "outputs": [],
   "source": [
    "#hide\n",
    "dfc_cases = dft_cases.groupby(COL_REGION)[dt_today].sum()\n",
    "dfc_deaths = dft_deaths.groupby(COL_REGION)[dt_today].sum()\n",
    "# dfp_cases = dft_cases.groupby(COL_REGION)[dt_5day].sum()\n",
    "# dfp_deaths = dft_deaths.groupby(COL_REGION)[dt_5day].sum()\n",
    "dfp_cases = dft_cases.groupby(COL_REGION)[dt_yday].sum()\n",
    "dfp_deaths = dft_deaths.groupby(COL_REGION)[dt_yday].sum()"
   ]
  },
  {
   "cell_type": "code",
   "execution_count": 12,
   "id": "deluxe-hepatitis",
   "metadata": {
    "execution": {
     "iopub.execute_input": "2021-04-02T00:11:58.810582Z",
     "iopub.status.busy": "2021-04-02T00:11:58.810025Z",
     "iopub.status.idle": "2021-04-02T00:11:58.814730Z",
     "shell.execute_reply": "2021-04-02T00:11:58.815148Z"
    },
    "papermill": {
     "duration": 0.040544,
     "end_time": "2021-04-02T00:11:58.815261",
     "exception": false,
     "start_time": "2021-04-02T00:11:58.774717",
     "status": "completed"
    },
    "tags": []
   },
   "outputs": [],
   "source": [
    "#hide\n",
    "df_table = (pd.DataFrame(dict(Cases = dfc_cases, Deaths = dfc_deaths, PCases = dfp_cases, PDeaths = dfp_deaths))\n",
    "            .sort_values(by = ['Cases','Deaths'], ascending = [False, False])\n",
    "            .reset_index())"
   ]
  },
  {
   "cell_type": "code",
   "execution_count": 13,
   "id": "educational-chancellor",
   "metadata": {
    "execution": {
     "iopub.execute_input": "2021-04-02T00:11:58.887604Z",
     "iopub.status.busy": "2021-04-02T00:11:58.885148Z",
     "iopub.status.idle": "2021-04-02T00:11:58.905468Z",
     "shell.execute_reply": "2021-04-02T00:11:58.905990Z"
    },
    "papermill": {
     "duration": 0.05954,
     "end_time": "2021-04-02T00:11:58.906115",
     "exception": false,
     "start_time": "2021-04-02T00:11:58.846575",
     "status": "completed"
    },
    "tags": []
   },
   "outputs": [
    {
     "data": {
      "text/html": [
       "<div>\n",
       "<style scoped>\n",
       "    .dataframe tbody tr th:only-of-type {\n",
       "        vertical-align: middle;\n",
       "    }\n",
       "\n",
       "    .dataframe tbody tr th {\n",
       "        vertical-align: top;\n",
       "    }\n",
       "\n",
       "    .dataframe thead th {\n",
       "        text-align: right;\n",
       "    }\n",
       "</style>\n",
       "<table border=\"1\" class=\"dataframe\">\n",
       "  <thead>\n",
       "    <tr style=\"text-align: right;\">\n",
       "      <th></th>\n",
       "      <th>Country/Region</th>\n",
       "      <th>Cases</th>\n",
       "      <th>Deaths</th>\n",
       "      <th>PCases</th>\n",
       "      <th>PDeaths</th>\n",
       "      <th>Cases (+)</th>\n",
       "      <th>Deaths (+)</th>\n",
       "      <th>Fatality Rate</th>\n",
       "      <th>Continent</th>\n",
       "    </tr>\n",
       "  </thead>\n",
       "  <tbody>\n",
       "    <tr>\n",
       "      <th>0</th>\n",
       "      <td>US</td>\n",
       "      <td>30460730</td>\n",
       "      <td>552072</td>\n",
       "      <td>30393701</td>\n",
       "      <td>550996</td>\n",
       "      <td>67029</td>\n",
       "      <td>1076</td>\n",
       "      <td>1.81</td>\n",
       "      <td>North America</td>\n",
       "    </tr>\n",
       "    <tr>\n",
       "      <th>1</th>\n",
       "      <td>Brazil</td>\n",
       "      <td>12748747</td>\n",
       "      <td>321515</td>\n",
       "      <td>12658109</td>\n",
       "      <td>317646</td>\n",
       "      <td>90638</td>\n",
       "      <td>3869</td>\n",
       "      <td>2.52</td>\n",
       "      <td>South America</td>\n",
       "    </tr>\n",
       "    <tr>\n",
       "      <th>2</th>\n",
       "      <td>India</td>\n",
       "      <td>12221665</td>\n",
       "      <td>162927</td>\n",
       "      <td>12149335</td>\n",
       "      <td>162468</td>\n",
       "      <td>72330</td>\n",
       "      <td>459</td>\n",
       "      <td>1.33</td>\n",
       "      <td>Asia</td>\n",
       "    </tr>\n",
       "    <tr>\n",
       "      <th>3</th>\n",
       "      <td>France</td>\n",
       "      <td>4705068</td>\n",
       "      <td>95798</td>\n",
       "      <td>4646014</td>\n",
       "      <td>95495</td>\n",
       "      <td>59054</td>\n",
       "      <td>303</td>\n",
       "      <td>2.04</td>\n",
       "      <td>Europe</td>\n",
       "    </tr>\n",
       "    <tr>\n",
       "      <th>4</th>\n",
       "      <td>Russia</td>\n",
       "      <td>4494234</td>\n",
       "      <td>97219</td>\n",
       "      <td>4486078</td>\n",
       "      <td>96817</td>\n",
       "      <td>8156</td>\n",
       "      <td>402</td>\n",
       "      <td>2.16</td>\n",
       "      <td>Europe</td>\n",
       "    </tr>\n",
       "  </tbody>\n",
       "</table>\n",
       "</div>"
      ],
      "text/plain": [
       "  Country/Region     Cases  Deaths    PCases  PDeaths  Cases (+)  Deaths (+)  \\\n",
       "0             US  30460730  552072  30393701   550996      67029        1076   \n",
       "1         Brazil  12748747  321515  12658109   317646      90638        3869   \n",
       "2          India  12221665  162927  12149335   162468      72330         459   \n",
       "3         France   4705068   95798   4646014    95495      59054         303   \n",
       "4         Russia   4494234   97219   4486078    96817       8156         402   \n",
       "\n",
       "   Fatality Rate      Continent  \n",
       "0           1.81  North America  \n",
       "1           2.52  South America  \n",
       "2           1.33           Asia  \n",
       "3           2.04         Europe  \n",
       "4           2.16         Europe  "
      ]
     },
     "execution_count": 13,
     "metadata": {},
     "output_type": "execute_result"
    }
   ],
   "source": [
    "#hide\n",
    "for c in 'Cases, Deaths'.split(', '):\n",
    "    df_table[f'{c} (+)'] = (df_table[c] - df_table[f'P{c}']).clip(0)\n",
    "    #Clip ça veut dire, les chiffres negatif sont interdit\n",
    "df_table['Fatality Rate'] = (100* df_table['Deaths']/ df_table['Cases']).round(2)\n",
    "df_table['Continent'] = df_table['Country/Region'].map(mapping['map.continent'])\n",
    "df_table.head(5)"
   ]
  },
  {
   "cell_type": "code",
   "execution_count": 14,
   "id": "aboriginal-bulgaria",
   "metadata": {
    "execution": {
     "iopub.execute_input": "2021-04-02T00:11:58.978344Z",
     "iopub.status.busy": "2021-04-02T00:11:58.977715Z",
     "iopub.status.idle": "2021-04-02T00:11:58.980074Z",
     "shell.execute_reply": "2021-04-02T00:11:58.979554Z"
    },
    "papermill": {
     "duration": 0.039409,
     "end_time": "2021-04-02T00:11:58.980171",
     "exception": false,
     "start_time": "2021-04-02T00:11:58.940762",
     "status": "completed"
    },
    "tags": []
   },
   "outputs": [],
   "source": [
    "#hide\n",
    "#delete problematic countries from table\n",
    "df_table = df_table[~df_table['Country/Region'].isin(['Cape Verde', 'Cruise Ship', 'Kosovo'])]"
   ]
  },
  {
   "cell_type": "code",
   "execution_count": 15,
   "id": "fantastic-effect",
   "metadata": {
    "execution": {
     "iopub.execute_input": "2021-04-02T00:11:59.048882Z",
     "iopub.status.busy": "2021-04-02T00:11:59.048380Z",
     "iopub.status.idle": "2021-04-02T00:11:59.068898Z",
     "shell.execute_reply": "2021-04-02T00:11:59.068475Z"
    },
    "papermill": {
     "duration": 0.056571,
     "end_time": "2021-04-02T00:11:59.068995",
     "exception": false,
     "start_time": "2021-04-02T00:11:59.012424",
     "status": "completed"
    },
    "tags": []
   },
   "outputs": [
    {
     "data": {
      "text/html": [
       "<div>\n",
       "<style scoped>\n",
       "    .dataframe tbody tr th:only-of-type {\n",
       "        vertical-align: middle;\n",
       "    }\n",
       "\n",
       "    .dataframe tbody tr th {\n",
       "        vertical-align: top;\n",
       "    }\n",
       "\n",
       "    .dataframe thead th {\n",
       "        text-align: right;\n",
       "    }\n",
       "</style>\n",
       "<table border=\"1\" class=\"dataframe\">\n",
       "  <thead>\n",
       "    <tr style=\"text-align: right;\">\n",
       "      <th></th>\n",
       "      <th>Country/Region</th>\n",
       "      <th>Cases</th>\n",
       "      <th>Deaths</th>\n",
       "      <th>PCases</th>\n",
       "      <th>PDeaths</th>\n",
       "      <th>Cases (+)</th>\n",
       "      <th>Deaths (+)</th>\n",
       "      <th>Fatality Rate</th>\n",
       "      <th>Continent</th>\n",
       "    </tr>\n",
       "  </thead>\n",
       "  <tbody>\n",
       "    <tr>\n",
       "      <th>0</th>\n",
       "      <td>US</td>\n",
       "      <td>30460730</td>\n",
       "      <td>552072</td>\n",
       "      <td>30393701</td>\n",
       "      <td>550996</td>\n",
       "      <td>67029</td>\n",
       "      <td>1076</td>\n",
       "      <td>1.8</td>\n",
       "      <td>North America</td>\n",
       "    </tr>\n",
       "    <tr>\n",
       "      <th>1</th>\n",
       "      <td>Brazil</td>\n",
       "      <td>12748747</td>\n",
       "      <td>321515</td>\n",
       "      <td>12658109</td>\n",
       "      <td>317646</td>\n",
       "      <td>90638</td>\n",
       "      <td>3869</td>\n",
       "      <td>2.5</td>\n",
       "      <td>South America</td>\n",
       "    </tr>\n",
       "    <tr>\n",
       "      <th>2</th>\n",
       "      <td>India</td>\n",
       "      <td>12221665</td>\n",
       "      <td>162927</td>\n",
       "      <td>12149335</td>\n",
       "      <td>162468</td>\n",
       "      <td>72330</td>\n",
       "      <td>459</td>\n",
       "      <td>1.3</td>\n",
       "      <td>Asia</td>\n",
       "    </tr>\n",
       "    <tr>\n",
       "      <th>3</th>\n",
       "      <td>France</td>\n",
       "      <td>4705068</td>\n",
       "      <td>95798</td>\n",
       "      <td>4646014</td>\n",
       "      <td>95495</td>\n",
       "      <td>59054</td>\n",
       "      <td>303</td>\n",
       "      <td>2.0</td>\n",
       "      <td>Europe</td>\n",
       "    </tr>\n",
       "    <tr>\n",
       "      <th>4</th>\n",
       "      <td>Russia</td>\n",
       "      <td>4494234</td>\n",
       "      <td>97219</td>\n",
       "      <td>4486078</td>\n",
       "      <td>96817</td>\n",
       "      <td>8156</td>\n",
       "      <td>402</td>\n",
       "      <td>2.2</td>\n",
       "      <td>Europe</td>\n",
       "    </tr>\n",
       "  </tbody>\n",
       "</table>\n",
       "</div>"
      ],
      "text/plain": [
       "  Country/Region     Cases  Deaths    PCases  PDeaths  Cases (+)  Deaths (+)  \\\n",
       "0             US  30460730  552072  30393701   550996      67029        1076   \n",
       "1         Brazil  12748747  321515  12658109   317646      90638        3869   \n",
       "2          India  12221665  162927  12149335   162468      72330         459   \n",
       "3         France   4705068   95798   4646014    95495      59054         303   \n",
       "4         Russia   4494234   97219   4486078    96817       8156         402   \n",
       "\n",
       "   Fatality Rate      Continent  \n",
       "0            1.8  North America  \n",
       "1            2.5  South America  \n",
       "2            1.3           Asia  \n",
       "3            2.0         Europe  \n",
       "4            2.2         Europe  "
      ]
     },
     "execution_count": 15,
     "metadata": {},
     "output_type": "execute_result"
    }
   ],
   "source": [
    "#hide\n",
    "df_table = (pd.DataFrame(dict(Cases=dfc_cases, Deaths=dfc_deaths, PCases=dfp_cases, PDeaths=dfp_deaths))\n",
    "             .sort_values(by=['Cases', 'Deaths'], ascending=[False, False])\n",
    "             .reset_index())\n",
    "df_table.rename(columns={'index': 'Country/Region'}, inplace=True)\n",
    "for c in 'Cases, Deaths'.split(', '):\n",
    "    df_table[f'{c} (+)'] = (df_table[c] - df_table[f'P{c}']).clip(0)  # DATA BUG\n",
    "df_table['Fatality Rate'] = (100 * df_table['Deaths'] / df_table['Cases']).round(1)\n",
    "df_table['Continent'] = df_table['Country/Region'].map(mapping['map.continent'])\n",
    "df_table.head(5)"
   ]
  },
  {
   "cell_type": "code",
   "execution_count": 16,
   "id": "fewer-occasion",
   "metadata": {
    "execution": {
     "iopub.execute_input": "2021-04-02T00:11:59.139597Z",
     "iopub.status.busy": "2021-04-02T00:11:59.139095Z",
     "iopub.status.idle": "2021-04-02T00:11:59.142395Z",
     "shell.execute_reply": "2021-04-02T00:11:59.143104Z"
    },
    "papermill": {
     "duration": 0.04166,
     "end_time": "2021-04-02T00:11:59.143234",
     "exception": false,
     "start_time": "2021-04-02T00:11:59.101574",
     "status": "completed"
    },
    "tags": []
   },
   "outputs": [],
   "source": [
    "#hide\n",
    "#delete problematic countries from table\n",
    "df_table = df_table[~df_table['Country/Region'].isin(['Cape Verde', 'Cruise Ship', 'Kosovo'])]"
   ]
  },
  {
   "cell_type": "code",
   "execution_count": 17,
   "id": "related-center",
   "metadata": {
    "execution": {
     "iopub.execute_input": "2021-04-02T00:11:59.228048Z",
     "iopub.status.busy": "2021-04-02T00:11:59.227313Z",
     "iopub.status.idle": "2021-04-02T00:11:59.229704Z",
     "shell.execute_reply": "2021-04-02T00:11:59.229288Z"
    },
    "papermill": {
     "duration": 0.055578,
     "end_time": "2021-04-02T00:11:59.229809",
     "exception": false,
     "start_time": "2021-04-02T00:11:59.174231",
     "status": "completed"
    },
    "tags": []
   },
   "outputs": [],
   "source": [
    "#hide\n",
    "metrics = [df_table.columns[index] for index in [1,2,5,6]]\n",
    "# s_china = df_table[df_table['Country/Region'].eq('China')][metrics].sum().add_prefix('China ')\n",
    "s_us = df_table[df_table['Country/Region'].eq('US')][metrics].sum().add_prefix('US ')\n",
    "s_eu = df_table[df_table['Continent'].eq('Europe')][metrics].sum().add_prefix('EU ')\n",
    "s_ind = df_table[df_table['Country/Region'].eq('India')][metrics].sum().add_prefix('India ')\n",
    "summary = {'updated': pd.to_datetime(dt_today), 'since': pd.to_datetime(dt_yday)}\n",
    "summary = {'updated': pd.to_datetime(dt_today), 'since': pd.to_datetime(dt_yday)}\n",
    "summary = {**summary, **df_table[metrics].sum(), **s_ind, **s_us, **s_eu}"
   ]
  },
  {
   "cell_type": "code",
   "execution_count": 18,
   "id": "engaging-syndrome",
   "metadata": {
    "execution": {
     "iopub.execute_input": "2021-04-02T00:11:59.296918Z",
     "iopub.status.busy": "2021-04-02T00:11:59.296278Z",
     "iopub.status.idle": "2021-04-02T00:11:59.306592Z",
     "shell.execute_reply": "2021-04-02T00:11:59.307055Z"
    },
    "papermill": {
     "duration": 0.044998,
     "end_time": "2021-04-02T00:11:59.307162",
     "exception": false,
     "start_time": "2021-04-02T00:11:59.262164",
     "status": "completed"
    },
    "tags": []
   },
   "outputs": [],
   "source": [
    "#hide\n",
    "dft_ct_new_cases = dft_cases.groupby(COL_REGION)[dt_cols].sum().diff(axis=1).fillna(0).astype(int)"
   ]
  },
  {
   "cell_type": "code",
   "execution_count": 19,
   "id": "neutral-assignment",
   "metadata": {
    "execution": {
     "iopub.execute_input": "2021-04-02T00:11:59.376405Z",
     "iopub.status.busy": "2021-04-02T00:11:59.375907Z",
     "iopub.status.idle": "2021-04-02T00:11:59.378063Z",
     "shell.execute_reply": "2021-04-02T00:11:59.377636Z"
    },
    "papermill": {
     "duration": 0.039158,
     "end_time": "2021-04-02T00:11:59.378162",
     "exception": false,
     "start_time": "2021-04-02T00:11:59.339004",
     "status": "completed"
    },
    "tags": []
   },
   "outputs": [],
   "source": [
    "#hide\n",
    "everydaycases = dft_ct_new_cases.cumsum(axis=1)"
   ]
  },
  {
   "cell_type": "code",
   "execution_count": 20,
   "id": "parliamentary-calgary",
   "metadata": {
    "execution": {
     "iopub.execute_input": "2021-04-02T00:11:59.444493Z",
     "iopub.status.busy": "2021-04-02T00:11:59.443955Z",
     "iopub.status.idle": "2021-04-02T00:12:05.154702Z",
     "shell.execute_reply": "2021-04-02T00:12:05.153934Z"
    },
    "papermill": {
     "duration": 5.746274,
     "end_time": "2021-04-02T00:12:05.154824",
     "exception": false,
     "start_time": "2021-04-02T00:11:59.408550",
     "status": "completed"
    },
    "tags": []
   },
   "outputs": [
    {
     "name": "stderr",
     "output_type": "stream",
     "text": [
      "Matplotlib is building the font cache; this may take a moment.\n"
     ]
    }
   ],
   "source": [
    "#hide\n",
    "import pandas as pd\n",
    "import matplotlib.pyplot as plt\n",
    "import matplotlib.ticker as ticker\n",
    "import matplotlib.animation as animation\n",
    "from IPython.display import HTML"
   ]
  },
  {
   "cell_type": "code",
   "execution_count": 21,
   "id": "lasting-extraction",
   "metadata": {
    "execution": {
     "iopub.execute_input": "2021-04-02T00:12:05.237619Z",
     "iopub.status.busy": "2021-04-02T00:12:05.237098Z",
     "iopub.status.idle": "2021-04-02T00:12:05.241789Z",
     "shell.execute_reply": "2021-04-02T00:12:05.241364Z"
    },
    "papermill": {
     "duration": 0.04784,
     "end_time": "2021-04-02T00:12:05.241891",
     "exception": false,
     "start_time": "2021-04-02T00:12:05.194051",
     "status": "completed"
    },
    "tags": []
   },
   "outputs": [],
   "source": [
    "#hide\n",
    "t = everydaycases.stack()"
   ]
  },
  {
   "cell_type": "code",
   "execution_count": 22,
   "id": "premier-sleeve",
   "metadata": {
    "execution": {
     "iopub.execute_input": "2021-04-02T00:12:05.310266Z",
     "iopub.status.busy": "2021-04-02T00:12:05.309743Z",
     "iopub.status.idle": "2021-04-02T00:12:05.315952Z",
     "shell.execute_reply": "2021-04-02T00:12:05.316368Z"
    },
    "papermill": {
     "duration": 0.042228,
     "end_time": "2021-04-02T00:12:05.316483",
     "exception": false,
     "start_time": "2021-04-02T00:12:05.274255",
     "status": "completed"
    },
    "tags": []
   },
   "outputs": [],
   "source": [
    "#hide\n",
    "g = t.reset_index(['Country/Region'])"
   ]
  },
  {
   "cell_type": "code",
   "execution_count": 23,
   "id": "distributed-pittsburgh",
   "metadata": {
    "execution": {
     "iopub.execute_input": "2021-04-02T00:12:05.390798Z",
     "iopub.status.busy": "2021-04-02T00:12:05.390300Z",
     "iopub.status.idle": "2021-04-02T00:12:05.392937Z",
     "shell.execute_reply": "2021-04-02T00:12:05.392512Z"
    },
    "papermill": {
     "duration": 0.040044,
     "end_time": "2021-04-02T00:12:05.393036",
     "exception": false,
     "start_time": "2021-04-02T00:12:05.352992",
     "status": "completed"
    },
    "tags": []
   },
   "outputs": [],
   "source": [
    "#hide\n",
    "g.index.name = 'date'"
   ]
  },
  {
   "cell_type": "code",
   "execution_count": 24,
   "id": "naked-donor",
   "metadata": {
    "execution": {
     "iopub.execute_input": "2021-04-02T00:12:05.463892Z",
     "iopub.status.busy": "2021-04-02T00:12:05.463387Z",
     "iopub.status.idle": "2021-04-02T00:12:05.465270Z",
     "shell.execute_reply": "2021-04-02T00:12:05.465706Z"
    },
    "papermill": {
     "duration": 0.040473,
     "end_time": "2021-04-02T00:12:05.465814",
     "exception": false,
     "start_time": "2021-04-02T00:12:05.425341",
     "status": "completed"
    },
    "tags": []
   },
   "outputs": [],
   "source": [
    "# #hide\n",
    "# g = g.reset_index(['date'])"
   ]
  },
  {
   "cell_type": "code",
   "execution_count": 25,
   "id": "incomplete-mustang",
   "metadata": {
    "execution": {
     "iopub.execute_input": "2021-04-02T00:12:05.530829Z",
     "iopub.status.busy": "2021-04-02T00:12:05.530311Z",
     "iopub.status.idle": "2021-04-02T00:12:05.532597Z",
     "shell.execute_reply": "2021-04-02T00:12:05.532145Z"
    },
    "papermill": {
     "duration": 0.035966,
     "end_time": "2021-04-02T00:12:05.532692",
     "exception": false,
     "start_time": "2021-04-02T00:12:05.496726",
     "status": "completed"
    },
    "tags": []
   },
   "outputs": [],
   "source": [
    "#hide\n",
    "# g.head()"
   ]
  },
  {
   "cell_type": "code",
   "execution_count": 26,
   "id": "specific-kruger",
   "metadata": {
    "execution": {
     "iopub.execute_input": "2021-04-02T00:12:05.600430Z",
     "iopub.status.busy": "2021-04-02T00:12:05.599929Z",
     "iopub.status.idle": "2021-04-02T00:12:05.602329Z",
     "shell.execute_reply": "2021-04-02T00:12:05.601755Z"
    },
    "papermill": {
     "duration": 0.03677,
     "end_time": "2021-04-02T00:12:05.602456",
     "exception": false,
     "start_time": "2021-04-02T00:12:05.565686",
     "status": "completed"
    },
    "tags": []
   },
   "outputs": [],
   "source": [
    "#hide\n",
    "# g.columns = ['date','country','cases']"
   ]
  },
  {
   "cell_type": "code",
   "execution_count": 27,
   "id": "tender-conversion",
   "metadata": {
    "execution": {
     "iopub.execute_input": "2021-04-02T00:12:05.668421Z",
     "iopub.status.busy": "2021-04-02T00:12:05.667850Z",
     "iopub.status.idle": "2021-04-02T00:12:05.669914Z",
     "shell.execute_reply": "2021-04-02T00:12:05.669492Z"
    },
    "papermill": {
     "duration": 0.03674,
     "end_time": "2021-04-02T00:12:05.670020",
     "exception": false,
     "start_time": "2021-04-02T00:12:05.633280",
     "status": "completed"
    },
    "tags": []
   },
   "outputs": [],
   "source": [
    "#hide\n",
    "# g['continent'] = g.country"
   ]
  },
  {
   "cell_type": "code",
   "execution_count": 28,
   "id": "substantial-wilderness",
   "metadata": {
    "execution": {
     "iopub.execute_input": "2021-04-02T00:12:05.739180Z",
     "iopub.status.busy": "2021-04-02T00:12:05.738648Z",
     "iopub.status.idle": "2021-04-02T00:12:05.741068Z",
     "shell.execute_reply": "2021-04-02T00:12:05.740643Z"
    },
    "papermill": {
     "duration": 0.037058,
     "end_time": "2021-04-02T00:12:05.741161",
     "exception": false,
     "start_time": "2021-04-02T00:12:05.704103",
     "status": "completed"
    },
    "tags": []
   },
   "outputs": [],
   "source": [
    "#hide\n",
    "# cols = list(g.columns.values)"
   ]
  },
  {
   "cell_type": "code",
   "execution_count": 29,
   "id": "solved-farming",
   "metadata": {
    "execution": {
     "iopub.execute_input": "2021-04-02T00:12:05.818978Z",
     "iopub.status.busy": "2021-04-02T00:12:05.818444Z",
     "iopub.status.idle": "2021-04-02T00:12:05.821148Z",
     "shell.execute_reply": "2021-04-02T00:12:05.820196Z"
    },
    "papermill": {
     "duration": 0.042123,
     "end_time": "2021-04-02T00:12:05.821316",
     "exception": false,
     "start_time": "2021-04-02T00:12:05.779193",
     "status": "completed"
    },
    "tags": []
   },
   "outputs": [],
   "source": [
    "#hide\n",
    "# cols.insert(0, cols.pop())"
   ]
  },
  {
   "cell_type": "code",
   "execution_count": 30,
   "id": "executed-adoption",
   "metadata": {
    "execution": {
     "iopub.execute_input": "2021-04-02T00:12:05.890046Z",
     "iopub.status.busy": "2021-04-02T00:12:05.889487Z",
     "iopub.status.idle": "2021-04-02T00:12:05.891686Z",
     "shell.execute_reply": "2021-04-02T00:12:05.891225Z"
    },
    "papermill": {
     "duration": 0.039857,
     "end_time": "2021-04-02T00:12:05.891792",
     "exception": false,
     "start_time": "2021-04-02T00:12:05.851935",
     "status": "completed"
    },
    "tags": []
   },
   "outputs": [],
   "source": [
    "#hide\n",
    "# g = g[cols]"
   ]
  },
  {
   "cell_type": "code",
   "execution_count": 31,
   "id": "subject-dublin",
   "metadata": {
    "execution": {
     "iopub.execute_input": "2021-04-02T00:12:05.961079Z",
     "iopub.status.busy": "2021-04-02T00:12:05.960580Z",
     "iopub.status.idle": "2021-04-02T00:12:05.963712Z",
     "shell.execute_reply": "2021-04-02T00:12:05.963098Z"
    },
    "papermill": {
     "duration": 0.040509,
     "end_time": "2021-04-02T00:12:05.963816",
     "exception": false,
     "start_time": "2021-04-02T00:12:05.923307",
     "status": "completed"
    },
    "tags": []
   },
   "outputs": [],
   "source": [
    "#hide\n",
    "# g['continent'] = g['continent'].map(mapping['map.continent'])"
   ]
  },
  {
   "cell_type": "code",
   "execution_count": 32,
   "id": "freelance-scout",
   "metadata": {
    "execution": {
     "iopub.execute_input": "2021-04-02T00:12:06.036085Z",
     "iopub.status.busy": "2021-04-02T00:12:06.035368Z",
     "iopub.status.idle": "2021-04-02T00:12:06.037551Z",
     "shell.execute_reply": "2021-04-02T00:12:06.038052Z"
    },
    "papermill": {
     "duration": 0.040791,
     "end_time": "2021-04-02T00:12:06.038199",
     "exception": false,
     "start_time": "2021-04-02T00:12:05.997408",
     "status": "completed"
    },
    "tags": []
   },
   "outputs": [],
   "source": [
    "#hide\n",
    "# g.head()"
   ]
  },
  {
   "cell_type": "code",
   "execution_count": 33,
   "id": "limited-engine",
   "metadata": {
    "execution": {
     "iopub.execute_input": "2021-04-02T00:12:06.114936Z",
     "iopub.status.busy": "2021-04-02T00:12:06.114313Z",
     "iopub.status.idle": "2021-04-02T00:12:06.116483Z",
     "shell.execute_reply": "2021-04-02T00:12:06.116056Z"
    },
    "papermill": {
     "duration": 0.040434,
     "end_time": "2021-04-02T00:12:06.116583",
     "exception": false,
     "start_time": "2021-04-02T00:12:06.076149",
     "status": "completed"
    },
    "tags": []
   },
   "outputs": [],
   "source": [
    "# hide\n",
    "# g['date'] = g['date'].astype('datetime64[ns]')"
   ]
  },
  {
   "cell_type": "code",
   "execution_count": 34,
   "id": "sophisticated-supervisor",
   "metadata": {
    "execution": {
     "iopub.execute_input": "2021-04-02T00:12:06.198906Z",
     "iopub.status.busy": "2021-04-02T00:12:06.198260Z",
     "iopub.status.idle": "2021-04-02T00:12:06.200222Z",
     "shell.execute_reply": "2021-04-02T00:12:06.200675Z"
    },
    "papermill": {
     "duration": 0.050013,
     "end_time": "2021-04-02T00:12:06.200805",
     "exception": false,
     "start_time": "2021-04-02T00:12:06.150792",
     "status": "completed"
    },
    "tags": []
   },
   "outputs": [],
   "source": [
    "#hide\n",
    "# g['date'] = g.date.dt.dayofyear"
   ]
  },
  {
   "cell_type": "code",
   "execution_count": 35,
   "id": "inside-dubai",
   "metadata": {
    "execution": {
     "iopub.execute_input": "2021-04-02T00:12:06.272397Z",
     "iopub.status.busy": "2021-04-02T00:12:06.271763Z",
     "iopub.status.idle": "2021-04-02T00:12:06.274544Z",
     "shell.execute_reply": "2021-04-02T00:12:06.273817Z"
    },
    "papermill": {
     "duration": 0.038447,
     "end_time": "2021-04-02T00:12:06.274653",
     "exception": false,
     "start_time": "2021-04-02T00:12:06.236206",
     "status": "completed"
    },
    "tags": []
   },
   "outputs": [],
   "source": [
    "#hide\n",
    "# g = g.rename(columns= {'continent':'group','country':'name','cases':'value'})"
   ]
  },
  {
   "cell_type": "code",
   "execution_count": 36,
   "id": "fleet-motorcycle",
   "metadata": {
    "execution": {
     "iopub.execute_input": "2021-04-02T00:12:06.343938Z",
     "iopub.status.busy": "2021-04-02T00:12:06.343428Z",
     "iopub.status.idle": "2021-04-02T00:12:06.345352Z",
     "shell.execute_reply": "2021-04-02T00:12:06.345760Z"
    },
    "papermill": {
     "duration": 0.03878,
     "end_time": "2021-04-02T00:12:06.345880",
     "exception": false,
     "start_time": "2021-04-02T00:12:06.307100",
     "status": "completed"
    },
    "tags": []
   },
   "outputs": [],
   "source": [
    "#hide\n",
    "# cols = ['name','group','day','value']"
   ]
  },
  {
   "cell_type": "code",
   "execution_count": 37,
   "id": "continued-sleeping",
   "metadata": {
    "execution": {
     "iopub.execute_input": "2021-04-02T00:12:06.413892Z",
     "iopub.status.busy": "2021-04-02T00:12:06.413356Z",
     "iopub.status.idle": "2021-04-02T00:12:06.415313Z",
     "shell.execute_reply": "2021-04-02T00:12:06.415733Z"
    },
    "papermill": {
     "duration": 0.036608,
     "end_time": "2021-04-02T00:12:06.415846",
     "exception": false,
     "start_time": "2021-04-02T00:12:06.379238",
     "status": "completed"
    },
    "tags": []
   },
   "outputs": [],
   "source": [
    "#hide\n",
    "# g.rename(columns= {'date':'day'},inplace = True)"
   ]
  },
  {
   "cell_type": "code",
   "execution_count": 38,
   "id": "major-fight",
   "metadata": {
    "execution": {
     "iopub.execute_input": "2021-04-02T00:12:06.487996Z",
     "iopub.status.busy": "2021-04-02T00:12:06.487488Z",
     "iopub.status.idle": "2021-04-02T00:12:06.489199Z",
     "shell.execute_reply": "2021-04-02T00:12:06.489641Z"
    },
    "papermill": {
     "duration": 0.037828,
     "end_time": "2021-04-02T00:12:06.489750",
     "exception": false,
     "start_time": "2021-04-02T00:12:06.451922",
     "status": "completed"
    },
    "tags": []
   },
   "outputs": [],
   "source": [
    "#hide\n",
    "# g = g[cols]"
   ]
  },
  {
   "cell_type": "code",
   "execution_count": 39,
   "id": "structured-mobile",
   "metadata": {
    "execution": {
     "iopub.execute_input": "2021-04-02T00:12:06.559706Z",
     "iopub.status.busy": "2021-04-02T00:12:06.559177Z",
     "iopub.status.idle": "2021-04-02T00:12:06.561272Z",
     "shell.execute_reply": "2021-04-02T00:12:06.560864Z"
    },
    "papermill": {
     "duration": 0.040177,
     "end_time": "2021-04-02T00:12:06.561374",
     "exception": false,
     "start_time": "2021-04-02T00:12:06.521197",
     "status": "completed"
    },
    "tags": []
   },
   "outputs": [],
   "source": [
    "# #hide\n",
    "# g = g[g.group.notna()]"
   ]
  },
  {
   "cell_type": "code",
   "execution_count": 40,
   "id": "determined-closing",
   "metadata": {
    "execution": {
     "iopub.execute_input": "2021-04-02T00:12:06.627866Z",
     "iopub.status.busy": "2021-04-02T00:12:06.627340Z",
     "iopub.status.idle": "2021-04-02T00:12:06.629515Z",
     "shell.execute_reply": "2021-04-02T00:12:06.629089Z"
    },
    "papermill": {
     "duration": 0.036361,
     "end_time": "2021-04-02T00:12:06.629610",
     "exception": false,
     "start_time": "2021-04-02T00:12:06.593249",
     "status": "completed"
    },
    "tags": []
   },
   "outputs": [],
   "source": [
    "# #hide\n",
    "# colors = dict(zip(\n",
    "#     [\"Oceania\", \"Europe\", \"Asia\", \"South America\", \"Middle East\", \"North America\", \"Africa\"],\n",
    "#     [\"#adb0ff\", \"#ffb3ff\", \"#90d595\", \"#e48381\", \"#aafbff\", \"#f7bb5f\", \"#eafb50\"]\n",
    "# ))\n",
    "# group_lk = g.set_index('name')['group'].to_dict()"
   ]
  },
  {
   "cell_type": "code",
   "execution_count": null,
   "id": "gross-drinking",
   "metadata": {
    "papermill": {
     "duration": 0.032763,
     "end_time": "2021-04-02T00:12:06.696161",
     "exception": false,
     "start_time": "2021-04-02T00:12:06.663398",
     "status": "completed"
    },
    "tags": []
   },
   "outputs": [],
   "source": []
  },
  {
   "cell_type": "code",
   "execution_count": 41,
   "id": "subject-macintosh",
   "metadata": {
    "execution": {
     "iopub.execute_input": "2021-04-02T00:12:06.767861Z",
     "iopub.status.busy": "2021-04-02T00:12:06.767298Z",
     "iopub.status.idle": "2021-04-02T00:12:06.769480Z",
     "shell.execute_reply": "2021-04-02T00:12:06.769891Z"
    },
    "papermill": {
     "duration": 0.039706,
     "end_time": "2021-04-02T00:12:06.770003",
     "exception": false,
     "start_time": "2021-04-02T00:12:06.730297",
     "status": "completed"
    },
    "tags": []
   },
   "outputs": [],
   "source": [
    "# #hide\n",
    "# fig, ax = plt.subplots(figsize=(15, 8))\n",
    "\n",
    "# def draw_barchart(current_day):\n",
    "#     dff = g[g['day'].eq(current_day)].sort_values(by='value', ascending=True).tail(10)\n",
    "#     ax.clear()\n",
    "#     ax.barh(dff['name'], dff['value'], color=[colors[group_lk[x]] for x in dff['name']])\n",
    "#     dx = dff['value'].max() / 200\n",
    "    \n",
    "#     for i, (value, name) in enumerate(zip(dff['value'], dff['name'])):\n",
    "#         ax.text(value-dx, i,     name,           size=14, weight=600, ha='right', va='bottom')\n",
    "#         ax.text(value-dx, i-.25, group_lk[name], size=10, color='#444444', ha='right', va='baseline')\n",
    "#         ax.text(value+dx, i,     f'{value:,.0f}',  size=14, ha='left',  va='center')\n",
    "#     ax.text(1, 0.4, current_day, transform=ax.transAxes, color='#777777', size=46, ha='right', weight=800)\n",
    "#     ax.text(0, 1.06, 'Population (thousands)', transform=ax.transAxes, size=12, color='#777777')\n",
    "#     ax.xaxis.set_major_formatter(ticker.StrMethodFormatter('{x:,.0f}'))\n",
    "#     ax.xaxis.set_ticks_position('top')\n",
    "#     ax.tick_params(axis='x', colors='#777777', labelsize=12)\n",
    "#     ax.set_yticks([])\n",
    "#     ax.margins(0, 0.01)\n",
    "#     ax.grid(which='major', axis='x', linestyle='-')\n",
    "#     ax.set_axisbelow(True)\n",
    "    \n",
    "#     ax.text(0, 1.15, 'Coronavirus',\n",
    "#             transform=ax.transAxes, size=24, weight=600, ha='left', va='top')\n",
    "# #     ax.text(1, 0, 'by @pratapvardhan; credit @jburnmurdoch', transform=ax.transAxes, color='#777777', ha='right',\n",
    "# #             bbox=dict(facecolor='white', alpha=0.8, edgecolor='white'))\n",
    "#     plt.box(False)"
   ]
  },
  {
   "cell_type": "code",
   "execution_count": 42,
   "id": "sexual-wages",
   "metadata": {
    "execution": {
     "iopub.execute_input": "2021-04-02T00:12:06.838777Z",
     "iopub.status.busy": "2021-04-02T00:12:06.838278Z",
     "iopub.status.idle": "2021-04-02T00:12:06.840630Z",
     "shell.execute_reply": "2021-04-02T00:12:06.840226Z"
    },
    "papermill": {
     "duration": 0.036642,
     "end_time": "2021-04-02T00:12:06.840727",
     "exception": false,
     "start_time": "2021-04-02T00:12:06.804085",
     "status": "completed"
    },
    "tags": []
   },
   "outputs": [],
   "source": [
    "# #hide_input\n",
    "# fig, ax = plt.subplots(figsize=(15, 8))\n",
    "# animator = animation.FuncAnimation(fig, draw_barchart, frames=range(g.day.values.min(), g.day.values.max()))\n",
    "# HTML(animator.to_jshtml())\n",
    "# # or use animator.to_html5_video() or animator.save() "
   ]
  },
  {
   "cell_type": "code",
   "execution_count": null,
   "id": "australian-container",
   "metadata": {
    "papermill": {
     "duration": 0.031959,
     "end_time": "2021-04-02T00:12:06.907125",
     "exception": false,
     "start_time": "2021-04-02T00:12:06.875166",
     "status": "completed"
    },
    "tags": []
   },
   "outputs": [],
   "source": []
  },
  {
   "cell_type": "code",
   "execution_count": null,
   "id": "mediterranean-pontiac",
   "metadata": {
    "papermill": {
     "duration": 0.030504,
     "end_time": "2021-04-02T00:12:06.970767",
     "exception": false,
     "start_time": "2021-04-02T00:12:06.940263",
     "status": "completed"
    },
    "tags": []
   },
   "outputs": [],
   "source": []
  },
  {
   "cell_type": "code",
   "execution_count": null,
   "id": "aging-legislature",
   "metadata": {
    "papermill": {
     "duration": 0.034179,
     "end_time": "2021-04-02T00:12:07.037529",
     "exception": false,
     "start_time": "2021-04-02T00:12:07.003350",
     "status": "completed"
    },
    "tags": []
   },
   "outputs": [],
   "source": []
  }
 ],
 "metadata": {
  "kernelspec": {
   "display_name": "Python 3",
   "language": "python",
   "name": "python3"
  },
  "language_info": {
   "codemirror_mode": {
    "name": "ipython",
    "version": 3
   },
   "file_extension": ".py",
   "mimetype": "text/x-python",
   "name": "python",
   "nbconvert_exporter": "python",
   "pygments_lexer": "ipython3",
   "version": "3.6.13"
  },
  "papermill": {
   "duration": 11.273351,
   "end_time": "2021-04-02T00:12:07.385001",
   "environment_variables": {},
   "exception": null,
   "input_path": "2020-03-21-covid19exp.ipynb",
   "output_path": "2020-03-21-covid19exp.ipynb",
   "parameters": {},
   "start_time": "2021-04-02T00:11:56.111650",
   "version": "2.0.0"
  }
 },
 "nbformat": 4,
 "nbformat_minor": 5
}