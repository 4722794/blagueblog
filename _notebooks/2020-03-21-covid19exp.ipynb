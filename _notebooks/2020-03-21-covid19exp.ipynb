{
 "cells": [
  {
   "cell_type": "markdown",
   "id": "muslim-click",
   "metadata": {
    "papermill": {
     "duration": 0.034413,
     "end_time": "2021-09-14T00:24:15.553913",
     "exception": false,
     "start_time": "2021-09-14T00:24:15.519500",
     "status": "completed"
    },
    "tags": []
   },
   "source": [
    "# COVID-19 Case Race\n",
    "> A race chart to see rising cases around the world\n",
    "\n",
    "- author: Hargun Oberoi\n",
    "- image: images/covid-overview.png\n",
    "- hide: false\n",
    "- badges: false"
   ]
  },
  {
   "cell_type": "code",
   "execution_count": 1,
   "id": "proof-material",
   "metadata": {
    "execution": {
     "iopub.execute_input": "2021-09-14T00:24:15.623035Z",
     "iopub.status.busy": "2021-09-14T00:24:15.622509Z",
     "iopub.status.idle": "2021-09-14T00:24:15.947587Z",
     "shell.execute_reply": "2021-09-14T00:24:15.947089Z"
    },
    "papermill": {
     "duration": 0.363929,
     "end_time": "2021-09-14T00:24:15.947729",
     "exception": false,
     "start_time": "2021-09-14T00:24:15.583800",
     "status": "completed"
    },
    "tags": []
   },
   "outputs": [],
   "source": [
    "#hide\n",
    "import numpy as np\n",
    "import pandas as pd\n",
    "from jinja2 import Template\n",
    "from IPython.display import HTML"
   ]
  },
  {
   "cell_type": "code",
   "execution_count": 2,
   "id": "developed-terminology",
   "metadata": {
    "execution": {
     "iopub.execute_input": "2021-09-14T00:24:16.012898Z",
     "iopub.status.busy": "2021-09-14T00:24:16.012372Z",
     "iopub.status.idle": "2021-09-14T00:24:16.014803Z",
     "shell.execute_reply": "2021-09-14T00:24:16.014391Z"
    },
    "papermill": {
     "duration": 0.037622,
     "end_time": "2021-09-14T00:24:16.014917",
     "exception": false,
     "start_time": "2021-09-14T00:24:15.977295",
     "status": "completed"
    },
    "tags": []
   },
   "outputs": [],
   "source": [
    "#hide\n",
    "\n",
    "# FETCH\n",
    "base_url = 'https://raw.githubusercontent.com/pratapvardhan/notebooks/master/covid19/'\n",
    "paths = {\n",
    "    'mapping': base_url + 'mapping_countries.csv',\n",
    "    'overview': base_url + 'overview.tpl'\n",
    "}"
   ]
  },
  {
   "cell_type": "code",
   "execution_count": 3,
   "id": "dynamic-saver",
   "metadata": {
    "execution": {
     "iopub.execute_input": "2021-09-14T00:24:16.083949Z",
     "iopub.status.busy": "2021-09-14T00:24:16.083429Z",
     "iopub.status.idle": "2021-09-14T00:24:16.085497Z",
     "shell.execute_reply": "2021-09-14T00:24:16.085983Z"
    },
    "papermill": {
     "duration": 0.041772,
     "end_time": "2021-09-14T00:24:16.086114",
     "exception": false,
     "start_time": "2021-09-14T00:24:16.044342",
     "status": "completed"
    },
    "tags": []
   },
   "outputs": [
    {
     "data": {
      "text/plain": [
       "'https://raw.githubusercontent.com/pratapvardhan/notebooks/master/covid19/mapping_countries.csv'"
      ]
     },
     "execution_count": 3,
     "metadata": {},
     "output_type": "execute_result"
    }
   ],
   "source": [
    "#hide\n",
    "paths['mapping']"
   ]
  },
  {
   "cell_type": "code",
   "execution_count": 4,
   "id": "urban-software",
   "metadata": {
    "execution": {
     "iopub.execute_input": "2021-09-14T00:24:16.150681Z",
     "iopub.status.busy": "2021-09-14T00:24:16.150164Z",
     "iopub.status.idle": "2021-09-14T00:24:16.152215Z",
     "shell.execute_reply": "2021-09-14T00:24:16.152710Z"
    },
    "papermill": {
     "duration": 0.037034,
     "end_time": "2021-09-14T00:24:16.152836",
     "exception": false,
     "start_time": "2021-09-14T00:24:16.115802",
     "status": "completed"
    },
    "tags": []
   },
   "outputs": [],
   "source": [
    "#hide\n",
    "def get_mappings(url):\n",
    "    df = pd.read_csv(url)\n",
    "    return {\n",
    "        'df': df,\n",
    "        'replace.country': dict(df.dropna(subset=['Name']).set_index('Country')['Name']),\n",
    "        'map.continent': dict(df.set_index('Name')['Continent'])\n",
    "    }"
   ]
  },
  {
   "cell_type": "code",
   "execution_count": 5,
   "id": "intimate-machinery",
   "metadata": {
    "execution": {
     "iopub.execute_input": "2021-09-14T00:24:16.217503Z",
     "iopub.status.busy": "2021-09-14T00:24:16.216980Z",
     "iopub.status.idle": "2021-09-14T00:24:16.285893Z",
     "shell.execute_reply": "2021-09-14T00:24:16.285368Z"
    },
    "papermill": {
     "duration": 0.103484,
     "end_time": "2021-09-14T00:24:16.286028",
     "exception": false,
     "start_time": "2021-09-14T00:24:16.182544",
     "status": "completed"
    },
    "tags": []
   },
   "outputs": [],
   "source": [
    "#hide\n",
    "mapping = get_mappings(paths['mapping'])"
   ]
  },
  {
   "cell_type": "code",
   "execution_count": 6,
   "id": "certified-tactics",
   "metadata": {
    "execution": {
     "iopub.execute_input": "2021-09-14T00:24:16.352418Z",
     "iopub.status.busy": "2021-09-14T00:24:16.351860Z",
     "iopub.status.idle": "2021-09-14T00:24:16.353655Z",
     "shell.execute_reply": "2021-09-14T00:24:16.354129Z"
    },
    "papermill": {
     "duration": 0.037435,
     "end_time": "2021-09-14T00:24:16.354265",
     "exception": false,
     "start_time": "2021-09-14T00:24:16.316830",
     "status": "completed"
    },
    "tags": []
   },
   "outputs": [],
   "source": [
    "#hide\n",
    "def get_template(path):\n",
    "    from urllib.parse import urlparse\n",
    "    if bool(urlparse(path).netloc):\n",
    "        from urllib.request import urlopen\n",
    "        return urlopen(path).read().decode('utf8')\n",
    "    return open(path).read()"
   ]
  },
  {
   "cell_type": "code",
   "execution_count": 7,
   "id": "realistic-blast",
   "metadata": {
    "execution": {
     "iopub.execute_input": "2021-09-14T00:24:16.418610Z",
     "iopub.status.busy": "2021-09-14T00:24:16.418097Z",
     "iopub.status.idle": "2021-09-14T00:24:16.420232Z",
     "shell.execute_reply": "2021-09-14T00:24:16.419809Z"
    },
    "papermill": {
     "duration": 0.036424,
     "end_time": "2021-09-14T00:24:16.420346",
     "exception": false,
     "start_time": "2021-09-14T00:24:16.383922",
     "status": "completed"
    },
    "tags": []
   },
   "outputs": [],
   "source": [
    "#hide\n",
    "def get_frame(name):\n",
    "    url = (\n",
    "        'https://raw.githubusercontent.com/CSSEGISandData/COVID-19/master/csse_covid_19_data/'\n",
    "        f'csse_covid_19_time_series/time_series_covid19_{name}_global.csv')\n",
    "    df = pd.read_csv(url)\n",
    "    # rename countries\n",
    "    df['Country/Region'] = df['Country/Region'].replace(mapping['replace.country'])\n",
    "    return df"
   ]
  },
  {
   "cell_type": "code",
   "execution_count": 8,
   "id": "affiliated-characterization",
   "metadata": {
    "execution": {
     "iopub.execute_input": "2021-09-14T00:24:16.485649Z",
     "iopub.status.busy": "2021-09-14T00:24:16.485130Z",
     "iopub.status.idle": "2021-09-14T00:24:16.487201Z",
     "shell.execute_reply": "2021-09-14T00:24:16.487630Z"
    },
    "papermill": {
     "duration": 0.037799,
     "end_time": "2021-09-14T00:24:16.487757",
     "exception": false,
     "start_time": "2021-09-14T00:24:16.449958",
     "status": "completed"
    },
    "tags": []
   },
   "outputs": [],
   "source": [
    "#hide\n",
    "def get_dates(df):\n",
    "    dt_cols = df.columns[~df.columns.isin(['Province/State', 'Country/Region', 'Lat', 'Long'])]\n",
    "    LAST_DATE_I = -1\n",
    "    # sometimes last column may be empty, then go backwards\n",
    "    for i in range(-1, -len(dt_cols), -1):\n",
    "        if not df[dt_cols[i]].fillna(0).eq(0).all():\n",
    "            LAST_DATE_I = i\n",
    "            break\n",
    "    return LAST_DATE_I, dt_cols"
   ]
  },
  {
   "cell_type": "code",
   "execution_count": 9,
   "id": "recent-optimization",
   "metadata": {
    "execution": {
     "iopub.execute_input": "2021-09-14T00:24:16.551600Z",
     "iopub.status.busy": "2021-09-14T00:24:16.551077Z",
     "iopub.status.idle": "2021-09-14T00:24:17.099370Z",
     "shell.execute_reply": "2021-09-14T00:24:17.099827Z"
    },
    "papermill": {
     "duration": 0.58276,
     "end_time": "2021-09-14T00:24:17.099979",
     "exception": false,
     "start_time": "2021-09-14T00:24:16.517219",
     "status": "completed"
    },
    "tags": []
   },
   "outputs": [],
   "source": [
    "#hide\n",
    "COL_REGION = 'Country/Region'\n",
    "# Confirmed, Recovered, Deaths\n",
    "df = get_frame('confirmed')\n",
    "# dft_: timeseries, dfc_: today country agg\n",
    "dft_cases = df\n",
    "dft_deaths = get_frame('deaths')\n",
    "dft_recovered = get_frame('recovered')\n",
    "LAST_DATE_I, dt_cols = get_dates(df)"
   ]
  },
  {
   "cell_type": "code",
   "execution_count": 10,
   "id": "absolute-copper",
   "metadata": {
    "execution": {
     "iopub.execute_input": "2021-09-14T00:24:17.165550Z",
     "iopub.status.busy": "2021-09-14T00:24:17.165041Z",
     "iopub.status.idle": "2021-09-14T00:24:17.167069Z",
     "shell.execute_reply": "2021-09-14T00:24:17.166640Z"
    },
    "papermill": {
     "duration": 0.037285,
     "end_time": "2021-09-14T00:24:17.167180",
     "exception": false,
     "start_time": "2021-09-14T00:24:17.129895",
     "status": "completed"
    },
    "tags": []
   },
   "outputs": [],
   "source": [
    "#hide\n",
    "LAST_DATE_I, dt_cols = get_dates(df)\n",
    "dt_today =dt_cols[LAST_DATE_I]\n",
    "# dt_5day = dt_cols[LAST_DATE_I - 5]\n",
    "dt_yday = dt_cols[LAST_DATE_I - 1]"
   ]
  },
  {
   "cell_type": "code",
   "execution_count": 11,
   "id": "restricted-sheriff",
   "metadata": {
    "execution": {
     "iopub.execute_input": "2021-09-14T00:24:17.232260Z",
     "iopub.status.busy": "2021-09-14T00:24:17.231735Z",
     "iopub.status.idle": "2021-09-14T00:24:17.238953Z",
     "shell.execute_reply": "2021-09-14T00:24:17.238547Z"
    },
    "papermill": {
     "duration": 0.042322,
     "end_time": "2021-09-14T00:24:17.239065",
     "exception": false,
     "start_time": "2021-09-14T00:24:17.196743",
     "status": "completed"
    },
    "tags": []
   },
   "outputs": [],
   "source": [
    "#hide\n",
    "dfc_cases = dft_cases.groupby(COL_REGION)[dt_today].sum()\n",
    "dfc_deaths = dft_deaths.groupby(COL_REGION)[dt_today].sum()\n",
    "# dfp_cases = dft_cases.groupby(COL_REGION)[dt_5day].sum()\n",
    "# dfp_deaths = dft_deaths.groupby(COL_REGION)[dt_5day].sum()\n",
    "dfp_cases = dft_cases.groupby(COL_REGION)[dt_yday].sum()\n",
    "dfp_deaths = dft_deaths.groupby(COL_REGION)[dt_yday].sum()"
   ]
  },
  {
   "cell_type": "code",
   "execution_count": 12,
   "id": "deluxe-hepatitis",
   "metadata": {
    "execution": {
     "iopub.execute_input": "2021-09-14T00:24:17.304662Z",
     "iopub.status.busy": "2021-09-14T00:24:17.304119Z",
     "iopub.status.idle": "2021-09-14T00:24:17.308131Z",
     "shell.execute_reply": "2021-09-14T00:24:17.308539Z"
    },
    "papermill": {
     "duration": 0.040043,
     "end_time": "2021-09-14T00:24:17.308671",
     "exception": false,
     "start_time": "2021-09-14T00:24:17.268628",
     "status": "completed"
    },
    "tags": []
   },
   "outputs": [],
   "source": [
    "#hide\n",
    "df_table = (pd.DataFrame(dict(Cases = dfc_cases, Deaths = dfc_deaths, PCases = dfp_cases, PDeaths = dfp_deaths))\n",
    "            .sort_values(by = ['Cases','Deaths'], ascending = [False, False])\n",
    "            .reset_index())"
   ]
  },
  {
   "cell_type": "code",
   "execution_count": 13,
   "id": "educational-chancellor",
   "metadata": {
    "execution": {
     "iopub.execute_input": "2021-09-14T00:24:17.379050Z",
     "iopub.status.busy": "2021-09-14T00:24:17.378534Z",
     "iopub.status.idle": "2021-09-14T00:24:17.393150Z",
     "shell.execute_reply": "2021-09-14T00:24:17.392641Z"
    },
    "papermill": {
     "duration": 0.05507,
     "end_time": "2021-09-14T00:24:17.393265",
     "exception": false,
     "start_time": "2021-09-14T00:24:17.338195",
     "status": "completed"
    },
    "tags": []
   },
   "outputs": [
    {
     "data": {
      "text/html": [
       "<div>\n",
       "<style scoped>\n",
       "    .dataframe tbody tr th:only-of-type {\n",
       "        vertical-align: middle;\n",
       "    }\n",
       "\n",
       "    .dataframe tbody tr th {\n",
       "        vertical-align: top;\n",
       "    }\n",
       "\n",
       "    .dataframe thead th {\n",
       "        text-align: right;\n",
       "    }\n",
       "</style>\n",
       "<table border=\"1\" class=\"dataframe\">\n",
       "  <thead>\n",
       "    <tr style=\"text-align: right;\">\n",
       "      <th></th>\n",
       "      <th>Country/Region</th>\n",
       "      <th>Cases</th>\n",
       "      <th>Deaths</th>\n",
       "      <th>PCases</th>\n",
       "      <th>PDeaths</th>\n",
       "      <th>Cases (+)</th>\n",
       "      <th>Deaths (+)</th>\n",
       "      <th>Fatality Rate</th>\n",
       "      <th>Continent</th>\n",
       "    </tr>\n",
       "  </thead>\n",
       "  <tbody>\n",
       "    <tr>\n",
       "      <th>0</th>\n",
       "      <td>US</td>\n",
       "      <td>40955201</td>\n",
       "      <td>659970</td>\n",
       "      <td>40921394</td>\n",
       "      <td>659691</td>\n",
       "      <td>33807</td>\n",
       "      <td>279</td>\n",
       "      <td>1.61</td>\n",
       "      <td>North America</td>\n",
       "    </tr>\n",
       "    <tr>\n",
       "      <th>1</th>\n",
       "      <td>India</td>\n",
       "      <td>33264175</td>\n",
       "      <td>442874</td>\n",
       "      <td>33236921</td>\n",
       "      <td>442655</td>\n",
       "      <td>27254</td>\n",
       "      <td>219</td>\n",
       "      <td>1.33</td>\n",
       "      <td>Asia</td>\n",
       "    </tr>\n",
       "    <tr>\n",
       "      <th>2</th>\n",
       "      <td>Brazil</td>\n",
       "      <td>20999779</td>\n",
       "      <td>586851</td>\n",
       "      <td>20989164</td>\n",
       "      <td>586558</td>\n",
       "      <td>10615</td>\n",
       "      <td>293</td>\n",
       "      <td>2.79</td>\n",
       "      <td>South America</td>\n",
       "    </tr>\n",
       "    <tr>\n",
       "      <th>3</th>\n",
       "      <td>United Kingdom</td>\n",
       "      <td>7259752</td>\n",
       "      <td>134525</td>\n",
       "      <td>7231111</td>\n",
       "      <td>134469</td>\n",
       "      <td>28641</td>\n",
       "      <td>56</td>\n",
       "      <td>1.85</td>\n",
       "      <td>Europe</td>\n",
       "    </tr>\n",
       "    <tr>\n",
       "      <th>4</th>\n",
       "      <td>Russia</td>\n",
       "      <td>7037435</td>\n",
       "      <td>189319</td>\n",
       "      <td>7019200</td>\n",
       "      <td>188546</td>\n",
       "      <td>18235</td>\n",
       "      <td>773</td>\n",
       "      <td>2.69</td>\n",
       "      <td>Europe</td>\n",
       "    </tr>\n",
       "  </tbody>\n",
       "</table>\n",
       "</div>"
      ],
      "text/plain": [
       "   Country/Region     Cases  Deaths    PCases  PDeaths  Cases (+)  Deaths (+)  \\\n",
       "0              US  40955201  659970  40921394   659691      33807         279   \n",
       "1           India  33264175  442874  33236921   442655      27254         219   \n",
       "2          Brazil  20999779  586851  20989164   586558      10615         293   \n",
       "3  United Kingdom   7259752  134525   7231111   134469      28641          56   \n",
       "4          Russia   7037435  189319   7019200   188546      18235         773   \n",
       "\n",
       "   Fatality Rate      Continent  \n",
       "0           1.61  North America  \n",
       "1           1.33           Asia  \n",
       "2           2.79  South America  \n",
       "3           1.85         Europe  \n",
       "4           2.69         Europe  "
      ]
     },
     "execution_count": 13,
     "metadata": {},
     "output_type": "execute_result"
    }
   ],
   "source": [
    "#hide\n",
    "for c in 'Cases, Deaths'.split(', '):\n",
    "    df_table[f'{c} (+)'] = (df_table[c] - df_table[f'P{c}']).clip(0)\n",
    "    #Clip ça veut dire, les chiffres negatif sont interdit\n",
    "df_table['Fatality Rate'] = (100* df_table['Deaths']/ df_table['Cases']).round(2)\n",
    "df_table['Continent'] = df_table['Country/Region'].map(mapping['map.continent'])\n",
    "df_table.head(5)"
   ]
  },
  {
   "cell_type": "code",
   "execution_count": 14,
   "id": "aboriginal-bulgaria",
   "metadata": {
    "execution": {
     "iopub.execute_input": "2021-09-14T00:24:17.459193Z",
     "iopub.status.busy": "2021-09-14T00:24:17.458689Z",
     "iopub.status.idle": "2021-09-14T00:24:17.461623Z",
     "shell.execute_reply": "2021-09-14T00:24:17.461218Z"
    },
    "papermill": {
     "duration": 0.038191,
     "end_time": "2021-09-14T00:24:17.461735",
     "exception": false,
     "start_time": "2021-09-14T00:24:17.423544",
     "status": "completed"
    },
    "tags": []
   },
   "outputs": [],
   "source": [
    "#hide\n",
    "#delete problematic countries from table\n",
    "df_table = df_table[~df_table['Country/Region'].isin(['Cape Verde', 'Cruise Ship', 'Kosovo'])]"
   ]
  },
  {
   "cell_type": "code",
   "execution_count": 15,
   "id": "fantastic-effect",
   "metadata": {
    "execution": {
     "iopub.execute_input": "2021-09-14T00:24:17.529289Z",
     "iopub.status.busy": "2021-09-14T00:24:17.528780Z",
     "iopub.status.idle": "2021-09-14T00:24:17.546686Z",
     "shell.execute_reply": "2021-09-14T00:24:17.546257Z"
    },
    "papermill": {
     "duration": 0.055073,
     "end_time": "2021-09-14T00:24:17.546799",
     "exception": false,
     "start_time": "2021-09-14T00:24:17.491726",
     "status": "completed"
    },
    "tags": []
   },
   "outputs": [
    {
     "data": {
      "text/html": [
       "<div>\n",
       "<style scoped>\n",
       "    .dataframe tbody tr th:only-of-type {\n",
       "        vertical-align: middle;\n",
       "    }\n",
       "\n",
       "    .dataframe tbody tr th {\n",
       "        vertical-align: top;\n",
       "    }\n",
       "\n",
       "    .dataframe thead th {\n",
       "        text-align: right;\n",
       "    }\n",
       "</style>\n",
       "<table border=\"1\" class=\"dataframe\">\n",
       "  <thead>\n",
       "    <tr style=\"text-align: right;\">\n",
       "      <th></th>\n",
       "      <th>Country/Region</th>\n",
       "      <th>Cases</th>\n",
       "      <th>Deaths</th>\n",
       "      <th>PCases</th>\n",
       "      <th>PDeaths</th>\n",
       "      <th>Cases (+)</th>\n",
       "      <th>Deaths (+)</th>\n",
       "      <th>Fatality Rate</th>\n",
       "      <th>Continent</th>\n",
       "    </tr>\n",
       "  </thead>\n",
       "  <tbody>\n",
       "    <tr>\n",
       "      <th>0</th>\n",
       "      <td>US</td>\n",
       "      <td>40955201</td>\n",
       "      <td>659970</td>\n",
       "      <td>40921394</td>\n",
       "      <td>659691</td>\n",
       "      <td>33807</td>\n",
       "      <td>279</td>\n",
       "      <td>1.6</td>\n",
       "      <td>North America</td>\n",
       "    </tr>\n",
       "    <tr>\n",
       "      <th>1</th>\n",
       "      <td>India</td>\n",
       "      <td>33264175</td>\n",
       "      <td>442874</td>\n",
       "      <td>33236921</td>\n",
       "      <td>442655</td>\n",
       "      <td>27254</td>\n",
       "      <td>219</td>\n",
       "      <td>1.3</td>\n",
       "      <td>Asia</td>\n",
       "    </tr>\n",
       "    <tr>\n",
       "      <th>2</th>\n",
       "      <td>Brazil</td>\n",
       "      <td>20999779</td>\n",
       "      <td>586851</td>\n",
       "      <td>20989164</td>\n",
       "      <td>586558</td>\n",
       "      <td>10615</td>\n",
       "      <td>293</td>\n",
       "      <td>2.8</td>\n",
       "      <td>South America</td>\n",
       "    </tr>\n",
       "    <tr>\n",
       "      <th>3</th>\n",
       "      <td>United Kingdom</td>\n",
       "      <td>7259752</td>\n",
       "      <td>134525</td>\n",
       "      <td>7231111</td>\n",
       "      <td>134469</td>\n",
       "      <td>28641</td>\n",
       "      <td>56</td>\n",
       "      <td>1.9</td>\n",
       "      <td>Europe</td>\n",
       "    </tr>\n",
       "    <tr>\n",
       "      <th>4</th>\n",
       "      <td>Russia</td>\n",
       "      <td>7037435</td>\n",
       "      <td>189319</td>\n",
       "      <td>7019200</td>\n",
       "      <td>188546</td>\n",
       "      <td>18235</td>\n",
       "      <td>773</td>\n",
       "      <td>2.7</td>\n",
       "      <td>Europe</td>\n",
       "    </tr>\n",
       "  </tbody>\n",
       "</table>\n",
       "</div>"
      ],
      "text/plain": [
       "   Country/Region     Cases  Deaths    PCases  PDeaths  Cases (+)  Deaths (+)  \\\n",
       "0              US  40955201  659970  40921394   659691      33807         279   \n",
       "1           India  33264175  442874  33236921   442655      27254         219   \n",
       "2          Brazil  20999779  586851  20989164   586558      10615         293   \n",
       "3  United Kingdom   7259752  134525   7231111   134469      28641          56   \n",
       "4          Russia   7037435  189319   7019200   188546      18235         773   \n",
       "\n",
       "   Fatality Rate      Continent  \n",
       "0            1.6  North America  \n",
       "1            1.3           Asia  \n",
       "2            2.8  South America  \n",
       "3            1.9         Europe  \n",
       "4            2.7         Europe  "
      ]
     },
     "execution_count": 15,
     "metadata": {},
     "output_type": "execute_result"
    }
   ],
   "source": [
    "#hide\n",
    "df_table = (pd.DataFrame(dict(Cases=dfc_cases, Deaths=dfc_deaths, PCases=dfp_cases, PDeaths=dfp_deaths))\n",
    "             .sort_values(by=['Cases', 'Deaths'], ascending=[False, False])\n",
    "             .reset_index())\n",
    "df_table.rename(columns={'index': 'Country/Region'}, inplace=True)\n",
    "for c in 'Cases, Deaths'.split(', '):\n",
    "    df_table[f'{c} (+)'] = (df_table[c] - df_table[f'P{c}']).clip(0)  # DATA BUG\n",
    "df_table['Fatality Rate'] = (100 * df_table['Deaths'] / df_table['Cases']).round(1)\n",
    "df_table['Continent'] = df_table['Country/Region'].map(mapping['map.continent'])\n",
    "df_table.head(5)"
   ]
  },
  {
   "cell_type": "code",
   "execution_count": 16,
   "id": "fewer-occasion",
   "metadata": {
    "execution": {
     "iopub.execute_input": "2021-09-14T00:24:17.613414Z",
     "iopub.status.busy": "2021-09-14T00:24:17.612910Z",
     "iopub.status.idle": "2021-09-14T00:24:17.615157Z",
     "shell.execute_reply": "2021-09-14T00:24:17.614752Z"
    },
    "papermill": {
     "duration": 0.037765,
     "end_time": "2021-09-14T00:24:17.615267",
     "exception": false,
     "start_time": "2021-09-14T00:24:17.577502",
     "status": "completed"
    },
    "tags": []
   },
   "outputs": [],
   "source": [
    "#hide\n",
    "#delete problematic countries from table\n",
    "df_table = df_table[~df_table['Country/Region'].isin(['Cape Verde', 'Cruise Ship', 'Kosovo'])]"
   ]
  },
  {
   "cell_type": "code",
   "execution_count": 17,
   "id": "related-center",
   "metadata": {
    "execution": {
     "iopub.execute_input": "2021-09-14T00:24:17.689096Z",
     "iopub.status.busy": "2021-09-14T00:24:17.688563Z",
     "iopub.status.idle": "2021-09-14T00:24:17.696001Z",
     "shell.execute_reply": "2021-09-14T00:24:17.696404Z"
    },
    "papermill": {
     "duration": 0.050884,
     "end_time": "2021-09-14T00:24:17.696543",
     "exception": false,
     "start_time": "2021-09-14T00:24:17.645659",
     "status": "completed"
    },
    "tags": []
   },
   "outputs": [],
   "source": [
    "#hide\n",
    "metrics = [df_table.columns[index] for index in [1,2,5,6]]\n",
    "# s_china = df_table[df_table['Country/Region'].eq('China')][metrics].sum().add_prefix('China ')\n",
    "s_us = df_table[df_table['Country/Region'].eq('US')][metrics].sum().add_prefix('US ')\n",
    "s_eu = df_table[df_table['Continent'].eq('Europe')][metrics].sum().add_prefix('EU ')\n",
    "s_ind = df_table[df_table['Country/Region'].eq('India')][metrics].sum().add_prefix('India ')\n",
    "summary = {'updated': pd.to_datetime(dt_today), 'since': pd.to_datetime(dt_yday)}\n",
    "summary = {'updated': pd.to_datetime(dt_today), 'since': pd.to_datetime(dt_yday)}\n",
    "summary = {**summary, **df_table[metrics].sum(), **s_ind, **s_us, **s_eu}"
   ]
  },
  {
   "cell_type": "code",
   "execution_count": 18,
   "id": "engaging-syndrome",
   "metadata": {
    "execution": {
     "iopub.execute_input": "2021-09-14T00:24:17.763342Z",
     "iopub.status.busy": "2021-09-14T00:24:17.762836Z",
     "iopub.status.idle": "2021-09-14T00:24:17.776972Z",
     "shell.execute_reply": "2021-09-14T00:24:17.776552Z"
    },
    "papermill": {
     "duration": 0.049872,
     "end_time": "2021-09-14T00:24:17.777090",
     "exception": false,
     "start_time": "2021-09-14T00:24:17.727218",
     "status": "completed"
    },
    "tags": []
   },
   "outputs": [],
   "source": [
    "#hide\n",
    "dft_ct_new_cases = dft_cases.groupby(COL_REGION)[dt_cols].sum().diff(axis=1).fillna(0).astype(int)"
   ]
  },
  {
   "cell_type": "code",
   "execution_count": 19,
   "id": "neutral-assignment",
   "metadata": {
    "execution": {
     "iopub.execute_input": "2021-09-14T00:24:17.844756Z",
     "iopub.status.busy": "2021-09-14T00:24:17.844228Z",
     "iopub.status.idle": "2021-09-14T00:24:17.846422Z",
     "shell.execute_reply": "2021-09-14T00:24:17.846016Z"
    },
    "papermill": {
     "duration": 0.03898,
     "end_time": "2021-09-14T00:24:17.846535",
     "exception": false,
     "start_time": "2021-09-14T00:24:17.807555",
     "status": "completed"
    },
    "tags": []
   },
   "outputs": [],
   "source": [
    "#hide\n",
    "everydaycases = dft_ct_new_cases.cumsum(axis=1)"
   ]
  },
  {
   "cell_type": "code",
   "execution_count": 20,
   "id": "parliamentary-calgary",
   "metadata": {
    "execution": {
     "iopub.execute_input": "2021-09-14T00:24:17.911684Z",
     "iopub.status.busy": "2021-09-14T00:24:17.911173Z",
     "iopub.status.idle": "2021-09-14T00:24:18.517696Z",
     "shell.execute_reply": "2021-09-14T00:24:18.518144Z"
    },
    "papermill": {
     "duration": 0.641251,
     "end_time": "2021-09-14T00:24:18.518289",
     "exception": false,
     "start_time": "2021-09-14T00:24:17.877038",
     "status": "completed"
    },
    "tags": []
   },
   "outputs": [],
   "source": [
    "#hide\n",
    "import pandas as pd\n",
    "import matplotlib.pyplot as plt\n",
    "import matplotlib.ticker as ticker\n",
    "import matplotlib.animation as animation\n",
    "from IPython.display import HTML"
   ]
  },
  {
   "cell_type": "code",
   "execution_count": 21,
   "id": "lasting-extraction",
   "metadata": {
    "execution": {
     "iopub.execute_input": "2021-09-14T00:24:18.584792Z",
     "iopub.status.busy": "2021-09-14T00:24:18.584270Z",
     "iopub.status.idle": "2021-09-14T00:24:18.589544Z",
     "shell.execute_reply": "2021-09-14T00:24:18.589947Z"
    },
    "papermill": {
     "duration": 0.04114,
     "end_time": "2021-09-14T00:24:18.590076",
     "exception": false,
     "start_time": "2021-09-14T00:24:18.548936",
     "status": "completed"
    },
    "tags": []
   },
   "outputs": [],
   "source": [
    "#hide\n",
    "t = everydaycases.stack()"
   ]
  },
  {
   "cell_type": "code",
   "execution_count": 22,
   "id": "premier-sleeve",
   "metadata": {
    "execution": {
     "iopub.execute_input": "2021-09-14T00:24:18.656065Z",
     "iopub.status.busy": "2021-09-14T00:24:18.655544Z",
     "iopub.status.idle": "2021-09-14T00:24:18.664074Z",
     "shell.execute_reply": "2021-09-14T00:24:18.664511Z"
    },
    "papermill": {
     "duration": 0.044087,
     "end_time": "2021-09-14T00:24:18.664648",
     "exception": false,
     "start_time": "2021-09-14T00:24:18.620561",
     "status": "completed"
    },
    "tags": []
   },
   "outputs": [],
   "source": [
    "#hide\n",
    "g = t.reset_index(['Country/Region'])"
   ]
  },
  {
   "cell_type": "code",
   "execution_count": 23,
   "id": "distributed-pittsburgh",
   "metadata": {
    "execution": {
     "iopub.execute_input": "2021-09-14T00:24:18.729805Z",
     "iopub.status.busy": "2021-09-14T00:24:18.729292Z",
     "iopub.status.idle": "2021-09-14T00:24:18.731481Z",
     "shell.execute_reply": "2021-09-14T00:24:18.731051Z"
    },
    "papermill": {
     "duration": 0.036528,
     "end_time": "2021-09-14T00:24:18.731594",
     "exception": false,
     "start_time": "2021-09-14T00:24:18.695066",
     "status": "completed"
    },
    "tags": []
   },
   "outputs": [],
   "source": [
    "#hide\n",
    "g.index.name = 'date'"
   ]
  },
  {
   "cell_type": "code",
   "execution_count": 24,
   "id": "naked-donor",
   "metadata": {
    "execution": {
     "iopub.execute_input": "2021-09-14T00:24:18.797225Z",
     "iopub.status.busy": "2021-09-14T00:24:18.796712Z",
     "iopub.status.idle": "2021-09-14T00:24:18.798496Z",
     "shell.execute_reply": "2021-09-14T00:24:18.798980Z"
    },
    "papermill": {
     "duration": 0.036562,
     "end_time": "2021-09-14T00:24:18.799109",
     "exception": false,
     "start_time": "2021-09-14T00:24:18.762547",
     "status": "completed"
    },
    "tags": []
   },
   "outputs": [],
   "source": [
    "# #hide\n",
    "# g = g.reset_index(['date'])"
   ]
  },
  {
   "cell_type": "code",
   "execution_count": 25,
   "id": "incomplete-mustang",
   "metadata": {
    "execution": {
     "iopub.execute_input": "2021-09-14T00:24:18.863854Z",
     "iopub.status.busy": "2021-09-14T00:24:18.863344Z",
     "iopub.status.idle": "2021-09-14T00:24:18.865488Z",
     "shell.execute_reply": "2021-09-14T00:24:18.865082Z"
    },
    "papermill": {
     "duration": 0.036118,
     "end_time": "2021-09-14T00:24:18.865598",
     "exception": false,
     "start_time": "2021-09-14T00:24:18.829480",
     "status": "completed"
    },
    "tags": []
   },
   "outputs": [],
   "source": [
    "#hide\n",
    "# g.head()"
   ]
  },
  {
   "cell_type": "code",
   "execution_count": 26,
   "id": "specific-kruger",
   "metadata": {
    "execution": {
     "iopub.execute_input": "2021-09-14T00:24:18.930069Z",
     "iopub.status.busy": "2021-09-14T00:24:18.929561Z",
     "iopub.status.idle": "2021-09-14T00:24:18.931812Z",
     "shell.execute_reply": "2021-09-14T00:24:18.931411Z"
    },
    "papermill": {
     "duration": 0.035766,
     "end_time": "2021-09-14T00:24:18.931922",
     "exception": false,
     "start_time": "2021-09-14T00:24:18.896156",
     "status": "completed"
    },
    "tags": []
   },
   "outputs": [],
   "source": [
    "#hide\n",
    "# g.columns = ['date','country','cases']"
   ]
  },
  {
   "cell_type": "code",
   "execution_count": 27,
   "id": "tender-conversion",
   "metadata": {
    "execution": {
     "iopub.execute_input": "2021-09-14T00:24:18.995410Z",
     "iopub.status.busy": "2021-09-14T00:24:18.994905Z",
     "iopub.status.idle": "2021-09-14T00:24:18.997855Z",
     "shell.execute_reply": "2021-09-14T00:24:18.997424Z"
    },
    "papermill": {
     "duration": 0.035893,
     "end_time": "2021-09-14T00:24:18.997966",
     "exception": false,
     "start_time": "2021-09-14T00:24:18.962073",
     "status": "completed"
    },
    "tags": []
   },
   "outputs": [],
   "source": [
    "#hide\n",
    "# g['continent'] = g.country"
   ]
  },
  {
   "cell_type": "code",
   "execution_count": 28,
   "id": "substantial-wilderness",
   "metadata": {
    "execution": {
     "iopub.execute_input": "2021-09-14T00:24:19.062712Z",
     "iopub.status.busy": "2021-09-14T00:24:19.062205Z",
     "iopub.status.idle": "2021-09-14T00:24:19.064024Z",
     "shell.execute_reply": "2021-09-14T00:24:19.064425Z"
    },
    "papermill": {
     "duration": 0.03615,
     "end_time": "2021-09-14T00:24:19.064560",
     "exception": false,
     "start_time": "2021-09-14T00:24:19.028410",
     "status": "completed"
    },
    "tags": []
   },
   "outputs": [],
   "source": [
    "#hide\n",
    "# cols = list(g.columns.values)"
   ]
  },
  {
   "cell_type": "code",
   "execution_count": 29,
   "id": "solved-farming",
   "metadata": {
    "execution": {
     "iopub.execute_input": "2021-09-14T00:24:19.128976Z",
     "iopub.status.busy": "2021-09-14T00:24:19.128460Z",
     "iopub.status.idle": "2021-09-14T00:24:19.130184Z",
     "shell.execute_reply": "2021-09-14T00:24:19.130565Z"
    },
    "papermill": {
     "duration": 0.035845,
     "end_time": "2021-09-14T00:24:19.130694",
     "exception": false,
     "start_time": "2021-09-14T00:24:19.094849",
     "status": "completed"
    },
    "tags": []
   },
   "outputs": [],
   "source": [
    "#hide\n",
    "# cols.insert(0, cols.pop())"
   ]
  },
  {
   "cell_type": "code",
   "execution_count": 30,
   "id": "executed-adoption",
   "metadata": {
    "execution": {
     "iopub.execute_input": "2021-09-14T00:24:19.195602Z",
     "iopub.status.busy": "2021-09-14T00:24:19.195090Z",
     "iopub.status.idle": "2021-09-14T00:24:19.196929Z",
     "shell.execute_reply": "2021-09-14T00:24:19.197333Z"
    },
    "papermill": {
     "duration": 0.036316,
     "end_time": "2021-09-14T00:24:19.197458",
     "exception": false,
     "start_time": "2021-09-14T00:24:19.161142",
     "status": "completed"
    },
    "tags": []
   },
   "outputs": [],
   "source": [
    "#hide\n",
    "# g = g[cols]"
   ]
  },
  {
   "cell_type": "code",
   "execution_count": 31,
   "id": "subject-dublin",
   "metadata": {
    "execution": {
     "iopub.execute_input": "2021-09-14T00:24:19.262282Z",
     "iopub.status.busy": "2021-09-14T00:24:19.261773Z",
     "iopub.status.idle": "2021-09-14T00:24:19.263879Z",
     "shell.execute_reply": "2021-09-14T00:24:19.263475Z"
    },
    "papermill": {
     "duration": 0.035999,
     "end_time": "2021-09-14T00:24:19.263992",
     "exception": false,
     "start_time": "2021-09-14T00:24:19.227993",
     "status": "completed"
    },
    "tags": []
   },
   "outputs": [],
   "source": [
    "#hide\n",
    "# g['continent'] = g['continent'].map(mapping['map.continent'])"
   ]
  },
  {
   "cell_type": "code",
   "execution_count": 32,
   "id": "freelance-scout",
   "metadata": {
    "execution": {
     "iopub.execute_input": "2021-09-14T00:24:19.328424Z",
     "iopub.status.busy": "2021-09-14T00:24:19.327880Z",
     "iopub.status.idle": "2021-09-14T00:24:19.330251Z",
     "shell.execute_reply": "2021-09-14T00:24:19.329847Z"
    },
    "papermill": {
     "duration": 0.035897,
     "end_time": "2021-09-14T00:24:19.330362",
     "exception": false,
     "start_time": "2021-09-14T00:24:19.294465",
     "status": "completed"
    },
    "tags": []
   },
   "outputs": [],
   "source": [
    "#hide\n",
    "# g.head()"
   ]
  },
  {
   "cell_type": "code",
   "execution_count": 33,
   "id": "limited-engine",
   "metadata": {
    "execution": {
     "iopub.execute_input": "2021-09-14T00:24:19.395247Z",
     "iopub.status.busy": "2021-09-14T00:24:19.394734Z",
     "iopub.status.idle": "2021-09-14T00:24:19.396579Z",
     "shell.execute_reply": "2021-09-14T00:24:19.397015Z"
    },
    "papermill": {
     "duration": 0.036317,
     "end_time": "2021-09-14T00:24:19.397145",
     "exception": false,
     "start_time": "2021-09-14T00:24:19.360828",
     "status": "completed"
    },
    "tags": []
   },
   "outputs": [],
   "source": [
    "# hide\n",
    "# g['date'] = g['date'].astype('datetime64[ns]')"
   ]
  },
  {
   "cell_type": "code",
   "execution_count": 34,
   "id": "sophisticated-supervisor",
   "metadata": {
    "execution": {
     "iopub.execute_input": "2021-09-14T00:24:19.461605Z",
     "iopub.status.busy": "2021-09-14T00:24:19.461104Z",
     "iopub.status.idle": "2021-09-14T00:24:19.463329Z",
     "shell.execute_reply": "2021-09-14T00:24:19.462924Z"
    },
    "papermill": {
     "duration": 0.035896,
     "end_time": "2021-09-14T00:24:19.463437",
     "exception": false,
     "start_time": "2021-09-14T00:24:19.427541",
     "status": "completed"
    },
    "tags": []
   },
   "outputs": [],
   "source": [
    "#hide\n",
    "# g['date'] = g.date.dt.dayofyear"
   ]
  },
  {
   "cell_type": "code",
   "execution_count": 35,
   "id": "inside-dubai",
   "metadata": {
    "execution": {
     "iopub.execute_input": "2021-09-14T00:24:19.527393Z",
     "iopub.status.busy": "2021-09-14T00:24:19.526883Z",
     "iopub.status.idle": "2021-09-14T00:24:19.529189Z",
     "shell.execute_reply": "2021-09-14T00:24:19.528786Z"
    },
    "papermill": {
     "duration": 0.035647,
     "end_time": "2021-09-14T00:24:19.529299",
     "exception": false,
     "start_time": "2021-09-14T00:24:19.493652",
     "status": "completed"
    },
    "tags": []
   },
   "outputs": [],
   "source": [
    "#hide\n",
    "# g = g.rename(columns= {'continent':'group','country':'name','cases':'value'})"
   ]
  },
  {
   "cell_type": "code",
   "execution_count": 36,
   "id": "fleet-motorcycle",
   "metadata": {
    "execution": {
     "iopub.execute_input": "2021-09-14T00:24:19.593810Z",
     "iopub.status.busy": "2021-09-14T00:24:19.593308Z",
     "iopub.status.idle": "2021-09-14T00:24:19.595592Z",
     "shell.execute_reply": "2021-09-14T00:24:19.595186Z"
    },
    "papermill": {
     "duration": 0.03596,
     "end_time": "2021-09-14T00:24:19.595703",
     "exception": false,
     "start_time": "2021-09-14T00:24:19.559743",
     "status": "completed"
    },
    "tags": []
   },
   "outputs": [],
   "source": [
    "#hide\n",
    "# cols = ['name','group','day','value']"
   ]
  },
  {
   "cell_type": "code",
   "execution_count": 37,
   "id": "continued-sleeping",
   "metadata": {
    "execution": {
     "iopub.execute_input": "2021-09-14T00:24:19.660280Z",
     "iopub.status.busy": "2021-09-14T00:24:19.659750Z",
     "iopub.status.idle": "2021-09-14T00:24:19.661525Z",
     "shell.execute_reply": "2021-09-14T00:24:19.661904Z"
    },
    "papermill": {
     "duration": 0.036021,
     "end_time": "2021-09-14T00:24:19.662031",
     "exception": false,
     "start_time": "2021-09-14T00:24:19.626010",
     "status": "completed"
    },
    "tags": []
   },
   "outputs": [],
   "source": [
    "#hide\n",
    "# g.rename(columns= {'date':'day'},inplace = True)"
   ]
  },
  {
   "cell_type": "code",
   "execution_count": 38,
   "id": "major-fight",
   "metadata": {
    "execution": {
     "iopub.execute_input": "2021-09-14T00:24:19.726483Z",
     "iopub.status.busy": "2021-09-14T00:24:19.725971Z",
     "iopub.status.idle": "2021-09-14T00:24:19.728116Z",
     "shell.execute_reply": "2021-09-14T00:24:19.728569Z"
    },
    "papermill": {
     "duration": 0.036339,
     "end_time": "2021-09-14T00:24:19.728693",
     "exception": false,
     "start_time": "2021-09-14T00:24:19.692354",
     "status": "completed"
    },
    "tags": []
   },
   "outputs": [],
   "source": [
    "#hide\n",
    "# g = g[cols]"
   ]
  },
  {
   "cell_type": "code",
   "execution_count": 39,
   "id": "structured-mobile",
   "metadata": {
    "execution": {
     "iopub.execute_input": "2021-09-14T00:24:19.793391Z",
     "iopub.status.busy": "2021-09-14T00:24:19.792874Z",
     "iopub.status.idle": "2021-09-14T00:24:19.794983Z",
     "shell.execute_reply": "2021-09-14T00:24:19.794557Z"
    },
    "papermill": {
     "duration": 0.03602,
     "end_time": "2021-09-14T00:24:19.795090",
     "exception": false,
     "start_time": "2021-09-14T00:24:19.759070",
     "status": "completed"
    },
    "tags": []
   },
   "outputs": [],
   "source": [
    "# #hide\n",
    "# g = g[g.group.notna()]"
   ]
  },
  {
   "cell_type": "code",
   "execution_count": 40,
   "id": "determined-closing",
   "metadata": {
    "execution": {
     "iopub.execute_input": "2021-09-14T00:24:19.860284Z",
     "iopub.status.busy": "2021-09-14T00:24:19.859168Z",
     "iopub.status.idle": "2021-09-14T00:24:19.862457Z",
     "shell.execute_reply": "2021-09-14T00:24:19.862051Z"
    },
    "papermill": {
     "duration": 0.036715,
     "end_time": "2021-09-14T00:24:19.862567",
     "exception": false,
     "start_time": "2021-09-14T00:24:19.825852",
     "status": "completed"
    },
    "tags": []
   },
   "outputs": [],
   "source": [
    "# #hide\n",
    "# colors = dict(zip(\n",
    "#     [\"Oceania\", \"Europe\", \"Asia\", \"South America\", \"Middle East\", \"North America\", \"Africa\"],\n",
    "#     [\"#adb0ff\", \"#ffb3ff\", \"#90d595\", \"#e48381\", \"#aafbff\", \"#f7bb5f\", \"#eafb50\"]\n",
    "# ))\n",
    "# group_lk = g.set_index('name')['group'].to_dict()"
   ]
  },
  {
   "cell_type": "code",
   "execution_count": null,
   "id": "gross-drinking",
   "metadata": {
    "papermill": {
     "duration": 0.030485,
     "end_time": "2021-09-14T00:24:19.923304",
     "exception": false,
     "start_time": "2021-09-14T00:24:19.892819",
     "status": "completed"
    },
    "tags": []
   },
   "outputs": [],
   "source": []
  },
  {
   "cell_type": "code",
   "execution_count": 41,
   "id": "subject-macintosh",
   "metadata": {
    "execution": {
     "iopub.execute_input": "2021-09-14T00:24:19.988738Z",
     "iopub.status.busy": "2021-09-14T00:24:19.988204Z",
     "iopub.status.idle": "2021-09-14T00:24:19.990447Z",
     "shell.execute_reply": "2021-09-14T00:24:19.990038Z"
    },
    "papermill": {
     "duration": 0.036742,
     "end_time": "2021-09-14T00:24:19.990558",
     "exception": false,
     "start_time": "2021-09-14T00:24:19.953816",
     "status": "completed"
    },
    "tags": []
   },
   "outputs": [],
   "source": [
    "# #hide\n",
    "# fig, ax = plt.subplots(figsize=(15, 8))\n",
    "\n",
    "# def draw_barchart(current_day):\n",
    "#     dff = g[g['day'].eq(current_day)].sort_values(by='value', ascending=True).tail(10)\n",
    "#     ax.clear()\n",
    "#     ax.barh(dff['name'], dff['value'], color=[colors[group_lk[x]] for x in dff['name']])\n",
    "#     dx = dff['value'].max() / 200\n",
    "    \n",
    "#     for i, (value, name) in enumerate(zip(dff['value'], dff['name'])):\n",
    "#         ax.text(value-dx, i,     name,           size=14, weight=600, ha='right', va='bottom')\n",
    "#         ax.text(value-dx, i-.25, group_lk[name], size=10, color='#444444', ha='right', va='baseline')\n",
    "#         ax.text(value+dx, i,     f'{value:,.0f}',  size=14, ha='left',  va='center')\n",
    "#     ax.text(1, 0.4, current_day, transform=ax.transAxes, color='#777777', size=46, ha='right', weight=800)\n",
    "#     ax.text(0, 1.06, 'Population (thousands)', transform=ax.transAxes, size=12, color='#777777')\n",
    "#     ax.xaxis.set_major_formatter(ticker.StrMethodFormatter('{x:,.0f}'))\n",
    "#     ax.xaxis.set_ticks_position('top')\n",
    "#     ax.tick_params(axis='x', colors='#777777', labelsize=12)\n",
    "#     ax.set_yticks([])\n",
    "#     ax.margins(0, 0.01)\n",
    "#     ax.grid(which='major', axis='x', linestyle='-')\n",
    "#     ax.set_axisbelow(True)\n",
    "    \n",
    "#     ax.text(0, 1.15, 'Coronavirus',\n",
    "#             transform=ax.transAxes, size=24, weight=600, ha='left', va='top')\n",
    "# #     ax.text(1, 0, 'by @pratapvardhan; credit @jburnmurdoch', transform=ax.transAxes, color='#777777', ha='right',\n",
    "# #             bbox=dict(facecolor='white', alpha=0.8, edgecolor='white'))\n",
    "#     plt.box(False)"
   ]
  },
  {
   "cell_type": "code",
   "execution_count": 42,
   "id": "sexual-wages",
   "metadata": {
    "execution": {
     "iopub.execute_input": "2021-09-14T00:24:20.055584Z",
     "iopub.status.busy": "2021-09-14T00:24:20.055065Z",
     "iopub.status.idle": "2021-09-14T00:24:20.056910Z",
     "shell.execute_reply": "2021-09-14T00:24:20.057292Z"
    },
    "papermill": {
     "duration": 0.036408,
     "end_time": "2021-09-14T00:24:20.057425",
     "exception": false,
     "start_time": "2021-09-14T00:24:20.021017",
     "status": "completed"
    },
    "tags": []
   },
   "outputs": [],
   "source": [
    "# #hide_input\n",
    "# fig, ax = plt.subplots(figsize=(15, 8))\n",
    "# animator = animation.FuncAnimation(fig, draw_barchart, frames=range(g.day.values.min(), g.day.values.max()))\n",
    "# HTML(animator.to_jshtml())\n",
    "# # or use animator.to_html5_video() or animator.save() "
   ]
  },
  {
   "cell_type": "code",
   "execution_count": null,
   "id": "australian-container",
   "metadata": {
    "papermill": {
     "duration": 0.03036,
     "end_time": "2021-09-14T00:24:20.118312",
     "exception": false,
     "start_time": "2021-09-14T00:24:20.087952",
     "status": "completed"
    },
    "tags": []
   },
   "outputs": [],
   "source": []
  },
  {
   "cell_type": "code",
   "execution_count": null,
   "id": "mediterranean-pontiac",
   "metadata": {
    "papermill": {
     "duration": 0.030316,
     "end_time": "2021-09-14T00:24:20.178913",
     "exception": false,
     "start_time": "2021-09-14T00:24:20.148597",
     "status": "completed"
    },
    "tags": []
   },
   "outputs": [],
   "source": []
  },
  {
   "cell_type": "code",
   "execution_count": null,
   "id": "aging-legislature",
   "metadata": {
    "papermill": {
     "duration": 0.030308,
     "end_time": "2021-09-14T00:24:20.239737",
     "exception": false,
     "start_time": "2021-09-14T00:24:20.209429",
     "status": "completed"
    },
    "tags": []
   },
   "outputs": [],
   "source": []
  }
 ],
 "metadata": {
  "kernelspec": {
   "display_name": "Python 3",
   "language": "python",
   "name": "python3"
  },
  "language_info": {
   "codemirror_mode": {
    "name": "ipython",
    "version": 3
   },
   "file_extension": ".py",
   "mimetype": "text/x-python",
   "name": "python",
   "nbconvert_exporter": "python",
   "pygments_lexer": "ipython3",
   "version": "3.6.14"
  },
  "papermill": {
   "duration": 6.163136,
   "end_time": "2021-09-14T00:24:20.678844",
   "environment_variables": {},
   "exception": null,
   "input_path": "2020-03-21-covid19exp.ipynb",
   "output_path": "2020-03-21-covid19exp.ipynb",
   "parameters": {},
   "start_time": "2021-09-14T00:24:14.515708",
   "version": "2.0.0"
  }
 },
 "nbformat": 4,
 "nbformat_minor": 5
}