{
 "cells": [
  {
   "cell_type": "markdown",
   "id": "muslim-click",
   "metadata": {
    "papermill": {
     "duration": 0.044857,
     "end_time": "2022-05-03T12:17:46.824549",
     "exception": false,
     "start_time": "2022-05-03T12:17:46.779692",
     "status": "completed"
    },
    "tags": []
   },
   "source": [
    "# COVID-19 Case Race\n",
    "> A race chart to see rising cases around the world\n",
    "\n",
    "- author: Hargun Oberoi\n",
    "- image: images/covid-overview.png\n",
    "- hide: false\n",
    "- badges: false"
   ]
  },
  {
   "cell_type": "code",
   "execution_count": 1,
   "id": "proof-material",
   "metadata": {
    "execution": {
     "iopub.execute_input": "2022-05-03T12:17:46.914272Z",
     "iopub.status.busy": "2022-05-03T12:17:46.913540Z",
     "iopub.status.idle": "2022-05-03T12:17:47.313102Z",
     "shell.execute_reply": "2022-05-03T12:17:47.312373Z"
    },
    "papermill": {
     "duration": 0.450434,
     "end_time": "2022-05-03T12:17:47.313256",
     "exception": false,
     "start_time": "2022-05-03T12:17:46.862822",
     "status": "completed"
    },
    "tags": []
   },
   "outputs": [],
   "source": [
    "#hide\n",
    "import numpy as np\n",
    "import pandas as pd\n",
    "from jinja2 import Template\n",
    "from IPython.display import HTML"
   ]
  },
  {
   "cell_type": "code",
   "execution_count": 2,
   "id": "developed-terminology",
   "metadata": {
    "execution": {
     "iopub.execute_input": "2022-05-03T12:17:47.395036Z",
     "iopub.status.busy": "2022-05-03T12:17:47.394222Z",
     "iopub.status.idle": "2022-05-03T12:17:47.396677Z",
     "shell.execute_reply": "2022-05-03T12:17:47.396070Z"
    },
    "papermill": {
     "duration": 0.045628,
     "end_time": "2022-05-03T12:17:47.396809",
     "exception": false,
     "start_time": "2022-05-03T12:17:47.351181",
     "status": "completed"
    },
    "tags": []
   },
   "outputs": [],
   "source": [
    "#hide\n",
    "\n",
    "# FETCH\n",
    "base_url = 'https://raw.githubusercontent.com/pratapvardhan/notebooks/master/covid19/'\n",
    "paths = {\n",
    "    'mapping': base_url + 'mapping_countries.csv',\n",
    "    'overview': base_url + 'overview.tpl'\n",
    "}"
   ]
  },
  {
   "cell_type": "code",
   "execution_count": 3,
   "id": "dynamic-saver",
   "metadata": {
    "execution": {
     "iopub.execute_input": "2022-05-03T12:17:47.487561Z",
     "iopub.status.busy": "2022-05-03T12:17:47.486921Z",
     "iopub.status.idle": "2022-05-03T12:17:47.493651Z",
     "shell.execute_reply": "2022-05-03T12:17:47.493137Z"
    },
    "papermill": {
     "duration": 0.05564,
     "end_time": "2022-05-03T12:17:47.493773",
     "exception": false,
     "start_time": "2022-05-03T12:17:47.438133",
     "status": "completed"
    },
    "tags": []
   },
   "outputs": [
    {
     "data": {
      "text/plain": [
       "'https://raw.githubusercontent.com/pratapvardhan/notebooks/master/covid19/mapping_countries.csv'"
      ]
     },
     "execution_count": 3,
     "metadata": {},
     "output_type": "execute_result"
    }
   ],
   "source": [
    "#hide\n",
    "paths['mapping']"
   ]
  },
  {
   "cell_type": "code",
   "execution_count": 4,
   "id": "urban-software",
   "metadata": {
    "execution": {
     "iopub.execute_input": "2022-05-03T12:17:47.582470Z",
     "iopub.status.busy": "2022-05-03T12:17:47.581819Z",
     "iopub.status.idle": "2022-05-03T12:17:47.584079Z",
     "shell.execute_reply": "2022-05-03T12:17:47.584736Z"
    },
    "papermill": {
     "duration": 0.050301,
     "end_time": "2022-05-03T12:17:47.584879",
     "exception": false,
     "start_time": "2022-05-03T12:17:47.534578",
     "status": "completed"
    },
    "tags": []
   },
   "outputs": [],
   "source": [
    "#hide\n",
    "def get_mappings(url):\n",
    "    df = pd.read_csv(url)\n",
    "    return {\n",
    "        'df': df,\n",
    "        'replace.country': dict(df.dropna(subset=['Name']).set_index('Country')['Name']),\n",
    "        'map.continent': dict(df.set_index('Name')['Continent'])\n",
    "    }"
   ]
  },
  {
   "cell_type": "code",
   "execution_count": 5,
   "id": "intimate-machinery",
   "metadata": {
    "execution": {
     "iopub.execute_input": "2022-05-03T12:17:47.667162Z",
     "iopub.status.busy": "2022-05-03T12:17:47.665944Z",
     "iopub.status.idle": "2022-05-03T12:17:47.728187Z",
     "shell.execute_reply": "2022-05-03T12:17:47.727613Z"
    },
    "papermill": {
     "duration": 0.105558,
     "end_time": "2022-05-03T12:17:47.728328",
     "exception": false,
     "start_time": "2022-05-03T12:17:47.622770",
     "status": "completed"
    },
    "tags": []
   },
   "outputs": [],
   "source": [
    "#hide\n",
    "mapping = get_mappings(paths['mapping'])"
   ]
  },
  {
   "cell_type": "code",
   "execution_count": 6,
   "id": "certified-tactics",
   "metadata": {
    "execution": {
     "iopub.execute_input": "2022-05-03T12:17:47.821104Z",
     "iopub.status.busy": "2022-05-03T12:17:47.820464Z",
     "iopub.status.idle": "2022-05-03T12:17:47.822747Z",
     "shell.execute_reply": "2022-05-03T12:17:47.823218Z"
    },
    "papermill": {
     "duration": 0.055654,
     "end_time": "2022-05-03T12:17:47.823423",
     "exception": false,
     "start_time": "2022-05-03T12:17:47.767769",
     "status": "completed"
    },
    "tags": []
   },
   "outputs": [],
   "source": [
    "#hide\n",
    "def get_template(path):\n",
    "    from urllib.parse import urlparse\n",
    "    if bool(urlparse(path).netloc):\n",
    "        from urllib.request import urlopen\n",
    "        return urlopen(path).read().decode('utf8')\n",
    "    return open(path).read()"
   ]
  },
  {
   "cell_type": "code",
   "execution_count": 7,
   "id": "realistic-blast",
   "metadata": {
    "execution": {
     "iopub.execute_input": "2022-05-03T12:17:47.903752Z",
     "iopub.status.busy": "2022-05-03T12:17:47.903049Z",
     "iopub.status.idle": "2022-05-03T12:17:47.905366Z",
     "shell.execute_reply": "2022-05-03T12:17:47.905950Z"
    },
    "papermill": {
     "duration": 0.045622,
     "end_time": "2022-05-03T12:17:47.906118",
     "exception": false,
     "start_time": "2022-05-03T12:17:47.860496",
     "status": "completed"
    },
    "tags": []
   },
   "outputs": [],
   "source": [
    "#hide\n",
    "def get_frame(name):\n",
    "    url = (\n",
    "        'https://raw.githubusercontent.com/CSSEGISandData/COVID-19/master/csse_covid_19_data/'\n",
    "        f'csse_covid_19_time_series/time_series_covid19_{name}_global.csv')\n",
    "    df = pd.read_csv(url)\n",
    "    # rename countries\n",
    "    df['Country/Region'] = df['Country/Region'].replace(mapping['replace.country'])\n",
    "    return df"
   ]
  },
  {
   "cell_type": "code",
   "execution_count": 8,
   "id": "affiliated-characterization",
   "metadata": {
    "execution": {
     "iopub.execute_input": "2022-05-03T12:17:47.988492Z",
     "iopub.status.busy": "2022-05-03T12:17:47.987851Z",
     "iopub.status.idle": "2022-05-03T12:17:47.989906Z",
     "shell.execute_reply": "2022-05-03T12:17:47.990697Z"
    },
    "papermill": {
     "duration": 0.04681,
     "end_time": "2022-05-03T12:17:47.990889",
     "exception": false,
     "start_time": "2022-05-03T12:17:47.944079",
     "status": "completed"
    },
    "tags": []
   },
   "outputs": [],
   "source": [
    "#hide\n",
    "def get_dates(df):\n",
    "    dt_cols = df.columns[~df.columns.isin(['Province/State', 'Country/Region', 'Lat', 'Long'])]\n",
    "    LAST_DATE_I = -1\n",
    "    # sometimes last column may be empty, then go backwards\n",
    "    for i in range(-1, -len(dt_cols), -1):\n",
    "        if not df[dt_cols[i]].fillna(0).eq(0).all():\n",
    "            LAST_DATE_I = i\n",
    "            break\n",
    "    return LAST_DATE_I, dt_cols"
   ]
  },
  {
   "cell_type": "code",
   "execution_count": 9,
   "id": "recent-optimization",
   "metadata": {
    "execution": {
     "iopub.execute_input": "2022-05-03T12:17:48.081301Z",
     "iopub.status.busy": "2022-05-03T12:17:48.080440Z",
     "iopub.status.idle": "2022-05-03T12:17:48.591798Z",
     "shell.execute_reply": "2022-05-03T12:17:48.591097Z"
    },
    "papermill": {
     "duration": 0.558977,
     "end_time": "2022-05-03T12:17:48.591935",
     "exception": false,
     "start_time": "2022-05-03T12:17:48.032958",
     "status": "completed"
    },
    "tags": []
   },
   "outputs": [],
   "source": [
    "#hide\n",
    "COL_REGION = 'Country/Region'\n",
    "# Confirmed, Recovered, Deaths\n",
    "df = get_frame('confirmed')\n",
    "# dft_: timeseries, dfc_: today country agg\n",
    "dft_cases = df\n",
    "dft_deaths = get_frame('deaths')\n",
    "dft_recovered = get_frame('recovered')\n",
    "LAST_DATE_I, dt_cols = get_dates(df)"
   ]
  },
  {
   "cell_type": "code",
   "execution_count": 10,
   "id": "absolute-copper",
   "metadata": {
    "execution": {
     "iopub.execute_input": "2022-05-03T12:17:48.674712Z",
     "iopub.status.busy": "2022-05-03T12:17:48.673965Z",
     "iopub.status.idle": "2022-05-03T12:17:48.677477Z",
     "shell.execute_reply": "2022-05-03T12:17:48.678294Z"
    },
    "papermill": {
     "duration": 0.046594,
     "end_time": "2022-05-03T12:17:48.678470",
     "exception": false,
     "start_time": "2022-05-03T12:17:48.631876",
     "status": "completed"
    },
    "tags": []
   },
   "outputs": [],
   "source": [
    "#hide\n",
    "LAST_DATE_I, dt_cols = get_dates(df)\n",
    "dt_today =dt_cols[LAST_DATE_I]\n",
    "# dt_5day = dt_cols[LAST_DATE_I - 5]\n",
    "dt_yday = dt_cols[LAST_DATE_I - 1]"
   ]
  },
  {
   "cell_type": "code",
   "execution_count": 11,
   "id": "restricted-sheriff",
   "metadata": {
    "execution": {
     "iopub.execute_input": "2022-05-03T12:17:48.763409Z",
     "iopub.status.busy": "2022-05-03T12:17:48.762667Z",
     "iopub.status.idle": "2022-05-03T12:17:48.772456Z",
     "shell.execute_reply": "2022-05-03T12:17:48.771914Z"
    },
    "papermill": {
     "duration": 0.053243,
     "end_time": "2022-05-03T12:17:48.772575",
     "exception": false,
     "start_time": "2022-05-03T12:17:48.719332",
     "status": "completed"
    },
    "tags": []
   },
   "outputs": [],
   "source": [
    "#hide\n",
    "dfc_cases = dft_cases.groupby(COL_REGION)[dt_today].sum()\n",
    "dfc_deaths = dft_deaths.groupby(COL_REGION)[dt_today].sum()\n",
    "# dfp_cases = dft_cases.groupby(COL_REGION)[dt_5day].sum()\n",
    "# dfp_deaths = dft_deaths.groupby(COL_REGION)[dt_5day].sum()\n",
    "dfp_cases = dft_cases.groupby(COL_REGION)[dt_yday].sum()\n",
    "dfp_deaths = dft_deaths.groupby(COL_REGION)[dt_yday].sum()"
   ]
  },
  {
   "cell_type": "code",
   "execution_count": 12,
   "id": "deluxe-hepatitis",
   "metadata": {
    "execution": {
     "iopub.execute_input": "2022-05-03T12:17:48.857710Z",
     "iopub.status.busy": "2022-05-03T12:17:48.856966Z",
     "iopub.status.idle": "2022-05-03T12:17:48.862991Z",
     "shell.execute_reply": "2022-05-03T12:17:48.863683Z"
    },
    "papermill": {
     "duration": 0.051435,
     "end_time": "2022-05-03T12:17:48.863815",
     "exception": false,
     "start_time": "2022-05-03T12:17:48.812380",
     "status": "completed"
    },
    "tags": []
   },
   "outputs": [],
   "source": [
    "#hide\n",
    "df_table = (pd.DataFrame(dict(Cases = dfc_cases, Deaths = dfc_deaths, PCases = dfp_cases, PDeaths = dfp_deaths))\n",
    "            .sort_values(by = ['Cases','Deaths'], ascending = [False, False])\n",
    "            .reset_index())"
   ]
  },
  {
   "cell_type": "code",
   "execution_count": 13,
   "id": "educational-chancellor",
   "metadata": {
    "execution": {
     "iopub.execute_input": "2022-05-03T12:17:48.972570Z",
     "iopub.status.busy": "2022-05-03T12:17:48.971879Z",
     "iopub.status.idle": "2022-05-03T12:17:48.975063Z",
     "shell.execute_reply": "2022-05-03T12:17:48.975782Z"
    },
    "papermill": {
     "duration": 0.071555,
     "end_time": "2022-05-03T12:17:48.975920",
     "exception": false,
     "start_time": "2022-05-03T12:17:48.904365",
     "status": "completed"
    },
    "tags": []
   },
   "outputs": [
    {
     "data": {
      "text/html": [
       "<div>\n",
       "<style scoped>\n",
       "    .dataframe tbody tr th:only-of-type {\n",
       "        vertical-align: middle;\n",
       "    }\n",
       "\n",
       "    .dataframe tbody tr th {\n",
       "        vertical-align: top;\n",
       "    }\n",
       "\n",
       "    .dataframe thead th {\n",
       "        text-align: right;\n",
       "    }\n",
       "</style>\n",
       "<table border=\"1\" class=\"dataframe\">\n",
       "  <thead>\n",
       "    <tr style=\"text-align: right;\">\n",
       "      <th></th>\n",
       "      <th>Country/Region</th>\n",
       "      <th>Cases</th>\n",
       "      <th>Deaths</th>\n",
       "      <th>PCases</th>\n",
       "      <th>PDeaths</th>\n",
       "      <th>Cases (+)</th>\n",
       "      <th>Deaths (+)</th>\n",
       "      <th>Fatality Rate</th>\n",
       "      <th>Continent</th>\n",
       "    </tr>\n",
       "  </thead>\n",
       "  <tbody>\n",
       "    <tr>\n",
       "      <th>0</th>\n",
       "      <td>US</td>\n",
       "      <td>81444332</td>\n",
       "      <td>993999</td>\n",
       "      <td>81362688</td>\n",
       "      <td>993733</td>\n",
       "      <td>81644</td>\n",
       "      <td>266</td>\n",
       "      <td>1.22</td>\n",
       "      <td>North America</td>\n",
       "    </tr>\n",
       "    <tr>\n",
       "      <th>1</th>\n",
       "      <td>India</td>\n",
       "      <td>43084913</td>\n",
       "      <td>523889</td>\n",
       "      <td>43082345</td>\n",
       "      <td>523869</td>\n",
       "      <td>2568</td>\n",
       "      <td>20</td>\n",
       "      <td>1.22</td>\n",
       "      <td>Asia</td>\n",
       "    </tr>\n",
       "    <tr>\n",
       "      <th>2</th>\n",
       "      <td>Brazil</td>\n",
       "      <td>30460997</td>\n",
       "      <td>663838</td>\n",
       "      <td>30454499</td>\n",
       "      <td>663752</td>\n",
       "      <td>6498</td>\n",
       "      <td>86</td>\n",
       "      <td>2.18</td>\n",
       "      <td>South America</td>\n",
       "    </tr>\n",
       "    <tr>\n",
       "      <th>3</th>\n",
       "      <td>France</td>\n",
       "      <td>28881384</td>\n",
       "      <td>147179</td>\n",
       "      <td>28872621</td>\n",
       "      <td>146999</td>\n",
       "      <td>8763</td>\n",
       "      <td>180</td>\n",
       "      <td>0.51</td>\n",
       "      <td>Europe</td>\n",
       "    </tr>\n",
       "    <tr>\n",
       "      <th>4</th>\n",
       "      <td>Germany</td>\n",
       "      <td>24927339</td>\n",
       "      <td>135701</td>\n",
       "      <td>24813817</td>\n",
       "      <td>135461</td>\n",
       "      <td>113522</td>\n",
       "      <td>240</td>\n",
       "      <td>0.54</td>\n",
       "      <td>Europe</td>\n",
       "    </tr>\n",
       "  </tbody>\n",
       "</table>\n",
       "</div>"
      ],
      "text/plain": [
       "  Country/Region     Cases  Deaths    PCases  PDeaths  Cases (+)  Deaths (+)  \\\n",
       "0             US  81444332  993999  81362688   993733      81644         266   \n",
       "1          India  43084913  523889  43082345   523869       2568          20   \n",
       "2         Brazil  30460997  663838  30454499   663752       6498          86   \n",
       "3         France  28881384  147179  28872621   146999       8763         180   \n",
       "4        Germany  24927339  135701  24813817   135461     113522         240   \n",
       "\n",
       "   Fatality Rate      Continent  \n",
       "0           1.22  North America  \n",
       "1           1.22           Asia  \n",
       "2           2.18  South America  \n",
       "3           0.51         Europe  \n",
       "4           0.54         Europe  "
      ]
     },
     "execution_count": 13,
     "metadata": {},
     "output_type": "execute_result"
    }
   ],
   "source": [
    "#hide\n",
    "for c in 'Cases, Deaths'.split(', '):\n",
    "    df_table[f'{c} (+)'] = (df_table[c] - df_table[f'P{c}']).clip(0)\n",
    "    #Clip ça veut dire, les chiffres negatif sont interdit\n",
    "df_table['Fatality Rate'] = (100* df_table['Deaths']/ df_table['Cases']).round(2)\n",
    "df_table['Continent'] = df_table['Country/Region'].map(mapping['map.continent'])\n",
    "df_table.head(5)"
   ]
  },
  {
   "cell_type": "code",
   "execution_count": 14,
   "id": "aboriginal-bulgaria",
   "metadata": {
    "execution": {
     "iopub.execute_input": "2022-05-03T12:17:49.066212Z",
     "iopub.status.busy": "2022-05-03T12:17:49.065516Z",
     "iopub.status.idle": "2022-05-03T12:17:49.068135Z",
     "shell.execute_reply": "2022-05-03T12:17:49.068780Z"
    },
    "papermill": {
     "duration": 0.053756,
     "end_time": "2022-05-03T12:17:49.068932",
     "exception": false,
     "start_time": "2022-05-03T12:17:49.015176",
     "status": "completed"
    },
    "tags": []
   },
   "outputs": [],
   "source": [
    "#hide\n",
    "#delete problematic countries from table\n",
    "df_table = df_table[~df_table['Country/Region'].isin(['Cape Verde', 'Cruise Ship', 'Kosovo'])]"
   ]
  },
  {
   "cell_type": "code",
   "execution_count": 15,
   "id": "fantastic-effect",
   "metadata": {
    "execution": {
     "iopub.execute_input": "2022-05-03T12:17:49.165271Z",
     "iopub.status.busy": "2022-05-03T12:17:49.164591Z",
     "iopub.status.idle": "2022-05-03T12:17:49.188157Z",
     "shell.execute_reply": "2022-05-03T12:17:49.187660Z"
    },
    "papermill": {
     "duration": 0.075948,
     "end_time": "2022-05-03T12:17:49.188309",
     "exception": false,
     "start_time": "2022-05-03T12:17:49.112361",
     "status": "completed"
    },
    "tags": []
   },
   "outputs": [
    {
     "data": {
      "text/html": [
       "<div>\n",
       "<style scoped>\n",
       "    .dataframe tbody tr th:only-of-type {\n",
       "        vertical-align: middle;\n",
       "    }\n",
       "\n",
       "    .dataframe tbody tr th {\n",
       "        vertical-align: top;\n",
       "    }\n",
       "\n",
       "    .dataframe thead th {\n",
       "        text-align: right;\n",
       "    }\n",
       "</style>\n",
       "<table border=\"1\" class=\"dataframe\">\n",
       "  <thead>\n",
       "    <tr style=\"text-align: right;\">\n",
       "      <th></th>\n",
       "      <th>Country/Region</th>\n",
       "      <th>Cases</th>\n",
       "      <th>Deaths</th>\n",
       "      <th>PCases</th>\n",
       "      <th>PDeaths</th>\n",
       "      <th>Cases (+)</th>\n",
       "      <th>Deaths (+)</th>\n",
       "      <th>Fatality Rate</th>\n",
       "      <th>Continent</th>\n",
       "    </tr>\n",
       "  </thead>\n",
       "  <tbody>\n",
       "    <tr>\n",
       "      <th>0</th>\n",
       "      <td>US</td>\n",
       "      <td>81444332</td>\n",
       "      <td>993999</td>\n",
       "      <td>81362688</td>\n",
       "      <td>993733</td>\n",
       "      <td>81644</td>\n",
       "      <td>266</td>\n",
       "      <td>1.2</td>\n",
       "      <td>North America</td>\n",
       "    </tr>\n",
       "    <tr>\n",
       "      <th>1</th>\n",
       "      <td>India</td>\n",
       "      <td>43084913</td>\n",
       "      <td>523889</td>\n",
       "      <td>43082345</td>\n",
       "      <td>523869</td>\n",
       "      <td>2568</td>\n",
       "      <td>20</td>\n",
       "      <td>1.2</td>\n",
       "      <td>Asia</td>\n",
       "    </tr>\n",
       "    <tr>\n",
       "      <th>2</th>\n",
       "      <td>Brazil</td>\n",
       "      <td>30460997</td>\n",
       "      <td>663838</td>\n",
       "      <td>30454499</td>\n",
       "      <td>663752</td>\n",
       "      <td>6498</td>\n",
       "      <td>86</td>\n",
       "      <td>2.2</td>\n",
       "      <td>South America</td>\n",
       "    </tr>\n",
       "    <tr>\n",
       "      <th>3</th>\n",
       "      <td>France</td>\n",
       "      <td>28881384</td>\n",
       "      <td>147179</td>\n",
       "      <td>28872621</td>\n",
       "      <td>146999</td>\n",
       "      <td>8763</td>\n",
       "      <td>180</td>\n",
       "      <td>0.5</td>\n",
       "      <td>Europe</td>\n",
       "    </tr>\n",
       "    <tr>\n",
       "      <th>4</th>\n",
       "      <td>Germany</td>\n",
       "      <td>24927339</td>\n",
       "      <td>135701</td>\n",
       "      <td>24813817</td>\n",
       "      <td>135461</td>\n",
       "      <td>113522</td>\n",
       "      <td>240</td>\n",
       "      <td>0.5</td>\n",
       "      <td>Europe</td>\n",
       "    </tr>\n",
       "  </tbody>\n",
       "</table>\n",
       "</div>"
      ],
      "text/plain": [
       "  Country/Region     Cases  Deaths    PCases  PDeaths  Cases (+)  Deaths (+)  \\\n",
       "0             US  81444332  993999  81362688   993733      81644         266   \n",
       "1          India  43084913  523889  43082345   523869       2568          20   \n",
       "2         Brazil  30460997  663838  30454499   663752       6498          86   \n",
       "3         France  28881384  147179  28872621   146999       8763         180   \n",
       "4        Germany  24927339  135701  24813817   135461     113522         240   \n",
       "\n",
       "   Fatality Rate      Continent  \n",
       "0            1.2  North America  \n",
       "1            1.2           Asia  \n",
       "2            2.2  South America  \n",
       "3            0.5         Europe  \n",
       "4            0.5         Europe  "
      ]
     },
     "execution_count": 15,
     "metadata": {},
     "output_type": "execute_result"
    }
   ],
   "source": [
    "#hide\n",
    "df_table = (pd.DataFrame(dict(Cases=dfc_cases, Deaths=dfc_deaths, PCases=dfp_cases, PDeaths=dfp_deaths))\n",
    "             .sort_values(by=['Cases', 'Deaths'], ascending=[False, False])\n",
    "             .reset_index())\n",
    "df_table.rename(columns={'index': 'Country/Region'}, inplace=True)\n",
    "for c in 'Cases, Deaths'.split(', '):\n",
    "    df_table[f'{c} (+)'] = (df_table[c] - df_table[f'P{c}']).clip(0)  # DATA BUG\n",
    "df_table['Fatality Rate'] = (100 * df_table['Deaths'] / df_table['Cases']).round(1)\n",
    "df_table['Continent'] = df_table['Country/Region'].map(mapping['map.continent'])\n",
    "df_table.head(5)"
   ]
  },
  {
   "cell_type": "code",
   "execution_count": 16,
   "id": "fewer-occasion",
   "metadata": {
    "execution": {
     "iopub.execute_input": "2022-05-03T12:17:49.279091Z",
     "iopub.status.busy": "2022-05-03T12:17:49.278455Z",
     "iopub.status.idle": "2022-05-03T12:17:49.280880Z",
     "shell.execute_reply": "2022-05-03T12:17:49.280281Z"
    },
    "papermill": {
     "duration": 0.049888,
     "end_time": "2022-05-03T12:17:49.280999",
     "exception": false,
     "start_time": "2022-05-03T12:17:49.231111",
     "status": "completed"
    },
    "tags": []
   },
   "outputs": [],
   "source": [
    "#hide\n",
    "#delete problematic countries from table\n",
    "df_table = df_table[~df_table['Country/Region'].isin(['Cape Verde', 'Cruise Ship', 'Kosovo'])]"
   ]
  },
  {
   "cell_type": "code",
   "execution_count": 17,
   "id": "related-center",
   "metadata": {
    "execution": {
     "iopub.execute_input": "2022-05-03T12:17:49.382460Z",
     "iopub.status.busy": "2022-05-03T12:17:49.381788Z",
     "iopub.status.idle": "2022-05-03T12:17:49.395273Z",
     "shell.execute_reply": "2022-05-03T12:17:49.394607Z"
    },
    "papermill": {
     "duration": 0.072876,
     "end_time": "2022-05-03T12:17:49.395413",
     "exception": false,
     "start_time": "2022-05-03T12:17:49.322537",
     "status": "completed"
    },
    "tags": []
   },
   "outputs": [],
   "source": [
    "#hide\n",
    "metrics = [df_table.columns[index] for index in [1,2,5,6]]\n",
    "# s_china = df_table[df_table['Country/Region'].eq('China')][metrics].sum().add_prefix('China ')\n",
    "s_us = df_table[df_table['Country/Region'].eq('US')][metrics].sum().add_prefix('US ')\n",
    "s_eu = df_table[df_table['Continent'].eq('Europe')][metrics].sum().add_prefix('EU ')\n",
    "s_ind = df_table[df_table['Country/Region'].eq('India')][metrics].sum().add_prefix('India ')\n",
    "summary = {'updated': pd.to_datetime(dt_today), 'since': pd.to_datetime(dt_yday)}\n",
    "summary = {'updated': pd.to_datetime(dt_today), 'since': pd.to_datetime(dt_yday)}\n",
    "summary = {**summary, **df_table[metrics].sum(), **s_ind, **s_us, **s_eu}"
   ]
  },
  {
   "cell_type": "code",
   "execution_count": 18,
   "id": "engaging-syndrome",
   "metadata": {
    "execution": {
     "iopub.execute_input": "2022-05-03T12:17:49.486390Z",
     "iopub.status.busy": "2022-05-03T12:17:49.484855Z",
     "iopub.status.idle": "2022-05-03T12:17:49.505796Z",
     "shell.execute_reply": "2022-05-03T12:17:49.506689Z"
    },
    "papermill": {
     "duration": 0.069713,
     "end_time": "2022-05-03T12:17:49.506854",
     "exception": false,
     "start_time": "2022-05-03T12:17:49.437141",
     "status": "completed"
    },
    "tags": []
   },
   "outputs": [],
   "source": [
    "#hide\n",
    "dft_ct_new_cases = dft_cases.groupby(COL_REGION)[dt_cols].sum().diff(axis=1).fillna(0).astype(int)"
   ]
  },
  {
   "cell_type": "code",
   "execution_count": 19,
   "id": "neutral-assignment",
   "metadata": {
    "execution": {
     "iopub.execute_input": "2022-05-03T12:17:49.596569Z",
     "iopub.status.busy": "2022-05-03T12:17:49.595889Z",
     "iopub.status.idle": "2022-05-03T12:17:49.598700Z",
     "shell.execute_reply": "2022-05-03T12:17:49.599375Z"
    },
    "papermill": {
     "duration": 0.05372,
     "end_time": "2022-05-03T12:17:49.599527",
     "exception": false,
     "start_time": "2022-05-03T12:17:49.545807",
     "status": "completed"
    },
    "tags": []
   },
   "outputs": [],
   "source": [
    "#hide\n",
    "everydaycases = dft_ct_new_cases.cumsum(axis=1)"
   ]
  },
  {
   "cell_type": "code",
   "execution_count": 20,
   "id": "parliamentary-calgary",
   "metadata": {
    "execution": {
     "iopub.execute_input": "2022-05-03T12:17:49.686422Z",
     "iopub.status.busy": "2022-05-03T12:17:49.685785Z",
     "iopub.status.idle": "2022-05-03T12:17:50.395463Z",
     "shell.execute_reply": "2022-05-03T12:17:50.394707Z"
    },
    "papermill": {
     "duration": 0.757032,
     "end_time": "2022-05-03T12:17:50.395655",
     "exception": false,
     "start_time": "2022-05-03T12:17:49.638623",
     "status": "completed"
    },
    "tags": []
   },
   "outputs": [],
   "source": [
    "#hide\n",
    "import pandas as pd\n",
    "import matplotlib.pyplot as plt\n",
    "import matplotlib.ticker as ticker\n",
    "import matplotlib.animation as animation\n",
    "from IPython.display import HTML"
   ]
  },
  {
   "cell_type": "code",
   "execution_count": 21,
   "id": "lasting-extraction",
   "metadata": {
    "execution": {
     "iopub.execute_input": "2022-05-03T12:17:50.483362Z",
     "iopub.status.busy": "2022-05-03T12:17:50.482756Z",
     "iopub.status.idle": "2022-05-03T12:17:50.489872Z",
     "shell.execute_reply": "2022-05-03T12:17:50.489342Z"
    },
    "papermill": {
     "duration": 0.053395,
     "end_time": "2022-05-03T12:17:50.490065",
     "exception": false,
     "start_time": "2022-05-03T12:17:50.436670",
     "status": "completed"
    },
    "tags": []
   },
   "outputs": [],
   "source": [
    "#hide\n",
    "t = everydaycases.stack()"
   ]
  },
  {
   "cell_type": "code",
   "execution_count": 22,
   "id": "premier-sleeve",
   "metadata": {
    "execution": {
     "iopub.execute_input": "2022-05-03T12:17:50.572837Z",
     "iopub.status.busy": "2022-05-03T12:17:50.572063Z",
     "iopub.status.idle": "2022-05-03T12:17:50.584880Z",
     "shell.execute_reply": "2022-05-03T12:17:50.584262Z"
    },
    "papermill": {
     "duration": 0.057272,
     "end_time": "2022-05-03T12:17:50.585011",
     "exception": false,
     "start_time": "2022-05-03T12:17:50.527739",
     "status": "completed"
    },
    "tags": []
   },
   "outputs": [],
   "source": [
    "#hide\n",
    "g = t.reset_index(['Country/Region'])"
   ]
  },
  {
   "cell_type": "code",
   "execution_count": 23,
   "id": "distributed-pittsburgh",
   "metadata": {
    "execution": {
     "iopub.execute_input": "2022-05-03T12:17:50.667740Z",
     "iopub.status.busy": "2022-05-03T12:17:50.667142Z",
     "iopub.status.idle": "2022-05-03T12:17:50.669872Z",
     "shell.execute_reply": "2022-05-03T12:17:50.669378Z"
    },
    "papermill": {
     "duration": 0.046606,
     "end_time": "2022-05-03T12:17:50.669996",
     "exception": false,
     "start_time": "2022-05-03T12:17:50.623390",
     "status": "completed"
    },
    "tags": []
   },
   "outputs": [],
   "source": [
    "#hide\n",
    "g.index.name = 'date'"
   ]
  },
  {
   "cell_type": "code",
   "execution_count": 24,
   "id": "naked-donor",
   "metadata": {
    "execution": {
     "iopub.execute_input": "2022-05-03T12:17:50.755123Z",
     "iopub.status.busy": "2022-05-03T12:17:50.754495Z",
     "iopub.status.idle": "2022-05-03T12:17:50.756982Z",
     "shell.execute_reply": "2022-05-03T12:17:50.756360Z"
    },
    "papermill": {
     "duration": 0.047126,
     "end_time": "2022-05-03T12:17:50.757119",
     "exception": false,
     "start_time": "2022-05-03T12:17:50.709993",
     "status": "completed"
    },
    "tags": []
   },
   "outputs": [],
   "source": [
    "# #hide\n",
    "# g = g.reset_index(['date'])"
   ]
  },
  {
   "cell_type": "code",
   "execution_count": 25,
   "id": "incomplete-mustang",
   "metadata": {
    "execution": {
     "iopub.execute_input": "2022-05-03T12:17:50.849240Z",
     "iopub.status.busy": "2022-05-03T12:17:50.848604Z",
     "iopub.status.idle": "2022-05-03T12:17:50.851691Z",
     "shell.execute_reply": "2022-05-03T12:17:50.850952Z"
    },
    "papermill": {
     "duration": 0.052531,
     "end_time": "2022-05-03T12:17:50.851836",
     "exception": false,
     "start_time": "2022-05-03T12:17:50.799305",
     "status": "completed"
    },
    "tags": []
   },
   "outputs": [],
   "source": [
    "#hide\n",
    "# g.head()"
   ]
  },
  {
   "cell_type": "code",
   "execution_count": 26,
   "id": "specific-kruger",
   "metadata": {
    "execution": {
     "iopub.execute_input": "2022-05-03T12:17:50.939696Z",
     "iopub.status.busy": "2022-05-03T12:17:50.939012Z",
     "iopub.status.idle": "2022-05-03T12:17:50.941069Z",
     "shell.execute_reply": "2022-05-03T12:17:50.941735Z"
    },
    "papermill": {
     "duration": 0.046932,
     "end_time": "2022-05-03T12:17:50.941979",
     "exception": false,
     "start_time": "2022-05-03T12:17:50.895047",
     "status": "completed"
    },
    "tags": []
   },
   "outputs": [],
   "source": [
    "#hide\n",
    "# g.columns = ['date','country','cases']"
   ]
  },
  {
   "cell_type": "code",
   "execution_count": 27,
   "id": "tender-conversion",
   "metadata": {
    "execution": {
     "iopub.execute_input": "2022-05-03T12:17:51.026030Z",
     "iopub.status.busy": "2022-05-03T12:17:51.025154Z",
     "iopub.status.idle": "2022-05-03T12:17:51.027660Z",
     "shell.execute_reply": "2022-05-03T12:17:51.028239Z"
    },
    "papermill": {
     "duration": 0.045128,
     "end_time": "2022-05-03T12:17:51.028361",
     "exception": false,
     "start_time": "2022-05-03T12:17:50.983233",
     "status": "completed"
    },
    "tags": []
   },
   "outputs": [],
   "source": [
    "#hide\n",
    "# g['continent'] = g.country"
   ]
  },
  {
   "cell_type": "code",
   "execution_count": 28,
   "id": "substantial-wilderness",
   "metadata": {
    "execution": {
     "iopub.execute_input": "2022-05-03T12:17:51.119435Z",
     "iopub.status.busy": "2022-05-03T12:17:51.118699Z",
     "iopub.status.idle": "2022-05-03T12:17:51.122211Z",
     "shell.execute_reply": "2022-05-03T12:17:51.121484Z"
    },
    "papermill": {
     "duration": 0.047797,
     "end_time": "2022-05-03T12:17:51.122487",
     "exception": false,
     "start_time": "2022-05-03T12:17:51.074690",
     "status": "completed"
    },
    "tags": []
   },
   "outputs": [],
   "source": [
    "#hide\n",
    "# cols = list(g.columns.values)"
   ]
  },
  {
   "cell_type": "code",
   "execution_count": 29,
   "id": "solved-farming",
   "metadata": {
    "execution": {
     "iopub.execute_input": "2022-05-03T12:17:51.212168Z",
     "iopub.status.busy": "2022-05-03T12:17:51.211511Z",
     "iopub.status.idle": "2022-05-03T12:17:51.213838Z",
     "shell.execute_reply": "2022-05-03T12:17:51.214360Z"
    },
    "papermill": {
     "duration": 0.046904,
     "end_time": "2022-05-03T12:17:51.214513",
     "exception": false,
     "start_time": "2022-05-03T12:17:51.167609",
     "status": "completed"
    },
    "tags": []
   },
   "outputs": [],
   "source": [
    "#hide\n",
    "# cols.insert(0, cols.pop())"
   ]
  },
  {
   "cell_type": "code",
   "execution_count": 30,
   "id": "executed-adoption",
   "metadata": {
    "execution": {
     "iopub.execute_input": "2022-05-03T12:17:51.300048Z",
     "iopub.status.busy": "2022-05-03T12:17:51.299397Z",
     "iopub.status.idle": "2022-05-03T12:17:51.303939Z",
     "shell.execute_reply": "2022-05-03T12:17:51.304633Z"
    },
    "papermill": {
     "duration": 0.04966,
     "end_time": "2022-05-03T12:17:51.304772",
     "exception": false,
     "start_time": "2022-05-03T12:17:51.255112",
     "status": "completed"
    },
    "tags": []
   },
   "outputs": [],
   "source": [
    "#hide\n",
    "# g = g[cols]"
   ]
  },
  {
   "cell_type": "code",
   "execution_count": 31,
   "id": "subject-dublin",
   "metadata": {
    "execution": {
     "iopub.execute_input": "2022-05-03T12:17:51.392020Z",
     "iopub.status.busy": "2022-05-03T12:17:51.391442Z",
     "iopub.status.idle": "2022-05-03T12:17:51.393849Z",
     "shell.execute_reply": "2022-05-03T12:17:51.392971Z"
    },
    "papermill": {
     "duration": 0.0487,
     "end_time": "2022-05-03T12:17:51.393968",
     "exception": false,
     "start_time": "2022-05-03T12:17:51.345268",
     "status": "completed"
    },
    "tags": []
   },
   "outputs": [],
   "source": [
    "#hide\n",
    "# g['continent'] = g['continent'].map(mapping['map.continent'])"
   ]
  },
  {
   "cell_type": "code",
   "execution_count": 32,
   "id": "freelance-scout",
   "metadata": {
    "execution": {
     "iopub.execute_input": "2022-05-03T12:17:51.477141Z",
     "iopub.status.busy": "2022-05-03T12:17:51.476575Z",
     "iopub.status.idle": "2022-05-03T12:17:51.478431Z",
     "shell.execute_reply": "2022-05-03T12:17:51.478923Z"
    },
    "papermill": {
     "duration": 0.047018,
     "end_time": "2022-05-03T12:17:51.479051",
     "exception": false,
     "start_time": "2022-05-03T12:17:51.432033",
     "status": "completed"
    },
    "tags": []
   },
   "outputs": [],
   "source": [
    "#hide\n",
    "# g.head()"
   ]
  },
  {
   "cell_type": "code",
   "execution_count": 33,
   "id": "limited-engine",
   "metadata": {
    "execution": {
     "iopub.execute_input": "2022-05-03T12:17:51.558545Z",
     "iopub.status.busy": "2022-05-03T12:17:51.557693Z",
     "iopub.status.idle": "2022-05-03T12:17:51.561764Z",
     "shell.execute_reply": "2022-05-03T12:17:51.561036Z"
    },
    "papermill": {
     "duration": 0.0449,
     "end_time": "2022-05-03T12:17:51.561899",
     "exception": false,
     "start_time": "2022-05-03T12:17:51.516999",
     "status": "completed"
    },
    "tags": []
   },
   "outputs": [],
   "source": [
    "# hide\n",
    "# g['date'] = g['date'].astype('datetime64[ns]')"
   ]
  },
  {
   "cell_type": "code",
   "execution_count": 34,
   "id": "sophisticated-supervisor",
   "metadata": {
    "execution": {
     "iopub.execute_input": "2022-05-03T12:17:51.648425Z",
     "iopub.status.busy": "2022-05-03T12:17:51.647732Z",
     "iopub.status.idle": "2022-05-03T12:17:51.650923Z",
     "shell.execute_reply": "2022-05-03T12:17:51.650383Z"
    },
    "papermill": {
     "duration": 0.047575,
     "end_time": "2022-05-03T12:17:51.651099",
     "exception": false,
     "start_time": "2022-05-03T12:17:51.603524",
     "status": "completed"
    },
    "tags": []
   },
   "outputs": [],
   "source": [
    "#hide\n",
    "# g['date'] = g.date.dt.dayofyear"
   ]
  },
  {
   "cell_type": "code",
   "execution_count": 35,
   "id": "inside-dubai",
   "metadata": {
    "execution": {
     "iopub.execute_input": "2022-05-03T12:17:51.736356Z",
     "iopub.status.busy": "2022-05-03T12:17:51.735575Z",
     "iopub.status.idle": "2022-05-03T12:17:51.738765Z",
     "shell.execute_reply": "2022-05-03T12:17:51.738015Z"
    },
    "papermill": {
     "duration": 0.047389,
     "end_time": "2022-05-03T12:17:51.738911",
     "exception": false,
     "start_time": "2022-05-03T12:17:51.691522",
     "status": "completed"
    },
    "tags": []
   },
   "outputs": [],
   "source": [
    "#hide\n",
    "# g = g.rename(columns= {'continent':'group','country':'name','cases':'value'})"
   ]
  },
  {
   "cell_type": "code",
   "execution_count": 36,
   "id": "fleet-motorcycle",
   "metadata": {
    "execution": {
     "iopub.execute_input": "2022-05-03T12:17:51.822542Z",
     "iopub.status.busy": "2022-05-03T12:17:51.821902Z",
     "iopub.status.idle": "2022-05-03T12:17:51.824740Z",
     "shell.execute_reply": "2022-05-03T12:17:51.824150Z"
    },
    "papermill": {
     "duration": 0.045108,
     "end_time": "2022-05-03T12:17:51.824874",
     "exception": false,
     "start_time": "2022-05-03T12:17:51.779766",
     "status": "completed"
    },
    "tags": []
   },
   "outputs": [],
   "source": [
    "#hide\n",
    "# cols = ['name','group','day','value']"
   ]
  },
  {
   "cell_type": "code",
   "execution_count": 37,
   "id": "continued-sleeping",
   "metadata": {
    "execution": {
     "iopub.execute_input": "2022-05-03T12:17:51.920138Z",
     "iopub.status.busy": "2022-05-03T12:17:51.919292Z",
     "iopub.status.idle": "2022-05-03T12:17:51.922114Z",
     "shell.execute_reply": "2022-05-03T12:17:51.921397Z"
    },
    "papermill": {
     "duration": 0.052023,
     "end_time": "2022-05-03T12:17:51.922273",
     "exception": false,
     "start_time": "2022-05-03T12:17:51.870250",
     "status": "completed"
    },
    "tags": []
   },
   "outputs": [],
   "source": [
    "#hide\n",
    "# g.rename(columns= {'date':'day'},inplace = True)"
   ]
  },
  {
   "cell_type": "code",
   "execution_count": 38,
   "id": "major-fight",
   "metadata": {
    "execution": {
     "iopub.execute_input": "2022-05-03T12:17:52.010879Z",
     "iopub.status.busy": "2022-05-03T12:17:52.010214Z",
     "iopub.status.idle": "2022-05-03T12:17:52.013452Z",
     "shell.execute_reply": "2022-05-03T12:17:52.012884Z"
    },
    "papermill": {
     "duration": 0.049112,
     "end_time": "2022-05-03T12:17:52.013608",
     "exception": false,
     "start_time": "2022-05-03T12:17:51.964496",
     "status": "completed"
    },
    "tags": []
   },
   "outputs": [],
   "source": [
    "#hide\n",
    "# g = g[cols]"
   ]
  },
  {
   "cell_type": "code",
   "execution_count": 39,
   "id": "structured-mobile",
   "metadata": {
    "execution": {
     "iopub.execute_input": "2022-05-03T12:17:52.102400Z",
     "iopub.status.busy": "2022-05-03T12:17:52.101755Z",
     "iopub.status.idle": "2022-05-03T12:17:52.103996Z",
     "shell.execute_reply": "2022-05-03T12:17:52.104455Z"
    },
    "papermill": {
     "duration": 0.052088,
     "end_time": "2022-05-03T12:17:52.104595",
     "exception": false,
     "start_time": "2022-05-03T12:17:52.052507",
     "status": "completed"
    },
    "tags": []
   },
   "outputs": [],
   "source": [
    "# #hide\n",
    "# g = g[g.group.notna()]"
   ]
  },
  {
   "cell_type": "code",
   "execution_count": 40,
   "id": "determined-closing",
   "metadata": {
    "execution": {
     "iopub.execute_input": "2022-05-03T12:17:52.188585Z",
     "iopub.status.busy": "2022-05-03T12:17:52.187821Z",
     "iopub.status.idle": "2022-05-03T12:17:52.190566Z",
     "shell.execute_reply": "2022-05-03T12:17:52.189798Z"
    },
    "papermill": {
     "duration": 0.049195,
     "end_time": "2022-05-03T12:17:52.190720",
     "exception": false,
     "start_time": "2022-05-03T12:17:52.141525",
     "status": "completed"
    },
    "tags": []
   },
   "outputs": [],
   "source": [
    "# #hide\n",
    "# colors = dict(zip(\n",
    "#     [\"Oceania\", \"Europe\", \"Asia\", \"South America\", \"Middle East\", \"North America\", \"Africa\"],\n",
    "#     [\"#adb0ff\", \"#ffb3ff\", \"#90d595\", \"#e48381\", \"#aafbff\", \"#f7bb5f\", \"#eafb50\"]\n",
    "# ))\n",
    "# group_lk = g.set_index('name')['group'].to_dict()"
   ]
  },
  {
   "cell_type": "code",
   "execution_count": null,
   "id": "gross-drinking",
   "metadata": {
    "papermill": {
     "duration": 0.039201,
     "end_time": "2022-05-03T12:17:52.272067",
     "exception": false,
     "start_time": "2022-05-03T12:17:52.232866",
     "status": "completed"
    },
    "tags": []
   },
   "outputs": [],
   "source": []
  },
  {
   "cell_type": "code",
   "execution_count": 41,
   "id": "subject-macintosh",
   "metadata": {
    "execution": {
     "iopub.execute_input": "2022-05-03T12:17:52.355564Z",
     "iopub.status.busy": "2022-05-03T12:17:52.354958Z",
     "iopub.status.idle": "2022-05-03T12:17:52.357168Z",
     "shell.execute_reply": "2022-05-03T12:17:52.357650Z"
    },
    "papermill": {
     "duration": 0.045099,
     "end_time": "2022-05-03T12:17:52.357785",
     "exception": false,
     "start_time": "2022-05-03T12:17:52.312686",
     "status": "completed"
    },
    "tags": []
   },
   "outputs": [],
   "source": [
    "# #hide\n",
    "# fig, ax = plt.subplots(figsize=(15, 8))\n",
    "\n",
    "# def draw_barchart(current_day):\n",
    "#     dff = g[g['day'].eq(current_day)].sort_values(by='value', ascending=True).tail(10)\n",
    "#     ax.clear()\n",
    "#     ax.barh(dff['name'], dff['value'], color=[colors[group_lk[x]] for x in dff['name']])\n",
    "#     dx = dff['value'].max() / 200\n",
    "    \n",
    "#     for i, (value, name) in enumerate(zip(dff['value'], dff['name'])):\n",
    "#         ax.text(value-dx, i,     name,           size=14, weight=600, ha='right', va='bottom')\n",
    "#         ax.text(value-dx, i-.25, group_lk[name], size=10, color='#444444', ha='right', va='baseline')\n",
    "#         ax.text(value+dx, i,     f'{value:,.0f}',  size=14, ha='left',  va='center')\n",
    "#     ax.text(1, 0.4, current_day, transform=ax.transAxes, color='#777777', size=46, ha='right', weight=800)\n",
    "#     ax.text(0, 1.06, 'Population (thousands)', transform=ax.transAxes, size=12, color='#777777')\n",
    "#     ax.xaxis.set_major_formatter(ticker.StrMethodFormatter('{x:,.0f}'))\n",
    "#     ax.xaxis.set_ticks_position('top')\n",
    "#     ax.tick_params(axis='x', colors='#777777', labelsize=12)\n",
    "#     ax.set_yticks([])\n",
    "#     ax.margins(0, 0.01)\n",
    "#     ax.grid(which='major', axis='x', linestyle='-')\n",
    "#     ax.set_axisbelow(True)\n",
    "    \n",
    "#     ax.text(0, 1.15, 'Coronavirus',\n",
    "#             transform=ax.transAxes, size=24, weight=600, ha='left', va='top')\n",
    "# #     ax.text(1, 0, 'by @pratapvardhan; credit @jburnmurdoch', transform=ax.transAxes, color='#777777', ha='right',\n",
    "# #             bbox=dict(facecolor='white', alpha=0.8, edgecolor='white'))\n",
    "#     plt.box(False)"
   ]
  },
  {
   "cell_type": "code",
   "execution_count": 42,
   "id": "sexual-wages",
   "metadata": {
    "execution": {
     "iopub.execute_input": "2022-05-03T12:17:52.444633Z",
     "iopub.status.busy": "2022-05-03T12:17:52.443797Z",
     "iopub.status.idle": "2022-05-03T12:17:52.445819Z",
     "shell.execute_reply": "2022-05-03T12:17:52.446482Z"
    },
    "papermill": {
     "duration": 0.047141,
     "end_time": "2022-05-03T12:17:52.446631",
     "exception": false,
     "start_time": "2022-05-03T12:17:52.399490",
     "status": "completed"
    },
    "tags": []
   },
   "outputs": [],
   "source": [
    "# #hide_input\n",
    "# fig, ax = plt.subplots(figsize=(15, 8))\n",
    "# animator = animation.FuncAnimation(fig, draw_barchart, frames=range(g.day.values.min(), g.day.values.max()))\n",
    "# HTML(animator.to_jshtml())\n",
    "# # or use animator.to_html5_video() or animator.save() "
   ]
  },
  {
   "cell_type": "code",
   "execution_count": null,
   "id": "australian-container",
   "metadata": {
    "papermill": {
     "duration": 0.038146,
     "end_time": "2022-05-03T12:17:52.527914",
     "exception": false,
     "start_time": "2022-05-03T12:17:52.489768",
     "status": "completed"
    },
    "tags": []
   },
   "outputs": [],
   "source": []
  },
  {
   "cell_type": "code",
   "execution_count": null,
   "id": "mediterranean-pontiac",
   "metadata": {
    "papermill": {
     "duration": 0.040031,
     "end_time": "2022-05-03T12:17:52.606049",
     "exception": false,
     "start_time": "2022-05-03T12:17:52.566018",
     "status": "completed"
    },
    "tags": []
   },
   "outputs": [],
   "source": []
  },
  {
   "cell_type": "code",
   "execution_count": null,
   "id": "aging-legislature",
   "metadata": {
    "papermill": {
     "duration": 0.040131,
     "end_time": "2022-05-03T12:17:52.685383",
     "exception": false,
     "start_time": "2022-05-03T12:17:52.645252",
     "status": "completed"
    },
    "tags": []
   },
   "outputs": [],
   "source": []
  }
 ],
 "metadata": {
  "kernelspec": {
   "display_name": "Python 3",
   "language": "python",
   "name": "python3"
  },
  "language_info": {
   "codemirror_mode": {
    "name": "ipython",
    "version": 3
   },
   "file_extension": ".py",
   "mimetype": "text/x-python",
   "name": "python",
   "nbconvert_exporter": "python",
   "pygments_lexer": "ipython3",
   "version": "3.6.15"
  },
  "papermill": {
   "duration": 7.633207,
   "end_time": "2022-05-03T12:17:53.045762",
   "environment_variables": {},
   "exception": null,
   "input_path": "2020-03-21-covid19exp.ipynb",
   "output_path": "2020-03-21-covid19exp.ipynb",
   "parameters": {},
   "start_time": "2022-05-03T12:17:45.412555",
   "version": "2.0.0"
  }
 },
 "nbformat": 4,
 "nbformat_minor": 5
}