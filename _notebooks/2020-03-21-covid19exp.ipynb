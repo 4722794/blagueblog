{
 "cells": [
  {
   "cell_type": "markdown",
   "metadata": {
    "papermill": {
     "duration": 0.034186,
     "end_time": "2021-01-04T00:23:49.055706",
     "exception": false,
     "start_time": "2021-01-04T00:23:49.021520",
     "status": "completed"
    },
    "tags": []
   },
   "source": [
    "# COVID-19 Case Race\n",
    "> A race chart to see rising cases around the world\n",
    "\n",
    "- author: Hargun Oberoi\n",
    "- image: images/covid-overview.png\n",
    "- hide: false\n",
    "- badges: false"
   ]
  },
  {
   "cell_type": "code",
   "execution_count": 1,
   "metadata": {
    "execution": {
     "iopub.execute_input": "2021-01-04T00:23:49.145432Z",
     "iopub.status.busy": "2021-01-04T00:23:49.144814Z",
     "iopub.status.idle": "2021-01-04T00:23:49.499189Z",
     "shell.execute_reply": "2021-01-04T00:23:49.498561Z"
    },
    "papermill": {
     "duration": 0.397529,
     "end_time": "2021-01-04T00:23:49.499372",
     "exception": false,
     "start_time": "2021-01-04T00:23:49.101843",
     "status": "completed"
    },
    "tags": []
   },
   "outputs": [],
   "source": [
    "#hide\n",
    "import numpy as np\n",
    "import pandas as pd\n",
    "from jinja2 import Template\n",
    "from IPython.display import HTML"
   ]
  },
  {
   "cell_type": "code",
   "execution_count": 2,
   "metadata": {
    "execution": {
     "iopub.execute_input": "2021-01-04T00:23:49.566461Z",
     "iopub.status.busy": "2021-01-04T00:23:49.565694Z",
     "iopub.status.idle": "2021-01-04T00:23:49.567188Z",
     "shell.execute_reply": "2021-01-04T00:23:49.567814Z"
    },
    "papermill": {
     "duration": 0.037007,
     "end_time": "2021-01-04T00:23:49.567979",
     "exception": false,
     "start_time": "2021-01-04T00:23:49.530972",
     "status": "completed"
    },
    "tags": []
   },
   "outputs": [],
   "source": [
    "#hide\n",
    "\n",
    "# FETCH\n",
    "base_url = 'https://raw.githubusercontent.com/pratapvardhan/notebooks/master/covid19/'\n",
    "paths = {\n",
    "    'mapping': base_url + 'mapping_countries.csv',\n",
    "    'overview': base_url + 'overview.tpl'\n",
    "}"
   ]
  },
  {
   "cell_type": "code",
   "execution_count": 3,
   "metadata": {
    "execution": {
     "iopub.execute_input": "2021-01-04T00:23:49.640927Z",
     "iopub.status.busy": "2021-01-04T00:23:49.640315Z",
     "iopub.status.idle": "2021-01-04T00:23:49.642676Z",
     "shell.execute_reply": "2021-01-04T00:23:49.643223Z"
    },
    "papermill": {
     "duration": 0.045129,
     "end_time": "2021-01-04T00:23:49.643375",
     "exception": false,
     "start_time": "2021-01-04T00:23:49.598246",
     "status": "completed"
    },
    "tags": []
   },
   "outputs": [
    {
     "data": {
      "text/plain": [
       "'https://raw.githubusercontent.com/pratapvardhan/notebooks/master/covid19/mapping_countries.csv'"
      ]
     },
     "execution_count": 3,
     "metadata": {},
     "output_type": "execute_result"
    }
   ],
   "source": [
    "#hide\n",
    "paths['mapping']"
   ]
  },
  {
   "cell_type": "code",
   "execution_count": 4,
   "metadata": {
    "execution": {
     "iopub.execute_input": "2021-01-04T00:23:49.710969Z",
     "iopub.status.busy": "2021-01-04T00:23:49.710345Z",
     "iopub.status.idle": "2021-01-04T00:23:49.712789Z",
     "shell.execute_reply": "2021-01-04T00:23:49.712209Z"
    },
    "papermill": {
     "duration": 0.039108,
     "end_time": "2021-01-04T00:23:49.712919",
     "exception": false,
     "start_time": "2021-01-04T00:23:49.673811",
     "status": "completed"
    },
    "tags": []
   },
   "outputs": [],
   "source": [
    "#hide\n",
    "def get_mappings(url):\n",
    "    df = pd.read_csv(url)\n",
    "    return {\n",
    "        'df': df,\n",
    "        'replace.country': dict(df.dropna(subset=['Name']).set_index('Country')['Name']),\n",
    "        'map.continent': dict(df.set_index('Name')['Continent'])\n",
    "    }"
   ]
  },
  {
   "cell_type": "code",
   "execution_count": 5,
   "metadata": {
    "execution": {
     "iopub.execute_input": "2021-01-04T00:23:49.792534Z",
     "iopub.status.busy": "2021-01-04T00:23:49.791932Z",
     "iopub.status.idle": "2021-01-04T00:23:49.879252Z",
     "shell.execute_reply": "2021-01-04T00:23:49.878651Z"
    },
    "papermill": {
     "duration": 0.13503,
     "end_time": "2021-01-04T00:23:49.879418",
     "exception": false,
     "start_time": "2021-01-04T00:23:49.744388",
     "status": "completed"
    },
    "tags": []
   },
   "outputs": [],
   "source": [
    "#hide\n",
    "mapping = get_mappings(paths['mapping'])"
   ]
  },
  {
   "cell_type": "code",
   "execution_count": 6,
   "metadata": {
    "execution": {
     "iopub.execute_input": "2021-01-04T00:23:49.947574Z",
     "iopub.status.busy": "2021-01-04T00:23:49.946954Z",
     "iopub.status.idle": "2021-01-04T00:23:49.948728Z",
     "shell.execute_reply": "2021-01-04T00:23:49.949203Z"
    },
    "papermill": {
     "duration": 0.038763,
     "end_time": "2021-01-04T00:23:49.949354",
     "exception": false,
     "start_time": "2021-01-04T00:23:49.910591",
     "status": "completed"
    },
    "tags": []
   },
   "outputs": [],
   "source": [
    "#hide\n",
    "def get_template(path):\n",
    "    from urllib.parse import urlparse\n",
    "    if bool(urlparse(path).netloc):\n",
    "        from urllib.request import urlopen\n",
    "        return urlopen(path).read().decode('utf8')\n",
    "    return open(path).read()"
   ]
  },
  {
   "cell_type": "code",
   "execution_count": 7,
   "metadata": {
    "execution": {
     "iopub.execute_input": "2021-01-04T00:23:50.015531Z",
     "iopub.status.busy": "2021-01-04T00:23:50.014946Z",
     "iopub.status.idle": "2021-01-04T00:23:50.017767Z",
     "shell.execute_reply": "2021-01-04T00:23:50.017272Z"
    },
    "papermill": {
     "duration": 0.038446,
     "end_time": "2021-01-04T00:23:50.017893",
     "exception": false,
     "start_time": "2021-01-04T00:23:49.979447",
     "status": "completed"
    },
    "tags": []
   },
   "outputs": [],
   "source": [
    "#hide\n",
    "def get_frame(name):\n",
    "    url = (\n",
    "        'https://raw.githubusercontent.com/CSSEGISandData/COVID-19/master/csse_covid_19_data/'\n",
    "        f'csse_covid_19_time_series/time_series_covid19_{name}_global.csv')\n",
    "    df = pd.read_csv(url)\n",
    "    # rename countries\n",
    "    df['Country/Region'] = df['Country/Region'].replace(mapping['replace.country'])\n",
    "    return df"
   ]
  },
  {
   "cell_type": "code",
   "execution_count": 8,
   "metadata": {
    "execution": {
     "iopub.execute_input": "2021-01-04T00:23:50.097265Z",
     "iopub.status.busy": "2021-01-04T00:23:50.096648Z",
     "iopub.status.idle": "2021-01-04T00:23:50.099135Z",
     "shell.execute_reply": "2021-01-04T00:23:50.098666Z"
    },
    "papermill": {
     "duration": 0.051171,
     "end_time": "2021-01-04T00:23:50.099264",
     "exception": false,
     "start_time": "2021-01-04T00:23:50.048093",
     "status": "completed"
    },
    "tags": []
   },
   "outputs": [],
   "source": [
    "#hide\n",
    "def get_dates(df):\n",
    "    dt_cols = df.columns[~df.columns.isin(['Province/State', 'Country/Region', 'Lat', 'Long'])]\n",
    "    LAST_DATE_I = -1\n",
    "    # sometimes last column may be empty, then go backwards\n",
    "    for i in range(-1, -len(dt_cols), -1):\n",
    "        if not df[dt_cols[i]].fillna(0).eq(0).all():\n",
    "            LAST_DATE_I = i\n",
    "            break\n",
    "    return LAST_DATE_I, dt_cols"
   ]
  },
  {
   "cell_type": "code",
   "execution_count": 9,
   "metadata": {
    "execution": {
     "iopub.execute_input": "2021-01-04T00:23:50.164455Z",
     "iopub.status.busy": "2021-01-04T00:23:50.163864Z",
     "iopub.status.idle": "2021-01-04T00:23:50.604528Z",
     "shell.execute_reply": "2021-01-04T00:23:50.603366Z"
    },
    "papermill": {
     "duration": 0.47542,
     "end_time": "2021-01-04T00:23:50.604680",
     "exception": false,
     "start_time": "2021-01-04T00:23:50.129260",
     "status": "completed"
    },
    "tags": []
   },
   "outputs": [],
   "source": [
    "#hide\n",
    "COL_REGION = 'Country/Region'\n",
    "# Confirmed, Recovered, Deaths\n",
    "df = get_frame('confirmed')\n",
    "# dft_: timeseries, dfc_: today country agg\n",
    "dft_cases = df\n",
    "dft_deaths = get_frame('deaths')\n",
    "dft_recovered = get_frame('recovered')\n",
    "LAST_DATE_I, dt_cols = get_dates(df)"
   ]
  },
  {
   "cell_type": "code",
   "execution_count": 10,
   "metadata": {
    "execution": {
     "iopub.execute_input": "2021-01-04T00:23:50.670972Z",
     "iopub.status.busy": "2021-01-04T00:23:50.670374Z",
     "iopub.status.idle": "2021-01-04T00:23:50.672754Z",
     "shell.execute_reply": "2021-01-04T00:23:50.672175Z"
    },
    "papermill": {
     "duration": 0.037667,
     "end_time": "2021-01-04T00:23:50.672884",
     "exception": false,
     "start_time": "2021-01-04T00:23:50.635217",
     "status": "completed"
    },
    "tags": []
   },
   "outputs": [],
   "source": [
    "#hide\n",
    "LAST_DATE_I, dt_cols = get_dates(df)\n",
    "dt_today =dt_cols[LAST_DATE_I]\n",
    "# dt_5day = dt_cols[LAST_DATE_I - 5]\n",
    "dt_yday = dt_cols[LAST_DATE_I - 1]"
   ]
  },
  {
   "cell_type": "code",
   "execution_count": 11,
   "metadata": {
    "execution": {
     "iopub.execute_input": "2021-01-04T00:23:50.766191Z",
     "iopub.status.busy": "2021-01-04T00:23:50.765559Z",
     "iopub.status.idle": "2021-01-04T00:23:50.770833Z",
     "shell.execute_reply": "2021-01-04T00:23:50.770320Z"
    },
    "papermill": {
     "duration": 0.06736,
     "end_time": "2021-01-04T00:23:50.770960",
     "exception": false,
     "start_time": "2021-01-04T00:23:50.703600",
     "status": "completed"
    },
    "tags": []
   },
   "outputs": [],
   "source": [
    "#hide\n",
    "dfc_cases = dft_cases.groupby(COL_REGION)[dt_today].sum()\n",
    "dfc_deaths = dft_deaths.groupby(COL_REGION)[dt_today].sum()\n",
    "# dfp_cases = dft_cases.groupby(COL_REGION)[dt_5day].sum()\n",
    "# dfp_deaths = dft_deaths.groupby(COL_REGION)[dt_5day].sum()\n",
    "dfp_cases = dft_cases.groupby(COL_REGION)[dt_yday].sum()\n",
    "dfp_deaths = dft_deaths.groupby(COL_REGION)[dt_yday].sum()"
   ]
  },
  {
   "cell_type": "code",
   "execution_count": 12,
   "metadata": {
    "execution": {
     "iopub.execute_input": "2021-01-04T00:23:50.839462Z",
     "iopub.status.busy": "2021-01-04T00:23:50.838868Z",
     "iopub.status.idle": "2021-01-04T00:23:50.843776Z",
     "shell.execute_reply": "2021-01-04T00:23:50.843274Z"
    },
    "papermill": {
     "duration": 0.041929,
     "end_time": "2021-01-04T00:23:50.843905",
     "exception": false,
     "start_time": "2021-01-04T00:23:50.801976",
     "status": "completed"
    },
    "tags": []
   },
   "outputs": [],
   "source": [
    "#hide\n",
    "df_table = (pd.DataFrame(dict(Cases = dfc_cases, Deaths = dfc_deaths, PCases = dfp_cases, PDeaths = dfp_deaths))\n",
    "            .sort_values(by = ['Cases','Deaths'], ascending = [False, False])\n",
    "            .reset_index())"
   ]
  },
  {
   "cell_type": "code",
   "execution_count": 13,
   "metadata": {
    "execution": {
     "iopub.execute_input": "2021-01-04T00:23:50.916346Z",
     "iopub.status.busy": "2021-01-04T00:23:50.915718Z",
     "iopub.status.idle": "2021-01-04T00:23:50.931656Z",
     "shell.execute_reply": "2021-01-04T00:23:50.931089Z"
    },
    "papermill": {
     "duration": 0.057772,
     "end_time": "2021-01-04T00:23:50.931809",
     "exception": false,
     "start_time": "2021-01-04T00:23:50.874037",
     "status": "completed"
    },
    "tags": []
   },
   "outputs": [
    {
     "data": {
      "text/html": [
       "<div>\n",
       "<style scoped>\n",
       "    .dataframe tbody tr th:only-of-type {\n",
       "        vertical-align: middle;\n",
       "    }\n",
       "\n",
       "    .dataframe tbody tr th {\n",
       "        vertical-align: top;\n",
       "    }\n",
       "\n",
       "    .dataframe thead th {\n",
       "        text-align: right;\n",
       "    }\n",
       "</style>\n",
       "<table border=\"1\" class=\"dataframe\">\n",
       "  <thead>\n",
       "    <tr style=\"text-align: right;\">\n",
       "      <th></th>\n",
       "      <th>Country/Region</th>\n",
       "      <th>Cases</th>\n",
       "      <th>Deaths</th>\n",
       "      <th>PCases</th>\n",
       "      <th>PDeaths</th>\n",
       "      <th>Cases (+)</th>\n",
       "      <th>Deaths (+)</th>\n",
       "      <th>Fatality Rate</th>\n",
       "      <th>Continent</th>\n",
       "    </tr>\n",
       "  </thead>\n",
       "  <tbody>\n",
       "    <tr>\n",
       "      <th>0</th>\n",
       "      <td>US</td>\n",
       "      <td>20426184</td>\n",
       "      <td>350186</td>\n",
       "      <td>20128693</td>\n",
       "      <td>347788</td>\n",
       "      <td>297491</td>\n",
       "      <td>2398</td>\n",
       "      <td>1.71</td>\n",
       "      <td>North America</td>\n",
       "    </tr>\n",
       "    <tr>\n",
       "      <th>1</th>\n",
       "      <td>India</td>\n",
       "      <td>10323965</td>\n",
       "      <td>149435</td>\n",
       "      <td>10286709</td>\n",
       "      <td>148994</td>\n",
       "      <td>37256</td>\n",
       "      <td>441</td>\n",
       "      <td>1.45</td>\n",
       "      <td>Asia</td>\n",
       "    </tr>\n",
       "    <tr>\n",
       "      <th>2</th>\n",
       "      <td>Brazil</td>\n",
       "      <td>7716405</td>\n",
       "      <td>195725</td>\n",
       "      <td>7700578</td>\n",
       "      <td>195411</td>\n",
       "      <td>15827</td>\n",
       "      <td>314</td>\n",
       "      <td>2.54</td>\n",
       "      <td>South America</td>\n",
       "    </tr>\n",
       "    <tr>\n",
       "      <th>3</th>\n",
       "      <td>Russia</td>\n",
       "      <td>3179898</td>\n",
       "      <td>57235</td>\n",
       "      <td>3153960</td>\n",
       "      <td>56798</td>\n",
       "      <td>25938</td>\n",
       "      <td>437</td>\n",
       "      <td>1.80</td>\n",
       "      <td>Europe</td>\n",
       "    </tr>\n",
       "    <tr>\n",
       "      <th>4</th>\n",
       "      <td>France</td>\n",
       "      <td>2700480</td>\n",
       "      <td>65048</td>\n",
       "      <td>2697014</td>\n",
       "      <td>64892</td>\n",
       "      <td>3466</td>\n",
       "      <td>156</td>\n",
       "      <td>2.41</td>\n",
       "      <td>Europe</td>\n",
       "    </tr>\n",
       "  </tbody>\n",
       "</table>\n",
       "</div>"
      ],
      "text/plain": [
       "  Country/Region     Cases  Deaths    PCases  PDeaths  Cases (+)  Deaths (+)  \\\n",
       "0             US  20426184  350186  20128693   347788     297491        2398   \n",
       "1          India  10323965  149435  10286709   148994      37256         441   \n",
       "2         Brazil   7716405  195725   7700578   195411      15827         314   \n",
       "3         Russia   3179898   57235   3153960    56798      25938         437   \n",
       "4         France   2700480   65048   2697014    64892       3466         156   \n",
       "\n",
       "   Fatality Rate      Continent  \n",
       "0           1.71  North America  \n",
       "1           1.45           Asia  \n",
       "2           2.54  South America  \n",
       "3           1.80         Europe  \n",
       "4           2.41         Europe  "
      ]
     },
     "execution_count": 13,
     "metadata": {},
     "output_type": "execute_result"
    }
   ],
   "source": [
    "#hide\n",
    "for c in 'Cases, Deaths'.split(', '):\n",
    "    df_table[f'{c} (+)'] = (df_table[c] - df_table[f'P{c}']).clip(0)\n",
    "    #Clip ça veut dire, les chiffres negatif sont interdit\n",
    "df_table['Fatality Rate'] = (100* df_table['Deaths']/ df_table['Cases']).round(2)\n",
    "df_table['Continent'] = df_table['Country/Region'].map(mapping['map.continent'])\n",
    "df_table.head(5)"
   ]
  },
  {
   "cell_type": "code",
   "execution_count": 14,
   "metadata": {
    "execution": {
     "iopub.execute_input": "2021-01-04T00:23:51.003158Z",
     "iopub.status.busy": "2021-01-04T00:23:51.002544Z",
     "iopub.status.idle": "2021-01-04T00:23:51.004269Z",
     "shell.execute_reply": "2021-01-04T00:23:51.004774Z"
    },
    "papermill": {
     "duration": 0.038788,
     "end_time": "2021-01-04T00:23:51.004919",
     "exception": false,
     "start_time": "2021-01-04T00:23:50.966131",
     "status": "completed"
    },
    "tags": []
   },
   "outputs": [],
   "source": [
    "#hide\n",
    "#delete problematic countries from table\n",
    "df_table = df_table[~df_table['Country/Region'].isin(['Cape Verde', 'Cruise Ship', 'Kosovo'])]"
   ]
  },
  {
   "cell_type": "code",
   "execution_count": 15,
   "metadata": {
    "execution": {
     "iopub.execute_input": "2021-01-04T00:23:51.076133Z",
     "iopub.status.busy": "2021-01-04T00:23:51.075508Z",
     "iopub.status.idle": "2021-01-04T00:23:51.093818Z",
     "shell.execute_reply": "2021-01-04T00:23:51.093338Z"
    },
    "papermill": {
     "duration": 0.058448,
     "end_time": "2021-01-04T00:23:51.093954",
     "exception": false,
     "start_time": "2021-01-04T00:23:51.035506",
     "status": "completed"
    },
    "tags": []
   },
   "outputs": [
    {
     "data": {
      "text/html": [
       "<div>\n",
       "<style scoped>\n",
       "    .dataframe tbody tr th:only-of-type {\n",
       "        vertical-align: middle;\n",
       "    }\n",
       "\n",
       "    .dataframe tbody tr th {\n",
       "        vertical-align: top;\n",
       "    }\n",
       "\n",
       "    .dataframe thead th {\n",
       "        text-align: right;\n",
       "    }\n",
       "</style>\n",
       "<table border=\"1\" class=\"dataframe\">\n",
       "  <thead>\n",
       "    <tr style=\"text-align: right;\">\n",
       "      <th></th>\n",
       "      <th>Country/Region</th>\n",
       "      <th>Cases</th>\n",
       "      <th>Deaths</th>\n",
       "      <th>PCases</th>\n",
       "      <th>PDeaths</th>\n",
       "      <th>Cases (+)</th>\n",
       "      <th>Deaths (+)</th>\n",
       "      <th>Fatality Rate</th>\n",
       "      <th>Continent</th>\n",
       "    </tr>\n",
       "  </thead>\n",
       "  <tbody>\n",
       "    <tr>\n",
       "      <th>0</th>\n",
       "      <td>US</td>\n",
       "      <td>20426184</td>\n",
       "      <td>350186</td>\n",
       "      <td>20128693</td>\n",
       "      <td>347788</td>\n",
       "      <td>297491</td>\n",
       "      <td>2398</td>\n",
       "      <td>1.7</td>\n",
       "      <td>North America</td>\n",
       "    </tr>\n",
       "    <tr>\n",
       "      <th>1</th>\n",
       "      <td>India</td>\n",
       "      <td>10323965</td>\n",
       "      <td>149435</td>\n",
       "      <td>10286709</td>\n",
       "      <td>148994</td>\n",
       "      <td>37256</td>\n",
       "      <td>441</td>\n",
       "      <td>1.4</td>\n",
       "      <td>Asia</td>\n",
       "    </tr>\n",
       "    <tr>\n",
       "      <th>2</th>\n",
       "      <td>Brazil</td>\n",
       "      <td>7716405</td>\n",
       "      <td>195725</td>\n",
       "      <td>7700578</td>\n",
       "      <td>195411</td>\n",
       "      <td>15827</td>\n",
       "      <td>314</td>\n",
       "      <td>2.5</td>\n",
       "      <td>South America</td>\n",
       "    </tr>\n",
       "    <tr>\n",
       "      <th>3</th>\n",
       "      <td>Russia</td>\n",
       "      <td>3179898</td>\n",
       "      <td>57235</td>\n",
       "      <td>3153960</td>\n",
       "      <td>56798</td>\n",
       "      <td>25938</td>\n",
       "      <td>437</td>\n",
       "      <td>1.8</td>\n",
       "      <td>Europe</td>\n",
       "    </tr>\n",
       "    <tr>\n",
       "      <th>4</th>\n",
       "      <td>France</td>\n",
       "      <td>2700480</td>\n",
       "      <td>65048</td>\n",
       "      <td>2697014</td>\n",
       "      <td>64892</td>\n",
       "      <td>3466</td>\n",
       "      <td>156</td>\n",
       "      <td>2.4</td>\n",
       "      <td>Europe</td>\n",
       "    </tr>\n",
       "  </tbody>\n",
       "</table>\n",
       "</div>"
      ],
      "text/plain": [
       "  Country/Region     Cases  Deaths    PCases  PDeaths  Cases (+)  Deaths (+)  \\\n",
       "0             US  20426184  350186  20128693   347788     297491        2398   \n",
       "1          India  10323965  149435  10286709   148994      37256         441   \n",
       "2         Brazil   7716405  195725   7700578   195411      15827         314   \n",
       "3         Russia   3179898   57235   3153960    56798      25938         437   \n",
       "4         France   2700480   65048   2697014    64892       3466         156   \n",
       "\n",
       "   Fatality Rate      Continent  \n",
       "0            1.7  North America  \n",
       "1            1.4           Asia  \n",
       "2            2.5  South America  \n",
       "3            1.8         Europe  \n",
       "4            2.4         Europe  "
      ]
     },
     "execution_count": 15,
     "metadata": {},
     "output_type": "execute_result"
    }
   ],
   "source": [
    "#hide\n",
    "df_table = (pd.DataFrame(dict(Cases=dfc_cases, Deaths=dfc_deaths, PCases=dfp_cases, PDeaths=dfp_deaths))\n",
    "             .sort_values(by=['Cases', 'Deaths'], ascending=[False, False])\n",
    "             .reset_index())\n",
    "df_table.rename(columns={'index': 'Country/Region'}, inplace=True)\n",
    "for c in 'Cases, Deaths'.split(', '):\n",
    "    df_table[f'{c} (+)'] = (df_table[c] - df_table[f'P{c}']).clip(0)  # DATA BUG\n",
    "df_table['Fatality Rate'] = (100 * df_table['Deaths'] / df_table['Cases']).round(1)\n",
    "df_table['Continent'] = df_table['Country/Region'].map(mapping['map.continent'])\n",
    "df_table.head(5)"
   ]
  },
  {
   "cell_type": "code",
   "execution_count": 16,
   "metadata": {
    "execution": {
     "iopub.execute_input": "2021-01-04T00:23:51.163305Z",
     "iopub.status.busy": "2021-01-04T00:23:51.162701Z",
     "iopub.status.idle": "2021-01-04T00:23:51.164564Z",
     "shell.execute_reply": "2021-01-04T00:23:51.166111Z"
    },
    "papermill": {
     "duration": 0.040403,
     "end_time": "2021-01-04T00:23:51.166277",
     "exception": false,
     "start_time": "2021-01-04T00:23:51.125874",
     "status": "completed"
    },
    "tags": []
   },
   "outputs": [],
   "source": [
    "#hide\n",
    "#delete problematic countries from table\n",
    "df_table = df_table[~df_table['Country/Region'].isin(['Cape Verde', 'Cruise Ship', 'Kosovo'])]"
   ]
  },
  {
   "cell_type": "code",
   "execution_count": 17,
   "metadata": {
    "execution": {
     "iopub.execute_input": "2021-01-04T00:23:51.237460Z",
     "iopub.status.busy": "2021-01-04T00:23:51.236843Z",
     "iopub.status.idle": "2021-01-04T00:23:51.249694Z",
     "shell.execute_reply": "2021-01-04T00:23:51.250194Z"
    },
    "papermill": {
     "duration": 0.052873,
     "end_time": "2021-01-04T00:23:51.250350",
     "exception": false,
     "start_time": "2021-01-04T00:23:51.197477",
     "status": "completed"
    },
    "tags": []
   },
   "outputs": [],
   "source": [
    "#hide\n",
    "metrics = [df_table.columns[index] for index in [1,2,5,6]]\n",
    "# s_china = df_table[df_table['Country/Region'].eq('China')][metrics].sum().add_prefix('China ')\n",
    "s_us = df_table[df_table['Country/Region'].eq('US')][metrics].sum().add_prefix('US ')\n",
    "s_eu = df_table[df_table['Continent'].eq('Europe')][metrics].sum().add_prefix('EU ')\n",
    "s_ind = df_table[df_table['Country/Region'].eq('India')][metrics].sum().add_prefix('India ')\n",
    "summary = {'updated': pd.to_datetime(dt_today), 'since': pd.to_datetime(dt_yday)}\n",
    "summary = {'updated': pd.to_datetime(dt_today), 'since': pd.to_datetime(dt_yday)}\n",
    "summary = {**summary, **df_table[metrics].sum(), **s_ind, **s_us, **s_eu}"
   ]
  },
  {
   "cell_type": "code",
   "execution_count": 18,
   "metadata": {
    "execution": {
     "iopub.execute_input": "2021-01-04T00:23:51.319634Z",
     "iopub.status.busy": "2021-01-04T00:23:51.319038Z",
     "iopub.status.idle": "2021-01-04T00:23:51.330577Z",
     "shell.execute_reply": "2021-01-04T00:23:51.330054Z"
    },
    "papermill": {
     "duration": 0.048999,
     "end_time": "2021-01-04T00:23:51.330710",
     "exception": false,
     "start_time": "2021-01-04T00:23:51.281711",
     "status": "completed"
    },
    "tags": []
   },
   "outputs": [],
   "source": [
    "#hide\n",
    "dft_ct_new_cases = dft_cases.groupby(COL_REGION)[dt_cols].sum().diff(axis=1).fillna(0).astype(int)"
   ]
  },
  {
   "cell_type": "code",
   "execution_count": 19,
   "metadata": {
    "execution": {
     "iopub.execute_input": "2021-01-04T00:23:51.401402Z",
     "iopub.status.busy": "2021-01-04T00:23:51.400807Z",
     "iopub.status.idle": "2021-01-04T00:23:51.403246Z",
     "shell.execute_reply": "2021-01-04T00:23:51.402746Z"
    },
    "papermill": {
     "duration": 0.039591,
     "end_time": "2021-01-04T00:23:51.403376",
     "exception": false,
     "start_time": "2021-01-04T00:23:51.363785",
     "status": "completed"
    },
    "tags": []
   },
   "outputs": [],
   "source": [
    "#hide\n",
    "everydaycases = dft_ct_new_cases.cumsum(axis=1)"
   ]
  },
  {
   "cell_type": "code",
   "execution_count": 20,
   "metadata": {
    "execution": {
     "iopub.execute_input": "2021-01-04T00:23:51.471252Z",
     "iopub.status.busy": "2021-01-04T00:23:51.470632Z",
     "iopub.status.idle": "2021-01-04T00:23:52.523328Z",
     "shell.execute_reply": "2021-01-04T00:23:52.524322Z"
    },
    "papermill": {
     "duration": 1.089438,
     "end_time": "2021-01-04T00:23:52.524538",
     "exception": false,
     "start_time": "2021-01-04T00:23:51.435100",
     "status": "completed"
    },
    "tags": []
   },
   "outputs": [],
   "source": [
    "#hide\n",
    "import pandas as pd\n",
    "import matplotlib.pyplot as plt\n",
    "import matplotlib.ticker as ticker\n",
    "import matplotlib.animation as animation\n",
    "from IPython.display import HTML"
   ]
  },
  {
   "cell_type": "code",
   "execution_count": 21,
   "metadata": {
    "execution": {
     "iopub.execute_input": "2021-01-04T00:23:52.600953Z",
     "iopub.status.busy": "2021-01-04T00:23:52.600359Z",
     "iopub.status.idle": "2021-01-04T00:23:52.605678Z",
     "shell.execute_reply": "2021-01-04T00:23:52.605202Z"
    },
    "papermill": {
     "duration": 0.043041,
     "end_time": "2021-01-04T00:23:52.605813",
     "exception": false,
     "start_time": "2021-01-04T00:23:52.562772",
     "status": "completed"
    },
    "tags": []
   },
   "outputs": [],
   "source": [
    "#hide\n",
    "t = everydaycases.stack()"
   ]
  },
  {
   "cell_type": "code",
   "execution_count": 22,
   "metadata": {
    "execution": {
     "iopub.execute_input": "2021-01-04T00:23:52.673834Z",
     "iopub.status.busy": "2021-01-04T00:23:52.673248Z",
     "iopub.status.idle": "2021-01-04T00:23:52.680620Z",
     "shell.execute_reply": "2021-01-04T00:23:52.681124Z"
    },
    "papermill": {
     "duration": 0.043669,
     "end_time": "2021-01-04T00:23:52.681270",
     "exception": false,
     "start_time": "2021-01-04T00:23:52.637601",
     "status": "completed"
    },
    "tags": []
   },
   "outputs": [],
   "source": [
    "#hide\n",
    "g = t.reset_index(['Country/Region'])"
   ]
  },
  {
   "cell_type": "code",
   "execution_count": 23,
   "metadata": {
    "execution": {
     "iopub.execute_input": "2021-01-04T00:23:52.747915Z",
     "iopub.status.busy": "2021-01-04T00:23:52.747324Z",
     "iopub.status.idle": "2021-01-04T00:23:52.749815Z",
     "shell.execute_reply": "2021-01-04T00:23:52.749347Z"
    },
    "papermill": {
     "duration": 0.037801,
     "end_time": "2021-01-04T00:23:52.749951",
     "exception": false,
     "start_time": "2021-01-04T00:23:52.712150",
     "status": "completed"
    },
    "tags": []
   },
   "outputs": [],
   "source": [
    "#hide\n",
    "g.index.name = 'date'"
   ]
  },
  {
   "cell_type": "code",
   "execution_count": 24,
   "metadata": {
    "execution": {
     "iopub.execute_input": "2021-01-04T00:23:52.817301Z",
     "iopub.status.busy": "2021-01-04T00:23:52.816710Z",
     "iopub.status.idle": "2021-01-04T00:23:52.819184Z",
     "shell.execute_reply": "2021-01-04T00:23:52.818712Z"
    },
    "papermill": {
     "duration": 0.038188,
     "end_time": "2021-01-04T00:23:52.819315",
     "exception": false,
     "start_time": "2021-01-04T00:23:52.781127",
     "status": "completed"
    },
    "tags": []
   },
   "outputs": [],
   "source": [
    "# #hide\n",
    "# g = g.reset_index(['date'])"
   ]
  },
  {
   "cell_type": "code",
   "execution_count": 25,
   "metadata": {
    "execution": {
     "iopub.execute_input": "2021-01-04T00:23:52.885676Z",
     "iopub.status.busy": "2021-01-04T00:23:52.885079Z",
     "iopub.status.idle": "2021-01-04T00:23:52.886791Z",
     "shell.execute_reply": "2021-01-04T00:23:52.887259Z"
    },
    "papermill": {
     "duration": 0.037086,
     "end_time": "2021-01-04T00:23:52.887406",
     "exception": false,
     "start_time": "2021-01-04T00:23:52.850320",
     "status": "completed"
    },
    "tags": []
   },
   "outputs": [],
   "source": [
    "#hide\n",
    "# g.head()"
   ]
  },
  {
   "cell_type": "code",
   "execution_count": 26,
   "metadata": {
    "execution": {
     "iopub.execute_input": "2021-01-04T00:23:52.954003Z",
     "iopub.status.busy": "2021-01-04T00:23:52.953410Z",
     "iopub.status.idle": "2021-01-04T00:23:52.955428Z",
     "shell.execute_reply": "2021-01-04T00:23:52.955870Z"
    },
    "papermill": {
     "duration": 0.036896,
     "end_time": "2021-01-04T00:23:52.956017",
     "exception": false,
     "start_time": "2021-01-04T00:23:52.919121",
     "status": "completed"
    },
    "tags": []
   },
   "outputs": [],
   "source": [
    "#hide\n",
    "# g.columns = ['date','country','cases']"
   ]
  },
  {
   "cell_type": "code",
   "execution_count": 27,
   "metadata": {
    "execution": {
     "iopub.execute_input": "2021-01-04T00:23:53.022038Z",
     "iopub.status.busy": "2021-01-04T00:23:53.021399Z",
     "iopub.status.idle": "2021-01-04T00:23:53.024694Z",
     "shell.execute_reply": "2021-01-04T00:23:53.024174Z"
    },
    "papermill": {
     "duration": 0.038088,
     "end_time": "2021-01-04T00:23:53.024822",
     "exception": false,
     "start_time": "2021-01-04T00:23:52.986734",
     "status": "completed"
    },
    "tags": []
   },
   "outputs": [],
   "source": [
    "#hide\n",
    "# g['continent'] = g.country"
   ]
  },
  {
   "cell_type": "code",
   "execution_count": 28,
   "metadata": {
    "execution": {
     "iopub.execute_input": "2021-01-04T00:23:53.091589Z",
     "iopub.status.busy": "2021-01-04T00:23:53.090870Z",
     "iopub.status.idle": "2021-01-04T00:23:53.092464Z",
     "shell.execute_reply": "2021-01-04T00:23:53.093050Z"
    },
    "papermill": {
     "duration": 0.036695,
     "end_time": "2021-01-04T00:23:53.093216",
     "exception": false,
     "start_time": "2021-01-04T00:23:53.056521",
     "status": "completed"
    },
    "tags": []
   },
   "outputs": [],
   "source": [
    "#hide\n",
    "# cols = list(g.columns.values)"
   ]
  },
  {
   "cell_type": "code",
   "execution_count": 29,
   "metadata": {
    "execution": {
     "iopub.execute_input": "2021-01-04T00:23:53.160464Z",
     "iopub.status.busy": "2021-01-04T00:23:53.159864Z",
     "iopub.status.idle": "2021-01-04T00:23:53.162368Z",
     "shell.execute_reply": "2021-01-04T00:23:53.161861Z"
    },
    "papermill": {
     "duration": 0.037748,
     "end_time": "2021-01-04T00:23:53.162501",
     "exception": false,
     "start_time": "2021-01-04T00:23:53.124753",
     "status": "completed"
    },
    "tags": []
   },
   "outputs": [],
   "source": [
    "#hide\n",
    "# cols.insert(0, cols.pop())"
   ]
  },
  {
   "cell_type": "code",
   "execution_count": 30,
   "metadata": {
    "execution": {
     "iopub.execute_input": "2021-01-04T00:23:53.233821Z",
     "iopub.status.busy": "2021-01-04T00:23:53.233230Z",
     "iopub.status.idle": "2021-01-04T00:23:53.235647Z",
     "shell.execute_reply": "2021-01-04T00:23:53.235154Z"
    },
    "papermill": {
     "duration": 0.0372,
     "end_time": "2021-01-04T00:23:53.235772",
     "exception": false,
     "start_time": "2021-01-04T00:23:53.198572",
     "status": "completed"
    },
    "tags": []
   },
   "outputs": [],
   "source": [
    "#hide\n",
    "# g = g[cols]"
   ]
  },
  {
   "cell_type": "code",
   "execution_count": 31,
   "metadata": {
    "execution": {
     "iopub.execute_input": "2021-01-04T00:23:53.302701Z",
     "iopub.status.busy": "2021-01-04T00:23:53.302109Z",
     "iopub.status.idle": "2021-01-04T00:23:53.304482Z",
     "shell.execute_reply": "2021-01-04T00:23:53.303986Z"
    },
    "papermill": {
     "duration": 0.038119,
     "end_time": "2021-01-04T00:23:53.304607",
     "exception": false,
     "start_time": "2021-01-04T00:23:53.266488",
     "status": "completed"
    },
    "tags": []
   },
   "outputs": [],
   "source": [
    "#hide\n",
    "# g['continent'] = g['continent'].map(mapping['map.continent'])"
   ]
  },
  {
   "cell_type": "code",
   "execution_count": 32,
   "metadata": {
    "execution": {
     "iopub.execute_input": "2021-01-04T00:23:53.371079Z",
     "iopub.status.busy": "2021-01-04T00:23:53.370481Z",
     "iopub.status.idle": "2021-01-04T00:23:53.372759Z",
     "shell.execute_reply": "2021-01-04T00:23:53.372270Z"
    },
    "papermill": {
     "duration": 0.037501,
     "end_time": "2021-01-04T00:23:53.372885",
     "exception": false,
     "start_time": "2021-01-04T00:23:53.335384",
     "status": "completed"
    },
    "tags": []
   },
   "outputs": [],
   "source": [
    "#hide\n",
    "# g.head()"
   ]
  },
  {
   "cell_type": "code",
   "execution_count": 33,
   "metadata": {
    "execution": {
     "iopub.execute_input": "2021-01-04T00:23:53.440392Z",
     "iopub.status.busy": "2021-01-04T00:23:53.439663Z",
     "iopub.status.idle": "2021-01-04T00:23:53.441097Z",
     "shell.execute_reply": "2021-01-04T00:23:53.441648Z"
    },
    "papermill": {
     "duration": 0.037137,
     "end_time": "2021-01-04T00:23:53.441796",
     "exception": false,
     "start_time": "2021-01-04T00:23:53.404659",
     "status": "completed"
    },
    "tags": []
   },
   "outputs": [],
   "source": [
    "# hide\n",
    "# g['date'] = g['date'].astype('datetime64[ns]')"
   ]
  },
  {
   "cell_type": "code",
   "execution_count": 34,
   "metadata": {
    "execution": {
     "iopub.execute_input": "2021-01-04T00:23:53.508587Z",
     "iopub.status.busy": "2021-01-04T00:23:53.507891Z",
     "iopub.status.idle": "2021-01-04T00:23:53.509647Z",
     "shell.execute_reply": "2021-01-04T00:23:53.510140Z"
    },
    "papermill": {
     "duration": 0.037069,
     "end_time": "2021-01-04T00:23:53.510292",
     "exception": false,
     "start_time": "2021-01-04T00:23:53.473223",
     "status": "completed"
    },
    "tags": []
   },
   "outputs": [],
   "source": [
    "#hide\n",
    "# g['date'] = g.date.dt.dayofyear"
   ]
  },
  {
   "cell_type": "code",
   "execution_count": 35,
   "metadata": {
    "execution": {
     "iopub.execute_input": "2021-01-04T00:23:53.577666Z",
     "iopub.status.busy": "2021-01-04T00:23:53.577073Z",
     "iopub.status.idle": "2021-01-04T00:23:53.579566Z",
     "shell.execute_reply": "2021-01-04T00:23:53.579089Z"
    },
    "papermill": {
     "duration": 0.037378,
     "end_time": "2021-01-04T00:23:53.579698",
     "exception": false,
     "start_time": "2021-01-04T00:23:53.542320",
     "status": "completed"
    },
    "tags": []
   },
   "outputs": [],
   "source": [
    "#hide\n",
    "# g = g.rename(columns= {'continent':'group','country':'name','cases':'value'})"
   ]
  },
  {
   "cell_type": "code",
   "execution_count": 36,
   "metadata": {
    "execution": {
     "iopub.execute_input": "2021-01-04T00:23:53.653996Z",
     "iopub.status.busy": "2021-01-04T00:23:53.653409Z",
     "iopub.status.idle": "2021-01-04T00:23:53.655635Z",
     "shell.execute_reply": "2021-01-04T00:23:53.655145Z"
    },
    "papermill": {
     "duration": 0.037155,
     "end_time": "2021-01-04T00:23:53.655760",
     "exception": false,
     "start_time": "2021-01-04T00:23:53.618605",
     "status": "completed"
    },
    "tags": []
   },
   "outputs": [],
   "source": [
    "#hide\n",
    "# cols = ['name','group','day','value']"
   ]
  },
  {
   "cell_type": "code",
   "execution_count": 37,
   "metadata": {
    "execution": {
     "iopub.execute_input": "2021-01-04T00:23:53.727849Z",
     "iopub.status.busy": "2021-01-04T00:23:53.727124Z",
     "iopub.status.idle": "2021-01-04T00:23:53.728498Z",
     "shell.execute_reply": "2021-01-04T00:23:53.729146Z"
    },
    "papermill": {
     "duration": 0.041966,
     "end_time": "2021-01-04T00:23:53.729310",
     "exception": false,
     "start_time": "2021-01-04T00:23:53.687344",
     "status": "completed"
    },
    "tags": []
   },
   "outputs": [],
   "source": [
    "#hide\n",
    "# g.rename(columns= {'date':'day'},inplace = True)"
   ]
  },
  {
   "cell_type": "code",
   "execution_count": 38,
   "metadata": {
    "execution": {
     "iopub.execute_input": "2021-01-04T00:23:53.796532Z",
     "iopub.status.busy": "2021-01-04T00:23:53.795923Z",
     "iopub.status.idle": "2021-01-04T00:23:53.797692Z",
     "shell.execute_reply": "2021-01-04T00:23:53.798218Z"
    },
    "papermill": {
     "duration": 0.037415,
     "end_time": "2021-01-04T00:23:53.798367",
     "exception": false,
     "start_time": "2021-01-04T00:23:53.760952",
     "status": "completed"
    },
    "tags": []
   },
   "outputs": [],
   "source": [
    "#hide\n",
    "# g = g[cols]"
   ]
  },
  {
   "cell_type": "code",
   "execution_count": 39,
   "metadata": {
    "execution": {
     "iopub.execute_input": "2021-01-04T00:23:53.864426Z",
     "iopub.status.busy": "2021-01-04T00:23:53.863839Z",
     "iopub.status.idle": "2021-01-04T00:23:53.866430Z",
     "shell.execute_reply": "2021-01-04T00:23:53.865901Z"
    },
    "papermill": {
     "duration": 0.037318,
     "end_time": "2021-01-04T00:23:53.866560",
     "exception": false,
     "start_time": "2021-01-04T00:23:53.829242",
     "status": "completed"
    },
    "tags": []
   },
   "outputs": [],
   "source": [
    "# #hide\n",
    "# g = g[g.group.notna()]"
   ]
  },
  {
   "cell_type": "code",
   "execution_count": 40,
   "metadata": {
    "execution": {
     "iopub.execute_input": "2021-01-04T00:23:53.933482Z",
     "iopub.status.busy": "2021-01-04T00:23:53.932866Z",
     "iopub.status.idle": "2021-01-04T00:23:53.935098Z",
     "shell.execute_reply": "2021-01-04T00:23:53.934607Z"
    },
    "papermill": {
     "duration": 0.03777,
     "end_time": "2021-01-04T00:23:53.935226",
     "exception": false,
     "start_time": "2021-01-04T00:23:53.897456",
     "status": "completed"
    },
    "tags": []
   },
   "outputs": [],
   "source": [
    "# #hide\n",
    "# colors = dict(zip(\n",
    "#     [\"Oceania\", \"Europe\", \"Asia\", \"South America\", \"Middle East\", \"North America\", \"Africa\"],\n",
    "#     [\"#adb0ff\", \"#ffb3ff\", \"#90d595\", \"#e48381\", \"#aafbff\", \"#f7bb5f\", \"#eafb50\"]\n",
    "# ))\n",
    "# group_lk = g.set_index('name')['group'].to_dict()"
   ]
  },
  {
   "cell_type": "code",
   "execution_count": null,
   "metadata": {
    "papermill": {
     "duration": 0.03131,
     "end_time": "2021-01-04T00:23:53.998153",
     "exception": false,
     "start_time": "2021-01-04T00:23:53.966843",
     "status": "completed"
    },
    "tags": []
   },
   "outputs": [],
   "source": []
  },
  {
   "cell_type": "code",
   "execution_count": 41,
   "metadata": {
    "execution": {
     "iopub.execute_input": "2021-01-04T00:23:54.066176Z",
     "iopub.status.busy": "2021-01-04T00:23:54.065544Z",
     "iopub.status.idle": "2021-01-04T00:23:54.067721Z",
     "shell.execute_reply": "2021-01-04T00:23:54.067152Z"
    },
    "papermill": {
     "duration": 0.038701,
     "end_time": "2021-01-04T00:23:54.067847",
     "exception": false,
     "start_time": "2021-01-04T00:23:54.029146",
     "status": "completed"
    },
    "tags": []
   },
   "outputs": [],
   "source": [
    "# #hide\n",
    "# fig, ax = plt.subplots(figsize=(15, 8))\n",
    "\n",
    "# def draw_barchart(current_day):\n",
    "#     dff = g[g['day'].eq(current_day)].sort_values(by='value', ascending=True).tail(10)\n",
    "#     ax.clear()\n",
    "#     ax.barh(dff['name'], dff['value'], color=[colors[group_lk[x]] for x in dff['name']])\n",
    "#     dx = dff['value'].max() / 200\n",
    "    \n",
    "#     for i, (value, name) in enumerate(zip(dff['value'], dff['name'])):\n",
    "#         ax.text(value-dx, i,     name,           size=14, weight=600, ha='right', va='bottom')\n",
    "#         ax.text(value-dx, i-.25, group_lk[name], size=10, color='#444444', ha='right', va='baseline')\n",
    "#         ax.text(value+dx, i,     f'{value:,.0f}',  size=14, ha='left',  va='center')\n",
    "#     ax.text(1, 0.4, current_day, transform=ax.transAxes, color='#777777', size=46, ha='right', weight=800)\n",
    "#     ax.text(0, 1.06, 'Population (thousands)', transform=ax.transAxes, size=12, color='#777777')\n",
    "#     ax.xaxis.set_major_formatter(ticker.StrMethodFormatter('{x:,.0f}'))\n",
    "#     ax.xaxis.set_ticks_position('top')\n",
    "#     ax.tick_params(axis='x', colors='#777777', labelsize=12)\n",
    "#     ax.set_yticks([])\n",
    "#     ax.margins(0, 0.01)\n",
    "#     ax.grid(which='major', axis='x', linestyle='-')\n",
    "#     ax.set_axisbelow(True)\n",
    "    \n",
    "#     ax.text(0, 1.15, 'Coronavirus',\n",
    "#             transform=ax.transAxes, size=24, weight=600, ha='left', va='top')\n",
    "# #     ax.text(1, 0, 'by @pratapvardhan; credit @jburnmurdoch', transform=ax.transAxes, color='#777777', ha='right',\n",
    "# #             bbox=dict(facecolor='white', alpha=0.8, edgecolor='white'))\n",
    "#     plt.box(False)"
   ]
  },
  {
   "cell_type": "code",
   "execution_count": 42,
   "metadata": {
    "execution": {
     "iopub.execute_input": "2021-01-04T00:23:54.133780Z",
     "iopub.status.busy": "2021-01-04T00:23:54.133179Z",
     "iopub.status.idle": "2021-01-04T00:23:54.135732Z",
     "shell.execute_reply": "2021-01-04T00:23:54.135263Z"
    },
    "papermill": {
     "duration": 0.037223,
     "end_time": "2021-01-04T00:23:54.135861",
     "exception": false,
     "start_time": "2021-01-04T00:23:54.098638",
     "status": "completed"
    },
    "tags": []
   },
   "outputs": [],
   "source": [
    "# #hide_input\n",
    "# fig, ax = plt.subplots(figsize=(15, 8))\n",
    "# animator = animation.FuncAnimation(fig, draw_barchart, frames=range(g.day.values.min(), g.day.values.max()))\n",
    "# HTML(animator.to_jshtml())\n",
    "# # or use animator.to_html5_video() or animator.save() "
   ]
  },
  {
   "cell_type": "code",
   "execution_count": null,
   "metadata": {
    "papermill": {
     "duration": 0.030891,
     "end_time": "2021-01-04T00:23:54.198891",
     "exception": false,
     "start_time": "2021-01-04T00:23:54.168000",
     "status": "completed"
    },
    "tags": []
   },
   "outputs": [],
   "source": []
  },
  {
   "cell_type": "code",
   "execution_count": null,
   "metadata": {
    "papermill": {
     "duration": 0.031146,
     "end_time": "2021-01-04T00:23:54.260995",
     "exception": false,
     "start_time": "2021-01-04T00:23:54.229849",
     "status": "completed"
    },
    "tags": []
   },
   "outputs": [],
   "source": []
  },
  {
   "cell_type": "code",
   "execution_count": null,
   "metadata": {
    "papermill": {
     "duration": 0.032222,
     "end_time": "2021-01-04T00:23:54.330653",
     "exception": false,
     "start_time": "2021-01-04T00:23:54.298431",
     "status": "completed"
    },
    "tags": []
   },
   "outputs": [],
   "source": []
  }
 ],
 "metadata": {
  "kernelspec": {
   "display_name": "Python 3",
   "language": "python",
   "name": "python3"
  },
  "language_info": {
   "codemirror_mode": {
    "name": "ipython",
    "version": 3
   },
   "file_extension": ".py",
   "mimetype": "text/x-python",
   "name": "python",
   "nbconvert_exporter": "python",
   "pygments_lexer": "ipython3",
   "version": "3.6.12"
  },
  "papermill": {
   "duration": 6.75728,
   "end_time": "2021-01-04T00:23:54.668962",
   "environment_variables": {},
   "exception": null,
   "input_path": "2020-03-21-covid19exp.ipynb",
   "output_path": "2020-03-21-covid19exp.ipynb",
   "parameters": {},
   "start_time": "2021-01-04T00:23:47.911682",
   "version": "2.0.0"
  }
 },
 "nbformat": 4,
 "nbformat_minor": 4
}