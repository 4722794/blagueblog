{
 "cells": [
  {
   "cell_type": "markdown",
   "id": "muslim-click",
   "metadata": {
    "papermill": {
     "duration": 0.042432,
     "end_time": "2021-10-10T00:24:39.524646",
     "exception": false,
     "start_time": "2021-10-10T00:24:39.482214",
     "status": "completed"
    },
    "tags": []
   },
   "source": [
    "# COVID-19 Case Race\n",
    "> A race chart to see rising cases around the world\n",
    "\n",
    "- author: Hargun Oberoi\n",
    "- image: images/covid-overview.png\n",
    "- hide: false\n",
    "- badges: false"
   ]
  },
  {
   "cell_type": "code",
   "execution_count": 1,
   "id": "proof-material",
   "metadata": {
    "execution": {
     "iopub.execute_input": "2021-10-10T00:24:39.610349Z",
     "iopub.status.busy": "2021-10-10T00:24:39.609737Z",
     "iopub.status.idle": "2021-10-10T00:24:39.979029Z",
     "shell.execute_reply": "2021-10-10T00:24:39.978435Z"
    },
    "papermill": {
     "duration": 0.416805,
     "end_time": "2021-10-10T00:24:39.979187",
     "exception": false,
     "start_time": "2021-10-10T00:24:39.562382",
     "status": "completed"
    },
    "tags": []
   },
   "outputs": [],
   "source": [
    "#hide\n",
    "import numpy as np\n",
    "import pandas as pd\n",
    "from jinja2 import Template\n",
    "from IPython.display import HTML"
   ]
  },
  {
   "cell_type": "code",
   "execution_count": 2,
   "id": "developed-terminology",
   "metadata": {
    "execution": {
     "iopub.execute_input": "2021-10-10T00:24:40.053700Z",
     "iopub.status.busy": "2021-10-10T00:24:40.053081Z",
     "iopub.status.idle": "2021-10-10T00:24:40.055861Z",
     "shell.execute_reply": "2021-10-10T00:24:40.055375Z"
    },
    "papermill": {
     "duration": 0.043365,
     "end_time": "2021-10-10T00:24:40.055990",
     "exception": false,
     "start_time": "2021-10-10T00:24:40.012625",
     "status": "completed"
    },
    "tags": []
   },
   "outputs": [],
   "source": [
    "#hide\n",
    "\n",
    "# FETCH\n",
    "base_url = 'https://raw.githubusercontent.com/pratapvardhan/notebooks/master/covid19/'\n",
    "paths = {\n",
    "    'mapping': base_url + 'mapping_countries.csv',\n",
    "    'overview': base_url + 'overview.tpl'\n",
    "}"
   ]
  },
  {
   "cell_type": "code",
   "execution_count": 3,
   "id": "dynamic-saver",
   "metadata": {
    "execution": {
     "iopub.execute_input": "2021-10-10T00:24:40.134543Z",
     "iopub.status.busy": "2021-10-10T00:24:40.133864Z",
     "iopub.status.idle": "2021-10-10T00:24:40.136263Z",
     "shell.execute_reply": "2021-10-10T00:24:40.136785Z"
    },
    "papermill": {
     "duration": 0.047829,
     "end_time": "2021-10-10T00:24:40.137000",
     "exception": false,
     "start_time": "2021-10-10T00:24:40.089171",
     "status": "completed"
    },
    "tags": []
   },
   "outputs": [
    {
     "data": {
      "text/plain": [
       "'https://raw.githubusercontent.com/pratapvardhan/notebooks/master/covid19/mapping_countries.csv'"
      ]
     },
     "execution_count": 3,
     "metadata": {},
     "output_type": "execute_result"
    }
   ],
   "source": [
    "#hide\n",
    "paths['mapping']"
   ]
  },
  {
   "cell_type": "code",
   "execution_count": 4,
   "id": "urban-software",
   "metadata": {
    "execution": {
     "iopub.execute_input": "2021-10-10T00:24:40.216916Z",
     "iopub.status.busy": "2021-10-10T00:24:40.216280Z",
     "iopub.status.idle": "2021-10-10T00:24:40.218640Z",
     "shell.execute_reply": "2021-10-10T00:24:40.218132Z"
    },
    "papermill": {
     "duration": 0.044675,
     "end_time": "2021-10-10T00:24:40.218902",
     "exception": false,
     "start_time": "2021-10-10T00:24:40.174227",
     "status": "completed"
    },
    "tags": []
   },
   "outputs": [],
   "source": [
    "#hide\n",
    "def get_mappings(url):\n",
    "    df = pd.read_csv(url)\n",
    "    return {\n",
    "        'df': df,\n",
    "        'replace.country': dict(df.dropna(subset=['Name']).set_index('Country')['Name']),\n",
    "        'map.continent': dict(df.set_index('Name')['Continent'])\n",
    "    }"
   ]
  },
  {
   "cell_type": "code",
   "execution_count": 5,
   "id": "intimate-machinery",
   "metadata": {
    "execution": {
     "iopub.execute_input": "2021-10-10T00:24:40.310681Z",
     "iopub.status.busy": "2021-10-10T00:24:40.310077Z",
     "iopub.status.idle": "2021-10-10T00:24:40.344863Z",
     "shell.execute_reply": "2021-10-10T00:24:40.343572Z"
    },
    "papermill": {
     "duration": 0.077786,
     "end_time": "2021-10-10T00:24:40.345011",
     "exception": false,
     "start_time": "2021-10-10T00:24:40.267225",
     "status": "completed"
    },
    "tags": []
   },
   "outputs": [],
   "source": [
    "#hide\n",
    "mapping = get_mappings(paths['mapping'])"
   ]
  },
  {
   "cell_type": "code",
   "execution_count": 6,
   "id": "certified-tactics",
   "metadata": {
    "execution": {
     "iopub.execute_input": "2021-10-10T00:24:40.423386Z",
     "iopub.status.busy": "2021-10-10T00:24:40.420992Z",
     "iopub.status.idle": "2021-10-10T00:24:40.424317Z",
     "shell.execute_reply": "2021-10-10T00:24:40.424852Z"
    },
    "papermill": {
     "duration": 0.045003,
     "end_time": "2021-10-10T00:24:40.424998",
     "exception": false,
     "start_time": "2021-10-10T00:24:40.379995",
     "status": "completed"
    },
    "tags": []
   },
   "outputs": [],
   "source": [
    "#hide\n",
    "def get_template(path):\n",
    "    from urllib.parse import urlparse\n",
    "    if bool(urlparse(path).netloc):\n",
    "        from urllib.request import urlopen\n",
    "        return urlopen(path).read().decode('utf8')\n",
    "    return open(path).read()"
   ]
  },
  {
   "cell_type": "code",
   "execution_count": 7,
   "id": "realistic-blast",
   "metadata": {
    "execution": {
     "iopub.execute_input": "2021-10-10T00:24:40.506757Z",
     "iopub.status.busy": "2021-10-10T00:24:40.506138Z",
     "iopub.status.idle": "2021-10-10T00:24:40.508635Z",
     "shell.execute_reply": "2021-10-10T00:24:40.509212Z"
    },
    "papermill": {
     "duration": 0.047482,
     "end_time": "2021-10-10T00:24:40.509363",
     "exception": false,
     "start_time": "2021-10-10T00:24:40.461881",
     "status": "completed"
    },
    "tags": []
   },
   "outputs": [],
   "source": [
    "#hide\n",
    "def get_frame(name):\n",
    "    url = (\n",
    "        'https://raw.githubusercontent.com/CSSEGISandData/COVID-19/master/csse_covid_19_data/'\n",
    "        f'csse_covid_19_time_series/time_series_covid19_{name}_global.csv')\n",
    "    df = pd.read_csv(url)\n",
    "    # rename countries\n",
    "    df['Country/Region'] = df['Country/Region'].replace(mapping['replace.country'])\n",
    "    return df"
   ]
  },
  {
   "cell_type": "code",
   "execution_count": 8,
   "id": "affiliated-characterization",
   "metadata": {
    "execution": {
     "iopub.execute_input": "2021-10-10T00:24:40.586153Z",
     "iopub.status.busy": "2021-10-10T00:24:40.584725Z",
     "iopub.status.idle": "2021-10-10T00:24:40.586820Z",
     "shell.execute_reply": "2021-10-10T00:24:40.587276Z"
    },
    "papermill": {
     "duration": 0.044209,
     "end_time": "2021-10-10T00:24:40.587411",
     "exception": false,
     "start_time": "2021-10-10T00:24:40.543202",
     "status": "completed"
    },
    "tags": []
   },
   "outputs": [],
   "source": [
    "#hide\n",
    "def get_dates(df):\n",
    "    dt_cols = df.columns[~df.columns.isin(['Province/State', 'Country/Region', 'Lat', 'Long'])]\n",
    "    LAST_DATE_I = -1\n",
    "    # sometimes last column may be empty, then go backwards\n",
    "    for i in range(-1, -len(dt_cols), -1):\n",
    "        if not df[dt_cols[i]].fillna(0).eq(0).all():\n",
    "            LAST_DATE_I = i\n",
    "            break\n",
    "    return LAST_DATE_I, dt_cols"
   ]
  },
  {
   "cell_type": "code",
   "execution_count": 9,
   "id": "recent-optimization",
   "metadata": {
    "execution": {
     "iopub.execute_input": "2021-10-10T00:24:40.660643Z",
     "iopub.status.busy": "2021-10-10T00:24:40.659932Z",
     "iopub.status.idle": "2021-10-10T00:24:40.994998Z",
     "shell.execute_reply": "2021-10-10T00:24:40.994399Z"
    },
    "papermill": {
     "duration": 0.374376,
     "end_time": "2021-10-10T00:24:40.995157",
     "exception": false,
     "start_time": "2021-10-10T00:24:40.620781",
     "status": "completed"
    },
    "tags": []
   },
   "outputs": [],
   "source": [
    "#hide\n",
    "COL_REGION = 'Country/Region'\n",
    "# Confirmed, Recovered, Deaths\n",
    "df = get_frame('confirmed')\n",
    "# dft_: timeseries, dfc_: today country agg\n",
    "dft_cases = df\n",
    "dft_deaths = get_frame('deaths')\n",
    "dft_recovered = get_frame('recovered')\n",
    "LAST_DATE_I, dt_cols = get_dates(df)"
   ]
  },
  {
   "cell_type": "code",
   "execution_count": 10,
   "id": "absolute-copper",
   "metadata": {
    "execution": {
     "iopub.execute_input": "2021-10-10T00:24:41.073478Z",
     "iopub.status.busy": "2021-10-10T00:24:41.072869Z",
     "iopub.status.idle": "2021-10-10T00:24:41.074508Z",
     "shell.execute_reply": "2021-10-10T00:24:41.075056Z"
    },
    "papermill": {
     "duration": 0.044634,
     "end_time": "2021-10-10T00:24:41.075201",
     "exception": false,
     "start_time": "2021-10-10T00:24:41.030567",
     "status": "completed"
    },
    "tags": []
   },
   "outputs": [],
   "source": [
    "#hide\n",
    "LAST_DATE_I, dt_cols = get_dates(df)\n",
    "dt_today =dt_cols[LAST_DATE_I]\n",
    "# dt_5day = dt_cols[LAST_DATE_I - 5]\n",
    "dt_yday = dt_cols[LAST_DATE_I - 1]"
   ]
  },
  {
   "cell_type": "code",
   "execution_count": 11,
   "id": "restricted-sheriff",
   "metadata": {
    "execution": {
     "iopub.execute_input": "2021-10-10T00:24:41.153244Z",
     "iopub.status.busy": "2021-10-10T00:24:41.152628Z",
     "iopub.status.idle": "2021-10-10T00:24:41.158827Z",
     "shell.execute_reply": "2021-10-10T00:24:41.159351Z"
    },
    "papermill": {
     "duration": 0.050711,
     "end_time": "2021-10-10T00:24:41.159501",
     "exception": false,
     "start_time": "2021-10-10T00:24:41.108790",
     "status": "completed"
    },
    "tags": []
   },
   "outputs": [],
   "source": [
    "#hide\n",
    "dfc_cases = dft_cases.groupby(COL_REGION)[dt_today].sum()\n",
    "dfc_deaths = dft_deaths.groupby(COL_REGION)[dt_today].sum()\n",
    "# dfp_cases = dft_cases.groupby(COL_REGION)[dt_5day].sum()\n",
    "# dfp_deaths = dft_deaths.groupby(COL_REGION)[dt_5day].sum()\n",
    "dfp_cases = dft_cases.groupby(COL_REGION)[dt_yday].sum()\n",
    "dfp_deaths = dft_deaths.groupby(COL_REGION)[dt_yday].sum()"
   ]
  },
  {
   "cell_type": "code",
   "execution_count": 12,
   "id": "deluxe-hepatitis",
   "metadata": {
    "execution": {
     "iopub.execute_input": "2021-10-10T00:24:41.235601Z",
     "iopub.status.busy": "2021-10-10T00:24:41.235005Z",
     "iopub.status.idle": "2021-10-10T00:24:41.239944Z",
     "shell.execute_reply": "2021-10-10T00:24:41.239471Z"
    },
    "papermill": {
     "duration": 0.046418,
     "end_time": "2021-10-10T00:24:41.240072",
     "exception": false,
     "start_time": "2021-10-10T00:24:41.193654",
     "status": "completed"
    },
    "tags": []
   },
   "outputs": [],
   "source": [
    "#hide\n",
    "df_table = (pd.DataFrame(dict(Cases = dfc_cases, Deaths = dfc_deaths, PCases = dfp_cases, PDeaths = dfp_deaths))\n",
    "            .sort_values(by = ['Cases','Deaths'], ascending = [False, False])\n",
    "            .reset_index())"
   ]
  },
  {
   "cell_type": "code",
   "execution_count": 13,
   "id": "educational-chancellor",
   "metadata": {
    "execution": {
     "iopub.execute_input": "2021-10-10T00:24:41.328953Z",
     "iopub.status.busy": "2021-10-10T00:24:41.315753Z",
     "iopub.status.idle": "2021-10-10T00:24:41.338318Z",
     "shell.execute_reply": "2021-10-10T00:24:41.337840Z"
    },
    "papermill": {
     "duration": 0.064748,
     "end_time": "2021-10-10T00:24:41.338448",
     "exception": false,
     "start_time": "2021-10-10T00:24:41.273700",
     "status": "completed"
    },
    "tags": []
   },
   "outputs": [
    {
     "data": {
      "text/html": [
       "<div>\n",
       "<style scoped>\n",
       "    .dataframe tbody tr th:only-of-type {\n",
       "        vertical-align: middle;\n",
       "    }\n",
       "\n",
       "    .dataframe tbody tr th {\n",
       "        vertical-align: top;\n",
       "    }\n",
       "\n",
       "    .dataframe thead th {\n",
       "        text-align: right;\n",
       "    }\n",
       "</style>\n",
       "<table border=\"1\" class=\"dataframe\">\n",
       "  <thead>\n",
       "    <tr style=\"text-align: right;\">\n",
       "      <th></th>\n",
       "      <th>Country/Region</th>\n",
       "      <th>Cases</th>\n",
       "      <th>Deaths</th>\n",
       "      <th>PCases</th>\n",
       "      <th>PDeaths</th>\n",
       "      <th>Cases (+)</th>\n",
       "      <th>Deaths (+)</th>\n",
       "      <th>Fatality Rate</th>\n",
       "      <th>Continent</th>\n",
       "    </tr>\n",
       "  </thead>\n",
       "  <tbody>\n",
       "    <tr>\n",
       "      <th>0</th>\n",
       "      <td>US</td>\n",
       "      <td>44290052</td>\n",
       "      <td>712693</td>\n",
       "      <td>44158910</td>\n",
       "      <td>710173</td>\n",
       "      <td>131142</td>\n",
       "      <td>2520</td>\n",
       "      <td>1.61</td>\n",
       "      <td>North America</td>\n",
       "    </tr>\n",
       "    <tr>\n",
       "      <th>1</th>\n",
       "      <td>India</td>\n",
       "      <td>33935309</td>\n",
       "      <td>450375</td>\n",
       "      <td>33915569</td>\n",
       "      <td>450127</td>\n",
       "      <td>19740</td>\n",
       "      <td>248</td>\n",
       "      <td>1.33</td>\n",
       "      <td>Asia</td>\n",
       "    </tr>\n",
       "    <tr>\n",
       "      <th>2</th>\n",
       "      <td>Brazil</td>\n",
       "      <td>21550730</td>\n",
       "      <td>600425</td>\n",
       "      <td>21532558</td>\n",
       "      <td>599810</td>\n",
       "      <td>18172</td>\n",
       "      <td>615</td>\n",
       "      <td>2.79</td>\n",
       "      <td>South America</td>\n",
       "    </tr>\n",
       "    <tr>\n",
       "      <th>3</th>\n",
       "      <td>United Kingdom</td>\n",
       "      <td>8119442</td>\n",
       "      <td>137945</td>\n",
       "      <td>8084322</td>\n",
       "      <td>137818</td>\n",
       "      <td>35120</td>\n",
       "      <td>127</td>\n",
       "      <td>1.70</td>\n",
       "      <td>Europe</td>\n",
       "    </tr>\n",
       "    <tr>\n",
       "      <th>4</th>\n",
       "      <td>Russia</td>\n",
       "      <td>7602386</td>\n",
       "      <td>210673</td>\n",
       "      <td>7575825</td>\n",
       "      <td>209752</td>\n",
       "      <td>26561</td>\n",
       "      <td>921</td>\n",
       "      <td>2.77</td>\n",
       "      <td>Europe</td>\n",
       "    </tr>\n",
       "  </tbody>\n",
       "</table>\n",
       "</div>"
      ],
      "text/plain": [
       "   Country/Region     Cases  Deaths    PCases  PDeaths  Cases (+)  Deaths (+)  \\\n",
       "0              US  44290052  712693  44158910   710173     131142        2520   \n",
       "1           India  33935309  450375  33915569   450127      19740         248   \n",
       "2          Brazil  21550730  600425  21532558   599810      18172         615   \n",
       "3  United Kingdom   8119442  137945   8084322   137818      35120         127   \n",
       "4          Russia   7602386  210673   7575825   209752      26561         921   \n",
       "\n",
       "   Fatality Rate      Continent  \n",
       "0           1.61  North America  \n",
       "1           1.33           Asia  \n",
       "2           2.79  South America  \n",
       "3           1.70         Europe  \n",
       "4           2.77         Europe  "
      ]
     },
     "execution_count": 13,
     "metadata": {},
     "output_type": "execute_result"
    }
   ],
   "source": [
    "#hide\n",
    "for c in 'Cases, Deaths'.split(', '):\n",
    "    df_table[f'{c} (+)'] = (df_table[c] - df_table[f'P{c}']).clip(0)\n",
    "    #Clip ça veut dire, les chiffres negatif sont interdit\n",
    "df_table['Fatality Rate'] = (100* df_table['Deaths']/ df_table['Cases']).round(2)\n",
    "df_table['Continent'] = df_table['Country/Region'].map(mapping['map.continent'])\n",
    "df_table.head(5)"
   ]
  },
  {
   "cell_type": "code",
   "execution_count": 14,
   "id": "aboriginal-bulgaria",
   "metadata": {
    "execution": {
     "iopub.execute_input": "2021-10-10T00:24:41.414647Z",
     "iopub.status.busy": "2021-10-10T00:24:41.414051Z",
     "iopub.status.idle": "2021-10-10T00:24:41.416859Z",
     "shell.execute_reply": "2021-10-10T00:24:41.417313Z"
    },
    "papermill": {
     "duration": 0.044692,
     "end_time": "2021-10-10T00:24:41.417461",
     "exception": false,
     "start_time": "2021-10-10T00:24:41.372769",
     "status": "completed"
    },
    "tags": []
   },
   "outputs": [],
   "source": [
    "#hide\n",
    "#delete problematic countries from table\n",
    "df_table = df_table[~df_table['Country/Region'].isin(['Cape Verde', 'Cruise Ship', 'Kosovo'])]"
   ]
  },
  {
   "cell_type": "code",
   "execution_count": 15,
   "id": "fantastic-effect",
   "metadata": {
    "execution": {
     "iopub.execute_input": "2021-10-10T00:24:41.493816Z",
     "iopub.status.busy": "2021-10-10T00:24:41.493211Z",
     "iopub.status.idle": "2021-10-10T00:24:41.512028Z",
     "shell.execute_reply": "2021-10-10T00:24:41.512717Z"
    },
    "papermill": {
     "duration": 0.061614,
     "end_time": "2021-10-10T00:24:41.512912",
     "exception": false,
     "start_time": "2021-10-10T00:24:41.451298",
     "status": "completed"
    },
    "tags": []
   },
   "outputs": [
    {
     "data": {
      "text/html": [
       "<div>\n",
       "<style scoped>\n",
       "    .dataframe tbody tr th:only-of-type {\n",
       "        vertical-align: middle;\n",
       "    }\n",
       "\n",
       "    .dataframe tbody tr th {\n",
       "        vertical-align: top;\n",
       "    }\n",
       "\n",
       "    .dataframe thead th {\n",
       "        text-align: right;\n",
       "    }\n",
       "</style>\n",
       "<table border=\"1\" class=\"dataframe\">\n",
       "  <thead>\n",
       "    <tr style=\"text-align: right;\">\n",
       "      <th></th>\n",
       "      <th>Country/Region</th>\n",
       "      <th>Cases</th>\n",
       "      <th>Deaths</th>\n",
       "      <th>PCases</th>\n",
       "      <th>PDeaths</th>\n",
       "      <th>Cases (+)</th>\n",
       "      <th>Deaths (+)</th>\n",
       "      <th>Fatality Rate</th>\n",
       "      <th>Continent</th>\n",
       "    </tr>\n",
       "  </thead>\n",
       "  <tbody>\n",
       "    <tr>\n",
       "      <th>0</th>\n",
       "      <td>US</td>\n",
       "      <td>44290052</td>\n",
       "      <td>712693</td>\n",
       "      <td>44158910</td>\n",
       "      <td>710173</td>\n",
       "      <td>131142</td>\n",
       "      <td>2520</td>\n",
       "      <td>1.6</td>\n",
       "      <td>North America</td>\n",
       "    </tr>\n",
       "    <tr>\n",
       "      <th>1</th>\n",
       "      <td>India</td>\n",
       "      <td>33935309</td>\n",
       "      <td>450375</td>\n",
       "      <td>33915569</td>\n",
       "      <td>450127</td>\n",
       "      <td>19740</td>\n",
       "      <td>248</td>\n",
       "      <td>1.3</td>\n",
       "      <td>Asia</td>\n",
       "    </tr>\n",
       "    <tr>\n",
       "      <th>2</th>\n",
       "      <td>Brazil</td>\n",
       "      <td>21550730</td>\n",
       "      <td>600425</td>\n",
       "      <td>21532558</td>\n",
       "      <td>599810</td>\n",
       "      <td>18172</td>\n",
       "      <td>615</td>\n",
       "      <td>2.8</td>\n",
       "      <td>South America</td>\n",
       "    </tr>\n",
       "    <tr>\n",
       "      <th>3</th>\n",
       "      <td>United Kingdom</td>\n",
       "      <td>8119442</td>\n",
       "      <td>137945</td>\n",
       "      <td>8084322</td>\n",
       "      <td>137818</td>\n",
       "      <td>35120</td>\n",
       "      <td>127</td>\n",
       "      <td>1.7</td>\n",
       "      <td>Europe</td>\n",
       "    </tr>\n",
       "    <tr>\n",
       "      <th>4</th>\n",
       "      <td>Russia</td>\n",
       "      <td>7602386</td>\n",
       "      <td>210673</td>\n",
       "      <td>7575825</td>\n",
       "      <td>209752</td>\n",
       "      <td>26561</td>\n",
       "      <td>921</td>\n",
       "      <td>2.8</td>\n",
       "      <td>Europe</td>\n",
       "    </tr>\n",
       "  </tbody>\n",
       "</table>\n",
       "</div>"
      ],
      "text/plain": [
       "   Country/Region     Cases  Deaths    PCases  PDeaths  Cases (+)  Deaths (+)  \\\n",
       "0              US  44290052  712693  44158910   710173     131142        2520   \n",
       "1           India  33935309  450375  33915569   450127      19740         248   \n",
       "2          Brazil  21550730  600425  21532558   599810      18172         615   \n",
       "3  United Kingdom   8119442  137945   8084322   137818      35120         127   \n",
       "4          Russia   7602386  210673   7575825   209752      26561         921   \n",
       "\n",
       "   Fatality Rate      Continent  \n",
       "0            1.6  North America  \n",
       "1            1.3           Asia  \n",
       "2            2.8  South America  \n",
       "3            1.7         Europe  \n",
       "4            2.8         Europe  "
      ]
     },
     "execution_count": 15,
     "metadata": {},
     "output_type": "execute_result"
    }
   ],
   "source": [
    "#hide\n",
    "df_table = (pd.DataFrame(dict(Cases=dfc_cases, Deaths=dfc_deaths, PCases=dfp_cases, PDeaths=dfp_deaths))\n",
    "             .sort_values(by=['Cases', 'Deaths'], ascending=[False, False])\n",
    "             .reset_index())\n",
    "df_table.rename(columns={'index': 'Country/Region'}, inplace=True)\n",
    "for c in 'Cases, Deaths'.split(', '):\n",
    "    df_table[f'{c} (+)'] = (df_table[c] - df_table[f'P{c}']).clip(0)  # DATA BUG\n",
    "df_table['Fatality Rate'] = (100 * df_table['Deaths'] / df_table['Cases']).round(1)\n",
    "df_table['Continent'] = df_table['Country/Region'].map(mapping['map.continent'])\n",
    "df_table.head(5)"
   ]
  },
  {
   "cell_type": "code",
   "execution_count": 16,
   "id": "fewer-occasion",
   "metadata": {
    "execution": {
     "iopub.execute_input": "2021-10-10T00:24:41.591595Z",
     "iopub.status.busy": "2021-10-10T00:24:41.591000Z",
     "iopub.status.idle": "2021-10-10T00:24:41.593300Z",
     "shell.execute_reply": "2021-10-10T00:24:41.592793Z"
    },
    "papermill": {
     "duration": 0.044823,
     "end_time": "2021-10-10T00:24:41.593423",
     "exception": false,
     "start_time": "2021-10-10T00:24:41.548600",
     "status": "completed"
    },
    "tags": []
   },
   "outputs": [],
   "source": [
    "#hide\n",
    "#delete problematic countries from table\n",
    "df_table = df_table[~df_table['Country/Region'].isin(['Cape Verde', 'Cruise Ship', 'Kosovo'])]"
   ]
  },
  {
   "cell_type": "code",
   "execution_count": 17,
   "id": "related-center",
   "metadata": {
    "execution": {
     "iopub.execute_input": "2021-10-10T00:24:41.685382Z",
     "iopub.status.busy": "2021-10-10T00:24:41.684753Z",
     "iopub.status.idle": "2021-10-10T00:24:41.686916Z",
     "shell.execute_reply": "2021-10-10T00:24:41.686329Z"
    },
    "papermill": {
     "duration": 0.059166,
     "end_time": "2021-10-10T00:24:41.687043",
     "exception": false,
     "start_time": "2021-10-10T00:24:41.627877",
     "status": "completed"
    },
    "tags": []
   },
   "outputs": [],
   "source": [
    "#hide\n",
    "metrics = [df_table.columns[index] for index in [1,2,5,6]]\n",
    "# s_china = df_table[df_table['Country/Region'].eq('China')][metrics].sum().add_prefix('China ')\n",
    "s_us = df_table[df_table['Country/Region'].eq('US')][metrics].sum().add_prefix('US ')\n",
    "s_eu = df_table[df_table['Continent'].eq('Europe')][metrics].sum().add_prefix('EU ')\n",
    "s_ind = df_table[df_table['Country/Region'].eq('India')][metrics].sum().add_prefix('India ')\n",
    "summary = {'updated': pd.to_datetime(dt_today), 'since': pd.to_datetime(dt_yday)}\n",
    "summary = {'updated': pd.to_datetime(dt_today), 'since': pd.to_datetime(dt_yday)}\n",
    "summary = {**summary, **df_table[metrics].sum(), **s_ind, **s_us, **s_eu}"
   ]
  },
  {
   "cell_type": "code",
   "execution_count": 18,
   "id": "engaging-syndrome",
   "metadata": {
    "execution": {
     "iopub.execute_input": "2021-10-10T00:24:41.763290Z",
     "iopub.status.busy": "2021-10-10T00:24:41.762686Z",
     "iopub.status.idle": "2021-10-10T00:24:41.778297Z",
     "shell.execute_reply": "2021-10-10T00:24:41.777811Z"
    },
    "papermill": {
     "duration": 0.056284,
     "end_time": "2021-10-10T00:24:41.778429",
     "exception": false,
     "start_time": "2021-10-10T00:24:41.722145",
     "status": "completed"
    },
    "tags": []
   },
   "outputs": [],
   "source": [
    "#hide\n",
    "dft_ct_new_cases = dft_cases.groupby(COL_REGION)[dt_cols].sum().diff(axis=1).fillna(0).astype(int)"
   ]
  },
  {
   "cell_type": "code",
   "execution_count": 19,
   "id": "neutral-assignment",
   "metadata": {
    "execution": {
     "iopub.execute_input": "2021-10-10T00:24:41.853308Z",
     "iopub.status.busy": "2021-10-10T00:24:41.852708Z",
     "iopub.status.idle": "2021-10-10T00:24:41.857693Z",
     "shell.execute_reply": "2021-10-10T00:24:41.857214Z"
    },
    "papermill": {
     "duration": 0.045449,
     "end_time": "2021-10-10T00:24:41.857821",
     "exception": false,
     "start_time": "2021-10-10T00:24:41.812372",
     "status": "completed"
    },
    "tags": []
   },
   "outputs": [],
   "source": [
    "#hide\n",
    "everydaycases = dft_ct_new_cases.cumsum(axis=1)"
   ]
  },
  {
   "cell_type": "code",
   "execution_count": 20,
   "id": "parliamentary-calgary",
   "metadata": {
    "execution": {
     "iopub.execute_input": "2021-10-10T00:24:41.932426Z",
     "iopub.status.busy": "2021-10-10T00:24:41.931823Z",
     "iopub.status.idle": "2021-10-10T00:24:42.663422Z",
     "shell.execute_reply": "2021-10-10T00:24:42.663929Z"
    },
    "papermill": {
     "duration": 0.771474,
     "end_time": "2021-10-10T00:24:42.664100",
     "exception": false,
     "start_time": "2021-10-10T00:24:41.892626",
     "status": "completed"
    },
    "tags": []
   },
   "outputs": [],
   "source": [
    "#hide\n",
    "import pandas as pd\n",
    "import matplotlib.pyplot as plt\n",
    "import matplotlib.ticker as ticker\n",
    "import matplotlib.animation as animation\n",
    "from IPython.display import HTML"
   ]
  },
  {
   "cell_type": "code",
   "execution_count": 21,
   "id": "lasting-extraction",
   "metadata": {
    "execution": {
     "iopub.execute_input": "2021-10-10T00:24:42.744019Z",
     "iopub.status.busy": "2021-10-10T00:24:42.743419Z",
     "iopub.status.idle": "2021-10-10T00:24:42.749910Z",
     "shell.execute_reply": "2021-10-10T00:24:42.750416Z"
    },
    "papermill": {
     "duration": 0.049118,
     "end_time": "2021-10-10T00:24:42.750561",
     "exception": false,
     "start_time": "2021-10-10T00:24:42.701443",
     "status": "completed"
    },
    "tags": []
   },
   "outputs": [],
   "source": [
    "#hide\n",
    "t = everydaycases.stack()"
   ]
  },
  {
   "cell_type": "code",
   "execution_count": 22,
   "id": "premier-sleeve",
   "metadata": {
    "execution": {
     "iopub.execute_input": "2021-10-10T00:24:42.825721Z",
     "iopub.status.busy": "2021-10-10T00:24:42.825111Z",
     "iopub.status.idle": "2021-10-10T00:24:42.835635Z",
     "shell.execute_reply": "2021-10-10T00:24:42.836112Z"
    },
    "papermill": {
     "duration": 0.051003,
     "end_time": "2021-10-10T00:24:42.836261",
     "exception": false,
     "start_time": "2021-10-10T00:24:42.785258",
     "status": "completed"
    },
    "tags": []
   },
   "outputs": [],
   "source": [
    "#hide\n",
    "g = t.reset_index(['Country/Region'])"
   ]
  },
  {
   "cell_type": "code",
   "execution_count": 23,
   "id": "distributed-pittsburgh",
   "metadata": {
    "execution": {
     "iopub.execute_input": "2021-10-10T00:24:42.909567Z",
     "iopub.status.busy": "2021-10-10T00:24:42.908964Z",
     "iopub.status.idle": "2021-10-10T00:24:42.911225Z",
     "shell.execute_reply": "2021-10-10T00:24:42.910724Z"
    },
    "papermill": {
     "duration": 0.040787,
     "end_time": "2021-10-10T00:24:42.911349",
     "exception": false,
     "start_time": "2021-10-10T00:24:42.870562",
     "status": "completed"
    },
    "tags": []
   },
   "outputs": [],
   "source": [
    "#hide\n",
    "g.index.name = 'date'"
   ]
  },
  {
   "cell_type": "code",
   "execution_count": 24,
   "id": "naked-donor",
   "metadata": {
    "execution": {
     "iopub.execute_input": "2021-10-10T00:24:42.985422Z",
     "iopub.status.busy": "2021-10-10T00:24:42.984803Z",
     "iopub.status.idle": "2021-10-10T00:24:42.987661Z",
     "shell.execute_reply": "2021-10-10T00:24:42.988228Z"
    },
    "papermill": {
     "duration": 0.042409,
     "end_time": "2021-10-10T00:24:42.988374",
     "exception": false,
     "start_time": "2021-10-10T00:24:42.945965",
     "status": "completed"
    },
    "tags": []
   },
   "outputs": [],
   "source": [
    "# #hide\n",
    "# g = g.reset_index(['date'])"
   ]
  },
  {
   "cell_type": "code",
   "execution_count": 25,
   "id": "incomplete-mustang",
   "metadata": {
    "execution": {
     "iopub.execute_input": "2021-10-10T00:24:43.062450Z",
     "iopub.status.busy": "2021-10-10T00:24:43.061862Z",
     "iopub.status.idle": "2021-10-10T00:24:43.064202Z",
     "shell.execute_reply": "2021-10-10T00:24:43.063705Z"
    },
    "papermill": {
     "duration": 0.041497,
     "end_time": "2021-10-10T00:24:43.064324",
     "exception": false,
     "start_time": "2021-10-10T00:24:43.022827",
     "status": "completed"
    },
    "tags": []
   },
   "outputs": [],
   "source": [
    "#hide\n",
    "# g.head()"
   ]
  },
  {
   "cell_type": "code",
   "execution_count": 26,
   "id": "specific-kruger",
   "metadata": {
    "execution": {
     "iopub.execute_input": "2021-10-10T00:24:43.138240Z",
     "iopub.status.busy": "2021-10-10T00:24:43.137686Z",
     "iopub.status.idle": "2021-10-10T00:24:43.140364Z",
     "shell.execute_reply": "2021-10-10T00:24:43.140962Z"
    },
    "papermill": {
     "duration": 0.042101,
     "end_time": "2021-10-10T00:24:43.141102",
     "exception": false,
     "start_time": "2021-10-10T00:24:43.099001",
     "status": "completed"
    },
    "tags": []
   },
   "outputs": [],
   "source": [
    "#hide\n",
    "# g.columns = ['date','country','cases']"
   ]
  },
  {
   "cell_type": "code",
   "execution_count": 27,
   "id": "tender-conversion",
   "metadata": {
    "execution": {
     "iopub.execute_input": "2021-10-10T00:24:43.214717Z",
     "iopub.status.busy": "2021-10-10T00:24:43.214127Z",
     "iopub.status.idle": "2021-10-10T00:24:43.217147Z",
     "shell.execute_reply": "2021-10-10T00:24:43.216666Z"
    },
    "papermill": {
     "duration": 0.041895,
     "end_time": "2021-10-10T00:24:43.217266",
     "exception": false,
     "start_time": "2021-10-10T00:24:43.175371",
     "status": "completed"
    },
    "tags": []
   },
   "outputs": [],
   "source": [
    "#hide\n",
    "# g['continent'] = g.country"
   ]
  },
  {
   "cell_type": "code",
   "execution_count": 28,
   "id": "substantial-wilderness",
   "metadata": {
    "execution": {
     "iopub.execute_input": "2021-10-10T00:24:43.290451Z",
     "iopub.status.busy": "2021-10-10T00:24:43.289821Z",
     "iopub.status.idle": "2021-10-10T00:24:43.292144Z",
     "shell.execute_reply": "2021-10-10T00:24:43.292745Z"
    },
    "papermill": {
     "duration": 0.041688,
     "end_time": "2021-10-10T00:24:43.292897",
     "exception": false,
     "start_time": "2021-10-10T00:24:43.251209",
     "status": "completed"
    },
    "tags": []
   },
   "outputs": [],
   "source": [
    "#hide\n",
    "# cols = list(g.columns.values)"
   ]
  },
  {
   "cell_type": "code",
   "execution_count": 29,
   "id": "solved-farming",
   "metadata": {
    "execution": {
     "iopub.execute_input": "2021-10-10T00:24:43.366110Z",
     "iopub.status.busy": "2021-10-10T00:24:43.365524Z",
     "iopub.status.idle": "2021-10-10T00:24:43.368208Z",
     "shell.execute_reply": "2021-10-10T00:24:43.368715Z"
    },
    "papermill": {
     "duration": 0.041641,
     "end_time": "2021-10-10T00:24:43.368861",
     "exception": false,
     "start_time": "2021-10-10T00:24:43.327220",
     "status": "completed"
    },
    "tags": []
   },
   "outputs": [],
   "source": [
    "#hide\n",
    "# cols.insert(0, cols.pop())"
   ]
  },
  {
   "cell_type": "code",
   "execution_count": 30,
   "id": "executed-adoption",
   "metadata": {
    "execution": {
     "iopub.execute_input": "2021-10-10T00:24:43.442118Z",
     "iopub.status.busy": "2021-10-10T00:24:43.441525Z",
     "iopub.status.idle": "2021-10-10T00:24:43.443875Z",
     "shell.execute_reply": "2021-10-10T00:24:43.444438Z"
    },
    "papermill": {
     "duration": 0.0415,
     "end_time": "2021-10-10T00:24:43.444604",
     "exception": false,
     "start_time": "2021-10-10T00:24:43.403104",
     "status": "completed"
    },
    "tags": []
   },
   "outputs": [],
   "source": [
    "#hide\n",
    "# g = g[cols]"
   ]
  },
  {
   "cell_type": "code",
   "execution_count": 31,
   "id": "subject-dublin",
   "metadata": {
    "execution": {
     "iopub.execute_input": "2021-10-10T00:24:43.518894Z",
     "iopub.status.busy": "2021-10-10T00:24:43.518299Z",
     "iopub.status.idle": "2021-10-10T00:24:43.521527Z",
     "shell.execute_reply": "2021-10-10T00:24:43.521050Z"
    },
    "papermill": {
     "duration": 0.042708,
     "end_time": "2021-10-10T00:24:43.521653",
     "exception": false,
     "start_time": "2021-10-10T00:24:43.478945",
     "status": "completed"
    },
    "tags": []
   },
   "outputs": [],
   "source": [
    "#hide\n",
    "# g['continent'] = g['continent'].map(mapping['map.continent'])"
   ]
  },
  {
   "cell_type": "code",
   "execution_count": 32,
   "id": "freelance-scout",
   "metadata": {
    "execution": {
     "iopub.execute_input": "2021-10-10T00:24:43.594851Z",
     "iopub.status.busy": "2021-10-10T00:24:43.594243Z",
     "iopub.status.idle": "2021-10-10T00:24:43.597373Z",
     "shell.execute_reply": "2021-10-10T00:24:43.597848Z"
    },
    "papermill": {
     "duration": 0.042087,
     "end_time": "2021-10-10T00:24:43.597992",
     "exception": false,
     "start_time": "2021-10-10T00:24:43.555905",
     "status": "completed"
    },
    "tags": []
   },
   "outputs": [],
   "source": [
    "#hide\n",
    "# g.head()"
   ]
  },
  {
   "cell_type": "code",
   "execution_count": 33,
   "id": "limited-engine",
   "metadata": {
    "execution": {
     "iopub.execute_input": "2021-10-10T00:24:43.669835Z",
     "iopub.status.busy": "2021-10-10T00:24:43.669246Z",
     "iopub.status.idle": "2021-10-10T00:24:43.671808Z",
     "shell.execute_reply": "2021-10-10T00:24:43.672380Z"
    },
    "papermill": {
     "duration": 0.040699,
     "end_time": "2021-10-10T00:24:43.672542",
     "exception": false,
     "start_time": "2021-10-10T00:24:43.631843",
     "status": "completed"
    },
    "tags": []
   },
   "outputs": [],
   "source": [
    "# hide\n",
    "# g['date'] = g['date'].astype('datetime64[ns]')"
   ]
  },
  {
   "cell_type": "code",
   "execution_count": 34,
   "id": "sophisticated-supervisor",
   "metadata": {
    "execution": {
     "iopub.execute_input": "2021-10-10T00:24:43.745665Z",
     "iopub.status.busy": "2021-10-10T00:24:43.745074Z",
     "iopub.status.idle": "2021-10-10T00:24:43.747683Z",
     "shell.execute_reply": "2021-10-10T00:24:43.747172Z"
    },
    "papermill": {
     "duration": 0.040934,
     "end_time": "2021-10-10T00:24:43.747811",
     "exception": false,
     "start_time": "2021-10-10T00:24:43.706877",
     "status": "completed"
    },
    "tags": []
   },
   "outputs": [],
   "source": [
    "#hide\n",
    "# g['date'] = g.date.dt.dayofyear"
   ]
  },
  {
   "cell_type": "code",
   "execution_count": 35,
   "id": "inside-dubai",
   "metadata": {
    "execution": {
     "iopub.execute_input": "2021-10-10T00:24:43.821283Z",
     "iopub.status.busy": "2021-10-10T00:24:43.820676Z",
     "iopub.status.idle": "2021-10-10T00:24:43.823119Z",
     "shell.execute_reply": "2021-10-10T00:24:43.823626Z"
    },
    "papermill": {
     "duration": 0.041841,
     "end_time": "2021-10-10T00:24:43.823766",
     "exception": false,
     "start_time": "2021-10-10T00:24:43.781925",
     "status": "completed"
    },
    "tags": []
   },
   "outputs": [],
   "source": [
    "#hide\n",
    "# g = g.rename(columns= {'continent':'group','country':'name','cases':'value'})"
   ]
  },
  {
   "cell_type": "code",
   "execution_count": 36,
   "id": "fleet-motorcycle",
   "metadata": {
    "execution": {
     "iopub.execute_input": "2021-10-10T00:24:43.897618Z",
     "iopub.status.busy": "2021-10-10T00:24:43.896986Z",
     "iopub.status.idle": "2021-10-10T00:24:43.898238Z",
     "shell.execute_reply": "2021-10-10T00:24:43.898792Z"
    },
    "papermill": {
     "duration": 0.040709,
     "end_time": "2021-10-10T00:24:43.898935",
     "exception": false,
     "start_time": "2021-10-10T00:24:43.858226",
     "status": "completed"
    },
    "tags": []
   },
   "outputs": [],
   "source": [
    "#hide\n",
    "# cols = ['name','group','day','value']"
   ]
  },
  {
   "cell_type": "code",
   "execution_count": 37,
   "id": "continued-sleeping",
   "metadata": {
    "execution": {
     "iopub.execute_input": "2021-10-10T00:24:43.972684Z",
     "iopub.status.busy": "2021-10-10T00:24:43.972052Z",
     "iopub.status.idle": "2021-10-10T00:24:43.975042Z",
     "shell.execute_reply": "2021-10-10T00:24:43.975609Z"
    },
    "papermill": {
     "duration": 0.042417,
     "end_time": "2021-10-10T00:24:43.975746",
     "exception": false,
     "start_time": "2021-10-10T00:24:43.933329",
     "status": "completed"
    },
    "tags": []
   },
   "outputs": [],
   "source": [
    "#hide\n",
    "# g.rename(columns= {'date':'day'},inplace = True)"
   ]
  },
  {
   "cell_type": "code",
   "execution_count": 38,
   "id": "major-fight",
   "metadata": {
    "execution": {
     "iopub.execute_input": "2021-10-10T00:24:44.048989Z",
     "iopub.status.busy": "2021-10-10T00:24:44.048357Z",
     "iopub.status.idle": "2021-10-10T00:24:44.050643Z",
     "shell.execute_reply": "2021-10-10T00:24:44.050136Z"
    },
    "papermill": {
     "duration": 0.040866,
     "end_time": "2021-10-10T00:24:44.050766",
     "exception": false,
     "start_time": "2021-10-10T00:24:44.009900",
     "status": "completed"
    },
    "tags": []
   },
   "outputs": [],
   "source": [
    "#hide\n",
    "# g = g[cols]"
   ]
  },
  {
   "cell_type": "code",
   "execution_count": 39,
   "id": "structured-mobile",
   "metadata": {
    "execution": {
     "iopub.execute_input": "2021-10-10T00:24:44.123116Z",
     "iopub.status.busy": "2021-10-10T00:24:44.122551Z",
     "iopub.status.idle": "2021-10-10T00:24:44.124813Z",
     "shell.execute_reply": "2021-10-10T00:24:44.125328Z"
    },
    "papermill": {
     "duration": 0.041012,
     "end_time": "2021-10-10T00:24:44.125461",
     "exception": false,
     "start_time": "2021-10-10T00:24:44.084449",
     "status": "completed"
    },
    "tags": []
   },
   "outputs": [],
   "source": [
    "# #hide\n",
    "# g = g[g.group.notna()]"
   ]
  },
  {
   "cell_type": "code",
   "execution_count": 40,
   "id": "determined-closing",
   "metadata": {
    "execution": {
     "iopub.execute_input": "2021-10-10T00:24:44.197761Z",
     "iopub.status.busy": "2021-10-10T00:24:44.197168Z",
     "iopub.status.idle": "2021-10-10T00:24:44.199654Z",
     "shell.execute_reply": "2021-10-10T00:24:44.200223Z"
    },
    "papermill": {
     "duration": 0.041008,
     "end_time": "2021-10-10T00:24:44.200364",
     "exception": false,
     "start_time": "2021-10-10T00:24:44.159356",
     "status": "completed"
    },
    "tags": []
   },
   "outputs": [],
   "source": [
    "# #hide\n",
    "# colors = dict(zip(\n",
    "#     [\"Oceania\", \"Europe\", \"Asia\", \"South America\", \"Middle East\", \"North America\", \"Africa\"],\n",
    "#     [\"#adb0ff\", \"#ffb3ff\", \"#90d595\", \"#e48381\", \"#aafbff\", \"#f7bb5f\", \"#eafb50\"]\n",
    "# ))\n",
    "# group_lk = g.set_index('name')['group'].to_dict()"
   ]
  },
  {
   "cell_type": "code",
   "execution_count": null,
   "id": "gross-drinking",
   "metadata": {
    "papermill": {
     "duration": 0.034174,
     "end_time": "2021-10-10T00:24:44.268602",
     "exception": false,
     "start_time": "2021-10-10T00:24:44.234428",
     "status": "completed"
    },
    "tags": []
   },
   "outputs": [],
   "source": []
  },
  {
   "cell_type": "code",
   "execution_count": 41,
   "id": "subject-macintosh",
   "metadata": {
    "execution": {
     "iopub.execute_input": "2021-10-10T00:24:44.342221Z",
     "iopub.status.busy": "2021-10-10T00:24:44.341611Z",
     "iopub.status.idle": "2021-10-10T00:24:44.343500Z",
     "shell.execute_reply": "2021-10-10T00:24:44.343945Z"
    },
    "papermill": {
     "duration": 0.041197,
     "end_time": "2021-10-10T00:24:44.344090",
     "exception": false,
     "start_time": "2021-10-10T00:24:44.302893",
     "status": "completed"
    },
    "tags": []
   },
   "outputs": [],
   "source": [
    "# #hide\n",
    "# fig, ax = plt.subplots(figsize=(15, 8))\n",
    "\n",
    "# def draw_barchart(current_day):\n",
    "#     dff = g[g['day'].eq(current_day)].sort_values(by='value', ascending=True).tail(10)\n",
    "#     ax.clear()\n",
    "#     ax.barh(dff['name'], dff['value'], color=[colors[group_lk[x]] for x in dff['name']])\n",
    "#     dx = dff['value'].max() / 200\n",
    "    \n",
    "#     for i, (value, name) in enumerate(zip(dff['value'], dff['name'])):\n",
    "#         ax.text(value-dx, i,     name,           size=14, weight=600, ha='right', va='bottom')\n",
    "#         ax.text(value-dx, i-.25, group_lk[name], size=10, color='#444444', ha='right', va='baseline')\n",
    "#         ax.text(value+dx, i,     f'{value:,.0f}',  size=14, ha='left',  va='center')\n",
    "#     ax.text(1, 0.4, current_day, transform=ax.transAxes, color='#777777', size=46, ha='right', weight=800)\n",
    "#     ax.text(0, 1.06, 'Population (thousands)', transform=ax.transAxes, size=12, color='#777777')\n",
    "#     ax.xaxis.set_major_formatter(ticker.StrMethodFormatter('{x:,.0f}'))\n",
    "#     ax.xaxis.set_ticks_position('top')\n",
    "#     ax.tick_params(axis='x', colors='#777777', labelsize=12)\n",
    "#     ax.set_yticks([])\n",
    "#     ax.margins(0, 0.01)\n",
    "#     ax.grid(which='major', axis='x', linestyle='-')\n",
    "#     ax.set_axisbelow(True)\n",
    "    \n",
    "#     ax.text(0, 1.15, 'Coronavirus',\n",
    "#             transform=ax.transAxes, size=24, weight=600, ha='left', va='top')\n",
    "# #     ax.text(1, 0, 'by @pratapvardhan; credit @jburnmurdoch', transform=ax.transAxes, color='#777777', ha='right',\n",
    "# #             bbox=dict(facecolor='white', alpha=0.8, edgecolor='white'))\n",
    "#     plt.box(False)"
   ]
  },
  {
   "cell_type": "code",
   "execution_count": 42,
   "id": "sexual-wages",
   "metadata": {
    "execution": {
     "iopub.execute_input": "2021-10-10T00:24:44.417254Z",
     "iopub.status.busy": "2021-10-10T00:24:44.416652Z",
     "iopub.status.idle": "2021-10-10T00:24:44.419682Z",
     "shell.execute_reply": "2021-10-10T00:24:44.420254Z"
    },
    "papermill": {
     "duration": 0.04213,
     "end_time": "2021-10-10T00:24:44.420408",
     "exception": false,
     "start_time": "2021-10-10T00:24:44.378278",
     "status": "completed"
    },
    "tags": []
   },
   "outputs": [],
   "source": [
    "# #hide_input\n",
    "# fig, ax = plt.subplots(figsize=(15, 8))\n",
    "# animator = animation.FuncAnimation(fig, draw_barchart, frames=range(g.day.values.min(), g.day.values.max()))\n",
    "# HTML(animator.to_jshtml())\n",
    "# # or use animator.to_html5_video() or animator.save() "
   ]
  },
  {
   "cell_type": "code",
   "execution_count": null,
   "id": "australian-container",
   "metadata": {
    "papermill": {
     "duration": 0.034046,
     "end_time": "2021-10-10T00:24:44.488960",
     "exception": false,
     "start_time": "2021-10-10T00:24:44.454914",
     "status": "completed"
    },
    "tags": []
   },
   "outputs": [],
   "source": []
  },
  {
   "cell_type": "code",
   "execution_count": null,
   "id": "mediterranean-pontiac",
   "metadata": {
    "papermill": {
     "duration": 0.03441,
     "end_time": "2021-10-10T00:24:44.557608",
     "exception": false,
     "start_time": "2021-10-10T00:24:44.523198",
     "status": "completed"
    },
    "tags": []
   },
   "outputs": [],
   "source": []
  },
  {
   "cell_type": "code",
   "execution_count": null,
   "id": "aging-legislature",
   "metadata": {
    "papermill": {
     "duration": 0.034406,
     "end_time": "2021-10-10T00:24:44.626492",
     "exception": false,
     "start_time": "2021-10-10T00:24:44.592086",
     "status": "completed"
    },
    "tags": []
   },
   "outputs": [],
   "source": []
  }
 ],
 "metadata": {
  "kernelspec": {
   "display_name": "Python 3",
   "language": "python",
   "name": "python3"
  },
  "language_info": {
   "codemirror_mode": {
    "name": "ipython",
    "version": 3
   },
   "file_extension": ".py",
   "mimetype": "text/x-python",
   "name": "python",
   "nbconvert_exporter": "python",
   "pygments_lexer": "ipython3",
   "version": "3.6.15"
  },
  "papermill": {
   "duration": 6.571563,
   "end_time": "2021-10-10T00:24:44.969651",
   "environment_variables": {},
   "exception": null,
   "input_path": "2020-03-21-covid19exp.ipynb",
   "output_path": "2020-03-21-covid19exp.ipynb",
   "parameters": {},
   "start_time": "2021-10-10T00:24:38.398088",
   "version": "2.0.0"
  }
 },
 "nbformat": 4,
 "nbformat_minor": 5
}