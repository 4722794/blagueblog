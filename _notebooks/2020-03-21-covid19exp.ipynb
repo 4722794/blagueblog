{
 "cells": [
  {
   "cell_type": "markdown",
   "id": "muslim-click",
   "metadata": {
    "papermill": {
     "duration": 0.034926,
     "end_time": "2022-01-22T12:11:58.528069",
     "exception": false,
     "start_time": "2022-01-22T12:11:58.493143",
     "status": "completed"
    },
    "tags": []
   },
   "source": [
    "# COVID-19 Case Race\n",
    "> A race chart to see rising cases around the world\n",
    "\n",
    "- author: Hargun Oberoi\n",
    "- image: images/covid-overview.png\n",
    "- hide: false\n",
    "- badges: false"
   ]
  },
  {
   "cell_type": "code",
   "execution_count": 1,
   "id": "proof-material",
   "metadata": {
    "execution": {
     "iopub.execute_input": "2022-01-22T12:11:58.602878Z",
     "iopub.status.busy": "2022-01-22T12:11:58.602358Z",
     "iopub.status.idle": "2022-01-22T12:11:58.924018Z",
     "shell.execute_reply": "2022-01-22T12:11:58.923548Z"
    },
    "papermill": {
     "duration": 0.36266,
     "end_time": "2022-01-22T12:11:58.924155",
     "exception": false,
     "start_time": "2022-01-22T12:11:58.561495",
     "status": "completed"
    },
    "tags": []
   },
   "outputs": [],
   "source": [
    "#hide\n",
    "import numpy as np\n",
    "import pandas as pd\n",
    "from jinja2 import Template\n",
    "from IPython.display import HTML"
   ]
  },
  {
   "cell_type": "code",
   "execution_count": 2,
   "id": "developed-terminology",
   "metadata": {
    "execution": {
     "iopub.execute_input": "2022-01-22T12:11:58.993189Z",
     "iopub.status.busy": "2022-01-22T12:11:58.992582Z",
     "iopub.status.idle": "2022-01-22T12:11:58.995745Z",
     "shell.execute_reply": "2022-01-22T12:11:58.995342Z"
    },
    "papermill": {
     "duration": 0.038973,
     "end_time": "2022-01-22T12:11:58.995853",
     "exception": false,
     "start_time": "2022-01-22T12:11:58.956880",
     "status": "completed"
    },
    "tags": []
   },
   "outputs": [],
   "source": [
    "#hide\n",
    "\n",
    "# FETCH\n",
    "base_url = 'https://raw.githubusercontent.com/pratapvardhan/notebooks/master/covid19/'\n",
    "paths = {\n",
    "    'mapping': base_url + 'mapping_countries.csv',\n",
    "    'overview': base_url + 'overview.tpl'\n",
    "}"
   ]
  },
  {
   "cell_type": "code",
   "execution_count": 3,
   "id": "dynamic-saver",
   "metadata": {
    "execution": {
     "iopub.execute_input": "2022-01-22T12:11:59.065596Z",
     "iopub.status.busy": "2022-01-22T12:11:59.062127Z",
     "iopub.status.idle": "2022-01-22T12:11:59.069081Z",
     "shell.execute_reply": "2022-01-22T12:11:59.069583Z"
    },
    "papermill": {
     "duration": 0.044481,
     "end_time": "2022-01-22T12:11:59.069710",
     "exception": false,
     "start_time": "2022-01-22T12:11:59.025229",
     "status": "completed"
    },
    "tags": []
   },
   "outputs": [
    {
     "data": {
      "text/plain": [
       "'https://raw.githubusercontent.com/pratapvardhan/notebooks/master/covid19/mapping_countries.csv'"
      ]
     },
     "execution_count": 3,
     "metadata": {},
     "output_type": "execute_result"
    }
   ],
   "source": [
    "#hide\n",
    "paths['mapping']"
   ]
  },
  {
   "cell_type": "code",
   "execution_count": 4,
   "id": "urban-software",
   "metadata": {
    "execution": {
     "iopub.execute_input": "2022-01-22T12:11:59.134725Z",
     "iopub.status.busy": "2022-01-22T12:11:59.134071Z",
     "iopub.status.idle": "2022-01-22T12:11:59.135268Z",
     "shell.execute_reply": "2022-01-22T12:11:59.135809Z"
    },
    "papermill": {
     "duration": 0.036493,
     "end_time": "2022-01-22T12:11:59.135944",
     "exception": false,
     "start_time": "2022-01-22T12:11:59.099451",
     "status": "completed"
    },
    "tags": []
   },
   "outputs": [],
   "source": [
    "#hide\n",
    "def get_mappings(url):\n",
    "    df = pd.read_csv(url)\n",
    "    return {\n",
    "        'df': df,\n",
    "        'replace.country': dict(df.dropna(subset=['Name']).set_index('Country')['Name']),\n",
    "        'map.continent': dict(df.set_index('Name')['Continent'])\n",
    "    }"
   ]
  },
  {
   "cell_type": "code",
   "execution_count": 5,
   "id": "intimate-machinery",
   "metadata": {
    "execution": {
     "iopub.execute_input": "2022-01-22T12:11:59.207093Z",
     "iopub.status.busy": "2022-01-22T12:11:59.206569Z",
     "iopub.status.idle": "2022-01-22T12:11:59.254601Z",
     "shell.execute_reply": "2022-01-22T12:11:59.255141Z"
    },
    "papermill": {
     "duration": 0.088409,
     "end_time": "2022-01-22T12:11:59.255303",
     "exception": false,
     "start_time": "2022-01-22T12:11:59.166894",
     "status": "completed"
    },
    "tags": []
   },
   "outputs": [],
   "source": [
    "#hide\n",
    "mapping = get_mappings(paths['mapping'])"
   ]
  },
  {
   "cell_type": "code",
   "execution_count": 6,
   "id": "certified-tactics",
   "metadata": {
    "execution": {
     "iopub.execute_input": "2022-01-22T12:11:59.323924Z",
     "iopub.status.busy": "2022-01-22T12:11:59.323330Z",
     "iopub.status.idle": "2022-01-22T12:11:59.325616Z",
     "shell.execute_reply": "2022-01-22T12:11:59.325149Z"
    },
    "papermill": {
     "duration": 0.037495,
     "end_time": "2022-01-22T12:11:59.325727",
     "exception": false,
     "start_time": "2022-01-22T12:11:59.288232",
     "status": "completed"
    },
    "tags": []
   },
   "outputs": [],
   "source": [
    "#hide\n",
    "def get_template(path):\n",
    "    from urllib.parse import urlparse\n",
    "    if bool(urlparse(path).netloc):\n",
    "        from urllib.request import urlopen\n",
    "        return urlopen(path).read().decode('utf8')\n",
    "    return open(path).read()"
   ]
  },
  {
   "cell_type": "code",
   "execution_count": 7,
   "id": "realistic-blast",
   "metadata": {
    "execution": {
     "iopub.execute_input": "2022-01-22T12:11:59.395693Z",
     "iopub.status.busy": "2022-01-22T12:11:59.395082Z",
     "iopub.status.idle": "2022-01-22T12:11:59.396393Z",
     "shell.execute_reply": "2022-01-22T12:11:59.396942Z"
    },
    "papermill": {
     "duration": 0.038853,
     "end_time": "2022-01-22T12:11:59.397085",
     "exception": false,
     "start_time": "2022-01-22T12:11:59.358232",
     "status": "completed"
    },
    "tags": []
   },
   "outputs": [],
   "source": [
    "#hide\n",
    "def get_frame(name):\n",
    "    url = (\n",
    "        'https://raw.githubusercontent.com/CSSEGISandData/COVID-19/master/csse_covid_19_data/'\n",
    "        f'csse_covid_19_time_series/time_series_covid19_{name}_global.csv')\n",
    "    df = pd.read_csv(url)\n",
    "    # rename countries\n",
    "    df['Country/Region'] = df['Country/Region'].replace(mapping['replace.country'])\n",
    "    return df"
   ]
  },
  {
   "cell_type": "code",
   "execution_count": 8,
   "id": "affiliated-characterization",
   "metadata": {
    "execution": {
     "iopub.execute_input": "2022-01-22T12:11:59.463060Z",
     "iopub.status.busy": "2022-01-22T12:11:59.462459Z",
     "iopub.status.idle": "2022-01-22T12:11:59.464591Z",
     "shell.execute_reply": "2022-01-22T12:11:59.464010Z"
    },
    "papermill": {
     "duration": 0.037289,
     "end_time": "2022-01-22T12:11:59.464710",
     "exception": false,
     "start_time": "2022-01-22T12:11:59.427421",
     "status": "completed"
    },
    "tags": []
   },
   "outputs": [],
   "source": [
    "#hide\n",
    "def get_dates(df):\n",
    "    dt_cols = df.columns[~df.columns.isin(['Province/State', 'Country/Region', 'Lat', 'Long'])]\n",
    "    LAST_DATE_I = -1\n",
    "    # sometimes last column may be empty, then go backwards\n",
    "    for i in range(-1, -len(dt_cols), -1):\n",
    "        if not df[dt_cols[i]].fillna(0).eq(0).all():\n",
    "            LAST_DATE_I = i\n",
    "            break\n",
    "    return LAST_DATE_I, dt_cols"
   ]
  },
  {
   "cell_type": "code",
   "execution_count": 9,
   "id": "recent-optimization",
   "metadata": {
    "execution": {
     "iopub.execute_input": "2022-01-22T12:11:59.540089Z",
     "iopub.status.busy": "2022-01-22T12:11:59.538823Z",
     "iopub.status.idle": "2022-01-22T12:12:00.144511Z",
     "shell.execute_reply": "2022-01-22T12:12:00.143986Z"
    },
    "papermill": {
     "duration": 0.648456,
     "end_time": "2022-01-22T12:12:00.144648",
     "exception": false,
     "start_time": "2022-01-22T12:11:59.496192",
     "status": "completed"
    },
    "tags": []
   },
   "outputs": [],
   "source": [
    "#hide\n",
    "COL_REGION = 'Country/Region'\n",
    "# Confirmed, Recovered, Deaths\n",
    "df = get_frame('confirmed')\n",
    "# dft_: timeseries, dfc_: today country agg\n",
    "dft_cases = df\n",
    "dft_deaths = get_frame('deaths')\n",
    "dft_recovered = get_frame('recovered')\n",
    "LAST_DATE_I, dt_cols = get_dates(df)"
   ]
  },
  {
   "cell_type": "code",
   "execution_count": 10,
   "id": "absolute-copper",
   "metadata": {
    "execution": {
     "iopub.execute_input": "2022-01-22T12:12:00.214387Z",
     "iopub.status.busy": "2022-01-22T12:12:00.213828Z",
     "iopub.status.idle": "2022-01-22T12:12:00.215415Z",
     "shell.execute_reply": "2022-01-22T12:12:00.215796Z"
    },
    "papermill": {
     "duration": 0.038093,
     "end_time": "2022-01-22T12:12:00.215927",
     "exception": false,
     "start_time": "2022-01-22T12:12:00.177834",
     "status": "completed"
    },
    "tags": []
   },
   "outputs": [],
   "source": [
    "#hide\n",
    "LAST_DATE_I, dt_cols = get_dates(df)\n",
    "dt_today =dt_cols[LAST_DATE_I]\n",
    "# dt_5day = dt_cols[LAST_DATE_I - 5]\n",
    "dt_yday = dt_cols[LAST_DATE_I - 1]"
   ]
  },
  {
   "cell_type": "code",
   "execution_count": 11,
   "id": "restricted-sheriff",
   "metadata": {
    "execution": {
     "iopub.execute_input": "2022-01-22T12:12:00.282089Z",
     "iopub.status.busy": "2022-01-22T12:12:00.281566Z",
     "iopub.status.idle": "2022-01-22T12:12:00.289245Z",
     "shell.execute_reply": "2022-01-22T12:12:00.288808Z"
    },
    "papermill": {
     "duration": 0.043681,
     "end_time": "2022-01-22T12:12:00.289355",
     "exception": false,
     "start_time": "2022-01-22T12:12:00.245674",
     "status": "completed"
    },
    "tags": []
   },
   "outputs": [],
   "source": [
    "#hide\n",
    "dfc_cases = dft_cases.groupby(COL_REGION)[dt_today].sum()\n",
    "dfc_deaths = dft_deaths.groupby(COL_REGION)[dt_today].sum()\n",
    "# dfp_cases = dft_cases.groupby(COL_REGION)[dt_5day].sum()\n",
    "# dfp_deaths = dft_deaths.groupby(COL_REGION)[dt_5day].sum()\n",
    "dfp_cases = dft_cases.groupby(COL_REGION)[dt_yday].sum()\n",
    "dfp_deaths = dft_deaths.groupby(COL_REGION)[dt_yday].sum()"
   ]
  },
  {
   "cell_type": "code",
   "execution_count": 12,
   "id": "deluxe-hepatitis",
   "metadata": {
    "execution": {
     "iopub.execute_input": "2022-01-22T12:12:00.354254Z",
     "iopub.status.busy": "2022-01-22T12:12:00.353735Z",
     "iopub.status.idle": "2022-01-22T12:12:00.358255Z",
     "shell.execute_reply": "2022-01-22T12:12:00.358745Z"
    },
    "papermill": {
     "duration": 0.039469,
     "end_time": "2022-01-22T12:12:00.358875",
     "exception": false,
     "start_time": "2022-01-22T12:12:00.319406",
     "status": "completed"
    },
    "tags": []
   },
   "outputs": [],
   "source": [
    "#hide\n",
    "df_table = (pd.DataFrame(dict(Cases = dfc_cases, Deaths = dfc_deaths, PCases = dfp_cases, PDeaths = dfp_deaths))\n",
    "            .sort_values(by = ['Cases','Deaths'], ascending = [False, False])\n",
    "            .reset_index())"
   ]
  },
  {
   "cell_type": "code",
   "execution_count": 13,
   "id": "educational-chancellor",
   "metadata": {
    "execution": {
     "iopub.execute_input": "2022-01-22T12:12:00.440974Z",
     "iopub.status.busy": "2022-01-22T12:12:00.440445Z",
     "iopub.status.idle": "2022-01-22T12:12:00.447563Z",
     "shell.execute_reply": "2022-01-22T12:12:00.447969Z"
    },
    "papermill": {
     "duration": 0.059245,
     "end_time": "2022-01-22T12:12:00.448097",
     "exception": false,
     "start_time": "2022-01-22T12:12:00.388852",
     "status": "completed"
    },
    "tags": []
   },
   "outputs": [
    {
     "data": {
      "text/html": [
       "<div>\n",
       "<style scoped>\n",
       "    .dataframe tbody tr th:only-of-type {\n",
       "        vertical-align: middle;\n",
       "    }\n",
       "\n",
       "    .dataframe tbody tr th {\n",
       "        vertical-align: top;\n",
       "    }\n",
       "\n",
       "    .dataframe thead th {\n",
       "        text-align: right;\n",
       "    }\n",
       "</style>\n",
       "<table border=\"1\" class=\"dataframe\">\n",
       "  <thead>\n",
       "    <tr style=\"text-align: right;\">\n",
       "      <th></th>\n",
       "      <th>Country/Region</th>\n",
       "      <th>Cases</th>\n",
       "      <th>Deaths</th>\n",
       "      <th>PCases</th>\n",
       "      <th>PDeaths</th>\n",
       "      <th>Cases (+)</th>\n",
       "      <th>Deaths (+)</th>\n",
       "      <th>Fatality Rate</th>\n",
       "      <th>Continent</th>\n",
       "    </tr>\n",
       "  </thead>\n",
       "  <tbody>\n",
       "    <tr>\n",
       "      <th>0</th>\n",
       "      <td>US</td>\n",
       "      <td>70209840</td>\n",
       "      <td>864556</td>\n",
       "      <td>69329860</td>\n",
       "      <td>860989</td>\n",
       "      <td>879980</td>\n",
       "      <td>3567</td>\n",
       "      <td>1.23</td>\n",
       "      <td>North America</td>\n",
       "    </tr>\n",
       "    <tr>\n",
       "      <th>1</th>\n",
       "      <td>India</td>\n",
       "      <td>38903731</td>\n",
       "      <td>488884</td>\n",
       "      <td>38566027</td>\n",
       "      <td>488396</td>\n",
       "      <td>337704</td>\n",
       "      <td>488</td>\n",
       "      <td>1.26</td>\n",
       "      <td>Asia</td>\n",
       "    </tr>\n",
       "    <tr>\n",
       "      <th>2</th>\n",
       "      <td>Brazil</td>\n",
       "      <td>23766499</td>\n",
       "      <td>622875</td>\n",
       "      <td>23595178</td>\n",
       "      <td>622476</td>\n",
       "      <td>171321</td>\n",
       "      <td>399</td>\n",
       "      <td>2.62</td>\n",
       "      <td>South America</td>\n",
       "    </tr>\n",
       "    <tr>\n",
       "      <th>3</th>\n",
       "      <td>France</td>\n",
       "      <td>16116748</td>\n",
       "      <td>129338</td>\n",
       "      <td>15715329</td>\n",
       "      <td>129105</td>\n",
       "      <td>401419</td>\n",
       "      <td>233</td>\n",
       "      <td>0.80</td>\n",
       "      <td>Europe</td>\n",
       "    </tr>\n",
       "    <tr>\n",
       "      <th>4</th>\n",
       "      <td>United Kingdom</td>\n",
       "      <td>15814617</td>\n",
       "      <td>154001</td>\n",
       "      <td>15718193</td>\n",
       "      <td>153710</td>\n",
       "      <td>96424</td>\n",
       "      <td>291</td>\n",
       "      <td>0.97</td>\n",
       "      <td>Europe</td>\n",
       "    </tr>\n",
       "  </tbody>\n",
       "</table>\n",
       "</div>"
      ],
      "text/plain": [
       "   Country/Region     Cases  Deaths    PCases  PDeaths  Cases (+)  Deaths (+)  \\\n",
       "0              US  70209840  864556  69329860   860989     879980        3567   \n",
       "1           India  38903731  488884  38566027   488396     337704         488   \n",
       "2          Brazil  23766499  622875  23595178   622476     171321         399   \n",
       "3          France  16116748  129338  15715329   129105     401419         233   \n",
       "4  United Kingdom  15814617  154001  15718193   153710      96424         291   \n",
       "\n",
       "   Fatality Rate      Continent  \n",
       "0           1.23  North America  \n",
       "1           1.26           Asia  \n",
       "2           2.62  South America  \n",
       "3           0.80         Europe  \n",
       "4           0.97         Europe  "
      ]
     },
     "execution_count": 13,
     "metadata": {},
     "output_type": "execute_result"
    }
   ],
   "source": [
    "#hide\n",
    "for c in 'Cases, Deaths'.split(', '):\n",
    "    df_table[f'{c} (+)'] = (df_table[c] - df_table[f'P{c}']).clip(0)\n",
    "    #Clip ça veut dire, les chiffres negatif sont interdit\n",
    "df_table['Fatality Rate'] = (100* df_table['Deaths']/ df_table['Cases']).round(2)\n",
    "df_table['Continent'] = df_table['Country/Region'].map(mapping['map.continent'])\n",
    "df_table.head(5)"
   ]
  },
  {
   "cell_type": "code",
   "execution_count": 14,
   "id": "aboriginal-bulgaria",
   "metadata": {
    "execution": {
     "iopub.execute_input": "2022-01-22T12:12:00.516090Z",
     "iopub.status.busy": "2022-01-22T12:12:00.515576Z",
     "iopub.status.idle": "2022-01-22T12:12:00.517656Z",
     "shell.execute_reply": "2022-01-22T12:12:00.518151Z"
    },
    "papermill": {
     "duration": 0.039651,
     "end_time": "2022-01-22T12:12:00.518280",
     "exception": false,
     "start_time": "2022-01-22T12:12:00.478629",
     "status": "completed"
    },
    "tags": []
   },
   "outputs": [],
   "source": [
    "#hide\n",
    "#delete problematic countries from table\n",
    "df_table = df_table[~df_table['Country/Region'].isin(['Cape Verde', 'Cruise Ship', 'Kosovo'])]"
   ]
  },
  {
   "cell_type": "code",
   "execution_count": 15,
   "id": "fantastic-effect",
   "metadata": {
    "execution": {
     "iopub.execute_input": "2022-01-22T12:12:00.586681Z",
     "iopub.status.busy": "2022-01-22T12:12:00.586157Z",
     "iopub.status.idle": "2022-01-22T12:12:00.606742Z",
     "shell.execute_reply": "2022-01-22T12:12:00.606243Z"
    },
    "papermill": {
     "duration": 0.058411,
     "end_time": "2022-01-22T12:12:00.606866",
     "exception": false,
     "start_time": "2022-01-22T12:12:00.548455",
     "status": "completed"
    },
    "tags": []
   },
   "outputs": [
    {
     "data": {
      "text/html": [
       "<div>\n",
       "<style scoped>\n",
       "    .dataframe tbody tr th:only-of-type {\n",
       "        vertical-align: middle;\n",
       "    }\n",
       "\n",
       "    .dataframe tbody tr th {\n",
       "        vertical-align: top;\n",
       "    }\n",
       "\n",
       "    .dataframe thead th {\n",
       "        text-align: right;\n",
       "    }\n",
       "</style>\n",
       "<table border=\"1\" class=\"dataframe\">\n",
       "  <thead>\n",
       "    <tr style=\"text-align: right;\">\n",
       "      <th></th>\n",
       "      <th>Country/Region</th>\n",
       "      <th>Cases</th>\n",
       "      <th>Deaths</th>\n",
       "      <th>PCases</th>\n",
       "      <th>PDeaths</th>\n",
       "      <th>Cases (+)</th>\n",
       "      <th>Deaths (+)</th>\n",
       "      <th>Fatality Rate</th>\n",
       "      <th>Continent</th>\n",
       "    </tr>\n",
       "  </thead>\n",
       "  <tbody>\n",
       "    <tr>\n",
       "      <th>0</th>\n",
       "      <td>US</td>\n",
       "      <td>70209840</td>\n",
       "      <td>864556</td>\n",
       "      <td>69329860</td>\n",
       "      <td>860989</td>\n",
       "      <td>879980</td>\n",
       "      <td>3567</td>\n",
       "      <td>1.2</td>\n",
       "      <td>North America</td>\n",
       "    </tr>\n",
       "    <tr>\n",
       "      <th>1</th>\n",
       "      <td>India</td>\n",
       "      <td>38903731</td>\n",
       "      <td>488884</td>\n",
       "      <td>38566027</td>\n",
       "      <td>488396</td>\n",
       "      <td>337704</td>\n",
       "      <td>488</td>\n",
       "      <td>1.3</td>\n",
       "      <td>Asia</td>\n",
       "    </tr>\n",
       "    <tr>\n",
       "      <th>2</th>\n",
       "      <td>Brazil</td>\n",
       "      <td>23766499</td>\n",
       "      <td>622875</td>\n",
       "      <td>23595178</td>\n",
       "      <td>622476</td>\n",
       "      <td>171321</td>\n",
       "      <td>399</td>\n",
       "      <td>2.6</td>\n",
       "      <td>South America</td>\n",
       "    </tr>\n",
       "    <tr>\n",
       "      <th>3</th>\n",
       "      <td>France</td>\n",
       "      <td>16116748</td>\n",
       "      <td>129338</td>\n",
       "      <td>15715329</td>\n",
       "      <td>129105</td>\n",
       "      <td>401419</td>\n",
       "      <td>233</td>\n",
       "      <td>0.8</td>\n",
       "      <td>Europe</td>\n",
       "    </tr>\n",
       "    <tr>\n",
       "      <th>4</th>\n",
       "      <td>United Kingdom</td>\n",
       "      <td>15814617</td>\n",
       "      <td>154001</td>\n",
       "      <td>15718193</td>\n",
       "      <td>153710</td>\n",
       "      <td>96424</td>\n",
       "      <td>291</td>\n",
       "      <td>1.0</td>\n",
       "      <td>Europe</td>\n",
       "    </tr>\n",
       "  </tbody>\n",
       "</table>\n",
       "</div>"
      ],
      "text/plain": [
       "   Country/Region     Cases  Deaths    PCases  PDeaths  Cases (+)  Deaths (+)  \\\n",
       "0              US  70209840  864556  69329860   860989     879980        3567   \n",
       "1           India  38903731  488884  38566027   488396     337704         488   \n",
       "2          Brazil  23766499  622875  23595178   622476     171321         399   \n",
       "3          France  16116748  129338  15715329   129105     401419         233   \n",
       "4  United Kingdom  15814617  154001  15718193   153710      96424         291   \n",
       "\n",
       "   Fatality Rate      Continent  \n",
       "0            1.2  North America  \n",
       "1            1.3           Asia  \n",
       "2            2.6  South America  \n",
       "3            0.8         Europe  \n",
       "4            1.0         Europe  "
      ]
     },
     "execution_count": 15,
     "metadata": {},
     "output_type": "execute_result"
    }
   ],
   "source": [
    "#hide\n",
    "df_table = (pd.DataFrame(dict(Cases=dfc_cases, Deaths=dfc_deaths, PCases=dfp_cases, PDeaths=dfp_deaths))\n",
    "             .sort_values(by=['Cases', 'Deaths'], ascending=[False, False])\n",
    "             .reset_index())\n",
    "df_table.rename(columns={'index': 'Country/Region'}, inplace=True)\n",
    "for c in 'Cases, Deaths'.split(', '):\n",
    "    df_table[f'{c} (+)'] = (df_table[c] - df_table[f'P{c}']).clip(0)  # DATA BUG\n",
    "df_table['Fatality Rate'] = (100 * df_table['Deaths'] / df_table['Cases']).round(1)\n",
    "df_table['Continent'] = df_table['Country/Region'].map(mapping['map.continent'])\n",
    "df_table.head(5)"
   ]
  },
  {
   "cell_type": "code",
   "execution_count": 16,
   "id": "fewer-occasion",
   "metadata": {
    "execution": {
     "iopub.execute_input": "2022-01-22T12:12:00.675425Z",
     "iopub.status.busy": "2022-01-22T12:12:00.674471Z",
     "iopub.status.idle": "2022-01-22T12:12:00.676024Z",
     "shell.execute_reply": "2022-01-22T12:12:00.676425Z"
    },
    "papermill": {
     "duration": 0.038359,
     "end_time": "2022-01-22T12:12:00.676553",
     "exception": false,
     "start_time": "2022-01-22T12:12:00.638194",
     "status": "completed"
    },
    "tags": []
   },
   "outputs": [],
   "source": [
    "#hide\n",
    "#delete problematic countries from table\n",
    "df_table = df_table[~df_table['Country/Region'].isin(['Cape Verde', 'Cruise Ship', 'Kosovo'])]"
   ]
  },
  {
   "cell_type": "code",
   "execution_count": 17,
   "id": "related-center",
   "metadata": {
    "execution": {
     "iopub.execute_input": "2022-01-22T12:12:00.762346Z",
     "iopub.status.busy": "2022-01-22T12:12:00.761795Z",
     "iopub.status.idle": "2022-01-22T12:12:00.763861Z",
     "shell.execute_reply": "2022-01-22T12:12:00.763349Z"
    },
    "papermill": {
     "duration": 0.052176,
     "end_time": "2022-01-22T12:12:00.763976",
     "exception": false,
     "start_time": "2022-01-22T12:12:00.711800",
     "status": "completed"
    },
    "tags": []
   },
   "outputs": [],
   "source": [
    "#hide\n",
    "metrics = [df_table.columns[index] for index in [1,2,5,6]]\n",
    "# s_china = df_table[df_table['Country/Region'].eq('China')][metrics].sum().add_prefix('China ')\n",
    "s_us = df_table[df_table['Country/Region'].eq('US')][metrics].sum().add_prefix('US ')\n",
    "s_eu = df_table[df_table['Continent'].eq('Europe')][metrics].sum().add_prefix('EU ')\n",
    "s_ind = df_table[df_table['Country/Region'].eq('India')][metrics].sum().add_prefix('India ')\n",
    "summary = {'updated': pd.to_datetime(dt_today), 'since': pd.to_datetime(dt_yday)}\n",
    "summary = {'updated': pd.to_datetime(dt_today), 'since': pd.to_datetime(dt_yday)}\n",
    "summary = {**summary, **df_table[metrics].sum(), **s_ind, **s_us, **s_eu}"
   ]
  },
  {
   "cell_type": "code",
   "execution_count": 18,
   "id": "engaging-syndrome",
   "metadata": {
    "execution": {
     "iopub.execute_input": "2022-01-22T12:12:00.831204Z",
     "iopub.status.busy": "2022-01-22T12:12:00.830684Z",
     "iopub.status.idle": "2022-01-22T12:12:00.846264Z",
     "shell.execute_reply": "2022-01-22T12:12:00.845809Z"
    },
    "papermill": {
     "duration": 0.051279,
     "end_time": "2022-01-22T12:12:00.846380",
     "exception": false,
     "start_time": "2022-01-22T12:12:00.795101",
     "status": "completed"
    },
    "tags": []
   },
   "outputs": [],
   "source": [
    "#hide\n",
    "dft_ct_new_cases = dft_cases.groupby(COL_REGION)[dt_cols].sum().diff(axis=1).fillna(0).astype(int)"
   ]
  },
  {
   "cell_type": "code",
   "execution_count": 19,
   "id": "neutral-assignment",
   "metadata": {
    "execution": {
     "iopub.execute_input": "2022-01-22T12:12:00.914098Z",
     "iopub.status.busy": "2022-01-22T12:12:00.913576Z",
     "iopub.status.idle": "2022-01-22T12:12:00.916082Z",
     "shell.execute_reply": "2022-01-22T12:12:00.915676Z"
    },
    "papermill": {
     "duration": 0.038788,
     "end_time": "2022-01-22T12:12:00.916190",
     "exception": false,
     "start_time": "2022-01-22T12:12:00.877402",
     "status": "completed"
    },
    "tags": []
   },
   "outputs": [],
   "source": [
    "#hide\n",
    "everydaycases = dft_ct_new_cases.cumsum(axis=1)"
   ]
  },
  {
   "cell_type": "code",
   "execution_count": 20,
   "id": "parliamentary-calgary",
   "metadata": {
    "execution": {
     "iopub.execute_input": "2022-01-22T12:12:00.981350Z",
     "iopub.status.busy": "2022-01-22T12:12:00.980845Z",
     "iopub.status.idle": "2022-01-22T12:12:01.643333Z",
     "shell.execute_reply": "2022-01-22T12:12:01.643815Z"
    },
    "papermill": {
     "duration": 0.697183,
     "end_time": "2022-01-22T12:12:01.643959",
     "exception": false,
     "start_time": "2022-01-22T12:12:00.946776",
     "status": "completed"
    },
    "tags": []
   },
   "outputs": [],
   "source": [
    "#hide\n",
    "import pandas as pd\n",
    "import matplotlib.pyplot as plt\n",
    "import matplotlib.ticker as ticker\n",
    "import matplotlib.animation as animation\n",
    "from IPython.display import HTML"
   ]
  },
  {
   "cell_type": "code",
   "execution_count": 21,
   "id": "lasting-extraction",
   "metadata": {
    "execution": {
     "iopub.execute_input": "2022-01-22T12:12:01.718213Z",
     "iopub.status.busy": "2022-01-22T12:12:01.717686Z",
     "iopub.status.idle": "2022-01-22T12:12:01.723546Z",
     "shell.execute_reply": "2022-01-22T12:12:01.723952Z"
    },
    "papermill": {
     "duration": 0.042164,
     "end_time": "2022-01-22T12:12:01.724081",
     "exception": false,
     "start_time": "2022-01-22T12:12:01.681917",
     "status": "completed"
    },
    "tags": []
   },
   "outputs": [],
   "source": [
    "#hide\n",
    "t = everydaycases.stack()"
   ]
  },
  {
   "cell_type": "code",
   "execution_count": 22,
   "id": "premier-sleeve",
   "metadata": {
    "execution": {
     "iopub.execute_input": "2022-01-22T12:12:01.790001Z",
     "iopub.status.busy": "2022-01-22T12:12:01.789447Z",
     "iopub.status.idle": "2022-01-22T12:12:01.800697Z",
     "shell.execute_reply": "2022-01-22T12:12:01.801170Z"
    },
    "papermill": {
     "duration": 0.04604,
     "end_time": "2022-01-22T12:12:01.801301",
     "exception": false,
     "start_time": "2022-01-22T12:12:01.755261",
     "status": "completed"
    },
    "tags": []
   },
   "outputs": [],
   "source": [
    "#hide\n",
    "g = t.reset_index(['Country/Region'])"
   ]
  },
  {
   "cell_type": "code",
   "execution_count": 23,
   "id": "distributed-pittsburgh",
   "metadata": {
    "execution": {
     "iopub.execute_input": "2022-01-22T12:12:01.866826Z",
     "iopub.status.busy": "2022-01-22T12:12:01.866076Z",
     "iopub.status.idle": "2022-01-22T12:12:01.867695Z",
     "shell.execute_reply": "2022-01-22T12:12:01.868103Z"
    },
    "papermill": {
     "duration": 0.036319,
     "end_time": "2022-01-22T12:12:01.868285",
     "exception": false,
     "start_time": "2022-01-22T12:12:01.831966",
     "status": "completed"
    },
    "tags": []
   },
   "outputs": [],
   "source": [
    "#hide\n",
    "g.index.name = 'date'"
   ]
  },
  {
   "cell_type": "code",
   "execution_count": 24,
   "id": "naked-donor",
   "metadata": {
    "execution": {
     "iopub.execute_input": "2022-01-22T12:12:01.938361Z",
     "iopub.status.busy": "2022-01-22T12:12:01.937725Z",
     "iopub.status.idle": "2022-01-22T12:12:01.940614Z",
     "shell.execute_reply": "2022-01-22T12:12:01.940151Z"
    },
    "papermill": {
     "duration": 0.038754,
     "end_time": "2022-01-22T12:12:01.940736",
     "exception": false,
     "start_time": "2022-01-22T12:12:01.901982",
     "status": "completed"
    },
    "tags": []
   },
   "outputs": [],
   "source": [
    "# #hide\n",
    "# g = g.reset_index(['date'])"
   ]
  },
  {
   "cell_type": "code",
   "execution_count": 25,
   "id": "incomplete-mustang",
   "metadata": {
    "execution": {
     "iopub.execute_input": "2022-01-22T12:12:02.005749Z",
     "iopub.status.busy": "2022-01-22T12:12:02.005206Z",
     "iopub.status.idle": "2022-01-22T12:12:02.007129Z",
     "shell.execute_reply": "2022-01-22T12:12:02.007611Z"
    },
    "papermill": {
     "duration": 0.036364,
     "end_time": "2022-01-22T12:12:02.007736",
     "exception": false,
     "start_time": "2022-01-22T12:12:01.971372",
     "status": "completed"
    },
    "tags": []
   },
   "outputs": [],
   "source": [
    "#hide\n",
    "# g.head()"
   ]
  },
  {
   "cell_type": "code",
   "execution_count": 26,
   "id": "specific-kruger",
   "metadata": {
    "execution": {
     "iopub.execute_input": "2022-01-22T12:12:02.073203Z",
     "iopub.status.busy": "2022-01-22T12:12:02.072659Z",
     "iopub.status.idle": "2022-01-22T12:12:02.074814Z",
     "shell.execute_reply": "2022-01-22T12:12:02.074382Z"
    },
    "papermill": {
     "duration": 0.036358,
     "end_time": "2022-01-22T12:12:02.074930",
     "exception": false,
     "start_time": "2022-01-22T12:12:02.038572",
     "status": "completed"
    },
    "tags": []
   },
   "outputs": [],
   "source": [
    "#hide\n",
    "# g.columns = ['date','country','cases']"
   ]
  },
  {
   "cell_type": "code",
   "execution_count": 27,
   "id": "tender-conversion",
   "metadata": {
    "execution": {
     "iopub.execute_input": "2022-01-22T12:12:02.154605Z",
     "iopub.status.busy": "2022-01-22T12:12:02.153903Z",
     "iopub.status.idle": "2022-01-22T12:12:02.155356Z",
     "shell.execute_reply": "2022-01-22T12:12:02.155787Z"
    },
    "papermill": {
     "duration": 0.039046,
     "end_time": "2022-01-22T12:12:02.155921",
     "exception": false,
     "start_time": "2022-01-22T12:12:02.116875",
     "status": "completed"
    },
    "tags": []
   },
   "outputs": [],
   "source": [
    "#hide\n",
    "# g['continent'] = g.country"
   ]
  },
  {
   "cell_type": "code",
   "execution_count": 28,
   "id": "substantial-wilderness",
   "metadata": {
    "execution": {
     "iopub.execute_input": "2022-01-22T12:12:02.227604Z",
     "iopub.status.busy": "2022-01-22T12:12:02.227066Z",
     "iopub.status.idle": "2022-01-22T12:12:02.230697Z",
     "shell.execute_reply": "2022-01-22T12:12:02.230192Z"
    },
    "papermill": {
     "duration": 0.043033,
     "end_time": "2022-01-22T12:12:02.230810",
     "exception": false,
     "start_time": "2022-01-22T12:12:02.187777",
     "status": "completed"
    },
    "tags": []
   },
   "outputs": [],
   "source": [
    "#hide\n",
    "# cols = list(g.columns.values)"
   ]
  },
  {
   "cell_type": "code",
   "execution_count": 29,
   "id": "solved-farming",
   "metadata": {
    "execution": {
     "iopub.execute_input": "2022-01-22T12:12:02.302123Z",
     "iopub.status.busy": "2022-01-22T12:12:02.301560Z",
     "iopub.status.idle": "2022-01-22T12:12:02.304238Z",
     "shell.execute_reply": "2022-01-22T12:12:02.304656Z"
    },
    "papermill": {
     "duration": 0.038528,
     "end_time": "2022-01-22T12:12:02.304795",
     "exception": false,
     "start_time": "2022-01-22T12:12:02.266267",
     "status": "completed"
    },
    "tags": []
   },
   "outputs": [],
   "source": [
    "#hide\n",
    "# cols.insert(0, cols.pop())"
   ]
  },
  {
   "cell_type": "code",
   "execution_count": 30,
   "id": "executed-adoption",
   "metadata": {
    "execution": {
     "iopub.execute_input": "2022-01-22T12:12:02.374188Z",
     "iopub.status.busy": "2022-01-22T12:12:02.373649Z",
     "iopub.status.idle": "2022-01-22T12:12:02.376395Z",
     "shell.execute_reply": "2022-01-22T12:12:02.375986Z"
    },
    "papermill": {
     "duration": 0.039214,
     "end_time": "2022-01-22T12:12:02.376507",
     "exception": false,
     "start_time": "2022-01-22T12:12:02.337293",
     "status": "completed"
    },
    "tags": []
   },
   "outputs": [],
   "source": [
    "#hide\n",
    "# g = g[cols]"
   ]
  },
  {
   "cell_type": "code",
   "execution_count": 31,
   "id": "subject-dublin",
   "metadata": {
    "execution": {
     "iopub.execute_input": "2022-01-22T12:12:02.442847Z",
     "iopub.status.busy": "2022-01-22T12:12:02.442248Z",
     "iopub.status.idle": "2022-01-22T12:12:02.444402Z",
     "shell.execute_reply": "2022-01-22T12:12:02.443911Z"
    },
    "papermill": {
     "duration": 0.036508,
     "end_time": "2022-01-22T12:12:02.444521",
     "exception": false,
     "start_time": "2022-01-22T12:12:02.408013",
     "status": "completed"
    },
    "tags": []
   },
   "outputs": [],
   "source": [
    "#hide\n",
    "# g['continent'] = g['continent'].map(mapping['map.continent'])"
   ]
  },
  {
   "cell_type": "code",
   "execution_count": 32,
   "id": "freelance-scout",
   "metadata": {
    "execution": {
     "iopub.execute_input": "2022-01-22T12:12:02.511057Z",
     "iopub.status.busy": "2022-01-22T12:12:02.510561Z",
     "iopub.status.idle": "2022-01-22T12:12:02.514185Z",
     "shell.execute_reply": "2022-01-22T12:12:02.513785Z"
    },
    "papermill": {
     "duration": 0.037676,
     "end_time": "2022-01-22T12:12:02.514287",
     "exception": false,
     "start_time": "2022-01-22T12:12:02.476611",
     "status": "completed"
    },
    "tags": []
   },
   "outputs": [],
   "source": [
    "#hide\n",
    "# g.head()"
   ]
  },
  {
   "cell_type": "code",
   "execution_count": 33,
   "id": "limited-engine",
   "metadata": {
    "execution": {
     "iopub.execute_input": "2022-01-22T12:12:02.572639Z",
     "iopub.status.busy": "2022-01-22T12:12:02.572180Z",
     "iopub.status.idle": "2022-01-22T12:12:02.574387Z",
     "shell.execute_reply": "2022-01-22T12:12:02.573999Z"
    },
    "papermill": {
     "duration": 0.032317,
     "end_time": "2022-01-22T12:12:02.574484",
     "exception": false,
     "start_time": "2022-01-22T12:12:02.542167",
     "status": "completed"
    },
    "tags": []
   },
   "outputs": [],
   "source": [
    "# hide\n",
    "# g['date'] = g['date'].astype('datetime64[ns]')"
   ]
  },
  {
   "cell_type": "code",
   "execution_count": 34,
   "id": "sophisticated-supervisor",
   "metadata": {
    "execution": {
     "iopub.execute_input": "2022-01-22T12:12:02.632073Z",
     "iopub.status.busy": "2022-01-22T12:12:02.631542Z",
     "iopub.status.idle": "2022-01-22T12:12:02.633662Z",
     "shell.execute_reply": "2022-01-22T12:12:02.633227Z"
    },
    "papermill": {
     "duration": 0.032,
     "end_time": "2022-01-22T12:12:02.633774",
     "exception": false,
     "start_time": "2022-01-22T12:12:02.601774",
     "status": "completed"
    },
    "tags": []
   },
   "outputs": [],
   "source": [
    "#hide\n",
    "# g['date'] = g.date.dt.dayofyear"
   ]
  },
  {
   "cell_type": "code",
   "execution_count": 35,
   "id": "inside-dubai",
   "metadata": {
    "execution": {
     "iopub.execute_input": "2022-01-22T12:12:02.702194Z",
     "iopub.status.busy": "2022-01-22T12:12:02.701601Z",
     "iopub.status.idle": "2022-01-22T12:12:02.703792Z",
     "shell.execute_reply": "2022-01-22T12:12:02.703234Z"
    },
    "papermill": {
     "duration": 0.037247,
     "end_time": "2022-01-22T12:12:02.703910",
     "exception": false,
     "start_time": "2022-01-22T12:12:02.666663",
     "status": "completed"
    },
    "tags": []
   },
   "outputs": [],
   "source": [
    "#hide\n",
    "# g = g.rename(columns= {'continent':'group','country':'name','cases':'value'})"
   ]
  },
  {
   "cell_type": "code",
   "execution_count": 36,
   "id": "fleet-motorcycle",
   "metadata": {
    "execution": {
     "iopub.execute_input": "2022-01-22T12:12:02.775789Z",
     "iopub.status.busy": "2022-01-22T12:12:02.775260Z",
     "iopub.status.idle": "2022-01-22T12:12:02.777525Z",
     "shell.execute_reply": "2022-01-22T12:12:02.776999Z"
    },
    "papermill": {
     "duration": 0.038751,
     "end_time": "2022-01-22T12:12:02.777638",
     "exception": false,
     "start_time": "2022-01-22T12:12:02.738887",
     "status": "completed"
    },
    "tags": []
   },
   "outputs": [],
   "source": [
    "#hide\n",
    "# cols = ['name','group','day','value']"
   ]
  },
  {
   "cell_type": "code",
   "execution_count": 37,
   "id": "continued-sleeping",
   "metadata": {
    "execution": {
     "iopub.execute_input": "2022-01-22T12:12:02.846368Z",
     "iopub.status.busy": "2022-01-22T12:12:02.845760Z",
     "iopub.status.idle": "2022-01-22T12:12:02.848352Z",
     "shell.execute_reply": "2022-01-22T12:12:02.848795Z"
    },
    "papermill": {
     "duration": 0.039692,
     "end_time": "2022-01-22T12:12:02.848972",
     "exception": false,
     "start_time": "2022-01-22T12:12:02.809280",
     "status": "completed"
    },
    "tags": []
   },
   "outputs": [],
   "source": [
    "#hide\n",
    "# g.rename(columns= {'date':'day'},inplace = True)"
   ]
  },
  {
   "cell_type": "code",
   "execution_count": 38,
   "id": "major-fight",
   "metadata": {
    "execution": {
     "iopub.execute_input": "2022-01-22T12:12:02.915986Z",
     "iopub.status.busy": "2022-01-22T12:12:02.915423Z",
     "iopub.status.idle": "2022-01-22T12:12:02.918505Z",
     "shell.execute_reply": "2022-01-22T12:12:02.918850Z"
    },
    "papermill": {
     "duration": 0.038782,
     "end_time": "2022-01-22T12:12:02.918966",
     "exception": false,
     "start_time": "2022-01-22T12:12:02.880184",
     "status": "completed"
    },
    "tags": []
   },
   "outputs": [],
   "source": [
    "#hide\n",
    "# g = g[cols]"
   ]
  },
  {
   "cell_type": "code",
   "execution_count": 39,
   "id": "structured-mobile",
   "metadata": {
    "execution": {
     "iopub.execute_input": "2022-01-22T12:12:02.975906Z",
     "iopub.status.busy": "2022-01-22T12:12:02.975364Z",
     "iopub.status.idle": "2022-01-22T12:12:02.977298Z",
     "shell.execute_reply": "2022-01-22T12:12:02.976834Z"
    },
    "papermill": {
     "duration": 0.031575,
     "end_time": "2022-01-22T12:12:02.977403",
     "exception": false,
     "start_time": "2022-01-22T12:12:02.945828",
     "status": "completed"
    },
    "tags": []
   },
   "outputs": [],
   "source": [
    "# #hide\n",
    "# g = g[g.group.notna()]"
   ]
  },
  {
   "cell_type": "code",
   "execution_count": 40,
   "id": "determined-closing",
   "metadata": {
    "execution": {
     "iopub.execute_input": "2022-01-22T12:12:03.043611Z",
     "iopub.status.busy": "2022-01-22T12:12:03.043012Z",
     "iopub.status.idle": "2022-01-22T12:12:03.045159Z",
     "shell.execute_reply": "2022-01-22T12:12:03.044673Z"
    },
    "papermill": {
     "duration": 0.036717,
     "end_time": "2022-01-22T12:12:03.045276",
     "exception": false,
     "start_time": "2022-01-22T12:12:03.008559",
     "status": "completed"
    },
    "tags": []
   },
   "outputs": [],
   "source": [
    "# #hide\n",
    "# colors = dict(zip(\n",
    "#     [\"Oceania\", \"Europe\", \"Asia\", \"South America\", \"Middle East\", \"North America\", \"Africa\"],\n",
    "#     [\"#adb0ff\", \"#ffb3ff\", \"#90d595\", \"#e48381\", \"#aafbff\", \"#f7bb5f\", \"#eafb50\"]\n",
    "# ))\n",
    "# group_lk = g.set_index('name')['group'].to_dict()"
   ]
  },
  {
   "cell_type": "code",
   "execution_count": null,
   "id": "gross-drinking",
   "metadata": {
    "papermill": {
     "duration": 0.026885,
     "end_time": "2022-01-22T12:12:03.099897",
     "exception": false,
     "start_time": "2022-01-22T12:12:03.073012",
     "status": "completed"
    },
    "tags": []
   },
   "outputs": [],
   "source": []
  },
  {
   "cell_type": "code",
   "execution_count": 41,
   "id": "subject-macintosh",
   "metadata": {
    "execution": {
     "iopub.execute_input": "2022-01-22T12:12:03.158042Z",
     "iopub.status.busy": "2022-01-22T12:12:03.157559Z",
     "iopub.status.idle": "2022-01-22T12:12:03.160055Z",
     "shell.execute_reply": "2022-01-22T12:12:03.159686Z"
    },
    "papermill": {
     "duration": 0.033193,
     "end_time": "2022-01-22T12:12:03.160153",
     "exception": false,
     "start_time": "2022-01-22T12:12:03.126960",
     "status": "completed"
    },
    "tags": []
   },
   "outputs": [],
   "source": [
    "# #hide\n",
    "# fig, ax = plt.subplots(figsize=(15, 8))\n",
    "\n",
    "# def draw_barchart(current_day):\n",
    "#     dff = g[g['day'].eq(current_day)].sort_values(by='value', ascending=True).tail(10)\n",
    "#     ax.clear()\n",
    "#     ax.barh(dff['name'], dff['value'], color=[colors[group_lk[x]] for x in dff['name']])\n",
    "#     dx = dff['value'].max() / 200\n",
    "    \n",
    "#     for i, (value, name) in enumerate(zip(dff['value'], dff['name'])):\n",
    "#         ax.text(value-dx, i,     name,           size=14, weight=600, ha='right', va='bottom')\n",
    "#         ax.text(value-dx, i-.25, group_lk[name], size=10, color='#444444', ha='right', va='baseline')\n",
    "#         ax.text(value+dx, i,     f'{value:,.0f}',  size=14, ha='left',  va='center')\n",
    "#     ax.text(1, 0.4, current_day, transform=ax.transAxes, color='#777777', size=46, ha='right', weight=800)\n",
    "#     ax.text(0, 1.06, 'Population (thousands)', transform=ax.transAxes, size=12, color='#777777')\n",
    "#     ax.xaxis.set_major_formatter(ticker.StrMethodFormatter('{x:,.0f}'))\n",
    "#     ax.xaxis.set_ticks_position('top')\n",
    "#     ax.tick_params(axis='x', colors='#777777', labelsize=12)\n",
    "#     ax.set_yticks([])\n",
    "#     ax.margins(0, 0.01)\n",
    "#     ax.grid(which='major', axis='x', linestyle='-')\n",
    "#     ax.set_axisbelow(True)\n",
    "    \n",
    "#     ax.text(0, 1.15, 'Coronavirus',\n",
    "#             transform=ax.transAxes, size=24, weight=600, ha='left', va='top')\n",
    "# #     ax.text(1, 0, 'by @pratapvardhan; credit @jburnmurdoch', transform=ax.transAxes, color='#777777', ha='right',\n",
    "# #             bbox=dict(facecolor='white', alpha=0.8, edgecolor='white'))\n",
    "#     plt.box(False)"
   ]
  },
  {
   "cell_type": "code",
   "execution_count": 42,
   "id": "sexual-wages",
   "metadata": {
    "execution": {
     "iopub.execute_input": "2022-01-22T12:12:03.217147Z",
     "iopub.status.busy": "2022-01-22T12:12:03.216637Z",
     "iopub.status.idle": "2022-01-22T12:12:03.218709Z",
     "shell.execute_reply": "2022-01-22T12:12:03.218319Z"
    },
    "papermill": {
     "duration": 0.031818,
     "end_time": "2022-01-22T12:12:03.218809",
     "exception": false,
     "start_time": "2022-01-22T12:12:03.186991",
     "status": "completed"
    },
    "tags": []
   },
   "outputs": [],
   "source": [
    "# #hide_input\n",
    "# fig, ax = plt.subplots(figsize=(15, 8))\n",
    "# animator = animation.FuncAnimation(fig, draw_barchart, frames=range(g.day.values.min(), g.day.values.max()))\n",
    "# HTML(animator.to_jshtml())\n",
    "# # or use animator.to_html5_video() or animator.save() "
   ]
  },
  {
   "cell_type": "code",
   "execution_count": null,
   "id": "australian-container",
   "metadata": {
    "papermill": {
     "duration": 0.026952,
     "end_time": "2022-01-22T12:12:03.272919",
     "exception": false,
     "start_time": "2022-01-22T12:12:03.245967",
     "status": "completed"
    },
    "tags": []
   },
   "outputs": [],
   "source": []
  },
  {
   "cell_type": "code",
   "execution_count": null,
   "id": "mediterranean-pontiac",
   "metadata": {
    "papermill": {
     "duration": 0.027126,
     "end_time": "2022-01-22T12:12:03.327153",
     "exception": false,
     "start_time": "2022-01-22T12:12:03.300027",
     "status": "completed"
    },
    "tags": []
   },
   "outputs": [],
   "source": []
  },
  {
   "cell_type": "code",
   "execution_count": null,
   "id": "aging-legislature",
   "metadata": {
    "papermill": {
     "duration": 0.026834,
     "end_time": "2022-01-22T12:12:03.381079",
     "exception": false,
     "start_time": "2022-01-22T12:12:03.354245",
     "status": "completed"
    },
    "tags": []
   },
   "outputs": [],
   "source": []
  }
 ],
 "metadata": {
  "kernelspec": {
   "display_name": "Python 3",
   "language": "python",
   "name": "python3"
  },
  "language_info": {
   "codemirror_mode": {
    "name": "ipython",
    "version": 3
   },
   "file_extension": ".py",
   "mimetype": "text/x-python",
   "name": "python",
   "nbconvert_exporter": "python",
   "pygments_lexer": "ipython3",
   "version": "3.6.15"
  },
  "papermill": {
   "duration": 6.277717,
   "end_time": "2022-01-22T12:12:03.726712",
   "environment_variables": {},
   "exception": null,
   "input_path": "2020-03-21-covid19exp.ipynb",
   "output_path": "2020-03-21-covid19exp.ipynb",
   "parameters": {},
   "start_time": "2022-01-22T12:11:57.448995",
   "version": "2.0.0"
  }
 },
 "nbformat": 4,
 "nbformat_minor": 5
}