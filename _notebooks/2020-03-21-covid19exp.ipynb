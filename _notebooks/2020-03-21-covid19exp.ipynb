{
 "cells": [
  {
   "cell_type": "markdown",
   "id": "muslim-click",
   "metadata": {
    "papermill": {
     "duration": 0.040118,
     "end_time": "2022-04-02T00:34:25.857840",
     "exception": false,
     "start_time": "2022-04-02T00:34:25.817722",
     "status": "completed"
    },
    "tags": []
   },
   "source": [
    "# COVID-19 Case Race\n",
    "> A race chart to see rising cases around the world\n",
    "\n",
    "- author: Hargun Oberoi\n",
    "- image: images/covid-overview.png\n",
    "- hide: false\n",
    "- badges: false"
   ]
  },
  {
   "cell_type": "code",
   "execution_count": 1,
   "id": "proof-material",
   "metadata": {
    "execution": {
     "iopub.execute_input": "2022-04-02T00:34:25.939842Z",
     "iopub.status.busy": "2022-04-02T00:34:25.939180Z",
     "iopub.status.idle": "2022-04-02T00:34:26.308692Z",
     "shell.execute_reply": "2022-04-02T00:34:26.308148Z"
    },
    "papermill": {
     "duration": 0.413763,
     "end_time": "2022-04-02T00:34:26.308854",
     "exception": false,
     "start_time": "2022-04-02T00:34:25.895091",
     "status": "completed"
    },
    "tags": []
   },
   "outputs": [],
   "source": [
    "#hide\n",
    "import numpy as np\n",
    "import pandas as pd\n",
    "from jinja2 import Template\n",
    "from IPython.display import HTML"
   ]
  },
  {
   "cell_type": "code",
   "execution_count": 2,
   "id": "developed-terminology",
   "metadata": {
    "execution": {
     "iopub.execute_input": "2022-04-02T00:34:26.387368Z",
     "iopub.status.busy": "2022-04-02T00:34:26.386686Z",
     "iopub.status.idle": "2022-04-02T00:34:26.389357Z",
     "shell.execute_reply": "2022-04-02T00:34:26.388752Z"
    },
    "papermill": {
     "duration": 0.042635,
     "end_time": "2022-04-02T00:34:26.389481",
     "exception": false,
     "start_time": "2022-04-02T00:34:26.346846",
     "status": "completed"
    },
    "tags": []
   },
   "outputs": [],
   "source": [
    "#hide\n",
    "\n",
    "# FETCH\n",
    "base_url = 'https://raw.githubusercontent.com/pratapvardhan/notebooks/master/covid19/'\n",
    "paths = {\n",
    "    'mapping': base_url + 'mapping_countries.csv',\n",
    "    'overview': base_url + 'overview.tpl'\n",
    "}"
   ]
  },
  {
   "cell_type": "code",
   "execution_count": 3,
   "id": "dynamic-saver",
   "metadata": {
    "execution": {
     "iopub.execute_input": "2022-04-02T00:34:26.467433Z",
     "iopub.status.busy": "2022-04-02T00:34:26.463624Z",
     "iopub.status.idle": "2022-04-02T00:34:26.470525Z",
     "shell.execute_reply": "2022-04-02T00:34:26.471108Z"
    },
    "papermill": {
     "duration": 0.048365,
     "end_time": "2022-04-02T00:34:26.471263",
     "exception": false,
     "start_time": "2022-04-02T00:34:26.422898",
     "status": "completed"
    },
    "tags": []
   },
   "outputs": [
    {
     "data": {
      "text/plain": [
       "'https://raw.githubusercontent.com/pratapvardhan/notebooks/master/covid19/mapping_countries.csv'"
      ]
     },
     "execution_count": 3,
     "metadata": {},
     "output_type": "execute_result"
    }
   ],
   "source": [
    "#hide\n",
    "paths['mapping']"
   ]
  },
  {
   "cell_type": "code",
   "execution_count": 4,
   "id": "urban-software",
   "metadata": {
    "execution": {
     "iopub.execute_input": "2022-04-02T00:34:26.550973Z",
     "iopub.status.busy": "2022-04-02T00:34:26.550384Z",
     "iopub.status.idle": "2022-04-02T00:34:26.552833Z",
     "shell.execute_reply": "2022-04-02T00:34:26.552332Z"
    },
    "papermill": {
     "duration": 0.043589,
     "end_time": "2022-04-02T00:34:26.553005",
     "exception": false,
     "start_time": "2022-04-02T00:34:26.509416",
     "status": "completed"
    },
    "tags": []
   },
   "outputs": [],
   "source": [
    "#hide\n",
    "def get_mappings(url):\n",
    "    df = pd.read_csv(url)\n",
    "    return {\n",
    "        'df': df,\n",
    "        'replace.country': dict(df.dropna(subset=['Name']).set_index('Country')['Name']),\n",
    "        'map.continent': dict(df.set_index('Name')['Continent'])\n",
    "    }"
   ]
  },
  {
   "cell_type": "code",
   "execution_count": 5,
   "id": "intimate-machinery",
   "metadata": {
    "execution": {
     "iopub.execute_input": "2022-04-02T00:34:26.634288Z",
     "iopub.status.busy": "2022-04-02T00:34:26.633648Z",
     "iopub.status.idle": "2022-04-02T00:34:26.667697Z",
     "shell.execute_reply": "2022-04-02T00:34:26.667060Z"
    },
    "papermill": {
     "duration": 0.076052,
     "end_time": "2022-04-02T00:34:26.667844",
     "exception": false,
     "start_time": "2022-04-02T00:34:26.591792",
     "status": "completed"
    },
    "tags": []
   },
   "outputs": [],
   "source": [
    "#hide\n",
    "mapping = get_mappings(paths['mapping'])"
   ]
  },
  {
   "cell_type": "code",
   "execution_count": 6,
   "id": "certified-tactics",
   "metadata": {
    "execution": {
     "iopub.execute_input": "2022-04-02T00:34:26.770016Z",
     "iopub.status.busy": "2022-04-02T00:34:26.769326Z",
     "iopub.status.idle": "2022-04-02T00:34:26.772060Z",
     "shell.execute_reply": "2022-04-02T00:34:26.771335Z"
    },
    "papermill": {
     "duration": 0.047343,
     "end_time": "2022-04-02T00:34:26.772198",
     "exception": false,
     "start_time": "2022-04-02T00:34:26.724855",
     "status": "completed"
    },
    "tags": []
   },
   "outputs": [],
   "source": [
    "#hide\n",
    "def get_template(path):\n",
    "    from urllib.parse import urlparse\n",
    "    if bool(urlparse(path).netloc):\n",
    "        from urllib.request import urlopen\n",
    "        return urlopen(path).read().decode('utf8')\n",
    "    return open(path).read()"
   ]
  },
  {
   "cell_type": "code",
   "execution_count": 7,
   "id": "realistic-blast",
   "metadata": {
    "execution": {
     "iopub.execute_input": "2022-04-02T00:34:26.843456Z",
     "iopub.status.busy": "2022-04-02T00:34:26.842848Z",
     "iopub.status.idle": "2022-04-02T00:34:26.847625Z",
     "shell.execute_reply": "2022-04-02T00:34:26.848133Z"
    },
    "papermill": {
     "duration": 0.040963,
     "end_time": "2022-04-02T00:34:26.848263",
     "exception": false,
     "start_time": "2022-04-02T00:34:26.807300",
     "status": "completed"
    },
    "tags": []
   },
   "outputs": [],
   "source": [
    "#hide\n",
    "def get_frame(name):\n",
    "    url = (\n",
    "        'https://raw.githubusercontent.com/CSSEGISandData/COVID-19/master/csse_covid_19_data/'\n",
    "        f'csse_covid_19_time_series/time_series_covid19_{name}_global.csv')\n",
    "    df = pd.read_csv(url)\n",
    "    # rename countries\n",
    "    df['Country/Region'] = df['Country/Region'].replace(mapping['replace.country'])\n",
    "    return df"
   ]
  },
  {
   "cell_type": "code",
   "execution_count": 8,
   "id": "affiliated-characterization",
   "metadata": {
    "execution": {
     "iopub.execute_input": "2022-04-02T00:34:26.926537Z",
     "iopub.status.busy": "2022-04-02T00:34:26.925887Z",
     "iopub.status.idle": "2022-04-02T00:34:26.928547Z",
     "shell.execute_reply": "2022-04-02T00:34:26.927726Z"
    },
    "papermill": {
     "duration": 0.04327,
     "end_time": "2022-04-02T00:34:26.928675",
     "exception": false,
     "start_time": "2022-04-02T00:34:26.885405",
     "status": "completed"
    },
    "tags": []
   },
   "outputs": [],
   "source": [
    "#hide\n",
    "def get_dates(df):\n",
    "    dt_cols = df.columns[~df.columns.isin(['Province/State', 'Country/Region', 'Lat', 'Long'])]\n",
    "    LAST_DATE_I = -1\n",
    "    # sometimes last column may be empty, then go backwards\n",
    "    for i in range(-1, -len(dt_cols), -1):\n",
    "        if not df[dt_cols[i]].fillna(0).eq(0).all():\n",
    "            LAST_DATE_I = i\n",
    "            break\n",
    "    return LAST_DATE_I, dt_cols"
   ]
  },
  {
   "cell_type": "code",
   "execution_count": 9,
   "id": "recent-optimization",
   "metadata": {
    "execution": {
     "iopub.execute_input": "2022-04-02T00:34:27.005659Z",
     "iopub.status.busy": "2022-04-02T00:34:27.004926Z",
     "iopub.status.idle": "2022-04-02T00:34:27.453563Z",
     "shell.execute_reply": "2022-04-02T00:34:27.452812Z"
    },
    "papermill": {
     "duration": 0.489178,
     "end_time": "2022-04-02T00:34:27.453724",
     "exception": false,
     "start_time": "2022-04-02T00:34:26.964546",
     "status": "completed"
    },
    "tags": []
   },
   "outputs": [],
   "source": [
    "#hide\n",
    "COL_REGION = 'Country/Region'\n",
    "# Confirmed, Recovered, Deaths\n",
    "df = get_frame('confirmed')\n",
    "# dft_: timeseries, dfc_: today country agg\n",
    "dft_cases = df\n",
    "dft_deaths = get_frame('deaths')\n",
    "dft_recovered = get_frame('recovered')\n",
    "LAST_DATE_I, dt_cols = get_dates(df)"
   ]
  },
  {
   "cell_type": "code",
   "execution_count": 10,
   "id": "absolute-copper",
   "metadata": {
    "execution": {
     "iopub.execute_input": "2022-04-02T00:34:27.533513Z",
     "iopub.status.busy": "2022-04-02T00:34:27.532768Z",
     "iopub.status.idle": "2022-04-02T00:34:27.536148Z",
     "shell.execute_reply": "2022-04-02T00:34:27.535548Z"
    },
    "papermill": {
     "duration": 0.046984,
     "end_time": "2022-04-02T00:34:27.536290",
     "exception": false,
     "start_time": "2022-04-02T00:34:27.489306",
     "status": "completed"
    },
    "tags": []
   },
   "outputs": [],
   "source": [
    "#hide\n",
    "LAST_DATE_I, dt_cols = get_dates(df)\n",
    "dt_today =dt_cols[LAST_DATE_I]\n",
    "# dt_5day = dt_cols[LAST_DATE_I - 5]\n",
    "dt_yday = dt_cols[LAST_DATE_I - 1]"
   ]
  },
  {
   "cell_type": "code",
   "execution_count": 11,
   "id": "restricted-sheriff",
   "metadata": {
    "execution": {
     "iopub.execute_input": "2022-04-02T00:34:27.617994Z",
     "iopub.status.busy": "2022-04-02T00:34:27.617352Z",
     "iopub.status.idle": "2022-04-02T00:34:27.624140Z",
     "shell.execute_reply": "2022-04-02T00:34:27.624602Z"
    },
    "papermill": {
     "duration": 0.052578,
     "end_time": "2022-04-02T00:34:27.624743",
     "exception": false,
     "start_time": "2022-04-02T00:34:27.572165",
     "status": "completed"
    },
    "tags": []
   },
   "outputs": [],
   "source": [
    "#hide\n",
    "dfc_cases = dft_cases.groupby(COL_REGION)[dt_today].sum()\n",
    "dfc_deaths = dft_deaths.groupby(COL_REGION)[dt_today].sum()\n",
    "# dfp_cases = dft_cases.groupby(COL_REGION)[dt_5day].sum()\n",
    "# dfp_deaths = dft_deaths.groupby(COL_REGION)[dt_5day].sum()\n",
    "dfp_cases = dft_cases.groupby(COL_REGION)[dt_yday].sum()\n",
    "dfp_deaths = dft_deaths.groupby(COL_REGION)[dt_yday].sum()"
   ]
  },
  {
   "cell_type": "code",
   "execution_count": 12,
   "id": "deluxe-hepatitis",
   "metadata": {
    "execution": {
     "iopub.execute_input": "2022-04-02T00:34:27.702311Z",
     "iopub.status.busy": "2022-04-02T00:34:27.701623Z",
     "iopub.status.idle": "2022-04-02T00:34:27.706640Z",
     "shell.execute_reply": "2022-04-02T00:34:27.707199Z"
    },
    "papermill": {
     "duration": 0.048693,
     "end_time": "2022-04-02T00:34:27.707336",
     "exception": false,
     "start_time": "2022-04-02T00:34:27.658643",
     "status": "completed"
    },
    "tags": []
   },
   "outputs": [],
   "source": [
    "#hide\n",
    "df_table = (pd.DataFrame(dict(Cases = dfc_cases, Deaths = dfc_deaths, PCases = dfp_cases, PDeaths = dfp_deaths))\n",
    "            .sort_values(by = ['Cases','Deaths'], ascending = [False, False])\n",
    "            .reset_index())"
   ]
  },
  {
   "cell_type": "code",
   "execution_count": 13,
   "id": "educational-chancellor",
   "metadata": {
    "execution": {
     "iopub.execute_input": "2022-04-02T00:34:27.802315Z",
     "iopub.status.busy": "2022-04-02T00:34:27.801646Z",
     "iopub.status.idle": "2022-04-02T00:34:27.810414Z",
     "shell.execute_reply": "2022-04-02T00:34:27.809894Z"
    },
    "papermill": {
     "duration": 0.06739,
     "end_time": "2022-04-02T00:34:27.810538",
     "exception": false,
     "start_time": "2022-04-02T00:34:27.743148",
     "status": "completed"
    },
    "tags": []
   },
   "outputs": [
    {
     "data": {
      "text/html": [
       "<div>\n",
       "<style scoped>\n",
       "    .dataframe tbody tr th:only-of-type {\n",
       "        vertical-align: middle;\n",
       "    }\n",
       "\n",
       "    .dataframe tbody tr th {\n",
       "        vertical-align: top;\n",
       "    }\n",
       "\n",
       "    .dataframe thead th {\n",
       "        text-align: right;\n",
       "    }\n",
       "</style>\n",
       "<table border=\"1\" class=\"dataframe\">\n",
       "  <thead>\n",
       "    <tr style=\"text-align: right;\">\n",
       "      <th></th>\n",
       "      <th>Country/Region</th>\n",
       "      <th>Cases</th>\n",
       "      <th>Deaths</th>\n",
       "      <th>PCases</th>\n",
       "      <th>PDeaths</th>\n",
       "      <th>Cases (+)</th>\n",
       "      <th>Deaths (+)</th>\n",
       "      <th>Fatality Rate</th>\n",
       "      <th>Continent</th>\n",
       "    </tr>\n",
       "  </thead>\n",
       "  <tbody>\n",
       "    <tr>\n",
       "      <th>0</th>\n",
       "      <td>US</td>\n",
       "      <td>80102065</td>\n",
       "      <td>980638</td>\n",
       "      <td>80059154</td>\n",
       "      <td>980130</td>\n",
       "      <td>42911</td>\n",
       "      <td>508</td>\n",
       "      <td>1.22</td>\n",
       "      <td>North America</td>\n",
       "    </tr>\n",
       "    <tr>\n",
       "      <th>1</th>\n",
       "      <td>India</td>\n",
       "      <td>43025775</td>\n",
       "      <td>521181</td>\n",
       "      <td>43024440</td>\n",
       "      <td>521129</td>\n",
       "      <td>1335</td>\n",
       "      <td>52</td>\n",
       "      <td>1.21</td>\n",
       "      <td>Asia</td>\n",
       "    </tr>\n",
       "    <tr>\n",
       "      <th>2</th>\n",
       "      <td>Brazil</td>\n",
       "      <td>29951670</td>\n",
       "      <td>660022</td>\n",
       "      <td>29920604</td>\n",
       "      <td>659769</td>\n",
       "      <td>31066</td>\n",
       "      <td>253</td>\n",
       "      <td>2.20</td>\n",
       "      <td>South America</td>\n",
       "    </tr>\n",
       "    <tr>\n",
       "      <th>3</th>\n",
       "      <td>France</td>\n",
       "      <td>25803173</td>\n",
       "      <td>143307</td>\n",
       "      <td>25633476</td>\n",
       "      <td>143168</td>\n",
       "      <td>169697</td>\n",
       "      <td>139</td>\n",
       "      <td>0.56</td>\n",
       "      <td>Europe</td>\n",
       "    </tr>\n",
       "    <tr>\n",
       "      <th>4</th>\n",
       "      <td>Germany</td>\n",
       "      <td>21394747</td>\n",
       "      <td>129708</td>\n",
       "      <td>20829608</td>\n",
       "      <td>129112</td>\n",
       "      <td>565139</td>\n",
       "      <td>596</td>\n",
       "      <td>0.61</td>\n",
       "      <td>Europe</td>\n",
       "    </tr>\n",
       "  </tbody>\n",
       "</table>\n",
       "</div>"
      ],
      "text/plain": [
       "  Country/Region     Cases  Deaths    PCases  PDeaths  Cases (+)  Deaths (+)  \\\n",
       "0             US  80102065  980638  80059154   980130      42911         508   \n",
       "1          India  43025775  521181  43024440   521129       1335          52   \n",
       "2         Brazil  29951670  660022  29920604   659769      31066         253   \n",
       "3         France  25803173  143307  25633476   143168     169697         139   \n",
       "4        Germany  21394747  129708  20829608   129112     565139         596   \n",
       "\n",
       "   Fatality Rate      Continent  \n",
       "0           1.22  North America  \n",
       "1           1.21           Asia  \n",
       "2           2.20  South America  \n",
       "3           0.56         Europe  \n",
       "4           0.61         Europe  "
      ]
     },
     "execution_count": 13,
     "metadata": {},
     "output_type": "execute_result"
    }
   ],
   "source": [
    "#hide\n",
    "for c in 'Cases, Deaths'.split(', '):\n",
    "    df_table[f'{c} (+)'] = (df_table[c] - df_table[f'P{c}']).clip(0)\n",
    "    #Clip ça veut dire, les chiffres negatif sont interdit\n",
    "df_table['Fatality Rate'] = (100* df_table['Deaths']/ df_table['Cases']).round(2)\n",
    "df_table['Continent'] = df_table['Country/Region'].map(mapping['map.continent'])\n",
    "df_table.head(5)"
   ]
  },
  {
   "cell_type": "code",
   "execution_count": 14,
   "id": "aboriginal-bulgaria",
   "metadata": {
    "execution": {
     "iopub.execute_input": "2022-04-02T00:34:27.892607Z",
     "iopub.status.busy": "2022-04-02T00:34:27.891945Z",
     "iopub.status.idle": "2022-04-02T00:34:27.894533Z",
     "shell.execute_reply": "2022-04-02T00:34:27.894063Z"
    },
    "papermill": {
     "duration": 0.049184,
     "end_time": "2022-04-02T00:34:27.894655",
     "exception": false,
     "start_time": "2022-04-02T00:34:27.845471",
     "status": "completed"
    },
    "tags": []
   },
   "outputs": [],
   "source": [
    "#hide\n",
    "#delete problematic countries from table\n",
    "df_table = df_table[~df_table['Country/Region'].isin(['Cape Verde', 'Cruise Ship', 'Kosovo'])]"
   ]
  },
  {
   "cell_type": "code",
   "execution_count": 15,
   "id": "fantastic-effect",
   "metadata": {
    "execution": {
     "iopub.execute_input": "2022-04-02T00:34:27.974190Z",
     "iopub.status.busy": "2022-04-02T00:34:27.973570Z",
     "iopub.status.idle": "2022-04-02T00:34:27.996050Z",
     "shell.execute_reply": "2022-04-02T00:34:27.996574Z"
    },
    "papermill": {
     "duration": 0.067181,
     "end_time": "2022-04-02T00:34:27.996726",
     "exception": false,
     "start_time": "2022-04-02T00:34:27.929545",
     "status": "completed"
    },
    "tags": []
   },
   "outputs": [
    {
     "data": {
      "text/html": [
       "<div>\n",
       "<style scoped>\n",
       "    .dataframe tbody tr th:only-of-type {\n",
       "        vertical-align: middle;\n",
       "    }\n",
       "\n",
       "    .dataframe tbody tr th {\n",
       "        vertical-align: top;\n",
       "    }\n",
       "\n",
       "    .dataframe thead th {\n",
       "        text-align: right;\n",
       "    }\n",
       "</style>\n",
       "<table border=\"1\" class=\"dataframe\">\n",
       "  <thead>\n",
       "    <tr style=\"text-align: right;\">\n",
       "      <th></th>\n",
       "      <th>Country/Region</th>\n",
       "      <th>Cases</th>\n",
       "      <th>Deaths</th>\n",
       "      <th>PCases</th>\n",
       "      <th>PDeaths</th>\n",
       "      <th>Cases (+)</th>\n",
       "      <th>Deaths (+)</th>\n",
       "      <th>Fatality Rate</th>\n",
       "      <th>Continent</th>\n",
       "    </tr>\n",
       "  </thead>\n",
       "  <tbody>\n",
       "    <tr>\n",
       "      <th>0</th>\n",
       "      <td>US</td>\n",
       "      <td>80102065</td>\n",
       "      <td>980638</td>\n",
       "      <td>80059154</td>\n",
       "      <td>980130</td>\n",
       "      <td>42911</td>\n",
       "      <td>508</td>\n",
       "      <td>1.2</td>\n",
       "      <td>North America</td>\n",
       "    </tr>\n",
       "    <tr>\n",
       "      <th>1</th>\n",
       "      <td>India</td>\n",
       "      <td>43025775</td>\n",
       "      <td>521181</td>\n",
       "      <td>43024440</td>\n",
       "      <td>521129</td>\n",
       "      <td>1335</td>\n",
       "      <td>52</td>\n",
       "      <td>1.2</td>\n",
       "      <td>Asia</td>\n",
       "    </tr>\n",
       "    <tr>\n",
       "      <th>2</th>\n",
       "      <td>Brazil</td>\n",
       "      <td>29951670</td>\n",
       "      <td>660022</td>\n",
       "      <td>29920604</td>\n",
       "      <td>659769</td>\n",
       "      <td>31066</td>\n",
       "      <td>253</td>\n",
       "      <td>2.2</td>\n",
       "      <td>South America</td>\n",
       "    </tr>\n",
       "    <tr>\n",
       "      <th>3</th>\n",
       "      <td>France</td>\n",
       "      <td>25803173</td>\n",
       "      <td>143307</td>\n",
       "      <td>25633476</td>\n",
       "      <td>143168</td>\n",
       "      <td>169697</td>\n",
       "      <td>139</td>\n",
       "      <td>0.6</td>\n",
       "      <td>Europe</td>\n",
       "    </tr>\n",
       "    <tr>\n",
       "      <th>4</th>\n",
       "      <td>Germany</td>\n",
       "      <td>21394747</td>\n",
       "      <td>129708</td>\n",
       "      <td>20829608</td>\n",
       "      <td>129112</td>\n",
       "      <td>565139</td>\n",
       "      <td>596</td>\n",
       "      <td>0.6</td>\n",
       "      <td>Europe</td>\n",
       "    </tr>\n",
       "  </tbody>\n",
       "</table>\n",
       "</div>"
      ],
      "text/plain": [
       "  Country/Region     Cases  Deaths    PCases  PDeaths  Cases (+)  Deaths (+)  \\\n",
       "0             US  80102065  980638  80059154   980130      42911         508   \n",
       "1          India  43025775  521181  43024440   521129       1335          52   \n",
       "2         Brazil  29951670  660022  29920604   659769      31066         253   \n",
       "3         France  25803173  143307  25633476   143168     169697         139   \n",
       "4        Germany  21394747  129708  20829608   129112     565139         596   \n",
       "\n",
       "   Fatality Rate      Continent  \n",
       "0            1.2  North America  \n",
       "1            1.2           Asia  \n",
       "2            2.2  South America  \n",
       "3            0.6         Europe  \n",
       "4            0.6         Europe  "
      ]
     },
     "execution_count": 15,
     "metadata": {},
     "output_type": "execute_result"
    }
   ],
   "source": [
    "#hide\n",
    "df_table = (pd.DataFrame(dict(Cases=dfc_cases, Deaths=dfc_deaths, PCases=dfp_cases, PDeaths=dfp_deaths))\n",
    "             .sort_values(by=['Cases', 'Deaths'], ascending=[False, False])\n",
    "             .reset_index())\n",
    "df_table.rename(columns={'index': 'Country/Region'}, inplace=True)\n",
    "for c in 'Cases, Deaths'.split(', '):\n",
    "    df_table[f'{c} (+)'] = (df_table[c] - df_table[f'P{c}']).clip(0)  # DATA BUG\n",
    "df_table['Fatality Rate'] = (100 * df_table['Deaths'] / df_table['Cases']).round(1)\n",
    "df_table['Continent'] = df_table['Country/Region'].map(mapping['map.continent'])\n",
    "df_table.head(5)"
   ]
  },
  {
   "cell_type": "code",
   "execution_count": 16,
   "id": "fewer-occasion",
   "metadata": {
    "execution": {
     "iopub.execute_input": "2022-04-02T00:34:28.084271Z",
     "iopub.status.busy": "2022-04-02T00:34:28.083655Z",
     "iopub.status.idle": "2022-04-02T00:34:28.086549Z",
     "shell.execute_reply": "2022-04-02T00:34:28.086036Z"
    },
    "papermill": {
     "duration": 0.050817,
     "end_time": "2022-04-02T00:34:28.086681",
     "exception": false,
     "start_time": "2022-04-02T00:34:28.035864",
     "status": "completed"
    },
    "tags": []
   },
   "outputs": [],
   "source": [
    "#hide\n",
    "#delete problematic countries from table\n",
    "df_table = df_table[~df_table['Country/Region'].isin(['Cape Verde', 'Cruise Ship', 'Kosovo'])]"
   ]
  },
  {
   "cell_type": "code",
   "execution_count": 17,
   "id": "related-center",
   "metadata": {
    "execution": {
     "iopub.execute_input": "2022-04-02T00:34:28.172117Z",
     "iopub.status.busy": "2022-04-02T00:34:28.171354Z",
     "iopub.status.idle": "2022-04-02T00:34:28.180724Z",
     "shell.execute_reply": "2022-04-02T00:34:28.180216Z"
    },
    "papermill": {
     "duration": 0.056491,
     "end_time": "2022-04-02T00:34:28.180841",
     "exception": false,
     "start_time": "2022-04-02T00:34:28.124350",
     "status": "completed"
    },
    "tags": []
   },
   "outputs": [],
   "source": [
    "#hide\n",
    "metrics = [df_table.columns[index] for index in [1,2,5,6]]\n",
    "# s_china = df_table[df_table['Country/Region'].eq('China')][metrics].sum().add_prefix('China ')\n",
    "s_us = df_table[df_table['Country/Region'].eq('US')][metrics].sum().add_prefix('US ')\n",
    "s_eu = df_table[df_table['Continent'].eq('Europe')][metrics].sum().add_prefix('EU ')\n",
    "s_ind = df_table[df_table['Country/Region'].eq('India')][metrics].sum().add_prefix('India ')\n",
    "summary = {'updated': pd.to_datetime(dt_today), 'since': pd.to_datetime(dt_yday)}\n",
    "summary = {'updated': pd.to_datetime(dt_today), 'since': pd.to_datetime(dt_yday)}\n",
    "summary = {**summary, **df_table[metrics].sum(), **s_ind, **s_us, **s_eu}"
   ]
  },
  {
   "cell_type": "code",
   "execution_count": 18,
   "id": "engaging-syndrome",
   "metadata": {
    "execution": {
     "iopub.execute_input": "2022-04-02T00:34:28.257834Z",
     "iopub.status.busy": "2022-04-02T00:34:28.257138Z",
     "iopub.status.idle": "2022-04-02T00:34:28.274759Z",
     "shell.execute_reply": "2022-04-02T00:34:28.274235Z"
    },
    "papermill": {
     "duration": 0.057848,
     "end_time": "2022-04-02T00:34:28.274888",
     "exception": false,
     "start_time": "2022-04-02T00:34:28.217040",
     "status": "completed"
    },
    "tags": []
   },
   "outputs": [],
   "source": [
    "#hide\n",
    "dft_ct_new_cases = dft_cases.groupby(COL_REGION)[dt_cols].sum().diff(axis=1).fillna(0).astype(int)"
   ]
  },
  {
   "cell_type": "code",
   "execution_count": 19,
   "id": "neutral-assignment",
   "metadata": {
    "execution": {
     "iopub.execute_input": "2022-04-02T00:34:28.354271Z",
     "iopub.status.busy": "2022-04-02T00:34:28.353653Z",
     "iopub.status.idle": "2022-04-02T00:34:28.356011Z",
     "shell.execute_reply": "2022-04-02T00:34:28.355382Z"
    },
    "papermill": {
     "duration": 0.043908,
     "end_time": "2022-04-02T00:34:28.356137",
     "exception": false,
     "start_time": "2022-04-02T00:34:28.312229",
     "status": "completed"
    },
    "tags": []
   },
   "outputs": [],
   "source": [
    "#hide\n",
    "everydaycases = dft_ct_new_cases.cumsum(axis=1)"
   ]
  },
  {
   "cell_type": "code",
   "execution_count": 20,
   "id": "parliamentary-calgary",
   "metadata": {
    "execution": {
     "iopub.execute_input": "2022-04-02T00:34:28.432491Z",
     "iopub.status.busy": "2022-04-02T00:34:28.431837Z",
     "iopub.status.idle": "2022-04-02T00:34:29.134472Z",
     "shell.execute_reply": "2022-04-02T00:34:29.133820Z"
    },
    "papermill": {
     "duration": 0.742654,
     "end_time": "2022-04-02T00:34:29.134661",
     "exception": false,
     "start_time": "2022-04-02T00:34:28.392007",
     "status": "completed"
    },
    "tags": []
   },
   "outputs": [],
   "source": [
    "#hide\n",
    "import pandas as pd\n",
    "import matplotlib.pyplot as plt\n",
    "import matplotlib.ticker as ticker\n",
    "import matplotlib.animation as animation\n",
    "from IPython.display import HTML"
   ]
  },
  {
   "cell_type": "code",
   "execution_count": 21,
   "id": "lasting-extraction",
   "metadata": {
    "execution": {
     "iopub.execute_input": "2022-04-02T00:34:29.219148Z",
     "iopub.status.busy": "2022-04-02T00:34:29.218461Z",
     "iopub.status.idle": "2022-04-02T00:34:29.228749Z",
     "shell.execute_reply": "2022-04-02T00:34:29.228166Z"
    },
    "papermill": {
     "duration": 0.056571,
     "end_time": "2022-04-02T00:34:29.228933",
     "exception": false,
     "start_time": "2022-04-02T00:34:29.172362",
     "status": "completed"
    },
    "tags": []
   },
   "outputs": [],
   "source": [
    "#hide\n",
    "t = everydaycases.stack()"
   ]
  },
  {
   "cell_type": "code",
   "execution_count": 22,
   "id": "premier-sleeve",
   "metadata": {
    "execution": {
     "iopub.execute_input": "2022-04-02T00:34:29.312321Z",
     "iopub.status.busy": "2022-04-02T00:34:29.311625Z",
     "iopub.status.idle": "2022-04-02T00:34:29.323414Z",
     "shell.execute_reply": "2022-04-02T00:34:29.322846Z"
    },
    "papermill": {
     "duration": 0.055483,
     "end_time": "2022-04-02T00:34:29.323607",
     "exception": false,
     "start_time": "2022-04-02T00:34:29.268124",
     "status": "completed"
    },
    "tags": []
   },
   "outputs": [],
   "source": [
    "#hide\n",
    "g = t.reset_index(['Country/Region'])"
   ]
  },
  {
   "cell_type": "code",
   "execution_count": 23,
   "id": "distributed-pittsburgh",
   "metadata": {
    "execution": {
     "iopub.execute_input": "2022-04-02T00:34:29.406551Z",
     "iopub.status.busy": "2022-04-02T00:34:29.405881Z",
     "iopub.status.idle": "2022-04-02T00:34:29.408473Z",
     "shell.execute_reply": "2022-04-02T00:34:29.407869Z"
    },
    "papermill": {
     "duration": 0.047055,
     "end_time": "2022-04-02T00:34:29.408617",
     "exception": false,
     "start_time": "2022-04-02T00:34:29.361562",
     "status": "completed"
    },
    "tags": []
   },
   "outputs": [],
   "source": [
    "#hide\n",
    "g.index.name = 'date'"
   ]
  },
  {
   "cell_type": "code",
   "execution_count": 24,
   "id": "naked-donor",
   "metadata": {
    "execution": {
     "iopub.execute_input": "2022-04-02T00:34:29.489476Z",
     "iopub.status.busy": "2022-04-02T00:34:29.488787Z",
     "iopub.status.idle": "2022-04-02T00:34:29.491390Z",
     "shell.execute_reply": "2022-04-02T00:34:29.490858Z"
    },
    "papermill": {
     "duration": 0.04414,
     "end_time": "2022-04-02T00:34:29.491515",
     "exception": false,
     "start_time": "2022-04-02T00:34:29.447375",
     "status": "completed"
    },
    "tags": []
   },
   "outputs": [],
   "source": [
    "# #hide\n",
    "# g = g.reset_index(['date'])"
   ]
  },
  {
   "cell_type": "code",
   "execution_count": 25,
   "id": "incomplete-mustang",
   "metadata": {
    "execution": {
     "iopub.execute_input": "2022-04-02T00:34:29.575549Z",
     "iopub.status.busy": "2022-04-02T00:34:29.574859Z",
     "iopub.status.idle": "2022-04-02T00:34:29.579537Z",
     "shell.execute_reply": "2022-04-02T00:34:29.578978Z"
    },
    "papermill": {
     "duration": 0.049499,
     "end_time": "2022-04-02T00:34:29.579688",
     "exception": false,
     "start_time": "2022-04-02T00:34:29.530189",
     "status": "completed"
    },
    "tags": []
   },
   "outputs": [],
   "source": [
    "#hide\n",
    "# g.head()"
   ]
  },
  {
   "cell_type": "code",
   "execution_count": 26,
   "id": "specific-kruger",
   "metadata": {
    "execution": {
     "iopub.execute_input": "2022-04-02T00:34:29.663004Z",
     "iopub.status.busy": "2022-04-02T00:34:29.662325Z",
     "iopub.status.idle": "2022-04-02T00:34:29.665210Z",
     "shell.execute_reply": "2022-04-02T00:34:29.664547Z"
    },
    "papermill": {
     "duration": 0.043854,
     "end_time": "2022-04-02T00:34:29.665349",
     "exception": false,
     "start_time": "2022-04-02T00:34:29.621495",
     "status": "completed"
    },
    "tags": []
   },
   "outputs": [],
   "source": [
    "#hide\n",
    "# g.columns = ['date','country','cases']"
   ]
  },
  {
   "cell_type": "code",
   "execution_count": 27,
   "id": "tender-conversion",
   "metadata": {
    "execution": {
     "iopub.execute_input": "2022-04-02T00:34:29.744635Z",
     "iopub.status.busy": "2022-04-02T00:34:29.744003Z",
     "iopub.status.idle": "2022-04-02T00:34:29.746631Z",
     "shell.execute_reply": "2022-04-02T00:34:29.746123Z"
    },
    "papermill": {
     "duration": 0.04579,
     "end_time": "2022-04-02T00:34:29.746783",
     "exception": false,
     "start_time": "2022-04-02T00:34:29.700993",
     "status": "completed"
    },
    "tags": []
   },
   "outputs": [],
   "source": [
    "#hide\n",
    "# g['continent'] = g.country"
   ]
  },
  {
   "cell_type": "code",
   "execution_count": 28,
   "id": "substantial-wilderness",
   "metadata": {
    "execution": {
     "iopub.execute_input": "2022-04-02T00:34:29.828491Z",
     "iopub.status.busy": "2022-04-02T00:34:29.827838Z",
     "iopub.status.idle": "2022-04-02T00:34:29.829950Z",
     "shell.execute_reply": "2022-04-02T00:34:29.830571Z"
    },
    "papermill": {
     "duration": 0.046215,
     "end_time": "2022-04-02T00:34:29.830717",
     "exception": false,
     "start_time": "2022-04-02T00:34:29.784502",
     "status": "completed"
    },
    "tags": []
   },
   "outputs": [],
   "source": [
    "#hide\n",
    "# cols = list(g.columns.values)"
   ]
  },
  {
   "cell_type": "code",
   "execution_count": 29,
   "id": "solved-farming",
   "metadata": {
    "execution": {
     "iopub.execute_input": "2022-04-02T00:34:29.916748Z",
     "iopub.status.busy": "2022-04-02T00:34:29.916113Z",
     "iopub.status.idle": "2022-04-02T00:34:29.919956Z",
     "shell.execute_reply": "2022-04-02T00:34:29.920424Z"
    },
    "papermill": {
     "duration": 0.047892,
     "end_time": "2022-04-02T00:34:29.920568",
     "exception": false,
     "start_time": "2022-04-02T00:34:29.872676",
     "status": "completed"
    },
    "tags": []
   },
   "outputs": [],
   "source": [
    "#hide\n",
    "# cols.insert(0, cols.pop())"
   ]
  },
  {
   "cell_type": "code",
   "execution_count": 30,
   "id": "executed-adoption",
   "metadata": {
    "execution": {
     "iopub.execute_input": "2022-04-02T00:34:30.002799Z",
     "iopub.status.busy": "2022-04-02T00:34:30.002142Z",
     "iopub.status.idle": "2022-04-02T00:34:30.008252Z",
     "shell.execute_reply": "2022-04-02T00:34:30.007721Z"
    },
    "papermill": {
     "duration": 0.049338,
     "end_time": "2022-04-02T00:34:30.008406",
     "exception": false,
     "start_time": "2022-04-02T00:34:29.959068",
     "status": "completed"
    },
    "tags": []
   },
   "outputs": [],
   "source": [
    "#hide\n",
    "# g = g[cols]"
   ]
  },
  {
   "cell_type": "code",
   "execution_count": 31,
   "id": "subject-dublin",
   "metadata": {
    "execution": {
     "iopub.execute_input": "2022-04-02T00:34:30.094487Z",
     "iopub.status.busy": "2022-04-02T00:34:30.093808Z",
     "iopub.status.idle": "2022-04-02T00:34:30.096054Z",
     "shell.execute_reply": "2022-04-02T00:34:30.095388Z"
    },
    "papermill": {
     "duration": 0.047234,
     "end_time": "2022-04-02T00:34:30.096194",
     "exception": false,
     "start_time": "2022-04-02T00:34:30.048960",
     "status": "completed"
    },
    "tags": []
   },
   "outputs": [],
   "source": [
    "#hide\n",
    "# g['continent'] = g['continent'].map(mapping['map.continent'])"
   ]
  },
  {
   "cell_type": "code",
   "execution_count": 32,
   "id": "freelance-scout",
   "metadata": {
    "execution": {
     "iopub.execute_input": "2022-04-02T00:34:30.175321Z",
     "iopub.status.busy": "2022-04-02T00:34:30.174701Z",
     "iopub.status.idle": "2022-04-02T00:34:30.177598Z",
     "shell.execute_reply": "2022-04-02T00:34:30.176962Z"
    },
    "papermill": {
     "duration": 0.041966,
     "end_time": "2022-04-02T00:34:30.177739",
     "exception": false,
     "start_time": "2022-04-02T00:34:30.135773",
     "status": "completed"
    },
    "tags": []
   },
   "outputs": [],
   "source": [
    "#hide\n",
    "# g.head()"
   ]
  },
  {
   "cell_type": "code",
   "execution_count": 33,
   "id": "limited-engine",
   "metadata": {
    "execution": {
     "iopub.execute_input": "2022-04-02T00:34:30.251942Z",
     "iopub.status.busy": "2022-04-02T00:34:30.251313Z",
     "iopub.status.idle": "2022-04-02T00:34:30.253370Z",
     "shell.execute_reply": "2022-04-02T00:34:30.253835Z"
    },
    "papermill": {
     "duration": 0.040473,
     "end_time": "2022-04-02T00:34:30.253976",
     "exception": false,
     "start_time": "2022-04-02T00:34:30.213503",
     "status": "completed"
    },
    "tags": []
   },
   "outputs": [],
   "source": [
    "# hide\n",
    "# g['date'] = g['date'].astype('datetime64[ns]')"
   ]
  },
  {
   "cell_type": "code",
   "execution_count": 34,
   "id": "sophisticated-supervisor",
   "metadata": {
    "execution": {
     "iopub.execute_input": "2022-04-02T00:34:30.333932Z",
     "iopub.status.busy": "2022-04-02T00:34:30.333276Z",
     "iopub.status.idle": "2022-04-02T00:34:30.336171Z",
     "shell.execute_reply": "2022-04-02T00:34:30.335581Z"
    },
    "papermill": {
     "duration": 0.046018,
     "end_time": "2022-04-02T00:34:30.336297",
     "exception": false,
     "start_time": "2022-04-02T00:34:30.290279",
     "status": "completed"
    },
    "tags": []
   },
   "outputs": [],
   "source": [
    "#hide\n",
    "# g['date'] = g.date.dt.dayofyear"
   ]
  },
  {
   "cell_type": "code",
   "execution_count": 35,
   "id": "inside-dubai",
   "metadata": {
    "execution": {
     "iopub.execute_input": "2022-04-02T00:34:30.426245Z",
     "iopub.status.busy": "2022-04-02T00:34:30.425553Z",
     "iopub.status.idle": "2022-04-02T00:34:30.430807Z",
     "shell.execute_reply": "2022-04-02T00:34:30.430021Z"
    },
    "papermill": {
     "duration": 0.056726,
     "end_time": "2022-04-02T00:34:30.430939",
     "exception": false,
     "start_time": "2022-04-02T00:34:30.374213",
     "status": "completed"
    },
    "tags": []
   },
   "outputs": [],
   "source": [
    "#hide\n",
    "# g = g.rename(columns= {'continent':'group','country':'name','cases':'value'})"
   ]
  },
  {
   "cell_type": "code",
   "execution_count": 36,
   "id": "fleet-motorcycle",
   "metadata": {
    "execution": {
     "iopub.execute_input": "2022-04-02T00:34:30.515223Z",
     "iopub.status.busy": "2022-04-02T00:34:30.514506Z",
     "iopub.status.idle": "2022-04-02T00:34:30.531358Z",
     "shell.execute_reply": "2022-04-02T00:34:30.521981Z"
    },
    "papermill": {
     "duration": 0.061632,
     "end_time": "2022-04-02T00:34:30.531504",
     "exception": false,
     "start_time": "2022-04-02T00:34:30.469872",
     "status": "completed"
    },
    "tags": []
   },
   "outputs": [],
   "source": [
    "#hide\n",
    "# cols = ['name','group','day','value']"
   ]
  },
  {
   "cell_type": "code",
   "execution_count": 37,
   "id": "continued-sleeping",
   "metadata": {
    "execution": {
     "iopub.execute_input": "2022-04-02T00:34:30.614891Z",
     "iopub.status.busy": "2022-04-02T00:34:30.614188Z",
     "iopub.status.idle": "2022-04-02T00:34:30.616386Z",
     "shell.execute_reply": "2022-04-02T00:34:30.615723Z"
    },
    "papermill": {
     "duration": 0.045579,
     "end_time": "2022-04-02T00:34:30.616541",
     "exception": false,
     "start_time": "2022-04-02T00:34:30.570962",
     "status": "completed"
    },
    "tags": []
   },
   "outputs": [],
   "source": [
    "#hide\n",
    "# g.rename(columns= {'date':'day'},inplace = True)"
   ]
  },
  {
   "cell_type": "code",
   "execution_count": 38,
   "id": "major-fight",
   "metadata": {
    "execution": {
     "iopub.execute_input": "2022-04-02T00:34:30.704625Z",
     "iopub.status.busy": "2022-04-02T00:34:30.703929Z",
     "iopub.status.idle": "2022-04-02T00:34:30.706079Z",
     "shell.execute_reply": "2022-04-02T00:34:30.706597Z"
    },
    "papermill": {
     "duration": 0.046153,
     "end_time": "2022-04-02T00:34:30.706751",
     "exception": false,
     "start_time": "2022-04-02T00:34:30.660598",
     "status": "completed"
    },
    "tags": []
   },
   "outputs": [],
   "source": [
    "#hide\n",
    "# g = g[cols]"
   ]
  },
  {
   "cell_type": "code",
   "execution_count": 39,
   "id": "structured-mobile",
   "metadata": {
    "execution": {
     "iopub.execute_input": "2022-04-02T00:34:30.788439Z",
     "iopub.status.busy": "2022-04-02T00:34:30.787815Z",
     "iopub.status.idle": "2022-04-02T00:34:30.790586Z",
     "shell.execute_reply": "2022-04-02T00:34:30.790049Z"
    },
    "papermill": {
     "duration": 0.044638,
     "end_time": "2022-04-02T00:34:30.790715",
     "exception": false,
     "start_time": "2022-04-02T00:34:30.746077",
     "status": "completed"
    },
    "tags": []
   },
   "outputs": [],
   "source": [
    "# #hide\n",
    "# g = g[g.group.notna()]"
   ]
  },
  {
   "cell_type": "code",
   "execution_count": 40,
   "id": "determined-closing",
   "metadata": {
    "execution": {
     "iopub.execute_input": "2022-04-02T00:34:30.871752Z",
     "iopub.status.busy": "2022-04-02T00:34:30.871085Z",
     "iopub.status.idle": "2022-04-02T00:34:30.875184Z",
     "shell.execute_reply": "2022-04-02T00:34:30.875741Z"
    },
    "papermill": {
     "duration": 0.046487,
     "end_time": "2022-04-02T00:34:30.875927",
     "exception": false,
     "start_time": "2022-04-02T00:34:30.829440",
     "status": "completed"
    },
    "tags": []
   },
   "outputs": [],
   "source": [
    "# #hide\n",
    "# colors = dict(zip(\n",
    "#     [\"Oceania\", \"Europe\", \"Asia\", \"South America\", \"Middle East\", \"North America\", \"Africa\"],\n",
    "#     [\"#adb0ff\", \"#ffb3ff\", \"#90d595\", \"#e48381\", \"#aafbff\", \"#f7bb5f\", \"#eafb50\"]\n",
    "# ))\n",
    "# group_lk = g.set_index('name')['group'].to_dict()"
   ]
  },
  {
   "cell_type": "code",
   "execution_count": null,
   "id": "gross-drinking",
   "metadata": {
    "papermill": {
     "duration": 0.03693,
     "end_time": "2022-04-02T00:34:30.949940",
     "exception": false,
     "start_time": "2022-04-02T00:34:30.913010",
     "status": "completed"
    },
    "tags": []
   },
   "outputs": [],
   "source": []
  },
  {
   "cell_type": "code",
   "execution_count": 41,
   "id": "subject-macintosh",
   "metadata": {
    "execution": {
     "iopub.execute_input": "2022-04-02T00:34:31.031247Z",
     "iopub.status.busy": "2022-04-02T00:34:31.030398Z",
     "iopub.status.idle": "2022-04-02T00:34:31.033150Z",
     "shell.execute_reply": "2022-04-02T00:34:31.032507Z"
    },
    "papermill": {
     "duration": 0.045501,
     "end_time": "2022-04-02T00:34:31.033317",
     "exception": false,
     "start_time": "2022-04-02T00:34:30.987816",
     "status": "completed"
    },
    "tags": []
   },
   "outputs": [],
   "source": [
    "# #hide\n",
    "# fig, ax = plt.subplots(figsize=(15, 8))\n",
    "\n",
    "# def draw_barchart(current_day):\n",
    "#     dff = g[g['day'].eq(current_day)].sort_values(by='value', ascending=True).tail(10)\n",
    "#     ax.clear()\n",
    "#     ax.barh(dff['name'], dff['value'], color=[colors[group_lk[x]] for x in dff['name']])\n",
    "#     dx = dff['value'].max() / 200\n",
    "    \n",
    "#     for i, (value, name) in enumerate(zip(dff['value'], dff['name'])):\n",
    "#         ax.text(value-dx, i,     name,           size=14, weight=600, ha='right', va='bottom')\n",
    "#         ax.text(value-dx, i-.25, group_lk[name], size=10, color='#444444', ha='right', va='baseline')\n",
    "#         ax.text(value+dx, i,     f'{value:,.0f}',  size=14, ha='left',  va='center')\n",
    "#     ax.text(1, 0.4, current_day, transform=ax.transAxes, color='#777777', size=46, ha='right', weight=800)\n",
    "#     ax.text(0, 1.06, 'Population (thousands)', transform=ax.transAxes, size=12, color='#777777')\n",
    "#     ax.xaxis.set_major_formatter(ticker.StrMethodFormatter('{x:,.0f}'))\n",
    "#     ax.xaxis.set_ticks_position('top')\n",
    "#     ax.tick_params(axis='x', colors='#777777', labelsize=12)\n",
    "#     ax.set_yticks([])\n",
    "#     ax.margins(0, 0.01)\n",
    "#     ax.grid(which='major', axis='x', linestyle='-')\n",
    "#     ax.set_axisbelow(True)\n",
    "    \n",
    "#     ax.text(0, 1.15, 'Coronavirus',\n",
    "#             transform=ax.transAxes, size=24, weight=600, ha='left', va='top')\n",
    "# #     ax.text(1, 0, 'by @pratapvardhan; credit @jburnmurdoch', transform=ax.transAxes, color='#777777', ha='right',\n",
    "# #             bbox=dict(facecolor='white', alpha=0.8, edgecolor='white'))\n",
    "#     plt.box(False)"
   ]
  },
  {
   "cell_type": "code",
   "execution_count": 42,
   "id": "sexual-wages",
   "metadata": {
    "execution": {
     "iopub.execute_input": "2022-04-02T00:34:31.118308Z",
     "iopub.status.busy": "2022-04-02T00:34:31.117596Z",
     "iopub.status.idle": "2022-04-02T00:34:31.121695Z",
     "shell.execute_reply": "2022-04-02T00:34:31.119915Z"
    },
    "papermill": {
     "duration": 0.047549,
     "end_time": "2022-04-02T00:34:31.121859",
     "exception": false,
     "start_time": "2022-04-02T00:34:31.074310",
     "status": "completed"
    },
    "tags": []
   },
   "outputs": [],
   "source": [
    "# #hide_input\n",
    "# fig, ax = plt.subplots(figsize=(15, 8))\n",
    "# animator = animation.FuncAnimation(fig, draw_barchart, frames=range(g.day.values.min(), g.day.values.max()))\n",
    "# HTML(animator.to_jshtml())\n",
    "# # or use animator.to_html5_video() or animator.save() "
   ]
  },
  {
   "cell_type": "code",
   "execution_count": null,
   "id": "australian-container",
   "metadata": {
    "papermill": {
     "duration": 0.037692,
     "end_time": "2022-04-02T00:34:31.200172",
     "exception": false,
     "start_time": "2022-04-02T00:34:31.162480",
     "status": "completed"
    },
    "tags": []
   },
   "outputs": [],
   "source": []
  },
  {
   "cell_type": "code",
   "execution_count": null,
   "id": "mediterranean-pontiac",
   "metadata": {
    "papermill": {
     "duration": 0.036082,
     "end_time": "2022-04-02T00:34:31.274708",
     "exception": false,
     "start_time": "2022-04-02T00:34:31.238626",
     "status": "completed"
    },
    "tags": []
   },
   "outputs": [],
   "source": []
  },
  {
   "cell_type": "code",
   "execution_count": null,
   "id": "aging-legislature",
   "metadata": {
    "papermill": {
     "duration": 0.038563,
     "end_time": "2022-04-02T00:34:31.352900",
     "exception": false,
     "start_time": "2022-04-02T00:34:31.314337",
     "status": "completed"
    },
    "tags": []
   },
   "outputs": [],
   "source": []
  }
 ],
 "metadata": {
  "kernelspec": {
   "display_name": "Python 3",
   "language": "python",
   "name": "python3"
  },
  "language_info": {
   "codemirror_mode": {
    "name": "ipython",
    "version": 3
   },
   "file_extension": ".py",
   "mimetype": "text/x-python",
   "name": "python",
   "nbconvert_exporter": "python",
   "pygments_lexer": "ipython3",
   "version": "3.6.15"
  },
  "papermill": {
   "duration": 7.311497,
   "end_time": "2022-04-02T00:34:31.809585",
   "environment_variables": {},
   "exception": null,
   "input_path": "2020-03-21-covid19exp.ipynb",
   "output_path": "2020-03-21-covid19exp.ipynb",
   "parameters": {},
   "start_time": "2022-04-02T00:34:24.498088",
   "version": "2.0.0"
  }
 },
 "nbformat": 4,
 "nbformat_minor": 5
}