{
 "cells": [
  {
   "cell_type": "markdown",
   "id": "muslim-click",
   "metadata": {
    "papermill": {
     "duration": 0.033865,
     "end_time": "2022-01-29T00:24:00.270956",
     "exception": false,
     "start_time": "2022-01-29T00:24:00.237091",
     "status": "completed"
    },
    "tags": []
   },
   "source": [
    "# COVID-19 Case Race\n",
    "> A race chart to see rising cases around the world\n",
    "\n",
    "- author: Hargun Oberoi\n",
    "- image: images/covid-overview.png\n",
    "- hide: false\n",
    "- badges: false"
   ]
  },
  {
   "cell_type": "code",
   "execution_count": 1,
   "id": "proof-material",
   "metadata": {
    "execution": {
     "iopub.execute_input": "2022-01-29T00:24:00.341129Z",
     "iopub.status.busy": "2022-01-29T00:24:00.340604Z",
     "iopub.status.idle": "2022-01-29T00:24:00.656665Z",
     "shell.execute_reply": "2022-01-29T00:24:00.656136Z"
    },
    "papermill": {
     "duration": 0.355778,
     "end_time": "2022-01-29T00:24:00.656815",
     "exception": false,
     "start_time": "2022-01-29T00:24:00.301037",
     "status": "completed"
    },
    "tags": []
   },
   "outputs": [],
   "source": [
    "#hide\n",
    "import numpy as np\n",
    "import pandas as pd\n",
    "from jinja2 import Template\n",
    "from IPython.display import HTML"
   ]
  },
  {
   "cell_type": "code",
   "execution_count": 2,
   "id": "developed-terminology",
   "metadata": {
    "execution": {
     "iopub.execute_input": "2022-01-29T00:24:00.722152Z",
     "iopub.status.busy": "2022-01-29T00:24:00.721525Z",
     "iopub.status.idle": "2022-01-29T00:24:00.724789Z",
     "shell.execute_reply": "2022-01-29T00:24:00.724375Z"
    },
    "papermill": {
     "duration": 0.037799,
     "end_time": "2022-01-29T00:24:00.724901",
     "exception": false,
     "start_time": "2022-01-29T00:24:00.687102",
     "status": "completed"
    },
    "tags": []
   },
   "outputs": [],
   "source": [
    "#hide\n",
    "\n",
    "# FETCH\n",
    "base_url = 'https://raw.githubusercontent.com/pratapvardhan/notebooks/master/covid19/'\n",
    "paths = {\n",
    "    'mapping': base_url + 'mapping_countries.csv',\n",
    "    'overview': base_url + 'overview.tpl'\n",
    "}"
   ]
  },
  {
   "cell_type": "code",
   "execution_count": 3,
   "id": "dynamic-saver",
   "metadata": {
    "execution": {
     "iopub.execute_input": "2022-01-29T00:24:00.793910Z",
     "iopub.status.busy": "2022-01-29T00:24:00.791382Z",
     "iopub.status.idle": "2022-01-29T00:24:00.796861Z",
     "shell.execute_reply": "2022-01-29T00:24:00.796430Z"
    },
    "papermill": {
     "duration": 0.042688,
     "end_time": "2022-01-29T00:24:00.796967",
     "exception": false,
     "start_time": "2022-01-29T00:24:00.754279",
     "status": "completed"
    },
    "tags": []
   },
   "outputs": [
    {
     "data": {
      "text/plain": [
       "'https://raw.githubusercontent.com/pratapvardhan/notebooks/master/covid19/mapping_countries.csv'"
      ]
     },
     "execution_count": 3,
     "metadata": {},
     "output_type": "execute_result"
    }
   ],
   "source": [
    "#hide\n",
    "paths['mapping']"
   ]
  },
  {
   "cell_type": "code",
   "execution_count": 4,
   "id": "urban-software",
   "metadata": {
    "execution": {
     "iopub.execute_input": "2022-01-29T00:24:00.861792Z",
     "iopub.status.busy": "2022-01-29T00:24:00.861203Z",
     "iopub.status.idle": "2022-01-29T00:24:00.862895Z",
     "shell.execute_reply": "2022-01-29T00:24:00.863359Z"
    },
    "papermill": {
     "duration": 0.036633,
     "end_time": "2022-01-29T00:24:00.863493",
     "exception": false,
     "start_time": "2022-01-29T00:24:00.826860",
     "status": "completed"
    },
    "tags": []
   },
   "outputs": [],
   "source": [
    "#hide\n",
    "def get_mappings(url):\n",
    "    df = pd.read_csv(url)\n",
    "    return {\n",
    "        'df': df,\n",
    "        'replace.country': dict(df.dropna(subset=['Name']).set_index('Country')['Name']),\n",
    "        'map.continent': dict(df.set_index('Name')['Continent'])\n",
    "    }"
   ]
  },
  {
   "cell_type": "code",
   "execution_count": 5,
   "id": "intimate-machinery",
   "metadata": {
    "execution": {
     "iopub.execute_input": "2022-01-29T00:24:00.927791Z",
     "iopub.status.busy": "2022-01-29T00:24:00.927281Z",
     "iopub.status.idle": "2022-01-29T00:24:00.972045Z",
     "shell.execute_reply": "2022-01-29T00:24:00.971589Z"
    },
    "papermill": {
     "duration": 0.07874,
     "end_time": "2022-01-29T00:24:00.972166",
     "exception": false,
     "start_time": "2022-01-29T00:24:00.893426",
     "status": "completed"
    },
    "tags": []
   },
   "outputs": [],
   "source": [
    "#hide\n",
    "mapping = get_mappings(paths['mapping'])"
   ]
  },
  {
   "cell_type": "code",
   "execution_count": 6,
   "id": "certified-tactics",
   "metadata": {
    "execution": {
     "iopub.execute_input": "2022-01-29T00:24:01.037062Z",
     "iopub.status.busy": "2022-01-29T00:24:01.036548Z",
     "iopub.status.idle": "2022-01-29T00:24:01.038710Z",
     "shell.execute_reply": "2022-01-29T00:24:01.039092Z"
    },
    "papermill": {
     "duration": 0.0367,
     "end_time": "2022-01-29T00:24:01.039220",
     "exception": false,
     "start_time": "2022-01-29T00:24:01.002520",
     "status": "completed"
    },
    "tags": []
   },
   "outputs": [],
   "source": [
    "#hide\n",
    "def get_template(path):\n",
    "    from urllib.parse import urlparse\n",
    "    if bool(urlparse(path).netloc):\n",
    "        from urllib.request import urlopen\n",
    "        return urlopen(path).read().decode('utf8')\n",
    "    return open(path).read()"
   ]
  },
  {
   "cell_type": "code",
   "execution_count": 7,
   "id": "realistic-blast",
   "metadata": {
    "execution": {
     "iopub.execute_input": "2022-01-29T00:24:01.103167Z",
     "iopub.status.busy": "2022-01-29T00:24:01.102641Z",
     "iopub.status.idle": "2022-01-29T00:24:01.104774Z",
     "shell.execute_reply": "2022-01-29T00:24:01.104346Z"
    },
    "papermill": {
     "duration": 0.036035,
     "end_time": "2022-01-29T00:24:01.104877",
     "exception": false,
     "start_time": "2022-01-29T00:24:01.068842",
     "status": "completed"
    },
    "tags": []
   },
   "outputs": [],
   "source": [
    "#hide\n",
    "def get_frame(name):\n",
    "    url = (\n",
    "        'https://raw.githubusercontent.com/CSSEGISandData/COVID-19/master/csse_covid_19_data/'\n",
    "        f'csse_covid_19_time_series/time_series_covid19_{name}_global.csv')\n",
    "    df = pd.read_csv(url)\n",
    "    # rename countries\n",
    "    df['Country/Region'] = df['Country/Region'].replace(mapping['replace.country'])\n",
    "    return df"
   ]
  },
  {
   "cell_type": "code",
   "execution_count": 8,
   "id": "affiliated-characterization",
   "metadata": {
    "execution": {
     "iopub.execute_input": "2022-01-29T00:24:01.167439Z",
     "iopub.status.busy": "2022-01-29T00:24:01.166928Z",
     "iopub.status.idle": "2022-01-29T00:24:01.171959Z",
     "shell.execute_reply": "2022-01-29T00:24:01.171550Z"
    },
    "papermill": {
     "duration": 0.037481,
     "end_time": "2022-01-29T00:24:01.172066",
     "exception": false,
     "start_time": "2022-01-29T00:24:01.134585",
     "status": "completed"
    },
    "tags": []
   },
   "outputs": [],
   "source": [
    "#hide\n",
    "def get_dates(df):\n",
    "    dt_cols = df.columns[~df.columns.isin(['Province/State', 'Country/Region', 'Lat', 'Long'])]\n",
    "    LAST_DATE_I = -1\n",
    "    # sometimes last column may be empty, then go backwards\n",
    "    for i in range(-1, -len(dt_cols), -1):\n",
    "        if not df[dt_cols[i]].fillna(0).eq(0).all():\n",
    "            LAST_DATE_I = i\n",
    "            break\n",
    "    return LAST_DATE_I, dt_cols"
   ]
  },
  {
   "cell_type": "code",
   "execution_count": 9,
   "id": "recent-optimization",
   "metadata": {
    "execution": {
     "iopub.execute_input": "2022-01-29T00:24:01.235922Z",
     "iopub.status.busy": "2022-01-29T00:24:01.235407Z",
     "iopub.status.idle": "2022-01-29T00:24:01.554873Z",
     "shell.execute_reply": "2022-01-29T00:24:01.554294Z"
    },
    "papermill": {
     "duration": 0.353501,
     "end_time": "2022-01-29T00:24:01.554994",
     "exception": false,
     "start_time": "2022-01-29T00:24:01.201493",
     "status": "completed"
    },
    "tags": []
   },
   "outputs": [],
   "source": [
    "#hide\n",
    "COL_REGION = 'Country/Region'\n",
    "# Confirmed, Recovered, Deaths\n",
    "df = get_frame('confirmed')\n",
    "# dft_: timeseries, dfc_: today country agg\n",
    "dft_cases = df\n",
    "dft_deaths = get_frame('deaths')\n",
    "dft_recovered = get_frame('recovered')\n",
    "LAST_DATE_I, dt_cols = get_dates(df)"
   ]
  },
  {
   "cell_type": "code",
   "execution_count": 10,
   "id": "absolute-copper",
   "metadata": {
    "execution": {
     "iopub.execute_input": "2022-01-29T00:24:01.620167Z",
     "iopub.status.busy": "2022-01-29T00:24:01.619662Z",
     "iopub.status.idle": "2022-01-29T00:24:01.621707Z",
     "shell.execute_reply": "2022-01-29T00:24:01.622211Z"
    },
    "papermill": {
     "duration": 0.037385,
     "end_time": "2022-01-29T00:24:01.622339",
     "exception": false,
     "start_time": "2022-01-29T00:24:01.584954",
     "status": "completed"
    },
    "tags": []
   },
   "outputs": [],
   "source": [
    "#hide\n",
    "LAST_DATE_I, dt_cols = get_dates(df)\n",
    "dt_today =dt_cols[LAST_DATE_I]\n",
    "# dt_5day = dt_cols[LAST_DATE_I - 5]\n",
    "dt_yday = dt_cols[LAST_DATE_I - 1]"
   ]
  },
  {
   "cell_type": "code",
   "execution_count": 11,
   "id": "restricted-sheriff",
   "metadata": {
    "execution": {
     "iopub.execute_input": "2022-01-29T00:24:01.686875Z",
     "iopub.status.busy": "2022-01-29T00:24:01.686361Z",
     "iopub.status.idle": "2022-01-29T00:24:01.693714Z",
     "shell.execute_reply": "2022-01-29T00:24:01.693304Z"
    },
    "papermill": {
     "duration": 0.041862,
     "end_time": "2022-01-29T00:24:01.693823",
     "exception": false,
     "start_time": "2022-01-29T00:24:01.651961",
     "status": "completed"
    },
    "tags": []
   },
   "outputs": [],
   "source": [
    "#hide\n",
    "dfc_cases = dft_cases.groupby(COL_REGION)[dt_today].sum()\n",
    "dfc_deaths = dft_deaths.groupby(COL_REGION)[dt_today].sum()\n",
    "# dfp_cases = dft_cases.groupby(COL_REGION)[dt_5day].sum()\n",
    "# dfp_deaths = dft_deaths.groupby(COL_REGION)[dt_5day].sum()\n",
    "dfp_cases = dft_cases.groupby(COL_REGION)[dt_yday].sum()\n",
    "dfp_deaths = dft_deaths.groupby(COL_REGION)[dt_yday].sum()"
   ]
  },
  {
   "cell_type": "code",
   "execution_count": 12,
   "id": "deluxe-hepatitis",
   "metadata": {
    "execution": {
     "iopub.execute_input": "2022-01-29T00:24:01.759356Z",
     "iopub.status.busy": "2022-01-29T00:24:01.758836Z",
     "iopub.status.idle": "2022-01-29T00:24:01.762728Z",
     "shell.execute_reply": "2022-01-29T00:24:01.762317Z"
    },
    "papermill": {
     "duration": 0.039345,
     "end_time": "2022-01-29T00:24:01.762835",
     "exception": false,
     "start_time": "2022-01-29T00:24:01.723490",
     "status": "completed"
    },
    "tags": []
   },
   "outputs": [],
   "source": [
    "#hide\n",
    "df_table = (pd.DataFrame(dict(Cases = dfc_cases, Deaths = dfc_deaths, PCases = dfp_cases, PDeaths = dfp_deaths))\n",
    "            .sort_values(by = ['Cases','Deaths'], ascending = [False, False])\n",
    "            .reset_index())"
   ]
  },
  {
   "cell_type": "code",
   "execution_count": 13,
   "id": "educational-chancellor",
   "metadata": {
    "execution": {
     "iopub.execute_input": "2022-01-29T00:24:01.839652Z",
     "iopub.status.busy": "2022-01-29T00:24:01.839140Z",
     "iopub.status.idle": "2022-01-29T00:24:01.846688Z",
     "shell.execute_reply": "2022-01-29T00:24:01.846279Z"
    },
    "papermill": {
     "duration": 0.054435,
     "end_time": "2022-01-29T00:24:01.846795",
     "exception": false,
     "start_time": "2022-01-29T00:24:01.792360",
     "status": "completed"
    },
    "tags": []
   },
   "outputs": [
    {
     "data": {
      "text/html": [
       "<div>\n",
       "<style scoped>\n",
       "    .dataframe tbody tr th:only-of-type {\n",
       "        vertical-align: middle;\n",
       "    }\n",
       "\n",
       "    .dataframe tbody tr th {\n",
       "        vertical-align: top;\n",
       "    }\n",
       "\n",
       "    .dataframe thead th {\n",
       "        text-align: right;\n",
       "    }\n",
       "</style>\n",
       "<table border=\"1\" class=\"dataframe\">\n",
       "  <thead>\n",
       "    <tr style=\"text-align: right;\">\n",
       "      <th></th>\n",
       "      <th>Country/Region</th>\n",
       "      <th>Cases</th>\n",
       "      <th>Deaths</th>\n",
       "      <th>PCases</th>\n",
       "      <th>PDeaths</th>\n",
       "      <th>Cases (+)</th>\n",
       "      <th>Deaths (+)</th>\n",
       "      <th>Fatality Rate</th>\n",
       "      <th>Continent</th>\n",
       "    </tr>\n",
       "  </thead>\n",
       "  <tbody>\n",
       "    <tr>\n",
       "      <th>0</th>\n",
       "      <td>US</td>\n",
       "      <td>73424255</td>\n",
       "      <td>879006</td>\n",
       "      <td>72980648</td>\n",
       "      <td>876647</td>\n",
       "      <td>443607</td>\n",
       "      <td>2359</td>\n",
       "      <td>1.20</td>\n",
       "      <td>North America</td>\n",
       "    </tr>\n",
       "    <tr>\n",
       "      <th>1</th>\n",
       "      <td>India</td>\n",
       "      <td>40622709</td>\n",
       "      <td>492327</td>\n",
       "      <td>40371500</td>\n",
       "      <td>491700</td>\n",
       "      <td>251209</td>\n",
       "      <td>627</td>\n",
       "      <td>1.21</td>\n",
       "      <td>Asia</td>\n",
       "    </tr>\n",
       "    <tr>\n",
       "      <th>2</th>\n",
       "      <td>Brazil</td>\n",
       "      <td>24789795</td>\n",
       "      <td>625390</td>\n",
       "      <td>24560093</td>\n",
       "      <td>624717</td>\n",
       "      <td>229702</td>\n",
       "      <td>673</td>\n",
       "      <td>2.52</td>\n",
       "      <td>South America</td>\n",
       "    </tr>\n",
       "    <tr>\n",
       "      <th>3</th>\n",
       "      <td>France</td>\n",
       "      <td>18241888</td>\n",
       "      <td>131008</td>\n",
       "      <td>17848291</td>\n",
       "      <td>130739</td>\n",
       "      <td>393597</td>\n",
       "      <td>269</td>\n",
       "      <td>0.72</td>\n",
       "      <td>Europe</td>\n",
       "    </tr>\n",
       "    <tr>\n",
       "      <th>4</th>\n",
       "      <td>United Kingdom</td>\n",
       "      <td>16358047</td>\n",
       "      <td>155561</td>\n",
       "      <td>16260882</td>\n",
       "      <td>155221</td>\n",
       "      <td>97165</td>\n",
       "      <td>340</td>\n",
       "      <td>0.95</td>\n",
       "      <td>Europe</td>\n",
       "    </tr>\n",
       "  </tbody>\n",
       "</table>\n",
       "</div>"
      ],
      "text/plain": [
       "   Country/Region     Cases  Deaths    PCases  PDeaths  Cases (+)  Deaths (+)  \\\n",
       "0              US  73424255  879006  72980648   876647     443607        2359   \n",
       "1           India  40622709  492327  40371500   491700     251209         627   \n",
       "2          Brazil  24789795  625390  24560093   624717     229702         673   \n",
       "3          France  18241888  131008  17848291   130739     393597         269   \n",
       "4  United Kingdom  16358047  155561  16260882   155221      97165         340   \n",
       "\n",
       "   Fatality Rate      Continent  \n",
       "0           1.20  North America  \n",
       "1           1.21           Asia  \n",
       "2           2.52  South America  \n",
       "3           0.72         Europe  \n",
       "4           0.95         Europe  "
      ]
     },
     "execution_count": 13,
     "metadata": {},
     "output_type": "execute_result"
    }
   ],
   "source": [
    "#hide\n",
    "for c in 'Cases, Deaths'.split(', '):\n",
    "    df_table[f'{c} (+)'] = (df_table[c] - df_table[f'P{c}']).clip(0)\n",
    "    #Clip ça veut dire, les chiffres negatif sont interdit\n",
    "df_table['Fatality Rate'] = (100* df_table['Deaths']/ df_table['Cases']).round(2)\n",
    "df_table['Continent'] = df_table['Country/Region'].map(mapping['map.continent'])\n",
    "df_table.head(5)"
   ]
  },
  {
   "cell_type": "code",
   "execution_count": 14,
   "id": "aboriginal-bulgaria",
   "metadata": {
    "execution": {
     "iopub.execute_input": "2022-01-29T00:24:01.912095Z",
     "iopub.status.busy": "2022-01-29T00:24:01.911591Z",
     "iopub.status.idle": "2022-01-29T00:24:01.913443Z",
     "shell.execute_reply": "2022-01-29T00:24:01.913844Z"
    },
    "papermill": {
     "duration": 0.037162,
     "end_time": "2022-01-29T00:24:01.913965",
     "exception": false,
     "start_time": "2022-01-29T00:24:01.876803",
     "status": "completed"
    },
    "tags": []
   },
   "outputs": [],
   "source": [
    "#hide\n",
    "#delete problematic countries from table\n",
    "df_table = df_table[~df_table['Country/Region'].isin(['Cape Verde', 'Cruise Ship', 'Kosovo'])]"
   ]
  },
  {
   "cell_type": "code",
   "execution_count": 15,
   "id": "fantastic-effect",
   "metadata": {
    "execution": {
     "iopub.execute_input": "2022-01-29T00:24:01.976407Z",
     "iopub.status.busy": "2022-01-29T00:24:01.975907Z",
     "iopub.status.idle": "2022-01-29T00:24:01.998214Z",
     "shell.execute_reply": "2022-01-29T00:24:01.997782Z"
    },
    "papermill": {
     "duration": 0.054532,
     "end_time": "2022-01-29T00:24:01.998324",
     "exception": false,
     "start_time": "2022-01-29T00:24:01.943792",
     "status": "completed"
    },
    "tags": []
   },
   "outputs": [
    {
     "data": {
      "text/html": [
       "<div>\n",
       "<style scoped>\n",
       "    .dataframe tbody tr th:only-of-type {\n",
       "        vertical-align: middle;\n",
       "    }\n",
       "\n",
       "    .dataframe tbody tr th {\n",
       "        vertical-align: top;\n",
       "    }\n",
       "\n",
       "    .dataframe thead th {\n",
       "        text-align: right;\n",
       "    }\n",
       "</style>\n",
       "<table border=\"1\" class=\"dataframe\">\n",
       "  <thead>\n",
       "    <tr style=\"text-align: right;\">\n",
       "      <th></th>\n",
       "      <th>Country/Region</th>\n",
       "      <th>Cases</th>\n",
       "      <th>Deaths</th>\n",
       "      <th>PCases</th>\n",
       "      <th>PDeaths</th>\n",
       "      <th>Cases (+)</th>\n",
       "      <th>Deaths (+)</th>\n",
       "      <th>Fatality Rate</th>\n",
       "      <th>Continent</th>\n",
       "    </tr>\n",
       "  </thead>\n",
       "  <tbody>\n",
       "    <tr>\n",
       "      <th>0</th>\n",
       "      <td>US</td>\n",
       "      <td>73424255</td>\n",
       "      <td>879006</td>\n",
       "      <td>72980648</td>\n",
       "      <td>876647</td>\n",
       "      <td>443607</td>\n",
       "      <td>2359</td>\n",
       "      <td>1.2</td>\n",
       "      <td>North America</td>\n",
       "    </tr>\n",
       "    <tr>\n",
       "      <th>1</th>\n",
       "      <td>India</td>\n",
       "      <td>40622709</td>\n",
       "      <td>492327</td>\n",
       "      <td>40371500</td>\n",
       "      <td>491700</td>\n",
       "      <td>251209</td>\n",
       "      <td>627</td>\n",
       "      <td>1.2</td>\n",
       "      <td>Asia</td>\n",
       "    </tr>\n",
       "    <tr>\n",
       "      <th>2</th>\n",
       "      <td>Brazil</td>\n",
       "      <td>24789795</td>\n",
       "      <td>625390</td>\n",
       "      <td>24560093</td>\n",
       "      <td>624717</td>\n",
       "      <td>229702</td>\n",
       "      <td>673</td>\n",
       "      <td>2.5</td>\n",
       "      <td>South America</td>\n",
       "    </tr>\n",
       "    <tr>\n",
       "      <th>3</th>\n",
       "      <td>France</td>\n",
       "      <td>18241888</td>\n",
       "      <td>131008</td>\n",
       "      <td>17848291</td>\n",
       "      <td>130739</td>\n",
       "      <td>393597</td>\n",
       "      <td>269</td>\n",
       "      <td>0.7</td>\n",
       "      <td>Europe</td>\n",
       "    </tr>\n",
       "    <tr>\n",
       "      <th>4</th>\n",
       "      <td>United Kingdom</td>\n",
       "      <td>16358047</td>\n",
       "      <td>155561</td>\n",
       "      <td>16260882</td>\n",
       "      <td>155221</td>\n",
       "      <td>97165</td>\n",
       "      <td>340</td>\n",
       "      <td>1.0</td>\n",
       "      <td>Europe</td>\n",
       "    </tr>\n",
       "  </tbody>\n",
       "</table>\n",
       "</div>"
      ],
      "text/plain": [
       "   Country/Region     Cases  Deaths    PCases  PDeaths  Cases (+)  Deaths (+)  \\\n",
       "0              US  73424255  879006  72980648   876647     443607        2359   \n",
       "1           India  40622709  492327  40371500   491700     251209         627   \n",
       "2          Brazil  24789795  625390  24560093   624717     229702         673   \n",
       "3          France  18241888  131008  17848291   130739     393597         269   \n",
       "4  United Kingdom  16358047  155561  16260882   155221      97165         340   \n",
       "\n",
       "   Fatality Rate      Continent  \n",
       "0            1.2  North America  \n",
       "1            1.2           Asia  \n",
       "2            2.5  South America  \n",
       "3            0.7         Europe  \n",
       "4            1.0         Europe  "
      ]
     },
     "execution_count": 15,
     "metadata": {},
     "output_type": "execute_result"
    }
   ],
   "source": [
    "#hide\n",
    "df_table = (pd.DataFrame(dict(Cases=dfc_cases, Deaths=dfc_deaths, PCases=dfp_cases, PDeaths=dfp_deaths))\n",
    "             .sort_values(by=['Cases', 'Deaths'], ascending=[False, False])\n",
    "             .reset_index())\n",
    "df_table.rename(columns={'index': 'Country/Region'}, inplace=True)\n",
    "for c in 'Cases, Deaths'.split(', '):\n",
    "    df_table[f'{c} (+)'] = (df_table[c] - df_table[f'P{c}']).clip(0)  # DATA BUG\n",
    "df_table['Fatality Rate'] = (100 * df_table['Deaths'] / df_table['Cases']).round(1)\n",
    "df_table['Continent'] = df_table['Country/Region'].map(mapping['map.continent'])\n",
    "df_table.head(5)"
   ]
  },
  {
   "cell_type": "code",
   "execution_count": 16,
   "id": "fewer-occasion",
   "metadata": {
    "execution": {
     "iopub.execute_input": "2022-01-29T00:24:02.064688Z",
     "iopub.status.busy": "2022-01-29T00:24:02.064176Z",
     "iopub.status.idle": "2022-01-29T00:24:02.067338Z",
     "shell.execute_reply": "2022-01-29T00:24:02.066905Z"
    },
    "papermill": {
     "duration": 0.038375,
     "end_time": "2022-01-29T00:24:02.067446",
     "exception": false,
     "start_time": "2022-01-29T00:24:02.029071",
     "status": "completed"
    },
    "tags": []
   },
   "outputs": [],
   "source": [
    "#hide\n",
    "#delete problematic countries from table\n",
    "df_table = df_table[~df_table['Country/Region'].isin(['Cape Verde', 'Cruise Ship', 'Kosovo'])]"
   ]
  },
  {
   "cell_type": "code",
   "execution_count": 17,
   "id": "related-center",
   "metadata": {
    "execution": {
     "iopub.execute_input": "2022-01-29T00:24:02.135835Z",
     "iopub.status.busy": "2022-01-29T00:24:02.135271Z",
     "iopub.status.idle": "2022-01-29T00:24:02.148132Z",
     "shell.execute_reply": "2022-01-29T00:24:02.147721Z"
    },
    "papermill": {
     "duration": 0.050176,
     "end_time": "2022-01-29T00:24:02.148243",
     "exception": false,
     "start_time": "2022-01-29T00:24:02.098067",
     "status": "completed"
    },
    "tags": []
   },
   "outputs": [],
   "source": [
    "#hide\n",
    "metrics = [df_table.columns[index] for index in [1,2,5,6]]\n",
    "# s_china = df_table[df_table['Country/Region'].eq('China')][metrics].sum().add_prefix('China ')\n",
    "s_us = df_table[df_table['Country/Region'].eq('US')][metrics].sum().add_prefix('US ')\n",
    "s_eu = df_table[df_table['Continent'].eq('Europe')][metrics].sum().add_prefix('EU ')\n",
    "s_ind = df_table[df_table['Country/Region'].eq('India')][metrics].sum().add_prefix('India ')\n",
    "summary = {'updated': pd.to_datetime(dt_today), 'since': pd.to_datetime(dt_yday)}\n",
    "summary = {'updated': pd.to_datetime(dt_today), 'since': pd.to_datetime(dt_yday)}\n",
    "summary = {**summary, **df_table[metrics].sum(), **s_ind, **s_us, **s_eu}"
   ]
  },
  {
   "cell_type": "code",
   "execution_count": 18,
   "id": "engaging-syndrome",
   "metadata": {
    "execution": {
     "iopub.execute_input": "2022-01-29T00:24:02.214273Z",
     "iopub.status.busy": "2022-01-29T00:24:02.213729Z",
     "iopub.status.idle": "2022-01-29T00:24:02.228672Z",
     "shell.execute_reply": "2022-01-29T00:24:02.228258Z"
    },
    "papermill": {
     "duration": 0.049925,
     "end_time": "2022-01-29T00:24:02.228784",
     "exception": false,
     "start_time": "2022-01-29T00:24:02.178859",
     "status": "completed"
    },
    "tags": []
   },
   "outputs": [],
   "source": [
    "#hide\n",
    "dft_ct_new_cases = dft_cases.groupby(COL_REGION)[dt_cols].sum().diff(axis=1).fillna(0).astype(int)"
   ]
  },
  {
   "cell_type": "code",
   "execution_count": 19,
   "id": "neutral-assignment",
   "metadata": {
    "execution": {
     "iopub.execute_input": "2022-01-29T00:24:02.296328Z",
     "iopub.status.busy": "2022-01-29T00:24:02.295823Z",
     "iopub.status.idle": "2022-01-29T00:24:02.297957Z",
     "shell.execute_reply": "2022-01-29T00:24:02.298367Z"
    },
    "papermill": {
     "duration": 0.038988,
     "end_time": "2022-01-29T00:24:02.298499",
     "exception": false,
     "start_time": "2022-01-29T00:24:02.259511",
     "status": "completed"
    },
    "tags": []
   },
   "outputs": [],
   "source": [
    "#hide\n",
    "everydaycases = dft_ct_new_cases.cumsum(axis=1)"
   ]
  },
  {
   "cell_type": "code",
   "execution_count": 20,
   "id": "parliamentary-calgary",
   "metadata": {
    "execution": {
     "iopub.execute_input": "2022-01-29T00:24:02.364156Z",
     "iopub.status.busy": "2022-01-29T00:24:02.363640Z",
     "iopub.status.idle": "2022-01-29T00:24:02.960027Z",
     "shell.execute_reply": "2022-01-29T00:24:02.959511Z"
    },
    "papermill": {
     "duration": 0.630994,
     "end_time": "2022-01-29T00:24:02.960163",
     "exception": false,
     "start_time": "2022-01-29T00:24:02.329169",
     "status": "completed"
    },
    "tags": []
   },
   "outputs": [],
   "source": [
    "#hide\n",
    "import pandas as pd\n",
    "import matplotlib.pyplot as plt\n",
    "import matplotlib.ticker as ticker\n",
    "import matplotlib.animation as animation\n",
    "from IPython.display import HTML"
   ]
  },
  {
   "cell_type": "code",
   "execution_count": 21,
   "id": "lasting-extraction",
   "metadata": {
    "execution": {
     "iopub.execute_input": "2022-01-29T00:24:03.027513Z",
     "iopub.status.busy": "2022-01-29T00:24:03.027002Z",
     "iopub.status.idle": "2022-01-29T00:24:03.032839Z",
     "shell.execute_reply": "2022-01-29T00:24:03.033320Z"
    },
    "papermill": {
     "duration": 0.042579,
     "end_time": "2022-01-29T00:24:03.033449",
     "exception": false,
     "start_time": "2022-01-29T00:24:02.990870",
     "status": "completed"
    },
    "tags": []
   },
   "outputs": [],
   "source": [
    "#hide\n",
    "t = everydaycases.stack()"
   ]
  },
  {
   "cell_type": "code",
   "execution_count": 22,
   "id": "premier-sleeve",
   "metadata": {
    "execution": {
     "iopub.execute_input": "2022-01-29T00:24:03.099612Z",
     "iopub.status.busy": "2022-01-29T00:24:03.099096Z",
     "iopub.status.idle": "2022-01-29T00:24:03.109494Z",
     "shell.execute_reply": "2022-01-29T00:24:03.109075Z"
    },
    "papermill": {
     "duration": 0.045255,
     "end_time": "2022-01-29T00:24:03.109612",
     "exception": false,
     "start_time": "2022-01-29T00:24:03.064357",
     "status": "completed"
    },
    "tags": []
   },
   "outputs": [],
   "source": [
    "#hide\n",
    "g = t.reset_index(['Country/Region'])"
   ]
  },
  {
   "cell_type": "code",
   "execution_count": 23,
   "id": "distributed-pittsburgh",
   "metadata": {
    "execution": {
     "iopub.execute_input": "2022-01-29T00:24:03.175287Z",
     "iopub.status.busy": "2022-01-29T00:24:03.174714Z",
     "iopub.status.idle": "2022-01-29T00:24:03.176346Z",
     "shell.execute_reply": "2022-01-29T00:24:03.176727Z"
    },
    "papermill": {
     "duration": 0.036509,
     "end_time": "2022-01-29T00:24:03.176858",
     "exception": false,
     "start_time": "2022-01-29T00:24:03.140349",
     "status": "completed"
    },
    "tags": []
   },
   "outputs": [],
   "source": [
    "#hide\n",
    "g.index.name = 'date'"
   ]
  },
  {
   "cell_type": "code",
   "execution_count": 24,
   "id": "naked-donor",
   "metadata": {
    "execution": {
     "iopub.execute_input": "2022-01-29T00:24:03.241733Z",
     "iopub.status.busy": "2022-01-29T00:24:03.241141Z",
     "iopub.status.idle": "2022-01-29T00:24:03.243315Z",
     "shell.execute_reply": "2022-01-29T00:24:03.242797Z"
    },
    "papermill": {
     "duration": 0.035896,
     "end_time": "2022-01-29T00:24:03.243433",
     "exception": false,
     "start_time": "2022-01-29T00:24:03.207537",
     "status": "completed"
    },
    "tags": []
   },
   "outputs": [],
   "source": [
    "# #hide\n",
    "# g = g.reset_index(['date'])"
   ]
  },
  {
   "cell_type": "code",
   "execution_count": 25,
   "id": "incomplete-mustang",
   "metadata": {
    "execution": {
     "iopub.execute_input": "2022-01-29T00:24:03.308374Z",
     "iopub.status.busy": "2022-01-29T00:24:03.307848Z",
     "iopub.status.idle": "2022-01-29T00:24:03.310970Z",
     "shell.execute_reply": "2022-01-29T00:24:03.311356Z"
    },
    "papermill": {
     "duration": 0.037189,
     "end_time": "2022-01-29T00:24:03.311482",
     "exception": false,
     "start_time": "2022-01-29T00:24:03.274293",
     "status": "completed"
    },
    "tags": []
   },
   "outputs": [],
   "source": [
    "#hide\n",
    "# g.head()"
   ]
  },
  {
   "cell_type": "code",
   "execution_count": 26,
   "id": "specific-kruger",
   "metadata": {
    "execution": {
     "iopub.execute_input": "2022-01-29T00:24:03.376407Z",
     "iopub.status.busy": "2022-01-29T00:24:03.375807Z",
     "iopub.status.idle": "2022-01-29T00:24:03.377942Z",
     "shell.execute_reply": "2022-01-29T00:24:03.377455Z"
    },
    "papermill": {
     "duration": 0.035855,
     "end_time": "2022-01-29T00:24:03.378083",
     "exception": false,
     "start_time": "2022-01-29T00:24:03.342228",
     "status": "completed"
    },
    "tags": []
   },
   "outputs": [],
   "source": [
    "#hide\n",
    "# g.columns = ['date','country','cases']"
   ]
  },
  {
   "cell_type": "code",
   "execution_count": 27,
   "id": "tender-conversion",
   "metadata": {
    "execution": {
     "iopub.execute_input": "2022-01-29T00:24:03.442712Z",
     "iopub.status.busy": "2022-01-29T00:24:03.442113Z",
     "iopub.status.idle": "2022-01-29T00:24:03.443653Z",
     "shell.execute_reply": "2022-01-29T00:24:03.444114Z"
    },
    "papermill": {
     "duration": 0.035616,
     "end_time": "2022-01-29T00:24:03.444250",
     "exception": false,
     "start_time": "2022-01-29T00:24:03.408634",
     "status": "completed"
    },
    "tags": []
   },
   "outputs": [],
   "source": [
    "#hide\n",
    "# g['continent'] = g.country"
   ]
  },
  {
   "cell_type": "code",
   "execution_count": 28,
   "id": "substantial-wilderness",
   "metadata": {
    "execution": {
     "iopub.execute_input": "2022-01-29T00:24:03.509963Z",
     "iopub.status.busy": "2022-01-29T00:24:03.509373Z",
     "iopub.status.idle": "2022-01-29T00:24:03.512433Z",
     "shell.execute_reply": "2022-01-29T00:24:03.512815Z"
    },
    "papermill": {
     "duration": 0.03721,
     "end_time": "2022-01-29T00:24:03.512942",
     "exception": false,
     "start_time": "2022-01-29T00:24:03.475732",
     "status": "completed"
    },
    "tags": []
   },
   "outputs": [],
   "source": [
    "#hide\n",
    "# cols = list(g.columns.values)"
   ]
  },
  {
   "cell_type": "code",
   "execution_count": 29,
   "id": "solved-farming",
   "metadata": {
    "execution": {
     "iopub.execute_input": "2022-01-29T00:24:03.577937Z",
     "iopub.status.busy": "2022-01-29T00:24:03.577350Z",
     "iopub.status.idle": "2022-01-29T00:24:03.580592Z",
     "shell.execute_reply": "2022-01-29T00:24:03.581032Z"
    },
    "papermill": {
     "duration": 0.037783,
     "end_time": "2022-01-29T00:24:03.581173",
     "exception": false,
     "start_time": "2022-01-29T00:24:03.543390",
     "status": "completed"
    },
    "tags": []
   },
   "outputs": [],
   "source": [
    "#hide\n",
    "# cols.insert(0, cols.pop())"
   ]
  },
  {
   "cell_type": "code",
   "execution_count": 30,
   "id": "executed-adoption",
   "metadata": {
    "execution": {
     "iopub.execute_input": "2022-01-29T00:24:03.646626Z",
     "iopub.status.busy": "2022-01-29T00:24:03.645990Z",
     "iopub.status.idle": "2022-01-29T00:24:03.648914Z",
     "shell.execute_reply": "2022-01-29T00:24:03.648425Z"
    },
    "papermill": {
     "duration": 0.036926,
     "end_time": "2022-01-29T00:24:03.649031",
     "exception": false,
     "start_time": "2022-01-29T00:24:03.612105",
     "status": "completed"
    },
    "tags": []
   },
   "outputs": [],
   "source": [
    "#hide\n",
    "# g = g[cols]"
   ]
  },
  {
   "cell_type": "code",
   "execution_count": 31,
   "id": "subject-dublin",
   "metadata": {
    "execution": {
     "iopub.execute_input": "2022-01-29T00:24:03.714123Z",
     "iopub.status.busy": "2022-01-29T00:24:03.713508Z",
     "iopub.status.idle": "2022-01-29T00:24:03.715145Z",
     "shell.execute_reply": "2022-01-29T00:24:03.715599Z"
    },
    "papermill": {
     "duration": 0.035614,
     "end_time": "2022-01-29T00:24:03.715719",
     "exception": false,
     "start_time": "2022-01-29T00:24:03.680105",
     "status": "completed"
    },
    "tags": []
   },
   "outputs": [],
   "source": [
    "#hide\n",
    "# g['continent'] = g['continent'].map(mapping['map.continent'])"
   ]
  },
  {
   "cell_type": "code",
   "execution_count": 32,
   "id": "freelance-scout",
   "metadata": {
    "execution": {
     "iopub.execute_input": "2022-01-29T00:24:03.780206Z",
     "iopub.status.busy": "2022-01-29T00:24:03.779697Z",
     "iopub.status.idle": "2022-01-29T00:24:03.781957Z",
     "shell.execute_reply": "2022-01-29T00:24:03.781545Z"
    },
    "papermill": {
     "duration": 0.03581,
     "end_time": "2022-01-29T00:24:03.782090",
     "exception": false,
     "start_time": "2022-01-29T00:24:03.746280",
     "status": "completed"
    },
    "tags": []
   },
   "outputs": [],
   "source": [
    "#hide\n",
    "# g.head()"
   ]
  },
  {
   "cell_type": "code",
   "execution_count": 33,
   "id": "limited-engine",
   "metadata": {
    "execution": {
     "iopub.execute_input": "2022-01-29T00:24:03.846462Z",
     "iopub.status.busy": "2022-01-29T00:24:03.845842Z",
     "iopub.status.idle": "2022-01-29T00:24:03.848000Z",
     "shell.execute_reply": "2022-01-29T00:24:03.847537Z"
    },
    "papermill": {
     "duration": 0.035692,
     "end_time": "2022-01-29T00:24:03.848120",
     "exception": false,
     "start_time": "2022-01-29T00:24:03.812428",
     "status": "completed"
    },
    "tags": []
   },
   "outputs": [],
   "source": [
    "# hide\n",
    "# g['date'] = g['date'].astype('datetime64[ns]')"
   ]
  },
  {
   "cell_type": "code",
   "execution_count": 34,
   "id": "sophisticated-supervisor",
   "metadata": {
    "execution": {
     "iopub.execute_input": "2022-01-29T00:24:03.913198Z",
     "iopub.status.busy": "2022-01-29T00:24:03.912606Z",
     "iopub.status.idle": "2022-01-29T00:24:03.915904Z",
     "shell.execute_reply": "2022-01-29T00:24:03.916353Z"
    },
    "papermill": {
     "duration": 0.037793,
     "end_time": "2022-01-29T00:24:03.916494",
     "exception": false,
     "start_time": "2022-01-29T00:24:03.878701",
     "status": "completed"
    },
    "tags": []
   },
   "outputs": [],
   "source": [
    "#hide\n",
    "# g['date'] = g.date.dt.dayofyear"
   ]
  },
  {
   "cell_type": "code",
   "execution_count": 35,
   "id": "inside-dubai",
   "metadata": {
    "execution": {
     "iopub.execute_input": "2022-01-29T00:24:03.981231Z",
     "iopub.status.busy": "2022-01-29T00:24:03.980673Z",
     "iopub.status.idle": "2022-01-29T00:24:03.982681Z",
     "shell.execute_reply": "2022-01-29T00:24:03.982176Z"
    },
    "papermill": {
     "duration": 0.035478,
     "end_time": "2022-01-29T00:24:03.982785",
     "exception": false,
     "start_time": "2022-01-29T00:24:03.947307",
     "status": "completed"
    },
    "tags": []
   },
   "outputs": [],
   "source": [
    "#hide\n",
    "# g = g.rename(columns= {'continent':'group','country':'name','cases':'value'})"
   ]
  },
  {
   "cell_type": "code",
   "execution_count": 36,
   "id": "fleet-motorcycle",
   "metadata": {
    "execution": {
     "iopub.execute_input": "2022-01-29T00:24:04.047394Z",
     "iopub.status.busy": "2022-01-29T00:24:04.046812Z",
     "iopub.status.idle": "2022-01-29T00:24:04.048942Z",
     "shell.execute_reply": "2022-01-29T00:24:04.048477Z"
    },
    "papermill": {
     "duration": 0.035645,
     "end_time": "2022-01-29T00:24:04.049065",
     "exception": false,
     "start_time": "2022-01-29T00:24:04.013420",
     "status": "completed"
    },
    "tags": []
   },
   "outputs": [],
   "source": [
    "#hide\n",
    "# cols = ['name','group','day','value']"
   ]
  },
  {
   "cell_type": "code",
   "execution_count": 37,
   "id": "continued-sleeping",
   "metadata": {
    "execution": {
     "iopub.execute_input": "2022-01-29T00:24:04.114235Z",
     "iopub.status.busy": "2022-01-29T00:24:04.113619Z",
     "iopub.status.idle": "2022-01-29T00:24:04.115678Z",
     "shell.execute_reply": "2022-01-29T00:24:04.115244Z"
    },
    "papermill": {
     "duration": 0.035613,
     "end_time": "2022-01-29T00:24:04.115784",
     "exception": false,
     "start_time": "2022-01-29T00:24:04.080171",
     "status": "completed"
    },
    "tags": []
   },
   "outputs": [],
   "source": [
    "#hide\n",
    "# g.rename(columns= {'date':'day'},inplace = True)"
   ]
  },
  {
   "cell_type": "code",
   "execution_count": 38,
   "id": "major-fight",
   "metadata": {
    "execution": {
     "iopub.execute_input": "2022-01-29T00:24:04.180234Z",
     "iopub.status.busy": "2022-01-29T00:24:04.179654Z",
     "iopub.status.idle": "2022-01-29T00:24:04.181711Z",
     "shell.execute_reply": "2022-01-29T00:24:04.181146Z"
    },
    "papermill": {
     "duration": 0.035455,
     "end_time": "2022-01-29T00:24:04.181827",
     "exception": false,
     "start_time": "2022-01-29T00:24:04.146372",
     "status": "completed"
    },
    "tags": []
   },
   "outputs": [],
   "source": [
    "#hide\n",
    "# g = g[cols]"
   ]
  },
  {
   "cell_type": "code",
   "execution_count": 39,
   "id": "structured-mobile",
   "metadata": {
    "execution": {
     "iopub.execute_input": "2022-01-29T00:24:04.246881Z",
     "iopub.status.busy": "2022-01-29T00:24:04.246286Z",
     "iopub.status.idle": "2022-01-29T00:24:04.247689Z",
     "shell.execute_reply": "2022-01-29T00:24:04.248089Z"
    },
    "papermill": {
     "duration": 0.035505,
     "end_time": "2022-01-29T00:24:04.248207",
     "exception": false,
     "start_time": "2022-01-29T00:24:04.212702",
     "status": "completed"
    },
    "tags": []
   },
   "outputs": [],
   "source": [
    "# #hide\n",
    "# g = g[g.group.notna()]"
   ]
  },
  {
   "cell_type": "code",
   "execution_count": 40,
   "id": "determined-closing",
   "metadata": {
    "execution": {
     "iopub.execute_input": "2022-01-29T00:24:04.312769Z",
     "iopub.status.busy": "2022-01-29T00:24:04.312179Z",
     "iopub.status.idle": "2022-01-29T00:24:04.314335Z",
     "shell.execute_reply": "2022-01-29T00:24:04.313844Z"
    },
    "papermill": {
     "duration": 0.035714,
     "end_time": "2022-01-29T00:24:04.314461",
     "exception": false,
     "start_time": "2022-01-29T00:24:04.278747",
     "status": "completed"
    },
    "tags": []
   },
   "outputs": [],
   "source": [
    "# #hide\n",
    "# colors = dict(zip(\n",
    "#     [\"Oceania\", \"Europe\", \"Asia\", \"South America\", \"Middle East\", \"North America\", \"Africa\"],\n",
    "#     [\"#adb0ff\", \"#ffb3ff\", \"#90d595\", \"#e48381\", \"#aafbff\", \"#f7bb5f\", \"#eafb50\"]\n",
    "# ))\n",
    "# group_lk = g.set_index('name')['group'].to_dict()"
   ]
  },
  {
   "cell_type": "code",
   "execution_count": null,
   "id": "gross-drinking",
   "metadata": {
    "papermill": {
     "duration": 0.030322,
     "end_time": "2022-01-29T00:24:04.375590",
     "exception": false,
     "start_time": "2022-01-29T00:24:04.345268",
     "status": "completed"
    },
    "tags": []
   },
   "outputs": [],
   "source": []
  },
  {
   "cell_type": "code",
   "execution_count": 41,
   "id": "subject-macintosh",
   "metadata": {
    "execution": {
     "iopub.execute_input": "2022-01-29T00:24:04.440943Z",
     "iopub.status.busy": "2022-01-29T00:24:04.440414Z",
     "iopub.status.idle": "2022-01-29T00:24:04.442258Z",
     "shell.execute_reply": "2022-01-29T00:24:04.442671Z"
    },
    "papermill": {
     "duration": 0.036397,
     "end_time": "2022-01-29T00:24:04.442792",
     "exception": false,
     "start_time": "2022-01-29T00:24:04.406395",
     "status": "completed"
    },
    "tags": []
   },
   "outputs": [],
   "source": [
    "# #hide\n",
    "# fig, ax = plt.subplots(figsize=(15, 8))\n",
    "\n",
    "# def draw_barchart(current_day):\n",
    "#     dff = g[g['day'].eq(current_day)].sort_values(by='value', ascending=True).tail(10)\n",
    "#     ax.clear()\n",
    "#     ax.barh(dff['name'], dff['value'], color=[colors[group_lk[x]] for x in dff['name']])\n",
    "#     dx = dff['value'].max() / 200\n",
    "    \n",
    "#     for i, (value, name) in enumerate(zip(dff['value'], dff['name'])):\n",
    "#         ax.text(value-dx, i,     name,           size=14, weight=600, ha='right', va='bottom')\n",
    "#         ax.text(value-dx, i-.25, group_lk[name], size=10, color='#444444', ha='right', va='baseline')\n",
    "#         ax.text(value+dx, i,     f'{value:,.0f}',  size=14, ha='left',  va='center')\n",
    "#     ax.text(1, 0.4, current_day, transform=ax.transAxes, color='#777777', size=46, ha='right', weight=800)\n",
    "#     ax.text(0, 1.06, 'Population (thousands)', transform=ax.transAxes, size=12, color='#777777')\n",
    "#     ax.xaxis.set_major_formatter(ticker.StrMethodFormatter('{x:,.0f}'))\n",
    "#     ax.xaxis.set_ticks_position('top')\n",
    "#     ax.tick_params(axis='x', colors='#777777', labelsize=12)\n",
    "#     ax.set_yticks([])\n",
    "#     ax.margins(0, 0.01)\n",
    "#     ax.grid(which='major', axis='x', linestyle='-')\n",
    "#     ax.set_axisbelow(True)\n",
    "    \n",
    "#     ax.text(0, 1.15, 'Coronavirus',\n",
    "#             transform=ax.transAxes, size=24, weight=600, ha='left', va='top')\n",
    "# #     ax.text(1, 0, 'by @pratapvardhan; credit @jburnmurdoch', transform=ax.transAxes, color='#777777', ha='right',\n",
    "# #             bbox=dict(facecolor='white', alpha=0.8, edgecolor='white'))\n",
    "#     plt.box(False)"
   ]
  },
  {
   "cell_type": "code",
   "execution_count": 42,
   "id": "sexual-wages",
   "metadata": {
    "execution": {
     "iopub.execute_input": "2022-01-29T00:24:04.507342Z",
     "iopub.status.busy": "2022-01-29T00:24:04.506741Z",
     "iopub.status.idle": "2022-01-29T00:24:04.508508Z",
     "shell.execute_reply": "2022-01-29T00:24:04.508946Z"
    },
    "papermill": {
     "duration": 0.035858,
     "end_time": "2022-01-29T00:24:04.509085",
     "exception": false,
     "start_time": "2022-01-29T00:24:04.473227",
     "status": "completed"
    },
    "tags": []
   },
   "outputs": [],
   "source": [
    "# #hide_input\n",
    "# fig, ax = plt.subplots(figsize=(15, 8))\n",
    "# animator = animation.FuncAnimation(fig, draw_barchart, frames=range(g.day.values.min(), g.day.values.max()))\n",
    "# HTML(animator.to_jshtml())\n",
    "# # or use animator.to_html5_video() or animator.save() "
   ]
  },
  {
   "cell_type": "code",
   "execution_count": null,
   "id": "australian-container",
   "metadata": {
    "papermill": {
     "duration": 0.030528,
     "end_time": "2022-01-29T00:24:04.570507",
     "exception": false,
     "start_time": "2022-01-29T00:24:04.539979",
     "status": "completed"
    },
    "tags": []
   },
   "outputs": [],
   "source": []
  },
  {
   "cell_type": "code",
   "execution_count": null,
   "id": "mediterranean-pontiac",
   "metadata": {
    "papermill": {
     "duration": 0.030993,
     "end_time": "2022-01-29T00:24:04.631976",
     "exception": false,
     "start_time": "2022-01-29T00:24:04.600983",
     "status": "completed"
    },
    "tags": []
   },
   "outputs": [],
   "source": []
  },
  {
   "cell_type": "code",
   "execution_count": null,
   "id": "aging-legislature",
   "metadata": {
    "papermill": {
     "duration": 0.03032,
     "end_time": "2022-01-29T00:24:04.692962",
     "exception": false,
     "start_time": "2022-01-29T00:24:04.662642",
     "status": "completed"
    },
    "tags": []
   },
   "outputs": [],
   "source": []
  }
 ],
 "metadata": {
  "kernelspec": {
   "display_name": "Python 3",
   "language": "python",
   "name": "python3"
  },
  "language_info": {
   "codemirror_mode": {
    "name": "ipython",
    "version": 3
   },
   "file_extension": ".py",
   "mimetype": "text/x-python",
   "name": "python",
   "nbconvert_exporter": "python",
   "pygments_lexer": "ipython3",
   "version": "3.6.15"
  },
  "papermill": {
   "duration": 5.728097,
   "end_time": "2022-01-29T00:24:05.041796",
   "environment_variables": {},
   "exception": null,
   "input_path": "2020-03-21-covid19exp.ipynb",
   "output_path": "2020-03-21-covid19exp.ipynb",
   "parameters": {},
   "start_time": "2022-01-29T00:23:59.313699",
   "version": "2.0.0"
  }
 },
 "nbformat": 4,
 "nbformat_minor": 5
}