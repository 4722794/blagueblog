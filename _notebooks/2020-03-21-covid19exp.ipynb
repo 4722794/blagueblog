{
 "cells": [
  {
   "cell_type": "markdown",
   "metadata": {
    "papermill": {
     "duration": 0.0354,
     "end_time": "2020-11-23T00:10:17.579979",
     "exception": false,
     "start_time": "2020-11-23T00:10:17.544579",
     "status": "completed"
    },
    "tags": []
   },
   "source": [
    "# COVID-19 Case Race\n",
    "> A race chart to see rising cases around the world\n",
    "\n",
    "- author: Hargun Oberoi\n",
    "- image: images/covid-overview.png\n",
    "- hide: false\n",
    "- badges: false"
   ]
  },
  {
   "cell_type": "code",
   "execution_count": 1,
   "metadata": {
    "execution": {
     "iopub.execute_input": "2020-11-23T00:10:17.645350Z",
     "iopub.status.busy": "2020-11-23T00:10:17.644582Z",
     "iopub.status.idle": "2020-11-23T00:10:17.989646Z",
     "shell.execute_reply": "2020-11-23T00:10:17.989105Z"
    },
    "papermill": {
     "duration": 0.379617,
     "end_time": "2020-11-23T00:10:17.989807",
     "exception": false,
     "start_time": "2020-11-23T00:10:17.610190",
     "status": "completed"
    },
    "tags": []
   },
   "outputs": [],
   "source": [
    "#hide\n",
    "import numpy as np\n",
    "import pandas as pd\n",
    "from jinja2 import Template\n",
    "from IPython.display import HTML"
   ]
  },
  {
   "cell_type": "code",
   "execution_count": 2,
   "metadata": {
    "execution": {
     "iopub.execute_input": "2020-11-23T00:10:18.472643Z",
     "iopub.status.busy": "2020-11-23T00:10:18.472020Z",
     "iopub.status.idle": "2020-11-23T00:10:18.476156Z",
     "shell.execute_reply": "2020-11-23T00:10:18.476964Z"
    },
    "papermill": {
     "duration": 0.45477,
     "end_time": "2020-11-23T00:10:18.477121",
     "exception": false,
     "start_time": "2020-11-23T00:10:18.022351",
     "status": "completed"
    },
    "tags": []
   },
   "outputs": [],
   "source": [
    "#hide\n",
    "\n",
    "# FETCH\n",
    "base_url = 'https://raw.githubusercontent.com/pratapvardhan/notebooks/master/covid19/'\n",
    "paths = {\n",
    "    'mapping': base_url + 'mapping_countries.csv',\n",
    "    'overview': base_url + 'overview.tpl'\n",
    "}"
   ]
  },
  {
   "cell_type": "code",
   "execution_count": 3,
   "metadata": {
    "execution": {
     "iopub.execute_input": "2020-11-23T00:10:20.274691Z",
     "iopub.status.busy": "2020-11-23T00:10:20.270121Z",
     "iopub.status.idle": "2020-11-23T00:10:20.280857Z",
     "shell.execute_reply": "2020-11-23T00:10:20.280377Z"
    },
    "papermill": {
     "duration": 0.856547,
     "end_time": "2020-11-23T00:10:20.280996",
     "exception": false,
     "start_time": "2020-11-23T00:10:19.424449",
     "status": "completed"
    },
    "tags": []
   },
   "outputs": [
    {
     "data": {
      "text/plain": [
       "'https://raw.githubusercontent.com/pratapvardhan/notebooks/master/covid19/mapping_countries.csv'"
      ]
     },
     "execution_count": 3,
     "metadata": {},
     "output_type": "execute_result"
    }
   ],
   "source": [
    "#hide\n",
    "paths['mapping']"
   ]
  },
  {
   "cell_type": "code",
   "execution_count": 4,
   "metadata": {
    "execution": {
     "iopub.execute_input": "2020-11-23T00:10:20.353397Z",
     "iopub.status.busy": "2020-11-23T00:10:20.352712Z",
     "iopub.status.idle": "2020-11-23T00:10:20.354997Z",
     "shell.execute_reply": "2020-11-23T00:10:20.354467Z"
    },
    "papermill": {
     "duration": 0.043203,
     "end_time": "2020-11-23T00:10:20.355165",
     "exception": false,
     "start_time": "2020-11-23T00:10:20.311962",
     "status": "completed"
    },
    "tags": []
   },
   "outputs": [],
   "source": [
    "#hide\n",
    "def get_mappings(url):\n",
    "    df = pd.read_csv(url)\n",
    "    return {\n",
    "        'df': df,\n",
    "        'replace.country': dict(df.dropna(subset=['Name']).set_index('Country')['Name']),\n",
    "        'map.continent': dict(df.set_index('Name')['Continent'])\n",
    "    }"
   ]
  },
  {
   "cell_type": "code",
   "execution_count": 5,
   "metadata": {
    "execution": {
     "iopub.execute_input": "2020-11-23T00:10:20.420501Z",
     "iopub.status.busy": "2020-11-23T00:10:20.419903Z",
     "iopub.status.idle": "2020-11-23T00:10:20.478863Z",
     "shell.execute_reply": "2020-11-23T00:10:20.478158Z"
    },
    "papermill": {
     "duration": 0.093994,
     "end_time": "2020-11-23T00:10:20.479027",
     "exception": false,
     "start_time": "2020-11-23T00:10:20.385033",
     "status": "completed"
    },
    "tags": []
   },
   "outputs": [],
   "source": [
    "#hide\n",
    "mapping = get_mappings(paths['mapping'])"
   ]
  },
  {
   "cell_type": "code",
   "execution_count": 6,
   "metadata": {
    "execution": {
     "iopub.execute_input": "2020-11-23T00:10:20.546050Z",
     "iopub.status.busy": "2020-11-23T00:10:20.545432Z",
     "iopub.status.idle": "2020-11-23T00:10:20.548321Z",
     "shell.execute_reply": "2020-11-23T00:10:20.547852Z"
    },
    "papermill": {
     "duration": 0.038539,
     "end_time": "2020-11-23T00:10:20.548454",
     "exception": false,
     "start_time": "2020-11-23T00:10:20.509915",
     "status": "completed"
    },
    "tags": []
   },
   "outputs": [],
   "source": [
    "#hide\n",
    "def get_template(path):\n",
    "    from urllib.parse import urlparse\n",
    "    if bool(urlparse(path).netloc):\n",
    "        from urllib.request import urlopen\n",
    "        return urlopen(path).read().decode('utf8')\n",
    "    return open(path).read()"
   ]
  },
  {
   "cell_type": "code",
   "execution_count": 7,
   "metadata": {
    "execution": {
     "iopub.execute_input": "2020-11-23T00:10:20.613631Z",
     "iopub.status.busy": "2020-11-23T00:10:20.613047Z",
     "iopub.status.idle": "2020-11-23T00:10:20.615762Z",
     "shell.execute_reply": "2020-11-23T00:10:20.615294Z"
    },
    "papermill": {
     "duration": 0.037289,
     "end_time": "2020-11-23T00:10:20.615894",
     "exception": false,
     "start_time": "2020-11-23T00:10:20.578605",
     "status": "completed"
    },
    "tags": []
   },
   "outputs": [],
   "source": [
    "#hide\n",
    "def get_frame(name):\n",
    "    url = (\n",
    "        'https://raw.githubusercontent.com/CSSEGISandData/COVID-19/master/csse_covid_19_data/'\n",
    "        f'csse_covid_19_time_series/time_series_covid19_{name}_global.csv')\n",
    "    df = pd.read_csv(url)\n",
    "    # rename countries\n",
    "    df['Country/Region'] = df['Country/Region'].replace(mapping['replace.country'])\n",
    "    return df"
   ]
  },
  {
   "cell_type": "code",
   "execution_count": 8,
   "metadata": {
    "execution": {
     "iopub.execute_input": "2020-11-23T00:10:20.682002Z",
     "iopub.status.busy": "2020-11-23T00:10:20.681415Z",
     "iopub.status.idle": "2020-11-23T00:10:20.683763Z",
     "shell.execute_reply": "2020-11-23T00:10:20.683272Z"
    },
    "papermill": {
     "duration": 0.038004,
     "end_time": "2020-11-23T00:10:20.683888",
     "exception": false,
     "start_time": "2020-11-23T00:10:20.645884",
     "status": "completed"
    },
    "tags": []
   },
   "outputs": [],
   "source": [
    "#hide\n",
    "def get_dates(df):\n",
    "    dt_cols = df.columns[~df.columns.isin(['Province/State', 'Country/Region', 'Lat', 'Long'])]\n",
    "    LAST_DATE_I = -1\n",
    "    # sometimes last column may be empty, then go backwards\n",
    "    for i in range(-1, -len(dt_cols), -1):\n",
    "        if not df[dt_cols[i]].fillna(0).eq(0).all():\n",
    "            LAST_DATE_I = i\n",
    "            break\n",
    "    return LAST_DATE_I, dt_cols"
   ]
  },
  {
   "cell_type": "code",
   "execution_count": 9,
   "metadata": {
    "execution": {
     "iopub.execute_input": "2020-11-23T00:10:20.750020Z",
     "iopub.status.busy": "2020-11-23T00:10:20.749421Z",
     "iopub.status.idle": "2020-11-23T00:10:21.092678Z",
     "shell.execute_reply": "2020-11-23T00:10:21.092154Z"
    },
    "papermill": {
     "duration": 0.379243,
     "end_time": "2020-11-23T00:10:21.092822",
     "exception": false,
     "start_time": "2020-11-23T00:10:20.713579",
     "status": "completed"
    },
    "tags": []
   },
   "outputs": [],
   "source": [
    "#hide\n",
    "COL_REGION = 'Country/Region'\n",
    "# Confirmed, Recovered, Deaths\n",
    "df = get_frame('confirmed')\n",
    "# dft_: timeseries, dfc_: today country agg\n",
    "dft_cases = df\n",
    "dft_deaths = get_frame('deaths')\n",
    "dft_recovered = get_frame('recovered')\n",
    "LAST_DATE_I, dt_cols = get_dates(df)"
   ]
  },
  {
   "cell_type": "code",
   "execution_count": 10,
   "metadata": {
    "execution": {
     "iopub.execute_input": "2020-11-23T00:10:21.160888Z",
     "iopub.status.busy": "2020-11-23T00:10:21.159919Z",
     "iopub.status.idle": "2020-11-23T00:10:21.161889Z",
     "shell.execute_reply": "2020-11-23T00:10:21.162671Z"
    },
    "papermill": {
     "duration": 0.039787,
     "end_time": "2020-11-23T00:10:21.162823",
     "exception": false,
     "start_time": "2020-11-23T00:10:21.123036",
     "status": "completed"
    },
    "tags": []
   },
   "outputs": [],
   "source": [
    "#hide\n",
    "LAST_DATE_I, dt_cols = get_dates(df)\n",
    "dt_today =dt_cols[LAST_DATE_I]\n",
    "# dt_5day = dt_cols[LAST_DATE_I - 5]\n",
    "dt_yday = dt_cols[LAST_DATE_I - 1]"
   ]
  },
  {
   "cell_type": "code",
   "execution_count": 11,
   "metadata": {
    "execution": {
     "iopub.execute_input": "2020-11-23T00:10:21.236401Z",
     "iopub.status.busy": "2020-11-23T00:10:21.235783Z",
     "iopub.status.idle": "2020-11-23T00:10:21.243309Z",
     "shell.execute_reply": "2020-11-23T00:10:21.243839Z"
    },
    "papermill": {
     "duration": 0.04922,
     "end_time": "2020-11-23T00:10:21.244007",
     "exception": false,
     "start_time": "2020-11-23T00:10:21.194787",
     "status": "completed"
    },
    "tags": []
   },
   "outputs": [],
   "source": [
    "#hide\n",
    "dfc_cases = dft_cases.groupby(COL_REGION)[dt_today].sum()\n",
    "dfc_deaths = dft_deaths.groupby(COL_REGION)[dt_today].sum()\n",
    "# dfp_cases = dft_cases.groupby(COL_REGION)[dt_5day].sum()\n",
    "# dfp_deaths = dft_deaths.groupby(COL_REGION)[dt_5day].sum()\n",
    "dfp_cases = dft_cases.groupby(COL_REGION)[dt_yday].sum()\n",
    "dfp_deaths = dft_deaths.groupby(COL_REGION)[dt_yday].sum()"
   ]
  },
  {
   "cell_type": "code",
   "execution_count": 12,
   "metadata": {
    "execution": {
     "iopub.execute_input": "2020-11-23T00:10:21.315810Z",
     "iopub.status.busy": "2020-11-23T00:10:21.315207Z",
     "iopub.status.idle": "2020-11-23T00:10:21.321242Z",
     "shell.execute_reply": "2020-11-23T00:10:21.320734Z"
    },
    "papermill": {
     "duration": 0.044383,
     "end_time": "2020-11-23T00:10:21.321373",
     "exception": false,
     "start_time": "2020-11-23T00:10:21.276990",
     "status": "completed"
    },
    "tags": []
   },
   "outputs": [],
   "source": [
    "#hide\n",
    "df_table = (pd.DataFrame(dict(Cases = dfc_cases, Deaths = dfc_deaths, PCases = dfp_cases, PDeaths = dfp_deaths))\n",
    "            .sort_values(by = ['Cases','Deaths'], ascending = [False, False])\n",
    "            .reset_index())"
   ]
  },
  {
   "cell_type": "code",
   "execution_count": 13,
   "metadata": {
    "execution": {
     "iopub.execute_input": "2020-11-23T00:10:21.405518Z",
     "iopub.status.busy": "2020-11-23T00:10:21.399879Z",
     "iopub.status.idle": "2020-11-23T00:10:21.410952Z",
     "shell.execute_reply": "2020-11-23T00:10:21.410448Z"
    },
    "papermill": {
     "duration": 0.059894,
     "end_time": "2020-11-23T00:10:21.411089",
     "exception": false,
     "start_time": "2020-11-23T00:10:21.351195",
     "status": "completed"
    },
    "tags": []
   },
   "outputs": [
    {
     "data": {
      "text/html": [
       "<div>\n",
       "<style scoped>\n",
       "    .dataframe tbody tr th:only-of-type {\n",
       "        vertical-align: middle;\n",
       "    }\n",
       "\n",
       "    .dataframe tbody tr th {\n",
       "        vertical-align: top;\n",
       "    }\n",
       "\n",
       "    .dataframe thead th {\n",
       "        text-align: right;\n",
       "    }\n",
       "</style>\n",
       "<table border=\"1\" class=\"dataframe\">\n",
       "  <thead>\n",
       "    <tr style=\"text-align: right;\">\n",
       "      <th></th>\n",
       "      <th>Country/Region</th>\n",
       "      <th>Cases</th>\n",
       "      <th>Deaths</th>\n",
       "      <th>PCases</th>\n",
       "      <th>PDeaths</th>\n",
       "      <th>Cases (+)</th>\n",
       "      <th>Deaths (+)</th>\n",
       "      <th>Fatality Rate</th>\n",
       "      <th>Continent</th>\n",
       "    </tr>\n",
       "  </thead>\n",
       "  <tbody>\n",
       "    <tr>\n",
       "      <th>0</th>\n",
       "      <td>US</td>\n",
       "      <td>12088410</td>\n",
       "      <td>255861</td>\n",
       "      <td>11910858</td>\n",
       "      <td>254413</td>\n",
       "      <td>177552</td>\n",
       "      <td>1448</td>\n",
       "      <td>2.12</td>\n",
       "      <td>North America</td>\n",
       "    </tr>\n",
       "    <tr>\n",
       "      <th>1</th>\n",
       "      <td>India</td>\n",
       "      <td>9095806</td>\n",
       "      <td>133227</td>\n",
       "      <td>9050597</td>\n",
       "      <td>132726</td>\n",
       "      <td>45209</td>\n",
       "      <td>501</td>\n",
       "      <td>1.46</td>\n",
       "      <td>Asia</td>\n",
       "    </tr>\n",
       "    <tr>\n",
       "      <th>2</th>\n",
       "      <td>Brazil</td>\n",
       "      <td>6052786</td>\n",
       "      <td>168989</td>\n",
       "      <td>6020164</td>\n",
       "      <td>168613</td>\n",
       "      <td>32622</td>\n",
       "      <td>376</td>\n",
       "      <td>2.79</td>\n",
       "      <td>South America</td>\n",
       "    </tr>\n",
       "    <tr>\n",
       "      <th>3</th>\n",
       "      <td>France</td>\n",
       "      <td>2178023</td>\n",
       "      <td>48593</td>\n",
       "      <td>2160343</td>\n",
       "      <td>48341</td>\n",
       "      <td>17680</td>\n",
       "      <td>252</td>\n",
       "      <td>2.23</td>\n",
       "      <td>Europe</td>\n",
       "    </tr>\n",
       "    <tr>\n",
       "      <th>4</th>\n",
       "      <td>Russia</td>\n",
       "      <td>2047563</td>\n",
       "      <td>35442</td>\n",
       "      <td>2023025</td>\n",
       "      <td>34980</td>\n",
       "      <td>24538</td>\n",
       "      <td>462</td>\n",
       "      <td>1.73</td>\n",
       "      <td>Europe</td>\n",
       "    </tr>\n",
       "  </tbody>\n",
       "</table>\n",
       "</div>"
      ],
      "text/plain": [
       "  Country/Region     Cases  Deaths    PCases  PDeaths  Cases (+)  Deaths (+)  \\\n",
       "0             US  12088410  255861  11910858   254413     177552        1448   \n",
       "1          India   9095806  133227   9050597   132726      45209         501   \n",
       "2         Brazil   6052786  168989   6020164   168613      32622         376   \n",
       "3         France   2178023   48593   2160343    48341      17680         252   \n",
       "4         Russia   2047563   35442   2023025    34980      24538         462   \n",
       "\n",
       "   Fatality Rate      Continent  \n",
       "0           2.12  North America  \n",
       "1           1.46           Asia  \n",
       "2           2.79  South America  \n",
       "3           2.23         Europe  \n",
       "4           1.73         Europe  "
      ]
     },
     "execution_count": 13,
     "metadata": {},
     "output_type": "execute_result"
    }
   ],
   "source": [
    "#hide\n",
    "for c in 'Cases, Deaths'.split(', '):\n",
    "    df_table[f'{c} (+)'] = (df_table[c] - df_table[f'P{c}']).clip(0)\n",
    "    #Clip ça veut dire, les chiffres negatif sont interdit\n",
    "df_table['Fatality Rate'] = (100* df_table['Deaths']/ df_table['Cases']).round(2)\n",
    "df_table['Continent'] = df_table['Country/Region'].map(mapping['map.continent'])\n",
    "df_table.head(5)"
   ]
  },
  {
   "cell_type": "code",
   "execution_count": 14,
   "metadata": {
    "execution": {
     "iopub.execute_input": "2020-11-23T00:10:21.482408Z",
     "iopub.status.busy": "2020-11-23T00:10:21.481581Z",
     "iopub.status.idle": "2020-11-23T00:10:21.483009Z",
     "shell.execute_reply": "2020-11-23T00:10:21.483553Z"
    },
    "papermill": {
     "duration": 0.04199,
     "end_time": "2020-11-23T00:10:21.483701",
     "exception": false,
     "start_time": "2020-11-23T00:10:21.441711",
     "status": "completed"
    },
    "tags": []
   },
   "outputs": [],
   "source": [
    "#hide\n",
    "#delete problematic countries from table\n",
    "df_table = df_table[~df_table['Country/Region'].isin(['Cape Verde', 'Cruise Ship', 'Kosovo'])]"
   ]
  },
  {
   "cell_type": "code",
   "execution_count": 15,
   "metadata": {
    "execution": {
     "iopub.execute_input": "2020-11-23T00:10:21.559568Z",
     "iopub.status.busy": "2020-11-23T00:10:21.558957Z",
     "iopub.status.idle": "2020-11-23T00:10:21.577916Z",
     "shell.execute_reply": "2020-11-23T00:10:21.577436Z"
    },
    "papermill": {
     "duration": 0.062063,
     "end_time": "2020-11-23T00:10:21.578053",
     "exception": false,
     "start_time": "2020-11-23T00:10:21.515990",
     "status": "completed"
    },
    "tags": []
   },
   "outputs": [
    {
     "data": {
      "text/html": [
       "<div>\n",
       "<style scoped>\n",
       "    .dataframe tbody tr th:only-of-type {\n",
       "        vertical-align: middle;\n",
       "    }\n",
       "\n",
       "    .dataframe tbody tr th {\n",
       "        vertical-align: top;\n",
       "    }\n",
       "\n",
       "    .dataframe thead th {\n",
       "        text-align: right;\n",
       "    }\n",
       "</style>\n",
       "<table border=\"1\" class=\"dataframe\">\n",
       "  <thead>\n",
       "    <tr style=\"text-align: right;\">\n",
       "      <th></th>\n",
       "      <th>Country/Region</th>\n",
       "      <th>Cases</th>\n",
       "      <th>Deaths</th>\n",
       "      <th>PCases</th>\n",
       "      <th>PDeaths</th>\n",
       "      <th>Cases (+)</th>\n",
       "      <th>Deaths (+)</th>\n",
       "      <th>Fatality Rate</th>\n",
       "      <th>Continent</th>\n",
       "    </tr>\n",
       "  </thead>\n",
       "  <tbody>\n",
       "    <tr>\n",
       "      <th>0</th>\n",
       "      <td>US</td>\n",
       "      <td>12088410</td>\n",
       "      <td>255861</td>\n",
       "      <td>11910858</td>\n",
       "      <td>254413</td>\n",
       "      <td>177552</td>\n",
       "      <td>1448</td>\n",
       "      <td>2.1</td>\n",
       "      <td>North America</td>\n",
       "    </tr>\n",
       "    <tr>\n",
       "      <th>1</th>\n",
       "      <td>India</td>\n",
       "      <td>9095806</td>\n",
       "      <td>133227</td>\n",
       "      <td>9050597</td>\n",
       "      <td>132726</td>\n",
       "      <td>45209</td>\n",
       "      <td>501</td>\n",
       "      <td>1.5</td>\n",
       "      <td>Asia</td>\n",
       "    </tr>\n",
       "    <tr>\n",
       "      <th>2</th>\n",
       "      <td>Brazil</td>\n",
       "      <td>6052786</td>\n",
       "      <td>168989</td>\n",
       "      <td>6020164</td>\n",
       "      <td>168613</td>\n",
       "      <td>32622</td>\n",
       "      <td>376</td>\n",
       "      <td>2.8</td>\n",
       "      <td>South America</td>\n",
       "    </tr>\n",
       "    <tr>\n",
       "      <th>3</th>\n",
       "      <td>France</td>\n",
       "      <td>2178023</td>\n",
       "      <td>48593</td>\n",
       "      <td>2160343</td>\n",
       "      <td>48341</td>\n",
       "      <td>17680</td>\n",
       "      <td>252</td>\n",
       "      <td>2.2</td>\n",
       "      <td>Europe</td>\n",
       "    </tr>\n",
       "    <tr>\n",
       "      <th>4</th>\n",
       "      <td>Russia</td>\n",
       "      <td>2047563</td>\n",
       "      <td>35442</td>\n",
       "      <td>2023025</td>\n",
       "      <td>34980</td>\n",
       "      <td>24538</td>\n",
       "      <td>462</td>\n",
       "      <td>1.7</td>\n",
       "      <td>Europe</td>\n",
       "    </tr>\n",
       "  </tbody>\n",
       "</table>\n",
       "</div>"
      ],
      "text/plain": [
       "  Country/Region     Cases  Deaths    PCases  PDeaths  Cases (+)  Deaths (+)  \\\n",
       "0             US  12088410  255861  11910858   254413     177552        1448   \n",
       "1          India   9095806  133227   9050597   132726      45209         501   \n",
       "2         Brazil   6052786  168989   6020164   168613      32622         376   \n",
       "3         France   2178023   48593   2160343    48341      17680         252   \n",
       "4         Russia   2047563   35442   2023025    34980      24538         462   \n",
       "\n",
       "   Fatality Rate      Continent  \n",
       "0            2.1  North America  \n",
       "1            1.5           Asia  \n",
       "2            2.8  South America  \n",
       "3            2.2         Europe  \n",
       "4            1.7         Europe  "
      ]
     },
     "execution_count": 15,
     "metadata": {},
     "output_type": "execute_result"
    }
   ],
   "source": [
    "#hide\n",
    "df_table = (pd.DataFrame(dict(Cases=dfc_cases, Deaths=dfc_deaths, PCases=dfp_cases, PDeaths=dfp_deaths))\n",
    "             .sort_values(by=['Cases', 'Deaths'], ascending=[False, False])\n",
    "             .reset_index())\n",
    "df_table.rename(columns={'index': 'Country/Region'}, inplace=True)\n",
    "for c in 'Cases, Deaths'.split(', '):\n",
    "    df_table[f'{c} (+)'] = (df_table[c] - df_table[f'P{c}']).clip(0)  # DATA BUG\n",
    "df_table['Fatality Rate'] = (100 * df_table['Deaths'] / df_table['Cases']).round(1)\n",
    "df_table['Continent'] = df_table['Country/Region'].map(mapping['map.continent'])\n",
    "df_table.head(5)"
   ]
  },
  {
   "cell_type": "code",
   "execution_count": 16,
   "metadata": {
    "execution": {
     "iopub.execute_input": "2020-11-23T00:10:21.652503Z",
     "iopub.status.busy": "2020-11-23T00:10:21.651859Z",
     "iopub.status.idle": "2020-11-23T00:10:21.653351Z",
     "shell.execute_reply": "2020-11-23T00:10:21.653909Z"
    },
    "papermill": {
     "duration": 0.043673,
     "end_time": "2020-11-23T00:10:21.654059",
     "exception": false,
     "start_time": "2020-11-23T00:10:21.610386",
     "status": "completed"
    },
    "tags": []
   },
   "outputs": [],
   "source": [
    "#hide\n",
    "#delete problematic countries from table\n",
    "df_table = df_table[~df_table['Country/Region'].isin(['Cape Verde', 'Cruise Ship', 'Kosovo'])]"
   ]
  },
  {
   "cell_type": "code",
   "execution_count": 17,
   "metadata": {
    "execution": {
     "iopub.execute_input": "2020-11-23T00:10:21.738401Z",
     "iopub.status.busy": "2020-11-23T00:10:21.737572Z",
     "iopub.status.idle": "2020-11-23T00:10:21.739072Z",
     "shell.execute_reply": "2020-11-23T00:10:21.739886Z"
    },
    "papermill": {
     "duration": 0.053359,
     "end_time": "2020-11-23T00:10:21.740050",
     "exception": false,
     "start_time": "2020-11-23T00:10:21.686691",
     "status": "completed"
    },
    "tags": []
   },
   "outputs": [],
   "source": [
    "#hide\n",
    "metrics = [df_table.columns[index] for index in [1,2,5,6]]\n",
    "# s_china = df_table[df_table['Country/Region'].eq('China')][metrics].sum().add_prefix('China ')\n",
    "s_us = df_table[df_table['Country/Region'].eq('US')][metrics].sum().add_prefix('US ')\n",
    "s_eu = df_table[df_table['Continent'].eq('Europe')][metrics].sum().add_prefix('EU ')\n",
    "s_ind = df_table[df_table['Country/Region'].eq('India')][metrics].sum().add_prefix('India ')\n",
    "summary = {'updated': pd.to_datetime(dt_today), 'since': pd.to_datetime(dt_yday)}\n",
    "summary = {'updated': pd.to_datetime(dt_today), 'since': pd.to_datetime(dt_yday)}\n",
    "summary = {**summary, **df_table[metrics].sum(), **s_ind, **s_us, **s_eu}"
   ]
  },
  {
   "cell_type": "code",
   "execution_count": 18,
   "metadata": {
    "execution": {
     "iopub.execute_input": "2020-11-23T00:10:21.812751Z",
     "iopub.status.busy": "2020-11-23T00:10:21.812159Z",
     "iopub.status.idle": "2020-11-23T00:10:21.821352Z",
     "shell.execute_reply": "2020-11-23T00:10:21.820876Z"
    },
    "papermill": {
     "duration": 0.047976,
     "end_time": "2020-11-23T00:10:21.821487",
     "exception": false,
     "start_time": "2020-11-23T00:10:21.773511",
     "status": "completed"
    },
    "tags": []
   },
   "outputs": [],
   "source": [
    "#hide\n",
    "dft_ct_new_cases = dft_cases.groupby(COL_REGION)[dt_cols].sum().diff(axis=1).fillna(0).astype(int)"
   ]
  },
  {
   "cell_type": "code",
   "execution_count": 19,
   "metadata": {
    "execution": {
     "iopub.execute_input": "2020-11-23T00:10:21.889737Z",
     "iopub.status.busy": "2020-11-23T00:10:21.889148Z",
     "iopub.status.idle": "2020-11-23T00:10:21.891414Z",
     "shell.execute_reply": "2020-11-23T00:10:21.890841Z"
    },
    "papermill": {
     "duration": 0.038516,
     "end_time": "2020-11-23T00:10:21.891548",
     "exception": false,
     "start_time": "2020-11-23T00:10:21.853032",
     "status": "completed"
    },
    "tags": []
   },
   "outputs": [],
   "source": [
    "#hide\n",
    "everydaycases = dft_ct_new_cases.cumsum(axis=1)"
   ]
  },
  {
   "cell_type": "code",
   "execution_count": 20,
   "metadata": {
    "execution": {
     "iopub.execute_input": "2020-11-23T00:10:21.957676Z",
     "iopub.status.busy": "2020-11-23T00:10:21.957098Z",
     "iopub.status.idle": "2020-11-23T00:10:23.003891Z",
     "shell.execute_reply": "2020-11-23T00:10:23.003191Z"
    },
    "papermill": {
     "duration": 1.0815,
     "end_time": "2020-11-23T00:10:23.004103",
     "exception": false,
     "start_time": "2020-11-23T00:10:21.922603",
     "status": "completed"
    },
    "tags": []
   },
   "outputs": [],
   "source": [
    "#hide\n",
    "import pandas as pd\n",
    "import matplotlib.pyplot as plt\n",
    "import matplotlib.ticker as ticker\n",
    "import matplotlib.animation as animation\n",
    "from IPython.display import HTML"
   ]
  },
  {
   "cell_type": "code",
   "execution_count": 21,
   "metadata": {
    "execution": {
     "iopub.execute_input": "2020-11-23T00:10:23.072314Z",
     "iopub.status.busy": "2020-11-23T00:10:23.071718Z",
     "iopub.status.idle": "2020-11-23T00:10:23.076604Z",
     "shell.execute_reply": "2020-11-23T00:10:23.077072Z"
    },
    "papermill": {
     "duration": 0.04092,
     "end_time": "2020-11-23T00:10:23.077220",
     "exception": false,
     "start_time": "2020-11-23T00:10:23.036300",
     "status": "completed"
    },
    "tags": []
   },
   "outputs": [],
   "source": [
    "#hide\n",
    "t = everydaycases.stack()"
   ]
  },
  {
   "cell_type": "code",
   "execution_count": 22,
   "metadata": {
    "execution": {
     "iopub.execute_input": "2020-11-23T00:10:23.143995Z",
     "iopub.status.busy": "2020-11-23T00:10:23.143384Z",
     "iopub.status.idle": "2020-11-23T00:10:23.150077Z",
     "shell.execute_reply": "2020-11-23T00:10:23.149571Z"
    },
    "papermill": {
     "duration": 0.041918,
     "end_time": "2020-11-23T00:10:23.150209",
     "exception": false,
     "start_time": "2020-11-23T00:10:23.108291",
     "status": "completed"
    },
    "tags": []
   },
   "outputs": [],
   "source": [
    "#hide\n",
    "g = t.reset_index(['Country/Region'])"
   ]
  },
  {
   "cell_type": "code",
   "execution_count": 23,
   "metadata": {
    "execution": {
     "iopub.execute_input": "2020-11-23T00:10:23.216176Z",
     "iopub.status.busy": "2020-11-23T00:10:23.215552Z",
     "iopub.status.idle": "2020-11-23T00:10:23.219840Z",
     "shell.execute_reply": "2020-11-23T00:10:23.219267Z"
    },
    "papermill": {
     "duration": 0.039085,
     "end_time": "2020-11-23T00:10:23.220008",
     "exception": false,
     "start_time": "2020-11-23T00:10:23.180923",
     "status": "completed"
    },
    "tags": []
   },
   "outputs": [],
   "source": [
    "#hide\n",
    "g.index.name = 'date'"
   ]
  },
  {
   "cell_type": "code",
   "execution_count": 24,
   "metadata": {
    "execution": {
     "iopub.execute_input": "2020-11-23T00:10:23.285670Z",
     "iopub.status.busy": "2020-11-23T00:10:23.285082Z",
     "iopub.status.idle": "2020-11-23T00:10:23.287594Z",
     "shell.execute_reply": "2020-11-23T00:10:23.287125Z"
    },
    "papermill": {
     "duration": 0.036696,
     "end_time": "2020-11-23T00:10:23.287727",
     "exception": false,
     "start_time": "2020-11-23T00:10:23.251031",
     "status": "completed"
    },
    "tags": []
   },
   "outputs": [],
   "source": [
    "# #hide\n",
    "# g = g.reset_index(['date'])"
   ]
  },
  {
   "cell_type": "code",
   "execution_count": 25,
   "metadata": {
    "execution": {
     "iopub.execute_input": "2020-11-23T00:10:23.354193Z",
     "iopub.status.busy": "2020-11-23T00:10:23.353606Z",
     "iopub.status.idle": "2020-11-23T00:10:23.355886Z",
     "shell.execute_reply": "2020-11-23T00:10:23.356328Z"
    },
    "papermill": {
     "duration": 0.037972,
     "end_time": "2020-11-23T00:10:23.356477",
     "exception": false,
     "start_time": "2020-11-23T00:10:23.318505",
     "status": "completed"
    },
    "tags": []
   },
   "outputs": [],
   "source": [
    "#hide\n",
    "# g.head()"
   ]
  },
  {
   "cell_type": "code",
   "execution_count": 26,
   "metadata": {
    "execution": {
     "iopub.execute_input": "2020-11-23T00:10:23.422941Z",
     "iopub.status.busy": "2020-11-23T00:10:23.422321Z",
     "iopub.status.idle": "2020-11-23T00:10:23.424539Z",
     "shell.execute_reply": "2020-11-23T00:10:23.425096Z"
    },
    "papermill": {
     "duration": 0.037874,
     "end_time": "2020-11-23T00:10:23.425240",
     "exception": false,
     "start_time": "2020-11-23T00:10:23.387366",
     "status": "completed"
    },
    "tags": []
   },
   "outputs": [],
   "source": [
    "#hide\n",
    "# g.columns = ['date','country','cases']"
   ]
  },
  {
   "cell_type": "code",
   "execution_count": 27,
   "metadata": {
    "execution": {
     "iopub.execute_input": "2020-11-23T00:10:23.490907Z",
     "iopub.status.busy": "2020-11-23T00:10:23.490234Z",
     "iopub.status.idle": "2020-11-23T00:10:23.491515Z",
     "shell.execute_reply": "2020-11-23T00:10:23.492057Z"
    },
    "papermill": {
     "duration": 0.036215,
     "end_time": "2020-11-23T00:10:23.492202",
     "exception": false,
     "start_time": "2020-11-23T00:10:23.455987",
     "status": "completed"
    },
    "tags": []
   },
   "outputs": [],
   "source": [
    "#hide\n",
    "# g['continent'] = g.country"
   ]
  },
  {
   "cell_type": "code",
   "execution_count": 28,
   "metadata": {
    "execution": {
     "iopub.execute_input": "2020-11-23T00:10:23.558705Z",
     "iopub.status.busy": "2020-11-23T00:10:23.558095Z",
     "iopub.status.idle": "2020-11-23T00:10:23.560519Z",
     "shell.execute_reply": "2020-11-23T00:10:23.560051Z"
    },
    "papermill": {
     "duration": 0.037517,
     "end_time": "2020-11-23T00:10:23.560651",
     "exception": false,
     "start_time": "2020-11-23T00:10:23.523134",
     "status": "completed"
    },
    "tags": []
   },
   "outputs": [],
   "source": [
    "#hide\n",
    "# cols = list(g.columns.values)"
   ]
  },
  {
   "cell_type": "code",
   "execution_count": 29,
   "metadata": {
    "execution": {
     "iopub.execute_input": "2020-11-23T00:10:23.626877Z",
     "iopub.status.busy": "2020-11-23T00:10:23.626257Z",
     "iopub.status.idle": "2020-11-23T00:10:23.628580Z",
     "shell.execute_reply": "2020-11-23T00:10:23.629127Z"
    },
    "papermill": {
     "duration": 0.037921,
     "end_time": "2020-11-23T00:10:23.629270",
     "exception": false,
     "start_time": "2020-11-23T00:10:23.591349",
     "status": "completed"
    },
    "tags": []
   },
   "outputs": [],
   "source": [
    "#hide\n",
    "# cols.insert(0, cols.pop())"
   ]
  },
  {
   "cell_type": "code",
   "execution_count": 30,
   "metadata": {
    "execution": {
     "iopub.execute_input": "2020-11-23T00:10:23.694623Z",
     "iopub.status.busy": "2020-11-23T00:10:23.693993Z",
     "iopub.status.idle": "2020-11-23T00:10:23.695803Z",
     "shell.execute_reply": "2020-11-23T00:10:23.696243Z"
    },
    "papermill": {
     "duration": 0.036343,
     "end_time": "2020-11-23T00:10:23.696394",
     "exception": false,
     "start_time": "2020-11-23T00:10:23.660051",
     "status": "completed"
    },
    "tags": []
   },
   "outputs": [],
   "source": [
    "#hide\n",
    "# g = g[cols]"
   ]
  },
  {
   "cell_type": "code",
   "execution_count": 31,
   "metadata": {
    "execution": {
     "iopub.execute_input": "2020-11-23T00:10:23.762223Z",
     "iopub.status.busy": "2020-11-23T00:10:23.761644Z",
     "iopub.status.idle": "2020-11-23T00:10:23.763784Z",
     "shell.execute_reply": "2020-11-23T00:10:23.763214Z"
    },
    "papermill": {
     "duration": 0.036684,
     "end_time": "2020-11-23T00:10:23.763909",
     "exception": false,
     "start_time": "2020-11-23T00:10:23.727225",
     "status": "completed"
    },
    "tags": []
   },
   "outputs": [],
   "source": [
    "#hide\n",
    "# g['continent'] = g['continent'].map(mapping['map.continent'])"
   ]
  },
  {
   "cell_type": "code",
   "execution_count": 32,
   "metadata": {
    "execution": {
     "iopub.execute_input": "2020-11-23T00:10:23.830552Z",
     "iopub.status.busy": "2020-11-23T00:10:23.829939Z",
     "iopub.status.idle": "2020-11-23T00:10:23.832555Z",
     "shell.execute_reply": "2020-11-23T00:10:23.832087Z"
    },
    "papermill": {
     "duration": 0.037919,
     "end_time": "2020-11-23T00:10:23.832685",
     "exception": false,
     "start_time": "2020-11-23T00:10:23.794766",
     "status": "completed"
    },
    "tags": []
   },
   "outputs": [],
   "source": [
    "#hide\n",
    "# g.head()"
   ]
  },
  {
   "cell_type": "code",
   "execution_count": 33,
   "metadata": {
    "execution": {
     "iopub.execute_input": "2020-11-23T00:10:23.898181Z",
     "iopub.status.busy": "2020-11-23T00:10:23.897602Z",
     "iopub.status.idle": "2020-11-23T00:10:23.900186Z",
     "shell.execute_reply": "2020-11-23T00:10:23.899721Z"
    },
    "papermill": {
     "duration": 0.036957,
     "end_time": "2020-11-23T00:10:23.900316",
     "exception": false,
     "start_time": "2020-11-23T00:10:23.863359",
     "status": "completed"
    },
    "tags": []
   },
   "outputs": [],
   "source": [
    "# hide\n",
    "# g['date'] = g['date'].astype('datetime64[ns]')"
   ]
  },
  {
   "cell_type": "code",
   "execution_count": 34,
   "metadata": {
    "execution": {
     "iopub.execute_input": "2020-11-23T00:10:23.966092Z",
     "iopub.status.busy": "2020-11-23T00:10:23.965469Z",
     "iopub.status.idle": "2020-11-23T00:10:23.967694Z",
     "shell.execute_reply": "2020-11-23T00:10:23.967109Z"
    },
    "papermill": {
     "duration": 0.036557,
     "end_time": "2020-11-23T00:10:23.967822",
     "exception": false,
     "start_time": "2020-11-23T00:10:23.931265",
     "status": "completed"
    },
    "tags": []
   },
   "outputs": [],
   "source": [
    "#hide\n",
    "# g['date'] = g.date.dt.dayofyear"
   ]
  },
  {
   "cell_type": "code",
   "execution_count": 35,
   "metadata": {
    "execution": {
     "iopub.execute_input": "2020-11-23T00:10:24.037619Z",
     "iopub.status.busy": "2020-11-23T00:10:24.037036Z",
     "iopub.status.idle": "2020-11-23T00:10:24.039375Z",
     "shell.execute_reply": "2020-11-23T00:10:24.040015Z"
    },
    "papermill": {
     "duration": 0.039883,
     "end_time": "2020-11-23T00:10:24.040166",
     "exception": false,
     "start_time": "2020-11-23T00:10:24.000283",
     "status": "completed"
    },
    "tags": []
   },
   "outputs": [],
   "source": [
    "#hide\n",
    "# g = g.rename(columns= {'continent':'group','country':'name','cases':'value'})"
   ]
  },
  {
   "cell_type": "code",
   "execution_count": 36,
   "metadata": {
    "execution": {
     "iopub.execute_input": "2020-11-23T00:10:24.112034Z",
     "iopub.status.busy": "2020-11-23T00:10:24.111213Z",
     "iopub.status.idle": "2020-11-23T00:10:24.112873Z",
     "shell.execute_reply": "2020-11-23T00:10:24.113501Z"
    },
    "papermill": {
     "duration": 0.039583,
     "end_time": "2020-11-23T00:10:24.113690",
     "exception": false,
     "start_time": "2020-11-23T00:10:24.074107",
     "status": "completed"
    },
    "tags": []
   },
   "outputs": [],
   "source": [
    "#hide\n",
    "# cols = ['name','group','day','value']"
   ]
  },
  {
   "cell_type": "code",
   "execution_count": 37,
   "metadata": {
    "execution": {
     "iopub.execute_input": "2020-11-23T00:10:24.182036Z",
     "iopub.status.busy": "2020-11-23T00:10:24.181450Z",
     "iopub.status.idle": "2020-11-23T00:10:24.183861Z",
     "shell.execute_reply": "2020-11-23T00:10:24.184331Z"
    },
    "papermill": {
     "duration": 0.038429,
     "end_time": "2020-11-23T00:10:24.184477",
     "exception": false,
     "start_time": "2020-11-23T00:10:24.146048",
     "status": "completed"
    },
    "tags": []
   },
   "outputs": [],
   "source": [
    "#hide\n",
    "# g.rename(columns= {'date':'day'},inplace = True)"
   ]
  },
  {
   "cell_type": "code",
   "execution_count": 38,
   "metadata": {
    "execution": {
     "iopub.execute_input": "2020-11-23T00:10:24.249980Z",
     "iopub.status.busy": "2020-11-23T00:10:24.249395Z",
     "iopub.status.idle": "2020-11-23T00:10:24.252109Z",
     "shell.execute_reply": "2020-11-23T00:10:24.251639Z"
    },
    "papermill": {
     "duration": 0.037144,
     "end_time": "2020-11-23T00:10:24.252240",
     "exception": false,
     "start_time": "2020-11-23T00:10:24.215096",
     "status": "completed"
    },
    "tags": []
   },
   "outputs": [],
   "source": [
    "#hide\n",
    "# g = g[cols]"
   ]
  },
  {
   "cell_type": "code",
   "execution_count": 39,
   "metadata": {
    "execution": {
     "iopub.execute_input": "2020-11-23T00:10:24.317519Z",
     "iopub.status.busy": "2020-11-23T00:10:24.316937Z",
     "iopub.status.idle": "2020-11-23T00:10:24.318747Z",
     "shell.execute_reply": "2020-11-23T00:10:24.319245Z"
    },
    "papermill": {
     "duration": 0.036494,
     "end_time": "2020-11-23T00:10:24.319390",
     "exception": false,
     "start_time": "2020-11-23T00:10:24.282896",
     "status": "completed"
    },
    "tags": []
   },
   "outputs": [],
   "source": [
    "# #hide\n",
    "# g = g[g.group.notna()]"
   ]
  },
  {
   "cell_type": "code",
   "execution_count": 40,
   "metadata": {
    "execution": {
     "iopub.execute_input": "2020-11-23T00:10:24.384949Z",
     "iopub.status.busy": "2020-11-23T00:10:24.384360Z",
     "iopub.status.idle": "2020-11-23T00:10:24.386844Z",
     "shell.execute_reply": "2020-11-23T00:10:24.386326Z"
    },
    "papermill": {
     "duration": 0.036749,
     "end_time": "2020-11-23T00:10:24.386971",
     "exception": false,
     "start_time": "2020-11-23T00:10:24.350222",
     "status": "completed"
    },
    "tags": []
   },
   "outputs": [],
   "source": [
    "# #hide\n",
    "# colors = dict(zip(\n",
    "#     [\"Oceania\", \"Europe\", \"Asia\", \"South America\", \"Middle East\", \"North America\", \"Africa\"],\n",
    "#     [\"#adb0ff\", \"#ffb3ff\", \"#90d595\", \"#e48381\", \"#aafbff\", \"#f7bb5f\", \"#eafb50\"]\n",
    "# ))\n",
    "# group_lk = g.set_index('name')['group'].to_dict()"
   ]
  },
  {
   "cell_type": "code",
   "execution_count": null,
   "metadata": {
    "papermill": {
     "duration": 0.030503,
     "end_time": "2020-11-23T00:10:24.447984",
     "exception": false,
     "start_time": "2020-11-23T00:10:24.417481",
     "status": "completed"
    },
    "tags": []
   },
   "outputs": [],
   "source": []
  },
  {
   "cell_type": "code",
   "execution_count": 41,
   "metadata": {
    "execution": {
     "iopub.execute_input": "2020-11-23T00:10:24.514238Z",
     "iopub.status.busy": "2020-11-23T00:10:24.513649Z",
     "iopub.status.idle": "2020-11-23T00:10:24.515973Z",
     "shell.execute_reply": "2020-11-23T00:10:24.516441Z"
    },
    "papermill": {
     "duration": 0.03734,
     "end_time": "2020-11-23T00:10:24.516587",
     "exception": false,
     "start_time": "2020-11-23T00:10:24.479247",
     "status": "completed"
    },
    "tags": []
   },
   "outputs": [],
   "source": [
    "# #hide\n",
    "# fig, ax = plt.subplots(figsize=(15, 8))\n",
    "\n",
    "# def draw_barchart(current_day):\n",
    "#     dff = g[g['day'].eq(current_day)].sort_values(by='value', ascending=True).tail(10)\n",
    "#     ax.clear()\n",
    "#     ax.barh(dff['name'], dff['value'], color=[colors[group_lk[x]] for x in dff['name']])\n",
    "#     dx = dff['value'].max() / 200\n",
    "    \n",
    "#     for i, (value, name) in enumerate(zip(dff['value'], dff['name'])):\n",
    "#         ax.text(value-dx, i,     name,           size=14, weight=600, ha='right', va='bottom')\n",
    "#         ax.text(value-dx, i-.25, group_lk[name], size=10, color='#444444', ha='right', va='baseline')\n",
    "#         ax.text(value+dx, i,     f'{value:,.0f}',  size=14, ha='left',  va='center')\n",
    "#     ax.text(1, 0.4, current_day, transform=ax.transAxes, color='#777777', size=46, ha='right', weight=800)\n",
    "#     ax.text(0, 1.06, 'Population (thousands)', transform=ax.transAxes, size=12, color='#777777')\n",
    "#     ax.xaxis.set_major_formatter(ticker.StrMethodFormatter('{x:,.0f}'))\n",
    "#     ax.xaxis.set_ticks_position('top')\n",
    "#     ax.tick_params(axis='x', colors='#777777', labelsize=12)\n",
    "#     ax.set_yticks([])\n",
    "#     ax.margins(0, 0.01)\n",
    "#     ax.grid(which='major', axis='x', linestyle='-')\n",
    "#     ax.set_axisbelow(True)\n",
    "    \n",
    "#     ax.text(0, 1.15, 'Coronavirus',\n",
    "#             transform=ax.transAxes, size=24, weight=600, ha='left', va='top')\n",
    "# #     ax.text(1, 0, 'by @pratapvardhan; credit @jburnmurdoch', transform=ax.transAxes, color='#777777', ha='right',\n",
    "# #             bbox=dict(facecolor='white', alpha=0.8, edgecolor='white'))\n",
    "#     plt.box(False)"
   ]
  },
  {
   "cell_type": "code",
   "execution_count": 42,
   "metadata": {
    "execution": {
     "iopub.execute_input": "2020-11-23T00:10:24.581880Z",
     "iopub.status.busy": "2020-11-23T00:10:24.581296Z",
     "iopub.status.idle": "2020-11-23T00:10:24.583064Z",
     "shell.execute_reply": "2020-11-23T00:10:24.583551Z"
    },
    "papermill": {
     "duration": 0.036425,
     "end_time": "2020-11-23T00:10:24.583694",
     "exception": false,
     "start_time": "2020-11-23T00:10:24.547269",
     "status": "completed"
    },
    "tags": []
   },
   "outputs": [],
   "source": [
    "# #hide_input\n",
    "# fig, ax = plt.subplots(figsize=(15, 8))\n",
    "# animator = animation.FuncAnimation(fig, draw_barchart, frames=range(g.day.values.min(), g.day.values.max()))\n",
    "# HTML(animator.to_jshtml())\n",
    "# # or use animator.to_html5_video() or animator.save() "
   ]
  },
  {
   "cell_type": "code",
   "execution_count": null,
   "metadata": {
    "papermill": {
     "duration": 0.030464,
     "end_time": "2020-11-23T00:10:24.644911",
     "exception": false,
     "start_time": "2020-11-23T00:10:24.614447",
     "status": "completed"
    },
    "tags": []
   },
   "outputs": [],
   "source": []
  },
  {
   "cell_type": "code",
   "execution_count": null,
   "metadata": {
    "papermill": {
     "duration": 0.087002,
     "end_time": "2020-11-23T00:10:24.763892",
     "exception": false,
     "start_time": "2020-11-23T00:10:24.676890",
     "status": "completed"
    },
    "tags": []
   },
   "outputs": [],
   "source": []
  },
  {
   "cell_type": "code",
   "execution_count": null,
   "metadata": {
    "papermill": {
     "duration": 0.037666,
     "end_time": "2020-11-23T00:10:25.799526",
     "exception": false,
     "start_time": "2020-11-23T00:10:25.761860",
     "status": "completed"
    },
    "tags": []
   },
   "outputs": [],
   "source": []
  }
 ],
 "metadata": {
  "kernelspec": {
   "display_name": "Python 3",
   "language": "python",
   "name": "python3"
  },
  "language_info": {
   "codemirror_mode": {
    "name": "ipython",
    "version": 3
   },
   "file_extension": ".py",
   "mimetype": "text/x-python",
   "name": "python",
   "nbconvert_exporter": "python",
   "pygments_lexer": "ipython3",
   "version": "3.6.12"
  },
  "papermill": {
   "duration": 9.785568,
   "end_time": "2020-11-23T00:10:26.239585",
   "environment_variables": {},
   "exception": null,
   "input_path": "2020-03-21-covid19exp.ipynb",
   "output_path": "2020-03-21-covid19exp.ipynb",
   "parameters": {},
   "start_time": "2020-11-23T00:10:16.454017",
   "version": "2.0.0"
  }
 },
 "nbformat": 4,
 "nbformat_minor": 4
}