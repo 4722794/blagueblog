{
 "cells": [
  {
   "cell_type": "markdown",
   "id": "muslim-click",
   "metadata": {
    "papermill": {
     "duration": 0.041819,
     "end_time": "2021-07-07T00:20:33.459056",
     "exception": false,
     "start_time": "2021-07-07T00:20:33.417237",
     "status": "completed"
    },
    "tags": []
   },
   "source": [
    "# COVID-19 Case Race\n",
    "> A race chart to see rising cases around the world\n",
    "\n",
    "- author: Hargun Oberoi\n",
    "- image: images/covid-overview.png\n",
    "- hide: false\n",
    "- badges: false"
   ]
  },
  {
   "cell_type": "code",
   "execution_count": 1,
   "id": "proof-material",
   "metadata": {
    "execution": {
     "iopub.execute_input": "2021-07-07T00:20:33.542138Z",
     "iopub.status.busy": "2021-07-07T00:20:33.541557Z",
     "iopub.status.idle": "2021-07-07T00:20:33.913142Z",
     "shell.execute_reply": "2021-07-07T00:20:33.912502Z"
    },
    "papermill": {
     "duration": 0.418275,
     "end_time": "2021-07-07T00:20:33.913371",
     "exception": false,
     "start_time": "2021-07-07T00:20:33.495096",
     "status": "completed"
    },
    "tags": []
   },
   "outputs": [],
   "source": [
    "#hide\n",
    "import numpy as np\n",
    "import pandas as pd\n",
    "from jinja2 import Template\n",
    "from IPython.display import HTML"
   ]
  },
  {
   "cell_type": "code",
   "execution_count": 2,
   "id": "developed-terminology",
   "metadata": {
    "execution": {
     "iopub.execute_input": "2021-07-07T00:20:33.994645Z",
     "iopub.status.busy": "2021-07-07T00:20:33.994043Z",
     "iopub.status.idle": "2021-07-07T00:20:33.996140Z",
     "shell.execute_reply": "2021-07-07T00:20:33.995586Z"
    },
    "papermill": {
     "duration": 0.041081,
     "end_time": "2021-07-07T00:20:33.996247",
     "exception": false,
     "start_time": "2021-07-07T00:20:33.955166",
     "status": "completed"
    },
    "tags": []
   },
   "outputs": [],
   "source": [
    "#hide\n",
    "\n",
    "# FETCH\n",
    "base_url = 'https://raw.githubusercontent.com/pratapvardhan/notebooks/master/covid19/'\n",
    "paths = {\n",
    "    'mapping': base_url + 'mapping_countries.csv',\n",
    "    'overview': base_url + 'overview.tpl'\n",
    "}"
   ]
  },
  {
   "cell_type": "code",
   "execution_count": 3,
   "id": "dynamic-saver",
   "metadata": {
    "execution": {
     "iopub.execute_input": "2021-07-07T00:20:34.074450Z",
     "iopub.status.busy": "2021-07-07T00:20:34.073937Z",
     "iopub.status.idle": "2021-07-07T00:20:34.076618Z",
     "shell.execute_reply": "2021-07-07T00:20:34.077149Z"
    },
    "papermill": {
     "duration": 0.046412,
     "end_time": "2021-07-07T00:20:34.077285",
     "exception": false,
     "start_time": "2021-07-07T00:20:34.030873",
     "status": "completed"
    },
    "tags": []
   },
   "outputs": [
    {
     "data": {
      "text/plain": [
       "'https://raw.githubusercontent.com/pratapvardhan/notebooks/master/covid19/mapping_countries.csv'"
      ]
     },
     "execution_count": 3,
     "metadata": {},
     "output_type": "execute_result"
    }
   ],
   "source": [
    "#hide\n",
    "paths['mapping']"
   ]
  },
  {
   "cell_type": "code",
   "execution_count": 4,
   "id": "urban-software",
   "metadata": {
    "execution": {
     "iopub.execute_input": "2021-07-07T00:20:34.153561Z",
     "iopub.status.busy": "2021-07-07T00:20:34.152655Z",
     "iopub.status.idle": "2021-07-07T00:20:34.157935Z",
     "shell.execute_reply": "2021-07-07T00:20:34.158777Z"
    },
    "papermill": {
     "duration": 0.046227,
     "end_time": "2021-07-07T00:20:34.158891",
     "exception": false,
     "start_time": "2021-07-07T00:20:34.112664",
     "status": "completed"
    },
    "tags": []
   },
   "outputs": [],
   "source": [
    "#hide\n",
    "def get_mappings(url):\n",
    "    df = pd.read_csv(url)\n",
    "    return {\n",
    "        'df': df,\n",
    "        'replace.country': dict(df.dropna(subset=['Name']).set_index('Country')['Name']),\n",
    "        'map.continent': dict(df.set_index('Name')['Continent'])\n",
    "    }"
   ]
  },
  {
   "cell_type": "code",
   "execution_count": 5,
   "id": "intimate-machinery",
   "metadata": {
    "execution": {
     "iopub.execute_input": "2021-07-07T00:20:34.231081Z",
     "iopub.status.busy": "2021-07-07T00:20:34.230502Z",
     "iopub.status.idle": "2021-07-07T00:20:34.270397Z",
     "shell.execute_reply": "2021-07-07T00:20:34.269899Z"
    },
    "papermill": {
     "duration": 0.076965,
     "end_time": "2021-07-07T00:20:34.270501",
     "exception": false,
     "start_time": "2021-07-07T00:20:34.193536",
     "status": "completed"
    },
    "tags": []
   },
   "outputs": [],
   "source": [
    "#hide\n",
    "mapping = get_mappings(paths['mapping'])"
   ]
  },
  {
   "cell_type": "code",
   "execution_count": 6,
   "id": "certified-tactics",
   "metadata": {
    "execution": {
     "iopub.execute_input": "2021-07-07T00:20:34.347030Z",
     "iopub.status.busy": "2021-07-07T00:20:34.346193Z",
     "iopub.status.idle": "2021-07-07T00:20:34.348535Z",
     "shell.execute_reply": "2021-07-07T00:20:34.349169Z"
    },
    "papermill": {
     "duration": 0.043672,
     "end_time": "2021-07-07T00:20:34.349281",
     "exception": false,
     "start_time": "2021-07-07T00:20:34.305609",
     "status": "completed"
    },
    "tags": []
   },
   "outputs": [],
   "source": [
    "#hide\n",
    "def get_template(path):\n",
    "    from urllib.parse import urlparse\n",
    "    if bool(urlparse(path).netloc):\n",
    "        from urllib.request import urlopen\n",
    "        return urlopen(path).read().decode('utf8')\n",
    "    return open(path).read()"
   ]
  },
  {
   "cell_type": "code",
   "execution_count": 7,
   "id": "realistic-blast",
   "metadata": {
    "execution": {
     "iopub.execute_input": "2021-07-07T00:20:34.423547Z",
     "iopub.status.busy": "2021-07-07T00:20:34.422888Z",
     "iopub.status.idle": "2021-07-07T00:20:34.425765Z",
     "shell.execute_reply": "2021-07-07T00:20:34.425078Z"
    },
    "papermill": {
     "duration": 0.042682,
     "end_time": "2021-07-07T00:20:34.425888",
     "exception": false,
     "start_time": "2021-07-07T00:20:34.383206",
     "status": "completed"
    },
    "tags": []
   },
   "outputs": [],
   "source": [
    "#hide\n",
    "def get_frame(name):\n",
    "    url = (\n",
    "        'https://raw.githubusercontent.com/CSSEGISandData/COVID-19/master/csse_covid_19_data/'\n",
    "        f'csse_covid_19_time_series/time_series_covid19_{name}_global.csv')\n",
    "    df = pd.read_csv(url)\n",
    "    # rename countries\n",
    "    df['Country/Region'] = df['Country/Region'].replace(mapping['replace.country'])\n",
    "    return df"
   ]
  },
  {
   "cell_type": "code",
   "execution_count": 8,
   "id": "affiliated-characterization",
   "metadata": {
    "execution": {
     "iopub.execute_input": "2021-07-07T00:20:34.505477Z",
     "iopub.status.busy": "2021-07-07T00:20:34.504825Z",
     "iopub.status.idle": "2021-07-07T00:20:34.507345Z",
     "shell.execute_reply": "2021-07-07T00:20:34.506796Z"
    },
    "papermill": {
     "duration": 0.045252,
     "end_time": "2021-07-07T00:20:34.507457",
     "exception": false,
     "start_time": "2021-07-07T00:20:34.462205",
     "status": "completed"
    },
    "tags": []
   },
   "outputs": [],
   "source": [
    "#hide\n",
    "def get_dates(df):\n",
    "    dt_cols = df.columns[~df.columns.isin(['Province/State', 'Country/Region', 'Lat', 'Long'])]\n",
    "    LAST_DATE_I = -1\n",
    "    # sometimes last column may be empty, then go backwards\n",
    "    for i in range(-1, -len(dt_cols), -1):\n",
    "        if not df[dt_cols[i]].fillna(0).eq(0).all():\n",
    "            LAST_DATE_I = i\n",
    "            break\n",
    "    return LAST_DATE_I, dt_cols"
   ]
  },
  {
   "cell_type": "code",
   "execution_count": 9,
   "id": "recent-optimization",
   "metadata": {
    "execution": {
     "iopub.execute_input": "2021-07-07T00:20:34.583778Z",
     "iopub.status.busy": "2021-07-07T00:20:34.583184Z",
     "iopub.status.idle": "2021-07-07T00:20:34.952868Z",
     "shell.execute_reply": "2021-07-07T00:20:34.952342Z"
    },
    "papermill": {
     "duration": 0.410789,
     "end_time": "2021-07-07T00:20:34.953059",
     "exception": false,
     "start_time": "2021-07-07T00:20:34.542270",
     "status": "completed"
    },
    "tags": []
   },
   "outputs": [],
   "source": [
    "#hide\n",
    "COL_REGION = 'Country/Region'\n",
    "# Confirmed, Recovered, Deaths\n",
    "df = get_frame('confirmed')\n",
    "# dft_: timeseries, dfc_: today country agg\n",
    "dft_cases = df\n",
    "dft_deaths = get_frame('deaths')\n",
    "dft_recovered = get_frame('recovered')\n",
    "LAST_DATE_I, dt_cols = get_dates(df)"
   ]
  },
  {
   "cell_type": "code",
   "execution_count": 10,
   "id": "absolute-copper",
   "metadata": {
    "execution": {
     "iopub.execute_input": "2021-07-07T00:20:35.032708Z",
     "iopub.status.busy": "2021-07-07T00:20:35.032043Z",
     "iopub.status.idle": "2021-07-07T00:20:35.033760Z",
     "shell.execute_reply": "2021-07-07T00:20:35.034293Z"
    },
    "papermill": {
     "duration": 0.044298,
     "end_time": "2021-07-07T00:20:35.034428",
     "exception": false,
     "start_time": "2021-07-07T00:20:34.990130",
     "status": "completed"
    },
    "tags": []
   },
   "outputs": [],
   "source": [
    "#hide\n",
    "LAST_DATE_I, dt_cols = get_dates(df)\n",
    "dt_today =dt_cols[LAST_DATE_I]\n",
    "# dt_5day = dt_cols[LAST_DATE_I - 5]\n",
    "dt_yday = dt_cols[LAST_DATE_I - 1]"
   ]
  },
  {
   "cell_type": "code",
   "execution_count": 11,
   "id": "restricted-sheriff",
   "metadata": {
    "execution": {
     "iopub.execute_input": "2021-07-07T00:20:35.111994Z",
     "iopub.status.busy": "2021-07-07T00:20:35.111237Z",
     "iopub.status.idle": "2021-07-07T00:20:35.122074Z",
     "shell.execute_reply": "2021-07-07T00:20:35.121479Z"
    },
    "papermill": {
     "duration": 0.051357,
     "end_time": "2021-07-07T00:20:35.122206",
     "exception": false,
     "start_time": "2021-07-07T00:20:35.070849",
     "status": "completed"
    },
    "tags": []
   },
   "outputs": [],
   "source": [
    "#hide\n",
    "dfc_cases = dft_cases.groupby(COL_REGION)[dt_today].sum()\n",
    "dfc_deaths = dft_deaths.groupby(COL_REGION)[dt_today].sum()\n",
    "# dfp_cases = dft_cases.groupby(COL_REGION)[dt_5day].sum()\n",
    "# dfp_deaths = dft_deaths.groupby(COL_REGION)[dt_5day].sum()\n",
    "dfp_cases = dft_cases.groupby(COL_REGION)[dt_yday].sum()\n",
    "dfp_deaths = dft_deaths.groupby(COL_REGION)[dt_yday].sum()"
   ]
  },
  {
   "cell_type": "code",
   "execution_count": 12,
   "id": "deluxe-hepatitis",
   "metadata": {
    "execution": {
     "iopub.execute_input": "2021-07-07T00:20:35.193465Z",
     "iopub.status.busy": "2021-07-07T00:20:35.192797Z",
     "iopub.status.idle": "2021-07-07T00:20:35.198343Z",
     "shell.execute_reply": "2021-07-07T00:20:35.198992Z"
    },
    "papermill": {
     "duration": 0.04296,
     "end_time": "2021-07-07T00:20:35.199097",
     "exception": false,
     "start_time": "2021-07-07T00:20:35.156137",
     "status": "completed"
    },
    "tags": []
   },
   "outputs": [],
   "source": [
    "#hide\n",
    "df_table = (pd.DataFrame(dict(Cases = dfc_cases, Deaths = dfc_deaths, PCases = dfp_cases, PDeaths = dfp_deaths))\n",
    "            .sort_values(by = ['Cases','Deaths'], ascending = [False, False])\n",
    "            .reset_index())"
   ]
  },
  {
   "cell_type": "code",
   "execution_count": 13,
   "id": "educational-chancellor",
   "metadata": {
    "execution": {
     "iopub.execute_input": "2021-07-07T00:20:35.288184Z",
     "iopub.status.busy": "2021-07-07T00:20:35.287580Z",
     "iopub.status.idle": "2021-07-07T00:20:35.296954Z",
     "shell.execute_reply": "2021-07-07T00:20:35.297571Z"
    },
    "papermill": {
     "duration": 0.064938,
     "end_time": "2021-07-07T00:20:35.297705",
     "exception": false,
     "start_time": "2021-07-07T00:20:35.232767",
     "status": "completed"
    },
    "tags": []
   },
   "outputs": [
    {
     "data": {
      "text/html": [
       "<div>\n",
       "<style scoped>\n",
       "    .dataframe tbody tr th:only-of-type {\n",
       "        vertical-align: middle;\n",
       "    }\n",
       "\n",
       "    .dataframe tbody tr th {\n",
       "        vertical-align: top;\n",
       "    }\n",
       "\n",
       "    .dataframe thead th {\n",
       "        text-align: right;\n",
       "    }\n",
       "</style>\n",
       "<table border=\"1\" class=\"dataframe\">\n",
       "  <thead>\n",
       "    <tr style=\"text-align: right;\">\n",
       "      <th></th>\n",
       "      <th>Country/Region</th>\n",
       "      <th>Cases</th>\n",
       "      <th>Deaths</th>\n",
       "      <th>PCases</th>\n",
       "      <th>PDeaths</th>\n",
       "      <th>Cases (+)</th>\n",
       "      <th>Deaths (+)</th>\n",
       "      <th>Fatality Rate</th>\n",
       "      <th>Continent</th>\n",
       "    </tr>\n",
       "  </thead>\n",
       "  <tbody>\n",
       "    <tr>\n",
       "      <th>0</th>\n",
       "      <td>US</td>\n",
       "      <td>33723289</td>\n",
       "      <td>605567</td>\n",
       "      <td>33717761</td>\n",
       "      <td>605526</td>\n",
       "      <td>5528</td>\n",
       "      <td>41</td>\n",
       "      <td>1.80</td>\n",
       "      <td>North America</td>\n",
       "    </tr>\n",
       "    <tr>\n",
       "      <th>1</th>\n",
       "      <td>India</td>\n",
       "      <td>30619932</td>\n",
       "      <td>403281</td>\n",
       "      <td>30585229</td>\n",
       "      <td>402728</td>\n",
       "      <td>34703</td>\n",
       "      <td>553</td>\n",
       "      <td>1.32</td>\n",
       "      <td>Asia</td>\n",
       "    </tr>\n",
       "    <tr>\n",
       "      <th>2</th>\n",
       "      <td>Brazil</td>\n",
       "      <td>18792511</td>\n",
       "      <td>525112</td>\n",
       "      <td>18769808</td>\n",
       "      <td>524417</td>\n",
       "      <td>22703</td>\n",
       "      <td>695</td>\n",
       "      <td>2.79</td>\n",
       "      <td>South America</td>\n",
       "    </tr>\n",
       "    <tr>\n",
       "      <th>3</th>\n",
       "      <td>France</td>\n",
       "      <td>5849011</td>\n",
       "      <td>111385</td>\n",
       "      <td>5848209</td>\n",
       "      <td>111348</td>\n",
       "      <td>802</td>\n",
       "      <td>37</td>\n",
       "      <td>1.90</td>\n",
       "      <td>Europe</td>\n",
       "    </tr>\n",
       "    <tr>\n",
       "      <th>4</th>\n",
       "      <td>Russia</td>\n",
       "      <td>5568104</td>\n",
       "      <td>136279</td>\n",
       "      <td>5544209</td>\n",
       "      <td>135637</td>\n",
       "      <td>23895</td>\n",
       "      <td>642</td>\n",
       "      <td>2.45</td>\n",
       "      <td>Europe</td>\n",
       "    </tr>\n",
       "  </tbody>\n",
       "</table>\n",
       "</div>"
      ],
      "text/plain": [
       "  Country/Region     Cases  Deaths    PCases  PDeaths  Cases (+)  Deaths (+)  \\\n",
       "0             US  33723289  605567  33717761   605526       5528          41   \n",
       "1          India  30619932  403281  30585229   402728      34703         553   \n",
       "2         Brazil  18792511  525112  18769808   524417      22703         695   \n",
       "3         France   5849011  111385   5848209   111348        802          37   \n",
       "4         Russia   5568104  136279   5544209   135637      23895         642   \n",
       "\n",
       "   Fatality Rate      Continent  \n",
       "0           1.80  North America  \n",
       "1           1.32           Asia  \n",
       "2           2.79  South America  \n",
       "3           1.90         Europe  \n",
       "4           2.45         Europe  "
      ]
     },
     "execution_count": 13,
     "metadata": {},
     "output_type": "execute_result"
    }
   ],
   "source": [
    "#hide\n",
    "for c in 'Cases, Deaths'.split(', '):\n",
    "    df_table[f'{c} (+)'] = (df_table[c] - df_table[f'P{c}']).clip(0)\n",
    "    #Clip ça veut dire, les chiffres negatif sont interdit\n",
    "df_table['Fatality Rate'] = (100* df_table['Deaths']/ df_table['Cases']).round(2)\n",
    "df_table['Continent'] = df_table['Country/Region'].map(mapping['map.continent'])\n",
    "df_table.head(5)"
   ]
  },
  {
   "cell_type": "code",
   "execution_count": 14,
   "id": "aboriginal-bulgaria",
   "metadata": {
    "execution": {
     "iopub.execute_input": "2021-07-07T00:20:35.372982Z",
     "iopub.status.busy": "2021-07-07T00:20:35.372339Z",
     "iopub.status.idle": "2021-07-07T00:20:35.376480Z",
     "shell.execute_reply": "2021-07-07T00:20:35.375360Z"
    },
    "papermill": {
     "duration": 0.044952,
     "end_time": "2021-07-07T00:20:35.376594",
     "exception": false,
     "start_time": "2021-07-07T00:20:35.331642",
     "status": "completed"
    },
    "tags": []
   },
   "outputs": [],
   "source": [
    "#hide\n",
    "#delete problematic countries from table\n",
    "df_table = df_table[~df_table['Country/Region'].isin(['Cape Verde', 'Cruise Ship', 'Kosovo'])]"
   ]
  },
  {
   "cell_type": "code",
   "execution_count": 15,
   "id": "fantastic-effect",
   "metadata": {
    "execution": {
     "iopub.execute_input": "2021-07-07T00:20:35.456318Z",
     "iopub.status.busy": "2021-07-07T00:20:35.455763Z",
     "iopub.status.idle": "2021-07-07T00:20:35.478841Z",
     "shell.execute_reply": "2021-07-07T00:20:35.479469Z"
    },
    "papermill": {
     "duration": 0.067596,
     "end_time": "2021-07-07T00:20:35.479597",
     "exception": false,
     "start_time": "2021-07-07T00:20:35.412001",
     "status": "completed"
    },
    "tags": []
   },
   "outputs": [
    {
     "data": {
      "text/html": [
       "<div>\n",
       "<style scoped>\n",
       "    .dataframe tbody tr th:only-of-type {\n",
       "        vertical-align: middle;\n",
       "    }\n",
       "\n",
       "    .dataframe tbody tr th {\n",
       "        vertical-align: top;\n",
       "    }\n",
       "\n",
       "    .dataframe thead th {\n",
       "        text-align: right;\n",
       "    }\n",
       "</style>\n",
       "<table border=\"1\" class=\"dataframe\">\n",
       "  <thead>\n",
       "    <tr style=\"text-align: right;\">\n",
       "      <th></th>\n",
       "      <th>Country/Region</th>\n",
       "      <th>Cases</th>\n",
       "      <th>Deaths</th>\n",
       "      <th>PCases</th>\n",
       "      <th>PDeaths</th>\n",
       "      <th>Cases (+)</th>\n",
       "      <th>Deaths (+)</th>\n",
       "      <th>Fatality Rate</th>\n",
       "      <th>Continent</th>\n",
       "    </tr>\n",
       "  </thead>\n",
       "  <tbody>\n",
       "    <tr>\n",
       "      <th>0</th>\n",
       "      <td>US</td>\n",
       "      <td>33723289</td>\n",
       "      <td>605567</td>\n",
       "      <td>33717761</td>\n",
       "      <td>605526</td>\n",
       "      <td>5528</td>\n",
       "      <td>41</td>\n",
       "      <td>1.8</td>\n",
       "      <td>North America</td>\n",
       "    </tr>\n",
       "    <tr>\n",
       "      <th>1</th>\n",
       "      <td>India</td>\n",
       "      <td>30619932</td>\n",
       "      <td>403281</td>\n",
       "      <td>30585229</td>\n",
       "      <td>402728</td>\n",
       "      <td>34703</td>\n",
       "      <td>553</td>\n",
       "      <td>1.3</td>\n",
       "      <td>Asia</td>\n",
       "    </tr>\n",
       "    <tr>\n",
       "      <th>2</th>\n",
       "      <td>Brazil</td>\n",
       "      <td>18792511</td>\n",
       "      <td>525112</td>\n",
       "      <td>18769808</td>\n",
       "      <td>524417</td>\n",
       "      <td>22703</td>\n",
       "      <td>695</td>\n",
       "      <td>2.8</td>\n",
       "      <td>South America</td>\n",
       "    </tr>\n",
       "    <tr>\n",
       "      <th>3</th>\n",
       "      <td>France</td>\n",
       "      <td>5849011</td>\n",
       "      <td>111385</td>\n",
       "      <td>5848209</td>\n",
       "      <td>111348</td>\n",
       "      <td>802</td>\n",
       "      <td>37</td>\n",
       "      <td>1.9</td>\n",
       "      <td>Europe</td>\n",
       "    </tr>\n",
       "    <tr>\n",
       "      <th>4</th>\n",
       "      <td>Russia</td>\n",
       "      <td>5568104</td>\n",
       "      <td>136279</td>\n",
       "      <td>5544209</td>\n",
       "      <td>135637</td>\n",
       "      <td>23895</td>\n",
       "      <td>642</td>\n",
       "      <td>2.4</td>\n",
       "      <td>Europe</td>\n",
       "    </tr>\n",
       "  </tbody>\n",
       "</table>\n",
       "</div>"
      ],
      "text/plain": [
       "  Country/Region     Cases  Deaths    PCases  PDeaths  Cases (+)  Deaths (+)  \\\n",
       "0             US  33723289  605567  33717761   605526       5528          41   \n",
       "1          India  30619932  403281  30585229   402728      34703         553   \n",
       "2         Brazil  18792511  525112  18769808   524417      22703         695   \n",
       "3         France   5849011  111385   5848209   111348        802          37   \n",
       "4         Russia   5568104  136279   5544209   135637      23895         642   \n",
       "\n",
       "   Fatality Rate      Continent  \n",
       "0            1.8  North America  \n",
       "1            1.3           Asia  \n",
       "2            2.8  South America  \n",
       "3            1.9         Europe  \n",
       "4            2.4         Europe  "
      ]
     },
     "execution_count": 15,
     "metadata": {},
     "output_type": "execute_result"
    }
   ],
   "source": [
    "#hide\n",
    "df_table = (pd.DataFrame(dict(Cases=dfc_cases, Deaths=dfc_deaths, PCases=dfp_cases, PDeaths=dfp_deaths))\n",
    "             .sort_values(by=['Cases', 'Deaths'], ascending=[False, False])\n",
    "             .reset_index())\n",
    "df_table.rename(columns={'index': 'Country/Region'}, inplace=True)\n",
    "for c in 'Cases, Deaths'.split(', '):\n",
    "    df_table[f'{c} (+)'] = (df_table[c] - df_table[f'P{c}']).clip(0)  # DATA BUG\n",
    "df_table['Fatality Rate'] = (100 * df_table['Deaths'] / df_table['Cases']).round(1)\n",
    "df_table['Continent'] = df_table['Country/Region'].map(mapping['map.continent'])\n",
    "df_table.head(5)"
   ]
  },
  {
   "cell_type": "code",
   "execution_count": 16,
   "id": "fewer-occasion",
   "metadata": {
    "execution": {
     "iopub.execute_input": "2021-07-07T00:20:35.559160Z",
     "iopub.status.busy": "2021-07-07T00:20:35.558627Z",
     "iopub.status.idle": "2021-07-07T00:20:35.561558Z",
     "shell.execute_reply": "2021-07-07T00:20:35.562129Z"
    },
    "papermill": {
     "duration": 0.045766,
     "end_time": "2021-07-07T00:20:35.562265",
     "exception": false,
     "start_time": "2021-07-07T00:20:35.516499",
     "status": "completed"
    },
    "tags": []
   },
   "outputs": [],
   "source": [
    "#hide\n",
    "#delete problematic countries from table\n",
    "df_table = df_table[~df_table['Country/Region'].isin(['Cape Verde', 'Cruise Ship', 'Kosovo'])]"
   ]
  },
  {
   "cell_type": "code",
   "execution_count": 17,
   "id": "related-center",
   "metadata": {
    "execution": {
     "iopub.execute_input": "2021-07-07T00:20:35.653391Z",
     "iopub.status.busy": "2021-07-07T00:20:35.652705Z",
     "iopub.status.idle": "2021-07-07T00:20:35.654725Z",
     "shell.execute_reply": "2021-07-07T00:20:35.655272Z"
    },
    "papermill": {
     "duration": 0.057037,
     "end_time": "2021-07-07T00:20:35.655428",
     "exception": false,
     "start_time": "2021-07-07T00:20:35.598391",
     "status": "completed"
    },
    "tags": []
   },
   "outputs": [],
   "source": [
    "#hide\n",
    "metrics = [df_table.columns[index] for index in [1,2,5,6]]\n",
    "# s_china = df_table[df_table['Country/Region'].eq('China')][metrics].sum().add_prefix('China ')\n",
    "s_us = df_table[df_table['Country/Region'].eq('US')][metrics].sum().add_prefix('US ')\n",
    "s_eu = df_table[df_table['Continent'].eq('Europe')][metrics].sum().add_prefix('EU ')\n",
    "s_ind = df_table[df_table['Country/Region'].eq('India')][metrics].sum().add_prefix('India ')\n",
    "summary = {'updated': pd.to_datetime(dt_today), 'since': pd.to_datetime(dt_yday)}\n",
    "summary = {'updated': pd.to_datetime(dt_today), 'since': pd.to_datetime(dt_yday)}\n",
    "summary = {**summary, **df_table[metrics].sum(), **s_ind, **s_us, **s_eu}"
   ]
  },
  {
   "cell_type": "code",
   "execution_count": 18,
   "id": "engaging-syndrome",
   "metadata": {
    "execution": {
     "iopub.execute_input": "2021-07-07T00:20:35.732351Z",
     "iopub.status.busy": "2021-07-07T00:20:35.731644Z",
     "iopub.status.idle": "2021-07-07T00:20:35.744939Z",
     "shell.execute_reply": "2021-07-07T00:20:35.745526Z"
    },
    "papermill": {
     "duration": 0.054324,
     "end_time": "2021-07-07T00:20:35.745709",
     "exception": false,
     "start_time": "2021-07-07T00:20:35.691385",
     "status": "completed"
    },
    "tags": []
   },
   "outputs": [],
   "source": [
    "#hide\n",
    "dft_ct_new_cases = dft_cases.groupby(COL_REGION)[dt_cols].sum().diff(axis=1).fillna(0).astype(int)"
   ]
  },
  {
   "cell_type": "code",
   "execution_count": 19,
   "id": "neutral-assignment",
   "metadata": {
    "execution": {
     "iopub.execute_input": "2021-07-07T00:20:35.824831Z",
     "iopub.status.busy": "2021-07-07T00:20:35.824235Z",
     "iopub.status.idle": "2021-07-07T00:20:35.826898Z",
     "shell.execute_reply": "2021-07-07T00:20:35.826395Z"
    },
    "papermill": {
     "duration": 0.043353,
     "end_time": "2021-07-07T00:20:35.826995",
     "exception": false,
     "start_time": "2021-07-07T00:20:35.783642",
     "status": "completed"
    },
    "tags": []
   },
   "outputs": [],
   "source": [
    "#hide\n",
    "everydaycases = dft_ct_new_cases.cumsum(axis=1)"
   ]
  },
  {
   "cell_type": "code",
   "execution_count": 20,
   "id": "parliamentary-calgary",
   "metadata": {
    "execution": {
     "iopub.execute_input": "2021-07-07T00:20:35.906784Z",
     "iopub.status.busy": "2021-07-07T00:20:35.906190Z",
     "iopub.status.idle": "2021-07-07T00:20:36.473948Z",
     "shell.execute_reply": "2021-07-07T00:20:36.473294Z"
    },
    "papermill": {
     "duration": 0.608603,
     "end_time": "2021-07-07T00:20:36.474190",
     "exception": false,
     "start_time": "2021-07-07T00:20:35.865587",
     "status": "completed"
    },
    "tags": []
   },
   "outputs": [],
   "source": [
    "#hide\n",
    "import pandas as pd\n",
    "import matplotlib.pyplot as plt\n",
    "import matplotlib.ticker as ticker\n",
    "import matplotlib.animation as animation\n",
    "from IPython.display import HTML"
   ]
  },
  {
   "cell_type": "code",
   "execution_count": 21,
   "id": "lasting-extraction",
   "metadata": {
    "execution": {
     "iopub.execute_input": "2021-07-07T00:20:36.555647Z",
     "iopub.status.busy": "2021-07-07T00:20:36.555045Z",
     "iopub.status.idle": "2021-07-07T00:20:36.561029Z",
     "shell.execute_reply": "2021-07-07T00:20:36.560468Z"
    },
    "papermill": {
     "duration": 0.049011,
     "end_time": "2021-07-07T00:20:36.561188",
     "exception": false,
     "start_time": "2021-07-07T00:20:36.512177",
     "status": "completed"
    },
    "tags": []
   },
   "outputs": [],
   "source": [
    "#hide\n",
    "t = everydaycases.stack()"
   ]
  },
  {
   "cell_type": "code",
   "execution_count": 22,
   "id": "premier-sleeve",
   "metadata": {
    "execution": {
     "iopub.execute_input": "2021-07-07T00:20:36.637751Z",
     "iopub.status.busy": "2021-07-07T00:20:36.637169Z",
     "iopub.status.idle": "2021-07-07T00:20:36.644491Z",
     "shell.execute_reply": "2021-07-07T00:20:36.645020Z"
    },
    "papermill": {
     "duration": 0.047983,
     "end_time": "2021-07-07T00:20:36.645163",
     "exception": false,
     "start_time": "2021-07-07T00:20:36.597180",
     "status": "completed"
    },
    "tags": []
   },
   "outputs": [],
   "source": [
    "#hide\n",
    "g = t.reset_index(['Country/Region'])"
   ]
  },
  {
   "cell_type": "code",
   "execution_count": 23,
   "id": "distributed-pittsburgh",
   "metadata": {
    "execution": {
     "iopub.execute_input": "2021-07-07T00:20:36.721885Z",
     "iopub.status.busy": "2021-07-07T00:20:36.721142Z",
     "iopub.status.idle": "2021-07-07T00:20:36.723438Z",
     "shell.execute_reply": "2021-07-07T00:20:36.724212Z"
    },
    "papermill": {
     "duration": 0.039334,
     "end_time": "2021-07-07T00:20:36.724333",
     "exception": false,
     "start_time": "2021-07-07T00:20:36.684999",
     "status": "completed"
    },
    "tags": []
   },
   "outputs": [],
   "source": [
    "#hide\n",
    "g.index.name = 'date'"
   ]
  },
  {
   "cell_type": "code",
   "execution_count": 24,
   "id": "naked-donor",
   "metadata": {
    "execution": {
     "iopub.execute_input": "2021-07-07T00:20:36.802159Z",
     "iopub.status.busy": "2021-07-07T00:20:36.801415Z",
     "iopub.status.idle": "2021-07-07T00:20:36.803313Z",
     "shell.execute_reply": "2021-07-07T00:20:36.803748Z"
    },
    "papermill": {
     "duration": 0.042716,
     "end_time": "2021-07-07T00:20:36.803862",
     "exception": false,
     "start_time": "2021-07-07T00:20:36.761146",
     "status": "completed"
    },
    "tags": []
   },
   "outputs": [],
   "source": [
    "# #hide\n",
    "# g = g.reset_index(['date'])"
   ]
  },
  {
   "cell_type": "code",
   "execution_count": 25,
   "id": "incomplete-mustang",
   "metadata": {
    "execution": {
     "iopub.execute_input": "2021-07-07T00:20:36.878713Z",
     "iopub.status.busy": "2021-07-07T00:20:36.878168Z",
     "iopub.status.idle": "2021-07-07T00:20:36.881000Z",
     "shell.execute_reply": "2021-07-07T00:20:36.880445Z"
    },
    "papermill": {
     "duration": 0.043067,
     "end_time": "2021-07-07T00:20:36.881102",
     "exception": false,
     "start_time": "2021-07-07T00:20:36.838035",
     "status": "completed"
    },
    "tags": []
   },
   "outputs": [],
   "source": [
    "#hide\n",
    "# g.head()"
   ]
  },
  {
   "cell_type": "code",
   "execution_count": 26,
   "id": "specific-kruger",
   "metadata": {
    "execution": {
     "iopub.execute_input": "2021-07-07T00:20:36.955254Z",
     "iopub.status.busy": "2021-07-07T00:20:36.954701Z",
     "iopub.status.idle": "2021-07-07T00:20:36.956917Z",
     "shell.execute_reply": "2021-07-07T00:20:36.956448Z"
    },
    "papermill": {
     "duration": 0.040947,
     "end_time": "2021-07-07T00:20:36.957021",
     "exception": false,
     "start_time": "2021-07-07T00:20:36.916074",
     "status": "completed"
    },
    "tags": []
   },
   "outputs": [],
   "source": [
    "#hide\n",
    "# g.columns = ['date','country','cases']"
   ]
  },
  {
   "cell_type": "code",
   "execution_count": 27,
   "id": "tender-conversion",
   "metadata": {
    "execution": {
     "iopub.execute_input": "2021-07-07T00:20:37.031735Z",
     "iopub.status.busy": "2021-07-07T00:20:37.030964Z",
     "iopub.status.idle": "2021-07-07T00:20:37.033714Z",
     "shell.execute_reply": "2021-07-07T00:20:37.033288Z"
    },
    "papermill": {
     "duration": 0.039965,
     "end_time": "2021-07-07T00:20:37.033810",
     "exception": false,
     "start_time": "2021-07-07T00:20:36.993845",
     "status": "completed"
    },
    "tags": []
   },
   "outputs": [],
   "source": [
    "#hide\n",
    "# g['continent'] = g.country"
   ]
  },
  {
   "cell_type": "code",
   "execution_count": 28,
   "id": "substantial-wilderness",
   "metadata": {
    "execution": {
     "iopub.execute_input": "2021-07-07T00:20:37.110800Z",
     "iopub.status.busy": "2021-07-07T00:20:37.110267Z",
     "iopub.status.idle": "2021-07-07T00:20:37.112709Z",
     "shell.execute_reply": "2021-07-07T00:20:37.112084Z"
    },
    "papermill": {
     "duration": 0.042132,
     "end_time": "2021-07-07T00:20:37.112933",
     "exception": false,
     "start_time": "2021-07-07T00:20:37.070801",
     "status": "completed"
    },
    "tags": []
   },
   "outputs": [],
   "source": [
    "#hide\n",
    "# cols = list(g.columns.values)"
   ]
  },
  {
   "cell_type": "code",
   "execution_count": 29,
   "id": "solved-farming",
   "metadata": {
    "execution": {
     "iopub.execute_input": "2021-07-07T00:20:37.189681Z",
     "iopub.status.busy": "2021-07-07T00:20:37.188989Z",
     "iopub.status.idle": "2021-07-07T00:20:37.191533Z",
     "shell.execute_reply": "2021-07-07T00:20:37.191016Z"
    },
    "papermill": {
     "duration": 0.042768,
     "end_time": "2021-07-07T00:20:37.191653",
     "exception": false,
     "start_time": "2021-07-07T00:20:37.148885",
     "status": "completed"
    },
    "tags": []
   },
   "outputs": [],
   "source": [
    "#hide\n",
    "# cols.insert(0, cols.pop())"
   ]
  },
  {
   "cell_type": "code",
   "execution_count": 30,
   "id": "executed-adoption",
   "metadata": {
    "execution": {
     "iopub.execute_input": "2021-07-07T00:20:37.268258Z",
     "iopub.status.busy": "2021-07-07T00:20:37.267590Z",
     "iopub.status.idle": "2021-07-07T00:20:37.269526Z",
     "shell.execute_reply": "2021-07-07T00:20:37.270025Z"
    },
    "papermill": {
     "duration": 0.04326,
     "end_time": "2021-07-07T00:20:37.270165",
     "exception": false,
     "start_time": "2021-07-07T00:20:37.226905",
     "status": "completed"
    },
    "tags": []
   },
   "outputs": [],
   "source": [
    "#hide\n",
    "# g = g[cols]"
   ]
  },
  {
   "cell_type": "code",
   "execution_count": 31,
   "id": "subject-dublin",
   "metadata": {
    "execution": {
     "iopub.execute_input": "2021-07-07T00:20:37.348691Z",
     "iopub.status.busy": "2021-07-07T00:20:37.347867Z",
     "iopub.status.idle": "2021-07-07T00:20:37.349540Z",
     "shell.execute_reply": "2021-07-07T00:20:37.350289Z"
    },
    "papermill": {
     "duration": 0.043163,
     "end_time": "2021-07-07T00:20:37.350459",
     "exception": false,
     "start_time": "2021-07-07T00:20:37.307296",
     "status": "completed"
    },
    "tags": []
   },
   "outputs": [],
   "source": [
    "#hide\n",
    "# g['continent'] = g['continent'].map(mapping['map.continent'])"
   ]
  },
  {
   "cell_type": "code",
   "execution_count": 32,
   "id": "freelance-scout",
   "metadata": {
    "execution": {
     "iopub.execute_input": "2021-07-07T00:20:37.434665Z",
     "iopub.status.busy": "2021-07-07T00:20:37.433905Z",
     "iopub.status.idle": "2021-07-07T00:20:37.436607Z",
     "shell.execute_reply": "2021-07-07T00:20:37.436018Z"
    },
    "papermill": {
     "duration": 0.043183,
     "end_time": "2021-07-07T00:20:37.436736",
     "exception": false,
     "start_time": "2021-07-07T00:20:37.393553",
     "status": "completed"
    },
    "tags": []
   },
   "outputs": [],
   "source": [
    "#hide\n",
    "# g.head()"
   ]
  },
  {
   "cell_type": "code",
   "execution_count": 33,
   "id": "limited-engine",
   "metadata": {
    "execution": {
     "iopub.execute_input": "2021-07-07T00:20:37.514784Z",
     "iopub.status.busy": "2021-07-07T00:20:37.514229Z",
     "iopub.status.idle": "2021-07-07T00:20:37.517052Z",
     "shell.execute_reply": "2021-07-07T00:20:37.516384Z"
    },
    "papermill": {
     "duration": 0.043667,
     "end_time": "2021-07-07T00:20:37.517216",
     "exception": false,
     "start_time": "2021-07-07T00:20:37.473549",
     "status": "completed"
    },
    "tags": []
   },
   "outputs": [],
   "source": [
    "# hide\n",
    "# g['date'] = g['date'].astype('datetime64[ns]')"
   ]
  },
  {
   "cell_type": "code",
   "execution_count": 34,
   "id": "sophisticated-supervisor",
   "metadata": {
    "execution": {
     "iopub.execute_input": "2021-07-07T00:20:37.593724Z",
     "iopub.status.busy": "2021-07-07T00:20:37.593042Z",
     "iopub.status.idle": "2021-07-07T00:20:37.595447Z",
     "shell.execute_reply": "2021-07-07T00:20:37.594853Z"
    },
    "papermill": {
     "duration": 0.043109,
     "end_time": "2021-07-07T00:20:37.595593",
     "exception": false,
     "start_time": "2021-07-07T00:20:37.552484",
     "status": "completed"
    },
    "tags": []
   },
   "outputs": [],
   "source": [
    "#hide\n",
    "# g['date'] = g.date.dt.dayofyear"
   ]
  },
  {
   "cell_type": "code",
   "execution_count": 35,
   "id": "inside-dubai",
   "metadata": {
    "execution": {
     "iopub.execute_input": "2021-07-07T00:20:37.674044Z",
     "iopub.status.busy": "2021-07-07T00:20:37.673520Z",
     "iopub.status.idle": "2021-07-07T00:20:37.675554Z",
     "shell.execute_reply": "2021-07-07T00:20:37.676008Z"
    },
    "papermill": {
     "duration": 0.041636,
     "end_time": "2021-07-07T00:20:37.676142",
     "exception": false,
     "start_time": "2021-07-07T00:20:37.634506",
     "status": "completed"
    },
    "tags": []
   },
   "outputs": [],
   "source": [
    "#hide\n",
    "# g = g.rename(columns= {'continent':'group','country':'name','cases':'value'})"
   ]
  },
  {
   "cell_type": "code",
   "execution_count": 36,
   "id": "fleet-motorcycle",
   "metadata": {
    "execution": {
     "iopub.execute_input": "2021-07-07T00:20:37.750006Z",
     "iopub.status.busy": "2021-07-07T00:20:37.749424Z",
     "iopub.status.idle": "2021-07-07T00:20:37.751610Z",
     "shell.execute_reply": "2021-07-07T00:20:37.751189Z"
    },
    "papermill": {
     "duration": 0.040206,
     "end_time": "2021-07-07T00:20:37.751704",
     "exception": false,
     "start_time": "2021-07-07T00:20:37.711498",
     "status": "completed"
    },
    "tags": []
   },
   "outputs": [],
   "source": [
    "#hide\n",
    "# cols = ['name','group','day','value']"
   ]
  },
  {
   "cell_type": "code",
   "execution_count": 37,
   "id": "continued-sleeping",
   "metadata": {
    "execution": {
     "iopub.execute_input": "2021-07-07T00:20:37.826745Z",
     "iopub.status.busy": "2021-07-07T00:20:37.826199Z",
     "iopub.status.idle": "2021-07-07T00:20:37.828457Z",
     "shell.execute_reply": "2021-07-07T00:20:37.828033Z"
    },
    "papermill": {
     "duration": 0.040832,
     "end_time": "2021-07-07T00:20:37.828552",
     "exception": false,
     "start_time": "2021-07-07T00:20:37.787720",
     "status": "completed"
    },
    "tags": []
   },
   "outputs": [],
   "source": [
    "#hide\n",
    "# g.rename(columns= {'date':'day'},inplace = True)"
   ]
  },
  {
   "cell_type": "code",
   "execution_count": 38,
   "id": "major-fight",
   "metadata": {
    "execution": {
     "iopub.execute_input": "2021-07-07T00:20:37.909835Z",
     "iopub.status.busy": "2021-07-07T00:20:37.909140Z",
     "iopub.status.idle": "2021-07-07T00:20:37.911537Z",
     "shell.execute_reply": "2021-07-07T00:20:37.910993Z"
    },
    "papermill": {
     "duration": 0.045848,
     "end_time": "2021-07-07T00:20:37.911655",
     "exception": false,
     "start_time": "2021-07-07T00:20:37.865807",
     "status": "completed"
    },
    "tags": []
   },
   "outputs": [],
   "source": [
    "#hide\n",
    "# g = g[cols]"
   ]
  },
  {
   "cell_type": "code",
   "execution_count": 39,
   "id": "structured-mobile",
   "metadata": {
    "execution": {
     "iopub.execute_input": "2021-07-07T00:20:37.987606Z",
     "iopub.status.busy": "2021-07-07T00:20:37.986880Z",
     "iopub.status.idle": "2021-07-07T00:20:37.989131Z",
     "shell.execute_reply": "2021-07-07T00:20:37.989626Z"
    },
    "papermill": {
     "duration": 0.042887,
     "end_time": "2021-07-07T00:20:37.989783",
     "exception": false,
     "start_time": "2021-07-07T00:20:37.946896",
     "status": "completed"
    },
    "tags": []
   },
   "outputs": [],
   "source": [
    "# #hide\n",
    "# g = g[g.group.notna()]"
   ]
  },
  {
   "cell_type": "code",
   "execution_count": 40,
   "id": "determined-closing",
   "metadata": {
    "execution": {
     "iopub.execute_input": "2021-07-07T00:20:38.068982Z",
     "iopub.status.busy": "2021-07-07T00:20:38.068389Z",
     "iopub.status.idle": "2021-07-07T00:20:38.070584Z",
     "shell.execute_reply": "2021-07-07T00:20:38.071058Z"
    },
    "papermill": {
     "duration": 0.043853,
     "end_time": "2021-07-07T00:20:38.071177",
     "exception": false,
     "start_time": "2021-07-07T00:20:38.027324",
     "status": "completed"
    },
    "tags": []
   },
   "outputs": [],
   "source": [
    "# #hide\n",
    "# colors = dict(zip(\n",
    "#     [\"Oceania\", \"Europe\", \"Asia\", \"South America\", \"Middle East\", \"North America\", \"Africa\"],\n",
    "#     [\"#adb0ff\", \"#ffb3ff\", \"#90d595\", \"#e48381\", \"#aafbff\", \"#f7bb5f\", \"#eafb50\"]\n",
    "# ))\n",
    "# group_lk = g.set_index('name')['group'].to_dict()"
   ]
  },
  {
   "cell_type": "code",
   "execution_count": null,
   "id": "gross-drinking",
   "metadata": {
    "papermill": {
     "duration": 0.039785,
     "end_time": "2021-07-07T00:20:38.147660",
     "exception": false,
     "start_time": "2021-07-07T00:20:38.107875",
     "status": "completed"
    },
    "tags": []
   },
   "outputs": [],
   "source": []
  },
  {
   "cell_type": "code",
   "execution_count": 41,
   "id": "subject-macintosh",
   "metadata": {
    "execution": {
     "iopub.execute_input": "2021-07-07T00:20:38.227461Z",
     "iopub.status.busy": "2021-07-07T00:20:38.226643Z",
     "iopub.status.idle": "2021-07-07T00:20:38.229306Z",
     "shell.execute_reply": "2021-07-07T00:20:38.228534Z"
    },
    "papermill": {
     "duration": 0.044069,
     "end_time": "2021-07-07T00:20:38.229435",
     "exception": false,
     "start_time": "2021-07-07T00:20:38.185366",
     "status": "completed"
    },
    "tags": []
   },
   "outputs": [],
   "source": [
    "# #hide\n",
    "# fig, ax = plt.subplots(figsize=(15, 8))\n",
    "\n",
    "# def draw_barchart(current_day):\n",
    "#     dff = g[g['day'].eq(current_day)].sort_values(by='value', ascending=True).tail(10)\n",
    "#     ax.clear()\n",
    "#     ax.barh(dff['name'], dff['value'], color=[colors[group_lk[x]] for x in dff['name']])\n",
    "#     dx = dff['value'].max() / 200\n",
    "    \n",
    "#     for i, (value, name) in enumerate(zip(dff['value'], dff['name'])):\n",
    "#         ax.text(value-dx, i,     name,           size=14, weight=600, ha='right', va='bottom')\n",
    "#         ax.text(value-dx, i-.25, group_lk[name], size=10, color='#444444', ha='right', va='baseline')\n",
    "#         ax.text(value+dx, i,     f'{value:,.0f}',  size=14, ha='left',  va='center')\n",
    "#     ax.text(1, 0.4, current_day, transform=ax.transAxes, color='#777777', size=46, ha='right', weight=800)\n",
    "#     ax.text(0, 1.06, 'Population (thousands)', transform=ax.transAxes, size=12, color='#777777')\n",
    "#     ax.xaxis.set_major_formatter(ticker.StrMethodFormatter('{x:,.0f}'))\n",
    "#     ax.xaxis.set_ticks_position('top')\n",
    "#     ax.tick_params(axis='x', colors='#777777', labelsize=12)\n",
    "#     ax.set_yticks([])\n",
    "#     ax.margins(0, 0.01)\n",
    "#     ax.grid(which='major', axis='x', linestyle='-')\n",
    "#     ax.set_axisbelow(True)\n",
    "    \n",
    "#     ax.text(0, 1.15, 'Coronavirus',\n",
    "#             transform=ax.transAxes, size=24, weight=600, ha='left', va='top')\n",
    "# #     ax.text(1, 0, 'by @pratapvardhan; credit @jburnmurdoch', transform=ax.transAxes, color='#777777', ha='right',\n",
    "# #             bbox=dict(facecolor='white', alpha=0.8, edgecolor='white'))\n",
    "#     plt.box(False)"
   ]
  },
  {
   "cell_type": "code",
   "execution_count": 42,
   "id": "sexual-wages",
   "metadata": {
    "execution": {
     "iopub.execute_input": "2021-07-07T00:20:38.305022Z",
     "iopub.status.busy": "2021-07-07T00:20:38.304107Z",
     "iopub.status.idle": "2021-07-07T00:20:38.306498Z",
     "shell.execute_reply": "2021-07-07T00:20:38.307039Z"
    },
    "papermill": {
     "duration": 0.041531,
     "end_time": "2021-07-07T00:20:38.307155",
     "exception": false,
     "start_time": "2021-07-07T00:20:38.265624",
     "status": "completed"
    },
    "tags": []
   },
   "outputs": [],
   "source": [
    "# #hide_input\n",
    "# fig, ax = plt.subplots(figsize=(15, 8))\n",
    "# animator = animation.FuncAnimation(fig, draw_barchart, frames=range(g.day.values.min(), g.day.values.max()))\n",
    "# HTML(animator.to_jshtml())\n",
    "# # or use animator.to_html5_video() or animator.save() "
   ]
  },
  {
   "cell_type": "code",
   "execution_count": null,
   "id": "australian-container",
   "metadata": {
    "papermill": {
     "duration": 0.03557,
     "end_time": "2021-07-07T00:20:38.377585",
     "exception": false,
     "start_time": "2021-07-07T00:20:38.342015",
     "status": "completed"
    },
    "tags": []
   },
   "outputs": [],
   "source": []
  },
  {
   "cell_type": "code",
   "execution_count": null,
   "id": "mediterranean-pontiac",
   "metadata": {
    "papermill": {
     "duration": 0.035658,
     "end_time": "2021-07-07T00:20:38.450192",
     "exception": false,
     "start_time": "2021-07-07T00:20:38.414534",
     "status": "completed"
    },
    "tags": []
   },
   "outputs": [],
   "source": []
  },
  {
   "cell_type": "code",
   "execution_count": null,
   "id": "aging-legislature",
   "metadata": {
    "papermill": {
     "duration": 0.03695,
     "end_time": "2021-07-07T00:20:38.524142",
     "exception": false,
     "start_time": "2021-07-07T00:20:38.487192",
     "status": "completed"
    },
    "tags": []
   },
   "outputs": [],
   "source": []
  }
 ],
 "metadata": {
  "kernelspec": {
   "display_name": "Python 3",
   "language": "python",
   "name": "python3"
  },
  "language_info": {
   "codemirror_mode": {
    "name": "ipython",
    "version": 3
   },
   "file_extension": ".py",
   "mimetype": "text/x-python",
   "name": "python",
   "nbconvert_exporter": "python",
   "pygments_lexer": "ipython3",
   "version": "3.6.13"
  },
  "papermill": {
   "duration": 6.552678,
   "end_time": "2021-07-07T00:20:38.874455",
   "environment_variables": {},
   "exception": null,
   "input_path": "2020-03-21-covid19exp.ipynb",
   "output_path": "2020-03-21-covid19exp.ipynb",
   "parameters": {},
   "start_time": "2021-07-07T00:20:32.321777",
   "version": "2.0.0"
  }
 },
 "nbformat": 4,
 "nbformat_minor": 5
}