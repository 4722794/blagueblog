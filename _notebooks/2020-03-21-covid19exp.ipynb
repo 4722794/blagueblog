{
 "cells": [
  {
   "cell_type": "markdown",
   "id": "muslim-click",
   "metadata": {
    "papermill": {
     "duration": 0.044711,
     "end_time": "2021-07-12T12:09:54.519744",
     "exception": false,
     "start_time": "2021-07-12T12:09:54.475033",
     "status": "completed"
    },
    "tags": []
   },
   "source": [
    "# COVID-19 Case Race\n",
    "> A race chart to see rising cases around the world\n",
    "\n",
    "- author: Hargun Oberoi\n",
    "- image: images/covid-overview.png\n",
    "- hide: false\n",
    "- badges: false"
   ]
  },
  {
   "cell_type": "code",
   "execution_count": 1,
   "id": "proof-material",
   "metadata": {
    "execution": {
     "iopub.execute_input": "2021-07-12T12:09:54.610210Z",
     "iopub.status.busy": "2021-07-12T12:09:54.609463Z",
     "iopub.status.idle": "2021-07-12T12:09:55.007982Z",
     "shell.execute_reply": "2021-07-12T12:09:55.007380Z"
    },
    "papermill": {
     "duration": 0.447451,
     "end_time": "2021-07-12T12:09:55.008144",
     "exception": false,
     "start_time": "2021-07-12T12:09:54.560693",
     "status": "completed"
    },
    "tags": []
   },
   "outputs": [],
   "source": [
    "#hide\n",
    "import numpy as np\n",
    "import pandas as pd\n",
    "from jinja2 import Template\n",
    "from IPython.display import HTML"
   ]
  },
  {
   "cell_type": "code",
   "execution_count": 2,
   "id": "developed-terminology",
   "metadata": {
    "execution": {
     "iopub.execute_input": "2021-07-12T12:09:55.097503Z",
     "iopub.status.busy": "2021-07-12T12:09:55.096808Z",
     "iopub.status.idle": "2021-07-12T12:09:55.099428Z",
     "shell.execute_reply": "2021-07-12T12:09:55.098738Z"
    },
    "papermill": {
     "duration": 0.047331,
     "end_time": "2021-07-12T12:09:55.099554",
     "exception": false,
     "start_time": "2021-07-12T12:09:55.052223",
     "status": "completed"
    },
    "tags": []
   },
   "outputs": [],
   "source": [
    "#hide\n",
    "\n",
    "# FETCH\n",
    "base_url = 'https://raw.githubusercontent.com/pratapvardhan/notebooks/master/covid19/'\n",
    "paths = {\n",
    "    'mapping': base_url + 'mapping_countries.csv',\n",
    "    'overview': base_url + 'overview.tpl'\n",
    "}"
   ]
  },
  {
   "cell_type": "code",
   "execution_count": 3,
   "id": "dynamic-saver",
   "metadata": {
    "execution": {
     "iopub.execute_input": "2021-07-12T12:09:55.189469Z",
     "iopub.status.busy": "2021-07-12T12:09:55.185922Z",
     "iopub.status.idle": "2021-07-12T12:09:55.193163Z",
     "shell.execute_reply": "2021-07-12T12:09:55.192509Z"
    },
    "papermill": {
     "duration": 0.056097,
     "end_time": "2021-07-12T12:09:55.193310",
     "exception": false,
     "start_time": "2021-07-12T12:09:55.137213",
     "status": "completed"
    },
    "tags": []
   },
   "outputs": [
    {
     "data": {
      "text/plain": [
       "'https://raw.githubusercontent.com/pratapvardhan/notebooks/master/covid19/mapping_countries.csv'"
      ]
     },
     "execution_count": 3,
     "metadata": {},
     "output_type": "execute_result"
    }
   ],
   "source": [
    "#hide\n",
    "paths['mapping']"
   ]
  },
  {
   "cell_type": "code",
   "execution_count": 4,
   "id": "urban-software",
   "metadata": {
    "execution": {
     "iopub.execute_input": "2021-07-12T12:09:55.279038Z",
     "iopub.status.busy": "2021-07-12T12:09:55.278167Z",
     "iopub.status.idle": "2021-07-12T12:09:55.281298Z",
     "shell.execute_reply": "2021-07-12T12:09:55.282001Z"
    },
    "papermill": {
     "duration": 0.049681,
     "end_time": "2021-07-12T12:09:55.282152",
     "exception": false,
     "start_time": "2021-07-12T12:09:55.232471",
     "status": "completed"
    },
    "tags": []
   },
   "outputs": [],
   "source": [
    "#hide\n",
    "def get_mappings(url):\n",
    "    df = pd.read_csv(url)\n",
    "    return {\n",
    "        'df': df,\n",
    "        'replace.country': dict(df.dropna(subset=['Name']).set_index('Country')['Name']),\n",
    "        'map.continent': dict(df.set_index('Name')['Continent'])\n",
    "    }"
   ]
  },
  {
   "cell_type": "code",
   "execution_count": 5,
   "id": "intimate-machinery",
   "metadata": {
    "execution": {
     "iopub.execute_input": "2021-07-12T12:09:55.369005Z",
     "iopub.status.busy": "2021-07-12T12:09:55.368119Z",
     "iopub.status.idle": "2021-07-12T12:09:55.401924Z",
     "shell.execute_reply": "2021-07-12T12:09:55.402693Z"
    },
    "papermill": {
     "duration": 0.080789,
     "end_time": "2021-07-12T12:09:55.402915",
     "exception": false,
     "start_time": "2021-07-12T12:09:55.322126",
     "status": "completed"
    },
    "tags": []
   },
   "outputs": [],
   "source": [
    "#hide\n",
    "mapping = get_mappings(paths['mapping'])"
   ]
  },
  {
   "cell_type": "code",
   "execution_count": 6,
   "id": "certified-tactics",
   "metadata": {
    "execution": {
     "iopub.execute_input": "2021-07-12T12:09:55.490230Z",
     "iopub.status.busy": "2021-07-12T12:09:55.489497Z",
     "iopub.status.idle": "2021-07-12T12:09:55.492059Z",
     "shell.execute_reply": "2021-07-12T12:09:55.491470Z"
    },
    "papermill": {
     "duration": 0.049098,
     "end_time": "2021-07-12T12:09:55.492189",
     "exception": false,
     "start_time": "2021-07-12T12:09:55.443091",
     "status": "completed"
    },
    "tags": []
   },
   "outputs": [],
   "source": [
    "#hide\n",
    "def get_template(path):\n",
    "    from urllib.parse import urlparse\n",
    "    if bool(urlparse(path).netloc):\n",
    "        from urllib.request import urlopen\n",
    "        return urlopen(path).read().decode('utf8')\n",
    "    return open(path).read()"
   ]
  },
  {
   "cell_type": "code",
   "execution_count": 7,
   "id": "realistic-blast",
   "metadata": {
    "execution": {
     "iopub.execute_input": "2021-07-12T12:09:55.579003Z",
     "iopub.status.busy": "2021-07-12T12:09:55.578217Z",
     "iopub.status.idle": "2021-07-12T12:09:55.579830Z",
     "shell.execute_reply": "2021-07-12T12:09:55.580736Z"
    },
    "papermill": {
     "duration": 0.04861,
     "end_time": "2021-07-12T12:09:55.581007",
     "exception": false,
     "start_time": "2021-07-12T12:09:55.532397",
     "status": "completed"
    },
    "tags": []
   },
   "outputs": [],
   "source": [
    "#hide\n",
    "def get_frame(name):\n",
    "    url = (\n",
    "        'https://raw.githubusercontent.com/CSSEGISandData/COVID-19/master/csse_covid_19_data/'\n",
    "        f'csse_covid_19_time_series/time_series_covid19_{name}_global.csv')\n",
    "    df = pd.read_csv(url)\n",
    "    # rename countries\n",
    "    df['Country/Region'] = df['Country/Region'].replace(mapping['replace.country'])\n",
    "    return df"
   ]
  },
  {
   "cell_type": "code",
   "execution_count": 8,
   "id": "affiliated-characterization",
   "metadata": {
    "execution": {
     "iopub.execute_input": "2021-07-12T12:09:55.673929Z",
     "iopub.status.busy": "2021-07-12T12:09:55.673207Z",
     "iopub.status.idle": "2021-07-12T12:09:55.675597Z",
     "shell.execute_reply": "2021-07-12T12:09:55.675030Z"
    },
    "papermill": {
     "duration": 0.049851,
     "end_time": "2021-07-12T12:09:55.675745",
     "exception": false,
     "start_time": "2021-07-12T12:09:55.625894",
     "status": "completed"
    },
    "tags": []
   },
   "outputs": [],
   "source": [
    "#hide\n",
    "def get_dates(df):\n",
    "    dt_cols = df.columns[~df.columns.isin(['Province/State', 'Country/Region', 'Lat', 'Long'])]\n",
    "    LAST_DATE_I = -1\n",
    "    # sometimes last column may be empty, then go backwards\n",
    "    for i in range(-1, -len(dt_cols), -1):\n",
    "        if not df[dt_cols[i]].fillna(0).eq(0).all():\n",
    "            LAST_DATE_I = i\n",
    "            break\n",
    "    return LAST_DATE_I, dt_cols"
   ]
  },
  {
   "cell_type": "code",
   "execution_count": 9,
   "id": "recent-optimization",
   "metadata": {
    "execution": {
     "iopub.execute_input": "2021-07-12T12:09:55.761514Z",
     "iopub.status.busy": "2021-07-12T12:09:55.760747Z",
     "iopub.status.idle": "2021-07-12T12:09:56.122011Z",
     "shell.execute_reply": "2021-07-12T12:09:56.121412Z"
    },
    "papermill": {
     "duration": 0.406597,
     "end_time": "2021-07-12T12:09:56.122222",
     "exception": false,
     "start_time": "2021-07-12T12:09:55.715625",
     "status": "completed"
    },
    "tags": []
   },
   "outputs": [],
   "source": [
    "#hide\n",
    "COL_REGION = 'Country/Region'\n",
    "# Confirmed, Recovered, Deaths\n",
    "df = get_frame('confirmed')\n",
    "# dft_: timeseries, dfc_: today country agg\n",
    "dft_cases = df\n",
    "dft_deaths = get_frame('deaths')\n",
    "dft_recovered = get_frame('recovered')\n",
    "LAST_DATE_I, dt_cols = get_dates(df)"
   ]
  },
  {
   "cell_type": "code",
   "execution_count": 10,
   "id": "absolute-copper",
   "metadata": {
    "execution": {
     "iopub.execute_input": "2021-07-12T12:09:56.210868Z",
     "iopub.status.busy": "2021-07-12T12:09:56.210111Z",
     "iopub.status.idle": "2021-07-12T12:09:56.212788Z",
     "shell.execute_reply": "2021-07-12T12:09:56.211969Z"
    },
    "papermill": {
     "duration": 0.050625,
     "end_time": "2021-07-12T12:09:56.212948",
     "exception": false,
     "start_time": "2021-07-12T12:09:56.162323",
     "status": "completed"
    },
    "tags": []
   },
   "outputs": [],
   "source": [
    "#hide\n",
    "LAST_DATE_I, dt_cols = get_dates(df)\n",
    "dt_today =dt_cols[LAST_DATE_I]\n",
    "# dt_5day = dt_cols[LAST_DATE_I - 5]\n",
    "dt_yday = dt_cols[LAST_DATE_I - 1]"
   ]
  },
  {
   "cell_type": "code",
   "execution_count": 11,
   "id": "restricted-sheriff",
   "metadata": {
    "execution": {
     "iopub.execute_input": "2021-07-12T12:09:56.300262Z",
     "iopub.status.busy": "2021-07-12T12:09:56.299373Z",
     "iopub.status.idle": "2021-07-12T12:09:56.310335Z",
     "shell.execute_reply": "2021-07-12T12:09:56.311080Z"
    },
    "papermill": {
     "duration": 0.057596,
     "end_time": "2021-07-12T12:09:56.311249",
     "exception": false,
     "start_time": "2021-07-12T12:09:56.253653",
     "status": "completed"
    },
    "tags": []
   },
   "outputs": [],
   "source": [
    "#hide\n",
    "dfc_cases = dft_cases.groupby(COL_REGION)[dt_today].sum()\n",
    "dfc_deaths = dft_deaths.groupby(COL_REGION)[dt_today].sum()\n",
    "# dfp_cases = dft_cases.groupby(COL_REGION)[dt_5day].sum()\n",
    "# dfp_deaths = dft_deaths.groupby(COL_REGION)[dt_5day].sum()\n",
    "dfp_cases = dft_cases.groupby(COL_REGION)[dt_yday].sum()\n",
    "dfp_deaths = dft_deaths.groupby(COL_REGION)[dt_yday].sum()"
   ]
  },
  {
   "cell_type": "code",
   "execution_count": 12,
   "id": "deluxe-hepatitis",
   "metadata": {
    "execution": {
     "iopub.execute_input": "2021-07-12T12:09:56.403473Z",
     "iopub.status.busy": "2021-07-12T12:09:56.402783Z",
     "iopub.status.idle": "2021-07-12T12:09:56.408546Z",
     "shell.execute_reply": "2021-07-12T12:09:56.409272Z"
    },
    "papermill": {
     "duration": 0.05578,
     "end_time": "2021-07-12T12:09:56.409492",
     "exception": false,
     "start_time": "2021-07-12T12:09:56.353712",
     "status": "completed"
    },
    "tags": []
   },
   "outputs": [],
   "source": [
    "#hide\n",
    "df_table = (pd.DataFrame(dict(Cases = dfc_cases, Deaths = dfc_deaths, PCases = dfp_cases, PDeaths = dfp_deaths))\n",
    "            .sort_values(by = ['Cases','Deaths'], ascending = [False, False])\n",
    "            .reset_index())"
   ]
  },
  {
   "cell_type": "code",
   "execution_count": 13,
   "id": "educational-chancellor",
   "metadata": {
    "execution": {
     "iopub.execute_input": "2021-07-12T12:09:56.508040Z",
     "iopub.status.busy": "2021-07-12T12:09:56.507342Z",
     "iopub.status.idle": "2021-07-12T12:09:56.522187Z",
     "shell.execute_reply": "2021-07-12T12:09:56.522810Z"
    },
    "papermill": {
     "duration": 0.07164,
     "end_time": "2021-07-12T12:09:56.522966",
     "exception": false,
     "start_time": "2021-07-12T12:09:56.451326",
     "status": "completed"
    },
    "tags": []
   },
   "outputs": [
    {
     "data": {
      "text/html": [
       "<div>\n",
       "<style scoped>\n",
       "    .dataframe tbody tr th:only-of-type {\n",
       "        vertical-align: middle;\n",
       "    }\n",
       "\n",
       "    .dataframe tbody tr th {\n",
       "        vertical-align: top;\n",
       "    }\n",
       "\n",
       "    .dataframe thead th {\n",
       "        text-align: right;\n",
       "    }\n",
       "</style>\n",
       "<table border=\"1\" class=\"dataframe\">\n",
       "  <thead>\n",
       "    <tr style=\"text-align: right;\">\n",
       "      <th></th>\n",
       "      <th>Country/Region</th>\n",
       "      <th>Cases</th>\n",
       "      <th>Deaths</th>\n",
       "      <th>PCases</th>\n",
       "      <th>PDeaths</th>\n",
       "      <th>Cases (+)</th>\n",
       "      <th>Deaths (+)</th>\n",
       "      <th>Fatality Rate</th>\n",
       "      <th>Continent</th>\n",
       "    </tr>\n",
       "  </thead>\n",
       "  <tbody>\n",
       "    <tr>\n",
       "      <th>0</th>\n",
       "      <td>US</td>\n",
       "      <td>33853948</td>\n",
       "      <td>607156</td>\n",
       "      <td>33847784</td>\n",
       "      <td>607132</td>\n",
       "      <td>6164</td>\n",
       "      <td>24</td>\n",
       "      <td>1.79</td>\n",
       "      <td>North America</td>\n",
       "    </tr>\n",
       "    <tr>\n",
       "      <th>1</th>\n",
       "      <td>India</td>\n",
       "      <td>30874376</td>\n",
       "      <td>408764</td>\n",
       "      <td>30837222</td>\n",
       "      <td>408040</td>\n",
       "      <td>37154</td>\n",
       "      <td>724</td>\n",
       "      <td>1.32</td>\n",
       "      <td>Asia</td>\n",
       "    </tr>\n",
       "    <tr>\n",
       "      <th>2</th>\n",
       "      <td>Brazil</td>\n",
       "      <td>19089940</td>\n",
       "      <td>533488</td>\n",
       "      <td>19069003</td>\n",
       "      <td>532893</td>\n",
       "      <td>20937</td>\n",
       "      <td>595</td>\n",
       "      <td>2.79</td>\n",
       "      <td>South America</td>\n",
       "    </tr>\n",
       "    <tr>\n",
       "      <th>3</th>\n",
       "      <td>France</td>\n",
       "      <td>5874719</td>\n",
       "      <td>111515</td>\n",
       "      <td>5870463</td>\n",
       "      <td>111511</td>\n",
       "      <td>4256</td>\n",
       "      <td>4</td>\n",
       "      <td>1.90</td>\n",
       "      <td>Europe</td>\n",
       "    </tr>\n",
       "    <tr>\n",
       "      <th>4</th>\n",
       "      <td>Russia</td>\n",
       "      <td>5713351</td>\n",
       "      <td>140635</td>\n",
       "      <td>5688807</td>\n",
       "      <td>139896</td>\n",
       "      <td>24544</td>\n",
       "      <td>739</td>\n",
       "      <td>2.46</td>\n",
       "      <td>Europe</td>\n",
       "    </tr>\n",
       "  </tbody>\n",
       "</table>\n",
       "</div>"
      ],
      "text/plain": [
       "  Country/Region     Cases  Deaths    PCases  PDeaths  Cases (+)  Deaths (+)  \\\n",
       "0             US  33853948  607156  33847784   607132       6164          24   \n",
       "1          India  30874376  408764  30837222   408040      37154         724   \n",
       "2         Brazil  19089940  533488  19069003   532893      20937         595   \n",
       "3         France   5874719  111515   5870463   111511       4256           4   \n",
       "4         Russia   5713351  140635   5688807   139896      24544         739   \n",
       "\n",
       "   Fatality Rate      Continent  \n",
       "0           1.79  North America  \n",
       "1           1.32           Asia  \n",
       "2           2.79  South America  \n",
       "3           1.90         Europe  \n",
       "4           2.46         Europe  "
      ]
     },
     "execution_count": 13,
     "metadata": {},
     "output_type": "execute_result"
    }
   ],
   "source": [
    "#hide\n",
    "for c in 'Cases, Deaths'.split(', '):\n",
    "    df_table[f'{c} (+)'] = (df_table[c] - df_table[f'P{c}']).clip(0)\n",
    "    #Clip ça veut dire, les chiffres negatif sont interdit\n",
    "df_table['Fatality Rate'] = (100* df_table['Deaths']/ df_table['Cases']).round(2)\n",
    "df_table['Continent'] = df_table['Country/Region'].map(mapping['map.continent'])\n",
    "df_table.head(5)"
   ]
  },
  {
   "cell_type": "code",
   "execution_count": 14,
   "id": "aboriginal-bulgaria",
   "metadata": {
    "execution": {
     "iopub.execute_input": "2021-07-12T12:09:56.611995Z",
     "iopub.status.busy": "2021-07-12T12:09:56.611235Z",
     "iopub.status.idle": "2021-07-12T12:09:56.613029Z",
     "shell.execute_reply": "2021-07-12T12:09:56.613599Z"
    },
    "papermill": {
     "duration": 0.050211,
     "end_time": "2021-07-12T12:09:56.613745",
     "exception": false,
     "start_time": "2021-07-12T12:09:56.563534",
     "status": "completed"
    },
    "tags": []
   },
   "outputs": [],
   "source": [
    "#hide\n",
    "#delete problematic countries from table\n",
    "df_table = df_table[~df_table['Country/Region'].isin(['Cape Verde', 'Cruise Ship', 'Kosovo'])]"
   ]
  },
  {
   "cell_type": "code",
   "execution_count": 15,
   "id": "fantastic-effect",
   "metadata": {
    "execution": {
     "iopub.execute_input": "2021-07-12T12:09:56.705202Z",
     "iopub.status.busy": "2021-07-12T12:09:56.704494Z",
     "iopub.status.idle": "2021-07-12T12:09:56.728002Z",
     "shell.execute_reply": "2021-07-12T12:09:56.728806Z"
    },
    "papermill": {
     "duration": 0.074879,
     "end_time": "2021-07-12T12:09:56.728985",
     "exception": false,
     "start_time": "2021-07-12T12:09:56.654106",
     "status": "completed"
    },
    "tags": []
   },
   "outputs": [
    {
     "data": {
      "text/html": [
       "<div>\n",
       "<style scoped>\n",
       "    .dataframe tbody tr th:only-of-type {\n",
       "        vertical-align: middle;\n",
       "    }\n",
       "\n",
       "    .dataframe tbody tr th {\n",
       "        vertical-align: top;\n",
       "    }\n",
       "\n",
       "    .dataframe thead th {\n",
       "        text-align: right;\n",
       "    }\n",
       "</style>\n",
       "<table border=\"1\" class=\"dataframe\">\n",
       "  <thead>\n",
       "    <tr style=\"text-align: right;\">\n",
       "      <th></th>\n",
       "      <th>Country/Region</th>\n",
       "      <th>Cases</th>\n",
       "      <th>Deaths</th>\n",
       "      <th>PCases</th>\n",
       "      <th>PDeaths</th>\n",
       "      <th>Cases (+)</th>\n",
       "      <th>Deaths (+)</th>\n",
       "      <th>Fatality Rate</th>\n",
       "      <th>Continent</th>\n",
       "    </tr>\n",
       "  </thead>\n",
       "  <tbody>\n",
       "    <tr>\n",
       "      <th>0</th>\n",
       "      <td>US</td>\n",
       "      <td>33853948</td>\n",
       "      <td>607156</td>\n",
       "      <td>33847784</td>\n",
       "      <td>607132</td>\n",
       "      <td>6164</td>\n",
       "      <td>24</td>\n",
       "      <td>1.8</td>\n",
       "      <td>North America</td>\n",
       "    </tr>\n",
       "    <tr>\n",
       "      <th>1</th>\n",
       "      <td>India</td>\n",
       "      <td>30874376</td>\n",
       "      <td>408764</td>\n",
       "      <td>30837222</td>\n",
       "      <td>408040</td>\n",
       "      <td>37154</td>\n",
       "      <td>724</td>\n",
       "      <td>1.3</td>\n",
       "      <td>Asia</td>\n",
       "    </tr>\n",
       "    <tr>\n",
       "      <th>2</th>\n",
       "      <td>Brazil</td>\n",
       "      <td>19089940</td>\n",
       "      <td>533488</td>\n",
       "      <td>19069003</td>\n",
       "      <td>532893</td>\n",
       "      <td>20937</td>\n",
       "      <td>595</td>\n",
       "      <td>2.8</td>\n",
       "      <td>South America</td>\n",
       "    </tr>\n",
       "    <tr>\n",
       "      <th>3</th>\n",
       "      <td>France</td>\n",
       "      <td>5874719</td>\n",
       "      <td>111515</td>\n",
       "      <td>5870463</td>\n",
       "      <td>111511</td>\n",
       "      <td>4256</td>\n",
       "      <td>4</td>\n",
       "      <td>1.9</td>\n",
       "      <td>Europe</td>\n",
       "    </tr>\n",
       "    <tr>\n",
       "      <th>4</th>\n",
       "      <td>Russia</td>\n",
       "      <td>5713351</td>\n",
       "      <td>140635</td>\n",
       "      <td>5688807</td>\n",
       "      <td>139896</td>\n",
       "      <td>24544</td>\n",
       "      <td>739</td>\n",
       "      <td>2.5</td>\n",
       "      <td>Europe</td>\n",
       "    </tr>\n",
       "  </tbody>\n",
       "</table>\n",
       "</div>"
      ],
      "text/plain": [
       "  Country/Region     Cases  Deaths    PCases  PDeaths  Cases (+)  Deaths (+)  \\\n",
       "0             US  33853948  607156  33847784   607132       6164          24   \n",
       "1          India  30874376  408764  30837222   408040      37154         724   \n",
       "2         Brazil  19089940  533488  19069003   532893      20937         595   \n",
       "3         France   5874719  111515   5870463   111511       4256           4   \n",
       "4         Russia   5713351  140635   5688807   139896      24544         739   \n",
       "\n",
       "   Fatality Rate      Continent  \n",
       "0            1.8  North America  \n",
       "1            1.3           Asia  \n",
       "2            2.8  South America  \n",
       "3            1.9         Europe  \n",
       "4            2.5         Europe  "
      ]
     },
     "execution_count": 15,
     "metadata": {},
     "output_type": "execute_result"
    }
   ],
   "source": [
    "#hide\n",
    "df_table = (pd.DataFrame(dict(Cases=dfc_cases, Deaths=dfc_deaths, PCases=dfp_cases, PDeaths=dfp_deaths))\n",
    "             .sort_values(by=['Cases', 'Deaths'], ascending=[False, False])\n",
    "             .reset_index())\n",
    "df_table.rename(columns={'index': 'Country/Region'}, inplace=True)\n",
    "for c in 'Cases, Deaths'.split(', '):\n",
    "    df_table[f'{c} (+)'] = (df_table[c] - df_table[f'P{c}']).clip(0)  # DATA BUG\n",
    "df_table['Fatality Rate'] = (100 * df_table['Deaths'] / df_table['Cases']).round(1)\n",
    "df_table['Continent'] = df_table['Country/Region'].map(mapping['map.continent'])\n",
    "df_table.head(5)"
   ]
  },
  {
   "cell_type": "code",
   "execution_count": 16,
   "id": "fewer-occasion",
   "metadata": {
    "execution": {
     "iopub.execute_input": "2021-07-12T12:09:56.816050Z",
     "iopub.status.busy": "2021-07-12T12:09:56.815378Z",
     "iopub.status.idle": "2021-07-12T12:09:56.822682Z",
     "shell.execute_reply": "2021-07-12T12:09:56.822042Z"
    },
    "papermill": {
     "duration": 0.052447,
     "end_time": "2021-07-12T12:09:56.822837",
     "exception": false,
     "start_time": "2021-07-12T12:09:56.770390",
     "status": "completed"
    },
    "tags": []
   },
   "outputs": [],
   "source": [
    "#hide\n",
    "#delete problematic countries from table\n",
    "df_table = df_table[~df_table['Country/Region'].isin(['Cape Verde', 'Cruise Ship', 'Kosovo'])]"
   ]
  },
  {
   "cell_type": "code",
   "execution_count": 17,
   "id": "related-center",
   "metadata": {
    "execution": {
     "iopub.execute_input": "2021-07-12T12:09:56.929027Z",
     "iopub.status.busy": "2021-07-12T12:09:56.928277Z",
     "iopub.status.idle": "2021-07-12T12:09:56.931806Z",
     "shell.execute_reply": "2021-07-12T12:09:56.932442Z"
    },
    "papermill": {
     "duration": 0.067573,
     "end_time": "2021-07-12T12:09:56.932619",
     "exception": false,
     "start_time": "2021-07-12T12:09:56.865046",
     "status": "completed"
    },
    "tags": []
   },
   "outputs": [],
   "source": [
    "#hide\n",
    "metrics = [df_table.columns[index] for index in [1,2,5,6]]\n",
    "# s_china = df_table[df_table['Country/Region'].eq('China')][metrics].sum().add_prefix('China ')\n",
    "s_us = df_table[df_table['Country/Region'].eq('US')][metrics].sum().add_prefix('US ')\n",
    "s_eu = df_table[df_table['Continent'].eq('Europe')][metrics].sum().add_prefix('EU ')\n",
    "s_ind = df_table[df_table['Country/Region'].eq('India')][metrics].sum().add_prefix('India ')\n",
    "summary = {'updated': pd.to_datetime(dt_today), 'since': pd.to_datetime(dt_yday)}\n",
    "summary = {'updated': pd.to_datetime(dt_today), 'since': pd.to_datetime(dt_yday)}\n",
    "summary = {**summary, **df_table[metrics].sum(), **s_ind, **s_us, **s_eu}"
   ]
  },
  {
   "cell_type": "code",
   "execution_count": 18,
   "id": "engaging-syndrome",
   "metadata": {
    "execution": {
     "iopub.execute_input": "2021-07-12T12:09:57.024197Z",
     "iopub.status.busy": "2021-07-12T12:09:57.023187Z",
     "iopub.status.idle": "2021-07-12T12:09:57.037857Z",
     "shell.execute_reply": "2021-07-12T12:09:57.038499Z"
    },
    "papermill": {
     "duration": 0.063718,
     "end_time": "2021-07-12T12:09:57.038673",
     "exception": false,
     "start_time": "2021-07-12T12:09:56.974955",
     "status": "completed"
    },
    "tags": []
   },
   "outputs": [],
   "source": [
    "#hide\n",
    "dft_ct_new_cases = dft_cases.groupby(COL_REGION)[dt_cols].sum().diff(axis=1).fillna(0).astype(int)"
   ]
  },
  {
   "cell_type": "code",
   "execution_count": 19,
   "id": "neutral-assignment",
   "metadata": {
    "execution": {
     "iopub.execute_input": "2021-07-12T12:09:57.132015Z",
     "iopub.status.busy": "2021-07-12T12:09:57.131224Z",
     "iopub.status.idle": "2021-07-12T12:09:57.133948Z",
     "shell.execute_reply": "2021-07-12T12:09:57.133300Z"
    },
    "papermill": {
     "duration": 0.05236,
     "end_time": "2021-07-12T12:09:57.134079",
     "exception": false,
     "start_time": "2021-07-12T12:09:57.081719",
     "status": "completed"
    },
    "tags": []
   },
   "outputs": [],
   "source": [
    "#hide\n",
    "everydaycases = dft_ct_new_cases.cumsum(axis=1)"
   ]
  },
  {
   "cell_type": "code",
   "execution_count": 20,
   "id": "parliamentary-calgary",
   "metadata": {
    "execution": {
     "iopub.execute_input": "2021-07-12T12:09:57.236777Z",
     "iopub.status.busy": "2021-07-12T12:09:57.236106Z",
     "iopub.status.idle": "2021-07-12T12:09:57.898541Z",
     "shell.execute_reply": "2021-07-12T12:09:57.897749Z"
    },
    "papermill": {
     "duration": 0.717204,
     "end_time": "2021-07-12T12:09:57.898696",
     "exception": false,
     "start_time": "2021-07-12T12:09:57.181492",
     "status": "completed"
    },
    "tags": []
   },
   "outputs": [],
   "source": [
    "#hide\n",
    "import pandas as pd\n",
    "import matplotlib.pyplot as plt\n",
    "import matplotlib.ticker as ticker\n",
    "import matplotlib.animation as animation\n",
    "from IPython.display import HTML"
   ]
  },
  {
   "cell_type": "code",
   "execution_count": 21,
   "id": "lasting-extraction",
   "metadata": {
    "execution": {
     "iopub.execute_input": "2021-07-12T12:09:57.995551Z",
     "iopub.status.busy": "2021-07-12T12:09:57.994218Z",
     "iopub.status.idle": "2021-07-12T12:09:57.996182Z",
     "shell.execute_reply": "2021-07-12T12:09:57.994986Z"
    },
    "papermill": {
     "duration": 0.056583,
     "end_time": "2021-07-12T12:09:57.996324",
     "exception": false,
     "start_time": "2021-07-12T12:09:57.939741",
     "status": "completed"
    },
    "tags": []
   },
   "outputs": [],
   "source": [
    "#hide\n",
    "t = everydaycases.stack()"
   ]
  },
  {
   "cell_type": "code",
   "execution_count": 22,
   "id": "premier-sleeve",
   "metadata": {
    "execution": {
     "iopub.execute_input": "2021-07-12T12:09:58.083179Z",
     "iopub.status.busy": "2021-07-12T12:09:58.082500Z",
     "iopub.status.idle": "2021-07-12T12:09:58.092785Z",
     "shell.execute_reply": "2021-07-12T12:09:58.091797Z"
    },
    "papermill": {
     "duration": 0.056064,
     "end_time": "2021-07-12T12:09:58.093004",
     "exception": false,
     "start_time": "2021-07-12T12:09:58.036940",
     "status": "completed"
    },
    "tags": []
   },
   "outputs": [],
   "source": [
    "#hide\n",
    "g = t.reset_index(['Country/Region'])"
   ]
  },
  {
   "cell_type": "code",
   "execution_count": 23,
   "id": "distributed-pittsburgh",
   "metadata": {
    "execution": {
     "iopub.execute_input": "2021-07-12T12:09:58.182406Z",
     "iopub.status.busy": "2021-07-12T12:09:58.180789Z",
     "iopub.status.idle": "2021-07-12T12:09:58.183145Z",
     "shell.execute_reply": "2021-07-12T12:09:58.183802Z"
    },
    "papermill": {
     "duration": 0.049391,
     "end_time": "2021-07-12T12:09:58.183945",
     "exception": false,
     "start_time": "2021-07-12T12:09:58.134554",
     "status": "completed"
    },
    "tags": []
   },
   "outputs": [],
   "source": [
    "#hide\n",
    "g.index.name = 'date'"
   ]
  },
  {
   "cell_type": "code",
   "execution_count": 24,
   "id": "naked-donor",
   "metadata": {
    "execution": {
     "iopub.execute_input": "2021-07-12T12:09:58.275842Z",
     "iopub.status.busy": "2021-07-12T12:09:58.274354Z",
     "iopub.status.idle": "2021-07-12T12:09:58.276563Z",
     "shell.execute_reply": "2021-07-12T12:09:58.277133Z"
    },
    "papermill": {
     "duration": 0.051171,
     "end_time": "2021-07-12T12:09:58.277281",
     "exception": false,
     "start_time": "2021-07-12T12:09:58.226110",
     "status": "completed"
    },
    "tags": []
   },
   "outputs": [],
   "source": [
    "# #hide\n",
    "# g = g.reset_index(['date'])"
   ]
  },
  {
   "cell_type": "code",
   "execution_count": 25,
   "id": "incomplete-mustang",
   "metadata": {
    "execution": {
     "iopub.execute_input": "2021-07-12T12:09:58.367005Z",
     "iopub.status.busy": "2021-07-12T12:09:58.366120Z",
     "iopub.status.idle": "2021-07-12T12:09:58.368417Z",
     "shell.execute_reply": "2021-07-12T12:09:58.369101Z"
    },
    "papermill": {
     "duration": 0.05063,
     "end_time": "2021-07-12T12:09:58.369321",
     "exception": false,
     "start_time": "2021-07-12T12:09:58.318691",
     "status": "completed"
    },
    "tags": []
   },
   "outputs": [],
   "source": [
    "#hide\n",
    "# g.head()"
   ]
  },
  {
   "cell_type": "code",
   "execution_count": 26,
   "id": "specific-kruger",
   "metadata": {
    "execution": {
     "iopub.execute_input": "2021-07-12T12:09:58.455853Z",
     "iopub.status.busy": "2021-07-12T12:09:58.455072Z",
     "iopub.status.idle": "2021-07-12T12:09:58.457898Z",
     "shell.execute_reply": "2021-07-12T12:09:58.457025Z"
    },
    "papermill": {
     "duration": 0.047708,
     "end_time": "2021-07-12T12:09:58.458024",
     "exception": false,
     "start_time": "2021-07-12T12:09:58.410316",
     "status": "completed"
    },
    "tags": []
   },
   "outputs": [],
   "source": [
    "#hide\n",
    "# g.columns = ['date','country','cases']"
   ]
  },
  {
   "cell_type": "code",
   "execution_count": 27,
   "id": "tender-conversion",
   "metadata": {
    "execution": {
     "iopub.execute_input": "2021-07-12T12:09:58.545589Z",
     "iopub.status.busy": "2021-07-12T12:09:58.544931Z",
     "iopub.status.idle": "2021-07-12T12:09:58.546830Z",
     "shell.execute_reply": "2021-07-12T12:09:58.547468Z"
    },
    "papermill": {
     "duration": 0.047325,
     "end_time": "2021-07-12T12:09:58.547614",
     "exception": false,
     "start_time": "2021-07-12T12:09:58.500289",
     "status": "completed"
    },
    "tags": []
   },
   "outputs": [],
   "source": [
    "#hide\n",
    "# g['continent'] = g.country"
   ]
  },
  {
   "cell_type": "code",
   "execution_count": 28,
   "id": "substantial-wilderness",
   "metadata": {
    "execution": {
     "iopub.execute_input": "2021-07-12T12:09:58.632823Z",
     "iopub.status.busy": "2021-07-12T12:09:58.632007Z",
     "iopub.status.idle": "2021-07-12T12:09:58.634114Z",
     "shell.execute_reply": "2021-07-12T12:09:58.634696Z"
    },
    "papermill": {
     "duration": 0.047198,
     "end_time": "2021-07-12T12:09:58.634844",
     "exception": false,
     "start_time": "2021-07-12T12:09:58.587646",
     "status": "completed"
    },
    "tags": []
   },
   "outputs": [],
   "source": [
    "#hide\n",
    "# cols = list(g.columns.values)"
   ]
  },
  {
   "cell_type": "code",
   "execution_count": 29,
   "id": "solved-farming",
   "metadata": {
    "execution": {
     "iopub.execute_input": "2021-07-12T12:09:58.723766Z",
     "iopub.status.busy": "2021-07-12T12:09:58.723051Z",
     "iopub.status.idle": "2021-07-12T12:09:58.725258Z",
     "shell.execute_reply": "2021-07-12T12:09:58.725944Z"
    },
    "papermill": {
     "duration": 0.050085,
     "end_time": "2021-07-12T12:09:58.726092",
     "exception": false,
     "start_time": "2021-07-12T12:09:58.676007",
     "status": "completed"
    },
    "tags": []
   },
   "outputs": [],
   "source": [
    "#hide\n",
    "# cols.insert(0, cols.pop())"
   ]
  },
  {
   "cell_type": "code",
   "execution_count": 30,
   "id": "executed-adoption",
   "metadata": {
    "execution": {
     "iopub.execute_input": "2021-07-12T12:09:58.820629Z",
     "iopub.status.busy": "2021-07-12T12:09:58.819755Z",
     "iopub.status.idle": "2021-07-12T12:09:58.822904Z",
     "shell.execute_reply": "2021-07-12T12:09:58.822231Z"
    },
    "papermill": {
     "duration": 0.054865,
     "end_time": "2021-07-12T12:09:58.823039",
     "exception": false,
     "start_time": "2021-07-12T12:09:58.768174",
     "status": "completed"
    },
    "tags": []
   },
   "outputs": [],
   "source": [
    "#hide\n",
    "# g = g[cols]"
   ]
  },
  {
   "cell_type": "code",
   "execution_count": 31,
   "id": "subject-dublin",
   "metadata": {
    "execution": {
     "iopub.execute_input": "2021-07-12T12:09:58.919332Z",
     "iopub.status.busy": "2021-07-12T12:09:58.918693Z",
     "iopub.status.idle": "2021-07-12T12:09:58.921286Z",
     "shell.execute_reply": "2021-07-12T12:09:58.920701Z"
    },
    "papermill": {
     "duration": 0.05315,
     "end_time": "2021-07-12T12:09:58.921413",
     "exception": false,
     "start_time": "2021-07-12T12:09:58.868263",
     "status": "completed"
    },
    "tags": []
   },
   "outputs": [],
   "source": [
    "#hide\n",
    "# g['continent'] = g['continent'].map(mapping['map.continent'])"
   ]
  },
  {
   "cell_type": "code",
   "execution_count": 32,
   "id": "freelance-scout",
   "metadata": {
    "execution": {
     "iopub.execute_input": "2021-07-12T12:09:59.011192Z",
     "iopub.status.busy": "2021-07-12T12:09:59.010484Z",
     "iopub.status.idle": "2021-07-12T12:09:59.012543Z",
     "shell.execute_reply": "2021-07-12T12:09:59.013231Z"
    },
    "papermill": {
     "duration": 0.048125,
     "end_time": "2021-07-12T12:09:59.013382",
     "exception": false,
     "start_time": "2021-07-12T12:09:58.965257",
     "status": "completed"
    },
    "tags": []
   },
   "outputs": [],
   "source": [
    "#hide\n",
    "# g.head()"
   ]
  },
  {
   "cell_type": "code",
   "execution_count": 33,
   "id": "limited-engine",
   "metadata": {
    "execution": {
     "iopub.execute_input": "2021-07-12T12:09:59.099394Z",
     "iopub.status.busy": "2021-07-12T12:09:59.098739Z",
     "iopub.status.idle": "2021-07-12T12:09:59.101579Z",
     "shell.execute_reply": "2021-07-12T12:09:59.100987Z"
    },
    "papermill": {
     "duration": 0.047463,
     "end_time": "2021-07-12T12:09:59.101724",
     "exception": false,
     "start_time": "2021-07-12T12:09:59.054261",
     "status": "completed"
    },
    "tags": []
   },
   "outputs": [],
   "source": [
    "# hide\n",
    "# g['date'] = g['date'].astype('datetime64[ns]')"
   ]
  },
  {
   "cell_type": "code",
   "execution_count": 34,
   "id": "sophisticated-supervisor",
   "metadata": {
    "execution": {
     "iopub.execute_input": "2021-07-12T12:09:59.194200Z",
     "iopub.status.busy": "2021-07-12T12:09:59.193463Z",
     "iopub.status.idle": "2021-07-12T12:09:59.196214Z",
     "shell.execute_reply": "2021-07-12T12:09:59.195637Z"
    },
    "papermill": {
     "duration": 0.053275,
     "end_time": "2021-07-12T12:09:59.196366",
     "exception": false,
     "start_time": "2021-07-12T12:09:59.143091",
     "status": "completed"
    },
    "tags": []
   },
   "outputs": [],
   "source": [
    "#hide\n",
    "# g['date'] = g.date.dt.dayofyear"
   ]
  },
  {
   "cell_type": "code",
   "execution_count": 35,
   "id": "inside-dubai",
   "metadata": {
    "execution": {
     "iopub.execute_input": "2021-07-12T12:09:59.288610Z",
     "iopub.status.busy": "2021-07-12T12:09:59.287895Z",
     "iopub.status.idle": "2021-07-12T12:09:59.290175Z",
     "shell.execute_reply": "2021-07-12T12:09:59.290784Z"
    },
    "papermill": {
     "duration": 0.050207,
     "end_time": "2021-07-12T12:09:59.290996",
     "exception": false,
     "start_time": "2021-07-12T12:09:59.240789",
     "status": "completed"
    },
    "tags": []
   },
   "outputs": [],
   "source": [
    "#hide\n",
    "# g = g.rename(columns= {'continent':'group','country':'name','cases':'value'})"
   ]
  },
  {
   "cell_type": "code",
   "execution_count": 36,
   "id": "fleet-motorcycle",
   "metadata": {
    "execution": {
     "iopub.execute_input": "2021-07-12T12:09:59.382818Z",
     "iopub.status.busy": "2021-07-12T12:09:59.382142Z",
     "iopub.status.idle": "2021-07-12T12:09:59.384793Z",
     "shell.execute_reply": "2021-07-12T12:09:59.385480Z"
    },
    "papermill": {
     "duration": 0.050084,
     "end_time": "2021-07-12T12:09:59.385729",
     "exception": false,
     "start_time": "2021-07-12T12:09:59.335645",
     "status": "completed"
    },
    "tags": []
   },
   "outputs": [],
   "source": [
    "#hide\n",
    "# cols = ['name','group','day','value']"
   ]
  },
  {
   "cell_type": "code",
   "execution_count": 37,
   "id": "continued-sleeping",
   "metadata": {
    "execution": {
     "iopub.execute_input": "2021-07-12T12:09:59.474056Z",
     "iopub.status.busy": "2021-07-12T12:09:59.473371Z",
     "iopub.status.idle": "2021-07-12T12:09:59.475988Z",
     "shell.execute_reply": "2021-07-12T12:09:59.475424Z"
    },
    "papermill": {
     "duration": 0.047964,
     "end_time": "2021-07-12T12:09:59.476121",
     "exception": false,
     "start_time": "2021-07-12T12:09:59.428157",
     "status": "completed"
    },
    "tags": []
   },
   "outputs": [],
   "source": [
    "#hide\n",
    "# g.rename(columns= {'date':'day'},inplace = True)"
   ]
  },
  {
   "cell_type": "code",
   "execution_count": 38,
   "id": "major-fight",
   "metadata": {
    "execution": {
     "iopub.execute_input": "2021-07-12T12:09:59.563629Z",
     "iopub.status.busy": "2021-07-12T12:09:59.562800Z",
     "iopub.status.idle": "2021-07-12T12:09:59.566041Z",
     "shell.execute_reply": "2021-07-12T12:09:59.565419Z"
    },
    "papermill": {
     "duration": 0.047879,
     "end_time": "2021-07-12T12:09:59.566176",
     "exception": false,
     "start_time": "2021-07-12T12:09:59.518297",
     "status": "completed"
    },
    "tags": []
   },
   "outputs": [],
   "source": [
    "#hide\n",
    "# g = g[cols]"
   ]
  },
  {
   "cell_type": "code",
   "execution_count": 39,
   "id": "structured-mobile",
   "metadata": {
    "execution": {
     "iopub.execute_input": "2021-07-12T12:09:59.656473Z",
     "iopub.status.busy": "2021-07-12T12:09:59.655764Z",
     "iopub.status.idle": "2021-07-12T12:09:59.658334Z",
     "shell.execute_reply": "2021-07-12T12:09:59.657769Z"
    },
    "papermill": {
     "duration": 0.047689,
     "end_time": "2021-07-12T12:09:59.658484",
     "exception": false,
     "start_time": "2021-07-12T12:09:59.610795",
     "status": "completed"
    },
    "tags": []
   },
   "outputs": [],
   "source": [
    "# #hide\n",
    "# g = g[g.group.notna()]"
   ]
  },
  {
   "cell_type": "code",
   "execution_count": 40,
   "id": "determined-closing",
   "metadata": {
    "execution": {
     "iopub.execute_input": "2021-07-12T12:09:59.747131Z",
     "iopub.status.busy": "2021-07-12T12:09:59.746434Z",
     "iopub.status.idle": "2021-07-12T12:09:59.748665Z",
     "shell.execute_reply": "2021-07-12T12:09:59.749264Z"
    },
    "papermill": {
     "duration": 0.049901,
     "end_time": "2021-07-12T12:09:59.749432",
     "exception": false,
     "start_time": "2021-07-12T12:09:59.699531",
     "status": "completed"
    },
    "tags": []
   },
   "outputs": [],
   "source": [
    "# #hide\n",
    "# colors = dict(zip(\n",
    "#     [\"Oceania\", \"Europe\", \"Asia\", \"South America\", \"Middle East\", \"North America\", \"Africa\"],\n",
    "#     [\"#adb0ff\", \"#ffb3ff\", \"#90d595\", \"#e48381\", \"#aafbff\", \"#f7bb5f\", \"#eafb50\"]\n",
    "# ))\n",
    "# group_lk = g.set_index('name')['group'].to_dict()"
   ]
  },
  {
   "cell_type": "code",
   "execution_count": null,
   "id": "gross-drinking",
   "metadata": {
    "papermill": {
     "duration": 0.041293,
     "end_time": "2021-07-12T12:09:59.831528",
     "exception": false,
     "start_time": "2021-07-12T12:09:59.790235",
     "status": "completed"
    },
    "tags": []
   },
   "outputs": [],
   "source": []
  },
  {
   "cell_type": "code",
   "execution_count": 41,
   "id": "subject-macintosh",
   "metadata": {
    "execution": {
     "iopub.execute_input": "2021-07-12T12:09:59.921516Z",
     "iopub.status.busy": "2021-07-12T12:09:59.920421Z",
     "iopub.status.idle": "2021-07-12T12:09:59.923188Z",
     "shell.execute_reply": "2021-07-12T12:09:59.923762Z"
    },
    "papermill": {
     "duration": 0.052411,
     "end_time": "2021-07-12T12:09:59.923910",
     "exception": false,
     "start_time": "2021-07-12T12:09:59.871499",
     "status": "completed"
    },
    "tags": []
   },
   "outputs": [],
   "source": [
    "# #hide\n",
    "# fig, ax = plt.subplots(figsize=(15, 8))\n",
    "\n",
    "# def draw_barchart(current_day):\n",
    "#     dff = g[g['day'].eq(current_day)].sort_values(by='value', ascending=True).tail(10)\n",
    "#     ax.clear()\n",
    "#     ax.barh(dff['name'], dff['value'], color=[colors[group_lk[x]] for x in dff['name']])\n",
    "#     dx = dff['value'].max() / 200\n",
    "    \n",
    "#     for i, (value, name) in enumerate(zip(dff['value'], dff['name'])):\n",
    "#         ax.text(value-dx, i,     name,           size=14, weight=600, ha='right', va='bottom')\n",
    "#         ax.text(value-dx, i-.25, group_lk[name], size=10, color='#444444', ha='right', va='baseline')\n",
    "#         ax.text(value+dx, i,     f'{value:,.0f}',  size=14, ha='left',  va='center')\n",
    "#     ax.text(1, 0.4, current_day, transform=ax.transAxes, color='#777777', size=46, ha='right', weight=800)\n",
    "#     ax.text(0, 1.06, 'Population (thousands)', transform=ax.transAxes, size=12, color='#777777')\n",
    "#     ax.xaxis.set_major_formatter(ticker.StrMethodFormatter('{x:,.0f}'))\n",
    "#     ax.xaxis.set_ticks_position('top')\n",
    "#     ax.tick_params(axis='x', colors='#777777', labelsize=12)\n",
    "#     ax.set_yticks([])\n",
    "#     ax.margins(0, 0.01)\n",
    "#     ax.grid(which='major', axis='x', linestyle='-')\n",
    "#     ax.set_axisbelow(True)\n",
    "    \n",
    "#     ax.text(0, 1.15, 'Coronavirus',\n",
    "#             transform=ax.transAxes, size=24, weight=600, ha='left', va='top')\n",
    "# #     ax.text(1, 0, 'by @pratapvardhan; credit @jburnmurdoch', transform=ax.transAxes, color='#777777', ha='right',\n",
    "# #             bbox=dict(facecolor='white', alpha=0.8, edgecolor='white'))\n",
    "#     plt.box(False)"
   ]
  },
  {
   "cell_type": "code",
   "execution_count": 42,
   "id": "sexual-wages",
   "metadata": {
    "execution": {
     "iopub.execute_input": "2021-07-12T12:10:00.013765Z",
     "iopub.status.busy": "2021-07-12T12:10:00.011931Z",
     "iopub.status.idle": "2021-07-12T12:10:00.015135Z",
     "shell.execute_reply": "2021-07-12T12:10:00.015744Z"
    },
    "papermill": {
     "duration": 0.049456,
     "end_time": "2021-07-12T12:10:00.015954",
     "exception": false,
     "start_time": "2021-07-12T12:09:59.966498",
     "status": "completed"
    },
    "tags": []
   },
   "outputs": [],
   "source": [
    "# #hide_input\n",
    "# fig, ax = plt.subplots(figsize=(15, 8))\n",
    "# animator = animation.FuncAnimation(fig, draw_barchart, frames=range(g.day.values.min(), g.day.values.max()))\n",
    "# HTML(animator.to_jshtml())\n",
    "# # or use animator.to_html5_video() or animator.save() "
   ]
  },
  {
   "cell_type": "code",
   "execution_count": null,
   "id": "australian-container",
   "metadata": {
    "papermill": {
     "duration": 0.042507,
     "end_time": "2021-07-12T12:10:00.099615",
     "exception": false,
     "start_time": "2021-07-12T12:10:00.057108",
     "status": "completed"
    },
    "tags": []
   },
   "outputs": [],
   "source": []
  },
  {
   "cell_type": "code",
   "execution_count": null,
   "id": "mediterranean-pontiac",
   "metadata": {
    "papermill": {
     "duration": 0.041771,
     "end_time": "2021-07-12T12:10:00.184394",
     "exception": false,
     "start_time": "2021-07-12T12:10:00.142623",
     "status": "completed"
    },
    "tags": []
   },
   "outputs": [],
   "source": []
  },
  {
   "cell_type": "code",
   "execution_count": null,
   "id": "aging-legislature",
   "metadata": {
    "papermill": {
     "duration": 0.04312,
     "end_time": "2021-07-12T12:10:00.273178",
     "exception": false,
     "start_time": "2021-07-12T12:10:00.230058",
     "status": "completed"
    },
    "tags": []
   },
   "outputs": [],
   "source": []
  }
 ],
 "metadata": {
  "kernelspec": {
   "display_name": "Python 3",
   "language": "python",
   "name": "python3"
  },
  "language_info": {
   "codemirror_mode": {
    "name": "ipython",
    "version": 3
   },
   "file_extension": ".py",
   "mimetype": "text/x-python",
   "name": "python",
   "nbconvert_exporter": "python",
   "pygments_lexer": "ipython3",
   "version": "3.6.13"
  },
  "papermill": {
   "duration": 8.425235,
   "end_time": "2021-07-12T12:10:01.718242",
   "environment_variables": {},
   "exception": null,
   "input_path": "2020-03-21-covid19exp.ipynb",
   "output_path": "2020-03-21-covid19exp.ipynb",
   "parameters": {},
   "start_time": "2021-07-12T12:09:53.293007",
   "version": "2.0.0"
  }
 },
 "nbformat": 4,
 "nbformat_minor": 5
}