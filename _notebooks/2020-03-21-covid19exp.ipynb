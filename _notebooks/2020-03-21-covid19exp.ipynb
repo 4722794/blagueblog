{
 "cells": [
  {
   "cell_type": "markdown",
   "metadata": {
    "papermill": {
     "duration": 0.037595,
     "end_time": "2020-11-28T12:06:31.525916",
     "exception": false,
     "start_time": "2020-11-28T12:06:31.488321",
     "status": "completed"
    },
    "tags": []
   },
   "source": [
    "# COVID-19 Case Race\n",
    "> A race chart to see rising cases around the world\n",
    "\n",
    "- author: Hargun Oberoi\n",
    "- image: images/covid-overview.png\n",
    "- hide: false\n",
    "- badges: false"
   ]
  },
  {
   "cell_type": "code",
   "execution_count": 1,
   "metadata": {
    "execution": {
     "iopub.execute_input": "2020-11-28T12:06:32.898363Z",
     "iopub.status.busy": "2020-11-28T12:06:32.897649Z",
     "iopub.status.idle": "2020-11-28T12:06:33.242461Z",
     "shell.execute_reply": "2020-11-28T12:06:33.243078Z"
    },
    "papermill": {
     "duration": 1.058833,
     "end_time": "2020-11-28T12:06:33.243593",
     "exception": false,
     "start_time": "2020-11-28T12:06:32.184760",
     "status": "completed"
    },
    "tags": []
   },
   "outputs": [],
   "source": [
    "#hide\n",
    "import numpy as np\n",
    "import pandas as pd\n",
    "from jinja2 import Template\n",
    "from IPython.display import HTML"
   ]
  },
  {
   "cell_type": "code",
   "execution_count": 2,
   "metadata": {
    "execution": {
     "iopub.execute_input": "2020-11-28T12:06:33.310829Z",
     "iopub.status.busy": "2020-11-28T12:06:33.310161Z",
     "iopub.status.idle": "2020-11-28T12:06:33.311812Z",
     "shell.execute_reply": "2020-11-28T12:06:33.312330Z"
    },
    "papermill": {
     "duration": 0.038245,
     "end_time": "2020-11-28T12:06:33.312481",
     "exception": false,
     "start_time": "2020-11-28T12:06:33.274236",
     "status": "completed"
    },
    "tags": []
   },
   "outputs": [],
   "source": [
    "#hide\n",
    "\n",
    "# FETCH\n",
    "base_url = 'https://raw.githubusercontent.com/pratapvardhan/notebooks/master/covid19/'\n",
    "paths = {\n",
    "    'mapping': base_url + 'mapping_countries.csv',\n",
    "    'overview': base_url + 'overview.tpl'\n",
    "}"
   ]
  },
  {
   "cell_type": "code",
   "execution_count": 3,
   "metadata": {
    "execution": {
     "iopub.execute_input": "2020-11-28T12:06:33.383562Z",
     "iopub.status.busy": "2020-11-28T12:06:33.380645Z",
     "iopub.status.idle": "2020-11-28T12:06:33.388122Z",
     "shell.execute_reply": "2020-11-28T12:06:33.387624Z"
    },
    "papermill": {
     "duration": 0.045758,
     "end_time": "2020-11-28T12:06:33.388257",
     "exception": false,
     "start_time": "2020-11-28T12:06:33.342499",
     "status": "completed"
    },
    "tags": []
   },
   "outputs": [
    {
     "data": {
      "text/plain": [
       "'https://raw.githubusercontent.com/pratapvardhan/notebooks/master/covid19/mapping_countries.csv'"
      ]
     },
     "execution_count": 3,
     "metadata": {},
     "output_type": "execute_result"
    }
   ],
   "source": [
    "#hide\n",
    "paths['mapping']"
   ]
  },
  {
   "cell_type": "code",
   "execution_count": 4,
   "metadata": {
    "execution": {
     "iopub.execute_input": "2020-11-28T12:06:33.455769Z",
     "iopub.status.busy": "2020-11-28T12:06:33.455021Z",
     "iopub.status.idle": "2020-11-28T12:06:33.456826Z",
     "shell.execute_reply": "2020-11-28T12:06:33.457462Z"
    },
    "papermill": {
     "duration": 0.038678,
     "end_time": "2020-11-28T12:06:33.457630",
     "exception": false,
     "start_time": "2020-11-28T12:06:33.418952",
     "status": "completed"
    },
    "tags": []
   },
   "outputs": [],
   "source": [
    "#hide\n",
    "def get_mappings(url):\n",
    "    df = pd.read_csv(url)\n",
    "    return {\n",
    "        'df': df,\n",
    "        'replace.country': dict(df.dropna(subset=['Name']).set_index('Country')['Name']),\n",
    "        'map.continent': dict(df.set_index('Name')['Continent'])\n",
    "    }"
   ]
  },
  {
   "cell_type": "code",
   "execution_count": 5,
   "metadata": {
    "execution": {
     "iopub.execute_input": "2020-11-28T12:06:33.523759Z",
     "iopub.status.busy": "2020-11-28T12:06:33.523025Z",
     "iopub.status.idle": "2020-11-28T12:06:33.580595Z",
     "shell.execute_reply": "2020-11-28T12:06:33.579859Z"
    },
    "papermill": {
     "duration": 0.092847,
     "end_time": "2020-11-28T12:06:33.580791",
     "exception": false,
     "start_time": "2020-11-28T12:06:33.487944",
     "status": "completed"
    },
    "tags": []
   },
   "outputs": [],
   "source": [
    "#hide\n",
    "mapping = get_mappings(paths['mapping'])"
   ]
  },
  {
   "cell_type": "code",
   "execution_count": 6,
   "metadata": {
    "execution": {
     "iopub.execute_input": "2020-11-28T12:06:33.647600Z",
     "iopub.status.busy": "2020-11-28T12:06:33.646881Z",
     "iopub.status.idle": "2020-11-28T12:06:33.649088Z",
     "shell.execute_reply": "2020-11-28T12:06:33.649732Z"
    },
    "papermill": {
     "duration": 0.03768,
     "end_time": "2020-11-28T12:06:33.649885",
     "exception": false,
     "start_time": "2020-11-28T12:06:33.612205",
     "status": "completed"
    },
    "tags": []
   },
   "outputs": [],
   "source": [
    "#hide\n",
    "def get_template(path):\n",
    "    from urllib.parse import urlparse\n",
    "    if bool(urlparse(path).netloc):\n",
    "        from urllib.request import urlopen\n",
    "        return urlopen(path).read().decode('utf8')\n",
    "    return open(path).read()"
   ]
  },
  {
   "cell_type": "code",
   "execution_count": 7,
   "metadata": {
    "execution": {
     "iopub.execute_input": "2020-11-28T12:06:33.715452Z",
     "iopub.status.busy": "2020-11-28T12:06:33.714852Z",
     "iopub.status.idle": "2020-11-28T12:06:33.716779Z",
     "shell.execute_reply": "2020-11-28T12:06:33.717320Z"
    },
    "papermill": {
     "duration": 0.037891,
     "end_time": "2020-11-28T12:06:33.717491",
     "exception": false,
     "start_time": "2020-11-28T12:06:33.679600",
     "status": "completed"
    },
    "tags": []
   },
   "outputs": [],
   "source": [
    "#hide\n",
    "def get_frame(name):\n",
    "    url = (\n",
    "        'https://raw.githubusercontent.com/CSSEGISandData/COVID-19/master/csse_covid_19_data/'\n",
    "        f'csse_covid_19_time_series/time_series_covid19_{name}_global.csv')\n",
    "    df = pd.read_csv(url)\n",
    "    # rename countries\n",
    "    df['Country/Region'] = df['Country/Region'].replace(mapping['replace.country'])\n",
    "    return df"
   ]
  },
  {
   "cell_type": "code",
   "execution_count": 8,
   "metadata": {
    "execution": {
     "iopub.execute_input": "2020-11-28T12:06:33.783862Z",
     "iopub.status.busy": "2020-11-28T12:06:33.783262Z",
     "iopub.status.idle": "2020-11-28T12:06:33.785321Z",
     "shell.execute_reply": "2020-11-28T12:06:33.785915Z"
    },
    "papermill": {
     "duration": 0.038202,
     "end_time": "2020-11-28T12:06:33.786067",
     "exception": false,
     "start_time": "2020-11-28T12:06:33.747865",
     "status": "completed"
    },
    "tags": []
   },
   "outputs": [],
   "source": [
    "#hide\n",
    "def get_dates(df):\n",
    "    dt_cols = df.columns[~df.columns.isin(['Province/State', 'Country/Region', 'Lat', 'Long'])]\n",
    "    LAST_DATE_I = -1\n",
    "    # sometimes last column may be empty, then go backwards\n",
    "    for i in range(-1, -len(dt_cols), -1):\n",
    "        if not df[dt_cols[i]].fillna(0).eq(0).all():\n",
    "            LAST_DATE_I = i\n",
    "            break\n",
    "    return LAST_DATE_I, dt_cols"
   ]
  },
  {
   "cell_type": "code",
   "execution_count": 9,
   "metadata": {
    "execution": {
     "iopub.execute_input": "2020-11-28T12:06:33.852485Z",
     "iopub.status.busy": "2020-11-28T12:06:33.851849Z",
     "iopub.status.idle": "2020-11-28T12:06:34.208563Z",
     "shell.execute_reply": "2020-11-28T12:06:34.209051Z"
    },
    "papermill": {
     "duration": 0.393357,
     "end_time": "2020-11-28T12:06:34.209223",
     "exception": false,
     "start_time": "2020-11-28T12:06:33.815866",
     "status": "completed"
    },
    "tags": []
   },
   "outputs": [],
   "source": [
    "#hide\n",
    "COL_REGION = 'Country/Region'\n",
    "# Confirmed, Recovered, Deaths\n",
    "df = get_frame('confirmed')\n",
    "# dft_: timeseries, dfc_: today country agg\n",
    "dft_cases = df\n",
    "dft_deaths = get_frame('deaths')\n",
    "dft_recovered = get_frame('recovered')\n",
    "LAST_DATE_I, dt_cols = get_dates(df)"
   ]
  },
  {
   "cell_type": "code",
   "execution_count": 10,
   "metadata": {
    "execution": {
     "iopub.execute_input": "2020-11-28T12:06:34.277194Z",
     "iopub.status.busy": "2020-11-28T12:06:34.276563Z",
     "iopub.status.idle": "2020-11-28T12:06:34.280023Z",
     "shell.execute_reply": "2020-11-28T12:06:34.280480Z"
    },
    "papermill": {
     "duration": 0.040069,
     "end_time": "2020-11-28T12:06:34.280637",
     "exception": false,
     "start_time": "2020-11-28T12:06:34.240568",
     "status": "completed"
    },
    "tags": []
   },
   "outputs": [],
   "source": [
    "#hide\n",
    "LAST_DATE_I, dt_cols = get_dates(df)\n",
    "dt_today =dt_cols[LAST_DATE_I]\n",
    "# dt_5day = dt_cols[LAST_DATE_I - 5]\n",
    "dt_yday = dt_cols[LAST_DATE_I - 1]"
   ]
  },
  {
   "cell_type": "code",
   "execution_count": 11,
   "metadata": {
    "execution": {
     "iopub.execute_input": "2020-11-28T12:06:34.349698Z",
     "iopub.status.busy": "2020-11-28T12:06:34.348896Z",
     "iopub.status.idle": "2020-11-28T12:06:34.356973Z",
     "shell.execute_reply": "2020-11-28T12:06:34.356482Z"
    },
    "papermill": {
     "duration": 0.046329,
     "end_time": "2020-11-28T12:06:34.357103",
     "exception": false,
     "start_time": "2020-11-28T12:06:34.310774",
     "status": "completed"
    },
    "tags": []
   },
   "outputs": [],
   "source": [
    "#hide\n",
    "dfc_cases = dft_cases.groupby(COL_REGION)[dt_today].sum()\n",
    "dfc_deaths = dft_deaths.groupby(COL_REGION)[dt_today].sum()\n",
    "# dfp_cases = dft_cases.groupby(COL_REGION)[dt_5day].sum()\n",
    "# dfp_deaths = dft_deaths.groupby(COL_REGION)[dt_5day].sum()\n",
    "dfp_cases = dft_cases.groupby(COL_REGION)[dt_yday].sum()\n",
    "dfp_deaths = dft_deaths.groupby(COL_REGION)[dt_yday].sum()"
   ]
  },
  {
   "cell_type": "code",
   "execution_count": 12,
   "metadata": {
    "execution": {
     "iopub.execute_input": "2020-11-28T12:06:34.437246Z",
     "iopub.status.busy": "2020-11-28T12:06:34.436490Z",
     "iopub.status.idle": "2020-11-28T12:06:34.441833Z",
     "shell.execute_reply": "2020-11-28T12:06:34.441075Z"
    },
    "papermill": {
     "duration": 0.051523,
     "end_time": "2020-11-28T12:06:34.442033",
     "exception": false,
     "start_time": "2020-11-28T12:06:34.390510",
     "status": "completed"
    },
    "tags": []
   },
   "outputs": [],
   "source": [
    "#hide\n",
    "df_table = (pd.DataFrame(dict(Cases = dfc_cases, Deaths = dfc_deaths, PCases = dfp_cases, PDeaths = dfp_deaths))\n",
    "            .sort_values(by = ['Cases','Deaths'], ascending = [False, False])\n",
    "            .reset_index())"
   ]
  },
  {
   "cell_type": "code",
   "execution_count": 13,
   "metadata": {
    "execution": {
     "iopub.execute_input": "2020-11-28T12:06:34.532465Z",
     "iopub.status.busy": "2020-11-28T12:06:34.527321Z",
     "iopub.status.idle": "2020-11-28T12:06:34.535731Z",
     "shell.execute_reply": "2020-11-28T12:06:34.535217Z"
    },
    "papermill": {
     "duration": 0.058051,
     "end_time": "2020-11-28T12:06:34.535872",
     "exception": false,
     "start_time": "2020-11-28T12:06:34.477821",
     "status": "completed"
    },
    "tags": []
   },
   "outputs": [
    {
     "data": {
      "text/html": [
       "<div>\n",
       "<style scoped>\n",
       "    .dataframe tbody tr th:only-of-type {\n",
       "        vertical-align: middle;\n",
       "    }\n",
       "\n",
       "    .dataframe tbody tr th {\n",
       "        vertical-align: top;\n",
       "    }\n",
       "\n",
       "    .dataframe thead th {\n",
       "        text-align: right;\n",
       "    }\n",
       "</style>\n",
       "<table border=\"1\" class=\"dataframe\">\n",
       "  <thead>\n",
       "    <tr style=\"text-align: right;\">\n",
       "      <th></th>\n",
       "      <th>Country/Region</th>\n",
       "      <th>Cases</th>\n",
       "      <th>Deaths</th>\n",
       "      <th>PCases</th>\n",
       "      <th>PDeaths</th>\n",
       "      <th>Cases (+)</th>\n",
       "      <th>Deaths (+)</th>\n",
       "      <th>Fatality Rate</th>\n",
       "      <th>Continent</th>\n",
       "    </tr>\n",
       "  </thead>\n",
       "  <tbody>\n",
       "    <tr>\n",
       "      <th>0</th>\n",
       "      <td>US</td>\n",
       "      <td>13088821</td>\n",
       "      <td>264858</td>\n",
       "      <td>12883264</td>\n",
       "      <td>263454</td>\n",
       "      <td>205557</td>\n",
       "      <td>1404</td>\n",
       "      <td>2.02</td>\n",
       "      <td>North America</td>\n",
       "    </tr>\n",
       "    <tr>\n",
       "      <th>1</th>\n",
       "      <td>India</td>\n",
       "      <td>9351109</td>\n",
       "      <td>136200</td>\n",
       "      <td>9309787</td>\n",
       "      <td>135715</td>\n",
       "      <td>41322</td>\n",
       "      <td>485</td>\n",
       "      <td>1.46</td>\n",
       "      <td>Asia</td>\n",
       "    </tr>\n",
       "    <tr>\n",
       "      <th>2</th>\n",
       "      <td>Brazil</td>\n",
       "      <td>6238350</td>\n",
       "      <td>171974</td>\n",
       "      <td>6204220</td>\n",
       "      <td>171460</td>\n",
       "      <td>34130</td>\n",
       "      <td>514</td>\n",
       "      <td>2.76</td>\n",
       "      <td>South America</td>\n",
       "    </tr>\n",
       "    <tr>\n",
       "      <th>3</th>\n",
       "      <td>France</td>\n",
       "      <td>2248209</td>\n",
       "      <td>51999</td>\n",
       "      <td>2235537</td>\n",
       "      <td>51041</td>\n",
       "      <td>12672</td>\n",
       "      <td>958</td>\n",
       "      <td>2.31</td>\n",
       "      <td>Europe</td>\n",
       "    </tr>\n",
       "    <tr>\n",
       "      <th>4</th>\n",
       "      <td>Russia</td>\n",
       "      <td>2196691</td>\n",
       "      <td>38175</td>\n",
       "      <td>2169424</td>\n",
       "      <td>37688</td>\n",
       "      <td>27267</td>\n",
       "      <td>487</td>\n",
       "      <td>1.74</td>\n",
       "      <td>Europe</td>\n",
       "    </tr>\n",
       "  </tbody>\n",
       "</table>\n",
       "</div>"
      ],
      "text/plain": [
       "  Country/Region     Cases  Deaths    PCases  PDeaths  Cases (+)  Deaths (+)  \\\n",
       "0             US  13088821  264858  12883264   263454     205557        1404   \n",
       "1          India   9351109  136200   9309787   135715      41322         485   \n",
       "2         Brazil   6238350  171974   6204220   171460      34130         514   \n",
       "3         France   2248209   51999   2235537    51041      12672         958   \n",
       "4         Russia   2196691   38175   2169424    37688      27267         487   \n",
       "\n",
       "   Fatality Rate      Continent  \n",
       "0           2.02  North America  \n",
       "1           1.46           Asia  \n",
       "2           2.76  South America  \n",
       "3           2.31         Europe  \n",
       "4           1.74         Europe  "
      ]
     },
     "execution_count": 13,
     "metadata": {},
     "output_type": "execute_result"
    }
   ],
   "source": [
    "#hide\n",
    "for c in 'Cases, Deaths'.split(', '):\n",
    "    df_table[f'{c} (+)'] = (df_table[c] - df_table[f'P{c}']).clip(0)\n",
    "    #Clip ça veut dire, les chiffres negatif sont interdit\n",
    "df_table['Fatality Rate'] = (100* df_table['Deaths']/ df_table['Cases']).round(2)\n",
    "df_table['Continent'] = df_table['Country/Region'].map(mapping['map.continent'])\n",
    "df_table.head(5)"
   ]
  },
  {
   "cell_type": "code",
   "execution_count": 14,
   "metadata": {
    "execution": {
     "iopub.execute_input": "2020-11-28T12:06:34.603647Z",
     "iopub.status.busy": "2020-11-28T12:06:34.602916Z",
     "iopub.status.idle": "2020-11-28T12:06:34.604802Z",
     "shell.execute_reply": "2020-11-28T12:06:34.605255Z"
    },
    "papermill": {
     "duration": 0.039194,
     "end_time": "2020-11-28T12:06:34.605498",
     "exception": false,
     "start_time": "2020-11-28T12:06:34.566304",
     "status": "completed"
    },
    "tags": []
   },
   "outputs": [],
   "source": [
    "#hide\n",
    "#delete problematic countries from table\n",
    "df_table = df_table[~df_table['Country/Region'].isin(['Cape Verde', 'Cruise Ship', 'Kosovo'])]"
   ]
  },
  {
   "cell_type": "code",
   "execution_count": 15,
   "metadata": {
    "execution": {
     "iopub.execute_input": "2020-11-28T12:06:34.674970Z",
     "iopub.status.busy": "2020-11-28T12:06:34.674373Z",
     "iopub.status.idle": "2020-11-28T12:06:34.693726Z",
     "shell.execute_reply": "2020-11-28T12:06:34.693094Z"
    },
    "papermill": {
     "duration": 0.058072,
     "end_time": "2020-11-28T12:06:34.693877",
     "exception": false,
     "start_time": "2020-11-28T12:06:34.635805",
     "status": "completed"
    },
    "tags": []
   },
   "outputs": [
    {
     "data": {
      "text/html": [
       "<div>\n",
       "<style scoped>\n",
       "    .dataframe tbody tr th:only-of-type {\n",
       "        vertical-align: middle;\n",
       "    }\n",
       "\n",
       "    .dataframe tbody tr th {\n",
       "        vertical-align: top;\n",
       "    }\n",
       "\n",
       "    .dataframe thead th {\n",
       "        text-align: right;\n",
       "    }\n",
       "</style>\n",
       "<table border=\"1\" class=\"dataframe\">\n",
       "  <thead>\n",
       "    <tr style=\"text-align: right;\">\n",
       "      <th></th>\n",
       "      <th>Country/Region</th>\n",
       "      <th>Cases</th>\n",
       "      <th>Deaths</th>\n",
       "      <th>PCases</th>\n",
       "      <th>PDeaths</th>\n",
       "      <th>Cases (+)</th>\n",
       "      <th>Deaths (+)</th>\n",
       "      <th>Fatality Rate</th>\n",
       "      <th>Continent</th>\n",
       "    </tr>\n",
       "  </thead>\n",
       "  <tbody>\n",
       "    <tr>\n",
       "      <th>0</th>\n",
       "      <td>US</td>\n",
       "      <td>13088821</td>\n",
       "      <td>264858</td>\n",
       "      <td>12883264</td>\n",
       "      <td>263454</td>\n",
       "      <td>205557</td>\n",
       "      <td>1404</td>\n",
       "      <td>2.0</td>\n",
       "      <td>North America</td>\n",
       "    </tr>\n",
       "    <tr>\n",
       "      <th>1</th>\n",
       "      <td>India</td>\n",
       "      <td>9351109</td>\n",
       "      <td>136200</td>\n",
       "      <td>9309787</td>\n",
       "      <td>135715</td>\n",
       "      <td>41322</td>\n",
       "      <td>485</td>\n",
       "      <td>1.5</td>\n",
       "      <td>Asia</td>\n",
       "    </tr>\n",
       "    <tr>\n",
       "      <th>2</th>\n",
       "      <td>Brazil</td>\n",
       "      <td>6238350</td>\n",
       "      <td>171974</td>\n",
       "      <td>6204220</td>\n",
       "      <td>171460</td>\n",
       "      <td>34130</td>\n",
       "      <td>514</td>\n",
       "      <td>2.8</td>\n",
       "      <td>South America</td>\n",
       "    </tr>\n",
       "    <tr>\n",
       "      <th>3</th>\n",
       "      <td>France</td>\n",
       "      <td>2248209</td>\n",
       "      <td>51999</td>\n",
       "      <td>2235537</td>\n",
       "      <td>51041</td>\n",
       "      <td>12672</td>\n",
       "      <td>958</td>\n",
       "      <td>2.3</td>\n",
       "      <td>Europe</td>\n",
       "    </tr>\n",
       "    <tr>\n",
       "      <th>4</th>\n",
       "      <td>Russia</td>\n",
       "      <td>2196691</td>\n",
       "      <td>38175</td>\n",
       "      <td>2169424</td>\n",
       "      <td>37688</td>\n",
       "      <td>27267</td>\n",
       "      <td>487</td>\n",
       "      <td>1.7</td>\n",
       "      <td>Europe</td>\n",
       "    </tr>\n",
       "  </tbody>\n",
       "</table>\n",
       "</div>"
      ],
      "text/plain": [
       "  Country/Region     Cases  Deaths    PCases  PDeaths  Cases (+)  Deaths (+)  \\\n",
       "0             US  13088821  264858  12883264   263454     205557        1404   \n",
       "1          India   9351109  136200   9309787   135715      41322         485   \n",
       "2         Brazil   6238350  171974   6204220   171460      34130         514   \n",
       "3         France   2248209   51999   2235537    51041      12672         958   \n",
       "4         Russia   2196691   38175   2169424    37688      27267         487   \n",
       "\n",
       "   Fatality Rate      Continent  \n",
       "0            2.0  North America  \n",
       "1            1.5           Asia  \n",
       "2            2.8  South America  \n",
       "3            2.3         Europe  \n",
       "4            1.7         Europe  "
      ]
     },
     "execution_count": 15,
     "metadata": {},
     "output_type": "execute_result"
    }
   ],
   "source": [
    "#hide\n",
    "df_table = (pd.DataFrame(dict(Cases=dfc_cases, Deaths=dfc_deaths, PCases=dfp_cases, PDeaths=dfp_deaths))\n",
    "             .sort_values(by=['Cases', 'Deaths'], ascending=[False, False])\n",
    "             .reset_index())\n",
    "df_table.rename(columns={'index': 'Country/Region'}, inplace=True)\n",
    "for c in 'Cases, Deaths'.split(', '):\n",
    "    df_table[f'{c} (+)'] = (df_table[c] - df_table[f'P{c}']).clip(0)  # DATA BUG\n",
    "df_table['Fatality Rate'] = (100 * df_table['Deaths'] / df_table['Cases']).round(1)\n",
    "df_table['Continent'] = df_table['Country/Region'].map(mapping['map.continent'])\n",
    "df_table.head(5)"
   ]
  },
  {
   "cell_type": "code",
   "execution_count": 16,
   "metadata": {
    "execution": {
     "iopub.execute_input": "2020-11-28T12:06:34.764632Z",
     "iopub.status.busy": "2020-11-28T12:06:34.764030Z",
     "iopub.status.idle": "2020-11-28T12:06:34.766316Z",
     "shell.execute_reply": "2020-11-28T12:06:34.766791Z"
    },
    "papermill": {
     "duration": 0.04091,
     "end_time": "2020-11-28T12:06:34.766939",
     "exception": false,
     "start_time": "2020-11-28T12:06:34.726029",
     "status": "completed"
    },
    "tags": []
   },
   "outputs": [],
   "source": [
    "#hide\n",
    "#delete problematic countries from table\n",
    "df_table = df_table[~df_table['Country/Region'].isin(['Cape Verde', 'Cruise Ship', 'Kosovo'])]"
   ]
  },
  {
   "cell_type": "code",
   "execution_count": 17,
   "metadata": {
    "execution": {
     "iopub.execute_input": "2020-11-28T12:06:34.849612Z",
     "iopub.status.busy": "2020-11-28T12:06:34.848959Z",
     "iopub.status.idle": "2020-11-28T12:06:34.851095Z",
     "shell.execute_reply": "2020-11-28T12:06:34.851571Z"
    },
    "papermill": {
     "duration": 0.053482,
     "end_time": "2020-11-28T12:06:34.851725",
     "exception": false,
     "start_time": "2020-11-28T12:06:34.798243",
     "status": "completed"
    },
    "tags": []
   },
   "outputs": [],
   "source": [
    "#hide\n",
    "metrics = [df_table.columns[index] for index in [1,2,5,6]]\n",
    "# s_china = df_table[df_table['Country/Region'].eq('China')][metrics].sum().add_prefix('China ')\n",
    "s_us = df_table[df_table['Country/Region'].eq('US')][metrics].sum().add_prefix('US ')\n",
    "s_eu = df_table[df_table['Continent'].eq('Europe')][metrics].sum().add_prefix('EU ')\n",
    "s_ind = df_table[df_table['Country/Region'].eq('India')][metrics].sum().add_prefix('India ')\n",
    "summary = {'updated': pd.to_datetime(dt_today), 'since': pd.to_datetime(dt_yday)}\n",
    "summary = {'updated': pd.to_datetime(dt_today), 'since': pd.to_datetime(dt_yday)}\n",
    "summary = {**summary, **df_table[metrics].sum(), **s_ind, **s_us, **s_eu}"
   ]
  },
  {
   "cell_type": "code",
   "execution_count": 18,
   "metadata": {
    "execution": {
     "iopub.execute_input": "2020-11-28T12:06:34.923712Z",
     "iopub.status.busy": "2020-11-28T12:06:34.923109Z",
     "iopub.status.idle": "2020-11-28T12:06:34.933203Z",
     "shell.execute_reply": "2020-11-28T12:06:34.932694Z"
    },
    "papermill": {
     "duration": 0.050635,
     "end_time": "2020-11-28T12:06:34.933335",
     "exception": false,
     "start_time": "2020-11-28T12:06:34.882700",
     "status": "completed"
    },
    "tags": []
   },
   "outputs": [],
   "source": [
    "#hide\n",
    "dft_ct_new_cases = dft_cases.groupby(COL_REGION)[dt_cols].sum().diff(axis=1).fillna(0).astype(int)"
   ]
  },
  {
   "cell_type": "code",
   "execution_count": 19,
   "metadata": {
    "execution": {
     "iopub.execute_input": "2020-11-28T12:06:35.000271Z",
     "iopub.status.busy": "2020-11-28T12:06:34.999682Z",
     "iopub.status.idle": "2020-11-28T12:06:35.002126Z",
     "shell.execute_reply": "2020-11-28T12:06:35.002566Z"
    },
    "papermill": {
     "duration": 0.038817,
     "end_time": "2020-11-28T12:06:35.002699",
     "exception": false,
     "start_time": "2020-11-28T12:06:34.963882",
     "status": "completed"
    },
    "tags": []
   },
   "outputs": [],
   "source": [
    "#hide\n",
    "everydaycases = dft_ct_new_cases.cumsum(axis=1)"
   ]
  },
  {
   "cell_type": "code",
   "execution_count": 20,
   "metadata": {
    "execution": {
     "iopub.execute_input": "2020-11-28T12:06:35.069005Z",
     "iopub.status.busy": "2020-11-28T12:06:35.068399Z",
     "iopub.status.idle": "2020-11-28T12:06:36.087955Z",
     "shell.execute_reply": "2020-11-28T12:06:36.087203Z"
    },
    "papermill": {
     "duration": 1.054946,
     "end_time": "2020-11-28T12:06:36.088121",
     "exception": false,
     "start_time": "2020-11-28T12:06:35.033175",
     "status": "completed"
    },
    "tags": []
   },
   "outputs": [],
   "source": [
    "#hide\n",
    "import pandas as pd\n",
    "import matplotlib.pyplot as plt\n",
    "import matplotlib.ticker as ticker\n",
    "import matplotlib.animation as animation\n",
    "from IPython.display import HTML"
   ]
  },
  {
   "cell_type": "code",
   "execution_count": 21,
   "metadata": {
    "execution": {
     "iopub.execute_input": "2020-11-28T12:06:36.154429Z",
     "iopub.status.busy": "2020-11-28T12:06:36.153825Z",
     "iopub.status.idle": "2020-11-28T12:06:36.158613Z",
     "shell.execute_reply": "2020-11-28T12:06:36.158119Z"
    },
    "papermill": {
     "duration": 0.04019,
     "end_time": "2020-11-28T12:06:36.158742",
     "exception": false,
     "start_time": "2020-11-28T12:06:36.118552",
     "status": "completed"
    },
    "tags": []
   },
   "outputs": [],
   "source": [
    "#hide\n",
    "t = everydaycases.stack()"
   ]
  },
  {
   "cell_type": "code",
   "execution_count": 22,
   "metadata": {
    "execution": {
     "iopub.execute_input": "2020-11-28T12:06:36.224657Z",
     "iopub.status.busy": "2020-11-28T12:06:36.224054Z",
     "iopub.status.idle": "2020-11-28T12:06:36.230474Z",
     "shell.execute_reply": "2020-11-28T12:06:36.230987Z"
    },
    "papermill": {
     "duration": 0.042151,
     "end_time": "2020-11-28T12:06:36.231166",
     "exception": false,
     "start_time": "2020-11-28T12:06:36.189015",
     "status": "completed"
    },
    "tags": []
   },
   "outputs": [],
   "source": [
    "#hide\n",
    "g = t.reset_index(['Country/Region'])"
   ]
  },
  {
   "cell_type": "code",
   "execution_count": 23,
   "metadata": {
    "execution": {
     "iopub.execute_input": "2020-11-28T12:06:36.297959Z",
     "iopub.status.busy": "2020-11-28T12:06:36.297315Z",
     "iopub.status.idle": "2020-11-28T12:06:36.299772Z",
     "shell.execute_reply": "2020-11-28T12:06:36.300325Z"
    },
    "papermill": {
     "duration": 0.038719,
     "end_time": "2020-11-28T12:06:36.300468",
     "exception": false,
     "start_time": "2020-11-28T12:06:36.261749",
     "status": "completed"
    },
    "tags": []
   },
   "outputs": [],
   "source": [
    "#hide\n",
    "g.index.name = 'date'"
   ]
  },
  {
   "cell_type": "code",
   "execution_count": 24,
   "metadata": {
    "execution": {
     "iopub.execute_input": "2020-11-28T12:06:36.366167Z",
     "iopub.status.busy": "2020-11-28T12:06:36.365568Z",
     "iopub.status.idle": "2020-11-28T12:06:36.367315Z",
     "shell.execute_reply": "2020-11-28T12:06:36.367752Z"
    },
    "papermill": {
     "duration": 0.036696,
     "end_time": "2020-11-28T12:06:36.367877",
     "exception": false,
     "start_time": "2020-11-28T12:06:36.331181",
     "status": "completed"
    },
    "tags": []
   },
   "outputs": [],
   "source": [
    "# #hide\n",
    "# g = g.reset_index(['date'])"
   ]
  },
  {
   "cell_type": "code",
   "execution_count": 25,
   "metadata": {
    "execution": {
     "iopub.execute_input": "2020-11-28T12:06:36.432991Z",
     "iopub.status.busy": "2020-11-28T12:06:36.432399Z",
     "iopub.status.idle": "2020-11-28T12:06:36.435006Z",
     "shell.execute_reply": "2020-11-28T12:06:36.435484Z"
    },
    "papermill": {
     "duration": 0.037415,
     "end_time": "2020-11-28T12:06:36.435631",
     "exception": false,
     "start_time": "2020-11-28T12:06:36.398216",
     "status": "completed"
    },
    "tags": []
   },
   "outputs": [],
   "source": [
    "#hide\n",
    "# g.head()"
   ]
  },
  {
   "cell_type": "code",
   "execution_count": 26,
   "metadata": {
    "execution": {
     "iopub.execute_input": "2020-11-28T12:06:36.500480Z",
     "iopub.status.busy": "2020-11-28T12:06:36.499877Z",
     "iopub.status.idle": "2020-11-28T12:06:36.501812Z",
     "shell.execute_reply": "2020-11-28T12:06:36.502333Z"
    },
    "papermill": {
     "duration": 0.036238,
     "end_time": "2020-11-28T12:06:36.502457",
     "exception": false,
     "start_time": "2020-11-28T12:06:36.466219",
     "status": "completed"
    },
    "tags": []
   },
   "outputs": [],
   "source": [
    "#hide\n",
    "# g.columns = ['date','country','cases']"
   ]
  },
  {
   "cell_type": "code",
   "execution_count": 27,
   "metadata": {
    "execution": {
     "iopub.execute_input": "2020-11-28T12:06:36.568604Z",
     "iopub.status.busy": "2020-11-28T12:06:36.568030Z",
     "iopub.status.idle": "2020-11-28T12:06:36.570335Z",
     "shell.execute_reply": "2020-11-28T12:06:36.569837Z"
    },
    "papermill": {
     "duration": 0.037818,
     "end_time": "2020-11-28T12:06:36.570461",
     "exception": false,
     "start_time": "2020-11-28T12:06:36.532643",
     "status": "completed"
    },
    "tags": []
   },
   "outputs": [],
   "source": [
    "#hide\n",
    "# g['continent'] = g.country"
   ]
  },
  {
   "cell_type": "code",
   "execution_count": 28,
   "metadata": {
    "execution": {
     "iopub.execute_input": "2020-11-28T12:06:36.634673Z",
     "iopub.status.busy": "2020-11-28T12:06:36.634079Z",
     "iopub.status.idle": "2020-11-28T12:06:36.636519Z",
     "shell.execute_reply": "2020-11-28T12:06:36.637022Z"
    },
    "papermill": {
     "duration": 0.036666,
     "end_time": "2020-11-28T12:06:36.637164",
     "exception": false,
     "start_time": "2020-11-28T12:06:36.600498",
     "status": "completed"
    },
    "tags": []
   },
   "outputs": [],
   "source": [
    "#hide\n",
    "# cols = list(g.columns.values)"
   ]
  },
  {
   "cell_type": "code",
   "execution_count": 29,
   "metadata": {
    "execution": {
     "iopub.execute_input": "2020-11-28T12:06:36.701317Z",
     "iopub.status.busy": "2020-11-28T12:06:36.700714Z",
     "iopub.status.idle": "2020-11-28T12:06:36.703065Z",
     "shell.execute_reply": "2020-11-28T12:06:36.702567Z"
    },
    "papermill": {
     "duration": 0.036589,
     "end_time": "2020-11-28T12:06:36.703191",
     "exception": false,
     "start_time": "2020-11-28T12:06:36.666602",
     "status": "completed"
    },
    "tags": []
   },
   "outputs": [],
   "source": [
    "#hide\n",
    "# cols.insert(0, cols.pop())"
   ]
  },
  {
   "cell_type": "code",
   "execution_count": 30,
   "metadata": {
    "execution": {
     "iopub.execute_input": "2020-11-28T12:06:36.768354Z",
     "iopub.status.busy": "2020-11-28T12:06:36.767686Z",
     "iopub.status.idle": "2020-11-28T12:06:36.769437Z",
     "shell.execute_reply": "2020-11-28T12:06:36.769964Z"
    },
    "papermill": {
     "duration": 0.037174,
     "end_time": "2020-11-28T12:06:36.770130",
     "exception": false,
     "start_time": "2020-11-28T12:06:36.732956",
     "status": "completed"
    },
    "tags": []
   },
   "outputs": [],
   "source": [
    "#hide\n",
    "# g = g[cols]"
   ]
  },
  {
   "cell_type": "code",
   "execution_count": 31,
   "metadata": {
    "execution": {
     "iopub.execute_input": "2020-11-28T12:06:36.834870Z",
     "iopub.status.busy": "2020-11-28T12:06:36.834276Z",
     "iopub.status.idle": "2020-11-28T12:06:36.837248Z",
     "shell.execute_reply": "2020-11-28T12:06:36.837730Z"
    },
    "papermill": {
     "duration": 0.03705,
     "end_time": "2020-11-28T12:06:36.837887",
     "exception": false,
     "start_time": "2020-11-28T12:06:36.800837",
     "status": "completed"
    },
    "tags": []
   },
   "outputs": [],
   "source": [
    "#hide\n",
    "# g['continent'] = g['continent'].map(mapping['map.continent'])"
   ]
  },
  {
   "cell_type": "code",
   "execution_count": 32,
   "metadata": {
    "execution": {
     "iopub.execute_input": "2020-11-28T12:06:36.902651Z",
     "iopub.status.busy": "2020-11-28T12:06:36.902040Z",
     "iopub.status.idle": "2020-11-28T12:06:36.904218Z",
     "shell.execute_reply": "2020-11-28T12:06:36.904697Z"
    },
    "papermill": {
     "duration": 0.036791,
     "end_time": "2020-11-28T12:06:36.904843",
     "exception": false,
     "start_time": "2020-11-28T12:06:36.868052",
     "status": "completed"
    },
    "tags": []
   },
   "outputs": [],
   "source": [
    "#hide\n",
    "# g.head()"
   ]
  },
  {
   "cell_type": "code",
   "execution_count": 33,
   "metadata": {
    "execution": {
     "iopub.execute_input": "2020-11-28T12:06:36.969487Z",
     "iopub.status.busy": "2020-11-28T12:06:36.968870Z",
     "iopub.status.idle": "2020-11-28T12:06:36.971133Z",
     "shell.execute_reply": "2020-11-28T12:06:36.970647Z"
    },
    "papermill": {
     "duration": 0.035986,
     "end_time": "2020-11-28T12:06:36.971257",
     "exception": false,
     "start_time": "2020-11-28T12:06:36.935271",
     "status": "completed"
    },
    "tags": []
   },
   "outputs": [],
   "source": [
    "# hide\n",
    "# g['date'] = g['date'].astype('datetime64[ns]')"
   ]
  },
  {
   "cell_type": "code",
   "execution_count": 34,
   "metadata": {
    "execution": {
     "iopub.execute_input": "2020-11-28T12:06:37.035776Z",
     "iopub.status.busy": "2020-11-28T12:06:37.035232Z",
     "iopub.status.idle": "2020-11-28T12:06:37.037186Z",
     "shell.execute_reply": "2020-11-28T12:06:37.037692Z"
    },
    "papermill": {
     "duration": 0.03686,
     "end_time": "2020-11-28T12:06:37.037838",
     "exception": false,
     "start_time": "2020-11-28T12:06:37.000978",
     "status": "completed"
    },
    "tags": []
   },
   "outputs": [],
   "source": [
    "#hide\n",
    "# g['date'] = g.date.dt.dayofyear"
   ]
  },
  {
   "cell_type": "code",
   "execution_count": 35,
   "metadata": {
    "execution": {
     "iopub.execute_input": "2020-11-28T12:06:37.102471Z",
     "iopub.status.busy": "2020-11-28T12:06:37.101876Z",
     "iopub.status.idle": "2020-11-28T12:06:37.104137Z",
     "shell.execute_reply": "2020-11-28T12:06:37.103553Z"
    },
    "papermill": {
     "duration": 0.036378,
     "end_time": "2020-11-28T12:06:37.104266",
     "exception": false,
     "start_time": "2020-11-28T12:06:37.067888",
     "status": "completed"
    },
    "tags": []
   },
   "outputs": [],
   "source": [
    "#hide\n",
    "# g = g.rename(columns= {'continent':'group','country':'name','cases':'value'})"
   ]
  },
  {
   "cell_type": "code",
   "execution_count": 36,
   "metadata": {
    "execution": {
     "iopub.execute_input": "2020-11-28T12:06:37.168671Z",
     "iopub.status.busy": "2020-11-28T12:06:37.168085Z",
     "iopub.status.idle": "2020-11-28T12:06:37.170403Z",
     "shell.execute_reply": "2020-11-28T12:06:37.170819Z"
    },
    "papermill": {
     "duration": 0.035738,
     "end_time": "2020-11-28T12:06:37.170957",
     "exception": false,
     "start_time": "2020-11-28T12:06:37.135219",
     "status": "completed"
    },
    "tags": []
   },
   "outputs": [],
   "source": [
    "#hide\n",
    "# cols = ['name','group','day','value']"
   ]
  },
  {
   "cell_type": "code",
   "execution_count": 37,
   "metadata": {
    "execution": {
     "iopub.execute_input": "2020-11-28T12:06:37.235267Z",
     "iopub.status.busy": "2020-11-28T12:06:37.234564Z",
     "iopub.status.idle": "2020-11-28T12:06:37.236272Z",
     "shell.execute_reply": "2020-11-28T12:06:37.236771Z"
    },
    "papermill": {
     "duration": 0.03654,
     "end_time": "2020-11-28T12:06:37.236920",
     "exception": false,
     "start_time": "2020-11-28T12:06:37.200380",
     "status": "completed"
    },
    "tags": []
   },
   "outputs": [],
   "source": [
    "#hide\n",
    "# g.rename(columns= {'date':'day'},inplace = True)"
   ]
  },
  {
   "cell_type": "code",
   "execution_count": 38,
   "metadata": {
    "execution": {
     "iopub.execute_input": "2020-11-28T12:06:37.304985Z",
     "iopub.status.busy": "2020-11-28T12:06:37.304396Z",
     "iopub.status.idle": "2020-11-28T12:06:37.306261Z",
     "shell.execute_reply": "2020-11-28T12:06:37.306770Z"
    },
    "papermill": {
     "duration": 0.037388,
     "end_time": "2020-11-28T12:06:37.306906",
     "exception": false,
     "start_time": "2020-11-28T12:06:37.269518",
     "status": "completed"
    },
    "tags": []
   },
   "outputs": [],
   "source": [
    "#hide\n",
    "# g = g[cols]"
   ]
  },
  {
   "cell_type": "code",
   "execution_count": 39,
   "metadata": {
    "execution": {
     "iopub.execute_input": "2020-11-28T12:06:37.378028Z",
     "iopub.status.busy": "2020-11-28T12:06:37.377271Z",
     "iopub.status.idle": "2020-11-28T12:06:37.378812Z",
     "shell.execute_reply": "2020-11-28T12:06:37.379465Z"
    },
    "papermill": {
     "duration": 0.037934,
     "end_time": "2020-11-28T12:06:37.379639",
     "exception": false,
     "start_time": "2020-11-28T12:06:37.341705",
     "status": "completed"
    },
    "tags": []
   },
   "outputs": [],
   "source": [
    "# #hide\n",
    "# g = g[g.group.notna()]"
   ]
  },
  {
   "cell_type": "code",
   "execution_count": 40,
   "metadata": {
    "execution": {
     "iopub.execute_input": "2020-11-28T12:06:37.446941Z",
     "iopub.status.busy": "2020-11-28T12:06:37.446305Z",
     "iopub.status.idle": "2020-11-28T12:06:37.448566Z",
     "shell.execute_reply": "2020-11-28T12:06:37.448128Z"
    },
    "papermill": {
     "duration": 0.037572,
     "end_time": "2020-11-28T12:06:37.448687",
     "exception": false,
     "start_time": "2020-11-28T12:06:37.411115",
     "status": "completed"
    },
    "tags": []
   },
   "outputs": [],
   "source": [
    "# #hide\n",
    "# colors = dict(zip(\n",
    "#     [\"Oceania\", \"Europe\", \"Asia\", \"South America\", \"Middle East\", \"North America\", \"Africa\"],\n",
    "#     [\"#adb0ff\", \"#ffb3ff\", \"#90d595\", \"#e48381\", \"#aafbff\", \"#f7bb5f\", \"#eafb50\"]\n",
    "# ))\n",
    "# group_lk = g.set_index('name')['group'].to_dict()"
   ]
  },
  {
   "cell_type": "code",
   "execution_count": null,
   "metadata": {
    "papermill": {
     "duration": 0.030816,
     "end_time": "2020-11-28T12:06:37.510180",
     "exception": false,
     "start_time": "2020-11-28T12:06:37.479364",
     "status": "completed"
    },
    "tags": []
   },
   "outputs": [],
   "source": []
  },
  {
   "cell_type": "code",
   "execution_count": 41,
   "metadata": {
    "execution": {
     "iopub.execute_input": "2020-11-28T12:06:37.578859Z",
     "iopub.status.busy": "2020-11-28T12:06:37.578262Z",
     "iopub.status.idle": "2020-11-28T12:06:37.581090Z",
     "shell.execute_reply": "2020-11-28T12:06:37.580278Z"
    },
    "papermill": {
     "duration": 0.037157,
     "end_time": "2020-11-28T12:06:37.581231",
     "exception": false,
     "start_time": "2020-11-28T12:06:37.544074",
     "status": "completed"
    },
    "tags": []
   },
   "outputs": [],
   "source": [
    "# #hide\n",
    "# fig, ax = plt.subplots(figsize=(15, 8))\n",
    "\n",
    "# def draw_barchart(current_day):\n",
    "#     dff = g[g['day'].eq(current_day)].sort_values(by='value', ascending=True).tail(10)\n",
    "#     ax.clear()\n",
    "#     ax.barh(dff['name'], dff['value'], color=[colors[group_lk[x]] for x in dff['name']])\n",
    "#     dx = dff['value'].max() / 200\n",
    "    \n",
    "#     for i, (value, name) in enumerate(zip(dff['value'], dff['name'])):\n",
    "#         ax.text(value-dx, i,     name,           size=14, weight=600, ha='right', va='bottom')\n",
    "#         ax.text(value-dx, i-.25, group_lk[name], size=10, color='#444444', ha='right', va='baseline')\n",
    "#         ax.text(value+dx, i,     f'{value:,.0f}',  size=14, ha='left',  va='center')\n",
    "#     ax.text(1, 0.4, current_day, transform=ax.transAxes, color='#777777', size=46, ha='right', weight=800)\n",
    "#     ax.text(0, 1.06, 'Population (thousands)', transform=ax.transAxes, size=12, color='#777777')\n",
    "#     ax.xaxis.set_major_formatter(ticker.StrMethodFormatter('{x:,.0f}'))\n",
    "#     ax.xaxis.set_ticks_position('top')\n",
    "#     ax.tick_params(axis='x', colors='#777777', labelsize=12)\n",
    "#     ax.set_yticks([])\n",
    "#     ax.margins(0, 0.01)\n",
    "#     ax.grid(which='major', axis='x', linestyle='-')\n",
    "#     ax.set_axisbelow(True)\n",
    "    \n",
    "#     ax.text(0, 1.15, 'Coronavirus',\n",
    "#             transform=ax.transAxes, size=24, weight=600, ha='left', va='top')\n",
    "# #     ax.text(1, 0, 'by @pratapvardhan; credit @jburnmurdoch', transform=ax.transAxes, color='#777777', ha='right',\n",
    "# #             bbox=dict(facecolor='white', alpha=0.8, edgecolor='white'))\n",
    "#     plt.box(False)"
   ]
  },
  {
   "cell_type": "code",
   "execution_count": 42,
   "metadata": {
    "execution": {
     "iopub.execute_input": "2020-11-28T12:06:37.895242Z",
     "iopub.status.busy": "2020-11-28T12:06:37.894522Z",
     "iopub.status.idle": "2020-11-28T12:06:37.899215Z",
     "shell.execute_reply": "2020-11-28T12:06:37.898676Z"
    },
    "papermill": {
     "duration": 0.285906,
     "end_time": "2020-11-28T12:06:37.899440",
     "exception": false,
     "start_time": "2020-11-28T12:06:37.613534",
     "status": "completed"
    },
    "tags": []
   },
   "outputs": [],
   "source": [
    "# #hide_input\n",
    "# fig, ax = plt.subplots(figsize=(15, 8))\n",
    "# animator = animation.FuncAnimation(fig, draw_barchart, frames=range(g.day.values.min(), g.day.values.max()))\n",
    "# HTML(animator.to_jshtml())\n",
    "# # or use animator.to_html5_video() or animator.save() "
   ]
  },
  {
   "cell_type": "code",
   "execution_count": null,
   "metadata": {
    "papermill": {
     "duration": 0.0316,
     "end_time": "2020-11-28T12:06:38.872116",
     "exception": false,
     "start_time": "2020-11-28T12:06:38.840516",
     "status": "completed"
    },
    "tags": []
   },
   "outputs": [],
   "source": []
  },
  {
   "cell_type": "code",
   "execution_count": null,
   "metadata": {
    "papermill": {
     "duration": 0.030499,
     "end_time": "2020-11-28T12:06:38.933298",
     "exception": false,
     "start_time": "2020-11-28T12:06:38.902799",
     "status": "completed"
    },
    "tags": []
   },
   "outputs": [],
   "source": []
  },
  {
   "cell_type": "code",
   "execution_count": null,
   "metadata": {
    "papermill": {
     "duration": 0.031159,
     "end_time": "2020-11-28T12:06:38.995718",
     "exception": false,
     "start_time": "2020-11-28T12:06:38.964559",
     "status": "completed"
    },
    "tags": []
   },
   "outputs": [],
   "source": []
  }
 ],
 "metadata": {
  "kernelspec": {
   "display_name": "Python 3",
   "language": "python",
   "name": "python3"
  },
  "language_info": {
   "codemirror_mode": {
    "name": "ipython",
    "version": 3
   },
   "file_extension": ".py",
   "mimetype": "text/x-python",
   "name": "python",
   "nbconvert_exporter": "python",
   "pygments_lexer": "ipython3",
   "version": "3.6.12"
  },
  "papermill": {
   "duration": 8.952701,
   "end_time": "2020-11-28T12:06:39.335879",
   "environment_variables": {},
   "exception": null,
   "input_path": "2020-03-21-covid19exp.ipynb",
   "output_path": "2020-03-21-covid19exp.ipynb",
   "parameters": {},
   "start_time": "2020-11-28T12:06:30.383178",
   "version": "2.0.0"
  }
 },
 "nbformat": 4,
 "nbformat_minor": 4
}