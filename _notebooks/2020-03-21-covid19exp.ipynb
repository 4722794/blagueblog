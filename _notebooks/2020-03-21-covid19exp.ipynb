{
 "cells": [
  {
   "cell_type": "markdown",
   "id": "muslim-click",
   "metadata": {
    "papermill": {
     "duration": 0.035238,
     "end_time": "2022-10-29T00:42:28.649243",
     "exception": false,
     "start_time": "2022-10-29T00:42:28.614005",
     "status": "completed"
    },
    "tags": []
   },
   "source": [
    "# COVID-19 Case Race\n",
    "> A race chart to see rising cases around the world\n",
    "\n",
    "- author: Hargun Oberoi\n",
    "- image: images/covid-overview.png\n",
    "- hide: false\n",
    "- badges: false"
   ]
  },
  {
   "cell_type": "code",
   "execution_count": 1,
   "id": "proof-material",
   "metadata": {
    "execution": {
     "iopub.execute_input": "2022-10-29T00:42:28.718280Z",
     "iopub.status.busy": "2022-10-29T00:42:28.717638Z",
     "iopub.status.idle": "2022-10-29T00:42:29.053809Z",
     "shell.execute_reply": "2022-10-29T00:42:29.054317Z"
    },
    "papermill": {
     "duration": 0.375252,
     "end_time": "2022-10-29T00:42:29.054508",
     "exception": false,
     "start_time": "2022-10-29T00:42:28.679256",
     "status": "completed"
    },
    "tags": []
   },
   "outputs": [],
   "source": [
    "#hide\n",
    "import numpy as np\n",
    "import pandas as pd\n",
    "from jinja2 import Template\n",
    "from IPython.display import HTML"
   ]
  },
  {
   "cell_type": "code",
   "execution_count": 2,
   "id": "developed-terminology",
   "metadata": {
    "execution": {
     "iopub.execute_input": "2022-10-29T00:42:29.118898Z",
     "iopub.status.busy": "2022-10-29T00:42:29.118284Z",
     "iopub.status.idle": "2022-10-29T00:42:29.120624Z",
     "shell.execute_reply": "2022-10-29T00:42:29.121096Z"
    },
    "papermill": {
     "duration": 0.037153,
     "end_time": "2022-10-29T00:42:29.121228",
     "exception": false,
     "start_time": "2022-10-29T00:42:29.084075",
     "status": "completed"
    },
    "tags": []
   },
   "outputs": [],
   "source": [
    "#hide\n",
    "\n",
    "# FETCH\n",
    "base_url = 'https://raw.githubusercontent.com/pratapvardhan/notebooks/master/covid19/'\n",
    "paths = {\n",
    "    'mapping': base_url + 'mapping_countries.csv',\n",
    "    'overview': base_url + 'overview.tpl'\n",
    "}"
   ]
  },
  {
   "cell_type": "code",
   "execution_count": 3,
   "id": "dynamic-saver",
   "metadata": {
    "execution": {
     "iopub.execute_input": "2022-10-29T00:42:29.189539Z",
     "iopub.status.busy": "2022-10-29T00:42:29.186860Z",
     "iopub.status.idle": "2022-10-29T00:42:29.192888Z",
     "shell.execute_reply": "2022-10-29T00:42:29.192421Z"
    },
    "papermill": {
     "duration": 0.042742,
     "end_time": "2022-10-29T00:42:29.192996",
     "exception": false,
     "start_time": "2022-10-29T00:42:29.150254",
     "status": "completed"
    },
    "tags": []
   },
   "outputs": [
    {
     "data": {
      "text/plain": [
       "'https://raw.githubusercontent.com/pratapvardhan/notebooks/master/covid19/mapping_countries.csv'"
      ]
     },
     "execution_count": 3,
     "metadata": {},
     "output_type": "execute_result"
    }
   ],
   "source": [
    "#hide\n",
    "paths['mapping']"
   ]
  },
  {
   "cell_type": "code",
   "execution_count": 4,
   "id": "urban-software",
   "metadata": {
    "execution": {
     "iopub.execute_input": "2022-10-29T00:42:29.257260Z",
     "iopub.status.busy": "2022-10-29T00:42:29.256586Z",
     "iopub.status.idle": "2022-10-29T00:42:29.259047Z",
     "shell.execute_reply": "2022-10-29T00:42:29.258396Z"
    },
    "papermill": {
     "duration": 0.036764,
     "end_time": "2022-10-29T00:42:29.259169",
     "exception": false,
     "start_time": "2022-10-29T00:42:29.222405",
     "status": "completed"
    },
    "tags": []
   },
   "outputs": [],
   "source": [
    "#hide\n",
    "def get_mappings(url):\n",
    "    df = pd.read_csv(url)\n",
    "    return {\n",
    "        'df': df,\n",
    "        'replace.country': dict(df.dropna(subset=['Name']).set_index('Country')['Name']),\n",
    "        'map.continent': dict(df.set_index('Name')['Continent'])\n",
    "    }"
   ]
  },
  {
   "cell_type": "code",
   "execution_count": 5,
   "id": "intimate-machinery",
   "metadata": {
    "execution": {
     "iopub.execute_input": "2022-10-29T00:42:29.322759Z",
     "iopub.status.busy": "2022-10-29T00:42:29.322150Z",
     "iopub.status.idle": "2022-10-29T00:42:29.369048Z",
     "shell.execute_reply": "2022-10-29T00:42:29.368483Z"
    },
    "papermill": {
     "duration": 0.080664,
     "end_time": "2022-10-29T00:42:29.369181",
     "exception": false,
     "start_time": "2022-10-29T00:42:29.288517",
     "status": "completed"
    },
    "tags": []
   },
   "outputs": [],
   "source": [
    "#hide\n",
    "mapping = get_mappings(paths['mapping'])"
   ]
  },
  {
   "cell_type": "code",
   "execution_count": 6,
   "id": "certified-tactics",
   "metadata": {
    "execution": {
     "iopub.execute_input": "2022-10-29T00:42:29.433626Z",
     "iopub.status.busy": "2022-10-29T00:42:29.431238Z",
     "iopub.status.idle": "2022-10-29T00:42:29.435577Z",
     "shell.execute_reply": "2022-10-29T00:42:29.436126Z"
    },
    "papermill": {
     "duration": 0.03723,
     "end_time": "2022-10-29T00:42:29.436248",
     "exception": false,
     "start_time": "2022-10-29T00:42:29.399018",
     "status": "completed"
    },
    "tags": []
   },
   "outputs": [],
   "source": [
    "#hide\n",
    "def get_template(path):\n",
    "    from urllib.parse import urlparse\n",
    "    if bool(urlparse(path).netloc):\n",
    "        from urllib.request import urlopen\n",
    "        return urlopen(path).read().decode('utf8')\n",
    "    return open(path).read()"
   ]
  },
  {
   "cell_type": "code",
   "execution_count": 7,
   "id": "realistic-blast",
   "metadata": {
    "execution": {
     "iopub.execute_input": "2022-10-29T00:42:29.499727Z",
     "iopub.status.busy": "2022-10-29T00:42:29.499150Z",
     "iopub.status.idle": "2022-10-29T00:42:29.501174Z",
     "shell.execute_reply": "2022-10-29T00:42:29.501724Z"
    },
    "papermill": {
     "duration": 0.036392,
     "end_time": "2022-10-29T00:42:29.501846",
     "exception": false,
     "start_time": "2022-10-29T00:42:29.465454",
     "status": "completed"
    },
    "tags": []
   },
   "outputs": [],
   "source": [
    "#hide\n",
    "def get_frame(name):\n",
    "    url = (\n",
    "        'https://raw.githubusercontent.com/CSSEGISandData/COVID-19/master/csse_covid_19_data/'\n",
    "        f'csse_covid_19_time_series/time_series_covid19_{name}_global.csv')\n",
    "    df = pd.read_csv(url)\n",
    "    # rename countries\n",
    "    df['Country/Region'] = df['Country/Region'].replace(mapping['replace.country'])\n",
    "    return df"
   ]
  },
  {
   "cell_type": "code",
   "execution_count": 8,
   "id": "affiliated-characterization",
   "metadata": {
    "execution": {
     "iopub.execute_input": "2022-10-29T00:42:29.566905Z",
     "iopub.status.busy": "2022-10-29T00:42:29.566313Z",
     "iopub.status.idle": "2022-10-29T00:42:29.568698Z",
     "shell.execute_reply": "2022-10-29T00:42:29.569175Z"
    },
    "papermill": {
     "duration": 0.037787,
     "end_time": "2022-10-29T00:42:29.569294",
     "exception": false,
     "start_time": "2022-10-29T00:42:29.531507",
     "status": "completed"
    },
    "tags": []
   },
   "outputs": [],
   "source": [
    "#hide\n",
    "def get_dates(df):\n",
    "    dt_cols = df.columns[~df.columns.isin(['Province/State', 'Country/Region', 'Lat', 'Long'])]\n",
    "    LAST_DATE_I = -1\n",
    "    # sometimes last column may be empty, then go backwards\n",
    "    for i in range(-1, -len(dt_cols), -1):\n",
    "        if not df[dt_cols[i]].fillna(0).eq(0).all():\n",
    "            LAST_DATE_I = i\n",
    "            break\n",
    "    return LAST_DATE_I, dt_cols"
   ]
  },
  {
   "cell_type": "code",
   "execution_count": 9,
   "id": "recent-optimization",
   "metadata": {
    "execution": {
     "iopub.execute_input": "2022-10-29T00:42:29.636385Z",
     "iopub.status.busy": "2022-10-29T00:42:29.635779Z",
     "iopub.status.idle": "2022-10-29T00:42:30.191979Z",
     "shell.execute_reply": "2022-10-29T00:42:30.190744Z"
    },
    "papermill": {
     "duration": 0.593656,
     "end_time": "2022-10-29T00:42:30.192119",
     "exception": false,
     "start_time": "2022-10-29T00:42:29.598463",
     "status": "completed"
    },
    "tags": []
   },
   "outputs": [],
   "source": [
    "#hide\n",
    "COL_REGION = 'Country/Region'\n",
    "# Confirmed, Recovered, Deaths\n",
    "df = get_frame('confirmed')\n",
    "# dft_: timeseries, dfc_: today country agg\n",
    "dft_cases = df\n",
    "dft_deaths = get_frame('deaths')\n",
    "dft_recovered = get_frame('recovered')\n",
    "LAST_DATE_I, dt_cols = get_dates(df)"
   ]
  },
  {
   "cell_type": "code",
   "execution_count": 10,
   "id": "absolute-copper",
   "metadata": {
    "execution": {
     "iopub.execute_input": "2022-10-29T00:42:30.256982Z",
     "iopub.status.busy": "2022-10-29T00:42:30.256374Z",
     "iopub.status.idle": "2022-10-29T00:42:30.258724Z",
     "shell.execute_reply": "2022-10-29T00:42:30.258123Z"
    },
    "papermill": {
     "duration": 0.036937,
     "end_time": "2022-10-29T00:42:30.258841",
     "exception": false,
     "start_time": "2022-10-29T00:42:30.221904",
     "status": "completed"
    },
    "tags": []
   },
   "outputs": [],
   "source": [
    "#hide\n",
    "LAST_DATE_I, dt_cols = get_dates(df)\n",
    "dt_today =dt_cols[LAST_DATE_I]\n",
    "# dt_5day = dt_cols[LAST_DATE_I - 5]\n",
    "dt_yday = dt_cols[LAST_DATE_I - 1]"
   ]
  },
  {
   "cell_type": "code",
   "execution_count": 11,
   "id": "restricted-sheriff",
   "metadata": {
    "execution": {
     "iopub.execute_input": "2022-10-29T00:42:30.323048Z",
     "iopub.status.busy": "2022-10-29T00:42:30.322469Z",
     "iopub.status.idle": "2022-10-29T00:42:30.330052Z",
     "shell.execute_reply": "2022-10-29T00:42:30.330564Z"
    },
    "papermill": {
     "duration": 0.042675,
     "end_time": "2022-10-29T00:42:30.330700",
     "exception": false,
     "start_time": "2022-10-29T00:42:30.288025",
     "status": "completed"
    },
    "tags": []
   },
   "outputs": [],
   "source": [
    "#hide\n",
    "dfc_cases = dft_cases.groupby(COL_REGION)[dt_today].sum()\n",
    "dfc_deaths = dft_deaths.groupby(COL_REGION)[dt_today].sum()\n",
    "# dfp_cases = dft_cases.groupby(COL_REGION)[dt_5day].sum()\n",
    "# dfp_deaths = dft_deaths.groupby(COL_REGION)[dt_5day].sum()\n",
    "dfp_cases = dft_cases.groupby(COL_REGION)[dt_yday].sum()\n",
    "dfp_deaths = dft_deaths.groupby(COL_REGION)[dt_yday].sum()"
   ]
  },
  {
   "cell_type": "code",
   "execution_count": 12,
   "id": "deluxe-hepatitis",
   "metadata": {
    "execution": {
     "iopub.execute_input": "2022-10-29T00:42:30.395271Z",
     "iopub.status.busy": "2022-10-29T00:42:30.394695Z",
     "iopub.status.idle": "2022-10-29T00:42:30.399376Z",
     "shell.execute_reply": "2022-10-29T00:42:30.399843Z"
    },
    "papermill": {
     "duration": 0.039971,
     "end_time": "2022-10-29T00:42:30.399959",
     "exception": false,
     "start_time": "2022-10-29T00:42:30.359988",
     "status": "completed"
    },
    "tags": []
   },
   "outputs": [],
   "source": [
    "#hide\n",
    "df_table = (pd.DataFrame(dict(Cases = dfc_cases, Deaths = dfc_deaths, PCases = dfp_cases, PDeaths = dfp_deaths))\n",
    "            .sort_values(by = ['Cases','Deaths'], ascending = [False, False])\n",
    "            .reset_index())"
   ]
  },
  {
   "cell_type": "code",
   "execution_count": 13,
   "id": "educational-chancellor",
   "metadata": {
    "execution": {
     "iopub.execute_input": "2022-10-29T00:42:30.476552Z",
     "iopub.status.busy": "2022-10-29T00:42:30.475967Z",
     "iopub.status.idle": "2022-10-29T00:42:30.483842Z",
     "shell.execute_reply": "2022-10-29T00:42:30.483379Z"
    },
    "papermill": {
     "duration": 0.054852,
     "end_time": "2022-10-29T00:42:30.483953",
     "exception": false,
     "start_time": "2022-10-29T00:42:30.429101",
     "status": "completed"
    },
    "tags": []
   },
   "outputs": [
    {
     "data": {
      "text/html": [
       "<div>\n",
       "<style scoped>\n",
       "    .dataframe tbody tr th:only-of-type {\n",
       "        vertical-align: middle;\n",
       "    }\n",
       "\n",
       "    .dataframe tbody tr th {\n",
       "        vertical-align: top;\n",
       "    }\n",
       "\n",
       "    .dataframe thead th {\n",
       "        text-align: right;\n",
       "    }\n",
       "</style>\n",
       "<table border=\"1\" class=\"dataframe\">\n",
       "  <thead>\n",
       "    <tr style=\"text-align: right;\">\n",
       "      <th></th>\n",
       "      <th>Country/Region</th>\n",
       "      <th>Cases</th>\n",
       "      <th>Deaths</th>\n",
       "      <th>PCases</th>\n",
       "      <th>PDeaths</th>\n",
       "      <th>Cases (+)</th>\n",
       "      <th>Deaths (+)</th>\n",
       "      <th>Fatality Rate</th>\n",
       "      <th>Continent</th>\n",
       "    </tr>\n",
       "  </thead>\n",
       "  <tbody>\n",
       "    <tr>\n",
       "      <th>0</th>\n",
       "      <td>US</td>\n",
       "      <td>97410671</td>\n",
       "      <td>1070055</td>\n",
       "      <td>97353863</td>\n",
       "      <td>1069516</td>\n",
       "      <td>56808</td>\n",
       "      <td>539</td>\n",
       "      <td>1.10</td>\n",
       "      <td>North America</td>\n",
       "    </tr>\n",
       "    <tr>\n",
       "      <th>1</th>\n",
       "      <td>India</td>\n",
       "      <td>44649088</td>\n",
       "      <td>528999</td>\n",
       "      <td>44646880</td>\n",
       "      <td>528987</td>\n",
       "      <td>2208</td>\n",
       "      <td>12</td>\n",
       "      <td>1.18</td>\n",
       "      <td>Asia</td>\n",
       "    </tr>\n",
       "    <tr>\n",
       "      <th>2</th>\n",
       "      <td>France</td>\n",
       "      <td>36962135</td>\n",
       "      <td>157811</td>\n",
       "      <td>36925046</td>\n",
       "      <td>157740</td>\n",
       "      <td>37089</td>\n",
       "      <td>71</td>\n",
       "      <td>0.43</td>\n",
       "      <td>Europe</td>\n",
       "    </tr>\n",
       "    <tr>\n",
       "      <th>3</th>\n",
       "      <td>Germany</td>\n",
       "      <td>35523412</td>\n",
       "      <td>153377</td>\n",
       "      <td>35461920</td>\n",
       "      <td>153193</td>\n",
       "      <td>61492</td>\n",
       "      <td>184</td>\n",
       "      <td>0.43</td>\n",
       "      <td>Europe</td>\n",
       "    </tr>\n",
       "    <tr>\n",
       "      <th>4</th>\n",
       "      <td>Brazil</td>\n",
       "      <td>34815258</td>\n",
       "      <td>687962</td>\n",
       "      <td>34807075</td>\n",
       "      <td>687907</td>\n",
       "      <td>8183</td>\n",
       "      <td>55</td>\n",
       "      <td>1.98</td>\n",
       "      <td>South America</td>\n",
       "    </tr>\n",
       "  </tbody>\n",
       "</table>\n",
       "</div>"
      ],
      "text/plain": [
       "  Country/Region     Cases   Deaths    PCases  PDeaths  Cases (+)  Deaths (+)  \\\n",
       "0             US  97410671  1070055  97353863  1069516      56808         539   \n",
       "1          India  44649088   528999  44646880   528987       2208          12   \n",
       "2         France  36962135   157811  36925046   157740      37089          71   \n",
       "3        Germany  35523412   153377  35461920   153193      61492         184   \n",
       "4         Brazil  34815258   687962  34807075   687907       8183          55   \n",
       "\n",
       "   Fatality Rate      Continent  \n",
       "0           1.10  North America  \n",
       "1           1.18           Asia  \n",
       "2           0.43         Europe  \n",
       "3           0.43         Europe  \n",
       "4           1.98  South America  "
      ]
     },
     "execution_count": 13,
     "metadata": {},
     "output_type": "execute_result"
    }
   ],
   "source": [
    "#hide\n",
    "for c in 'Cases, Deaths'.split(', '):\n",
    "    df_table[f'{c} (+)'] = (df_table[c] - df_table[f'P{c}']).clip(0)\n",
    "    #Clip ça veut dire, les chiffres negatif sont interdit\n",
    "df_table['Fatality Rate'] = (100* df_table['Deaths']/ df_table['Cases']).round(2)\n",
    "df_table['Continent'] = df_table['Country/Region'].map(mapping['map.continent'])\n",
    "df_table.head(5)"
   ]
  },
  {
   "cell_type": "code",
   "execution_count": 14,
   "id": "aboriginal-bulgaria",
   "metadata": {
    "execution": {
     "iopub.execute_input": "2022-10-29T00:42:30.549525Z",
     "iopub.status.busy": "2022-10-29T00:42:30.548946Z",
     "iopub.status.idle": "2022-10-29T00:42:30.551919Z",
     "shell.execute_reply": "2022-10-29T00:42:30.552469Z"
    },
    "papermill": {
     "duration": 0.038585,
     "end_time": "2022-10-29T00:42:30.552598",
     "exception": false,
     "start_time": "2022-10-29T00:42:30.514013",
     "status": "completed"
    },
    "tags": []
   },
   "outputs": [],
   "source": [
    "#hide\n",
    "#delete problematic countries from table\n",
    "df_table = df_table[~df_table['Country/Region'].isin(['Cape Verde', 'Cruise Ship', 'Kosovo'])]"
   ]
  },
  {
   "cell_type": "code",
   "execution_count": 15,
   "id": "fantastic-effect",
   "metadata": {
    "execution": {
     "iopub.execute_input": "2022-10-29T00:42:30.619616Z",
     "iopub.status.busy": "2022-10-29T00:42:30.619044Z",
     "iopub.status.idle": "2022-10-29T00:42:30.638047Z",
     "shell.execute_reply": "2022-10-29T00:42:30.637401Z"
    },
    "papermill": {
     "duration": 0.055845,
     "end_time": "2022-10-29T00:42:30.638170",
     "exception": false,
     "start_time": "2022-10-29T00:42:30.582325",
     "status": "completed"
    },
    "tags": []
   },
   "outputs": [
    {
     "data": {
      "text/html": [
       "<div>\n",
       "<style scoped>\n",
       "    .dataframe tbody tr th:only-of-type {\n",
       "        vertical-align: middle;\n",
       "    }\n",
       "\n",
       "    .dataframe tbody tr th {\n",
       "        vertical-align: top;\n",
       "    }\n",
       "\n",
       "    .dataframe thead th {\n",
       "        text-align: right;\n",
       "    }\n",
       "</style>\n",
       "<table border=\"1\" class=\"dataframe\">\n",
       "  <thead>\n",
       "    <tr style=\"text-align: right;\">\n",
       "      <th></th>\n",
       "      <th>Country/Region</th>\n",
       "      <th>Cases</th>\n",
       "      <th>Deaths</th>\n",
       "      <th>PCases</th>\n",
       "      <th>PDeaths</th>\n",
       "      <th>Cases (+)</th>\n",
       "      <th>Deaths (+)</th>\n",
       "      <th>Fatality Rate</th>\n",
       "      <th>Continent</th>\n",
       "    </tr>\n",
       "  </thead>\n",
       "  <tbody>\n",
       "    <tr>\n",
       "      <th>0</th>\n",
       "      <td>US</td>\n",
       "      <td>97410671</td>\n",
       "      <td>1070055</td>\n",
       "      <td>97353863</td>\n",
       "      <td>1069516</td>\n",
       "      <td>56808</td>\n",
       "      <td>539</td>\n",
       "      <td>1.1</td>\n",
       "      <td>North America</td>\n",
       "    </tr>\n",
       "    <tr>\n",
       "      <th>1</th>\n",
       "      <td>India</td>\n",
       "      <td>44649088</td>\n",
       "      <td>528999</td>\n",
       "      <td>44646880</td>\n",
       "      <td>528987</td>\n",
       "      <td>2208</td>\n",
       "      <td>12</td>\n",
       "      <td>1.2</td>\n",
       "      <td>Asia</td>\n",
       "    </tr>\n",
       "    <tr>\n",
       "      <th>2</th>\n",
       "      <td>France</td>\n",
       "      <td>36962135</td>\n",
       "      <td>157811</td>\n",
       "      <td>36925046</td>\n",
       "      <td>157740</td>\n",
       "      <td>37089</td>\n",
       "      <td>71</td>\n",
       "      <td>0.4</td>\n",
       "      <td>Europe</td>\n",
       "    </tr>\n",
       "    <tr>\n",
       "      <th>3</th>\n",
       "      <td>Germany</td>\n",
       "      <td>35523412</td>\n",
       "      <td>153377</td>\n",
       "      <td>35461920</td>\n",
       "      <td>153193</td>\n",
       "      <td>61492</td>\n",
       "      <td>184</td>\n",
       "      <td>0.4</td>\n",
       "      <td>Europe</td>\n",
       "    </tr>\n",
       "    <tr>\n",
       "      <th>4</th>\n",
       "      <td>Brazil</td>\n",
       "      <td>34815258</td>\n",
       "      <td>687962</td>\n",
       "      <td>34807075</td>\n",
       "      <td>687907</td>\n",
       "      <td>8183</td>\n",
       "      <td>55</td>\n",
       "      <td>2.0</td>\n",
       "      <td>South America</td>\n",
       "    </tr>\n",
       "  </tbody>\n",
       "</table>\n",
       "</div>"
      ],
      "text/plain": [
       "  Country/Region     Cases   Deaths    PCases  PDeaths  Cases (+)  Deaths (+)  \\\n",
       "0             US  97410671  1070055  97353863  1069516      56808         539   \n",
       "1          India  44649088   528999  44646880   528987       2208          12   \n",
       "2         France  36962135   157811  36925046   157740      37089          71   \n",
       "3        Germany  35523412   153377  35461920   153193      61492         184   \n",
       "4         Brazil  34815258   687962  34807075   687907       8183          55   \n",
       "\n",
       "   Fatality Rate      Continent  \n",
       "0            1.1  North America  \n",
       "1            1.2           Asia  \n",
       "2            0.4         Europe  \n",
       "3            0.4         Europe  \n",
       "4            2.0  South America  "
      ]
     },
     "execution_count": 15,
     "metadata": {},
     "output_type": "execute_result"
    }
   ],
   "source": [
    "#hide\n",
    "df_table = (pd.DataFrame(dict(Cases=dfc_cases, Deaths=dfc_deaths, PCases=dfp_cases, PDeaths=dfp_deaths))\n",
    "             .sort_values(by=['Cases', 'Deaths'], ascending=[False, False])\n",
    "             .reset_index())\n",
    "df_table.rename(columns={'index': 'Country/Region'}, inplace=True)\n",
    "for c in 'Cases, Deaths'.split(', '):\n",
    "    df_table[f'{c} (+)'] = (df_table[c] - df_table[f'P{c}']).clip(0)  # DATA BUG\n",
    "df_table['Fatality Rate'] = (100 * df_table['Deaths'] / df_table['Cases']).round(1)\n",
    "df_table['Continent'] = df_table['Country/Region'].map(mapping['map.continent'])\n",
    "df_table.head(5)"
   ]
  },
  {
   "cell_type": "code",
   "execution_count": 16,
   "id": "fewer-occasion",
   "metadata": {
    "execution": {
     "iopub.execute_input": "2022-10-29T00:42:30.705237Z",
     "iopub.status.busy": "2022-10-29T00:42:30.704658Z",
     "iopub.status.idle": "2022-10-29T00:42:30.707242Z",
     "shell.execute_reply": "2022-10-29T00:42:30.707714Z"
    },
    "papermill": {
     "duration": 0.03847,
     "end_time": "2022-10-29T00:42:30.707832",
     "exception": false,
     "start_time": "2022-10-29T00:42:30.669362",
     "status": "completed"
    },
    "tags": []
   },
   "outputs": [],
   "source": [
    "#hide\n",
    "#delete problematic countries from table\n",
    "df_table = df_table[~df_table['Country/Region'].isin(['Cape Verde', 'Cruise Ship', 'Kosovo'])]"
   ]
  },
  {
   "cell_type": "code",
   "execution_count": 17,
   "id": "related-center",
   "metadata": {
    "execution": {
     "iopub.execute_input": "2022-10-29T00:42:30.775631Z",
     "iopub.status.busy": "2022-10-29T00:42:30.775049Z",
     "iopub.status.idle": "2022-10-29T00:42:30.788779Z",
     "shell.execute_reply": "2022-10-29T00:42:30.788218Z"
    },
    "papermill": {
     "duration": 0.050852,
     "end_time": "2022-10-29T00:42:30.788888",
     "exception": false,
     "start_time": "2022-10-29T00:42:30.738036",
     "status": "completed"
    },
    "tags": []
   },
   "outputs": [],
   "source": [
    "#hide\n",
    "metrics = [df_table.columns[index] for index in [1,2,5,6]]\n",
    "# s_china = df_table[df_table['Country/Region'].eq('China')][metrics].sum().add_prefix('China ')\n",
    "s_us = df_table[df_table['Country/Region'].eq('US')][metrics].sum().add_prefix('US ')\n",
    "s_eu = df_table[df_table['Continent'].eq('Europe')][metrics].sum().add_prefix('EU ')\n",
    "s_ind = df_table[df_table['Country/Region'].eq('India')][metrics].sum().add_prefix('India ')\n",
    "summary = {'updated': pd.to_datetime(dt_today), 'since': pd.to_datetime(dt_yday)}\n",
    "summary = {'updated': pd.to_datetime(dt_today), 'since': pd.to_datetime(dt_yday)}\n",
    "summary = {**summary, **df_table[metrics].sum(), **s_ind, **s_us, **s_eu}"
   ]
  },
  {
   "cell_type": "code",
   "execution_count": 18,
   "id": "engaging-syndrome",
   "metadata": {
    "execution": {
     "iopub.execute_input": "2022-10-29T00:42:30.854620Z",
     "iopub.status.busy": "2022-10-29T00:42:30.853998Z",
     "iopub.status.idle": "2022-10-29T00:42:30.875057Z",
     "shell.execute_reply": "2022-10-29T00:42:30.874578Z"
    },
    "papermill": {
     "duration": 0.05598,
     "end_time": "2022-10-29T00:42:30.875177",
     "exception": false,
     "start_time": "2022-10-29T00:42:30.819197",
     "status": "completed"
    },
    "tags": []
   },
   "outputs": [],
   "source": [
    "#hide\n",
    "dft_ct_new_cases = dft_cases.groupby(COL_REGION)[dt_cols].sum().diff(axis=1).fillna(0).astype(int)"
   ]
  },
  {
   "cell_type": "code",
   "execution_count": 19,
   "id": "neutral-assignment",
   "metadata": {
    "execution": {
     "iopub.execute_input": "2022-10-29T00:42:30.940122Z",
     "iopub.status.busy": "2022-10-29T00:42:30.939543Z",
     "iopub.status.idle": "2022-10-29T00:42:30.944718Z",
     "shell.execute_reply": "2022-10-29T00:42:30.945190Z"
    },
    "papermill": {
     "duration": 0.039804,
     "end_time": "2022-10-29T00:42:30.945321",
     "exception": false,
     "start_time": "2022-10-29T00:42:30.905517",
     "status": "completed"
    },
    "tags": []
   },
   "outputs": [],
   "source": [
    "#hide\n",
    "everydaycases = dft_ct_new_cases.cumsum(axis=1)"
   ]
  },
  {
   "cell_type": "code",
   "execution_count": 20,
   "id": "parliamentary-calgary",
   "metadata": {
    "execution": {
     "iopub.execute_input": "2022-10-29T00:42:31.010860Z",
     "iopub.status.busy": "2022-10-29T00:42:31.010257Z",
     "iopub.status.idle": "2022-10-29T00:42:31.563695Z",
     "shell.execute_reply": "2022-10-29T00:42:31.564271Z"
    },
    "papermill": {
     "duration": 0.588263,
     "end_time": "2022-10-29T00:42:31.564433",
     "exception": false,
     "start_time": "2022-10-29T00:42:30.976170",
     "status": "completed"
    },
    "tags": []
   },
   "outputs": [],
   "source": [
    "#hide\n",
    "import pandas as pd\n",
    "import matplotlib.pyplot as plt\n",
    "import matplotlib.ticker as ticker\n",
    "import matplotlib.animation as animation\n",
    "from IPython.display import HTML"
   ]
  },
  {
   "cell_type": "code",
   "execution_count": 21,
   "id": "lasting-extraction",
   "metadata": {
    "execution": {
     "iopub.execute_input": "2022-10-29T00:42:31.632608Z",
     "iopub.status.busy": "2022-10-29T00:42:31.632028Z",
     "iopub.status.idle": "2022-10-29T00:42:31.639924Z",
     "shell.execute_reply": "2022-10-29T00:42:31.639450Z"
    },
    "papermill": {
     "duration": 0.044585,
     "end_time": "2022-10-29T00:42:31.640040",
     "exception": false,
     "start_time": "2022-10-29T00:42:31.595455",
     "status": "completed"
    },
    "tags": []
   },
   "outputs": [],
   "source": [
    "#hide\n",
    "t = everydaycases.stack()"
   ]
  },
  {
   "cell_type": "code",
   "execution_count": 22,
   "id": "premier-sleeve",
   "metadata": {
    "execution": {
     "iopub.execute_input": "2022-10-29T00:42:31.705438Z",
     "iopub.status.busy": "2022-10-29T00:42:31.704855Z",
     "iopub.status.idle": "2022-10-29T00:42:31.717618Z",
     "shell.execute_reply": "2022-10-29T00:42:31.718153Z"
    },
    "papermill": {
     "duration": 0.047676,
     "end_time": "2022-10-29T00:42:31.718304",
     "exception": false,
     "start_time": "2022-10-29T00:42:31.670628",
     "status": "completed"
    },
    "tags": []
   },
   "outputs": [],
   "source": [
    "#hide\n",
    "g = t.reset_index(['Country/Region'])"
   ]
  },
  {
   "cell_type": "code",
   "execution_count": 23,
   "id": "distributed-pittsburgh",
   "metadata": {
    "execution": {
     "iopub.execute_input": "2022-10-29T00:42:31.783533Z",
     "iopub.status.busy": "2022-10-29T00:42:31.782889Z",
     "iopub.status.idle": "2022-10-29T00:42:31.785298Z",
     "shell.execute_reply": "2022-10-29T00:42:31.785753Z"
    },
    "papermill": {
     "duration": 0.037357,
     "end_time": "2022-10-29T00:42:31.785883",
     "exception": false,
     "start_time": "2022-10-29T00:42:31.748526",
     "status": "completed"
    },
    "tags": []
   },
   "outputs": [],
   "source": [
    "#hide\n",
    "g.index.name = 'date'"
   ]
  },
  {
   "cell_type": "code",
   "execution_count": 24,
   "id": "naked-donor",
   "metadata": {
    "execution": {
     "iopub.execute_input": "2022-10-29T00:42:31.850358Z",
     "iopub.status.busy": "2022-10-29T00:42:31.849658Z",
     "iopub.status.idle": "2022-10-29T00:42:31.854253Z",
     "shell.execute_reply": "2022-10-29T00:42:31.853752Z"
    },
    "papermill": {
     "duration": 0.038172,
     "end_time": "2022-10-29T00:42:31.854369",
     "exception": false,
     "start_time": "2022-10-29T00:42:31.816197",
     "status": "completed"
    },
    "tags": []
   },
   "outputs": [],
   "source": [
    "# #hide\n",
    "# g = g.reset_index(['date'])"
   ]
  },
  {
   "cell_type": "code",
   "execution_count": 25,
   "id": "incomplete-mustang",
   "metadata": {
    "execution": {
     "iopub.execute_input": "2022-10-29T00:42:31.919131Z",
     "iopub.status.busy": "2022-10-29T00:42:31.918456Z",
     "iopub.status.idle": "2022-10-29T00:42:31.921107Z",
     "shell.execute_reply": "2022-10-29T00:42:31.921591Z"
    },
    "papermill": {
     "duration": 0.036928,
     "end_time": "2022-10-29T00:42:31.921733",
     "exception": false,
     "start_time": "2022-10-29T00:42:31.884805",
     "status": "completed"
    },
    "tags": []
   },
   "outputs": [],
   "source": [
    "#hide\n",
    "# g.head()"
   ]
  },
  {
   "cell_type": "code",
   "execution_count": 26,
   "id": "specific-kruger",
   "metadata": {
    "execution": {
     "iopub.execute_input": "2022-10-29T00:42:31.987225Z",
     "iopub.status.busy": "2022-10-29T00:42:31.986642Z",
     "iopub.status.idle": "2022-10-29T00:42:31.989334Z",
     "shell.execute_reply": "2022-10-29T00:42:31.988867Z"
    },
    "papermill": {
     "duration": 0.037082,
     "end_time": "2022-10-29T00:42:31.989441",
     "exception": false,
     "start_time": "2022-10-29T00:42:31.952359",
     "status": "completed"
    },
    "tags": []
   },
   "outputs": [],
   "source": [
    "#hide\n",
    "# g.columns = ['date','country','cases']"
   ]
  },
  {
   "cell_type": "code",
   "execution_count": 27,
   "id": "tender-conversion",
   "metadata": {
    "execution": {
     "iopub.execute_input": "2022-10-29T00:42:32.053841Z",
     "iopub.status.busy": "2022-10-29T00:42:32.053175Z",
     "iopub.status.idle": "2022-10-29T00:42:32.055831Z",
     "shell.execute_reply": "2022-10-29T00:42:32.055207Z"
    },
    "papermill": {
     "duration": 0.036324,
     "end_time": "2022-10-29T00:42:32.055950",
     "exception": false,
     "start_time": "2022-10-29T00:42:32.019626",
     "status": "completed"
    },
    "tags": []
   },
   "outputs": [],
   "source": [
    "#hide\n",
    "# g['continent'] = g.country"
   ]
  },
  {
   "cell_type": "code",
   "execution_count": 28,
   "id": "substantial-wilderness",
   "metadata": {
    "execution": {
     "iopub.execute_input": "2022-10-29T00:42:32.122041Z",
     "iopub.status.busy": "2022-10-29T00:42:32.121344Z",
     "iopub.status.idle": "2022-10-29T00:42:32.125081Z",
     "shell.execute_reply": "2022-10-29T00:42:32.125595Z"
    },
    "papermill": {
     "duration": 0.038951,
     "end_time": "2022-10-29T00:42:32.125740",
     "exception": false,
     "start_time": "2022-10-29T00:42:32.086789",
     "status": "completed"
    },
    "tags": []
   },
   "outputs": [],
   "source": [
    "#hide\n",
    "# cols = list(g.columns.values)"
   ]
  },
  {
   "cell_type": "code",
   "execution_count": 29,
   "id": "solved-farming",
   "metadata": {
    "execution": {
     "iopub.execute_input": "2022-10-29T00:42:32.190662Z",
     "iopub.status.busy": "2022-10-29T00:42:32.190038Z",
     "iopub.status.idle": "2022-10-29T00:42:32.193321Z",
     "shell.execute_reply": "2022-10-29T00:42:32.192758Z"
    },
    "papermill": {
     "duration": 0.036862,
     "end_time": "2022-10-29T00:42:32.193429",
     "exception": false,
     "start_time": "2022-10-29T00:42:32.156567",
     "status": "completed"
    },
    "tags": []
   },
   "outputs": [],
   "source": [
    "#hide\n",
    "# cols.insert(0, cols.pop())"
   ]
  },
  {
   "cell_type": "code",
   "execution_count": 30,
   "id": "executed-adoption",
   "metadata": {
    "execution": {
     "iopub.execute_input": "2022-10-29T00:42:32.258234Z",
     "iopub.status.busy": "2022-10-29T00:42:32.257524Z",
     "iopub.status.idle": "2022-10-29T00:42:32.261605Z",
     "shell.execute_reply": "2022-10-29T00:42:32.261094Z"
    },
    "papermill": {
     "duration": 0.037736,
     "end_time": "2022-10-29T00:42:32.261714",
     "exception": false,
     "start_time": "2022-10-29T00:42:32.223978",
     "status": "completed"
    },
    "tags": []
   },
   "outputs": [],
   "source": [
    "#hide\n",
    "# g = g[cols]"
   ]
  },
  {
   "cell_type": "code",
   "execution_count": 31,
   "id": "subject-dublin",
   "metadata": {
    "execution": {
     "iopub.execute_input": "2022-10-29T00:42:32.326413Z",
     "iopub.status.busy": "2022-10-29T00:42:32.325708Z",
     "iopub.status.idle": "2022-10-29T00:42:32.329557Z",
     "shell.execute_reply": "2022-10-29T00:42:32.328913Z"
    },
    "papermill": {
     "duration": 0.037745,
     "end_time": "2022-10-29T00:42:32.329679",
     "exception": false,
     "start_time": "2022-10-29T00:42:32.291934",
     "status": "completed"
    },
    "tags": []
   },
   "outputs": [],
   "source": [
    "#hide\n",
    "# g['continent'] = g['continent'].map(mapping['map.continent'])"
   ]
  },
  {
   "cell_type": "code",
   "execution_count": 32,
   "id": "freelance-scout",
   "metadata": {
    "execution": {
     "iopub.execute_input": "2022-10-29T00:42:32.393948Z",
     "iopub.status.busy": "2022-10-29T00:42:32.393379Z",
     "iopub.status.idle": "2022-10-29T00:42:32.395853Z",
     "shell.execute_reply": "2022-10-29T00:42:32.396272Z"
    },
    "papermill": {
     "duration": 0.036035,
     "end_time": "2022-10-29T00:42:32.396392",
     "exception": false,
     "start_time": "2022-10-29T00:42:32.360357",
     "status": "completed"
    },
    "tags": []
   },
   "outputs": [],
   "source": [
    "#hide\n",
    "# g.head()"
   ]
  },
  {
   "cell_type": "code",
   "execution_count": 33,
   "id": "limited-engine",
   "metadata": {
    "execution": {
     "iopub.execute_input": "2022-10-29T00:42:32.460547Z",
     "iopub.status.busy": "2022-10-29T00:42:32.459889Z",
     "iopub.status.idle": "2022-10-29T00:42:32.462026Z",
     "shell.execute_reply": "2022-10-29T00:42:32.461393Z"
    },
    "papermill": {
     "duration": 0.035581,
     "end_time": "2022-10-29T00:42:32.462141",
     "exception": false,
     "start_time": "2022-10-29T00:42:32.426560",
     "status": "completed"
    },
    "tags": []
   },
   "outputs": [],
   "source": [
    "# hide\n",
    "# g['date'] = g['date'].astype('datetime64[ns]')"
   ]
  },
  {
   "cell_type": "code",
   "execution_count": 34,
   "id": "sophisticated-supervisor",
   "metadata": {
    "execution": {
     "iopub.execute_input": "2022-10-29T00:42:32.526928Z",
     "iopub.status.busy": "2022-10-29T00:42:32.526327Z",
     "iopub.status.idle": "2022-10-29T00:42:32.528213Z",
     "shell.execute_reply": "2022-10-29T00:42:32.527657Z"
    },
    "papermill": {
     "duration": 0.035482,
     "end_time": "2022-10-29T00:42:32.528316",
     "exception": false,
     "start_time": "2022-10-29T00:42:32.492834",
     "status": "completed"
    },
    "tags": []
   },
   "outputs": [],
   "source": [
    "#hide\n",
    "# g['date'] = g.date.dt.dayofyear"
   ]
  },
  {
   "cell_type": "code",
   "execution_count": 35,
   "id": "inside-dubai",
   "metadata": {
    "execution": {
     "iopub.execute_input": "2022-10-29T00:42:32.592326Z",
     "iopub.status.busy": "2022-10-29T00:42:32.591758Z",
     "iopub.status.idle": "2022-10-29T00:42:32.593968Z",
     "shell.execute_reply": "2022-10-29T00:42:32.594466Z"
    },
    "papermill": {
     "duration": 0.035914,
     "end_time": "2022-10-29T00:42:32.594585",
     "exception": false,
     "start_time": "2022-10-29T00:42:32.558671",
     "status": "completed"
    },
    "tags": []
   },
   "outputs": [],
   "source": [
    "#hide\n",
    "# g = g.rename(columns= {'continent':'group','country':'name','cases':'value'})"
   ]
  },
  {
   "cell_type": "code",
   "execution_count": 36,
   "id": "fleet-motorcycle",
   "metadata": {
    "execution": {
     "iopub.execute_input": "2022-10-29T00:42:32.659320Z",
     "iopub.status.busy": "2022-10-29T00:42:32.658741Z",
     "iopub.status.idle": "2022-10-29T00:42:32.662724Z",
     "shell.execute_reply": "2022-10-29T00:42:32.663169Z"
    },
    "papermill": {
     "duration": 0.038437,
     "end_time": "2022-10-29T00:42:32.663285",
     "exception": false,
     "start_time": "2022-10-29T00:42:32.624848",
     "status": "completed"
    },
    "tags": []
   },
   "outputs": [],
   "source": [
    "#hide\n",
    "# cols = ['name','group','day','value']"
   ]
  },
  {
   "cell_type": "code",
   "execution_count": 37,
   "id": "continued-sleeping",
   "metadata": {
    "execution": {
     "iopub.execute_input": "2022-10-29T00:42:32.730714Z",
     "iopub.status.busy": "2022-10-29T00:42:32.730018Z",
     "iopub.status.idle": "2022-10-29T00:42:32.731989Z",
     "shell.execute_reply": "2022-10-29T00:42:32.732407Z"
    },
    "papermill": {
     "duration": 0.035733,
     "end_time": "2022-10-29T00:42:32.732526",
     "exception": false,
     "start_time": "2022-10-29T00:42:32.696793",
     "status": "completed"
    },
    "tags": []
   },
   "outputs": [],
   "source": [
    "#hide\n",
    "# g.rename(columns= {'date':'day'},inplace = True)"
   ]
  },
  {
   "cell_type": "code",
   "execution_count": 38,
   "id": "major-fight",
   "metadata": {
    "execution": {
     "iopub.execute_input": "2022-10-29T00:42:32.796778Z",
     "iopub.status.busy": "2022-10-29T00:42:32.796110Z",
     "iopub.status.idle": "2022-10-29T00:42:32.800454Z",
     "shell.execute_reply": "2022-10-29T00:42:32.800936Z"
    },
    "papermill": {
     "duration": 0.038271,
     "end_time": "2022-10-29T00:42:32.801071",
     "exception": false,
     "start_time": "2022-10-29T00:42:32.762800",
     "status": "completed"
    },
    "tags": []
   },
   "outputs": [],
   "source": [
    "#hide\n",
    "# g = g[cols]"
   ]
  },
  {
   "cell_type": "code",
   "execution_count": 39,
   "id": "structured-mobile",
   "metadata": {
    "execution": {
     "iopub.execute_input": "2022-10-29T00:42:32.865236Z",
     "iopub.status.busy": "2022-10-29T00:42:32.864639Z",
     "iopub.status.idle": "2022-10-29T00:42:32.866744Z",
     "shell.execute_reply": "2022-10-29T00:42:32.866138Z"
    },
    "papermill": {
     "duration": 0.035536,
     "end_time": "2022-10-29T00:42:32.866852",
     "exception": false,
     "start_time": "2022-10-29T00:42:32.831316",
     "status": "completed"
    },
    "tags": []
   },
   "outputs": [],
   "source": [
    "# #hide\n",
    "# g = g[g.group.notna()]"
   ]
  },
  {
   "cell_type": "code",
   "execution_count": 40,
   "id": "determined-closing",
   "metadata": {
    "execution": {
     "iopub.execute_input": "2022-10-29T00:42:32.931405Z",
     "iopub.status.busy": "2022-10-29T00:42:32.930745Z",
     "iopub.status.idle": "2022-10-29T00:42:32.935019Z",
     "shell.execute_reply": "2022-10-29T00:42:32.934545Z"
    },
    "papermill": {
     "duration": 0.037801,
     "end_time": "2022-10-29T00:42:32.935121",
     "exception": false,
     "start_time": "2022-10-29T00:42:32.897320",
     "status": "completed"
    },
    "tags": []
   },
   "outputs": [],
   "source": [
    "# #hide\n",
    "# colors = dict(zip(\n",
    "#     [\"Oceania\", \"Europe\", \"Asia\", \"South America\", \"Middle East\", \"North America\", \"Africa\"],\n",
    "#     [\"#adb0ff\", \"#ffb3ff\", \"#90d595\", \"#e48381\", \"#aafbff\", \"#f7bb5f\", \"#eafb50\"]\n",
    "# ))\n",
    "# group_lk = g.set_index('name')['group'].to_dict()"
   ]
  },
  {
   "cell_type": "code",
   "execution_count": null,
   "id": "gross-drinking",
   "metadata": {
    "papermill": {
     "duration": 0.030942,
     "end_time": "2022-10-29T00:42:32.996226",
     "exception": false,
     "start_time": "2022-10-29T00:42:32.965284",
     "status": "completed"
    },
    "tags": []
   },
   "outputs": [],
   "source": []
  },
  {
   "cell_type": "code",
   "execution_count": 41,
   "id": "subject-macintosh",
   "metadata": {
    "execution": {
     "iopub.execute_input": "2022-10-29T00:42:33.061961Z",
     "iopub.status.busy": "2022-10-29T00:42:33.061243Z",
     "iopub.status.idle": "2022-10-29T00:42:33.063845Z",
     "shell.execute_reply": "2022-10-29T00:42:33.063199Z"
    },
    "papermill": {
     "duration": 0.037298,
     "end_time": "2022-10-29T00:42:33.063969",
     "exception": false,
     "start_time": "2022-10-29T00:42:33.026671",
     "status": "completed"
    },
    "tags": []
   },
   "outputs": [],
   "source": [
    "# #hide\n",
    "# fig, ax = plt.subplots(figsize=(15, 8))\n",
    "\n",
    "# def draw_barchart(current_day):\n",
    "#     dff = g[g['day'].eq(current_day)].sort_values(by='value', ascending=True).tail(10)\n",
    "#     ax.clear()\n",
    "#     ax.barh(dff['name'], dff['value'], color=[colors[group_lk[x]] for x in dff['name']])\n",
    "#     dx = dff['value'].max() / 200\n",
    "    \n",
    "#     for i, (value, name) in enumerate(zip(dff['value'], dff['name'])):\n",
    "#         ax.text(value-dx, i,     name,           size=14, weight=600, ha='right', va='bottom')\n",
    "#         ax.text(value-dx, i-.25, group_lk[name], size=10, color='#444444', ha='right', va='baseline')\n",
    "#         ax.text(value+dx, i,     f'{value:,.0f}',  size=14, ha='left',  va='center')\n",
    "#     ax.text(1, 0.4, current_day, transform=ax.transAxes, color='#777777', size=46, ha='right', weight=800)\n",
    "#     ax.text(0, 1.06, 'Population (thousands)', transform=ax.transAxes, size=12, color='#777777')\n",
    "#     ax.xaxis.set_major_formatter(ticker.StrMethodFormatter('{x:,.0f}'))\n",
    "#     ax.xaxis.set_ticks_position('top')\n",
    "#     ax.tick_params(axis='x', colors='#777777', labelsize=12)\n",
    "#     ax.set_yticks([])\n",
    "#     ax.margins(0, 0.01)\n",
    "#     ax.grid(which='major', axis='x', linestyle='-')\n",
    "#     ax.set_axisbelow(True)\n",
    "    \n",
    "#     ax.text(0, 1.15, 'Coronavirus',\n",
    "#             transform=ax.transAxes, size=24, weight=600, ha='left', va='top')\n",
    "# #     ax.text(1, 0, 'by @pratapvardhan; credit @jburnmurdoch', transform=ax.transAxes, color='#777777', ha='right',\n",
    "# #             bbox=dict(facecolor='white', alpha=0.8, edgecolor='white'))\n",
    "#     plt.box(False)"
   ]
  },
  {
   "cell_type": "code",
   "execution_count": 42,
   "id": "sexual-wages",
   "metadata": {
    "execution": {
     "iopub.execute_input": "2022-10-29T00:42:33.128935Z",
     "iopub.status.busy": "2022-10-29T00:42:33.128297Z",
     "iopub.status.idle": "2022-10-29T00:42:33.131792Z",
     "shell.execute_reply": "2022-10-29T00:42:33.132267Z"
    },
    "papermill": {
     "duration": 0.037882,
     "end_time": "2022-10-29T00:42:33.132393",
     "exception": false,
     "start_time": "2022-10-29T00:42:33.094511",
     "status": "completed"
    },
    "tags": []
   },
   "outputs": [],
   "source": [
    "# #hide_input\n",
    "# fig, ax = plt.subplots(figsize=(15, 8))\n",
    "# animator = animation.FuncAnimation(fig, draw_barchart, frames=range(g.day.values.min(), g.day.values.max()))\n",
    "# HTML(animator.to_jshtml())\n",
    "# # or use animator.to_html5_video() or animator.save() "
   ]
  },
  {
   "cell_type": "code",
   "execution_count": null,
   "id": "australian-container",
   "metadata": {
    "papermill": {
     "duration": 0.030197,
     "end_time": "2022-10-29T00:42:33.193230",
     "exception": false,
     "start_time": "2022-10-29T00:42:33.163033",
     "status": "completed"
    },
    "tags": []
   },
   "outputs": [],
   "source": []
  },
  {
   "cell_type": "code",
   "execution_count": null,
   "id": "mediterranean-pontiac",
   "metadata": {
    "papermill": {
     "duration": 0.030031,
     "end_time": "2022-10-29T00:42:33.253390",
     "exception": false,
     "start_time": "2022-10-29T00:42:33.223359",
     "status": "completed"
    },
    "tags": []
   },
   "outputs": [],
   "source": []
  },
  {
   "cell_type": "code",
   "execution_count": null,
   "id": "aging-legislature",
   "metadata": {
    "papermill": {
     "duration": 0.030187,
     "end_time": "2022-10-29T00:42:33.313914",
     "exception": false,
     "start_time": "2022-10-29T00:42:33.283727",
     "status": "completed"
    },
    "tags": []
   },
   "outputs": [],
   "source": []
  }
 ],
 "metadata": {
  "kernelspec": {
   "display_name": "Python 3",
   "language": "python",
   "name": "python3"
  },
  "language_info": {
   "codemirror_mode": {
    "name": "ipython",
    "version": 3
   },
   "file_extension": ".py",
   "mimetype": "text/x-python",
   "name": "python",
   "nbconvert_exporter": "python",
   "pygments_lexer": "ipython3",
   "version": "3.6.15"
  },
  "papermill": {
   "duration": 5.996962,
   "end_time": "2022-10-29T00:42:33.663002",
   "environment_variables": {},
   "exception": null,
   "input_path": "2020-03-21-covid19exp.ipynb",
   "output_path": "2020-03-21-covid19exp.ipynb",
   "parameters": {},
   "start_time": "2022-10-29T00:42:27.666040",
   "version": "2.0.0"
  }
 },
 "nbformat": 4,
 "nbformat_minor": 5
}