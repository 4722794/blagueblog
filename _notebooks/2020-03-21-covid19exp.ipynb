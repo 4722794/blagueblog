{
 "cells": [
  {
   "cell_type": "markdown",
   "id": "muslim-click",
   "metadata": {
    "papermill": {
     "duration": 0.038369,
     "end_time": "2021-09-23T12:11:53.733150",
     "exception": false,
     "start_time": "2021-09-23T12:11:53.694781",
     "status": "completed"
    },
    "tags": []
   },
   "source": [
    "# COVID-19 Case Race\n",
    "> A race chart to see rising cases around the world\n",
    "\n",
    "- author: Hargun Oberoi\n",
    "- image: images/covid-overview.png\n",
    "- hide: false\n",
    "- badges: false"
   ]
  },
  {
   "cell_type": "code",
   "execution_count": 1,
   "id": "proof-material",
   "metadata": {
    "execution": {
     "iopub.execute_input": "2021-09-23T12:11:53.801570Z",
     "iopub.status.busy": "2021-09-23T12:11:53.800995Z",
     "iopub.status.idle": "2021-09-23T12:11:54.137859Z",
     "shell.execute_reply": "2021-09-23T12:11:54.136325Z"
    },
    "papermill": {
     "duration": 0.376567,
     "end_time": "2021-09-23T12:11:54.138112",
     "exception": false,
     "start_time": "2021-09-23T12:11:53.761545",
     "status": "completed"
    },
    "tags": []
   },
   "outputs": [],
   "source": [
    "#hide\n",
    "import numpy as np\n",
    "import pandas as pd\n",
    "from jinja2 import Template\n",
    "from IPython.display import HTML"
   ]
  },
  {
   "cell_type": "code",
   "execution_count": 2,
   "id": "developed-terminology",
   "metadata": {
    "execution": {
     "iopub.execute_input": "2021-09-23T12:11:54.204011Z",
     "iopub.status.busy": "2021-09-23T12:11:54.203431Z",
     "iopub.status.idle": "2021-09-23T12:11:54.205598Z",
     "shell.execute_reply": "2021-09-23T12:11:54.205120Z"
    },
    "papermill": {
     "duration": 0.036858,
     "end_time": "2021-09-23T12:11:54.205707",
     "exception": false,
     "start_time": "2021-09-23T12:11:54.168849",
     "status": "completed"
    },
    "tags": []
   },
   "outputs": [],
   "source": [
    "#hide\n",
    "\n",
    "# FETCH\n",
    "base_url = 'https://raw.githubusercontent.com/pratapvardhan/notebooks/master/covid19/'\n",
    "paths = {\n",
    "    'mapping': base_url + 'mapping_countries.csv',\n",
    "    'overview': base_url + 'overview.tpl'\n",
    "}"
   ]
  },
  {
   "cell_type": "code",
   "execution_count": 3,
   "id": "dynamic-saver",
   "metadata": {
    "execution": {
     "iopub.execute_input": "2021-09-23T12:11:54.274942Z",
     "iopub.status.busy": "2021-09-23T12:11:54.274455Z",
     "iopub.status.idle": "2021-09-23T12:11:54.279975Z",
     "shell.execute_reply": "2021-09-23T12:11:54.279509Z"
    },
    "papermill": {
     "duration": 0.044781,
     "end_time": "2021-09-23T12:11:54.280081",
     "exception": false,
     "start_time": "2021-09-23T12:11:54.235300",
     "status": "completed"
    },
    "tags": []
   },
   "outputs": [
    {
     "data": {
      "text/plain": [
       "'https://raw.githubusercontent.com/pratapvardhan/notebooks/master/covid19/mapping_countries.csv'"
      ]
     },
     "execution_count": 3,
     "metadata": {},
     "output_type": "execute_result"
    }
   ],
   "source": [
    "#hide\n",
    "paths['mapping']"
   ]
  },
  {
   "cell_type": "code",
   "execution_count": 4,
   "id": "urban-software",
   "metadata": {
    "execution": {
     "iopub.execute_input": "2021-09-23T12:11:54.345711Z",
     "iopub.status.busy": "2021-09-23T12:11:54.345155Z",
     "iopub.status.idle": "2021-09-23T12:11:54.347313Z",
     "shell.execute_reply": "2021-09-23T12:11:54.346848Z"
    },
    "papermill": {
     "duration": 0.037672,
     "end_time": "2021-09-23T12:11:54.347427",
     "exception": false,
     "start_time": "2021-09-23T12:11:54.309755",
     "status": "completed"
    },
    "tags": []
   },
   "outputs": [],
   "source": [
    "#hide\n",
    "def get_mappings(url):\n",
    "    df = pd.read_csv(url)\n",
    "    return {\n",
    "        'df': df,\n",
    "        'replace.country': dict(df.dropna(subset=['Name']).set_index('Country')['Name']),\n",
    "        'map.continent': dict(df.set_index('Name')['Continent'])\n",
    "    }"
   ]
  },
  {
   "cell_type": "code",
   "execution_count": 5,
   "id": "intimate-machinery",
   "metadata": {
    "execution": {
     "iopub.execute_input": "2021-09-23T12:11:54.415199Z",
     "iopub.status.busy": "2021-09-23T12:11:54.414650Z",
     "iopub.status.idle": "2021-09-23T12:11:54.455439Z",
     "shell.execute_reply": "2021-09-23T12:11:54.454690Z"
    },
    "papermill": {
     "duration": 0.077382,
     "end_time": "2021-09-23T12:11:54.455556",
     "exception": false,
     "start_time": "2021-09-23T12:11:54.378174",
     "status": "completed"
    },
    "tags": []
   },
   "outputs": [],
   "source": [
    "#hide\n",
    "mapping = get_mappings(paths['mapping'])"
   ]
  },
  {
   "cell_type": "code",
   "execution_count": 6,
   "id": "certified-tactics",
   "metadata": {
    "execution": {
     "iopub.execute_input": "2021-09-23T12:11:54.522929Z",
     "iopub.status.busy": "2021-09-23T12:11:54.522367Z",
     "iopub.status.idle": "2021-09-23T12:11:54.524865Z",
     "shell.execute_reply": "2021-09-23T12:11:54.525386Z"
    },
    "papermill": {
     "duration": 0.03971,
     "end_time": "2021-09-23T12:11:54.525515",
     "exception": false,
     "start_time": "2021-09-23T12:11:54.485805",
     "status": "completed"
    },
    "tags": []
   },
   "outputs": [],
   "source": [
    "#hide\n",
    "def get_template(path):\n",
    "    from urllib.parse import urlparse\n",
    "    if bool(urlparse(path).netloc):\n",
    "        from urllib.request import urlopen\n",
    "        return urlopen(path).read().decode('utf8')\n",
    "    return open(path).read()"
   ]
  },
  {
   "cell_type": "code",
   "execution_count": 7,
   "id": "realistic-blast",
   "metadata": {
    "execution": {
     "iopub.execute_input": "2021-09-23T12:11:54.590326Z",
     "iopub.status.busy": "2021-09-23T12:11:54.589791Z",
     "iopub.status.idle": "2021-09-23T12:11:54.591925Z",
     "shell.execute_reply": "2021-09-23T12:11:54.591516Z"
    },
    "papermill": {
     "duration": 0.037281,
     "end_time": "2021-09-23T12:11:54.592019",
     "exception": false,
     "start_time": "2021-09-23T12:11:54.554738",
     "status": "completed"
    },
    "tags": []
   },
   "outputs": [],
   "source": [
    "#hide\n",
    "def get_frame(name):\n",
    "    url = (\n",
    "        'https://raw.githubusercontent.com/CSSEGISandData/COVID-19/master/csse_covid_19_data/'\n",
    "        f'csse_covid_19_time_series/time_series_covid19_{name}_global.csv')\n",
    "    df = pd.read_csv(url)\n",
    "    # rename countries\n",
    "    df['Country/Region'] = df['Country/Region'].replace(mapping['replace.country'])\n",
    "    return df"
   ]
  },
  {
   "cell_type": "code",
   "execution_count": 8,
   "id": "affiliated-characterization",
   "metadata": {
    "execution": {
     "iopub.execute_input": "2021-09-23T12:11:54.656307Z",
     "iopub.status.busy": "2021-09-23T12:11:54.655710Z",
     "iopub.status.idle": "2021-09-23T12:11:54.657906Z",
     "shell.execute_reply": "2021-09-23T12:11:54.658368Z"
    },
    "papermill": {
     "duration": 0.038726,
     "end_time": "2021-09-23T12:11:54.658474",
     "exception": false,
     "start_time": "2021-09-23T12:11:54.619748",
     "status": "completed"
    },
    "tags": []
   },
   "outputs": [],
   "source": [
    "#hide\n",
    "def get_dates(df):\n",
    "    dt_cols = df.columns[~df.columns.isin(['Province/State', 'Country/Region', 'Lat', 'Long'])]\n",
    "    LAST_DATE_I = -1\n",
    "    # sometimes last column may be empty, then go backwards\n",
    "    for i in range(-1, -len(dt_cols), -1):\n",
    "        if not df[dt_cols[i]].fillna(0).eq(0).all():\n",
    "            LAST_DATE_I = i\n",
    "            break\n",
    "    return LAST_DATE_I, dt_cols"
   ]
  },
  {
   "cell_type": "code",
   "execution_count": 9,
   "id": "recent-optimization",
   "metadata": {
    "execution": {
     "iopub.execute_input": "2021-09-23T12:11:54.725535Z",
     "iopub.status.busy": "2021-09-23T12:11:54.724941Z",
     "iopub.status.idle": "2021-09-23T12:11:55.094479Z",
     "shell.execute_reply": "2021-09-23T12:11:55.093953Z"
    },
    "papermill": {
     "duration": 0.405928,
     "end_time": "2021-09-23T12:11:55.094587",
     "exception": false,
     "start_time": "2021-09-23T12:11:54.688659",
     "status": "completed"
    },
    "tags": []
   },
   "outputs": [],
   "source": [
    "#hide\n",
    "COL_REGION = 'Country/Region'\n",
    "# Confirmed, Recovered, Deaths\n",
    "df = get_frame('confirmed')\n",
    "# dft_: timeseries, dfc_: today country agg\n",
    "dft_cases = df\n",
    "dft_deaths = get_frame('deaths')\n",
    "dft_recovered = get_frame('recovered')\n",
    "LAST_DATE_I, dt_cols = get_dates(df)"
   ]
  },
  {
   "cell_type": "code",
   "execution_count": 10,
   "id": "absolute-copper",
   "metadata": {
    "execution": {
     "iopub.execute_input": "2021-09-23T12:11:55.161813Z",
     "iopub.status.busy": "2021-09-23T12:11:55.161252Z",
     "iopub.status.idle": "2021-09-23T12:11:55.164223Z",
     "shell.execute_reply": "2021-09-23T12:11:55.164738Z"
    },
    "papermill": {
     "duration": 0.040897,
     "end_time": "2021-09-23T12:11:55.164896",
     "exception": false,
     "start_time": "2021-09-23T12:11:55.123999",
     "status": "completed"
    },
    "tags": []
   },
   "outputs": [],
   "source": [
    "#hide\n",
    "LAST_DATE_I, dt_cols = get_dates(df)\n",
    "dt_today =dt_cols[LAST_DATE_I]\n",
    "# dt_5day = dt_cols[LAST_DATE_I - 5]\n",
    "dt_yday = dt_cols[LAST_DATE_I - 1]"
   ]
  },
  {
   "cell_type": "code",
   "execution_count": 11,
   "id": "restricted-sheriff",
   "metadata": {
    "execution": {
     "iopub.execute_input": "2021-09-23T12:11:55.230752Z",
     "iopub.status.busy": "2021-09-23T12:11:55.230205Z",
     "iopub.status.idle": "2021-09-23T12:11:55.234714Z",
     "shell.execute_reply": "2021-09-23T12:11:55.234213Z"
    },
    "papermill": {
     "duration": 0.042362,
     "end_time": "2021-09-23T12:11:55.234835",
     "exception": false,
     "start_time": "2021-09-23T12:11:55.192473",
     "status": "completed"
    },
    "tags": []
   },
   "outputs": [],
   "source": [
    "#hide\n",
    "dfc_cases = dft_cases.groupby(COL_REGION)[dt_today].sum()\n",
    "dfc_deaths = dft_deaths.groupby(COL_REGION)[dt_today].sum()\n",
    "# dfp_cases = dft_cases.groupby(COL_REGION)[dt_5day].sum()\n",
    "# dfp_deaths = dft_deaths.groupby(COL_REGION)[dt_5day].sum()\n",
    "dfp_cases = dft_cases.groupby(COL_REGION)[dt_yday].sum()\n",
    "dfp_deaths = dft_deaths.groupby(COL_REGION)[dt_yday].sum()"
   ]
  },
  {
   "cell_type": "code",
   "execution_count": 12,
   "id": "deluxe-hepatitis",
   "metadata": {
    "execution": {
     "iopub.execute_input": "2021-09-23T12:11:55.300838Z",
     "iopub.status.busy": "2021-09-23T12:11:55.300261Z",
     "iopub.status.idle": "2021-09-23T12:11:55.304462Z",
     "shell.execute_reply": "2021-09-23T12:11:55.304074Z"
    },
    "papermill": {
     "duration": 0.038336,
     "end_time": "2021-09-23T12:11:55.304558",
     "exception": false,
     "start_time": "2021-09-23T12:11:55.266222",
     "status": "completed"
    },
    "tags": []
   },
   "outputs": [],
   "source": [
    "#hide\n",
    "df_table = (pd.DataFrame(dict(Cases = dfc_cases, Deaths = dfc_deaths, PCases = dfp_cases, PDeaths = dfp_deaths))\n",
    "            .sort_values(by = ['Cases','Deaths'], ascending = [False, False])\n",
    "            .reset_index())"
   ]
  },
  {
   "cell_type": "code",
   "execution_count": 13,
   "id": "educational-chancellor",
   "metadata": {
    "execution": {
     "iopub.execute_input": "2021-09-23T12:11:55.379268Z",
     "iopub.status.busy": "2021-09-23T12:11:55.374376Z",
     "iopub.status.idle": "2021-09-23T12:11:55.386752Z",
     "shell.execute_reply": "2021-09-23T12:11:55.386250Z"
    },
    "papermill": {
     "duration": 0.053395,
     "end_time": "2021-09-23T12:11:55.386864",
     "exception": false,
     "start_time": "2021-09-23T12:11:55.333469",
     "status": "completed"
    },
    "tags": []
   },
   "outputs": [
    {
     "data": {
      "text/html": [
       "<div>\n",
       "<style scoped>\n",
       "    .dataframe tbody tr th:only-of-type {\n",
       "        vertical-align: middle;\n",
       "    }\n",
       "\n",
       "    .dataframe tbody tr th {\n",
       "        vertical-align: top;\n",
       "    }\n",
       "\n",
       "    .dataframe thead th {\n",
       "        text-align: right;\n",
       "    }\n",
       "</style>\n",
       "<table border=\"1\" class=\"dataframe\">\n",
       "  <thead>\n",
       "    <tr style=\"text-align: right;\">\n",
       "      <th></th>\n",
       "      <th>Country/Region</th>\n",
       "      <th>Cases</th>\n",
       "      <th>Deaths</th>\n",
       "      <th>PCases</th>\n",
       "      <th>PDeaths</th>\n",
       "      <th>Cases (+)</th>\n",
       "      <th>Deaths (+)</th>\n",
       "      <th>Fatality Rate</th>\n",
       "      <th>Continent</th>\n",
       "    </tr>\n",
       "  </thead>\n",
       "  <tbody>\n",
       "    <tr>\n",
       "      <th>0</th>\n",
       "      <td>US</td>\n",
       "      <td>42543510</td>\n",
       "      <td>681192</td>\n",
       "      <td>42410607</td>\n",
       "      <td>678407</td>\n",
       "      <td>132903</td>\n",
       "      <td>2785</td>\n",
       "      <td>1.60</td>\n",
       "      <td>North America</td>\n",
       "    </tr>\n",
       "    <tr>\n",
       "      <th>1</th>\n",
       "      <td>India</td>\n",
       "      <td>33563421</td>\n",
       "      <td>446050</td>\n",
       "      <td>33531498</td>\n",
       "      <td>445768</td>\n",
       "      <td>31923</td>\n",
       "      <td>282</td>\n",
       "      <td>1.33</td>\n",
       "      <td>Asia</td>\n",
       "    </tr>\n",
       "    <tr>\n",
       "      <th>2</th>\n",
       "      <td>Brazil</td>\n",
       "      <td>21283567</td>\n",
       "      <td>592316</td>\n",
       "      <td>21247094</td>\n",
       "      <td>591440</td>\n",
       "      <td>36473</td>\n",
       "      <td>876</td>\n",
       "      <td>2.78</td>\n",
       "      <td>South America</td>\n",
       "    </tr>\n",
       "    <tr>\n",
       "      <th>3</th>\n",
       "      <td>United Kingdom</td>\n",
       "      <td>7565751</td>\n",
       "      <td>135961</td>\n",
       "      <td>7531922</td>\n",
       "      <td>135793</td>\n",
       "      <td>33829</td>\n",
       "      <td>168</td>\n",
       "      <td>1.80</td>\n",
       "      <td>Europe</td>\n",
       "    </tr>\n",
       "    <tr>\n",
       "      <th>4</th>\n",
       "      <td>Russia</td>\n",
       "      <td>7227549</td>\n",
       "      <td>197032</td>\n",
       "      <td>7208241</td>\n",
       "      <td>196235</td>\n",
       "      <td>19308</td>\n",
       "      <td>797</td>\n",
       "      <td>2.73</td>\n",
       "      <td>Europe</td>\n",
       "    </tr>\n",
       "  </tbody>\n",
       "</table>\n",
       "</div>"
      ],
      "text/plain": [
       "   Country/Region     Cases  Deaths    PCases  PDeaths  Cases (+)  Deaths (+)  \\\n",
       "0              US  42543510  681192  42410607   678407     132903        2785   \n",
       "1           India  33563421  446050  33531498   445768      31923         282   \n",
       "2          Brazil  21283567  592316  21247094   591440      36473         876   \n",
       "3  United Kingdom   7565751  135961   7531922   135793      33829         168   \n",
       "4          Russia   7227549  197032   7208241   196235      19308         797   \n",
       "\n",
       "   Fatality Rate      Continent  \n",
       "0           1.60  North America  \n",
       "1           1.33           Asia  \n",
       "2           2.78  South America  \n",
       "3           1.80         Europe  \n",
       "4           2.73         Europe  "
      ]
     },
     "execution_count": 13,
     "metadata": {},
     "output_type": "execute_result"
    }
   ],
   "source": [
    "#hide\n",
    "for c in 'Cases, Deaths'.split(', '):\n",
    "    df_table[f'{c} (+)'] = (df_table[c] - df_table[f'P{c}']).clip(0)\n",
    "    #Clip ça veut dire, les chiffres negatif sont interdit\n",
    "df_table['Fatality Rate'] = (100* df_table['Deaths']/ df_table['Cases']).round(2)\n",
    "df_table['Continent'] = df_table['Country/Region'].map(mapping['map.continent'])\n",
    "df_table.head(5)"
   ]
  },
  {
   "cell_type": "code",
   "execution_count": 14,
   "id": "aboriginal-bulgaria",
   "metadata": {
    "execution": {
     "iopub.execute_input": "2021-09-23T12:11:55.482572Z",
     "iopub.status.busy": "2021-09-23T12:11:55.481984Z",
     "iopub.status.idle": "2021-09-23T12:11:55.484673Z",
     "shell.execute_reply": "2021-09-23T12:11:55.485151Z"
    },
    "papermill": {
     "duration": 0.069646,
     "end_time": "2021-09-23T12:11:55.485272",
     "exception": false,
     "start_time": "2021-09-23T12:11:55.415626",
     "status": "completed"
    },
    "tags": []
   },
   "outputs": [],
   "source": [
    "#hide\n",
    "#delete problematic countries from table\n",
    "df_table = df_table[~df_table['Country/Region'].isin(['Cape Verde', 'Cruise Ship', 'Kosovo'])]"
   ]
  },
  {
   "cell_type": "code",
   "execution_count": 15,
   "id": "fantastic-effect",
   "metadata": {
    "execution": {
     "iopub.execute_input": "2021-09-23T12:11:55.748005Z",
     "iopub.status.busy": "2021-09-23T12:11:55.746373Z",
     "iopub.status.idle": "2021-09-23T12:11:55.770010Z",
     "shell.execute_reply": "2021-09-23T12:11:55.770452Z"
    },
    "papermill": {
     "duration": 0.123827,
     "end_time": "2021-09-23T12:11:55.770576",
     "exception": false,
     "start_time": "2021-09-23T12:11:55.646749",
     "status": "completed"
    },
    "tags": []
   },
   "outputs": [
    {
     "data": {
      "text/html": [
       "<div>\n",
       "<style scoped>\n",
       "    .dataframe tbody tr th:only-of-type {\n",
       "        vertical-align: middle;\n",
       "    }\n",
       "\n",
       "    .dataframe tbody tr th {\n",
       "        vertical-align: top;\n",
       "    }\n",
       "\n",
       "    .dataframe thead th {\n",
       "        text-align: right;\n",
       "    }\n",
       "</style>\n",
       "<table border=\"1\" class=\"dataframe\">\n",
       "  <thead>\n",
       "    <tr style=\"text-align: right;\">\n",
       "      <th></th>\n",
       "      <th>Country/Region</th>\n",
       "      <th>Cases</th>\n",
       "      <th>Deaths</th>\n",
       "      <th>PCases</th>\n",
       "      <th>PDeaths</th>\n",
       "      <th>Cases (+)</th>\n",
       "      <th>Deaths (+)</th>\n",
       "      <th>Fatality Rate</th>\n",
       "      <th>Continent</th>\n",
       "    </tr>\n",
       "  </thead>\n",
       "  <tbody>\n",
       "    <tr>\n",
       "      <th>0</th>\n",
       "      <td>US</td>\n",
       "      <td>42543510</td>\n",
       "      <td>681192</td>\n",
       "      <td>42410607</td>\n",
       "      <td>678407</td>\n",
       "      <td>132903</td>\n",
       "      <td>2785</td>\n",
       "      <td>1.6</td>\n",
       "      <td>North America</td>\n",
       "    </tr>\n",
       "    <tr>\n",
       "      <th>1</th>\n",
       "      <td>India</td>\n",
       "      <td>33563421</td>\n",
       "      <td>446050</td>\n",
       "      <td>33531498</td>\n",
       "      <td>445768</td>\n",
       "      <td>31923</td>\n",
       "      <td>282</td>\n",
       "      <td>1.3</td>\n",
       "      <td>Asia</td>\n",
       "    </tr>\n",
       "    <tr>\n",
       "      <th>2</th>\n",
       "      <td>Brazil</td>\n",
       "      <td>21283567</td>\n",
       "      <td>592316</td>\n",
       "      <td>21247094</td>\n",
       "      <td>591440</td>\n",
       "      <td>36473</td>\n",
       "      <td>876</td>\n",
       "      <td>2.8</td>\n",
       "      <td>South America</td>\n",
       "    </tr>\n",
       "    <tr>\n",
       "      <th>3</th>\n",
       "      <td>United Kingdom</td>\n",
       "      <td>7565751</td>\n",
       "      <td>135961</td>\n",
       "      <td>7531922</td>\n",
       "      <td>135793</td>\n",
       "      <td>33829</td>\n",
       "      <td>168</td>\n",
       "      <td>1.8</td>\n",
       "      <td>Europe</td>\n",
       "    </tr>\n",
       "    <tr>\n",
       "      <th>4</th>\n",
       "      <td>Russia</td>\n",
       "      <td>7227549</td>\n",
       "      <td>197032</td>\n",
       "      <td>7208241</td>\n",
       "      <td>196235</td>\n",
       "      <td>19308</td>\n",
       "      <td>797</td>\n",
       "      <td>2.7</td>\n",
       "      <td>Europe</td>\n",
       "    </tr>\n",
       "  </tbody>\n",
       "</table>\n",
       "</div>"
      ],
      "text/plain": [
       "   Country/Region     Cases  Deaths    PCases  PDeaths  Cases (+)  Deaths (+)  \\\n",
       "0              US  42543510  681192  42410607   678407     132903        2785   \n",
       "1           India  33563421  446050  33531498   445768      31923         282   \n",
       "2          Brazil  21283567  592316  21247094   591440      36473         876   \n",
       "3  United Kingdom   7565751  135961   7531922   135793      33829         168   \n",
       "4          Russia   7227549  197032   7208241   196235      19308         797   \n",
       "\n",
       "   Fatality Rate      Continent  \n",
       "0            1.6  North America  \n",
       "1            1.3           Asia  \n",
       "2            2.8  South America  \n",
       "3            1.8         Europe  \n",
       "4            2.7         Europe  "
      ]
     },
     "execution_count": 15,
     "metadata": {},
     "output_type": "execute_result"
    }
   ],
   "source": [
    "#hide\n",
    "df_table = (pd.DataFrame(dict(Cases=dfc_cases, Deaths=dfc_deaths, PCases=dfp_cases, PDeaths=dfp_deaths))\n",
    "             .sort_values(by=['Cases', 'Deaths'], ascending=[False, False])\n",
    "             .reset_index())\n",
    "df_table.rename(columns={'index': 'Country/Region'}, inplace=True)\n",
    "for c in 'Cases, Deaths'.split(', '):\n",
    "    df_table[f'{c} (+)'] = (df_table[c] - df_table[f'P{c}']).clip(0)  # DATA BUG\n",
    "df_table['Fatality Rate'] = (100 * df_table['Deaths'] / df_table['Cases']).round(1)\n",
    "df_table['Continent'] = df_table['Country/Region'].map(mapping['map.continent'])\n",
    "df_table.head(5)"
   ]
  },
  {
   "cell_type": "code",
   "execution_count": 16,
   "id": "fewer-occasion",
   "metadata": {
    "execution": {
     "iopub.execute_input": "2021-09-23T12:11:55.896021Z",
     "iopub.status.busy": "2021-09-23T12:11:55.894508Z",
     "iopub.status.idle": "2021-09-23T12:11:55.898810Z",
     "shell.execute_reply": "2021-09-23T12:11:55.898390Z"
    },
    "papermill": {
     "duration": 0.056024,
     "end_time": "2021-09-23T12:11:55.898907",
     "exception": false,
     "start_time": "2021-09-23T12:11:55.842883",
     "status": "completed"
    },
    "tags": []
   },
   "outputs": [],
   "source": [
    "#hide\n",
    "#delete problematic countries from table\n",
    "df_table = df_table[~df_table['Country/Region'].isin(['Cape Verde', 'Cruise Ship', 'Kosovo'])]"
   ]
  },
  {
   "cell_type": "code",
   "execution_count": 17,
   "id": "related-center",
   "metadata": {
    "execution": {
     "iopub.execute_input": "2021-09-23T12:11:56.058589Z",
     "iopub.status.busy": "2021-09-23T12:11:56.057982Z",
     "iopub.status.idle": "2021-09-23T12:11:56.069944Z",
     "shell.execute_reply": "2021-09-23T12:11:56.070367Z"
    },
    "papermill": {
     "duration": 0.141824,
     "end_time": "2021-09-23T12:11:56.070496",
     "exception": false,
     "start_time": "2021-09-23T12:11:55.928672",
     "status": "completed"
    },
    "tags": []
   },
   "outputs": [],
   "source": [
    "#hide\n",
    "metrics = [df_table.columns[index] for index in [1,2,5,6]]\n",
    "# s_china = df_table[df_table['Country/Region'].eq('China')][metrics].sum().add_prefix('China ')\n",
    "s_us = df_table[df_table['Country/Region'].eq('US')][metrics].sum().add_prefix('US ')\n",
    "s_eu = df_table[df_table['Continent'].eq('Europe')][metrics].sum().add_prefix('EU ')\n",
    "s_ind = df_table[df_table['Country/Region'].eq('India')][metrics].sum().add_prefix('India ')\n",
    "summary = {'updated': pd.to_datetime(dt_today), 'since': pd.to_datetime(dt_yday)}\n",
    "summary = {'updated': pd.to_datetime(dt_today), 'since': pd.to_datetime(dt_yday)}\n",
    "summary = {**summary, **df_table[metrics].sum(), **s_ind, **s_us, **s_eu}"
   ]
  },
  {
   "cell_type": "code",
   "execution_count": 18,
   "id": "engaging-syndrome",
   "metadata": {
    "execution": {
     "iopub.execute_input": "2021-09-23T12:11:56.236605Z",
     "iopub.status.busy": "2021-09-23T12:11:56.235629Z",
     "iopub.status.idle": "2021-09-23T12:11:56.253022Z",
     "shell.execute_reply": "2021-09-23T12:11:56.252546Z"
    },
    "papermill": {
     "duration": 0.104801,
     "end_time": "2021-09-23T12:11:56.253133",
     "exception": false,
     "start_time": "2021-09-23T12:11:56.148332",
     "status": "completed"
    },
    "tags": []
   },
   "outputs": [],
   "source": [
    "#hide\n",
    "dft_ct_new_cases = dft_cases.groupby(COL_REGION)[dt_cols].sum().diff(axis=1).fillna(0).astype(int)"
   ]
  },
  {
   "cell_type": "code",
   "execution_count": 19,
   "id": "neutral-assignment",
   "metadata": {
    "execution": {
     "iopub.execute_input": "2021-09-23T12:11:56.368142Z",
     "iopub.status.busy": "2021-09-23T12:11:56.367169Z",
     "iopub.status.idle": "2021-09-23T12:11:56.371176Z",
     "shell.execute_reply": "2021-09-23T12:11:56.370700Z"
    },
    "papermill": {
     "duration": 0.039144,
     "end_time": "2021-09-23T12:11:56.371308",
     "exception": false,
     "start_time": "2021-09-23T12:11:56.332164",
     "status": "completed"
    },
    "tags": []
   },
   "outputs": [],
   "source": [
    "#hide\n",
    "everydaycases = dft_ct_new_cases.cumsum(axis=1)"
   ]
  },
  {
   "cell_type": "code",
   "execution_count": 20,
   "id": "parliamentary-calgary",
   "metadata": {
    "execution": {
     "iopub.execute_input": "2021-09-23T12:11:56.435819Z",
     "iopub.status.busy": "2021-09-23T12:11:56.435262Z",
     "iopub.status.idle": "2021-09-23T12:11:57.038856Z",
     "shell.execute_reply": "2021-09-23T12:11:57.037957Z"
    },
    "papermill": {
     "duration": 0.639623,
     "end_time": "2021-09-23T12:11:57.039078",
     "exception": false,
     "start_time": "2021-09-23T12:11:56.399455",
     "status": "completed"
    },
    "tags": []
   },
   "outputs": [],
   "source": [
    "#hide\n",
    "import pandas as pd\n",
    "import matplotlib.pyplot as plt\n",
    "import matplotlib.ticker as ticker\n",
    "import matplotlib.animation as animation\n",
    "from IPython.display import HTML"
   ]
  },
  {
   "cell_type": "code",
   "execution_count": 21,
   "id": "lasting-extraction",
   "metadata": {
    "execution": {
     "iopub.execute_input": "2021-09-23T12:11:57.111356Z",
     "iopub.status.busy": "2021-09-23T12:11:57.110858Z",
     "iopub.status.idle": "2021-09-23T12:11:57.116110Z",
     "shell.execute_reply": "2021-09-23T12:11:57.116526Z"
    },
    "papermill": {
     "duration": 0.045656,
     "end_time": "2021-09-23T12:11:57.116639",
     "exception": false,
     "start_time": "2021-09-23T12:11:57.070983",
     "status": "completed"
    },
    "tags": []
   },
   "outputs": [],
   "source": [
    "#hide\n",
    "t = everydaycases.stack()"
   ]
  },
  {
   "cell_type": "code",
   "execution_count": 22,
   "id": "premier-sleeve",
   "metadata": {
    "execution": {
     "iopub.execute_input": "2021-09-23T12:11:57.189164Z",
     "iopub.status.busy": "2021-09-23T12:11:57.188559Z",
     "iopub.status.idle": "2021-09-23T12:11:57.191081Z",
     "shell.execute_reply": "2021-09-23T12:11:57.190572Z"
    },
    "papermill": {
     "duration": 0.04316,
     "end_time": "2021-09-23T12:11:57.191190",
     "exception": false,
     "start_time": "2021-09-23T12:11:57.148030",
     "status": "completed"
    },
    "tags": []
   },
   "outputs": [],
   "source": [
    "#hide\n",
    "g = t.reset_index(['Country/Region'])"
   ]
  },
  {
   "cell_type": "code",
   "execution_count": 23,
   "id": "distributed-pittsburgh",
   "metadata": {
    "execution": {
     "iopub.execute_input": "2021-09-23T12:11:57.252972Z",
     "iopub.status.busy": "2021-09-23T12:11:57.252380Z",
     "iopub.status.idle": "2021-09-23T12:11:57.255420Z",
     "shell.execute_reply": "2021-09-23T12:11:57.255839Z"
    },
    "papermill": {
     "duration": 0.037321,
     "end_time": "2021-09-23T12:11:57.255966",
     "exception": false,
     "start_time": "2021-09-23T12:11:57.218645",
     "status": "completed"
    },
    "tags": []
   },
   "outputs": [],
   "source": [
    "#hide\n",
    "g.index.name = 'date'"
   ]
  },
  {
   "cell_type": "code",
   "execution_count": 24,
   "id": "naked-donor",
   "metadata": {
    "execution": {
     "iopub.execute_input": "2021-09-23T12:11:57.318629Z",
     "iopub.status.busy": "2021-09-23T12:11:57.318069Z",
     "iopub.status.idle": "2021-09-23T12:11:57.320767Z",
     "shell.execute_reply": "2021-09-23T12:11:57.321264Z"
    },
    "papermill": {
     "duration": 0.035822,
     "end_time": "2021-09-23T12:11:57.321373",
     "exception": false,
     "start_time": "2021-09-23T12:11:57.285551",
     "status": "completed"
    },
    "tags": []
   },
   "outputs": [],
   "source": [
    "# #hide\n",
    "# g = g.reset_index(['date'])"
   ]
  },
  {
   "cell_type": "code",
   "execution_count": 25,
   "id": "incomplete-mustang",
   "metadata": {
    "execution": {
     "iopub.execute_input": "2021-09-23T12:11:57.385317Z",
     "iopub.status.busy": "2021-09-23T12:11:57.384707Z",
     "iopub.status.idle": "2021-09-23T12:11:57.386841Z",
     "shell.execute_reply": "2021-09-23T12:11:57.387280Z"
    },
    "papermill": {
     "duration": 0.035466,
     "end_time": "2021-09-23T12:11:57.387397",
     "exception": false,
     "start_time": "2021-09-23T12:11:57.351931",
     "status": "completed"
    },
    "tags": []
   },
   "outputs": [],
   "source": [
    "#hide\n",
    "# g.head()"
   ]
  },
  {
   "cell_type": "code",
   "execution_count": 26,
   "id": "specific-kruger",
   "metadata": {
    "execution": {
     "iopub.execute_input": "2021-09-23T12:11:57.453978Z",
     "iopub.status.busy": "2021-09-23T12:11:57.453379Z",
     "iopub.status.idle": "2021-09-23T12:11:57.455773Z",
     "shell.execute_reply": "2021-09-23T12:11:57.456274Z"
    },
    "papermill": {
     "duration": 0.03773,
     "end_time": "2021-09-23T12:11:57.456406",
     "exception": false,
     "start_time": "2021-09-23T12:11:57.418676",
     "status": "completed"
    },
    "tags": []
   },
   "outputs": [],
   "source": [
    "#hide\n",
    "# g.columns = ['date','country','cases']"
   ]
  },
  {
   "cell_type": "code",
   "execution_count": 27,
   "id": "tender-conversion",
   "metadata": {
    "execution": {
     "iopub.execute_input": "2021-09-23T12:11:57.521578Z",
     "iopub.status.busy": "2021-09-23T12:11:57.521012Z",
     "iopub.status.idle": "2021-09-23T12:11:57.523522Z",
     "shell.execute_reply": "2021-09-23T12:11:57.523984Z"
    },
    "papermill": {
     "duration": 0.036744,
     "end_time": "2021-09-23T12:11:57.524089",
     "exception": false,
     "start_time": "2021-09-23T12:11:57.487345",
     "status": "completed"
    },
    "tags": []
   },
   "outputs": [],
   "source": [
    "#hide\n",
    "# g['continent'] = g.country"
   ]
  },
  {
   "cell_type": "code",
   "execution_count": 28,
   "id": "substantial-wilderness",
   "metadata": {
    "execution": {
     "iopub.execute_input": "2021-09-23T12:11:57.585916Z",
     "iopub.status.busy": "2021-09-23T12:11:57.585321Z",
     "iopub.status.idle": "2021-09-23T12:11:57.587596Z",
     "shell.execute_reply": "2021-09-23T12:11:57.587985Z"
    },
    "papermill": {
     "duration": 0.034723,
     "end_time": "2021-09-23T12:11:57.588090",
     "exception": false,
     "start_time": "2021-09-23T12:11:57.553367",
     "status": "completed"
    },
    "tags": []
   },
   "outputs": [],
   "source": [
    "#hide\n",
    "# cols = list(g.columns.values)"
   ]
  },
  {
   "cell_type": "code",
   "execution_count": 29,
   "id": "solved-farming",
   "metadata": {
    "execution": {
     "iopub.execute_input": "2021-09-23T12:11:57.648479Z",
     "iopub.status.busy": "2021-09-23T12:11:57.647995Z",
     "iopub.status.idle": "2021-09-23T12:11:57.650211Z",
     "shell.execute_reply": "2021-09-23T12:11:57.649822Z"
    },
    "papermill": {
     "duration": 0.033353,
     "end_time": "2021-09-23T12:11:57.650306",
     "exception": false,
     "start_time": "2021-09-23T12:11:57.616953",
     "status": "completed"
    },
    "tags": []
   },
   "outputs": [],
   "source": [
    "#hide\n",
    "# cols.insert(0, cols.pop())"
   ]
  },
  {
   "cell_type": "code",
   "execution_count": 30,
   "id": "executed-adoption",
   "metadata": {
    "execution": {
     "iopub.execute_input": "2021-09-23T12:11:57.714817Z",
     "iopub.status.busy": "2021-09-23T12:11:57.714219Z",
     "iopub.status.idle": "2021-09-23T12:11:57.716464Z",
     "shell.execute_reply": "2021-09-23T12:11:57.717062Z"
    },
    "papermill": {
     "duration": 0.037455,
     "end_time": "2021-09-23T12:11:57.717190",
     "exception": false,
     "start_time": "2021-09-23T12:11:57.679735",
     "status": "completed"
    },
    "tags": []
   },
   "outputs": [],
   "source": [
    "#hide\n",
    "# g = g[cols]"
   ]
  },
  {
   "cell_type": "code",
   "execution_count": 31,
   "id": "subject-dublin",
   "metadata": {
    "execution": {
     "iopub.execute_input": "2021-09-23T12:11:57.782379Z",
     "iopub.status.busy": "2021-09-23T12:11:57.781865Z",
     "iopub.status.idle": "2021-09-23T12:11:57.783822Z",
     "shell.execute_reply": "2021-09-23T12:11:57.784346Z"
    },
    "papermill": {
     "duration": 0.036214,
     "end_time": "2021-09-23T12:11:57.784463",
     "exception": false,
     "start_time": "2021-09-23T12:11:57.748249",
     "status": "completed"
    },
    "tags": []
   },
   "outputs": [],
   "source": [
    "#hide\n",
    "# g['continent'] = g['continent'].map(mapping['map.continent'])"
   ]
  },
  {
   "cell_type": "code",
   "execution_count": 32,
   "id": "freelance-scout",
   "metadata": {
    "execution": {
     "iopub.execute_input": "2021-09-23T12:11:57.847206Z",
     "iopub.status.busy": "2021-09-23T12:11:57.846655Z",
     "iopub.status.idle": "2021-09-23T12:11:57.849069Z",
     "shell.execute_reply": "2021-09-23T12:11:57.849582Z"
    },
    "papermill": {
     "duration": 0.03666,
     "end_time": "2021-09-23T12:11:57.849709",
     "exception": false,
     "start_time": "2021-09-23T12:11:57.813049",
     "status": "completed"
    },
    "tags": []
   },
   "outputs": [],
   "source": [
    "#hide\n",
    "# g.head()"
   ]
  },
  {
   "cell_type": "code",
   "execution_count": 33,
   "id": "limited-engine",
   "metadata": {
    "execution": {
     "iopub.execute_input": "2021-09-23T12:11:57.914052Z",
     "iopub.status.busy": "2021-09-23T12:11:57.913522Z",
     "iopub.status.idle": "2021-09-23T12:11:57.915595Z",
     "shell.execute_reply": "2021-09-23T12:11:57.916012Z"
    },
    "papermill": {
     "duration": 0.035813,
     "end_time": "2021-09-23T12:11:57.916134",
     "exception": false,
     "start_time": "2021-09-23T12:11:57.880321",
     "status": "completed"
    },
    "tags": []
   },
   "outputs": [],
   "source": [
    "# hide\n",
    "# g['date'] = g['date'].astype('datetime64[ns]')"
   ]
  },
  {
   "cell_type": "code",
   "execution_count": 34,
   "id": "sophisticated-supervisor",
   "metadata": {
    "execution": {
     "iopub.execute_input": "2021-09-23T12:11:57.982106Z",
     "iopub.status.busy": "2021-09-23T12:11:57.981558Z",
     "iopub.status.idle": "2021-09-23T12:11:57.983866Z",
     "shell.execute_reply": "2021-09-23T12:11:57.984389Z"
    },
    "papermill": {
     "duration": 0.037756,
     "end_time": "2021-09-23T12:11:57.984505",
     "exception": false,
     "start_time": "2021-09-23T12:11:57.946749",
     "status": "completed"
    },
    "tags": []
   },
   "outputs": [],
   "source": [
    "#hide\n",
    "# g['date'] = g.date.dt.dayofyear"
   ]
  },
  {
   "cell_type": "code",
   "execution_count": 35,
   "id": "inside-dubai",
   "metadata": {
    "execution": {
     "iopub.execute_input": "2021-09-23T12:11:58.053319Z",
     "iopub.status.busy": "2021-09-23T12:11:58.052683Z",
     "iopub.status.idle": "2021-09-23T12:11:58.055556Z",
     "shell.execute_reply": "2021-09-23T12:11:58.055078Z"
    },
    "papermill": {
     "duration": 0.03894,
     "end_time": "2021-09-23T12:11:58.055675",
     "exception": false,
     "start_time": "2021-09-23T12:11:58.016735",
     "status": "completed"
    },
    "tags": []
   },
   "outputs": [],
   "source": [
    "#hide\n",
    "# g = g.rename(columns= {'continent':'group','country':'name','cases':'value'})"
   ]
  },
  {
   "cell_type": "code",
   "execution_count": 36,
   "id": "fleet-motorcycle",
   "metadata": {
    "execution": {
     "iopub.execute_input": "2021-09-23T12:11:58.123804Z",
     "iopub.status.busy": "2021-09-23T12:11:58.123250Z",
     "iopub.status.idle": "2021-09-23T12:11:58.125527Z",
     "shell.execute_reply": "2021-09-23T12:11:58.125918Z"
    },
    "papermill": {
     "duration": 0.038521,
     "end_time": "2021-09-23T12:11:58.126025",
     "exception": false,
     "start_time": "2021-09-23T12:11:58.087504",
     "status": "completed"
    },
    "tags": []
   },
   "outputs": [],
   "source": [
    "#hide\n",
    "# cols = ['name','group','day','value']"
   ]
  },
  {
   "cell_type": "code",
   "execution_count": 37,
   "id": "continued-sleeping",
   "metadata": {
    "execution": {
     "iopub.execute_input": "2021-09-23T12:11:58.191298Z",
     "iopub.status.busy": "2021-09-23T12:11:58.190812Z",
     "iopub.status.idle": "2021-09-23T12:11:58.193400Z",
     "shell.execute_reply": "2021-09-23T12:11:58.193903Z"
    },
    "papermill": {
     "duration": 0.03655,
     "end_time": "2021-09-23T12:11:58.194038",
     "exception": false,
     "start_time": "2021-09-23T12:11:58.157488",
     "status": "completed"
    },
    "tags": []
   },
   "outputs": [],
   "source": [
    "#hide\n",
    "# g.rename(columns= {'date':'day'},inplace = True)"
   ]
  },
  {
   "cell_type": "code",
   "execution_count": 38,
   "id": "major-fight",
   "metadata": {
    "execution": {
     "iopub.execute_input": "2021-09-23T12:11:58.255303Z",
     "iopub.status.busy": "2021-09-23T12:11:58.254762Z",
     "iopub.status.idle": "2021-09-23T12:11:58.257077Z",
     "shell.execute_reply": "2021-09-23T12:11:58.257525Z"
    },
    "papermill": {
     "duration": 0.035809,
     "end_time": "2021-09-23T12:11:58.257644",
     "exception": false,
     "start_time": "2021-09-23T12:11:58.221835",
     "status": "completed"
    },
    "tags": []
   },
   "outputs": [],
   "source": [
    "#hide\n",
    "# g = g[cols]"
   ]
  },
  {
   "cell_type": "code",
   "execution_count": 39,
   "id": "structured-mobile",
   "metadata": {
    "execution": {
     "iopub.execute_input": "2021-09-23T12:11:58.321390Z",
     "iopub.status.busy": "2021-09-23T12:11:58.320889Z",
     "iopub.status.idle": "2021-09-23T12:11:58.323284Z",
     "shell.execute_reply": "2021-09-23T12:11:58.323839Z"
    },
    "papermill": {
     "duration": 0.03752,
     "end_time": "2021-09-23T12:11:58.323966",
     "exception": false,
     "start_time": "2021-09-23T12:11:58.286446",
     "status": "completed"
    },
    "tags": []
   },
   "outputs": [],
   "source": [
    "# #hide\n",
    "# g = g[g.group.notna()]"
   ]
  },
  {
   "cell_type": "code",
   "execution_count": 40,
   "id": "determined-closing",
   "metadata": {
    "execution": {
     "iopub.execute_input": "2021-09-23T12:11:58.388978Z",
     "iopub.status.busy": "2021-09-23T12:11:58.388379Z",
     "iopub.status.idle": "2021-09-23T12:11:58.391051Z",
     "shell.execute_reply": "2021-09-23T12:11:58.390607Z"
    },
    "papermill": {
     "duration": 0.038232,
     "end_time": "2021-09-23T12:11:58.391162",
     "exception": false,
     "start_time": "2021-09-23T12:11:58.352930",
     "status": "completed"
    },
    "tags": []
   },
   "outputs": [],
   "source": [
    "# #hide\n",
    "# colors = dict(zip(\n",
    "#     [\"Oceania\", \"Europe\", \"Asia\", \"South America\", \"Middle East\", \"North America\", \"Africa\"],\n",
    "#     [\"#adb0ff\", \"#ffb3ff\", \"#90d595\", \"#e48381\", \"#aafbff\", \"#f7bb5f\", \"#eafb50\"]\n",
    "# ))\n",
    "# group_lk = g.set_index('name')['group'].to_dict()"
   ]
  },
  {
   "cell_type": "code",
   "execution_count": null,
   "id": "gross-drinking",
   "metadata": {
    "papermill": {
     "duration": 0.030777,
     "end_time": "2021-09-23T12:11:58.449662",
     "exception": false,
     "start_time": "2021-09-23T12:11:58.418885",
     "status": "completed"
    },
    "tags": []
   },
   "outputs": [],
   "source": []
  },
  {
   "cell_type": "code",
   "execution_count": 41,
   "id": "subject-macintosh",
   "metadata": {
    "execution": {
     "iopub.execute_input": "2021-09-23T12:11:58.515588Z",
     "iopub.status.busy": "2021-09-23T12:11:58.514994Z",
     "iopub.status.idle": "2021-09-23T12:11:58.517469Z",
     "shell.execute_reply": "2021-09-23T12:11:58.518002Z"
    },
    "papermill": {
     "duration": 0.038368,
     "end_time": "2021-09-23T12:11:58.518133",
     "exception": false,
     "start_time": "2021-09-23T12:11:58.479765",
     "status": "completed"
    },
    "tags": []
   },
   "outputs": [],
   "source": [
    "# #hide\n",
    "# fig, ax = plt.subplots(figsize=(15, 8))\n",
    "\n",
    "# def draw_barchart(current_day):\n",
    "#     dff = g[g['day'].eq(current_day)].sort_values(by='value', ascending=True).tail(10)\n",
    "#     ax.clear()\n",
    "#     ax.barh(dff['name'], dff['value'], color=[colors[group_lk[x]] for x in dff['name']])\n",
    "#     dx = dff['value'].max() / 200\n",
    "    \n",
    "#     for i, (value, name) in enumerate(zip(dff['value'], dff['name'])):\n",
    "#         ax.text(value-dx, i,     name,           size=14, weight=600, ha='right', va='bottom')\n",
    "#         ax.text(value-dx, i-.25, group_lk[name], size=10, color='#444444', ha='right', va='baseline')\n",
    "#         ax.text(value+dx, i,     f'{value:,.0f}',  size=14, ha='left',  va='center')\n",
    "#     ax.text(1, 0.4, current_day, transform=ax.transAxes, color='#777777', size=46, ha='right', weight=800)\n",
    "#     ax.text(0, 1.06, 'Population (thousands)', transform=ax.transAxes, size=12, color='#777777')\n",
    "#     ax.xaxis.set_major_formatter(ticker.StrMethodFormatter('{x:,.0f}'))\n",
    "#     ax.xaxis.set_ticks_position('top')\n",
    "#     ax.tick_params(axis='x', colors='#777777', labelsize=12)\n",
    "#     ax.set_yticks([])\n",
    "#     ax.margins(0, 0.01)\n",
    "#     ax.grid(which='major', axis='x', linestyle='-')\n",
    "#     ax.set_axisbelow(True)\n",
    "    \n",
    "#     ax.text(0, 1.15, 'Coronavirus',\n",
    "#             transform=ax.transAxes, size=24, weight=600, ha='left', va='top')\n",
    "# #     ax.text(1, 0, 'by @pratapvardhan; credit @jburnmurdoch', transform=ax.transAxes, color='#777777', ha='right',\n",
    "# #             bbox=dict(facecolor='white', alpha=0.8, edgecolor='white'))\n",
    "#     plt.box(False)"
   ]
  },
  {
   "cell_type": "code",
   "execution_count": 42,
   "id": "sexual-wages",
   "metadata": {
    "execution": {
     "iopub.execute_input": "2021-09-23T12:11:58.582459Z",
     "iopub.status.busy": "2021-09-23T12:11:58.581864Z",
     "iopub.status.idle": "2021-09-23T12:11:58.584191Z",
     "shell.execute_reply": "2021-09-23T12:11:58.584697Z"
    },
    "papermill": {
     "duration": 0.036416,
     "end_time": "2021-09-23T12:11:58.584828",
     "exception": false,
     "start_time": "2021-09-23T12:11:58.548412",
     "status": "completed"
    },
    "tags": []
   },
   "outputs": [],
   "source": [
    "# #hide_input\n",
    "# fig, ax = plt.subplots(figsize=(15, 8))\n",
    "# animator = animation.FuncAnimation(fig, draw_barchart, frames=range(g.day.values.min(), g.day.values.max()))\n",
    "# HTML(animator.to_jshtml())\n",
    "# # or use animator.to_html5_video() or animator.save() "
   ]
  },
  {
   "cell_type": "code",
   "execution_count": null,
   "id": "australian-container",
   "metadata": {
    "papermill": {
     "duration": 0.029716,
     "end_time": "2021-09-23T12:11:58.644732",
     "exception": false,
     "start_time": "2021-09-23T12:11:58.615016",
     "status": "completed"
    },
    "tags": []
   },
   "outputs": [],
   "source": []
  },
  {
   "cell_type": "code",
   "execution_count": null,
   "id": "mediterranean-pontiac",
   "metadata": {
    "papermill": {
     "duration": 0.030127,
     "end_time": "2021-09-23T12:11:58.705788",
     "exception": false,
     "start_time": "2021-09-23T12:11:58.675661",
     "status": "completed"
    },
    "tags": []
   },
   "outputs": [],
   "source": []
  },
  {
   "cell_type": "code",
   "execution_count": null,
   "id": "aging-legislature",
   "metadata": {
    "papermill": {
     "duration": 0.030484,
     "end_time": "2021-09-23T12:11:58.767211",
     "exception": false,
     "start_time": "2021-09-23T12:11:58.736727",
     "status": "completed"
    },
    "tags": []
   },
   "outputs": [],
   "source": []
  }
 ],
 "metadata": {
  "kernelspec": {
   "display_name": "Python 3",
   "language": "python",
   "name": "python3"
  },
  "language_info": {
   "codemirror_mode": {
    "name": "ipython",
    "version": 3
   },
   "file_extension": ".py",
   "mimetype": "text/x-python",
   "name": "python",
   "nbconvert_exporter": "python",
   "pygments_lexer": "ipython3",
   "version": "3.6.15"
  },
  "papermill": {
   "duration": 6.52799,
   "end_time": "2021-09-23T12:11:59.111244",
   "environment_variables": {},
   "exception": null,
   "input_path": "2020-03-21-covid19exp.ipynb",
   "output_path": "2020-03-21-covid19exp.ipynb",
   "parameters": {},
   "start_time": "2021-09-23T12:11:52.583254",
   "version": "2.0.0"
  }
 },
 "nbformat": 4,
 "nbformat_minor": 5
}