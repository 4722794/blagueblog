{
 "cells": [
  {
   "cell_type": "markdown",
   "id": "muslim-click",
   "metadata": {
    "papermill": {
     "duration": 0.036016,
     "end_time": "2021-10-06T12:11:13.020189",
     "exception": false,
     "start_time": "2021-10-06T12:11:12.984173",
     "status": "completed"
    },
    "tags": []
   },
   "source": [
    "# COVID-19 Case Race\n",
    "> A race chart to see rising cases around the world\n",
    "\n",
    "- author: Hargun Oberoi\n",
    "- image: images/covid-overview.png\n",
    "- hide: false\n",
    "- badges: false"
   ]
  },
  {
   "cell_type": "code",
   "execution_count": 1,
   "id": "proof-material",
   "metadata": {
    "execution": {
     "iopub.execute_input": "2021-10-06T12:11:13.100975Z",
     "iopub.status.busy": "2021-10-06T12:11:13.096707Z",
     "iopub.status.idle": "2021-10-06T12:11:13.470177Z",
     "shell.execute_reply": "2021-10-06T12:11:13.469638Z"
    },
    "papermill": {
     "duration": 0.415976,
     "end_time": "2021-10-06T12:11:13.470341",
     "exception": false,
     "start_time": "2021-10-06T12:11:13.054365",
     "status": "completed"
    },
    "tags": []
   },
   "outputs": [],
   "source": [
    "#hide\n",
    "import numpy as np\n",
    "import pandas as pd\n",
    "from jinja2 import Template\n",
    "from IPython.display import HTML"
   ]
  },
  {
   "cell_type": "code",
   "execution_count": 2,
   "id": "developed-terminology",
   "metadata": {
    "execution": {
     "iopub.execute_input": "2021-10-06T12:11:13.544910Z",
     "iopub.status.busy": "2021-10-06T12:11:13.544343Z",
     "iopub.status.idle": "2021-10-06T12:11:13.546111Z",
     "shell.execute_reply": "2021-10-06T12:11:13.546571Z"
    },
    "papermill": {
     "duration": 0.04218,
     "end_time": "2021-10-06T12:11:13.546741",
     "exception": false,
     "start_time": "2021-10-06T12:11:13.504561",
     "status": "completed"
    },
    "tags": []
   },
   "outputs": [],
   "source": [
    "#hide\n",
    "\n",
    "# FETCH\n",
    "base_url = 'https://raw.githubusercontent.com/pratapvardhan/notebooks/master/covid19/'\n",
    "paths = {\n",
    "    'mapping': base_url + 'mapping_countries.csv',\n",
    "    'overview': base_url + 'overview.tpl'\n",
    "}"
   ]
  },
  {
   "cell_type": "code",
   "execution_count": 3,
   "id": "dynamic-saver",
   "metadata": {
    "execution": {
     "iopub.execute_input": "2021-10-06T12:11:13.627257Z",
     "iopub.status.busy": "2021-10-06T12:11:13.626611Z",
     "iopub.status.idle": "2021-10-06T12:11:13.629754Z",
     "shell.execute_reply": "2021-10-06T12:11:13.629214Z"
    },
    "papermill": {
     "duration": 0.050754,
     "end_time": "2021-10-06T12:11:13.629915",
     "exception": false,
     "start_time": "2021-10-06T12:11:13.579161",
     "status": "completed"
    },
    "tags": []
   },
   "outputs": [
    {
     "data": {
      "text/plain": [
       "'https://raw.githubusercontent.com/pratapvardhan/notebooks/master/covid19/mapping_countries.csv'"
      ]
     },
     "execution_count": 3,
     "metadata": {},
     "output_type": "execute_result"
    }
   ],
   "source": [
    "#hide\n",
    "paths['mapping']"
   ]
  },
  {
   "cell_type": "code",
   "execution_count": 4,
   "id": "urban-software",
   "metadata": {
    "execution": {
     "iopub.execute_input": "2021-10-06T12:11:13.701101Z",
     "iopub.status.busy": "2021-10-06T12:11:13.700499Z",
     "iopub.status.idle": "2021-10-06T12:11:13.703112Z",
     "shell.execute_reply": "2021-10-06T12:11:13.702583Z"
    },
    "papermill": {
     "duration": 0.040106,
     "end_time": "2021-10-06T12:11:13.703234",
     "exception": false,
     "start_time": "2021-10-06T12:11:13.663128",
     "status": "completed"
    },
    "tags": []
   },
   "outputs": [],
   "source": [
    "#hide\n",
    "def get_mappings(url):\n",
    "    df = pd.read_csv(url)\n",
    "    return {\n",
    "        'df': df,\n",
    "        'replace.country': dict(df.dropna(subset=['Name']).set_index('Country')['Name']),\n",
    "        'map.continent': dict(df.set_index('Name')['Continent'])\n",
    "    }"
   ]
  },
  {
   "cell_type": "code",
   "execution_count": 5,
   "id": "intimate-machinery",
   "metadata": {
    "execution": {
     "iopub.execute_input": "2021-10-06T12:11:13.777573Z",
     "iopub.status.busy": "2021-10-06T12:11:13.776982Z",
     "iopub.status.idle": "2021-10-06T12:11:13.819879Z",
     "shell.execute_reply": "2021-10-06T12:11:13.819224Z"
    },
    "papermill": {
     "duration": 0.08373,
     "end_time": "2021-10-06T12:11:13.820290",
     "exception": false,
     "start_time": "2021-10-06T12:11:13.736560",
     "status": "completed"
    },
    "tags": []
   },
   "outputs": [],
   "source": [
    "#hide\n",
    "mapping = get_mappings(paths['mapping'])"
   ]
  },
  {
   "cell_type": "code",
   "execution_count": 6,
   "id": "certified-tactics",
   "metadata": {
    "execution": {
     "iopub.execute_input": "2021-10-06T12:11:13.898412Z",
     "iopub.status.busy": "2021-10-06T12:11:13.897803Z",
     "iopub.status.idle": "2021-10-06T12:11:13.900215Z",
     "shell.execute_reply": "2021-10-06T12:11:13.899718Z"
    },
    "papermill": {
     "duration": 0.045498,
     "end_time": "2021-10-06T12:11:13.900340",
     "exception": false,
     "start_time": "2021-10-06T12:11:13.854842",
     "status": "completed"
    },
    "tags": []
   },
   "outputs": [],
   "source": [
    "#hide\n",
    "def get_template(path):\n",
    "    from urllib.parse import urlparse\n",
    "    if bool(urlparse(path).netloc):\n",
    "        from urllib.request import urlopen\n",
    "        return urlopen(path).read().decode('utf8')\n",
    "    return open(path).read()"
   ]
  },
  {
   "cell_type": "code",
   "execution_count": 7,
   "id": "realistic-blast",
   "metadata": {
    "execution": {
     "iopub.execute_input": "2021-10-06T12:11:13.971759Z",
     "iopub.status.busy": "2021-10-06T12:11:13.971145Z",
     "iopub.status.idle": "2021-10-06T12:11:13.973574Z",
     "shell.execute_reply": "2021-10-06T12:11:13.973083Z"
    },
    "papermill": {
     "duration": 0.040868,
     "end_time": "2021-10-06T12:11:13.973691",
     "exception": false,
     "start_time": "2021-10-06T12:11:13.932823",
     "status": "completed"
    },
    "tags": []
   },
   "outputs": [],
   "source": [
    "#hide\n",
    "def get_frame(name):\n",
    "    url = (\n",
    "        'https://raw.githubusercontent.com/CSSEGISandData/COVID-19/master/csse_covid_19_data/'\n",
    "        f'csse_covid_19_time_series/time_series_covid19_{name}_global.csv')\n",
    "    df = pd.read_csv(url)\n",
    "    # rename countries\n",
    "    df['Country/Region'] = df['Country/Region'].replace(mapping['replace.country'])\n",
    "    return df"
   ]
  },
  {
   "cell_type": "code",
   "execution_count": 8,
   "id": "affiliated-characterization",
   "metadata": {
    "execution": {
     "iopub.execute_input": "2021-10-06T12:11:14.049141Z",
     "iopub.status.busy": "2021-10-06T12:11:14.048140Z",
     "iopub.status.idle": "2021-10-06T12:11:14.050047Z",
     "shell.execute_reply": "2021-10-06T12:11:14.050506Z"
    },
    "papermill": {
     "duration": 0.042801,
     "end_time": "2021-10-06T12:11:14.050653",
     "exception": false,
     "start_time": "2021-10-06T12:11:14.007852",
     "status": "completed"
    },
    "tags": []
   },
   "outputs": [],
   "source": [
    "#hide\n",
    "def get_dates(df):\n",
    "    dt_cols = df.columns[~df.columns.isin(['Province/State', 'Country/Region', 'Lat', 'Long'])]\n",
    "    LAST_DATE_I = -1\n",
    "    # sometimes last column may be empty, then go backwards\n",
    "    for i in range(-1, -len(dt_cols), -1):\n",
    "        if not df[dt_cols[i]].fillna(0).eq(0).all():\n",
    "            LAST_DATE_I = i\n",
    "            break\n",
    "    return LAST_DATE_I, dt_cols"
   ]
  },
  {
   "cell_type": "code",
   "execution_count": 9,
   "id": "recent-optimization",
   "metadata": {
    "execution": {
     "iopub.execute_input": "2021-10-06T12:11:14.126062Z",
     "iopub.status.busy": "2021-10-06T12:11:14.125432Z",
     "iopub.status.idle": "2021-10-06T12:11:14.510499Z",
     "shell.execute_reply": "2021-10-06T12:11:14.511399Z"
    },
    "papermill": {
     "duration": 0.425613,
     "end_time": "2021-10-06T12:11:14.511687",
     "exception": false,
     "start_time": "2021-10-06T12:11:14.086074",
     "status": "completed"
    },
    "tags": []
   },
   "outputs": [],
   "source": [
    "#hide\n",
    "COL_REGION = 'Country/Region'\n",
    "# Confirmed, Recovered, Deaths\n",
    "df = get_frame('confirmed')\n",
    "# dft_: timeseries, dfc_: today country agg\n",
    "dft_cases = df\n",
    "dft_deaths = get_frame('deaths')\n",
    "dft_recovered = get_frame('recovered')\n",
    "LAST_DATE_I, dt_cols = get_dates(df)"
   ]
  },
  {
   "cell_type": "code",
   "execution_count": 10,
   "id": "absolute-copper",
   "metadata": {
    "execution": {
     "iopub.execute_input": "2021-10-06T12:11:14.586218Z",
     "iopub.status.busy": "2021-10-06T12:11:14.585625Z",
     "iopub.status.idle": "2021-10-06T12:11:14.588089Z",
     "shell.execute_reply": "2021-10-06T12:11:14.587700Z"
    },
    "papermill": {
     "duration": 0.0411,
     "end_time": "2021-10-06T12:11:14.588227",
     "exception": false,
     "start_time": "2021-10-06T12:11:14.547127",
     "status": "completed"
    },
    "tags": []
   },
   "outputs": [],
   "source": [
    "#hide\n",
    "LAST_DATE_I, dt_cols = get_dates(df)\n",
    "dt_today =dt_cols[LAST_DATE_I]\n",
    "# dt_5day = dt_cols[LAST_DATE_I - 5]\n",
    "dt_yday = dt_cols[LAST_DATE_I - 1]"
   ]
  },
  {
   "cell_type": "code",
   "execution_count": 11,
   "id": "restricted-sheriff",
   "metadata": {
    "execution": {
     "iopub.execute_input": "2021-10-06T12:11:14.661757Z",
     "iopub.status.busy": "2021-10-06T12:11:14.661144Z",
     "iopub.status.idle": "2021-10-06T12:11:14.669702Z",
     "shell.execute_reply": "2021-10-06T12:11:14.669159Z"
    },
    "papermill": {
     "duration": 0.048102,
     "end_time": "2021-10-06T12:11:14.669834",
     "exception": false,
     "start_time": "2021-10-06T12:11:14.621732",
     "status": "completed"
    },
    "tags": []
   },
   "outputs": [],
   "source": [
    "#hide\n",
    "dfc_cases = dft_cases.groupby(COL_REGION)[dt_today].sum()\n",
    "dfc_deaths = dft_deaths.groupby(COL_REGION)[dt_today].sum()\n",
    "# dfp_cases = dft_cases.groupby(COL_REGION)[dt_5day].sum()\n",
    "# dfp_deaths = dft_deaths.groupby(COL_REGION)[dt_5day].sum()\n",
    "dfp_cases = dft_cases.groupby(COL_REGION)[dt_yday].sum()\n",
    "dfp_deaths = dft_deaths.groupby(COL_REGION)[dt_yday].sum()"
   ]
  },
  {
   "cell_type": "code",
   "execution_count": 12,
   "id": "deluxe-hepatitis",
   "metadata": {
    "execution": {
     "iopub.execute_input": "2021-10-06T12:11:14.744828Z",
     "iopub.status.busy": "2021-10-06T12:11:14.744225Z",
     "iopub.status.idle": "2021-10-06T12:11:14.749168Z",
     "shell.execute_reply": "2021-10-06T12:11:14.748693Z"
    },
    "papermill": {
     "duration": 0.044843,
     "end_time": "2021-10-06T12:11:14.749301",
     "exception": false,
     "start_time": "2021-10-06T12:11:14.704458",
     "status": "completed"
    },
    "tags": []
   },
   "outputs": [],
   "source": [
    "#hide\n",
    "df_table = (pd.DataFrame(dict(Cases = dfc_cases, Deaths = dfc_deaths, PCases = dfp_cases, PDeaths = dfp_deaths))\n",
    "            .sort_values(by = ['Cases','Deaths'], ascending = [False, False])\n",
    "            .reset_index())"
   ]
  },
  {
   "cell_type": "code",
   "execution_count": 13,
   "id": "educational-chancellor",
   "metadata": {
    "execution": {
     "iopub.execute_input": "2021-10-06T12:11:14.825244Z",
     "iopub.status.busy": "2021-10-06T12:11:14.824670Z",
     "iopub.status.idle": "2021-10-06T12:11:14.844212Z",
     "shell.execute_reply": "2021-10-06T12:11:14.844987Z"
    },
    "papermill": {
     "duration": 0.063266,
     "end_time": "2021-10-06T12:11:14.845183",
     "exception": false,
     "start_time": "2021-10-06T12:11:14.781917",
     "status": "completed"
    },
    "tags": []
   },
   "outputs": [
    {
     "data": {
      "text/html": [
       "<div>\n",
       "<style scoped>\n",
       "    .dataframe tbody tr th:only-of-type {\n",
       "        vertical-align: middle;\n",
       "    }\n",
       "\n",
       "    .dataframe tbody tr th {\n",
       "        vertical-align: top;\n",
       "    }\n",
       "\n",
       "    .dataframe thead th {\n",
       "        text-align: right;\n",
       "    }\n",
       "</style>\n",
       "<table border=\"1\" class=\"dataframe\">\n",
       "  <thead>\n",
       "    <tr style=\"text-align: right;\">\n",
       "      <th></th>\n",
       "      <th>Country/Region</th>\n",
       "      <th>Cases</th>\n",
       "      <th>Deaths</th>\n",
       "      <th>PCases</th>\n",
       "      <th>PDeaths</th>\n",
       "      <th>Cases (+)</th>\n",
       "      <th>Deaths (+)</th>\n",
       "      <th>Fatality Rate</th>\n",
       "      <th>Continent</th>\n",
       "    </tr>\n",
       "  </thead>\n",
       "  <tbody>\n",
       "    <tr>\n",
       "      <th>0</th>\n",
       "      <td>US</td>\n",
       "      <td>43948011</td>\n",
       "      <td>705194</td>\n",
       "      <td>43852255</td>\n",
       "      <td>703278</td>\n",
       "      <td>95756</td>\n",
       "      <td>1916</td>\n",
       "      <td>1.60</td>\n",
       "      <td>North America</td>\n",
       "    </tr>\n",
       "    <tr>\n",
       "      <th>1</th>\n",
       "      <td>India</td>\n",
       "      <td>33871881</td>\n",
       "      <td>449538</td>\n",
       "      <td>33853048</td>\n",
       "      <td>449260</td>\n",
       "      <td>18833</td>\n",
       "      <td>278</td>\n",
       "      <td>1.33</td>\n",
       "      <td>Asia</td>\n",
       "    </tr>\n",
       "    <tr>\n",
       "      <th>2</th>\n",
       "      <td>Brazil</td>\n",
       "      <td>21499074</td>\n",
       "      <td>598829</td>\n",
       "      <td>21478546</td>\n",
       "      <td>598152</td>\n",
       "      <td>20528</td>\n",
       "      <td>677</td>\n",
       "      <td>2.79</td>\n",
       "      <td>South America</td>\n",
       "    </tr>\n",
       "    <tr>\n",
       "      <th>3</th>\n",
       "      <td>United Kingdom</td>\n",
       "      <td>8005496</td>\n",
       "      <td>137544</td>\n",
       "      <td>7972312</td>\n",
       "      <td>137378</td>\n",
       "      <td>33184</td>\n",
       "      <td>166</td>\n",
       "      <td>1.72</td>\n",
       "      <td>Europe</td>\n",
       "    </tr>\n",
       "    <tr>\n",
       "      <th>4</th>\n",
       "      <td>Russia</td>\n",
       "      <td>7524465</td>\n",
       "      <td>207932</td>\n",
       "      <td>7500000</td>\n",
       "      <td>207056</td>\n",
       "      <td>24465</td>\n",
       "      <td>876</td>\n",
       "      <td>2.76</td>\n",
       "      <td>Europe</td>\n",
       "    </tr>\n",
       "  </tbody>\n",
       "</table>\n",
       "</div>"
      ],
      "text/plain": [
       "   Country/Region     Cases  Deaths    PCases  PDeaths  Cases (+)  Deaths (+)  \\\n",
       "0              US  43948011  705194  43852255   703278      95756        1916   \n",
       "1           India  33871881  449538  33853048   449260      18833         278   \n",
       "2          Brazil  21499074  598829  21478546   598152      20528         677   \n",
       "3  United Kingdom   8005496  137544   7972312   137378      33184         166   \n",
       "4          Russia   7524465  207932   7500000   207056      24465         876   \n",
       "\n",
       "   Fatality Rate      Continent  \n",
       "0           1.60  North America  \n",
       "1           1.33           Asia  \n",
       "2           2.79  South America  \n",
       "3           1.72         Europe  \n",
       "4           2.76         Europe  "
      ]
     },
     "execution_count": 13,
     "metadata": {},
     "output_type": "execute_result"
    }
   ],
   "source": [
    "#hide\n",
    "for c in 'Cases, Deaths'.split(', '):\n",
    "    df_table[f'{c} (+)'] = (df_table[c] - df_table[f'P{c}']).clip(0)\n",
    "    #Clip ça veut dire, les chiffres negatif sont interdit\n",
    "df_table['Fatality Rate'] = (100* df_table['Deaths']/ df_table['Cases']).round(2)\n",
    "df_table['Continent'] = df_table['Country/Region'].map(mapping['map.continent'])\n",
    "df_table.head(5)"
   ]
  },
  {
   "cell_type": "code",
   "execution_count": 14,
   "id": "aboriginal-bulgaria",
   "metadata": {
    "execution": {
     "iopub.execute_input": "2021-10-06T12:11:14.922424Z",
     "iopub.status.busy": "2021-10-06T12:11:14.921852Z",
     "iopub.status.idle": "2021-10-06T12:11:14.925789Z",
     "shell.execute_reply": "2021-10-06T12:11:14.925309Z"
    },
    "papermill": {
     "duration": 0.043919,
     "end_time": "2021-10-06T12:11:14.925910",
     "exception": false,
     "start_time": "2021-10-06T12:11:14.881991",
     "status": "completed"
    },
    "tags": []
   },
   "outputs": [],
   "source": [
    "#hide\n",
    "#delete problematic countries from table\n",
    "df_table = df_table[~df_table['Country/Region'].isin(['Cape Verde', 'Cruise Ship', 'Kosovo'])]"
   ]
  },
  {
   "cell_type": "code",
   "execution_count": 15,
   "id": "fantastic-effect",
   "metadata": {
    "execution": {
     "iopub.execute_input": "2021-10-06T12:11:15.002036Z",
     "iopub.status.busy": "2021-10-06T12:11:15.001344Z",
     "iopub.status.idle": "2021-10-06T12:11:15.023161Z",
     "shell.execute_reply": "2021-10-06T12:11:15.022609Z"
    },
    "papermill": {
     "duration": 0.064492,
     "end_time": "2021-10-06T12:11:15.023304",
     "exception": false,
     "start_time": "2021-10-06T12:11:14.958812",
     "status": "completed"
    },
    "tags": []
   },
   "outputs": [
    {
     "data": {
      "text/html": [
       "<div>\n",
       "<style scoped>\n",
       "    .dataframe tbody tr th:only-of-type {\n",
       "        vertical-align: middle;\n",
       "    }\n",
       "\n",
       "    .dataframe tbody tr th {\n",
       "        vertical-align: top;\n",
       "    }\n",
       "\n",
       "    .dataframe thead th {\n",
       "        text-align: right;\n",
       "    }\n",
       "</style>\n",
       "<table border=\"1\" class=\"dataframe\">\n",
       "  <thead>\n",
       "    <tr style=\"text-align: right;\">\n",
       "      <th></th>\n",
       "      <th>Country/Region</th>\n",
       "      <th>Cases</th>\n",
       "      <th>Deaths</th>\n",
       "      <th>PCases</th>\n",
       "      <th>PDeaths</th>\n",
       "      <th>Cases (+)</th>\n",
       "      <th>Deaths (+)</th>\n",
       "      <th>Fatality Rate</th>\n",
       "      <th>Continent</th>\n",
       "    </tr>\n",
       "  </thead>\n",
       "  <tbody>\n",
       "    <tr>\n",
       "      <th>0</th>\n",
       "      <td>US</td>\n",
       "      <td>43948011</td>\n",
       "      <td>705194</td>\n",
       "      <td>43852255</td>\n",
       "      <td>703278</td>\n",
       "      <td>95756</td>\n",
       "      <td>1916</td>\n",
       "      <td>1.6</td>\n",
       "      <td>North America</td>\n",
       "    </tr>\n",
       "    <tr>\n",
       "      <th>1</th>\n",
       "      <td>India</td>\n",
       "      <td>33871881</td>\n",
       "      <td>449538</td>\n",
       "      <td>33853048</td>\n",
       "      <td>449260</td>\n",
       "      <td>18833</td>\n",
       "      <td>278</td>\n",
       "      <td>1.3</td>\n",
       "      <td>Asia</td>\n",
       "    </tr>\n",
       "    <tr>\n",
       "      <th>2</th>\n",
       "      <td>Brazil</td>\n",
       "      <td>21499074</td>\n",
       "      <td>598829</td>\n",
       "      <td>21478546</td>\n",
       "      <td>598152</td>\n",
       "      <td>20528</td>\n",
       "      <td>677</td>\n",
       "      <td>2.8</td>\n",
       "      <td>South America</td>\n",
       "    </tr>\n",
       "    <tr>\n",
       "      <th>3</th>\n",
       "      <td>United Kingdom</td>\n",
       "      <td>8005496</td>\n",
       "      <td>137544</td>\n",
       "      <td>7972312</td>\n",
       "      <td>137378</td>\n",
       "      <td>33184</td>\n",
       "      <td>166</td>\n",
       "      <td>1.7</td>\n",
       "      <td>Europe</td>\n",
       "    </tr>\n",
       "    <tr>\n",
       "      <th>4</th>\n",
       "      <td>Russia</td>\n",
       "      <td>7524465</td>\n",
       "      <td>207932</td>\n",
       "      <td>7500000</td>\n",
       "      <td>207056</td>\n",
       "      <td>24465</td>\n",
       "      <td>876</td>\n",
       "      <td>2.8</td>\n",
       "      <td>Europe</td>\n",
       "    </tr>\n",
       "  </tbody>\n",
       "</table>\n",
       "</div>"
      ],
      "text/plain": [
       "   Country/Region     Cases  Deaths    PCases  PDeaths  Cases (+)  Deaths (+)  \\\n",
       "0              US  43948011  705194  43852255   703278      95756        1916   \n",
       "1           India  33871881  449538  33853048   449260      18833         278   \n",
       "2          Brazil  21499074  598829  21478546   598152      20528         677   \n",
       "3  United Kingdom   8005496  137544   7972312   137378      33184         166   \n",
       "4          Russia   7524465  207932   7500000   207056      24465         876   \n",
       "\n",
       "   Fatality Rate      Continent  \n",
       "0            1.6  North America  \n",
       "1            1.3           Asia  \n",
       "2            2.8  South America  \n",
       "3            1.7         Europe  \n",
       "4            2.8         Europe  "
      ]
     },
     "execution_count": 15,
     "metadata": {},
     "output_type": "execute_result"
    }
   ],
   "source": [
    "#hide\n",
    "df_table = (pd.DataFrame(dict(Cases=dfc_cases, Deaths=dfc_deaths, PCases=dfp_cases, PDeaths=dfp_deaths))\n",
    "             .sort_values(by=['Cases', 'Deaths'], ascending=[False, False])\n",
    "             .reset_index())\n",
    "df_table.rename(columns={'index': 'Country/Region'}, inplace=True)\n",
    "for c in 'Cases, Deaths'.split(', '):\n",
    "    df_table[f'{c} (+)'] = (df_table[c] - df_table[f'P{c}']).clip(0)  # DATA BUG\n",
    "df_table['Fatality Rate'] = (100 * df_table['Deaths'] / df_table['Cases']).round(1)\n",
    "df_table['Continent'] = df_table['Country/Region'].map(mapping['map.continent'])\n",
    "df_table.head(5)"
   ]
  },
  {
   "cell_type": "code",
   "execution_count": 16,
   "id": "fewer-occasion",
   "metadata": {
    "execution": {
     "iopub.execute_input": "2021-10-06T12:11:15.101646Z",
     "iopub.status.busy": "2021-10-06T12:11:15.101015Z",
     "iopub.status.idle": "2021-10-06T12:11:15.103851Z",
     "shell.execute_reply": "2021-10-06T12:11:15.104363Z"
    },
    "papermill": {
     "duration": 0.045508,
     "end_time": "2021-10-06T12:11:15.104521",
     "exception": false,
     "start_time": "2021-10-06T12:11:15.059013",
     "status": "completed"
    },
    "tags": []
   },
   "outputs": [],
   "source": [
    "#hide\n",
    "#delete problematic countries from table\n",
    "df_table = df_table[~df_table['Country/Region'].isin(['Cape Verde', 'Cruise Ship', 'Kosovo'])]"
   ]
  },
  {
   "cell_type": "code",
   "execution_count": 17,
   "id": "related-center",
   "metadata": {
    "execution": {
     "iopub.execute_input": "2021-10-06T12:11:15.196611Z",
     "iopub.status.busy": "2021-10-06T12:11:15.195738Z",
     "iopub.status.idle": "2021-10-06T12:11:15.198299Z",
     "shell.execute_reply": "2021-10-06T12:11:15.197765Z"
    },
    "papermill": {
     "duration": 0.058118,
     "end_time": "2021-10-06T12:11:15.198435",
     "exception": false,
     "start_time": "2021-10-06T12:11:15.140317",
     "status": "completed"
    },
    "tags": []
   },
   "outputs": [],
   "source": [
    "#hide\n",
    "metrics = [df_table.columns[index] for index in [1,2,5,6]]\n",
    "# s_china = df_table[df_table['Country/Region'].eq('China')][metrics].sum().add_prefix('China ')\n",
    "s_us = df_table[df_table['Country/Region'].eq('US')][metrics].sum().add_prefix('US ')\n",
    "s_eu = df_table[df_table['Continent'].eq('Europe')][metrics].sum().add_prefix('EU ')\n",
    "s_ind = df_table[df_table['Country/Region'].eq('India')][metrics].sum().add_prefix('India ')\n",
    "summary = {'updated': pd.to_datetime(dt_today), 'since': pd.to_datetime(dt_yday)}\n",
    "summary = {'updated': pd.to_datetime(dt_today), 'since': pd.to_datetime(dt_yday)}\n",
    "summary = {**summary, **df_table[metrics].sum(), **s_ind, **s_us, **s_eu}"
   ]
  },
  {
   "cell_type": "code",
   "execution_count": 18,
   "id": "engaging-syndrome",
   "metadata": {
    "execution": {
     "iopub.execute_input": "2021-10-06T12:11:15.278101Z",
     "iopub.status.busy": "2021-10-06T12:11:15.277488Z",
     "iopub.status.idle": "2021-10-06T12:11:15.294824Z",
     "shell.execute_reply": "2021-10-06T12:11:15.293839Z"
    },
    "papermill": {
     "duration": 0.058814,
     "end_time": "2021-10-06T12:11:15.295044",
     "exception": false,
     "start_time": "2021-10-06T12:11:15.236230",
     "status": "completed"
    },
    "tags": []
   },
   "outputs": [],
   "source": [
    "#hide\n",
    "dft_ct_new_cases = dft_cases.groupby(COL_REGION)[dt_cols].sum().diff(axis=1).fillna(0).astype(int)"
   ]
  },
  {
   "cell_type": "code",
   "execution_count": 19,
   "id": "neutral-assignment",
   "metadata": {
    "execution": {
     "iopub.execute_input": "2021-10-06T12:11:15.374139Z",
     "iopub.status.busy": "2021-10-06T12:11:15.373549Z",
     "iopub.status.idle": "2021-10-06T12:11:15.376554Z",
     "shell.execute_reply": "2021-10-06T12:11:15.376081Z"
    },
    "papermill": {
     "duration": 0.044909,
     "end_time": "2021-10-06T12:11:15.376687",
     "exception": false,
     "start_time": "2021-10-06T12:11:15.331778",
     "status": "completed"
    },
    "tags": []
   },
   "outputs": [],
   "source": [
    "#hide\n",
    "everydaycases = dft_ct_new_cases.cumsum(axis=1)"
   ]
  },
  {
   "cell_type": "code",
   "execution_count": 20,
   "id": "parliamentary-calgary",
   "metadata": {
    "execution": {
     "iopub.execute_input": "2021-10-06T12:11:15.449664Z",
     "iopub.status.busy": "2021-10-06T12:11:15.449070Z",
     "iopub.status.idle": "2021-10-06T12:11:16.052714Z",
     "shell.execute_reply": "2021-10-06T12:11:16.051813Z"
    },
    "papermill": {
     "duration": 0.642147,
     "end_time": "2021-10-06T12:11:16.052861",
     "exception": false,
     "start_time": "2021-10-06T12:11:15.410714",
     "status": "completed"
    },
    "tags": []
   },
   "outputs": [],
   "source": [
    "#hide\n",
    "import pandas as pd\n",
    "import matplotlib.pyplot as plt\n",
    "import matplotlib.ticker as ticker\n",
    "import matplotlib.animation as animation\n",
    "from IPython.display import HTML"
   ]
  },
  {
   "cell_type": "code",
   "execution_count": 21,
   "id": "lasting-extraction",
   "metadata": {
    "execution": {
     "iopub.execute_input": "2021-10-06T12:11:16.135757Z",
     "iopub.status.busy": "2021-10-06T12:11:16.135103Z",
     "iopub.status.idle": "2021-10-06T12:11:16.142215Z",
     "shell.execute_reply": "2021-10-06T12:11:16.141656Z"
    },
    "papermill": {
     "duration": 0.052356,
     "end_time": "2021-10-06T12:11:16.142350",
     "exception": false,
     "start_time": "2021-10-06T12:11:16.089994",
     "status": "completed"
    },
    "tags": []
   },
   "outputs": [],
   "source": [
    "#hide\n",
    "t = everydaycases.stack()"
   ]
  },
  {
   "cell_type": "code",
   "execution_count": 22,
   "id": "premier-sleeve",
   "metadata": {
    "execution": {
     "iopub.execute_input": "2021-10-06T12:11:16.218176Z",
     "iopub.status.busy": "2021-10-06T12:11:16.217544Z",
     "iopub.status.idle": "2021-10-06T12:11:16.228038Z",
     "shell.execute_reply": "2021-10-06T12:11:16.227521Z"
    },
    "papermill": {
     "duration": 0.050553,
     "end_time": "2021-10-06T12:11:16.228172",
     "exception": false,
     "start_time": "2021-10-06T12:11:16.177619",
     "status": "completed"
    },
    "tags": []
   },
   "outputs": [],
   "source": [
    "#hide\n",
    "g = t.reset_index(['Country/Region'])"
   ]
  },
  {
   "cell_type": "code",
   "execution_count": 23,
   "id": "distributed-pittsburgh",
   "metadata": {
    "execution": {
     "iopub.execute_input": "2021-10-06T12:11:16.303641Z",
     "iopub.status.busy": "2021-10-06T12:11:16.303027Z",
     "iopub.status.idle": "2021-10-06T12:11:16.305251Z",
     "shell.execute_reply": "2021-10-06T12:11:16.304753Z"
    },
    "papermill": {
     "duration": 0.041311,
     "end_time": "2021-10-06T12:11:16.305381",
     "exception": false,
     "start_time": "2021-10-06T12:11:16.264070",
     "status": "completed"
    },
    "tags": []
   },
   "outputs": [],
   "source": [
    "#hide\n",
    "g.index.name = 'date'"
   ]
  },
  {
   "cell_type": "code",
   "execution_count": 24,
   "id": "naked-donor",
   "metadata": {
    "execution": {
     "iopub.execute_input": "2021-10-06T12:11:16.382246Z",
     "iopub.status.busy": "2021-10-06T12:11:16.381637Z",
     "iopub.status.idle": "2021-10-06T12:11:16.383840Z",
     "shell.execute_reply": "2021-10-06T12:11:16.384402Z"
    },
    "papermill": {
     "duration": 0.043859,
     "end_time": "2021-10-06T12:11:16.384552",
     "exception": false,
     "start_time": "2021-10-06T12:11:16.340693",
     "status": "completed"
    },
    "tags": []
   },
   "outputs": [],
   "source": [
    "# #hide\n",
    "# g = g.reset_index(['date'])"
   ]
  },
  {
   "cell_type": "code",
   "execution_count": 25,
   "id": "incomplete-mustang",
   "metadata": {
    "execution": {
     "iopub.execute_input": "2021-10-06T12:11:16.459975Z",
     "iopub.status.busy": "2021-10-06T12:11:16.459375Z",
     "iopub.status.idle": "2021-10-06T12:11:16.461944Z",
     "shell.execute_reply": "2021-10-06T12:11:16.461457Z"
    },
    "papermill": {
     "duration": 0.041705,
     "end_time": "2021-10-06T12:11:16.462077",
     "exception": false,
     "start_time": "2021-10-06T12:11:16.420372",
     "status": "completed"
    },
    "tags": []
   },
   "outputs": [],
   "source": [
    "#hide\n",
    "# g.head()"
   ]
  },
  {
   "cell_type": "code",
   "execution_count": 26,
   "id": "specific-kruger",
   "metadata": {
    "execution": {
     "iopub.execute_input": "2021-10-06T12:11:16.536925Z",
     "iopub.status.busy": "2021-10-06T12:11:16.536355Z",
     "iopub.status.idle": "2021-10-06T12:11:16.538841Z",
     "shell.execute_reply": "2021-10-06T12:11:16.539447Z"
    },
    "papermill": {
     "duration": 0.041558,
     "end_time": "2021-10-06T12:11:16.539590",
     "exception": false,
     "start_time": "2021-10-06T12:11:16.498032",
     "status": "completed"
    },
    "tags": []
   },
   "outputs": [],
   "source": [
    "#hide\n",
    "# g.columns = ['date','country','cases']"
   ]
  },
  {
   "cell_type": "code",
   "execution_count": 27,
   "id": "tender-conversion",
   "metadata": {
    "execution": {
     "iopub.execute_input": "2021-10-06T12:11:16.613890Z",
     "iopub.status.busy": "2021-10-06T12:11:16.613291Z",
     "iopub.status.idle": "2021-10-06T12:11:16.615592Z",
     "shell.execute_reply": "2021-10-06T12:11:16.615143Z"
    },
    "papermill": {
     "duration": 0.041078,
     "end_time": "2021-10-06T12:11:16.615716",
     "exception": false,
     "start_time": "2021-10-06T12:11:16.574638",
     "status": "completed"
    },
    "tags": []
   },
   "outputs": [],
   "source": [
    "#hide\n",
    "# g['continent'] = g.country"
   ]
  },
  {
   "cell_type": "code",
   "execution_count": 28,
   "id": "substantial-wilderness",
   "metadata": {
    "execution": {
     "iopub.execute_input": "2021-10-06T12:11:16.689648Z",
     "iopub.status.busy": "2021-10-06T12:11:16.689036Z",
     "iopub.status.idle": "2021-10-06T12:11:16.691351Z",
     "shell.execute_reply": "2021-10-06T12:11:16.690838Z"
    },
    "papermill": {
     "duration": 0.041759,
     "end_time": "2021-10-06T12:11:16.691479",
     "exception": false,
     "start_time": "2021-10-06T12:11:16.649720",
     "status": "completed"
    },
    "tags": []
   },
   "outputs": [],
   "source": [
    "#hide\n",
    "# cols = list(g.columns.values)"
   ]
  },
  {
   "cell_type": "code",
   "execution_count": 29,
   "id": "solved-farming",
   "metadata": {
    "execution": {
     "iopub.execute_input": "2021-10-06T12:11:16.769839Z",
     "iopub.status.busy": "2021-10-06T12:11:16.769238Z",
     "iopub.status.idle": "2021-10-06T12:11:16.771571Z",
     "shell.execute_reply": "2021-10-06T12:11:16.771126Z"
    },
    "papermill": {
     "duration": 0.0442,
     "end_time": "2021-10-06T12:11:16.771695",
     "exception": false,
     "start_time": "2021-10-06T12:11:16.727495",
     "status": "completed"
    },
    "tags": []
   },
   "outputs": [],
   "source": [
    "#hide\n",
    "# cols.insert(0, cols.pop())"
   ]
  },
  {
   "cell_type": "code",
   "execution_count": 30,
   "id": "executed-adoption",
   "metadata": {
    "execution": {
     "iopub.execute_input": "2021-10-06T12:11:16.844398Z",
     "iopub.status.busy": "2021-10-06T12:11:16.843833Z",
     "iopub.status.idle": "2021-10-06T12:11:16.846171Z",
     "shell.execute_reply": "2021-10-06T12:11:16.845687Z"
    },
    "papermill": {
     "duration": 0.039894,
     "end_time": "2021-10-06T12:11:16.846304",
     "exception": false,
     "start_time": "2021-10-06T12:11:16.806410",
     "status": "completed"
    },
    "tags": []
   },
   "outputs": [],
   "source": [
    "#hide\n",
    "# g = g[cols]"
   ]
  },
  {
   "cell_type": "code",
   "execution_count": 31,
   "id": "subject-dublin",
   "metadata": {
    "execution": {
     "iopub.execute_input": "2021-10-06T12:11:16.920091Z",
     "iopub.status.busy": "2021-10-06T12:11:16.919378Z",
     "iopub.status.idle": "2021-10-06T12:11:16.921012Z",
     "shell.execute_reply": "2021-10-06T12:11:16.921561Z"
    },
    "papermill": {
     "duration": 0.04084,
     "end_time": "2021-10-06T12:11:16.921708",
     "exception": false,
     "start_time": "2021-10-06T12:11:16.880868",
     "status": "completed"
    },
    "tags": []
   },
   "outputs": [],
   "source": [
    "#hide\n",
    "# g['continent'] = g['continent'].map(mapping['map.continent'])"
   ]
  },
  {
   "cell_type": "code",
   "execution_count": 32,
   "id": "freelance-scout",
   "metadata": {
    "execution": {
     "iopub.execute_input": "2021-10-06T12:11:16.996321Z",
     "iopub.status.busy": "2021-10-06T12:11:16.995716Z",
     "iopub.status.idle": "2021-10-06T12:11:16.998331Z",
     "shell.execute_reply": "2021-10-06T12:11:16.998958Z"
    },
    "papermill": {
     "duration": 0.042507,
     "end_time": "2021-10-06T12:11:16.999115",
     "exception": false,
     "start_time": "2021-10-06T12:11:16.956608",
     "status": "completed"
    },
    "tags": []
   },
   "outputs": [],
   "source": [
    "#hide\n",
    "# g.head()"
   ]
  },
  {
   "cell_type": "code",
   "execution_count": 33,
   "id": "limited-engine",
   "metadata": {
    "execution": {
     "iopub.execute_input": "2021-10-06T12:11:17.068923Z",
     "iopub.status.busy": "2021-10-06T12:11:17.068376Z",
     "iopub.status.idle": "2021-10-06T12:11:17.070777Z",
     "shell.execute_reply": "2021-10-06T12:11:17.071233Z"
    },
    "papermill": {
     "duration": 0.039547,
     "end_time": "2021-10-06T12:11:17.071382",
     "exception": false,
     "start_time": "2021-10-06T12:11:17.031835",
     "status": "completed"
    },
    "tags": []
   },
   "outputs": [],
   "source": [
    "# hide\n",
    "# g['date'] = g['date'].astype('datetime64[ns]')"
   ]
  },
  {
   "cell_type": "code",
   "execution_count": 34,
   "id": "sophisticated-supervisor",
   "metadata": {
    "execution": {
     "iopub.execute_input": "2021-10-06T12:11:17.144686Z",
     "iopub.status.busy": "2021-10-06T12:11:17.144078Z",
     "iopub.status.idle": "2021-10-06T12:11:17.146278Z",
     "shell.execute_reply": "2021-10-06T12:11:17.145814Z"
    },
    "papermill": {
     "duration": 0.041385,
     "end_time": "2021-10-06T12:11:17.146395",
     "exception": false,
     "start_time": "2021-10-06T12:11:17.105010",
     "status": "completed"
    },
    "tags": []
   },
   "outputs": [],
   "source": [
    "#hide\n",
    "# g['date'] = g.date.dt.dayofyear"
   ]
  },
  {
   "cell_type": "code",
   "execution_count": 35,
   "id": "inside-dubai",
   "metadata": {
    "execution": {
     "iopub.execute_input": "2021-10-06T12:11:17.219894Z",
     "iopub.status.busy": "2021-10-06T12:11:17.219269Z",
     "iopub.status.idle": "2021-10-06T12:11:17.222194Z",
     "shell.execute_reply": "2021-10-06T12:11:17.222797Z"
    },
    "papermill": {
     "duration": 0.043519,
     "end_time": "2021-10-06T12:11:17.222981",
     "exception": false,
     "start_time": "2021-10-06T12:11:17.179462",
     "status": "completed"
    },
    "tags": []
   },
   "outputs": [],
   "source": [
    "#hide\n",
    "# g = g.rename(columns= {'continent':'group','country':'name','cases':'value'})"
   ]
  },
  {
   "cell_type": "code",
   "execution_count": 36,
   "id": "fleet-motorcycle",
   "metadata": {
    "execution": {
     "iopub.execute_input": "2021-10-06T12:11:17.295362Z",
     "iopub.status.busy": "2021-10-06T12:11:17.294701Z",
     "iopub.status.idle": "2021-10-06T12:11:17.297120Z",
     "shell.execute_reply": "2021-10-06T12:11:17.296661Z"
    },
    "papermill": {
     "duration": 0.040489,
     "end_time": "2021-10-06T12:11:17.297236",
     "exception": false,
     "start_time": "2021-10-06T12:11:17.256747",
     "status": "completed"
    },
    "tags": []
   },
   "outputs": [],
   "source": [
    "#hide\n",
    "# cols = ['name','group','day','value']"
   ]
  },
  {
   "cell_type": "code",
   "execution_count": 37,
   "id": "continued-sleeping",
   "metadata": {
    "execution": {
     "iopub.execute_input": "2021-10-06T12:11:17.370598Z",
     "iopub.status.busy": "2021-10-06T12:11:17.370003Z",
     "iopub.status.idle": "2021-10-06T12:11:17.372126Z",
     "shell.execute_reply": "2021-10-06T12:11:17.372776Z"
    },
    "papermill": {
     "duration": 0.042053,
     "end_time": "2021-10-06T12:11:17.372933",
     "exception": false,
     "start_time": "2021-10-06T12:11:17.330880",
     "status": "completed"
    },
    "tags": []
   },
   "outputs": [],
   "source": [
    "#hide\n",
    "# g.rename(columns= {'date':'day'},inplace = True)"
   ]
  },
  {
   "cell_type": "code",
   "execution_count": 38,
   "id": "major-fight",
   "metadata": {
    "execution": {
     "iopub.execute_input": "2021-10-06T12:11:17.443560Z",
     "iopub.status.busy": "2021-10-06T12:11:17.442873Z",
     "iopub.status.idle": "2021-10-06T12:11:17.445271Z",
     "shell.execute_reply": "2021-10-06T12:11:17.444738Z"
    },
    "papermill": {
     "duration": 0.039046,
     "end_time": "2021-10-06T12:11:17.445398",
     "exception": false,
     "start_time": "2021-10-06T12:11:17.406352",
     "status": "completed"
    },
    "tags": []
   },
   "outputs": [],
   "source": [
    "#hide\n",
    "# g = g[cols]"
   ]
  },
  {
   "cell_type": "code",
   "execution_count": 39,
   "id": "structured-mobile",
   "metadata": {
    "execution": {
     "iopub.execute_input": "2021-10-06T12:11:17.517365Z",
     "iopub.status.busy": "2021-10-06T12:11:17.516783Z",
     "iopub.status.idle": "2021-10-06T12:11:17.518923Z",
     "shell.execute_reply": "2021-10-06T12:11:17.519400Z"
    },
    "papermill": {
     "duration": 0.041092,
     "end_time": "2021-10-06T12:11:17.519560",
     "exception": false,
     "start_time": "2021-10-06T12:11:17.478468",
     "status": "completed"
    },
    "tags": []
   },
   "outputs": [],
   "source": [
    "# #hide\n",
    "# g = g[g.group.notna()]"
   ]
  },
  {
   "cell_type": "code",
   "execution_count": 40,
   "id": "determined-closing",
   "metadata": {
    "execution": {
     "iopub.execute_input": "2021-10-06T12:11:17.590775Z",
     "iopub.status.busy": "2021-10-06T12:11:17.590132Z",
     "iopub.status.idle": "2021-10-06T12:11:17.592082Z",
     "shell.execute_reply": "2021-10-06T12:11:17.592557Z"
    },
    "papermill": {
     "duration": 0.04025,
     "end_time": "2021-10-06T12:11:17.592698",
     "exception": false,
     "start_time": "2021-10-06T12:11:17.552448",
     "status": "completed"
    },
    "tags": []
   },
   "outputs": [],
   "source": [
    "# #hide\n",
    "# colors = dict(zip(\n",
    "#     [\"Oceania\", \"Europe\", \"Asia\", \"South America\", \"Middle East\", \"North America\", \"Africa\"],\n",
    "#     [\"#adb0ff\", \"#ffb3ff\", \"#90d595\", \"#e48381\", \"#aafbff\", \"#f7bb5f\", \"#eafb50\"]\n",
    "# ))\n",
    "# group_lk = g.set_index('name')['group'].to_dict()"
   ]
  },
  {
   "cell_type": "code",
   "execution_count": null,
   "id": "gross-drinking",
   "metadata": {
    "papermill": {
     "duration": 0.034644,
     "end_time": "2021-10-06T12:11:17.660831",
     "exception": false,
     "start_time": "2021-10-06T12:11:17.626187",
     "status": "completed"
    },
    "tags": []
   },
   "outputs": [],
   "source": []
  },
  {
   "cell_type": "code",
   "execution_count": 41,
   "id": "subject-macintosh",
   "metadata": {
    "execution": {
     "iopub.execute_input": "2021-10-06T12:11:17.734057Z",
     "iopub.status.busy": "2021-10-06T12:11:17.733479Z",
     "iopub.status.idle": "2021-10-06T12:11:17.735520Z",
     "shell.execute_reply": "2021-10-06T12:11:17.736052Z"
    },
    "papermill": {
     "duration": 0.041249,
     "end_time": "2021-10-06T12:11:17.736189",
     "exception": false,
     "start_time": "2021-10-06T12:11:17.694940",
     "status": "completed"
    },
    "tags": []
   },
   "outputs": [],
   "source": [
    "# #hide\n",
    "# fig, ax = plt.subplots(figsize=(15, 8))\n",
    "\n",
    "# def draw_barchart(current_day):\n",
    "#     dff = g[g['day'].eq(current_day)].sort_values(by='value', ascending=True).tail(10)\n",
    "#     ax.clear()\n",
    "#     ax.barh(dff['name'], dff['value'], color=[colors[group_lk[x]] for x in dff['name']])\n",
    "#     dx = dff['value'].max() / 200\n",
    "    \n",
    "#     for i, (value, name) in enumerate(zip(dff['value'], dff['name'])):\n",
    "#         ax.text(value-dx, i,     name,           size=14, weight=600, ha='right', va='bottom')\n",
    "#         ax.text(value-dx, i-.25, group_lk[name], size=10, color='#444444', ha='right', va='baseline')\n",
    "#         ax.text(value+dx, i,     f'{value:,.0f}',  size=14, ha='left',  va='center')\n",
    "#     ax.text(1, 0.4, current_day, transform=ax.transAxes, color='#777777', size=46, ha='right', weight=800)\n",
    "#     ax.text(0, 1.06, 'Population (thousands)', transform=ax.transAxes, size=12, color='#777777')\n",
    "#     ax.xaxis.set_major_formatter(ticker.StrMethodFormatter('{x:,.0f}'))\n",
    "#     ax.xaxis.set_ticks_position('top')\n",
    "#     ax.tick_params(axis='x', colors='#777777', labelsize=12)\n",
    "#     ax.set_yticks([])\n",
    "#     ax.margins(0, 0.01)\n",
    "#     ax.grid(which='major', axis='x', linestyle='-')\n",
    "#     ax.set_axisbelow(True)\n",
    "    \n",
    "#     ax.text(0, 1.15, 'Coronavirus',\n",
    "#             transform=ax.transAxes, size=24, weight=600, ha='left', va='top')\n",
    "# #     ax.text(1, 0, 'by @pratapvardhan; credit @jburnmurdoch', transform=ax.transAxes, color='#777777', ha='right',\n",
    "# #             bbox=dict(facecolor='white', alpha=0.8, edgecolor='white'))\n",
    "#     plt.box(False)"
   ]
  },
  {
   "cell_type": "code",
   "execution_count": 42,
   "id": "sexual-wages",
   "metadata": {
    "execution": {
     "iopub.execute_input": "2021-10-06T12:11:17.807401Z",
     "iopub.status.busy": "2021-10-06T12:11:17.806800Z",
     "iopub.status.idle": "2021-10-06T12:11:17.808794Z",
     "shell.execute_reply": "2021-10-06T12:11:17.809294Z"
    },
    "papermill": {
     "duration": 0.039366,
     "end_time": "2021-10-06T12:11:17.809433",
     "exception": false,
     "start_time": "2021-10-06T12:11:17.770067",
     "status": "completed"
    },
    "tags": []
   },
   "outputs": [],
   "source": [
    "# #hide_input\n",
    "# fig, ax = plt.subplots(figsize=(15, 8))\n",
    "# animator = animation.FuncAnimation(fig, draw_barchart, frames=range(g.day.values.min(), g.day.values.max()))\n",
    "# HTML(animator.to_jshtml())\n",
    "# # or use animator.to_html5_video() or animator.save() "
   ]
  },
  {
   "cell_type": "code",
   "execution_count": null,
   "id": "australian-container",
   "metadata": {
    "papermill": {
     "duration": 0.033959,
     "end_time": "2021-10-06T12:11:17.876544",
     "exception": false,
     "start_time": "2021-10-06T12:11:17.842585",
     "status": "completed"
    },
    "tags": []
   },
   "outputs": [],
   "source": []
  },
  {
   "cell_type": "code",
   "execution_count": null,
   "id": "mediterranean-pontiac",
   "metadata": {
    "papermill": {
     "duration": 0.03428,
     "end_time": "2021-10-06T12:11:17.947203",
     "exception": false,
     "start_time": "2021-10-06T12:11:17.912923",
     "status": "completed"
    },
    "tags": []
   },
   "outputs": [],
   "source": []
  },
  {
   "cell_type": "code",
   "execution_count": null,
   "id": "aging-legislature",
   "metadata": {
    "papermill": {
     "duration": 0.035586,
     "end_time": "2021-10-06T12:11:18.018731",
     "exception": false,
     "start_time": "2021-10-06T12:11:17.983145",
     "status": "completed"
    },
    "tags": []
   },
   "outputs": [],
   "source": []
  }
 ],
 "metadata": {
  "kernelspec": {
   "display_name": "Python 3",
   "language": "python",
   "name": "python3"
  },
  "language_info": {
   "codemirror_mode": {
    "name": "ipython",
    "version": 3
   },
   "file_extension": ".py",
   "mimetype": "text/x-python",
   "name": "python",
   "nbconvert_exporter": "python",
   "pygments_lexer": "ipython3",
   "version": "3.6.15"
  },
  "papermill": {
   "duration": 6.567381,
   "end_time": "2021-10-06T12:11:18.464712",
   "environment_variables": {},
   "exception": null,
   "input_path": "2020-03-21-covid19exp.ipynb",
   "output_path": "2020-03-21-covid19exp.ipynb",
   "parameters": {},
   "start_time": "2021-10-06T12:11:11.897331",
   "version": "2.0.0"
  }
 },
 "nbformat": 4,
 "nbformat_minor": 5
}