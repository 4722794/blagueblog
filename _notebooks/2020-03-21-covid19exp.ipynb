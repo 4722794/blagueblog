{
 "cells": [
  {
   "cell_type": "markdown",
   "id": "muslim-click",
   "metadata": {
    "papermill": {
     "duration": 0.03421,
     "end_time": "2022-06-18T12:14:34.261791",
     "exception": false,
     "start_time": "2022-06-18T12:14:34.227581",
     "status": "completed"
    },
    "tags": []
   },
   "source": [
    "# COVID-19 Case Race\n",
    "> A race chart to see rising cases around the world\n",
    "\n",
    "- author: Hargun Oberoi\n",
    "- image: images/covid-overview.png\n",
    "- hide: false\n",
    "- badges: false"
   ]
  },
  {
   "cell_type": "code",
   "execution_count": 1,
   "id": "proof-material",
   "metadata": {
    "execution": {
     "iopub.execute_input": "2022-06-18T12:14:34.331610Z",
     "iopub.status.busy": "2022-06-18T12:14:34.331024Z",
     "iopub.status.idle": "2022-06-18T12:14:34.642545Z",
     "shell.execute_reply": "2022-06-18T12:14:34.643011Z"
    },
    "papermill": {
     "duration": 0.350402,
     "end_time": "2022-06-18T12:14:34.643176",
     "exception": false,
     "start_time": "2022-06-18T12:14:34.292774",
     "status": "completed"
    },
    "tags": []
   },
   "outputs": [],
   "source": [
    "#hide\n",
    "import numpy as np\n",
    "import pandas as pd\n",
    "from jinja2 import Template\n",
    "from IPython.display import HTML"
   ]
  },
  {
   "cell_type": "code",
   "execution_count": 2,
   "id": "developed-terminology",
   "metadata": {
    "execution": {
     "iopub.execute_input": "2022-06-18T12:14:34.706433Z",
     "iopub.status.busy": "2022-06-18T12:14:34.705847Z",
     "iopub.status.idle": "2022-06-18T12:14:34.708154Z",
     "shell.execute_reply": "2022-06-18T12:14:34.708706Z"
    },
    "papermill": {
     "duration": 0.03623,
     "end_time": "2022-06-18T12:14:34.708829",
     "exception": false,
     "start_time": "2022-06-18T12:14:34.672599",
     "status": "completed"
    },
    "tags": []
   },
   "outputs": [],
   "source": [
    "#hide\n",
    "\n",
    "# FETCH\n",
    "base_url = 'https://raw.githubusercontent.com/pratapvardhan/notebooks/master/covid19/'\n",
    "paths = {\n",
    "    'mapping': base_url + 'mapping_countries.csv',\n",
    "    'overview': base_url + 'overview.tpl'\n",
    "}"
   ]
  },
  {
   "cell_type": "code",
   "execution_count": 3,
   "id": "dynamic-saver",
   "metadata": {
    "execution": {
     "iopub.execute_input": "2022-06-18T12:14:34.776008Z",
     "iopub.status.busy": "2022-06-18T12:14:34.773967Z",
     "iopub.status.idle": "2022-06-18T12:14:34.779272Z",
     "shell.execute_reply": "2022-06-18T12:14:34.778808Z"
    },
    "papermill": {
     "duration": 0.04157,
     "end_time": "2022-06-18T12:14:34.779372",
     "exception": false,
     "start_time": "2022-06-18T12:14:34.737802",
     "status": "completed"
    },
    "tags": []
   },
   "outputs": [
    {
     "data": {
      "text/plain": [
       "'https://raw.githubusercontent.com/pratapvardhan/notebooks/master/covid19/mapping_countries.csv'"
      ]
     },
     "execution_count": 3,
     "metadata": {},
     "output_type": "execute_result"
    }
   ],
   "source": [
    "#hide\n",
    "paths['mapping']"
   ]
  },
  {
   "cell_type": "code",
   "execution_count": 4,
   "id": "urban-software",
   "metadata": {
    "execution": {
     "iopub.execute_input": "2022-06-18T12:14:34.842744Z",
     "iopub.status.busy": "2022-06-18T12:14:34.842175Z",
     "iopub.status.idle": "2022-06-18T12:14:34.844682Z",
     "shell.execute_reply": "2022-06-18T12:14:34.844219Z"
    },
    "papermill": {
     "duration": 0.036135,
     "end_time": "2022-06-18T12:14:34.844780",
     "exception": false,
     "start_time": "2022-06-18T12:14:34.808645",
     "status": "completed"
    },
    "tags": []
   },
   "outputs": [],
   "source": [
    "#hide\n",
    "def get_mappings(url):\n",
    "    df = pd.read_csv(url)\n",
    "    return {\n",
    "        'df': df,\n",
    "        'replace.country': dict(df.dropna(subset=['Name']).set_index('Country')['Name']),\n",
    "        'map.continent': dict(df.set_index('Name')['Continent'])\n",
    "    }"
   ]
  },
  {
   "cell_type": "code",
   "execution_count": 5,
   "id": "intimate-machinery",
   "metadata": {
    "execution": {
     "iopub.execute_input": "2022-06-18T12:14:34.908678Z",
     "iopub.status.busy": "2022-06-18T12:14:34.908094Z",
     "iopub.status.idle": "2022-06-18T12:14:34.955621Z",
     "shell.execute_reply": "2022-06-18T12:14:34.955089Z"
    },
    "papermill": {
     "duration": 0.08174,
     "end_time": "2022-06-18T12:14:34.955738",
     "exception": false,
     "start_time": "2022-06-18T12:14:34.873998",
     "status": "completed"
    },
    "tags": []
   },
   "outputs": [],
   "source": [
    "#hide\n",
    "mapping = get_mappings(paths['mapping'])"
   ]
  },
  {
   "cell_type": "code",
   "execution_count": 6,
   "id": "certified-tactics",
   "metadata": {
    "execution": {
     "iopub.execute_input": "2022-06-18T12:14:35.019382Z",
     "iopub.status.busy": "2022-06-18T12:14:35.018808Z",
     "iopub.status.idle": "2022-06-18T12:14:35.021370Z",
     "shell.execute_reply": "2022-06-18T12:14:35.020879Z"
    },
    "papermill": {
     "duration": 0.03617,
     "end_time": "2022-06-18T12:14:35.021475",
     "exception": false,
     "start_time": "2022-06-18T12:14:34.985305",
     "status": "completed"
    },
    "tags": []
   },
   "outputs": [],
   "source": [
    "#hide\n",
    "def get_template(path):\n",
    "    from urllib.parse import urlparse\n",
    "    if bool(urlparse(path).netloc):\n",
    "        from urllib.request import urlopen\n",
    "        return urlopen(path).read().decode('utf8')\n",
    "    return open(path).read()"
   ]
  },
  {
   "cell_type": "code",
   "execution_count": 7,
   "id": "realistic-blast",
   "metadata": {
    "execution": {
     "iopub.execute_input": "2022-06-18T12:14:35.084683Z",
     "iopub.status.busy": "2022-06-18T12:14:35.084026Z",
     "iopub.status.idle": "2022-06-18T12:14:35.086481Z",
     "shell.execute_reply": "2022-06-18T12:14:35.085956Z"
    },
    "papermill": {
     "duration": 0.035793,
     "end_time": "2022-06-18T12:14:35.086595",
     "exception": false,
     "start_time": "2022-06-18T12:14:35.050802",
     "status": "completed"
    },
    "tags": []
   },
   "outputs": [],
   "source": [
    "#hide\n",
    "def get_frame(name):\n",
    "    url = (\n",
    "        'https://raw.githubusercontent.com/CSSEGISandData/COVID-19/master/csse_covid_19_data/'\n",
    "        f'csse_covid_19_time_series/time_series_covid19_{name}_global.csv')\n",
    "    df = pd.read_csv(url)\n",
    "    # rename countries\n",
    "    df['Country/Region'] = df['Country/Region'].replace(mapping['replace.country'])\n",
    "    return df"
   ]
  },
  {
   "cell_type": "code",
   "execution_count": 8,
   "id": "affiliated-characterization",
   "metadata": {
    "execution": {
     "iopub.execute_input": "2022-06-18T12:14:35.150622Z",
     "iopub.status.busy": "2022-06-18T12:14:35.150050Z",
     "iopub.status.idle": "2022-06-18T12:14:35.152164Z",
     "shell.execute_reply": "2022-06-18T12:14:35.152581Z"
    },
    "papermill": {
     "duration": 0.036588,
     "end_time": "2022-06-18T12:14:35.152695",
     "exception": false,
     "start_time": "2022-06-18T12:14:35.116107",
     "status": "completed"
    },
    "tags": []
   },
   "outputs": [],
   "source": [
    "#hide\n",
    "def get_dates(df):\n",
    "    dt_cols = df.columns[~df.columns.isin(['Province/State', 'Country/Region', 'Lat', 'Long'])]\n",
    "    LAST_DATE_I = -1\n",
    "    # sometimes last column may be empty, then go backwards\n",
    "    for i in range(-1, -len(dt_cols), -1):\n",
    "        if not df[dt_cols[i]].fillna(0).eq(0).all():\n",
    "            LAST_DATE_I = i\n",
    "            break\n",
    "    return LAST_DATE_I, dt_cols"
   ]
  },
  {
   "cell_type": "code",
   "execution_count": 9,
   "id": "recent-optimization",
   "metadata": {
    "execution": {
     "iopub.execute_input": "2022-06-18T12:14:35.215702Z",
     "iopub.status.busy": "2022-06-18T12:14:35.215105Z",
     "iopub.status.idle": "2022-06-18T12:14:35.725918Z",
     "shell.execute_reply": "2022-06-18T12:14:35.724749Z"
    },
    "papermill": {
     "duration": 0.544225,
     "end_time": "2022-06-18T12:14:35.726050",
     "exception": false,
     "start_time": "2022-06-18T12:14:35.181825",
     "status": "completed"
    },
    "tags": []
   },
   "outputs": [],
   "source": [
    "#hide\n",
    "COL_REGION = 'Country/Region'\n",
    "# Confirmed, Recovered, Deaths\n",
    "df = get_frame('confirmed')\n",
    "# dft_: timeseries, dfc_: today country agg\n",
    "dft_cases = df\n",
    "dft_deaths = get_frame('deaths')\n",
    "dft_recovered = get_frame('recovered')\n",
    "LAST_DATE_I, dt_cols = get_dates(df)"
   ]
  },
  {
   "cell_type": "code",
   "execution_count": 10,
   "id": "absolute-copper",
   "metadata": {
    "execution": {
     "iopub.execute_input": "2022-06-18T12:14:35.790227Z",
     "iopub.status.busy": "2022-06-18T12:14:35.789564Z",
     "iopub.status.idle": "2022-06-18T12:14:35.791974Z",
     "shell.execute_reply": "2022-06-18T12:14:35.791445Z"
    },
    "papermill": {
     "duration": 0.036157,
     "end_time": "2022-06-18T12:14:35.792088",
     "exception": false,
     "start_time": "2022-06-18T12:14:35.755931",
     "status": "completed"
    },
    "tags": []
   },
   "outputs": [],
   "source": [
    "#hide\n",
    "LAST_DATE_I, dt_cols = get_dates(df)\n",
    "dt_today =dt_cols[LAST_DATE_I]\n",
    "# dt_5day = dt_cols[LAST_DATE_I - 5]\n",
    "dt_yday = dt_cols[LAST_DATE_I - 1]"
   ]
  },
  {
   "cell_type": "code",
   "execution_count": 11,
   "id": "restricted-sheriff",
   "metadata": {
    "execution": {
     "iopub.execute_input": "2022-06-18T12:14:35.857738Z",
     "iopub.status.busy": "2022-06-18T12:14:35.857163Z",
     "iopub.status.idle": "2022-06-18T12:14:35.862958Z",
     "shell.execute_reply": "2022-06-18T12:14:35.863425Z"
    },
    "papermill": {
     "duration": 0.041767,
     "end_time": "2022-06-18T12:14:35.863540",
     "exception": false,
     "start_time": "2022-06-18T12:14:35.821773",
     "status": "completed"
    },
    "tags": []
   },
   "outputs": [],
   "source": [
    "#hide\n",
    "dfc_cases = dft_cases.groupby(COL_REGION)[dt_today].sum()\n",
    "dfc_deaths = dft_deaths.groupby(COL_REGION)[dt_today].sum()\n",
    "# dfp_cases = dft_cases.groupby(COL_REGION)[dt_5day].sum()\n",
    "# dfp_deaths = dft_deaths.groupby(COL_REGION)[dt_5day].sum()\n",
    "dfp_cases = dft_cases.groupby(COL_REGION)[dt_yday].sum()\n",
    "dfp_deaths = dft_deaths.groupby(COL_REGION)[dt_yday].sum()"
   ]
  },
  {
   "cell_type": "code",
   "execution_count": 12,
   "id": "deluxe-hepatitis",
   "metadata": {
    "execution": {
     "iopub.execute_input": "2022-06-18T12:14:35.927392Z",
     "iopub.status.busy": "2022-06-18T12:14:35.926825Z",
     "iopub.status.idle": "2022-06-18T12:14:35.931576Z",
     "shell.execute_reply": "2022-06-18T12:14:35.932042Z"
    },
    "papermill": {
     "duration": 0.039295,
     "end_time": "2022-06-18T12:14:35.932154",
     "exception": false,
     "start_time": "2022-06-18T12:14:35.892859",
     "status": "completed"
    },
    "tags": []
   },
   "outputs": [],
   "source": [
    "#hide\n",
    "df_table = (pd.DataFrame(dict(Cases = dfc_cases, Deaths = dfc_deaths, PCases = dfp_cases, PDeaths = dfp_deaths))\n",
    "            .sort_values(by = ['Cases','Deaths'], ascending = [False, False])\n",
    "            .reset_index())"
   ]
  },
  {
   "cell_type": "code",
   "execution_count": 13,
   "id": "educational-chancellor",
   "metadata": {
    "execution": {
     "iopub.execute_input": "2022-06-18T12:14:36.007804Z",
     "iopub.status.busy": "2022-06-18T12:14:36.007224Z",
     "iopub.status.idle": "2022-06-18T12:14:36.015013Z",
     "shell.execute_reply": "2022-06-18T12:14:36.014550Z"
    },
    "papermill": {
     "duration": 0.05375,
     "end_time": "2022-06-18T12:14:36.015114",
     "exception": false,
     "start_time": "2022-06-18T12:14:35.961364",
     "status": "completed"
    },
    "tags": []
   },
   "outputs": [
    {
     "data": {
      "text/html": [
       "<div>\n",
       "<style scoped>\n",
       "    .dataframe tbody tr th:only-of-type {\n",
       "        vertical-align: middle;\n",
       "    }\n",
       "\n",
       "    .dataframe tbody tr th {\n",
       "        vertical-align: top;\n",
       "    }\n",
       "\n",
       "    .dataframe thead th {\n",
       "        text-align: right;\n",
       "    }\n",
       "</style>\n",
       "<table border=\"1\" class=\"dataframe\">\n",
       "  <thead>\n",
       "    <tr style=\"text-align: right;\">\n",
       "      <th></th>\n",
       "      <th>Country/Region</th>\n",
       "      <th>Cases</th>\n",
       "      <th>Deaths</th>\n",
       "      <th>PCases</th>\n",
       "      <th>PDeaths</th>\n",
       "      <th>Cases (+)</th>\n",
       "      <th>Deaths (+)</th>\n",
       "      <th>Fatality Rate</th>\n",
       "      <th>Continent</th>\n",
       "    </tr>\n",
       "  </thead>\n",
       "  <tbody>\n",
       "    <tr>\n",
       "      <th>0</th>\n",
       "      <td>US</td>\n",
       "      <td>86216418</td>\n",
       "      <td>1013358</td>\n",
       "      <td>86057735</td>\n",
       "      <td>1012647</td>\n",
       "      <td>158683</td>\n",
       "      <td>711</td>\n",
       "      <td>1.18</td>\n",
       "      <td>North America</td>\n",
       "    </tr>\n",
       "    <tr>\n",
       "      <th>1</th>\n",
       "      <td>India</td>\n",
       "      <td>43283793</td>\n",
       "      <td>524840</td>\n",
       "      <td>43270577</td>\n",
       "      <td>524817</td>\n",
       "      <td>13216</td>\n",
       "      <td>23</td>\n",
       "      <td>1.21</td>\n",
       "      <td>Asia</td>\n",
       "    </tr>\n",
       "    <tr>\n",
       "      <th>2</th>\n",
       "      <td>Brazil</td>\n",
       "      <td>31611769</td>\n",
       "      <td>668693</td>\n",
       "      <td>31611769</td>\n",
       "      <td>668693</td>\n",
       "      <td>0</td>\n",
       "      <td>0</td>\n",
       "      <td>2.12</td>\n",
       "      <td>South America</td>\n",
       "    </tr>\n",
       "    <tr>\n",
       "      <th>3</th>\n",
       "      <td>France</td>\n",
       "      <td>30279240</td>\n",
       "      <td>150078</td>\n",
       "      <td>30228615</td>\n",
       "      <td>150035</td>\n",
       "      <td>50625</td>\n",
       "      <td>43</td>\n",
       "      <td>0.50</td>\n",
       "      <td>Europe</td>\n",
       "    </tr>\n",
       "    <tr>\n",
       "      <th>4</th>\n",
       "      <td>Germany</td>\n",
       "      <td>27204953</td>\n",
       "      <td>140176</td>\n",
       "      <td>27124689</td>\n",
       "      <td>140118</td>\n",
       "      <td>80264</td>\n",
       "      <td>58</td>\n",
       "      <td>0.52</td>\n",
       "      <td>Europe</td>\n",
       "    </tr>\n",
       "  </tbody>\n",
       "</table>\n",
       "</div>"
      ],
      "text/plain": [
       "  Country/Region     Cases   Deaths    PCases  PDeaths  Cases (+)  Deaths (+)  \\\n",
       "0             US  86216418  1013358  86057735  1012647     158683         711   \n",
       "1          India  43283793   524840  43270577   524817      13216          23   \n",
       "2         Brazil  31611769   668693  31611769   668693          0           0   \n",
       "3         France  30279240   150078  30228615   150035      50625          43   \n",
       "4        Germany  27204953   140176  27124689   140118      80264          58   \n",
       "\n",
       "   Fatality Rate      Continent  \n",
       "0           1.18  North America  \n",
       "1           1.21           Asia  \n",
       "2           2.12  South America  \n",
       "3           0.50         Europe  \n",
       "4           0.52         Europe  "
      ]
     },
     "execution_count": 13,
     "metadata": {},
     "output_type": "execute_result"
    }
   ],
   "source": [
    "#hide\n",
    "for c in 'Cases, Deaths'.split(', '):\n",
    "    df_table[f'{c} (+)'] = (df_table[c] - df_table[f'P{c}']).clip(0)\n",
    "    #Clip ça veut dire, les chiffres negatif sont interdit\n",
    "df_table['Fatality Rate'] = (100* df_table['Deaths']/ df_table['Cases']).round(2)\n",
    "df_table['Continent'] = df_table['Country/Region'].map(mapping['map.continent'])\n",
    "df_table.head(5)"
   ]
  },
  {
   "cell_type": "code",
   "execution_count": 14,
   "id": "aboriginal-bulgaria",
   "metadata": {
    "execution": {
     "iopub.execute_input": "2022-06-18T12:14:36.079386Z",
     "iopub.status.busy": "2022-06-18T12:14:36.078823Z",
     "iopub.status.idle": "2022-06-18T12:14:36.082216Z",
     "shell.execute_reply": "2022-06-18T12:14:36.082684Z"
    },
    "papermill": {
     "duration": 0.037867,
     "end_time": "2022-06-18T12:14:36.082795",
     "exception": false,
     "start_time": "2022-06-18T12:14:36.044928",
     "status": "completed"
    },
    "tags": []
   },
   "outputs": [],
   "source": [
    "#hide\n",
    "#delete problematic countries from table\n",
    "df_table = df_table[~df_table['Country/Region'].isin(['Cape Verde', 'Cruise Ship', 'Kosovo'])]"
   ]
  },
  {
   "cell_type": "code",
   "execution_count": 15,
   "id": "fantastic-effect",
   "metadata": {
    "execution": {
     "iopub.execute_input": "2022-06-18T12:14:36.149042Z",
     "iopub.status.busy": "2022-06-18T12:14:36.148475Z",
     "iopub.status.idle": "2022-06-18T12:14:36.165882Z",
     "shell.execute_reply": "2022-06-18T12:14:36.166416Z"
    },
    "papermill": {
     "duration": 0.054132,
     "end_time": "2022-06-18T12:14:36.166543",
     "exception": false,
     "start_time": "2022-06-18T12:14:36.112411",
     "status": "completed"
    },
    "tags": []
   },
   "outputs": [
    {
     "data": {
      "text/html": [
       "<div>\n",
       "<style scoped>\n",
       "    .dataframe tbody tr th:only-of-type {\n",
       "        vertical-align: middle;\n",
       "    }\n",
       "\n",
       "    .dataframe tbody tr th {\n",
       "        vertical-align: top;\n",
       "    }\n",
       "\n",
       "    .dataframe thead th {\n",
       "        text-align: right;\n",
       "    }\n",
       "</style>\n",
       "<table border=\"1\" class=\"dataframe\">\n",
       "  <thead>\n",
       "    <tr style=\"text-align: right;\">\n",
       "      <th></th>\n",
       "      <th>Country/Region</th>\n",
       "      <th>Cases</th>\n",
       "      <th>Deaths</th>\n",
       "      <th>PCases</th>\n",
       "      <th>PDeaths</th>\n",
       "      <th>Cases (+)</th>\n",
       "      <th>Deaths (+)</th>\n",
       "      <th>Fatality Rate</th>\n",
       "      <th>Continent</th>\n",
       "    </tr>\n",
       "  </thead>\n",
       "  <tbody>\n",
       "    <tr>\n",
       "      <th>0</th>\n",
       "      <td>US</td>\n",
       "      <td>86216418</td>\n",
       "      <td>1013358</td>\n",
       "      <td>86057735</td>\n",
       "      <td>1012647</td>\n",
       "      <td>158683</td>\n",
       "      <td>711</td>\n",
       "      <td>1.2</td>\n",
       "      <td>North America</td>\n",
       "    </tr>\n",
       "    <tr>\n",
       "      <th>1</th>\n",
       "      <td>India</td>\n",
       "      <td>43283793</td>\n",
       "      <td>524840</td>\n",
       "      <td>43270577</td>\n",
       "      <td>524817</td>\n",
       "      <td>13216</td>\n",
       "      <td>23</td>\n",
       "      <td>1.2</td>\n",
       "      <td>Asia</td>\n",
       "    </tr>\n",
       "    <tr>\n",
       "      <th>2</th>\n",
       "      <td>Brazil</td>\n",
       "      <td>31611769</td>\n",
       "      <td>668693</td>\n",
       "      <td>31611769</td>\n",
       "      <td>668693</td>\n",
       "      <td>0</td>\n",
       "      <td>0</td>\n",
       "      <td>2.1</td>\n",
       "      <td>South America</td>\n",
       "    </tr>\n",
       "    <tr>\n",
       "      <th>3</th>\n",
       "      <td>France</td>\n",
       "      <td>30279240</td>\n",
       "      <td>150078</td>\n",
       "      <td>30228615</td>\n",
       "      <td>150035</td>\n",
       "      <td>50625</td>\n",
       "      <td>43</td>\n",
       "      <td>0.5</td>\n",
       "      <td>Europe</td>\n",
       "    </tr>\n",
       "    <tr>\n",
       "      <th>4</th>\n",
       "      <td>Germany</td>\n",
       "      <td>27204953</td>\n",
       "      <td>140176</td>\n",
       "      <td>27124689</td>\n",
       "      <td>140118</td>\n",
       "      <td>80264</td>\n",
       "      <td>58</td>\n",
       "      <td>0.5</td>\n",
       "      <td>Europe</td>\n",
       "    </tr>\n",
       "  </tbody>\n",
       "</table>\n",
       "</div>"
      ],
      "text/plain": [
       "  Country/Region     Cases   Deaths    PCases  PDeaths  Cases (+)  Deaths (+)  \\\n",
       "0             US  86216418  1013358  86057735  1012647     158683         711   \n",
       "1          India  43283793   524840  43270577   524817      13216          23   \n",
       "2         Brazil  31611769   668693  31611769   668693          0           0   \n",
       "3         France  30279240   150078  30228615   150035      50625          43   \n",
       "4        Germany  27204953   140176  27124689   140118      80264          58   \n",
       "\n",
       "   Fatality Rate      Continent  \n",
       "0            1.2  North America  \n",
       "1            1.2           Asia  \n",
       "2            2.1  South America  \n",
       "3            0.5         Europe  \n",
       "4            0.5         Europe  "
      ]
     },
     "execution_count": 15,
     "metadata": {},
     "output_type": "execute_result"
    }
   ],
   "source": [
    "#hide\n",
    "df_table = (pd.DataFrame(dict(Cases=dfc_cases, Deaths=dfc_deaths, PCases=dfp_cases, PDeaths=dfp_deaths))\n",
    "             .sort_values(by=['Cases', 'Deaths'], ascending=[False, False])\n",
    "             .reset_index())\n",
    "df_table.rename(columns={'index': 'Country/Region'}, inplace=True)\n",
    "for c in 'Cases, Deaths'.split(', '):\n",
    "    df_table[f'{c} (+)'] = (df_table[c] - df_table[f'P{c}']).clip(0)  # DATA BUG\n",
    "df_table['Fatality Rate'] = (100 * df_table['Deaths'] / df_table['Cases']).round(1)\n",
    "df_table['Continent'] = df_table['Country/Region'].map(mapping['map.continent'])\n",
    "df_table.head(5)"
   ]
  },
  {
   "cell_type": "code",
   "execution_count": 16,
   "id": "fewer-occasion",
   "metadata": {
    "execution": {
     "iopub.execute_input": "2022-06-18T12:14:36.232330Z",
     "iopub.status.busy": "2022-06-18T12:14:36.231761Z",
     "iopub.status.idle": "2022-06-18T12:14:36.234638Z",
     "shell.execute_reply": "2022-06-18T12:14:36.235108Z"
    },
    "papermill": {
     "duration": 0.037654,
     "end_time": "2022-06-18T12:14:36.235217",
     "exception": false,
     "start_time": "2022-06-18T12:14:36.197563",
     "status": "completed"
    },
    "tags": []
   },
   "outputs": [],
   "source": [
    "#hide\n",
    "#delete problematic countries from table\n",
    "df_table = df_table[~df_table['Country/Region'].isin(['Cape Verde', 'Cruise Ship', 'Kosovo'])]"
   ]
  },
  {
   "cell_type": "code",
   "execution_count": 17,
   "id": "related-center",
   "metadata": {
    "execution": {
     "iopub.execute_input": "2022-06-18T12:14:36.312803Z",
     "iopub.status.busy": "2022-06-18T12:14:36.312228Z",
     "iopub.status.idle": "2022-06-18T12:14:36.314935Z",
     "shell.execute_reply": "2022-06-18T12:14:36.314383Z"
    },
    "papermill": {
     "duration": 0.049597,
     "end_time": "2022-06-18T12:14:36.315032",
     "exception": false,
     "start_time": "2022-06-18T12:14:36.265435",
     "status": "completed"
    },
    "tags": []
   },
   "outputs": [],
   "source": [
    "#hide\n",
    "metrics = [df_table.columns[index] for index in [1,2,5,6]]\n",
    "# s_china = df_table[df_table['Country/Region'].eq('China')][metrics].sum().add_prefix('China ')\n",
    "s_us = df_table[df_table['Country/Region'].eq('US')][metrics].sum().add_prefix('US ')\n",
    "s_eu = df_table[df_table['Continent'].eq('Europe')][metrics].sum().add_prefix('EU ')\n",
    "s_ind = df_table[df_table['Country/Region'].eq('India')][metrics].sum().add_prefix('India ')\n",
    "summary = {'updated': pd.to_datetime(dt_today), 'since': pd.to_datetime(dt_yday)}\n",
    "summary = {'updated': pd.to_datetime(dt_today), 'since': pd.to_datetime(dt_yday)}\n",
    "summary = {**summary, **df_table[metrics].sum(), **s_ind, **s_us, **s_eu}"
   ]
  },
  {
   "cell_type": "code",
   "execution_count": 18,
   "id": "engaging-syndrome",
   "metadata": {
    "execution": {
     "iopub.execute_input": "2022-06-18T12:14:36.380414Z",
     "iopub.status.busy": "2022-06-18T12:14:36.379850Z",
     "iopub.status.idle": "2022-06-18T12:14:36.398445Z",
     "shell.execute_reply": "2022-06-18T12:14:36.397912Z"
    },
    "papermill": {
     "duration": 0.053194,
     "end_time": "2022-06-18T12:14:36.398559",
     "exception": false,
     "start_time": "2022-06-18T12:14:36.345365",
     "status": "completed"
    },
    "tags": []
   },
   "outputs": [],
   "source": [
    "#hide\n",
    "dft_ct_new_cases = dft_cases.groupby(COL_REGION)[dt_cols].sum().diff(axis=1).fillna(0).astype(int)"
   ]
  },
  {
   "cell_type": "code",
   "execution_count": 19,
   "id": "neutral-assignment",
   "metadata": {
    "execution": {
     "iopub.execute_input": "2022-06-18T12:14:36.465158Z",
     "iopub.status.busy": "2022-06-18T12:14:36.464567Z",
     "iopub.status.idle": "2022-06-18T12:14:36.466977Z",
     "shell.execute_reply": "2022-06-18T12:14:36.467416Z"
    },
    "papermill": {
     "duration": 0.037734,
     "end_time": "2022-06-18T12:14:36.467527",
     "exception": false,
     "start_time": "2022-06-18T12:14:36.429793",
     "status": "completed"
    },
    "tags": []
   },
   "outputs": [],
   "source": [
    "#hide\n",
    "everydaycases = dft_ct_new_cases.cumsum(axis=1)"
   ]
  },
  {
   "cell_type": "code",
   "execution_count": 20,
   "id": "parliamentary-calgary",
   "metadata": {
    "execution": {
     "iopub.execute_input": "2022-06-18T12:14:36.531951Z",
     "iopub.status.busy": "2022-06-18T12:14:36.531380Z",
     "iopub.status.idle": "2022-06-18T12:14:37.130155Z",
     "shell.execute_reply": "2022-06-18T12:14:37.129577Z"
    },
    "papermill": {
     "duration": 0.632548,
     "end_time": "2022-06-18T12:14:37.130300",
     "exception": false,
     "start_time": "2022-06-18T12:14:36.497752",
     "status": "completed"
    },
    "tags": []
   },
   "outputs": [],
   "source": [
    "#hide\n",
    "import pandas as pd\n",
    "import matplotlib.pyplot as plt\n",
    "import matplotlib.ticker as ticker\n",
    "import matplotlib.animation as animation\n",
    "from IPython.display import HTML"
   ]
  },
  {
   "cell_type": "code",
   "execution_count": 21,
   "id": "lasting-extraction",
   "metadata": {
    "execution": {
     "iopub.execute_input": "2022-06-18T12:14:37.197975Z",
     "iopub.status.busy": "2022-06-18T12:14:37.197395Z",
     "iopub.status.idle": "2022-06-18T12:14:37.204352Z",
     "shell.execute_reply": "2022-06-18T12:14:37.203888Z"
    },
    "papermill": {
     "duration": 0.043119,
     "end_time": "2022-06-18T12:14:37.204458",
     "exception": false,
     "start_time": "2022-06-18T12:14:37.161339",
     "status": "completed"
    },
    "tags": []
   },
   "outputs": [],
   "source": [
    "#hide\n",
    "t = everydaycases.stack()"
   ]
  },
  {
   "cell_type": "code",
   "execution_count": 22,
   "id": "premier-sleeve",
   "metadata": {
    "execution": {
     "iopub.execute_input": "2022-06-18T12:14:37.269389Z",
     "iopub.status.busy": "2022-06-18T12:14:37.268773Z",
     "iopub.status.idle": "2022-06-18T12:14:37.280265Z",
     "shell.execute_reply": "2022-06-18T12:14:37.280802Z"
    },
    "papermill": {
     "duration": 0.045938,
     "end_time": "2022-06-18T12:14:37.280921",
     "exception": false,
     "start_time": "2022-06-18T12:14:37.234983",
     "status": "completed"
    },
    "tags": []
   },
   "outputs": [],
   "source": [
    "#hide\n",
    "g = t.reset_index(['Country/Region'])"
   ]
  },
  {
   "cell_type": "code",
   "execution_count": 23,
   "id": "distributed-pittsburgh",
   "metadata": {
    "execution": {
     "iopub.execute_input": "2022-06-18T12:14:37.345000Z",
     "iopub.status.busy": "2022-06-18T12:14:37.344437Z",
     "iopub.status.idle": "2022-06-18T12:14:37.346692Z",
     "shell.execute_reply": "2022-06-18T12:14:37.347224Z"
    },
    "papermill": {
     "duration": 0.036125,
     "end_time": "2022-06-18T12:14:37.347339",
     "exception": false,
     "start_time": "2022-06-18T12:14:37.311214",
     "status": "completed"
    },
    "tags": []
   },
   "outputs": [],
   "source": [
    "#hide\n",
    "g.index.name = 'date'"
   ]
  },
  {
   "cell_type": "code",
   "execution_count": 24,
   "id": "naked-donor",
   "metadata": {
    "execution": {
     "iopub.execute_input": "2022-06-18T12:14:37.411183Z",
     "iopub.status.busy": "2022-06-18T12:14:37.410534Z",
     "iopub.status.idle": "2022-06-18T12:14:37.415088Z",
     "shell.execute_reply": "2022-06-18T12:14:37.414558Z"
    },
    "papermill": {
     "duration": 0.037631,
     "end_time": "2022-06-18T12:14:37.415201",
     "exception": false,
     "start_time": "2022-06-18T12:14:37.377570",
     "status": "completed"
    },
    "tags": []
   },
   "outputs": [],
   "source": [
    "# #hide\n",
    "# g = g.reset_index(['date'])"
   ]
  },
  {
   "cell_type": "code",
   "execution_count": 25,
   "id": "incomplete-mustang",
   "metadata": {
    "execution": {
     "iopub.execute_input": "2022-06-18T12:14:37.479379Z",
     "iopub.status.busy": "2022-06-18T12:14:37.478768Z",
     "iopub.status.idle": "2022-06-18T12:14:37.481124Z",
     "shell.execute_reply": "2022-06-18T12:14:37.480552Z"
    },
    "papermill": {
     "duration": 0.035458,
     "end_time": "2022-06-18T12:14:37.481228",
     "exception": false,
     "start_time": "2022-06-18T12:14:37.445770",
     "status": "completed"
    },
    "tags": []
   },
   "outputs": [],
   "source": [
    "#hide\n",
    "# g.head()"
   ]
  },
  {
   "cell_type": "code",
   "execution_count": 26,
   "id": "specific-kruger",
   "metadata": {
    "execution": {
     "iopub.execute_input": "2022-06-18T12:14:37.545664Z",
     "iopub.status.busy": "2022-06-18T12:14:37.545057Z",
     "iopub.status.idle": "2022-06-18T12:14:37.547258Z",
     "shell.execute_reply": "2022-06-18T12:14:37.547723Z"
    },
    "papermill": {
     "duration": 0.035567,
     "end_time": "2022-06-18T12:14:37.547833",
     "exception": false,
     "start_time": "2022-06-18T12:14:37.512266",
     "status": "completed"
    },
    "tags": []
   },
   "outputs": [],
   "source": [
    "#hide\n",
    "# g.columns = ['date','country','cases']"
   ]
  },
  {
   "cell_type": "code",
   "execution_count": 27,
   "id": "tender-conversion",
   "metadata": {
    "execution": {
     "iopub.execute_input": "2022-06-18T12:14:37.612081Z",
     "iopub.status.busy": "2022-06-18T12:14:37.611467Z",
     "iopub.status.idle": "2022-06-18T12:14:37.613866Z",
     "shell.execute_reply": "2022-06-18T12:14:37.613397Z"
    },
    "papermill": {
     "duration": 0.03598,
     "end_time": "2022-06-18T12:14:37.613964",
     "exception": false,
     "start_time": "2022-06-18T12:14:37.577984",
     "status": "completed"
    },
    "tags": []
   },
   "outputs": [],
   "source": [
    "#hide\n",
    "# g['continent'] = g.country"
   ]
  },
  {
   "cell_type": "code",
   "execution_count": 28,
   "id": "substantial-wilderness",
   "metadata": {
    "execution": {
     "iopub.execute_input": "2022-06-18T12:14:37.677982Z",
     "iopub.status.busy": "2022-06-18T12:14:37.677408Z",
     "iopub.status.idle": "2022-06-18T12:14:37.679555Z",
     "shell.execute_reply": "2022-06-18T12:14:37.680102Z"
    },
    "papermill": {
     "duration": 0.035822,
     "end_time": "2022-06-18T12:14:37.680212",
     "exception": false,
     "start_time": "2022-06-18T12:14:37.644390",
     "status": "completed"
    },
    "tags": []
   },
   "outputs": [],
   "source": [
    "#hide\n",
    "# cols = list(g.columns.values)"
   ]
  },
  {
   "cell_type": "code",
   "execution_count": 29,
   "id": "solved-farming",
   "metadata": {
    "execution": {
     "iopub.execute_input": "2022-06-18T12:14:37.743881Z",
     "iopub.status.busy": "2022-06-18T12:14:37.743267Z",
     "iopub.status.idle": "2022-06-18T12:14:37.745587Z",
     "shell.execute_reply": "2022-06-18T12:14:37.744997Z"
    },
    "papermill": {
     "duration": 0.035414,
     "end_time": "2022-06-18T12:14:37.745686",
     "exception": false,
     "start_time": "2022-06-18T12:14:37.710272",
     "status": "completed"
    },
    "tags": []
   },
   "outputs": [],
   "source": [
    "#hide\n",
    "# cols.insert(0, cols.pop())"
   ]
  },
  {
   "cell_type": "code",
   "execution_count": 30,
   "id": "executed-adoption",
   "metadata": {
    "execution": {
     "iopub.execute_input": "2022-06-18T12:14:37.809654Z",
     "iopub.status.busy": "2022-06-18T12:14:37.808956Z",
     "iopub.status.idle": "2022-06-18T12:14:37.811389Z",
     "shell.execute_reply": "2022-06-18T12:14:37.810865Z"
    },
    "papermill": {
     "duration": 0.035538,
     "end_time": "2022-06-18T12:14:37.811499",
     "exception": false,
     "start_time": "2022-06-18T12:14:37.775961",
     "status": "completed"
    },
    "tags": []
   },
   "outputs": [],
   "source": [
    "#hide\n",
    "# g = g[cols]"
   ]
  },
  {
   "cell_type": "code",
   "execution_count": 31,
   "id": "subject-dublin",
   "metadata": {
    "execution": {
     "iopub.execute_input": "2022-06-18T12:14:37.875564Z",
     "iopub.status.busy": "2022-06-18T12:14:37.874997Z",
     "iopub.status.idle": "2022-06-18T12:14:37.877432Z",
     "shell.execute_reply": "2022-06-18T12:14:37.876947Z"
    },
    "papermill": {
     "duration": 0.035456,
     "end_time": "2022-06-18T12:14:37.877532",
     "exception": false,
     "start_time": "2022-06-18T12:14:37.842076",
     "status": "completed"
    },
    "tags": []
   },
   "outputs": [],
   "source": [
    "#hide\n",
    "# g['continent'] = g['continent'].map(mapping['map.continent'])"
   ]
  },
  {
   "cell_type": "code",
   "execution_count": 32,
   "id": "freelance-scout",
   "metadata": {
    "execution": {
     "iopub.execute_input": "2022-06-18T12:14:37.941344Z",
     "iopub.status.busy": "2022-06-18T12:14:37.940741Z",
     "iopub.status.idle": "2022-06-18T12:14:37.942921Z",
     "shell.execute_reply": "2022-06-18T12:14:37.943464Z"
    },
    "papermill": {
     "duration": 0.035757,
     "end_time": "2022-06-18T12:14:37.943574",
     "exception": false,
     "start_time": "2022-06-18T12:14:37.907817",
     "status": "completed"
    },
    "tags": []
   },
   "outputs": [],
   "source": [
    "#hide\n",
    "# g.head()"
   ]
  },
  {
   "cell_type": "code",
   "execution_count": 33,
   "id": "limited-engine",
   "metadata": {
    "execution": {
     "iopub.execute_input": "2022-06-18T12:14:38.006929Z",
     "iopub.status.busy": "2022-06-18T12:14:38.006367Z",
     "iopub.status.idle": "2022-06-18T12:14:38.008554Z",
     "shell.execute_reply": "2022-06-18T12:14:38.009019Z"
    },
    "papermill": {
     "duration": 0.035479,
     "end_time": "2022-06-18T12:14:38.009148",
     "exception": false,
     "start_time": "2022-06-18T12:14:37.973669",
     "status": "completed"
    },
    "tags": []
   },
   "outputs": [],
   "source": [
    "# hide\n",
    "# g['date'] = g['date'].astype('datetime64[ns]')"
   ]
  },
  {
   "cell_type": "code",
   "execution_count": 34,
   "id": "sophisticated-supervisor",
   "metadata": {
    "execution": {
     "iopub.execute_input": "2022-06-18T12:14:38.073216Z",
     "iopub.status.busy": "2022-06-18T12:14:38.072525Z",
     "iopub.status.idle": "2022-06-18T12:14:38.075027Z",
     "shell.execute_reply": "2022-06-18T12:14:38.074501Z"
    },
    "papermill": {
     "duration": 0.035722,
     "end_time": "2022-06-18T12:14:38.075137",
     "exception": false,
     "start_time": "2022-06-18T12:14:38.039415",
     "status": "completed"
    },
    "tags": []
   },
   "outputs": [],
   "source": [
    "#hide\n",
    "# g['date'] = g.date.dt.dayofyear"
   ]
  },
  {
   "cell_type": "code",
   "execution_count": 35,
   "id": "inside-dubai",
   "metadata": {
    "execution": {
     "iopub.execute_input": "2022-06-18T12:14:38.139477Z",
     "iopub.status.busy": "2022-06-18T12:14:38.138860Z",
     "iopub.status.idle": "2022-06-18T12:14:38.141257Z",
     "shell.execute_reply": "2022-06-18T12:14:38.140681Z"
    },
    "papermill": {
     "duration": 0.035522,
     "end_time": "2022-06-18T12:14:38.141357",
     "exception": false,
     "start_time": "2022-06-18T12:14:38.105835",
     "status": "completed"
    },
    "tags": []
   },
   "outputs": [],
   "source": [
    "#hide\n",
    "# g = g.rename(columns= {'continent':'group','country':'name','cases':'value'})"
   ]
  },
  {
   "cell_type": "code",
   "execution_count": 36,
   "id": "fleet-motorcycle",
   "metadata": {
    "execution": {
     "iopub.execute_input": "2022-06-18T12:14:38.205399Z",
     "iopub.status.busy": "2022-06-18T12:14:38.204705Z",
     "iopub.status.idle": "2022-06-18T12:14:38.208915Z",
     "shell.execute_reply": "2022-06-18T12:14:38.208389Z"
    },
    "papermill": {
     "duration": 0.037258,
     "end_time": "2022-06-18T12:14:38.209026",
     "exception": false,
     "start_time": "2022-06-18T12:14:38.171768",
     "status": "completed"
    },
    "tags": []
   },
   "outputs": [],
   "source": [
    "#hide\n",
    "# cols = ['name','group','day','value']"
   ]
  },
  {
   "cell_type": "code",
   "execution_count": 37,
   "id": "continued-sleeping",
   "metadata": {
    "execution": {
     "iopub.execute_input": "2022-06-18T12:14:38.272916Z",
     "iopub.status.busy": "2022-06-18T12:14:38.272268Z",
     "iopub.status.idle": "2022-06-18T12:14:38.274766Z",
     "shell.execute_reply": "2022-06-18T12:14:38.274135Z"
    },
    "papermill": {
     "duration": 0.035468,
     "end_time": "2022-06-18T12:14:38.274877",
     "exception": false,
     "start_time": "2022-06-18T12:14:38.239409",
     "status": "completed"
    },
    "tags": []
   },
   "outputs": [],
   "source": [
    "#hide\n",
    "# g.rename(columns= {'date':'day'},inplace = True)"
   ]
  },
  {
   "cell_type": "code",
   "execution_count": 38,
   "id": "major-fight",
   "metadata": {
    "execution": {
     "iopub.execute_input": "2022-06-18T12:14:38.339607Z",
     "iopub.status.busy": "2022-06-18T12:14:38.338949Z",
     "iopub.status.idle": "2022-06-18T12:14:38.341591Z",
     "shell.execute_reply": "2022-06-18T12:14:38.341014Z"
    },
    "papermill": {
     "duration": 0.035664,
     "end_time": "2022-06-18T12:14:38.341691",
     "exception": false,
     "start_time": "2022-06-18T12:14:38.306027",
     "status": "completed"
    },
    "tags": []
   },
   "outputs": [],
   "source": [
    "#hide\n",
    "# g = g[cols]"
   ]
  },
  {
   "cell_type": "code",
   "execution_count": 39,
   "id": "structured-mobile",
   "metadata": {
    "execution": {
     "iopub.execute_input": "2022-06-18T12:14:38.405393Z",
     "iopub.status.busy": "2022-06-18T12:14:38.404701Z",
     "iopub.status.idle": "2022-06-18T12:14:38.408575Z",
     "shell.execute_reply": "2022-06-18T12:14:38.408052Z"
    },
    "papermill": {
     "duration": 0.036909,
     "end_time": "2022-06-18T12:14:38.408687",
     "exception": false,
     "start_time": "2022-06-18T12:14:38.371778",
     "status": "completed"
    },
    "tags": []
   },
   "outputs": [],
   "source": [
    "# #hide\n",
    "# g = g[g.group.notna()]"
   ]
  },
  {
   "cell_type": "code",
   "execution_count": 40,
   "id": "determined-closing",
   "metadata": {
    "execution": {
     "iopub.execute_input": "2022-06-18T12:14:38.475284Z",
     "iopub.status.busy": "2022-06-18T12:14:38.474690Z",
     "iopub.status.idle": "2022-06-18T12:14:38.478405Z",
     "shell.execute_reply": "2022-06-18T12:14:38.478823Z"
    },
    "papermill": {
     "duration": 0.039316,
     "end_time": "2022-06-18T12:14:38.478939",
     "exception": false,
     "start_time": "2022-06-18T12:14:38.439623",
     "status": "completed"
    },
    "tags": []
   },
   "outputs": [],
   "source": [
    "# #hide\n",
    "# colors = dict(zip(\n",
    "#     [\"Oceania\", \"Europe\", \"Asia\", \"South America\", \"Middle East\", \"North America\", \"Africa\"],\n",
    "#     [\"#adb0ff\", \"#ffb3ff\", \"#90d595\", \"#e48381\", \"#aafbff\", \"#f7bb5f\", \"#eafb50\"]\n",
    "# ))\n",
    "# group_lk = g.set_index('name')['group'].to_dict()"
   ]
  },
  {
   "cell_type": "code",
   "execution_count": null,
   "id": "gross-drinking",
   "metadata": {
    "papermill": {
     "duration": 0.030079,
     "end_time": "2022-06-18T12:14:38.539232",
     "exception": false,
     "start_time": "2022-06-18T12:14:38.509153",
     "status": "completed"
    },
    "tags": []
   },
   "outputs": [],
   "source": []
  },
  {
   "cell_type": "code",
   "execution_count": 41,
   "id": "subject-macintosh",
   "metadata": {
    "execution": {
     "iopub.execute_input": "2022-06-18T12:14:38.603685Z",
     "iopub.status.busy": "2022-06-18T12:14:38.603113Z",
     "iopub.status.idle": "2022-06-18T12:14:38.605652Z",
     "shell.execute_reply": "2022-06-18T12:14:38.606091Z"
    },
    "papermill": {
     "duration": 0.03666,
     "end_time": "2022-06-18T12:14:38.606201",
     "exception": false,
     "start_time": "2022-06-18T12:14:38.569541",
     "status": "completed"
    },
    "tags": []
   },
   "outputs": [],
   "source": [
    "# #hide\n",
    "# fig, ax = plt.subplots(figsize=(15, 8))\n",
    "\n",
    "# def draw_barchart(current_day):\n",
    "#     dff = g[g['day'].eq(current_day)].sort_values(by='value', ascending=True).tail(10)\n",
    "#     ax.clear()\n",
    "#     ax.barh(dff['name'], dff['value'], color=[colors[group_lk[x]] for x in dff['name']])\n",
    "#     dx = dff['value'].max() / 200\n",
    "    \n",
    "#     for i, (value, name) in enumerate(zip(dff['value'], dff['name'])):\n",
    "#         ax.text(value-dx, i,     name,           size=14, weight=600, ha='right', va='bottom')\n",
    "#         ax.text(value-dx, i-.25, group_lk[name], size=10, color='#444444', ha='right', va='baseline')\n",
    "#         ax.text(value+dx, i,     f'{value:,.0f}',  size=14, ha='left',  va='center')\n",
    "#     ax.text(1, 0.4, current_day, transform=ax.transAxes, color='#777777', size=46, ha='right', weight=800)\n",
    "#     ax.text(0, 1.06, 'Population (thousands)', transform=ax.transAxes, size=12, color='#777777')\n",
    "#     ax.xaxis.set_major_formatter(ticker.StrMethodFormatter('{x:,.0f}'))\n",
    "#     ax.xaxis.set_ticks_position('top')\n",
    "#     ax.tick_params(axis='x', colors='#777777', labelsize=12)\n",
    "#     ax.set_yticks([])\n",
    "#     ax.margins(0, 0.01)\n",
    "#     ax.grid(which='major', axis='x', linestyle='-')\n",
    "#     ax.set_axisbelow(True)\n",
    "    \n",
    "#     ax.text(0, 1.15, 'Coronavirus',\n",
    "#             transform=ax.transAxes, size=24, weight=600, ha='left', va='top')\n",
    "# #     ax.text(1, 0, 'by @pratapvardhan; credit @jburnmurdoch', transform=ax.transAxes, color='#777777', ha='right',\n",
    "# #             bbox=dict(facecolor='white', alpha=0.8, edgecolor='white'))\n",
    "#     plt.box(False)"
   ]
  },
  {
   "cell_type": "code",
   "execution_count": 42,
   "id": "sexual-wages",
   "metadata": {
    "execution": {
     "iopub.execute_input": "2022-06-18T12:14:38.670022Z",
     "iopub.status.busy": "2022-06-18T12:14:38.669360Z",
     "iopub.status.idle": "2022-06-18T12:14:38.671703Z",
     "shell.execute_reply": "2022-06-18T12:14:38.671073Z"
    },
    "papermill": {
     "duration": 0.035471,
     "end_time": "2022-06-18T12:14:38.671814",
     "exception": false,
     "start_time": "2022-06-18T12:14:38.636343",
     "status": "completed"
    },
    "tags": []
   },
   "outputs": [],
   "source": [
    "# #hide_input\n",
    "# fig, ax = plt.subplots(figsize=(15, 8))\n",
    "# animator = animation.FuncAnimation(fig, draw_barchart, frames=range(g.day.values.min(), g.day.values.max()))\n",
    "# HTML(animator.to_jshtml())\n",
    "# # or use animator.to_html5_video() or animator.save() "
   ]
  },
  {
   "cell_type": "code",
   "execution_count": null,
   "id": "australian-container",
   "metadata": {
    "papermill": {
     "duration": 0.030611,
     "end_time": "2022-06-18T12:14:38.733491",
     "exception": false,
     "start_time": "2022-06-18T12:14:38.702880",
     "status": "completed"
    },
    "tags": []
   },
   "outputs": [],
   "source": []
  },
  {
   "cell_type": "code",
   "execution_count": null,
   "id": "mediterranean-pontiac",
   "metadata": {
    "papermill": {
     "duration": 0.030295,
     "end_time": "2022-06-18T12:14:38.794082",
     "exception": false,
     "start_time": "2022-06-18T12:14:38.763787",
     "status": "completed"
    },
    "tags": []
   },
   "outputs": [],
   "source": []
  },
  {
   "cell_type": "code",
   "execution_count": null,
   "id": "aging-legislature",
   "metadata": {
    "papermill": {
     "duration": 0.030291,
     "end_time": "2022-06-18T12:14:38.854725",
     "exception": false,
     "start_time": "2022-06-18T12:14:38.824434",
     "status": "completed"
    },
    "tags": []
   },
   "outputs": [],
   "source": []
  }
 ],
 "metadata": {
  "kernelspec": {
   "display_name": "Python 3",
   "language": "python",
   "name": "python3"
  },
  "language_info": {
   "codemirror_mode": {
    "name": "ipython",
    "version": 3
   },
   "file_extension": ".py",
   "mimetype": "text/x-python",
   "name": "python",
   "nbconvert_exporter": "python",
   "pygments_lexer": "ipython3",
   "version": "3.6.15"
  },
  "papermill": {
   "duration": 5.907368,
   "end_time": "2022-06-18T12:14:39.203144",
   "environment_variables": {},
   "exception": null,
   "input_path": "2020-03-21-covid19exp.ipynb",
   "output_path": "2020-03-21-covid19exp.ipynb",
   "parameters": {},
   "start_time": "2022-06-18T12:14:33.295776",
   "version": "2.0.0"
  }
 },
 "nbformat": 4,
 "nbformat_minor": 5
}