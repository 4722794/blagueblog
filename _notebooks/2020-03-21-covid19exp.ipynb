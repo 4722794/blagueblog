{
 "cells": [
  {
   "cell_type": "markdown",
   "id": "muslim-click",
   "metadata": {
    "papermill": {
     "duration": 0.035642,
     "end_time": "2021-02-24T12:07:44.176964",
     "exception": false,
     "start_time": "2021-02-24T12:07:44.141322",
     "status": "completed"
    },
    "tags": []
   },
   "source": [
    "# COVID-19 Case Race\n",
    "> A race chart to see rising cases around the world\n",
    "\n",
    "- author: Hargun Oberoi\n",
    "- image: images/covid-overview.png\n",
    "- hide: false\n",
    "- badges: false"
   ]
  },
  {
   "cell_type": "code",
   "execution_count": 1,
   "id": "proof-material",
   "metadata": {
    "execution": {
     "iopub.execute_input": "2021-02-24T12:07:44.248439Z",
     "iopub.status.busy": "2021-02-24T12:07:44.247946Z",
     "iopub.status.idle": "2021-02-24T12:07:44.543971Z",
     "shell.execute_reply": "2021-02-24T12:07:44.542476Z"
    },
    "papermill": {
     "duration": 0.336061,
     "end_time": "2021-02-24T12:07:44.544208",
     "exception": false,
     "start_time": "2021-02-24T12:07:44.208147",
     "status": "completed"
    },
    "tags": []
   },
   "outputs": [],
   "source": [
    "#hide\n",
    "import numpy as np\n",
    "import pandas as pd\n",
    "from jinja2 import Template\n",
    "from IPython.display import HTML"
   ]
  },
  {
   "cell_type": "code",
   "execution_count": 2,
   "id": "developed-terminology",
   "metadata": {
    "execution": {
     "iopub.execute_input": "2021-02-24T12:07:44.608918Z",
     "iopub.status.busy": "2021-02-24T12:07:44.608349Z",
     "iopub.status.idle": "2021-02-24T12:07:44.610666Z",
     "shell.execute_reply": "2021-02-24T12:07:44.611181Z"
    },
    "papermill": {
     "duration": 0.036737,
     "end_time": "2021-02-24T12:07:44.611306",
     "exception": false,
     "start_time": "2021-02-24T12:07:44.574569",
     "status": "completed"
    },
    "tags": []
   },
   "outputs": [],
   "source": [
    "#hide\n",
    "\n",
    "# FETCH\n",
    "base_url = 'https://raw.githubusercontent.com/pratapvardhan/notebooks/master/covid19/'\n",
    "paths = {\n",
    "    'mapping': base_url + 'mapping_countries.csv',\n",
    "    'overview': base_url + 'overview.tpl'\n",
    "}"
   ]
  },
  {
   "cell_type": "code",
   "execution_count": 3,
   "id": "dynamic-saver",
   "metadata": {
    "execution": {
     "iopub.execute_input": "2021-02-24T12:07:44.680184Z",
     "iopub.status.busy": "2021-02-24T12:07:44.675227Z",
     "iopub.status.idle": "2021-02-24T12:07:44.683147Z",
     "shell.execute_reply": "2021-02-24T12:07:44.682681Z"
    },
    "papermill": {
     "duration": 0.044338,
     "end_time": "2021-02-24T12:07:44.683253",
     "exception": false,
     "start_time": "2021-02-24T12:07:44.638915",
     "status": "completed"
    },
    "tags": []
   },
   "outputs": [
    {
     "data": {
      "text/plain": [
       "'https://raw.githubusercontent.com/pratapvardhan/notebooks/master/covid19/mapping_countries.csv'"
      ]
     },
     "execution_count": 3,
     "metadata": {},
     "output_type": "execute_result"
    }
   ],
   "source": [
    "#hide\n",
    "paths['mapping']"
   ]
  },
  {
   "cell_type": "code",
   "execution_count": 4,
   "id": "urban-software",
   "metadata": {
    "execution": {
     "iopub.execute_input": "2021-02-24T12:07:44.746332Z",
     "iopub.status.busy": "2021-02-24T12:07:44.745719Z",
     "iopub.status.idle": "2021-02-24T12:07:44.748595Z",
     "shell.execute_reply": "2021-02-24T12:07:44.748134Z"
    },
    "papermill": {
     "duration": 0.036227,
     "end_time": "2021-02-24T12:07:44.748698",
     "exception": false,
     "start_time": "2021-02-24T12:07:44.712471",
     "status": "completed"
    },
    "tags": []
   },
   "outputs": [],
   "source": [
    "#hide\n",
    "def get_mappings(url):\n",
    "    df = pd.read_csv(url)\n",
    "    return {\n",
    "        'df': df,\n",
    "        'replace.country': dict(df.dropna(subset=['Name']).set_index('Country')['Name']),\n",
    "        'map.continent': dict(df.set_index('Name')['Continent'])\n",
    "    }"
   ]
  },
  {
   "cell_type": "code",
   "execution_count": 5,
   "id": "intimate-machinery",
   "metadata": {
    "execution": {
     "iopub.execute_input": "2021-02-24T12:07:44.816609Z",
     "iopub.status.busy": "2021-02-24T12:07:44.816136Z",
     "iopub.status.idle": "2021-02-24T12:07:44.839448Z",
     "shell.execute_reply": "2021-02-24T12:07:44.839987Z"
    },
    "papermill": {
     "duration": 0.062683,
     "end_time": "2021-02-24T12:07:44.840140",
     "exception": false,
     "start_time": "2021-02-24T12:07:44.777457",
     "status": "completed"
    },
    "tags": []
   },
   "outputs": [],
   "source": [
    "#hide\n",
    "mapping = get_mappings(paths['mapping'])"
   ]
  },
  {
   "cell_type": "code",
   "execution_count": 6,
   "id": "certified-tactics",
   "metadata": {
    "execution": {
     "iopub.execute_input": "2021-02-24T12:07:44.908448Z",
     "iopub.status.busy": "2021-02-24T12:07:44.907816Z",
     "iopub.status.idle": "2021-02-24T12:07:44.910029Z",
     "shell.execute_reply": "2021-02-24T12:07:44.910502Z"
    },
    "papermill": {
     "duration": 0.039799,
     "end_time": "2021-02-24T12:07:44.910625",
     "exception": false,
     "start_time": "2021-02-24T12:07:44.870826",
     "status": "completed"
    },
    "tags": []
   },
   "outputs": [],
   "source": [
    "#hide\n",
    "def get_template(path):\n",
    "    from urllib.parse import urlparse\n",
    "    if bool(urlparse(path).netloc):\n",
    "        from urllib.request import urlopen\n",
    "        return urlopen(path).read().decode('utf8')\n",
    "    return open(path).read()"
   ]
  },
  {
   "cell_type": "code",
   "execution_count": 7,
   "id": "realistic-blast",
   "metadata": {
    "execution": {
     "iopub.execute_input": "2021-02-24T12:07:44.986940Z",
     "iopub.status.busy": "2021-02-24T12:07:44.986347Z",
     "iopub.status.idle": "2021-02-24T12:07:44.989106Z",
     "shell.execute_reply": "2021-02-24T12:07:44.989665Z"
    },
    "papermill": {
     "duration": 0.043553,
     "end_time": "2021-02-24T12:07:44.989802",
     "exception": false,
     "start_time": "2021-02-24T12:07:44.946249",
     "status": "completed"
    },
    "tags": []
   },
   "outputs": [],
   "source": [
    "#hide\n",
    "def get_frame(name):\n",
    "    url = (\n",
    "        'https://raw.githubusercontent.com/CSSEGISandData/COVID-19/master/csse_covid_19_data/'\n",
    "        f'csse_covid_19_time_series/time_series_covid19_{name}_global.csv')\n",
    "    df = pd.read_csv(url)\n",
    "    # rename countries\n",
    "    df['Country/Region'] = df['Country/Region'].replace(mapping['replace.country'])\n",
    "    return df"
   ]
  },
  {
   "cell_type": "code",
   "execution_count": 8,
   "id": "affiliated-characterization",
   "metadata": {
    "execution": {
     "iopub.execute_input": "2021-02-24T12:07:45.061354Z",
     "iopub.status.busy": "2021-02-24T12:07:45.060800Z",
     "iopub.status.idle": "2021-02-24T12:07:45.063232Z",
     "shell.execute_reply": "2021-02-24T12:07:45.062728Z"
    },
    "papermill": {
     "duration": 0.040031,
     "end_time": "2021-02-24T12:07:45.063352",
     "exception": false,
     "start_time": "2021-02-24T12:07:45.023321",
     "status": "completed"
    },
    "tags": []
   },
   "outputs": [],
   "source": [
    "#hide\n",
    "def get_dates(df):\n",
    "    dt_cols = df.columns[~df.columns.isin(['Province/State', 'Country/Region', 'Lat', 'Long'])]\n",
    "    LAST_DATE_I = -1\n",
    "    # sometimes last column may be empty, then go backwards\n",
    "    for i in range(-1, -len(dt_cols), -1):\n",
    "        if not df[dt_cols[i]].fillna(0).eq(0).all():\n",
    "            LAST_DATE_I = i\n",
    "            break\n",
    "    return LAST_DATE_I, dt_cols"
   ]
  },
  {
   "cell_type": "code",
   "execution_count": 9,
   "id": "recent-optimization",
   "metadata": {
    "execution": {
     "iopub.execute_input": "2021-02-24T12:07:45.128157Z",
     "iopub.status.busy": "2021-02-24T12:07:45.127317Z",
     "iopub.status.idle": "2021-02-24T12:07:45.332940Z",
     "shell.execute_reply": "2021-02-24T12:07:45.332009Z"
    },
    "papermill": {
     "duration": 0.240941,
     "end_time": "2021-02-24T12:07:45.333150",
     "exception": false,
     "start_time": "2021-02-24T12:07:45.092209",
     "status": "completed"
    },
    "tags": []
   },
   "outputs": [],
   "source": [
    "#hide\n",
    "COL_REGION = 'Country/Region'\n",
    "# Confirmed, Recovered, Deaths\n",
    "df = get_frame('confirmed')\n",
    "# dft_: timeseries, dfc_: today country agg\n",
    "dft_cases = df\n",
    "dft_deaths = get_frame('deaths')\n",
    "dft_recovered = get_frame('recovered')\n",
    "LAST_DATE_I, dt_cols = get_dates(df)"
   ]
  },
  {
   "cell_type": "code",
   "execution_count": 10,
   "id": "absolute-copper",
   "metadata": {
    "execution": {
     "iopub.execute_input": "2021-02-24T12:07:45.405109Z",
     "iopub.status.busy": "2021-02-24T12:07:45.404564Z",
     "iopub.status.idle": "2021-02-24T12:07:45.407178Z",
     "shell.execute_reply": "2021-02-24T12:07:45.406716Z"
    },
    "papermill": {
     "duration": 0.041308,
     "end_time": "2021-02-24T12:07:45.407289",
     "exception": false,
     "start_time": "2021-02-24T12:07:45.365981",
     "status": "completed"
    },
    "tags": []
   },
   "outputs": [],
   "source": [
    "#hide\n",
    "LAST_DATE_I, dt_cols = get_dates(df)\n",
    "dt_today =dt_cols[LAST_DATE_I]\n",
    "# dt_5day = dt_cols[LAST_DATE_I - 5]\n",
    "dt_yday = dt_cols[LAST_DATE_I - 1]"
   ]
  },
  {
   "cell_type": "code",
   "execution_count": 11,
   "id": "restricted-sheriff",
   "metadata": {
    "execution": {
     "iopub.execute_input": "2021-02-24T12:07:45.472380Z",
     "iopub.status.busy": "2021-02-24T12:07:45.471844Z",
     "iopub.status.idle": "2021-02-24T12:07:45.480114Z",
     "shell.execute_reply": "2021-02-24T12:07:45.479658Z"
    },
    "papermill": {
     "duration": 0.042997,
     "end_time": "2021-02-24T12:07:45.480220",
     "exception": false,
     "start_time": "2021-02-24T12:07:45.437223",
     "status": "completed"
    },
    "tags": []
   },
   "outputs": [],
   "source": [
    "#hide\n",
    "dfc_cases = dft_cases.groupby(COL_REGION)[dt_today].sum()\n",
    "dfc_deaths = dft_deaths.groupby(COL_REGION)[dt_today].sum()\n",
    "# dfp_cases = dft_cases.groupby(COL_REGION)[dt_5day].sum()\n",
    "# dfp_deaths = dft_deaths.groupby(COL_REGION)[dt_5day].sum()\n",
    "dfp_cases = dft_cases.groupby(COL_REGION)[dt_yday].sum()\n",
    "dfp_deaths = dft_deaths.groupby(COL_REGION)[dt_yday].sum()"
   ]
  },
  {
   "cell_type": "code",
   "execution_count": 12,
   "id": "deluxe-hepatitis",
   "metadata": {
    "execution": {
     "iopub.execute_input": "2021-02-24T12:07:45.546216Z",
     "iopub.status.busy": "2021-02-24T12:07:45.545674Z",
     "iopub.status.idle": "2021-02-24T12:07:45.550764Z",
     "shell.execute_reply": "2021-02-24T12:07:45.551178Z"
    },
    "papermill": {
     "duration": 0.042635,
     "end_time": "2021-02-24T12:07:45.551301",
     "exception": false,
     "start_time": "2021-02-24T12:07:45.508666",
     "status": "completed"
    },
    "tags": []
   },
   "outputs": [],
   "source": [
    "#hide\n",
    "df_table = (pd.DataFrame(dict(Cases = dfc_cases, Deaths = dfc_deaths, PCases = dfp_cases, PDeaths = dfp_deaths))\n",
    "            .sort_values(by = ['Cases','Deaths'], ascending = [False, False])\n",
    "            .reset_index())"
   ]
  },
  {
   "cell_type": "code",
   "execution_count": 13,
   "id": "educational-chancellor",
   "metadata": {
    "execution": {
     "iopub.execute_input": "2021-02-24T12:07:45.627953Z",
     "iopub.status.busy": "2021-02-24T12:07:45.616085Z",
     "iopub.status.idle": "2021-02-24T12:07:45.634999Z",
     "shell.execute_reply": "2021-02-24T12:07:45.634594Z"
    },
    "papermill": {
     "duration": 0.054726,
     "end_time": "2021-02-24T12:07:45.635090",
     "exception": false,
     "start_time": "2021-02-24T12:07:45.580364",
     "status": "completed"
    },
    "tags": []
   },
   "outputs": [
    {
     "data": {
      "text/html": [
       "<div>\n",
       "<style scoped>\n",
       "    .dataframe tbody tr th:only-of-type {\n",
       "        vertical-align: middle;\n",
       "    }\n",
       "\n",
       "    .dataframe tbody tr th {\n",
       "        vertical-align: top;\n",
       "    }\n",
       "\n",
       "    .dataframe thead th {\n",
       "        text-align: right;\n",
       "    }\n",
       "</style>\n",
       "<table border=\"1\" class=\"dataframe\">\n",
       "  <thead>\n",
       "    <tr style=\"text-align: right;\">\n",
       "      <th></th>\n",
       "      <th>Country/Region</th>\n",
       "      <th>Cases</th>\n",
       "      <th>Deaths</th>\n",
       "      <th>PCases</th>\n",
       "      <th>PDeaths</th>\n",
       "      <th>Cases (+)</th>\n",
       "      <th>Deaths (+)</th>\n",
       "      <th>Fatality Rate</th>\n",
       "      <th>Continent</th>\n",
       "    </tr>\n",
       "  </thead>\n",
       "  <tbody>\n",
       "    <tr>\n",
       "      <th>0</th>\n",
       "      <td>US</td>\n",
       "      <td>28261595</td>\n",
       "      <td>502660</td>\n",
       "      <td>28190159</td>\n",
       "      <td>500310</td>\n",
       "      <td>71436</td>\n",
       "      <td>2350</td>\n",
       "      <td>1.78</td>\n",
       "      <td>North America</td>\n",
       "    </tr>\n",
       "    <tr>\n",
       "      <th>1</th>\n",
       "      <td>India</td>\n",
       "      <td>11030176</td>\n",
       "      <td>156567</td>\n",
       "      <td>11016434</td>\n",
       "      <td>156463</td>\n",
       "      <td>13742</td>\n",
       "      <td>104</td>\n",
       "      <td>1.42</td>\n",
       "      <td>Asia</td>\n",
       "    </tr>\n",
       "    <tr>\n",
       "      <th>2</th>\n",
       "      <td>Brazil</td>\n",
       "      <td>10257875</td>\n",
       "      <td>248529</td>\n",
       "      <td>10195160</td>\n",
       "      <td>247143</td>\n",
       "      <td>62715</td>\n",
       "      <td>1386</td>\n",
       "      <td>2.42</td>\n",
       "      <td>South America</td>\n",
       "    </tr>\n",
       "    <tr>\n",
       "      <th>3</th>\n",
       "      <td>United Kingdom</td>\n",
       "      <td>4146760</td>\n",
       "      <td>121536</td>\n",
       "      <td>4138237</td>\n",
       "      <td>120988</td>\n",
       "      <td>8523</td>\n",
       "      <td>548</td>\n",
       "      <td>2.93</td>\n",
       "      <td>Europe</td>\n",
       "    </tr>\n",
       "    <tr>\n",
       "      <th>4</th>\n",
       "      <td>Russia</td>\n",
       "      <td>4142126</td>\n",
       "      <td>82666</td>\n",
       "      <td>4130447</td>\n",
       "      <td>82255</td>\n",
       "      <td>11679</td>\n",
       "      <td>411</td>\n",
       "      <td>2.00</td>\n",
       "      <td>Europe</td>\n",
       "    </tr>\n",
       "  </tbody>\n",
       "</table>\n",
       "</div>"
      ],
      "text/plain": [
       "   Country/Region     Cases  Deaths    PCases  PDeaths  Cases (+)  Deaths (+)  \\\n",
       "0              US  28261595  502660  28190159   500310      71436        2350   \n",
       "1           India  11030176  156567  11016434   156463      13742         104   \n",
       "2          Brazil  10257875  248529  10195160   247143      62715        1386   \n",
       "3  United Kingdom   4146760  121536   4138237   120988       8523         548   \n",
       "4          Russia   4142126   82666   4130447    82255      11679         411   \n",
       "\n",
       "   Fatality Rate      Continent  \n",
       "0           1.78  North America  \n",
       "1           1.42           Asia  \n",
       "2           2.42  South America  \n",
       "3           2.93         Europe  \n",
       "4           2.00         Europe  "
      ]
     },
     "execution_count": 13,
     "metadata": {},
     "output_type": "execute_result"
    }
   ],
   "source": [
    "#hide\n",
    "for c in 'Cases, Deaths'.split(', '):\n",
    "    df_table[f'{c} (+)'] = (df_table[c] - df_table[f'P{c}']).clip(0)\n",
    "    #Clip ça veut dire, les chiffres negatif sont interdit\n",
    "df_table['Fatality Rate'] = (100* df_table['Deaths']/ df_table['Cases']).round(2)\n",
    "df_table['Continent'] = df_table['Country/Region'].map(mapping['map.continent'])\n",
    "df_table.head(5)"
   ]
  },
  {
   "cell_type": "code",
   "execution_count": 14,
   "id": "aboriginal-bulgaria",
   "metadata": {
    "execution": {
     "iopub.execute_input": "2021-02-24T12:07:45.698609Z",
     "iopub.status.busy": "2021-02-24T12:07:45.698136Z",
     "iopub.status.idle": "2021-02-24T12:07:45.700902Z",
     "shell.execute_reply": "2021-02-24T12:07:45.700429Z"
    },
    "papermill": {
     "duration": 0.038827,
     "end_time": "2021-02-24T12:07:45.701002",
     "exception": false,
     "start_time": "2021-02-24T12:07:45.662175",
     "status": "completed"
    },
    "tags": []
   },
   "outputs": [],
   "source": [
    "#hide\n",
    "#delete problematic countries from table\n",
    "df_table = df_table[~df_table['Country/Region'].isin(['Cape Verde', 'Cruise Ship', 'Kosovo'])]"
   ]
  },
  {
   "cell_type": "code",
   "execution_count": 15,
   "id": "fantastic-effect",
   "metadata": {
    "execution": {
     "iopub.execute_input": "2021-02-24T12:07:45.765349Z",
     "iopub.status.busy": "2021-02-24T12:07:45.764320Z",
     "iopub.status.idle": "2021-02-24T12:07:45.779668Z",
     "shell.execute_reply": "2021-02-24T12:07:45.780137Z"
    },
    "papermill": {
     "duration": 0.051482,
     "end_time": "2021-02-24T12:07:45.780262",
     "exception": false,
     "start_time": "2021-02-24T12:07:45.728780",
     "status": "completed"
    },
    "tags": []
   },
   "outputs": [
    {
     "data": {
      "text/html": [
       "<div>\n",
       "<style scoped>\n",
       "    .dataframe tbody tr th:only-of-type {\n",
       "        vertical-align: middle;\n",
       "    }\n",
       "\n",
       "    .dataframe tbody tr th {\n",
       "        vertical-align: top;\n",
       "    }\n",
       "\n",
       "    .dataframe thead th {\n",
       "        text-align: right;\n",
       "    }\n",
       "</style>\n",
       "<table border=\"1\" class=\"dataframe\">\n",
       "  <thead>\n",
       "    <tr style=\"text-align: right;\">\n",
       "      <th></th>\n",
       "      <th>Country/Region</th>\n",
       "      <th>Cases</th>\n",
       "      <th>Deaths</th>\n",
       "      <th>PCases</th>\n",
       "      <th>PDeaths</th>\n",
       "      <th>Cases (+)</th>\n",
       "      <th>Deaths (+)</th>\n",
       "      <th>Fatality Rate</th>\n",
       "      <th>Continent</th>\n",
       "    </tr>\n",
       "  </thead>\n",
       "  <tbody>\n",
       "    <tr>\n",
       "      <th>0</th>\n",
       "      <td>US</td>\n",
       "      <td>28261595</td>\n",
       "      <td>502660</td>\n",
       "      <td>28190159</td>\n",
       "      <td>500310</td>\n",
       "      <td>71436</td>\n",
       "      <td>2350</td>\n",
       "      <td>1.8</td>\n",
       "      <td>North America</td>\n",
       "    </tr>\n",
       "    <tr>\n",
       "      <th>1</th>\n",
       "      <td>India</td>\n",
       "      <td>11030176</td>\n",
       "      <td>156567</td>\n",
       "      <td>11016434</td>\n",
       "      <td>156463</td>\n",
       "      <td>13742</td>\n",
       "      <td>104</td>\n",
       "      <td>1.4</td>\n",
       "      <td>Asia</td>\n",
       "    </tr>\n",
       "    <tr>\n",
       "      <th>2</th>\n",
       "      <td>Brazil</td>\n",
       "      <td>10257875</td>\n",
       "      <td>248529</td>\n",
       "      <td>10195160</td>\n",
       "      <td>247143</td>\n",
       "      <td>62715</td>\n",
       "      <td>1386</td>\n",
       "      <td>2.4</td>\n",
       "      <td>South America</td>\n",
       "    </tr>\n",
       "    <tr>\n",
       "      <th>3</th>\n",
       "      <td>United Kingdom</td>\n",
       "      <td>4146760</td>\n",
       "      <td>121536</td>\n",
       "      <td>4138237</td>\n",
       "      <td>120988</td>\n",
       "      <td>8523</td>\n",
       "      <td>548</td>\n",
       "      <td>2.9</td>\n",
       "      <td>Europe</td>\n",
       "    </tr>\n",
       "    <tr>\n",
       "      <th>4</th>\n",
       "      <td>Russia</td>\n",
       "      <td>4142126</td>\n",
       "      <td>82666</td>\n",
       "      <td>4130447</td>\n",
       "      <td>82255</td>\n",
       "      <td>11679</td>\n",
       "      <td>411</td>\n",
       "      <td>2.0</td>\n",
       "      <td>Europe</td>\n",
       "    </tr>\n",
       "  </tbody>\n",
       "</table>\n",
       "</div>"
      ],
      "text/plain": [
       "   Country/Region     Cases  Deaths    PCases  PDeaths  Cases (+)  Deaths (+)  \\\n",
       "0              US  28261595  502660  28190159   500310      71436        2350   \n",
       "1           India  11030176  156567  11016434   156463      13742         104   \n",
       "2          Brazil  10257875  248529  10195160   247143      62715        1386   \n",
       "3  United Kingdom   4146760  121536   4138237   120988       8523         548   \n",
       "4          Russia   4142126   82666   4130447    82255      11679         411   \n",
       "\n",
       "   Fatality Rate      Continent  \n",
       "0            1.8  North America  \n",
       "1            1.4           Asia  \n",
       "2            2.4  South America  \n",
       "3            2.9         Europe  \n",
       "4            2.0         Europe  "
      ]
     },
     "execution_count": 15,
     "metadata": {},
     "output_type": "execute_result"
    }
   ],
   "source": [
    "#hide\n",
    "df_table = (pd.DataFrame(dict(Cases=dfc_cases, Deaths=dfc_deaths, PCases=dfp_cases, PDeaths=dfp_deaths))\n",
    "             .sort_values(by=['Cases', 'Deaths'], ascending=[False, False])\n",
    "             .reset_index())\n",
    "df_table.rename(columns={'index': 'Country/Region'}, inplace=True)\n",
    "for c in 'Cases, Deaths'.split(', '):\n",
    "    df_table[f'{c} (+)'] = (df_table[c] - df_table[f'P{c}']).clip(0)  # DATA BUG\n",
    "df_table['Fatality Rate'] = (100 * df_table['Deaths'] / df_table['Cases']).round(1)\n",
    "df_table['Continent'] = df_table['Country/Region'].map(mapping['map.continent'])\n",
    "df_table.head(5)"
   ]
  },
  {
   "cell_type": "code",
   "execution_count": 16,
   "id": "fewer-occasion",
   "metadata": {
    "execution": {
     "iopub.execute_input": "2021-02-24T12:07:45.847280Z",
     "iopub.status.busy": "2021-02-24T12:07:45.846744Z",
     "iopub.status.idle": "2021-02-24T12:07:45.848986Z",
     "shell.execute_reply": "2021-02-24T12:07:45.849439Z"
    },
    "papermill": {
     "duration": 0.038679,
     "end_time": "2021-02-24T12:07:45.849566",
     "exception": false,
     "start_time": "2021-02-24T12:07:45.810887",
     "status": "completed"
    },
    "tags": []
   },
   "outputs": [],
   "source": [
    "#hide\n",
    "#delete problematic countries from table\n",
    "df_table = df_table[~df_table['Country/Region'].isin(['Cape Verde', 'Cruise Ship', 'Kosovo'])]"
   ]
  },
  {
   "cell_type": "code",
   "execution_count": 17,
   "id": "related-center",
   "metadata": {
    "execution": {
     "iopub.execute_input": "2021-02-24T12:07:45.924954Z",
     "iopub.status.busy": "2021-02-24T12:07:45.924403Z",
     "iopub.status.idle": "2021-02-24T12:07:45.927373Z",
     "shell.execute_reply": "2021-02-24T12:07:45.926912Z"
    },
    "papermill": {
     "duration": 0.048225,
     "end_time": "2021-02-24T12:07:45.927475",
     "exception": false,
     "start_time": "2021-02-24T12:07:45.879250",
     "status": "completed"
    },
    "tags": []
   },
   "outputs": [],
   "source": [
    "#hide\n",
    "metrics = [df_table.columns[index] for index in [1,2,5,6]]\n",
    "# s_china = df_table[df_table['Country/Region'].eq('China')][metrics].sum().add_prefix('China ')\n",
    "s_us = df_table[df_table['Country/Region'].eq('US')][metrics].sum().add_prefix('US ')\n",
    "s_eu = df_table[df_table['Continent'].eq('Europe')][metrics].sum().add_prefix('EU ')\n",
    "s_ind = df_table[df_table['Country/Region'].eq('India')][metrics].sum().add_prefix('India ')\n",
    "summary = {'updated': pd.to_datetime(dt_today), 'since': pd.to_datetime(dt_yday)}\n",
    "summary = {'updated': pd.to_datetime(dt_today), 'since': pd.to_datetime(dt_yday)}\n",
    "summary = {**summary, **df_table[metrics].sum(), **s_ind, **s_us, **s_eu}"
   ]
  },
  {
   "cell_type": "code",
   "execution_count": 18,
   "id": "engaging-syndrome",
   "metadata": {
    "execution": {
     "iopub.execute_input": "2021-02-24T12:07:45.999006Z",
     "iopub.status.busy": "2021-02-24T12:07:45.995685Z",
     "iopub.status.idle": "2021-02-24T12:07:46.008124Z",
     "shell.execute_reply": "2021-02-24T12:07:46.008577Z"
    },
    "papermill": {
     "duration": 0.050505,
     "end_time": "2021-02-24T12:07:46.008683",
     "exception": false,
     "start_time": "2021-02-24T12:07:45.958178",
     "status": "completed"
    },
    "tags": []
   },
   "outputs": [],
   "source": [
    "#hide\n",
    "dft_ct_new_cases = dft_cases.groupby(COL_REGION)[dt_cols].sum().diff(axis=1).fillna(0).astype(int)"
   ]
  },
  {
   "cell_type": "code",
   "execution_count": 19,
   "id": "neutral-assignment",
   "metadata": {
    "execution": {
     "iopub.execute_input": "2021-02-24T12:07:46.079059Z",
     "iopub.status.busy": "2021-02-24T12:07:46.078457Z",
     "iopub.status.idle": "2021-02-24T12:07:46.082162Z",
     "shell.execute_reply": "2021-02-24T12:07:46.082730Z"
    },
    "papermill": {
     "duration": 0.042455,
     "end_time": "2021-02-24T12:07:46.082857",
     "exception": false,
     "start_time": "2021-02-24T12:07:46.040402",
     "status": "completed"
    },
    "tags": []
   },
   "outputs": [],
   "source": [
    "#hide\n",
    "everydaycases = dft_ct_new_cases.cumsum(axis=1)"
   ]
  },
  {
   "cell_type": "code",
   "execution_count": 20,
   "id": "parliamentary-calgary",
   "metadata": {
    "execution": {
     "iopub.execute_input": "2021-02-24T12:07:46.154474Z",
     "iopub.status.busy": "2021-02-24T12:07:46.152739Z",
     "iopub.status.idle": "2021-02-24T12:07:49.330186Z",
     "shell.execute_reply": "2021-02-24T12:07:49.329667Z"
    },
    "papermill": {
     "duration": 3.214923,
     "end_time": "2021-02-24T12:07:49.330303",
     "exception": false,
     "start_time": "2021-02-24T12:07:46.115380",
     "status": "completed"
    },
    "tags": []
   },
   "outputs": [],
   "source": [
    "#hide\n",
    "import pandas as pd\n",
    "import matplotlib.pyplot as plt\n",
    "import matplotlib.ticker as ticker\n",
    "import matplotlib.animation as animation\n",
    "from IPython.display import HTML"
   ]
  },
  {
   "cell_type": "code",
   "execution_count": 21,
   "id": "lasting-extraction",
   "metadata": {
    "execution": {
     "iopub.execute_input": "2021-02-24T12:07:49.403603Z",
     "iopub.status.busy": "2021-02-24T12:07:49.403003Z",
     "iopub.status.idle": "2021-02-24T12:07:49.409664Z",
     "shell.execute_reply": "2021-02-24T12:07:49.409193Z"
    },
    "papermill": {
     "duration": 0.050064,
     "end_time": "2021-02-24T12:07:49.409774",
     "exception": false,
     "start_time": "2021-02-24T12:07:49.359710",
     "status": "completed"
    },
    "tags": []
   },
   "outputs": [],
   "source": [
    "#hide\n",
    "t = everydaycases.stack()"
   ]
  },
  {
   "cell_type": "code",
   "execution_count": 22,
   "id": "premier-sleeve",
   "metadata": {
    "execution": {
     "iopub.execute_input": "2021-02-24T12:07:49.474139Z",
     "iopub.status.busy": "2021-02-24T12:07:49.473619Z",
     "iopub.status.idle": "2021-02-24T12:07:49.482206Z",
     "shell.execute_reply": "2021-02-24T12:07:49.482678Z"
    },
    "papermill": {
     "duration": 0.041922,
     "end_time": "2021-02-24T12:07:49.482797",
     "exception": false,
     "start_time": "2021-02-24T12:07:49.440875",
     "status": "completed"
    },
    "tags": []
   },
   "outputs": [],
   "source": [
    "#hide\n",
    "g = t.reset_index(['Country/Region'])"
   ]
  },
  {
   "cell_type": "code",
   "execution_count": 23,
   "id": "distributed-pittsburgh",
   "metadata": {
    "execution": {
     "iopub.execute_input": "2021-02-24T12:07:49.544292Z",
     "iopub.status.busy": "2021-02-24T12:07:49.543704Z",
     "iopub.status.idle": "2021-02-24T12:07:49.547364Z",
     "shell.execute_reply": "2021-02-24T12:07:49.547817Z"
    },
    "papermill": {
     "duration": 0.037672,
     "end_time": "2021-02-24T12:07:49.547940",
     "exception": false,
     "start_time": "2021-02-24T12:07:49.510268",
     "status": "completed"
    },
    "tags": []
   },
   "outputs": [],
   "source": [
    "#hide\n",
    "g.index.name = 'date'"
   ]
  },
  {
   "cell_type": "code",
   "execution_count": 24,
   "id": "naked-donor",
   "metadata": {
    "execution": {
     "iopub.execute_input": "2021-02-24T12:07:49.609096Z",
     "iopub.status.busy": "2021-02-24T12:07:49.608558Z",
     "iopub.status.idle": "2021-02-24T12:07:49.610387Z",
     "shell.execute_reply": "2021-02-24T12:07:49.610848Z"
    },
    "papermill": {
     "duration": 0.03377,
     "end_time": "2021-02-24T12:07:49.610965",
     "exception": false,
     "start_time": "2021-02-24T12:07:49.577195",
     "status": "completed"
    },
    "tags": []
   },
   "outputs": [],
   "source": [
    "# #hide\n",
    "# g = g.reset_index(['date'])"
   ]
  },
  {
   "cell_type": "code",
   "execution_count": 25,
   "id": "incomplete-mustang",
   "metadata": {
    "execution": {
     "iopub.execute_input": "2021-02-24T12:07:49.669519Z",
     "iopub.status.busy": "2021-02-24T12:07:49.668931Z",
     "iopub.status.idle": "2021-02-24T12:07:49.671243Z",
     "shell.execute_reply": "2021-02-24T12:07:49.670779Z"
    },
    "papermill": {
     "duration": 0.032762,
     "end_time": "2021-02-24T12:07:49.671346",
     "exception": false,
     "start_time": "2021-02-24T12:07:49.638584",
     "status": "completed"
    },
    "tags": []
   },
   "outputs": [],
   "source": [
    "#hide\n",
    "# g.head()"
   ]
  },
  {
   "cell_type": "code",
   "execution_count": 26,
   "id": "specific-kruger",
   "metadata": {
    "execution": {
     "iopub.execute_input": "2021-02-24T12:07:49.737225Z",
     "iopub.status.busy": "2021-02-24T12:07:49.736750Z",
     "iopub.status.idle": "2021-02-24T12:07:49.739137Z",
     "shell.execute_reply": "2021-02-24T12:07:49.739657Z"
    },
    "papermill": {
     "duration": 0.03619,
     "end_time": "2021-02-24T12:07:49.739774",
     "exception": false,
     "start_time": "2021-02-24T12:07:49.703584",
     "status": "completed"
    },
    "tags": []
   },
   "outputs": [],
   "source": [
    "#hide\n",
    "# g.columns = ['date','country','cases']"
   ]
  },
  {
   "cell_type": "code",
   "execution_count": 27,
   "id": "tender-conversion",
   "metadata": {
    "execution": {
     "iopub.execute_input": "2021-02-24T12:07:49.804787Z",
     "iopub.status.busy": "2021-02-24T12:07:49.804299Z",
     "iopub.status.idle": "2021-02-24T12:07:49.806552Z",
     "shell.execute_reply": "2021-02-24T12:07:49.806134Z"
    },
    "papermill": {
     "duration": 0.037589,
     "end_time": "2021-02-24T12:07:49.806647",
     "exception": false,
     "start_time": "2021-02-24T12:07:49.769058",
     "status": "completed"
    },
    "tags": []
   },
   "outputs": [],
   "source": [
    "#hide\n",
    "# g['continent'] = g.country"
   ]
  },
  {
   "cell_type": "code",
   "execution_count": 28,
   "id": "substantial-wilderness",
   "metadata": {
    "execution": {
     "iopub.execute_input": "2021-02-24T12:07:49.913641Z",
     "iopub.status.busy": "2021-02-24T12:07:49.913150Z",
     "iopub.status.idle": "2021-02-24T12:07:49.915444Z",
     "shell.execute_reply": "2021-02-24T12:07:49.914975Z"
    },
    "papermill": {
     "duration": 0.04247,
     "end_time": "2021-02-24T12:07:49.915555",
     "exception": false,
     "start_time": "2021-02-24T12:07:49.873085",
     "status": "completed"
    },
    "tags": []
   },
   "outputs": [],
   "source": [
    "#hide\n",
    "# cols = list(g.columns.values)"
   ]
  },
  {
   "cell_type": "code",
   "execution_count": 29,
   "id": "solved-farming",
   "metadata": {
    "execution": {
     "iopub.execute_input": "2021-02-24T12:07:50.465087Z",
     "iopub.status.busy": "2021-02-24T12:07:50.464224Z",
     "iopub.status.idle": "2021-02-24T12:07:50.466049Z",
     "shell.execute_reply": "2021-02-24T12:07:50.466693Z"
    },
    "papermill": {
     "duration": 0.043166,
     "end_time": "2021-02-24T12:07:50.466868",
     "exception": false,
     "start_time": "2021-02-24T12:07:50.423702",
     "status": "completed"
    },
    "tags": []
   },
   "outputs": [],
   "source": [
    "#hide\n",
    "# cols.insert(0, cols.pop())"
   ]
  },
  {
   "cell_type": "code",
   "execution_count": 30,
   "id": "executed-adoption",
   "metadata": {
    "execution": {
     "iopub.execute_input": "2021-02-24T12:07:50.566700Z",
     "iopub.status.busy": "2021-02-24T12:07:50.566290Z",
     "iopub.status.idle": "2021-02-24T12:07:50.568943Z",
     "shell.execute_reply": "2021-02-24T12:07:50.568561Z"
    },
    "papermill": {
     "duration": 0.038594,
     "end_time": "2021-02-24T12:07:50.569039",
     "exception": false,
     "start_time": "2021-02-24T12:07:50.530445",
     "status": "completed"
    },
    "tags": []
   },
   "outputs": [],
   "source": [
    "#hide\n",
    "# g = g[cols]"
   ]
  },
  {
   "cell_type": "code",
   "execution_count": 31,
   "id": "subject-dublin",
   "metadata": {
    "execution": {
     "iopub.execute_input": "2021-02-24T12:07:50.628010Z",
     "iopub.status.busy": "2021-02-24T12:07:50.627533Z",
     "iopub.status.idle": "2021-02-24T12:07:50.629916Z",
     "shell.execute_reply": "2021-02-24T12:07:50.630440Z"
    },
    "papermill": {
     "duration": 0.034359,
     "end_time": "2021-02-24T12:07:50.630557",
     "exception": false,
     "start_time": "2021-02-24T12:07:50.596198",
     "status": "completed"
    },
    "tags": []
   },
   "outputs": [],
   "source": [
    "#hide\n",
    "# g['continent'] = g['continent'].map(mapping['map.continent'])"
   ]
  },
  {
   "cell_type": "code",
   "execution_count": 32,
   "id": "freelance-scout",
   "metadata": {
    "execution": {
     "iopub.execute_input": "2021-02-24T12:07:50.694110Z",
     "iopub.status.busy": "2021-02-24T12:07:50.693516Z",
     "iopub.status.idle": "2021-02-24T12:07:50.695682Z",
     "shell.execute_reply": "2021-02-24T12:07:50.695224Z"
    },
    "papermill": {
     "duration": 0.036214,
     "end_time": "2021-02-24T12:07:50.695784",
     "exception": false,
     "start_time": "2021-02-24T12:07:50.659570",
     "status": "completed"
    },
    "tags": []
   },
   "outputs": [],
   "source": [
    "#hide\n",
    "# g.head()"
   ]
  },
  {
   "cell_type": "code",
   "execution_count": 33,
   "id": "limited-engine",
   "metadata": {
    "execution": {
     "iopub.execute_input": "2021-02-24T12:07:50.760228Z",
     "iopub.status.busy": "2021-02-24T12:07:50.759696Z",
     "iopub.status.idle": "2021-02-24T12:07:50.762065Z",
     "shell.execute_reply": "2021-02-24T12:07:50.762633Z"
    },
    "papermill": {
     "duration": 0.036469,
     "end_time": "2021-02-24T12:07:50.762759",
     "exception": false,
     "start_time": "2021-02-24T12:07:50.726290",
     "status": "completed"
    },
    "tags": []
   },
   "outputs": [],
   "source": [
    "# hide\n",
    "# g['date'] = g['date'].astype('datetime64[ns]')"
   ]
  },
  {
   "cell_type": "code",
   "execution_count": 34,
   "id": "sophisticated-supervisor",
   "metadata": {
    "execution": {
     "iopub.execute_input": "2021-02-24T12:07:50.825209Z",
     "iopub.status.busy": "2021-02-24T12:07:50.824623Z",
     "iopub.status.idle": "2021-02-24T12:07:50.826353Z",
     "shell.execute_reply": "2021-02-24T12:07:50.826711Z"
    },
    "papermill": {
     "duration": 0.034777,
     "end_time": "2021-02-24T12:07:50.826816",
     "exception": false,
     "start_time": "2021-02-24T12:07:50.792039",
     "status": "completed"
    },
    "tags": []
   },
   "outputs": [],
   "source": [
    "#hide\n",
    "# g['date'] = g.date.dt.dayofyear"
   ]
  },
  {
   "cell_type": "code",
   "execution_count": 35,
   "id": "inside-dubai",
   "metadata": {
    "execution": {
     "iopub.execute_input": "2021-02-24T12:07:50.887562Z",
     "iopub.status.busy": "2021-02-24T12:07:50.886886Z",
     "iopub.status.idle": "2021-02-24T12:07:50.889341Z",
     "shell.execute_reply": "2021-02-24T12:07:50.888897Z"
    },
    "papermill": {
     "duration": 0.034286,
     "end_time": "2021-02-24T12:07:50.889434",
     "exception": false,
     "start_time": "2021-02-24T12:07:50.855148",
     "status": "completed"
    },
    "tags": []
   },
   "outputs": [],
   "source": [
    "#hide\n",
    "# g = g.rename(columns= {'continent':'group','country':'name','cases':'value'})"
   ]
  },
  {
   "cell_type": "code",
   "execution_count": 36,
   "id": "fleet-motorcycle",
   "metadata": {
    "execution": {
     "iopub.execute_input": "2021-02-24T12:07:50.948558Z",
     "iopub.status.busy": "2021-02-24T12:07:50.948088Z",
     "iopub.status.idle": "2021-02-24T12:07:50.950524Z",
     "shell.execute_reply": "2021-02-24T12:07:50.950955Z"
    },
    "papermill": {
     "duration": 0.033905,
     "end_time": "2021-02-24T12:07:50.951072",
     "exception": false,
     "start_time": "2021-02-24T12:07:50.917167",
     "status": "completed"
    },
    "tags": []
   },
   "outputs": [],
   "source": [
    "#hide\n",
    "# cols = ['name','group','day','value']"
   ]
  },
  {
   "cell_type": "code",
   "execution_count": 37,
   "id": "continued-sleeping",
   "metadata": {
    "execution": {
     "iopub.execute_input": "2021-02-24T12:07:51.011822Z",
     "iopub.status.busy": "2021-02-24T12:07:51.011406Z",
     "iopub.status.idle": "2021-02-24T12:07:51.014079Z",
     "shell.execute_reply": "2021-02-24T12:07:51.014545Z"
    },
    "papermill": {
     "duration": 0.03561,
     "end_time": "2021-02-24T12:07:51.014658",
     "exception": false,
     "start_time": "2021-02-24T12:07:50.979048",
     "status": "completed"
    },
    "tags": []
   },
   "outputs": [],
   "source": [
    "#hide\n",
    "# g.rename(columns= {'date':'day'},inplace = True)"
   ]
  },
  {
   "cell_type": "code",
   "execution_count": 38,
   "id": "major-fight",
   "metadata": {
    "execution": {
     "iopub.execute_input": "2021-02-24T12:07:51.076731Z",
     "iopub.status.busy": "2021-02-24T12:07:51.076197Z",
     "iopub.status.idle": "2021-02-24T12:07:51.078949Z",
     "shell.execute_reply": "2021-02-24T12:07:51.078482Z"
    },
    "papermill": {
     "duration": 0.035596,
     "end_time": "2021-02-24T12:07:51.079049",
     "exception": false,
     "start_time": "2021-02-24T12:07:51.043453",
     "status": "completed"
    },
    "tags": []
   },
   "outputs": [],
   "source": [
    "#hide\n",
    "# g = g[cols]"
   ]
  },
  {
   "cell_type": "code",
   "execution_count": 39,
   "id": "structured-mobile",
   "metadata": {
    "execution": {
     "iopub.execute_input": "2021-02-24T12:07:51.140239Z",
     "iopub.status.busy": "2021-02-24T12:07:51.139798Z",
     "iopub.status.idle": "2021-02-24T12:07:51.141337Z",
     "shell.execute_reply": "2021-02-24T12:07:51.141717Z"
    },
    "papermill": {
     "duration": 0.034062,
     "end_time": "2021-02-24T12:07:51.141816",
     "exception": false,
     "start_time": "2021-02-24T12:07:51.107754",
     "status": "completed"
    },
    "tags": []
   },
   "outputs": [],
   "source": [
    "# #hide\n",
    "# g = g[g.group.notna()]"
   ]
  },
  {
   "cell_type": "code",
   "execution_count": 40,
   "id": "determined-closing",
   "metadata": {
    "execution": {
     "iopub.execute_input": "2021-02-24T12:07:51.203520Z",
     "iopub.status.busy": "2021-02-24T12:07:51.202852Z",
     "iopub.status.idle": "2021-02-24T12:07:51.205275Z",
     "shell.execute_reply": "2021-02-24T12:07:51.205763Z"
    },
    "papermill": {
     "duration": 0.035646,
     "end_time": "2021-02-24T12:07:51.205899",
     "exception": false,
     "start_time": "2021-02-24T12:07:51.170253",
     "status": "completed"
    },
    "tags": []
   },
   "outputs": [],
   "source": [
    "# #hide\n",
    "# colors = dict(zip(\n",
    "#     [\"Oceania\", \"Europe\", \"Asia\", \"South America\", \"Middle East\", \"North America\", \"Africa\"],\n",
    "#     [\"#adb0ff\", \"#ffb3ff\", \"#90d595\", \"#e48381\", \"#aafbff\", \"#f7bb5f\", \"#eafb50\"]\n",
    "# ))\n",
    "# group_lk = g.set_index('name')['group'].to_dict()"
   ]
  },
  {
   "cell_type": "code",
   "execution_count": null,
   "id": "gross-drinking",
   "metadata": {
    "papermill": {
     "duration": 0.027672,
     "end_time": "2021-02-24T12:07:51.263465",
     "exception": false,
     "start_time": "2021-02-24T12:07:51.235793",
     "status": "completed"
    },
    "tags": []
   },
   "outputs": [],
   "source": []
  },
  {
   "cell_type": "code",
   "execution_count": 41,
   "id": "subject-macintosh",
   "metadata": {
    "execution": {
     "iopub.execute_input": "2021-02-24T12:07:51.327998Z",
     "iopub.status.busy": "2021-02-24T12:07:51.327446Z",
     "iopub.status.idle": "2021-02-24T12:07:51.329575Z",
     "shell.execute_reply": "2021-02-24T12:07:51.330094Z"
    },
    "papermill": {
     "duration": 0.036691,
     "end_time": "2021-02-24T12:07:51.330210",
     "exception": false,
     "start_time": "2021-02-24T12:07:51.293519",
     "status": "completed"
    },
    "tags": []
   },
   "outputs": [],
   "source": [
    "# #hide\n",
    "# fig, ax = plt.subplots(figsize=(15, 8))\n",
    "\n",
    "# def draw_barchart(current_day):\n",
    "#     dff = g[g['day'].eq(current_day)].sort_values(by='value', ascending=True).tail(10)\n",
    "#     ax.clear()\n",
    "#     ax.barh(dff['name'], dff['value'], color=[colors[group_lk[x]] for x in dff['name']])\n",
    "#     dx = dff['value'].max() / 200\n",
    "    \n",
    "#     for i, (value, name) in enumerate(zip(dff['value'], dff['name'])):\n",
    "#         ax.text(value-dx, i,     name,           size=14, weight=600, ha='right', va='bottom')\n",
    "#         ax.text(value-dx, i-.25, group_lk[name], size=10, color='#444444', ha='right', va='baseline')\n",
    "#         ax.text(value+dx, i,     f'{value:,.0f}',  size=14, ha='left',  va='center')\n",
    "#     ax.text(1, 0.4, current_day, transform=ax.transAxes, color='#777777', size=46, ha='right', weight=800)\n",
    "#     ax.text(0, 1.06, 'Population (thousands)', transform=ax.transAxes, size=12, color='#777777')\n",
    "#     ax.xaxis.set_major_formatter(ticker.StrMethodFormatter('{x:,.0f}'))\n",
    "#     ax.xaxis.set_ticks_position('top')\n",
    "#     ax.tick_params(axis='x', colors='#777777', labelsize=12)\n",
    "#     ax.set_yticks([])\n",
    "#     ax.margins(0, 0.01)\n",
    "#     ax.grid(which='major', axis='x', linestyle='-')\n",
    "#     ax.set_axisbelow(True)\n",
    "    \n",
    "#     ax.text(0, 1.15, 'Coronavirus',\n",
    "#             transform=ax.transAxes, size=24, weight=600, ha='left', va='top')\n",
    "# #     ax.text(1, 0, 'by @pratapvardhan; credit @jburnmurdoch', transform=ax.transAxes, color='#777777', ha='right',\n",
    "# #             bbox=dict(facecolor='white', alpha=0.8, edgecolor='white'))\n",
    "#     plt.box(False)"
   ]
  },
  {
   "cell_type": "code",
   "execution_count": 42,
   "id": "sexual-wages",
   "metadata": {
    "execution": {
     "iopub.execute_input": "2021-02-24T12:07:51.396065Z",
     "iopub.status.busy": "2021-02-24T12:07:51.395490Z",
     "iopub.status.idle": "2021-02-24T12:07:51.397993Z",
     "shell.execute_reply": "2021-02-24T12:07:51.398451Z"
    },
    "papermill": {
     "duration": 0.036972,
     "end_time": "2021-02-24T12:07:51.398575",
     "exception": false,
     "start_time": "2021-02-24T12:07:51.361603",
     "status": "completed"
    },
    "tags": []
   },
   "outputs": [],
   "source": [
    "# #hide_input\n",
    "# fig, ax = plt.subplots(figsize=(15, 8))\n",
    "# animator = animation.FuncAnimation(fig, draw_barchart, frames=range(g.day.values.min(), g.day.values.max()))\n",
    "# HTML(animator.to_jshtml())\n",
    "# # or use animator.to_html5_video() or animator.save() "
   ]
  },
  {
   "cell_type": "code",
   "execution_count": null,
   "id": "australian-container",
   "metadata": {
    "papermill": {
     "duration": 0.032185,
     "end_time": "2021-02-24T12:07:51.461440",
     "exception": false,
     "start_time": "2021-02-24T12:07:51.429255",
     "status": "completed"
    },
    "tags": []
   },
   "outputs": [],
   "source": []
  },
  {
   "cell_type": "code",
   "execution_count": null,
   "id": "mediterranean-pontiac",
   "metadata": {
    "papermill": {
     "duration": 0.030916,
     "end_time": "2021-02-24T12:07:51.524612",
     "exception": false,
     "start_time": "2021-02-24T12:07:51.493696",
     "status": "completed"
    },
    "tags": []
   },
   "outputs": [],
   "source": []
  },
  {
   "cell_type": "code",
   "execution_count": null,
   "id": "aging-legislature",
   "metadata": {
    "papermill": {
     "duration": 0.03404,
     "end_time": "2021-02-24T12:07:51.592471",
     "exception": false,
     "start_time": "2021-02-24T12:07:51.558431",
     "status": "completed"
    },
    "tags": []
   },
   "outputs": [],
   "source": []
  }
 ],
 "metadata": {
  "kernelspec": {
   "display_name": "Python 3",
   "language": "python",
   "name": "python3"
  },
  "language_info": {
   "codemirror_mode": {
    "name": "ipython",
    "version": 3
   },
   "file_extension": ".py",
   "mimetype": "text/x-python",
   "name": "python",
   "nbconvert_exporter": "python",
   "pygments_lexer": "ipython3",
   "version": "3.6.13"
  },
  "papermill": {
   "duration": 8.861176,
   "end_time": "2021-02-24T12:07:51.934207",
   "environment_variables": {},
   "exception": null,
   "input_path": "2020-03-21-covid19exp.ipynb",
   "output_path": "2020-03-21-covid19exp.ipynb",
   "parameters": {},
   "start_time": "2021-02-24T12:07:43.073031",
   "version": "2.0.0"
  }
 },
 "nbformat": 4,
 "nbformat_minor": 5
}