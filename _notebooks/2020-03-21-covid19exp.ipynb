{
 "cells": [
  {
   "cell_type": "markdown",
   "metadata": {
    "papermill": {
     "duration": 0.037146,
     "end_time": "2020-12-08T00:11:44.996630",
     "exception": false,
     "start_time": "2020-12-08T00:11:44.959484",
     "status": "completed"
    },
    "tags": []
   },
   "source": [
    "# COVID-19 Case Race\n",
    "> A race chart to see rising cases around the world\n",
    "\n",
    "- author: Hargun Oberoi\n",
    "- image: images/covid-overview.png\n",
    "- hide: false\n",
    "- badges: false"
   ]
  },
  {
   "cell_type": "code",
   "execution_count": 1,
   "metadata": {
    "execution": {
     "iopub.execute_input": "2020-12-08T00:11:45.068105Z",
     "iopub.status.busy": "2020-12-08T00:11:45.067353Z",
     "iopub.status.idle": "2020-12-08T00:11:45.417630Z",
     "shell.execute_reply": "2020-12-08T00:11:45.416893Z"
    },
    "papermill": {
     "duration": 0.388462,
     "end_time": "2020-12-08T00:11:45.417852",
     "exception": false,
     "start_time": "2020-12-08T00:11:45.029390",
     "status": "completed"
    },
    "tags": []
   },
   "outputs": [],
   "source": [
    "#hide\n",
    "import numpy as np\n",
    "import pandas as pd\n",
    "from jinja2 import Template\n",
    "from IPython.display import HTML"
   ]
  },
  {
   "cell_type": "code",
   "execution_count": 2,
   "metadata": {
    "execution": {
     "iopub.execute_input": "2020-12-08T00:11:45.489685Z",
     "iopub.status.busy": "2020-12-08T00:11:45.489057Z",
     "iopub.status.idle": "2020-12-08T00:11:45.491188Z",
     "shell.execute_reply": "2020-12-08T00:11:45.491792Z"
    },
    "papermill": {
     "duration": 0.040482,
     "end_time": "2020-12-08T00:11:45.492018",
     "exception": false,
     "start_time": "2020-12-08T00:11:45.451536",
     "status": "completed"
    },
    "tags": []
   },
   "outputs": [],
   "source": [
    "#hide\n",
    "\n",
    "# FETCH\n",
    "base_url = 'https://raw.githubusercontent.com/pratapvardhan/notebooks/master/covid19/'\n",
    "paths = {\n",
    "    'mapping': base_url + 'mapping_countries.csv',\n",
    "    'overview': base_url + 'overview.tpl'\n",
    "}"
   ]
  },
  {
   "cell_type": "code",
   "execution_count": 3,
   "metadata": {
    "execution": {
     "iopub.execute_input": "2020-12-08T00:11:45.567311Z",
     "iopub.status.busy": "2020-12-08T00:11:45.566649Z",
     "iopub.status.idle": "2020-12-08T00:11:45.569640Z",
     "shell.execute_reply": "2020-12-08T00:11:45.570239Z"
    },
    "papermill": {
     "duration": 0.046289,
     "end_time": "2020-12-08T00:11:45.570402",
     "exception": false,
     "start_time": "2020-12-08T00:11:45.524113",
     "status": "completed"
    },
    "tags": []
   },
   "outputs": [
    {
     "data": {
      "text/plain": [
       "'https://raw.githubusercontent.com/pratapvardhan/notebooks/master/covid19/mapping_countries.csv'"
      ]
     },
     "execution_count": 3,
     "metadata": {},
     "output_type": "execute_result"
    }
   ],
   "source": [
    "#hide\n",
    "paths['mapping']"
   ]
  },
  {
   "cell_type": "code",
   "execution_count": 4,
   "metadata": {
    "execution": {
     "iopub.execute_input": "2020-12-08T00:11:45.641000Z",
     "iopub.status.busy": "2020-12-08T00:11:45.640370Z",
     "iopub.status.idle": "2020-12-08T00:11:45.642374Z",
     "shell.execute_reply": "2020-12-08T00:11:45.643026Z"
    },
    "papermill": {
     "duration": 0.040004,
     "end_time": "2020-12-08T00:11:45.643156",
     "exception": false,
     "start_time": "2020-12-08T00:11:45.603152",
     "status": "completed"
    },
    "tags": []
   },
   "outputs": [],
   "source": [
    "#hide\n",
    "def get_mappings(url):\n",
    "    df = pd.read_csv(url)\n",
    "    return {\n",
    "        'df': df,\n",
    "        'replace.country': dict(df.dropna(subset=['Name']).set_index('Country')['Name']),\n",
    "        'map.continent': dict(df.set_index('Name')['Continent'])\n",
    "    }"
   ]
  },
  {
   "cell_type": "code",
   "execution_count": 5,
   "metadata": {
    "execution": {
     "iopub.execute_input": "2020-12-08T00:11:45.712809Z",
     "iopub.status.busy": "2020-12-08T00:11:45.712266Z",
     "iopub.status.idle": "2020-12-08T00:11:45.805895Z",
     "shell.execute_reply": "2020-12-08T00:11:45.805314Z"
    },
    "papermill": {
     "duration": 0.131665,
     "end_time": "2020-12-08T00:11:45.806025",
     "exception": false,
     "start_time": "2020-12-08T00:11:45.674360",
     "status": "completed"
    },
    "tags": []
   },
   "outputs": [],
   "source": [
    "#hide\n",
    "mapping = get_mappings(paths['mapping'])"
   ]
  },
  {
   "cell_type": "code",
   "execution_count": 6,
   "metadata": {
    "execution": {
     "iopub.execute_input": "2020-12-08T00:11:45.964532Z",
     "iopub.status.busy": "2020-12-08T00:11:45.963767Z",
     "iopub.status.idle": "2020-12-08T00:11:45.966096Z",
     "shell.execute_reply": "2020-12-08T00:11:45.966556Z"
    },
    "papermill": {
     "duration": 0.126831,
     "end_time": "2020-12-08T00:11:45.966723",
     "exception": false,
     "start_time": "2020-12-08T00:11:45.839892",
     "status": "completed"
    },
    "tags": []
   },
   "outputs": [],
   "source": [
    "#hide\n",
    "def get_template(path):\n",
    "    from urllib.parse import urlparse\n",
    "    if bool(urlparse(path).netloc):\n",
    "        from urllib.request import urlopen\n",
    "        return urlopen(path).read().decode('utf8')\n",
    "    return open(path).read()"
   ]
  },
  {
   "cell_type": "code",
   "execution_count": 7,
   "metadata": {
    "execution": {
     "iopub.execute_input": "2020-12-08T00:11:46.038057Z",
     "iopub.status.busy": "2020-12-08T00:11:46.037359Z",
     "iopub.status.idle": "2020-12-08T00:11:46.039703Z",
     "shell.execute_reply": "2020-12-08T00:11:46.040291Z"
    },
    "papermill": {
     "duration": 0.040499,
     "end_time": "2020-12-08T00:11:46.040458",
     "exception": false,
     "start_time": "2020-12-08T00:11:45.999959",
     "status": "completed"
    },
    "tags": []
   },
   "outputs": [],
   "source": [
    "#hide\n",
    "def get_frame(name):\n",
    "    url = (\n",
    "        'https://raw.githubusercontent.com/CSSEGISandData/COVID-19/master/csse_covid_19_data/'\n",
    "        f'csse_covid_19_time_series/time_series_covid19_{name}_global.csv')\n",
    "    df = pd.read_csv(url)\n",
    "    # rename countries\n",
    "    df['Country/Region'] = df['Country/Region'].replace(mapping['replace.country'])\n",
    "    return df"
   ]
  },
  {
   "cell_type": "code",
   "execution_count": 8,
   "metadata": {
    "execution": {
     "iopub.execute_input": "2020-12-08T00:11:46.115481Z",
     "iopub.status.busy": "2020-12-08T00:11:46.114847Z",
     "iopub.status.idle": "2020-12-08T00:11:46.116657Z",
     "shell.execute_reply": "2020-12-08T00:11:46.117340Z"
    },
    "papermill": {
     "duration": 0.042478,
     "end_time": "2020-12-08T00:11:46.117474",
     "exception": false,
     "start_time": "2020-12-08T00:11:46.074996",
     "status": "completed"
    },
    "tags": []
   },
   "outputs": [],
   "source": [
    "#hide\n",
    "def get_dates(df):\n",
    "    dt_cols = df.columns[~df.columns.isin(['Province/State', 'Country/Region', 'Lat', 'Long'])]\n",
    "    LAST_DATE_I = -1\n",
    "    # sometimes last column may be empty, then go backwards\n",
    "    for i in range(-1, -len(dt_cols), -1):\n",
    "        if not df[dt_cols[i]].fillna(0).eq(0).all():\n",
    "            LAST_DATE_I = i\n",
    "            break\n",
    "    return LAST_DATE_I, dt_cols"
   ]
  },
  {
   "cell_type": "code",
   "execution_count": 9,
   "metadata": {
    "execution": {
     "iopub.execute_input": "2020-12-08T00:11:46.189037Z",
     "iopub.status.busy": "2020-12-08T00:11:46.188431Z",
     "iopub.status.idle": "2020-12-08T00:11:46.674294Z",
     "shell.execute_reply": "2020-12-08T00:11:46.674937Z"
    },
    "papermill": {
     "duration": 0.525017,
     "end_time": "2020-12-08T00:11:46.675200",
     "exception": false,
     "start_time": "2020-12-08T00:11:46.150183",
     "status": "completed"
    },
    "tags": []
   },
   "outputs": [],
   "source": [
    "#hide\n",
    "COL_REGION = 'Country/Region'\n",
    "# Confirmed, Recovered, Deaths\n",
    "df = get_frame('confirmed')\n",
    "# dft_: timeseries, dfc_: today country agg\n",
    "dft_cases = df\n",
    "dft_deaths = get_frame('deaths')\n",
    "dft_recovered = get_frame('recovered')\n",
    "LAST_DATE_I, dt_cols = get_dates(df)"
   ]
  },
  {
   "cell_type": "code",
   "execution_count": 10,
   "metadata": {
    "execution": {
     "iopub.execute_input": "2020-12-08T00:11:46.747159Z",
     "iopub.status.busy": "2020-12-08T00:11:46.746459Z",
     "iopub.status.idle": "2020-12-08T00:11:46.748419Z",
     "shell.execute_reply": "2020-12-08T00:11:46.748976Z"
    },
    "papermill": {
     "duration": 0.040667,
     "end_time": "2020-12-08T00:11:46.749193",
     "exception": false,
     "start_time": "2020-12-08T00:11:46.708526",
     "status": "completed"
    },
    "tags": []
   },
   "outputs": [],
   "source": [
    "#hide\n",
    "LAST_DATE_I, dt_cols = get_dates(df)\n",
    "dt_today =dt_cols[LAST_DATE_I]\n",
    "# dt_5day = dt_cols[LAST_DATE_I - 5]\n",
    "dt_yday = dt_cols[LAST_DATE_I - 1]"
   ]
  },
  {
   "cell_type": "code",
   "execution_count": 11,
   "metadata": {
    "execution": {
     "iopub.execute_input": "2020-12-08T00:11:46.825927Z",
     "iopub.status.busy": "2020-12-08T00:11:46.825259Z",
     "iopub.status.idle": "2020-12-08T00:11:46.834914Z",
     "shell.execute_reply": "2020-12-08T00:11:46.835478Z"
    },
    "papermill": {
     "duration": 0.055385,
     "end_time": "2020-12-08T00:11:46.835636",
     "exception": false,
     "start_time": "2020-12-08T00:11:46.780251",
     "status": "completed"
    },
    "tags": []
   },
   "outputs": [],
   "source": [
    "#hide\n",
    "dfc_cases = dft_cases.groupby(COL_REGION)[dt_today].sum()\n",
    "dfc_deaths = dft_deaths.groupby(COL_REGION)[dt_today].sum()\n",
    "# dfp_cases = dft_cases.groupby(COL_REGION)[dt_5day].sum()\n",
    "# dfp_deaths = dft_deaths.groupby(COL_REGION)[dt_5day].sum()\n",
    "dfp_cases = dft_cases.groupby(COL_REGION)[dt_yday].sum()\n",
    "dfp_deaths = dft_deaths.groupby(COL_REGION)[dt_yday].sum()"
   ]
  },
  {
   "cell_type": "code",
   "execution_count": 12,
   "metadata": {
    "execution": {
     "iopub.execute_input": "2020-12-08T00:11:46.911033Z",
     "iopub.status.busy": "2020-12-08T00:11:46.910393Z",
     "iopub.status.idle": "2020-12-08T00:11:46.915956Z",
     "shell.execute_reply": "2020-12-08T00:11:46.915438Z"
    },
    "papermill": {
     "duration": 0.046582,
     "end_time": "2020-12-08T00:11:46.916077",
     "exception": false,
     "start_time": "2020-12-08T00:11:46.869495",
     "status": "completed"
    },
    "tags": []
   },
   "outputs": [],
   "source": [
    "#hide\n",
    "df_table = (pd.DataFrame(dict(Cases = dfc_cases, Deaths = dfc_deaths, PCases = dfp_cases, PDeaths = dfp_deaths))\n",
    "            .sort_values(by = ['Cases','Deaths'], ascending = [False, False])\n",
    "            .reset_index())"
   ]
  },
  {
   "cell_type": "code",
   "execution_count": 13,
   "metadata": {
    "execution": {
     "iopub.execute_input": "2020-12-08T00:11:46.999087Z",
     "iopub.status.busy": "2020-12-08T00:11:46.998459Z",
     "iopub.status.idle": "2020-12-08T00:11:47.007798Z",
     "shell.execute_reply": "2020-12-08T00:11:47.007176Z"
    },
    "papermill": {
     "duration": 0.061107,
     "end_time": "2020-12-08T00:11:47.007913",
     "exception": false,
     "start_time": "2020-12-08T00:11:46.946806",
     "status": "completed"
    },
    "tags": []
   },
   "outputs": [
    {
     "data": {
      "text/html": [
       "<div>\n",
       "<style scoped>\n",
       "    .dataframe tbody tr th:only-of-type {\n",
       "        vertical-align: middle;\n",
       "    }\n",
       "\n",
       "    .dataframe tbody tr th {\n",
       "        vertical-align: top;\n",
       "    }\n",
       "\n",
       "    .dataframe thead th {\n",
       "        text-align: right;\n",
       "    }\n",
       "</style>\n",
       "<table border=\"1\" class=\"dataframe\">\n",
       "  <thead>\n",
       "    <tr style=\"text-align: right;\">\n",
       "      <th></th>\n",
       "      <th>Country/Region</th>\n",
       "      <th>Cases</th>\n",
       "      <th>Deaths</th>\n",
       "      <th>PCases</th>\n",
       "      <th>PDeaths</th>\n",
       "      <th>Cases (+)</th>\n",
       "      <th>Deaths (+)</th>\n",
       "      <th>Fatality Rate</th>\n",
       "      <th>Continent</th>\n",
       "    </tr>\n",
       "  </thead>\n",
       "  <tbody>\n",
       "    <tr>\n",
       "      <th>0</th>\n",
       "      <td>US</td>\n",
       "      <td>14757000</td>\n",
       "      <td>282299</td>\n",
       "      <td>14581337</td>\n",
       "      <td>281186</td>\n",
       "      <td>175663</td>\n",
       "      <td>1113</td>\n",
       "      <td>1.91</td>\n",
       "      <td>North America</td>\n",
       "    </tr>\n",
       "    <tr>\n",
       "      <th>1</th>\n",
       "      <td>India</td>\n",
       "      <td>9677203</td>\n",
       "      <td>140573</td>\n",
       "      <td>9644222</td>\n",
       "      <td>140182</td>\n",
       "      <td>32981</td>\n",
       "      <td>391</td>\n",
       "      <td>1.45</td>\n",
       "      <td>Asia</td>\n",
       "    </tr>\n",
       "    <tr>\n",
       "      <th>2</th>\n",
       "      <td>Brazil</td>\n",
       "      <td>6603540</td>\n",
       "      <td>176941</td>\n",
       "      <td>6577177</td>\n",
       "      <td>176628</td>\n",
       "      <td>26363</td>\n",
       "      <td>313</td>\n",
       "      <td>2.68</td>\n",
       "      <td>South America</td>\n",
       "    </tr>\n",
       "    <tr>\n",
       "      <th>3</th>\n",
       "      <td>Russia</td>\n",
       "      <td>2439163</td>\n",
       "      <td>42675</td>\n",
       "      <td>2410462</td>\n",
       "      <td>42228</td>\n",
       "      <td>28701</td>\n",
       "      <td>447</td>\n",
       "      <td>1.75</td>\n",
       "      <td>Europe</td>\n",
       "    </tr>\n",
       "    <tr>\n",
       "      <th>4</th>\n",
       "      <td>France</td>\n",
       "      <td>2345648</td>\n",
       "      <td>55247</td>\n",
       "      <td>2334626</td>\n",
       "      <td>55073</td>\n",
       "      <td>11022</td>\n",
       "      <td>174</td>\n",
       "      <td>2.36</td>\n",
       "      <td>Europe</td>\n",
       "    </tr>\n",
       "  </tbody>\n",
       "</table>\n",
       "</div>"
      ],
      "text/plain": [
       "  Country/Region     Cases  Deaths    PCases  PDeaths  Cases (+)  Deaths (+)  \\\n",
       "0             US  14757000  282299  14581337   281186     175663        1113   \n",
       "1          India   9677203  140573   9644222   140182      32981         391   \n",
       "2         Brazil   6603540  176941   6577177   176628      26363         313   \n",
       "3         Russia   2439163   42675   2410462    42228      28701         447   \n",
       "4         France   2345648   55247   2334626    55073      11022         174   \n",
       "\n",
       "   Fatality Rate      Continent  \n",
       "0           1.91  North America  \n",
       "1           1.45           Asia  \n",
       "2           2.68  South America  \n",
       "3           1.75         Europe  \n",
       "4           2.36         Europe  "
      ]
     },
     "execution_count": 13,
     "metadata": {},
     "output_type": "execute_result"
    }
   ],
   "source": [
    "#hide\n",
    "for c in 'Cases, Deaths'.split(', '):\n",
    "    df_table[f'{c} (+)'] = (df_table[c] - df_table[f'P{c}']).clip(0)\n",
    "    #Clip ça veut dire, les chiffres negatif sont interdit\n",
    "df_table['Fatality Rate'] = (100* df_table['Deaths']/ df_table['Cases']).round(2)\n",
    "df_table['Continent'] = df_table['Country/Region'].map(mapping['map.continent'])\n",
    "df_table.head(5)"
   ]
  },
  {
   "cell_type": "code",
   "execution_count": 14,
   "metadata": {
    "execution": {
     "iopub.execute_input": "2020-12-08T00:11:47.080496Z",
     "iopub.status.busy": "2020-12-08T00:11:47.079871Z",
     "iopub.status.idle": "2020-12-08T00:11:47.081963Z",
     "shell.execute_reply": "2020-12-08T00:11:47.082559Z"
    },
    "papermill": {
     "duration": 0.042432,
     "end_time": "2020-12-08T00:11:47.082706",
     "exception": false,
     "start_time": "2020-12-08T00:11:47.040274",
     "status": "completed"
    },
    "tags": []
   },
   "outputs": [],
   "source": [
    "#hide\n",
    "#delete problematic countries from table\n",
    "df_table = df_table[~df_table['Country/Region'].isin(['Cape Verde', 'Cruise Ship', 'Kosovo'])]"
   ]
  },
  {
   "cell_type": "code",
   "execution_count": 15,
   "metadata": {
    "execution": {
     "iopub.execute_input": "2020-12-08T00:11:47.160242Z",
     "iopub.status.busy": "2020-12-08T00:11:47.159517Z",
     "iopub.status.idle": "2020-12-08T00:11:47.182143Z",
     "shell.execute_reply": "2020-12-08T00:11:47.181634Z"
    },
    "papermill": {
     "duration": 0.065402,
     "end_time": "2020-12-08T00:11:47.182283",
     "exception": false,
     "start_time": "2020-12-08T00:11:47.116881",
     "status": "completed"
    },
    "tags": []
   },
   "outputs": [
    {
     "data": {
      "text/html": [
       "<div>\n",
       "<style scoped>\n",
       "    .dataframe tbody tr th:only-of-type {\n",
       "        vertical-align: middle;\n",
       "    }\n",
       "\n",
       "    .dataframe tbody tr th {\n",
       "        vertical-align: top;\n",
       "    }\n",
       "\n",
       "    .dataframe thead th {\n",
       "        text-align: right;\n",
       "    }\n",
       "</style>\n",
       "<table border=\"1\" class=\"dataframe\">\n",
       "  <thead>\n",
       "    <tr style=\"text-align: right;\">\n",
       "      <th></th>\n",
       "      <th>Country/Region</th>\n",
       "      <th>Cases</th>\n",
       "      <th>Deaths</th>\n",
       "      <th>PCases</th>\n",
       "      <th>PDeaths</th>\n",
       "      <th>Cases (+)</th>\n",
       "      <th>Deaths (+)</th>\n",
       "      <th>Fatality Rate</th>\n",
       "      <th>Continent</th>\n",
       "    </tr>\n",
       "  </thead>\n",
       "  <tbody>\n",
       "    <tr>\n",
       "      <th>0</th>\n",
       "      <td>US</td>\n",
       "      <td>14757000</td>\n",
       "      <td>282299</td>\n",
       "      <td>14581337</td>\n",
       "      <td>281186</td>\n",
       "      <td>175663</td>\n",
       "      <td>1113</td>\n",
       "      <td>1.9</td>\n",
       "      <td>North America</td>\n",
       "    </tr>\n",
       "    <tr>\n",
       "      <th>1</th>\n",
       "      <td>India</td>\n",
       "      <td>9677203</td>\n",
       "      <td>140573</td>\n",
       "      <td>9644222</td>\n",
       "      <td>140182</td>\n",
       "      <td>32981</td>\n",
       "      <td>391</td>\n",
       "      <td>1.5</td>\n",
       "      <td>Asia</td>\n",
       "    </tr>\n",
       "    <tr>\n",
       "      <th>2</th>\n",
       "      <td>Brazil</td>\n",
       "      <td>6603540</td>\n",
       "      <td>176941</td>\n",
       "      <td>6577177</td>\n",
       "      <td>176628</td>\n",
       "      <td>26363</td>\n",
       "      <td>313</td>\n",
       "      <td>2.7</td>\n",
       "      <td>South America</td>\n",
       "    </tr>\n",
       "    <tr>\n",
       "      <th>3</th>\n",
       "      <td>Russia</td>\n",
       "      <td>2439163</td>\n",
       "      <td>42675</td>\n",
       "      <td>2410462</td>\n",
       "      <td>42228</td>\n",
       "      <td>28701</td>\n",
       "      <td>447</td>\n",
       "      <td>1.7</td>\n",
       "      <td>Europe</td>\n",
       "    </tr>\n",
       "    <tr>\n",
       "      <th>4</th>\n",
       "      <td>France</td>\n",
       "      <td>2345648</td>\n",
       "      <td>55247</td>\n",
       "      <td>2334626</td>\n",
       "      <td>55073</td>\n",
       "      <td>11022</td>\n",
       "      <td>174</td>\n",
       "      <td>2.4</td>\n",
       "      <td>Europe</td>\n",
       "    </tr>\n",
       "  </tbody>\n",
       "</table>\n",
       "</div>"
      ],
      "text/plain": [
       "  Country/Region     Cases  Deaths    PCases  PDeaths  Cases (+)  Deaths (+)  \\\n",
       "0             US  14757000  282299  14581337   281186     175663        1113   \n",
       "1          India   9677203  140573   9644222   140182      32981         391   \n",
       "2         Brazil   6603540  176941   6577177   176628      26363         313   \n",
       "3         Russia   2439163   42675   2410462    42228      28701         447   \n",
       "4         France   2345648   55247   2334626    55073      11022         174   \n",
       "\n",
       "   Fatality Rate      Continent  \n",
       "0            1.9  North America  \n",
       "1            1.5           Asia  \n",
       "2            2.7  South America  \n",
       "3            1.7         Europe  \n",
       "4            2.4         Europe  "
      ]
     },
     "execution_count": 15,
     "metadata": {},
     "output_type": "execute_result"
    }
   ],
   "source": [
    "#hide\n",
    "df_table = (pd.DataFrame(dict(Cases=dfc_cases, Deaths=dfc_deaths, PCases=dfp_cases, PDeaths=dfp_deaths))\n",
    "             .sort_values(by=['Cases', 'Deaths'], ascending=[False, False])\n",
    "             .reset_index())\n",
    "df_table.rename(columns={'index': 'Country/Region'}, inplace=True)\n",
    "for c in 'Cases, Deaths'.split(', '):\n",
    "    df_table[f'{c} (+)'] = (df_table[c] - df_table[f'P{c}']).clip(0)  # DATA BUG\n",
    "df_table['Fatality Rate'] = (100 * df_table['Deaths'] / df_table['Cases']).round(1)\n",
    "df_table['Continent'] = df_table['Country/Region'].map(mapping['map.continent'])\n",
    "df_table.head(5)"
   ]
  },
  {
   "cell_type": "code",
   "execution_count": 16,
   "metadata": {
    "execution": {
     "iopub.execute_input": "2020-12-08T00:11:47.256091Z",
     "iopub.status.busy": "2020-12-08T00:11:47.255405Z",
     "iopub.status.idle": "2020-12-08T00:11:47.259595Z",
     "shell.execute_reply": "2020-12-08T00:11:47.259029Z"
    },
    "papermill": {
     "duration": 0.043634,
     "end_time": "2020-12-08T00:11:47.259723",
     "exception": false,
     "start_time": "2020-12-08T00:11:47.216089",
     "status": "completed"
    },
    "tags": []
   },
   "outputs": [],
   "source": [
    "#hide\n",
    "#delete problematic countries from table\n",
    "df_table = df_table[~df_table['Country/Region'].isin(['Cape Verde', 'Cruise Ship', 'Kosovo'])]"
   ]
  },
  {
   "cell_type": "code",
   "execution_count": 17,
   "metadata": {
    "execution": {
     "iopub.execute_input": "2020-12-08T00:11:47.355456Z",
     "iopub.status.busy": "2020-12-08T00:11:47.354671Z",
     "iopub.status.idle": "2020-12-08T00:11:47.356726Z",
     "shell.execute_reply": "2020-12-08T00:11:47.357277Z"
    },
    "papermill": {
     "duration": 0.06452,
     "end_time": "2020-12-08T00:11:47.357431",
     "exception": false,
     "start_time": "2020-12-08T00:11:47.292911",
     "status": "completed"
    },
    "tags": []
   },
   "outputs": [],
   "source": [
    "#hide\n",
    "metrics = [df_table.columns[index] for index in [1,2,5,6]]\n",
    "# s_china = df_table[df_table['Country/Region'].eq('China')][metrics].sum().add_prefix('China ')\n",
    "s_us = df_table[df_table['Country/Region'].eq('US')][metrics].sum().add_prefix('US ')\n",
    "s_eu = df_table[df_table['Continent'].eq('Europe')][metrics].sum().add_prefix('EU ')\n",
    "s_ind = df_table[df_table['Country/Region'].eq('India')][metrics].sum().add_prefix('India ')\n",
    "summary = {'updated': pd.to_datetime(dt_today), 'since': pd.to_datetime(dt_yday)}\n",
    "summary = {'updated': pd.to_datetime(dt_today), 'since': pd.to_datetime(dt_yday)}\n",
    "summary = {**summary, **df_table[metrics].sum(), **s_ind, **s_us, **s_eu}"
   ]
  },
  {
   "cell_type": "code",
   "execution_count": 18,
   "metadata": {
    "execution": {
     "iopub.execute_input": "2020-12-08T00:11:47.432924Z",
     "iopub.status.busy": "2020-12-08T00:11:47.432232Z",
     "iopub.status.idle": "2020-12-08T00:11:47.441439Z",
     "shell.execute_reply": "2020-12-08T00:11:47.442043Z"
    },
    "papermill": {
     "duration": 0.052276,
     "end_time": "2020-12-08T00:11:47.442191",
     "exception": false,
     "start_time": "2020-12-08T00:11:47.389915",
     "status": "completed"
    },
    "tags": []
   },
   "outputs": [],
   "source": [
    "#hide\n",
    "dft_ct_new_cases = dft_cases.groupby(COL_REGION)[dt_cols].sum().diff(axis=1).fillna(0).astype(int)"
   ]
  },
  {
   "cell_type": "code",
   "execution_count": 19,
   "metadata": {
    "execution": {
     "iopub.execute_input": "2020-12-08T00:11:47.518533Z",
     "iopub.status.busy": "2020-12-08T00:11:47.517658Z",
     "iopub.status.idle": "2020-12-08T00:11:47.519986Z",
     "shell.execute_reply": "2020-12-08T00:11:47.520458Z"
    },
    "papermill": {
     "duration": 0.043561,
     "end_time": "2020-12-08T00:11:47.520594",
     "exception": false,
     "start_time": "2020-12-08T00:11:47.477033",
     "status": "completed"
    },
    "tags": []
   },
   "outputs": [],
   "source": [
    "#hide\n",
    "everydaycases = dft_ct_new_cases.cumsum(axis=1)"
   ]
  },
  {
   "cell_type": "code",
   "execution_count": 20,
   "metadata": {
    "execution": {
     "iopub.execute_input": "2020-12-08T00:11:47.594183Z",
     "iopub.status.busy": "2020-12-08T00:11:47.593595Z",
     "iopub.status.idle": "2020-12-08T00:11:48.638991Z",
     "shell.execute_reply": "2020-12-08T00:11:48.638447Z"
    },
    "papermill": {
     "duration": 1.083859,
     "end_time": "2020-12-08T00:11:48.639129",
     "exception": false,
     "start_time": "2020-12-08T00:11:47.555270",
     "status": "completed"
    },
    "tags": []
   },
   "outputs": [],
   "source": [
    "#hide\n",
    "import pandas as pd\n",
    "import matplotlib.pyplot as plt\n",
    "import matplotlib.ticker as ticker\n",
    "import matplotlib.animation as animation\n",
    "from IPython.display import HTML"
   ]
  },
  {
   "cell_type": "code",
   "execution_count": 21,
   "metadata": {
    "execution": {
     "iopub.execute_input": "2020-12-08T00:11:48.711846Z",
     "iopub.status.busy": "2020-12-08T00:11:48.711246Z",
     "iopub.status.idle": "2020-12-08T00:11:48.716159Z",
     "shell.execute_reply": "2020-12-08T00:11:48.716845Z"
    },
    "papermill": {
     "duration": 0.044485,
     "end_time": "2020-12-08T00:11:48.716982",
     "exception": false,
     "start_time": "2020-12-08T00:11:48.672497",
     "status": "completed"
    },
    "tags": []
   },
   "outputs": [],
   "source": [
    "#hide\n",
    "t = everydaycases.stack()"
   ]
  },
  {
   "cell_type": "code",
   "execution_count": 22,
   "metadata": {
    "execution": {
     "iopub.execute_input": "2020-12-08T00:11:48.789054Z",
     "iopub.status.busy": "2020-12-08T00:11:48.788441Z",
     "iopub.status.idle": "2020-12-08T00:11:48.795009Z",
     "shell.execute_reply": "2020-12-08T00:11:48.795753Z"
    },
    "papermill": {
     "duration": 0.044589,
     "end_time": "2020-12-08T00:11:48.795915",
     "exception": false,
     "start_time": "2020-12-08T00:11:48.751326",
     "status": "completed"
    },
    "tags": []
   },
   "outputs": [],
   "source": [
    "#hide\n",
    "g = t.reset_index(['Country/Region'])"
   ]
  },
  {
   "cell_type": "code",
   "execution_count": 23,
   "metadata": {
    "execution": {
     "iopub.execute_input": "2020-12-08T00:11:48.871856Z",
     "iopub.status.busy": "2020-12-08T00:11:48.871153Z",
     "iopub.status.idle": "2020-12-08T00:11:48.873739Z",
     "shell.execute_reply": "2020-12-08T00:11:48.872959Z"
    },
    "papermill": {
     "duration": 0.044693,
     "end_time": "2020-12-08T00:11:48.873865",
     "exception": false,
     "start_time": "2020-12-08T00:11:48.829172",
     "status": "completed"
    },
    "tags": []
   },
   "outputs": [],
   "source": [
    "#hide\n",
    "g.index.name = 'date'"
   ]
  },
  {
   "cell_type": "code",
   "execution_count": 24,
   "metadata": {
    "execution": {
     "iopub.execute_input": "2020-12-08T00:11:48.947119Z",
     "iopub.status.busy": "2020-12-08T00:11:48.946403Z",
     "iopub.status.idle": "2020-12-08T00:11:48.948956Z",
     "shell.execute_reply": "2020-12-08T00:11:48.948258Z"
    },
    "papermill": {
     "duration": 0.039221,
     "end_time": "2020-12-08T00:11:48.949082",
     "exception": false,
     "start_time": "2020-12-08T00:11:48.909861",
     "status": "completed"
    },
    "tags": []
   },
   "outputs": [],
   "source": [
    "# #hide\n",
    "# g = g.reset_index(['date'])"
   ]
  },
  {
   "cell_type": "code",
   "execution_count": 25,
   "metadata": {
    "execution": {
     "iopub.execute_input": "2020-12-08T00:11:49.031969Z",
     "iopub.status.busy": "2020-12-08T00:11:49.031341Z",
     "iopub.status.idle": "2020-12-08T00:11:49.033258Z",
     "shell.execute_reply": "2020-12-08T00:11:49.033849Z"
    },
    "papermill": {
     "duration": 0.046665,
     "end_time": "2020-12-08T00:11:49.034097",
     "exception": false,
     "start_time": "2020-12-08T00:11:48.987432",
     "status": "completed"
    },
    "tags": []
   },
   "outputs": [],
   "source": [
    "#hide\n",
    "# g.head()"
   ]
  },
  {
   "cell_type": "code",
   "execution_count": 26,
   "metadata": {
    "execution": {
     "iopub.execute_input": "2020-12-08T00:11:49.111543Z",
     "iopub.status.busy": "2020-12-08T00:11:49.110776Z",
     "iopub.status.idle": "2020-12-08T00:11:49.113562Z",
     "shell.execute_reply": "2020-12-08T00:11:49.113007Z"
    },
    "papermill": {
     "duration": 0.043123,
     "end_time": "2020-12-08T00:11:49.113690",
     "exception": false,
     "start_time": "2020-12-08T00:11:49.070567",
     "status": "completed"
    },
    "tags": []
   },
   "outputs": [],
   "source": [
    "#hide\n",
    "# g.columns = ['date','country','cases']"
   ]
  },
  {
   "cell_type": "code",
   "execution_count": 27,
   "metadata": {
    "execution": {
     "iopub.execute_input": "2020-12-08T00:11:49.186192Z",
     "iopub.status.busy": "2020-12-08T00:11:49.185498Z",
     "iopub.status.idle": "2020-12-08T00:11:49.187427Z",
     "shell.execute_reply": "2020-12-08T00:11:49.188041Z"
    },
    "papermill": {
     "duration": 0.04034,
     "end_time": "2020-12-08T00:11:49.188182",
     "exception": false,
     "start_time": "2020-12-08T00:11:49.147842",
     "status": "completed"
    },
    "tags": []
   },
   "outputs": [],
   "source": [
    "#hide\n",
    "# g['continent'] = g.country"
   ]
  },
  {
   "cell_type": "code",
   "execution_count": 28,
   "metadata": {
    "execution": {
     "iopub.execute_input": "2020-12-08T00:11:49.261406Z",
     "iopub.status.busy": "2020-12-08T00:11:49.260558Z",
     "iopub.status.idle": "2020-12-08T00:11:49.262607Z",
     "shell.execute_reply": "2020-12-08T00:11:49.263168Z"
    },
    "papermill": {
     "duration": 0.039977,
     "end_time": "2020-12-08T00:11:49.263324",
     "exception": false,
     "start_time": "2020-12-08T00:11:49.223347",
     "status": "completed"
    },
    "tags": []
   },
   "outputs": [],
   "source": [
    "#hide\n",
    "# cols = list(g.columns.values)"
   ]
  },
  {
   "cell_type": "code",
   "execution_count": 29,
   "metadata": {
    "execution": {
     "iopub.execute_input": "2020-12-08T00:11:49.334454Z",
     "iopub.status.busy": "2020-12-08T00:11:49.333854Z",
     "iopub.status.idle": "2020-12-08T00:11:49.335531Z",
     "shell.execute_reply": "2020-12-08T00:11:49.336082Z"
    },
    "papermill": {
     "duration": 0.039469,
     "end_time": "2020-12-08T00:11:49.336215",
     "exception": false,
     "start_time": "2020-12-08T00:11:49.296746",
     "status": "completed"
    },
    "tags": []
   },
   "outputs": [],
   "source": [
    "#hide\n",
    "# cols.insert(0, cols.pop())"
   ]
  },
  {
   "cell_type": "code",
   "execution_count": 30,
   "metadata": {
    "execution": {
     "iopub.execute_input": "2020-12-08T00:11:49.409643Z",
     "iopub.status.busy": "2020-12-08T00:11:49.408661Z",
     "iopub.status.idle": "2020-12-08T00:11:49.412195Z",
     "shell.execute_reply": "2020-12-08T00:11:49.411676Z"
    },
    "papermill": {
     "duration": 0.040936,
     "end_time": "2020-12-08T00:11:49.412310",
     "exception": false,
     "start_time": "2020-12-08T00:11:49.371374",
     "status": "completed"
    },
    "tags": []
   },
   "outputs": [],
   "source": [
    "#hide\n",
    "# g = g[cols]"
   ]
  },
  {
   "cell_type": "code",
   "execution_count": 31,
   "metadata": {
    "execution": {
     "iopub.execute_input": "2020-12-08T00:11:49.483529Z",
     "iopub.status.busy": "2020-12-08T00:11:49.482905Z",
     "iopub.status.idle": "2020-12-08T00:11:49.485571Z",
     "shell.execute_reply": "2020-12-08T00:11:49.484749Z"
    },
    "papermill": {
     "duration": 0.040731,
     "end_time": "2020-12-08T00:11:49.485712",
     "exception": false,
     "start_time": "2020-12-08T00:11:49.444981",
     "status": "completed"
    },
    "tags": []
   },
   "outputs": [],
   "source": [
    "#hide\n",
    "# g['continent'] = g['continent'].map(mapping['map.continent'])"
   ]
  },
  {
   "cell_type": "code",
   "execution_count": 32,
   "metadata": {
    "execution": {
     "iopub.execute_input": "2020-12-08T00:11:49.559747Z",
     "iopub.status.busy": "2020-12-08T00:11:49.559069Z",
     "iopub.status.idle": "2020-12-08T00:11:49.561383Z",
     "shell.execute_reply": "2020-12-08T00:11:49.561985Z"
    },
    "papermill": {
     "duration": 0.041293,
     "end_time": "2020-12-08T00:11:49.562153",
     "exception": false,
     "start_time": "2020-12-08T00:11:49.520860",
     "status": "completed"
    },
    "tags": []
   },
   "outputs": [],
   "source": [
    "#hide\n",
    "# g.head()"
   ]
  },
  {
   "cell_type": "code",
   "execution_count": 33,
   "metadata": {
    "execution": {
     "iopub.execute_input": "2020-12-08T00:11:49.631987Z",
     "iopub.status.busy": "2020-12-08T00:11:49.631393Z",
     "iopub.status.idle": "2020-12-08T00:11:49.633359Z",
     "shell.execute_reply": "2020-12-08T00:11:49.633875Z"
    },
    "papermill": {
     "duration": 0.03894,
     "end_time": "2020-12-08T00:11:49.634039",
     "exception": false,
     "start_time": "2020-12-08T00:11:49.595099",
     "status": "completed"
    },
    "tags": []
   },
   "outputs": [],
   "source": [
    "# hide\n",
    "# g['date'] = g['date'].astype('datetime64[ns]')"
   ]
  },
  {
   "cell_type": "code",
   "execution_count": 34,
   "metadata": {
    "execution": {
     "iopub.execute_input": "2020-12-08T00:11:49.704355Z",
     "iopub.status.busy": "2020-12-08T00:11:49.703698Z",
     "iopub.status.idle": "2020-12-08T00:11:49.706499Z",
     "shell.execute_reply": "2020-12-08T00:11:49.705769Z"
    },
    "papermill": {
     "duration": 0.037685,
     "end_time": "2020-12-08T00:11:49.706651",
     "exception": false,
     "start_time": "2020-12-08T00:11:49.668966",
     "status": "completed"
    },
    "tags": []
   },
   "outputs": [],
   "source": [
    "#hide\n",
    "# g['date'] = g.date.dt.dayofyear"
   ]
  },
  {
   "cell_type": "code",
   "execution_count": 35,
   "metadata": {
    "execution": {
     "iopub.execute_input": "2020-12-08T00:11:49.775798Z",
     "iopub.status.busy": "2020-12-08T00:11:49.775149Z",
     "iopub.status.idle": "2020-12-08T00:11:49.777419Z",
     "shell.execute_reply": "2020-12-08T00:11:49.777923Z"
    },
    "papermill": {
     "duration": 0.038593,
     "end_time": "2020-12-08T00:11:49.778037",
     "exception": false,
     "start_time": "2020-12-08T00:11:49.739444",
     "status": "completed"
    },
    "tags": []
   },
   "outputs": [],
   "source": [
    "#hide\n",
    "# g = g.rename(columns= {'continent':'group','country':'name','cases':'value'})"
   ]
  },
  {
   "cell_type": "code",
   "execution_count": 36,
   "metadata": {
    "execution": {
     "iopub.execute_input": "2020-12-08T00:11:49.854953Z",
     "iopub.status.busy": "2020-12-08T00:11:49.854216Z",
     "iopub.status.idle": "2020-12-08T00:11:49.856830Z",
     "shell.execute_reply": "2020-12-08T00:11:49.856217Z"
    },
    "papermill": {
     "duration": 0.04752,
     "end_time": "2020-12-08T00:11:49.856996",
     "exception": false,
     "start_time": "2020-12-08T00:11:49.809476",
     "status": "completed"
    },
    "tags": []
   },
   "outputs": [],
   "source": [
    "#hide\n",
    "# cols = ['name','group','day','value']"
   ]
  },
  {
   "cell_type": "code",
   "execution_count": 37,
   "metadata": {
    "execution": {
     "iopub.execute_input": "2020-12-08T00:11:49.930045Z",
     "iopub.status.busy": "2020-12-08T00:11:49.929441Z",
     "iopub.status.idle": "2020-12-08T00:11:49.931822Z",
     "shell.execute_reply": "2020-12-08T00:11:49.931154Z"
    },
    "papermill": {
     "duration": 0.04071,
     "end_time": "2020-12-08T00:11:49.931938",
     "exception": false,
     "start_time": "2020-12-08T00:11:49.891228",
     "status": "completed"
    },
    "tags": []
   },
   "outputs": [],
   "source": [
    "#hide\n",
    "# g.rename(columns= {'date':'day'},inplace = True)"
   ]
  },
  {
   "cell_type": "code",
   "execution_count": 38,
   "metadata": {
    "execution": {
     "iopub.execute_input": "2020-12-08T00:11:50.001503Z",
     "iopub.status.busy": "2020-12-08T00:11:50.000783Z",
     "iopub.status.idle": "2020-12-08T00:11:50.002880Z",
     "shell.execute_reply": "2020-12-08T00:11:50.003495Z"
    },
    "papermill": {
     "duration": 0.039144,
     "end_time": "2020-12-08T00:11:50.003624",
     "exception": false,
     "start_time": "2020-12-08T00:11:49.964480",
     "status": "completed"
    },
    "tags": []
   },
   "outputs": [],
   "source": [
    "#hide\n",
    "# g = g[cols]"
   ]
  },
  {
   "cell_type": "code",
   "execution_count": 39,
   "metadata": {
    "execution": {
     "iopub.execute_input": "2020-12-08T00:11:50.076571Z",
     "iopub.status.busy": "2020-12-08T00:11:50.075823Z",
     "iopub.status.idle": "2020-12-08T00:11:50.079751Z",
     "shell.execute_reply": "2020-12-08T00:11:50.079215Z"
    },
    "papermill": {
     "duration": 0.043786,
     "end_time": "2020-12-08T00:11:50.079872",
     "exception": false,
     "start_time": "2020-12-08T00:11:50.036086",
     "status": "completed"
    },
    "tags": []
   },
   "outputs": [],
   "source": [
    "# #hide\n",
    "# g = g[g.group.notna()]"
   ]
  },
  {
   "cell_type": "code",
   "execution_count": 40,
   "metadata": {
    "execution": {
     "iopub.execute_input": "2020-12-08T00:11:50.150131Z",
     "iopub.status.busy": "2020-12-08T00:11:50.149400Z",
     "iopub.status.idle": "2020-12-08T00:11:50.151524Z",
     "shell.execute_reply": "2020-12-08T00:11:50.152332Z"
    },
    "papermill": {
     "duration": 0.03841,
     "end_time": "2020-12-08T00:11:50.152578",
     "exception": false,
     "start_time": "2020-12-08T00:11:50.114168",
     "status": "completed"
    },
    "tags": []
   },
   "outputs": [],
   "source": [
    "# #hide\n",
    "# colors = dict(zip(\n",
    "#     [\"Oceania\", \"Europe\", \"Asia\", \"South America\", \"Middle East\", \"North America\", \"Africa\"],\n",
    "#     [\"#adb0ff\", \"#ffb3ff\", \"#90d595\", \"#e48381\", \"#aafbff\", \"#f7bb5f\", \"#eafb50\"]\n",
    "# ))\n",
    "# group_lk = g.set_index('name')['group'].to_dict()"
   ]
  },
  {
   "cell_type": "code",
   "execution_count": null,
   "metadata": {
    "papermill": {
     "duration": 0.03315,
     "end_time": "2020-12-08T00:11:50.228866",
     "exception": false,
     "start_time": "2020-12-08T00:11:50.195716",
     "status": "completed"
    },
    "tags": []
   },
   "outputs": [],
   "source": []
  },
  {
   "cell_type": "code",
   "execution_count": 41,
   "metadata": {
    "execution": {
     "iopub.execute_input": "2020-12-08T00:11:50.301806Z",
     "iopub.status.busy": "2020-12-08T00:11:50.301143Z",
     "iopub.status.idle": "2020-12-08T00:11:50.303174Z",
     "shell.execute_reply": "2020-12-08T00:11:50.303671Z"
    },
    "papermill": {
     "duration": 0.040668,
     "end_time": "2020-12-08T00:11:50.303871",
     "exception": false,
     "start_time": "2020-12-08T00:11:50.263203",
     "status": "completed"
    },
    "tags": []
   },
   "outputs": [],
   "source": [
    "# #hide\n",
    "# fig, ax = plt.subplots(figsize=(15, 8))\n",
    "\n",
    "# def draw_barchart(current_day):\n",
    "#     dff = g[g['day'].eq(current_day)].sort_values(by='value', ascending=True).tail(10)\n",
    "#     ax.clear()\n",
    "#     ax.barh(dff['name'], dff['value'], color=[colors[group_lk[x]] for x in dff['name']])\n",
    "#     dx = dff['value'].max() / 200\n",
    "    \n",
    "#     for i, (value, name) in enumerate(zip(dff['value'], dff['name'])):\n",
    "#         ax.text(value-dx, i,     name,           size=14, weight=600, ha='right', va='bottom')\n",
    "#         ax.text(value-dx, i-.25, group_lk[name], size=10, color='#444444', ha='right', va='baseline')\n",
    "#         ax.text(value+dx, i,     f'{value:,.0f}',  size=14, ha='left',  va='center')\n",
    "#     ax.text(1, 0.4, current_day, transform=ax.transAxes, color='#777777', size=46, ha='right', weight=800)\n",
    "#     ax.text(0, 1.06, 'Population (thousands)', transform=ax.transAxes, size=12, color='#777777')\n",
    "#     ax.xaxis.set_major_formatter(ticker.StrMethodFormatter('{x:,.0f}'))\n",
    "#     ax.xaxis.set_ticks_position('top')\n",
    "#     ax.tick_params(axis='x', colors='#777777', labelsize=12)\n",
    "#     ax.set_yticks([])\n",
    "#     ax.margins(0, 0.01)\n",
    "#     ax.grid(which='major', axis='x', linestyle='-')\n",
    "#     ax.set_axisbelow(True)\n",
    "    \n",
    "#     ax.text(0, 1.15, 'Coronavirus',\n",
    "#             transform=ax.transAxes, size=24, weight=600, ha='left', va='top')\n",
    "# #     ax.text(1, 0, 'by @pratapvardhan; credit @jburnmurdoch', transform=ax.transAxes, color='#777777', ha='right',\n",
    "# #             bbox=dict(facecolor='white', alpha=0.8, edgecolor='white'))\n",
    "#     plt.box(False)"
   ]
  },
  {
   "cell_type": "code",
   "execution_count": 42,
   "metadata": {
    "execution": {
     "iopub.execute_input": "2020-12-08T00:11:50.379180Z",
     "iopub.status.busy": "2020-12-08T00:11:50.378487Z",
     "iopub.status.idle": "2020-12-08T00:11:50.380326Z",
     "shell.execute_reply": "2020-12-08T00:11:50.380912Z"
    },
    "papermill": {
     "duration": 0.043762,
     "end_time": "2020-12-08T00:11:50.381057",
     "exception": false,
     "start_time": "2020-12-08T00:11:50.337295",
     "status": "completed"
    },
    "tags": []
   },
   "outputs": [],
   "source": [
    "# #hide_input\n",
    "# fig, ax = plt.subplots(figsize=(15, 8))\n",
    "# animator = animation.FuncAnimation(fig, draw_barchart, frames=range(g.day.values.min(), g.day.values.max()))\n",
    "# HTML(animator.to_jshtml())\n",
    "# # or use animator.to_html5_video() or animator.save() "
   ]
  },
  {
   "cell_type": "code",
   "execution_count": null,
   "metadata": {
    "papermill": {
     "duration": 0.034576,
     "end_time": "2020-12-08T00:11:50.449937",
     "exception": false,
     "start_time": "2020-12-08T00:11:50.415361",
     "status": "completed"
    },
    "tags": []
   },
   "outputs": [],
   "source": []
  },
  {
   "cell_type": "code",
   "execution_count": null,
   "metadata": {
    "papermill": {
     "duration": 0.034073,
     "end_time": "2020-12-08T00:11:50.517686",
     "exception": false,
     "start_time": "2020-12-08T00:11:50.483613",
     "status": "completed"
    },
    "tags": []
   },
   "outputs": [],
   "source": []
  },
  {
   "cell_type": "code",
   "execution_count": null,
   "metadata": {
    "papermill": {
     "duration": 0.032601,
     "end_time": "2020-12-08T00:11:50.583667",
     "exception": false,
     "start_time": "2020-12-08T00:11:50.551066",
     "status": "completed"
    },
    "tags": []
   },
   "outputs": [],
   "source": []
  }
 ],
 "metadata": {
  "kernelspec": {
   "display_name": "Python 3",
   "language": "python",
   "name": "python3"
  },
  "language_info": {
   "codemirror_mode": {
    "name": "ipython",
    "version": 3
   },
   "file_extension": ".py",
   "mimetype": "text/x-python",
   "name": "python",
   "nbconvert_exporter": "python",
   "pygments_lexer": "ipython3",
   "version": "3.6.12"
  },
  "papermill": {
   "duration": 7.074877,
   "end_time": "2020-12-08T00:11:50.928338",
   "environment_variables": {},
   "exception": null,
   "input_path": "2020-03-21-covid19exp.ipynb",
   "output_path": "2020-03-21-covid19exp.ipynb",
   "parameters": {},
   "start_time": "2020-12-08T00:11:43.853461",
   "version": "2.0.0"
  }
 },
 "nbformat": 4,
 "nbformat_minor": 4
}