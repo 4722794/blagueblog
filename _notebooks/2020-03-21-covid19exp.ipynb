{
 "cells": [
  {
   "cell_type": "markdown",
   "id": "muslim-click",
   "metadata": {
    "papermill": {
     "duration": 0.045571,
     "end_time": "2021-01-26T00:16:04.197751",
     "exception": false,
     "start_time": "2021-01-26T00:16:04.152180",
     "status": "completed"
    },
    "tags": []
   },
   "source": [
    "# COVID-19 Case Race\n",
    "> A race chart to see rising cases around the world\n",
    "\n",
    "- author: Hargun Oberoi\n",
    "- image: images/covid-overview.png\n",
    "- hide: false\n",
    "- badges: false"
   ]
  },
  {
   "cell_type": "code",
   "execution_count": 1,
   "id": "proof-material",
   "metadata": {
    "execution": {
     "iopub.execute_input": "2021-01-26T00:16:04.278343Z",
     "iopub.status.busy": "2021-01-26T00:16:04.277743Z",
     "iopub.status.idle": "2021-01-26T00:16:04.598417Z",
     "shell.execute_reply": "2021-01-26T00:16:04.597871Z"
    },
    "papermill": {
     "duration": 0.366716,
     "end_time": "2021-01-26T00:16:04.598573",
     "exception": false,
     "start_time": "2021-01-26T00:16:04.231857",
     "status": "completed"
    },
    "tags": []
   },
   "outputs": [],
   "source": [
    "#hide\n",
    "import numpy as np\n",
    "import pandas as pd\n",
    "from jinja2 import Template\n",
    "from IPython.display import HTML"
   ]
  },
  {
   "cell_type": "code",
   "execution_count": 2,
   "id": "developed-terminology",
   "metadata": {
    "execution": {
     "iopub.execute_input": "2021-01-26T00:16:04.670585Z",
     "iopub.status.busy": "2021-01-26T00:16:04.669949Z",
     "iopub.status.idle": "2021-01-26T00:16:04.672637Z",
     "shell.execute_reply": "2021-01-26T00:16:04.672144Z"
    },
    "papermill": {
     "duration": 0.038773,
     "end_time": "2021-01-26T00:16:04.672753",
     "exception": false,
     "start_time": "2021-01-26T00:16:04.633980",
     "status": "completed"
    },
    "tags": []
   },
   "outputs": [],
   "source": [
    "#hide\n",
    "\n",
    "# FETCH\n",
    "base_url = 'https://raw.githubusercontent.com/pratapvardhan/notebooks/master/covid19/'\n",
    "paths = {\n",
    "    'mapping': base_url + 'mapping_countries.csv',\n",
    "    'overview': base_url + 'overview.tpl'\n",
    "}"
   ]
  },
  {
   "cell_type": "code",
   "execution_count": 3,
   "id": "dynamic-saver",
   "metadata": {
    "execution": {
     "iopub.execute_input": "2021-01-26T00:16:04.746287Z",
     "iopub.status.busy": "2021-01-26T00:16:04.745708Z",
     "iopub.status.idle": "2021-01-26T00:16:04.748219Z",
     "shell.execute_reply": "2021-01-26T00:16:04.748765Z"
    },
    "papermill": {
     "duration": 0.043497,
     "end_time": "2021-01-26T00:16:04.748894",
     "exception": false,
     "start_time": "2021-01-26T00:16:04.705397",
     "status": "completed"
    },
    "tags": []
   },
   "outputs": [
    {
     "data": {
      "text/plain": [
       "'https://raw.githubusercontent.com/pratapvardhan/notebooks/master/covid19/mapping_countries.csv'"
      ]
     },
     "execution_count": 3,
     "metadata": {},
     "output_type": "execute_result"
    }
   ],
   "source": [
    "#hide\n",
    "paths['mapping']"
   ]
  },
  {
   "cell_type": "code",
   "execution_count": 4,
   "id": "urban-software",
   "metadata": {
    "execution": {
     "iopub.execute_input": "2021-01-26T00:16:04.820444Z",
     "iopub.status.busy": "2021-01-26T00:16:04.819845Z",
     "iopub.status.idle": "2021-01-26T00:16:04.822210Z",
     "shell.execute_reply": "2021-01-26T00:16:04.821717Z"
    },
    "papermill": {
     "duration": 0.040559,
     "end_time": "2021-01-26T00:16:04.822328",
     "exception": false,
     "start_time": "2021-01-26T00:16:04.781769",
     "status": "completed"
    },
    "tags": []
   },
   "outputs": [],
   "source": [
    "#hide\n",
    "def get_mappings(url):\n",
    "    df = pd.read_csv(url)\n",
    "    return {\n",
    "        'df': df,\n",
    "        'replace.country': dict(df.dropna(subset=['Name']).set_index('Country')['Name']),\n",
    "        'map.continent': dict(df.set_index('Name')['Continent'])\n",
    "    }"
   ]
  },
  {
   "cell_type": "code",
   "execution_count": 5,
   "id": "intimate-machinery",
   "metadata": {
    "execution": {
     "iopub.execute_input": "2021-01-26T00:16:04.893523Z",
     "iopub.status.busy": "2021-01-26T00:16:04.892951Z",
     "iopub.status.idle": "2021-01-26T00:16:04.930298Z",
     "shell.execute_reply": "2021-01-26T00:16:04.929819Z"
    },
    "papermill": {
     "duration": 0.074443,
     "end_time": "2021-01-26T00:16:04.930460",
     "exception": false,
     "start_time": "2021-01-26T00:16:04.856017",
     "status": "completed"
    },
    "tags": []
   },
   "outputs": [],
   "source": [
    "#hide\n",
    "mapping = get_mappings(paths['mapping'])"
   ]
  },
  {
   "cell_type": "code",
   "execution_count": 6,
   "id": "certified-tactics",
   "metadata": {
    "execution": {
     "iopub.execute_input": "2021-01-26T00:16:05.001773Z",
     "iopub.status.busy": "2021-01-26T00:16:05.001194Z",
     "iopub.status.idle": "2021-01-26T00:16:05.003568Z",
     "shell.execute_reply": "2021-01-26T00:16:05.003088Z"
    },
    "papermill": {
     "duration": 0.039247,
     "end_time": "2021-01-26T00:16:05.003684",
     "exception": false,
     "start_time": "2021-01-26T00:16:04.964437",
     "status": "completed"
    },
    "tags": []
   },
   "outputs": [],
   "source": [
    "#hide\n",
    "def get_template(path):\n",
    "    from urllib.parse import urlparse\n",
    "    if bool(urlparse(path).netloc):\n",
    "        from urllib.request import urlopen\n",
    "        return urlopen(path).read().decode('utf8')\n",
    "    return open(path).read()"
   ]
  },
  {
   "cell_type": "code",
   "execution_count": 7,
   "id": "realistic-blast",
   "metadata": {
    "execution": {
     "iopub.execute_input": "2021-01-26T00:16:05.075289Z",
     "iopub.status.busy": "2021-01-26T00:16:05.074706Z",
     "iopub.status.idle": "2021-01-26T00:16:05.076972Z",
     "shell.execute_reply": "2021-01-26T00:16:05.076476Z"
    },
    "papermill": {
     "duration": 0.040427,
     "end_time": "2021-01-26T00:16:05.077086",
     "exception": false,
     "start_time": "2021-01-26T00:16:05.036659",
     "status": "completed"
    },
    "tags": []
   },
   "outputs": [],
   "source": [
    "#hide\n",
    "def get_frame(name):\n",
    "    url = (\n",
    "        'https://raw.githubusercontent.com/CSSEGISandData/COVID-19/master/csse_covid_19_data/'\n",
    "        f'csse_covid_19_time_series/time_series_covid19_{name}_global.csv')\n",
    "    df = pd.read_csv(url)\n",
    "    # rename countries\n",
    "    df['Country/Region'] = df['Country/Region'].replace(mapping['replace.country'])\n",
    "    return df"
   ]
  },
  {
   "cell_type": "code",
   "execution_count": 8,
   "id": "affiliated-characterization",
   "metadata": {
    "execution": {
     "iopub.execute_input": "2021-01-26T00:16:05.148385Z",
     "iopub.status.busy": "2021-01-26T00:16:05.147761Z",
     "iopub.status.idle": "2021-01-26T00:16:05.150165Z",
     "shell.execute_reply": "2021-01-26T00:16:05.149577Z"
    },
    "papermill": {
     "duration": 0.03952,
     "end_time": "2021-01-26T00:16:05.150311",
     "exception": false,
     "start_time": "2021-01-26T00:16:05.110791",
     "status": "completed"
    },
    "tags": []
   },
   "outputs": [],
   "source": [
    "#hide\n",
    "def get_dates(df):\n",
    "    dt_cols = df.columns[~df.columns.isin(['Province/State', 'Country/Region', 'Lat', 'Long'])]\n",
    "    LAST_DATE_I = -1\n",
    "    # sometimes last column may be empty, then go backwards\n",
    "    for i in range(-1, -len(dt_cols), -1):\n",
    "        if not df[dt_cols[i]].fillna(0).eq(0).all():\n",
    "            LAST_DATE_I = i\n",
    "            break\n",
    "    return LAST_DATE_I, dt_cols"
   ]
  },
  {
   "cell_type": "code",
   "execution_count": 9,
   "id": "recent-optimization",
   "metadata": {
    "execution": {
     "iopub.execute_input": "2021-01-26T00:16:05.231646Z",
     "iopub.status.busy": "2021-01-26T00:16:05.231070Z",
     "iopub.status.idle": "2021-01-26T00:16:05.540233Z",
     "shell.execute_reply": "2021-01-26T00:16:05.540716Z"
    },
    "papermill": {
     "duration": 0.356628,
     "end_time": "2021-01-26T00:16:05.540871",
     "exception": false,
     "start_time": "2021-01-26T00:16:05.184243",
     "status": "completed"
    },
    "tags": []
   },
   "outputs": [],
   "source": [
    "#hide\n",
    "COL_REGION = 'Country/Region'\n",
    "# Confirmed, Recovered, Deaths\n",
    "df = get_frame('confirmed')\n",
    "# dft_: timeseries, dfc_: today country agg\n",
    "dft_cases = df\n",
    "dft_deaths = get_frame('deaths')\n",
    "dft_recovered = get_frame('recovered')\n",
    "LAST_DATE_I, dt_cols = get_dates(df)"
   ]
  },
  {
   "cell_type": "code",
   "execution_count": 10,
   "id": "absolute-copper",
   "metadata": {
    "execution": {
     "iopub.execute_input": "2021-01-26T00:16:05.611771Z",
     "iopub.status.busy": "2021-01-26T00:16:05.611097Z",
     "iopub.status.idle": "2021-01-26T00:16:05.613337Z",
     "shell.execute_reply": "2021-01-26T00:16:05.613877Z"
    },
    "papermill": {
     "duration": 0.039058,
     "end_time": "2021-01-26T00:16:05.614002",
     "exception": false,
     "start_time": "2021-01-26T00:16:05.574944",
     "status": "completed"
    },
    "tags": []
   },
   "outputs": [],
   "source": [
    "#hide\n",
    "LAST_DATE_I, dt_cols = get_dates(df)\n",
    "dt_today =dt_cols[LAST_DATE_I]\n",
    "# dt_5day = dt_cols[LAST_DATE_I - 5]\n",
    "dt_yday = dt_cols[LAST_DATE_I - 1]"
   ]
  },
  {
   "cell_type": "code",
   "execution_count": 11,
   "id": "restricted-sheriff",
   "metadata": {
    "execution": {
     "iopub.execute_input": "2021-01-26T00:16:05.684262Z",
     "iopub.status.busy": "2021-01-26T00:16:05.683645Z",
     "iopub.status.idle": "2021-01-26T00:16:05.692841Z",
     "shell.execute_reply": "2021-01-26T00:16:05.692124Z"
    },
    "papermill": {
     "duration": 0.046957,
     "end_time": "2021-01-26T00:16:05.692957",
     "exception": false,
     "start_time": "2021-01-26T00:16:05.646000",
     "status": "completed"
    },
    "tags": []
   },
   "outputs": [],
   "source": [
    "#hide\n",
    "dfc_cases = dft_cases.groupby(COL_REGION)[dt_today].sum()\n",
    "dfc_deaths = dft_deaths.groupby(COL_REGION)[dt_today].sum()\n",
    "# dfp_cases = dft_cases.groupby(COL_REGION)[dt_5day].sum()\n",
    "# dfp_deaths = dft_deaths.groupby(COL_REGION)[dt_5day].sum()\n",
    "dfp_cases = dft_cases.groupby(COL_REGION)[dt_yday].sum()\n",
    "dfp_deaths = dft_deaths.groupby(COL_REGION)[dt_yday].sum()"
   ]
  },
  {
   "cell_type": "code",
   "execution_count": 12,
   "id": "deluxe-hepatitis",
   "metadata": {
    "execution": {
     "iopub.execute_input": "2021-01-26T00:16:05.766709Z",
     "iopub.status.busy": "2021-01-26T00:16:05.766074Z",
     "iopub.status.idle": "2021-01-26T00:16:05.770341Z",
     "shell.execute_reply": "2021-01-26T00:16:05.770909Z"
    },
    "papermill": {
     "duration": 0.0437,
     "end_time": "2021-01-26T00:16:05.771035",
     "exception": false,
     "start_time": "2021-01-26T00:16:05.727335",
     "status": "completed"
    },
    "tags": []
   },
   "outputs": [],
   "source": [
    "#hide\n",
    "df_table = (pd.DataFrame(dict(Cases = dfc_cases, Deaths = dfc_deaths, PCases = dfp_cases, PDeaths = dfp_deaths))\n",
    "            .sort_values(by = ['Cases','Deaths'], ascending = [False, False])\n",
    "            .reset_index())"
   ]
  },
  {
   "cell_type": "code",
   "execution_count": 13,
   "id": "educational-chancellor",
   "metadata": {
    "execution": {
     "iopub.execute_input": "2021-01-26T00:16:05.846175Z",
     "iopub.status.busy": "2021-01-26T00:16:05.845332Z",
     "iopub.status.idle": "2021-01-26T00:16:05.863082Z",
     "shell.execute_reply": "2021-01-26T00:16:05.863580Z"
    },
    "papermill": {
     "duration": 0.059865,
     "end_time": "2021-01-26T00:16:05.863712",
     "exception": false,
     "start_time": "2021-01-26T00:16:05.803847",
     "status": "completed"
    },
    "tags": []
   },
   "outputs": [
    {
     "data": {
      "text/html": [
       "<div>\n",
       "<style scoped>\n",
       "    .dataframe tbody tr th:only-of-type {\n",
       "        vertical-align: middle;\n",
       "    }\n",
       "\n",
       "    .dataframe tbody tr th {\n",
       "        vertical-align: top;\n",
       "    }\n",
       "\n",
       "    .dataframe thead th {\n",
       "        text-align: right;\n",
       "    }\n",
       "</style>\n",
       "<table border=\"1\" class=\"dataframe\">\n",
       "  <thead>\n",
       "    <tr style=\"text-align: right;\">\n",
       "      <th></th>\n",
       "      <th>Country/Region</th>\n",
       "      <th>Cases</th>\n",
       "      <th>Deaths</th>\n",
       "      <th>PCases</th>\n",
       "      <th>PDeaths</th>\n",
       "      <th>Cases (+)</th>\n",
       "      <th>Deaths (+)</th>\n",
       "      <th>Fatality Rate</th>\n",
       "      <th>Continent</th>\n",
       "    </tr>\n",
       "  </thead>\n",
       "  <tbody>\n",
       "    <tr>\n",
       "      <th>0</th>\n",
       "      <td>US</td>\n",
       "      <td>25127000</td>\n",
       "      <td>419214</td>\n",
       "      <td>24994463</td>\n",
       "      <td>417439</td>\n",
       "      <td>132537</td>\n",
       "      <td>1775</td>\n",
       "      <td>1.67</td>\n",
       "      <td>North America</td>\n",
       "    </tr>\n",
       "    <tr>\n",
       "      <th>1</th>\n",
       "      <td>India</td>\n",
       "      <td>10667736</td>\n",
       "      <td>153470</td>\n",
       "      <td>10654533</td>\n",
       "      <td>153339</td>\n",
       "      <td>13203</td>\n",
       "      <td>131</td>\n",
       "      <td>1.44</td>\n",
       "      <td>Asia</td>\n",
       "    </tr>\n",
       "    <tr>\n",
       "      <th>2</th>\n",
       "      <td>Brazil</td>\n",
       "      <td>8844577</td>\n",
       "      <td>217037</td>\n",
       "      <td>8816254</td>\n",
       "      <td>216445</td>\n",
       "      <td>28323</td>\n",
       "      <td>592</td>\n",
       "      <td>2.45</td>\n",
       "      <td>South America</td>\n",
       "    </tr>\n",
       "    <tr>\n",
       "      <th>3</th>\n",
       "      <td>Russia</td>\n",
       "      <td>3679247</td>\n",
       "      <td>68397</td>\n",
       "      <td>3658447</td>\n",
       "      <td>67919</td>\n",
       "      <td>20800</td>\n",
       "      <td>478</td>\n",
       "      <td>1.86</td>\n",
       "      <td>Europe</td>\n",
       "    </tr>\n",
       "    <tr>\n",
       "      <th>4</th>\n",
       "      <td>United Kingdom</td>\n",
       "      <td>3657857</td>\n",
       "      <td>98129</td>\n",
       "      <td>3627746</td>\n",
       "      <td>97518</td>\n",
       "      <td>30111</td>\n",
       "      <td>611</td>\n",
       "      <td>2.68</td>\n",
       "      <td>Europe</td>\n",
       "    </tr>\n",
       "  </tbody>\n",
       "</table>\n",
       "</div>"
      ],
      "text/plain": [
       "   Country/Region     Cases  Deaths    PCases  PDeaths  Cases (+)  Deaths (+)  \\\n",
       "0              US  25127000  419214  24994463   417439     132537        1775   \n",
       "1           India  10667736  153470  10654533   153339      13203         131   \n",
       "2          Brazil   8844577  217037   8816254   216445      28323         592   \n",
       "3          Russia   3679247   68397   3658447    67919      20800         478   \n",
       "4  United Kingdom   3657857   98129   3627746    97518      30111         611   \n",
       "\n",
       "   Fatality Rate      Continent  \n",
       "0           1.67  North America  \n",
       "1           1.44           Asia  \n",
       "2           2.45  South America  \n",
       "3           1.86         Europe  \n",
       "4           2.68         Europe  "
      ]
     },
     "execution_count": 13,
     "metadata": {},
     "output_type": "execute_result"
    }
   ],
   "source": [
    "#hide\n",
    "for c in 'Cases, Deaths'.split(', '):\n",
    "    df_table[f'{c} (+)'] = (df_table[c] - df_table[f'P{c}']).clip(0)\n",
    "    #Clip ça veut dire, les chiffres negatif sont interdit\n",
    "df_table['Fatality Rate'] = (100* df_table['Deaths']/ df_table['Cases']).round(2)\n",
    "df_table['Continent'] = df_table['Country/Region'].map(mapping['map.continent'])\n",
    "df_table.head(5)"
   ]
  },
  {
   "cell_type": "code",
   "execution_count": 14,
   "id": "aboriginal-bulgaria",
   "metadata": {
    "execution": {
     "iopub.execute_input": "2021-01-26T00:16:05.934263Z",
     "iopub.status.busy": "2021-01-26T00:16:05.933693Z",
     "iopub.status.idle": "2021-01-26T00:16:05.937851Z",
     "shell.execute_reply": "2021-01-26T00:16:05.937252Z"
    },
    "papermill": {
     "duration": 0.041178,
     "end_time": "2021-01-26T00:16:05.937971",
     "exception": false,
     "start_time": "2021-01-26T00:16:05.896793",
     "status": "completed"
    },
    "tags": []
   },
   "outputs": [],
   "source": [
    "#hide\n",
    "#delete problematic countries from table\n",
    "df_table = df_table[~df_table['Country/Region'].isin(['Cape Verde', 'Cruise Ship', 'Kosovo'])]"
   ]
  },
  {
   "cell_type": "code",
   "execution_count": 15,
   "id": "fantastic-effect",
   "metadata": {
    "execution": {
     "iopub.execute_input": "2021-01-26T00:16:06.024355Z",
     "iopub.status.busy": "2021-01-26T00:16:06.023677Z",
     "iopub.status.idle": "2021-01-26T00:16:06.044238Z",
     "shell.execute_reply": "2021-01-26T00:16:06.044772Z"
    },
    "papermill": {
     "duration": 0.072653,
     "end_time": "2021-01-26T00:16:06.044921",
     "exception": false,
     "start_time": "2021-01-26T00:16:05.972268",
     "status": "completed"
    },
    "tags": []
   },
   "outputs": [
    {
     "data": {
      "text/html": [
       "<div>\n",
       "<style scoped>\n",
       "    .dataframe tbody tr th:only-of-type {\n",
       "        vertical-align: middle;\n",
       "    }\n",
       "\n",
       "    .dataframe tbody tr th {\n",
       "        vertical-align: top;\n",
       "    }\n",
       "\n",
       "    .dataframe thead th {\n",
       "        text-align: right;\n",
       "    }\n",
       "</style>\n",
       "<table border=\"1\" class=\"dataframe\">\n",
       "  <thead>\n",
       "    <tr style=\"text-align: right;\">\n",
       "      <th></th>\n",
       "      <th>Country/Region</th>\n",
       "      <th>Cases</th>\n",
       "      <th>Deaths</th>\n",
       "      <th>PCases</th>\n",
       "      <th>PDeaths</th>\n",
       "      <th>Cases (+)</th>\n",
       "      <th>Deaths (+)</th>\n",
       "      <th>Fatality Rate</th>\n",
       "      <th>Continent</th>\n",
       "    </tr>\n",
       "  </thead>\n",
       "  <tbody>\n",
       "    <tr>\n",
       "      <th>0</th>\n",
       "      <td>US</td>\n",
       "      <td>25127000</td>\n",
       "      <td>419214</td>\n",
       "      <td>24994463</td>\n",
       "      <td>417439</td>\n",
       "      <td>132537</td>\n",
       "      <td>1775</td>\n",
       "      <td>1.7</td>\n",
       "      <td>North America</td>\n",
       "    </tr>\n",
       "    <tr>\n",
       "      <th>1</th>\n",
       "      <td>India</td>\n",
       "      <td>10667736</td>\n",
       "      <td>153470</td>\n",
       "      <td>10654533</td>\n",
       "      <td>153339</td>\n",
       "      <td>13203</td>\n",
       "      <td>131</td>\n",
       "      <td>1.4</td>\n",
       "      <td>Asia</td>\n",
       "    </tr>\n",
       "    <tr>\n",
       "      <th>2</th>\n",
       "      <td>Brazil</td>\n",
       "      <td>8844577</td>\n",
       "      <td>217037</td>\n",
       "      <td>8816254</td>\n",
       "      <td>216445</td>\n",
       "      <td>28323</td>\n",
       "      <td>592</td>\n",
       "      <td>2.5</td>\n",
       "      <td>South America</td>\n",
       "    </tr>\n",
       "    <tr>\n",
       "      <th>3</th>\n",
       "      <td>Russia</td>\n",
       "      <td>3679247</td>\n",
       "      <td>68397</td>\n",
       "      <td>3658447</td>\n",
       "      <td>67919</td>\n",
       "      <td>20800</td>\n",
       "      <td>478</td>\n",
       "      <td>1.9</td>\n",
       "      <td>Europe</td>\n",
       "    </tr>\n",
       "    <tr>\n",
       "      <th>4</th>\n",
       "      <td>United Kingdom</td>\n",
       "      <td>3657857</td>\n",
       "      <td>98129</td>\n",
       "      <td>3627746</td>\n",
       "      <td>97518</td>\n",
       "      <td>30111</td>\n",
       "      <td>611</td>\n",
       "      <td>2.7</td>\n",
       "      <td>Europe</td>\n",
       "    </tr>\n",
       "  </tbody>\n",
       "</table>\n",
       "</div>"
      ],
      "text/plain": [
       "   Country/Region     Cases  Deaths    PCases  PDeaths  Cases (+)  Deaths (+)  \\\n",
       "0              US  25127000  419214  24994463   417439     132537        1775   \n",
       "1           India  10667736  153470  10654533   153339      13203         131   \n",
       "2          Brazil   8844577  217037   8816254   216445      28323         592   \n",
       "3          Russia   3679247   68397   3658447    67919      20800         478   \n",
       "4  United Kingdom   3657857   98129   3627746    97518      30111         611   \n",
       "\n",
       "   Fatality Rate      Continent  \n",
       "0            1.7  North America  \n",
       "1            1.4           Asia  \n",
       "2            2.5  South America  \n",
       "3            1.9         Europe  \n",
       "4            2.7         Europe  "
      ]
     },
     "execution_count": 15,
     "metadata": {},
     "output_type": "execute_result"
    }
   ],
   "source": [
    "#hide\n",
    "df_table = (pd.DataFrame(dict(Cases=dfc_cases, Deaths=dfc_deaths, PCases=dfp_cases, PDeaths=dfp_deaths))\n",
    "             .sort_values(by=['Cases', 'Deaths'], ascending=[False, False])\n",
    "             .reset_index())\n",
    "df_table.rename(columns={'index': 'Country/Region'}, inplace=True)\n",
    "for c in 'Cases, Deaths'.split(', '):\n",
    "    df_table[f'{c} (+)'] = (df_table[c] - df_table[f'P{c}']).clip(0)  # DATA BUG\n",
    "df_table['Fatality Rate'] = (100 * df_table['Deaths'] / df_table['Cases']).round(1)\n",
    "df_table['Continent'] = df_table['Country/Region'].map(mapping['map.continent'])\n",
    "df_table.head(5)"
   ]
  },
  {
   "cell_type": "code",
   "execution_count": 16,
   "id": "fewer-occasion",
   "metadata": {
    "execution": {
     "iopub.execute_input": "2021-01-26T00:16:06.126999Z",
     "iopub.status.busy": "2021-01-26T00:16:06.126311Z",
     "iopub.status.idle": "2021-01-26T00:16:06.128766Z",
     "shell.execute_reply": "2021-01-26T00:16:06.128204Z"
    },
    "papermill": {
     "duration": 0.045919,
     "end_time": "2021-01-26T00:16:06.128902",
     "exception": false,
     "start_time": "2021-01-26T00:16:06.082983",
     "status": "completed"
    },
    "tags": []
   },
   "outputs": [],
   "source": [
    "#hide\n",
    "#delete problematic countries from table\n",
    "df_table = df_table[~df_table['Country/Region'].isin(['Cape Verde', 'Cruise Ship', 'Kosovo'])]"
   ]
  },
  {
   "cell_type": "code",
   "execution_count": 17,
   "id": "related-center",
   "metadata": {
    "execution": {
     "iopub.execute_input": "2021-01-26T00:16:06.217249Z",
     "iopub.status.busy": "2021-01-26T00:16:06.216588Z",
     "iopub.status.idle": "2021-01-26T00:16:06.232164Z",
     "shell.execute_reply": "2021-01-26T00:16:06.232639Z"
    },
    "papermill": {
     "duration": 0.064704,
     "end_time": "2021-01-26T00:16:06.232781",
     "exception": false,
     "start_time": "2021-01-26T00:16:06.168077",
     "status": "completed"
    },
    "tags": []
   },
   "outputs": [],
   "source": [
    "#hide\n",
    "metrics = [df_table.columns[index] for index in [1,2,5,6]]\n",
    "# s_china = df_table[df_table['Country/Region'].eq('China')][metrics].sum().add_prefix('China ')\n",
    "s_us = df_table[df_table['Country/Region'].eq('US')][metrics].sum().add_prefix('US ')\n",
    "s_eu = df_table[df_table['Continent'].eq('Europe')][metrics].sum().add_prefix('EU ')\n",
    "s_ind = df_table[df_table['Country/Region'].eq('India')][metrics].sum().add_prefix('India ')\n",
    "summary = {'updated': pd.to_datetime(dt_today), 'since': pd.to_datetime(dt_yday)}\n",
    "summary = {'updated': pd.to_datetime(dt_today), 'since': pd.to_datetime(dt_yday)}\n",
    "summary = {**summary, **df_table[metrics].sum(), **s_ind, **s_us, **s_eu}"
   ]
  },
  {
   "cell_type": "code",
   "execution_count": 18,
   "id": "engaging-syndrome",
   "metadata": {
    "execution": {
     "iopub.execute_input": "2021-01-26T00:16:06.317316Z",
     "iopub.status.busy": "2021-01-26T00:16:06.316654Z",
     "iopub.status.idle": "2021-01-26T00:16:06.328009Z",
     "shell.execute_reply": "2021-01-26T00:16:06.327509Z"
    },
    "papermill": {
     "duration": 0.056294,
     "end_time": "2021-01-26T00:16:06.328133",
     "exception": false,
     "start_time": "2021-01-26T00:16:06.271839",
     "status": "completed"
    },
    "tags": []
   },
   "outputs": [],
   "source": [
    "#hide\n",
    "dft_ct_new_cases = dft_cases.groupby(COL_REGION)[dt_cols].sum().diff(axis=1).fillna(0).astype(int)"
   ]
  },
  {
   "cell_type": "code",
   "execution_count": 19,
   "id": "neutral-assignment",
   "metadata": {
    "execution": {
     "iopub.execute_input": "2021-01-26T00:16:06.403491Z",
     "iopub.status.busy": "2021-01-26T00:16:06.402861Z",
     "iopub.status.idle": "2021-01-26T00:16:06.405224Z",
     "shell.execute_reply": "2021-01-26T00:16:06.404727Z"
    },
    "papermill": {
     "duration": 0.04216,
     "end_time": "2021-01-26T00:16:06.405344",
     "exception": false,
     "start_time": "2021-01-26T00:16:06.363184",
     "status": "completed"
    },
    "tags": []
   },
   "outputs": [],
   "source": [
    "#hide\n",
    "everydaycases = dft_ct_new_cases.cumsum(axis=1)"
   ]
  },
  {
   "cell_type": "code",
   "execution_count": 20,
   "id": "parliamentary-calgary",
   "metadata": {
    "execution": {
     "iopub.execute_input": "2021-01-26T00:16:06.479589Z",
     "iopub.status.busy": "2021-01-26T00:16:06.479001Z",
     "iopub.status.idle": "2021-01-26T00:16:09.849387Z",
     "shell.execute_reply": "2021-01-26T00:16:09.849874Z"
    },
    "papermill": {
     "duration": 3.407967,
     "end_time": "2021-01-26T00:16:09.850041",
     "exception": false,
     "start_time": "2021-01-26T00:16:06.442074",
     "status": "completed"
    },
    "tags": []
   },
   "outputs": [],
   "source": [
    "#hide\n",
    "import pandas as pd\n",
    "import matplotlib.pyplot as plt\n",
    "import matplotlib.ticker as ticker\n",
    "import matplotlib.animation as animation\n",
    "from IPython.display import HTML"
   ]
  },
  {
   "cell_type": "code",
   "execution_count": 21,
   "id": "lasting-extraction",
   "metadata": {
    "execution": {
     "iopub.execute_input": "2021-01-26T00:16:09.923369Z",
     "iopub.status.busy": "2021-01-26T00:16:09.922778Z",
     "iopub.status.idle": "2021-01-26T00:16:09.927480Z",
     "shell.execute_reply": "2021-01-26T00:16:09.927008Z"
    },
    "papermill": {
     "duration": 0.043274,
     "end_time": "2021-01-26T00:16:09.927602",
     "exception": false,
     "start_time": "2021-01-26T00:16:09.884328",
     "status": "completed"
    },
    "tags": []
   },
   "outputs": [],
   "source": [
    "#hide\n",
    "t = everydaycases.stack()"
   ]
  },
  {
   "cell_type": "code",
   "execution_count": 22,
   "id": "premier-sleeve",
   "metadata": {
    "execution": {
     "iopub.execute_input": "2021-01-26T00:16:10.001960Z",
     "iopub.status.busy": "2021-01-26T00:16:10.001357Z",
     "iopub.status.idle": "2021-01-26T00:16:10.007981Z",
     "shell.execute_reply": "2021-01-26T00:16:10.007448Z"
    },
    "papermill": {
     "duration": 0.045969,
     "end_time": "2021-01-26T00:16:10.008098",
     "exception": false,
     "start_time": "2021-01-26T00:16:09.962129",
     "status": "completed"
    },
    "tags": []
   },
   "outputs": [],
   "source": [
    "#hide\n",
    "g = t.reset_index(['Country/Region'])"
   ]
  },
  {
   "cell_type": "code",
   "execution_count": 23,
   "id": "distributed-pittsburgh",
   "metadata": {
    "execution": {
     "iopub.execute_input": "2021-01-26T00:16:10.079953Z",
     "iopub.status.busy": "2021-01-26T00:16:10.079389Z",
     "iopub.status.idle": "2021-01-26T00:16:10.082096Z",
     "shell.execute_reply": "2021-01-26T00:16:10.081510Z"
    },
    "papermill": {
     "duration": 0.040358,
     "end_time": "2021-01-26T00:16:10.082212",
     "exception": false,
     "start_time": "2021-01-26T00:16:10.041854",
     "status": "completed"
    },
    "tags": []
   },
   "outputs": [],
   "source": [
    "#hide\n",
    "g.index.name = 'date'"
   ]
  },
  {
   "cell_type": "code",
   "execution_count": 24,
   "id": "naked-donor",
   "metadata": {
    "execution": {
     "iopub.execute_input": "2021-01-26T00:16:10.153189Z",
     "iopub.status.busy": "2021-01-26T00:16:10.152621Z",
     "iopub.status.idle": "2021-01-26T00:16:10.155031Z",
     "shell.execute_reply": "2021-01-26T00:16:10.154541Z"
    },
    "papermill": {
     "duration": 0.039004,
     "end_time": "2021-01-26T00:16:10.155143",
     "exception": false,
     "start_time": "2021-01-26T00:16:10.116139",
     "status": "completed"
    },
    "tags": []
   },
   "outputs": [],
   "source": [
    "# #hide\n",
    "# g = g.reset_index(['date'])"
   ]
  },
  {
   "cell_type": "code",
   "execution_count": 25,
   "id": "incomplete-mustang",
   "metadata": {
    "execution": {
     "iopub.execute_input": "2021-01-26T00:16:10.226222Z",
     "iopub.status.busy": "2021-01-26T00:16:10.225651Z",
     "iopub.status.idle": "2021-01-26T00:16:10.228170Z",
     "shell.execute_reply": "2021-01-26T00:16:10.227683Z"
    },
    "papermill": {
     "duration": 0.039728,
     "end_time": "2021-01-26T00:16:10.228283",
     "exception": false,
     "start_time": "2021-01-26T00:16:10.188555",
     "status": "completed"
    },
    "tags": []
   },
   "outputs": [],
   "source": [
    "#hide\n",
    "# g.head()"
   ]
  },
  {
   "cell_type": "code",
   "execution_count": 26,
   "id": "specific-kruger",
   "metadata": {
    "execution": {
     "iopub.execute_input": "2021-01-26T00:16:10.300158Z",
     "iopub.status.busy": "2021-01-26T00:16:10.299591Z",
     "iopub.status.idle": "2021-01-26T00:16:10.301832Z",
     "shell.execute_reply": "2021-01-26T00:16:10.301346Z"
    },
    "papermill": {
     "duration": 0.038754,
     "end_time": "2021-01-26T00:16:10.301946",
     "exception": false,
     "start_time": "2021-01-26T00:16:10.263192",
     "status": "completed"
    },
    "tags": []
   },
   "outputs": [],
   "source": [
    "#hide\n",
    "# g.columns = ['date','country','cases']"
   ]
  },
  {
   "cell_type": "code",
   "execution_count": 27,
   "id": "tender-conversion",
   "metadata": {
    "execution": {
     "iopub.execute_input": "2021-01-26T00:16:10.382198Z",
     "iopub.status.busy": "2021-01-26T00:16:10.381525Z",
     "iopub.status.idle": "2021-01-26T00:16:10.383732Z",
     "shell.execute_reply": "2021-01-26T00:16:10.383170Z"
    },
    "papermill": {
     "duration": 0.044954,
     "end_time": "2021-01-26T00:16:10.383852",
     "exception": false,
     "start_time": "2021-01-26T00:16:10.338898",
     "status": "completed"
    },
    "tags": []
   },
   "outputs": [],
   "source": [
    "#hide\n",
    "# g['continent'] = g.country"
   ]
  },
  {
   "cell_type": "code",
   "execution_count": 28,
   "id": "substantial-wilderness",
   "metadata": {
    "execution": {
     "iopub.execute_input": "2021-01-26T00:16:10.457300Z",
     "iopub.status.busy": "2021-01-26T00:16:10.456643Z",
     "iopub.status.idle": "2021-01-26T00:16:10.458979Z",
     "shell.execute_reply": "2021-01-26T00:16:10.458483Z"
    },
    "papermill": {
     "duration": 0.041967,
     "end_time": "2021-01-26T00:16:10.459097",
     "exception": false,
     "start_time": "2021-01-26T00:16:10.417130",
     "status": "completed"
    },
    "tags": []
   },
   "outputs": [],
   "source": [
    "#hide\n",
    "# cols = list(g.columns.values)"
   ]
  },
  {
   "cell_type": "code",
   "execution_count": 29,
   "id": "solved-farming",
   "metadata": {
    "execution": {
     "iopub.execute_input": "2021-01-26T00:16:10.534330Z",
     "iopub.status.busy": "2021-01-26T00:16:10.533694Z",
     "iopub.status.idle": "2021-01-26T00:16:10.535675Z",
     "shell.execute_reply": "2021-01-26T00:16:10.536205Z"
    },
    "papermill": {
     "duration": 0.041412,
     "end_time": "2021-01-26T00:16:10.536339",
     "exception": false,
     "start_time": "2021-01-26T00:16:10.494927",
     "status": "completed"
    },
    "tags": []
   },
   "outputs": [],
   "source": [
    "#hide\n",
    "# cols.insert(0, cols.pop())"
   ]
  },
  {
   "cell_type": "code",
   "execution_count": 30,
   "id": "executed-adoption",
   "metadata": {
    "execution": {
     "iopub.execute_input": "2021-01-26T00:16:10.610390Z",
     "iopub.status.busy": "2021-01-26T00:16:10.609788Z",
     "iopub.status.idle": "2021-01-26T00:16:10.612473Z",
     "shell.execute_reply": "2021-01-26T00:16:10.611856Z"
    },
    "papermill": {
     "duration": 0.040324,
     "end_time": "2021-01-26T00:16:10.612597",
     "exception": false,
     "start_time": "2021-01-26T00:16:10.572273",
     "status": "completed"
    },
    "tags": []
   },
   "outputs": [],
   "source": [
    "#hide\n",
    "# g = g[cols]"
   ]
  },
  {
   "cell_type": "code",
   "execution_count": 31,
   "id": "subject-dublin",
   "metadata": {
    "execution": {
     "iopub.execute_input": "2021-01-26T00:16:10.684242Z",
     "iopub.status.busy": "2021-01-26T00:16:10.683392Z",
     "iopub.status.idle": "2021-01-26T00:16:10.685288Z",
     "shell.execute_reply": "2021-01-26T00:16:10.685818Z"
    },
    "papermill": {
     "duration": 0.039674,
     "end_time": "2021-01-26T00:16:10.685945",
     "exception": false,
     "start_time": "2021-01-26T00:16:10.646271",
     "status": "completed"
    },
    "tags": []
   },
   "outputs": [],
   "source": [
    "#hide\n",
    "# g['continent'] = g['continent'].map(mapping['map.continent'])"
   ]
  },
  {
   "cell_type": "code",
   "execution_count": 32,
   "id": "freelance-scout",
   "metadata": {
    "execution": {
     "iopub.execute_input": "2021-01-26T00:16:10.758134Z",
     "iopub.status.busy": "2021-01-26T00:16:10.757509Z",
     "iopub.status.idle": "2021-01-26T00:16:10.760265Z",
     "shell.execute_reply": "2021-01-26T00:16:10.759675Z"
    },
    "papermill": {
     "duration": 0.038899,
     "end_time": "2021-01-26T00:16:10.760399",
     "exception": false,
     "start_time": "2021-01-26T00:16:10.721500",
     "status": "completed"
    },
    "tags": []
   },
   "outputs": [],
   "source": [
    "#hide\n",
    "# g.head()"
   ]
  },
  {
   "cell_type": "code",
   "execution_count": 33,
   "id": "limited-engine",
   "metadata": {
    "execution": {
     "iopub.execute_input": "2021-01-26T00:16:10.832958Z",
     "iopub.status.busy": "2021-01-26T00:16:10.832390Z",
     "iopub.status.idle": "2021-01-26T00:16:10.834899Z",
     "shell.execute_reply": "2021-01-26T00:16:10.834393Z"
    },
    "papermill": {
     "duration": 0.038741,
     "end_time": "2021-01-26T00:16:10.835020",
     "exception": false,
     "start_time": "2021-01-26T00:16:10.796279",
     "status": "completed"
    },
    "tags": []
   },
   "outputs": [],
   "source": [
    "# hide\n",
    "# g['date'] = g['date'].astype('datetime64[ns]')"
   ]
  },
  {
   "cell_type": "code",
   "execution_count": 34,
   "id": "sophisticated-supervisor",
   "metadata": {
    "execution": {
     "iopub.execute_input": "2021-01-26T00:16:10.908359Z",
     "iopub.status.busy": "2021-01-26T00:16:10.907763Z",
     "iopub.status.idle": "2021-01-26T00:16:10.910384Z",
     "shell.execute_reply": "2021-01-26T00:16:10.909868Z"
    },
    "papermill": {
     "duration": 0.039526,
     "end_time": "2021-01-26T00:16:10.910502",
     "exception": false,
     "start_time": "2021-01-26T00:16:10.870976",
     "status": "completed"
    },
    "tags": []
   },
   "outputs": [],
   "source": [
    "#hide\n",
    "# g['date'] = g.date.dt.dayofyear"
   ]
  },
  {
   "cell_type": "code",
   "execution_count": 35,
   "id": "inside-dubai",
   "metadata": {
    "execution": {
     "iopub.execute_input": "2021-01-26T00:16:10.981193Z",
     "iopub.status.busy": "2021-01-26T00:16:10.980616Z",
     "iopub.status.idle": "2021-01-26T00:16:10.982939Z",
     "shell.execute_reply": "2021-01-26T00:16:10.982317Z"
    },
    "papermill": {
     "duration": 0.038576,
     "end_time": "2021-01-26T00:16:10.983052",
     "exception": false,
     "start_time": "2021-01-26T00:16:10.944476",
     "status": "completed"
    },
    "tags": []
   },
   "outputs": [],
   "source": [
    "#hide\n",
    "# g = g.rename(columns= {'continent':'group','country':'name','cases':'value'})"
   ]
  },
  {
   "cell_type": "code",
   "execution_count": 36,
   "id": "fleet-motorcycle",
   "metadata": {
    "execution": {
     "iopub.execute_input": "2021-01-26T00:16:11.058816Z",
     "iopub.status.busy": "2021-01-26T00:16:11.058122Z",
     "iopub.status.idle": "2021-01-26T00:16:11.060587Z",
     "shell.execute_reply": "2021-01-26T00:16:11.060060Z"
    },
    "papermill": {
     "duration": 0.041255,
     "end_time": "2021-01-26T00:16:11.060707",
     "exception": false,
     "start_time": "2021-01-26T00:16:11.019452",
     "status": "completed"
    },
    "tags": []
   },
   "outputs": [],
   "source": [
    "#hide\n",
    "# cols = ['name','group','day','value']"
   ]
  },
  {
   "cell_type": "code",
   "execution_count": 37,
   "id": "continued-sleeping",
   "metadata": {
    "execution": {
     "iopub.execute_input": "2021-01-26T00:16:11.131350Z",
     "iopub.status.busy": "2021-01-26T00:16:11.130753Z",
     "iopub.status.idle": "2021-01-26T00:16:11.132817Z",
     "shell.execute_reply": "2021-01-26T00:16:11.132323Z"
    },
    "papermill": {
     "duration": 0.038257,
     "end_time": "2021-01-26T00:16:11.132931",
     "exception": false,
     "start_time": "2021-01-26T00:16:11.094674",
     "status": "completed"
    },
    "tags": []
   },
   "outputs": [],
   "source": [
    "#hide\n",
    "# g.rename(columns= {'date':'day'},inplace = True)"
   ]
  },
  {
   "cell_type": "code",
   "execution_count": 38,
   "id": "major-fight",
   "metadata": {
    "execution": {
     "iopub.execute_input": "2021-01-26T00:16:11.203918Z",
     "iopub.status.busy": "2021-01-26T00:16:11.203343Z",
     "iopub.status.idle": "2021-01-26T00:16:11.205393Z",
     "shell.execute_reply": "2021-01-26T00:16:11.205898Z"
    },
    "papermill": {
     "duration": 0.039465,
     "end_time": "2021-01-26T00:16:11.206024",
     "exception": false,
     "start_time": "2021-01-26T00:16:11.166559",
     "status": "completed"
    },
    "tags": []
   },
   "outputs": [],
   "source": [
    "#hide\n",
    "# g = g[cols]"
   ]
  },
  {
   "cell_type": "code",
   "execution_count": 39,
   "id": "structured-mobile",
   "metadata": {
    "execution": {
     "iopub.execute_input": "2021-01-26T00:16:11.279969Z",
     "iopub.status.busy": "2021-01-26T00:16:11.279387Z",
     "iopub.status.idle": "2021-01-26T00:16:11.281308Z",
     "shell.execute_reply": "2021-01-26T00:16:11.281782Z"
    },
    "papermill": {
     "duration": 0.040584,
     "end_time": "2021-01-26T00:16:11.281911",
     "exception": false,
     "start_time": "2021-01-26T00:16:11.241327",
     "status": "completed"
    },
    "tags": []
   },
   "outputs": [],
   "source": [
    "# #hide\n",
    "# g = g[g.group.notna()]"
   ]
  },
  {
   "cell_type": "code",
   "execution_count": 40,
   "id": "determined-closing",
   "metadata": {
    "execution": {
     "iopub.execute_input": "2021-01-26T00:16:11.356081Z",
     "iopub.status.busy": "2021-01-26T00:16:11.355518Z",
     "iopub.status.idle": "2021-01-26T00:16:11.357870Z",
     "shell.execute_reply": "2021-01-26T00:16:11.357391Z"
    },
    "papermill": {
     "duration": 0.040628,
     "end_time": "2021-01-26T00:16:11.357983",
     "exception": false,
     "start_time": "2021-01-26T00:16:11.317355",
     "status": "completed"
    },
    "tags": []
   },
   "outputs": [],
   "source": [
    "# #hide\n",
    "# colors = dict(zip(\n",
    "#     [\"Oceania\", \"Europe\", \"Asia\", \"South America\", \"Middle East\", \"North America\", \"Africa\"],\n",
    "#     [\"#adb0ff\", \"#ffb3ff\", \"#90d595\", \"#e48381\", \"#aafbff\", \"#f7bb5f\", \"#eafb50\"]\n",
    "# ))\n",
    "# group_lk = g.set_index('name')['group'].to_dict()"
   ]
  },
  {
   "cell_type": "code",
   "execution_count": null,
   "id": "gross-drinking",
   "metadata": {
    "papermill": {
     "duration": 0.033198,
     "end_time": "2021-01-26T00:16:11.424603",
     "exception": false,
     "start_time": "2021-01-26T00:16:11.391405",
     "status": "completed"
    },
    "tags": []
   },
   "outputs": [],
   "source": []
  },
  {
   "cell_type": "code",
   "execution_count": 41,
   "id": "subject-macintosh",
   "metadata": {
    "execution": {
     "iopub.execute_input": "2021-01-26T00:16:11.498087Z",
     "iopub.status.busy": "2021-01-26T00:16:11.497507Z",
     "iopub.status.idle": "2021-01-26T00:16:11.499971Z",
     "shell.execute_reply": "2021-01-26T00:16:11.499490Z"
    },
    "papermill": {
     "duration": 0.040781,
     "end_time": "2021-01-26T00:16:11.500084",
     "exception": false,
     "start_time": "2021-01-26T00:16:11.459303",
     "status": "completed"
    },
    "tags": []
   },
   "outputs": [],
   "source": [
    "# #hide\n",
    "# fig, ax = plt.subplots(figsize=(15, 8))\n",
    "\n",
    "# def draw_barchart(current_day):\n",
    "#     dff = g[g['day'].eq(current_day)].sort_values(by='value', ascending=True).tail(10)\n",
    "#     ax.clear()\n",
    "#     ax.barh(dff['name'], dff['value'], color=[colors[group_lk[x]] for x in dff['name']])\n",
    "#     dx = dff['value'].max() / 200\n",
    "    \n",
    "#     for i, (value, name) in enumerate(zip(dff['value'], dff['name'])):\n",
    "#         ax.text(value-dx, i,     name,           size=14, weight=600, ha='right', va='bottom')\n",
    "#         ax.text(value-dx, i-.25, group_lk[name], size=10, color='#444444', ha='right', va='baseline')\n",
    "#         ax.text(value+dx, i,     f'{value:,.0f}',  size=14, ha='left',  va='center')\n",
    "#     ax.text(1, 0.4, current_day, transform=ax.transAxes, color='#777777', size=46, ha='right', weight=800)\n",
    "#     ax.text(0, 1.06, 'Population (thousands)', transform=ax.transAxes, size=12, color='#777777')\n",
    "#     ax.xaxis.set_major_formatter(ticker.StrMethodFormatter('{x:,.0f}'))\n",
    "#     ax.xaxis.set_ticks_position('top')\n",
    "#     ax.tick_params(axis='x', colors='#777777', labelsize=12)\n",
    "#     ax.set_yticks([])\n",
    "#     ax.margins(0, 0.01)\n",
    "#     ax.grid(which='major', axis='x', linestyle='-')\n",
    "#     ax.set_axisbelow(True)\n",
    "    \n",
    "#     ax.text(0, 1.15, 'Coronavirus',\n",
    "#             transform=ax.transAxes, size=24, weight=600, ha='left', va='top')\n",
    "# #     ax.text(1, 0, 'by @pratapvardhan; credit @jburnmurdoch', transform=ax.transAxes, color='#777777', ha='right',\n",
    "# #             bbox=dict(facecolor='white', alpha=0.8, edgecolor='white'))\n",
    "#     plt.box(False)"
   ]
  },
  {
   "cell_type": "code",
   "execution_count": 42,
   "id": "sexual-wages",
   "metadata": {
    "execution": {
     "iopub.execute_input": "2021-01-26T00:16:11.572014Z",
     "iopub.status.busy": "2021-01-26T00:16:11.571415Z",
     "iopub.status.idle": "2021-01-26T00:16:11.573912Z",
     "shell.execute_reply": "2021-01-26T00:16:11.573280Z"
    },
    "papermill": {
     "duration": 0.040594,
     "end_time": "2021-01-26T00:16:11.574049",
     "exception": false,
     "start_time": "2021-01-26T00:16:11.533455",
     "status": "completed"
    },
    "tags": []
   },
   "outputs": [],
   "source": [
    "# #hide_input\n",
    "# fig, ax = plt.subplots(figsize=(15, 8))\n",
    "# animator = animation.FuncAnimation(fig, draw_barchart, frames=range(g.day.values.min(), g.day.values.max()))\n",
    "# HTML(animator.to_jshtml())\n",
    "# # or use animator.to_html5_video() or animator.save() "
   ]
  },
  {
   "cell_type": "code",
   "execution_count": null,
   "id": "australian-container",
   "metadata": {
    "papermill": {
     "duration": 0.033783,
     "end_time": "2021-01-26T00:16:11.641795",
     "exception": false,
     "start_time": "2021-01-26T00:16:11.608012",
     "status": "completed"
    },
    "tags": []
   },
   "outputs": [],
   "source": []
  },
  {
   "cell_type": "code",
   "execution_count": null,
   "id": "mediterranean-pontiac",
   "metadata": {
    "papermill": {
     "duration": 0.033326,
     "end_time": "2021-01-26T00:16:11.709432",
     "exception": false,
     "start_time": "2021-01-26T00:16:11.676106",
     "status": "completed"
    },
    "tags": []
   },
   "outputs": [],
   "source": []
  },
  {
   "cell_type": "code",
   "execution_count": null,
   "id": "aging-legislature",
   "metadata": {
    "papermill": {
     "duration": 0.034255,
     "end_time": "2021-01-26T00:16:11.777164",
     "exception": false,
     "start_time": "2021-01-26T00:16:11.742909",
     "status": "completed"
    },
    "tags": []
   },
   "outputs": [],
   "source": []
  }
 ],
 "metadata": {
  "kernelspec": {
   "display_name": "Python 3",
   "language": "python",
   "name": "python3"
  },
  "language_info": {
   "codemirror_mode": {
    "name": "ipython",
    "version": 3
   },
   "file_extension": ".py",
   "mimetype": "text/x-python",
   "name": "python",
   "nbconvert_exporter": "python",
   "pygments_lexer": "ipython3",
   "version": "3.6.12"
  },
  "papermill": {
   "duration": 9.253942,
   "end_time": "2021-01-26T00:16:12.117071",
   "environment_variables": {},
   "exception": null,
   "input_path": "2020-03-21-covid19exp.ipynb",
   "output_path": "2020-03-21-covid19exp.ipynb",
   "parameters": {},
   "start_time": "2021-01-26T00:16:02.863129",
   "version": "2.0.0"
  }
 },
 "nbformat": 4,
 "nbformat_minor": 5
}