{
 "cells": [
  {
   "cell_type": "markdown",
   "id": "muslim-click",
   "metadata": {
    "papermill": {
     "duration": 0.055349,
     "end_time": "2022-03-06T12:13:26.916322",
     "exception": false,
     "start_time": "2022-03-06T12:13:26.860973",
     "status": "completed"
    },
    "tags": []
   },
   "source": [
    "# COVID-19 Case Race\n",
    "> A race chart to see rising cases around the world\n",
    "\n",
    "- author: Hargun Oberoi\n",
    "- image: images/covid-overview.png\n",
    "- hide: false\n",
    "- badges: false"
   ]
  },
  {
   "cell_type": "code",
   "execution_count": 1,
   "id": "proof-material",
   "metadata": {
    "execution": {
     "iopub.execute_input": "2022-03-06T12:13:27.005913Z",
     "iopub.status.busy": "2022-03-06T12:13:27.005228Z",
     "iopub.status.idle": "2022-03-06T12:13:27.398736Z",
     "shell.execute_reply": "2022-03-06T12:13:27.398155Z"
    },
    "papermill": {
     "duration": 0.442706,
     "end_time": "2022-03-06T12:13:27.398897",
     "exception": false,
     "start_time": "2022-03-06T12:13:26.956191",
     "status": "completed"
    },
    "tags": []
   },
   "outputs": [],
   "source": [
    "#hide\n",
    "import numpy as np\n",
    "import pandas as pd\n",
    "from jinja2 import Template\n",
    "from IPython.display import HTML"
   ]
  },
  {
   "cell_type": "code",
   "execution_count": 2,
   "id": "developed-terminology",
   "metadata": {
    "execution": {
     "iopub.execute_input": "2022-03-06T12:13:27.475526Z",
     "iopub.status.busy": "2022-03-06T12:13:27.474548Z",
     "iopub.status.idle": "2022-03-06T12:13:27.476429Z",
     "shell.execute_reply": "2022-03-06T12:13:27.477106Z"
    },
    "papermill": {
     "duration": 0.043667,
     "end_time": "2022-03-06T12:13:27.477304",
     "exception": false,
     "start_time": "2022-03-06T12:13:27.433637",
     "status": "completed"
    },
    "tags": []
   },
   "outputs": [],
   "source": [
    "#hide\n",
    "\n",
    "# FETCH\n",
    "base_url = 'https://raw.githubusercontent.com/pratapvardhan/notebooks/master/covid19/'\n",
    "paths = {\n",
    "    'mapping': base_url + 'mapping_countries.csv',\n",
    "    'overview': base_url + 'overview.tpl'\n",
    "}"
   ]
  },
  {
   "cell_type": "code",
   "execution_count": 3,
   "id": "dynamic-saver",
   "metadata": {
    "execution": {
     "iopub.execute_input": "2022-03-06T12:13:27.557950Z",
     "iopub.status.busy": "2022-03-06T12:13:27.554942Z",
     "iopub.status.idle": "2022-03-06T12:13:27.561185Z",
     "shell.execute_reply": "2022-03-06T12:13:27.560654Z"
    },
    "papermill": {
     "duration": 0.049442,
     "end_time": "2022-03-06T12:13:27.561324",
     "exception": false,
     "start_time": "2022-03-06T12:13:27.511882",
     "status": "completed"
    },
    "tags": []
   },
   "outputs": [
    {
     "data": {
      "text/plain": [
       "'https://raw.githubusercontent.com/pratapvardhan/notebooks/master/covid19/mapping_countries.csv'"
      ]
     },
     "execution_count": 3,
     "metadata": {},
     "output_type": "execute_result"
    }
   ],
   "source": [
    "#hide\n",
    "paths['mapping']"
   ]
  },
  {
   "cell_type": "code",
   "execution_count": 4,
   "id": "urban-software",
   "metadata": {
    "execution": {
     "iopub.execute_input": "2022-03-06T12:13:27.638297Z",
     "iopub.status.busy": "2022-03-06T12:13:27.637535Z",
     "iopub.status.idle": "2022-03-06T12:13:27.639184Z",
     "shell.execute_reply": "2022-03-06T12:13:27.639783Z"
    },
    "papermill": {
     "duration": 0.043407,
     "end_time": "2022-03-06T12:13:27.639936",
     "exception": false,
     "start_time": "2022-03-06T12:13:27.596529",
     "status": "completed"
    },
    "tags": []
   },
   "outputs": [],
   "source": [
    "#hide\n",
    "def get_mappings(url):\n",
    "    df = pd.read_csv(url)\n",
    "    return {\n",
    "        'df': df,\n",
    "        'replace.country': dict(df.dropna(subset=['Name']).set_index('Country')['Name']),\n",
    "        'map.continent': dict(df.set_index('Name')['Continent'])\n",
    "    }"
   ]
  },
  {
   "cell_type": "code",
   "execution_count": 5,
   "id": "intimate-machinery",
   "metadata": {
    "execution": {
     "iopub.execute_input": "2022-03-06T12:13:27.718306Z",
     "iopub.status.busy": "2022-03-06T12:13:27.717657Z",
     "iopub.status.idle": "2022-03-06T12:13:27.751214Z",
     "shell.execute_reply": "2022-03-06T12:13:27.750520Z"
    },
    "papermill": {
     "duration": 0.076613,
     "end_time": "2022-03-06T12:13:27.751395",
     "exception": false,
     "start_time": "2022-03-06T12:13:27.674782",
     "status": "completed"
    },
    "tags": []
   },
   "outputs": [],
   "source": [
    "#hide\n",
    "mapping = get_mappings(paths['mapping'])"
   ]
  },
  {
   "cell_type": "code",
   "execution_count": 6,
   "id": "certified-tactics",
   "metadata": {
    "execution": {
     "iopub.execute_input": "2022-03-06T12:13:27.830377Z",
     "iopub.status.busy": "2022-03-06T12:13:27.829496Z",
     "iopub.status.idle": "2022-03-06T12:13:27.831666Z",
     "shell.execute_reply": "2022-03-06T12:13:27.832287Z"
    },
    "papermill": {
     "duration": 0.045603,
     "end_time": "2022-03-06T12:13:27.832482",
     "exception": false,
     "start_time": "2022-03-06T12:13:27.786879",
     "status": "completed"
    },
    "tags": []
   },
   "outputs": [],
   "source": [
    "#hide\n",
    "def get_template(path):\n",
    "    from urllib.parse import urlparse\n",
    "    if bool(urlparse(path).netloc):\n",
    "        from urllib.request import urlopen\n",
    "        return urlopen(path).read().decode('utf8')\n",
    "    return open(path).read()"
   ]
  },
  {
   "cell_type": "code",
   "execution_count": 7,
   "id": "realistic-blast",
   "metadata": {
    "execution": {
     "iopub.execute_input": "2022-03-06T12:13:27.909260Z",
     "iopub.status.busy": "2022-03-06T12:13:27.908580Z",
     "iopub.status.idle": "2022-03-06T12:13:27.910962Z",
     "shell.execute_reply": "2022-03-06T12:13:27.911556Z"
    },
    "papermill": {
     "duration": 0.043953,
     "end_time": "2022-03-06T12:13:27.911705",
     "exception": false,
     "start_time": "2022-03-06T12:13:27.867752",
     "status": "completed"
    },
    "tags": []
   },
   "outputs": [],
   "source": [
    "#hide\n",
    "def get_frame(name):\n",
    "    url = (\n",
    "        'https://raw.githubusercontent.com/CSSEGISandData/COVID-19/master/csse_covid_19_data/'\n",
    "        f'csse_covid_19_time_series/time_series_covid19_{name}_global.csv')\n",
    "    df = pd.read_csv(url)\n",
    "    # rename countries\n",
    "    df['Country/Region'] = df['Country/Region'].replace(mapping['replace.country'])\n",
    "    return df"
   ]
  },
  {
   "cell_type": "code",
   "execution_count": 8,
   "id": "affiliated-characterization",
   "metadata": {
    "execution": {
     "iopub.execute_input": "2022-03-06T12:13:27.990190Z",
     "iopub.status.busy": "2022-03-06T12:13:27.989473Z",
     "iopub.status.idle": "2022-03-06T12:13:27.991046Z",
     "shell.execute_reply": "2022-03-06T12:13:27.991688Z"
    },
    "papermill": {
     "duration": 0.044506,
     "end_time": "2022-03-06T12:13:27.991854",
     "exception": false,
     "start_time": "2022-03-06T12:13:27.947348",
     "status": "completed"
    },
    "tags": []
   },
   "outputs": [],
   "source": [
    "#hide\n",
    "def get_dates(df):\n",
    "    dt_cols = df.columns[~df.columns.isin(['Province/State', 'Country/Region', 'Lat', 'Long'])]\n",
    "    LAST_DATE_I = -1\n",
    "    # sometimes last column may be empty, then go backwards\n",
    "    for i in range(-1, -len(dt_cols), -1):\n",
    "        if not df[dt_cols[i]].fillna(0).eq(0).all():\n",
    "            LAST_DATE_I = i\n",
    "            break\n",
    "    return LAST_DATE_I, dt_cols"
   ]
  },
  {
   "cell_type": "code",
   "execution_count": 9,
   "id": "recent-optimization",
   "metadata": {
    "execution": {
     "iopub.execute_input": "2022-03-06T12:13:28.069409Z",
     "iopub.status.busy": "2022-03-06T12:13:28.068660Z",
     "iopub.status.idle": "2022-03-06T12:13:28.463732Z",
     "shell.execute_reply": "2022-03-06T12:13:28.463140Z"
    },
    "papermill": {
     "duration": 0.43683,
     "end_time": "2022-03-06T12:13:28.463869",
     "exception": false,
     "start_time": "2022-03-06T12:13:28.027039",
     "status": "completed"
    },
    "tags": []
   },
   "outputs": [],
   "source": [
    "#hide\n",
    "COL_REGION = 'Country/Region'\n",
    "# Confirmed, Recovered, Deaths\n",
    "df = get_frame('confirmed')\n",
    "# dft_: timeseries, dfc_: today country agg\n",
    "dft_cases = df\n",
    "dft_deaths = get_frame('deaths')\n",
    "dft_recovered = get_frame('recovered')\n",
    "LAST_DATE_I, dt_cols = get_dates(df)"
   ]
  },
  {
   "cell_type": "code",
   "execution_count": 10,
   "id": "absolute-copper",
   "metadata": {
    "execution": {
     "iopub.execute_input": "2022-03-06T12:13:28.550116Z",
     "iopub.status.busy": "2022-03-06T12:13:28.549450Z",
     "iopub.status.idle": "2022-03-06T12:13:28.552118Z",
     "shell.execute_reply": "2022-03-06T12:13:28.551604Z"
    },
    "papermill": {
     "duration": 0.049162,
     "end_time": "2022-03-06T12:13:28.552255",
     "exception": false,
     "start_time": "2022-03-06T12:13:28.503093",
     "status": "completed"
    },
    "tags": []
   },
   "outputs": [],
   "source": [
    "#hide\n",
    "LAST_DATE_I, dt_cols = get_dates(df)\n",
    "dt_today =dt_cols[LAST_DATE_I]\n",
    "# dt_5day = dt_cols[LAST_DATE_I - 5]\n",
    "dt_yday = dt_cols[LAST_DATE_I - 1]"
   ]
  },
  {
   "cell_type": "code",
   "execution_count": 11,
   "id": "restricted-sheriff",
   "metadata": {
    "execution": {
     "iopub.execute_input": "2022-03-06T12:13:28.635975Z",
     "iopub.status.busy": "2022-03-06T12:13:28.635326Z",
     "iopub.status.idle": "2022-03-06T12:13:28.644077Z",
     "shell.execute_reply": "2022-03-06T12:13:28.643519Z"
    },
    "papermill": {
     "duration": 0.056459,
     "end_time": "2022-03-06T12:13:28.644209",
     "exception": false,
     "start_time": "2022-03-06T12:13:28.587750",
     "status": "completed"
    },
    "tags": []
   },
   "outputs": [],
   "source": [
    "#hide\n",
    "dfc_cases = dft_cases.groupby(COL_REGION)[dt_today].sum()\n",
    "dfc_deaths = dft_deaths.groupby(COL_REGION)[dt_today].sum()\n",
    "# dfp_cases = dft_cases.groupby(COL_REGION)[dt_5day].sum()\n",
    "# dfp_deaths = dft_deaths.groupby(COL_REGION)[dt_5day].sum()\n",
    "dfp_cases = dft_cases.groupby(COL_REGION)[dt_yday].sum()\n",
    "dfp_deaths = dft_deaths.groupby(COL_REGION)[dt_yday].sum()"
   ]
  },
  {
   "cell_type": "code",
   "execution_count": 12,
   "id": "deluxe-hepatitis",
   "metadata": {
    "execution": {
     "iopub.execute_input": "2022-03-06T12:13:28.726524Z",
     "iopub.status.busy": "2022-03-06T12:13:28.725859Z",
     "iopub.status.idle": "2022-03-06T12:13:28.731106Z",
     "shell.execute_reply": "2022-03-06T12:13:28.730469Z"
    },
    "papermill": {
     "duration": 0.050808,
     "end_time": "2022-03-06T12:13:28.731246",
     "exception": false,
     "start_time": "2022-03-06T12:13:28.680438",
     "status": "completed"
    },
    "tags": []
   },
   "outputs": [],
   "source": [
    "#hide\n",
    "df_table = (pd.DataFrame(dict(Cases = dfc_cases, Deaths = dfc_deaths, PCases = dfp_cases, PDeaths = dfp_deaths))\n",
    "            .sort_values(by = ['Cases','Deaths'], ascending = [False, False])\n",
    "            .reset_index())"
   ]
  },
  {
   "cell_type": "code",
   "execution_count": 13,
   "id": "educational-chancellor",
   "metadata": {
    "execution": {
     "iopub.execute_input": "2022-03-06T12:13:28.829791Z",
     "iopub.status.busy": "2022-03-06T12:13:28.823335Z",
     "iopub.status.idle": "2022-03-06T12:13:28.838833Z",
     "shell.execute_reply": "2022-03-06T12:13:28.838318Z"
    },
    "papermill": {
     "duration": 0.069672,
     "end_time": "2022-03-06T12:13:28.838966",
     "exception": false,
     "start_time": "2022-03-06T12:13:28.769294",
     "status": "completed"
    },
    "tags": []
   },
   "outputs": [
    {
     "data": {
      "text/html": [
       "<div>\n",
       "<style scoped>\n",
       "    .dataframe tbody tr th:only-of-type {\n",
       "        vertical-align: middle;\n",
       "    }\n",
       "\n",
       "    .dataframe tbody tr th {\n",
       "        vertical-align: top;\n",
       "    }\n",
       "\n",
       "    .dataframe thead th {\n",
       "        text-align: right;\n",
       "    }\n",
       "</style>\n",
       "<table border=\"1\" class=\"dataframe\">\n",
       "  <thead>\n",
       "    <tr style=\"text-align: right;\">\n",
       "      <th></th>\n",
       "      <th>Country/Region</th>\n",
       "      <th>Cases</th>\n",
       "      <th>Deaths</th>\n",
       "      <th>PCases</th>\n",
       "      <th>PDeaths</th>\n",
       "      <th>Cases (+)</th>\n",
       "      <th>Deaths (+)</th>\n",
       "      <th>Fatality Rate</th>\n",
       "      <th>Continent</th>\n",
       "    </tr>\n",
       "  </thead>\n",
       "  <tbody>\n",
       "    <tr>\n",
       "      <th>0</th>\n",
       "      <td>US</td>\n",
       "      <td>79265726</td>\n",
       "      <td>958437</td>\n",
       "      <td>79250509</td>\n",
       "      <td>958144</td>\n",
       "      <td>15217</td>\n",
       "      <td>293</td>\n",
       "      <td>1.21</td>\n",
       "      <td>North America</td>\n",
       "    </tr>\n",
       "    <tr>\n",
       "      <th>1</th>\n",
       "      <td>India</td>\n",
       "      <td>42962953</td>\n",
       "      <td>515036</td>\n",
       "      <td>42957477</td>\n",
       "      <td>514878</td>\n",
       "      <td>5476</td>\n",
       "      <td>158</td>\n",
       "      <td>1.20</td>\n",
       "      <td>Asia</td>\n",
       "    </tr>\n",
       "    <tr>\n",
       "      <th>2</th>\n",
       "      <td>Brazil</td>\n",
       "      <td>29040800</td>\n",
       "      <td>652216</td>\n",
       "      <td>28978052</td>\n",
       "      <td>651522</td>\n",
       "      <td>62748</td>\n",
       "      <td>694</td>\n",
       "      <td>2.25</td>\n",
       "      <td>South America</td>\n",
       "    </tr>\n",
       "    <tr>\n",
       "      <th>3</th>\n",
       "      <td>France</td>\n",
       "      <td>23191580</td>\n",
       "      <td>140264</td>\n",
       "      <td>23137902</td>\n",
       "      <td>140144</td>\n",
       "      <td>53678</td>\n",
       "      <td>120</td>\n",
       "      <td>0.60</td>\n",
       "      <td>Europe</td>\n",
       "    </tr>\n",
       "    <tr>\n",
       "      <th>4</th>\n",
       "      <td>United Kingdom</td>\n",
       "      <td>19256835</td>\n",
       "      <td>162582</td>\n",
       "      <td>19256835</td>\n",
       "      <td>162582</td>\n",
       "      <td>0</td>\n",
       "      <td>0</td>\n",
       "      <td>0.84</td>\n",
       "      <td>Europe</td>\n",
       "    </tr>\n",
       "  </tbody>\n",
       "</table>\n",
       "</div>"
      ],
      "text/plain": [
       "   Country/Region     Cases  Deaths    PCases  PDeaths  Cases (+)  Deaths (+)  \\\n",
       "0              US  79265726  958437  79250509   958144      15217         293   \n",
       "1           India  42962953  515036  42957477   514878       5476         158   \n",
       "2          Brazil  29040800  652216  28978052   651522      62748         694   \n",
       "3          France  23191580  140264  23137902   140144      53678         120   \n",
       "4  United Kingdom  19256835  162582  19256835   162582          0           0   \n",
       "\n",
       "   Fatality Rate      Continent  \n",
       "0           1.21  North America  \n",
       "1           1.20           Asia  \n",
       "2           2.25  South America  \n",
       "3           0.60         Europe  \n",
       "4           0.84         Europe  "
      ]
     },
     "execution_count": 13,
     "metadata": {},
     "output_type": "execute_result"
    }
   ],
   "source": [
    "#hide\n",
    "for c in 'Cases, Deaths'.split(', '):\n",
    "    df_table[f'{c} (+)'] = (df_table[c] - df_table[f'P{c}']).clip(0)\n",
    "    #Clip ça veut dire, les chiffres negatif sont interdit\n",
    "df_table['Fatality Rate'] = (100* df_table['Deaths']/ df_table['Cases']).round(2)\n",
    "df_table['Continent'] = df_table['Country/Region'].map(mapping['map.continent'])\n",
    "df_table.head(5)"
   ]
  },
  {
   "cell_type": "code",
   "execution_count": 14,
   "id": "aboriginal-bulgaria",
   "metadata": {
    "execution": {
     "iopub.execute_input": "2022-03-06T12:13:28.927795Z",
     "iopub.status.busy": "2022-03-06T12:13:28.927160Z",
     "iopub.status.idle": "2022-03-06T12:13:28.929845Z",
     "shell.execute_reply": "2022-03-06T12:13:28.929335Z"
    },
    "papermill": {
     "duration": 0.053626,
     "end_time": "2022-03-06T12:13:28.929980",
     "exception": false,
     "start_time": "2022-03-06T12:13:28.876354",
     "status": "completed"
    },
    "tags": []
   },
   "outputs": [],
   "source": [
    "#hide\n",
    "#delete problematic countries from table\n",
    "df_table = df_table[~df_table['Country/Region'].isin(['Cape Verde', 'Cruise Ship', 'Kosovo'])]"
   ]
  },
  {
   "cell_type": "code",
   "execution_count": 15,
   "id": "fantastic-effect",
   "metadata": {
    "execution": {
     "iopub.execute_input": "2022-03-06T12:13:29.015161Z",
     "iopub.status.busy": "2022-03-06T12:13:29.014347Z",
     "iopub.status.idle": "2022-03-06T12:13:29.039710Z",
     "shell.execute_reply": "2022-03-06T12:13:29.040223Z"
    },
    "papermill": {
     "duration": 0.07163,
     "end_time": "2022-03-06T12:13:29.040382",
     "exception": false,
     "start_time": "2022-03-06T12:13:28.968752",
     "status": "completed"
    },
    "tags": []
   },
   "outputs": [
    {
     "data": {
      "text/html": [
       "<div>\n",
       "<style scoped>\n",
       "    .dataframe tbody tr th:only-of-type {\n",
       "        vertical-align: middle;\n",
       "    }\n",
       "\n",
       "    .dataframe tbody tr th {\n",
       "        vertical-align: top;\n",
       "    }\n",
       "\n",
       "    .dataframe thead th {\n",
       "        text-align: right;\n",
       "    }\n",
       "</style>\n",
       "<table border=\"1\" class=\"dataframe\">\n",
       "  <thead>\n",
       "    <tr style=\"text-align: right;\">\n",
       "      <th></th>\n",
       "      <th>Country/Region</th>\n",
       "      <th>Cases</th>\n",
       "      <th>Deaths</th>\n",
       "      <th>PCases</th>\n",
       "      <th>PDeaths</th>\n",
       "      <th>Cases (+)</th>\n",
       "      <th>Deaths (+)</th>\n",
       "      <th>Fatality Rate</th>\n",
       "      <th>Continent</th>\n",
       "    </tr>\n",
       "  </thead>\n",
       "  <tbody>\n",
       "    <tr>\n",
       "      <th>0</th>\n",
       "      <td>US</td>\n",
       "      <td>79265726</td>\n",
       "      <td>958437</td>\n",
       "      <td>79250509</td>\n",
       "      <td>958144</td>\n",
       "      <td>15217</td>\n",
       "      <td>293</td>\n",
       "      <td>1.2</td>\n",
       "      <td>North America</td>\n",
       "    </tr>\n",
       "    <tr>\n",
       "      <th>1</th>\n",
       "      <td>India</td>\n",
       "      <td>42962953</td>\n",
       "      <td>515036</td>\n",
       "      <td>42957477</td>\n",
       "      <td>514878</td>\n",
       "      <td>5476</td>\n",
       "      <td>158</td>\n",
       "      <td>1.2</td>\n",
       "      <td>Asia</td>\n",
       "    </tr>\n",
       "    <tr>\n",
       "      <th>2</th>\n",
       "      <td>Brazil</td>\n",
       "      <td>29040800</td>\n",
       "      <td>652216</td>\n",
       "      <td>28978052</td>\n",
       "      <td>651522</td>\n",
       "      <td>62748</td>\n",
       "      <td>694</td>\n",
       "      <td>2.2</td>\n",
       "      <td>South America</td>\n",
       "    </tr>\n",
       "    <tr>\n",
       "      <th>3</th>\n",
       "      <td>France</td>\n",
       "      <td>23191580</td>\n",
       "      <td>140264</td>\n",
       "      <td>23137902</td>\n",
       "      <td>140144</td>\n",
       "      <td>53678</td>\n",
       "      <td>120</td>\n",
       "      <td>0.6</td>\n",
       "      <td>Europe</td>\n",
       "    </tr>\n",
       "    <tr>\n",
       "      <th>4</th>\n",
       "      <td>United Kingdom</td>\n",
       "      <td>19256835</td>\n",
       "      <td>162582</td>\n",
       "      <td>19256835</td>\n",
       "      <td>162582</td>\n",
       "      <td>0</td>\n",
       "      <td>0</td>\n",
       "      <td>0.8</td>\n",
       "      <td>Europe</td>\n",
       "    </tr>\n",
       "  </tbody>\n",
       "</table>\n",
       "</div>"
      ],
      "text/plain": [
       "   Country/Region     Cases  Deaths    PCases  PDeaths  Cases (+)  Deaths (+)  \\\n",
       "0              US  79265726  958437  79250509   958144      15217         293   \n",
       "1           India  42962953  515036  42957477   514878       5476         158   \n",
       "2          Brazil  29040800  652216  28978052   651522      62748         694   \n",
       "3          France  23191580  140264  23137902   140144      53678         120   \n",
       "4  United Kingdom  19256835  162582  19256835   162582          0           0   \n",
       "\n",
       "   Fatality Rate      Continent  \n",
       "0            1.2  North America  \n",
       "1            1.2           Asia  \n",
       "2            2.2  South America  \n",
       "3            0.6         Europe  \n",
       "4            0.8         Europe  "
      ]
     },
     "execution_count": 15,
     "metadata": {},
     "output_type": "execute_result"
    }
   ],
   "source": [
    "#hide\n",
    "df_table = (pd.DataFrame(dict(Cases=dfc_cases, Deaths=dfc_deaths, PCases=dfp_cases, PDeaths=dfp_deaths))\n",
    "             .sort_values(by=['Cases', 'Deaths'], ascending=[False, False])\n",
    "             .reset_index())\n",
    "df_table.rename(columns={'index': 'Country/Region'}, inplace=True)\n",
    "for c in 'Cases, Deaths'.split(', '):\n",
    "    df_table[f'{c} (+)'] = (df_table[c] - df_table[f'P{c}']).clip(0)  # DATA BUG\n",
    "df_table['Fatality Rate'] = (100 * df_table['Deaths'] / df_table['Cases']).round(1)\n",
    "df_table['Continent'] = df_table['Country/Region'].map(mapping['map.continent'])\n",
    "df_table.head(5)"
   ]
  },
  {
   "cell_type": "code",
   "execution_count": 16,
   "id": "fewer-occasion",
   "metadata": {
    "execution": {
     "iopub.execute_input": "2022-03-06T12:13:29.127660Z",
     "iopub.status.busy": "2022-03-06T12:13:29.126785Z",
     "iopub.status.idle": "2022-03-06T12:13:29.131082Z",
     "shell.execute_reply": "2022-03-06T12:13:29.131556Z"
    },
    "papermill": {
     "duration": 0.050049,
     "end_time": "2022-03-06T12:13:29.131713",
     "exception": false,
     "start_time": "2022-03-06T12:13:29.081664",
     "status": "completed"
    },
    "tags": []
   },
   "outputs": [],
   "source": [
    "#hide\n",
    "#delete problematic countries from table\n",
    "df_table = df_table[~df_table['Country/Region'].isin(['Cape Verde', 'Cruise Ship', 'Kosovo'])]"
   ]
  },
  {
   "cell_type": "code",
   "execution_count": 17,
   "id": "related-center",
   "metadata": {
    "execution": {
     "iopub.execute_input": "2022-03-06T12:13:29.231987Z",
     "iopub.status.busy": "2022-03-06T12:13:29.231326Z",
     "iopub.status.idle": "2022-03-06T12:13:29.233293Z",
     "shell.execute_reply": "2022-03-06T12:13:29.233768Z"
    },
    "papermill": {
     "duration": 0.066059,
     "end_time": "2022-03-06T12:13:29.233925",
     "exception": false,
     "start_time": "2022-03-06T12:13:29.167866",
     "status": "completed"
    },
    "tags": []
   },
   "outputs": [],
   "source": [
    "#hide\n",
    "metrics = [df_table.columns[index] for index in [1,2,5,6]]\n",
    "# s_china = df_table[df_table['Country/Region'].eq('China')][metrics].sum().add_prefix('China ')\n",
    "s_us = df_table[df_table['Country/Region'].eq('US')][metrics].sum().add_prefix('US ')\n",
    "s_eu = df_table[df_table['Continent'].eq('Europe')][metrics].sum().add_prefix('EU ')\n",
    "s_ind = df_table[df_table['Country/Region'].eq('India')][metrics].sum().add_prefix('India ')\n",
    "summary = {'updated': pd.to_datetime(dt_today), 'since': pd.to_datetime(dt_yday)}\n",
    "summary = {'updated': pd.to_datetime(dt_today), 'since': pd.to_datetime(dt_yday)}\n",
    "summary = {**summary, **df_table[metrics].sum(), **s_ind, **s_us, **s_eu}"
   ]
  },
  {
   "cell_type": "code",
   "execution_count": 18,
   "id": "engaging-syndrome",
   "metadata": {
    "execution": {
     "iopub.execute_input": "2022-03-06T12:13:29.314608Z",
     "iopub.status.busy": "2022-03-06T12:13:29.313974Z",
     "iopub.status.idle": "2022-03-06T12:13:29.331459Z",
     "shell.execute_reply": "2022-03-06T12:13:29.332406Z"
    },
    "papermill": {
     "duration": 0.061838,
     "end_time": "2022-03-06T12:13:29.332577",
     "exception": false,
     "start_time": "2022-03-06T12:13:29.270739",
     "status": "completed"
    },
    "tags": []
   },
   "outputs": [],
   "source": [
    "#hide\n",
    "dft_ct_new_cases = dft_cases.groupby(COL_REGION)[dt_cols].sum().diff(axis=1).fillna(0).astype(int)"
   ]
  },
  {
   "cell_type": "code",
   "execution_count": 19,
   "id": "neutral-assignment",
   "metadata": {
    "execution": {
     "iopub.execute_input": "2022-03-06T12:13:29.417626Z",
     "iopub.status.busy": "2022-03-06T12:13:29.416919Z",
     "iopub.status.idle": "2022-03-06T12:13:29.420261Z",
     "shell.execute_reply": "2022-03-06T12:13:29.419761Z"
    },
    "papermill": {
     "duration": 0.050658,
     "end_time": "2022-03-06T12:13:29.420393",
     "exception": false,
     "start_time": "2022-03-06T12:13:29.369735",
     "status": "completed"
    },
    "tags": []
   },
   "outputs": [],
   "source": [
    "#hide\n",
    "everydaycases = dft_ct_new_cases.cumsum(axis=1)"
   ]
  },
  {
   "cell_type": "code",
   "execution_count": 20,
   "id": "parliamentary-calgary",
   "metadata": {
    "execution": {
     "iopub.execute_input": "2022-03-06T12:13:29.502139Z",
     "iopub.status.busy": "2022-03-06T12:13:29.501286Z",
     "iopub.status.idle": "2022-03-06T12:13:30.346000Z",
     "shell.execute_reply": "2022-03-06T12:13:30.345430Z"
    },
    "papermill": {
     "duration": 0.888148,
     "end_time": "2022-03-06T12:13:30.346145",
     "exception": false,
     "start_time": "2022-03-06T12:13:29.457997",
     "status": "completed"
    },
    "tags": []
   },
   "outputs": [],
   "source": [
    "#hide\n",
    "import pandas as pd\n",
    "import matplotlib.pyplot as plt\n",
    "import matplotlib.ticker as ticker\n",
    "import matplotlib.animation as animation\n",
    "from IPython.display import HTML"
   ]
  },
  {
   "cell_type": "code",
   "execution_count": 21,
   "id": "lasting-extraction",
   "metadata": {
    "execution": {
     "iopub.execute_input": "2022-03-06T12:13:30.428212Z",
     "iopub.status.busy": "2022-03-06T12:13:30.427549Z",
     "iopub.status.idle": "2022-03-06T12:13:30.434828Z",
     "shell.execute_reply": "2022-03-06T12:13:30.434283Z"
    },
    "papermill": {
     "duration": 0.051994,
     "end_time": "2022-03-06T12:13:30.434960",
     "exception": false,
     "start_time": "2022-03-06T12:13:30.382966",
     "status": "completed"
    },
    "tags": []
   },
   "outputs": [],
   "source": [
    "#hide\n",
    "t = everydaycases.stack()"
   ]
  },
  {
   "cell_type": "code",
   "execution_count": 22,
   "id": "premier-sleeve",
   "metadata": {
    "execution": {
     "iopub.execute_input": "2022-03-06T12:13:30.513626Z",
     "iopub.status.busy": "2022-03-06T12:13:30.512967Z",
     "iopub.status.idle": "2022-03-06T12:13:30.525245Z",
     "shell.execute_reply": "2022-03-06T12:13:30.524711Z"
    },
    "papermill": {
     "duration": 0.054261,
     "end_time": "2022-03-06T12:13:30.525386",
     "exception": false,
     "start_time": "2022-03-06T12:13:30.471125",
     "status": "completed"
    },
    "tags": []
   },
   "outputs": [],
   "source": [
    "#hide\n",
    "g = t.reset_index(['Country/Region'])"
   ]
  },
  {
   "cell_type": "code",
   "execution_count": 23,
   "id": "distributed-pittsburgh",
   "metadata": {
    "execution": {
     "iopub.execute_input": "2022-03-06T12:13:30.602807Z",
     "iopub.status.busy": "2022-03-06T12:13:30.602151Z",
     "iopub.status.idle": "2022-03-06T12:13:30.606913Z",
     "shell.execute_reply": "2022-03-06T12:13:30.606406Z"
    },
    "papermill": {
     "duration": 0.04537,
     "end_time": "2022-03-06T12:13:30.607046",
     "exception": false,
     "start_time": "2022-03-06T12:13:30.561676",
     "status": "completed"
    },
    "tags": []
   },
   "outputs": [],
   "source": [
    "#hide\n",
    "g.index.name = 'date'"
   ]
  },
  {
   "cell_type": "code",
   "execution_count": 24,
   "id": "naked-donor",
   "metadata": {
    "execution": {
     "iopub.execute_input": "2022-03-06T12:13:30.692048Z",
     "iopub.status.busy": "2022-03-06T12:13:30.691387Z",
     "iopub.status.idle": "2022-03-06T12:13:30.693800Z",
     "shell.execute_reply": "2022-03-06T12:13:30.693288Z"
    },
    "papermill": {
     "duration": 0.043394,
     "end_time": "2022-03-06T12:13:30.693936",
     "exception": false,
     "start_time": "2022-03-06T12:13:30.650542",
     "status": "completed"
    },
    "tags": []
   },
   "outputs": [],
   "source": [
    "# #hide\n",
    "# g = g.reset_index(['date'])"
   ]
  },
  {
   "cell_type": "code",
   "execution_count": 25,
   "id": "incomplete-mustang",
   "metadata": {
    "execution": {
     "iopub.execute_input": "2022-03-06T12:13:30.771074Z",
     "iopub.status.busy": "2022-03-06T12:13:30.770377Z",
     "iopub.status.idle": "2022-03-06T12:13:30.772118Z",
     "shell.execute_reply": "2022-03-06T12:13:30.772596Z"
    },
    "papermill": {
     "duration": 0.042556,
     "end_time": "2022-03-06T12:13:30.772752",
     "exception": false,
     "start_time": "2022-03-06T12:13:30.730196",
     "status": "completed"
    },
    "tags": []
   },
   "outputs": [],
   "source": [
    "#hide\n",
    "# g.head()"
   ]
  },
  {
   "cell_type": "code",
   "execution_count": 26,
   "id": "specific-kruger",
   "metadata": {
    "execution": {
     "iopub.execute_input": "2022-03-06T12:13:30.857334Z",
     "iopub.status.busy": "2022-03-06T12:13:30.856661Z",
     "iopub.status.idle": "2022-03-06T12:13:30.858659Z",
     "shell.execute_reply": "2022-03-06T12:13:30.859134Z"
    },
    "papermill": {
     "duration": 0.04513,
     "end_time": "2022-03-06T12:13:30.859291",
     "exception": false,
     "start_time": "2022-03-06T12:13:30.814161",
     "status": "completed"
    },
    "tags": []
   },
   "outputs": [],
   "source": [
    "#hide\n",
    "# g.columns = ['date','country','cases']"
   ]
  },
  {
   "cell_type": "code",
   "execution_count": 27,
   "id": "tender-conversion",
   "metadata": {
    "execution": {
     "iopub.execute_input": "2022-03-06T12:13:30.944559Z",
     "iopub.status.busy": "2022-03-06T12:13:30.943621Z",
     "iopub.status.idle": "2022-03-06T12:13:30.948471Z",
     "shell.execute_reply": "2022-03-06T12:13:30.948966Z"
    },
    "papermill": {
     "duration": 0.048217,
     "end_time": "2022-03-06T12:13:30.949128",
     "exception": false,
     "start_time": "2022-03-06T12:13:30.900911",
     "status": "completed"
    },
    "tags": []
   },
   "outputs": [],
   "source": [
    "#hide\n",
    "# g['continent'] = g.country"
   ]
  },
  {
   "cell_type": "code",
   "execution_count": 28,
   "id": "substantial-wilderness",
   "metadata": {
    "execution": {
     "iopub.execute_input": "2022-03-06T12:13:31.028503Z",
     "iopub.status.busy": "2022-03-06T12:13:31.027821Z",
     "iopub.status.idle": "2022-03-06T12:13:31.029804Z",
     "shell.execute_reply": "2022-03-06T12:13:31.029187Z"
    },
    "papermill": {
     "duration": 0.042816,
     "end_time": "2022-03-06T12:13:31.029941",
     "exception": false,
     "start_time": "2022-03-06T12:13:30.987125",
     "status": "completed"
    },
    "tags": []
   },
   "outputs": [],
   "source": [
    "#hide\n",
    "# cols = list(g.columns.values)"
   ]
  },
  {
   "cell_type": "code",
   "execution_count": 29,
   "id": "solved-farming",
   "metadata": {
    "execution": {
     "iopub.execute_input": "2022-03-06T12:13:31.110046Z",
     "iopub.status.busy": "2022-03-06T12:13:31.109374Z",
     "iopub.status.idle": "2022-03-06T12:13:31.112321Z",
     "shell.execute_reply": "2022-03-06T12:13:31.111816Z"
    },
    "papermill": {
     "duration": 0.045594,
     "end_time": "2022-03-06T12:13:31.112457",
     "exception": false,
     "start_time": "2022-03-06T12:13:31.066863",
     "status": "completed"
    },
    "tags": []
   },
   "outputs": [],
   "source": [
    "#hide\n",
    "# cols.insert(0, cols.pop())"
   ]
  },
  {
   "cell_type": "code",
   "execution_count": 30,
   "id": "executed-adoption",
   "metadata": {
    "execution": {
     "iopub.execute_input": "2022-03-06T12:13:31.196268Z",
     "iopub.status.busy": "2022-03-06T12:13:31.195552Z",
     "iopub.status.idle": "2022-03-06T12:13:31.197258Z",
     "shell.execute_reply": "2022-03-06T12:13:31.197899Z"
    },
    "papermill": {
     "duration": 0.044134,
     "end_time": "2022-03-06T12:13:31.198057",
     "exception": false,
     "start_time": "2022-03-06T12:13:31.153923",
     "status": "completed"
    },
    "tags": []
   },
   "outputs": [],
   "source": [
    "#hide\n",
    "# g = g[cols]"
   ]
  },
  {
   "cell_type": "code",
   "execution_count": 31,
   "id": "subject-dublin",
   "metadata": {
    "execution": {
     "iopub.execute_input": "2022-03-06T12:13:31.284685Z",
     "iopub.status.busy": "2022-03-06T12:13:31.284026Z",
     "iopub.status.idle": "2022-03-06T12:13:31.287796Z",
     "shell.execute_reply": "2022-03-06T12:13:31.288272Z"
    },
    "papermill": {
     "duration": 0.046195,
     "end_time": "2022-03-06T12:13:31.288429",
     "exception": false,
     "start_time": "2022-03-06T12:13:31.242234",
     "status": "completed"
    },
    "tags": []
   },
   "outputs": [],
   "source": [
    "#hide\n",
    "# g['continent'] = g['continent'].map(mapping['map.continent'])"
   ]
  },
  {
   "cell_type": "code",
   "execution_count": 32,
   "id": "freelance-scout",
   "metadata": {
    "execution": {
     "iopub.execute_input": "2022-03-06T12:13:31.369871Z",
     "iopub.status.busy": "2022-03-06T12:13:31.368718Z",
     "iopub.status.idle": "2022-03-06T12:13:31.373535Z",
     "shell.execute_reply": "2022-03-06T12:13:31.374039Z"
    },
    "papermill": {
     "duration": 0.047669,
     "end_time": "2022-03-06T12:13:31.374193",
     "exception": false,
     "start_time": "2022-03-06T12:13:31.326524",
     "status": "completed"
    },
    "tags": []
   },
   "outputs": [],
   "source": [
    "#hide\n",
    "# g.head()"
   ]
  },
  {
   "cell_type": "code",
   "execution_count": 33,
   "id": "limited-engine",
   "metadata": {
    "execution": {
     "iopub.execute_input": "2022-03-06T12:13:31.454571Z",
     "iopub.status.busy": "2022-03-06T12:13:31.453909Z",
     "iopub.status.idle": "2022-03-06T12:13:31.456642Z",
     "shell.execute_reply": "2022-03-06T12:13:31.456100Z"
    },
    "papermill": {
     "duration": 0.045479,
     "end_time": "2022-03-06T12:13:31.456776",
     "exception": false,
     "start_time": "2022-03-06T12:13:31.411297",
     "status": "completed"
    },
    "tags": []
   },
   "outputs": [],
   "source": [
    "# hide\n",
    "# g['date'] = g['date'].astype('datetime64[ns]')"
   ]
  },
  {
   "cell_type": "code",
   "execution_count": 34,
   "id": "sophisticated-supervisor",
   "metadata": {
    "execution": {
     "iopub.execute_input": "2022-03-06T12:13:31.536743Z",
     "iopub.status.busy": "2022-03-06T12:13:31.536078Z",
     "iopub.status.idle": "2022-03-06T12:13:31.537747Z",
     "shell.execute_reply": "2022-03-06T12:13:31.538247Z"
    },
    "papermill": {
     "duration": 0.043909,
     "end_time": "2022-03-06T12:13:31.538398",
     "exception": false,
     "start_time": "2022-03-06T12:13:31.494489",
     "status": "completed"
    },
    "tags": []
   },
   "outputs": [],
   "source": [
    "#hide\n",
    "# g['date'] = g.date.dt.dayofyear"
   ]
  },
  {
   "cell_type": "code",
   "execution_count": 35,
   "id": "inside-dubai",
   "metadata": {
    "execution": {
     "iopub.execute_input": "2022-03-06T12:13:31.618313Z",
     "iopub.status.busy": "2022-03-06T12:13:31.617666Z",
     "iopub.status.idle": "2022-03-06T12:13:31.620275Z",
     "shell.execute_reply": "2022-03-06T12:13:31.619773Z"
    },
    "papermill": {
     "duration": 0.044872,
     "end_time": "2022-03-06T12:13:31.620412",
     "exception": false,
     "start_time": "2022-03-06T12:13:31.575540",
     "status": "completed"
    },
    "tags": []
   },
   "outputs": [],
   "source": [
    "#hide\n",
    "# g = g.rename(columns= {'continent':'group','country':'name','cases':'value'})"
   ]
  },
  {
   "cell_type": "code",
   "execution_count": 36,
   "id": "fleet-motorcycle",
   "metadata": {
    "execution": {
     "iopub.execute_input": "2022-03-06T12:13:31.701031Z",
     "iopub.status.busy": "2022-03-06T12:13:31.700339Z",
     "iopub.status.idle": "2022-03-06T12:13:31.702091Z",
     "shell.execute_reply": "2022-03-06T12:13:31.702639Z"
    },
    "papermill": {
     "duration": 0.043423,
     "end_time": "2022-03-06T12:13:31.702790",
     "exception": false,
     "start_time": "2022-03-06T12:13:31.659367",
     "status": "completed"
    },
    "tags": []
   },
   "outputs": [],
   "source": [
    "#hide\n",
    "# cols = ['name','group','day','value']"
   ]
  },
  {
   "cell_type": "code",
   "execution_count": 37,
   "id": "continued-sleeping",
   "metadata": {
    "execution": {
     "iopub.execute_input": "2022-03-06T12:13:31.783079Z",
     "iopub.status.busy": "2022-03-06T12:13:31.782324Z",
     "iopub.status.idle": "2022-03-06T12:13:31.786172Z",
     "shell.execute_reply": "2022-03-06T12:13:31.786688Z"
    },
    "papermill": {
     "duration": 0.04714,
     "end_time": "2022-03-06T12:13:31.786848",
     "exception": false,
     "start_time": "2022-03-06T12:13:31.739708",
     "status": "completed"
    },
    "tags": []
   },
   "outputs": [],
   "source": [
    "#hide\n",
    "# g.rename(columns= {'date':'day'},inplace = True)"
   ]
  },
  {
   "cell_type": "code",
   "execution_count": 38,
   "id": "major-fight",
   "metadata": {
    "execution": {
     "iopub.execute_input": "2022-03-06T12:13:31.866544Z",
     "iopub.status.busy": "2022-03-06T12:13:31.865909Z",
     "iopub.status.idle": "2022-03-06T12:13:31.868492Z",
     "shell.execute_reply": "2022-03-06T12:13:31.869014Z"
    },
    "papermill": {
     "duration": 0.045087,
     "end_time": "2022-03-06T12:13:31.869168",
     "exception": false,
     "start_time": "2022-03-06T12:13:31.824081",
     "status": "completed"
    },
    "tags": []
   },
   "outputs": [],
   "source": [
    "#hide\n",
    "# g = g[cols]"
   ]
  },
  {
   "cell_type": "code",
   "execution_count": 39,
   "id": "structured-mobile",
   "metadata": {
    "execution": {
     "iopub.execute_input": "2022-03-06T12:13:31.951344Z",
     "iopub.status.busy": "2022-03-06T12:13:31.950276Z",
     "iopub.status.idle": "2022-03-06T12:13:31.955290Z",
     "shell.execute_reply": "2022-03-06T12:13:31.954477Z"
    },
    "papermill": {
     "duration": 0.047565,
     "end_time": "2022-03-06T12:13:31.955434",
     "exception": false,
     "start_time": "2022-03-06T12:13:31.907869",
     "status": "completed"
    },
    "tags": []
   },
   "outputs": [],
   "source": [
    "# #hide\n",
    "# g = g[g.group.notna()]"
   ]
  },
  {
   "cell_type": "code",
   "execution_count": 40,
   "id": "determined-closing",
   "metadata": {
    "execution": {
     "iopub.execute_input": "2022-03-06T12:13:32.034609Z",
     "iopub.status.busy": "2022-03-06T12:13:32.033926Z",
     "iopub.status.idle": "2022-03-06T12:13:32.036387Z",
     "shell.execute_reply": "2022-03-06T12:13:32.035865Z"
    },
    "papermill": {
     "duration": 0.044458,
     "end_time": "2022-03-06T12:13:32.036523",
     "exception": false,
     "start_time": "2022-03-06T12:13:31.992065",
     "status": "completed"
    },
    "tags": []
   },
   "outputs": [],
   "source": [
    "# #hide\n",
    "# colors = dict(zip(\n",
    "#     [\"Oceania\", \"Europe\", \"Asia\", \"South America\", \"Middle East\", \"North America\", \"Africa\"],\n",
    "#     [\"#adb0ff\", \"#ffb3ff\", \"#90d595\", \"#e48381\", \"#aafbff\", \"#f7bb5f\", \"#eafb50\"]\n",
    "# ))\n",
    "# group_lk = g.set_index('name')['group'].to_dict()"
   ]
  },
  {
   "cell_type": "code",
   "execution_count": null,
   "id": "gross-drinking",
   "metadata": {
    "papermill": {
     "duration": 0.036019,
     "end_time": "2022-03-06T12:13:32.115130",
     "exception": false,
     "start_time": "2022-03-06T12:13:32.079111",
     "status": "completed"
    },
    "tags": []
   },
   "outputs": [],
   "source": []
  },
  {
   "cell_type": "code",
   "execution_count": 41,
   "id": "subject-macintosh",
   "metadata": {
    "execution": {
     "iopub.execute_input": "2022-03-06T12:13:32.192717Z",
     "iopub.status.busy": "2022-03-06T12:13:32.192066Z",
     "iopub.status.idle": "2022-03-06T12:13:32.194665Z",
     "shell.execute_reply": "2022-03-06T12:13:32.195166Z"
    },
    "papermill": {
     "duration": 0.044206,
     "end_time": "2022-03-06T12:13:32.195316",
     "exception": false,
     "start_time": "2022-03-06T12:13:32.151110",
     "status": "completed"
    },
    "tags": []
   },
   "outputs": [],
   "source": [
    "# #hide\n",
    "# fig, ax = plt.subplots(figsize=(15, 8))\n",
    "\n",
    "# def draw_barchart(current_day):\n",
    "#     dff = g[g['day'].eq(current_day)].sort_values(by='value', ascending=True).tail(10)\n",
    "#     ax.clear()\n",
    "#     ax.barh(dff['name'], dff['value'], color=[colors[group_lk[x]] for x in dff['name']])\n",
    "#     dx = dff['value'].max() / 200\n",
    "    \n",
    "#     for i, (value, name) in enumerate(zip(dff['value'], dff['name'])):\n",
    "#         ax.text(value-dx, i,     name,           size=14, weight=600, ha='right', va='bottom')\n",
    "#         ax.text(value-dx, i-.25, group_lk[name], size=10, color='#444444', ha='right', va='baseline')\n",
    "#         ax.text(value+dx, i,     f'{value:,.0f}',  size=14, ha='left',  va='center')\n",
    "#     ax.text(1, 0.4, current_day, transform=ax.transAxes, color='#777777', size=46, ha='right', weight=800)\n",
    "#     ax.text(0, 1.06, 'Population (thousands)', transform=ax.transAxes, size=12, color='#777777')\n",
    "#     ax.xaxis.set_major_formatter(ticker.StrMethodFormatter('{x:,.0f}'))\n",
    "#     ax.xaxis.set_ticks_position('top')\n",
    "#     ax.tick_params(axis='x', colors='#777777', labelsize=12)\n",
    "#     ax.set_yticks([])\n",
    "#     ax.margins(0, 0.01)\n",
    "#     ax.grid(which='major', axis='x', linestyle='-')\n",
    "#     ax.set_axisbelow(True)\n",
    "    \n",
    "#     ax.text(0, 1.15, 'Coronavirus',\n",
    "#             transform=ax.transAxes, size=24, weight=600, ha='left', va='top')\n",
    "# #     ax.text(1, 0, 'by @pratapvardhan; credit @jburnmurdoch', transform=ax.transAxes, color='#777777', ha='right',\n",
    "# #             bbox=dict(facecolor='white', alpha=0.8, edgecolor='white'))\n",
    "#     plt.box(False)"
   ]
  },
  {
   "cell_type": "code",
   "execution_count": 42,
   "id": "sexual-wages",
   "metadata": {
    "execution": {
     "iopub.execute_input": "2022-03-06T12:13:32.271611Z",
     "iopub.status.busy": "2022-03-06T12:13:32.270926Z",
     "iopub.status.idle": "2022-03-06T12:13:32.275732Z",
     "shell.execute_reply": "2022-03-06T12:13:32.274912Z"
    },
    "papermill": {
     "duration": 0.044948,
     "end_time": "2022-03-06T12:13:32.275974",
     "exception": false,
     "start_time": "2022-03-06T12:13:32.231026",
     "status": "completed"
    },
    "tags": []
   },
   "outputs": [],
   "source": [
    "# #hide_input\n",
    "# fig, ax = plt.subplots(figsize=(15, 8))\n",
    "# animator = animation.FuncAnimation(fig, draw_barchart, frames=range(g.day.values.min(), g.day.values.max()))\n",
    "# HTML(animator.to_jshtml())\n",
    "# # or use animator.to_html5_video() or animator.save() "
   ]
  },
  {
   "cell_type": "code",
   "execution_count": null,
   "id": "australian-container",
   "metadata": {
    "papermill": {
     "duration": 0.039828,
     "end_time": "2022-03-06T12:13:32.353401",
     "exception": false,
     "start_time": "2022-03-06T12:13:32.313573",
     "status": "completed"
    },
    "tags": []
   },
   "outputs": [],
   "source": []
  },
  {
   "cell_type": "code",
   "execution_count": null,
   "id": "mediterranean-pontiac",
   "metadata": {
    "papermill": {
     "duration": 0.03756,
     "end_time": "2022-03-06T12:13:32.427654",
     "exception": false,
     "start_time": "2022-03-06T12:13:32.390094",
     "status": "completed"
    },
    "tags": []
   },
   "outputs": [],
   "source": []
  },
  {
   "cell_type": "code",
   "execution_count": null,
   "id": "aging-legislature",
   "metadata": {
    "papermill": {
     "duration": 0.036478,
     "end_time": "2022-03-06T12:13:32.504269",
     "exception": false,
     "start_time": "2022-03-06T12:13:32.467791",
     "status": "completed"
    },
    "tags": []
   },
   "outputs": [],
   "source": []
  }
 ],
 "metadata": {
  "kernelspec": {
   "display_name": "Python 3",
   "language": "python",
   "name": "python3"
  },
  "language_info": {
   "codemirror_mode": {
    "name": "ipython",
    "version": 3
   },
   "file_extension": ".py",
   "mimetype": "text/x-python",
   "name": "python",
   "nbconvert_exporter": "python",
   "pygments_lexer": "ipython3",
   "version": "3.6.15"
  },
  "papermill": {
   "duration": 7.435133,
   "end_time": "2022-03-06T12:13:32.963599",
   "environment_variables": {},
   "exception": null,
   "input_path": "2020-03-21-covid19exp.ipynb",
   "output_path": "2020-03-21-covid19exp.ipynb",
   "parameters": {},
   "start_time": "2022-03-06T12:13:25.528466",
   "version": "2.0.0"
  }
 },
 "nbformat": 4,
 "nbformat_minor": 5
}