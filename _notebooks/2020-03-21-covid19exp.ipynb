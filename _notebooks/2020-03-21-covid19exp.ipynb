{
 "cells": [
  {
   "cell_type": "markdown",
   "metadata": {
    "papermill": {
     "duration": 0.033676,
     "end_time": "2020-12-28T12:08:03.361377",
     "exception": false,
     "start_time": "2020-12-28T12:08:03.327701",
     "status": "completed"
    },
    "tags": []
   },
   "source": [
    "# COVID-19 Case Race\n",
    "> A race chart to see rising cases around the world\n",
    "\n",
    "- author: Hargun Oberoi\n",
    "- image: images/covid-overview.png\n",
    "- hide: false\n",
    "- badges: false"
   ]
  },
  {
   "cell_type": "code",
   "execution_count": 1,
   "metadata": {
    "execution": {
     "iopub.execute_input": "2020-12-28T12:08:03.433468Z",
     "iopub.status.busy": "2020-12-28T12:08:03.432851Z",
     "iopub.status.idle": "2020-12-28T12:08:03.766591Z",
     "shell.execute_reply": "2020-12-28T12:08:03.765555Z"
    },
    "papermill": {
     "duration": 0.375042,
     "end_time": "2020-12-28T12:08:03.766767",
     "exception": false,
     "start_time": "2020-12-28T12:08:03.391725",
     "status": "completed"
    },
    "tags": []
   },
   "outputs": [],
   "source": [
    "#hide\n",
    "import numpy as np\n",
    "import pandas as pd\n",
    "from jinja2 import Template\n",
    "from IPython.display import HTML"
   ]
  },
  {
   "cell_type": "code",
   "execution_count": 2,
   "metadata": {
    "execution": {
     "iopub.execute_input": "2020-12-28T12:08:03.835849Z",
     "iopub.status.busy": "2020-12-28T12:08:03.835205Z",
     "iopub.status.idle": "2020-12-28T12:08:03.838544Z",
     "shell.execute_reply": "2020-12-28T12:08:03.838013Z"
    },
    "papermill": {
     "duration": 0.040368,
     "end_time": "2020-12-28T12:08:03.838674",
     "exception": false,
     "start_time": "2020-12-28T12:08:03.798306",
     "status": "completed"
    },
    "tags": []
   },
   "outputs": [],
   "source": [
    "#hide\n",
    "\n",
    "# FETCH\n",
    "base_url = 'https://raw.githubusercontent.com/pratapvardhan/notebooks/master/covid19/'\n",
    "paths = {\n",
    "    'mapping': base_url + 'mapping_countries.csv',\n",
    "    'overview': base_url + 'overview.tpl'\n",
    "}"
   ]
  },
  {
   "cell_type": "code",
   "execution_count": 3,
   "metadata": {
    "execution": {
     "iopub.execute_input": "2020-12-28T12:08:03.912056Z",
     "iopub.status.busy": "2020-12-28T12:08:03.911410Z",
     "iopub.status.idle": "2020-12-28T12:08:03.913624Z",
     "shell.execute_reply": "2020-12-28T12:08:03.914186Z"
    },
    "papermill": {
     "duration": 0.045738,
     "end_time": "2020-12-28T12:08:03.914332",
     "exception": false,
     "start_time": "2020-12-28T12:08:03.868594",
     "status": "completed"
    },
    "tags": []
   },
   "outputs": [
    {
     "data": {
      "text/plain": [
       "'https://raw.githubusercontent.com/pratapvardhan/notebooks/master/covid19/mapping_countries.csv'"
      ]
     },
     "execution_count": 3,
     "metadata": {},
     "output_type": "execute_result"
    }
   ],
   "source": [
    "#hide\n",
    "paths['mapping']"
   ]
  },
  {
   "cell_type": "code",
   "execution_count": 4,
   "metadata": {
    "execution": {
     "iopub.execute_input": "2020-12-28T12:08:03.993125Z",
     "iopub.status.busy": "2020-12-28T12:08:03.992498Z",
     "iopub.status.idle": "2020-12-28T12:08:03.994244Z",
     "shell.execute_reply": "2020-12-28T12:08:03.994722Z"
    },
    "papermill": {
     "duration": 0.041048,
     "end_time": "2020-12-28T12:08:03.994873",
     "exception": false,
     "start_time": "2020-12-28T12:08:03.953825",
     "status": "completed"
    },
    "tags": []
   },
   "outputs": [],
   "source": [
    "#hide\n",
    "def get_mappings(url):\n",
    "    df = pd.read_csv(url)\n",
    "    return {\n",
    "        'df': df,\n",
    "        'replace.country': dict(df.dropna(subset=['Name']).set_index('Country')['Name']),\n",
    "        'map.continent': dict(df.set_index('Name')['Continent'])\n",
    "    }"
   ]
  },
  {
   "cell_type": "code",
   "execution_count": 5,
   "metadata": {
    "execution": {
     "iopub.execute_input": "2020-12-28T12:08:04.063867Z",
     "iopub.status.busy": "2020-12-28T12:08:04.063189Z",
     "iopub.status.idle": "2020-12-28T12:08:04.120572Z",
     "shell.execute_reply": "2020-12-28T12:08:04.120007Z"
    },
    "papermill": {
     "duration": 0.094921,
     "end_time": "2020-12-28T12:08:04.120713",
     "exception": false,
     "start_time": "2020-12-28T12:08:04.025792",
     "status": "completed"
    },
    "tags": []
   },
   "outputs": [],
   "source": [
    "#hide\n",
    "mapping = get_mappings(paths['mapping'])"
   ]
  },
  {
   "cell_type": "code",
   "execution_count": 6,
   "metadata": {
    "execution": {
     "iopub.execute_input": "2020-12-28T12:08:04.187454Z",
     "iopub.status.busy": "2020-12-28T12:08:04.186848Z",
     "iopub.status.idle": "2020-12-28T12:08:04.189272Z",
     "shell.execute_reply": "2020-12-28T12:08:04.189833Z"
    },
    "papermill": {
     "duration": 0.039517,
     "end_time": "2020-12-28T12:08:04.189972",
     "exception": false,
     "start_time": "2020-12-28T12:08:04.150455",
     "status": "completed"
    },
    "tags": []
   },
   "outputs": [],
   "source": [
    "#hide\n",
    "def get_template(path):\n",
    "    from urllib.parse import urlparse\n",
    "    if bool(urlparse(path).netloc):\n",
    "        from urllib.request import urlopen\n",
    "        return urlopen(path).read().decode('utf8')\n",
    "    return open(path).read()"
   ]
  },
  {
   "cell_type": "code",
   "execution_count": 7,
   "metadata": {
    "execution": {
     "iopub.execute_input": "2020-12-28T12:08:04.253825Z",
     "iopub.status.busy": "2020-12-28T12:08:04.253232Z",
     "iopub.status.idle": "2020-12-28T12:08:04.255458Z",
     "shell.execute_reply": "2020-12-28T12:08:04.256040Z"
    },
    "papermill": {
     "duration": 0.036761,
     "end_time": "2020-12-28T12:08:04.256180",
     "exception": false,
     "start_time": "2020-12-28T12:08:04.219419",
     "status": "completed"
    },
    "tags": []
   },
   "outputs": [],
   "source": [
    "#hide\n",
    "def get_frame(name):\n",
    "    url = (\n",
    "        'https://raw.githubusercontent.com/CSSEGISandData/COVID-19/master/csse_covid_19_data/'\n",
    "        f'csse_covid_19_time_series/time_series_covid19_{name}_global.csv')\n",
    "    df = pd.read_csv(url)\n",
    "    # rename countries\n",
    "    df['Country/Region'] = df['Country/Region'].replace(mapping['replace.country'])\n",
    "    return df"
   ]
  },
  {
   "cell_type": "code",
   "execution_count": 8,
   "metadata": {
    "execution": {
     "iopub.execute_input": "2020-12-28T12:08:04.321103Z",
     "iopub.status.busy": "2020-12-28T12:08:04.320520Z",
     "iopub.status.idle": "2020-12-28T12:08:04.322883Z",
     "shell.execute_reply": "2020-12-28T12:08:04.323320Z"
    },
    "papermill": {
     "duration": 0.037643,
     "end_time": "2020-12-28T12:08:04.323451",
     "exception": false,
     "start_time": "2020-12-28T12:08:04.285808",
     "status": "completed"
    },
    "tags": []
   },
   "outputs": [],
   "source": [
    "#hide\n",
    "def get_dates(df):\n",
    "    dt_cols = df.columns[~df.columns.isin(['Province/State', 'Country/Region', 'Lat', 'Long'])]\n",
    "    LAST_DATE_I = -1\n",
    "    # sometimes last column may be empty, then go backwards\n",
    "    for i in range(-1, -len(dt_cols), -1):\n",
    "        if not df[dt_cols[i]].fillna(0).eq(0).all():\n",
    "            LAST_DATE_I = i\n",
    "            break\n",
    "    return LAST_DATE_I, dt_cols"
   ]
  },
  {
   "cell_type": "code",
   "execution_count": 9,
   "metadata": {
    "execution": {
     "iopub.execute_input": "2020-12-28T12:08:04.387749Z",
     "iopub.status.busy": "2020-12-28T12:08:04.386685Z",
     "iopub.status.idle": "2020-12-28T12:08:04.719768Z",
     "shell.execute_reply": "2020-12-28T12:08:04.719216Z"
    },
    "papermill": {
     "duration": 0.367526,
     "end_time": "2020-12-28T12:08:04.719907",
     "exception": false,
     "start_time": "2020-12-28T12:08:04.352381",
     "status": "completed"
    },
    "tags": []
   },
   "outputs": [],
   "source": [
    "#hide\n",
    "COL_REGION = 'Country/Region'\n",
    "# Confirmed, Recovered, Deaths\n",
    "df = get_frame('confirmed')\n",
    "# dft_: timeseries, dfc_: today country agg\n",
    "dft_cases = df\n",
    "dft_deaths = get_frame('deaths')\n",
    "dft_recovered = get_frame('recovered')\n",
    "LAST_DATE_I, dt_cols = get_dates(df)"
   ]
  },
  {
   "cell_type": "code",
   "execution_count": 10,
   "metadata": {
    "execution": {
     "iopub.execute_input": "2020-12-28T12:08:04.785490Z",
     "iopub.status.busy": "2020-12-28T12:08:04.784902Z",
     "iopub.status.idle": "2020-12-28T12:08:04.787784Z",
     "shell.execute_reply": "2020-12-28T12:08:04.788300Z"
    },
    "papermill": {
     "duration": 0.039186,
     "end_time": "2020-12-28T12:08:04.788440",
     "exception": false,
     "start_time": "2020-12-28T12:08:04.749254",
     "status": "completed"
    },
    "tags": []
   },
   "outputs": [],
   "source": [
    "#hide\n",
    "LAST_DATE_I, dt_cols = get_dates(df)\n",
    "dt_today =dt_cols[LAST_DATE_I]\n",
    "# dt_5day = dt_cols[LAST_DATE_I - 5]\n",
    "dt_yday = dt_cols[LAST_DATE_I - 1]"
   ]
  },
  {
   "cell_type": "code",
   "execution_count": 11,
   "metadata": {
    "execution": {
     "iopub.execute_input": "2020-12-28T12:08:04.852563Z",
     "iopub.status.busy": "2020-12-28T12:08:04.851967Z",
     "iopub.status.idle": "2020-12-28T12:08:04.860123Z",
     "shell.execute_reply": "2020-12-28T12:08:04.859587Z"
    },
    "papermill": {
     "duration": 0.042776,
     "end_time": "2020-12-28T12:08:04.860251",
     "exception": false,
     "start_time": "2020-12-28T12:08:04.817475",
     "status": "completed"
    },
    "tags": []
   },
   "outputs": [],
   "source": [
    "#hide\n",
    "dfc_cases = dft_cases.groupby(COL_REGION)[dt_today].sum()\n",
    "dfc_deaths = dft_deaths.groupby(COL_REGION)[dt_today].sum()\n",
    "# dfp_cases = dft_cases.groupby(COL_REGION)[dt_5day].sum()\n",
    "# dfp_deaths = dft_deaths.groupby(COL_REGION)[dt_5day].sum()\n",
    "dfp_cases = dft_cases.groupby(COL_REGION)[dt_yday].sum()\n",
    "dfp_deaths = dft_deaths.groupby(COL_REGION)[dt_yday].sum()"
   ]
  },
  {
   "cell_type": "code",
   "execution_count": 12,
   "metadata": {
    "execution": {
     "iopub.execute_input": "2020-12-28T12:08:04.927659Z",
     "iopub.status.busy": "2020-12-28T12:08:04.927067Z",
     "iopub.status.idle": "2020-12-28T12:08:04.933564Z",
     "shell.execute_reply": "2020-12-28T12:08:04.933091Z"
    },
    "papermill": {
     "duration": 0.044181,
     "end_time": "2020-12-28T12:08:04.933687",
     "exception": false,
     "start_time": "2020-12-28T12:08:04.889506",
     "status": "completed"
    },
    "tags": []
   },
   "outputs": [],
   "source": [
    "#hide\n",
    "df_table = (pd.DataFrame(dict(Cases = dfc_cases, Deaths = dfc_deaths, PCases = dfp_cases, PDeaths = dfp_deaths))\n",
    "            .sort_values(by = ['Cases','Deaths'], ascending = [False, False])\n",
    "            .reset_index())"
   ]
  },
  {
   "cell_type": "code",
   "execution_count": 13,
   "metadata": {
    "execution": {
     "iopub.execute_input": "2020-12-28T12:08:05.009820Z",
     "iopub.status.busy": "2020-12-28T12:08:05.009234Z",
     "iopub.status.idle": "2020-12-28T12:08:05.017607Z",
     "shell.execute_reply": "2020-12-28T12:08:05.017108Z"
    },
    "papermill": {
     "duration": 0.055435,
     "end_time": "2020-12-28T12:08:05.017728",
     "exception": false,
     "start_time": "2020-12-28T12:08:04.962293",
     "status": "completed"
    },
    "tags": []
   },
   "outputs": [
    {
     "data": {
      "text/html": [
       "<div>\n",
       "<style scoped>\n",
       "    .dataframe tbody tr th:only-of-type {\n",
       "        vertical-align: middle;\n",
       "    }\n",
       "\n",
       "    .dataframe tbody tr th {\n",
       "        vertical-align: top;\n",
       "    }\n",
       "\n",
       "    .dataframe thead th {\n",
       "        text-align: right;\n",
       "    }\n",
       "</style>\n",
       "<table border=\"1\" class=\"dataframe\">\n",
       "  <thead>\n",
       "    <tr style=\"text-align: right;\">\n",
       "      <th></th>\n",
       "      <th>Country/Region</th>\n",
       "      <th>Cases</th>\n",
       "      <th>Deaths</th>\n",
       "      <th>PCases</th>\n",
       "      <th>PDeaths</th>\n",
       "      <th>Cases (+)</th>\n",
       "      <th>Deaths (+)</th>\n",
       "      <th>Fatality Rate</th>\n",
       "      <th>Continent</th>\n",
       "    </tr>\n",
       "  </thead>\n",
       "  <tbody>\n",
       "    <tr>\n",
       "      <th>0</th>\n",
       "      <td>US</td>\n",
       "      <td>19132726</td>\n",
       "      <td>333118</td>\n",
       "      <td>18982634</td>\n",
       "      <td>331909</td>\n",
       "      <td>150092</td>\n",
       "      <td>1209</td>\n",
       "      <td>1.74</td>\n",
       "      <td>North America</td>\n",
       "    </tr>\n",
       "    <tr>\n",
       "      <th>1</th>\n",
       "      <td>India</td>\n",
       "      <td>10207871</td>\n",
       "      <td>147901</td>\n",
       "      <td>10187850</td>\n",
       "      <td>147622</td>\n",
       "      <td>20021</td>\n",
       "      <td>279</td>\n",
       "      <td>1.45</td>\n",
       "      <td>Asia</td>\n",
       "    </tr>\n",
       "    <tr>\n",
       "      <th>2</th>\n",
       "      <td>Brazil</td>\n",
       "      <td>7484285</td>\n",
       "      <td>191139</td>\n",
       "      <td>7465806</td>\n",
       "      <td>190795</td>\n",
       "      <td>18479</td>\n",
       "      <td>344</td>\n",
       "      <td>2.55</td>\n",
       "      <td>South America</td>\n",
       "    </tr>\n",
       "    <tr>\n",
       "      <th>3</th>\n",
       "      <td>Russia</td>\n",
       "      <td>3019972</td>\n",
       "      <td>54080</td>\n",
       "      <td>2992123</td>\n",
       "      <td>53539</td>\n",
       "      <td>27849</td>\n",
       "      <td>541</td>\n",
       "      <td>1.79</td>\n",
       "      <td>Europe</td>\n",
       "    </tr>\n",
       "    <tr>\n",
       "      <th>4</th>\n",
       "      <td>France</td>\n",
       "      <td>2616510</td>\n",
       "      <td>62867</td>\n",
       "      <td>2607688</td>\n",
       "      <td>62694</td>\n",
       "      <td>8822</td>\n",
       "      <td>173</td>\n",
       "      <td>2.40</td>\n",
       "      <td>Europe</td>\n",
       "    </tr>\n",
       "  </tbody>\n",
       "</table>\n",
       "</div>"
      ],
      "text/plain": [
       "  Country/Region     Cases  Deaths    PCases  PDeaths  Cases (+)  Deaths (+)  \\\n",
       "0             US  19132726  333118  18982634   331909     150092        1209   \n",
       "1          India  10207871  147901  10187850   147622      20021         279   \n",
       "2         Brazil   7484285  191139   7465806   190795      18479         344   \n",
       "3         Russia   3019972   54080   2992123    53539      27849         541   \n",
       "4         France   2616510   62867   2607688    62694       8822         173   \n",
       "\n",
       "   Fatality Rate      Continent  \n",
       "0           1.74  North America  \n",
       "1           1.45           Asia  \n",
       "2           2.55  South America  \n",
       "3           1.79         Europe  \n",
       "4           2.40         Europe  "
      ]
     },
     "execution_count": 13,
     "metadata": {},
     "output_type": "execute_result"
    }
   ],
   "source": [
    "#hide\n",
    "for c in 'Cases, Deaths'.split(', '):\n",
    "    df_table[f'{c} (+)'] = (df_table[c] - df_table[f'P{c}']).clip(0)\n",
    "    #Clip ça veut dire, les chiffres negatif sont interdit\n",
    "df_table['Fatality Rate'] = (100* df_table['Deaths']/ df_table['Cases']).round(2)\n",
    "df_table['Continent'] = df_table['Country/Region'].map(mapping['map.continent'])\n",
    "df_table.head(5)"
   ]
  },
  {
   "cell_type": "code",
   "execution_count": 14,
   "metadata": {
    "execution": {
     "iopub.execute_input": "2020-12-28T12:08:05.083614Z",
     "iopub.status.busy": "2020-12-28T12:08:05.083031Z",
     "iopub.status.idle": "2020-12-28T12:08:05.086264Z",
     "shell.execute_reply": "2020-12-28T12:08:05.085763Z"
    },
    "papermill": {
     "duration": 0.038918,
     "end_time": "2020-12-28T12:08:05.086387",
     "exception": false,
     "start_time": "2020-12-28T12:08:05.047469",
     "status": "completed"
    },
    "tags": []
   },
   "outputs": [],
   "source": [
    "#hide\n",
    "#delete problematic countries from table\n",
    "df_table = df_table[~df_table['Country/Region'].isin(['Cape Verde', 'Cruise Ship', 'Kosovo'])]"
   ]
  },
  {
   "cell_type": "code",
   "execution_count": 15,
   "metadata": {
    "execution": {
     "iopub.execute_input": "2020-12-28T12:08:05.154585Z",
     "iopub.status.busy": "2020-12-28T12:08:05.153964Z",
     "iopub.status.idle": "2020-12-28T12:08:05.174102Z",
     "shell.execute_reply": "2020-12-28T12:08:05.174909Z"
    },
    "papermill": {
     "duration": 0.059522,
     "end_time": "2020-12-28T12:08:05.175077",
     "exception": false,
     "start_time": "2020-12-28T12:08:05.115555",
     "status": "completed"
    },
    "tags": []
   },
   "outputs": [
    {
     "data": {
      "text/html": [
       "<div>\n",
       "<style scoped>\n",
       "    .dataframe tbody tr th:only-of-type {\n",
       "        vertical-align: middle;\n",
       "    }\n",
       "\n",
       "    .dataframe tbody tr th {\n",
       "        vertical-align: top;\n",
       "    }\n",
       "\n",
       "    .dataframe thead th {\n",
       "        text-align: right;\n",
       "    }\n",
       "</style>\n",
       "<table border=\"1\" class=\"dataframe\">\n",
       "  <thead>\n",
       "    <tr style=\"text-align: right;\">\n",
       "      <th></th>\n",
       "      <th>Country/Region</th>\n",
       "      <th>Cases</th>\n",
       "      <th>Deaths</th>\n",
       "      <th>PCases</th>\n",
       "      <th>PDeaths</th>\n",
       "      <th>Cases (+)</th>\n",
       "      <th>Deaths (+)</th>\n",
       "      <th>Fatality Rate</th>\n",
       "      <th>Continent</th>\n",
       "    </tr>\n",
       "  </thead>\n",
       "  <tbody>\n",
       "    <tr>\n",
       "      <th>0</th>\n",
       "      <td>US</td>\n",
       "      <td>19132726</td>\n",
       "      <td>333118</td>\n",
       "      <td>18982634</td>\n",
       "      <td>331909</td>\n",
       "      <td>150092</td>\n",
       "      <td>1209</td>\n",
       "      <td>1.7</td>\n",
       "      <td>North America</td>\n",
       "    </tr>\n",
       "    <tr>\n",
       "      <th>1</th>\n",
       "      <td>India</td>\n",
       "      <td>10207871</td>\n",
       "      <td>147901</td>\n",
       "      <td>10187850</td>\n",
       "      <td>147622</td>\n",
       "      <td>20021</td>\n",
       "      <td>279</td>\n",
       "      <td>1.4</td>\n",
       "      <td>Asia</td>\n",
       "    </tr>\n",
       "    <tr>\n",
       "      <th>2</th>\n",
       "      <td>Brazil</td>\n",
       "      <td>7484285</td>\n",
       "      <td>191139</td>\n",
       "      <td>7465806</td>\n",
       "      <td>190795</td>\n",
       "      <td>18479</td>\n",
       "      <td>344</td>\n",
       "      <td>2.6</td>\n",
       "      <td>South America</td>\n",
       "    </tr>\n",
       "    <tr>\n",
       "      <th>3</th>\n",
       "      <td>Russia</td>\n",
       "      <td>3019972</td>\n",
       "      <td>54080</td>\n",
       "      <td>2992123</td>\n",
       "      <td>53539</td>\n",
       "      <td>27849</td>\n",
       "      <td>541</td>\n",
       "      <td>1.8</td>\n",
       "      <td>Europe</td>\n",
       "    </tr>\n",
       "    <tr>\n",
       "      <th>4</th>\n",
       "      <td>France</td>\n",
       "      <td>2616510</td>\n",
       "      <td>62867</td>\n",
       "      <td>2607688</td>\n",
       "      <td>62694</td>\n",
       "      <td>8822</td>\n",
       "      <td>173</td>\n",
       "      <td>2.4</td>\n",
       "      <td>Europe</td>\n",
       "    </tr>\n",
       "  </tbody>\n",
       "</table>\n",
       "</div>"
      ],
      "text/plain": [
       "  Country/Region     Cases  Deaths    PCases  PDeaths  Cases (+)  Deaths (+)  \\\n",
       "0             US  19132726  333118  18982634   331909     150092        1209   \n",
       "1          India  10207871  147901  10187850   147622      20021         279   \n",
       "2         Brazil   7484285  191139   7465806   190795      18479         344   \n",
       "3         Russia   3019972   54080   2992123    53539      27849         541   \n",
       "4         France   2616510   62867   2607688    62694       8822         173   \n",
       "\n",
       "   Fatality Rate      Continent  \n",
       "0            1.7  North America  \n",
       "1            1.4           Asia  \n",
       "2            2.6  South America  \n",
       "3            1.8         Europe  \n",
       "4            2.4         Europe  "
      ]
     },
     "execution_count": 15,
     "metadata": {},
     "output_type": "execute_result"
    }
   ],
   "source": [
    "#hide\n",
    "df_table = (pd.DataFrame(dict(Cases=dfc_cases, Deaths=dfc_deaths, PCases=dfp_cases, PDeaths=dfp_deaths))\n",
    "             .sort_values(by=['Cases', 'Deaths'], ascending=[False, False])\n",
    "             .reset_index())\n",
    "df_table.rename(columns={'index': 'Country/Region'}, inplace=True)\n",
    "for c in 'Cases, Deaths'.split(', '):\n",
    "    df_table[f'{c} (+)'] = (df_table[c] - df_table[f'P{c}']).clip(0)  # DATA BUG\n",
    "df_table['Fatality Rate'] = (100 * df_table['Deaths'] / df_table['Cases']).round(1)\n",
    "df_table['Continent'] = df_table['Country/Region'].map(mapping['map.continent'])\n",
    "df_table.head(5)"
   ]
  },
  {
   "cell_type": "code",
   "execution_count": 16,
   "metadata": {
    "execution": {
     "iopub.execute_input": "2020-12-28T12:08:05.247346Z",
     "iopub.status.busy": "2020-12-28T12:08:05.246685Z",
     "iopub.status.idle": "2020-12-28T12:08:05.248164Z",
     "shell.execute_reply": "2020-12-28T12:08:05.248676Z"
    },
    "papermill": {
     "duration": 0.041203,
     "end_time": "2020-12-28T12:08:05.248823",
     "exception": false,
     "start_time": "2020-12-28T12:08:05.207620",
     "status": "completed"
    },
    "tags": []
   },
   "outputs": [],
   "source": [
    "#hide\n",
    "#delete problematic countries from table\n",
    "df_table = df_table[~df_table['Country/Region'].isin(['Cape Verde', 'Cruise Ship', 'Kosovo'])]"
   ]
  },
  {
   "cell_type": "code",
   "execution_count": 17,
   "metadata": {
    "execution": {
     "iopub.execute_input": "2020-12-28T12:08:05.336298Z",
     "iopub.status.busy": "2020-12-28T12:08:05.335652Z",
     "iopub.status.idle": "2020-12-28T12:08:05.338382Z",
     "shell.execute_reply": "2020-12-28T12:08:05.338800Z"
    },
    "papermill": {
     "duration": 0.058191,
     "end_time": "2020-12-28T12:08:05.338940",
     "exception": false,
     "start_time": "2020-12-28T12:08:05.280749",
     "status": "completed"
    },
    "tags": []
   },
   "outputs": [],
   "source": [
    "#hide\n",
    "metrics = [df_table.columns[index] for index in [1,2,5,6]]\n",
    "# s_china = df_table[df_table['Country/Region'].eq('China')][metrics].sum().add_prefix('China ')\n",
    "s_us = df_table[df_table['Country/Region'].eq('US')][metrics].sum().add_prefix('US ')\n",
    "s_eu = df_table[df_table['Continent'].eq('Europe')][metrics].sum().add_prefix('EU ')\n",
    "s_ind = df_table[df_table['Country/Region'].eq('India')][metrics].sum().add_prefix('India ')\n",
    "summary = {'updated': pd.to_datetime(dt_today), 'since': pd.to_datetime(dt_yday)}\n",
    "summary = {'updated': pd.to_datetime(dt_today), 'since': pd.to_datetime(dt_yday)}\n",
    "summary = {**summary, **df_table[metrics].sum(), **s_ind, **s_us, **s_eu}"
   ]
  },
  {
   "cell_type": "code",
   "execution_count": 18,
   "metadata": {
    "execution": {
     "iopub.execute_input": "2020-12-28T12:08:05.420115Z",
     "iopub.status.busy": "2020-12-28T12:08:05.419044Z",
     "iopub.status.idle": "2020-12-28T12:08:05.428028Z",
     "shell.execute_reply": "2020-12-28T12:08:05.427453Z"
    },
    "papermill": {
     "duration": 0.05842,
     "end_time": "2020-12-28T12:08:05.428157",
     "exception": false,
     "start_time": "2020-12-28T12:08:05.369737",
     "status": "completed"
    },
    "tags": []
   },
   "outputs": [],
   "source": [
    "#hide\n",
    "dft_ct_new_cases = dft_cases.groupby(COL_REGION)[dt_cols].sum().diff(axis=1).fillna(0).astype(int)"
   ]
  },
  {
   "cell_type": "code",
   "execution_count": 19,
   "metadata": {
    "execution": {
     "iopub.execute_input": "2020-12-28T12:08:05.493777Z",
     "iopub.status.busy": "2020-12-28T12:08:05.493188Z",
     "iopub.status.idle": "2020-12-28T12:08:05.495690Z",
     "shell.execute_reply": "2020-12-28T12:08:05.495154Z"
    },
    "papermill": {
     "duration": 0.038125,
     "end_time": "2020-12-28T12:08:05.495834",
     "exception": false,
     "start_time": "2020-12-28T12:08:05.457709",
     "status": "completed"
    },
    "tags": []
   },
   "outputs": [],
   "source": [
    "#hide\n",
    "everydaycases = dft_ct_new_cases.cumsum(axis=1)"
   ]
  },
  {
   "cell_type": "code",
   "execution_count": 20,
   "metadata": {
    "execution": {
     "iopub.execute_input": "2020-12-28T12:08:05.561761Z",
     "iopub.status.busy": "2020-12-28T12:08:05.561173Z",
     "iopub.status.idle": "2020-12-28T12:08:08.172609Z",
     "shell.execute_reply": "2020-12-28T12:08:08.171443Z"
    },
    "papermill": {
     "duration": 2.646594,
     "end_time": "2020-12-28T12:08:08.172858",
     "exception": false,
     "start_time": "2020-12-28T12:08:05.526264",
     "status": "completed"
    },
    "tags": []
   },
   "outputs": [],
   "source": [
    "#hide\n",
    "import pandas as pd\n",
    "import matplotlib.pyplot as plt\n",
    "import matplotlib.ticker as ticker\n",
    "import matplotlib.animation as animation\n",
    "from IPython.display import HTML"
   ]
  },
  {
   "cell_type": "code",
   "execution_count": 21,
   "metadata": {
    "execution": {
     "iopub.execute_input": "2020-12-28T12:08:08.241195Z",
     "iopub.status.busy": "2020-12-28T12:08:08.240478Z",
     "iopub.status.idle": "2020-12-28T12:08:08.247376Z",
     "shell.execute_reply": "2020-12-28T12:08:08.246866Z"
    },
    "papermill": {
     "duration": 0.043754,
     "end_time": "2020-12-28T12:08:08.247502",
     "exception": false,
     "start_time": "2020-12-28T12:08:08.203748",
     "status": "completed"
    },
    "tags": []
   },
   "outputs": [],
   "source": [
    "#hide\n",
    "t = everydaycases.stack()"
   ]
  },
  {
   "cell_type": "code",
   "execution_count": 22,
   "metadata": {
    "execution": {
     "iopub.execute_input": "2020-12-28T12:08:08.316478Z",
     "iopub.status.busy": "2020-12-28T12:08:08.315919Z",
     "iopub.status.idle": "2020-12-28T12:08:08.322468Z",
     "shell.execute_reply": "2020-12-28T12:08:08.322921Z"
    },
    "papermill": {
     "duration": 0.042529,
     "end_time": "2020-12-28T12:08:08.323069",
     "exception": false,
     "start_time": "2020-12-28T12:08:08.280540",
     "status": "completed"
    },
    "tags": []
   },
   "outputs": [],
   "source": [
    "#hide\n",
    "g = t.reset_index(['Country/Region'])"
   ]
  },
  {
   "cell_type": "code",
   "execution_count": 23,
   "metadata": {
    "execution": {
     "iopub.execute_input": "2020-12-28T12:08:08.388954Z",
     "iopub.status.busy": "2020-12-28T12:08:08.388374Z",
     "iopub.status.idle": "2020-12-28T12:08:08.390065Z",
     "shell.execute_reply": "2020-12-28T12:08:08.391820Z"
    },
    "papermill": {
     "duration": 0.039591,
     "end_time": "2020-12-28T12:08:08.391971",
     "exception": false,
     "start_time": "2020-12-28T12:08:08.352380",
     "status": "completed"
    },
    "tags": []
   },
   "outputs": [],
   "source": [
    "#hide\n",
    "g.index.name = 'date'"
   ]
  },
  {
   "cell_type": "code",
   "execution_count": 24,
   "metadata": {
    "execution": {
     "iopub.execute_input": "2020-12-28T12:08:08.457912Z",
     "iopub.status.busy": "2020-12-28T12:08:08.457316Z",
     "iopub.status.idle": "2020-12-28T12:08:08.458535Z",
     "shell.execute_reply": "2020-12-28T12:08:08.458992Z"
    },
    "papermill": {
     "duration": 0.036183,
     "end_time": "2020-12-28T12:08:08.459126",
     "exception": false,
     "start_time": "2020-12-28T12:08:08.422943",
     "status": "completed"
    },
    "tags": []
   },
   "outputs": [],
   "source": [
    "# #hide\n",
    "# g = g.reset_index(['date'])"
   ]
  },
  {
   "cell_type": "code",
   "execution_count": 25,
   "metadata": {
    "execution": {
     "iopub.execute_input": "2020-12-28T12:08:08.522869Z",
     "iopub.status.busy": "2020-12-28T12:08:08.522230Z",
     "iopub.status.idle": "2020-12-28T12:08:08.525504Z",
     "shell.execute_reply": "2020-12-28T12:08:08.525006Z"
    },
    "papermill": {
     "duration": 0.036561,
     "end_time": "2020-12-28T12:08:08.525625",
     "exception": false,
     "start_time": "2020-12-28T12:08:08.489064",
     "status": "completed"
    },
    "tags": []
   },
   "outputs": [],
   "source": [
    "#hide\n",
    "# g.head()"
   ]
  },
  {
   "cell_type": "code",
   "execution_count": 26,
   "metadata": {
    "execution": {
     "iopub.execute_input": "2020-12-28T12:08:08.589487Z",
     "iopub.status.busy": "2020-12-28T12:08:08.588900Z",
     "iopub.status.idle": "2020-12-28T12:08:08.591424Z",
     "shell.execute_reply": "2020-12-28T12:08:08.590930Z"
    },
    "papermill": {
     "duration": 0.036646,
     "end_time": "2020-12-28T12:08:08.591543",
     "exception": false,
     "start_time": "2020-12-28T12:08:08.554897",
     "status": "completed"
    },
    "tags": []
   },
   "outputs": [],
   "source": [
    "#hide\n",
    "# g.columns = ['date','country','cases']"
   ]
  },
  {
   "cell_type": "code",
   "execution_count": 27,
   "metadata": {
    "execution": {
     "iopub.execute_input": "2020-12-28T12:08:08.654091Z",
     "iopub.status.busy": "2020-12-28T12:08:08.653515Z",
     "iopub.status.idle": "2020-12-28T12:08:08.655245Z",
     "shell.execute_reply": "2020-12-28T12:08:08.655657Z"
    },
    "papermill": {
     "duration": 0.034559,
     "end_time": "2020-12-28T12:08:08.655805",
     "exception": false,
     "start_time": "2020-12-28T12:08:08.621246",
     "status": "completed"
    },
    "tags": []
   },
   "outputs": [],
   "source": [
    "#hide\n",
    "# g['continent'] = g.country"
   ]
  },
  {
   "cell_type": "code",
   "execution_count": 28,
   "metadata": {
    "execution": {
     "iopub.execute_input": "2020-12-28T12:08:08.719666Z",
     "iopub.status.busy": "2020-12-28T12:08:08.719085Z",
     "iopub.status.idle": "2020-12-28T12:08:08.721671Z",
     "shell.execute_reply": "2020-12-28T12:08:08.722195Z"
    },
    "papermill": {
     "duration": 0.036917,
     "end_time": "2020-12-28T12:08:08.722321",
     "exception": false,
     "start_time": "2020-12-28T12:08:08.685404",
     "status": "completed"
    },
    "tags": []
   },
   "outputs": [],
   "source": [
    "#hide\n",
    "# cols = list(g.columns.values)"
   ]
  },
  {
   "cell_type": "code",
   "execution_count": 29,
   "metadata": {
    "execution": {
     "iopub.execute_input": "2020-12-28T12:08:08.785287Z",
     "iopub.status.busy": "2020-12-28T12:08:08.784706Z",
     "iopub.status.idle": "2020-12-28T12:08:08.787350Z",
     "shell.execute_reply": "2020-12-28T12:08:08.786891Z"
    },
    "papermill": {
     "duration": 0.035957,
     "end_time": "2020-12-28T12:08:08.787459",
     "exception": false,
     "start_time": "2020-12-28T12:08:08.751502",
     "status": "completed"
    },
    "tags": []
   },
   "outputs": [],
   "source": [
    "#hide\n",
    "# cols.insert(0, cols.pop())"
   ]
  },
  {
   "cell_type": "code",
   "execution_count": 30,
   "metadata": {
    "execution": {
     "iopub.execute_input": "2020-12-28T12:08:08.851698Z",
     "iopub.status.busy": "2020-12-28T12:08:08.851113Z",
     "iopub.status.idle": "2020-12-28T12:08:08.853518Z",
     "shell.execute_reply": "2020-12-28T12:08:08.854016Z"
    },
    "papermill": {
     "duration": 0.036601,
     "end_time": "2020-12-28T12:08:08.854147",
     "exception": false,
     "start_time": "2020-12-28T12:08:08.817546",
     "status": "completed"
    },
    "tags": []
   },
   "outputs": [],
   "source": [
    "#hide\n",
    "# g = g[cols]"
   ]
  },
  {
   "cell_type": "code",
   "execution_count": 31,
   "metadata": {
    "execution": {
     "iopub.execute_input": "2020-12-28T12:08:08.916364Z",
     "iopub.status.busy": "2020-12-28T12:08:08.915774Z",
     "iopub.status.idle": "2020-12-28T12:08:08.919947Z",
     "shell.execute_reply": "2020-12-28T12:08:08.920507Z"
    },
    "papermill": {
     "duration": 0.036987,
     "end_time": "2020-12-28T12:08:08.920641",
     "exception": false,
     "start_time": "2020-12-28T12:08:08.883654",
     "status": "completed"
    },
    "tags": []
   },
   "outputs": [],
   "source": [
    "#hide\n",
    "# g['continent'] = g['continent'].map(mapping['map.continent'])"
   ]
  },
  {
   "cell_type": "code",
   "execution_count": 32,
   "metadata": {
    "execution": {
     "iopub.execute_input": "2020-12-28T12:08:08.985260Z",
     "iopub.status.busy": "2020-12-28T12:08:08.984682Z",
     "iopub.status.idle": "2020-12-28T12:08:08.987203Z",
     "shell.execute_reply": "2020-12-28T12:08:08.986706Z"
    },
    "papermill": {
     "duration": 0.036753,
     "end_time": "2020-12-28T12:08:08.987320",
     "exception": false,
     "start_time": "2020-12-28T12:08:08.950567",
     "status": "completed"
    },
    "tags": []
   },
   "outputs": [],
   "source": [
    "#hide\n",
    "# g.head()"
   ]
  },
  {
   "cell_type": "code",
   "execution_count": 33,
   "metadata": {
    "execution": {
     "iopub.execute_input": "2020-12-28T12:08:09.051577Z",
     "iopub.status.busy": "2020-12-28T12:08:09.050997Z",
     "iopub.status.idle": "2020-12-28T12:08:09.052809Z",
     "shell.execute_reply": "2020-12-28T12:08:09.053256Z"
    },
    "papermill": {
     "duration": 0.035943,
     "end_time": "2020-12-28T12:08:09.053423",
     "exception": false,
     "start_time": "2020-12-28T12:08:09.017480",
     "status": "completed"
    },
    "tags": []
   },
   "outputs": [],
   "source": [
    "# hide\n",
    "# g['date'] = g['date'].astype('datetime64[ns]')"
   ]
  },
  {
   "cell_type": "code",
   "execution_count": 34,
   "metadata": {
    "execution": {
     "iopub.execute_input": "2020-12-28T12:08:09.118096Z",
     "iopub.status.busy": "2020-12-28T12:08:09.117513Z",
     "iopub.status.idle": "2020-12-28T12:08:09.119484Z",
     "shell.execute_reply": "2020-12-28T12:08:09.120022Z"
    },
    "papermill": {
     "duration": 0.036721,
     "end_time": "2020-12-28T12:08:09.120171",
     "exception": false,
     "start_time": "2020-12-28T12:08:09.083450",
     "status": "completed"
    },
    "tags": []
   },
   "outputs": [],
   "source": [
    "#hide\n",
    "# g['date'] = g.date.dt.dayofyear"
   ]
  },
  {
   "cell_type": "code",
   "execution_count": 35,
   "metadata": {
    "execution": {
     "iopub.execute_input": "2020-12-28T12:08:09.183296Z",
     "iopub.status.busy": "2020-12-28T12:08:09.182736Z",
     "iopub.status.idle": "2020-12-28T12:08:09.184937Z",
     "shell.execute_reply": "2020-12-28T12:08:09.185493Z"
    },
    "papermill": {
     "duration": 0.035971,
     "end_time": "2020-12-28T12:08:09.185630",
     "exception": false,
     "start_time": "2020-12-28T12:08:09.149659",
     "status": "completed"
    },
    "tags": []
   },
   "outputs": [],
   "source": [
    "#hide\n",
    "# g = g.rename(columns= {'continent':'group','country':'name','cases':'value'})"
   ]
  },
  {
   "cell_type": "code",
   "execution_count": 36,
   "metadata": {
    "execution": {
     "iopub.execute_input": "2020-12-28T12:08:09.247553Z",
     "iopub.status.busy": "2020-12-28T12:08:09.247018Z",
     "iopub.status.idle": "2020-12-28T12:08:09.249524Z",
     "shell.execute_reply": "2020-12-28T12:08:09.249994Z"
    },
    "papermill": {
     "duration": 0.035339,
     "end_time": "2020-12-28T12:08:09.250124",
     "exception": false,
     "start_time": "2020-12-28T12:08:09.214785",
     "status": "completed"
    },
    "tags": []
   },
   "outputs": [],
   "source": [
    "#hide\n",
    "# cols = ['name','group','day','value']"
   ]
  },
  {
   "cell_type": "code",
   "execution_count": 37,
   "metadata": {
    "execution": {
     "iopub.execute_input": "2020-12-28T12:08:09.313792Z",
     "iopub.status.busy": "2020-12-28T12:08:09.313210Z",
     "iopub.status.idle": "2020-12-28T12:08:09.316005Z",
     "shell.execute_reply": "2020-12-28T12:08:09.316578Z"
    },
    "papermill": {
     "duration": 0.036845,
     "end_time": "2020-12-28T12:08:09.316709",
     "exception": false,
     "start_time": "2020-12-28T12:08:09.279864",
     "status": "completed"
    },
    "tags": []
   },
   "outputs": [],
   "source": [
    "#hide\n",
    "# g.rename(columns= {'date':'day'},inplace = True)"
   ]
  },
  {
   "cell_type": "code",
   "execution_count": 38,
   "metadata": {
    "execution": {
     "iopub.execute_input": "2020-12-28T12:08:09.380031Z",
     "iopub.status.busy": "2020-12-28T12:08:09.379406Z",
     "iopub.status.idle": "2020-12-28T12:08:09.381761Z",
     "shell.execute_reply": "2020-12-28T12:08:09.382222Z"
    },
    "papermill": {
     "duration": 0.036241,
     "end_time": "2020-12-28T12:08:09.382375",
     "exception": false,
     "start_time": "2020-12-28T12:08:09.346134",
     "status": "completed"
    },
    "tags": []
   },
   "outputs": [],
   "source": [
    "#hide\n",
    "# g = g[cols]"
   ]
  },
  {
   "cell_type": "code",
   "execution_count": 39,
   "metadata": {
    "execution": {
     "iopub.execute_input": "2020-12-28T12:08:09.446427Z",
     "iopub.status.busy": "2020-12-28T12:08:09.445849Z",
     "iopub.status.idle": "2020-12-28T12:08:09.448268Z",
     "shell.execute_reply": "2020-12-28T12:08:09.448762Z"
    },
    "papermill": {
     "duration": 0.036546,
     "end_time": "2020-12-28T12:08:09.448906",
     "exception": false,
     "start_time": "2020-12-28T12:08:09.412360",
     "status": "completed"
    },
    "tags": []
   },
   "outputs": [],
   "source": [
    "# #hide\n",
    "# g = g[g.group.notna()]"
   ]
  },
  {
   "cell_type": "code",
   "execution_count": 40,
   "metadata": {
    "execution": {
     "iopub.execute_input": "2020-12-28T12:08:09.511744Z",
     "iopub.status.busy": "2020-12-28T12:08:09.511172Z",
     "iopub.status.idle": "2020-12-28T12:08:09.513434Z",
     "shell.execute_reply": "2020-12-28T12:08:09.513860Z"
    },
    "papermill": {
     "duration": 0.035706,
     "end_time": "2020-12-28T12:08:09.513994",
     "exception": false,
     "start_time": "2020-12-28T12:08:09.478288",
     "status": "completed"
    },
    "tags": []
   },
   "outputs": [],
   "source": [
    "# #hide\n",
    "# colors = dict(zip(\n",
    "#     [\"Oceania\", \"Europe\", \"Asia\", \"South America\", \"Middle East\", \"North America\", \"Africa\"],\n",
    "#     [\"#adb0ff\", \"#ffb3ff\", \"#90d595\", \"#e48381\", \"#aafbff\", \"#f7bb5f\", \"#eafb50\"]\n",
    "# ))\n",
    "# group_lk = g.set_index('name')['group'].to_dict()"
   ]
  },
  {
   "cell_type": "code",
   "execution_count": null,
   "metadata": {
    "papermill": {
     "duration": 0.029555,
     "end_time": "2020-12-28T12:08:09.572914",
     "exception": false,
     "start_time": "2020-12-28T12:08:09.543359",
     "status": "completed"
    },
    "tags": []
   },
   "outputs": [],
   "source": []
  },
  {
   "cell_type": "code",
   "execution_count": 41,
   "metadata": {
    "execution": {
     "iopub.execute_input": "2020-12-28T12:08:09.637976Z",
     "iopub.status.busy": "2020-12-28T12:08:09.637359Z",
     "iopub.status.idle": "2020-12-28T12:08:09.639569Z",
     "shell.execute_reply": "2020-12-28T12:08:09.638999Z"
    },
    "papermill": {
     "duration": 0.036432,
     "end_time": "2020-12-28T12:08:09.639684",
     "exception": false,
     "start_time": "2020-12-28T12:08:09.603252",
     "status": "completed"
    },
    "tags": []
   },
   "outputs": [],
   "source": [
    "# #hide\n",
    "# fig, ax = plt.subplots(figsize=(15, 8))\n",
    "\n",
    "# def draw_barchart(current_day):\n",
    "#     dff = g[g['day'].eq(current_day)].sort_values(by='value', ascending=True).tail(10)\n",
    "#     ax.clear()\n",
    "#     ax.barh(dff['name'], dff['value'], color=[colors[group_lk[x]] for x in dff['name']])\n",
    "#     dx = dff['value'].max() / 200\n",
    "    \n",
    "#     for i, (value, name) in enumerate(zip(dff['value'], dff['name'])):\n",
    "#         ax.text(value-dx, i,     name,           size=14, weight=600, ha='right', va='bottom')\n",
    "#         ax.text(value-dx, i-.25, group_lk[name], size=10, color='#444444', ha='right', va='baseline')\n",
    "#         ax.text(value+dx, i,     f'{value:,.0f}',  size=14, ha='left',  va='center')\n",
    "#     ax.text(1, 0.4, current_day, transform=ax.transAxes, color='#777777', size=46, ha='right', weight=800)\n",
    "#     ax.text(0, 1.06, 'Population (thousands)', transform=ax.transAxes, size=12, color='#777777')\n",
    "#     ax.xaxis.set_major_formatter(ticker.StrMethodFormatter('{x:,.0f}'))\n",
    "#     ax.xaxis.set_ticks_position('top')\n",
    "#     ax.tick_params(axis='x', colors='#777777', labelsize=12)\n",
    "#     ax.set_yticks([])\n",
    "#     ax.margins(0, 0.01)\n",
    "#     ax.grid(which='major', axis='x', linestyle='-')\n",
    "#     ax.set_axisbelow(True)\n",
    "    \n",
    "#     ax.text(0, 1.15, 'Coronavirus',\n",
    "#             transform=ax.transAxes, size=24, weight=600, ha='left', va='top')\n",
    "# #     ax.text(1, 0, 'by @pratapvardhan; credit @jburnmurdoch', transform=ax.transAxes, color='#777777', ha='right',\n",
    "# #             bbox=dict(facecolor='white', alpha=0.8, edgecolor='white'))\n",
    "#     plt.box(False)"
   ]
  },
  {
   "cell_type": "code",
   "execution_count": 42,
   "metadata": {
    "execution": {
     "iopub.execute_input": "2020-12-28T12:08:09.704623Z",
     "iopub.status.busy": "2020-12-28T12:08:09.704014Z",
     "iopub.status.idle": "2020-12-28T12:08:09.706568Z",
     "shell.execute_reply": "2020-12-28T12:08:09.706982Z"
    },
    "papermill": {
     "duration": 0.037465,
     "end_time": "2020-12-28T12:08:09.707118",
     "exception": false,
     "start_time": "2020-12-28T12:08:09.669653",
     "status": "completed"
    },
    "tags": []
   },
   "outputs": [],
   "source": [
    "# #hide_input\n",
    "# fig, ax = plt.subplots(figsize=(15, 8))\n",
    "# animator = animation.FuncAnimation(fig, draw_barchart, frames=range(g.day.values.min(), g.day.values.max()))\n",
    "# HTML(animator.to_jshtml())\n",
    "# # or use animator.to_html5_video() or animator.save() "
   ]
  },
  {
   "cell_type": "code",
   "execution_count": null,
   "metadata": {
    "papermill": {
     "duration": 0.029291,
     "end_time": "2020-12-28T12:08:09.766394",
     "exception": false,
     "start_time": "2020-12-28T12:08:09.737103",
     "status": "completed"
    },
    "tags": []
   },
   "outputs": [],
   "source": []
  },
  {
   "cell_type": "code",
   "execution_count": null,
   "metadata": {
    "papermill": {
     "duration": 0.0301,
     "end_time": "2020-12-28T12:08:09.826028",
     "exception": false,
     "start_time": "2020-12-28T12:08:09.795928",
     "status": "completed"
    },
    "tags": []
   },
   "outputs": [],
   "source": []
  },
  {
   "cell_type": "code",
   "execution_count": null,
   "metadata": {
    "papermill": {
     "duration": 0.029374,
     "end_time": "2020-12-28T12:08:09.885016",
     "exception": false,
     "start_time": "2020-12-28T12:08:09.855642",
     "status": "completed"
    },
    "tags": []
   },
   "outputs": [],
   "source": []
  }
 ],
 "metadata": {
  "kernelspec": {
   "display_name": "Python 3",
   "language": "python",
   "name": "python3"
  },
  "language_info": {
   "codemirror_mode": {
    "name": "ipython",
    "version": 3
   },
   "file_extension": ".py",
   "mimetype": "text/x-python",
   "name": "python",
   "nbconvert_exporter": "python",
   "pygments_lexer": "ipython3",
   "version": "3.6.12"
  },
  "papermill": {
   "duration": 7.99126,
   "end_time": "2020-12-28T12:08:10.222311",
   "environment_variables": {},
   "exception": null,
   "input_path": "2020-03-21-covid19exp.ipynb",
   "output_path": "2020-03-21-covid19exp.ipynb",
   "parameters": {},
   "start_time": "2020-12-28T12:08:02.231051",
   "version": "2.0.0"
  }
 },
 "nbformat": 4,
 "nbformat_minor": 4
}