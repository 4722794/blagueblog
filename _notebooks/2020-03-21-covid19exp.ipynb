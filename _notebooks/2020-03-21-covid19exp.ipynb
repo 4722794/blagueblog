{
 "cells": [
  {
   "cell_type": "markdown",
   "id": "muslim-click",
   "metadata": {
    "papermill": {
     "duration": 0.035082,
     "end_time": "2021-05-13T12:11:27.690523",
     "exception": false,
     "start_time": "2021-05-13T12:11:27.655441",
     "status": "completed"
    },
    "tags": []
   },
   "source": [
    "# COVID-19 Case Race\n",
    "> A race chart to see rising cases around the world\n",
    "\n",
    "- author: Hargun Oberoi\n",
    "- image: images/covid-overview.png\n",
    "- hide: false\n",
    "- badges: false"
   ]
  },
  {
   "cell_type": "code",
   "execution_count": 1,
   "id": "proof-material",
   "metadata": {
    "execution": {
     "iopub.execute_input": "2021-05-13T12:11:27.770492Z",
     "iopub.status.busy": "2021-05-13T12:11:27.769878Z",
     "iopub.status.idle": "2021-05-13T12:11:28.129409Z",
     "shell.execute_reply": "2021-05-13T12:11:28.128782Z"
    },
    "papermill": {
     "duration": 0.40178,
     "end_time": "2021-05-13T12:11:28.129551",
     "exception": false,
     "start_time": "2021-05-13T12:11:27.727771",
     "status": "completed"
    },
    "tags": []
   },
   "outputs": [],
   "source": [
    "#hide\n",
    "import numpy as np\n",
    "import pandas as pd\n",
    "from jinja2 import Template\n",
    "from IPython.display import HTML"
   ]
  },
  {
   "cell_type": "code",
   "execution_count": 2,
   "id": "developed-terminology",
   "metadata": {
    "execution": {
     "iopub.execute_input": "2021-05-13T12:11:28.196369Z",
     "iopub.status.busy": "2021-05-13T12:11:28.195866Z",
     "iopub.status.idle": "2021-05-13T12:11:28.198216Z",
     "shell.execute_reply": "2021-05-13T12:11:28.198732Z"
    },
    "papermill": {
     "duration": 0.038234,
     "end_time": "2021-05-13T12:11:28.198862",
     "exception": false,
     "start_time": "2021-05-13T12:11:28.160628",
     "status": "completed"
    },
    "tags": []
   },
   "outputs": [],
   "source": [
    "#hide\n",
    "\n",
    "# FETCH\n",
    "base_url = 'https://raw.githubusercontent.com/pratapvardhan/notebooks/master/covid19/'\n",
    "paths = {\n",
    "    'mapping': base_url + 'mapping_countries.csv',\n",
    "    'overview': base_url + 'overview.tpl'\n",
    "}"
   ]
  },
  {
   "cell_type": "code",
   "execution_count": 3,
   "id": "dynamic-saver",
   "metadata": {
    "execution": {
     "iopub.execute_input": "2021-05-13T12:11:28.267072Z",
     "iopub.status.busy": "2021-05-13T12:11:28.266512Z",
     "iopub.status.idle": "2021-05-13T12:11:28.268930Z",
     "shell.execute_reply": "2021-05-13T12:11:28.269396Z"
    },
    "papermill": {
     "duration": 0.041119,
     "end_time": "2021-05-13T12:11:28.269505",
     "exception": false,
     "start_time": "2021-05-13T12:11:28.228386",
     "status": "completed"
    },
    "tags": []
   },
   "outputs": [
    {
     "data": {
      "text/plain": [
       "'https://raw.githubusercontent.com/pratapvardhan/notebooks/master/covid19/mapping_countries.csv'"
      ]
     },
     "execution_count": 3,
     "metadata": {},
     "output_type": "execute_result"
    }
   ],
   "source": [
    "#hide\n",
    "paths['mapping']"
   ]
  },
  {
   "cell_type": "code",
   "execution_count": 4,
   "id": "urban-software",
   "metadata": {
    "execution": {
     "iopub.execute_input": "2021-05-13T12:11:28.334288Z",
     "iopub.status.busy": "2021-05-13T12:11:28.333788Z",
     "iopub.status.idle": "2021-05-13T12:11:28.335648Z",
     "shell.execute_reply": "2021-05-13T12:11:28.336075Z"
    },
    "papermill": {
     "duration": 0.036406,
     "end_time": "2021-05-13T12:11:28.336181",
     "exception": false,
     "start_time": "2021-05-13T12:11:28.299775",
     "status": "completed"
    },
    "tags": []
   },
   "outputs": [],
   "source": [
    "#hide\n",
    "def get_mappings(url):\n",
    "    df = pd.read_csv(url)\n",
    "    return {\n",
    "        'df': df,\n",
    "        'replace.country': dict(df.dropna(subset=['Name']).set_index('Country')['Name']),\n",
    "        'map.continent': dict(df.set_index('Name')['Continent'])\n",
    "    }"
   ]
  },
  {
   "cell_type": "code",
   "execution_count": 5,
   "id": "intimate-machinery",
   "metadata": {
    "execution": {
     "iopub.execute_input": "2021-05-13T12:11:28.401811Z",
     "iopub.status.busy": "2021-05-13T12:11:28.401317Z",
     "iopub.status.idle": "2021-05-13T12:11:28.439069Z",
     "shell.execute_reply": "2021-05-13T12:11:28.438547Z"
    },
    "papermill": {
     "duration": 0.071883,
     "end_time": "2021-05-13T12:11:28.439200",
     "exception": false,
     "start_time": "2021-05-13T12:11:28.367317",
     "status": "completed"
    },
    "tags": []
   },
   "outputs": [],
   "source": [
    "#hide\n",
    "mapping = get_mappings(paths['mapping'])"
   ]
  },
  {
   "cell_type": "code",
   "execution_count": 6,
   "id": "certified-tactics",
   "metadata": {
    "execution": {
     "iopub.execute_input": "2021-05-13T12:11:28.504623Z",
     "iopub.status.busy": "2021-05-13T12:11:28.504095Z",
     "iopub.status.idle": "2021-05-13T12:11:28.506328Z",
     "shell.execute_reply": "2021-05-13T12:11:28.506831Z"
    },
    "papermill": {
     "duration": 0.035746,
     "end_time": "2021-05-13T12:11:28.506938",
     "exception": false,
     "start_time": "2021-05-13T12:11:28.471192",
     "status": "completed"
    },
    "tags": []
   },
   "outputs": [],
   "source": [
    "#hide\n",
    "def get_template(path):\n",
    "    from urllib.parse import urlparse\n",
    "    if bool(urlparse(path).netloc):\n",
    "        from urllib.request import urlopen\n",
    "        return urlopen(path).read().decode('utf8')\n",
    "    return open(path).read()"
   ]
  },
  {
   "cell_type": "code",
   "execution_count": 7,
   "id": "realistic-blast",
   "metadata": {
    "execution": {
     "iopub.execute_input": "2021-05-13T12:11:28.571315Z",
     "iopub.status.busy": "2021-05-13T12:11:28.570816Z",
     "iopub.status.idle": "2021-05-13T12:11:28.572601Z",
     "shell.execute_reply": "2021-05-13T12:11:28.573076Z"
    },
    "papermill": {
     "duration": 0.036583,
     "end_time": "2021-05-13T12:11:28.573183",
     "exception": false,
     "start_time": "2021-05-13T12:11:28.536600",
     "status": "completed"
    },
    "tags": []
   },
   "outputs": [],
   "source": [
    "#hide\n",
    "def get_frame(name):\n",
    "    url = (\n",
    "        'https://raw.githubusercontent.com/CSSEGISandData/COVID-19/master/csse_covid_19_data/'\n",
    "        f'csse_covid_19_time_series/time_series_covid19_{name}_global.csv')\n",
    "    df = pd.read_csv(url)\n",
    "    # rename countries\n",
    "    df['Country/Region'] = df['Country/Region'].replace(mapping['replace.country'])\n",
    "    return df"
   ]
  },
  {
   "cell_type": "code",
   "execution_count": 8,
   "id": "affiliated-characterization",
   "metadata": {
    "execution": {
     "iopub.execute_input": "2021-05-13T12:11:28.640667Z",
     "iopub.status.busy": "2021-05-13T12:11:28.640112Z",
     "iopub.status.idle": "2021-05-13T12:11:28.642169Z",
     "shell.execute_reply": "2021-05-13T12:11:28.642625Z"
    },
    "papermill": {
     "duration": 0.038186,
     "end_time": "2021-05-13T12:11:28.642751",
     "exception": false,
     "start_time": "2021-05-13T12:11:28.604565",
     "status": "completed"
    },
    "tags": []
   },
   "outputs": [],
   "source": [
    "#hide\n",
    "def get_dates(df):\n",
    "    dt_cols = df.columns[~df.columns.isin(['Province/State', 'Country/Region', 'Lat', 'Long'])]\n",
    "    LAST_DATE_I = -1\n",
    "    # sometimes last column may be empty, then go backwards\n",
    "    for i in range(-1, -len(dt_cols), -1):\n",
    "        if not df[dt_cols[i]].fillna(0).eq(0).all():\n",
    "            LAST_DATE_I = i\n",
    "            break\n",
    "    return LAST_DATE_I, dt_cols"
   ]
  },
  {
   "cell_type": "code",
   "execution_count": 9,
   "id": "recent-optimization",
   "metadata": {
    "execution": {
     "iopub.execute_input": "2021-05-13T12:11:28.714565Z",
     "iopub.status.busy": "2021-05-13T12:11:28.714043Z",
     "iopub.status.idle": "2021-05-13T12:11:29.052051Z",
     "shell.execute_reply": "2021-05-13T12:11:29.051119Z"
    },
    "papermill": {
     "duration": 0.375048,
     "end_time": "2021-05-13T12:11:29.052169",
     "exception": false,
     "start_time": "2021-05-13T12:11:28.677121",
     "status": "completed"
    },
    "tags": []
   },
   "outputs": [],
   "source": [
    "#hide\n",
    "COL_REGION = 'Country/Region'\n",
    "# Confirmed, Recovered, Deaths\n",
    "df = get_frame('confirmed')\n",
    "# dft_: timeseries, dfc_: today country agg\n",
    "dft_cases = df\n",
    "dft_deaths = get_frame('deaths')\n",
    "dft_recovered = get_frame('recovered')\n",
    "LAST_DATE_I, dt_cols = get_dates(df)"
   ]
  },
  {
   "cell_type": "code",
   "execution_count": 10,
   "id": "absolute-copper",
   "metadata": {
    "execution": {
     "iopub.execute_input": "2021-05-13T12:11:29.120150Z",
     "iopub.status.busy": "2021-05-13T12:11:29.119475Z",
     "iopub.status.idle": "2021-05-13T12:11:29.121595Z",
     "shell.execute_reply": "2021-05-13T12:11:29.121179Z"
    },
    "papermill": {
     "duration": 0.036861,
     "end_time": "2021-05-13T12:11:29.121699",
     "exception": false,
     "start_time": "2021-05-13T12:11:29.084838",
     "status": "completed"
    },
    "tags": []
   },
   "outputs": [],
   "source": [
    "#hide\n",
    "LAST_DATE_I, dt_cols = get_dates(df)\n",
    "dt_today =dt_cols[LAST_DATE_I]\n",
    "# dt_5day = dt_cols[LAST_DATE_I - 5]\n",
    "dt_yday = dt_cols[LAST_DATE_I - 1]"
   ]
  },
  {
   "cell_type": "code",
   "execution_count": 11,
   "id": "restricted-sheriff",
   "metadata": {
    "execution": {
     "iopub.execute_input": "2021-05-13T12:11:29.193240Z",
     "iopub.status.busy": "2021-05-13T12:11:29.192705Z",
     "iopub.status.idle": "2021-05-13T12:11:29.199515Z",
     "shell.execute_reply": "2021-05-13T12:11:29.199077Z"
    },
    "papermill": {
     "duration": 0.046522,
     "end_time": "2021-05-13T12:11:29.199615",
     "exception": false,
     "start_time": "2021-05-13T12:11:29.153093",
     "status": "completed"
    },
    "tags": []
   },
   "outputs": [],
   "source": [
    "#hide\n",
    "dfc_cases = dft_cases.groupby(COL_REGION)[dt_today].sum()\n",
    "dfc_deaths = dft_deaths.groupby(COL_REGION)[dt_today].sum()\n",
    "# dfp_cases = dft_cases.groupby(COL_REGION)[dt_5day].sum()\n",
    "# dfp_deaths = dft_deaths.groupby(COL_REGION)[dt_5day].sum()\n",
    "dfp_cases = dft_cases.groupby(COL_REGION)[dt_yday].sum()\n",
    "dfp_deaths = dft_deaths.groupby(COL_REGION)[dt_yday].sum()"
   ]
  },
  {
   "cell_type": "code",
   "execution_count": 12,
   "id": "deluxe-hepatitis",
   "metadata": {
    "execution": {
     "iopub.execute_input": "2021-05-13T12:11:29.269008Z",
     "iopub.status.busy": "2021-05-13T12:11:29.268480Z",
     "iopub.status.idle": "2021-05-13T12:11:29.273412Z",
     "shell.execute_reply": "2021-05-13T12:11:29.274156Z"
    },
    "papermill": {
     "duration": 0.042353,
     "end_time": "2021-05-13T12:11:29.274294",
     "exception": false,
     "start_time": "2021-05-13T12:11:29.231941",
     "status": "completed"
    },
    "tags": []
   },
   "outputs": [],
   "source": [
    "#hide\n",
    "df_table = (pd.DataFrame(dict(Cases = dfc_cases, Deaths = dfc_deaths, PCases = dfp_cases, PDeaths = dfp_deaths))\n",
    "            .sort_values(by = ['Cases','Deaths'], ascending = [False, False])\n",
    "            .reset_index())"
   ]
  },
  {
   "cell_type": "code",
   "execution_count": 13,
   "id": "educational-chancellor",
   "metadata": {
    "execution": {
     "iopub.execute_input": "2021-05-13T12:11:29.350438Z",
     "iopub.status.busy": "2021-05-13T12:11:29.349866Z",
     "iopub.status.idle": "2021-05-13T12:11:29.366671Z",
     "shell.execute_reply": "2021-05-13T12:11:29.366188Z"
    },
    "papermill": {
     "duration": 0.060768,
     "end_time": "2021-05-13T12:11:29.366776",
     "exception": false,
     "start_time": "2021-05-13T12:11:29.306008",
     "status": "completed"
    },
    "tags": []
   },
   "outputs": [
    {
     "data": {
      "text/html": [
       "<div>\n",
       "<style scoped>\n",
       "    .dataframe tbody tr th:only-of-type {\n",
       "        vertical-align: middle;\n",
       "    }\n",
       "\n",
       "    .dataframe tbody tr th {\n",
       "        vertical-align: top;\n",
       "    }\n",
       "\n",
       "    .dataframe thead th {\n",
       "        text-align: right;\n",
       "    }\n",
       "</style>\n",
       "<table border=\"1\" class=\"dataframe\">\n",
       "  <thead>\n",
       "    <tr style=\"text-align: right;\">\n",
       "      <th></th>\n",
       "      <th>Country/Region</th>\n",
       "      <th>Cases</th>\n",
       "      <th>Deaths</th>\n",
       "      <th>PCases</th>\n",
       "      <th>PDeaths</th>\n",
       "      <th>Cases (+)</th>\n",
       "      <th>Deaths (+)</th>\n",
       "      <th>Fatality Rate</th>\n",
       "      <th>Continent</th>\n",
       "    </tr>\n",
       "  </thead>\n",
       "  <tbody>\n",
       "    <tr>\n",
       "      <th>0</th>\n",
       "      <td>US</td>\n",
       "      <td>32814784</td>\n",
       "      <td>583685</td>\n",
       "      <td>32778906</td>\n",
       "      <td>582837</td>\n",
       "      <td>35878</td>\n",
       "      <td>848</td>\n",
       "      <td>1.78</td>\n",
       "      <td>North America</td>\n",
       "    </tr>\n",
       "    <tr>\n",
       "      <th>1</th>\n",
       "      <td>India</td>\n",
       "      <td>23703665</td>\n",
       "      <td>258317</td>\n",
       "      <td>23340938</td>\n",
       "      <td>254197</td>\n",
       "      <td>362727</td>\n",
       "      <td>4120</td>\n",
       "      <td>1.09</td>\n",
       "      <td>Asia</td>\n",
       "    </tr>\n",
       "    <tr>\n",
       "      <th>2</th>\n",
       "      <td>Brazil</td>\n",
       "      <td>15359397</td>\n",
       "      <td>428034</td>\n",
       "      <td>15282705</td>\n",
       "      <td>425540</td>\n",
       "      <td>76692</td>\n",
       "      <td>2494</td>\n",
       "      <td>2.79</td>\n",
       "      <td>South America</td>\n",
       "    </tr>\n",
       "    <tr>\n",
       "      <th>3</th>\n",
       "      <td>France</td>\n",
       "      <td>5882882</td>\n",
       "      <td>107280</td>\n",
       "      <td>5861384</td>\n",
       "      <td>107096</td>\n",
       "      <td>21498</td>\n",
       "      <td>184</td>\n",
       "      <td>1.82</td>\n",
       "      <td>Europe</td>\n",
       "    </tr>\n",
       "    <tr>\n",
       "      <th>4</th>\n",
       "      <td>Turkey</td>\n",
       "      <td>5072462</td>\n",
       "      <td>43821</td>\n",
       "      <td>5059433</td>\n",
       "      <td>43589</td>\n",
       "      <td>13029</td>\n",
       "      <td>232</td>\n",
       "      <td>0.86</td>\n",
       "      <td>Asia</td>\n",
       "    </tr>\n",
       "  </tbody>\n",
       "</table>\n",
       "</div>"
      ],
      "text/plain": [
       "  Country/Region     Cases  Deaths    PCases  PDeaths  Cases (+)  Deaths (+)  \\\n",
       "0             US  32814784  583685  32778906   582837      35878         848   \n",
       "1          India  23703665  258317  23340938   254197     362727        4120   \n",
       "2         Brazil  15359397  428034  15282705   425540      76692        2494   \n",
       "3         France   5882882  107280   5861384   107096      21498         184   \n",
       "4         Turkey   5072462   43821   5059433    43589      13029         232   \n",
       "\n",
       "   Fatality Rate      Continent  \n",
       "0           1.78  North America  \n",
       "1           1.09           Asia  \n",
       "2           2.79  South America  \n",
       "3           1.82         Europe  \n",
       "4           0.86           Asia  "
      ]
     },
     "execution_count": 13,
     "metadata": {},
     "output_type": "execute_result"
    }
   ],
   "source": [
    "#hide\n",
    "for c in 'Cases, Deaths'.split(', '):\n",
    "    df_table[f'{c} (+)'] = (df_table[c] - df_table[f'P{c}']).clip(0)\n",
    "    #Clip ça veut dire, les chiffres negatif sont interdit\n",
    "df_table['Fatality Rate'] = (100* df_table['Deaths']/ df_table['Cases']).round(2)\n",
    "df_table['Continent'] = df_table['Country/Region'].map(mapping['map.continent'])\n",
    "df_table.head(5)"
   ]
  },
  {
   "cell_type": "code",
   "execution_count": 14,
   "id": "aboriginal-bulgaria",
   "metadata": {
    "execution": {
     "iopub.execute_input": "2021-05-13T12:11:29.437543Z",
     "iopub.status.busy": "2021-05-13T12:11:29.436991Z",
     "iopub.status.idle": "2021-05-13T12:11:29.439499Z",
     "shell.execute_reply": "2021-05-13T12:11:29.440198Z"
    },
    "papermill": {
     "duration": 0.041864,
     "end_time": "2021-05-13T12:11:29.440319",
     "exception": false,
     "start_time": "2021-05-13T12:11:29.398455",
     "status": "completed"
    },
    "tags": []
   },
   "outputs": [],
   "source": [
    "#hide\n",
    "#delete problematic countries from table\n",
    "df_table = df_table[~df_table['Country/Region'].isin(['Cape Verde', 'Cruise Ship', 'Kosovo'])]"
   ]
  },
  {
   "cell_type": "code",
   "execution_count": 15,
   "id": "fantastic-effect",
   "metadata": {
    "execution": {
     "iopub.execute_input": "2021-05-13T12:11:29.517099Z",
     "iopub.status.busy": "2021-05-13T12:11:29.516298Z",
     "iopub.status.idle": "2021-05-13T12:11:29.539760Z",
     "shell.execute_reply": "2021-05-13T12:11:29.539283Z"
    },
    "papermill": {
     "duration": 0.065936,
     "end_time": "2021-05-13T12:11:29.539870",
     "exception": false,
     "start_time": "2021-05-13T12:11:29.473934",
     "status": "completed"
    },
    "tags": []
   },
   "outputs": [
    {
     "data": {
      "text/html": [
       "<div>\n",
       "<style scoped>\n",
       "    .dataframe tbody tr th:only-of-type {\n",
       "        vertical-align: middle;\n",
       "    }\n",
       "\n",
       "    .dataframe tbody tr th {\n",
       "        vertical-align: top;\n",
       "    }\n",
       "\n",
       "    .dataframe thead th {\n",
       "        text-align: right;\n",
       "    }\n",
       "</style>\n",
       "<table border=\"1\" class=\"dataframe\">\n",
       "  <thead>\n",
       "    <tr style=\"text-align: right;\">\n",
       "      <th></th>\n",
       "      <th>Country/Region</th>\n",
       "      <th>Cases</th>\n",
       "      <th>Deaths</th>\n",
       "      <th>PCases</th>\n",
       "      <th>PDeaths</th>\n",
       "      <th>Cases (+)</th>\n",
       "      <th>Deaths (+)</th>\n",
       "      <th>Fatality Rate</th>\n",
       "      <th>Continent</th>\n",
       "    </tr>\n",
       "  </thead>\n",
       "  <tbody>\n",
       "    <tr>\n",
       "      <th>0</th>\n",
       "      <td>US</td>\n",
       "      <td>32814784</td>\n",
       "      <td>583685</td>\n",
       "      <td>32778906</td>\n",
       "      <td>582837</td>\n",
       "      <td>35878</td>\n",
       "      <td>848</td>\n",
       "      <td>1.8</td>\n",
       "      <td>North America</td>\n",
       "    </tr>\n",
       "    <tr>\n",
       "      <th>1</th>\n",
       "      <td>India</td>\n",
       "      <td>23703665</td>\n",
       "      <td>258317</td>\n",
       "      <td>23340938</td>\n",
       "      <td>254197</td>\n",
       "      <td>362727</td>\n",
       "      <td>4120</td>\n",
       "      <td>1.1</td>\n",
       "      <td>Asia</td>\n",
       "    </tr>\n",
       "    <tr>\n",
       "      <th>2</th>\n",
       "      <td>Brazil</td>\n",
       "      <td>15359397</td>\n",
       "      <td>428034</td>\n",
       "      <td>15282705</td>\n",
       "      <td>425540</td>\n",
       "      <td>76692</td>\n",
       "      <td>2494</td>\n",
       "      <td>2.8</td>\n",
       "      <td>South America</td>\n",
       "    </tr>\n",
       "    <tr>\n",
       "      <th>3</th>\n",
       "      <td>France</td>\n",
       "      <td>5882882</td>\n",
       "      <td>107280</td>\n",
       "      <td>5861384</td>\n",
       "      <td>107096</td>\n",
       "      <td>21498</td>\n",
       "      <td>184</td>\n",
       "      <td>1.8</td>\n",
       "      <td>Europe</td>\n",
       "    </tr>\n",
       "    <tr>\n",
       "      <th>4</th>\n",
       "      <td>Turkey</td>\n",
       "      <td>5072462</td>\n",
       "      <td>43821</td>\n",
       "      <td>5059433</td>\n",
       "      <td>43589</td>\n",
       "      <td>13029</td>\n",
       "      <td>232</td>\n",
       "      <td>0.9</td>\n",
       "      <td>Asia</td>\n",
       "    </tr>\n",
       "  </tbody>\n",
       "</table>\n",
       "</div>"
      ],
      "text/plain": [
       "  Country/Region     Cases  Deaths    PCases  PDeaths  Cases (+)  Deaths (+)  \\\n",
       "0             US  32814784  583685  32778906   582837      35878         848   \n",
       "1          India  23703665  258317  23340938   254197     362727        4120   \n",
       "2         Brazil  15359397  428034  15282705   425540      76692        2494   \n",
       "3         France   5882882  107280   5861384   107096      21498         184   \n",
       "4         Turkey   5072462   43821   5059433    43589      13029         232   \n",
       "\n",
       "   Fatality Rate      Continent  \n",
       "0            1.8  North America  \n",
       "1            1.1           Asia  \n",
       "2            2.8  South America  \n",
       "3            1.8         Europe  \n",
       "4            0.9           Asia  "
      ]
     },
     "execution_count": 15,
     "metadata": {},
     "output_type": "execute_result"
    }
   ],
   "source": [
    "#hide\n",
    "df_table = (pd.DataFrame(dict(Cases=dfc_cases, Deaths=dfc_deaths, PCases=dfp_cases, PDeaths=dfp_deaths))\n",
    "             .sort_values(by=['Cases', 'Deaths'], ascending=[False, False])\n",
    "             .reset_index())\n",
    "df_table.rename(columns={'index': 'Country/Region'}, inplace=True)\n",
    "for c in 'Cases, Deaths'.split(', '):\n",
    "    df_table[f'{c} (+)'] = (df_table[c] - df_table[f'P{c}']).clip(0)  # DATA BUG\n",
    "df_table['Fatality Rate'] = (100 * df_table['Deaths'] / df_table['Cases']).round(1)\n",
    "df_table['Continent'] = df_table['Country/Region'].map(mapping['map.continent'])\n",
    "df_table.head(5)"
   ]
  },
  {
   "cell_type": "code",
   "execution_count": 16,
   "id": "fewer-occasion",
   "metadata": {
    "execution": {
     "iopub.execute_input": "2021-05-13T12:11:29.620820Z",
     "iopub.status.busy": "2021-05-13T12:11:29.620147Z",
     "iopub.status.idle": "2021-05-13T12:11:29.623346Z",
     "shell.execute_reply": "2021-05-13T12:11:29.622812Z"
    },
    "papermill": {
     "duration": 0.047547,
     "end_time": "2021-05-13T12:11:29.623479",
     "exception": false,
     "start_time": "2021-05-13T12:11:29.575932",
     "status": "completed"
    },
    "tags": []
   },
   "outputs": [],
   "source": [
    "#hide\n",
    "#delete problematic countries from table\n",
    "df_table = df_table[~df_table['Country/Region'].isin(['Cape Verde', 'Cruise Ship', 'Kosovo'])]"
   ]
  },
  {
   "cell_type": "code",
   "execution_count": 17,
   "id": "related-center",
   "metadata": {
    "execution": {
     "iopub.execute_input": "2021-05-13T12:11:29.702021Z",
     "iopub.status.busy": "2021-05-13T12:11:29.701461Z",
     "iopub.status.idle": "2021-05-13T12:11:29.714308Z",
     "shell.execute_reply": "2021-05-13T12:11:29.715008Z"
    },
    "papermill": {
     "duration": 0.056142,
     "end_time": "2021-05-13T12:11:29.715218",
     "exception": false,
     "start_time": "2021-05-13T12:11:29.659076",
     "status": "completed"
    },
    "tags": []
   },
   "outputs": [],
   "source": [
    "#hide\n",
    "metrics = [df_table.columns[index] for index in [1,2,5,6]]\n",
    "# s_china = df_table[df_table['Country/Region'].eq('China')][metrics].sum().add_prefix('China ')\n",
    "s_us = df_table[df_table['Country/Region'].eq('US')][metrics].sum().add_prefix('US ')\n",
    "s_eu = df_table[df_table['Continent'].eq('Europe')][metrics].sum().add_prefix('EU ')\n",
    "s_ind = df_table[df_table['Country/Region'].eq('India')][metrics].sum().add_prefix('India ')\n",
    "summary = {'updated': pd.to_datetime(dt_today), 'since': pd.to_datetime(dt_yday)}\n",
    "summary = {'updated': pd.to_datetime(dt_today), 'since': pd.to_datetime(dt_yday)}\n",
    "summary = {**summary, **df_table[metrics].sum(), **s_ind, **s_us, **s_eu}"
   ]
  },
  {
   "cell_type": "code",
   "execution_count": 18,
   "id": "engaging-syndrome",
   "metadata": {
    "execution": {
     "iopub.execute_input": "2021-05-13T12:11:29.781294Z",
     "iopub.status.busy": "2021-05-13T12:11:29.780780Z",
     "iopub.status.idle": "2021-05-13T12:11:29.791087Z",
     "shell.execute_reply": "2021-05-13T12:11:29.791599Z"
    },
    "papermill": {
     "duration": 0.046341,
     "end_time": "2021-05-13T12:11:29.791715",
     "exception": false,
     "start_time": "2021-05-13T12:11:29.745374",
     "status": "completed"
    },
    "tags": []
   },
   "outputs": [],
   "source": [
    "#hide\n",
    "dft_ct_new_cases = dft_cases.groupby(COL_REGION)[dt_cols].sum().diff(axis=1).fillna(0).astype(int)"
   ]
  },
  {
   "cell_type": "code",
   "execution_count": 19,
   "id": "neutral-assignment",
   "metadata": {
    "execution": {
     "iopub.execute_input": "2021-05-13T12:11:29.865191Z",
     "iopub.status.busy": "2021-05-13T12:11:29.864624Z",
     "iopub.status.idle": "2021-05-13T12:11:29.866942Z",
     "shell.execute_reply": "2021-05-13T12:11:29.866260Z"
    },
    "papermill": {
     "duration": 0.043048,
     "end_time": "2021-05-13T12:11:29.867044",
     "exception": false,
     "start_time": "2021-05-13T12:11:29.823996",
     "status": "completed"
    },
    "tags": []
   },
   "outputs": [],
   "source": [
    "#hide\n",
    "everydaycases = dft_ct_new_cases.cumsum(axis=1)"
   ]
  },
  {
   "cell_type": "code",
   "execution_count": 20,
   "id": "parliamentary-calgary",
   "metadata": {
    "execution": {
     "iopub.execute_input": "2021-05-13T12:11:29.937040Z",
     "iopub.status.busy": "2021-05-13T12:11:29.936424Z",
     "iopub.status.idle": "2021-05-13T12:11:30.616560Z",
     "shell.execute_reply": "2021-05-13T12:11:30.615681Z"
    },
    "papermill": {
     "duration": 0.715776,
     "end_time": "2021-05-13T12:11:30.616679",
     "exception": false,
     "start_time": "2021-05-13T12:11:29.900903",
     "status": "completed"
    },
    "tags": []
   },
   "outputs": [],
   "source": [
    "#hide\n",
    "import pandas as pd\n",
    "import matplotlib.pyplot as plt\n",
    "import matplotlib.ticker as ticker\n",
    "import matplotlib.animation as animation\n",
    "from IPython.display import HTML"
   ]
  },
  {
   "cell_type": "code",
   "execution_count": 21,
   "id": "lasting-extraction",
   "metadata": {
    "execution": {
     "iopub.execute_input": "2021-05-13T12:11:30.691937Z",
     "iopub.status.busy": "2021-05-13T12:11:30.690727Z",
     "iopub.status.idle": "2021-05-13T12:11:30.696877Z",
     "shell.execute_reply": "2021-05-13T12:11:30.697414Z"
    },
    "papermill": {
     "duration": 0.047118,
     "end_time": "2021-05-13T12:11:30.697552",
     "exception": false,
     "start_time": "2021-05-13T12:11:30.650434",
     "status": "completed"
    },
    "tags": []
   },
   "outputs": [],
   "source": [
    "#hide\n",
    "t = everydaycases.stack()"
   ]
  },
  {
   "cell_type": "code",
   "execution_count": 22,
   "id": "premier-sleeve",
   "metadata": {
    "execution": {
     "iopub.execute_input": "2021-05-13T12:11:30.779010Z",
     "iopub.status.busy": "2021-05-13T12:11:30.778446Z",
     "iopub.status.idle": "2021-05-13T12:11:30.785881Z",
     "shell.execute_reply": "2021-05-13T12:11:30.786392Z"
    },
    "papermill": {
     "duration": 0.047861,
     "end_time": "2021-05-13T12:11:30.786726",
     "exception": false,
     "start_time": "2021-05-13T12:11:30.738865",
     "status": "completed"
    },
    "tags": []
   },
   "outputs": [],
   "source": [
    "#hide\n",
    "g = t.reset_index(['Country/Region'])"
   ]
  },
  {
   "cell_type": "code",
   "execution_count": 23,
   "id": "distributed-pittsburgh",
   "metadata": {
    "execution": {
     "iopub.execute_input": "2021-05-13T12:11:30.862160Z",
     "iopub.status.busy": "2021-05-13T12:11:30.861600Z",
     "iopub.status.idle": "2021-05-13T12:11:30.863896Z",
     "shell.execute_reply": "2021-05-13T12:11:30.863467Z"
    },
    "papermill": {
     "duration": 0.043811,
     "end_time": "2021-05-13T12:11:30.863995",
     "exception": false,
     "start_time": "2021-05-13T12:11:30.820184",
     "status": "completed"
    },
    "tags": []
   },
   "outputs": [],
   "source": [
    "#hide\n",
    "g.index.name = 'date'"
   ]
  },
  {
   "cell_type": "code",
   "execution_count": 24,
   "id": "naked-donor",
   "metadata": {
    "execution": {
     "iopub.execute_input": "2021-05-13T12:11:30.934613Z",
     "iopub.status.busy": "2021-05-13T12:11:30.934049Z",
     "iopub.status.idle": "2021-05-13T12:11:30.936308Z",
     "shell.execute_reply": "2021-05-13T12:11:30.935887Z"
    },
    "papermill": {
     "duration": 0.039909,
     "end_time": "2021-05-13T12:11:30.936410",
     "exception": false,
     "start_time": "2021-05-13T12:11:30.896501",
     "status": "completed"
    },
    "tags": []
   },
   "outputs": [],
   "source": [
    "# #hide\n",
    "# g = g.reset_index(['date'])"
   ]
  },
  {
   "cell_type": "code",
   "execution_count": 25,
   "id": "incomplete-mustang",
   "metadata": {
    "execution": {
     "iopub.execute_input": "2021-05-13T12:11:31.001128Z",
     "iopub.status.busy": "2021-05-13T12:11:31.000624Z",
     "iopub.status.idle": "2021-05-13T12:11:31.003033Z",
     "shell.execute_reply": "2021-05-13T12:11:31.002523Z"
    },
    "papermill": {
     "duration": 0.035824,
     "end_time": "2021-05-13T12:11:31.003131",
     "exception": false,
     "start_time": "2021-05-13T12:11:30.967307",
     "status": "completed"
    },
    "tags": []
   },
   "outputs": [],
   "source": [
    "#hide\n",
    "# g.head()"
   ]
  },
  {
   "cell_type": "code",
   "execution_count": 26,
   "id": "specific-kruger",
   "metadata": {
    "execution": {
     "iopub.execute_input": "2021-05-13T12:11:31.071104Z",
     "iopub.status.busy": "2021-05-13T12:11:31.070528Z",
     "iopub.status.idle": "2021-05-13T12:11:31.071765Z",
     "shell.execute_reply": "2021-05-13T12:11:31.072478Z"
    },
    "papermill": {
     "duration": 0.036129,
     "end_time": "2021-05-13T12:11:31.072586",
     "exception": false,
     "start_time": "2021-05-13T12:11:31.036457",
     "status": "completed"
    },
    "tags": []
   },
   "outputs": [],
   "source": [
    "#hide\n",
    "# g.columns = ['date','country','cases']"
   ]
  },
  {
   "cell_type": "code",
   "execution_count": 27,
   "id": "tender-conversion",
   "metadata": {
    "execution": {
     "iopub.execute_input": "2021-05-13T12:11:31.140749Z",
     "iopub.status.busy": "2021-05-13T12:11:31.140060Z",
     "iopub.status.idle": "2021-05-13T12:11:31.142575Z",
     "shell.execute_reply": "2021-05-13T12:11:31.142131Z"
    },
    "papermill": {
     "duration": 0.038012,
     "end_time": "2021-05-13T12:11:31.142697",
     "exception": false,
     "start_time": "2021-05-13T12:11:31.104685",
     "status": "completed"
    },
    "tags": []
   },
   "outputs": [],
   "source": [
    "#hide\n",
    "# g['continent'] = g.country"
   ]
  },
  {
   "cell_type": "code",
   "execution_count": 28,
   "id": "substantial-wilderness",
   "metadata": {
    "execution": {
     "iopub.execute_input": "2021-05-13T12:11:31.212476Z",
     "iopub.status.busy": "2021-05-13T12:11:31.211942Z",
     "iopub.status.idle": "2021-05-13T12:11:31.213795Z",
     "shell.execute_reply": "2021-05-13T12:11:31.214198Z"
    },
    "papermill": {
     "duration": 0.038385,
     "end_time": "2021-05-13T12:11:31.214334",
     "exception": false,
     "start_time": "2021-05-13T12:11:31.175949",
     "status": "completed"
    },
    "tags": []
   },
   "outputs": [],
   "source": [
    "#hide\n",
    "# cols = list(g.columns.values)"
   ]
  },
  {
   "cell_type": "code",
   "execution_count": 29,
   "id": "solved-farming",
   "metadata": {
    "execution": {
     "iopub.execute_input": "2021-05-13T12:11:31.289577Z",
     "iopub.status.busy": "2021-05-13T12:11:31.289018Z",
     "iopub.status.idle": "2021-05-13T12:11:31.291053Z",
     "shell.execute_reply": "2021-05-13T12:11:31.291440Z"
    },
    "papermill": {
     "duration": 0.03801,
     "end_time": "2021-05-13T12:11:31.291710",
     "exception": false,
     "start_time": "2021-05-13T12:11:31.253700",
     "status": "completed"
    },
    "tags": []
   },
   "outputs": [],
   "source": [
    "#hide\n",
    "# cols.insert(0, cols.pop())"
   ]
  },
  {
   "cell_type": "code",
   "execution_count": 30,
   "id": "executed-adoption",
   "metadata": {
    "execution": {
     "iopub.execute_input": "2021-05-13T12:11:31.354751Z",
     "iopub.status.busy": "2021-05-13T12:11:31.354159Z",
     "iopub.status.idle": "2021-05-13T12:11:31.357980Z",
     "shell.execute_reply": "2021-05-13T12:11:31.357359Z"
    },
    "papermill": {
     "duration": 0.035812,
     "end_time": "2021-05-13T12:11:31.358099",
     "exception": false,
     "start_time": "2021-05-13T12:11:31.322287",
     "status": "completed"
    },
    "tags": []
   },
   "outputs": [],
   "source": [
    "#hide\n",
    "# g = g[cols]"
   ]
  },
  {
   "cell_type": "code",
   "execution_count": 31,
   "id": "subject-dublin",
   "metadata": {
    "execution": {
     "iopub.execute_input": "2021-05-13T12:11:31.422337Z",
     "iopub.status.busy": "2021-05-13T12:11:31.421845Z",
     "iopub.status.idle": "2021-05-13T12:11:31.424308Z",
     "shell.execute_reply": "2021-05-13T12:11:31.423765Z"
    },
    "papermill": {
     "duration": 0.035584,
     "end_time": "2021-05-13T12:11:31.424403",
     "exception": false,
     "start_time": "2021-05-13T12:11:31.388819",
     "status": "completed"
    },
    "tags": []
   },
   "outputs": [],
   "source": [
    "#hide\n",
    "# g['continent'] = g['continent'].map(mapping['map.continent'])"
   ]
  },
  {
   "cell_type": "code",
   "execution_count": 32,
   "id": "freelance-scout",
   "metadata": {
    "execution": {
     "iopub.execute_input": "2021-05-13T12:11:31.495406Z",
     "iopub.status.busy": "2021-05-13T12:11:31.494827Z",
     "iopub.status.idle": "2021-05-13T12:11:31.497224Z",
     "shell.execute_reply": "2021-05-13T12:11:31.496754Z"
    },
    "papermill": {
     "duration": 0.040042,
     "end_time": "2021-05-13T12:11:31.497366",
     "exception": false,
     "start_time": "2021-05-13T12:11:31.457324",
     "status": "completed"
    },
    "tags": []
   },
   "outputs": [],
   "source": [
    "#hide\n",
    "# g.head()"
   ]
  },
  {
   "cell_type": "code",
   "execution_count": 33,
   "id": "limited-engine",
   "metadata": {
    "execution": {
     "iopub.execute_input": "2021-05-13T12:11:31.568120Z",
     "iopub.status.busy": "2021-05-13T12:11:31.567562Z",
     "iopub.status.idle": "2021-05-13T12:11:31.569617Z",
     "shell.execute_reply": "2021-05-13T12:11:31.569155Z"
    },
    "papermill": {
     "duration": 0.037822,
     "end_time": "2021-05-13T12:11:31.569737",
     "exception": false,
     "start_time": "2021-05-13T12:11:31.531915",
     "status": "completed"
    },
    "tags": []
   },
   "outputs": [],
   "source": [
    "# hide\n",
    "# g['date'] = g['date'].astype('datetime64[ns]')"
   ]
  },
  {
   "cell_type": "code",
   "execution_count": 34,
   "id": "sophisticated-supervisor",
   "metadata": {
    "execution": {
     "iopub.execute_input": "2021-05-13T12:11:31.639317Z",
     "iopub.status.busy": "2021-05-13T12:11:31.638812Z",
     "iopub.status.idle": "2021-05-13T12:11:31.640612Z",
     "shell.execute_reply": "2021-05-13T12:11:31.641047Z"
    },
    "papermill": {
     "duration": 0.036991,
     "end_time": "2021-05-13T12:11:31.641154",
     "exception": false,
     "start_time": "2021-05-13T12:11:31.604163",
     "status": "completed"
    },
    "tags": []
   },
   "outputs": [],
   "source": [
    "#hide\n",
    "# g['date'] = g.date.dt.dayofyear"
   ]
  },
  {
   "cell_type": "code",
   "execution_count": 35,
   "id": "inside-dubai",
   "metadata": {
    "execution": {
     "iopub.execute_input": "2021-05-13T12:11:31.705213Z",
     "iopub.status.busy": "2021-05-13T12:11:31.704538Z",
     "iopub.status.idle": "2021-05-13T12:11:31.707390Z",
     "shell.execute_reply": "2021-05-13T12:11:31.706978Z"
    },
    "papermill": {
     "duration": 0.036241,
     "end_time": "2021-05-13T12:11:31.707489",
     "exception": false,
     "start_time": "2021-05-13T12:11:31.671248",
     "status": "completed"
    },
    "tags": []
   },
   "outputs": [],
   "source": [
    "#hide\n",
    "# g = g.rename(columns= {'continent':'group','country':'name','cases':'value'})"
   ]
  },
  {
   "cell_type": "code",
   "execution_count": 36,
   "id": "fleet-motorcycle",
   "metadata": {
    "execution": {
     "iopub.execute_input": "2021-05-13T12:11:31.775221Z",
     "iopub.status.busy": "2021-05-13T12:11:31.774680Z",
     "iopub.status.idle": "2021-05-13T12:11:31.777229Z",
     "shell.execute_reply": "2021-05-13T12:11:31.776769Z"
    },
    "papermill": {
     "duration": 0.037566,
     "end_time": "2021-05-13T12:11:31.777328",
     "exception": false,
     "start_time": "2021-05-13T12:11:31.739762",
     "status": "completed"
    },
    "tags": []
   },
   "outputs": [],
   "source": [
    "#hide\n",
    "# cols = ['name','group','day','value']"
   ]
  },
  {
   "cell_type": "code",
   "execution_count": 37,
   "id": "continued-sleeping",
   "metadata": {
    "execution": {
     "iopub.execute_input": "2021-05-13T12:11:31.842676Z",
     "iopub.status.busy": "2021-05-13T12:11:31.842039Z",
     "iopub.status.idle": "2021-05-13T12:11:31.844560Z",
     "shell.execute_reply": "2021-05-13T12:11:31.844121Z"
    },
    "papermill": {
     "duration": 0.0372,
     "end_time": "2021-05-13T12:11:31.844659",
     "exception": false,
     "start_time": "2021-05-13T12:11:31.807459",
     "status": "completed"
    },
    "tags": []
   },
   "outputs": [],
   "source": [
    "#hide\n",
    "# g.rename(columns= {'date':'day'},inplace = True)"
   ]
  },
  {
   "cell_type": "code",
   "execution_count": 38,
   "id": "major-fight",
   "metadata": {
    "execution": {
     "iopub.execute_input": "2021-05-13T12:11:31.914786Z",
     "iopub.status.busy": "2021-05-13T12:11:31.914212Z",
     "iopub.status.idle": "2021-05-13T12:11:31.916543Z",
     "shell.execute_reply": "2021-05-13T12:11:31.916092Z"
    },
    "papermill": {
     "duration": 0.037036,
     "end_time": "2021-05-13T12:11:31.916641",
     "exception": false,
     "start_time": "2021-05-13T12:11:31.879605",
     "status": "completed"
    },
    "tags": []
   },
   "outputs": [],
   "source": [
    "#hide\n",
    "# g = g[cols]"
   ]
  },
  {
   "cell_type": "code",
   "execution_count": 39,
   "id": "structured-mobile",
   "metadata": {
    "execution": {
     "iopub.execute_input": "2021-05-13T12:11:31.986166Z",
     "iopub.status.busy": "2021-05-13T12:11:31.985579Z",
     "iopub.status.idle": "2021-05-13T12:11:31.988117Z",
     "shell.execute_reply": "2021-05-13T12:11:31.987389Z"
    },
    "papermill": {
     "duration": 0.037942,
     "end_time": "2021-05-13T12:11:31.988236",
     "exception": false,
     "start_time": "2021-05-13T12:11:31.950294",
     "status": "completed"
    },
    "tags": []
   },
   "outputs": [],
   "source": [
    "# #hide\n",
    "# g = g[g.group.notna()]"
   ]
  },
  {
   "cell_type": "code",
   "execution_count": 40,
   "id": "determined-closing",
   "metadata": {
    "execution": {
     "iopub.execute_input": "2021-05-13T12:11:32.062607Z",
     "iopub.status.busy": "2021-05-13T12:11:32.062032Z",
     "iopub.status.idle": "2021-05-13T12:11:32.064041Z",
     "shell.execute_reply": "2021-05-13T12:11:32.063588Z"
    },
    "papermill": {
     "duration": 0.043119,
     "end_time": "2021-05-13T12:11:32.064148",
     "exception": false,
     "start_time": "2021-05-13T12:11:32.021029",
     "status": "completed"
    },
    "tags": []
   },
   "outputs": [],
   "source": [
    "# #hide\n",
    "# colors = dict(zip(\n",
    "#     [\"Oceania\", \"Europe\", \"Asia\", \"South America\", \"Middle East\", \"North America\", \"Africa\"],\n",
    "#     [\"#adb0ff\", \"#ffb3ff\", \"#90d595\", \"#e48381\", \"#aafbff\", \"#f7bb5f\", \"#eafb50\"]\n",
    "# ))\n",
    "# group_lk = g.set_index('name')['group'].to_dict()"
   ]
  },
  {
   "cell_type": "code",
   "execution_count": null,
   "id": "gross-drinking",
   "metadata": {
    "papermill": {
     "duration": 0.035778,
     "end_time": "2021-05-13T12:11:32.134596",
     "exception": false,
     "start_time": "2021-05-13T12:11:32.098818",
     "status": "completed"
    },
    "tags": []
   },
   "outputs": [],
   "source": []
  },
  {
   "cell_type": "code",
   "execution_count": 41,
   "id": "subject-macintosh",
   "metadata": {
    "execution": {
     "iopub.execute_input": "2021-05-13T12:11:32.216973Z",
     "iopub.status.busy": "2021-05-13T12:11:32.216222Z",
     "iopub.status.idle": "2021-05-13T12:11:32.218656Z",
     "shell.execute_reply": "2021-05-13T12:11:32.218153Z"
    },
    "papermill": {
     "duration": 0.044819,
     "end_time": "2021-05-13T12:11:32.218769",
     "exception": false,
     "start_time": "2021-05-13T12:11:32.173950",
     "status": "completed"
    },
    "tags": []
   },
   "outputs": [],
   "source": [
    "# #hide\n",
    "# fig, ax = plt.subplots(figsize=(15, 8))\n",
    "\n",
    "# def draw_barchart(current_day):\n",
    "#     dff = g[g['day'].eq(current_day)].sort_values(by='value', ascending=True).tail(10)\n",
    "#     ax.clear()\n",
    "#     ax.barh(dff['name'], dff['value'], color=[colors[group_lk[x]] for x in dff['name']])\n",
    "#     dx = dff['value'].max() / 200\n",
    "    \n",
    "#     for i, (value, name) in enumerate(zip(dff['value'], dff['name'])):\n",
    "#         ax.text(value-dx, i,     name,           size=14, weight=600, ha='right', va='bottom')\n",
    "#         ax.text(value-dx, i-.25, group_lk[name], size=10, color='#444444', ha='right', va='baseline')\n",
    "#         ax.text(value+dx, i,     f'{value:,.0f}',  size=14, ha='left',  va='center')\n",
    "#     ax.text(1, 0.4, current_day, transform=ax.transAxes, color='#777777', size=46, ha='right', weight=800)\n",
    "#     ax.text(0, 1.06, 'Population (thousands)', transform=ax.transAxes, size=12, color='#777777')\n",
    "#     ax.xaxis.set_major_formatter(ticker.StrMethodFormatter('{x:,.0f}'))\n",
    "#     ax.xaxis.set_ticks_position('top')\n",
    "#     ax.tick_params(axis='x', colors='#777777', labelsize=12)\n",
    "#     ax.set_yticks([])\n",
    "#     ax.margins(0, 0.01)\n",
    "#     ax.grid(which='major', axis='x', linestyle='-')\n",
    "#     ax.set_axisbelow(True)\n",
    "    \n",
    "#     ax.text(0, 1.15, 'Coronavirus',\n",
    "#             transform=ax.transAxes, size=24, weight=600, ha='left', va='top')\n",
    "# #     ax.text(1, 0, 'by @pratapvardhan; credit @jburnmurdoch', transform=ax.transAxes, color='#777777', ha='right',\n",
    "# #             bbox=dict(facecolor='white', alpha=0.8, edgecolor='white'))\n",
    "#     plt.box(False)"
   ]
  },
  {
   "cell_type": "code",
   "execution_count": 42,
   "id": "sexual-wages",
   "metadata": {
    "execution": {
     "iopub.execute_input": "2021-05-13T12:11:32.295588Z",
     "iopub.status.busy": "2021-05-13T12:11:32.294960Z",
     "iopub.status.idle": "2021-05-13T12:11:32.296824Z",
     "shell.execute_reply": "2021-05-13T12:11:32.297357Z"
    },
    "papermill": {
     "duration": 0.041785,
     "end_time": "2021-05-13T12:11:32.297477",
     "exception": false,
     "start_time": "2021-05-13T12:11:32.255692",
     "status": "completed"
    },
    "tags": []
   },
   "outputs": [],
   "source": [
    "# #hide_input\n",
    "# fig, ax = plt.subplots(figsize=(15, 8))\n",
    "# animator = animation.FuncAnimation(fig, draw_barchart, frames=range(g.day.values.min(), g.day.values.max()))\n",
    "# HTML(animator.to_jshtml())\n",
    "# # or use animator.to_html5_video() or animator.save() "
   ]
  },
  {
   "cell_type": "code",
   "execution_count": null,
   "id": "australian-container",
   "metadata": {
    "papermill": {
     "duration": 0.03595,
     "end_time": "2021-05-13T12:11:32.369674",
     "exception": false,
     "start_time": "2021-05-13T12:11:32.333724",
     "status": "completed"
    },
    "tags": []
   },
   "outputs": [],
   "source": []
  },
  {
   "cell_type": "code",
   "execution_count": null,
   "id": "mediterranean-pontiac",
   "metadata": {
    "papermill": {
     "duration": 0.033584,
     "end_time": "2021-05-13T12:11:32.441542",
     "exception": false,
     "start_time": "2021-05-13T12:11:32.407958",
     "status": "completed"
    },
    "tags": []
   },
   "outputs": [],
   "source": []
  },
  {
   "cell_type": "code",
   "execution_count": null,
   "id": "aging-legislature",
   "metadata": {
    "papermill": {
     "duration": 0.032848,
     "end_time": "2021-05-13T12:11:32.509178",
     "exception": false,
     "start_time": "2021-05-13T12:11:32.476330",
     "status": "completed"
    },
    "tags": []
   },
   "outputs": [],
   "source": []
  }
 ],
 "metadata": {
  "kernelspec": {
   "display_name": "Python 3",
   "language": "python",
   "name": "python3"
  },
  "language_info": {
   "codemirror_mode": {
    "name": "ipython",
    "version": 3
   },
   "file_extension": ".py",
   "mimetype": "text/x-python",
   "name": "python",
   "nbconvert_exporter": "python",
   "pygments_lexer": "ipython3",
   "version": "3.6.13"
  },
  "papermill": {
   "duration": 6.246588,
   "end_time": "2021-05-13T12:11:32.848068",
   "environment_variables": {},
   "exception": null,
   "input_path": "2020-03-21-covid19exp.ipynb",
   "output_path": "2020-03-21-covid19exp.ipynb",
   "parameters": {},
   "start_time": "2021-05-13T12:11:26.601480",
   "version": "2.0.0"
  }
 },
 "nbformat": 4,
 "nbformat_minor": 5
}