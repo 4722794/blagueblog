{
 "cells": [
  {
   "cell_type": "markdown",
   "id": "muslim-click",
   "metadata": {
    "papermill": {
     "duration": 0.033437,
     "end_time": "2021-06-02T01:18:15.607974",
     "exception": false,
     "start_time": "2021-06-02T01:18:15.574537",
     "status": "completed"
    },
    "tags": []
   },
   "source": [
    "# COVID-19 Case Race\n",
    "> A race chart to see rising cases around the world\n",
    "\n",
    "- author: Hargun Oberoi\n",
    "- image: images/covid-overview.png\n",
    "- hide: false\n",
    "- badges: false"
   ]
  },
  {
   "cell_type": "code",
   "execution_count": 1,
   "id": "proof-material",
   "metadata": {
    "execution": {
     "iopub.execute_input": "2021-06-02T01:18:15.678020Z",
     "iopub.status.busy": "2021-06-02T01:18:15.677388Z",
     "iopub.status.idle": "2021-06-02T01:18:15.999063Z",
     "shell.execute_reply": "2021-06-02T01:18:15.998575Z"
    },
    "papermill": {
     "duration": 0.360861,
     "end_time": "2021-06-02T01:18:15.999205",
     "exception": false,
     "start_time": "2021-06-02T01:18:15.638344",
     "status": "completed"
    },
    "tags": []
   },
   "outputs": [],
   "source": [
    "#hide\n",
    "import numpy as np\n",
    "import pandas as pd\n",
    "from jinja2 import Template\n",
    "from IPython.display import HTML"
   ]
  },
  {
   "cell_type": "code",
   "execution_count": 2,
   "id": "developed-terminology",
   "metadata": {
    "execution": {
     "iopub.execute_input": "2021-06-02T01:18:16.064035Z",
     "iopub.status.busy": "2021-06-02T01:18:16.063496Z",
     "iopub.status.idle": "2021-06-02T01:18:16.065772Z",
     "shell.execute_reply": "2021-06-02T01:18:16.065277Z"
    },
    "papermill": {
     "duration": 0.035616,
     "end_time": "2021-06-02T01:18:16.065875",
     "exception": false,
     "start_time": "2021-06-02T01:18:16.030259",
     "status": "completed"
    },
    "tags": []
   },
   "outputs": [],
   "source": [
    "#hide\n",
    "\n",
    "# FETCH\n",
    "base_url = 'https://raw.githubusercontent.com/pratapvardhan/notebooks/master/covid19/'\n",
    "paths = {\n",
    "    'mapping': base_url + 'mapping_countries.csv',\n",
    "    'overview': base_url + 'overview.tpl'\n",
    "}"
   ]
  },
  {
   "cell_type": "code",
   "execution_count": 3,
   "id": "dynamic-saver",
   "metadata": {
    "execution": {
     "iopub.execute_input": "2021-06-02T01:18:16.136728Z",
     "iopub.status.busy": "2021-06-02T01:18:16.136178Z",
     "iopub.status.idle": "2021-06-02T01:18:16.139538Z",
     "shell.execute_reply": "2021-06-02T01:18:16.139109Z"
    },
    "papermill": {
     "duration": 0.042414,
     "end_time": "2021-06-02T01:18:16.139633",
     "exception": false,
     "start_time": "2021-06-02T01:18:16.097219",
     "status": "completed"
    },
    "tags": []
   },
   "outputs": [
    {
     "data": {
      "text/plain": [
       "'https://raw.githubusercontent.com/pratapvardhan/notebooks/master/covid19/mapping_countries.csv'"
      ]
     },
     "execution_count": 3,
     "metadata": {},
     "output_type": "execute_result"
    }
   ],
   "source": [
    "#hide\n",
    "paths['mapping']"
   ]
  },
  {
   "cell_type": "code",
   "execution_count": 4,
   "id": "urban-software",
   "metadata": {
    "execution": {
     "iopub.execute_input": "2021-06-02T01:18:16.208555Z",
     "iopub.status.busy": "2021-06-02T01:18:16.207883Z",
     "iopub.status.idle": "2021-06-02T01:18:16.209869Z",
     "shell.execute_reply": "2021-06-02T01:18:16.210370Z"
    },
    "papermill": {
     "duration": 0.039644,
     "end_time": "2021-06-02T01:18:16.210480",
     "exception": false,
     "start_time": "2021-06-02T01:18:16.170836",
     "status": "completed"
    },
    "tags": []
   },
   "outputs": [],
   "source": [
    "#hide\n",
    "def get_mappings(url):\n",
    "    df = pd.read_csv(url)\n",
    "    return {\n",
    "        'df': df,\n",
    "        'replace.country': dict(df.dropna(subset=['Name']).set_index('Country')['Name']),\n",
    "        'map.continent': dict(df.set_index('Name')['Continent'])\n",
    "    }"
   ]
  },
  {
   "cell_type": "code",
   "execution_count": 5,
   "id": "intimate-machinery",
   "metadata": {
    "execution": {
     "iopub.execute_input": "2021-06-02T01:18:16.275114Z",
     "iopub.status.busy": "2021-06-02T01:18:16.274473Z",
     "iopub.status.idle": "2021-06-02T01:18:16.302704Z",
     "shell.execute_reply": "2021-06-02T01:18:16.302252Z"
    },
    "papermill": {
     "duration": 0.062917,
     "end_time": "2021-06-02T01:18:16.302807",
     "exception": false,
     "start_time": "2021-06-02T01:18:16.239890",
     "status": "completed"
    },
    "tags": []
   },
   "outputs": [],
   "source": [
    "#hide\n",
    "mapping = get_mappings(paths['mapping'])"
   ]
  },
  {
   "cell_type": "code",
   "execution_count": 6,
   "id": "certified-tactics",
   "metadata": {
    "execution": {
     "iopub.execute_input": "2021-06-02T01:18:16.369082Z",
     "iopub.status.busy": "2021-06-02T01:18:16.368370Z",
     "iopub.status.idle": "2021-06-02T01:18:16.370736Z",
     "shell.execute_reply": "2021-06-02T01:18:16.371222Z"
    },
    "papermill": {
     "duration": 0.037028,
     "end_time": "2021-06-02T01:18:16.371336",
     "exception": false,
     "start_time": "2021-06-02T01:18:16.334308",
     "status": "completed"
    },
    "tags": []
   },
   "outputs": [],
   "source": [
    "#hide\n",
    "def get_template(path):\n",
    "    from urllib.parse import urlparse\n",
    "    if bool(urlparse(path).netloc):\n",
    "        from urllib.request import urlopen\n",
    "        return urlopen(path).read().decode('utf8')\n",
    "    return open(path).read()"
   ]
  },
  {
   "cell_type": "code",
   "execution_count": 7,
   "id": "realistic-blast",
   "metadata": {
    "execution": {
     "iopub.execute_input": "2021-06-02T01:18:16.435238Z",
     "iopub.status.busy": "2021-06-02T01:18:16.434659Z",
     "iopub.status.idle": "2021-06-02T01:18:16.438719Z",
     "shell.execute_reply": "2021-06-02T01:18:16.439266Z"
    },
    "papermill": {
     "duration": 0.037939,
     "end_time": "2021-06-02T01:18:16.439382",
     "exception": false,
     "start_time": "2021-06-02T01:18:16.401443",
     "status": "completed"
    },
    "tags": []
   },
   "outputs": [],
   "source": [
    "#hide\n",
    "def get_frame(name):\n",
    "    url = (\n",
    "        'https://raw.githubusercontent.com/CSSEGISandData/COVID-19/master/csse_covid_19_data/'\n",
    "        f'csse_covid_19_time_series/time_series_covid19_{name}_global.csv')\n",
    "    df = pd.read_csv(url)\n",
    "    # rename countries\n",
    "    df['Country/Region'] = df['Country/Region'].replace(mapping['replace.country'])\n",
    "    return df"
   ]
  },
  {
   "cell_type": "code",
   "execution_count": 8,
   "id": "affiliated-characterization",
   "metadata": {
    "execution": {
     "iopub.execute_input": "2021-06-02T01:18:16.505552Z",
     "iopub.status.busy": "2021-06-02T01:18:16.505039Z",
     "iopub.status.idle": "2021-06-02T01:18:16.506892Z",
     "shell.execute_reply": "2021-06-02T01:18:16.507392Z"
    },
    "papermill": {
     "duration": 0.037171,
     "end_time": "2021-06-02T01:18:16.507507",
     "exception": false,
     "start_time": "2021-06-02T01:18:16.470336",
     "status": "completed"
    },
    "tags": []
   },
   "outputs": [],
   "source": [
    "#hide\n",
    "def get_dates(df):\n",
    "    dt_cols = df.columns[~df.columns.isin(['Province/State', 'Country/Region', 'Lat', 'Long'])]\n",
    "    LAST_DATE_I = -1\n",
    "    # sometimes last column may be empty, then go backwards\n",
    "    for i in range(-1, -len(dt_cols), -1):\n",
    "        if not df[dt_cols[i]].fillna(0).eq(0).all():\n",
    "            LAST_DATE_I = i\n",
    "            break\n",
    "    return LAST_DATE_I, dt_cols"
   ]
  },
  {
   "cell_type": "code",
   "execution_count": 9,
   "id": "recent-optimization",
   "metadata": {
    "execution": {
     "iopub.execute_input": "2021-06-02T01:18:16.576856Z",
     "iopub.status.busy": "2021-06-02T01:18:16.576165Z",
     "iopub.status.idle": "2021-06-02T01:18:16.850207Z",
     "shell.execute_reply": "2021-06-02T01:18:16.849726Z"
    },
    "papermill": {
     "duration": 0.308912,
     "end_time": "2021-06-02T01:18:16.850332",
     "exception": false,
     "start_time": "2021-06-02T01:18:16.541420",
     "status": "completed"
    },
    "tags": []
   },
   "outputs": [],
   "source": [
    "#hide\n",
    "COL_REGION = 'Country/Region'\n",
    "# Confirmed, Recovered, Deaths\n",
    "df = get_frame('confirmed')\n",
    "# dft_: timeseries, dfc_: today country agg\n",
    "dft_cases = df\n",
    "dft_deaths = get_frame('deaths')\n",
    "dft_recovered = get_frame('recovered')\n",
    "LAST_DATE_I, dt_cols = get_dates(df)"
   ]
  },
  {
   "cell_type": "code",
   "execution_count": 10,
   "id": "absolute-copper",
   "metadata": {
    "execution": {
     "iopub.execute_input": "2021-06-02T01:18:16.923296Z",
     "iopub.status.busy": "2021-06-02T01:18:16.922148Z",
     "iopub.status.idle": "2021-06-02T01:18:16.924477Z",
     "shell.execute_reply": "2021-06-02T01:18:16.925097Z"
    },
    "papermill": {
     "duration": 0.042077,
     "end_time": "2021-06-02T01:18:16.925209",
     "exception": false,
     "start_time": "2021-06-02T01:18:16.883132",
     "status": "completed"
    },
    "tags": []
   },
   "outputs": [],
   "source": [
    "#hide\n",
    "LAST_DATE_I, dt_cols = get_dates(df)\n",
    "dt_today =dt_cols[LAST_DATE_I]\n",
    "# dt_5day = dt_cols[LAST_DATE_I - 5]\n",
    "dt_yday = dt_cols[LAST_DATE_I - 1]"
   ]
  },
  {
   "cell_type": "code",
   "execution_count": 11,
   "id": "restricted-sheriff",
   "metadata": {
    "execution": {
     "iopub.execute_input": "2021-06-02T01:18:17.011163Z",
     "iopub.status.busy": "2021-06-02T01:18:17.008698Z",
     "iopub.status.idle": "2021-06-02T01:18:17.017849Z",
     "shell.execute_reply": "2021-06-02T01:18:17.017336Z"
    },
    "papermill": {
     "duration": 0.049388,
     "end_time": "2021-06-02T01:18:17.017999",
     "exception": false,
     "start_time": "2021-06-02T01:18:16.968611",
     "status": "completed"
    },
    "tags": []
   },
   "outputs": [],
   "source": [
    "#hide\n",
    "dfc_cases = dft_cases.groupby(COL_REGION)[dt_today].sum()\n",
    "dfc_deaths = dft_deaths.groupby(COL_REGION)[dt_today].sum()\n",
    "# dfp_cases = dft_cases.groupby(COL_REGION)[dt_5day].sum()\n",
    "# dfp_deaths = dft_deaths.groupby(COL_REGION)[dt_5day].sum()\n",
    "dfp_cases = dft_cases.groupby(COL_REGION)[dt_yday].sum()\n",
    "dfp_deaths = dft_deaths.groupby(COL_REGION)[dt_yday].sum()"
   ]
  },
  {
   "cell_type": "code",
   "execution_count": 12,
   "id": "deluxe-hepatitis",
   "metadata": {
    "execution": {
     "iopub.execute_input": "2021-06-02T01:18:17.089524Z",
     "iopub.status.busy": "2021-06-02T01:18:17.088921Z",
     "iopub.status.idle": "2021-06-02T01:18:17.093855Z",
     "shell.execute_reply": "2021-06-02T01:18:17.094412Z"
    },
    "papermill": {
     "duration": 0.04582,
     "end_time": "2021-06-02T01:18:17.094530",
     "exception": false,
     "start_time": "2021-06-02T01:18:17.048710",
     "status": "completed"
    },
    "tags": []
   },
   "outputs": [],
   "source": [
    "#hide\n",
    "df_table = (pd.DataFrame(dict(Cases = dfc_cases, Deaths = dfc_deaths, PCases = dfp_cases, PDeaths = dfp_deaths))\n",
    "            .sort_values(by = ['Cases','Deaths'], ascending = [False, False])\n",
    "            .reset_index())"
   ]
  },
  {
   "cell_type": "code",
   "execution_count": 13,
   "id": "educational-chancellor",
   "metadata": {
    "execution": {
     "iopub.execute_input": "2021-06-02T01:18:17.179662Z",
     "iopub.status.busy": "2021-06-02T01:18:17.179090Z",
     "iopub.status.idle": "2021-06-02T01:18:17.182361Z",
     "shell.execute_reply": "2021-06-02T01:18:17.182988Z"
    },
    "papermill": {
     "duration": 0.058547,
     "end_time": "2021-06-02T01:18:17.183118",
     "exception": false,
     "start_time": "2021-06-02T01:18:17.124571",
     "status": "completed"
    },
    "tags": []
   },
   "outputs": [
    {
     "data": {
      "text/html": [
       "<div>\n",
       "<style scoped>\n",
       "    .dataframe tbody tr th:only-of-type {\n",
       "        vertical-align: middle;\n",
       "    }\n",
       "\n",
       "    .dataframe tbody tr th {\n",
       "        vertical-align: top;\n",
       "    }\n",
       "\n",
       "    .dataframe thead th {\n",
       "        text-align: right;\n",
       "    }\n",
       "</style>\n",
       "<table border=\"1\" class=\"dataframe\">\n",
       "  <thead>\n",
       "    <tr style=\"text-align: right;\">\n",
       "      <th></th>\n",
       "      <th>Country/Region</th>\n",
       "      <th>Cases</th>\n",
       "      <th>Deaths</th>\n",
       "      <th>PCases</th>\n",
       "      <th>PDeaths</th>\n",
       "      <th>Cases (+)</th>\n",
       "      <th>Deaths (+)</th>\n",
       "      <th>Fatality Rate</th>\n",
       "      <th>Continent</th>\n",
       "    </tr>\n",
       "  </thead>\n",
       "  <tbody>\n",
       "    <tr>\n",
       "      <th>0</th>\n",
       "      <td>US</td>\n",
       "      <td>33264399</td>\n",
       "      <td>594568</td>\n",
       "      <td>33258664</td>\n",
       "      <td>594430</td>\n",
       "      <td>5735</td>\n",
       "      <td>138</td>\n",
       "      <td>1.79</td>\n",
       "      <td>North America</td>\n",
       "    </tr>\n",
       "    <tr>\n",
       "      <th>1</th>\n",
       "      <td>India</td>\n",
       "      <td>28175044</td>\n",
       "      <td>331895</td>\n",
       "      <td>28047534</td>\n",
       "      <td>329100</td>\n",
       "      <td>127510</td>\n",
       "      <td>2795</td>\n",
       "      <td>1.18</td>\n",
       "      <td>Asia</td>\n",
       "    </tr>\n",
       "    <tr>\n",
       "      <th>2</th>\n",
       "      <td>Brazil</td>\n",
       "      <td>16545554</td>\n",
       "      <td>462791</td>\n",
       "      <td>16515120</td>\n",
       "      <td>461931</td>\n",
       "      <td>30434</td>\n",
       "      <td>860</td>\n",
       "      <td>2.80</td>\n",
       "      <td>South America</td>\n",
       "    </tr>\n",
       "    <tr>\n",
       "      <th>3</th>\n",
       "      <td>France</td>\n",
       "      <td>5728788</td>\n",
       "      <td>109690</td>\n",
       "      <td>5728418</td>\n",
       "      <td>109562</td>\n",
       "      <td>370</td>\n",
       "      <td>128</td>\n",
       "      <td>1.91</td>\n",
       "      <td>Europe</td>\n",
       "    </tr>\n",
       "    <tr>\n",
       "      <th>4</th>\n",
       "      <td>Turkey</td>\n",
       "      <td>5249404</td>\n",
       "      <td>47527</td>\n",
       "      <td>5242911</td>\n",
       "      <td>47405</td>\n",
       "      <td>6493</td>\n",
       "      <td>122</td>\n",
       "      <td>0.91</td>\n",
       "      <td>Asia</td>\n",
       "    </tr>\n",
       "  </tbody>\n",
       "</table>\n",
       "</div>"
      ],
      "text/plain": [
       "  Country/Region     Cases  Deaths    PCases  PDeaths  Cases (+)  Deaths (+)  \\\n",
       "0             US  33264399  594568  33258664   594430       5735         138   \n",
       "1          India  28175044  331895  28047534   329100     127510        2795   \n",
       "2         Brazil  16545554  462791  16515120   461931      30434         860   \n",
       "3         France   5728788  109690   5728418   109562        370         128   \n",
       "4         Turkey   5249404   47527   5242911    47405       6493         122   \n",
       "\n",
       "   Fatality Rate      Continent  \n",
       "0           1.79  North America  \n",
       "1           1.18           Asia  \n",
       "2           2.80  South America  \n",
       "3           1.91         Europe  \n",
       "4           0.91           Asia  "
      ]
     },
     "execution_count": 13,
     "metadata": {},
     "output_type": "execute_result"
    }
   ],
   "source": [
    "#hide\n",
    "for c in 'Cases, Deaths'.split(', '):\n",
    "    df_table[f'{c} (+)'] = (df_table[c] - df_table[f'P{c}']).clip(0)\n",
    "    #Clip ça veut dire, les chiffres negatif sont interdit\n",
    "df_table['Fatality Rate'] = (100* df_table['Deaths']/ df_table['Cases']).round(2)\n",
    "df_table['Continent'] = df_table['Country/Region'].map(mapping['map.continent'])\n",
    "df_table.head(5)"
   ]
  },
  {
   "cell_type": "code",
   "execution_count": 14,
   "id": "aboriginal-bulgaria",
   "metadata": {
    "execution": {
     "iopub.execute_input": "2021-06-02T01:18:17.250422Z",
     "iopub.status.busy": "2021-06-02T01:18:17.249902Z",
     "iopub.status.idle": "2021-06-02T01:18:17.252333Z",
     "shell.execute_reply": "2021-06-02T01:18:17.252777Z"
    },
    "papermill": {
     "duration": 0.038289,
     "end_time": "2021-06-02T01:18:17.252888",
     "exception": false,
     "start_time": "2021-06-02T01:18:17.214599",
     "status": "completed"
    },
    "tags": []
   },
   "outputs": [],
   "source": [
    "#hide\n",
    "#delete problematic countries from table\n",
    "df_table = df_table[~df_table['Country/Region'].isin(['Cape Verde', 'Cruise Ship', 'Kosovo'])]"
   ]
  },
  {
   "cell_type": "code",
   "execution_count": 15,
   "id": "fantastic-effect",
   "metadata": {
    "execution": {
     "iopub.execute_input": "2021-06-02T01:18:17.319515Z",
     "iopub.status.busy": "2021-06-02T01:18:17.318705Z",
     "iopub.status.idle": "2021-06-02T01:18:17.338431Z",
     "shell.execute_reply": "2021-06-02T01:18:17.337967Z"
    },
    "papermill": {
     "duration": 0.055166,
     "end_time": "2021-06-02T01:18:17.338531",
     "exception": false,
     "start_time": "2021-06-02T01:18:17.283365",
     "status": "completed"
    },
    "tags": []
   },
   "outputs": [
    {
     "data": {
      "text/html": [
       "<div>\n",
       "<style scoped>\n",
       "    .dataframe tbody tr th:only-of-type {\n",
       "        vertical-align: middle;\n",
       "    }\n",
       "\n",
       "    .dataframe tbody tr th {\n",
       "        vertical-align: top;\n",
       "    }\n",
       "\n",
       "    .dataframe thead th {\n",
       "        text-align: right;\n",
       "    }\n",
       "</style>\n",
       "<table border=\"1\" class=\"dataframe\">\n",
       "  <thead>\n",
       "    <tr style=\"text-align: right;\">\n",
       "      <th></th>\n",
       "      <th>Country/Region</th>\n",
       "      <th>Cases</th>\n",
       "      <th>Deaths</th>\n",
       "      <th>PCases</th>\n",
       "      <th>PDeaths</th>\n",
       "      <th>Cases (+)</th>\n",
       "      <th>Deaths (+)</th>\n",
       "      <th>Fatality Rate</th>\n",
       "      <th>Continent</th>\n",
       "    </tr>\n",
       "  </thead>\n",
       "  <tbody>\n",
       "    <tr>\n",
       "      <th>0</th>\n",
       "      <td>US</td>\n",
       "      <td>33264399</td>\n",
       "      <td>594568</td>\n",
       "      <td>33258664</td>\n",
       "      <td>594430</td>\n",
       "      <td>5735</td>\n",
       "      <td>138</td>\n",
       "      <td>1.8</td>\n",
       "      <td>North America</td>\n",
       "    </tr>\n",
       "    <tr>\n",
       "      <th>1</th>\n",
       "      <td>India</td>\n",
       "      <td>28175044</td>\n",
       "      <td>331895</td>\n",
       "      <td>28047534</td>\n",
       "      <td>329100</td>\n",
       "      <td>127510</td>\n",
       "      <td>2795</td>\n",
       "      <td>1.2</td>\n",
       "      <td>Asia</td>\n",
       "    </tr>\n",
       "    <tr>\n",
       "      <th>2</th>\n",
       "      <td>Brazil</td>\n",
       "      <td>16545554</td>\n",
       "      <td>462791</td>\n",
       "      <td>16515120</td>\n",
       "      <td>461931</td>\n",
       "      <td>30434</td>\n",
       "      <td>860</td>\n",
       "      <td>2.8</td>\n",
       "      <td>South America</td>\n",
       "    </tr>\n",
       "    <tr>\n",
       "      <th>3</th>\n",
       "      <td>France</td>\n",
       "      <td>5728788</td>\n",
       "      <td>109690</td>\n",
       "      <td>5728418</td>\n",
       "      <td>109562</td>\n",
       "      <td>370</td>\n",
       "      <td>128</td>\n",
       "      <td>1.9</td>\n",
       "      <td>Europe</td>\n",
       "    </tr>\n",
       "    <tr>\n",
       "      <th>4</th>\n",
       "      <td>Turkey</td>\n",
       "      <td>5249404</td>\n",
       "      <td>47527</td>\n",
       "      <td>5242911</td>\n",
       "      <td>47405</td>\n",
       "      <td>6493</td>\n",
       "      <td>122</td>\n",
       "      <td>0.9</td>\n",
       "      <td>Asia</td>\n",
       "    </tr>\n",
       "  </tbody>\n",
       "</table>\n",
       "</div>"
      ],
      "text/plain": [
       "  Country/Region     Cases  Deaths    PCases  PDeaths  Cases (+)  Deaths (+)  \\\n",
       "0             US  33264399  594568  33258664   594430       5735         138   \n",
       "1          India  28175044  331895  28047534   329100     127510        2795   \n",
       "2         Brazil  16545554  462791  16515120   461931      30434         860   \n",
       "3         France   5728788  109690   5728418   109562        370         128   \n",
       "4         Turkey   5249404   47527   5242911    47405       6493         122   \n",
       "\n",
       "   Fatality Rate      Continent  \n",
       "0            1.8  North America  \n",
       "1            1.2           Asia  \n",
       "2            2.8  South America  \n",
       "3            1.9         Europe  \n",
       "4            0.9           Asia  "
      ]
     },
     "execution_count": 15,
     "metadata": {},
     "output_type": "execute_result"
    }
   ],
   "source": [
    "#hide\n",
    "df_table = (pd.DataFrame(dict(Cases=dfc_cases, Deaths=dfc_deaths, PCases=dfp_cases, PDeaths=dfp_deaths))\n",
    "             .sort_values(by=['Cases', 'Deaths'], ascending=[False, False])\n",
    "             .reset_index())\n",
    "df_table.rename(columns={'index': 'Country/Region'}, inplace=True)\n",
    "for c in 'Cases, Deaths'.split(', '):\n",
    "    df_table[f'{c} (+)'] = (df_table[c] - df_table[f'P{c}']).clip(0)  # DATA BUG\n",
    "df_table['Fatality Rate'] = (100 * df_table['Deaths'] / df_table['Cases']).round(1)\n",
    "df_table['Continent'] = df_table['Country/Region'].map(mapping['map.continent'])\n",
    "df_table.head(5)"
   ]
  },
  {
   "cell_type": "code",
   "execution_count": 16,
   "id": "fewer-occasion",
   "metadata": {
    "execution": {
     "iopub.execute_input": "2021-06-02T01:18:17.409095Z",
     "iopub.status.busy": "2021-06-02T01:18:17.408523Z",
     "iopub.status.idle": "2021-06-02T01:18:17.411326Z",
     "shell.execute_reply": "2021-06-02T01:18:17.411749Z"
    },
    "papermill": {
     "duration": 0.041272,
     "end_time": "2021-06-02T01:18:17.411863",
     "exception": false,
     "start_time": "2021-06-02T01:18:17.370591",
     "status": "completed"
    },
    "tags": []
   },
   "outputs": [],
   "source": [
    "#hide\n",
    "#delete problematic countries from table\n",
    "df_table = df_table[~df_table['Country/Region'].isin(['Cape Verde', 'Cruise Ship', 'Kosovo'])]"
   ]
  },
  {
   "cell_type": "code",
   "execution_count": 17,
   "id": "related-center",
   "metadata": {
    "execution": {
     "iopub.execute_input": "2021-06-02T01:18:17.498947Z",
     "iopub.status.busy": "2021-06-02T01:18:17.498371Z",
     "iopub.status.idle": "2021-06-02T01:18:17.500222Z",
     "shell.execute_reply": "2021-06-02T01:18:17.500643Z"
    },
    "papermill": {
     "duration": 0.054662,
     "end_time": "2021-06-02T01:18:17.500948",
     "exception": false,
     "start_time": "2021-06-02T01:18:17.446286",
     "status": "completed"
    },
    "tags": []
   },
   "outputs": [],
   "source": [
    "#hide\n",
    "metrics = [df_table.columns[index] for index in [1,2,5,6]]\n",
    "# s_china = df_table[df_table['Country/Region'].eq('China')][metrics].sum().add_prefix('China ')\n",
    "s_us = df_table[df_table['Country/Region'].eq('US')][metrics].sum().add_prefix('US ')\n",
    "s_eu = df_table[df_table['Continent'].eq('Europe')][metrics].sum().add_prefix('EU ')\n",
    "s_ind = df_table[df_table['Country/Region'].eq('India')][metrics].sum().add_prefix('India ')\n",
    "summary = {'updated': pd.to_datetime(dt_today), 'since': pd.to_datetime(dt_yday)}\n",
    "summary = {'updated': pd.to_datetime(dt_today), 'since': pd.to_datetime(dt_yday)}\n",
    "summary = {**summary, **df_table[metrics].sum(), **s_ind, **s_us, **s_eu}"
   ]
  },
  {
   "cell_type": "code",
   "execution_count": 18,
   "id": "engaging-syndrome",
   "metadata": {
    "execution": {
     "iopub.execute_input": "2021-06-02T01:18:17.567126Z",
     "iopub.status.busy": "2021-06-02T01:18:17.566613Z",
     "iopub.status.idle": "2021-06-02T01:18:17.577699Z",
     "shell.execute_reply": "2021-06-02T01:18:17.578213Z"
    },
    "papermill": {
     "duration": 0.046132,
     "end_time": "2021-06-02T01:18:17.578329",
     "exception": false,
     "start_time": "2021-06-02T01:18:17.532197",
     "status": "completed"
    },
    "tags": []
   },
   "outputs": [],
   "source": [
    "#hide\n",
    "dft_ct_new_cases = dft_cases.groupby(COL_REGION)[dt_cols].sum().diff(axis=1).fillna(0).astype(int)"
   ]
  },
  {
   "cell_type": "code",
   "execution_count": 19,
   "id": "neutral-assignment",
   "metadata": {
    "execution": {
     "iopub.execute_input": "2021-06-02T01:18:17.645015Z",
     "iopub.status.busy": "2021-06-02T01:18:17.644496Z",
     "iopub.status.idle": "2021-06-02T01:18:17.646573Z",
     "shell.execute_reply": "2021-06-02T01:18:17.646973Z"
    },
    "papermill": {
     "duration": 0.037017,
     "end_time": "2021-06-02T01:18:17.647084",
     "exception": false,
     "start_time": "2021-06-02T01:18:17.610067",
     "status": "completed"
    },
    "tags": []
   },
   "outputs": [],
   "source": [
    "#hide\n",
    "everydaycases = dft_ct_new_cases.cumsum(axis=1)"
   ]
  },
  {
   "cell_type": "code",
   "execution_count": 20,
   "id": "parliamentary-calgary",
   "metadata": {
    "execution": {
     "iopub.execute_input": "2021-06-02T01:18:17.712244Z",
     "iopub.status.busy": "2021-06-02T01:18:17.711688Z",
     "iopub.status.idle": "2021-06-02T01:18:18.192076Z",
     "shell.execute_reply": "2021-06-02T01:18:18.192529Z"
    },
    "papermill": {
     "duration": 0.514701,
     "end_time": "2021-06-02T01:18:18.192675",
     "exception": false,
     "start_time": "2021-06-02T01:18:17.677974",
     "status": "completed"
    },
    "tags": []
   },
   "outputs": [],
   "source": [
    "#hide\n",
    "import pandas as pd\n",
    "import matplotlib.pyplot as plt\n",
    "import matplotlib.ticker as ticker\n",
    "import matplotlib.animation as animation\n",
    "from IPython.display import HTML"
   ]
  },
  {
   "cell_type": "code",
   "execution_count": 21,
   "id": "lasting-extraction",
   "metadata": {
    "execution": {
     "iopub.execute_input": "2021-06-02T01:18:18.260828Z",
     "iopub.status.busy": "2021-06-02T01:18:18.260292Z",
     "iopub.status.idle": "2021-06-02T01:18:18.265851Z",
     "shell.execute_reply": "2021-06-02T01:18:18.265404Z"
    },
    "papermill": {
     "duration": 0.042435,
     "end_time": "2021-06-02T01:18:18.266005",
     "exception": false,
     "start_time": "2021-06-02T01:18:18.223570",
     "status": "completed"
    },
    "tags": []
   },
   "outputs": [],
   "source": [
    "#hide\n",
    "t = everydaycases.stack()"
   ]
  },
  {
   "cell_type": "code",
   "execution_count": 22,
   "id": "premier-sleeve",
   "metadata": {
    "execution": {
     "iopub.execute_input": "2021-06-02T01:18:18.346026Z",
     "iopub.status.busy": "2021-06-02T01:18:18.345415Z",
     "iopub.status.idle": "2021-06-02T01:18:18.352794Z",
     "shell.execute_reply": "2021-06-02T01:18:18.353446Z"
    },
    "papermill": {
     "duration": 0.048871,
     "end_time": "2021-06-02T01:18:18.353624",
     "exception": false,
     "start_time": "2021-06-02T01:18:18.304753",
     "status": "completed"
    },
    "tags": []
   },
   "outputs": [],
   "source": [
    "#hide\n",
    "g = t.reset_index(['Country/Region'])"
   ]
  },
  {
   "cell_type": "code",
   "execution_count": 23,
   "id": "distributed-pittsburgh",
   "metadata": {
    "execution": {
     "iopub.execute_input": "2021-06-02T01:18:18.421772Z",
     "iopub.status.busy": "2021-06-02T01:18:18.421157Z",
     "iopub.status.idle": "2021-06-02T01:18:18.422955Z",
     "shell.execute_reply": "2021-06-02T01:18:18.423675Z"
    },
    "papermill": {
     "duration": 0.036901,
     "end_time": "2021-06-02T01:18:18.423804",
     "exception": false,
     "start_time": "2021-06-02T01:18:18.386903",
     "status": "completed"
    },
    "tags": []
   },
   "outputs": [],
   "source": [
    "#hide\n",
    "g.index.name = 'date'"
   ]
  },
  {
   "cell_type": "code",
   "execution_count": 24,
   "id": "naked-donor",
   "metadata": {
    "execution": {
     "iopub.execute_input": "2021-06-02T01:18:18.488977Z",
     "iopub.status.busy": "2021-06-02T01:18:18.488461Z",
     "iopub.status.idle": "2021-06-02T01:18:18.491433Z",
     "shell.execute_reply": "2021-06-02T01:18:18.490966Z"
    },
    "papermill": {
     "duration": 0.036726,
     "end_time": "2021-06-02T01:18:18.491533",
     "exception": false,
     "start_time": "2021-06-02T01:18:18.454807",
     "status": "completed"
    },
    "tags": []
   },
   "outputs": [],
   "source": [
    "# #hide\n",
    "# g = g.reset_index(['date'])"
   ]
  },
  {
   "cell_type": "code",
   "execution_count": 25,
   "id": "incomplete-mustang",
   "metadata": {
    "execution": {
     "iopub.execute_input": "2021-06-02T01:18:18.558920Z",
     "iopub.status.busy": "2021-06-02T01:18:18.558364Z",
     "iopub.status.idle": "2021-06-02T01:18:18.560195Z",
     "shell.execute_reply": "2021-06-02T01:18:18.560618Z"
    },
    "papermill": {
     "duration": 0.037705,
     "end_time": "2021-06-02T01:18:18.560727",
     "exception": false,
     "start_time": "2021-06-02T01:18:18.523022",
     "status": "completed"
    },
    "tags": []
   },
   "outputs": [],
   "source": [
    "#hide\n",
    "# g.head()"
   ]
  },
  {
   "cell_type": "code",
   "execution_count": 26,
   "id": "specific-kruger",
   "metadata": {
    "execution": {
     "iopub.execute_input": "2021-06-02T01:18:18.634998Z",
     "iopub.status.busy": "2021-06-02T01:18:18.634401Z",
     "iopub.status.idle": "2021-06-02T01:18:18.636312Z",
     "shell.execute_reply": "2021-06-02T01:18:18.636758Z"
    },
    "papermill": {
     "duration": 0.038701,
     "end_time": "2021-06-02T01:18:18.636873",
     "exception": false,
     "start_time": "2021-06-02T01:18:18.598172",
     "status": "completed"
    },
    "tags": []
   },
   "outputs": [],
   "source": [
    "#hide\n",
    "# g.columns = ['date','country','cases']"
   ]
  },
  {
   "cell_type": "code",
   "execution_count": 27,
   "id": "tender-conversion",
   "metadata": {
    "execution": {
     "iopub.execute_input": "2021-06-02T01:18:18.704214Z",
     "iopub.status.busy": "2021-06-02T01:18:18.703598Z",
     "iopub.status.idle": "2021-06-02T01:18:18.705769Z",
     "shell.execute_reply": "2021-06-02T01:18:18.706267Z"
    },
    "papermill": {
     "duration": 0.038593,
     "end_time": "2021-06-02T01:18:18.706394",
     "exception": false,
     "start_time": "2021-06-02T01:18:18.667801",
     "status": "completed"
    },
    "tags": []
   },
   "outputs": [],
   "source": [
    "#hide\n",
    "# g['continent'] = g.country"
   ]
  },
  {
   "cell_type": "code",
   "execution_count": 28,
   "id": "substantial-wilderness",
   "metadata": {
    "execution": {
     "iopub.execute_input": "2021-06-02T01:18:18.774059Z",
     "iopub.status.busy": "2021-06-02T01:18:18.773171Z",
     "iopub.status.idle": "2021-06-02T01:18:18.775909Z",
     "shell.execute_reply": "2021-06-02T01:18:18.775421Z"
    },
    "papermill": {
     "duration": 0.037081,
     "end_time": "2021-06-02T01:18:18.776018",
     "exception": false,
     "start_time": "2021-06-02T01:18:18.738937",
     "status": "completed"
    },
    "tags": []
   },
   "outputs": [],
   "source": [
    "#hide\n",
    "# cols = list(g.columns.values)"
   ]
  },
  {
   "cell_type": "code",
   "execution_count": 29,
   "id": "solved-farming",
   "metadata": {
    "execution": {
     "iopub.execute_input": "2021-06-02T01:18:18.847571Z",
     "iopub.status.busy": "2021-06-02T01:18:18.847042Z",
     "iopub.status.idle": "2021-06-02T01:18:18.849489Z",
     "shell.execute_reply": "2021-06-02T01:18:18.849041Z"
    },
    "papermill": {
     "duration": 0.041215,
     "end_time": "2021-06-02T01:18:18.849597",
     "exception": false,
     "start_time": "2021-06-02T01:18:18.808382",
     "status": "completed"
    },
    "tags": []
   },
   "outputs": [],
   "source": [
    "#hide\n",
    "# cols.insert(0, cols.pop())"
   ]
  },
  {
   "cell_type": "code",
   "execution_count": 30,
   "id": "executed-adoption",
   "metadata": {
    "execution": {
     "iopub.execute_input": "2021-06-02T01:18:18.918428Z",
     "iopub.status.busy": "2021-06-02T01:18:18.917791Z",
     "iopub.status.idle": "2021-06-02T01:18:18.919827Z",
     "shell.execute_reply": "2021-06-02T01:18:18.920279Z"
    },
    "papermill": {
     "duration": 0.037577,
     "end_time": "2021-06-02T01:18:18.920390",
     "exception": false,
     "start_time": "2021-06-02T01:18:18.882813",
     "status": "completed"
    },
    "tags": []
   },
   "outputs": [],
   "source": [
    "#hide\n",
    "# g = g[cols]"
   ]
  },
  {
   "cell_type": "code",
   "execution_count": 31,
   "id": "subject-dublin",
   "metadata": {
    "execution": {
     "iopub.execute_input": "2021-06-02T01:18:18.990232Z",
     "iopub.status.busy": "2021-06-02T01:18:18.989627Z",
     "iopub.status.idle": "2021-06-02T01:18:18.991997Z",
     "shell.execute_reply": "2021-06-02T01:18:18.991569Z"
    },
    "papermill": {
     "duration": 0.040887,
     "end_time": "2021-06-02T01:18:18.992117",
     "exception": false,
     "start_time": "2021-06-02T01:18:18.951230",
     "status": "completed"
    },
    "tags": []
   },
   "outputs": [],
   "source": [
    "#hide\n",
    "# g['continent'] = g['continent'].map(mapping['map.continent'])"
   ]
  },
  {
   "cell_type": "code",
   "execution_count": 32,
   "id": "freelance-scout",
   "metadata": {
    "execution": {
     "iopub.execute_input": "2021-06-02T01:18:19.061319Z",
     "iopub.status.busy": "2021-06-02T01:18:19.060667Z",
     "iopub.status.idle": "2021-06-02T01:18:19.063188Z",
     "shell.execute_reply": "2021-06-02T01:18:19.063700Z"
    },
    "papermill": {
     "duration": 0.037103,
     "end_time": "2021-06-02T01:18:19.063817",
     "exception": false,
     "start_time": "2021-06-02T01:18:19.026714",
     "status": "completed"
    },
    "tags": []
   },
   "outputs": [],
   "source": [
    "#hide\n",
    "# g.head()"
   ]
  },
  {
   "cell_type": "code",
   "execution_count": 33,
   "id": "limited-engine",
   "metadata": {
    "execution": {
     "iopub.execute_input": "2021-06-02T01:18:19.135364Z",
     "iopub.status.busy": "2021-06-02T01:18:19.134839Z",
     "iopub.status.idle": "2021-06-02T01:18:19.136960Z",
     "shell.execute_reply": "2021-06-02T01:18:19.136492Z"
    },
    "papermill": {
     "duration": 0.038063,
     "end_time": "2021-06-02T01:18:19.137063",
     "exception": false,
     "start_time": "2021-06-02T01:18:19.099000",
     "status": "completed"
    },
    "tags": []
   },
   "outputs": [],
   "source": [
    "# hide\n",
    "# g['date'] = g['date'].astype('datetime64[ns]')"
   ]
  },
  {
   "cell_type": "code",
   "execution_count": 34,
   "id": "sophisticated-supervisor",
   "metadata": {
    "execution": {
     "iopub.execute_input": "2021-06-02T01:18:19.203436Z",
     "iopub.status.busy": "2021-06-02T01:18:19.202925Z",
     "iopub.status.idle": "2021-06-02T01:18:19.204744Z",
     "shell.execute_reply": "2021-06-02T01:18:19.205186Z"
    },
    "papermill": {
     "duration": 0.035542,
     "end_time": "2021-06-02T01:18:19.205297",
     "exception": false,
     "start_time": "2021-06-02T01:18:19.169755",
     "status": "completed"
    },
    "tags": []
   },
   "outputs": [],
   "source": [
    "#hide\n",
    "# g['date'] = g.date.dt.dayofyear"
   ]
  },
  {
   "cell_type": "code",
   "execution_count": 35,
   "id": "inside-dubai",
   "metadata": {
    "execution": {
     "iopub.execute_input": "2021-06-02T01:18:19.269527Z",
     "iopub.status.busy": "2021-06-02T01:18:19.268672Z",
     "iopub.status.idle": "2021-06-02T01:18:19.271213Z",
     "shell.execute_reply": "2021-06-02T01:18:19.271680Z"
    },
    "papermill": {
     "duration": 0.035849,
     "end_time": "2021-06-02T01:18:19.271794",
     "exception": false,
     "start_time": "2021-06-02T01:18:19.235945",
     "status": "completed"
    },
    "tags": []
   },
   "outputs": [],
   "source": [
    "#hide\n",
    "# g = g.rename(columns= {'continent':'group','country':'name','cases':'value'})"
   ]
  },
  {
   "cell_type": "code",
   "execution_count": 36,
   "id": "fleet-motorcycle",
   "metadata": {
    "execution": {
     "iopub.execute_input": "2021-06-02T01:18:19.340386Z",
     "iopub.status.busy": "2021-06-02T01:18:19.339825Z",
     "iopub.status.idle": "2021-06-02T01:18:19.341819Z",
     "shell.execute_reply": "2021-06-02T01:18:19.341383Z"
    },
    "papermill": {
     "duration": 0.038044,
     "end_time": "2021-06-02T01:18:19.341942",
     "exception": false,
     "start_time": "2021-06-02T01:18:19.303898",
     "status": "completed"
    },
    "tags": []
   },
   "outputs": [],
   "source": [
    "#hide\n",
    "# cols = ['name','group','day','value']"
   ]
  },
  {
   "cell_type": "code",
   "execution_count": 37,
   "id": "continued-sleeping",
   "metadata": {
    "execution": {
     "iopub.execute_input": "2021-06-02T01:18:19.408099Z",
     "iopub.status.busy": "2021-06-02T01:18:19.407589Z",
     "iopub.status.idle": "2021-06-02T01:18:19.409492Z",
     "shell.execute_reply": "2021-06-02T01:18:19.409989Z"
    },
    "papermill": {
     "duration": 0.036705,
     "end_time": "2021-06-02T01:18:19.410104",
     "exception": false,
     "start_time": "2021-06-02T01:18:19.373399",
     "status": "completed"
    },
    "tags": []
   },
   "outputs": [],
   "source": [
    "#hide\n",
    "# g.rename(columns= {'date':'day'},inplace = True)"
   ]
  },
  {
   "cell_type": "code",
   "execution_count": 38,
   "id": "major-fight",
   "metadata": {
    "execution": {
     "iopub.execute_input": "2021-06-02T01:18:19.477511Z",
     "iopub.status.busy": "2021-06-02T01:18:19.477003Z",
     "iopub.status.idle": "2021-06-02T01:18:19.478981Z",
     "shell.execute_reply": "2021-06-02T01:18:19.479425Z"
    },
    "papermill": {
     "duration": 0.037933,
     "end_time": "2021-06-02T01:18:19.479537",
     "exception": false,
     "start_time": "2021-06-02T01:18:19.441604",
     "status": "completed"
    },
    "tags": []
   },
   "outputs": [],
   "source": [
    "#hide\n",
    "# g = g[cols]"
   ]
  },
  {
   "cell_type": "code",
   "execution_count": 39,
   "id": "structured-mobile",
   "metadata": {
    "execution": {
     "iopub.execute_input": "2021-06-02T01:18:19.546032Z",
     "iopub.status.busy": "2021-06-02T01:18:19.545454Z",
     "iopub.status.idle": "2021-06-02T01:18:19.547389Z",
     "shell.execute_reply": "2021-06-02T01:18:19.547832Z"
    },
    "papermill": {
     "duration": 0.03693,
     "end_time": "2021-06-02T01:18:19.547942",
     "exception": false,
     "start_time": "2021-06-02T01:18:19.511012",
     "status": "completed"
    },
    "tags": []
   },
   "outputs": [],
   "source": [
    "# #hide\n",
    "# g = g[g.group.notna()]"
   ]
  },
  {
   "cell_type": "code",
   "execution_count": 40,
   "id": "determined-closing",
   "metadata": {
    "execution": {
     "iopub.execute_input": "2021-06-02T01:18:19.612385Z",
     "iopub.status.busy": "2021-06-02T01:18:19.611741Z",
     "iopub.status.idle": "2021-06-02T01:18:19.613845Z",
     "shell.execute_reply": "2021-06-02T01:18:19.614308Z"
    },
    "papermill": {
     "duration": 0.036287,
     "end_time": "2021-06-02T01:18:19.614418",
     "exception": false,
     "start_time": "2021-06-02T01:18:19.578131",
     "status": "completed"
    },
    "tags": []
   },
   "outputs": [],
   "source": [
    "# #hide\n",
    "# colors = dict(zip(\n",
    "#     [\"Oceania\", \"Europe\", \"Asia\", \"South America\", \"Middle East\", \"North America\", \"Africa\"],\n",
    "#     [\"#adb0ff\", \"#ffb3ff\", \"#90d595\", \"#e48381\", \"#aafbff\", \"#f7bb5f\", \"#eafb50\"]\n",
    "# ))\n",
    "# group_lk = g.set_index('name')['group'].to_dict()"
   ]
  },
  {
   "cell_type": "code",
   "execution_count": null,
   "id": "gross-drinking",
   "metadata": {
    "papermill": {
     "duration": 0.031051,
     "end_time": "2021-06-02T01:18:19.675254",
     "exception": false,
     "start_time": "2021-06-02T01:18:19.644203",
     "status": "completed"
    },
    "tags": []
   },
   "outputs": [],
   "source": []
  },
  {
   "cell_type": "code",
   "execution_count": 41,
   "id": "subject-macintosh",
   "metadata": {
    "execution": {
     "iopub.execute_input": "2021-06-02T01:18:19.740500Z",
     "iopub.status.busy": "2021-06-02T01:18:19.739974Z",
     "iopub.status.idle": "2021-06-02T01:18:19.741810Z",
     "shell.execute_reply": "2021-06-02T01:18:19.742275Z"
    },
    "papermill": {
     "duration": 0.036864,
     "end_time": "2021-06-02T01:18:19.742386",
     "exception": false,
     "start_time": "2021-06-02T01:18:19.705522",
     "status": "completed"
    },
    "tags": []
   },
   "outputs": [],
   "source": [
    "# #hide\n",
    "# fig, ax = plt.subplots(figsize=(15, 8))\n",
    "\n",
    "# def draw_barchart(current_day):\n",
    "#     dff = g[g['day'].eq(current_day)].sort_values(by='value', ascending=True).tail(10)\n",
    "#     ax.clear()\n",
    "#     ax.barh(dff['name'], dff['value'], color=[colors[group_lk[x]] for x in dff['name']])\n",
    "#     dx = dff['value'].max() / 200\n",
    "    \n",
    "#     for i, (value, name) in enumerate(zip(dff['value'], dff['name'])):\n",
    "#         ax.text(value-dx, i,     name,           size=14, weight=600, ha='right', va='bottom')\n",
    "#         ax.text(value-dx, i-.25, group_lk[name], size=10, color='#444444', ha='right', va='baseline')\n",
    "#         ax.text(value+dx, i,     f'{value:,.0f}',  size=14, ha='left',  va='center')\n",
    "#     ax.text(1, 0.4, current_day, transform=ax.transAxes, color='#777777', size=46, ha='right', weight=800)\n",
    "#     ax.text(0, 1.06, 'Population (thousands)', transform=ax.transAxes, size=12, color='#777777')\n",
    "#     ax.xaxis.set_major_formatter(ticker.StrMethodFormatter('{x:,.0f}'))\n",
    "#     ax.xaxis.set_ticks_position('top')\n",
    "#     ax.tick_params(axis='x', colors='#777777', labelsize=12)\n",
    "#     ax.set_yticks([])\n",
    "#     ax.margins(0, 0.01)\n",
    "#     ax.grid(which='major', axis='x', linestyle='-')\n",
    "#     ax.set_axisbelow(True)\n",
    "    \n",
    "#     ax.text(0, 1.15, 'Coronavirus',\n",
    "#             transform=ax.transAxes, size=24, weight=600, ha='left', va='top')\n",
    "# #     ax.text(1, 0, 'by @pratapvardhan; credit @jburnmurdoch', transform=ax.transAxes, color='#777777', ha='right',\n",
    "# #             bbox=dict(facecolor='white', alpha=0.8, edgecolor='white'))\n",
    "#     plt.box(False)"
   ]
  },
  {
   "cell_type": "code",
   "execution_count": 42,
   "id": "sexual-wages",
   "metadata": {
    "execution": {
     "iopub.execute_input": "2021-06-02T01:18:19.806867Z",
     "iopub.status.busy": "2021-06-02T01:18:19.806176Z",
     "iopub.status.idle": "2021-06-02T01:18:19.808198Z",
     "shell.execute_reply": "2021-06-02T01:18:19.808643Z"
    },
    "papermill": {
     "duration": 0.036127,
     "end_time": "2021-06-02T01:18:19.808753",
     "exception": false,
     "start_time": "2021-06-02T01:18:19.772626",
     "status": "completed"
    },
    "tags": []
   },
   "outputs": [],
   "source": [
    "# #hide_input\n",
    "# fig, ax = plt.subplots(figsize=(15, 8))\n",
    "# animator = animation.FuncAnimation(fig, draw_barchart, frames=range(g.day.values.min(), g.day.values.max()))\n",
    "# HTML(animator.to_jshtml())\n",
    "# # or use animator.to_html5_video() or animator.save() "
   ]
  },
  {
   "cell_type": "code",
   "execution_count": null,
   "id": "australian-container",
   "metadata": {
    "papermill": {
     "duration": 0.03223,
     "end_time": "2021-06-02T01:18:19.871665",
     "exception": false,
     "start_time": "2021-06-02T01:18:19.839435",
     "status": "completed"
    },
    "tags": []
   },
   "outputs": [],
   "source": []
  },
  {
   "cell_type": "code",
   "execution_count": null,
   "id": "mediterranean-pontiac",
   "metadata": {
    "papermill": {
     "duration": 0.030353,
     "end_time": "2021-06-02T01:18:19.932772",
     "exception": false,
     "start_time": "2021-06-02T01:18:19.902419",
     "status": "completed"
    },
    "tags": []
   },
   "outputs": [],
   "source": []
  },
  {
   "cell_type": "code",
   "execution_count": null,
   "id": "aging-legislature",
   "metadata": {
    "papermill": {
     "duration": 0.031732,
     "end_time": "2021-06-02T01:18:19.994707",
     "exception": false,
     "start_time": "2021-06-02T01:18:19.962975",
     "status": "completed"
    },
    "tags": []
   },
   "outputs": [],
   "source": []
  }
 ],
 "metadata": {
  "kernelspec": {
   "display_name": "Python 3",
   "language": "python",
   "name": "python3"
  },
  "language_info": {
   "codemirror_mode": {
    "name": "ipython",
    "version": 3
   },
   "file_extension": ".py",
   "mimetype": "text/x-python",
   "name": "python",
   "nbconvert_exporter": "python",
   "pygments_lexer": "ipython3",
   "version": "3.6.13"
  },
  "papermill": {
   "duration": 5.805232,
   "end_time": "2021-06-02T01:18:20.334200",
   "environment_variables": {},
   "exception": null,
   "input_path": "2020-03-21-covid19exp.ipynb",
   "output_path": "2020-03-21-covid19exp.ipynb",
   "parameters": {},
   "start_time": "2021-06-02T01:18:14.528968",
   "version": "2.0.0"
  }
 },
 "nbformat": 4,
 "nbformat_minor": 5
}