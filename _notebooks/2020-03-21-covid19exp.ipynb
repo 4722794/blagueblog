{
 "cells": [
  {
   "cell_type": "markdown",
   "id": "muslim-click",
   "metadata": {
    "papermill": {
     "duration": 0.030055,
     "end_time": "2022-07-09T12:14:11.340453",
     "exception": false,
     "start_time": "2022-07-09T12:14:11.310398",
     "status": "completed"
    },
    "tags": []
   },
   "source": [
    "# COVID-19 Case Race\n",
    "> A race chart to see rising cases around the world\n",
    "\n",
    "- author: Hargun Oberoi\n",
    "- image: images/covid-overview.png\n",
    "- hide: false\n",
    "- badges: false"
   ]
  },
  {
   "cell_type": "code",
   "execution_count": 1,
   "id": "proof-material",
   "metadata": {
    "execution": {
     "iopub.execute_input": "2022-07-09T12:14:11.404968Z",
     "iopub.status.busy": "2022-07-09T12:14:11.404404Z",
     "iopub.status.idle": "2022-07-09T12:14:11.698225Z",
     "shell.execute_reply": "2022-07-09T12:14:11.697718Z"
    },
    "papermill": {
     "duration": 0.329845,
     "end_time": "2022-07-09T12:14:11.698347",
     "exception": false,
     "start_time": "2022-07-09T12:14:11.368502",
     "status": "completed"
    },
    "tags": []
   },
   "outputs": [],
   "source": [
    "#hide\n",
    "import numpy as np\n",
    "import pandas as pd\n",
    "from jinja2 import Template\n",
    "from IPython.display import HTML"
   ]
  },
  {
   "cell_type": "code",
   "execution_count": 2,
   "id": "developed-terminology",
   "metadata": {
    "execution": {
     "iopub.execute_input": "2022-07-09T12:14:11.755604Z",
     "iopub.status.busy": "2022-07-09T12:14:11.754805Z",
     "iopub.status.idle": "2022-07-09T12:14:11.756408Z",
     "shell.execute_reply": "2022-07-09T12:14:11.756933Z"
    },
    "papermill": {
     "duration": 0.032578,
     "end_time": "2022-07-09T12:14:11.757071",
     "exception": false,
     "start_time": "2022-07-09T12:14:11.724493",
     "status": "completed"
    },
    "tags": []
   },
   "outputs": [],
   "source": [
    "#hide\n",
    "\n",
    "# FETCH\n",
    "base_url = 'https://raw.githubusercontent.com/pratapvardhan/notebooks/master/covid19/'\n",
    "paths = {\n",
    "    'mapping': base_url + 'mapping_countries.csv',\n",
    "    'overview': base_url + 'overview.tpl'\n",
    "}"
   ]
  },
  {
   "cell_type": "code",
   "execution_count": 3,
   "id": "dynamic-saver",
   "metadata": {
    "execution": {
     "iopub.execute_input": "2022-07-09T12:14:11.818242Z",
     "iopub.status.busy": "2022-07-09T12:14:11.817711Z",
     "iopub.status.idle": "2022-07-09T12:14:11.820589Z",
     "shell.execute_reply": "2022-07-09T12:14:11.821006Z"
    },
    "papermill": {
     "duration": 0.037635,
     "end_time": "2022-07-09T12:14:11.821124",
     "exception": false,
     "start_time": "2022-07-09T12:14:11.783489",
     "status": "completed"
    },
    "tags": []
   },
   "outputs": [
    {
     "data": {
      "text/plain": [
       "'https://raw.githubusercontent.com/pratapvardhan/notebooks/master/covid19/mapping_countries.csv'"
      ]
     },
     "execution_count": 3,
     "metadata": {},
     "output_type": "execute_result"
    }
   ],
   "source": [
    "#hide\n",
    "paths['mapping']"
   ]
  },
  {
   "cell_type": "code",
   "execution_count": 4,
   "id": "urban-software",
   "metadata": {
    "execution": {
     "iopub.execute_input": "2022-07-09T12:14:11.879444Z",
     "iopub.status.busy": "2022-07-09T12:14:11.878853Z",
     "iopub.status.idle": "2022-07-09T12:14:11.881222Z",
     "shell.execute_reply": "2022-07-09T12:14:11.881721Z"
    },
    "papermill": {
     "duration": 0.034464,
     "end_time": "2022-07-09T12:14:11.881846",
     "exception": false,
     "start_time": "2022-07-09T12:14:11.847382",
     "status": "completed"
    },
    "tags": []
   },
   "outputs": [],
   "source": [
    "#hide\n",
    "def get_mappings(url):\n",
    "    df = pd.read_csv(url)\n",
    "    return {\n",
    "        'df': df,\n",
    "        'replace.country': dict(df.dropna(subset=['Name']).set_index('Country')['Name']),\n",
    "        'map.continent': dict(df.set_index('Name')['Continent'])\n",
    "    }"
   ]
  },
  {
   "cell_type": "code",
   "execution_count": 5,
   "id": "intimate-machinery",
   "metadata": {
    "execution": {
     "iopub.execute_input": "2022-07-09T12:14:11.940125Z",
     "iopub.status.busy": "2022-07-09T12:14:11.939560Z",
     "iopub.status.idle": "2022-07-09T12:14:11.993022Z",
     "shell.execute_reply": "2022-07-09T12:14:11.992432Z"
    },
    "papermill": {
     "duration": 0.085097,
     "end_time": "2022-07-09T12:14:11.993156",
     "exception": false,
     "start_time": "2022-07-09T12:14:11.908059",
     "status": "completed"
    },
    "tags": []
   },
   "outputs": [],
   "source": [
    "#hide\n",
    "mapping = get_mappings(paths['mapping'])"
   ]
  },
  {
   "cell_type": "code",
   "execution_count": 6,
   "id": "certified-tactics",
   "metadata": {
    "execution": {
     "iopub.execute_input": "2022-07-09T12:14:12.050996Z",
     "iopub.status.busy": "2022-07-09T12:14:12.050463Z",
     "iopub.status.idle": "2022-07-09T12:14:12.052832Z",
     "shell.execute_reply": "2022-07-09T12:14:12.053328Z"
    },
    "papermill": {
     "duration": 0.033922,
     "end_time": "2022-07-09T12:14:12.053450",
     "exception": false,
     "start_time": "2022-07-09T12:14:12.019528",
     "status": "completed"
    },
    "tags": []
   },
   "outputs": [],
   "source": [
    "#hide\n",
    "def get_template(path):\n",
    "    from urllib.parse import urlparse\n",
    "    if bool(urlparse(path).netloc):\n",
    "        from urllib.request import urlopen\n",
    "        return urlopen(path).read().decode('utf8')\n",
    "    return open(path).read()"
   ]
  },
  {
   "cell_type": "code",
   "execution_count": 7,
   "id": "realistic-blast",
   "metadata": {
    "execution": {
     "iopub.execute_input": "2022-07-09T12:14:12.110833Z",
     "iopub.status.busy": "2022-07-09T12:14:12.110305Z",
     "iopub.status.idle": "2022-07-09T12:14:12.112623Z",
     "shell.execute_reply": "2022-07-09T12:14:12.113116Z"
    },
    "papermill": {
     "duration": 0.033688,
     "end_time": "2022-07-09T12:14:12.113236",
     "exception": false,
     "start_time": "2022-07-09T12:14:12.079548",
     "status": "completed"
    },
    "tags": []
   },
   "outputs": [],
   "source": [
    "#hide\n",
    "def get_frame(name):\n",
    "    url = (\n",
    "        'https://raw.githubusercontent.com/CSSEGISandData/COVID-19/master/csse_covid_19_data/'\n",
    "        f'csse_covid_19_time_series/time_series_covid19_{name}_global.csv')\n",
    "    df = pd.read_csv(url)\n",
    "    # rename countries\n",
    "    df['Country/Region'] = df['Country/Region'].replace(mapping['replace.country'])\n",
    "    return df"
   ]
  },
  {
   "cell_type": "code",
   "execution_count": 8,
   "id": "affiliated-characterization",
   "metadata": {
    "execution": {
     "iopub.execute_input": "2022-07-09T12:14:12.170531Z",
     "iopub.status.busy": "2022-07-09T12:14:12.169993Z",
     "iopub.status.idle": "2022-07-09T12:14:12.172449Z",
     "shell.execute_reply": "2022-07-09T12:14:12.172043Z"
    },
    "papermill": {
     "duration": 0.033364,
     "end_time": "2022-07-09T12:14:12.172554",
     "exception": false,
     "start_time": "2022-07-09T12:14:12.139190",
     "status": "completed"
    },
    "tags": []
   },
   "outputs": [],
   "source": [
    "#hide\n",
    "def get_dates(df):\n",
    "    dt_cols = df.columns[~df.columns.isin(['Province/State', 'Country/Region', 'Lat', 'Long'])]\n",
    "    LAST_DATE_I = -1\n",
    "    # sometimes last column may be empty, then go backwards\n",
    "    for i in range(-1, -len(dt_cols), -1):\n",
    "        if not df[dt_cols[i]].fillna(0).eq(0).all():\n",
    "            LAST_DATE_I = i\n",
    "            break\n",
    "    return LAST_DATE_I, dt_cols"
   ]
  },
  {
   "cell_type": "code",
   "execution_count": 9,
   "id": "recent-optimization",
   "metadata": {
    "execution": {
     "iopub.execute_input": "2022-07-09T12:14:12.229766Z",
     "iopub.status.busy": "2022-07-09T12:14:12.229225Z",
     "iopub.status.idle": "2022-07-09T12:14:12.745193Z",
     "shell.execute_reply": "2022-07-09T12:14:12.744666Z"
    },
    "papermill": {
     "duration": 0.546703,
     "end_time": "2022-07-09T12:14:12.745325",
     "exception": false,
     "start_time": "2022-07-09T12:14:12.198622",
     "status": "completed"
    },
    "tags": []
   },
   "outputs": [],
   "source": [
    "#hide\n",
    "COL_REGION = 'Country/Region'\n",
    "# Confirmed, Recovered, Deaths\n",
    "df = get_frame('confirmed')\n",
    "# dft_: timeseries, dfc_: today country agg\n",
    "dft_cases = df\n",
    "dft_deaths = get_frame('deaths')\n",
    "dft_recovered = get_frame('recovered')\n",
    "LAST_DATE_I, dt_cols = get_dates(df)"
   ]
  },
  {
   "cell_type": "code",
   "execution_count": 10,
   "id": "absolute-copper",
   "metadata": {
    "execution": {
     "iopub.execute_input": "2022-07-09T12:14:12.811993Z",
     "iopub.status.busy": "2022-07-09T12:14:12.810594Z",
     "iopub.status.idle": "2022-07-09T12:14:12.812687Z",
     "shell.execute_reply": "2022-07-09T12:14:12.813127Z"
    },
    "papermill": {
     "duration": 0.037575,
     "end_time": "2022-07-09T12:14:12.813250",
     "exception": false,
     "start_time": "2022-07-09T12:14:12.775675",
     "status": "completed"
    },
    "tags": []
   },
   "outputs": [],
   "source": [
    "#hide\n",
    "LAST_DATE_I, dt_cols = get_dates(df)\n",
    "dt_today =dt_cols[LAST_DATE_I]\n",
    "# dt_5day = dt_cols[LAST_DATE_I - 5]\n",
    "dt_yday = dt_cols[LAST_DATE_I - 1]"
   ]
  },
  {
   "cell_type": "code",
   "execution_count": 11,
   "id": "restricted-sheriff",
   "metadata": {
    "execution": {
     "iopub.execute_input": "2022-07-09T12:14:12.878361Z",
     "iopub.status.busy": "2022-07-09T12:14:12.877467Z",
     "iopub.status.idle": "2022-07-09T12:14:12.891608Z",
     "shell.execute_reply": "2022-07-09T12:14:12.891121Z"
    },
    "papermill": {
     "duration": 0.04916,
     "end_time": "2022-07-09T12:14:12.891727",
     "exception": false,
     "start_time": "2022-07-09T12:14:12.842567",
     "status": "completed"
    },
    "tags": []
   },
   "outputs": [],
   "source": [
    "#hide\n",
    "dfc_cases = dft_cases.groupby(COL_REGION)[dt_today].sum()\n",
    "dfc_deaths = dft_deaths.groupby(COL_REGION)[dt_today].sum()\n",
    "# dfp_cases = dft_cases.groupby(COL_REGION)[dt_5day].sum()\n",
    "# dfp_deaths = dft_deaths.groupby(COL_REGION)[dt_5day].sum()\n",
    "dfp_cases = dft_cases.groupby(COL_REGION)[dt_yday].sum()\n",
    "dfp_deaths = dft_deaths.groupby(COL_REGION)[dt_yday].sum()"
   ]
  },
  {
   "cell_type": "code",
   "execution_count": 12,
   "id": "deluxe-hepatitis",
   "metadata": {
    "execution": {
     "iopub.execute_input": "2022-07-09T12:14:12.957003Z",
     "iopub.status.busy": "2022-07-09T12:14:12.956421Z",
     "iopub.status.idle": "2022-07-09T12:14:12.960699Z",
     "shell.execute_reply": "2022-07-09T12:14:12.961118Z"
    },
    "papermill": {
     "duration": 0.03986,
     "end_time": "2022-07-09T12:14:12.961246",
     "exception": false,
     "start_time": "2022-07-09T12:14:12.921386",
     "status": "completed"
    },
    "tags": []
   },
   "outputs": [],
   "source": [
    "#hide\n",
    "df_table = (pd.DataFrame(dict(Cases = dfc_cases, Deaths = dfc_deaths, PCases = dfp_cases, PDeaths = dfp_deaths))\n",
    "            .sort_values(by = ['Cases','Deaths'], ascending = [False, False])\n",
    "            .reset_index())"
   ]
  },
  {
   "cell_type": "code",
   "execution_count": 13,
   "id": "educational-chancellor",
   "metadata": {
    "execution": {
     "iopub.execute_input": "2022-07-09T12:14:13.037769Z",
     "iopub.status.busy": "2022-07-09T12:14:13.037090Z",
     "iopub.status.idle": "2022-07-09T12:14:13.052119Z",
     "shell.execute_reply": "2022-07-09T12:14:13.052610Z"
    },
    "papermill": {
     "duration": 0.062278,
     "end_time": "2022-07-09T12:14:13.052756",
     "exception": false,
     "start_time": "2022-07-09T12:14:12.990478",
     "status": "completed"
    },
    "tags": []
   },
   "outputs": [
    {
     "data": {
      "text/html": [
       "<div>\n",
       "<style scoped>\n",
       "    .dataframe tbody tr th:only-of-type {\n",
       "        vertical-align: middle;\n",
       "    }\n",
       "\n",
       "    .dataframe tbody tr th {\n",
       "        vertical-align: top;\n",
       "    }\n",
       "\n",
       "    .dataframe thead th {\n",
       "        text-align: right;\n",
       "    }\n",
       "</style>\n",
       "<table border=\"1\" class=\"dataframe\">\n",
       "  <thead>\n",
       "    <tr style=\"text-align: right;\">\n",
       "      <th></th>\n",
       "      <th>Country/Region</th>\n",
       "      <th>Cases</th>\n",
       "      <th>Deaths</th>\n",
       "      <th>PCases</th>\n",
       "      <th>PDeaths</th>\n",
       "      <th>Cases (+)</th>\n",
       "      <th>Deaths (+)</th>\n",
       "      <th>Fatality Rate</th>\n",
       "      <th>Continent</th>\n",
       "    </tr>\n",
       "  </thead>\n",
       "  <tbody>\n",
       "    <tr>\n",
       "      <th>0</th>\n",
       "      <td>US</td>\n",
       "      <td>88547882</td>\n",
       "      <td>1020816</td>\n",
       "      <td>88381589</td>\n",
       "      <td>1020262</td>\n",
       "      <td>166293</td>\n",
       "      <td>554</td>\n",
       "      <td>1.15</td>\n",
       "      <td>North America</td>\n",
       "    </tr>\n",
       "    <tr>\n",
       "      <th>1</th>\n",
       "      <td>India</td>\n",
       "      <td>43604394</td>\n",
       "      <td>525386</td>\n",
       "      <td>43585554</td>\n",
       "      <td>525343</td>\n",
       "      <td>18840</td>\n",
       "      <td>43</td>\n",
       "      <td>1.20</td>\n",
       "      <td>Asia</td>\n",
       "    </tr>\n",
       "    <tr>\n",
       "      <th>2</th>\n",
       "      <td>Brazil</td>\n",
       "      <td>32830844</td>\n",
       "      <td>673339</td>\n",
       "      <td>32759730</td>\n",
       "      <td>673073</td>\n",
       "      <td>71114</td>\n",
       "      <td>266</td>\n",
       "      <td>2.05</td>\n",
       "      <td>South America</td>\n",
       "    </tr>\n",
       "    <tr>\n",
       "      <th>3</th>\n",
       "      <td>France</td>\n",
       "      <td>32318670</td>\n",
       "      <td>151056</td>\n",
       "      <td>32177472</td>\n",
       "      <td>150982</td>\n",
       "      <td>141198</td>\n",
       "      <td>74</td>\n",
       "      <td>0.47</td>\n",
       "      <td>Europe</td>\n",
       "    </tr>\n",
       "    <tr>\n",
       "      <th>4</th>\n",
       "      <td>Germany</td>\n",
       "      <td>29022265</td>\n",
       "      <td>141862</td>\n",
       "      <td>28926346</td>\n",
       "      <td>141758</td>\n",
       "      <td>95919</td>\n",
       "      <td>104</td>\n",
       "      <td>0.49</td>\n",
       "      <td>Europe</td>\n",
       "    </tr>\n",
       "  </tbody>\n",
       "</table>\n",
       "</div>"
      ],
      "text/plain": [
       "  Country/Region     Cases   Deaths    PCases  PDeaths  Cases (+)  Deaths (+)  \\\n",
       "0             US  88547882  1020816  88381589  1020262     166293         554   \n",
       "1          India  43604394   525386  43585554   525343      18840          43   \n",
       "2         Brazil  32830844   673339  32759730   673073      71114         266   \n",
       "3         France  32318670   151056  32177472   150982     141198          74   \n",
       "4        Germany  29022265   141862  28926346   141758      95919         104   \n",
       "\n",
       "   Fatality Rate      Continent  \n",
       "0           1.15  North America  \n",
       "1           1.20           Asia  \n",
       "2           2.05  South America  \n",
       "3           0.47         Europe  \n",
       "4           0.49         Europe  "
      ]
     },
     "execution_count": 13,
     "metadata": {},
     "output_type": "execute_result"
    }
   ],
   "source": [
    "#hide\n",
    "for c in 'Cases, Deaths'.split(', '):\n",
    "    df_table[f'{c} (+)'] = (df_table[c] - df_table[f'P{c}']).clip(0)\n",
    "    #Clip ça veut dire, les chiffres negatif sont interdit\n",
    "df_table['Fatality Rate'] = (100* df_table['Deaths']/ df_table['Cases']).round(2)\n",
    "df_table['Continent'] = df_table['Country/Region'].map(mapping['map.continent'])\n",
    "df_table.head(5)"
   ]
  },
  {
   "cell_type": "code",
   "execution_count": 14,
   "id": "aboriginal-bulgaria",
   "metadata": {
    "execution": {
     "iopub.execute_input": "2022-07-09T12:14:13.118748Z",
     "iopub.status.busy": "2022-07-09T12:14:13.118179Z",
     "iopub.status.idle": "2022-07-09T12:14:13.120243Z",
     "shell.execute_reply": "2022-07-09T12:14:13.120640Z"
    },
    "papermill": {
     "duration": 0.037762,
     "end_time": "2022-07-09T12:14:13.120759",
     "exception": false,
     "start_time": "2022-07-09T12:14:13.082997",
     "status": "completed"
    },
    "tags": []
   },
   "outputs": [],
   "source": [
    "#hide\n",
    "#delete problematic countries from table\n",
    "df_table = df_table[~df_table['Country/Region'].isin(['Cape Verde', 'Cruise Ship', 'Kosovo'])]"
   ]
  },
  {
   "cell_type": "code",
   "execution_count": 15,
   "id": "fantastic-effect",
   "metadata": {
    "execution": {
     "iopub.execute_input": "2022-07-09T12:14:13.181769Z",
     "iopub.status.busy": "2022-07-09T12:14:13.181231Z",
     "iopub.status.idle": "2022-07-09T12:14:13.197893Z",
     "shell.execute_reply": "2022-07-09T12:14:13.198316Z"
    },
    "papermill": {
     "duration": 0.050963,
     "end_time": "2022-07-09T12:14:13.198439",
     "exception": false,
     "start_time": "2022-07-09T12:14:13.147476",
     "status": "completed"
    },
    "tags": []
   },
   "outputs": [
    {
     "data": {
      "text/html": [
       "<div>\n",
       "<style scoped>\n",
       "    .dataframe tbody tr th:only-of-type {\n",
       "        vertical-align: middle;\n",
       "    }\n",
       "\n",
       "    .dataframe tbody tr th {\n",
       "        vertical-align: top;\n",
       "    }\n",
       "\n",
       "    .dataframe thead th {\n",
       "        text-align: right;\n",
       "    }\n",
       "</style>\n",
       "<table border=\"1\" class=\"dataframe\">\n",
       "  <thead>\n",
       "    <tr style=\"text-align: right;\">\n",
       "      <th></th>\n",
       "      <th>Country/Region</th>\n",
       "      <th>Cases</th>\n",
       "      <th>Deaths</th>\n",
       "      <th>PCases</th>\n",
       "      <th>PDeaths</th>\n",
       "      <th>Cases (+)</th>\n",
       "      <th>Deaths (+)</th>\n",
       "      <th>Fatality Rate</th>\n",
       "      <th>Continent</th>\n",
       "    </tr>\n",
       "  </thead>\n",
       "  <tbody>\n",
       "    <tr>\n",
       "      <th>0</th>\n",
       "      <td>US</td>\n",
       "      <td>88547882</td>\n",
       "      <td>1020816</td>\n",
       "      <td>88381589</td>\n",
       "      <td>1020262</td>\n",
       "      <td>166293</td>\n",
       "      <td>554</td>\n",
       "      <td>1.2</td>\n",
       "      <td>North America</td>\n",
       "    </tr>\n",
       "    <tr>\n",
       "      <th>1</th>\n",
       "      <td>India</td>\n",
       "      <td>43604394</td>\n",
       "      <td>525386</td>\n",
       "      <td>43585554</td>\n",
       "      <td>525343</td>\n",
       "      <td>18840</td>\n",
       "      <td>43</td>\n",
       "      <td>1.2</td>\n",
       "      <td>Asia</td>\n",
       "    </tr>\n",
       "    <tr>\n",
       "      <th>2</th>\n",
       "      <td>Brazil</td>\n",
       "      <td>32830844</td>\n",
       "      <td>673339</td>\n",
       "      <td>32759730</td>\n",
       "      <td>673073</td>\n",
       "      <td>71114</td>\n",
       "      <td>266</td>\n",
       "      <td>2.1</td>\n",
       "      <td>South America</td>\n",
       "    </tr>\n",
       "    <tr>\n",
       "      <th>3</th>\n",
       "      <td>France</td>\n",
       "      <td>32318670</td>\n",
       "      <td>151056</td>\n",
       "      <td>32177472</td>\n",
       "      <td>150982</td>\n",
       "      <td>141198</td>\n",
       "      <td>74</td>\n",
       "      <td>0.5</td>\n",
       "      <td>Europe</td>\n",
       "    </tr>\n",
       "    <tr>\n",
       "      <th>4</th>\n",
       "      <td>Germany</td>\n",
       "      <td>29022265</td>\n",
       "      <td>141862</td>\n",
       "      <td>28926346</td>\n",
       "      <td>141758</td>\n",
       "      <td>95919</td>\n",
       "      <td>104</td>\n",
       "      <td>0.5</td>\n",
       "      <td>Europe</td>\n",
       "    </tr>\n",
       "  </tbody>\n",
       "</table>\n",
       "</div>"
      ],
      "text/plain": [
       "  Country/Region     Cases   Deaths    PCases  PDeaths  Cases (+)  Deaths (+)  \\\n",
       "0             US  88547882  1020816  88381589  1020262     166293         554   \n",
       "1          India  43604394   525386  43585554   525343      18840          43   \n",
       "2         Brazil  32830844   673339  32759730   673073      71114         266   \n",
       "3         France  32318670   151056  32177472   150982     141198          74   \n",
       "4        Germany  29022265   141862  28926346   141758      95919         104   \n",
       "\n",
       "   Fatality Rate      Continent  \n",
       "0            1.2  North America  \n",
       "1            1.2           Asia  \n",
       "2            2.1  South America  \n",
       "3            0.5         Europe  \n",
       "4            0.5         Europe  "
      ]
     },
     "execution_count": 15,
     "metadata": {},
     "output_type": "execute_result"
    }
   ],
   "source": [
    "#hide\n",
    "df_table = (pd.DataFrame(dict(Cases=dfc_cases, Deaths=dfc_deaths, PCases=dfp_cases, PDeaths=dfp_deaths))\n",
    "             .sort_values(by=['Cases', 'Deaths'], ascending=[False, False])\n",
    "             .reset_index())\n",
    "df_table.rename(columns={'index': 'Country/Region'}, inplace=True)\n",
    "for c in 'Cases, Deaths'.split(', '):\n",
    "    df_table[f'{c} (+)'] = (df_table[c] - df_table[f'P{c}']).clip(0)  # DATA BUG\n",
    "df_table['Fatality Rate'] = (100 * df_table['Deaths'] / df_table['Cases']).round(1)\n",
    "df_table['Continent'] = df_table['Country/Region'].map(mapping['map.continent'])\n",
    "df_table.head(5)"
   ]
  },
  {
   "cell_type": "code",
   "execution_count": 16,
   "id": "fewer-occasion",
   "metadata": {
    "execution": {
     "iopub.execute_input": "2022-07-09T12:14:13.258096Z",
     "iopub.status.busy": "2022-07-09T12:14:13.257563Z",
     "iopub.status.idle": "2022-07-09T12:14:13.260580Z",
     "shell.execute_reply": "2022-07-09T12:14:13.260979Z"
    },
    "papermill": {
     "duration": 0.035514,
     "end_time": "2022-07-09T12:14:13.261097",
     "exception": false,
     "start_time": "2022-07-09T12:14:13.225583",
     "status": "completed"
    },
    "tags": []
   },
   "outputs": [],
   "source": [
    "#hide\n",
    "#delete problematic countries from table\n",
    "df_table = df_table[~df_table['Country/Region'].isin(['Cape Verde', 'Cruise Ship', 'Kosovo'])]"
   ]
  },
  {
   "cell_type": "code",
   "execution_count": 17,
   "id": "related-center",
   "metadata": {
    "execution": {
     "iopub.execute_input": "2022-07-09T12:14:13.326394Z",
     "iopub.status.busy": "2022-07-09T12:14:13.325843Z",
     "iopub.status.idle": "2022-07-09T12:14:13.333331Z",
     "shell.execute_reply": "2022-07-09T12:14:13.332902Z"
    },
    "papermill": {
     "duration": 0.045575,
     "end_time": "2022-07-09T12:14:13.333436",
     "exception": false,
     "start_time": "2022-07-09T12:14:13.287861",
     "status": "completed"
    },
    "tags": []
   },
   "outputs": [],
   "source": [
    "#hide\n",
    "metrics = [df_table.columns[index] for index in [1,2,5,6]]\n",
    "# s_china = df_table[df_table['Country/Region'].eq('China')][metrics].sum().add_prefix('China ')\n",
    "s_us = df_table[df_table['Country/Region'].eq('US')][metrics].sum().add_prefix('US ')\n",
    "s_eu = df_table[df_table['Continent'].eq('Europe')][metrics].sum().add_prefix('EU ')\n",
    "s_ind = df_table[df_table['Country/Region'].eq('India')][metrics].sum().add_prefix('India ')\n",
    "summary = {'updated': pd.to_datetime(dt_today), 'since': pd.to_datetime(dt_yday)}\n",
    "summary = {'updated': pd.to_datetime(dt_today), 'since': pd.to_datetime(dt_yday)}\n",
    "summary = {**summary, **df_table[metrics].sum(), **s_ind, **s_us, **s_eu}"
   ]
  },
  {
   "cell_type": "code",
   "execution_count": 18,
   "id": "engaging-syndrome",
   "metadata": {
    "execution": {
     "iopub.execute_input": "2022-07-09T12:14:13.393221Z",
     "iopub.status.busy": "2022-07-09T12:14:13.392671Z",
     "iopub.status.idle": "2022-07-09T12:14:13.411833Z",
     "shell.execute_reply": "2022-07-09T12:14:13.411322Z"
    },
    "papermill": {
     "duration": 0.050989,
     "end_time": "2022-07-09T12:14:13.411952",
     "exception": false,
     "start_time": "2022-07-09T12:14:13.360963",
     "status": "completed"
    },
    "tags": []
   },
   "outputs": [],
   "source": [
    "#hide\n",
    "dft_ct_new_cases = dft_cases.groupby(COL_REGION)[dt_cols].sum().diff(axis=1).fillna(0).astype(int)"
   ]
  },
  {
   "cell_type": "code",
   "execution_count": 19,
   "id": "neutral-assignment",
   "metadata": {
    "execution": {
     "iopub.execute_input": "2022-07-09T12:14:13.470072Z",
     "iopub.status.busy": "2022-07-09T12:14:13.469546Z",
     "iopub.status.idle": "2022-07-09T12:14:13.474286Z",
     "shell.execute_reply": "2022-07-09T12:14:13.474707Z"
    },
    "papermill": {
     "duration": 0.035896,
     "end_time": "2022-07-09T12:14:13.474825",
     "exception": false,
     "start_time": "2022-07-09T12:14:13.438929",
     "status": "completed"
    },
    "tags": []
   },
   "outputs": [],
   "source": [
    "#hide\n",
    "everydaycases = dft_ct_new_cases.cumsum(axis=1)"
   ]
  },
  {
   "cell_type": "code",
   "execution_count": 20,
   "id": "parliamentary-calgary",
   "metadata": {
    "execution": {
     "iopub.execute_input": "2022-07-09T12:14:13.533212Z",
     "iopub.status.busy": "2022-07-09T12:14:13.532674Z",
     "iopub.status.idle": "2022-07-09T12:14:14.070377Z",
     "shell.execute_reply": "2022-07-09T12:14:14.070898Z"
    },
    "papermill": {
     "duration": 0.569272,
     "end_time": "2022-07-09T12:14:14.071064",
     "exception": false,
     "start_time": "2022-07-09T12:14:13.501792",
     "status": "completed"
    },
    "tags": []
   },
   "outputs": [],
   "source": [
    "#hide\n",
    "import pandas as pd\n",
    "import matplotlib.pyplot as plt\n",
    "import matplotlib.ticker as ticker\n",
    "import matplotlib.animation as animation\n",
    "from IPython.display import HTML"
   ]
  },
  {
   "cell_type": "code",
   "execution_count": 21,
   "id": "lasting-extraction",
   "metadata": {
    "execution": {
     "iopub.execute_input": "2022-07-09T12:14:14.132588Z",
     "iopub.status.busy": "2022-07-09T12:14:14.131904Z",
     "iopub.status.idle": "2022-07-09T12:14:14.140038Z",
     "shell.execute_reply": "2022-07-09T12:14:14.140490Z"
    },
    "papermill": {
     "duration": 0.042314,
     "end_time": "2022-07-09T12:14:14.140625",
     "exception": false,
     "start_time": "2022-07-09T12:14:14.098311",
     "status": "completed"
    },
    "tags": []
   },
   "outputs": [],
   "source": [
    "#hide\n",
    "t = everydaycases.stack()"
   ]
  },
  {
   "cell_type": "code",
   "execution_count": 22,
   "id": "premier-sleeve",
   "metadata": {
    "execution": {
     "iopub.execute_input": "2022-07-09T12:14:14.206556Z",
     "iopub.status.busy": "2022-07-09T12:14:14.205951Z",
     "iopub.status.idle": "2022-07-09T12:14:14.217239Z",
     "shell.execute_reply": "2022-07-09T12:14:14.216764Z"
    },
    "papermill": {
     "duration": 0.046092,
     "end_time": "2022-07-09T12:14:14.217351",
     "exception": false,
     "start_time": "2022-07-09T12:14:14.171259",
     "status": "completed"
    },
    "tags": []
   },
   "outputs": [],
   "source": [
    "#hide\n",
    "g = t.reset_index(['Country/Region'])"
   ]
  },
  {
   "cell_type": "code",
   "execution_count": 23,
   "id": "distributed-pittsburgh",
   "metadata": {
    "execution": {
     "iopub.execute_input": "2022-07-09T12:14:14.281555Z",
     "iopub.status.busy": "2022-07-09T12:14:14.280974Z",
     "iopub.status.idle": "2022-07-09T12:14:14.286147Z",
     "shell.execute_reply": "2022-07-09T12:14:14.285678Z"
    },
    "papermill": {
     "duration": 0.038704,
     "end_time": "2022-07-09T12:14:14.286255",
     "exception": false,
     "start_time": "2022-07-09T12:14:14.247551",
     "status": "completed"
    },
    "tags": []
   },
   "outputs": [],
   "source": [
    "#hide\n",
    "g.index.name = 'date'"
   ]
  },
  {
   "cell_type": "code",
   "execution_count": 24,
   "id": "naked-donor",
   "metadata": {
    "execution": {
     "iopub.execute_input": "2022-07-09T12:14:14.351040Z",
     "iopub.status.busy": "2022-07-09T12:14:14.350437Z",
     "iopub.status.idle": "2022-07-09T12:14:14.354376Z",
     "shell.execute_reply": "2022-07-09T12:14:14.353903Z"
    },
    "papermill": {
     "duration": 0.037849,
     "end_time": "2022-07-09T12:14:14.354485",
     "exception": false,
     "start_time": "2022-07-09T12:14:14.316636",
     "status": "completed"
    },
    "tags": []
   },
   "outputs": [],
   "source": [
    "# #hide\n",
    "# g = g.reset_index(['date'])"
   ]
  },
  {
   "cell_type": "code",
   "execution_count": 25,
   "id": "incomplete-mustang",
   "metadata": {
    "execution": {
     "iopub.execute_input": "2022-07-09T12:14:14.420733Z",
     "iopub.status.busy": "2022-07-09T12:14:14.419253Z",
     "iopub.status.idle": "2022-07-09T12:14:14.421525Z",
     "shell.execute_reply": "2022-07-09T12:14:14.421966Z"
    },
    "papermill": {
     "duration": 0.037001,
     "end_time": "2022-07-09T12:14:14.422092",
     "exception": false,
     "start_time": "2022-07-09T12:14:14.385091",
     "status": "completed"
    },
    "tags": []
   },
   "outputs": [],
   "source": [
    "#hide\n",
    "# g.head()"
   ]
  },
  {
   "cell_type": "code",
   "execution_count": 26,
   "id": "specific-kruger",
   "metadata": {
    "execution": {
     "iopub.execute_input": "2022-07-09T12:14:14.487521Z",
     "iopub.status.busy": "2022-07-09T12:14:14.486789Z",
     "iopub.status.idle": "2022-07-09T12:14:14.489082Z",
     "shell.execute_reply": "2022-07-09T12:14:14.488444Z"
    },
    "papermill": {
     "duration": 0.036559,
     "end_time": "2022-07-09T12:14:14.489204",
     "exception": false,
     "start_time": "2022-07-09T12:14:14.452645",
     "status": "completed"
    },
    "tags": []
   },
   "outputs": [],
   "source": [
    "#hide\n",
    "# g.columns = ['date','country','cases']"
   ]
  },
  {
   "cell_type": "code",
   "execution_count": 27,
   "id": "tender-conversion",
   "metadata": {
    "execution": {
     "iopub.execute_input": "2022-07-09T12:14:14.560134Z",
     "iopub.status.busy": "2022-07-09T12:14:14.559411Z",
     "iopub.status.idle": "2022-07-09T12:14:14.561263Z",
     "shell.execute_reply": "2022-07-09T12:14:14.561772Z"
    },
    "papermill": {
     "duration": 0.040794,
     "end_time": "2022-07-09T12:14:14.561916",
     "exception": false,
     "start_time": "2022-07-09T12:14:14.521122",
     "status": "completed"
    },
    "tags": []
   },
   "outputs": [],
   "source": [
    "#hide\n",
    "# g['continent'] = g.country"
   ]
  },
  {
   "cell_type": "code",
   "execution_count": 28,
   "id": "substantial-wilderness",
   "metadata": {
    "execution": {
     "iopub.execute_input": "2022-07-09T12:14:14.626915Z",
     "iopub.status.busy": "2022-07-09T12:14:14.626299Z",
     "iopub.status.idle": "2022-07-09T12:14:14.628527Z",
     "shell.execute_reply": "2022-07-09T12:14:14.629078Z"
    },
    "papermill": {
     "duration": 0.036605,
     "end_time": "2022-07-09T12:14:14.629228",
     "exception": false,
     "start_time": "2022-07-09T12:14:14.592623",
     "status": "completed"
    },
    "tags": []
   },
   "outputs": [],
   "source": [
    "#hide\n",
    "# cols = list(g.columns.values)"
   ]
  },
  {
   "cell_type": "code",
   "execution_count": 29,
   "id": "solved-farming",
   "metadata": {
    "execution": {
     "iopub.execute_input": "2022-07-09T12:14:14.688464Z",
     "iopub.status.busy": "2022-07-09T12:14:14.687733Z",
     "iopub.status.idle": "2022-07-09T12:14:14.690584Z",
     "shell.execute_reply": "2022-07-09T12:14:14.690084Z"
    },
    "papermill": {
     "duration": 0.033591,
     "end_time": "2022-07-09T12:14:14.690699",
     "exception": false,
     "start_time": "2022-07-09T12:14:14.657108",
     "status": "completed"
    },
    "tags": []
   },
   "outputs": [],
   "source": [
    "#hide\n",
    "# cols.insert(0, cols.pop())"
   ]
  },
  {
   "cell_type": "code",
   "execution_count": 30,
   "id": "executed-adoption",
   "metadata": {
    "execution": {
     "iopub.execute_input": "2022-07-09T12:14:14.757046Z",
     "iopub.status.busy": "2022-07-09T12:14:14.756440Z",
     "iopub.status.idle": "2022-07-09T12:14:14.758925Z",
     "shell.execute_reply": "2022-07-09T12:14:14.758356Z"
    },
    "papermill": {
     "duration": 0.037693,
     "end_time": "2022-07-09T12:14:14.759037",
     "exception": false,
     "start_time": "2022-07-09T12:14:14.721344",
     "status": "completed"
    },
    "tags": []
   },
   "outputs": [],
   "source": [
    "#hide\n",
    "# g = g[cols]"
   ]
  },
  {
   "cell_type": "code",
   "execution_count": 31,
   "id": "subject-dublin",
   "metadata": {
    "execution": {
     "iopub.execute_input": "2022-07-09T12:14:14.818132Z",
     "iopub.status.busy": "2022-07-09T12:14:14.817579Z",
     "iopub.status.idle": "2022-07-09T12:14:14.820943Z",
     "shell.execute_reply": "2022-07-09T12:14:14.821321Z"
    },
    "papermill": {
     "duration": 0.034014,
     "end_time": "2022-07-09T12:14:14.821441",
     "exception": false,
     "start_time": "2022-07-09T12:14:14.787427",
     "status": "completed"
    },
    "tags": []
   },
   "outputs": [],
   "source": [
    "#hide\n",
    "# g['continent'] = g['continent'].map(mapping['map.continent'])"
   ]
  },
  {
   "cell_type": "code",
   "execution_count": 32,
   "id": "freelance-scout",
   "metadata": {
    "execution": {
     "iopub.execute_input": "2022-07-09T12:14:14.878681Z",
     "iopub.status.busy": "2022-07-09T12:14:14.878127Z",
     "iopub.status.idle": "2022-07-09T12:14:14.880475Z",
     "shell.execute_reply": "2022-07-09T12:14:14.879968Z"
    },
    "papermill": {
     "duration": 0.032339,
     "end_time": "2022-07-09T12:14:14.880575",
     "exception": false,
     "start_time": "2022-07-09T12:14:14.848236",
     "status": "completed"
    },
    "tags": []
   },
   "outputs": [],
   "source": [
    "#hide\n",
    "# g.head()"
   ]
  },
  {
   "cell_type": "code",
   "execution_count": 33,
   "id": "limited-engine",
   "metadata": {
    "execution": {
     "iopub.execute_input": "2022-07-09T12:14:14.937996Z",
     "iopub.status.busy": "2022-07-09T12:14:14.937343Z",
     "iopub.status.idle": "2022-07-09T12:14:14.938789Z",
     "shell.execute_reply": "2022-07-09T12:14:14.939266Z"
    },
    "papermill": {
     "duration": 0.03212,
     "end_time": "2022-07-09T12:14:14.939409",
     "exception": false,
     "start_time": "2022-07-09T12:14:14.907289",
     "status": "completed"
    },
    "tags": []
   },
   "outputs": [],
   "source": [
    "# hide\n",
    "# g['date'] = g['date'].astype('datetime64[ns]')"
   ]
  },
  {
   "cell_type": "code",
   "execution_count": 34,
   "id": "sophisticated-supervisor",
   "metadata": {
    "execution": {
     "iopub.execute_input": "2022-07-09T12:14:14.997661Z",
     "iopub.status.busy": "2022-07-09T12:14:14.996968Z",
     "iopub.status.idle": "2022-07-09T12:14:14.998516Z",
     "shell.execute_reply": "2022-07-09T12:14:14.999128Z"
    },
    "papermill": {
     "duration": 0.032872,
     "end_time": "2022-07-09T12:14:14.999269",
     "exception": false,
     "start_time": "2022-07-09T12:14:14.966397",
     "status": "completed"
    },
    "tags": []
   },
   "outputs": [],
   "source": [
    "#hide\n",
    "# g['date'] = g.date.dt.dayofyear"
   ]
  },
  {
   "cell_type": "code",
   "execution_count": 35,
   "id": "inside-dubai",
   "metadata": {
    "execution": {
     "iopub.execute_input": "2022-07-09T12:14:15.056693Z",
     "iopub.status.busy": "2022-07-09T12:14:15.056136Z",
     "iopub.status.idle": "2022-07-09T12:14:15.058408Z",
     "shell.execute_reply": "2022-07-09T12:14:15.057895Z"
    },
    "papermill": {
     "duration": 0.032377,
     "end_time": "2022-07-09T12:14:15.058510",
     "exception": false,
     "start_time": "2022-07-09T12:14:15.026133",
     "status": "completed"
    },
    "tags": []
   },
   "outputs": [],
   "source": [
    "#hide\n",
    "# g = g.rename(columns= {'continent':'group','country':'name','cases':'value'})"
   ]
  },
  {
   "cell_type": "code",
   "execution_count": 36,
   "id": "fleet-motorcycle",
   "metadata": {
    "execution": {
     "iopub.execute_input": "2022-07-09T12:14:15.116711Z",
     "iopub.status.busy": "2022-07-09T12:14:15.116014Z",
     "iopub.status.idle": "2022-07-09T12:14:15.118224Z",
     "shell.execute_reply": "2022-07-09T12:14:15.117580Z"
    },
    "papermill": {
     "duration": 0.032802,
     "end_time": "2022-07-09T12:14:15.118347",
     "exception": false,
     "start_time": "2022-07-09T12:14:15.085545",
     "status": "completed"
    },
    "tags": []
   },
   "outputs": [],
   "source": [
    "#hide\n",
    "# cols = ['name','group','day','value']"
   ]
  },
  {
   "cell_type": "code",
   "execution_count": 37,
   "id": "continued-sleeping",
   "metadata": {
    "execution": {
     "iopub.execute_input": "2022-07-09T12:14:15.177214Z",
     "iopub.status.busy": "2022-07-09T12:14:15.176506Z",
     "iopub.status.idle": "2022-07-09T12:14:15.181016Z",
     "shell.execute_reply": "2022-07-09T12:14:15.180502Z"
    },
    "papermill": {
     "duration": 0.035132,
     "end_time": "2022-07-09T12:14:15.181143",
     "exception": false,
     "start_time": "2022-07-09T12:14:15.146011",
     "status": "completed"
    },
    "tags": []
   },
   "outputs": [],
   "source": [
    "#hide\n",
    "# g.rename(columns= {'date':'day'},inplace = True)"
   ]
  },
  {
   "cell_type": "code",
   "execution_count": 38,
   "id": "major-fight",
   "metadata": {
    "execution": {
     "iopub.execute_input": "2022-07-09T12:14:15.239555Z",
     "iopub.status.busy": "2022-07-09T12:14:15.238837Z",
     "iopub.status.idle": "2022-07-09T12:14:15.240910Z",
     "shell.execute_reply": "2022-07-09T12:14:15.240279Z"
    },
    "papermill": {
     "duration": 0.032656,
     "end_time": "2022-07-09T12:14:15.241031",
     "exception": false,
     "start_time": "2022-07-09T12:14:15.208375",
     "status": "completed"
    },
    "tags": []
   },
   "outputs": [],
   "source": [
    "#hide\n",
    "# g = g[cols]"
   ]
  },
  {
   "cell_type": "code",
   "execution_count": 39,
   "id": "structured-mobile",
   "metadata": {
    "execution": {
     "iopub.execute_input": "2022-07-09T12:14:15.298534Z",
     "iopub.status.busy": "2022-07-09T12:14:15.298020Z",
     "iopub.status.idle": "2022-07-09T12:14:15.300209Z",
     "shell.execute_reply": "2022-07-09T12:14:15.300581Z"
    },
    "papermill": {
     "duration": 0.032351,
     "end_time": "2022-07-09T12:14:15.300698",
     "exception": false,
     "start_time": "2022-07-09T12:14:15.268347",
     "status": "completed"
    },
    "tags": []
   },
   "outputs": [],
   "source": [
    "# #hide\n",
    "# g = g[g.group.notna()]"
   ]
  },
  {
   "cell_type": "code",
   "execution_count": 40,
   "id": "determined-closing",
   "metadata": {
    "execution": {
     "iopub.execute_input": "2022-07-09T12:14:15.358741Z",
     "iopub.status.busy": "2022-07-09T12:14:15.358201Z",
     "iopub.status.idle": "2022-07-09T12:14:15.360813Z",
     "shell.execute_reply": "2022-07-09T12:14:15.361413Z"
    },
    "papermill": {
     "duration": 0.034024,
     "end_time": "2022-07-09T12:14:15.361533",
     "exception": false,
     "start_time": "2022-07-09T12:14:15.327509",
     "status": "completed"
    },
    "tags": []
   },
   "outputs": [],
   "source": [
    "# #hide\n",
    "# colors = dict(zip(\n",
    "#     [\"Oceania\", \"Europe\", \"Asia\", \"South America\", \"Middle East\", \"North America\", \"Africa\"],\n",
    "#     [\"#adb0ff\", \"#ffb3ff\", \"#90d595\", \"#e48381\", \"#aafbff\", \"#f7bb5f\", \"#eafb50\"]\n",
    "# ))\n",
    "# group_lk = g.set_index('name')['group'].to_dict()"
   ]
  },
  {
   "cell_type": "code",
   "execution_count": null,
   "id": "gross-drinking",
   "metadata": {
    "papermill": {
     "duration": 0.026611,
     "end_time": "2022-07-09T12:14:15.414950",
     "exception": false,
     "start_time": "2022-07-09T12:14:15.388339",
     "status": "completed"
    },
    "tags": []
   },
   "outputs": [],
   "source": []
  },
  {
   "cell_type": "code",
   "execution_count": 41,
   "id": "subject-macintosh",
   "metadata": {
    "execution": {
     "iopub.execute_input": "2022-07-09T12:14:15.473258Z",
     "iopub.status.busy": "2022-07-09T12:14:15.472713Z",
     "iopub.status.idle": "2022-07-09T12:14:15.475661Z",
     "shell.execute_reply": "2022-07-09T12:14:15.476159Z"
    },
    "papermill": {
     "duration": 0.034411,
     "end_time": "2022-07-09T12:14:15.476280",
     "exception": false,
     "start_time": "2022-07-09T12:14:15.441869",
     "status": "completed"
    },
    "tags": []
   },
   "outputs": [],
   "source": [
    "# #hide\n",
    "# fig, ax = plt.subplots(figsize=(15, 8))\n",
    "\n",
    "# def draw_barchart(current_day):\n",
    "#     dff = g[g['day'].eq(current_day)].sort_values(by='value', ascending=True).tail(10)\n",
    "#     ax.clear()\n",
    "#     ax.barh(dff['name'], dff['value'], color=[colors[group_lk[x]] for x in dff['name']])\n",
    "#     dx = dff['value'].max() / 200\n",
    "    \n",
    "#     for i, (value, name) in enumerate(zip(dff['value'], dff['name'])):\n",
    "#         ax.text(value-dx, i,     name,           size=14, weight=600, ha='right', va='bottom')\n",
    "#         ax.text(value-dx, i-.25, group_lk[name], size=10, color='#444444', ha='right', va='baseline')\n",
    "#         ax.text(value+dx, i,     f'{value:,.0f}',  size=14, ha='left',  va='center')\n",
    "#     ax.text(1, 0.4, current_day, transform=ax.transAxes, color='#777777', size=46, ha='right', weight=800)\n",
    "#     ax.text(0, 1.06, 'Population (thousands)', transform=ax.transAxes, size=12, color='#777777')\n",
    "#     ax.xaxis.set_major_formatter(ticker.StrMethodFormatter('{x:,.0f}'))\n",
    "#     ax.xaxis.set_ticks_position('top')\n",
    "#     ax.tick_params(axis='x', colors='#777777', labelsize=12)\n",
    "#     ax.set_yticks([])\n",
    "#     ax.margins(0, 0.01)\n",
    "#     ax.grid(which='major', axis='x', linestyle='-')\n",
    "#     ax.set_axisbelow(True)\n",
    "    \n",
    "#     ax.text(0, 1.15, 'Coronavirus',\n",
    "#             transform=ax.transAxes, size=24, weight=600, ha='left', va='top')\n",
    "# #     ax.text(1, 0, 'by @pratapvardhan; credit @jburnmurdoch', transform=ax.transAxes, color='#777777', ha='right',\n",
    "# #             bbox=dict(facecolor='white', alpha=0.8, edgecolor='white'))\n",
    "#     plt.box(False)"
   ]
  },
  {
   "cell_type": "code",
   "execution_count": 42,
   "id": "sexual-wages",
   "metadata": {
    "execution": {
     "iopub.execute_input": "2022-07-09T12:14:15.533736Z",
     "iopub.status.busy": "2022-07-09T12:14:15.533114Z",
     "iopub.status.idle": "2022-07-09T12:14:15.537914Z",
     "shell.execute_reply": "2022-07-09T12:14:15.538345Z"
    },
    "papermill": {
     "duration": 0.035339,
     "end_time": "2022-07-09T12:14:15.538475",
     "exception": false,
     "start_time": "2022-07-09T12:14:15.503136",
     "status": "completed"
    },
    "tags": []
   },
   "outputs": [],
   "source": [
    "# #hide_input\n",
    "# fig, ax = plt.subplots(figsize=(15, 8))\n",
    "# animator = animation.FuncAnimation(fig, draw_barchart, frames=range(g.day.values.min(), g.day.values.max()))\n",
    "# HTML(animator.to_jshtml())\n",
    "# # or use animator.to_html5_video() or animator.save() "
   ]
  },
  {
   "cell_type": "code",
   "execution_count": null,
   "id": "australian-container",
   "metadata": {
    "papermill": {
     "duration": 0.030226,
     "end_time": "2022-07-09T12:14:15.599017",
     "exception": false,
     "start_time": "2022-07-09T12:14:15.568791",
     "status": "completed"
    },
    "tags": []
   },
   "outputs": [],
   "source": []
  },
  {
   "cell_type": "code",
   "execution_count": null,
   "id": "mediterranean-pontiac",
   "metadata": {
    "papermill": {
     "duration": 0.030268,
     "end_time": "2022-07-09T12:14:15.659602",
     "exception": false,
     "start_time": "2022-07-09T12:14:15.629334",
     "status": "completed"
    },
    "tags": []
   },
   "outputs": [],
   "source": []
  },
  {
   "cell_type": "code",
   "execution_count": null,
   "id": "aging-legislature",
   "metadata": {
    "papermill": {
     "duration": 0.0301,
     "end_time": "2022-07-09T12:14:15.720085",
     "exception": false,
     "start_time": "2022-07-09T12:14:15.689985",
     "status": "completed"
    },
    "tags": []
   },
   "outputs": [],
   "source": []
  }
 ],
 "metadata": {
  "kernelspec": {
   "display_name": "Python 3",
   "language": "python",
   "name": "python3"
  },
  "language_info": {
   "codemirror_mode": {
    "name": "ipython",
    "version": 3
   },
   "file_extension": ".py",
   "mimetype": "text/x-python",
   "name": "python",
   "nbconvert_exporter": "python",
   "pygments_lexer": "ipython3",
   "version": "3.6.15"
  },
  "papermill": {
   "duration": 5.992198,
   "end_time": "2022-07-09T12:14:16.068659",
   "environment_variables": {},
   "exception": null,
   "input_path": "2020-03-21-covid19exp.ipynb",
   "output_path": "2020-03-21-covid19exp.ipynb",
   "parameters": {},
   "start_time": "2022-07-09T12:14:10.076461",
   "version": "2.0.0"
  }
 },
 "nbformat": 4,
 "nbformat_minor": 5
}