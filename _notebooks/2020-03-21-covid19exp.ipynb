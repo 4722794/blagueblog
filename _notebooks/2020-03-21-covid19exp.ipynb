{
 "cells": [
  {
   "cell_type": "markdown",
   "id": "muslim-click",
   "metadata": {
    "papermill": {
     "duration": 0.037841,
     "end_time": "2021-06-08T00:40:38.588052",
     "exception": false,
     "start_time": "2021-06-08T00:40:38.550211",
     "status": "completed"
    },
    "tags": []
   },
   "source": [
    "# COVID-19 Case Race\n",
    "> A race chart to see rising cases around the world\n",
    "\n",
    "- author: Hargun Oberoi\n",
    "- image: images/covid-overview.png\n",
    "- hide: false\n",
    "- badges: false"
   ]
  },
  {
   "cell_type": "code",
   "execution_count": 1,
   "id": "proof-material",
   "metadata": {
    "execution": {
     "iopub.execute_input": "2021-06-08T00:40:38.669644Z",
     "iopub.status.busy": "2021-06-08T00:40:38.669011Z",
     "iopub.status.idle": "2021-06-08T00:40:39.038758Z",
     "shell.execute_reply": "2021-06-08T00:40:39.037862Z"
    },
    "papermill": {
     "duration": 0.416786,
     "end_time": "2021-06-08T00:40:39.038916",
     "exception": false,
     "start_time": "2021-06-08T00:40:38.622130",
     "status": "completed"
    },
    "tags": []
   },
   "outputs": [],
   "source": [
    "#hide\n",
    "import numpy as np\n",
    "import pandas as pd\n",
    "from jinja2 import Template\n",
    "from IPython.display import HTML"
   ]
  },
  {
   "cell_type": "code",
   "execution_count": 2,
   "id": "developed-terminology",
   "metadata": {
    "execution": {
     "iopub.execute_input": "2021-06-08T00:40:39.119443Z",
     "iopub.status.busy": "2021-06-08T00:40:39.118610Z",
     "iopub.status.idle": "2021-06-08T00:40:39.120322Z",
     "shell.execute_reply": "2021-06-08T00:40:39.120878Z"
    },
    "papermill": {
     "duration": 0.045021,
     "end_time": "2021-06-08T00:40:39.121020",
     "exception": false,
     "start_time": "2021-06-08T00:40:39.075999",
     "status": "completed"
    },
    "tags": []
   },
   "outputs": [],
   "source": [
    "#hide\n",
    "\n",
    "# FETCH\n",
    "base_url = 'https://raw.githubusercontent.com/pratapvardhan/notebooks/master/covid19/'\n",
    "paths = {\n",
    "    'mapping': base_url + 'mapping_countries.csv',\n",
    "    'overview': base_url + 'overview.tpl'\n",
    "}"
   ]
  },
  {
   "cell_type": "code",
   "execution_count": 3,
   "id": "dynamic-saver",
   "metadata": {
    "execution": {
     "iopub.execute_input": "2021-06-08T00:40:39.204099Z",
     "iopub.status.busy": "2021-06-08T00:40:39.203357Z",
     "iopub.status.idle": "2021-06-08T00:40:39.206098Z",
     "shell.execute_reply": "2021-06-08T00:40:39.206770Z"
    },
    "papermill": {
     "duration": 0.049855,
     "end_time": "2021-06-08T00:40:39.206983",
     "exception": false,
     "start_time": "2021-06-08T00:40:39.157128",
     "status": "completed"
    },
    "tags": []
   },
   "outputs": [
    {
     "data": {
      "text/plain": [
       "'https://raw.githubusercontent.com/pratapvardhan/notebooks/master/covid19/mapping_countries.csv'"
      ]
     },
     "execution_count": 3,
     "metadata": {},
     "output_type": "execute_result"
    }
   ],
   "source": [
    "#hide\n",
    "paths['mapping']"
   ]
  },
  {
   "cell_type": "code",
   "execution_count": 4,
   "id": "urban-software",
   "metadata": {
    "execution": {
     "iopub.execute_input": "2021-06-08T00:40:39.283774Z",
     "iopub.status.busy": "2021-06-08T00:40:39.282436Z",
     "iopub.status.idle": "2021-06-08T00:40:39.284464Z",
     "shell.execute_reply": "2021-06-08T00:40:39.285011Z"
    },
    "papermill": {
     "duration": 0.042763,
     "end_time": "2021-06-08T00:40:39.285159",
     "exception": false,
     "start_time": "2021-06-08T00:40:39.242396",
     "status": "completed"
    },
    "tags": []
   },
   "outputs": [],
   "source": [
    "#hide\n",
    "def get_mappings(url):\n",
    "    df = pd.read_csv(url)\n",
    "    return {\n",
    "        'df': df,\n",
    "        'replace.country': dict(df.dropna(subset=['Name']).set_index('Country')['Name']),\n",
    "        'map.continent': dict(df.set_index('Name')['Continent'])\n",
    "    }"
   ]
  },
  {
   "cell_type": "code",
   "execution_count": 5,
   "id": "intimate-machinery",
   "metadata": {
    "execution": {
     "iopub.execute_input": "2021-06-08T00:40:39.359992Z",
     "iopub.status.busy": "2021-06-08T00:40:39.359404Z",
     "iopub.status.idle": "2021-06-08T00:40:39.391055Z",
     "shell.execute_reply": "2021-06-08T00:40:39.390341Z"
    },
    "papermill": {
     "duration": 0.071719,
     "end_time": "2021-06-08T00:40:39.391222",
     "exception": false,
     "start_time": "2021-06-08T00:40:39.319503",
     "status": "completed"
    },
    "tags": []
   },
   "outputs": [],
   "source": [
    "#hide\n",
    "mapping = get_mappings(paths['mapping'])"
   ]
  },
  {
   "cell_type": "code",
   "execution_count": 6,
   "id": "certified-tactics",
   "metadata": {
    "execution": {
     "iopub.execute_input": "2021-06-08T00:40:39.465907Z",
     "iopub.status.busy": "2021-06-08T00:40:39.464704Z",
     "iopub.status.idle": "2021-06-08T00:40:39.466651Z",
     "shell.execute_reply": "2021-06-08T00:40:39.467130Z"
    },
    "papermill": {
     "duration": 0.04129,
     "end_time": "2021-06-08T00:40:39.467272",
     "exception": false,
     "start_time": "2021-06-08T00:40:39.425982",
     "status": "completed"
    },
    "tags": []
   },
   "outputs": [],
   "source": [
    "#hide\n",
    "def get_template(path):\n",
    "    from urllib.parse import urlparse\n",
    "    if bool(urlparse(path).netloc):\n",
    "        from urllib.request import urlopen\n",
    "        return urlopen(path).read().decode('utf8')\n",
    "    return open(path).read()"
   ]
  },
  {
   "cell_type": "code",
   "execution_count": 7,
   "id": "realistic-blast",
   "metadata": {
    "execution": {
     "iopub.execute_input": "2021-06-08T00:40:39.541230Z",
     "iopub.status.busy": "2021-06-08T00:40:39.540620Z",
     "iopub.status.idle": "2021-06-08T00:40:39.542869Z",
     "shell.execute_reply": "2021-06-08T00:40:39.542401Z"
    },
    "papermill": {
     "duration": 0.0418,
     "end_time": "2021-06-08T00:40:39.542993",
     "exception": false,
     "start_time": "2021-06-08T00:40:39.501193",
     "status": "completed"
    },
    "tags": []
   },
   "outputs": [],
   "source": [
    "#hide\n",
    "def get_frame(name):\n",
    "    url = (\n",
    "        'https://raw.githubusercontent.com/CSSEGISandData/COVID-19/master/csse_covid_19_data/'\n",
    "        f'csse_covid_19_time_series/time_series_covid19_{name}_global.csv')\n",
    "    df = pd.read_csv(url)\n",
    "    # rename countries\n",
    "    df['Country/Region'] = df['Country/Region'].replace(mapping['replace.country'])\n",
    "    return df"
   ]
  },
  {
   "cell_type": "code",
   "execution_count": 8,
   "id": "affiliated-characterization",
   "metadata": {
    "execution": {
     "iopub.execute_input": "2021-06-08T00:40:39.618847Z",
     "iopub.status.busy": "2021-06-08T00:40:39.618274Z",
     "iopub.status.idle": "2021-06-08T00:40:39.622486Z",
     "shell.execute_reply": "2021-06-08T00:40:39.620747Z"
    },
    "papermill": {
     "duration": 0.045969,
     "end_time": "2021-06-08T00:40:39.622620",
     "exception": false,
     "start_time": "2021-06-08T00:40:39.576651",
     "status": "completed"
    },
    "tags": []
   },
   "outputs": [],
   "source": [
    "#hide\n",
    "def get_dates(df):\n",
    "    dt_cols = df.columns[~df.columns.isin(['Province/State', 'Country/Region', 'Lat', 'Long'])]\n",
    "    LAST_DATE_I = -1\n",
    "    # sometimes last column may be empty, then go backwards\n",
    "    for i in range(-1, -len(dt_cols), -1):\n",
    "        if not df[dt_cols[i]].fillna(0).eq(0).all():\n",
    "            LAST_DATE_I = i\n",
    "            break\n",
    "    return LAST_DATE_I, dt_cols"
   ]
  },
  {
   "cell_type": "code",
   "execution_count": 9,
   "id": "recent-optimization",
   "metadata": {
    "execution": {
     "iopub.execute_input": "2021-06-08T00:40:39.694987Z",
     "iopub.status.busy": "2021-06-08T00:40:39.694308Z",
     "iopub.status.idle": "2021-06-08T00:40:40.004415Z",
     "shell.execute_reply": "2021-06-08T00:40:40.003820Z"
    },
    "papermill": {
     "duration": 0.348284,
     "end_time": "2021-06-08T00:40:40.004556",
     "exception": false,
     "start_time": "2021-06-08T00:40:39.656272",
     "status": "completed"
    },
    "tags": []
   },
   "outputs": [],
   "source": [
    "#hide\n",
    "COL_REGION = 'Country/Region'\n",
    "# Confirmed, Recovered, Deaths\n",
    "df = get_frame('confirmed')\n",
    "# dft_: timeseries, dfc_: today country agg\n",
    "dft_cases = df\n",
    "dft_deaths = get_frame('deaths')\n",
    "dft_recovered = get_frame('recovered')\n",
    "LAST_DATE_I, dt_cols = get_dates(df)"
   ]
  },
  {
   "cell_type": "code",
   "execution_count": 10,
   "id": "absolute-copper",
   "metadata": {
    "execution": {
     "iopub.execute_input": "2021-06-08T00:40:40.085421Z",
     "iopub.status.busy": "2021-06-08T00:40:40.084414Z",
     "iopub.status.idle": "2021-06-08T00:40:40.086331Z",
     "shell.execute_reply": "2021-06-08T00:40:40.086765Z"
    },
    "papermill": {
     "duration": 0.046027,
     "end_time": "2021-06-08T00:40:40.086902",
     "exception": false,
     "start_time": "2021-06-08T00:40:40.040875",
     "status": "completed"
    },
    "tags": []
   },
   "outputs": [],
   "source": [
    "#hide\n",
    "LAST_DATE_I, dt_cols = get_dates(df)\n",
    "dt_today =dt_cols[LAST_DATE_I]\n",
    "# dt_5day = dt_cols[LAST_DATE_I - 5]\n",
    "dt_yday = dt_cols[LAST_DATE_I - 1]"
   ]
  },
  {
   "cell_type": "code",
   "execution_count": 11,
   "id": "restricted-sheriff",
   "metadata": {
    "execution": {
     "iopub.execute_input": "2021-06-08T00:40:40.168942Z",
     "iopub.status.busy": "2021-06-08T00:40:40.167207Z",
     "iopub.status.idle": "2021-06-08T00:40:40.173633Z",
     "shell.execute_reply": "2021-06-08T00:40:40.174107Z"
    },
    "papermill": {
     "duration": 0.051977,
     "end_time": "2021-06-08T00:40:40.174250",
     "exception": false,
     "start_time": "2021-06-08T00:40:40.122273",
     "status": "completed"
    },
    "tags": []
   },
   "outputs": [],
   "source": [
    "#hide\n",
    "dfc_cases = dft_cases.groupby(COL_REGION)[dt_today].sum()\n",
    "dfc_deaths = dft_deaths.groupby(COL_REGION)[dt_today].sum()\n",
    "# dfp_cases = dft_cases.groupby(COL_REGION)[dt_5day].sum()\n",
    "# dfp_deaths = dft_deaths.groupby(COL_REGION)[dt_5day].sum()\n",
    "dfp_cases = dft_cases.groupby(COL_REGION)[dt_yday].sum()\n",
    "dfp_deaths = dft_deaths.groupby(COL_REGION)[dt_yday].sum()"
   ]
  },
  {
   "cell_type": "code",
   "execution_count": 12,
   "id": "deluxe-hepatitis",
   "metadata": {
    "execution": {
     "iopub.execute_input": "2021-06-08T00:40:40.250686Z",
     "iopub.status.busy": "2021-06-08T00:40:40.250079Z",
     "iopub.status.idle": "2021-06-08T00:40:40.254977Z",
     "shell.execute_reply": "2021-06-08T00:40:40.254485Z"
    },
    "papermill": {
     "duration": 0.046335,
     "end_time": "2021-06-08T00:40:40.255105",
     "exception": false,
     "start_time": "2021-06-08T00:40:40.208770",
     "status": "completed"
    },
    "tags": []
   },
   "outputs": [],
   "source": [
    "#hide\n",
    "df_table = (pd.DataFrame(dict(Cases = dfc_cases, Deaths = dfc_deaths, PCases = dfp_cases, PDeaths = dfp_deaths))\n",
    "            .sort_values(by = ['Cases','Deaths'], ascending = [False, False])\n",
    "            .reset_index())"
   ]
  },
  {
   "cell_type": "code",
   "execution_count": 13,
   "id": "educational-chancellor",
   "metadata": {
    "execution": {
     "iopub.execute_input": "2021-06-08T00:40:40.344681Z",
     "iopub.status.busy": "2021-06-08T00:40:40.343885Z",
     "iopub.status.idle": "2021-06-08T00:40:40.352042Z",
     "shell.execute_reply": "2021-06-08T00:40:40.351575Z"
    },
    "papermill": {
     "duration": 0.063575,
     "end_time": "2021-06-08T00:40:40.352161",
     "exception": false,
     "start_time": "2021-06-08T00:40:40.288586",
     "status": "completed"
    },
    "tags": []
   },
   "outputs": [
    {
     "data": {
      "text/html": [
       "<div>\n",
       "<style scoped>\n",
       "    .dataframe tbody tr th:only-of-type {\n",
       "        vertical-align: middle;\n",
       "    }\n",
       "\n",
       "    .dataframe tbody tr th {\n",
       "        vertical-align: top;\n",
       "    }\n",
       "\n",
       "    .dataframe thead th {\n",
       "        text-align: right;\n",
       "    }\n",
       "</style>\n",
       "<table border=\"1\" class=\"dataframe\">\n",
       "  <thead>\n",
       "    <tr style=\"text-align: right;\">\n",
       "      <th></th>\n",
       "      <th>Country/Region</th>\n",
       "      <th>Cases</th>\n",
       "      <th>Deaths</th>\n",
       "      <th>PCases</th>\n",
       "      <th>PDeaths</th>\n",
       "      <th>Cases (+)</th>\n",
       "      <th>Deaths (+)</th>\n",
       "      <th>Fatality Rate</th>\n",
       "      <th>Continent</th>\n",
       "    </tr>\n",
       "  </thead>\n",
       "  <tbody>\n",
       "    <tr>\n",
       "      <th>0</th>\n",
       "      <td>US</td>\n",
       "      <td>33362600</td>\n",
       "      <td>597628</td>\n",
       "      <td>33357205</td>\n",
       "      <td>597377</td>\n",
       "      <td>5395</td>\n",
       "      <td>251</td>\n",
       "      <td>1.79</td>\n",
       "      <td>North America</td>\n",
       "    </tr>\n",
       "    <tr>\n",
       "      <th>1</th>\n",
       "      <td>India</td>\n",
       "      <td>28909975</td>\n",
       "      <td>349186</td>\n",
       "      <td>28809339</td>\n",
       "      <td>346759</td>\n",
       "      <td>100636</td>\n",
       "      <td>2427</td>\n",
       "      <td>1.21</td>\n",
       "      <td>Asia</td>\n",
       "    </tr>\n",
       "    <tr>\n",
       "      <th>2</th>\n",
       "      <td>Brazil</td>\n",
       "      <td>16947062</td>\n",
       "      <td>473404</td>\n",
       "      <td>16907425</td>\n",
       "      <td>472531</td>\n",
       "      <td>39637</td>\n",
       "      <td>873</td>\n",
       "      <td>2.79</td>\n",
       "      <td>South America</td>\n",
       "    </tr>\n",
       "    <tr>\n",
       "      <th>3</th>\n",
       "      <td>France</td>\n",
       "      <td>5774361</td>\n",
       "      <td>110160</td>\n",
       "      <td>5769291</td>\n",
       "      <td>110135</td>\n",
       "      <td>5070</td>\n",
       "      <td>25</td>\n",
       "      <td>1.91</td>\n",
       "      <td>Europe</td>\n",
       "    </tr>\n",
       "    <tr>\n",
       "      <th>4</th>\n",
       "      <td>Turkey</td>\n",
       "      <td>5287980</td>\n",
       "      <td>48164</td>\n",
       "      <td>5282594</td>\n",
       "      <td>48068</td>\n",
       "      <td>5386</td>\n",
       "      <td>96</td>\n",
       "      <td>0.91</td>\n",
       "      <td>Asia</td>\n",
       "    </tr>\n",
       "  </tbody>\n",
       "</table>\n",
       "</div>"
      ],
      "text/plain": [
       "  Country/Region     Cases  Deaths    PCases  PDeaths  Cases (+)  Deaths (+)  \\\n",
       "0             US  33362600  597628  33357205   597377       5395         251   \n",
       "1          India  28909975  349186  28809339   346759     100636        2427   \n",
       "2         Brazil  16947062  473404  16907425   472531      39637         873   \n",
       "3         France   5774361  110160   5769291   110135       5070          25   \n",
       "4         Turkey   5287980   48164   5282594    48068       5386          96   \n",
       "\n",
       "   Fatality Rate      Continent  \n",
       "0           1.79  North America  \n",
       "1           1.21           Asia  \n",
       "2           2.79  South America  \n",
       "3           1.91         Europe  \n",
       "4           0.91           Asia  "
      ]
     },
     "execution_count": 13,
     "metadata": {},
     "output_type": "execute_result"
    }
   ],
   "source": [
    "#hide\n",
    "for c in 'Cases, Deaths'.split(', '):\n",
    "    df_table[f'{c} (+)'] = (df_table[c] - df_table[f'P{c}']).clip(0)\n",
    "    #Clip ça veut dire, les chiffres negatif sont interdit\n",
    "df_table['Fatality Rate'] = (100* df_table['Deaths']/ df_table['Cases']).round(2)\n",
    "df_table['Continent'] = df_table['Country/Region'].map(mapping['map.continent'])\n",
    "df_table.head(5)"
   ]
  },
  {
   "cell_type": "code",
   "execution_count": 14,
   "id": "aboriginal-bulgaria",
   "metadata": {
    "execution": {
     "iopub.execute_input": "2021-06-08T00:40:40.429172Z",
     "iopub.status.busy": "2021-06-08T00:40:40.428585Z",
     "iopub.status.idle": "2021-06-08T00:40:40.432327Z",
     "shell.execute_reply": "2021-06-08T00:40:40.431786Z"
    },
    "papermill": {
     "duration": 0.044529,
     "end_time": "2021-06-08T00:40:40.432456",
     "exception": false,
     "start_time": "2021-06-08T00:40:40.387927",
     "status": "completed"
    },
    "tags": []
   },
   "outputs": [],
   "source": [
    "#hide\n",
    "#delete problematic countries from table\n",
    "df_table = df_table[~df_table['Country/Region'].isin(['Cape Verde', 'Cruise Ship', 'Kosovo'])]"
   ]
  },
  {
   "cell_type": "code",
   "execution_count": 15,
   "id": "fantastic-effect",
   "metadata": {
    "execution": {
     "iopub.execute_input": "2021-06-08T00:40:40.511952Z",
     "iopub.status.busy": "2021-06-08T00:40:40.511377Z",
     "iopub.status.idle": "2021-06-08T00:40:40.533212Z",
     "shell.execute_reply": "2021-06-08T00:40:40.533951Z"
    },
    "papermill": {
     "duration": 0.065276,
     "end_time": "2021-06-08T00:40:40.534094",
     "exception": false,
     "start_time": "2021-06-08T00:40:40.468818",
     "status": "completed"
    },
    "tags": []
   },
   "outputs": [
    {
     "data": {
      "text/html": [
       "<div>\n",
       "<style scoped>\n",
       "    .dataframe tbody tr th:only-of-type {\n",
       "        vertical-align: middle;\n",
       "    }\n",
       "\n",
       "    .dataframe tbody tr th {\n",
       "        vertical-align: top;\n",
       "    }\n",
       "\n",
       "    .dataframe thead th {\n",
       "        text-align: right;\n",
       "    }\n",
       "</style>\n",
       "<table border=\"1\" class=\"dataframe\">\n",
       "  <thead>\n",
       "    <tr style=\"text-align: right;\">\n",
       "      <th></th>\n",
       "      <th>Country/Region</th>\n",
       "      <th>Cases</th>\n",
       "      <th>Deaths</th>\n",
       "      <th>PCases</th>\n",
       "      <th>PDeaths</th>\n",
       "      <th>Cases (+)</th>\n",
       "      <th>Deaths (+)</th>\n",
       "      <th>Fatality Rate</th>\n",
       "      <th>Continent</th>\n",
       "    </tr>\n",
       "  </thead>\n",
       "  <tbody>\n",
       "    <tr>\n",
       "      <th>0</th>\n",
       "      <td>US</td>\n",
       "      <td>33362600</td>\n",
       "      <td>597628</td>\n",
       "      <td>33357205</td>\n",
       "      <td>597377</td>\n",
       "      <td>5395</td>\n",
       "      <td>251</td>\n",
       "      <td>1.8</td>\n",
       "      <td>North America</td>\n",
       "    </tr>\n",
       "    <tr>\n",
       "      <th>1</th>\n",
       "      <td>India</td>\n",
       "      <td>28909975</td>\n",
       "      <td>349186</td>\n",
       "      <td>28809339</td>\n",
       "      <td>346759</td>\n",
       "      <td>100636</td>\n",
       "      <td>2427</td>\n",
       "      <td>1.2</td>\n",
       "      <td>Asia</td>\n",
       "    </tr>\n",
       "    <tr>\n",
       "      <th>2</th>\n",
       "      <td>Brazil</td>\n",
       "      <td>16947062</td>\n",
       "      <td>473404</td>\n",
       "      <td>16907425</td>\n",
       "      <td>472531</td>\n",
       "      <td>39637</td>\n",
       "      <td>873</td>\n",
       "      <td>2.8</td>\n",
       "      <td>South America</td>\n",
       "    </tr>\n",
       "    <tr>\n",
       "      <th>3</th>\n",
       "      <td>France</td>\n",
       "      <td>5774361</td>\n",
       "      <td>110160</td>\n",
       "      <td>5769291</td>\n",
       "      <td>110135</td>\n",
       "      <td>5070</td>\n",
       "      <td>25</td>\n",
       "      <td>1.9</td>\n",
       "      <td>Europe</td>\n",
       "    </tr>\n",
       "    <tr>\n",
       "      <th>4</th>\n",
       "      <td>Turkey</td>\n",
       "      <td>5287980</td>\n",
       "      <td>48164</td>\n",
       "      <td>5282594</td>\n",
       "      <td>48068</td>\n",
       "      <td>5386</td>\n",
       "      <td>96</td>\n",
       "      <td>0.9</td>\n",
       "      <td>Asia</td>\n",
       "    </tr>\n",
       "  </tbody>\n",
       "</table>\n",
       "</div>"
      ],
      "text/plain": [
       "  Country/Region     Cases  Deaths    PCases  PDeaths  Cases (+)  Deaths (+)  \\\n",
       "0             US  33362600  597628  33357205   597377       5395         251   \n",
       "1          India  28909975  349186  28809339   346759     100636        2427   \n",
       "2         Brazil  16947062  473404  16907425   472531      39637         873   \n",
       "3         France   5774361  110160   5769291   110135       5070          25   \n",
       "4         Turkey   5287980   48164   5282594    48068       5386          96   \n",
       "\n",
       "   Fatality Rate      Continent  \n",
       "0            1.8  North America  \n",
       "1            1.2           Asia  \n",
       "2            2.8  South America  \n",
       "3            1.9         Europe  \n",
       "4            0.9           Asia  "
      ]
     },
     "execution_count": 15,
     "metadata": {},
     "output_type": "execute_result"
    }
   ],
   "source": [
    "#hide\n",
    "df_table = (pd.DataFrame(dict(Cases=dfc_cases, Deaths=dfc_deaths, PCases=dfp_cases, PDeaths=dfp_deaths))\n",
    "             .sort_values(by=['Cases', 'Deaths'], ascending=[False, False])\n",
    "             .reset_index())\n",
    "df_table.rename(columns={'index': 'Country/Region'}, inplace=True)\n",
    "for c in 'Cases, Deaths'.split(', '):\n",
    "    df_table[f'{c} (+)'] = (df_table[c] - df_table[f'P{c}']).clip(0)  # DATA BUG\n",
    "df_table['Fatality Rate'] = (100 * df_table['Deaths'] / df_table['Cases']).round(1)\n",
    "df_table['Continent'] = df_table['Country/Region'].map(mapping['map.continent'])\n",
    "df_table.head(5)"
   ]
  },
  {
   "cell_type": "code",
   "execution_count": 16,
   "id": "fewer-occasion",
   "metadata": {
    "execution": {
     "iopub.execute_input": "2021-06-08T00:40:40.620409Z",
     "iopub.status.busy": "2021-06-08T00:40:40.619327Z",
     "iopub.status.idle": "2021-06-08T00:40:40.621502Z",
     "shell.execute_reply": "2021-06-08T00:40:40.622312Z"
    },
    "papermill": {
     "duration": 0.050463,
     "end_time": "2021-06-08T00:40:40.622542",
     "exception": false,
     "start_time": "2021-06-08T00:40:40.572079",
     "status": "completed"
    },
    "tags": []
   },
   "outputs": [],
   "source": [
    "#hide\n",
    "#delete problematic countries from table\n",
    "df_table = df_table[~df_table['Country/Region'].isin(['Cape Verde', 'Cruise Ship', 'Kosovo'])]"
   ]
  },
  {
   "cell_type": "code",
   "execution_count": 17,
   "id": "related-center",
   "metadata": {
    "execution": {
     "iopub.execute_input": "2021-06-08T00:40:40.713240Z",
     "iopub.status.busy": "2021-06-08T00:40:40.712368Z",
     "iopub.status.idle": "2021-06-08T00:40:40.717122Z",
     "shell.execute_reply": "2021-06-08T00:40:40.716658Z"
    },
    "papermill": {
     "duration": 0.060024,
     "end_time": "2021-06-08T00:40:40.717257",
     "exception": false,
     "start_time": "2021-06-08T00:40:40.657233",
     "status": "completed"
    },
    "tags": []
   },
   "outputs": [],
   "source": [
    "#hide\n",
    "metrics = [df_table.columns[index] for index in [1,2,5,6]]\n",
    "# s_china = df_table[df_table['Country/Region'].eq('China')][metrics].sum().add_prefix('China ')\n",
    "s_us = df_table[df_table['Country/Region'].eq('US')][metrics].sum().add_prefix('US ')\n",
    "s_eu = df_table[df_table['Continent'].eq('Europe')][metrics].sum().add_prefix('EU ')\n",
    "s_ind = df_table[df_table['Country/Region'].eq('India')][metrics].sum().add_prefix('India ')\n",
    "summary = {'updated': pd.to_datetime(dt_today), 'since': pd.to_datetime(dt_yday)}\n",
    "summary = {'updated': pd.to_datetime(dt_today), 'since': pd.to_datetime(dt_yday)}\n",
    "summary = {**summary, **df_table[metrics].sum(), **s_ind, **s_us, **s_eu}"
   ]
  },
  {
   "cell_type": "code",
   "execution_count": 18,
   "id": "engaging-syndrome",
   "metadata": {
    "execution": {
     "iopub.execute_input": "2021-06-08T00:40:40.788982Z",
     "iopub.status.busy": "2021-06-08T00:40:40.788432Z",
     "iopub.status.idle": "2021-06-08T00:40:40.807185Z",
     "shell.execute_reply": "2021-06-08T00:40:40.806660Z"
    },
    "papermill": {
     "duration": 0.055399,
     "end_time": "2021-06-08T00:40:40.807338",
     "exception": false,
     "start_time": "2021-06-08T00:40:40.751939",
     "status": "completed"
    },
    "tags": []
   },
   "outputs": [],
   "source": [
    "#hide\n",
    "dft_ct_new_cases = dft_cases.groupby(COL_REGION)[dt_cols].sum().diff(axis=1).fillna(0).astype(int)"
   ]
  },
  {
   "cell_type": "code",
   "execution_count": 19,
   "id": "neutral-assignment",
   "metadata": {
    "execution": {
     "iopub.execute_input": "2021-06-08T00:40:40.888527Z",
     "iopub.status.busy": "2021-06-08T00:40:40.887893Z",
     "iopub.status.idle": "2021-06-08T00:40:40.890141Z",
     "shell.execute_reply": "2021-06-08T00:40:40.889647Z"
    },
    "papermill": {
     "duration": 0.046238,
     "end_time": "2021-06-08T00:40:40.890265",
     "exception": false,
     "start_time": "2021-06-08T00:40:40.844027",
     "status": "completed"
    },
    "tags": []
   },
   "outputs": [],
   "source": [
    "#hide\n",
    "everydaycases = dft_ct_new_cases.cumsum(axis=1)"
   ]
  },
  {
   "cell_type": "code",
   "execution_count": 20,
   "id": "parliamentary-calgary",
   "metadata": {
    "execution": {
     "iopub.execute_input": "2021-06-08T00:40:40.965558Z",
     "iopub.status.busy": "2021-06-08T00:40:40.964956Z",
     "iopub.status.idle": "2021-06-08T00:40:41.570787Z",
     "shell.execute_reply": "2021-06-08T00:40:41.571261Z"
    },
    "papermill": {
     "duration": 0.64539,
     "end_time": "2021-06-08T00:40:41.571427",
     "exception": false,
     "start_time": "2021-06-08T00:40:40.926037",
     "status": "completed"
    },
    "tags": []
   },
   "outputs": [],
   "source": [
    "#hide\n",
    "import pandas as pd\n",
    "import matplotlib.pyplot as plt\n",
    "import matplotlib.ticker as ticker\n",
    "import matplotlib.animation as animation\n",
    "from IPython.display import HTML"
   ]
  },
  {
   "cell_type": "code",
   "execution_count": 21,
   "id": "lasting-extraction",
   "metadata": {
    "execution": {
     "iopub.execute_input": "2021-06-08T00:40:41.652048Z",
     "iopub.status.busy": "2021-06-08T00:40:41.651446Z",
     "iopub.status.idle": "2021-06-08T00:40:41.656707Z",
     "shell.execute_reply": "2021-06-08T00:40:41.657183Z"
    },
    "papermill": {
     "duration": 0.048687,
     "end_time": "2021-06-08T00:40:41.657334",
     "exception": false,
     "start_time": "2021-06-08T00:40:41.608647",
     "status": "completed"
    },
    "tags": []
   },
   "outputs": [],
   "source": [
    "#hide\n",
    "t = everydaycases.stack()"
   ]
  },
  {
   "cell_type": "code",
   "execution_count": 22,
   "id": "premier-sleeve",
   "metadata": {
    "execution": {
     "iopub.execute_input": "2021-06-08T00:40:41.733244Z",
     "iopub.status.busy": "2021-06-08T00:40:41.732651Z",
     "iopub.status.idle": "2021-06-08T00:40:41.741059Z",
     "shell.execute_reply": "2021-06-08T00:40:41.740590Z"
    },
    "papermill": {
     "duration": 0.048569,
     "end_time": "2021-06-08T00:40:41.741173",
     "exception": false,
     "start_time": "2021-06-08T00:40:41.692604",
     "status": "completed"
    },
    "tags": []
   },
   "outputs": [],
   "source": [
    "#hide\n",
    "g = t.reset_index(['Country/Region'])"
   ]
  },
  {
   "cell_type": "code",
   "execution_count": 23,
   "id": "distributed-pittsburgh",
   "metadata": {
    "execution": {
     "iopub.execute_input": "2021-06-08T00:40:41.814441Z",
     "iopub.status.busy": "2021-06-08T00:40:41.813861Z",
     "iopub.status.idle": "2021-06-08T00:40:41.816043Z",
     "shell.execute_reply": "2021-06-08T00:40:41.815586Z"
    },
    "papermill": {
     "duration": 0.040713,
     "end_time": "2021-06-08T00:40:41.816154",
     "exception": false,
     "start_time": "2021-06-08T00:40:41.775441",
     "status": "completed"
    },
    "tags": []
   },
   "outputs": [],
   "source": [
    "#hide\n",
    "g.index.name = 'date'"
   ]
  },
  {
   "cell_type": "code",
   "execution_count": 24,
   "id": "naked-donor",
   "metadata": {
    "execution": {
     "iopub.execute_input": "2021-06-08T00:40:41.891368Z",
     "iopub.status.busy": "2021-06-08T00:40:41.890831Z",
     "iopub.status.idle": "2021-06-08T00:40:41.893105Z",
     "shell.execute_reply": "2021-06-08T00:40:41.893716Z"
    },
    "papermill": {
     "duration": 0.042136,
     "end_time": "2021-06-08T00:40:41.893858",
     "exception": false,
     "start_time": "2021-06-08T00:40:41.851722",
     "status": "completed"
    },
    "tags": []
   },
   "outputs": [],
   "source": [
    "# #hide\n",
    "# g = g.reset_index(['date'])"
   ]
  },
  {
   "cell_type": "code",
   "execution_count": 25,
   "id": "incomplete-mustang",
   "metadata": {
    "execution": {
     "iopub.execute_input": "2021-06-08T00:40:41.968743Z",
     "iopub.status.busy": "2021-06-08T00:40:41.968081Z",
     "iopub.status.idle": "2021-06-08T00:40:41.969692Z",
     "shell.execute_reply": "2021-06-08T00:40:41.970286Z"
    },
    "papermill": {
     "duration": 0.042015,
     "end_time": "2021-06-08T00:40:41.970444",
     "exception": false,
     "start_time": "2021-06-08T00:40:41.928429",
     "status": "completed"
    },
    "tags": []
   },
   "outputs": [],
   "source": [
    "#hide\n",
    "# g.head()"
   ]
  },
  {
   "cell_type": "code",
   "execution_count": 26,
   "id": "specific-kruger",
   "metadata": {
    "execution": {
     "iopub.execute_input": "2021-06-08T00:40:42.045627Z",
     "iopub.status.busy": "2021-06-08T00:40:42.044834Z",
     "iopub.status.idle": "2021-06-08T00:40:42.046244Z",
     "shell.execute_reply": "2021-06-08T00:40:42.046699Z"
    },
    "papermill": {
     "duration": 0.041839,
     "end_time": "2021-06-08T00:40:42.046839",
     "exception": false,
     "start_time": "2021-06-08T00:40:42.005000",
     "status": "completed"
    },
    "tags": []
   },
   "outputs": [],
   "source": [
    "#hide\n",
    "# g.columns = ['date','country','cases']"
   ]
  },
  {
   "cell_type": "code",
   "execution_count": 27,
   "id": "tender-conversion",
   "metadata": {
    "execution": {
     "iopub.execute_input": "2021-06-08T00:40:42.124087Z",
     "iopub.status.busy": "2021-06-08T00:40:42.123488Z",
     "iopub.status.idle": "2021-06-08T00:40:42.125377Z",
     "shell.execute_reply": "2021-06-08T00:40:42.125819Z"
    },
    "papermill": {
     "duration": 0.041579,
     "end_time": "2021-06-08T00:40:42.125971",
     "exception": false,
     "start_time": "2021-06-08T00:40:42.084392",
     "status": "completed"
    },
    "tags": []
   },
   "outputs": [],
   "source": [
    "#hide\n",
    "# g['continent'] = g.country"
   ]
  },
  {
   "cell_type": "code",
   "execution_count": 28,
   "id": "substantial-wilderness",
   "metadata": {
    "execution": {
     "iopub.execute_input": "2021-06-08T00:40:42.202037Z",
     "iopub.status.busy": "2021-06-08T00:40:42.201500Z",
     "iopub.status.idle": "2021-06-08T00:40:42.208414Z",
     "shell.execute_reply": "2021-06-08T00:40:42.207898Z"
    },
    "papermill": {
     "duration": 0.045717,
     "end_time": "2021-06-08T00:40:42.208552",
     "exception": false,
     "start_time": "2021-06-08T00:40:42.162835",
     "status": "completed"
    },
    "tags": []
   },
   "outputs": [],
   "source": [
    "#hide\n",
    "# cols = list(g.columns.values)"
   ]
  },
  {
   "cell_type": "code",
   "execution_count": 29,
   "id": "solved-farming",
   "metadata": {
    "execution": {
     "iopub.execute_input": "2021-06-08T00:40:42.284103Z",
     "iopub.status.busy": "2021-06-08T00:40:42.283361Z",
     "iopub.status.idle": "2021-06-08T00:40:42.285918Z",
     "shell.execute_reply": "2021-06-08T00:40:42.284999Z"
    },
    "papermill": {
     "duration": 0.041457,
     "end_time": "2021-06-08T00:40:42.286076",
     "exception": false,
     "start_time": "2021-06-08T00:40:42.244619",
     "status": "completed"
    },
    "tags": []
   },
   "outputs": [],
   "source": [
    "#hide\n",
    "# cols.insert(0, cols.pop())"
   ]
  },
  {
   "cell_type": "code",
   "execution_count": 30,
   "id": "executed-adoption",
   "metadata": {
    "execution": {
     "iopub.execute_input": "2021-06-08T00:40:42.363873Z",
     "iopub.status.busy": "2021-06-08T00:40:42.363286Z",
     "iopub.status.idle": "2021-06-08T00:40:42.365775Z",
     "shell.execute_reply": "2021-06-08T00:40:42.366599Z"
    },
    "papermill": {
     "duration": 0.044122,
     "end_time": "2021-06-08T00:40:42.366752",
     "exception": false,
     "start_time": "2021-06-08T00:40:42.322630",
     "status": "completed"
    },
    "tags": []
   },
   "outputs": [],
   "source": [
    "#hide\n",
    "# g = g[cols]"
   ]
  },
  {
   "cell_type": "code",
   "execution_count": 31,
   "id": "subject-dublin",
   "metadata": {
    "execution": {
     "iopub.execute_input": "2021-06-08T00:40:42.440886Z",
     "iopub.status.busy": "2021-06-08T00:40:42.440273Z",
     "iopub.status.idle": "2021-06-08T00:40:42.442954Z",
     "shell.execute_reply": "2021-06-08T00:40:42.442453Z"
    },
    "papermill": {
     "duration": 0.041559,
     "end_time": "2021-06-08T00:40:42.443077",
     "exception": false,
     "start_time": "2021-06-08T00:40:42.401518",
     "status": "completed"
    },
    "tags": []
   },
   "outputs": [],
   "source": [
    "#hide\n",
    "# g['continent'] = g['continent'].map(mapping['map.continent'])"
   ]
  },
  {
   "cell_type": "code",
   "execution_count": 32,
   "id": "freelance-scout",
   "metadata": {
    "execution": {
     "iopub.execute_input": "2021-06-08T00:40:42.518222Z",
     "iopub.status.busy": "2021-06-08T00:40:42.517539Z",
     "iopub.status.idle": "2021-06-08T00:40:42.520507Z",
     "shell.execute_reply": "2021-06-08T00:40:42.519982Z"
    },
    "papermill": {
     "duration": 0.042514,
     "end_time": "2021-06-08T00:40:42.520634",
     "exception": false,
     "start_time": "2021-06-08T00:40:42.478120",
     "status": "completed"
    },
    "tags": []
   },
   "outputs": [],
   "source": [
    "#hide\n",
    "# g.head()"
   ]
  },
  {
   "cell_type": "code",
   "execution_count": 33,
   "id": "limited-engine",
   "metadata": {
    "execution": {
     "iopub.execute_input": "2021-06-08T00:40:42.600864Z",
     "iopub.status.busy": "2021-06-08T00:40:42.600265Z",
     "iopub.status.idle": "2021-06-08T00:40:42.602639Z",
     "shell.execute_reply": "2021-06-08T00:40:42.603248Z"
    },
    "papermill": {
     "duration": 0.042932,
     "end_time": "2021-06-08T00:40:42.603386",
     "exception": false,
     "start_time": "2021-06-08T00:40:42.560454",
     "status": "completed"
    },
    "tags": []
   },
   "outputs": [],
   "source": [
    "# hide\n",
    "# g['date'] = g['date'].astype('datetime64[ns]')"
   ]
  },
  {
   "cell_type": "code",
   "execution_count": 34,
   "id": "sophisticated-supervisor",
   "metadata": {
    "execution": {
     "iopub.execute_input": "2021-06-08T00:40:42.680015Z",
     "iopub.status.busy": "2021-06-08T00:40:42.679417Z",
     "iopub.status.idle": "2021-06-08T00:40:42.681900Z",
     "shell.execute_reply": "2021-06-08T00:40:42.682464Z"
    },
    "papermill": {
     "duration": 0.043911,
     "end_time": "2021-06-08T00:40:42.682606",
     "exception": false,
     "start_time": "2021-06-08T00:40:42.638695",
     "status": "completed"
    },
    "tags": []
   },
   "outputs": [],
   "source": [
    "#hide\n",
    "# g['date'] = g.date.dt.dayofyear"
   ]
  },
  {
   "cell_type": "code",
   "execution_count": 35,
   "id": "inside-dubai",
   "metadata": {
    "execution": {
     "iopub.execute_input": "2021-06-08T00:40:42.761126Z",
     "iopub.status.busy": "2021-06-08T00:40:42.760531Z",
     "iopub.status.idle": "2021-06-08T00:40:42.763093Z",
     "shell.execute_reply": "2021-06-08T00:40:42.763616Z"
    },
    "papermill": {
     "duration": 0.045714,
     "end_time": "2021-06-08T00:40:42.763761",
     "exception": false,
     "start_time": "2021-06-08T00:40:42.718047",
     "status": "completed"
    },
    "tags": []
   },
   "outputs": [],
   "source": [
    "#hide\n",
    "# g = g.rename(columns= {'continent':'group','country':'name','cases':'value'})"
   ]
  },
  {
   "cell_type": "code",
   "execution_count": 36,
   "id": "fleet-motorcycle",
   "metadata": {
    "execution": {
     "iopub.execute_input": "2021-06-08T00:40:42.843379Z",
     "iopub.status.busy": "2021-06-08T00:40:42.841200Z",
     "iopub.status.idle": "2021-06-08T00:40:42.844321Z",
     "shell.execute_reply": "2021-06-08T00:40:42.844966Z"
    },
    "papermill": {
     "duration": 0.04371,
     "end_time": "2021-06-08T00:40:42.845151",
     "exception": false,
     "start_time": "2021-06-08T00:40:42.801441",
     "status": "completed"
    },
    "tags": []
   },
   "outputs": [],
   "source": [
    "#hide\n",
    "# cols = ['name','group','day','value']"
   ]
  },
  {
   "cell_type": "code",
   "execution_count": 37,
   "id": "continued-sleeping",
   "metadata": {
    "execution": {
     "iopub.execute_input": "2021-06-08T00:40:42.919851Z",
     "iopub.status.busy": "2021-06-08T00:40:42.919270Z",
     "iopub.status.idle": "2021-06-08T00:40:42.921787Z",
     "shell.execute_reply": "2021-06-08T00:40:42.921297Z"
    },
    "papermill": {
     "duration": 0.040977,
     "end_time": "2021-06-08T00:40:42.921919",
     "exception": false,
     "start_time": "2021-06-08T00:40:42.880942",
     "status": "completed"
    },
    "tags": []
   },
   "outputs": [],
   "source": [
    "#hide\n",
    "# g.rename(columns= {'date':'day'},inplace = True)"
   ]
  },
  {
   "cell_type": "code",
   "execution_count": 38,
   "id": "major-fight",
   "metadata": {
    "execution": {
     "iopub.execute_input": "2021-06-08T00:40:42.996565Z",
     "iopub.status.busy": "2021-06-08T00:40:42.995932Z",
     "iopub.status.idle": "2021-06-08T00:40:42.998250Z",
     "shell.execute_reply": "2021-06-08T00:40:42.998814Z"
    },
    "papermill": {
     "duration": 0.042364,
     "end_time": "2021-06-08T00:40:42.998960",
     "exception": false,
     "start_time": "2021-06-08T00:40:42.956596",
     "status": "completed"
    },
    "tags": []
   },
   "outputs": [],
   "source": [
    "#hide\n",
    "# g = g[cols]"
   ]
  },
  {
   "cell_type": "code",
   "execution_count": 39,
   "id": "structured-mobile",
   "metadata": {
    "execution": {
     "iopub.execute_input": "2021-06-08T00:40:43.073224Z",
     "iopub.status.busy": "2021-06-08T00:40:43.072447Z",
     "iopub.status.idle": "2021-06-08T00:40:43.073971Z",
     "shell.execute_reply": "2021-06-08T00:40:43.074660Z"
    },
    "papermill": {
     "duration": 0.040904,
     "end_time": "2021-06-08T00:40:43.074810",
     "exception": false,
     "start_time": "2021-06-08T00:40:43.033906",
     "status": "completed"
    },
    "tags": []
   },
   "outputs": [],
   "source": [
    "# #hide\n",
    "# g = g[g.group.notna()]"
   ]
  },
  {
   "cell_type": "code",
   "execution_count": 40,
   "id": "determined-closing",
   "metadata": {
    "execution": {
     "iopub.execute_input": "2021-06-08T00:40:43.159585Z",
     "iopub.status.busy": "2021-06-08T00:40:43.158972Z",
     "iopub.status.idle": "2021-06-08T00:40:43.162951Z",
     "shell.execute_reply": "2021-06-08T00:40:43.163392Z"
    },
    "papermill": {
     "duration": 0.048741,
     "end_time": "2021-06-08T00:40:43.163543",
     "exception": false,
     "start_time": "2021-06-08T00:40:43.114802",
     "status": "completed"
    },
    "tags": []
   },
   "outputs": [],
   "source": [
    "# #hide\n",
    "# colors = dict(zip(\n",
    "#     [\"Oceania\", \"Europe\", \"Asia\", \"South America\", \"Middle East\", \"North America\", \"Africa\"],\n",
    "#     [\"#adb0ff\", \"#ffb3ff\", \"#90d595\", \"#e48381\", \"#aafbff\", \"#f7bb5f\", \"#eafb50\"]\n",
    "# ))\n",
    "# group_lk = g.set_index('name')['group'].to_dict()"
   ]
  },
  {
   "cell_type": "code",
   "execution_count": null,
   "id": "gross-drinking",
   "metadata": {
    "papermill": {
     "duration": 0.034896,
     "end_time": "2021-06-08T00:40:43.233313",
     "exception": false,
     "start_time": "2021-06-08T00:40:43.198417",
     "status": "completed"
    },
    "tags": []
   },
   "outputs": [],
   "source": []
  },
  {
   "cell_type": "code",
   "execution_count": 41,
   "id": "subject-macintosh",
   "metadata": {
    "execution": {
     "iopub.execute_input": "2021-06-08T00:40:43.309801Z",
     "iopub.status.busy": "2021-06-08T00:40:43.309180Z",
     "iopub.status.idle": "2021-06-08T00:40:43.311836Z",
     "shell.execute_reply": "2021-06-08T00:40:43.312373Z"
    },
    "papermill": {
     "duration": 0.044181,
     "end_time": "2021-06-08T00:40:43.312548",
     "exception": false,
     "start_time": "2021-06-08T00:40:43.268367",
     "status": "completed"
    },
    "tags": []
   },
   "outputs": [],
   "source": [
    "# #hide\n",
    "# fig, ax = plt.subplots(figsize=(15, 8))\n",
    "\n",
    "# def draw_barchart(current_day):\n",
    "#     dff = g[g['day'].eq(current_day)].sort_values(by='value', ascending=True).tail(10)\n",
    "#     ax.clear()\n",
    "#     ax.barh(dff['name'], dff['value'], color=[colors[group_lk[x]] for x in dff['name']])\n",
    "#     dx = dff['value'].max() / 200\n",
    "    \n",
    "#     for i, (value, name) in enumerate(zip(dff['value'], dff['name'])):\n",
    "#         ax.text(value-dx, i,     name,           size=14, weight=600, ha='right', va='bottom')\n",
    "#         ax.text(value-dx, i-.25, group_lk[name], size=10, color='#444444', ha='right', va='baseline')\n",
    "#         ax.text(value+dx, i,     f'{value:,.0f}',  size=14, ha='left',  va='center')\n",
    "#     ax.text(1, 0.4, current_day, transform=ax.transAxes, color='#777777', size=46, ha='right', weight=800)\n",
    "#     ax.text(0, 1.06, 'Population (thousands)', transform=ax.transAxes, size=12, color='#777777')\n",
    "#     ax.xaxis.set_major_formatter(ticker.StrMethodFormatter('{x:,.0f}'))\n",
    "#     ax.xaxis.set_ticks_position('top')\n",
    "#     ax.tick_params(axis='x', colors='#777777', labelsize=12)\n",
    "#     ax.set_yticks([])\n",
    "#     ax.margins(0, 0.01)\n",
    "#     ax.grid(which='major', axis='x', linestyle='-')\n",
    "#     ax.set_axisbelow(True)\n",
    "    \n",
    "#     ax.text(0, 1.15, 'Coronavirus',\n",
    "#             transform=ax.transAxes, size=24, weight=600, ha='left', va='top')\n",
    "# #     ax.text(1, 0, 'by @pratapvardhan; credit @jburnmurdoch', transform=ax.transAxes, color='#777777', ha='right',\n",
    "# #             bbox=dict(facecolor='white', alpha=0.8, edgecolor='white'))\n",
    "#     plt.box(False)"
   ]
  },
  {
   "cell_type": "code",
   "execution_count": 42,
   "id": "sexual-wages",
   "metadata": {
    "execution": {
     "iopub.execute_input": "2021-06-08T00:40:43.385622Z",
     "iopub.status.busy": "2021-06-08T00:40:43.385011Z",
     "iopub.status.idle": "2021-06-08T00:40:43.387397Z",
     "shell.execute_reply": "2021-06-08T00:40:43.386874Z"
    },
    "papermill": {
     "duration": 0.040343,
     "end_time": "2021-06-08T00:40:43.387526",
     "exception": false,
     "start_time": "2021-06-08T00:40:43.347183",
     "status": "completed"
    },
    "tags": []
   },
   "outputs": [],
   "source": [
    "# #hide_input\n",
    "# fig, ax = plt.subplots(figsize=(15, 8))\n",
    "# animator = animation.FuncAnimation(fig, draw_barchart, frames=range(g.day.values.min(), g.day.values.max()))\n",
    "# HTML(animator.to_jshtml())\n",
    "# # or use animator.to_html5_video() or animator.save() "
   ]
  },
  {
   "cell_type": "code",
   "execution_count": null,
   "id": "australian-container",
   "metadata": {
    "papermill": {
     "duration": 0.034411,
     "end_time": "2021-06-08T00:40:43.458088",
     "exception": false,
     "start_time": "2021-06-08T00:40:43.423677",
     "status": "completed"
    },
    "tags": []
   },
   "outputs": [],
   "source": []
  },
  {
   "cell_type": "code",
   "execution_count": null,
   "id": "mediterranean-pontiac",
   "metadata": {
    "papermill": {
     "duration": 0.036652,
     "end_time": "2021-06-08T00:40:43.530039",
     "exception": false,
     "start_time": "2021-06-08T00:40:43.493387",
     "status": "completed"
    },
    "tags": []
   },
   "outputs": [],
   "source": []
  },
  {
   "cell_type": "code",
   "execution_count": null,
   "id": "aging-legislature",
   "metadata": {
    "papermill": {
     "duration": 0.036419,
     "end_time": "2021-06-08T00:40:43.602098",
     "exception": false,
     "start_time": "2021-06-08T00:40:43.565679",
     "status": "completed"
    },
    "tags": []
   },
   "outputs": [],
   "source": []
  }
 ],
 "metadata": {
  "kernelspec": {
   "display_name": "Python 3",
   "language": "python",
   "name": "python3"
  },
  "language_info": {
   "codemirror_mode": {
    "name": "ipython",
    "version": 3
   },
   "file_extension": ".py",
   "mimetype": "text/x-python",
   "name": "python",
   "nbconvert_exporter": "python",
   "pygments_lexer": "ipython3",
   "version": "3.6.13"
  },
  "papermill": {
   "duration": 7.352202,
   "end_time": "2021-06-08T00:40:44.802828",
   "environment_variables": {},
   "exception": null,
   "input_path": "2020-03-21-covid19exp.ipynb",
   "output_path": "2020-03-21-covid19exp.ipynb",
   "parameters": {},
   "start_time": "2021-06-08T00:40:37.450626",
   "version": "2.0.0"
  }
 },
 "nbformat": 4,
 "nbformat_minor": 5
}