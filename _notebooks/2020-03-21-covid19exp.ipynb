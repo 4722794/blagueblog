{
 "cells": [
  {
   "cell_type": "markdown",
   "id": "muslim-click",
   "metadata": {
    "papermill": {
     "duration": 0.045265,
     "end_time": "2021-08-20T00:22:03.084742",
     "exception": false,
     "start_time": "2021-08-20T00:22:03.039477",
     "status": "completed"
    },
    "tags": []
   },
   "source": [
    "# COVID-19 Case Race\n",
    "> A race chart to see rising cases around the world\n",
    "\n",
    "- author: Hargun Oberoi\n",
    "- image: images/covid-overview.png\n",
    "- hide: false\n",
    "- badges: false"
   ]
  },
  {
   "cell_type": "code",
   "execution_count": 1,
   "id": "proof-material",
   "metadata": {
    "execution": {
     "iopub.execute_input": "2021-08-20T00:22:03.180937Z",
     "iopub.status.busy": "2021-08-20T00:22:03.180157Z",
     "iopub.status.idle": "2021-08-20T00:22:03.642848Z",
     "shell.execute_reply": "2021-08-20T00:22:03.641638Z"
    },
    "papermill": {
     "duration": 0.515295,
     "end_time": "2021-08-20T00:22:03.643027",
     "exception": false,
     "start_time": "2021-08-20T00:22:03.127732",
     "status": "completed"
    },
    "tags": []
   },
   "outputs": [],
   "source": [
    "#hide\n",
    "import numpy as np\n",
    "import pandas as pd\n",
    "from jinja2 import Template\n",
    "from IPython.display import HTML"
   ]
  },
  {
   "cell_type": "code",
   "execution_count": 2,
   "id": "developed-terminology",
   "metadata": {
    "execution": {
     "iopub.execute_input": "2021-08-20T00:22:03.738206Z",
     "iopub.status.busy": "2021-08-20T00:22:03.737514Z",
     "iopub.status.idle": "2021-08-20T00:22:03.739962Z",
     "shell.execute_reply": "2021-08-20T00:22:03.739272Z"
    },
    "papermill": {
     "duration": 0.054167,
     "end_time": "2021-08-20T00:22:03.740101",
     "exception": false,
     "start_time": "2021-08-20T00:22:03.685934",
     "status": "completed"
    },
    "tags": []
   },
   "outputs": [],
   "source": [
    "#hide\n",
    "\n",
    "# FETCH\n",
    "base_url = 'https://raw.githubusercontent.com/pratapvardhan/notebooks/master/covid19/'\n",
    "paths = {\n",
    "    'mapping': base_url + 'mapping_countries.csv',\n",
    "    'overview': base_url + 'overview.tpl'\n",
    "}"
   ]
  },
  {
   "cell_type": "code",
   "execution_count": 3,
   "id": "dynamic-saver",
   "metadata": {
    "execution": {
     "iopub.execute_input": "2021-08-20T00:22:03.838881Z",
     "iopub.status.busy": "2021-08-20T00:22:03.838095Z",
     "iopub.status.idle": "2021-08-20T00:22:03.841927Z",
     "shell.execute_reply": "2021-08-20T00:22:03.841323Z"
    },
    "papermill": {
     "duration": 0.057252,
     "end_time": "2021-08-20T00:22:03.842066",
     "exception": false,
     "start_time": "2021-08-20T00:22:03.784814",
     "status": "completed"
    },
    "tags": []
   },
   "outputs": [
    {
     "data": {
      "text/plain": [
       "'https://raw.githubusercontent.com/pratapvardhan/notebooks/master/covid19/mapping_countries.csv'"
      ]
     },
     "execution_count": 3,
     "metadata": {},
     "output_type": "execute_result"
    }
   ],
   "source": [
    "#hide\n",
    "paths['mapping']"
   ]
  },
  {
   "cell_type": "code",
   "execution_count": 4,
   "id": "urban-software",
   "metadata": {
    "execution": {
     "iopub.execute_input": "2021-08-20T00:22:03.931460Z",
     "iopub.status.busy": "2021-08-20T00:22:03.930722Z",
     "iopub.status.idle": "2021-08-20T00:22:03.933292Z",
     "shell.execute_reply": "2021-08-20T00:22:03.932642Z"
    },
    "papermill": {
     "duration": 0.049728,
     "end_time": "2021-08-20T00:22:03.933433",
     "exception": false,
     "start_time": "2021-08-20T00:22:03.883705",
     "status": "completed"
    },
    "tags": []
   },
   "outputs": [],
   "source": [
    "#hide\n",
    "def get_mappings(url):\n",
    "    df = pd.read_csv(url)\n",
    "    return {\n",
    "        'df': df,\n",
    "        'replace.country': dict(df.dropna(subset=['Name']).set_index('Country')['Name']),\n",
    "        'map.continent': dict(df.set_index('Name')['Continent'])\n",
    "    }"
   ]
  },
  {
   "cell_type": "code",
   "execution_count": 5,
   "id": "intimate-machinery",
   "metadata": {
    "execution": {
     "iopub.execute_input": "2021-08-20T00:22:04.025282Z",
     "iopub.status.busy": "2021-08-20T00:22:04.024567Z",
     "iopub.status.idle": "2021-08-20T00:22:04.075895Z",
     "shell.execute_reply": "2021-08-20T00:22:04.075303Z"
    },
    "papermill": {
     "duration": 0.100675,
     "end_time": "2021-08-20T00:22:04.076048",
     "exception": false,
     "start_time": "2021-08-20T00:22:03.975373",
     "status": "completed"
    },
    "tags": []
   },
   "outputs": [],
   "source": [
    "#hide\n",
    "mapping = get_mappings(paths['mapping'])"
   ]
  },
  {
   "cell_type": "code",
   "execution_count": 6,
   "id": "certified-tactics",
   "metadata": {
    "execution": {
     "iopub.execute_input": "2021-08-20T00:22:04.171292Z",
     "iopub.status.busy": "2021-08-20T00:22:04.170565Z",
     "iopub.status.idle": "2021-08-20T00:22:04.173251Z",
     "shell.execute_reply": "2021-08-20T00:22:04.172659Z"
    },
    "papermill": {
     "duration": 0.053801,
     "end_time": "2021-08-20T00:22:04.173387",
     "exception": false,
     "start_time": "2021-08-20T00:22:04.119586",
     "status": "completed"
    },
    "tags": []
   },
   "outputs": [],
   "source": [
    "#hide\n",
    "def get_template(path):\n",
    "    from urllib.parse import urlparse\n",
    "    if bool(urlparse(path).netloc):\n",
    "        from urllib.request import urlopen\n",
    "        return urlopen(path).read().decode('utf8')\n",
    "    return open(path).read()"
   ]
  },
  {
   "cell_type": "code",
   "execution_count": 7,
   "id": "realistic-blast",
   "metadata": {
    "execution": {
     "iopub.execute_input": "2021-08-20T00:22:04.258425Z",
     "iopub.status.busy": "2021-08-20T00:22:04.257701Z",
     "iopub.status.idle": "2021-08-20T00:22:04.263333Z",
     "shell.execute_reply": "2021-08-20T00:22:04.262667Z"
    },
    "papermill": {
     "duration": 0.049765,
     "end_time": "2021-08-20T00:22:04.263523",
     "exception": false,
     "start_time": "2021-08-20T00:22:04.213758",
     "status": "completed"
    },
    "tags": []
   },
   "outputs": [],
   "source": [
    "#hide\n",
    "def get_frame(name):\n",
    "    url = (\n",
    "        'https://raw.githubusercontent.com/CSSEGISandData/COVID-19/master/csse_covid_19_data/'\n",
    "        f'csse_covid_19_time_series/time_series_covid19_{name}_global.csv')\n",
    "    df = pd.read_csv(url)\n",
    "    # rename countries\n",
    "    df['Country/Region'] = df['Country/Region'].replace(mapping['replace.country'])\n",
    "    return df"
   ]
  },
  {
   "cell_type": "code",
   "execution_count": 8,
   "id": "affiliated-characterization",
   "metadata": {
    "execution": {
     "iopub.execute_input": "2021-08-20T00:22:04.360259Z",
     "iopub.status.busy": "2021-08-20T00:22:04.359458Z",
     "iopub.status.idle": "2021-08-20T00:22:04.362256Z",
     "shell.execute_reply": "2021-08-20T00:22:04.361497Z"
    },
    "papermill": {
     "duration": 0.05659,
     "end_time": "2021-08-20T00:22:04.362399",
     "exception": false,
     "start_time": "2021-08-20T00:22:04.305809",
     "status": "completed"
    },
    "tags": []
   },
   "outputs": [],
   "source": [
    "#hide\n",
    "def get_dates(df):\n",
    "    dt_cols = df.columns[~df.columns.isin(['Province/State', 'Country/Region', 'Lat', 'Long'])]\n",
    "    LAST_DATE_I = -1\n",
    "    # sometimes last column may be empty, then go backwards\n",
    "    for i in range(-1, -len(dt_cols), -1):\n",
    "        if not df[dt_cols[i]].fillna(0).eq(0).all():\n",
    "            LAST_DATE_I = i\n",
    "            break\n",
    "    return LAST_DATE_I, dt_cols"
   ]
  },
  {
   "cell_type": "code",
   "execution_count": 9,
   "id": "recent-optimization",
   "metadata": {
    "execution": {
     "iopub.execute_input": "2021-08-20T00:22:04.458521Z",
     "iopub.status.busy": "2021-08-20T00:22:04.457818Z",
     "iopub.status.idle": "2021-08-20T00:22:04.907711Z",
     "shell.execute_reply": "2021-08-20T00:22:04.907037Z"
    },
    "papermill": {
     "duration": 0.497643,
     "end_time": "2021-08-20T00:22:04.907861",
     "exception": false,
     "start_time": "2021-08-20T00:22:04.410218",
     "status": "completed"
    },
    "tags": []
   },
   "outputs": [],
   "source": [
    "#hide\n",
    "COL_REGION = 'Country/Region'\n",
    "# Confirmed, Recovered, Deaths\n",
    "df = get_frame('confirmed')\n",
    "# dft_: timeseries, dfc_: today country agg\n",
    "dft_cases = df\n",
    "dft_deaths = get_frame('deaths')\n",
    "dft_recovered = get_frame('recovered')\n",
    "LAST_DATE_I, dt_cols = get_dates(df)"
   ]
  },
  {
   "cell_type": "code",
   "execution_count": 10,
   "id": "absolute-copper",
   "metadata": {
    "execution": {
     "iopub.execute_input": "2021-08-20T00:22:05.014554Z",
     "iopub.status.busy": "2021-08-20T00:22:05.013866Z",
     "iopub.status.idle": "2021-08-20T00:22:05.016510Z",
     "shell.execute_reply": "2021-08-20T00:22:05.015894Z"
    },
    "papermill": {
     "duration": 0.051006,
     "end_time": "2021-08-20T00:22:05.016655",
     "exception": false,
     "start_time": "2021-08-20T00:22:04.965649",
     "status": "completed"
    },
    "tags": []
   },
   "outputs": [],
   "source": [
    "#hide\n",
    "LAST_DATE_I, dt_cols = get_dates(df)\n",
    "dt_today =dt_cols[LAST_DATE_I]\n",
    "# dt_5day = dt_cols[LAST_DATE_I - 5]\n",
    "dt_yday = dt_cols[LAST_DATE_I - 1]"
   ]
  },
  {
   "cell_type": "code",
   "execution_count": 11,
   "id": "restricted-sheriff",
   "metadata": {
    "execution": {
     "iopub.execute_input": "2021-08-20T00:22:05.109781Z",
     "iopub.status.busy": "2021-08-20T00:22:05.106505Z",
     "iopub.status.idle": "2021-08-20T00:22:05.116717Z",
     "shell.execute_reply": "2021-08-20T00:22:05.116030Z"
    },
    "papermill": {
     "duration": 0.059058,
     "end_time": "2021-08-20T00:22:05.116883",
     "exception": false,
     "start_time": "2021-08-20T00:22:05.057825",
     "status": "completed"
    },
    "tags": []
   },
   "outputs": [],
   "source": [
    "#hide\n",
    "dfc_cases = dft_cases.groupby(COL_REGION)[dt_today].sum()\n",
    "dfc_deaths = dft_deaths.groupby(COL_REGION)[dt_today].sum()\n",
    "# dfp_cases = dft_cases.groupby(COL_REGION)[dt_5day].sum()\n",
    "# dfp_deaths = dft_deaths.groupby(COL_REGION)[dt_5day].sum()\n",
    "dfp_cases = dft_cases.groupby(COL_REGION)[dt_yday].sum()\n",
    "dfp_deaths = dft_deaths.groupby(COL_REGION)[dt_yday].sum()"
   ]
  },
  {
   "cell_type": "code",
   "execution_count": 12,
   "id": "deluxe-hepatitis",
   "metadata": {
    "execution": {
     "iopub.execute_input": "2021-08-20T00:22:05.213349Z",
     "iopub.status.busy": "2021-08-20T00:22:05.212431Z",
     "iopub.status.idle": "2021-08-20T00:22:05.218372Z",
     "shell.execute_reply": "2021-08-20T00:22:05.217724Z"
    },
    "papermill": {
     "duration": 0.05542,
     "end_time": "2021-08-20T00:22:05.218533",
     "exception": false,
     "start_time": "2021-08-20T00:22:05.163113",
     "status": "completed"
    },
    "tags": []
   },
   "outputs": [],
   "source": [
    "#hide\n",
    "df_table = (pd.DataFrame(dict(Cases = dfc_cases, Deaths = dfc_deaths, PCases = dfp_cases, PDeaths = dfp_deaths))\n",
    "            .sort_values(by = ['Cases','Deaths'], ascending = [False, False])\n",
    "            .reset_index())"
   ]
  },
  {
   "cell_type": "code",
   "execution_count": 13,
   "id": "educational-chancellor",
   "metadata": {
    "execution": {
     "iopub.execute_input": "2021-08-20T00:22:05.334368Z",
     "iopub.status.busy": "2021-08-20T00:22:05.328365Z",
     "iopub.status.idle": "2021-08-20T00:22:05.338437Z",
     "shell.execute_reply": "2021-08-20T00:22:05.339152Z"
    },
    "papermill": {
     "duration": 0.078593,
     "end_time": "2021-08-20T00:22:05.339325",
     "exception": false,
     "start_time": "2021-08-20T00:22:05.260732",
     "status": "completed"
    },
    "tags": []
   },
   "outputs": [
    {
     "data": {
      "text/html": [
       "<div>\n",
       "<style scoped>\n",
       "    .dataframe tbody tr th:only-of-type {\n",
       "        vertical-align: middle;\n",
       "    }\n",
       "\n",
       "    .dataframe tbody tr th {\n",
       "        vertical-align: top;\n",
       "    }\n",
       "\n",
       "    .dataframe thead th {\n",
       "        text-align: right;\n",
       "    }\n",
       "</style>\n",
       "<table border=\"1\" class=\"dataframe\">\n",
       "  <thead>\n",
       "    <tr style=\"text-align: right;\">\n",
       "      <th></th>\n",
       "      <th>Country/Region</th>\n",
       "      <th>Cases</th>\n",
       "      <th>Deaths</th>\n",
       "      <th>PCases</th>\n",
       "      <th>PDeaths</th>\n",
       "      <th>Cases (+)</th>\n",
       "      <th>Deaths (+)</th>\n",
       "      <th>Fatality Rate</th>\n",
       "      <th>Continent</th>\n",
       "    </tr>\n",
       "  </thead>\n",
       "  <tbody>\n",
       "    <tr>\n",
       "      <th>0</th>\n",
       "      <td>US</td>\n",
       "      <td>37155669</td>\n",
       "      <td>624258</td>\n",
       "      <td>37017854</td>\n",
       "      <td>623112</td>\n",
       "      <td>137815</td>\n",
       "      <td>1146</td>\n",
       "      <td>1.68</td>\n",
       "      <td>North America</td>\n",
       "    </tr>\n",
       "    <tr>\n",
       "      <th>1</th>\n",
       "      <td>India</td>\n",
       "      <td>32322258</td>\n",
       "      <td>433049</td>\n",
       "      <td>32285857</td>\n",
       "      <td>432519</td>\n",
       "      <td>36401</td>\n",
       "      <td>530</td>\n",
       "      <td>1.34</td>\n",
       "      <td>Asia</td>\n",
       "    </tr>\n",
       "    <tr>\n",
       "      <th>2</th>\n",
       "      <td>Brazil</td>\n",
       "      <td>20457897</td>\n",
       "      <td>571662</td>\n",
       "      <td>20416183</td>\n",
       "      <td>570598</td>\n",
       "      <td>41714</td>\n",
       "      <td>1064</td>\n",
       "      <td>2.79</td>\n",
       "      <td>South America</td>\n",
       "    </tr>\n",
       "    <tr>\n",
       "      <th>3</th>\n",
       "      <td>France</td>\n",
       "      <td>6611444</td>\n",
       "      <td>113239</td>\n",
       "      <td>6581417</td>\n",
       "      <td>113116</td>\n",
       "      <td>30027</td>\n",
       "      <td>123</td>\n",
       "      <td>1.71</td>\n",
       "      <td>Europe</td>\n",
       "    </tr>\n",
       "    <tr>\n",
       "      <th>4</th>\n",
       "      <td>Russia</td>\n",
       "      <td>6572246</td>\n",
       "      <td>169948</td>\n",
       "      <td>6551934</td>\n",
       "      <td>169169</td>\n",
       "      <td>20312</td>\n",
       "      <td>779</td>\n",
       "      <td>2.59</td>\n",
       "      <td>Europe</td>\n",
       "    </tr>\n",
       "  </tbody>\n",
       "</table>\n",
       "</div>"
      ],
      "text/plain": [
       "  Country/Region     Cases  Deaths    PCases  PDeaths  Cases (+)  Deaths (+)  \\\n",
       "0             US  37155669  624258  37017854   623112     137815        1146   \n",
       "1          India  32322258  433049  32285857   432519      36401         530   \n",
       "2         Brazil  20457897  571662  20416183   570598      41714        1064   \n",
       "3         France   6611444  113239   6581417   113116      30027         123   \n",
       "4         Russia   6572246  169948   6551934   169169      20312         779   \n",
       "\n",
       "   Fatality Rate      Continent  \n",
       "0           1.68  North America  \n",
       "1           1.34           Asia  \n",
       "2           2.79  South America  \n",
       "3           1.71         Europe  \n",
       "4           2.59         Europe  "
      ]
     },
     "execution_count": 13,
     "metadata": {},
     "output_type": "execute_result"
    }
   ],
   "source": [
    "#hide\n",
    "for c in 'Cases, Deaths'.split(', '):\n",
    "    df_table[f'{c} (+)'] = (df_table[c] - df_table[f'P{c}']).clip(0)\n",
    "    #Clip ça veut dire, les chiffres negatif sont interdit\n",
    "df_table['Fatality Rate'] = (100* df_table['Deaths']/ df_table['Cases']).round(2)\n",
    "df_table['Continent'] = df_table['Country/Region'].map(mapping['map.continent'])\n",
    "df_table.head(5)"
   ]
  },
  {
   "cell_type": "code",
   "execution_count": 14,
   "id": "aboriginal-bulgaria",
   "metadata": {
    "execution": {
     "iopub.execute_input": "2021-08-20T00:22:05.430287Z",
     "iopub.status.busy": "2021-08-20T00:22:05.429511Z",
     "iopub.status.idle": "2021-08-20T00:22:05.432357Z",
     "shell.execute_reply": "2021-08-20T00:22:05.431682Z"
    },
    "papermill": {
     "duration": 0.051184,
     "end_time": "2021-08-20T00:22:05.432497",
     "exception": false,
     "start_time": "2021-08-20T00:22:05.381313",
     "status": "completed"
    },
    "tags": []
   },
   "outputs": [],
   "source": [
    "#hide\n",
    "#delete problematic countries from table\n",
    "df_table = df_table[~df_table['Country/Region'].isin(['Cape Verde', 'Cruise Ship', 'Kosovo'])]"
   ]
  },
  {
   "cell_type": "code",
   "execution_count": 15,
   "id": "fantastic-effect",
   "metadata": {
    "execution": {
     "iopub.execute_input": "2021-08-20T00:22:05.524523Z",
     "iopub.status.busy": "2021-08-20T00:22:05.523772Z",
     "iopub.status.idle": "2021-08-20T00:22:05.547887Z",
     "shell.execute_reply": "2021-08-20T00:22:05.547141Z"
    },
    "papermill": {
     "duration": 0.074513,
     "end_time": "2021-08-20T00:22:05.548063",
     "exception": false,
     "start_time": "2021-08-20T00:22:05.473550",
     "status": "completed"
    },
    "tags": []
   },
   "outputs": [
    {
     "data": {
      "text/html": [
       "<div>\n",
       "<style scoped>\n",
       "    .dataframe tbody tr th:only-of-type {\n",
       "        vertical-align: middle;\n",
       "    }\n",
       "\n",
       "    .dataframe tbody tr th {\n",
       "        vertical-align: top;\n",
       "    }\n",
       "\n",
       "    .dataframe thead th {\n",
       "        text-align: right;\n",
       "    }\n",
       "</style>\n",
       "<table border=\"1\" class=\"dataframe\">\n",
       "  <thead>\n",
       "    <tr style=\"text-align: right;\">\n",
       "      <th></th>\n",
       "      <th>Country/Region</th>\n",
       "      <th>Cases</th>\n",
       "      <th>Deaths</th>\n",
       "      <th>PCases</th>\n",
       "      <th>PDeaths</th>\n",
       "      <th>Cases (+)</th>\n",
       "      <th>Deaths (+)</th>\n",
       "      <th>Fatality Rate</th>\n",
       "      <th>Continent</th>\n",
       "    </tr>\n",
       "  </thead>\n",
       "  <tbody>\n",
       "    <tr>\n",
       "      <th>0</th>\n",
       "      <td>US</td>\n",
       "      <td>37155669</td>\n",
       "      <td>624258</td>\n",
       "      <td>37017854</td>\n",
       "      <td>623112</td>\n",
       "      <td>137815</td>\n",
       "      <td>1146</td>\n",
       "      <td>1.7</td>\n",
       "      <td>North America</td>\n",
       "    </tr>\n",
       "    <tr>\n",
       "      <th>1</th>\n",
       "      <td>India</td>\n",
       "      <td>32322258</td>\n",
       "      <td>433049</td>\n",
       "      <td>32285857</td>\n",
       "      <td>432519</td>\n",
       "      <td>36401</td>\n",
       "      <td>530</td>\n",
       "      <td>1.3</td>\n",
       "      <td>Asia</td>\n",
       "    </tr>\n",
       "    <tr>\n",
       "      <th>2</th>\n",
       "      <td>Brazil</td>\n",
       "      <td>20457897</td>\n",
       "      <td>571662</td>\n",
       "      <td>20416183</td>\n",
       "      <td>570598</td>\n",
       "      <td>41714</td>\n",
       "      <td>1064</td>\n",
       "      <td>2.8</td>\n",
       "      <td>South America</td>\n",
       "    </tr>\n",
       "    <tr>\n",
       "      <th>3</th>\n",
       "      <td>France</td>\n",
       "      <td>6611444</td>\n",
       "      <td>113239</td>\n",
       "      <td>6581417</td>\n",
       "      <td>113116</td>\n",
       "      <td>30027</td>\n",
       "      <td>123</td>\n",
       "      <td>1.7</td>\n",
       "      <td>Europe</td>\n",
       "    </tr>\n",
       "    <tr>\n",
       "      <th>4</th>\n",
       "      <td>Russia</td>\n",
       "      <td>6572246</td>\n",
       "      <td>169948</td>\n",
       "      <td>6551934</td>\n",
       "      <td>169169</td>\n",
       "      <td>20312</td>\n",
       "      <td>779</td>\n",
       "      <td>2.6</td>\n",
       "      <td>Europe</td>\n",
       "    </tr>\n",
       "  </tbody>\n",
       "</table>\n",
       "</div>"
      ],
      "text/plain": [
       "  Country/Region     Cases  Deaths    PCases  PDeaths  Cases (+)  Deaths (+)  \\\n",
       "0             US  37155669  624258  37017854   623112     137815        1146   \n",
       "1          India  32322258  433049  32285857   432519      36401         530   \n",
       "2         Brazil  20457897  571662  20416183   570598      41714        1064   \n",
       "3         France   6611444  113239   6581417   113116      30027         123   \n",
       "4         Russia   6572246  169948   6551934   169169      20312         779   \n",
       "\n",
       "   Fatality Rate      Continent  \n",
       "0            1.7  North America  \n",
       "1            1.3           Asia  \n",
       "2            2.8  South America  \n",
       "3            1.7         Europe  \n",
       "4            2.6         Europe  "
      ]
     },
     "execution_count": 15,
     "metadata": {},
     "output_type": "execute_result"
    }
   ],
   "source": [
    "#hide\n",
    "df_table = (pd.DataFrame(dict(Cases=dfc_cases, Deaths=dfc_deaths, PCases=dfp_cases, PDeaths=dfp_deaths))\n",
    "             .sort_values(by=['Cases', 'Deaths'], ascending=[False, False])\n",
    "             .reset_index())\n",
    "df_table.rename(columns={'index': 'Country/Region'}, inplace=True)\n",
    "for c in 'Cases, Deaths'.split(', '):\n",
    "    df_table[f'{c} (+)'] = (df_table[c] - df_table[f'P{c}']).clip(0)  # DATA BUG\n",
    "df_table['Fatality Rate'] = (100 * df_table['Deaths'] / df_table['Cases']).round(1)\n",
    "df_table['Continent'] = df_table['Country/Region'].map(mapping['map.continent'])\n",
    "df_table.head(5)"
   ]
  },
  {
   "cell_type": "code",
   "execution_count": 16,
   "id": "fewer-occasion",
   "metadata": {
    "execution": {
     "iopub.execute_input": "2021-08-20T00:22:05.642588Z",
     "iopub.status.busy": "2021-08-20T00:22:05.641888Z",
     "iopub.status.idle": "2021-08-20T00:22:05.644328Z",
     "shell.execute_reply": "2021-08-20T00:22:05.644962Z"
    },
    "papermill": {
     "duration": 0.053076,
     "end_time": "2021-08-20T00:22:05.645127",
     "exception": false,
     "start_time": "2021-08-20T00:22:05.592051",
     "status": "completed"
    },
    "tags": []
   },
   "outputs": [],
   "source": [
    "#hide\n",
    "#delete problematic countries from table\n",
    "df_table = df_table[~df_table['Country/Region'].isin(['Cape Verde', 'Cruise Ship', 'Kosovo'])]"
   ]
  },
  {
   "cell_type": "code",
   "execution_count": 17,
   "id": "related-center",
   "metadata": {
    "execution": {
     "iopub.execute_input": "2021-08-20T00:22:05.751458Z",
     "iopub.status.busy": "2021-08-20T00:22:05.750511Z",
     "iopub.status.idle": "2021-08-20T00:22:05.752444Z",
     "shell.execute_reply": "2021-08-20T00:22:05.753068Z"
    },
    "papermill": {
     "duration": 0.067079,
     "end_time": "2021-08-20T00:22:05.753309",
     "exception": false,
     "start_time": "2021-08-20T00:22:05.686230",
     "status": "completed"
    },
    "tags": []
   },
   "outputs": [],
   "source": [
    "#hide\n",
    "metrics = [df_table.columns[index] for index in [1,2,5,6]]\n",
    "# s_china = df_table[df_table['Country/Region'].eq('China')][metrics].sum().add_prefix('China ')\n",
    "s_us = df_table[df_table['Country/Region'].eq('US')][metrics].sum().add_prefix('US ')\n",
    "s_eu = df_table[df_table['Continent'].eq('Europe')][metrics].sum().add_prefix('EU ')\n",
    "s_ind = df_table[df_table['Country/Region'].eq('India')][metrics].sum().add_prefix('India ')\n",
    "summary = {'updated': pd.to_datetime(dt_today), 'since': pd.to_datetime(dt_yday)}\n",
    "summary = {'updated': pd.to_datetime(dt_today), 'since': pd.to_datetime(dt_yday)}\n",
    "summary = {**summary, **df_table[metrics].sum(), **s_ind, **s_us, **s_eu}"
   ]
  },
  {
   "cell_type": "code",
   "execution_count": 18,
   "id": "engaging-syndrome",
   "metadata": {
    "execution": {
     "iopub.execute_input": "2021-08-20T00:22:05.845375Z",
     "iopub.status.busy": "2021-08-20T00:22:05.844645Z",
     "iopub.status.idle": "2021-08-20T00:22:05.861434Z",
     "shell.execute_reply": "2021-08-20T00:22:05.860860Z"
    },
    "papermill": {
     "duration": 0.064148,
     "end_time": "2021-08-20T00:22:05.861585",
     "exception": false,
     "start_time": "2021-08-20T00:22:05.797437",
     "status": "completed"
    },
    "tags": []
   },
   "outputs": [],
   "source": [
    "#hide\n",
    "dft_ct_new_cases = dft_cases.groupby(COL_REGION)[dt_cols].sum().diff(axis=1).fillna(0).astype(int)"
   ]
  },
  {
   "cell_type": "code",
   "execution_count": 19,
   "id": "neutral-assignment",
   "metadata": {
    "execution": {
     "iopub.execute_input": "2021-08-20T00:22:05.964515Z",
     "iopub.status.busy": "2021-08-20T00:22:05.963770Z",
     "iopub.status.idle": "2021-08-20T00:22:05.965407Z",
     "shell.execute_reply": "2021-08-20T00:22:05.966238Z"
    },
    "papermill": {
     "duration": 0.05598,
     "end_time": "2021-08-20T00:22:05.966415",
     "exception": false,
     "start_time": "2021-08-20T00:22:05.910435",
     "status": "completed"
    },
    "tags": []
   },
   "outputs": [],
   "source": [
    "#hide\n",
    "everydaycases = dft_ct_new_cases.cumsum(axis=1)"
   ]
  },
  {
   "cell_type": "code",
   "execution_count": 20,
   "id": "parliamentary-calgary",
   "metadata": {
    "execution": {
     "iopub.execute_input": "2021-08-20T00:22:06.059357Z",
     "iopub.status.busy": "2021-08-20T00:22:06.058615Z",
     "iopub.status.idle": "2021-08-20T00:22:06.804711Z",
     "shell.execute_reply": "2021-08-20T00:22:06.795029Z"
    },
    "papermill": {
     "duration": 0.792061,
     "end_time": "2021-08-20T00:22:06.804891",
     "exception": false,
     "start_time": "2021-08-20T00:22:06.012830",
     "status": "completed"
    },
    "tags": []
   },
   "outputs": [],
   "source": [
    "#hide\n",
    "import pandas as pd\n",
    "import matplotlib.pyplot as plt\n",
    "import matplotlib.ticker as ticker\n",
    "import matplotlib.animation as animation\n",
    "from IPython.display import HTML"
   ]
  },
  {
   "cell_type": "code",
   "execution_count": 21,
   "id": "lasting-extraction",
   "metadata": {
    "execution": {
     "iopub.execute_input": "2021-08-20T00:22:06.904678Z",
     "iopub.status.busy": "2021-08-20T00:22:06.903404Z",
     "iopub.status.idle": "2021-08-20T00:22:06.907422Z",
     "shell.execute_reply": "2021-08-20T00:22:06.907934Z"
    },
    "papermill": {
     "duration": 0.056498,
     "end_time": "2021-08-20T00:22:06.908115",
     "exception": false,
     "start_time": "2021-08-20T00:22:06.851617",
     "status": "completed"
    },
    "tags": []
   },
   "outputs": [],
   "source": [
    "#hide\n",
    "t = everydaycases.stack()"
   ]
  },
  {
   "cell_type": "code",
   "execution_count": 22,
   "id": "premier-sleeve",
   "metadata": {
    "execution": {
     "iopub.execute_input": "2021-08-20T00:22:06.998527Z",
     "iopub.status.busy": "2021-08-20T00:22:06.996787Z",
     "iopub.status.idle": "2021-08-20T00:22:07.003913Z",
     "shell.execute_reply": "2021-08-20T00:22:07.004488Z"
    },
    "papermill": {
     "duration": 0.056109,
     "end_time": "2021-08-20T00:22:07.004684",
     "exception": false,
     "start_time": "2021-08-20T00:22:06.948575",
     "status": "completed"
    },
    "tags": []
   },
   "outputs": [],
   "source": [
    "#hide\n",
    "g = t.reset_index(['Country/Region'])"
   ]
  },
  {
   "cell_type": "code",
   "execution_count": 23,
   "id": "distributed-pittsburgh",
   "metadata": {
    "execution": {
     "iopub.execute_input": "2021-08-20T00:22:07.100148Z",
     "iopub.status.busy": "2021-08-20T00:22:07.098703Z",
     "iopub.status.idle": "2021-08-20T00:22:07.100916Z",
     "shell.execute_reply": "2021-08-20T00:22:07.101518Z"
    },
    "papermill": {
     "duration": 0.050727,
     "end_time": "2021-08-20T00:22:07.101666",
     "exception": false,
     "start_time": "2021-08-20T00:22:07.050939",
     "status": "completed"
    },
    "tags": []
   },
   "outputs": [],
   "source": [
    "#hide\n",
    "g.index.name = 'date'"
   ]
  },
  {
   "cell_type": "code",
   "execution_count": 24,
   "id": "naked-donor",
   "metadata": {
    "execution": {
     "iopub.execute_input": "2021-08-20T00:22:07.192473Z",
     "iopub.status.busy": "2021-08-20T00:22:07.191763Z",
     "iopub.status.idle": "2021-08-20T00:22:07.194463Z",
     "shell.execute_reply": "2021-08-20T00:22:07.193662Z"
    },
    "papermill": {
     "duration": 0.049207,
     "end_time": "2021-08-20T00:22:07.194612",
     "exception": false,
     "start_time": "2021-08-20T00:22:07.145405",
     "status": "completed"
    },
    "tags": []
   },
   "outputs": [],
   "source": [
    "# #hide\n",
    "# g = g.reset_index(['date'])"
   ]
  },
  {
   "cell_type": "code",
   "execution_count": 25,
   "id": "incomplete-mustang",
   "metadata": {
    "execution": {
     "iopub.execute_input": "2021-08-20T00:22:07.284328Z",
     "iopub.status.busy": "2021-08-20T00:22:07.283608Z",
     "iopub.status.idle": "2021-08-20T00:22:07.286412Z",
     "shell.execute_reply": "2021-08-20T00:22:07.285818Z"
    },
    "papermill": {
     "duration": 0.049643,
     "end_time": "2021-08-20T00:22:07.286558",
     "exception": false,
     "start_time": "2021-08-20T00:22:07.236915",
     "status": "completed"
    },
    "tags": []
   },
   "outputs": [],
   "source": [
    "#hide\n",
    "# g.head()"
   ]
  },
  {
   "cell_type": "code",
   "execution_count": 26,
   "id": "specific-kruger",
   "metadata": {
    "execution": {
     "iopub.execute_input": "2021-08-20T00:22:07.377171Z",
     "iopub.status.busy": "2021-08-20T00:22:07.375537Z",
     "iopub.status.idle": "2021-08-20T00:22:07.377931Z",
     "shell.execute_reply": "2021-08-20T00:22:07.378490Z"
    },
    "papermill": {
     "duration": 0.050524,
     "end_time": "2021-08-20T00:22:07.378659",
     "exception": false,
     "start_time": "2021-08-20T00:22:07.328135",
     "status": "completed"
    },
    "tags": []
   },
   "outputs": [],
   "source": [
    "#hide\n",
    "# g.columns = ['date','country','cases']"
   ]
  },
  {
   "cell_type": "code",
   "execution_count": 27,
   "id": "tender-conversion",
   "metadata": {
    "execution": {
     "iopub.execute_input": "2021-08-20T00:22:07.468631Z",
     "iopub.status.busy": "2021-08-20T00:22:07.467878Z",
     "iopub.status.idle": "2021-08-20T00:22:07.470710Z",
     "shell.execute_reply": "2021-08-20T00:22:07.470094Z"
    },
    "papermill": {
     "duration": 0.049257,
     "end_time": "2021-08-20T00:22:07.470871",
     "exception": false,
     "start_time": "2021-08-20T00:22:07.421614",
     "status": "completed"
    },
    "tags": []
   },
   "outputs": [],
   "source": [
    "#hide\n",
    "# g['continent'] = g.country"
   ]
  },
  {
   "cell_type": "code",
   "execution_count": 28,
   "id": "substantial-wilderness",
   "metadata": {
    "execution": {
     "iopub.execute_input": "2021-08-20T00:22:07.561190Z",
     "iopub.status.busy": "2021-08-20T00:22:07.560517Z",
     "iopub.status.idle": "2021-08-20T00:22:07.563367Z",
     "shell.execute_reply": "2021-08-20T00:22:07.562596Z"
    },
    "papermill": {
     "duration": 0.049945,
     "end_time": "2021-08-20T00:22:07.563502",
     "exception": false,
     "start_time": "2021-08-20T00:22:07.513557",
     "status": "completed"
    },
    "tags": []
   },
   "outputs": [],
   "source": [
    "#hide\n",
    "# cols = list(g.columns.values)"
   ]
  },
  {
   "cell_type": "code",
   "execution_count": 29,
   "id": "solved-farming",
   "metadata": {
    "execution": {
     "iopub.execute_input": "2021-08-20T00:22:07.664979Z",
     "iopub.status.busy": "2021-08-20T00:22:07.664250Z",
     "iopub.status.idle": "2021-08-20T00:22:07.666434Z",
     "shell.execute_reply": "2021-08-20T00:22:07.667119Z"
    },
    "papermill": {
     "duration": 0.061565,
     "end_time": "2021-08-20T00:22:07.667275",
     "exception": false,
     "start_time": "2021-08-20T00:22:07.605710",
     "status": "completed"
    },
    "tags": []
   },
   "outputs": [],
   "source": [
    "#hide\n",
    "# cols.insert(0, cols.pop())"
   ]
  },
  {
   "cell_type": "code",
   "execution_count": 30,
   "id": "executed-adoption",
   "metadata": {
    "execution": {
     "iopub.execute_input": "2021-08-20T00:22:07.758671Z",
     "iopub.status.busy": "2021-08-20T00:22:07.757961Z",
     "iopub.status.idle": "2021-08-20T00:22:07.760716Z",
     "shell.execute_reply": "2021-08-20T00:22:07.759827Z"
    },
    "papermill": {
     "duration": 0.049846,
     "end_time": "2021-08-20T00:22:07.760861",
     "exception": false,
     "start_time": "2021-08-20T00:22:07.711015",
     "status": "completed"
    },
    "tags": []
   },
   "outputs": [],
   "source": [
    "#hide\n",
    "# g = g[cols]"
   ]
  },
  {
   "cell_type": "code",
   "execution_count": 31,
   "id": "subject-dublin",
   "metadata": {
    "execution": {
     "iopub.execute_input": "2021-08-20T00:22:07.851242Z",
     "iopub.status.busy": "2021-08-20T00:22:07.850499Z",
     "iopub.status.idle": "2021-08-20T00:22:07.852846Z",
     "shell.execute_reply": "2021-08-20T00:22:07.853409Z"
    },
    "papermill": {
     "duration": 0.049471,
     "end_time": "2021-08-20T00:22:07.853573",
     "exception": false,
     "start_time": "2021-08-20T00:22:07.804102",
     "status": "completed"
    },
    "tags": []
   },
   "outputs": [],
   "source": [
    "#hide\n",
    "# g['continent'] = g['continent'].map(mapping['map.continent'])"
   ]
  },
  {
   "cell_type": "code",
   "execution_count": 32,
   "id": "freelance-scout",
   "metadata": {
    "execution": {
     "iopub.execute_input": "2021-08-20T00:22:07.944821Z",
     "iopub.status.busy": "2021-08-20T00:22:07.944123Z",
     "iopub.status.idle": "2021-08-20T00:22:07.946432Z",
     "shell.execute_reply": "2021-08-20T00:22:07.947123Z"
    },
    "papermill": {
     "duration": 0.049935,
     "end_time": "2021-08-20T00:22:07.947343",
     "exception": false,
     "start_time": "2021-08-20T00:22:07.897408",
     "status": "completed"
    },
    "tags": []
   },
   "outputs": [],
   "source": [
    "#hide\n",
    "# g.head()"
   ]
  },
  {
   "cell_type": "code",
   "execution_count": 33,
   "id": "limited-engine",
   "metadata": {
    "execution": {
     "iopub.execute_input": "2021-08-20T00:22:08.037637Z",
     "iopub.status.busy": "2021-08-20T00:22:08.036938Z",
     "iopub.status.idle": "2021-08-20T00:22:08.039597Z",
     "shell.execute_reply": "2021-08-20T00:22:08.039042Z"
    },
    "papermill": {
     "duration": 0.049272,
     "end_time": "2021-08-20T00:22:08.039745",
     "exception": false,
     "start_time": "2021-08-20T00:22:07.990473",
     "status": "completed"
    },
    "tags": []
   },
   "outputs": [],
   "source": [
    "# hide\n",
    "# g['date'] = g['date'].astype('datetime64[ns]')"
   ]
  },
  {
   "cell_type": "code",
   "execution_count": 34,
   "id": "sophisticated-supervisor",
   "metadata": {
    "execution": {
     "iopub.execute_input": "2021-08-20T00:22:08.136300Z",
     "iopub.status.busy": "2021-08-20T00:22:08.135582Z",
     "iopub.status.idle": "2021-08-20T00:22:08.137667Z",
     "shell.execute_reply": "2021-08-20T00:22:08.138306Z"
    },
    "papermill": {
     "duration": 0.049023,
     "end_time": "2021-08-20T00:22:08.138507",
     "exception": false,
     "start_time": "2021-08-20T00:22:08.089484",
     "status": "completed"
    },
    "tags": []
   },
   "outputs": [],
   "source": [
    "#hide\n",
    "# g['date'] = g.date.dt.dayofyear"
   ]
  },
  {
   "cell_type": "code",
   "execution_count": 35,
   "id": "inside-dubai",
   "metadata": {
    "execution": {
     "iopub.execute_input": "2021-08-20T00:22:08.232952Z",
     "iopub.status.busy": "2021-08-20T00:22:08.232254Z",
     "iopub.status.idle": "2021-08-20T00:22:08.237623Z",
     "shell.execute_reply": "2021-08-20T00:22:08.236956Z"
    },
    "papermill": {
     "duration": 0.054534,
     "end_time": "2021-08-20T00:22:08.237765",
     "exception": false,
     "start_time": "2021-08-20T00:22:08.183231",
     "status": "completed"
    },
    "tags": []
   },
   "outputs": [],
   "source": [
    "#hide\n",
    "# g = g.rename(columns= {'continent':'group','country':'name','cases':'value'})"
   ]
  },
  {
   "cell_type": "code",
   "execution_count": 36,
   "id": "fleet-motorcycle",
   "metadata": {
    "execution": {
     "iopub.execute_input": "2021-08-20T00:22:08.456620Z",
     "iopub.status.busy": "2021-08-20T00:22:08.455502Z",
     "iopub.status.idle": "2021-08-20T00:22:08.459846Z",
     "shell.execute_reply": "2021-08-20T00:22:08.459266Z"
    },
    "papermill": {
     "duration": 0.18082,
     "end_time": "2021-08-20T00:22:08.459998",
     "exception": false,
     "start_time": "2021-08-20T00:22:08.279178",
     "status": "completed"
    },
    "tags": []
   },
   "outputs": [],
   "source": [
    "#hide\n",
    "# cols = ['name','group','day','value']"
   ]
  },
  {
   "cell_type": "code",
   "execution_count": 37,
   "id": "continued-sleeping",
   "metadata": {
    "execution": {
     "iopub.execute_input": "2021-08-20T00:22:08.548623Z",
     "iopub.status.busy": "2021-08-20T00:22:08.547851Z",
     "iopub.status.idle": "2021-08-20T00:22:08.557804Z",
     "shell.execute_reply": "2021-08-20T00:22:08.557010Z"
    },
    "papermill": {
     "duration": 0.056862,
     "end_time": "2021-08-20T00:22:08.557950",
     "exception": false,
     "start_time": "2021-08-20T00:22:08.501088",
     "status": "completed"
    },
    "tags": []
   },
   "outputs": [],
   "source": [
    "#hide\n",
    "# g.rename(columns= {'date':'day'},inplace = True)"
   ]
  },
  {
   "cell_type": "code",
   "execution_count": 38,
   "id": "major-fight",
   "metadata": {
    "execution": {
     "iopub.execute_input": "2021-08-20T00:22:08.648893Z",
     "iopub.status.busy": "2021-08-20T00:22:08.648207Z",
     "iopub.status.idle": "2021-08-20T00:22:08.651024Z",
     "shell.execute_reply": "2021-08-20T00:22:08.650370Z"
    },
    "papermill": {
     "duration": 0.049966,
     "end_time": "2021-08-20T00:22:08.651187",
     "exception": false,
     "start_time": "2021-08-20T00:22:08.601221",
     "status": "completed"
    },
    "tags": []
   },
   "outputs": [],
   "source": [
    "#hide\n",
    "# g = g[cols]"
   ]
  },
  {
   "cell_type": "code",
   "execution_count": 39,
   "id": "structured-mobile",
   "metadata": {
    "execution": {
     "iopub.execute_input": "2021-08-20T00:22:08.745663Z",
     "iopub.status.busy": "2021-08-20T00:22:08.744980Z",
     "iopub.status.idle": "2021-08-20T00:22:08.747474Z",
     "shell.execute_reply": "2021-08-20T00:22:08.746747Z"
    },
    "papermill": {
     "duration": 0.052473,
     "end_time": "2021-08-20T00:22:08.747638",
     "exception": false,
     "start_time": "2021-08-20T00:22:08.695165",
     "status": "completed"
    },
    "tags": []
   },
   "outputs": [],
   "source": [
    "# #hide\n",
    "# g = g[g.group.notna()]"
   ]
  },
  {
   "cell_type": "code",
   "execution_count": 40,
   "id": "determined-closing",
   "metadata": {
    "execution": {
     "iopub.execute_input": "2021-08-20T00:22:08.839061Z",
     "iopub.status.busy": "2021-08-20T00:22:08.838297Z",
     "iopub.status.idle": "2021-08-20T00:22:08.840307Z",
     "shell.execute_reply": "2021-08-20T00:22:08.840963Z"
    },
    "papermill": {
     "duration": 0.051132,
     "end_time": "2021-08-20T00:22:08.841123",
     "exception": false,
     "start_time": "2021-08-20T00:22:08.789991",
     "status": "completed"
    },
    "tags": []
   },
   "outputs": [],
   "source": [
    "# #hide\n",
    "# colors = dict(zip(\n",
    "#     [\"Oceania\", \"Europe\", \"Asia\", \"South America\", \"Middle East\", \"North America\", \"Africa\"],\n",
    "#     [\"#adb0ff\", \"#ffb3ff\", \"#90d595\", \"#e48381\", \"#aafbff\", \"#f7bb5f\", \"#eafb50\"]\n",
    "# ))\n",
    "# group_lk = g.set_index('name')['group'].to_dict()"
   ]
  },
  {
   "cell_type": "code",
   "execution_count": null,
   "id": "gross-drinking",
   "metadata": {
    "papermill": {
     "duration": 0.045063,
     "end_time": "2021-08-20T00:22:08.927804",
     "exception": false,
     "start_time": "2021-08-20T00:22:08.882741",
     "status": "completed"
    },
    "tags": []
   },
   "outputs": [],
   "source": []
  },
  {
   "cell_type": "code",
   "execution_count": 41,
   "id": "subject-macintosh",
   "metadata": {
    "execution": {
     "iopub.execute_input": "2021-08-20T00:22:09.018347Z",
     "iopub.status.busy": "2021-08-20T00:22:09.017552Z",
     "iopub.status.idle": "2021-08-20T00:22:09.020239Z",
     "shell.execute_reply": "2021-08-20T00:22:09.019640Z"
    },
    "papermill": {
     "duration": 0.051094,
     "end_time": "2021-08-20T00:22:09.020411",
     "exception": false,
     "start_time": "2021-08-20T00:22:08.969317",
     "status": "completed"
    },
    "tags": []
   },
   "outputs": [],
   "source": [
    "# #hide\n",
    "# fig, ax = plt.subplots(figsize=(15, 8))\n",
    "\n",
    "# def draw_barchart(current_day):\n",
    "#     dff = g[g['day'].eq(current_day)].sort_values(by='value', ascending=True).tail(10)\n",
    "#     ax.clear()\n",
    "#     ax.barh(dff['name'], dff['value'], color=[colors[group_lk[x]] for x in dff['name']])\n",
    "#     dx = dff['value'].max() / 200\n",
    "    \n",
    "#     for i, (value, name) in enumerate(zip(dff['value'], dff['name'])):\n",
    "#         ax.text(value-dx, i,     name,           size=14, weight=600, ha='right', va='bottom')\n",
    "#         ax.text(value-dx, i-.25, group_lk[name], size=10, color='#444444', ha='right', va='baseline')\n",
    "#         ax.text(value+dx, i,     f'{value:,.0f}',  size=14, ha='left',  va='center')\n",
    "#     ax.text(1, 0.4, current_day, transform=ax.transAxes, color='#777777', size=46, ha='right', weight=800)\n",
    "#     ax.text(0, 1.06, 'Population (thousands)', transform=ax.transAxes, size=12, color='#777777')\n",
    "#     ax.xaxis.set_major_formatter(ticker.StrMethodFormatter('{x:,.0f}'))\n",
    "#     ax.xaxis.set_ticks_position('top')\n",
    "#     ax.tick_params(axis='x', colors='#777777', labelsize=12)\n",
    "#     ax.set_yticks([])\n",
    "#     ax.margins(0, 0.01)\n",
    "#     ax.grid(which='major', axis='x', linestyle='-')\n",
    "#     ax.set_axisbelow(True)\n",
    "    \n",
    "#     ax.text(0, 1.15, 'Coronavirus',\n",
    "#             transform=ax.transAxes, size=24, weight=600, ha='left', va='top')\n",
    "# #     ax.text(1, 0, 'by @pratapvardhan; credit @jburnmurdoch', transform=ax.transAxes, color='#777777', ha='right',\n",
    "# #             bbox=dict(facecolor='white', alpha=0.8, edgecolor='white'))\n",
    "#     plt.box(False)"
   ]
  },
  {
   "cell_type": "code",
   "execution_count": 42,
   "id": "sexual-wages",
   "metadata": {
    "execution": {
     "iopub.execute_input": "2021-08-20T00:22:09.112632Z",
     "iopub.status.busy": "2021-08-20T00:22:09.111957Z",
     "iopub.status.idle": "2021-08-20T00:22:09.114525Z",
     "shell.execute_reply": "2021-08-20T00:22:09.113956Z"
    },
    "papermill": {
     "duration": 0.050947,
     "end_time": "2021-08-20T00:22:09.114673",
     "exception": false,
     "start_time": "2021-08-20T00:22:09.063726",
     "status": "completed"
    },
    "tags": []
   },
   "outputs": [],
   "source": [
    "# #hide_input\n",
    "# fig, ax = plt.subplots(figsize=(15, 8))\n",
    "# animator = animation.FuncAnimation(fig, draw_barchart, frames=range(g.day.values.min(), g.day.values.max()))\n",
    "# HTML(animator.to_jshtml())\n",
    "# # or use animator.to_html5_video() or animator.save() "
   ]
  },
  {
   "cell_type": "code",
   "execution_count": null,
   "id": "australian-container",
   "metadata": {
    "papermill": {
     "duration": 0.044182,
     "end_time": "2021-08-20T00:22:09.202400",
     "exception": false,
     "start_time": "2021-08-20T00:22:09.158218",
     "status": "completed"
    },
    "tags": []
   },
   "outputs": [],
   "source": []
  },
  {
   "cell_type": "code",
   "execution_count": null,
   "id": "mediterranean-pontiac",
   "metadata": {
    "papermill": {
     "duration": 0.040982,
     "end_time": "2021-08-20T00:22:09.293083",
     "exception": false,
     "start_time": "2021-08-20T00:22:09.252101",
     "status": "completed"
    },
    "tags": []
   },
   "outputs": [],
   "source": []
  },
  {
   "cell_type": "code",
   "execution_count": null,
   "id": "aging-legislature",
   "metadata": {
    "papermill": {
     "duration": 0.044168,
     "end_time": "2021-08-20T00:22:09.380480",
     "exception": false,
     "start_time": "2021-08-20T00:22:09.336312",
     "status": "completed"
    },
    "tags": []
   },
   "outputs": [],
   "source": []
  }
 ],
 "metadata": {
  "kernelspec": {
   "display_name": "Python 3",
   "language": "python",
   "name": "python3"
  },
  "language_info": {
   "codemirror_mode": {
    "name": "ipython",
    "version": 3
   },
   "file_extension": ".py",
   "mimetype": "text/x-python",
   "name": "python",
   "nbconvert_exporter": "python",
   "pygments_lexer": "ipython3",
   "version": "3.6.14"
  },
  "papermill": {
   "duration": 8.265003,
   "end_time": "2021-08-20T00:22:09.832839",
   "environment_variables": {},
   "exception": null,
   "input_path": "2020-03-21-covid19exp.ipynb",
   "output_path": "2020-03-21-covid19exp.ipynb",
   "parameters": {},
   "start_time": "2021-08-20T00:22:01.567836",
   "version": "2.0.0"
  }
 },
 "nbformat": 4,
 "nbformat_minor": 5
}