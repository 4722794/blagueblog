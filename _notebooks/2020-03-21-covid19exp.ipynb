{
 "cells": [
  {
   "cell_type": "markdown",
   "id": "muslim-click",
   "metadata": {
    "papermill": {
     "duration": 0.034264,
     "end_time": "2022-10-20T00:54:01.958645",
     "exception": false,
     "start_time": "2022-10-20T00:54:01.924381",
     "status": "completed"
    },
    "tags": []
   },
   "source": [
    "# COVID-19 Case Race\n",
    "> A race chart to see rising cases around the world\n",
    "\n",
    "- author: Hargun Oberoi\n",
    "- image: images/covid-overview.png\n",
    "- hide: false\n",
    "- badges: false"
   ]
  },
  {
   "cell_type": "code",
   "execution_count": 1,
   "id": "proof-material",
   "metadata": {
    "execution": {
     "iopub.execute_input": "2022-10-20T00:54:02.027627Z",
     "iopub.status.busy": "2022-10-20T00:54:02.027063Z",
     "iopub.status.idle": "2022-10-20T00:54:02.336105Z",
     "shell.execute_reply": "2022-10-20T00:54:02.335179Z"
    },
    "papermill": {
     "duration": 0.347371,
     "end_time": "2022-10-20T00:54:02.336242",
     "exception": false,
     "start_time": "2022-10-20T00:54:01.988871",
     "status": "completed"
    },
    "tags": []
   },
   "outputs": [],
   "source": [
    "#hide\n",
    "import numpy as np\n",
    "import pandas as pd\n",
    "from jinja2 import Template\n",
    "from IPython.display import HTML"
   ]
  },
  {
   "cell_type": "code",
   "execution_count": 2,
   "id": "developed-terminology",
   "metadata": {
    "execution": {
     "iopub.execute_input": "2022-10-20T00:54:02.400019Z",
     "iopub.status.busy": "2022-10-20T00:54:02.399452Z",
     "iopub.status.idle": "2022-10-20T00:54:02.401767Z",
     "shell.execute_reply": "2022-10-20T00:54:02.401314Z"
    },
    "papermill": {
     "duration": 0.035691,
     "end_time": "2022-10-20T00:54:02.401866",
     "exception": false,
     "start_time": "2022-10-20T00:54:02.366175",
     "status": "completed"
    },
    "tags": []
   },
   "outputs": [],
   "source": [
    "#hide\n",
    "\n",
    "# FETCH\n",
    "base_url = 'https://raw.githubusercontent.com/pratapvardhan/notebooks/master/covid19/'\n",
    "paths = {\n",
    "    'mapping': base_url + 'mapping_countries.csv',\n",
    "    'overview': base_url + 'overview.tpl'\n",
    "}"
   ]
  },
  {
   "cell_type": "code",
   "execution_count": 3,
   "id": "dynamic-saver",
   "metadata": {
    "execution": {
     "iopub.execute_input": "2022-10-20T00:54:02.468994Z",
     "iopub.status.busy": "2022-10-20T00:54:02.468419Z",
     "iopub.status.idle": "2022-10-20T00:54:02.471389Z",
     "shell.execute_reply": "2022-10-20T00:54:02.471836Z"
    },
    "papermill": {
     "duration": 0.040796,
     "end_time": "2022-10-20T00:54:02.471946",
     "exception": false,
     "start_time": "2022-10-20T00:54:02.431150",
     "status": "completed"
    },
    "tags": []
   },
   "outputs": [
    {
     "data": {
      "text/plain": [
       "'https://raw.githubusercontent.com/pratapvardhan/notebooks/master/covid19/mapping_countries.csv'"
      ]
     },
     "execution_count": 3,
     "metadata": {},
     "output_type": "execute_result"
    }
   ],
   "source": [
    "#hide\n",
    "paths['mapping']"
   ]
  },
  {
   "cell_type": "code",
   "execution_count": 4,
   "id": "urban-software",
   "metadata": {
    "execution": {
     "iopub.execute_input": "2022-10-20T00:54:02.535563Z",
     "iopub.status.busy": "2022-10-20T00:54:02.535006Z",
     "iopub.status.idle": "2022-10-20T00:54:02.537441Z",
     "shell.execute_reply": "2022-10-20T00:54:02.536909Z"
    },
    "papermill": {
     "duration": 0.035953,
     "end_time": "2022-10-20T00:54:02.537537",
     "exception": false,
     "start_time": "2022-10-20T00:54:02.501584",
     "status": "completed"
    },
    "tags": []
   },
   "outputs": [],
   "source": [
    "#hide\n",
    "def get_mappings(url):\n",
    "    df = pd.read_csv(url)\n",
    "    return {\n",
    "        'df': df,\n",
    "        'replace.country': dict(df.dropna(subset=['Name']).set_index('Country')['Name']),\n",
    "        'map.continent': dict(df.set_index('Name')['Continent'])\n",
    "    }"
   ]
  },
  {
   "cell_type": "code",
   "execution_count": 5,
   "id": "intimate-machinery",
   "metadata": {
    "execution": {
     "iopub.execute_input": "2022-10-20T00:54:02.601131Z",
     "iopub.status.busy": "2022-10-20T00:54:02.600576Z",
     "iopub.status.idle": "2022-10-20T00:54:02.653117Z",
     "shell.execute_reply": "2022-10-20T00:54:02.652661Z"
    },
    "papermill": {
     "duration": 0.086248,
     "end_time": "2022-10-20T00:54:02.653214",
     "exception": false,
     "start_time": "2022-10-20T00:54:02.566966",
     "status": "completed"
    },
    "tags": []
   },
   "outputs": [],
   "source": [
    "#hide\n",
    "mapping = get_mappings(paths['mapping'])"
   ]
  },
  {
   "cell_type": "code",
   "execution_count": 6,
   "id": "certified-tactics",
   "metadata": {
    "execution": {
     "iopub.execute_input": "2022-10-20T00:54:02.716917Z",
     "iopub.status.busy": "2022-10-20T00:54:02.716356Z",
     "iopub.status.idle": "2022-10-20T00:54:02.718770Z",
     "shell.execute_reply": "2022-10-20T00:54:02.718249Z"
    },
    "papermill": {
     "duration": 0.035841,
     "end_time": "2022-10-20T00:54:02.718867",
     "exception": false,
     "start_time": "2022-10-20T00:54:02.683026",
     "status": "completed"
    },
    "tags": []
   },
   "outputs": [],
   "source": [
    "#hide\n",
    "def get_template(path):\n",
    "    from urllib.parse import urlparse\n",
    "    if bool(urlparse(path).netloc):\n",
    "        from urllib.request import urlopen\n",
    "        return urlopen(path).read().decode('utf8')\n",
    "    return open(path).read()"
   ]
  },
  {
   "cell_type": "code",
   "execution_count": 7,
   "id": "realistic-blast",
   "metadata": {
    "execution": {
     "iopub.execute_input": "2022-10-20T00:54:02.782438Z",
     "iopub.status.busy": "2022-10-20T00:54:02.781842Z",
     "iopub.status.idle": "2022-10-20T00:54:02.784268Z",
     "shell.execute_reply": "2022-10-20T00:54:02.783727Z"
    },
    "papermill": {
     "duration": 0.03597,
     "end_time": "2022-10-20T00:54:02.784365",
     "exception": false,
     "start_time": "2022-10-20T00:54:02.748395",
     "status": "completed"
    },
    "tags": []
   },
   "outputs": [],
   "source": [
    "#hide\n",
    "def get_frame(name):\n",
    "    url = (\n",
    "        'https://raw.githubusercontent.com/CSSEGISandData/COVID-19/master/csse_covid_19_data/'\n",
    "        f'csse_covid_19_time_series/time_series_covid19_{name}_global.csv')\n",
    "    df = pd.read_csv(url)\n",
    "    # rename countries\n",
    "    df['Country/Region'] = df['Country/Region'].replace(mapping['replace.country'])\n",
    "    return df"
   ]
  },
  {
   "cell_type": "code",
   "execution_count": 8,
   "id": "affiliated-characterization",
   "metadata": {
    "execution": {
     "iopub.execute_input": "2022-10-20T00:54:02.849090Z",
     "iopub.status.busy": "2022-10-20T00:54:02.848544Z",
     "iopub.status.idle": "2022-10-20T00:54:02.851048Z",
     "shell.execute_reply": "2022-10-20T00:54:02.850608Z"
    },
    "papermill": {
     "duration": 0.037046,
     "end_time": "2022-10-20T00:54:02.851144",
     "exception": false,
     "start_time": "2022-10-20T00:54:02.814098",
     "status": "completed"
    },
    "tags": []
   },
   "outputs": [],
   "source": [
    "#hide\n",
    "def get_dates(df):\n",
    "    dt_cols = df.columns[~df.columns.isin(['Province/State', 'Country/Region', 'Lat', 'Long'])]\n",
    "    LAST_DATE_I = -1\n",
    "    # sometimes last column may be empty, then go backwards\n",
    "    for i in range(-1, -len(dt_cols), -1):\n",
    "        if not df[dt_cols[i]].fillna(0).eq(0).all():\n",
    "            LAST_DATE_I = i\n",
    "            break\n",
    "    return LAST_DATE_I, dt_cols"
   ]
  },
  {
   "cell_type": "code",
   "execution_count": 9,
   "id": "recent-optimization",
   "metadata": {
    "execution": {
     "iopub.execute_input": "2022-10-20T00:54:02.915476Z",
     "iopub.status.busy": "2022-10-20T00:54:02.914907Z",
     "iopub.status.idle": "2022-10-20T00:54:03.423937Z",
     "shell.execute_reply": "2022-10-20T00:54:03.423346Z"
    },
    "papermill": {
     "duration": 0.54329,
     "end_time": "2022-10-20T00:54:03.424049",
     "exception": false,
     "start_time": "2022-10-20T00:54:02.880759",
     "status": "completed"
    },
    "tags": []
   },
   "outputs": [],
   "source": [
    "#hide\n",
    "COL_REGION = 'Country/Region'\n",
    "# Confirmed, Recovered, Deaths\n",
    "df = get_frame('confirmed')\n",
    "# dft_: timeseries, dfc_: today country agg\n",
    "dft_cases = df\n",
    "dft_deaths = get_frame('deaths')\n",
    "dft_recovered = get_frame('recovered')\n",
    "LAST_DATE_I, dt_cols = get_dates(df)"
   ]
  },
  {
   "cell_type": "code",
   "execution_count": 10,
   "id": "absolute-copper",
   "metadata": {
    "execution": {
     "iopub.execute_input": "2022-10-20T00:54:03.490599Z",
     "iopub.status.busy": "2022-10-20T00:54:03.489334Z",
     "iopub.status.idle": "2022-10-20T00:54:03.491242Z",
     "shell.execute_reply": "2022-10-20T00:54:03.491655Z"
    },
    "papermill": {
     "duration": 0.037379,
     "end_time": "2022-10-20T00:54:03.491762",
     "exception": false,
     "start_time": "2022-10-20T00:54:03.454383",
     "status": "completed"
    },
    "tags": []
   },
   "outputs": [],
   "source": [
    "#hide\n",
    "LAST_DATE_I, dt_cols = get_dates(df)\n",
    "dt_today =dt_cols[LAST_DATE_I]\n",
    "# dt_5day = dt_cols[LAST_DATE_I - 5]\n",
    "dt_yday = dt_cols[LAST_DATE_I - 1]"
   ]
  },
  {
   "cell_type": "code",
   "execution_count": 11,
   "id": "restricted-sheriff",
   "metadata": {
    "execution": {
     "iopub.execute_input": "2022-10-20T00:54:03.555194Z",
     "iopub.status.busy": "2022-10-20T00:54:03.554648Z",
     "iopub.status.idle": "2022-10-20T00:54:03.561593Z",
     "shell.execute_reply": "2022-10-20T00:54:03.562058Z"
    },
    "papermill": {
     "duration": 0.040921,
     "end_time": "2022-10-20T00:54:03.562170",
     "exception": false,
     "start_time": "2022-10-20T00:54:03.521249",
     "status": "completed"
    },
    "tags": []
   },
   "outputs": [],
   "source": [
    "#hide\n",
    "dfc_cases = dft_cases.groupby(COL_REGION)[dt_today].sum()\n",
    "dfc_deaths = dft_deaths.groupby(COL_REGION)[dt_today].sum()\n",
    "# dfp_cases = dft_cases.groupby(COL_REGION)[dt_5day].sum()\n",
    "# dfp_deaths = dft_deaths.groupby(COL_REGION)[dt_5day].sum()\n",
    "dfp_cases = dft_cases.groupby(COL_REGION)[dt_yday].sum()\n",
    "dfp_deaths = dft_deaths.groupby(COL_REGION)[dt_yday].sum()"
   ]
  },
  {
   "cell_type": "code",
   "execution_count": 12,
   "id": "deluxe-hepatitis",
   "metadata": {
    "execution": {
     "iopub.execute_input": "2022-10-20T00:54:03.626379Z",
     "iopub.status.busy": "2022-10-20T00:54:03.625804Z",
     "iopub.status.idle": "2022-10-20T00:54:03.629821Z",
     "shell.execute_reply": "2022-10-20T00:54:03.630370Z"
    },
    "papermill": {
     "duration": 0.038748,
     "end_time": "2022-10-20T00:54:03.630477",
     "exception": false,
     "start_time": "2022-10-20T00:54:03.591729",
     "status": "completed"
    },
    "tags": []
   },
   "outputs": [],
   "source": [
    "#hide\n",
    "df_table = (pd.DataFrame(dict(Cases = dfc_cases, Deaths = dfc_deaths, PCases = dfp_cases, PDeaths = dfp_deaths))\n",
    "            .sort_values(by = ['Cases','Deaths'], ascending = [False, False])\n",
    "            .reset_index())"
   ]
  },
  {
   "cell_type": "code",
   "execution_count": 13,
   "id": "educational-chancellor",
   "metadata": {
    "execution": {
     "iopub.execute_input": "2022-10-20T00:54:03.701106Z",
     "iopub.status.busy": "2022-10-20T00:54:03.700554Z",
     "iopub.status.idle": "2022-10-20T00:54:03.711896Z",
     "shell.execute_reply": "2022-10-20T00:54:03.712316Z"
    },
    "papermill": {
     "duration": 0.052521,
     "end_time": "2022-10-20T00:54:03.712421",
     "exception": false,
     "start_time": "2022-10-20T00:54:03.659900",
     "status": "completed"
    },
    "tags": []
   },
   "outputs": [
    {
     "data": {
      "text/html": [
       "<div>\n",
       "<style scoped>\n",
       "    .dataframe tbody tr th:only-of-type {\n",
       "        vertical-align: middle;\n",
       "    }\n",
       "\n",
       "    .dataframe tbody tr th {\n",
       "        vertical-align: top;\n",
       "    }\n",
       "\n",
       "    .dataframe thead th {\n",
       "        text-align: right;\n",
       "    }\n",
       "</style>\n",
       "<table border=\"1\" class=\"dataframe\">\n",
       "  <thead>\n",
       "    <tr style=\"text-align: right;\">\n",
       "      <th></th>\n",
       "      <th>Country/Region</th>\n",
       "      <th>Cases</th>\n",
       "      <th>Deaths</th>\n",
       "      <th>PCases</th>\n",
       "      <th>PDeaths</th>\n",
       "      <th>Cases (+)</th>\n",
       "      <th>Deaths (+)</th>\n",
       "      <th>Fatality Rate</th>\n",
       "      <th>Continent</th>\n",
       "    </tr>\n",
       "  </thead>\n",
       "  <tbody>\n",
       "    <tr>\n",
       "      <th>0</th>\n",
       "      <td>US</td>\n",
       "      <td>97023298</td>\n",
       "      <td>1065841</td>\n",
       "      <td>96990467</td>\n",
       "      <td>1065441</td>\n",
       "      <td>32831</td>\n",
       "      <td>400</td>\n",
       "      <td>1.10</td>\n",
       "      <td>North America</td>\n",
       "    </tr>\n",
       "    <tr>\n",
       "      <th>1</th>\n",
       "      <td>India</td>\n",
       "      <td>44634376</td>\n",
       "      <td>528923</td>\n",
       "      <td>44632430</td>\n",
       "      <td>528913</td>\n",
       "      <td>1946</td>\n",
       "      <td>10</td>\n",
       "      <td>1.19</td>\n",
       "      <td>Asia</td>\n",
       "    </tr>\n",
       "    <tr>\n",
       "      <th>2</th>\n",
       "      <td>France</td>\n",
       "      <td>36573007</td>\n",
       "      <td>157121</td>\n",
       "      <td>36485341</td>\n",
       "      <td>157020</td>\n",
       "      <td>87666</td>\n",
       "      <td>101</td>\n",
       "      <td>0.43</td>\n",
       "      <td>Europe</td>\n",
       "    </tr>\n",
       "    <tr>\n",
       "      <th>3</th>\n",
       "      <td>Germany</td>\n",
       "      <td>34888963</td>\n",
       "      <td>151877</td>\n",
       "      <td>34758889</td>\n",
       "      <td>151629</td>\n",
       "      <td>130074</td>\n",
       "      <td>248</td>\n",
       "      <td>0.44</td>\n",
       "      <td>Europe</td>\n",
       "    </tr>\n",
       "    <tr>\n",
       "      <th>4</th>\n",
       "      <td>Brazil</td>\n",
       "      <td>34746462</td>\n",
       "      <td>687144</td>\n",
       "      <td>34746462</td>\n",
       "      <td>687144</td>\n",
       "      <td>0</td>\n",
       "      <td>0</td>\n",
       "      <td>1.98</td>\n",
       "      <td>South America</td>\n",
       "    </tr>\n",
       "  </tbody>\n",
       "</table>\n",
       "</div>"
      ],
      "text/plain": [
       "  Country/Region     Cases   Deaths    PCases  PDeaths  Cases (+)  Deaths (+)  \\\n",
       "0             US  97023298  1065841  96990467  1065441      32831         400   \n",
       "1          India  44634376   528923  44632430   528913       1946          10   \n",
       "2         France  36573007   157121  36485341   157020      87666         101   \n",
       "3        Germany  34888963   151877  34758889   151629     130074         248   \n",
       "4         Brazil  34746462   687144  34746462   687144          0           0   \n",
       "\n",
       "   Fatality Rate      Continent  \n",
       "0           1.10  North America  \n",
       "1           1.19           Asia  \n",
       "2           0.43         Europe  \n",
       "3           0.44         Europe  \n",
       "4           1.98  South America  "
      ]
     },
     "execution_count": 13,
     "metadata": {},
     "output_type": "execute_result"
    }
   ],
   "source": [
    "#hide\n",
    "for c in 'Cases, Deaths'.split(', '):\n",
    "    df_table[f'{c} (+)'] = (df_table[c] - df_table[f'P{c}']).clip(0)\n",
    "    #Clip ça veut dire, les chiffres negatif sont interdit\n",
    "df_table['Fatality Rate'] = (100* df_table['Deaths']/ df_table['Cases']).round(2)\n",
    "df_table['Continent'] = df_table['Country/Region'].map(mapping['map.continent'])\n",
    "df_table.head(5)"
   ]
  },
  {
   "cell_type": "code",
   "execution_count": 14,
   "id": "aboriginal-bulgaria",
   "metadata": {
    "execution": {
     "iopub.execute_input": "2022-10-20T00:54:03.777158Z",
     "iopub.status.busy": "2022-10-20T00:54:03.776604Z",
     "iopub.status.idle": "2022-10-20T00:54:03.779291Z",
     "shell.execute_reply": "2022-10-20T00:54:03.778843Z"
    },
    "papermill": {
     "duration": 0.036863,
     "end_time": "2022-10-20T00:54:03.779384",
     "exception": false,
     "start_time": "2022-10-20T00:54:03.742521",
     "status": "completed"
    },
    "tags": []
   },
   "outputs": [],
   "source": [
    "#hide\n",
    "#delete problematic countries from table\n",
    "df_table = df_table[~df_table['Country/Region'].isin(['Cape Verde', 'Cruise Ship', 'Kosovo'])]"
   ]
  },
  {
   "cell_type": "code",
   "execution_count": 15,
   "id": "fantastic-effect",
   "metadata": {
    "execution": {
     "iopub.execute_input": "2022-10-20T00:54:03.845510Z",
     "iopub.status.busy": "2022-10-20T00:54:03.844893Z",
     "iopub.status.idle": "2022-10-20T00:54:03.862347Z",
     "shell.execute_reply": "2022-10-20T00:54:03.861892Z"
    },
    "papermill": {
     "duration": 0.053198,
     "end_time": "2022-10-20T00:54:03.862443",
     "exception": false,
     "start_time": "2022-10-20T00:54:03.809245",
     "status": "completed"
    },
    "tags": []
   },
   "outputs": [
    {
     "data": {
      "text/html": [
       "<div>\n",
       "<style scoped>\n",
       "    .dataframe tbody tr th:only-of-type {\n",
       "        vertical-align: middle;\n",
       "    }\n",
       "\n",
       "    .dataframe tbody tr th {\n",
       "        vertical-align: top;\n",
       "    }\n",
       "\n",
       "    .dataframe thead th {\n",
       "        text-align: right;\n",
       "    }\n",
       "</style>\n",
       "<table border=\"1\" class=\"dataframe\">\n",
       "  <thead>\n",
       "    <tr style=\"text-align: right;\">\n",
       "      <th></th>\n",
       "      <th>Country/Region</th>\n",
       "      <th>Cases</th>\n",
       "      <th>Deaths</th>\n",
       "      <th>PCases</th>\n",
       "      <th>PDeaths</th>\n",
       "      <th>Cases (+)</th>\n",
       "      <th>Deaths (+)</th>\n",
       "      <th>Fatality Rate</th>\n",
       "      <th>Continent</th>\n",
       "    </tr>\n",
       "  </thead>\n",
       "  <tbody>\n",
       "    <tr>\n",
       "      <th>0</th>\n",
       "      <td>US</td>\n",
       "      <td>97023298</td>\n",
       "      <td>1065841</td>\n",
       "      <td>96990467</td>\n",
       "      <td>1065441</td>\n",
       "      <td>32831</td>\n",
       "      <td>400</td>\n",
       "      <td>1.1</td>\n",
       "      <td>North America</td>\n",
       "    </tr>\n",
       "    <tr>\n",
       "      <th>1</th>\n",
       "      <td>India</td>\n",
       "      <td>44634376</td>\n",
       "      <td>528923</td>\n",
       "      <td>44632430</td>\n",
       "      <td>528913</td>\n",
       "      <td>1946</td>\n",
       "      <td>10</td>\n",
       "      <td>1.2</td>\n",
       "      <td>Asia</td>\n",
       "    </tr>\n",
       "    <tr>\n",
       "      <th>2</th>\n",
       "      <td>France</td>\n",
       "      <td>36573007</td>\n",
       "      <td>157121</td>\n",
       "      <td>36485341</td>\n",
       "      <td>157020</td>\n",
       "      <td>87666</td>\n",
       "      <td>101</td>\n",
       "      <td>0.4</td>\n",
       "      <td>Europe</td>\n",
       "    </tr>\n",
       "    <tr>\n",
       "      <th>3</th>\n",
       "      <td>Germany</td>\n",
       "      <td>34888963</td>\n",
       "      <td>151877</td>\n",
       "      <td>34758889</td>\n",
       "      <td>151629</td>\n",
       "      <td>130074</td>\n",
       "      <td>248</td>\n",
       "      <td>0.4</td>\n",
       "      <td>Europe</td>\n",
       "    </tr>\n",
       "    <tr>\n",
       "      <th>4</th>\n",
       "      <td>Brazil</td>\n",
       "      <td>34746462</td>\n",
       "      <td>687144</td>\n",
       "      <td>34746462</td>\n",
       "      <td>687144</td>\n",
       "      <td>0</td>\n",
       "      <td>0</td>\n",
       "      <td>2.0</td>\n",
       "      <td>South America</td>\n",
       "    </tr>\n",
       "  </tbody>\n",
       "</table>\n",
       "</div>"
      ],
      "text/plain": [
       "  Country/Region     Cases   Deaths    PCases  PDeaths  Cases (+)  Deaths (+)  \\\n",
       "0             US  97023298  1065841  96990467  1065441      32831         400   \n",
       "1          India  44634376   528923  44632430   528913       1946          10   \n",
       "2         France  36573007   157121  36485341   157020      87666         101   \n",
       "3        Germany  34888963   151877  34758889   151629     130074         248   \n",
       "4         Brazil  34746462   687144  34746462   687144          0           0   \n",
       "\n",
       "   Fatality Rate      Continent  \n",
       "0            1.1  North America  \n",
       "1            1.2           Asia  \n",
       "2            0.4         Europe  \n",
       "3            0.4         Europe  \n",
       "4            2.0  South America  "
      ]
     },
     "execution_count": 15,
     "metadata": {},
     "output_type": "execute_result"
    }
   ],
   "source": [
    "#hide\n",
    "df_table = (pd.DataFrame(dict(Cases=dfc_cases, Deaths=dfc_deaths, PCases=dfp_cases, PDeaths=dfp_deaths))\n",
    "             .sort_values(by=['Cases', 'Deaths'], ascending=[False, False])\n",
    "             .reset_index())\n",
    "df_table.rename(columns={'index': 'Country/Region'}, inplace=True)\n",
    "for c in 'Cases, Deaths'.split(', '):\n",
    "    df_table[f'{c} (+)'] = (df_table[c] - df_table[f'P{c}']).clip(0)  # DATA BUG\n",
    "df_table['Fatality Rate'] = (100 * df_table['Deaths'] / df_table['Cases']).round(1)\n",
    "df_table['Continent'] = df_table['Country/Region'].map(mapping['map.continent'])\n",
    "df_table.head(5)"
   ]
  },
  {
   "cell_type": "code",
   "execution_count": 16,
   "id": "fewer-occasion",
   "metadata": {
    "execution": {
     "iopub.execute_input": "2022-10-20T00:54:03.928862Z",
     "iopub.status.busy": "2022-10-20T00:54:03.928318Z",
     "iopub.status.idle": "2022-10-20T00:54:03.931087Z",
     "shell.execute_reply": "2022-10-20T00:54:03.931501Z"
    },
    "papermill": {
     "duration": 0.038345,
     "end_time": "2022-10-20T00:54:03.931609",
     "exception": false,
     "start_time": "2022-10-20T00:54:03.893264",
     "status": "completed"
    },
    "tags": []
   },
   "outputs": [],
   "source": [
    "#hide\n",
    "#delete problematic countries from table\n",
    "df_table = df_table[~df_table['Country/Region'].isin(['Cape Verde', 'Cruise Ship', 'Kosovo'])]"
   ]
  },
  {
   "cell_type": "code",
   "execution_count": 17,
   "id": "related-center",
   "metadata": {
    "execution": {
     "iopub.execute_input": "2022-10-20T00:54:04.003861Z",
     "iopub.status.busy": "2022-10-20T00:54:04.003302Z",
     "iopub.status.idle": "2022-10-20T00:54:04.010838Z",
     "shell.execute_reply": "2022-10-20T00:54:04.011231Z"
    },
    "papermill": {
     "duration": 0.049168,
     "end_time": "2022-10-20T00:54:04.011338",
     "exception": false,
     "start_time": "2022-10-20T00:54:03.962170",
     "status": "completed"
    },
    "tags": []
   },
   "outputs": [],
   "source": [
    "#hide\n",
    "metrics = [df_table.columns[index] for index in [1,2,5,6]]\n",
    "# s_china = df_table[df_table['Country/Region'].eq('China')][metrics].sum().add_prefix('China ')\n",
    "s_us = df_table[df_table['Country/Region'].eq('US')][metrics].sum().add_prefix('US ')\n",
    "s_eu = df_table[df_table['Continent'].eq('Europe')][metrics].sum().add_prefix('EU ')\n",
    "s_ind = df_table[df_table['Country/Region'].eq('India')][metrics].sum().add_prefix('India ')\n",
    "summary = {'updated': pd.to_datetime(dt_today), 'since': pd.to_datetime(dt_yday)}\n",
    "summary = {'updated': pd.to_datetime(dt_today), 'since': pd.to_datetime(dt_yday)}\n",
    "summary = {**summary, **df_table[metrics].sum(), **s_ind, **s_us, **s_eu}"
   ]
  },
  {
   "cell_type": "code",
   "execution_count": 18,
   "id": "engaging-syndrome",
   "metadata": {
    "execution": {
     "iopub.execute_input": "2022-10-20T00:54:04.076663Z",
     "iopub.status.busy": "2022-10-20T00:54:04.076117Z",
     "iopub.status.idle": "2022-10-20T00:54:04.095879Z",
     "shell.execute_reply": "2022-10-20T00:54:04.095444Z"
    },
    "papermill": {
     "duration": 0.054171,
     "end_time": "2022-10-20T00:54:04.095981",
     "exception": false,
     "start_time": "2022-10-20T00:54:04.041810",
     "status": "completed"
    },
    "tags": []
   },
   "outputs": [],
   "source": [
    "#hide\n",
    "dft_ct_new_cases = dft_cases.groupby(COL_REGION)[dt_cols].sum().diff(axis=1).fillna(0).astype(int)"
   ]
  },
  {
   "cell_type": "code",
   "execution_count": 19,
   "id": "neutral-assignment",
   "metadata": {
    "execution": {
     "iopub.execute_input": "2022-10-20T00:54:04.163048Z",
     "iopub.status.busy": "2022-10-20T00:54:04.162500Z",
     "iopub.status.idle": "2022-10-20T00:54:04.165090Z",
     "shell.execute_reply": "2022-10-20T00:54:04.164572Z"
    },
    "papermill": {
     "duration": 0.03848,
     "end_time": "2022-10-20T00:54:04.165187",
     "exception": false,
     "start_time": "2022-10-20T00:54:04.126707",
     "status": "completed"
    },
    "tags": []
   },
   "outputs": [],
   "source": [
    "#hide\n",
    "everydaycases = dft_ct_new_cases.cumsum(axis=1)"
   ]
  },
  {
   "cell_type": "code",
   "execution_count": 20,
   "id": "parliamentary-calgary",
   "metadata": {
    "execution": {
     "iopub.execute_input": "2022-10-20T00:54:04.230181Z",
     "iopub.status.busy": "2022-10-20T00:54:04.229590Z",
     "iopub.status.idle": "2022-10-20T00:54:04.764838Z",
     "shell.execute_reply": "2022-10-20T00:54:04.764372Z"
    },
    "papermill": {
     "duration": 0.569114,
     "end_time": "2022-10-20T00:54:04.764951",
     "exception": false,
     "start_time": "2022-10-20T00:54:04.195837",
     "status": "completed"
    },
    "tags": []
   },
   "outputs": [],
   "source": [
    "#hide\n",
    "import pandas as pd\n",
    "import matplotlib.pyplot as plt\n",
    "import matplotlib.ticker as ticker\n",
    "import matplotlib.animation as animation\n",
    "from IPython.display import HTML"
   ]
  },
  {
   "cell_type": "code",
   "execution_count": 21,
   "id": "lasting-extraction",
   "metadata": {
    "execution": {
     "iopub.execute_input": "2022-10-20T00:54:04.832740Z",
     "iopub.status.busy": "2022-10-20T00:54:04.832186Z",
     "iopub.status.idle": "2022-10-20T00:54:04.840869Z",
     "shell.execute_reply": "2022-10-20T00:54:04.839859Z"
    },
    "papermill": {
     "duration": 0.045278,
     "end_time": "2022-10-20T00:54:04.840979",
     "exception": false,
     "start_time": "2022-10-20T00:54:04.795701",
     "status": "completed"
    },
    "tags": []
   },
   "outputs": [],
   "source": [
    "#hide\n",
    "t = everydaycases.stack()"
   ]
  },
  {
   "cell_type": "code",
   "execution_count": 22,
   "id": "premier-sleeve",
   "metadata": {
    "execution": {
     "iopub.execute_input": "2022-10-20T00:54:04.906813Z",
     "iopub.status.busy": "2022-10-20T00:54:04.906244Z",
     "iopub.status.idle": "2022-10-20T00:54:04.917794Z",
     "shell.execute_reply": "2022-10-20T00:54:04.917254Z"
    },
    "papermill": {
     "duration": 0.046051,
     "end_time": "2022-10-20T00:54:04.917899",
     "exception": false,
     "start_time": "2022-10-20T00:54:04.871848",
     "status": "completed"
    },
    "tags": []
   },
   "outputs": [],
   "source": [
    "#hide\n",
    "g = t.reset_index(['Country/Region'])"
   ]
  },
  {
   "cell_type": "code",
   "execution_count": 23,
   "id": "distributed-pittsburgh",
   "metadata": {
    "execution": {
     "iopub.execute_input": "2022-10-20T00:54:04.983338Z",
     "iopub.status.busy": "2022-10-20T00:54:04.982788Z",
     "iopub.status.idle": "2022-10-20T00:54:04.985229Z",
     "shell.execute_reply": "2022-10-20T00:54:04.984708Z"
    },
    "papermill": {
     "duration": 0.035988,
     "end_time": "2022-10-20T00:54:04.985329",
     "exception": false,
     "start_time": "2022-10-20T00:54:04.949341",
     "status": "completed"
    },
    "tags": []
   },
   "outputs": [],
   "source": [
    "#hide\n",
    "g.index.name = 'date'"
   ]
  },
  {
   "cell_type": "code",
   "execution_count": 24,
   "id": "naked-donor",
   "metadata": {
    "execution": {
     "iopub.execute_input": "2022-10-20T00:54:05.050049Z",
     "iopub.status.busy": "2022-10-20T00:54:05.049463Z",
     "iopub.status.idle": "2022-10-20T00:54:05.051881Z",
     "shell.execute_reply": "2022-10-20T00:54:05.051365Z"
    },
    "papermill": {
     "duration": 0.036021,
     "end_time": "2022-10-20T00:54:05.051978",
     "exception": false,
     "start_time": "2022-10-20T00:54:05.015957",
     "status": "completed"
    },
    "tags": []
   },
   "outputs": [],
   "source": [
    "# #hide\n",
    "# g = g.reset_index(['date'])"
   ]
  },
  {
   "cell_type": "code",
   "execution_count": 25,
   "id": "incomplete-mustang",
   "metadata": {
    "execution": {
     "iopub.execute_input": "2022-10-20T00:54:05.116233Z",
     "iopub.status.busy": "2022-10-20T00:54:05.115675Z",
     "iopub.status.idle": "2022-10-20T00:54:05.118183Z",
     "shell.execute_reply": "2022-10-20T00:54:05.117727Z"
    },
    "papermill": {
     "duration": 0.035751,
     "end_time": "2022-10-20T00:54:05.118279",
     "exception": false,
     "start_time": "2022-10-20T00:54:05.082528",
     "status": "completed"
    },
    "tags": []
   },
   "outputs": [],
   "source": [
    "#hide\n",
    "# g.head()"
   ]
  },
  {
   "cell_type": "code",
   "execution_count": 26,
   "id": "specific-kruger",
   "metadata": {
    "execution": {
     "iopub.execute_input": "2022-10-20T00:54:05.183273Z",
     "iopub.status.busy": "2022-10-20T00:54:05.182704Z",
     "iopub.status.idle": "2022-10-20T00:54:05.185182Z",
     "shell.execute_reply": "2022-10-20T00:54:05.184646Z"
    },
    "papermill": {
     "duration": 0.03637,
     "end_time": "2022-10-20T00:54:05.185279",
     "exception": false,
     "start_time": "2022-10-20T00:54:05.148909",
     "status": "completed"
    },
    "tags": []
   },
   "outputs": [],
   "source": [
    "#hide\n",
    "# g.columns = ['date','country','cases']"
   ]
  },
  {
   "cell_type": "code",
   "execution_count": 27,
   "id": "tender-conversion",
   "metadata": {
    "execution": {
     "iopub.execute_input": "2022-10-20T00:54:05.249951Z",
     "iopub.status.busy": "2022-10-20T00:54:05.249381Z",
     "iopub.status.idle": "2022-10-20T00:54:05.251886Z",
     "shell.execute_reply": "2022-10-20T00:54:05.251450Z"
    },
    "papermill": {
     "duration": 0.036119,
     "end_time": "2022-10-20T00:54:05.251985",
     "exception": false,
     "start_time": "2022-10-20T00:54:05.215866",
     "status": "completed"
    },
    "tags": []
   },
   "outputs": [],
   "source": [
    "#hide\n",
    "# g['continent'] = g.country"
   ]
  },
  {
   "cell_type": "code",
   "execution_count": 28,
   "id": "substantial-wilderness",
   "metadata": {
    "execution": {
     "iopub.execute_input": "2022-10-20T00:54:05.317304Z",
     "iopub.status.busy": "2022-10-20T00:54:05.316736Z",
     "iopub.status.idle": "2022-10-20T00:54:05.318903Z",
     "shell.execute_reply": "2022-10-20T00:54:05.319301Z"
    },
    "papermill": {
     "duration": 0.036359,
     "end_time": "2022-10-20T00:54:05.319415",
     "exception": false,
     "start_time": "2022-10-20T00:54:05.283056",
     "status": "completed"
    },
    "tags": []
   },
   "outputs": [],
   "source": [
    "#hide\n",
    "# cols = list(g.columns.values)"
   ]
  },
  {
   "cell_type": "code",
   "execution_count": 29,
   "id": "solved-farming",
   "metadata": {
    "execution": {
     "iopub.execute_input": "2022-10-20T00:54:05.383653Z",
     "iopub.status.busy": "2022-10-20T00:54:05.383109Z",
     "iopub.status.idle": "2022-10-20T00:54:05.385071Z",
     "shell.execute_reply": "2022-10-20T00:54:05.384561Z"
    },
    "papermill": {
     "duration": 0.035377,
     "end_time": "2022-10-20T00:54:05.385167",
     "exception": false,
     "start_time": "2022-10-20T00:54:05.349790",
     "status": "completed"
    },
    "tags": []
   },
   "outputs": [],
   "source": [
    "#hide\n",
    "# cols.insert(0, cols.pop())"
   ]
  },
  {
   "cell_type": "code",
   "execution_count": 30,
   "id": "executed-adoption",
   "metadata": {
    "execution": {
     "iopub.execute_input": "2022-10-20T00:54:05.450204Z",
     "iopub.status.busy": "2022-10-20T00:54:05.449598Z",
     "iopub.status.idle": "2022-10-20T00:54:05.451765Z",
     "shell.execute_reply": "2022-10-20T00:54:05.452165Z"
    },
    "papermill": {
     "duration": 0.036544,
     "end_time": "2022-10-20T00:54:05.452279",
     "exception": false,
     "start_time": "2022-10-20T00:54:05.415735",
     "status": "completed"
    },
    "tags": []
   },
   "outputs": [],
   "source": [
    "#hide\n",
    "# g = g[cols]"
   ]
  },
  {
   "cell_type": "code",
   "execution_count": 31,
   "id": "subject-dublin",
   "metadata": {
    "execution": {
     "iopub.execute_input": "2022-10-20T00:54:05.516730Z",
     "iopub.status.busy": "2022-10-20T00:54:05.516183Z",
     "iopub.status.idle": "2022-10-20T00:54:05.518176Z",
     "shell.execute_reply": "2022-10-20T00:54:05.517629Z"
    },
    "papermill": {
     "duration": 0.035479,
     "end_time": "2022-10-20T00:54:05.518274",
     "exception": false,
     "start_time": "2022-10-20T00:54:05.482795",
     "status": "completed"
    },
    "tags": []
   },
   "outputs": [],
   "source": [
    "#hide\n",
    "# g['continent'] = g['continent'].map(mapping['map.continent'])"
   ]
  },
  {
   "cell_type": "code",
   "execution_count": 32,
   "id": "freelance-scout",
   "metadata": {
    "execution": {
     "iopub.execute_input": "2022-10-20T00:54:05.582921Z",
     "iopub.status.busy": "2022-10-20T00:54:05.582347Z",
     "iopub.status.idle": "2022-10-20T00:54:05.584195Z",
     "shell.execute_reply": "2022-10-20T00:54:05.583682Z"
    },
    "papermill": {
     "duration": 0.035342,
     "end_time": "2022-10-20T00:54:05.584293",
     "exception": false,
     "start_time": "2022-10-20T00:54:05.548951",
     "status": "completed"
    },
    "tags": []
   },
   "outputs": [],
   "source": [
    "#hide\n",
    "# g.head()"
   ]
  },
  {
   "cell_type": "code",
   "execution_count": 33,
   "id": "limited-engine",
   "metadata": {
    "execution": {
     "iopub.execute_input": "2022-10-20T00:54:05.648699Z",
     "iopub.status.busy": "2022-10-20T00:54:05.648137Z",
     "iopub.status.idle": "2022-10-20T00:54:05.650492Z",
     "shell.execute_reply": "2022-10-20T00:54:05.649957Z"
    },
    "papermill": {
     "duration": 0.035725,
     "end_time": "2022-10-20T00:54:05.650588",
     "exception": false,
     "start_time": "2022-10-20T00:54:05.614863",
     "status": "completed"
    },
    "tags": []
   },
   "outputs": [],
   "source": [
    "# hide\n",
    "# g['date'] = g['date'].astype('datetime64[ns]')"
   ]
  },
  {
   "cell_type": "code",
   "execution_count": 34,
   "id": "sophisticated-supervisor",
   "metadata": {
    "execution": {
     "iopub.execute_input": "2022-10-20T00:54:05.715188Z",
     "iopub.status.busy": "2022-10-20T00:54:05.714625Z",
     "iopub.status.idle": "2022-10-20T00:54:05.716641Z",
     "shell.execute_reply": "2022-10-20T00:54:05.717037Z"
    },
    "papermill": {
     "duration": 0.035769,
     "end_time": "2022-10-20T00:54:05.717148",
     "exception": false,
     "start_time": "2022-10-20T00:54:05.681379",
     "status": "completed"
    },
    "tags": []
   },
   "outputs": [],
   "source": [
    "#hide\n",
    "# g['date'] = g.date.dt.dayofyear"
   ]
  },
  {
   "cell_type": "code",
   "execution_count": 35,
   "id": "inside-dubai",
   "metadata": {
    "execution": {
     "iopub.execute_input": "2022-10-20T00:54:05.781480Z",
     "iopub.status.busy": "2022-10-20T00:54:05.780917Z",
     "iopub.status.idle": "2022-10-20T00:54:05.783677Z",
     "shell.execute_reply": "2022-10-20T00:54:05.782777Z"
    },
    "papermill": {
     "duration": 0.036146,
     "end_time": "2022-10-20T00:54:05.783782",
     "exception": false,
     "start_time": "2022-10-20T00:54:05.747636",
     "status": "completed"
    },
    "tags": []
   },
   "outputs": [],
   "source": [
    "#hide\n",
    "# g = g.rename(columns= {'continent':'group','country':'name','cases':'value'})"
   ]
  },
  {
   "cell_type": "code",
   "execution_count": 36,
   "id": "fleet-motorcycle",
   "metadata": {
    "execution": {
     "iopub.execute_input": "2022-10-20T00:54:05.848228Z",
     "iopub.status.busy": "2022-10-20T00:54:05.847661Z",
     "iopub.status.idle": "2022-10-20T00:54:05.849542Z",
     "shell.execute_reply": "2022-10-20T00:54:05.849033Z"
    },
    "papermill": {
     "duration": 0.03528,
     "end_time": "2022-10-20T00:54:05.849637",
     "exception": false,
     "start_time": "2022-10-20T00:54:05.814357",
     "status": "completed"
    },
    "tags": []
   },
   "outputs": [],
   "source": [
    "#hide\n",
    "# cols = ['name','group','day','value']"
   ]
  },
  {
   "cell_type": "code",
   "execution_count": 37,
   "id": "continued-sleeping",
   "metadata": {
    "execution": {
     "iopub.execute_input": "2022-10-20T00:54:05.914828Z",
     "iopub.status.busy": "2022-10-20T00:54:05.914256Z",
     "iopub.status.idle": "2022-10-20T00:54:05.916103Z",
     "shell.execute_reply": "2022-10-20T00:54:05.915588Z"
    },
    "papermill": {
     "duration": 0.035855,
     "end_time": "2022-10-20T00:54:05.916203",
     "exception": false,
     "start_time": "2022-10-20T00:54:05.880348",
     "status": "completed"
    },
    "tags": []
   },
   "outputs": [],
   "source": [
    "#hide\n",
    "# g.rename(columns= {'date':'day'},inplace = True)"
   ]
  },
  {
   "cell_type": "code",
   "execution_count": 38,
   "id": "major-fight",
   "metadata": {
    "execution": {
     "iopub.execute_input": "2022-10-20T00:54:05.981364Z",
     "iopub.status.busy": "2022-10-20T00:54:05.980793Z",
     "iopub.status.idle": "2022-10-20T00:54:05.983144Z",
     "shell.execute_reply": "2022-10-20T00:54:05.982630Z"
    },
    "papermill": {
     "duration": 0.035633,
     "end_time": "2022-10-20T00:54:05.983240",
     "exception": false,
     "start_time": "2022-10-20T00:54:05.947607",
     "status": "completed"
    },
    "tags": []
   },
   "outputs": [],
   "source": [
    "#hide\n",
    "# g = g[cols]"
   ]
  },
  {
   "cell_type": "code",
   "execution_count": 39,
   "id": "structured-mobile",
   "metadata": {
    "execution": {
     "iopub.execute_input": "2022-10-20T00:54:06.047268Z",
     "iopub.status.busy": "2022-10-20T00:54:06.046708Z",
     "iopub.status.idle": "2022-10-20T00:54:06.049095Z",
     "shell.execute_reply": "2022-10-20T00:54:06.048666Z"
    },
    "papermill": {
     "duration": 0.035551,
     "end_time": "2022-10-20T00:54:06.049188",
     "exception": false,
     "start_time": "2022-10-20T00:54:06.013637",
     "status": "completed"
    },
    "tags": []
   },
   "outputs": [],
   "source": [
    "# #hide\n",
    "# g = g[g.group.notna()]"
   ]
  },
  {
   "cell_type": "code",
   "execution_count": 40,
   "id": "determined-closing",
   "metadata": {
    "execution": {
     "iopub.execute_input": "2022-10-20T00:54:06.113651Z",
     "iopub.status.busy": "2022-10-20T00:54:06.113084Z",
     "iopub.status.idle": "2022-10-20T00:54:06.115519Z",
     "shell.execute_reply": "2022-10-20T00:54:06.115090Z"
    },
    "papermill": {
     "duration": 0.0357,
     "end_time": "2022-10-20T00:54:06.115609",
     "exception": false,
     "start_time": "2022-10-20T00:54:06.079909",
     "status": "completed"
    },
    "tags": []
   },
   "outputs": [],
   "source": [
    "# #hide\n",
    "# colors = dict(zip(\n",
    "#     [\"Oceania\", \"Europe\", \"Asia\", \"South America\", \"Middle East\", \"North America\", \"Africa\"],\n",
    "#     [\"#adb0ff\", \"#ffb3ff\", \"#90d595\", \"#e48381\", \"#aafbff\", \"#f7bb5f\", \"#eafb50\"]\n",
    "# ))\n",
    "# group_lk = g.set_index('name')['group'].to_dict()"
   ]
  },
  {
   "cell_type": "code",
   "execution_count": null,
   "id": "gross-drinking",
   "metadata": {
    "papermill": {
     "duration": 0.030427,
     "end_time": "2022-10-20T00:54:06.176544",
     "exception": false,
     "start_time": "2022-10-20T00:54:06.146117",
     "status": "completed"
    },
    "tags": []
   },
   "outputs": [],
   "source": []
  },
  {
   "cell_type": "code",
   "execution_count": 41,
   "id": "subject-macintosh",
   "metadata": {
    "execution": {
     "iopub.execute_input": "2022-10-20T00:54:06.241664Z",
     "iopub.status.busy": "2022-10-20T00:54:06.241091Z",
     "iopub.status.idle": "2022-10-20T00:54:06.244668Z",
     "shell.execute_reply": "2022-10-20T00:54:06.244196Z"
    },
    "papermill": {
     "duration": 0.037529,
     "end_time": "2022-10-20T00:54:06.244764",
     "exception": false,
     "start_time": "2022-10-20T00:54:06.207235",
     "status": "completed"
    },
    "tags": []
   },
   "outputs": [],
   "source": [
    "# #hide\n",
    "# fig, ax = plt.subplots(figsize=(15, 8))\n",
    "\n",
    "# def draw_barchart(current_day):\n",
    "#     dff = g[g['day'].eq(current_day)].sort_values(by='value', ascending=True).tail(10)\n",
    "#     ax.clear()\n",
    "#     ax.barh(dff['name'], dff['value'], color=[colors[group_lk[x]] for x in dff['name']])\n",
    "#     dx = dff['value'].max() / 200\n",
    "    \n",
    "#     for i, (value, name) in enumerate(zip(dff['value'], dff['name'])):\n",
    "#         ax.text(value-dx, i,     name,           size=14, weight=600, ha='right', va='bottom')\n",
    "#         ax.text(value-dx, i-.25, group_lk[name], size=10, color='#444444', ha='right', va='baseline')\n",
    "#         ax.text(value+dx, i,     f'{value:,.0f}',  size=14, ha='left',  va='center')\n",
    "#     ax.text(1, 0.4, current_day, transform=ax.transAxes, color='#777777', size=46, ha='right', weight=800)\n",
    "#     ax.text(0, 1.06, 'Population (thousands)', transform=ax.transAxes, size=12, color='#777777')\n",
    "#     ax.xaxis.set_major_formatter(ticker.StrMethodFormatter('{x:,.0f}'))\n",
    "#     ax.xaxis.set_ticks_position('top')\n",
    "#     ax.tick_params(axis='x', colors='#777777', labelsize=12)\n",
    "#     ax.set_yticks([])\n",
    "#     ax.margins(0, 0.01)\n",
    "#     ax.grid(which='major', axis='x', linestyle='-')\n",
    "#     ax.set_axisbelow(True)\n",
    "    \n",
    "#     ax.text(0, 1.15, 'Coronavirus',\n",
    "#             transform=ax.transAxes, size=24, weight=600, ha='left', va='top')\n",
    "# #     ax.text(1, 0, 'by @pratapvardhan; credit @jburnmurdoch', transform=ax.transAxes, color='#777777', ha='right',\n",
    "# #             bbox=dict(facecolor='white', alpha=0.8, edgecolor='white'))\n",
    "#     plt.box(False)"
   ]
  },
  {
   "cell_type": "code",
   "execution_count": 42,
   "id": "sexual-wages",
   "metadata": {
    "execution": {
     "iopub.execute_input": "2022-10-20T00:54:06.309454Z",
     "iopub.status.busy": "2022-10-20T00:54:06.308891Z",
     "iopub.status.idle": "2022-10-20T00:54:06.311319Z",
     "shell.execute_reply": "2022-10-20T00:54:06.310893Z"
    },
    "papermill": {
     "duration": 0.036034,
     "end_time": "2022-10-20T00:54:06.311411",
     "exception": false,
     "start_time": "2022-10-20T00:54:06.275377",
     "status": "completed"
    },
    "tags": []
   },
   "outputs": [],
   "source": [
    "# #hide_input\n",
    "# fig, ax = plt.subplots(figsize=(15, 8))\n",
    "# animator = animation.FuncAnimation(fig, draw_barchart, frames=range(g.day.values.min(), g.day.values.max()))\n",
    "# HTML(animator.to_jshtml())\n",
    "# # or use animator.to_html5_video() or animator.save() "
   ]
  },
  {
   "cell_type": "code",
   "execution_count": null,
   "id": "australian-container",
   "metadata": {
    "papermill": {
     "duration": 0.030377,
     "end_time": "2022-10-20T00:54:06.372424",
     "exception": false,
     "start_time": "2022-10-20T00:54:06.342047",
     "status": "completed"
    },
    "tags": []
   },
   "outputs": [],
   "source": []
  },
  {
   "cell_type": "code",
   "execution_count": null,
   "id": "mediterranean-pontiac",
   "metadata": {
    "papermill": {
     "duration": 0.030453,
     "end_time": "2022-10-20T00:54:06.433249",
     "exception": false,
     "start_time": "2022-10-20T00:54:06.402796",
     "status": "completed"
    },
    "tags": []
   },
   "outputs": [],
   "source": []
  },
  {
   "cell_type": "code",
   "execution_count": null,
   "id": "aging-legislature",
   "metadata": {
    "papermill": {
     "duration": 0.030401,
     "end_time": "2022-10-20T00:54:06.494290",
     "exception": false,
     "start_time": "2022-10-20T00:54:06.463889",
     "status": "completed"
    },
    "tags": []
   },
   "outputs": [],
   "source": []
  }
 ],
 "metadata": {
  "kernelspec": {
   "display_name": "Python 3",
   "language": "python",
   "name": "python3"
  },
  "language_info": {
   "codemirror_mode": {
    "name": "ipython",
    "version": 3
   },
   "file_extension": ".py",
   "mimetype": "text/x-python",
   "name": "python",
   "nbconvert_exporter": "python",
   "pygments_lexer": "ipython3",
   "version": "3.6.15"
  },
  "papermill": {
   "duration": 5.840309,
   "end_time": "2022-10-20T00:54:06.842217",
   "environment_variables": {},
   "exception": null,
   "input_path": "2020-03-21-covid19exp.ipynb",
   "output_path": "2020-03-21-covid19exp.ipynb",
   "parameters": {},
   "start_time": "2022-10-20T00:54:01.001908",
   "version": "2.0.0"
  }
 },
 "nbformat": 4,
 "nbformat_minor": 5
}