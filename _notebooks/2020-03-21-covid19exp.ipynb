{
 "cells": [
  {
   "cell_type": "markdown",
   "id": "muslim-click",
   "metadata": {
    "papermill": {
     "duration": 0.03912,
     "end_time": "2021-05-19T00:23:42.851922",
     "exception": false,
     "start_time": "2021-05-19T00:23:42.812802",
     "status": "completed"
    },
    "tags": []
   },
   "source": [
    "# COVID-19 Case Race\n",
    "> A race chart to see rising cases around the world\n",
    "\n",
    "- author: Hargun Oberoi\n",
    "- image: images/covid-overview.png\n",
    "- hide: false\n",
    "- badges: false"
   ]
  },
  {
   "cell_type": "code",
   "execution_count": 1,
   "id": "proof-material",
   "metadata": {
    "execution": {
     "iopub.execute_input": "2021-05-19T00:23:42.931977Z",
     "iopub.status.busy": "2021-05-19T00:23:42.931376Z",
     "iopub.status.idle": "2021-05-19T00:23:43.289115Z",
     "shell.execute_reply": "2021-05-19T00:23:43.289667Z"
    },
    "papermill": {
     "duration": 0.403481,
     "end_time": "2021-05-19T00:23:43.289885",
     "exception": false,
     "start_time": "2021-05-19T00:23:42.886404",
     "status": "completed"
    },
    "tags": []
   },
   "outputs": [],
   "source": [
    "#hide\n",
    "import numpy as np\n",
    "import pandas as pd\n",
    "from jinja2 import Template\n",
    "from IPython.display import HTML"
   ]
  },
  {
   "cell_type": "code",
   "execution_count": 2,
   "id": "developed-terminology",
   "metadata": {
    "execution": {
     "iopub.execute_input": "2021-05-19T00:23:43.375468Z",
     "iopub.status.busy": "2021-05-19T00:23:43.374769Z",
     "iopub.status.idle": "2021-05-19T00:23:43.377583Z",
     "shell.execute_reply": "2021-05-19T00:23:43.376987Z"
    },
    "papermill": {
     "duration": 0.049191,
     "end_time": "2021-05-19T00:23:43.377720",
     "exception": false,
     "start_time": "2021-05-19T00:23:43.328529",
     "status": "completed"
    },
    "tags": []
   },
   "outputs": [],
   "source": [
    "#hide\n",
    "\n",
    "# FETCH\n",
    "base_url = 'https://raw.githubusercontent.com/pratapvardhan/notebooks/master/covid19/'\n",
    "paths = {\n",
    "    'mapping': base_url + 'mapping_countries.csv',\n",
    "    'overview': base_url + 'overview.tpl'\n",
    "}"
   ]
  },
  {
   "cell_type": "code",
   "execution_count": 3,
   "id": "dynamic-saver",
   "metadata": {
    "execution": {
     "iopub.execute_input": "2021-05-19T00:23:43.461592Z",
     "iopub.status.busy": "2021-05-19T00:23:43.458646Z",
     "iopub.status.idle": "2021-05-19T00:23:43.464646Z",
     "shell.execute_reply": "2021-05-19T00:23:43.465210Z"
    },
    "papermill": {
     "duration": 0.051389,
     "end_time": "2021-05-19T00:23:43.465358",
     "exception": false,
     "start_time": "2021-05-19T00:23:43.413969",
     "status": "completed"
    },
    "tags": []
   },
   "outputs": [
    {
     "data": {
      "text/plain": [
       "'https://raw.githubusercontent.com/pratapvardhan/notebooks/master/covid19/mapping_countries.csv'"
      ]
     },
     "execution_count": 3,
     "metadata": {},
     "output_type": "execute_result"
    }
   ],
   "source": [
    "#hide\n",
    "paths['mapping']"
   ]
  },
  {
   "cell_type": "code",
   "execution_count": 4,
   "id": "urban-software",
   "metadata": {
    "execution": {
     "iopub.execute_input": "2021-05-19T00:23:43.539632Z",
     "iopub.status.busy": "2021-05-19T00:23:43.539049Z",
     "iopub.status.idle": "2021-05-19T00:23:43.541182Z",
     "shell.execute_reply": "2021-05-19T00:23:43.541742Z"
    },
    "papermill": {
     "duration": 0.042183,
     "end_time": "2021-05-19T00:23:43.541861",
     "exception": false,
     "start_time": "2021-05-19T00:23:43.499678",
     "status": "completed"
    },
    "tags": []
   },
   "outputs": [],
   "source": [
    "#hide\n",
    "def get_mappings(url):\n",
    "    df = pd.read_csv(url)\n",
    "    return {\n",
    "        'df': df,\n",
    "        'replace.country': dict(df.dropna(subset=['Name']).set_index('Country')['Name']),\n",
    "        'map.continent': dict(df.set_index('Name')['Continent'])\n",
    "    }"
   ]
  },
  {
   "cell_type": "code",
   "execution_count": 5,
   "id": "intimate-machinery",
   "metadata": {
    "execution": {
     "iopub.execute_input": "2021-05-19T00:23:43.613993Z",
     "iopub.status.busy": "2021-05-19T00:23:43.613414Z",
     "iopub.status.idle": "2021-05-19T00:23:43.643719Z",
     "shell.execute_reply": "2021-05-19T00:23:43.643231Z"
    },
    "papermill": {
     "duration": 0.06852,
     "end_time": "2021-05-19T00:23:43.643851",
     "exception": false,
     "start_time": "2021-05-19T00:23:43.575331",
     "status": "completed"
    },
    "tags": []
   },
   "outputs": [],
   "source": [
    "#hide\n",
    "mapping = get_mappings(paths['mapping'])"
   ]
  },
  {
   "cell_type": "code",
   "execution_count": 6,
   "id": "certified-tactics",
   "metadata": {
    "execution": {
     "iopub.execute_input": "2021-05-19T00:23:43.720328Z",
     "iopub.status.busy": "2021-05-19T00:23:43.719637Z",
     "iopub.status.idle": "2021-05-19T00:23:43.722082Z",
     "shell.execute_reply": "2021-05-19T00:23:43.721432Z"
    },
    "papermill": {
     "duration": 0.04199,
     "end_time": "2021-05-19T00:23:43.722214",
     "exception": false,
     "start_time": "2021-05-19T00:23:43.680224",
     "status": "completed"
    },
    "tags": []
   },
   "outputs": [],
   "source": [
    "#hide\n",
    "def get_template(path):\n",
    "    from urllib.parse import urlparse\n",
    "    if bool(urlparse(path).netloc):\n",
    "        from urllib.request import urlopen\n",
    "        return urlopen(path).read().decode('utf8')\n",
    "    return open(path).read()"
   ]
  },
  {
   "cell_type": "code",
   "execution_count": 7,
   "id": "realistic-blast",
   "metadata": {
    "execution": {
     "iopub.execute_input": "2021-05-19T00:23:43.799631Z",
     "iopub.status.busy": "2021-05-19T00:23:43.799012Z",
     "iopub.status.idle": "2021-05-19T00:23:43.801620Z",
     "shell.execute_reply": "2021-05-19T00:23:43.801040Z"
    },
    "papermill": {
     "duration": 0.04452,
     "end_time": "2021-05-19T00:23:43.801768",
     "exception": false,
     "start_time": "2021-05-19T00:23:43.757248",
     "status": "completed"
    },
    "tags": []
   },
   "outputs": [],
   "source": [
    "#hide\n",
    "def get_frame(name):\n",
    "    url = (\n",
    "        'https://raw.githubusercontent.com/CSSEGISandData/COVID-19/master/csse_covid_19_data/'\n",
    "        f'csse_covid_19_time_series/time_series_covid19_{name}_global.csv')\n",
    "    df = pd.read_csv(url)\n",
    "    # rename countries\n",
    "    df['Country/Region'] = df['Country/Region'].replace(mapping['replace.country'])\n",
    "    return df"
   ]
  },
  {
   "cell_type": "code",
   "execution_count": 8,
   "id": "affiliated-characterization",
   "metadata": {
    "execution": {
     "iopub.execute_input": "2021-05-19T00:23:43.889376Z",
     "iopub.status.busy": "2021-05-19T00:23:43.888667Z",
     "iopub.status.idle": "2021-05-19T00:23:43.891181Z",
     "shell.execute_reply": "2021-05-19T00:23:43.890681Z"
    },
    "papermill": {
     "duration": 0.053386,
     "end_time": "2021-05-19T00:23:43.891309",
     "exception": false,
     "start_time": "2021-05-19T00:23:43.837923",
     "status": "completed"
    },
    "tags": []
   },
   "outputs": [],
   "source": [
    "#hide\n",
    "def get_dates(df):\n",
    "    dt_cols = df.columns[~df.columns.isin(['Province/State', 'Country/Region', 'Lat', 'Long'])]\n",
    "    LAST_DATE_I = -1\n",
    "    # sometimes last column may be empty, then go backwards\n",
    "    for i in range(-1, -len(dt_cols), -1):\n",
    "        if not df[dt_cols[i]].fillna(0).eq(0).all():\n",
    "            LAST_DATE_I = i\n",
    "            break\n",
    "    return LAST_DATE_I, dt_cols"
   ]
  },
  {
   "cell_type": "code",
   "execution_count": 9,
   "id": "recent-optimization",
   "metadata": {
    "execution": {
     "iopub.execute_input": "2021-05-19T00:23:43.967488Z",
     "iopub.status.busy": "2021-05-19T00:23:43.966813Z",
     "iopub.status.idle": "2021-05-19T00:23:44.262124Z",
     "shell.execute_reply": "2021-05-19T00:23:44.261551Z"
    },
    "papermill": {
     "duration": 0.336033,
     "end_time": "2021-05-19T00:23:44.262263",
     "exception": false,
     "start_time": "2021-05-19T00:23:43.926230",
     "status": "completed"
    },
    "tags": []
   },
   "outputs": [],
   "source": [
    "#hide\n",
    "COL_REGION = 'Country/Region'\n",
    "# Confirmed, Recovered, Deaths\n",
    "df = get_frame('confirmed')\n",
    "# dft_: timeseries, dfc_: today country agg\n",
    "dft_cases = df\n",
    "dft_deaths = get_frame('deaths')\n",
    "dft_recovered = get_frame('recovered')\n",
    "LAST_DATE_I, dt_cols = get_dates(df)"
   ]
  },
  {
   "cell_type": "code",
   "execution_count": 10,
   "id": "absolute-copper",
   "metadata": {
    "execution": {
     "iopub.execute_input": "2021-05-19T00:23:44.336119Z",
     "iopub.status.busy": "2021-05-19T00:23:44.335558Z",
     "iopub.status.idle": "2021-05-19T00:23:44.337647Z",
     "shell.execute_reply": "2021-05-19T00:23:44.339020Z"
    },
    "papermill": {
     "duration": 0.042081,
     "end_time": "2021-05-19T00:23:44.339166",
     "exception": false,
     "start_time": "2021-05-19T00:23:44.297085",
     "status": "completed"
    },
    "tags": []
   },
   "outputs": [],
   "source": [
    "#hide\n",
    "LAST_DATE_I, dt_cols = get_dates(df)\n",
    "dt_today =dt_cols[LAST_DATE_I]\n",
    "# dt_5day = dt_cols[LAST_DATE_I - 5]\n",
    "dt_yday = dt_cols[LAST_DATE_I - 1]"
   ]
  },
  {
   "cell_type": "code",
   "execution_count": 11,
   "id": "restricted-sheriff",
   "metadata": {
    "execution": {
     "iopub.execute_input": "2021-05-19T00:23:44.416607Z",
     "iopub.status.busy": "2021-05-19T00:23:44.415981Z",
     "iopub.status.idle": "2021-05-19T00:23:44.422107Z",
     "shell.execute_reply": "2021-05-19T00:23:44.422761Z"
    },
    "papermill": {
     "duration": 0.049991,
     "end_time": "2021-05-19T00:23:44.422892",
     "exception": false,
     "start_time": "2021-05-19T00:23:44.372901",
     "status": "completed"
    },
    "tags": []
   },
   "outputs": [],
   "source": [
    "#hide\n",
    "dfc_cases = dft_cases.groupby(COL_REGION)[dt_today].sum()\n",
    "dfc_deaths = dft_deaths.groupby(COL_REGION)[dt_today].sum()\n",
    "# dfp_cases = dft_cases.groupby(COL_REGION)[dt_5day].sum()\n",
    "# dfp_deaths = dft_deaths.groupby(COL_REGION)[dt_5day].sum()\n",
    "dfp_cases = dft_cases.groupby(COL_REGION)[dt_yday].sum()\n",
    "dfp_deaths = dft_deaths.groupby(COL_REGION)[dt_yday].sum()"
   ]
  },
  {
   "cell_type": "code",
   "execution_count": 12,
   "id": "deluxe-hepatitis",
   "metadata": {
    "execution": {
     "iopub.execute_input": "2021-05-19T00:23:44.502514Z",
     "iopub.status.busy": "2021-05-19T00:23:44.501888Z",
     "iopub.status.idle": "2021-05-19T00:23:44.506399Z",
     "shell.execute_reply": "2021-05-19T00:23:44.507016Z"
    },
    "papermill": {
     "duration": 0.048008,
     "end_time": "2021-05-19T00:23:44.507157",
     "exception": false,
     "start_time": "2021-05-19T00:23:44.459149",
     "status": "completed"
    },
    "tags": []
   },
   "outputs": [],
   "source": [
    "#hide\n",
    "df_table = (pd.DataFrame(dict(Cases = dfc_cases, Deaths = dfc_deaths, PCases = dfp_cases, PDeaths = dfp_deaths))\n",
    "            .sort_values(by = ['Cases','Deaths'], ascending = [False, False])\n",
    "            .reset_index())"
   ]
  },
  {
   "cell_type": "code",
   "execution_count": 13,
   "id": "educational-chancellor",
   "metadata": {
    "execution": {
     "iopub.execute_input": "2021-05-19T00:23:44.602920Z",
     "iopub.status.busy": "2021-05-19T00:23:44.602097Z",
     "iopub.status.idle": "2021-05-19T00:23:44.611353Z",
     "shell.execute_reply": "2021-05-19T00:23:44.610803Z"
    },
    "papermill": {
     "duration": 0.06727,
     "end_time": "2021-05-19T00:23:44.611468",
     "exception": false,
     "start_time": "2021-05-19T00:23:44.544198",
     "status": "completed"
    },
    "tags": []
   },
   "outputs": [
    {
     "data": {
      "text/html": [
       "<div>\n",
       "<style scoped>\n",
       "    .dataframe tbody tr th:only-of-type {\n",
       "        vertical-align: middle;\n",
       "    }\n",
       "\n",
       "    .dataframe tbody tr th {\n",
       "        vertical-align: top;\n",
       "    }\n",
       "\n",
       "    .dataframe thead th {\n",
       "        text-align: right;\n",
       "    }\n",
       "</style>\n",
       "<table border=\"1\" class=\"dataframe\">\n",
       "  <thead>\n",
       "    <tr style=\"text-align: right;\">\n",
       "      <th></th>\n",
       "      <th>Country/Region</th>\n",
       "      <th>Cases</th>\n",
       "      <th>Deaths</th>\n",
       "      <th>PCases</th>\n",
       "      <th>PDeaths</th>\n",
       "      <th>Cases (+)</th>\n",
       "      <th>Deaths (+)</th>\n",
       "      <th>Fatality Rate</th>\n",
       "      <th>Continent</th>\n",
       "    </tr>\n",
       "  </thead>\n",
       "  <tbody>\n",
       "    <tr>\n",
       "      <th>0</th>\n",
       "      <td>US</td>\n",
       "      <td>32969480</td>\n",
       "      <td>586362</td>\n",
       "      <td>32940846</td>\n",
       "      <td>585970</td>\n",
       "      <td>28634</td>\n",
       "      <td>392</td>\n",
       "      <td>1.78</td>\n",
       "      <td>North America</td>\n",
       "    </tr>\n",
       "    <tr>\n",
       "      <th>1</th>\n",
       "      <td>India</td>\n",
       "      <td>25228996</td>\n",
       "      <td>278719</td>\n",
       "      <td>24965463</td>\n",
       "      <td>274390</td>\n",
       "      <td>263533</td>\n",
       "      <td>4329</td>\n",
       "      <td>1.10</td>\n",
       "      <td>Asia</td>\n",
       "    </tr>\n",
       "    <tr>\n",
       "      <th>2</th>\n",
       "      <td>Brazil</td>\n",
       "      <td>15657391</td>\n",
       "      <td>436537</td>\n",
       "      <td>15627243</td>\n",
       "      <td>435751</td>\n",
       "      <td>30148</td>\n",
       "      <td>786</td>\n",
       "      <td>2.79</td>\n",
       "      <td>South America</td>\n",
       "    </tr>\n",
       "    <tr>\n",
       "      <th>3</th>\n",
       "      <td>France</td>\n",
       "      <td>5942370</td>\n",
       "      <td>107973</td>\n",
       "      <td>5939019</td>\n",
       "      <td>107777</td>\n",
       "      <td>3351</td>\n",
       "      <td>196</td>\n",
       "      <td>1.82</td>\n",
       "      <td>Europe</td>\n",
       "    </tr>\n",
       "    <tr>\n",
       "      <th>4</th>\n",
       "      <td>Turkey</td>\n",
       "      <td>5127548</td>\n",
       "      <td>44983</td>\n",
       "      <td>5117374</td>\n",
       "      <td>44760</td>\n",
       "      <td>10174</td>\n",
       "      <td>223</td>\n",
       "      <td>0.88</td>\n",
       "      <td>Asia</td>\n",
       "    </tr>\n",
       "  </tbody>\n",
       "</table>\n",
       "</div>"
      ],
      "text/plain": [
       "  Country/Region     Cases  Deaths    PCases  PDeaths  Cases (+)  Deaths (+)  \\\n",
       "0             US  32969480  586362  32940846   585970      28634         392   \n",
       "1          India  25228996  278719  24965463   274390     263533        4329   \n",
       "2         Brazil  15657391  436537  15627243   435751      30148         786   \n",
       "3         France   5942370  107973   5939019   107777       3351         196   \n",
       "4         Turkey   5127548   44983   5117374    44760      10174         223   \n",
       "\n",
       "   Fatality Rate      Continent  \n",
       "0           1.78  North America  \n",
       "1           1.10           Asia  \n",
       "2           2.79  South America  \n",
       "3           1.82         Europe  \n",
       "4           0.88           Asia  "
      ]
     },
     "execution_count": 13,
     "metadata": {},
     "output_type": "execute_result"
    }
   ],
   "source": [
    "#hide\n",
    "for c in 'Cases, Deaths'.split(', '):\n",
    "    df_table[f'{c} (+)'] = (df_table[c] - df_table[f'P{c}']).clip(0)\n",
    "    #Clip ça veut dire, les chiffres negatif sont interdit\n",
    "df_table['Fatality Rate'] = (100* df_table['Deaths']/ df_table['Cases']).round(2)\n",
    "df_table['Continent'] = df_table['Country/Region'].map(mapping['map.continent'])\n",
    "df_table.head(5)"
   ]
  },
  {
   "cell_type": "code",
   "execution_count": 14,
   "id": "aboriginal-bulgaria",
   "metadata": {
    "execution": {
     "iopub.execute_input": "2021-05-19T00:23:44.694453Z",
     "iopub.status.busy": "2021-05-19T00:23:44.693808Z",
     "iopub.status.idle": "2021-05-19T00:23:44.696791Z",
     "shell.execute_reply": "2021-05-19T00:23:44.697340Z"
    },
    "papermill": {
     "duration": 0.047881,
     "end_time": "2021-05-19T00:23:44.697526",
     "exception": false,
     "start_time": "2021-05-19T00:23:44.649645",
     "status": "completed"
    },
    "tags": []
   },
   "outputs": [],
   "source": [
    "#hide\n",
    "#delete problematic countries from table\n",
    "df_table = df_table[~df_table['Country/Region'].isin(['Cape Verde', 'Cruise Ship', 'Kosovo'])]"
   ]
  },
  {
   "cell_type": "code",
   "execution_count": 15,
   "id": "fantastic-effect",
   "metadata": {
    "execution": {
     "iopub.execute_input": "2021-05-19T00:23:44.779762Z",
     "iopub.status.busy": "2021-05-19T00:23:44.779146Z",
     "iopub.status.idle": "2021-05-19T00:23:44.801197Z",
     "shell.execute_reply": "2021-05-19T00:23:44.801814Z"
    },
    "papermill": {
     "duration": 0.066421,
     "end_time": "2021-05-19T00:23:44.801959",
     "exception": false,
     "start_time": "2021-05-19T00:23:44.735538",
     "status": "completed"
    },
    "tags": []
   },
   "outputs": [
    {
     "data": {
      "text/html": [
       "<div>\n",
       "<style scoped>\n",
       "    .dataframe tbody tr th:only-of-type {\n",
       "        vertical-align: middle;\n",
       "    }\n",
       "\n",
       "    .dataframe tbody tr th {\n",
       "        vertical-align: top;\n",
       "    }\n",
       "\n",
       "    .dataframe thead th {\n",
       "        text-align: right;\n",
       "    }\n",
       "</style>\n",
       "<table border=\"1\" class=\"dataframe\">\n",
       "  <thead>\n",
       "    <tr style=\"text-align: right;\">\n",
       "      <th></th>\n",
       "      <th>Country/Region</th>\n",
       "      <th>Cases</th>\n",
       "      <th>Deaths</th>\n",
       "      <th>PCases</th>\n",
       "      <th>PDeaths</th>\n",
       "      <th>Cases (+)</th>\n",
       "      <th>Deaths (+)</th>\n",
       "      <th>Fatality Rate</th>\n",
       "      <th>Continent</th>\n",
       "    </tr>\n",
       "  </thead>\n",
       "  <tbody>\n",
       "    <tr>\n",
       "      <th>0</th>\n",
       "      <td>US</td>\n",
       "      <td>32969480</td>\n",
       "      <td>586362</td>\n",
       "      <td>32940846</td>\n",
       "      <td>585970</td>\n",
       "      <td>28634</td>\n",
       "      <td>392</td>\n",
       "      <td>1.8</td>\n",
       "      <td>North America</td>\n",
       "    </tr>\n",
       "    <tr>\n",
       "      <th>1</th>\n",
       "      <td>India</td>\n",
       "      <td>25228996</td>\n",
       "      <td>278719</td>\n",
       "      <td>24965463</td>\n",
       "      <td>274390</td>\n",
       "      <td>263533</td>\n",
       "      <td>4329</td>\n",
       "      <td>1.1</td>\n",
       "      <td>Asia</td>\n",
       "    </tr>\n",
       "    <tr>\n",
       "      <th>2</th>\n",
       "      <td>Brazil</td>\n",
       "      <td>15657391</td>\n",
       "      <td>436537</td>\n",
       "      <td>15627243</td>\n",
       "      <td>435751</td>\n",
       "      <td>30148</td>\n",
       "      <td>786</td>\n",
       "      <td>2.8</td>\n",
       "      <td>South America</td>\n",
       "    </tr>\n",
       "    <tr>\n",
       "      <th>3</th>\n",
       "      <td>France</td>\n",
       "      <td>5942370</td>\n",
       "      <td>107973</td>\n",
       "      <td>5939019</td>\n",
       "      <td>107777</td>\n",
       "      <td>3351</td>\n",
       "      <td>196</td>\n",
       "      <td>1.8</td>\n",
       "      <td>Europe</td>\n",
       "    </tr>\n",
       "    <tr>\n",
       "      <th>4</th>\n",
       "      <td>Turkey</td>\n",
       "      <td>5127548</td>\n",
       "      <td>44983</td>\n",
       "      <td>5117374</td>\n",
       "      <td>44760</td>\n",
       "      <td>10174</td>\n",
       "      <td>223</td>\n",
       "      <td>0.9</td>\n",
       "      <td>Asia</td>\n",
       "    </tr>\n",
       "  </tbody>\n",
       "</table>\n",
       "</div>"
      ],
      "text/plain": [
       "  Country/Region     Cases  Deaths    PCases  PDeaths  Cases (+)  Deaths (+)  \\\n",
       "0             US  32969480  586362  32940846   585970      28634         392   \n",
       "1          India  25228996  278719  24965463   274390     263533        4329   \n",
       "2         Brazil  15657391  436537  15627243   435751      30148         786   \n",
       "3         France   5942370  107973   5939019   107777       3351         196   \n",
       "4         Turkey   5127548   44983   5117374    44760      10174         223   \n",
       "\n",
       "   Fatality Rate      Continent  \n",
       "0            1.8  North America  \n",
       "1            1.1           Asia  \n",
       "2            2.8  South America  \n",
       "3            1.8         Europe  \n",
       "4            0.9           Asia  "
      ]
     },
     "execution_count": 15,
     "metadata": {},
     "output_type": "execute_result"
    }
   ],
   "source": [
    "#hide\n",
    "df_table = (pd.DataFrame(dict(Cases=dfc_cases, Deaths=dfc_deaths, PCases=dfp_cases, PDeaths=dfp_deaths))\n",
    "             .sort_values(by=['Cases', 'Deaths'], ascending=[False, False])\n",
    "             .reset_index())\n",
    "df_table.rename(columns={'index': 'Country/Region'}, inplace=True)\n",
    "for c in 'Cases, Deaths'.split(', '):\n",
    "    df_table[f'{c} (+)'] = (df_table[c] - df_table[f'P{c}']).clip(0)  # DATA BUG\n",
    "df_table['Fatality Rate'] = (100 * df_table['Deaths'] / df_table['Cases']).round(1)\n",
    "df_table['Continent'] = df_table['Country/Region'].map(mapping['map.continent'])\n",
    "df_table.head(5)"
   ]
  },
  {
   "cell_type": "code",
   "execution_count": 16,
   "id": "fewer-occasion",
   "metadata": {
    "execution": {
     "iopub.execute_input": "2021-05-19T00:23:44.878301Z",
     "iopub.status.busy": "2021-05-19T00:23:44.877745Z",
     "iopub.status.idle": "2021-05-19T00:23:44.879552Z",
     "shell.execute_reply": "2021-05-19T00:23:44.880036Z"
    },
    "papermill": {
     "duration": 0.041454,
     "end_time": "2021-05-19T00:23:44.880156",
     "exception": false,
     "start_time": "2021-05-19T00:23:44.838702",
     "status": "completed"
    },
    "tags": []
   },
   "outputs": [],
   "source": [
    "#hide\n",
    "#delete problematic countries from table\n",
    "df_table = df_table[~df_table['Country/Region'].isin(['Cape Verde', 'Cruise Ship', 'Kosovo'])]"
   ]
  },
  {
   "cell_type": "code",
   "execution_count": 17,
   "id": "related-center",
   "metadata": {
    "execution": {
     "iopub.execute_input": "2021-05-19T00:23:44.968141Z",
     "iopub.status.busy": "2021-05-19T00:23:44.967586Z",
     "iopub.status.idle": "2021-05-19T00:23:44.970400Z",
     "shell.execute_reply": "2021-05-19T00:23:44.969947Z"
    },
    "papermill": {
     "duration": 0.055144,
     "end_time": "2021-05-19T00:23:44.970512",
     "exception": false,
     "start_time": "2021-05-19T00:23:44.915368",
     "status": "completed"
    },
    "tags": []
   },
   "outputs": [],
   "source": [
    "#hide\n",
    "metrics = [df_table.columns[index] for index in [1,2,5,6]]\n",
    "# s_china = df_table[df_table['Country/Region'].eq('China')][metrics].sum().add_prefix('China ')\n",
    "s_us = df_table[df_table['Country/Region'].eq('US')][metrics].sum().add_prefix('US ')\n",
    "s_eu = df_table[df_table['Continent'].eq('Europe')][metrics].sum().add_prefix('EU ')\n",
    "s_ind = df_table[df_table['Country/Region'].eq('India')][metrics].sum().add_prefix('India ')\n",
    "summary = {'updated': pd.to_datetime(dt_today), 'since': pd.to_datetime(dt_yday)}\n",
    "summary = {'updated': pd.to_datetime(dt_today), 'since': pd.to_datetime(dt_yday)}\n",
    "summary = {**summary, **df_table[metrics].sum(), **s_ind, **s_us, **s_eu}"
   ]
  },
  {
   "cell_type": "code",
   "execution_count": 18,
   "id": "engaging-syndrome",
   "metadata": {
    "execution": {
     "iopub.execute_input": "2021-05-19T00:23:45.048504Z",
     "iopub.status.busy": "2021-05-19T00:23:45.047887Z",
     "iopub.status.idle": "2021-05-19T00:23:45.061204Z",
     "shell.execute_reply": "2021-05-19T00:23:45.061757Z"
    },
    "papermill": {
     "duration": 0.056722,
     "end_time": "2021-05-19T00:23:45.061920",
     "exception": false,
     "start_time": "2021-05-19T00:23:45.005198",
     "status": "completed"
    },
    "tags": []
   },
   "outputs": [],
   "source": [
    "#hide\n",
    "dft_ct_new_cases = dft_cases.groupby(COL_REGION)[dt_cols].sum().diff(axis=1).fillna(0).astype(int)"
   ]
  },
  {
   "cell_type": "code",
   "execution_count": 19,
   "id": "neutral-assignment",
   "metadata": {
    "execution": {
     "iopub.execute_input": "2021-05-19T00:23:45.138041Z",
     "iopub.status.busy": "2021-05-19T00:23:45.137481Z",
     "iopub.status.idle": "2021-05-19T00:23:45.139524Z",
     "shell.execute_reply": "2021-05-19T00:23:45.139961Z"
    },
    "papermill": {
     "duration": 0.042922,
     "end_time": "2021-05-19T00:23:45.140082",
     "exception": false,
     "start_time": "2021-05-19T00:23:45.097160",
     "status": "completed"
    },
    "tags": []
   },
   "outputs": [],
   "source": [
    "#hide\n",
    "everydaycases = dft_ct_new_cases.cumsum(axis=1)"
   ]
  },
  {
   "cell_type": "code",
   "execution_count": 20,
   "id": "parliamentary-calgary",
   "metadata": {
    "execution": {
     "iopub.execute_input": "2021-05-19T00:23:45.217480Z",
     "iopub.status.busy": "2021-05-19T00:23:45.216894Z",
     "iopub.status.idle": "2021-05-19T00:23:45.798040Z",
     "shell.execute_reply": "2021-05-19T00:23:45.797523Z"
    },
    "papermill": {
     "duration": 0.620532,
     "end_time": "2021-05-19T00:23:45.798175",
     "exception": false,
     "start_time": "2021-05-19T00:23:45.177643",
     "status": "completed"
    },
    "tags": []
   },
   "outputs": [],
   "source": [
    "#hide\n",
    "import pandas as pd\n",
    "import matplotlib.pyplot as plt\n",
    "import matplotlib.ticker as ticker\n",
    "import matplotlib.animation as animation\n",
    "from IPython.display import HTML"
   ]
  },
  {
   "cell_type": "code",
   "execution_count": 21,
   "id": "lasting-extraction",
   "metadata": {
    "execution": {
     "iopub.execute_input": "2021-05-19T00:23:45.881810Z",
     "iopub.status.busy": "2021-05-19T00:23:45.881130Z",
     "iopub.status.idle": "2021-05-19T00:23:45.886760Z",
     "shell.execute_reply": "2021-05-19T00:23:45.887311Z"
    },
    "papermill": {
     "duration": 0.052868,
     "end_time": "2021-05-19T00:23:45.887482",
     "exception": false,
     "start_time": "2021-05-19T00:23:45.834614",
     "status": "completed"
    },
    "tags": []
   },
   "outputs": [],
   "source": [
    "#hide\n",
    "t = everydaycases.stack()"
   ]
  },
  {
   "cell_type": "code",
   "execution_count": 22,
   "id": "premier-sleeve",
   "metadata": {
    "execution": {
     "iopub.execute_input": "2021-05-19T00:23:45.968657Z",
     "iopub.status.busy": "2021-05-19T00:23:45.968001Z",
     "iopub.status.idle": "2021-05-19T00:23:45.975606Z",
     "shell.execute_reply": "2021-05-19T00:23:45.976181Z"
    },
    "papermill": {
     "duration": 0.049999,
     "end_time": "2021-05-19T00:23:45.976320",
     "exception": false,
     "start_time": "2021-05-19T00:23:45.926321",
     "status": "completed"
    },
    "tags": []
   },
   "outputs": [],
   "source": [
    "#hide\n",
    "g = t.reset_index(['Country/Region'])"
   ]
  },
  {
   "cell_type": "code",
   "execution_count": 23,
   "id": "distributed-pittsburgh",
   "metadata": {
    "execution": {
     "iopub.execute_input": "2021-05-19T00:23:46.054140Z",
     "iopub.status.busy": "2021-05-19T00:23:46.053478Z",
     "iopub.status.idle": "2021-05-19T00:23:46.064926Z",
     "shell.execute_reply": "2021-05-19T00:23:46.064248Z"
    },
    "papermill": {
     "duration": 0.051174,
     "end_time": "2021-05-19T00:23:46.065058",
     "exception": false,
     "start_time": "2021-05-19T00:23:46.013884",
     "status": "completed"
    },
    "tags": []
   },
   "outputs": [],
   "source": [
    "#hide\n",
    "g.index.name = 'date'"
   ]
  },
  {
   "cell_type": "code",
   "execution_count": 24,
   "id": "naked-donor",
   "metadata": {
    "execution": {
     "iopub.execute_input": "2021-05-19T00:23:46.144627Z",
     "iopub.status.busy": "2021-05-19T00:23:46.143965Z",
     "iopub.status.idle": "2021-05-19T00:23:46.147765Z",
     "shell.execute_reply": "2021-05-19T00:23:46.148303Z"
    },
    "papermill": {
     "duration": 0.043875,
     "end_time": "2021-05-19T00:23:46.148446",
     "exception": false,
     "start_time": "2021-05-19T00:23:46.104571",
     "status": "completed"
    },
    "tags": []
   },
   "outputs": [],
   "source": [
    "# #hide\n",
    "# g = g.reset_index(['date'])"
   ]
  },
  {
   "cell_type": "code",
   "execution_count": 25,
   "id": "incomplete-mustang",
   "metadata": {
    "execution": {
     "iopub.execute_input": "2021-05-19T00:23:46.226296Z",
     "iopub.status.busy": "2021-05-19T00:23:46.225623Z",
     "iopub.status.idle": "2021-05-19T00:23:46.227941Z",
     "shell.execute_reply": "2021-05-19T00:23:46.227449Z"
    },
    "papermill": {
     "duration": 0.043648,
     "end_time": "2021-05-19T00:23:46.228049",
     "exception": false,
     "start_time": "2021-05-19T00:23:46.184401",
     "status": "completed"
    },
    "tags": []
   },
   "outputs": [],
   "source": [
    "#hide\n",
    "# g.head()"
   ]
  },
  {
   "cell_type": "code",
   "execution_count": 26,
   "id": "specific-kruger",
   "metadata": {
    "execution": {
     "iopub.execute_input": "2021-05-19T00:23:46.302687Z",
     "iopub.status.busy": "2021-05-19T00:23:46.302114Z",
     "iopub.status.idle": "2021-05-19T00:23:46.304431Z",
     "shell.execute_reply": "2021-05-19T00:23:46.303825Z"
    },
    "papermill": {
     "duration": 0.040781,
     "end_time": "2021-05-19T00:23:46.304543",
     "exception": false,
     "start_time": "2021-05-19T00:23:46.263762",
     "status": "completed"
    },
    "tags": []
   },
   "outputs": [],
   "source": [
    "#hide\n",
    "# g.columns = ['date','country','cases']"
   ]
  },
  {
   "cell_type": "code",
   "execution_count": 27,
   "id": "tender-conversion",
   "metadata": {
    "execution": {
     "iopub.execute_input": "2021-05-19T00:23:46.380746Z",
     "iopub.status.busy": "2021-05-19T00:23:46.380103Z",
     "iopub.status.idle": "2021-05-19T00:23:46.382081Z",
     "shell.execute_reply": "2021-05-19T00:23:46.382658Z"
    },
    "papermill": {
     "duration": 0.042093,
     "end_time": "2021-05-19T00:23:46.382824",
     "exception": false,
     "start_time": "2021-05-19T00:23:46.340731",
     "status": "completed"
    },
    "tags": []
   },
   "outputs": [],
   "source": [
    "#hide\n",
    "# g['continent'] = g.country"
   ]
  },
  {
   "cell_type": "code",
   "execution_count": 28,
   "id": "substantial-wilderness",
   "metadata": {
    "execution": {
     "iopub.execute_input": "2021-05-19T00:23:46.463118Z",
     "iopub.status.busy": "2021-05-19T00:23:46.462502Z",
     "iopub.status.idle": "2021-05-19T00:23:46.465272Z",
     "shell.execute_reply": "2021-05-19T00:23:46.464692Z"
    },
    "papermill": {
     "duration": 0.045263,
     "end_time": "2021-05-19T00:23:46.465416",
     "exception": false,
     "start_time": "2021-05-19T00:23:46.420153",
     "status": "completed"
    },
    "tags": []
   },
   "outputs": [],
   "source": [
    "#hide\n",
    "# cols = list(g.columns.values)"
   ]
  },
  {
   "cell_type": "code",
   "execution_count": 29,
   "id": "solved-farming",
   "metadata": {
    "execution": {
     "iopub.execute_input": "2021-05-19T00:23:46.548312Z",
     "iopub.status.busy": "2021-05-19T00:23:46.547674Z",
     "iopub.status.idle": "2021-05-19T00:23:46.551096Z",
     "shell.execute_reply": "2021-05-19T00:23:46.551646Z"
    },
    "papermill": {
     "duration": 0.046414,
     "end_time": "2021-05-19T00:23:46.551771",
     "exception": false,
     "start_time": "2021-05-19T00:23:46.505357",
     "status": "completed"
    },
    "tags": []
   },
   "outputs": [],
   "source": [
    "#hide\n",
    "# cols.insert(0, cols.pop())"
   ]
  },
  {
   "cell_type": "code",
   "execution_count": 30,
   "id": "executed-adoption",
   "metadata": {
    "execution": {
     "iopub.execute_input": "2021-05-19T00:23:46.627754Z",
     "iopub.status.busy": "2021-05-19T00:23:46.627170Z",
     "iopub.status.idle": "2021-05-19T00:23:46.629048Z",
     "shell.execute_reply": "2021-05-19T00:23:46.629621Z"
    },
    "papermill": {
     "duration": 0.041008,
     "end_time": "2021-05-19T00:23:46.629746",
     "exception": false,
     "start_time": "2021-05-19T00:23:46.588738",
     "status": "completed"
    },
    "tags": []
   },
   "outputs": [],
   "source": [
    "#hide\n",
    "# g = g[cols]"
   ]
  },
  {
   "cell_type": "code",
   "execution_count": 31,
   "id": "subject-dublin",
   "metadata": {
    "execution": {
     "iopub.execute_input": "2021-05-19T00:23:46.708958Z",
     "iopub.status.busy": "2021-05-19T00:23:46.708268Z",
     "iopub.status.idle": "2021-05-19T00:23:46.710845Z",
     "shell.execute_reply": "2021-05-19T00:23:46.710280Z"
    },
    "papermill": {
     "duration": 0.044216,
     "end_time": "2021-05-19T00:23:46.710981",
     "exception": false,
     "start_time": "2021-05-19T00:23:46.666765",
     "status": "completed"
    },
    "tags": []
   },
   "outputs": [],
   "source": [
    "#hide\n",
    "# g['continent'] = g['continent'].map(mapping['map.continent'])"
   ]
  },
  {
   "cell_type": "code",
   "execution_count": 32,
   "id": "freelance-scout",
   "metadata": {
    "execution": {
     "iopub.execute_input": "2021-05-19T00:23:46.792626Z",
     "iopub.status.busy": "2021-05-19T00:23:46.791884Z",
     "iopub.status.idle": "2021-05-19T00:23:46.794359Z",
     "shell.execute_reply": "2021-05-19T00:23:46.793797Z"
    },
    "papermill": {
     "duration": 0.045082,
     "end_time": "2021-05-19T00:23:46.794506",
     "exception": false,
     "start_time": "2021-05-19T00:23:46.749424",
     "status": "completed"
    },
    "tags": []
   },
   "outputs": [],
   "source": [
    "#hide\n",
    "# g.head()"
   ]
  },
  {
   "cell_type": "code",
   "execution_count": 33,
   "id": "limited-engine",
   "metadata": {
    "execution": {
     "iopub.execute_input": "2021-05-19T00:23:46.871788Z",
     "iopub.status.busy": "2021-05-19T00:23:46.871234Z",
     "iopub.status.idle": "2021-05-19T00:23:46.873710Z",
     "shell.execute_reply": "2021-05-19T00:23:46.873131Z"
    },
    "papermill": {
     "duration": 0.042522,
     "end_time": "2021-05-19T00:23:46.873856",
     "exception": false,
     "start_time": "2021-05-19T00:23:46.831334",
     "status": "completed"
    },
    "tags": []
   },
   "outputs": [],
   "source": [
    "# hide\n",
    "# g['date'] = g['date'].astype('datetime64[ns]')"
   ]
  },
  {
   "cell_type": "code",
   "execution_count": 34,
   "id": "sophisticated-supervisor",
   "metadata": {
    "execution": {
     "iopub.execute_input": "2021-05-19T00:23:46.952423Z",
     "iopub.status.busy": "2021-05-19T00:23:46.951871Z",
     "iopub.status.idle": "2021-05-19T00:23:46.954343Z",
     "shell.execute_reply": "2021-05-19T00:23:46.953827Z"
    },
    "papermill": {
     "duration": 0.042991,
     "end_time": "2021-05-19T00:23:46.954449",
     "exception": false,
     "start_time": "2021-05-19T00:23:46.911458",
     "status": "completed"
    },
    "tags": []
   },
   "outputs": [],
   "source": [
    "#hide\n",
    "# g['date'] = g.date.dt.dayofyear"
   ]
  },
  {
   "cell_type": "code",
   "execution_count": 35,
   "id": "inside-dubai",
   "metadata": {
    "execution": {
     "iopub.execute_input": "2021-05-19T00:23:47.027109Z",
     "iopub.status.busy": "2021-05-19T00:23:47.026492Z",
     "iopub.status.idle": "2021-05-19T00:23:47.028871Z",
     "shell.execute_reply": "2021-05-19T00:23:47.028324Z"
    },
    "papermill": {
     "duration": 0.039769,
     "end_time": "2021-05-19T00:23:47.029003",
     "exception": false,
     "start_time": "2021-05-19T00:23:46.989234",
     "status": "completed"
    },
    "tags": []
   },
   "outputs": [],
   "source": [
    "#hide\n",
    "# g = g.rename(columns= {'continent':'group','country':'name','cases':'value'})"
   ]
  },
  {
   "cell_type": "code",
   "execution_count": 36,
   "id": "fleet-motorcycle",
   "metadata": {
    "execution": {
     "iopub.execute_input": "2021-05-19T00:23:47.109018Z",
     "iopub.status.busy": "2021-05-19T00:23:47.108322Z",
     "iopub.status.idle": "2021-05-19T00:23:47.110449Z",
     "shell.execute_reply": "2021-05-19T00:23:47.111032Z"
    },
    "papermill": {
     "duration": 0.044602,
     "end_time": "2021-05-19T00:23:47.111175",
     "exception": false,
     "start_time": "2021-05-19T00:23:47.066573",
     "status": "completed"
    },
    "tags": []
   },
   "outputs": [],
   "source": [
    "#hide\n",
    "# cols = ['name','group','day','value']"
   ]
  },
  {
   "cell_type": "code",
   "execution_count": 37,
   "id": "continued-sleeping",
   "metadata": {
    "execution": {
     "iopub.execute_input": "2021-05-19T00:23:47.194883Z",
     "iopub.status.busy": "2021-05-19T00:23:47.194235Z",
     "iopub.status.idle": "2021-05-19T00:23:47.196870Z",
     "shell.execute_reply": "2021-05-19T00:23:47.197374Z"
    },
    "papermill": {
     "duration": 0.048846,
     "end_time": "2021-05-19T00:23:47.197555",
     "exception": false,
     "start_time": "2021-05-19T00:23:47.148709",
     "status": "completed"
    },
    "tags": []
   },
   "outputs": [],
   "source": [
    "#hide\n",
    "# g.rename(columns= {'date':'day'},inplace = True)"
   ]
  },
  {
   "cell_type": "code",
   "execution_count": 38,
   "id": "major-fight",
   "metadata": {
    "execution": {
     "iopub.execute_input": "2021-05-19T00:23:47.279079Z",
     "iopub.status.busy": "2021-05-19T00:23:47.278443Z",
     "iopub.status.idle": "2021-05-19T00:23:47.281010Z",
     "shell.execute_reply": "2021-05-19T00:23:47.280494Z"
    },
    "papermill": {
     "duration": 0.045497,
     "end_time": "2021-05-19T00:23:47.281146",
     "exception": false,
     "start_time": "2021-05-19T00:23:47.235649",
     "status": "completed"
    },
    "tags": []
   },
   "outputs": [],
   "source": [
    "#hide\n",
    "# g = g[cols]"
   ]
  },
  {
   "cell_type": "code",
   "execution_count": 39,
   "id": "structured-mobile",
   "metadata": {
    "execution": {
     "iopub.execute_input": "2021-05-19T00:23:47.364042Z",
     "iopub.status.busy": "2021-05-19T00:23:47.363418Z",
     "iopub.status.idle": "2021-05-19T00:23:47.365822Z",
     "shell.execute_reply": "2021-05-19T00:23:47.365172Z"
    },
    "papermill": {
     "duration": 0.045772,
     "end_time": "2021-05-19T00:23:47.365949",
     "exception": false,
     "start_time": "2021-05-19T00:23:47.320177",
     "status": "completed"
    },
    "tags": []
   },
   "outputs": [],
   "source": [
    "# #hide\n",
    "# g = g[g.group.notna()]"
   ]
  },
  {
   "cell_type": "code",
   "execution_count": 40,
   "id": "determined-closing",
   "metadata": {
    "execution": {
     "iopub.execute_input": "2021-05-19T00:23:47.448153Z",
     "iopub.status.busy": "2021-05-19T00:23:47.447486Z",
     "iopub.status.idle": "2021-05-19T00:23:47.449673Z",
     "shell.execute_reply": "2021-05-19T00:23:47.450175Z"
    },
    "papermill": {
     "duration": 0.045304,
     "end_time": "2021-05-19T00:23:47.450325",
     "exception": false,
     "start_time": "2021-05-19T00:23:47.405021",
     "status": "completed"
    },
    "tags": []
   },
   "outputs": [],
   "source": [
    "# #hide\n",
    "# colors = dict(zip(\n",
    "#     [\"Oceania\", \"Europe\", \"Asia\", \"South America\", \"Middle East\", \"North America\", \"Africa\"],\n",
    "#     [\"#adb0ff\", \"#ffb3ff\", \"#90d595\", \"#e48381\", \"#aafbff\", \"#f7bb5f\", \"#eafb50\"]\n",
    "# ))\n",
    "# group_lk = g.set_index('name')['group'].to_dict()"
   ]
  },
  {
   "cell_type": "code",
   "execution_count": null,
   "id": "gross-drinking",
   "metadata": {
    "papermill": {
     "duration": 0.038691,
     "end_time": "2021-05-19T00:23:47.526430",
     "exception": false,
     "start_time": "2021-05-19T00:23:47.487739",
     "status": "completed"
    },
    "tags": []
   },
   "outputs": [],
   "source": []
  },
  {
   "cell_type": "code",
   "execution_count": 41,
   "id": "subject-macintosh",
   "metadata": {
    "execution": {
     "iopub.execute_input": "2021-05-19T00:23:47.611324Z",
     "iopub.status.busy": "2021-05-19T00:23:47.610664Z",
     "iopub.status.idle": "2021-05-19T00:23:47.612533Z",
     "shell.execute_reply": "2021-05-19T00:23:47.613069Z"
    },
    "papermill": {
     "duration": 0.047104,
     "end_time": "2021-05-19T00:23:47.613205",
     "exception": false,
     "start_time": "2021-05-19T00:23:47.566101",
     "status": "completed"
    },
    "tags": []
   },
   "outputs": [],
   "source": [
    "# #hide\n",
    "# fig, ax = plt.subplots(figsize=(15, 8))\n",
    "\n",
    "# def draw_barchart(current_day):\n",
    "#     dff = g[g['day'].eq(current_day)].sort_values(by='value', ascending=True).tail(10)\n",
    "#     ax.clear()\n",
    "#     ax.barh(dff['name'], dff['value'], color=[colors[group_lk[x]] for x in dff['name']])\n",
    "#     dx = dff['value'].max() / 200\n",
    "    \n",
    "#     for i, (value, name) in enumerate(zip(dff['value'], dff['name'])):\n",
    "#         ax.text(value-dx, i,     name,           size=14, weight=600, ha='right', va='bottom')\n",
    "#         ax.text(value-dx, i-.25, group_lk[name], size=10, color='#444444', ha='right', va='baseline')\n",
    "#         ax.text(value+dx, i,     f'{value:,.0f}',  size=14, ha='left',  va='center')\n",
    "#     ax.text(1, 0.4, current_day, transform=ax.transAxes, color='#777777', size=46, ha='right', weight=800)\n",
    "#     ax.text(0, 1.06, 'Population (thousands)', transform=ax.transAxes, size=12, color='#777777')\n",
    "#     ax.xaxis.set_major_formatter(ticker.StrMethodFormatter('{x:,.0f}'))\n",
    "#     ax.xaxis.set_ticks_position('top')\n",
    "#     ax.tick_params(axis='x', colors='#777777', labelsize=12)\n",
    "#     ax.set_yticks([])\n",
    "#     ax.margins(0, 0.01)\n",
    "#     ax.grid(which='major', axis='x', linestyle='-')\n",
    "#     ax.set_axisbelow(True)\n",
    "    \n",
    "#     ax.text(0, 1.15, 'Coronavirus',\n",
    "#             transform=ax.transAxes, size=24, weight=600, ha='left', va='top')\n",
    "# #     ax.text(1, 0, 'by @pratapvardhan; credit @jburnmurdoch', transform=ax.transAxes, color='#777777', ha='right',\n",
    "# #             bbox=dict(facecolor='white', alpha=0.8, edgecolor='white'))\n",
    "#     plt.box(False)"
   ]
  },
  {
   "cell_type": "code",
   "execution_count": 42,
   "id": "sexual-wages",
   "metadata": {
    "execution": {
     "iopub.execute_input": "2021-05-19T00:23:47.695289Z",
     "iopub.status.busy": "2021-05-19T00:23:47.694660Z",
     "iopub.status.idle": "2021-05-19T00:23:47.696546Z",
     "shell.execute_reply": "2021-05-19T00:23:47.697094Z"
    },
    "papermill": {
     "duration": 0.045549,
     "end_time": "2021-05-19T00:23:47.697234",
     "exception": false,
     "start_time": "2021-05-19T00:23:47.651685",
     "status": "completed"
    },
    "tags": []
   },
   "outputs": [],
   "source": [
    "# #hide_input\n",
    "# fig, ax = plt.subplots(figsize=(15, 8))\n",
    "# animator = animation.FuncAnimation(fig, draw_barchart, frames=range(g.day.values.min(), g.day.values.max()))\n",
    "# HTML(animator.to_jshtml())\n",
    "# # or use animator.to_html5_video() or animator.save() "
   ]
  },
  {
   "cell_type": "code",
   "execution_count": null,
   "id": "australian-container",
   "metadata": {
    "papermill": {
     "duration": 0.037843,
     "end_time": "2021-05-19T00:23:47.772634",
     "exception": false,
     "start_time": "2021-05-19T00:23:47.734791",
     "status": "completed"
    },
    "tags": []
   },
   "outputs": [],
   "source": []
  },
  {
   "cell_type": "code",
   "execution_count": null,
   "id": "mediterranean-pontiac",
   "metadata": {
    "papermill": {
     "duration": 0.038808,
     "end_time": "2021-05-19T00:23:47.850271",
     "exception": false,
     "start_time": "2021-05-19T00:23:47.811463",
     "status": "completed"
    },
    "tags": []
   },
   "outputs": [],
   "source": []
  },
  {
   "cell_type": "code",
   "execution_count": null,
   "id": "aging-legislature",
   "metadata": {
    "papermill": {
     "duration": 0.037928,
     "end_time": "2021-05-19T00:23:47.926959",
     "exception": false,
     "start_time": "2021-05-19T00:23:47.889031",
     "status": "completed"
    },
    "tags": []
   },
   "outputs": [],
   "source": []
  }
 ],
 "metadata": {
  "kernelspec": {
   "display_name": "Python 3",
   "language": "python",
   "name": "python3"
  },
  "language_info": {
   "codemirror_mode": {
    "name": "ipython",
    "version": 3
   },
   "file_extension": ".py",
   "mimetype": "text/x-python",
   "name": "python",
   "nbconvert_exporter": "python",
   "pygments_lexer": "ipython3",
   "version": "3.6.13"
  },
  "papermill": {
   "duration": 6.561496,
   "end_time": "2021-05-19T00:23:48.277536",
   "environment_variables": {},
   "exception": null,
   "input_path": "2020-03-21-covid19exp.ipynb",
   "output_path": "2020-03-21-covid19exp.ipynb",
   "parameters": {},
   "start_time": "2021-05-19T00:23:41.716040",
   "version": "2.0.0"
  }
 },
 "nbformat": 4,
 "nbformat_minor": 5
}