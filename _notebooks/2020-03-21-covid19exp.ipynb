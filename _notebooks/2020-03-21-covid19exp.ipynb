{
 "cells": [
  {
   "cell_type": "markdown",
   "id": "muslim-click",
   "metadata": {
    "papermill": {
     "duration": 0.041829,
     "end_time": "2022-05-16T12:19:18.421541",
     "exception": false,
     "start_time": "2022-05-16T12:19:18.379712",
     "status": "completed"
    },
    "tags": []
   },
   "source": [
    "# COVID-19 Case Race\n",
    "> A race chart to see rising cases around the world\n",
    "\n",
    "- author: Hargun Oberoi\n",
    "- image: images/covid-overview.png\n",
    "- hide: false\n",
    "- badges: false"
   ]
  },
  {
   "cell_type": "code",
   "execution_count": 1,
   "id": "proof-material",
   "metadata": {
    "execution": {
     "iopub.execute_input": "2022-05-16T12:19:18.512478Z",
     "iopub.status.busy": "2022-05-16T12:19:18.511850Z",
     "iopub.status.idle": "2022-05-16T12:19:18.904116Z",
     "shell.execute_reply": "2022-05-16T12:19:18.903555Z"
    },
    "papermill": {
     "duration": 0.441105,
     "end_time": "2022-05-16T12:19:18.904276",
     "exception": false,
     "start_time": "2022-05-16T12:19:18.463171",
     "status": "completed"
    },
    "tags": []
   },
   "outputs": [],
   "source": [
    "#hide\n",
    "import numpy as np\n",
    "import pandas as pd\n",
    "from jinja2 import Template\n",
    "from IPython.display import HTML"
   ]
  },
  {
   "cell_type": "code",
   "execution_count": 2,
   "id": "developed-terminology",
   "metadata": {
    "execution": {
     "iopub.execute_input": "2022-05-16T12:19:18.982385Z",
     "iopub.status.busy": "2022-05-16T12:19:18.981768Z",
     "iopub.status.idle": "2022-05-16T12:19:18.985014Z",
     "shell.execute_reply": "2022-05-16T12:19:18.984172Z"
    },
    "papermill": {
     "duration": 0.044603,
     "end_time": "2022-05-16T12:19:18.985195",
     "exception": false,
     "start_time": "2022-05-16T12:19:18.940592",
     "status": "completed"
    },
    "tags": []
   },
   "outputs": [],
   "source": [
    "#hide\n",
    "\n",
    "# FETCH\n",
    "base_url = 'https://raw.githubusercontent.com/pratapvardhan/notebooks/master/covid19/'\n",
    "paths = {\n",
    "    'mapping': base_url + 'mapping_countries.csv',\n",
    "    'overview': base_url + 'overview.tpl'\n",
    "}"
   ]
  },
  {
   "cell_type": "code",
   "execution_count": 3,
   "id": "dynamic-saver",
   "metadata": {
    "execution": {
     "iopub.execute_input": "2022-05-16T12:19:19.074014Z",
     "iopub.status.busy": "2022-05-16T12:19:19.073377Z",
     "iopub.status.idle": "2022-05-16T12:19:19.077670Z",
     "shell.execute_reply": "2022-05-16T12:19:19.077131Z"
    },
    "papermill": {
     "duration": 0.056595,
     "end_time": "2022-05-16T12:19:19.077815",
     "exception": false,
     "start_time": "2022-05-16T12:19:19.021220",
     "status": "completed"
    },
    "tags": []
   },
   "outputs": [
    {
     "data": {
      "text/plain": [
       "'https://raw.githubusercontent.com/pratapvardhan/notebooks/master/covid19/mapping_countries.csv'"
      ]
     },
     "execution_count": 3,
     "metadata": {},
     "output_type": "execute_result"
    }
   ],
   "source": [
    "#hide\n",
    "paths['mapping']"
   ]
  },
  {
   "cell_type": "code",
   "execution_count": 4,
   "id": "urban-software",
   "metadata": {
    "execution": {
     "iopub.execute_input": "2022-05-16T12:19:19.161227Z",
     "iopub.status.busy": "2022-05-16T12:19:19.160376Z",
     "iopub.status.idle": "2022-05-16T12:19:19.164638Z",
     "shell.execute_reply": "2022-05-16T12:19:19.165121Z"
    },
    "papermill": {
     "duration": 0.047965,
     "end_time": "2022-05-16T12:19:19.165265",
     "exception": false,
     "start_time": "2022-05-16T12:19:19.117300",
     "status": "completed"
    },
    "tags": []
   },
   "outputs": [],
   "source": [
    "#hide\n",
    "def get_mappings(url):\n",
    "    df = pd.read_csv(url)\n",
    "    return {\n",
    "        'df': df,\n",
    "        'replace.country': dict(df.dropna(subset=['Name']).set_index('Country')['Name']),\n",
    "        'map.continent': dict(df.set_index('Name')['Continent'])\n",
    "    }"
   ]
  },
  {
   "cell_type": "code",
   "execution_count": 5,
   "id": "intimate-machinery",
   "metadata": {
    "execution": {
     "iopub.execute_input": "2022-05-16T12:19:19.244619Z",
     "iopub.status.busy": "2022-05-16T12:19:19.243965Z",
     "iopub.status.idle": "2022-05-16T12:19:19.280394Z",
     "shell.execute_reply": "2022-05-16T12:19:19.275516Z"
    },
    "papermill": {
     "duration": 0.079156,
     "end_time": "2022-05-16T12:19:19.280550",
     "exception": false,
     "start_time": "2022-05-16T12:19:19.201394",
     "status": "completed"
    },
    "tags": []
   },
   "outputs": [],
   "source": [
    "#hide\n",
    "mapping = get_mappings(paths['mapping'])"
   ]
  },
  {
   "cell_type": "code",
   "execution_count": 6,
   "id": "certified-tactics",
   "metadata": {
    "execution": {
     "iopub.execute_input": "2022-05-16T12:19:19.369260Z",
     "iopub.status.busy": "2022-05-16T12:19:19.368654Z",
     "iopub.status.idle": "2022-05-16T12:19:19.371142Z",
     "shell.execute_reply": "2022-05-16T12:19:19.370358Z"
    },
    "papermill": {
     "duration": 0.04524,
     "end_time": "2022-05-16T12:19:19.371257",
     "exception": false,
     "start_time": "2022-05-16T12:19:19.326017",
     "status": "completed"
    },
    "tags": []
   },
   "outputs": [],
   "source": [
    "#hide\n",
    "def get_template(path):\n",
    "    from urllib.parse import urlparse\n",
    "    if bool(urlparse(path).netloc):\n",
    "        from urllib.request import urlopen\n",
    "        return urlopen(path).read().decode('utf8')\n",
    "    return open(path).read()"
   ]
  },
  {
   "cell_type": "code",
   "execution_count": 7,
   "id": "realistic-blast",
   "metadata": {
    "execution": {
     "iopub.execute_input": "2022-05-16T12:19:19.454181Z",
     "iopub.status.busy": "2022-05-16T12:19:19.453462Z",
     "iopub.status.idle": "2022-05-16T12:19:19.457379Z",
     "shell.execute_reply": "2022-05-16T12:19:19.457855Z"
    },
    "papermill": {
     "duration": 0.046969,
     "end_time": "2022-05-16T12:19:19.458008",
     "exception": false,
     "start_time": "2022-05-16T12:19:19.411039",
     "status": "completed"
    },
    "tags": []
   },
   "outputs": [],
   "source": [
    "#hide\n",
    "def get_frame(name):\n",
    "    url = (\n",
    "        'https://raw.githubusercontent.com/CSSEGISandData/COVID-19/master/csse_covid_19_data/'\n",
    "        f'csse_covid_19_time_series/time_series_covid19_{name}_global.csv')\n",
    "    df = pd.read_csv(url)\n",
    "    # rename countries\n",
    "    df['Country/Region'] = df['Country/Region'].replace(mapping['replace.country'])\n",
    "    return df"
   ]
  },
  {
   "cell_type": "code",
   "execution_count": 8,
   "id": "affiliated-characterization",
   "metadata": {
    "execution": {
     "iopub.execute_input": "2022-05-16T12:19:19.539286Z",
     "iopub.status.busy": "2022-05-16T12:19:19.538699Z",
     "iopub.status.idle": "2022-05-16T12:19:19.540385Z",
     "shell.execute_reply": "2022-05-16T12:19:19.540921Z"
    },
    "papermill": {
     "duration": 0.045024,
     "end_time": "2022-05-16T12:19:19.541085",
     "exception": false,
     "start_time": "2022-05-16T12:19:19.496061",
     "status": "completed"
    },
    "tags": []
   },
   "outputs": [],
   "source": [
    "#hide\n",
    "def get_dates(df):\n",
    "    dt_cols = df.columns[~df.columns.isin(['Province/State', 'Country/Region', 'Lat', 'Long'])]\n",
    "    LAST_DATE_I = -1\n",
    "    # sometimes last column may be empty, then go backwards\n",
    "    for i in range(-1, -len(dt_cols), -1):\n",
    "        if not df[dt_cols[i]].fillna(0).eq(0).all():\n",
    "            LAST_DATE_I = i\n",
    "            break\n",
    "    return LAST_DATE_I, dt_cols"
   ]
  },
  {
   "cell_type": "code",
   "execution_count": 9,
   "id": "recent-optimization",
   "metadata": {
    "execution": {
     "iopub.execute_input": "2022-05-16T12:19:19.621548Z",
     "iopub.status.busy": "2022-05-16T12:19:19.620853Z",
     "iopub.status.idle": "2022-05-16T12:19:20.063596Z",
     "shell.execute_reply": "2022-05-16T12:19:20.062272Z"
    },
    "papermill": {
     "duration": 0.487258,
     "end_time": "2022-05-16T12:19:20.063853",
     "exception": false,
     "start_time": "2022-05-16T12:19:19.576595",
     "status": "completed"
    },
    "tags": []
   },
   "outputs": [],
   "source": [
    "#hide\n",
    "COL_REGION = 'Country/Region'\n",
    "# Confirmed, Recovered, Deaths\n",
    "df = get_frame('confirmed')\n",
    "# dft_: timeseries, dfc_: today country agg\n",
    "dft_cases = df\n",
    "dft_deaths = get_frame('deaths')\n",
    "dft_recovered = get_frame('recovered')\n",
    "LAST_DATE_I, dt_cols = get_dates(df)"
   ]
  },
  {
   "cell_type": "code",
   "execution_count": 10,
   "id": "absolute-copper",
   "metadata": {
    "execution": {
     "iopub.execute_input": "2022-05-16T12:19:20.145015Z",
     "iopub.status.busy": "2022-05-16T12:19:20.144339Z",
     "iopub.status.idle": "2022-05-16T12:19:20.146241Z",
     "shell.execute_reply": "2022-05-16T12:19:20.146810Z"
    },
    "papermill": {
     "duration": 0.045582,
     "end_time": "2022-05-16T12:19:20.146949",
     "exception": false,
     "start_time": "2022-05-16T12:19:20.101367",
     "status": "completed"
    },
    "tags": []
   },
   "outputs": [],
   "source": [
    "#hide\n",
    "LAST_DATE_I, dt_cols = get_dates(df)\n",
    "dt_today =dt_cols[LAST_DATE_I]\n",
    "# dt_5day = dt_cols[LAST_DATE_I - 5]\n",
    "dt_yday = dt_cols[LAST_DATE_I - 1]"
   ]
  },
  {
   "cell_type": "code",
   "execution_count": 11,
   "id": "restricted-sheriff",
   "metadata": {
    "execution": {
     "iopub.execute_input": "2022-05-16T12:19:20.224389Z",
     "iopub.status.busy": "2022-05-16T12:19:20.223779Z",
     "iopub.status.idle": "2022-05-16T12:19:20.235279Z",
     "shell.execute_reply": "2022-05-16T12:19:20.234750Z"
    },
    "papermill": {
     "duration": 0.053741,
     "end_time": "2022-05-16T12:19:20.235389",
     "exception": false,
     "start_time": "2022-05-16T12:19:20.181648",
     "status": "completed"
    },
    "tags": []
   },
   "outputs": [],
   "source": [
    "#hide\n",
    "dfc_cases = dft_cases.groupby(COL_REGION)[dt_today].sum()\n",
    "dfc_deaths = dft_deaths.groupby(COL_REGION)[dt_today].sum()\n",
    "# dfp_cases = dft_cases.groupby(COL_REGION)[dt_5day].sum()\n",
    "# dfp_deaths = dft_deaths.groupby(COL_REGION)[dt_5day].sum()\n",
    "dfp_cases = dft_cases.groupby(COL_REGION)[dt_yday].sum()\n",
    "dfp_deaths = dft_deaths.groupby(COL_REGION)[dt_yday].sum()"
   ]
  },
  {
   "cell_type": "code",
   "execution_count": 12,
   "id": "deluxe-hepatitis",
   "metadata": {
    "execution": {
     "iopub.execute_input": "2022-05-16T12:19:20.319804Z",
     "iopub.status.busy": "2022-05-16T12:19:20.317693Z",
     "iopub.status.idle": "2022-05-16T12:19:20.324015Z",
     "shell.execute_reply": "2022-05-16T12:19:20.323300Z"
    },
    "papermill": {
     "duration": 0.052338,
     "end_time": "2022-05-16T12:19:20.324179",
     "exception": false,
     "start_time": "2022-05-16T12:19:20.271841",
     "status": "completed"
    },
    "tags": []
   },
   "outputs": [],
   "source": [
    "#hide\n",
    "df_table = (pd.DataFrame(dict(Cases = dfc_cases, Deaths = dfc_deaths, PCases = dfp_cases, PDeaths = dfp_deaths))\n",
    "            .sort_values(by = ['Cases','Deaths'], ascending = [False, False])\n",
    "            .reset_index())"
   ]
  },
  {
   "cell_type": "code",
   "execution_count": 13,
   "id": "educational-chancellor",
   "metadata": {
    "execution": {
     "iopub.execute_input": "2022-05-16T12:19:20.422564Z",
     "iopub.status.busy": "2022-05-16T12:19:20.421613Z",
     "iopub.status.idle": "2022-05-16T12:19:20.431274Z",
     "shell.execute_reply": "2022-05-16T12:19:20.430445Z"
    },
    "papermill": {
     "duration": 0.069361,
     "end_time": "2022-05-16T12:19:20.431395",
     "exception": false,
     "start_time": "2022-05-16T12:19:20.362034",
     "status": "completed"
    },
    "tags": []
   },
   "outputs": [
    {
     "data": {
      "text/html": [
       "<div>\n",
       "<style scoped>\n",
       "    .dataframe tbody tr th:only-of-type {\n",
       "        vertical-align: middle;\n",
       "    }\n",
       "\n",
       "    .dataframe tbody tr th {\n",
       "        vertical-align: top;\n",
       "    }\n",
       "\n",
       "    .dataframe thead th {\n",
       "        text-align: right;\n",
       "    }\n",
       "</style>\n",
       "<table border=\"1\" class=\"dataframe\">\n",
       "  <thead>\n",
       "    <tr style=\"text-align: right;\">\n",
       "      <th></th>\n",
       "      <th>Country/Region</th>\n",
       "      <th>Cases</th>\n",
       "      <th>Deaths</th>\n",
       "      <th>PCases</th>\n",
       "      <th>PDeaths</th>\n",
       "      <th>Cases (+)</th>\n",
       "      <th>Deaths (+)</th>\n",
       "      <th>Fatality Rate</th>\n",
       "      <th>Continent</th>\n",
       "    </tr>\n",
       "  </thead>\n",
       "  <tbody>\n",
       "    <tr>\n",
       "      <th>0</th>\n",
       "      <td>US</td>\n",
       "      <td>82468606</td>\n",
       "      <td>999602</td>\n",
       "      <td>82437716</td>\n",
       "      <td>999570</td>\n",
       "      <td>30890</td>\n",
       "      <td>32</td>\n",
       "      <td>1.21</td>\n",
       "      <td>North America</td>\n",
       "    </tr>\n",
       "    <tr>\n",
       "      <th>1</th>\n",
       "      <td>India</td>\n",
       "      <td>43123801</td>\n",
       "      <td>524241</td>\n",
       "      <td>43121599</td>\n",
       "      <td>524214</td>\n",
       "      <td>2202</td>\n",
       "      <td>27</td>\n",
       "      <td>1.22</td>\n",
       "      <td>Asia</td>\n",
       "    </tr>\n",
       "    <tr>\n",
       "      <th>2</th>\n",
       "      <td>Brazil</td>\n",
       "      <td>30688390</td>\n",
       "      <td>665150</td>\n",
       "      <td>30682094</td>\n",
       "      <td>665104</td>\n",
       "      <td>6296</td>\n",
       "      <td>46</td>\n",
       "      <td>2.17</td>\n",
       "      <td>South America</td>\n",
       "    </tr>\n",
       "    <tr>\n",
       "      <th>3</th>\n",
       "      <td>France</td>\n",
       "      <td>29375134</td>\n",
       "      <td>148313</td>\n",
       "      <td>29352290</td>\n",
       "      <td>148306</td>\n",
       "      <td>22844</td>\n",
       "      <td>7</td>\n",
       "      <td>0.50</td>\n",
       "      <td>Europe</td>\n",
       "    </tr>\n",
       "    <tr>\n",
       "      <th>4</th>\n",
       "      <td>Germany</td>\n",
       "      <td>25732153</td>\n",
       "      <td>137499</td>\n",
       "      <td>25729848</td>\n",
       "      <td>137499</td>\n",
       "      <td>2305</td>\n",
       "      <td>0</td>\n",
       "      <td>0.53</td>\n",
       "      <td>Europe</td>\n",
       "    </tr>\n",
       "  </tbody>\n",
       "</table>\n",
       "</div>"
      ],
      "text/plain": [
       "  Country/Region     Cases  Deaths    PCases  PDeaths  Cases (+)  Deaths (+)  \\\n",
       "0             US  82468606  999602  82437716   999570      30890          32   \n",
       "1          India  43123801  524241  43121599   524214       2202          27   \n",
       "2         Brazil  30688390  665150  30682094   665104       6296          46   \n",
       "3         France  29375134  148313  29352290   148306      22844           7   \n",
       "4        Germany  25732153  137499  25729848   137499       2305           0   \n",
       "\n",
       "   Fatality Rate      Continent  \n",
       "0           1.21  North America  \n",
       "1           1.22           Asia  \n",
       "2           2.17  South America  \n",
       "3           0.50         Europe  \n",
       "4           0.53         Europe  "
      ]
     },
     "execution_count": 13,
     "metadata": {},
     "output_type": "execute_result"
    }
   ],
   "source": [
    "#hide\n",
    "for c in 'Cases, Deaths'.split(', '):\n",
    "    df_table[f'{c} (+)'] = (df_table[c] - df_table[f'P{c}']).clip(0)\n",
    "    #Clip ça veut dire, les chiffres negatif sont interdit\n",
    "df_table['Fatality Rate'] = (100* df_table['Deaths']/ df_table['Cases']).round(2)\n",
    "df_table['Continent'] = df_table['Country/Region'].map(mapping['map.continent'])\n",
    "df_table.head(5)"
   ]
  },
  {
   "cell_type": "code",
   "execution_count": 14,
   "id": "aboriginal-bulgaria",
   "metadata": {
    "execution": {
     "iopub.execute_input": "2022-05-16T12:19:20.512287Z",
     "iopub.status.busy": "2022-05-16T12:19:20.511671Z",
     "iopub.status.idle": "2022-05-16T12:19:20.514235Z",
     "shell.execute_reply": "2022-05-16T12:19:20.513728Z"
    },
    "papermill": {
     "duration": 0.043402,
     "end_time": "2022-05-16T12:19:20.514417",
     "exception": false,
     "start_time": "2022-05-16T12:19:20.471015",
     "status": "completed"
    },
    "tags": []
   },
   "outputs": [],
   "source": [
    "#hide\n",
    "#delete problematic countries from table\n",
    "df_table = df_table[~df_table['Country/Region'].isin(['Cape Verde', 'Cruise Ship', 'Kosovo'])]"
   ]
  },
  {
   "cell_type": "code",
   "execution_count": 15,
   "id": "fantastic-effect",
   "metadata": {
    "execution": {
     "iopub.execute_input": "2022-05-16T12:19:20.594371Z",
     "iopub.status.busy": "2022-05-16T12:19:20.592845Z",
     "iopub.status.idle": "2022-05-16T12:19:20.617680Z",
     "shell.execute_reply": "2022-05-16T12:19:20.616976Z"
    },
    "papermill": {
     "duration": 0.06668,
     "end_time": "2022-05-16T12:19:20.617800",
     "exception": false,
     "start_time": "2022-05-16T12:19:20.551120",
     "status": "completed"
    },
    "tags": []
   },
   "outputs": [
    {
     "data": {
      "text/html": [
       "<div>\n",
       "<style scoped>\n",
       "    .dataframe tbody tr th:only-of-type {\n",
       "        vertical-align: middle;\n",
       "    }\n",
       "\n",
       "    .dataframe tbody tr th {\n",
       "        vertical-align: top;\n",
       "    }\n",
       "\n",
       "    .dataframe thead th {\n",
       "        text-align: right;\n",
       "    }\n",
       "</style>\n",
       "<table border=\"1\" class=\"dataframe\">\n",
       "  <thead>\n",
       "    <tr style=\"text-align: right;\">\n",
       "      <th></th>\n",
       "      <th>Country/Region</th>\n",
       "      <th>Cases</th>\n",
       "      <th>Deaths</th>\n",
       "      <th>PCases</th>\n",
       "      <th>PDeaths</th>\n",
       "      <th>Cases (+)</th>\n",
       "      <th>Deaths (+)</th>\n",
       "      <th>Fatality Rate</th>\n",
       "      <th>Continent</th>\n",
       "    </tr>\n",
       "  </thead>\n",
       "  <tbody>\n",
       "    <tr>\n",
       "      <th>0</th>\n",
       "      <td>US</td>\n",
       "      <td>82468606</td>\n",
       "      <td>999602</td>\n",
       "      <td>82437716</td>\n",
       "      <td>999570</td>\n",
       "      <td>30890</td>\n",
       "      <td>32</td>\n",
       "      <td>1.2</td>\n",
       "      <td>North America</td>\n",
       "    </tr>\n",
       "    <tr>\n",
       "      <th>1</th>\n",
       "      <td>India</td>\n",
       "      <td>43123801</td>\n",
       "      <td>524241</td>\n",
       "      <td>43121599</td>\n",
       "      <td>524214</td>\n",
       "      <td>2202</td>\n",
       "      <td>27</td>\n",
       "      <td>1.2</td>\n",
       "      <td>Asia</td>\n",
       "    </tr>\n",
       "    <tr>\n",
       "      <th>2</th>\n",
       "      <td>Brazil</td>\n",
       "      <td>30688390</td>\n",
       "      <td>665150</td>\n",
       "      <td>30682094</td>\n",
       "      <td>665104</td>\n",
       "      <td>6296</td>\n",
       "      <td>46</td>\n",
       "      <td>2.2</td>\n",
       "      <td>South America</td>\n",
       "    </tr>\n",
       "    <tr>\n",
       "      <th>3</th>\n",
       "      <td>France</td>\n",
       "      <td>29375134</td>\n",
       "      <td>148313</td>\n",
       "      <td>29352290</td>\n",
       "      <td>148306</td>\n",
       "      <td>22844</td>\n",
       "      <td>7</td>\n",
       "      <td>0.5</td>\n",
       "      <td>Europe</td>\n",
       "    </tr>\n",
       "    <tr>\n",
       "      <th>4</th>\n",
       "      <td>Germany</td>\n",
       "      <td>25732153</td>\n",
       "      <td>137499</td>\n",
       "      <td>25729848</td>\n",
       "      <td>137499</td>\n",
       "      <td>2305</td>\n",
       "      <td>0</td>\n",
       "      <td>0.5</td>\n",
       "      <td>Europe</td>\n",
       "    </tr>\n",
       "  </tbody>\n",
       "</table>\n",
       "</div>"
      ],
      "text/plain": [
       "  Country/Region     Cases  Deaths    PCases  PDeaths  Cases (+)  Deaths (+)  \\\n",
       "0             US  82468606  999602  82437716   999570      30890          32   \n",
       "1          India  43123801  524241  43121599   524214       2202          27   \n",
       "2         Brazil  30688390  665150  30682094   665104       6296          46   \n",
       "3         France  29375134  148313  29352290   148306      22844           7   \n",
       "4        Germany  25732153  137499  25729848   137499       2305           0   \n",
       "\n",
       "   Fatality Rate      Continent  \n",
       "0            1.2  North America  \n",
       "1            1.2           Asia  \n",
       "2            2.2  South America  \n",
       "3            0.5         Europe  \n",
       "4            0.5         Europe  "
      ]
     },
     "execution_count": 15,
     "metadata": {},
     "output_type": "execute_result"
    }
   ],
   "source": [
    "#hide\n",
    "df_table = (pd.DataFrame(dict(Cases=dfc_cases, Deaths=dfc_deaths, PCases=dfp_cases, PDeaths=dfp_deaths))\n",
    "             .sort_values(by=['Cases', 'Deaths'], ascending=[False, False])\n",
    "             .reset_index())\n",
    "df_table.rename(columns={'index': 'Country/Region'}, inplace=True)\n",
    "for c in 'Cases, Deaths'.split(', '):\n",
    "    df_table[f'{c} (+)'] = (df_table[c] - df_table[f'P{c}']).clip(0)  # DATA BUG\n",
    "df_table['Fatality Rate'] = (100 * df_table['Deaths'] / df_table['Cases']).round(1)\n",
    "df_table['Continent'] = df_table['Country/Region'].map(mapping['map.continent'])\n",
    "df_table.head(5)"
   ]
  },
  {
   "cell_type": "code",
   "execution_count": 16,
   "id": "fewer-occasion",
   "metadata": {
    "execution": {
     "iopub.execute_input": "2022-05-16T12:19:20.701763Z",
     "iopub.status.busy": "2022-05-16T12:19:20.701177Z",
     "iopub.status.idle": "2022-05-16T12:19:20.703283Z",
     "shell.execute_reply": "2022-05-16T12:19:20.703781Z"
    },
    "papermill": {
     "duration": 0.047436,
     "end_time": "2022-05-16T12:19:20.703999",
     "exception": false,
     "start_time": "2022-05-16T12:19:20.656563",
     "status": "completed"
    },
    "tags": []
   },
   "outputs": [],
   "source": [
    "#hide\n",
    "#delete problematic countries from table\n",
    "df_table = df_table[~df_table['Country/Region'].isin(['Cape Verde', 'Cruise Ship', 'Kosovo'])]"
   ]
  },
  {
   "cell_type": "code",
   "execution_count": 17,
   "id": "related-center",
   "metadata": {
    "execution": {
     "iopub.execute_input": "2022-05-16T12:19:20.798252Z",
     "iopub.status.busy": "2022-05-16T12:19:20.797665Z",
     "iopub.status.idle": "2022-05-16T12:19:20.799862Z",
     "shell.execute_reply": "2022-05-16T12:19:20.800416Z"
    },
    "papermill": {
     "duration": 0.059326,
     "end_time": "2022-05-16T12:19:20.800569",
     "exception": false,
     "start_time": "2022-05-16T12:19:20.741243",
     "status": "completed"
    },
    "tags": []
   },
   "outputs": [],
   "source": [
    "#hide\n",
    "metrics = [df_table.columns[index] for index in [1,2,5,6]]\n",
    "# s_china = df_table[df_table['Country/Region'].eq('China')][metrics].sum().add_prefix('China ')\n",
    "s_us = df_table[df_table['Country/Region'].eq('US')][metrics].sum().add_prefix('US ')\n",
    "s_eu = df_table[df_table['Continent'].eq('Europe')][metrics].sum().add_prefix('EU ')\n",
    "s_ind = df_table[df_table['Country/Region'].eq('India')][metrics].sum().add_prefix('India ')\n",
    "summary = {'updated': pd.to_datetime(dt_today), 'since': pd.to_datetime(dt_yday)}\n",
    "summary = {'updated': pd.to_datetime(dt_today), 'since': pd.to_datetime(dt_yday)}\n",
    "summary = {**summary, **df_table[metrics].sum(), **s_ind, **s_us, **s_eu}"
   ]
  },
  {
   "cell_type": "code",
   "execution_count": 18,
   "id": "engaging-syndrome",
   "metadata": {
    "execution": {
     "iopub.execute_input": "2022-05-16T12:19:20.880112Z",
     "iopub.status.busy": "2022-05-16T12:19:20.879400Z",
     "iopub.status.idle": "2022-05-16T12:19:20.899884Z",
     "shell.execute_reply": "2022-05-16T12:19:20.900369Z"
    },
    "papermill": {
     "duration": 0.063224,
     "end_time": "2022-05-16T12:19:20.900509",
     "exception": false,
     "start_time": "2022-05-16T12:19:20.837285",
     "status": "completed"
    },
    "tags": []
   },
   "outputs": [],
   "source": [
    "#hide\n",
    "dft_ct_new_cases = dft_cases.groupby(COL_REGION)[dt_cols].sum().diff(axis=1).fillna(0).astype(int)"
   ]
  },
  {
   "cell_type": "code",
   "execution_count": 19,
   "id": "neutral-assignment",
   "metadata": {
    "execution": {
     "iopub.execute_input": "2022-05-16T12:19:20.979539Z",
     "iopub.status.busy": "2022-05-16T12:19:20.978927Z",
     "iopub.status.idle": "2022-05-16T12:19:20.980868Z",
     "shell.execute_reply": "2022-05-16T12:19:20.981326Z"
    },
    "papermill": {
     "duration": 0.044601,
     "end_time": "2022-05-16T12:19:20.981460",
     "exception": false,
     "start_time": "2022-05-16T12:19:20.936859",
     "status": "completed"
    },
    "tags": []
   },
   "outputs": [],
   "source": [
    "#hide\n",
    "everydaycases = dft_ct_new_cases.cumsum(axis=1)"
   ]
  },
  {
   "cell_type": "code",
   "execution_count": 20,
   "id": "parliamentary-calgary",
   "metadata": {
    "execution": {
     "iopub.execute_input": "2022-05-16T12:19:21.078083Z",
     "iopub.status.busy": "2022-05-16T12:19:21.077331Z",
     "iopub.status.idle": "2022-05-16T12:19:21.744726Z",
     "shell.execute_reply": "2022-05-16T12:19:21.743782Z"
    },
    "papermill": {
     "duration": 0.723999,
     "end_time": "2022-05-16T12:19:21.744885",
     "exception": false,
     "start_time": "2022-05-16T12:19:21.020886",
     "status": "completed"
    },
    "tags": []
   },
   "outputs": [],
   "source": [
    "#hide\n",
    "import pandas as pd\n",
    "import matplotlib.pyplot as plt\n",
    "import matplotlib.ticker as ticker\n",
    "import matplotlib.animation as animation\n",
    "from IPython.display import HTML"
   ]
  },
  {
   "cell_type": "code",
   "execution_count": 21,
   "id": "lasting-extraction",
   "metadata": {
    "execution": {
     "iopub.execute_input": "2022-05-16T12:19:21.830389Z",
     "iopub.status.busy": "2022-05-16T12:19:21.829700Z",
     "iopub.status.idle": "2022-05-16T12:19:21.836515Z",
     "shell.execute_reply": "2022-05-16T12:19:21.837167Z"
    },
    "papermill": {
     "duration": 0.053825,
     "end_time": "2022-05-16T12:19:21.837364",
     "exception": false,
     "start_time": "2022-05-16T12:19:21.783539",
     "status": "completed"
    },
    "tags": []
   },
   "outputs": [],
   "source": [
    "#hide\n",
    "t = everydaycases.stack()"
   ]
  },
  {
   "cell_type": "code",
   "execution_count": 22,
   "id": "premier-sleeve",
   "metadata": {
    "execution": {
     "iopub.execute_input": "2022-05-16T12:19:21.931328Z",
     "iopub.status.busy": "2022-05-16T12:19:21.930476Z",
     "iopub.status.idle": "2022-05-16T12:19:21.943344Z",
     "shell.execute_reply": "2022-05-16T12:19:21.942787Z"
    },
    "papermill": {
     "duration": 0.062823,
     "end_time": "2022-05-16T12:19:21.943491",
     "exception": false,
     "start_time": "2022-05-16T12:19:21.880668",
     "status": "completed"
    },
    "tags": []
   },
   "outputs": [],
   "source": [
    "#hide\n",
    "g = t.reset_index(['Country/Region'])"
   ]
  },
  {
   "cell_type": "code",
   "execution_count": 23,
   "id": "distributed-pittsburgh",
   "metadata": {
    "execution": {
     "iopub.execute_input": "2022-05-16T12:19:22.023944Z",
     "iopub.status.busy": "2022-05-16T12:19:22.023284Z",
     "iopub.status.idle": "2022-05-16T12:19:22.026307Z",
     "shell.execute_reply": "2022-05-16T12:19:22.025537Z"
    },
    "papermill": {
     "duration": 0.044638,
     "end_time": "2022-05-16T12:19:22.026453",
     "exception": false,
     "start_time": "2022-05-16T12:19:21.981815",
     "status": "completed"
    },
    "tags": []
   },
   "outputs": [],
   "source": [
    "#hide\n",
    "g.index.name = 'date'"
   ]
  },
  {
   "cell_type": "code",
   "execution_count": 24,
   "id": "naked-donor",
   "metadata": {
    "execution": {
     "iopub.execute_input": "2022-05-16T12:19:22.108417Z",
     "iopub.status.busy": "2022-05-16T12:19:22.107784Z",
     "iopub.status.idle": "2022-05-16T12:19:22.110627Z",
     "shell.execute_reply": "2022-05-16T12:19:22.110030Z"
    },
    "papermill": {
     "duration": 0.044608,
     "end_time": "2022-05-16T12:19:22.110785",
     "exception": false,
     "start_time": "2022-05-16T12:19:22.066177",
     "status": "completed"
    },
    "tags": []
   },
   "outputs": [],
   "source": [
    "# #hide\n",
    "# g = g.reset_index(['date'])"
   ]
  },
  {
   "cell_type": "code",
   "execution_count": 25,
   "id": "incomplete-mustang",
   "metadata": {
    "execution": {
     "iopub.execute_input": "2022-05-16T12:19:22.190300Z",
     "iopub.status.busy": "2022-05-16T12:19:22.189572Z",
     "iopub.status.idle": "2022-05-16T12:19:22.192521Z",
     "shell.execute_reply": "2022-05-16T12:19:22.191838Z"
    },
    "papermill": {
     "duration": 0.043741,
     "end_time": "2022-05-16T12:19:22.192632",
     "exception": false,
     "start_time": "2022-05-16T12:19:22.148891",
     "status": "completed"
    },
    "tags": []
   },
   "outputs": [],
   "source": [
    "#hide\n",
    "# g.head()"
   ]
  },
  {
   "cell_type": "code",
   "execution_count": 26,
   "id": "specific-kruger",
   "metadata": {
    "execution": {
     "iopub.execute_input": "2022-05-16T12:19:22.274973Z",
     "iopub.status.busy": "2022-05-16T12:19:22.274204Z",
     "iopub.status.idle": "2022-05-16T12:19:22.278120Z",
     "shell.execute_reply": "2022-05-16T12:19:22.277471Z"
    },
    "papermill": {
     "duration": 0.04843,
     "end_time": "2022-05-16T12:19:22.278452",
     "exception": false,
     "start_time": "2022-05-16T12:19:22.230022",
     "status": "completed"
    },
    "tags": []
   },
   "outputs": [],
   "source": [
    "#hide\n",
    "# g.columns = ['date','country','cases']"
   ]
  },
  {
   "cell_type": "code",
   "execution_count": 27,
   "id": "tender-conversion",
   "metadata": {
    "execution": {
     "iopub.execute_input": "2022-05-16T12:19:22.356352Z",
     "iopub.status.busy": "2022-05-16T12:19:22.355699Z",
     "iopub.status.idle": "2022-05-16T12:19:22.357710Z",
     "shell.execute_reply": "2022-05-16T12:19:22.358226Z"
    },
    "papermill": {
     "duration": 0.043862,
     "end_time": "2022-05-16T12:19:22.358398",
     "exception": false,
     "start_time": "2022-05-16T12:19:22.314536",
     "status": "completed"
    },
    "tags": []
   },
   "outputs": [],
   "source": [
    "#hide\n",
    "# g['continent'] = g.country"
   ]
  },
  {
   "cell_type": "code",
   "execution_count": 28,
   "id": "substantial-wilderness",
   "metadata": {
    "execution": {
     "iopub.execute_input": "2022-05-16T12:19:22.437502Z",
     "iopub.status.busy": "2022-05-16T12:19:22.436856Z",
     "iopub.status.idle": "2022-05-16T12:19:22.441551Z",
     "shell.execute_reply": "2022-05-16T12:19:22.442013Z"
    },
    "papermill": {
     "duration": 0.045015,
     "end_time": "2022-05-16T12:19:22.442144",
     "exception": false,
     "start_time": "2022-05-16T12:19:22.397129",
     "status": "completed"
    },
    "tags": []
   },
   "outputs": [],
   "source": [
    "#hide\n",
    "# cols = list(g.columns.values)"
   ]
  },
  {
   "cell_type": "code",
   "execution_count": 29,
   "id": "solved-farming",
   "metadata": {
    "execution": {
     "iopub.execute_input": "2022-05-16T12:19:22.522806Z",
     "iopub.status.busy": "2022-05-16T12:19:22.522081Z",
     "iopub.status.idle": "2022-05-16T12:19:22.525243Z",
     "shell.execute_reply": "2022-05-16T12:19:22.524579Z"
    },
    "papermill": {
     "duration": 0.046081,
     "end_time": "2022-05-16T12:19:22.525418",
     "exception": false,
     "start_time": "2022-05-16T12:19:22.479337",
     "status": "completed"
    },
    "tags": []
   },
   "outputs": [],
   "source": [
    "#hide\n",
    "# cols.insert(0, cols.pop())"
   ]
  },
  {
   "cell_type": "code",
   "execution_count": 30,
   "id": "executed-adoption",
   "metadata": {
    "execution": {
     "iopub.execute_input": "2022-05-16T12:19:22.608607Z",
     "iopub.status.busy": "2022-05-16T12:19:22.607976Z",
     "iopub.status.idle": "2022-05-16T12:19:22.612846Z",
     "shell.execute_reply": "2022-05-16T12:19:22.612325Z"
    },
    "papermill": {
     "duration": 0.049138,
     "end_time": "2022-05-16T12:19:22.612973",
     "exception": false,
     "start_time": "2022-05-16T12:19:22.563835",
     "status": "completed"
    },
    "tags": []
   },
   "outputs": [],
   "source": [
    "#hide\n",
    "# g = g[cols]"
   ]
  },
  {
   "cell_type": "code",
   "execution_count": 31,
   "id": "subject-dublin",
   "metadata": {
    "execution": {
     "iopub.execute_input": "2022-05-16T12:19:22.698257Z",
     "iopub.status.busy": "2022-05-16T12:19:22.697663Z",
     "iopub.status.idle": "2022-05-16T12:19:22.699743Z",
     "shell.execute_reply": "2022-05-16T12:19:22.699136Z"
    },
    "papermill": {
     "duration": 0.045321,
     "end_time": "2022-05-16T12:19:22.699860",
     "exception": false,
     "start_time": "2022-05-16T12:19:22.654539",
     "status": "completed"
    },
    "tags": []
   },
   "outputs": [],
   "source": [
    "#hide\n",
    "# g['continent'] = g['continent'].map(mapping['map.continent'])"
   ]
  },
  {
   "cell_type": "code",
   "execution_count": 32,
   "id": "freelance-scout",
   "metadata": {
    "execution": {
     "iopub.execute_input": "2022-05-16T12:19:22.779381Z",
     "iopub.status.busy": "2022-05-16T12:19:22.778562Z",
     "iopub.status.idle": "2022-05-16T12:19:22.781847Z",
     "shell.execute_reply": "2022-05-16T12:19:22.781311Z"
    },
    "papermill": {
     "duration": 0.043385,
     "end_time": "2022-05-16T12:19:22.781964",
     "exception": false,
     "start_time": "2022-05-16T12:19:22.738579",
     "status": "completed"
    },
    "tags": []
   },
   "outputs": [],
   "source": [
    "#hide\n",
    "# g.head()"
   ]
  },
  {
   "cell_type": "code",
   "execution_count": 33,
   "id": "limited-engine",
   "metadata": {
    "execution": {
     "iopub.execute_input": "2022-05-16T12:19:22.862952Z",
     "iopub.status.busy": "2022-05-16T12:19:22.862291Z",
     "iopub.status.idle": "2022-05-16T12:19:22.864672Z",
     "shell.execute_reply": "2022-05-16T12:19:22.864181Z"
    },
    "papermill": {
     "duration": 0.045088,
     "end_time": "2022-05-16T12:19:22.864814",
     "exception": false,
     "start_time": "2022-05-16T12:19:22.819726",
     "status": "completed"
    },
    "tags": []
   },
   "outputs": [],
   "source": [
    "# hide\n",
    "# g['date'] = g['date'].astype('datetime64[ns]')"
   ]
  },
  {
   "cell_type": "code",
   "execution_count": 34,
   "id": "sophisticated-supervisor",
   "metadata": {
    "execution": {
     "iopub.execute_input": "2022-05-16T12:19:22.945994Z",
     "iopub.status.busy": "2022-05-16T12:19:22.945356Z",
     "iopub.status.idle": "2022-05-16T12:19:22.948133Z",
     "shell.execute_reply": "2022-05-16T12:19:22.947590Z"
    },
    "papermill": {
     "duration": 0.0464,
     "end_time": "2022-05-16T12:19:22.948258",
     "exception": false,
     "start_time": "2022-05-16T12:19:22.901858",
     "status": "completed"
    },
    "tags": []
   },
   "outputs": [],
   "source": [
    "#hide\n",
    "# g['date'] = g.date.dt.dayofyear"
   ]
  },
  {
   "cell_type": "code",
   "execution_count": 35,
   "id": "inside-dubai",
   "metadata": {
    "execution": {
     "iopub.execute_input": "2022-05-16T12:19:23.034961Z",
     "iopub.status.busy": "2022-05-16T12:19:23.033848Z",
     "iopub.status.idle": "2022-05-16T12:19:23.035665Z",
     "shell.execute_reply": "2022-05-16T12:19:23.036439Z"
    },
    "papermill": {
     "duration": 0.044939,
     "end_time": "2022-05-16T12:19:23.036594",
     "exception": false,
     "start_time": "2022-05-16T12:19:22.991655",
     "status": "completed"
    },
    "tags": []
   },
   "outputs": [],
   "source": [
    "#hide\n",
    "# g = g.rename(columns= {'continent':'group','country':'name','cases':'value'})"
   ]
  },
  {
   "cell_type": "code",
   "execution_count": 36,
   "id": "fleet-motorcycle",
   "metadata": {
    "execution": {
     "iopub.execute_input": "2022-05-16T12:19:23.114991Z",
     "iopub.status.busy": "2022-05-16T12:19:23.114090Z",
     "iopub.status.idle": "2022-05-16T12:19:23.118188Z",
     "shell.execute_reply": "2022-05-16T12:19:23.117355Z"
    },
    "papermill": {
     "duration": 0.043006,
     "end_time": "2022-05-16T12:19:23.118349",
     "exception": false,
     "start_time": "2022-05-16T12:19:23.075343",
     "status": "completed"
    },
    "tags": []
   },
   "outputs": [],
   "source": [
    "#hide\n",
    "# cols = ['name','group','day','value']"
   ]
  },
  {
   "cell_type": "code",
   "execution_count": 37,
   "id": "continued-sleeping",
   "metadata": {
    "execution": {
     "iopub.execute_input": "2022-05-16T12:19:23.194110Z",
     "iopub.status.busy": "2022-05-16T12:19:23.193506Z",
     "iopub.status.idle": "2022-05-16T12:19:23.195721Z",
     "shell.execute_reply": "2022-05-16T12:19:23.196246Z"
    },
    "papermill": {
     "duration": 0.041526,
     "end_time": "2022-05-16T12:19:23.196408",
     "exception": false,
     "start_time": "2022-05-16T12:19:23.154882",
     "status": "completed"
    },
    "tags": []
   },
   "outputs": [],
   "source": [
    "#hide\n",
    "# g.rename(columns= {'date':'day'},inplace = True)"
   ]
  },
  {
   "cell_type": "code",
   "execution_count": 38,
   "id": "major-fight",
   "metadata": {
    "execution": {
     "iopub.execute_input": "2022-05-16T12:19:23.274512Z",
     "iopub.status.busy": "2022-05-16T12:19:23.273745Z",
     "iopub.status.idle": "2022-05-16T12:19:23.278836Z",
     "shell.execute_reply": "2022-05-16T12:19:23.278067Z"
    },
    "papermill": {
     "duration": 0.045463,
     "end_time": "2022-05-16T12:19:23.279001",
     "exception": false,
     "start_time": "2022-05-16T12:19:23.233538",
     "status": "completed"
    },
    "tags": []
   },
   "outputs": [],
   "source": [
    "#hide\n",
    "# g = g[cols]"
   ]
  },
  {
   "cell_type": "code",
   "execution_count": 39,
   "id": "structured-mobile",
   "metadata": {
    "execution": {
     "iopub.execute_input": "2022-05-16T12:19:23.356169Z",
     "iopub.status.busy": "2022-05-16T12:19:23.355291Z",
     "iopub.status.idle": "2022-05-16T12:19:23.357724Z",
     "shell.execute_reply": "2022-05-16T12:19:23.357055Z"
    },
    "papermill": {
     "duration": 0.041884,
     "end_time": "2022-05-16T12:19:23.357854",
     "exception": false,
     "start_time": "2022-05-16T12:19:23.315970",
     "status": "completed"
    },
    "tags": []
   },
   "outputs": [],
   "source": [
    "# #hide\n",
    "# g = g[g.group.notna()]"
   ]
  },
  {
   "cell_type": "code",
   "execution_count": 40,
   "id": "determined-closing",
   "metadata": {
    "execution": {
     "iopub.execute_input": "2022-05-16T12:19:23.436169Z",
     "iopub.status.busy": "2022-05-16T12:19:23.435541Z",
     "iopub.status.idle": "2022-05-16T12:19:23.438037Z",
     "shell.execute_reply": "2022-05-16T12:19:23.437410Z"
    },
    "papermill": {
     "duration": 0.042523,
     "end_time": "2022-05-16T12:19:23.438147",
     "exception": false,
     "start_time": "2022-05-16T12:19:23.395624",
     "status": "completed"
    },
    "tags": []
   },
   "outputs": [],
   "source": [
    "# #hide\n",
    "# colors = dict(zip(\n",
    "#     [\"Oceania\", \"Europe\", \"Asia\", \"South America\", \"Middle East\", \"North America\", \"Africa\"],\n",
    "#     [\"#adb0ff\", \"#ffb3ff\", \"#90d595\", \"#e48381\", \"#aafbff\", \"#f7bb5f\", \"#eafb50\"]\n",
    "# ))\n",
    "# group_lk = g.set_index('name')['group'].to_dict()"
   ]
  },
  {
   "cell_type": "code",
   "execution_count": null,
   "id": "gross-drinking",
   "metadata": {
    "papermill": {
     "duration": 0.03617,
     "end_time": "2022-05-16T12:19:23.513721",
     "exception": false,
     "start_time": "2022-05-16T12:19:23.477551",
     "status": "completed"
    },
    "tags": []
   },
   "outputs": [],
   "source": []
  },
  {
   "cell_type": "code",
   "execution_count": 41,
   "id": "subject-macintosh",
   "metadata": {
    "execution": {
     "iopub.execute_input": "2022-05-16T12:19:23.591561Z",
     "iopub.status.busy": "2022-05-16T12:19:23.590749Z",
     "iopub.status.idle": "2022-05-16T12:19:23.593350Z",
     "shell.execute_reply": "2022-05-16T12:19:23.592745Z"
    },
    "papermill": {
     "duration": 0.041331,
     "end_time": "2022-05-16T12:19:23.593481",
     "exception": false,
     "start_time": "2022-05-16T12:19:23.552150",
     "status": "completed"
    },
    "tags": []
   },
   "outputs": [],
   "source": [
    "# #hide\n",
    "# fig, ax = plt.subplots(figsize=(15, 8))\n",
    "\n",
    "# def draw_barchart(current_day):\n",
    "#     dff = g[g['day'].eq(current_day)].sort_values(by='value', ascending=True).tail(10)\n",
    "#     ax.clear()\n",
    "#     ax.barh(dff['name'], dff['value'], color=[colors[group_lk[x]] for x in dff['name']])\n",
    "#     dx = dff['value'].max() / 200\n",
    "    \n",
    "#     for i, (value, name) in enumerate(zip(dff['value'], dff['name'])):\n",
    "#         ax.text(value-dx, i,     name,           size=14, weight=600, ha='right', va='bottom')\n",
    "#         ax.text(value-dx, i-.25, group_lk[name], size=10, color='#444444', ha='right', va='baseline')\n",
    "#         ax.text(value+dx, i,     f'{value:,.0f}',  size=14, ha='left',  va='center')\n",
    "#     ax.text(1, 0.4, current_day, transform=ax.transAxes, color='#777777', size=46, ha='right', weight=800)\n",
    "#     ax.text(0, 1.06, 'Population (thousands)', transform=ax.transAxes, size=12, color='#777777')\n",
    "#     ax.xaxis.set_major_formatter(ticker.StrMethodFormatter('{x:,.0f}'))\n",
    "#     ax.xaxis.set_ticks_position('top')\n",
    "#     ax.tick_params(axis='x', colors='#777777', labelsize=12)\n",
    "#     ax.set_yticks([])\n",
    "#     ax.margins(0, 0.01)\n",
    "#     ax.grid(which='major', axis='x', linestyle='-')\n",
    "#     ax.set_axisbelow(True)\n",
    "    \n",
    "#     ax.text(0, 1.15, 'Coronavirus',\n",
    "#             transform=ax.transAxes, size=24, weight=600, ha='left', va='top')\n",
    "# #     ax.text(1, 0, 'by @pratapvardhan; credit @jburnmurdoch', transform=ax.transAxes, color='#777777', ha='right',\n",
    "# #             bbox=dict(facecolor='white', alpha=0.8, edgecolor='white'))\n",
    "#     plt.box(False)"
   ]
  },
  {
   "cell_type": "code",
   "execution_count": 42,
   "id": "sexual-wages",
   "metadata": {
    "execution": {
     "iopub.execute_input": "2022-05-16T12:19:23.673764Z",
     "iopub.status.busy": "2022-05-16T12:19:23.673120Z",
     "iopub.status.idle": "2022-05-16T12:19:23.676486Z",
     "shell.execute_reply": "2022-05-16T12:19:23.676982Z"
    },
    "papermill": {
     "duration": 0.044483,
     "end_time": "2022-05-16T12:19:23.677166",
     "exception": false,
     "start_time": "2022-05-16T12:19:23.632683",
     "status": "completed"
    },
    "tags": []
   },
   "outputs": [],
   "source": [
    "# #hide_input\n",
    "# fig, ax = plt.subplots(figsize=(15, 8))\n",
    "# animator = animation.FuncAnimation(fig, draw_barchart, frames=range(g.day.values.min(), g.day.values.max()))\n",
    "# HTML(animator.to_jshtml())\n",
    "# # or use animator.to_html5_video() or animator.save() "
   ]
  },
  {
   "cell_type": "code",
   "execution_count": null,
   "id": "australian-container",
   "metadata": {
    "papermill": {
     "duration": 0.040207,
     "end_time": "2022-05-16T12:19:23.754199",
     "exception": false,
     "start_time": "2022-05-16T12:19:23.713992",
     "status": "completed"
    },
    "tags": []
   },
   "outputs": [],
   "source": []
  },
  {
   "cell_type": "code",
   "execution_count": null,
   "id": "mediterranean-pontiac",
   "metadata": {
    "papermill": {
     "duration": 0.037372,
     "end_time": "2022-05-16T12:19:23.829258",
     "exception": false,
     "start_time": "2022-05-16T12:19:23.791886",
     "status": "completed"
    },
    "tags": []
   },
   "outputs": [],
   "source": []
  },
  {
   "cell_type": "code",
   "execution_count": null,
   "id": "aging-legislature",
   "metadata": {
    "papermill": {
     "duration": 0.035683,
     "end_time": "2022-05-16T12:19:23.902302",
     "exception": false,
     "start_time": "2022-05-16T12:19:23.866619",
     "status": "completed"
    },
    "tags": []
   },
   "outputs": [],
   "source": []
  }
 ],
 "metadata": {
  "kernelspec": {
   "display_name": "Python 3",
   "language": "python",
   "name": "python3"
  },
  "language_info": {
   "codemirror_mode": {
    "name": "ipython",
    "version": 3
   },
   "file_extension": ".py",
   "mimetype": "text/x-python",
   "name": "python",
   "nbconvert_exporter": "python",
   "pygments_lexer": "ipython3",
   "version": "3.6.15"
  },
  "papermill": {
   "duration": 7.197818,
   "end_time": "2022-05-16T12:19:24.257794",
   "environment_variables": {},
   "exception": null,
   "input_path": "2020-03-21-covid19exp.ipynb",
   "output_path": "2020-03-21-covid19exp.ipynb",
   "parameters": {},
   "start_time": "2022-05-16T12:19:17.059976",
   "version": "2.0.0"
  }
 },
 "nbformat": 4,
 "nbformat_minor": 5
}