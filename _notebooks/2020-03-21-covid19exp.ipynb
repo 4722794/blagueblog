{
 "cells": [
  {
   "cell_type": "markdown",
   "id": "muslim-click",
   "metadata": {
    "papermill": {
     "duration": 0.042439,
     "end_time": "2021-07-14T12:10:33.900579",
     "exception": false,
     "start_time": "2021-07-14T12:10:33.858140",
     "status": "completed"
    },
    "tags": []
   },
   "source": [
    "# COVID-19 Case Race\n",
    "> A race chart to see rising cases around the world\n",
    "\n",
    "- author: Hargun Oberoi\n",
    "- image: images/covid-overview.png\n",
    "- hide: false\n",
    "- badges: false"
   ]
  },
  {
   "cell_type": "code",
   "execution_count": 1,
   "id": "proof-material",
   "metadata": {
    "execution": {
     "iopub.execute_input": "2021-07-14T12:10:33.983612Z",
     "iopub.status.busy": "2021-07-14T12:10:33.982754Z",
     "iopub.status.idle": "2021-07-14T12:10:34.356184Z",
     "shell.execute_reply": "2021-07-14T12:10:34.355341Z"
    },
    "papermill": {
     "duration": 0.420959,
     "end_time": "2021-07-14T12:10:34.356336",
     "exception": false,
     "start_time": "2021-07-14T12:10:33.935377",
     "status": "completed"
    },
    "tags": []
   },
   "outputs": [],
   "source": [
    "#hide\n",
    "import numpy as np\n",
    "import pandas as pd\n",
    "from jinja2 import Template\n",
    "from IPython.display import HTML"
   ]
  },
  {
   "cell_type": "code",
   "execution_count": 2,
   "id": "developed-terminology",
   "metadata": {
    "execution": {
     "iopub.execute_input": "2021-07-14T12:10:34.429238Z",
     "iopub.status.busy": "2021-07-14T12:10:34.428633Z",
     "iopub.status.idle": "2021-07-14T12:10:34.430082Z",
     "shell.execute_reply": "2021-07-14T12:10:34.430615Z"
    },
    "papermill": {
     "duration": 0.04064,
     "end_time": "2021-07-14T12:10:34.430756",
     "exception": false,
     "start_time": "2021-07-14T12:10:34.390116",
     "status": "completed"
    },
    "tags": []
   },
   "outputs": [],
   "source": [
    "#hide\n",
    "\n",
    "# FETCH\n",
    "base_url = 'https://raw.githubusercontent.com/pratapvardhan/notebooks/master/covid19/'\n",
    "paths = {\n",
    "    'mapping': base_url + 'mapping_countries.csv',\n",
    "    'overview': base_url + 'overview.tpl'\n",
    "}"
   ]
  },
  {
   "cell_type": "code",
   "execution_count": 3,
   "id": "dynamic-saver",
   "metadata": {
    "execution": {
     "iopub.execute_input": "2021-07-14T12:10:34.508866Z",
     "iopub.status.busy": "2021-07-14T12:10:34.508266Z",
     "iopub.status.idle": "2021-07-14T12:10:34.510567Z",
     "shell.execute_reply": "2021-07-14T12:10:34.511106Z"
    },
    "papermill": {
     "duration": 0.046892,
     "end_time": "2021-07-14T12:10:34.511272",
     "exception": false,
     "start_time": "2021-07-14T12:10:34.464380",
     "status": "completed"
    },
    "tags": []
   },
   "outputs": [
    {
     "data": {
      "text/plain": [
       "'https://raw.githubusercontent.com/pratapvardhan/notebooks/master/covid19/mapping_countries.csv'"
      ]
     },
     "execution_count": 3,
     "metadata": {},
     "output_type": "execute_result"
    }
   ],
   "source": [
    "#hide\n",
    "paths['mapping']"
   ]
  },
  {
   "cell_type": "code",
   "execution_count": 4,
   "id": "urban-software",
   "metadata": {
    "execution": {
     "iopub.execute_input": "2021-07-14T12:10:34.587830Z",
     "iopub.status.busy": "2021-07-14T12:10:34.587204Z",
     "iopub.status.idle": "2021-07-14T12:10:34.589962Z",
     "shell.execute_reply": "2021-07-14T12:10:34.589489Z"
    },
    "papermill": {
     "duration": 0.044774,
     "end_time": "2021-07-14T12:10:34.590088",
     "exception": false,
     "start_time": "2021-07-14T12:10:34.545314",
     "status": "completed"
    },
    "tags": []
   },
   "outputs": [],
   "source": [
    "#hide\n",
    "def get_mappings(url):\n",
    "    df = pd.read_csv(url)\n",
    "    return {\n",
    "        'df': df,\n",
    "        'replace.country': dict(df.dropna(subset=['Name']).set_index('Country')['Name']),\n",
    "        'map.continent': dict(df.set_index('Name')['Continent'])\n",
    "    }"
   ]
  },
  {
   "cell_type": "code",
   "execution_count": 5,
   "id": "intimate-machinery",
   "metadata": {
    "execution": {
     "iopub.execute_input": "2021-07-14T12:10:34.663906Z",
     "iopub.status.busy": "2021-07-14T12:10:34.663306Z",
     "iopub.status.idle": "2021-07-14T12:10:34.720374Z",
     "shell.execute_reply": "2021-07-14T12:10:34.719689Z"
    },
    "papermill": {
     "duration": 0.097148,
     "end_time": "2021-07-14T12:10:34.720509",
     "exception": false,
     "start_time": "2021-07-14T12:10:34.623361",
     "status": "completed"
    },
    "tags": []
   },
   "outputs": [],
   "source": [
    "#hide\n",
    "mapping = get_mappings(paths['mapping'])"
   ]
  },
  {
   "cell_type": "code",
   "execution_count": 6,
   "id": "certified-tactics",
   "metadata": {
    "execution": {
     "iopub.execute_input": "2021-07-14T12:10:34.794573Z",
     "iopub.status.busy": "2021-07-14T12:10:34.793977Z",
     "iopub.status.idle": "2021-07-14T12:10:34.796310Z",
     "shell.execute_reply": "2021-07-14T12:10:34.796808Z"
    },
    "papermill": {
     "duration": 0.042349,
     "end_time": "2021-07-14T12:10:34.796951",
     "exception": false,
     "start_time": "2021-07-14T12:10:34.754602",
     "status": "completed"
    },
    "tags": []
   },
   "outputs": [],
   "source": [
    "#hide\n",
    "def get_template(path):\n",
    "    from urllib.parse import urlparse\n",
    "    if bool(urlparse(path).netloc):\n",
    "        from urllib.request import urlopen\n",
    "        return urlopen(path).read().decode('utf8')\n",
    "    return open(path).read()"
   ]
  },
  {
   "cell_type": "code",
   "execution_count": 7,
   "id": "realistic-blast",
   "metadata": {
    "execution": {
     "iopub.execute_input": "2021-07-14T12:10:34.871902Z",
     "iopub.status.busy": "2021-07-14T12:10:34.871299Z",
     "iopub.status.idle": "2021-07-14T12:10:34.873873Z",
     "shell.execute_reply": "2021-07-14T12:10:34.874381Z"
    },
    "papermill": {
     "duration": 0.043769,
     "end_time": "2021-07-14T12:10:34.874522",
     "exception": false,
     "start_time": "2021-07-14T12:10:34.830753",
     "status": "completed"
    },
    "tags": []
   },
   "outputs": [],
   "source": [
    "#hide\n",
    "def get_frame(name):\n",
    "    url = (\n",
    "        'https://raw.githubusercontent.com/CSSEGISandData/COVID-19/master/csse_covid_19_data/'\n",
    "        f'csse_covid_19_time_series/time_series_covid19_{name}_global.csv')\n",
    "    df = pd.read_csv(url)\n",
    "    # rename countries\n",
    "    df['Country/Region'] = df['Country/Region'].replace(mapping['replace.country'])\n",
    "    return df"
   ]
  },
  {
   "cell_type": "code",
   "execution_count": 8,
   "id": "affiliated-characterization",
   "metadata": {
    "execution": {
     "iopub.execute_input": "2021-07-14T12:10:34.949149Z",
     "iopub.status.busy": "2021-07-14T12:10:34.948558Z",
     "iopub.status.idle": "2021-07-14T12:10:34.950772Z",
     "shell.execute_reply": "2021-07-14T12:10:34.950283Z"
    },
    "papermill": {
     "duration": 0.042291,
     "end_time": "2021-07-14T12:10:34.950893",
     "exception": false,
     "start_time": "2021-07-14T12:10:34.908602",
     "status": "completed"
    },
    "tags": []
   },
   "outputs": [],
   "source": [
    "#hide\n",
    "def get_dates(df):\n",
    "    dt_cols = df.columns[~df.columns.isin(['Province/State', 'Country/Region', 'Lat', 'Long'])]\n",
    "    LAST_DATE_I = -1\n",
    "    # sometimes last column may be empty, then go backwards\n",
    "    for i in range(-1, -len(dt_cols), -1):\n",
    "        if not df[dt_cols[i]].fillna(0).eq(0).all():\n",
    "            LAST_DATE_I = i\n",
    "            break\n",
    "    return LAST_DATE_I, dt_cols"
   ]
  },
  {
   "cell_type": "code",
   "execution_count": 9,
   "id": "recent-optimization",
   "metadata": {
    "execution": {
     "iopub.execute_input": "2021-07-14T12:10:35.026379Z",
     "iopub.status.busy": "2021-07-14T12:10:35.025771Z",
     "iopub.status.idle": "2021-07-14T12:10:35.379684Z",
     "shell.execute_reply": "2021-07-14T12:10:35.379121Z"
    },
    "papermill": {
     "duration": 0.39496,
     "end_time": "2021-07-14T12:10:35.379824",
     "exception": false,
     "start_time": "2021-07-14T12:10:34.984864",
     "status": "completed"
    },
    "tags": []
   },
   "outputs": [],
   "source": [
    "#hide\n",
    "COL_REGION = 'Country/Region'\n",
    "# Confirmed, Recovered, Deaths\n",
    "df = get_frame('confirmed')\n",
    "# dft_: timeseries, dfc_: today country agg\n",
    "dft_cases = df\n",
    "dft_deaths = get_frame('deaths')\n",
    "dft_recovered = get_frame('recovered')\n",
    "LAST_DATE_I, dt_cols = get_dates(df)"
   ]
  },
  {
   "cell_type": "code",
   "execution_count": 10,
   "id": "absolute-copper",
   "metadata": {
    "execution": {
     "iopub.execute_input": "2021-07-14T12:10:35.454468Z",
     "iopub.status.busy": "2021-07-14T12:10:35.453876Z",
     "iopub.status.idle": "2021-07-14T12:10:35.455611Z",
     "shell.execute_reply": "2021-07-14T12:10:35.456083Z"
    },
    "papermill": {
     "duration": 0.042252,
     "end_time": "2021-07-14T12:10:35.456225",
     "exception": false,
     "start_time": "2021-07-14T12:10:35.413973",
     "status": "completed"
    },
    "tags": []
   },
   "outputs": [],
   "source": [
    "#hide\n",
    "LAST_DATE_I, dt_cols = get_dates(df)\n",
    "dt_today =dt_cols[LAST_DATE_I]\n",
    "# dt_5day = dt_cols[LAST_DATE_I - 5]\n",
    "dt_yday = dt_cols[LAST_DATE_I - 1]"
   ]
  },
  {
   "cell_type": "code",
   "execution_count": 11,
   "id": "restricted-sheriff",
   "metadata": {
    "execution": {
     "iopub.execute_input": "2021-07-14T12:10:35.532141Z",
     "iopub.status.busy": "2021-07-14T12:10:35.531518Z",
     "iopub.status.idle": "2021-07-14T12:10:35.539868Z",
     "shell.execute_reply": "2021-07-14T12:10:35.539393Z"
    },
    "papermill": {
     "duration": 0.049904,
     "end_time": "2021-07-14T12:10:35.539995",
     "exception": false,
     "start_time": "2021-07-14T12:10:35.490091",
     "status": "completed"
    },
    "tags": []
   },
   "outputs": [],
   "source": [
    "#hide\n",
    "dfc_cases = dft_cases.groupby(COL_REGION)[dt_today].sum()\n",
    "dfc_deaths = dft_deaths.groupby(COL_REGION)[dt_today].sum()\n",
    "# dfp_cases = dft_cases.groupby(COL_REGION)[dt_5day].sum()\n",
    "# dfp_deaths = dft_deaths.groupby(COL_REGION)[dt_5day].sum()\n",
    "dfp_cases = dft_cases.groupby(COL_REGION)[dt_yday].sum()\n",
    "dfp_deaths = dft_deaths.groupby(COL_REGION)[dt_yday].sum()"
   ]
  },
  {
   "cell_type": "code",
   "execution_count": 12,
   "id": "deluxe-hepatitis",
   "metadata": {
    "execution": {
     "iopub.execute_input": "2021-07-14T12:10:35.616051Z",
     "iopub.status.busy": "2021-07-14T12:10:35.614630Z",
     "iopub.status.idle": "2021-07-14T12:10:35.621437Z",
     "shell.execute_reply": "2021-07-14T12:10:35.620415Z"
    },
    "papermill": {
     "duration": 0.047599,
     "end_time": "2021-07-14T12:10:35.621567",
     "exception": false,
     "start_time": "2021-07-14T12:10:35.573968",
     "status": "completed"
    },
    "tags": []
   },
   "outputs": [],
   "source": [
    "#hide\n",
    "df_table = (pd.DataFrame(dict(Cases = dfc_cases, Deaths = dfc_deaths, PCases = dfp_cases, PDeaths = dfp_deaths))\n",
    "            .sort_values(by = ['Cases','Deaths'], ascending = [False, False])\n",
    "            .reset_index())"
   ]
  },
  {
   "cell_type": "code",
   "execution_count": 13,
   "id": "educational-chancellor",
   "metadata": {
    "execution": {
     "iopub.execute_input": "2021-07-14T12:10:35.698549Z",
     "iopub.status.busy": "2021-07-14T12:10:35.697950Z",
     "iopub.status.idle": "2021-07-14T12:10:35.716904Z",
     "shell.execute_reply": "2021-07-14T12:10:35.717649Z"
    },
    "papermill": {
     "duration": 0.062479,
     "end_time": "2021-07-14T12:10:35.717836",
     "exception": false,
     "start_time": "2021-07-14T12:10:35.655357",
     "status": "completed"
    },
    "tags": []
   },
   "outputs": [
    {
     "data": {
      "text/html": [
       "<div>\n",
       "<style scoped>\n",
       "    .dataframe tbody tr th:only-of-type {\n",
       "        vertical-align: middle;\n",
       "    }\n",
       "\n",
       "    .dataframe tbody tr th {\n",
       "        vertical-align: top;\n",
       "    }\n",
       "\n",
       "    .dataframe thead th {\n",
       "        text-align: right;\n",
       "    }\n",
       "</style>\n",
       "<table border=\"1\" class=\"dataframe\">\n",
       "  <thead>\n",
       "    <tr style=\"text-align: right;\">\n",
       "      <th></th>\n",
       "      <th>Country/Region</th>\n",
       "      <th>Cases</th>\n",
       "      <th>Deaths</th>\n",
       "      <th>PCases</th>\n",
       "      <th>PDeaths</th>\n",
       "      <th>Cases (+)</th>\n",
       "      <th>Deaths (+)</th>\n",
       "      <th>Fatality Rate</th>\n",
       "      <th>Continent</th>\n",
       "    </tr>\n",
       "  </thead>\n",
       "  <tbody>\n",
       "    <tr>\n",
       "      <th>0</th>\n",
       "      <td>US</td>\n",
       "      <td>33914880</td>\n",
       "      <td>607771</td>\n",
       "      <td>33888961</td>\n",
       "      <td>607399</td>\n",
       "      <td>25919</td>\n",
       "      <td>372</td>\n",
       "      <td>1.79</td>\n",
       "      <td>North America</td>\n",
       "    </tr>\n",
       "    <tr>\n",
       "      <th>1</th>\n",
       "      <td>India</td>\n",
       "      <td>30946147</td>\n",
       "      <td>411406</td>\n",
       "      <td>30874376</td>\n",
       "      <td>408764</td>\n",
       "      <td>71771</td>\n",
       "      <td>2642</td>\n",
       "      <td>1.33</td>\n",
       "      <td>Asia</td>\n",
       "    </tr>\n",
       "    <tr>\n",
       "      <th>2</th>\n",
       "      <td>Brazil</td>\n",
       "      <td>19151993</td>\n",
       "      <td>535838</td>\n",
       "      <td>19106971</td>\n",
       "      <td>534233</td>\n",
       "      <td>45022</td>\n",
       "      <td>1605</td>\n",
       "      <td>2.80</td>\n",
       "      <td>South America</td>\n",
       "    </tr>\n",
       "    <tr>\n",
       "      <th>3</th>\n",
       "      <td>France</td>\n",
       "      <td>5882945</td>\n",
       "      <td>111597</td>\n",
       "      <td>5875987</td>\n",
       "      <td>111543</td>\n",
       "      <td>6958</td>\n",
       "      <td>54</td>\n",
       "      <td>1.90</td>\n",
       "      <td>Europe</td>\n",
       "    </tr>\n",
       "    <tr>\n",
       "      <th>4</th>\n",
       "      <td>Russia</td>\n",
       "      <td>5762211</td>\n",
       "      <td>142102</td>\n",
       "      <td>5738000</td>\n",
       "      <td>141335</td>\n",
       "      <td>24211</td>\n",
       "      <td>767</td>\n",
       "      <td>2.47</td>\n",
       "      <td>Europe</td>\n",
       "    </tr>\n",
       "  </tbody>\n",
       "</table>\n",
       "</div>"
      ],
      "text/plain": [
       "  Country/Region     Cases  Deaths    PCases  PDeaths  Cases (+)  Deaths (+)  \\\n",
       "0             US  33914880  607771  33888961   607399      25919         372   \n",
       "1          India  30946147  411406  30874376   408764      71771        2642   \n",
       "2         Brazil  19151993  535838  19106971   534233      45022        1605   \n",
       "3         France   5882945  111597   5875987   111543       6958          54   \n",
       "4         Russia   5762211  142102   5738000   141335      24211         767   \n",
       "\n",
       "   Fatality Rate      Continent  \n",
       "0           1.79  North America  \n",
       "1           1.33           Asia  \n",
       "2           2.80  South America  \n",
       "3           1.90         Europe  \n",
       "4           2.47         Europe  "
      ]
     },
     "execution_count": 13,
     "metadata": {},
     "output_type": "execute_result"
    }
   ],
   "source": [
    "#hide\n",
    "for c in 'Cases, Deaths'.split(', '):\n",
    "    df_table[f'{c} (+)'] = (df_table[c] - df_table[f'P{c}']).clip(0)\n",
    "    #Clip ça veut dire, les chiffres negatif sont interdit\n",
    "df_table['Fatality Rate'] = (100* df_table['Deaths']/ df_table['Cases']).round(2)\n",
    "df_table['Continent'] = df_table['Country/Region'].map(mapping['map.continent'])\n",
    "df_table.head(5)"
   ]
  },
  {
   "cell_type": "code",
   "execution_count": 14,
   "id": "aboriginal-bulgaria",
   "metadata": {
    "execution": {
     "iopub.execute_input": "2021-07-14T12:10:35.794438Z",
     "iopub.status.busy": "2021-07-14T12:10:35.793847Z",
     "iopub.status.idle": "2021-07-14T12:10:35.796062Z",
     "shell.execute_reply": "2021-07-14T12:10:35.795482Z"
    },
    "papermill": {
     "duration": 0.042432,
     "end_time": "2021-07-14T12:10:35.796185",
     "exception": false,
     "start_time": "2021-07-14T12:10:35.753753",
     "status": "completed"
    },
    "tags": []
   },
   "outputs": [],
   "source": [
    "#hide\n",
    "#delete problematic countries from table\n",
    "df_table = df_table[~df_table['Country/Region'].isin(['Cape Verde', 'Cruise Ship', 'Kosovo'])]"
   ]
  },
  {
   "cell_type": "code",
   "execution_count": 15,
   "id": "fantastic-effect",
   "metadata": {
    "execution": {
     "iopub.execute_input": "2021-07-14T12:10:35.876991Z",
     "iopub.status.busy": "2021-07-14T12:10:35.873107Z",
     "iopub.status.idle": "2021-07-14T12:10:35.896372Z",
     "shell.execute_reply": "2021-07-14T12:10:35.895872Z"
    },
    "papermill": {
     "duration": 0.066043,
     "end_time": "2021-07-14T12:10:35.896496",
     "exception": false,
     "start_time": "2021-07-14T12:10:35.830453",
     "status": "completed"
    },
    "tags": []
   },
   "outputs": [
    {
     "data": {
      "text/html": [
       "<div>\n",
       "<style scoped>\n",
       "    .dataframe tbody tr th:only-of-type {\n",
       "        vertical-align: middle;\n",
       "    }\n",
       "\n",
       "    .dataframe tbody tr th {\n",
       "        vertical-align: top;\n",
       "    }\n",
       "\n",
       "    .dataframe thead th {\n",
       "        text-align: right;\n",
       "    }\n",
       "</style>\n",
       "<table border=\"1\" class=\"dataframe\">\n",
       "  <thead>\n",
       "    <tr style=\"text-align: right;\">\n",
       "      <th></th>\n",
       "      <th>Country/Region</th>\n",
       "      <th>Cases</th>\n",
       "      <th>Deaths</th>\n",
       "      <th>PCases</th>\n",
       "      <th>PDeaths</th>\n",
       "      <th>Cases (+)</th>\n",
       "      <th>Deaths (+)</th>\n",
       "      <th>Fatality Rate</th>\n",
       "      <th>Continent</th>\n",
       "    </tr>\n",
       "  </thead>\n",
       "  <tbody>\n",
       "    <tr>\n",
       "      <th>0</th>\n",
       "      <td>US</td>\n",
       "      <td>33914880</td>\n",
       "      <td>607771</td>\n",
       "      <td>33888961</td>\n",
       "      <td>607399</td>\n",
       "      <td>25919</td>\n",
       "      <td>372</td>\n",
       "      <td>1.8</td>\n",
       "      <td>North America</td>\n",
       "    </tr>\n",
       "    <tr>\n",
       "      <th>1</th>\n",
       "      <td>India</td>\n",
       "      <td>30946147</td>\n",
       "      <td>411406</td>\n",
       "      <td>30874376</td>\n",
       "      <td>408764</td>\n",
       "      <td>71771</td>\n",
       "      <td>2642</td>\n",
       "      <td>1.3</td>\n",
       "      <td>Asia</td>\n",
       "    </tr>\n",
       "    <tr>\n",
       "      <th>2</th>\n",
       "      <td>Brazil</td>\n",
       "      <td>19151993</td>\n",
       "      <td>535838</td>\n",
       "      <td>19106971</td>\n",
       "      <td>534233</td>\n",
       "      <td>45022</td>\n",
       "      <td>1605</td>\n",
       "      <td>2.8</td>\n",
       "      <td>South America</td>\n",
       "    </tr>\n",
       "    <tr>\n",
       "      <th>3</th>\n",
       "      <td>France</td>\n",
       "      <td>5882945</td>\n",
       "      <td>111597</td>\n",
       "      <td>5875987</td>\n",
       "      <td>111543</td>\n",
       "      <td>6958</td>\n",
       "      <td>54</td>\n",
       "      <td>1.9</td>\n",
       "      <td>Europe</td>\n",
       "    </tr>\n",
       "    <tr>\n",
       "      <th>4</th>\n",
       "      <td>Russia</td>\n",
       "      <td>5762211</td>\n",
       "      <td>142102</td>\n",
       "      <td>5738000</td>\n",
       "      <td>141335</td>\n",
       "      <td>24211</td>\n",
       "      <td>767</td>\n",
       "      <td>2.5</td>\n",
       "      <td>Europe</td>\n",
       "    </tr>\n",
       "  </tbody>\n",
       "</table>\n",
       "</div>"
      ],
      "text/plain": [
       "  Country/Region     Cases  Deaths    PCases  PDeaths  Cases (+)  Deaths (+)  \\\n",
       "0             US  33914880  607771  33888961   607399      25919         372   \n",
       "1          India  30946147  411406  30874376   408764      71771        2642   \n",
       "2         Brazil  19151993  535838  19106971   534233      45022        1605   \n",
       "3         France   5882945  111597   5875987   111543       6958          54   \n",
       "4         Russia   5762211  142102   5738000   141335      24211         767   \n",
       "\n",
       "   Fatality Rate      Continent  \n",
       "0            1.8  North America  \n",
       "1            1.3           Asia  \n",
       "2            2.8  South America  \n",
       "3            1.9         Europe  \n",
       "4            2.5         Europe  "
      ]
     },
     "execution_count": 15,
     "metadata": {},
     "output_type": "execute_result"
    }
   ],
   "source": [
    "#hide\n",
    "df_table = (pd.DataFrame(dict(Cases=dfc_cases, Deaths=dfc_deaths, PCases=dfp_cases, PDeaths=dfp_deaths))\n",
    "             .sort_values(by=['Cases', 'Deaths'], ascending=[False, False])\n",
    "             .reset_index())\n",
    "df_table.rename(columns={'index': 'Country/Region'}, inplace=True)\n",
    "for c in 'Cases, Deaths'.split(', '):\n",
    "    df_table[f'{c} (+)'] = (df_table[c] - df_table[f'P{c}']).clip(0)  # DATA BUG\n",
    "df_table['Fatality Rate'] = (100 * df_table['Deaths'] / df_table['Cases']).round(1)\n",
    "df_table['Continent'] = df_table['Country/Region'].map(mapping['map.continent'])\n",
    "df_table.head(5)"
   ]
  },
  {
   "cell_type": "code",
   "execution_count": 16,
   "id": "fewer-occasion",
   "metadata": {
    "execution": {
     "iopub.execute_input": "2021-07-14T12:10:35.973857Z",
     "iopub.status.busy": "2021-07-14T12:10:35.973268Z",
     "iopub.status.idle": "2021-07-14T12:10:35.976323Z",
     "shell.execute_reply": "2021-07-14T12:10:35.975847Z"
    },
    "papermill": {
     "duration": 0.04489,
     "end_time": "2021-07-14T12:10:35.976446",
     "exception": false,
     "start_time": "2021-07-14T12:10:35.931556",
     "status": "completed"
    },
    "tags": []
   },
   "outputs": [],
   "source": [
    "#hide\n",
    "#delete problematic countries from table\n",
    "df_table = df_table[~df_table['Country/Region'].isin(['Cape Verde', 'Cruise Ship', 'Kosovo'])]"
   ]
  },
  {
   "cell_type": "code",
   "execution_count": 17,
   "id": "related-center",
   "metadata": {
    "execution": {
     "iopub.execute_input": "2021-07-14T12:10:36.067147Z",
     "iopub.status.busy": "2021-07-14T12:10:36.066535Z",
     "iopub.status.idle": "2021-07-14T12:10:36.068685Z",
     "shell.execute_reply": "2021-07-14T12:10:36.068110Z"
    },
    "papermill": {
     "duration": 0.05741,
     "end_time": "2021-07-14T12:10:36.068808",
     "exception": false,
     "start_time": "2021-07-14T12:10:36.011398",
     "status": "completed"
    },
    "tags": []
   },
   "outputs": [],
   "source": [
    "#hide\n",
    "metrics = [df_table.columns[index] for index in [1,2,5,6]]\n",
    "# s_china = df_table[df_table['Country/Region'].eq('China')][metrics].sum().add_prefix('China ')\n",
    "s_us = df_table[df_table['Country/Region'].eq('US')][metrics].sum().add_prefix('US ')\n",
    "s_eu = df_table[df_table['Continent'].eq('Europe')][metrics].sum().add_prefix('EU ')\n",
    "s_ind = df_table[df_table['Country/Region'].eq('India')][metrics].sum().add_prefix('India ')\n",
    "summary = {'updated': pd.to_datetime(dt_today), 'since': pd.to_datetime(dt_yday)}\n",
    "summary = {'updated': pd.to_datetime(dt_today), 'since': pd.to_datetime(dt_yday)}\n",
    "summary = {**summary, **df_table[metrics].sum(), **s_ind, **s_us, **s_eu}"
   ]
  },
  {
   "cell_type": "code",
   "execution_count": 18,
   "id": "engaging-syndrome",
   "metadata": {
    "execution": {
     "iopub.execute_input": "2021-07-14T12:10:36.146149Z",
     "iopub.status.busy": "2021-07-14T12:10:36.145563Z",
     "iopub.status.idle": "2021-07-14T12:10:36.159689Z",
     "shell.execute_reply": "2021-07-14T12:10:36.159131Z"
    },
    "papermill": {
     "duration": 0.055973,
     "end_time": "2021-07-14T12:10:36.159817",
     "exception": false,
     "start_time": "2021-07-14T12:10:36.103844",
     "status": "completed"
    },
    "tags": []
   },
   "outputs": [],
   "source": [
    "#hide\n",
    "dft_ct_new_cases = dft_cases.groupby(COL_REGION)[dt_cols].sum().diff(axis=1).fillna(0).astype(int)"
   ]
  },
  {
   "cell_type": "code",
   "execution_count": 19,
   "id": "neutral-assignment",
   "metadata": {
    "execution": {
     "iopub.execute_input": "2021-07-14T12:10:36.238107Z",
     "iopub.status.busy": "2021-07-14T12:10:36.237500Z",
     "iopub.status.idle": "2021-07-14T12:10:36.240008Z",
     "shell.execute_reply": "2021-07-14T12:10:36.240515Z"
    },
    "papermill": {
     "duration": 0.045949,
     "end_time": "2021-07-14T12:10:36.240658",
     "exception": false,
     "start_time": "2021-07-14T12:10:36.194709",
     "status": "completed"
    },
    "tags": []
   },
   "outputs": [],
   "source": [
    "#hide\n",
    "everydaycases = dft_ct_new_cases.cumsum(axis=1)"
   ]
  },
  {
   "cell_type": "code",
   "execution_count": 20,
   "id": "parliamentary-calgary",
   "metadata": {
    "execution": {
     "iopub.execute_input": "2021-07-14T12:10:36.315396Z",
     "iopub.status.busy": "2021-07-14T12:10:36.314778Z",
     "iopub.status.idle": "2021-07-14T12:10:36.917120Z",
     "shell.execute_reply": "2021-07-14T12:10:36.917999Z"
    },
    "papermill": {
     "duration": 0.642604,
     "end_time": "2021-07-14T12:10:36.918239",
     "exception": false,
     "start_time": "2021-07-14T12:10:36.275635",
     "status": "completed"
    },
    "tags": []
   },
   "outputs": [],
   "source": [
    "#hide\n",
    "import pandas as pd\n",
    "import matplotlib.pyplot as plt\n",
    "import matplotlib.ticker as ticker\n",
    "import matplotlib.animation as animation\n",
    "from IPython.display import HTML"
   ]
  },
  {
   "cell_type": "code",
   "execution_count": 21,
   "id": "lasting-extraction",
   "metadata": {
    "execution": {
     "iopub.execute_input": "2021-07-14T12:10:36.996554Z",
     "iopub.status.busy": "2021-07-14T12:10:36.995667Z",
     "iopub.status.idle": "2021-07-14T12:10:37.001653Z",
     "shell.execute_reply": "2021-07-14T12:10:37.000972Z"
    },
    "papermill": {
     "duration": 0.047301,
     "end_time": "2021-07-14T12:10:37.001831",
     "exception": false,
     "start_time": "2021-07-14T12:10:36.954530",
     "status": "completed"
    },
    "tags": []
   },
   "outputs": [],
   "source": [
    "#hide\n",
    "t = everydaycases.stack()"
   ]
  },
  {
   "cell_type": "code",
   "execution_count": 22,
   "id": "premier-sleeve",
   "metadata": {
    "execution": {
     "iopub.execute_input": "2021-07-14T12:10:37.077326Z",
     "iopub.status.busy": "2021-07-14T12:10:37.076729Z",
     "iopub.status.idle": "2021-07-14T12:10:37.087084Z",
     "shell.execute_reply": "2021-07-14T12:10:37.086577Z"
    },
    "papermill": {
     "duration": 0.050003,
     "end_time": "2021-07-14T12:10:37.087234",
     "exception": false,
     "start_time": "2021-07-14T12:10:37.037231",
     "status": "completed"
    },
    "tags": []
   },
   "outputs": [],
   "source": [
    "#hide\n",
    "g = t.reset_index(['Country/Region'])"
   ]
  },
  {
   "cell_type": "code",
   "execution_count": 23,
   "id": "distributed-pittsburgh",
   "metadata": {
    "execution": {
     "iopub.execute_input": "2021-07-14T12:10:37.161613Z",
     "iopub.status.busy": "2021-07-14T12:10:37.161014Z",
     "iopub.status.idle": "2021-07-14T12:10:37.163720Z",
     "shell.execute_reply": "2021-07-14T12:10:37.164269Z"
    },
    "papermill": {
     "duration": 0.042256,
     "end_time": "2021-07-14T12:10:37.164408",
     "exception": false,
     "start_time": "2021-07-14T12:10:37.122152",
     "status": "completed"
    },
    "tags": []
   },
   "outputs": [],
   "source": [
    "#hide\n",
    "g.index.name = 'date'"
   ]
  },
  {
   "cell_type": "code",
   "execution_count": 24,
   "id": "naked-donor",
   "metadata": {
    "execution": {
     "iopub.execute_input": "2021-07-14T12:10:37.239475Z",
     "iopub.status.busy": "2021-07-14T12:10:37.238850Z",
     "iopub.status.idle": "2021-07-14T12:10:37.241112Z",
     "shell.execute_reply": "2021-07-14T12:10:37.241672Z"
    },
    "papermill": {
     "duration": 0.042586,
     "end_time": "2021-07-14T12:10:37.241811",
     "exception": false,
     "start_time": "2021-07-14T12:10:37.199225",
     "status": "completed"
    },
    "tags": []
   },
   "outputs": [],
   "source": [
    "# #hide\n",
    "# g = g.reset_index(['date'])"
   ]
  },
  {
   "cell_type": "code",
   "execution_count": 25,
   "id": "incomplete-mustang",
   "metadata": {
    "execution": {
     "iopub.execute_input": "2021-07-14T12:10:37.316424Z",
     "iopub.status.busy": "2021-07-14T12:10:37.315806Z",
     "iopub.status.idle": "2021-07-14T12:10:37.320498Z",
     "shell.execute_reply": "2021-07-14T12:10:37.320024Z"
    },
    "papermill": {
     "duration": 0.043899,
     "end_time": "2021-07-14T12:10:37.320624",
     "exception": false,
     "start_time": "2021-07-14T12:10:37.276725",
     "status": "completed"
    },
    "tags": []
   },
   "outputs": [],
   "source": [
    "#hide\n",
    "# g.head()"
   ]
  },
  {
   "cell_type": "code",
   "execution_count": 26,
   "id": "specific-kruger",
   "metadata": {
    "execution": {
     "iopub.execute_input": "2021-07-14T12:10:37.395009Z",
     "iopub.status.busy": "2021-07-14T12:10:37.394413Z",
     "iopub.status.idle": "2021-07-14T12:10:37.396851Z",
     "shell.execute_reply": "2021-07-14T12:10:37.397408Z"
    },
    "papermill": {
     "duration": 0.041822,
     "end_time": "2021-07-14T12:10:37.397550",
     "exception": false,
     "start_time": "2021-07-14T12:10:37.355728",
     "status": "completed"
    },
    "tags": []
   },
   "outputs": [],
   "source": [
    "#hide\n",
    "# g.columns = ['date','country','cases']"
   ]
  },
  {
   "cell_type": "code",
   "execution_count": 27,
   "id": "tender-conversion",
   "metadata": {
    "execution": {
     "iopub.execute_input": "2021-07-14T12:10:37.472192Z",
     "iopub.status.busy": "2021-07-14T12:10:37.471598Z",
     "iopub.status.idle": "2021-07-14T12:10:37.474053Z",
     "shell.execute_reply": "2021-07-14T12:10:37.474609Z"
    },
    "papermill": {
     "duration": 0.042415,
     "end_time": "2021-07-14T12:10:37.474749",
     "exception": false,
     "start_time": "2021-07-14T12:10:37.432334",
     "status": "completed"
    },
    "tags": []
   },
   "outputs": [],
   "source": [
    "#hide\n",
    "# g['continent'] = g.country"
   ]
  },
  {
   "cell_type": "code",
   "execution_count": 28,
   "id": "substantial-wilderness",
   "metadata": {
    "execution": {
     "iopub.execute_input": "2021-07-14T12:10:37.549859Z",
     "iopub.status.busy": "2021-07-14T12:10:37.549266Z",
     "iopub.status.idle": "2021-07-14T12:10:37.551512Z",
     "shell.execute_reply": "2021-07-14T12:10:37.551956Z"
    },
    "papermill": {
     "duration": 0.042176,
     "end_time": "2021-07-14T12:10:37.552101",
     "exception": false,
     "start_time": "2021-07-14T12:10:37.509925",
     "status": "completed"
    },
    "tags": []
   },
   "outputs": [],
   "source": [
    "#hide\n",
    "# cols = list(g.columns.values)"
   ]
  },
  {
   "cell_type": "code",
   "execution_count": 29,
   "id": "solved-farming",
   "metadata": {
    "execution": {
     "iopub.execute_input": "2021-07-14T12:10:37.625968Z",
     "iopub.status.busy": "2021-07-14T12:10:37.625376Z",
     "iopub.status.idle": "2021-07-14T12:10:37.628004Z",
     "shell.execute_reply": "2021-07-14T12:10:37.628568Z"
    },
    "papermill": {
     "duration": 0.041845,
     "end_time": "2021-07-14T12:10:37.628709",
     "exception": false,
     "start_time": "2021-07-14T12:10:37.586864",
     "status": "completed"
    },
    "tags": []
   },
   "outputs": [],
   "source": [
    "#hide\n",
    "# cols.insert(0, cols.pop())"
   ]
  },
  {
   "cell_type": "code",
   "execution_count": 30,
   "id": "executed-adoption",
   "metadata": {
    "execution": {
     "iopub.execute_input": "2021-07-14T12:10:37.703423Z",
     "iopub.status.busy": "2021-07-14T12:10:37.702804Z",
     "iopub.status.idle": "2021-07-14T12:10:37.704576Z",
     "shell.execute_reply": "2021-07-14T12:10:37.705043Z"
    },
    "papermill": {
     "duration": 0.041611,
     "end_time": "2021-07-14T12:10:37.705183",
     "exception": false,
     "start_time": "2021-07-14T12:10:37.663572",
     "status": "completed"
    },
    "tags": []
   },
   "outputs": [],
   "source": [
    "#hide\n",
    "# g = g[cols]"
   ]
  },
  {
   "cell_type": "code",
   "execution_count": 31,
   "id": "subject-dublin",
   "metadata": {
    "execution": {
     "iopub.execute_input": "2021-07-14T12:10:37.778738Z",
     "iopub.status.busy": "2021-07-14T12:10:37.778138Z",
     "iopub.status.idle": "2021-07-14T12:10:37.780904Z",
     "shell.execute_reply": "2021-07-14T12:10:37.781458Z"
    },
    "papermill": {
     "duration": 0.04175,
     "end_time": "2021-07-14T12:10:37.781598",
     "exception": false,
     "start_time": "2021-07-14T12:10:37.739848",
     "status": "completed"
    },
    "tags": []
   },
   "outputs": [],
   "source": [
    "#hide\n",
    "# g['continent'] = g['continent'].map(mapping['map.continent'])"
   ]
  },
  {
   "cell_type": "code",
   "execution_count": 32,
   "id": "freelance-scout",
   "metadata": {
    "execution": {
     "iopub.execute_input": "2021-07-14T12:10:37.856051Z",
     "iopub.status.busy": "2021-07-14T12:10:37.855444Z",
     "iopub.status.idle": "2021-07-14T12:10:37.857633Z",
     "shell.execute_reply": "2021-07-14T12:10:37.857143Z"
    },
    "papermill": {
     "duration": 0.040774,
     "end_time": "2021-07-14T12:10:37.857753",
     "exception": false,
     "start_time": "2021-07-14T12:10:37.816979",
     "status": "completed"
    },
    "tags": []
   },
   "outputs": [],
   "source": [
    "#hide\n",
    "# g.head()"
   ]
  },
  {
   "cell_type": "code",
   "execution_count": 33,
   "id": "limited-engine",
   "metadata": {
    "execution": {
     "iopub.execute_input": "2021-07-14T12:10:37.931407Z",
     "iopub.status.busy": "2021-07-14T12:10:37.930785Z",
     "iopub.status.idle": "2021-07-14T12:10:37.933139Z",
     "shell.execute_reply": "2021-07-14T12:10:37.932644Z"
    },
    "papermill": {
     "duration": 0.040799,
     "end_time": "2021-07-14T12:10:37.933263",
     "exception": false,
     "start_time": "2021-07-14T12:10:37.892464",
     "status": "completed"
    },
    "tags": []
   },
   "outputs": [],
   "source": [
    "# hide\n",
    "# g['date'] = g['date'].astype('datetime64[ns]')"
   ]
  },
  {
   "cell_type": "code",
   "execution_count": 34,
   "id": "sophisticated-supervisor",
   "metadata": {
    "execution": {
     "iopub.execute_input": "2021-07-14T12:10:38.008204Z",
     "iopub.status.busy": "2021-07-14T12:10:38.007600Z",
     "iopub.status.idle": "2021-07-14T12:10:38.009385Z",
     "shell.execute_reply": "2021-07-14T12:10:38.009881Z"
    },
    "papermill": {
     "duration": 0.041259,
     "end_time": "2021-07-14T12:10:38.010020",
     "exception": false,
     "start_time": "2021-07-14T12:10:37.968761",
     "status": "completed"
    },
    "tags": []
   },
   "outputs": [],
   "source": [
    "#hide\n",
    "# g['date'] = g.date.dt.dayofyear"
   ]
  },
  {
   "cell_type": "code",
   "execution_count": 35,
   "id": "inside-dubai",
   "metadata": {
    "execution": {
     "iopub.execute_input": "2021-07-14T12:10:38.084054Z",
     "iopub.status.busy": "2021-07-14T12:10:38.083456Z",
     "iopub.status.idle": "2021-07-14T12:10:38.085751Z",
     "shell.execute_reply": "2021-07-14T12:10:38.086244Z"
    },
    "papermill": {
     "duration": 0.041612,
     "end_time": "2021-07-14T12:10:38.086382",
     "exception": false,
     "start_time": "2021-07-14T12:10:38.044770",
     "status": "completed"
    },
    "tags": []
   },
   "outputs": [],
   "source": [
    "#hide\n",
    "# g = g.rename(columns= {'continent':'group','country':'name','cases':'value'})"
   ]
  },
  {
   "cell_type": "code",
   "execution_count": 36,
   "id": "fleet-motorcycle",
   "metadata": {
    "execution": {
     "iopub.execute_input": "2021-07-14T12:10:38.161135Z",
     "iopub.status.busy": "2021-07-14T12:10:38.160544Z",
     "iopub.status.idle": "2021-07-14T12:10:38.162559Z",
     "shell.execute_reply": "2021-07-14T12:10:38.162996Z"
    },
    "papermill": {
     "duration": 0.041933,
     "end_time": "2021-07-14T12:10:38.163137",
     "exception": false,
     "start_time": "2021-07-14T12:10:38.121204",
     "status": "completed"
    },
    "tags": []
   },
   "outputs": [],
   "source": [
    "#hide\n",
    "# cols = ['name','group','day','value']"
   ]
  },
  {
   "cell_type": "code",
   "execution_count": 37,
   "id": "continued-sleeping",
   "metadata": {
    "execution": {
     "iopub.execute_input": "2021-07-14T12:10:38.237107Z",
     "iopub.status.busy": "2021-07-14T12:10:38.236517Z",
     "iopub.status.idle": "2021-07-14T12:10:38.239030Z",
     "shell.execute_reply": "2021-07-14T12:10:38.238535Z"
    },
    "papermill": {
     "duration": 0.041234,
     "end_time": "2021-07-14T12:10:38.239153",
     "exception": false,
     "start_time": "2021-07-14T12:10:38.197919",
     "status": "completed"
    },
    "tags": []
   },
   "outputs": [],
   "source": [
    "#hide\n",
    "# g.rename(columns= {'date':'day'},inplace = True)"
   ]
  },
  {
   "cell_type": "code",
   "execution_count": 38,
   "id": "major-fight",
   "metadata": {
    "execution": {
     "iopub.execute_input": "2021-07-14T12:10:38.313091Z",
     "iopub.status.busy": "2021-07-14T12:10:38.312505Z",
     "iopub.status.idle": "2021-07-14T12:10:38.314938Z",
     "shell.execute_reply": "2021-07-14T12:10:38.314469Z"
    },
    "papermill": {
     "duration": 0.040979,
     "end_time": "2021-07-14T12:10:38.315064",
     "exception": false,
     "start_time": "2021-07-14T12:10:38.274085",
     "status": "completed"
    },
    "tags": []
   },
   "outputs": [],
   "source": [
    "#hide\n",
    "# g = g[cols]"
   ]
  },
  {
   "cell_type": "code",
   "execution_count": 39,
   "id": "structured-mobile",
   "metadata": {
    "execution": {
     "iopub.execute_input": "2021-07-14T12:10:38.389571Z",
     "iopub.status.busy": "2021-07-14T12:10:38.388976Z",
     "iopub.status.idle": "2021-07-14T12:10:38.391430Z",
     "shell.execute_reply": "2021-07-14T12:10:38.391991Z"
    },
    "papermill": {
     "duration": 0.042285,
     "end_time": "2021-07-14T12:10:38.392128",
     "exception": false,
     "start_time": "2021-07-14T12:10:38.349843",
     "status": "completed"
    },
    "tags": []
   },
   "outputs": [],
   "source": [
    "# #hide\n",
    "# g = g[g.group.notna()]"
   ]
  },
  {
   "cell_type": "code",
   "execution_count": 40,
   "id": "determined-closing",
   "metadata": {
    "execution": {
     "iopub.execute_input": "2021-07-14T12:10:38.467253Z",
     "iopub.status.busy": "2021-07-14T12:10:38.466627Z",
     "iopub.status.idle": "2021-07-14T12:10:38.469036Z",
     "shell.execute_reply": "2021-07-14T12:10:38.469592Z"
    },
    "papermill": {
     "duration": 0.04268,
     "end_time": "2021-07-14T12:10:38.469736",
     "exception": false,
     "start_time": "2021-07-14T12:10:38.427056",
     "status": "completed"
    },
    "tags": []
   },
   "outputs": [],
   "source": [
    "# #hide\n",
    "# colors = dict(zip(\n",
    "#     [\"Oceania\", \"Europe\", \"Asia\", \"South America\", \"Middle East\", \"North America\", \"Africa\"],\n",
    "#     [\"#adb0ff\", \"#ffb3ff\", \"#90d595\", \"#e48381\", \"#aafbff\", \"#f7bb5f\", \"#eafb50\"]\n",
    "# ))\n",
    "# group_lk = g.set_index('name')['group'].to_dict()"
   ]
  },
  {
   "cell_type": "code",
   "execution_count": null,
   "id": "gross-drinking",
   "metadata": {
    "papermill": {
     "duration": 0.03472,
     "end_time": "2021-07-14T12:10:38.539329",
     "exception": false,
     "start_time": "2021-07-14T12:10:38.504609",
     "status": "completed"
    },
    "tags": []
   },
   "outputs": [],
   "source": []
  },
  {
   "cell_type": "code",
   "execution_count": 41,
   "id": "subject-macintosh",
   "metadata": {
    "execution": {
     "iopub.execute_input": "2021-07-14T12:10:38.615134Z",
     "iopub.status.busy": "2021-07-14T12:10:38.614524Z",
     "iopub.status.idle": "2021-07-14T12:10:38.616707Z",
     "shell.execute_reply": "2021-07-14T12:10:38.617176Z"
    },
    "papermill": {
     "duration": 0.04314,
     "end_time": "2021-07-14T12:10:38.617317",
     "exception": false,
     "start_time": "2021-07-14T12:10:38.574177",
     "status": "completed"
    },
    "tags": []
   },
   "outputs": [],
   "source": [
    "# #hide\n",
    "# fig, ax = plt.subplots(figsize=(15, 8))\n",
    "\n",
    "# def draw_barchart(current_day):\n",
    "#     dff = g[g['day'].eq(current_day)].sort_values(by='value', ascending=True).tail(10)\n",
    "#     ax.clear()\n",
    "#     ax.barh(dff['name'], dff['value'], color=[colors[group_lk[x]] for x in dff['name']])\n",
    "#     dx = dff['value'].max() / 200\n",
    "    \n",
    "#     for i, (value, name) in enumerate(zip(dff['value'], dff['name'])):\n",
    "#         ax.text(value-dx, i,     name,           size=14, weight=600, ha='right', va='bottom')\n",
    "#         ax.text(value-dx, i-.25, group_lk[name], size=10, color='#444444', ha='right', va='baseline')\n",
    "#         ax.text(value+dx, i,     f'{value:,.0f}',  size=14, ha='left',  va='center')\n",
    "#     ax.text(1, 0.4, current_day, transform=ax.transAxes, color='#777777', size=46, ha='right', weight=800)\n",
    "#     ax.text(0, 1.06, 'Population (thousands)', transform=ax.transAxes, size=12, color='#777777')\n",
    "#     ax.xaxis.set_major_formatter(ticker.StrMethodFormatter('{x:,.0f}'))\n",
    "#     ax.xaxis.set_ticks_position('top')\n",
    "#     ax.tick_params(axis='x', colors='#777777', labelsize=12)\n",
    "#     ax.set_yticks([])\n",
    "#     ax.margins(0, 0.01)\n",
    "#     ax.grid(which='major', axis='x', linestyle='-')\n",
    "#     ax.set_axisbelow(True)\n",
    "    \n",
    "#     ax.text(0, 1.15, 'Coronavirus',\n",
    "#             transform=ax.transAxes, size=24, weight=600, ha='left', va='top')\n",
    "# #     ax.text(1, 0, 'by @pratapvardhan; credit @jburnmurdoch', transform=ax.transAxes, color='#777777', ha='right',\n",
    "# #             bbox=dict(facecolor='white', alpha=0.8, edgecolor='white'))\n",
    "#     plt.box(False)"
   ]
  },
  {
   "cell_type": "code",
   "execution_count": 42,
   "id": "sexual-wages",
   "metadata": {
    "execution": {
     "iopub.execute_input": "2021-07-14T12:10:38.692026Z",
     "iopub.status.busy": "2021-07-14T12:10:38.691426Z",
     "iopub.status.idle": "2021-07-14T12:10:38.694399Z",
     "shell.execute_reply": "2021-07-14T12:10:38.694867Z"
    },
    "papermill": {
     "duration": 0.042716,
     "end_time": "2021-07-14T12:10:38.695006",
     "exception": false,
     "start_time": "2021-07-14T12:10:38.652290",
     "status": "completed"
    },
    "tags": []
   },
   "outputs": [],
   "source": [
    "# #hide_input\n",
    "# fig, ax = plt.subplots(figsize=(15, 8))\n",
    "# animator = animation.FuncAnimation(fig, draw_barchart, frames=range(g.day.values.min(), g.day.values.max()))\n",
    "# HTML(animator.to_jshtml())\n",
    "# # or use animator.to_html5_video() or animator.save() "
   ]
  },
  {
   "cell_type": "code",
   "execution_count": null,
   "id": "australian-container",
   "metadata": {
    "papermill": {
     "duration": 0.034835,
     "end_time": "2021-07-14T12:10:38.764793",
     "exception": false,
     "start_time": "2021-07-14T12:10:38.729958",
     "status": "completed"
    },
    "tags": []
   },
   "outputs": [],
   "source": []
  },
  {
   "cell_type": "code",
   "execution_count": null,
   "id": "mediterranean-pontiac",
   "metadata": {
    "papermill": {
     "duration": 0.034573,
     "end_time": "2021-07-14T12:10:38.834001",
     "exception": false,
     "start_time": "2021-07-14T12:10:38.799428",
     "status": "completed"
    },
    "tags": []
   },
   "outputs": [],
   "source": []
  },
  {
   "cell_type": "code",
   "execution_count": null,
   "id": "aging-legislature",
   "metadata": {
    "papermill": {
     "duration": 0.034801,
     "end_time": "2021-07-14T12:10:38.903767",
     "exception": false,
     "start_time": "2021-07-14T12:10:38.868966",
     "status": "completed"
    },
    "tags": []
   },
   "outputs": [],
   "source": []
  }
 ],
 "metadata": {
  "kernelspec": {
   "display_name": "Python 3",
   "language": "python",
   "name": "python3"
  },
  "language_info": {
   "codemirror_mode": {
    "name": "ipython",
    "version": 3
   },
   "file_extension": ".py",
   "mimetype": "text/x-python",
   "name": "python",
   "nbconvert_exporter": "python",
   "pygments_lexer": "ipython3",
   "version": "3.6.13"
  },
  "papermill": {
   "duration": 6.66499,
   "end_time": "2021-07-14T12:10:39.248067",
   "environment_variables": {},
   "exception": null,
   "input_path": "2020-03-21-covid19exp.ipynb",
   "output_path": "2020-03-21-covid19exp.ipynb",
   "parameters": {},
   "start_time": "2021-07-14T12:10:32.583077",
   "version": "2.0.0"
  }
 },
 "nbformat": 4,
 "nbformat_minor": 5
}