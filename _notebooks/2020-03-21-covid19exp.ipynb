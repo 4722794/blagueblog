{
 "cells": [
  {
   "cell_type": "markdown",
   "id": "muslim-click",
   "metadata": {
    "papermill": {
     "duration": 0.043495,
     "end_time": "2021-04-14T12:04:42.331591",
     "exception": false,
     "start_time": "2021-04-14T12:04:42.288096",
     "status": "completed"
    },
    "tags": []
   },
   "source": [
    "# COVID-19 Case Race\n",
    "> A race chart to see rising cases around the world\n",
    "\n",
    "- author: Hargun Oberoi\n",
    "- image: images/covid-overview.png\n",
    "- hide: false\n",
    "- badges: false"
   ]
  },
  {
   "cell_type": "code",
   "execution_count": 1,
   "id": "proof-material",
   "metadata": {
    "execution": {
     "iopub.execute_input": "2021-04-14T12:04:42.416622Z",
     "iopub.status.busy": "2021-04-14T12:04:42.415769Z",
     "iopub.status.idle": "2021-04-14T12:04:42.770198Z",
     "shell.execute_reply": "2021-04-14T12:04:42.770947Z"
    },
    "papermill": {
     "duration": 0.402733,
     "end_time": "2021-04-14T12:04:42.771126",
     "exception": false,
     "start_time": "2021-04-14T12:04:42.368393",
     "status": "completed"
    },
    "tags": []
   },
   "outputs": [],
   "source": [
    "#hide\n",
    "import numpy as np\n",
    "import pandas as pd\n",
    "from jinja2 import Template\n",
    "from IPython.display import HTML"
   ]
  },
  {
   "cell_type": "code",
   "execution_count": 2,
   "id": "developed-terminology",
   "metadata": {
    "execution": {
     "iopub.execute_input": "2021-04-14T12:04:42.850694Z",
     "iopub.status.busy": "2021-04-14T12:04:42.850064Z",
     "iopub.status.idle": "2021-04-14T12:04:42.852284Z",
     "shell.execute_reply": "2021-04-14T12:04:42.851772Z"
    },
    "papermill": {
     "duration": 0.044092,
     "end_time": "2021-04-14T12:04:42.852420",
     "exception": false,
     "start_time": "2021-04-14T12:04:42.808328",
     "status": "completed"
    },
    "tags": []
   },
   "outputs": [],
   "source": [
    "#hide\n",
    "\n",
    "# FETCH\n",
    "base_url = 'https://raw.githubusercontent.com/pratapvardhan/notebooks/master/covid19/'\n",
    "paths = {\n",
    "    'mapping': base_url + 'mapping_countries.csv',\n",
    "    'overview': base_url + 'overview.tpl'\n",
    "}"
   ]
  },
  {
   "cell_type": "code",
   "execution_count": 3,
   "id": "dynamic-saver",
   "metadata": {
    "execution": {
     "iopub.execute_input": "2021-04-14T12:04:42.931316Z",
     "iopub.status.busy": "2021-04-14T12:04:42.930746Z",
     "iopub.status.idle": "2021-04-14T12:04:42.934307Z",
     "shell.execute_reply": "2021-04-14T12:04:42.934828Z"
    },
    "papermill": {
     "duration": 0.047658,
     "end_time": "2021-04-14T12:04:42.934962",
     "exception": false,
     "start_time": "2021-04-14T12:04:42.887304",
     "status": "completed"
    },
    "tags": []
   },
   "outputs": [
    {
     "data": {
      "text/plain": [
       "'https://raw.githubusercontent.com/pratapvardhan/notebooks/master/covid19/mapping_countries.csv'"
      ]
     },
     "execution_count": 3,
     "metadata": {},
     "output_type": "execute_result"
    }
   ],
   "source": [
    "#hide\n",
    "paths['mapping']"
   ]
  },
  {
   "cell_type": "code",
   "execution_count": 4,
   "id": "urban-software",
   "metadata": {
    "execution": {
     "iopub.execute_input": "2021-04-14T12:04:43.011771Z",
     "iopub.status.busy": "2021-04-14T12:04:43.011091Z",
     "iopub.status.idle": "2021-04-14T12:04:43.013679Z",
     "shell.execute_reply": "2021-04-14T12:04:43.013183Z"
    },
    "papermill": {
     "duration": 0.042797,
     "end_time": "2021-04-14T12:04:43.013797",
     "exception": false,
     "start_time": "2021-04-14T12:04:42.971000",
     "status": "completed"
    },
    "tags": []
   },
   "outputs": [],
   "source": [
    "#hide\n",
    "def get_mappings(url):\n",
    "    df = pd.read_csv(url)\n",
    "    return {\n",
    "        'df': df,\n",
    "        'replace.country': dict(df.dropna(subset=['Name']).set_index('Country')['Name']),\n",
    "        'map.continent': dict(df.set_index('Name')['Continent'])\n",
    "    }"
   ]
  },
  {
   "cell_type": "code",
   "execution_count": 5,
   "id": "intimate-machinery",
   "metadata": {
    "execution": {
     "iopub.execute_input": "2021-04-14T12:04:43.089240Z",
     "iopub.status.busy": "2021-04-14T12:04:43.088640Z",
     "iopub.status.idle": "2021-04-14T12:04:43.129797Z",
     "shell.execute_reply": "2021-04-14T12:04:43.130350Z"
    },
    "papermill": {
     "duration": 0.08352,
     "end_time": "2021-04-14T12:04:43.130500",
     "exception": false,
     "start_time": "2021-04-14T12:04:43.046980",
     "status": "completed"
    },
    "tags": []
   },
   "outputs": [],
   "source": [
    "#hide\n",
    "mapping = get_mappings(paths['mapping'])"
   ]
  },
  {
   "cell_type": "code",
   "execution_count": 6,
   "id": "certified-tactics",
   "metadata": {
    "execution": {
     "iopub.execute_input": "2021-04-14T12:04:43.208305Z",
     "iopub.status.busy": "2021-04-14T12:04:43.207672Z",
     "iopub.status.idle": "2021-04-14T12:04:43.210198Z",
     "shell.execute_reply": "2021-04-14T12:04:43.210741Z"
    },
    "papermill": {
     "duration": 0.043602,
     "end_time": "2021-04-14T12:04:43.210893",
     "exception": false,
     "start_time": "2021-04-14T12:04:43.167291",
     "status": "completed"
    },
    "tags": []
   },
   "outputs": [],
   "source": [
    "#hide\n",
    "def get_template(path):\n",
    "    from urllib.parse import urlparse\n",
    "    if bool(urlparse(path).netloc):\n",
    "        from urllib.request import urlopen\n",
    "        return urlopen(path).read().decode('utf8')\n",
    "    return open(path).read()"
   ]
  },
  {
   "cell_type": "code",
   "execution_count": 7,
   "id": "realistic-blast",
   "metadata": {
    "execution": {
     "iopub.execute_input": "2021-04-14T12:04:43.288400Z",
     "iopub.status.busy": "2021-04-14T12:04:43.287738Z",
     "iopub.status.idle": "2021-04-14T12:04:43.290286Z",
     "shell.execute_reply": "2021-04-14T12:04:43.289779Z"
    },
    "papermill": {
     "duration": 0.043372,
     "end_time": "2021-04-14T12:04:43.290402",
     "exception": false,
     "start_time": "2021-04-14T12:04:43.247030",
     "status": "completed"
    },
    "tags": []
   },
   "outputs": [],
   "source": [
    "#hide\n",
    "def get_frame(name):\n",
    "    url = (\n",
    "        'https://raw.githubusercontent.com/CSSEGISandData/COVID-19/master/csse_covid_19_data/'\n",
    "        f'csse_covid_19_time_series/time_series_covid19_{name}_global.csv')\n",
    "    df = pd.read_csv(url)\n",
    "    # rename countries\n",
    "    df['Country/Region'] = df['Country/Region'].replace(mapping['replace.country'])\n",
    "    return df"
   ]
  },
  {
   "cell_type": "code",
   "execution_count": 8,
   "id": "affiliated-characterization",
   "metadata": {
    "execution": {
     "iopub.execute_input": "2021-04-14T12:04:43.365623Z",
     "iopub.status.busy": "2021-04-14T12:04:43.365009Z",
     "iopub.status.idle": "2021-04-14T12:04:43.367223Z",
     "shell.execute_reply": "2021-04-14T12:04:43.366682Z"
    },
    "papermill": {
     "duration": 0.042054,
     "end_time": "2021-04-14T12:04:43.367336",
     "exception": false,
     "start_time": "2021-04-14T12:04:43.325282",
     "status": "completed"
    },
    "tags": []
   },
   "outputs": [],
   "source": [
    "#hide\n",
    "def get_dates(df):\n",
    "    dt_cols = df.columns[~df.columns.isin(['Province/State', 'Country/Region', 'Lat', 'Long'])]\n",
    "    LAST_DATE_I = -1\n",
    "    # sometimes last column may be empty, then go backwards\n",
    "    for i in range(-1, -len(dt_cols), -1):\n",
    "        if not df[dt_cols[i]].fillna(0).eq(0).all():\n",
    "            LAST_DATE_I = i\n",
    "            break\n",
    "    return LAST_DATE_I, dt_cols"
   ]
  },
  {
   "cell_type": "code",
   "execution_count": 9,
   "id": "recent-optimization",
   "metadata": {
    "execution": {
     "iopub.execute_input": "2021-04-14T12:04:43.444207Z",
     "iopub.status.busy": "2021-04-14T12:04:43.443599Z",
     "iopub.status.idle": "2021-04-14T12:04:43.793048Z",
     "shell.execute_reply": "2021-04-14T12:04:43.792547Z"
    },
    "papermill": {
     "duration": 0.390776,
     "end_time": "2021-04-14T12:04:43.793178",
     "exception": false,
     "start_time": "2021-04-14T12:04:43.402402",
     "status": "completed"
    },
    "tags": []
   },
   "outputs": [],
   "source": [
    "#hide\n",
    "COL_REGION = 'Country/Region'\n",
    "# Confirmed, Recovered, Deaths\n",
    "df = get_frame('confirmed')\n",
    "# dft_: timeseries, dfc_: today country agg\n",
    "dft_cases = df\n",
    "dft_deaths = get_frame('deaths')\n",
    "dft_recovered = get_frame('recovered')\n",
    "LAST_DATE_I, dt_cols = get_dates(df)"
   ]
  },
  {
   "cell_type": "code",
   "execution_count": 10,
   "id": "absolute-copper",
   "metadata": {
    "execution": {
     "iopub.execute_input": "2021-04-14T12:04:43.870328Z",
     "iopub.status.busy": "2021-04-14T12:04:43.869644Z",
     "iopub.status.idle": "2021-04-14T12:04:43.872141Z",
     "shell.execute_reply": "2021-04-14T12:04:43.871632Z"
    },
    "papermill": {
     "duration": 0.041714,
     "end_time": "2021-04-14T12:04:43.872297",
     "exception": false,
     "start_time": "2021-04-14T12:04:43.830583",
     "status": "completed"
    },
    "tags": []
   },
   "outputs": [],
   "source": [
    "#hide\n",
    "LAST_DATE_I, dt_cols = get_dates(df)\n",
    "dt_today =dt_cols[LAST_DATE_I]\n",
    "# dt_5day = dt_cols[LAST_DATE_I - 5]\n",
    "dt_yday = dt_cols[LAST_DATE_I - 1]"
   ]
  },
  {
   "cell_type": "code",
   "execution_count": 11,
   "id": "restricted-sheriff",
   "metadata": {
    "execution": {
     "iopub.execute_input": "2021-04-14T12:04:43.955698Z",
     "iopub.status.busy": "2021-04-14T12:04:43.955036Z",
     "iopub.status.idle": "2021-04-14T12:04:43.964745Z",
     "shell.execute_reply": "2021-04-14T12:04:43.964090Z"
    },
    "papermill": {
     "duration": 0.055213,
     "end_time": "2021-04-14T12:04:43.964885",
     "exception": false,
     "start_time": "2021-04-14T12:04:43.909672",
     "status": "completed"
    },
    "tags": []
   },
   "outputs": [],
   "source": [
    "#hide\n",
    "dfc_cases = dft_cases.groupby(COL_REGION)[dt_today].sum()\n",
    "dfc_deaths = dft_deaths.groupby(COL_REGION)[dt_today].sum()\n",
    "# dfp_cases = dft_cases.groupby(COL_REGION)[dt_5day].sum()\n",
    "# dfp_deaths = dft_deaths.groupby(COL_REGION)[dt_5day].sum()\n",
    "dfp_cases = dft_cases.groupby(COL_REGION)[dt_yday].sum()\n",
    "dfp_deaths = dft_deaths.groupby(COL_REGION)[dt_yday].sum()"
   ]
  },
  {
   "cell_type": "code",
   "execution_count": 12,
   "id": "deluxe-hepatitis",
   "metadata": {
    "execution": {
     "iopub.execute_input": "2021-04-14T12:04:44.053919Z",
     "iopub.status.busy": "2021-04-14T12:04:44.053190Z",
     "iopub.status.idle": "2021-04-14T12:04:44.059020Z",
     "shell.execute_reply": "2021-04-14T12:04:44.058502Z"
    },
    "papermill": {
     "duration": 0.055393,
     "end_time": "2021-04-14T12:04:44.059142",
     "exception": false,
     "start_time": "2021-04-14T12:04:44.003749",
     "status": "completed"
    },
    "tags": []
   },
   "outputs": [],
   "source": [
    "#hide\n",
    "df_table = (pd.DataFrame(dict(Cases = dfc_cases, Deaths = dfc_deaths, PCases = dfp_cases, PDeaths = dfp_deaths))\n",
    "            .sort_values(by = ['Cases','Deaths'], ascending = [False, False])\n",
    "            .reset_index())"
   ]
  },
  {
   "cell_type": "code",
   "execution_count": 13,
   "id": "educational-chancellor",
   "metadata": {
    "execution": {
     "iopub.execute_input": "2021-04-14T12:04:44.152374Z",
     "iopub.status.busy": "2021-04-14T12:04:44.151559Z",
     "iopub.status.idle": "2021-04-14T12:04:44.160955Z",
     "shell.execute_reply": "2021-04-14T12:04:44.161407Z"
    },
    "papermill": {
     "duration": 0.065138,
     "end_time": "2021-04-14T12:04:44.161560",
     "exception": false,
     "start_time": "2021-04-14T12:04:44.096422",
     "status": "completed"
    },
    "tags": []
   },
   "outputs": [
    {
     "data": {
      "text/html": [
       "<div>\n",
       "<style scoped>\n",
       "    .dataframe tbody tr th:only-of-type {\n",
       "        vertical-align: middle;\n",
       "    }\n",
       "\n",
       "    .dataframe tbody tr th {\n",
       "        vertical-align: top;\n",
       "    }\n",
       "\n",
       "    .dataframe thead th {\n",
       "        text-align: right;\n",
       "    }\n",
       "</style>\n",
       "<table border=\"1\" class=\"dataframe\">\n",
       "  <thead>\n",
       "    <tr style=\"text-align: right;\">\n",
       "      <th></th>\n",
       "      <th>Country/Region</th>\n",
       "      <th>Cases</th>\n",
       "      <th>Deaths</th>\n",
       "      <th>PCases</th>\n",
       "      <th>PDeaths</th>\n",
       "      <th>Cases (+)</th>\n",
       "      <th>Deaths (+)</th>\n",
       "      <th>Fatality Rate</th>\n",
       "      <th>Continent</th>\n",
       "    </tr>\n",
       "  </thead>\n",
       "  <tbody>\n",
       "    <tr>\n",
       "      <th>0</th>\n",
       "      <td>US</td>\n",
       "      <td>31345985</td>\n",
       "      <td>563446</td>\n",
       "      <td>31268107</td>\n",
       "      <td>562533</td>\n",
       "      <td>77878</td>\n",
       "      <td>913</td>\n",
       "      <td>1.80</td>\n",
       "      <td>North America</td>\n",
       "    </tr>\n",
       "    <tr>\n",
       "      <th>1</th>\n",
       "      <td>India</td>\n",
       "      <td>13873825</td>\n",
       "      <td>172085</td>\n",
       "      <td>13689453</td>\n",
       "      <td>171058</td>\n",
       "      <td>184372</td>\n",
       "      <td>1027</td>\n",
       "      <td>1.24</td>\n",
       "      <td>Asia</td>\n",
       "    </tr>\n",
       "    <tr>\n",
       "      <th>2</th>\n",
       "      <td>Brazil</td>\n",
       "      <td>13599994</td>\n",
       "      <td>358425</td>\n",
       "      <td>13517808</td>\n",
       "      <td>354617</td>\n",
       "      <td>82186</td>\n",
       "      <td>3808</td>\n",
       "      <td>2.64</td>\n",
       "      <td>South America</td>\n",
       "    </tr>\n",
       "    <tr>\n",
       "      <th>3</th>\n",
       "      <td>France</td>\n",
       "      <td>5167265</td>\n",
       "      <td>99639</td>\n",
       "      <td>5128140</td>\n",
       "      <td>99294</td>\n",
       "      <td>39125</td>\n",
       "      <td>345</td>\n",
       "      <td>1.93</td>\n",
       "      <td>Europe</td>\n",
       "    </tr>\n",
       "    <tr>\n",
       "      <th>4</th>\n",
       "      <td>Russia</td>\n",
       "      <td>4605444</td>\n",
       "      <td>101882</td>\n",
       "      <td>4597400</td>\n",
       "      <td>101552</td>\n",
       "      <td>8044</td>\n",
       "      <td>330</td>\n",
       "      <td>2.21</td>\n",
       "      <td>Europe</td>\n",
       "    </tr>\n",
       "  </tbody>\n",
       "</table>\n",
       "</div>"
      ],
      "text/plain": [
       "  Country/Region     Cases  Deaths    PCases  PDeaths  Cases (+)  Deaths (+)  \\\n",
       "0             US  31345985  563446  31268107   562533      77878         913   \n",
       "1          India  13873825  172085  13689453   171058     184372        1027   \n",
       "2         Brazil  13599994  358425  13517808   354617      82186        3808   \n",
       "3         France   5167265   99639   5128140    99294      39125         345   \n",
       "4         Russia   4605444  101882   4597400   101552       8044         330   \n",
       "\n",
       "   Fatality Rate      Continent  \n",
       "0           1.80  North America  \n",
       "1           1.24           Asia  \n",
       "2           2.64  South America  \n",
       "3           1.93         Europe  \n",
       "4           2.21         Europe  "
      ]
     },
     "execution_count": 13,
     "metadata": {},
     "output_type": "execute_result"
    }
   ],
   "source": [
    "#hide\n",
    "for c in 'Cases, Deaths'.split(', '):\n",
    "    df_table[f'{c} (+)'] = (df_table[c] - df_table[f'P{c}']).clip(0)\n",
    "    #Clip ça veut dire, les chiffres negatif sont interdit\n",
    "df_table['Fatality Rate'] = (100* df_table['Deaths']/ df_table['Cases']).round(2)\n",
    "df_table['Continent'] = df_table['Country/Region'].map(mapping['map.continent'])\n",
    "df_table.head(5)"
   ]
  },
  {
   "cell_type": "code",
   "execution_count": 14,
   "id": "aboriginal-bulgaria",
   "metadata": {
    "execution": {
     "iopub.execute_input": "2021-04-14T12:04:44.237892Z",
     "iopub.status.busy": "2021-04-14T12:04:44.237288Z",
     "iopub.status.idle": "2021-04-14T12:04:44.240799Z",
     "shell.execute_reply": "2021-04-14T12:04:44.240235Z"
    },
    "papermill": {
     "duration": 0.043238,
     "end_time": "2021-04-14T12:04:44.240916",
     "exception": false,
     "start_time": "2021-04-14T12:04:44.197678",
     "status": "completed"
    },
    "tags": []
   },
   "outputs": [],
   "source": [
    "#hide\n",
    "#delete problematic countries from table\n",
    "df_table = df_table[~df_table['Country/Region'].isin(['Cape Verde', 'Cruise Ship', 'Kosovo'])]"
   ]
  },
  {
   "cell_type": "code",
   "execution_count": 15,
   "id": "fantastic-effect",
   "metadata": {
    "execution": {
     "iopub.execute_input": "2021-04-14T12:04:44.326486Z",
     "iopub.status.busy": "2021-04-14T12:04:44.325811Z",
     "iopub.status.idle": "2021-04-14T12:04:44.347124Z",
     "shell.execute_reply": "2021-04-14T12:04:44.346621Z"
    },
    "papermill": {
     "duration": 0.067007,
     "end_time": "2021-04-14T12:04:44.347250",
     "exception": false,
     "start_time": "2021-04-14T12:04:44.280243",
     "status": "completed"
    },
    "tags": []
   },
   "outputs": [
    {
     "data": {
      "text/html": [
       "<div>\n",
       "<style scoped>\n",
       "    .dataframe tbody tr th:only-of-type {\n",
       "        vertical-align: middle;\n",
       "    }\n",
       "\n",
       "    .dataframe tbody tr th {\n",
       "        vertical-align: top;\n",
       "    }\n",
       "\n",
       "    .dataframe thead th {\n",
       "        text-align: right;\n",
       "    }\n",
       "</style>\n",
       "<table border=\"1\" class=\"dataframe\">\n",
       "  <thead>\n",
       "    <tr style=\"text-align: right;\">\n",
       "      <th></th>\n",
       "      <th>Country/Region</th>\n",
       "      <th>Cases</th>\n",
       "      <th>Deaths</th>\n",
       "      <th>PCases</th>\n",
       "      <th>PDeaths</th>\n",
       "      <th>Cases (+)</th>\n",
       "      <th>Deaths (+)</th>\n",
       "      <th>Fatality Rate</th>\n",
       "      <th>Continent</th>\n",
       "    </tr>\n",
       "  </thead>\n",
       "  <tbody>\n",
       "    <tr>\n",
       "      <th>0</th>\n",
       "      <td>US</td>\n",
       "      <td>31345985</td>\n",
       "      <td>563446</td>\n",
       "      <td>31268107</td>\n",
       "      <td>562533</td>\n",
       "      <td>77878</td>\n",
       "      <td>913</td>\n",
       "      <td>1.8</td>\n",
       "      <td>North America</td>\n",
       "    </tr>\n",
       "    <tr>\n",
       "      <th>1</th>\n",
       "      <td>India</td>\n",
       "      <td>13873825</td>\n",
       "      <td>172085</td>\n",
       "      <td>13689453</td>\n",
       "      <td>171058</td>\n",
       "      <td>184372</td>\n",
       "      <td>1027</td>\n",
       "      <td>1.2</td>\n",
       "      <td>Asia</td>\n",
       "    </tr>\n",
       "    <tr>\n",
       "      <th>2</th>\n",
       "      <td>Brazil</td>\n",
       "      <td>13599994</td>\n",
       "      <td>358425</td>\n",
       "      <td>13517808</td>\n",
       "      <td>354617</td>\n",
       "      <td>82186</td>\n",
       "      <td>3808</td>\n",
       "      <td>2.6</td>\n",
       "      <td>South America</td>\n",
       "    </tr>\n",
       "    <tr>\n",
       "      <th>3</th>\n",
       "      <td>France</td>\n",
       "      <td>5167265</td>\n",
       "      <td>99639</td>\n",
       "      <td>5128140</td>\n",
       "      <td>99294</td>\n",
       "      <td>39125</td>\n",
       "      <td>345</td>\n",
       "      <td>1.9</td>\n",
       "      <td>Europe</td>\n",
       "    </tr>\n",
       "    <tr>\n",
       "      <th>4</th>\n",
       "      <td>Russia</td>\n",
       "      <td>4605444</td>\n",
       "      <td>101882</td>\n",
       "      <td>4597400</td>\n",
       "      <td>101552</td>\n",
       "      <td>8044</td>\n",
       "      <td>330</td>\n",
       "      <td>2.2</td>\n",
       "      <td>Europe</td>\n",
       "    </tr>\n",
       "  </tbody>\n",
       "</table>\n",
       "</div>"
      ],
      "text/plain": [
       "  Country/Region     Cases  Deaths    PCases  PDeaths  Cases (+)  Deaths (+)  \\\n",
       "0             US  31345985  563446  31268107   562533      77878         913   \n",
       "1          India  13873825  172085  13689453   171058     184372        1027   \n",
       "2         Brazil  13599994  358425  13517808   354617      82186        3808   \n",
       "3         France   5167265   99639   5128140    99294      39125         345   \n",
       "4         Russia   4605444  101882   4597400   101552       8044         330   \n",
       "\n",
       "   Fatality Rate      Continent  \n",
       "0            1.8  North America  \n",
       "1            1.2           Asia  \n",
       "2            2.6  South America  \n",
       "3            1.9         Europe  \n",
       "4            2.2         Europe  "
      ]
     },
     "execution_count": 15,
     "metadata": {},
     "output_type": "execute_result"
    }
   ],
   "source": [
    "#hide\n",
    "df_table = (pd.DataFrame(dict(Cases=dfc_cases, Deaths=dfc_deaths, PCases=dfp_cases, PDeaths=dfp_deaths))\n",
    "             .sort_values(by=['Cases', 'Deaths'], ascending=[False, False])\n",
    "             .reset_index())\n",
    "df_table.rename(columns={'index': 'Country/Region'}, inplace=True)\n",
    "for c in 'Cases, Deaths'.split(', '):\n",
    "    df_table[f'{c} (+)'] = (df_table[c] - df_table[f'P{c}']).clip(0)  # DATA BUG\n",
    "df_table['Fatality Rate'] = (100 * df_table['Deaths'] / df_table['Cases']).round(1)\n",
    "df_table['Continent'] = df_table['Country/Region'].map(mapping['map.continent'])\n",
    "df_table.head(5)"
   ]
  },
  {
   "cell_type": "code",
   "execution_count": 16,
   "id": "fewer-occasion",
   "metadata": {
    "execution": {
     "iopub.execute_input": "2021-04-14T12:04:44.428755Z",
     "iopub.status.busy": "2021-04-14T12:04:44.427979Z",
     "iopub.status.idle": "2021-04-14T12:04:44.430575Z",
     "shell.execute_reply": "2021-04-14T12:04:44.429917Z"
    },
    "papermill": {
     "duration": 0.046428,
     "end_time": "2021-04-14T12:04:44.430712",
     "exception": false,
     "start_time": "2021-04-14T12:04:44.384284",
     "status": "completed"
    },
    "tags": []
   },
   "outputs": [],
   "source": [
    "#hide\n",
    "#delete problematic countries from table\n",
    "df_table = df_table[~df_table['Country/Region'].isin(['Cape Verde', 'Cruise Ship', 'Kosovo'])]"
   ]
  },
  {
   "cell_type": "code",
   "execution_count": 17,
   "id": "related-center",
   "metadata": {
    "execution": {
     "iopub.execute_input": "2021-04-14T12:04:44.540562Z",
     "iopub.status.busy": "2021-04-14T12:04:44.539929Z",
     "iopub.status.idle": "2021-04-14T12:04:44.542385Z",
     "shell.execute_reply": "2021-04-14T12:04:44.541706Z"
    },
    "papermill": {
     "duration": 0.074575,
     "end_time": "2021-04-14T12:04:44.542526",
     "exception": false,
     "start_time": "2021-04-14T12:04:44.467951",
     "status": "completed"
    },
    "tags": []
   },
   "outputs": [],
   "source": [
    "#hide\n",
    "metrics = [df_table.columns[index] for index in [1,2,5,6]]\n",
    "# s_china = df_table[df_table['Country/Region'].eq('China')][metrics].sum().add_prefix('China ')\n",
    "s_us = df_table[df_table['Country/Region'].eq('US')][metrics].sum().add_prefix('US ')\n",
    "s_eu = df_table[df_table['Continent'].eq('Europe')][metrics].sum().add_prefix('EU ')\n",
    "s_ind = df_table[df_table['Country/Region'].eq('India')][metrics].sum().add_prefix('India ')\n",
    "summary = {'updated': pd.to_datetime(dt_today), 'since': pd.to_datetime(dt_yday)}\n",
    "summary = {'updated': pd.to_datetime(dt_today), 'since': pd.to_datetime(dt_yday)}\n",
    "summary = {**summary, **df_table[metrics].sum(), **s_ind, **s_us, **s_eu}"
   ]
  },
  {
   "cell_type": "code",
   "execution_count": 18,
   "id": "engaging-syndrome",
   "metadata": {
    "execution": {
     "iopub.execute_input": "2021-04-14T12:04:44.630808Z",
     "iopub.status.busy": "2021-04-14T12:04:44.624255Z",
     "iopub.status.idle": "2021-04-14T12:04:44.635989Z",
     "shell.execute_reply": "2021-04-14T12:04:44.636521Z"
    },
    "papermill": {
     "duration": 0.057315,
     "end_time": "2021-04-14T12:04:44.636694",
     "exception": false,
     "start_time": "2021-04-14T12:04:44.579379",
     "status": "completed"
    },
    "tags": []
   },
   "outputs": [],
   "source": [
    "#hide\n",
    "dft_ct_new_cases = dft_cases.groupby(COL_REGION)[dt_cols].sum().diff(axis=1).fillna(0).astype(int)"
   ]
  },
  {
   "cell_type": "code",
   "execution_count": 19,
   "id": "neutral-assignment",
   "metadata": {
    "execution": {
     "iopub.execute_input": "2021-04-14T12:04:44.720911Z",
     "iopub.status.busy": "2021-04-14T12:04:44.720208Z",
     "iopub.status.idle": "2021-04-14T12:04:44.722143Z",
     "shell.execute_reply": "2021-04-14T12:04:44.722631Z"
    },
    "papermill": {
     "duration": 0.048983,
     "end_time": "2021-04-14T12:04:44.722767",
     "exception": false,
     "start_time": "2021-04-14T12:04:44.673784",
     "status": "completed"
    },
    "tags": []
   },
   "outputs": [],
   "source": [
    "#hide\n",
    "everydaycases = dft_ct_new_cases.cumsum(axis=1)"
   ]
  },
  {
   "cell_type": "code",
   "execution_count": 20,
   "id": "parliamentary-calgary",
   "metadata": {
    "execution": {
     "iopub.execute_input": "2021-04-14T12:04:44.800590Z",
     "iopub.status.busy": "2021-04-14T12:04:44.800022Z",
     "iopub.status.idle": "2021-04-14T12:04:45.346121Z",
     "shell.execute_reply": "2021-04-14T12:04:45.344926Z"
    },
    "papermill": {
     "duration": 0.586846,
     "end_time": "2021-04-14T12:04:45.346249",
     "exception": false,
     "start_time": "2021-04-14T12:04:44.759403",
     "status": "completed"
    },
    "tags": []
   },
   "outputs": [],
   "source": [
    "#hide\n",
    "import pandas as pd\n",
    "import matplotlib.pyplot as plt\n",
    "import matplotlib.ticker as ticker\n",
    "import matplotlib.animation as animation\n",
    "from IPython.display import HTML"
   ]
  },
  {
   "cell_type": "code",
   "execution_count": 21,
   "id": "lasting-extraction",
   "metadata": {
    "execution": {
     "iopub.execute_input": "2021-04-14T12:04:45.424957Z",
     "iopub.status.busy": "2021-04-14T12:04:45.424385Z",
     "iopub.status.idle": "2021-04-14T12:04:45.429183Z",
     "shell.execute_reply": "2021-04-14T12:04:45.429624Z"
    },
    "papermill": {
     "duration": 0.047209,
     "end_time": "2021-04-14T12:04:45.429771",
     "exception": false,
     "start_time": "2021-04-14T12:04:45.382562",
     "status": "completed"
    },
    "tags": []
   },
   "outputs": [],
   "source": [
    "#hide\n",
    "t = everydaycases.stack()"
   ]
  },
  {
   "cell_type": "code",
   "execution_count": 22,
   "id": "premier-sleeve",
   "metadata": {
    "execution": {
     "iopub.execute_input": "2021-04-14T12:04:45.509421Z",
     "iopub.status.busy": "2021-04-14T12:04:45.508819Z",
     "iopub.status.idle": "2021-04-14T12:04:45.516601Z",
     "shell.execute_reply": "2021-04-14T12:04:45.516074Z"
    },
    "papermill": {
     "duration": 0.047688,
     "end_time": "2021-04-14T12:04:45.516713",
     "exception": false,
     "start_time": "2021-04-14T12:04:45.469025",
     "status": "completed"
    },
    "tags": []
   },
   "outputs": [],
   "source": [
    "#hide\n",
    "g = t.reset_index(['Country/Region'])"
   ]
  },
  {
   "cell_type": "code",
   "execution_count": 23,
   "id": "distributed-pittsburgh",
   "metadata": {
    "execution": {
     "iopub.execute_input": "2021-04-14T12:04:45.602335Z",
     "iopub.status.busy": "2021-04-14T12:04:45.601691Z",
     "iopub.status.idle": "2021-04-14T12:04:45.603602Z",
     "shell.execute_reply": "2021-04-14T12:04:45.604178Z"
    },
    "papermill": {
     "duration": 0.045463,
     "end_time": "2021-04-14T12:04:45.604404",
     "exception": false,
     "start_time": "2021-04-14T12:04:45.558941",
     "status": "completed"
    },
    "tags": []
   },
   "outputs": [],
   "source": [
    "#hide\n",
    "g.index.name = 'date'"
   ]
  },
  {
   "cell_type": "code",
   "execution_count": 24,
   "id": "naked-donor",
   "metadata": {
    "execution": {
     "iopub.execute_input": "2021-04-14T12:04:45.687915Z",
     "iopub.status.busy": "2021-04-14T12:04:45.687248Z",
     "iopub.status.idle": "2021-04-14T12:04:45.689715Z",
     "shell.execute_reply": "2021-04-14T12:04:45.689163Z"
    },
    "papermill": {
     "duration": 0.0458,
     "end_time": "2021-04-14T12:04:45.689855",
     "exception": false,
     "start_time": "2021-04-14T12:04:45.644055",
     "status": "completed"
    },
    "tags": []
   },
   "outputs": [],
   "source": [
    "# #hide\n",
    "# g = g.reset_index(['date'])"
   ]
  },
  {
   "cell_type": "code",
   "execution_count": 25,
   "id": "incomplete-mustang",
   "metadata": {
    "execution": {
     "iopub.execute_input": "2021-04-14T12:04:45.768910Z",
     "iopub.status.busy": "2021-04-14T12:04:45.768295Z",
     "iopub.status.idle": "2021-04-14T12:04:45.770074Z",
     "shell.execute_reply": "2021-04-14T12:04:45.770609Z"
    },
    "papermill": {
     "duration": 0.04313,
     "end_time": "2021-04-14T12:04:45.770740",
     "exception": false,
     "start_time": "2021-04-14T12:04:45.727610",
     "status": "completed"
    },
    "tags": []
   },
   "outputs": [],
   "source": [
    "#hide\n",
    "# g.head()"
   ]
  },
  {
   "cell_type": "code",
   "execution_count": 26,
   "id": "specific-kruger",
   "metadata": {
    "execution": {
     "iopub.execute_input": "2021-04-14T12:04:45.847387Z",
     "iopub.status.busy": "2021-04-14T12:04:45.846754Z",
     "iopub.status.idle": "2021-04-14T12:04:45.849385Z",
     "shell.execute_reply": "2021-04-14T12:04:45.848882Z"
    },
    "papermill": {
     "duration": 0.041574,
     "end_time": "2021-04-14T12:04:45.849543",
     "exception": false,
     "start_time": "2021-04-14T12:04:45.807969",
     "status": "completed"
    },
    "tags": []
   },
   "outputs": [],
   "source": [
    "#hide\n",
    "# g.columns = ['date','country','cases']"
   ]
  },
  {
   "cell_type": "code",
   "execution_count": 27,
   "id": "tender-conversion",
   "metadata": {
    "execution": {
     "iopub.execute_input": "2021-04-14T12:04:45.930805Z",
     "iopub.status.busy": "2021-04-14T12:04:45.930220Z",
     "iopub.status.idle": "2021-04-14T12:04:45.932624Z",
     "shell.execute_reply": "2021-04-14T12:04:45.931970Z"
    },
    "papermill": {
     "duration": 0.046708,
     "end_time": "2021-04-14T12:04:45.932739",
     "exception": false,
     "start_time": "2021-04-14T12:04:45.886031",
     "status": "completed"
    },
    "tags": []
   },
   "outputs": [],
   "source": [
    "#hide\n",
    "# g['continent'] = g.country"
   ]
  },
  {
   "cell_type": "code",
   "execution_count": 28,
   "id": "substantial-wilderness",
   "metadata": {
    "execution": {
     "iopub.execute_input": "2021-04-14T12:04:46.008406Z",
     "iopub.status.busy": "2021-04-14T12:04:46.007807Z",
     "iopub.status.idle": "2021-04-14T12:04:46.009539Z",
     "shell.execute_reply": "2021-04-14T12:04:46.011240Z"
    },
    "papermill": {
     "duration": 0.043142,
     "end_time": "2021-04-14T12:04:46.011428",
     "exception": false,
     "start_time": "2021-04-14T12:04:45.968286",
     "status": "completed"
    },
    "tags": []
   },
   "outputs": [],
   "source": [
    "#hide\n",
    "# cols = list(g.columns.values)"
   ]
  },
  {
   "cell_type": "code",
   "execution_count": 29,
   "id": "solved-farming",
   "metadata": {
    "execution": {
     "iopub.execute_input": "2021-04-14T12:04:46.097957Z",
     "iopub.status.busy": "2021-04-14T12:04:46.097310Z",
     "iopub.status.idle": "2021-04-14T12:04:46.099978Z",
     "shell.execute_reply": "2021-04-14T12:04:46.099250Z"
    },
    "papermill": {
     "duration": 0.053176,
     "end_time": "2021-04-14T12:04:46.100103",
     "exception": false,
     "start_time": "2021-04-14T12:04:46.046927",
     "status": "completed"
    },
    "tags": []
   },
   "outputs": [],
   "source": [
    "#hide\n",
    "# cols.insert(0, cols.pop())"
   ]
  },
  {
   "cell_type": "code",
   "execution_count": 30,
   "id": "executed-adoption",
   "metadata": {
    "execution": {
     "iopub.execute_input": "2021-04-14T12:04:46.187451Z",
     "iopub.status.busy": "2021-04-14T12:04:46.186821Z",
     "iopub.status.idle": "2021-04-14T12:04:46.189151Z",
     "shell.execute_reply": "2021-04-14T12:04:46.188653Z"
    },
    "papermill": {
     "duration": 0.043034,
     "end_time": "2021-04-14T12:04:46.189278",
     "exception": false,
     "start_time": "2021-04-14T12:04:46.146244",
     "status": "completed"
    },
    "tags": []
   },
   "outputs": [],
   "source": [
    "#hide\n",
    "# g = g[cols]"
   ]
  },
  {
   "cell_type": "code",
   "execution_count": 31,
   "id": "subject-dublin",
   "metadata": {
    "execution": {
     "iopub.execute_input": "2021-04-14T12:04:46.276199Z",
     "iopub.status.busy": "2021-04-14T12:04:46.275363Z",
     "iopub.status.idle": "2021-04-14T12:04:46.277860Z",
     "shell.execute_reply": "2021-04-14T12:04:46.277215Z"
    },
    "papermill": {
     "duration": 0.044639,
     "end_time": "2021-04-14T12:04:46.277981",
     "exception": false,
     "start_time": "2021-04-14T12:04:46.233342",
     "status": "completed"
    },
    "tags": []
   },
   "outputs": [],
   "source": [
    "#hide\n",
    "# g['continent'] = g['continent'].map(mapping['map.continent'])"
   ]
  },
  {
   "cell_type": "code",
   "execution_count": 32,
   "id": "freelance-scout",
   "metadata": {
    "execution": {
     "iopub.execute_input": "2021-04-14T12:04:46.359936Z",
     "iopub.status.busy": "2021-04-14T12:04:46.359310Z",
     "iopub.status.idle": "2021-04-14T12:04:46.361753Z",
     "shell.execute_reply": "2021-04-14T12:04:46.361194Z"
    },
    "papermill": {
     "duration": 0.045347,
     "end_time": "2021-04-14T12:04:46.361875",
     "exception": false,
     "start_time": "2021-04-14T12:04:46.316528",
     "status": "completed"
    },
    "tags": []
   },
   "outputs": [],
   "source": [
    "#hide\n",
    "# g.head()"
   ]
  },
  {
   "cell_type": "code",
   "execution_count": 33,
   "id": "limited-engine",
   "metadata": {
    "execution": {
     "iopub.execute_input": "2021-04-14T12:04:46.446771Z",
     "iopub.status.busy": "2021-04-14T12:04:46.446146Z",
     "iopub.status.idle": "2021-04-14T12:04:46.449964Z",
     "shell.execute_reply": "2021-04-14T12:04:46.449386Z"
    },
    "papermill": {
     "duration": 0.04772,
     "end_time": "2021-04-14T12:04:46.450153",
     "exception": false,
     "start_time": "2021-04-14T12:04:46.402433",
     "status": "completed"
    },
    "tags": []
   },
   "outputs": [],
   "source": [
    "# hide\n",
    "# g['date'] = g['date'].astype('datetime64[ns]')"
   ]
  },
  {
   "cell_type": "code",
   "execution_count": 34,
   "id": "sophisticated-supervisor",
   "metadata": {
    "execution": {
     "iopub.execute_input": "2021-04-14T12:04:46.529113Z",
     "iopub.status.busy": "2021-04-14T12:04:46.528503Z",
     "iopub.status.idle": "2021-04-14T12:04:46.530897Z",
     "shell.execute_reply": "2021-04-14T12:04:46.530304Z"
    },
    "papermill": {
     "duration": 0.042295,
     "end_time": "2021-04-14T12:04:46.531014",
     "exception": false,
     "start_time": "2021-04-14T12:04:46.488719",
     "status": "completed"
    },
    "tags": []
   },
   "outputs": [],
   "source": [
    "#hide\n",
    "# g['date'] = g.date.dt.dayofyear"
   ]
  },
  {
   "cell_type": "code",
   "execution_count": 35,
   "id": "inside-dubai",
   "metadata": {
    "execution": {
     "iopub.execute_input": "2021-04-14T12:04:46.606368Z",
     "iopub.status.busy": "2021-04-14T12:04:46.605721Z",
     "iopub.status.idle": "2021-04-14T12:04:46.607920Z",
     "shell.execute_reply": "2021-04-14T12:04:46.607431Z"
    },
    "papermill": {
     "duration": 0.041607,
     "end_time": "2021-04-14T12:04:46.608033",
     "exception": false,
     "start_time": "2021-04-14T12:04:46.566426",
     "status": "completed"
    },
    "tags": []
   },
   "outputs": [],
   "source": [
    "#hide\n",
    "# g = g.rename(columns= {'continent':'group','country':'name','cases':'value'})"
   ]
  },
  {
   "cell_type": "code",
   "execution_count": 36,
   "id": "fleet-motorcycle",
   "metadata": {
    "execution": {
     "iopub.execute_input": "2021-04-14T12:04:46.685186Z",
     "iopub.status.busy": "2021-04-14T12:04:46.684530Z",
     "iopub.status.idle": "2021-04-14T12:04:46.686877Z",
     "shell.execute_reply": "2021-04-14T12:04:46.686303Z"
    },
    "papermill": {
     "duration": 0.043315,
     "end_time": "2021-04-14T12:04:46.686991",
     "exception": false,
     "start_time": "2021-04-14T12:04:46.643676",
     "status": "completed"
    },
    "tags": []
   },
   "outputs": [],
   "source": [
    "#hide\n",
    "# cols = ['name','group','day','value']"
   ]
  },
  {
   "cell_type": "code",
   "execution_count": 37,
   "id": "continued-sleeping",
   "metadata": {
    "execution": {
     "iopub.execute_input": "2021-04-14T12:04:46.763944Z",
     "iopub.status.busy": "2021-04-14T12:04:46.763152Z",
     "iopub.status.idle": "2021-04-14T12:04:46.765759Z",
     "shell.execute_reply": "2021-04-14T12:04:46.765282Z"
    },
    "papermill": {
     "duration": 0.042439,
     "end_time": "2021-04-14T12:04:46.765873",
     "exception": false,
     "start_time": "2021-04-14T12:04:46.723434",
     "status": "completed"
    },
    "tags": []
   },
   "outputs": [],
   "source": [
    "#hide\n",
    "# g.rename(columns= {'date':'day'},inplace = True)"
   ]
  },
  {
   "cell_type": "code",
   "execution_count": 38,
   "id": "major-fight",
   "metadata": {
    "execution": {
     "iopub.execute_input": "2021-04-14T12:04:46.841537Z",
     "iopub.status.busy": "2021-04-14T12:04:46.840937Z",
     "iopub.status.idle": "2021-04-14T12:04:46.842748Z",
     "shell.execute_reply": "2021-04-14T12:04:46.843294Z"
    },
    "papermill": {
     "duration": 0.041496,
     "end_time": "2021-04-14T12:04:46.843422",
     "exception": false,
     "start_time": "2021-04-14T12:04:46.801926",
     "status": "completed"
    },
    "tags": []
   },
   "outputs": [],
   "source": [
    "#hide\n",
    "# g = g[cols]"
   ]
  },
  {
   "cell_type": "code",
   "execution_count": 39,
   "id": "structured-mobile",
   "metadata": {
    "execution": {
     "iopub.execute_input": "2021-04-14T12:04:46.920900Z",
     "iopub.status.busy": "2021-04-14T12:04:46.920335Z",
     "iopub.status.idle": "2021-04-14T12:04:46.923016Z",
     "shell.execute_reply": "2021-04-14T12:04:46.922428Z"
    },
    "papermill": {
     "duration": 0.043962,
     "end_time": "2021-04-14T12:04:46.923125",
     "exception": false,
     "start_time": "2021-04-14T12:04:46.879163",
     "status": "completed"
    },
    "tags": []
   },
   "outputs": [],
   "source": [
    "# #hide\n",
    "# g = g[g.group.notna()]"
   ]
  },
  {
   "cell_type": "code",
   "execution_count": 40,
   "id": "determined-closing",
   "metadata": {
    "execution": {
     "iopub.execute_input": "2021-04-14T12:04:46.999133Z",
     "iopub.status.busy": "2021-04-14T12:04:46.998497Z",
     "iopub.status.idle": "2021-04-14T12:04:47.000732Z",
     "shell.execute_reply": "2021-04-14T12:04:47.000144Z"
    },
    "papermill": {
     "duration": 0.041997,
     "end_time": "2021-04-14T12:04:47.000856",
     "exception": false,
     "start_time": "2021-04-14T12:04:46.958859",
     "status": "completed"
    },
    "tags": []
   },
   "outputs": [],
   "source": [
    "# #hide\n",
    "# colors = dict(zip(\n",
    "#     [\"Oceania\", \"Europe\", \"Asia\", \"South America\", \"Middle East\", \"North America\", \"Africa\"],\n",
    "#     [\"#adb0ff\", \"#ffb3ff\", \"#90d595\", \"#e48381\", \"#aafbff\", \"#f7bb5f\", \"#eafb50\"]\n",
    "# ))\n",
    "# group_lk = g.set_index('name')['group'].to_dict()"
   ]
  },
  {
   "cell_type": "code",
   "execution_count": null,
   "id": "gross-drinking",
   "metadata": {
    "papermill": {
     "duration": 0.03872,
     "end_time": "2021-04-14T12:04:47.076029",
     "exception": false,
     "start_time": "2021-04-14T12:04:47.037309",
     "status": "completed"
    },
    "tags": []
   },
   "outputs": [],
   "source": []
  },
  {
   "cell_type": "code",
   "execution_count": 41,
   "id": "subject-macintosh",
   "metadata": {
    "execution": {
     "iopub.execute_input": "2021-04-14T12:04:47.156582Z",
     "iopub.status.busy": "2021-04-14T12:04:47.155877Z",
     "iopub.status.idle": "2021-04-14T12:04:47.157799Z",
     "shell.execute_reply": "2021-04-14T12:04:47.158339Z"
    },
    "papermill": {
     "duration": 0.044714,
     "end_time": "2021-04-14T12:04:47.158493",
     "exception": false,
     "start_time": "2021-04-14T12:04:47.113779",
     "status": "completed"
    },
    "tags": []
   },
   "outputs": [],
   "source": [
    "# #hide\n",
    "# fig, ax = plt.subplots(figsize=(15, 8))\n",
    "\n",
    "# def draw_barchart(current_day):\n",
    "#     dff = g[g['day'].eq(current_day)].sort_values(by='value', ascending=True).tail(10)\n",
    "#     ax.clear()\n",
    "#     ax.barh(dff['name'], dff['value'], color=[colors[group_lk[x]] for x in dff['name']])\n",
    "#     dx = dff['value'].max() / 200\n",
    "    \n",
    "#     for i, (value, name) in enumerate(zip(dff['value'], dff['name'])):\n",
    "#         ax.text(value-dx, i,     name,           size=14, weight=600, ha='right', va='bottom')\n",
    "#         ax.text(value-dx, i-.25, group_lk[name], size=10, color='#444444', ha='right', va='baseline')\n",
    "#         ax.text(value+dx, i,     f'{value:,.0f}',  size=14, ha='left',  va='center')\n",
    "#     ax.text(1, 0.4, current_day, transform=ax.transAxes, color='#777777', size=46, ha='right', weight=800)\n",
    "#     ax.text(0, 1.06, 'Population (thousands)', transform=ax.transAxes, size=12, color='#777777')\n",
    "#     ax.xaxis.set_major_formatter(ticker.StrMethodFormatter('{x:,.0f}'))\n",
    "#     ax.xaxis.set_ticks_position('top')\n",
    "#     ax.tick_params(axis='x', colors='#777777', labelsize=12)\n",
    "#     ax.set_yticks([])\n",
    "#     ax.margins(0, 0.01)\n",
    "#     ax.grid(which='major', axis='x', linestyle='-')\n",
    "#     ax.set_axisbelow(True)\n",
    "    \n",
    "#     ax.text(0, 1.15, 'Coronavirus',\n",
    "#             transform=ax.transAxes, size=24, weight=600, ha='left', va='top')\n",
    "# #     ax.text(1, 0, 'by @pratapvardhan; credit @jburnmurdoch', transform=ax.transAxes, color='#777777', ha='right',\n",
    "# #             bbox=dict(facecolor='white', alpha=0.8, edgecolor='white'))\n",
    "#     plt.box(False)"
   ]
  },
  {
   "cell_type": "code",
   "execution_count": 42,
   "id": "sexual-wages",
   "metadata": {
    "execution": {
     "iopub.execute_input": "2021-04-14T12:04:47.241294Z",
     "iopub.status.busy": "2021-04-14T12:04:47.240581Z",
     "iopub.status.idle": "2021-04-14T12:04:47.243052Z",
     "shell.execute_reply": "2021-04-14T12:04:47.242561Z"
    },
    "papermill": {
     "duration": 0.047929,
     "end_time": "2021-04-14T12:04:47.243186",
     "exception": false,
     "start_time": "2021-04-14T12:04:47.195257",
     "status": "completed"
    },
    "tags": []
   },
   "outputs": [],
   "source": [
    "# #hide_input\n",
    "# fig, ax = plt.subplots(figsize=(15, 8))\n",
    "# animator = animation.FuncAnimation(fig, draw_barchart, frames=range(g.day.values.min(), g.day.values.max()))\n",
    "# HTML(animator.to_jshtml())\n",
    "# # or use animator.to_html5_video() or animator.save() "
   ]
  },
  {
   "cell_type": "code",
   "execution_count": null,
   "id": "australian-container",
   "metadata": {
    "papermill": {
     "duration": 0.03681,
     "end_time": "2021-04-14T12:04:47.319895",
     "exception": false,
     "start_time": "2021-04-14T12:04:47.283085",
     "status": "completed"
    },
    "tags": []
   },
   "outputs": [],
   "source": []
  },
  {
   "cell_type": "code",
   "execution_count": null,
   "id": "mediterranean-pontiac",
   "metadata": {
    "papermill": {
     "duration": 0.034802,
     "end_time": "2021-04-14T12:04:47.395924",
     "exception": false,
     "start_time": "2021-04-14T12:04:47.361122",
     "status": "completed"
    },
    "tags": []
   },
   "outputs": [],
   "source": []
  },
  {
   "cell_type": "code",
   "execution_count": null,
   "id": "aging-legislature",
   "metadata": {
    "papermill": {
     "duration": 0.035993,
     "end_time": "2021-04-14T12:04:47.466885",
     "exception": false,
     "start_time": "2021-04-14T12:04:47.430892",
     "status": "completed"
    },
    "tags": []
   },
   "outputs": [],
   "source": []
  }
 ],
 "metadata": {
  "kernelspec": {
   "display_name": "Python 3",
   "language": "python",
   "name": "python3"
  },
  "language_info": {
   "codemirror_mode": {
    "name": "ipython",
    "version": 3
   },
   "file_extension": ".py",
   "mimetype": "text/x-python",
   "name": "python",
   "nbconvert_exporter": "python",
   "pygments_lexer": "ipython3",
   "version": "3.6.13"
  },
  "papermill": {
   "duration": 6.814983,
   "end_time": "2021-04-14T12:04:47.808815",
   "environment_variables": {},
   "exception": null,
   "input_path": "2020-03-21-covid19exp.ipynb",
   "output_path": "2020-03-21-covid19exp.ipynb",
   "parameters": {},
   "start_time": "2021-04-14T12:04:40.993832",
   "version": "2.0.0"
  }
 },
 "nbformat": 4,
 "nbformat_minor": 5
}