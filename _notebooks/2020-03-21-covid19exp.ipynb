{
 "cells": [
  {
   "cell_type": "markdown",
   "id": "muslim-click",
   "metadata": {
    "papermill": {
     "duration": 0.039377,
     "end_time": "2021-09-11T00:22:38.106093",
     "exception": false,
     "start_time": "2021-09-11T00:22:38.066716",
     "status": "completed"
    },
    "tags": []
   },
   "source": [
    "# COVID-19 Case Race\n",
    "> A race chart to see rising cases around the world\n",
    "\n",
    "- author: Hargun Oberoi\n",
    "- image: images/covid-overview.png\n",
    "- hide: false\n",
    "- badges: false"
   ]
  },
  {
   "cell_type": "code",
   "execution_count": 1,
   "id": "proof-material",
   "metadata": {
    "execution": {
     "iopub.execute_input": "2021-09-11T00:22:38.184808Z",
     "iopub.status.busy": "2021-09-11T00:22:38.184219Z",
     "iopub.status.idle": "2021-09-11T00:22:38.536493Z",
     "shell.execute_reply": "2021-09-11T00:22:38.535862Z"
    },
    "papermill": {
     "duration": 0.396956,
     "end_time": "2021-09-11T00:22:38.536660",
     "exception": false,
     "start_time": "2021-09-11T00:22:38.139704",
     "status": "completed"
    },
    "tags": []
   },
   "outputs": [],
   "source": [
    "#hide\n",
    "import numpy as np\n",
    "import pandas as pd\n",
    "from jinja2 import Template\n",
    "from IPython.display import HTML"
   ]
  },
  {
   "cell_type": "code",
   "execution_count": 2,
   "id": "developed-terminology",
   "metadata": {
    "execution": {
     "iopub.execute_input": "2021-09-11T00:22:38.607921Z",
     "iopub.status.busy": "2021-09-11T00:22:38.607320Z",
     "iopub.status.idle": "2021-09-11T00:22:38.608718Z",
     "shell.execute_reply": "2021-09-11T00:22:38.609204Z"
    },
    "papermill": {
     "duration": 0.039267,
     "end_time": "2021-09-11T00:22:38.609331",
     "exception": false,
     "start_time": "2021-09-11T00:22:38.570064",
     "status": "completed"
    },
    "tags": []
   },
   "outputs": [],
   "source": [
    "#hide\n",
    "\n",
    "# FETCH\n",
    "base_url = 'https://raw.githubusercontent.com/pratapvardhan/notebooks/master/covid19/'\n",
    "paths = {\n",
    "    'mapping': base_url + 'mapping_countries.csv',\n",
    "    'overview': base_url + 'overview.tpl'\n",
    "}"
   ]
  },
  {
   "cell_type": "code",
   "execution_count": 3,
   "id": "dynamic-saver",
   "metadata": {
    "execution": {
     "iopub.execute_input": "2021-09-11T00:22:38.685351Z",
     "iopub.status.busy": "2021-09-11T00:22:38.684775Z",
     "iopub.status.idle": "2021-09-11T00:22:38.688381Z",
     "shell.execute_reply": "2021-09-11T00:22:38.688934Z"
    },
    "papermill": {
     "duration": 0.047072,
     "end_time": "2021-09-11T00:22:38.689069",
     "exception": false,
     "start_time": "2021-09-11T00:22:38.641997",
     "status": "completed"
    },
    "tags": []
   },
   "outputs": [
    {
     "data": {
      "text/plain": [
       "'https://raw.githubusercontent.com/pratapvardhan/notebooks/master/covid19/mapping_countries.csv'"
      ]
     },
     "execution_count": 3,
     "metadata": {},
     "output_type": "execute_result"
    }
   ],
   "source": [
    "#hide\n",
    "paths['mapping']"
   ]
  },
  {
   "cell_type": "code",
   "execution_count": 4,
   "id": "urban-software",
   "metadata": {
    "execution": {
     "iopub.execute_input": "2021-09-11T00:22:38.756793Z",
     "iopub.status.busy": "2021-09-11T00:22:38.756185Z",
     "iopub.status.idle": "2021-09-11T00:22:38.758486Z",
     "shell.execute_reply": "2021-09-11T00:22:38.758950Z"
    },
    "papermill": {
     "duration": 0.040366,
     "end_time": "2021-09-11T00:22:38.759048",
     "exception": false,
     "start_time": "2021-09-11T00:22:38.718682",
     "status": "completed"
    },
    "tags": []
   },
   "outputs": [],
   "source": [
    "#hide\n",
    "def get_mappings(url):\n",
    "    df = pd.read_csv(url)\n",
    "    return {\n",
    "        'df': df,\n",
    "        'replace.country': dict(df.dropna(subset=['Name']).set_index('Country')['Name']),\n",
    "        'map.continent': dict(df.set_index('Name')['Continent'])\n",
    "    }"
   ]
  },
  {
   "cell_type": "code",
   "execution_count": 5,
   "id": "intimate-machinery",
   "metadata": {
    "execution": {
     "iopub.execute_input": "2021-09-11T00:22:38.825944Z",
     "iopub.status.busy": "2021-09-11T00:22:38.825383Z",
     "iopub.status.idle": "2021-09-11T00:22:38.856201Z",
     "shell.execute_reply": "2021-09-11T00:22:38.856761Z"
    },
    "papermill": {
     "duration": 0.06763,
     "end_time": "2021-09-11T00:22:38.856922",
     "exception": false,
     "start_time": "2021-09-11T00:22:38.789292",
     "status": "completed"
    },
    "tags": []
   },
   "outputs": [],
   "source": [
    "#hide\n",
    "mapping = get_mappings(paths['mapping'])"
   ]
  },
  {
   "cell_type": "code",
   "execution_count": 6,
   "id": "certified-tactics",
   "metadata": {
    "execution": {
     "iopub.execute_input": "2021-09-11T00:22:38.925455Z",
     "iopub.status.busy": "2021-09-11T00:22:38.924886Z",
     "iopub.status.idle": "2021-09-11T00:22:38.927414Z",
     "shell.execute_reply": "2021-09-11T00:22:38.927878Z"
    },
    "papermill": {
     "duration": 0.040359,
     "end_time": "2021-09-11T00:22:38.927983",
     "exception": false,
     "start_time": "2021-09-11T00:22:38.887624",
     "status": "completed"
    },
    "tags": []
   },
   "outputs": [],
   "source": [
    "#hide\n",
    "def get_template(path):\n",
    "    from urllib.parse import urlparse\n",
    "    if bool(urlparse(path).netloc):\n",
    "        from urllib.request import urlopen\n",
    "        return urlopen(path).read().decode('utf8')\n",
    "    return open(path).read()"
   ]
  },
  {
   "cell_type": "code",
   "execution_count": 7,
   "id": "realistic-blast",
   "metadata": {
    "execution": {
     "iopub.execute_input": "2021-09-11T00:22:38.996488Z",
     "iopub.status.busy": "2021-09-11T00:22:38.995952Z",
     "iopub.status.idle": "2021-09-11T00:22:38.997698Z",
     "shell.execute_reply": "2021-09-11T00:22:38.998225Z"
    },
    "papermill": {
     "duration": 0.039861,
     "end_time": "2021-09-11T00:22:38.998361",
     "exception": false,
     "start_time": "2021-09-11T00:22:38.958500",
     "status": "completed"
    },
    "tags": []
   },
   "outputs": [],
   "source": [
    "#hide\n",
    "def get_frame(name):\n",
    "    url = (\n",
    "        'https://raw.githubusercontent.com/CSSEGISandData/COVID-19/master/csse_covid_19_data/'\n",
    "        f'csse_covid_19_time_series/time_series_covid19_{name}_global.csv')\n",
    "    df = pd.read_csv(url)\n",
    "    # rename countries\n",
    "    df['Country/Region'] = df['Country/Region'].replace(mapping['replace.country'])\n",
    "    return df"
   ]
  },
  {
   "cell_type": "code",
   "execution_count": 8,
   "id": "affiliated-characterization",
   "metadata": {
    "execution": {
     "iopub.execute_input": "2021-09-11T00:22:39.067068Z",
     "iopub.status.busy": "2021-09-11T00:22:39.066527Z",
     "iopub.status.idle": "2021-09-11T00:22:39.068639Z",
     "shell.execute_reply": "2021-09-11T00:22:39.068186Z"
    },
    "papermill": {
     "duration": 0.039697,
     "end_time": "2021-09-11T00:22:39.068743",
     "exception": false,
     "start_time": "2021-09-11T00:22:39.029046",
     "status": "completed"
    },
    "tags": []
   },
   "outputs": [],
   "source": [
    "#hide\n",
    "def get_dates(df):\n",
    "    dt_cols = df.columns[~df.columns.isin(['Province/State', 'Country/Region', 'Lat', 'Long'])]\n",
    "    LAST_DATE_I = -1\n",
    "    # sometimes last column may be empty, then go backwards\n",
    "    for i in range(-1, -len(dt_cols), -1):\n",
    "        if not df[dt_cols[i]].fillna(0).eq(0).all():\n",
    "            LAST_DATE_I = i\n",
    "            break\n",
    "    return LAST_DATE_I, dt_cols"
   ]
  },
  {
   "cell_type": "code",
   "execution_count": 9,
   "id": "recent-optimization",
   "metadata": {
    "execution": {
     "iopub.execute_input": "2021-09-11T00:22:39.141284Z",
     "iopub.status.busy": "2021-09-11T00:22:39.140303Z",
     "iopub.status.idle": "2021-09-11T00:22:39.429023Z",
     "shell.execute_reply": "2021-09-11T00:22:39.428332Z"
    },
    "papermill": {
     "duration": 0.327241,
     "end_time": "2021-09-11T00:22:39.429151",
     "exception": false,
     "start_time": "2021-09-11T00:22:39.101910",
     "status": "completed"
    },
    "tags": []
   },
   "outputs": [],
   "source": [
    "#hide\n",
    "COL_REGION = 'Country/Region'\n",
    "# Confirmed, Recovered, Deaths\n",
    "df = get_frame('confirmed')\n",
    "# dft_: timeseries, dfc_: today country agg\n",
    "dft_cases = df\n",
    "dft_deaths = get_frame('deaths')\n",
    "dft_recovered = get_frame('recovered')\n",
    "LAST_DATE_I, dt_cols = get_dates(df)"
   ]
  },
  {
   "cell_type": "code",
   "execution_count": 10,
   "id": "absolute-copper",
   "metadata": {
    "execution": {
     "iopub.execute_input": "2021-09-11T00:22:39.498193Z",
     "iopub.status.busy": "2021-09-11T00:22:39.497734Z",
     "iopub.status.idle": "2021-09-11T00:22:39.500149Z",
     "shell.execute_reply": "2021-09-11T00:22:39.499709Z"
    },
    "papermill": {
     "duration": 0.038846,
     "end_time": "2021-09-11T00:22:39.500244",
     "exception": false,
     "start_time": "2021-09-11T00:22:39.461398",
     "status": "completed"
    },
    "tags": []
   },
   "outputs": [],
   "source": [
    "#hide\n",
    "LAST_DATE_I, dt_cols = get_dates(df)\n",
    "dt_today =dt_cols[LAST_DATE_I]\n",
    "# dt_5day = dt_cols[LAST_DATE_I - 5]\n",
    "dt_yday = dt_cols[LAST_DATE_I - 1]"
   ]
  },
  {
   "cell_type": "code",
   "execution_count": 11,
   "id": "restricted-sheriff",
   "metadata": {
    "execution": {
     "iopub.execute_input": "2021-09-11T00:22:39.570390Z",
     "iopub.status.busy": "2021-09-11T00:22:39.568140Z",
     "iopub.status.idle": "2021-09-11T00:22:39.575216Z",
     "shell.execute_reply": "2021-09-11T00:22:39.575595Z"
    },
    "papermill": {
     "duration": 0.04496,
     "end_time": "2021-09-11T00:22:39.575703",
     "exception": false,
     "start_time": "2021-09-11T00:22:39.530743",
     "status": "completed"
    },
    "tags": []
   },
   "outputs": [],
   "source": [
    "#hide\n",
    "dfc_cases = dft_cases.groupby(COL_REGION)[dt_today].sum()\n",
    "dfc_deaths = dft_deaths.groupby(COL_REGION)[dt_today].sum()\n",
    "# dfp_cases = dft_cases.groupby(COL_REGION)[dt_5day].sum()\n",
    "# dfp_deaths = dft_deaths.groupby(COL_REGION)[dt_5day].sum()\n",
    "dfp_cases = dft_cases.groupby(COL_REGION)[dt_yday].sum()\n",
    "dfp_deaths = dft_deaths.groupby(COL_REGION)[dt_yday].sum()"
   ]
  },
  {
   "cell_type": "code",
   "execution_count": 12,
   "id": "deluxe-hepatitis",
   "metadata": {
    "execution": {
     "iopub.execute_input": "2021-09-11T00:22:39.643564Z",
     "iopub.status.busy": "2021-09-11T00:22:39.643033Z",
     "iopub.status.idle": "2021-09-11T00:22:39.647175Z",
     "shell.execute_reply": "2021-09-11T00:22:39.647503Z"
    },
    "papermill": {
     "duration": 0.043192,
     "end_time": "2021-09-11T00:22:39.647624",
     "exception": false,
     "start_time": "2021-09-11T00:22:39.604432",
     "status": "completed"
    },
    "tags": []
   },
   "outputs": [],
   "source": [
    "#hide\n",
    "df_table = (pd.DataFrame(dict(Cases = dfc_cases, Deaths = dfc_deaths, PCases = dfp_cases, PDeaths = dfp_deaths))\n",
    "            .sort_values(by = ['Cases','Deaths'], ascending = [False, False])\n",
    "            .reset_index())"
   ]
  },
  {
   "cell_type": "code",
   "execution_count": 13,
   "id": "educational-chancellor",
   "metadata": {
    "execution": {
     "iopub.execute_input": "2021-09-11T00:22:39.725988Z",
     "iopub.status.busy": "2021-09-11T00:22:39.725388Z",
     "iopub.status.idle": "2021-09-11T00:22:39.734093Z",
     "shell.execute_reply": "2021-09-11T00:22:39.733633Z"
    },
    "papermill": {
     "duration": 0.057457,
     "end_time": "2021-09-11T00:22:39.734232",
     "exception": false,
     "start_time": "2021-09-11T00:22:39.676775",
     "status": "completed"
    },
    "tags": []
   },
   "outputs": [
    {
     "data": {
      "text/html": [
       "<div>\n",
       "<style scoped>\n",
       "    .dataframe tbody tr th:only-of-type {\n",
       "        vertical-align: middle;\n",
       "    }\n",
       "\n",
       "    .dataframe tbody tr th {\n",
       "        vertical-align: top;\n",
       "    }\n",
       "\n",
       "    .dataframe thead th {\n",
       "        text-align: right;\n",
       "    }\n",
       "</style>\n",
       "<table border=\"1\" class=\"dataframe\">\n",
       "  <thead>\n",
       "    <tr style=\"text-align: right;\">\n",
       "      <th></th>\n",
       "      <th>Country/Region</th>\n",
       "      <th>Cases</th>\n",
       "      <th>Deaths</th>\n",
       "      <th>PCases</th>\n",
       "      <th>PDeaths</th>\n",
       "      <th>Cases (+)</th>\n",
       "      <th>Deaths (+)</th>\n",
       "      <th>Fatality Rate</th>\n",
       "      <th>Continent</th>\n",
       "    </tr>\n",
       "  </thead>\n",
       "  <tbody>\n",
       "    <tr>\n",
       "      <th>0</th>\n",
       "      <td>US</td>\n",
       "      <td>40601792</td>\n",
       "      <td>654583</td>\n",
       "      <td>40456711</td>\n",
       "      <td>652657</td>\n",
       "      <td>145081</td>\n",
       "      <td>1926</td>\n",
       "      <td>1.61</td>\n",
       "      <td>North America</td>\n",
       "    </tr>\n",
       "    <tr>\n",
       "      <th>1</th>\n",
       "      <td>India</td>\n",
       "      <td>33174954</td>\n",
       "      <td>442009</td>\n",
       "      <td>33139981</td>\n",
       "      <td>441749</td>\n",
       "      <td>34973</td>\n",
       "      <td>260</td>\n",
       "      <td>1.33</td>\n",
       "      <td>Asia</td>\n",
       "    </tr>\n",
       "    <tr>\n",
       "      <th>2</th>\n",
       "      <td>Brazil</td>\n",
       "      <td>20958899</td>\n",
       "      <td>585174</td>\n",
       "      <td>20928008</td>\n",
       "      <td>584421</td>\n",
       "      <td>30891</td>\n",
       "      <td>753</td>\n",
       "      <td>2.79</td>\n",
       "      <td>South America</td>\n",
       "    </tr>\n",
       "    <tr>\n",
       "      <th>3</th>\n",
       "      <td>United Kingdom</td>\n",
       "      <td>7165200</td>\n",
       "      <td>134166</td>\n",
       "      <td>7127630</td>\n",
       "      <td>133999</td>\n",
       "      <td>37570</td>\n",
       "      <td>167</td>\n",
       "      <td>1.87</td>\n",
       "      <td>Europe</td>\n",
       "    </tr>\n",
       "    <tr>\n",
       "      <th>4</th>\n",
       "      <td>Russia</td>\n",
       "      <td>6982628</td>\n",
       "      <td>186999</td>\n",
       "      <td>6964595</td>\n",
       "      <td>186224</td>\n",
       "      <td>18033</td>\n",
       "      <td>775</td>\n",
       "      <td>2.68</td>\n",
       "      <td>Europe</td>\n",
       "    </tr>\n",
       "  </tbody>\n",
       "</table>\n",
       "</div>"
      ],
      "text/plain": [
       "   Country/Region     Cases  Deaths    PCases  PDeaths  Cases (+)  Deaths (+)  \\\n",
       "0              US  40601792  654583  40456711   652657     145081        1926   \n",
       "1           India  33174954  442009  33139981   441749      34973         260   \n",
       "2          Brazil  20958899  585174  20928008   584421      30891         753   \n",
       "3  United Kingdom   7165200  134166   7127630   133999      37570         167   \n",
       "4          Russia   6982628  186999   6964595   186224      18033         775   \n",
       "\n",
       "   Fatality Rate      Continent  \n",
       "0           1.61  North America  \n",
       "1           1.33           Asia  \n",
       "2           2.79  South America  \n",
       "3           1.87         Europe  \n",
       "4           2.68         Europe  "
      ]
     },
     "execution_count": 13,
     "metadata": {},
     "output_type": "execute_result"
    }
   ],
   "source": [
    "#hide\n",
    "for c in 'Cases, Deaths'.split(', '):\n",
    "    df_table[f'{c} (+)'] = (df_table[c] - df_table[f'P{c}']).clip(0)\n",
    "    #Clip ça veut dire, les chiffres negatif sont interdit\n",
    "df_table['Fatality Rate'] = (100* df_table['Deaths']/ df_table['Cases']).round(2)\n",
    "df_table['Continent'] = df_table['Country/Region'].map(mapping['map.continent'])\n",
    "df_table.head(5)"
   ]
  },
  {
   "cell_type": "code",
   "execution_count": 14,
   "id": "aboriginal-bulgaria",
   "metadata": {
    "execution": {
     "iopub.execute_input": "2021-09-11T00:22:39.807872Z",
     "iopub.status.busy": "2021-09-11T00:22:39.807253Z",
     "iopub.status.idle": "2021-09-11T00:22:39.808505Z",
     "shell.execute_reply": "2021-09-11T00:22:39.808956Z"
    },
    "papermill": {
     "duration": 0.042485,
     "end_time": "2021-09-11T00:22:39.809090",
     "exception": false,
     "start_time": "2021-09-11T00:22:39.766605",
     "status": "completed"
    },
    "tags": []
   },
   "outputs": [],
   "source": [
    "#hide\n",
    "#delete problematic countries from table\n",
    "df_table = df_table[~df_table['Country/Region'].isin(['Cape Verde', 'Cruise Ship', 'Kosovo'])]"
   ]
  },
  {
   "cell_type": "code",
   "execution_count": 15,
   "id": "fantastic-effect",
   "metadata": {
    "execution": {
     "iopub.execute_input": "2021-09-11T00:22:39.887298Z",
     "iopub.status.busy": "2021-09-11T00:22:39.886710Z",
     "iopub.status.idle": "2021-09-11T00:22:39.905600Z",
     "shell.execute_reply": "2021-09-11T00:22:39.905162Z"
    },
    "papermill": {
     "duration": 0.063989,
     "end_time": "2021-09-11T00:22:39.905725",
     "exception": false,
     "start_time": "2021-09-11T00:22:39.841736",
     "status": "completed"
    },
    "tags": []
   },
   "outputs": [
    {
     "data": {
      "text/html": [
       "<div>\n",
       "<style scoped>\n",
       "    .dataframe tbody tr th:only-of-type {\n",
       "        vertical-align: middle;\n",
       "    }\n",
       "\n",
       "    .dataframe tbody tr th {\n",
       "        vertical-align: top;\n",
       "    }\n",
       "\n",
       "    .dataframe thead th {\n",
       "        text-align: right;\n",
       "    }\n",
       "</style>\n",
       "<table border=\"1\" class=\"dataframe\">\n",
       "  <thead>\n",
       "    <tr style=\"text-align: right;\">\n",
       "      <th></th>\n",
       "      <th>Country/Region</th>\n",
       "      <th>Cases</th>\n",
       "      <th>Deaths</th>\n",
       "      <th>PCases</th>\n",
       "      <th>PDeaths</th>\n",
       "      <th>Cases (+)</th>\n",
       "      <th>Deaths (+)</th>\n",
       "      <th>Fatality Rate</th>\n",
       "      <th>Continent</th>\n",
       "    </tr>\n",
       "  </thead>\n",
       "  <tbody>\n",
       "    <tr>\n",
       "      <th>0</th>\n",
       "      <td>US</td>\n",
       "      <td>40601792</td>\n",
       "      <td>654583</td>\n",
       "      <td>40456711</td>\n",
       "      <td>652657</td>\n",
       "      <td>145081</td>\n",
       "      <td>1926</td>\n",
       "      <td>1.6</td>\n",
       "      <td>North America</td>\n",
       "    </tr>\n",
       "    <tr>\n",
       "      <th>1</th>\n",
       "      <td>India</td>\n",
       "      <td>33174954</td>\n",
       "      <td>442009</td>\n",
       "      <td>33139981</td>\n",
       "      <td>441749</td>\n",
       "      <td>34973</td>\n",
       "      <td>260</td>\n",
       "      <td>1.3</td>\n",
       "      <td>Asia</td>\n",
       "    </tr>\n",
       "    <tr>\n",
       "      <th>2</th>\n",
       "      <td>Brazil</td>\n",
       "      <td>20958899</td>\n",
       "      <td>585174</td>\n",
       "      <td>20928008</td>\n",
       "      <td>584421</td>\n",
       "      <td>30891</td>\n",
       "      <td>753</td>\n",
       "      <td>2.8</td>\n",
       "      <td>South America</td>\n",
       "    </tr>\n",
       "    <tr>\n",
       "      <th>3</th>\n",
       "      <td>United Kingdom</td>\n",
       "      <td>7165200</td>\n",
       "      <td>134166</td>\n",
       "      <td>7127630</td>\n",
       "      <td>133999</td>\n",
       "      <td>37570</td>\n",
       "      <td>167</td>\n",
       "      <td>1.9</td>\n",
       "      <td>Europe</td>\n",
       "    </tr>\n",
       "    <tr>\n",
       "      <th>4</th>\n",
       "      <td>Russia</td>\n",
       "      <td>6982628</td>\n",
       "      <td>186999</td>\n",
       "      <td>6964595</td>\n",
       "      <td>186224</td>\n",
       "      <td>18033</td>\n",
       "      <td>775</td>\n",
       "      <td>2.7</td>\n",
       "      <td>Europe</td>\n",
       "    </tr>\n",
       "  </tbody>\n",
       "</table>\n",
       "</div>"
      ],
      "text/plain": [
       "   Country/Region     Cases  Deaths    PCases  PDeaths  Cases (+)  Deaths (+)  \\\n",
       "0              US  40601792  654583  40456711   652657     145081        1926   \n",
       "1           India  33174954  442009  33139981   441749      34973         260   \n",
       "2          Brazil  20958899  585174  20928008   584421      30891         753   \n",
       "3  United Kingdom   7165200  134166   7127630   133999      37570         167   \n",
       "4          Russia   6982628  186999   6964595   186224      18033         775   \n",
       "\n",
       "   Fatality Rate      Continent  \n",
       "0            1.6  North America  \n",
       "1            1.3           Asia  \n",
       "2            2.8  South America  \n",
       "3            1.9         Europe  \n",
       "4            2.7         Europe  "
      ]
     },
     "execution_count": 15,
     "metadata": {},
     "output_type": "execute_result"
    }
   ],
   "source": [
    "#hide\n",
    "df_table = (pd.DataFrame(dict(Cases=dfc_cases, Deaths=dfc_deaths, PCases=dfp_cases, PDeaths=dfp_deaths))\n",
    "             .sort_values(by=['Cases', 'Deaths'], ascending=[False, False])\n",
    "             .reset_index())\n",
    "df_table.rename(columns={'index': 'Country/Region'}, inplace=True)\n",
    "for c in 'Cases, Deaths'.split(', '):\n",
    "    df_table[f'{c} (+)'] = (df_table[c] - df_table[f'P{c}']).clip(0)  # DATA BUG\n",
    "df_table['Fatality Rate'] = (100 * df_table['Deaths'] / df_table['Cases']).round(1)\n",
    "df_table['Continent'] = df_table['Country/Region'].map(mapping['map.continent'])\n",
    "df_table.head(5)"
   ]
  },
  {
   "cell_type": "code",
   "execution_count": 16,
   "id": "fewer-occasion",
   "metadata": {
    "execution": {
     "iopub.execute_input": "2021-09-11T00:22:39.981480Z",
     "iopub.status.busy": "2021-09-11T00:22:39.980899Z",
     "iopub.status.idle": "2021-09-11T00:22:39.983098Z",
     "shell.execute_reply": "2021-09-11T00:22:39.982510Z"
    },
    "papermill": {
     "duration": 0.043771,
     "end_time": "2021-09-11T00:22:39.983215",
     "exception": false,
     "start_time": "2021-09-11T00:22:39.939444",
     "status": "completed"
    },
    "tags": []
   },
   "outputs": [],
   "source": [
    "#hide\n",
    "#delete problematic countries from table\n",
    "df_table = df_table[~df_table['Country/Region'].isin(['Cape Verde', 'Cruise Ship', 'Kosovo'])]"
   ]
  },
  {
   "cell_type": "code",
   "execution_count": 17,
   "id": "related-center",
   "metadata": {
    "execution": {
     "iopub.execute_input": "2021-09-11T00:22:40.061568Z",
     "iopub.status.busy": "2021-09-11T00:22:40.060974Z",
     "iopub.status.idle": "2021-09-11T00:22:40.075067Z",
     "shell.execute_reply": "2021-09-11T00:22:40.075477Z"
    },
    "papermill": {
     "duration": 0.057748,
     "end_time": "2021-09-11T00:22:40.075613",
     "exception": false,
     "start_time": "2021-09-11T00:22:40.017865",
     "status": "completed"
    },
    "tags": []
   },
   "outputs": [],
   "source": [
    "#hide\n",
    "metrics = [df_table.columns[index] for index in [1,2,5,6]]\n",
    "# s_china = df_table[df_table['Country/Region'].eq('China')][metrics].sum().add_prefix('China ')\n",
    "s_us = df_table[df_table['Country/Region'].eq('US')][metrics].sum().add_prefix('US ')\n",
    "s_eu = df_table[df_table['Continent'].eq('Europe')][metrics].sum().add_prefix('EU ')\n",
    "s_ind = df_table[df_table['Country/Region'].eq('India')][metrics].sum().add_prefix('India ')\n",
    "summary = {'updated': pd.to_datetime(dt_today), 'since': pd.to_datetime(dt_yday)}\n",
    "summary = {'updated': pd.to_datetime(dt_today), 'since': pd.to_datetime(dt_yday)}\n",
    "summary = {**summary, **df_table[metrics].sum(), **s_ind, **s_us, **s_eu}"
   ]
  },
  {
   "cell_type": "code",
   "execution_count": 18,
   "id": "engaging-syndrome",
   "metadata": {
    "execution": {
     "iopub.execute_input": "2021-09-11T00:22:40.151758Z",
     "iopub.status.busy": "2021-09-11T00:22:40.151175Z",
     "iopub.status.idle": "2021-09-11T00:22:40.166037Z",
     "shell.execute_reply": "2021-09-11T00:22:40.165531Z"
    },
    "papermill": {
     "duration": 0.055866,
     "end_time": "2021-09-11T00:22:40.166187",
     "exception": false,
     "start_time": "2021-09-11T00:22:40.110321",
     "status": "completed"
    },
    "tags": []
   },
   "outputs": [],
   "source": [
    "#hide\n",
    "dft_ct_new_cases = dft_cases.groupby(COL_REGION)[dt_cols].sum().diff(axis=1).fillna(0).astype(int)"
   ]
  },
  {
   "cell_type": "code",
   "execution_count": 19,
   "id": "neutral-assignment",
   "metadata": {
    "execution": {
     "iopub.execute_input": "2021-09-11T00:22:40.236143Z",
     "iopub.status.busy": "2021-09-11T00:22:40.235555Z",
     "iopub.status.idle": "2021-09-11T00:22:40.240057Z",
     "shell.execute_reply": "2021-09-11T00:22:40.239575Z"
    },
    "papermill": {
     "duration": 0.040378,
     "end_time": "2021-09-11T00:22:40.240172",
     "exception": false,
     "start_time": "2021-09-11T00:22:40.199794",
     "status": "completed"
    },
    "tags": []
   },
   "outputs": [],
   "source": [
    "#hide\n",
    "everydaycases = dft_ct_new_cases.cumsum(axis=1)"
   ]
  },
  {
   "cell_type": "code",
   "execution_count": 20,
   "id": "parliamentary-calgary",
   "metadata": {
    "execution": {
     "iopub.execute_input": "2021-09-11T00:22:40.311456Z",
     "iopub.status.busy": "2021-09-11T00:22:40.311011Z",
     "iopub.status.idle": "2021-09-11T00:22:40.857170Z",
     "shell.execute_reply": "2021-09-11T00:22:40.855922Z"
    },
    "papermill": {
     "duration": 0.585022,
     "end_time": "2021-09-11T00:22:40.857368",
     "exception": false,
     "start_time": "2021-09-11T00:22:40.272346",
     "status": "completed"
    },
    "tags": []
   },
   "outputs": [],
   "source": [
    "#hide\n",
    "import pandas as pd\n",
    "import matplotlib.pyplot as plt\n",
    "import matplotlib.ticker as ticker\n",
    "import matplotlib.animation as animation\n",
    "from IPython.display import HTML"
   ]
  },
  {
   "cell_type": "code",
   "execution_count": 21,
   "id": "lasting-extraction",
   "metadata": {
    "execution": {
     "iopub.execute_input": "2021-09-11T00:22:40.929242Z",
     "iopub.status.busy": "2021-09-11T00:22:40.928668Z",
     "iopub.status.idle": "2021-09-11T00:22:40.935337Z",
     "shell.execute_reply": "2021-09-11T00:22:40.934850Z"
    },
    "papermill": {
     "duration": 0.045423,
     "end_time": "2021-09-11T00:22:40.935459",
     "exception": false,
     "start_time": "2021-09-11T00:22:40.890036",
     "status": "completed"
    },
    "tags": []
   },
   "outputs": [],
   "source": [
    "#hide\n",
    "t = everydaycases.stack()"
   ]
  },
  {
   "cell_type": "code",
   "execution_count": 22,
   "id": "premier-sleeve",
   "metadata": {
    "execution": {
     "iopub.execute_input": "2021-09-11T00:22:41.003479Z",
     "iopub.status.busy": "2021-09-11T00:22:41.002980Z",
     "iopub.status.idle": "2021-09-11T00:22:41.011483Z",
     "shell.execute_reply": "2021-09-11T00:22:41.011971Z"
    },
    "papermill": {
     "duration": 0.046152,
     "end_time": "2021-09-11T00:22:41.012104",
     "exception": false,
     "start_time": "2021-09-11T00:22:40.965952",
     "status": "completed"
    },
    "tags": []
   },
   "outputs": [],
   "source": [
    "#hide\n",
    "g = t.reset_index(['Country/Region'])"
   ]
  },
  {
   "cell_type": "code",
   "execution_count": 23,
   "id": "distributed-pittsburgh",
   "metadata": {
    "execution": {
     "iopub.execute_input": "2021-09-11T00:22:41.084390Z",
     "iopub.status.busy": "2021-09-11T00:22:41.083785Z",
     "iopub.status.idle": "2021-09-11T00:22:41.085456Z",
     "shell.execute_reply": "2021-09-11T00:22:41.085953Z"
    },
    "papermill": {
     "duration": 0.040727,
     "end_time": "2021-09-11T00:22:41.086079",
     "exception": false,
     "start_time": "2021-09-11T00:22:41.045352",
     "status": "completed"
    },
    "tags": []
   },
   "outputs": [],
   "source": [
    "#hide\n",
    "g.index.name = 'date'"
   ]
  },
  {
   "cell_type": "code",
   "execution_count": 24,
   "id": "naked-donor",
   "metadata": {
    "execution": {
     "iopub.execute_input": "2021-09-11T00:22:41.158408Z",
     "iopub.status.busy": "2021-09-11T00:22:41.157834Z",
     "iopub.status.idle": "2021-09-11T00:22:41.160204Z",
     "shell.execute_reply": "2021-09-11T00:22:41.160781Z"
    },
    "papermill": {
     "duration": 0.040806,
     "end_time": "2021-09-11T00:22:41.160922",
     "exception": false,
     "start_time": "2021-09-11T00:22:41.120116",
     "status": "completed"
    },
    "tags": []
   },
   "outputs": [],
   "source": [
    "# #hide\n",
    "# g = g.reset_index(['date'])"
   ]
  },
  {
   "cell_type": "code",
   "execution_count": 25,
   "id": "incomplete-mustang",
   "metadata": {
    "execution": {
     "iopub.execute_input": "2021-09-11T00:22:41.234674Z",
     "iopub.status.busy": "2021-09-11T00:22:41.234037Z",
     "iopub.status.idle": "2021-09-11T00:22:41.236225Z",
     "shell.execute_reply": "2021-09-11T00:22:41.236702Z"
    },
    "papermill": {
     "duration": 0.041518,
     "end_time": "2021-09-11T00:22:41.236834",
     "exception": false,
     "start_time": "2021-09-11T00:22:41.195316",
     "status": "completed"
    },
    "tags": []
   },
   "outputs": [],
   "source": [
    "#hide\n",
    "# g.head()"
   ]
  },
  {
   "cell_type": "code",
   "execution_count": 26,
   "id": "specific-kruger",
   "metadata": {
    "execution": {
     "iopub.execute_input": "2021-09-11T00:22:41.309297Z",
     "iopub.status.busy": "2021-09-11T00:22:41.308725Z",
     "iopub.status.idle": "2021-09-11T00:22:41.311576Z",
     "shell.execute_reply": "2021-09-11T00:22:41.311106Z"
    },
    "papermill": {
     "duration": 0.041104,
     "end_time": "2021-09-11T00:22:41.311703",
     "exception": false,
     "start_time": "2021-09-11T00:22:41.270599",
     "status": "completed"
    },
    "tags": []
   },
   "outputs": [],
   "source": [
    "#hide\n",
    "# g.columns = ['date','country','cases']"
   ]
  },
  {
   "cell_type": "code",
   "execution_count": 27,
   "id": "tender-conversion",
   "metadata": {
    "execution": {
     "iopub.execute_input": "2021-09-11T00:22:41.385171Z",
     "iopub.status.busy": "2021-09-11T00:22:41.384577Z",
     "iopub.status.idle": "2021-09-11T00:22:41.386928Z",
     "shell.execute_reply": "2021-09-11T00:22:41.387447Z"
    },
    "papermill": {
     "duration": 0.041641,
     "end_time": "2021-09-11T00:22:41.387582",
     "exception": false,
     "start_time": "2021-09-11T00:22:41.345941",
     "status": "completed"
    },
    "tags": []
   },
   "outputs": [],
   "source": [
    "#hide\n",
    "# g['continent'] = g.country"
   ]
  },
  {
   "cell_type": "code",
   "execution_count": 28,
   "id": "substantial-wilderness",
   "metadata": {
    "execution": {
     "iopub.execute_input": "2021-09-11T00:22:41.460314Z",
     "iopub.status.busy": "2021-09-11T00:22:41.459764Z",
     "iopub.status.idle": "2021-09-11T00:22:41.461455Z",
     "shell.execute_reply": "2021-09-11T00:22:41.461913Z"
    },
    "papermill": {
     "duration": 0.040208,
     "end_time": "2021-09-11T00:22:41.462045",
     "exception": false,
     "start_time": "2021-09-11T00:22:41.421837",
     "status": "completed"
    },
    "tags": []
   },
   "outputs": [],
   "source": [
    "#hide\n",
    "# cols = list(g.columns.values)"
   ]
  },
  {
   "cell_type": "code",
   "execution_count": 29,
   "id": "solved-farming",
   "metadata": {
    "execution": {
     "iopub.execute_input": "2021-09-11T00:22:41.532547Z",
     "iopub.status.busy": "2021-09-11T00:22:41.532005Z",
     "iopub.status.idle": "2021-09-11T00:22:41.534420Z",
     "shell.execute_reply": "2021-09-11T00:22:41.534974Z"
    },
    "papermill": {
     "duration": 0.040795,
     "end_time": "2021-09-11T00:22:41.535112",
     "exception": false,
     "start_time": "2021-09-11T00:22:41.494317",
     "status": "completed"
    },
    "tags": []
   },
   "outputs": [],
   "source": [
    "#hide\n",
    "# cols.insert(0, cols.pop())"
   ]
  },
  {
   "cell_type": "code",
   "execution_count": 30,
   "id": "executed-adoption",
   "metadata": {
    "execution": {
     "iopub.execute_input": "2021-09-11T00:22:41.604190Z",
     "iopub.status.busy": "2021-09-11T00:22:41.603645Z",
     "iopub.status.idle": "2021-09-11T00:22:41.605734Z",
     "shell.execute_reply": "2021-09-11T00:22:41.606169Z"
    },
    "papermill": {
     "duration": 0.037287,
     "end_time": "2021-09-11T00:22:41.606327",
     "exception": false,
     "start_time": "2021-09-11T00:22:41.569040",
     "status": "completed"
    },
    "tags": []
   },
   "outputs": [],
   "source": [
    "#hide\n",
    "# g = g[cols]"
   ]
  },
  {
   "cell_type": "code",
   "execution_count": 31,
   "id": "subject-dublin",
   "metadata": {
    "execution": {
     "iopub.execute_input": "2021-09-11T00:22:41.673632Z",
     "iopub.status.busy": "2021-09-11T00:22:41.673097Z",
     "iopub.status.idle": "2021-09-11T00:22:41.675135Z",
     "shell.execute_reply": "2021-09-11T00:22:41.675585Z"
    },
    "papermill": {
     "duration": 0.037219,
     "end_time": "2021-09-11T00:22:41.675695",
     "exception": false,
     "start_time": "2021-09-11T00:22:41.638476",
     "status": "completed"
    },
    "tags": []
   },
   "outputs": [],
   "source": [
    "#hide\n",
    "# g['continent'] = g['continent'].map(mapping['map.continent'])"
   ]
  },
  {
   "cell_type": "code",
   "execution_count": 32,
   "id": "freelance-scout",
   "metadata": {
    "execution": {
     "iopub.execute_input": "2021-09-11T00:22:41.740452Z",
     "iopub.status.busy": "2021-09-11T00:22:41.739962Z",
     "iopub.status.idle": "2021-09-11T00:22:41.742184Z",
     "shell.execute_reply": "2021-09-11T00:22:41.742714Z"
    },
    "papermill": {
     "duration": 0.036503,
     "end_time": "2021-09-11T00:22:41.742833",
     "exception": false,
     "start_time": "2021-09-11T00:22:41.706330",
     "status": "completed"
    },
    "tags": []
   },
   "outputs": [],
   "source": [
    "#hide\n",
    "# g.head()"
   ]
  },
  {
   "cell_type": "code",
   "execution_count": 33,
   "id": "limited-engine",
   "metadata": {
    "execution": {
     "iopub.execute_input": "2021-09-11T00:22:41.809015Z",
     "iopub.status.busy": "2021-09-11T00:22:41.808443Z",
     "iopub.status.idle": "2021-09-11T00:22:41.810880Z",
     "shell.execute_reply": "2021-09-11T00:22:41.811424Z"
    },
    "papermill": {
     "duration": 0.038396,
     "end_time": "2021-09-11T00:22:41.811549",
     "exception": false,
     "start_time": "2021-09-11T00:22:41.773153",
     "status": "completed"
    },
    "tags": []
   },
   "outputs": [],
   "source": [
    "# hide\n",
    "# g['date'] = g['date'].astype('datetime64[ns]')"
   ]
  },
  {
   "cell_type": "code",
   "execution_count": 34,
   "id": "sophisticated-supervisor",
   "metadata": {
    "execution": {
     "iopub.execute_input": "2021-09-11T00:22:41.874056Z",
     "iopub.status.busy": "2021-09-11T00:22:41.873616Z",
     "iopub.status.idle": "2021-09-11T00:22:41.875964Z",
     "shell.execute_reply": "2021-09-11T00:22:41.876476Z"
    },
    "papermill": {
     "duration": 0.036115,
     "end_time": "2021-09-11T00:22:41.876590",
     "exception": false,
     "start_time": "2021-09-11T00:22:41.840475",
     "status": "completed"
    },
    "tags": []
   },
   "outputs": [],
   "source": [
    "#hide\n",
    "# g['date'] = g.date.dt.dayofyear"
   ]
  },
  {
   "cell_type": "code",
   "execution_count": 35,
   "id": "inside-dubai",
   "metadata": {
    "execution": {
     "iopub.execute_input": "2021-09-11T00:22:41.941990Z",
     "iopub.status.busy": "2021-09-11T00:22:41.941416Z",
     "iopub.status.idle": "2021-09-11T00:22:41.944315Z",
     "shell.execute_reply": "2021-09-11T00:22:41.943892Z"
    },
    "papermill": {
     "duration": 0.037904,
     "end_time": "2021-09-11T00:22:41.944420",
     "exception": false,
     "start_time": "2021-09-11T00:22:41.906516",
     "status": "completed"
    },
    "tags": []
   },
   "outputs": [],
   "source": [
    "#hide\n",
    "# g = g.rename(columns= {'continent':'group','country':'name','cases':'value'})"
   ]
  },
  {
   "cell_type": "code",
   "execution_count": 36,
   "id": "fleet-motorcycle",
   "metadata": {
    "execution": {
     "iopub.execute_input": "2021-09-11T00:22:42.014513Z",
     "iopub.status.busy": "2021-09-11T00:22:42.013938Z",
     "iopub.status.idle": "2021-09-11T00:22:42.016545Z",
     "shell.execute_reply": "2021-09-11T00:22:42.016077Z"
    },
    "papermill": {
     "duration": 0.039921,
     "end_time": "2021-09-11T00:22:42.016660",
     "exception": false,
     "start_time": "2021-09-11T00:22:41.976739",
     "status": "completed"
    },
    "tags": []
   },
   "outputs": [],
   "source": [
    "#hide\n",
    "# cols = ['name','group','day','value']"
   ]
  },
  {
   "cell_type": "code",
   "execution_count": 37,
   "id": "continued-sleeping",
   "metadata": {
    "execution": {
     "iopub.execute_input": "2021-09-11T00:22:42.084709Z",
     "iopub.status.busy": "2021-09-11T00:22:42.084135Z",
     "iopub.status.idle": "2021-09-11T00:22:42.086248Z",
     "shell.execute_reply": "2021-09-11T00:22:42.085779Z"
    },
    "papermill": {
     "duration": 0.037734,
     "end_time": "2021-09-11T00:22:42.086357",
     "exception": false,
     "start_time": "2021-09-11T00:22:42.048623",
     "status": "completed"
    },
    "tags": []
   },
   "outputs": [],
   "source": [
    "#hide\n",
    "# g.rename(columns= {'date':'day'},inplace = True)"
   ]
  },
  {
   "cell_type": "code",
   "execution_count": 38,
   "id": "major-fight",
   "metadata": {
    "execution": {
     "iopub.execute_input": "2021-09-11T00:22:42.154897Z",
     "iopub.status.busy": "2021-09-11T00:22:42.154168Z",
     "iopub.status.idle": "2021-09-11T00:22:42.156922Z",
     "shell.execute_reply": "2021-09-11T00:22:42.157461Z"
    },
    "papermill": {
     "duration": 0.039572,
     "end_time": "2021-09-11T00:22:42.157590",
     "exception": false,
     "start_time": "2021-09-11T00:22:42.118018",
     "status": "completed"
    },
    "tags": []
   },
   "outputs": [],
   "source": [
    "#hide\n",
    "# g = g[cols]"
   ]
  },
  {
   "cell_type": "code",
   "execution_count": 39,
   "id": "structured-mobile",
   "metadata": {
    "execution": {
     "iopub.execute_input": "2021-09-11T00:22:42.223426Z",
     "iopub.status.busy": "2021-09-11T00:22:42.222962Z",
     "iopub.status.idle": "2021-09-11T00:22:42.225342Z",
     "shell.execute_reply": "2021-09-11T00:22:42.224888Z"
    },
    "papermill": {
     "duration": 0.035698,
     "end_time": "2021-09-11T00:22:42.225446",
     "exception": false,
     "start_time": "2021-09-11T00:22:42.189748",
     "status": "completed"
    },
    "tags": []
   },
   "outputs": [],
   "source": [
    "# #hide\n",
    "# g = g[g.group.notna()]"
   ]
  },
  {
   "cell_type": "code",
   "execution_count": 40,
   "id": "determined-closing",
   "metadata": {
    "execution": {
     "iopub.execute_input": "2021-09-11T00:22:42.292106Z",
     "iopub.status.busy": "2021-09-11T00:22:42.291569Z",
     "iopub.status.idle": "2021-09-11T00:22:42.294347Z",
     "shell.execute_reply": "2021-09-11T00:22:42.293822Z"
    },
    "papermill": {
     "duration": 0.037052,
     "end_time": "2021-09-11T00:22:42.294453",
     "exception": false,
     "start_time": "2021-09-11T00:22:42.257401",
     "status": "completed"
    },
    "tags": []
   },
   "outputs": [],
   "source": [
    "# #hide\n",
    "# colors = dict(zip(\n",
    "#     [\"Oceania\", \"Europe\", \"Asia\", \"South America\", \"Middle East\", \"North America\", \"Africa\"],\n",
    "#     [\"#adb0ff\", \"#ffb3ff\", \"#90d595\", \"#e48381\", \"#aafbff\", \"#f7bb5f\", \"#eafb50\"]\n",
    "# ))\n",
    "# group_lk = g.set_index('name')['group'].to_dict()"
   ]
  },
  {
   "cell_type": "code",
   "execution_count": null,
   "id": "gross-drinking",
   "metadata": {
    "papermill": {
     "duration": 0.032166,
     "end_time": "2021-09-11T00:22:42.356832",
     "exception": false,
     "start_time": "2021-09-11T00:22:42.324666",
     "status": "completed"
    },
    "tags": []
   },
   "outputs": [],
   "source": []
  },
  {
   "cell_type": "code",
   "execution_count": 41,
   "id": "subject-macintosh",
   "metadata": {
    "execution": {
     "iopub.execute_input": "2021-09-11T00:22:42.424013Z",
     "iopub.status.busy": "2021-09-11T00:22:42.423433Z",
     "iopub.status.idle": "2021-09-11T00:22:42.425814Z",
     "shell.execute_reply": "2021-09-11T00:22:42.425349Z"
    },
    "papermill": {
     "duration": 0.039355,
     "end_time": "2021-09-11T00:22:42.425933",
     "exception": false,
     "start_time": "2021-09-11T00:22:42.386578",
     "status": "completed"
    },
    "tags": []
   },
   "outputs": [],
   "source": [
    "# #hide\n",
    "# fig, ax = plt.subplots(figsize=(15, 8))\n",
    "\n",
    "# def draw_barchart(current_day):\n",
    "#     dff = g[g['day'].eq(current_day)].sort_values(by='value', ascending=True).tail(10)\n",
    "#     ax.clear()\n",
    "#     ax.barh(dff['name'], dff['value'], color=[colors[group_lk[x]] for x in dff['name']])\n",
    "#     dx = dff['value'].max() / 200\n",
    "    \n",
    "#     for i, (value, name) in enumerate(zip(dff['value'], dff['name'])):\n",
    "#         ax.text(value-dx, i,     name,           size=14, weight=600, ha='right', va='bottom')\n",
    "#         ax.text(value-dx, i-.25, group_lk[name], size=10, color='#444444', ha='right', va='baseline')\n",
    "#         ax.text(value+dx, i,     f'{value:,.0f}',  size=14, ha='left',  va='center')\n",
    "#     ax.text(1, 0.4, current_day, transform=ax.transAxes, color='#777777', size=46, ha='right', weight=800)\n",
    "#     ax.text(0, 1.06, 'Population (thousands)', transform=ax.transAxes, size=12, color='#777777')\n",
    "#     ax.xaxis.set_major_formatter(ticker.StrMethodFormatter('{x:,.0f}'))\n",
    "#     ax.xaxis.set_ticks_position('top')\n",
    "#     ax.tick_params(axis='x', colors='#777777', labelsize=12)\n",
    "#     ax.set_yticks([])\n",
    "#     ax.margins(0, 0.01)\n",
    "#     ax.grid(which='major', axis='x', linestyle='-')\n",
    "#     ax.set_axisbelow(True)\n",
    "    \n",
    "#     ax.text(0, 1.15, 'Coronavirus',\n",
    "#             transform=ax.transAxes, size=24, weight=600, ha='left', va='top')\n",
    "# #     ax.text(1, 0, 'by @pratapvardhan; credit @jburnmurdoch', transform=ax.transAxes, color='#777777', ha='right',\n",
    "# #             bbox=dict(facecolor='white', alpha=0.8, edgecolor='white'))\n",
    "#     plt.box(False)"
   ]
  },
  {
   "cell_type": "code",
   "execution_count": 42,
   "id": "sexual-wages",
   "metadata": {
    "execution": {
     "iopub.execute_input": "2021-09-11T00:22:42.492619Z",
     "iopub.status.busy": "2021-09-11T00:22:42.492065Z",
     "iopub.status.idle": "2021-09-11T00:22:42.493965Z",
     "shell.execute_reply": "2021-09-11T00:22:42.494294Z"
    },
    "papermill": {
     "duration": 0.036957,
     "end_time": "2021-09-11T00:22:42.494417",
     "exception": false,
     "start_time": "2021-09-11T00:22:42.457460",
     "status": "completed"
    },
    "tags": []
   },
   "outputs": [],
   "source": [
    "# #hide_input\n",
    "# fig, ax = plt.subplots(figsize=(15, 8))\n",
    "# animator = animation.FuncAnimation(fig, draw_barchart, frames=range(g.day.values.min(), g.day.values.max()))\n",
    "# HTML(animator.to_jshtml())\n",
    "# # or use animator.to_html5_video() or animator.save() "
   ]
  },
  {
   "cell_type": "code",
   "execution_count": null,
   "id": "australian-container",
   "metadata": {
    "papermill": {
     "duration": 0.030482,
     "end_time": "2021-09-11T00:22:42.554588",
     "exception": false,
     "start_time": "2021-09-11T00:22:42.524106",
     "status": "completed"
    },
    "tags": []
   },
   "outputs": [],
   "source": []
  },
  {
   "cell_type": "code",
   "execution_count": null,
   "id": "mediterranean-pontiac",
   "metadata": {
    "papermill": {
     "duration": 0.032933,
     "end_time": "2021-09-11T00:22:42.616639",
     "exception": false,
     "start_time": "2021-09-11T00:22:42.583706",
     "status": "completed"
    },
    "tags": []
   },
   "outputs": [],
   "source": []
  },
  {
   "cell_type": "code",
   "execution_count": null,
   "id": "aging-legislature",
   "metadata": {
    "papermill": {
     "duration": 0.031586,
     "end_time": "2021-09-11T00:22:42.679819",
     "exception": false,
     "start_time": "2021-09-11T00:22:42.648233",
     "status": "completed"
    },
    "tags": []
   },
   "outputs": [],
   "source": []
  }
 ],
 "metadata": {
  "kernelspec": {
   "display_name": "Python 3",
   "language": "python",
   "name": "python3"
  },
  "language_info": {
   "codemirror_mode": {
    "name": "ipython",
    "version": 3
   },
   "file_extension": ".py",
   "mimetype": "text/x-python",
   "name": "python",
   "nbconvert_exporter": "python",
   "pygments_lexer": "ipython3",
   "version": "3.6.14"
  },
  "papermill": {
   "duration": 6.167843,
   "end_time": "2021-09-11T00:22:43.020923",
   "environment_variables": {},
   "exception": null,
   "input_path": "2020-03-21-covid19exp.ipynb",
   "output_path": "2020-03-21-covid19exp.ipynb",
   "parameters": {},
   "start_time": "2021-09-11T00:22:36.853080",
   "version": "2.0.0"
  }
 },
 "nbformat": 4,
 "nbformat_minor": 5
}