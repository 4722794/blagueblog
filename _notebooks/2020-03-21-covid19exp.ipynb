{
 "cells": [
  {
   "cell_type": "markdown",
   "id": "muslim-click",
   "metadata": {
    "papermill": {
     "duration": 0.039696,
     "end_time": "2022-09-05T00:54:28.457258",
     "exception": false,
     "start_time": "2022-09-05T00:54:28.417562",
     "status": "completed"
    },
    "tags": []
   },
   "source": [
    "# COVID-19 Case Race\n",
    "> A race chart to see rising cases around the world\n",
    "\n",
    "- author: Hargun Oberoi\n",
    "- image: images/covid-overview.png\n",
    "- hide: false\n",
    "- badges: false"
   ]
  },
  {
   "cell_type": "code",
   "execution_count": 1,
   "id": "proof-material",
   "metadata": {
    "execution": {
     "iopub.execute_input": "2022-09-05T00:54:28.538565Z",
     "iopub.status.busy": "2022-09-05T00:54:28.537862Z",
     "iopub.status.idle": "2022-09-05T00:54:28.915083Z",
     "shell.execute_reply": "2022-09-05T00:54:28.914401Z"
    },
    "papermill": {
     "duration": 0.421485,
     "end_time": "2022-09-05T00:54:28.915266",
     "exception": false,
     "start_time": "2022-09-05T00:54:28.493781",
     "status": "completed"
    },
    "tags": []
   },
   "outputs": [],
   "source": [
    "#hide\n",
    "import numpy as np\n",
    "import pandas as pd\n",
    "from jinja2 import Template\n",
    "from IPython.display import HTML"
   ]
  },
  {
   "cell_type": "code",
   "execution_count": 2,
   "id": "developed-terminology",
   "metadata": {
    "execution": {
     "iopub.execute_input": "2022-09-05T00:54:28.997164Z",
     "iopub.status.busy": "2022-09-05T00:54:28.996438Z",
     "iopub.status.idle": "2022-09-05T00:54:28.999566Z",
     "shell.execute_reply": "2022-09-05T00:54:28.999043Z"
    },
    "papermill": {
     "duration": 0.04711,
     "end_time": "2022-09-05T00:54:28.999717",
     "exception": false,
     "start_time": "2022-09-05T00:54:28.952607",
     "status": "completed"
    },
    "tags": []
   },
   "outputs": [],
   "source": [
    "#hide\n",
    "\n",
    "# FETCH\n",
    "base_url = 'https://raw.githubusercontent.com/pratapvardhan/notebooks/master/covid19/'\n",
    "paths = {\n",
    "    'mapping': base_url + 'mapping_countries.csv',\n",
    "    'overview': base_url + 'overview.tpl'\n",
    "}"
   ]
  },
  {
   "cell_type": "code",
   "execution_count": 3,
   "id": "dynamic-saver",
   "metadata": {
    "execution": {
     "iopub.execute_input": "2022-09-05T00:54:29.083879Z",
     "iopub.status.busy": "2022-09-05T00:54:29.083068Z",
     "iopub.status.idle": "2022-09-05T00:54:29.087258Z",
     "shell.execute_reply": "2022-09-05T00:54:29.086683Z"
    },
    "papermill": {
     "duration": 0.052076,
     "end_time": "2022-09-05T00:54:29.087385",
     "exception": false,
     "start_time": "2022-09-05T00:54:29.035309",
     "status": "completed"
    },
    "tags": []
   },
   "outputs": [
    {
     "data": {
      "text/plain": [
       "'https://raw.githubusercontent.com/pratapvardhan/notebooks/master/covid19/mapping_countries.csv'"
      ]
     },
     "execution_count": 3,
     "metadata": {},
     "output_type": "execute_result"
    }
   ],
   "source": [
    "#hide\n",
    "paths['mapping']"
   ]
  },
  {
   "cell_type": "code",
   "execution_count": 4,
   "id": "urban-software",
   "metadata": {
    "execution": {
     "iopub.execute_input": "2022-09-05T00:54:29.162053Z",
     "iopub.status.busy": "2022-09-05T00:54:29.161396Z",
     "iopub.status.idle": "2022-09-05T00:54:29.166022Z",
     "shell.execute_reply": "2022-09-05T00:54:29.165509Z"
    },
    "papermill": {
     "duration": 0.043716,
     "end_time": "2022-09-05T00:54:29.166139",
     "exception": false,
     "start_time": "2022-09-05T00:54:29.122423",
     "status": "completed"
    },
    "tags": []
   },
   "outputs": [],
   "source": [
    "#hide\n",
    "def get_mappings(url):\n",
    "    df = pd.read_csv(url)\n",
    "    return {\n",
    "        'df': df,\n",
    "        'replace.country': dict(df.dropna(subset=['Name']).set_index('Country')['Name']),\n",
    "        'map.continent': dict(df.set_index('Name')['Continent'])\n",
    "    }"
   ]
  },
  {
   "cell_type": "code",
   "execution_count": 5,
   "id": "intimate-machinery",
   "metadata": {
    "execution": {
     "iopub.execute_input": "2022-09-05T00:54:29.258725Z",
     "iopub.status.busy": "2022-09-05T00:54:29.258011Z",
     "iopub.status.idle": "2022-09-05T00:54:29.289107Z",
     "shell.execute_reply": "2022-09-05T00:54:29.288497Z"
    },
    "papermill": {
     "duration": 0.072471,
     "end_time": "2022-09-05T00:54:29.289240",
     "exception": false,
     "start_time": "2022-09-05T00:54:29.216769",
     "status": "completed"
    },
    "tags": []
   },
   "outputs": [],
   "source": [
    "#hide\n",
    "mapping = get_mappings(paths['mapping'])"
   ]
  },
  {
   "cell_type": "code",
   "execution_count": 6,
   "id": "certified-tactics",
   "metadata": {
    "execution": {
     "iopub.execute_input": "2022-09-05T00:54:29.372668Z",
     "iopub.status.busy": "2022-09-05T00:54:29.370582Z",
     "iopub.status.idle": "2022-09-05T00:54:29.376683Z",
     "shell.execute_reply": "2022-09-05T00:54:29.375915Z"
    },
    "papermill": {
     "duration": 0.049884,
     "end_time": "2022-09-05T00:54:29.376824",
     "exception": false,
     "start_time": "2022-09-05T00:54:29.326940",
     "status": "completed"
    },
    "tags": []
   },
   "outputs": [],
   "source": [
    "#hide\n",
    "def get_template(path):\n",
    "    from urllib.parse import urlparse\n",
    "    if bool(urlparse(path).netloc):\n",
    "        from urllib.request import urlopen\n",
    "        return urlopen(path).read().decode('utf8')\n",
    "    return open(path).read()"
   ]
  },
  {
   "cell_type": "code",
   "execution_count": 7,
   "id": "realistic-blast",
   "metadata": {
    "execution": {
     "iopub.execute_input": "2022-09-05T00:54:29.460084Z",
     "iopub.status.busy": "2022-09-05T00:54:29.459393Z",
     "iopub.status.idle": "2022-09-05T00:54:29.462950Z",
     "shell.execute_reply": "2022-09-05T00:54:29.462403Z"
    },
    "papermill": {
     "duration": 0.043561,
     "end_time": "2022-09-05T00:54:29.463070",
     "exception": false,
     "start_time": "2022-09-05T00:54:29.419509",
     "status": "completed"
    },
    "tags": []
   },
   "outputs": [],
   "source": [
    "#hide\n",
    "def get_frame(name):\n",
    "    url = (\n",
    "        'https://raw.githubusercontent.com/CSSEGISandData/COVID-19/master/csse_covid_19_data/'\n",
    "        f'csse_covid_19_time_series/time_series_covid19_{name}_global.csv')\n",
    "    df = pd.read_csv(url)\n",
    "    # rename countries\n",
    "    df['Country/Region'] = df['Country/Region'].replace(mapping['replace.country'])\n",
    "    return df"
   ]
  },
  {
   "cell_type": "code",
   "execution_count": 8,
   "id": "affiliated-characterization",
   "metadata": {
    "execution": {
     "iopub.execute_input": "2022-09-05T00:54:29.538557Z",
     "iopub.status.busy": "2022-09-05T00:54:29.537878Z",
     "iopub.status.idle": "2022-09-05T00:54:29.540448Z",
     "shell.execute_reply": "2022-09-05T00:54:29.540998Z"
    },
    "papermill": {
     "duration": 0.043965,
     "end_time": "2022-09-05T00:54:29.541141",
     "exception": false,
     "start_time": "2022-09-05T00:54:29.497176",
     "status": "completed"
    },
    "tags": []
   },
   "outputs": [],
   "source": [
    "#hide\n",
    "def get_dates(df):\n",
    "    dt_cols = df.columns[~df.columns.isin(['Province/State', 'Country/Region', 'Lat', 'Long'])]\n",
    "    LAST_DATE_I = -1\n",
    "    # sometimes last column may be empty, then go backwards\n",
    "    for i in range(-1, -len(dt_cols), -1):\n",
    "        if not df[dt_cols[i]].fillna(0).eq(0).all():\n",
    "            LAST_DATE_I = i\n",
    "            break\n",
    "    return LAST_DATE_I, dt_cols"
   ]
  },
  {
   "cell_type": "code",
   "execution_count": 9,
   "id": "recent-optimization",
   "metadata": {
    "execution": {
     "iopub.execute_input": "2022-09-05T00:54:29.616711Z",
     "iopub.status.busy": "2022-09-05T00:54:29.616000Z",
     "iopub.status.idle": "2022-09-05T00:54:30.072941Z",
     "shell.execute_reply": "2022-09-05T00:54:30.072281Z"
    },
    "papermill": {
     "duration": 0.496055,
     "end_time": "2022-09-05T00:54:30.073104",
     "exception": false,
     "start_time": "2022-09-05T00:54:29.577049",
     "status": "completed"
    },
    "tags": []
   },
   "outputs": [],
   "source": [
    "#hide\n",
    "COL_REGION = 'Country/Region'\n",
    "# Confirmed, Recovered, Deaths\n",
    "df = get_frame('confirmed')\n",
    "# dft_: timeseries, dfc_: today country agg\n",
    "dft_cases = df\n",
    "dft_deaths = get_frame('deaths')\n",
    "dft_recovered = get_frame('recovered')\n",
    "LAST_DATE_I, dt_cols = get_dates(df)"
   ]
  },
  {
   "cell_type": "code",
   "execution_count": 10,
   "id": "absolute-copper",
   "metadata": {
    "execution": {
     "iopub.execute_input": "2022-09-05T00:54:30.163967Z",
     "iopub.status.busy": "2022-09-05T00:54:30.163129Z",
     "iopub.status.idle": "2022-09-05T00:54:30.167664Z",
     "shell.execute_reply": "2022-09-05T00:54:30.167114Z"
    },
    "papermill": {
     "duration": 0.053703,
     "end_time": "2022-09-05T00:54:30.167791",
     "exception": false,
     "start_time": "2022-09-05T00:54:30.114088",
     "status": "completed"
    },
    "tags": []
   },
   "outputs": [],
   "source": [
    "#hide\n",
    "LAST_DATE_I, dt_cols = get_dates(df)\n",
    "dt_today =dt_cols[LAST_DATE_I]\n",
    "# dt_5day = dt_cols[LAST_DATE_I - 5]\n",
    "dt_yday = dt_cols[LAST_DATE_I - 1]"
   ]
  },
  {
   "cell_type": "code",
   "execution_count": 11,
   "id": "restricted-sheriff",
   "metadata": {
    "execution": {
     "iopub.execute_input": "2022-09-05T00:54:30.245479Z",
     "iopub.status.busy": "2022-09-05T00:54:30.244784Z",
     "iopub.status.idle": "2022-09-05T00:54:30.252213Z",
     "shell.execute_reply": "2022-09-05T00:54:30.252944Z"
    },
    "papermill": {
     "duration": 0.049522,
     "end_time": "2022-09-05T00:54:30.253097",
     "exception": false,
     "start_time": "2022-09-05T00:54:30.203575",
     "status": "completed"
    },
    "tags": []
   },
   "outputs": [],
   "source": [
    "#hide\n",
    "dfc_cases = dft_cases.groupby(COL_REGION)[dt_today].sum()\n",
    "dfc_deaths = dft_deaths.groupby(COL_REGION)[dt_today].sum()\n",
    "# dfp_cases = dft_cases.groupby(COL_REGION)[dt_5day].sum()\n",
    "# dfp_deaths = dft_deaths.groupby(COL_REGION)[dt_5day].sum()\n",
    "dfp_cases = dft_cases.groupby(COL_REGION)[dt_yday].sum()\n",
    "dfp_deaths = dft_deaths.groupby(COL_REGION)[dt_yday].sum()"
   ]
  },
  {
   "cell_type": "code",
   "execution_count": 12,
   "id": "deluxe-hepatitis",
   "metadata": {
    "execution": {
     "iopub.execute_input": "2022-09-05T00:54:30.329397Z",
     "iopub.status.busy": "2022-09-05T00:54:30.328656Z",
     "iopub.status.idle": "2022-09-05T00:54:30.334696Z",
     "shell.execute_reply": "2022-09-05T00:54:30.333997Z"
    },
    "papermill": {
     "duration": 0.046974,
     "end_time": "2022-09-05T00:54:30.334823",
     "exception": false,
     "start_time": "2022-09-05T00:54:30.287849",
     "status": "completed"
    },
    "tags": []
   },
   "outputs": [],
   "source": [
    "#hide\n",
    "df_table = (pd.DataFrame(dict(Cases = dfc_cases, Deaths = dfc_deaths, PCases = dfp_cases, PDeaths = dfp_deaths))\n",
    "            .sort_values(by = ['Cases','Deaths'], ascending = [False, False])\n",
    "            .reset_index())"
   ]
  },
  {
   "cell_type": "code",
   "execution_count": 13,
   "id": "educational-chancellor",
   "metadata": {
    "execution": {
     "iopub.execute_input": "2022-09-05T00:54:30.428955Z",
     "iopub.status.busy": "2022-09-05T00:54:30.428208Z",
     "iopub.status.idle": "2022-09-05T00:54:30.445669Z",
     "shell.execute_reply": "2022-09-05T00:54:30.444790Z"
    },
    "papermill": {
     "duration": 0.076125,
     "end_time": "2022-09-05T00:54:30.445804",
     "exception": false,
     "start_time": "2022-09-05T00:54:30.369679",
     "status": "completed"
    },
    "tags": []
   },
   "outputs": [
    {
     "data": {
      "text/html": [
       "<div>\n",
       "<style scoped>\n",
       "    .dataframe tbody tr th:only-of-type {\n",
       "        vertical-align: middle;\n",
       "    }\n",
       "\n",
       "    .dataframe tbody tr th {\n",
       "        vertical-align: top;\n",
       "    }\n",
       "\n",
       "    .dataframe thead th {\n",
       "        text-align: right;\n",
       "    }\n",
       "</style>\n",
       "<table border=\"1\" class=\"dataframe\">\n",
       "  <thead>\n",
       "    <tr style=\"text-align: right;\">\n",
       "      <th></th>\n",
       "      <th>Country/Region</th>\n",
       "      <th>Cases</th>\n",
       "      <th>Deaths</th>\n",
       "      <th>PCases</th>\n",
       "      <th>PDeaths</th>\n",
       "      <th>Cases (+)</th>\n",
       "      <th>Deaths (+)</th>\n",
       "      <th>Fatality Rate</th>\n",
       "      <th>Continent</th>\n",
       "    </tr>\n",
       "  </thead>\n",
       "  <tbody>\n",
       "    <tr>\n",
       "      <th>0</th>\n",
       "      <td>US</td>\n",
       "      <td>94742293</td>\n",
       "      <td>1047497</td>\n",
       "      <td>94732814</td>\n",
       "      <td>1047478</td>\n",
       "      <td>9479</td>\n",
       "      <td>19</td>\n",
       "      <td>1.11</td>\n",
       "      <td>North America</td>\n",
       "    </tr>\n",
       "    <tr>\n",
       "      <th>1</th>\n",
       "      <td>India</td>\n",
       "      <td>44456535</td>\n",
       "      <td>527991</td>\n",
       "      <td>44449726</td>\n",
       "      <td>527965</td>\n",
       "      <td>6809</td>\n",
       "      <td>26</td>\n",
       "      <td>1.19</td>\n",
       "      <td>Asia</td>\n",
       "    </tr>\n",
       "    <tr>\n",
       "      <th>2</th>\n",
       "      <td>France</td>\n",
       "      <td>34780903</td>\n",
       "      <td>155229</td>\n",
       "      <td>34780903</td>\n",
       "      <td>155229</td>\n",
       "      <td>0</td>\n",
       "      <td>0</td>\n",
       "      <td>0.45</td>\n",
       "      <td>Europe</td>\n",
       "    </tr>\n",
       "    <tr>\n",
       "      <th>3</th>\n",
       "      <td>Brazil</td>\n",
       "      <td>34456145</td>\n",
       "      <td>684262</td>\n",
       "      <td>34456145</td>\n",
       "      <td>684262</td>\n",
       "      <td>0</td>\n",
       "      <td>0</td>\n",
       "      <td>1.99</td>\n",
       "      <td>South America</td>\n",
       "    </tr>\n",
       "    <tr>\n",
       "      <th>4</th>\n",
       "      <td>Germany</td>\n",
       "      <td>32247828</td>\n",
       "      <td>147762</td>\n",
       "      <td>32247828</td>\n",
       "      <td>147762</td>\n",
       "      <td>0</td>\n",
       "      <td>0</td>\n",
       "      <td>0.46</td>\n",
       "      <td>Europe</td>\n",
       "    </tr>\n",
       "  </tbody>\n",
       "</table>\n",
       "</div>"
      ],
      "text/plain": [
       "  Country/Region     Cases   Deaths    PCases  PDeaths  Cases (+)  Deaths (+)  \\\n",
       "0             US  94742293  1047497  94732814  1047478       9479          19   \n",
       "1          India  44456535   527991  44449726   527965       6809          26   \n",
       "2         France  34780903   155229  34780903   155229          0           0   \n",
       "3         Brazil  34456145   684262  34456145   684262          0           0   \n",
       "4        Germany  32247828   147762  32247828   147762          0           0   \n",
       "\n",
       "   Fatality Rate      Continent  \n",
       "0           1.11  North America  \n",
       "1           1.19           Asia  \n",
       "2           0.45         Europe  \n",
       "3           1.99  South America  \n",
       "4           0.46         Europe  "
      ]
     },
     "execution_count": 13,
     "metadata": {},
     "output_type": "execute_result"
    }
   ],
   "source": [
    "#hide\n",
    "for c in 'Cases, Deaths'.split(', '):\n",
    "    df_table[f'{c} (+)'] = (df_table[c] - df_table[f'P{c}']).clip(0)\n",
    "    #Clip ça veut dire, les chiffres negatif sont interdit\n",
    "df_table['Fatality Rate'] = (100* df_table['Deaths']/ df_table['Cases']).round(2)\n",
    "df_table['Continent'] = df_table['Country/Region'].map(mapping['map.continent'])\n",
    "df_table.head(5)"
   ]
  },
  {
   "cell_type": "code",
   "execution_count": 14,
   "id": "aboriginal-bulgaria",
   "metadata": {
    "execution": {
     "iopub.execute_input": "2022-09-05T00:54:30.535296Z",
     "iopub.status.busy": "2022-09-05T00:54:30.534531Z",
     "iopub.status.idle": "2022-09-05T00:54:30.538812Z",
     "shell.execute_reply": "2022-09-05T00:54:30.538048Z"
    },
    "papermill": {
     "duration": 0.051825,
     "end_time": "2022-09-05T00:54:30.538960",
     "exception": false,
     "start_time": "2022-09-05T00:54:30.487135",
     "status": "completed"
    },
    "tags": []
   },
   "outputs": [],
   "source": [
    "#hide\n",
    "#delete problematic countries from table\n",
    "df_table = df_table[~df_table['Country/Region'].isin(['Cape Verde', 'Cruise Ship', 'Kosovo'])]"
   ]
  },
  {
   "cell_type": "code",
   "execution_count": 15,
   "id": "fantastic-effect",
   "metadata": {
    "execution": {
     "iopub.execute_input": "2022-09-05T00:54:30.620548Z",
     "iopub.status.busy": "2022-09-05T00:54:30.619663Z",
     "iopub.status.idle": "2022-09-05T00:54:30.642079Z",
     "shell.execute_reply": "2022-09-05T00:54:30.641337Z"
    },
    "papermill": {
     "duration": 0.067027,
     "end_time": "2022-09-05T00:54:30.642213",
     "exception": false,
     "start_time": "2022-09-05T00:54:30.575186",
     "status": "completed"
    },
    "tags": []
   },
   "outputs": [
    {
     "data": {
      "text/html": [
       "<div>\n",
       "<style scoped>\n",
       "    .dataframe tbody tr th:only-of-type {\n",
       "        vertical-align: middle;\n",
       "    }\n",
       "\n",
       "    .dataframe tbody tr th {\n",
       "        vertical-align: top;\n",
       "    }\n",
       "\n",
       "    .dataframe thead th {\n",
       "        text-align: right;\n",
       "    }\n",
       "</style>\n",
       "<table border=\"1\" class=\"dataframe\">\n",
       "  <thead>\n",
       "    <tr style=\"text-align: right;\">\n",
       "      <th></th>\n",
       "      <th>Country/Region</th>\n",
       "      <th>Cases</th>\n",
       "      <th>Deaths</th>\n",
       "      <th>PCases</th>\n",
       "      <th>PDeaths</th>\n",
       "      <th>Cases (+)</th>\n",
       "      <th>Deaths (+)</th>\n",
       "      <th>Fatality Rate</th>\n",
       "      <th>Continent</th>\n",
       "    </tr>\n",
       "  </thead>\n",
       "  <tbody>\n",
       "    <tr>\n",
       "      <th>0</th>\n",
       "      <td>US</td>\n",
       "      <td>94742293</td>\n",
       "      <td>1047497</td>\n",
       "      <td>94732814</td>\n",
       "      <td>1047478</td>\n",
       "      <td>9479</td>\n",
       "      <td>19</td>\n",
       "      <td>1.1</td>\n",
       "      <td>North America</td>\n",
       "    </tr>\n",
       "    <tr>\n",
       "      <th>1</th>\n",
       "      <td>India</td>\n",
       "      <td>44456535</td>\n",
       "      <td>527991</td>\n",
       "      <td>44449726</td>\n",
       "      <td>527965</td>\n",
       "      <td>6809</td>\n",
       "      <td>26</td>\n",
       "      <td>1.2</td>\n",
       "      <td>Asia</td>\n",
       "    </tr>\n",
       "    <tr>\n",
       "      <th>2</th>\n",
       "      <td>France</td>\n",
       "      <td>34780903</td>\n",
       "      <td>155229</td>\n",
       "      <td>34780903</td>\n",
       "      <td>155229</td>\n",
       "      <td>0</td>\n",
       "      <td>0</td>\n",
       "      <td>0.4</td>\n",
       "      <td>Europe</td>\n",
       "    </tr>\n",
       "    <tr>\n",
       "      <th>3</th>\n",
       "      <td>Brazil</td>\n",
       "      <td>34456145</td>\n",
       "      <td>684262</td>\n",
       "      <td>34456145</td>\n",
       "      <td>684262</td>\n",
       "      <td>0</td>\n",
       "      <td>0</td>\n",
       "      <td>2.0</td>\n",
       "      <td>South America</td>\n",
       "    </tr>\n",
       "    <tr>\n",
       "      <th>4</th>\n",
       "      <td>Germany</td>\n",
       "      <td>32247828</td>\n",
       "      <td>147762</td>\n",
       "      <td>32247828</td>\n",
       "      <td>147762</td>\n",
       "      <td>0</td>\n",
       "      <td>0</td>\n",
       "      <td>0.5</td>\n",
       "      <td>Europe</td>\n",
       "    </tr>\n",
       "  </tbody>\n",
       "</table>\n",
       "</div>"
      ],
      "text/plain": [
       "  Country/Region     Cases   Deaths    PCases  PDeaths  Cases (+)  Deaths (+)  \\\n",
       "0             US  94742293  1047497  94732814  1047478       9479          19   \n",
       "1          India  44456535   527991  44449726   527965       6809          26   \n",
       "2         France  34780903   155229  34780903   155229          0           0   \n",
       "3         Brazil  34456145   684262  34456145   684262          0           0   \n",
       "4        Germany  32247828   147762  32247828   147762          0           0   \n",
       "\n",
       "   Fatality Rate      Continent  \n",
       "0            1.1  North America  \n",
       "1            1.2           Asia  \n",
       "2            0.4         Europe  \n",
       "3            2.0  South America  \n",
       "4            0.5         Europe  "
      ]
     },
     "execution_count": 15,
     "metadata": {},
     "output_type": "execute_result"
    }
   ],
   "source": [
    "#hide\n",
    "df_table = (pd.DataFrame(dict(Cases=dfc_cases, Deaths=dfc_deaths, PCases=dfp_cases, PDeaths=dfp_deaths))\n",
    "             .sort_values(by=['Cases', 'Deaths'], ascending=[False, False])\n",
    "             .reset_index())\n",
    "df_table.rename(columns={'index': 'Country/Region'}, inplace=True)\n",
    "for c in 'Cases, Deaths'.split(', '):\n",
    "    df_table[f'{c} (+)'] = (df_table[c] - df_table[f'P{c}']).clip(0)  # DATA BUG\n",
    "df_table['Fatality Rate'] = (100 * df_table['Deaths'] / df_table['Cases']).round(1)\n",
    "df_table['Continent'] = df_table['Country/Region'].map(mapping['map.continent'])\n",
    "df_table.head(5)"
   ]
  },
  {
   "cell_type": "code",
   "execution_count": 16,
   "id": "fewer-occasion",
   "metadata": {
    "execution": {
     "iopub.execute_input": "2022-09-05T00:54:30.720812Z",
     "iopub.status.busy": "2022-09-05T00:54:30.720015Z",
     "iopub.status.idle": "2022-09-05T00:54:30.723032Z",
     "shell.execute_reply": "2022-09-05T00:54:30.723775Z"
    },
    "papermill": {
     "duration": 0.046436,
     "end_time": "2022-09-05T00:54:30.723941",
     "exception": false,
     "start_time": "2022-09-05T00:54:30.677505",
     "status": "completed"
    },
    "tags": []
   },
   "outputs": [],
   "source": [
    "#hide\n",
    "#delete problematic countries from table\n",
    "df_table = df_table[~df_table['Country/Region'].isin(['Cape Verde', 'Cruise Ship', 'Kosovo'])]"
   ]
  },
  {
   "cell_type": "code",
   "execution_count": 17,
   "id": "related-center",
   "metadata": {
    "execution": {
     "iopub.execute_input": "2022-09-05T00:54:30.821167Z",
     "iopub.status.busy": "2022-09-05T00:54:30.820339Z",
     "iopub.status.idle": "2022-09-05T00:54:30.823408Z",
     "shell.execute_reply": "2022-09-05T00:54:30.823997Z"
    },
    "papermill": {
     "duration": 0.064755,
     "end_time": "2022-09-05T00:54:30.824139",
     "exception": false,
     "start_time": "2022-09-05T00:54:30.759384",
     "status": "completed"
    },
    "tags": []
   },
   "outputs": [],
   "source": [
    "#hide\n",
    "metrics = [df_table.columns[index] for index in [1,2,5,6]]\n",
    "# s_china = df_table[df_table['Country/Region'].eq('China')][metrics].sum().add_prefix('China ')\n",
    "s_us = df_table[df_table['Country/Region'].eq('US')][metrics].sum().add_prefix('US ')\n",
    "s_eu = df_table[df_table['Continent'].eq('Europe')][metrics].sum().add_prefix('EU ')\n",
    "s_ind = df_table[df_table['Country/Region'].eq('India')][metrics].sum().add_prefix('India ')\n",
    "summary = {'updated': pd.to_datetime(dt_today), 'since': pd.to_datetime(dt_yday)}\n",
    "summary = {'updated': pd.to_datetime(dt_today), 'since': pd.to_datetime(dt_yday)}\n",
    "summary = {**summary, **df_table[metrics].sum(), **s_ind, **s_us, **s_eu}"
   ]
  },
  {
   "cell_type": "code",
   "execution_count": 18,
   "id": "engaging-syndrome",
   "metadata": {
    "execution": {
     "iopub.execute_input": "2022-09-05T00:54:30.901353Z",
     "iopub.status.busy": "2022-09-05T00:54:30.900643Z",
     "iopub.status.idle": "2022-09-05T00:54:30.921899Z",
     "shell.execute_reply": "2022-09-05T00:54:30.921276Z"
    },
    "papermill": {
     "duration": 0.062637,
     "end_time": "2022-09-05T00:54:30.922049",
     "exception": false,
     "start_time": "2022-09-05T00:54:30.859412",
     "status": "completed"
    },
    "tags": []
   },
   "outputs": [],
   "source": [
    "#hide\n",
    "dft_ct_new_cases = dft_cases.groupby(COL_REGION)[dt_cols].sum().diff(axis=1).fillna(0).astype(int)"
   ]
  },
  {
   "cell_type": "code",
   "execution_count": 19,
   "id": "neutral-assignment",
   "metadata": {
    "execution": {
     "iopub.execute_input": "2022-09-05T00:54:31.003685Z",
     "iopub.status.busy": "2022-09-05T00:54:31.002954Z",
     "iopub.status.idle": "2022-09-05T00:54:31.006030Z",
     "shell.execute_reply": "2022-09-05T00:54:31.005365Z"
    },
    "papermill": {
     "duration": 0.047949,
     "end_time": "2022-09-05T00:54:31.006148",
     "exception": false,
     "start_time": "2022-09-05T00:54:30.958199",
     "status": "completed"
    },
    "tags": []
   },
   "outputs": [],
   "source": [
    "#hide\n",
    "everydaycases = dft_ct_new_cases.cumsum(axis=1)"
   ]
  },
  {
   "cell_type": "code",
   "execution_count": 20,
   "id": "parliamentary-calgary",
   "metadata": {
    "execution": {
     "iopub.execute_input": "2022-09-05T00:54:31.085878Z",
     "iopub.status.busy": "2022-09-05T00:54:31.085189Z",
     "iopub.status.idle": "2022-09-05T00:54:31.768388Z",
     "shell.execute_reply": "2022-09-05T00:54:31.767757Z"
    },
    "papermill": {
     "duration": 0.726071,
     "end_time": "2022-09-05T00:54:31.768546",
     "exception": false,
     "start_time": "2022-09-05T00:54:31.042475",
     "status": "completed"
    },
    "tags": []
   },
   "outputs": [],
   "source": [
    "#hide\n",
    "import pandas as pd\n",
    "import matplotlib.pyplot as plt\n",
    "import matplotlib.ticker as ticker\n",
    "import matplotlib.animation as animation\n",
    "from IPython.display import HTML"
   ]
  },
  {
   "cell_type": "code",
   "execution_count": 21,
   "id": "lasting-extraction",
   "metadata": {
    "execution": {
     "iopub.execute_input": "2022-09-05T00:54:31.855730Z",
     "iopub.status.busy": "2022-09-05T00:54:31.854991Z",
     "iopub.status.idle": "2022-09-05T00:54:31.866448Z",
     "shell.execute_reply": "2022-09-05T00:54:31.867076Z"
    },
    "papermill": {
     "duration": 0.058625,
     "end_time": "2022-09-05T00:54:31.867282",
     "exception": false,
     "start_time": "2022-09-05T00:54:31.808657",
     "status": "completed"
    },
    "tags": []
   },
   "outputs": [],
   "source": [
    "#hide\n",
    "t = everydaycases.stack()"
   ]
  },
  {
   "cell_type": "code",
   "execution_count": 22,
   "id": "premier-sleeve",
   "metadata": {
    "execution": {
     "iopub.execute_input": "2022-09-05T00:54:31.949674Z",
     "iopub.status.busy": "2022-09-05T00:54:31.948983Z",
     "iopub.status.idle": "2022-09-05T00:54:31.962265Z",
     "shell.execute_reply": "2022-09-05T00:54:31.962901Z"
    },
    "papermill": {
     "duration": 0.057981,
     "end_time": "2022-09-05T00:54:31.963051",
     "exception": false,
     "start_time": "2022-09-05T00:54:31.905070",
     "status": "completed"
    },
    "tags": []
   },
   "outputs": [],
   "source": [
    "#hide\n",
    "g = t.reset_index(['Country/Region'])"
   ]
  },
  {
   "cell_type": "code",
   "execution_count": 23,
   "id": "distributed-pittsburgh",
   "metadata": {
    "execution": {
     "iopub.execute_input": "2022-09-05T00:54:32.050802Z",
     "iopub.status.busy": "2022-09-05T00:54:32.049821Z",
     "iopub.status.idle": "2022-09-05T00:54:32.052388Z",
     "shell.execute_reply": "2022-09-05T00:54:32.053149Z"
    },
    "papermill": {
     "duration": 0.050978,
     "end_time": "2022-09-05T00:54:32.053316",
     "exception": false,
     "start_time": "2022-09-05T00:54:32.002338",
     "status": "completed"
    },
    "tags": []
   },
   "outputs": [],
   "source": [
    "#hide\n",
    "g.index.name = 'date'"
   ]
  },
  {
   "cell_type": "code",
   "execution_count": 24,
   "id": "naked-donor",
   "metadata": {
    "execution": {
     "iopub.execute_input": "2022-09-05T00:54:32.140899Z",
     "iopub.status.busy": "2022-09-05T00:54:32.140133Z",
     "iopub.status.idle": "2022-09-05T00:54:32.146186Z",
     "shell.execute_reply": "2022-09-05T00:54:32.145434Z"
    },
    "papermill": {
     "duration": 0.049977,
     "end_time": "2022-09-05T00:54:32.146325",
     "exception": false,
     "start_time": "2022-09-05T00:54:32.096348",
     "status": "completed"
    },
    "tags": []
   },
   "outputs": [],
   "source": [
    "# #hide\n",
    "# g = g.reset_index(['date'])"
   ]
  },
  {
   "cell_type": "code",
   "execution_count": 25,
   "id": "incomplete-mustang",
   "metadata": {
    "execution": {
     "iopub.execute_input": "2022-09-05T00:54:32.224730Z",
     "iopub.status.busy": "2022-09-05T00:54:32.224024Z",
     "iopub.status.idle": "2022-09-05T00:54:32.228661Z",
     "shell.execute_reply": "2022-09-05T00:54:32.228111Z"
    },
    "papermill": {
     "duration": 0.046146,
     "end_time": "2022-09-05T00:54:32.228782",
     "exception": false,
     "start_time": "2022-09-05T00:54:32.182636",
     "status": "completed"
    },
    "tags": []
   },
   "outputs": [],
   "source": [
    "#hide\n",
    "# g.head()"
   ]
  },
  {
   "cell_type": "code",
   "execution_count": 26,
   "id": "specific-kruger",
   "metadata": {
    "execution": {
     "iopub.execute_input": "2022-09-05T00:54:32.306660Z",
     "iopub.status.busy": "2022-09-05T00:54:32.305956Z",
     "iopub.status.idle": "2022-09-05T00:54:32.310923Z",
     "shell.execute_reply": "2022-09-05T00:54:32.310173Z"
    },
    "papermill": {
     "duration": 0.045806,
     "end_time": "2022-09-05T00:54:32.311085",
     "exception": false,
     "start_time": "2022-09-05T00:54:32.265279",
     "status": "completed"
    },
    "tags": []
   },
   "outputs": [],
   "source": [
    "#hide\n",
    "# g.columns = ['date','country','cases']"
   ]
  },
  {
   "cell_type": "code",
   "execution_count": 27,
   "id": "tender-conversion",
   "metadata": {
    "execution": {
     "iopub.execute_input": "2022-09-05T00:54:32.389360Z",
     "iopub.status.busy": "2022-09-05T00:54:32.388522Z",
     "iopub.status.idle": "2022-09-05T00:54:32.393063Z",
     "shell.execute_reply": "2022-09-05T00:54:32.393757Z"
    },
    "papermill": {
     "duration": 0.045883,
     "end_time": "2022-09-05T00:54:32.393902",
     "exception": false,
     "start_time": "2022-09-05T00:54:32.348019",
     "status": "completed"
    },
    "tags": []
   },
   "outputs": [],
   "source": [
    "#hide\n",
    "# g['continent'] = g.country"
   ]
  },
  {
   "cell_type": "code",
   "execution_count": 28,
   "id": "substantial-wilderness",
   "metadata": {
    "execution": {
     "iopub.execute_input": "2022-09-05T00:54:32.473106Z",
     "iopub.status.busy": "2022-09-05T00:54:32.472395Z",
     "iopub.status.idle": "2022-09-05T00:54:32.475747Z",
     "shell.execute_reply": "2022-09-05T00:54:32.475142Z"
    },
    "papermill": {
     "duration": 0.04357,
     "end_time": "2022-09-05T00:54:32.475877",
     "exception": false,
     "start_time": "2022-09-05T00:54:32.432307",
     "status": "completed"
    },
    "tags": []
   },
   "outputs": [],
   "source": [
    "#hide\n",
    "# cols = list(g.columns.values)"
   ]
  },
  {
   "cell_type": "code",
   "execution_count": 29,
   "id": "solved-farming",
   "metadata": {
    "execution": {
     "iopub.execute_input": "2022-09-05T00:54:32.555827Z",
     "iopub.status.busy": "2022-09-05T00:54:32.554921Z",
     "iopub.status.idle": "2022-09-05T00:54:32.558352Z",
     "shell.execute_reply": "2022-09-05T00:54:32.557600Z"
    },
    "papermill": {
     "duration": 0.044553,
     "end_time": "2022-09-05T00:54:32.558508",
     "exception": false,
     "start_time": "2022-09-05T00:54:32.513955",
     "status": "completed"
    },
    "tags": []
   },
   "outputs": [],
   "source": [
    "#hide\n",
    "# cols.insert(0, cols.pop())"
   ]
  },
  {
   "cell_type": "code",
   "execution_count": 30,
   "id": "executed-adoption",
   "metadata": {
    "execution": {
     "iopub.execute_input": "2022-09-05T00:54:32.669369Z",
     "iopub.status.busy": "2022-09-05T00:54:32.668592Z",
     "iopub.status.idle": "2022-09-05T00:54:32.672719Z",
     "shell.execute_reply": "2022-09-05T00:54:32.672149Z"
    },
    "papermill": {
     "duration": 0.066295,
     "end_time": "2022-09-05T00:54:32.672953",
     "exception": false,
     "start_time": "2022-09-05T00:54:32.606658",
     "status": "completed"
    },
    "tags": []
   },
   "outputs": [],
   "source": [
    "#hide\n",
    "# g = g[cols]"
   ]
  },
  {
   "cell_type": "code",
   "execution_count": 31,
   "id": "subject-dublin",
   "metadata": {
    "execution": {
     "iopub.execute_input": "2022-09-05T00:54:32.762227Z",
     "iopub.status.busy": "2022-09-05T00:54:32.761438Z",
     "iopub.status.idle": "2022-09-05T00:54:32.764796Z",
     "shell.execute_reply": "2022-09-05T00:54:32.764185Z"
    },
    "papermill": {
     "duration": 0.052994,
     "end_time": "2022-09-05T00:54:32.764931",
     "exception": false,
     "start_time": "2022-09-05T00:54:32.711937",
     "status": "completed"
    },
    "tags": []
   },
   "outputs": [],
   "source": [
    "#hide\n",
    "# g['continent'] = g['continent'].map(mapping['map.continent'])"
   ]
  },
  {
   "cell_type": "code",
   "execution_count": 32,
   "id": "freelance-scout",
   "metadata": {
    "execution": {
     "iopub.execute_input": "2022-09-05T00:54:32.849442Z",
     "iopub.status.busy": "2022-09-05T00:54:32.848674Z",
     "iopub.status.idle": "2022-09-05T00:54:32.851427Z",
     "shell.execute_reply": "2022-09-05T00:54:32.852049Z"
    },
    "papermill": {
     "duration": 0.047926,
     "end_time": "2022-09-05T00:54:32.852203",
     "exception": false,
     "start_time": "2022-09-05T00:54:32.804277",
     "status": "completed"
    },
    "tags": []
   },
   "outputs": [],
   "source": [
    "#hide\n",
    "# g.head()"
   ]
  },
  {
   "cell_type": "code",
   "execution_count": 33,
   "id": "limited-engine",
   "metadata": {
    "execution": {
     "iopub.execute_input": "2022-09-05T00:54:32.938069Z",
     "iopub.status.busy": "2022-09-05T00:54:32.937301Z",
     "iopub.status.idle": "2022-09-05T00:54:32.940932Z",
     "shell.execute_reply": "2022-09-05T00:54:32.940061Z"
    },
    "papermill": {
     "duration": 0.049263,
     "end_time": "2022-09-05T00:54:32.941068",
     "exception": false,
     "start_time": "2022-09-05T00:54:32.891805",
     "status": "completed"
    },
    "tags": []
   },
   "outputs": [],
   "source": [
    "# hide\n",
    "# g['date'] = g['date'].astype('datetime64[ns]')"
   ]
  },
  {
   "cell_type": "code",
   "execution_count": 34,
   "id": "sophisticated-supervisor",
   "metadata": {
    "execution": {
     "iopub.execute_input": "2022-09-05T00:54:33.019533Z",
     "iopub.status.busy": "2022-09-05T00:54:33.018815Z",
     "iopub.status.idle": "2022-09-05T00:54:33.022257Z",
     "shell.execute_reply": "2022-09-05T00:54:33.021661Z"
    },
    "papermill": {
     "duration": 0.044221,
     "end_time": "2022-09-05T00:54:33.022388",
     "exception": false,
     "start_time": "2022-09-05T00:54:32.978167",
     "status": "completed"
    },
    "tags": []
   },
   "outputs": [],
   "source": [
    "#hide\n",
    "# g['date'] = g.date.dt.dayofyear"
   ]
  },
  {
   "cell_type": "code",
   "execution_count": 35,
   "id": "inside-dubai",
   "metadata": {
    "execution": {
     "iopub.execute_input": "2022-09-05T00:54:33.108031Z",
     "iopub.status.busy": "2022-09-05T00:54:33.107248Z",
     "iopub.status.idle": "2022-09-05T00:54:33.109924Z",
     "shell.execute_reply": "2022-09-05T00:54:33.110534Z"
    },
    "papermill": {
     "duration": 0.047726,
     "end_time": "2022-09-05T00:54:33.110685",
     "exception": false,
     "start_time": "2022-09-05T00:54:33.062959",
     "status": "completed"
    },
    "tags": []
   },
   "outputs": [],
   "source": [
    "#hide\n",
    "# g = g.rename(columns= {'continent':'group','country':'name','cases':'value'})"
   ]
  },
  {
   "cell_type": "code",
   "execution_count": 36,
   "id": "fleet-motorcycle",
   "metadata": {
    "execution": {
     "iopub.execute_input": "2022-09-05T00:54:33.190698Z",
     "iopub.status.busy": "2022-09-05T00:54:33.189967Z",
     "iopub.status.idle": "2022-09-05T00:54:33.193287Z",
     "shell.execute_reply": "2022-09-05T00:54:33.192570Z"
    },
    "papermill": {
     "duration": 0.042323,
     "end_time": "2022-09-05T00:54:33.193440",
     "exception": false,
     "start_time": "2022-09-05T00:54:33.151117",
     "status": "completed"
    },
    "tags": []
   },
   "outputs": [],
   "source": [
    "#hide\n",
    "# cols = ['name','group','day','value']"
   ]
  },
  {
   "cell_type": "code",
   "execution_count": 37,
   "id": "continued-sleeping",
   "metadata": {
    "execution": {
     "iopub.execute_input": "2022-09-05T00:54:33.274029Z",
     "iopub.status.busy": "2022-09-05T00:54:33.273196Z",
     "iopub.status.idle": "2022-09-05T00:54:33.276466Z",
     "shell.execute_reply": "2022-09-05T00:54:33.275787Z"
    },
    "papermill": {
     "duration": 0.045092,
     "end_time": "2022-09-05T00:54:33.276593",
     "exception": false,
     "start_time": "2022-09-05T00:54:33.231501",
     "status": "completed"
    },
    "tags": []
   },
   "outputs": [],
   "source": [
    "#hide\n",
    "# g.rename(columns= {'date':'day'},inplace = True)"
   ]
  },
  {
   "cell_type": "code",
   "execution_count": 38,
   "id": "major-fight",
   "metadata": {
    "execution": {
     "iopub.execute_input": "2022-09-05T00:54:33.356910Z",
     "iopub.status.busy": "2022-09-05T00:54:33.356159Z",
     "iopub.status.idle": "2022-09-05T00:54:33.359457Z",
     "shell.execute_reply": "2022-09-05T00:54:33.358870Z"
    },
    "papermill": {
     "duration": 0.046237,
     "end_time": "2022-09-05T00:54:33.359597",
     "exception": false,
     "start_time": "2022-09-05T00:54:33.313360",
     "status": "completed"
    },
    "tags": []
   },
   "outputs": [],
   "source": [
    "#hide\n",
    "# g = g[cols]"
   ]
  },
  {
   "cell_type": "code",
   "execution_count": 39,
   "id": "structured-mobile",
   "metadata": {
    "execution": {
     "iopub.execute_input": "2022-09-05T00:54:33.438820Z",
     "iopub.status.busy": "2022-09-05T00:54:33.438115Z",
     "iopub.status.idle": "2022-09-05T00:54:33.441105Z",
     "shell.execute_reply": "2022-09-05T00:54:33.440404Z"
    },
    "papermill": {
     "duration": 0.043039,
     "end_time": "2022-09-05T00:54:33.441226",
     "exception": false,
     "start_time": "2022-09-05T00:54:33.398187",
     "status": "completed"
    },
    "tags": []
   },
   "outputs": [],
   "source": [
    "# #hide\n",
    "# g = g[g.group.notna()]"
   ]
  },
  {
   "cell_type": "code",
   "execution_count": 40,
   "id": "determined-closing",
   "metadata": {
    "execution": {
     "iopub.execute_input": "2022-09-05T00:54:33.526986Z",
     "iopub.status.busy": "2022-09-05T00:54:33.526215Z",
     "iopub.status.idle": "2022-09-05T00:54:33.529467Z",
     "shell.execute_reply": "2022-09-05T00:54:33.528773Z"
    },
    "papermill": {
     "duration": 0.050164,
     "end_time": "2022-09-05T00:54:33.529595",
     "exception": false,
     "start_time": "2022-09-05T00:54:33.479431",
     "status": "completed"
    },
    "tags": []
   },
   "outputs": [],
   "source": [
    "# #hide\n",
    "# colors = dict(zip(\n",
    "#     [\"Oceania\", \"Europe\", \"Asia\", \"South America\", \"Middle East\", \"North America\", \"Africa\"],\n",
    "#     [\"#adb0ff\", \"#ffb3ff\", \"#90d595\", \"#e48381\", \"#aafbff\", \"#f7bb5f\", \"#eafb50\"]\n",
    "# ))\n",
    "# group_lk = g.set_index('name')['group'].to_dict()"
   ]
  },
  {
   "cell_type": "code",
   "execution_count": null,
   "id": "gross-drinking",
   "metadata": {
    "papermill": {
     "duration": 0.037808,
     "end_time": "2022-09-05T00:54:33.608414",
     "exception": false,
     "start_time": "2022-09-05T00:54:33.570606",
     "status": "completed"
    },
    "tags": []
   },
   "outputs": [],
   "source": []
  },
  {
   "cell_type": "code",
   "execution_count": 41,
   "id": "subject-macintosh",
   "metadata": {
    "execution": {
     "iopub.execute_input": "2022-09-05T00:54:33.687010Z",
     "iopub.status.busy": "2022-09-05T00:54:33.686301Z",
     "iopub.status.idle": "2022-09-05T00:54:33.689589Z",
     "shell.execute_reply": "2022-09-05T00:54:33.688885Z"
    },
    "papermill": {
     "duration": 0.044453,
     "end_time": "2022-09-05T00:54:33.689727",
     "exception": false,
     "start_time": "2022-09-05T00:54:33.645274",
     "status": "completed"
    },
    "tags": []
   },
   "outputs": [],
   "source": [
    "# #hide\n",
    "# fig, ax = plt.subplots(figsize=(15, 8))\n",
    "\n",
    "# def draw_barchart(current_day):\n",
    "#     dff = g[g['day'].eq(current_day)].sort_values(by='value', ascending=True).tail(10)\n",
    "#     ax.clear()\n",
    "#     ax.barh(dff['name'], dff['value'], color=[colors[group_lk[x]] for x in dff['name']])\n",
    "#     dx = dff['value'].max() / 200\n",
    "    \n",
    "#     for i, (value, name) in enumerate(zip(dff['value'], dff['name'])):\n",
    "#         ax.text(value-dx, i,     name,           size=14, weight=600, ha='right', va='bottom')\n",
    "#         ax.text(value-dx, i-.25, group_lk[name], size=10, color='#444444', ha='right', va='baseline')\n",
    "#         ax.text(value+dx, i,     f'{value:,.0f}',  size=14, ha='left',  va='center')\n",
    "#     ax.text(1, 0.4, current_day, transform=ax.transAxes, color='#777777', size=46, ha='right', weight=800)\n",
    "#     ax.text(0, 1.06, 'Population (thousands)', transform=ax.transAxes, size=12, color='#777777')\n",
    "#     ax.xaxis.set_major_formatter(ticker.StrMethodFormatter('{x:,.0f}'))\n",
    "#     ax.xaxis.set_ticks_position('top')\n",
    "#     ax.tick_params(axis='x', colors='#777777', labelsize=12)\n",
    "#     ax.set_yticks([])\n",
    "#     ax.margins(0, 0.01)\n",
    "#     ax.grid(which='major', axis='x', linestyle='-')\n",
    "#     ax.set_axisbelow(True)\n",
    "    \n",
    "#     ax.text(0, 1.15, 'Coronavirus',\n",
    "#             transform=ax.transAxes, size=24, weight=600, ha='left', va='top')\n",
    "# #     ax.text(1, 0, 'by @pratapvardhan; credit @jburnmurdoch', transform=ax.transAxes, color='#777777', ha='right',\n",
    "# #             bbox=dict(facecolor='white', alpha=0.8, edgecolor='white'))\n",
    "#     plt.box(False)"
   ]
  },
  {
   "cell_type": "code",
   "execution_count": 42,
   "id": "sexual-wages",
   "metadata": {
    "execution": {
     "iopub.execute_input": "2022-09-05T00:54:33.772226Z",
     "iopub.status.busy": "2022-09-05T00:54:33.771484Z",
     "iopub.status.idle": "2022-09-05T00:54:33.774564Z",
     "shell.execute_reply": "2022-09-05T00:54:33.773988Z"
    },
    "papermill": {
     "duration": 0.047773,
     "end_time": "2022-09-05T00:54:33.774692",
     "exception": false,
     "start_time": "2022-09-05T00:54:33.726919",
     "status": "completed"
    },
    "tags": []
   },
   "outputs": [],
   "source": [
    "# #hide_input\n",
    "# fig, ax = plt.subplots(figsize=(15, 8))\n",
    "# animator = animation.FuncAnimation(fig, draw_barchart, frames=range(g.day.values.min(), g.day.values.max()))\n",
    "# HTML(animator.to_jshtml())\n",
    "# # or use animator.to_html5_video() or animator.save() "
   ]
  },
  {
   "cell_type": "code",
   "execution_count": null,
   "id": "australian-container",
   "metadata": {
    "papermill": {
     "duration": 0.040174,
     "end_time": "2022-09-05T00:54:33.854576",
     "exception": false,
     "start_time": "2022-09-05T00:54:33.814402",
     "status": "completed"
    },
    "tags": []
   },
   "outputs": [],
   "source": []
  },
  {
   "cell_type": "code",
   "execution_count": null,
   "id": "mediterranean-pontiac",
   "metadata": {
    "papermill": {
     "duration": 0.03627,
     "end_time": "2022-09-05T00:54:33.928802",
     "exception": false,
     "start_time": "2022-09-05T00:54:33.892532",
     "status": "completed"
    },
    "tags": []
   },
   "outputs": [],
   "source": []
  },
  {
   "cell_type": "code",
   "execution_count": null,
   "id": "aging-legislature",
   "metadata": {
    "papermill": {
     "duration": 0.035092,
     "end_time": "2022-09-05T00:54:34.003191",
     "exception": false,
     "start_time": "2022-09-05T00:54:33.968099",
     "status": "completed"
    },
    "tags": []
   },
   "outputs": [],
   "source": []
  }
 ],
 "metadata": {
  "kernelspec": {
   "display_name": "Python 3",
   "language": "python",
   "name": "python3"
  },
  "language_info": {
   "codemirror_mode": {
    "name": "ipython",
    "version": 3
   },
   "file_extension": ".py",
   "mimetype": "text/x-python",
   "name": "python",
   "nbconvert_exporter": "python",
   "pygments_lexer": "ipython3",
   "version": "3.6.15"
  },
  "papermill": {
   "duration": 7.158769,
   "end_time": "2022-09-05T00:54:34.356996",
   "environment_variables": {},
   "exception": null,
   "input_path": "2020-03-21-covid19exp.ipynb",
   "output_path": "2020-03-21-covid19exp.ipynb",
   "parameters": {},
   "start_time": "2022-09-05T00:54:27.198227",
   "version": "2.0.0"
  }
 },
 "nbformat": 4,
 "nbformat_minor": 5
}