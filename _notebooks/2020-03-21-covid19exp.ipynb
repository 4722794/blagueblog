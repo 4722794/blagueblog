{
 "cells": [
  {
   "cell_type": "markdown",
   "id": "muslim-click",
   "metadata": {
    "papermill": {
     "duration": 0.040169,
     "end_time": "2021-11-17T12:12:08.678230",
     "exception": false,
     "start_time": "2021-11-17T12:12:08.638061",
     "status": "completed"
    },
    "tags": []
   },
   "source": [
    "# COVID-19 Case Race\n",
    "> A race chart to see rising cases around the world\n",
    "\n",
    "- author: Hargun Oberoi\n",
    "- image: images/covid-overview.png\n",
    "- hide: false\n",
    "- badges: false"
   ]
  },
  {
   "cell_type": "code",
   "execution_count": 1,
   "id": "proof-material",
   "metadata": {
    "execution": {
     "iopub.execute_input": "2021-11-17T12:12:08.755085Z",
     "iopub.status.busy": "2021-11-17T12:12:08.753414Z",
     "iopub.status.idle": "2021-11-17T12:12:09.106313Z",
     "shell.execute_reply": "2021-11-17T12:12:09.105075Z"
    },
    "papermill": {
     "duration": 0.391715,
     "end_time": "2021-11-17T12:12:09.106490",
     "exception": false,
     "start_time": "2021-11-17T12:12:08.714775",
     "status": "completed"
    },
    "tags": []
   },
   "outputs": [],
   "source": [
    "#hide\n",
    "import numpy as np\n",
    "import pandas as pd\n",
    "from jinja2 import Template\n",
    "from IPython.display import HTML"
   ]
  },
  {
   "cell_type": "code",
   "execution_count": 2,
   "id": "developed-terminology",
   "metadata": {
    "execution": {
     "iopub.execute_input": "2021-11-17T12:12:09.175494Z",
     "iopub.status.busy": "2021-11-17T12:12:09.174926Z",
     "iopub.status.idle": "2021-11-17T12:12:09.176717Z",
     "shell.execute_reply": "2021-11-17T12:12:09.176120Z"
    },
    "papermill": {
     "duration": 0.037579,
     "end_time": "2021-11-17T12:12:09.176831",
     "exception": false,
     "start_time": "2021-11-17T12:12:09.139252",
     "status": "completed"
    },
    "tags": []
   },
   "outputs": [],
   "source": [
    "#hide\n",
    "\n",
    "# FETCH\n",
    "base_url = 'https://raw.githubusercontent.com/pratapvardhan/notebooks/master/covid19/'\n",
    "paths = {\n",
    "    'mapping': base_url + 'mapping_countries.csv',\n",
    "    'overview': base_url + 'overview.tpl'\n",
    "}"
   ]
  },
  {
   "cell_type": "code",
   "execution_count": 3,
   "id": "dynamic-saver",
   "metadata": {
    "execution": {
     "iopub.execute_input": "2021-11-17T12:12:09.249043Z",
     "iopub.status.busy": "2021-11-17T12:12:09.248485Z",
     "iopub.status.idle": "2021-11-17T12:12:09.252767Z",
     "shell.execute_reply": "2021-11-17T12:12:09.253323Z"
    },
    "papermill": {
     "duration": 0.046631,
     "end_time": "2021-11-17T12:12:09.253462",
     "exception": false,
     "start_time": "2021-11-17T12:12:09.206831",
     "status": "completed"
    },
    "tags": []
   },
   "outputs": [
    {
     "data": {
      "text/plain": [
       "'https://raw.githubusercontent.com/pratapvardhan/notebooks/master/covid19/mapping_countries.csv'"
      ]
     },
     "execution_count": 3,
     "metadata": {},
     "output_type": "execute_result"
    }
   ],
   "source": [
    "#hide\n",
    "paths['mapping']"
   ]
  },
  {
   "cell_type": "code",
   "execution_count": 4,
   "id": "urban-software",
   "metadata": {
    "execution": {
     "iopub.execute_input": "2021-11-17T12:12:09.318400Z",
     "iopub.status.busy": "2021-11-17T12:12:09.317821Z",
     "iopub.status.idle": "2021-11-17T12:12:09.320125Z",
     "shell.execute_reply": "2021-11-17T12:12:09.319619Z"
    },
    "papermill": {
     "duration": 0.036762,
     "end_time": "2021-11-17T12:12:09.320243",
     "exception": false,
     "start_time": "2021-11-17T12:12:09.283481",
     "status": "completed"
    },
    "tags": []
   },
   "outputs": [],
   "source": [
    "#hide\n",
    "def get_mappings(url):\n",
    "    df = pd.read_csv(url)\n",
    "    return {\n",
    "        'df': df,\n",
    "        'replace.country': dict(df.dropna(subset=['Name']).set_index('Country')['Name']),\n",
    "        'map.continent': dict(df.set_index('Name')['Continent'])\n",
    "    }"
   ]
  },
  {
   "cell_type": "code",
   "execution_count": 5,
   "id": "intimate-machinery",
   "metadata": {
    "execution": {
     "iopub.execute_input": "2021-11-17T12:12:09.388748Z",
     "iopub.status.busy": "2021-11-17T12:12:09.388049Z",
     "iopub.status.idle": "2021-11-17T12:12:09.422855Z",
     "shell.execute_reply": "2021-11-17T12:12:09.421994Z"
    },
    "papermill": {
     "duration": 0.072022,
     "end_time": "2021-11-17T12:12:09.423049",
     "exception": false,
     "start_time": "2021-11-17T12:12:09.351027",
     "status": "completed"
    },
    "tags": []
   },
   "outputs": [],
   "source": [
    "#hide\n",
    "mapping = get_mappings(paths['mapping'])"
   ]
  },
  {
   "cell_type": "code",
   "execution_count": 6,
   "id": "certified-tactics",
   "metadata": {
    "execution": {
     "iopub.execute_input": "2021-11-17T12:12:09.492757Z",
     "iopub.status.busy": "2021-11-17T12:12:09.492160Z",
     "iopub.status.idle": "2021-11-17T12:12:09.494568Z",
     "shell.execute_reply": "2021-11-17T12:12:09.495087Z"
    },
    "papermill": {
     "duration": 0.039269,
     "end_time": "2021-11-17T12:12:09.495219",
     "exception": false,
     "start_time": "2021-11-17T12:12:09.455950",
     "status": "completed"
    },
    "tags": []
   },
   "outputs": [],
   "source": [
    "#hide\n",
    "def get_template(path):\n",
    "    from urllib.parse import urlparse\n",
    "    if bool(urlparse(path).netloc):\n",
    "        from urllib.request import urlopen\n",
    "        return urlopen(path).read().decode('utf8')\n",
    "    return open(path).read()"
   ]
  },
  {
   "cell_type": "code",
   "execution_count": 7,
   "id": "realistic-blast",
   "metadata": {
    "execution": {
     "iopub.execute_input": "2021-11-17T12:12:09.568394Z",
     "iopub.status.busy": "2021-11-17T12:12:09.567613Z",
     "iopub.status.idle": "2021-11-17T12:12:09.569167Z",
     "shell.execute_reply": "2021-11-17T12:12:09.569899Z"
    },
    "papermill": {
     "duration": 0.041161,
     "end_time": "2021-11-17T12:12:09.570069",
     "exception": false,
     "start_time": "2021-11-17T12:12:09.528908",
     "status": "completed"
    },
    "tags": []
   },
   "outputs": [],
   "source": [
    "#hide\n",
    "def get_frame(name):\n",
    "    url = (\n",
    "        'https://raw.githubusercontent.com/CSSEGISandData/COVID-19/master/csse_covid_19_data/'\n",
    "        f'csse_covid_19_time_series/time_series_covid19_{name}_global.csv')\n",
    "    df = pd.read_csv(url)\n",
    "    # rename countries\n",
    "    df['Country/Region'] = df['Country/Region'].replace(mapping['replace.country'])\n",
    "    return df"
   ]
  },
  {
   "cell_type": "code",
   "execution_count": 8,
   "id": "affiliated-characterization",
   "metadata": {
    "execution": {
     "iopub.execute_input": "2021-11-17T12:12:09.642647Z",
     "iopub.status.busy": "2021-11-17T12:12:09.642123Z",
     "iopub.status.idle": "2021-11-17T12:12:09.645567Z",
     "shell.execute_reply": "2021-11-17T12:12:09.645974Z"
    },
    "papermill": {
     "duration": 0.044113,
     "end_time": "2021-11-17T12:12:09.646108",
     "exception": false,
     "start_time": "2021-11-17T12:12:09.601995",
     "status": "completed"
    },
    "tags": []
   },
   "outputs": [],
   "source": [
    "#hide\n",
    "def get_dates(df):\n",
    "    dt_cols = df.columns[~df.columns.isin(['Province/State', 'Country/Region', 'Lat', 'Long'])]\n",
    "    LAST_DATE_I = -1\n",
    "    # sometimes last column may be empty, then go backwards\n",
    "    for i in range(-1, -len(dt_cols), -1):\n",
    "        if not df[dt_cols[i]].fillna(0).eq(0).all():\n",
    "            LAST_DATE_I = i\n",
    "            break\n",
    "    return LAST_DATE_I, dt_cols"
   ]
  },
  {
   "cell_type": "code",
   "execution_count": 9,
   "id": "recent-optimization",
   "metadata": {
    "execution": {
     "iopub.execute_input": "2021-11-17T12:12:09.716182Z",
     "iopub.status.busy": "2021-11-17T12:12:09.715620Z",
     "iopub.status.idle": "2021-11-17T12:12:10.038061Z",
     "shell.execute_reply": "2021-11-17T12:12:10.037490Z"
    },
    "papermill": {
     "duration": 0.36321,
     "end_time": "2021-11-17T12:12:10.038204",
     "exception": false,
     "start_time": "2021-11-17T12:12:09.674994",
     "status": "completed"
    },
    "tags": []
   },
   "outputs": [],
   "source": [
    "#hide\n",
    "COL_REGION = 'Country/Region'\n",
    "# Confirmed, Recovered, Deaths\n",
    "df = get_frame('confirmed')\n",
    "# dft_: timeseries, dfc_: today country agg\n",
    "dft_cases = df\n",
    "dft_deaths = get_frame('deaths')\n",
    "dft_recovered = get_frame('recovered')\n",
    "LAST_DATE_I, dt_cols = get_dates(df)"
   ]
  },
  {
   "cell_type": "code",
   "execution_count": 10,
   "id": "absolute-copper",
   "metadata": {
    "execution": {
     "iopub.execute_input": "2021-11-17T12:12:10.106644Z",
     "iopub.status.busy": "2021-11-17T12:12:10.106028Z",
     "iopub.status.idle": "2021-11-17T12:12:10.108379Z",
     "shell.execute_reply": "2021-11-17T12:12:10.108862Z"
    },
    "papermill": {
     "duration": 0.037831,
     "end_time": "2021-11-17T12:12:10.108999",
     "exception": false,
     "start_time": "2021-11-17T12:12:10.071168",
     "status": "completed"
    },
    "tags": []
   },
   "outputs": [],
   "source": [
    "#hide\n",
    "LAST_DATE_I, dt_cols = get_dates(df)\n",
    "dt_today =dt_cols[LAST_DATE_I]\n",
    "# dt_5day = dt_cols[LAST_DATE_I - 5]\n",
    "dt_yday = dt_cols[LAST_DATE_I - 1]"
   ]
  },
  {
   "cell_type": "code",
   "execution_count": 11,
   "id": "restricted-sheriff",
   "metadata": {
    "execution": {
     "iopub.execute_input": "2021-11-17T12:12:10.173398Z",
     "iopub.status.busy": "2021-11-17T12:12:10.171874Z",
     "iopub.status.idle": "2021-11-17T12:12:10.179978Z",
     "shell.execute_reply": "2021-11-17T12:12:10.179429Z"
    },
    "papermill": {
     "duration": 0.042338,
     "end_time": "2021-11-17T12:12:10.180090",
     "exception": false,
     "start_time": "2021-11-17T12:12:10.137752",
     "status": "completed"
    },
    "tags": []
   },
   "outputs": [],
   "source": [
    "#hide\n",
    "dfc_cases = dft_cases.groupby(COL_REGION)[dt_today].sum()\n",
    "dfc_deaths = dft_deaths.groupby(COL_REGION)[dt_today].sum()\n",
    "# dfp_cases = dft_cases.groupby(COL_REGION)[dt_5day].sum()\n",
    "# dfp_deaths = dft_deaths.groupby(COL_REGION)[dt_5day].sum()\n",
    "dfp_cases = dft_cases.groupby(COL_REGION)[dt_yday].sum()\n",
    "dfp_deaths = dft_deaths.groupby(COL_REGION)[dt_yday].sum()"
   ]
  },
  {
   "cell_type": "code",
   "execution_count": 12,
   "id": "deluxe-hepatitis",
   "metadata": {
    "execution": {
     "iopub.execute_input": "2021-11-17T12:12:10.244041Z",
     "iopub.status.busy": "2021-11-17T12:12:10.243491Z",
     "iopub.status.idle": "2021-11-17T12:12:10.245977Z",
     "shell.execute_reply": "2021-11-17T12:12:10.246792Z"
    },
    "papermill": {
     "duration": 0.040238,
     "end_time": "2021-11-17T12:12:10.246934",
     "exception": false,
     "start_time": "2021-11-17T12:12:10.206696",
     "status": "completed"
    },
    "tags": []
   },
   "outputs": [],
   "source": [
    "#hide\n",
    "df_table = (pd.DataFrame(dict(Cases = dfc_cases, Deaths = dfc_deaths, PCases = dfp_cases, PDeaths = dfp_deaths))\n",
    "            .sort_values(by = ['Cases','Deaths'], ascending = [False, False])\n",
    "            .reset_index())"
   ]
  },
  {
   "cell_type": "code",
   "execution_count": 13,
   "id": "educational-chancellor",
   "metadata": {
    "execution": {
     "iopub.execute_input": "2021-11-17T12:12:10.324876Z",
     "iopub.status.busy": "2021-11-17T12:12:10.320397Z",
     "iopub.status.idle": "2021-11-17T12:12:10.332861Z",
     "shell.execute_reply": "2021-11-17T12:12:10.332515Z"
    },
    "papermill": {
     "duration": 0.055991,
     "end_time": "2021-11-17T12:12:10.332954",
     "exception": false,
     "start_time": "2021-11-17T12:12:10.276963",
     "status": "completed"
    },
    "tags": []
   },
   "outputs": [
    {
     "data": {
      "text/html": [
       "<div>\n",
       "<style scoped>\n",
       "    .dataframe tbody tr th:only-of-type {\n",
       "        vertical-align: middle;\n",
       "    }\n",
       "\n",
       "    .dataframe tbody tr th {\n",
       "        vertical-align: top;\n",
       "    }\n",
       "\n",
       "    .dataframe thead th {\n",
       "        text-align: right;\n",
       "    }\n",
       "</style>\n",
       "<table border=\"1\" class=\"dataframe\">\n",
       "  <thead>\n",
       "    <tr style=\"text-align: right;\">\n",
       "      <th></th>\n",
       "      <th>Country/Region</th>\n",
       "      <th>Cases</th>\n",
       "      <th>Deaths</th>\n",
       "      <th>PCases</th>\n",
       "      <th>PDeaths</th>\n",
       "      <th>Cases (+)</th>\n",
       "      <th>Deaths (+)</th>\n",
       "      <th>Fatality Rate</th>\n",
       "      <th>Continent</th>\n",
       "    </tr>\n",
       "  </thead>\n",
       "  <tbody>\n",
       "    <tr>\n",
       "      <th>0</th>\n",
       "      <td>US</td>\n",
       "      <td>47309008</td>\n",
       "      <td>765811</td>\n",
       "      <td>47221527</td>\n",
       "      <td>764363</td>\n",
       "      <td>87481</td>\n",
       "      <td>1448</td>\n",
       "      <td>1.62</td>\n",
       "      <td>North America</td>\n",
       "    </tr>\n",
       "    <tr>\n",
       "      <th>1</th>\n",
       "      <td>India</td>\n",
       "      <td>34466598</td>\n",
       "      <td>464153</td>\n",
       "      <td>34456401</td>\n",
       "      <td>463852</td>\n",
       "      <td>10197</td>\n",
       "      <td>301</td>\n",
       "      <td>1.35</td>\n",
       "      <td>Asia</td>\n",
       "    </tr>\n",
       "    <tr>\n",
       "      <th>2</th>\n",
       "      <td>Brazil</td>\n",
       "      <td>21965684</td>\n",
       "      <td>611478</td>\n",
       "      <td>21960766</td>\n",
       "      <td>611346</td>\n",
       "      <td>4918</td>\n",
       "      <td>132</td>\n",
       "      <td>2.78</td>\n",
       "      <td>South America</td>\n",
       "    </tr>\n",
       "    <tr>\n",
       "      <th>3</th>\n",
       "      <td>United Kingdom</td>\n",
       "      <td>9686363</td>\n",
       "      <td>143598</td>\n",
       "      <td>9649233</td>\n",
       "      <td>143384</td>\n",
       "      <td>37130</td>\n",
       "      <td>214</td>\n",
       "      <td>1.48</td>\n",
       "      <td>Europe</td>\n",
       "    </tr>\n",
       "    <tr>\n",
       "      <th>4</th>\n",
       "      <td>Russia</td>\n",
       "      <td>8991748</td>\n",
       "      <td>253009</td>\n",
       "      <td>8956136</td>\n",
       "      <td>251796</td>\n",
       "      <td>35612</td>\n",
       "      <td>1213</td>\n",
       "      <td>2.81</td>\n",
       "      <td>Europe</td>\n",
       "    </tr>\n",
       "  </tbody>\n",
       "</table>\n",
       "</div>"
      ],
      "text/plain": [
       "   Country/Region     Cases  Deaths    PCases  PDeaths  Cases (+)  Deaths (+)  \\\n",
       "0              US  47309008  765811  47221527   764363      87481        1448   \n",
       "1           India  34466598  464153  34456401   463852      10197         301   \n",
       "2          Brazil  21965684  611478  21960766   611346       4918         132   \n",
       "3  United Kingdom   9686363  143598   9649233   143384      37130         214   \n",
       "4          Russia   8991748  253009   8956136   251796      35612        1213   \n",
       "\n",
       "   Fatality Rate      Continent  \n",
       "0           1.62  North America  \n",
       "1           1.35           Asia  \n",
       "2           2.78  South America  \n",
       "3           1.48         Europe  \n",
       "4           2.81         Europe  "
      ]
     },
     "execution_count": 13,
     "metadata": {},
     "output_type": "execute_result"
    }
   ],
   "source": [
    "#hide\n",
    "for c in 'Cases, Deaths'.split(', '):\n",
    "    df_table[f'{c} (+)'] = (df_table[c] - df_table[f'P{c}']).clip(0)\n",
    "    #Clip ça veut dire, les chiffres negatif sont interdit\n",
    "df_table['Fatality Rate'] = (100* df_table['Deaths']/ df_table['Cases']).round(2)\n",
    "df_table['Continent'] = df_table['Country/Region'].map(mapping['map.continent'])\n",
    "df_table.head(5)"
   ]
  },
  {
   "cell_type": "code",
   "execution_count": 14,
   "id": "aboriginal-bulgaria",
   "metadata": {
    "execution": {
     "iopub.execute_input": "2021-11-17T12:12:10.396333Z",
     "iopub.status.busy": "2021-11-17T12:12:10.395848Z",
     "iopub.status.idle": "2021-11-17T12:12:10.398954Z",
     "shell.execute_reply": "2021-11-17T12:12:10.399395Z"
    },
    "papermill": {
     "duration": 0.039476,
     "end_time": "2021-11-17T12:12:10.399520",
     "exception": false,
     "start_time": "2021-11-17T12:12:10.360044",
     "status": "completed"
    },
    "tags": []
   },
   "outputs": [],
   "source": [
    "#hide\n",
    "#delete problematic countries from table\n",
    "df_table = df_table[~df_table['Country/Region'].isin(['Cape Verde', 'Cruise Ship', 'Kosovo'])]"
   ]
  },
  {
   "cell_type": "code",
   "execution_count": 15,
   "id": "fantastic-effect",
   "metadata": {
    "execution": {
     "iopub.execute_input": "2021-11-17T12:12:10.483635Z",
     "iopub.status.busy": "2021-11-17T12:12:10.474265Z",
     "iopub.status.idle": "2021-11-17T12:12:10.488534Z",
     "shell.execute_reply": "2021-11-17T12:12:10.488119Z"
    },
    "papermill": {
     "duration": 0.05677,
     "end_time": "2021-11-17T12:12:10.488634",
     "exception": false,
     "start_time": "2021-11-17T12:12:10.431864",
     "status": "completed"
    },
    "tags": []
   },
   "outputs": [
    {
     "data": {
      "text/html": [
       "<div>\n",
       "<style scoped>\n",
       "    .dataframe tbody tr th:only-of-type {\n",
       "        vertical-align: middle;\n",
       "    }\n",
       "\n",
       "    .dataframe tbody tr th {\n",
       "        vertical-align: top;\n",
       "    }\n",
       "\n",
       "    .dataframe thead th {\n",
       "        text-align: right;\n",
       "    }\n",
       "</style>\n",
       "<table border=\"1\" class=\"dataframe\">\n",
       "  <thead>\n",
       "    <tr style=\"text-align: right;\">\n",
       "      <th></th>\n",
       "      <th>Country/Region</th>\n",
       "      <th>Cases</th>\n",
       "      <th>Deaths</th>\n",
       "      <th>PCases</th>\n",
       "      <th>PDeaths</th>\n",
       "      <th>Cases (+)</th>\n",
       "      <th>Deaths (+)</th>\n",
       "      <th>Fatality Rate</th>\n",
       "      <th>Continent</th>\n",
       "    </tr>\n",
       "  </thead>\n",
       "  <tbody>\n",
       "    <tr>\n",
       "      <th>0</th>\n",
       "      <td>US</td>\n",
       "      <td>47309008</td>\n",
       "      <td>765811</td>\n",
       "      <td>47221527</td>\n",
       "      <td>764363</td>\n",
       "      <td>87481</td>\n",
       "      <td>1448</td>\n",
       "      <td>1.6</td>\n",
       "      <td>North America</td>\n",
       "    </tr>\n",
       "    <tr>\n",
       "      <th>1</th>\n",
       "      <td>India</td>\n",
       "      <td>34466598</td>\n",
       "      <td>464153</td>\n",
       "      <td>34456401</td>\n",
       "      <td>463852</td>\n",
       "      <td>10197</td>\n",
       "      <td>301</td>\n",
       "      <td>1.3</td>\n",
       "      <td>Asia</td>\n",
       "    </tr>\n",
       "    <tr>\n",
       "      <th>2</th>\n",
       "      <td>Brazil</td>\n",
       "      <td>21965684</td>\n",
       "      <td>611478</td>\n",
       "      <td>21960766</td>\n",
       "      <td>611346</td>\n",
       "      <td>4918</td>\n",
       "      <td>132</td>\n",
       "      <td>2.8</td>\n",
       "      <td>South America</td>\n",
       "    </tr>\n",
       "    <tr>\n",
       "      <th>3</th>\n",
       "      <td>United Kingdom</td>\n",
       "      <td>9686363</td>\n",
       "      <td>143598</td>\n",
       "      <td>9649233</td>\n",
       "      <td>143384</td>\n",
       "      <td>37130</td>\n",
       "      <td>214</td>\n",
       "      <td>1.5</td>\n",
       "      <td>Europe</td>\n",
       "    </tr>\n",
       "    <tr>\n",
       "      <th>4</th>\n",
       "      <td>Russia</td>\n",
       "      <td>8991748</td>\n",
       "      <td>253009</td>\n",
       "      <td>8956136</td>\n",
       "      <td>251796</td>\n",
       "      <td>35612</td>\n",
       "      <td>1213</td>\n",
       "      <td>2.8</td>\n",
       "      <td>Europe</td>\n",
       "    </tr>\n",
       "  </tbody>\n",
       "</table>\n",
       "</div>"
      ],
      "text/plain": [
       "   Country/Region     Cases  Deaths    PCases  PDeaths  Cases (+)  Deaths (+)  \\\n",
       "0              US  47309008  765811  47221527   764363      87481        1448   \n",
       "1           India  34466598  464153  34456401   463852      10197         301   \n",
       "2          Brazil  21965684  611478  21960766   611346       4918         132   \n",
       "3  United Kingdom   9686363  143598   9649233   143384      37130         214   \n",
       "4          Russia   8991748  253009   8956136   251796      35612        1213   \n",
       "\n",
       "   Fatality Rate      Continent  \n",
       "0            1.6  North America  \n",
       "1            1.3           Asia  \n",
       "2            2.8  South America  \n",
       "3            1.5         Europe  \n",
       "4            2.8         Europe  "
      ]
     },
     "execution_count": 15,
     "metadata": {},
     "output_type": "execute_result"
    }
   ],
   "source": [
    "#hide\n",
    "df_table = (pd.DataFrame(dict(Cases=dfc_cases, Deaths=dfc_deaths, PCases=dfp_cases, PDeaths=dfp_deaths))\n",
    "             .sort_values(by=['Cases', 'Deaths'], ascending=[False, False])\n",
    "             .reset_index())\n",
    "df_table.rename(columns={'index': 'Country/Region'}, inplace=True)\n",
    "for c in 'Cases, Deaths'.split(', '):\n",
    "    df_table[f'{c} (+)'] = (df_table[c] - df_table[f'P{c}']).clip(0)  # DATA BUG\n",
    "df_table['Fatality Rate'] = (100 * df_table['Deaths'] / df_table['Cases']).round(1)\n",
    "df_table['Continent'] = df_table['Country/Region'].map(mapping['map.continent'])\n",
    "df_table.head(5)"
   ]
  },
  {
   "cell_type": "code",
   "execution_count": 16,
   "id": "fewer-occasion",
   "metadata": {
    "execution": {
     "iopub.execute_input": "2021-11-17T12:12:10.558848Z",
     "iopub.status.busy": "2021-11-17T12:12:10.558280Z",
     "iopub.status.idle": "2021-11-17T12:12:10.560260Z",
     "shell.execute_reply": "2021-11-17T12:12:10.559846Z"
    },
    "papermill": {
     "duration": 0.040404,
     "end_time": "2021-11-17T12:12:10.560361",
     "exception": false,
     "start_time": "2021-11-17T12:12:10.519957",
     "status": "completed"
    },
    "tags": []
   },
   "outputs": [],
   "source": [
    "#hide\n",
    "#delete problematic countries from table\n",
    "df_table = df_table[~df_table['Country/Region'].isin(['Cape Verde', 'Cruise Ship', 'Kosovo'])]"
   ]
  },
  {
   "cell_type": "code",
   "execution_count": 17,
   "id": "related-center",
   "metadata": {
    "execution": {
     "iopub.execute_input": "2021-11-17T12:12:10.642628Z",
     "iopub.status.busy": "2021-11-17T12:12:10.642019Z",
     "iopub.status.idle": "2021-11-17T12:12:10.644381Z",
     "shell.execute_reply": "2021-11-17T12:12:10.643892Z"
    },
    "papermill": {
     "duration": 0.052128,
     "end_time": "2021-11-17T12:12:10.644486",
     "exception": false,
     "start_time": "2021-11-17T12:12:10.592358",
     "status": "completed"
    },
    "tags": []
   },
   "outputs": [],
   "source": [
    "#hide\n",
    "metrics = [df_table.columns[index] for index in [1,2,5,6]]\n",
    "# s_china = df_table[df_table['Country/Region'].eq('China')][metrics].sum().add_prefix('China ')\n",
    "s_us = df_table[df_table['Country/Region'].eq('US')][metrics].sum().add_prefix('US ')\n",
    "s_eu = df_table[df_table['Continent'].eq('Europe')][metrics].sum().add_prefix('EU ')\n",
    "s_ind = df_table[df_table['Country/Region'].eq('India')][metrics].sum().add_prefix('India ')\n",
    "summary = {'updated': pd.to_datetime(dt_today), 'since': pd.to_datetime(dt_yday)}\n",
    "summary = {'updated': pd.to_datetime(dt_today), 'since': pd.to_datetime(dt_yday)}\n",
    "summary = {**summary, **df_table[metrics].sum(), **s_ind, **s_us, **s_eu}"
   ]
  },
  {
   "cell_type": "code",
   "execution_count": 18,
   "id": "engaging-syndrome",
   "metadata": {
    "execution": {
     "iopub.execute_input": "2021-11-17T12:12:10.711724Z",
     "iopub.status.busy": "2021-11-17T12:12:10.711126Z",
     "iopub.status.idle": "2021-11-17T12:12:10.725333Z",
     "shell.execute_reply": "2021-11-17T12:12:10.724939Z"
    },
    "papermill": {
     "duration": 0.048643,
     "end_time": "2021-11-17T12:12:10.725437",
     "exception": false,
     "start_time": "2021-11-17T12:12:10.676794",
     "status": "completed"
    },
    "tags": []
   },
   "outputs": [],
   "source": [
    "#hide\n",
    "dft_ct_new_cases = dft_cases.groupby(COL_REGION)[dt_cols].sum().diff(axis=1).fillna(0).astype(int)"
   ]
  },
  {
   "cell_type": "code",
   "execution_count": 19,
   "id": "neutral-assignment",
   "metadata": {
    "execution": {
     "iopub.execute_input": "2021-11-17T12:12:10.792116Z",
     "iopub.status.busy": "2021-11-17T12:12:10.791627Z",
     "iopub.status.idle": "2021-11-17T12:12:10.794279Z",
     "shell.execute_reply": "2021-11-17T12:12:10.793828Z"
    },
    "papermill": {
     "duration": 0.039708,
     "end_time": "2021-11-17T12:12:10.794389",
     "exception": false,
     "start_time": "2021-11-17T12:12:10.754681",
     "status": "completed"
    },
    "tags": []
   },
   "outputs": [],
   "source": [
    "#hide\n",
    "everydaycases = dft_ct_new_cases.cumsum(axis=1)"
   ]
  },
  {
   "cell_type": "code",
   "execution_count": 20,
   "id": "parliamentary-calgary",
   "metadata": {
    "execution": {
     "iopub.execute_input": "2021-11-17T12:12:10.856869Z",
     "iopub.status.busy": "2021-11-17T12:12:10.856445Z",
     "iopub.status.idle": "2021-11-17T12:12:11.488951Z",
     "shell.execute_reply": "2021-11-17T12:12:11.488204Z"
    },
    "papermill": {
     "duration": 0.66743,
     "end_time": "2021-11-17T12:12:11.489139",
     "exception": false,
     "start_time": "2021-11-17T12:12:10.821709",
     "status": "completed"
    },
    "tags": []
   },
   "outputs": [],
   "source": [
    "#hide\n",
    "import pandas as pd\n",
    "import matplotlib.pyplot as plt\n",
    "import matplotlib.ticker as ticker\n",
    "import matplotlib.animation as animation\n",
    "from IPython.display import HTML"
   ]
  },
  {
   "cell_type": "code",
   "execution_count": 21,
   "id": "lasting-extraction",
   "metadata": {
    "execution": {
     "iopub.execute_input": "2021-11-17T12:12:11.558858Z",
     "iopub.status.busy": "2021-11-17T12:12:11.558293Z",
     "iopub.status.idle": "2021-11-17T12:12:11.566211Z",
     "shell.execute_reply": "2021-11-17T12:12:11.565774Z"
    },
    "papermill": {
     "duration": 0.044332,
     "end_time": "2021-11-17T12:12:11.566307",
     "exception": false,
     "start_time": "2021-11-17T12:12:11.521975",
     "status": "completed"
    },
    "tags": []
   },
   "outputs": [],
   "source": [
    "#hide\n",
    "t = everydaycases.stack()"
   ]
  },
  {
   "cell_type": "code",
   "execution_count": 22,
   "id": "premier-sleeve",
   "metadata": {
    "execution": {
     "iopub.execute_input": "2021-11-17T12:12:11.629725Z",
     "iopub.status.busy": "2021-11-17T12:12:11.629132Z",
     "iopub.status.idle": "2021-11-17T12:12:11.639746Z",
     "shell.execute_reply": "2021-11-17T12:12:11.639354Z"
    },
    "papermill": {
     "duration": 0.044767,
     "end_time": "2021-11-17T12:12:11.639849",
     "exception": false,
     "start_time": "2021-11-17T12:12:11.595082",
     "status": "completed"
    },
    "tags": []
   },
   "outputs": [],
   "source": [
    "#hide\n",
    "g = t.reset_index(['Country/Region'])"
   ]
  },
  {
   "cell_type": "code",
   "execution_count": 23,
   "id": "distributed-pittsburgh",
   "metadata": {
    "execution": {
     "iopub.execute_input": "2021-11-17T12:12:11.717356Z",
     "iopub.status.busy": "2021-11-17T12:12:11.716723Z",
     "iopub.status.idle": "2021-11-17T12:12:11.722041Z",
     "shell.execute_reply": "2021-11-17T12:12:11.722574Z"
    },
    "papermill": {
     "duration": 0.042552,
     "end_time": "2021-11-17T12:12:11.722725",
     "exception": false,
     "start_time": "2021-11-17T12:12:11.680173",
     "status": "completed"
    },
    "tags": []
   },
   "outputs": [],
   "source": [
    "#hide\n",
    "g.index.name = 'date'"
   ]
  },
  {
   "cell_type": "code",
   "execution_count": 24,
   "id": "naked-donor",
   "metadata": {
    "execution": {
     "iopub.execute_input": "2021-11-17T12:12:11.794951Z",
     "iopub.status.busy": "2021-11-17T12:12:11.793885Z",
     "iopub.status.idle": "2021-11-17T12:12:11.795634Z",
     "shell.execute_reply": "2021-11-17T12:12:11.796009Z"
    },
    "papermill": {
     "duration": 0.038102,
     "end_time": "2021-11-17T12:12:11.796127",
     "exception": false,
     "start_time": "2021-11-17T12:12:11.758025",
     "status": "completed"
    },
    "tags": []
   },
   "outputs": [],
   "source": [
    "# #hide\n",
    "# g = g.reset_index(['date'])"
   ]
  },
  {
   "cell_type": "code",
   "execution_count": 25,
   "id": "incomplete-mustang",
   "metadata": {
    "execution": {
     "iopub.execute_input": "2021-11-17T12:12:11.862215Z",
     "iopub.status.busy": "2021-11-17T12:12:11.861725Z",
     "iopub.status.idle": "2021-11-17T12:12:11.864308Z",
     "shell.execute_reply": "2021-11-17T12:12:11.864904Z"
    },
    "papermill": {
     "duration": 0.038506,
     "end_time": "2021-11-17T12:12:11.865040",
     "exception": false,
     "start_time": "2021-11-17T12:12:11.826534",
     "status": "completed"
    },
    "tags": []
   },
   "outputs": [],
   "source": [
    "#hide\n",
    "# g.head()"
   ]
  },
  {
   "cell_type": "code",
   "execution_count": 26,
   "id": "specific-kruger",
   "metadata": {
    "execution": {
     "iopub.execute_input": "2021-11-17T12:12:11.991736Z",
     "iopub.status.busy": "2021-11-17T12:12:11.990992Z",
     "iopub.status.idle": "2021-11-17T12:12:11.996949Z",
     "shell.execute_reply": "2021-11-17T12:12:11.997402Z"
    },
    "papermill": {
     "duration": 0.07175,
     "end_time": "2021-11-17T12:12:11.997576",
     "exception": false,
     "start_time": "2021-11-17T12:12:11.925826",
     "status": "completed"
    },
    "tags": []
   },
   "outputs": [],
   "source": [
    "#hide\n",
    "# g.columns = ['date','country','cases']"
   ]
  },
  {
   "cell_type": "code",
   "execution_count": 27,
   "id": "tender-conversion",
   "metadata": {
    "execution": {
     "iopub.execute_input": "2021-11-17T12:12:12.098111Z",
     "iopub.status.busy": "2021-11-17T12:12:12.096373Z",
     "iopub.status.idle": "2021-11-17T12:12:12.100199Z",
     "shell.execute_reply": "2021-11-17T12:12:12.099376Z"
    },
    "papermill": {
     "duration": 0.073719,
     "end_time": "2021-11-17T12:12:12.100325",
     "exception": false,
     "start_time": "2021-11-17T12:12:12.026606",
     "status": "completed"
    },
    "tags": []
   },
   "outputs": [],
   "source": [
    "#hide\n",
    "# g['continent'] = g.country"
   ]
  },
  {
   "cell_type": "code",
   "execution_count": 28,
   "id": "substantial-wilderness",
   "metadata": {
    "execution": {
     "iopub.execute_input": "2021-11-17T12:12:12.169446Z",
     "iopub.status.busy": "2021-11-17T12:12:12.168852Z",
     "iopub.status.idle": "2021-11-17T12:12:12.171433Z",
     "shell.execute_reply": "2021-11-17T12:12:12.171877Z"
    },
    "papermill": {
     "duration": 0.038269,
     "end_time": "2021-11-17T12:12:12.172007",
     "exception": false,
     "start_time": "2021-11-17T12:12:12.133738",
     "status": "completed"
    },
    "tags": []
   },
   "outputs": [],
   "source": [
    "#hide\n",
    "# cols = list(g.columns.values)"
   ]
  },
  {
   "cell_type": "code",
   "execution_count": 29,
   "id": "solved-farming",
   "metadata": {
    "execution": {
     "iopub.execute_input": "2021-11-17T12:12:12.234338Z",
     "iopub.status.busy": "2021-11-17T12:12:12.233858Z",
     "iopub.status.idle": "2021-11-17T12:12:12.236607Z",
     "shell.execute_reply": "2021-11-17T12:12:12.237048Z"
    },
    "papermill": {
     "duration": 0.036679,
     "end_time": "2021-11-17T12:12:12.237172",
     "exception": false,
     "start_time": "2021-11-17T12:12:12.200493",
     "status": "completed"
    },
    "tags": []
   },
   "outputs": [],
   "source": [
    "#hide\n",
    "# cols.insert(0, cols.pop())"
   ]
  },
  {
   "cell_type": "code",
   "execution_count": 30,
   "id": "executed-adoption",
   "metadata": {
    "execution": {
     "iopub.execute_input": "2021-11-17T12:12:12.308913Z",
     "iopub.status.busy": "2021-11-17T12:12:12.307875Z",
     "iopub.status.idle": "2021-11-17T12:12:12.313313Z",
     "shell.execute_reply": "2021-11-17T12:12:12.313934Z"
    },
    "papermill": {
     "duration": 0.046046,
     "end_time": "2021-11-17T12:12:12.314075",
     "exception": false,
     "start_time": "2021-11-17T12:12:12.268029",
     "status": "completed"
    },
    "tags": []
   },
   "outputs": [],
   "source": [
    "#hide\n",
    "# g = g[cols]"
   ]
  },
  {
   "cell_type": "code",
   "execution_count": 31,
   "id": "subject-dublin",
   "metadata": {
    "execution": {
     "iopub.execute_input": "2021-11-17T12:12:12.380581Z",
     "iopub.status.busy": "2021-11-17T12:12:12.380119Z",
     "iopub.status.idle": "2021-11-17T12:12:12.383760Z",
     "shell.execute_reply": "2021-11-17T12:12:12.383315Z"
    },
    "papermill": {
     "duration": 0.038359,
     "end_time": "2021-11-17T12:12:12.383874",
     "exception": false,
     "start_time": "2021-11-17T12:12:12.345515",
     "status": "completed"
    },
    "tags": []
   },
   "outputs": [],
   "source": [
    "#hide\n",
    "# g['continent'] = g['continent'].map(mapping['map.continent'])"
   ]
  },
  {
   "cell_type": "code",
   "execution_count": 32,
   "id": "freelance-scout",
   "metadata": {
    "execution": {
     "iopub.execute_input": "2021-11-17T12:12:12.447110Z",
     "iopub.status.busy": "2021-11-17T12:12:12.446551Z",
     "iopub.status.idle": "2021-11-17T12:12:12.450008Z",
     "shell.execute_reply": "2021-11-17T12:12:12.449484Z"
    },
    "papermill": {
     "duration": 0.037755,
     "end_time": "2021-11-17T12:12:12.450106",
     "exception": false,
     "start_time": "2021-11-17T12:12:12.412351",
     "status": "completed"
    },
    "tags": []
   },
   "outputs": [],
   "source": [
    "#hide\n",
    "# g.head()"
   ]
  },
  {
   "cell_type": "code",
   "execution_count": 33,
   "id": "limited-engine",
   "metadata": {
    "execution": {
     "iopub.execute_input": "2021-11-17T12:12:12.516790Z",
     "iopub.status.busy": "2021-11-17T12:12:12.515955Z",
     "iopub.status.idle": "2021-11-17T12:12:12.519880Z",
     "shell.execute_reply": "2021-11-17T12:12:12.519485Z"
    },
    "papermill": {
     "duration": 0.038903,
     "end_time": "2021-11-17T12:12:12.519980",
     "exception": false,
     "start_time": "2021-11-17T12:12:12.481077",
     "status": "completed"
    },
    "tags": []
   },
   "outputs": [],
   "source": [
    "# hide\n",
    "# g['date'] = g['date'].astype('datetime64[ns]')"
   ]
  },
  {
   "cell_type": "code",
   "execution_count": 34,
   "id": "sophisticated-supervisor",
   "metadata": {
    "execution": {
     "iopub.execute_input": "2021-11-17T12:12:12.586991Z",
     "iopub.status.busy": "2021-11-17T12:12:12.585941Z",
     "iopub.status.idle": "2021-11-17T12:12:12.587807Z",
     "shell.execute_reply": "2021-11-17T12:12:12.588271Z"
    },
    "papermill": {
     "duration": 0.037085,
     "end_time": "2021-11-17T12:12:12.588391",
     "exception": false,
     "start_time": "2021-11-17T12:12:12.551306",
     "status": "completed"
    },
    "tags": []
   },
   "outputs": [],
   "source": [
    "#hide\n",
    "# g['date'] = g.date.dt.dayofyear"
   ]
  },
  {
   "cell_type": "code",
   "execution_count": 35,
   "id": "inside-dubai",
   "metadata": {
    "execution": {
     "iopub.execute_input": "2021-11-17T12:12:12.655972Z",
     "iopub.status.busy": "2021-11-17T12:12:12.655006Z",
     "iopub.status.idle": "2021-11-17T12:12:12.660353Z",
     "shell.execute_reply": "2021-11-17T12:12:12.659785Z"
    },
    "papermill": {
     "duration": 0.040709,
     "end_time": "2021-11-17T12:12:12.660468",
     "exception": false,
     "start_time": "2021-11-17T12:12:12.619759",
     "status": "completed"
    },
    "tags": []
   },
   "outputs": [],
   "source": [
    "#hide\n",
    "# g = g.rename(columns= {'continent':'group','country':'name','cases':'value'})"
   ]
  },
  {
   "cell_type": "code",
   "execution_count": 36,
   "id": "fleet-motorcycle",
   "metadata": {
    "execution": {
     "iopub.execute_input": "2021-11-17T12:12:12.724526Z",
     "iopub.status.busy": "2021-11-17T12:12:12.723853Z",
     "iopub.status.idle": "2021-11-17T12:12:12.728306Z",
     "shell.execute_reply": "2021-11-17T12:12:12.728818Z"
    },
    "papermill": {
     "duration": 0.038091,
     "end_time": "2021-11-17T12:12:12.728968",
     "exception": false,
     "start_time": "2021-11-17T12:12:12.690877",
     "status": "completed"
    },
    "tags": []
   },
   "outputs": [],
   "source": [
    "#hide\n",
    "# cols = ['name','group','day','value']"
   ]
  },
  {
   "cell_type": "code",
   "execution_count": 37,
   "id": "continued-sleeping",
   "metadata": {
    "execution": {
     "iopub.execute_input": "2021-11-17T12:12:12.798756Z",
     "iopub.status.busy": "2021-11-17T12:12:12.797732Z",
     "iopub.status.idle": "2021-11-17T12:12:12.800798Z",
     "shell.execute_reply": "2021-11-17T12:12:12.800322Z"
    },
    "papermill": {
     "duration": 0.038147,
     "end_time": "2021-11-17T12:12:12.800896",
     "exception": false,
     "start_time": "2021-11-17T12:12:12.762749",
     "status": "completed"
    },
    "tags": []
   },
   "outputs": [],
   "source": [
    "#hide\n",
    "# g.rename(columns= {'date':'day'},inplace = True)"
   ]
  },
  {
   "cell_type": "code",
   "execution_count": 38,
   "id": "major-fight",
   "metadata": {
    "execution": {
     "iopub.execute_input": "2021-11-17T12:12:12.870522Z",
     "iopub.status.busy": "2021-11-17T12:12:12.869434Z",
     "iopub.status.idle": "2021-11-17T12:12:12.872421Z",
     "shell.execute_reply": "2021-11-17T12:12:12.872803Z"
    },
    "papermill": {
     "duration": 0.040965,
     "end_time": "2021-11-17T12:12:12.872921",
     "exception": false,
     "start_time": "2021-11-17T12:12:12.831956",
     "status": "completed"
    },
    "tags": []
   },
   "outputs": [],
   "source": [
    "#hide\n",
    "# g = g[cols]"
   ]
  },
  {
   "cell_type": "code",
   "execution_count": 39,
   "id": "structured-mobile",
   "metadata": {
    "execution": {
     "iopub.execute_input": "2021-11-17T12:12:12.938815Z",
     "iopub.status.busy": "2021-11-17T12:12:12.938267Z",
     "iopub.status.idle": "2021-11-17T12:12:12.941323Z",
     "shell.execute_reply": "2021-11-17T12:12:12.940847Z"
    },
    "papermill": {
     "duration": 0.037264,
     "end_time": "2021-11-17T12:12:12.941442",
     "exception": false,
     "start_time": "2021-11-17T12:12:12.904178",
     "status": "completed"
    },
    "tags": []
   },
   "outputs": [],
   "source": [
    "# #hide\n",
    "# g = g[g.group.notna()]"
   ]
  },
  {
   "cell_type": "code",
   "execution_count": 40,
   "id": "determined-closing",
   "metadata": {
    "execution": {
     "iopub.execute_input": "2021-11-17T12:12:13.008437Z",
     "iopub.status.busy": "2021-11-17T12:12:13.007944Z",
     "iopub.status.idle": "2021-11-17T12:12:13.010388Z",
     "shell.execute_reply": "2021-11-17T12:12:13.010858Z"
    },
    "papermill": {
     "duration": 0.037477,
     "end_time": "2021-11-17T12:12:13.011006",
     "exception": false,
     "start_time": "2021-11-17T12:12:12.973529",
     "status": "completed"
    },
    "tags": []
   },
   "outputs": [],
   "source": [
    "# #hide\n",
    "# colors = dict(zip(\n",
    "#     [\"Oceania\", \"Europe\", \"Asia\", \"South America\", \"Middle East\", \"North America\", \"Africa\"],\n",
    "#     [\"#adb0ff\", \"#ffb3ff\", \"#90d595\", \"#e48381\", \"#aafbff\", \"#f7bb5f\", \"#eafb50\"]\n",
    "# ))\n",
    "# group_lk = g.set_index('name')['group'].to_dict()"
   ]
  },
  {
   "cell_type": "code",
   "execution_count": null,
   "id": "gross-drinking",
   "metadata": {
    "papermill": {
     "duration": 0.030553,
     "end_time": "2021-11-17T12:12:13.070254",
     "exception": false,
     "start_time": "2021-11-17T12:12:13.039701",
     "status": "completed"
    },
    "tags": []
   },
   "outputs": [],
   "source": []
  },
  {
   "cell_type": "code",
   "execution_count": 41,
   "id": "subject-macintosh",
   "metadata": {
    "execution": {
     "iopub.execute_input": "2021-11-17T12:12:13.133053Z",
     "iopub.status.busy": "2021-11-17T12:12:13.132453Z",
     "iopub.status.idle": "2021-11-17T12:12:13.134968Z",
     "shell.execute_reply": "2021-11-17T12:12:13.135312Z"
    },
    "papermill": {
     "duration": 0.036367,
     "end_time": "2021-11-17T12:12:13.135413",
     "exception": false,
     "start_time": "2021-11-17T12:12:13.099046",
     "status": "completed"
    },
    "tags": []
   },
   "outputs": [],
   "source": [
    "# #hide\n",
    "# fig, ax = plt.subplots(figsize=(15, 8))\n",
    "\n",
    "# def draw_barchart(current_day):\n",
    "#     dff = g[g['day'].eq(current_day)].sort_values(by='value', ascending=True).tail(10)\n",
    "#     ax.clear()\n",
    "#     ax.barh(dff['name'], dff['value'], color=[colors[group_lk[x]] for x in dff['name']])\n",
    "#     dx = dff['value'].max() / 200\n",
    "    \n",
    "#     for i, (value, name) in enumerate(zip(dff['value'], dff['name'])):\n",
    "#         ax.text(value-dx, i,     name,           size=14, weight=600, ha='right', va='bottom')\n",
    "#         ax.text(value-dx, i-.25, group_lk[name], size=10, color='#444444', ha='right', va='baseline')\n",
    "#         ax.text(value+dx, i,     f'{value:,.0f}',  size=14, ha='left',  va='center')\n",
    "#     ax.text(1, 0.4, current_day, transform=ax.transAxes, color='#777777', size=46, ha='right', weight=800)\n",
    "#     ax.text(0, 1.06, 'Population (thousands)', transform=ax.transAxes, size=12, color='#777777')\n",
    "#     ax.xaxis.set_major_formatter(ticker.StrMethodFormatter('{x:,.0f}'))\n",
    "#     ax.xaxis.set_ticks_position('top')\n",
    "#     ax.tick_params(axis='x', colors='#777777', labelsize=12)\n",
    "#     ax.set_yticks([])\n",
    "#     ax.margins(0, 0.01)\n",
    "#     ax.grid(which='major', axis='x', linestyle='-')\n",
    "#     ax.set_axisbelow(True)\n",
    "    \n",
    "#     ax.text(0, 1.15, 'Coronavirus',\n",
    "#             transform=ax.transAxes, size=24, weight=600, ha='left', va='top')\n",
    "# #     ax.text(1, 0, 'by @pratapvardhan; credit @jburnmurdoch', transform=ax.transAxes, color='#777777', ha='right',\n",
    "# #             bbox=dict(facecolor='white', alpha=0.8, edgecolor='white'))\n",
    "#     plt.box(False)"
   ]
  },
  {
   "cell_type": "code",
   "execution_count": 42,
   "id": "sexual-wages",
   "metadata": {
    "execution": {
     "iopub.execute_input": "2021-11-17T12:12:13.198191Z",
     "iopub.status.busy": "2021-11-17T12:12:13.197622Z",
     "iopub.status.idle": "2021-11-17T12:12:13.199941Z",
     "shell.execute_reply": "2021-11-17T12:12:13.199358Z"
    },
    "papermill": {
     "duration": 0.035908,
     "end_time": "2021-11-17T12:12:13.200042",
     "exception": false,
     "start_time": "2021-11-17T12:12:13.164134",
     "status": "completed"
    },
    "tags": []
   },
   "outputs": [],
   "source": [
    "# #hide_input\n",
    "# fig, ax = plt.subplots(figsize=(15, 8))\n",
    "# animator = animation.FuncAnimation(fig, draw_barchart, frames=range(g.day.values.min(), g.day.values.max()))\n",
    "# HTML(animator.to_jshtml())\n",
    "# # or use animator.to_html5_video() or animator.save() "
   ]
  },
  {
   "cell_type": "code",
   "execution_count": null,
   "id": "australian-container",
   "metadata": {
    "papermill": {
     "duration": 0.034562,
     "end_time": "2021-11-17T12:12:13.267904",
     "exception": false,
     "start_time": "2021-11-17T12:12:13.233342",
     "status": "completed"
    },
    "tags": []
   },
   "outputs": [],
   "source": []
  },
  {
   "cell_type": "code",
   "execution_count": null,
   "id": "mediterranean-pontiac",
   "metadata": {
    "papermill": {
     "duration": 0.033047,
     "end_time": "2021-11-17T12:12:13.334830",
     "exception": false,
     "start_time": "2021-11-17T12:12:13.301783",
     "status": "completed"
    },
    "tags": []
   },
   "outputs": [],
   "source": []
  },
  {
   "cell_type": "code",
   "execution_count": null,
   "id": "aging-legislature",
   "metadata": {
    "papermill": {
     "duration": 0.031003,
     "end_time": "2021-11-17T12:12:13.398917",
     "exception": false,
     "start_time": "2021-11-17T12:12:13.367914",
     "status": "completed"
    },
    "tags": []
   },
   "outputs": [],
   "source": []
  }
 ],
 "metadata": {
  "kernelspec": {
   "display_name": "Python 3",
   "language": "python",
   "name": "python3"
  },
  "language_info": {
   "codemirror_mode": {
    "name": "ipython",
    "version": 3
   },
   "file_extension": ".py",
   "mimetype": "text/x-python",
   "name": "python",
   "nbconvert_exporter": "python",
   "pygments_lexer": "ipython3",
   "version": "3.6.15"
  },
  "papermill": {
   "duration": 6.252976,
   "end_time": "2021-11-17T12:12:13.840560",
   "environment_variables": {},
   "exception": null,
   "input_path": "2020-03-21-covid19exp.ipynb",
   "output_path": "2020-03-21-covid19exp.ipynb",
   "parameters": {},
   "start_time": "2021-11-17T12:12:07.587584",
   "version": "2.0.0"
  }
 },
 "nbformat": 4,
 "nbformat_minor": 5
}