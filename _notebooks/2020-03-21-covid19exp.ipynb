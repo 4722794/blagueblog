{
 "cells": [
  {
   "cell_type": "markdown",
   "id": "muslim-click",
   "metadata": {
    "papermill": {
     "duration": 0.043648,
     "end_time": "2021-10-16T12:11:19.225711",
     "exception": false,
     "start_time": "2021-10-16T12:11:19.182063",
     "status": "completed"
    },
    "tags": []
   },
   "source": [
    "# COVID-19 Case Race\n",
    "> A race chart to see rising cases around the world\n",
    "\n",
    "- author: Hargun Oberoi\n",
    "- image: images/covid-overview.png\n",
    "- hide: false\n",
    "- badges: false"
   ]
  },
  {
   "cell_type": "code",
   "execution_count": 1,
   "id": "proof-material",
   "metadata": {
    "execution": {
     "iopub.execute_input": "2021-10-16T12:11:19.308053Z",
     "iopub.status.busy": "2021-10-16T12:11:19.307447Z",
     "iopub.status.idle": "2021-10-16T12:11:19.692037Z",
     "shell.execute_reply": "2021-10-16T12:11:19.691500Z"
    },
    "papermill": {
     "duration": 0.430497,
     "end_time": "2021-10-16T12:11:19.692181",
     "exception": false,
     "start_time": "2021-10-16T12:11:19.261684",
     "status": "completed"
    },
    "tags": []
   },
   "outputs": [],
   "source": [
    "#hide\n",
    "import numpy as np\n",
    "import pandas as pd\n",
    "from jinja2 import Template\n",
    "from IPython.display import HTML"
   ]
  },
  {
   "cell_type": "code",
   "execution_count": 2,
   "id": "developed-terminology",
   "metadata": {
    "execution": {
     "iopub.execute_input": "2021-10-16T12:11:19.771110Z",
     "iopub.status.busy": "2021-10-16T12:11:19.770551Z",
     "iopub.status.idle": "2021-10-16T12:11:19.773182Z",
     "shell.execute_reply": "2021-10-16T12:11:19.772704Z"
    },
    "papermill": {
     "duration": 0.044572,
     "end_time": "2021-10-16T12:11:19.773295",
     "exception": false,
     "start_time": "2021-10-16T12:11:19.728723",
     "status": "completed"
    },
    "tags": []
   },
   "outputs": [],
   "source": [
    "#hide\n",
    "\n",
    "# FETCH\n",
    "base_url = 'https://raw.githubusercontent.com/pratapvardhan/notebooks/master/covid19/'\n",
    "paths = {\n",
    "    'mapping': base_url + 'mapping_countries.csv',\n",
    "    'overview': base_url + 'overview.tpl'\n",
    "}"
   ]
  },
  {
   "cell_type": "code",
   "execution_count": 3,
   "id": "dynamic-saver",
   "metadata": {
    "execution": {
     "iopub.execute_input": "2021-10-16T12:11:19.852116Z",
     "iopub.status.busy": "2021-10-16T12:11:19.851369Z",
     "iopub.status.idle": "2021-10-16T12:11:19.854360Z",
     "shell.execute_reply": "2021-10-16T12:11:19.853841Z"
    },
    "papermill": {
     "duration": 0.047602,
     "end_time": "2021-10-16T12:11:19.854468",
     "exception": false,
     "start_time": "2021-10-16T12:11:19.806866",
     "status": "completed"
    },
    "tags": []
   },
   "outputs": [
    {
     "data": {
      "text/plain": [
       "'https://raw.githubusercontent.com/pratapvardhan/notebooks/master/covid19/mapping_countries.csv'"
      ]
     },
     "execution_count": 3,
     "metadata": {},
     "output_type": "execute_result"
    }
   ],
   "source": [
    "#hide\n",
    "paths['mapping']"
   ]
  },
  {
   "cell_type": "code",
   "execution_count": 4,
   "id": "urban-software",
   "metadata": {
    "execution": {
     "iopub.execute_input": "2021-10-16T12:11:19.931359Z",
     "iopub.status.busy": "2021-10-16T12:11:19.930745Z",
     "iopub.status.idle": "2021-10-16T12:11:19.933118Z",
     "shell.execute_reply": "2021-10-16T12:11:19.932568Z"
    },
    "papermill": {
     "duration": 0.045397,
     "end_time": "2021-10-16T12:11:19.933234",
     "exception": false,
     "start_time": "2021-10-16T12:11:19.887837",
     "status": "completed"
    },
    "tags": []
   },
   "outputs": [],
   "source": [
    "#hide\n",
    "def get_mappings(url):\n",
    "    df = pd.read_csv(url)\n",
    "    return {\n",
    "        'df': df,\n",
    "        'replace.country': dict(df.dropna(subset=['Name']).set_index('Country')['Name']),\n",
    "        'map.continent': dict(df.set_index('Name')['Continent'])\n",
    "    }"
   ]
  },
  {
   "cell_type": "code",
   "execution_count": 5,
   "id": "intimate-machinery",
   "metadata": {
    "execution": {
     "iopub.execute_input": "2021-10-16T12:11:20.008137Z",
     "iopub.status.busy": "2021-10-16T12:11:20.007564Z",
     "iopub.status.idle": "2021-10-16T12:11:20.048568Z",
     "shell.execute_reply": "2021-10-16T12:11:20.048036Z"
    },
    "papermill": {
     "duration": 0.082824,
     "end_time": "2021-10-16T12:11:20.048701",
     "exception": false,
     "start_time": "2021-10-16T12:11:19.965877",
     "status": "completed"
    },
    "tags": []
   },
   "outputs": [],
   "source": [
    "#hide\n",
    "mapping = get_mappings(paths['mapping'])"
   ]
  },
  {
   "cell_type": "code",
   "execution_count": 6,
   "id": "certified-tactics",
   "metadata": {
    "execution": {
     "iopub.execute_input": "2021-10-16T12:11:20.127111Z",
     "iopub.status.busy": "2021-10-16T12:11:20.126536Z",
     "iopub.status.idle": "2021-10-16T12:11:20.129247Z",
     "shell.execute_reply": "2021-10-16T12:11:20.128794Z"
    },
    "papermill": {
     "duration": 0.044439,
     "end_time": "2021-10-16T12:11:20.129401",
     "exception": false,
     "start_time": "2021-10-16T12:11:20.084962",
     "status": "completed"
    },
    "tags": []
   },
   "outputs": [],
   "source": [
    "#hide\n",
    "def get_template(path):\n",
    "    from urllib.parse import urlparse\n",
    "    if bool(urlparse(path).netloc):\n",
    "        from urllib.request import urlopen\n",
    "        return urlopen(path).read().decode('utf8')\n",
    "    return open(path).read()"
   ]
  },
  {
   "cell_type": "code",
   "execution_count": 7,
   "id": "realistic-blast",
   "metadata": {
    "execution": {
     "iopub.execute_input": "2021-10-16T12:11:20.205173Z",
     "iopub.status.busy": "2021-10-16T12:11:20.204380Z",
     "iopub.status.idle": "2021-10-16T12:11:20.207470Z",
     "shell.execute_reply": "2021-10-16T12:11:20.206859Z"
    },
    "papermill": {
     "duration": 0.041219,
     "end_time": "2021-10-16T12:11:20.207586",
     "exception": false,
     "start_time": "2021-10-16T12:11:20.166367",
     "status": "completed"
    },
    "tags": []
   },
   "outputs": [],
   "source": [
    "#hide\n",
    "def get_frame(name):\n",
    "    url = (\n",
    "        'https://raw.githubusercontent.com/CSSEGISandData/COVID-19/master/csse_covid_19_data/'\n",
    "        f'csse_covid_19_time_series/time_series_covid19_{name}_global.csv')\n",
    "    df = pd.read_csv(url)\n",
    "    # rename countries\n",
    "    df['Country/Region'] = df['Country/Region'].replace(mapping['replace.country'])\n",
    "    return df"
   ]
  },
  {
   "cell_type": "code",
   "execution_count": 8,
   "id": "affiliated-characterization",
   "metadata": {
    "execution": {
     "iopub.execute_input": "2021-10-16T12:11:20.287026Z",
     "iopub.status.busy": "2021-10-16T12:11:20.286356Z",
     "iopub.status.idle": "2021-10-16T12:11:20.289071Z",
     "shell.execute_reply": "2021-10-16T12:11:20.288603Z"
    },
    "papermill": {
     "duration": 0.044466,
     "end_time": "2021-10-16T12:11:20.289183",
     "exception": false,
     "start_time": "2021-10-16T12:11:20.244717",
     "status": "completed"
    },
    "tags": []
   },
   "outputs": [],
   "source": [
    "#hide\n",
    "def get_dates(df):\n",
    "    dt_cols = df.columns[~df.columns.isin(['Province/State', 'Country/Region', 'Lat', 'Long'])]\n",
    "    LAST_DATE_I = -1\n",
    "    # sometimes last column may be empty, then go backwards\n",
    "    for i in range(-1, -len(dt_cols), -1):\n",
    "        if not df[dt_cols[i]].fillna(0).eq(0).all():\n",
    "            LAST_DATE_I = i\n",
    "            break\n",
    "    return LAST_DATE_I, dt_cols"
   ]
  },
  {
   "cell_type": "code",
   "execution_count": 9,
   "id": "recent-optimization",
   "metadata": {
    "execution": {
     "iopub.execute_input": "2021-10-16T12:11:20.371434Z",
     "iopub.status.busy": "2021-10-16T12:11:20.370183Z",
     "iopub.status.idle": "2021-10-16T12:11:20.780546Z",
     "shell.execute_reply": "2021-10-16T12:11:20.779268Z"
    },
    "papermill": {
     "duration": 0.457041,
     "end_time": "2021-10-16T12:11:20.780705",
     "exception": false,
     "start_time": "2021-10-16T12:11:20.323664",
     "status": "completed"
    },
    "tags": []
   },
   "outputs": [],
   "source": [
    "#hide\n",
    "COL_REGION = 'Country/Region'\n",
    "# Confirmed, Recovered, Deaths\n",
    "df = get_frame('confirmed')\n",
    "# dft_: timeseries, dfc_: today country agg\n",
    "dft_cases = df\n",
    "dft_deaths = get_frame('deaths')\n",
    "dft_recovered = get_frame('recovered')\n",
    "LAST_DATE_I, dt_cols = get_dates(df)"
   ]
  },
  {
   "cell_type": "code",
   "execution_count": 10,
   "id": "absolute-copper",
   "metadata": {
    "execution": {
     "iopub.execute_input": "2021-10-16T12:11:20.862575Z",
     "iopub.status.busy": "2021-10-16T12:11:20.861605Z",
     "iopub.status.idle": "2021-10-16T12:11:20.863181Z",
     "shell.execute_reply": "2021-10-16T12:11:20.863712Z"
    },
    "papermill": {
     "duration": 0.04596,
     "end_time": "2021-10-16T12:11:20.863847",
     "exception": false,
     "start_time": "2021-10-16T12:11:20.817887",
     "status": "completed"
    },
    "tags": []
   },
   "outputs": [],
   "source": [
    "#hide\n",
    "LAST_DATE_I, dt_cols = get_dates(df)\n",
    "dt_today =dt_cols[LAST_DATE_I]\n",
    "# dt_5day = dt_cols[LAST_DATE_I - 5]\n",
    "dt_yday = dt_cols[LAST_DATE_I - 1]"
   ]
  },
  {
   "cell_type": "code",
   "execution_count": 11,
   "id": "restricted-sheriff",
   "metadata": {
    "execution": {
     "iopub.execute_input": "2021-10-16T12:11:20.941269Z",
     "iopub.status.busy": "2021-10-16T12:11:20.940657Z",
     "iopub.status.idle": "2021-10-16T12:11:20.949951Z",
     "shell.execute_reply": "2021-10-16T12:11:20.950651Z"
    },
    "papermill": {
     "duration": 0.051697,
     "end_time": "2021-10-16T12:11:20.950868",
     "exception": false,
     "start_time": "2021-10-16T12:11:20.899171",
     "status": "completed"
    },
    "tags": []
   },
   "outputs": [],
   "source": [
    "#hide\n",
    "dfc_cases = dft_cases.groupby(COL_REGION)[dt_today].sum()\n",
    "dfc_deaths = dft_deaths.groupby(COL_REGION)[dt_today].sum()\n",
    "# dfp_cases = dft_cases.groupby(COL_REGION)[dt_5day].sum()\n",
    "# dfp_deaths = dft_deaths.groupby(COL_REGION)[dt_5day].sum()\n",
    "dfp_cases = dft_cases.groupby(COL_REGION)[dt_yday].sum()\n",
    "dfp_deaths = dft_deaths.groupby(COL_REGION)[dt_yday].sum()"
   ]
  },
  {
   "cell_type": "code",
   "execution_count": 12,
   "id": "deluxe-hepatitis",
   "metadata": {
    "execution": {
     "iopub.execute_input": "2021-10-16T12:11:21.028434Z",
     "iopub.status.busy": "2021-10-16T12:11:21.027734Z",
     "iopub.status.idle": "2021-10-16T12:11:21.033344Z",
     "shell.execute_reply": "2021-10-16T12:11:21.033980Z"
    },
    "papermill": {
     "duration": 0.047978,
     "end_time": "2021-10-16T12:11:21.034152",
     "exception": false,
     "start_time": "2021-10-16T12:11:20.986174",
     "status": "completed"
    },
    "tags": []
   },
   "outputs": [],
   "source": [
    "#hide\n",
    "df_table = (pd.DataFrame(dict(Cases = dfc_cases, Deaths = dfc_deaths, PCases = dfp_cases, PDeaths = dfp_deaths))\n",
    "            .sort_values(by = ['Cases','Deaths'], ascending = [False, False])\n",
    "            .reset_index())"
   ]
  },
  {
   "cell_type": "code",
   "execution_count": 13,
   "id": "educational-chancellor",
   "metadata": {
    "execution": {
     "iopub.execute_input": "2021-10-16T12:11:21.125328Z",
     "iopub.status.busy": "2021-10-16T12:11:21.119569Z",
     "iopub.status.idle": "2021-10-16T12:11:21.133507Z",
     "shell.execute_reply": "2021-10-16T12:11:21.133982Z"
    },
    "papermill": {
     "duration": 0.06514,
     "end_time": "2021-10-16T12:11:21.134110",
     "exception": false,
     "start_time": "2021-10-16T12:11:21.068970",
     "status": "completed"
    },
    "tags": []
   },
   "outputs": [
    {
     "data": {
      "text/html": [
       "<div>\n",
       "<style scoped>\n",
       "    .dataframe tbody tr th:only-of-type {\n",
       "        vertical-align: middle;\n",
       "    }\n",
       "\n",
       "    .dataframe tbody tr th {\n",
       "        vertical-align: top;\n",
       "    }\n",
       "\n",
       "    .dataframe thead th {\n",
       "        text-align: right;\n",
       "    }\n",
       "</style>\n",
       "<table border=\"1\" class=\"dataframe\">\n",
       "  <thead>\n",
       "    <tr style=\"text-align: right;\">\n",
       "      <th></th>\n",
       "      <th>Country/Region</th>\n",
       "      <th>Cases</th>\n",
       "      <th>Deaths</th>\n",
       "      <th>PCases</th>\n",
       "      <th>PDeaths</th>\n",
       "      <th>Cases (+)</th>\n",
       "      <th>Deaths (+)</th>\n",
       "      <th>Fatality Rate</th>\n",
       "      <th>Continent</th>\n",
       "    </tr>\n",
       "  </thead>\n",
       "  <tbody>\n",
       "    <tr>\n",
       "      <th>0</th>\n",
       "      <td>US</td>\n",
       "      <td>44884868</td>\n",
       "      <td>723754</td>\n",
       "      <td>44767906</td>\n",
       "      <td>721563</td>\n",
       "      <td>116962</td>\n",
       "      <td>2191</td>\n",
       "      <td>1.61</td>\n",
       "      <td>North America</td>\n",
       "    </tr>\n",
       "    <tr>\n",
       "      <th>1</th>\n",
       "      <td>India</td>\n",
       "      <td>34053573</td>\n",
       "      <td>451980</td>\n",
       "      <td>34037592</td>\n",
       "      <td>451814</td>\n",
       "      <td>15981</td>\n",
       "      <td>166</td>\n",
       "      <td>1.33</td>\n",
       "      <td>Asia</td>\n",
       "    </tr>\n",
       "    <tr>\n",
       "      <th>2</th>\n",
       "      <td>Brazil</td>\n",
       "      <td>21627476</td>\n",
       "      <td>602669</td>\n",
       "      <td>21612237</td>\n",
       "      <td>602099</td>\n",
       "      <td>15239</td>\n",
       "      <td>570</td>\n",
       "      <td>2.79</td>\n",
       "      <td>South America</td>\n",
       "    </tr>\n",
       "    <tr>\n",
       "      <th>3</th>\n",
       "      <td>United Kingdom</td>\n",
       "      <td>8400983</td>\n",
       "      <td>138792</td>\n",
       "      <td>8356596</td>\n",
       "      <td>138647</td>\n",
       "      <td>44387</td>\n",
       "      <td>145</td>\n",
       "      <td>1.65</td>\n",
       "      <td>Europe</td>\n",
       "    </tr>\n",
       "    <tr>\n",
       "      <th>4</th>\n",
       "      <td>Russia</td>\n",
       "      <td>7804750</td>\n",
       "      <td>217382</td>\n",
       "      <td>7773388</td>\n",
       "      <td>216403</td>\n",
       "      <td>31362</td>\n",
       "      <td>979</td>\n",
       "      <td>2.79</td>\n",
       "      <td>Europe</td>\n",
       "    </tr>\n",
       "  </tbody>\n",
       "</table>\n",
       "</div>"
      ],
      "text/plain": [
       "   Country/Region     Cases  Deaths    PCases  PDeaths  Cases (+)  Deaths (+)  \\\n",
       "0              US  44884868  723754  44767906   721563     116962        2191   \n",
       "1           India  34053573  451980  34037592   451814      15981         166   \n",
       "2          Brazil  21627476  602669  21612237   602099      15239         570   \n",
       "3  United Kingdom   8400983  138792   8356596   138647      44387         145   \n",
       "4          Russia   7804750  217382   7773388   216403      31362         979   \n",
       "\n",
       "   Fatality Rate      Continent  \n",
       "0           1.61  North America  \n",
       "1           1.33           Asia  \n",
       "2           2.79  South America  \n",
       "3           1.65         Europe  \n",
       "4           2.79         Europe  "
      ]
     },
     "execution_count": 13,
     "metadata": {},
     "output_type": "execute_result"
    }
   ],
   "source": [
    "#hide\n",
    "for c in 'Cases, Deaths'.split(', '):\n",
    "    df_table[f'{c} (+)'] = (df_table[c] - df_table[f'P{c}']).clip(0)\n",
    "    #Clip ça veut dire, les chiffres negatif sont interdit\n",
    "df_table['Fatality Rate'] = (100* df_table['Deaths']/ df_table['Cases']).round(2)\n",
    "df_table['Continent'] = df_table['Country/Region'].map(mapping['map.continent'])\n",
    "df_table.head(5)"
   ]
  },
  {
   "cell_type": "code",
   "execution_count": 14,
   "id": "aboriginal-bulgaria",
   "metadata": {
    "execution": {
     "iopub.execute_input": "2021-10-16T12:11:21.209463Z",
     "iopub.status.busy": "2021-10-16T12:11:21.208923Z",
     "iopub.status.idle": "2021-10-16T12:11:21.211721Z",
     "shell.execute_reply": "2021-10-16T12:11:21.212193Z"
    },
    "papermill": {
     "duration": 0.040748,
     "end_time": "2021-10-16T12:11:21.212318",
     "exception": false,
     "start_time": "2021-10-16T12:11:21.171570",
     "status": "completed"
    },
    "tags": []
   },
   "outputs": [],
   "source": [
    "#hide\n",
    "#delete problematic countries from table\n",
    "df_table = df_table[~df_table['Country/Region'].isin(['Cape Verde', 'Cruise Ship', 'Kosovo'])]"
   ]
  },
  {
   "cell_type": "code",
   "execution_count": 15,
   "id": "fantastic-effect",
   "metadata": {
    "execution": {
     "iopub.execute_input": "2021-10-16T12:11:21.290364Z",
     "iopub.status.busy": "2021-10-16T12:11:21.289825Z",
     "iopub.status.idle": "2021-10-16T12:11:21.310282Z",
     "shell.execute_reply": "2021-10-16T12:11:21.309844Z"
    },
    "papermill": {
     "duration": 0.06081,
     "end_time": "2021-10-16T12:11:21.310440",
     "exception": false,
     "start_time": "2021-10-16T12:11:21.249630",
     "status": "completed"
    },
    "tags": []
   },
   "outputs": [
    {
     "data": {
      "text/html": [
       "<div>\n",
       "<style scoped>\n",
       "    .dataframe tbody tr th:only-of-type {\n",
       "        vertical-align: middle;\n",
       "    }\n",
       "\n",
       "    .dataframe tbody tr th {\n",
       "        vertical-align: top;\n",
       "    }\n",
       "\n",
       "    .dataframe thead th {\n",
       "        text-align: right;\n",
       "    }\n",
       "</style>\n",
       "<table border=\"1\" class=\"dataframe\">\n",
       "  <thead>\n",
       "    <tr style=\"text-align: right;\">\n",
       "      <th></th>\n",
       "      <th>Country/Region</th>\n",
       "      <th>Cases</th>\n",
       "      <th>Deaths</th>\n",
       "      <th>PCases</th>\n",
       "      <th>PDeaths</th>\n",
       "      <th>Cases (+)</th>\n",
       "      <th>Deaths (+)</th>\n",
       "      <th>Fatality Rate</th>\n",
       "      <th>Continent</th>\n",
       "    </tr>\n",
       "  </thead>\n",
       "  <tbody>\n",
       "    <tr>\n",
       "      <th>0</th>\n",
       "      <td>US</td>\n",
       "      <td>44884868</td>\n",
       "      <td>723754</td>\n",
       "      <td>44767906</td>\n",
       "      <td>721563</td>\n",
       "      <td>116962</td>\n",
       "      <td>2191</td>\n",
       "      <td>1.6</td>\n",
       "      <td>North America</td>\n",
       "    </tr>\n",
       "    <tr>\n",
       "      <th>1</th>\n",
       "      <td>India</td>\n",
       "      <td>34053573</td>\n",
       "      <td>451980</td>\n",
       "      <td>34037592</td>\n",
       "      <td>451814</td>\n",
       "      <td>15981</td>\n",
       "      <td>166</td>\n",
       "      <td>1.3</td>\n",
       "      <td>Asia</td>\n",
       "    </tr>\n",
       "    <tr>\n",
       "      <th>2</th>\n",
       "      <td>Brazil</td>\n",
       "      <td>21627476</td>\n",
       "      <td>602669</td>\n",
       "      <td>21612237</td>\n",
       "      <td>602099</td>\n",
       "      <td>15239</td>\n",
       "      <td>570</td>\n",
       "      <td>2.8</td>\n",
       "      <td>South America</td>\n",
       "    </tr>\n",
       "    <tr>\n",
       "      <th>3</th>\n",
       "      <td>United Kingdom</td>\n",
       "      <td>8400983</td>\n",
       "      <td>138792</td>\n",
       "      <td>8356596</td>\n",
       "      <td>138647</td>\n",
       "      <td>44387</td>\n",
       "      <td>145</td>\n",
       "      <td>1.7</td>\n",
       "      <td>Europe</td>\n",
       "    </tr>\n",
       "    <tr>\n",
       "      <th>4</th>\n",
       "      <td>Russia</td>\n",
       "      <td>7804750</td>\n",
       "      <td>217382</td>\n",
       "      <td>7773388</td>\n",
       "      <td>216403</td>\n",
       "      <td>31362</td>\n",
       "      <td>979</td>\n",
       "      <td>2.8</td>\n",
       "      <td>Europe</td>\n",
       "    </tr>\n",
       "  </tbody>\n",
       "</table>\n",
       "</div>"
      ],
      "text/plain": [
       "   Country/Region     Cases  Deaths    PCases  PDeaths  Cases (+)  Deaths (+)  \\\n",
       "0              US  44884868  723754  44767906   721563     116962        2191   \n",
       "1           India  34053573  451980  34037592   451814      15981         166   \n",
       "2          Brazil  21627476  602669  21612237   602099      15239         570   \n",
       "3  United Kingdom   8400983  138792   8356596   138647      44387         145   \n",
       "4          Russia   7804750  217382   7773388   216403      31362         979   \n",
       "\n",
       "   Fatality Rate      Continent  \n",
       "0            1.6  North America  \n",
       "1            1.3           Asia  \n",
       "2            2.8  South America  \n",
       "3            1.7         Europe  \n",
       "4            2.8         Europe  "
      ]
     },
     "execution_count": 15,
     "metadata": {},
     "output_type": "execute_result"
    }
   ],
   "source": [
    "#hide\n",
    "df_table = (pd.DataFrame(dict(Cases=dfc_cases, Deaths=dfc_deaths, PCases=dfp_cases, PDeaths=dfp_deaths))\n",
    "             .sort_values(by=['Cases', 'Deaths'], ascending=[False, False])\n",
    "             .reset_index())\n",
    "df_table.rename(columns={'index': 'Country/Region'}, inplace=True)\n",
    "for c in 'Cases, Deaths'.split(', '):\n",
    "    df_table[f'{c} (+)'] = (df_table[c] - df_table[f'P{c}']).clip(0)  # DATA BUG\n",
    "df_table['Fatality Rate'] = (100 * df_table['Deaths'] / df_table['Cases']).round(1)\n",
    "df_table['Continent'] = df_table['Country/Region'].map(mapping['map.continent'])\n",
    "df_table.head(5)"
   ]
  },
  {
   "cell_type": "code",
   "execution_count": 16,
   "id": "fewer-occasion",
   "metadata": {
    "execution": {
     "iopub.execute_input": "2021-10-16T12:11:21.386290Z",
     "iopub.status.busy": "2021-10-16T12:11:21.385521Z",
     "iopub.status.idle": "2021-10-16T12:11:21.387981Z",
     "shell.execute_reply": "2021-10-16T12:11:21.388613Z"
    },
    "papermill": {
     "duration": 0.042046,
     "end_time": "2021-10-16T12:11:21.388849",
     "exception": false,
     "start_time": "2021-10-16T12:11:21.346803",
     "status": "completed"
    },
    "tags": []
   },
   "outputs": [],
   "source": [
    "#hide\n",
    "#delete problematic countries from table\n",
    "df_table = df_table[~df_table['Country/Region'].isin(['Cape Verde', 'Cruise Ship', 'Kosovo'])]"
   ]
  },
  {
   "cell_type": "code",
   "execution_count": 17,
   "id": "related-center",
   "metadata": {
    "execution": {
     "iopub.execute_input": "2021-10-16T12:11:21.477109Z",
     "iopub.status.busy": "2021-10-16T12:11:21.476564Z",
     "iopub.status.idle": "2021-10-16T12:11:21.479088Z",
     "shell.execute_reply": "2021-10-16T12:11:21.479580Z"
    },
    "papermill": {
     "duration": 0.057438,
     "end_time": "2021-10-16T12:11:21.479771",
     "exception": false,
     "start_time": "2021-10-16T12:11:21.422333",
     "status": "completed"
    },
    "tags": []
   },
   "outputs": [],
   "source": [
    "#hide\n",
    "metrics = [df_table.columns[index] for index in [1,2,5,6]]\n",
    "# s_china = df_table[df_table['Country/Region'].eq('China')][metrics].sum().add_prefix('China ')\n",
    "s_us = df_table[df_table['Country/Region'].eq('US')][metrics].sum().add_prefix('US ')\n",
    "s_eu = df_table[df_table['Continent'].eq('Europe')][metrics].sum().add_prefix('EU ')\n",
    "s_ind = df_table[df_table['Country/Region'].eq('India')][metrics].sum().add_prefix('India ')\n",
    "summary = {'updated': pd.to_datetime(dt_today), 'since': pd.to_datetime(dt_yday)}\n",
    "summary = {'updated': pd.to_datetime(dt_today), 'since': pd.to_datetime(dt_yday)}\n",
    "summary = {**summary, **df_table[metrics].sum(), **s_ind, **s_us, **s_eu}"
   ]
  },
  {
   "cell_type": "code",
   "execution_count": 18,
   "id": "engaging-syndrome",
   "metadata": {
    "execution": {
     "iopub.execute_input": "2021-10-16T12:11:21.560346Z",
     "iopub.status.busy": "2021-10-16T12:11:21.559727Z",
     "iopub.status.idle": "2021-10-16T12:11:21.573526Z",
     "shell.execute_reply": "2021-10-16T12:11:21.573085Z"
    },
    "papermill": {
     "duration": 0.057823,
     "end_time": "2021-10-16T12:11:21.573642",
     "exception": false,
     "start_time": "2021-10-16T12:11:21.515819",
     "status": "completed"
    },
    "tags": []
   },
   "outputs": [],
   "source": [
    "#hide\n",
    "dft_ct_new_cases = dft_cases.groupby(COL_REGION)[dt_cols].sum().diff(axis=1).fillna(0).astype(int)"
   ]
  },
  {
   "cell_type": "code",
   "execution_count": 19,
   "id": "neutral-assignment",
   "metadata": {
    "execution": {
     "iopub.execute_input": "2021-10-16T12:11:21.649876Z",
     "iopub.status.busy": "2021-10-16T12:11:21.649297Z",
     "iopub.status.idle": "2021-10-16T12:11:21.651426Z",
     "shell.execute_reply": "2021-10-16T12:11:21.650835Z"
    },
    "papermill": {
     "duration": 0.043259,
     "end_time": "2021-10-16T12:11:21.651546",
     "exception": false,
     "start_time": "2021-10-16T12:11:21.608287",
     "status": "completed"
    },
    "tags": []
   },
   "outputs": [],
   "source": [
    "#hide\n",
    "everydaycases = dft_ct_new_cases.cumsum(axis=1)"
   ]
  },
  {
   "cell_type": "code",
   "execution_count": 20,
   "id": "parliamentary-calgary",
   "metadata": {
    "execution": {
     "iopub.execute_input": "2021-10-16T12:11:21.727107Z",
     "iopub.status.busy": "2021-10-16T12:11:21.726137Z",
     "iopub.status.idle": "2021-10-16T12:11:22.387319Z",
     "shell.execute_reply": "2021-10-16T12:11:22.386778Z"
    },
    "papermill": {
     "duration": 0.699966,
     "end_time": "2021-10-16T12:11:22.387536",
     "exception": false,
     "start_time": "2021-10-16T12:11:21.687570",
     "status": "completed"
    },
    "tags": []
   },
   "outputs": [],
   "source": [
    "#hide\n",
    "import pandas as pd\n",
    "import matplotlib.pyplot as plt\n",
    "import matplotlib.ticker as ticker\n",
    "import matplotlib.animation as animation\n",
    "from IPython.display import HTML"
   ]
  },
  {
   "cell_type": "code",
   "execution_count": 21,
   "id": "lasting-extraction",
   "metadata": {
    "execution": {
     "iopub.execute_input": "2021-10-16T12:11:22.469297Z",
     "iopub.status.busy": "2021-10-16T12:11:22.468703Z",
     "iopub.status.idle": "2021-10-16T12:11:22.477206Z",
     "shell.execute_reply": "2021-10-16T12:11:22.476706Z"
    },
    "papermill": {
     "duration": 0.052686,
     "end_time": "2021-10-16T12:11:22.477330",
     "exception": false,
     "start_time": "2021-10-16T12:11:22.424644",
     "status": "completed"
    },
    "tags": []
   },
   "outputs": [],
   "source": [
    "#hide\n",
    "t = everydaycases.stack()"
   ]
  },
  {
   "cell_type": "code",
   "execution_count": 22,
   "id": "premier-sleeve",
   "metadata": {
    "execution": {
     "iopub.execute_input": "2021-10-16T12:11:22.551813Z",
     "iopub.status.busy": "2021-10-16T12:11:22.551230Z",
     "iopub.status.idle": "2021-10-16T12:11:22.561378Z",
     "shell.execute_reply": "2021-10-16T12:11:22.560791Z"
    },
    "papermill": {
     "duration": 0.048074,
     "end_time": "2021-10-16T12:11:22.561506",
     "exception": false,
     "start_time": "2021-10-16T12:11:22.513432",
     "status": "completed"
    },
    "tags": []
   },
   "outputs": [],
   "source": [
    "#hide\n",
    "g = t.reset_index(['Country/Region'])"
   ]
  },
  {
   "cell_type": "code",
   "execution_count": 23,
   "id": "distributed-pittsburgh",
   "metadata": {
    "execution": {
     "iopub.execute_input": "2021-10-16T12:11:22.639511Z",
     "iopub.status.busy": "2021-10-16T12:11:22.638676Z",
     "iopub.status.idle": "2021-10-16T12:11:22.641248Z",
     "shell.execute_reply": "2021-10-16T12:11:22.641791Z"
    },
    "papermill": {
     "duration": 0.045565,
     "end_time": "2021-10-16T12:11:22.641928",
     "exception": false,
     "start_time": "2021-10-16T12:11:22.596363",
     "status": "completed"
    },
    "tags": []
   },
   "outputs": [],
   "source": [
    "#hide\n",
    "g.index.name = 'date'"
   ]
  },
  {
   "cell_type": "code",
   "execution_count": 24,
   "id": "naked-donor",
   "metadata": {
    "execution": {
     "iopub.execute_input": "2021-10-16T12:11:22.721132Z",
     "iopub.status.busy": "2021-10-16T12:11:22.720583Z",
     "iopub.status.idle": "2021-10-16T12:11:22.722985Z",
     "shell.execute_reply": "2021-10-16T12:11:22.723556Z"
    },
    "papermill": {
     "duration": 0.04419,
     "end_time": "2021-10-16T12:11:22.723681",
     "exception": false,
     "start_time": "2021-10-16T12:11:22.679491",
     "status": "completed"
    },
    "tags": []
   },
   "outputs": [],
   "source": [
    "# #hide\n",
    "# g = g.reset_index(['date'])"
   ]
  },
  {
   "cell_type": "code",
   "execution_count": 25,
   "id": "incomplete-mustang",
   "metadata": {
    "execution": {
     "iopub.execute_input": "2021-10-16T12:11:22.800829Z",
     "iopub.status.busy": "2021-10-16T12:11:22.800271Z",
     "iopub.status.idle": "2021-10-16T12:11:22.802642Z",
     "shell.execute_reply": "2021-10-16T12:11:22.802077Z"
    },
    "papermill": {
     "duration": 0.046369,
     "end_time": "2021-10-16T12:11:22.802765",
     "exception": false,
     "start_time": "2021-10-16T12:11:22.756396",
     "status": "completed"
    },
    "tags": []
   },
   "outputs": [],
   "source": [
    "#hide\n",
    "# g.head()"
   ]
  },
  {
   "cell_type": "code",
   "execution_count": 26,
   "id": "specific-kruger",
   "metadata": {
    "execution": {
     "iopub.execute_input": "2021-10-16T12:11:22.879125Z",
     "iopub.status.busy": "2021-10-16T12:11:22.878156Z",
     "iopub.status.idle": "2021-10-16T12:11:22.880900Z",
     "shell.execute_reply": "2021-10-16T12:11:22.880318Z"
    },
    "papermill": {
     "duration": 0.046102,
     "end_time": "2021-10-16T12:11:22.881021",
     "exception": false,
     "start_time": "2021-10-16T12:11:22.834919",
     "status": "completed"
    },
    "tags": []
   },
   "outputs": [],
   "source": [
    "#hide\n",
    "# g.columns = ['date','country','cases']"
   ]
  },
  {
   "cell_type": "code",
   "execution_count": 27,
   "id": "tender-conversion",
   "metadata": {
    "execution": {
     "iopub.execute_input": "2021-10-16T12:11:22.963504Z",
     "iopub.status.busy": "2021-10-16T12:11:22.962874Z",
     "iopub.status.idle": "2021-10-16T12:11:22.964139Z",
     "shell.execute_reply": "2021-10-16T12:11:22.964759Z"
    },
    "papermill": {
     "duration": 0.043529,
     "end_time": "2021-10-16T12:11:22.964917",
     "exception": false,
     "start_time": "2021-10-16T12:11:22.921388",
     "status": "completed"
    },
    "tags": []
   },
   "outputs": [],
   "source": [
    "#hide\n",
    "# g['continent'] = g.country"
   ]
  },
  {
   "cell_type": "code",
   "execution_count": 28,
   "id": "substantial-wilderness",
   "metadata": {
    "execution": {
     "iopub.execute_input": "2021-10-16T12:11:23.048275Z",
     "iopub.status.busy": "2021-10-16T12:11:23.047628Z",
     "iopub.status.idle": "2021-10-16T12:11:23.050299Z",
     "shell.execute_reply": "2021-10-16T12:11:23.049516Z"
    },
    "papermill": {
     "duration": 0.044856,
     "end_time": "2021-10-16T12:11:23.050445",
     "exception": false,
     "start_time": "2021-10-16T12:11:23.005589",
     "status": "completed"
    },
    "tags": []
   },
   "outputs": [],
   "source": [
    "#hide\n",
    "# cols = list(g.columns.values)"
   ]
  },
  {
   "cell_type": "code",
   "execution_count": 29,
   "id": "solved-farming",
   "metadata": {
    "execution": {
     "iopub.execute_input": "2021-10-16T12:11:23.131512Z",
     "iopub.status.busy": "2021-10-16T12:11:23.130774Z",
     "iopub.status.idle": "2021-10-16T12:11:23.133652Z",
     "shell.execute_reply": "2021-10-16T12:11:23.133042Z"
    },
    "papermill": {
     "duration": 0.044119,
     "end_time": "2021-10-16T12:11:23.133787",
     "exception": false,
     "start_time": "2021-10-16T12:11:23.089668",
     "status": "completed"
    },
    "tags": []
   },
   "outputs": [],
   "source": [
    "#hide\n",
    "# cols.insert(0, cols.pop())"
   ]
  },
  {
   "cell_type": "code",
   "execution_count": 30,
   "id": "executed-adoption",
   "metadata": {
    "execution": {
     "iopub.execute_input": "2021-10-16T12:11:23.223672Z",
     "iopub.status.busy": "2021-10-16T12:11:23.222929Z",
     "iopub.status.idle": "2021-10-16T12:11:23.224464Z",
     "shell.execute_reply": "2021-10-16T12:11:23.225002Z"
    },
    "papermill": {
     "duration": 0.045298,
     "end_time": "2021-10-16T12:11:23.225135",
     "exception": false,
     "start_time": "2021-10-16T12:11:23.179837",
     "status": "completed"
    },
    "tags": []
   },
   "outputs": [],
   "source": [
    "#hide\n",
    "# g = g[cols]"
   ]
  },
  {
   "cell_type": "code",
   "execution_count": 31,
   "id": "subject-dublin",
   "metadata": {
    "execution": {
     "iopub.execute_input": "2021-10-16T12:11:23.301538Z",
     "iopub.status.busy": "2021-10-16T12:11:23.300909Z",
     "iopub.status.idle": "2021-10-16T12:11:23.303023Z",
     "shell.execute_reply": "2021-10-16T12:11:23.302556Z"
    },
    "papermill": {
     "duration": 0.041949,
     "end_time": "2021-10-16T12:11:23.303137",
     "exception": false,
     "start_time": "2021-10-16T12:11:23.261188",
     "status": "completed"
    },
    "tags": []
   },
   "outputs": [],
   "source": [
    "#hide\n",
    "# g['continent'] = g['continent'].map(mapping['map.continent'])"
   ]
  },
  {
   "cell_type": "code",
   "execution_count": 32,
   "id": "freelance-scout",
   "metadata": {
    "execution": {
     "iopub.execute_input": "2021-10-16T12:11:23.375152Z",
     "iopub.status.busy": "2021-10-16T12:11:23.374604Z",
     "iopub.status.idle": "2021-10-16T12:11:23.375917Z",
     "shell.execute_reply": "2021-10-16T12:11:23.376444Z"
    },
    "papermill": {
     "duration": 0.03927,
     "end_time": "2021-10-16T12:11:23.376571",
     "exception": false,
     "start_time": "2021-10-16T12:11:23.337301",
     "status": "completed"
    },
    "tags": []
   },
   "outputs": [],
   "source": [
    "#hide\n",
    "# g.head()"
   ]
  },
  {
   "cell_type": "code",
   "execution_count": 33,
   "id": "limited-engine",
   "metadata": {
    "execution": {
     "iopub.execute_input": "2021-10-16T12:11:23.446047Z",
     "iopub.status.busy": "2021-10-16T12:11:23.445370Z",
     "iopub.status.idle": "2021-10-16T12:11:23.448257Z",
     "shell.execute_reply": "2021-10-16T12:11:23.447789Z"
    },
    "papermill": {
     "duration": 0.038549,
     "end_time": "2021-10-16T12:11:23.448362",
     "exception": false,
     "start_time": "2021-10-16T12:11:23.409813",
     "status": "completed"
    },
    "tags": []
   },
   "outputs": [],
   "source": [
    "# hide\n",
    "# g['date'] = g['date'].astype('datetime64[ns]')"
   ]
  },
  {
   "cell_type": "code",
   "execution_count": 34,
   "id": "sophisticated-supervisor",
   "metadata": {
    "execution": {
     "iopub.execute_input": "2021-10-16T12:11:23.521305Z",
     "iopub.status.busy": "2021-10-16T12:11:23.520605Z",
     "iopub.status.idle": "2021-10-16T12:11:23.523182Z",
     "shell.execute_reply": "2021-10-16T12:11:23.522658Z"
    },
    "papermill": {
     "duration": 0.039013,
     "end_time": "2021-10-16T12:11:23.523311",
     "exception": false,
     "start_time": "2021-10-16T12:11:23.484298",
     "status": "completed"
    },
    "tags": []
   },
   "outputs": [],
   "source": [
    "#hide\n",
    "# g['date'] = g.date.dt.dayofyear"
   ]
  },
  {
   "cell_type": "code",
   "execution_count": 35,
   "id": "inside-dubai",
   "metadata": {
    "execution": {
     "iopub.execute_input": "2021-10-16T12:11:23.604424Z",
     "iopub.status.busy": "2021-10-16T12:11:23.603775Z",
     "iopub.status.idle": "2021-10-16T12:11:23.606414Z",
     "shell.execute_reply": "2021-10-16T12:11:23.605734Z"
    },
    "papermill": {
     "duration": 0.044841,
     "end_time": "2021-10-16T12:11:23.606641",
     "exception": false,
     "start_time": "2021-10-16T12:11:23.561800",
     "status": "completed"
    },
    "tags": []
   },
   "outputs": [],
   "source": [
    "#hide\n",
    "# g = g.rename(columns= {'continent':'group','country':'name','cases':'value'})"
   ]
  },
  {
   "cell_type": "code",
   "execution_count": 36,
   "id": "fleet-motorcycle",
   "metadata": {
    "execution": {
     "iopub.execute_input": "2021-10-16T12:11:23.689889Z",
     "iopub.status.busy": "2021-10-16T12:11:23.689329Z",
     "iopub.status.idle": "2021-10-16T12:11:23.691626Z",
     "shell.execute_reply": "2021-10-16T12:11:23.691032Z"
    },
    "papermill": {
     "duration": 0.046465,
     "end_time": "2021-10-16T12:11:23.691830",
     "exception": false,
     "start_time": "2021-10-16T12:11:23.645365",
     "status": "completed"
    },
    "tags": []
   },
   "outputs": [],
   "source": [
    "#hide\n",
    "# cols = ['name','group','day','value']"
   ]
  },
  {
   "cell_type": "code",
   "execution_count": 37,
   "id": "continued-sleeping",
   "metadata": {
    "execution": {
     "iopub.execute_input": "2021-10-16T12:11:23.770739Z",
     "iopub.status.busy": "2021-10-16T12:11:23.769939Z",
     "iopub.status.idle": "2021-10-16T12:11:23.771760Z",
     "shell.execute_reply": "2021-10-16T12:11:23.772386Z"
    },
    "papermill": {
     "duration": 0.04664,
     "end_time": "2021-10-16T12:11:23.772526",
     "exception": false,
     "start_time": "2021-10-16T12:11:23.725886",
     "status": "completed"
    },
    "tags": []
   },
   "outputs": [],
   "source": [
    "#hide\n",
    "# g.rename(columns= {'date':'day'},inplace = True)"
   ]
  },
  {
   "cell_type": "code",
   "execution_count": 38,
   "id": "major-fight",
   "metadata": {
    "execution": {
     "iopub.execute_input": "2021-10-16T12:11:23.850212Z",
     "iopub.status.busy": "2021-10-16T12:11:23.849480Z",
     "iopub.status.idle": "2021-10-16T12:11:23.850838Z",
     "shell.execute_reply": "2021-10-16T12:11:23.851546Z"
    },
    "papermill": {
     "duration": 0.042346,
     "end_time": "2021-10-16T12:11:23.851785",
     "exception": false,
     "start_time": "2021-10-16T12:11:23.809439",
     "status": "completed"
    },
    "tags": []
   },
   "outputs": [],
   "source": [
    "#hide\n",
    "# g = g[cols]"
   ]
  },
  {
   "cell_type": "code",
   "execution_count": 39,
   "id": "structured-mobile",
   "metadata": {
    "execution": {
     "iopub.execute_input": "2021-10-16T12:11:23.932791Z",
     "iopub.status.busy": "2021-10-16T12:11:23.931935Z",
     "iopub.status.idle": "2021-10-16T12:11:23.934633Z",
     "shell.execute_reply": "2021-10-16T12:11:23.934075Z"
    },
    "papermill": {
     "duration": 0.04628,
     "end_time": "2021-10-16T12:11:23.934785",
     "exception": false,
     "start_time": "2021-10-16T12:11:23.888505",
     "status": "completed"
    },
    "tags": []
   },
   "outputs": [],
   "source": [
    "# #hide\n",
    "# g = g[g.group.notna()]"
   ]
  },
  {
   "cell_type": "code",
   "execution_count": 40,
   "id": "determined-closing",
   "metadata": {
    "execution": {
     "iopub.execute_input": "2021-10-16T12:11:24.016872Z",
     "iopub.status.busy": "2021-10-16T12:11:24.016192Z",
     "iopub.status.idle": "2021-10-16T12:11:24.018885Z",
     "shell.execute_reply": "2021-10-16T12:11:24.018301Z"
    },
    "papermill": {
     "duration": 0.043787,
     "end_time": "2021-10-16T12:11:24.019049",
     "exception": false,
     "start_time": "2021-10-16T12:11:23.975262",
     "status": "completed"
    },
    "tags": []
   },
   "outputs": [],
   "source": [
    "# #hide\n",
    "# colors = dict(zip(\n",
    "#     [\"Oceania\", \"Europe\", \"Asia\", \"South America\", \"Middle East\", \"North America\", \"Africa\"],\n",
    "#     [\"#adb0ff\", \"#ffb3ff\", \"#90d595\", \"#e48381\", \"#aafbff\", \"#f7bb5f\", \"#eafb50\"]\n",
    "# ))\n",
    "# group_lk = g.set_index('name')['group'].to_dict()"
   ]
  },
  {
   "cell_type": "code",
   "execution_count": null,
   "id": "gross-drinking",
   "metadata": {
    "papermill": {
     "duration": 0.036995,
     "end_time": "2021-10-16T12:11:24.094141",
     "exception": false,
     "start_time": "2021-10-16T12:11:24.057146",
     "status": "completed"
    },
    "tags": []
   },
   "outputs": [],
   "source": []
  },
  {
   "cell_type": "code",
   "execution_count": 41,
   "id": "subject-macintosh",
   "metadata": {
    "execution": {
     "iopub.execute_input": "2021-10-16T12:11:24.171799Z",
     "iopub.status.busy": "2021-10-16T12:11:24.170478Z",
     "iopub.status.idle": "2021-10-16T12:11:24.173786Z",
     "shell.execute_reply": "2021-10-16T12:11:24.174510Z"
    },
    "papermill": {
     "duration": 0.044359,
     "end_time": "2021-10-16T12:11:24.174656",
     "exception": false,
     "start_time": "2021-10-16T12:11:24.130297",
     "status": "completed"
    },
    "tags": []
   },
   "outputs": [],
   "source": [
    "# #hide\n",
    "# fig, ax = plt.subplots(figsize=(15, 8))\n",
    "\n",
    "# def draw_barchart(current_day):\n",
    "#     dff = g[g['day'].eq(current_day)].sort_values(by='value', ascending=True).tail(10)\n",
    "#     ax.clear()\n",
    "#     ax.barh(dff['name'], dff['value'], color=[colors[group_lk[x]] for x in dff['name']])\n",
    "#     dx = dff['value'].max() / 200\n",
    "    \n",
    "#     for i, (value, name) in enumerate(zip(dff['value'], dff['name'])):\n",
    "#         ax.text(value-dx, i,     name,           size=14, weight=600, ha='right', va='bottom')\n",
    "#         ax.text(value-dx, i-.25, group_lk[name], size=10, color='#444444', ha='right', va='baseline')\n",
    "#         ax.text(value+dx, i,     f'{value:,.0f}',  size=14, ha='left',  va='center')\n",
    "#     ax.text(1, 0.4, current_day, transform=ax.transAxes, color='#777777', size=46, ha='right', weight=800)\n",
    "#     ax.text(0, 1.06, 'Population (thousands)', transform=ax.transAxes, size=12, color='#777777')\n",
    "#     ax.xaxis.set_major_formatter(ticker.StrMethodFormatter('{x:,.0f}'))\n",
    "#     ax.xaxis.set_ticks_position('top')\n",
    "#     ax.tick_params(axis='x', colors='#777777', labelsize=12)\n",
    "#     ax.set_yticks([])\n",
    "#     ax.margins(0, 0.01)\n",
    "#     ax.grid(which='major', axis='x', linestyle='-')\n",
    "#     ax.set_axisbelow(True)\n",
    "    \n",
    "#     ax.text(0, 1.15, 'Coronavirus',\n",
    "#             transform=ax.transAxes, size=24, weight=600, ha='left', va='top')\n",
    "# #     ax.text(1, 0, 'by @pratapvardhan; credit @jburnmurdoch', transform=ax.transAxes, color='#777777', ha='right',\n",
    "# #             bbox=dict(facecolor='white', alpha=0.8, edgecolor='white'))\n",
    "#     plt.box(False)"
   ]
  },
  {
   "cell_type": "code",
   "execution_count": 42,
   "id": "sexual-wages",
   "metadata": {
    "execution": {
     "iopub.execute_input": "2021-10-16T12:11:24.248128Z",
     "iopub.status.busy": "2021-10-16T12:11:24.247528Z",
     "iopub.status.idle": "2021-10-16T12:11:24.249813Z",
     "shell.execute_reply": "2021-10-16T12:11:24.249329Z"
    },
    "papermill": {
     "duration": 0.040891,
     "end_time": "2021-10-16T12:11:24.249923",
     "exception": false,
     "start_time": "2021-10-16T12:11:24.209032",
     "status": "completed"
    },
    "tags": []
   },
   "outputs": [],
   "source": [
    "# #hide_input\n",
    "# fig, ax = plt.subplots(figsize=(15, 8))\n",
    "# animator = animation.FuncAnimation(fig, draw_barchart, frames=range(g.day.values.min(), g.day.values.max()))\n",
    "# HTML(animator.to_jshtml())\n",
    "# # or use animator.to_html5_video() or animator.save() "
   ]
  },
  {
   "cell_type": "code",
   "execution_count": null,
   "id": "australian-container",
   "metadata": {
    "papermill": {
     "duration": 0.032784,
     "end_time": "2021-10-16T12:11:24.319212",
     "exception": false,
     "start_time": "2021-10-16T12:11:24.286428",
     "status": "completed"
    },
    "tags": []
   },
   "outputs": [],
   "source": []
  },
  {
   "cell_type": "code",
   "execution_count": null,
   "id": "mediterranean-pontiac",
   "metadata": {
    "papermill": {
     "duration": 0.035569,
     "end_time": "2021-10-16T12:11:24.387993",
     "exception": false,
     "start_time": "2021-10-16T12:11:24.352424",
     "status": "completed"
    },
    "tags": []
   },
   "outputs": [],
   "source": []
  },
  {
   "cell_type": "code",
   "execution_count": null,
   "id": "aging-legislature",
   "metadata": {
    "papermill": {
     "duration": 0.035719,
     "end_time": "2021-10-16T12:11:24.459171",
     "exception": false,
     "start_time": "2021-10-16T12:11:24.423452",
     "status": "completed"
    },
    "tags": []
   },
   "outputs": [],
   "source": []
  }
 ],
 "metadata": {
  "kernelspec": {
   "display_name": "Python 3",
   "language": "python",
   "name": "python3"
  },
  "language_info": {
   "codemirror_mode": {
    "name": "ipython",
    "version": 3
   },
   "file_extension": ".py",
   "mimetype": "text/x-python",
   "name": "python",
   "nbconvert_exporter": "python",
   "pygments_lexer": "ipython3",
   "version": "3.6.15"
  },
  "papermill": {
   "duration": 6.772181,
   "end_time": "2021-10-16T12:11:24.803811",
   "environment_variables": {},
   "exception": null,
   "input_path": "2020-03-21-covid19exp.ipynb",
   "output_path": "2020-03-21-covid19exp.ipynb",
   "parameters": {},
   "start_time": "2021-10-16T12:11:18.031630",
   "version": "2.0.0"
  }
 },
 "nbformat": 4,
 "nbformat_minor": 5
}