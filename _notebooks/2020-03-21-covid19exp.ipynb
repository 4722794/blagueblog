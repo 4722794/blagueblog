{
 "cells": [
  {
   "cell_type": "markdown",
   "id": "muslim-click",
   "metadata": {
    "papermill": {
     "duration": 0.035645,
     "end_time": "2022-08-08T12:16:23.652796",
     "exception": false,
     "start_time": "2022-08-08T12:16:23.617151",
     "status": "completed"
    },
    "tags": []
   },
   "source": [
    "# COVID-19 Case Race\n",
    "> A race chart to see rising cases around the world\n",
    "\n",
    "- author: Hargun Oberoi\n",
    "- image: images/covid-overview.png\n",
    "- hide: false\n",
    "- badges: false"
   ]
  },
  {
   "cell_type": "code",
   "execution_count": 1,
   "id": "proof-material",
   "metadata": {
    "execution": {
     "iopub.execute_input": "2022-08-08T12:16:23.722571Z",
     "iopub.status.busy": "2022-08-08T12:16:23.721925Z",
     "iopub.status.idle": "2022-08-08T12:16:24.058383Z",
     "shell.execute_reply": "2022-08-08T12:16:24.057759Z"
    },
    "papermill": {
     "duration": 0.375642,
     "end_time": "2022-08-08T12:16:24.058540",
     "exception": false,
     "start_time": "2022-08-08T12:16:23.682898",
     "status": "completed"
    },
    "tags": []
   },
   "outputs": [],
   "source": [
    "#hide\n",
    "import numpy as np\n",
    "import pandas as pd\n",
    "from jinja2 import Template\n",
    "from IPython.display import HTML"
   ]
  },
  {
   "cell_type": "code",
   "execution_count": 2,
   "id": "developed-terminology",
   "metadata": {
    "execution": {
     "iopub.execute_input": "2022-08-08T12:16:24.122844Z",
     "iopub.status.busy": "2022-08-08T12:16:24.122246Z",
     "iopub.status.idle": "2022-08-08T12:16:24.125128Z",
     "shell.execute_reply": "2022-08-08T12:16:24.124630Z"
    },
    "papermill": {
     "duration": 0.036761,
     "end_time": "2022-08-08T12:16:24.125245",
     "exception": false,
     "start_time": "2022-08-08T12:16:24.088484",
     "status": "completed"
    },
    "tags": []
   },
   "outputs": [],
   "source": [
    "#hide\n",
    "\n",
    "# FETCH\n",
    "base_url = 'https://raw.githubusercontent.com/pratapvardhan/notebooks/master/covid19/'\n",
    "paths = {\n",
    "    'mapping': base_url + 'mapping_countries.csv',\n",
    "    'overview': base_url + 'overview.tpl'\n",
    "}"
   ]
  },
  {
   "cell_type": "code",
   "execution_count": 3,
   "id": "dynamic-saver",
   "metadata": {
    "execution": {
     "iopub.execute_input": "2022-08-08T12:16:24.194805Z",
     "iopub.status.busy": "2022-08-08T12:16:24.194176Z",
     "iopub.status.idle": "2022-08-08T12:16:24.197474Z",
     "shell.execute_reply": "2022-08-08T12:16:24.196990Z"
    },
    "papermill": {
     "duration": 0.043148,
     "end_time": "2022-08-08T12:16:24.197605",
     "exception": false,
     "start_time": "2022-08-08T12:16:24.154457",
     "status": "completed"
    },
    "tags": []
   },
   "outputs": [
    {
     "data": {
      "text/plain": [
       "'https://raw.githubusercontent.com/pratapvardhan/notebooks/master/covid19/mapping_countries.csv'"
      ]
     },
     "execution_count": 3,
     "metadata": {},
     "output_type": "execute_result"
    }
   ],
   "source": [
    "#hide\n",
    "paths['mapping']"
   ]
  },
  {
   "cell_type": "code",
   "execution_count": 4,
   "id": "urban-software",
   "metadata": {
    "execution": {
     "iopub.execute_input": "2022-08-08T12:16:24.263345Z",
     "iopub.status.busy": "2022-08-08T12:16:24.262750Z",
     "iopub.status.idle": "2022-08-08T12:16:24.265378Z",
     "shell.execute_reply": "2022-08-08T12:16:24.264903Z"
    },
    "papermill": {
     "duration": 0.038016,
     "end_time": "2022-08-08T12:16:24.265486",
     "exception": false,
     "start_time": "2022-08-08T12:16:24.227470",
     "status": "completed"
    },
    "tags": []
   },
   "outputs": [],
   "source": [
    "#hide\n",
    "def get_mappings(url):\n",
    "    df = pd.read_csv(url)\n",
    "    return {\n",
    "        'df': df,\n",
    "        'replace.country': dict(df.dropna(subset=['Name']).set_index('Country')['Name']),\n",
    "        'map.continent': dict(df.set_index('Name')['Continent'])\n",
    "    }"
   ]
  },
  {
   "cell_type": "code",
   "execution_count": 5,
   "id": "intimate-machinery",
   "metadata": {
    "execution": {
     "iopub.execute_input": "2022-08-08T12:16:24.330720Z",
     "iopub.status.busy": "2022-08-08T12:16:24.330116Z",
     "iopub.status.idle": "2022-08-08T12:16:24.355161Z",
     "shell.execute_reply": "2022-08-08T12:16:24.354604Z"
    },
    "papermill": {
     "duration": 0.059984,
     "end_time": "2022-08-08T12:16:24.355297",
     "exception": false,
     "start_time": "2022-08-08T12:16:24.295313",
     "status": "completed"
    },
    "tags": []
   },
   "outputs": [],
   "source": [
    "#hide\n",
    "mapping = get_mappings(paths['mapping'])"
   ]
  },
  {
   "cell_type": "code",
   "execution_count": 6,
   "id": "certified-tactics",
   "metadata": {
    "execution": {
     "iopub.execute_input": "2022-08-08T12:16:24.420302Z",
     "iopub.status.busy": "2022-08-08T12:16:24.419689Z",
     "iopub.status.idle": "2022-08-08T12:16:24.422345Z",
     "shell.execute_reply": "2022-08-08T12:16:24.421859Z"
    },
    "papermill": {
     "duration": 0.03724,
     "end_time": "2022-08-08T12:16:24.422458",
     "exception": false,
     "start_time": "2022-08-08T12:16:24.385218",
     "status": "completed"
    },
    "tags": []
   },
   "outputs": [],
   "source": [
    "#hide\n",
    "def get_template(path):\n",
    "    from urllib.parse import urlparse\n",
    "    if bool(urlparse(path).netloc):\n",
    "        from urllib.request import urlopen\n",
    "        return urlopen(path).read().decode('utf8')\n",
    "    return open(path).read()"
   ]
  },
  {
   "cell_type": "code",
   "execution_count": 7,
   "id": "realistic-blast",
   "metadata": {
    "execution": {
     "iopub.execute_input": "2022-08-08T12:16:24.486722Z",
     "iopub.status.busy": "2022-08-08T12:16:24.486131Z",
     "iopub.status.idle": "2022-08-08T12:16:24.488656Z",
     "shell.execute_reply": "2022-08-08T12:16:24.489138Z"
    },
    "papermill": {
     "duration": 0.037298,
     "end_time": "2022-08-08T12:16:24.489269",
     "exception": false,
     "start_time": "2022-08-08T12:16:24.451971",
     "status": "completed"
    },
    "tags": []
   },
   "outputs": [],
   "source": [
    "#hide\n",
    "def get_frame(name):\n",
    "    url = (\n",
    "        'https://raw.githubusercontent.com/CSSEGISandData/COVID-19/master/csse_covid_19_data/'\n",
    "        f'csse_covid_19_time_series/time_series_covid19_{name}_global.csv')\n",
    "    df = pd.read_csv(url)\n",
    "    # rename countries\n",
    "    df['Country/Region'] = df['Country/Region'].replace(mapping['replace.country'])\n",
    "    return df"
   ]
  },
  {
   "cell_type": "code",
   "execution_count": 8,
   "id": "affiliated-characterization",
   "metadata": {
    "execution": {
     "iopub.execute_input": "2022-08-08T12:16:24.555223Z",
     "iopub.status.busy": "2022-08-08T12:16:24.554623Z",
     "iopub.status.idle": "2022-08-08T12:16:24.556856Z",
     "shell.execute_reply": "2022-08-08T12:16:24.557415Z"
    },
    "papermill": {
     "duration": 0.038401,
     "end_time": "2022-08-08T12:16:24.557546",
     "exception": false,
     "start_time": "2022-08-08T12:16:24.519145",
     "status": "completed"
    },
    "tags": []
   },
   "outputs": [],
   "source": [
    "#hide\n",
    "def get_dates(df):\n",
    "    dt_cols = df.columns[~df.columns.isin(['Province/State', 'Country/Region', 'Lat', 'Long'])]\n",
    "    LAST_DATE_I = -1\n",
    "    # sometimes last column may be empty, then go backwards\n",
    "    for i in range(-1, -len(dt_cols), -1):\n",
    "        if not df[dt_cols[i]].fillna(0).eq(0).all():\n",
    "            LAST_DATE_I = i\n",
    "            break\n",
    "    return LAST_DATE_I, dt_cols"
   ]
  },
  {
   "cell_type": "code",
   "execution_count": 9,
   "id": "recent-optimization",
   "metadata": {
    "execution": {
     "iopub.execute_input": "2022-08-08T12:16:24.622116Z",
     "iopub.status.busy": "2022-08-08T12:16:24.621477Z",
     "iopub.status.idle": "2022-08-08T12:16:24.994971Z",
     "shell.execute_reply": "2022-08-08T12:16:24.994406Z"
    },
    "papermill": {
     "duration": 0.408289,
     "end_time": "2022-08-08T12:16:24.995111",
     "exception": false,
     "start_time": "2022-08-08T12:16:24.586822",
     "status": "completed"
    },
    "tags": []
   },
   "outputs": [],
   "source": [
    "#hide\n",
    "COL_REGION = 'Country/Region'\n",
    "# Confirmed, Recovered, Deaths\n",
    "df = get_frame('confirmed')\n",
    "# dft_: timeseries, dfc_: today country agg\n",
    "dft_cases = df\n",
    "dft_deaths = get_frame('deaths')\n",
    "dft_recovered = get_frame('recovered')\n",
    "LAST_DATE_I, dt_cols = get_dates(df)"
   ]
  },
  {
   "cell_type": "code",
   "execution_count": 10,
   "id": "absolute-copper",
   "metadata": {
    "execution": {
     "iopub.execute_input": "2022-08-08T12:16:25.061042Z",
     "iopub.status.busy": "2022-08-08T12:16:25.060423Z",
     "iopub.status.idle": "2022-08-08T12:16:25.063084Z",
     "shell.execute_reply": "2022-08-08T12:16:25.062631Z"
    },
    "papermill": {
     "duration": 0.037955,
     "end_time": "2022-08-08T12:16:25.063201",
     "exception": false,
     "start_time": "2022-08-08T12:16:25.025246",
     "status": "completed"
    },
    "tags": []
   },
   "outputs": [],
   "source": [
    "#hide\n",
    "LAST_DATE_I, dt_cols = get_dates(df)\n",
    "dt_today =dt_cols[LAST_DATE_I]\n",
    "# dt_5day = dt_cols[LAST_DATE_I - 5]\n",
    "dt_yday = dt_cols[LAST_DATE_I - 1]"
   ]
  },
  {
   "cell_type": "code",
   "execution_count": 11,
   "id": "restricted-sheriff",
   "metadata": {
    "execution": {
     "iopub.execute_input": "2022-08-08T12:16:25.127980Z",
     "iopub.status.busy": "2022-08-08T12:16:25.127381Z",
     "iopub.status.idle": "2022-08-08T12:16:25.135412Z",
     "shell.execute_reply": "2022-08-08T12:16:25.135898Z"
    },
    "papermill": {
     "duration": 0.043389,
     "end_time": "2022-08-08T12:16:25.136036",
     "exception": false,
     "start_time": "2022-08-08T12:16:25.092647",
     "status": "completed"
    },
    "tags": []
   },
   "outputs": [],
   "source": [
    "#hide\n",
    "dfc_cases = dft_cases.groupby(COL_REGION)[dt_today].sum()\n",
    "dfc_deaths = dft_deaths.groupby(COL_REGION)[dt_today].sum()\n",
    "# dfp_cases = dft_cases.groupby(COL_REGION)[dt_5day].sum()\n",
    "# dfp_deaths = dft_deaths.groupby(COL_REGION)[dt_5day].sum()\n",
    "dfp_cases = dft_cases.groupby(COL_REGION)[dt_yday].sum()\n",
    "dfp_deaths = dft_deaths.groupby(COL_REGION)[dt_yday].sum()"
   ]
  },
  {
   "cell_type": "code",
   "execution_count": 12,
   "id": "deluxe-hepatitis",
   "metadata": {
    "execution": {
     "iopub.execute_input": "2022-08-08T12:16:25.201168Z",
     "iopub.status.busy": "2022-08-08T12:16:25.200582Z",
     "iopub.status.idle": "2022-08-08T12:16:25.205731Z",
     "shell.execute_reply": "2022-08-08T12:16:25.206288Z"
    },
    "papermill": {
     "duration": 0.040676,
     "end_time": "2022-08-08T12:16:25.206421",
     "exception": false,
     "start_time": "2022-08-08T12:16:25.165745",
     "status": "completed"
    },
    "tags": []
   },
   "outputs": [],
   "source": [
    "#hide\n",
    "df_table = (pd.DataFrame(dict(Cases = dfc_cases, Deaths = dfc_deaths, PCases = dfp_cases, PDeaths = dfp_deaths))\n",
    "            .sort_values(by = ['Cases','Deaths'], ascending = [False, False])\n",
    "            .reset_index())"
   ]
  },
  {
   "cell_type": "code",
   "execution_count": 13,
   "id": "educational-chancellor",
   "metadata": {
    "execution": {
     "iopub.execute_input": "2022-08-08T12:16:25.283737Z",
     "iopub.status.busy": "2022-08-08T12:16:25.283114Z",
     "iopub.status.idle": "2022-08-08T12:16:25.292475Z",
     "shell.execute_reply": "2022-08-08T12:16:25.292015Z"
    },
    "papermill": {
     "duration": 0.056823,
     "end_time": "2022-08-08T12:16:25.292596",
     "exception": false,
     "start_time": "2022-08-08T12:16:25.235773",
     "status": "completed"
    },
    "tags": []
   },
   "outputs": [
    {
     "data": {
      "text/html": [
       "<div>\n",
       "<style scoped>\n",
       "    .dataframe tbody tr th:only-of-type {\n",
       "        vertical-align: middle;\n",
       "    }\n",
       "\n",
       "    .dataframe tbody tr th {\n",
       "        vertical-align: top;\n",
       "    }\n",
       "\n",
       "    .dataframe thead th {\n",
       "        text-align: right;\n",
       "    }\n",
       "</style>\n",
       "<table border=\"1\" class=\"dataframe\">\n",
       "  <thead>\n",
       "    <tr style=\"text-align: right;\">\n",
       "      <th></th>\n",
       "      <th>Country/Region</th>\n",
       "      <th>Cases</th>\n",
       "      <th>Deaths</th>\n",
       "      <th>PCases</th>\n",
       "      <th>PDeaths</th>\n",
       "      <th>Cases (+)</th>\n",
       "      <th>Deaths (+)</th>\n",
       "      <th>Fatality Rate</th>\n",
       "      <th>Continent</th>\n",
       "    </tr>\n",
       "  </thead>\n",
       "  <tbody>\n",
       "    <tr>\n",
       "      <th>0</th>\n",
       "      <td>US</td>\n",
       "      <td>92112922</td>\n",
       "      <td>1033556</td>\n",
       "      <td>92102659</td>\n",
       "      <td>1034152</td>\n",
       "      <td>10263</td>\n",
       "      <td>0</td>\n",
       "      <td>1.12</td>\n",
       "      <td>North America</td>\n",
       "    </tr>\n",
       "    <tr>\n",
       "      <th>1</th>\n",
       "      <td>India</td>\n",
       "      <td>44145709</td>\n",
       "      <td>526689</td>\n",
       "      <td>44145709</td>\n",
       "      <td>526689</td>\n",
       "      <td>0</td>\n",
       "      <td>0</td>\n",
       "      <td>1.19</td>\n",
       "      <td>Asia</td>\n",
       "    </tr>\n",
       "    <tr>\n",
       "      <th>2</th>\n",
       "      <td>France</td>\n",
       "      <td>34237067</td>\n",
       "      <td>153577</td>\n",
       "      <td>34237067</td>\n",
       "      <td>153577</td>\n",
       "      <td>0</td>\n",
       "      <td>0</td>\n",
       "      <td>0.45</td>\n",
       "      <td>Europe</td>\n",
       "    </tr>\n",
       "    <tr>\n",
       "      <th>3</th>\n",
       "      <td>Brazil</td>\n",
       "      <td>34018371</td>\n",
       "      <td>679996</td>\n",
       "      <td>34011173</td>\n",
       "      <td>679939</td>\n",
       "      <td>7198</td>\n",
       "      <td>57</td>\n",
       "      <td>2.00</td>\n",
       "      <td>South America</td>\n",
       "    </tr>\n",
       "    <tr>\n",
       "      <th>4</th>\n",
       "      <td>Germany</td>\n",
       "      <td>31228322</td>\n",
       "      <td>144858</td>\n",
       "      <td>31228314</td>\n",
       "      <td>144858</td>\n",
       "      <td>8</td>\n",
       "      <td>0</td>\n",
       "      <td>0.46</td>\n",
       "      <td>Europe</td>\n",
       "    </tr>\n",
       "  </tbody>\n",
       "</table>\n",
       "</div>"
      ],
      "text/plain": [
       "  Country/Region     Cases   Deaths    PCases  PDeaths  Cases (+)  Deaths (+)  \\\n",
       "0             US  92112922  1033556  92102659  1034152      10263           0   \n",
       "1          India  44145709   526689  44145709   526689          0           0   \n",
       "2         France  34237067   153577  34237067   153577          0           0   \n",
       "3         Brazil  34018371   679996  34011173   679939       7198          57   \n",
       "4        Germany  31228322   144858  31228314   144858          8           0   \n",
       "\n",
       "   Fatality Rate      Continent  \n",
       "0           1.12  North America  \n",
       "1           1.19           Asia  \n",
       "2           0.45         Europe  \n",
       "3           2.00  South America  \n",
       "4           0.46         Europe  "
      ]
     },
     "execution_count": 13,
     "metadata": {},
     "output_type": "execute_result"
    }
   ],
   "source": [
    "#hide\n",
    "for c in 'Cases, Deaths'.split(', '):\n",
    "    df_table[f'{c} (+)'] = (df_table[c] - df_table[f'P{c}']).clip(0)\n",
    "    #Clip ça veut dire, les chiffres negatif sont interdit\n",
    "df_table['Fatality Rate'] = (100* df_table['Deaths']/ df_table['Cases']).round(2)\n",
    "df_table['Continent'] = df_table['Country/Region'].map(mapping['map.continent'])\n",
    "df_table.head(5)"
   ]
  },
  {
   "cell_type": "code",
   "execution_count": 14,
   "id": "aboriginal-bulgaria",
   "metadata": {
    "execution": {
     "iopub.execute_input": "2022-08-08T12:16:25.359661Z",
     "iopub.status.busy": "2022-08-08T12:16:25.359047Z",
     "iopub.status.idle": "2022-08-08T12:16:25.361509Z",
     "shell.execute_reply": "2022-08-08T12:16:25.361031Z"
    },
    "papermill": {
     "duration": 0.038725,
     "end_time": "2022-08-08T12:16:25.361654",
     "exception": false,
     "start_time": "2022-08-08T12:16:25.322929",
     "status": "completed"
    },
    "tags": []
   },
   "outputs": [],
   "source": [
    "#hide\n",
    "#delete problematic countries from table\n",
    "df_table = df_table[~df_table['Country/Region'].isin(['Cape Verde', 'Cruise Ship', 'Kosovo'])]"
   ]
  },
  {
   "cell_type": "code",
   "execution_count": 15,
   "id": "fantastic-effect",
   "metadata": {
    "execution": {
     "iopub.execute_input": "2022-08-08T12:16:25.430473Z",
     "iopub.status.busy": "2022-08-08T12:16:25.429854Z",
     "iopub.status.idle": "2022-08-08T12:16:25.447765Z",
     "shell.execute_reply": "2022-08-08T12:16:25.447186Z"
    },
    "papermill": {
     "duration": 0.056253,
     "end_time": "2022-08-08T12:16:25.447883",
     "exception": false,
     "start_time": "2022-08-08T12:16:25.391630",
     "status": "completed"
    },
    "tags": []
   },
   "outputs": [
    {
     "data": {
      "text/html": [
       "<div>\n",
       "<style scoped>\n",
       "    .dataframe tbody tr th:only-of-type {\n",
       "        vertical-align: middle;\n",
       "    }\n",
       "\n",
       "    .dataframe tbody tr th {\n",
       "        vertical-align: top;\n",
       "    }\n",
       "\n",
       "    .dataframe thead th {\n",
       "        text-align: right;\n",
       "    }\n",
       "</style>\n",
       "<table border=\"1\" class=\"dataframe\">\n",
       "  <thead>\n",
       "    <tr style=\"text-align: right;\">\n",
       "      <th></th>\n",
       "      <th>Country/Region</th>\n",
       "      <th>Cases</th>\n",
       "      <th>Deaths</th>\n",
       "      <th>PCases</th>\n",
       "      <th>PDeaths</th>\n",
       "      <th>Cases (+)</th>\n",
       "      <th>Deaths (+)</th>\n",
       "      <th>Fatality Rate</th>\n",
       "      <th>Continent</th>\n",
       "    </tr>\n",
       "  </thead>\n",
       "  <tbody>\n",
       "    <tr>\n",
       "      <th>0</th>\n",
       "      <td>US</td>\n",
       "      <td>92112922</td>\n",
       "      <td>1033556</td>\n",
       "      <td>92102659</td>\n",
       "      <td>1034152</td>\n",
       "      <td>10263</td>\n",
       "      <td>0</td>\n",
       "      <td>1.1</td>\n",
       "      <td>North America</td>\n",
       "    </tr>\n",
       "    <tr>\n",
       "      <th>1</th>\n",
       "      <td>India</td>\n",
       "      <td>44145709</td>\n",
       "      <td>526689</td>\n",
       "      <td>44145709</td>\n",
       "      <td>526689</td>\n",
       "      <td>0</td>\n",
       "      <td>0</td>\n",
       "      <td>1.2</td>\n",
       "      <td>Asia</td>\n",
       "    </tr>\n",
       "    <tr>\n",
       "      <th>2</th>\n",
       "      <td>France</td>\n",
       "      <td>34237067</td>\n",
       "      <td>153577</td>\n",
       "      <td>34237067</td>\n",
       "      <td>153577</td>\n",
       "      <td>0</td>\n",
       "      <td>0</td>\n",
       "      <td>0.4</td>\n",
       "      <td>Europe</td>\n",
       "    </tr>\n",
       "    <tr>\n",
       "      <th>3</th>\n",
       "      <td>Brazil</td>\n",
       "      <td>34018371</td>\n",
       "      <td>679996</td>\n",
       "      <td>34011173</td>\n",
       "      <td>679939</td>\n",
       "      <td>7198</td>\n",
       "      <td>57</td>\n",
       "      <td>2.0</td>\n",
       "      <td>South America</td>\n",
       "    </tr>\n",
       "    <tr>\n",
       "      <th>4</th>\n",
       "      <td>Germany</td>\n",
       "      <td>31228322</td>\n",
       "      <td>144858</td>\n",
       "      <td>31228314</td>\n",
       "      <td>144858</td>\n",
       "      <td>8</td>\n",
       "      <td>0</td>\n",
       "      <td>0.5</td>\n",
       "      <td>Europe</td>\n",
       "    </tr>\n",
       "  </tbody>\n",
       "</table>\n",
       "</div>"
      ],
      "text/plain": [
       "  Country/Region     Cases   Deaths    PCases  PDeaths  Cases (+)  Deaths (+)  \\\n",
       "0             US  92112922  1033556  92102659  1034152      10263           0   \n",
       "1          India  44145709   526689  44145709   526689          0           0   \n",
       "2         France  34237067   153577  34237067   153577          0           0   \n",
       "3         Brazil  34018371   679996  34011173   679939       7198          57   \n",
       "4        Germany  31228322   144858  31228314   144858          8           0   \n",
       "\n",
       "   Fatality Rate      Continent  \n",
       "0            1.1  North America  \n",
       "1            1.2           Asia  \n",
       "2            0.4         Europe  \n",
       "3            2.0  South America  \n",
       "4            0.5         Europe  "
      ]
     },
     "execution_count": 15,
     "metadata": {},
     "output_type": "execute_result"
    }
   ],
   "source": [
    "#hide\n",
    "df_table = (pd.DataFrame(dict(Cases=dfc_cases, Deaths=dfc_deaths, PCases=dfp_cases, PDeaths=dfp_deaths))\n",
    "             .sort_values(by=['Cases', 'Deaths'], ascending=[False, False])\n",
    "             .reset_index())\n",
    "df_table.rename(columns={'index': 'Country/Region'}, inplace=True)\n",
    "for c in 'Cases, Deaths'.split(', '):\n",
    "    df_table[f'{c} (+)'] = (df_table[c] - df_table[f'P{c}']).clip(0)  # DATA BUG\n",
    "df_table['Fatality Rate'] = (100 * df_table['Deaths'] / df_table['Cases']).round(1)\n",
    "df_table['Continent'] = df_table['Country/Region'].map(mapping['map.continent'])\n",
    "df_table.head(5)"
   ]
  },
  {
   "cell_type": "code",
   "execution_count": 16,
   "id": "fewer-occasion",
   "metadata": {
    "execution": {
     "iopub.execute_input": "2022-08-08T12:16:25.515912Z",
     "iopub.status.busy": "2022-08-08T12:16:25.515313Z",
     "iopub.status.idle": "2022-08-08T12:16:25.517509Z",
     "shell.execute_reply": "2022-08-08T12:16:25.518028Z"
    },
    "papermill": {
     "duration": 0.039526,
     "end_time": "2022-08-08T12:16:25.518161",
     "exception": false,
     "start_time": "2022-08-08T12:16:25.478635",
     "status": "completed"
    },
    "tags": []
   },
   "outputs": [],
   "source": [
    "#hide\n",
    "#delete problematic countries from table\n",
    "df_table = df_table[~df_table['Country/Region'].isin(['Cape Verde', 'Cruise Ship', 'Kosovo'])]"
   ]
  },
  {
   "cell_type": "code",
   "execution_count": 17,
   "id": "related-center",
   "metadata": {
    "execution": {
     "iopub.execute_input": "2022-08-08T12:16:25.597191Z",
     "iopub.status.busy": "2022-08-08T12:16:25.596575Z",
     "iopub.status.idle": "2022-08-08T12:16:25.598970Z",
     "shell.execute_reply": "2022-08-08T12:16:25.599419Z"
    },
    "papermill": {
     "duration": 0.051025,
     "end_time": "2022-08-08T12:16:25.599551",
     "exception": false,
     "start_time": "2022-08-08T12:16:25.548526",
     "status": "completed"
    },
    "tags": []
   },
   "outputs": [],
   "source": [
    "#hide\n",
    "metrics = [df_table.columns[index] for index in [1,2,5,6]]\n",
    "# s_china = df_table[df_table['Country/Region'].eq('China')][metrics].sum().add_prefix('China ')\n",
    "s_us = df_table[df_table['Country/Region'].eq('US')][metrics].sum().add_prefix('US ')\n",
    "s_eu = df_table[df_table['Continent'].eq('Europe')][metrics].sum().add_prefix('EU ')\n",
    "s_ind = df_table[df_table['Country/Region'].eq('India')][metrics].sum().add_prefix('India ')\n",
    "summary = {'updated': pd.to_datetime(dt_today), 'since': pd.to_datetime(dt_yday)}\n",
    "summary = {'updated': pd.to_datetime(dt_today), 'since': pd.to_datetime(dt_yday)}\n",
    "summary = {**summary, **df_table[metrics].sum(), **s_ind, **s_us, **s_eu}"
   ]
  },
  {
   "cell_type": "code",
   "execution_count": 18,
   "id": "engaging-syndrome",
   "metadata": {
    "execution": {
     "iopub.execute_input": "2022-08-08T12:16:25.666669Z",
     "iopub.status.busy": "2022-08-08T12:16:25.666065Z",
     "iopub.status.idle": "2022-08-08T12:16:25.688483Z",
     "shell.execute_reply": "2022-08-08T12:16:25.687915Z"
    },
    "papermill": {
     "duration": 0.058229,
     "end_time": "2022-08-08T12:16:25.688617",
     "exception": false,
     "start_time": "2022-08-08T12:16:25.630388",
     "status": "completed"
    },
    "tags": []
   },
   "outputs": [],
   "source": [
    "#hide\n",
    "dft_ct_new_cases = dft_cases.groupby(COL_REGION)[dt_cols].sum().diff(axis=1).fillna(0).astype(int)"
   ]
  },
  {
   "cell_type": "code",
   "execution_count": 19,
   "id": "neutral-assignment",
   "metadata": {
    "execution": {
     "iopub.execute_input": "2022-08-08T12:16:25.757408Z",
     "iopub.status.busy": "2022-08-08T12:16:25.756766Z",
     "iopub.status.idle": "2022-08-08T12:16:25.759352Z",
     "shell.execute_reply": "2022-08-08T12:16:25.758865Z"
    },
    "papermill": {
     "duration": 0.039767,
     "end_time": "2022-08-08T12:16:25.759469",
     "exception": false,
     "start_time": "2022-08-08T12:16:25.719702",
     "status": "completed"
    },
    "tags": []
   },
   "outputs": [],
   "source": [
    "#hide\n",
    "everydaycases = dft_ct_new_cases.cumsum(axis=1)"
   ]
  },
  {
   "cell_type": "code",
   "execution_count": 20,
   "id": "parliamentary-calgary",
   "metadata": {
    "execution": {
     "iopub.execute_input": "2022-08-08T12:16:25.826586Z",
     "iopub.status.busy": "2022-08-08T12:16:25.825975Z",
     "iopub.status.idle": "2022-08-08T12:16:26.369158Z",
     "shell.execute_reply": "2022-08-08T12:16:26.368656Z"
    },
    "papermill": {
     "duration": 0.578452,
     "end_time": "2022-08-08T12:16:26.369285",
     "exception": false,
     "start_time": "2022-08-08T12:16:25.790833",
     "status": "completed"
    },
    "tags": []
   },
   "outputs": [],
   "source": [
    "#hide\n",
    "import pandas as pd\n",
    "import matplotlib.pyplot as plt\n",
    "import matplotlib.ticker as ticker\n",
    "import matplotlib.animation as animation\n",
    "from IPython.display import HTML"
   ]
  },
  {
   "cell_type": "code",
   "execution_count": 21,
   "id": "lasting-extraction",
   "metadata": {
    "execution": {
     "iopub.execute_input": "2022-08-08T12:16:26.437831Z",
     "iopub.status.busy": "2022-08-08T12:16:26.437169Z",
     "iopub.status.idle": "2022-08-08T12:16:26.444139Z",
     "shell.execute_reply": "2022-08-08T12:16:26.444621Z"
    },
    "papermill": {
     "duration": 0.044967,
     "end_time": "2022-08-08T12:16:26.444755",
     "exception": false,
     "start_time": "2022-08-08T12:16:26.399788",
     "status": "completed"
    },
    "tags": []
   },
   "outputs": [],
   "source": [
    "#hide\n",
    "t = everydaycases.stack()"
   ]
  },
  {
   "cell_type": "code",
   "execution_count": 22,
   "id": "premier-sleeve",
   "metadata": {
    "execution": {
     "iopub.execute_input": "2022-08-08T12:16:26.513494Z",
     "iopub.status.busy": "2022-08-08T12:16:26.512898Z",
     "iopub.status.idle": "2022-08-08T12:16:26.524809Z",
     "shell.execute_reply": "2022-08-08T12:16:26.524313Z"
    },
    "papermill": {
     "duration": 0.049374,
     "end_time": "2022-08-08T12:16:26.524924",
     "exception": false,
     "start_time": "2022-08-08T12:16:26.475550",
     "status": "completed"
    },
    "tags": []
   },
   "outputs": [],
   "source": [
    "#hide\n",
    "g = t.reset_index(['Country/Region'])"
   ]
  },
  {
   "cell_type": "code",
   "execution_count": 23,
   "id": "distributed-pittsburgh",
   "metadata": {
    "execution": {
     "iopub.execute_input": "2022-08-08T12:16:26.590396Z",
     "iopub.status.busy": "2022-08-08T12:16:26.589784Z",
     "iopub.status.idle": "2022-08-08T12:16:26.592805Z",
     "shell.execute_reply": "2022-08-08T12:16:26.592324Z"
    },
    "papermill": {
     "duration": 0.037475,
     "end_time": "2022-08-08T12:16:26.592918",
     "exception": false,
     "start_time": "2022-08-08T12:16:26.555443",
     "status": "completed"
    },
    "tags": []
   },
   "outputs": [],
   "source": [
    "#hide\n",
    "g.index.name = 'date'"
   ]
  },
  {
   "cell_type": "code",
   "execution_count": 24,
   "id": "naked-donor",
   "metadata": {
    "execution": {
     "iopub.execute_input": "2022-08-08T12:16:26.658341Z",
     "iopub.status.busy": "2022-08-08T12:16:26.657629Z",
     "iopub.status.idle": "2022-08-08T12:16:26.659490Z",
     "shell.execute_reply": "2022-08-08T12:16:26.660001Z"
    },
    "papermill": {
     "duration": 0.036594,
     "end_time": "2022-08-08T12:16:26.660142",
     "exception": false,
     "start_time": "2022-08-08T12:16:26.623548",
     "status": "completed"
    },
    "tags": []
   },
   "outputs": [],
   "source": [
    "# #hide\n",
    "# g = g.reset_index(['date'])"
   ]
  },
  {
   "cell_type": "code",
   "execution_count": 25,
   "id": "incomplete-mustang",
   "metadata": {
    "execution": {
     "iopub.execute_input": "2022-08-08T12:16:26.726010Z",
     "iopub.status.busy": "2022-08-08T12:16:26.725340Z",
     "iopub.status.idle": "2022-08-08T12:16:26.727751Z",
     "shell.execute_reply": "2022-08-08T12:16:26.727181Z"
    },
    "papermill": {
     "duration": 0.036674,
     "end_time": "2022-08-08T12:16:26.727862",
     "exception": false,
     "start_time": "2022-08-08T12:16:26.691188",
     "status": "completed"
    },
    "tags": []
   },
   "outputs": [],
   "source": [
    "#hide\n",
    "# g.head()"
   ]
  },
  {
   "cell_type": "code",
   "execution_count": 26,
   "id": "specific-kruger",
   "metadata": {
    "execution": {
     "iopub.execute_input": "2022-08-08T12:16:26.793242Z",
     "iopub.status.busy": "2022-08-08T12:16:26.792598Z",
     "iopub.status.idle": "2022-08-08T12:16:26.794665Z",
     "shell.execute_reply": "2022-08-08T12:16:26.795145Z"
    },
    "papermill": {
     "duration": 0.036742,
     "end_time": "2022-08-08T12:16:26.795282",
     "exception": false,
     "start_time": "2022-08-08T12:16:26.758540",
     "status": "completed"
    },
    "tags": []
   },
   "outputs": [],
   "source": [
    "#hide\n",
    "# g.columns = ['date','country','cases']"
   ]
  },
  {
   "cell_type": "code",
   "execution_count": 27,
   "id": "tender-conversion",
   "metadata": {
    "execution": {
     "iopub.execute_input": "2022-08-08T12:16:26.860547Z",
     "iopub.status.busy": "2022-08-08T12:16:26.859930Z",
     "iopub.status.idle": "2022-08-08T12:16:26.863860Z",
     "shell.execute_reply": "2022-08-08T12:16:26.863384Z"
    },
    "papermill": {
     "duration": 0.038121,
     "end_time": "2022-08-08T12:16:26.863972",
     "exception": false,
     "start_time": "2022-08-08T12:16:26.825851",
     "status": "completed"
    },
    "tags": []
   },
   "outputs": [],
   "source": [
    "#hide\n",
    "# g['continent'] = g.country"
   ]
  },
  {
   "cell_type": "code",
   "execution_count": 28,
   "id": "substantial-wilderness",
   "metadata": {
    "execution": {
     "iopub.execute_input": "2022-08-08T12:16:26.929736Z",
     "iopub.status.busy": "2022-08-08T12:16:26.929002Z",
     "iopub.status.idle": "2022-08-08T12:16:26.930650Z",
     "shell.execute_reply": "2022-08-08T12:16:26.931198Z"
    },
    "papermill": {
     "duration": 0.036522,
     "end_time": "2022-08-08T12:16:26.931330",
     "exception": false,
     "start_time": "2022-08-08T12:16:26.894808",
     "status": "completed"
    },
    "tags": []
   },
   "outputs": [],
   "source": [
    "#hide\n",
    "# cols = list(g.columns.values)"
   ]
  },
  {
   "cell_type": "code",
   "execution_count": 29,
   "id": "solved-farming",
   "metadata": {
    "execution": {
     "iopub.execute_input": "2022-08-08T12:16:26.997587Z",
     "iopub.status.busy": "2022-08-08T12:16:26.996879Z",
     "iopub.status.idle": "2022-08-08T12:16:26.999431Z",
     "shell.execute_reply": "2022-08-08T12:16:26.998893Z"
    },
    "papermill": {
     "duration": 0.03774,
     "end_time": "2022-08-08T12:16:26.999554",
     "exception": false,
     "start_time": "2022-08-08T12:16:26.961814",
     "status": "completed"
    },
    "tags": []
   },
   "outputs": [],
   "source": [
    "#hide\n",
    "# cols.insert(0, cols.pop())"
   ]
  },
  {
   "cell_type": "code",
   "execution_count": 30,
   "id": "executed-adoption",
   "metadata": {
    "execution": {
     "iopub.execute_input": "2022-08-08T12:16:27.064676Z",
     "iopub.status.busy": "2022-08-08T12:16:27.064070Z",
     "iopub.status.idle": "2022-08-08T12:16:27.067769Z",
     "shell.execute_reply": "2022-08-08T12:16:27.068196Z"
    },
    "papermill": {
     "duration": 0.038126,
     "end_time": "2022-08-08T12:16:27.068332",
     "exception": false,
     "start_time": "2022-08-08T12:16:27.030206",
     "status": "completed"
    },
    "tags": []
   },
   "outputs": [],
   "source": [
    "#hide\n",
    "# g = g[cols]"
   ]
  },
  {
   "cell_type": "code",
   "execution_count": 31,
   "id": "subject-dublin",
   "metadata": {
    "execution": {
     "iopub.execute_input": "2022-08-08T12:16:27.133543Z",
     "iopub.status.busy": "2022-08-08T12:16:27.132838Z",
     "iopub.status.idle": "2022-08-08T12:16:27.135382Z",
     "shell.execute_reply": "2022-08-08T12:16:27.134898Z"
    },
    "papermill": {
     "duration": 0.036754,
     "end_time": "2022-08-08T12:16:27.135495",
     "exception": false,
     "start_time": "2022-08-08T12:16:27.098741",
     "status": "completed"
    },
    "tags": []
   },
   "outputs": [],
   "source": [
    "#hide\n",
    "# g['continent'] = g['continent'].map(mapping['map.continent'])"
   ]
  },
  {
   "cell_type": "code",
   "execution_count": 32,
   "id": "freelance-scout",
   "metadata": {
    "execution": {
     "iopub.execute_input": "2022-08-08T12:16:27.200808Z",
     "iopub.status.busy": "2022-08-08T12:16:27.200113Z",
     "iopub.status.idle": "2022-08-08T12:16:27.202643Z",
     "shell.execute_reply": "2022-08-08T12:16:27.201985Z"
    },
    "papermill": {
     "duration": 0.036702,
     "end_time": "2022-08-08T12:16:27.202772",
     "exception": false,
     "start_time": "2022-08-08T12:16:27.166070",
     "status": "completed"
    },
    "tags": []
   },
   "outputs": [],
   "source": [
    "#hide\n",
    "# g.head()"
   ]
  },
  {
   "cell_type": "code",
   "execution_count": 33,
   "id": "limited-engine",
   "metadata": {
    "execution": {
     "iopub.execute_input": "2022-08-08T12:16:27.268726Z",
     "iopub.status.busy": "2022-08-08T12:16:27.268117Z",
     "iopub.status.idle": "2022-08-08T12:16:27.271843Z",
     "shell.execute_reply": "2022-08-08T12:16:27.272271Z"
    },
    "papermill": {
     "duration": 0.038737,
     "end_time": "2022-08-08T12:16:27.272414",
     "exception": false,
     "start_time": "2022-08-08T12:16:27.233677",
     "status": "completed"
    },
    "tags": []
   },
   "outputs": [],
   "source": [
    "# hide\n",
    "# g['date'] = g['date'].astype('datetime64[ns]')"
   ]
  },
  {
   "cell_type": "code",
   "execution_count": 34,
   "id": "sophisticated-supervisor",
   "metadata": {
    "execution": {
     "iopub.execute_input": "2022-08-08T12:16:27.338180Z",
     "iopub.status.busy": "2022-08-08T12:16:27.337435Z",
     "iopub.status.idle": "2022-08-08T12:16:27.339709Z",
     "shell.execute_reply": "2022-08-08T12:16:27.339142Z"
    },
    "papermill": {
     "duration": 0.036382,
     "end_time": "2022-08-08T12:16:27.339820",
     "exception": false,
     "start_time": "2022-08-08T12:16:27.303438",
     "status": "completed"
    },
    "tags": []
   },
   "outputs": [],
   "source": [
    "#hide\n",
    "# g['date'] = g.date.dt.dayofyear"
   ]
  },
  {
   "cell_type": "code",
   "execution_count": 35,
   "id": "inside-dubai",
   "metadata": {
    "execution": {
     "iopub.execute_input": "2022-08-08T12:16:27.405309Z",
     "iopub.status.busy": "2022-08-08T12:16:27.404598Z",
     "iopub.status.idle": "2022-08-08T12:16:27.407259Z",
     "shell.execute_reply": "2022-08-08T12:16:27.406704Z"
    },
    "papermill": {
     "duration": 0.03693,
     "end_time": "2022-08-08T12:16:27.407385",
     "exception": false,
     "start_time": "2022-08-08T12:16:27.370455",
     "status": "completed"
    },
    "tags": []
   },
   "outputs": [],
   "source": [
    "#hide\n",
    "# g = g.rename(columns= {'continent':'group','country':'name','cases':'value'})"
   ]
  },
  {
   "cell_type": "code",
   "execution_count": 36,
   "id": "fleet-motorcycle",
   "metadata": {
    "execution": {
     "iopub.execute_input": "2022-08-08T12:16:27.473256Z",
     "iopub.status.busy": "2022-08-08T12:16:27.472623Z",
     "iopub.status.idle": "2022-08-08T12:16:27.474571Z",
     "shell.execute_reply": "2022-08-08T12:16:27.475026Z"
    },
    "papermill": {
     "duration": 0.036627,
     "end_time": "2022-08-08T12:16:27.475159",
     "exception": false,
     "start_time": "2022-08-08T12:16:27.438532",
     "status": "completed"
    },
    "tags": []
   },
   "outputs": [],
   "source": [
    "#hide\n",
    "# cols = ['name','group','day','value']"
   ]
  },
  {
   "cell_type": "code",
   "execution_count": 37,
   "id": "continued-sleeping",
   "metadata": {
    "execution": {
     "iopub.execute_input": "2022-08-08T12:16:27.541904Z",
     "iopub.status.busy": "2022-08-08T12:16:27.541178Z",
     "iopub.status.idle": "2022-08-08T12:16:27.543731Z",
     "shell.execute_reply": "2022-08-08T12:16:27.543188Z"
    },
    "papermill": {
     "duration": 0.036821,
     "end_time": "2022-08-08T12:16:27.543854",
     "exception": false,
     "start_time": "2022-08-08T12:16:27.507033",
     "status": "completed"
    },
    "tags": []
   },
   "outputs": [],
   "source": [
    "#hide\n",
    "# g.rename(columns= {'date':'day'},inplace = True)"
   ]
  },
  {
   "cell_type": "code",
   "execution_count": 38,
   "id": "major-fight",
   "metadata": {
    "execution": {
     "iopub.execute_input": "2022-08-08T12:16:27.609695Z",
     "iopub.status.busy": "2022-08-08T12:16:27.608978Z",
     "iopub.status.idle": "2022-08-08T12:16:27.611492Z",
     "shell.execute_reply": "2022-08-08T12:16:27.610831Z"
    },
    "papermill": {
     "duration": 0.037015,
     "end_time": "2022-08-08T12:16:27.611619",
     "exception": false,
     "start_time": "2022-08-08T12:16:27.574604",
     "status": "completed"
    },
    "tags": []
   },
   "outputs": [],
   "source": [
    "#hide\n",
    "# g = g[cols]"
   ]
  },
  {
   "cell_type": "code",
   "execution_count": 39,
   "id": "structured-mobile",
   "metadata": {
    "execution": {
     "iopub.execute_input": "2022-08-08T12:16:27.677242Z",
     "iopub.status.busy": "2022-08-08T12:16:27.676532Z",
     "iopub.status.idle": "2022-08-08T12:16:27.678902Z",
     "shell.execute_reply": "2022-08-08T12:16:27.678426Z"
    },
    "papermill": {
     "duration": 0.036445,
     "end_time": "2022-08-08T12:16:27.679015",
     "exception": false,
     "start_time": "2022-08-08T12:16:27.642570",
     "status": "completed"
    },
    "tags": []
   },
   "outputs": [],
   "source": [
    "# #hide\n",
    "# g = g[g.group.notna()]"
   ]
  },
  {
   "cell_type": "code",
   "execution_count": 40,
   "id": "determined-closing",
   "metadata": {
    "execution": {
     "iopub.execute_input": "2022-08-08T12:16:27.744778Z",
     "iopub.status.busy": "2022-08-08T12:16:27.744078Z",
     "iopub.status.idle": "2022-08-08T12:16:27.746502Z",
     "shell.execute_reply": "2022-08-08T12:16:27.745836Z"
    },
    "papermill": {
     "duration": 0.037036,
     "end_time": "2022-08-08T12:16:27.746628",
     "exception": false,
     "start_time": "2022-08-08T12:16:27.709592",
     "status": "completed"
    },
    "tags": []
   },
   "outputs": [],
   "source": [
    "# #hide\n",
    "# colors = dict(zip(\n",
    "#     [\"Oceania\", \"Europe\", \"Asia\", \"South America\", \"Middle East\", \"North America\", \"Africa\"],\n",
    "#     [\"#adb0ff\", \"#ffb3ff\", \"#90d595\", \"#e48381\", \"#aafbff\", \"#f7bb5f\", \"#eafb50\"]\n",
    "# ))\n",
    "# group_lk = g.set_index('name')['group'].to_dict()"
   ]
  },
  {
   "cell_type": "code",
   "execution_count": null,
   "id": "gross-drinking",
   "metadata": {
    "papermill": {
     "duration": 0.030798,
     "end_time": "2022-08-08T12:16:27.808327",
     "exception": false,
     "start_time": "2022-08-08T12:16:27.777529",
     "status": "completed"
    },
    "tags": []
   },
   "outputs": [],
   "source": []
  },
  {
   "cell_type": "code",
   "execution_count": 41,
   "id": "subject-macintosh",
   "metadata": {
    "execution": {
     "iopub.execute_input": "2022-08-08T12:16:27.874770Z",
     "iopub.status.busy": "2022-08-08T12:16:27.874160Z",
     "iopub.status.idle": "2022-08-08T12:16:27.876710Z",
     "shell.execute_reply": "2022-08-08T12:16:27.876135Z"
    },
    "papermill": {
     "duration": 0.037979,
     "end_time": "2022-08-08T12:16:27.876824",
     "exception": false,
     "start_time": "2022-08-08T12:16:27.838845",
     "status": "completed"
    },
    "tags": []
   },
   "outputs": [],
   "source": [
    "# #hide\n",
    "# fig, ax = plt.subplots(figsize=(15, 8))\n",
    "\n",
    "# def draw_barchart(current_day):\n",
    "#     dff = g[g['day'].eq(current_day)].sort_values(by='value', ascending=True).tail(10)\n",
    "#     ax.clear()\n",
    "#     ax.barh(dff['name'], dff['value'], color=[colors[group_lk[x]] for x in dff['name']])\n",
    "#     dx = dff['value'].max() / 200\n",
    "    \n",
    "#     for i, (value, name) in enumerate(zip(dff['value'], dff['name'])):\n",
    "#         ax.text(value-dx, i,     name,           size=14, weight=600, ha='right', va='bottom')\n",
    "#         ax.text(value-dx, i-.25, group_lk[name], size=10, color='#444444', ha='right', va='baseline')\n",
    "#         ax.text(value+dx, i,     f'{value:,.0f}',  size=14, ha='left',  va='center')\n",
    "#     ax.text(1, 0.4, current_day, transform=ax.transAxes, color='#777777', size=46, ha='right', weight=800)\n",
    "#     ax.text(0, 1.06, 'Population (thousands)', transform=ax.transAxes, size=12, color='#777777')\n",
    "#     ax.xaxis.set_major_formatter(ticker.StrMethodFormatter('{x:,.0f}'))\n",
    "#     ax.xaxis.set_ticks_position('top')\n",
    "#     ax.tick_params(axis='x', colors='#777777', labelsize=12)\n",
    "#     ax.set_yticks([])\n",
    "#     ax.margins(0, 0.01)\n",
    "#     ax.grid(which='major', axis='x', linestyle='-')\n",
    "#     ax.set_axisbelow(True)\n",
    "    \n",
    "#     ax.text(0, 1.15, 'Coronavirus',\n",
    "#             transform=ax.transAxes, size=24, weight=600, ha='left', va='top')\n",
    "# #     ax.text(1, 0, 'by @pratapvardhan; credit @jburnmurdoch', transform=ax.transAxes, color='#777777', ha='right',\n",
    "# #             bbox=dict(facecolor='white', alpha=0.8, edgecolor='white'))\n",
    "#     plt.box(False)"
   ]
  },
  {
   "cell_type": "code",
   "execution_count": 42,
   "id": "sexual-wages",
   "metadata": {
    "execution": {
     "iopub.execute_input": "2022-08-08T12:16:27.942241Z",
     "iopub.status.busy": "2022-08-08T12:16:27.941512Z",
     "iopub.status.idle": "2022-08-08T12:16:27.943705Z",
     "shell.execute_reply": "2022-08-08T12:16:27.943133Z"
    },
    "papermill": {
     "duration": 0.036494,
     "end_time": "2022-08-08T12:16:27.943816",
     "exception": false,
     "start_time": "2022-08-08T12:16:27.907322",
     "status": "completed"
    },
    "tags": []
   },
   "outputs": [],
   "source": [
    "# #hide_input\n",
    "# fig, ax = plt.subplots(figsize=(15, 8))\n",
    "# animator = animation.FuncAnimation(fig, draw_barchart, frames=range(g.day.values.min(), g.day.values.max()))\n",
    "# HTML(animator.to_jshtml())\n",
    "# # or use animator.to_html5_video() or animator.save() "
   ]
  },
  {
   "cell_type": "code",
   "execution_count": null,
   "id": "australian-container",
   "metadata": {
    "papermill": {
     "duration": 0.030773,
     "end_time": "2022-08-08T12:16:28.005438",
     "exception": false,
     "start_time": "2022-08-08T12:16:27.974665",
     "status": "completed"
    },
    "tags": []
   },
   "outputs": [],
   "source": []
  },
  {
   "cell_type": "code",
   "execution_count": null,
   "id": "mediterranean-pontiac",
   "metadata": {
    "papermill": {
     "duration": 0.030494,
     "end_time": "2022-08-08T12:16:28.066355",
     "exception": false,
     "start_time": "2022-08-08T12:16:28.035861",
     "status": "completed"
    },
    "tags": []
   },
   "outputs": [],
   "source": []
  },
  {
   "cell_type": "code",
   "execution_count": null,
   "id": "aging-legislature",
   "metadata": {
    "papermill": {
     "duration": 0.03033,
     "end_time": "2022-08-08T12:16:28.127361",
     "exception": false,
     "start_time": "2022-08-08T12:16:28.097031",
     "status": "completed"
    },
    "tags": []
   },
   "outputs": [],
   "source": []
  }
 ],
 "metadata": {
  "kernelspec": {
   "display_name": "Python 3",
   "language": "python",
   "name": "python3"
  },
  "language_info": {
   "codemirror_mode": {
    "name": "ipython",
    "version": 3
   },
   "file_extension": ".py",
   "mimetype": "text/x-python",
   "name": "python",
   "nbconvert_exporter": "python",
   "pygments_lexer": "ipython3",
   "version": "3.6.15"
  },
  "papermill": {
   "duration": 6.013987,
   "end_time": "2022-08-08T12:16:28.577304",
   "environment_variables": {},
   "exception": null,
   "input_path": "2020-03-21-covid19exp.ipynb",
   "output_path": "2020-03-21-covid19exp.ipynb",
   "parameters": {},
   "start_time": "2022-08-08T12:16:22.563317",
   "version": "2.0.0"
  }
 },
 "nbformat": 4,
 "nbformat_minor": 5
}