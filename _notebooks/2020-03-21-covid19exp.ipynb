{
 "cells": [
  {
   "cell_type": "markdown",
   "id": "muslim-click",
   "metadata": {
    "papermill": {
     "duration": 0.035709,
     "end_time": "2022-08-04T12:16:15.164682",
     "exception": false,
     "start_time": "2022-08-04T12:16:15.128973",
     "status": "completed"
    },
    "tags": []
   },
   "source": [
    "# COVID-19 Case Race\n",
    "> A race chart to see rising cases around the world\n",
    "\n",
    "- author: Hargun Oberoi\n",
    "- image: images/covid-overview.png\n",
    "- hide: false\n",
    "- badges: false"
   ]
  },
  {
   "cell_type": "code",
   "execution_count": 1,
   "id": "proof-material",
   "metadata": {
    "execution": {
     "iopub.execute_input": "2022-08-04T12:16:15.234245Z",
     "iopub.status.busy": "2022-08-04T12:16:15.233663Z",
     "iopub.status.idle": "2022-08-04T12:16:15.540368Z",
     "shell.execute_reply": "2022-08-04T12:16:15.539880Z"
    },
    "papermill": {
     "duration": 0.345368,
     "end_time": "2022-08-04T12:16:15.540492",
     "exception": false,
     "start_time": "2022-08-04T12:16:15.195124",
     "status": "completed"
    },
    "tags": []
   },
   "outputs": [],
   "source": [
    "#hide\n",
    "import numpy as np\n",
    "import pandas as pd\n",
    "from jinja2 import Template\n",
    "from IPython.display import HTML"
   ]
  },
  {
   "cell_type": "code",
   "execution_count": 2,
   "id": "developed-terminology",
   "metadata": {
    "execution": {
     "iopub.execute_input": "2022-08-04T12:16:15.604787Z",
     "iopub.status.busy": "2022-08-04T12:16:15.604146Z",
     "iopub.status.idle": "2022-08-04T12:16:15.606530Z",
     "shell.execute_reply": "2022-08-04T12:16:15.606106Z"
    },
    "papermill": {
     "duration": 0.036219,
     "end_time": "2022-08-04T12:16:15.606630",
     "exception": false,
     "start_time": "2022-08-04T12:16:15.570411",
     "status": "completed"
    },
    "tags": []
   },
   "outputs": [],
   "source": [
    "#hide\n",
    "\n",
    "# FETCH\n",
    "base_url = 'https://raw.githubusercontent.com/pratapvardhan/notebooks/master/covid19/'\n",
    "paths = {\n",
    "    'mapping': base_url + 'mapping_countries.csv',\n",
    "    'overview': base_url + 'overview.tpl'\n",
    "}"
   ]
  },
  {
   "cell_type": "code",
   "execution_count": 3,
   "id": "dynamic-saver",
   "metadata": {
    "execution": {
     "iopub.execute_input": "2022-08-04T12:16:15.674421Z",
     "iopub.status.busy": "2022-08-04T12:16:15.673284Z",
     "iopub.status.idle": "2022-08-04T12:16:15.677482Z",
     "shell.execute_reply": "2022-08-04T12:16:15.676925Z"
    },
    "papermill": {
     "duration": 0.041253,
     "end_time": "2022-08-04T12:16:15.677581",
     "exception": false,
     "start_time": "2022-08-04T12:16:15.636328",
     "status": "completed"
    },
    "tags": []
   },
   "outputs": [
    {
     "data": {
      "text/plain": [
       "'https://raw.githubusercontent.com/pratapvardhan/notebooks/master/covid19/mapping_countries.csv'"
      ]
     },
     "execution_count": 3,
     "metadata": {},
     "output_type": "execute_result"
    }
   ],
   "source": [
    "#hide\n",
    "paths['mapping']"
   ]
  },
  {
   "cell_type": "code",
   "execution_count": 4,
   "id": "urban-software",
   "metadata": {
    "execution": {
     "iopub.execute_input": "2022-08-04T12:16:15.742251Z",
     "iopub.status.busy": "2022-08-04T12:16:15.741676Z",
     "iopub.status.idle": "2022-08-04T12:16:15.744335Z",
     "shell.execute_reply": "2022-08-04T12:16:15.743897Z"
    },
    "papermill": {
     "duration": 0.036744,
     "end_time": "2022-08-04T12:16:15.744430",
     "exception": false,
     "start_time": "2022-08-04T12:16:15.707686",
     "status": "completed"
    },
    "tags": []
   },
   "outputs": [],
   "source": [
    "#hide\n",
    "def get_mappings(url):\n",
    "    df = pd.read_csv(url)\n",
    "    return {\n",
    "        'df': df,\n",
    "        'replace.country': dict(df.dropna(subset=['Name']).set_index('Country')['Name']),\n",
    "        'map.continent': dict(df.set_index('Name')['Continent'])\n",
    "    }"
   ]
  },
  {
   "cell_type": "code",
   "execution_count": 5,
   "id": "intimate-machinery",
   "metadata": {
    "execution": {
     "iopub.execute_input": "2022-08-04T12:16:15.808738Z",
     "iopub.status.busy": "2022-08-04T12:16:15.808185Z",
     "iopub.status.idle": "2022-08-04T12:16:15.834017Z",
     "shell.execute_reply": "2022-08-04T12:16:15.833436Z"
    },
    "papermill": {
     "duration": 0.059825,
     "end_time": "2022-08-04T12:16:15.834116",
     "exception": false,
     "start_time": "2022-08-04T12:16:15.774291",
     "status": "completed"
    },
    "tags": []
   },
   "outputs": [],
   "source": [
    "#hide\n",
    "mapping = get_mappings(paths['mapping'])"
   ]
  },
  {
   "cell_type": "code",
   "execution_count": 6,
   "id": "certified-tactics",
   "metadata": {
    "execution": {
     "iopub.execute_input": "2022-08-04T12:16:15.898352Z",
     "iopub.status.busy": "2022-08-04T12:16:15.897771Z",
     "iopub.status.idle": "2022-08-04T12:16:15.900235Z",
     "shell.execute_reply": "2022-08-04T12:16:15.899705Z"
    },
    "papermill": {
     "duration": 0.036294,
     "end_time": "2022-08-04T12:16:15.900330",
     "exception": false,
     "start_time": "2022-08-04T12:16:15.864036",
     "status": "completed"
    },
    "tags": []
   },
   "outputs": [],
   "source": [
    "#hide\n",
    "def get_template(path):\n",
    "    from urllib.parse import urlparse\n",
    "    if bool(urlparse(path).netloc):\n",
    "        from urllib.request import urlopen\n",
    "        return urlopen(path).read().decode('utf8')\n",
    "    return open(path).read()"
   ]
  },
  {
   "cell_type": "code",
   "execution_count": 7,
   "id": "realistic-blast",
   "metadata": {
    "execution": {
     "iopub.execute_input": "2022-08-04T12:16:15.964238Z",
     "iopub.status.busy": "2022-08-04T12:16:15.963688Z",
     "iopub.status.idle": "2022-08-04T12:16:15.965954Z",
     "shell.execute_reply": "2022-08-04T12:16:15.966409Z"
    },
    "papermill": {
     "duration": 0.036347,
     "end_time": "2022-08-04T12:16:15.966516",
     "exception": false,
     "start_time": "2022-08-04T12:16:15.930169",
     "status": "completed"
    },
    "tags": []
   },
   "outputs": [],
   "source": [
    "#hide\n",
    "def get_frame(name):\n",
    "    url = (\n",
    "        'https://raw.githubusercontent.com/CSSEGISandData/COVID-19/master/csse_covid_19_data/'\n",
    "        f'csse_covid_19_time_series/time_series_covid19_{name}_global.csv')\n",
    "    df = pd.read_csv(url)\n",
    "    # rename countries\n",
    "    df['Country/Region'] = df['Country/Region'].replace(mapping['replace.country'])\n",
    "    return df"
   ]
  },
  {
   "cell_type": "code",
   "execution_count": 8,
   "id": "affiliated-characterization",
   "metadata": {
    "execution": {
     "iopub.execute_input": "2022-08-04T12:16:16.031763Z",
     "iopub.status.busy": "2022-08-04T12:16:16.031187Z",
     "iopub.status.idle": "2022-08-04T12:16:16.033609Z",
     "shell.execute_reply": "2022-08-04T12:16:16.033095Z"
    },
    "papermill": {
     "duration": 0.03707,
     "end_time": "2022-08-04T12:16:16.033707",
     "exception": false,
     "start_time": "2022-08-04T12:16:15.996637",
     "status": "completed"
    },
    "tags": []
   },
   "outputs": [],
   "source": [
    "#hide\n",
    "def get_dates(df):\n",
    "    dt_cols = df.columns[~df.columns.isin(['Province/State', 'Country/Region', 'Lat', 'Long'])]\n",
    "    LAST_DATE_I = -1\n",
    "    # sometimes last column may be empty, then go backwards\n",
    "    for i in range(-1, -len(dt_cols), -1):\n",
    "        if not df[dt_cols[i]].fillna(0).eq(0).all():\n",
    "            LAST_DATE_I = i\n",
    "            break\n",
    "    return LAST_DATE_I, dt_cols"
   ]
  },
  {
   "cell_type": "code",
   "execution_count": 9,
   "id": "recent-optimization",
   "metadata": {
    "execution": {
     "iopub.execute_input": "2022-08-04T12:16:16.097706Z",
     "iopub.status.busy": "2022-08-04T12:16:16.097128Z",
     "iopub.status.idle": "2022-08-04T12:16:16.447217Z",
     "shell.execute_reply": "2022-08-04T12:16:16.446743Z"
    },
    "papermill": {
     "duration": 0.383838,
     "end_time": "2022-08-04T12:16:16.447335",
     "exception": false,
     "start_time": "2022-08-04T12:16:16.063497",
     "status": "completed"
    },
    "tags": []
   },
   "outputs": [],
   "source": [
    "#hide\n",
    "COL_REGION = 'Country/Region'\n",
    "# Confirmed, Recovered, Deaths\n",
    "df = get_frame('confirmed')\n",
    "# dft_: timeseries, dfc_: today country agg\n",
    "dft_cases = df\n",
    "dft_deaths = get_frame('deaths')\n",
    "dft_recovered = get_frame('recovered')\n",
    "LAST_DATE_I, dt_cols = get_dates(df)"
   ]
  },
  {
   "cell_type": "code",
   "execution_count": 10,
   "id": "absolute-copper",
   "metadata": {
    "execution": {
     "iopub.execute_input": "2022-08-04T12:16:16.512800Z",
     "iopub.status.busy": "2022-08-04T12:16:16.512238Z",
     "iopub.status.idle": "2022-08-04T12:16:16.514418Z",
     "shell.execute_reply": "2022-08-04T12:16:16.514856Z"
    },
    "papermill": {
     "duration": 0.037339,
     "end_time": "2022-08-04T12:16:16.514963",
     "exception": false,
     "start_time": "2022-08-04T12:16:16.477624",
     "status": "completed"
    },
    "tags": []
   },
   "outputs": [],
   "source": [
    "#hide\n",
    "LAST_DATE_I, dt_cols = get_dates(df)\n",
    "dt_today =dt_cols[LAST_DATE_I]\n",
    "# dt_5day = dt_cols[LAST_DATE_I - 5]\n",
    "dt_yday = dt_cols[LAST_DATE_I - 1]"
   ]
  },
  {
   "cell_type": "code",
   "execution_count": 11,
   "id": "restricted-sheriff",
   "metadata": {
    "execution": {
     "iopub.execute_input": "2022-08-04T12:16:16.579950Z",
     "iopub.status.busy": "2022-08-04T12:16:16.579404Z",
     "iopub.status.idle": "2022-08-04T12:16:16.586406Z",
     "shell.execute_reply": "2022-08-04T12:16:16.585956Z"
    },
    "papermill": {
     "duration": 0.041589,
     "end_time": "2022-08-04T12:16:16.586500",
     "exception": false,
     "start_time": "2022-08-04T12:16:16.544911",
     "status": "completed"
    },
    "tags": []
   },
   "outputs": [],
   "source": [
    "#hide\n",
    "dfc_cases = dft_cases.groupby(COL_REGION)[dt_today].sum()\n",
    "dfc_deaths = dft_deaths.groupby(COL_REGION)[dt_today].sum()\n",
    "# dfp_cases = dft_cases.groupby(COL_REGION)[dt_5day].sum()\n",
    "# dfp_deaths = dft_deaths.groupby(COL_REGION)[dt_5day].sum()\n",
    "dfp_cases = dft_cases.groupby(COL_REGION)[dt_yday].sum()\n",
    "dfp_deaths = dft_deaths.groupby(COL_REGION)[dt_yday].sum()"
   ]
  },
  {
   "cell_type": "code",
   "execution_count": 12,
   "id": "deluxe-hepatitis",
   "metadata": {
    "execution": {
     "iopub.execute_input": "2022-08-04T12:16:16.651407Z",
     "iopub.status.busy": "2022-08-04T12:16:16.650861Z",
     "iopub.status.idle": "2022-08-04T12:16:16.655384Z",
     "shell.execute_reply": "2022-08-04T12:16:16.654842Z"
    },
    "papermill": {
     "duration": 0.039023,
     "end_time": "2022-08-04T12:16:16.655479",
     "exception": false,
     "start_time": "2022-08-04T12:16:16.616456",
     "status": "completed"
    },
    "tags": []
   },
   "outputs": [],
   "source": [
    "#hide\n",
    "df_table = (pd.DataFrame(dict(Cases = dfc_cases, Deaths = dfc_deaths, PCases = dfp_cases, PDeaths = dfp_deaths))\n",
    "            .sort_values(by = ['Cases','Deaths'], ascending = [False, False])\n",
    "            .reset_index())"
   ]
  },
  {
   "cell_type": "code",
   "execution_count": 13,
   "id": "educational-chancellor",
   "metadata": {
    "execution": {
     "iopub.execute_input": "2022-08-04T12:16:16.731722Z",
     "iopub.status.busy": "2022-08-04T12:16:16.731159Z",
     "iopub.status.idle": "2022-08-04T12:16:16.738452Z",
     "shell.execute_reply": "2022-08-04T12:16:16.738881Z"
    },
    "papermill": {
     "duration": 0.053499,
     "end_time": "2022-08-04T12:16:16.738992",
     "exception": false,
     "start_time": "2022-08-04T12:16:16.685493",
     "status": "completed"
    },
    "tags": []
   },
   "outputs": [
    {
     "data": {
      "text/html": [
       "<div>\n",
       "<style scoped>\n",
       "    .dataframe tbody tr th:only-of-type {\n",
       "        vertical-align: middle;\n",
       "    }\n",
       "\n",
       "    .dataframe tbody tr th {\n",
       "        vertical-align: top;\n",
       "    }\n",
       "\n",
       "    .dataframe thead th {\n",
       "        text-align: right;\n",
       "    }\n",
       "</style>\n",
       "<table border=\"1\" class=\"dataframe\">\n",
       "  <thead>\n",
       "    <tr style=\"text-align: right;\">\n",
       "      <th></th>\n",
       "      <th>Country/Region</th>\n",
       "      <th>Cases</th>\n",
       "      <th>Deaths</th>\n",
       "      <th>PCases</th>\n",
       "      <th>PDeaths</th>\n",
       "      <th>Cases (+)</th>\n",
       "      <th>Deaths (+)</th>\n",
       "      <th>Fatality Rate</th>\n",
       "      <th>Continent</th>\n",
       "    </tr>\n",
       "  </thead>\n",
       "  <tbody>\n",
       "    <tr>\n",
       "      <th>0</th>\n",
       "      <td>US</td>\n",
       "      <td>91794811</td>\n",
       "      <td>1032097</td>\n",
       "      <td>91589086</td>\n",
       "      <td>1030982</td>\n",
       "      <td>205725</td>\n",
       "      <td>1115</td>\n",
       "      <td>1.12</td>\n",
       "      <td>North America</td>\n",
       "    </tr>\n",
       "    <tr>\n",
       "      <th>1</th>\n",
       "      <td>India</td>\n",
       "      <td>44087037</td>\n",
       "      <td>526530</td>\n",
       "      <td>44067144</td>\n",
       "      <td>526477</td>\n",
       "      <td>19893</td>\n",
       "      <td>53</td>\n",
       "      <td>1.19</td>\n",
       "      <td>Asia</td>\n",
       "    </tr>\n",
       "    <tr>\n",
       "      <th>2</th>\n",
       "      <td>France</td>\n",
       "      <td>34172819</td>\n",
       "      <td>153410</td>\n",
       "      <td>34133344</td>\n",
       "      <td>153320</td>\n",
       "      <td>39475</td>\n",
       "      <td>90</td>\n",
       "      <td>0.45</td>\n",
       "      <td>Europe</td>\n",
       "    </tr>\n",
       "    <tr>\n",
       "      <th>3</th>\n",
       "      <td>Brazil</td>\n",
       "      <td>33924061</td>\n",
       "      <td>679275</td>\n",
       "      <td>33890428</td>\n",
       "      <td>679010</td>\n",
       "      <td>33633</td>\n",
       "      <td>265</td>\n",
       "      <td>2.00</td>\n",
       "      <td>South America</td>\n",
       "    </tr>\n",
       "    <tr>\n",
       "      <th>4</th>\n",
       "      <td>Germany</td>\n",
       "      <td>31119199</td>\n",
       "      <td>144552</td>\n",
       "      <td>31044554</td>\n",
       "      <td>144360</td>\n",
       "      <td>74645</td>\n",
       "      <td>192</td>\n",
       "      <td>0.46</td>\n",
       "      <td>Europe</td>\n",
       "    </tr>\n",
       "  </tbody>\n",
       "</table>\n",
       "</div>"
      ],
      "text/plain": [
       "  Country/Region     Cases   Deaths    PCases  PDeaths  Cases (+)  Deaths (+)  \\\n",
       "0             US  91794811  1032097  91589086  1030982     205725        1115   \n",
       "1          India  44087037   526530  44067144   526477      19893          53   \n",
       "2         France  34172819   153410  34133344   153320      39475          90   \n",
       "3         Brazil  33924061   679275  33890428   679010      33633         265   \n",
       "4        Germany  31119199   144552  31044554   144360      74645         192   \n",
       "\n",
       "   Fatality Rate      Continent  \n",
       "0           1.12  North America  \n",
       "1           1.19           Asia  \n",
       "2           0.45         Europe  \n",
       "3           2.00  South America  \n",
       "4           0.46         Europe  "
      ]
     },
     "execution_count": 13,
     "metadata": {},
     "output_type": "execute_result"
    }
   ],
   "source": [
    "#hide\n",
    "for c in 'Cases, Deaths'.split(', '):\n",
    "    df_table[f'{c} (+)'] = (df_table[c] - df_table[f'P{c}']).clip(0)\n",
    "    #Clip ça veut dire, les chiffres negatif sont interdit\n",
    "df_table['Fatality Rate'] = (100* df_table['Deaths']/ df_table['Cases']).round(2)\n",
    "df_table['Continent'] = df_table['Country/Region'].map(mapping['map.continent'])\n",
    "df_table.head(5)"
   ]
  },
  {
   "cell_type": "code",
   "execution_count": 14,
   "id": "aboriginal-bulgaria",
   "metadata": {
    "execution": {
     "iopub.execute_input": "2022-08-04T12:16:16.804696Z",
     "iopub.status.busy": "2022-08-04T12:16:16.804145Z",
     "iopub.status.idle": "2022-08-04T12:16:16.806770Z",
     "shell.execute_reply": "2022-08-04T12:16:16.806330Z"
    },
    "papermill": {
     "duration": 0.037253,
     "end_time": "2022-08-04T12:16:16.806863",
     "exception": false,
     "start_time": "2022-08-04T12:16:16.769610",
     "status": "completed"
    },
    "tags": []
   },
   "outputs": [],
   "source": [
    "#hide\n",
    "#delete problematic countries from table\n",
    "df_table = df_table[~df_table['Country/Region'].isin(['Cape Verde', 'Cruise Ship', 'Kosovo'])]"
   ]
  },
  {
   "cell_type": "code",
   "execution_count": 15,
   "id": "fantastic-effect",
   "metadata": {
    "execution": {
     "iopub.execute_input": "2022-08-04T12:16:16.874500Z",
     "iopub.status.busy": "2022-08-04T12:16:16.873943Z",
     "iopub.status.idle": "2022-08-04T12:16:16.890443Z",
     "shell.execute_reply": "2022-08-04T12:16:16.890840Z"
    },
    "papermill": {
     "duration": 0.053785,
     "end_time": "2022-08-04T12:16:16.890950",
     "exception": false,
     "start_time": "2022-08-04T12:16:16.837165",
     "status": "completed"
    },
    "tags": []
   },
   "outputs": [
    {
     "data": {
      "text/html": [
       "<div>\n",
       "<style scoped>\n",
       "    .dataframe tbody tr th:only-of-type {\n",
       "        vertical-align: middle;\n",
       "    }\n",
       "\n",
       "    .dataframe tbody tr th {\n",
       "        vertical-align: top;\n",
       "    }\n",
       "\n",
       "    .dataframe thead th {\n",
       "        text-align: right;\n",
       "    }\n",
       "</style>\n",
       "<table border=\"1\" class=\"dataframe\">\n",
       "  <thead>\n",
       "    <tr style=\"text-align: right;\">\n",
       "      <th></th>\n",
       "      <th>Country/Region</th>\n",
       "      <th>Cases</th>\n",
       "      <th>Deaths</th>\n",
       "      <th>PCases</th>\n",
       "      <th>PDeaths</th>\n",
       "      <th>Cases (+)</th>\n",
       "      <th>Deaths (+)</th>\n",
       "      <th>Fatality Rate</th>\n",
       "      <th>Continent</th>\n",
       "    </tr>\n",
       "  </thead>\n",
       "  <tbody>\n",
       "    <tr>\n",
       "      <th>0</th>\n",
       "      <td>US</td>\n",
       "      <td>91794811</td>\n",
       "      <td>1032097</td>\n",
       "      <td>91589086</td>\n",
       "      <td>1030982</td>\n",
       "      <td>205725</td>\n",
       "      <td>1115</td>\n",
       "      <td>1.1</td>\n",
       "      <td>North America</td>\n",
       "    </tr>\n",
       "    <tr>\n",
       "      <th>1</th>\n",
       "      <td>India</td>\n",
       "      <td>44087037</td>\n",
       "      <td>526530</td>\n",
       "      <td>44067144</td>\n",
       "      <td>526477</td>\n",
       "      <td>19893</td>\n",
       "      <td>53</td>\n",
       "      <td>1.2</td>\n",
       "      <td>Asia</td>\n",
       "    </tr>\n",
       "    <tr>\n",
       "      <th>2</th>\n",
       "      <td>France</td>\n",
       "      <td>34172819</td>\n",
       "      <td>153410</td>\n",
       "      <td>34133344</td>\n",
       "      <td>153320</td>\n",
       "      <td>39475</td>\n",
       "      <td>90</td>\n",
       "      <td>0.4</td>\n",
       "      <td>Europe</td>\n",
       "    </tr>\n",
       "    <tr>\n",
       "      <th>3</th>\n",
       "      <td>Brazil</td>\n",
       "      <td>33924061</td>\n",
       "      <td>679275</td>\n",
       "      <td>33890428</td>\n",
       "      <td>679010</td>\n",
       "      <td>33633</td>\n",
       "      <td>265</td>\n",
       "      <td>2.0</td>\n",
       "      <td>South America</td>\n",
       "    </tr>\n",
       "    <tr>\n",
       "      <th>4</th>\n",
       "      <td>Germany</td>\n",
       "      <td>31119199</td>\n",
       "      <td>144552</td>\n",
       "      <td>31044554</td>\n",
       "      <td>144360</td>\n",
       "      <td>74645</td>\n",
       "      <td>192</td>\n",
       "      <td>0.5</td>\n",
       "      <td>Europe</td>\n",
       "    </tr>\n",
       "  </tbody>\n",
       "</table>\n",
       "</div>"
      ],
      "text/plain": [
       "  Country/Region     Cases   Deaths    PCases  PDeaths  Cases (+)  Deaths (+)  \\\n",
       "0             US  91794811  1032097  91589086  1030982     205725        1115   \n",
       "1          India  44087037   526530  44067144   526477      19893          53   \n",
       "2         France  34172819   153410  34133344   153320      39475          90   \n",
       "3         Brazil  33924061   679275  33890428   679010      33633         265   \n",
       "4        Germany  31119199   144552  31044554   144360      74645         192   \n",
       "\n",
       "   Fatality Rate      Continent  \n",
       "0            1.1  North America  \n",
       "1            1.2           Asia  \n",
       "2            0.4         Europe  \n",
       "3            2.0  South America  \n",
       "4            0.5         Europe  "
      ]
     },
     "execution_count": 15,
     "metadata": {},
     "output_type": "execute_result"
    }
   ],
   "source": [
    "#hide\n",
    "df_table = (pd.DataFrame(dict(Cases=dfc_cases, Deaths=dfc_deaths, PCases=dfp_cases, PDeaths=dfp_deaths))\n",
    "             .sort_values(by=['Cases', 'Deaths'], ascending=[False, False])\n",
    "             .reset_index())\n",
    "df_table.rename(columns={'index': 'Country/Region'}, inplace=True)\n",
    "for c in 'Cases, Deaths'.split(', '):\n",
    "    df_table[f'{c} (+)'] = (df_table[c] - df_table[f'P{c}']).clip(0)  # DATA BUG\n",
    "df_table['Fatality Rate'] = (100 * df_table['Deaths'] / df_table['Cases']).round(1)\n",
    "df_table['Continent'] = df_table['Country/Region'].map(mapping['map.continent'])\n",
    "df_table.head(5)"
   ]
  },
  {
   "cell_type": "code",
   "execution_count": 16,
   "id": "fewer-occasion",
   "metadata": {
    "execution": {
     "iopub.execute_input": "2022-08-04T12:16:16.955329Z",
     "iopub.status.busy": "2022-08-04T12:16:16.954766Z",
     "iopub.status.idle": "2022-08-04T12:16:16.959142Z",
     "shell.execute_reply": "2022-08-04T12:16:16.959569Z"
    },
    "papermill": {
     "duration": 0.037779,
     "end_time": "2022-08-04T12:16:16.959676",
     "exception": false,
     "start_time": "2022-08-04T12:16:16.921897",
     "status": "completed"
    },
    "tags": []
   },
   "outputs": [],
   "source": [
    "#hide\n",
    "#delete problematic countries from table\n",
    "df_table = df_table[~df_table['Country/Region'].isin(['Cape Verde', 'Cruise Ship', 'Kosovo'])]"
   ]
  },
  {
   "cell_type": "code",
   "execution_count": 17,
   "id": "related-center",
   "metadata": {
    "execution": {
     "iopub.execute_input": "2022-08-04T12:16:17.027528Z",
     "iopub.status.busy": "2022-08-04T12:16:17.026968Z",
     "iopub.status.idle": "2022-08-04T12:16:17.039498Z",
     "shell.execute_reply": "2022-08-04T12:16:17.039928Z"
    },
    "papermill": {
     "duration": 0.049481,
     "end_time": "2022-08-04T12:16:17.040038",
     "exception": false,
     "start_time": "2022-08-04T12:16:16.990557",
     "status": "completed"
    },
    "tags": []
   },
   "outputs": [],
   "source": [
    "#hide\n",
    "metrics = [df_table.columns[index] for index in [1,2,5,6]]\n",
    "# s_china = df_table[df_table['Country/Region'].eq('China')][metrics].sum().add_prefix('China ')\n",
    "s_us = df_table[df_table['Country/Region'].eq('US')][metrics].sum().add_prefix('US ')\n",
    "s_eu = df_table[df_table['Continent'].eq('Europe')][metrics].sum().add_prefix('EU ')\n",
    "s_ind = df_table[df_table['Country/Region'].eq('India')][metrics].sum().add_prefix('India ')\n",
    "summary = {'updated': pd.to_datetime(dt_today), 'since': pd.to_datetime(dt_yday)}\n",
    "summary = {'updated': pd.to_datetime(dt_today), 'since': pd.to_datetime(dt_yday)}\n",
    "summary = {**summary, **df_table[metrics].sum(), **s_ind, **s_us, **s_eu}"
   ]
  },
  {
   "cell_type": "code",
   "execution_count": 18,
   "id": "engaging-syndrome",
   "metadata": {
    "execution": {
     "iopub.execute_input": "2022-08-04T12:16:17.106253Z",
     "iopub.status.busy": "2022-08-04T12:16:17.105688Z",
     "iopub.status.idle": "2022-08-04T12:16:17.123987Z",
     "shell.execute_reply": "2022-08-04T12:16:17.123565Z"
    },
    "papermill": {
     "duration": 0.053238,
     "end_time": "2022-08-04T12:16:17.124086",
     "exception": false,
     "start_time": "2022-08-04T12:16:17.070848",
     "status": "completed"
    },
    "tags": []
   },
   "outputs": [],
   "source": [
    "#hide\n",
    "dft_ct_new_cases = dft_cases.groupby(COL_REGION)[dt_cols].sum().diff(axis=1).fillna(0).astype(int)"
   ]
  },
  {
   "cell_type": "code",
   "execution_count": 19,
   "id": "neutral-assignment",
   "metadata": {
    "execution": {
     "iopub.execute_input": "2022-08-04T12:16:17.191693Z",
     "iopub.status.busy": "2022-08-04T12:16:17.191131Z",
     "iopub.status.idle": "2022-08-04T12:16:17.193843Z",
     "shell.execute_reply": "2022-08-04T12:16:17.193384Z"
    },
    "papermill": {
     "duration": 0.038908,
     "end_time": "2022-08-04T12:16:17.193942",
     "exception": false,
     "start_time": "2022-08-04T12:16:17.155034",
     "status": "completed"
    },
    "tags": []
   },
   "outputs": [],
   "source": [
    "#hide\n",
    "everydaycases = dft_ct_new_cases.cumsum(axis=1)"
   ]
  },
  {
   "cell_type": "code",
   "execution_count": 20,
   "id": "parliamentary-calgary",
   "metadata": {
    "execution": {
     "iopub.execute_input": "2022-08-04T12:16:17.259803Z",
     "iopub.status.busy": "2022-08-04T12:16:17.259253Z",
     "iopub.status.idle": "2022-08-04T12:16:17.798285Z",
     "shell.execute_reply": "2022-08-04T12:16:17.797802Z"
    },
    "papermill": {
     "duration": 0.573424,
     "end_time": "2022-08-04T12:16:17.798402",
     "exception": false,
     "start_time": "2022-08-04T12:16:17.224978",
     "status": "completed"
    },
    "tags": []
   },
   "outputs": [],
   "source": [
    "#hide\n",
    "import pandas as pd\n",
    "import matplotlib.pyplot as plt\n",
    "import matplotlib.ticker as ticker\n",
    "import matplotlib.animation as animation\n",
    "from IPython.display import HTML"
   ]
  },
  {
   "cell_type": "code",
   "execution_count": 21,
   "id": "lasting-extraction",
   "metadata": {
    "execution": {
     "iopub.execute_input": "2022-08-04T12:16:17.866333Z",
     "iopub.status.busy": "2022-08-04T12:16:17.865756Z",
     "iopub.status.idle": "2022-08-04T12:16:17.872394Z",
     "shell.execute_reply": "2022-08-04T12:16:17.871958Z"
    },
    "papermill": {
     "duration": 0.042952,
     "end_time": "2022-08-04T12:16:17.872491",
     "exception": false,
     "start_time": "2022-08-04T12:16:17.829539",
     "status": "completed"
    },
    "tags": []
   },
   "outputs": [],
   "source": [
    "#hide\n",
    "t = everydaycases.stack()"
   ]
  },
  {
   "cell_type": "code",
   "execution_count": 22,
   "id": "premier-sleeve",
   "metadata": {
    "execution": {
     "iopub.execute_input": "2022-08-04T12:16:17.938152Z",
     "iopub.status.busy": "2022-08-04T12:16:17.937590Z",
     "iopub.status.idle": "2022-08-04T12:16:17.948291Z",
     "shell.execute_reply": "2022-08-04T12:16:17.948691Z"
    },
    "papermill": {
     "duration": 0.04525,
     "end_time": "2022-08-04T12:16:17.948803",
     "exception": false,
     "start_time": "2022-08-04T12:16:17.903553",
     "status": "completed"
    },
    "tags": []
   },
   "outputs": [],
   "source": [
    "#hide\n",
    "g = t.reset_index(['Country/Region'])"
   ]
  },
  {
   "cell_type": "code",
   "execution_count": 23,
   "id": "distributed-pittsburgh",
   "metadata": {
    "execution": {
     "iopub.execute_input": "2022-08-04T12:16:18.014325Z",
     "iopub.status.busy": "2022-08-04T12:16:18.013751Z",
     "iopub.status.idle": "2022-08-04T12:16:18.016189Z",
     "shell.execute_reply": "2022-08-04T12:16:18.015665Z"
    },
    "papermill": {
     "duration": 0.036627,
     "end_time": "2022-08-04T12:16:18.016285",
     "exception": false,
     "start_time": "2022-08-04T12:16:17.979658",
     "status": "completed"
    },
    "tags": []
   },
   "outputs": [],
   "source": [
    "#hide\n",
    "g.index.name = 'date'"
   ]
  },
  {
   "cell_type": "code",
   "execution_count": 24,
   "id": "naked-donor",
   "metadata": {
    "execution": {
     "iopub.execute_input": "2022-08-04T12:16:18.081413Z",
     "iopub.status.busy": "2022-08-04T12:16:18.080862Z",
     "iopub.status.idle": "2022-08-04T12:16:18.084426Z",
     "shell.execute_reply": "2022-08-04T12:16:18.083888Z"
    },
    "papermill": {
     "duration": 0.037356,
     "end_time": "2022-08-04T12:16:18.084522",
     "exception": false,
     "start_time": "2022-08-04T12:16:18.047166",
     "status": "completed"
    },
    "tags": []
   },
   "outputs": [],
   "source": [
    "# #hide\n",
    "# g = g.reset_index(['date'])"
   ]
  },
  {
   "cell_type": "code",
   "execution_count": 25,
   "id": "incomplete-mustang",
   "metadata": {
    "execution": {
     "iopub.execute_input": "2022-08-04T12:16:18.149394Z",
     "iopub.status.busy": "2022-08-04T12:16:18.148818Z",
     "iopub.status.idle": "2022-08-04T12:16:18.151262Z",
     "shell.execute_reply": "2022-08-04T12:16:18.150799Z"
    },
    "papermill": {
     "duration": 0.036011,
     "end_time": "2022-08-04T12:16:18.151355",
     "exception": false,
     "start_time": "2022-08-04T12:16:18.115344",
     "status": "completed"
    },
    "tags": []
   },
   "outputs": [],
   "source": [
    "#hide\n",
    "# g.head()"
   ]
  },
  {
   "cell_type": "code",
   "execution_count": 26,
   "id": "specific-kruger",
   "metadata": {
    "execution": {
     "iopub.execute_input": "2022-08-04T12:16:18.216360Z",
     "iopub.status.busy": "2022-08-04T12:16:18.215810Z",
     "iopub.status.idle": "2022-08-04T12:16:18.218049Z",
     "shell.execute_reply": "2022-08-04T12:16:18.217590Z"
    },
    "papermill": {
     "duration": 0.035814,
     "end_time": "2022-08-04T12:16:18.218144",
     "exception": false,
     "start_time": "2022-08-04T12:16:18.182330",
     "status": "completed"
    },
    "tags": []
   },
   "outputs": [],
   "source": [
    "#hide\n",
    "# g.columns = ['date','country','cases']"
   ]
  },
  {
   "cell_type": "code",
   "execution_count": 27,
   "id": "tender-conversion",
   "metadata": {
    "execution": {
     "iopub.execute_input": "2022-08-04T12:16:18.282885Z",
     "iopub.status.busy": "2022-08-04T12:16:18.282326Z",
     "iopub.status.idle": "2022-08-04T12:16:18.284753Z",
     "shell.execute_reply": "2022-08-04T12:16:18.284293Z"
    },
    "papermill": {
     "duration": 0.036018,
     "end_time": "2022-08-04T12:16:18.284850",
     "exception": false,
     "start_time": "2022-08-04T12:16:18.248832",
     "status": "completed"
    },
    "tags": []
   },
   "outputs": [],
   "source": [
    "#hide\n",
    "# g['continent'] = g.country"
   ]
  },
  {
   "cell_type": "code",
   "execution_count": 28,
   "id": "substantial-wilderness",
   "metadata": {
    "execution": {
     "iopub.execute_input": "2022-08-04T12:16:18.350272Z",
     "iopub.status.busy": "2022-08-04T12:16:18.349698Z",
     "iopub.status.idle": "2022-08-04T12:16:18.352039Z",
     "shell.execute_reply": "2022-08-04T12:16:18.351513Z"
    },
    "papermill": {
     "duration": 0.036348,
     "end_time": "2022-08-04T12:16:18.352134",
     "exception": false,
     "start_time": "2022-08-04T12:16:18.315786",
     "status": "completed"
    },
    "tags": []
   },
   "outputs": [],
   "source": [
    "#hide\n",
    "# cols = list(g.columns.values)"
   ]
  },
  {
   "cell_type": "code",
   "execution_count": 29,
   "id": "solved-farming",
   "metadata": {
    "execution": {
     "iopub.execute_input": "2022-08-04T12:16:18.417153Z",
     "iopub.status.busy": "2022-08-04T12:16:18.416591Z",
     "iopub.status.idle": "2022-08-04T12:16:18.419071Z",
     "shell.execute_reply": "2022-08-04T12:16:18.418549Z"
    },
    "papermill": {
     "duration": 0.036217,
     "end_time": "2022-08-04T12:16:18.419167",
     "exception": false,
     "start_time": "2022-08-04T12:16:18.382950",
     "status": "completed"
    },
    "tags": []
   },
   "outputs": [],
   "source": [
    "#hide\n",
    "# cols.insert(0, cols.pop())"
   ]
  },
  {
   "cell_type": "code",
   "execution_count": 30,
   "id": "executed-adoption",
   "metadata": {
    "execution": {
     "iopub.execute_input": "2022-08-04T12:16:18.484585Z",
     "iopub.status.busy": "2022-08-04T12:16:18.484021Z",
     "iopub.status.idle": "2022-08-04T12:16:18.486476Z",
     "shell.execute_reply": "2022-08-04T12:16:18.486030Z"
    },
    "papermill": {
     "duration": 0.036484,
     "end_time": "2022-08-04T12:16:18.486592",
     "exception": false,
     "start_time": "2022-08-04T12:16:18.450108",
     "status": "completed"
    },
    "tags": []
   },
   "outputs": [],
   "source": [
    "#hide\n",
    "# g = g[cols]"
   ]
  },
  {
   "cell_type": "code",
   "execution_count": 31,
   "id": "subject-dublin",
   "metadata": {
    "execution": {
     "iopub.execute_input": "2022-08-04T12:16:18.551675Z",
     "iopub.status.busy": "2022-08-04T12:16:18.551107Z",
     "iopub.status.idle": "2022-08-04T12:16:18.553646Z",
     "shell.execute_reply": "2022-08-04T12:16:18.553143Z"
    },
    "papermill": {
     "duration": 0.035946,
     "end_time": "2022-08-04T12:16:18.553743",
     "exception": false,
     "start_time": "2022-08-04T12:16:18.517797",
     "status": "completed"
    },
    "tags": []
   },
   "outputs": [],
   "source": [
    "#hide\n",
    "# g['continent'] = g['continent'].map(mapping['map.continent'])"
   ]
  },
  {
   "cell_type": "code",
   "execution_count": 32,
   "id": "freelance-scout",
   "metadata": {
    "execution": {
     "iopub.execute_input": "2022-08-04T12:16:18.619063Z",
     "iopub.status.busy": "2022-08-04T12:16:18.618499Z",
     "iopub.status.idle": "2022-08-04T12:16:18.620836Z",
     "shell.execute_reply": "2022-08-04T12:16:18.620315Z"
    },
    "papermill": {
     "duration": 0.03613,
     "end_time": "2022-08-04T12:16:18.620930",
     "exception": false,
     "start_time": "2022-08-04T12:16:18.584800",
     "status": "completed"
    },
    "tags": []
   },
   "outputs": [],
   "source": [
    "#hide\n",
    "# g.head()"
   ]
  },
  {
   "cell_type": "code",
   "execution_count": 33,
   "id": "limited-engine",
   "metadata": {
    "execution": {
     "iopub.execute_input": "2022-08-04T12:16:18.685947Z",
     "iopub.status.busy": "2022-08-04T12:16:18.685354Z",
     "iopub.status.idle": "2022-08-04T12:16:18.687720Z",
     "shell.execute_reply": "2022-08-04T12:16:18.687283Z"
    },
    "papermill": {
     "duration": 0.036121,
     "end_time": "2022-08-04T12:16:18.687813",
     "exception": false,
     "start_time": "2022-08-04T12:16:18.651692",
     "status": "completed"
    },
    "tags": []
   },
   "outputs": [],
   "source": [
    "# hide\n",
    "# g['date'] = g['date'].astype('datetime64[ns]')"
   ]
  },
  {
   "cell_type": "code",
   "execution_count": 34,
   "id": "sophisticated-supervisor",
   "metadata": {
    "execution": {
     "iopub.execute_input": "2022-08-04T12:16:18.752924Z",
     "iopub.status.busy": "2022-08-04T12:16:18.752352Z",
     "iopub.status.idle": "2022-08-04T12:16:18.754769Z",
     "shell.execute_reply": "2022-08-04T12:16:18.754335Z"
    },
    "papermill": {
     "duration": 0.036089,
     "end_time": "2022-08-04T12:16:18.754861",
     "exception": false,
     "start_time": "2022-08-04T12:16:18.718772",
     "status": "completed"
    },
    "tags": []
   },
   "outputs": [],
   "source": [
    "#hide\n",
    "# g['date'] = g.date.dt.dayofyear"
   ]
  },
  {
   "cell_type": "code",
   "execution_count": 35,
   "id": "inside-dubai",
   "metadata": {
    "execution": {
     "iopub.execute_input": "2022-08-04T12:16:18.819500Z",
     "iopub.status.busy": "2022-08-04T12:16:18.818942Z",
     "iopub.status.idle": "2022-08-04T12:16:18.821377Z",
     "shell.execute_reply": "2022-08-04T12:16:18.820931Z"
    },
    "papermill": {
     "duration": 0.03582,
     "end_time": "2022-08-04T12:16:18.821488",
     "exception": false,
     "start_time": "2022-08-04T12:16:18.785668",
     "status": "completed"
    },
    "tags": []
   },
   "outputs": [],
   "source": [
    "#hide\n",
    "# g = g.rename(columns= {'continent':'group','country':'name','cases':'value'})"
   ]
  },
  {
   "cell_type": "code",
   "execution_count": 36,
   "id": "fleet-motorcycle",
   "metadata": {
    "execution": {
     "iopub.execute_input": "2022-08-04T12:16:18.886337Z",
     "iopub.status.busy": "2022-08-04T12:16:18.885769Z",
     "iopub.status.idle": "2022-08-04T12:16:18.888127Z",
     "shell.execute_reply": "2022-08-04T12:16:18.887694Z"
    },
    "papermill": {
     "duration": 0.035785,
     "end_time": "2022-08-04T12:16:18.888222",
     "exception": false,
     "start_time": "2022-08-04T12:16:18.852437",
     "status": "completed"
    },
    "tags": []
   },
   "outputs": [],
   "source": [
    "#hide\n",
    "# cols = ['name','group','day','value']"
   ]
  },
  {
   "cell_type": "code",
   "execution_count": 37,
   "id": "continued-sleeping",
   "metadata": {
    "execution": {
     "iopub.execute_input": "2022-08-04T12:16:18.953118Z",
     "iopub.status.busy": "2022-08-04T12:16:18.952567Z",
     "iopub.status.idle": "2022-08-04T12:16:18.954882Z",
     "shell.execute_reply": "2022-08-04T12:16:18.954360Z"
    },
    "papermill": {
     "duration": 0.035787,
     "end_time": "2022-08-04T12:16:18.954977",
     "exception": false,
     "start_time": "2022-08-04T12:16:18.919190",
     "status": "completed"
    },
    "tags": []
   },
   "outputs": [],
   "source": [
    "#hide\n",
    "# g.rename(columns= {'date':'day'},inplace = True)"
   ]
  },
  {
   "cell_type": "code",
   "execution_count": 38,
   "id": "major-fight",
   "metadata": {
    "execution": {
     "iopub.execute_input": "2022-08-04T12:16:19.020352Z",
     "iopub.status.busy": "2022-08-04T12:16:19.019774Z",
     "iopub.status.idle": "2022-08-04T12:16:19.022444Z",
     "shell.execute_reply": "2022-08-04T12:16:19.021954Z"
    },
    "papermill": {
     "duration": 0.03654,
     "end_time": "2022-08-04T12:16:19.022540",
     "exception": false,
     "start_time": "2022-08-04T12:16:18.986000",
     "status": "completed"
    },
    "tags": []
   },
   "outputs": [],
   "source": [
    "#hide\n",
    "# g = g[cols]"
   ]
  },
  {
   "cell_type": "code",
   "execution_count": 39,
   "id": "structured-mobile",
   "metadata": {
    "execution": {
     "iopub.execute_input": "2022-08-04T12:16:19.087643Z",
     "iopub.status.busy": "2022-08-04T12:16:19.087069Z",
     "iopub.status.idle": "2022-08-04T12:16:19.089505Z",
     "shell.execute_reply": "2022-08-04T12:16:19.089039Z"
    },
    "papermill": {
     "duration": 0.036235,
     "end_time": "2022-08-04T12:16:19.089603",
     "exception": false,
     "start_time": "2022-08-04T12:16:19.053368",
     "status": "completed"
    },
    "tags": []
   },
   "outputs": [],
   "source": [
    "# #hide\n",
    "# g = g[g.group.notna()]"
   ]
  },
  {
   "cell_type": "code",
   "execution_count": 40,
   "id": "determined-closing",
   "metadata": {
    "execution": {
     "iopub.execute_input": "2022-08-04T12:16:19.154714Z",
     "iopub.status.busy": "2022-08-04T12:16:19.154150Z",
     "iopub.status.idle": "2022-08-04T12:16:19.156485Z",
     "shell.execute_reply": "2022-08-04T12:16:19.156055Z"
    },
    "papermill": {
     "duration": 0.03596,
     "end_time": "2022-08-04T12:16:19.156580",
     "exception": false,
     "start_time": "2022-08-04T12:16:19.120620",
     "status": "completed"
    },
    "tags": []
   },
   "outputs": [],
   "source": [
    "# #hide\n",
    "# colors = dict(zip(\n",
    "#     [\"Oceania\", \"Europe\", \"Asia\", \"South America\", \"Middle East\", \"North America\", \"Africa\"],\n",
    "#     [\"#adb0ff\", \"#ffb3ff\", \"#90d595\", \"#e48381\", \"#aafbff\", \"#f7bb5f\", \"#eafb50\"]\n",
    "# ))\n",
    "# group_lk = g.set_index('name')['group'].to_dict()"
   ]
  },
  {
   "cell_type": "code",
   "execution_count": null,
   "id": "gross-drinking",
   "metadata": {
    "papermill": {
     "duration": 0.03075,
     "end_time": "2022-08-04T12:16:19.217961",
     "exception": false,
     "start_time": "2022-08-04T12:16:19.187211",
     "status": "completed"
    },
    "tags": []
   },
   "outputs": [],
   "source": []
  },
  {
   "cell_type": "code",
   "execution_count": 41,
   "id": "subject-macintosh",
   "metadata": {
    "execution": {
     "iopub.execute_input": "2022-08-04T12:16:19.283989Z",
     "iopub.status.busy": "2022-08-04T12:16:19.283392Z",
     "iopub.status.idle": "2022-08-04T12:16:19.285860Z",
     "shell.execute_reply": "2022-08-04T12:16:19.285391Z"
    },
    "papermill": {
     "duration": 0.036785,
     "end_time": "2022-08-04T12:16:19.285959",
     "exception": false,
     "start_time": "2022-08-04T12:16:19.249174",
     "status": "completed"
    },
    "tags": []
   },
   "outputs": [],
   "source": [
    "# #hide\n",
    "# fig, ax = plt.subplots(figsize=(15, 8))\n",
    "\n",
    "# def draw_barchart(current_day):\n",
    "#     dff = g[g['day'].eq(current_day)].sort_values(by='value', ascending=True).tail(10)\n",
    "#     ax.clear()\n",
    "#     ax.barh(dff['name'], dff['value'], color=[colors[group_lk[x]] for x in dff['name']])\n",
    "#     dx = dff['value'].max() / 200\n",
    "    \n",
    "#     for i, (value, name) in enumerate(zip(dff['value'], dff['name'])):\n",
    "#         ax.text(value-dx, i,     name,           size=14, weight=600, ha='right', va='bottom')\n",
    "#         ax.text(value-dx, i-.25, group_lk[name], size=10, color='#444444', ha='right', va='baseline')\n",
    "#         ax.text(value+dx, i,     f'{value:,.0f}',  size=14, ha='left',  va='center')\n",
    "#     ax.text(1, 0.4, current_day, transform=ax.transAxes, color='#777777', size=46, ha='right', weight=800)\n",
    "#     ax.text(0, 1.06, 'Population (thousands)', transform=ax.transAxes, size=12, color='#777777')\n",
    "#     ax.xaxis.set_major_formatter(ticker.StrMethodFormatter('{x:,.0f}'))\n",
    "#     ax.xaxis.set_ticks_position('top')\n",
    "#     ax.tick_params(axis='x', colors='#777777', labelsize=12)\n",
    "#     ax.set_yticks([])\n",
    "#     ax.margins(0, 0.01)\n",
    "#     ax.grid(which='major', axis='x', linestyle='-')\n",
    "#     ax.set_axisbelow(True)\n",
    "    \n",
    "#     ax.text(0, 1.15, 'Coronavirus',\n",
    "#             transform=ax.transAxes, size=24, weight=600, ha='left', va='top')\n",
    "# #     ax.text(1, 0, 'by @pratapvardhan; credit @jburnmurdoch', transform=ax.transAxes, color='#777777', ha='right',\n",
    "# #             bbox=dict(facecolor='white', alpha=0.8, edgecolor='white'))\n",
    "#     plt.box(False)"
   ]
  },
  {
   "cell_type": "code",
   "execution_count": 42,
   "id": "sexual-wages",
   "metadata": {
    "execution": {
     "iopub.execute_input": "2022-08-04T12:16:19.350918Z",
     "iopub.status.busy": "2022-08-04T12:16:19.350359Z",
     "iopub.status.idle": "2022-08-04T12:16:19.352750Z",
     "shell.execute_reply": "2022-08-04T12:16:19.352313Z"
    },
    "papermill": {
     "duration": 0.036068,
     "end_time": "2022-08-04T12:16:19.352844",
     "exception": false,
     "start_time": "2022-08-04T12:16:19.316776",
     "status": "completed"
    },
    "tags": []
   },
   "outputs": [],
   "source": [
    "# #hide_input\n",
    "# fig, ax = plt.subplots(figsize=(15, 8))\n",
    "# animator = animation.FuncAnimation(fig, draw_barchart, frames=range(g.day.values.min(), g.day.values.max()))\n",
    "# HTML(animator.to_jshtml())\n",
    "# # or use animator.to_html5_video() or animator.save() "
   ]
  },
  {
   "cell_type": "code",
   "execution_count": null,
   "id": "australian-container",
   "metadata": {
    "papermill": {
     "duration": 0.030967,
     "end_time": "2022-08-04T12:16:19.414865",
     "exception": false,
     "start_time": "2022-08-04T12:16:19.383898",
     "status": "completed"
    },
    "tags": []
   },
   "outputs": [],
   "source": []
  },
  {
   "cell_type": "code",
   "execution_count": null,
   "id": "mediterranean-pontiac",
   "metadata": {
    "papermill": {
     "duration": 0.030646,
     "end_time": "2022-08-04T12:16:19.476235",
     "exception": false,
     "start_time": "2022-08-04T12:16:19.445589",
     "status": "completed"
    },
    "tags": []
   },
   "outputs": [],
   "source": []
  },
  {
   "cell_type": "code",
   "execution_count": null,
   "id": "aging-legislature",
   "metadata": {
    "papermill": {
     "duration": 0.03081,
     "end_time": "2022-08-04T12:16:19.538369",
     "exception": false,
     "start_time": "2022-08-04T12:16:19.507559",
     "status": "completed"
    },
    "tags": []
   },
   "outputs": [],
   "source": []
  }
 ],
 "metadata": {
  "kernelspec": {
   "display_name": "Python 3",
   "language": "python",
   "name": "python3"
  },
  "language_info": {
   "codemirror_mode": {
    "name": "ipython",
    "version": 3
   },
   "file_extension": ".py",
   "mimetype": "text/x-python",
   "name": "python",
   "nbconvert_exporter": "python",
   "pygments_lexer": "ipython3",
   "version": "3.6.15"
  },
  "papermill": {
   "duration": 5.685553,
   "end_time": "2022-08-04T12:16:19.887616",
   "environment_variables": {},
   "exception": null,
   "input_path": "2020-03-21-covid19exp.ipynb",
   "output_path": "2020-03-21-covid19exp.ipynb",
   "parameters": {},
   "start_time": "2022-08-04T12:16:14.202063",
   "version": "2.0.0"
  }
 },
 "nbformat": 4,
 "nbformat_minor": 5
}