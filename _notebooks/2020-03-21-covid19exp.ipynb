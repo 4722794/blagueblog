{
 "cells": [
  {
   "cell_type": "markdown",
   "id": "muslim-click",
   "metadata": {
    "papermill": {
     "duration": 0.037307,
     "end_time": "2022-02-11T12:12:02.482157",
     "exception": false,
     "start_time": "2022-02-11T12:12:02.444850",
     "status": "completed"
    },
    "tags": []
   },
   "source": [
    "# COVID-19 Case Race\n",
    "> A race chart to see rising cases around the world\n",
    "\n",
    "- author: Hargun Oberoi\n",
    "- image: images/covid-overview.png\n",
    "- hide: false\n",
    "- badges: false"
   ]
  },
  {
   "cell_type": "code",
   "execution_count": 1,
   "id": "proof-material",
   "metadata": {
    "execution": {
     "iopub.execute_input": "2022-02-11T12:12:02.563772Z",
     "iopub.status.busy": "2022-02-11T12:12:02.563036Z",
     "iopub.status.idle": "2022-02-11T12:12:02.917332Z",
     "shell.execute_reply": "2022-02-11T12:12:02.916432Z"
    },
    "papermill": {
     "duration": 0.399496,
     "end_time": "2022-02-11T12:12:02.917482",
     "exception": false,
     "start_time": "2022-02-11T12:12:02.517986",
     "status": "completed"
    },
    "tags": []
   },
   "outputs": [],
   "source": [
    "#hide\n",
    "import numpy as np\n",
    "import pandas as pd\n",
    "from jinja2 import Template\n",
    "from IPython.display import HTML"
   ]
  },
  {
   "cell_type": "code",
   "execution_count": 2,
   "id": "developed-terminology",
   "metadata": {
    "execution": {
     "iopub.execute_input": "2022-02-11T12:12:02.988361Z",
     "iopub.status.busy": "2022-02-11T12:12:02.987750Z",
     "iopub.status.idle": "2022-02-11T12:12:02.989902Z",
     "shell.execute_reply": "2022-02-11T12:12:02.989316Z"
    },
    "papermill": {
     "duration": 0.03944,
     "end_time": "2022-02-11T12:12:02.990018",
     "exception": false,
     "start_time": "2022-02-11T12:12:02.950578",
     "status": "completed"
    },
    "tags": []
   },
   "outputs": [],
   "source": [
    "#hide\n",
    "\n",
    "# FETCH\n",
    "base_url = 'https://raw.githubusercontent.com/pratapvardhan/notebooks/master/covid19/'\n",
    "paths = {\n",
    "    'mapping': base_url + 'mapping_countries.csv',\n",
    "    'overview': base_url + 'overview.tpl'\n",
    "}"
   ]
  },
  {
   "cell_type": "code",
   "execution_count": 3,
   "id": "dynamic-saver",
   "metadata": {
    "execution": {
     "iopub.execute_input": "2022-02-11T12:12:03.074401Z",
     "iopub.status.busy": "2022-02-11T12:12:03.073735Z",
     "iopub.status.idle": "2022-02-11T12:12:03.077147Z",
     "shell.execute_reply": "2022-02-11T12:12:03.076600Z"
    },
    "papermill": {
     "duration": 0.051608,
     "end_time": "2022-02-11T12:12:03.077346",
     "exception": false,
     "start_time": "2022-02-11T12:12:03.025738",
     "status": "completed"
    },
    "tags": []
   },
   "outputs": [
    {
     "data": {
      "text/plain": [
       "'https://raw.githubusercontent.com/pratapvardhan/notebooks/master/covid19/mapping_countries.csv'"
      ]
     },
     "execution_count": 3,
     "metadata": {},
     "output_type": "execute_result"
    }
   ],
   "source": [
    "#hide\n",
    "paths['mapping']"
   ]
  },
  {
   "cell_type": "code",
   "execution_count": 4,
   "id": "urban-software",
   "metadata": {
    "execution": {
     "iopub.execute_input": "2022-02-11T12:12:03.154166Z",
     "iopub.status.busy": "2022-02-11T12:12:03.153500Z",
     "iopub.status.idle": "2022-02-11T12:12:03.156283Z",
     "shell.execute_reply": "2022-02-11T12:12:03.155740Z"
    },
    "papermill": {
     "duration": 0.0427,
     "end_time": "2022-02-11T12:12:03.156401",
     "exception": false,
     "start_time": "2022-02-11T12:12:03.113701",
     "status": "completed"
    },
    "tags": []
   },
   "outputs": [],
   "source": [
    "#hide\n",
    "def get_mappings(url):\n",
    "    df = pd.read_csv(url)\n",
    "    return {\n",
    "        'df': df,\n",
    "        'replace.country': dict(df.dropna(subset=['Name']).set_index('Country')['Name']),\n",
    "        'map.continent': dict(df.set_index('Name')['Continent'])\n",
    "    }"
   ]
  },
  {
   "cell_type": "code",
   "execution_count": 5,
   "id": "intimate-machinery",
   "metadata": {
    "execution": {
     "iopub.execute_input": "2022-02-11T12:12:03.230570Z",
     "iopub.status.busy": "2022-02-11T12:12:03.229939Z",
     "iopub.status.idle": "2022-02-11T12:12:03.266857Z",
     "shell.execute_reply": "2022-02-11T12:12:03.267369Z"
    },
    "papermill": {
     "duration": 0.076611,
     "end_time": "2022-02-11T12:12:03.267519",
     "exception": false,
     "start_time": "2022-02-11T12:12:03.190908",
     "status": "completed"
    },
    "tags": []
   },
   "outputs": [],
   "source": [
    "#hide\n",
    "mapping = get_mappings(paths['mapping'])"
   ]
  },
  {
   "cell_type": "code",
   "execution_count": 6,
   "id": "certified-tactics",
   "metadata": {
    "execution": {
     "iopub.execute_input": "2022-02-11T12:12:03.342997Z",
     "iopub.status.busy": "2022-02-11T12:12:03.342302Z",
     "iopub.status.idle": "2022-02-11T12:12:03.344499Z",
     "shell.execute_reply": "2022-02-11T12:12:03.345103Z"
    },
    "papermill": {
     "duration": 0.043098,
     "end_time": "2022-02-11T12:12:03.345260",
     "exception": false,
     "start_time": "2022-02-11T12:12:03.302162",
     "status": "completed"
    },
    "tags": []
   },
   "outputs": [],
   "source": [
    "#hide\n",
    "def get_template(path):\n",
    "    from urllib.parse import urlparse\n",
    "    if bool(urlparse(path).netloc):\n",
    "        from urllib.request import urlopen\n",
    "        return urlopen(path).read().decode('utf8')\n",
    "    return open(path).read()"
   ]
  },
  {
   "cell_type": "code",
   "execution_count": 7,
   "id": "realistic-blast",
   "metadata": {
    "execution": {
     "iopub.execute_input": "2022-02-11T12:12:03.419824Z",
     "iopub.status.busy": "2022-02-11T12:12:03.419087Z",
     "iopub.status.idle": "2022-02-11T12:12:03.421572Z",
     "shell.execute_reply": "2022-02-11T12:12:03.422224Z"
    },
    "papermill": {
     "duration": 0.041972,
     "end_time": "2022-02-11T12:12:03.422385",
     "exception": false,
     "start_time": "2022-02-11T12:12:03.380413",
     "status": "completed"
    },
    "tags": []
   },
   "outputs": [],
   "source": [
    "#hide\n",
    "def get_frame(name):\n",
    "    url = (\n",
    "        'https://raw.githubusercontent.com/CSSEGISandData/COVID-19/master/csse_covid_19_data/'\n",
    "        f'csse_covid_19_time_series/time_series_covid19_{name}_global.csv')\n",
    "    df = pd.read_csv(url)\n",
    "    # rename countries\n",
    "    df['Country/Region'] = df['Country/Region'].replace(mapping['replace.country'])\n",
    "    return df"
   ]
  },
  {
   "cell_type": "code",
   "execution_count": 8,
   "id": "affiliated-characterization",
   "metadata": {
    "execution": {
     "iopub.execute_input": "2022-02-11T12:12:03.500829Z",
     "iopub.status.busy": "2022-02-11T12:12:03.500127Z",
     "iopub.status.idle": "2022-02-11T12:12:03.503720Z",
     "shell.execute_reply": "2022-02-11T12:12:03.504602Z"
    },
    "papermill": {
     "duration": 0.045174,
     "end_time": "2022-02-11T12:12:03.504756",
     "exception": false,
     "start_time": "2022-02-11T12:12:03.459582",
     "status": "completed"
    },
    "tags": []
   },
   "outputs": [],
   "source": [
    "#hide\n",
    "def get_dates(df):\n",
    "    dt_cols = df.columns[~df.columns.isin(['Province/State', 'Country/Region', 'Lat', 'Long'])]\n",
    "    LAST_DATE_I = -1\n",
    "    # sometimes last column may be empty, then go backwards\n",
    "    for i in range(-1, -len(dt_cols), -1):\n",
    "        if not df[dt_cols[i]].fillna(0).eq(0).all():\n",
    "            LAST_DATE_I = i\n",
    "            break\n",
    "    return LAST_DATE_I, dt_cols"
   ]
  },
  {
   "cell_type": "code",
   "execution_count": 9,
   "id": "recent-optimization",
   "metadata": {
    "execution": {
     "iopub.execute_input": "2022-02-11T12:12:03.586056Z",
     "iopub.status.busy": "2022-02-11T12:12:03.585360Z",
     "iopub.status.idle": "2022-02-11T12:12:04.033637Z",
     "shell.execute_reply": "2022-02-11T12:12:04.032638Z"
    },
    "papermill": {
     "duration": 0.491009,
     "end_time": "2022-02-11T12:12:04.033769",
     "exception": false,
     "start_time": "2022-02-11T12:12:03.542760",
     "status": "completed"
    },
    "tags": []
   },
   "outputs": [],
   "source": [
    "#hide\n",
    "COL_REGION = 'Country/Region'\n",
    "# Confirmed, Recovered, Deaths\n",
    "df = get_frame('confirmed')\n",
    "# dft_: timeseries, dfc_: today country agg\n",
    "dft_cases = df\n",
    "dft_deaths = get_frame('deaths')\n",
    "dft_recovered = get_frame('recovered')\n",
    "LAST_DATE_I, dt_cols = get_dates(df)"
   ]
  },
  {
   "cell_type": "code",
   "execution_count": 10,
   "id": "absolute-copper",
   "metadata": {
    "execution": {
     "iopub.execute_input": "2022-02-11T12:12:04.110893Z",
     "iopub.status.busy": "2022-02-11T12:12:04.110190Z",
     "iopub.status.idle": "2022-02-11T12:12:04.112738Z",
     "shell.execute_reply": "2022-02-11T12:12:04.112110Z"
    },
    "papermill": {
     "duration": 0.044108,
     "end_time": "2022-02-11T12:12:04.112857",
     "exception": false,
     "start_time": "2022-02-11T12:12:04.068749",
     "status": "completed"
    },
    "tags": []
   },
   "outputs": [],
   "source": [
    "#hide\n",
    "LAST_DATE_I, dt_cols = get_dates(df)\n",
    "dt_today =dt_cols[LAST_DATE_I]\n",
    "# dt_5day = dt_cols[LAST_DATE_I - 5]\n",
    "dt_yday = dt_cols[LAST_DATE_I - 1]"
   ]
  },
  {
   "cell_type": "code",
   "execution_count": 11,
   "id": "restricted-sheriff",
   "metadata": {
    "execution": {
     "iopub.execute_input": "2022-02-11T12:12:04.189348Z",
     "iopub.status.busy": "2022-02-11T12:12:04.188730Z",
     "iopub.status.idle": "2022-02-11T12:12:04.194356Z",
     "shell.execute_reply": "2022-02-11T12:12:04.193857Z"
    },
    "papermill": {
     "duration": 0.046811,
     "end_time": "2022-02-11T12:12:04.194468",
     "exception": false,
     "start_time": "2022-02-11T12:12:04.147657",
     "status": "completed"
    },
    "tags": []
   },
   "outputs": [],
   "source": [
    "#hide\n",
    "dfc_cases = dft_cases.groupby(COL_REGION)[dt_today].sum()\n",
    "dfc_deaths = dft_deaths.groupby(COL_REGION)[dt_today].sum()\n",
    "# dfp_cases = dft_cases.groupby(COL_REGION)[dt_5day].sum()\n",
    "# dfp_deaths = dft_deaths.groupby(COL_REGION)[dt_5day].sum()\n",
    "dfp_cases = dft_cases.groupby(COL_REGION)[dt_yday].sum()\n",
    "dfp_deaths = dft_deaths.groupby(COL_REGION)[dt_yday].sum()"
   ]
  },
  {
   "cell_type": "code",
   "execution_count": 12,
   "id": "deluxe-hepatitis",
   "metadata": {
    "execution": {
     "iopub.execute_input": "2022-02-11T12:12:04.272946Z",
     "iopub.status.busy": "2022-02-11T12:12:04.272293Z",
     "iopub.status.idle": "2022-02-11T12:12:04.277603Z",
     "shell.execute_reply": "2022-02-11T12:12:04.277048Z"
    },
    "papermill": {
     "duration": 0.04831,
     "end_time": "2022-02-11T12:12:04.277750",
     "exception": false,
     "start_time": "2022-02-11T12:12:04.229440",
     "status": "completed"
    },
    "tags": []
   },
   "outputs": [],
   "source": [
    "#hide\n",
    "df_table = (pd.DataFrame(dict(Cases = dfc_cases, Deaths = dfc_deaths, PCases = dfp_cases, PDeaths = dfp_deaths))\n",
    "            .sort_values(by = ['Cases','Deaths'], ascending = [False, False])\n",
    "            .reset_index())"
   ]
  },
  {
   "cell_type": "code",
   "execution_count": 13,
   "id": "educational-chancellor",
   "metadata": {
    "execution": {
     "iopub.execute_input": "2022-02-11T12:12:04.374887Z",
     "iopub.status.busy": "2022-02-11T12:12:04.374199Z",
     "iopub.status.idle": "2022-02-11T12:12:04.385204Z",
     "shell.execute_reply": "2022-02-11T12:12:04.385716Z"
    },
    "papermill": {
     "duration": 0.071428,
     "end_time": "2022-02-11T12:12:04.385891",
     "exception": false,
     "start_time": "2022-02-11T12:12:04.314463",
     "status": "completed"
    },
    "tags": []
   },
   "outputs": [
    {
     "data": {
      "text/html": [
       "<div>\n",
       "<style scoped>\n",
       "    .dataframe tbody tr th:only-of-type {\n",
       "        vertical-align: middle;\n",
       "    }\n",
       "\n",
       "    .dataframe tbody tr th {\n",
       "        vertical-align: top;\n",
       "    }\n",
       "\n",
       "    .dataframe thead th {\n",
       "        text-align: right;\n",
       "    }\n",
       "</style>\n",
       "<table border=\"1\" class=\"dataframe\">\n",
       "  <thead>\n",
       "    <tr style=\"text-align: right;\">\n",
       "      <th></th>\n",
       "      <th>Country/Region</th>\n",
       "      <th>Cases</th>\n",
       "      <th>Deaths</th>\n",
       "      <th>PCases</th>\n",
       "      <th>PDeaths</th>\n",
       "      <th>Cases (+)</th>\n",
       "      <th>Deaths (+)</th>\n",
       "      <th>Fatality Rate</th>\n",
       "      <th>Continent</th>\n",
       "    </tr>\n",
       "  </thead>\n",
       "  <tbody>\n",
       "    <tr>\n",
       "      <th>0</th>\n",
       "      <td>US</td>\n",
       "      <td>77428574</td>\n",
       "      <td>915434</td>\n",
       "      <td>77281158</td>\n",
       "      <td>912255</td>\n",
       "      <td>147416</td>\n",
       "      <td>3179</td>\n",
       "      <td>1.18</td>\n",
       "      <td>North America</td>\n",
       "    </tr>\n",
       "    <tr>\n",
       "      <th>1</th>\n",
       "      <td>India</td>\n",
       "      <td>42536137</td>\n",
       "      <td>507177</td>\n",
       "      <td>42478060</td>\n",
       "      <td>506520</td>\n",
       "      <td>58077</td>\n",
       "      <td>657</td>\n",
       "      <td>1.19</td>\n",
       "      <td>Asia</td>\n",
       "    </tr>\n",
       "    <tr>\n",
       "      <th>2</th>\n",
       "      <td>Brazil</td>\n",
       "      <td>27135550</td>\n",
       "      <td>636338</td>\n",
       "      <td>26972914</td>\n",
       "      <td>635421</td>\n",
       "      <td>162636</td>\n",
       "      <td>917</td>\n",
       "      <td>2.35</td>\n",
       "      <td>South America</td>\n",
       "    </tr>\n",
       "    <tr>\n",
       "      <th>3</th>\n",
       "      <td>France</td>\n",
       "      <td>21511997</td>\n",
       "      <td>135264</td>\n",
       "      <td>21177663</td>\n",
       "      <td>134609</td>\n",
       "      <td>334334</td>\n",
       "      <td>655</td>\n",
       "      <td>0.63</td>\n",
       "      <td>Europe</td>\n",
       "    </tr>\n",
       "    <tr>\n",
       "      <th>4</th>\n",
       "      <td>United Kingdom</td>\n",
       "      <td>18287720</td>\n",
       "      <td>159713</td>\n",
       "      <td>18123192</td>\n",
       "      <td>159503</td>\n",
       "      <td>164528</td>\n",
       "      <td>210</td>\n",
       "      <td>0.87</td>\n",
       "      <td>Europe</td>\n",
       "    </tr>\n",
       "  </tbody>\n",
       "</table>\n",
       "</div>"
      ],
      "text/plain": [
       "   Country/Region     Cases  Deaths    PCases  PDeaths  Cases (+)  Deaths (+)  \\\n",
       "0              US  77428574  915434  77281158   912255     147416        3179   \n",
       "1           India  42536137  507177  42478060   506520      58077         657   \n",
       "2          Brazil  27135550  636338  26972914   635421     162636         917   \n",
       "3          France  21511997  135264  21177663   134609     334334         655   \n",
       "4  United Kingdom  18287720  159713  18123192   159503     164528         210   \n",
       "\n",
       "   Fatality Rate      Continent  \n",
       "0           1.18  North America  \n",
       "1           1.19           Asia  \n",
       "2           2.35  South America  \n",
       "3           0.63         Europe  \n",
       "4           0.87         Europe  "
      ]
     },
     "execution_count": 13,
     "metadata": {},
     "output_type": "execute_result"
    }
   ],
   "source": [
    "#hide\n",
    "for c in 'Cases, Deaths'.split(', '):\n",
    "    df_table[f'{c} (+)'] = (df_table[c] - df_table[f'P{c}']).clip(0)\n",
    "    #Clip ça veut dire, les chiffres negatif sont interdit\n",
    "df_table['Fatality Rate'] = (100* df_table['Deaths']/ df_table['Cases']).round(2)\n",
    "df_table['Continent'] = df_table['Country/Region'].map(mapping['map.continent'])\n",
    "df_table.head(5)"
   ]
  },
  {
   "cell_type": "code",
   "execution_count": 14,
   "id": "aboriginal-bulgaria",
   "metadata": {
    "execution": {
     "iopub.execute_input": "2022-02-11T12:12:04.480486Z",
     "iopub.status.busy": "2022-02-11T12:12:04.479831Z",
     "iopub.status.idle": "2022-02-11T12:12:04.482373Z",
     "shell.execute_reply": "2022-02-11T12:12:04.481787Z"
    },
    "papermill": {
     "duration": 0.051672,
     "end_time": "2022-02-11T12:12:04.482499",
     "exception": false,
     "start_time": "2022-02-11T12:12:04.430827",
     "status": "completed"
    },
    "tags": []
   },
   "outputs": [],
   "source": [
    "#hide\n",
    "#delete problematic countries from table\n",
    "df_table = df_table[~df_table['Country/Region'].isin(['Cape Verde', 'Cruise Ship', 'Kosovo'])]"
   ]
  },
  {
   "cell_type": "code",
   "execution_count": 15,
   "id": "fantastic-effect",
   "metadata": {
    "execution": {
     "iopub.execute_input": "2022-02-11T12:12:04.567958Z",
     "iopub.status.busy": "2022-02-11T12:12:04.567222Z",
     "iopub.status.idle": "2022-02-11T12:12:04.587709Z",
     "shell.execute_reply": "2022-02-11T12:12:04.588249Z"
    },
    "papermill": {
     "duration": 0.065369,
     "end_time": "2022-02-11T12:12:04.588423",
     "exception": false,
     "start_time": "2022-02-11T12:12:04.523054",
     "status": "completed"
    },
    "tags": []
   },
   "outputs": [
    {
     "data": {
      "text/html": [
       "<div>\n",
       "<style scoped>\n",
       "    .dataframe tbody tr th:only-of-type {\n",
       "        vertical-align: middle;\n",
       "    }\n",
       "\n",
       "    .dataframe tbody tr th {\n",
       "        vertical-align: top;\n",
       "    }\n",
       "\n",
       "    .dataframe thead th {\n",
       "        text-align: right;\n",
       "    }\n",
       "</style>\n",
       "<table border=\"1\" class=\"dataframe\">\n",
       "  <thead>\n",
       "    <tr style=\"text-align: right;\">\n",
       "      <th></th>\n",
       "      <th>Country/Region</th>\n",
       "      <th>Cases</th>\n",
       "      <th>Deaths</th>\n",
       "      <th>PCases</th>\n",
       "      <th>PDeaths</th>\n",
       "      <th>Cases (+)</th>\n",
       "      <th>Deaths (+)</th>\n",
       "      <th>Fatality Rate</th>\n",
       "      <th>Continent</th>\n",
       "    </tr>\n",
       "  </thead>\n",
       "  <tbody>\n",
       "    <tr>\n",
       "      <th>0</th>\n",
       "      <td>US</td>\n",
       "      <td>77428574</td>\n",
       "      <td>915434</td>\n",
       "      <td>77281158</td>\n",
       "      <td>912255</td>\n",
       "      <td>147416</td>\n",
       "      <td>3179</td>\n",
       "      <td>1.2</td>\n",
       "      <td>North America</td>\n",
       "    </tr>\n",
       "    <tr>\n",
       "      <th>1</th>\n",
       "      <td>India</td>\n",
       "      <td>42536137</td>\n",
       "      <td>507177</td>\n",
       "      <td>42478060</td>\n",
       "      <td>506520</td>\n",
       "      <td>58077</td>\n",
       "      <td>657</td>\n",
       "      <td>1.2</td>\n",
       "      <td>Asia</td>\n",
       "    </tr>\n",
       "    <tr>\n",
       "      <th>2</th>\n",
       "      <td>Brazil</td>\n",
       "      <td>27135550</td>\n",
       "      <td>636338</td>\n",
       "      <td>26972914</td>\n",
       "      <td>635421</td>\n",
       "      <td>162636</td>\n",
       "      <td>917</td>\n",
       "      <td>2.3</td>\n",
       "      <td>South America</td>\n",
       "    </tr>\n",
       "    <tr>\n",
       "      <th>3</th>\n",
       "      <td>France</td>\n",
       "      <td>21511997</td>\n",
       "      <td>135264</td>\n",
       "      <td>21177663</td>\n",
       "      <td>134609</td>\n",
       "      <td>334334</td>\n",
       "      <td>655</td>\n",
       "      <td>0.6</td>\n",
       "      <td>Europe</td>\n",
       "    </tr>\n",
       "    <tr>\n",
       "      <th>4</th>\n",
       "      <td>United Kingdom</td>\n",
       "      <td>18287720</td>\n",
       "      <td>159713</td>\n",
       "      <td>18123192</td>\n",
       "      <td>159503</td>\n",
       "      <td>164528</td>\n",
       "      <td>210</td>\n",
       "      <td>0.9</td>\n",
       "      <td>Europe</td>\n",
       "    </tr>\n",
       "  </tbody>\n",
       "</table>\n",
       "</div>"
      ],
      "text/plain": [
       "   Country/Region     Cases  Deaths    PCases  PDeaths  Cases (+)  Deaths (+)  \\\n",
       "0              US  77428574  915434  77281158   912255     147416        3179   \n",
       "1           India  42536137  507177  42478060   506520      58077         657   \n",
       "2          Brazil  27135550  636338  26972914   635421     162636         917   \n",
       "3          France  21511997  135264  21177663   134609     334334         655   \n",
       "4  United Kingdom  18287720  159713  18123192   159503     164528         210   \n",
       "\n",
       "   Fatality Rate      Continent  \n",
       "0            1.2  North America  \n",
       "1            1.2           Asia  \n",
       "2            2.3  South America  \n",
       "3            0.6         Europe  \n",
       "4            0.9         Europe  "
      ]
     },
     "execution_count": 15,
     "metadata": {},
     "output_type": "execute_result"
    }
   ],
   "source": [
    "#hide\n",
    "df_table = (pd.DataFrame(dict(Cases=dfc_cases, Deaths=dfc_deaths, PCases=dfp_cases, PDeaths=dfp_deaths))\n",
    "             .sort_values(by=['Cases', 'Deaths'], ascending=[False, False])\n",
    "             .reset_index())\n",
    "df_table.rename(columns={'index': 'Country/Region'}, inplace=True)\n",
    "for c in 'Cases, Deaths'.split(', '):\n",
    "    df_table[f'{c} (+)'] = (df_table[c] - df_table[f'P{c}']).clip(0)  # DATA BUG\n",
    "df_table['Fatality Rate'] = (100 * df_table['Deaths'] / df_table['Cases']).round(1)\n",
    "df_table['Continent'] = df_table['Country/Region'].map(mapping['map.continent'])\n",
    "df_table.head(5)"
   ]
  },
  {
   "cell_type": "code",
   "execution_count": 16,
   "id": "fewer-occasion",
   "metadata": {
    "execution": {
     "iopub.execute_input": "2022-02-11T12:12:04.666027Z",
     "iopub.status.busy": "2022-02-11T12:12:04.665187Z",
     "iopub.status.idle": "2022-02-11T12:12:04.668030Z",
     "shell.execute_reply": "2022-02-11T12:12:04.668542Z"
    },
    "papermill": {
     "duration": 0.042703,
     "end_time": "2022-02-11T12:12:04.668672",
     "exception": false,
     "start_time": "2022-02-11T12:12:04.625969",
     "status": "completed"
    },
    "tags": []
   },
   "outputs": [],
   "source": [
    "#hide\n",
    "#delete problematic countries from table\n",
    "df_table = df_table[~df_table['Country/Region'].isin(['Cape Verde', 'Cruise Ship', 'Kosovo'])]"
   ]
  },
  {
   "cell_type": "code",
   "execution_count": 17,
   "id": "related-center",
   "metadata": {
    "execution": {
     "iopub.execute_input": "2022-02-11T12:12:04.760711Z",
     "iopub.status.busy": "2022-02-11T12:12:04.760019Z",
     "iopub.status.idle": "2022-02-11T12:12:04.762434Z",
     "shell.execute_reply": "2022-02-11T12:12:04.761794Z"
    },
    "papermill": {
     "duration": 0.058401,
     "end_time": "2022-02-11T12:12:04.762570",
     "exception": false,
     "start_time": "2022-02-11T12:12:04.704169",
     "status": "completed"
    },
    "tags": []
   },
   "outputs": [],
   "source": [
    "#hide\n",
    "metrics = [df_table.columns[index] for index in [1,2,5,6]]\n",
    "# s_china = df_table[df_table['Country/Region'].eq('China')][metrics].sum().add_prefix('China ')\n",
    "s_us = df_table[df_table['Country/Region'].eq('US')][metrics].sum().add_prefix('US ')\n",
    "s_eu = df_table[df_table['Continent'].eq('Europe')][metrics].sum().add_prefix('EU ')\n",
    "s_ind = df_table[df_table['Country/Region'].eq('India')][metrics].sum().add_prefix('India ')\n",
    "summary = {'updated': pd.to_datetime(dt_today), 'since': pd.to_datetime(dt_yday)}\n",
    "summary = {'updated': pd.to_datetime(dt_today), 'since': pd.to_datetime(dt_yday)}\n",
    "summary = {**summary, **df_table[metrics].sum(), **s_ind, **s_us, **s_eu}"
   ]
  },
  {
   "cell_type": "code",
   "execution_count": 18,
   "id": "engaging-syndrome",
   "metadata": {
    "execution": {
     "iopub.execute_input": "2022-02-11T12:12:04.846046Z",
     "iopub.status.busy": "2022-02-11T12:12:04.845440Z",
     "iopub.status.idle": "2022-02-11T12:12:04.861522Z",
     "shell.execute_reply": "2022-02-11T12:12:04.862046Z"
    },
    "papermill": {
     "duration": 0.061454,
     "end_time": "2022-02-11T12:12:04.862220",
     "exception": false,
     "start_time": "2022-02-11T12:12:04.800766",
     "status": "completed"
    },
    "tags": []
   },
   "outputs": [],
   "source": [
    "#hide\n",
    "dft_ct_new_cases = dft_cases.groupby(COL_REGION)[dt_cols].sum().diff(axis=1).fillna(0).astype(int)"
   ]
  },
  {
   "cell_type": "code",
   "execution_count": 19,
   "id": "neutral-assignment",
   "metadata": {
    "execution": {
     "iopub.execute_input": "2022-02-11T12:12:04.940858Z",
     "iopub.status.busy": "2022-02-11T12:12:04.940194Z",
     "iopub.status.idle": "2022-02-11T12:12:04.942547Z",
     "shell.execute_reply": "2022-02-11T12:12:04.941926Z"
    },
    "papermill": {
     "duration": 0.044276,
     "end_time": "2022-02-11T12:12:04.942689",
     "exception": false,
     "start_time": "2022-02-11T12:12:04.898413",
     "status": "completed"
    },
    "tags": []
   },
   "outputs": [],
   "source": [
    "#hide\n",
    "everydaycases = dft_ct_new_cases.cumsum(axis=1)"
   ]
  },
  {
   "cell_type": "code",
   "execution_count": 20,
   "id": "parliamentary-calgary",
   "metadata": {
    "execution": {
     "iopub.execute_input": "2022-02-11T12:12:05.021494Z",
     "iopub.status.busy": "2022-02-11T12:12:05.020799Z",
     "iopub.status.idle": "2022-02-11T12:12:05.687886Z",
     "shell.execute_reply": "2022-02-11T12:12:05.687323Z"
    },
    "papermill": {
     "duration": 0.70724,
     "end_time": "2022-02-11T12:12:05.688034",
     "exception": false,
     "start_time": "2022-02-11T12:12:04.980794",
     "status": "completed"
    },
    "tags": []
   },
   "outputs": [],
   "source": [
    "#hide\n",
    "import pandas as pd\n",
    "import matplotlib.pyplot as plt\n",
    "import matplotlib.ticker as ticker\n",
    "import matplotlib.animation as animation\n",
    "from IPython.display import HTML"
   ]
  },
  {
   "cell_type": "code",
   "execution_count": 21,
   "id": "lasting-extraction",
   "metadata": {
    "execution": {
     "iopub.execute_input": "2022-02-11T12:12:05.767945Z",
     "iopub.status.busy": "2022-02-11T12:12:05.767199Z",
     "iopub.status.idle": "2022-02-11T12:12:05.773173Z",
     "shell.execute_reply": "2022-02-11T12:12:05.773803Z"
    },
    "papermill": {
     "duration": 0.049365,
     "end_time": "2022-02-11T12:12:05.773937",
     "exception": false,
     "start_time": "2022-02-11T12:12:05.724572",
     "status": "completed"
    },
    "tags": []
   },
   "outputs": [],
   "source": [
    "#hide\n",
    "t = everydaycases.stack()"
   ]
  },
  {
   "cell_type": "code",
   "execution_count": 22,
   "id": "premier-sleeve",
   "metadata": {
    "execution": {
     "iopub.execute_input": "2022-02-11T12:12:05.850836Z",
     "iopub.status.busy": "2022-02-11T12:12:05.850208Z",
     "iopub.status.idle": "2022-02-11T12:12:05.861103Z",
     "shell.execute_reply": "2022-02-11T12:12:05.860600Z"
    },
    "papermill": {
     "duration": 0.050674,
     "end_time": "2022-02-11T12:12:05.861221",
     "exception": false,
     "start_time": "2022-02-11T12:12:05.810547",
     "status": "completed"
    },
    "tags": []
   },
   "outputs": [],
   "source": [
    "#hide\n",
    "g = t.reset_index(['Country/Region'])"
   ]
  },
  {
   "cell_type": "code",
   "execution_count": 23,
   "id": "distributed-pittsburgh",
   "metadata": {
    "execution": {
     "iopub.execute_input": "2022-02-11T12:12:05.936381Z",
     "iopub.status.busy": "2022-02-11T12:12:05.935790Z",
     "iopub.status.idle": "2022-02-11T12:12:05.938565Z",
     "shell.execute_reply": "2022-02-11T12:12:05.938007Z"
    },
    "papermill": {
     "duration": 0.041219,
     "end_time": "2022-02-11T12:12:05.938680",
     "exception": false,
     "start_time": "2022-02-11T12:12:05.897461",
     "status": "completed"
    },
    "tags": []
   },
   "outputs": [],
   "source": [
    "#hide\n",
    "g.index.name = 'date'"
   ]
  },
  {
   "cell_type": "code",
   "execution_count": 24,
   "id": "naked-donor",
   "metadata": {
    "execution": {
     "iopub.execute_input": "2022-02-11T12:12:06.014564Z",
     "iopub.status.busy": "2022-02-11T12:12:06.013907Z",
     "iopub.status.idle": "2022-02-11T12:12:06.016500Z",
     "shell.execute_reply": "2022-02-11T12:12:06.016958Z"
    },
    "papermill": {
     "duration": 0.043033,
     "end_time": "2022-02-11T12:12:06.017092",
     "exception": false,
     "start_time": "2022-02-11T12:12:05.974059",
     "status": "completed"
    },
    "tags": []
   },
   "outputs": [],
   "source": [
    "# #hide\n",
    "# g = g.reset_index(['date'])"
   ]
  },
  {
   "cell_type": "code",
   "execution_count": 25,
   "id": "incomplete-mustang",
   "metadata": {
    "execution": {
     "iopub.execute_input": "2022-02-11T12:12:06.097401Z",
     "iopub.status.busy": "2022-02-11T12:12:06.096758Z",
     "iopub.status.idle": "2022-02-11T12:12:06.099492Z",
     "shell.execute_reply": "2022-02-11T12:12:06.098820Z"
    },
    "papermill": {
     "duration": 0.044791,
     "end_time": "2022-02-11T12:12:06.099638",
     "exception": false,
     "start_time": "2022-02-11T12:12:06.054847",
     "status": "completed"
    },
    "tags": []
   },
   "outputs": [],
   "source": [
    "#hide\n",
    "# g.head()"
   ]
  },
  {
   "cell_type": "code",
   "execution_count": 26,
   "id": "specific-kruger",
   "metadata": {
    "execution": {
     "iopub.execute_input": "2022-02-11T12:12:06.180429Z",
     "iopub.status.busy": "2022-02-11T12:12:06.179451Z",
     "iopub.status.idle": "2022-02-11T12:12:06.183081Z",
     "shell.execute_reply": "2022-02-11T12:12:06.182532Z"
    },
    "papermill": {
     "duration": 0.04656,
     "end_time": "2022-02-11T12:12:06.183224",
     "exception": false,
     "start_time": "2022-02-11T12:12:06.136664",
     "status": "completed"
    },
    "tags": []
   },
   "outputs": [],
   "source": [
    "#hide\n",
    "# g.columns = ['date','country','cases']"
   ]
  },
  {
   "cell_type": "code",
   "execution_count": 27,
   "id": "tender-conversion",
   "metadata": {
    "execution": {
     "iopub.execute_input": "2022-02-11T12:12:06.266471Z",
     "iopub.status.busy": "2022-02-11T12:12:06.265830Z",
     "iopub.status.idle": "2022-02-11T12:12:06.269518Z",
     "shell.execute_reply": "2022-02-11T12:12:06.270019Z"
    },
    "papermill": {
     "duration": 0.047832,
     "end_time": "2022-02-11T12:12:06.270175",
     "exception": false,
     "start_time": "2022-02-11T12:12:06.222343",
     "status": "completed"
    },
    "tags": []
   },
   "outputs": [],
   "source": [
    "#hide\n",
    "# g['continent'] = g.country"
   ]
  },
  {
   "cell_type": "code",
   "execution_count": 28,
   "id": "substantial-wilderness",
   "metadata": {
    "execution": {
     "iopub.execute_input": "2022-02-11T12:12:06.352341Z",
     "iopub.status.busy": "2022-02-11T12:12:06.351657Z",
     "iopub.status.idle": "2022-02-11T12:12:06.353489Z",
     "shell.execute_reply": "2022-02-11T12:12:06.353988Z"
    },
    "papermill": {
     "duration": 0.045058,
     "end_time": "2022-02-11T12:12:06.354136",
     "exception": false,
     "start_time": "2022-02-11T12:12:06.309078",
     "status": "completed"
    },
    "tags": []
   },
   "outputs": [],
   "source": [
    "#hide\n",
    "# cols = list(g.columns.values)"
   ]
  },
  {
   "cell_type": "code",
   "execution_count": 29,
   "id": "solved-farming",
   "metadata": {
    "execution": {
     "iopub.execute_input": "2022-02-11T12:12:06.430371Z",
     "iopub.status.busy": "2022-02-11T12:12:06.429772Z",
     "iopub.status.idle": "2022-02-11T12:12:06.434022Z",
     "shell.execute_reply": "2022-02-11T12:12:06.433536Z"
    },
    "papermill": {
     "duration": 0.043084,
     "end_time": "2022-02-11T12:12:06.434158",
     "exception": false,
     "start_time": "2022-02-11T12:12:06.391074",
     "status": "completed"
    },
    "tags": []
   },
   "outputs": [],
   "source": [
    "#hide\n",
    "# cols.insert(0, cols.pop())"
   ]
  },
  {
   "cell_type": "code",
   "execution_count": 30,
   "id": "executed-adoption",
   "metadata": {
    "execution": {
     "iopub.execute_input": "2022-02-11T12:12:06.513010Z",
     "iopub.status.busy": "2022-02-11T12:12:06.512310Z",
     "iopub.status.idle": "2022-02-11T12:12:06.515084Z",
     "shell.execute_reply": "2022-02-11T12:12:06.514391Z"
    },
    "papermill": {
     "duration": 0.044383,
     "end_time": "2022-02-11T12:12:06.515225",
     "exception": false,
     "start_time": "2022-02-11T12:12:06.470842",
     "status": "completed"
    },
    "tags": []
   },
   "outputs": [],
   "source": [
    "#hide\n",
    "# g = g[cols]"
   ]
  },
  {
   "cell_type": "code",
   "execution_count": 31,
   "id": "subject-dublin",
   "metadata": {
    "execution": {
     "iopub.execute_input": "2022-02-11T12:12:06.596148Z",
     "iopub.status.busy": "2022-02-11T12:12:06.595429Z",
     "iopub.status.idle": "2022-02-11T12:12:06.598843Z",
     "shell.execute_reply": "2022-02-11T12:12:06.598270Z"
    },
    "papermill": {
     "duration": 0.043859,
     "end_time": "2022-02-11T12:12:06.598974",
     "exception": false,
     "start_time": "2022-02-11T12:12:06.555115",
     "status": "completed"
    },
    "tags": []
   },
   "outputs": [],
   "source": [
    "#hide\n",
    "# g['continent'] = g['continent'].map(mapping['map.continent'])"
   ]
  },
  {
   "cell_type": "code",
   "execution_count": 32,
   "id": "freelance-scout",
   "metadata": {
    "execution": {
     "iopub.execute_input": "2022-02-11T12:12:06.678852Z",
     "iopub.status.busy": "2022-02-11T12:12:06.678228Z",
     "iopub.status.idle": "2022-02-11T12:12:06.682641Z",
     "shell.execute_reply": "2022-02-11T12:12:06.682068Z"
    },
    "papermill": {
     "duration": 0.0454,
     "end_time": "2022-02-11T12:12:06.682789",
     "exception": false,
     "start_time": "2022-02-11T12:12:06.637389",
     "status": "completed"
    },
    "tags": []
   },
   "outputs": [],
   "source": [
    "#hide\n",
    "# g.head()"
   ]
  },
  {
   "cell_type": "code",
   "execution_count": 33,
   "id": "limited-engine",
   "metadata": {
    "execution": {
     "iopub.execute_input": "2022-02-11T12:12:06.757380Z",
     "iopub.status.busy": "2022-02-11T12:12:06.756772Z",
     "iopub.status.idle": "2022-02-11T12:12:06.760838Z",
     "shell.execute_reply": "2022-02-11T12:12:06.760286Z"
    },
    "papermill": {
     "duration": 0.042791,
     "end_time": "2022-02-11T12:12:06.760948",
     "exception": false,
     "start_time": "2022-02-11T12:12:06.718157",
     "status": "completed"
    },
    "tags": []
   },
   "outputs": [],
   "source": [
    "# hide\n",
    "# g['date'] = g['date'].astype('datetime64[ns]')"
   ]
  },
  {
   "cell_type": "code",
   "execution_count": 34,
   "id": "sophisticated-supervisor",
   "metadata": {
    "execution": {
     "iopub.execute_input": "2022-02-11T12:12:06.837137Z",
     "iopub.status.busy": "2022-02-11T12:12:06.836533Z",
     "iopub.status.idle": "2022-02-11T12:12:06.840082Z",
     "shell.execute_reply": "2022-02-11T12:12:06.840544Z"
    },
    "papermill": {
     "duration": 0.043053,
     "end_time": "2022-02-11T12:12:06.840682",
     "exception": false,
     "start_time": "2022-02-11T12:12:06.797629",
     "status": "completed"
    },
    "tags": []
   },
   "outputs": [],
   "source": [
    "#hide\n",
    "# g['date'] = g.date.dt.dayofyear"
   ]
  },
  {
   "cell_type": "code",
   "execution_count": 35,
   "id": "inside-dubai",
   "metadata": {
    "execution": {
     "iopub.execute_input": "2022-02-11T12:12:06.915646Z",
     "iopub.status.busy": "2022-02-11T12:12:06.914991Z",
     "iopub.status.idle": "2022-02-11T12:12:06.917762Z",
     "shell.execute_reply": "2022-02-11T12:12:06.917140Z"
    },
    "papermill": {
     "duration": 0.040605,
     "end_time": "2022-02-11T12:12:06.917890",
     "exception": false,
     "start_time": "2022-02-11T12:12:06.877285",
     "status": "completed"
    },
    "tags": []
   },
   "outputs": [],
   "source": [
    "#hide\n",
    "# g = g.rename(columns= {'continent':'group','country':'name','cases':'value'})"
   ]
  },
  {
   "cell_type": "code",
   "execution_count": 36,
   "id": "fleet-motorcycle",
   "metadata": {
    "execution": {
     "iopub.execute_input": "2022-02-11T12:12:06.993570Z",
     "iopub.status.busy": "2022-02-11T12:12:06.992920Z",
     "iopub.status.idle": "2022-02-11T12:12:06.996795Z",
     "shell.execute_reply": "2022-02-11T12:12:06.996302Z"
    },
    "papermill": {
     "duration": 0.042176,
     "end_time": "2022-02-11T12:12:06.996908",
     "exception": false,
     "start_time": "2022-02-11T12:12:06.954732",
     "status": "completed"
    },
    "tags": []
   },
   "outputs": [],
   "source": [
    "#hide\n",
    "# cols = ['name','group','day','value']"
   ]
  },
  {
   "cell_type": "code",
   "execution_count": 37,
   "id": "continued-sleeping",
   "metadata": {
    "execution": {
     "iopub.execute_input": "2022-02-11T12:12:07.081537Z",
     "iopub.status.busy": "2022-02-11T12:12:07.080840Z",
     "iopub.status.idle": "2022-02-11T12:12:07.083319Z",
     "shell.execute_reply": "2022-02-11T12:12:07.082693Z"
    },
    "papermill": {
     "duration": 0.050416,
     "end_time": "2022-02-11T12:12:07.083458",
     "exception": false,
     "start_time": "2022-02-11T12:12:07.033042",
     "status": "completed"
    },
    "tags": []
   },
   "outputs": [],
   "source": [
    "#hide\n",
    "# g.rename(columns= {'date':'day'},inplace = True)"
   ]
  },
  {
   "cell_type": "code",
   "execution_count": 38,
   "id": "major-fight",
   "metadata": {
    "execution": {
     "iopub.execute_input": "2022-02-11T12:12:07.158534Z",
     "iopub.status.busy": "2022-02-11T12:12:07.157951Z",
     "iopub.status.idle": "2022-02-11T12:12:07.161822Z",
     "shell.execute_reply": "2022-02-11T12:12:07.162283Z"
    },
    "papermill": {
     "duration": 0.041932,
     "end_time": "2022-02-11T12:12:07.162413",
     "exception": false,
     "start_time": "2022-02-11T12:12:07.120481",
     "status": "completed"
    },
    "tags": []
   },
   "outputs": [],
   "source": [
    "#hide\n",
    "# g = g[cols]"
   ]
  },
  {
   "cell_type": "code",
   "execution_count": 39,
   "id": "structured-mobile",
   "metadata": {
    "execution": {
     "iopub.execute_input": "2022-02-11T12:12:07.238278Z",
     "iopub.status.busy": "2022-02-11T12:12:07.237612Z",
     "iopub.status.idle": "2022-02-11T12:12:07.240157Z",
     "shell.execute_reply": "2022-02-11T12:12:07.239648Z"
    },
    "papermill": {
     "duration": 0.040874,
     "end_time": "2022-02-11T12:12:07.240290",
     "exception": false,
     "start_time": "2022-02-11T12:12:07.199416",
     "status": "completed"
    },
    "tags": []
   },
   "outputs": [],
   "source": [
    "# #hide\n",
    "# g = g[g.group.notna()]"
   ]
  },
  {
   "cell_type": "code",
   "execution_count": 40,
   "id": "determined-closing",
   "metadata": {
    "execution": {
     "iopub.execute_input": "2022-02-11T12:12:07.317865Z",
     "iopub.status.busy": "2022-02-11T12:12:07.317181Z",
     "iopub.status.idle": "2022-02-11T12:12:07.321176Z",
     "shell.execute_reply": "2022-02-11T12:12:07.320606Z"
    },
    "papermill": {
     "duration": 0.043757,
     "end_time": "2022-02-11T12:12:07.321289",
     "exception": false,
     "start_time": "2022-02-11T12:12:07.277532",
     "status": "completed"
    },
    "tags": []
   },
   "outputs": [],
   "source": [
    "# #hide\n",
    "# colors = dict(zip(\n",
    "#     [\"Oceania\", \"Europe\", \"Asia\", \"South America\", \"Middle East\", \"North America\", \"Africa\"],\n",
    "#     [\"#adb0ff\", \"#ffb3ff\", \"#90d595\", \"#e48381\", \"#aafbff\", \"#f7bb5f\", \"#eafb50\"]\n",
    "# ))\n",
    "# group_lk = g.set_index('name')['group'].to_dict()"
   ]
  },
  {
   "cell_type": "code",
   "execution_count": null,
   "id": "gross-drinking",
   "metadata": {
    "papermill": {
     "duration": 0.036053,
     "end_time": "2022-02-11T12:12:07.394270",
     "exception": false,
     "start_time": "2022-02-11T12:12:07.358217",
     "status": "completed"
    },
    "tags": []
   },
   "outputs": [],
   "source": []
  },
  {
   "cell_type": "code",
   "execution_count": 41,
   "id": "subject-macintosh",
   "metadata": {
    "execution": {
     "iopub.execute_input": "2022-02-11T12:12:07.468845Z",
     "iopub.status.busy": "2022-02-11T12:12:07.468232Z",
     "iopub.status.idle": "2022-02-11T12:12:07.470587Z",
     "shell.execute_reply": "2022-02-11T12:12:07.470081Z"
    },
    "papermill": {
     "duration": 0.041481,
     "end_time": "2022-02-11T12:12:07.470706",
     "exception": false,
     "start_time": "2022-02-11T12:12:07.429225",
     "status": "completed"
    },
    "tags": []
   },
   "outputs": [],
   "source": [
    "# #hide\n",
    "# fig, ax = plt.subplots(figsize=(15, 8))\n",
    "\n",
    "# def draw_barchart(current_day):\n",
    "#     dff = g[g['day'].eq(current_day)].sort_values(by='value', ascending=True).tail(10)\n",
    "#     ax.clear()\n",
    "#     ax.barh(dff['name'], dff['value'], color=[colors[group_lk[x]] for x in dff['name']])\n",
    "#     dx = dff['value'].max() / 200\n",
    "    \n",
    "#     for i, (value, name) in enumerate(zip(dff['value'], dff['name'])):\n",
    "#         ax.text(value-dx, i,     name,           size=14, weight=600, ha='right', va='bottom')\n",
    "#         ax.text(value-dx, i-.25, group_lk[name], size=10, color='#444444', ha='right', va='baseline')\n",
    "#         ax.text(value+dx, i,     f'{value:,.0f}',  size=14, ha='left',  va='center')\n",
    "#     ax.text(1, 0.4, current_day, transform=ax.transAxes, color='#777777', size=46, ha='right', weight=800)\n",
    "#     ax.text(0, 1.06, 'Population (thousands)', transform=ax.transAxes, size=12, color='#777777')\n",
    "#     ax.xaxis.set_major_formatter(ticker.StrMethodFormatter('{x:,.0f}'))\n",
    "#     ax.xaxis.set_ticks_position('top')\n",
    "#     ax.tick_params(axis='x', colors='#777777', labelsize=12)\n",
    "#     ax.set_yticks([])\n",
    "#     ax.margins(0, 0.01)\n",
    "#     ax.grid(which='major', axis='x', linestyle='-')\n",
    "#     ax.set_axisbelow(True)\n",
    "    \n",
    "#     ax.text(0, 1.15, 'Coronavirus',\n",
    "#             transform=ax.transAxes, size=24, weight=600, ha='left', va='top')\n",
    "# #     ax.text(1, 0, 'by @pratapvardhan; credit @jburnmurdoch', transform=ax.transAxes, color='#777777', ha='right',\n",
    "# #             bbox=dict(facecolor='white', alpha=0.8, edgecolor='white'))\n",
    "#     plt.box(False)"
   ]
  },
  {
   "cell_type": "code",
   "execution_count": 42,
   "id": "sexual-wages",
   "metadata": {
    "execution": {
     "iopub.execute_input": "2022-02-11T12:12:07.547387Z",
     "iopub.status.busy": "2022-02-11T12:12:07.546676Z",
     "iopub.status.idle": "2022-02-11T12:12:07.548648Z",
     "shell.execute_reply": "2022-02-11T12:12:07.549271Z"
    },
    "papermill": {
     "duration": 0.043255,
     "end_time": "2022-02-11T12:12:07.549435",
     "exception": false,
     "start_time": "2022-02-11T12:12:07.506180",
     "status": "completed"
    },
    "tags": []
   },
   "outputs": [],
   "source": [
    "# #hide_input\n",
    "# fig, ax = plt.subplots(figsize=(15, 8))\n",
    "# animator = animation.FuncAnimation(fig, draw_barchart, frames=range(g.day.values.min(), g.day.values.max()))\n",
    "# HTML(animator.to_jshtml())\n",
    "# # or use animator.to_html5_video() or animator.save() "
   ]
  },
  {
   "cell_type": "code",
   "execution_count": null,
   "id": "australian-container",
   "metadata": {
    "papermill": {
     "duration": 0.035597,
     "end_time": "2022-02-11T12:12:07.624921",
     "exception": false,
     "start_time": "2022-02-11T12:12:07.589324",
     "status": "completed"
    },
    "tags": []
   },
   "outputs": [],
   "source": []
  },
  {
   "cell_type": "code",
   "execution_count": null,
   "id": "mediterranean-pontiac",
   "metadata": {
    "papermill": {
     "duration": 0.037392,
     "end_time": "2022-02-11T12:12:07.708094",
     "exception": false,
     "start_time": "2022-02-11T12:12:07.670702",
     "status": "completed"
    },
    "tags": []
   },
   "outputs": [],
   "source": []
  },
  {
   "cell_type": "code",
   "execution_count": null,
   "id": "aging-legislature",
   "metadata": {
    "papermill": {
     "duration": 0.036893,
     "end_time": "2022-02-11T12:12:07.782437",
     "exception": false,
     "start_time": "2022-02-11T12:12:07.745544",
     "status": "completed"
    },
    "tags": []
   },
   "outputs": [],
   "source": []
  }
 ],
 "metadata": {
  "kernelspec": {
   "display_name": "Python 3",
   "language": "python",
   "name": "python3"
  },
  "language_info": {
   "codemirror_mode": {
    "name": "ipython",
    "version": 3
   },
   "file_extension": ".py",
   "mimetype": "text/x-python",
   "name": "python",
   "nbconvert_exporter": "python",
   "pygments_lexer": "ipython3",
   "version": "3.6.15"
  },
  "papermill": {
   "duration": 6.980603,
   "end_time": "2022-02-11T12:12:08.138470",
   "environment_variables": {},
   "exception": null,
   "input_path": "2020-03-21-covid19exp.ipynb",
   "output_path": "2020-03-21-covid19exp.ipynb",
   "parameters": {},
   "start_time": "2022-02-11T12:12:01.157867",
   "version": "2.0.0"
  }
 },
 "nbformat": 4,
 "nbformat_minor": 5
}