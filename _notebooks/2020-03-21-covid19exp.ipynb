{
 "cells": [
  {
   "cell_type": "markdown",
   "id": "muslim-click",
   "metadata": {
    "papermill": {
     "duration": 0.046004,
     "end_time": "2022-08-21T00:42:17.897583",
     "exception": false,
     "start_time": "2022-08-21T00:42:17.851579",
     "status": "completed"
    },
    "tags": []
   },
   "source": [
    "# COVID-19 Case Race\n",
    "> A race chart to see rising cases around the world\n",
    "\n",
    "- author: Hargun Oberoi\n",
    "- image: images/covid-overview.png\n",
    "- hide: false\n",
    "- badges: false"
   ]
  },
  {
   "cell_type": "code",
   "execution_count": 1,
   "id": "proof-material",
   "metadata": {
    "execution": {
     "iopub.execute_input": "2022-08-21T00:42:17.968477Z",
     "iopub.status.busy": "2022-08-21T00:42:17.967851Z",
     "iopub.status.idle": "2022-08-21T00:42:18.300457Z",
     "shell.execute_reply": "2022-08-21T00:42:18.301059Z"
    },
    "papermill": {
     "duration": 0.373242,
     "end_time": "2022-08-21T00:42:18.301263",
     "exception": false,
     "start_time": "2022-08-21T00:42:17.928021",
     "status": "completed"
    },
    "tags": []
   },
   "outputs": [],
   "source": [
    "#hide\n",
    "import numpy as np\n",
    "import pandas as pd\n",
    "from jinja2 import Template\n",
    "from IPython.display import HTML"
   ]
  },
  {
   "cell_type": "code",
   "execution_count": 2,
   "id": "developed-terminology",
   "metadata": {
    "execution": {
     "iopub.execute_input": "2022-08-21T00:42:18.366552Z",
     "iopub.status.busy": "2022-08-21T00:42:18.365904Z",
     "iopub.status.idle": "2022-08-21T00:42:18.368386Z",
     "shell.execute_reply": "2022-08-21T00:42:18.367901Z"
    },
    "papermill": {
     "duration": 0.037055,
     "end_time": "2022-08-21T00:42:18.368502",
     "exception": false,
     "start_time": "2022-08-21T00:42:18.331447",
     "status": "completed"
    },
    "tags": []
   },
   "outputs": [],
   "source": [
    "#hide\n",
    "\n",
    "# FETCH\n",
    "base_url = 'https://raw.githubusercontent.com/pratapvardhan/notebooks/master/covid19/'\n",
    "paths = {\n",
    "    'mapping': base_url + 'mapping_countries.csv',\n",
    "    'overview': base_url + 'overview.tpl'\n",
    "}"
   ]
  },
  {
   "cell_type": "code",
   "execution_count": 3,
   "id": "dynamic-saver",
   "metadata": {
    "execution": {
     "iopub.execute_input": "2022-08-21T00:42:18.438378Z",
     "iopub.status.busy": "2022-08-21T00:42:18.437771Z",
     "iopub.status.idle": "2022-08-21T00:42:18.440447Z",
     "shell.execute_reply": "2022-08-21T00:42:18.441022Z"
    },
    "papermill": {
     "duration": 0.043264,
     "end_time": "2022-08-21T00:42:18.441160",
     "exception": false,
     "start_time": "2022-08-21T00:42:18.397896",
     "status": "completed"
    },
    "tags": []
   },
   "outputs": [
    {
     "data": {
      "text/plain": [
       "'https://raw.githubusercontent.com/pratapvardhan/notebooks/master/covid19/mapping_countries.csv'"
      ]
     },
     "execution_count": 3,
     "metadata": {},
     "output_type": "execute_result"
    }
   ],
   "source": [
    "#hide\n",
    "paths['mapping']"
   ]
  },
  {
   "cell_type": "code",
   "execution_count": 4,
   "id": "urban-software",
   "metadata": {
    "execution": {
     "iopub.execute_input": "2022-08-21T00:42:18.506196Z",
     "iopub.status.busy": "2022-08-21T00:42:18.505506Z",
     "iopub.status.idle": "2022-08-21T00:42:18.508060Z",
     "shell.execute_reply": "2022-08-21T00:42:18.507585Z"
    },
    "papermill": {
     "duration": 0.037323,
     "end_time": "2022-08-21T00:42:18.508171",
     "exception": false,
     "start_time": "2022-08-21T00:42:18.470848",
     "status": "completed"
    },
    "tags": []
   },
   "outputs": [],
   "source": [
    "#hide\n",
    "def get_mappings(url):\n",
    "    df = pd.read_csv(url)\n",
    "    return {\n",
    "        'df': df,\n",
    "        'replace.country': dict(df.dropna(subset=['Name']).set_index('Country')['Name']),\n",
    "        'map.continent': dict(df.set_index('Name')['Continent'])\n",
    "    }"
   ]
  },
  {
   "cell_type": "code",
   "execution_count": 5,
   "id": "intimate-machinery",
   "metadata": {
    "execution": {
     "iopub.execute_input": "2022-08-21T00:42:18.573546Z",
     "iopub.status.busy": "2022-08-21T00:42:18.572922Z",
     "iopub.status.idle": "2022-08-21T00:42:18.600164Z",
     "shell.execute_reply": "2022-08-21T00:42:18.599554Z"
    },
    "papermill": {
     "duration": 0.06243,
     "end_time": "2022-08-21T00:42:18.600291",
     "exception": false,
     "start_time": "2022-08-21T00:42:18.537861",
     "status": "completed"
    },
    "tags": []
   },
   "outputs": [],
   "source": [
    "#hide\n",
    "mapping = get_mappings(paths['mapping'])"
   ]
  },
  {
   "cell_type": "code",
   "execution_count": 6,
   "id": "certified-tactics",
   "metadata": {
    "execution": {
     "iopub.execute_input": "2022-08-21T00:42:18.667007Z",
     "iopub.status.busy": "2022-08-21T00:42:18.666288Z",
     "iopub.status.idle": "2022-08-21T00:42:18.668062Z",
     "shell.execute_reply": "2022-08-21T00:42:18.668597Z"
    },
    "papermill": {
     "duration": 0.03808,
     "end_time": "2022-08-21T00:42:18.668769",
     "exception": false,
     "start_time": "2022-08-21T00:42:18.630689",
     "status": "completed"
    },
    "tags": []
   },
   "outputs": [],
   "source": [
    "#hide\n",
    "def get_template(path):\n",
    "    from urllib.parse import urlparse\n",
    "    if bool(urlparse(path).netloc):\n",
    "        from urllib.request import urlopen\n",
    "        return urlopen(path).read().decode('utf8')\n",
    "    return open(path).read()"
   ]
  },
  {
   "cell_type": "code",
   "execution_count": 7,
   "id": "realistic-blast",
   "metadata": {
    "execution": {
     "iopub.execute_input": "2022-08-21T00:42:18.733951Z",
     "iopub.status.busy": "2022-08-21T00:42:18.733356Z",
     "iopub.status.idle": "2022-08-21T00:42:18.736426Z",
     "shell.execute_reply": "2022-08-21T00:42:18.735948Z"
    },
    "papermill": {
     "duration": 0.037817,
     "end_time": "2022-08-21T00:42:18.736538",
     "exception": false,
     "start_time": "2022-08-21T00:42:18.698721",
     "status": "completed"
    },
    "tags": []
   },
   "outputs": [],
   "source": [
    "#hide\n",
    "def get_frame(name):\n",
    "    url = (\n",
    "        'https://raw.githubusercontent.com/CSSEGISandData/COVID-19/master/csse_covid_19_data/'\n",
    "        f'csse_covid_19_time_series/time_series_covid19_{name}_global.csv')\n",
    "    df = pd.read_csv(url)\n",
    "    # rename countries\n",
    "    df['Country/Region'] = df['Country/Region'].replace(mapping['replace.country'])\n",
    "    return df"
   ]
  },
  {
   "cell_type": "code",
   "execution_count": 8,
   "id": "affiliated-characterization",
   "metadata": {
    "execution": {
     "iopub.execute_input": "2022-08-21T00:42:18.803163Z",
     "iopub.status.busy": "2022-08-21T00:42:18.802552Z",
     "iopub.status.idle": "2022-08-21T00:42:18.805584Z",
     "shell.execute_reply": "2022-08-21T00:42:18.805101Z"
    },
    "papermill": {
     "duration": 0.0392,
     "end_time": "2022-08-21T00:42:18.805695",
     "exception": false,
     "start_time": "2022-08-21T00:42:18.766495",
     "status": "completed"
    },
    "tags": []
   },
   "outputs": [],
   "source": [
    "#hide\n",
    "def get_dates(df):\n",
    "    dt_cols = df.columns[~df.columns.isin(['Province/State', 'Country/Region', 'Lat', 'Long'])]\n",
    "    LAST_DATE_I = -1\n",
    "    # sometimes last column may be empty, then go backwards\n",
    "    for i in range(-1, -len(dt_cols), -1):\n",
    "        if not df[dt_cols[i]].fillna(0).eq(0).all():\n",
    "            LAST_DATE_I = i\n",
    "            break\n",
    "    return LAST_DATE_I, dt_cols"
   ]
  },
  {
   "cell_type": "code",
   "execution_count": 9,
   "id": "recent-optimization",
   "metadata": {
    "execution": {
     "iopub.execute_input": "2022-08-21T00:42:18.871594Z",
     "iopub.status.busy": "2022-08-21T00:42:18.870985Z",
     "iopub.status.idle": "2022-08-21T00:42:19.262665Z",
     "shell.execute_reply": "2022-08-21T00:42:19.262081Z"
    },
    "papermill": {
     "duration": 0.427495,
     "end_time": "2022-08-21T00:42:19.262804",
     "exception": false,
     "start_time": "2022-08-21T00:42:18.835309",
     "status": "completed"
    },
    "tags": []
   },
   "outputs": [],
   "source": [
    "#hide\n",
    "COL_REGION = 'Country/Region'\n",
    "# Confirmed, Recovered, Deaths\n",
    "df = get_frame('confirmed')\n",
    "# dft_: timeseries, dfc_: today country agg\n",
    "dft_cases = df\n",
    "dft_deaths = get_frame('deaths')\n",
    "dft_recovered = get_frame('recovered')\n",
    "LAST_DATE_I, dt_cols = get_dates(df)"
   ]
  },
  {
   "cell_type": "code",
   "execution_count": 10,
   "id": "absolute-copper",
   "metadata": {
    "execution": {
     "iopub.execute_input": "2022-08-21T00:42:19.330279Z",
     "iopub.status.busy": "2022-08-21T00:42:19.329387Z",
     "iopub.status.idle": "2022-08-21T00:42:19.331315Z",
     "shell.execute_reply": "2022-08-21T00:42:19.331794Z"
    },
    "papermill": {
     "duration": 0.038054,
     "end_time": "2022-08-21T00:42:19.331928",
     "exception": false,
     "start_time": "2022-08-21T00:42:19.293874",
     "status": "completed"
    },
    "tags": []
   },
   "outputs": [],
   "source": [
    "#hide\n",
    "LAST_DATE_I, dt_cols = get_dates(df)\n",
    "dt_today =dt_cols[LAST_DATE_I]\n",
    "# dt_5day = dt_cols[LAST_DATE_I - 5]\n",
    "dt_yday = dt_cols[LAST_DATE_I - 1]"
   ]
  },
  {
   "cell_type": "code",
   "execution_count": 11,
   "id": "restricted-sheriff",
   "metadata": {
    "execution": {
     "iopub.execute_input": "2022-08-21T00:42:19.404131Z",
     "iopub.status.busy": "2022-08-21T00:42:19.403195Z",
     "iopub.status.idle": "2022-08-21T00:42:19.409969Z",
     "shell.execute_reply": "2022-08-21T00:42:19.410519Z"
    },
    "papermill": {
     "duration": 0.046617,
     "end_time": "2022-08-21T00:42:19.410670",
     "exception": false,
     "start_time": "2022-08-21T00:42:19.364053",
     "status": "completed"
    },
    "tags": []
   },
   "outputs": [],
   "source": [
    "#hide\n",
    "dfc_cases = dft_cases.groupby(COL_REGION)[dt_today].sum()\n",
    "dfc_deaths = dft_deaths.groupby(COL_REGION)[dt_today].sum()\n",
    "# dfp_cases = dft_cases.groupby(COL_REGION)[dt_5day].sum()\n",
    "# dfp_deaths = dft_deaths.groupby(COL_REGION)[dt_5day].sum()\n",
    "dfp_cases = dft_cases.groupby(COL_REGION)[dt_yday].sum()\n",
    "dfp_deaths = dft_deaths.groupby(COL_REGION)[dt_yday].sum()"
   ]
  },
  {
   "cell_type": "code",
   "execution_count": 12,
   "id": "deluxe-hepatitis",
   "metadata": {
    "execution": {
     "iopub.execute_input": "2022-08-21T00:42:19.477882Z",
     "iopub.status.busy": "2022-08-21T00:42:19.477240Z",
     "iopub.status.idle": "2022-08-21T00:42:19.481908Z",
     "shell.execute_reply": "2022-08-21T00:42:19.482477Z"
    },
    "papermill": {
     "duration": 0.041562,
     "end_time": "2022-08-21T00:42:19.482617",
     "exception": false,
     "start_time": "2022-08-21T00:42:19.441055",
     "status": "completed"
    },
    "tags": []
   },
   "outputs": [],
   "source": [
    "#hide\n",
    "df_table = (pd.DataFrame(dict(Cases = dfc_cases, Deaths = dfc_deaths, PCases = dfp_cases, PDeaths = dfp_deaths))\n",
    "            .sort_values(by = ['Cases','Deaths'], ascending = [False, False])\n",
    "            .reset_index())"
   ]
  },
  {
   "cell_type": "code",
   "execution_count": 13,
   "id": "educational-chancellor",
   "metadata": {
    "execution": {
     "iopub.execute_input": "2022-08-21T00:42:19.560250Z",
     "iopub.status.busy": "2022-08-21T00:42:19.559609Z",
     "iopub.status.idle": "2022-08-21T00:42:19.568457Z",
     "shell.execute_reply": "2022-08-21T00:42:19.567878Z"
    },
    "papermill": {
     "duration": 0.056193,
     "end_time": "2022-08-21T00:42:19.568577",
     "exception": false,
     "start_time": "2022-08-21T00:42:19.512384",
     "status": "completed"
    },
    "tags": []
   },
   "outputs": [
    {
     "data": {
      "text/html": [
       "<div>\n",
       "<style scoped>\n",
       "    .dataframe tbody tr th:only-of-type {\n",
       "        vertical-align: middle;\n",
       "    }\n",
       "\n",
       "    .dataframe tbody tr th {\n",
       "        vertical-align: top;\n",
       "    }\n",
       "\n",
       "    .dataframe thead th {\n",
       "        text-align: right;\n",
       "    }\n",
       "</style>\n",
       "<table border=\"1\" class=\"dataframe\">\n",
       "  <thead>\n",
       "    <tr style=\"text-align: right;\">\n",
       "      <th></th>\n",
       "      <th>Country/Region</th>\n",
       "      <th>Cases</th>\n",
       "      <th>Deaths</th>\n",
       "      <th>PCases</th>\n",
       "      <th>PDeaths</th>\n",
       "      <th>Cases (+)</th>\n",
       "      <th>Deaths (+)</th>\n",
       "      <th>Fatality Rate</th>\n",
       "      <th>Continent</th>\n",
       "    </tr>\n",
       "  </thead>\n",
       "  <tbody>\n",
       "    <tr>\n",
       "      <th>0</th>\n",
       "      <td>US</td>\n",
       "      <td>93500945</td>\n",
       "      <td>1040355</td>\n",
       "      <td>93403640</td>\n",
       "      <td>1039746</td>\n",
       "      <td>97305</td>\n",
       "      <td>609</td>\n",
       "      <td>1.11</td>\n",
       "      <td>North America</td>\n",
       "    </tr>\n",
       "    <tr>\n",
       "      <th>1</th>\n",
       "      <td>India</td>\n",
       "      <td>44327890</td>\n",
       "      <td>527289</td>\n",
       "      <td>44314618</td>\n",
       "      <td>527253</td>\n",
       "      <td>13272</td>\n",
       "      <td>36</td>\n",
       "      <td>1.19</td>\n",
       "      <td>Asia</td>\n",
       "    </tr>\n",
       "    <tr>\n",
       "      <th>2</th>\n",
       "      <td>France</td>\n",
       "      <td>34535255</td>\n",
       "      <td>154541</td>\n",
       "      <td>34514986</td>\n",
       "      <td>154467</td>\n",
       "      <td>20269</td>\n",
       "      <td>74</td>\n",
       "      <td>0.45</td>\n",
       "      <td>Europe</td>\n",
       "    </tr>\n",
       "    <tr>\n",
       "      <th>3</th>\n",
       "      <td>Brazil</td>\n",
       "      <td>34264237</td>\n",
       "      <td>682358</td>\n",
       "      <td>34245374</td>\n",
       "      <td>682216</td>\n",
       "      <td>18863</td>\n",
       "      <td>142</td>\n",
       "      <td>1.99</td>\n",
       "      <td>South America</td>\n",
       "    </tr>\n",
       "    <tr>\n",
       "      <th>4</th>\n",
       "      <td>Germany</td>\n",
       "      <td>31808179</td>\n",
       "      <td>146504</td>\n",
       "      <td>31771884</td>\n",
       "      <td>146383</td>\n",
       "      <td>36295</td>\n",
       "      <td>121</td>\n",
       "      <td>0.46</td>\n",
       "      <td>Europe</td>\n",
       "    </tr>\n",
       "  </tbody>\n",
       "</table>\n",
       "</div>"
      ],
      "text/plain": [
       "  Country/Region     Cases   Deaths    PCases  PDeaths  Cases (+)  Deaths (+)  \\\n",
       "0             US  93500945  1040355  93403640  1039746      97305         609   \n",
       "1          India  44327890   527289  44314618   527253      13272          36   \n",
       "2         France  34535255   154541  34514986   154467      20269          74   \n",
       "3         Brazil  34264237   682358  34245374   682216      18863         142   \n",
       "4        Germany  31808179   146504  31771884   146383      36295         121   \n",
       "\n",
       "   Fatality Rate      Continent  \n",
       "0           1.11  North America  \n",
       "1           1.19           Asia  \n",
       "2           0.45         Europe  \n",
       "3           1.99  South America  \n",
       "4           0.46         Europe  "
      ]
     },
     "execution_count": 13,
     "metadata": {},
     "output_type": "execute_result"
    }
   ],
   "source": [
    "#hide\n",
    "for c in 'Cases, Deaths'.split(', '):\n",
    "    df_table[f'{c} (+)'] = (df_table[c] - df_table[f'P{c}']).clip(0)\n",
    "    #Clip ça veut dire, les chiffres negatif sont interdit\n",
    "df_table['Fatality Rate'] = (100* df_table['Deaths']/ df_table['Cases']).round(2)\n",
    "df_table['Continent'] = df_table['Country/Region'].map(mapping['map.continent'])\n",
    "df_table.head(5)"
   ]
  },
  {
   "cell_type": "code",
   "execution_count": 14,
   "id": "aboriginal-bulgaria",
   "metadata": {
    "execution": {
     "iopub.execute_input": "2022-08-21T00:42:19.635176Z",
     "iopub.status.busy": "2022-08-21T00:42:19.634576Z",
     "iopub.status.idle": "2022-08-21T00:42:19.637620Z",
     "shell.execute_reply": "2022-08-21T00:42:19.638069Z"
    },
    "papermill": {
     "duration": 0.039158,
     "end_time": "2022-08-21T00:42:19.638204",
     "exception": false,
     "start_time": "2022-08-21T00:42:19.599046",
     "status": "completed"
    },
    "tags": []
   },
   "outputs": [],
   "source": [
    "#hide\n",
    "#delete problematic countries from table\n",
    "df_table = df_table[~df_table['Country/Region'].isin(['Cape Verde', 'Cruise Ship', 'Kosovo'])]"
   ]
  },
  {
   "cell_type": "code",
   "execution_count": 15,
   "id": "fantastic-effect",
   "metadata": {
    "execution": {
     "iopub.execute_input": "2022-08-21T00:42:19.720338Z",
     "iopub.status.busy": "2022-08-21T00:42:19.705865Z",
     "iopub.status.idle": "2022-08-21T00:42:19.723647Z",
     "shell.execute_reply": "2022-08-21T00:42:19.723080Z"
    },
    "papermill": {
     "duration": 0.055579,
     "end_time": "2022-08-21T00:42:19.723761",
     "exception": false,
     "start_time": "2022-08-21T00:42:19.668182",
     "status": "completed"
    },
    "tags": []
   },
   "outputs": [
    {
     "data": {
      "text/html": [
       "<div>\n",
       "<style scoped>\n",
       "    .dataframe tbody tr th:only-of-type {\n",
       "        vertical-align: middle;\n",
       "    }\n",
       "\n",
       "    .dataframe tbody tr th {\n",
       "        vertical-align: top;\n",
       "    }\n",
       "\n",
       "    .dataframe thead th {\n",
       "        text-align: right;\n",
       "    }\n",
       "</style>\n",
       "<table border=\"1\" class=\"dataframe\">\n",
       "  <thead>\n",
       "    <tr style=\"text-align: right;\">\n",
       "      <th></th>\n",
       "      <th>Country/Region</th>\n",
       "      <th>Cases</th>\n",
       "      <th>Deaths</th>\n",
       "      <th>PCases</th>\n",
       "      <th>PDeaths</th>\n",
       "      <th>Cases (+)</th>\n",
       "      <th>Deaths (+)</th>\n",
       "      <th>Fatality Rate</th>\n",
       "      <th>Continent</th>\n",
       "    </tr>\n",
       "  </thead>\n",
       "  <tbody>\n",
       "    <tr>\n",
       "      <th>0</th>\n",
       "      <td>US</td>\n",
       "      <td>93500945</td>\n",
       "      <td>1040355</td>\n",
       "      <td>93403640</td>\n",
       "      <td>1039746</td>\n",
       "      <td>97305</td>\n",
       "      <td>609</td>\n",
       "      <td>1.1</td>\n",
       "      <td>North America</td>\n",
       "    </tr>\n",
       "    <tr>\n",
       "      <th>1</th>\n",
       "      <td>India</td>\n",
       "      <td>44327890</td>\n",
       "      <td>527289</td>\n",
       "      <td>44314618</td>\n",
       "      <td>527253</td>\n",
       "      <td>13272</td>\n",
       "      <td>36</td>\n",
       "      <td>1.2</td>\n",
       "      <td>Asia</td>\n",
       "    </tr>\n",
       "    <tr>\n",
       "      <th>2</th>\n",
       "      <td>France</td>\n",
       "      <td>34535255</td>\n",
       "      <td>154541</td>\n",
       "      <td>34514986</td>\n",
       "      <td>154467</td>\n",
       "      <td>20269</td>\n",
       "      <td>74</td>\n",
       "      <td>0.4</td>\n",
       "      <td>Europe</td>\n",
       "    </tr>\n",
       "    <tr>\n",
       "      <th>3</th>\n",
       "      <td>Brazil</td>\n",
       "      <td>34264237</td>\n",
       "      <td>682358</td>\n",
       "      <td>34245374</td>\n",
       "      <td>682216</td>\n",
       "      <td>18863</td>\n",
       "      <td>142</td>\n",
       "      <td>2.0</td>\n",
       "      <td>South America</td>\n",
       "    </tr>\n",
       "    <tr>\n",
       "      <th>4</th>\n",
       "      <td>Germany</td>\n",
       "      <td>31808179</td>\n",
       "      <td>146504</td>\n",
       "      <td>31771884</td>\n",
       "      <td>146383</td>\n",
       "      <td>36295</td>\n",
       "      <td>121</td>\n",
       "      <td>0.5</td>\n",
       "      <td>Europe</td>\n",
       "    </tr>\n",
       "  </tbody>\n",
       "</table>\n",
       "</div>"
      ],
      "text/plain": [
       "  Country/Region     Cases   Deaths    PCases  PDeaths  Cases (+)  Deaths (+)  \\\n",
       "0             US  93500945  1040355  93403640  1039746      97305         609   \n",
       "1          India  44327890   527289  44314618   527253      13272          36   \n",
       "2         France  34535255   154541  34514986   154467      20269          74   \n",
       "3         Brazil  34264237   682358  34245374   682216      18863         142   \n",
       "4        Germany  31808179   146504  31771884   146383      36295         121   \n",
       "\n",
       "   Fatality Rate      Continent  \n",
       "0            1.1  North America  \n",
       "1            1.2           Asia  \n",
       "2            0.4         Europe  \n",
       "3            2.0  South America  \n",
       "4            0.5         Europe  "
      ]
     },
     "execution_count": 15,
     "metadata": {},
     "output_type": "execute_result"
    }
   ],
   "source": [
    "#hide\n",
    "df_table = (pd.DataFrame(dict(Cases=dfc_cases, Deaths=dfc_deaths, PCases=dfp_cases, PDeaths=dfp_deaths))\n",
    "             .sort_values(by=['Cases', 'Deaths'], ascending=[False, False])\n",
    "             .reset_index())\n",
    "df_table.rename(columns={'index': 'Country/Region'}, inplace=True)\n",
    "for c in 'Cases, Deaths'.split(', '):\n",
    "    df_table[f'{c} (+)'] = (df_table[c] - df_table[f'P{c}']).clip(0)  # DATA BUG\n",
    "df_table['Fatality Rate'] = (100 * df_table['Deaths'] / df_table['Cases']).round(1)\n",
    "df_table['Continent'] = df_table['Country/Region'].map(mapping['map.continent'])\n",
    "df_table.head(5)"
   ]
  },
  {
   "cell_type": "code",
   "execution_count": 16,
   "id": "fewer-occasion",
   "metadata": {
    "execution": {
     "iopub.execute_input": "2022-08-21T00:42:19.791462Z",
     "iopub.status.busy": "2022-08-21T00:42:19.790853Z",
     "iopub.status.idle": "2022-08-21T00:42:19.793997Z",
     "shell.execute_reply": "2022-08-21T00:42:19.794457Z"
    },
    "papermill": {
     "duration": 0.039883,
     "end_time": "2022-08-21T00:42:19.794595",
     "exception": false,
     "start_time": "2022-08-21T00:42:19.754712",
     "status": "completed"
    },
    "tags": []
   },
   "outputs": [],
   "source": [
    "#hide\n",
    "#delete problematic countries from table\n",
    "df_table = df_table[~df_table['Country/Region'].isin(['Cape Verde', 'Cruise Ship', 'Kosovo'])]"
   ]
  },
  {
   "cell_type": "code",
   "execution_count": 17,
   "id": "related-center",
   "metadata": {
    "execution": {
     "iopub.execute_input": "2022-08-21T00:42:19.874674Z",
     "iopub.status.busy": "2022-08-21T00:42:19.867335Z",
     "iopub.status.idle": "2022-08-21T00:42:19.877606Z",
     "shell.execute_reply": "2022-08-21T00:42:19.877011Z"
    },
    "papermill": {
     "duration": 0.052494,
     "end_time": "2022-08-21T00:42:19.877725",
     "exception": false,
     "start_time": "2022-08-21T00:42:19.825231",
     "status": "completed"
    },
    "tags": []
   },
   "outputs": [],
   "source": [
    "#hide\n",
    "metrics = [df_table.columns[index] for index in [1,2,5,6]]\n",
    "# s_china = df_table[df_table['Country/Region'].eq('China')][metrics].sum().add_prefix('China ')\n",
    "s_us = df_table[df_table['Country/Region'].eq('US')][metrics].sum().add_prefix('US ')\n",
    "s_eu = df_table[df_table['Continent'].eq('Europe')][metrics].sum().add_prefix('EU ')\n",
    "s_ind = df_table[df_table['Country/Region'].eq('India')][metrics].sum().add_prefix('India ')\n",
    "summary = {'updated': pd.to_datetime(dt_today), 'since': pd.to_datetime(dt_yday)}\n",
    "summary = {'updated': pd.to_datetime(dt_today), 'since': pd.to_datetime(dt_yday)}\n",
    "summary = {**summary, **df_table[metrics].sum(), **s_ind, **s_us, **s_eu}"
   ]
  },
  {
   "cell_type": "code",
   "execution_count": 18,
   "id": "engaging-syndrome",
   "metadata": {
    "execution": {
     "iopub.execute_input": "2022-08-21T00:42:19.945365Z",
     "iopub.status.busy": "2022-08-21T00:42:19.944754Z",
     "iopub.status.idle": "2022-08-21T00:42:19.965389Z",
     "shell.execute_reply": "2022-08-21T00:42:19.964910Z"
    },
    "papermill": {
     "duration": 0.056939,
     "end_time": "2022-08-21T00:42:19.965515",
     "exception": false,
     "start_time": "2022-08-21T00:42:19.908576",
     "status": "completed"
    },
    "tags": []
   },
   "outputs": [],
   "source": [
    "#hide\n",
    "dft_ct_new_cases = dft_cases.groupby(COL_REGION)[dt_cols].sum().diff(axis=1).fillna(0).astype(int)"
   ]
  },
  {
   "cell_type": "code",
   "execution_count": 19,
   "id": "neutral-assignment",
   "metadata": {
    "execution": {
     "iopub.execute_input": "2022-08-21T00:42:20.034464Z",
     "iopub.status.busy": "2022-08-21T00:42:20.033724Z",
     "iopub.status.idle": "2022-08-21T00:42:20.035520Z",
     "shell.execute_reply": "2022-08-21T00:42:20.036055Z"
    },
    "papermill": {
     "duration": 0.039961,
     "end_time": "2022-08-21T00:42:20.036202",
     "exception": false,
     "start_time": "2022-08-21T00:42:19.996241",
     "status": "completed"
    },
    "tags": []
   },
   "outputs": [],
   "source": [
    "#hide\n",
    "everydaycases = dft_ct_new_cases.cumsum(axis=1)"
   ]
  },
  {
   "cell_type": "code",
   "execution_count": 20,
   "id": "parliamentary-calgary",
   "metadata": {
    "execution": {
     "iopub.execute_input": "2022-08-21T00:42:20.102934Z",
     "iopub.status.busy": "2022-08-21T00:42:20.102344Z",
     "iopub.status.idle": "2022-08-21T00:42:20.677638Z",
     "shell.execute_reply": "2022-08-21T00:42:20.678186Z"
    },
    "papermill": {
     "duration": 0.611244,
     "end_time": "2022-08-21T00:42:20.678360",
     "exception": false,
     "start_time": "2022-08-21T00:42:20.067116",
     "status": "completed"
    },
    "tags": []
   },
   "outputs": [],
   "source": [
    "#hide\n",
    "import pandas as pd\n",
    "import matplotlib.pyplot as plt\n",
    "import matplotlib.ticker as ticker\n",
    "import matplotlib.animation as animation\n",
    "from IPython.display import HTML"
   ]
  },
  {
   "cell_type": "code",
   "execution_count": 21,
   "id": "lasting-extraction",
   "metadata": {
    "execution": {
     "iopub.execute_input": "2022-08-21T00:42:20.747276Z",
     "iopub.status.busy": "2022-08-21T00:42:20.746662Z",
     "iopub.status.idle": "2022-08-21T00:42:20.754842Z",
     "shell.execute_reply": "2022-08-21T00:42:20.754358Z"
    },
    "papermill": {
     "duration": 0.045588,
     "end_time": "2022-08-21T00:42:20.754956",
     "exception": false,
     "start_time": "2022-08-21T00:42:20.709368",
     "status": "completed"
    },
    "tags": []
   },
   "outputs": [],
   "source": [
    "#hide\n",
    "t = everydaycases.stack()"
   ]
  },
  {
   "cell_type": "code",
   "execution_count": 22,
   "id": "premier-sleeve",
   "metadata": {
    "execution": {
     "iopub.execute_input": "2022-08-21T00:42:20.820845Z",
     "iopub.status.busy": "2022-08-21T00:42:20.820228Z",
     "iopub.status.idle": "2022-08-21T00:42:20.832715Z",
     "shell.execute_reply": "2022-08-21T00:42:20.832212Z"
    },
    "papermill": {
     "duration": 0.047139,
     "end_time": "2022-08-21T00:42:20.832834",
     "exception": false,
     "start_time": "2022-08-21T00:42:20.785695",
     "status": "completed"
    },
    "tags": []
   },
   "outputs": [],
   "source": [
    "#hide\n",
    "g = t.reset_index(['Country/Region'])"
   ]
  },
  {
   "cell_type": "code",
   "execution_count": 23,
   "id": "distributed-pittsburgh",
   "metadata": {
    "execution": {
     "iopub.execute_input": "2022-08-21T00:42:20.899121Z",
     "iopub.status.busy": "2022-08-21T00:42:20.898398Z",
     "iopub.status.idle": "2022-08-21T00:42:20.901024Z",
     "shell.execute_reply": "2022-08-21T00:42:20.900451Z"
    },
    "papermill": {
     "duration": 0.037522,
     "end_time": "2022-08-21T00:42:20.901154",
     "exception": false,
     "start_time": "2022-08-21T00:42:20.863632",
     "status": "completed"
    },
    "tags": []
   },
   "outputs": [],
   "source": [
    "#hide\n",
    "g.index.name = 'date'"
   ]
  },
  {
   "cell_type": "code",
   "execution_count": 24,
   "id": "naked-donor",
   "metadata": {
    "execution": {
     "iopub.execute_input": "2022-08-21T00:42:20.967487Z",
     "iopub.status.busy": "2022-08-21T00:42:20.966854Z",
     "iopub.status.idle": "2022-08-21T00:42:20.969301Z",
     "shell.execute_reply": "2022-08-21T00:42:20.968691Z"
    },
    "papermill": {
     "duration": 0.037028,
     "end_time": "2022-08-21T00:42:20.969417",
     "exception": false,
     "start_time": "2022-08-21T00:42:20.932389",
     "status": "completed"
    },
    "tags": []
   },
   "outputs": [],
   "source": [
    "# #hide\n",
    "# g = g.reset_index(['date'])"
   ]
  },
  {
   "cell_type": "code",
   "execution_count": 25,
   "id": "incomplete-mustang",
   "metadata": {
    "execution": {
     "iopub.execute_input": "2022-08-21T00:42:21.034895Z",
     "iopub.status.busy": "2022-08-21T00:42:21.034185Z",
     "iopub.status.idle": "2022-08-21T00:42:21.037011Z",
     "shell.execute_reply": "2022-08-21T00:42:21.036242Z"
    },
    "papermill": {
     "duration": 0.037331,
     "end_time": "2022-08-21T00:42:21.037261",
     "exception": false,
     "start_time": "2022-08-21T00:42:20.999930",
     "status": "completed"
    },
    "tags": []
   },
   "outputs": [],
   "source": [
    "#hide\n",
    "# g.head()"
   ]
  },
  {
   "cell_type": "code",
   "execution_count": 26,
   "id": "specific-kruger",
   "metadata": {
    "execution": {
     "iopub.execute_input": "2022-08-21T00:42:21.116984Z",
     "iopub.status.busy": "2022-08-21T00:42:21.116233Z",
     "iopub.status.idle": "2022-08-21T00:42:21.118065Z",
     "shell.execute_reply": "2022-08-21T00:42:21.118601Z"
    },
    "papermill": {
     "duration": 0.037026,
     "end_time": "2022-08-21T00:42:21.118743",
     "exception": false,
     "start_time": "2022-08-21T00:42:21.081717",
     "status": "completed"
    },
    "tags": []
   },
   "outputs": [],
   "source": [
    "#hide\n",
    "# g.columns = ['date','country','cases']"
   ]
  },
  {
   "cell_type": "code",
   "execution_count": 27,
   "id": "tender-conversion",
   "metadata": {
    "execution": {
     "iopub.execute_input": "2022-08-21T00:42:21.185112Z",
     "iopub.status.busy": "2022-08-21T00:42:21.184378Z",
     "iopub.status.idle": "2022-08-21T00:42:21.186518Z",
     "shell.execute_reply": "2022-08-21T00:42:21.187035Z"
    },
    "papermill": {
     "duration": 0.037581,
     "end_time": "2022-08-21T00:42:21.187179",
     "exception": false,
     "start_time": "2022-08-21T00:42:21.149598",
     "status": "completed"
    },
    "tags": []
   },
   "outputs": [],
   "source": [
    "#hide\n",
    "# g['continent'] = g.country"
   ]
  },
  {
   "cell_type": "code",
   "execution_count": 28,
   "id": "substantial-wilderness",
   "metadata": {
    "execution": {
     "iopub.execute_input": "2022-08-21T00:42:21.253614Z",
     "iopub.status.busy": "2022-08-21T00:42:21.253014Z",
     "iopub.status.idle": "2022-08-21T00:42:21.255301Z",
     "shell.execute_reply": "2022-08-21T00:42:21.255779Z"
    },
    "papermill": {
     "duration": 0.037105,
     "end_time": "2022-08-21T00:42:21.255913",
     "exception": false,
     "start_time": "2022-08-21T00:42:21.218808",
     "status": "completed"
    },
    "tags": []
   },
   "outputs": [],
   "source": [
    "#hide\n",
    "# cols = list(g.columns.values)"
   ]
  },
  {
   "cell_type": "code",
   "execution_count": 29,
   "id": "solved-farming",
   "metadata": {
    "execution": {
     "iopub.execute_input": "2022-08-21T00:42:21.321626Z",
     "iopub.status.busy": "2022-08-21T00:42:21.320904Z",
     "iopub.status.idle": "2022-08-21T00:42:21.322677Z",
     "shell.execute_reply": "2022-08-21T00:42:21.323214Z"
    },
    "papermill": {
     "duration": 0.036889,
     "end_time": "2022-08-21T00:42:21.323362",
     "exception": false,
     "start_time": "2022-08-21T00:42:21.286473",
     "status": "completed"
    },
    "tags": []
   },
   "outputs": [],
   "source": [
    "#hide\n",
    "# cols.insert(0, cols.pop())"
   ]
  },
  {
   "cell_type": "code",
   "execution_count": 30,
   "id": "executed-adoption",
   "metadata": {
    "execution": {
     "iopub.execute_input": "2022-08-21T00:42:21.389498Z",
     "iopub.status.busy": "2022-08-21T00:42:21.388764Z",
     "iopub.status.idle": "2022-08-21T00:42:21.390541Z",
     "shell.execute_reply": "2022-08-21T00:42:21.391052Z"
    },
    "papermill": {
     "duration": 0.036847,
     "end_time": "2022-08-21T00:42:21.391201",
     "exception": false,
     "start_time": "2022-08-21T00:42:21.354354",
     "status": "completed"
    },
    "tags": []
   },
   "outputs": [],
   "source": [
    "#hide\n",
    "# g = g[cols]"
   ]
  },
  {
   "cell_type": "code",
   "execution_count": 31,
   "id": "subject-dublin",
   "metadata": {
    "execution": {
     "iopub.execute_input": "2022-08-21T00:42:21.457493Z",
     "iopub.status.busy": "2022-08-21T00:42:21.456878Z",
     "iopub.status.idle": "2022-08-21T00:42:21.459719Z",
     "shell.execute_reply": "2022-08-21T00:42:21.459236Z"
    },
    "papermill": {
     "duration": 0.037293,
     "end_time": "2022-08-21T00:42:21.459843",
     "exception": false,
     "start_time": "2022-08-21T00:42:21.422550",
     "status": "completed"
    },
    "tags": []
   },
   "outputs": [],
   "source": [
    "#hide\n",
    "# g['continent'] = g['continent'].map(mapping['map.continent'])"
   ]
  },
  {
   "cell_type": "code",
   "execution_count": 32,
   "id": "freelance-scout",
   "metadata": {
    "execution": {
     "iopub.execute_input": "2022-08-21T00:42:21.526064Z",
     "iopub.status.busy": "2022-08-21T00:42:21.525355Z",
     "iopub.status.idle": "2022-08-21T00:42:21.527924Z",
     "shell.execute_reply": "2022-08-21T00:42:21.527348Z"
    },
    "papermill": {
     "duration": 0.037512,
     "end_time": "2022-08-21T00:42:21.528041",
     "exception": false,
     "start_time": "2022-08-21T00:42:21.490529",
     "status": "completed"
    },
    "tags": []
   },
   "outputs": [],
   "source": [
    "#hide\n",
    "# g.head()"
   ]
  },
  {
   "cell_type": "code",
   "execution_count": 33,
   "id": "limited-engine",
   "metadata": {
    "execution": {
     "iopub.execute_input": "2022-08-21T00:42:21.593637Z",
     "iopub.status.busy": "2022-08-21T00:42:21.592914Z",
     "iopub.status.idle": "2022-08-21T00:42:21.596027Z",
     "shell.execute_reply": "2022-08-21T00:42:21.595372Z"
    },
    "papermill": {
     "duration": 0.037523,
     "end_time": "2022-08-21T00:42:21.596158",
     "exception": false,
     "start_time": "2022-08-21T00:42:21.558635",
     "status": "completed"
    },
    "tags": []
   },
   "outputs": [],
   "source": [
    "# hide\n",
    "# g['date'] = g['date'].astype('datetime64[ns]')"
   ]
  },
  {
   "cell_type": "code",
   "execution_count": 34,
   "id": "sophisticated-supervisor",
   "metadata": {
    "execution": {
     "iopub.execute_input": "2022-08-21T00:42:21.661824Z",
     "iopub.status.busy": "2022-08-21T00:42:21.661216Z",
     "iopub.status.idle": "2022-08-21T00:42:21.664600Z",
     "shell.execute_reply": "2022-08-21T00:42:21.665057Z"
    },
    "papermill": {
     "duration": 0.037891,
     "end_time": "2022-08-21T00:42:21.665188",
     "exception": false,
     "start_time": "2022-08-21T00:42:21.627297",
     "status": "completed"
    },
    "tags": []
   },
   "outputs": [],
   "source": [
    "#hide\n",
    "# g['date'] = g.date.dt.dayofyear"
   ]
  },
  {
   "cell_type": "code",
   "execution_count": 35,
   "id": "inside-dubai",
   "metadata": {
    "execution": {
     "iopub.execute_input": "2022-08-21T00:42:21.730471Z",
     "iopub.status.busy": "2022-08-21T00:42:21.729768Z",
     "iopub.status.idle": "2022-08-21T00:42:21.732469Z",
     "shell.execute_reply": "2022-08-21T00:42:21.732009Z"
    },
    "papermill": {
     "duration": 0.036883,
     "end_time": "2022-08-21T00:42:21.732583",
     "exception": false,
     "start_time": "2022-08-21T00:42:21.695700",
     "status": "completed"
    },
    "tags": []
   },
   "outputs": [],
   "source": [
    "#hide\n",
    "# g = g.rename(columns= {'continent':'group','country':'name','cases':'value'})"
   ]
  },
  {
   "cell_type": "code",
   "execution_count": 36,
   "id": "fleet-motorcycle",
   "metadata": {
    "execution": {
     "iopub.execute_input": "2022-08-21T00:42:21.799004Z",
     "iopub.status.busy": "2022-08-21T00:42:21.798285Z",
     "iopub.status.idle": "2022-08-21T00:42:21.800872Z",
     "shell.execute_reply": "2022-08-21T00:42:21.800184Z"
    },
    "papermill": {
     "duration": 0.037681,
     "end_time": "2022-08-21T00:42:21.801006",
     "exception": false,
     "start_time": "2022-08-21T00:42:21.763325",
     "status": "completed"
    },
    "tags": []
   },
   "outputs": [],
   "source": [
    "#hide\n",
    "# cols = ['name','group','day','value']"
   ]
  },
  {
   "cell_type": "code",
   "execution_count": 37,
   "id": "continued-sleeping",
   "metadata": {
    "execution": {
     "iopub.execute_input": "2022-08-21T00:42:21.866997Z",
     "iopub.status.busy": "2022-08-21T00:42:21.866376Z",
     "iopub.status.idle": "2022-08-21T00:42:21.868946Z",
     "shell.execute_reply": "2022-08-21T00:42:21.868344Z"
    },
    "papermill": {
     "duration": 0.037021,
     "end_time": "2022-08-21T00:42:21.869061",
     "exception": false,
     "start_time": "2022-08-21T00:42:21.832040",
     "status": "completed"
    },
    "tags": []
   },
   "outputs": [],
   "source": [
    "#hide\n",
    "# g.rename(columns= {'date':'day'},inplace = True)"
   ]
  },
  {
   "cell_type": "code",
   "execution_count": 38,
   "id": "major-fight",
   "metadata": {
    "execution": {
     "iopub.execute_input": "2022-08-21T00:42:21.934919Z",
     "iopub.status.busy": "2022-08-21T00:42:21.934202Z",
     "iopub.status.idle": "2022-08-21T00:42:21.936471Z",
     "shell.execute_reply": "2022-08-21T00:42:21.935900Z"
    },
    "papermill": {
     "duration": 0.036767,
     "end_time": "2022-08-21T00:42:21.936589",
     "exception": false,
     "start_time": "2022-08-21T00:42:21.899822",
     "status": "completed"
    },
    "tags": []
   },
   "outputs": [],
   "source": [
    "#hide\n",
    "# g = g[cols]"
   ]
  },
  {
   "cell_type": "code",
   "execution_count": 39,
   "id": "structured-mobile",
   "metadata": {
    "execution": {
     "iopub.execute_input": "2022-08-21T00:42:22.002269Z",
     "iopub.status.busy": "2022-08-21T00:42:22.001556Z",
     "iopub.status.idle": "2022-08-21T00:42:22.004041Z",
     "shell.execute_reply": "2022-08-21T00:42:22.003397Z"
    },
    "papermill": {
     "duration": 0.036914,
     "end_time": "2022-08-21T00:42:22.004170",
     "exception": false,
     "start_time": "2022-08-21T00:42:21.967256",
     "status": "completed"
    },
    "tags": []
   },
   "outputs": [],
   "source": [
    "# #hide\n",
    "# g = g[g.group.notna()]"
   ]
  },
  {
   "cell_type": "code",
   "execution_count": 40,
   "id": "determined-closing",
   "metadata": {
    "execution": {
     "iopub.execute_input": "2022-08-21T00:42:22.070845Z",
     "iopub.status.busy": "2022-08-21T00:42:22.070114Z",
     "iopub.status.idle": "2022-08-21T00:42:22.072490Z",
     "shell.execute_reply": "2022-08-21T00:42:22.071834Z"
    },
    "papermill": {
     "duration": 0.037437,
     "end_time": "2022-08-21T00:42:22.072637",
     "exception": false,
     "start_time": "2022-08-21T00:42:22.035200",
     "status": "completed"
    },
    "tags": []
   },
   "outputs": [],
   "source": [
    "# #hide\n",
    "# colors = dict(zip(\n",
    "#     [\"Oceania\", \"Europe\", \"Asia\", \"South America\", \"Middle East\", \"North America\", \"Africa\"],\n",
    "#     [\"#adb0ff\", \"#ffb3ff\", \"#90d595\", \"#e48381\", \"#aafbff\", \"#f7bb5f\", \"#eafb50\"]\n",
    "# ))\n",
    "# group_lk = g.set_index('name')['group'].to_dict()"
   ]
  },
  {
   "cell_type": "code",
   "execution_count": null,
   "id": "gross-drinking",
   "metadata": {
    "papermill": {
     "duration": 0.030551,
     "end_time": "2022-08-21T00:42:22.134440",
     "exception": false,
     "start_time": "2022-08-21T00:42:22.103889",
     "status": "completed"
    },
    "tags": []
   },
   "outputs": [],
   "source": []
  },
  {
   "cell_type": "code",
   "execution_count": 41,
   "id": "subject-macintosh",
   "metadata": {
    "execution": {
     "iopub.execute_input": "2022-08-21T00:42:22.201833Z",
     "iopub.status.busy": "2022-08-21T00:42:22.201188Z",
     "iopub.status.idle": "2022-08-21T00:42:22.203382Z",
     "shell.execute_reply": "2022-08-21T00:42:22.203809Z"
    },
    "papermill": {
     "duration": 0.038454,
     "end_time": "2022-08-21T00:42:22.203948",
     "exception": false,
     "start_time": "2022-08-21T00:42:22.165494",
     "status": "completed"
    },
    "tags": []
   },
   "outputs": [],
   "source": [
    "# #hide\n",
    "# fig, ax = plt.subplots(figsize=(15, 8))\n",
    "\n",
    "# def draw_barchart(current_day):\n",
    "#     dff = g[g['day'].eq(current_day)].sort_values(by='value', ascending=True).tail(10)\n",
    "#     ax.clear()\n",
    "#     ax.barh(dff['name'], dff['value'], color=[colors[group_lk[x]] for x in dff['name']])\n",
    "#     dx = dff['value'].max() / 200\n",
    "    \n",
    "#     for i, (value, name) in enumerate(zip(dff['value'], dff['name'])):\n",
    "#         ax.text(value-dx, i,     name,           size=14, weight=600, ha='right', va='bottom')\n",
    "#         ax.text(value-dx, i-.25, group_lk[name], size=10, color='#444444', ha='right', va='baseline')\n",
    "#         ax.text(value+dx, i,     f'{value:,.0f}',  size=14, ha='left',  va='center')\n",
    "#     ax.text(1, 0.4, current_day, transform=ax.transAxes, color='#777777', size=46, ha='right', weight=800)\n",
    "#     ax.text(0, 1.06, 'Population (thousands)', transform=ax.transAxes, size=12, color='#777777')\n",
    "#     ax.xaxis.set_major_formatter(ticker.StrMethodFormatter('{x:,.0f}'))\n",
    "#     ax.xaxis.set_ticks_position('top')\n",
    "#     ax.tick_params(axis='x', colors='#777777', labelsize=12)\n",
    "#     ax.set_yticks([])\n",
    "#     ax.margins(0, 0.01)\n",
    "#     ax.grid(which='major', axis='x', linestyle='-')\n",
    "#     ax.set_axisbelow(True)\n",
    "    \n",
    "#     ax.text(0, 1.15, 'Coronavirus',\n",
    "#             transform=ax.transAxes, size=24, weight=600, ha='left', va='top')\n",
    "# #     ax.text(1, 0, 'by @pratapvardhan; credit @jburnmurdoch', transform=ax.transAxes, color='#777777', ha='right',\n",
    "# #             bbox=dict(facecolor='white', alpha=0.8, edgecolor='white'))\n",
    "#     plt.box(False)"
   ]
  },
  {
   "cell_type": "code",
   "execution_count": 42,
   "id": "sexual-wages",
   "metadata": {
    "execution": {
     "iopub.execute_input": "2022-08-21T00:42:22.270078Z",
     "iopub.status.busy": "2022-08-21T00:42:22.269362Z",
     "iopub.status.idle": "2022-08-21T00:42:22.271746Z",
     "shell.execute_reply": "2022-08-21T00:42:22.271089Z"
    },
    "papermill": {
     "duration": 0.037174,
     "end_time": "2022-08-21T00:42:22.271859",
     "exception": false,
     "start_time": "2022-08-21T00:42:22.234685",
     "status": "completed"
    },
    "tags": []
   },
   "outputs": [],
   "source": [
    "# #hide_input\n",
    "# fig, ax = plt.subplots(figsize=(15, 8))\n",
    "# animator = animation.FuncAnimation(fig, draw_barchart, frames=range(g.day.values.min(), g.day.values.max()))\n",
    "# HTML(animator.to_jshtml())\n",
    "# # or use animator.to_html5_video() or animator.save() "
   ]
  },
  {
   "cell_type": "code",
   "execution_count": null,
   "id": "australian-container",
   "metadata": {
    "papermill": {
     "duration": 0.030553,
     "end_time": "2022-08-21T00:42:22.333198",
     "exception": false,
     "start_time": "2022-08-21T00:42:22.302645",
     "status": "completed"
    },
    "tags": []
   },
   "outputs": [],
   "source": []
  },
  {
   "cell_type": "code",
   "execution_count": null,
   "id": "mediterranean-pontiac",
   "metadata": {
    "papermill": {
     "duration": 0.031406,
     "end_time": "2022-08-21T00:42:22.395959",
     "exception": false,
     "start_time": "2022-08-21T00:42:22.364553",
     "status": "completed"
    },
    "tags": []
   },
   "outputs": [],
   "source": []
  },
  {
   "cell_type": "code",
   "execution_count": null,
   "id": "aging-legislature",
   "metadata": {
    "papermill": {
     "duration": 0.047167,
     "end_time": "2022-08-21T00:42:22.474899",
     "exception": false,
     "start_time": "2022-08-21T00:42:22.427732",
     "status": "completed"
    },
    "tags": []
   },
   "outputs": [],
   "source": []
  }
 ],
 "metadata": {
  "kernelspec": {
   "display_name": "Python 3",
   "language": "python",
   "name": "python3"
  },
  "language_info": {
   "codemirror_mode": {
    "name": "ipython",
    "version": 3
   },
   "file_extension": ".py",
   "mimetype": "text/x-python",
   "name": "python",
   "nbconvert_exporter": "python",
   "pygments_lexer": "ipython3",
   "version": "3.6.15"
  },
  "papermill": {
   "duration": 6.091649,
   "end_time": "2022-08-21T00:42:22.978977",
   "environment_variables": {},
   "exception": null,
   "input_path": "2020-03-21-covid19exp.ipynb",
   "output_path": "2020-03-21-covid19exp.ipynb",
   "parameters": {},
   "start_time": "2022-08-21T00:42:16.887328",
   "version": "2.0.0"
  }
 },
 "nbformat": 4,
 "nbformat_minor": 5
}