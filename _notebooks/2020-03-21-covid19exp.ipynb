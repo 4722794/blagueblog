{
 "cells": [
  {
   "cell_type": "markdown",
   "metadata": {
    "papermill": {
     "duration": 0.034397,
     "end_time": "2020-12-29T00:20:15.798476",
     "exception": false,
     "start_time": "2020-12-29T00:20:15.764079",
     "status": "completed"
    },
    "tags": []
   },
   "source": [
    "# COVID-19 Case Race\n",
    "> A race chart to see rising cases around the world\n",
    "\n",
    "- author: Hargun Oberoi\n",
    "- image: images/covid-overview.png\n",
    "- hide: false\n",
    "- badges: false"
   ]
  },
  {
   "cell_type": "code",
   "execution_count": 1,
   "metadata": {
    "execution": {
     "iopub.execute_input": "2020-12-29T00:20:15.871874Z",
     "iopub.status.busy": "2020-12-29T00:20:15.871249Z",
     "iopub.status.idle": "2020-12-29T00:20:16.237155Z",
     "shell.execute_reply": "2020-12-29T00:20:16.236230Z"
    },
    "papermill": {
     "duration": 0.407877,
     "end_time": "2020-12-29T00:20:16.237314",
     "exception": false,
     "start_time": "2020-12-29T00:20:15.829437",
     "status": "completed"
    },
    "tags": []
   },
   "outputs": [],
   "source": [
    "#hide\n",
    "import numpy as np\n",
    "import pandas as pd\n",
    "from jinja2 import Template\n",
    "from IPython.display import HTML"
   ]
  },
  {
   "cell_type": "code",
   "execution_count": 2,
   "metadata": {
    "execution": {
     "iopub.execute_input": "2020-12-29T00:20:16.304802Z",
     "iopub.status.busy": "2020-12-29T00:20:16.303632Z",
     "iopub.status.idle": "2020-12-29T00:20:16.305458Z",
     "shell.execute_reply": "2020-12-29T00:20:16.305922Z"
    },
    "papermill": {
     "duration": 0.037679,
     "end_time": "2020-12-29T00:20:16.306072",
     "exception": false,
     "start_time": "2020-12-29T00:20:16.268393",
     "status": "completed"
    },
    "tags": []
   },
   "outputs": [],
   "source": [
    "#hide\n",
    "\n",
    "# FETCH\n",
    "base_url = 'https://raw.githubusercontent.com/pratapvardhan/notebooks/master/covid19/'\n",
    "paths = {\n",
    "    'mapping': base_url + 'mapping_countries.csv',\n",
    "    'overview': base_url + 'overview.tpl'\n",
    "}"
   ]
  },
  {
   "cell_type": "code",
   "execution_count": 3,
   "metadata": {
    "execution": {
     "iopub.execute_input": "2020-12-29T00:20:16.380470Z",
     "iopub.status.busy": "2020-12-29T00:20:16.379877Z",
     "iopub.status.idle": "2020-12-29T00:20:16.383023Z",
     "shell.execute_reply": "2020-12-29T00:20:16.383502Z"
    },
    "papermill": {
     "duration": 0.047386,
     "end_time": "2020-12-29T00:20:16.383654",
     "exception": false,
     "start_time": "2020-12-29T00:20:16.336268",
     "status": "completed"
    },
    "tags": []
   },
   "outputs": [
    {
     "data": {
      "text/plain": [
       "'https://raw.githubusercontent.com/pratapvardhan/notebooks/master/covid19/mapping_countries.csv'"
      ]
     },
     "execution_count": 3,
     "metadata": {},
     "output_type": "execute_result"
    }
   ],
   "source": [
    "#hide\n",
    "paths['mapping']"
   ]
  },
  {
   "cell_type": "code",
   "execution_count": 4,
   "metadata": {
    "execution": {
     "iopub.execute_input": "2020-12-29T00:20:16.452119Z",
     "iopub.status.busy": "2020-12-29T00:20:16.451505Z",
     "iopub.status.idle": "2020-12-29T00:20:16.454869Z",
     "shell.execute_reply": "2020-12-29T00:20:16.454090Z"
    },
    "papermill": {
     "duration": 0.040525,
     "end_time": "2020-12-29T00:20:16.455009",
     "exception": false,
     "start_time": "2020-12-29T00:20:16.414484",
     "status": "completed"
    },
    "tags": []
   },
   "outputs": [],
   "source": [
    "#hide\n",
    "def get_mappings(url):\n",
    "    df = pd.read_csv(url)\n",
    "    return {\n",
    "        'df': df,\n",
    "        'replace.country': dict(df.dropna(subset=['Name']).set_index('Country')['Name']),\n",
    "        'map.continent': dict(df.set_index('Name')['Continent'])\n",
    "    }"
   ]
  },
  {
   "cell_type": "code",
   "execution_count": 5,
   "metadata": {
    "execution": {
     "iopub.execute_input": "2020-12-29T00:20:16.522735Z",
     "iopub.status.busy": "2020-12-29T00:20:16.521996Z",
     "iopub.status.idle": "2020-12-29T00:20:16.562303Z",
     "shell.execute_reply": "2020-12-29T00:20:16.561759Z"
    },
    "papermill": {
     "duration": 0.07565,
     "end_time": "2020-12-29T00:20:16.562441",
     "exception": false,
     "start_time": "2020-12-29T00:20:16.486791",
     "status": "completed"
    },
    "tags": []
   },
   "outputs": [],
   "source": [
    "#hide\n",
    "mapping = get_mappings(paths['mapping'])"
   ]
  },
  {
   "cell_type": "code",
   "execution_count": 6,
   "metadata": {
    "execution": {
     "iopub.execute_input": "2020-12-29T00:20:16.630223Z",
     "iopub.status.busy": "2020-12-29T00:20:16.629627Z",
     "iopub.status.idle": "2020-12-29T00:20:16.631767Z",
     "shell.execute_reply": "2020-12-29T00:20:16.632329Z"
    },
    "papermill": {
     "duration": 0.039287,
     "end_time": "2020-12-29T00:20:16.632477",
     "exception": false,
     "start_time": "2020-12-29T00:20:16.593190",
     "status": "completed"
    },
    "tags": []
   },
   "outputs": [],
   "source": [
    "#hide\n",
    "def get_template(path):\n",
    "    from urllib.parse import urlparse\n",
    "    if bool(urlparse(path).netloc):\n",
    "        from urllib.request import urlopen\n",
    "        return urlopen(path).read().decode('utf8')\n",
    "    return open(path).read()"
   ]
  },
  {
   "cell_type": "code",
   "execution_count": 7,
   "metadata": {
    "execution": {
     "iopub.execute_input": "2020-12-29T00:20:16.697988Z",
     "iopub.status.busy": "2020-12-29T00:20:16.697394Z",
     "iopub.status.idle": "2020-12-29T00:20:16.699660Z",
     "shell.execute_reply": "2020-12-29T00:20:16.699079Z"
    },
    "papermill": {
     "duration": 0.037377,
     "end_time": "2020-12-29T00:20:16.699789",
     "exception": false,
     "start_time": "2020-12-29T00:20:16.662412",
     "status": "completed"
    },
    "tags": []
   },
   "outputs": [],
   "source": [
    "#hide\n",
    "def get_frame(name):\n",
    "    url = (\n",
    "        'https://raw.githubusercontent.com/CSSEGISandData/COVID-19/master/csse_covid_19_data/'\n",
    "        f'csse_covid_19_time_series/time_series_covid19_{name}_global.csv')\n",
    "    df = pd.read_csv(url)\n",
    "    # rename countries\n",
    "    df['Country/Region'] = df['Country/Region'].replace(mapping['replace.country'])\n",
    "    return df"
   ]
  },
  {
   "cell_type": "code",
   "execution_count": 8,
   "metadata": {
    "execution": {
     "iopub.execute_input": "2020-12-29T00:20:16.767627Z",
     "iopub.status.busy": "2020-12-29T00:20:16.767026Z",
     "iopub.status.idle": "2020-12-29T00:20:16.769261Z",
     "shell.execute_reply": "2020-12-29T00:20:16.768709Z"
    },
    "papermill": {
     "duration": 0.039363,
     "end_time": "2020-12-29T00:20:16.769390",
     "exception": false,
     "start_time": "2020-12-29T00:20:16.730027",
     "status": "completed"
    },
    "tags": []
   },
   "outputs": [],
   "source": [
    "#hide\n",
    "def get_dates(df):\n",
    "    dt_cols = df.columns[~df.columns.isin(['Province/State', 'Country/Region', 'Lat', 'Long'])]\n",
    "    LAST_DATE_I = -1\n",
    "    # sometimes last column may be empty, then go backwards\n",
    "    for i in range(-1, -len(dt_cols), -1):\n",
    "        if not df[dt_cols[i]].fillna(0).eq(0).all():\n",
    "            LAST_DATE_I = i\n",
    "            break\n",
    "    return LAST_DATE_I, dt_cols"
   ]
  },
  {
   "cell_type": "code",
   "execution_count": 9,
   "metadata": {
    "execution": {
     "iopub.execute_input": "2020-12-29T00:20:16.835453Z",
     "iopub.status.busy": "2020-12-29T00:20:16.834389Z",
     "iopub.status.idle": "2020-12-29T00:20:17.057765Z",
     "shell.execute_reply": "2020-12-29T00:20:17.058271Z"
    },
    "papermill": {
     "duration": 0.259213,
     "end_time": "2020-12-29T00:20:17.058431",
     "exception": false,
     "start_time": "2020-12-29T00:20:16.799218",
     "status": "completed"
    },
    "tags": []
   },
   "outputs": [],
   "source": [
    "#hide\n",
    "COL_REGION = 'Country/Region'\n",
    "# Confirmed, Recovered, Deaths\n",
    "df = get_frame('confirmed')\n",
    "# dft_: timeseries, dfc_: today country agg\n",
    "dft_cases = df\n",
    "dft_deaths = get_frame('deaths')\n",
    "dft_recovered = get_frame('recovered')\n",
    "LAST_DATE_I, dt_cols = get_dates(df)"
   ]
  },
  {
   "cell_type": "code",
   "execution_count": 10,
   "metadata": {
    "execution": {
     "iopub.execute_input": "2020-12-29T00:20:17.131504Z",
     "iopub.status.busy": "2020-12-29T00:20:17.130883Z",
     "iopub.status.idle": "2020-12-29T00:20:17.132666Z",
     "shell.execute_reply": "2020-12-29T00:20:17.133232Z"
    },
    "papermill": {
     "duration": 0.043582,
     "end_time": "2020-12-29T00:20:17.133380",
     "exception": false,
     "start_time": "2020-12-29T00:20:17.089798",
     "status": "completed"
    },
    "tags": []
   },
   "outputs": [],
   "source": [
    "#hide\n",
    "LAST_DATE_I, dt_cols = get_dates(df)\n",
    "dt_today =dt_cols[LAST_DATE_I]\n",
    "# dt_5day = dt_cols[LAST_DATE_I - 5]\n",
    "dt_yday = dt_cols[LAST_DATE_I - 1]"
   ]
  },
  {
   "cell_type": "code",
   "execution_count": 11,
   "metadata": {
    "execution": {
     "iopub.execute_input": "2020-12-29T00:20:17.199107Z",
     "iopub.status.busy": "2020-12-29T00:20:17.198457Z",
     "iopub.status.idle": "2020-12-29T00:20:17.206388Z",
     "shell.execute_reply": "2020-12-29T00:20:17.206892Z"
    },
    "papermill": {
     "duration": 0.043797,
     "end_time": "2020-12-29T00:20:17.207051",
     "exception": false,
     "start_time": "2020-12-29T00:20:17.163254",
     "status": "completed"
    },
    "tags": []
   },
   "outputs": [],
   "source": [
    "#hide\n",
    "dfc_cases = dft_cases.groupby(COL_REGION)[dt_today].sum()\n",
    "dfc_deaths = dft_deaths.groupby(COL_REGION)[dt_today].sum()\n",
    "# dfp_cases = dft_cases.groupby(COL_REGION)[dt_5day].sum()\n",
    "# dfp_deaths = dft_deaths.groupby(COL_REGION)[dt_5day].sum()\n",
    "dfp_cases = dft_cases.groupby(COL_REGION)[dt_yday].sum()\n",
    "dfp_deaths = dft_deaths.groupby(COL_REGION)[dt_yday].sum()"
   ]
  },
  {
   "cell_type": "code",
   "execution_count": 12,
   "metadata": {
    "execution": {
     "iopub.execute_input": "2020-12-29T00:20:17.276953Z",
     "iopub.status.busy": "2020-12-29T00:20:17.276353Z",
     "iopub.status.idle": "2020-12-29T00:20:17.278709Z",
     "shell.execute_reply": "2020-12-29T00:20:17.279299Z"
    },
    "papermill": {
     "duration": 0.042127,
     "end_time": "2020-12-29T00:20:17.279454",
     "exception": false,
     "start_time": "2020-12-29T00:20:17.237327",
     "status": "completed"
    },
    "tags": []
   },
   "outputs": [],
   "source": [
    "#hide\n",
    "df_table = (pd.DataFrame(dict(Cases = dfc_cases, Deaths = dfc_deaths, PCases = dfp_cases, PDeaths = dfp_deaths))\n",
    "            .sort_values(by = ['Cases','Deaths'], ascending = [False, False])\n",
    "            .reset_index())"
   ]
  },
  {
   "cell_type": "code",
   "execution_count": 13,
   "metadata": {
    "execution": {
     "iopub.execute_input": "2020-12-29T00:20:17.363309Z",
     "iopub.status.busy": "2020-12-29T00:20:17.358316Z",
     "iopub.status.idle": "2020-12-29T00:20:17.366201Z",
     "shell.execute_reply": "2020-12-29T00:20:17.366789Z"
    },
    "papermill": {
     "duration": 0.057688,
     "end_time": "2020-12-29T00:20:17.366986",
     "exception": false,
     "start_time": "2020-12-29T00:20:17.309298",
     "status": "completed"
    },
    "tags": []
   },
   "outputs": [
    {
     "data": {
      "text/html": [
       "<div>\n",
       "<style scoped>\n",
       "    .dataframe tbody tr th:only-of-type {\n",
       "        vertical-align: middle;\n",
       "    }\n",
       "\n",
       "    .dataframe tbody tr th {\n",
       "        vertical-align: top;\n",
       "    }\n",
       "\n",
       "    .dataframe thead th {\n",
       "        text-align: right;\n",
       "    }\n",
       "</style>\n",
       "<table border=\"1\" class=\"dataframe\">\n",
       "  <thead>\n",
       "    <tr style=\"text-align: right;\">\n",
       "      <th></th>\n",
       "      <th>Country/Region</th>\n",
       "      <th>Cases</th>\n",
       "      <th>Deaths</th>\n",
       "      <th>PCases</th>\n",
       "      <th>PDeaths</th>\n",
       "      <th>Cases (+)</th>\n",
       "      <th>Deaths (+)</th>\n",
       "      <th>Fatality Rate</th>\n",
       "      <th>Continent</th>\n",
       "    </tr>\n",
       "  </thead>\n",
       "  <tbody>\n",
       "    <tr>\n",
       "      <th>0</th>\n",
       "      <td>US</td>\n",
       "      <td>19132726</td>\n",
       "      <td>333118</td>\n",
       "      <td>18982634</td>\n",
       "      <td>331909</td>\n",
       "      <td>150092</td>\n",
       "      <td>1209</td>\n",
       "      <td>1.74</td>\n",
       "      <td>North America</td>\n",
       "    </tr>\n",
       "    <tr>\n",
       "      <th>1</th>\n",
       "      <td>India</td>\n",
       "      <td>10207871</td>\n",
       "      <td>147901</td>\n",
       "      <td>10187850</td>\n",
       "      <td>147622</td>\n",
       "      <td>20021</td>\n",
       "      <td>279</td>\n",
       "      <td>1.45</td>\n",
       "      <td>Asia</td>\n",
       "    </tr>\n",
       "    <tr>\n",
       "      <th>2</th>\n",
       "      <td>Brazil</td>\n",
       "      <td>7484285</td>\n",
       "      <td>191139</td>\n",
       "      <td>7465806</td>\n",
       "      <td>190795</td>\n",
       "      <td>18479</td>\n",
       "      <td>344</td>\n",
       "      <td>2.55</td>\n",
       "      <td>South America</td>\n",
       "    </tr>\n",
       "    <tr>\n",
       "      <th>3</th>\n",
       "      <td>Russia</td>\n",
       "      <td>3019972</td>\n",
       "      <td>54080</td>\n",
       "      <td>2992123</td>\n",
       "      <td>53539</td>\n",
       "      <td>27849</td>\n",
       "      <td>541</td>\n",
       "      <td>1.79</td>\n",
       "      <td>Europe</td>\n",
       "    </tr>\n",
       "    <tr>\n",
       "      <th>4</th>\n",
       "      <td>France</td>\n",
       "      <td>2616510</td>\n",
       "      <td>62867</td>\n",
       "      <td>2607688</td>\n",
       "      <td>62694</td>\n",
       "      <td>8822</td>\n",
       "      <td>173</td>\n",
       "      <td>2.40</td>\n",
       "      <td>Europe</td>\n",
       "    </tr>\n",
       "  </tbody>\n",
       "</table>\n",
       "</div>"
      ],
      "text/plain": [
       "  Country/Region     Cases  Deaths    PCases  PDeaths  Cases (+)  Deaths (+)  \\\n",
       "0             US  19132726  333118  18982634   331909     150092        1209   \n",
       "1          India  10207871  147901  10187850   147622      20021         279   \n",
       "2         Brazil   7484285  191139   7465806   190795      18479         344   \n",
       "3         Russia   3019972   54080   2992123    53539      27849         541   \n",
       "4         France   2616510   62867   2607688    62694       8822         173   \n",
       "\n",
       "   Fatality Rate      Continent  \n",
       "0           1.74  North America  \n",
       "1           1.45           Asia  \n",
       "2           2.55  South America  \n",
       "3           1.79         Europe  \n",
       "4           2.40         Europe  "
      ]
     },
     "execution_count": 13,
     "metadata": {},
     "output_type": "execute_result"
    }
   ],
   "source": [
    "#hide\n",
    "for c in 'Cases, Deaths'.split(', '):\n",
    "    df_table[f'{c} (+)'] = (df_table[c] - df_table[f'P{c}']).clip(0)\n",
    "    #Clip ça veut dire, les chiffres negatif sont interdit\n",
    "df_table['Fatality Rate'] = (100* df_table['Deaths']/ df_table['Cases']).round(2)\n",
    "df_table['Continent'] = df_table['Country/Region'].map(mapping['map.continent'])\n",
    "df_table.head(5)"
   ]
  },
  {
   "cell_type": "code",
   "execution_count": 14,
   "metadata": {
    "execution": {
     "iopub.execute_input": "2020-12-29T00:20:17.434582Z",
     "iopub.status.busy": "2020-12-29T00:20:17.433968Z",
     "iopub.status.idle": "2020-12-29T00:20:17.435780Z",
     "shell.execute_reply": "2020-12-29T00:20:17.436261Z"
    },
    "papermill": {
     "duration": 0.038726,
     "end_time": "2020-12-29T00:20:17.436418",
     "exception": false,
     "start_time": "2020-12-29T00:20:17.397692",
     "status": "completed"
    },
    "tags": []
   },
   "outputs": [],
   "source": [
    "#hide\n",
    "#delete problematic countries from table\n",
    "df_table = df_table[~df_table['Country/Region'].isin(['Cape Verde', 'Cruise Ship', 'Kosovo'])]"
   ]
  },
  {
   "cell_type": "code",
   "execution_count": 15,
   "metadata": {
    "execution": {
     "iopub.execute_input": "2020-12-29T00:20:17.522494Z",
     "iopub.status.busy": "2020-12-29T00:20:17.505337Z",
     "iopub.status.idle": "2020-12-29T00:20:17.524387Z",
     "shell.execute_reply": "2020-12-29T00:20:17.524947Z"
    },
    "papermill": {
     "duration": 0.058189,
     "end_time": "2020-12-29T00:20:17.525103",
     "exception": false,
     "start_time": "2020-12-29T00:20:17.466914",
     "status": "completed"
    },
    "tags": []
   },
   "outputs": [
    {
     "data": {
      "text/html": [
       "<div>\n",
       "<style scoped>\n",
       "    .dataframe tbody tr th:only-of-type {\n",
       "        vertical-align: middle;\n",
       "    }\n",
       "\n",
       "    .dataframe tbody tr th {\n",
       "        vertical-align: top;\n",
       "    }\n",
       "\n",
       "    .dataframe thead th {\n",
       "        text-align: right;\n",
       "    }\n",
       "</style>\n",
       "<table border=\"1\" class=\"dataframe\">\n",
       "  <thead>\n",
       "    <tr style=\"text-align: right;\">\n",
       "      <th></th>\n",
       "      <th>Country/Region</th>\n",
       "      <th>Cases</th>\n",
       "      <th>Deaths</th>\n",
       "      <th>PCases</th>\n",
       "      <th>PDeaths</th>\n",
       "      <th>Cases (+)</th>\n",
       "      <th>Deaths (+)</th>\n",
       "      <th>Fatality Rate</th>\n",
       "      <th>Continent</th>\n",
       "    </tr>\n",
       "  </thead>\n",
       "  <tbody>\n",
       "    <tr>\n",
       "      <th>0</th>\n",
       "      <td>US</td>\n",
       "      <td>19132726</td>\n",
       "      <td>333118</td>\n",
       "      <td>18982634</td>\n",
       "      <td>331909</td>\n",
       "      <td>150092</td>\n",
       "      <td>1209</td>\n",
       "      <td>1.7</td>\n",
       "      <td>North America</td>\n",
       "    </tr>\n",
       "    <tr>\n",
       "      <th>1</th>\n",
       "      <td>India</td>\n",
       "      <td>10207871</td>\n",
       "      <td>147901</td>\n",
       "      <td>10187850</td>\n",
       "      <td>147622</td>\n",
       "      <td>20021</td>\n",
       "      <td>279</td>\n",
       "      <td>1.4</td>\n",
       "      <td>Asia</td>\n",
       "    </tr>\n",
       "    <tr>\n",
       "      <th>2</th>\n",
       "      <td>Brazil</td>\n",
       "      <td>7484285</td>\n",
       "      <td>191139</td>\n",
       "      <td>7465806</td>\n",
       "      <td>190795</td>\n",
       "      <td>18479</td>\n",
       "      <td>344</td>\n",
       "      <td>2.6</td>\n",
       "      <td>South America</td>\n",
       "    </tr>\n",
       "    <tr>\n",
       "      <th>3</th>\n",
       "      <td>Russia</td>\n",
       "      <td>3019972</td>\n",
       "      <td>54080</td>\n",
       "      <td>2992123</td>\n",
       "      <td>53539</td>\n",
       "      <td>27849</td>\n",
       "      <td>541</td>\n",
       "      <td>1.8</td>\n",
       "      <td>Europe</td>\n",
       "    </tr>\n",
       "    <tr>\n",
       "      <th>4</th>\n",
       "      <td>France</td>\n",
       "      <td>2616510</td>\n",
       "      <td>62867</td>\n",
       "      <td>2607688</td>\n",
       "      <td>62694</td>\n",
       "      <td>8822</td>\n",
       "      <td>173</td>\n",
       "      <td>2.4</td>\n",
       "      <td>Europe</td>\n",
       "    </tr>\n",
       "  </tbody>\n",
       "</table>\n",
       "</div>"
      ],
      "text/plain": [
       "  Country/Region     Cases  Deaths    PCases  PDeaths  Cases (+)  Deaths (+)  \\\n",
       "0             US  19132726  333118  18982634   331909     150092        1209   \n",
       "1          India  10207871  147901  10187850   147622      20021         279   \n",
       "2         Brazil   7484285  191139   7465806   190795      18479         344   \n",
       "3         Russia   3019972   54080   2992123    53539      27849         541   \n",
       "4         France   2616510   62867   2607688    62694       8822         173   \n",
       "\n",
       "   Fatality Rate      Continent  \n",
       "0            1.7  North America  \n",
       "1            1.4           Asia  \n",
       "2            2.6  South America  \n",
       "3            1.8         Europe  \n",
       "4            2.4         Europe  "
      ]
     },
     "execution_count": 15,
     "metadata": {},
     "output_type": "execute_result"
    }
   ],
   "source": [
    "#hide\n",
    "df_table = (pd.DataFrame(dict(Cases=dfc_cases, Deaths=dfc_deaths, PCases=dfp_cases, PDeaths=dfp_deaths))\n",
    "             .sort_values(by=['Cases', 'Deaths'], ascending=[False, False])\n",
    "             .reset_index())\n",
    "df_table.rename(columns={'index': 'Country/Region'}, inplace=True)\n",
    "for c in 'Cases, Deaths'.split(', '):\n",
    "    df_table[f'{c} (+)'] = (df_table[c] - df_table[f'P{c}']).clip(0)  # DATA BUG\n",
    "df_table['Fatality Rate'] = (100 * df_table['Deaths'] / df_table['Cases']).round(1)\n",
    "df_table['Continent'] = df_table['Country/Region'].map(mapping['map.continent'])\n",
    "df_table.head(5)"
   ]
  },
  {
   "cell_type": "code",
   "execution_count": 16,
   "metadata": {
    "execution": {
     "iopub.execute_input": "2020-12-29T00:20:17.597138Z",
     "iopub.status.busy": "2020-12-29T00:20:17.596019Z",
     "iopub.status.idle": "2020-12-29T00:20:17.597805Z",
     "shell.execute_reply": "2020-12-29T00:20:17.598358Z"
    },
    "papermill": {
     "duration": 0.041823,
     "end_time": "2020-12-29T00:20:17.598591",
     "exception": false,
     "start_time": "2020-12-29T00:20:17.556768",
     "status": "completed"
    },
    "tags": []
   },
   "outputs": [],
   "source": [
    "#hide\n",
    "#delete problematic countries from table\n",
    "df_table = df_table[~df_table['Country/Region'].isin(['Cape Verde', 'Cruise Ship', 'Kosovo'])]"
   ]
  },
  {
   "cell_type": "code",
   "execution_count": 17,
   "metadata": {
    "execution": {
     "iopub.execute_input": "2020-12-29T00:20:17.673494Z",
     "iopub.status.busy": "2020-12-29T00:20:17.672881Z",
     "iopub.status.idle": "2020-12-29T00:20:17.687413Z",
     "shell.execute_reply": "2020-12-29T00:20:17.687898Z"
    },
    "papermill": {
     "duration": 0.052623,
     "end_time": "2020-12-29T00:20:17.688058",
     "exception": false,
     "start_time": "2020-12-29T00:20:17.635435",
     "status": "completed"
    },
    "tags": []
   },
   "outputs": [],
   "source": [
    "#hide\n",
    "metrics = [df_table.columns[index] for index in [1,2,5,6]]\n",
    "# s_china = df_table[df_table['Country/Region'].eq('China')][metrics].sum().add_prefix('China ')\n",
    "s_us = df_table[df_table['Country/Region'].eq('US')][metrics].sum().add_prefix('US ')\n",
    "s_eu = df_table[df_table['Continent'].eq('Europe')][metrics].sum().add_prefix('EU ')\n",
    "s_ind = df_table[df_table['Country/Region'].eq('India')][metrics].sum().add_prefix('India ')\n",
    "summary = {'updated': pd.to_datetime(dt_today), 'since': pd.to_datetime(dt_yday)}\n",
    "summary = {'updated': pd.to_datetime(dt_today), 'since': pd.to_datetime(dt_yday)}\n",
    "summary = {**summary, **df_table[metrics].sum(), **s_ind, **s_us, **s_eu}"
   ]
  },
  {
   "cell_type": "code",
   "execution_count": 18,
   "metadata": {
    "execution": {
     "iopub.execute_input": "2020-12-29T00:20:17.755450Z",
     "iopub.status.busy": "2020-12-29T00:20:17.754820Z",
     "iopub.status.idle": "2020-12-29T00:20:17.765643Z",
     "shell.execute_reply": "2020-12-29T00:20:17.766123Z"
    },
    "papermill": {
     "duration": 0.047275,
     "end_time": "2020-12-29T00:20:17.766277",
     "exception": false,
     "start_time": "2020-12-29T00:20:17.719002",
     "status": "completed"
    },
    "tags": []
   },
   "outputs": [],
   "source": [
    "#hide\n",
    "dft_ct_new_cases = dft_cases.groupby(COL_REGION)[dt_cols].sum().diff(axis=1).fillna(0).astype(int)"
   ]
  },
  {
   "cell_type": "code",
   "execution_count": 19,
   "metadata": {
    "execution": {
     "iopub.execute_input": "2020-12-29T00:20:17.833726Z",
     "iopub.status.busy": "2020-12-29T00:20:17.833160Z",
     "iopub.status.idle": "2020-12-29T00:20:17.835461Z",
     "shell.execute_reply": "2020-12-29T00:20:17.834872Z"
    },
    "papermill": {
     "duration": 0.03861,
     "end_time": "2020-12-29T00:20:17.835596",
     "exception": false,
     "start_time": "2020-12-29T00:20:17.796986",
     "status": "completed"
    },
    "tags": []
   },
   "outputs": [],
   "source": [
    "#hide\n",
    "everydaycases = dft_ct_new_cases.cumsum(axis=1)"
   ]
  },
  {
   "cell_type": "code",
   "execution_count": 20,
   "metadata": {
    "execution": {
     "iopub.execute_input": "2020-12-29T00:20:17.908987Z",
     "iopub.status.busy": "2020-12-29T00:20:17.908366Z",
     "iopub.status.idle": "2020-12-29T00:20:19.015171Z",
     "shell.execute_reply": "2020-12-29T00:20:19.014325Z"
    },
    "papermill": {
     "duration": 1.148425,
     "end_time": "2020-12-29T00:20:19.015378",
     "exception": false,
     "start_time": "2020-12-29T00:20:17.866953",
     "status": "completed"
    },
    "tags": []
   },
   "outputs": [],
   "source": [
    "#hide\n",
    "import pandas as pd\n",
    "import matplotlib.pyplot as plt\n",
    "import matplotlib.ticker as ticker\n",
    "import matplotlib.animation as animation\n",
    "from IPython.display import HTML"
   ]
  },
  {
   "cell_type": "code",
   "execution_count": 21,
   "metadata": {
    "execution": {
     "iopub.execute_input": "2020-12-29T00:20:19.093411Z",
     "iopub.status.busy": "2020-12-29T00:20:19.092819Z",
     "iopub.status.idle": "2020-12-29T00:20:19.098098Z",
     "shell.execute_reply": "2020-12-29T00:20:19.097619Z"
    },
    "papermill": {
     "duration": 0.042013,
     "end_time": "2020-12-29T00:20:19.098234",
     "exception": false,
     "start_time": "2020-12-29T00:20:19.056221",
     "status": "completed"
    },
    "tags": []
   },
   "outputs": [],
   "source": [
    "#hide\n",
    "t = everydaycases.stack()"
   ]
  },
  {
   "cell_type": "code",
   "execution_count": 22,
   "metadata": {
    "execution": {
     "iopub.execute_input": "2020-12-29T00:20:19.175237Z",
     "iopub.status.busy": "2020-12-29T00:20:19.174597Z",
     "iopub.status.idle": "2020-12-29T00:20:19.181337Z",
     "shell.execute_reply": "2020-12-29T00:20:19.181815Z"
    },
    "papermill": {
     "duration": 0.044103,
     "end_time": "2020-12-29T00:20:19.181972",
     "exception": false,
     "start_time": "2020-12-29T00:20:19.137869",
     "status": "completed"
    },
    "tags": []
   },
   "outputs": [],
   "source": [
    "#hide\n",
    "g = t.reset_index(['Country/Region'])"
   ]
  },
  {
   "cell_type": "code",
   "execution_count": 23,
   "metadata": {
    "execution": {
     "iopub.execute_input": "2020-12-29T00:20:19.250533Z",
     "iopub.status.busy": "2020-12-29T00:20:19.249932Z",
     "iopub.status.idle": "2020-12-29T00:20:19.252673Z",
     "shell.execute_reply": "2020-12-29T00:20:19.253234Z"
    },
    "papermill": {
     "duration": 0.040155,
     "end_time": "2020-12-29T00:20:19.253384",
     "exception": false,
     "start_time": "2020-12-29T00:20:19.213229",
     "status": "completed"
    },
    "tags": []
   },
   "outputs": [],
   "source": [
    "#hide\n",
    "g.index.name = 'date'"
   ]
  },
  {
   "cell_type": "code",
   "execution_count": 24,
   "metadata": {
    "execution": {
     "iopub.execute_input": "2020-12-29T00:20:19.323556Z",
     "iopub.status.busy": "2020-12-29T00:20:19.322941Z",
     "iopub.status.idle": "2020-12-29T00:20:19.325085Z",
     "shell.execute_reply": "2020-12-29T00:20:19.324581Z"
    },
    "papermill": {
     "duration": 0.039699,
     "end_time": "2020-12-29T00:20:19.325218",
     "exception": false,
     "start_time": "2020-12-29T00:20:19.285519",
     "status": "completed"
    },
    "tags": []
   },
   "outputs": [],
   "source": [
    "# #hide\n",
    "# g = g.reset_index(['date'])"
   ]
  },
  {
   "cell_type": "code",
   "execution_count": 25,
   "metadata": {
    "execution": {
     "iopub.execute_input": "2020-12-29T00:20:19.393673Z",
     "iopub.status.busy": "2020-12-29T00:20:19.393063Z",
     "iopub.status.idle": "2020-12-29T00:20:19.396095Z",
     "shell.execute_reply": "2020-12-29T00:20:19.395439Z"
    },
    "papermill": {
     "duration": 0.039557,
     "end_time": "2020-12-29T00:20:19.396234",
     "exception": false,
     "start_time": "2020-12-29T00:20:19.356677",
     "status": "completed"
    },
    "tags": []
   },
   "outputs": [],
   "source": [
    "#hide\n",
    "# g.head()"
   ]
  },
  {
   "cell_type": "code",
   "execution_count": 26,
   "metadata": {
    "execution": {
     "iopub.execute_input": "2020-12-29T00:20:19.463535Z",
     "iopub.status.busy": "2020-12-29T00:20:19.462932Z",
     "iopub.status.idle": "2020-12-29T00:20:19.465162Z",
     "shell.execute_reply": "2020-12-29T00:20:19.464658Z"
    },
    "papermill": {
     "duration": 0.037199,
     "end_time": "2020-12-29T00:20:19.465296",
     "exception": false,
     "start_time": "2020-12-29T00:20:19.428097",
     "status": "completed"
    },
    "tags": []
   },
   "outputs": [],
   "source": [
    "#hide\n",
    "# g.columns = ['date','country','cases']"
   ]
  },
  {
   "cell_type": "code",
   "execution_count": 27,
   "metadata": {
    "execution": {
     "iopub.execute_input": "2020-12-29T00:20:19.535816Z",
     "iopub.status.busy": "2020-12-29T00:20:19.535213Z",
     "iopub.status.idle": "2020-12-29T00:20:19.537506Z",
     "shell.execute_reply": "2020-12-29T00:20:19.536997Z"
    },
    "papermill": {
     "duration": 0.040434,
     "end_time": "2020-12-29T00:20:19.537637",
     "exception": false,
     "start_time": "2020-12-29T00:20:19.497203",
     "status": "completed"
    },
    "tags": []
   },
   "outputs": [],
   "source": [
    "#hide\n",
    "# g['continent'] = g.country"
   ]
  },
  {
   "cell_type": "code",
   "execution_count": 28,
   "metadata": {
    "execution": {
     "iopub.execute_input": "2020-12-29T00:20:19.604929Z",
     "iopub.status.busy": "2020-12-29T00:20:19.604340Z",
     "iopub.status.idle": "2020-12-29T00:20:19.606527Z",
     "shell.execute_reply": "2020-12-29T00:20:19.607003Z"
    },
    "papermill": {
     "duration": 0.037687,
     "end_time": "2020-12-29T00:20:19.607160",
     "exception": false,
     "start_time": "2020-12-29T00:20:19.569473",
     "status": "completed"
    },
    "tags": []
   },
   "outputs": [],
   "source": [
    "#hide\n",
    "# cols = list(g.columns.values)"
   ]
  },
  {
   "cell_type": "code",
   "execution_count": 29,
   "metadata": {
    "execution": {
     "iopub.execute_input": "2020-12-29T00:20:19.673314Z",
     "iopub.status.busy": "2020-12-29T00:20:19.672690Z",
     "iopub.status.idle": "2020-12-29T00:20:19.674883Z",
     "shell.execute_reply": "2020-12-29T00:20:19.674364Z"
    },
    "papermill": {
     "duration": 0.036865,
     "end_time": "2020-12-29T00:20:19.675016",
     "exception": false,
     "start_time": "2020-12-29T00:20:19.638151",
     "status": "completed"
    },
    "tags": []
   },
   "outputs": [],
   "source": [
    "#hide\n",
    "# cols.insert(0, cols.pop())"
   ]
  },
  {
   "cell_type": "code",
   "execution_count": 30,
   "metadata": {
    "execution": {
     "iopub.execute_input": "2020-12-29T00:20:19.741206Z",
     "iopub.status.busy": "2020-12-29T00:20:19.740614Z",
     "iopub.status.idle": "2020-12-29T00:20:19.742424Z",
     "shell.execute_reply": "2020-12-29T00:20:19.742920Z"
    },
    "papermill": {
     "duration": 0.03714,
     "end_time": "2020-12-29T00:20:19.743074",
     "exception": false,
     "start_time": "2020-12-29T00:20:19.705934",
     "status": "completed"
    },
    "tags": []
   },
   "outputs": [],
   "source": [
    "#hide\n",
    "# g = g[cols]"
   ]
  },
  {
   "cell_type": "code",
   "execution_count": 31,
   "metadata": {
    "execution": {
     "iopub.execute_input": "2020-12-29T00:20:19.808668Z",
     "iopub.status.busy": "2020-12-29T00:20:19.808049Z",
     "iopub.status.idle": "2020-12-29T00:20:19.810303Z",
     "shell.execute_reply": "2020-12-29T00:20:19.809792Z"
    },
    "papermill": {
     "duration": 0.036591,
     "end_time": "2020-12-29T00:20:19.810440",
     "exception": false,
     "start_time": "2020-12-29T00:20:19.773849",
     "status": "completed"
    },
    "tags": []
   },
   "outputs": [],
   "source": [
    "#hide\n",
    "# g['continent'] = g['continent'].map(mapping['map.continent'])"
   ]
  },
  {
   "cell_type": "code",
   "execution_count": 32,
   "metadata": {
    "execution": {
     "iopub.execute_input": "2020-12-29T00:20:19.877663Z",
     "iopub.status.busy": "2020-12-29T00:20:19.877035Z",
     "iopub.status.idle": "2020-12-29T00:20:19.880224Z",
     "shell.execute_reply": "2020-12-29T00:20:19.879565Z"
    },
    "papermill": {
     "duration": 0.03848,
     "end_time": "2020-12-29T00:20:19.880387",
     "exception": false,
     "start_time": "2020-12-29T00:20:19.841907",
     "status": "completed"
    },
    "tags": []
   },
   "outputs": [],
   "source": [
    "#hide\n",
    "# g.head()"
   ]
  },
  {
   "cell_type": "code",
   "execution_count": 33,
   "metadata": {
    "execution": {
     "iopub.execute_input": "2020-12-29T00:20:19.948730Z",
     "iopub.status.busy": "2020-12-29T00:20:19.947898Z",
     "iopub.status.idle": "2020-12-29T00:20:19.949316Z",
     "shell.execute_reply": "2020-12-29T00:20:19.949889Z"
    },
    "papermill": {
     "duration": 0.038009,
     "end_time": "2020-12-29T00:20:19.950043",
     "exception": false,
     "start_time": "2020-12-29T00:20:19.912034",
     "status": "completed"
    },
    "tags": []
   },
   "outputs": [],
   "source": [
    "# hide\n",
    "# g['date'] = g['date'].astype('datetime64[ns]')"
   ]
  },
  {
   "cell_type": "code",
   "execution_count": 34,
   "metadata": {
    "execution": {
     "iopub.execute_input": "2020-12-29T00:20:20.021659Z",
     "iopub.status.busy": "2020-12-29T00:20:20.021052Z",
     "iopub.status.idle": "2020-12-29T00:20:20.022861Z",
     "shell.execute_reply": "2020-12-29T00:20:20.023323Z"
    },
    "papermill": {
     "duration": 0.041875,
     "end_time": "2020-12-29T00:20:20.023481",
     "exception": false,
     "start_time": "2020-12-29T00:20:19.981606",
     "status": "completed"
    },
    "tags": []
   },
   "outputs": [],
   "source": [
    "#hide\n",
    "# g['date'] = g.date.dt.dayofyear"
   ]
  },
  {
   "cell_type": "code",
   "execution_count": 35,
   "metadata": {
    "execution": {
     "iopub.execute_input": "2020-12-29T00:20:20.089415Z",
     "iopub.status.busy": "2020-12-29T00:20:20.088818Z",
     "iopub.status.idle": "2020-12-29T00:20:20.091099Z",
     "shell.execute_reply": "2020-12-29T00:20:20.091577Z"
    },
    "papermill": {
     "duration": 0.037468,
     "end_time": "2020-12-29T00:20:20.091732",
     "exception": false,
     "start_time": "2020-12-29T00:20:20.054264",
     "status": "completed"
    },
    "tags": []
   },
   "outputs": [],
   "source": [
    "#hide\n",
    "# g = g.rename(columns= {'continent':'group','country':'name','cases':'value'})"
   ]
  },
  {
   "cell_type": "code",
   "execution_count": 36,
   "metadata": {
    "execution": {
     "iopub.execute_input": "2020-12-29T00:20:20.163000Z",
     "iopub.status.busy": "2020-12-29T00:20:20.162376Z",
     "iopub.status.idle": "2020-12-29T00:20:20.165061Z",
     "shell.execute_reply": "2020-12-29T00:20:20.165631Z"
    },
    "papermill": {
     "duration": 0.039734,
     "end_time": "2020-12-29T00:20:20.165785",
     "exception": false,
     "start_time": "2020-12-29T00:20:20.126051",
     "status": "completed"
    },
    "tags": []
   },
   "outputs": [],
   "source": [
    "#hide\n",
    "# cols = ['name','group','day','value']"
   ]
  },
  {
   "cell_type": "code",
   "execution_count": 37,
   "metadata": {
    "execution": {
     "iopub.execute_input": "2020-12-29T00:20:20.232659Z",
     "iopub.status.busy": "2020-12-29T00:20:20.232072Z",
     "iopub.status.idle": "2020-12-29T00:20:20.234532Z",
     "shell.execute_reply": "2020-12-29T00:20:20.234037Z"
    },
    "papermill": {
     "duration": 0.037212,
     "end_time": "2020-12-29T00:20:20.234660",
     "exception": false,
     "start_time": "2020-12-29T00:20:20.197448",
     "status": "completed"
    },
    "tags": []
   },
   "outputs": [],
   "source": [
    "#hide\n",
    "# g.rename(columns= {'date':'day'},inplace = True)"
   ]
  },
  {
   "cell_type": "code",
   "execution_count": 38,
   "metadata": {
    "execution": {
     "iopub.execute_input": "2020-12-29T00:20:20.303694Z",
     "iopub.status.busy": "2020-12-29T00:20:20.303082Z",
     "iopub.status.idle": "2020-12-29T00:20:20.305106Z",
     "shell.execute_reply": "2020-12-29T00:20:20.305651Z"
    },
    "papermill": {
     "duration": 0.039661,
     "end_time": "2020-12-29T00:20:20.305798",
     "exception": false,
     "start_time": "2020-12-29T00:20:20.266137",
     "status": "completed"
    },
    "tags": []
   },
   "outputs": [],
   "source": [
    "#hide\n",
    "# g = g[cols]"
   ]
  },
  {
   "cell_type": "code",
   "execution_count": 39,
   "metadata": {
    "execution": {
     "iopub.execute_input": "2020-12-29T00:20:20.375021Z",
     "iopub.status.busy": "2020-12-29T00:20:20.374383Z",
     "iopub.status.idle": "2020-12-29T00:20:20.376543Z",
     "shell.execute_reply": "2020-12-29T00:20:20.377100Z"
    },
    "papermill": {
     "duration": 0.038386,
     "end_time": "2020-12-29T00:20:20.377250",
     "exception": false,
     "start_time": "2020-12-29T00:20:20.338864",
     "status": "completed"
    },
    "tags": []
   },
   "outputs": [],
   "source": [
    "# #hide\n",
    "# g = g[g.group.notna()]"
   ]
  },
  {
   "cell_type": "code",
   "execution_count": 40,
   "metadata": {
    "execution": {
     "iopub.execute_input": "2020-12-29T00:20:20.444340Z",
     "iopub.status.busy": "2020-12-29T00:20:20.443718Z",
     "iopub.status.idle": "2020-12-29T00:20:20.446470Z",
     "shell.execute_reply": "2020-12-29T00:20:20.445765Z"
    },
    "papermill": {
     "duration": 0.037867,
     "end_time": "2020-12-29T00:20:20.446648",
     "exception": false,
     "start_time": "2020-12-29T00:20:20.408781",
     "status": "completed"
    },
    "tags": []
   },
   "outputs": [],
   "source": [
    "# #hide\n",
    "# colors = dict(zip(\n",
    "#     [\"Oceania\", \"Europe\", \"Asia\", \"South America\", \"Middle East\", \"North America\", \"Africa\"],\n",
    "#     [\"#adb0ff\", \"#ffb3ff\", \"#90d595\", \"#e48381\", \"#aafbff\", \"#f7bb5f\", \"#eafb50\"]\n",
    "# ))\n",
    "# group_lk = g.set_index('name')['group'].to_dict()"
   ]
  },
  {
   "cell_type": "code",
   "execution_count": null,
   "metadata": {
    "papermill": {
     "duration": 0.030996,
     "end_time": "2020-12-29T00:20:20.510444",
     "exception": false,
     "start_time": "2020-12-29T00:20:20.479448",
     "status": "completed"
    },
    "tags": []
   },
   "outputs": [],
   "source": []
  },
  {
   "cell_type": "code",
   "execution_count": 41,
   "metadata": {
    "execution": {
     "iopub.execute_input": "2020-12-29T00:20:20.577030Z",
     "iopub.status.busy": "2020-12-29T00:20:20.576393Z",
     "iopub.status.idle": "2020-12-29T00:20:20.578166Z",
     "shell.execute_reply": "2020-12-29T00:20:20.578666Z"
    },
    "papermill": {
     "duration": 0.037317,
     "end_time": "2020-12-29T00:20:20.578812",
     "exception": false,
     "start_time": "2020-12-29T00:20:20.541495",
     "status": "completed"
    },
    "tags": []
   },
   "outputs": [],
   "source": [
    "# #hide\n",
    "# fig, ax = plt.subplots(figsize=(15, 8))\n",
    "\n",
    "# def draw_barchart(current_day):\n",
    "#     dff = g[g['day'].eq(current_day)].sort_values(by='value', ascending=True).tail(10)\n",
    "#     ax.clear()\n",
    "#     ax.barh(dff['name'], dff['value'], color=[colors[group_lk[x]] for x in dff['name']])\n",
    "#     dx = dff['value'].max() / 200\n",
    "    \n",
    "#     for i, (value, name) in enumerate(zip(dff['value'], dff['name'])):\n",
    "#         ax.text(value-dx, i,     name,           size=14, weight=600, ha='right', va='bottom')\n",
    "#         ax.text(value-dx, i-.25, group_lk[name], size=10, color='#444444', ha='right', va='baseline')\n",
    "#         ax.text(value+dx, i,     f'{value:,.0f}',  size=14, ha='left',  va='center')\n",
    "#     ax.text(1, 0.4, current_day, transform=ax.transAxes, color='#777777', size=46, ha='right', weight=800)\n",
    "#     ax.text(0, 1.06, 'Population (thousands)', transform=ax.transAxes, size=12, color='#777777')\n",
    "#     ax.xaxis.set_major_formatter(ticker.StrMethodFormatter('{x:,.0f}'))\n",
    "#     ax.xaxis.set_ticks_position('top')\n",
    "#     ax.tick_params(axis='x', colors='#777777', labelsize=12)\n",
    "#     ax.set_yticks([])\n",
    "#     ax.margins(0, 0.01)\n",
    "#     ax.grid(which='major', axis='x', linestyle='-')\n",
    "#     ax.set_axisbelow(True)\n",
    "    \n",
    "#     ax.text(0, 1.15, 'Coronavirus',\n",
    "#             transform=ax.transAxes, size=24, weight=600, ha='left', va='top')\n",
    "# #     ax.text(1, 0, 'by @pratapvardhan; credit @jburnmurdoch', transform=ax.transAxes, color='#777777', ha='right',\n",
    "# #             bbox=dict(facecolor='white', alpha=0.8, edgecolor='white'))\n",
    "#     plt.box(False)"
   ]
  },
  {
   "cell_type": "code",
   "execution_count": 42,
   "metadata": {
    "execution": {
     "iopub.execute_input": "2020-12-29T00:20:20.645756Z",
     "iopub.status.busy": "2020-12-29T00:20:20.645143Z",
     "iopub.status.idle": "2020-12-29T00:20:20.648023Z",
     "shell.execute_reply": "2020-12-29T00:20:20.647548Z"
    },
    "papermill": {
     "duration": 0.03844,
     "end_time": "2020-12-29T00:20:20.648151",
     "exception": false,
     "start_time": "2020-12-29T00:20:20.609711",
     "status": "completed"
    },
    "tags": []
   },
   "outputs": [],
   "source": [
    "# #hide_input\n",
    "# fig, ax = plt.subplots(figsize=(15, 8))\n",
    "# animator = animation.FuncAnimation(fig, draw_barchart, frames=range(g.day.values.min(), g.day.values.max()))\n",
    "# HTML(animator.to_jshtml())\n",
    "# # or use animator.to_html5_video() or animator.save() "
   ]
  },
  {
   "cell_type": "code",
   "execution_count": null,
   "metadata": {
    "papermill": {
     "duration": 0.030819,
     "end_time": "2020-12-29T00:20:20.709979",
     "exception": false,
     "start_time": "2020-12-29T00:20:20.679160",
     "status": "completed"
    },
    "tags": []
   },
   "outputs": [],
   "source": []
  },
  {
   "cell_type": "code",
   "execution_count": null,
   "metadata": {
    "papermill": {
     "duration": 0.030857,
     "end_time": "2020-12-29T00:20:20.771493",
     "exception": false,
     "start_time": "2020-12-29T00:20:20.740636",
     "status": "completed"
    },
    "tags": []
   },
   "outputs": [],
   "source": []
  },
  {
   "cell_type": "code",
   "execution_count": null,
   "metadata": {
    "papermill": {
     "duration": 0.030676,
     "end_time": "2020-12-29T00:20:20.833084",
     "exception": false,
     "start_time": "2020-12-29T00:20:20.802408",
     "status": "completed"
    },
    "tags": []
   },
   "outputs": [],
   "source": []
  }
 ],
 "metadata": {
  "kernelspec": {
   "display_name": "Python 3",
   "language": "python",
   "name": "python3"
  },
  "language_info": {
   "codemirror_mode": {
    "name": "ipython",
    "version": 3
   },
   "file_extension": ".py",
   "mimetype": "text/x-python",
   "name": "python",
   "nbconvert_exporter": "python",
   "pygments_lexer": "ipython3",
   "version": "3.6.12"
  },
  "papermill": {
   "duration": 6.62547,
   "end_time": "2020-12-29T00:20:21.271602",
   "environment_variables": {},
   "exception": null,
   "input_path": "2020-03-21-covid19exp.ipynb",
   "output_path": "2020-03-21-covid19exp.ipynb",
   "parameters": {},
   "start_time": "2020-12-29T00:20:14.646132",
   "version": "2.0.0"
  }
 },
 "nbformat": 4,
 "nbformat_minor": 4
}