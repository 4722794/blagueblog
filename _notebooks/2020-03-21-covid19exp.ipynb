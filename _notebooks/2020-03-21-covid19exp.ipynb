{
 "cells": [
  {
   "cell_type": "markdown",
   "id": "muslim-click",
   "metadata": {
    "papermill": {
     "duration": 0.038971,
     "end_time": "2021-12-19T12:12:00.750051",
     "exception": false,
     "start_time": "2021-12-19T12:12:00.711080",
     "status": "completed"
    },
    "tags": []
   },
   "source": [
    "# COVID-19 Case Race\n",
    "> A race chart to see rising cases around the world\n",
    "\n",
    "- author: Hargun Oberoi\n",
    "- image: images/covid-overview.png\n",
    "- hide: false\n",
    "- badges: false"
   ]
  },
  {
   "cell_type": "code",
   "execution_count": 1,
   "id": "proof-material",
   "metadata": {
    "execution": {
     "iopub.execute_input": "2021-12-19T12:12:00.818544Z",
     "iopub.status.busy": "2021-12-19T12:12:00.813406Z",
     "iopub.status.idle": "2021-12-19T12:12:01.176822Z",
     "shell.execute_reply": "2021-12-19T12:12:01.176086Z"
    },
    "papermill": {
     "duration": 0.396678,
     "end_time": "2021-12-19T12:12:01.177027",
     "exception": false,
     "start_time": "2021-12-19T12:12:00.780349",
     "status": "completed"
    },
    "tags": []
   },
   "outputs": [],
   "source": [
    "#hide\n",
    "import numpy as np\n",
    "import pandas as pd\n",
    "from jinja2 import Template\n",
    "from IPython.display import HTML"
   ]
  },
  {
   "cell_type": "code",
   "execution_count": 2,
   "id": "developed-terminology",
   "metadata": {
    "execution": {
     "iopub.execute_input": "2021-12-19T12:12:01.248131Z",
     "iopub.status.busy": "2021-12-19T12:12:01.247557Z",
     "iopub.status.idle": "2021-12-19T12:12:01.249859Z",
     "shell.execute_reply": "2021-12-19T12:12:01.250463Z"
    },
    "papermill": {
     "duration": 0.039887,
     "end_time": "2021-12-19T12:12:01.250610",
     "exception": false,
     "start_time": "2021-12-19T12:12:01.210723",
     "status": "completed"
    },
    "tags": []
   },
   "outputs": [],
   "source": [
    "#hide\n",
    "\n",
    "# FETCH\n",
    "base_url = 'https://raw.githubusercontent.com/pratapvardhan/notebooks/master/covid19/'\n",
    "paths = {\n",
    "    'mapping': base_url + 'mapping_countries.csv',\n",
    "    'overview': base_url + 'overview.tpl'\n",
    "}"
   ]
  },
  {
   "cell_type": "code",
   "execution_count": 3,
   "id": "dynamic-saver",
   "metadata": {
    "execution": {
     "iopub.execute_input": "2021-12-19T12:12:01.319486Z",
     "iopub.status.busy": "2021-12-19T12:12:01.318939Z",
     "iopub.status.idle": "2021-12-19T12:12:01.322598Z",
     "shell.execute_reply": "2021-12-19T12:12:01.323133Z"
    },
    "papermill": {
     "duration": 0.042534,
     "end_time": "2021-12-19T12:12:01.323263",
     "exception": false,
     "start_time": "2021-12-19T12:12:01.280729",
     "status": "completed"
    },
    "tags": []
   },
   "outputs": [
    {
     "data": {
      "text/plain": [
       "'https://raw.githubusercontent.com/pratapvardhan/notebooks/master/covid19/mapping_countries.csv'"
      ]
     },
     "execution_count": 3,
     "metadata": {},
     "output_type": "execute_result"
    }
   ],
   "source": [
    "#hide\n",
    "paths['mapping']"
   ]
  },
  {
   "cell_type": "code",
   "execution_count": 4,
   "id": "urban-software",
   "metadata": {
    "execution": {
     "iopub.execute_input": "2021-12-19T12:12:01.391551Z",
     "iopub.status.busy": "2021-12-19T12:12:01.390942Z",
     "iopub.status.idle": "2021-12-19T12:12:01.394892Z",
     "shell.execute_reply": "2021-12-19T12:12:01.394432Z"
    },
    "papermill": {
     "duration": 0.040126,
     "end_time": "2021-12-19T12:12:01.395011",
     "exception": false,
     "start_time": "2021-12-19T12:12:01.354885",
     "status": "completed"
    },
    "tags": []
   },
   "outputs": [],
   "source": [
    "#hide\n",
    "def get_mappings(url):\n",
    "    df = pd.read_csv(url)\n",
    "    return {\n",
    "        'df': df,\n",
    "        'replace.country': dict(df.dropna(subset=['Name']).set_index('Country')['Name']),\n",
    "        'map.continent': dict(df.set_index('Name')['Continent'])\n",
    "    }"
   ]
  },
  {
   "cell_type": "code",
   "execution_count": 5,
   "id": "intimate-machinery",
   "metadata": {
    "execution": {
     "iopub.execute_input": "2021-12-19T12:12:01.464041Z",
     "iopub.status.busy": "2021-12-19T12:12:01.463451Z",
     "iopub.status.idle": "2021-12-19T12:12:01.496446Z",
     "shell.execute_reply": "2021-12-19T12:12:01.495575Z"
    },
    "papermill": {
     "duration": 0.07011,
     "end_time": "2021-12-19T12:12:01.496655",
     "exception": false,
     "start_time": "2021-12-19T12:12:01.426545",
     "status": "completed"
    },
    "tags": []
   },
   "outputs": [],
   "source": [
    "#hide\n",
    "mapping = get_mappings(paths['mapping'])"
   ]
  },
  {
   "cell_type": "code",
   "execution_count": 6,
   "id": "certified-tactics",
   "metadata": {
    "execution": {
     "iopub.execute_input": "2021-12-19T12:12:01.569429Z",
     "iopub.status.busy": "2021-12-19T12:12:01.568434Z",
     "iopub.status.idle": "2021-12-19T12:12:01.572886Z",
     "shell.execute_reply": "2021-12-19T12:12:01.572385Z"
    },
    "papermill": {
     "duration": 0.0432,
     "end_time": "2021-12-19T12:12:01.573010",
     "exception": false,
     "start_time": "2021-12-19T12:12:01.529810",
     "status": "completed"
    },
    "tags": []
   },
   "outputs": [],
   "source": [
    "#hide\n",
    "def get_template(path):\n",
    "    from urllib.parse import urlparse\n",
    "    if bool(urlparse(path).netloc):\n",
    "        from urllib.request import urlopen\n",
    "        return urlopen(path).read().decode('utf8')\n",
    "    return open(path).read()"
   ]
  },
  {
   "cell_type": "code",
   "execution_count": 7,
   "id": "realistic-blast",
   "metadata": {
    "execution": {
     "iopub.execute_input": "2021-12-19T12:12:01.642767Z",
     "iopub.status.busy": "2021-12-19T12:12:01.642134Z",
     "iopub.status.idle": "2021-12-19T12:12:01.644748Z",
     "shell.execute_reply": "2021-12-19T12:12:01.645229Z"
    },
    "papermill": {
     "duration": 0.040005,
     "end_time": "2021-12-19T12:12:01.645368",
     "exception": false,
     "start_time": "2021-12-19T12:12:01.605363",
     "status": "completed"
    },
    "tags": []
   },
   "outputs": [],
   "source": [
    "#hide\n",
    "def get_frame(name):\n",
    "    url = (\n",
    "        'https://raw.githubusercontent.com/CSSEGISandData/COVID-19/master/csse_covid_19_data/'\n",
    "        f'csse_covid_19_time_series/time_series_covid19_{name}_global.csv')\n",
    "    df = pd.read_csv(url)\n",
    "    # rename countries\n",
    "    df['Country/Region'] = df['Country/Region'].replace(mapping['replace.country'])\n",
    "    return df"
   ]
  },
  {
   "cell_type": "code",
   "execution_count": 8,
   "id": "affiliated-characterization",
   "metadata": {
    "execution": {
     "iopub.execute_input": "2021-12-19T12:12:01.711336Z",
     "iopub.status.busy": "2021-12-19T12:12:01.710778Z",
     "iopub.status.idle": "2021-12-19T12:12:01.713641Z",
     "shell.execute_reply": "2021-12-19T12:12:01.713202Z"
    },
    "papermill": {
     "duration": 0.038486,
     "end_time": "2021-12-19T12:12:01.713758",
     "exception": false,
     "start_time": "2021-12-19T12:12:01.675272",
     "status": "completed"
    },
    "tags": []
   },
   "outputs": [],
   "source": [
    "#hide\n",
    "def get_dates(df):\n",
    "    dt_cols = df.columns[~df.columns.isin(['Province/State', 'Country/Region', 'Lat', 'Long'])]\n",
    "    LAST_DATE_I = -1\n",
    "    # sometimes last column may be empty, then go backwards\n",
    "    for i in range(-1, -len(dt_cols), -1):\n",
    "        if not df[dt_cols[i]].fillna(0).eq(0).all():\n",
    "            LAST_DATE_I = i\n",
    "            break\n",
    "    return LAST_DATE_I, dt_cols"
   ]
  },
  {
   "cell_type": "code",
   "execution_count": 9,
   "id": "recent-optimization",
   "metadata": {
    "execution": {
     "iopub.execute_input": "2021-12-19T12:12:01.779637Z",
     "iopub.status.busy": "2021-12-19T12:12:01.779027Z",
     "iopub.status.idle": "2021-12-19T12:12:02.098208Z",
     "shell.execute_reply": "2021-12-19T12:12:02.097732Z"
    },
    "papermill": {
     "duration": 0.355425,
     "end_time": "2021-12-19T12:12:02.098356",
     "exception": false,
     "start_time": "2021-12-19T12:12:01.742931",
     "status": "completed"
    },
    "tags": []
   },
   "outputs": [],
   "source": [
    "#hide\n",
    "COL_REGION = 'Country/Region'\n",
    "# Confirmed, Recovered, Deaths\n",
    "df = get_frame('confirmed')\n",
    "# dft_: timeseries, dfc_: today country agg\n",
    "dft_cases = df\n",
    "dft_deaths = get_frame('deaths')\n",
    "dft_recovered = get_frame('recovered')\n",
    "LAST_DATE_I, dt_cols = get_dates(df)"
   ]
  },
  {
   "cell_type": "code",
   "execution_count": 10,
   "id": "absolute-copper",
   "metadata": {
    "execution": {
     "iopub.execute_input": "2021-12-19T12:12:02.164330Z",
     "iopub.status.busy": "2021-12-19T12:12:02.163746Z",
     "iopub.status.idle": "2021-12-19T12:12:02.166249Z",
     "shell.execute_reply": "2021-12-19T12:12:02.166818Z"
    },
    "papermill": {
     "duration": 0.038407,
     "end_time": "2021-12-19T12:12:02.166958",
     "exception": false,
     "start_time": "2021-12-19T12:12:02.128551",
     "status": "completed"
    },
    "tags": []
   },
   "outputs": [],
   "source": [
    "#hide\n",
    "LAST_DATE_I, dt_cols = get_dates(df)\n",
    "dt_today =dt_cols[LAST_DATE_I]\n",
    "# dt_5day = dt_cols[LAST_DATE_I - 5]\n",
    "dt_yday = dt_cols[LAST_DATE_I - 1]"
   ]
  },
  {
   "cell_type": "code",
   "execution_count": 11,
   "id": "restricted-sheriff",
   "metadata": {
    "execution": {
     "iopub.execute_input": "2021-12-19T12:12:02.232626Z",
     "iopub.status.busy": "2021-12-19T12:12:02.232076Z",
     "iopub.status.idle": "2021-12-19T12:12:02.241326Z",
     "shell.execute_reply": "2021-12-19T12:12:02.241768Z"
    },
    "papermill": {
     "duration": 0.04586,
     "end_time": "2021-12-19T12:12:02.241896",
     "exception": false,
     "start_time": "2021-12-19T12:12:02.196036",
     "status": "completed"
    },
    "tags": []
   },
   "outputs": [],
   "source": [
    "#hide\n",
    "dfc_cases = dft_cases.groupby(COL_REGION)[dt_today].sum()\n",
    "dfc_deaths = dft_deaths.groupby(COL_REGION)[dt_today].sum()\n",
    "# dfp_cases = dft_cases.groupby(COL_REGION)[dt_5day].sum()\n",
    "# dfp_deaths = dft_deaths.groupby(COL_REGION)[dt_5day].sum()\n",
    "dfp_cases = dft_cases.groupby(COL_REGION)[dt_yday].sum()\n",
    "dfp_deaths = dft_deaths.groupby(COL_REGION)[dt_yday].sum()"
   ]
  },
  {
   "cell_type": "code",
   "execution_count": 12,
   "id": "deluxe-hepatitis",
   "metadata": {
    "execution": {
     "iopub.execute_input": "2021-12-19T12:12:02.308944Z",
     "iopub.status.busy": "2021-12-19T12:12:02.308386Z",
     "iopub.status.idle": "2021-12-19T12:12:02.310674Z",
     "shell.execute_reply": "2021-12-19T12:12:02.311096Z"
    },
    "papermill": {
     "duration": 0.039576,
     "end_time": "2021-12-19T12:12:02.311233",
     "exception": false,
     "start_time": "2021-12-19T12:12:02.271657",
     "status": "completed"
    },
    "tags": []
   },
   "outputs": [],
   "source": [
    "#hide\n",
    "df_table = (pd.DataFrame(dict(Cases = dfc_cases, Deaths = dfc_deaths, PCases = dfp_cases, PDeaths = dfp_deaths))\n",
    "            .sort_values(by = ['Cases','Deaths'], ascending = [False, False])\n",
    "            .reset_index())"
   ]
  },
  {
   "cell_type": "code",
   "execution_count": 13,
   "id": "educational-chancellor",
   "metadata": {
    "execution": {
     "iopub.execute_input": "2021-12-19T12:12:02.390473Z",
     "iopub.status.busy": "2021-12-19T12:12:02.378555Z",
     "iopub.status.idle": "2021-12-19T12:12:02.400224Z",
     "shell.execute_reply": "2021-12-19T12:12:02.399830Z"
    },
    "papermill": {
     "duration": 0.060095,
     "end_time": "2021-12-19T12:12:02.400357",
     "exception": false,
     "start_time": "2021-12-19T12:12:02.340262",
     "status": "completed"
    },
    "tags": []
   },
   "outputs": [
    {
     "data": {
      "text/html": [
       "<div>\n",
       "<style scoped>\n",
       "    .dataframe tbody tr th:only-of-type {\n",
       "        vertical-align: middle;\n",
       "    }\n",
       "\n",
       "    .dataframe tbody tr th {\n",
       "        vertical-align: top;\n",
       "    }\n",
       "\n",
       "    .dataframe thead th {\n",
       "        text-align: right;\n",
       "    }\n",
       "</style>\n",
       "<table border=\"1\" class=\"dataframe\">\n",
       "  <thead>\n",
       "    <tr style=\"text-align: right;\">\n",
       "      <th></th>\n",
       "      <th>Country/Region</th>\n",
       "      <th>Cases</th>\n",
       "      <th>Deaths</th>\n",
       "      <th>PCases</th>\n",
       "      <th>PDeaths</th>\n",
       "      <th>Cases (+)</th>\n",
       "      <th>Deaths (+)</th>\n",
       "      <th>Fatality Rate</th>\n",
       "      <th>Continent</th>\n",
       "    </tr>\n",
       "  </thead>\n",
       "  <tbody>\n",
       "    <tr>\n",
       "      <th>0</th>\n",
       "      <td>US</td>\n",
       "      <td>50773620</td>\n",
       "      <td>806273</td>\n",
       "      <td>50706733</td>\n",
       "      <td>805823</td>\n",
       "      <td>66887</td>\n",
       "      <td>450</td>\n",
       "      <td>1.59</td>\n",
       "      <td>North America</td>\n",
       "    </tr>\n",
       "    <tr>\n",
       "      <th>1</th>\n",
       "      <td>India</td>\n",
       "      <td>34733194</td>\n",
       "      <td>477158</td>\n",
       "      <td>34726049</td>\n",
       "      <td>476869</td>\n",
       "      <td>7145</td>\n",
       "      <td>289</td>\n",
       "      <td>1.37</td>\n",
       "      <td>Asia</td>\n",
       "    </tr>\n",
       "    <tr>\n",
       "      <th>2</th>\n",
       "      <td>Brazil</td>\n",
       "      <td>22204941</td>\n",
       "      <td>617395</td>\n",
       "      <td>22204941</td>\n",
       "      <td>617395</td>\n",
       "      <td>0</td>\n",
       "      <td>0</td>\n",
       "      <td>2.78</td>\n",
       "      <td>South America</td>\n",
       "    </tr>\n",
       "    <tr>\n",
       "      <th>3</th>\n",
       "      <td>United Kingdom</td>\n",
       "      <td>11343594</td>\n",
       "      <td>147634</td>\n",
       "      <td>11254404</td>\n",
       "      <td>147509</td>\n",
       "      <td>89190</td>\n",
       "      <td>125</td>\n",
       "      <td>1.30</td>\n",
       "      <td>Europe</td>\n",
       "    </tr>\n",
       "    <tr>\n",
       "      <th>4</th>\n",
       "      <td>Russia</td>\n",
       "      <td>10009866</td>\n",
       "      <td>290340</td>\n",
       "      <td>9982735</td>\n",
       "      <td>289292</td>\n",
       "      <td>27131</td>\n",
       "      <td>1048</td>\n",
       "      <td>2.90</td>\n",
       "      <td>Europe</td>\n",
       "    </tr>\n",
       "  </tbody>\n",
       "</table>\n",
       "</div>"
      ],
      "text/plain": [
       "   Country/Region     Cases  Deaths    PCases  PDeaths  Cases (+)  Deaths (+)  \\\n",
       "0              US  50773620  806273  50706733   805823      66887         450   \n",
       "1           India  34733194  477158  34726049   476869       7145         289   \n",
       "2          Brazil  22204941  617395  22204941   617395          0           0   \n",
       "3  United Kingdom  11343594  147634  11254404   147509      89190         125   \n",
       "4          Russia  10009866  290340   9982735   289292      27131        1048   \n",
       "\n",
       "   Fatality Rate      Continent  \n",
       "0           1.59  North America  \n",
       "1           1.37           Asia  \n",
       "2           2.78  South America  \n",
       "3           1.30         Europe  \n",
       "4           2.90         Europe  "
      ]
     },
     "execution_count": 13,
     "metadata": {},
     "output_type": "execute_result"
    }
   ],
   "source": [
    "#hide\n",
    "for c in 'Cases, Deaths'.split(', '):\n",
    "    df_table[f'{c} (+)'] = (df_table[c] - df_table[f'P{c}']).clip(0)\n",
    "    #Clip ça veut dire, les chiffres negatif sont interdit\n",
    "df_table['Fatality Rate'] = (100* df_table['Deaths']/ df_table['Cases']).round(2)\n",
    "df_table['Continent'] = df_table['Country/Region'].map(mapping['map.continent'])\n",
    "df_table.head(5)"
   ]
  },
  {
   "cell_type": "code",
   "execution_count": 14,
   "id": "aboriginal-bulgaria",
   "metadata": {
    "execution": {
     "iopub.execute_input": "2021-12-19T12:12:02.465954Z",
     "iopub.status.busy": "2021-12-19T12:12:02.465474Z",
     "iopub.status.idle": "2021-12-19T12:12:02.467931Z",
     "shell.execute_reply": "2021-12-19T12:12:02.468503Z"
    },
    "papermill": {
     "duration": 0.038217,
     "end_time": "2021-12-19T12:12:02.468633",
     "exception": false,
     "start_time": "2021-12-19T12:12:02.430416",
     "status": "completed"
    },
    "tags": []
   },
   "outputs": [],
   "source": [
    "#hide\n",
    "#delete problematic countries from table\n",
    "df_table = df_table[~df_table['Country/Region'].isin(['Cape Verde', 'Cruise Ship', 'Kosovo'])]"
   ]
  },
  {
   "cell_type": "code",
   "execution_count": 15,
   "id": "fantastic-effect",
   "metadata": {
    "execution": {
     "iopub.execute_input": "2021-12-19T12:12:02.536441Z",
     "iopub.status.busy": "2021-12-19T12:12:02.535831Z",
     "iopub.status.idle": "2021-12-19T12:12:02.556781Z",
     "shell.execute_reply": "2021-12-19T12:12:02.557596Z"
    },
    "papermill": {
     "duration": 0.059723,
     "end_time": "2021-12-19T12:12:02.557745",
     "exception": false,
     "start_time": "2021-12-19T12:12:02.498022",
     "status": "completed"
    },
    "tags": []
   },
   "outputs": [
    {
     "data": {
      "text/html": [
       "<div>\n",
       "<style scoped>\n",
       "    .dataframe tbody tr th:only-of-type {\n",
       "        vertical-align: middle;\n",
       "    }\n",
       "\n",
       "    .dataframe tbody tr th {\n",
       "        vertical-align: top;\n",
       "    }\n",
       "\n",
       "    .dataframe thead th {\n",
       "        text-align: right;\n",
       "    }\n",
       "</style>\n",
       "<table border=\"1\" class=\"dataframe\">\n",
       "  <thead>\n",
       "    <tr style=\"text-align: right;\">\n",
       "      <th></th>\n",
       "      <th>Country/Region</th>\n",
       "      <th>Cases</th>\n",
       "      <th>Deaths</th>\n",
       "      <th>PCases</th>\n",
       "      <th>PDeaths</th>\n",
       "      <th>Cases (+)</th>\n",
       "      <th>Deaths (+)</th>\n",
       "      <th>Fatality Rate</th>\n",
       "      <th>Continent</th>\n",
       "    </tr>\n",
       "  </thead>\n",
       "  <tbody>\n",
       "    <tr>\n",
       "      <th>0</th>\n",
       "      <td>US</td>\n",
       "      <td>50773620</td>\n",
       "      <td>806273</td>\n",
       "      <td>50706733</td>\n",
       "      <td>805823</td>\n",
       "      <td>66887</td>\n",
       "      <td>450</td>\n",
       "      <td>1.6</td>\n",
       "      <td>North America</td>\n",
       "    </tr>\n",
       "    <tr>\n",
       "      <th>1</th>\n",
       "      <td>India</td>\n",
       "      <td>34733194</td>\n",
       "      <td>477158</td>\n",
       "      <td>34726049</td>\n",
       "      <td>476869</td>\n",
       "      <td>7145</td>\n",
       "      <td>289</td>\n",
       "      <td>1.4</td>\n",
       "      <td>Asia</td>\n",
       "    </tr>\n",
       "    <tr>\n",
       "      <th>2</th>\n",
       "      <td>Brazil</td>\n",
       "      <td>22204941</td>\n",
       "      <td>617395</td>\n",
       "      <td>22204941</td>\n",
       "      <td>617395</td>\n",
       "      <td>0</td>\n",
       "      <td>0</td>\n",
       "      <td>2.8</td>\n",
       "      <td>South America</td>\n",
       "    </tr>\n",
       "    <tr>\n",
       "      <th>3</th>\n",
       "      <td>United Kingdom</td>\n",
       "      <td>11343594</td>\n",
       "      <td>147634</td>\n",
       "      <td>11254404</td>\n",
       "      <td>147509</td>\n",
       "      <td>89190</td>\n",
       "      <td>125</td>\n",
       "      <td>1.3</td>\n",
       "      <td>Europe</td>\n",
       "    </tr>\n",
       "    <tr>\n",
       "      <th>4</th>\n",
       "      <td>Russia</td>\n",
       "      <td>10009866</td>\n",
       "      <td>290340</td>\n",
       "      <td>9982735</td>\n",
       "      <td>289292</td>\n",
       "      <td>27131</td>\n",
       "      <td>1048</td>\n",
       "      <td>2.9</td>\n",
       "      <td>Europe</td>\n",
       "    </tr>\n",
       "  </tbody>\n",
       "</table>\n",
       "</div>"
      ],
      "text/plain": [
       "   Country/Region     Cases  Deaths    PCases  PDeaths  Cases (+)  Deaths (+)  \\\n",
       "0              US  50773620  806273  50706733   805823      66887         450   \n",
       "1           India  34733194  477158  34726049   476869       7145         289   \n",
       "2          Brazil  22204941  617395  22204941   617395          0           0   \n",
       "3  United Kingdom  11343594  147634  11254404   147509      89190         125   \n",
       "4          Russia  10009866  290340   9982735   289292      27131        1048   \n",
       "\n",
       "   Fatality Rate      Continent  \n",
       "0            1.6  North America  \n",
       "1            1.4           Asia  \n",
       "2            2.8  South America  \n",
       "3            1.3         Europe  \n",
       "4            2.9         Europe  "
      ]
     },
     "execution_count": 15,
     "metadata": {},
     "output_type": "execute_result"
    }
   ],
   "source": [
    "#hide\n",
    "df_table = (pd.DataFrame(dict(Cases=dfc_cases, Deaths=dfc_deaths, PCases=dfp_cases, PDeaths=dfp_deaths))\n",
    "             .sort_values(by=['Cases', 'Deaths'], ascending=[False, False])\n",
    "             .reset_index())\n",
    "df_table.rename(columns={'index': 'Country/Region'}, inplace=True)\n",
    "for c in 'Cases, Deaths'.split(', '):\n",
    "    df_table[f'{c} (+)'] = (df_table[c] - df_table[f'P{c}']).clip(0)  # DATA BUG\n",
    "df_table['Fatality Rate'] = (100 * df_table['Deaths'] / df_table['Cases']).round(1)\n",
    "df_table['Continent'] = df_table['Country/Region'].map(mapping['map.continent'])\n",
    "df_table.head(5)"
   ]
  },
  {
   "cell_type": "code",
   "execution_count": 16,
   "id": "fewer-occasion",
   "metadata": {
    "execution": {
     "iopub.execute_input": "2021-12-19T12:12:02.625606Z",
     "iopub.status.busy": "2021-12-19T12:12:02.625057Z",
     "iopub.status.idle": "2021-12-19T12:12:02.627170Z",
     "shell.execute_reply": "2021-12-19T12:12:02.627601Z"
    },
    "papermill": {
     "duration": 0.03814,
     "end_time": "2021-12-19T12:12:02.627731",
     "exception": false,
     "start_time": "2021-12-19T12:12:02.589591",
     "status": "completed"
    },
    "tags": []
   },
   "outputs": [],
   "source": [
    "#hide\n",
    "#delete problematic countries from table\n",
    "df_table = df_table[~df_table['Country/Region'].isin(['Cape Verde', 'Cruise Ship', 'Kosovo'])]"
   ]
  },
  {
   "cell_type": "code",
   "execution_count": 17,
   "id": "related-center",
   "metadata": {
    "execution": {
     "iopub.execute_input": "2021-12-19T12:12:02.696023Z",
     "iopub.status.busy": "2021-12-19T12:12:02.695471Z",
     "iopub.status.idle": "2021-12-19T12:12:02.708839Z",
     "shell.execute_reply": "2021-12-19T12:12:02.708373Z"
    },
    "papermill": {
     "duration": 0.052222,
     "end_time": "2021-12-19T12:12:02.708953",
     "exception": false,
     "start_time": "2021-12-19T12:12:02.656731",
     "status": "completed"
    },
    "tags": []
   },
   "outputs": [],
   "source": [
    "#hide\n",
    "metrics = [df_table.columns[index] for index in [1,2,5,6]]\n",
    "# s_china = df_table[df_table['Country/Region'].eq('China')][metrics].sum().add_prefix('China ')\n",
    "s_us = df_table[df_table['Country/Region'].eq('US')][metrics].sum().add_prefix('US ')\n",
    "s_eu = df_table[df_table['Continent'].eq('Europe')][metrics].sum().add_prefix('EU ')\n",
    "s_ind = df_table[df_table['Country/Region'].eq('India')][metrics].sum().add_prefix('India ')\n",
    "summary = {'updated': pd.to_datetime(dt_today), 'since': pd.to_datetime(dt_yday)}\n",
    "summary = {'updated': pd.to_datetime(dt_today), 'since': pd.to_datetime(dt_yday)}\n",
    "summary = {**summary, **df_table[metrics].sum(), **s_ind, **s_us, **s_eu}"
   ]
  },
  {
   "cell_type": "code",
   "execution_count": 18,
   "id": "engaging-syndrome",
   "metadata": {
    "execution": {
     "iopub.execute_input": "2021-12-19T12:12:02.778952Z",
     "iopub.status.busy": "2021-12-19T12:12:02.778333Z",
     "iopub.status.idle": "2021-12-19T12:12:02.791810Z",
     "shell.execute_reply": "2021-12-19T12:12:02.792257Z"
    },
    "papermill": {
     "duration": 0.051365,
     "end_time": "2021-12-19T12:12:02.792393",
     "exception": false,
     "start_time": "2021-12-19T12:12:02.741028",
     "status": "completed"
    },
    "tags": []
   },
   "outputs": [],
   "source": [
    "#hide\n",
    "dft_ct_new_cases = dft_cases.groupby(COL_REGION)[dt_cols].sum().diff(axis=1).fillna(0).astype(int)"
   ]
  },
  {
   "cell_type": "code",
   "execution_count": 19,
   "id": "neutral-assignment",
   "metadata": {
    "execution": {
     "iopub.execute_input": "2021-12-19T12:12:02.864953Z",
     "iopub.status.busy": "2021-12-19T12:12:02.863900Z",
     "iopub.status.idle": "2021-12-19T12:12:02.868550Z",
     "shell.execute_reply": "2021-12-19T12:12:02.868103Z"
    },
    "papermill": {
     "duration": 0.044393,
     "end_time": "2021-12-19T12:12:02.868670",
     "exception": false,
     "start_time": "2021-12-19T12:12:02.824277",
     "status": "completed"
    },
    "tags": []
   },
   "outputs": [],
   "source": [
    "#hide\n",
    "everydaycases = dft_ct_new_cases.cumsum(axis=1)"
   ]
  },
  {
   "cell_type": "code",
   "execution_count": 20,
   "id": "parliamentary-calgary",
   "metadata": {
    "execution": {
     "iopub.execute_input": "2021-12-19T12:12:02.936988Z",
     "iopub.status.busy": "2021-12-19T12:12:02.936393Z",
     "iopub.status.idle": "2021-12-19T12:12:03.625550Z",
     "shell.execute_reply": "2021-12-19T12:12:03.624652Z"
    },
    "papermill": {
     "duration": 0.725354,
     "end_time": "2021-12-19T12:12:03.625775",
     "exception": false,
     "start_time": "2021-12-19T12:12:02.900421",
     "status": "completed"
    },
    "tags": []
   },
   "outputs": [],
   "source": [
    "#hide\n",
    "import pandas as pd\n",
    "import matplotlib.pyplot as plt\n",
    "import matplotlib.ticker as ticker\n",
    "import matplotlib.animation as animation\n",
    "from IPython.display import HTML"
   ]
  },
  {
   "cell_type": "code",
   "execution_count": 21,
   "id": "lasting-extraction",
   "metadata": {
    "execution": {
     "iopub.execute_input": "2021-12-19T12:12:03.699875Z",
     "iopub.status.busy": "2021-12-19T12:12:03.699282Z",
     "iopub.status.idle": "2021-12-19T12:12:03.706508Z",
     "shell.execute_reply": "2021-12-19T12:12:03.705998Z"
    },
    "papermill": {
     "duration": 0.047471,
     "end_time": "2021-12-19T12:12:03.706644",
     "exception": false,
     "start_time": "2021-12-19T12:12:03.659173",
     "status": "completed"
    },
    "tags": []
   },
   "outputs": [],
   "source": [
    "#hide\n",
    "t = everydaycases.stack()"
   ]
  },
  {
   "cell_type": "code",
   "execution_count": 22,
   "id": "premier-sleeve",
   "metadata": {
    "execution": {
     "iopub.execute_input": "2021-12-19T12:12:03.777474Z",
     "iopub.status.busy": "2021-12-19T12:12:03.776438Z",
     "iopub.status.idle": "2021-12-19T12:12:03.788829Z",
     "shell.execute_reply": "2021-12-19T12:12:03.788355Z"
    },
    "papermill": {
     "duration": 0.049473,
     "end_time": "2021-12-19T12:12:03.788949",
     "exception": false,
     "start_time": "2021-12-19T12:12:03.739476",
     "status": "completed"
    },
    "tags": []
   },
   "outputs": [],
   "source": [
    "#hide\n",
    "g = t.reset_index(['Country/Region'])"
   ]
  },
  {
   "cell_type": "code",
   "execution_count": 23,
   "id": "distributed-pittsburgh",
   "metadata": {
    "execution": {
     "iopub.execute_input": "2021-12-19T12:12:03.857571Z",
     "iopub.status.busy": "2021-12-19T12:12:03.857011Z",
     "iopub.status.idle": "2021-12-19T12:12:03.859715Z",
     "shell.execute_reply": "2021-12-19T12:12:03.860157Z"
    },
    "papermill": {
     "duration": 0.039051,
     "end_time": "2021-12-19T12:12:03.860292",
     "exception": false,
     "start_time": "2021-12-19T12:12:03.821241",
     "status": "completed"
    },
    "tags": []
   },
   "outputs": [],
   "source": [
    "#hide\n",
    "g.index.name = 'date'"
   ]
  },
  {
   "cell_type": "code",
   "execution_count": 24,
   "id": "naked-donor",
   "metadata": {
    "execution": {
     "iopub.execute_input": "2021-12-19T12:12:03.928851Z",
     "iopub.status.busy": "2021-12-19T12:12:03.928246Z",
     "iopub.status.idle": "2021-12-19T12:12:03.931737Z",
     "shell.execute_reply": "2021-12-19T12:12:03.932189Z"
    },
    "papermill": {
     "duration": 0.039445,
     "end_time": "2021-12-19T12:12:03.932401",
     "exception": false,
     "start_time": "2021-12-19T12:12:03.892956",
     "status": "completed"
    },
    "tags": []
   },
   "outputs": [],
   "source": [
    "# #hide\n",
    "# g = g.reset_index(['date'])"
   ]
  },
  {
   "cell_type": "code",
   "execution_count": 25,
   "id": "incomplete-mustang",
   "metadata": {
    "execution": {
     "iopub.execute_input": "2021-12-19T12:12:04.001493Z",
     "iopub.status.busy": "2021-12-19T12:12:04.000942Z",
     "iopub.status.idle": "2021-12-19T12:12:04.003308Z",
     "shell.execute_reply": "2021-12-19T12:12:04.003876Z"
    },
    "papermill": {
     "duration": 0.038933,
     "end_time": "2021-12-19T12:12:04.004016",
     "exception": false,
     "start_time": "2021-12-19T12:12:03.965083",
     "status": "completed"
    },
    "tags": []
   },
   "outputs": [],
   "source": [
    "#hide\n",
    "# g.head()"
   ]
  },
  {
   "cell_type": "code",
   "execution_count": 26,
   "id": "specific-kruger",
   "metadata": {
    "execution": {
     "iopub.execute_input": "2021-12-19T12:12:04.072432Z",
     "iopub.status.busy": "2021-12-19T12:12:04.071386Z",
     "iopub.status.idle": "2021-12-19T12:12:04.076566Z",
     "shell.execute_reply": "2021-12-19T12:12:04.077021Z"
    },
    "papermill": {
     "duration": 0.042221,
     "end_time": "2021-12-19T12:12:04.077168",
     "exception": false,
     "start_time": "2021-12-19T12:12:04.034947",
     "status": "completed"
    },
    "tags": []
   },
   "outputs": [],
   "source": [
    "#hide\n",
    "# g.columns = ['date','country','cases']"
   ]
  },
  {
   "cell_type": "code",
   "execution_count": 27,
   "id": "tender-conversion",
   "metadata": {
    "execution": {
     "iopub.execute_input": "2021-12-19T12:12:04.145778Z",
     "iopub.status.busy": "2021-12-19T12:12:04.144744Z",
     "iopub.status.idle": "2021-12-19T12:12:04.146916Z",
     "shell.execute_reply": "2021-12-19T12:12:04.147740Z"
    },
    "papermill": {
     "duration": 0.038931,
     "end_time": "2021-12-19T12:12:04.147959",
     "exception": false,
     "start_time": "2021-12-19T12:12:04.109028",
     "status": "completed"
    },
    "tags": []
   },
   "outputs": [],
   "source": [
    "#hide\n",
    "# g['continent'] = g.country"
   ]
  },
  {
   "cell_type": "code",
   "execution_count": 28,
   "id": "substantial-wilderness",
   "metadata": {
    "execution": {
     "iopub.execute_input": "2021-12-19T12:12:04.214567Z",
     "iopub.status.busy": "2021-12-19T12:12:04.214051Z",
     "iopub.status.idle": "2021-12-19T12:12:04.216401Z",
     "shell.execute_reply": "2021-12-19T12:12:04.216866Z"
    },
    "papermill": {
     "duration": 0.037987,
     "end_time": "2021-12-19T12:12:04.217000",
     "exception": false,
     "start_time": "2021-12-19T12:12:04.179013",
     "status": "completed"
    },
    "tags": []
   },
   "outputs": [],
   "source": [
    "#hide\n",
    "# cols = list(g.columns.values)"
   ]
  },
  {
   "cell_type": "code",
   "execution_count": 29,
   "id": "solved-farming",
   "metadata": {
    "execution": {
     "iopub.execute_input": "2021-12-19T12:12:04.283252Z",
     "iopub.status.busy": "2021-12-19T12:12:04.282698Z",
     "iopub.status.idle": "2021-12-19T12:12:04.285174Z",
     "shell.execute_reply": "2021-12-19T12:12:04.285700Z"
    },
    "papermill": {
     "duration": 0.038691,
     "end_time": "2021-12-19T12:12:04.285831",
     "exception": false,
     "start_time": "2021-12-19T12:12:04.247140",
     "status": "completed"
    },
    "tags": []
   },
   "outputs": [],
   "source": [
    "#hide\n",
    "# cols.insert(0, cols.pop())"
   ]
  },
  {
   "cell_type": "code",
   "execution_count": 30,
   "id": "executed-adoption",
   "metadata": {
    "execution": {
     "iopub.execute_input": "2021-12-19T12:12:04.353992Z",
     "iopub.status.busy": "2021-12-19T12:12:04.353440Z",
     "iopub.status.idle": "2021-12-19T12:12:04.355710Z",
     "shell.execute_reply": "2021-12-19T12:12:04.356240Z"
    },
    "papermill": {
     "duration": 0.039019,
     "end_time": "2021-12-19T12:12:04.356370",
     "exception": false,
     "start_time": "2021-12-19T12:12:04.317351",
     "status": "completed"
    },
    "tags": []
   },
   "outputs": [],
   "source": [
    "#hide\n",
    "# g = g[cols]"
   ]
  },
  {
   "cell_type": "code",
   "execution_count": 31,
   "id": "subject-dublin",
   "metadata": {
    "execution": {
     "iopub.execute_input": "2021-12-19T12:12:04.424119Z",
     "iopub.status.busy": "2021-12-19T12:12:04.423509Z",
     "iopub.status.idle": "2021-12-19T12:12:04.425375Z",
     "shell.execute_reply": "2021-12-19T12:12:04.425815Z"
    },
    "papermill": {
     "duration": 0.038114,
     "end_time": "2021-12-19T12:12:04.425945",
     "exception": false,
     "start_time": "2021-12-19T12:12:04.387831",
     "status": "completed"
    },
    "tags": []
   },
   "outputs": [],
   "source": [
    "#hide\n",
    "# g['continent'] = g['continent'].map(mapping['map.continent'])"
   ]
  },
  {
   "cell_type": "code",
   "execution_count": 32,
   "id": "freelance-scout",
   "metadata": {
    "execution": {
     "iopub.execute_input": "2021-12-19T12:12:04.494986Z",
     "iopub.status.busy": "2021-12-19T12:12:04.494425Z",
     "iopub.status.idle": "2021-12-19T12:12:04.496699Z",
     "shell.execute_reply": "2021-12-19T12:12:04.496259Z"
    },
    "papermill": {
     "duration": 0.038739,
     "end_time": "2021-12-19T12:12:04.496817",
     "exception": false,
     "start_time": "2021-12-19T12:12:04.458078",
     "status": "completed"
    },
    "tags": []
   },
   "outputs": [],
   "source": [
    "#hide\n",
    "# g.head()"
   ]
  },
  {
   "cell_type": "code",
   "execution_count": 33,
   "id": "limited-engine",
   "metadata": {
    "execution": {
     "iopub.execute_input": "2021-12-19T12:12:04.563622Z",
     "iopub.status.busy": "2021-12-19T12:12:04.563032Z",
     "iopub.status.idle": "2021-12-19T12:12:04.566043Z",
     "shell.execute_reply": "2021-12-19T12:12:04.565571Z"
    },
    "papermill": {
     "duration": 0.037923,
     "end_time": "2021-12-19T12:12:04.566193",
     "exception": false,
     "start_time": "2021-12-19T12:12:04.528270",
     "status": "completed"
    },
    "tags": []
   },
   "outputs": [],
   "source": [
    "# hide\n",
    "# g['date'] = g['date'].astype('datetime64[ns]')"
   ]
  },
  {
   "cell_type": "code",
   "execution_count": 34,
   "id": "sophisticated-supervisor",
   "metadata": {
    "execution": {
     "iopub.execute_input": "2021-12-19T12:12:04.631262Z",
     "iopub.status.busy": "2021-12-19T12:12:04.630339Z",
     "iopub.status.idle": "2021-12-19T12:12:04.632226Z",
     "shell.execute_reply": "2021-12-19T12:12:04.632940Z"
    },
    "papermill": {
     "duration": 0.036534,
     "end_time": "2021-12-19T12:12:04.633135",
     "exception": false,
     "start_time": "2021-12-19T12:12:04.596601",
     "status": "completed"
    },
    "tags": []
   },
   "outputs": [],
   "source": [
    "#hide\n",
    "# g['date'] = g.date.dt.dayofyear"
   ]
  },
  {
   "cell_type": "code",
   "execution_count": 35,
   "id": "inside-dubai",
   "metadata": {
    "execution": {
     "iopub.execute_input": "2021-12-19T12:12:04.701488Z",
     "iopub.status.busy": "2021-12-19T12:12:04.700930Z",
     "iopub.status.idle": "2021-12-19T12:12:04.703379Z",
     "shell.execute_reply": "2021-12-19T12:12:04.703896Z"
    },
    "papermill": {
     "duration": 0.038407,
     "end_time": "2021-12-19T12:12:04.704026",
     "exception": false,
     "start_time": "2021-12-19T12:12:04.665619",
     "status": "completed"
    },
    "tags": []
   },
   "outputs": [],
   "source": [
    "#hide\n",
    "# g = g.rename(columns= {'continent':'group','country':'name','cases':'value'})"
   ]
  },
  {
   "cell_type": "code",
   "execution_count": 36,
   "id": "fleet-motorcycle",
   "metadata": {
    "execution": {
     "iopub.execute_input": "2021-12-19T12:12:04.768981Z",
     "iopub.status.busy": "2021-12-19T12:12:04.768438Z",
     "iopub.status.idle": "2021-12-19T12:12:04.771135Z",
     "shell.execute_reply": "2021-12-19T12:12:04.770667Z"
    },
    "papermill": {
     "duration": 0.036446,
     "end_time": "2021-12-19T12:12:04.771244",
     "exception": false,
     "start_time": "2021-12-19T12:12:04.734798",
     "status": "completed"
    },
    "tags": []
   },
   "outputs": [],
   "source": [
    "#hide\n",
    "# cols = ['name','group','day','value']"
   ]
  },
  {
   "cell_type": "code",
   "execution_count": 37,
   "id": "continued-sleeping",
   "metadata": {
    "execution": {
     "iopub.execute_input": "2021-12-19T12:12:04.837418Z",
     "iopub.status.busy": "2021-12-19T12:12:04.836377Z",
     "iopub.status.idle": "2021-12-19T12:12:04.840702Z",
     "shell.execute_reply": "2021-12-19T12:12:04.841067Z"
    },
    "papermill": {
     "duration": 0.039053,
     "end_time": "2021-12-19T12:12:04.841182",
     "exception": false,
     "start_time": "2021-12-19T12:12:04.802129",
     "status": "completed"
    },
    "tags": []
   },
   "outputs": [],
   "source": [
    "#hide\n",
    "# g.rename(columns= {'date':'day'},inplace = True)"
   ]
  },
  {
   "cell_type": "code",
   "execution_count": 38,
   "id": "major-fight",
   "metadata": {
    "execution": {
     "iopub.execute_input": "2021-12-19T12:12:04.910561Z",
     "iopub.status.busy": "2021-12-19T12:12:04.909460Z",
     "iopub.status.idle": "2021-12-19T12:12:04.911367Z",
     "shell.execute_reply": "2021-12-19T12:12:04.911797Z"
    },
    "papermill": {
     "duration": 0.03896,
     "end_time": "2021-12-19T12:12:04.911927",
     "exception": false,
     "start_time": "2021-12-19T12:12:04.872967",
     "status": "completed"
    },
    "tags": []
   },
   "outputs": [],
   "source": [
    "#hide\n",
    "# g = g[cols]"
   ]
  },
  {
   "cell_type": "code",
   "execution_count": 39,
   "id": "structured-mobile",
   "metadata": {
    "execution": {
     "iopub.execute_input": "2021-12-19T12:12:04.981065Z",
     "iopub.status.busy": "2021-12-19T12:12:04.980326Z",
     "iopub.status.idle": "2021-12-19T12:12:04.981753Z",
     "shell.execute_reply": "2021-12-19T12:12:04.982476Z"
    },
    "papermill": {
     "duration": 0.038466,
     "end_time": "2021-12-19T12:12:04.982613",
     "exception": false,
     "start_time": "2021-12-19T12:12:04.944147",
     "status": "completed"
    },
    "tags": []
   },
   "outputs": [],
   "source": [
    "# #hide\n",
    "# g = g[g.group.notna()]"
   ]
  },
  {
   "cell_type": "code",
   "execution_count": 40,
   "id": "determined-closing",
   "metadata": {
    "execution": {
     "iopub.execute_input": "2021-12-19T12:12:05.053636Z",
     "iopub.status.busy": "2021-12-19T12:12:05.052849Z",
     "iopub.status.idle": "2021-12-19T12:12:05.056521Z",
     "shell.execute_reply": "2021-12-19T12:12:05.056975Z"
    },
    "papermill": {
     "duration": 0.041721,
     "end_time": "2021-12-19T12:12:05.057124",
     "exception": false,
     "start_time": "2021-12-19T12:12:05.015403",
     "status": "completed"
    },
    "tags": []
   },
   "outputs": [],
   "source": [
    "# #hide\n",
    "# colors = dict(zip(\n",
    "#     [\"Oceania\", \"Europe\", \"Asia\", \"South America\", \"Middle East\", \"North America\", \"Africa\"],\n",
    "#     [\"#adb0ff\", \"#ffb3ff\", \"#90d595\", \"#e48381\", \"#aafbff\", \"#f7bb5f\", \"#eafb50\"]\n",
    "# ))\n",
    "# group_lk = g.set_index('name')['group'].to_dict()"
   ]
  },
  {
   "cell_type": "code",
   "execution_count": null,
   "id": "gross-drinking",
   "metadata": {
    "papermill": {
     "duration": 0.032406,
     "end_time": "2021-12-19T12:12:05.122186",
     "exception": false,
     "start_time": "2021-12-19T12:12:05.089780",
     "status": "completed"
    },
    "tags": []
   },
   "outputs": [],
   "source": []
  },
  {
   "cell_type": "code",
   "execution_count": 41,
   "id": "subject-macintosh",
   "metadata": {
    "execution": {
     "iopub.execute_input": "2021-12-19T12:12:05.190864Z",
     "iopub.status.busy": "2021-12-19T12:12:05.190254Z",
     "iopub.status.idle": "2021-12-19T12:12:05.192831Z",
     "shell.execute_reply": "2021-12-19T12:12:05.193404Z"
    },
    "papermill": {
     "duration": 0.0393,
     "end_time": "2021-12-19T12:12:05.193550",
     "exception": false,
     "start_time": "2021-12-19T12:12:05.154250",
     "status": "completed"
    },
    "tags": []
   },
   "outputs": [],
   "source": [
    "# #hide\n",
    "# fig, ax = plt.subplots(figsize=(15, 8))\n",
    "\n",
    "# def draw_barchart(current_day):\n",
    "#     dff = g[g['day'].eq(current_day)].sort_values(by='value', ascending=True).tail(10)\n",
    "#     ax.clear()\n",
    "#     ax.barh(dff['name'], dff['value'], color=[colors[group_lk[x]] for x in dff['name']])\n",
    "#     dx = dff['value'].max() / 200\n",
    "    \n",
    "#     for i, (value, name) in enumerate(zip(dff['value'], dff['name'])):\n",
    "#         ax.text(value-dx, i,     name,           size=14, weight=600, ha='right', va='bottom')\n",
    "#         ax.text(value-dx, i-.25, group_lk[name], size=10, color='#444444', ha='right', va='baseline')\n",
    "#         ax.text(value+dx, i,     f'{value:,.0f}',  size=14, ha='left',  va='center')\n",
    "#     ax.text(1, 0.4, current_day, transform=ax.transAxes, color='#777777', size=46, ha='right', weight=800)\n",
    "#     ax.text(0, 1.06, 'Population (thousands)', transform=ax.transAxes, size=12, color='#777777')\n",
    "#     ax.xaxis.set_major_formatter(ticker.StrMethodFormatter('{x:,.0f}'))\n",
    "#     ax.xaxis.set_ticks_position('top')\n",
    "#     ax.tick_params(axis='x', colors='#777777', labelsize=12)\n",
    "#     ax.set_yticks([])\n",
    "#     ax.margins(0, 0.01)\n",
    "#     ax.grid(which='major', axis='x', linestyle='-')\n",
    "#     ax.set_axisbelow(True)\n",
    "    \n",
    "#     ax.text(0, 1.15, 'Coronavirus',\n",
    "#             transform=ax.transAxes, size=24, weight=600, ha='left', va='top')\n",
    "# #     ax.text(1, 0, 'by @pratapvardhan; credit @jburnmurdoch', transform=ax.transAxes, color='#777777', ha='right',\n",
    "# #             bbox=dict(facecolor='white', alpha=0.8, edgecolor='white'))\n",
    "#     plt.box(False)"
   ]
  },
  {
   "cell_type": "code",
   "execution_count": 42,
   "id": "sexual-wages",
   "metadata": {
    "execution": {
     "iopub.execute_input": "2021-12-19T12:12:05.261195Z",
     "iopub.status.busy": "2021-12-19T12:12:05.260598Z",
     "iopub.status.idle": "2021-12-19T12:12:05.263502Z",
     "shell.execute_reply": "2021-12-19T12:12:05.263996Z"
    },
    "papermill": {
     "duration": 0.039188,
     "end_time": "2021-12-19T12:12:05.264137",
     "exception": false,
     "start_time": "2021-12-19T12:12:05.224949",
     "status": "completed"
    },
    "tags": []
   },
   "outputs": [],
   "source": [
    "# #hide_input\n",
    "# fig, ax = plt.subplots(figsize=(15, 8))\n",
    "# animator = animation.FuncAnimation(fig, draw_barchart, frames=range(g.day.values.min(), g.day.values.max()))\n",
    "# HTML(animator.to_jshtml())\n",
    "# # or use animator.to_html5_video() or animator.save() "
   ]
  },
  {
   "cell_type": "code",
   "execution_count": null,
   "id": "australian-container",
   "metadata": {
    "papermill": {
     "duration": 0.030462,
     "end_time": "2021-12-19T12:12:05.326435",
     "exception": false,
     "start_time": "2021-12-19T12:12:05.295973",
     "status": "completed"
    },
    "tags": []
   },
   "outputs": [],
   "source": []
  },
  {
   "cell_type": "code",
   "execution_count": null,
   "id": "mediterranean-pontiac",
   "metadata": {
    "papermill": {
     "duration": 0.029839,
     "end_time": "2021-12-19T12:12:05.387739",
     "exception": false,
     "start_time": "2021-12-19T12:12:05.357900",
     "status": "completed"
    },
    "tags": []
   },
   "outputs": [],
   "source": []
  },
  {
   "cell_type": "code",
   "execution_count": null,
   "id": "aging-legislature",
   "metadata": {
    "papermill": {
     "duration": 0.030077,
     "end_time": "2021-12-19T12:12:05.448612",
     "exception": false,
     "start_time": "2021-12-19T12:12:05.418535",
     "status": "completed"
    },
    "tags": []
   },
   "outputs": [],
   "source": []
  }
 ],
 "metadata": {
  "kernelspec": {
   "display_name": "Python 3",
   "language": "python",
   "name": "python3"
  },
  "language_info": {
   "codemirror_mode": {
    "name": "ipython",
    "version": 3
   },
   "file_extension": ".py",
   "mimetype": "text/x-python",
   "name": "python",
   "nbconvert_exporter": "python",
   "pygments_lexer": "ipython3",
   "version": "3.6.15"
  },
  "papermill": {
   "duration": 6.342338,
   "end_time": "2021-12-19T12:12:05.788272",
   "environment_variables": {},
   "exception": null,
   "input_path": "2020-03-21-covid19exp.ipynb",
   "output_path": "2020-03-21-covid19exp.ipynb",
   "parameters": {},
   "start_time": "2021-12-19T12:11:59.445934",
   "version": "2.0.0"
  }
 },
 "nbformat": 4,
 "nbformat_minor": 5
}