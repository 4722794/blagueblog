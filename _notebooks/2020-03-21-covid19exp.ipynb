{
 "cells": [
  {
   "cell_type": "markdown",
   "id": "muslim-click",
   "metadata": {
    "papermill": {
     "duration": 0.04742,
     "end_time": "2021-07-21T00:20:41.581992",
     "exception": false,
     "start_time": "2021-07-21T00:20:41.534572",
     "status": "completed"
    },
    "tags": []
   },
   "source": [
    "# COVID-19 Case Race\n",
    "> A race chart to see rising cases around the world\n",
    "\n",
    "- author: Hargun Oberoi\n",
    "- image: images/covid-overview.png\n",
    "- hide: false\n",
    "- badges: false"
   ]
  },
  {
   "cell_type": "code",
   "execution_count": 1,
   "id": "proof-material",
   "metadata": {
    "execution": {
     "iopub.execute_input": "2021-07-21T00:20:41.681329Z",
     "iopub.status.busy": "2021-07-21T00:20:41.680351Z",
     "iopub.status.idle": "2021-07-21T00:20:42.130601Z",
     "shell.execute_reply": "2021-07-21T00:20:42.129573Z"
    },
    "papermill": {
     "duration": 0.50448,
     "end_time": "2021-07-21T00:20:42.130792",
     "exception": false,
     "start_time": "2021-07-21T00:20:41.626312",
     "status": "completed"
    },
    "tags": []
   },
   "outputs": [],
   "source": [
    "#hide\n",
    "import numpy as np\n",
    "import pandas as pd\n",
    "from jinja2 import Template\n",
    "from IPython.display import HTML"
   ]
  },
  {
   "cell_type": "code",
   "execution_count": 2,
   "id": "developed-terminology",
   "metadata": {
    "execution": {
     "iopub.execute_input": "2021-07-21T00:20:42.226611Z",
     "iopub.status.busy": "2021-07-21T00:20:42.225836Z",
     "iopub.status.idle": "2021-07-21T00:20:42.228852Z",
     "shell.execute_reply": "2021-07-21T00:20:42.228288Z"
    },
    "papermill": {
     "duration": 0.055965,
     "end_time": "2021-07-21T00:20:42.229056",
     "exception": false,
     "start_time": "2021-07-21T00:20:42.173091",
     "status": "completed"
    },
    "tags": []
   },
   "outputs": [],
   "source": [
    "#hide\n",
    "\n",
    "# FETCH\n",
    "base_url = 'https://raw.githubusercontent.com/pratapvardhan/notebooks/master/covid19/'\n",
    "paths = {\n",
    "    'mapping': base_url + 'mapping_countries.csv',\n",
    "    'overview': base_url + 'overview.tpl'\n",
    "}"
   ]
  },
  {
   "cell_type": "code",
   "execution_count": 3,
   "id": "dynamic-saver",
   "metadata": {
    "execution": {
     "iopub.execute_input": "2021-07-21T00:20:42.324928Z",
     "iopub.status.busy": "2021-07-21T00:20:42.324191Z",
     "iopub.status.idle": "2021-07-21T00:20:42.326651Z",
     "shell.execute_reply": "2021-07-21T00:20:42.327300Z"
    },
    "papermill": {
     "duration": 0.057512,
     "end_time": "2021-07-21T00:20:42.327496",
     "exception": false,
     "start_time": "2021-07-21T00:20:42.269984",
     "status": "completed"
    },
    "tags": []
   },
   "outputs": [
    {
     "data": {
      "text/plain": [
       "'https://raw.githubusercontent.com/pratapvardhan/notebooks/master/covid19/mapping_countries.csv'"
      ]
     },
     "execution_count": 3,
     "metadata": {},
     "output_type": "execute_result"
    }
   ],
   "source": [
    "#hide\n",
    "paths['mapping']"
   ]
  },
  {
   "cell_type": "code",
   "execution_count": 4,
   "id": "urban-software",
   "metadata": {
    "execution": {
     "iopub.execute_input": "2021-07-21T00:20:42.420543Z",
     "iopub.status.busy": "2021-07-21T00:20:42.419812Z",
     "iopub.status.idle": "2021-07-21T00:20:42.422221Z",
     "shell.execute_reply": "2021-07-21T00:20:42.422881Z"
    },
    "papermill": {
     "duration": 0.051783,
     "end_time": "2021-07-21T00:20:42.423034",
     "exception": false,
     "start_time": "2021-07-21T00:20:42.371251",
     "status": "completed"
    },
    "tags": []
   },
   "outputs": [],
   "source": [
    "#hide\n",
    "def get_mappings(url):\n",
    "    df = pd.read_csv(url)\n",
    "    return {\n",
    "        'df': df,\n",
    "        'replace.country': dict(df.dropna(subset=['Name']).set_index('Country')['Name']),\n",
    "        'map.continent': dict(df.set_index('Name')['Continent'])\n",
    "    }"
   ]
  },
  {
   "cell_type": "code",
   "execution_count": 5,
   "id": "intimate-machinery",
   "metadata": {
    "execution": {
     "iopub.execute_input": "2021-07-21T00:20:42.518301Z",
     "iopub.status.busy": "2021-07-21T00:20:42.517624Z",
     "iopub.status.idle": "2021-07-21T00:20:42.561476Z",
     "shell.execute_reply": "2021-07-21T00:20:42.560828Z"
    },
    "papermill": {
     "duration": 0.094713,
     "end_time": "2021-07-21T00:20:42.561628",
     "exception": false,
     "start_time": "2021-07-21T00:20:42.466915",
     "status": "completed"
    },
    "tags": []
   },
   "outputs": [],
   "source": [
    "#hide\n",
    "mapping = get_mappings(paths['mapping'])"
   ]
  },
  {
   "cell_type": "code",
   "execution_count": 6,
   "id": "certified-tactics",
   "metadata": {
    "execution": {
     "iopub.execute_input": "2021-07-21T00:20:42.657964Z",
     "iopub.status.busy": "2021-07-21T00:20:42.657254Z",
     "iopub.status.idle": "2021-07-21T00:20:42.659136Z",
     "shell.execute_reply": "2021-07-21T00:20:42.659826Z"
    },
    "papermill": {
     "duration": 0.052808,
     "end_time": "2021-07-21T00:20:42.659976",
     "exception": false,
     "start_time": "2021-07-21T00:20:42.607168",
     "status": "completed"
    },
    "tags": []
   },
   "outputs": [],
   "source": [
    "#hide\n",
    "def get_template(path):\n",
    "    from urllib.parse import urlparse\n",
    "    if bool(urlparse(path).netloc):\n",
    "        from urllib.request import urlopen\n",
    "        return urlopen(path).read().decode('utf8')\n",
    "    return open(path).read()"
   ]
  },
  {
   "cell_type": "code",
   "execution_count": 7,
   "id": "realistic-blast",
   "metadata": {
    "execution": {
     "iopub.execute_input": "2021-07-21T00:20:42.748084Z",
     "iopub.status.busy": "2021-07-21T00:20:42.747238Z",
     "iopub.status.idle": "2021-07-21T00:20:42.749563Z",
     "shell.execute_reply": "2021-07-21T00:20:42.750158Z"
    },
    "papermill": {
     "duration": 0.049194,
     "end_time": "2021-07-21T00:20:42.750319",
     "exception": false,
     "start_time": "2021-07-21T00:20:42.701125",
     "status": "completed"
    },
    "tags": []
   },
   "outputs": [],
   "source": [
    "#hide\n",
    "def get_frame(name):\n",
    "    url = (\n",
    "        'https://raw.githubusercontent.com/CSSEGISandData/COVID-19/master/csse_covid_19_data/'\n",
    "        f'csse_covid_19_time_series/time_series_covid19_{name}_global.csv')\n",
    "    df = pd.read_csv(url)\n",
    "    # rename countries\n",
    "    df['Country/Region'] = df['Country/Region'].replace(mapping['replace.country'])\n",
    "    return df"
   ]
  },
  {
   "cell_type": "code",
   "execution_count": 8,
   "id": "affiliated-characterization",
   "metadata": {
    "execution": {
     "iopub.execute_input": "2021-07-21T00:20:42.847354Z",
     "iopub.status.busy": "2021-07-21T00:20:42.846418Z",
     "iopub.status.idle": "2021-07-21T00:20:42.849824Z",
     "shell.execute_reply": "2021-07-21T00:20:42.850565Z"
    },
    "papermill": {
     "duration": 0.055364,
     "end_time": "2021-07-21T00:20:42.850743",
     "exception": false,
     "start_time": "2021-07-21T00:20:42.795379",
     "status": "completed"
    },
    "tags": []
   },
   "outputs": [],
   "source": [
    "#hide\n",
    "def get_dates(df):\n",
    "    dt_cols = df.columns[~df.columns.isin(['Province/State', 'Country/Region', 'Lat', 'Long'])]\n",
    "    LAST_DATE_I = -1\n",
    "    # sometimes last column may be empty, then go backwards\n",
    "    for i in range(-1, -len(dt_cols), -1):\n",
    "        if not df[dt_cols[i]].fillna(0).eq(0).all():\n",
    "            LAST_DATE_I = i\n",
    "            break\n",
    "    return LAST_DATE_I, dt_cols"
   ]
  },
  {
   "cell_type": "code",
   "execution_count": 9,
   "id": "recent-optimization",
   "metadata": {
    "execution": {
     "iopub.execute_input": "2021-07-21T00:20:42.944213Z",
     "iopub.status.busy": "2021-07-21T00:20:42.942922Z",
     "iopub.status.idle": "2021-07-21T00:20:43.410221Z",
     "shell.execute_reply": "2021-07-21T00:20:43.409540Z"
    },
    "papermill": {
     "duration": 0.51433,
     "end_time": "2021-07-21T00:20:43.410406",
     "exception": false,
     "start_time": "2021-07-21T00:20:42.896076",
     "status": "completed"
    },
    "tags": []
   },
   "outputs": [],
   "source": [
    "#hide\n",
    "COL_REGION = 'Country/Region'\n",
    "# Confirmed, Recovered, Deaths\n",
    "df = get_frame('confirmed')\n",
    "# dft_: timeseries, dfc_: today country agg\n",
    "dft_cases = df\n",
    "dft_deaths = get_frame('deaths')\n",
    "dft_recovered = get_frame('recovered')\n",
    "LAST_DATE_I, dt_cols = get_dates(df)"
   ]
  },
  {
   "cell_type": "code",
   "execution_count": 10,
   "id": "absolute-copper",
   "metadata": {
    "execution": {
     "iopub.execute_input": "2021-07-21T00:20:43.503539Z",
     "iopub.status.busy": "2021-07-21T00:20:43.502801Z",
     "iopub.status.idle": "2021-07-21T00:20:43.504882Z",
     "shell.execute_reply": "2021-07-21T00:20:43.505626Z"
    },
    "papermill": {
     "duration": 0.052481,
     "end_time": "2021-07-21T00:20:43.505799",
     "exception": false,
     "start_time": "2021-07-21T00:20:43.453318",
     "status": "completed"
    },
    "tags": []
   },
   "outputs": [],
   "source": [
    "#hide\n",
    "LAST_DATE_I, dt_cols = get_dates(df)\n",
    "dt_today =dt_cols[LAST_DATE_I]\n",
    "# dt_5day = dt_cols[LAST_DATE_I - 5]\n",
    "dt_yday = dt_cols[LAST_DATE_I - 1]"
   ]
  },
  {
   "cell_type": "code",
   "execution_count": 11,
   "id": "restricted-sheriff",
   "metadata": {
    "execution": {
     "iopub.execute_input": "2021-07-21T00:20:43.602239Z",
     "iopub.status.busy": "2021-07-21T00:20:43.601486Z",
     "iopub.status.idle": "2021-07-21T00:20:43.608440Z",
     "shell.execute_reply": "2021-07-21T00:20:43.609054Z"
    },
    "papermill": {
     "duration": 0.059503,
     "end_time": "2021-07-21T00:20:43.609215",
     "exception": false,
     "start_time": "2021-07-21T00:20:43.549712",
     "status": "completed"
    },
    "tags": []
   },
   "outputs": [],
   "source": [
    "#hide\n",
    "dfc_cases = dft_cases.groupby(COL_REGION)[dt_today].sum()\n",
    "dfc_deaths = dft_deaths.groupby(COL_REGION)[dt_today].sum()\n",
    "# dfp_cases = dft_cases.groupby(COL_REGION)[dt_5day].sum()\n",
    "# dfp_deaths = dft_deaths.groupby(COL_REGION)[dt_5day].sum()\n",
    "dfp_cases = dft_cases.groupby(COL_REGION)[dt_yday].sum()\n",
    "dfp_deaths = dft_deaths.groupby(COL_REGION)[dt_yday].sum()"
   ]
  },
  {
   "cell_type": "code",
   "execution_count": 12,
   "id": "deluxe-hepatitis",
   "metadata": {
    "execution": {
     "iopub.execute_input": "2021-07-21T00:20:43.707613Z",
     "iopub.status.busy": "2021-07-21T00:20:43.706774Z",
     "iopub.status.idle": "2021-07-21T00:20:43.712669Z",
     "shell.execute_reply": "2021-07-21T00:20:43.712078Z"
    },
    "papermill": {
     "duration": 0.061399,
     "end_time": "2021-07-21T00:20:43.712808",
     "exception": false,
     "start_time": "2021-07-21T00:20:43.651409",
     "status": "completed"
    },
    "tags": []
   },
   "outputs": [],
   "source": [
    "#hide\n",
    "df_table = (pd.DataFrame(dict(Cases = dfc_cases, Deaths = dfc_deaths, PCases = dfp_cases, PDeaths = dfp_deaths))\n",
    "            .sort_values(by = ['Cases','Deaths'], ascending = [False, False])\n",
    "            .reset_index())"
   ]
  },
  {
   "cell_type": "code",
   "execution_count": 13,
   "id": "educational-chancellor",
   "metadata": {
    "execution": {
     "iopub.execute_input": "2021-07-21T00:20:43.832678Z",
     "iopub.status.busy": "2021-07-21T00:20:43.825955Z",
     "iopub.status.idle": "2021-07-21T00:20:43.835775Z",
     "shell.execute_reply": "2021-07-21T00:20:43.836797Z"
    },
    "papermill": {
     "duration": 0.081218,
     "end_time": "2021-07-21T00:20:43.836968",
     "exception": false,
     "start_time": "2021-07-21T00:20:43.755750",
     "status": "completed"
    },
    "tags": []
   },
   "outputs": [
    {
     "data": {
      "text/html": [
       "<div>\n",
       "<style scoped>\n",
       "    .dataframe tbody tr th:only-of-type {\n",
       "        vertical-align: middle;\n",
       "    }\n",
       "\n",
       "    .dataframe tbody tr th {\n",
       "        vertical-align: top;\n",
       "    }\n",
       "\n",
       "    .dataframe thead th {\n",
       "        text-align: right;\n",
       "    }\n",
       "</style>\n",
       "<table border=\"1\" class=\"dataframe\">\n",
       "  <thead>\n",
       "    <tr style=\"text-align: right;\">\n",
       "      <th></th>\n",
       "      <th>Country/Region</th>\n",
       "      <th>Cases</th>\n",
       "      <th>Deaths</th>\n",
       "      <th>PCases</th>\n",
       "      <th>PDeaths</th>\n",
       "      <th>Cases (+)</th>\n",
       "      <th>Deaths (+)</th>\n",
       "      <th>Fatality Rate</th>\n",
       "      <th>Continent</th>\n",
       "    </tr>\n",
       "  </thead>\n",
       "  <tbody>\n",
       "    <tr>\n",
       "      <th>0</th>\n",
       "      <td>US</td>\n",
       "      <td>34132071</td>\n",
       "      <td>609231</td>\n",
       "      <td>34079960</td>\n",
       "      <td>609019</td>\n",
       "      <td>52111</td>\n",
       "      <td>212</td>\n",
       "      <td>1.78</td>\n",
       "      <td>North America</td>\n",
       "    </tr>\n",
       "    <tr>\n",
       "      <th>1</th>\n",
       "      <td>India</td>\n",
       "      <td>31174322</td>\n",
       "      <td>414482</td>\n",
       "      <td>31144229</td>\n",
       "      <td>414108</td>\n",
       "      <td>30093</td>\n",
       "      <td>374</td>\n",
       "      <td>1.33</td>\n",
       "      <td>Asia</td>\n",
       "    </tr>\n",
       "    <tr>\n",
       "      <th>2</th>\n",
       "      <td>Brazil</td>\n",
       "      <td>19391845</td>\n",
       "      <td>542756</td>\n",
       "      <td>19376574</td>\n",
       "      <td>542214</td>\n",
       "      <td>15271</td>\n",
       "      <td>542</td>\n",
       "      <td>2.80</td>\n",
       "      <td>South America</td>\n",
       "    </tr>\n",
       "    <tr>\n",
       "      <th>3</th>\n",
       "      <td>France</td>\n",
       "      <td>5934122</td>\n",
       "      <td>111682</td>\n",
       "      <td>5929929</td>\n",
       "      <td>111662</td>\n",
       "      <td>4193</td>\n",
       "      <td>20</td>\n",
       "      <td>1.88</td>\n",
       "      <td>Europe</td>\n",
       "    </tr>\n",
       "    <tr>\n",
       "      <th>4</th>\n",
       "      <td>Russia</td>\n",
       "      <td>5908691</td>\n",
       "      <td>146686</td>\n",
       "      <td>5884593</td>\n",
       "      <td>145975</td>\n",
       "      <td>24098</td>\n",
       "      <td>711</td>\n",
       "      <td>2.48</td>\n",
       "      <td>Europe</td>\n",
       "    </tr>\n",
       "  </tbody>\n",
       "</table>\n",
       "</div>"
      ],
      "text/plain": [
       "  Country/Region     Cases  Deaths    PCases  PDeaths  Cases (+)  Deaths (+)  \\\n",
       "0             US  34132071  609231  34079960   609019      52111         212   \n",
       "1          India  31174322  414482  31144229   414108      30093         374   \n",
       "2         Brazil  19391845  542756  19376574   542214      15271         542   \n",
       "3         France   5934122  111682   5929929   111662       4193          20   \n",
       "4         Russia   5908691  146686   5884593   145975      24098         711   \n",
       "\n",
       "   Fatality Rate      Continent  \n",
       "0           1.78  North America  \n",
       "1           1.33           Asia  \n",
       "2           2.80  South America  \n",
       "3           1.88         Europe  \n",
       "4           2.48         Europe  "
      ]
     },
     "execution_count": 13,
     "metadata": {},
     "output_type": "execute_result"
    }
   ],
   "source": [
    "#hide\n",
    "for c in 'Cases, Deaths'.split(', '):\n",
    "    df_table[f'{c} (+)'] = (df_table[c] - df_table[f'P{c}']).clip(0)\n",
    "    #Clip ça veut dire, les chiffres negatif sont interdit\n",
    "df_table['Fatality Rate'] = (100* df_table['Deaths']/ df_table['Cases']).round(2)\n",
    "df_table['Continent'] = df_table['Country/Region'].map(mapping['map.continent'])\n",
    "df_table.head(5)"
   ]
  },
  {
   "cell_type": "code",
   "execution_count": 14,
   "id": "aboriginal-bulgaria",
   "metadata": {
    "execution": {
     "iopub.execute_input": "2021-07-21T00:20:43.929286Z",
     "iopub.status.busy": "2021-07-21T00:20:43.928519Z",
     "iopub.status.idle": "2021-07-21T00:20:43.930673Z",
     "shell.execute_reply": "2021-07-21T00:20:43.931293Z"
    },
    "papermill": {
     "duration": 0.052065,
     "end_time": "2021-07-21T00:20:43.931443",
     "exception": false,
     "start_time": "2021-07-21T00:20:43.879378",
     "status": "completed"
    },
    "tags": []
   },
   "outputs": [],
   "source": [
    "#hide\n",
    "#delete problematic countries from table\n",
    "df_table = df_table[~df_table['Country/Region'].isin(['Cape Verde', 'Cruise Ship', 'Kosovo'])]"
   ]
  },
  {
   "cell_type": "code",
   "execution_count": 15,
   "id": "fantastic-effect",
   "metadata": {
    "execution": {
     "iopub.execute_input": "2021-07-21T00:20:44.025092Z",
     "iopub.status.busy": "2021-07-21T00:20:44.024337Z",
     "iopub.status.idle": "2021-07-21T00:20:44.046833Z",
     "shell.execute_reply": "2021-07-21T00:20:44.047503Z"
    },
    "papermill": {
     "duration": 0.076199,
     "end_time": "2021-07-21T00:20:44.047687",
     "exception": false,
     "start_time": "2021-07-21T00:20:43.971488",
     "status": "completed"
    },
    "tags": []
   },
   "outputs": [
    {
     "data": {
      "text/html": [
       "<div>\n",
       "<style scoped>\n",
       "    .dataframe tbody tr th:only-of-type {\n",
       "        vertical-align: middle;\n",
       "    }\n",
       "\n",
       "    .dataframe tbody tr th {\n",
       "        vertical-align: top;\n",
       "    }\n",
       "\n",
       "    .dataframe thead th {\n",
       "        text-align: right;\n",
       "    }\n",
       "</style>\n",
       "<table border=\"1\" class=\"dataframe\">\n",
       "  <thead>\n",
       "    <tr style=\"text-align: right;\">\n",
       "      <th></th>\n",
       "      <th>Country/Region</th>\n",
       "      <th>Cases</th>\n",
       "      <th>Deaths</th>\n",
       "      <th>PCases</th>\n",
       "      <th>PDeaths</th>\n",
       "      <th>Cases (+)</th>\n",
       "      <th>Deaths (+)</th>\n",
       "      <th>Fatality Rate</th>\n",
       "      <th>Continent</th>\n",
       "    </tr>\n",
       "  </thead>\n",
       "  <tbody>\n",
       "    <tr>\n",
       "      <th>0</th>\n",
       "      <td>US</td>\n",
       "      <td>34132071</td>\n",
       "      <td>609231</td>\n",
       "      <td>34079960</td>\n",
       "      <td>609019</td>\n",
       "      <td>52111</td>\n",
       "      <td>212</td>\n",
       "      <td>1.8</td>\n",
       "      <td>North America</td>\n",
       "    </tr>\n",
       "    <tr>\n",
       "      <th>1</th>\n",
       "      <td>India</td>\n",
       "      <td>31174322</td>\n",
       "      <td>414482</td>\n",
       "      <td>31144229</td>\n",
       "      <td>414108</td>\n",
       "      <td>30093</td>\n",
       "      <td>374</td>\n",
       "      <td>1.3</td>\n",
       "      <td>Asia</td>\n",
       "    </tr>\n",
       "    <tr>\n",
       "      <th>2</th>\n",
       "      <td>Brazil</td>\n",
       "      <td>19391845</td>\n",
       "      <td>542756</td>\n",
       "      <td>19376574</td>\n",
       "      <td>542214</td>\n",
       "      <td>15271</td>\n",
       "      <td>542</td>\n",
       "      <td>2.8</td>\n",
       "      <td>South America</td>\n",
       "    </tr>\n",
       "    <tr>\n",
       "      <th>3</th>\n",
       "      <td>France</td>\n",
       "      <td>5934122</td>\n",
       "      <td>111682</td>\n",
       "      <td>5929929</td>\n",
       "      <td>111662</td>\n",
       "      <td>4193</td>\n",
       "      <td>20</td>\n",
       "      <td>1.9</td>\n",
       "      <td>Europe</td>\n",
       "    </tr>\n",
       "    <tr>\n",
       "      <th>4</th>\n",
       "      <td>Russia</td>\n",
       "      <td>5908691</td>\n",
       "      <td>146686</td>\n",
       "      <td>5884593</td>\n",
       "      <td>145975</td>\n",
       "      <td>24098</td>\n",
       "      <td>711</td>\n",
       "      <td>2.5</td>\n",
       "      <td>Europe</td>\n",
       "    </tr>\n",
       "  </tbody>\n",
       "</table>\n",
       "</div>"
      ],
      "text/plain": [
       "  Country/Region     Cases  Deaths    PCases  PDeaths  Cases (+)  Deaths (+)  \\\n",
       "0             US  34132071  609231  34079960   609019      52111         212   \n",
       "1          India  31174322  414482  31144229   414108      30093         374   \n",
       "2         Brazil  19391845  542756  19376574   542214      15271         542   \n",
       "3         France   5934122  111682   5929929   111662       4193          20   \n",
       "4         Russia   5908691  146686   5884593   145975      24098         711   \n",
       "\n",
       "   Fatality Rate      Continent  \n",
       "0            1.8  North America  \n",
       "1            1.3           Asia  \n",
       "2            2.8  South America  \n",
       "3            1.9         Europe  \n",
       "4            2.5         Europe  "
      ]
     },
     "execution_count": 15,
     "metadata": {},
     "output_type": "execute_result"
    }
   ],
   "source": [
    "#hide\n",
    "df_table = (pd.DataFrame(dict(Cases=dfc_cases, Deaths=dfc_deaths, PCases=dfp_cases, PDeaths=dfp_deaths))\n",
    "             .sort_values(by=['Cases', 'Deaths'], ascending=[False, False])\n",
    "             .reset_index())\n",
    "df_table.rename(columns={'index': 'Country/Region'}, inplace=True)\n",
    "for c in 'Cases, Deaths'.split(', '):\n",
    "    df_table[f'{c} (+)'] = (df_table[c] - df_table[f'P{c}']).clip(0)  # DATA BUG\n",
    "df_table['Fatality Rate'] = (100 * df_table['Deaths'] / df_table['Cases']).round(1)\n",
    "df_table['Continent'] = df_table['Country/Region'].map(mapping['map.continent'])\n",
    "df_table.head(5)"
   ]
  },
  {
   "cell_type": "code",
   "execution_count": 16,
   "id": "fewer-occasion",
   "metadata": {
    "execution": {
     "iopub.execute_input": "2021-07-21T00:20:44.143159Z",
     "iopub.status.busy": "2021-07-21T00:20:44.142470Z",
     "iopub.status.idle": "2021-07-21T00:20:44.145411Z",
     "shell.execute_reply": "2021-07-21T00:20:44.146063Z"
    },
    "papermill": {
     "duration": 0.055239,
     "end_time": "2021-07-21T00:20:44.146228",
     "exception": false,
     "start_time": "2021-07-21T00:20:44.090989",
     "status": "completed"
    },
    "tags": []
   },
   "outputs": [],
   "source": [
    "#hide\n",
    "#delete problematic countries from table\n",
    "df_table = df_table[~df_table['Country/Region'].isin(['Cape Verde', 'Cruise Ship', 'Kosovo'])]"
   ]
  },
  {
   "cell_type": "code",
   "execution_count": 17,
   "id": "related-center",
   "metadata": {
    "execution": {
     "iopub.execute_input": "2021-07-21T00:20:44.248523Z",
     "iopub.status.busy": "2021-07-21T00:20:44.246291Z",
     "iopub.status.idle": "2021-07-21T00:20:44.262176Z",
     "shell.execute_reply": "2021-07-21T00:20:44.261495Z"
    },
    "papermill": {
     "duration": 0.070825,
     "end_time": "2021-07-21T00:20:44.262325",
     "exception": false,
     "start_time": "2021-07-21T00:20:44.191500",
     "status": "completed"
    },
    "tags": []
   },
   "outputs": [],
   "source": [
    "#hide\n",
    "metrics = [df_table.columns[index] for index in [1,2,5,6]]\n",
    "# s_china = df_table[df_table['Country/Region'].eq('China')][metrics].sum().add_prefix('China ')\n",
    "s_us = df_table[df_table['Country/Region'].eq('US')][metrics].sum().add_prefix('US ')\n",
    "s_eu = df_table[df_table['Continent'].eq('Europe')][metrics].sum().add_prefix('EU ')\n",
    "s_ind = df_table[df_table['Country/Region'].eq('India')][metrics].sum().add_prefix('India ')\n",
    "summary = {'updated': pd.to_datetime(dt_today), 'since': pd.to_datetime(dt_yday)}\n",
    "summary = {'updated': pd.to_datetime(dt_today), 'since': pd.to_datetime(dt_yday)}\n",
    "summary = {**summary, **df_table[metrics].sum(), **s_ind, **s_us, **s_eu}"
   ]
  },
  {
   "cell_type": "code",
   "execution_count": 18,
   "id": "engaging-syndrome",
   "metadata": {
    "execution": {
     "iopub.execute_input": "2021-07-21T00:20:44.359659Z",
     "iopub.status.busy": "2021-07-21T00:20:44.358974Z",
     "iopub.status.idle": "2021-07-21T00:20:44.372289Z",
     "shell.execute_reply": "2021-07-21T00:20:44.371668Z"
    },
    "papermill": {
     "duration": 0.064961,
     "end_time": "2021-07-21T00:20:44.372457",
     "exception": false,
     "start_time": "2021-07-21T00:20:44.307496",
     "status": "completed"
    },
    "tags": []
   },
   "outputs": [],
   "source": [
    "#hide\n",
    "dft_ct_new_cases = dft_cases.groupby(COL_REGION)[dt_cols].sum().diff(axis=1).fillna(0).astype(int)"
   ]
  },
  {
   "cell_type": "code",
   "execution_count": 19,
   "id": "neutral-assignment",
   "metadata": {
    "execution": {
     "iopub.execute_input": "2021-07-21T00:20:44.473216Z",
     "iopub.status.busy": "2021-07-21T00:20:44.472475Z",
     "iopub.status.idle": "2021-07-21T00:20:44.474785Z",
     "shell.execute_reply": "2021-07-21T00:20:44.475856Z"
    },
    "papermill": {
     "duration": 0.057922,
     "end_time": "2021-07-21T00:20:44.476061",
     "exception": false,
     "start_time": "2021-07-21T00:20:44.418139",
     "status": "completed"
    },
    "tags": []
   },
   "outputs": [],
   "source": [
    "#hide\n",
    "everydaycases = dft_ct_new_cases.cumsum(axis=1)"
   ]
  },
  {
   "cell_type": "code",
   "execution_count": 20,
   "id": "parliamentary-calgary",
   "metadata": {
    "execution": {
     "iopub.execute_input": "2021-07-21T00:20:44.571020Z",
     "iopub.status.busy": "2021-07-21T00:20:44.570333Z",
     "iopub.status.idle": "2021-07-21T00:20:45.477094Z",
     "shell.execute_reply": "2021-07-21T00:20:45.476433Z"
    },
    "papermill": {
     "duration": 0.955013,
     "end_time": "2021-07-21T00:20:45.477254",
     "exception": false,
     "start_time": "2021-07-21T00:20:44.522241",
     "status": "completed"
    },
    "tags": []
   },
   "outputs": [],
   "source": [
    "#hide\n",
    "import pandas as pd\n",
    "import matplotlib.pyplot as plt\n",
    "import matplotlib.ticker as ticker\n",
    "import matplotlib.animation as animation\n",
    "from IPython.display import HTML"
   ]
  },
  {
   "cell_type": "code",
   "execution_count": 21,
   "id": "lasting-extraction",
   "metadata": {
    "execution": {
     "iopub.execute_input": "2021-07-21T00:20:45.568552Z",
     "iopub.status.busy": "2021-07-21T00:20:45.567865Z",
     "iopub.status.idle": "2021-07-21T00:20:45.573866Z",
     "shell.execute_reply": "2021-07-21T00:20:45.573138Z"
    },
    "papermill": {
     "duration": 0.054048,
     "end_time": "2021-07-21T00:20:45.574010",
     "exception": false,
     "start_time": "2021-07-21T00:20:45.519962",
     "status": "completed"
    },
    "tags": []
   },
   "outputs": [],
   "source": [
    "#hide\n",
    "t = everydaycases.stack()"
   ]
  },
  {
   "cell_type": "code",
   "execution_count": 22,
   "id": "premier-sleeve",
   "metadata": {
    "execution": {
     "iopub.execute_input": "2021-07-21T00:20:45.664217Z",
     "iopub.status.busy": "2021-07-21T00:20:45.663471Z",
     "iopub.status.idle": "2021-07-21T00:20:45.673095Z",
     "shell.execute_reply": "2021-07-21T00:20:45.672534Z"
    },
    "papermill": {
     "duration": 0.056249,
     "end_time": "2021-07-21T00:20:45.673247",
     "exception": false,
     "start_time": "2021-07-21T00:20:45.616998",
     "status": "completed"
    },
    "tags": []
   },
   "outputs": [],
   "source": [
    "#hide\n",
    "g = t.reset_index(['Country/Region'])"
   ]
  },
  {
   "cell_type": "code",
   "execution_count": 23,
   "id": "distributed-pittsburgh",
   "metadata": {
    "execution": {
     "iopub.execute_input": "2021-07-21T00:20:45.762963Z",
     "iopub.status.busy": "2021-07-21T00:20:45.762249Z",
     "iopub.status.idle": "2021-07-21T00:20:45.764872Z",
     "shell.execute_reply": "2021-07-21T00:20:45.764205Z"
    },
    "papermill": {
     "duration": 0.049017,
     "end_time": "2021-07-21T00:20:45.765009",
     "exception": false,
     "start_time": "2021-07-21T00:20:45.715992",
     "status": "completed"
    },
    "tags": []
   },
   "outputs": [],
   "source": [
    "#hide\n",
    "g.index.name = 'date'"
   ]
  },
  {
   "cell_type": "code",
   "execution_count": 24,
   "id": "naked-donor",
   "metadata": {
    "execution": {
     "iopub.execute_input": "2021-07-21T00:20:45.858140Z",
     "iopub.status.busy": "2021-07-21T00:20:45.856791Z",
     "iopub.status.idle": "2021-07-21T00:20:45.859417Z",
     "shell.execute_reply": "2021-07-21T00:20:45.860000Z"
    },
    "papermill": {
     "duration": 0.050776,
     "end_time": "2021-07-21T00:20:45.860150",
     "exception": false,
     "start_time": "2021-07-21T00:20:45.809374",
     "status": "completed"
    },
    "tags": []
   },
   "outputs": [],
   "source": [
    "# #hide\n",
    "# g = g.reset_index(['date'])"
   ]
  },
  {
   "cell_type": "code",
   "execution_count": 25,
   "id": "incomplete-mustang",
   "metadata": {
    "execution": {
     "iopub.execute_input": "2021-07-21T00:20:45.949955Z",
     "iopub.status.busy": "2021-07-21T00:20:45.949197Z",
     "iopub.status.idle": "2021-07-21T00:20:45.951246Z",
     "shell.execute_reply": "2021-07-21T00:20:45.951860Z"
    },
    "papermill": {
     "duration": 0.048439,
     "end_time": "2021-07-21T00:20:45.952002",
     "exception": false,
     "start_time": "2021-07-21T00:20:45.903563",
     "status": "completed"
    },
    "tags": []
   },
   "outputs": [],
   "source": [
    "#hide\n",
    "# g.head()"
   ]
  },
  {
   "cell_type": "code",
   "execution_count": 26,
   "id": "specific-kruger",
   "metadata": {
    "execution": {
     "iopub.execute_input": "2021-07-21T00:20:46.039991Z",
     "iopub.status.busy": "2021-07-21T00:20:46.039347Z",
     "iopub.status.idle": "2021-07-21T00:20:46.041398Z",
     "shell.execute_reply": "2021-07-21T00:20:46.042188Z"
    },
    "papermill": {
     "duration": 0.048981,
     "end_time": "2021-07-21T00:20:46.042343",
     "exception": false,
     "start_time": "2021-07-21T00:20:45.993362",
     "status": "completed"
    },
    "tags": []
   },
   "outputs": [],
   "source": [
    "#hide\n",
    "# g.columns = ['date','country','cases']"
   ]
  },
  {
   "cell_type": "code",
   "execution_count": 27,
   "id": "tender-conversion",
   "metadata": {
    "execution": {
     "iopub.execute_input": "2021-07-21T00:20:46.133889Z",
     "iopub.status.busy": "2021-07-21T00:20:46.133199Z",
     "iopub.status.idle": "2021-07-21T00:20:46.135159Z",
     "shell.execute_reply": "2021-07-21T00:20:46.135777Z"
    },
    "papermill": {
     "duration": 0.050539,
     "end_time": "2021-07-21T00:20:46.135918",
     "exception": false,
     "start_time": "2021-07-21T00:20:46.085379",
     "status": "completed"
    },
    "tags": []
   },
   "outputs": [],
   "source": [
    "#hide\n",
    "# g['continent'] = g.country"
   ]
  },
  {
   "cell_type": "code",
   "execution_count": 28,
   "id": "substantial-wilderness",
   "metadata": {
    "execution": {
     "iopub.execute_input": "2021-07-21T00:20:46.226700Z",
     "iopub.status.busy": "2021-07-21T00:20:46.226026Z",
     "iopub.status.idle": "2021-07-21T00:20:46.227990Z",
     "shell.execute_reply": "2021-07-21T00:20:46.228549Z"
    },
    "papermill": {
     "duration": 0.0505,
     "end_time": "2021-07-21T00:20:46.228711",
     "exception": false,
     "start_time": "2021-07-21T00:20:46.178211",
     "status": "completed"
    },
    "tags": []
   },
   "outputs": [],
   "source": [
    "#hide\n",
    "# cols = list(g.columns.values)"
   ]
  },
  {
   "cell_type": "code",
   "execution_count": 29,
   "id": "solved-farming",
   "metadata": {
    "execution": {
     "iopub.execute_input": "2021-07-21T00:20:46.322998Z",
     "iopub.status.busy": "2021-07-21T00:20:46.322275Z",
     "iopub.status.idle": "2021-07-21T00:20:46.324406Z",
     "shell.execute_reply": "2021-07-21T00:20:46.325086Z"
    },
    "papermill": {
     "duration": 0.05409,
     "end_time": "2021-07-21T00:20:46.325252",
     "exception": false,
     "start_time": "2021-07-21T00:20:46.271162",
     "status": "completed"
    },
    "tags": []
   },
   "outputs": [],
   "source": [
    "#hide\n",
    "# cols.insert(0, cols.pop())"
   ]
  },
  {
   "cell_type": "code",
   "execution_count": 30,
   "id": "executed-adoption",
   "metadata": {
    "execution": {
     "iopub.execute_input": "2021-07-21T00:20:46.419446Z",
     "iopub.status.busy": "2021-07-21T00:20:46.418713Z",
     "iopub.status.idle": "2021-07-21T00:20:46.421541Z",
     "shell.execute_reply": "2021-07-21T00:20:46.420671Z"
    },
    "papermill": {
     "duration": 0.054452,
     "end_time": "2021-07-21T00:20:46.421670",
     "exception": false,
     "start_time": "2021-07-21T00:20:46.367218",
     "status": "completed"
    },
    "tags": []
   },
   "outputs": [],
   "source": [
    "#hide\n",
    "# g = g[cols]"
   ]
  },
  {
   "cell_type": "code",
   "execution_count": 31,
   "id": "subject-dublin",
   "metadata": {
    "execution": {
     "iopub.execute_input": "2021-07-21T00:20:46.514072Z",
     "iopub.status.busy": "2021-07-21T00:20:46.513410Z",
     "iopub.status.idle": "2021-07-21T00:20:46.516248Z",
     "shell.execute_reply": "2021-07-21T00:20:46.515658Z"
    },
    "papermill": {
     "duration": 0.050363,
     "end_time": "2021-07-21T00:20:46.516381",
     "exception": false,
     "start_time": "2021-07-21T00:20:46.466018",
     "status": "completed"
    },
    "tags": []
   },
   "outputs": [],
   "source": [
    "#hide\n",
    "# g['continent'] = g['continent'].map(mapping['map.continent'])"
   ]
  },
  {
   "cell_type": "code",
   "execution_count": 32,
   "id": "freelance-scout",
   "metadata": {
    "execution": {
     "iopub.execute_input": "2021-07-21T00:20:46.610260Z",
     "iopub.status.busy": "2021-07-21T00:20:46.609581Z",
     "iopub.status.idle": "2021-07-21T00:20:46.611508Z",
     "shell.execute_reply": "2021-07-21T00:20:46.612090Z"
    },
    "papermill": {
     "duration": 0.053754,
     "end_time": "2021-07-21T00:20:46.612263",
     "exception": false,
     "start_time": "2021-07-21T00:20:46.558509",
     "status": "completed"
    },
    "tags": []
   },
   "outputs": [],
   "source": [
    "#hide\n",
    "# g.head()"
   ]
  },
  {
   "cell_type": "code",
   "execution_count": 33,
   "id": "limited-engine",
   "metadata": {
    "execution": {
     "iopub.execute_input": "2021-07-21T00:20:46.705134Z",
     "iopub.status.busy": "2021-07-21T00:20:46.704217Z",
     "iopub.status.idle": "2021-07-21T00:20:46.706057Z",
     "shell.execute_reply": "2021-07-21T00:20:46.706734Z"
    },
    "papermill": {
     "duration": 0.050085,
     "end_time": "2021-07-21T00:20:46.706923",
     "exception": false,
     "start_time": "2021-07-21T00:20:46.656838",
     "status": "completed"
    },
    "tags": []
   },
   "outputs": [],
   "source": [
    "# hide\n",
    "# g['date'] = g['date'].astype('datetime64[ns]')"
   ]
  },
  {
   "cell_type": "code",
   "execution_count": 34,
   "id": "sophisticated-supervisor",
   "metadata": {
    "execution": {
     "iopub.execute_input": "2021-07-21T00:20:46.799042Z",
     "iopub.status.busy": "2021-07-21T00:20:46.798279Z",
     "iopub.status.idle": "2021-07-21T00:20:46.800501Z",
     "shell.execute_reply": "2021-07-21T00:20:46.801112Z"
    },
    "papermill": {
     "duration": 0.049894,
     "end_time": "2021-07-21T00:20:46.801257",
     "exception": false,
     "start_time": "2021-07-21T00:20:46.751363",
     "status": "completed"
    },
    "tags": []
   },
   "outputs": [],
   "source": [
    "#hide\n",
    "# g['date'] = g.date.dt.dayofyear"
   ]
  },
  {
   "cell_type": "code",
   "execution_count": 35,
   "id": "inside-dubai",
   "metadata": {
    "execution": {
     "iopub.execute_input": "2021-07-21T00:20:46.897581Z",
     "iopub.status.busy": "2021-07-21T00:20:46.896897Z",
     "iopub.status.idle": "2021-07-21T00:20:46.898370Z",
     "shell.execute_reply": "2021-07-21T00:20:46.898908Z"
    },
    "papermill": {
     "duration": 0.053463,
     "end_time": "2021-07-21T00:20:46.899070",
     "exception": false,
     "start_time": "2021-07-21T00:20:46.845607",
     "status": "completed"
    },
    "tags": []
   },
   "outputs": [],
   "source": [
    "#hide\n",
    "# g = g.rename(columns= {'continent':'group','country':'name','cases':'value'})"
   ]
  },
  {
   "cell_type": "code",
   "execution_count": 36,
   "id": "fleet-motorcycle",
   "metadata": {
    "execution": {
     "iopub.execute_input": "2021-07-21T00:20:46.992221Z",
     "iopub.status.busy": "2021-07-21T00:20:46.991528Z",
     "iopub.status.idle": "2021-07-21T00:20:46.993439Z",
     "shell.execute_reply": "2021-07-21T00:20:46.993927Z"
    },
    "papermill": {
     "duration": 0.049157,
     "end_time": "2021-07-21T00:20:46.994064",
     "exception": false,
     "start_time": "2021-07-21T00:20:46.944907",
     "status": "completed"
    },
    "tags": []
   },
   "outputs": [],
   "source": [
    "#hide\n",
    "# cols = ['name','group','day','value']"
   ]
  },
  {
   "cell_type": "code",
   "execution_count": 37,
   "id": "continued-sleeping",
   "metadata": {
    "execution": {
     "iopub.execute_input": "2021-07-21T00:20:47.087822Z",
     "iopub.status.busy": "2021-07-21T00:20:47.087183Z",
     "iopub.status.idle": "2021-07-21T00:20:47.089820Z",
     "shell.execute_reply": "2021-07-21T00:20:47.090526Z"
    },
    "papermill": {
     "duration": 0.050449,
     "end_time": "2021-07-21T00:20:47.090702",
     "exception": false,
     "start_time": "2021-07-21T00:20:47.040253",
     "status": "completed"
    },
    "tags": []
   },
   "outputs": [],
   "source": [
    "#hide\n",
    "# g.rename(columns= {'date':'day'},inplace = True)"
   ]
  },
  {
   "cell_type": "code",
   "execution_count": 38,
   "id": "major-fight",
   "metadata": {
    "execution": {
     "iopub.execute_input": "2021-07-21T00:20:47.183609Z",
     "iopub.status.busy": "2021-07-21T00:20:47.181744Z",
     "iopub.status.idle": "2021-07-21T00:20:47.184386Z",
     "shell.execute_reply": "2021-07-21T00:20:47.184950Z"
    },
    "papermill": {
     "duration": 0.050063,
     "end_time": "2021-07-21T00:20:47.185141",
     "exception": false,
     "start_time": "2021-07-21T00:20:47.135078",
     "status": "completed"
    },
    "tags": []
   },
   "outputs": [],
   "source": [
    "#hide\n",
    "# g = g[cols]"
   ]
  },
  {
   "cell_type": "code",
   "execution_count": 39,
   "id": "structured-mobile",
   "metadata": {
    "execution": {
     "iopub.execute_input": "2021-07-21T00:20:47.279710Z",
     "iopub.status.busy": "2021-07-21T00:20:47.278995Z",
     "iopub.status.idle": "2021-07-21T00:20:47.281577Z",
     "shell.execute_reply": "2021-07-21T00:20:47.281046Z"
    },
    "papermill": {
     "duration": 0.052511,
     "end_time": "2021-07-21T00:20:47.281707",
     "exception": false,
     "start_time": "2021-07-21T00:20:47.229196",
     "status": "completed"
    },
    "tags": []
   },
   "outputs": [],
   "source": [
    "# #hide\n",
    "# g = g[g.group.notna()]"
   ]
  },
  {
   "cell_type": "code",
   "execution_count": 40,
   "id": "determined-closing",
   "metadata": {
    "execution": {
     "iopub.execute_input": "2021-07-21T00:20:47.383896Z",
     "iopub.status.busy": "2021-07-21T00:20:47.383180Z",
     "iopub.status.idle": "2021-07-21T00:20:47.385527Z",
     "shell.execute_reply": "2021-07-21T00:20:47.386086Z"
    },
    "papermill": {
     "duration": 0.054749,
     "end_time": "2021-07-21T00:20:47.386276",
     "exception": false,
     "start_time": "2021-07-21T00:20:47.331527",
     "status": "completed"
    },
    "tags": []
   },
   "outputs": [],
   "source": [
    "# #hide\n",
    "# colors = dict(zip(\n",
    "#     [\"Oceania\", \"Europe\", \"Asia\", \"South America\", \"Middle East\", \"North America\", \"Africa\"],\n",
    "#     [\"#adb0ff\", \"#ffb3ff\", \"#90d595\", \"#e48381\", \"#aafbff\", \"#f7bb5f\", \"#eafb50\"]\n",
    "# ))\n",
    "# group_lk = g.set_index('name')['group'].to_dict()"
   ]
  },
  {
   "cell_type": "code",
   "execution_count": null,
   "id": "gross-drinking",
   "metadata": {
    "papermill": {
     "duration": 0.045303,
     "end_time": "2021-07-21T00:20:47.474053",
     "exception": false,
     "start_time": "2021-07-21T00:20:47.428750",
     "status": "completed"
    },
    "tags": []
   },
   "outputs": [],
   "source": []
  },
  {
   "cell_type": "code",
   "execution_count": 41,
   "id": "subject-macintosh",
   "metadata": {
    "execution": {
     "iopub.execute_input": "2021-07-21T00:20:47.572174Z",
     "iopub.status.busy": "2021-07-21T00:20:47.571429Z",
     "iopub.status.idle": "2021-07-21T00:20:47.573557Z",
     "shell.execute_reply": "2021-07-21T00:20:47.574109Z"
    },
    "papermill": {
     "duration": 0.053956,
     "end_time": "2021-07-21T00:20:47.574277",
     "exception": false,
     "start_time": "2021-07-21T00:20:47.520321",
     "status": "completed"
    },
    "tags": []
   },
   "outputs": [],
   "source": [
    "# #hide\n",
    "# fig, ax = plt.subplots(figsize=(15, 8))\n",
    "\n",
    "# def draw_barchart(current_day):\n",
    "#     dff = g[g['day'].eq(current_day)].sort_values(by='value', ascending=True).tail(10)\n",
    "#     ax.clear()\n",
    "#     ax.barh(dff['name'], dff['value'], color=[colors[group_lk[x]] for x in dff['name']])\n",
    "#     dx = dff['value'].max() / 200\n",
    "    \n",
    "#     for i, (value, name) in enumerate(zip(dff['value'], dff['name'])):\n",
    "#         ax.text(value-dx, i,     name,           size=14, weight=600, ha='right', va='bottom')\n",
    "#         ax.text(value-dx, i-.25, group_lk[name], size=10, color='#444444', ha='right', va='baseline')\n",
    "#         ax.text(value+dx, i,     f'{value:,.0f}',  size=14, ha='left',  va='center')\n",
    "#     ax.text(1, 0.4, current_day, transform=ax.transAxes, color='#777777', size=46, ha='right', weight=800)\n",
    "#     ax.text(0, 1.06, 'Population (thousands)', transform=ax.transAxes, size=12, color='#777777')\n",
    "#     ax.xaxis.set_major_formatter(ticker.StrMethodFormatter('{x:,.0f}'))\n",
    "#     ax.xaxis.set_ticks_position('top')\n",
    "#     ax.tick_params(axis='x', colors='#777777', labelsize=12)\n",
    "#     ax.set_yticks([])\n",
    "#     ax.margins(0, 0.01)\n",
    "#     ax.grid(which='major', axis='x', linestyle='-')\n",
    "#     ax.set_axisbelow(True)\n",
    "    \n",
    "#     ax.text(0, 1.15, 'Coronavirus',\n",
    "#             transform=ax.transAxes, size=24, weight=600, ha='left', va='top')\n",
    "# #     ax.text(1, 0, 'by @pratapvardhan; credit @jburnmurdoch', transform=ax.transAxes, color='#777777', ha='right',\n",
    "# #             bbox=dict(facecolor='white', alpha=0.8, edgecolor='white'))\n",
    "#     plt.box(False)"
   ]
  },
  {
   "cell_type": "code",
   "execution_count": 42,
   "id": "sexual-wages",
   "metadata": {
    "execution": {
     "iopub.execute_input": "2021-07-21T00:20:47.667162Z",
     "iopub.status.busy": "2021-07-21T00:20:47.666480Z",
     "iopub.status.idle": "2021-07-21T00:20:47.668521Z",
     "shell.execute_reply": "2021-07-21T00:20:47.669200Z"
    },
    "papermill": {
     "duration": 0.04947,
     "end_time": "2021-07-21T00:20:47.669401",
     "exception": false,
     "start_time": "2021-07-21T00:20:47.619931",
     "status": "completed"
    },
    "tags": []
   },
   "outputs": [],
   "source": [
    "# #hide_input\n",
    "# fig, ax = plt.subplots(figsize=(15, 8))\n",
    "# animator = animation.FuncAnimation(fig, draw_barchart, frames=range(g.day.values.min(), g.day.values.max()))\n",
    "# HTML(animator.to_jshtml())\n",
    "# # or use animator.to_html5_video() or animator.save() "
   ]
  },
  {
   "cell_type": "code",
   "execution_count": null,
   "id": "australian-container",
   "metadata": {
    "papermill": {
     "duration": 0.041645,
     "end_time": "2021-07-21T00:20:47.761827",
     "exception": false,
     "start_time": "2021-07-21T00:20:47.720182",
     "status": "completed"
    },
    "tags": []
   },
   "outputs": [],
   "source": []
  },
  {
   "cell_type": "code",
   "execution_count": null,
   "id": "mediterranean-pontiac",
   "metadata": {
    "papermill": {
     "duration": 0.042367,
     "end_time": "2021-07-21T00:20:47.846944",
     "exception": false,
     "start_time": "2021-07-21T00:20:47.804577",
     "status": "completed"
    },
    "tags": []
   },
   "outputs": [],
   "source": []
  },
  {
   "cell_type": "code",
   "execution_count": null,
   "id": "aging-legislature",
   "metadata": {
    "papermill": {
     "duration": 0.044486,
     "end_time": "2021-07-21T00:20:47.936329",
     "exception": false,
     "start_time": "2021-07-21T00:20:47.891843",
     "status": "completed"
    },
    "tags": []
   },
   "outputs": [],
   "source": []
  }
 ],
 "metadata": {
  "kernelspec": {
   "display_name": "Python 3",
   "language": "python",
   "name": "python3"
  },
  "language_info": {
   "codemirror_mode": {
    "name": "ipython",
    "version": 3
   },
   "file_extension": ".py",
   "mimetype": "text/x-python",
   "name": "python",
   "nbconvert_exporter": "python",
   "pygments_lexer": "ipython3",
   "version": "3.6.14"
  },
  "papermill": {
   "duration": 8.315114,
   "end_time": "2021-07-21T00:20:48.392864",
   "environment_variables": {},
   "exception": null,
   "input_path": "2020-03-21-covid19exp.ipynb",
   "output_path": "2020-03-21-covid19exp.ipynb",
   "parameters": {},
   "start_time": "2021-07-21T00:20:40.077750",
   "version": "2.0.0"
  }
 },
 "nbformat": 4,
 "nbformat_minor": 5
}