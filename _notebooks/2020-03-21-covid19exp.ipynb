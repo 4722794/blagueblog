{
 "cells": [
  {
   "cell_type": "markdown",
   "metadata": {
    "papermill": {
     "duration": 0.036647,
     "end_time": "2020-12-01T12:06:49.156625",
     "exception": false,
     "start_time": "2020-12-01T12:06:49.119978",
     "status": "completed"
    },
    "tags": []
   },
   "source": [
    "# COVID-19 Case Race\n",
    "> A race chart to see rising cases around the world\n",
    "\n",
    "- author: Hargun Oberoi\n",
    "- image: images/covid-overview.png\n",
    "- hide: false\n",
    "- badges: false"
   ]
  },
  {
   "cell_type": "code",
   "execution_count": 1,
   "metadata": {
    "execution": {
     "iopub.execute_input": "2020-12-01T12:06:49.222938Z",
     "iopub.status.busy": "2020-12-01T12:06:49.221915Z",
     "iopub.status.idle": "2020-12-01T12:06:49.583616Z",
     "shell.execute_reply": "2020-12-01T12:06:49.582981Z"
    },
    "papermill": {
     "duration": 0.396665,
     "end_time": "2020-12-01T12:06:49.583790",
     "exception": false,
     "start_time": "2020-12-01T12:06:49.187125",
     "status": "completed"
    },
    "tags": []
   },
   "outputs": [],
   "source": [
    "#hide\n",
    "import numpy as np\n",
    "import pandas as pd\n",
    "from jinja2 import Template\n",
    "from IPython.display import HTML"
   ]
  },
  {
   "cell_type": "code",
   "execution_count": 2,
   "metadata": {
    "execution": {
     "iopub.execute_input": "2020-12-01T12:06:49.651329Z",
     "iopub.status.busy": "2020-12-01T12:06:49.650682Z",
     "iopub.status.idle": "2020-12-01T12:06:49.653166Z",
     "shell.execute_reply": "2020-12-01T12:06:49.653751Z"
    },
    "papermill": {
     "duration": 0.038953,
     "end_time": "2020-12-01T12:06:49.653910",
     "exception": false,
     "start_time": "2020-12-01T12:06:49.614957",
     "status": "completed"
    },
    "tags": []
   },
   "outputs": [],
   "source": [
    "#hide\n",
    "\n",
    "# FETCH\n",
    "base_url = 'https://raw.githubusercontent.com/pratapvardhan/notebooks/master/covid19/'\n",
    "paths = {\n",
    "    'mapping': base_url + 'mapping_countries.csv',\n",
    "    'overview': base_url + 'overview.tpl'\n",
    "}"
   ]
  },
  {
   "cell_type": "code",
   "execution_count": 3,
   "metadata": {
    "execution": {
     "iopub.execute_input": "2020-12-01T12:06:49.728876Z",
     "iopub.status.busy": "2020-12-01T12:06:49.728230Z",
     "iopub.status.idle": "2020-12-01T12:06:49.730678Z",
     "shell.execute_reply": "2020-12-01T12:06:49.731251Z"
    },
    "papermill": {
     "duration": 0.047558,
     "end_time": "2020-12-01T12:06:49.731413",
     "exception": false,
     "start_time": "2020-12-01T12:06:49.683855",
     "status": "completed"
    },
    "tags": []
   },
   "outputs": [
    {
     "data": {
      "text/plain": [
       "'https://raw.githubusercontent.com/pratapvardhan/notebooks/master/covid19/mapping_countries.csv'"
      ]
     },
     "execution_count": 3,
     "metadata": {},
     "output_type": "execute_result"
    }
   ],
   "source": [
    "#hide\n",
    "paths['mapping']"
   ]
  },
  {
   "cell_type": "code",
   "execution_count": 4,
   "metadata": {
    "execution": {
     "iopub.execute_input": "2020-12-01T12:06:49.798269Z",
     "iopub.status.busy": "2020-12-01T12:06:49.797583Z",
     "iopub.status.idle": "2020-12-01T12:06:49.800172Z",
     "shell.execute_reply": "2020-12-01T12:06:49.800751Z"
    },
    "papermill": {
     "duration": 0.03923,
     "end_time": "2020-12-01T12:06:49.800911",
     "exception": false,
     "start_time": "2020-12-01T12:06:49.761681",
     "status": "completed"
    },
    "tags": []
   },
   "outputs": [],
   "source": [
    "#hide\n",
    "def get_mappings(url):\n",
    "    df = pd.read_csv(url)\n",
    "    return {\n",
    "        'df': df,\n",
    "        'replace.country': dict(df.dropna(subset=['Name']).set_index('Country')['Name']),\n",
    "        'map.continent': dict(df.set_index('Name')['Continent'])\n",
    "    }"
   ]
  },
  {
   "cell_type": "code",
   "execution_count": 5,
   "metadata": {
    "execution": {
     "iopub.execute_input": "2020-12-01T12:06:49.868756Z",
     "iopub.status.busy": "2020-12-01T12:06:49.868128Z",
     "iopub.status.idle": "2020-12-01T12:06:49.915683Z",
     "shell.execute_reply": "2020-12-01T12:06:49.914777Z"
    },
    "papermill": {
     "duration": 0.08496,
     "end_time": "2020-12-01T12:06:49.915920",
     "exception": false,
     "start_time": "2020-12-01T12:06:49.830960",
     "status": "completed"
    },
    "tags": []
   },
   "outputs": [],
   "source": [
    "#hide\n",
    "mapping = get_mappings(paths['mapping'])"
   ]
  },
  {
   "cell_type": "code",
   "execution_count": 6,
   "metadata": {
    "execution": {
     "iopub.execute_input": "2020-12-01T12:06:49.983389Z",
     "iopub.status.busy": "2020-12-01T12:06:49.982742Z",
     "iopub.status.idle": "2020-12-01T12:06:49.985240Z",
     "shell.execute_reply": "2020-12-01T12:06:49.985821Z"
    },
    "papermill": {
     "duration": 0.038972,
     "end_time": "2020-12-01T12:06:49.985982",
     "exception": false,
     "start_time": "2020-12-01T12:06:49.947010",
     "status": "completed"
    },
    "tags": []
   },
   "outputs": [],
   "source": [
    "#hide\n",
    "def get_template(path):\n",
    "    from urllib.parse import urlparse\n",
    "    if bool(urlparse(path).netloc):\n",
    "        from urllib.request import urlopen\n",
    "        return urlopen(path).read().decode('utf8')\n",
    "    return open(path).read()"
   ]
  },
  {
   "cell_type": "code",
   "execution_count": 7,
   "metadata": {
    "execution": {
     "iopub.execute_input": "2020-12-01T12:06:50.053049Z",
     "iopub.status.busy": "2020-12-01T12:06:50.052391Z",
     "iopub.status.idle": "2020-12-01T12:06:50.054314Z",
     "shell.execute_reply": "2020-12-01T12:06:50.054792Z"
    },
    "papermill": {
     "duration": 0.038821,
     "end_time": "2020-12-01T12:06:50.054969",
     "exception": false,
     "start_time": "2020-12-01T12:06:50.016148",
     "status": "completed"
    },
    "tags": []
   },
   "outputs": [],
   "source": [
    "#hide\n",
    "def get_frame(name):\n",
    "    url = (\n",
    "        'https://raw.githubusercontent.com/CSSEGISandData/COVID-19/master/csse_covid_19_data/'\n",
    "        f'csse_covid_19_time_series/time_series_covid19_{name}_global.csv')\n",
    "    df = pd.read_csv(url)\n",
    "    # rename countries\n",
    "    df['Country/Region'] = df['Country/Region'].replace(mapping['replace.country'])\n",
    "    return df"
   ]
  },
  {
   "cell_type": "code",
   "execution_count": 8,
   "metadata": {
    "execution": {
     "iopub.execute_input": "2020-12-01T12:06:50.122411Z",
     "iopub.status.busy": "2020-12-01T12:06:50.121720Z",
     "iopub.status.idle": "2020-12-01T12:06:50.123676Z",
     "shell.execute_reply": "2020-12-01T12:06:50.124142Z"
    },
    "papermill": {
     "duration": 0.03892,
     "end_time": "2020-12-01T12:06:50.124310",
     "exception": false,
     "start_time": "2020-12-01T12:06:50.085390",
     "status": "completed"
    },
    "tags": []
   },
   "outputs": [],
   "source": [
    "#hide\n",
    "def get_dates(df):\n",
    "    dt_cols = df.columns[~df.columns.isin(['Province/State', 'Country/Region', 'Lat', 'Long'])]\n",
    "    LAST_DATE_I = -1\n",
    "    # sometimes last column may be empty, then go backwards\n",
    "    for i in range(-1, -len(dt_cols), -1):\n",
    "        if not df[dt_cols[i]].fillna(0).eq(0).all():\n",
    "            LAST_DATE_I = i\n",
    "            break\n",
    "    return LAST_DATE_I, dt_cols"
   ]
  },
  {
   "cell_type": "code",
   "execution_count": 9,
   "metadata": {
    "execution": {
     "iopub.execute_input": "2020-12-01T12:06:50.191287Z",
     "iopub.status.busy": "2020-12-01T12:06:50.190607Z",
     "iopub.status.idle": "2020-12-01T12:06:50.481061Z",
     "shell.execute_reply": "2020-12-01T12:06:50.480489Z"
    },
    "papermill": {
     "duration": 0.326776,
     "end_time": "2020-12-01T12:06:50.481206",
     "exception": false,
     "start_time": "2020-12-01T12:06:50.154430",
     "status": "completed"
    },
    "tags": []
   },
   "outputs": [],
   "source": [
    "#hide\n",
    "COL_REGION = 'Country/Region'\n",
    "# Confirmed, Recovered, Deaths\n",
    "df = get_frame('confirmed')\n",
    "# dft_: timeseries, dfc_: today country agg\n",
    "dft_cases = df\n",
    "dft_deaths = get_frame('deaths')\n",
    "dft_recovered = get_frame('recovered')\n",
    "LAST_DATE_I, dt_cols = get_dates(df)"
   ]
  },
  {
   "cell_type": "code",
   "execution_count": 10,
   "metadata": {
    "execution": {
     "iopub.execute_input": "2020-12-01T12:06:50.547917Z",
     "iopub.status.busy": "2020-12-01T12:06:50.547280Z",
     "iopub.status.idle": "2020-12-01T12:06:50.551176Z",
     "shell.execute_reply": "2020-12-01T12:06:50.550684Z"
    },
    "papermill": {
     "duration": 0.039833,
     "end_time": "2020-12-01T12:06:50.551326",
     "exception": false,
     "start_time": "2020-12-01T12:06:50.511493",
     "status": "completed"
    },
    "tags": []
   },
   "outputs": [],
   "source": [
    "#hide\n",
    "LAST_DATE_I, dt_cols = get_dates(df)\n",
    "dt_today =dt_cols[LAST_DATE_I]\n",
    "# dt_5day = dt_cols[LAST_DATE_I - 5]\n",
    "dt_yday = dt_cols[LAST_DATE_I - 1]"
   ]
  },
  {
   "cell_type": "code",
   "execution_count": 11,
   "metadata": {
    "execution": {
     "iopub.execute_input": "2020-12-01T12:06:50.624355Z",
     "iopub.status.busy": "2020-12-01T12:06:50.620470Z",
     "iopub.status.idle": "2020-12-01T12:06:50.627222Z",
     "shell.execute_reply": "2020-12-01T12:06:50.626717Z"
    },
    "papermill": {
     "duration": 0.046053,
     "end_time": "2020-12-01T12:06:50.627367",
     "exception": false,
     "start_time": "2020-12-01T12:06:50.581314",
     "status": "completed"
    },
    "tags": []
   },
   "outputs": [],
   "source": [
    "#hide\n",
    "dfc_cases = dft_cases.groupby(COL_REGION)[dt_today].sum()\n",
    "dfc_deaths = dft_deaths.groupby(COL_REGION)[dt_today].sum()\n",
    "# dfp_cases = dft_cases.groupby(COL_REGION)[dt_5day].sum()\n",
    "# dfp_deaths = dft_deaths.groupby(COL_REGION)[dt_5day].sum()\n",
    "dfp_cases = dft_cases.groupby(COL_REGION)[dt_yday].sum()\n",
    "dfp_deaths = dft_deaths.groupby(COL_REGION)[dt_yday].sum()"
   ]
  },
  {
   "cell_type": "code",
   "execution_count": 12,
   "metadata": {
    "execution": {
     "iopub.execute_input": "2020-12-01T12:06:50.691219Z",
     "iopub.status.busy": "2020-12-01T12:06:50.690601Z",
     "iopub.status.idle": "2020-12-01T12:06:50.702621Z",
     "shell.execute_reply": "2020-12-01T12:06:50.702081Z"
    },
    "papermill": {
     "duration": 0.045279,
     "end_time": "2020-12-01T12:06:50.702765",
     "exception": false,
     "start_time": "2020-12-01T12:06:50.657486",
     "status": "completed"
    },
    "tags": []
   },
   "outputs": [],
   "source": [
    "#hide\n",
    "df_table = (pd.DataFrame(dict(Cases = dfc_cases, Deaths = dfc_deaths, PCases = dfp_cases, PDeaths = dfp_deaths))\n",
    "            .sort_values(by = ['Cases','Deaths'], ascending = [False, False])\n",
    "            .reset_index())"
   ]
  },
  {
   "cell_type": "code",
   "execution_count": 13,
   "metadata": {
    "execution": {
     "iopub.execute_input": "2020-12-01T12:06:50.783125Z",
     "iopub.status.busy": "2020-12-01T12:06:50.777115Z",
     "iopub.status.idle": "2020-12-01T12:06:50.791184Z",
     "shell.execute_reply": "2020-12-01T12:06:50.790659Z"
    },
    "papermill": {
     "duration": 0.058538,
     "end_time": "2020-12-01T12:06:50.791324",
     "exception": false,
     "start_time": "2020-12-01T12:06:50.732786",
     "status": "completed"
    },
    "tags": []
   },
   "outputs": [
    {
     "data": {
      "text/html": [
       "<div>\n",
       "<style scoped>\n",
       "    .dataframe tbody tr th:only-of-type {\n",
       "        vertical-align: middle;\n",
       "    }\n",
       "\n",
       "    .dataframe tbody tr th {\n",
       "        vertical-align: top;\n",
       "    }\n",
       "\n",
       "    .dataframe thead th {\n",
       "        text-align: right;\n",
       "    }\n",
       "</style>\n",
       "<table border=\"1\" class=\"dataframe\">\n",
       "  <thead>\n",
       "    <tr style=\"text-align: right;\">\n",
       "      <th></th>\n",
       "      <th>Country/Region</th>\n",
       "      <th>Cases</th>\n",
       "      <th>Deaths</th>\n",
       "      <th>PCases</th>\n",
       "      <th>PDeaths</th>\n",
       "      <th>Cases (+)</th>\n",
       "      <th>Deaths (+)</th>\n",
       "      <th>Fatality Rate</th>\n",
       "      <th>Continent</th>\n",
       "    </tr>\n",
       "  </thead>\n",
       "  <tbody>\n",
       "    <tr>\n",
       "      <th>0</th>\n",
       "      <td>US</td>\n",
       "      <td>13541221</td>\n",
       "      <td>268045</td>\n",
       "      <td>13383320</td>\n",
       "      <td>266873</td>\n",
       "      <td>157901</td>\n",
       "      <td>1172</td>\n",
       "      <td>1.98</td>\n",
       "      <td>North America</td>\n",
       "    </tr>\n",
       "    <tr>\n",
       "      <th>1</th>\n",
       "      <td>India</td>\n",
       "      <td>9462809</td>\n",
       "      <td>137621</td>\n",
       "      <td>9431691</td>\n",
       "      <td>137139</td>\n",
       "      <td>31118</td>\n",
       "      <td>482</td>\n",
       "      <td>1.45</td>\n",
       "      <td>Asia</td>\n",
       "    </tr>\n",
       "    <tr>\n",
       "      <th>2</th>\n",
       "      <td>Brazil</td>\n",
       "      <td>6335878</td>\n",
       "      <td>173120</td>\n",
       "      <td>6314740</td>\n",
       "      <td>172833</td>\n",
       "      <td>21138</td>\n",
       "      <td>287</td>\n",
       "      <td>2.73</td>\n",
       "      <td>South America</td>\n",
       "    </tr>\n",
       "    <tr>\n",
       "      <th>3</th>\n",
       "      <td>Russia</td>\n",
       "      <td>2275936</td>\n",
       "      <td>39491</td>\n",
       "      <td>2249890</td>\n",
       "      <td>39127</td>\n",
       "      <td>26046</td>\n",
       "      <td>364</td>\n",
       "      <td>1.74</td>\n",
       "      <td>Europe</td>\n",
       "    </tr>\n",
       "    <tr>\n",
       "      <th>4</th>\n",
       "      <td>France</td>\n",
       "      <td>2275016</td>\n",
       "      <td>52819</td>\n",
       "      <td>2270573</td>\n",
       "      <td>52410</td>\n",
       "      <td>4443</td>\n",
       "      <td>409</td>\n",
       "      <td>2.32</td>\n",
       "      <td>Europe</td>\n",
       "    </tr>\n",
       "  </tbody>\n",
       "</table>\n",
       "</div>"
      ],
      "text/plain": [
       "  Country/Region     Cases  Deaths    PCases  PDeaths  Cases (+)  Deaths (+)  \\\n",
       "0             US  13541221  268045  13383320   266873     157901        1172   \n",
       "1          India   9462809  137621   9431691   137139      31118         482   \n",
       "2         Brazil   6335878  173120   6314740   172833      21138         287   \n",
       "3         Russia   2275936   39491   2249890    39127      26046         364   \n",
       "4         France   2275016   52819   2270573    52410       4443         409   \n",
       "\n",
       "   Fatality Rate      Continent  \n",
       "0           1.98  North America  \n",
       "1           1.45           Asia  \n",
       "2           2.73  South America  \n",
       "3           1.74         Europe  \n",
       "4           2.32         Europe  "
      ]
     },
     "execution_count": 13,
     "metadata": {},
     "output_type": "execute_result"
    }
   ],
   "source": [
    "#hide\n",
    "for c in 'Cases, Deaths'.split(', '):\n",
    "    df_table[f'{c} (+)'] = (df_table[c] - df_table[f'P{c}']).clip(0)\n",
    "    #Clip ça veut dire, les chiffres negatif sont interdit\n",
    "df_table['Fatality Rate'] = (100* df_table['Deaths']/ df_table['Cases']).round(2)\n",
    "df_table['Continent'] = df_table['Country/Region'].map(mapping['map.continent'])\n",
    "df_table.head(5)"
   ]
  },
  {
   "cell_type": "code",
   "execution_count": 14,
   "metadata": {
    "execution": {
     "iopub.execute_input": "2020-12-01T12:06:50.859208Z",
     "iopub.status.busy": "2020-12-01T12:06:50.858571Z",
     "iopub.status.idle": "2020-12-01T12:06:50.860947Z",
     "shell.execute_reply": "2020-12-01T12:06:50.861466Z"
    },
    "papermill": {
     "duration": 0.039611,
     "end_time": "2020-12-01T12:06:50.861627",
     "exception": false,
     "start_time": "2020-12-01T12:06:50.822016",
     "status": "completed"
    },
    "tags": []
   },
   "outputs": [],
   "source": [
    "#hide\n",
    "#delete problematic countries from table\n",
    "df_table = df_table[~df_table['Country/Region'].isin(['Cape Verde', 'Cruise Ship', 'Kosovo'])]"
   ]
  },
  {
   "cell_type": "code",
   "execution_count": 15,
   "metadata": {
    "execution": {
     "iopub.execute_input": "2020-12-01T12:06:50.933506Z",
     "iopub.status.busy": "2020-12-01T12:06:50.932858Z",
     "iopub.status.idle": "2020-12-01T12:06:50.954326Z",
     "shell.execute_reply": "2020-12-01T12:06:50.954867Z"
    },
    "papermill": {
     "duration": 0.062748,
     "end_time": "2020-12-01T12:06:50.955036",
     "exception": false,
     "start_time": "2020-12-01T12:06:50.892288",
     "status": "completed"
    },
    "tags": []
   },
   "outputs": [
    {
     "data": {
      "text/html": [
       "<div>\n",
       "<style scoped>\n",
       "    .dataframe tbody tr th:only-of-type {\n",
       "        vertical-align: middle;\n",
       "    }\n",
       "\n",
       "    .dataframe tbody tr th {\n",
       "        vertical-align: top;\n",
       "    }\n",
       "\n",
       "    .dataframe thead th {\n",
       "        text-align: right;\n",
       "    }\n",
       "</style>\n",
       "<table border=\"1\" class=\"dataframe\">\n",
       "  <thead>\n",
       "    <tr style=\"text-align: right;\">\n",
       "      <th></th>\n",
       "      <th>Country/Region</th>\n",
       "      <th>Cases</th>\n",
       "      <th>Deaths</th>\n",
       "      <th>PCases</th>\n",
       "      <th>PDeaths</th>\n",
       "      <th>Cases (+)</th>\n",
       "      <th>Deaths (+)</th>\n",
       "      <th>Fatality Rate</th>\n",
       "      <th>Continent</th>\n",
       "    </tr>\n",
       "  </thead>\n",
       "  <tbody>\n",
       "    <tr>\n",
       "      <th>0</th>\n",
       "      <td>US</td>\n",
       "      <td>13541221</td>\n",
       "      <td>268045</td>\n",
       "      <td>13383320</td>\n",
       "      <td>266873</td>\n",
       "      <td>157901</td>\n",
       "      <td>1172</td>\n",
       "      <td>2.0</td>\n",
       "      <td>North America</td>\n",
       "    </tr>\n",
       "    <tr>\n",
       "      <th>1</th>\n",
       "      <td>India</td>\n",
       "      <td>9462809</td>\n",
       "      <td>137621</td>\n",
       "      <td>9431691</td>\n",
       "      <td>137139</td>\n",
       "      <td>31118</td>\n",
       "      <td>482</td>\n",
       "      <td>1.5</td>\n",
       "      <td>Asia</td>\n",
       "    </tr>\n",
       "    <tr>\n",
       "      <th>2</th>\n",
       "      <td>Brazil</td>\n",
       "      <td>6335878</td>\n",
       "      <td>173120</td>\n",
       "      <td>6314740</td>\n",
       "      <td>172833</td>\n",
       "      <td>21138</td>\n",
       "      <td>287</td>\n",
       "      <td>2.7</td>\n",
       "      <td>South America</td>\n",
       "    </tr>\n",
       "    <tr>\n",
       "      <th>3</th>\n",
       "      <td>Russia</td>\n",
       "      <td>2275936</td>\n",
       "      <td>39491</td>\n",
       "      <td>2249890</td>\n",
       "      <td>39127</td>\n",
       "      <td>26046</td>\n",
       "      <td>364</td>\n",
       "      <td>1.7</td>\n",
       "      <td>Europe</td>\n",
       "    </tr>\n",
       "    <tr>\n",
       "      <th>4</th>\n",
       "      <td>France</td>\n",
       "      <td>2275016</td>\n",
       "      <td>52819</td>\n",
       "      <td>2270573</td>\n",
       "      <td>52410</td>\n",
       "      <td>4443</td>\n",
       "      <td>409</td>\n",
       "      <td>2.3</td>\n",
       "      <td>Europe</td>\n",
       "    </tr>\n",
       "  </tbody>\n",
       "</table>\n",
       "</div>"
      ],
      "text/plain": [
       "  Country/Region     Cases  Deaths    PCases  PDeaths  Cases (+)  Deaths (+)  \\\n",
       "0             US  13541221  268045  13383320   266873     157901        1172   \n",
       "1          India   9462809  137621   9431691   137139      31118         482   \n",
       "2         Brazil   6335878  173120   6314740   172833      21138         287   \n",
       "3         Russia   2275936   39491   2249890    39127      26046         364   \n",
       "4         France   2275016   52819   2270573    52410       4443         409   \n",
       "\n",
       "   Fatality Rate      Continent  \n",
       "0            2.0  North America  \n",
       "1            1.5           Asia  \n",
       "2            2.7  South America  \n",
       "3            1.7         Europe  \n",
       "4            2.3         Europe  "
      ]
     },
     "execution_count": 15,
     "metadata": {},
     "output_type": "execute_result"
    }
   ],
   "source": [
    "#hide\n",
    "df_table = (pd.DataFrame(dict(Cases=dfc_cases, Deaths=dfc_deaths, PCases=dfp_cases, PDeaths=dfp_deaths))\n",
    "             .sort_values(by=['Cases', 'Deaths'], ascending=[False, False])\n",
    "             .reset_index())\n",
    "df_table.rename(columns={'index': 'Country/Region'}, inplace=True)\n",
    "for c in 'Cases, Deaths'.split(', '):\n",
    "    df_table[f'{c} (+)'] = (df_table[c] - df_table[f'P{c}']).clip(0)  # DATA BUG\n",
    "df_table['Fatality Rate'] = (100 * df_table['Deaths'] / df_table['Cases']).round(1)\n",
    "df_table['Continent'] = df_table['Country/Region'].map(mapping['map.continent'])\n",
    "df_table.head(5)"
   ]
  },
  {
   "cell_type": "code",
   "execution_count": 16,
   "metadata": {
    "execution": {
     "iopub.execute_input": "2020-12-01T12:06:51.024590Z",
     "iopub.status.busy": "2020-12-01T12:06:51.023536Z",
     "iopub.status.idle": "2020-12-01T12:06:51.027784Z",
     "shell.execute_reply": "2020-12-01T12:06:51.027273Z"
    },
    "papermill": {
     "duration": 0.0417,
     "end_time": "2020-12-01T12:06:51.027919",
     "exception": false,
     "start_time": "2020-12-01T12:06:50.986219",
     "status": "completed"
    },
    "tags": []
   },
   "outputs": [],
   "source": [
    "#hide\n",
    "#delete problematic countries from table\n",
    "df_table = df_table[~df_table['Country/Region'].isin(['Cape Verde', 'Cruise Ship', 'Kosovo'])]"
   ]
  },
  {
   "cell_type": "code",
   "execution_count": 17,
   "metadata": {
    "execution": {
     "iopub.execute_input": "2020-12-01T12:06:51.099027Z",
     "iopub.status.busy": "2020-12-01T12:06:51.098383Z",
     "iopub.status.idle": "2020-12-01T12:06:51.115207Z",
     "shell.execute_reply": "2020-12-01T12:06:51.114649Z"
    },
    "papermill": {
     "duration": 0.056476,
     "end_time": "2020-12-01T12:06:51.115352",
     "exception": false,
     "start_time": "2020-12-01T12:06:51.058876",
     "status": "completed"
    },
    "tags": []
   },
   "outputs": [],
   "source": [
    "#hide\n",
    "metrics = [df_table.columns[index] for index in [1,2,5,6]]\n",
    "# s_china = df_table[df_table['Country/Region'].eq('China')][metrics].sum().add_prefix('China ')\n",
    "s_us = df_table[df_table['Country/Region'].eq('US')][metrics].sum().add_prefix('US ')\n",
    "s_eu = df_table[df_table['Continent'].eq('Europe')][metrics].sum().add_prefix('EU ')\n",
    "s_ind = df_table[df_table['Country/Region'].eq('India')][metrics].sum().add_prefix('India ')\n",
    "summary = {'updated': pd.to_datetime(dt_today), 'since': pd.to_datetime(dt_yday)}\n",
    "summary = {'updated': pd.to_datetime(dt_today), 'since': pd.to_datetime(dt_yday)}\n",
    "summary = {**summary, **df_table[metrics].sum(), **s_ind, **s_us, **s_eu}"
   ]
  },
  {
   "cell_type": "code",
   "execution_count": 18,
   "metadata": {
    "execution": {
     "iopub.execute_input": "2020-12-01T12:06:51.185878Z",
     "iopub.status.busy": "2020-12-01T12:06:51.185255Z",
     "iopub.status.idle": "2020-12-01T12:06:51.195550Z",
     "shell.execute_reply": "2020-12-01T12:06:51.195031Z"
    },
    "papermill": {
     "duration": 0.04918,
     "end_time": "2020-12-01T12:06:51.195700",
     "exception": false,
     "start_time": "2020-12-01T12:06:51.146520",
     "status": "completed"
    },
    "tags": []
   },
   "outputs": [],
   "source": [
    "#hide\n",
    "dft_ct_new_cases = dft_cases.groupby(COL_REGION)[dt_cols].sum().diff(axis=1).fillna(0).astype(int)"
   ]
  },
  {
   "cell_type": "code",
   "execution_count": 19,
   "metadata": {
    "execution": {
     "iopub.execute_input": "2020-12-01T12:06:51.266336Z",
     "iopub.status.busy": "2020-12-01T12:06:51.265666Z",
     "iopub.status.idle": "2020-12-01T12:06:51.268124Z",
     "shell.execute_reply": "2020-12-01T12:06:51.267639Z"
    },
    "papermill": {
     "duration": 0.04129,
     "end_time": "2020-12-01T12:06:51.268263",
     "exception": false,
     "start_time": "2020-12-01T12:06:51.226973",
     "status": "completed"
    },
    "tags": []
   },
   "outputs": [],
   "source": [
    "#hide\n",
    "everydaycases = dft_ct_new_cases.cumsum(axis=1)"
   ]
  },
  {
   "cell_type": "code",
   "execution_count": 20,
   "metadata": {
    "execution": {
     "iopub.execute_input": "2020-12-01T12:06:51.342093Z",
     "iopub.status.busy": "2020-12-01T12:06:51.341470Z",
     "iopub.status.idle": "2020-12-01T12:06:52.454012Z",
     "shell.execute_reply": "2020-12-01T12:06:52.453221Z"
    },
    "papermill": {
     "duration": 1.150437,
     "end_time": "2020-12-01T12:06:52.454258",
     "exception": false,
     "start_time": "2020-12-01T12:06:51.303821",
     "status": "completed"
    },
    "tags": []
   },
   "outputs": [],
   "source": [
    "#hide\n",
    "import pandas as pd\n",
    "import matplotlib.pyplot as plt\n",
    "import matplotlib.ticker as ticker\n",
    "import matplotlib.animation as animation\n",
    "from IPython.display import HTML"
   ]
  },
  {
   "cell_type": "code",
   "execution_count": 21,
   "metadata": {
    "execution": {
     "iopub.execute_input": "2020-12-01T12:06:52.524585Z",
     "iopub.status.busy": "2020-12-01T12:06:52.523965Z",
     "iopub.status.idle": "2020-12-01T12:06:52.529309Z",
     "shell.execute_reply": "2020-12-01T12:06:52.528807Z"
    },
    "papermill": {
     "duration": 0.041759,
     "end_time": "2020-12-01T12:06:52.529454",
     "exception": false,
     "start_time": "2020-12-01T12:06:52.487695",
     "status": "completed"
    },
    "tags": []
   },
   "outputs": [],
   "source": [
    "#hide\n",
    "t = everydaycases.stack()"
   ]
  },
  {
   "cell_type": "code",
   "execution_count": 22,
   "metadata": {
    "execution": {
     "iopub.execute_input": "2020-12-01T12:06:52.597477Z",
     "iopub.status.busy": "2020-12-01T12:06:52.596851Z",
     "iopub.status.idle": "2020-12-01T12:06:52.603597Z",
     "shell.execute_reply": "2020-12-01T12:06:52.604121Z"
    },
    "papermill": {
     "duration": 0.043636,
     "end_time": "2020-12-01T12:06:52.604280",
     "exception": false,
     "start_time": "2020-12-01T12:06:52.560644",
     "status": "completed"
    },
    "tags": []
   },
   "outputs": [],
   "source": [
    "#hide\n",
    "g = t.reset_index(['Country/Region'])"
   ]
  },
  {
   "cell_type": "code",
   "execution_count": 23,
   "metadata": {
    "execution": {
     "iopub.execute_input": "2020-12-01T12:06:52.837513Z",
     "iopub.status.busy": "2020-12-01T12:06:52.836834Z",
     "iopub.status.idle": "2020-12-01T12:06:52.838427Z",
     "shell.execute_reply": "2020-12-01T12:06:52.839023Z"
    },
    "papermill": {
     "duration": 0.039437,
     "end_time": "2020-12-01T12:06:52.839183",
     "exception": false,
     "start_time": "2020-12-01T12:06:52.799746",
     "status": "completed"
    },
    "tags": []
   },
   "outputs": [],
   "source": [
    "#hide\n",
    "g.index.name = 'date'"
   ]
  },
  {
   "cell_type": "code",
   "execution_count": 24,
   "metadata": {
    "execution": {
     "iopub.execute_input": "2020-12-01T12:06:52.917054Z",
     "iopub.status.busy": "2020-12-01T12:06:52.916406Z",
     "iopub.status.idle": "2020-12-01T12:06:52.918966Z",
     "shell.execute_reply": "2020-12-01T12:06:52.919575Z"
    },
    "papermill": {
     "duration": 0.044877,
     "end_time": "2020-12-01T12:06:52.919775",
     "exception": false,
     "start_time": "2020-12-01T12:06:52.874898",
     "status": "completed"
    },
    "tags": []
   },
   "outputs": [],
   "source": [
    "# #hide\n",
    "# g = g.reset_index(['date'])"
   ]
  },
  {
   "cell_type": "code",
   "execution_count": 25,
   "metadata": {
    "execution": {
     "iopub.execute_input": "2020-12-01T12:06:52.988914Z",
     "iopub.status.busy": "2020-12-01T12:06:52.988294Z",
     "iopub.status.idle": "2020-12-01T12:06:52.990640Z",
     "shell.execute_reply": "2020-12-01T12:06:52.990090Z"
    },
    "papermill": {
     "duration": 0.039169,
     "end_time": "2020-12-01T12:06:52.990780",
     "exception": false,
     "start_time": "2020-12-01T12:06:52.951611",
     "status": "completed"
    },
    "tags": []
   },
   "outputs": [],
   "source": [
    "#hide\n",
    "# g.head()"
   ]
  },
  {
   "cell_type": "code",
   "execution_count": 26,
   "metadata": {
    "execution": {
     "iopub.execute_input": "2020-12-01T12:06:53.059549Z",
     "iopub.status.busy": "2020-12-01T12:06:53.058781Z",
     "iopub.status.idle": "2020-12-01T12:06:53.060606Z",
     "shell.execute_reply": "2020-12-01T12:06:53.061299Z"
    },
    "papermill": {
     "duration": 0.03924,
     "end_time": "2020-12-01T12:06:53.061549",
     "exception": false,
     "start_time": "2020-12-01T12:06:53.022309",
     "status": "completed"
    },
    "tags": []
   },
   "outputs": [],
   "source": [
    "#hide\n",
    "# g.columns = ['date','country','cases']"
   ]
  },
  {
   "cell_type": "code",
   "execution_count": 27,
   "metadata": {
    "execution": {
     "iopub.execute_input": "2020-12-01T12:06:53.132887Z",
     "iopub.status.busy": "2020-12-01T12:06:53.131817Z",
     "iopub.status.idle": "2020-12-01T12:06:53.133974Z",
     "shell.execute_reply": "2020-12-01T12:06:53.134842Z"
    },
    "papermill": {
     "duration": 0.040046,
     "end_time": "2020-12-01T12:06:53.135086",
     "exception": false,
     "start_time": "2020-12-01T12:06:53.095040",
     "status": "completed"
    },
    "tags": []
   },
   "outputs": [],
   "source": [
    "#hide\n",
    "# g['continent'] = g.country"
   ]
  },
  {
   "cell_type": "code",
   "execution_count": 28,
   "metadata": {
    "execution": {
     "iopub.execute_input": "2020-12-01T12:06:53.202357Z",
     "iopub.status.busy": "2020-12-01T12:06:53.201697Z",
     "iopub.status.idle": "2020-12-01T12:06:53.204404Z",
     "shell.execute_reply": "2020-12-01T12:06:53.204863Z"
    },
    "papermill": {
     "duration": 0.03781,
     "end_time": "2020-12-01T12:06:53.205024",
     "exception": false,
     "start_time": "2020-12-01T12:06:53.167214",
     "status": "completed"
    },
    "tags": []
   },
   "outputs": [],
   "source": [
    "#hide\n",
    "# cols = list(g.columns.values)"
   ]
  },
  {
   "cell_type": "code",
   "execution_count": 29,
   "metadata": {
    "execution": {
     "iopub.execute_input": "2020-12-01T12:06:53.271220Z",
     "iopub.status.busy": "2020-12-01T12:06:53.270580Z",
     "iopub.status.idle": "2020-12-01T12:06:53.272356Z",
     "shell.execute_reply": "2020-12-01T12:06:53.272813Z"
    },
    "papermill": {
     "duration": 0.036932,
     "end_time": "2020-12-01T12:06:53.272972",
     "exception": false,
     "start_time": "2020-12-01T12:06:53.236040",
     "status": "completed"
    },
    "tags": []
   },
   "outputs": [],
   "source": [
    "#hide\n",
    "# cols.insert(0, cols.pop())"
   ]
  },
  {
   "cell_type": "code",
   "execution_count": 30,
   "metadata": {
    "execution": {
     "iopub.execute_input": "2020-12-01T12:06:53.338561Z",
     "iopub.status.busy": "2020-12-01T12:06:53.337906Z",
     "iopub.status.idle": "2020-12-01T12:06:53.340254Z",
     "shell.execute_reply": "2020-12-01T12:06:53.339748Z"
    },
    "papermill": {
     "duration": 0.036959,
     "end_time": "2020-12-01T12:06:53.340385",
     "exception": false,
     "start_time": "2020-12-01T12:06:53.303426",
     "status": "completed"
    },
    "tags": []
   },
   "outputs": [],
   "source": [
    "#hide\n",
    "# g = g[cols]"
   ]
  },
  {
   "cell_type": "code",
   "execution_count": 31,
   "metadata": {
    "execution": {
     "iopub.execute_input": "2020-12-01T12:06:53.408700Z",
     "iopub.status.busy": "2020-12-01T12:06:53.408078Z",
     "iopub.status.idle": "2020-12-01T12:06:53.412846Z",
     "shell.execute_reply": "2020-12-01T12:06:53.413424Z"
    },
    "papermill": {
     "duration": 0.041714,
     "end_time": "2020-12-01T12:06:53.413583",
     "exception": false,
     "start_time": "2020-12-01T12:06:53.371869",
     "status": "completed"
    },
    "tags": []
   },
   "outputs": [],
   "source": [
    "#hide\n",
    "# g['continent'] = g['continent'].map(mapping['map.continent'])"
   ]
  },
  {
   "cell_type": "code",
   "execution_count": 32,
   "metadata": {
    "execution": {
     "iopub.execute_input": "2020-12-01T12:06:53.480824Z",
     "iopub.status.busy": "2020-12-01T12:06:53.480220Z",
     "iopub.status.idle": "2020-12-01T12:06:53.482623Z",
     "shell.execute_reply": "2020-12-01T12:06:53.483201Z"
    },
    "papermill": {
     "duration": 0.038843,
     "end_time": "2020-12-01T12:06:53.483354",
     "exception": false,
     "start_time": "2020-12-01T12:06:53.444511",
     "status": "completed"
    },
    "tags": []
   },
   "outputs": [],
   "source": [
    "#hide\n",
    "# g.head()"
   ]
  },
  {
   "cell_type": "code",
   "execution_count": 33,
   "metadata": {
    "execution": {
     "iopub.execute_input": "2020-12-01T12:06:53.550793Z",
     "iopub.status.busy": "2020-12-01T12:06:53.550141Z",
     "iopub.status.idle": "2020-12-01T12:06:53.553701Z",
     "shell.execute_reply": "2020-12-01T12:06:53.554311Z"
    },
    "papermill": {
     "duration": 0.040096,
     "end_time": "2020-12-01T12:06:53.554473",
     "exception": false,
     "start_time": "2020-12-01T12:06:53.514377",
     "status": "completed"
    },
    "tags": []
   },
   "outputs": [],
   "source": [
    "# hide\n",
    "# g['date'] = g['date'].astype('datetime64[ns]')"
   ]
  },
  {
   "cell_type": "code",
   "execution_count": 34,
   "metadata": {
    "execution": {
     "iopub.execute_input": "2020-12-01T12:06:53.621711Z",
     "iopub.status.busy": "2020-12-01T12:06:53.621077Z",
     "iopub.status.idle": "2020-12-01T12:06:53.623703Z",
     "shell.execute_reply": "2020-12-01T12:06:53.624274Z"
    },
    "papermill": {
     "duration": 0.039119,
     "end_time": "2020-12-01T12:06:53.624430",
     "exception": false,
     "start_time": "2020-12-01T12:06:53.585311",
     "status": "completed"
    },
    "tags": []
   },
   "outputs": [],
   "source": [
    "#hide\n",
    "# g['date'] = g.date.dt.dayofyear"
   ]
  },
  {
   "cell_type": "code",
   "execution_count": 35,
   "metadata": {
    "execution": {
     "iopub.execute_input": "2020-12-01T12:06:53.692918Z",
     "iopub.status.busy": "2020-12-01T12:06:53.691834Z",
     "iopub.status.idle": "2020-12-01T12:06:53.694331Z",
     "shell.execute_reply": "2020-12-01T12:06:53.695217Z"
    },
    "papermill": {
     "duration": 0.039796,
     "end_time": "2020-12-01T12:06:53.695460",
     "exception": false,
     "start_time": "2020-12-01T12:06:53.655664",
     "status": "completed"
    },
    "tags": []
   },
   "outputs": [],
   "source": [
    "#hide\n",
    "# g = g.rename(columns= {'continent':'group','country':'name','cases':'value'})"
   ]
  },
  {
   "cell_type": "code",
   "execution_count": 36,
   "metadata": {
    "execution": {
     "iopub.execute_input": "2020-12-01T12:06:53.766205Z",
     "iopub.status.busy": "2020-12-01T12:06:53.765531Z",
     "iopub.status.idle": "2020-12-01T12:06:53.767628Z",
     "shell.execute_reply": "2020-12-01T12:06:53.768207Z"
    },
    "papermill": {
     "duration": 0.039566,
     "end_time": "2020-12-01T12:06:53.768365",
     "exception": false,
     "start_time": "2020-12-01T12:06:53.728799",
     "status": "completed"
    },
    "tags": []
   },
   "outputs": [],
   "source": [
    "#hide\n",
    "# cols = ['name','group','day','value']"
   ]
  },
  {
   "cell_type": "code",
   "execution_count": 37,
   "metadata": {
    "execution": {
     "iopub.execute_input": "2020-12-01T12:06:53.837587Z",
     "iopub.status.busy": "2020-12-01T12:06:53.836974Z",
     "iopub.status.idle": "2020-12-01T12:06:53.839864Z",
     "shell.execute_reply": "2020-12-01T12:06:53.839375Z"
    },
    "papermill": {
     "duration": 0.039916,
     "end_time": "2020-12-01T12:06:53.840005",
     "exception": false,
     "start_time": "2020-12-01T12:06:53.800089",
     "status": "completed"
    },
    "tags": []
   },
   "outputs": [],
   "source": [
    "#hide\n",
    "# g.rename(columns= {'date':'day'},inplace = True)"
   ]
  },
  {
   "cell_type": "code",
   "execution_count": 38,
   "metadata": {
    "execution": {
     "iopub.execute_input": "2020-12-01T12:06:53.915535Z",
     "iopub.status.busy": "2020-12-01T12:06:53.914314Z",
     "iopub.status.idle": "2020-12-01T12:06:53.916801Z",
     "shell.execute_reply": "2020-12-01T12:06:53.917401Z"
    },
    "papermill": {
     "duration": 0.045997,
     "end_time": "2020-12-01T12:06:53.917558",
     "exception": false,
     "start_time": "2020-12-01T12:06:53.871561",
     "status": "completed"
    },
    "tags": []
   },
   "outputs": [],
   "source": [
    "#hide\n",
    "# g = g[cols]"
   ]
  },
  {
   "cell_type": "code",
   "execution_count": 39,
   "metadata": {
    "execution": {
     "iopub.execute_input": "2020-12-01T12:06:53.989747Z",
     "iopub.status.busy": "2020-12-01T12:06:53.989119Z",
     "iopub.status.idle": "2020-12-01T12:06:53.991644Z",
     "shell.execute_reply": "2020-12-01T12:06:53.992236Z"
    },
    "papermill": {
     "duration": 0.043082,
     "end_time": "2020-12-01T12:06:53.992397",
     "exception": false,
     "start_time": "2020-12-01T12:06:53.949315",
     "status": "completed"
    },
    "tags": []
   },
   "outputs": [],
   "source": [
    "# #hide\n",
    "# g = g[g.group.notna()]"
   ]
  },
  {
   "cell_type": "code",
   "execution_count": 40,
   "metadata": {
    "execution": {
     "iopub.execute_input": "2020-12-01T12:06:54.063735Z",
     "iopub.status.busy": "2020-12-01T12:06:54.063064Z",
     "iopub.status.idle": "2020-12-01T12:06:54.065342Z",
     "shell.execute_reply": "2020-12-01T12:06:54.064738Z"
    },
    "papermill": {
     "duration": 0.039257,
     "end_time": "2020-12-01T12:06:54.065478",
     "exception": false,
     "start_time": "2020-12-01T12:06:54.026221",
     "status": "completed"
    },
    "tags": []
   },
   "outputs": [],
   "source": [
    "# #hide\n",
    "# colors = dict(zip(\n",
    "#     [\"Oceania\", \"Europe\", \"Asia\", \"South America\", \"Middle East\", \"North America\", \"Africa\"],\n",
    "#     [\"#adb0ff\", \"#ffb3ff\", \"#90d595\", \"#e48381\", \"#aafbff\", \"#f7bb5f\", \"#eafb50\"]\n",
    "# ))\n",
    "# group_lk = g.set_index('name')['group'].to_dict()"
   ]
  },
  {
   "cell_type": "code",
   "execution_count": null,
   "metadata": {
    "papermill": {
     "duration": 0.031429,
     "end_time": "2020-12-01T12:06:54.128181",
     "exception": false,
     "start_time": "2020-12-01T12:06:54.096752",
     "status": "completed"
    },
    "tags": []
   },
   "outputs": [],
   "source": []
  },
  {
   "cell_type": "code",
   "execution_count": 41,
   "metadata": {
    "execution": {
     "iopub.execute_input": "2020-12-01T12:06:54.196641Z",
     "iopub.status.busy": "2020-12-01T12:06:54.196010Z",
     "iopub.status.idle": "2020-12-01T12:06:54.198348Z",
     "shell.execute_reply": "2020-12-01T12:06:54.197800Z"
    },
    "papermill": {
     "duration": 0.039428,
     "end_time": "2020-12-01T12:06:54.198486",
     "exception": false,
     "start_time": "2020-12-01T12:06:54.159058",
     "status": "completed"
    },
    "tags": []
   },
   "outputs": [],
   "source": [
    "# #hide\n",
    "# fig, ax = plt.subplots(figsize=(15, 8))\n",
    "\n",
    "# def draw_barchart(current_day):\n",
    "#     dff = g[g['day'].eq(current_day)].sort_values(by='value', ascending=True).tail(10)\n",
    "#     ax.clear()\n",
    "#     ax.barh(dff['name'], dff['value'], color=[colors[group_lk[x]] for x in dff['name']])\n",
    "#     dx = dff['value'].max() / 200\n",
    "    \n",
    "#     for i, (value, name) in enumerate(zip(dff['value'], dff['name'])):\n",
    "#         ax.text(value-dx, i,     name,           size=14, weight=600, ha='right', va='bottom')\n",
    "#         ax.text(value-dx, i-.25, group_lk[name], size=10, color='#444444', ha='right', va='baseline')\n",
    "#         ax.text(value+dx, i,     f'{value:,.0f}',  size=14, ha='left',  va='center')\n",
    "#     ax.text(1, 0.4, current_day, transform=ax.transAxes, color='#777777', size=46, ha='right', weight=800)\n",
    "#     ax.text(0, 1.06, 'Population (thousands)', transform=ax.transAxes, size=12, color='#777777')\n",
    "#     ax.xaxis.set_major_formatter(ticker.StrMethodFormatter('{x:,.0f}'))\n",
    "#     ax.xaxis.set_ticks_position('top')\n",
    "#     ax.tick_params(axis='x', colors='#777777', labelsize=12)\n",
    "#     ax.set_yticks([])\n",
    "#     ax.margins(0, 0.01)\n",
    "#     ax.grid(which='major', axis='x', linestyle='-')\n",
    "#     ax.set_axisbelow(True)\n",
    "    \n",
    "#     ax.text(0, 1.15, 'Coronavirus',\n",
    "#             transform=ax.transAxes, size=24, weight=600, ha='left', va='top')\n",
    "# #     ax.text(1, 0, 'by @pratapvardhan; credit @jburnmurdoch', transform=ax.transAxes, color='#777777', ha='right',\n",
    "# #             bbox=dict(facecolor='white', alpha=0.8, edgecolor='white'))\n",
    "#     plt.box(False)"
   ]
  },
  {
   "cell_type": "code",
   "execution_count": 42,
   "metadata": {
    "execution": {
     "iopub.execute_input": "2020-12-01T12:06:54.266051Z",
     "iopub.status.busy": "2020-12-01T12:06:54.265411Z",
     "iopub.status.idle": "2020-12-01T12:06:54.268755Z",
     "shell.execute_reply": "2020-12-01T12:06:54.268242Z"
    },
    "papermill": {
     "duration": 0.039341,
     "end_time": "2020-12-01T12:06:54.268902",
     "exception": false,
     "start_time": "2020-12-01T12:06:54.229561",
     "status": "completed"
    },
    "tags": []
   },
   "outputs": [],
   "source": [
    "# #hide_input\n",
    "# fig, ax = plt.subplots(figsize=(15, 8))\n",
    "# animator = animation.FuncAnimation(fig, draw_barchart, frames=range(g.day.values.min(), g.day.values.max()))\n",
    "# HTML(animator.to_jshtml())\n",
    "# # or use animator.to_html5_video() or animator.save() "
   ]
  },
  {
   "cell_type": "code",
   "execution_count": null,
   "metadata": {
    "papermill": {
     "duration": 0.031019,
     "end_time": "2020-12-01T12:06:54.330959",
     "exception": false,
     "start_time": "2020-12-01T12:06:54.299940",
     "status": "completed"
    },
    "tags": []
   },
   "outputs": [],
   "source": []
  },
  {
   "cell_type": "code",
   "execution_count": null,
   "metadata": {
    "papermill": {
     "duration": 0.032061,
     "end_time": "2020-12-01T12:06:54.394264",
     "exception": false,
     "start_time": "2020-12-01T12:06:54.362203",
     "status": "completed"
    },
    "tags": []
   },
   "outputs": [],
   "source": []
  },
  {
   "cell_type": "code",
   "execution_count": null,
   "metadata": {
    "papermill": {
     "duration": 0.030908,
     "end_time": "2020-12-01T12:06:54.456173",
     "exception": false,
     "start_time": "2020-12-01T12:06:54.425265",
     "status": "completed"
    },
    "tags": []
   },
   "outputs": [],
   "source": []
  }
 ],
 "metadata": {
  "kernelspec": {
   "display_name": "Python 3",
   "language": "python",
   "name": "python3"
  },
  "language_info": {
   "codemirror_mode": {
    "name": "ipython",
    "version": 3
   },
   "file_extension": ".py",
   "mimetype": "text/x-python",
   "name": "python",
   "nbconvert_exporter": "python",
   "pygments_lexer": "ipython3",
   "version": "3.6.12"
  },
  "papermill": {
   "duration": 6.897208,
   "end_time": "2020-12-01T12:06:54.896423",
   "environment_variables": {},
   "exception": null,
   "input_path": "2020-03-21-covid19exp.ipynb",
   "output_path": "2020-03-21-covid19exp.ipynb",
   "parameters": {},
   "start_time": "2020-12-01T12:06:47.999215",
   "version": "2.0.0"
  }
 },
 "nbformat": 4,
 "nbformat_minor": 4
}