{
 "cells": [
  {
   "cell_type": "markdown",
   "id": "muslim-click",
   "metadata": {
    "papermill": {
     "duration": 0.041542,
     "end_time": "2022-09-24T12:18:50.070827",
     "exception": false,
     "start_time": "2022-09-24T12:18:50.029285",
     "status": "completed"
    },
    "tags": []
   },
   "source": [
    "# COVID-19 Case Race\n",
    "> A race chart to see rising cases around the world\n",
    "\n",
    "- author: Hargun Oberoi\n",
    "- image: images/covid-overview.png\n",
    "- hide: false\n",
    "- badges: false"
   ]
  },
  {
   "cell_type": "code",
   "execution_count": 1,
   "id": "proof-material",
   "metadata": {
    "execution": {
     "iopub.execute_input": "2022-09-24T12:18:50.149987Z",
     "iopub.status.busy": "2022-09-24T12:18:50.149277Z",
     "iopub.status.idle": "2022-09-24T12:18:50.540618Z",
     "shell.execute_reply": "2022-09-24T12:18:50.540005Z"
    },
    "papermill": {
     "duration": 0.435572,
     "end_time": "2022-09-24T12:18:50.540782",
     "exception": false,
     "start_time": "2022-09-24T12:18:50.105210",
     "status": "completed"
    },
    "tags": []
   },
   "outputs": [],
   "source": [
    "#hide\n",
    "import numpy as np\n",
    "import pandas as pd\n",
    "from jinja2 import Template\n",
    "from IPython.display import HTML"
   ]
  },
  {
   "cell_type": "code",
   "execution_count": 2,
   "id": "developed-terminology",
   "metadata": {
    "execution": {
     "iopub.execute_input": "2022-09-24T12:18:50.614867Z",
     "iopub.status.busy": "2022-09-24T12:18:50.614174Z",
     "iopub.status.idle": "2022-09-24T12:18:50.617062Z",
     "shell.execute_reply": "2022-09-24T12:18:50.617616Z"
    },
    "papermill": {
     "duration": 0.042545,
     "end_time": "2022-09-24T12:18:50.617761",
     "exception": false,
     "start_time": "2022-09-24T12:18:50.575216",
     "status": "completed"
    },
    "tags": []
   },
   "outputs": [],
   "source": [
    "#hide\n",
    "\n",
    "# FETCH\n",
    "base_url = 'https://raw.githubusercontent.com/pratapvardhan/notebooks/master/covid19/'\n",
    "paths = {\n",
    "    'mapping': base_url + 'mapping_countries.csv',\n",
    "    'overview': base_url + 'overview.tpl'\n",
    "}"
   ]
  },
  {
   "cell_type": "code",
   "execution_count": 3,
   "id": "dynamic-saver",
   "metadata": {
    "execution": {
     "iopub.execute_input": "2022-09-24T12:18:50.693163Z",
     "iopub.status.busy": "2022-09-24T12:18:50.692481Z",
     "iopub.status.idle": "2022-09-24T12:18:50.699501Z",
     "shell.execute_reply": "2022-09-24T12:18:50.698844Z"
    },
    "papermill": {
     "duration": 0.048613,
     "end_time": "2022-09-24T12:18:50.699636",
     "exception": false,
     "start_time": "2022-09-24T12:18:50.651023",
     "status": "completed"
    },
    "tags": []
   },
   "outputs": [
    {
     "data": {
      "text/plain": [
       "'https://raw.githubusercontent.com/pratapvardhan/notebooks/master/covid19/mapping_countries.csv'"
      ]
     },
     "execution_count": 3,
     "metadata": {},
     "output_type": "execute_result"
    }
   ],
   "source": [
    "#hide\n",
    "paths['mapping']"
   ]
  },
  {
   "cell_type": "code",
   "execution_count": 4,
   "id": "urban-software",
   "metadata": {
    "execution": {
     "iopub.execute_input": "2022-09-24T12:18:50.775016Z",
     "iopub.status.busy": "2022-09-24T12:18:50.774318Z",
     "iopub.status.idle": "2022-09-24T12:18:50.776991Z",
     "shell.execute_reply": "2022-09-24T12:18:50.777546Z"
    },
    "papermill": {
     "duration": 0.043609,
     "end_time": "2022-09-24T12:18:50.777696",
     "exception": false,
     "start_time": "2022-09-24T12:18:50.734087",
     "status": "completed"
    },
    "tags": []
   },
   "outputs": [],
   "source": [
    "#hide\n",
    "def get_mappings(url):\n",
    "    df = pd.read_csv(url)\n",
    "    return {\n",
    "        'df': df,\n",
    "        'replace.country': dict(df.dropna(subset=['Name']).set_index('Country')['Name']),\n",
    "        'map.continent': dict(df.set_index('Name')['Continent'])\n",
    "    }"
   ]
  },
  {
   "cell_type": "code",
   "execution_count": 5,
   "id": "intimate-machinery",
   "metadata": {
    "execution": {
     "iopub.execute_input": "2022-09-24T12:18:50.852133Z",
     "iopub.status.busy": "2022-09-24T12:18:50.851408Z",
     "iopub.status.idle": "2022-09-24T12:18:50.906142Z",
     "shell.execute_reply": "2022-09-24T12:18:50.906684Z"
    },
    "papermill": {
     "duration": 0.095485,
     "end_time": "2022-09-24T12:18:50.906854",
     "exception": false,
     "start_time": "2022-09-24T12:18:50.811369",
     "status": "completed"
    },
    "tags": []
   },
   "outputs": [],
   "source": [
    "#hide\n",
    "mapping = get_mappings(paths['mapping'])"
   ]
  },
  {
   "cell_type": "code",
   "execution_count": 6,
   "id": "certified-tactics",
   "metadata": {
    "execution": {
     "iopub.execute_input": "2022-09-24T12:18:50.980347Z",
     "iopub.status.busy": "2022-09-24T12:18:50.977675Z",
     "iopub.status.idle": "2022-09-24T12:18:50.982769Z",
     "shell.execute_reply": "2022-09-24T12:18:50.983368Z"
    },
    "papermill": {
     "duration": 0.042829,
     "end_time": "2022-09-24T12:18:50.983530",
     "exception": false,
     "start_time": "2022-09-24T12:18:50.940701",
     "status": "completed"
    },
    "tags": []
   },
   "outputs": [],
   "source": [
    "#hide\n",
    "def get_template(path):\n",
    "    from urllib.parse import urlparse\n",
    "    if bool(urlparse(path).netloc):\n",
    "        from urllib.request import urlopen\n",
    "        return urlopen(path).read().decode('utf8')\n",
    "    return open(path).read()"
   ]
  },
  {
   "cell_type": "code",
   "execution_count": 7,
   "id": "realistic-blast",
   "metadata": {
    "execution": {
     "iopub.execute_input": "2022-09-24T12:18:51.057309Z",
     "iopub.status.busy": "2022-09-24T12:18:51.056566Z",
     "iopub.status.idle": "2022-09-24T12:18:51.058867Z",
     "shell.execute_reply": "2022-09-24T12:18:51.059408Z"
    },
    "papermill": {
     "duration": 0.042304,
     "end_time": "2022-09-24T12:18:51.059573",
     "exception": false,
     "start_time": "2022-09-24T12:18:51.017269",
     "status": "completed"
    },
    "tags": []
   },
   "outputs": [],
   "source": [
    "#hide\n",
    "def get_frame(name):\n",
    "    url = (\n",
    "        'https://raw.githubusercontent.com/CSSEGISandData/COVID-19/master/csse_covid_19_data/'\n",
    "        f'csse_covid_19_time_series/time_series_covid19_{name}_global.csv')\n",
    "    df = pd.read_csv(url)\n",
    "    # rename countries\n",
    "    df['Country/Region'] = df['Country/Region'].replace(mapping['replace.country'])\n",
    "    return df"
   ]
  },
  {
   "cell_type": "code",
   "execution_count": 8,
   "id": "affiliated-characterization",
   "metadata": {
    "execution": {
     "iopub.execute_input": "2022-09-24T12:18:51.135514Z",
     "iopub.status.busy": "2022-09-24T12:18:51.134787Z",
     "iopub.status.idle": "2022-09-24T12:18:51.136960Z",
     "shell.execute_reply": "2022-09-24T12:18:51.137518Z"
    },
    "papermill": {
     "duration": 0.04323,
     "end_time": "2022-09-24T12:18:51.137670",
     "exception": false,
     "start_time": "2022-09-24T12:18:51.094440",
     "status": "completed"
    },
    "tags": []
   },
   "outputs": [],
   "source": [
    "#hide\n",
    "def get_dates(df):\n",
    "    dt_cols = df.columns[~df.columns.isin(['Province/State', 'Country/Region', 'Lat', 'Long'])]\n",
    "    LAST_DATE_I = -1\n",
    "    # sometimes last column may be empty, then go backwards\n",
    "    for i in range(-1, -len(dt_cols), -1):\n",
    "        if not df[dt_cols[i]].fillna(0).eq(0).all():\n",
    "            LAST_DATE_I = i\n",
    "            break\n",
    "    return LAST_DATE_I, dt_cols"
   ]
  },
  {
   "cell_type": "code",
   "execution_count": 9,
   "id": "recent-optimization",
   "metadata": {
    "execution": {
     "iopub.execute_input": "2022-09-24T12:18:51.211484Z",
     "iopub.status.busy": "2022-09-24T12:18:51.210715Z",
     "iopub.status.idle": "2022-09-24T12:18:51.798191Z",
     "shell.execute_reply": "2022-09-24T12:18:51.797524Z"
    },
    "papermill": {
     "duration": 0.626977,
     "end_time": "2022-09-24T12:18:51.798352",
     "exception": false,
     "start_time": "2022-09-24T12:18:51.171375",
     "status": "completed"
    },
    "tags": []
   },
   "outputs": [],
   "source": [
    "#hide\n",
    "COL_REGION = 'Country/Region'\n",
    "# Confirmed, Recovered, Deaths\n",
    "df = get_frame('confirmed')\n",
    "# dft_: timeseries, dfc_: today country agg\n",
    "dft_cases = df\n",
    "dft_deaths = get_frame('deaths')\n",
    "dft_recovered = get_frame('recovered')\n",
    "LAST_DATE_I, dt_cols = get_dates(df)"
   ]
  },
  {
   "cell_type": "code",
   "execution_count": 10,
   "id": "absolute-copper",
   "metadata": {
    "execution": {
     "iopub.execute_input": "2022-09-24T12:18:51.874242Z",
     "iopub.status.busy": "2022-09-24T12:18:51.873551Z",
     "iopub.status.idle": "2022-09-24T12:18:51.876256Z",
     "shell.execute_reply": "2022-09-24T12:18:51.875698Z"
    },
    "papermill": {
     "duration": 0.043665,
     "end_time": "2022-09-24T12:18:51.876384",
     "exception": false,
     "start_time": "2022-09-24T12:18:51.832719",
     "status": "completed"
    },
    "tags": []
   },
   "outputs": [],
   "source": [
    "#hide\n",
    "LAST_DATE_I, dt_cols = get_dates(df)\n",
    "dt_today =dt_cols[LAST_DATE_I]\n",
    "# dt_5day = dt_cols[LAST_DATE_I - 5]\n",
    "dt_yday = dt_cols[LAST_DATE_I - 1]"
   ]
  },
  {
   "cell_type": "code",
   "execution_count": 11,
   "id": "restricted-sheriff",
   "metadata": {
    "execution": {
     "iopub.execute_input": "2022-09-24T12:18:51.951760Z",
     "iopub.status.busy": "2022-09-24T12:18:51.950427Z",
     "iopub.status.idle": "2022-09-24T12:18:51.958639Z",
     "shell.execute_reply": "2022-09-24T12:18:51.959314Z"
    },
    "papermill": {
     "duration": 0.049619,
     "end_time": "2022-09-24T12:18:51.959482",
     "exception": false,
     "start_time": "2022-09-24T12:18:51.909863",
     "status": "completed"
    },
    "tags": []
   },
   "outputs": [],
   "source": [
    "#hide\n",
    "dfc_cases = dft_cases.groupby(COL_REGION)[dt_today].sum()\n",
    "dfc_deaths = dft_deaths.groupby(COL_REGION)[dt_today].sum()\n",
    "# dfp_cases = dft_cases.groupby(COL_REGION)[dt_5day].sum()\n",
    "# dfp_deaths = dft_deaths.groupby(COL_REGION)[dt_5day].sum()\n",
    "dfp_cases = dft_cases.groupby(COL_REGION)[dt_yday].sum()\n",
    "dfp_deaths = dft_deaths.groupby(COL_REGION)[dt_yday].sum()"
   ]
  },
  {
   "cell_type": "code",
   "execution_count": 12,
   "id": "deluxe-hepatitis",
   "metadata": {
    "execution": {
     "iopub.execute_input": "2022-09-24T12:18:52.034572Z",
     "iopub.status.busy": "2022-09-24T12:18:52.033888Z",
     "iopub.status.idle": "2022-09-24T12:18:52.038900Z",
     "shell.execute_reply": "2022-09-24T12:18:52.039495Z"
    },
    "papermill": {
     "duration": 0.046283,
     "end_time": "2022-09-24T12:18:52.039650",
     "exception": false,
     "start_time": "2022-09-24T12:18:51.993367",
     "status": "completed"
    },
    "tags": []
   },
   "outputs": [],
   "source": [
    "#hide\n",
    "df_table = (pd.DataFrame(dict(Cases = dfc_cases, Deaths = dfc_deaths, PCases = dfp_cases, PDeaths = dfp_deaths))\n",
    "            .sort_values(by = ['Cases','Deaths'], ascending = [False, False])\n",
    "            .reset_index())"
   ]
  },
  {
   "cell_type": "code",
   "execution_count": 13,
   "id": "educational-chancellor",
   "metadata": {
    "execution": {
     "iopub.execute_input": "2022-09-24T12:18:52.128547Z",
     "iopub.status.busy": "2022-09-24T12:18:52.127801Z",
     "iopub.status.idle": "2022-09-24T12:18:52.137010Z",
     "shell.execute_reply": "2022-09-24T12:18:52.136337Z"
    },
    "papermill": {
     "duration": 0.063808,
     "end_time": "2022-09-24T12:18:52.137141",
     "exception": false,
     "start_time": "2022-09-24T12:18:52.073333",
     "status": "completed"
    },
    "tags": []
   },
   "outputs": [
    {
     "data": {
      "text/html": [
       "<div>\n",
       "<style scoped>\n",
       "    .dataframe tbody tr th:only-of-type {\n",
       "        vertical-align: middle;\n",
       "    }\n",
       "\n",
       "    .dataframe tbody tr th {\n",
       "        vertical-align: top;\n",
       "    }\n",
       "\n",
       "    .dataframe thead th {\n",
       "        text-align: right;\n",
       "    }\n",
       "</style>\n",
       "<table border=\"1\" class=\"dataframe\">\n",
       "  <thead>\n",
       "    <tr style=\"text-align: right;\">\n",
       "      <th></th>\n",
       "      <th>Country/Region</th>\n",
       "      <th>Cases</th>\n",
       "      <th>Deaths</th>\n",
       "      <th>PCases</th>\n",
       "      <th>PDeaths</th>\n",
       "      <th>Cases (+)</th>\n",
       "      <th>Deaths (+)</th>\n",
       "      <th>Fatality Rate</th>\n",
       "      <th>Continent</th>\n",
       "    </tr>\n",
       "  </thead>\n",
       "  <tbody>\n",
       "    <tr>\n",
       "      <th>0</th>\n",
       "      <td>US</td>\n",
       "      <td>96056075</td>\n",
       "      <td>1056372</td>\n",
       "      <td>95970915</td>\n",
       "      <td>1055922</td>\n",
       "      <td>85160</td>\n",
       "      <td>450</td>\n",
       "      <td>1.10</td>\n",
       "      <td>North America</td>\n",
       "    </tr>\n",
       "    <tr>\n",
       "      <th>1</th>\n",
       "      <td>India</td>\n",
       "      <td>44563337</td>\n",
       "      <td>528487</td>\n",
       "      <td>44558425</td>\n",
       "      <td>528449</td>\n",
       "      <td>4912</td>\n",
       "      <td>38</td>\n",
       "      <td>1.19</td>\n",
       "      <td>Asia</td>\n",
       "    </tr>\n",
       "    <tr>\n",
       "      <th>2</th>\n",
       "      <td>France</td>\n",
       "      <td>35304648</td>\n",
       "      <td>155927</td>\n",
       "      <td>35267124</td>\n",
       "      <td>155894</td>\n",
       "      <td>37524</td>\n",
       "      <td>33</td>\n",
       "      <td>0.44</td>\n",
       "      <td>Europe</td>\n",
       "    </tr>\n",
       "    <tr>\n",
       "      <th>3</th>\n",
       "      <td>Brazil</td>\n",
       "      <td>34624427</td>\n",
       "      <td>685750</td>\n",
       "      <td>34616655</td>\n",
       "      <td>685677</td>\n",
       "      <td>7772</td>\n",
       "      <td>73</td>\n",
       "      <td>1.98</td>\n",
       "      <td>South America</td>\n",
       "    </tr>\n",
       "    <tr>\n",
       "      <th>4</th>\n",
       "      <td>Germany</td>\n",
       "      <td>32952050</td>\n",
       "      <td>149458</td>\n",
       "      <td>32905086</td>\n",
       "      <td>149368</td>\n",
       "      <td>46964</td>\n",
       "      <td>90</td>\n",
       "      <td>0.45</td>\n",
       "      <td>Europe</td>\n",
       "    </tr>\n",
       "  </tbody>\n",
       "</table>\n",
       "</div>"
      ],
      "text/plain": [
       "  Country/Region     Cases   Deaths    PCases  PDeaths  Cases (+)  Deaths (+)  \\\n",
       "0             US  96056075  1056372  95970915  1055922      85160         450   \n",
       "1          India  44563337   528487  44558425   528449       4912          38   \n",
       "2         France  35304648   155927  35267124   155894      37524          33   \n",
       "3         Brazil  34624427   685750  34616655   685677       7772          73   \n",
       "4        Germany  32952050   149458  32905086   149368      46964          90   \n",
       "\n",
       "   Fatality Rate      Continent  \n",
       "0           1.10  North America  \n",
       "1           1.19           Asia  \n",
       "2           0.44         Europe  \n",
       "3           1.98  South America  \n",
       "4           0.45         Europe  "
      ]
     },
     "execution_count": 13,
     "metadata": {},
     "output_type": "execute_result"
    }
   ],
   "source": [
    "#hide\n",
    "for c in 'Cases, Deaths'.split(', '):\n",
    "    df_table[f'{c} (+)'] = (df_table[c] - df_table[f'P{c}']).clip(0)\n",
    "    #Clip ça veut dire, les chiffres negatif sont interdit\n",
    "df_table['Fatality Rate'] = (100* df_table['Deaths']/ df_table['Cases']).round(2)\n",
    "df_table['Continent'] = df_table['Country/Region'].map(mapping['map.continent'])\n",
    "df_table.head(5)"
   ]
  },
  {
   "cell_type": "code",
   "execution_count": 14,
   "id": "aboriginal-bulgaria",
   "metadata": {
    "execution": {
     "iopub.execute_input": "2022-09-24T12:18:52.213434Z",
     "iopub.status.busy": "2022-09-24T12:18:52.212728Z",
     "iopub.status.idle": "2022-09-24T12:18:52.215556Z",
     "shell.execute_reply": "2022-09-24T12:18:52.216218Z"
    },
    "papermill": {
     "duration": 0.044756,
     "end_time": "2022-09-24T12:18:52.216371",
     "exception": false,
     "start_time": "2022-09-24T12:18:52.171615",
     "status": "completed"
    },
    "tags": []
   },
   "outputs": [],
   "source": [
    "#hide\n",
    "#delete problematic countries from table\n",
    "df_table = df_table[~df_table['Country/Region'].isin(['Cape Verde', 'Cruise Ship', 'Kosovo'])]"
   ]
  },
  {
   "cell_type": "code",
   "execution_count": 15,
   "id": "fantastic-effect",
   "metadata": {
    "execution": {
     "iopub.execute_input": "2022-09-24T12:18:52.293957Z",
     "iopub.status.busy": "2022-09-24T12:18:52.288353Z",
     "iopub.status.idle": "2022-09-24T12:18:52.314510Z",
     "shell.execute_reply": "2022-09-24T12:18:52.313862Z"
    },
    "papermill": {
     "duration": 0.064036,
     "end_time": "2022-09-24T12:18:52.314658",
     "exception": false,
     "start_time": "2022-09-24T12:18:52.250622",
     "status": "completed"
    },
    "tags": []
   },
   "outputs": [
    {
     "data": {
      "text/html": [
       "<div>\n",
       "<style scoped>\n",
       "    .dataframe tbody tr th:only-of-type {\n",
       "        vertical-align: middle;\n",
       "    }\n",
       "\n",
       "    .dataframe tbody tr th {\n",
       "        vertical-align: top;\n",
       "    }\n",
       "\n",
       "    .dataframe thead th {\n",
       "        text-align: right;\n",
       "    }\n",
       "</style>\n",
       "<table border=\"1\" class=\"dataframe\">\n",
       "  <thead>\n",
       "    <tr style=\"text-align: right;\">\n",
       "      <th></th>\n",
       "      <th>Country/Region</th>\n",
       "      <th>Cases</th>\n",
       "      <th>Deaths</th>\n",
       "      <th>PCases</th>\n",
       "      <th>PDeaths</th>\n",
       "      <th>Cases (+)</th>\n",
       "      <th>Deaths (+)</th>\n",
       "      <th>Fatality Rate</th>\n",
       "      <th>Continent</th>\n",
       "    </tr>\n",
       "  </thead>\n",
       "  <tbody>\n",
       "    <tr>\n",
       "      <th>0</th>\n",
       "      <td>US</td>\n",
       "      <td>96056075</td>\n",
       "      <td>1056372</td>\n",
       "      <td>95970915</td>\n",
       "      <td>1055922</td>\n",
       "      <td>85160</td>\n",
       "      <td>450</td>\n",
       "      <td>1.1</td>\n",
       "      <td>North America</td>\n",
       "    </tr>\n",
       "    <tr>\n",
       "      <th>1</th>\n",
       "      <td>India</td>\n",
       "      <td>44563337</td>\n",
       "      <td>528487</td>\n",
       "      <td>44558425</td>\n",
       "      <td>528449</td>\n",
       "      <td>4912</td>\n",
       "      <td>38</td>\n",
       "      <td>1.2</td>\n",
       "      <td>Asia</td>\n",
       "    </tr>\n",
       "    <tr>\n",
       "      <th>2</th>\n",
       "      <td>France</td>\n",
       "      <td>35304648</td>\n",
       "      <td>155927</td>\n",
       "      <td>35267124</td>\n",
       "      <td>155894</td>\n",
       "      <td>37524</td>\n",
       "      <td>33</td>\n",
       "      <td>0.4</td>\n",
       "      <td>Europe</td>\n",
       "    </tr>\n",
       "    <tr>\n",
       "      <th>3</th>\n",
       "      <td>Brazil</td>\n",
       "      <td>34624427</td>\n",
       "      <td>685750</td>\n",
       "      <td>34616655</td>\n",
       "      <td>685677</td>\n",
       "      <td>7772</td>\n",
       "      <td>73</td>\n",
       "      <td>2.0</td>\n",
       "      <td>South America</td>\n",
       "    </tr>\n",
       "    <tr>\n",
       "      <th>4</th>\n",
       "      <td>Germany</td>\n",
       "      <td>32952050</td>\n",
       "      <td>149458</td>\n",
       "      <td>32905086</td>\n",
       "      <td>149368</td>\n",
       "      <td>46964</td>\n",
       "      <td>90</td>\n",
       "      <td>0.5</td>\n",
       "      <td>Europe</td>\n",
       "    </tr>\n",
       "  </tbody>\n",
       "</table>\n",
       "</div>"
      ],
      "text/plain": [
       "  Country/Region     Cases   Deaths    PCases  PDeaths  Cases (+)  Deaths (+)  \\\n",
       "0             US  96056075  1056372  95970915  1055922      85160         450   \n",
       "1          India  44563337   528487  44558425   528449       4912          38   \n",
       "2         France  35304648   155927  35267124   155894      37524          33   \n",
       "3         Brazil  34624427   685750  34616655   685677       7772          73   \n",
       "4        Germany  32952050   149458  32905086   149368      46964          90   \n",
       "\n",
       "   Fatality Rate      Continent  \n",
       "0            1.1  North America  \n",
       "1            1.2           Asia  \n",
       "2            0.4         Europe  \n",
       "3            2.0  South America  \n",
       "4            0.5         Europe  "
      ]
     },
     "execution_count": 15,
     "metadata": {},
     "output_type": "execute_result"
    }
   ],
   "source": [
    "#hide\n",
    "df_table = (pd.DataFrame(dict(Cases=dfc_cases, Deaths=dfc_deaths, PCases=dfp_cases, PDeaths=dfp_deaths))\n",
    "             .sort_values(by=['Cases', 'Deaths'], ascending=[False, False])\n",
    "             .reset_index())\n",
    "df_table.rename(columns={'index': 'Country/Region'}, inplace=True)\n",
    "for c in 'Cases, Deaths'.split(', '):\n",
    "    df_table[f'{c} (+)'] = (df_table[c] - df_table[f'P{c}']).clip(0)  # DATA BUG\n",
    "df_table['Fatality Rate'] = (100 * df_table['Deaths'] / df_table['Cases']).round(1)\n",
    "df_table['Continent'] = df_table['Country/Region'].map(mapping['map.continent'])\n",
    "df_table.head(5)"
   ]
  },
  {
   "cell_type": "code",
   "execution_count": 16,
   "id": "fewer-occasion",
   "metadata": {
    "execution": {
     "iopub.execute_input": "2022-09-24T12:18:52.392833Z",
     "iopub.status.busy": "2022-09-24T12:18:52.392096Z",
     "iopub.status.idle": "2022-09-24T12:18:52.394721Z",
     "shell.execute_reply": "2022-09-24T12:18:52.394059Z"
    },
    "papermill": {
     "duration": 0.044253,
     "end_time": "2022-09-24T12:18:52.394852",
     "exception": false,
     "start_time": "2022-09-24T12:18:52.350599",
     "status": "completed"
    },
    "tags": []
   },
   "outputs": [],
   "source": [
    "#hide\n",
    "#delete problematic countries from table\n",
    "df_table = df_table[~df_table['Country/Region'].isin(['Cape Verde', 'Cruise Ship', 'Kosovo'])]"
   ]
  },
  {
   "cell_type": "code",
   "execution_count": 17,
   "id": "related-center",
   "metadata": {
    "execution": {
     "iopub.execute_input": "2022-09-24T12:18:52.486503Z",
     "iopub.status.busy": "2022-09-24T12:18:52.485766Z",
     "iopub.status.idle": "2022-09-24T12:18:52.490546Z",
     "shell.execute_reply": "2022-09-24T12:18:52.489870Z"
    },
    "papermill": {
     "duration": 0.060753,
     "end_time": "2022-09-24T12:18:52.490678",
     "exception": false,
     "start_time": "2022-09-24T12:18:52.429925",
     "status": "completed"
    },
    "tags": []
   },
   "outputs": [],
   "source": [
    "#hide\n",
    "metrics = [df_table.columns[index] for index in [1,2,5,6]]\n",
    "# s_china = df_table[df_table['Country/Region'].eq('China')][metrics].sum().add_prefix('China ')\n",
    "s_us = df_table[df_table['Country/Region'].eq('US')][metrics].sum().add_prefix('US ')\n",
    "s_eu = df_table[df_table['Continent'].eq('Europe')][metrics].sum().add_prefix('EU ')\n",
    "s_ind = df_table[df_table['Country/Region'].eq('India')][metrics].sum().add_prefix('India ')\n",
    "summary = {'updated': pd.to_datetime(dt_today), 'since': pd.to_datetime(dt_yday)}\n",
    "summary = {'updated': pd.to_datetime(dt_today), 'since': pd.to_datetime(dt_yday)}\n",
    "summary = {**summary, **df_table[metrics].sum(), **s_ind, **s_us, **s_eu}"
   ]
  },
  {
   "cell_type": "code",
   "execution_count": 18,
   "id": "engaging-syndrome",
   "metadata": {
    "execution": {
     "iopub.execute_input": "2022-09-24T12:18:52.567909Z",
     "iopub.status.busy": "2022-09-24T12:18:52.567161Z",
     "iopub.status.idle": "2022-09-24T12:18:52.590370Z",
     "shell.execute_reply": "2022-09-24T12:18:52.589684Z"
    },
    "papermill": {
     "duration": 0.064783,
     "end_time": "2022-09-24T12:18:52.590525",
     "exception": false,
     "start_time": "2022-09-24T12:18:52.525742",
     "status": "completed"
    },
    "tags": []
   },
   "outputs": [],
   "source": [
    "#hide\n",
    "dft_ct_new_cases = dft_cases.groupby(COL_REGION)[dt_cols].sum().diff(axis=1).fillna(0).astype(int)"
   ]
  },
  {
   "cell_type": "code",
   "execution_count": 19,
   "id": "neutral-assignment",
   "metadata": {
    "execution": {
     "iopub.execute_input": "2022-09-24T12:18:52.668767Z",
     "iopub.status.busy": "2022-09-24T12:18:52.668043Z",
     "iopub.status.idle": "2022-09-24T12:18:52.670774Z",
     "shell.execute_reply": "2022-09-24T12:18:52.670103Z"
    },
    "papermill": {
     "duration": 0.04486,
     "end_time": "2022-09-24T12:18:52.670904",
     "exception": false,
     "start_time": "2022-09-24T12:18:52.626044",
     "status": "completed"
    },
    "tags": []
   },
   "outputs": [],
   "source": [
    "#hide\n",
    "everydaycases = dft_ct_new_cases.cumsum(axis=1)"
   ]
  },
  {
   "cell_type": "code",
   "execution_count": 20,
   "id": "parliamentary-calgary",
   "metadata": {
    "execution": {
     "iopub.execute_input": "2022-09-24T12:18:52.746446Z",
     "iopub.status.busy": "2022-09-24T12:18:52.745744Z",
     "iopub.status.idle": "2022-09-24T12:18:53.476819Z",
     "shell.execute_reply": "2022-09-24T12:18:53.475964Z"
    },
    "papermill": {
     "duration": 0.770666,
     "end_time": "2022-09-24T12:18:53.476999",
     "exception": false,
     "start_time": "2022-09-24T12:18:52.706333",
     "status": "completed"
    },
    "tags": []
   },
   "outputs": [],
   "source": [
    "#hide\n",
    "import pandas as pd\n",
    "import matplotlib.pyplot as plt\n",
    "import matplotlib.ticker as ticker\n",
    "import matplotlib.animation as animation\n",
    "from IPython.display import HTML"
   ]
  },
  {
   "cell_type": "code",
   "execution_count": 21,
   "id": "lasting-extraction",
   "metadata": {
    "execution": {
     "iopub.execute_input": "2022-09-24T12:18:53.552155Z",
     "iopub.status.busy": "2022-09-24T12:18:53.551467Z",
     "iopub.status.idle": "2022-09-24T12:18:53.562811Z",
     "shell.execute_reply": "2022-09-24T12:18:53.563394Z"
    },
    "papermill": {
     "duration": 0.051519,
     "end_time": "2022-09-24T12:18:53.563561",
     "exception": false,
     "start_time": "2022-09-24T12:18:53.512042",
     "status": "completed"
    },
    "tags": []
   },
   "outputs": [],
   "source": [
    "#hide\n",
    "t = everydaycases.stack()"
   ]
  },
  {
   "cell_type": "code",
   "execution_count": 22,
   "id": "premier-sleeve",
   "metadata": {
    "execution": {
     "iopub.execute_input": "2022-09-24T12:18:53.638570Z",
     "iopub.status.busy": "2022-09-24T12:18:53.637879Z",
     "iopub.status.idle": "2022-09-24T12:18:53.653314Z",
     "shell.execute_reply": "2022-09-24T12:18:53.652783Z"
    },
    "papermill": {
     "duration": 0.055266,
     "end_time": "2022-09-24T12:18:53.653447",
     "exception": false,
     "start_time": "2022-09-24T12:18:53.598181",
     "status": "completed"
    },
    "tags": []
   },
   "outputs": [],
   "source": [
    "#hide\n",
    "g = t.reset_index(['Country/Region'])"
   ]
  },
  {
   "cell_type": "code",
   "execution_count": 23,
   "id": "distributed-pittsburgh",
   "metadata": {
    "execution": {
     "iopub.execute_input": "2022-09-24T12:18:53.728123Z",
     "iopub.status.busy": "2022-09-24T12:18:53.727398Z",
     "iopub.status.idle": "2022-09-24T12:18:53.729699Z",
     "shell.execute_reply": "2022-09-24T12:18:53.730326Z"
    },
    "papermill": {
     "duration": 0.042224,
     "end_time": "2022-09-24T12:18:53.730473",
     "exception": false,
     "start_time": "2022-09-24T12:18:53.688249",
     "status": "completed"
    },
    "tags": []
   },
   "outputs": [],
   "source": [
    "#hide\n",
    "g.index.name = 'date'"
   ]
  },
  {
   "cell_type": "code",
   "execution_count": 24,
   "id": "naked-donor",
   "metadata": {
    "execution": {
     "iopub.execute_input": "2022-09-24T12:18:53.804987Z",
     "iopub.status.busy": "2022-09-24T12:18:53.804266Z",
     "iopub.status.idle": "2022-09-24T12:18:53.806876Z",
     "shell.execute_reply": "2022-09-24T12:18:53.806218Z"
    },
    "papermill": {
     "duration": 0.041734,
     "end_time": "2022-09-24T12:18:53.807008",
     "exception": false,
     "start_time": "2022-09-24T12:18:53.765274",
     "status": "completed"
    },
    "tags": []
   },
   "outputs": [],
   "source": [
    "# #hide\n",
    "# g = g.reset_index(['date'])"
   ]
  },
  {
   "cell_type": "code",
   "execution_count": 25,
   "id": "incomplete-mustang",
   "metadata": {
    "execution": {
     "iopub.execute_input": "2022-09-24T12:18:53.881871Z",
     "iopub.status.busy": "2022-09-24T12:18:53.881022Z",
     "iopub.status.idle": "2022-09-24T12:18:53.883014Z",
     "shell.execute_reply": "2022-09-24T12:18:53.883700Z"
    },
    "papermill": {
     "duration": 0.042051,
     "end_time": "2022-09-24T12:18:53.883877",
     "exception": false,
     "start_time": "2022-09-24T12:18:53.841826",
     "status": "completed"
    },
    "tags": []
   },
   "outputs": [],
   "source": [
    "#hide\n",
    "# g.head()"
   ]
  },
  {
   "cell_type": "code",
   "execution_count": 26,
   "id": "specific-kruger",
   "metadata": {
    "execution": {
     "iopub.execute_input": "2022-09-24T12:18:53.959696Z",
     "iopub.status.busy": "2022-09-24T12:18:53.958729Z",
     "iopub.status.idle": "2022-09-24T12:18:53.963108Z",
     "shell.execute_reply": "2022-09-24T12:18:53.962523Z"
    },
    "papermill": {
     "duration": 0.04362,
     "end_time": "2022-09-24T12:18:53.963238",
     "exception": false,
     "start_time": "2022-09-24T12:18:53.919618",
     "status": "completed"
    },
    "tags": []
   },
   "outputs": [],
   "source": [
    "#hide\n",
    "# g.columns = ['date','country','cases']"
   ]
  },
  {
   "cell_type": "code",
   "execution_count": 27,
   "id": "tender-conversion",
   "metadata": {
    "execution": {
     "iopub.execute_input": "2022-09-24T12:18:54.038431Z",
     "iopub.status.busy": "2022-09-24T12:18:54.037591Z",
     "iopub.status.idle": "2022-09-24T12:18:54.039662Z",
     "shell.execute_reply": "2022-09-24T12:18:54.040318Z"
    },
    "papermill": {
     "duration": 0.042398,
     "end_time": "2022-09-24T12:18:54.040491",
     "exception": false,
     "start_time": "2022-09-24T12:18:53.998093",
     "status": "completed"
    },
    "tags": []
   },
   "outputs": [],
   "source": [
    "#hide\n",
    "# g['continent'] = g.country"
   ]
  },
  {
   "cell_type": "code",
   "execution_count": 28,
   "id": "substantial-wilderness",
   "metadata": {
    "execution": {
     "iopub.execute_input": "2022-09-24T12:18:54.116038Z",
     "iopub.status.busy": "2022-09-24T12:18:54.115231Z",
     "iopub.status.idle": "2022-09-24T12:18:54.118117Z",
     "shell.execute_reply": "2022-09-24T12:18:54.117521Z"
    },
    "papermill": {
     "duration": 0.042375,
     "end_time": "2022-09-24T12:18:54.118249",
     "exception": false,
     "start_time": "2022-09-24T12:18:54.075874",
     "status": "completed"
    },
    "tags": []
   },
   "outputs": [],
   "source": [
    "#hide\n",
    "# cols = list(g.columns.values)"
   ]
  },
  {
   "cell_type": "code",
   "execution_count": 29,
   "id": "solved-farming",
   "metadata": {
    "execution": {
     "iopub.execute_input": "2022-09-24T12:18:54.192863Z",
     "iopub.status.busy": "2022-09-24T12:18:54.192143Z",
     "iopub.status.idle": "2022-09-24T12:18:54.194921Z",
     "shell.execute_reply": "2022-09-24T12:18:54.194251Z"
    },
    "papermill": {
     "duration": 0.041689,
     "end_time": "2022-09-24T12:18:54.195049",
     "exception": false,
     "start_time": "2022-09-24T12:18:54.153360",
     "status": "completed"
    },
    "tags": []
   },
   "outputs": [],
   "source": [
    "#hide\n",
    "# cols.insert(0, cols.pop())"
   ]
  },
  {
   "cell_type": "code",
   "execution_count": 30,
   "id": "executed-adoption",
   "metadata": {
    "execution": {
     "iopub.execute_input": "2022-09-24T12:18:54.269164Z",
     "iopub.status.busy": "2022-09-24T12:18:54.268461Z",
     "iopub.status.idle": "2022-09-24T12:18:54.270917Z",
     "shell.execute_reply": "2022-09-24T12:18:54.271465Z"
    },
    "papermill": {
     "duration": 0.041765,
     "end_time": "2022-09-24T12:18:54.271617",
     "exception": false,
     "start_time": "2022-09-24T12:18:54.229852",
     "status": "completed"
    },
    "tags": []
   },
   "outputs": [],
   "source": [
    "#hide\n",
    "# g = g[cols]"
   ]
  },
  {
   "cell_type": "code",
   "execution_count": 31,
   "id": "subject-dublin",
   "metadata": {
    "execution": {
     "iopub.execute_input": "2022-09-24T12:18:54.346419Z",
     "iopub.status.busy": "2022-09-24T12:18:54.345531Z",
     "iopub.status.idle": "2022-09-24T12:18:54.350239Z",
     "shell.execute_reply": "2022-09-24T12:18:54.349686Z"
    },
    "papermill": {
     "duration": 0.043918,
     "end_time": "2022-09-24T12:18:54.350366",
     "exception": false,
     "start_time": "2022-09-24T12:18:54.306448",
     "status": "completed"
    },
    "tags": []
   },
   "outputs": [],
   "source": [
    "#hide\n",
    "# g['continent'] = g['continent'].map(mapping['map.continent'])"
   ]
  },
  {
   "cell_type": "code",
   "execution_count": 32,
   "id": "freelance-scout",
   "metadata": {
    "execution": {
     "iopub.execute_input": "2022-09-24T12:18:54.425081Z",
     "iopub.status.busy": "2022-09-24T12:18:54.424255Z",
     "iopub.status.idle": "2022-09-24T12:18:54.426255Z",
     "shell.execute_reply": "2022-09-24T12:18:54.426904Z"
    },
    "papermill": {
     "duration": 0.041884,
     "end_time": "2022-09-24T12:18:54.427067",
     "exception": false,
     "start_time": "2022-09-24T12:18:54.385183",
     "status": "completed"
    },
    "tags": []
   },
   "outputs": [],
   "source": [
    "#hide\n",
    "# g.head()"
   ]
  },
  {
   "cell_type": "code",
   "execution_count": 33,
   "id": "limited-engine",
   "metadata": {
    "execution": {
     "iopub.execute_input": "2022-09-24T12:18:54.501706Z",
     "iopub.status.busy": "2022-09-24T12:18:54.500876Z",
     "iopub.status.idle": "2022-09-24T12:18:54.502827Z",
     "shell.execute_reply": "2022-09-24T12:18:54.503518Z"
    },
    "papermill": {
     "duration": 0.041792,
     "end_time": "2022-09-24T12:18:54.503692",
     "exception": false,
     "start_time": "2022-09-24T12:18:54.461900",
     "status": "completed"
    },
    "tags": []
   },
   "outputs": [],
   "source": [
    "# hide\n",
    "# g['date'] = g['date'].astype('datetime64[ns]')"
   ]
  },
  {
   "cell_type": "code",
   "execution_count": 34,
   "id": "sophisticated-supervisor",
   "metadata": {
    "execution": {
     "iopub.execute_input": "2022-09-24T12:18:54.579156Z",
     "iopub.status.busy": "2022-09-24T12:18:54.578425Z",
     "iopub.status.idle": "2022-09-24T12:18:54.583145Z",
     "shell.execute_reply": "2022-09-24T12:18:54.582555Z"
    },
    "papermill": {
     "duration": 0.04383,
     "end_time": "2022-09-24T12:18:54.583278",
     "exception": false,
     "start_time": "2022-09-24T12:18:54.539448",
     "status": "completed"
    },
    "tags": []
   },
   "outputs": [],
   "source": [
    "#hide\n",
    "# g['date'] = g.date.dt.dayofyear"
   ]
  },
  {
   "cell_type": "code",
   "execution_count": 35,
   "id": "inside-dubai",
   "metadata": {
    "execution": {
     "iopub.execute_input": "2022-09-24T12:18:54.658655Z",
     "iopub.status.busy": "2022-09-24T12:18:54.657806Z",
     "iopub.status.idle": "2022-09-24T12:18:54.659918Z",
     "shell.execute_reply": "2022-09-24T12:18:54.660532Z"
    },
    "papermill": {
     "duration": 0.042352,
     "end_time": "2022-09-24T12:18:54.660706",
     "exception": false,
     "start_time": "2022-09-24T12:18:54.618354",
     "status": "completed"
    },
    "tags": []
   },
   "outputs": [],
   "source": [
    "#hide\n",
    "# g = g.rename(columns= {'continent':'group','country':'name','cases':'value'})"
   ]
  },
  {
   "cell_type": "code",
   "execution_count": 36,
   "id": "fleet-motorcycle",
   "metadata": {
    "execution": {
     "iopub.execute_input": "2022-09-24T12:18:54.735852Z",
     "iopub.status.busy": "2022-09-24T12:18:54.734788Z",
     "iopub.status.idle": "2022-09-24T12:18:54.738869Z",
     "shell.execute_reply": "2022-09-24T12:18:54.738317Z"
    },
    "papermill": {
     "duration": 0.043377,
     "end_time": "2022-09-24T12:18:54.739257",
     "exception": false,
     "start_time": "2022-09-24T12:18:54.695880",
     "status": "completed"
    },
    "tags": []
   },
   "outputs": [],
   "source": [
    "#hide\n",
    "# cols = ['name','group','day','value']"
   ]
  },
  {
   "cell_type": "code",
   "execution_count": 37,
   "id": "continued-sleeping",
   "metadata": {
    "execution": {
     "iopub.execute_input": "2022-09-24T12:18:54.814795Z",
     "iopub.status.busy": "2022-09-24T12:18:54.813957Z",
     "iopub.status.idle": "2022-09-24T12:18:54.816612Z",
     "shell.execute_reply": "2022-09-24T12:18:54.817103Z"
    },
    "papermill": {
     "duration": 0.042225,
     "end_time": "2022-09-24T12:18:54.817251",
     "exception": false,
     "start_time": "2022-09-24T12:18:54.775026",
     "status": "completed"
    },
    "tags": []
   },
   "outputs": [],
   "source": [
    "#hide\n",
    "# g.rename(columns= {'date':'day'},inplace = True)"
   ]
  },
  {
   "cell_type": "code",
   "execution_count": 38,
   "id": "major-fight",
   "metadata": {
    "execution": {
     "iopub.execute_input": "2022-09-24T12:18:54.892395Z",
     "iopub.status.busy": "2022-09-24T12:18:54.891686Z",
     "iopub.status.idle": "2022-09-24T12:18:54.895344Z",
     "shell.execute_reply": "2022-09-24T12:18:54.894759Z"
    },
    "papermill": {
     "duration": 0.043435,
     "end_time": "2022-09-24T12:18:54.895474",
     "exception": false,
     "start_time": "2022-09-24T12:18:54.852039",
     "status": "completed"
    },
    "tags": []
   },
   "outputs": [],
   "source": [
    "#hide\n",
    "# g = g[cols]"
   ]
  },
  {
   "cell_type": "code",
   "execution_count": 39,
   "id": "structured-mobile",
   "metadata": {
    "execution": {
     "iopub.execute_input": "2022-09-24T12:18:54.969634Z",
     "iopub.status.busy": "2022-09-24T12:18:54.968846Z",
     "iopub.status.idle": "2022-09-24T12:18:54.970757Z",
     "shell.execute_reply": "2022-09-24T12:18:54.971333Z"
    },
    "papermill": {
     "duration": 0.041376,
     "end_time": "2022-09-24T12:18:54.971488",
     "exception": false,
     "start_time": "2022-09-24T12:18:54.930112",
     "status": "completed"
    },
    "tags": []
   },
   "outputs": [],
   "source": [
    "# #hide\n",
    "# g = g[g.group.notna()]"
   ]
  },
  {
   "cell_type": "code",
   "execution_count": 40,
   "id": "determined-closing",
   "metadata": {
    "execution": {
     "iopub.execute_input": "2022-09-24T12:18:55.048113Z",
     "iopub.status.busy": "2022-09-24T12:18:55.047228Z",
     "iopub.status.idle": "2022-09-24T12:18:55.049304Z",
     "shell.execute_reply": "2022-09-24T12:18:55.049946Z"
    },
    "papermill": {
     "duration": 0.042562,
     "end_time": "2022-09-24T12:18:55.050093",
     "exception": false,
     "start_time": "2022-09-24T12:18:55.007531",
     "status": "completed"
    },
    "tags": []
   },
   "outputs": [],
   "source": [
    "# #hide\n",
    "# colors = dict(zip(\n",
    "#     [\"Oceania\", \"Europe\", \"Asia\", \"South America\", \"Middle East\", \"North America\", \"Africa\"],\n",
    "#     [\"#adb0ff\", \"#ffb3ff\", \"#90d595\", \"#e48381\", \"#aafbff\", \"#f7bb5f\", \"#eafb50\"]\n",
    "# ))\n",
    "# group_lk = g.set_index('name')['group'].to_dict()"
   ]
  },
  {
   "cell_type": "code",
   "execution_count": null,
   "id": "gross-drinking",
   "metadata": {
    "papermill": {
     "duration": 0.035192,
     "end_time": "2022-09-24T12:18:55.120285",
     "exception": false,
     "start_time": "2022-09-24T12:18:55.085093",
     "status": "completed"
    },
    "tags": []
   },
   "outputs": [],
   "source": []
  },
  {
   "cell_type": "code",
   "execution_count": 41,
   "id": "subject-macintosh",
   "metadata": {
    "execution": {
     "iopub.execute_input": "2022-09-24T12:18:55.196986Z",
     "iopub.status.busy": "2022-09-24T12:18:55.196253Z",
     "iopub.status.idle": "2022-09-24T12:18:55.198753Z",
     "shell.execute_reply": "2022-09-24T12:18:55.199276Z"
    },
    "papermill": {
     "duration": 0.044042,
     "end_time": "2022-09-24T12:18:55.199461",
     "exception": false,
     "start_time": "2022-09-24T12:18:55.155419",
     "status": "completed"
    },
    "tags": []
   },
   "outputs": [],
   "source": [
    "# #hide\n",
    "# fig, ax = plt.subplots(figsize=(15, 8))\n",
    "\n",
    "# def draw_barchart(current_day):\n",
    "#     dff = g[g['day'].eq(current_day)].sort_values(by='value', ascending=True).tail(10)\n",
    "#     ax.clear()\n",
    "#     ax.barh(dff['name'], dff['value'], color=[colors[group_lk[x]] for x in dff['name']])\n",
    "#     dx = dff['value'].max() / 200\n",
    "    \n",
    "#     for i, (value, name) in enumerate(zip(dff['value'], dff['name'])):\n",
    "#         ax.text(value-dx, i,     name,           size=14, weight=600, ha='right', va='bottom')\n",
    "#         ax.text(value-dx, i-.25, group_lk[name], size=10, color='#444444', ha='right', va='baseline')\n",
    "#         ax.text(value+dx, i,     f'{value:,.0f}',  size=14, ha='left',  va='center')\n",
    "#     ax.text(1, 0.4, current_day, transform=ax.transAxes, color='#777777', size=46, ha='right', weight=800)\n",
    "#     ax.text(0, 1.06, 'Population (thousands)', transform=ax.transAxes, size=12, color='#777777')\n",
    "#     ax.xaxis.set_major_formatter(ticker.StrMethodFormatter('{x:,.0f}'))\n",
    "#     ax.xaxis.set_ticks_position('top')\n",
    "#     ax.tick_params(axis='x', colors='#777777', labelsize=12)\n",
    "#     ax.set_yticks([])\n",
    "#     ax.margins(0, 0.01)\n",
    "#     ax.grid(which='major', axis='x', linestyle='-')\n",
    "#     ax.set_axisbelow(True)\n",
    "    \n",
    "#     ax.text(0, 1.15, 'Coronavirus',\n",
    "#             transform=ax.transAxes, size=24, weight=600, ha='left', va='top')\n",
    "# #     ax.text(1, 0, 'by @pratapvardhan; credit @jburnmurdoch', transform=ax.transAxes, color='#777777', ha='right',\n",
    "# #             bbox=dict(facecolor='white', alpha=0.8, edgecolor='white'))\n",
    "#     plt.box(False)"
   ]
  },
  {
   "cell_type": "code",
   "execution_count": 42,
   "id": "sexual-wages",
   "metadata": {
    "execution": {
     "iopub.execute_input": "2022-09-24T12:18:55.274278Z",
     "iopub.status.busy": "2022-09-24T12:18:55.273419Z",
     "iopub.status.idle": "2022-09-24T12:18:55.275401Z",
     "shell.execute_reply": "2022-09-24T12:18:55.275970Z"
    },
    "papermill": {
     "duration": 0.041729,
     "end_time": "2022-09-24T12:18:55.276179",
     "exception": false,
     "start_time": "2022-09-24T12:18:55.234450",
     "status": "completed"
    },
    "tags": []
   },
   "outputs": [],
   "source": [
    "# #hide_input\n",
    "# fig, ax = plt.subplots(figsize=(15, 8))\n",
    "# animator = animation.FuncAnimation(fig, draw_barchart, frames=range(g.day.values.min(), g.day.values.max()))\n",
    "# HTML(animator.to_jshtml())\n",
    "# # or use animator.to_html5_video() or animator.save() "
   ]
  },
  {
   "cell_type": "code",
   "execution_count": null,
   "id": "australian-container",
   "metadata": {
    "papermill": {
     "duration": 0.040167,
     "end_time": "2022-09-24T12:18:55.365054",
     "exception": false,
     "start_time": "2022-09-24T12:18:55.324887",
     "status": "completed"
    },
    "tags": []
   },
   "outputs": [],
   "source": []
  },
  {
   "cell_type": "code",
   "execution_count": null,
   "id": "mediterranean-pontiac",
   "metadata": {
    "papermill": {
     "duration": 0.041755,
     "end_time": "2022-09-24T12:18:55.445966",
     "exception": false,
     "start_time": "2022-09-24T12:18:55.404211",
     "status": "completed"
    },
    "tags": []
   },
   "outputs": [],
   "source": []
  },
  {
   "cell_type": "code",
   "execution_count": null,
   "id": "aging-legislature",
   "metadata": {
    "papermill": {
     "duration": 0.036725,
     "end_time": "2022-09-24T12:18:55.521689",
     "exception": false,
     "start_time": "2022-09-24T12:18:55.484964",
     "status": "completed"
    },
    "tags": []
   },
   "outputs": [],
   "source": []
  }
 ],
 "metadata": {
  "kernelspec": {
   "display_name": "Python 3",
   "language": "python",
   "name": "python3"
  },
  "language_info": {
   "codemirror_mode": {
    "name": "ipython",
    "version": 3
   },
   "file_extension": ".py",
   "mimetype": "text/x-python",
   "name": "python",
   "nbconvert_exporter": "python",
   "pygments_lexer": "ipython3",
   "version": "3.6.15"
  },
  "papermill": {
   "duration": 7.253815,
   "end_time": "2022-09-24T12:18:55.977030",
   "environment_variables": {},
   "exception": null,
   "input_path": "2020-03-21-covid19exp.ipynb",
   "output_path": "2020-03-21-covid19exp.ipynb",
   "parameters": {},
   "start_time": "2022-09-24T12:18:48.723215",
   "version": "2.0.0"
  }
 },
 "nbformat": 4,
 "nbformat_minor": 5
}