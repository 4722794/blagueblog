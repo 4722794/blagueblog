{
 "cells": [
  {
   "cell_type": "markdown",
   "id": "muslim-click",
   "metadata": {
    "papermill": {
     "duration": 0.040292,
     "end_time": "2021-12-06T00:26:03.169746",
     "exception": false,
     "start_time": "2021-12-06T00:26:03.129454",
     "status": "completed"
    },
    "tags": []
   },
   "source": [
    "# COVID-19 Case Race\n",
    "> A race chart to see rising cases around the world\n",
    "\n",
    "- author: Hargun Oberoi\n",
    "- image: images/covid-overview.png\n",
    "- hide: false\n",
    "- badges: false"
   ]
  },
  {
   "cell_type": "code",
   "execution_count": 1,
   "id": "proof-material",
   "metadata": {
    "execution": {
     "iopub.execute_input": "2021-12-06T00:26:03.250373Z",
     "iopub.status.busy": "2021-12-06T00:26:03.249658Z",
     "iopub.status.idle": "2021-12-06T00:26:03.603068Z",
     "shell.execute_reply": "2021-12-06T00:26:03.602427Z"
    },
    "papermill": {
     "duration": 0.397479,
     "end_time": "2021-12-06T00:26:03.603227",
     "exception": false,
     "start_time": "2021-12-06T00:26:03.205748",
     "status": "completed"
    },
    "tags": []
   },
   "outputs": [],
   "source": [
    "#hide\n",
    "import numpy as np\n",
    "import pandas as pd\n",
    "from jinja2 import Template\n",
    "from IPython.display import HTML"
   ]
  },
  {
   "cell_type": "code",
   "execution_count": 2,
   "id": "developed-terminology",
   "metadata": {
    "execution": {
     "iopub.execute_input": "2021-12-06T00:26:03.679264Z",
     "iopub.status.busy": "2021-12-06T00:26:03.678583Z",
     "iopub.status.idle": "2021-12-06T00:26:03.680503Z",
     "shell.execute_reply": "2021-12-06T00:26:03.680979Z"
    },
    "papermill": {
     "duration": 0.04231,
     "end_time": "2021-12-06T00:26:03.681136",
     "exception": false,
     "start_time": "2021-12-06T00:26:03.638826",
     "status": "completed"
    },
    "tags": []
   },
   "outputs": [],
   "source": [
    "#hide\n",
    "\n",
    "# FETCH\n",
    "base_url = 'https://raw.githubusercontent.com/pratapvardhan/notebooks/master/covid19/'\n",
    "paths = {\n",
    "    'mapping': base_url + 'mapping_countries.csv',\n",
    "    'overview': base_url + 'overview.tpl'\n",
    "}"
   ]
  },
  {
   "cell_type": "code",
   "execution_count": 3,
   "id": "dynamic-saver",
   "metadata": {
    "execution": {
     "iopub.execute_input": "2021-12-06T00:26:03.758587Z",
     "iopub.status.busy": "2021-12-06T00:26:03.756502Z",
     "iopub.status.idle": "2021-12-06T00:26:03.761417Z",
     "shell.execute_reply": "2021-12-06T00:26:03.761935Z"
    },
    "papermill": {
     "duration": 0.046799,
     "end_time": "2021-12-06T00:26:03.762063",
     "exception": false,
     "start_time": "2021-12-06T00:26:03.715264",
     "status": "completed"
    },
    "tags": []
   },
   "outputs": [
    {
     "data": {
      "text/plain": [
       "'https://raw.githubusercontent.com/pratapvardhan/notebooks/master/covid19/mapping_countries.csv'"
      ]
     },
     "execution_count": 3,
     "metadata": {},
     "output_type": "execute_result"
    }
   ],
   "source": [
    "#hide\n",
    "paths['mapping']"
   ]
  },
  {
   "cell_type": "code",
   "execution_count": 4,
   "id": "urban-software",
   "metadata": {
    "execution": {
     "iopub.execute_input": "2021-12-06T00:26:03.838595Z",
     "iopub.status.busy": "2021-12-06T00:26:03.837928Z",
     "iopub.status.idle": "2021-12-06T00:26:03.840912Z",
     "shell.execute_reply": "2021-12-06T00:26:03.840388Z"
    },
    "papermill": {
     "duration": 0.042203,
     "end_time": "2021-12-06T00:26:03.841034",
     "exception": false,
     "start_time": "2021-12-06T00:26:03.798831",
     "status": "completed"
    },
    "tags": []
   },
   "outputs": [],
   "source": [
    "#hide\n",
    "def get_mappings(url):\n",
    "    df = pd.read_csv(url)\n",
    "    return {\n",
    "        'df': df,\n",
    "        'replace.country': dict(df.dropna(subset=['Name']).set_index('Country')['Name']),\n",
    "        'map.continent': dict(df.set_index('Name')['Continent'])\n",
    "    }"
   ]
  },
  {
   "cell_type": "code",
   "execution_count": 5,
   "id": "intimate-machinery",
   "metadata": {
    "execution": {
     "iopub.execute_input": "2021-12-06T00:26:03.915619Z",
     "iopub.status.busy": "2021-12-06T00:26:03.914979Z",
     "iopub.status.idle": "2021-12-06T00:26:03.955159Z",
     "shell.execute_reply": "2021-12-06T00:26:03.954599Z"
    },
    "papermill": {
     "duration": 0.079331,
     "end_time": "2021-12-06T00:26:03.955297",
     "exception": false,
     "start_time": "2021-12-06T00:26:03.875966",
     "status": "completed"
    },
    "tags": []
   },
   "outputs": [],
   "source": [
    "#hide\n",
    "mapping = get_mappings(paths['mapping'])"
   ]
  },
  {
   "cell_type": "code",
   "execution_count": 6,
   "id": "certified-tactics",
   "metadata": {
    "execution": {
     "iopub.execute_input": "2021-12-06T00:26:04.032871Z",
     "iopub.status.busy": "2021-12-06T00:26:04.032220Z",
     "iopub.status.idle": "2021-12-06T00:26:04.034302Z",
     "shell.execute_reply": "2021-12-06T00:26:04.034796Z"
    },
    "papermill": {
     "duration": 0.044642,
     "end_time": "2021-12-06T00:26:04.034948",
     "exception": false,
     "start_time": "2021-12-06T00:26:03.990306",
     "status": "completed"
    },
    "tags": []
   },
   "outputs": [],
   "source": [
    "#hide\n",
    "def get_template(path):\n",
    "    from urllib.parse import urlparse\n",
    "    if bool(urlparse(path).netloc):\n",
    "        from urllib.request import urlopen\n",
    "        return urlopen(path).read().decode('utf8')\n",
    "    return open(path).read()"
   ]
  },
  {
   "cell_type": "code",
   "execution_count": 7,
   "id": "realistic-blast",
   "metadata": {
    "execution": {
     "iopub.execute_input": "2021-12-06T00:26:04.128790Z",
     "iopub.status.busy": "2021-12-06T00:26:04.128147Z",
     "iopub.status.idle": "2021-12-06T00:26:04.130824Z",
     "shell.execute_reply": "2021-12-06T00:26:04.130294Z"
    },
    "papermill": {
     "duration": 0.051261,
     "end_time": "2021-12-06T00:26:04.130955",
     "exception": false,
     "start_time": "2021-12-06T00:26:04.079694",
     "status": "completed"
    },
    "tags": []
   },
   "outputs": [],
   "source": [
    "#hide\n",
    "def get_frame(name):\n",
    "    url = (\n",
    "        'https://raw.githubusercontent.com/CSSEGISandData/COVID-19/master/csse_covid_19_data/'\n",
    "        f'csse_covid_19_time_series/time_series_covid19_{name}_global.csv')\n",
    "    df = pd.read_csv(url)\n",
    "    # rename countries\n",
    "    df['Country/Region'] = df['Country/Region'].replace(mapping['replace.country'])\n",
    "    return df"
   ]
  },
  {
   "cell_type": "code",
   "execution_count": 8,
   "id": "affiliated-characterization",
   "metadata": {
    "execution": {
     "iopub.execute_input": "2021-12-06T00:26:04.209633Z",
     "iopub.status.busy": "2021-12-06T00:26:04.209010Z",
     "iopub.status.idle": "2021-12-06T00:26:04.211964Z",
     "shell.execute_reply": "2021-12-06T00:26:04.212447Z"
    },
    "papermill": {
     "duration": 0.044583,
     "end_time": "2021-12-06T00:26:04.212577",
     "exception": false,
     "start_time": "2021-12-06T00:26:04.167994",
     "status": "completed"
    },
    "tags": []
   },
   "outputs": [],
   "source": [
    "#hide\n",
    "def get_dates(df):\n",
    "    dt_cols = df.columns[~df.columns.isin(['Province/State', 'Country/Region', 'Lat', 'Long'])]\n",
    "    LAST_DATE_I = -1\n",
    "    # sometimes last column may be empty, then go backwards\n",
    "    for i in range(-1, -len(dt_cols), -1):\n",
    "        if not df[dt_cols[i]].fillna(0).eq(0).all():\n",
    "            LAST_DATE_I = i\n",
    "            break\n",
    "    return LAST_DATE_I, dt_cols"
   ]
  },
  {
   "cell_type": "code",
   "execution_count": 9,
   "id": "recent-optimization",
   "metadata": {
    "execution": {
     "iopub.execute_input": "2021-12-06T00:26:04.291224Z",
     "iopub.status.busy": "2021-12-06T00:26:04.290539Z",
     "iopub.status.idle": "2021-12-06T00:26:04.715445Z",
     "shell.execute_reply": "2021-12-06T00:26:04.714699Z"
    },
    "papermill": {
     "duration": 0.467002,
     "end_time": "2021-12-06T00:26:04.715588",
     "exception": false,
     "start_time": "2021-12-06T00:26:04.248586",
     "status": "completed"
    },
    "tags": []
   },
   "outputs": [],
   "source": [
    "#hide\n",
    "COL_REGION = 'Country/Region'\n",
    "# Confirmed, Recovered, Deaths\n",
    "df = get_frame('confirmed')\n",
    "# dft_: timeseries, dfc_: today country agg\n",
    "dft_cases = df\n",
    "dft_deaths = get_frame('deaths')\n",
    "dft_recovered = get_frame('recovered')\n",
    "LAST_DATE_I, dt_cols = get_dates(df)"
   ]
  },
  {
   "cell_type": "code",
   "execution_count": 10,
   "id": "absolute-copper",
   "metadata": {
    "execution": {
     "iopub.execute_input": "2021-12-06T00:26:04.793307Z",
     "iopub.status.busy": "2021-12-06T00:26:04.792655Z",
     "iopub.status.idle": "2021-12-06T00:26:04.794838Z",
     "shell.execute_reply": "2021-12-06T00:26:04.795356Z"
    },
    "papermill": {
     "duration": 0.04321,
     "end_time": "2021-12-06T00:26:04.795507",
     "exception": false,
     "start_time": "2021-12-06T00:26:04.752297",
     "status": "completed"
    },
    "tags": []
   },
   "outputs": [],
   "source": [
    "#hide\n",
    "LAST_DATE_I, dt_cols = get_dates(df)\n",
    "dt_today =dt_cols[LAST_DATE_I]\n",
    "# dt_5day = dt_cols[LAST_DATE_I - 5]\n",
    "dt_yday = dt_cols[LAST_DATE_I - 1]"
   ]
  },
  {
   "cell_type": "code",
   "execution_count": 11,
   "id": "restricted-sheriff",
   "metadata": {
    "execution": {
     "iopub.execute_input": "2021-12-06T00:26:04.869340Z",
     "iopub.status.busy": "2021-12-06T00:26:04.868636Z",
     "iopub.status.idle": "2021-12-06T00:26:04.876746Z",
     "shell.execute_reply": "2021-12-06T00:26:04.877231Z"
    },
    "papermill": {
     "duration": 0.047903,
     "end_time": "2021-12-06T00:26:04.877365",
     "exception": false,
     "start_time": "2021-12-06T00:26:04.829462",
     "status": "completed"
    },
    "tags": []
   },
   "outputs": [],
   "source": [
    "#hide\n",
    "dfc_cases = dft_cases.groupby(COL_REGION)[dt_today].sum()\n",
    "dfc_deaths = dft_deaths.groupby(COL_REGION)[dt_today].sum()\n",
    "# dfp_cases = dft_cases.groupby(COL_REGION)[dt_5day].sum()\n",
    "# dfp_deaths = dft_deaths.groupby(COL_REGION)[dt_5day].sum()\n",
    "dfp_cases = dft_cases.groupby(COL_REGION)[dt_yday].sum()\n",
    "dfp_deaths = dft_deaths.groupby(COL_REGION)[dt_yday].sum()"
   ]
  },
  {
   "cell_type": "code",
   "execution_count": 12,
   "id": "deluxe-hepatitis",
   "metadata": {
    "execution": {
     "iopub.execute_input": "2021-12-06T00:26:04.953091Z",
     "iopub.status.busy": "2021-12-06T00:26:04.952437Z",
     "iopub.status.idle": "2021-12-06T00:26:04.956792Z",
     "shell.execute_reply": "2021-12-06T00:26:04.957567Z"
    },
    "papermill": {
     "duration": 0.046072,
     "end_time": "2021-12-06T00:26:04.957698",
     "exception": false,
     "start_time": "2021-12-06T00:26:04.911626",
     "status": "completed"
    },
    "tags": []
   },
   "outputs": [],
   "source": [
    "#hide\n",
    "df_table = (pd.DataFrame(dict(Cases = dfc_cases, Deaths = dfc_deaths, PCases = dfp_cases, PDeaths = dfp_deaths))\n",
    "            .sort_values(by = ['Cases','Deaths'], ascending = [False, False])\n",
    "            .reset_index())"
   ]
  },
  {
   "cell_type": "code",
   "execution_count": 13,
   "id": "educational-chancellor",
   "metadata": {
    "execution": {
     "iopub.execute_input": "2021-12-06T00:26:05.051398Z",
     "iopub.status.busy": "2021-12-06T00:26:05.050663Z",
     "iopub.status.idle": "2021-12-06T00:26:05.063416Z",
     "shell.execute_reply": "2021-12-06T00:26:05.063958Z"
    },
    "papermill": {
     "duration": 0.071565,
     "end_time": "2021-12-06T00:26:05.064130",
     "exception": false,
     "start_time": "2021-12-06T00:26:04.992565",
     "status": "completed"
    },
    "tags": []
   },
   "outputs": [
    {
     "data": {
      "text/html": [
       "<div>\n",
       "<style scoped>\n",
       "    .dataframe tbody tr th:only-of-type {\n",
       "        vertical-align: middle;\n",
       "    }\n",
       "\n",
       "    .dataframe tbody tr th {\n",
       "        vertical-align: top;\n",
       "    }\n",
       "\n",
       "    .dataframe thead th {\n",
       "        text-align: right;\n",
       "    }\n",
       "</style>\n",
       "<table border=\"1\" class=\"dataframe\">\n",
       "  <thead>\n",
       "    <tr style=\"text-align: right;\">\n",
       "      <th></th>\n",
       "      <th>Country/Region</th>\n",
       "      <th>Cases</th>\n",
       "      <th>Deaths</th>\n",
       "      <th>PCases</th>\n",
       "      <th>PDeaths</th>\n",
       "      <th>Cases (+)</th>\n",
       "      <th>Deaths (+)</th>\n",
       "      <th>Fatality Rate</th>\n",
       "      <th>Continent</th>\n",
       "    </tr>\n",
       "  </thead>\n",
       "  <tbody>\n",
       "    <tr>\n",
       "      <th>0</th>\n",
       "      <td>US</td>\n",
       "      <td>49051140</td>\n",
       "      <td>788202</td>\n",
       "      <td>48990127</td>\n",
       "      <td>787695</td>\n",
       "      <td>61013</td>\n",
       "      <td>507</td>\n",
       "      <td>1.61</td>\n",
       "      <td>North America</td>\n",
       "    </tr>\n",
       "    <tr>\n",
       "      <th>1</th>\n",
       "      <td>India</td>\n",
       "      <td>34624360</td>\n",
       "      <td>470530</td>\n",
       "      <td>34624360</td>\n",
       "      <td>470530</td>\n",
       "      <td>0</td>\n",
       "      <td>0</td>\n",
       "      <td>1.36</td>\n",
       "      <td>Asia</td>\n",
       "    </tr>\n",
       "    <tr>\n",
       "      <th>2</th>\n",
       "      <td>Brazil</td>\n",
       "      <td>22138247</td>\n",
       "      <td>615570</td>\n",
       "      <td>22129409</td>\n",
       "      <td>615400</td>\n",
       "      <td>8838</td>\n",
       "      <td>170</td>\n",
       "      <td>2.78</td>\n",
       "      <td>South America</td>\n",
       "    </tr>\n",
       "    <tr>\n",
       "      <th>3</th>\n",
       "      <td>United Kingdom</td>\n",
       "      <td>10479955</td>\n",
       "      <td>146001</td>\n",
       "      <td>10438381</td>\n",
       "      <td>145874</td>\n",
       "      <td>41574</td>\n",
       "      <td>127</td>\n",
       "      <td>1.39</td>\n",
       "      <td>Europe</td>\n",
       "    </tr>\n",
       "    <tr>\n",
       "      <th>4</th>\n",
       "      <td>Russia</td>\n",
       "      <td>9598283</td>\n",
       "      <td>274648</td>\n",
       "      <td>9565909</td>\n",
       "      <td>273463</td>\n",
       "      <td>32374</td>\n",
       "      <td>1185</td>\n",
       "      <td>2.86</td>\n",
       "      <td>Europe</td>\n",
       "    </tr>\n",
       "  </tbody>\n",
       "</table>\n",
       "</div>"
      ],
      "text/plain": [
       "   Country/Region     Cases  Deaths    PCases  PDeaths  Cases (+)  Deaths (+)  \\\n",
       "0              US  49051140  788202  48990127   787695      61013         507   \n",
       "1           India  34624360  470530  34624360   470530          0           0   \n",
       "2          Brazil  22138247  615570  22129409   615400       8838         170   \n",
       "3  United Kingdom  10479955  146001  10438381   145874      41574         127   \n",
       "4          Russia   9598283  274648   9565909   273463      32374        1185   \n",
       "\n",
       "   Fatality Rate      Continent  \n",
       "0           1.61  North America  \n",
       "1           1.36           Asia  \n",
       "2           2.78  South America  \n",
       "3           1.39         Europe  \n",
       "4           2.86         Europe  "
      ]
     },
     "execution_count": 13,
     "metadata": {},
     "output_type": "execute_result"
    }
   ],
   "source": [
    "#hide\n",
    "for c in 'Cases, Deaths'.split(', '):\n",
    "    df_table[f'{c} (+)'] = (df_table[c] - df_table[f'P{c}']).clip(0)\n",
    "    #Clip ça veut dire, les chiffres negatif sont interdit\n",
    "df_table['Fatality Rate'] = (100* df_table['Deaths']/ df_table['Cases']).round(2)\n",
    "df_table['Continent'] = df_table['Country/Region'].map(mapping['map.continent'])\n",
    "df_table.head(5)"
   ]
  },
  {
   "cell_type": "code",
   "execution_count": 14,
   "id": "aboriginal-bulgaria",
   "metadata": {
    "execution": {
     "iopub.execute_input": "2021-12-06T00:26:05.142707Z",
     "iopub.status.busy": "2021-12-06T00:26:05.142090Z",
     "iopub.status.idle": "2021-12-06T00:26:05.144164Z",
     "shell.execute_reply": "2021-12-06T00:26:05.144724Z"
    },
    "papermill": {
     "duration": 0.042754,
     "end_time": "2021-12-06T00:26:05.144930",
     "exception": false,
     "start_time": "2021-12-06T00:26:05.102176",
     "status": "completed"
    },
    "tags": []
   },
   "outputs": [],
   "source": [
    "#hide\n",
    "#delete problematic countries from table\n",
    "df_table = df_table[~df_table['Country/Region'].isin(['Cape Verde', 'Cruise Ship', 'Kosovo'])]"
   ]
  },
  {
   "cell_type": "code",
   "execution_count": 15,
   "id": "fantastic-effect",
   "metadata": {
    "execution": {
     "iopub.execute_input": "2021-12-06T00:26:05.222742Z",
     "iopub.status.busy": "2021-12-06T00:26:05.222047Z",
     "iopub.status.idle": "2021-12-06T00:26:05.244528Z",
     "shell.execute_reply": "2021-12-06T00:26:05.244040Z"
    },
    "papermill": {
     "duration": 0.064227,
     "end_time": "2021-12-06T00:26:05.244645",
     "exception": false,
     "start_time": "2021-12-06T00:26:05.180418",
     "status": "completed"
    },
    "tags": []
   },
   "outputs": [
    {
     "data": {
      "text/html": [
       "<div>\n",
       "<style scoped>\n",
       "    .dataframe tbody tr th:only-of-type {\n",
       "        vertical-align: middle;\n",
       "    }\n",
       "\n",
       "    .dataframe tbody tr th {\n",
       "        vertical-align: top;\n",
       "    }\n",
       "\n",
       "    .dataframe thead th {\n",
       "        text-align: right;\n",
       "    }\n",
       "</style>\n",
       "<table border=\"1\" class=\"dataframe\">\n",
       "  <thead>\n",
       "    <tr style=\"text-align: right;\">\n",
       "      <th></th>\n",
       "      <th>Country/Region</th>\n",
       "      <th>Cases</th>\n",
       "      <th>Deaths</th>\n",
       "      <th>PCases</th>\n",
       "      <th>PDeaths</th>\n",
       "      <th>Cases (+)</th>\n",
       "      <th>Deaths (+)</th>\n",
       "      <th>Fatality Rate</th>\n",
       "      <th>Continent</th>\n",
       "    </tr>\n",
       "  </thead>\n",
       "  <tbody>\n",
       "    <tr>\n",
       "      <th>0</th>\n",
       "      <td>US</td>\n",
       "      <td>49051140</td>\n",
       "      <td>788202</td>\n",
       "      <td>48990127</td>\n",
       "      <td>787695</td>\n",
       "      <td>61013</td>\n",
       "      <td>507</td>\n",
       "      <td>1.6</td>\n",
       "      <td>North America</td>\n",
       "    </tr>\n",
       "    <tr>\n",
       "      <th>1</th>\n",
       "      <td>India</td>\n",
       "      <td>34624360</td>\n",
       "      <td>470530</td>\n",
       "      <td>34624360</td>\n",
       "      <td>470530</td>\n",
       "      <td>0</td>\n",
       "      <td>0</td>\n",
       "      <td>1.4</td>\n",
       "      <td>Asia</td>\n",
       "    </tr>\n",
       "    <tr>\n",
       "      <th>2</th>\n",
       "      <td>Brazil</td>\n",
       "      <td>22138247</td>\n",
       "      <td>615570</td>\n",
       "      <td>22129409</td>\n",
       "      <td>615400</td>\n",
       "      <td>8838</td>\n",
       "      <td>170</td>\n",
       "      <td>2.8</td>\n",
       "      <td>South America</td>\n",
       "    </tr>\n",
       "    <tr>\n",
       "      <th>3</th>\n",
       "      <td>United Kingdom</td>\n",
       "      <td>10479955</td>\n",
       "      <td>146001</td>\n",
       "      <td>10438381</td>\n",
       "      <td>145874</td>\n",
       "      <td>41574</td>\n",
       "      <td>127</td>\n",
       "      <td>1.4</td>\n",
       "      <td>Europe</td>\n",
       "    </tr>\n",
       "    <tr>\n",
       "      <th>4</th>\n",
       "      <td>Russia</td>\n",
       "      <td>9598283</td>\n",
       "      <td>274648</td>\n",
       "      <td>9565909</td>\n",
       "      <td>273463</td>\n",
       "      <td>32374</td>\n",
       "      <td>1185</td>\n",
       "      <td>2.9</td>\n",
       "      <td>Europe</td>\n",
       "    </tr>\n",
       "  </tbody>\n",
       "</table>\n",
       "</div>"
      ],
      "text/plain": [
       "   Country/Region     Cases  Deaths    PCases  PDeaths  Cases (+)  Deaths (+)  \\\n",
       "0              US  49051140  788202  48990127   787695      61013         507   \n",
       "1           India  34624360  470530  34624360   470530          0           0   \n",
       "2          Brazil  22138247  615570  22129409   615400       8838         170   \n",
       "3  United Kingdom  10479955  146001  10438381   145874      41574         127   \n",
       "4          Russia   9598283  274648   9565909   273463      32374        1185   \n",
       "\n",
       "   Fatality Rate      Continent  \n",
       "0            1.6  North America  \n",
       "1            1.4           Asia  \n",
       "2            2.8  South America  \n",
       "3            1.4         Europe  \n",
       "4            2.9         Europe  "
      ]
     },
     "execution_count": 15,
     "metadata": {},
     "output_type": "execute_result"
    }
   ],
   "source": [
    "#hide\n",
    "df_table = (pd.DataFrame(dict(Cases=dfc_cases, Deaths=dfc_deaths, PCases=dfp_cases, PDeaths=dfp_deaths))\n",
    "             .sort_values(by=['Cases', 'Deaths'], ascending=[False, False])\n",
    "             .reset_index())\n",
    "df_table.rename(columns={'index': 'Country/Region'}, inplace=True)\n",
    "for c in 'Cases, Deaths'.split(', '):\n",
    "    df_table[f'{c} (+)'] = (df_table[c] - df_table[f'P{c}']).clip(0)  # DATA BUG\n",
    "df_table['Fatality Rate'] = (100 * df_table['Deaths'] / df_table['Cases']).round(1)\n",
    "df_table['Continent'] = df_table['Country/Region'].map(mapping['map.continent'])\n",
    "df_table.head(5)"
   ]
  },
  {
   "cell_type": "code",
   "execution_count": 16,
   "id": "fewer-occasion",
   "metadata": {
    "execution": {
     "iopub.execute_input": "2021-12-06T00:26:05.324728Z",
     "iopub.status.busy": "2021-12-06T00:26:05.324109Z",
     "iopub.status.idle": "2021-12-06T00:26:05.325986Z",
     "shell.execute_reply": "2021-12-06T00:26:05.326452Z"
    },
    "papermill": {
     "duration": 0.043536,
     "end_time": "2021-12-06T00:26:05.326592",
     "exception": false,
     "start_time": "2021-12-06T00:26:05.283056",
     "status": "completed"
    },
    "tags": []
   },
   "outputs": [],
   "source": [
    "#hide\n",
    "#delete problematic countries from table\n",
    "df_table = df_table[~df_table['Country/Region'].isin(['Cape Verde', 'Cruise Ship', 'Kosovo'])]"
   ]
  },
  {
   "cell_type": "code",
   "execution_count": 17,
   "id": "related-center",
   "metadata": {
    "execution": {
     "iopub.execute_input": "2021-12-06T00:26:05.417551Z",
     "iopub.status.busy": "2021-12-06T00:26:05.416938Z",
     "iopub.status.idle": "2021-12-06T00:26:05.419604Z",
     "shell.execute_reply": "2021-12-06T00:26:05.419106Z"
    },
    "papermill": {
     "duration": 0.05593,
     "end_time": "2021-12-06T00:26:05.419718",
     "exception": false,
     "start_time": "2021-12-06T00:26:05.363788",
     "status": "completed"
    },
    "tags": []
   },
   "outputs": [],
   "source": [
    "#hide\n",
    "metrics = [df_table.columns[index] for index in [1,2,5,6]]\n",
    "# s_china = df_table[df_table['Country/Region'].eq('China')][metrics].sum().add_prefix('China ')\n",
    "s_us = df_table[df_table['Country/Region'].eq('US')][metrics].sum().add_prefix('US ')\n",
    "s_eu = df_table[df_table['Continent'].eq('Europe')][metrics].sum().add_prefix('EU ')\n",
    "s_ind = df_table[df_table['Country/Region'].eq('India')][metrics].sum().add_prefix('India ')\n",
    "summary = {'updated': pd.to_datetime(dt_today), 'since': pd.to_datetime(dt_yday)}\n",
    "summary = {'updated': pd.to_datetime(dt_today), 'since': pd.to_datetime(dt_yday)}\n",
    "summary = {**summary, **df_table[metrics].sum(), **s_ind, **s_us, **s_eu}"
   ]
  },
  {
   "cell_type": "code",
   "execution_count": 18,
   "id": "engaging-syndrome",
   "metadata": {
    "execution": {
     "iopub.execute_input": "2021-12-06T00:26:05.498188Z",
     "iopub.status.busy": "2021-12-06T00:26:05.497599Z",
     "iopub.status.idle": "2021-12-06T00:26:05.511669Z",
     "shell.execute_reply": "2021-12-06T00:26:05.511169Z"
    },
    "papermill": {
     "duration": 0.054256,
     "end_time": "2021-12-06T00:26:05.511789",
     "exception": false,
     "start_time": "2021-12-06T00:26:05.457533",
     "status": "completed"
    },
    "tags": []
   },
   "outputs": [],
   "source": [
    "#hide\n",
    "dft_ct_new_cases = dft_cases.groupby(COL_REGION)[dt_cols].sum().diff(axis=1).fillna(0).astype(int)"
   ]
  },
  {
   "cell_type": "code",
   "execution_count": 19,
   "id": "neutral-assignment",
   "metadata": {
    "execution": {
     "iopub.execute_input": "2021-12-06T00:26:05.589637Z",
     "iopub.status.busy": "2021-12-06T00:26:05.589019Z",
     "iopub.status.idle": "2021-12-06T00:26:05.591240Z",
     "shell.execute_reply": "2021-12-06T00:26:05.591780Z"
    },
    "papermill": {
     "duration": 0.044728,
     "end_time": "2021-12-06T00:26:05.592031",
     "exception": false,
     "start_time": "2021-12-06T00:26:05.547303",
     "status": "completed"
    },
    "tags": []
   },
   "outputs": [],
   "source": [
    "#hide\n",
    "everydaycases = dft_ct_new_cases.cumsum(axis=1)"
   ]
  },
  {
   "cell_type": "code",
   "execution_count": 20,
   "id": "parliamentary-calgary",
   "metadata": {
    "execution": {
     "iopub.execute_input": "2021-12-06T00:26:05.669147Z",
     "iopub.status.busy": "2021-12-06T00:26:05.668550Z",
     "iopub.status.idle": "2021-12-06T00:26:06.325266Z",
     "shell.execute_reply": "2021-12-06T00:26:06.324645Z"
    },
    "papermill": {
     "duration": 0.6964,
     "end_time": "2021-12-06T00:26:06.325432",
     "exception": false,
     "start_time": "2021-12-06T00:26:05.629032",
     "status": "completed"
    },
    "tags": []
   },
   "outputs": [],
   "source": [
    "#hide\n",
    "import pandas as pd\n",
    "import matplotlib.pyplot as plt\n",
    "import matplotlib.ticker as ticker\n",
    "import matplotlib.animation as animation\n",
    "from IPython.display import HTML"
   ]
  },
  {
   "cell_type": "code",
   "execution_count": 21,
   "id": "lasting-extraction",
   "metadata": {
    "execution": {
     "iopub.execute_input": "2021-12-06T00:26:06.402932Z",
     "iopub.status.busy": "2021-12-06T00:26:06.402233Z",
     "iopub.status.idle": "2021-12-06T00:26:06.408365Z",
     "shell.execute_reply": "2021-12-06T00:26:06.407885Z"
    },
    "papermill": {
     "duration": 0.047413,
     "end_time": "2021-12-06T00:26:06.408488",
     "exception": false,
     "start_time": "2021-12-06T00:26:06.361075",
     "status": "completed"
    },
    "tags": []
   },
   "outputs": [],
   "source": [
    "#hide\n",
    "t = everydaycases.stack()"
   ]
  },
  {
   "cell_type": "code",
   "execution_count": 22,
   "id": "premier-sleeve",
   "metadata": {
    "execution": {
     "iopub.execute_input": "2021-12-06T00:26:06.482772Z",
     "iopub.status.busy": "2021-12-06T00:26:06.482180Z",
     "iopub.status.idle": "2021-12-06T00:26:06.491263Z",
     "shell.execute_reply": "2021-12-06T00:26:06.491746Z"
    },
    "papermill": {
     "duration": 0.048874,
     "end_time": "2021-12-06T00:26:06.491877",
     "exception": false,
     "start_time": "2021-12-06T00:26:06.443003",
     "status": "completed"
    },
    "tags": []
   },
   "outputs": [],
   "source": [
    "#hide\n",
    "g = t.reset_index(['Country/Region'])"
   ]
  },
  {
   "cell_type": "code",
   "execution_count": 23,
   "id": "distributed-pittsburgh",
   "metadata": {
    "execution": {
     "iopub.execute_input": "2021-12-06T00:26:06.566341Z",
     "iopub.status.busy": "2021-12-06T00:26:06.565722Z",
     "iopub.status.idle": "2021-12-06T00:26:06.568228Z",
     "shell.execute_reply": "2021-12-06T00:26:06.567734Z"
    },
    "papermill": {
     "duration": 0.041213,
     "end_time": "2021-12-06T00:26:06.568352",
     "exception": false,
     "start_time": "2021-12-06T00:26:06.527139",
     "status": "completed"
    },
    "tags": []
   },
   "outputs": [],
   "source": [
    "#hide\n",
    "g.index.name = 'date'"
   ]
  },
  {
   "cell_type": "code",
   "execution_count": 24,
   "id": "naked-donor",
   "metadata": {
    "execution": {
     "iopub.execute_input": "2021-12-06T00:26:06.643661Z",
     "iopub.status.busy": "2021-12-06T00:26:06.642923Z",
     "iopub.status.idle": "2021-12-06T00:26:06.644465Z",
     "shell.execute_reply": "2021-12-06T00:26:06.645086Z"
    },
    "papermill": {
     "duration": 0.041014,
     "end_time": "2021-12-06T00:26:06.645282",
     "exception": false,
     "start_time": "2021-12-06T00:26:06.604268",
     "status": "completed"
    },
    "tags": []
   },
   "outputs": [],
   "source": [
    "# #hide\n",
    "# g = g.reset_index(['date'])"
   ]
  },
  {
   "cell_type": "code",
   "execution_count": 25,
   "id": "incomplete-mustang",
   "metadata": {
    "execution": {
     "iopub.execute_input": "2021-12-06T00:26:06.723005Z",
     "iopub.status.busy": "2021-12-06T00:26:06.722185Z",
     "iopub.status.idle": "2021-12-06T00:26:06.724780Z",
     "shell.execute_reply": "2021-12-06T00:26:06.724258Z"
    },
    "papermill": {
     "duration": 0.042392,
     "end_time": "2021-12-06T00:26:06.724902",
     "exception": false,
     "start_time": "2021-12-06T00:26:06.682510",
     "status": "completed"
    },
    "tags": []
   },
   "outputs": [],
   "source": [
    "#hide\n",
    "# g.head()"
   ]
  },
  {
   "cell_type": "code",
   "execution_count": 26,
   "id": "specific-kruger",
   "metadata": {
    "execution": {
     "iopub.execute_input": "2021-12-06T00:26:06.801561Z",
     "iopub.status.busy": "2021-12-06T00:26:06.800813Z",
     "iopub.status.idle": "2021-12-06T00:26:06.804736Z",
     "shell.execute_reply": "2021-12-06T00:26:06.805256Z"
    },
    "papermill": {
     "duration": 0.043468,
     "end_time": "2021-12-06T00:26:06.805399",
     "exception": false,
     "start_time": "2021-12-06T00:26:06.761931",
     "status": "completed"
    },
    "tags": []
   },
   "outputs": [],
   "source": [
    "#hide\n",
    "# g.columns = ['date','country','cases']"
   ]
  },
  {
   "cell_type": "code",
   "execution_count": 27,
   "id": "tender-conversion",
   "metadata": {
    "execution": {
     "iopub.execute_input": "2021-12-06T00:26:06.884100Z",
     "iopub.status.busy": "2021-12-06T00:26:06.883284Z",
     "iopub.status.idle": "2021-12-06T00:26:06.887314Z",
     "shell.execute_reply": "2021-12-06T00:26:06.887827Z"
    },
    "papermill": {
     "duration": 0.045656,
     "end_time": "2021-12-06T00:26:06.888000",
     "exception": false,
     "start_time": "2021-12-06T00:26:06.842344",
     "status": "completed"
    },
    "tags": []
   },
   "outputs": [],
   "source": [
    "#hide\n",
    "# g['continent'] = g.country"
   ]
  },
  {
   "cell_type": "code",
   "execution_count": 28,
   "id": "substantial-wilderness",
   "metadata": {
    "execution": {
     "iopub.execute_input": "2021-12-06T00:26:06.971077Z",
     "iopub.status.busy": "2021-12-06T00:26:06.970421Z",
     "iopub.status.idle": "2021-12-06T00:26:06.973076Z",
     "shell.execute_reply": "2021-12-06T00:26:06.972553Z"
    },
    "papermill": {
     "duration": 0.044701,
     "end_time": "2021-12-06T00:26:06.973237",
     "exception": false,
     "start_time": "2021-12-06T00:26:06.928536",
     "status": "completed"
    },
    "tags": []
   },
   "outputs": [],
   "source": [
    "#hide\n",
    "# cols = list(g.columns.values)"
   ]
  },
  {
   "cell_type": "code",
   "execution_count": 29,
   "id": "solved-farming",
   "metadata": {
    "execution": {
     "iopub.execute_input": "2021-12-06T00:26:07.049992Z",
     "iopub.status.busy": "2021-12-06T00:26:07.049363Z",
     "iopub.status.idle": "2021-12-06T00:26:07.051706Z",
     "shell.execute_reply": "2021-12-06T00:26:07.051088Z"
    },
    "papermill": {
     "duration": 0.04017,
     "end_time": "2021-12-06T00:26:07.051833",
     "exception": false,
     "start_time": "2021-12-06T00:26:07.011663",
     "status": "completed"
    },
    "tags": []
   },
   "outputs": [],
   "source": [
    "#hide\n",
    "# cols.insert(0, cols.pop())"
   ]
  },
  {
   "cell_type": "code",
   "execution_count": 30,
   "id": "executed-adoption",
   "metadata": {
    "execution": {
     "iopub.execute_input": "2021-12-06T00:26:07.125338Z",
     "iopub.status.busy": "2021-12-06T00:26:07.124727Z",
     "iopub.status.idle": "2021-12-06T00:26:07.128111Z",
     "shell.execute_reply": "2021-12-06T00:26:07.128615Z"
    },
    "papermill": {
     "duration": 0.041695,
     "end_time": "2021-12-06T00:26:07.128741",
     "exception": false,
     "start_time": "2021-12-06T00:26:07.087046",
     "status": "completed"
    },
    "tags": []
   },
   "outputs": [],
   "source": [
    "#hide\n",
    "# g = g[cols]"
   ]
  },
  {
   "cell_type": "code",
   "execution_count": 31,
   "id": "subject-dublin",
   "metadata": {
    "execution": {
     "iopub.execute_input": "2021-12-06T00:26:07.202540Z",
     "iopub.status.busy": "2021-12-06T00:26:07.201936Z",
     "iopub.status.idle": "2021-12-06T00:26:07.204263Z",
     "shell.execute_reply": "2021-12-06T00:26:07.203763Z"
    },
    "papermill": {
     "duration": 0.040438,
     "end_time": "2021-12-06T00:26:07.204380",
     "exception": false,
     "start_time": "2021-12-06T00:26:07.163942",
     "status": "completed"
    },
    "tags": []
   },
   "outputs": [],
   "source": [
    "#hide\n",
    "# g['continent'] = g['continent'].map(mapping['map.continent'])"
   ]
  },
  {
   "cell_type": "code",
   "execution_count": 32,
   "id": "freelance-scout",
   "metadata": {
    "execution": {
     "iopub.execute_input": "2021-12-06T00:26:07.280391Z",
     "iopub.status.busy": "2021-12-06T00:26:07.279756Z",
     "iopub.status.idle": "2021-12-06T00:26:07.283326Z",
     "shell.execute_reply": "2021-12-06T00:26:07.283778Z"
    },
    "papermill": {
     "duration": 0.043502,
     "end_time": "2021-12-06T00:26:07.283913",
     "exception": false,
     "start_time": "2021-12-06T00:26:07.240411",
     "status": "completed"
    },
    "tags": []
   },
   "outputs": [],
   "source": [
    "#hide\n",
    "# g.head()"
   ]
  },
  {
   "cell_type": "code",
   "execution_count": 33,
   "id": "limited-engine",
   "metadata": {
    "execution": {
     "iopub.execute_input": "2021-12-06T00:26:07.355754Z",
     "iopub.status.busy": "2021-12-06T00:26:07.355130Z",
     "iopub.status.idle": "2021-12-06T00:26:07.357848Z",
     "shell.execute_reply": "2021-12-06T00:26:07.357204Z"
    },
    "papermill": {
     "duration": 0.039869,
     "end_time": "2021-12-06T00:26:07.357965",
     "exception": false,
     "start_time": "2021-12-06T00:26:07.318096",
     "status": "completed"
    },
    "tags": []
   },
   "outputs": [],
   "source": [
    "# hide\n",
    "# g['date'] = g['date'].astype('datetime64[ns]')"
   ]
  },
  {
   "cell_type": "code",
   "execution_count": 34,
   "id": "sophisticated-supervisor",
   "metadata": {
    "execution": {
     "iopub.execute_input": "2021-12-06T00:26:07.434585Z",
     "iopub.status.busy": "2021-12-06T00:26:07.433961Z",
     "iopub.status.idle": "2021-12-06T00:26:07.436025Z",
     "shell.execute_reply": "2021-12-06T00:26:07.436473Z"
    },
    "papermill": {
     "duration": 0.041784,
     "end_time": "2021-12-06T00:26:07.436604",
     "exception": false,
     "start_time": "2021-12-06T00:26:07.394820",
     "status": "completed"
    },
    "tags": []
   },
   "outputs": [],
   "source": [
    "#hide\n",
    "# g['date'] = g.date.dt.dayofyear"
   ]
  },
  {
   "cell_type": "code",
   "execution_count": 35,
   "id": "inside-dubai",
   "metadata": {
    "execution": {
     "iopub.execute_input": "2021-12-06T00:26:07.511000Z",
     "iopub.status.busy": "2021-12-06T00:26:07.510372Z",
     "iopub.status.idle": "2021-12-06T00:26:07.513277Z",
     "shell.execute_reply": "2021-12-06T00:26:07.512728Z"
    },
    "papermill": {
     "duration": 0.040605,
     "end_time": "2021-12-06T00:26:07.513391",
     "exception": false,
     "start_time": "2021-12-06T00:26:07.472786",
     "status": "completed"
    },
    "tags": []
   },
   "outputs": [],
   "source": [
    "#hide\n",
    "# g = g.rename(columns= {'continent':'group','country':'name','cases':'value'})"
   ]
  },
  {
   "cell_type": "code",
   "execution_count": 36,
   "id": "fleet-motorcycle",
   "metadata": {
    "execution": {
     "iopub.execute_input": "2021-12-06T00:26:07.586941Z",
     "iopub.status.busy": "2021-12-06T00:26:07.586348Z",
     "iopub.status.idle": "2021-12-06T00:26:07.588563Z",
     "shell.execute_reply": "2021-12-06T00:26:07.587947Z"
    },
    "papermill": {
     "duration": 0.040139,
     "end_time": "2021-12-06T00:26:07.588681",
     "exception": false,
     "start_time": "2021-12-06T00:26:07.548542",
     "status": "completed"
    },
    "tags": []
   },
   "outputs": [],
   "source": [
    "#hide\n",
    "# cols = ['name','group','day','value']"
   ]
  },
  {
   "cell_type": "code",
   "execution_count": 37,
   "id": "continued-sleeping",
   "metadata": {
    "execution": {
     "iopub.execute_input": "2021-12-06T00:26:07.667009Z",
     "iopub.status.busy": "2021-12-06T00:26:07.666368Z",
     "iopub.status.idle": "2021-12-06T00:26:07.668916Z",
     "shell.execute_reply": "2021-12-06T00:26:07.668423Z"
    },
    "papermill": {
     "duration": 0.04409,
     "end_time": "2021-12-06T00:26:07.669040",
     "exception": false,
     "start_time": "2021-12-06T00:26:07.624950",
     "status": "completed"
    },
    "tags": []
   },
   "outputs": [],
   "source": [
    "#hide\n",
    "# g.rename(columns= {'date':'day'},inplace = True)"
   ]
  },
  {
   "cell_type": "code",
   "execution_count": 38,
   "id": "major-fight",
   "metadata": {
    "execution": {
     "iopub.execute_input": "2021-12-06T00:26:07.745890Z",
     "iopub.status.busy": "2021-12-06T00:26:07.745172Z",
     "iopub.status.idle": "2021-12-06T00:26:07.747867Z",
     "shell.execute_reply": "2021-12-06T00:26:07.747338Z"
    },
    "papermill": {
     "duration": 0.04324,
     "end_time": "2021-12-06T00:26:07.747995",
     "exception": false,
     "start_time": "2021-12-06T00:26:07.704755",
     "status": "completed"
    },
    "tags": []
   },
   "outputs": [],
   "source": [
    "#hide\n",
    "# g = g[cols]"
   ]
  },
  {
   "cell_type": "code",
   "execution_count": 39,
   "id": "structured-mobile",
   "metadata": {
    "execution": {
     "iopub.execute_input": "2021-12-06T00:26:07.828816Z",
     "iopub.status.busy": "2021-12-06T00:26:07.828197Z",
     "iopub.status.idle": "2021-12-06T00:26:07.831913Z",
     "shell.execute_reply": "2021-12-06T00:26:07.832388Z"
    },
    "papermill": {
     "duration": 0.047146,
     "end_time": "2021-12-06T00:26:07.832671",
     "exception": false,
     "start_time": "2021-12-06T00:26:07.785525",
     "status": "completed"
    },
    "tags": []
   },
   "outputs": [],
   "source": [
    "# #hide\n",
    "# g = g[g.group.notna()]"
   ]
  },
  {
   "cell_type": "code",
   "execution_count": 40,
   "id": "determined-closing",
   "metadata": {
    "execution": {
     "iopub.execute_input": "2021-12-06T00:26:07.910602Z",
     "iopub.status.busy": "2021-12-06T00:26:07.909940Z",
     "iopub.status.idle": "2021-12-06T00:26:07.911979Z",
     "shell.execute_reply": "2021-12-06T00:26:07.911377Z"
    },
    "papermill": {
     "duration": 0.042576,
     "end_time": "2021-12-06T00:26:07.912104",
     "exception": false,
     "start_time": "2021-12-06T00:26:07.869528",
     "status": "completed"
    },
    "tags": []
   },
   "outputs": [],
   "source": [
    "# #hide\n",
    "# colors = dict(zip(\n",
    "#     [\"Oceania\", \"Europe\", \"Asia\", \"South America\", \"Middle East\", \"North America\", \"Africa\"],\n",
    "#     [\"#adb0ff\", \"#ffb3ff\", \"#90d595\", \"#e48381\", \"#aafbff\", \"#f7bb5f\", \"#eafb50\"]\n",
    "# ))\n",
    "# group_lk = g.set_index('name')['group'].to_dict()"
   ]
  },
  {
   "cell_type": "code",
   "execution_count": null,
   "id": "gross-drinking",
   "metadata": {
    "papermill": {
     "duration": 0.038474,
     "end_time": "2021-12-06T00:26:07.988660",
     "exception": false,
     "start_time": "2021-12-06T00:26:07.950186",
     "status": "completed"
    },
    "tags": []
   },
   "outputs": [],
   "source": []
  },
  {
   "cell_type": "code",
   "execution_count": 41,
   "id": "subject-macintosh",
   "metadata": {
    "execution": {
     "iopub.execute_input": "2021-12-06T00:26:08.069709Z",
     "iopub.status.busy": "2021-12-06T00:26:08.069002Z",
     "iopub.status.idle": "2021-12-06T00:26:08.070965Z",
     "shell.execute_reply": "2021-12-06T00:26:08.071469Z"
    },
    "papermill": {
     "duration": 0.044822,
     "end_time": "2021-12-06T00:26:08.071624",
     "exception": false,
     "start_time": "2021-12-06T00:26:08.026802",
     "status": "completed"
    },
    "tags": []
   },
   "outputs": [],
   "source": [
    "# #hide\n",
    "# fig, ax = plt.subplots(figsize=(15, 8))\n",
    "\n",
    "# def draw_barchart(current_day):\n",
    "#     dff = g[g['day'].eq(current_day)].sort_values(by='value', ascending=True).tail(10)\n",
    "#     ax.clear()\n",
    "#     ax.barh(dff['name'], dff['value'], color=[colors[group_lk[x]] for x in dff['name']])\n",
    "#     dx = dff['value'].max() / 200\n",
    "    \n",
    "#     for i, (value, name) in enumerate(zip(dff['value'], dff['name'])):\n",
    "#         ax.text(value-dx, i,     name,           size=14, weight=600, ha='right', va='bottom')\n",
    "#         ax.text(value-dx, i-.25, group_lk[name], size=10, color='#444444', ha='right', va='baseline')\n",
    "#         ax.text(value+dx, i,     f'{value:,.0f}',  size=14, ha='left',  va='center')\n",
    "#     ax.text(1, 0.4, current_day, transform=ax.transAxes, color='#777777', size=46, ha='right', weight=800)\n",
    "#     ax.text(0, 1.06, 'Population (thousands)', transform=ax.transAxes, size=12, color='#777777')\n",
    "#     ax.xaxis.set_major_formatter(ticker.StrMethodFormatter('{x:,.0f}'))\n",
    "#     ax.xaxis.set_ticks_position('top')\n",
    "#     ax.tick_params(axis='x', colors='#777777', labelsize=12)\n",
    "#     ax.set_yticks([])\n",
    "#     ax.margins(0, 0.01)\n",
    "#     ax.grid(which='major', axis='x', linestyle='-')\n",
    "#     ax.set_axisbelow(True)\n",
    "    \n",
    "#     ax.text(0, 1.15, 'Coronavirus',\n",
    "#             transform=ax.transAxes, size=24, weight=600, ha='left', va='top')\n",
    "# #     ax.text(1, 0, 'by @pratapvardhan; credit @jburnmurdoch', transform=ax.transAxes, color='#777777', ha='right',\n",
    "# #             bbox=dict(facecolor='white', alpha=0.8, edgecolor='white'))\n",
    "#     plt.box(False)"
   ]
  },
  {
   "cell_type": "code",
   "execution_count": 42,
   "id": "sexual-wages",
   "metadata": {
    "execution": {
     "iopub.execute_input": "2021-12-06T00:26:08.149872Z",
     "iopub.status.busy": "2021-12-06T00:26:08.149206Z",
     "iopub.status.idle": "2021-12-06T00:26:08.152265Z",
     "shell.execute_reply": "2021-12-06T00:26:08.151743Z"
    },
    "papermill": {
     "duration": 0.042485,
     "end_time": "2021-12-06T00:26:08.152389",
     "exception": false,
     "start_time": "2021-12-06T00:26:08.109904",
     "status": "completed"
    },
    "tags": []
   },
   "outputs": [],
   "source": [
    "# #hide_input\n",
    "# fig, ax = plt.subplots(figsize=(15, 8))\n",
    "# animator = animation.FuncAnimation(fig, draw_barchart, frames=range(g.day.values.min(), g.day.values.max()))\n",
    "# HTML(animator.to_jshtml())\n",
    "# # or use animator.to_html5_video() or animator.save() "
   ]
  },
  {
   "cell_type": "code",
   "execution_count": null,
   "id": "australian-container",
   "metadata": {
    "papermill": {
     "duration": 0.035362,
     "end_time": "2021-12-06T00:26:08.224531",
     "exception": false,
     "start_time": "2021-12-06T00:26:08.189169",
     "status": "completed"
    },
    "tags": []
   },
   "outputs": [],
   "source": []
  },
  {
   "cell_type": "code",
   "execution_count": null,
   "id": "mediterranean-pontiac",
   "metadata": {
    "papermill": {
     "duration": 0.034266,
     "end_time": "2021-12-06T00:26:08.292851",
     "exception": false,
     "start_time": "2021-12-06T00:26:08.258585",
     "status": "completed"
    },
    "tags": []
   },
   "outputs": [],
   "source": []
  },
  {
   "cell_type": "code",
   "execution_count": null,
   "id": "aging-legislature",
   "metadata": {
    "papermill": {
     "duration": 0.034489,
     "end_time": "2021-12-06T00:26:08.363156",
     "exception": false,
     "start_time": "2021-12-06T00:26:08.328667",
     "status": "completed"
    },
    "tags": []
   },
   "outputs": [],
   "source": []
  }
 ],
 "metadata": {
  "kernelspec": {
   "display_name": "Python 3",
   "language": "python",
   "name": "python3"
  },
  "language_info": {
   "codemirror_mode": {
    "name": "ipython",
    "version": 3
   },
   "file_extension": ".py",
   "mimetype": "text/x-python",
   "name": "python",
   "nbconvert_exporter": "python",
   "pygments_lexer": "ipython3",
   "version": "3.6.15"
  },
  "papermill": {
   "duration": 6.852709,
   "end_time": "2021-12-06T00:26:08.704789",
   "environment_variables": {},
   "exception": null,
   "input_path": "2020-03-21-covid19exp.ipynb",
   "output_path": "2020-03-21-covid19exp.ipynb",
   "parameters": {},
   "start_time": "2021-12-06T00:26:01.852080",
   "version": "2.0.0"
  }
 },
 "nbformat": 4,
 "nbformat_minor": 5
}