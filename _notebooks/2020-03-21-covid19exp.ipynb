{
 "cells": [
  {
   "cell_type": "markdown",
   "id": "muslim-click",
   "metadata": {
    "papermill": {
     "duration": 0.039655,
     "end_time": "2022-07-29T00:45:22.850229",
     "exception": false,
     "start_time": "2022-07-29T00:45:22.810574",
     "status": "completed"
    },
    "tags": []
   },
   "source": [
    "# COVID-19 Case Race\n",
    "> A race chart to see rising cases around the world\n",
    "\n",
    "- author: Hargun Oberoi\n",
    "- image: images/covid-overview.png\n",
    "- hide: false\n",
    "- badges: false"
   ]
  },
  {
   "cell_type": "code",
   "execution_count": 1,
   "id": "proof-material",
   "metadata": {
    "execution": {
     "iopub.execute_input": "2022-07-29T00:45:22.935414Z",
     "iopub.status.busy": "2022-07-29T00:45:22.934496Z",
     "iopub.status.idle": "2022-07-29T00:45:23.331299Z",
     "shell.execute_reply": "2022-07-29T00:45:23.330473Z"
    },
    "papermill": {
     "duration": 0.444881,
     "end_time": "2022-07-29T00:45:23.331552",
     "exception": false,
     "start_time": "2022-07-29T00:45:22.886671",
     "status": "completed"
    },
    "tags": []
   },
   "outputs": [],
   "source": [
    "#hide\n",
    "import numpy as np\n",
    "import pandas as pd\n",
    "from jinja2 import Template\n",
    "from IPython.display import HTML"
   ]
  },
  {
   "cell_type": "code",
   "execution_count": 2,
   "id": "developed-terminology",
   "metadata": {
    "execution": {
     "iopub.execute_input": "2022-07-29T00:45:23.413801Z",
     "iopub.status.busy": "2022-07-29T00:45:23.412994Z",
     "iopub.status.idle": "2022-07-29T00:45:23.416057Z",
     "shell.execute_reply": "2022-07-29T00:45:23.415214Z"
    },
    "papermill": {
     "duration": 0.045254,
     "end_time": "2022-07-29T00:45:23.416179",
     "exception": false,
     "start_time": "2022-07-29T00:45:23.370925",
     "status": "completed"
    },
    "tags": []
   },
   "outputs": [],
   "source": [
    "#hide\n",
    "\n",
    "# FETCH\n",
    "base_url = 'https://raw.githubusercontent.com/pratapvardhan/notebooks/master/covid19/'\n",
    "paths = {\n",
    "    'mapping': base_url + 'mapping_countries.csv',\n",
    "    'overview': base_url + 'overview.tpl'\n",
    "}"
   ]
  },
  {
   "cell_type": "code",
   "execution_count": 3,
   "id": "dynamic-saver",
   "metadata": {
    "execution": {
     "iopub.execute_input": "2022-07-29T00:45:23.501707Z",
     "iopub.status.busy": "2022-07-29T00:45:23.500630Z",
     "iopub.status.idle": "2022-07-29T00:45:23.505686Z",
     "shell.execute_reply": "2022-07-29T00:45:23.505192Z"
    },
    "papermill": {
     "duration": 0.054056,
     "end_time": "2022-07-29T00:45:23.505892",
     "exception": false,
     "start_time": "2022-07-29T00:45:23.451836",
     "status": "completed"
    },
    "tags": []
   },
   "outputs": [
    {
     "data": {
      "text/plain": [
       "'https://raw.githubusercontent.com/pratapvardhan/notebooks/master/covid19/mapping_countries.csv'"
      ]
     },
     "execution_count": 3,
     "metadata": {},
     "output_type": "execute_result"
    }
   ],
   "source": [
    "#hide\n",
    "paths['mapping']"
   ]
  },
  {
   "cell_type": "code",
   "execution_count": 4,
   "id": "urban-software",
   "metadata": {
    "execution": {
     "iopub.execute_input": "2022-07-29T00:45:23.581092Z",
     "iopub.status.busy": "2022-07-29T00:45:23.579955Z",
     "iopub.status.idle": "2022-07-29T00:45:23.584501Z",
     "shell.execute_reply": "2022-07-29T00:45:23.583844Z"
    },
    "papermill": {
     "duration": 0.045216,
     "end_time": "2022-07-29T00:45:23.584622",
     "exception": false,
     "start_time": "2022-07-29T00:45:23.539406",
     "status": "completed"
    },
    "tags": []
   },
   "outputs": [],
   "source": [
    "#hide\n",
    "def get_mappings(url):\n",
    "    df = pd.read_csv(url)\n",
    "    return {\n",
    "        'df': df,\n",
    "        'replace.country': dict(df.dropna(subset=['Name']).set_index('Country')['Name']),\n",
    "        'map.continent': dict(df.set_index('Name')['Continent'])\n",
    "    }"
   ]
  },
  {
   "cell_type": "code",
   "execution_count": 5,
   "id": "intimate-machinery",
   "metadata": {
    "execution": {
     "iopub.execute_input": "2022-07-29T00:45:23.661651Z",
     "iopub.status.busy": "2022-07-29T00:45:23.660909Z",
     "iopub.status.idle": "2022-07-29T00:45:23.697519Z",
     "shell.execute_reply": "2022-07-29T00:45:23.696936Z"
    },
    "papermill": {
     "duration": 0.077713,
     "end_time": "2022-07-29T00:45:23.697646",
     "exception": false,
     "start_time": "2022-07-29T00:45:23.619933",
     "status": "completed"
    },
    "tags": []
   },
   "outputs": [],
   "source": [
    "#hide\n",
    "mapping = get_mappings(paths['mapping'])"
   ]
  },
  {
   "cell_type": "code",
   "execution_count": 6,
   "id": "certified-tactics",
   "metadata": {
    "execution": {
     "iopub.execute_input": "2022-07-29T00:45:23.775689Z",
     "iopub.status.busy": "2022-07-29T00:45:23.774914Z",
     "iopub.status.idle": "2022-07-29T00:45:23.778094Z",
     "shell.execute_reply": "2022-07-29T00:45:23.777448Z"
    },
    "papermill": {
     "duration": 0.04382,
     "end_time": "2022-07-29T00:45:23.778264",
     "exception": false,
     "start_time": "2022-07-29T00:45:23.734444",
     "status": "completed"
    },
    "tags": []
   },
   "outputs": [],
   "source": [
    "#hide\n",
    "def get_template(path):\n",
    "    from urllib.parse import urlparse\n",
    "    if bool(urlparse(path).netloc):\n",
    "        from urllib.request import urlopen\n",
    "        return urlopen(path).read().decode('utf8')\n",
    "    return open(path).read()"
   ]
  },
  {
   "cell_type": "code",
   "execution_count": 7,
   "id": "realistic-blast",
   "metadata": {
    "execution": {
     "iopub.execute_input": "2022-07-29T00:45:23.857874Z",
     "iopub.status.busy": "2022-07-29T00:45:23.857098Z",
     "iopub.status.idle": "2022-07-29T00:45:23.860469Z",
     "shell.execute_reply": "2022-07-29T00:45:23.859760Z"
    },
    "papermill": {
     "duration": 0.044436,
     "end_time": "2022-07-29T00:45:23.860586",
     "exception": false,
     "start_time": "2022-07-29T00:45:23.816150",
     "status": "completed"
    },
    "tags": []
   },
   "outputs": [],
   "source": [
    "#hide\n",
    "def get_frame(name):\n",
    "    url = (\n",
    "        'https://raw.githubusercontent.com/CSSEGISandData/COVID-19/master/csse_covid_19_data/'\n",
    "        f'csse_covid_19_time_series/time_series_covid19_{name}_global.csv')\n",
    "    df = pd.read_csv(url)\n",
    "    # rename countries\n",
    "    df['Country/Region'] = df['Country/Region'].replace(mapping['replace.country'])\n",
    "    return df"
   ]
  },
  {
   "cell_type": "code",
   "execution_count": 8,
   "id": "affiliated-characterization",
   "metadata": {
    "execution": {
     "iopub.execute_input": "2022-07-29T00:45:23.941007Z",
     "iopub.status.busy": "2022-07-29T00:45:23.940356Z",
     "iopub.status.idle": "2022-07-29T00:45:23.943949Z",
     "shell.execute_reply": "2022-07-29T00:45:23.943146Z"
    },
    "papermill": {
     "duration": 0.046364,
     "end_time": "2022-07-29T00:45:23.944149",
     "exception": false,
     "start_time": "2022-07-29T00:45:23.897785",
     "status": "completed"
    },
    "tags": []
   },
   "outputs": [],
   "source": [
    "#hide\n",
    "def get_dates(df):\n",
    "    dt_cols = df.columns[~df.columns.isin(['Province/State', 'Country/Region', 'Lat', 'Long'])]\n",
    "    LAST_DATE_I = -1\n",
    "    # sometimes last column may be empty, then go backwards\n",
    "    for i in range(-1, -len(dt_cols), -1):\n",
    "        if not df[dt_cols[i]].fillna(0).eq(0).all():\n",
    "            LAST_DATE_I = i\n",
    "            break\n",
    "    return LAST_DATE_I, dt_cols"
   ]
  },
  {
   "cell_type": "code",
   "execution_count": 9,
   "id": "recent-optimization",
   "metadata": {
    "execution": {
     "iopub.execute_input": "2022-07-29T00:45:24.025440Z",
     "iopub.status.busy": "2022-07-29T00:45:24.024660Z",
     "iopub.status.idle": "2022-07-29T00:45:24.515736Z",
     "shell.execute_reply": "2022-07-29T00:45:24.514573Z"
    },
    "papermill": {
     "duration": 0.534421,
     "end_time": "2022-07-29T00:45:24.515860",
     "exception": false,
     "start_time": "2022-07-29T00:45:23.981439",
     "status": "completed"
    },
    "tags": []
   },
   "outputs": [],
   "source": [
    "#hide\n",
    "COL_REGION = 'Country/Region'\n",
    "# Confirmed, Recovered, Deaths\n",
    "df = get_frame('confirmed')\n",
    "# dft_: timeseries, dfc_: today country agg\n",
    "dft_cases = df\n",
    "dft_deaths = get_frame('deaths')\n",
    "dft_recovered = get_frame('recovered')\n",
    "LAST_DATE_I, dt_cols = get_dates(df)"
   ]
  },
  {
   "cell_type": "code",
   "execution_count": 10,
   "id": "absolute-copper",
   "metadata": {
    "execution": {
     "iopub.execute_input": "2022-07-29T00:45:24.593769Z",
     "iopub.status.busy": "2022-07-29T00:45:24.591754Z",
     "iopub.status.idle": "2022-07-29T00:45:24.595818Z",
     "shell.execute_reply": "2022-07-29T00:45:24.595228Z"
    },
    "papermill": {
     "duration": 0.044853,
     "end_time": "2022-07-29T00:45:24.595935",
     "exception": false,
     "start_time": "2022-07-29T00:45:24.551082",
     "status": "completed"
    },
    "tags": []
   },
   "outputs": [],
   "source": [
    "#hide\n",
    "LAST_DATE_I, dt_cols = get_dates(df)\n",
    "dt_today =dt_cols[LAST_DATE_I]\n",
    "# dt_5day = dt_cols[LAST_DATE_I - 5]\n",
    "dt_yday = dt_cols[LAST_DATE_I - 1]"
   ]
  },
  {
   "cell_type": "code",
   "execution_count": 11,
   "id": "restricted-sheriff",
   "metadata": {
    "execution": {
     "iopub.execute_input": "2022-07-29T00:45:24.665705Z",
     "iopub.status.busy": "2022-07-29T00:45:24.664947Z",
     "iopub.status.idle": "2022-07-29T00:45:24.674709Z",
     "shell.execute_reply": "2022-07-29T00:45:24.675215Z"
    },
    "papermill": {
     "duration": 0.047508,
     "end_time": "2022-07-29T00:45:24.675369",
     "exception": false,
     "start_time": "2022-07-29T00:45:24.627861",
     "status": "completed"
    },
    "tags": []
   },
   "outputs": [],
   "source": [
    "#hide\n",
    "dfc_cases = dft_cases.groupby(COL_REGION)[dt_today].sum()\n",
    "dfc_deaths = dft_deaths.groupby(COL_REGION)[dt_today].sum()\n",
    "# dfp_cases = dft_cases.groupby(COL_REGION)[dt_5day].sum()\n",
    "# dfp_deaths = dft_deaths.groupby(COL_REGION)[dt_5day].sum()\n",
    "dfp_cases = dft_cases.groupby(COL_REGION)[dt_yday].sum()\n",
    "dfp_deaths = dft_deaths.groupby(COL_REGION)[dt_yday].sum()"
   ]
  },
  {
   "cell_type": "code",
   "execution_count": 12,
   "id": "deluxe-hepatitis",
   "metadata": {
    "execution": {
     "iopub.execute_input": "2022-07-29T00:45:24.755667Z",
     "iopub.status.busy": "2022-07-29T00:45:24.755001Z",
     "iopub.status.idle": "2022-07-29T00:45:24.761136Z",
     "shell.execute_reply": "2022-07-29T00:45:24.760626Z"
    },
    "papermill": {
     "duration": 0.047722,
     "end_time": "2022-07-29T00:45:24.761260",
     "exception": false,
     "start_time": "2022-07-29T00:45:24.713538",
     "status": "completed"
    },
    "tags": []
   },
   "outputs": [],
   "source": [
    "#hide\n",
    "df_table = (pd.DataFrame(dict(Cases = dfc_cases, Deaths = dfc_deaths, PCases = dfp_cases, PDeaths = dfp_deaths))\n",
    "            .sort_values(by = ['Cases','Deaths'], ascending = [False, False])\n",
    "            .reset_index())"
   ]
  },
  {
   "cell_type": "code",
   "execution_count": 13,
   "id": "educational-chancellor",
   "metadata": {
    "execution": {
     "iopub.execute_input": "2022-07-29T00:45:24.854546Z",
     "iopub.status.busy": "2022-07-29T00:45:24.853823Z",
     "iopub.status.idle": "2022-07-29T00:45:24.863091Z",
     "shell.execute_reply": "2022-07-29T00:45:24.863688Z"
    },
    "papermill": {
     "duration": 0.067379,
     "end_time": "2022-07-29T00:45:24.863814",
     "exception": false,
     "start_time": "2022-07-29T00:45:24.796435",
     "status": "completed"
    },
    "tags": []
   },
   "outputs": [
    {
     "data": {
      "text/html": [
       "<div>\n",
       "<style scoped>\n",
       "    .dataframe tbody tr th:only-of-type {\n",
       "        vertical-align: middle;\n",
       "    }\n",
       "\n",
       "    .dataframe tbody tr th {\n",
       "        vertical-align: top;\n",
       "    }\n",
       "\n",
       "    .dataframe thead th {\n",
       "        text-align: right;\n",
       "    }\n",
       "</style>\n",
       "<table border=\"1\" class=\"dataframe\">\n",
       "  <thead>\n",
       "    <tr style=\"text-align: right;\">\n",
       "      <th></th>\n",
       "      <th>Country/Region</th>\n",
       "      <th>Cases</th>\n",
       "      <th>Deaths</th>\n",
       "      <th>PCases</th>\n",
       "      <th>PDeaths</th>\n",
       "      <th>Cases (+)</th>\n",
       "      <th>Deaths (+)</th>\n",
       "      <th>Fatality Rate</th>\n",
       "      <th>Continent</th>\n",
       "    </tr>\n",
       "  </thead>\n",
       "  <tbody>\n",
       "    <tr>\n",
       "      <th>0</th>\n",
       "      <td>US</td>\n",
       "      <td>90972856</td>\n",
       "      <td>1028873</td>\n",
       "      <td>90733680</td>\n",
       "      <td>1027940</td>\n",
       "      <td>239176</td>\n",
       "      <td>933</td>\n",
       "      <td>1.13</td>\n",
       "      <td>North America</td>\n",
       "    </tr>\n",
       "    <tr>\n",
       "      <th>1</th>\n",
       "      <td>India</td>\n",
       "      <td>43959321</td>\n",
       "      <td>526212</td>\n",
       "      <td>43938764</td>\n",
       "      <td>526167</td>\n",
       "      <td>20557</td>\n",
       "      <td>45</td>\n",
       "      <td>1.20</td>\n",
       "      <td>Asia</td>\n",
       "    </tr>\n",
       "    <tr>\n",
       "      <th>2</th>\n",
       "      <td>France</td>\n",
       "      <td>33899625</td>\n",
       "      <td>152822</td>\n",
       "      <td>33840851</td>\n",
       "      <td>152719</td>\n",
       "      <td>58774</td>\n",
       "      <td>103</td>\n",
       "      <td>0.45</td>\n",
       "      <td>Europe</td>\n",
       "    </tr>\n",
       "    <tr>\n",
       "      <th>3</th>\n",
       "      <td>Brazil</td>\n",
       "      <td>33704393</td>\n",
       "      <td>677804</td>\n",
       "      <td>33659879</td>\n",
       "      <td>677494</td>\n",
       "      <td>44514</td>\n",
       "      <td>310</td>\n",
       "      <td>2.01</td>\n",
       "      <td>South America</td>\n",
       "    </tr>\n",
       "    <tr>\n",
       "      <th>4</th>\n",
       "      <td>Germany</td>\n",
       "      <td>30702511</td>\n",
       "      <td>143702</td>\n",
       "      <td>30598385</td>\n",
       "      <td>143545</td>\n",
       "      <td>104126</td>\n",
       "      <td>157</td>\n",
       "      <td>0.47</td>\n",
       "      <td>Europe</td>\n",
       "    </tr>\n",
       "  </tbody>\n",
       "</table>\n",
       "</div>"
      ],
      "text/plain": [
       "  Country/Region     Cases   Deaths    PCases  PDeaths  Cases (+)  Deaths (+)  \\\n",
       "0             US  90972856  1028873  90733680  1027940     239176         933   \n",
       "1          India  43959321   526212  43938764   526167      20557          45   \n",
       "2         France  33899625   152822  33840851   152719      58774         103   \n",
       "3         Brazil  33704393   677804  33659879   677494      44514         310   \n",
       "4        Germany  30702511   143702  30598385   143545     104126         157   \n",
       "\n",
       "   Fatality Rate      Continent  \n",
       "0           1.13  North America  \n",
       "1           1.20           Asia  \n",
       "2           0.45         Europe  \n",
       "3           2.01  South America  \n",
       "4           0.47         Europe  "
      ]
     },
     "execution_count": 13,
     "metadata": {},
     "output_type": "execute_result"
    }
   ],
   "source": [
    "#hide\n",
    "for c in 'Cases, Deaths'.split(', '):\n",
    "    df_table[f'{c} (+)'] = (df_table[c] - df_table[f'P{c}']).clip(0)\n",
    "    #Clip ça veut dire, les chiffres negatif sont interdit\n",
    "df_table['Fatality Rate'] = (100* df_table['Deaths']/ df_table['Cases']).round(2)\n",
    "df_table['Continent'] = df_table['Country/Region'].map(mapping['map.continent'])\n",
    "df_table.head(5)"
   ]
  },
  {
   "cell_type": "code",
   "execution_count": 14,
   "id": "aboriginal-bulgaria",
   "metadata": {
    "execution": {
     "iopub.execute_input": "2022-07-29T00:45:24.940725Z",
     "iopub.status.busy": "2022-07-29T00:45:24.940027Z",
     "iopub.status.idle": "2022-07-29T00:45:24.943578Z",
     "shell.execute_reply": "2022-07-29T00:45:24.942944Z"
    },
    "papermill": {
     "duration": 0.04542,
     "end_time": "2022-07-29T00:45:24.943828",
     "exception": false,
     "start_time": "2022-07-29T00:45:24.898408",
     "status": "completed"
    },
    "tags": []
   },
   "outputs": [],
   "source": [
    "#hide\n",
    "#delete problematic countries from table\n",
    "df_table = df_table[~df_table['Country/Region'].isin(['Cape Verde', 'Cruise Ship', 'Kosovo'])]"
   ]
  },
  {
   "cell_type": "code",
   "execution_count": 15,
   "id": "fantastic-effect",
   "metadata": {
    "execution": {
     "iopub.execute_input": "2022-07-29T00:45:25.028000Z",
     "iopub.status.busy": "2022-07-29T00:45:25.026612Z",
     "iopub.status.idle": "2022-07-29T00:45:25.050060Z",
     "shell.execute_reply": "2022-07-29T00:45:25.050654Z"
    },
    "papermill": {
     "duration": 0.069205,
     "end_time": "2022-07-29T00:45:25.050780",
     "exception": false,
     "start_time": "2022-07-29T00:45:24.981575",
     "status": "completed"
    },
    "tags": []
   },
   "outputs": [
    {
     "data": {
      "text/html": [
       "<div>\n",
       "<style scoped>\n",
       "    .dataframe tbody tr th:only-of-type {\n",
       "        vertical-align: middle;\n",
       "    }\n",
       "\n",
       "    .dataframe tbody tr th {\n",
       "        vertical-align: top;\n",
       "    }\n",
       "\n",
       "    .dataframe thead th {\n",
       "        text-align: right;\n",
       "    }\n",
       "</style>\n",
       "<table border=\"1\" class=\"dataframe\">\n",
       "  <thead>\n",
       "    <tr style=\"text-align: right;\">\n",
       "      <th></th>\n",
       "      <th>Country/Region</th>\n",
       "      <th>Cases</th>\n",
       "      <th>Deaths</th>\n",
       "      <th>PCases</th>\n",
       "      <th>PDeaths</th>\n",
       "      <th>Cases (+)</th>\n",
       "      <th>Deaths (+)</th>\n",
       "      <th>Fatality Rate</th>\n",
       "      <th>Continent</th>\n",
       "    </tr>\n",
       "  </thead>\n",
       "  <tbody>\n",
       "    <tr>\n",
       "      <th>0</th>\n",
       "      <td>US</td>\n",
       "      <td>90972856</td>\n",
       "      <td>1028873</td>\n",
       "      <td>90733680</td>\n",
       "      <td>1027940</td>\n",
       "      <td>239176</td>\n",
       "      <td>933</td>\n",
       "      <td>1.1</td>\n",
       "      <td>North America</td>\n",
       "    </tr>\n",
       "    <tr>\n",
       "      <th>1</th>\n",
       "      <td>India</td>\n",
       "      <td>43959321</td>\n",
       "      <td>526212</td>\n",
       "      <td>43938764</td>\n",
       "      <td>526167</td>\n",
       "      <td>20557</td>\n",
       "      <td>45</td>\n",
       "      <td>1.2</td>\n",
       "      <td>Asia</td>\n",
       "    </tr>\n",
       "    <tr>\n",
       "      <th>2</th>\n",
       "      <td>France</td>\n",
       "      <td>33899625</td>\n",
       "      <td>152822</td>\n",
       "      <td>33840851</td>\n",
       "      <td>152719</td>\n",
       "      <td>58774</td>\n",
       "      <td>103</td>\n",
       "      <td>0.5</td>\n",
       "      <td>Europe</td>\n",
       "    </tr>\n",
       "    <tr>\n",
       "      <th>3</th>\n",
       "      <td>Brazil</td>\n",
       "      <td>33704393</td>\n",
       "      <td>677804</td>\n",
       "      <td>33659879</td>\n",
       "      <td>677494</td>\n",
       "      <td>44514</td>\n",
       "      <td>310</td>\n",
       "      <td>2.0</td>\n",
       "      <td>South America</td>\n",
       "    </tr>\n",
       "    <tr>\n",
       "      <th>4</th>\n",
       "      <td>Germany</td>\n",
       "      <td>30702511</td>\n",
       "      <td>143702</td>\n",
       "      <td>30598385</td>\n",
       "      <td>143545</td>\n",
       "      <td>104126</td>\n",
       "      <td>157</td>\n",
       "      <td>0.5</td>\n",
       "      <td>Europe</td>\n",
       "    </tr>\n",
       "  </tbody>\n",
       "</table>\n",
       "</div>"
      ],
      "text/plain": [
       "  Country/Region     Cases   Deaths    PCases  PDeaths  Cases (+)  Deaths (+)  \\\n",
       "0             US  90972856  1028873  90733680  1027940     239176         933   \n",
       "1          India  43959321   526212  43938764   526167      20557          45   \n",
       "2         France  33899625   152822  33840851   152719      58774         103   \n",
       "3         Brazil  33704393   677804  33659879   677494      44514         310   \n",
       "4        Germany  30702511   143702  30598385   143545     104126         157   \n",
       "\n",
       "   Fatality Rate      Continent  \n",
       "0            1.1  North America  \n",
       "1            1.2           Asia  \n",
       "2            0.5         Europe  \n",
       "3            2.0  South America  \n",
       "4            0.5         Europe  "
      ]
     },
     "execution_count": 15,
     "metadata": {},
     "output_type": "execute_result"
    }
   ],
   "source": [
    "#hide\n",
    "df_table = (pd.DataFrame(dict(Cases=dfc_cases, Deaths=dfc_deaths, PCases=dfp_cases, PDeaths=dfp_deaths))\n",
    "             .sort_values(by=['Cases', 'Deaths'], ascending=[False, False])\n",
    "             .reset_index())\n",
    "df_table.rename(columns={'index': 'Country/Region'}, inplace=True)\n",
    "for c in 'Cases, Deaths'.split(', '):\n",
    "    df_table[f'{c} (+)'] = (df_table[c] - df_table[f'P{c}']).clip(0)  # DATA BUG\n",
    "df_table['Fatality Rate'] = (100 * df_table['Deaths'] / df_table['Cases']).round(1)\n",
    "df_table['Continent'] = df_table['Country/Region'].map(mapping['map.continent'])\n",
    "df_table.head(5)"
   ]
  },
  {
   "cell_type": "code",
   "execution_count": 16,
   "id": "fewer-occasion",
   "metadata": {
    "execution": {
     "iopub.execute_input": "2022-07-29T00:45:25.136468Z",
     "iopub.status.busy": "2022-07-29T00:45:25.135393Z",
     "iopub.status.idle": "2022-07-29T00:45:25.139046Z",
     "shell.execute_reply": "2022-07-29T00:45:25.138045Z"
    },
    "papermill": {
     "duration": 0.050003,
     "end_time": "2022-07-29T00:45:25.139264",
     "exception": false,
     "start_time": "2022-07-29T00:45:25.089261",
     "status": "completed"
    },
    "tags": []
   },
   "outputs": [],
   "source": [
    "#hide\n",
    "#delete problematic countries from table\n",
    "df_table = df_table[~df_table['Country/Region'].isin(['Cape Verde', 'Cruise Ship', 'Kosovo'])]"
   ]
  },
  {
   "cell_type": "code",
   "execution_count": 17,
   "id": "related-center",
   "metadata": {
    "execution": {
     "iopub.execute_input": "2022-07-29T00:45:25.239625Z",
     "iopub.status.busy": "2022-07-29T00:45:25.238919Z",
     "iopub.status.idle": "2022-07-29T00:45:25.242158Z",
     "shell.execute_reply": "2022-07-29T00:45:25.241617Z"
    },
    "papermill": {
     "duration": 0.062744,
     "end_time": "2022-07-29T00:45:25.242276",
     "exception": false,
     "start_time": "2022-07-29T00:45:25.179532",
     "status": "completed"
    },
    "tags": []
   },
   "outputs": [],
   "source": [
    "#hide\n",
    "metrics = [df_table.columns[index] for index in [1,2,5,6]]\n",
    "# s_china = df_table[df_table['Country/Region'].eq('China')][metrics].sum().add_prefix('China ')\n",
    "s_us = df_table[df_table['Country/Region'].eq('US')][metrics].sum().add_prefix('US ')\n",
    "s_eu = df_table[df_table['Continent'].eq('Europe')][metrics].sum().add_prefix('EU ')\n",
    "s_ind = df_table[df_table['Country/Region'].eq('India')][metrics].sum().add_prefix('India ')\n",
    "summary = {'updated': pd.to_datetime(dt_today), 'since': pd.to_datetime(dt_yday)}\n",
    "summary = {'updated': pd.to_datetime(dt_today), 'since': pd.to_datetime(dt_yday)}\n",
    "summary = {**summary, **df_table[metrics].sum(), **s_ind, **s_us, **s_eu}"
   ]
  },
  {
   "cell_type": "code",
   "execution_count": 18,
   "id": "engaging-syndrome",
   "metadata": {
    "execution": {
     "iopub.execute_input": "2022-07-29T00:45:25.328495Z",
     "iopub.status.busy": "2022-07-29T00:45:25.327603Z",
     "iopub.status.idle": "2022-07-29T00:45:25.350961Z",
     "shell.execute_reply": "2022-07-29T00:45:25.350390Z"
    },
    "papermill": {
     "duration": 0.07044,
     "end_time": "2022-07-29T00:45:25.351084",
     "exception": false,
     "start_time": "2022-07-29T00:45:25.280644",
     "status": "completed"
    },
    "tags": []
   },
   "outputs": [],
   "source": [
    "#hide\n",
    "dft_ct_new_cases = dft_cases.groupby(COL_REGION)[dt_cols].sum().diff(axis=1).fillna(0).astype(int)"
   ]
  },
  {
   "cell_type": "code",
   "execution_count": 19,
   "id": "neutral-assignment",
   "metadata": {
    "execution": {
     "iopub.execute_input": "2022-07-29T00:45:25.436689Z",
     "iopub.status.busy": "2022-07-29T00:45:25.435962Z",
     "iopub.status.idle": "2022-07-29T00:45:25.439453Z",
     "shell.execute_reply": "2022-07-29T00:45:25.438555Z"
    },
    "papermill": {
     "duration": 0.051161,
     "end_time": "2022-07-29T00:45:25.439621",
     "exception": false,
     "start_time": "2022-07-29T00:45:25.388460",
     "status": "completed"
    },
    "tags": []
   },
   "outputs": [],
   "source": [
    "#hide\n",
    "everydaycases = dft_ct_new_cases.cumsum(axis=1)"
   ]
  },
  {
   "cell_type": "code",
   "execution_count": 20,
   "id": "parliamentary-calgary",
   "metadata": {
    "execution": {
     "iopub.execute_input": "2022-07-29T00:45:25.523757Z",
     "iopub.status.busy": "2022-07-29T00:45:25.523080Z",
     "iopub.status.idle": "2022-07-29T00:45:26.190436Z",
     "shell.execute_reply": "2022-07-29T00:45:26.191174Z"
    },
    "papermill": {
     "duration": 0.714388,
     "end_time": "2022-07-29T00:45:26.191365",
     "exception": false,
     "start_time": "2022-07-29T00:45:25.476977",
     "status": "completed"
    },
    "tags": []
   },
   "outputs": [],
   "source": [
    "#hide\n",
    "import pandas as pd\n",
    "import matplotlib.pyplot as plt\n",
    "import matplotlib.ticker as ticker\n",
    "import matplotlib.animation as animation\n",
    "from IPython.display import HTML"
   ]
  },
  {
   "cell_type": "code",
   "execution_count": 21,
   "id": "lasting-extraction",
   "metadata": {
    "execution": {
     "iopub.execute_input": "2022-07-29T00:45:26.280125Z",
     "iopub.status.busy": "2022-07-29T00:45:26.279410Z",
     "iopub.status.idle": "2022-07-29T00:45:26.287241Z",
     "shell.execute_reply": "2022-07-29T00:45:26.286613Z"
    },
    "papermill": {
     "duration": 0.054332,
     "end_time": "2022-07-29T00:45:26.287355",
     "exception": false,
     "start_time": "2022-07-29T00:45:26.233023",
     "status": "completed"
    },
    "tags": []
   },
   "outputs": [],
   "source": [
    "#hide\n",
    "t = everydaycases.stack()"
   ]
  },
  {
   "cell_type": "code",
   "execution_count": 22,
   "id": "premier-sleeve",
   "metadata": {
    "execution": {
     "iopub.execute_input": "2022-07-29T00:45:26.373520Z",
     "iopub.status.busy": "2022-07-29T00:45:26.372269Z",
     "iopub.status.idle": "2022-07-29T00:45:26.386667Z",
     "shell.execute_reply": "2022-07-29T00:45:26.387314Z"
    },
    "papermill": {
     "duration": 0.058932,
     "end_time": "2022-07-29T00:45:26.387446",
     "exception": false,
     "start_time": "2022-07-29T00:45:26.328514",
     "status": "completed"
    },
    "tags": []
   },
   "outputs": [],
   "source": [
    "#hide\n",
    "g = t.reset_index(['Country/Region'])"
   ]
  },
  {
   "cell_type": "code",
   "execution_count": 23,
   "id": "distributed-pittsburgh",
   "metadata": {
    "execution": {
     "iopub.execute_input": "2022-07-29T00:45:26.466811Z",
     "iopub.status.busy": "2022-07-29T00:45:26.466148Z",
     "iopub.status.idle": "2022-07-29T00:45:26.469230Z",
     "shell.execute_reply": "2022-07-29T00:45:26.468360Z"
    },
    "papermill": {
     "duration": 0.044203,
     "end_time": "2022-07-29T00:45:26.469401",
     "exception": false,
     "start_time": "2022-07-29T00:45:26.425198",
     "status": "completed"
    },
    "tags": []
   },
   "outputs": [],
   "source": [
    "#hide\n",
    "g.index.name = 'date'"
   ]
  },
  {
   "cell_type": "code",
   "execution_count": 24,
   "id": "naked-donor",
   "metadata": {
    "execution": {
     "iopub.execute_input": "2022-07-29T00:45:26.559848Z",
     "iopub.status.busy": "2022-07-29T00:45:26.559159Z",
     "iopub.status.idle": "2022-07-29T00:45:26.563939Z",
     "shell.execute_reply": "2022-07-29T00:45:26.563410Z"
    },
    "papermill": {
     "duration": 0.055347,
     "end_time": "2022-07-29T00:45:26.564060",
     "exception": false,
     "start_time": "2022-07-29T00:45:26.508713",
     "status": "completed"
    },
    "tags": []
   },
   "outputs": [],
   "source": [
    "# #hide\n",
    "# g = g.reset_index(['date'])"
   ]
  },
  {
   "cell_type": "code",
   "execution_count": 25,
   "id": "incomplete-mustang",
   "metadata": {
    "execution": {
     "iopub.execute_input": "2022-07-29T00:45:26.645685Z",
     "iopub.status.busy": "2022-07-29T00:45:26.644892Z",
     "iopub.status.idle": "2022-07-29T00:45:26.650036Z",
     "shell.execute_reply": "2022-07-29T00:45:26.649398Z"
    },
    "papermill": {
     "duration": 0.048682,
     "end_time": "2022-07-29T00:45:26.650143",
     "exception": false,
     "start_time": "2022-07-29T00:45:26.601461",
     "status": "completed"
    },
    "tags": []
   },
   "outputs": [],
   "source": [
    "#hide\n",
    "# g.head()"
   ]
  },
  {
   "cell_type": "code",
   "execution_count": 26,
   "id": "specific-kruger",
   "metadata": {
    "execution": {
     "iopub.execute_input": "2022-07-29T00:45:26.731594Z",
     "iopub.status.busy": "2022-07-29T00:45:26.730944Z",
     "iopub.status.idle": "2022-07-29T00:45:26.737208Z",
     "shell.execute_reply": "2022-07-29T00:45:26.736653Z"
    },
    "papermill": {
     "duration": 0.0485,
     "end_time": "2022-07-29T00:45:26.737330",
     "exception": false,
     "start_time": "2022-07-29T00:45:26.688830",
     "status": "completed"
    },
    "tags": []
   },
   "outputs": [],
   "source": [
    "#hide\n",
    "# g.columns = ['date','country','cases']"
   ]
  },
  {
   "cell_type": "code",
   "execution_count": 27,
   "id": "tender-conversion",
   "metadata": {
    "execution": {
     "iopub.execute_input": "2022-07-29T00:45:26.816670Z",
     "iopub.status.busy": "2022-07-29T00:45:26.815989Z",
     "iopub.status.idle": "2022-07-29T00:45:26.821514Z",
     "shell.execute_reply": "2022-07-29T00:45:26.820957Z"
    },
    "papermill": {
     "duration": 0.047954,
     "end_time": "2022-07-29T00:45:26.821650",
     "exception": false,
     "start_time": "2022-07-29T00:45:26.773696",
     "status": "completed"
    },
    "tags": []
   },
   "outputs": [],
   "source": [
    "#hide\n",
    "# g['continent'] = g.country"
   ]
  },
  {
   "cell_type": "code",
   "execution_count": 28,
   "id": "substantial-wilderness",
   "metadata": {
    "execution": {
     "iopub.execute_input": "2022-07-29T00:45:26.906207Z",
     "iopub.status.busy": "2022-07-29T00:45:26.905296Z",
     "iopub.status.idle": "2022-07-29T00:45:26.910174Z",
     "shell.execute_reply": "2022-07-29T00:45:26.910748Z"
    },
    "papermill": {
     "duration": 0.049495,
     "end_time": "2022-07-29T00:45:26.910895",
     "exception": false,
     "start_time": "2022-07-29T00:45:26.861400",
     "status": "completed"
    },
    "tags": []
   },
   "outputs": [],
   "source": [
    "#hide\n",
    "# cols = list(g.columns.values)"
   ]
  },
  {
   "cell_type": "code",
   "execution_count": 29,
   "id": "solved-farming",
   "metadata": {
    "execution": {
     "iopub.execute_input": "2022-07-29T00:45:26.995395Z",
     "iopub.status.busy": "2022-07-29T00:45:26.994513Z",
     "iopub.status.idle": "2022-07-29T00:45:26.998678Z",
     "shell.execute_reply": "2022-07-29T00:45:26.997846Z"
    },
    "papermill": {
     "duration": 0.047985,
     "end_time": "2022-07-29T00:45:26.998803",
     "exception": false,
     "start_time": "2022-07-29T00:45:26.950818",
     "status": "completed"
    },
    "tags": []
   },
   "outputs": [],
   "source": [
    "#hide\n",
    "# cols.insert(0, cols.pop())"
   ]
  },
  {
   "cell_type": "code",
   "execution_count": 30,
   "id": "executed-adoption",
   "metadata": {
    "execution": {
     "iopub.execute_input": "2022-07-29T00:45:27.079649Z",
     "iopub.status.busy": "2022-07-29T00:45:27.078885Z",
     "iopub.status.idle": "2022-07-29T00:45:27.082039Z",
     "shell.execute_reply": "2022-07-29T00:45:27.081477Z"
    },
    "papermill": {
     "duration": 0.047663,
     "end_time": "2022-07-29T00:45:27.082165",
     "exception": false,
     "start_time": "2022-07-29T00:45:27.034502",
     "status": "completed"
    },
    "tags": []
   },
   "outputs": [],
   "source": [
    "#hide\n",
    "# g = g[cols]"
   ]
  },
  {
   "cell_type": "code",
   "execution_count": 31,
   "id": "subject-dublin",
   "metadata": {
    "execution": {
     "iopub.execute_input": "2022-07-29T00:45:27.159146Z",
     "iopub.status.busy": "2022-07-29T00:45:27.157794Z",
     "iopub.status.idle": "2022-07-29T00:45:27.160281Z",
     "shell.execute_reply": "2022-07-29T00:45:27.160930Z"
    },
    "papermill": {
     "duration": 0.043035,
     "end_time": "2022-07-29T00:45:27.161060",
     "exception": false,
     "start_time": "2022-07-29T00:45:27.118025",
     "status": "completed"
    },
    "tags": []
   },
   "outputs": [],
   "source": [
    "#hide\n",
    "# g['continent'] = g['continent'].map(mapping['map.continent'])"
   ]
  },
  {
   "cell_type": "code",
   "execution_count": 32,
   "id": "freelance-scout",
   "metadata": {
    "execution": {
     "iopub.execute_input": "2022-07-29T00:45:27.244355Z",
     "iopub.status.busy": "2022-07-29T00:45:27.243307Z",
     "iopub.status.idle": "2022-07-29T00:45:27.246775Z",
     "shell.execute_reply": "2022-07-29T00:45:27.246100Z"
    },
    "papermill": {
     "duration": 0.046322,
     "end_time": "2022-07-29T00:45:27.246901",
     "exception": false,
     "start_time": "2022-07-29T00:45:27.200579",
     "status": "completed"
    },
    "tags": []
   },
   "outputs": [],
   "source": [
    "#hide\n",
    "# g.head()"
   ]
  },
  {
   "cell_type": "code",
   "execution_count": 33,
   "id": "limited-engine",
   "metadata": {
    "execution": {
     "iopub.execute_input": "2022-07-29T00:45:27.334071Z",
     "iopub.status.busy": "2022-07-29T00:45:27.333400Z",
     "iopub.status.idle": "2022-07-29T00:45:27.335898Z",
     "shell.execute_reply": "2022-07-29T00:45:27.336793Z"
    },
    "papermill": {
     "duration": 0.050934,
     "end_time": "2022-07-29T00:45:27.336953",
     "exception": false,
     "start_time": "2022-07-29T00:45:27.286019",
     "status": "completed"
    },
    "tags": []
   },
   "outputs": [],
   "source": [
    "# hide\n",
    "# g['date'] = g['date'].astype('datetime64[ns]')"
   ]
  },
  {
   "cell_type": "code",
   "execution_count": 34,
   "id": "sophisticated-supervisor",
   "metadata": {
    "execution": {
     "iopub.execute_input": "2022-07-29T00:45:27.417891Z",
     "iopub.status.busy": "2022-07-29T00:45:27.417054Z",
     "iopub.status.idle": "2022-07-29T00:45:27.420829Z",
     "shell.execute_reply": "2022-07-29T00:45:27.420097Z"
    },
    "papermill": {
     "duration": 0.04411,
     "end_time": "2022-07-29T00:45:27.421007",
     "exception": false,
     "start_time": "2022-07-29T00:45:27.376897",
     "status": "completed"
    },
    "tags": []
   },
   "outputs": [],
   "source": [
    "#hide\n",
    "# g['date'] = g.date.dt.dayofyear"
   ]
  },
  {
   "cell_type": "code",
   "execution_count": 35,
   "id": "inside-dubai",
   "metadata": {
    "execution": {
     "iopub.execute_input": "2022-07-29T00:45:27.505530Z",
     "iopub.status.busy": "2022-07-29T00:45:27.504713Z",
     "iopub.status.idle": "2022-07-29T00:45:27.508580Z",
     "shell.execute_reply": "2022-07-29T00:45:27.507923Z"
    },
    "papermill": {
     "duration": 0.046181,
     "end_time": "2022-07-29T00:45:27.508715",
     "exception": false,
     "start_time": "2022-07-29T00:45:27.462534",
     "status": "completed"
    },
    "tags": []
   },
   "outputs": [],
   "source": [
    "#hide\n",
    "# g = g.rename(columns= {'continent':'group','country':'name','cases':'value'})"
   ]
  },
  {
   "cell_type": "code",
   "execution_count": 36,
   "id": "fleet-motorcycle",
   "metadata": {
    "execution": {
     "iopub.execute_input": "2022-07-29T00:45:27.591250Z",
     "iopub.status.busy": "2022-07-29T00:45:27.590618Z",
     "iopub.status.idle": "2022-07-29T00:45:27.594037Z",
     "shell.execute_reply": "2022-07-29T00:45:27.593322Z"
    },
    "papermill": {
     "duration": 0.04592,
     "end_time": "2022-07-29T00:45:27.594174",
     "exception": false,
     "start_time": "2022-07-29T00:45:27.548254",
     "status": "completed"
    },
    "tags": []
   },
   "outputs": [],
   "source": [
    "#hide\n",
    "# cols = ['name','group','day','value']"
   ]
  },
  {
   "cell_type": "code",
   "execution_count": 37,
   "id": "continued-sleeping",
   "metadata": {
    "execution": {
     "iopub.execute_input": "2022-07-29T00:45:27.673487Z",
     "iopub.status.busy": "2022-07-29T00:45:27.672768Z",
     "iopub.status.idle": "2022-07-29T00:45:27.677329Z",
     "shell.execute_reply": "2022-07-29T00:45:27.676653Z"
    },
    "papermill": {
     "duration": 0.046949,
     "end_time": "2022-07-29T00:45:27.677449",
     "exception": false,
     "start_time": "2022-07-29T00:45:27.630500",
     "status": "completed"
    },
    "tags": []
   },
   "outputs": [],
   "source": [
    "#hide\n",
    "# g.rename(columns= {'date':'day'},inplace = True)"
   ]
  },
  {
   "cell_type": "code",
   "execution_count": 38,
   "id": "major-fight",
   "metadata": {
    "execution": {
     "iopub.execute_input": "2022-07-29T00:45:27.759373Z",
     "iopub.status.busy": "2022-07-29T00:45:27.758670Z",
     "iopub.status.idle": "2022-07-29T00:45:27.763598Z",
     "shell.execute_reply": "2022-07-29T00:45:27.762948Z"
    },
    "papermill": {
     "duration": 0.047746,
     "end_time": "2022-07-29T00:45:27.763751",
     "exception": false,
     "start_time": "2022-07-29T00:45:27.716005",
     "status": "completed"
    },
    "tags": []
   },
   "outputs": [],
   "source": [
    "#hide\n",
    "# g = g[cols]"
   ]
  },
  {
   "cell_type": "code",
   "execution_count": 39,
   "id": "structured-mobile",
   "metadata": {
    "execution": {
     "iopub.execute_input": "2022-07-29T00:45:27.845435Z",
     "iopub.status.busy": "2022-07-29T00:45:27.844701Z",
     "iopub.status.idle": "2022-07-29T00:45:27.849363Z",
     "shell.execute_reply": "2022-07-29T00:45:27.848439Z"
    },
    "papermill": {
     "duration": 0.048038,
     "end_time": "2022-07-29T00:45:27.849506",
     "exception": false,
     "start_time": "2022-07-29T00:45:27.801468",
     "status": "completed"
    },
    "tags": []
   },
   "outputs": [],
   "source": [
    "# #hide\n",
    "# g = g[g.group.notna()]"
   ]
  },
  {
   "cell_type": "code",
   "execution_count": 40,
   "id": "determined-closing",
   "metadata": {
    "execution": {
     "iopub.execute_input": "2022-07-29T00:45:27.931011Z",
     "iopub.status.busy": "2022-07-29T00:45:27.930168Z",
     "iopub.status.idle": "2022-07-29T00:45:27.933154Z",
     "shell.execute_reply": "2022-07-29T00:45:27.932537Z"
    },
    "papermill": {
     "duration": 0.04404,
     "end_time": "2022-07-29T00:45:27.933267",
     "exception": false,
     "start_time": "2022-07-29T00:45:27.889227",
     "status": "completed"
    },
    "tags": []
   },
   "outputs": [],
   "source": [
    "# #hide\n",
    "# colors = dict(zip(\n",
    "#     [\"Oceania\", \"Europe\", \"Asia\", \"South America\", \"Middle East\", \"North America\", \"Africa\"],\n",
    "#     [\"#adb0ff\", \"#ffb3ff\", \"#90d595\", \"#e48381\", \"#aafbff\", \"#f7bb5f\", \"#eafb50\"]\n",
    "# ))\n",
    "# group_lk = g.set_index('name')['group'].to_dict()"
   ]
  },
  {
   "cell_type": "code",
   "execution_count": null,
   "id": "gross-drinking",
   "metadata": {
    "papermill": {
     "duration": 0.036205,
     "end_time": "2022-07-29T00:45:28.004837",
     "exception": false,
     "start_time": "2022-07-29T00:45:27.968632",
     "status": "completed"
    },
    "tags": []
   },
   "outputs": [],
   "source": []
  },
  {
   "cell_type": "code",
   "execution_count": 41,
   "id": "subject-macintosh",
   "metadata": {
    "execution": {
     "iopub.execute_input": "2022-07-29T00:45:28.089171Z",
     "iopub.status.busy": "2022-07-29T00:45:28.088507Z",
     "iopub.status.idle": "2022-07-29T00:45:28.091405Z",
     "shell.execute_reply": "2022-07-29T00:45:28.091946Z"
    },
    "papermill": {
     "duration": 0.049489,
     "end_time": "2022-07-29T00:45:28.092078",
     "exception": false,
     "start_time": "2022-07-29T00:45:28.042589",
     "status": "completed"
    },
    "tags": []
   },
   "outputs": [],
   "source": [
    "# #hide\n",
    "# fig, ax = plt.subplots(figsize=(15, 8))\n",
    "\n",
    "# def draw_barchart(current_day):\n",
    "#     dff = g[g['day'].eq(current_day)].sort_values(by='value', ascending=True).tail(10)\n",
    "#     ax.clear()\n",
    "#     ax.barh(dff['name'], dff['value'], color=[colors[group_lk[x]] for x in dff['name']])\n",
    "#     dx = dff['value'].max() / 200\n",
    "    \n",
    "#     for i, (value, name) in enumerate(zip(dff['value'], dff['name'])):\n",
    "#         ax.text(value-dx, i,     name,           size=14, weight=600, ha='right', va='bottom')\n",
    "#         ax.text(value-dx, i-.25, group_lk[name], size=10, color='#444444', ha='right', va='baseline')\n",
    "#         ax.text(value+dx, i,     f'{value:,.0f}',  size=14, ha='left',  va='center')\n",
    "#     ax.text(1, 0.4, current_day, transform=ax.transAxes, color='#777777', size=46, ha='right', weight=800)\n",
    "#     ax.text(0, 1.06, 'Population (thousands)', transform=ax.transAxes, size=12, color='#777777')\n",
    "#     ax.xaxis.set_major_formatter(ticker.StrMethodFormatter('{x:,.0f}'))\n",
    "#     ax.xaxis.set_ticks_position('top')\n",
    "#     ax.tick_params(axis='x', colors='#777777', labelsize=12)\n",
    "#     ax.set_yticks([])\n",
    "#     ax.margins(0, 0.01)\n",
    "#     ax.grid(which='major', axis='x', linestyle='-')\n",
    "#     ax.set_axisbelow(True)\n",
    "    \n",
    "#     ax.text(0, 1.15, 'Coronavirus',\n",
    "#             transform=ax.transAxes, size=24, weight=600, ha='left', va='top')\n",
    "# #     ax.text(1, 0, 'by @pratapvardhan; credit @jburnmurdoch', transform=ax.transAxes, color='#777777', ha='right',\n",
    "# #             bbox=dict(facecolor='white', alpha=0.8, edgecolor='white'))\n",
    "#     plt.box(False)"
   ]
  },
  {
   "cell_type": "code",
   "execution_count": 42,
   "id": "sexual-wages",
   "metadata": {
    "execution": {
     "iopub.execute_input": "2022-07-29T00:45:28.167216Z",
     "iopub.status.busy": "2022-07-29T00:45:28.166624Z",
     "iopub.status.idle": "2022-07-29T00:45:28.169373Z",
     "shell.execute_reply": "2022-07-29T00:45:28.168735Z"
    },
    "papermill": {
     "duration": 0.042252,
     "end_time": "2022-07-29T00:45:28.169506",
     "exception": false,
     "start_time": "2022-07-29T00:45:28.127254",
     "status": "completed"
    },
    "tags": []
   },
   "outputs": [],
   "source": [
    "# #hide_input\n",
    "# fig, ax = plt.subplots(figsize=(15, 8))\n",
    "# animator = animation.FuncAnimation(fig, draw_barchart, frames=range(g.day.values.min(), g.day.values.max()))\n",
    "# HTML(animator.to_jshtml())\n",
    "# # or use animator.to_html5_video() or animator.save() "
   ]
  },
  {
   "cell_type": "code",
   "execution_count": null,
   "id": "australian-container",
   "metadata": {
    "papermill": {
     "duration": 0.034894,
     "end_time": "2022-07-29T00:45:28.240583",
     "exception": false,
     "start_time": "2022-07-29T00:45:28.205689",
     "status": "completed"
    },
    "tags": []
   },
   "outputs": [],
   "source": []
  },
  {
   "cell_type": "code",
   "execution_count": null,
   "id": "mediterranean-pontiac",
   "metadata": {
    "papermill": {
     "duration": 0.039384,
     "end_time": "2022-07-29T00:45:28.318289",
     "exception": false,
     "start_time": "2022-07-29T00:45:28.278905",
     "status": "completed"
    },
    "tags": []
   },
   "outputs": [],
   "source": []
  },
  {
   "cell_type": "code",
   "execution_count": null,
   "id": "aging-legislature",
   "metadata": {
    "papermill": {
     "duration": 0.038422,
     "end_time": "2022-07-29T00:45:28.397218",
     "exception": false,
     "start_time": "2022-07-29T00:45:28.358796",
     "status": "completed"
    },
    "tags": []
   },
   "outputs": [],
   "source": []
  }
 ],
 "metadata": {
  "kernelspec": {
   "display_name": "Python 3",
   "language": "python",
   "name": "python3"
  },
  "language_info": {
   "codemirror_mode": {
    "name": "ipython",
    "version": 3
   },
   "file_extension": ".py",
   "mimetype": "text/x-python",
   "name": "python",
   "nbconvert_exporter": "python",
   "pygments_lexer": "ipython3",
   "version": "3.6.15"
  },
  "papermill": {
   "duration": 7.270056,
   "end_time": "2022-07-29T00:45:28.752064",
   "environment_variables": {},
   "exception": null,
   "input_path": "2020-03-21-covid19exp.ipynb",
   "output_path": "2020-03-21-covid19exp.ipynb",
   "parameters": {},
   "start_time": "2022-07-29T00:45:21.482008",
   "version": "2.0.0"
  }
 },
 "nbformat": 4,
 "nbformat_minor": 5
}