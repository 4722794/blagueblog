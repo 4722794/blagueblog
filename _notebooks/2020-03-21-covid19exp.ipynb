{
 "cells": [
  {
   "cell_type": "markdown",
   "id": "muslim-click",
   "metadata": {
    "papermill": {
     "duration": 0.041626,
     "end_time": "2021-03-25T12:04:01.313292",
     "exception": false,
     "start_time": "2021-03-25T12:04:01.271666",
     "status": "completed"
    },
    "tags": []
   },
   "source": [
    "# COVID-19 Case Race\n",
    "> A race chart to see rising cases around the world\n",
    "\n",
    "- author: Hargun Oberoi\n",
    "- image: images/covid-overview.png\n",
    "- hide: false\n",
    "- badges: false"
   ]
  },
  {
   "cell_type": "code",
   "execution_count": 1,
   "id": "proof-material",
   "metadata": {
    "execution": {
     "iopub.execute_input": "2021-03-25T12:04:01.399986Z",
     "iopub.status.busy": "2021-03-25T12:04:01.399296Z",
     "iopub.status.idle": "2021-03-25T12:04:01.753225Z",
     "shell.execute_reply": "2021-03-25T12:04:01.752618Z"
    },
    "papermill": {
     "duration": 0.402556,
     "end_time": "2021-03-25T12:04:01.753387",
     "exception": false,
     "start_time": "2021-03-25T12:04:01.350831",
     "status": "completed"
    },
    "tags": []
   },
   "outputs": [],
   "source": [
    "#hide\n",
    "import numpy as np\n",
    "import pandas as pd\n",
    "from jinja2 import Template\n",
    "from IPython.display import HTML"
   ]
  },
  {
   "cell_type": "code",
   "execution_count": 2,
   "id": "developed-terminology",
   "metadata": {
    "execution": {
     "iopub.execute_input": "2021-03-25T12:04:01.834311Z",
     "iopub.status.busy": "2021-03-25T12:04:01.833591Z",
     "iopub.status.idle": "2021-03-25T12:04:01.835229Z",
     "shell.execute_reply": "2021-03-25T12:04:01.835842Z"
    },
    "papermill": {
     "duration": 0.046186,
     "end_time": "2021-03-25T12:04:01.836024",
     "exception": false,
     "start_time": "2021-03-25T12:04:01.789838",
     "status": "completed"
    },
    "tags": []
   },
   "outputs": [],
   "source": [
    "#hide\n",
    "\n",
    "# FETCH\n",
    "base_url = 'https://raw.githubusercontent.com/pratapvardhan/notebooks/master/covid19/'\n",
    "paths = {\n",
    "    'mapping': base_url + 'mapping_countries.csv',\n",
    "    'overview': base_url + 'overview.tpl'\n",
    "}"
   ]
  },
  {
   "cell_type": "code",
   "execution_count": 3,
   "id": "dynamic-saver",
   "metadata": {
    "execution": {
     "iopub.execute_input": "2021-03-25T12:04:01.921386Z",
     "iopub.status.busy": "2021-03-25T12:04:01.920720Z",
     "iopub.status.idle": "2021-03-25T12:04:01.923861Z",
     "shell.execute_reply": "2021-03-25T12:04:01.923259Z"
    },
    "papermill": {
     "duration": 0.049563,
     "end_time": "2021-03-25T12:04:01.923989",
     "exception": false,
     "start_time": "2021-03-25T12:04:01.874426",
     "status": "completed"
    },
    "tags": []
   },
   "outputs": [
    {
     "data": {
      "text/plain": [
       "'https://raw.githubusercontent.com/pratapvardhan/notebooks/master/covid19/mapping_countries.csv'"
      ]
     },
     "execution_count": 3,
     "metadata": {},
     "output_type": "execute_result"
    }
   ],
   "source": [
    "#hide\n",
    "paths['mapping']"
   ]
  },
  {
   "cell_type": "code",
   "execution_count": 4,
   "id": "urban-software",
   "metadata": {
    "execution": {
     "iopub.execute_input": "2021-03-25T12:04:02.002558Z",
     "iopub.status.busy": "2021-03-25T12:04:02.001943Z",
     "iopub.status.idle": "2021-03-25T12:04:02.004008Z",
     "shell.execute_reply": "2021-03-25T12:04:02.004771Z"
    },
    "papermill": {
     "duration": 0.04453,
     "end_time": "2021-03-25T12:04:02.004903",
     "exception": false,
     "start_time": "2021-03-25T12:04:01.960373",
     "status": "completed"
    },
    "tags": []
   },
   "outputs": [],
   "source": [
    "#hide\n",
    "def get_mappings(url):\n",
    "    df = pd.read_csv(url)\n",
    "    return {\n",
    "        'df': df,\n",
    "        'replace.country': dict(df.dropna(subset=['Name']).set_index('Country')['Name']),\n",
    "        'map.continent': dict(df.set_index('Name')['Continent'])\n",
    "    }"
   ]
  },
  {
   "cell_type": "code",
   "execution_count": 5,
   "id": "intimate-machinery",
   "metadata": {
    "execution": {
     "iopub.execute_input": "2021-03-25T12:04:02.085028Z",
     "iopub.status.busy": "2021-03-25T12:04:02.084285Z",
     "iopub.status.idle": "2021-03-25T12:04:02.126082Z",
     "shell.execute_reply": "2021-03-25T12:04:02.125523Z"
    },
    "papermill": {
     "duration": 0.084001,
     "end_time": "2021-03-25T12:04:02.126217",
     "exception": false,
     "start_time": "2021-03-25T12:04:02.042216",
     "status": "completed"
    },
    "tags": []
   },
   "outputs": [],
   "source": [
    "#hide\n",
    "mapping = get_mappings(paths['mapping'])"
   ]
  },
  {
   "cell_type": "code",
   "execution_count": 6,
   "id": "certified-tactics",
   "metadata": {
    "execution": {
     "iopub.execute_input": "2021-03-25T12:04:02.209260Z",
     "iopub.status.busy": "2021-03-25T12:04:02.208593Z",
     "iopub.status.idle": "2021-03-25T12:04:02.210713Z",
     "shell.execute_reply": "2021-03-25T12:04:02.211238Z"
    },
    "papermill": {
     "duration": 0.046884,
     "end_time": "2021-03-25T12:04:02.211380",
     "exception": false,
     "start_time": "2021-03-25T12:04:02.164496",
     "status": "completed"
    },
    "tags": []
   },
   "outputs": [],
   "source": [
    "#hide\n",
    "def get_template(path):\n",
    "    from urllib.parse import urlparse\n",
    "    if bool(urlparse(path).netloc):\n",
    "        from urllib.request import urlopen\n",
    "        return urlopen(path).read().decode('utf8')\n",
    "    return open(path).read()"
   ]
  },
  {
   "cell_type": "code",
   "execution_count": 7,
   "id": "realistic-blast",
   "metadata": {
    "execution": {
     "iopub.execute_input": "2021-03-25T12:04:02.293073Z",
     "iopub.status.busy": "2021-03-25T12:04:02.292254Z",
     "iopub.status.idle": "2021-03-25T12:04:02.295311Z",
     "shell.execute_reply": "2021-03-25T12:04:02.294746Z"
    },
    "papermill": {
     "duration": 0.046067,
     "end_time": "2021-03-25T12:04:02.295439",
     "exception": false,
     "start_time": "2021-03-25T12:04:02.249372",
     "status": "completed"
    },
    "tags": []
   },
   "outputs": [],
   "source": [
    "#hide\n",
    "def get_frame(name):\n",
    "    url = (\n",
    "        'https://raw.githubusercontent.com/CSSEGISandData/COVID-19/master/csse_covid_19_data/'\n",
    "        f'csse_covid_19_time_series/time_series_covid19_{name}_global.csv')\n",
    "    df = pd.read_csv(url)\n",
    "    # rename countries\n",
    "    df['Country/Region'] = df['Country/Region'].replace(mapping['replace.country'])\n",
    "    return df"
   ]
  },
  {
   "cell_type": "code",
   "execution_count": 8,
   "id": "affiliated-characterization",
   "metadata": {
    "execution": {
     "iopub.execute_input": "2021-03-25T12:04:02.380205Z",
     "iopub.status.busy": "2021-03-25T12:04:02.379559Z",
     "iopub.status.idle": "2021-03-25T12:04:02.381461Z",
     "shell.execute_reply": "2021-03-25T12:04:02.382026Z"
    },
    "papermill": {
     "duration": 0.047618,
     "end_time": "2021-03-25T12:04:02.382163",
     "exception": false,
     "start_time": "2021-03-25T12:04:02.334545",
     "status": "completed"
    },
    "tags": []
   },
   "outputs": [],
   "source": [
    "#hide\n",
    "def get_dates(df):\n",
    "    dt_cols = df.columns[~df.columns.isin(['Province/State', 'Country/Region', 'Lat', 'Long'])]\n",
    "    LAST_DATE_I = -1\n",
    "    # sometimes last column may be empty, then go backwards\n",
    "    for i in range(-1, -len(dt_cols), -1):\n",
    "        if not df[dt_cols[i]].fillna(0).eq(0).all():\n",
    "            LAST_DATE_I = i\n",
    "            break\n",
    "    return LAST_DATE_I, dt_cols"
   ]
  },
  {
   "cell_type": "code",
   "execution_count": 9,
   "id": "recent-optimization",
   "metadata": {
    "execution": {
     "iopub.execute_input": "2021-03-25T12:04:02.461611Z",
     "iopub.status.busy": "2021-03-25T12:04:02.460783Z",
     "iopub.status.idle": "2021-03-25T12:04:02.838233Z",
     "shell.execute_reply": "2021-03-25T12:04:02.837137Z"
    },
    "papermill": {
     "duration": 0.42037,
     "end_time": "2021-03-25T12:04:02.838386",
     "exception": false,
     "start_time": "2021-03-25T12:04:02.418016",
     "status": "completed"
    },
    "tags": []
   },
   "outputs": [],
   "source": [
    "#hide\n",
    "COL_REGION = 'Country/Region'\n",
    "# Confirmed, Recovered, Deaths\n",
    "df = get_frame('confirmed')\n",
    "# dft_: timeseries, dfc_: today country agg\n",
    "dft_cases = df\n",
    "dft_deaths = get_frame('deaths')\n",
    "dft_recovered = get_frame('recovered')\n",
    "LAST_DATE_I, dt_cols = get_dates(df)"
   ]
  },
  {
   "cell_type": "code",
   "execution_count": 10,
   "id": "absolute-copper",
   "metadata": {
    "execution": {
     "iopub.execute_input": "2021-03-25T12:04:02.920426Z",
     "iopub.status.busy": "2021-03-25T12:04:02.919777Z",
     "iopub.status.idle": "2021-03-25T12:04:02.922389Z",
     "shell.execute_reply": "2021-03-25T12:04:02.921687Z"
    },
    "papermill": {
     "duration": 0.045067,
     "end_time": "2021-03-25T12:04:02.922506",
     "exception": false,
     "start_time": "2021-03-25T12:04:02.877439",
     "status": "completed"
    },
    "tags": []
   },
   "outputs": [],
   "source": [
    "#hide\n",
    "LAST_DATE_I, dt_cols = get_dates(df)\n",
    "dt_today =dt_cols[LAST_DATE_I]\n",
    "# dt_5day = dt_cols[LAST_DATE_I - 5]\n",
    "dt_yday = dt_cols[LAST_DATE_I - 1]"
   ]
  },
  {
   "cell_type": "code",
   "execution_count": 11,
   "id": "restricted-sheriff",
   "metadata": {
    "execution": {
     "iopub.execute_input": "2021-03-25T12:04:03.002911Z",
     "iopub.status.busy": "2021-03-25T12:04:03.002275Z",
     "iopub.status.idle": "2021-03-25T12:04:03.011488Z",
     "shell.execute_reply": "2021-03-25T12:04:03.012054Z"
    },
    "papermill": {
     "duration": 0.052047,
     "end_time": "2021-03-25T12:04:03.012204",
     "exception": false,
     "start_time": "2021-03-25T12:04:02.960157",
     "status": "completed"
    },
    "tags": []
   },
   "outputs": [],
   "source": [
    "#hide\n",
    "dfc_cases = dft_cases.groupby(COL_REGION)[dt_today].sum()\n",
    "dfc_deaths = dft_deaths.groupby(COL_REGION)[dt_today].sum()\n",
    "# dfp_cases = dft_cases.groupby(COL_REGION)[dt_5day].sum()\n",
    "# dfp_deaths = dft_deaths.groupby(COL_REGION)[dt_5day].sum()\n",
    "dfp_cases = dft_cases.groupby(COL_REGION)[dt_yday].sum()\n",
    "dfp_deaths = dft_deaths.groupby(COL_REGION)[dt_yday].sum()"
   ]
  },
  {
   "cell_type": "code",
   "execution_count": 12,
   "id": "deluxe-hepatitis",
   "metadata": {
    "execution": {
     "iopub.execute_input": "2021-03-25T12:04:03.095573Z",
     "iopub.status.busy": "2021-03-25T12:04:03.094894Z",
     "iopub.status.idle": "2021-03-25T12:04:03.100287Z",
     "shell.execute_reply": "2021-03-25T12:04:03.100814Z"
    },
    "papermill": {
     "duration": 0.05136,
     "end_time": "2021-03-25T12:04:03.100953",
     "exception": false,
     "start_time": "2021-03-25T12:04:03.049593",
     "status": "completed"
    },
    "tags": []
   },
   "outputs": [],
   "source": [
    "#hide\n",
    "df_table = (pd.DataFrame(dict(Cases = dfc_cases, Deaths = dfc_deaths, PCases = dfp_cases, PDeaths = dfp_deaths))\n",
    "            .sort_values(by = ['Cases','Deaths'], ascending = [False, False])\n",
    "            .reset_index())"
   ]
  },
  {
   "cell_type": "code",
   "execution_count": 13,
   "id": "educational-chancellor",
   "metadata": {
    "execution": {
     "iopub.execute_input": "2021-03-25T12:04:03.187589Z",
     "iopub.status.busy": "2021-03-25T12:04:03.186795Z",
     "iopub.status.idle": "2021-03-25T12:04:03.206722Z",
     "shell.execute_reply": "2021-03-25T12:04:03.206122Z"
    },
    "papermill": {
     "duration": 0.067176,
     "end_time": "2021-03-25T12:04:03.206841",
     "exception": false,
     "start_time": "2021-03-25T12:04:03.139665",
     "status": "completed"
    },
    "tags": []
   },
   "outputs": [
    {
     "data": {
      "text/html": [
       "<div>\n",
       "<style scoped>\n",
       "    .dataframe tbody tr th:only-of-type {\n",
       "        vertical-align: middle;\n",
       "    }\n",
       "\n",
       "    .dataframe tbody tr th {\n",
       "        vertical-align: top;\n",
       "    }\n",
       "\n",
       "    .dataframe thead th {\n",
       "        text-align: right;\n",
       "    }\n",
       "</style>\n",
       "<table border=\"1\" class=\"dataframe\">\n",
       "  <thead>\n",
       "    <tr style=\"text-align: right;\">\n",
       "      <th></th>\n",
       "      <th>Country/Region</th>\n",
       "      <th>Cases</th>\n",
       "      <th>Deaths</th>\n",
       "      <th>PCases</th>\n",
       "      <th>PDeaths</th>\n",
       "      <th>Cases (+)</th>\n",
       "      <th>Deaths (+)</th>\n",
       "      <th>Fatality Rate</th>\n",
       "      <th>Continent</th>\n",
       "    </tr>\n",
       "  </thead>\n",
       "  <tbody>\n",
       "    <tr>\n",
       "      <th>0</th>\n",
       "      <td>US</td>\n",
       "      <td>30010928</td>\n",
       "      <td>545281</td>\n",
       "      <td>29924025</td>\n",
       "      <td>543827</td>\n",
       "      <td>86903</td>\n",
       "      <td>1454</td>\n",
       "      <td>1.82</td>\n",
       "      <td>North America</td>\n",
       "    </tr>\n",
       "    <tr>\n",
       "      <th>1</th>\n",
       "      <td>Brazil</td>\n",
       "      <td>12220011</td>\n",
       "      <td>300685</td>\n",
       "      <td>12130019</td>\n",
       "      <td>298676</td>\n",
       "      <td>89992</td>\n",
       "      <td>2009</td>\n",
       "      <td>2.46</td>\n",
       "      <td>South America</td>\n",
       "    </tr>\n",
       "    <tr>\n",
       "      <th>2</th>\n",
       "      <td>India</td>\n",
       "      <td>11787534</td>\n",
       "      <td>160692</td>\n",
       "      <td>11734058</td>\n",
       "      <td>160441</td>\n",
       "      <td>53476</td>\n",
       "      <td>251</td>\n",
       "      <td>1.36</td>\n",
       "      <td>Asia</td>\n",
       "    </tr>\n",
       "    <tr>\n",
       "      <th>3</th>\n",
       "      <td>Russia</td>\n",
       "      <td>4433364</td>\n",
       "      <td>94624</td>\n",
       "      <td>4424595</td>\n",
       "      <td>94231</td>\n",
       "      <td>8769</td>\n",
       "      <td>393</td>\n",
       "      <td>2.13</td>\n",
       "      <td>Europe</td>\n",
       "    </tr>\n",
       "    <tr>\n",
       "      <th>4</th>\n",
       "      <td>France</td>\n",
       "      <td>4374774</td>\n",
       "      <td>93083</td>\n",
       "      <td>4373607</td>\n",
       "      <td>93064</td>\n",
       "      <td>1167</td>\n",
       "      <td>19</td>\n",
       "      <td>2.13</td>\n",
       "      <td>Europe</td>\n",
       "    </tr>\n",
       "  </tbody>\n",
       "</table>\n",
       "</div>"
      ],
      "text/plain": [
       "  Country/Region     Cases  Deaths    PCases  PDeaths  Cases (+)  Deaths (+)  \\\n",
       "0             US  30010928  545281  29924025   543827      86903        1454   \n",
       "1         Brazil  12220011  300685  12130019   298676      89992        2009   \n",
       "2          India  11787534  160692  11734058   160441      53476         251   \n",
       "3         Russia   4433364   94624   4424595    94231       8769         393   \n",
       "4         France   4374774   93083   4373607    93064       1167          19   \n",
       "\n",
       "   Fatality Rate      Continent  \n",
       "0           1.82  North America  \n",
       "1           2.46  South America  \n",
       "2           1.36           Asia  \n",
       "3           2.13         Europe  \n",
       "4           2.13         Europe  "
      ]
     },
     "execution_count": 13,
     "metadata": {},
     "output_type": "execute_result"
    }
   ],
   "source": [
    "#hide\n",
    "for c in 'Cases, Deaths'.split(', '):\n",
    "    df_table[f'{c} (+)'] = (df_table[c] - df_table[f'P{c}']).clip(0)\n",
    "    #Clip ça veut dire, les chiffres negatif sont interdit\n",
    "df_table['Fatality Rate'] = (100* df_table['Deaths']/ df_table['Cases']).round(2)\n",
    "df_table['Continent'] = df_table['Country/Region'].map(mapping['map.continent'])\n",
    "df_table.head(5)"
   ]
  },
  {
   "cell_type": "code",
   "execution_count": 14,
   "id": "aboriginal-bulgaria",
   "metadata": {
    "execution": {
     "iopub.execute_input": "2021-03-25T12:04:03.287857Z",
     "iopub.status.busy": "2021-03-25T12:04:03.287218Z",
     "iopub.status.idle": "2021-03-25T12:04:03.290140Z",
     "shell.execute_reply": "2021-03-25T12:04:03.289578Z"
    },
    "papermill": {
     "duration": 0.046012,
     "end_time": "2021-03-25T12:04:03.290257",
     "exception": false,
     "start_time": "2021-03-25T12:04:03.244245",
     "status": "completed"
    },
    "tags": []
   },
   "outputs": [],
   "source": [
    "#hide\n",
    "#delete problematic countries from table\n",
    "df_table = df_table[~df_table['Country/Region'].isin(['Cape Verde', 'Cruise Ship', 'Kosovo'])]"
   ]
  },
  {
   "cell_type": "code",
   "execution_count": 15,
   "id": "fantastic-effect",
   "metadata": {
    "execution": {
     "iopub.execute_input": "2021-03-25T12:04:03.378890Z",
     "iopub.status.busy": "2021-03-25T12:04:03.377936Z",
     "iopub.status.idle": "2021-03-25T12:04:03.400060Z",
     "shell.execute_reply": "2021-03-25T12:04:03.399535Z"
    },
    "papermill": {
     "duration": 0.071072,
     "end_time": "2021-03-25T12:04:03.400200",
     "exception": false,
     "start_time": "2021-03-25T12:04:03.329128",
     "status": "completed"
    },
    "tags": []
   },
   "outputs": [
    {
     "data": {
      "text/html": [
       "<div>\n",
       "<style scoped>\n",
       "    .dataframe tbody tr th:only-of-type {\n",
       "        vertical-align: middle;\n",
       "    }\n",
       "\n",
       "    .dataframe tbody tr th {\n",
       "        vertical-align: top;\n",
       "    }\n",
       "\n",
       "    .dataframe thead th {\n",
       "        text-align: right;\n",
       "    }\n",
       "</style>\n",
       "<table border=\"1\" class=\"dataframe\">\n",
       "  <thead>\n",
       "    <tr style=\"text-align: right;\">\n",
       "      <th></th>\n",
       "      <th>Country/Region</th>\n",
       "      <th>Cases</th>\n",
       "      <th>Deaths</th>\n",
       "      <th>PCases</th>\n",
       "      <th>PDeaths</th>\n",
       "      <th>Cases (+)</th>\n",
       "      <th>Deaths (+)</th>\n",
       "      <th>Fatality Rate</th>\n",
       "      <th>Continent</th>\n",
       "    </tr>\n",
       "  </thead>\n",
       "  <tbody>\n",
       "    <tr>\n",
       "      <th>0</th>\n",
       "      <td>US</td>\n",
       "      <td>30010928</td>\n",
       "      <td>545281</td>\n",
       "      <td>29924025</td>\n",
       "      <td>543827</td>\n",
       "      <td>86903</td>\n",
       "      <td>1454</td>\n",
       "      <td>1.8</td>\n",
       "      <td>North America</td>\n",
       "    </tr>\n",
       "    <tr>\n",
       "      <th>1</th>\n",
       "      <td>Brazil</td>\n",
       "      <td>12220011</td>\n",
       "      <td>300685</td>\n",
       "      <td>12130019</td>\n",
       "      <td>298676</td>\n",
       "      <td>89992</td>\n",
       "      <td>2009</td>\n",
       "      <td>2.5</td>\n",
       "      <td>South America</td>\n",
       "    </tr>\n",
       "    <tr>\n",
       "      <th>2</th>\n",
       "      <td>India</td>\n",
       "      <td>11787534</td>\n",
       "      <td>160692</td>\n",
       "      <td>11734058</td>\n",
       "      <td>160441</td>\n",
       "      <td>53476</td>\n",
       "      <td>251</td>\n",
       "      <td>1.4</td>\n",
       "      <td>Asia</td>\n",
       "    </tr>\n",
       "    <tr>\n",
       "      <th>3</th>\n",
       "      <td>Russia</td>\n",
       "      <td>4433364</td>\n",
       "      <td>94624</td>\n",
       "      <td>4424595</td>\n",
       "      <td>94231</td>\n",
       "      <td>8769</td>\n",
       "      <td>393</td>\n",
       "      <td>2.1</td>\n",
       "      <td>Europe</td>\n",
       "    </tr>\n",
       "    <tr>\n",
       "      <th>4</th>\n",
       "      <td>France</td>\n",
       "      <td>4374774</td>\n",
       "      <td>93083</td>\n",
       "      <td>4373607</td>\n",
       "      <td>93064</td>\n",
       "      <td>1167</td>\n",
       "      <td>19</td>\n",
       "      <td>2.1</td>\n",
       "      <td>Europe</td>\n",
       "    </tr>\n",
       "  </tbody>\n",
       "</table>\n",
       "</div>"
      ],
      "text/plain": [
       "  Country/Region     Cases  Deaths    PCases  PDeaths  Cases (+)  Deaths (+)  \\\n",
       "0             US  30010928  545281  29924025   543827      86903        1454   \n",
       "1         Brazil  12220011  300685  12130019   298676      89992        2009   \n",
       "2          India  11787534  160692  11734058   160441      53476         251   \n",
       "3         Russia   4433364   94624   4424595    94231       8769         393   \n",
       "4         France   4374774   93083   4373607    93064       1167          19   \n",
       "\n",
       "   Fatality Rate      Continent  \n",
       "0            1.8  North America  \n",
       "1            2.5  South America  \n",
       "2            1.4           Asia  \n",
       "3            2.1         Europe  \n",
       "4            2.1         Europe  "
      ]
     },
     "execution_count": 15,
     "metadata": {},
     "output_type": "execute_result"
    }
   ],
   "source": [
    "#hide\n",
    "df_table = (pd.DataFrame(dict(Cases=dfc_cases, Deaths=dfc_deaths, PCases=dfp_cases, PDeaths=dfp_deaths))\n",
    "             .sort_values(by=['Cases', 'Deaths'], ascending=[False, False])\n",
    "             .reset_index())\n",
    "df_table.rename(columns={'index': 'Country/Region'}, inplace=True)\n",
    "for c in 'Cases, Deaths'.split(', '):\n",
    "    df_table[f'{c} (+)'] = (df_table[c] - df_table[f'P{c}']).clip(0)  # DATA BUG\n",
    "df_table['Fatality Rate'] = (100 * df_table['Deaths'] / df_table['Cases']).round(1)\n",
    "df_table['Continent'] = df_table['Country/Region'].map(mapping['map.continent'])\n",
    "df_table.head(5)"
   ]
  },
  {
   "cell_type": "code",
   "execution_count": 16,
   "id": "fewer-occasion",
   "metadata": {
    "execution": {
     "iopub.execute_input": "2021-03-25T12:04:03.479708Z",
     "iopub.status.busy": "2021-03-25T12:04:03.479031Z",
     "iopub.status.idle": "2021-03-25T12:04:03.484618Z",
     "shell.execute_reply": "2021-03-25T12:04:03.485198Z"
    },
    "papermill": {
     "duration": 0.046133,
     "end_time": "2021-03-25T12:04:03.485344",
     "exception": false,
     "start_time": "2021-03-25T12:04:03.439211",
     "status": "completed"
    },
    "tags": []
   },
   "outputs": [],
   "source": [
    "#hide\n",
    "#delete problematic countries from table\n",
    "df_table = df_table[~df_table['Country/Region'].isin(['Cape Verde', 'Cruise Ship', 'Kosovo'])]"
   ]
  },
  {
   "cell_type": "code",
   "execution_count": 17,
   "id": "related-center",
   "metadata": {
    "execution": {
     "iopub.execute_input": "2021-03-25T12:04:03.582963Z",
     "iopub.status.busy": "2021-03-25T12:04:03.582299Z",
     "iopub.status.idle": "2021-03-25T12:04:03.584903Z",
     "shell.execute_reply": "2021-03-25T12:04:03.584307Z"
    },
    "papermill": {
     "duration": 0.062074,
     "end_time": "2021-03-25T12:04:03.585033",
     "exception": false,
     "start_time": "2021-03-25T12:04:03.522959",
     "status": "completed"
    },
    "tags": []
   },
   "outputs": [],
   "source": [
    "#hide\n",
    "metrics = [df_table.columns[index] for index in [1,2,5,6]]\n",
    "# s_china = df_table[df_table['Country/Region'].eq('China')][metrics].sum().add_prefix('China ')\n",
    "s_us = df_table[df_table['Country/Region'].eq('US')][metrics].sum().add_prefix('US ')\n",
    "s_eu = df_table[df_table['Continent'].eq('Europe')][metrics].sum().add_prefix('EU ')\n",
    "s_ind = df_table[df_table['Country/Region'].eq('India')][metrics].sum().add_prefix('India ')\n",
    "summary = {'updated': pd.to_datetime(dt_today), 'since': pd.to_datetime(dt_yday)}\n",
    "summary = {'updated': pd.to_datetime(dt_today), 'since': pd.to_datetime(dt_yday)}\n",
    "summary = {**summary, **df_table[metrics].sum(), **s_ind, **s_us, **s_eu}"
   ]
  },
  {
   "cell_type": "code",
   "execution_count": 18,
   "id": "engaging-syndrome",
   "metadata": {
    "execution": {
     "iopub.execute_input": "2021-03-25T12:04:03.669729Z",
     "iopub.status.busy": "2021-03-25T12:04:03.669023Z",
     "iopub.status.idle": "2021-03-25T12:04:03.680783Z",
     "shell.execute_reply": "2021-03-25T12:04:03.681278Z"
    },
    "papermill": {
     "duration": 0.057361,
     "end_time": "2021-03-25T12:04:03.681415",
     "exception": false,
     "start_time": "2021-03-25T12:04:03.624054",
     "status": "completed"
    },
    "tags": []
   },
   "outputs": [],
   "source": [
    "#hide\n",
    "dft_ct_new_cases = dft_cases.groupby(COL_REGION)[dt_cols].sum().diff(axis=1).fillna(0).astype(int)"
   ]
  },
  {
   "cell_type": "code",
   "execution_count": 19,
   "id": "neutral-assignment",
   "metadata": {
    "execution": {
     "iopub.execute_input": "2021-03-25T12:04:03.763862Z",
     "iopub.status.busy": "2021-03-25T12:04:03.763133Z",
     "iopub.status.idle": "2021-03-25T12:04:03.765286Z",
     "shell.execute_reply": "2021-03-25T12:04:03.765928Z"
    },
    "papermill": {
     "duration": 0.045802,
     "end_time": "2021-03-25T12:04:03.766067",
     "exception": false,
     "start_time": "2021-03-25T12:04:03.720265",
     "status": "completed"
    },
    "tags": []
   },
   "outputs": [],
   "source": [
    "#hide\n",
    "everydaycases = dft_ct_new_cases.cumsum(axis=1)"
   ]
  },
  {
   "cell_type": "code",
   "execution_count": 20,
   "id": "parliamentary-calgary",
   "metadata": {
    "execution": {
     "iopub.execute_input": "2021-03-25T12:04:03.850213Z",
     "iopub.status.busy": "2021-03-25T12:04:03.849515Z",
     "iopub.status.idle": "2021-03-25T12:04:04.976340Z",
     "shell.execute_reply": "2021-03-25T12:04:04.976862Z"
    },
    "papermill": {
     "duration": 1.172358,
     "end_time": "2021-03-25T12:04:04.977030",
     "exception": false,
     "start_time": "2021-03-25T12:04:03.804672",
     "status": "completed"
    },
    "tags": []
   },
   "outputs": [],
   "source": [
    "#hide\n",
    "import pandas as pd\n",
    "import matplotlib.pyplot as plt\n",
    "import matplotlib.ticker as ticker\n",
    "import matplotlib.animation as animation\n",
    "from IPython.display import HTML"
   ]
  },
  {
   "cell_type": "code",
   "execution_count": 21,
   "id": "lasting-extraction",
   "metadata": {
    "execution": {
     "iopub.execute_input": "2021-03-25T12:04:05.058478Z",
     "iopub.status.busy": "2021-03-25T12:04:05.057906Z",
     "iopub.status.idle": "2021-03-25T12:04:05.063558Z",
     "shell.execute_reply": "2021-03-25T12:04:05.064183Z"
    },
    "papermill": {
     "duration": 0.048306,
     "end_time": "2021-03-25T12:04:05.064311",
     "exception": false,
     "start_time": "2021-03-25T12:04:05.016005",
     "status": "completed"
    },
    "tags": []
   },
   "outputs": [],
   "source": [
    "#hide\n",
    "t = everydaycases.stack()"
   ]
  },
  {
   "cell_type": "code",
   "execution_count": 22,
   "id": "premier-sleeve",
   "metadata": {
    "execution": {
     "iopub.execute_input": "2021-03-25T12:04:05.144591Z",
     "iopub.status.busy": "2021-03-25T12:04:05.143944Z",
     "iopub.status.idle": "2021-03-25T12:04:05.151457Z",
     "shell.execute_reply": "2021-03-25T12:04:05.152095Z"
    },
    "papermill": {
     "duration": 0.049174,
     "end_time": "2021-03-25T12:04:05.152224",
     "exception": false,
     "start_time": "2021-03-25T12:04:05.103050",
     "status": "completed"
    },
    "tags": []
   },
   "outputs": [],
   "source": [
    "#hide\n",
    "g = t.reset_index(['Country/Region'])"
   ]
  },
  {
   "cell_type": "code",
   "execution_count": 23,
   "id": "distributed-pittsburgh",
   "metadata": {
    "execution": {
     "iopub.execute_input": "2021-03-25T12:04:05.231472Z",
     "iopub.status.busy": "2021-03-25T12:04:05.230712Z",
     "iopub.status.idle": "2021-03-25T12:04:05.232609Z",
     "shell.execute_reply": "2021-03-25T12:04:05.233115Z"
    },
    "papermill": {
     "duration": 0.043835,
     "end_time": "2021-03-25T12:04:05.233247",
     "exception": false,
     "start_time": "2021-03-25T12:04:05.189412",
     "status": "completed"
    },
    "tags": []
   },
   "outputs": [],
   "source": [
    "#hide\n",
    "g.index.name = 'date'"
   ]
  },
  {
   "cell_type": "code",
   "execution_count": 24,
   "id": "naked-donor",
   "metadata": {
    "execution": {
     "iopub.execute_input": "2021-03-25T12:04:05.313377Z",
     "iopub.status.busy": "2021-03-25T12:04:05.312771Z",
     "iopub.status.idle": "2021-03-25T12:04:05.315209Z",
     "shell.execute_reply": "2021-03-25T12:04:05.314706Z"
    },
    "papermill": {
     "duration": 0.0449,
     "end_time": "2021-03-25T12:04:05.315324",
     "exception": false,
     "start_time": "2021-03-25T12:04:05.270424",
     "status": "completed"
    },
    "tags": []
   },
   "outputs": [],
   "source": [
    "# #hide\n",
    "# g = g.reset_index(['date'])"
   ]
  },
  {
   "cell_type": "code",
   "execution_count": 25,
   "id": "incomplete-mustang",
   "metadata": {
    "execution": {
     "iopub.execute_input": "2021-03-25T12:04:05.398596Z",
     "iopub.status.busy": "2021-03-25T12:04:05.397849Z",
     "iopub.status.idle": "2021-03-25T12:04:05.399626Z",
     "shell.execute_reply": "2021-03-25T12:04:05.400207Z"
    },
    "papermill": {
     "duration": 0.045588,
     "end_time": "2021-03-25T12:04:05.400355",
     "exception": false,
     "start_time": "2021-03-25T12:04:05.354767",
     "status": "completed"
    },
    "tags": []
   },
   "outputs": [],
   "source": [
    "#hide\n",
    "# g.head()"
   ]
  },
  {
   "cell_type": "code",
   "execution_count": 26,
   "id": "specific-kruger",
   "metadata": {
    "execution": {
     "iopub.execute_input": "2021-03-25T12:04:05.487934Z",
     "iopub.status.busy": "2021-03-25T12:04:05.487257Z",
     "iopub.status.idle": "2021-03-25T12:04:05.489757Z",
     "shell.execute_reply": "2021-03-25T12:04:05.489182Z"
    },
    "papermill": {
     "duration": 0.047054,
     "end_time": "2021-03-25T12:04:05.489880",
     "exception": false,
     "start_time": "2021-03-25T12:04:05.442826",
     "status": "completed"
    },
    "tags": []
   },
   "outputs": [],
   "source": [
    "#hide\n",
    "# g.columns = ['date','country','cases']"
   ]
  },
  {
   "cell_type": "code",
   "execution_count": 27,
   "id": "tender-conversion",
   "metadata": {
    "execution": {
     "iopub.execute_input": "2021-03-25T12:04:05.575892Z",
     "iopub.status.busy": "2021-03-25T12:04:05.575185Z",
     "iopub.status.idle": "2021-03-25T12:04:05.578032Z",
     "shell.execute_reply": "2021-03-25T12:04:05.577419Z"
    },
    "papermill": {
     "duration": 0.046792,
     "end_time": "2021-03-25T12:04:05.578210",
     "exception": false,
     "start_time": "2021-03-25T12:04:05.531418",
     "status": "completed"
    },
    "tags": []
   },
   "outputs": [],
   "source": [
    "#hide\n",
    "# g['continent'] = g.country"
   ]
  },
  {
   "cell_type": "code",
   "execution_count": 28,
   "id": "substantial-wilderness",
   "metadata": {
    "execution": {
     "iopub.execute_input": "2021-03-25T12:04:05.660529Z",
     "iopub.status.busy": "2021-03-25T12:04:05.659902Z",
     "iopub.status.idle": "2021-03-25T12:04:05.662294Z",
     "shell.execute_reply": "2021-03-25T12:04:05.661783Z"
    },
    "papermill": {
     "duration": 0.043823,
     "end_time": "2021-03-25T12:04:05.662426",
     "exception": false,
     "start_time": "2021-03-25T12:04:05.618603",
     "status": "completed"
    },
    "tags": []
   },
   "outputs": [],
   "source": [
    "#hide\n",
    "# cols = list(g.columns.values)"
   ]
  },
  {
   "cell_type": "code",
   "execution_count": 29,
   "id": "solved-farming",
   "metadata": {
    "execution": {
     "iopub.execute_input": "2021-03-25T12:04:05.743498Z",
     "iopub.status.busy": "2021-03-25T12:04:05.742762Z",
     "iopub.status.idle": "2021-03-25T12:04:05.744943Z",
     "shell.execute_reply": "2021-03-25T12:04:05.745520Z"
    },
    "papermill": {
     "duration": 0.044153,
     "end_time": "2021-03-25T12:04:05.745669",
     "exception": false,
     "start_time": "2021-03-25T12:04:05.701516",
     "status": "completed"
    },
    "tags": []
   },
   "outputs": [],
   "source": [
    "#hide\n",
    "# cols.insert(0, cols.pop())"
   ]
  },
  {
   "cell_type": "code",
   "execution_count": 30,
   "id": "executed-adoption",
   "metadata": {
    "execution": {
     "iopub.execute_input": "2021-03-25T12:04:05.830730Z",
     "iopub.status.busy": "2021-03-25T12:04:05.830110Z",
     "iopub.status.idle": "2021-03-25T12:04:05.832678Z",
     "shell.execute_reply": "2021-03-25T12:04:05.832120Z"
    },
    "papermill": {
     "duration": 0.046331,
     "end_time": "2021-03-25T12:04:05.832798",
     "exception": false,
     "start_time": "2021-03-25T12:04:05.786467",
     "status": "completed"
    },
    "tags": []
   },
   "outputs": [],
   "source": [
    "#hide\n",
    "# g = g[cols]"
   ]
  },
  {
   "cell_type": "code",
   "execution_count": 31,
   "id": "subject-dublin",
   "metadata": {
    "execution": {
     "iopub.execute_input": "2021-03-25T12:04:05.915531Z",
     "iopub.status.busy": "2021-03-25T12:04:05.914804Z",
     "iopub.status.idle": "2021-03-25T12:04:05.917292Z",
     "shell.execute_reply": "2021-03-25T12:04:05.916751Z"
    },
    "papermill": {
     "duration": 0.046594,
     "end_time": "2021-03-25T12:04:05.917412",
     "exception": false,
     "start_time": "2021-03-25T12:04:05.870818",
     "status": "completed"
    },
    "tags": []
   },
   "outputs": [],
   "source": [
    "#hide\n",
    "# g['continent'] = g['continent'].map(mapping['map.continent'])"
   ]
  },
  {
   "cell_type": "code",
   "execution_count": 32,
   "id": "freelance-scout",
   "metadata": {
    "execution": {
     "iopub.execute_input": "2021-03-25T12:04:05.997415Z",
     "iopub.status.busy": "2021-03-25T12:04:05.996738Z",
     "iopub.status.idle": "2021-03-25T12:04:05.999413Z",
     "shell.execute_reply": "2021-03-25T12:04:05.998887Z"
    },
    "papermill": {
     "duration": 0.042829,
     "end_time": "2021-03-25T12:04:05.999536",
     "exception": false,
     "start_time": "2021-03-25T12:04:05.956707",
     "status": "completed"
    },
    "tags": []
   },
   "outputs": [],
   "source": [
    "#hide\n",
    "# g.head()"
   ]
  },
  {
   "cell_type": "code",
   "execution_count": 33,
   "id": "limited-engine",
   "metadata": {
    "execution": {
     "iopub.execute_input": "2021-03-25T12:04:06.080937Z",
     "iopub.status.busy": "2021-03-25T12:04:06.080295Z",
     "iopub.status.idle": "2021-03-25T12:04:06.082909Z",
     "shell.execute_reply": "2021-03-25T12:04:06.082319Z"
    },
    "papermill": {
     "duration": 0.045855,
     "end_time": "2021-03-25T12:04:06.083031",
     "exception": false,
     "start_time": "2021-03-25T12:04:06.037176",
     "status": "completed"
    },
    "tags": []
   },
   "outputs": [],
   "source": [
    "# hide\n",
    "# g['date'] = g['date'].astype('datetime64[ns]')"
   ]
  },
  {
   "cell_type": "code",
   "execution_count": 34,
   "id": "sophisticated-supervisor",
   "metadata": {
    "execution": {
     "iopub.execute_input": "2021-03-25T12:04:06.164895Z",
     "iopub.status.busy": "2021-03-25T12:04:06.164232Z",
     "iopub.status.idle": "2021-03-25T12:04:06.166551Z",
     "shell.execute_reply": "2021-03-25T12:04:06.167062Z"
    },
    "papermill": {
     "duration": 0.045154,
     "end_time": "2021-03-25T12:04:06.167192",
     "exception": false,
     "start_time": "2021-03-25T12:04:06.122038",
     "status": "completed"
    },
    "tags": []
   },
   "outputs": [],
   "source": [
    "#hide\n",
    "# g['date'] = g.date.dt.dayofyear"
   ]
  },
  {
   "cell_type": "code",
   "execution_count": 35,
   "id": "inside-dubai",
   "metadata": {
    "execution": {
     "iopub.execute_input": "2021-03-25T12:04:06.249456Z",
     "iopub.status.busy": "2021-03-25T12:04:06.248851Z",
     "iopub.status.idle": "2021-03-25T12:04:06.251234Z",
     "shell.execute_reply": "2021-03-25T12:04:06.250691Z"
    },
    "papermill": {
     "duration": 0.044501,
     "end_time": "2021-03-25T12:04:06.251354",
     "exception": false,
     "start_time": "2021-03-25T12:04:06.206853",
     "status": "completed"
    },
    "tags": []
   },
   "outputs": [],
   "source": [
    "#hide\n",
    "# g = g.rename(columns= {'continent':'group','country':'name','cases':'value'})"
   ]
  },
  {
   "cell_type": "code",
   "execution_count": 36,
   "id": "fleet-motorcycle",
   "metadata": {
    "execution": {
     "iopub.execute_input": "2021-03-25T12:04:06.330817Z",
     "iopub.status.busy": "2021-03-25T12:04:06.330084Z",
     "iopub.status.idle": "2021-03-25T12:04:06.332695Z",
     "shell.execute_reply": "2021-03-25T12:04:06.331875Z"
    },
    "papermill": {
     "duration": 0.043464,
     "end_time": "2021-03-25T12:04:06.332816",
     "exception": false,
     "start_time": "2021-03-25T12:04:06.289352",
     "status": "completed"
    },
    "tags": []
   },
   "outputs": [],
   "source": [
    "#hide\n",
    "# cols = ['name','group','day','value']"
   ]
  },
  {
   "cell_type": "code",
   "execution_count": 37,
   "id": "continued-sleeping",
   "metadata": {
    "execution": {
     "iopub.execute_input": "2021-03-25T12:04:06.415123Z",
     "iopub.status.busy": "2021-03-25T12:04:06.414436Z",
     "iopub.status.idle": "2021-03-25T12:04:06.417174Z",
     "shell.execute_reply": "2021-03-25T12:04:06.416616Z"
    },
    "papermill": {
     "duration": 0.047561,
     "end_time": "2021-03-25T12:04:06.417300",
     "exception": false,
     "start_time": "2021-03-25T12:04:06.369739",
     "status": "completed"
    },
    "tags": []
   },
   "outputs": [],
   "source": [
    "#hide\n",
    "# g.rename(columns= {'date':'day'},inplace = True)"
   ]
  },
  {
   "cell_type": "code",
   "execution_count": 38,
   "id": "major-fight",
   "metadata": {
    "execution": {
     "iopub.execute_input": "2021-03-25T12:04:06.499398Z",
     "iopub.status.busy": "2021-03-25T12:04:06.498791Z",
     "iopub.status.idle": "2021-03-25T12:04:06.501406Z",
     "shell.execute_reply": "2021-03-25T12:04:06.500839Z"
    },
    "papermill": {
     "duration": 0.044008,
     "end_time": "2021-03-25T12:04:06.501537",
     "exception": false,
     "start_time": "2021-03-25T12:04:06.457529",
     "status": "completed"
    },
    "tags": []
   },
   "outputs": [],
   "source": [
    "#hide\n",
    "# g = g[cols]"
   ]
  },
  {
   "cell_type": "code",
   "execution_count": 39,
   "id": "structured-mobile",
   "metadata": {
    "execution": {
     "iopub.execute_input": "2021-03-25T12:04:06.584354Z",
     "iopub.status.busy": "2021-03-25T12:04:06.583673Z",
     "iopub.status.idle": "2021-03-25T12:04:06.586243Z",
     "shell.execute_reply": "2021-03-25T12:04:06.585701Z"
    },
    "papermill": {
     "duration": 0.0459,
     "end_time": "2021-03-25T12:04:06.586362",
     "exception": false,
     "start_time": "2021-03-25T12:04:06.540462",
     "status": "completed"
    },
    "tags": []
   },
   "outputs": [],
   "source": [
    "# #hide\n",
    "# g = g[g.group.notna()]"
   ]
  },
  {
   "cell_type": "code",
   "execution_count": 40,
   "id": "determined-closing",
   "metadata": {
    "execution": {
     "iopub.execute_input": "2021-03-25T12:04:06.674071Z",
     "iopub.status.busy": "2021-03-25T12:04:06.673354Z",
     "iopub.status.idle": "2021-03-25T12:04:06.676024Z",
     "shell.execute_reply": "2021-03-25T12:04:06.675454Z"
    },
    "papermill": {
     "duration": 0.047241,
     "end_time": "2021-03-25T12:04:06.676158",
     "exception": false,
     "start_time": "2021-03-25T12:04:06.628917",
     "status": "completed"
    },
    "tags": []
   },
   "outputs": [],
   "source": [
    "# #hide\n",
    "# colors = dict(zip(\n",
    "#     [\"Oceania\", \"Europe\", \"Asia\", \"South America\", \"Middle East\", \"North America\", \"Africa\"],\n",
    "#     [\"#adb0ff\", \"#ffb3ff\", \"#90d595\", \"#e48381\", \"#aafbff\", \"#f7bb5f\", \"#eafb50\"]\n",
    "# ))\n",
    "# group_lk = g.set_index('name')['group'].to_dict()"
   ]
  },
  {
   "cell_type": "code",
   "execution_count": null,
   "id": "gross-drinking",
   "metadata": {
    "papermill": {
     "duration": 0.040319,
     "end_time": "2021-03-25T12:04:06.757114",
     "exception": false,
     "start_time": "2021-03-25T12:04:06.716795",
     "status": "completed"
    },
    "tags": []
   },
   "outputs": [],
   "source": []
  },
  {
   "cell_type": "code",
   "execution_count": 41,
   "id": "subject-macintosh",
   "metadata": {
    "execution": {
     "iopub.execute_input": "2021-03-25T12:04:06.842692Z",
     "iopub.status.busy": "2021-03-25T12:04:06.841988Z",
     "iopub.status.idle": "2021-03-25T12:04:06.844505Z",
     "shell.execute_reply": "2021-03-25T12:04:06.843928Z"
    },
    "papermill": {
     "duration": 0.047439,
     "end_time": "2021-03-25T12:04:06.844635",
     "exception": false,
     "start_time": "2021-03-25T12:04:06.797196",
     "status": "completed"
    },
    "tags": []
   },
   "outputs": [],
   "source": [
    "# #hide\n",
    "# fig, ax = plt.subplots(figsize=(15, 8))\n",
    "\n",
    "# def draw_barchart(current_day):\n",
    "#     dff = g[g['day'].eq(current_day)].sort_values(by='value', ascending=True).tail(10)\n",
    "#     ax.clear()\n",
    "#     ax.barh(dff['name'], dff['value'], color=[colors[group_lk[x]] for x in dff['name']])\n",
    "#     dx = dff['value'].max() / 200\n",
    "    \n",
    "#     for i, (value, name) in enumerate(zip(dff['value'], dff['name'])):\n",
    "#         ax.text(value-dx, i,     name,           size=14, weight=600, ha='right', va='bottom')\n",
    "#         ax.text(value-dx, i-.25, group_lk[name], size=10, color='#444444', ha='right', va='baseline')\n",
    "#         ax.text(value+dx, i,     f'{value:,.0f}',  size=14, ha='left',  va='center')\n",
    "#     ax.text(1, 0.4, current_day, transform=ax.transAxes, color='#777777', size=46, ha='right', weight=800)\n",
    "#     ax.text(0, 1.06, 'Population (thousands)', transform=ax.transAxes, size=12, color='#777777')\n",
    "#     ax.xaxis.set_major_formatter(ticker.StrMethodFormatter('{x:,.0f}'))\n",
    "#     ax.xaxis.set_ticks_position('top')\n",
    "#     ax.tick_params(axis='x', colors='#777777', labelsize=12)\n",
    "#     ax.set_yticks([])\n",
    "#     ax.margins(0, 0.01)\n",
    "#     ax.grid(which='major', axis='x', linestyle='-')\n",
    "#     ax.set_axisbelow(True)\n",
    "    \n",
    "#     ax.text(0, 1.15, 'Coronavirus',\n",
    "#             transform=ax.transAxes, size=24, weight=600, ha='left', va='top')\n",
    "# #     ax.text(1, 0, 'by @pratapvardhan; credit @jburnmurdoch', transform=ax.transAxes, color='#777777', ha='right',\n",
    "# #             bbox=dict(facecolor='white', alpha=0.8, edgecolor='white'))\n",
    "#     plt.box(False)"
   ]
  },
  {
   "cell_type": "code",
   "execution_count": 42,
   "id": "sexual-wages",
   "metadata": {
    "execution": {
     "iopub.execute_input": "2021-03-25T12:04:06.931188Z",
     "iopub.status.busy": "2021-03-25T12:04:06.930478Z",
     "iopub.status.idle": "2021-03-25T12:04:06.932655Z",
     "shell.execute_reply": "2021-03-25T12:04:06.933194Z"
    },
    "papermill": {
     "duration": 0.047245,
     "end_time": "2021-03-25T12:04:06.933337",
     "exception": false,
     "start_time": "2021-03-25T12:04:06.886092",
     "status": "completed"
    },
    "tags": []
   },
   "outputs": [],
   "source": [
    "# #hide_input\n",
    "# fig, ax = plt.subplots(figsize=(15, 8))\n",
    "# animator = animation.FuncAnimation(fig, draw_barchart, frames=range(g.day.values.min(), g.day.values.max()))\n",
    "# HTML(animator.to_jshtml())\n",
    "# # or use animator.to_html5_video() or animator.save() "
   ]
  },
  {
   "cell_type": "code",
   "execution_count": null,
   "id": "australian-container",
   "metadata": {
    "papermill": {
     "duration": 0.036864,
     "end_time": "2021-03-25T12:04:07.010923",
     "exception": false,
     "start_time": "2021-03-25T12:04:06.974059",
     "status": "completed"
    },
    "tags": []
   },
   "outputs": [],
   "source": []
  },
  {
   "cell_type": "code",
   "execution_count": null,
   "id": "mediterranean-pontiac",
   "metadata": {
    "papermill": {
     "duration": 0.041292,
     "end_time": "2021-03-25T12:04:07.088963",
     "exception": false,
     "start_time": "2021-03-25T12:04:07.047671",
     "status": "completed"
    },
    "tags": []
   },
   "outputs": [],
   "source": []
  },
  {
   "cell_type": "code",
   "execution_count": null,
   "id": "aging-legislature",
   "metadata": {
    "papermill": {
     "duration": 0.04069,
     "end_time": "2021-03-25T12:04:07.171559",
     "exception": false,
     "start_time": "2021-03-25T12:04:07.130869",
     "status": "completed"
    },
    "tags": []
   },
   "outputs": [],
   "source": []
  }
 ],
 "metadata": {
  "kernelspec": {
   "display_name": "Python 3",
   "language": "python",
   "name": "python3"
  },
  "language_info": {
   "codemirror_mode": {
    "name": "ipython",
    "version": 3
   },
   "file_extension": ".py",
   "mimetype": "text/x-python",
   "name": "python",
   "nbconvert_exporter": "python",
   "pygments_lexer": "ipython3",
   "version": "3.6.13"
  },
  "papermill": {
   "duration": 8.386791,
   "end_time": "2021-03-25T12:04:08.541783",
   "environment_variables": {},
   "exception": null,
   "input_path": "2020-03-21-covid19exp.ipynb",
   "output_path": "2020-03-21-covid19exp.ipynb",
   "parameters": {},
   "start_time": "2021-03-25T12:04:00.154992",
   "version": "2.0.0"
  }
 },
 "nbformat": 4,
 "nbformat_minor": 5
}