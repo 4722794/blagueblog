{
 "cells": [
  {
   "cell_type": "markdown",
   "id": "muslim-click",
   "metadata": {
    "papermill": {
     "duration": 0.039514,
     "end_time": "2022-03-23T12:14:42.704247",
     "exception": false,
     "start_time": "2022-03-23T12:14:42.664733",
     "status": "completed"
    },
    "tags": []
   },
   "source": [
    "# COVID-19 Case Race\n",
    "> A race chart to see rising cases around the world\n",
    "\n",
    "- author: Hargun Oberoi\n",
    "- image: images/covid-overview.png\n",
    "- hide: false\n",
    "- badges: false"
   ]
  },
  {
   "cell_type": "code",
   "execution_count": 1,
   "id": "proof-material",
   "metadata": {
    "execution": {
     "iopub.execute_input": "2022-03-23T12:14:42.785921Z",
     "iopub.status.busy": "2022-03-23T12:14:42.785213Z",
     "iopub.status.idle": "2022-03-23T12:14:43.180018Z",
     "shell.execute_reply": "2022-03-23T12:14:43.179437Z"
    },
    "papermill": {
     "duration": 0.439219,
     "end_time": "2022-03-23T12:14:43.180178",
     "exception": false,
     "start_time": "2022-03-23T12:14:42.740959",
     "status": "completed"
    },
    "tags": []
   },
   "outputs": [],
   "source": [
    "#hide\n",
    "import numpy as np\n",
    "import pandas as pd\n",
    "from jinja2 import Template\n",
    "from IPython.display import HTML"
   ]
  },
  {
   "cell_type": "code",
   "execution_count": 2,
   "id": "developed-terminology",
   "metadata": {
    "execution": {
     "iopub.execute_input": "2022-03-23T12:14:43.260135Z",
     "iopub.status.busy": "2022-03-23T12:14:43.259427Z",
     "iopub.status.idle": "2022-03-23T12:14:43.261754Z",
     "shell.execute_reply": "2022-03-23T12:14:43.262317Z"
    },
    "papermill": {
     "duration": 0.04797,
     "end_time": "2022-03-23T12:14:43.262466",
     "exception": false,
     "start_time": "2022-03-23T12:14:43.214496",
     "status": "completed"
    },
    "tags": []
   },
   "outputs": [],
   "source": [
    "#hide\n",
    "\n",
    "# FETCH\n",
    "base_url = 'https://raw.githubusercontent.com/pratapvardhan/notebooks/master/covid19/'\n",
    "paths = {\n",
    "    'mapping': base_url + 'mapping_countries.csv',\n",
    "    'overview': base_url + 'overview.tpl'\n",
    "}"
   ]
  },
  {
   "cell_type": "code",
   "execution_count": 3,
   "id": "dynamic-saver",
   "metadata": {
    "execution": {
     "iopub.execute_input": "2022-03-23T12:14:43.343104Z",
     "iopub.status.busy": "2022-03-23T12:14:43.340284Z",
     "iopub.status.idle": "2022-03-23T12:14:43.345973Z",
     "shell.execute_reply": "2022-03-23T12:14:43.346596Z"
    },
    "papermill": {
     "duration": 0.048975,
     "end_time": "2022-03-23T12:14:43.346742",
     "exception": false,
     "start_time": "2022-03-23T12:14:43.297767",
     "status": "completed"
    },
    "tags": []
   },
   "outputs": [
    {
     "data": {
      "text/plain": [
       "'https://raw.githubusercontent.com/pratapvardhan/notebooks/master/covid19/mapping_countries.csv'"
      ]
     },
     "execution_count": 3,
     "metadata": {},
     "output_type": "execute_result"
    }
   ],
   "source": [
    "#hide\n",
    "paths['mapping']"
   ]
  },
  {
   "cell_type": "code",
   "execution_count": 4,
   "id": "urban-software",
   "metadata": {
    "execution": {
     "iopub.execute_input": "2022-03-23T12:14:43.423653Z",
     "iopub.status.busy": "2022-03-23T12:14:43.422935Z",
     "iopub.status.idle": "2022-03-23T12:14:43.425013Z",
     "shell.execute_reply": "2022-03-23T12:14:43.425600Z"
    },
    "papermill": {
     "duration": 0.043123,
     "end_time": "2022-03-23T12:14:43.425776",
     "exception": false,
     "start_time": "2022-03-23T12:14:43.382653",
     "status": "completed"
    },
    "tags": []
   },
   "outputs": [],
   "source": [
    "#hide\n",
    "def get_mappings(url):\n",
    "    df = pd.read_csv(url)\n",
    "    return {\n",
    "        'df': df,\n",
    "        'replace.country': dict(df.dropna(subset=['Name']).set_index('Country')['Name']),\n",
    "        'map.continent': dict(df.set_index('Name')['Continent'])\n",
    "    }"
   ]
  },
  {
   "cell_type": "code",
   "execution_count": 5,
   "id": "intimate-machinery",
   "metadata": {
    "execution": {
     "iopub.execute_input": "2022-03-23T12:14:43.501511Z",
     "iopub.status.busy": "2022-03-23T12:14:43.500832Z",
     "iopub.status.idle": "2022-03-23T12:14:43.529582Z",
     "shell.execute_reply": "2022-03-23T12:14:43.529049Z"
    },
    "papermill": {
     "duration": 0.068634,
     "end_time": "2022-03-23T12:14:43.529731",
     "exception": false,
     "start_time": "2022-03-23T12:14:43.461097",
     "status": "completed"
    },
    "tags": []
   },
   "outputs": [],
   "source": [
    "#hide\n",
    "mapping = get_mappings(paths['mapping'])"
   ]
  },
  {
   "cell_type": "code",
   "execution_count": 6,
   "id": "certified-tactics",
   "metadata": {
    "execution": {
     "iopub.execute_input": "2022-03-23T12:14:43.608140Z",
     "iopub.status.busy": "2022-03-23T12:14:43.607533Z",
     "iopub.status.idle": "2022-03-23T12:14:43.611500Z",
     "shell.execute_reply": "2022-03-23T12:14:43.612025Z"
    },
    "papermill": {
     "duration": 0.047099,
     "end_time": "2022-03-23T12:14:43.612176",
     "exception": false,
     "start_time": "2022-03-23T12:14:43.565077",
     "status": "completed"
    },
    "tags": []
   },
   "outputs": [],
   "source": [
    "#hide\n",
    "def get_template(path):\n",
    "    from urllib.parse import urlparse\n",
    "    if bool(urlparse(path).netloc):\n",
    "        from urllib.request import urlopen\n",
    "        return urlopen(path).read().decode('utf8')\n",
    "    return open(path).read()"
   ]
  },
  {
   "cell_type": "code",
   "execution_count": 7,
   "id": "realistic-blast",
   "metadata": {
    "execution": {
     "iopub.execute_input": "2022-03-23T12:14:43.686769Z",
     "iopub.status.busy": "2022-03-23T12:14:43.686163Z",
     "iopub.status.idle": "2022-03-23T12:14:43.688135Z",
     "shell.execute_reply": "2022-03-23T12:14:43.688622Z"
    },
    "papermill": {
     "duration": 0.041396,
     "end_time": "2022-03-23T12:14:43.688761",
     "exception": false,
     "start_time": "2022-03-23T12:14:43.647365",
     "status": "completed"
    },
    "tags": []
   },
   "outputs": [],
   "source": [
    "#hide\n",
    "def get_frame(name):\n",
    "    url = (\n",
    "        'https://raw.githubusercontent.com/CSSEGISandData/COVID-19/master/csse_covid_19_data/'\n",
    "        f'csse_covid_19_time_series/time_series_covid19_{name}_global.csv')\n",
    "    df = pd.read_csv(url)\n",
    "    # rename countries\n",
    "    df['Country/Region'] = df['Country/Region'].replace(mapping['replace.country'])\n",
    "    return df"
   ]
  },
  {
   "cell_type": "code",
   "execution_count": 8,
   "id": "affiliated-characterization",
   "metadata": {
    "execution": {
     "iopub.execute_input": "2022-03-23T12:14:43.771440Z",
     "iopub.status.busy": "2022-03-23T12:14:43.770739Z",
     "iopub.status.idle": "2022-03-23T12:14:43.775698Z",
     "shell.execute_reply": "2022-03-23T12:14:43.775173Z"
    },
    "papermill": {
     "duration": 0.049397,
     "end_time": "2022-03-23T12:14:43.775825",
     "exception": false,
     "start_time": "2022-03-23T12:14:43.726428",
     "status": "completed"
    },
    "tags": []
   },
   "outputs": [],
   "source": [
    "#hide\n",
    "def get_dates(df):\n",
    "    dt_cols = df.columns[~df.columns.isin(['Province/State', 'Country/Region', 'Lat', 'Long'])]\n",
    "    LAST_DATE_I = -1\n",
    "    # sometimes last column may be empty, then go backwards\n",
    "    for i in range(-1, -len(dt_cols), -1):\n",
    "        if not df[dt_cols[i]].fillna(0).eq(0).all():\n",
    "            LAST_DATE_I = i\n",
    "            break\n",
    "    return LAST_DATE_I, dt_cols"
   ]
  },
  {
   "cell_type": "code",
   "execution_count": 9,
   "id": "recent-optimization",
   "metadata": {
    "execution": {
     "iopub.execute_input": "2022-03-23T12:14:43.860713Z",
     "iopub.status.busy": "2022-03-23T12:14:43.859697Z",
     "iopub.status.idle": "2022-03-23T12:14:44.617622Z",
     "shell.execute_reply": "2022-03-23T12:14:44.616995Z"
    },
    "papermill": {
     "duration": 0.801156,
     "end_time": "2022-03-23T12:14:44.617798",
     "exception": false,
     "start_time": "2022-03-23T12:14:43.816642",
     "status": "completed"
    },
    "tags": []
   },
   "outputs": [],
   "source": [
    "#hide\n",
    "COL_REGION = 'Country/Region'\n",
    "# Confirmed, Recovered, Deaths\n",
    "df = get_frame('confirmed')\n",
    "# dft_: timeseries, dfc_: today country agg\n",
    "dft_cases = df\n",
    "dft_deaths = get_frame('deaths')\n",
    "dft_recovered = get_frame('recovered')\n",
    "LAST_DATE_I, dt_cols = get_dates(df)"
   ]
  },
  {
   "cell_type": "code",
   "execution_count": 10,
   "id": "absolute-copper",
   "metadata": {
    "execution": {
     "iopub.execute_input": "2022-03-23T12:14:44.695598Z",
     "iopub.status.busy": "2022-03-23T12:14:44.694886Z",
     "iopub.status.idle": "2022-03-23T12:14:44.697650Z",
     "shell.execute_reply": "2022-03-23T12:14:44.696955Z"
    },
    "papermill": {
     "duration": 0.042693,
     "end_time": "2022-03-23T12:14:44.697824",
     "exception": false,
     "start_time": "2022-03-23T12:14:44.655131",
     "status": "completed"
    },
    "tags": []
   },
   "outputs": [],
   "source": [
    "#hide\n",
    "LAST_DATE_I, dt_cols = get_dates(df)\n",
    "dt_today =dt_cols[LAST_DATE_I]\n",
    "# dt_5day = dt_cols[LAST_DATE_I - 5]\n",
    "dt_yday = dt_cols[LAST_DATE_I - 1]"
   ]
  },
  {
   "cell_type": "code",
   "execution_count": 11,
   "id": "restricted-sheriff",
   "metadata": {
    "execution": {
     "iopub.execute_input": "2022-03-23T12:14:44.775700Z",
     "iopub.status.busy": "2022-03-23T12:14:44.774951Z",
     "iopub.status.idle": "2022-03-23T12:14:44.783735Z",
     "shell.execute_reply": "2022-03-23T12:14:44.784306Z"
    },
    "papermill": {
     "duration": 0.049218,
     "end_time": "2022-03-23T12:14:44.784465",
     "exception": false,
     "start_time": "2022-03-23T12:14:44.735247",
     "status": "completed"
    },
    "tags": []
   },
   "outputs": [],
   "source": [
    "#hide\n",
    "dfc_cases = dft_cases.groupby(COL_REGION)[dt_today].sum()\n",
    "dfc_deaths = dft_deaths.groupby(COL_REGION)[dt_today].sum()\n",
    "# dfp_cases = dft_cases.groupby(COL_REGION)[dt_5day].sum()\n",
    "# dfp_deaths = dft_deaths.groupby(COL_REGION)[dt_5day].sum()\n",
    "dfp_cases = dft_cases.groupby(COL_REGION)[dt_yday].sum()\n",
    "dfp_deaths = dft_deaths.groupby(COL_REGION)[dt_yday].sum()"
   ]
  },
  {
   "cell_type": "code",
   "execution_count": 12,
   "id": "deluxe-hepatitis",
   "metadata": {
    "execution": {
     "iopub.execute_input": "2022-03-23T12:14:44.860510Z",
     "iopub.status.busy": "2022-03-23T12:14:44.859783Z",
     "iopub.status.idle": "2022-03-23T12:14:44.864900Z",
     "shell.execute_reply": "2022-03-23T12:14:44.865553Z"
    },
    "papermill": {
     "duration": 0.046453,
     "end_time": "2022-03-23T12:14:44.865682",
     "exception": false,
     "start_time": "2022-03-23T12:14:44.819229",
     "status": "completed"
    },
    "tags": []
   },
   "outputs": [],
   "source": [
    "#hide\n",
    "df_table = (pd.DataFrame(dict(Cases = dfc_cases, Deaths = dfc_deaths, PCases = dfp_cases, PDeaths = dfp_deaths))\n",
    "            .sort_values(by = ['Cases','Deaths'], ascending = [False, False])\n",
    "            .reset_index())"
   ]
  },
  {
   "cell_type": "code",
   "execution_count": 13,
   "id": "educational-chancellor",
   "metadata": {
    "execution": {
     "iopub.execute_input": "2022-03-23T12:14:44.954140Z",
     "iopub.status.busy": "2022-03-23T12:14:44.953414Z",
     "iopub.status.idle": "2022-03-23T12:14:44.962293Z",
     "shell.execute_reply": "2022-03-23T12:14:44.961779Z"
    },
    "papermill": {
     "duration": 0.062917,
     "end_time": "2022-03-23T12:14:44.962411",
     "exception": false,
     "start_time": "2022-03-23T12:14:44.899494",
     "status": "completed"
    },
    "tags": []
   },
   "outputs": [
    {
     "data": {
      "text/html": [
       "<div>\n",
       "<style scoped>\n",
       "    .dataframe tbody tr th:only-of-type {\n",
       "        vertical-align: middle;\n",
       "    }\n",
       "\n",
       "    .dataframe tbody tr th {\n",
       "        vertical-align: top;\n",
       "    }\n",
       "\n",
       "    .dataframe thead th {\n",
       "        text-align: right;\n",
       "    }\n",
       "</style>\n",
       "<table border=\"1\" class=\"dataframe\">\n",
       "  <thead>\n",
       "    <tr style=\"text-align: right;\">\n",
       "      <th></th>\n",
       "      <th>Country/Region</th>\n",
       "      <th>Cases</th>\n",
       "      <th>Deaths</th>\n",
       "      <th>PCases</th>\n",
       "      <th>PDeaths</th>\n",
       "      <th>Cases (+)</th>\n",
       "      <th>Deaths (+)</th>\n",
       "      <th>Fatality Rate</th>\n",
       "      <th>Continent</th>\n",
       "    </tr>\n",
       "  </thead>\n",
       "  <tbody>\n",
       "    <tr>\n",
       "      <th>0</th>\n",
       "      <td>US</td>\n",
       "      <td>79803443</td>\n",
       "      <td>973213</td>\n",
       "      <td>79780432</td>\n",
       "      <td>972658</td>\n",
       "      <td>23011</td>\n",
       "      <td>555</td>\n",
       "      <td>1.22</td>\n",
       "      <td>North America</td>\n",
       "    </tr>\n",
       "    <tr>\n",
       "      <th>1</th>\n",
       "      <td>India</td>\n",
       "      <td>43012749</td>\n",
       "      <td>516605</td>\n",
       "      <td>43010971</td>\n",
       "      <td>516543</td>\n",
       "      <td>1778</td>\n",
       "      <td>62</td>\n",
       "      <td>1.20</td>\n",
       "      <td>Asia</td>\n",
       "    </tr>\n",
       "    <tr>\n",
       "      <th>2</th>\n",
       "      <td>Brazil</td>\n",
       "      <td>29691641</td>\n",
       "      <td>658005</td>\n",
       "      <td>29650082</td>\n",
       "      <td>657595</td>\n",
       "      <td>41559</td>\n",
       "      <td>410</td>\n",
       "      <td>2.22</td>\n",
       "      <td>South America</td>\n",
       "    </tr>\n",
       "    <tr>\n",
       "      <th>3</th>\n",
       "      <td>France</td>\n",
       "      <td>24528957</td>\n",
       "      <td>142248</td>\n",
       "      <td>24347772</td>\n",
       "      <td>142114</td>\n",
       "      <td>181185</td>\n",
       "      <td>134</td>\n",
       "      <td>0.58</td>\n",
       "      <td>Europe</td>\n",
       "    </tr>\n",
       "    <tr>\n",
       "      <th>4</th>\n",
       "      <td>United Kingdom</td>\n",
       "      <td>20566021</td>\n",
       "      <td>164516</td>\n",
       "      <td>20470351</td>\n",
       "      <td>164266</td>\n",
       "      <td>95670</td>\n",
       "      <td>250</td>\n",
       "      <td>0.80</td>\n",
       "      <td>Europe</td>\n",
       "    </tr>\n",
       "  </tbody>\n",
       "</table>\n",
       "</div>"
      ],
      "text/plain": [
       "   Country/Region     Cases  Deaths    PCases  PDeaths  Cases (+)  Deaths (+)  \\\n",
       "0              US  79803443  973213  79780432   972658      23011         555   \n",
       "1           India  43012749  516605  43010971   516543       1778          62   \n",
       "2          Brazil  29691641  658005  29650082   657595      41559         410   \n",
       "3          France  24528957  142248  24347772   142114     181185         134   \n",
       "4  United Kingdom  20566021  164516  20470351   164266      95670         250   \n",
       "\n",
       "   Fatality Rate      Continent  \n",
       "0           1.22  North America  \n",
       "1           1.20           Asia  \n",
       "2           2.22  South America  \n",
       "3           0.58         Europe  \n",
       "4           0.80         Europe  "
      ]
     },
     "execution_count": 13,
     "metadata": {},
     "output_type": "execute_result"
    }
   ],
   "source": [
    "#hide\n",
    "for c in 'Cases, Deaths'.split(', '):\n",
    "    df_table[f'{c} (+)'] = (df_table[c] - df_table[f'P{c}']).clip(0)\n",
    "    #Clip ça veut dire, les chiffres negatif sont interdit\n",
    "df_table['Fatality Rate'] = (100* df_table['Deaths']/ df_table['Cases']).round(2)\n",
    "df_table['Continent'] = df_table['Country/Region'].map(mapping['map.continent'])\n",
    "df_table.head(5)"
   ]
  },
  {
   "cell_type": "code",
   "execution_count": 14,
   "id": "aboriginal-bulgaria",
   "metadata": {
    "execution": {
     "iopub.execute_input": "2022-03-23T12:14:45.040703Z",
     "iopub.status.busy": "2022-03-23T12:14:45.040102Z",
     "iopub.status.idle": "2022-03-23T12:14:45.042484Z",
     "shell.execute_reply": "2022-03-23T12:14:45.043004Z"
    },
    "papermill": {
     "duration": 0.045017,
     "end_time": "2022-03-23T12:14:45.043136",
     "exception": false,
     "start_time": "2022-03-23T12:14:44.998119",
     "status": "completed"
    },
    "tags": []
   },
   "outputs": [],
   "source": [
    "#hide\n",
    "#delete problematic countries from table\n",
    "df_table = df_table[~df_table['Country/Region'].isin(['Cape Verde', 'Cruise Ship', 'Kosovo'])]"
   ]
  },
  {
   "cell_type": "code",
   "execution_count": 15,
   "id": "fantastic-effect",
   "metadata": {
    "execution": {
     "iopub.execute_input": "2022-03-23T12:14:45.120497Z",
     "iopub.status.busy": "2022-03-23T12:14:45.119841Z",
     "iopub.status.idle": "2022-03-23T12:14:45.143596Z",
     "shell.execute_reply": "2022-03-23T12:14:45.144111Z"
    },
    "papermill": {
     "duration": 0.065553,
     "end_time": "2022-03-23T12:14:45.144249",
     "exception": false,
     "start_time": "2022-03-23T12:14:45.078696",
     "status": "completed"
    },
    "tags": []
   },
   "outputs": [
    {
     "data": {
      "text/html": [
       "<div>\n",
       "<style scoped>\n",
       "    .dataframe tbody tr th:only-of-type {\n",
       "        vertical-align: middle;\n",
       "    }\n",
       "\n",
       "    .dataframe tbody tr th {\n",
       "        vertical-align: top;\n",
       "    }\n",
       "\n",
       "    .dataframe thead th {\n",
       "        text-align: right;\n",
       "    }\n",
       "</style>\n",
       "<table border=\"1\" class=\"dataframe\">\n",
       "  <thead>\n",
       "    <tr style=\"text-align: right;\">\n",
       "      <th></th>\n",
       "      <th>Country/Region</th>\n",
       "      <th>Cases</th>\n",
       "      <th>Deaths</th>\n",
       "      <th>PCases</th>\n",
       "      <th>PDeaths</th>\n",
       "      <th>Cases (+)</th>\n",
       "      <th>Deaths (+)</th>\n",
       "      <th>Fatality Rate</th>\n",
       "      <th>Continent</th>\n",
       "    </tr>\n",
       "  </thead>\n",
       "  <tbody>\n",
       "    <tr>\n",
       "      <th>0</th>\n",
       "      <td>US</td>\n",
       "      <td>79803443</td>\n",
       "      <td>973213</td>\n",
       "      <td>79780432</td>\n",
       "      <td>972658</td>\n",
       "      <td>23011</td>\n",
       "      <td>555</td>\n",
       "      <td>1.2</td>\n",
       "      <td>North America</td>\n",
       "    </tr>\n",
       "    <tr>\n",
       "      <th>1</th>\n",
       "      <td>India</td>\n",
       "      <td>43012749</td>\n",
       "      <td>516605</td>\n",
       "      <td>43010971</td>\n",
       "      <td>516543</td>\n",
       "      <td>1778</td>\n",
       "      <td>62</td>\n",
       "      <td>1.2</td>\n",
       "      <td>Asia</td>\n",
       "    </tr>\n",
       "    <tr>\n",
       "      <th>2</th>\n",
       "      <td>Brazil</td>\n",
       "      <td>29691641</td>\n",
       "      <td>658005</td>\n",
       "      <td>29650082</td>\n",
       "      <td>657595</td>\n",
       "      <td>41559</td>\n",
       "      <td>410</td>\n",
       "      <td>2.2</td>\n",
       "      <td>South America</td>\n",
       "    </tr>\n",
       "    <tr>\n",
       "      <th>3</th>\n",
       "      <td>France</td>\n",
       "      <td>24528957</td>\n",
       "      <td>142248</td>\n",
       "      <td>24347772</td>\n",
       "      <td>142114</td>\n",
       "      <td>181185</td>\n",
       "      <td>134</td>\n",
       "      <td>0.6</td>\n",
       "      <td>Europe</td>\n",
       "    </tr>\n",
       "    <tr>\n",
       "      <th>4</th>\n",
       "      <td>United Kingdom</td>\n",
       "      <td>20566021</td>\n",
       "      <td>164516</td>\n",
       "      <td>20470351</td>\n",
       "      <td>164266</td>\n",
       "      <td>95670</td>\n",
       "      <td>250</td>\n",
       "      <td>0.8</td>\n",
       "      <td>Europe</td>\n",
       "    </tr>\n",
       "  </tbody>\n",
       "</table>\n",
       "</div>"
      ],
      "text/plain": [
       "   Country/Region     Cases  Deaths    PCases  PDeaths  Cases (+)  Deaths (+)  \\\n",
       "0              US  79803443  973213  79780432   972658      23011         555   \n",
       "1           India  43012749  516605  43010971   516543       1778          62   \n",
       "2          Brazil  29691641  658005  29650082   657595      41559         410   \n",
       "3          France  24528957  142248  24347772   142114     181185         134   \n",
       "4  United Kingdom  20566021  164516  20470351   164266      95670         250   \n",
       "\n",
       "   Fatality Rate      Continent  \n",
       "0            1.2  North America  \n",
       "1            1.2           Asia  \n",
       "2            2.2  South America  \n",
       "3            0.6         Europe  \n",
       "4            0.8         Europe  "
      ]
     },
     "execution_count": 15,
     "metadata": {},
     "output_type": "execute_result"
    }
   ],
   "source": [
    "#hide\n",
    "df_table = (pd.DataFrame(dict(Cases=dfc_cases, Deaths=dfc_deaths, PCases=dfp_cases, PDeaths=dfp_deaths))\n",
    "             .sort_values(by=['Cases', 'Deaths'], ascending=[False, False])\n",
    "             .reset_index())\n",
    "df_table.rename(columns={'index': 'Country/Region'}, inplace=True)\n",
    "for c in 'Cases, Deaths'.split(', '):\n",
    "    df_table[f'{c} (+)'] = (df_table[c] - df_table[f'P{c}']).clip(0)  # DATA BUG\n",
    "df_table['Fatality Rate'] = (100 * df_table['Deaths'] / df_table['Cases']).round(1)\n",
    "df_table['Continent'] = df_table['Country/Region'].map(mapping['map.continent'])\n",
    "df_table.head(5)"
   ]
  },
  {
   "cell_type": "code",
   "execution_count": 16,
   "id": "fewer-occasion",
   "metadata": {
    "execution": {
     "iopub.execute_input": "2022-03-23T12:14:45.221102Z",
     "iopub.status.busy": "2022-03-23T12:14:45.220403Z",
     "iopub.status.idle": "2022-03-23T12:14:45.222885Z",
     "shell.execute_reply": "2022-03-23T12:14:45.223459Z"
    },
    "papermill": {
     "duration": 0.043458,
     "end_time": "2022-03-23T12:14:45.223589",
     "exception": false,
     "start_time": "2022-03-23T12:14:45.180131",
     "status": "completed"
    },
    "tags": []
   },
   "outputs": [],
   "source": [
    "#hide\n",
    "#delete problematic countries from table\n",
    "df_table = df_table[~df_table['Country/Region'].isin(['Cape Verde', 'Cruise Ship', 'Kosovo'])]"
   ]
  },
  {
   "cell_type": "code",
   "execution_count": 17,
   "id": "related-center",
   "metadata": {
    "execution": {
     "iopub.execute_input": "2022-03-23T12:14:45.302682Z",
     "iopub.status.busy": "2022-03-23T12:14:45.302009Z",
     "iopub.status.idle": "2022-03-23T12:14:45.316735Z",
     "shell.execute_reply": "2022-03-23T12:14:45.316195Z"
    },
    "papermill": {
     "duration": 0.057429,
     "end_time": "2022-03-23T12:14:45.316852",
     "exception": false,
     "start_time": "2022-03-23T12:14:45.259423",
     "status": "completed"
    },
    "tags": []
   },
   "outputs": [],
   "source": [
    "#hide\n",
    "metrics = [df_table.columns[index] for index in [1,2,5,6]]\n",
    "# s_china = df_table[df_table['Country/Region'].eq('China')][metrics].sum().add_prefix('China ')\n",
    "s_us = df_table[df_table['Country/Region'].eq('US')][metrics].sum().add_prefix('US ')\n",
    "s_eu = df_table[df_table['Continent'].eq('Europe')][metrics].sum().add_prefix('EU ')\n",
    "s_ind = df_table[df_table['Country/Region'].eq('India')][metrics].sum().add_prefix('India ')\n",
    "summary = {'updated': pd.to_datetime(dt_today), 'since': pd.to_datetime(dt_yday)}\n",
    "summary = {'updated': pd.to_datetime(dt_today), 'since': pd.to_datetime(dt_yday)}\n",
    "summary = {**summary, **df_table[metrics].sum(), **s_ind, **s_us, **s_eu}"
   ]
  },
  {
   "cell_type": "code",
   "execution_count": 18,
   "id": "engaging-syndrome",
   "metadata": {
    "execution": {
     "iopub.execute_input": "2022-03-23T12:14:45.395800Z",
     "iopub.status.busy": "2022-03-23T12:14:45.395124Z",
     "iopub.status.idle": "2022-03-23T12:14:45.412923Z",
     "shell.execute_reply": "2022-03-23T12:14:45.413380Z"
    },
    "papermill": {
     "duration": 0.059804,
     "end_time": "2022-03-23T12:14:45.413540",
     "exception": false,
     "start_time": "2022-03-23T12:14:45.353736",
     "status": "completed"
    },
    "tags": []
   },
   "outputs": [],
   "source": [
    "#hide\n",
    "dft_ct_new_cases = dft_cases.groupby(COL_REGION)[dt_cols].sum().diff(axis=1).fillna(0).astype(int)"
   ]
  },
  {
   "cell_type": "code",
   "execution_count": 19,
   "id": "neutral-assignment",
   "metadata": {
    "execution": {
     "iopub.execute_input": "2022-03-23T12:14:45.491904Z",
     "iopub.status.busy": "2022-03-23T12:14:45.491263Z",
     "iopub.status.idle": "2022-03-23T12:14:45.493760Z",
     "shell.execute_reply": "2022-03-23T12:14:45.493053Z"
    },
    "papermill": {
     "duration": 0.044327,
     "end_time": "2022-03-23T12:14:45.493886",
     "exception": false,
     "start_time": "2022-03-23T12:14:45.449559",
     "status": "completed"
    },
    "tags": []
   },
   "outputs": [],
   "source": [
    "#hide\n",
    "everydaycases = dft_ct_new_cases.cumsum(axis=1)"
   ]
  },
  {
   "cell_type": "code",
   "execution_count": 20,
   "id": "parliamentary-calgary",
   "metadata": {
    "execution": {
     "iopub.execute_input": "2022-03-23T12:14:45.572252Z",
     "iopub.status.busy": "2022-03-23T12:14:45.571532Z",
     "iopub.status.idle": "2022-03-23T12:14:46.244003Z",
     "shell.execute_reply": "2022-03-23T12:14:46.243101Z"
    },
    "papermill": {
     "duration": 0.712877,
     "end_time": "2022-03-23T12:14:46.244147",
     "exception": false,
     "start_time": "2022-03-23T12:14:45.531270",
     "status": "completed"
    },
    "tags": []
   },
   "outputs": [],
   "source": [
    "#hide\n",
    "import pandas as pd\n",
    "import matplotlib.pyplot as plt\n",
    "import matplotlib.ticker as ticker\n",
    "import matplotlib.animation as animation\n",
    "from IPython.display import HTML"
   ]
  },
  {
   "cell_type": "code",
   "execution_count": 21,
   "id": "lasting-extraction",
   "metadata": {
    "execution": {
     "iopub.execute_input": "2022-03-23T12:14:46.328109Z",
     "iopub.status.busy": "2022-03-23T12:14:46.327200Z",
     "iopub.status.idle": "2022-03-23T12:14:46.333910Z",
     "shell.execute_reply": "2022-03-23T12:14:46.334506Z"
    },
    "papermill": {
     "duration": 0.049806,
     "end_time": "2022-03-23T12:14:46.334651",
     "exception": false,
     "start_time": "2022-03-23T12:14:46.284845",
     "status": "completed"
    },
    "tags": []
   },
   "outputs": [],
   "source": [
    "#hide\n",
    "t = everydaycases.stack()"
   ]
  },
  {
   "cell_type": "code",
   "execution_count": 22,
   "id": "premier-sleeve",
   "metadata": {
    "execution": {
     "iopub.execute_input": "2022-03-23T12:14:46.413673Z",
     "iopub.status.busy": "2022-03-23T12:14:46.413049Z",
     "iopub.status.idle": "2022-03-23T12:14:46.423311Z",
     "shell.execute_reply": "2022-03-23T12:14:46.423936Z"
    },
    "papermill": {
     "duration": 0.051357,
     "end_time": "2022-03-23T12:14:46.424073",
     "exception": false,
     "start_time": "2022-03-23T12:14:46.372716",
     "status": "completed"
    },
    "tags": []
   },
   "outputs": [],
   "source": [
    "#hide\n",
    "g = t.reset_index(['Country/Region'])"
   ]
  },
  {
   "cell_type": "code",
   "execution_count": 23,
   "id": "distributed-pittsburgh",
   "metadata": {
    "execution": {
     "iopub.execute_input": "2022-03-23T12:14:46.499043Z",
     "iopub.status.busy": "2022-03-23T12:14:46.498444Z",
     "iopub.status.idle": "2022-03-23T12:14:46.502371Z",
     "shell.execute_reply": "2022-03-23T12:14:46.502828Z"
    },
    "papermill": {
     "duration": 0.043194,
     "end_time": "2022-03-23T12:14:46.502972",
     "exception": false,
     "start_time": "2022-03-23T12:14:46.459778",
     "status": "completed"
    },
    "tags": []
   },
   "outputs": [],
   "source": [
    "#hide\n",
    "g.index.name = 'date'"
   ]
  },
  {
   "cell_type": "code",
   "execution_count": 24,
   "id": "naked-donor",
   "metadata": {
    "execution": {
     "iopub.execute_input": "2022-03-23T12:14:46.577214Z",
     "iopub.status.busy": "2022-03-23T12:14:46.576590Z",
     "iopub.status.idle": "2022-03-23T12:14:46.578764Z",
     "shell.execute_reply": "2022-03-23T12:14:46.579308Z"
    },
    "papermill": {
     "duration": 0.040998,
     "end_time": "2022-03-23T12:14:46.579452",
     "exception": false,
     "start_time": "2022-03-23T12:14:46.538454",
     "status": "completed"
    },
    "tags": []
   },
   "outputs": [],
   "source": [
    "# #hide\n",
    "# g = g.reset_index(['date'])"
   ]
  },
  {
   "cell_type": "code",
   "execution_count": 25,
   "id": "incomplete-mustang",
   "metadata": {
    "execution": {
     "iopub.execute_input": "2022-03-23T12:14:46.656901Z",
     "iopub.status.busy": "2022-03-23T12:14:46.656284Z",
     "iopub.status.idle": "2022-03-23T12:14:46.658912Z",
     "shell.execute_reply": "2022-03-23T12:14:46.658413Z"
    },
    "papermill": {
     "duration": 0.042548,
     "end_time": "2022-03-23T12:14:46.659044",
     "exception": false,
     "start_time": "2022-03-23T12:14:46.616496",
     "status": "completed"
    },
    "tags": []
   },
   "outputs": [],
   "source": [
    "#hide\n",
    "# g.head()"
   ]
  },
  {
   "cell_type": "code",
   "execution_count": 26,
   "id": "specific-kruger",
   "metadata": {
    "execution": {
     "iopub.execute_input": "2022-03-23T12:14:46.735500Z",
     "iopub.status.busy": "2022-03-23T12:14:46.734861Z",
     "iopub.status.idle": "2022-03-23T12:14:46.737215Z",
     "shell.execute_reply": "2022-03-23T12:14:46.737776Z"
    },
    "papermill": {
     "duration": 0.042684,
     "end_time": "2022-03-23T12:14:46.737933",
     "exception": false,
     "start_time": "2022-03-23T12:14:46.695249",
     "status": "completed"
    },
    "tags": []
   },
   "outputs": [],
   "source": [
    "#hide\n",
    "# g.columns = ['date','country','cases']"
   ]
  },
  {
   "cell_type": "code",
   "execution_count": 27,
   "id": "tender-conversion",
   "metadata": {
    "execution": {
     "iopub.execute_input": "2022-03-23T12:14:46.818856Z",
     "iopub.status.busy": "2022-03-23T12:14:46.818236Z",
     "iopub.status.idle": "2022-03-23T12:14:46.820394Z",
     "shell.execute_reply": "2022-03-23T12:14:46.820987Z"
    },
    "papermill": {
     "duration": 0.042936,
     "end_time": "2022-03-23T12:14:46.821132",
     "exception": false,
     "start_time": "2022-03-23T12:14:46.778196",
     "status": "completed"
    },
    "tags": []
   },
   "outputs": [],
   "source": [
    "#hide\n",
    "# g['continent'] = g.country"
   ]
  },
  {
   "cell_type": "code",
   "execution_count": 28,
   "id": "substantial-wilderness",
   "metadata": {
    "execution": {
     "iopub.execute_input": "2022-03-23T12:14:46.896341Z",
     "iopub.status.busy": "2022-03-23T12:14:46.895621Z",
     "iopub.status.idle": "2022-03-23T12:14:46.897766Z",
     "shell.execute_reply": "2022-03-23T12:14:46.898290Z"
    },
    "papermill": {
     "duration": 0.041433,
     "end_time": "2022-03-23T12:14:46.898424",
     "exception": false,
     "start_time": "2022-03-23T12:14:46.856991",
     "status": "completed"
    },
    "tags": []
   },
   "outputs": [],
   "source": [
    "#hide\n",
    "# cols = list(g.columns.values)"
   ]
  },
  {
   "cell_type": "code",
   "execution_count": 29,
   "id": "solved-farming",
   "metadata": {
    "execution": {
     "iopub.execute_input": "2022-03-23T12:14:46.973418Z",
     "iopub.status.busy": "2022-03-23T12:14:46.972786Z",
     "iopub.status.idle": "2022-03-23T12:14:46.976757Z",
     "shell.execute_reply": "2022-03-23T12:14:46.977258Z"
    },
    "papermill": {
     "duration": 0.043282,
     "end_time": "2022-03-23T12:14:46.977388",
     "exception": false,
     "start_time": "2022-03-23T12:14:46.934106",
     "status": "completed"
    },
    "tags": []
   },
   "outputs": [],
   "source": [
    "#hide\n",
    "# cols.insert(0, cols.pop())"
   ]
  },
  {
   "cell_type": "code",
   "execution_count": 30,
   "id": "executed-adoption",
   "metadata": {
    "execution": {
     "iopub.execute_input": "2022-03-23T12:14:47.058878Z",
     "iopub.status.busy": "2022-03-23T12:14:47.058098Z",
     "iopub.status.idle": "2022-03-23T12:14:47.061057Z",
     "shell.execute_reply": "2022-03-23T12:14:47.060523Z"
    },
    "papermill": {
     "duration": 0.046314,
     "end_time": "2022-03-23T12:14:47.061204",
     "exception": false,
     "start_time": "2022-03-23T12:14:47.014890",
     "status": "completed"
    },
    "tags": []
   },
   "outputs": [],
   "source": [
    "#hide\n",
    "# g = g[cols]"
   ]
  },
  {
   "cell_type": "code",
   "execution_count": 31,
   "id": "subject-dublin",
   "metadata": {
    "execution": {
     "iopub.execute_input": "2022-03-23T12:14:47.137579Z",
     "iopub.status.busy": "2022-03-23T12:14:47.136924Z",
     "iopub.status.idle": "2022-03-23T12:14:47.141026Z",
     "shell.execute_reply": "2022-03-23T12:14:47.141543Z"
    },
    "papermill": {
     "duration": 0.043296,
     "end_time": "2022-03-23T12:14:47.141677",
     "exception": false,
     "start_time": "2022-03-23T12:14:47.098381",
     "status": "completed"
    },
    "tags": []
   },
   "outputs": [],
   "source": [
    "#hide\n",
    "# g['continent'] = g['continent'].map(mapping['map.continent'])"
   ]
  },
  {
   "cell_type": "code",
   "execution_count": 32,
   "id": "freelance-scout",
   "metadata": {
    "execution": {
     "iopub.execute_input": "2022-03-23T12:14:47.218969Z",
     "iopub.status.busy": "2022-03-23T12:14:47.218377Z",
     "iopub.status.idle": "2022-03-23T12:14:47.220598Z",
     "shell.execute_reply": "2022-03-23T12:14:47.221131Z"
    },
    "papermill": {
     "duration": 0.042385,
     "end_time": "2022-03-23T12:14:47.221266",
     "exception": false,
     "start_time": "2022-03-23T12:14:47.178881",
     "status": "completed"
    },
    "tags": []
   },
   "outputs": [],
   "source": [
    "#hide\n",
    "# g.head()"
   ]
  },
  {
   "cell_type": "code",
   "execution_count": 33,
   "id": "limited-engine",
   "metadata": {
    "execution": {
     "iopub.execute_input": "2022-03-23T12:14:47.296650Z",
     "iopub.status.busy": "2022-03-23T12:14:47.295969Z",
     "iopub.status.idle": "2022-03-23T12:14:47.298597Z",
     "shell.execute_reply": "2022-03-23T12:14:47.298048Z"
    },
    "papermill": {
     "duration": 0.041674,
     "end_time": "2022-03-23T12:14:47.298745",
     "exception": false,
     "start_time": "2022-03-23T12:14:47.257071",
     "status": "completed"
    },
    "tags": []
   },
   "outputs": [],
   "source": [
    "# hide\n",
    "# g['date'] = g['date'].astype('datetime64[ns]')"
   ]
  },
  {
   "cell_type": "code",
   "execution_count": 34,
   "id": "sophisticated-supervisor",
   "metadata": {
    "execution": {
     "iopub.execute_input": "2022-03-23T12:14:47.372539Z",
     "iopub.status.busy": "2022-03-23T12:14:47.371886Z",
     "iopub.status.idle": "2022-03-23T12:14:47.374121Z",
     "shell.execute_reply": "2022-03-23T12:14:47.374690Z"
    },
    "papermill": {
     "duration": 0.040812,
     "end_time": "2022-03-23T12:14:47.374814",
     "exception": false,
     "start_time": "2022-03-23T12:14:47.334002",
     "status": "completed"
    },
    "tags": []
   },
   "outputs": [],
   "source": [
    "#hide\n",
    "# g['date'] = g.date.dt.dayofyear"
   ]
  },
  {
   "cell_type": "code",
   "execution_count": 35,
   "id": "inside-dubai",
   "metadata": {
    "execution": {
     "iopub.execute_input": "2022-03-23T12:14:47.459120Z",
     "iopub.status.busy": "2022-03-23T12:14:47.458446Z",
     "iopub.status.idle": "2022-03-23T12:14:47.462520Z",
     "shell.execute_reply": "2022-03-23T12:14:47.463064Z"
    },
    "papermill": {
     "duration": 0.044789,
     "end_time": "2022-03-23T12:14:47.463205",
     "exception": false,
     "start_time": "2022-03-23T12:14:47.418416",
     "status": "completed"
    },
    "tags": []
   },
   "outputs": [],
   "source": [
    "#hide\n",
    "# g = g.rename(columns= {'continent':'group','country':'name','cases':'value'})"
   ]
  },
  {
   "cell_type": "code",
   "execution_count": 36,
   "id": "fleet-motorcycle",
   "metadata": {
    "execution": {
     "iopub.execute_input": "2022-03-23T12:14:47.541171Z",
     "iopub.status.busy": "2022-03-23T12:14:47.540533Z",
     "iopub.status.idle": "2022-03-23T12:14:47.543311Z",
     "shell.execute_reply": "2022-03-23T12:14:47.542605Z"
    },
    "papermill": {
     "duration": 0.042704,
     "end_time": "2022-03-23T12:14:47.543445",
     "exception": false,
     "start_time": "2022-03-23T12:14:47.500741",
     "status": "completed"
    },
    "tags": []
   },
   "outputs": [],
   "source": [
    "#hide\n",
    "# cols = ['name','group','day','value']"
   ]
  },
  {
   "cell_type": "code",
   "execution_count": 37,
   "id": "continued-sleeping",
   "metadata": {
    "execution": {
     "iopub.execute_input": "2022-03-23T12:14:47.621559Z",
     "iopub.status.busy": "2022-03-23T12:14:47.620939Z",
     "iopub.status.idle": "2022-03-23T12:14:47.624973Z",
     "shell.execute_reply": "2022-03-23T12:14:47.625530Z"
    },
    "papermill": {
     "duration": 0.046538,
     "end_time": "2022-03-23T12:14:47.625667",
     "exception": false,
     "start_time": "2022-03-23T12:14:47.579129",
     "status": "completed"
    },
    "tags": []
   },
   "outputs": [],
   "source": [
    "#hide\n",
    "# g.rename(columns= {'date':'day'},inplace = True)"
   ]
  },
  {
   "cell_type": "code",
   "execution_count": 38,
   "id": "major-fight",
   "metadata": {
    "execution": {
     "iopub.execute_input": "2022-03-23T12:14:47.701524Z",
     "iopub.status.busy": "2022-03-23T12:14:47.700856Z",
     "iopub.status.idle": "2022-03-23T12:14:47.703459Z",
     "shell.execute_reply": "2022-03-23T12:14:47.702771Z"
    },
    "papermill": {
     "duration": 0.040858,
     "end_time": "2022-03-23T12:14:47.703575",
     "exception": false,
     "start_time": "2022-03-23T12:14:47.662717",
     "status": "completed"
    },
    "tags": []
   },
   "outputs": [],
   "source": [
    "#hide\n",
    "# g = g[cols]"
   ]
  },
  {
   "cell_type": "code",
   "execution_count": 39,
   "id": "structured-mobile",
   "metadata": {
    "execution": {
     "iopub.execute_input": "2022-03-23T12:14:47.782986Z",
     "iopub.status.busy": "2022-03-23T12:14:47.782294Z",
     "iopub.status.idle": "2022-03-23T12:14:47.788765Z",
     "shell.execute_reply": "2022-03-23T12:14:47.786277Z"
    },
    "papermill": {
     "duration": 0.048127,
     "end_time": "2022-03-23T12:14:47.788914",
     "exception": false,
     "start_time": "2022-03-23T12:14:47.740787",
     "status": "completed"
    },
    "tags": []
   },
   "outputs": [],
   "source": [
    "# #hide\n",
    "# g = g[g.group.notna()]"
   ]
  },
  {
   "cell_type": "code",
   "execution_count": 40,
   "id": "determined-closing",
   "metadata": {
    "execution": {
     "iopub.execute_input": "2022-03-23T12:14:47.868427Z",
     "iopub.status.busy": "2022-03-23T12:14:47.867582Z",
     "iopub.status.idle": "2022-03-23T12:14:47.870176Z",
     "shell.execute_reply": "2022-03-23T12:14:47.870623Z"
    },
    "papermill": {
     "duration": 0.042427,
     "end_time": "2022-03-23T12:14:47.870770",
     "exception": false,
     "start_time": "2022-03-23T12:14:47.828343",
     "status": "completed"
    },
    "tags": []
   },
   "outputs": [],
   "source": [
    "# #hide\n",
    "# colors = dict(zip(\n",
    "#     [\"Oceania\", \"Europe\", \"Asia\", \"South America\", \"Middle East\", \"North America\", \"Africa\"],\n",
    "#     [\"#adb0ff\", \"#ffb3ff\", \"#90d595\", \"#e48381\", \"#aafbff\", \"#f7bb5f\", \"#eafb50\"]\n",
    "# ))\n",
    "# group_lk = g.set_index('name')['group'].to_dict()"
   ]
  },
  {
   "cell_type": "code",
   "execution_count": null,
   "id": "gross-drinking",
   "metadata": {
    "papermill": {
     "duration": 0.035763,
     "end_time": "2022-03-23T12:14:47.942317",
     "exception": false,
     "start_time": "2022-03-23T12:14:47.906554",
     "status": "completed"
    },
    "tags": []
   },
   "outputs": [],
   "source": []
  },
  {
   "cell_type": "code",
   "execution_count": 41,
   "id": "subject-macintosh",
   "metadata": {
    "execution": {
     "iopub.execute_input": "2022-03-23T12:14:48.017582Z",
     "iopub.status.busy": "2022-03-23T12:14:48.016884Z",
     "iopub.status.idle": "2022-03-23T12:14:48.019150Z",
     "shell.execute_reply": "2022-03-23T12:14:48.018508Z"
    },
    "papermill": {
     "duration": 0.041928,
     "end_time": "2022-03-23T12:14:48.019280",
     "exception": false,
     "start_time": "2022-03-23T12:14:47.977352",
     "status": "completed"
    },
    "tags": []
   },
   "outputs": [],
   "source": [
    "# #hide\n",
    "# fig, ax = plt.subplots(figsize=(15, 8))\n",
    "\n",
    "# def draw_barchart(current_day):\n",
    "#     dff = g[g['day'].eq(current_day)].sort_values(by='value', ascending=True).tail(10)\n",
    "#     ax.clear()\n",
    "#     ax.barh(dff['name'], dff['value'], color=[colors[group_lk[x]] for x in dff['name']])\n",
    "#     dx = dff['value'].max() / 200\n",
    "    \n",
    "#     for i, (value, name) in enumerate(zip(dff['value'], dff['name'])):\n",
    "#         ax.text(value-dx, i,     name,           size=14, weight=600, ha='right', va='bottom')\n",
    "#         ax.text(value-dx, i-.25, group_lk[name], size=10, color='#444444', ha='right', va='baseline')\n",
    "#         ax.text(value+dx, i,     f'{value:,.0f}',  size=14, ha='left',  va='center')\n",
    "#     ax.text(1, 0.4, current_day, transform=ax.transAxes, color='#777777', size=46, ha='right', weight=800)\n",
    "#     ax.text(0, 1.06, 'Population (thousands)', transform=ax.transAxes, size=12, color='#777777')\n",
    "#     ax.xaxis.set_major_formatter(ticker.StrMethodFormatter('{x:,.0f}'))\n",
    "#     ax.xaxis.set_ticks_position('top')\n",
    "#     ax.tick_params(axis='x', colors='#777777', labelsize=12)\n",
    "#     ax.set_yticks([])\n",
    "#     ax.margins(0, 0.01)\n",
    "#     ax.grid(which='major', axis='x', linestyle='-')\n",
    "#     ax.set_axisbelow(True)\n",
    "    \n",
    "#     ax.text(0, 1.15, 'Coronavirus',\n",
    "#             transform=ax.transAxes, size=24, weight=600, ha='left', va='top')\n",
    "# #     ax.text(1, 0, 'by @pratapvardhan; credit @jburnmurdoch', transform=ax.transAxes, color='#777777', ha='right',\n",
    "# #             bbox=dict(facecolor='white', alpha=0.8, edgecolor='white'))\n",
    "#     plt.box(False)"
   ]
  },
  {
   "cell_type": "code",
   "execution_count": 42,
   "id": "sexual-wages",
   "metadata": {
    "execution": {
     "iopub.execute_input": "2022-03-23T12:14:48.101048Z",
     "iopub.status.busy": "2022-03-23T12:14:48.100418Z",
     "iopub.status.idle": "2022-03-23T12:14:48.102793Z",
     "shell.execute_reply": "2022-03-23T12:14:48.103279Z"
    },
    "papermill": {
     "duration": 0.045307,
     "end_time": "2022-03-23T12:14:48.103432",
     "exception": false,
     "start_time": "2022-03-23T12:14:48.058125",
     "status": "completed"
    },
    "tags": []
   },
   "outputs": [],
   "source": [
    "# #hide_input\n",
    "# fig, ax = plt.subplots(figsize=(15, 8))\n",
    "# animator = animation.FuncAnimation(fig, draw_barchart, frames=range(g.day.values.min(), g.day.values.max()))\n",
    "# HTML(animator.to_jshtml())\n",
    "# # or use animator.to_html5_video() or animator.save() "
   ]
  },
  {
   "cell_type": "code",
   "execution_count": null,
   "id": "australian-container",
   "metadata": {
    "papermill": {
     "duration": 0.034644,
     "end_time": "2022-03-23T12:14:48.174383",
     "exception": false,
     "start_time": "2022-03-23T12:14:48.139739",
     "status": "completed"
    },
    "tags": []
   },
   "outputs": [],
   "source": []
  },
  {
   "cell_type": "code",
   "execution_count": null,
   "id": "mediterranean-pontiac",
   "metadata": {
    "papermill": {
     "duration": 0.034567,
     "end_time": "2022-03-23T12:14:48.243833",
     "exception": false,
     "start_time": "2022-03-23T12:14:48.209266",
     "status": "completed"
    },
    "tags": []
   },
   "outputs": [],
   "source": []
  },
  {
   "cell_type": "code",
   "execution_count": null,
   "id": "aging-legislature",
   "metadata": {
    "papermill": {
     "duration": 0.035767,
     "end_time": "2022-03-23T12:14:48.317860",
     "exception": false,
     "start_time": "2022-03-23T12:14:48.282093",
     "status": "completed"
    },
    "tags": []
   },
   "outputs": [],
   "source": []
  }
 ],
 "metadata": {
  "kernelspec": {
   "display_name": "Python 3",
   "language": "python",
   "name": "python3"
  },
  "language_info": {
   "codemirror_mode": {
    "name": "ipython",
    "version": 3
   },
   "file_extension": ".py",
   "mimetype": "text/x-python",
   "name": "python",
   "nbconvert_exporter": "python",
   "pygments_lexer": "ipython3",
   "version": "3.6.15"
  },
  "papermill": {
   "duration": 7.303836,
   "end_time": "2022-03-23T12:14:48.672520",
   "environment_variables": {},
   "exception": null,
   "input_path": "2020-03-21-covid19exp.ipynb",
   "output_path": "2020-03-21-covid19exp.ipynb",
   "parameters": {},
   "start_time": "2022-03-23T12:14:41.368684",
   "version": "2.0.0"
  }
 },
 "nbformat": 4,
 "nbformat_minor": 5
}