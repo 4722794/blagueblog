{
 "cells": [
  {
   "cell_type": "markdown",
   "metadata": {
    "papermill": {
     "duration": 0.031183,
     "end_time": "2020-12-28T00:18:55.198348",
     "exception": false,
     "start_time": "2020-12-28T00:18:55.167165",
     "status": "completed"
    },
    "tags": []
   },
   "source": [
    "# COVID-19 Case Race\n",
    "> A race chart to see rising cases around the world\n",
    "\n",
    "- author: Hargun Oberoi\n",
    "- image: images/covid-overview.png\n",
    "- hide: false\n",
    "- badges: false"
   ]
  },
  {
   "cell_type": "code",
   "execution_count": 1,
   "metadata": {
    "execution": {
     "iopub.execute_input": "2020-12-28T00:18:55.266090Z",
     "iopub.status.busy": "2020-12-28T00:18:55.265477Z",
     "iopub.status.idle": "2020-12-28T00:18:55.609921Z",
     "shell.execute_reply": "2020-12-28T00:18:55.610649Z"
    },
    "papermill": {
     "duration": 0.384439,
     "end_time": "2020-12-28T00:18:55.610861",
     "exception": false,
     "start_time": "2020-12-28T00:18:55.226422",
     "status": "completed"
    },
    "tags": []
   },
   "outputs": [],
   "source": [
    "#hide\n",
    "import numpy as np\n",
    "import pandas as pd\n",
    "from jinja2 import Template\n",
    "from IPython.display import HTML"
   ]
  },
  {
   "cell_type": "code",
   "execution_count": 2,
   "metadata": {
    "execution": {
     "iopub.execute_input": "2020-12-28T00:18:55.679412Z",
     "iopub.status.busy": "2020-12-28T00:18:55.678814Z",
     "iopub.status.idle": "2020-12-28T00:18:55.681205Z",
     "shell.execute_reply": "2020-12-28T00:18:55.681645Z"
    },
    "papermill": {
     "duration": 0.040691,
     "end_time": "2020-12-28T00:18:55.681795",
     "exception": false,
     "start_time": "2020-12-28T00:18:55.641104",
     "status": "completed"
    },
    "tags": []
   },
   "outputs": [],
   "source": [
    "#hide\n",
    "\n",
    "# FETCH\n",
    "base_url = 'https://raw.githubusercontent.com/pratapvardhan/notebooks/master/covid19/'\n",
    "paths = {\n",
    "    'mapping': base_url + 'mapping_countries.csv',\n",
    "    'overview': base_url + 'overview.tpl'\n",
    "}"
   ]
  },
  {
   "cell_type": "code",
   "execution_count": 3,
   "metadata": {
    "execution": {
     "iopub.execute_input": "2020-12-28T00:18:55.748064Z",
     "iopub.status.busy": "2020-12-28T00:18:55.747455Z",
     "iopub.status.idle": "2020-12-28T00:18:55.749713Z",
     "shell.execute_reply": "2020-12-28T00:18:55.750250Z"
    },
    "papermill": {
     "duration": 0.040168,
     "end_time": "2020-12-28T00:18:55.750389",
     "exception": false,
     "start_time": "2020-12-28T00:18:55.710221",
     "status": "completed"
    },
    "tags": []
   },
   "outputs": [
    {
     "data": {
      "text/plain": [
       "'https://raw.githubusercontent.com/pratapvardhan/notebooks/master/covid19/mapping_countries.csv'"
      ]
     },
     "execution_count": 3,
     "metadata": {},
     "output_type": "execute_result"
    }
   ],
   "source": [
    "#hide\n",
    "paths['mapping']"
   ]
  },
  {
   "cell_type": "code",
   "execution_count": 4,
   "metadata": {
    "execution": {
     "iopub.execute_input": "2020-12-28T00:18:55.816311Z",
     "iopub.status.busy": "2020-12-28T00:18:55.815517Z",
     "iopub.status.idle": "2020-12-28T00:18:55.817291Z",
     "shell.execute_reply": "2020-12-28T00:18:55.817899Z"
    },
    "papermill": {
     "duration": 0.039242,
     "end_time": "2020-12-28T00:18:55.818043",
     "exception": false,
     "start_time": "2020-12-28T00:18:55.778801",
     "status": "completed"
    },
    "tags": []
   },
   "outputs": [],
   "source": [
    "#hide\n",
    "def get_mappings(url):\n",
    "    df = pd.read_csv(url)\n",
    "    return {\n",
    "        'df': df,\n",
    "        'replace.country': dict(df.dropna(subset=['Name']).set_index('Country')['Name']),\n",
    "        'map.continent': dict(df.set_index('Name')['Continent'])\n",
    "    }"
   ]
  },
  {
   "cell_type": "code",
   "execution_count": 5,
   "metadata": {
    "execution": {
     "iopub.execute_input": "2020-12-28T00:18:55.885768Z",
     "iopub.status.busy": "2020-12-28T00:18:55.885224Z",
     "iopub.status.idle": "2020-12-28T00:18:55.945487Z",
     "shell.execute_reply": "2020-12-28T00:18:55.944723Z"
    },
    "papermill": {
     "duration": 0.095756,
     "end_time": "2020-12-28T00:18:55.945661",
     "exception": false,
     "start_time": "2020-12-28T00:18:55.849905",
     "status": "completed"
    },
    "tags": []
   },
   "outputs": [],
   "source": [
    "#hide\n",
    "mapping = get_mappings(paths['mapping'])"
   ]
  },
  {
   "cell_type": "code",
   "execution_count": 6,
   "metadata": {
    "execution": {
     "iopub.execute_input": "2020-12-28T00:18:56.015987Z",
     "iopub.status.busy": "2020-12-28T00:18:56.015166Z",
     "iopub.status.idle": "2020-12-28T00:18:56.017572Z",
     "shell.execute_reply": "2020-12-28T00:18:56.018133Z"
    },
    "papermill": {
     "duration": 0.041434,
     "end_time": "2020-12-28T00:18:56.018303",
     "exception": false,
     "start_time": "2020-12-28T00:18:55.976869",
     "status": "completed"
    },
    "tags": []
   },
   "outputs": [],
   "source": [
    "#hide\n",
    "def get_template(path):\n",
    "    from urllib.parse import urlparse\n",
    "    if bool(urlparse(path).netloc):\n",
    "        from urllib.request import urlopen\n",
    "        return urlopen(path).read().decode('utf8')\n",
    "    return open(path).read()"
   ]
  },
  {
   "cell_type": "code",
   "execution_count": 7,
   "metadata": {
    "execution": {
     "iopub.execute_input": "2020-12-28T00:18:56.082976Z",
     "iopub.status.busy": "2020-12-28T00:18:56.082381Z",
     "iopub.status.idle": "2020-12-28T00:18:56.087120Z",
     "shell.execute_reply": "2020-12-28T00:18:56.086009Z"
    },
    "papermill": {
     "duration": 0.039072,
     "end_time": "2020-12-28T00:18:56.087238",
     "exception": false,
     "start_time": "2020-12-28T00:18:56.048166",
     "status": "completed"
    },
    "tags": []
   },
   "outputs": [],
   "source": [
    "#hide\n",
    "def get_frame(name):\n",
    "    url = (\n",
    "        'https://raw.githubusercontent.com/CSSEGISandData/COVID-19/master/csse_covid_19_data/'\n",
    "        f'csse_covid_19_time_series/time_series_covid19_{name}_global.csv')\n",
    "    df = pd.read_csv(url)\n",
    "    # rename countries\n",
    "    df['Country/Region'] = df['Country/Region'].replace(mapping['replace.country'])\n",
    "    return df"
   ]
  },
  {
   "cell_type": "code",
   "execution_count": 8,
   "metadata": {
    "execution": {
     "iopub.execute_input": "2020-12-28T00:18:56.151911Z",
     "iopub.status.busy": "2020-12-28T00:18:56.151337Z",
     "iopub.status.idle": "2020-12-28T00:18:56.153917Z",
     "shell.execute_reply": "2020-12-28T00:18:56.153456Z"
    },
    "papermill": {
     "duration": 0.038062,
     "end_time": "2020-12-28T00:18:56.154040",
     "exception": false,
     "start_time": "2020-12-28T00:18:56.115978",
     "status": "completed"
    },
    "tags": []
   },
   "outputs": [],
   "source": [
    "#hide\n",
    "def get_dates(df):\n",
    "    dt_cols = df.columns[~df.columns.isin(['Province/State', 'Country/Region', 'Lat', 'Long'])]\n",
    "    LAST_DATE_I = -1\n",
    "    # sometimes last column may be empty, then go backwards\n",
    "    for i in range(-1, -len(dt_cols), -1):\n",
    "        if not df[dt_cols[i]].fillna(0).eq(0).all():\n",
    "            LAST_DATE_I = i\n",
    "            break\n",
    "    return LAST_DATE_I, dt_cols"
   ]
  },
  {
   "cell_type": "code",
   "execution_count": 9,
   "metadata": {
    "execution": {
     "iopub.execute_input": "2020-12-28T00:18:56.215940Z",
     "iopub.status.busy": "2020-12-28T00:18:56.214913Z",
     "iopub.status.idle": "2020-12-28T00:18:56.613506Z",
     "shell.execute_reply": "2020-12-28T00:18:56.614322Z"
    },
    "papermill": {
     "duration": 0.433101,
     "end_time": "2020-12-28T00:18:56.614580",
     "exception": false,
     "start_time": "2020-12-28T00:18:56.181479",
     "status": "completed"
    },
    "tags": []
   },
   "outputs": [],
   "source": [
    "#hide\n",
    "COL_REGION = 'Country/Region'\n",
    "# Confirmed, Recovered, Deaths\n",
    "df = get_frame('confirmed')\n",
    "# dft_: timeseries, dfc_: today country agg\n",
    "dft_cases = df\n",
    "dft_deaths = get_frame('deaths')\n",
    "dft_recovered = get_frame('recovered')\n",
    "LAST_DATE_I, dt_cols = get_dates(df)"
   ]
  },
  {
   "cell_type": "code",
   "execution_count": 10,
   "metadata": {
    "execution": {
     "iopub.execute_input": "2020-12-28T00:18:56.679366Z",
     "iopub.status.busy": "2020-12-28T00:18:56.678680Z",
     "iopub.status.idle": "2020-12-28T00:18:56.680007Z",
     "shell.execute_reply": "2020-12-28T00:18:56.680554Z"
    },
    "papermill": {
     "duration": 0.036699,
     "end_time": "2020-12-28T00:18:56.680691",
     "exception": false,
     "start_time": "2020-12-28T00:18:56.643992",
     "status": "completed"
    },
    "tags": []
   },
   "outputs": [],
   "source": [
    "#hide\n",
    "LAST_DATE_I, dt_cols = get_dates(df)\n",
    "dt_today =dt_cols[LAST_DATE_I]\n",
    "# dt_5day = dt_cols[LAST_DATE_I - 5]\n",
    "dt_yday = dt_cols[LAST_DATE_I - 1]"
   ]
  },
  {
   "cell_type": "code",
   "execution_count": 11,
   "metadata": {
    "execution": {
     "iopub.execute_input": "2020-12-28T00:18:56.744307Z",
     "iopub.status.busy": "2020-12-28T00:18:56.743706Z",
     "iopub.status.idle": "2020-12-28T00:18:56.751379Z",
     "shell.execute_reply": "2020-12-28T00:18:56.750876Z"
    },
    "papermill": {
     "duration": 0.041341,
     "end_time": "2020-12-28T00:18:56.751490",
     "exception": false,
     "start_time": "2020-12-28T00:18:56.710149",
     "status": "completed"
    },
    "tags": []
   },
   "outputs": [],
   "source": [
    "#hide\n",
    "dfc_cases = dft_cases.groupby(COL_REGION)[dt_today].sum()\n",
    "dfc_deaths = dft_deaths.groupby(COL_REGION)[dt_today].sum()\n",
    "# dfp_cases = dft_cases.groupby(COL_REGION)[dt_5day].sum()\n",
    "# dfp_deaths = dft_deaths.groupby(COL_REGION)[dt_5day].sum()\n",
    "dfp_cases = dft_cases.groupby(COL_REGION)[dt_yday].sum()\n",
    "dfp_deaths = dft_deaths.groupby(COL_REGION)[dt_yday].sum()"
   ]
  },
  {
   "cell_type": "code",
   "execution_count": 12,
   "metadata": {
    "execution": {
     "iopub.execute_input": "2020-12-28T00:18:56.818847Z",
     "iopub.status.busy": "2020-12-28T00:18:56.817808Z",
     "iopub.status.idle": "2020-12-28T00:18:56.822190Z",
     "shell.execute_reply": "2020-12-28T00:18:56.821476Z"
    },
    "papermill": {
     "duration": 0.041788,
     "end_time": "2020-12-28T00:18:56.822313",
     "exception": false,
     "start_time": "2020-12-28T00:18:56.780525",
     "status": "completed"
    },
    "tags": []
   },
   "outputs": [],
   "source": [
    "#hide\n",
    "df_table = (pd.DataFrame(dict(Cases = dfc_cases, Deaths = dfc_deaths, PCases = dfp_cases, PDeaths = dfp_deaths))\n",
    "            .sort_values(by = ['Cases','Deaths'], ascending = [False, False])\n",
    "            .reset_index())"
   ]
  },
  {
   "cell_type": "code",
   "execution_count": 13,
   "metadata": {
    "execution": {
     "iopub.execute_input": "2020-12-28T00:18:56.903675Z",
     "iopub.status.busy": "2020-12-28T00:18:56.890986Z",
     "iopub.status.idle": "2020-12-28T00:18:56.912435Z",
     "shell.execute_reply": "2020-12-28T00:18:56.913279Z"
    },
    "papermill": {
     "duration": 0.06223,
     "end_time": "2020-12-28T00:18:56.913526",
     "exception": false,
     "start_time": "2020-12-28T00:18:56.851296",
     "status": "completed"
    },
    "tags": []
   },
   "outputs": [
    {
     "data": {
      "text/html": [
       "<div>\n",
       "<style scoped>\n",
       "    .dataframe tbody tr th:only-of-type {\n",
       "        vertical-align: middle;\n",
       "    }\n",
       "\n",
       "    .dataframe tbody tr th {\n",
       "        vertical-align: top;\n",
       "    }\n",
       "\n",
       "    .dataframe thead th {\n",
       "        text-align: right;\n",
       "    }\n",
       "</style>\n",
       "<table border=\"1\" class=\"dataframe\">\n",
       "  <thead>\n",
       "    <tr style=\"text-align: right;\">\n",
       "      <th></th>\n",
       "      <th>Country/Region</th>\n",
       "      <th>Cases</th>\n",
       "      <th>Deaths</th>\n",
       "      <th>PCases</th>\n",
       "      <th>PDeaths</th>\n",
       "      <th>Cases (+)</th>\n",
       "      <th>Deaths (+)</th>\n",
       "      <th>Fatality Rate</th>\n",
       "      <th>Continent</th>\n",
       "    </tr>\n",
       "  </thead>\n",
       "  <tbody>\n",
       "    <tr>\n",
       "      <th>0</th>\n",
       "      <td>US</td>\n",
       "      <td>18982634</td>\n",
       "      <td>331909</td>\n",
       "      <td>18756360</td>\n",
       "      <td>330246</td>\n",
       "      <td>226274</td>\n",
       "      <td>1663</td>\n",
       "      <td>1.75</td>\n",
       "      <td>North America</td>\n",
       "    </tr>\n",
       "    <tr>\n",
       "      <th>1</th>\n",
       "      <td>India</td>\n",
       "      <td>10187850</td>\n",
       "      <td>147622</td>\n",
       "      <td>10169118</td>\n",
       "      <td>147343</td>\n",
       "      <td>18732</td>\n",
       "      <td>279</td>\n",
       "      <td>1.45</td>\n",
       "      <td>Asia</td>\n",
       "    </tr>\n",
       "    <tr>\n",
       "      <th>2</th>\n",
       "      <td>Brazil</td>\n",
       "      <td>7465806</td>\n",
       "      <td>190795</td>\n",
       "      <td>7448560</td>\n",
       "      <td>190488</td>\n",
       "      <td>17246</td>\n",
       "      <td>307</td>\n",
       "      <td>2.56</td>\n",
       "      <td>South America</td>\n",
       "    </tr>\n",
       "    <tr>\n",
       "      <th>3</th>\n",
       "      <td>Russia</td>\n",
       "      <td>2992123</td>\n",
       "      <td>53539</td>\n",
       "      <td>2963290</td>\n",
       "      <td>52985</td>\n",
       "      <td>28833</td>\n",
       "      <td>554</td>\n",
       "      <td>1.79</td>\n",
       "      <td>Europe</td>\n",
       "    </tr>\n",
       "    <tr>\n",
       "      <th>4</th>\n",
       "      <td>France</td>\n",
       "      <td>2607688</td>\n",
       "      <td>62694</td>\n",
       "      <td>2604595</td>\n",
       "      <td>62548</td>\n",
       "      <td>3093</td>\n",
       "      <td>146</td>\n",
       "      <td>2.40</td>\n",
       "      <td>Europe</td>\n",
       "    </tr>\n",
       "  </tbody>\n",
       "</table>\n",
       "</div>"
      ],
      "text/plain": [
       "  Country/Region     Cases  Deaths    PCases  PDeaths  Cases (+)  Deaths (+)  \\\n",
       "0             US  18982634  331909  18756360   330246     226274        1663   \n",
       "1          India  10187850  147622  10169118   147343      18732         279   \n",
       "2         Brazil   7465806  190795   7448560   190488      17246         307   \n",
       "3         Russia   2992123   53539   2963290    52985      28833         554   \n",
       "4         France   2607688   62694   2604595    62548       3093         146   \n",
       "\n",
       "   Fatality Rate      Continent  \n",
       "0           1.75  North America  \n",
       "1           1.45           Asia  \n",
       "2           2.56  South America  \n",
       "3           1.79         Europe  \n",
       "4           2.40         Europe  "
      ]
     },
     "execution_count": 13,
     "metadata": {},
     "output_type": "execute_result"
    }
   ],
   "source": [
    "#hide\n",
    "for c in 'Cases, Deaths'.split(', '):\n",
    "    df_table[f'{c} (+)'] = (df_table[c] - df_table[f'P{c}']).clip(0)\n",
    "    #Clip ça veut dire, les chiffres negatif sont interdit\n",
    "df_table['Fatality Rate'] = (100* df_table['Deaths']/ df_table['Cases']).round(2)\n",
    "df_table['Continent'] = df_table['Country/Region'].map(mapping['map.continent'])\n",
    "df_table.head(5)"
   ]
  },
  {
   "cell_type": "code",
   "execution_count": 14,
   "metadata": {
    "execution": {
     "iopub.execute_input": "2020-12-28T00:18:56.978694Z",
     "iopub.status.busy": "2020-12-28T00:18:56.978152Z",
     "iopub.status.idle": "2020-12-28T00:18:56.979829Z",
     "shell.execute_reply": "2020-12-28T00:18:56.980262Z"
    },
    "papermill": {
     "duration": 0.036508,
     "end_time": "2020-12-28T00:18:56.980414",
     "exception": false,
     "start_time": "2020-12-28T00:18:56.943906",
     "status": "completed"
    },
    "tags": []
   },
   "outputs": [],
   "source": [
    "#hide\n",
    "#delete problematic countries from table\n",
    "df_table = df_table[~df_table['Country/Region'].isin(['Cape Verde', 'Cruise Ship', 'Kosovo'])]"
   ]
  },
  {
   "cell_type": "code",
   "execution_count": 15,
   "metadata": {
    "execution": {
     "iopub.execute_input": "2020-12-28T00:18:57.049558Z",
     "iopub.status.busy": "2020-12-28T00:18:57.047256Z",
     "iopub.status.idle": "2020-12-28T00:18:57.067476Z",
     "shell.execute_reply": "2020-12-28T00:18:57.067009Z"
    },
    "papermill": {
     "duration": 0.057859,
     "end_time": "2020-12-28T00:18:57.067595",
     "exception": false,
     "start_time": "2020-12-28T00:18:57.009736",
     "status": "completed"
    },
    "tags": []
   },
   "outputs": [
    {
     "data": {
      "text/html": [
       "<div>\n",
       "<style scoped>\n",
       "    .dataframe tbody tr th:only-of-type {\n",
       "        vertical-align: middle;\n",
       "    }\n",
       "\n",
       "    .dataframe tbody tr th {\n",
       "        vertical-align: top;\n",
       "    }\n",
       "\n",
       "    .dataframe thead th {\n",
       "        text-align: right;\n",
       "    }\n",
       "</style>\n",
       "<table border=\"1\" class=\"dataframe\">\n",
       "  <thead>\n",
       "    <tr style=\"text-align: right;\">\n",
       "      <th></th>\n",
       "      <th>Country/Region</th>\n",
       "      <th>Cases</th>\n",
       "      <th>Deaths</th>\n",
       "      <th>PCases</th>\n",
       "      <th>PDeaths</th>\n",
       "      <th>Cases (+)</th>\n",
       "      <th>Deaths (+)</th>\n",
       "      <th>Fatality Rate</th>\n",
       "      <th>Continent</th>\n",
       "    </tr>\n",
       "  </thead>\n",
       "  <tbody>\n",
       "    <tr>\n",
       "      <th>0</th>\n",
       "      <td>US</td>\n",
       "      <td>18982634</td>\n",
       "      <td>331909</td>\n",
       "      <td>18756360</td>\n",
       "      <td>330246</td>\n",
       "      <td>226274</td>\n",
       "      <td>1663</td>\n",
       "      <td>1.7</td>\n",
       "      <td>North America</td>\n",
       "    </tr>\n",
       "    <tr>\n",
       "      <th>1</th>\n",
       "      <td>India</td>\n",
       "      <td>10187850</td>\n",
       "      <td>147622</td>\n",
       "      <td>10169118</td>\n",
       "      <td>147343</td>\n",
       "      <td>18732</td>\n",
       "      <td>279</td>\n",
       "      <td>1.4</td>\n",
       "      <td>Asia</td>\n",
       "    </tr>\n",
       "    <tr>\n",
       "      <th>2</th>\n",
       "      <td>Brazil</td>\n",
       "      <td>7465806</td>\n",
       "      <td>190795</td>\n",
       "      <td>7448560</td>\n",
       "      <td>190488</td>\n",
       "      <td>17246</td>\n",
       "      <td>307</td>\n",
       "      <td>2.6</td>\n",
       "      <td>South America</td>\n",
       "    </tr>\n",
       "    <tr>\n",
       "      <th>3</th>\n",
       "      <td>Russia</td>\n",
       "      <td>2992123</td>\n",
       "      <td>53539</td>\n",
       "      <td>2963290</td>\n",
       "      <td>52985</td>\n",
       "      <td>28833</td>\n",
       "      <td>554</td>\n",
       "      <td>1.8</td>\n",
       "      <td>Europe</td>\n",
       "    </tr>\n",
       "    <tr>\n",
       "      <th>4</th>\n",
       "      <td>France</td>\n",
       "      <td>2607688</td>\n",
       "      <td>62694</td>\n",
       "      <td>2604595</td>\n",
       "      <td>62548</td>\n",
       "      <td>3093</td>\n",
       "      <td>146</td>\n",
       "      <td>2.4</td>\n",
       "      <td>Europe</td>\n",
       "    </tr>\n",
       "  </tbody>\n",
       "</table>\n",
       "</div>"
      ],
      "text/plain": [
       "  Country/Region     Cases  Deaths    PCases  PDeaths  Cases (+)  Deaths (+)  \\\n",
       "0             US  18982634  331909  18756360   330246     226274        1663   \n",
       "1          India  10187850  147622  10169118   147343      18732         279   \n",
       "2         Brazil   7465806  190795   7448560   190488      17246         307   \n",
       "3         Russia   2992123   53539   2963290    52985      28833         554   \n",
       "4         France   2607688   62694   2604595    62548       3093         146   \n",
       "\n",
       "   Fatality Rate      Continent  \n",
       "0            1.7  North America  \n",
       "1            1.4           Asia  \n",
       "2            2.6  South America  \n",
       "3            1.8         Europe  \n",
       "4            2.4         Europe  "
      ]
     },
     "execution_count": 15,
     "metadata": {},
     "output_type": "execute_result"
    }
   ],
   "source": [
    "#hide\n",
    "df_table = (pd.DataFrame(dict(Cases=dfc_cases, Deaths=dfc_deaths, PCases=dfp_cases, PDeaths=dfp_deaths))\n",
    "             .sort_values(by=['Cases', 'Deaths'], ascending=[False, False])\n",
    "             .reset_index())\n",
    "df_table.rename(columns={'index': 'Country/Region'}, inplace=True)\n",
    "for c in 'Cases, Deaths'.split(', '):\n",
    "    df_table[f'{c} (+)'] = (df_table[c] - df_table[f'P{c}']).clip(0)  # DATA BUG\n",
    "df_table['Fatality Rate'] = (100 * df_table['Deaths'] / df_table['Cases']).round(1)\n",
    "df_table['Continent'] = df_table['Country/Region'].map(mapping['map.continent'])\n",
    "df_table.head(5)"
   ]
  },
  {
   "cell_type": "code",
   "execution_count": 16,
   "metadata": {
    "execution": {
     "iopub.execute_input": "2020-12-28T00:18:57.135935Z",
     "iopub.status.busy": "2020-12-28T00:18:57.134903Z",
     "iopub.status.idle": "2020-12-28T00:18:57.137070Z",
     "shell.execute_reply": "2020-12-28T00:18:57.137551Z"
    },
    "papermill": {
     "duration": 0.040134,
     "end_time": "2020-12-28T00:18:57.137692",
     "exception": false,
     "start_time": "2020-12-28T00:18:57.097558",
     "status": "completed"
    },
    "tags": []
   },
   "outputs": [],
   "source": [
    "#hide\n",
    "#delete problematic countries from table\n",
    "df_table = df_table[~df_table['Country/Region'].isin(['Cape Verde', 'Cruise Ship', 'Kosovo'])]"
   ]
  },
  {
   "cell_type": "code",
   "execution_count": 17,
   "metadata": {
    "execution": {
     "iopub.execute_input": "2020-12-28T00:18:57.218368Z",
     "iopub.status.busy": "2020-12-28T00:18:57.217749Z",
     "iopub.status.idle": "2020-12-28T00:18:57.220426Z",
     "shell.execute_reply": "2020-12-28T00:18:57.219819Z"
    },
    "papermill": {
     "duration": 0.05246,
     "end_time": "2020-12-28T00:18:57.220556",
     "exception": false,
     "start_time": "2020-12-28T00:18:57.168096",
     "status": "completed"
    },
    "tags": []
   },
   "outputs": [],
   "source": [
    "#hide\n",
    "metrics = [df_table.columns[index] for index in [1,2,5,6]]\n",
    "# s_china = df_table[df_table['Country/Region'].eq('China')][metrics].sum().add_prefix('China ')\n",
    "s_us = df_table[df_table['Country/Region'].eq('US')][metrics].sum().add_prefix('US ')\n",
    "s_eu = df_table[df_table['Continent'].eq('Europe')][metrics].sum().add_prefix('EU ')\n",
    "s_ind = df_table[df_table['Country/Region'].eq('India')][metrics].sum().add_prefix('India ')\n",
    "summary = {'updated': pd.to_datetime(dt_today), 'since': pd.to_datetime(dt_yday)}\n",
    "summary = {'updated': pd.to_datetime(dt_today), 'since': pd.to_datetime(dt_yday)}\n",
    "summary = {**summary, **df_table[metrics].sum(), **s_ind, **s_us, **s_eu}"
   ]
  },
  {
   "cell_type": "code",
   "execution_count": 18,
   "metadata": {
    "execution": {
     "iopub.execute_input": "2020-12-28T00:18:57.286605Z",
     "iopub.status.busy": "2020-12-28T00:18:57.286004Z",
     "iopub.status.idle": "2020-12-28T00:18:57.299875Z",
     "shell.execute_reply": "2020-12-28T00:18:57.300374Z"
    },
    "papermill": {
     "duration": 0.05016,
     "end_time": "2020-12-28T00:18:57.300538",
     "exception": false,
     "start_time": "2020-12-28T00:18:57.250378",
     "status": "completed"
    },
    "tags": []
   },
   "outputs": [],
   "source": [
    "#hide\n",
    "dft_ct_new_cases = dft_cases.groupby(COL_REGION)[dt_cols].sum().diff(axis=1).fillna(0).astype(int)"
   ]
  },
  {
   "cell_type": "code",
   "execution_count": 19,
   "metadata": {
    "execution": {
     "iopub.execute_input": "2020-12-28T00:18:57.367886Z",
     "iopub.status.busy": "2020-12-28T00:18:57.367303Z",
     "iopub.status.idle": "2020-12-28T00:18:57.369648Z",
     "shell.execute_reply": "2020-12-28T00:18:57.370162Z"
    },
    "papermill": {
     "duration": 0.040521,
     "end_time": "2020-12-28T00:18:57.370296",
     "exception": false,
     "start_time": "2020-12-28T00:18:57.329775",
     "status": "completed"
    },
    "tags": []
   },
   "outputs": [],
   "source": [
    "#hide\n",
    "everydaycases = dft_ct_new_cases.cumsum(axis=1)"
   ]
  },
  {
   "cell_type": "code",
   "execution_count": 20,
   "metadata": {
    "execution": {
     "iopub.execute_input": "2020-12-28T00:18:57.435558Z",
     "iopub.status.busy": "2020-12-28T00:18:57.434981Z",
     "iopub.status.idle": "2020-12-28T00:18:59.796656Z",
     "shell.execute_reply": "2020-12-28T00:18:59.796060Z"
    },
    "papermill": {
     "duration": 2.396047,
     "end_time": "2020-12-28T00:18:59.796796",
     "exception": false,
     "start_time": "2020-12-28T00:18:57.400749",
     "status": "completed"
    },
    "tags": []
   },
   "outputs": [],
   "source": [
    "#hide\n",
    "import pandas as pd\n",
    "import matplotlib.pyplot as plt\n",
    "import matplotlib.ticker as ticker\n",
    "import matplotlib.animation as animation\n",
    "from IPython.display import HTML"
   ]
  },
  {
   "cell_type": "code",
   "execution_count": 21,
   "metadata": {
    "execution": {
     "iopub.execute_input": "2020-12-28T00:18:59.863033Z",
     "iopub.status.busy": "2020-12-28T00:18:59.862432Z",
     "iopub.status.idle": "2020-12-28T00:18:59.867331Z",
     "shell.execute_reply": "2020-12-28T00:18:59.866869Z"
    },
    "papermill": {
     "duration": 0.039838,
     "end_time": "2020-12-28T00:18:59.867465",
     "exception": false,
     "start_time": "2020-12-28T00:18:59.827627",
     "status": "completed"
    },
    "tags": []
   },
   "outputs": [],
   "source": [
    "#hide\n",
    "t = everydaycases.stack()"
   ]
  },
  {
   "cell_type": "code",
   "execution_count": 22,
   "metadata": {
    "execution": {
     "iopub.execute_input": "2020-12-28T00:18:59.933977Z",
     "iopub.status.busy": "2020-12-28T00:18:59.933389Z",
     "iopub.status.idle": "2020-12-28T00:18:59.940556Z",
     "shell.execute_reply": "2020-12-28T00:18:59.940032Z"
    },
    "papermill": {
     "duration": 0.043234,
     "end_time": "2020-12-28T00:18:59.940686",
     "exception": false,
     "start_time": "2020-12-28T00:18:59.897452",
     "status": "completed"
    },
    "tags": []
   },
   "outputs": [],
   "source": [
    "#hide\n",
    "g = t.reset_index(['Country/Region'])"
   ]
  },
  {
   "cell_type": "code",
   "execution_count": 23,
   "metadata": {
    "execution": {
     "iopub.execute_input": "2020-12-28T00:19:00.007711Z",
     "iopub.status.busy": "2020-12-28T00:19:00.007094Z",
     "iopub.status.idle": "2020-12-28T00:19:00.009651Z",
     "shell.execute_reply": "2020-12-28T00:19:00.009171Z"
    },
    "papermill": {
     "duration": 0.039164,
     "end_time": "2020-12-28T00:19:00.009785",
     "exception": false,
     "start_time": "2020-12-28T00:18:59.970621",
     "status": "completed"
    },
    "tags": []
   },
   "outputs": [],
   "source": [
    "#hide\n",
    "g.index.name = 'date'"
   ]
  },
  {
   "cell_type": "code",
   "execution_count": 24,
   "metadata": {
    "execution": {
     "iopub.execute_input": "2020-12-28T00:19:00.386109Z",
     "iopub.status.busy": "2020-12-28T00:19:00.385065Z",
     "iopub.status.idle": "2020-12-28T00:19:00.389248Z",
     "shell.execute_reply": "2020-12-28T00:19:00.388751Z"
    },
    "papermill": {
     "duration": 0.348285,
     "end_time": "2020-12-28T00:19:00.389381",
     "exception": false,
     "start_time": "2020-12-28T00:19:00.041096",
     "status": "completed"
    },
    "tags": []
   },
   "outputs": [],
   "source": [
    "# #hide\n",
    "# g = g.reset_index(['date'])"
   ]
  },
  {
   "cell_type": "code",
   "execution_count": 25,
   "metadata": {
    "execution": {
     "iopub.execute_input": "2020-12-28T00:19:00.474628Z",
     "iopub.status.busy": "2020-12-28T00:19:00.474033Z",
     "iopub.status.idle": "2020-12-28T00:19:00.476239Z",
     "shell.execute_reply": "2020-12-28T00:19:00.475662Z"
    },
    "papermill": {
     "duration": 0.052418,
     "end_time": "2020-12-28T00:19:00.476385",
     "exception": false,
     "start_time": "2020-12-28T00:19:00.423967",
     "status": "completed"
    },
    "tags": []
   },
   "outputs": [],
   "source": [
    "#hide\n",
    "# g.head()"
   ]
  },
  {
   "cell_type": "code",
   "execution_count": 26,
   "metadata": {
    "execution": {
     "iopub.execute_input": "2020-12-28T00:19:00.541154Z",
     "iopub.status.busy": "2020-12-28T00:19:00.540531Z",
     "iopub.status.idle": "2020-12-28T00:19:00.542984Z",
     "shell.execute_reply": "2020-12-28T00:19:00.542531Z"
    },
    "papermill": {
     "duration": 0.03665,
     "end_time": "2020-12-28T00:19:00.543099",
     "exception": false,
     "start_time": "2020-12-28T00:19:00.506449",
     "status": "completed"
    },
    "tags": []
   },
   "outputs": [],
   "source": [
    "#hide\n",
    "# g.columns = ['date','country','cases']"
   ]
  },
  {
   "cell_type": "code",
   "execution_count": 27,
   "metadata": {
    "execution": {
     "iopub.execute_input": "2020-12-28T00:19:00.607181Z",
     "iopub.status.busy": "2020-12-28T00:19:00.606602Z",
     "iopub.status.idle": "2020-12-28T00:19:00.608890Z",
     "shell.execute_reply": "2020-12-28T00:19:00.608387Z"
    },
    "papermill": {
     "duration": 0.036103,
     "end_time": "2020-12-28T00:19:00.609014",
     "exception": false,
     "start_time": "2020-12-28T00:19:00.572911",
     "status": "completed"
    },
    "tags": []
   },
   "outputs": [],
   "source": [
    "#hide\n",
    "# g['continent'] = g.country"
   ]
  },
  {
   "cell_type": "code",
   "execution_count": 28,
   "metadata": {
    "execution": {
     "iopub.execute_input": "2020-12-28T00:19:00.674078Z",
     "iopub.status.busy": "2020-12-28T00:19:00.673491Z",
     "iopub.status.idle": "2020-12-28T00:19:00.676177Z",
     "shell.execute_reply": "2020-12-28T00:19:00.675718Z"
    },
    "papermill": {
     "duration": 0.036912,
     "end_time": "2020-12-28T00:19:00.676294",
     "exception": false,
     "start_time": "2020-12-28T00:19:00.639382",
     "status": "completed"
    },
    "tags": []
   },
   "outputs": [],
   "source": [
    "#hide\n",
    "# cols = list(g.columns.values)"
   ]
  },
  {
   "cell_type": "code",
   "execution_count": 29,
   "metadata": {
    "execution": {
     "iopub.execute_input": "2020-12-28T00:19:00.741094Z",
     "iopub.status.busy": "2020-12-28T00:19:00.740489Z",
     "iopub.status.idle": "2020-12-28T00:19:00.742670Z",
     "shell.execute_reply": "2020-12-28T00:19:00.742199Z"
    },
    "papermill": {
     "duration": 0.03597,
     "end_time": "2020-12-28T00:19:00.742785",
     "exception": false,
     "start_time": "2020-12-28T00:19:00.706815",
     "status": "completed"
    },
    "tags": []
   },
   "outputs": [],
   "source": [
    "#hide\n",
    "# cols.insert(0, cols.pop())"
   ]
  },
  {
   "cell_type": "code",
   "execution_count": 30,
   "metadata": {
    "execution": {
     "iopub.execute_input": "2020-12-28T00:19:00.807046Z",
     "iopub.status.busy": "2020-12-28T00:19:00.806470Z",
     "iopub.status.idle": "2020-12-28T00:19:00.808758Z",
     "shell.execute_reply": "2020-12-28T00:19:00.808240Z"
    },
    "papermill": {
     "duration": 0.035837,
     "end_time": "2020-12-28T00:19:00.808883",
     "exception": false,
     "start_time": "2020-12-28T00:19:00.773046",
     "status": "completed"
    },
    "tags": []
   },
   "outputs": [],
   "source": [
    "#hide\n",
    "# g = g[cols]"
   ]
  },
  {
   "cell_type": "code",
   "execution_count": 31,
   "metadata": {
    "execution": {
     "iopub.execute_input": "2020-12-28T00:19:00.871739Z",
     "iopub.status.busy": "2020-12-28T00:19:00.871203Z",
     "iopub.status.idle": "2020-12-28T00:19:00.873483Z",
     "shell.execute_reply": "2020-12-28T00:19:00.872912Z"
    },
    "papermill": {
     "duration": 0.034779,
     "end_time": "2020-12-28T00:19:00.873615",
     "exception": false,
     "start_time": "2020-12-28T00:19:00.838836",
     "status": "completed"
    },
    "tags": []
   },
   "outputs": [],
   "source": [
    "#hide\n",
    "# g['continent'] = g['continent'].map(mapping['map.continent'])"
   ]
  },
  {
   "cell_type": "code",
   "execution_count": 32,
   "metadata": {
    "execution": {
     "iopub.execute_input": "2020-12-28T00:19:00.936565Z",
     "iopub.status.busy": "2020-12-28T00:19:00.935980Z",
     "iopub.status.idle": "2020-12-28T00:19:00.938643Z",
     "shell.execute_reply": "2020-12-28T00:19:00.939082Z"
    },
    "papermill": {
     "duration": 0.036254,
     "end_time": "2020-12-28T00:19:00.939221",
     "exception": false,
     "start_time": "2020-12-28T00:19:00.902967",
     "status": "completed"
    },
    "tags": []
   },
   "outputs": [],
   "source": [
    "#hide\n",
    "# g.head()"
   ]
  },
  {
   "cell_type": "code",
   "execution_count": 33,
   "metadata": {
    "execution": {
     "iopub.execute_input": "2020-12-28T00:19:01.001378Z",
     "iopub.status.busy": "2020-12-28T00:19:01.000793Z",
     "iopub.status.idle": "2020-12-28T00:19:01.003511Z",
     "shell.execute_reply": "2020-12-28T00:19:01.003979Z"
    },
    "papermill": {
     "duration": 0.036642,
     "end_time": "2020-12-28T00:19:01.004118",
     "exception": false,
     "start_time": "2020-12-28T00:19:00.967476",
     "status": "completed"
    },
    "tags": []
   },
   "outputs": [],
   "source": [
    "# hide\n",
    "# g['date'] = g['date'].astype('datetime64[ns]')"
   ]
  },
  {
   "cell_type": "code",
   "execution_count": 34,
   "metadata": {
    "execution": {
     "iopub.execute_input": "2020-12-28T00:19:01.070067Z",
     "iopub.status.busy": "2020-12-28T00:19:01.069334Z",
     "iopub.status.idle": "2020-12-28T00:19:01.070581Z",
     "shell.execute_reply": "2020-12-28T00:19:01.071134Z"
    },
    "papermill": {
     "duration": 0.036084,
     "end_time": "2020-12-28T00:19:01.071278",
     "exception": false,
     "start_time": "2020-12-28T00:19:01.035194",
     "status": "completed"
    },
    "tags": []
   },
   "outputs": [],
   "source": [
    "#hide\n",
    "# g['date'] = g.date.dt.dayofyear"
   ]
  },
  {
   "cell_type": "code",
   "execution_count": 35,
   "metadata": {
    "execution": {
     "iopub.execute_input": "2020-12-28T00:19:01.138799Z",
     "iopub.status.busy": "2020-12-28T00:19:01.137776Z",
     "iopub.status.idle": "2020-12-28T00:19:01.139877Z",
     "shell.execute_reply": "2020-12-28T00:19:01.140581Z"
    },
    "papermill": {
     "duration": 0.038003,
     "end_time": "2020-12-28T00:19:01.140732",
     "exception": false,
     "start_time": "2020-12-28T00:19:01.102729",
     "status": "completed"
    },
    "tags": []
   },
   "outputs": [],
   "source": [
    "#hide\n",
    "# g = g.rename(columns= {'continent':'group','country':'name','cases':'value'})"
   ]
  },
  {
   "cell_type": "code",
   "execution_count": 36,
   "metadata": {
    "execution": {
     "iopub.execute_input": "2020-12-28T00:19:01.204753Z",
     "iopub.status.busy": "2020-12-28T00:19:01.204127Z",
     "iopub.status.idle": "2020-12-28T00:19:01.205937Z",
     "shell.execute_reply": "2020-12-28T00:19:01.206399Z"
    },
    "papermill": {
     "duration": 0.036137,
     "end_time": "2020-12-28T00:19:01.206537",
     "exception": false,
     "start_time": "2020-12-28T00:19:01.170400",
     "status": "completed"
    },
    "tags": []
   },
   "outputs": [],
   "source": [
    "#hide\n",
    "# cols = ['name','group','day','value']"
   ]
  },
  {
   "cell_type": "code",
   "execution_count": 37,
   "metadata": {
    "execution": {
     "iopub.execute_input": "2020-12-28T00:19:01.271484Z",
     "iopub.status.busy": "2020-12-28T00:19:01.270896Z",
     "iopub.status.idle": "2020-12-28T00:19:01.273080Z",
     "shell.execute_reply": "2020-12-28T00:19:01.272584Z"
    },
    "papermill": {
     "duration": 0.036367,
     "end_time": "2020-12-28T00:19:01.273205",
     "exception": false,
     "start_time": "2020-12-28T00:19:01.236838",
     "status": "completed"
    },
    "tags": []
   },
   "outputs": [],
   "source": [
    "#hide\n",
    "# g.rename(columns= {'date':'day'},inplace = True)"
   ]
  },
  {
   "cell_type": "code",
   "execution_count": 38,
   "metadata": {
    "execution": {
     "iopub.execute_input": "2020-12-28T00:19:01.338071Z",
     "iopub.status.busy": "2020-12-28T00:19:01.337469Z",
     "iopub.status.idle": "2020-12-28T00:19:01.339851Z",
     "shell.execute_reply": "2020-12-28T00:19:01.340432Z"
    },
    "papermill": {
     "duration": 0.036628,
     "end_time": "2020-12-28T00:19:01.340582",
     "exception": false,
     "start_time": "2020-12-28T00:19:01.303954",
     "status": "completed"
    },
    "tags": []
   },
   "outputs": [],
   "source": [
    "#hide\n",
    "# g = g[cols]"
   ]
  },
  {
   "cell_type": "code",
   "execution_count": 39,
   "metadata": {
    "execution": {
     "iopub.execute_input": "2020-12-28T00:19:01.406012Z",
     "iopub.status.busy": "2020-12-28T00:19:01.405410Z",
     "iopub.status.idle": "2020-12-28T00:19:01.407748Z",
     "shell.execute_reply": "2020-12-28T00:19:01.407271Z"
    },
    "papermill": {
     "duration": 0.036815,
     "end_time": "2020-12-28T00:19:01.407877",
     "exception": false,
     "start_time": "2020-12-28T00:19:01.371062",
     "status": "completed"
    },
    "tags": []
   },
   "outputs": [],
   "source": [
    "# #hide\n",
    "# g = g[g.group.notna()]"
   ]
  },
  {
   "cell_type": "code",
   "execution_count": 40,
   "metadata": {
    "execution": {
     "iopub.execute_input": "2020-12-28T00:19:01.475119Z",
     "iopub.status.busy": "2020-12-28T00:19:01.474512Z",
     "iopub.status.idle": "2020-12-28T00:19:01.477300Z",
     "shell.execute_reply": "2020-12-28T00:19:01.477872Z"
    },
    "papermill": {
     "duration": 0.038782,
     "end_time": "2020-12-28T00:19:01.478016",
     "exception": false,
     "start_time": "2020-12-28T00:19:01.439234",
     "status": "completed"
    },
    "tags": []
   },
   "outputs": [],
   "source": [
    "# #hide\n",
    "# colors = dict(zip(\n",
    "#     [\"Oceania\", \"Europe\", \"Asia\", \"South America\", \"Middle East\", \"North America\", \"Africa\"],\n",
    "#     [\"#adb0ff\", \"#ffb3ff\", \"#90d595\", \"#e48381\", \"#aafbff\", \"#f7bb5f\", \"#eafb50\"]\n",
    "# ))\n",
    "# group_lk = g.set_index('name')['group'].to_dict()"
   ]
  },
  {
   "cell_type": "code",
   "execution_count": null,
   "metadata": {
    "papermill": {
     "duration": 0.030282,
     "end_time": "2020-12-28T00:19:01.538785",
     "exception": false,
     "start_time": "2020-12-28T00:19:01.508503",
     "status": "completed"
    },
    "tags": []
   },
   "outputs": [],
   "source": []
  },
  {
   "cell_type": "code",
   "execution_count": 41,
   "metadata": {
    "execution": {
     "iopub.execute_input": "2020-12-28T00:19:01.605472Z",
     "iopub.status.busy": "2020-12-28T00:19:01.604895Z",
     "iopub.status.idle": "2020-12-28T00:19:01.607135Z",
     "shell.execute_reply": "2020-12-28T00:19:01.607692Z"
    },
    "papermill": {
     "duration": 0.038928,
     "end_time": "2020-12-28T00:19:01.607834",
     "exception": false,
     "start_time": "2020-12-28T00:19:01.568906",
     "status": "completed"
    },
    "tags": []
   },
   "outputs": [],
   "source": [
    "# #hide\n",
    "# fig, ax = plt.subplots(figsize=(15, 8))\n",
    "\n",
    "# def draw_barchart(current_day):\n",
    "#     dff = g[g['day'].eq(current_day)].sort_values(by='value', ascending=True).tail(10)\n",
    "#     ax.clear()\n",
    "#     ax.barh(dff['name'], dff['value'], color=[colors[group_lk[x]] for x in dff['name']])\n",
    "#     dx = dff['value'].max() / 200\n",
    "    \n",
    "#     for i, (value, name) in enumerate(zip(dff['value'], dff['name'])):\n",
    "#         ax.text(value-dx, i,     name,           size=14, weight=600, ha='right', va='bottom')\n",
    "#         ax.text(value-dx, i-.25, group_lk[name], size=10, color='#444444', ha='right', va='baseline')\n",
    "#         ax.text(value+dx, i,     f'{value:,.0f}',  size=14, ha='left',  va='center')\n",
    "#     ax.text(1, 0.4, current_day, transform=ax.transAxes, color='#777777', size=46, ha='right', weight=800)\n",
    "#     ax.text(0, 1.06, 'Population (thousands)', transform=ax.transAxes, size=12, color='#777777')\n",
    "#     ax.xaxis.set_major_formatter(ticker.StrMethodFormatter('{x:,.0f}'))\n",
    "#     ax.xaxis.set_ticks_position('top')\n",
    "#     ax.tick_params(axis='x', colors='#777777', labelsize=12)\n",
    "#     ax.set_yticks([])\n",
    "#     ax.margins(0, 0.01)\n",
    "#     ax.grid(which='major', axis='x', linestyle='-')\n",
    "#     ax.set_axisbelow(True)\n",
    "    \n",
    "#     ax.text(0, 1.15, 'Coronavirus',\n",
    "#             transform=ax.transAxes, size=24, weight=600, ha='left', va='top')\n",
    "# #     ax.text(1, 0, 'by @pratapvardhan; credit @jburnmurdoch', transform=ax.transAxes, color='#777777', ha='right',\n",
    "# #             bbox=dict(facecolor='white', alpha=0.8, edgecolor='white'))\n",
    "#     plt.box(False)"
   ]
  },
  {
   "cell_type": "code",
   "execution_count": 42,
   "metadata": {
    "execution": {
     "iopub.execute_input": "2020-12-28T00:19:01.673662Z",
     "iopub.status.busy": "2020-12-28T00:19:01.673065Z",
     "iopub.status.idle": "2020-12-28T00:19:01.674861Z",
     "shell.execute_reply": "2020-12-28T00:19:01.675331Z"
    },
    "papermill": {
     "duration": 0.036982,
     "end_time": "2020-12-28T00:19:01.675477",
     "exception": false,
     "start_time": "2020-12-28T00:19:01.638495",
     "status": "completed"
    },
    "tags": []
   },
   "outputs": [],
   "source": [
    "# #hide_input\n",
    "# fig, ax = plt.subplots(figsize=(15, 8))\n",
    "# animator = animation.FuncAnimation(fig, draw_barchart, frames=range(g.day.values.min(), g.day.values.max()))\n",
    "# HTML(animator.to_jshtml())\n",
    "# # or use animator.to_html5_video() or animator.save() "
   ]
  },
  {
   "cell_type": "code",
   "execution_count": null,
   "metadata": {
    "papermill": {
     "duration": 0.029062,
     "end_time": "2020-12-28T00:19:01.734504",
     "exception": false,
     "start_time": "2020-12-28T00:19:01.705442",
     "status": "completed"
    },
    "tags": []
   },
   "outputs": [],
   "source": []
  },
  {
   "cell_type": "code",
   "execution_count": null,
   "metadata": {
    "papermill": {
     "duration": 0.029511,
     "end_time": "2020-12-28T00:19:01.792287",
     "exception": false,
     "start_time": "2020-12-28T00:19:01.762776",
     "status": "completed"
    },
    "tags": []
   },
   "outputs": [],
   "source": []
  },
  {
   "cell_type": "code",
   "execution_count": null,
   "metadata": {
    "papermill": {
     "duration": 0.029536,
     "end_time": "2020-12-28T00:19:01.851385",
     "exception": false,
     "start_time": "2020-12-28T00:19:01.821849",
     "status": "completed"
    },
    "tags": []
   },
   "outputs": [],
   "source": []
  }
 ],
 "metadata": {
  "kernelspec": {
   "display_name": "Python 3",
   "language": "python",
   "name": "python3"
  },
  "language_info": {
   "codemirror_mode": {
    "name": "ipython",
    "version": 3
   },
   "file_extension": ".py",
   "mimetype": "text/x-python",
   "name": "python",
   "nbconvert_exporter": "python",
   "pygments_lexer": "ipython3",
   "version": "3.6.12"
  },
  "papermill": {
   "duration": 8.106539,
   "end_time": "2020-12-28T00:19:02.188260",
   "environment_variables": {},
   "exception": null,
   "input_path": "2020-03-21-covid19exp.ipynb",
   "output_path": "2020-03-21-covid19exp.ipynb",
   "parameters": {},
   "start_time": "2020-12-28T00:18:54.081721",
   "version": "2.0.0"
  }
 },
 "nbformat": 4,
 "nbformat_minor": 4
}