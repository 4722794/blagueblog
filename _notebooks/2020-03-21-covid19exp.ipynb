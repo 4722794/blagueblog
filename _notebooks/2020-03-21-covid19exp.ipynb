{
 "cells": [
  {
   "cell_type": "markdown",
   "id": "muslim-click",
   "metadata": {
    "papermill": {
     "duration": 0.03837,
     "end_time": "2021-06-07T00:38:14.076955",
     "exception": false,
     "start_time": "2021-06-07T00:38:14.038585",
     "status": "completed"
    },
    "tags": []
   },
   "source": [
    "# COVID-19 Case Race\n",
    "> A race chart to see rising cases around the world\n",
    "\n",
    "- author: Hargun Oberoi\n",
    "- image: images/covid-overview.png\n",
    "- hide: false\n",
    "- badges: false"
   ]
  },
  {
   "cell_type": "code",
   "execution_count": 1,
   "id": "proof-material",
   "metadata": {
    "execution": {
     "iopub.execute_input": "2021-06-07T00:38:14.158711Z",
     "iopub.status.busy": "2021-06-07T00:38:14.158097Z",
     "iopub.status.idle": "2021-06-07T00:38:14.540670Z",
     "shell.execute_reply": "2021-06-07T00:38:14.539750Z"
    },
    "papermill": {
     "duration": 0.428624,
     "end_time": "2021-06-07T00:38:14.540910",
     "exception": false,
     "start_time": "2021-06-07T00:38:14.112286",
     "status": "completed"
    },
    "tags": []
   },
   "outputs": [],
   "source": [
    "#hide\n",
    "import numpy as np\n",
    "import pandas as pd\n",
    "from jinja2 import Template\n",
    "from IPython.display import HTML"
   ]
  },
  {
   "cell_type": "code",
   "execution_count": 2,
   "id": "developed-terminology",
   "metadata": {
    "execution": {
     "iopub.execute_input": "2021-06-07T00:38:14.617285Z",
     "iopub.status.busy": "2021-06-07T00:38:14.616631Z",
     "iopub.status.idle": "2021-06-07T00:38:14.618975Z",
     "shell.execute_reply": "2021-06-07T00:38:14.618466Z"
    },
    "papermill": {
     "duration": 0.041448,
     "end_time": "2021-06-07T00:38:14.619107",
     "exception": false,
     "start_time": "2021-06-07T00:38:14.577659",
     "status": "completed"
    },
    "tags": []
   },
   "outputs": [],
   "source": [
    "#hide\n",
    "\n",
    "# FETCH\n",
    "base_url = 'https://raw.githubusercontent.com/pratapvardhan/notebooks/master/covid19/'\n",
    "paths = {\n",
    "    'mapping': base_url + 'mapping_countries.csv',\n",
    "    'overview': base_url + 'overview.tpl'\n",
    "}"
   ]
  },
  {
   "cell_type": "code",
   "execution_count": 3,
   "id": "dynamic-saver",
   "metadata": {
    "execution": {
     "iopub.execute_input": "2021-06-07T00:38:14.698656Z",
     "iopub.status.busy": "2021-06-07T00:38:14.698023Z",
     "iopub.status.idle": "2021-06-07T00:38:14.701023Z",
     "shell.execute_reply": "2021-06-07T00:38:14.701466Z"
    },
    "papermill": {
     "duration": 0.048463,
     "end_time": "2021-06-07T00:38:14.701618",
     "exception": false,
     "start_time": "2021-06-07T00:38:14.653155",
     "status": "completed"
    },
    "tags": []
   },
   "outputs": [
    {
     "data": {
      "text/plain": [
       "'https://raw.githubusercontent.com/pratapvardhan/notebooks/master/covid19/mapping_countries.csv'"
      ]
     },
     "execution_count": 3,
     "metadata": {},
     "output_type": "execute_result"
    }
   ],
   "source": [
    "#hide\n",
    "paths['mapping']"
   ]
  },
  {
   "cell_type": "code",
   "execution_count": 4,
   "id": "urban-software",
   "metadata": {
    "execution": {
     "iopub.execute_input": "2021-06-07T00:38:14.776450Z",
     "iopub.status.busy": "2021-06-07T00:38:14.775843Z",
     "iopub.status.idle": "2021-06-07T00:38:14.778286Z",
     "shell.execute_reply": "2021-06-07T00:38:14.777779Z"
    },
    "papermill": {
     "duration": 0.042492,
     "end_time": "2021-06-07T00:38:14.778408",
     "exception": false,
     "start_time": "2021-06-07T00:38:14.735916",
     "status": "completed"
    },
    "tags": []
   },
   "outputs": [],
   "source": [
    "#hide\n",
    "def get_mappings(url):\n",
    "    df = pd.read_csv(url)\n",
    "    return {\n",
    "        'df': df,\n",
    "        'replace.country': dict(df.dropna(subset=['Name']).set_index('Country')['Name']),\n",
    "        'map.continent': dict(df.set_index('Name')['Continent'])\n",
    "    }"
   ]
  },
  {
   "cell_type": "code",
   "execution_count": 5,
   "id": "intimate-machinery",
   "metadata": {
    "execution": {
     "iopub.execute_input": "2021-06-07T00:38:14.853661Z",
     "iopub.status.busy": "2021-06-07T00:38:14.853045Z",
     "iopub.status.idle": "2021-06-07T00:38:14.912055Z",
     "shell.execute_reply": "2021-06-07T00:38:14.911368Z"
    },
    "papermill": {
     "duration": 0.099536,
     "end_time": "2021-06-07T00:38:14.912197",
     "exception": false,
     "start_time": "2021-06-07T00:38:14.812661",
     "status": "completed"
    },
    "tags": []
   },
   "outputs": [],
   "source": [
    "#hide\n",
    "mapping = get_mappings(paths['mapping'])"
   ]
  },
  {
   "cell_type": "code",
   "execution_count": 6,
   "id": "certified-tactics",
   "metadata": {
    "execution": {
     "iopub.execute_input": "2021-06-07T00:38:14.986756Z",
     "iopub.status.busy": "2021-06-07T00:38:14.986145Z",
     "iopub.status.idle": "2021-06-07T00:38:14.987941Z",
     "shell.execute_reply": "2021-06-07T00:38:14.988424Z"
    },
    "papermill": {
     "duration": 0.041738,
     "end_time": "2021-06-07T00:38:14.988569",
     "exception": false,
     "start_time": "2021-06-07T00:38:14.946831",
     "status": "completed"
    },
    "tags": []
   },
   "outputs": [],
   "source": [
    "#hide\n",
    "def get_template(path):\n",
    "    from urllib.parse import urlparse\n",
    "    if bool(urlparse(path).netloc):\n",
    "        from urllib.request import urlopen\n",
    "        return urlopen(path).read().decode('utf8')\n",
    "    return open(path).read()"
   ]
  },
  {
   "cell_type": "code",
   "execution_count": 7,
   "id": "realistic-blast",
   "metadata": {
    "execution": {
     "iopub.execute_input": "2021-06-07T00:38:15.064497Z",
     "iopub.status.busy": "2021-06-07T00:38:15.063864Z",
     "iopub.status.idle": "2021-06-07T00:38:15.065969Z",
     "shell.execute_reply": "2021-06-07T00:38:15.066414Z"
    },
    "papermill": {
     "duration": 0.043726,
     "end_time": "2021-06-07T00:38:15.066567",
     "exception": false,
     "start_time": "2021-06-07T00:38:15.022841",
     "status": "completed"
    },
    "tags": []
   },
   "outputs": [],
   "source": [
    "#hide\n",
    "def get_frame(name):\n",
    "    url = (\n",
    "        'https://raw.githubusercontent.com/CSSEGISandData/COVID-19/master/csse_covid_19_data/'\n",
    "        f'csse_covid_19_time_series/time_series_covid19_{name}_global.csv')\n",
    "    df = pd.read_csv(url)\n",
    "    # rename countries\n",
    "    df['Country/Region'] = df['Country/Region'].replace(mapping['replace.country'])\n",
    "    return df"
   ]
  },
  {
   "cell_type": "code",
   "execution_count": 8,
   "id": "affiliated-characterization",
   "metadata": {
    "execution": {
     "iopub.execute_input": "2021-06-07T00:38:15.145913Z",
     "iopub.status.busy": "2021-06-07T00:38:15.145106Z",
     "iopub.status.idle": "2021-06-07T00:38:15.146545Z",
     "shell.execute_reply": "2021-06-07T00:38:15.147012Z"
    },
    "papermill": {
     "duration": 0.045621,
     "end_time": "2021-06-07T00:38:15.147159",
     "exception": false,
     "start_time": "2021-06-07T00:38:15.101538",
     "status": "completed"
    },
    "tags": []
   },
   "outputs": [],
   "source": [
    "#hide\n",
    "def get_dates(df):\n",
    "    dt_cols = df.columns[~df.columns.isin(['Province/State', 'Country/Region', 'Lat', 'Long'])]\n",
    "    LAST_DATE_I = -1\n",
    "    # sometimes last column may be empty, then go backwards\n",
    "    for i in range(-1, -len(dt_cols), -1):\n",
    "        if not df[dt_cols[i]].fillna(0).eq(0).all():\n",
    "            LAST_DATE_I = i\n",
    "            break\n",
    "    return LAST_DATE_I, dt_cols"
   ]
  },
  {
   "cell_type": "code",
   "execution_count": 9,
   "id": "recent-optimization",
   "metadata": {
    "execution": {
     "iopub.execute_input": "2021-06-07T00:38:15.221847Z",
     "iopub.status.busy": "2021-06-07T00:38:15.221228Z",
     "iopub.status.idle": "2021-06-07T00:38:15.579528Z",
     "shell.execute_reply": "2021-06-07T00:38:15.578970Z"
    },
    "papermill": {
     "duration": 0.398235,
     "end_time": "2021-06-07T00:38:15.579659",
     "exception": false,
     "start_time": "2021-06-07T00:38:15.181424",
     "status": "completed"
    },
    "tags": []
   },
   "outputs": [],
   "source": [
    "#hide\n",
    "COL_REGION = 'Country/Region'\n",
    "# Confirmed, Recovered, Deaths\n",
    "df = get_frame('confirmed')\n",
    "# dft_: timeseries, dfc_: today country agg\n",
    "dft_cases = df\n",
    "dft_deaths = get_frame('deaths')\n",
    "dft_recovered = get_frame('recovered')\n",
    "LAST_DATE_I, dt_cols = get_dates(df)"
   ]
  },
  {
   "cell_type": "code",
   "execution_count": 10,
   "id": "absolute-copper",
   "metadata": {
    "execution": {
     "iopub.execute_input": "2021-06-07T00:38:15.653869Z",
     "iopub.status.busy": "2021-06-07T00:38:15.653280Z",
     "iopub.status.idle": "2021-06-07T00:38:15.655561Z",
     "shell.execute_reply": "2021-06-07T00:38:15.655047Z"
    },
    "papermill": {
     "duration": 0.041695,
     "end_time": "2021-06-07T00:38:15.655684",
     "exception": false,
     "start_time": "2021-06-07T00:38:15.613989",
     "status": "completed"
    },
    "tags": []
   },
   "outputs": [],
   "source": [
    "#hide\n",
    "LAST_DATE_I, dt_cols = get_dates(df)\n",
    "dt_today =dt_cols[LAST_DATE_I]\n",
    "# dt_5day = dt_cols[LAST_DATE_I - 5]\n",
    "dt_yday = dt_cols[LAST_DATE_I - 1]"
   ]
  },
  {
   "cell_type": "code",
   "execution_count": 11,
   "id": "restricted-sheriff",
   "metadata": {
    "execution": {
     "iopub.execute_input": "2021-06-07T00:38:15.731866Z",
     "iopub.status.busy": "2021-06-07T00:38:15.731243Z",
     "iopub.status.idle": "2021-06-07T00:38:15.738028Z",
     "shell.execute_reply": "2021-06-07T00:38:15.737537Z"
    },
    "papermill": {
     "duration": 0.048416,
     "end_time": "2021-06-07T00:38:15.738163",
     "exception": false,
     "start_time": "2021-06-07T00:38:15.689747",
     "status": "completed"
    },
    "tags": []
   },
   "outputs": [],
   "source": [
    "#hide\n",
    "dfc_cases = dft_cases.groupby(COL_REGION)[dt_today].sum()\n",
    "dfc_deaths = dft_deaths.groupby(COL_REGION)[dt_today].sum()\n",
    "# dfp_cases = dft_cases.groupby(COL_REGION)[dt_5day].sum()\n",
    "# dfp_deaths = dft_deaths.groupby(COL_REGION)[dt_5day].sum()\n",
    "dfp_cases = dft_cases.groupby(COL_REGION)[dt_yday].sum()\n",
    "dfp_deaths = dft_deaths.groupby(COL_REGION)[dt_yday].sum()"
   ]
  },
  {
   "cell_type": "code",
   "execution_count": 12,
   "id": "deluxe-hepatitis",
   "metadata": {
    "execution": {
     "iopub.execute_input": "2021-06-07T00:38:15.817605Z",
     "iopub.status.busy": "2021-06-07T00:38:15.817001Z",
     "iopub.status.idle": "2021-06-07T00:38:15.822292Z",
     "shell.execute_reply": "2021-06-07T00:38:15.821803Z"
    },
    "papermill": {
     "duration": 0.049937,
     "end_time": "2021-06-07T00:38:15.822429",
     "exception": false,
     "start_time": "2021-06-07T00:38:15.772492",
     "status": "completed"
    },
    "tags": []
   },
   "outputs": [],
   "source": [
    "#hide\n",
    "df_table = (pd.DataFrame(dict(Cases = dfc_cases, Deaths = dfc_deaths, PCases = dfp_cases, PDeaths = dfp_deaths))\n",
    "            .sort_values(by = ['Cases','Deaths'], ascending = [False, False])\n",
    "            .reset_index())"
   ]
  },
  {
   "cell_type": "code",
   "execution_count": 13,
   "id": "educational-chancellor",
   "metadata": {
    "execution": {
     "iopub.execute_input": "2021-06-07T00:38:15.914037Z",
     "iopub.status.busy": "2021-06-07T00:38:15.913411Z",
     "iopub.status.idle": "2021-06-07T00:38:15.921557Z",
     "shell.execute_reply": "2021-06-07T00:38:15.922121Z"
    },
    "papermill": {
     "duration": 0.065782,
     "end_time": "2021-06-07T00:38:15.922274",
     "exception": false,
     "start_time": "2021-06-07T00:38:15.856492",
     "status": "completed"
    },
    "tags": []
   },
   "outputs": [
    {
     "data": {
      "text/html": [
       "<div>\n",
       "<style scoped>\n",
       "    .dataframe tbody tr th:only-of-type {\n",
       "        vertical-align: middle;\n",
       "    }\n",
       "\n",
       "    .dataframe tbody tr th {\n",
       "        vertical-align: top;\n",
       "    }\n",
       "\n",
       "    .dataframe thead th {\n",
       "        text-align: right;\n",
       "    }\n",
       "</style>\n",
       "<table border=\"1\" class=\"dataframe\">\n",
       "  <thead>\n",
       "    <tr style=\"text-align: right;\">\n",
       "      <th></th>\n",
       "      <th>Country/Region</th>\n",
       "      <th>Cases</th>\n",
       "      <th>Deaths</th>\n",
       "      <th>PCases</th>\n",
       "      <th>PDeaths</th>\n",
       "      <th>Cases (+)</th>\n",
       "      <th>Deaths (+)</th>\n",
       "      <th>Fatality Rate</th>\n",
       "      <th>Continent</th>\n",
       "    </tr>\n",
       "  </thead>\n",
       "  <tbody>\n",
       "    <tr>\n",
       "      <th>0</th>\n",
       "      <td>US</td>\n",
       "      <td>33357205</td>\n",
       "      <td>597377</td>\n",
       "      <td>33343297</td>\n",
       "      <td>597001</td>\n",
       "      <td>13908</td>\n",
       "      <td>376</td>\n",
       "      <td>1.79</td>\n",
       "      <td>North America</td>\n",
       "    </tr>\n",
       "    <tr>\n",
       "      <th>1</th>\n",
       "      <td>India</td>\n",
       "      <td>28809339</td>\n",
       "      <td>346759</td>\n",
       "      <td>28694879</td>\n",
       "      <td>344082</td>\n",
       "      <td>114460</td>\n",
       "      <td>2677</td>\n",
       "      <td>1.20</td>\n",
       "      <td>Asia</td>\n",
       "    </tr>\n",
       "    <tr>\n",
       "      <th>2</th>\n",
       "      <td>Brazil</td>\n",
       "      <td>16907425</td>\n",
       "      <td>472531</td>\n",
       "      <td>16841408</td>\n",
       "      <td>470842</td>\n",
       "      <td>66017</td>\n",
       "      <td>1689</td>\n",
       "      <td>2.79</td>\n",
       "      <td>South America</td>\n",
       "    </tr>\n",
       "    <tr>\n",
       "      <th>3</th>\n",
       "      <td>France</td>\n",
       "      <td>5769291</td>\n",
       "      <td>110135</td>\n",
       "      <td>5762637</td>\n",
       "      <td>110078</td>\n",
       "      <td>6654</td>\n",
       "      <td>57</td>\n",
       "      <td>1.91</td>\n",
       "      <td>Europe</td>\n",
       "    </tr>\n",
       "    <tr>\n",
       "      <th>4</th>\n",
       "      <td>Turkey</td>\n",
       "      <td>5282594</td>\n",
       "      <td>48068</td>\n",
       "      <td>5276468</td>\n",
       "      <td>47976</td>\n",
       "      <td>6126</td>\n",
       "      <td>92</td>\n",
       "      <td>0.91</td>\n",
       "      <td>Asia</td>\n",
       "    </tr>\n",
       "  </tbody>\n",
       "</table>\n",
       "</div>"
      ],
      "text/plain": [
       "  Country/Region     Cases  Deaths    PCases  PDeaths  Cases (+)  Deaths (+)  \\\n",
       "0             US  33357205  597377  33343297   597001      13908         376   \n",
       "1          India  28809339  346759  28694879   344082     114460        2677   \n",
       "2         Brazil  16907425  472531  16841408   470842      66017        1689   \n",
       "3         France   5769291  110135   5762637   110078       6654          57   \n",
       "4         Turkey   5282594   48068   5276468    47976       6126          92   \n",
       "\n",
       "   Fatality Rate      Continent  \n",
       "0           1.79  North America  \n",
       "1           1.20           Asia  \n",
       "2           2.79  South America  \n",
       "3           1.91         Europe  \n",
       "4           0.91           Asia  "
      ]
     },
     "execution_count": 13,
     "metadata": {},
     "output_type": "execute_result"
    }
   ],
   "source": [
    "#hide\n",
    "for c in 'Cases, Deaths'.split(', '):\n",
    "    df_table[f'{c} (+)'] = (df_table[c] - df_table[f'P{c}']).clip(0)\n",
    "    #Clip ça veut dire, les chiffres negatif sont interdit\n",
    "df_table['Fatality Rate'] = (100* df_table['Deaths']/ df_table['Cases']).round(2)\n",
    "df_table['Continent'] = df_table['Country/Region'].map(mapping['map.continent'])\n",
    "df_table.head(5)"
   ]
  },
  {
   "cell_type": "code",
   "execution_count": 14,
   "id": "aboriginal-bulgaria",
   "metadata": {
    "execution": {
     "iopub.execute_input": "2021-06-07T00:38:15.999073Z",
     "iopub.status.busy": "2021-06-07T00:38:15.998479Z",
     "iopub.status.idle": "2021-06-07T00:38:16.002732Z",
     "shell.execute_reply": "2021-06-07T00:38:16.002250Z"
    },
    "papermill": {
     "duration": 0.045688,
     "end_time": "2021-06-07T00:38:16.002862",
     "exception": false,
     "start_time": "2021-06-07T00:38:15.957174",
     "status": "completed"
    },
    "tags": []
   },
   "outputs": [],
   "source": [
    "#hide\n",
    "#delete problematic countries from table\n",
    "df_table = df_table[~df_table['Country/Region'].isin(['Cape Verde', 'Cruise Ship', 'Kosovo'])]"
   ]
  },
  {
   "cell_type": "code",
   "execution_count": 15,
   "id": "fantastic-effect",
   "metadata": {
    "execution": {
     "iopub.execute_input": "2021-06-07T00:38:16.084362Z",
     "iopub.status.busy": "2021-06-07T00:38:16.083662Z",
     "iopub.status.idle": "2021-06-07T00:38:16.102474Z",
     "shell.execute_reply": "2021-06-07T00:38:16.103089Z"
    },
    "papermill": {
     "duration": 0.065869,
     "end_time": "2021-06-07T00:38:16.103240",
     "exception": false,
     "start_time": "2021-06-07T00:38:16.037371",
     "status": "completed"
    },
    "tags": []
   },
   "outputs": [
    {
     "data": {
      "text/html": [
       "<div>\n",
       "<style scoped>\n",
       "    .dataframe tbody tr th:only-of-type {\n",
       "        vertical-align: middle;\n",
       "    }\n",
       "\n",
       "    .dataframe tbody tr th {\n",
       "        vertical-align: top;\n",
       "    }\n",
       "\n",
       "    .dataframe thead th {\n",
       "        text-align: right;\n",
       "    }\n",
       "</style>\n",
       "<table border=\"1\" class=\"dataframe\">\n",
       "  <thead>\n",
       "    <tr style=\"text-align: right;\">\n",
       "      <th></th>\n",
       "      <th>Country/Region</th>\n",
       "      <th>Cases</th>\n",
       "      <th>Deaths</th>\n",
       "      <th>PCases</th>\n",
       "      <th>PDeaths</th>\n",
       "      <th>Cases (+)</th>\n",
       "      <th>Deaths (+)</th>\n",
       "      <th>Fatality Rate</th>\n",
       "      <th>Continent</th>\n",
       "    </tr>\n",
       "  </thead>\n",
       "  <tbody>\n",
       "    <tr>\n",
       "      <th>0</th>\n",
       "      <td>US</td>\n",
       "      <td>33357205</td>\n",
       "      <td>597377</td>\n",
       "      <td>33343297</td>\n",
       "      <td>597001</td>\n",
       "      <td>13908</td>\n",
       "      <td>376</td>\n",
       "      <td>1.8</td>\n",
       "      <td>North America</td>\n",
       "    </tr>\n",
       "    <tr>\n",
       "      <th>1</th>\n",
       "      <td>India</td>\n",
       "      <td>28809339</td>\n",
       "      <td>346759</td>\n",
       "      <td>28694879</td>\n",
       "      <td>344082</td>\n",
       "      <td>114460</td>\n",
       "      <td>2677</td>\n",
       "      <td>1.2</td>\n",
       "      <td>Asia</td>\n",
       "    </tr>\n",
       "    <tr>\n",
       "      <th>2</th>\n",
       "      <td>Brazil</td>\n",
       "      <td>16907425</td>\n",
       "      <td>472531</td>\n",
       "      <td>16841408</td>\n",
       "      <td>470842</td>\n",
       "      <td>66017</td>\n",
       "      <td>1689</td>\n",
       "      <td>2.8</td>\n",
       "      <td>South America</td>\n",
       "    </tr>\n",
       "    <tr>\n",
       "      <th>3</th>\n",
       "      <td>France</td>\n",
       "      <td>5769291</td>\n",
       "      <td>110135</td>\n",
       "      <td>5762637</td>\n",
       "      <td>110078</td>\n",
       "      <td>6654</td>\n",
       "      <td>57</td>\n",
       "      <td>1.9</td>\n",
       "      <td>Europe</td>\n",
       "    </tr>\n",
       "    <tr>\n",
       "      <th>4</th>\n",
       "      <td>Turkey</td>\n",
       "      <td>5282594</td>\n",
       "      <td>48068</td>\n",
       "      <td>5276468</td>\n",
       "      <td>47976</td>\n",
       "      <td>6126</td>\n",
       "      <td>92</td>\n",
       "      <td>0.9</td>\n",
       "      <td>Asia</td>\n",
       "    </tr>\n",
       "  </tbody>\n",
       "</table>\n",
       "</div>"
      ],
      "text/plain": [
       "  Country/Region     Cases  Deaths    PCases  PDeaths  Cases (+)  Deaths (+)  \\\n",
       "0             US  33357205  597377  33343297   597001      13908         376   \n",
       "1          India  28809339  346759  28694879   344082     114460        2677   \n",
       "2         Brazil  16907425  472531  16841408   470842      66017        1689   \n",
       "3         France   5769291  110135   5762637   110078       6654          57   \n",
       "4         Turkey   5282594   48068   5276468    47976       6126          92   \n",
       "\n",
       "   Fatality Rate      Continent  \n",
       "0            1.8  North America  \n",
       "1            1.2           Asia  \n",
       "2            2.8  South America  \n",
       "3            1.9         Europe  \n",
       "4            0.9           Asia  "
      ]
     },
     "execution_count": 15,
     "metadata": {},
     "output_type": "execute_result"
    }
   ],
   "source": [
    "#hide\n",
    "df_table = (pd.DataFrame(dict(Cases=dfc_cases, Deaths=dfc_deaths, PCases=dfp_cases, PDeaths=dfp_deaths))\n",
    "             .sort_values(by=['Cases', 'Deaths'], ascending=[False, False])\n",
    "             .reset_index())\n",
    "df_table.rename(columns={'index': 'Country/Region'}, inplace=True)\n",
    "for c in 'Cases, Deaths'.split(', '):\n",
    "    df_table[f'{c} (+)'] = (df_table[c] - df_table[f'P{c}']).clip(0)  # DATA BUG\n",
    "df_table['Fatality Rate'] = (100 * df_table['Deaths'] / df_table['Cases']).round(1)\n",
    "df_table['Continent'] = df_table['Country/Region'].map(mapping['map.continent'])\n",
    "df_table.head(5)"
   ]
  },
  {
   "cell_type": "code",
   "execution_count": 16,
   "id": "fewer-occasion",
   "metadata": {
    "execution": {
     "iopub.execute_input": "2021-06-07T00:38:16.185148Z",
     "iopub.status.busy": "2021-06-07T00:38:16.184531Z",
     "iopub.status.idle": "2021-06-07T00:38:16.186955Z",
     "shell.execute_reply": "2021-06-07T00:38:16.186374Z"
    },
    "papermill": {
     "duration": 0.047477,
     "end_time": "2021-06-07T00:38:16.187082",
     "exception": false,
     "start_time": "2021-06-07T00:38:16.139605",
     "status": "completed"
    },
    "tags": []
   },
   "outputs": [],
   "source": [
    "#hide\n",
    "#delete problematic countries from table\n",
    "df_table = df_table[~df_table['Country/Region'].isin(['Cape Verde', 'Cruise Ship', 'Kosovo'])]"
   ]
  },
  {
   "cell_type": "code",
   "execution_count": 17,
   "id": "related-center",
   "metadata": {
    "execution": {
     "iopub.execute_input": "2021-06-07T00:38:16.265306Z",
     "iopub.status.busy": "2021-06-07T00:38:16.264693Z",
     "iopub.status.idle": "2021-06-07T00:38:16.279756Z",
     "shell.execute_reply": "2021-06-07T00:38:16.279226Z"
    },
    "papermill": {
     "duration": 0.05755,
     "end_time": "2021-06-07T00:38:16.279898",
     "exception": false,
     "start_time": "2021-06-07T00:38:16.222348",
     "status": "completed"
    },
    "tags": []
   },
   "outputs": [],
   "source": [
    "#hide\n",
    "metrics = [df_table.columns[index] for index in [1,2,5,6]]\n",
    "# s_china = df_table[df_table['Country/Region'].eq('China')][metrics].sum().add_prefix('China ')\n",
    "s_us = df_table[df_table['Country/Region'].eq('US')][metrics].sum().add_prefix('US ')\n",
    "s_eu = df_table[df_table['Continent'].eq('Europe')][metrics].sum().add_prefix('EU ')\n",
    "s_ind = df_table[df_table['Country/Region'].eq('India')][metrics].sum().add_prefix('India ')\n",
    "summary = {'updated': pd.to_datetime(dt_today), 'since': pd.to_datetime(dt_yday)}\n",
    "summary = {'updated': pd.to_datetime(dt_today), 'since': pd.to_datetime(dt_yday)}\n",
    "summary = {**summary, **df_table[metrics].sum(), **s_ind, **s_us, **s_eu}"
   ]
  },
  {
   "cell_type": "code",
   "execution_count": 18,
   "id": "engaging-syndrome",
   "metadata": {
    "execution": {
     "iopub.execute_input": "2021-06-07T00:38:16.356050Z",
     "iopub.status.busy": "2021-06-07T00:38:16.355404Z",
     "iopub.status.idle": "2021-06-07T00:38:16.370470Z",
     "shell.execute_reply": "2021-06-07T00:38:16.369983Z"
    },
    "papermill": {
     "duration": 0.055377,
     "end_time": "2021-06-07T00:38:16.370602",
     "exception": false,
     "start_time": "2021-06-07T00:38:16.315225",
     "status": "completed"
    },
    "tags": []
   },
   "outputs": [],
   "source": [
    "#hide\n",
    "dft_ct_new_cases = dft_cases.groupby(COL_REGION)[dt_cols].sum().diff(axis=1).fillna(0).astype(int)"
   ]
  },
  {
   "cell_type": "code",
   "execution_count": 19,
   "id": "neutral-assignment",
   "metadata": {
    "execution": {
     "iopub.execute_input": "2021-06-07T00:38:16.447615Z",
     "iopub.status.busy": "2021-06-07T00:38:16.447014Z",
     "iopub.status.idle": "2021-06-07T00:38:16.449594Z",
     "shell.execute_reply": "2021-06-07T00:38:16.449113Z"
    },
    "papermill": {
     "duration": 0.043916,
     "end_time": "2021-06-07T00:38:16.449726",
     "exception": false,
     "start_time": "2021-06-07T00:38:16.405810",
     "status": "completed"
    },
    "tags": []
   },
   "outputs": [],
   "source": [
    "#hide\n",
    "everydaycases = dft_ct_new_cases.cumsum(axis=1)"
   ]
  },
  {
   "cell_type": "code",
   "execution_count": 20,
   "id": "parliamentary-calgary",
   "metadata": {
    "execution": {
     "iopub.execute_input": "2021-06-07T00:38:16.525397Z",
     "iopub.status.busy": "2021-06-07T00:38:16.524788Z",
     "iopub.status.idle": "2021-06-07T00:38:17.139393Z",
     "shell.execute_reply": "2021-06-07T00:38:17.138747Z"
    },
    "papermill": {
     "duration": 0.654395,
     "end_time": "2021-06-07T00:38:17.139557",
     "exception": false,
     "start_time": "2021-06-07T00:38:16.485162",
     "status": "completed"
    },
    "tags": []
   },
   "outputs": [],
   "source": [
    "#hide\n",
    "import pandas as pd\n",
    "import matplotlib.pyplot as plt\n",
    "import matplotlib.ticker as ticker\n",
    "import matplotlib.animation as animation\n",
    "from IPython.display import HTML"
   ]
  },
  {
   "cell_type": "code",
   "execution_count": 21,
   "id": "lasting-extraction",
   "metadata": {
    "execution": {
     "iopub.execute_input": "2021-06-07T00:38:17.219278Z",
     "iopub.status.busy": "2021-06-07T00:38:17.218679Z",
     "iopub.status.idle": "2021-06-07T00:38:17.224671Z",
     "shell.execute_reply": "2021-06-07T00:38:17.224191Z"
    },
    "papermill": {
     "duration": 0.048727,
     "end_time": "2021-06-07T00:38:17.224803",
     "exception": false,
     "start_time": "2021-06-07T00:38:17.176076",
     "status": "completed"
    },
    "tags": []
   },
   "outputs": [],
   "source": [
    "#hide\n",
    "t = everydaycases.stack()"
   ]
  },
  {
   "cell_type": "code",
   "execution_count": 22,
   "id": "premier-sleeve",
   "metadata": {
    "execution": {
     "iopub.execute_input": "2021-06-07T00:38:17.301308Z",
     "iopub.status.busy": "2021-06-07T00:38:17.300708Z",
     "iopub.status.idle": "2021-06-07T00:38:17.308875Z",
     "shell.execute_reply": "2021-06-07T00:38:17.309330Z"
    },
    "papermill": {
     "duration": 0.049318,
     "end_time": "2021-06-07T00:38:17.309488",
     "exception": false,
     "start_time": "2021-06-07T00:38:17.260170",
     "status": "completed"
    },
    "tags": []
   },
   "outputs": [],
   "source": [
    "#hide\n",
    "g = t.reset_index(['Country/Region'])"
   ]
  },
  {
   "cell_type": "code",
   "execution_count": 23,
   "id": "distributed-pittsburgh",
   "metadata": {
    "execution": {
     "iopub.execute_input": "2021-06-07T00:38:17.385019Z",
     "iopub.status.busy": "2021-06-07T00:38:17.384426Z",
     "iopub.status.idle": "2021-06-07T00:38:17.387381Z",
     "shell.execute_reply": "2021-06-07T00:38:17.387986Z"
    },
    "papermill": {
     "duration": 0.043582,
     "end_time": "2021-06-07T00:38:17.388136",
     "exception": false,
     "start_time": "2021-06-07T00:38:17.344554",
     "status": "completed"
    },
    "tags": []
   },
   "outputs": [],
   "source": [
    "#hide\n",
    "g.index.name = 'date'"
   ]
  },
  {
   "cell_type": "code",
   "execution_count": 24,
   "id": "naked-donor",
   "metadata": {
    "execution": {
     "iopub.execute_input": "2021-06-07T00:38:17.463847Z",
     "iopub.status.busy": "2021-06-07T00:38:17.463201Z",
     "iopub.status.idle": "2021-06-07T00:38:17.465544Z",
     "shell.execute_reply": "2021-06-07T00:38:17.465026Z"
    },
    "papermill": {
     "duration": 0.042234,
     "end_time": "2021-06-07T00:38:17.465676",
     "exception": false,
     "start_time": "2021-06-07T00:38:17.423442",
     "status": "completed"
    },
    "tags": []
   },
   "outputs": [],
   "source": [
    "# #hide\n",
    "# g = g.reset_index(['date'])"
   ]
  },
  {
   "cell_type": "code",
   "execution_count": 25,
   "id": "incomplete-mustang",
   "metadata": {
    "execution": {
     "iopub.execute_input": "2021-06-07T00:38:17.540117Z",
     "iopub.status.busy": "2021-06-07T00:38:17.539475Z",
     "iopub.status.idle": "2021-06-07T00:38:17.541319Z",
     "shell.execute_reply": "2021-06-07T00:38:17.541806Z"
    },
    "papermill": {
     "duration": 0.041059,
     "end_time": "2021-06-07T00:38:17.541959",
     "exception": false,
     "start_time": "2021-06-07T00:38:17.500900",
     "status": "completed"
    },
    "tags": []
   },
   "outputs": [],
   "source": [
    "#hide\n",
    "# g.head()"
   ]
  },
  {
   "cell_type": "code",
   "execution_count": 26,
   "id": "specific-kruger",
   "metadata": {
    "execution": {
     "iopub.execute_input": "2021-06-07T00:38:17.616929Z",
     "iopub.status.busy": "2021-06-07T00:38:17.616326Z",
     "iopub.status.idle": "2021-06-07T00:38:17.618582Z",
     "shell.execute_reply": "2021-06-07T00:38:17.618083Z"
    },
    "papermill": {
     "duration": 0.041372,
     "end_time": "2021-06-07T00:38:17.618707",
     "exception": false,
     "start_time": "2021-06-07T00:38:17.577335",
     "status": "completed"
    },
    "tags": []
   },
   "outputs": [],
   "source": [
    "#hide\n",
    "# g.columns = ['date','country','cases']"
   ]
  },
  {
   "cell_type": "code",
   "execution_count": 27,
   "id": "tender-conversion",
   "metadata": {
    "execution": {
     "iopub.execute_input": "2021-06-07T00:38:17.692918Z",
     "iopub.status.busy": "2021-06-07T00:38:17.692301Z",
     "iopub.status.idle": "2021-06-07T00:38:17.699455Z",
     "shell.execute_reply": "2021-06-07T00:38:17.698965Z"
    },
    "papermill": {
     "duration": 0.045856,
     "end_time": "2021-06-07T00:38:17.699584",
     "exception": false,
     "start_time": "2021-06-07T00:38:17.653728",
     "status": "completed"
    },
    "tags": []
   },
   "outputs": [],
   "source": [
    "#hide\n",
    "# g['continent'] = g.country"
   ]
  },
  {
   "cell_type": "code",
   "execution_count": 28,
   "id": "substantial-wilderness",
   "metadata": {
    "execution": {
     "iopub.execute_input": "2021-06-07T00:38:17.774281Z",
     "iopub.status.busy": "2021-06-07T00:38:17.773678Z",
     "iopub.status.idle": "2021-06-07T00:38:17.775539Z",
     "shell.execute_reply": "2021-06-07T00:38:17.776008Z"
    },
    "papermill": {
     "duration": 0.041163,
     "end_time": "2021-06-07T00:38:17.776158",
     "exception": false,
     "start_time": "2021-06-07T00:38:17.734995",
     "status": "completed"
    },
    "tags": []
   },
   "outputs": [],
   "source": [
    "#hide\n",
    "# cols = list(g.columns.values)"
   ]
  },
  {
   "cell_type": "code",
   "execution_count": 29,
   "id": "solved-farming",
   "metadata": {
    "execution": {
     "iopub.execute_input": "2021-06-07T00:38:17.850443Z",
     "iopub.status.busy": "2021-06-07T00:38:17.849842Z",
     "iopub.status.idle": "2021-06-07T00:38:17.852366Z",
     "shell.execute_reply": "2021-06-07T00:38:17.851857Z"
    },
    "papermill": {
     "duration": 0.041329,
     "end_time": "2021-06-07T00:38:17.852492",
     "exception": false,
     "start_time": "2021-06-07T00:38:17.811163",
     "status": "completed"
    },
    "tags": []
   },
   "outputs": [],
   "source": [
    "#hide\n",
    "# cols.insert(0, cols.pop())"
   ]
  },
  {
   "cell_type": "code",
   "execution_count": 30,
   "id": "executed-adoption",
   "metadata": {
    "execution": {
     "iopub.execute_input": "2021-06-07T00:38:17.926990Z",
     "iopub.status.busy": "2021-06-07T00:38:17.926388Z",
     "iopub.status.idle": "2021-06-07T00:38:17.928790Z",
     "shell.execute_reply": "2021-06-07T00:38:17.928287Z"
    },
    "papermill": {
     "duration": 0.04126,
     "end_time": "2021-06-07T00:38:17.928916",
     "exception": false,
     "start_time": "2021-06-07T00:38:17.887656",
     "status": "completed"
    },
    "tags": []
   },
   "outputs": [],
   "source": [
    "#hide\n",
    "# g = g[cols]"
   ]
  },
  {
   "cell_type": "code",
   "execution_count": 31,
   "id": "subject-dublin",
   "metadata": {
    "execution": {
     "iopub.execute_input": "2021-06-07T00:38:18.002227Z",
     "iopub.status.busy": "2021-06-07T00:38:18.001615Z",
     "iopub.status.idle": "2021-06-07T00:38:18.005600Z",
     "shell.execute_reply": "2021-06-07T00:38:18.005120Z"
    },
    "papermill": {
     "duration": 0.041735,
     "end_time": "2021-06-07T00:38:18.005732",
     "exception": false,
     "start_time": "2021-06-07T00:38:17.963997",
     "status": "completed"
    },
    "tags": []
   },
   "outputs": [],
   "source": [
    "#hide\n",
    "# g['continent'] = g['continent'].map(mapping['map.continent'])"
   ]
  },
  {
   "cell_type": "code",
   "execution_count": 32,
   "id": "freelance-scout",
   "metadata": {
    "execution": {
     "iopub.execute_input": "2021-06-07T00:38:18.079880Z",
     "iopub.status.busy": "2021-06-07T00:38:18.079245Z",
     "iopub.status.idle": "2021-06-07T00:38:18.081789Z",
     "shell.execute_reply": "2021-06-07T00:38:18.081310Z"
    },
    "papermill": {
     "duration": 0.04127,
     "end_time": "2021-06-07T00:38:18.081920",
     "exception": false,
     "start_time": "2021-06-07T00:38:18.040650",
     "status": "completed"
    },
    "tags": []
   },
   "outputs": [],
   "source": [
    "#hide\n",
    "# g.head()"
   ]
  },
  {
   "cell_type": "code",
   "execution_count": 33,
   "id": "limited-engine",
   "metadata": {
    "execution": {
     "iopub.execute_input": "2021-06-07T00:38:18.157219Z",
     "iopub.status.busy": "2021-06-07T00:38:18.156589Z",
     "iopub.status.idle": "2021-06-07T00:38:18.158508Z",
     "shell.execute_reply": "2021-06-07T00:38:18.158962Z"
    },
    "papermill": {
     "duration": 0.041301,
     "end_time": "2021-06-07T00:38:18.159117",
     "exception": false,
     "start_time": "2021-06-07T00:38:18.117816",
     "status": "completed"
    },
    "tags": []
   },
   "outputs": [],
   "source": [
    "# hide\n",
    "# g['date'] = g['date'].astype('datetime64[ns]')"
   ]
  },
  {
   "cell_type": "code",
   "execution_count": 34,
   "id": "sophisticated-supervisor",
   "metadata": {
    "execution": {
     "iopub.execute_input": "2021-06-07T00:38:18.234618Z",
     "iopub.status.busy": "2021-06-07T00:38:18.234015Z",
     "iopub.status.idle": "2021-06-07T00:38:18.236518Z",
     "shell.execute_reply": "2021-06-07T00:38:18.236032Z"
    },
    "papermill": {
     "duration": 0.042037,
     "end_time": "2021-06-07T00:38:18.236651",
     "exception": false,
     "start_time": "2021-06-07T00:38:18.194614",
     "status": "completed"
    },
    "tags": []
   },
   "outputs": [],
   "source": [
    "#hide\n",
    "# g['date'] = g.date.dt.dayofyear"
   ]
  },
  {
   "cell_type": "code",
   "execution_count": 35,
   "id": "inside-dubai",
   "metadata": {
    "execution": {
     "iopub.execute_input": "2021-06-07T00:38:18.311666Z",
     "iopub.status.busy": "2021-06-07T00:38:18.310464Z",
     "iopub.status.idle": "2021-06-07T00:38:18.314357Z",
     "shell.execute_reply": "2021-06-07T00:38:18.314856Z"
    },
    "papermill": {
     "duration": 0.043159,
     "end_time": "2021-06-07T00:38:18.315003",
     "exception": false,
     "start_time": "2021-06-07T00:38:18.271844",
     "status": "completed"
    },
    "tags": []
   },
   "outputs": [],
   "source": [
    "#hide\n",
    "# g = g.rename(columns= {'continent':'group','country':'name','cases':'value'})"
   ]
  },
  {
   "cell_type": "code",
   "execution_count": 36,
   "id": "fleet-motorcycle",
   "metadata": {
    "execution": {
     "iopub.execute_input": "2021-06-07T00:38:18.389943Z",
     "iopub.status.busy": "2021-06-07T00:38:18.389340Z",
     "iopub.status.idle": "2021-06-07T00:38:18.391506Z",
     "shell.execute_reply": "2021-06-07T00:38:18.392088Z"
    },
    "papermill": {
     "duration": 0.041957,
     "end_time": "2021-06-07T00:38:18.392236",
     "exception": false,
     "start_time": "2021-06-07T00:38:18.350279",
     "status": "completed"
    },
    "tags": []
   },
   "outputs": [],
   "source": [
    "#hide\n",
    "# cols = ['name','group','day','value']"
   ]
  },
  {
   "cell_type": "code",
   "execution_count": 37,
   "id": "continued-sleeping",
   "metadata": {
    "execution": {
     "iopub.execute_input": "2021-06-07T00:38:18.467638Z",
     "iopub.status.busy": "2021-06-07T00:38:18.467037Z",
     "iopub.status.idle": "2021-06-07T00:38:18.469947Z",
     "shell.execute_reply": "2021-06-07T00:38:18.469468Z"
    },
    "papermill": {
     "duration": 0.042703,
     "end_time": "2021-06-07T00:38:18.470074",
     "exception": false,
     "start_time": "2021-06-07T00:38:18.427371",
     "status": "completed"
    },
    "tags": []
   },
   "outputs": [],
   "source": [
    "#hide\n",
    "# g.rename(columns= {'date':'day'},inplace = True)"
   ]
  },
  {
   "cell_type": "code",
   "execution_count": 38,
   "id": "major-fight",
   "metadata": {
    "execution": {
     "iopub.execute_input": "2021-06-07T00:38:18.547304Z",
     "iopub.status.busy": "2021-06-07T00:38:18.546266Z",
     "iopub.status.idle": "2021-06-07T00:38:18.548418Z",
     "shell.execute_reply": "2021-06-07T00:38:18.549044Z"
    },
    "papermill": {
     "duration": 0.043881,
     "end_time": "2021-06-07T00:38:18.549185",
     "exception": false,
     "start_time": "2021-06-07T00:38:18.505304",
     "status": "completed"
    },
    "tags": []
   },
   "outputs": [],
   "source": [
    "#hide\n",
    "# g = g[cols]"
   ]
  },
  {
   "cell_type": "code",
   "execution_count": 39,
   "id": "structured-mobile",
   "metadata": {
    "execution": {
     "iopub.execute_input": "2021-06-07T00:38:18.623210Z",
     "iopub.status.busy": "2021-06-07T00:38:18.622607Z",
     "iopub.status.idle": "2021-06-07T00:38:18.625341Z",
     "shell.execute_reply": "2021-06-07T00:38:18.625787Z"
    },
    "papermill": {
     "duration": 0.041861,
     "end_time": "2021-06-07T00:38:18.625940",
     "exception": false,
     "start_time": "2021-06-07T00:38:18.584079",
     "status": "completed"
    },
    "tags": []
   },
   "outputs": [],
   "source": [
    "# #hide\n",
    "# g = g[g.group.notna()]"
   ]
  },
  {
   "cell_type": "code",
   "execution_count": 40,
   "id": "determined-closing",
   "metadata": {
    "execution": {
     "iopub.execute_input": "2021-06-07T00:38:18.701710Z",
     "iopub.status.busy": "2021-06-07T00:38:18.701076Z",
     "iopub.status.idle": "2021-06-07T00:38:18.703958Z",
     "shell.execute_reply": "2021-06-07T00:38:18.703452Z"
    },
    "papermill": {
     "duration": 0.042736,
     "end_time": "2021-06-07T00:38:18.704091",
     "exception": false,
     "start_time": "2021-06-07T00:38:18.661355",
     "status": "completed"
    },
    "tags": []
   },
   "outputs": [],
   "source": [
    "# #hide\n",
    "# colors = dict(zip(\n",
    "#     [\"Oceania\", \"Europe\", \"Asia\", \"South America\", \"Middle East\", \"North America\", \"Africa\"],\n",
    "#     [\"#adb0ff\", \"#ffb3ff\", \"#90d595\", \"#e48381\", \"#aafbff\", \"#f7bb5f\", \"#eafb50\"]\n",
    "# ))\n",
    "# group_lk = g.set_index('name')['group'].to_dict()"
   ]
  },
  {
   "cell_type": "code",
   "execution_count": null,
   "id": "gross-drinking",
   "metadata": {
    "papermill": {
     "duration": 0.035159,
     "end_time": "2021-06-07T00:38:18.774294",
     "exception": false,
     "start_time": "2021-06-07T00:38:18.739135",
     "status": "completed"
    },
    "tags": []
   },
   "outputs": [],
   "source": []
  },
  {
   "cell_type": "code",
   "execution_count": 41,
   "id": "subject-macintosh",
   "metadata": {
    "execution": {
     "iopub.execute_input": "2021-06-07T00:38:18.849479Z",
     "iopub.status.busy": "2021-06-07T00:38:18.848852Z",
     "iopub.status.idle": "2021-06-07T00:38:18.850625Z",
     "shell.execute_reply": "2021-06-07T00:38:18.851065Z"
    },
    "papermill": {
     "duration": 0.041731,
     "end_time": "2021-06-07T00:38:18.851211",
     "exception": false,
     "start_time": "2021-06-07T00:38:18.809480",
     "status": "completed"
    },
    "tags": []
   },
   "outputs": [],
   "source": [
    "# #hide\n",
    "# fig, ax = plt.subplots(figsize=(15, 8))\n",
    "\n",
    "# def draw_barchart(current_day):\n",
    "#     dff = g[g['day'].eq(current_day)].sort_values(by='value', ascending=True).tail(10)\n",
    "#     ax.clear()\n",
    "#     ax.barh(dff['name'], dff['value'], color=[colors[group_lk[x]] for x in dff['name']])\n",
    "#     dx = dff['value'].max() / 200\n",
    "    \n",
    "#     for i, (value, name) in enumerate(zip(dff['value'], dff['name'])):\n",
    "#         ax.text(value-dx, i,     name,           size=14, weight=600, ha='right', va='bottom')\n",
    "#         ax.text(value-dx, i-.25, group_lk[name], size=10, color='#444444', ha='right', va='baseline')\n",
    "#         ax.text(value+dx, i,     f'{value:,.0f}',  size=14, ha='left',  va='center')\n",
    "#     ax.text(1, 0.4, current_day, transform=ax.transAxes, color='#777777', size=46, ha='right', weight=800)\n",
    "#     ax.text(0, 1.06, 'Population (thousands)', transform=ax.transAxes, size=12, color='#777777')\n",
    "#     ax.xaxis.set_major_formatter(ticker.StrMethodFormatter('{x:,.0f}'))\n",
    "#     ax.xaxis.set_ticks_position('top')\n",
    "#     ax.tick_params(axis='x', colors='#777777', labelsize=12)\n",
    "#     ax.set_yticks([])\n",
    "#     ax.margins(0, 0.01)\n",
    "#     ax.grid(which='major', axis='x', linestyle='-')\n",
    "#     ax.set_axisbelow(True)\n",
    "    \n",
    "#     ax.text(0, 1.15, 'Coronavirus',\n",
    "#             transform=ax.transAxes, size=24, weight=600, ha='left', va='top')\n",
    "# #     ax.text(1, 0, 'by @pratapvardhan; credit @jburnmurdoch', transform=ax.transAxes, color='#777777', ha='right',\n",
    "# #             bbox=dict(facecolor='white', alpha=0.8, edgecolor='white'))\n",
    "#     plt.box(False)"
   ]
  },
  {
   "cell_type": "code",
   "execution_count": 42,
   "id": "sexual-wages",
   "metadata": {
    "execution": {
     "iopub.execute_input": "2021-06-07T00:38:18.926408Z",
     "iopub.status.busy": "2021-06-07T00:38:18.925647Z",
     "iopub.status.idle": "2021-06-07T00:38:18.926960Z",
     "shell.execute_reply": "2021-06-07T00:38:18.927529Z"
    },
    "papermill": {
     "duration": 0.041372,
     "end_time": "2021-06-07T00:38:18.927671",
     "exception": false,
     "start_time": "2021-06-07T00:38:18.886299",
     "status": "completed"
    },
    "tags": []
   },
   "outputs": [],
   "source": [
    "# #hide_input\n",
    "# fig, ax = plt.subplots(figsize=(15, 8))\n",
    "# animator = animation.FuncAnimation(fig, draw_barchart, frames=range(g.day.values.min(), g.day.values.max()))\n",
    "# HTML(animator.to_jshtml())\n",
    "# # or use animator.to_html5_video() or animator.save() "
   ]
  },
  {
   "cell_type": "code",
   "execution_count": null,
   "id": "australian-container",
   "metadata": {
    "papermill": {
     "duration": 0.035263,
     "end_time": "2021-06-07T00:38:18.998197",
     "exception": false,
     "start_time": "2021-06-07T00:38:18.962934",
     "status": "completed"
    },
    "tags": []
   },
   "outputs": [],
   "source": []
  },
  {
   "cell_type": "code",
   "execution_count": null,
   "id": "mediterranean-pontiac",
   "metadata": {
    "papermill": {
     "duration": 0.034978,
     "end_time": "2021-06-07T00:38:19.068579",
     "exception": false,
     "start_time": "2021-06-07T00:38:19.033601",
     "status": "completed"
    },
    "tags": []
   },
   "outputs": [],
   "source": []
  },
  {
   "cell_type": "code",
   "execution_count": null,
   "id": "aging-legislature",
   "metadata": {
    "papermill": {
     "duration": 0.035354,
     "end_time": "2021-06-07T00:38:19.139291",
     "exception": false,
     "start_time": "2021-06-07T00:38:19.103937",
     "status": "completed"
    },
    "tags": []
   },
   "outputs": [],
   "source": []
  }
 ],
 "metadata": {
  "kernelspec": {
   "display_name": "Python 3",
   "language": "python",
   "name": "python3"
  },
  "language_info": {
   "codemirror_mode": {
    "name": "ipython",
    "version": 3
   },
   "file_extension": ".py",
   "mimetype": "text/x-python",
   "name": "python",
   "nbconvert_exporter": "python",
   "pygments_lexer": "ipython3",
   "version": "3.6.13"
  },
  "papermill": {
   "duration": 6.851909,
   "end_time": "2021-06-07T00:38:19.582967",
   "environment_variables": {},
   "exception": null,
   "input_path": "2020-03-21-covid19exp.ipynb",
   "output_path": "2020-03-21-covid19exp.ipynb",
   "parameters": {},
   "start_time": "2021-06-07T00:38:12.731058",
   "version": "2.0.0"
  }
 },
 "nbformat": 4,
 "nbformat_minor": 5
}