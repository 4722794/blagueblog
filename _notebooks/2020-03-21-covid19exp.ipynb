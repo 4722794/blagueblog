{
 "cells": [
  {
   "cell_type": "markdown",
   "id": "muslim-click",
   "metadata": {
    "papermill": {
     "duration": 0.046363,
     "end_time": "2021-01-30T12:07:32.436938",
     "exception": false,
     "start_time": "2021-01-30T12:07:32.390575",
     "status": "completed"
    },
    "tags": []
   },
   "source": [
    "# COVID-19 Case Race\n",
    "> A race chart to see rising cases around the world\n",
    "\n",
    "- author: Hargun Oberoi\n",
    "- image: images/covid-overview.png\n",
    "- hide: false\n",
    "- badges: false"
   ]
  },
  {
   "cell_type": "code",
   "execution_count": 1,
   "id": "proof-material",
   "metadata": {
    "execution": {
     "iopub.execute_input": "2021-01-30T12:07:32.524631Z",
     "iopub.status.busy": "2021-01-30T12:07:32.523922Z",
     "iopub.status.idle": "2021-01-30T12:07:32.871373Z",
     "shell.execute_reply": "2021-01-30T12:07:32.871911Z"
    },
    "papermill": {
     "duration": 0.39698,
     "end_time": "2021-01-30T12:07:32.872111",
     "exception": false,
     "start_time": "2021-01-30T12:07:32.475131",
     "status": "completed"
    },
    "tags": []
   },
   "outputs": [],
   "source": [
    "#hide\n",
    "import numpy as np\n",
    "import pandas as pd\n",
    "from jinja2 import Template\n",
    "from IPython.display import HTML"
   ]
  },
  {
   "cell_type": "code",
   "execution_count": 2,
   "id": "developed-terminology",
   "metadata": {
    "execution": {
     "iopub.execute_input": "2021-01-30T12:07:32.949078Z",
     "iopub.status.busy": "2021-01-30T12:07:32.948404Z",
     "iopub.status.idle": "2021-01-30T12:07:32.951538Z",
     "shell.execute_reply": "2021-01-30T12:07:32.951007Z"
    },
    "papermill": {
     "duration": 0.043615,
     "end_time": "2021-01-30T12:07:32.951672",
     "exception": false,
     "start_time": "2021-01-30T12:07:32.908057",
     "status": "completed"
    },
    "tags": []
   },
   "outputs": [],
   "source": [
    "#hide\n",
    "\n",
    "# FETCH\n",
    "base_url = 'https://raw.githubusercontent.com/pratapvardhan/notebooks/master/covid19/'\n",
    "paths = {\n",
    "    'mapping': base_url + 'mapping_countries.csv',\n",
    "    'overview': base_url + 'overview.tpl'\n",
    "}"
   ]
  },
  {
   "cell_type": "code",
   "execution_count": 3,
   "id": "dynamic-saver",
   "metadata": {
    "execution": {
     "iopub.execute_input": "2021-01-30T12:07:33.034141Z",
     "iopub.status.busy": "2021-01-30T12:07:33.033509Z",
     "iopub.status.idle": "2021-01-30T12:07:33.036816Z",
     "shell.execute_reply": "2021-01-30T12:07:33.037426Z"
    },
    "papermill": {
     "duration": 0.049237,
     "end_time": "2021-01-30T12:07:33.037564",
     "exception": false,
     "start_time": "2021-01-30T12:07:32.988327",
     "status": "completed"
    },
    "tags": []
   },
   "outputs": [
    {
     "data": {
      "text/plain": [
       "'https://raw.githubusercontent.com/pratapvardhan/notebooks/master/covid19/mapping_countries.csv'"
      ]
     },
     "execution_count": 3,
     "metadata": {},
     "output_type": "execute_result"
    }
   ],
   "source": [
    "#hide\n",
    "paths['mapping']"
   ]
  },
  {
   "cell_type": "code",
   "execution_count": 4,
   "id": "urban-software",
   "metadata": {
    "execution": {
     "iopub.execute_input": "2021-01-30T12:07:33.116881Z",
     "iopub.status.busy": "2021-01-30T12:07:33.116220Z",
     "iopub.status.idle": "2021-01-30T12:07:33.118600Z",
     "shell.execute_reply": "2021-01-30T12:07:33.117967Z"
    },
    "papermill": {
     "duration": 0.042856,
     "end_time": "2021-01-30T12:07:33.118726",
     "exception": false,
     "start_time": "2021-01-30T12:07:33.075870",
     "status": "completed"
    },
    "tags": []
   },
   "outputs": [],
   "source": [
    "#hide\n",
    "def get_mappings(url):\n",
    "    df = pd.read_csv(url)\n",
    "    return {\n",
    "        'df': df,\n",
    "        'replace.country': dict(df.dropna(subset=['Name']).set_index('Country')['Name']),\n",
    "        'map.continent': dict(df.set_index('Name')['Continent'])\n",
    "    }"
   ]
  },
  {
   "cell_type": "code",
   "execution_count": 5,
   "id": "intimate-machinery",
   "metadata": {
    "execution": {
     "iopub.execute_input": "2021-01-30T12:07:33.198130Z",
     "iopub.status.busy": "2021-01-30T12:07:33.197494Z",
     "iopub.status.idle": "2021-01-30T12:07:33.264251Z",
     "shell.execute_reply": "2021-01-30T12:07:33.264820Z"
    },
    "papermill": {
     "duration": 0.109055,
     "end_time": "2021-01-30T12:07:33.264979",
     "exception": false,
     "start_time": "2021-01-30T12:07:33.155924",
     "status": "completed"
    },
    "tags": []
   },
   "outputs": [],
   "source": [
    "#hide\n",
    "mapping = get_mappings(paths['mapping'])"
   ]
  },
  {
   "cell_type": "code",
   "execution_count": 6,
   "id": "certified-tactics",
   "metadata": {
    "execution": {
     "iopub.execute_input": "2021-01-30T12:07:33.344133Z",
     "iopub.status.busy": "2021-01-30T12:07:33.343492Z",
     "iopub.status.idle": "2021-01-30T12:07:33.345945Z",
     "shell.execute_reply": "2021-01-30T12:07:33.345402Z"
    },
    "papermill": {
     "duration": 0.044291,
     "end_time": "2021-01-30T12:07:33.346075",
     "exception": false,
     "start_time": "2021-01-30T12:07:33.301784",
     "status": "completed"
    },
    "tags": []
   },
   "outputs": [],
   "source": [
    "#hide\n",
    "def get_template(path):\n",
    "    from urllib.parse import urlparse\n",
    "    if bool(urlparse(path).netloc):\n",
    "        from urllib.request import urlopen\n",
    "        return urlopen(path).read().decode('utf8')\n",
    "    return open(path).read()"
   ]
  },
  {
   "cell_type": "code",
   "execution_count": 7,
   "id": "realistic-blast",
   "metadata": {
    "execution": {
     "iopub.execute_input": "2021-01-30T12:07:33.424969Z",
     "iopub.status.busy": "2021-01-30T12:07:33.424296Z",
     "iopub.status.idle": "2021-01-30T12:07:33.426763Z",
     "shell.execute_reply": "2021-01-30T12:07:33.426215Z"
    },
    "papermill": {
     "duration": 0.043612,
     "end_time": "2021-01-30T12:07:33.426889",
     "exception": false,
     "start_time": "2021-01-30T12:07:33.383277",
     "status": "completed"
    },
    "tags": []
   },
   "outputs": [],
   "source": [
    "#hide\n",
    "def get_frame(name):\n",
    "    url = (\n",
    "        'https://raw.githubusercontent.com/CSSEGISandData/COVID-19/master/csse_covid_19_data/'\n",
    "        f'csse_covid_19_time_series/time_series_covid19_{name}_global.csv')\n",
    "    df = pd.read_csv(url)\n",
    "    # rename countries\n",
    "    df['Country/Region'] = df['Country/Region'].replace(mapping['replace.country'])\n",
    "    return df"
   ]
  },
  {
   "cell_type": "code",
   "execution_count": 8,
   "id": "affiliated-characterization",
   "metadata": {
    "execution": {
     "iopub.execute_input": "2021-01-30T12:07:33.510865Z",
     "iopub.status.busy": "2021-01-30T12:07:33.510063Z",
     "iopub.status.idle": "2021-01-30T12:07:33.512831Z",
     "shell.execute_reply": "2021-01-30T12:07:33.512302Z"
    },
    "papermill": {
     "duration": 0.048524,
     "end_time": "2021-01-30T12:07:33.512966",
     "exception": false,
     "start_time": "2021-01-30T12:07:33.464442",
     "status": "completed"
    },
    "tags": []
   },
   "outputs": [],
   "source": [
    "#hide\n",
    "def get_dates(df):\n",
    "    dt_cols = df.columns[~df.columns.isin(['Province/State', 'Country/Region', 'Lat', 'Long'])]\n",
    "    LAST_DATE_I = -1\n",
    "    # sometimes last column may be empty, then go backwards\n",
    "    for i in range(-1, -len(dt_cols), -1):\n",
    "        if not df[dt_cols[i]].fillna(0).eq(0).all():\n",
    "            LAST_DATE_I = i\n",
    "            break\n",
    "    return LAST_DATE_I, dt_cols"
   ]
  },
  {
   "cell_type": "code",
   "execution_count": 9,
   "id": "recent-optimization",
   "metadata": {
    "execution": {
     "iopub.execute_input": "2021-01-30T12:07:33.592971Z",
     "iopub.status.busy": "2021-01-30T12:07:33.592326Z",
     "iopub.status.idle": "2021-01-30T12:07:34.016572Z",
     "shell.execute_reply": "2021-01-30T12:07:34.015466Z"
    },
    "papermill": {
     "duration": 0.46725,
     "end_time": "2021-01-30T12:07:34.016726",
     "exception": false,
     "start_time": "2021-01-30T12:07:33.549476",
     "status": "completed"
    },
    "tags": []
   },
   "outputs": [],
   "source": [
    "#hide\n",
    "COL_REGION = 'Country/Region'\n",
    "# Confirmed, Recovered, Deaths\n",
    "df = get_frame('confirmed')\n",
    "# dft_: timeseries, dfc_: today country agg\n",
    "dft_cases = df\n",
    "dft_deaths = get_frame('deaths')\n",
    "dft_recovered = get_frame('recovered')\n",
    "LAST_DATE_I, dt_cols = get_dates(df)"
   ]
  },
  {
   "cell_type": "code",
   "execution_count": 10,
   "id": "absolute-copper",
   "metadata": {
    "execution": {
     "iopub.execute_input": "2021-01-30T12:07:34.097090Z",
     "iopub.status.busy": "2021-01-30T12:07:34.096451Z",
     "iopub.status.idle": "2021-01-30T12:07:34.098399Z",
     "shell.execute_reply": "2021-01-30T12:07:34.098895Z"
    },
    "papermill": {
     "duration": 0.04449,
     "end_time": "2021-01-30T12:07:34.099035",
     "exception": false,
     "start_time": "2021-01-30T12:07:34.054545",
     "status": "completed"
    },
    "tags": []
   },
   "outputs": [],
   "source": [
    "#hide\n",
    "LAST_DATE_I, dt_cols = get_dates(df)\n",
    "dt_today =dt_cols[LAST_DATE_I]\n",
    "# dt_5day = dt_cols[LAST_DATE_I - 5]\n",
    "dt_yday = dt_cols[LAST_DATE_I - 1]"
   ]
  },
  {
   "cell_type": "code",
   "execution_count": 11,
   "id": "restricted-sheriff",
   "metadata": {
    "execution": {
     "iopub.execute_input": "2021-01-30T12:07:34.180621Z",
     "iopub.status.busy": "2021-01-30T12:07:34.179956Z",
     "iopub.status.idle": "2021-01-30T12:07:34.186497Z",
     "shell.execute_reply": "2021-01-30T12:07:34.187108Z"
    },
    "papermill": {
     "duration": 0.051005,
     "end_time": "2021-01-30T12:07:34.187250",
     "exception": false,
     "start_time": "2021-01-30T12:07:34.136245",
     "status": "completed"
    },
    "tags": []
   },
   "outputs": [],
   "source": [
    "#hide\n",
    "dfc_cases = dft_cases.groupby(COL_REGION)[dt_today].sum()\n",
    "dfc_deaths = dft_deaths.groupby(COL_REGION)[dt_today].sum()\n",
    "# dfp_cases = dft_cases.groupby(COL_REGION)[dt_5day].sum()\n",
    "# dfp_deaths = dft_deaths.groupby(COL_REGION)[dt_5day].sum()\n",
    "dfp_cases = dft_cases.groupby(COL_REGION)[dt_yday].sum()\n",
    "dfp_deaths = dft_deaths.groupby(COL_REGION)[dt_yday].sum()"
   ]
  },
  {
   "cell_type": "code",
   "execution_count": 12,
   "id": "deluxe-hepatitis",
   "metadata": {
    "execution": {
     "iopub.execute_input": "2021-01-30T12:07:34.265390Z",
     "iopub.status.busy": "2021-01-30T12:07:34.264742Z",
     "iopub.status.idle": "2021-01-30T12:07:34.269244Z",
     "shell.execute_reply": "2021-01-30T12:07:34.269851Z"
    },
    "papermill": {
     "duration": 0.046432,
     "end_time": "2021-01-30T12:07:34.269991",
     "exception": false,
     "start_time": "2021-01-30T12:07:34.223559",
     "status": "completed"
    },
    "tags": []
   },
   "outputs": [],
   "source": [
    "#hide\n",
    "df_table = (pd.DataFrame(dict(Cases = dfc_cases, Deaths = dfc_deaths, PCases = dfp_cases, PDeaths = dfp_deaths))\n",
    "            .sort_values(by = ['Cases','Deaths'], ascending = [False, False])\n",
    "            .reset_index())"
   ]
  },
  {
   "cell_type": "code",
   "execution_count": 13,
   "id": "educational-chancellor",
   "metadata": {
    "execution": {
     "iopub.execute_input": "2021-01-30T12:07:34.362588Z",
     "iopub.status.busy": "2021-01-30T12:07:34.361928Z",
     "iopub.status.idle": "2021-01-30T12:07:34.369567Z",
     "shell.execute_reply": "2021-01-30T12:07:34.370720Z"
    },
    "papermill": {
     "duration": 0.064035,
     "end_time": "2021-01-30T12:07:34.370974",
     "exception": false,
     "start_time": "2021-01-30T12:07:34.306939",
     "status": "completed"
    },
    "tags": []
   },
   "outputs": [
    {
     "data": {
      "text/html": [
       "<div>\n",
       "<style scoped>\n",
       "    .dataframe tbody tr th:only-of-type {\n",
       "        vertical-align: middle;\n",
       "    }\n",
       "\n",
       "    .dataframe tbody tr th {\n",
       "        vertical-align: top;\n",
       "    }\n",
       "\n",
       "    .dataframe thead th {\n",
       "        text-align: right;\n",
       "    }\n",
       "</style>\n",
       "<table border=\"1\" class=\"dataframe\">\n",
       "  <thead>\n",
       "    <tr style=\"text-align: right;\">\n",
       "      <th></th>\n",
       "      <th>Country/Region</th>\n",
       "      <th>Cases</th>\n",
       "      <th>Deaths</th>\n",
       "      <th>PCases</th>\n",
       "      <th>PDeaths</th>\n",
       "      <th>Cases (+)</th>\n",
       "      <th>Deaths (+)</th>\n",
       "      <th>Fatality Rate</th>\n",
       "      <th>Continent</th>\n",
       "    </tr>\n",
       "  </thead>\n",
       "  <tbody>\n",
       "    <tr>\n",
       "      <th>0</th>\n",
       "      <td>US</td>\n",
       "      <td>25932794</td>\n",
       "      <td>436799</td>\n",
       "      <td>25766681</td>\n",
       "      <td>433195</td>\n",
       "      <td>166113</td>\n",
       "      <td>3604</td>\n",
       "      <td>1.68</td>\n",
       "      <td>North America</td>\n",
       "    </tr>\n",
       "    <tr>\n",
       "      <th>1</th>\n",
       "      <td>India</td>\n",
       "      <td>10733130</td>\n",
       "      <td>154147</td>\n",
       "      <td>10720048</td>\n",
       "      <td>154010</td>\n",
       "      <td>13082</td>\n",
       "      <td>137</td>\n",
       "      <td>1.44</td>\n",
       "      <td>Asia</td>\n",
       "    </tr>\n",
       "    <tr>\n",
       "      <th>2</th>\n",
       "      <td>Brazil</td>\n",
       "      <td>9118513</td>\n",
       "      <td>222666</td>\n",
       "      <td>9058687</td>\n",
       "      <td>221547</td>\n",
       "      <td>59826</td>\n",
       "      <td>1119</td>\n",
       "      <td>2.44</td>\n",
       "      <td>South America</td>\n",
       "    </tr>\n",
       "    <tr>\n",
       "      <th>3</th>\n",
       "      <td>United Kingdom</td>\n",
       "      <td>3783593</td>\n",
       "      <td>104572</td>\n",
       "      <td>3754448</td>\n",
       "      <td>103324</td>\n",
       "      <td>29145</td>\n",
       "      <td>1248</td>\n",
       "      <td>2.76</td>\n",
       "      <td>Europe</td>\n",
       "    </tr>\n",
       "    <tr>\n",
       "      <th>4</th>\n",
       "      <td>Russia</td>\n",
       "      <td>3771514</td>\n",
       "      <td>71054</td>\n",
       "      <td>3752548</td>\n",
       "      <td>70533</td>\n",
       "      <td>18966</td>\n",
       "      <td>521</td>\n",
       "      <td>1.88</td>\n",
       "      <td>Europe</td>\n",
       "    </tr>\n",
       "  </tbody>\n",
       "</table>\n",
       "</div>"
      ],
      "text/plain": [
       "   Country/Region     Cases  Deaths    PCases  PDeaths  Cases (+)  Deaths (+)  \\\n",
       "0              US  25932794  436799  25766681   433195     166113        3604   \n",
       "1           India  10733130  154147  10720048   154010      13082         137   \n",
       "2          Brazil   9118513  222666   9058687   221547      59826        1119   \n",
       "3  United Kingdom   3783593  104572   3754448   103324      29145        1248   \n",
       "4          Russia   3771514   71054   3752548    70533      18966         521   \n",
       "\n",
       "   Fatality Rate      Continent  \n",
       "0           1.68  North America  \n",
       "1           1.44           Asia  \n",
       "2           2.44  South America  \n",
       "3           2.76         Europe  \n",
       "4           1.88         Europe  "
      ]
     },
     "execution_count": 13,
     "metadata": {},
     "output_type": "execute_result"
    }
   ],
   "source": [
    "#hide\n",
    "for c in 'Cases, Deaths'.split(', '):\n",
    "    df_table[f'{c} (+)'] = (df_table[c] - df_table[f'P{c}']).clip(0)\n",
    "    #Clip ça veut dire, les chiffres negatif sont interdit\n",
    "df_table['Fatality Rate'] = (100* df_table['Deaths']/ df_table['Cases']).round(2)\n",
    "df_table['Continent'] = df_table['Country/Region'].map(mapping['map.continent'])\n",
    "df_table.head(5)"
   ]
  },
  {
   "cell_type": "code",
   "execution_count": 14,
   "id": "aboriginal-bulgaria",
   "metadata": {
    "execution": {
     "iopub.execute_input": "2021-01-30T12:07:34.447919Z",
     "iopub.status.busy": "2021-01-30T12:07:34.447269Z",
     "iopub.status.idle": "2021-01-30T12:07:34.452706Z",
     "shell.execute_reply": "2021-01-30T12:07:34.452124Z"
    },
    "papermill": {
     "duration": 0.045337,
     "end_time": "2021-01-30T12:07:34.452836",
     "exception": false,
     "start_time": "2021-01-30T12:07:34.407499",
     "status": "completed"
    },
    "tags": []
   },
   "outputs": [],
   "source": [
    "#hide\n",
    "#delete problematic countries from table\n",
    "df_table = df_table[~df_table['Country/Region'].isin(['Cape Verde', 'Cruise Ship', 'Kosovo'])]"
   ]
  },
  {
   "cell_type": "code",
   "execution_count": 15,
   "id": "fantastic-effect",
   "metadata": {
    "execution": {
     "iopub.execute_input": "2021-01-30T12:07:34.536583Z",
     "iopub.status.busy": "2021-01-30T12:07:34.535886Z",
     "iopub.status.idle": "2021-01-30T12:07:34.555295Z",
     "shell.execute_reply": "2021-01-30T12:07:34.555834Z"
    },
    "papermill": {
     "duration": 0.066236,
     "end_time": "2021-01-30T12:07:34.555977",
     "exception": false,
     "start_time": "2021-01-30T12:07:34.489741",
     "status": "completed"
    },
    "tags": []
   },
   "outputs": [
    {
     "data": {
      "text/html": [
       "<div>\n",
       "<style scoped>\n",
       "    .dataframe tbody tr th:only-of-type {\n",
       "        vertical-align: middle;\n",
       "    }\n",
       "\n",
       "    .dataframe tbody tr th {\n",
       "        vertical-align: top;\n",
       "    }\n",
       "\n",
       "    .dataframe thead th {\n",
       "        text-align: right;\n",
       "    }\n",
       "</style>\n",
       "<table border=\"1\" class=\"dataframe\">\n",
       "  <thead>\n",
       "    <tr style=\"text-align: right;\">\n",
       "      <th></th>\n",
       "      <th>Country/Region</th>\n",
       "      <th>Cases</th>\n",
       "      <th>Deaths</th>\n",
       "      <th>PCases</th>\n",
       "      <th>PDeaths</th>\n",
       "      <th>Cases (+)</th>\n",
       "      <th>Deaths (+)</th>\n",
       "      <th>Fatality Rate</th>\n",
       "      <th>Continent</th>\n",
       "    </tr>\n",
       "  </thead>\n",
       "  <tbody>\n",
       "    <tr>\n",
       "      <th>0</th>\n",
       "      <td>US</td>\n",
       "      <td>25932794</td>\n",
       "      <td>436799</td>\n",
       "      <td>25766681</td>\n",
       "      <td>433195</td>\n",
       "      <td>166113</td>\n",
       "      <td>3604</td>\n",
       "      <td>1.7</td>\n",
       "      <td>North America</td>\n",
       "    </tr>\n",
       "    <tr>\n",
       "      <th>1</th>\n",
       "      <td>India</td>\n",
       "      <td>10733130</td>\n",
       "      <td>154147</td>\n",
       "      <td>10720048</td>\n",
       "      <td>154010</td>\n",
       "      <td>13082</td>\n",
       "      <td>137</td>\n",
       "      <td>1.4</td>\n",
       "      <td>Asia</td>\n",
       "    </tr>\n",
       "    <tr>\n",
       "      <th>2</th>\n",
       "      <td>Brazil</td>\n",
       "      <td>9118513</td>\n",
       "      <td>222666</td>\n",
       "      <td>9058687</td>\n",
       "      <td>221547</td>\n",
       "      <td>59826</td>\n",
       "      <td>1119</td>\n",
       "      <td>2.4</td>\n",
       "      <td>South America</td>\n",
       "    </tr>\n",
       "    <tr>\n",
       "      <th>3</th>\n",
       "      <td>United Kingdom</td>\n",
       "      <td>3783593</td>\n",
       "      <td>104572</td>\n",
       "      <td>3754448</td>\n",
       "      <td>103324</td>\n",
       "      <td>29145</td>\n",
       "      <td>1248</td>\n",
       "      <td>2.8</td>\n",
       "      <td>Europe</td>\n",
       "    </tr>\n",
       "    <tr>\n",
       "      <th>4</th>\n",
       "      <td>Russia</td>\n",
       "      <td>3771514</td>\n",
       "      <td>71054</td>\n",
       "      <td>3752548</td>\n",
       "      <td>70533</td>\n",
       "      <td>18966</td>\n",
       "      <td>521</td>\n",
       "      <td>1.9</td>\n",
       "      <td>Europe</td>\n",
       "    </tr>\n",
       "  </tbody>\n",
       "</table>\n",
       "</div>"
      ],
      "text/plain": [
       "   Country/Region     Cases  Deaths    PCases  PDeaths  Cases (+)  Deaths (+)  \\\n",
       "0              US  25932794  436799  25766681   433195     166113        3604   \n",
       "1           India  10733130  154147  10720048   154010      13082         137   \n",
       "2          Brazil   9118513  222666   9058687   221547      59826        1119   \n",
       "3  United Kingdom   3783593  104572   3754448   103324      29145        1248   \n",
       "4          Russia   3771514   71054   3752548    70533      18966         521   \n",
       "\n",
       "   Fatality Rate      Continent  \n",
       "0            1.7  North America  \n",
       "1            1.4           Asia  \n",
       "2            2.4  South America  \n",
       "3            2.8         Europe  \n",
       "4            1.9         Europe  "
      ]
     },
     "execution_count": 15,
     "metadata": {},
     "output_type": "execute_result"
    }
   ],
   "source": [
    "#hide\n",
    "df_table = (pd.DataFrame(dict(Cases=dfc_cases, Deaths=dfc_deaths, PCases=dfp_cases, PDeaths=dfp_deaths))\n",
    "             .sort_values(by=['Cases', 'Deaths'], ascending=[False, False])\n",
    "             .reset_index())\n",
    "df_table.rename(columns={'index': 'Country/Region'}, inplace=True)\n",
    "for c in 'Cases, Deaths'.split(', '):\n",
    "    df_table[f'{c} (+)'] = (df_table[c] - df_table[f'P{c}']).clip(0)  # DATA BUG\n",
    "df_table['Fatality Rate'] = (100 * df_table['Deaths'] / df_table['Cases']).round(1)\n",
    "df_table['Continent'] = df_table['Country/Region'].map(mapping['map.continent'])\n",
    "df_table.head(5)"
   ]
  },
  {
   "cell_type": "code",
   "execution_count": 16,
   "id": "fewer-occasion",
   "metadata": {
    "execution": {
     "iopub.execute_input": "2021-01-30T12:07:34.636461Z",
     "iopub.status.busy": "2021-01-30T12:07:34.635322Z",
     "iopub.status.idle": "2021-01-30T12:07:34.638147Z",
     "shell.execute_reply": "2021-01-30T12:07:34.637510Z"
    },
    "papermill": {
     "duration": 0.044559,
     "end_time": "2021-01-30T12:07:34.638276",
     "exception": false,
     "start_time": "2021-01-30T12:07:34.593717",
     "status": "completed"
    },
    "tags": []
   },
   "outputs": [],
   "source": [
    "#hide\n",
    "#delete problematic countries from table\n",
    "df_table = df_table[~df_table['Country/Region'].isin(['Cape Verde', 'Cruise Ship', 'Kosovo'])]"
   ]
  },
  {
   "cell_type": "code",
   "execution_count": 17,
   "id": "related-center",
   "metadata": {
    "execution": {
     "iopub.execute_input": "2021-01-30T12:07:34.722211Z",
     "iopub.status.busy": "2021-01-30T12:07:34.721556Z",
     "iopub.status.idle": "2021-01-30T12:07:34.736007Z",
     "shell.execute_reply": "2021-01-30T12:07:34.735480Z"
    },
    "papermill": {
     "duration": 0.058922,
     "end_time": "2021-01-30T12:07:34.736137",
     "exception": false,
     "start_time": "2021-01-30T12:07:34.677215",
     "status": "completed"
    },
    "tags": []
   },
   "outputs": [],
   "source": [
    "#hide\n",
    "metrics = [df_table.columns[index] for index in [1,2,5,6]]\n",
    "# s_china = df_table[df_table['Country/Region'].eq('China')][metrics].sum().add_prefix('China ')\n",
    "s_us = df_table[df_table['Country/Region'].eq('US')][metrics].sum().add_prefix('US ')\n",
    "s_eu = df_table[df_table['Continent'].eq('Europe')][metrics].sum().add_prefix('EU ')\n",
    "s_ind = df_table[df_table['Country/Region'].eq('India')][metrics].sum().add_prefix('India ')\n",
    "summary = {'updated': pd.to_datetime(dt_today), 'since': pd.to_datetime(dt_yday)}\n",
    "summary = {'updated': pd.to_datetime(dt_today), 'since': pd.to_datetime(dt_yday)}\n",
    "summary = {**summary, **df_table[metrics].sum(), **s_ind, **s_us, **s_eu}"
   ]
  },
  {
   "cell_type": "code",
   "execution_count": 18,
   "id": "engaging-syndrome",
   "metadata": {
    "execution": {
     "iopub.execute_input": "2021-01-30T12:07:34.816592Z",
     "iopub.status.busy": "2021-01-30T12:07:34.815912Z",
     "iopub.status.idle": "2021-01-30T12:07:34.829251Z",
     "shell.execute_reply": "2021-01-30T12:07:34.829789Z"
    },
    "papermill": {
     "duration": 0.056908,
     "end_time": "2021-01-30T12:07:34.829933",
     "exception": false,
     "start_time": "2021-01-30T12:07:34.773025",
     "status": "completed"
    },
    "tags": []
   },
   "outputs": [],
   "source": [
    "#hide\n",
    "dft_ct_new_cases = dft_cases.groupby(COL_REGION)[dt_cols].sum().diff(axis=1).fillna(0).astype(int)"
   ]
  },
  {
   "cell_type": "code",
   "execution_count": 19,
   "id": "neutral-assignment",
   "metadata": {
    "execution": {
     "iopub.execute_input": "2021-01-30T12:07:34.911288Z",
     "iopub.status.busy": "2021-01-30T12:07:34.910641Z",
     "iopub.status.idle": "2021-01-30T12:07:34.913073Z",
     "shell.execute_reply": "2021-01-30T12:07:34.912437Z"
    },
    "papermill": {
     "duration": 0.046446,
     "end_time": "2021-01-30T12:07:34.913202",
     "exception": false,
     "start_time": "2021-01-30T12:07:34.866756",
     "status": "completed"
    },
    "tags": []
   },
   "outputs": [],
   "source": [
    "#hide\n",
    "everydaycases = dft_ct_new_cases.cumsum(axis=1)"
   ]
  },
  {
   "cell_type": "code",
   "execution_count": 20,
   "id": "parliamentary-calgary",
   "metadata": {
    "execution": {
     "iopub.execute_input": "2021-01-30T12:07:34.992958Z",
     "iopub.status.busy": "2021-01-30T12:07:34.992289Z",
     "iopub.status.idle": "2021-01-30T12:07:35.689671Z",
     "shell.execute_reply": "2021-01-30T12:07:35.689102Z"
    },
    "papermill": {
     "duration": 0.738904,
     "end_time": "2021-01-30T12:07:35.689825",
     "exception": false,
     "start_time": "2021-01-30T12:07:34.950921",
     "status": "completed"
    },
    "tags": []
   },
   "outputs": [],
   "source": [
    "#hide\n",
    "import pandas as pd\n",
    "import matplotlib.pyplot as plt\n",
    "import matplotlib.ticker as ticker\n",
    "import matplotlib.animation as animation\n",
    "from IPython.display import HTML"
   ]
  },
  {
   "cell_type": "code",
   "execution_count": 21,
   "id": "lasting-extraction",
   "metadata": {
    "execution": {
     "iopub.execute_input": "2021-01-30T12:07:35.769741Z",
     "iopub.status.busy": "2021-01-30T12:07:35.769090Z",
     "iopub.status.idle": "2021-01-30T12:07:35.774568Z",
     "shell.execute_reply": "2021-01-30T12:07:35.774011Z"
    },
    "papermill": {
     "duration": 0.047671,
     "end_time": "2021-01-30T12:07:35.774698",
     "exception": false,
     "start_time": "2021-01-30T12:07:35.727027",
     "status": "completed"
    },
    "tags": []
   },
   "outputs": [],
   "source": [
    "#hide\n",
    "t = everydaycases.stack()"
   ]
  },
  {
   "cell_type": "code",
   "execution_count": 22,
   "id": "premier-sleeve",
   "metadata": {
    "execution": {
     "iopub.execute_input": "2021-01-30T12:07:35.854279Z",
     "iopub.status.busy": "2021-01-30T12:07:35.853628Z",
     "iopub.status.idle": "2021-01-30T12:07:35.861335Z",
     "shell.execute_reply": "2021-01-30T12:07:35.860776Z"
    },
    "papermill": {
     "duration": 0.048406,
     "end_time": "2021-01-30T12:07:35.861472",
     "exception": false,
     "start_time": "2021-01-30T12:07:35.813066",
     "status": "completed"
    },
    "tags": []
   },
   "outputs": [],
   "source": [
    "#hide\n",
    "g = t.reset_index(['Country/Region'])"
   ]
  },
  {
   "cell_type": "code",
   "execution_count": 23,
   "id": "distributed-pittsburgh",
   "metadata": {
    "execution": {
     "iopub.execute_input": "2021-01-30T12:07:35.941630Z",
     "iopub.status.busy": "2021-01-30T12:07:35.940979Z",
     "iopub.status.idle": "2021-01-30T12:07:35.943497Z",
     "shell.execute_reply": "2021-01-30T12:07:35.942946Z"
    },
    "papermill": {
     "duration": 0.044344,
     "end_time": "2021-01-30T12:07:35.943627",
     "exception": false,
     "start_time": "2021-01-30T12:07:35.899283",
     "status": "completed"
    },
    "tags": []
   },
   "outputs": [],
   "source": [
    "#hide\n",
    "g.index.name = 'date'"
   ]
  },
  {
   "cell_type": "code",
   "execution_count": 24,
   "id": "naked-donor",
   "metadata": {
    "execution": {
     "iopub.execute_input": "2021-01-30T12:07:36.022363Z",
     "iopub.status.busy": "2021-01-30T12:07:36.021721Z",
     "iopub.status.idle": "2021-01-30T12:07:36.024103Z",
     "shell.execute_reply": "2021-01-30T12:07:36.023473Z"
    },
    "papermill": {
     "duration": 0.041877,
     "end_time": "2021-01-30T12:07:36.024229",
     "exception": false,
     "start_time": "2021-01-30T12:07:35.982352",
     "status": "completed"
    },
    "tags": []
   },
   "outputs": [],
   "source": [
    "# #hide\n",
    "# g = g.reset_index(['date'])"
   ]
  },
  {
   "cell_type": "code",
   "execution_count": 25,
   "id": "incomplete-mustang",
   "metadata": {
    "execution": {
     "iopub.execute_input": "2021-01-30T12:07:36.104876Z",
     "iopub.status.busy": "2021-01-30T12:07:36.104132Z",
     "iopub.status.idle": "2021-01-30T12:07:36.106674Z",
     "shell.execute_reply": "2021-01-30T12:07:36.106126Z"
    },
    "papermill": {
     "duration": 0.043303,
     "end_time": "2021-01-30T12:07:36.106800",
     "exception": false,
     "start_time": "2021-01-30T12:07:36.063497",
     "status": "completed"
    },
    "tags": []
   },
   "outputs": [],
   "source": [
    "#hide\n",
    "# g.head()"
   ]
  },
  {
   "cell_type": "code",
   "execution_count": 26,
   "id": "specific-kruger",
   "metadata": {
    "execution": {
     "iopub.execute_input": "2021-01-30T12:07:36.187162Z",
     "iopub.status.busy": "2021-01-30T12:07:36.186512Z",
     "iopub.status.idle": "2021-01-30T12:07:36.188430Z",
     "shell.execute_reply": "2021-01-30T12:07:36.188998Z"
    },
    "papermill": {
     "duration": 0.044266,
     "end_time": "2021-01-30T12:07:36.189141",
     "exception": false,
     "start_time": "2021-01-30T12:07:36.144875",
     "status": "completed"
    },
    "tags": []
   },
   "outputs": [],
   "source": [
    "#hide\n",
    "# g.columns = ['date','country','cases']"
   ]
  },
  {
   "cell_type": "code",
   "execution_count": 27,
   "id": "tender-conversion",
   "metadata": {
    "execution": {
     "iopub.execute_input": "2021-01-30T12:07:36.267645Z",
     "iopub.status.busy": "2021-01-30T12:07:36.267006Z",
     "iopub.status.idle": "2021-01-30T12:07:36.269439Z",
     "shell.execute_reply": "2021-01-30T12:07:36.268809Z"
    },
    "papermill": {
     "duration": 0.042741,
     "end_time": "2021-01-30T12:07:36.269564",
     "exception": false,
     "start_time": "2021-01-30T12:07:36.226823",
     "status": "completed"
    },
    "tags": []
   },
   "outputs": [],
   "source": [
    "#hide\n",
    "# g['continent'] = g.country"
   ]
  },
  {
   "cell_type": "code",
   "execution_count": 28,
   "id": "substantial-wilderness",
   "metadata": {
    "execution": {
     "iopub.execute_input": "2021-01-30T12:07:36.348319Z",
     "iopub.status.busy": "2021-01-30T12:07:36.347651Z",
     "iopub.status.idle": "2021-01-30T12:07:36.349590Z",
     "shell.execute_reply": "2021-01-30T12:07:36.350152Z"
    },
    "papermill": {
     "duration": 0.042533,
     "end_time": "2021-01-30T12:07:36.350293",
     "exception": false,
     "start_time": "2021-01-30T12:07:36.307760",
     "status": "completed"
    },
    "tags": []
   },
   "outputs": [],
   "source": [
    "#hide\n",
    "# cols = list(g.columns.values)"
   ]
  },
  {
   "cell_type": "code",
   "execution_count": 29,
   "id": "solved-farming",
   "metadata": {
    "execution": {
     "iopub.execute_input": "2021-01-30T12:07:36.428388Z",
     "iopub.status.busy": "2021-01-30T12:07:36.427721Z",
     "iopub.status.idle": "2021-01-30T12:07:36.430138Z",
     "shell.execute_reply": "2021-01-30T12:07:36.429517Z"
    },
    "papermill": {
     "duration": 0.042858,
     "end_time": "2021-01-30T12:07:36.430261",
     "exception": false,
     "start_time": "2021-01-30T12:07:36.387403",
     "status": "completed"
    },
    "tags": []
   },
   "outputs": [],
   "source": [
    "#hide\n",
    "# cols.insert(0, cols.pop())"
   ]
  },
  {
   "cell_type": "code",
   "execution_count": 30,
   "id": "executed-adoption",
   "metadata": {
    "execution": {
     "iopub.execute_input": "2021-01-30T12:07:36.507293Z",
     "iopub.status.busy": "2021-01-30T12:07:36.506660Z",
     "iopub.status.idle": "2021-01-30T12:07:36.509330Z",
     "shell.execute_reply": "2021-01-30T12:07:36.508789Z"
    },
    "papermill": {
     "duration": 0.042251,
     "end_time": "2021-01-30T12:07:36.509454",
     "exception": false,
     "start_time": "2021-01-30T12:07:36.467203",
     "status": "completed"
    },
    "tags": []
   },
   "outputs": [],
   "source": [
    "#hide\n",
    "# g = g[cols]"
   ]
  },
  {
   "cell_type": "code",
   "execution_count": 31,
   "id": "subject-dublin",
   "metadata": {
    "execution": {
     "iopub.execute_input": "2021-01-30T12:07:36.587486Z",
     "iopub.status.busy": "2021-01-30T12:07:36.586849Z",
     "iopub.status.idle": "2021-01-30T12:07:36.589374Z",
     "shell.execute_reply": "2021-01-30T12:07:36.588783Z"
    },
    "papermill": {
     "duration": 0.042252,
     "end_time": "2021-01-30T12:07:36.589499",
     "exception": false,
     "start_time": "2021-01-30T12:07:36.547247",
     "status": "completed"
    },
    "tags": []
   },
   "outputs": [],
   "source": [
    "#hide\n",
    "# g['continent'] = g['continent'].map(mapping['map.continent'])"
   ]
  },
  {
   "cell_type": "code",
   "execution_count": 32,
   "id": "freelance-scout",
   "metadata": {
    "execution": {
     "iopub.execute_input": "2021-01-30T12:07:36.668658Z",
     "iopub.status.busy": "2021-01-30T12:07:36.667922Z",
     "iopub.status.idle": "2021-01-30T12:07:36.669417Z",
     "shell.execute_reply": "2021-01-30T12:07:36.670028Z"
    },
    "papermill": {
     "duration": 0.043733,
     "end_time": "2021-01-30T12:07:36.670166",
     "exception": false,
     "start_time": "2021-01-30T12:07:36.626433",
     "status": "completed"
    },
    "tags": []
   },
   "outputs": [],
   "source": [
    "#hide\n",
    "# g.head()"
   ]
  },
  {
   "cell_type": "code",
   "execution_count": 33,
   "id": "limited-engine",
   "metadata": {
    "execution": {
     "iopub.execute_input": "2021-01-30T12:07:36.747957Z",
     "iopub.status.busy": "2021-01-30T12:07:36.747325Z",
     "iopub.status.idle": "2021-01-30T12:07:36.749228Z",
     "shell.execute_reply": "2021-01-30T12:07:36.749781Z"
    },
    "papermill": {
     "duration": 0.042348,
     "end_time": "2021-01-30T12:07:36.749919",
     "exception": false,
     "start_time": "2021-01-30T12:07:36.707571",
     "status": "completed"
    },
    "tags": []
   },
   "outputs": [],
   "source": [
    "# hide\n",
    "# g['date'] = g['date'].astype('datetime64[ns]')"
   ]
  },
  {
   "cell_type": "code",
   "execution_count": 34,
   "id": "sophisticated-supervisor",
   "metadata": {
    "execution": {
     "iopub.execute_input": "2021-01-30T12:07:36.827883Z",
     "iopub.status.busy": "2021-01-30T12:07:36.827251Z",
     "iopub.status.idle": "2021-01-30T12:07:36.829179Z",
     "shell.execute_reply": "2021-01-30T12:07:36.829674Z"
    },
    "papermill": {
     "duration": 0.042372,
     "end_time": "2021-01-30T12:07:36.829813",
     "exception": false,
     "start_time": "2021-01-30T12:07:36.787441",
     "status": "completed"
    },
    "tags": []
   },
   "outputs": [],
   "source": [
    "#hide\n",
    "# g['date'] = g.date.dt.dayofyear"
   ]
  },
  {
   "cell_type": "code",
   "execution_count": 35,
   "id": "inside-dubai",
   "metadata": {
    "execution": {
     "iopub.execute_input": "2021-01-30T12:07:36.909171Z",
     "iopub.status.busy": "2021-01-30T12:07:36.908525Z",
     "iopub.status.idle": "2021-01-30T12:07:36.911381Z",
     "shell.execute_reply": "2021-01-30T12:07:36.910829Z"
    },
    "papermill": {
     "duration": 0.045521,
     "end_time": "2021-01-30T12:07:36.911507",
     "exception": false,
     "start_time": "2021-01-30T12:07:36.865986",
     "status": "completed"
    },
    "tags": []
   },
   "outputs": [],
   "source": [
    "#hide\n",
    "# g = g.rename(columns= {'continent':'group','country':'name','cases':'value'})"
   ]
  },
  {
   "cell_type": "code",
   "execution_count": 36,
   "id": "fleet-motorcycle",
   "metadata": {
    "execution": {
     "iopub.execute_input": "2021-01-30T12:07:36.993373Z",
     "iopub.status.busy": "2021-01-30T12:07:36.992720Z",
     "iopub.status.idle": "2021-01-30T12:07:36.995246Z",
     "shell.execute_reply": "2021-01-30T12:07:36.994617Z"
    },
    "papermill": {
     "duration": 0.044794,
     "end_time": "2021-01-30T12:07:36.995383",
     "exception": false,
     "start_time": "2021-01-30T12:07:36.950589",
     "status": "completed"
    },
    "tags": []
   },
   "outputs": [],
   "source": [
    "#hide\n",
    "# cols = ['name','group','day','value']"
   ]
  },
  {
   "cell_type": "code",
   "execution_count": 37,
   "id": "continued-sleeping",
   "metadata": {
    "execution": {
     "iopub.execute_input": "2021-01-30T12:07:37.078381Z",
     "iopub.status.busy": "2021-01-30T12:07:37.077745Z",
     "iopub.status.idle": "2021-01-30T12:07:37.079641Z",
     "shell.execute_reply": "2021-01-30T12:07:37.080134Z"
    },
    "papermill": {
     "duration": 0.046674,
     "end_time": "2021-01-30T12:07:37.080301",
     "exception": false,
     "start_time": "2021-01-30T12:07:37.033627",
     "status": "completed"
    },
    "tags": []
   },
   "outputs": [],
   "source": [
    "#hide\n",
    "# g.rename(columns= {'date':'day'},inplace = True)"
   ]
  },
  {
   "cell_type": "code",
   "execution_count": 38,
   "id": "major-fight",
   "metadata": {
    "execution": {
     "iopub.execute_input": "2021-01-30T12:07:37.161496Z",
     "iopub.status.busy": "2021-01-30T12:07:37.160843Z",
     "iopub.status.idle": "2021-01-30T12:07:37.163278Z",
     "shell.execute_reply": "2021-01-30T12:07:37.162724Z"
    },
    "papermill": {
     "duration": 0.04499,
     "end_time": "2021-01-30T12:07:37.163413",
     "exception": false,
     "start_time": "2021-01-30T12:07:37.118423",
     "status": "completed"
    },
    "tags": []
   },
   "outputs": [],
   "source": [
    "#hide\n",
    "# g = g[cols]"
   ]
  },
  {
   "cell_type": "code",
   "execution_count": 39,
   "id": "structured-mobile",
   "metadata": {
    "execution": {
     "iopub.execute_input": "2021-01-30T12:07:37.252341Z",
     "iopub.status.busy": "2021-01-30T12:07:37.251681Z",
     "iopub.status.idle": "2021-01-30T12:07:37.253550Z",
     "shell.execute_reply": "2021-01-30T12:07:37.254104Z"
    },
    "papermill": {
     "duration": 0.043898,
     "end_time": "2021-01-30T12:07:37.254258",
     "exception": false,
     "start_time": "2021-01-30T12:07:37.210360",
     "status": "completed"
    },
    "tags": []
   },
   "outputs": [],
   "source": [
    "# #hide\n",
    "# g = g[g.group.notna()]"
   ]
  },
  {
   "cell_type": "code",
   "execution_count": 40,
   "id": "determined-closing",
   "metadata": {
    "execution": {
     "iopub.execute_input": "2021-01-30T12:07:37.334990Z",
     "iopub.status.busy": "2021-01-30T12:07:37.334336Z",
     "iopub.status.idle": "2021-01-30T12:07:37.336987Z",
     "shell.execute_reply": "2021-01-30T12:07:37.336433Z"
    },
    "papermill": {
     "duration": 0.044111,
     "end_time": "2021-01-30T12:07:37.337121",
     "exception": false,
     "start_time": "2021-01-30T12:07:37.293010",
     "status": "completed"
    },
    "tags": []
   },
   "outputs": [],
   "source": [
    "# #hide\n",
    "# colors = dict(zip(\n",
    "#     [\"Oceania\", \"Europe\", \"Asia\", \"South America\", \"Middle East\", \"North America\", \"Africa\"],\n",
    "#     [\"#adb0ff\", \"#ffb3ff\", \"#90d595\", \"#e48381\", \"#aafbff\", \"#f7bb5f\", \"#eafb50\"]\n",
    "# ))\n",
    "# group_lk = g.set_index('name')['group'].to_dict()"
   ]
  },
  {
   "cell_type": "code",
   "execution_count": null,
   "id": "gross-drinking",
   "metadata": {
    "papermill": {
     "duration": 0.045899,
     "end_time": "2021-01-30T12:07:37.420431",
     "exception": false,
     "start_time": "2021-01-30T12:07:37.374532",
     "status": "completed"
    },
    "tags": []
   },
   "outputs": [],
   "source": []
  },
  {
   "cell_type": "code",
   "execution_count": 41,
   "id": "subject-macintosh",
   "metadata": {
    "execution": {
     "iopub.execute_input": "2021-01-30T12:07:37.502345Z",
     "iopub.status.busy": "2021-01-30T12:07:37.501684Z",
     "iopub.status.idle": "2021-01-30T12:07:37.503512Z",
     "shell.execute_reply": "2021-01-30T12:07:37.504110Z"
    },
    "papermill": {
     "duration": 0.044131,
     "end_time": "2021-01-30T12:07:37.504260",
     "exception": false,
     "start_time": "2021-01-30T12:07:37.460129",
     "status": "completed"
    },
    "tags": []
   },
   "outputs": [],
   "source": [
    "# #hide\n",
    "# fig, ax = plt.subplots(figsize=(15, 8))\n",
    "\n",
    "# def draw_barchart(current_day):\n",
    "#     dff = g[g['day'].eq(current_day)].sort_values(by='value', ascending=True).tail(10)\n",
    "#     ax.clear()\n",
    "#     ax.barh(dff['name'], dff['value'], color=[colors[group_lk[x]] for x in dff['name']])\n",
    "#     dx = dff['value'].max() / 200\n",
    "    \n",
    "#     for i, (value, name) in enumerate(zip(dff['value'], dff['name'])):\n",
    "#         ax.text(value-dx, i,     name,           size=14, weight=600, ha='right', va='bottom')\n",
    "#         ax.text(value-dx, i-.25, group_lk[name], size=10, color='#444444', ha='right', va='baseline')\n",
    "#         ax.text(value+dx, i,     f'{value:,.0f}',  size=14, ha='left',  va='center')\n",
    "#     ax.text(1, 0.4, current_day, transform=ax.transAxes, color='#777777', size=46, ha='right', weight=800)\n",
    "#     ax.text(0, 1.06, 'Population (thousands)', transform=ax.transAxes, size=12, color='#777777')\n",
    "#     ax.xaxis.set_major_formatter(ticker.StrMethodFormatter('{x:,.0f}'))\n",
    "#     ax.xaxis.set_ticks_position('top')\n",
    "#     ax.tick_params(axis='x', colors='#777777', labelsize=12)\n",
    "#     ax.set_yticks([])\n",
    "#     ax.margins(0, 0.01)\n",
    "#     ax.grid(which='major', axis='x', linestyle='-')\n",
    "#     ax.set_axisbelow(True)\n",
    "    \n",
    "#     ax.text(0, 1.15, 'Coronavirus',\n",
    "#             transform=ax.transAxes, size=24, weight=600, ha='left', va='top')\n",
    "# #     ax.text(1, 0, 'by @pratapvardhan; credit @jburnmurdoch', transform=ax.transAxes, color='#777777', ha='right',\n",
    "# #             bbox=dict(facecolor='white', alpha=0.8, edgecolor='white'))\n",
    "#     plt.box(False)"
   ]
  },
  {
   "cell_type": "code",
   "execution_count": 42,
   "id": "sexual-wages",
   "metadata": {
    "execution": {
     "iopub.execute_input": "2021-01-30T12:07:37.582357Z",
     "iopub.status.busy": "2021-01-30T12:07:37.581702Z",
     "iopub.status.idle": "2021-01-30T12:07:37.584190Z",
     "shell.execute_reply": "2021-01-30T12:07:37.583637Z"
    },
    "papermill": {
     "duration": 0.042409,
     "end_time": "2021-01-30T12:07:37.584343",
     "exception": false,
     "start_time": "2021-01-30T12:07:37.541934",
     "status": "completed"
    },
    "tags": []
   },
   "outputs": [],
   "source": [
    "# #hide_input\n",
    "# fig, ax = plt.subplots(figsize=(15, 8))\n",
    "# animator = animation.FuncAnimation(fig, draw_barchart, frames=range(g.day.values.min(), g.day.values.max()))\n",
    "# HTML(animator.to_jshtml())\n",
    "# # or use animator.to_html5_video() or animator.save() "
   ]
  },
  {
   "cell_type": "code",
   "execution_count": null,
   "id": "australian-container",
   "metadata": {
    "papermill": {
     "duration": 0.038091,
     "end_time": "2021-01-30T12:07:37.662341",
     "exception": false,
     "start_time": "2021-01-30T12:07:37.624250",
     "status": "completed"
    },
    "tags": []
   },
   "outputs": [],
   "source": []
  },
  {
   "cell_type": "code",
   "execution_count": null,
   "id": "mediterranean-pontiac",
   "metadata": {
    "papermill": {
     "duration": 0.037485,
     "end_time": "2021-01-30T12:07:37.737976",
     "exception": false,
     "start_time": "2021-01-30T12:07:37.700491",
     "status": "completed"
    },
    "tags": []
   },
   "outputs": [],
   "source": []
  },
  {
   "cell_type": "code",
   "execution_count": null,
   "id": "aging-legislature",
   "metadata": {
    "papermill": {
     "duration": 0.037955,
     "end_time": "2021-01-30T12:07:37.813948",
     "exception": false,
     "start_time": "2021-01-30T12:07:37.775993",
     "status": "completed"
    },
    "tags": []
   },
   "outputs": [],
   "source": []
  }
 ],
 "metadata": {
  "kernelspec": {
   "display_name": "Python 3",
   "language": "python",
   "name": "python3"
  },
  "language_info": {
   "codemirror_mode": {
    "name": "ipython",
    "version": 3
   },
   "file_extension": ".py",
   "mimetype": "text/x-python",
   "name": "python",
   "nbconvert_exporter": "python",
   "pygments_lexer": "ipython3",
   "version": "3.6.12"
  },
  "papermill": {
   "duration": 7.087676,
   "end_time": "2021-01-30T12:07:38.161703",
   "environment_variables": {},
   "exception": null,
   "input_path": "2020-03-21-covid19exp.ipynb",
   "output_path": "2020-03-21-covid19exp.ipynb",
   "parameters": {},
   "start_time": "2021-01-30T12:07:31.074027",
   "version": "2.0.0"
  }
 },
 "nbformat": 4,
 "nbformat_minor": 5
}