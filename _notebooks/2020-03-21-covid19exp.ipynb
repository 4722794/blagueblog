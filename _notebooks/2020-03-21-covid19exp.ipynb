{
 "cells": [
  {
   "cell_type": "markdown",
   "id": "muslim-click",
   "metadata": {
    "papermill": {
     "duration": 0.045454,
     "end_time": "2022-04-29T12:16:17.030758",
     "exception": false,
     "start_time": "2022-04-29T12:16:16.985304",
     "status": "completed"
    },
    "tags": []
   },
   "source": [
    "# COVID-19 Case Race\n",
    "> A race chart to see rising cases around the world\n",
    "\n",
    "- author: Hargun Oberoi\n",
    "- image: images/covid-overview.png\n",
    "- hide: false\n",
    "- badges: false"
   ]
  },
  {
   "cell_type": "code",
   "execution_count": 1,
   "id": "proof-material",
   "metadata": {
    "execution": {
     "iopub.execute_input": "2022-04-29T12:16:17.134663Z",
     "iopub.status.busy": "2022-04-29T12:16:17.131137Z",
     "iopub.status.idle": "2022-04-29T12:16:17.553483Z",
     "shell.execute_reply": "2022-04-29T12:16:17.552369Z"
    },
    "papermill": {
     "duration": 0.470797,
     "end_time": "2022-04-29T12:16:17.553653",
     "exception": false,
     "start_time": "2022-04-29T12:16:17.082856",
     "status": "completed"
    },
    "tags": []
   },
   "outputs": [],
   "source": [
    "#hide\n",
    "import numpy as np\n",
    "import pandas as pd\n",
    "from jinja2 import Template\n",
    "from IPython.display import HTML"
   ]
  },
  {
   "cell_type": "code",
   "execution_count": 2,
   "id": "developed-terminology",
   "metadata": {
    "execution": {
     "iopub.execute_input": "2022-04-29T12:16:17.643100Z",
     "iopub.status.busy": "2022-04-29T12:16:17.642419Z",
     "iopub.status.idle": "2022-04-29T12:16:17.644388Z",
     "shell.execute_reply": "2022-04-29T12:16:17.643830Z"
    },
    "papermill": {
     "duration": 0.047827,
     "end_time": "2022-04-29T12:16:17.644517",
     "exception": false,
     "start_time": "2022-04-29T12:16:17.596690",
     "status": "completed"
    },
    "tags": []
   },
   "outputs": [],
   "source": [
    "#hide\n",
    "\n",
    "# FETCH\n",
    "base_url = 'https://raw.githubusercontent.com/pratapvardhan/notebooks/master/covid19/'\n",
    "paths = {\n",
    "    'mapping': base_url + 'mapping_countries.csv',\n",
    "    'overview': base_url + 'overview.tpl'\n",
    "}"
   ]
  },
  {
   "cell_type": "code",
   "execution_count": 3,
   "id": "dynamic-saver",
   "metadata": {
    "execution": {
     "iopub.execute_input": "2022-04-29T12:16:17.731814Z",
     "iopub.status.busy": "2022-04-29T12:16:17.731139Z",
     "iopub.status.idle": "2022-04-29T12:16:17.734747Z",
     "shell.execute_reply": "2022-04-29T12:16:17.735374Z"
    },
    "papermill": {
     "duration": 0.052981,
     "end_time": "2022-04-29T12:16:17.735510",
     "exception": false,
     "start_time": "2022-04-29T12:16:17.682529",
     "status": "completed"
    },
    "tags": []
   },
   "outputs": [
    {
     "data": {
      "text/plain": [
       "'https://raw.githubusercontent.com/pratapvardhan/notebooks/master/covid19/mapping_countries.csv'"
      ]
     },
     "execution_count": 3,
     "metadata": {},
     "output_type": "execute_result"
    }
   ],
   "source": [
    "#hide\n",
    "paths['mapping']"
   ]
  },
  {
   "cell_type": "code",
   "execution_count": 4,
   "id": "urban-software",
   "metadata": {
    "execution": {
     "iopub.execute_input": "2022-04-29T12:16:17.817110Z",
     "iopub.status.busy": "2022-04-29T12:16:17.816344Z",
     "iopub.status.idle": "2022-04-29T12:16:17.820158Z",
     "shell.execute_reply": "2022-04-29T12:16:17.819572Z"
    },
    "papermill": {
     "duration": 0.04737,
     "end_time": "2022-04-29T12:16:17.820295",
     "exception": false,
     "start_time": "2022-04-29T12:16:17.772925",
     "status": "completed"
    },
    "tags": []
   },
   "outputs": [],
   "source": [
    "#hide\n",
    "def get_mappings(url):\n",
    "    df = pd.read_csv(url)\n",
    "    return {\n",
    "        'df': df,\n",
    "        'replace.country': dict(df.dropna(subset=['Name']).set_index('Country')['Name']),\n",
    "        'map.continent': dict(df.set_index('Name')['Continent'])\n",
    "    }"
   ]
  },
  {
   "cell_type": "code",
   "execution_count": 5,
   "id": "intimate-machinery",
   "metadata": {
    "execution": {
     "iopub.execute_input": "2022-04-29T12:16:17.902951Z",
     "iopub.status.busy": "2022-04-29T12:16:17.902251Z",
     "iopub.status.idle": "2022-04-29T12:16:17.934046Z",
     "shell.execute_reply": "2022-04-29T12:16:17.933443Z"
    },
    "papermill": {
     "duration": 0.075484,
     "end_time": "2022-04-29T12:16:17.934191",
     "exception": false,
     "start_time": "2022-04-29T12:16:17.858707",
     "status": "completed"
    },
    "tags": []
   },
   "outputs": [],
   "source": [
    "#hide\n",
    "mapping = get_mappings(paths['mapping'])"
   ]
  },
  {
   "cell_type": "code",
   "execution_count": 6,
   "id": "certified-tactics",
   "metadata": {
    "execution": {
     "iopub.execute_input": "2022-04-29T12:16:18.017055Z",
     "iopub.status.busy": "2022-04-29T12:16:18.016343Z",
     "iopub.status.idle": "2022-04-29T12:16:18.019153Z",
     "shell.execute_reply": "2022-04-29T12:16:18.018578Z"
    },
    "papermill": {
     "duration": 0.0465,
     "end_time": "2022-04-29T12:16:18.019290",
     "exception": false,
     "start_time": "2022-04-29T12:16:17.972790",
     "status": "completed"
    },
    "tags": []
   },
   "outputs": [],
   "source": [
    "#hide\n",
    "def get_template(path):\n",
    "    from urllib.parse import urlparse\n",
    "    if bool(urlparse(path).netloc):\n",
    "        from urllib.request import urlopen\n",
    "        return urlopen(path).read().decode('utf8')\n",
    "    return open(path).read()"
   ]
  },
  {
   "cell_type": "code",
   "execution_count": 7,
   "id": "realistic-blast",
   "metadata": {
    "execution": {
     "iopub.execute_input": "2022-04-29T12:16:18.103842Z",
     "iopub.status.busy": "2022-04-29T12:16:18.103165Z",
     "iopub.status.idle": "2022-04-29T12:16:18.105753Z",
     "shell.execute_reply": "2022-04-29T12:16:18.105174Z"
    },
    "papermill": {
     "duration": 0.045625,
     "end_time": "2022-04-29T12:16:18.105889",
     "exception": false,
     "start_time": "2022-04-29T12:16:18.060264",
     "status": "completed"
    },
    "tags": []
   },
   "outputs": [],
   "source": [
    "#hide\n",
    "def get_frame(name):\n",
    "    url = (\n",
    "        'https://raw.githubusercontent.com/CSSEGISandData/COVID-19/master/csse_covid_19_data/'\n",
    "        f'csse_covid_19_time_series/time_series_covid19_{name}_global.csv')\n",
    "    df = pd.read_csv(url)\n",
    "    # rename countries\n",
    "    df['Country/Region'] = df['Country/Region'].replace(mapping['replace.country'])\n",
    "    return df"
   ]
  },
  {
   "cell_type": "code",
   "execution_count": 8,
   "id": "affiliated-characterization",
   "metadata": {
    "execution": {
     "iopub.execute_input": "2022-04-29T12:16:18.187874Z",
     "iopub.status.busy": "2022-04-29T12:16:18.187107Z",
     "iopub.status.idle": "2022-04-29T12:16:18.189214Z",
     "shell.execute_reply": "2022-04-29T12:16:18.189765Z"
    },
    "papermill": {
     "duration": 0.046393,
     "end_time": "2022-04-29T12:16:18.189923",
     "exception": false,
     "start_time": "2022-04-29T12:16:18.143530",
     "status": "completed"
    },
    "tags": []
   },
   "outputs": [],
   "source": [
    "#hide\n",
    "def get_dates(df):\n",
    "    dt_cols = df.columns[~df.columns.isin(['Province/State', 'Country/Region', 'Lat', 'Long'])]\n",
    "    LAST_DATE_I = -1\n",
    "    # sometimes last column may be empty, then go backwards\n",
    "    for i in range(-1, -len(dt_cols), -1):\n",
    "        if not df[dt_cols[i]].fillna(0).eq(0).all():\n",
    "            LAST_DATE_I = i\n",
    "            break\n",
    "    return LAST_DATE_I, dt_cols"
   ]
  },
  {
   "cell_type": "code",
   "execution_count": 9,
   "id": "recent-optimization",
   "metadata": {
    "execution": {
     "iopub.execute_input": "2022-04-29T12:16:18.269843Z",
     "iopub.status.busy": "2022-04-29T12:16:18.269100Z",
     "iopub.status.idle": "2022-04-29T12:16:18.683703Z",
     "shell.execute_reply": "2022-04-29T12:16:18.684395Z"
    },
    "papermill": {
     "duration": 0.456305,
     "end_time": "2022-04-29T12:16:18.684572",
     "exception": false,
     "start_time": "2022-04-29T12:16:18.228267",
     "status": "completed"
    },
    "tags": []
   },
   "outputs": [],
   "source": [
    "#hide\n",
    "COL_REGION = 'Country/Region'\n",
    "# Confirmed, Recovered, Deaths\n",
    "df = get_frame('confirmed')\n",
    "# dft_: timeseries, dfc_: today country agg\n",
    "dft_cases = df\n",
    "dft_deaths = get_frame('deaths')\n",
    "dft_recovered = get_frame('recovered')\n",
    "LAST_DATE_I, dt_cols = get_dates(df)"
   ]
  },
  {
   "cell_type": "code",
   "execution_count": 10,
   "id": "absolute-copper",
   "metadata": {
    "execution": {
     "iopub.execute_input": "2022-04-29T12:16:18.769778Z",
     "iopub.status.busy": "2022-04-29T12:16:18.769139Z",
     "iopub.status.idle": "2022-04-29T12:16:18.771389Z",
     "shell.execute_reply": "2022-04-29T12:16:18.772049Z"
    },
    "papermill": {
     "duration": 0.047824,
     "end_time": "2022-04-29T12:16:18.772195",
     "exception": false,
     "start_time": "2022-04-29T12:16:18.724371",
     "status": "completed"
    },
    "tags": []
   },
   "outputs": [],
   "source": [
    "#hide\n",
    "LAST_DATE_I, dt_cols = get_dates(df)\n",
    "dt_today =dt_cols[LAST_DATE_I]\n",
    "# dt_5day = dt_cols[LAST_DATE_I - 5]\n",
    "dt_yday = dt_cols[LAST_DATE_I - 1]"
   ]
  },
  {
   "cell_type": "code",
   "execution_count": 11,
   "id": "restricted-sheriff",
   "metadata": {
    "execution": {
     "iopub.execute_input": "2022-04-29T12:16:18.854543Z",
     "iopub.status.busy": "2022-04-29T12:16:18.853864Z",
     "iopub.status.idle": "2022-04-29T12:16:18.862775Z",
     "shell.execute_reply": "2022-04-29T12:16:18.863411Z"
    },
    "papermill": {
     "duration": 0.053097,
     "end_time": "2022-04-29T12:16:18.863590",
     "exception": false,
     "start_time": "2022-04-29T12:16:18.810493",
     "status": "completed"
    },
    "tags": []
   },
   "outputs": [],
   "source": [
    "#hide\n",
    "dfc_cases = dft_cases.groupby(COL_REGION)[dt_today].sum()\n",
    "dfc_deaths = dft_deaths.groupby(COL_REGION)[dt_today].sum()\n",
    "# dfp_cases = dft_cases.groupby(COL_REGION)[dt_5day].sum()\n",
    "# dfp_deaths = dft_deaths.groupby(COL_REGION)[dt_5day].sum()\n",
    "dfp_cases = dft_cases.groupby(COL_REGION)[dt_yday].sum()\n",
    "dfp_deaths = dft_deaths.groupby(COL_REGION)[dt_yday].sum()"
   ]
  },
  {
   "cell_type": "code",
   "execution_count": 12,
   "id": "deluxe-hepatitis",
   "metadata": {
    "execution": {
     "iopub.execute_input": "2022-04-29T12:16:18.953998Z",
     "iopub.status.busy": "2022-04-29T12:16:18.953310Z",
     "iopub.status.idle": "2022-04-29T12:16:18.958610Z",
     "shell.execute_reply": "2022-04-29T12:16:18.957884Z"
    },
    "papermill": {
     "duration": 0.054586,
     "end_time": "2022-04-29T12:16:18.958838",
     "exception": false,
     "start_time": "2022-04-29T12:16:18.904252",
     "status": "completed"
    },
    "tags": []
   },
   "outputs": [],
   "source": [
    "#hide\n",
    "df_table = (pd.DataFrame(dict(Cases = dfc_cases, Deaths = dfc_deaths, PCases = dfp_cases, PDeaths = dfp_deaths))\n",
    "            .sort_values(by = ['Cases','Deaths'], ascending = [False, False])\n",
    "            .reset_index())"
   ]
  },
  {
   "cell_type": "code",
   "execution_count": 13,
   "id": "educational-chancellor",
   "metadata": {
    "execution": {
     "iopub.execute_input": "2022-04-29T12:16:19.064264Z",
     "iopub.status.busy": "2022-04-29T12:16:19.058288Z",
     "iopub.status.idle": "2022-04-29T12:16:19.068147Z",
     "shell.execute_reply": "2022-04-29T12:16:19.068823Z"
    },
    "papermill": {
     "duration": 0.07138,
     "end_time": "2022-04-29T12:16:19.068993",
     "exception": false,
     "start_time": "2022-04-29T12:16:18.997613",
     "status": "completed"
    },
    "tags": []
   },
   "outputs": [
    {
     "data": {
      "text/html": [
       "<div>\n",
       "<style scoped>\n",
       "    .dataframe tbody tr th:only-of-type {\n",
       "        vertical-align: middle;\n",
       "    }\n",
       "\n",
       "    .dataframe tbody tr th {\n",
       "        vertical-align: top;\n",
       "    }\n",
       "\n",
       "    .dataframe thead th {\n",
       "        text-align: right;\n",
       "    }\n",
       "</style>\n",
       "<table border=\"1\" class=\"dataframe\">\n",
       "  <thead>\n",
       "    <tr style=\"text-align: right;\">\n",
       "      <th></th>\n",
       "      <th>Country/Region</th>\n",
       "      <th>Cases</th>\n",
       "      <th>Deaths</th>\n",
       "      <th>PCases</th>\n",
       "      <th>PDeaths</th>\n",
       "      <th>Cases (+)</th>\n",
       "      <th>Deaths (+)</th>\n",
       "      <th>Fatality Rate</th>\n",
       "      <th>Continent</th>\n",
       "    </tr>\n",
       "  </thead>\n",
       "  <tbody>\n",
       "    <tr>\n",
       "      <th>0</th>\n",
       "      <td>US</td>\n",
       "      <td>81251631</td>\n",
       "      <td>993164</td>\n",
       "      <td>81189379</td>\n",
       "      <td>992740</td>\n",
       "      <td>62252</td>\n",
       "      <td>424</td>\n",
       "      <td>1.22</td>\n",
       "      <td>North America</td>\n",
       "    </tr>\n",
       "    <tr>\n",
       "      <th>1</th>\n",
       "      <td>India</td>\n",
       "      <td>43072176</td>\n",
       "      <td>523753</td>\n",
       "      <td>43068799</td>\n",
       "      <td>523693</td>\n",
       "      <td>3377</td>\n",
       "      <td>60</td>\n",
       "      <td>1.22</td>\n",
       "      <td>Asia</td>\n",
       "    </tr>\n",
       "    <tr>\n",
       "      <th>2</th>\n",
       "      <td>Brazil</td>\n",
       "      <td>30418920</td>\n",
       "      <td>663464</td>\n",
       "      <td>30399004</td>\n",
       "      <td>663350</td>\n",
       "      <td>19916</td>\n",
       "      <td>114</td>\n",
       "      <td>2.18</td>\n",
       "      <td>South America</td>\n",
       "    </tr>\n",
       "    <tr>\n",
       "      <th>3</th>\n",
       "      <td>France</td>\n",
       "      <td>28733434</td>\n",
       "      <td>146748</td>\n",
       "      <td>28673411</td>\n",
       "      <td>146616</td>\n",
       "      <td>60023</td>\n",
       "      <td>132</td>\n",
       "      <td>0.51</td>\n",
       "      <td>Europe</td>\n",
       "    </tr>\n",
       "    <tr>\n",
       "      <th>4</th>\n",
       "      <td>Germany</td>\n",
       "      <td>24710769</td>\n",
       "      <td>135292</td>\n",
       "      <td>24609159</td>\n",
       "      <td>135078</td>\n",
       "      <td>101610</td>\n",
       "      <td>214</td>\n",
       "      <td>0.55</td>\n",
       "      <td>Europe</td>\n",
       "    </tr>\n",
       "  </tbody>\n",
       "</table>\n",
       "</div>"
      ],
      "text/plain": [
       "  Country/Region     Cases  Deaths    PCases  PDeaths  Cases (+)  Deaths (+)  \\\n",
       "0             US  81251631  993164  81189379   992740      62252         424   \n",
       "1          India  43072176  523753  43068799   523693       3377          60   \n",
       "2         Brazil  30418920  663464  30399004   663350      19916         114   \n",
       "3         France  28733434  146748  28673411   146616      60023         132   \n",
       "4        Germany  24710769  135292  24609159   135078     101610         214   \n",
       "\n",
       "   Fatality Rate      Continent  \n",
       "0           1.22  North America  \n",
       "1           1.22           Asia  \n",
       "2           2.18  South America  \n",
       "3           0.51         Europe  \n",
       "4           0.55         Europe  "
      ]
     },
     "execution_count": 13,
     "metadata": {},
     "output_type": "execute_result"
    }
   ],
   "source": [
    "#hide\n",
    "for c in 'Cases, Deaths'.split(', '):\n",
    "    df_table[f'{c} (+)'] = (df_table[c] - df_table[f'P{c}']).clip(0)\n",
    "    #Clip ça veut dire, les chiffres negatif sont interdit\n",
    "df_table['Fatality Rate'] = (100* df_table['Deaths']/ df_table['Cases']).round(2)\n",
    "df_table['Continent'] = df_table['Country/Region'].map(mapping['map.continent'])\n",
    "df_table.head(5)"
   ]
  },
  {
   "cell_type": "code",
   "execution_count": 14,
   "id": "aboriginal-bulgaria",
   "metadata": {
    "execution": {
     "iopub.execute_input": "2022-04-29T12:16:19.152173Z",
     "iopub.status.busy": "2022-04-29T12:16:19.151473Z",
     "iopub.status.idle": "2022-04-29T12:16:19.154706Z",
     "shell.execute_reply": "2022-04-29T12:16:19.155354Z"
    },
    "papermill": {
     "duration": 0.046713,
     "end_time": "2022-04-29T12:16:19.155503",
     "exception": false,
     "start_time": "2022-04-29T12:16:19.108790",
     "status": "completed"
    },
    "tags": []
   },
   "outputs": [],
   "source": [
    "#hide\n",
    "#delete problematic countries from table\n",
    "df_table = df_table[~df_table['Country/Region'].isin(['Cape Verde', 'Cruise Ship', 'Kosovo'])]"
   ]
  },
  {
   "cell_type": "code",
   "execution_count": 15,
   "id": "fantastic-effect",
   "metadata": {
    "execution": {
     "iopub.execute_input": "2022-04-29T12:16:19.239174Z",
     "iopub.status.busy": "2022-04-29T12:16:19.238459Z",
     "iopub.status.idle": "2022-04-29T12:16:19.261355Z",
     "shell.execute_reply": "2022-04-29T12:16:19.260730Z"
    },
    "papermill": {
     "duration": 0.069879,
     "end_time": "2022-04-29T12:16:19.261500",
     "exception": false,
     "start_time": "2022-04-29T12:16:19.191621",
     "status": "completed"
    },
    "tags": []
   },
   "outputs": [
    {
     "data": {
      "text/html": [
       "<div>\n",
       "<style scoped>\n",
       "    .dataframe tbody tr th:only-of-type {\n",
       "        vertical-align: middle;\n",
       "    }\n",
       "\n",
       "    .dataframe tbody tr th {\n",
       "        vertical-align: top;\n",
       "    }\n",
       "\n",
       "    .dataframe thead th {\n",
       "        text-align: right;\n",
       "    }\n",
       "</style>\n",
       "<table border=\"1\" class=\"dataframe\">\n",
       "  <thead>\n",
       "    <tr style=\"text-align: right;\">\n",
       "      <th></th>\n",
       "      <th>Country/Region</th>\n",
       "      <th>Cases</th>\n",
       "      <th>Deaths</th>\n",
       "      <th>PCases</th>\n",
       "      <th>PDeaths</th>\n",
       "      <th>Cases (+)</th>\n",
       "      <th>Deaths (+)</th>\n",
       "      <th>Fatality Rate</th>\n",
       "      <th>Continent</th>\n",
       "    </tr>\n",
       "  </thead>\n",
       "  <tbody>\n",
       "    <tr>\n",
       "      <th>0</th>\n",
       "      <td>US</td>\n",
       "      <td>81251631</td>\n",
       "      <td>993164</td>\n",
       "      <td>81189379</td>\n",
       "      <td>992740</td>\n",
       "      <td>62252</td>\n",
       "      <td>424</td>\n",
       "      <td>1.2</td>\n",
       "      <td>North America</td>\n",
       "    </tr>\n",
       "    <tr>\n",
       "      <th>1</th>\n",
       "      <td>India</td>\n",
       "      <td>43072176</td>\n",
       "      <td>523753</td>\n",
       "      <td>43068799</td>\n",
       "      <td>523693</td>\n",
       "      <td>3377</td>\n",
       "      <td>60</td>\n",
       "      <td>1.2</td>\n",
       "      <td>Asia</td>\n",
       "    </tr>\n",
       "    <tr>\n",
       "      <th>2</th>\n",
       "      <td>Brazil</td>\n",
       "      <td>30418920</td>\n",
       "      <td>663464</td>\n",
       "      <td>30399004</td>\n",
       "      <td>663350</td>\n",
       "      <td>19916</td>\n",
       "      <td>114</td>\n",
       "      <td>2.2</td>\n",
       "      <td>South America</td>\n",
       "    </tr>\n",
       "    <tr>\n",
       "      <th>3</th>\n",
       "      <td>France</td>\n",
       "      <td>28733434</td>\n",
       "      <td>146748</td>\n",
       "      <td>28673411</td>\n",
       "      <td>146616</td>\n",
       "      <td>60023</td>\n",
       "      <td>132</td>\n",
       "      <td>0.5</td>\n",
       "      <td>Europe</td>\n",
       "    </tr>\n",
       "    <tr>\n",
       "      <th>4</th>\n",
       "      <td>Germany</td>\n",
       "      <td>24710769</td>\n",
       "      <td>135292</td>\n",
       "      <td>24609159</td>\n",
       "      <td>135078</td>\n",
       "      <td>101610</td>\n",
       "      <td>214</td>\n",
       "      <td>0.5</td>\n",
       "      <td>Europe</td>\n",
       "    </tr>\n",
       "  </tbody>\n",
       "</table>\n",
       "</div>"
      ],
      "text/plain": [
       "  Country/Region     Cases  Deaths    PCases  PDeaths  Cases (+)  Deaths (+)  \\\n",
       "0             US  81251631  993164  81189379   992740      62252         424   \n",
       "1          India  43072176  523753  43068799   523693       3377          60   \n",
       "2         Brazil  30418920  663464  30399004   663350      19916         114   \n",
       "3         France  28733434  146748  28673411   146616      60023         132   \n",
       "4        Germany  24710769  135292  24609159   135078     101610         214   \n",
       "\n",
       "   Fatality Rate      Continent  \n",
       "0            1.2  North America  \n",
       "1            1.2           Asia  \n",
       "2            2.2  South America  \n",
       "3            0.5         Europe  \n",
       "4            0.5         Europe  "
      ]
     },
     "execution_count": 15,
     "metadata": {},
     "output_type": "execute_result"
    }
   ],
   "source": [
    "#hide\n",
    "df_table = (pd.DataFrame(dict(Cases=dfc_cases, Deaths=dfc_deaths, PCases=dfp_cases, PDeaths=dfp_deaths))\n",
    "             .sort_values(by=['Cases', 'Deaths'], ascending=[False, False])\n",
    "             .reset_index())\n",
    "df_table.rename(columns={'index': 'Country/Region'}, inplace=True)\n",
    "for c in 'Cases, Deaths'.split(', '):\n",
    "    df_table[f'{c} (+)'] = (df_table[c] - df_table[f'P{c}']).clip(0)  # DATA BUG\n",
    "df_table['Fatality Rate'] = (100 * df_table['Deaths'] / df_table['Cases']).round(1)\n",
    "df_table['Continent'] = df_table['Country/Region'].map(mapping['map.continent'])\n",
    "df_table.head(5)"
   ]
  },
  {
   "cell_type": "code",
   "execution_count": 16,
   "id": "fewer-occasion",
   "metadata": {
    "execution": {
     "iopub.execute_input": "2022-04-29T12:16:19.353908Z",
     "iopub.status.busy": "2022-04-29T12:16:19.353219Z",
     "iopub.status.idle": "2022-04-29T12:16:19.355745Z",
     "shell.execute_reply": "2022-04-29T12:16:19.355080Z"
    },
    "papermill": {
     "duration": 0.049086,
     "end_time": "2022-04-29T12:16:19.356030",
     "exception": false,
     "start_time": "2022-04-29T12:16:19.306944",
     "status": "completed"
    },
    "tags": []
   },
   "outputs": [],
   "source": [
    "#hide\n",
    "#delete problematic countries from table\n",
    "df_table = df_table[~df_table['Country/Region'].isin(['Cape Verde', 'Cruise Ship', 'Kosovo'])]"
   ]
  },
  {
   "cell_type": "code",
   "execution_count": 17,
   "id": "related-center",
   "metadata": {
    "execution": {
     "iopub.execute_input": "2022-04-29T12:16:19.455253Z",
     "iopub.status.busy": "2022-04-29T12:16:19.454548Z",
     "iopub.status.idle": "2022-04-29T12:16:19.456683Z",
     "shell.execute_reply": "2022-04-29T12:16:19.457252Z"
    },
    "papermill": {
     "duration": 0.062955,
     "end_time": "2022-04-29T12:16:19.457406",
     "exception": false,
     "start_time": "2022-04-29T12:16:19.394451",
     "status": "completed"
    },
    "tags": []
   },
   "outputs": [],
   "source": [
    "#hide\n",
    "metrics = [df_table.columns[index] for index in [1,2,5,6]]\n",
    "# s_china = df_table[df_table['Country/Region'].eq('China')][metrics].sum().add_prefix('China ')\n",
    "s_us = df_table[df_table['Country/Region'].eq('US')][metrics].sum().add_prefix('US ')\n",
    "s_eu = df_table[df_table['Continent'].eq('Europe')][metrics].sum().add_prefix('EU ')\n",
    "s_ind = df_table[df_table['Country/Region'].eq('India')][metrics].sum().add_prefix('India ')\n",
    "summary = {'updated': pd.to_datetime(dt_today), 'since': pd.to_datetime(dt_yday)}\n",
    "summary = {'updated': pd.to_datetime(dt_today), 'since': pd.to_datetime(dt_yday)}\n",
    "summary = {**summary, **df_table[metrics].sum(), **s_ind, **s_us, **s_eu}"
   ]
  },
  {
   "cell_type": "code",
   "execution_count": 18,
   "id": "engaging-syndrome",
   "metadata": {
    "execution": {
     "iopub.execute_input": "2022-04-29T12:16:19.546894Z",
     "iopub.status.busy": "2022-04-29T12:16:19.546215Z",
     "iopub.status.idle": "2022-04-29T12:16:19.566048Z",
     "shell.execute_reply": "2022-04-29T12:16:19.565472Z"
    },
    "papermill": {
     "duration": 0.070593,
     "end_time": "2022-04-29T12:16:19.566202",
     "exception": false,
     "start_time": "2022-04-29T12:16:19.495609",
     "status": "completed"
    },
    "tags": []
   },
   "outputs": [],
   "source": [
    "#hide\n",
    "dft_ct_new_cases = dft_cases.groupby(COL_REGION)[dt_cols].sum().diff(axis=1).fillna(0).astype(int)"
   ]
  },
  {
   "cell_type": "code",
   "execution_count": 19,
   "id": "neutral-assignment",
   "metadata": {
    "execution": {
     "iopub.execute_input": "2022-04-29T12:16:19.655555Z",
     "iopub.status.busy": "2022-04-29T12:16:19.654873Z",
     "iopub.status.idle": "2022-04-29T12:16:19.657521Z",
     "shell.execute_reply": "2022-04-29T12:16:19.656945Z"
    },
    "papermill": {
     "duration": 0.048637,
     "end_time": "2022-04-29T12:16:19.657649",
     "exception": false,
     "start_time": "2022-04-29T12:16:19.609012",
     "status": "completed"
    },
    "tags": []
   },
   "outputs": [],
   "source": [
    "#hide\n",
    "everydaycases = dft_ct_new_cases.cumsum(axis=1)"
   ]
  },
  {
   "cell_type": "code",
   "execution_count": 20,
   "id": "parliamentary-calgary",
   "metadata": {
    "execution": {
     "iopub.execute_input": "2022-04-29T12:16:19.742665Z",
     "iopub.status.busy": "2022-04-29T12:16:19.741984Z",
     "iopub.status.idle": "2022-04-29T12:16:20.489601Z",
     "shell.execute_reply": "2022-04-29T12:16:20.489013Z"
    },
    "papermill": {
     "duration": 0.791449,
     "end_time": "2022-04-29T12:16:20.489752",
     "exception": false,
     "start_time": "2022-04-29T12:16:19.698303",
     "status": "completed"
    },
    "tags": []
   },
   "outputs": [],
   "source": [
    "#hide\n",
    "import pandas as pd\n",
    "import matplotlib.pyplot as plt\n",
    "import matplotlib.ticker as ticker\n",
    "import matplotlib.animation as animation\n",
    "from IPython.display import HTML"
   ]
  },
  {
   "cell_type": "code",
   "execution_count": 21,
   "id": "lasting-extraction",
   "metadata": {
    "execution": {
     "iopub.execute_input": "2022-04-29T12:16:20.580069Z",
     "iopub.status.busy": "2022-04-29T12:16:20.579127Z",
     "iopub.status.idle": "2022-04-29T12:16:20.586431Z",
     "shell.execute_reply": "2022-04-29T12:16:20.587134Z"
    },
    "papermill": {
     "duration": 0.053954,
     "end_time": "2022-04-29T12:16:20.587298",
     "exception": false,
     "start_time": "2022-04-29T12:16:20.533344",
     "status": "completed"
    },
    "tags": []
   },
   "outputs": [],
   "source": [
    "#hide\n",
    "t = everydaycases.stack()"
   ]
  },
  {
   "cell_type": "code",
   "execution_count": 22,
   "id": "premier-sleeve",
   "metadata": {
    "execution": {
     "iopub.execute_input": "2022-04-29T12:16:20.673018Z",
     "iopub.status.busy": "2022-04-29T12:16:20.672314Z",
     "iopub.status.idle": "2022-04-29T12:16:20.685016Z",
     "shell.execute_reply": "2022-04-29T12:16:20.684450Z"
    },
    "papermill": {
     "duration": 0.057317,
     "end_time": "2022-04-29T12:16:20.685155",
     "exception": false,
     "start_time": "2022-04-29T12:16:20.627838",
     "status": "completed"
    },
    "tags": []
   },
   "outputs": [],
   "source": [
    "#hide\n",
    "g = t.reset_index(['Country/Region'])"
   ]
  },
  {
   "cell_type": "code",
   "execution_count": 23,
   "id": "distributed-pittsburgh",
   "metadata": {
    "execution": {
     "iopub.execute_input": "2022-04-29T12:16:20.766802Z",
     "iopub.status.busy": "2022-04-29T12:16:20.766113Z",
     "iopub.status.idle": "2022-04-29T12:16:20.768669Z",
     "shell.execute_reply": "2022-04-29T12:16:20.768004Z"
    },
    "papermill": {
     "duration": 0.045347,
     "end_time": "2022-04-29T12:16:20.768835",
     "exception": false,
     "start_time": "2022-04-29T12:16:20.723488",
     "status": "completed"
    },
    "tags": []
   },
   "outputs": [],
   "source": [
    "#hide\n",
    "g.index.name = 'date'"
   ]
  },
  {
   "cell_type": "code",
   "execution_count": 24,
   "id": "naked-donor",
   "metadata": {
    "execution": {
     "iopub.execute_input": "2022-04-29T12:16:20.854179Z",
     "iopub.status.busy": "2022-04-29T12:16:20.853334Z",
     "iopub.status.idle": "2022-04-29T12:16:20.858235Z",
     "shell.execute_reply": "2022-04-29T12:16:20.857650Z"
    },
    "papermill": {
     "duration": 0.049392,
     "end_time": "2022-04-29T12:16:20.858398",
     "exception": false,
     "start_time": "2022-04-29T12:16:20.809006",
     "status": "completed"
    },
    "tags": []
   },
   "outputs": [],
   "source": [
    "# #hide\n",
    "# g = g.reset_index(['date'])"
   ]
  },
  {
   "cell_type": "code",
   "execution_count": 25,
   "id": "incomplete-mustang",
   "metadata": {
    "execution": {
     "iopub.execute_input": "2022-04-29T12:16:20.942552Z",
     "iopub.status.busy": "2022-04-29T12:16:20.941884Z",
     "iopub.status.idle": "2022-04-29T12:16:20.944542Z",
     "shell.execute_reply": "2022-04-29T12:16:20.943821Z"
    },
    "papermill": {
     "duration": 0.04612,
     "end_time": "2022-04-29T12:16:20.944886",
     "exception": false,
     "start_time": "2022-04-29T12:16:20.898766",
     "status": "completed"
    },
    "tags": []
   },
   "outputs": [],
   "source": [
    "#hide\n",
    "# g.head()"
   ]
  },
  {
   "cell_type": "code",
   "execution_count": 26,
   "id": "specific-kruger",
   "metadata": {
    "execution": {
     "iopub.execute_input": "2022-04-29T12:16:21.026508Z",
     "iopub.status.busy": "2022-04-29T12:16:21.025831Z",
     "iopub.status.idle": "2022-04-29T12:16:21.028399Z",
     "shell.execute_reply": "2022-04-29T12:16:21.027859Z"
    },
    "papermill": {
     "duration": 0.045024,
     "end_time": "2022-04-29T12:16:21.028536",
     "exception": false,
     "start_time": "2022-04-29T12:16:20.983512",
     "status": "completed"
    },
    "tags": []
   },
   "outputs": [],
   "source": [
    "#hide\n",
    "# g.columns = ['date','country','cases']"
   ]
  },
  {
   "cell_type": "code",
   "execution_count": 27,
   "id": "tender-conversion",
   "metadata": {
    "execution": {
     "iopub.execute_input": "2022-04-29T12:16:21.116040Z",
     "iopub.status.busy": "2022-04-29T12:16:21.115337Z",
     "iopub.status.idle": "2022-04-29T12:16:21.119141Z",
     "shell.execute_reply": "2022-04-29T12:16:21.119662Z"
    },
    "papermill": {
     "duration": 0.048968,
     "end_time": "2022-04-29T12:16:21.119817",
     "exception": false,
     "start_time": "2022-04-29T12:16:21.070849",
     "status": "completed"
    },
    "tags": []
   },
   "outputs": [],
   "source": [
    "#hide\n",
    "# g['continent'] = g.country"
   ]
  },
  {
   "cell_type": "code",
   "execution_count": 28,
   "id": "substantial-wilderness",
   "metadata": {
    "execution": {
     "iopub.execute_input": "2022-04-29T12:16:21.203578Z",
     "iopub.status.busy": "2022-04-29T12:16:21.202895Z",
     "iopub.status.idle": "2022-04-29T12:16:21.205089Z",
     "shell.execute_reply": "2022-04-29T12:16:21.204399Z"
    },
    "papermill": {
     "duration": 0.045916,
     "end_time": "2022-04-29T12:16:21.205292",
     "exception": false,
     "start_time": "2022-04-29T12:16:21.159376",
     "status": "completed"
    },
    "tags": []
   },
   "outputs": [],
   "source": [
    "#hide\n",
    "# cols = list(g.columns.values)"
   ]
  },
  {
   "cell_type": "code",
   "execution_count": 29,
   "id": "solved-farming",
   "metadata": {
    "execution": {
     "iopub.execute_input": "2022-04-29T12:16:21.301802Z",
     "iopub.status.busy": "2022-04-29T12:16:21.301120Z",
     "iopub.status.idle": "2022-04-29T12:16:21.303716Z",
     "shell.execute_reply": "2022-04-29T12:16:21.303104Z"
    },
    "papermill": {
     "duration": 0.058078,
     "end_time": "2022-04-29T12:16:21.303892",
     "exception": false,
     "start_time": "2022-04-29T12:16:21.245814",
     "status": "completed"
    },
    "tags": []
   },
   "outputs": [],
   "source": [
    "#hide\n",
    "# cols.insert(0, cols.pop())"
   ]
  },
  {
   "cell_type": "code",
   "execution_count": 30,
   "id": "executed-adoption",
   "metadata": {
    "execution": {
     "iopub.execute_input": "2022-04-29T12:16:21.391625Z",
     "iopub.status.busy": "2022-04-29T12:16:21.390937Z",
     "iopub.status.idle": "2022-04-29T12:16:21.394829Z",
     "shell.execute_reply": "2022-04-29T12:16:21.395387Z"
    },
    "papermill": {
     "duration": 0.05056,
     "end_time": "2022-04-29T12:16:21.395546",
     "exception": false,
     "start_time": "2022-04-29T12:16:21.344986",
     "status": "completed"
    },
    "tags": []
   },
   "outputs": [],
   "source": [
    "#hide\n",
    "# g = g[cols]"
   ]
  },
  {
   "cell_type": "code",
   "execution_count": 31,
   "id": "subject-dublin",
   "metadata": {
    "execution": {
     "iopub.execute_input": "2022-04-29T12:16:21.479334Z",
     "iopub.status.busy": "2022-04-29T12:16:21.478597Z",
     "iopub.status.idle": "2022-04-29T12:16:21.480968Z",
     "shell.execute_reply": "2022-04-29T12:16:21.480195Z"
    },
    "papermill": {
     "duration": 0.046502,
     "end_time": "2022-04-29T12:16:21.481108",
     "exception": false,
     "start_time": "2022-04-29T12:16:21.434606",
     "status": "completed"
    },
    "tags": []
   },
   "outputs": [],
   "source": [
    "#hide\n",
    "# g['continent'] = g['continent'].map(mapping['map.continent'])"
   ]
  },
  {
   "cell_type": "code",
   "execution_count": 32,
   "id": "freelance-scout",
   "metadata": {
    "execution": {
     "iopub.execute_input": "2022-04-29T12:16:21.566205Z",
     "iopub.status.busy": "2022-04-29T12:16:21.564748Z",
     "iopub.status.idle": "2022-04-29T12:16:21.567042Z",
     "shell.execute_reply": "2022-04-29T12:16:21.567607Z"
    },
    "papermill": {
     "duration": 0.045917,
     "end_time": "2022-04-29T12:16:21.567785",
     "exception": false,
     "start_time": "2022-04-29T12:16:21.521868",
     "status": "completed"
    },
    "tags": []
   },
   "outputs": [],
   "source": [
    "#hide\n",
    "# g.head()"
   ]
  },
  {
   "cell_type": "code",
   "execution_count": 33,
   "id": "limited-engine",
   "metadata": {
    "execution": {
     "iopub.execute_input": "2022-04-29T12:16:21.653697Z",
     "iopub.status.busy": "2022-04-29T12:16:21.652824Z",
     "iopub.status.idle": "2022-04-29T12:16:21.654700Z",
     "shell.execute_reply": "2022-04-29T12:16:21.655354Z"
    },
    "papermill": {
     "duration": 0.046964,
     "end_time": "2022-04-29T12:16:21.655527",
     "exception": false,
     "start_time": "2022-04-29T12:16:21.608563",
     "status": "completed"
    },
    "tags": []
   },
   "outputs": [],
   "source": [
    "# hide\n",
    "# g['date'] = g['date'].astype('datetime64[ns]')"
   ]
  },
  {
   "cell_type": "code",
   "execution_count": 34,
   "id": "sophisticated-supervisor",
   "metadata": {
    "execution": {
     "iopub.execute_input": "2022-04-29T12:16:21.740683Z",
     "iopub.status.busy": "2022-04-29T12:16:21.740007Z",
     "iopub.status.idle": "2022-04-29T12:16:21.742164Z",
     "shell.execute_reply": "2022-04-29T12:16:21.742887Z"
    },
    "papermill": {
     "duration": 0.048109,
     "end_time": "2022-04-29T12:16:21.743053",
     "exception": false,
     "start_time": "2022-04-29T12:16:21.694944",
     "status": "completed"
    },
    "tags": []
   },
   "outputs": [],
   "source": [
    "#hide\n",
    "# g['date'] = g.date.dt.dayofyear"
   ]
  },
  {
   "cell_type": "code",
   "execution_count": 35,
   "id": "inside-dubai",
   "metadata": {
    "execution": {
     "iopub.execute_input": "2022-04-29T12:16:21.828586Z",
     "iopub.status.busy": "2022-04-29T12:16:21.827850Z",
     "iopub.status.idle": "2022-04-29T12:16:21.830493Z",
     "shell.execute_reply": "2022-04-29T12:16:21.829881Z"
    },
    "papermill": {
     "duration": 0.048556,
     "end_time": "2022-04-29T12:16:21.830631",
     "exception": false,
     "start_time": "2022-04-29T12:16:21.782075",
     "status": "completed"
    },
    "tags": []
   },
   "outputs": [],
   "source": [
    "#hide\n",
    "# g = g.rename(columns= {'continent':'group','country':'name','cases':'value'})"
   ]
  },
  {
   "cell_type": "code",
   "execution_count": 36,
   "id": "fleet-motorcycle",
   "metadata": {
    "execution": {
     "iopub.execute_input": "2022-04-29T12:16:21.916016Z",
     "iopub.status.busy": "2022-04-29T12:16:21.915338Z",
     "iopub.status.idle": "2022-04-29T12:16:21.917435Z",
     "shell.execute_reply": "2022-04-29T12:16:21.918044Z"
    },
    "papermill": {
     "duration": 0.045986,
     "end_time": "2022-04-29T12:16:21.918196",
     "exception": false,
     "start_time": "2022-04-29T12:16:21.872210",
     "status": "completed"
    },
    "tags": []
   },
   "outputs": [],
   "source": [
    "#hide\n",
    "# cols = ['name','group','day','value']"
   ]
  },
  {
   "cell_type": "code",
   "execution_count": 37,
   "id": "continued-sleeping",
   "metadata": {
    "execution": {
     "iopub.execute_input": "2022-04-29T12:16:22.010391Z",
     "iopub.status.busy": "2022-04-29T12:16:22.009665Z",
     "iopub.status.idle": "2022-04-29T12:16:22.012581Z",
     "shell.execute_reply": "2022-04-29T12:16:22.012044Z"
    },
    "papermill": {
     "duration": 0.051452,
     "end_time": "2022-04-29T12:16:22.012725",
     "exception": false,
     "start_time": "2022-04-29T12:16:21.961273",
     "status": "completed"
    },
    "tags": []
   },
   "outputs": [],
   "source": [
    "#hide\n",
    "# g.rename(columns= {'date':'day'},inplace = True)"
   ]
  },
  {
   "cell_type": "code",
   "execution_count": 38,
   "id": "major-fight",
   "metadata": {
    "execution": {
     "iopub.execute_input": "2022-04-29T12:16:22.103397Z",
     "iopub.status.busy": "2022-04-29T12:16:22.102719Z",
     "iopub.status.idle": "2022-04-29T12:16:22.104806Z",
     "shell.execute_reply": "2022-04-29T12:16:22.105404Z"
    },
    "papermill": {
     "duration": 0.05383,
     "end_time": "2022-04-29T12:16:22.105563",
     "exception": false,
     "start_time": "2022-04-29T12:16:22.051733",
     "status": "completed"
    },
    "tags": []
   },
   "outputs": [],
   "source": [
    "#hide\n",
    "# g = g[cols]"
   ]
  },
  {
   "cell_type": "code",
   "execution_count": 39,
   "id": "structured-mobile",
   "metadata": {
    "execution": {
     "iopub.execute_input": "2022-04-29T12:16:22.192141Z",
     "iopub.status.busy": "2022-04-29T12:16:22.191462Z",
     "iopub.status.idle": "2022-04-29T12:16:22.193033Z",
     "shell.execute_reply": "2022-04-29T12:16:22.193677Z"
    },
    "papermill": {
     "duration": 0.048913,
     "end_time": "2022-04-29T12:16:22.193841",
     "exception": false,
     "start_time": "2022-04-29T12:16:22.144928",
     "status": "completed"
    },
    "tags": []
   },
   "outputs": [],
   "source": [
    "# #hide\n",
    "# g = g[g.group.notna()]"
   ]
  },
  {
   "cell_type": "code",
   "execution_count": 40,
   "id": "determined-closing",
   "metadata": {
    "execution": {
     "iopub.execute_input": "2022-04-29T12:16:22.283847Z",
     "iopub.status.busy": "2022-04-29T12:16:22.283145Z",
     "iopub.status.idle": "2022-04-29T12:16:22.288010Z",
     "shell.execute_reply": "2022-04-29T12:16:22.287382Z"
    },
    "papermill": {
     "duration": 0.048314,
     "end_time": "2022-04-29T12:16:22.288195",
     "exception": false,
     "start_time": "2022-04-29T12:16:22.239881",
     "status": "completed"
    },
    "tags": []
   },
   "outputs": [],
   "source": [
    "# #hide\n",
    "# colors = dict(zip(\n",
    "#     [\"Oceania\", \"Europe\", \"Asia\", \"South America\", \"Middle East\", \"North America\", \"Africa\"],\n",
    "#     [\"#adb0ff\", \"#ffb3ff\", \"#90d595\", \"#e48381\", \"#aafbff\", \"#f7bb5f\", \"#eafb50\"]\n",
    "# ))\n",
    "# group_lk = g.set_index('name')['group'].to_dict()"
   ]
  },
  {
   "cell_type": "code",
   "execution_count": null,
   "id": "gross-drinking",
   "metadata": {
    "papermill": {
     "duration": 0.040636,
     "end_time": "2022-04-29T12:16:22.368640",
     "exception": false,
     "start_time": "2022-04-29T12:16:22.328004",
     "status": "completed"
    },
    "tags": []
   },
   "outputs": [],
   "source": []
  },
  {
   "cell_type": "code",
   "execution_count": 41,
   "id": "subject-macintosh",
   "metadata": {
    "execution": {
     "iopub.execute_input": "2022-04-29T12:16:22.462040Z",
     "iopub.status.busy": "2022-04-29T12:16:22.461354Z",
     "iopub.status.idle": "2022-04-29T12:16:22.463481Z",
     "shell.execute_reply": "2022-04-29T12:16:22.464115Z"
    },
    "papermill": {
     "duration": 0.054442,
     "end_time": "2022-04-29T12:16:22.464275",
     "exception": false,
     "start_time": "2022-04-29T12:16:22.409833",
     "status": "completed"
    },
    "tags": []
   },
   "outputs": [],
   "source": [
    "# #hide\n",
    "# fig, ax = plt.subplots(figsize=(15, 8))\n",
    "\n",
    "# def draw_barchart(current_day):\n",
    "#     dff = g[g['day'].eq(current_day)].sort_values(by='value', ascending=True).tail(10)\n",
    "#     ax.clear()\n",
    "#     ax.barh(dff['name'], dff['value'], color=[colors[group_lk[x]] for x in dff['name']])\n",
    "#     dx = dff['value'].max() / 200\n",
    "    \n",
    "#     for i, (value, name) in enumerate(zip(dff['value'], dff['name'])):\n",
    "#         ax.text(value-dx, i,     name,           size=14, weight=600, ha='right', va='bottom')\n",
    "#         ax.text(value-dx, i-.25, group_lk[name], size=10, color='#444444', ha='right', va='baseline')\n",
    "#         ax.text(value+dx, i,     f'{value:,.0f}',  size=14, ha='left',  va='center')\n",
    "#     ax.text(1, 0.4, current_day, transform=ax.transAxes, color='#777777', size=46, ha='right', weight=800)\n",
    "#     ax.text(0, 1.06, 'Population (thousands)', transform=ax.transAxes, size=12, color='#777777')\n",
    "#     ax.xaxis.set_major_formatter(ticker.StrMethodFormatter('{x:,.0f}'))\n",
    "#     ax.xaxis.set_ticks_position('top')\n",
    "#     ax.tick_params(axis='x', colors='#777777', labelsize=12)\n",
    "#     ax.set_yticks([])\n",
    "#     ax.margins(0, 0.01)\n",
    "#     ax.grid(which='major', axis='x', linestyle='-')\n",
    "#     ax.set_axisbelow(True)\n",
    "    \n",
    "#     ax.text(0, 1.15, 'Coronavirus',\n",
    "#             transform=ax.transAxes, size=24, weight=600, ha='left', va='top')\n",
    "# #     ax.text(1, 0, 'by @pratapvardhan; credit @jburnmurdoch', transform=ax.transAxes, color='#777777', ha='right',\n",
    "# #             bbox=dict(facecolor='white', alpha=0.8, edgecolor='white'))\n",
    "#     plt.box(False)"
   ]
  },
  {
   "cell_type": "code",
   "execution_count": 42,
   "id": "sexual-wages",
   "metadata": {
    "execution": {
     "iopub.execute_input": "2022-04-29T12:16:22.554462Z",
     "iopub.status.busy": "2022-04-29T12:16:22.553780Z",
     "iopub.status.idle": "2022-04-29T12:16:22.556300Z",
     "shell.execute_reply": "2022-04-29T12:16:22.555731Z"
    },
    "papermill": {
     "duration": 0.049213,
     "end_time": "2022-04-29T12:16:22.556435",
     "exception": false,
     "start_time": "2022-04-29T12:16:22.507222",
     "status": "completed"
    },
    "tags": []
   },
   "outputs": [],
   "source": [
    "# #hide_input\n",
    "# fig, ax = plt.subplots(figsize=(15, 8))\n",
    "# animator = animation.FuncAnimation(fig, draw_barchart, frames=range(g.day.values.min(), g.day.values.max()))\n",
    "# HTML(animator.to_jshtml())\n",
    "# # or use animator.to_html5_video() or animator.save() "
   ]
  },
  {
   "cell_type": "code",
   "execution_count": null,
   "id": "australian-container",
   "metadata": {
    "papermill": {
     "duration": 0.040036,
     "end_time": "2022-04-29T12:16:22.635660",
     "exception": false,
     "start_time": "2022-04-29T12:16:22.595624",
     "status": "completed"
    },
    "tags": []
   },
   "outputs": [],
   "source": []
  },
  {
   "cell_type": "code",
   "execution_count": null,
   "id": "mediterranean-pontiac",
   "metadata": {
    "papermill": {
     "duration": 0.03857,
     "end_time": "2022-04-29T12:16:22.716636",
     "exception": false,
     "start_time": "2022-04-29T12:16:22.678066",
     "status": "completed"
    },
    "tags": []
   },
   "outputs": [],
   "source": []
  },
  {
   "cell_type": "code",
   "execution_count": null,
   "id": "aging-legislature",
   "metadata": {
    "papermill": {
     "duration": 0.039351,
     "end_time": "2022-04-29T12:16:22.794202",
     "exception": false,
     "start_time": "2022-04-29T12:16:22.754851",
     "status": "completed"
    },
    "tags": []
   },
   "outputs": [],
   "source": []
  }
 ],
 "metadata": {
  "kernelspec": {
   "display_name": "Python 3",
   "language": "python",
   "name": "python3"
  },
  "language_info": {
   "codemirror_mode": {
    "name": "ipython",
    "version": 3
   },
   "file_extension": ".py",
   "mimetype": "text/x-python",
   "name": "python",
   "nbconvert_exporter": "python",
   "pygments_lexer": "ipython3",
   "version": "3.6.15"
  },
  "papermill": {
   "duration": 7.612837,
   "end_time": "2022-04-29T12:16:23.257798",
   "environment_variables": {},
   "exception": null,
   "input_path": "2020-03-21-covid19exp.ipynb",
   "output_path": "2020-03-21-covid19exp.ipynb",
   "parameters": {},
   "start_time": "2022-04-29T12:16:15.644961",
   "version": "2.0.0"
  }
 },
 "nbformat": 4,
 "nbformat_minor": 5
}