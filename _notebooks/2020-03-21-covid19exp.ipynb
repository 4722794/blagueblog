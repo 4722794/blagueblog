{
 "cells": [
  {
   "cell_type": "markdown",
   "id": "muslim-click",
   "metadata": {
    "papermill": {
     "duration": 0.031453,
     "end_time": "2022-04-25T12:15:28.516361",
     "exception": false,
     "start_time": "2022-04-25T12:15:28.484908",
     "status": "completed"
    },
    "tags": []
   },
   "source": [
    "# COVID-19 Case Race\n",
    "> A race chart to see rising cases around the world\n",
    "\n",
    "- author: Hargun Oberoi\n",
    "- image: images/covid-overview.png\n",
    "- hide: false\n",
    "- badges: false"
   ]
  },
  {
   "cell_type": "code",
   "execution_count": 1,
   "id": "proof-material",
   "metadata": {
    "execution": {
     "iopub.execute_input": "2022-04-25T12:15:28.580815Z",
     "iopub.status.busy": "2022-04-25T12:15:28.580305Z",
     "iopub.status.idle": "2022-04-25T12:15:28.894326Z",
     "shell.execute_reply": "2022-04-25T12:15:28.893747Z"
    },
    "papermill": {
     "duration": 0.349157,
     "end_time": "2022-04-25T12:15:28.894487",
     "exception": false,
     "start_time": "2022-04-25T12:15:28.545330",
     "status": "completed"
    },
    "tags": []
   },
   "outputs": [],
   "source": [
    "#hide\n",
    "import numpy as np\n",
    "import pandas as pd\n",
    "from jinja2 import Template\n",
    "from IPython.display import HTML"
   ]
  },
  {
   "cell_type": "code",
   "execution_count": 2,
   "id": "developed-terminology",
   "metadata": {
    "execution": {
     "iopub.execute_input": "2022-04-25T12:15:28.953871Z",
     "iopub.status.busy": "2022-04-25T12:15:28.953353Z",
     "iopub.status.idle": "2022-04-25T12:15:28.955797Z",
     "shell.execute_reply": "2022-04-25T12:15:28.955422Z"
    },
    "papermill": {
     "duration": 0.033817,
     "end_time": "2022-04-25T12:15:28.955904",
     "exception": false,
     "start_time": "2022-04-25T12:15:28.922087",
     "status": "completed"
    },
    "tags": []
   },
   "outputs": [],
   "source": [
    "#hide\n",
    "\n",
    "# FETCH\n",
    "base_url = 'https://raw.githubusercontent.com/pratapvardhan/notebooks/master/covid19/'\n",
    "paths = {\n",
    "    'mapping': base_url + 'mapping_countries.csv',\n",
    "    'overview': base_url + 'overview.tpl'\n",
    "}"
   ]
  },
  {
   "cell_type": "code",
   "execution_count": 3,
   "id": "dynamic-saver",
   "metadata": {
    "execution": {
     "iopub.execute_input": "2022-04-25T12:15:29.017952Z",
     "iopub.status.busy": "2022-04-25T12:15:29.017450Z",
     "iopub.status.idle": "2022-04-25T12:15:29.019681Z",
     "shell.execute_reply": "2022-04-25T12:15:29.020045Z"
    },
    "papermill": {
     "duration": 0.038241,
     "end_time": "2022-04-25T12:15:29.020177",
     "exception": false,
     "start_time": "2022-04-25T12:15:28.981936",
     "status": "completed"
    },
    "tags": []
   },
   "outputs": [
    {
     "data": {
      "text/plain": [
       "'https://raw.githubusercontent.com/pratapvardhan/notebooks/master/covid19/mapping_countries.csv'"
      ]
     },
     "execution_count": 3,
     "metadata": {},
     "output_type": "execute_result"
    }
   ],
   "source": [
    "#hide\n",
    "paths['mapping']"
   ]
  },
  {
   "cell_type": "code",
   "execution_count": 4,
   "id": "urban-software",
   "metadata": {
    "execution": {
     "iopub.execute_input": "2022-04-25T12:15:29.079695Z",
     "iopub.status.busy": "2022-04-25T12:15:29.079036Z",
     "iopub.status.idle": "2022-04-25T12:15:29.080253Z",
     "shell.execute_reply": "2022-04-25T12:15:29.080822Z"
    },
    "papermill": {
     "duration": 0.034173,
     "end_time": "2022-04-25T12:15:29.080979",
     "exception": false,
     "start_time": "2022-04-25T12:15:29.046806",
     "status": "completed"
    },
    "tags": []
   },
   "outputs": [],
   "source": [
    "#hide\n",
    "def get_mappings(url):\n",
    "    df = pd.read_csv(url)\n",
    "    return {\n",
    "        'df': df,\n",
    "        'replace.country': dict(df.dropna(subset=['Name']).set_index('Country')['Name']),\n",
    "        'map.continent': dict(df.set_index('Name')['Continent'])\n",
    "    }"
   ]
  },
  {
   "cell_type": "code",
   "execution_count": 5,
   "id": "intimate-machinery",
   "metadata": {
    "execution": {
     "iopub.execute_input": "2022-04-25T12:15:29.140361Z",
     "iopub.status.busy": "2022-04-25T12:15:29.139857Z",
     "iopub.status.idle": "2022-04-25T12:15:29.164402Z",
     "shell.execute_reply": "2022-04-25T12:15:29.164879Z"
    },
    "papermill": {
     "duration": 0.057192,
     "end_time": "2022-04-25T12:15:29.165041",
     "exception": false,
     "start_time": "2022-04-25T12:15:29.107849",
     "status": "completed"
    },
    "tags": []
   },
   "outputs": [],
   "source": [
    "#hide\n",
    "mapping = get_mappings(paths['mapping'])"
   ]
  },
  {
   "cell_type": "code",
   "execution_count": 6,
   "id": "certified-tactics",
   "metadata": {
    "execution": {
     "iopub.execute_input": "2022-04-25T12:15:29.224272Z",
     "iopub.status.busy": "2022-04-25T12:15:29.223646Z",
     "iopub.status.idle": "2022-04-25T12:15:29.227096Z",
     "shell.execute_reply": "2022-04-25T12:15:29.227443Z"
    },
    "papermill": {
     "duration": 0.035833,
     "end_time": "2022-04-25T12:15:29.227580",
     "exception": false,
     "start_time": "2022-04-25T12:15:29.191747",
     "status": "completed"
    },
    "tags": []
   },
   "outputs": [],
   "source": [
    "#hide\n",
    "def get_template(path):\n",
    "    from urllib.parse import urlparse\n",
    "    if bool(urlparse(path).netloc):\n",
    "        from urllib.request import urlopen\n",
    "        return urlopen(path).read().decode('utf8')\n",
    "    return open(path).read()"
   ]
  },
  {
   "cell_type": "code",
   "execution_count": 7,
   "id": "realistic-blast",
   "metadata": {
    "execution": {
     "iopub.execute_input": "2022-04-25T12:15:29.285655Z",
     "iopub.status.busy": "2022-04-25T12:15:29.285161Z",
     "iopub.status.idle": "2022-04-25T12:15:29.287215Z",
     "shell.execute_reply": "2022-04-25T12:15:29.287578Z"
    },
    "papermill": {
     "duration": 0.033587,
     "end_time": "2022-04-25T12:15:29.287707",
     "exception": false,
     "start_time": "2022-04-25T12:15:29.254120",
     "status": "completed"
    },
    "tags": []
   },
   "outputs": [],
   "source": [
    "#hide\n",
    "def get_frame(name):\n",
    "    url = (\n",
    "        'https://raw.githubusercontent.com/CSSEGISandData/COVID-19/master/csse_covid_19_data/'\n",
    "        f'csse_covid_19_time_series/time_series_covid19_{name}_global.csv')\n",
    "    df = pd.read_csv(url)\n",
    "    # rename countries\n",
    "    df['Country/Region'] = df['Country/Region'].replace(mapping['replace.country'])\n",
    "    return df"
   ]
  },
  {
   "cell_type": "code",
   "execution_count": 8,
   "id": "affiliated-characterization",
   "metadata": {
    "execution": {
     "iopub.execute_input": "2022-04-25T12:15:29.347259Z",
     "iopub.status.busy": "2022-04-25T12:15:29.346630Z",
     "iopub.status.idle": "2022-04-25T12:15:29.350048Z",
     "shell.execute_reply": "2022-04-25T12:15:29.350408Z"
    },
    "papermill": {
     "duration": 0.036204,
     "end_time": "2022-04-25T12:15:29.350550",
     "exception": false,
     "start_time": "2022-04-25T12:15:29.314346",
     "status": "completed"
    },
    "tags": []
   },
   "outputs": [],
   "source": [
    "#hide\n",
    "def get_dates(df):\n",
    "    dt_cols = df.columns[~df.columns.isin(['Province/State', 'Country/Region', 'Lat', 'Long'])]\n",
    "    LAST_DATE_I = -1\n",
    "    # sometimes last column may be empty, then go backwards\n",
    "    for i in range(-1, -len(dt_cols), -1):\n",
    "        if not df[dt_cols[i]].fillna(0).eq(0).all():\n",
    "            LAST_DATE_I = i\n",
    "            break\n",
    "    return LAST_DATE_I, dt_cols"
   ]
  },
  {
   "cell_type": "code",
   "execution_count": 9,
   "id": "recent-optimization",
   "metadata": {
    "execution": {
     "iopub.execute_input": "2022-04-25T12:15:29.409033Z",
     "iopub.status.busy": "2022-04-25T12:15:29.408525Z",
     "iopub.status.idle": "2022-04-25T12:15:29.719830Z",
     "shell.execute_reply": "2022-04-25T12:15:29.719324Z"
    },
    "papermill": {
     "duration": 0.342932,
     "end_time": "2022-04-25T12:15:29.719956",
     "exception": false,
     "start_time": "2022-04-25T12:15:29.377024",
     "status": "completed"
    },
    "tags": []
   },
   "outputs": [],
   "source": [
    "#hide\n",
    "COL_REGION = 'Country/Region'\n",
    "# Confirmed, Recovered, Deaths\n",
    "df = get_frame('confirmed')\n",
    "# dft_: timeseries, dfc_: today country agg\n",
    "dft_cases = df\n",
    "dft_deaths = get_frame('deaths')\n",
    "dft_recovered = get_frame('recovered')\n",
    "LAST_DATE_I, dt_cols = get_dates(df)"
   ]
  },
  {
   "cell_type": "code",
   "execution_count": 10,
   "id": "absolute-copper",
   "metadata": {
    "execution": {
     "iopub.execute_input": "2022-04-25T12:15:29.786596Z",
     "iopub.status.busy": "2022-04-25T12:15:29.785977Z",
     "iopub.status.idle": "2022-04-25T12:15:29.787367Z",
     "shell.execute_reply": "2022-04-25T12:15:29.787915Z"
    },
    "papermill": {
     "duration": 0.037863,
     "end_time": "2022-04-25T12:15:29.788039",
     "exception": false,
     "start_time": "2022-04-25T12:15:29.750176",
     "status": "completed"
    },
    "tags": []
   },
   "outputs": [],
   "source": [
    "#hide\n",
    "LAST_DATE_I, dt_cols = get_dates(df)\n",
    "dt_today =dt_cols[LAST_DATE_I]\n",
    "# dt_5day = dt_cols[LAST_DATE_I - 5]\n",
    "dt_yday = dt_cols[LAST_DATE_I - 1]"
   ]
  },
  {
   "cell_type": "code",
   "execution_count": 11,
   "id": "restricted-sheriff",
   "metadata": {
    "execution": {
     "iopub.execute_input": "2022-04-25T12:15:29.848805Z",
     "iopub.status.busy": "2022-04-25T12:15:29.848330Z",
     "iopub.status.idle": "2022-04-25T12:15:29.853760Z",
     "shell.execute_reply": "2022-04-25T12:15:29.854210Z"
    },
    "papermill": {
     "duration": 0.039933,
     "end_time": "2022-04-25T12:15:29.854349",
     "exception": false,
     "start_time": "2022-04-25T12:15:29.814416",
     "status": "completed"
    },
    "tags": []
   },
   "outputs": [],
   "source": [
    "#hide\n",
    "dfc_cases = dft_cases.groupby(COL_REGION)[dt_today].sum()\n",
    "dfc_deaths = dft_deaths.groupby(COL_REGION)[dt_today].sum()\n",
    "# dfp_cases = dft_cases.groupby(COL_REGION)[dt_5day].sum()\n",
    "# dfp_deaths = dft_deaths.groupby(COL_REGION)[dt_5day].sum()\n",
    "dfp_cases = dft_cases.groupby(COL_REGION)[dt_yday].sum()\n",
    "dfp_deaths = dft_deaths.groupby(COL_REGION)[dt_yday].sum()"
   ]
  },
  {
   "cell_type": "code",
   "execution_count": 12,
   "id": "deluxe-hepatitis",
   "metadata": {
    "execution": {
     "iopub.execute_input": "2022-04-25T12:15:29.913868Z",
     "iopub.status.busy": "2022-04-25T12:15:29.913375Z",
     "iopub.status.idle": "2022-04-25T12:15:29.917690Z",
     "shell.execute_reply": "2022-04-25T12:15:29.918070Z"
    },
    "papermill": {
     "duration": 0.037471,
     "end_time": "2022-04-25T12:15:29.918215",
     "exception": false,
     "start_time": "2022-04-25T12:15:29.880744",
     "status": "completed"
    },
    "tags": []
   },
   "outputs": [],
   "source": [
    "#hide\n",
    "df_table = (pd.DataFrame(dict(Cases = dfc_cases, Deaths = dfc_deaths, PCases = dfp_cases, PDeaths = dfp_deaths))\n",
    "            .sort_values(by = ['Cases','Deaths'], ascending = [False, False])\n",
    "            .reset_index())"
   ]
  },
  {
   "cell_type": "code",
   "execution_count": 13,
   "id": "educational-chancellor",
   "metadata": {
    "execution": {
     "iopub.execute_input": "2022-04-25T12:15:29.990415Z",
     "iopub.status.busy": "2022-04-25T12:15:29.989879Z",
     "iopub.status.idle": "2022-04-25T12:15:29.997432Z",
     "shell.execute_reply": "2022-04-25T12:15:29.997804Z"
    },
    "papermill": {
     "duration": 0.053393,
     "end_time": "2022-04-25T12:15:29.997947",
     "exception": false,
     "start_time": "2022-04-25T12:15:29.944554",
     "status": "completed"
    },
    "tags": []
   },
   "outputs": [
    {
     "data": {
      "text/html": [
       "<div>\n",
       "<style scoped>\n",
       "    .dataframe tbody tr th:only-of-type {\n",
       "        vertical-align: middle;\n",
       "    }\n",
       "\n",
       "    .dataframe tbody tr th {\n",
       "        vertical-align: top;\n",
       "    }\n",
       "\n",
       "    .dataframe thead th {\n",
       "        text-align: right;\n",
       "    }\n",
       "</style>\n",
       "<table border=\"1\" class=\"dataframe\">\n",
       "  <thead>\n",
       "    <tr style=\"text-align: right;\">\n",
       "      <th></th>\n",
       "      <th>Country/Region</th>\n",
       "      <th>Cases</th>\n",
       "      <th>Deaths</th>\n",
       "      <th>PCases</th>\n",
       "      <th>PDeaths</th>\n",
       "      <th>Cases (+)</th>\n",
       "      <th>Deaths (+)</th>\n",
       "      <th>Fatality Rate</th>\n",
       "      <th>Continent</th>\n",
       "    </tr>\n",
       "  </thead>\n",
       "  <tbody>\n",
       "    <tr>\n",
       "      <th>0</th>\n",
       "      <td>US</td>\n",
       "      <td>80984914</td>\n",
       "      <td>991254</td>\n",
       "      <td>80971930</td>\n",
       "      <td>991231</td>\n",
       "      <td>12984</td>\n",
       "      <td>23</td>\n",
       "      <td>1.22</td>\n",
       "      <td>North America</td>\n",
       "    </tr>\n",
       "    <tr>\n",
       "      <th>1</th>\n",
       "      <td>India</td>\n",
       "      <td>43060086</td>\n",
       "      <td>522223</td>\n",
       "      <td>43057545</td>\n",
       "      <td>522193</td>\n",
       "      <td>2541</td>\n",
       "      <td>30</td>\n",
       "      <td>1.21</td>\n",
       "      <td>Asia</td>\n",
       "    </tr>\n",
       "    <tr>\n",
       "      <th>2</th>\n",
       "      <td>Brazil</td>\n",
       "      <td>30349463</td>\n",
       "      <td>662891</td>\n",
       "      <td>30345808</td>\n",
       "      <td>662855</td>\n",
       "      <td>3655</td>\n",
       "      <td>36</td>\n",
       "      <td>2.18</td>\n",
       "      <td>South America</td>\n",
       "    </tr>\n",
       "    <tr>\n",
       "      <th>3</th>\n",
       "      <td>France</td>\n",
       "      <td>28494054</td>\n",
       "      <td>146097</td>\n",
       "      <td>28435100</td>\n",
       "      <td>146057</td>\n",
       "      <td>58954</td>\n",
       "      <td>40</td>\n",
       "      <td>0.51</td>\n",
       "      <td>Europe</td>\n",
       "    </tr>\n",
       "    <tr>\n",
       "      <th>4</th>\n",
       "      <td>Germany</td>\n",
       "      <td>24200596</td>\n",
       "      <td>134185</td>\n",
       "      <td>24180512</td>\n",
       "      <td>134179</td>\n",
       "      <td>20084</td>\n",
       "      <td>6</td>\n",
       "      <td>0.55</td>\n",
       "      <td>Europe</td>\n",
       "    </tr>\n",
       "  </tbody>\n",
       "</table>\n",
       "</div>"
      ],
      "text/plain": [
       "  Country/Region     Cases  Deaths    PCases  PDeaths  Cases (+)  Deaths (+)  \\\n",
       "0             US  80984914  991254  80971930   991231      12984          23   \n",
       "1          India  43060086  522223  43057545   522193       2541          30   \n",
       "2         Brazil  30349463  662891  30345808   662855       3655          36   \n",
       "3         France  28494054  146097  28435100   146057      58954          40   \n",
       "4        Germany  24200596  134185  24180512   134179      20084           6   \n",
       "\n",
       "   Fatality Rate      Continent  \n",
       "0           1.22  North America  \n",
       "1           1.21           Asia  \n",
       "2           2.18  South America  \n",
       "3           0.51         Europe  \n",
       "4           0.55         Europe  "
      ]
     },
     "execution_count": 13,
     "metadata": {},
     "output_type": "execute_result"
    }
   ],
   "source": [
    "#hide\n",
    "for c in 'Cases, Deaths'.split(', '):\n",
    "    df_table[f'{c} (+)'] = (df_table[c] - df_table[f'P{c}']).clip(0)\n",
    "    #Clip ça veut dire, les chiffres negatif sont interdit\n",
    "df_table['Fatality Rate'] = (100* df_table['Deaths']/ df_table['Cases']).round(2)\n",
    "df_table['Continent'] = df_table['Country/Region'].map(mapping['map.continent'])\n",
    "df_table.head(5)"
   ]
  },
  {
   "cell_type": "code",
   "execution_count": 14,
   "id": "aboriginal-bulgaria",
   "metadata": {
    "execution": {
     "iopub.execute_input": "2022-04-25T12:15:30.057265Z",
     "iopub.status.busy": "2022-04-25T12:15:30.056731Z",
     "iopub.status.idle": "2022-04-25T12:15:30.059515Z",
     "shell.execute_reply": "2022-04-25T12:15:30.059878Z"
    },
    "papermill": {
     "duration": 0.035151,
     "end_time": "2022-04-25T12:15:30.060009",
     "exception": false,
     "start_time": "2022-04-25T12:15:30.024858",
     "status": "completed"
    },
    "tags": []
   },
   "outputs": [],
   "source": [
    "#hide\n",
    "#delete problematic countries from table\n",
    "df_table = df_table[~df_table['Country/Region'].isin(['Cape Verde', 'Cruise Ship', 'Kosovo'])]"
   ]
  },
  {
   "cell_type": "code",
   "execution_count": 15,
   "id": "fantastic-effect",
   "metadata": {
    "execution": {
     "iopub.execute_input": "2022-04-25T12:15:30.121591Z",
     "iopub.status.busy": "2022-04-25T12:15:30.121071Z",
     "iopub.status.idle": "2022-04-25T12:15:30.139137Z",
     "shell.execute_reply": "2022-04-25T12:15:30.138738Z"
    },
    "papermill": {
     "duration": 0.052679,
     "end_time": "2022-04-25T12:15:30.139254",
     "exception": false,
     "start_time": "2022-04-25T12:15:30.086575",
     "status": "completed"
    },
    "tags": []
   },
   "outputs": [
    {
     "data": {
      "text/html": [
       "<div>\n",
       "<style scoped>\n",
       "    .dataframe tbody tr th:only-of-type {\n",
       "        vertical-align: middle;\n",
       "    }\n",
       "\n",
       "    .dataframe tbody tr th {\n",
       "        vertical-align: top;\n",
       "    }\n",
       "\n",
       "    .dataframe thead th {\n",
       "        text-align: right;\n",
       "    }\n",
       "</style>\n",
       "<table border=\"1\" class=\"dataframe\">\n",
       "  <thead>\n",
       "    <tr style=\"text-align: right;\">\n",
       "      <th></th>\n",
       "      <th>Country/Region</th>\n",
       "      <th>Cases</th>\n",
       "      <th>Deaths</th>\n",
       "      <th>PCases</th>\n",
       "      <th>PDeaths</th>\n",
       "      <th>Cases (+)</th>\n",
       "      <th>Deaths (+)</th>\n",
       "      <th>Fatality Rate</th>\n",
       "      <th>Continent</th>\n",
       "    </tr>\n",
       "  </thead>\n",
       "  <tbody>\n",
       "    <tr>\n",
       "      <th>0</th>\n",
       "      <td>US</td>\n",
       "      <td>80984914</td>\n",
       "      <td>991254</td>\n",
       "      <td>80971930</td>\n",
       "      <td>991231</td>\n",
       "      <td>12984</td>\n",
       "      <td>23</td>\n",
       "      <td>1.2</td>\n",
       "      <td>North America</td>\n",
       "    </tr>\n",
       "    <tr>\n",
       "      <th>1</th>\n",
       "      <td>India</td>\n",
       "      <td>43060086</td>\n",
       "      <td>522223</td>\n",
       "      <td>43057545</td>\n",
       "      <td>522193</td>\n",
       "      <td>2541</td>\n",
       "      <td>30</td>\n",
       "      <td>1.2</td>\n",
       "      <td>Asia</td>\n",
       "    </tr>\n",
       "    <tr>\n",
       "      <th>2</th>\n",
       "      <td>Brazil</td>\n",
       "      <td>30349463</td>\n",
       "      <td>662891</td>\n",
       "      <td>30345808</td>\n",
       "      <td>662855</td>\n",
       "      <td>3655</td>\n",
       "      <td>36</td>\n",
       "      <td>2.2</td>\n",
       "      <td>South America</td>\n",
       "    </tr>\n",
       "    <tr>\n",
       "      <th>3</th>\n",
       "      <td>France</td>\n",
       "      <td>28494054</td>\n",
       "      <td>146097</td>\n",
       "      <td>28435100</td>\n",
       "      <td>146057</td>\n",
       "      <td>58954</td>\n",
       "      <td>40</td>\n",
       "      <td>0.5</td>\n",
       "      <td>Europe</td>\n",
       "    </tr>\n",
       "    <tr>\n",
       "      <th>4</th>\n",
       "      <td>Germany</td>\n",
       "      <td>24200596</td>\n",
       "      <td>134185</td>\n",
       "      <td>24180512</td>\n",
       "      <td>134179</td>\n",
       "      <td>20084</td>\n",
       "      <td>6</td>\n",
       "      <td>0.6</td>\n",
       "      <td>Europe</td>\n",
       "    </tr>\n",
       "  </tbody>\n",
       "</table>\n",
       "</div>"
      ],
      "text/plain": [
       "  Country/Region     Cases  Deaths    PCases  PDeaths  Cases (+)  Deaths (+)  \\\n",
       "0             US  80984914  991254  80971930   991231      12984          23   \n",
       "1          India  43060086  522223  43057545   522193       2541          30   \n",
       "2         Brazil  30349463  662891  30345808   662855       3655          36   \n",
       "3         France  28494054  146097  28435100   146057      58954          40   \n",
       "4        Germany  24200596  134185  24180512   134179      20084           6   \n",
       "\n",
       "   Fatality Rate      Continent  \n",
       "0            1.2  North America  \n",
       "1            1.2           Asia  \n",
       "2            2.2  South America  \n",
       "3            0.5         Europe  \n",
       "4            0.6         Europe  "
      ]
     },
     "execution_count": 15,
     "metadata": {},
     "output_type": "execute_result"
    }
   ],
   "source": [
    "#hide\n",
    "df_table = (pd.DataFrame(dict(Cases=dfc_cases, Deaths=dfc_deaths, PCases=dfp_cases, PDeaths=dfp_deaths))\n",
    "             .sort_values(by=['Cases', 'Deaths'], ascending=[False, False])\n",
    "             .reset_index())\n",
    "df_table.rename(columns={'index': 'Country/Region'}, inplace=True)\n",
    "for c in 'Cases, Deaths'.split(', '):\n",
    "    df_table[f'{c} (+)'] = (df_table[c] - df_table[f'P{c}']).clip(0)  # DATA BUG\n",
    "df_table['Fatality Rate'] = (100 * df_table['Deaths'] / df_table['Cases']).round(1)\n",
    "df_table['Continent'] = df_table['Country/Region'].map(mapping['map.continent'])\n",
    "df_table.head(5)"
   ]
  },
  {
   "cell_type": "code",
   "execution_count": 16,
   "id": "fewer-occasion",
   "metadata": {
    "execution": {
     "iopub.execute_input": "2022-04-25T12:15:30.200774Z",
     "iopub.status.busy": "2022-04-25T12:15:30.200141Z",
     "iopub.status.idle": "2022-04-25T12:15:30.203818Z",
     "shell.execute_reply": "2022-04-25T12:15:30.204210Z"
    },
    "papermill": {
     "duration": 0.037594,
     "end_time": "2022-04-25T12:15:30.204362",
     "exception": false,
     "start_time": "2022-04-25T12:15:30.166768",
     "status": "completed"
    },
    "tags": []
   },
   "outputs": [],
   "source": [
    "#hide\n",
    "#delete problematic countries from table\n",
    "df_table = df_table[~df_table['Country/Region'].isin(['Cape Verde', 'Cruise Ship', 'Kosovo'])]"
   ]
  },
  {
   "cell_type": "code",
   "execution_count": 17,
   "id": "related-center",
   "metadata": {
    "execution": {
     "iopub.execute_input": "2022-04-25T12:15:30.273358Z",
     "iopub.status.busy": "2022-04-25T12:15:30.272780Z",
     "iopub.status.idle": "2022-04-25T12:15:30.285481Z",
     "shell.execute_reply": "2022-04-25T12:15:30.285019Z"
    },
    "papermill": {
     "duration": 0.050481,
     "end_time": "2022-04-25T12:15:30.285604",
     "exception": false,
     "start_time": "2022-04-25T12:15:30.235123",
     "status": "completed"
    },
    "tags": []
   },
   "outputs": [],
   "source": [
    "#hide\n",
    "metrics = [df_table.columns[index] for index in [1,2,5,6]]\n",
    "# s_china = df_table[df_table['Country/Region'].eq('China')][metrics].sum().add_prefix('China ')\n",
    "s_us = df_table[df_table['Country/Region'].eq('US')][metrics].sum().add_prefix('US ')\n",
    "s_eu = df_table[df_table['Continent'].eq('Europe')][metrics].sum().add_prefix('EU ')\n",
    "s_ind = df_table[df_table['Country/Region'].eq('India')][metrics].sum().add_prefix('India ')\n",
    "summary = {'updated': pd.to_datetime(dt_today), 'since': pd.to_datetime(dt_yday)}\n",
    "summary = {'updated': pd.to_datetime(dt_today), 'since': pd.to_datetime(dt_yday)}\n",
    "summary = {**summary, **df_table[metrics].sum(), **s_ind, **s_us, **s_eu}"
   ]
  },
  {
   "cell_type": "code",
   "execution_count": 18,
   "id": "engaging-syndrome",
   "metadata": {
    "execution": {
     "iopub.execute_input": "2022-04-25T12:15:30.353341Z",
     "iopub.status.busy": "2022-04-25T12:15:30.352750Z",
     "iopub.status.idle": "2022-04-25T12:15:30.370579Z",
     "shell.execute_reply": "2022-04-25T12:15:30.371005Z"
    },
    "papermill": {
     "duration": 0.054506,
     "end_time": "2022-04-25T12:15:30.371155",
     "exception": false,
     "start_time": "2022-04-25T12:15:30.316649",
     "status": "completed"
    },
    "tags": []
   },
   "outputs": [],
   "source": [
    "#hide\n",
    "dft_ct_new_cases = dft_cases.groupby(COL_REGION)[dt_cols].sum().diff(axis=1).fillna(0).astype(int)"
   ]
  },
  {
   "cell_type": "code",
   "execution_count": 19,
   "id": "neutral-assignment",
   "metadata": {
    "execution": {
     "iopub.execute_input": "2022-04-25T12:15:30.439727Z",
     "iopub.status.busy": "2022-04-25T12:15:30.439206Z",
     "iopub.status.idle": "2022-04-25T12:15:30.441350Z",
     "shell.execute_reply": "2022-04-25T12:15:30.441764Z"
    },
    "papermill": {
     "duration": 0.039969,
     "end_time": "2022-04-25T12:15:30.441900",
     "exception": false,
     "start_time": "2022-04-25T12:15:30.401931",
     "status": "completed"
    },
    "tags": []
   },
   "outputs": [],
   "source": [
    "#hide\n",
    "everydaycases = dft_ct_new_cases.cumsum(axis=1)"
   ]
  },
  {
   "cell_type": "code",
   "execution_count": 20,
   "id": "parliamentary-calgary",
   "metadata": {
    "execution": {
     "iopub.execute_input": "2022-04-25T12:15:30.508379Z",
     "iopub.status.busy": "2022-04-25T12:15:30.507817Z",
     "iopub.status.idle": "2022-04-25T12:15:31.030090Z",
     "shell.execute_reply": "2022-04-25T12:15:31.029540Z"
    },
    "papermill": {
     "duration": 0.557428,
     "end_time": "2022-04-25T12:15:31.030236",
     "exception": false,
     "start_time": "2022-04-25T12:15:30.472808",
     "status": "completed"
    },
    "tags": []
   },
   "outputs": [],
   "source": [
    "#hide\n",
    "import pandas as pd\n",
    "import matplotlib.pyplot as plt\n",
    "import matplotlib.ticker as ticker\n",
    "import matplotlib.animation as animation\n",
    "from IPython.display import HTML"
   ]
  },
  {
   "cell_type": "code",
   "execution_count": 21,
   "id": "lasting-extraction",
   "metadata": {
    "execution": {
     "iopub.execute_input": "2022-04-25T12:15:31.099441Z",
     "iopub.status.busy": "2022-04-25T12:15:31.098910Z",
     "iopub.status.idle": "2022-04-25T12:15:31.105549Z",
     "shell.execute_reply": "2022-04-25T12:15:31.105042Z"
    },
    "papermill": {
     "duration": 0.043706,
     "end_time": "2022-04-25T12:15:31.105679",
     "exception": false,
     "start_time": "2022-04-25T12:15:31.061973",
     "status": "completed"
    },
    "tags": []
   },
   "outputs": [],
   "source": [
    "#hide\n",
    "t = everydaycases.stack()"
   ]
  },
  {
   "cell_type": "code",
   "execution_count": 22,
   "id": "premier-sleeve",
   "metadata": {
    "execution": {
     "iopub.execute_input": "2022-04-25T12:15:31.172256Z",
     "iopub.status.busy": "2022-04-25T12:15:31.171697Z",
     "iopub.status.idle": "2022-04-25T12:15:31.183303Z",
     "shell.execute_reply": "2022-04-25T12:15:31.182852Z"
    },
    "papermill": {
     "duration": 0.04695,
     "end_time": "2022-04-25T12:15:31.183421",
     "exception": false,
     "start_time": "2022-04-25T12:15:31.136471",
     "status": "completed"
    },
    "tags": []
   },
   "outputs": [],
   "source": [
    "#hide\n",
    "g = t.reset_index(['Country/Region'])"
   ]
  },
  {
   "cell_type": "code",
   "execution_count": 23,
   "id": "distributed-pittsburgh",
   "metadata": {
    "execution": {
     "iopub.execute_input": "2022-04-25T12:15:31.249554Z",
     "iopub.status.busy": "2022-04-25T12:15:31.248882Z",
     "iopub.status.idle": "2022-04-25T12:15:31.250349Z",
     "shell.execute_reply": "2022-04-25T12:15:31.250690Z"
    },
    "papermill": {
     "duration": 0.036714,
     "end_time": "2022-04-25T12:15:31.250822",
     "exception": false,
     "start_time": "2022-04-25T12:15:31.214108",
     "status": "completed"
    },
    "tags": []
   },
   "outputs": [],
   "source": [
    "#hide\n",
    "g.index.name = 'date'"
   ]
  },
  {
   "cell_type": "code",
   "execution_count": 24,
   "id": "naked-donor",
   "metadata": {
    "execution": {
     "iopub.execute_input": "2022-04-25T12:15:31.309300Z",
     "iopub.status.busy": "2022-04-25T12:15:31.308638Z",
     "iopub.status.idle": "2022-04-25T12:15:31.312151Z",
     "shell.execute_reply": "2022-04-25T12:15:31.311637Z"
    },
    "papermill": {
     "duration": 0.034354,
     "end_time": "2022-04-25T12:15:31.312265",
     "exception": false,
     "start_time": "2022-04-25T12:15:31.277911",
     "status": "completed"
    },
    "tags": []
   },
   "outputs": [],
   "source": [
    "# #hide\n",
    "# g = g.reset_index(['date'])"
   ]
  },
  {
   "cell_type": "code",
   "execution_count": 25,
   "id": "incomplete-mustang",
   "metadata": {
    "execution": {
     "iopub.execute_input": "2022-04-25T12:15:31.377722Z",
     "iopub.status.busy": "2022-04-25T12:15:31.377052Z",
     "iopub.status.idle": "2022-04-25T12:15:31.378463Z",
     "shell.execute_reply": "2022-04-25T12:15:31.379006Z"
    },
    "papermill": {
     "duration": 0.036239,
     "end_time": "2022-04-25T12:15:31.379147",
     "exception": false,
     "start_time": "2022-04-25T12:15:31.342908",
     "status": "completed"
    },
    "tags": []
   },
   "outputs": [],
   "source": [
    "#hide\n",
    "# g.head()"
   ]
  },
  {
   "cell_type": "code",
   "execution_count": 26,
   "id": "specific-kruger",
   "metadata": {
    "execution": {
     "iopub.execute_input": "2022-04-25T12:15:31.438333Z",
     "iopub.status.busy": "2022-04-25T12:15:31.437711Z",
     "iopub.status.idle": "2022-04-25T12:15:31.441194Z",
     "shell.execute_reply": "2022-04-25T12:15:31.441645Z"
    },
    "papermill": {
     "duration": 0.034748,
     "end_time": "2022-04-25T12:15:31.441799",
     "exception": false,
     "start_time": "2022-04-25T12:15:31.407051",
     "status": "completed"
    },
    "tags": []
   },
   "outputs": [],
   "source": [
    "#hide\n",
    "# g.columns = ['date','country','cases']"
   ]
  },
  {
   "cell_type": "code",
   "execution_count": 27,
   "id": "tender-conversion",
   "metadata": {
    "execution": {
     "iopub.execute_input": "2022-04-25T12:15:31.507545Z",
     "iopub.status.busy": "2022-04-25T12:15:31.506914Z",
     "iopub.status.idle": "2022-04-25T12:15:31.509006Z",
     "shell.execute_reply": "2022-04-25T12:15:31.508416Z"
    },
    "papermill": {
     "duration": 0.036508,
     "end_time": "2022-04-25T12:15:31.509155",
     "exception": false,
     "start_time": "2022-04-25T12:15:31.472647",
     "status": "completed"
    },
    "tags": []
   },
   "outputs": [],
   "source": [
    "#hide\n",
    "# g['continent'] = g.country"
   ]
  },
  {
   "cell_type": "code",
   "execution_count": 28,
   "id": "substantial-wilderness",
   "metadata": {
    "execution": {
     "iopub.execute_input": "2022-04-25T12:15:31.569351Z",
     "iopub.status.busy": "2022-04-25T12:15:31.568719Z",
     "iopub.status.idle": "2022-04-25T12:15:31.572126Z",
     "shell.execute_reply": "2022-04-25T12:15:31.571584Z"
    },
    "papermill": {
     "duration": 0.034557,
     "end_time": "2022-04-25T12:15:31.572255",
     "exception": false,
     "start_time": "2022-04-25T12:15:31.537698",
     "status": "completed"
    },
    "tags": []
   },
   "outputs": [],
   "source": [
    "#hide\n",
    "# cols = list(g.columns.values)"
   ]
  },
  {
   "cell_type": "code",
   "execution_count": 29,
   "id": "solved-farming",
   "metadata": {
    "execution": {
     "iopub.execute_input": "2022-04-25T12:15:31.638417Z",
     "iopub.status.busy": "2022-04-25T12:15:31.637906Z",
     "iopub.status.idle": "2022-04-25T12:15:31.641095Z",
     "shell.execute_reply": "2022-04-25T12:15:31.641482Z"
    },
    "papermill": {
     "duration": 0.038322,
     "end_time": "2022-04-25T12:15:31.641622",
     "exception": false,
     "start_time": "2022-04-25T12:15:31.603300",
     "status": "completed"
    },
    "tags": []
   },
   "outputs": [],
   "source": [
    "#hide\n",
    "# cols.insert(0, cols.pop())"
   ]
  },
  {
   "cell_type": "code",
   "execution_count": 30,
   "id": "executed-adoption",
   "metadata": {
    "execution": {
     "iopub.execute_input": "2022-04-25T12:15:31.700047Z",
     "iopub.status.busy": "2022-04-25T12:15:31.699437Z",
     "iopub.status.idle": "2022-04-25T12:15:31.701245Z",
     "shell.execute_reply": "2022-04-25T12:15:31.700645Z"
    },
    "papermill": {
     "duration": 0.032457,
     "end_time": "2022-04-25T12:15:31.701378",
     "exception": false,
     "start_time": "2022-04-25T12:15:31.668921",
     "status": "completed"
    },
    "tags": []
   },
   "outputs": [],
   "source": [
    "#hide\n",
    "# g = g[cols]"
   ]
  },
  {
   "cell_type": "code",
   "execution_count": 31,
   "id": "subject-dublin",
   "metadata": {
    "execution": {
     "iopub.execute_input": "2022-04-25T12:15:31.768497Z",
     "iopub.status.busy": "2022-04-25T12:15:31.767861Z",
     "iopub.status.idle": "2022-04-25T12:15:31.769871Z",
     "shell.execute_reply": "2022-04-25T12:15:31.769307Z"
    },
    "papermill": {
     "duration": 0.03693,
     "end_time": "2022-04-25T12:15:31.769987",
     "exception": false,
     "start_time": "2022-04-25T12:15:31.733057",
     "status": "completed"
    },
    "tags": []
   },
   "outputs": [],
   "source": [
    "#hide\n",
    "# g['continent'] = g['continent'].map(mapping['map.continent'])"
   ]
  },
  {
   "cell_type": "code",
   "execution_count": 32,
   "id": "freelance-scout",
   "metadata": {
    "execution": {
     "iopub.execute_input": "2022-04-25T12:15:31.840168Z",
     "iopub.status.busy": "2022-04-25T12:15:31.839528Z",
     "iopub.status.idle": "2022-04-25T12:15:31.840964Z",
     "shell.execute_reply": "2022-04-25T12:15:31.841477Z"
    },
    "papermill": {
     "duration": 0.03954,
     "end_time": "2022-04-25T12:15:31.841617",
     "exception": false,
     "start_time": "2022-04-25T12:15:31.802077",
     "status": "completed"
    },
    "tags": []
   },
   "outputs": [],
   "source": [
    "#hide\n",
    "# g.head()"
   ]
  },
  {
   "cell_type": "code",
   "execution_count": 33,
   "id": "limited-engine",
   "metadata": {
    "execution": {
     "iopub.execute_input": "2022-04-25T12:15:31.907255Z",
     "iopub.status.busy": "2022-04-25T12:15:31.906634Z",
     "iopub.status.idle": "2022-04-25T12:15:31.910277Z",
     "shell.execute_reply": "2022-04-25T12:15:31.910716Z"
    },
    "papermill": {
     "duration": 0.03865,
     "end_time": "2022-04-25T12:15:31.910876",
     "exception": false,
     "start_time": "2022-04-25T12:15:31.872226",
     "status": "completed"
    },
    "tags": []
   },
   "outputs": [],
   "source": [
    "# hide\n",
    "# g['date'] = g['date'].astype('datetime64[ns]')"
   ]
  },
  {
   "cell_type": "code",
   "execution_count": 34,
   "id": "sophisticated-supervisor",
   "metadata": {
    "execution": {
     "iopub.execute_input": "2022-04-25T12:15:31.978550Z",
     "iopub.status.busy": "2022-04-25T12:15:31.977894Z",
     "iopub.status.idle": "2022-04-25T12:15:31.979952Z",
     "shell.execute_reply": "2022-04-25T12:15:31.979362Z"
    },
    "papermill": {
     "duration": 0.036716,
     "end_time": "2022-04-25T12:15:31.980081",
     "exception": false,
     "start_time": "2022-04-25T12:15:31.943365",
     "status": "completed"
    },
    "tags": []
   },
   "outputs": [],
   "source": [
    "#hide\n",
    "# g['date'] = g.date.dt.dayofyear"
   ]
  },
  {
   "cell_type": "code",
   "execution_count": 35,
   "id": "inside-dubai",
   "metadata": {
    "execution": {
     "iopub.execute_input": "2022-04-25T12:15:32.046352Z",
     "iopub.status.busy": "2022-04-25T12:15:32.045791Z",
     "iopub.status.idle": "2022-04-25T12:15:32.048969Z",
     "shell.execute_reply": "2022-04-25T12:15:32.049419Z"
    },
    "papermill": {
     "duration": 0.038142,
     "end_time": "2022-04-25T12:15:32.049563",
     "exception": false,
     "start_time": "2022-04-25T12:15:32.011421",
     "status": "completed"
    },
    "tags": []
   },
   "outputs": [],
   "source": [
    "#hide\n",
    "# g = g.rename(columns= {'continent':'group','country':'name','cases':'value'})"
   ]
  },
  {
   "cell_type": "code",
   "execution_count": 36,
   "id": "fleet-motorcycle",
   "metadata": {
    "execution": {
     "iopub.execute_input": "2022-04-25T12:15:32.115557Z",
     "iopub.status.busy": "2022-04-25T12:15:32.114942Z",
     "iopub.status.idle": "2022-04-25T12:15:32.118303Z",
     "shell.execute_reply": "2022-04-25T12:15:32.118690Z"
    },
    "papermill": {
     "duration": 0.038471,
     "end_time": "2022-04-25T12:15:32.118836",
     "exception": false,
     "start_time": "2022-04-25T12:15:32.080365",
     "status": "completed"
    },
    "tags": []
   },
   "outputs": [],
   "source": [
    "#hide\n",
    "# cols = ['name','group','day','value']"
   ]
  },
  {
   "cell_type": "code",
   "execution_count": 37,
   "id": "continued-sleeping",
   "metadata": {
    "execution": {
     "iopub.execute_input": "2022-04-25T12:15:32.184314Z",
     "iopub.status.busy": "2022-04-25T12:15:32.183700Z",
     "iopub.status.idle": "2022-04-25T12:15:32.185528Z",
     "shell.execute_reply": "2022-04-25T12:15:32.184925Z"
    },
    "papermill": {
     "duration": 0.036212,
     "end_time": "2022-04-25T12:15:32.185656",
     "exception": false,
     "start_time": "2022-04-25T12:15:32.149444",
     "status": "completed"
    },
    "tags": []
   },
   "outputs": [],
   "source": [
    "#hide\n",
    "# g.rename(columns= {'date':'day'},inplace = True)"
   ]
  },
  {
   "cell_type": "code",
   "execution_count": 38,
   "id": "major-fight",
   "metadata": {
    "execution": {
     "iopub.execute_input": "2022-04-25T12:15:32.250936Z",
     "iopub.status.busy": "2022-04-25T12:15:32.250397Z",
     "iopub.status.idle": "2022-04-25T12:15:32.252396Z",
     "shell.execute_reply": "2022-04-25T12:15:32.251890Z"
    },
    "papermill": {
     "duration": 0.036058,
     "end_time": "2022-04-25T12:15:32.252504",
     "exception": false,
     "start_time": "2022-04-25T12:15:32.216446",
     "status": "completed"
    },
    "tags": []
   },
   "outputs": [],
   "source": [
    "#hide\n",
    "# g = g[cols]"
   ]
  },
  {
   "cell_type": "code",
   "execution_count": 39,
   "id": "structured-mobile",
   "metadata": {
    "execution": {
     "iopub.execute_input": "2022-04-25T12:15:32.317260Z",
     "iopub.status.busy": "2022-04-25T12:15:32.316621Z",
     "iopub.status.idle": "2022-04-25T12:15:32.318665Z",
     "shell.execute_reply": "2022-04-25T12:15:32.318096Z"
    },
    "papermill": {
     "duration": 0.035909,
     "end_time": "2022-04-25T12:15:32.318789",
     "exception": false,
     "start_time": "2022-04-25T12:15:32.282880",
     "status": "completed"
    },
    "tags": []
   },
   "outputs": [],
   "source": [
    "# #hide\n",
    "# g = g[g.group.notna()]"
   ]
  },
  {
   "cell_type": "code",
   "execution_count": 40,
   "id": "determined-closing",
   "metadata": {
    "execution": {
     "iopub.execute_input": "2022-04-25T12:15:32.384159Z",
     "iopub.status.busy": "2022-04-25T12:15:32.383595Z",
     "iopub.status.idle": "2022-04-25T12:15:32.385392Z",
     "shell.execute_reply": "2022-04-25T12:15:32.385783Z"
    },
    "papermill": {
     "duration": 0.036419,
     "end_time": "2022-04-25T12:15:32.385925",
     "exception": false,
     "start_time": "2022-04-25T12:15:32.349506",
     "status": "completed"
    },
    "tags": []
   },
   "outputs": [],
   "source": [
    "# #hide\n",
    "# colors = dict(zip(\n",
    "#     [\"Oceania\", \"Europe\", \"Asia\", \"South America\", \"Middle East\", \"North America\", \"Africa\"],\n",
    "#     [\"#adb0ff\", \"#ffb3ff\", \"#90d595\", \"#e48381\", \"#aafbff\", \"#f7bb5f\", \"#eafb50\"]\n",
    "# ))\n",
    "# group_lk = g.set_index('name')['group'].to_dict()"
   ]
  },
  {
   "cell_type": "code",
   "execution_count": null,
   "id": "gross-drinking",
   "metadata": {
    "papermill": {
     "duration": 0.030446,
     "end_time": "2022-04-25T12:15:32.446655",
     "exception": false,
     "start_time": "2022-04-25T12:15:32.416209",
     "status": "completed"
    },
    "tags": []
   },
   "outputs": [],
   "source": []
  },
  {
   "cell_type": "code",
   "execution_count": 41,
   "id": "subject-macintosh",
   "metadata": {
    "execution": {
     "iopub.execute_input": "2022-04-25T12:15:32.512708Z",
     "iopub.status.busy": "2022-04-25T12:15:32.512059Z",
     "iopub.status.idle": "2022-04-25T12:15:32.514056Z",
     "shell.execute_reply": "2022-04-25T12:15:32.513478Z"
    },
    "papermill": {
     "duration": 0.03682,
     "end_time": "2022-04-25T12:15:32.514182",
     "exception": false,
     "start_time": "2022-04-25T12:15:32.477362",
     "status": "completed"
    },
    "tags": []
   },
   "outputs": [],
   "source": [
    "# #hide\n",
    "# fig, ax = plt.subplots(figsize=(15, 8))\n",
    "\n",
    "# def draw_barchart(current_day):\n",
    "#     dff = g[g['day'].eq(current_day)].sort_values(by='value', ascending=True).tail(10)\n",
    "#     ax.clear()\n",
    "#     ax.barh(dff['name'], dff['value'], color=[colors[group_lk[x]] for x in dff['name']])\n",
    "#     dx = dff['value'].max() / 200\n",
    "    \n",
    "#     for i, (value, name) in enumerate(zip(dff['value'], dff['name'])):\n",
    "#         ax.text(value-dx, i,     name,           size=14, weight=600, ha='right', va='bottom')\n",
    "#         ax.text(value-dx, i-.25, group_lk[name], size=10, color='#444444', ha='right', va='baseline')\n",
    "#         ax.text(value+dx, i,     f'{value:,.0f}',  size=14, ha='left',  va='center')\n",
    "#     ax.text(1, 0.4, current_day, transform=ax.transAxes, color='#777777', size=46, ha='right', weight=800)\n",
    "#     ax.text(0, 1.06, 'Population (thousands)', transform=ax.transAxes, size=12, color='#777777')\n",
    "#     ax.xaxis.set_major_formatter(ticker.StrMethodFormatter('{x:,.0f}'))\n",
    "#     ax.xaxis.set_ticks_position('top')\n",
    "#     ax.tick_params(axis='x', colors='#777777', labelsize=12)\n",
    "#     ax.set_yticks([])\n",
    "#     ax.margins(0, 0.01)\n",
    "#     ax.grid(which='major', axis='x', linestyle='-')\n",
    "#     ax.set_axisbelow(True)\n",
    "    \n",
    "#     ax.text(0, 1.15, 'Coronavirus',\n",
    "#             transform=ax.transAxes, size=24, weight=600, ha='left', va='top')\n",
    "# #     ax.text(1, 0, 'by @pratapvardhan; credit @jburnmurdoch', transform=ax.transAxes, color='#777777', ha='right',\n",
    "# #             bbox=dict(facecolor='white', alpha=0.8, edgecolor='white'))\n",
    "#     plt.box(False)"
   ]
  },
  {
   "cell_type": "code",
   "execution_count": 42,
   "id": "sexual-wages",
   "metadata": {
    "execution": {
     "iopub.execute_input": "2022-04-25T12:15:32.580478Z",
     "iopub.status.busy": "2022-04-25T12:15:32.579856Z",
     "iopub.status.idle": "2022-04-25T12:15:32.583967Z",
     "shell.execute_reply": "2022-04-25T12:15:32.583482Z"
    },
    "papermill": {
     "duration": 0.039314,
     "end_time": "2022-04-25T12:15:32.584100",
     "exception": false,
     "start_time": "2022-04-25T12:15:32.544786",
     "status": "completed"
    },
    "tags": []
   },
   "outputs": [],
   "source": [
    "# #hide_input\n",
    "# fig, ax = plt.subplots(figsize=(15, 8))\n",
    "# animator = animation.FuncAnimation(fig, draw_barchart, frames=range(g.day.values.min(), g.day.values.max()))\n",
    "# HTML(animator.to_jshtml())\n",
    "# # or use animator.to_html5_video() or animator.save() "
   ]
  },
  {
   "cell_type": "code",
   "execution_count": null,
   "id": "australian-container",
   "metadata": {
    "papermill": {
     "duration": 0.030499,
     "end_time": "2022-04-25T12:15:32.645616",
     "exception": false,
     "start_time": "2022-04-25T12:15:32.615117",
     "status": "completed"
    },
    "tags": []
   },
   "outputs": [],
   "source": []
  },
  {
   "cell_type": "code",
   "execution_count": null,
   "id": "mediterranean-pontiac",
   "metadata": {
    "papermill": {
     "duration": 0.030267,
     "end_time": "2022-04-25T12:15:32.706232",
     "exception": false,
     "start_time": "2022-04-25T12:15:32.675965",
     "status": "completed"
    },
    "tags": []
   },
   "outputs": [],
   "source": []
  },
  {
   "cell_type": "code",
   "execution_count": null,
   "id": "aging-legislature",
   "metadata": {
    "papermill": {
     "duration": 0.03038,
     "end_time": "2022-04-25T12:15:32.767196",
     "exception": false,
     "start_time": "2022-04-25T12:15:32.736816",
     "status": "completed"
    },
    "tags": []
   },
   "outputs": [],
   "source": []
  }
 ],
 "metadata": {
  "kernelspec": {
   "display_name": "Python 3",
   "language": "python",
   "name": "python3"
  },
  "language_info": {
   "codemirror_mode": {
    "name": "ipython",
    "version": 3
   },
   "file_extension": ".py",
   "mimetype": "text/x-python",
   "name": "python",
   "nbconvert_exporter": "python",
   "pygments_lexer": "ipython3",
   "version": "3.6.15"
  },
  "papermill": {
   "duration": 5.972752,
   "end_time": "2022-04-25T12:15:33.217200",
   "environment_variables": {},
   "exception": null,
   "input_path": "2020-03-21-covid19exp.ipynb",
   "output_path": "2020-03-21-covid19exp.ipynb",
   "parameters": {},
   "start_time": "2022-04-25T12:15:27.244448",
   "version": "2.0.0"
  }
 },
 "nbformat": 4,
 "nbformat_minor": 5
}