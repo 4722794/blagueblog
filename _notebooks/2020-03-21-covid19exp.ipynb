{
 "cells": [
  {
   "cell_type": "markdown",
   "id": "muslim-click",
   "metadata": {
    "papermill": {
     "duration": 0.039407,
     "end_time": "2022-08-14T00:45:34.166123",
     "exception": false,
     "start_time": "2022-08-14T00:45:34.126716",
     "status": "completed"
    },
    "tags": []
   },
   "source": [
    "# COVID-19 Case Race\n",
    "> A race chart to see rising cases around the world\n",
    "\n",
    "- author: Hargun Oberoi\n",
    "- image: images/covid-overview.png\n",
    "- hide: false\n",
    "- badges: false"
   ]
  },
  {
   "cell_type": "code",
   "execution_count": 1,
   "id": "proof-material",
   "metadata": {
    "execution": {
     "iopub.execute_input": "2022-08-14T00:45:34.228103Z",
     "iopub.status.busy": "2022-08-14T00:45:34.226960Z",
     "iopub.status.idle": "2022-08-14T00:45:34.567919Z",
     "shell.execute_reply": "2022-08-14T00:45:34.565904Z"
    },
    "papermill": {
     "duration": 0.372006,
     "end_time": "2022-08-14T00:45:34.568171",
     "exception": false,
     "start_time": "2022-08-14T00:45:34.196165",
     "status": "completed"
    },
    "tags": []
   },
   "outputs": [],
   "source": [
    "#hide\n",
    "import numpy as np\n",
    "import pandas as pd\n",
    "from jinja2 import Template\n",
    "from IPython.display import HTML"
   ]
  },
  {
   "cell_type": "code",
   "execution_count": 2,
   "id": "developed-terminology",
   "metadata": {
    "execution": {
     "iopub.execute_input": "2022-08-14T00:45:34.630222Z",
     "iopub.status.busy": "2022-08-14T00:45:34.629537Z",
     "iopub.status.idle": "2022-08-14T00:45:34.632535Z",
     "shell.execute_reply": "2022-08-14T00:45:34.632135Z"
    },
    "papermill": {
     "duration": 0.035604,
     "end_time": "2022-08-14T00:45:34.632631",
     "exception": false,
     "start_time": "2022-08-14T00:45:34.597027",
     "status": "completed"
    },
    "tags": []
   },
   "outputs": [],
   "source": [
    "#hide\n",
    "\n",
    "# FETCH\n",
    "base_url = 'https://raw.githubusercontent.com/pratapvardhan/notebooks/master/covid19/'\n",
    "paths = {\n",
    "    'mapping': base_url + 'mapping_countries.csv',\n",
    "    'overview': base_url + 'overview.tpl'\n",
    "}"
   ]
  },
  {
   "cell_type": "code",
   "execution_count": 3,
   "id": "dynamic-saver",
   "metadata": {
    "execution": {
     "iopub.execute_input": "2022-08-14T00:45:34.698758Z",
     "iopub.status.busy": "2022-08-14T00:45:34.695438Z",
     "iopub.status.idle": "2022-08-14T00:45:34.701853Z",
     "shell.execute_reply": "2022-08-14T00:45:34.702435Z"
    },
    "papermill": {
     "duration": 0.042748,
     "end_time": "2022-08-14T00:45:34.702592",
     "exception": false,
     "start_time": "2022-08-14T00:45:34.659844",
     "status": "completed"
    },
    "tags": []
   },
   "outputs": [
    {
     "data": {
      "text/plain": [
       "'https://raw.githubusercontent.com/pratapvardhan/notebooks/master/covid19/mapping_countries.csv'"
      ]
     },
     "execution_count": 3,
     "metadata": {},
     "output_type": "execute_result"
    }
   ],
   "source": [
    "#hide\n",
    "paths['mapping']"
   ]
  },
  {
   "cell_type": "code",
   "execution_count": 4,
   "id": "urban-software",
   "metadata": {
    "execution": {
     "iopub.execute_input": "2022-08-14T00:45:34.766068Z",
     "iopub.status.busy": "2022-08-14T00:45:34.765380Z",
     "iopub.status.idle": "2022-08-14T00:45:34.767859Z",
     "shell.execute_reply": "2022-08-14T00:45:34.768444Z"
    },
    "papermill": {
     "duration": 0.03892,
     "end_time": "2022-08-14T00:45:34.768571",
     "exception": false,
     "start_time": "2022-08-14T00:45:34.729651",
     "status": "completed"
    },
    "tags": []
   },
   "outputs": [],
   "source": [
    "#hide\n",
    "def get_mappings(url):\n",
    "    df = pd.read_csv(url)\n",
    "    return {\n",
    "        'df': df,\n",
    "        'replace.country': dict(df.dropna(subset=['Name']).set_index('Country')['Name']),\n",
    "        'map.continent': dict(df.set_index('Name')['Continent'])\n",
    "    }"
   ]
  },
  {
   "cell_type": "code",
   "execution_count": 5,
   "id": "intimate-machinery",
   "metadata": {
    "execution": {
     "iopub.execute_input": "2022-08-14T00:45:34.833717Z",
     "iopub.status.busy": "2022-08-14T00:45:34.833052Z",
     "iopub.status.idle": "2022-08-14T00:45:34.881842Z",
     "shell.execute_reply": "2022-08-14T00:45:34.880802Z"
    },
    "papermill": {
     "duration": 0.082388,
     "end_time": "2022-08-14T00:45:34.882057",
     "exception": false,
     "start_time": "2022-08-14T00:45:34.799669",
     "status": "completed"
    },
    "tags": []
   },
   "outputs": [],
   "source": [
    "#hide\n",
    "mapping = get_mappings(paths['mapping'])"
   ]
  },
  {
   "cell_type": "code",
   "execution_count": 6,
   "id": "certified-tactics",
   "metadata": {
    "execution": {
     "iopub.execute_input": "2022-08-14T00:45:34.947743Z",
     "iopub.status.busy": "2022-08-14T00:45:34.947163Z",
     "iopub.status.idle": "2022-08-14T00:45:34.949912Z",
     "shell.execute_reply": "2022-08-14T00:45:34.949354Z"
    },
    "papermill": {
     "duration": 0.0366,
     "end_time": "2022-08-14T00:45:34.950015",
     "exception": false,
     "start_time": "2022-08-14T00:45:34.913415",
     "status": "completed"
    },
    "tags": []
   },
   "outputs": [],
   "source": [
    "#hide\n",
    "def get_template(path):\n",
    "    from urllib.parse import urlparse\n",
    "    if bool(urlparse(path).netloc):\n",
    "        from urllib.request import urlopen\n",
    "        return urlopen(path).read().decode('utf8')\n",
    "    return open(path).read()"
   ]
  },
  {
   "cell_type": "code",
   "execution_count": 7,
   "id": "realistic-blast",
   "metadata": {
    "execution": {
     "iopub.execute_input": "2022-08-14T00:45:35.016166Z",
     "iopub.status.busy": "2022-08-14T00:45:35.015476Z",
     "iopub.status.idle": "2022-08-14T00:45:35.019133Z",
     "shell.execute_reply": "2022-08-14T00:45:35.018628Z"
    },
    "papermill": {
     "duration": 0.038942,
     "end_time": "2022-08-14T00:45:35.019236",
     "exception": false,
     "start_time": "2022-08-14T00:45:34.980294",
     "status": "completed"
    },
    "tags": []
   },
   "outputs": [],
   "source": [
    "#hide\n",
    "def get_frame(name):\n",
    "    url = (\n",
    "        'https://raw.githubusercontent.com/CSSEGISandData/COVID-19/master/csse_covid_19_data/'\n",
    "        f'csse_covid_19_time_series/time_series_covid19_{name}_global.csv')\n",
    "    df = pd.read_csv(url)\n",
    "    # rename countries\n",
    "    df['Country/Region'] = df['Country/Region'].replace(mapping['replace.country'])\n",
    "    return df"
   ]
  },
  {
   "cell_type": "code",
   "execution_count": 8,
   "id": "affiliated-characterization",
   "metadata": {
    "execution": {
     "iopub.execute_input": "2022-08-14T00:45:35.081222Z",
     "iopub.status.busy": "2022-08-14T00:45:35.080712Z",
     "iopub.status.idle": "2022-08-14T00:45:35.083520Z",
     "shell.execute_reply": "2022-08-14T00:45:35.083045Z"
    },
    "papermill": {
     "duration": 0.03777,
     "end_time": "2022-08-14T00:45:35.083627",
     "exception": false,
     "start_time": "2022-08-14T00:45:35.045857",
     "status": "completed"
    },
    "tags": []
   },
   "outputs": [],
   "source": [
    "#hide\n",
    "def get_dates(df):\n",
    "    dt_cols = df.columns[~df.columns.isin(['Province/State', 'Country/Region', 'Lat', 'Long'])]\n",
    "    LAST_DATE_I = -1\n",
    "    # sometimes last column may be empty, then go backwards\n",
    "    for i in range(-1, -len(dt_cols), -1):\n",
    "        if not df[dt_cols[i]].fillna(0).eq(0).all():\n",
    "            LAST_DATE_I = i\n",
    "            break\n",
    "    return LAST_DATE_I, dt_cols"
   ]
  },
  {
   "cell_type": "code",
   "execution_count": 9,
   "id": "recent-optimization",
   "metadata": {
    "execution": {
     "iopub.execute_input": "2022-08-14T00:45:35.151180Z",
     "iopub.status.busy": "2022-08-14T00:45:35.150540Z",
     "iopub.status.idle": "2022-08-14T00:45:35.673648Z",
     "shell.execute_reply": "2022-08-14T00:45:35.672566Z"
    },
    "papermill": {
     "duration": 0.561154,
     "end_time": "2022-08-14T00:45:35.673874",
     "exception": false,
     "start_time": "2022-08-14T00:45:35.112720",
     "status": "completed"
    },
    "tags": []
   },
   "outputs": [],
   "source": [
    "#hide\n",
    "COL_REGION = 'Country/Region'\n",
    "# Confirmed, Recovered, Deaths\n",
    "df = get_frame('confirmed')\n",
    "# dft_: timeseries, dfc_: today country agg\n",
    "dft_cases = df\n",
    "dft_deaths = get_frame('deaths')\n",
    "dft_recovered = get_frame('recovered')\n",
    "LAST_DATE_I, dt_cols = get_dates(df)"
   ]
  },
  {
   "cell_type": "code",
   "execution_count": 10,
   "id": "absolute-copper",
   "metadata": {
    "execution": {
     "iopub.execute_input": "2022-08-14T00:45:35.740738Z",
     "iopub.status.busy": "2022-08-14T00:45:35.740145Z",
     "iopub.status.idle": "2022-08-14T00:45:35.742276Z",
     "shell.execute_reply": "2022-08-14T00:45:35.742707Z"
    },
    "papermill": {
     "duration": 0.037391,
     "end_time": "2022-08-14T00:45:35.742829",
     "exception": false,
     "start_time": "2022-08-14T00:45:35.705438",
     "status": "completed"
    },
    "tags": []
   },
   "outputs": [],
   "source": [
    "#hide\n",
    "LAST_DATE_I, dt_cols = get_dates(df)\n",
    "dt_today =dt_cols[LAST_DATE_I]\n",
    "# dt_5day = dt_cols[LAST_DATE_I - 5]\n",
    "dt_yday = dt_cols[LAST_DATE_I - 1]"
   ]
  },
  {
   "cell_type": "code",
   "execution_count": 11,
   "id": "restricted-sheriff",
   "metadata": {
    "execution": {
     "iopub.execute_input": "2022-08-14T00:45:35.810070Z",
     "iopub.status.busy": "2022-08-14T00:45:35.809427Z",
     "iopub.status.idle": "2022-08-14T00:45:35.817324Z",
     "shell.execute_reply": "2022-08-14T00:45:35.817792Z"
    },
    "papermill": {
     "duration": 0.045333,
     "end_time": "2022-08-14T00:45:35.817911",
     "exception": false,
     "start_time": "2022-08-14T00:45:35.772578",
     "status": "completed"
    },
    "tags": []
   },
   "outputs": [],
   "source": [
    "#hide\n",
    "dfc_cases = dft_cases.groupby(COL_REGION)[dt_today].sum()\n",
    "dfc_deaths = dft_deaths.groupby(COL_REGION)[dt_today].sum()\n",
    "# dfp_cases = dft_cases.groupby(COL_REGION)[dt_5day].sum()\n",
    "# dfp_deaths = dft_deaths.groupby(COL_REGION)[dt_5day].sum()\n",
    "dfp_cases = dft_cases.groupby(COL_REGION)[dt_yday].sum()\n",
    "dfp_deaths = dft_deaths.groupby(COL_REGION)[dt_yday].sum()"
   ]
  },
  {
   "cell_type": "code",
   "execution_count": 12,
   "id": "deluxe-hepatitis",
   "metadata": {
    "execution": {
     "iopub.execute_input": "2022-08-14T00:45:35.882631Z",
     "iopub.status.busy": "2022-08-14T00:45:35.882001Z",
     "iopub.status.idle": "2022-08-14T00:45:35.886730Z",
     "shell.execute_reply": "2022-08-14T00:45:35.886281Z"
    },
    "papermill": {
     "duration": 0.040928,
     "end_time": "2022-08-14T00:45:35.886829",
     "exception": false,
     "start_time": "2022-08-14T00:45:35.845901",
     "status": "completed"
    },
    "tags": []
   },
   "outputs": [],
   "source": [
    "#hide\n",
    "df_table = (pd.DataFrame(dict(Cases = dfc_cases, Deaths = dfc_deaths, PCases = dfp_cases, PDeaths = dfp_deaths))\n",
    "            .sort_values(by = ['Cases','Deaths'], ascending = [False, False])\n",
    "            .reset_index())"
   ]
  },
  {
   "cell_type": "code",
   "execution_count": 13,
   "id": "educational-chancellor",
   "metadata": {
    "execution": {
     "iopub.execute_input": "2022-08-14T00:45:35.960378Z",
     "iopub.status.busy": "2022-08-14T00:45:35.959746Z",
     "iopub.status.idle": "2022-08-14T00:45:35.973527Z",
     "shell.execute_reply": "2022-08-14T00:45:35.973031Z"
    },
    "papermill": {
     "duration": 0.057512,
     "end_time": "2022-08-14T00:45:35.973630",
     "exception": false,
     "start_time": "2022-08-14T00:45:35.916118",
     "status": "completed"
    },
    "tags": []
   },
   "outputs": [
    {
     "data": {
      "text/html": [
       "<div>\n",
       "<style scoped>\n",
       "    .dataframe tbody tr th:only-of-type {\n",
       "        vertical-align: middle;\n",
       "    }\n",
       "\n",
       "    .dataframe tbody tr th {\n",
       "        vertical-align: top;\n",
       "    }\n",
       "\n",
       "    .dataframe thead th {\n",
       "        text-align: right;\n",
       "    }\n",
       "</style>\n",
       "<table border=\"1\" class=\"dataframe\">\n",
       "  <thead>\n",
       "    <tr style=\"text-align: right;\">\n",
       "      <th></th>\n",
       "      <th>Country/Region</th>\n",
       "      <th>Cases</th>\n",
       "      <th>Deaths</th>\n",
       "      <th>PCases</th>\n",
       "      <th>PDeaths</th>\n",
       "      <th>Cases (+)</th>\n",
       "      <th>Deaths (+)</th>\n",
       "      <th>Fatality Rate</th>\n",
       "      <th>Continent</th>\n",
       "    </tr>\n",
       "  </thead>\n",
       "  <tbody>\n",
       "    <tr>\n",
       "      <th>0</th>\n",
       "      <td>US</td>\n",
       "      <td>92838677</td>\n",
       "      <td>1036990</td>\n",
       "      <td>92720029</td>\n",
       "      <td>1036325</td>\n",
       "      <td>118648</td>\n",
       "      <td>665</td>\n",
       "      <td>1.12</td>\n",
       "      <td>North America</td>\n",
       "    </tr>\n",
       "    <tr>\n",
       "      <th>1</th>\n",
       "      <td>India</td>\n",
       "      <td>44239372</td>\n",
       "      <td>526996</td>\n",
       "      <td>44223557</td>\n",
       "      <td>526928</td>\n",
       "      <td>15815</td>\n",
       "      <td>68</td>\n",
       "      <td>1.19</td>\n",
       "      <td>Asia</td>\n",
       "    </tr>\n",
       "    <tr>\n",
       "      <th>2</th>\n",
       "      <td>France</td>\n",
       "      <td>34406092</td>\n",
       "      <td>154104</td>\n",
       "      <td>34383344</td>\n",
       "      <td>154030</td>\n",
       "      <td>22748</td>\n",
       "      <td>74</td>\n",
       "      <td>0.45</td>\n",
       "      <td>Europe</td>\n",
       "    </tr>\n",
       "    <tr>\n",
       "      <th>3</th>\n",
       "      <td>Brazil</td>\n",
       "      <td>34148131</td>\n",
       "      <td>681253</td>\n",
       "      <td>34124579</td>\n",
       "      <td>681006</td>\n",
       "      <td>23552</td>\n",
       "      <td>247</td>\n",
       "      <td>1.99</td>\n",
       "      <td>South America</td>\n",
       "    </tr>\n",
       "    <tr>\n",
       "      <th>4</th>\n",
       "      <td>Germany</td>\n",
       "      <td>31535343</td>\n",
       "      <td>145698</td>\n",
       "      <td>31489484</td>\n",
       "      <td>145561</td>\n",
       "      <td>45859</td>\n",
       "      <td>137</td>\n",
       "      <td>0.46</td>\n",
       "      <td>Europe</td>\n",
       "    </tr>\n",
       "  </tbody>\n",
       "</table>\n",
       "</div>"
      ],
      "text/plain": [
       "  Country/Region     Cases   Deaths    PCases  PDeaths  Cases (+)  Deaths (+)  \\\n",
       "0             US  92838677  1036990  92720029  1036325     118648         665   \n",
       "1          India  44239372   526996  44223557   526928      15815          68   \n",
       "2         France  34406092   154104  34383344   154030      22748          74   \n",
       "3         Brazil  34148131   681253  34124579   681006      23552         247   \n",
       "4        Germany  31535343   145698  31489484   145561      45859         137   \n",
       "\n",
       "   Fatality Rate      Continent  \n",
       "0           1.12  North America  \n",
       "1           1.19           Asia  \n",
       "2           0.45         Europe  \n",
       "3           1.99  South America  \n",
       "4           0.46         Europe  "
      ]
     },
     "execution_count": 13,
     "metadata": {},
     "output_type": "execute_result"
    }
   ],
   "source": [
    "#hide\n",
    "for c in 'Cases, Deaths'.split(', '):\n",
    "    df_table[f'{c} (+)'] = (df_table[c] - df_table[f'P{c}']).clip(0)\n",
    "    #Clip ça veut dire, les chiffres negatif sont interdit\n",
    "df_table['Fatality Rate'] = (100* df_table['Deaths']/ df_table['Cases']).round(2)\n",
    "df_table['Continent'] = df_table['Country/Region'].map(mapping['map.continent'])\n",
    "df_table.head(5)"
   ]
  },
  {
   "cell_type": "code",
   "execution_count": 14,
   "id": "aboriginal-bulgaria",
   "metadata": {
    "execution": {
     "iopub.execute_input": "2022-08-14T00:45:36.042098Z",
     "iopub.status.busy": "2022-08-14T00:45:36.041459Z",
     "iopub.status.idle": "2022-08-14T00:45:36.045453Z",
     "shell.execute_reply": "2022-08-14T00:45:36.044894Z"
    },
    "papermill": {
     "duration": 0.043041,
     "end_time": "2022-08-14T00:45:36.045570",
     "exception": false,
     "start_time": "2022-08-14T00:45:36.002529",
     "status": "completed"
    },
    "tags": []
   },
   "outputs": [],
   "source": [
    "#hide\n",
    "#delete problematic countries from table\n",
    "df_table = df_table[~df_table['Country/Region'].isin(['Cape Verde', 'Cruise Ship', 'Kosovo'])]"
   ]
  },
  {
   "cell_type": "code",
   "execution_count": 15,
   "id": "fantastic-effect",
   "metadata": {
    "execution": {
     "iopub.execute_input": "2022-08-14T00:45:36.117621Z",
     "iopub.status.busy": "2022-08-14T00:45:36.116872Z",
     "iopub.status.idle": "2022-08-14T00:45:36.134383Z",
     "shell.execute_reply": "2022-08-14T00:45:36.134897Z"
    },
    "papermill": {
     "duration": 0.059125,
     "end_time": "2022-08-14T00:45:36.135044",
     "exception": false,
     "start_time": "2022-08-14T00:45:36.075919",
     "status": "completed"
    },
    "tags": []
   },
   "outputs": [
    {
     "data": {
      "text/html": [
       "<div>\n",
       "<style scoped>\n",
       "    .dataframe tbody tr th:only-of-type {\n",
       "        vertical-align: middle;\n",
       "    }\n",
       "\n",
       "    .dataframe tbody tr th {\n",
       "        vertical-align: top;\n",
       "    }\n",
       "\n",
       "    .dataframe thead th {\n",
       "        text-align: right;\n",
       "    }\n",
       "</style>\n",
       "<table border=\"1\" class=\"dataframe\">\n",
       "  <thead>\n",
       "    <tr style=\"text-align: right;\">\n",
       "      <th></th>\n",
       "      <th>Country/Region</th>\n",
       "      <th>Cases</th>\n",
       "      <th>Deaths</th>\n",
       "      <th>PCases</th>\n",
       "      <th>PDeaths</th>\n",
       "      <th>Cases (+)</th>\n",
       "      <th>Deaths (+)</th>\n",
       "      <th>Fatality Rate</th>\n",
       "      <th>Continent</th>\n",
       "    </tr>\n",
       "  </thead>\n",
       "  <tbody>\n",
       "    <tr>\n",
       "      <th>0</th>\n",
       "      <td>US</td>\n",
       "      <td>92838677</td>\n",
       "      <td>1036990</td>\n",
       "      <td>92720029</td>\n",
       "      <td>1036325</td>\n",
       "      <td>118648</td>\n",
       "      <td>665</td>\n",
       "      <td>1.1</td>\n",
       "      <td>North America</td>\n",
       "    </tr>\n",
       "    <tr>\n",
       "      <th>1</th>\n",
       "      <td>India</td>\n",
       "      <td>44239372</td>\n",
       "      <td>526996</td>\n",
       "      <td>44223557</td>\n",
       "      <td>526928</td>\n",
       "      <td>15815</td>\n",
       "      <td>68</td>\n",
       "      <td>1.2</td>\n",
       "      <td>Asia</td>\n",
       "    </tr>\n",
       "    <tr>\n",
       "      <th>2</th>\n",
       "      <td>France</td>\n",
       "      <td>34406092</td>\n",
       "      <td>154104</td>\n",
       "      <td>34383344</td>\n",
       "      <td>154030</td>\n",
       "      <td>22748</td>\n",
       "      <td>74</td>\n",
       "      <td>0.4</td>\n",
       "      <td>Europe</td>\n",
       "    </tr>\n",
       "    <tr>\n",
       "      <th>3</th>\n",
       "      <td>Brazil</td>\n",
       "      <td>34148131</td>\n",
       "      <td>681253</td>\n",
       "      <td>34124579</td>\n",
       "      <td>681006</td>\n",
       "      <td>23552</td>\n",
       "      <td>247</td>\n",
       "      <td>2.0</td>\n",
       "      <td>South America</td>\n",
       "    </tr>\n",
       "    <tr>\n",
       "      <th>4</th>\n",
       "      <td>Germany</td>\n",
       "      <td>31535343</td>\n",
       "      <td>145698</td>\n",
       "      <td>31489484</td>\n",
       "      <td>145561</td>\n",
       "      <td>45859</td>\n",
       "      <td>137</td>\n",
       "      <td>0.5</td>\n",
       "      <td>Europe</td>\n",
       "    </tr>\n",
       "  </tbody>\n",
       "</table>\n",
       "</div>"
      ],
      "text/plain": [
       "  Country/Region     Cases   Deaths    PCases  PDeaths  Cases (+)  Deaths (+)  \\\n",
       "0             US  92838677  1036990  92720029  1036325     118648         665   \n",
       "1          India  44239372   526996  44223557   526928      15815          68   \n",
       "2         France  34406092   154104  34383344   154030      22748          74   \n",
       "3         Brazil  34148131   681253  34124579   681006      23552         247   \n",
       "4        Germany  31535343   145698  31489484   145561      45859         137   \n",
       "\n",
       "   Fatality Rate      Continent  \n",
       "0            1.1  North America  \n",
       "1            1.2           Asia  \n",
       "2            0.4         Europe  \n",
       "3            2.0  South America  \n",
       "4            0.5         Europe  "
      ]
     },
     "execution_count": 15,
     "metadata": {},
     "output_type": "execute_result"
    }
   ],
   "source": [
    "#hide\n",
    "df_table = (pd.DataFrame(dict(Cases=dfc_cases, Deaths=dfc_deaths, PCases=dfp_cases, PDeaths=dfp_deaths))\n",
    "             .sort_values(by=['Cases', 'Deaths'], ascending=[False, False])\n",
    "             .reset_index())\n",
    "df_table.rename(columns={'index': 'Country/Region'}, inplace=True)\n",
    "for c in 'Cases, Deaths'.split(', '):\n",
    "    df_table[f'{c} (+)'] = (df_table[c] - df_table[f'P{c}']).clip(0)  # DATA BUG\n",
    "df_table['Fatality Rate'] = (100 * df_table['Deaths'] / df_table['Cases']).round(1)\n",
    "df_table['Continent'] = df_table['Country/Region'].map(mapping['map.continent'])\n",
    "df_table.head(5)"
   ]
  },
  {
   "cell_type": "code",
   "execution_count": 16,
   "id": "fewer-occasion",
   "metadata": {
    "execution": {
     "iopub.execute_input": "2022-08-14T00:45:36.201208Z",
     "iopub.status.busy": "2022-08-14T00:45:36.200695Z",
     "iopub.status.idle": "2022-08-14T00:45:36.205095Z",
     "shell.execute_reply": "2022-08-14T00:45:36.205804Z"
    },
    "papermill": {
     "duration": 0.039917,
     "end_time": "2022-08-14T00:45:36.205945",
     "exception": false,
     "start_time": "2022-08-14T00:45:36.166028",
     "status": "completed"
    },
    "tags": []
   },
   "outputs": [],
   "source": [
    "#hide\n",
    "#delete problematic countries from table\n",
    "df_table = df_table[~df_table['Country/Region'].isin(['Cape Verde', 'Cruise Ship', 'Kosovo'])]"
   ]
  },
  {
   "cell_type": "code",
   "execution_count": 17,
   "id": "related-center",
   "metadata": {
    "execution": {
     "iopub.execute_input": "2022-08-14T00:45:36.274826Z",
     "iopub.status.busy": "2022-08-14T00:45:36.274340Z",
     "iopub.status.idle": "2022-08-14T00:45:36.284324Z",
     "shell.execute_reply": "2022-08-14T00:45:36.283781Z"
    },
    "papermill": {
     "duration": 0.05082,
     "end_time": "2022-08-14T00:45:36.284427",
     "exception": false,
     "start_time": "2022-08-14T00:45:36.233607",
     "status": "completed"
    },
    "tags": []
   },
   "outputs": [],
   "source": [
    "#hide\n",
    "metrics = [df_table.columns[index] for index in [1,2,5,6]]\n",
    "# s_china = df_table[df_table['Country/Region'].eq('China')][metrics].sum().add_prefix('China ')\n",
    "s_us = df_table[df_table['Country/Region'].eq('US')][metrics].sum().add_prefix('US ')\n",
    "s_eu = df_table[df_table['Continent'].eq('Europe')][metrics].sum().add_prefix('EU ')\n",
    "s_ind = df_table[df_table['Country/Region'].eq('India')][metrics].sum().add_prefix('India ')\n",
    "summary = {'updated': pd.to_datetime(dt_today), 'since': pd.to_datetime(dt_yday)}\n",
    "summary = {'updated': pd.to_datetime(dt_today), 'since': pd.to_datetime(dt_yday)}\n",
    "summary = {**summary, **df_table[metrics].sum(), **s_ind, **s_us, **s_eu}"
   ]
  },
  {
   "cell_type": "code",
   "execution_count": 18,
   "id": "engaging-syndrome",
   "metadata": {
    "execution": {
     "iopub.execute_input": "2022-08-14T00:45:36.347436Z",
     "iopub.status.busy": "2022-08-14T00:45:36.346881Z",
     "iopub.status.idle": "2022-08-14T00:45:36.366796Z",
     "shell.execute_reply": "2022-08-14T00:45:36.366245Z"
    },
    "papermill": {
     "duration": 0.05478,
     "end_time": "2022-08-14T00:45:36.366902",
     "exception": false,
     "start_time": "2022-08-14T00:45:36.312122",
     "status": "completed"
    },
    "tags": []
   },
   "outputs": [],
   "source": [
    "#hide\n",
    "dft_ct_new_cases = dft_cases.groupby(COL_REGION)[dt_cols].sum().diff(axis=1).fillna(0).astype(int)"
   ]
  },
  {
   "cell_type": "code",
   "execution_count": 19,
   "id": "neutral-assignment",
   "metadata": {
    "execution": {
     "iopub.execute_input": "2022-08-14T00:45:36.439189Z",
     "iopub.status.busy": "2022-08-14T00:45:36.438493Z",
     "iopub.status.idle": "2022-08-14T00:45:36.441563Z",
     "shell.execute_reply": "2022-08-14T00:45:36.442092Z"
    },
    "papermill": {
     "duration": 0.043511,
     "end_time": "2022-08-14T00:45:36.442228",
     "exception": false,
     "start_time": "2022-08-14T00:45:36.398717",
     "status": "completed"
    },
    "tags": []
   },
   "outputs": [],
   "source": [
    "#hide\n",
    "everydaycases = dft_ct_new_cases.cumsum(axis=1)"
   ]
  },
  {
   "cell_type": "code",
   "execution_count": 20,
   "id": "parliamentary-calgary",
   "metadata": {
    "execution": {
     "iopub.execute_input": "2022-08-14T00:45:36.510973Z",
     "iopub.status.busy": "2022-08-14T00:45:36.510292Z",
     "iopub.status.idle": "2022-08-14T00:45:37.138150Z",
     "shell.execute_reply": "2022-08-14T00:45:37.138612Z"
    },
    "papermill": {
     "duration": 0.666314,
     "end_time": "2022-08-14T00:45:37.138761",
     "exception": false,
     "start_time": "2022-08-14T00:45:36.472447",
     "status": "completed"
    },
    "tags": []
   },
   "outputs": [],
   "source": [
    "#hide\n",
    "import pandas as pd\n",
    "import matplotlib.pyplot as plt\n",
    "import matplotlib.ticker as ticker\n",
    "import matplotlib.animation as animation\n",
    "from IPython.display import HTML"
   ]
  },
  {
   "cell_type": "code",
   "execution_count": 21,
   "id": "lasting-extraction",
   "metadata": {
    "execution": {
     "iopub.execute_input": "2022-08-14T00:45:37.205999Z",
     "iopub.status.busy": "2022-08-14T00:45:37.205334Z",
     "iopub.status.idle": "2022-08-14T00:45:37.213740Z",
     "shell.execute_reply": "2022-08-14T00:45:37.213249Z"
    },
    "papermill": {
     "duration": 0.046541,
     "end_time": "2022-08-14T00:45:37.213837",
     "exception": false,
     "start_time": "2022-08-14T00:45:37.167296",
     "status": "completed"
    },
    "tags": []
   },
   "outputs": [],
   "source": [
    "#hide\n",
    "t = everydaycases.stack()"
   ]
  },
  {
   "cell_type": "code",
   "execution_count": 22,
   "id": "premier-sleeve",
   "metadata": {
    "execution": {
     "iopub.execute_input": "2022-08-14T00:45:37.275114Z",
     "iopub.status.busy": "2022-08-14T00:45:37.274626Z",
     "iopub.status.idle": "2022-08-14T00:45:37.287701Z",
     "shell.execute_reply": "2022-08-14T00:45:37.287299Z"
    },
    "papermill": {
     "duration": 0.046256,
     "end_time": "2022-08-14T00:45:37.287794",
     "exception": false,
     "start_time": "2022-08-14T00:45:37.241538",
     "status": "completed"
    },
    "tags": []
   },
   "outputs": [],
   "source": [
    "#hide\n",
    "g = t.reset_index(['Country/Region'])"
   ]
  },
  {
   "cell_type": "code",
   "execution_count": 23,
   "id": "distributed-pittsburgh",
   "metadata": {
    "execution": {
     "iopub.execute_input": "2022-08-14T00:45:37.347236Z",
     "iopub.status.busy": "2022-08-14T00:45:37.346654Z",
     "iopub.status.idle": "2022-08-14T00:45:37.351177Z",
     "shell.execute_reply": "2022-08-14T00:45:37.350778Z"
    },
    "papermill": {
     "duration": 0.036685,
     "end_time": "2022-08-14T00:45:37.351269",
     "exception": false,
     "start_time": "2022-08-14T00:45:37.314584",
     "status": "completed"
    },
    "tags": []
   },
   "outputs": [],
   "source": [
    "#hide\n",
    "g.index.name = 'date'"
   ]
  },
  {
   "cell_type": "code",
   "execution_count": 24,
   "id": "naked-donor",
   "metadata": {
    "execution": {
     "iopub.execute_input": "2022-08-14T00:45:37.414314Z",
     "iopub.status.busy": "2022-08-14T00:45:37.413091Z",
     "iopub.status.idle": "2022-08-14T00:45:37.415592Z",
     "shell.execute_reply": "2022-08-14T00:45:37.416485Z"
    },
    "papermill": {
     "duration": 0.034321,
     "end_time": "2022-08-14T00:45:37.416705",
     "exception": false,
     "start_time": "2022-08-14T00:45:37.382384",
     "status": "completed"
    },
    "tags": []
   },
   "outputs": [],
   "source": [
    "# #hide\n",
    "# g = g.reset_index(['date'])"
   ]
  },
  {
   "cell_type": "code",
   "execution_count": 25,
   "id": "incomplete-mustang",
   "metadata": {
    "execution": {
     "iopub.execute_input": "2022-08-14T00:45:37.478234Z",
     "iopub.status.busy": "2022-08-14T00:45:37.477760Z",
     "iopub.status.idle": "2022-08-14T00:45:37.481117Z",
     "shell.execute_reply": "2022-08-14T00:45:37.481726Z"
    },
    "papermill": {
     "duration": 0.035167,
     "end_time": "2022-08-14T00:45:37.481875",
     "exception": false,
     "start_time": "2022-08-14T00:45:37.446708",
     "status": "completed"
    },
    "tags": []
   },
   "outputs": [],
   "source": [
    "#hide\n",
    "# g.head()"
   ]
  },
  {
   "cell_type": "code",
   "execution_count": 26,
   "id": "specific-kruger",
   "metadata": {
    "execution": {
     "iopub.execute_input": "2022-08-14T00:45:37.546374Z",
     "iopub.status.busy": "2022-08-14T00:45:37.545374Z",
     "iopub.status.idle": "2022-08-14T00:45:37.549075Z",
     "shell.execute_reply": "2022-08-14T00:45:37.548126Z"
    },
    "papermill": {
     "duration": 0.037707,
     "end_time": "2022-08-14T00:45:37.549278",
     "exception": false,
     "start_time": "2022-08-14T00:45:37.511571",
     "status": "completed"
    },
    "tags": []
   },
   "outputs": [],
   "source": [
    "#hide\n",
    "# g.columns = ['date','country','cases']"
   ]
  },
  {
   "cell_type": "code",
   "execution_count": 27,
   "id": "tender-conversion",
   "metadata": {
    "execution": {
     "iopub.execute_input": "2022-08-14T00:45:37.610591Z",
     "iopub.status.busy": "2022-08-14T00:45:37.609402Z",
     "iopub.status.idle": "2022-08-14T00:45:37.611876Z",
     "shell.execute_reply": "2022-08-14T00:45:37.612774Z"
    },
    "papermill": {
     "duration": 0.034988,
     "end_time": "2022-08-14T00:45:37.612994",
     "exception": false,
     "start_time": "2022-08-14T00:45:37.578006",
     "status": "completed"
    },
    "tags": []
   },
   "outputs": [],
   "source": [
    "#hide\n",
    "# g['continent'] = g.country"
   ]
  },
  {
   "cell_type": "code",
   "execution_count": 28,
   "id": "substantial-wilderness",
   "metadata": {
    "execution": {
     "iopub.execute_input": "2022-08-14T00:45:37.680743Z",
     "iopub.status.busy": "2022-08-14T00:45:37.679560Z",
     "iopub.status.idle": "2022-08-14T00:45:37.682093Z",
     "shell.execute_reply": "2022-08-14T00:45:37.682994Z"
    },
    "papermill": {
     "duration": 0.038427,
     "end_time": "2022-08-14T00:45:37.683216",
     "exception": false,
     "start_time": "2022-08-14T00:45:37.644789",
     "status": "completed"
    },
    "tags": []
   },
   "outputs": [],
   "source": [
    "#hide\n",
    "# cols = list(g.columns.values)"
   ]
  },
  {
   "cell_type": "code",
   "execution_count": 29,
   "id": "solved-farming",
   "metadata": {
    "execution": {
     "iopub.execute_input": "2022-08-14T00:45:37.745641Z",
     "iopub.status.busy": "2022-08-14T00:45:37.745116Z",
     "iopub.status.idle": "2022-08-14T00:45:37.747256Z",
     "shell.execute_reply": "2022-08-14T00:45:37.747628Z"
    },
    "papermill": {
     "duration": 0.034508,
     "end_time": "2022-08-14T00:45:37.747745",
     "exception": false,
     "start_time": "2022-08-14T00:45:37.713237",
     "status": "completed"
    },
    "tags": []
   },
   "outputs": [],
   "source": [
    "#hide\n",
    "# cols.insert(0, cols.pop())"
   ]
  },
  {
   "cell_type": "code",
   "execution_count": 30,
   "id": "executed-adoption",
   "metadata": {
    "execution": {
     "iopub.execute_input": "2022-08-14T00:45:37.814188Z",
     "iopub.status.busy": "2022-08-14T00:45:37.812955Z",
     "iopub.status.idle": "2022-08-14T00:45:37.815317Z",
     "shell.execute_reply": "2022-08-14T00:45:37.815737Z"
    },
    "papermill": {
     "duration": 0.03685,
     "end_time": "2022-08-14T00:45:37.815850",
     "exception": false,
     "start_time": "2022-08-14T00:45:37.779000",
     "status": "completed"
    },
    "tags": []
   },
   "outputs": [],
   "source": [
    "#hide\n",
    "# g = g[cols]"
   ]
  },
  {
   "cell_type": "code",
   "execution_count": 31,
   "id": "subject-dublin",
   "metadata": {
    "execution": {
     "iopub.execute_input": "2022-08-14T00:45:37.876960Z",
     "iopub.status.busy": "2022-08-14T00:45:37.876463Z",
     "iopub.status.idle": "2022-08-14T00:45:37.878034Z",
     "shell.execute_reply": "2022-08-14T00:45:37.877568Z"
    },
    "papermill": {
     "duration": 0.033103,
     "end_time": "2022-08-14T00:45:37.878124",
     "exception": false,
     "start_time": "2022-08-14T00:45:37.845021",
     "status": "completed"
    },
    "tags": []
   },
   "outputs": [],
   "source": [
    "#hide\n",
    "# g['continent'] = g['continent'].map(mapping['map.continent'])"
   ]
  },
  {
   "cell_type": "code",
   "execution_count": 32,
   "id": "freelance-scout",
   "metadata": {
    "execution": {
     "iopub.execute_input": "2022-08-14T00:45:37.942642Z",
     "iopub.status.busy": "2022-08-14T00:45:37.941680Z",
     "iopub.status.idle": "2022-08-14T00:45:37.944994Z",
     "shell.execute_reply": "2022-08-14T00:45:37.944097Z"
    },
    "papermill": {
     "duration": 0.036738,
     "end_time": "2022-08-14T00:45:37.945189",
     "exception": false,
     "start_time": "2022-08-14T00:45:37.908451",
     "status": "completed"
    },
    "tags": []
   },
   "outputs": [],
   "source": [
    "#hide\n",
    "# g.head()"
   ]
  },
  {
   "cell_type": "code",
   "execution_count": 33,
   "id": "limited-engine",
   "metadata": {
    "execution": {
     "iopub.execute_input": "2022-08-14T00:45:38.007542Z",
     "iopub.status.busy": "2022-08-14T00:45:38.006442Z",
     "iopub.status.idle": "2022-08-14T00:45:38.010312Z",
     "shell.execute_reply": "2022-08-14T00:45:38.010667Z"
    },
    "papermill": {
     "duration": 0.037266,
     "end_time": "2022-08-14T00:45:38.010773",
     "exception": false,
     "start_time": "2022-08-14T00:45:37.973507",
     "status": "completed"
    },
    "tags": []
   },
   "outputs": [],
   "source": [
    "# hide\n",
    "# g['date'] = g['date'].astype('datetime64[ns]')"
   ]
  },
  {
   "cell_type": "code",
   "execution_count": 34,
   "id": "sophisticated-supervisor",
   "metadata": {
    "execution": {
     "iopub.execute_input": "2022-08-14T00:45:38.077441Z",
     "iopub.status.busy": "2022-08-14T00:45:38.076203Z",
     "iopub.status.idle": "2022-08-14T00:45:38.078624Z",
     "shell.execute_reply": "2022-08-14T00:45:38.079136Z"
    },
    "papermill": {
     "duration": 0.038344,
     "end_time": "2022-08-14T00:45:38.079273",
     "exception": false,
     "start_time": "2022-08-14T00:45:38.040929",
     "status": "completed"
    },
    "tags": []
   },
   "outputs": [],
   "source": [
    "#hide\n",
    "# g['date'] = g.date.dt.dayofyear"
   ]
  },
  {
   "cell_type": "code",
   "execution_count": 35,
   "id": "inside-dubai",
   "metadata": {
    "execution": {
     "iopub.execute_input": "2022-08-14T00:45:38.141967Z",
     "iopub.status.busy": "2022-08-14T00:45:38.141259Z",
     "iopub.status.idle": "2022-08-14T00:45:38.143779Z",
     "shell.execute_reply": "2022-08-14T00:45:38.143123Z"
    },
    "papermill": {
     "duration": 0.035155,
     "end_time": "2022-08-14T00:45:38.143899",
     "exception": false,
     "start_time": "2022-08-14T00:45:38.108744",
     "status": "completed"
    },
    "tags": []
   },
   "outputs": [],
   "source": [
    "#hide\n",
    "# g = g.rename(columns= {'continent':'group','country':'name','cases':'value'})"
   ]
  },
  {
   "cell_type": "code",
   "execution_count": 36,
   "id": "fleet-motorcycle",
   "metadata": {
    "execution": {
     "iopub.execute_input": "2022-08-14T00:45:38.211418Z",
     "iopub.status.busy": "2022-08-14T00:45:38.210678Z",
     "iopub.status.idle": "2022-08-14T00:45:38.212029Z",
     "shell.execute_reply": "2022-08-14T00:45:38.212447Z"
    },
    "papermill": {
     "duration": 0.037662,
     "end_time": "2022-08-14T00:45:38.212559",
     "exception": false,
     "start_time": "2022-08-14T00:45:38.174897",
     "status": "completed"
    },
    "tags": []
   },
   "outputs": [],
   "source": [
    "#hide\n",
    "# cols = ['name','group','day','value']"
   ]
  },
  {
   "cell_type": "code",
   "execution_count": 37,
   "id": "continued-sleeping",
   "metadata": {
    "execution": {
     "iopub.execute_input": "2022-08-14T00:45:38.277502Z",
     "iopub.status.busy": "2022-08-14T00:45:38.276276Z",
     "iopub.status.idle": "2022-08-14T00:45:38.281751Z",
     "shell.execute_reply": "2022-08-14T00:45:38.280550Z"
    },
    "papermill": {
     "duration": 0.039336,
     "end_time": "2022-08-14T00:45:38.281904",
     "exception": false,
     "start_time": "2022-08-14T00:45:38.242568",
     "status": "completed"
    },
    "tags": []
   },
   "outputs": [],
   "source": [
    "#hide\n",
    "# g.rename(columns= {'date':'day'},inplace = True)"
   ]
  },
  {
   "cell_type": "code",
   "execution_count": 38,
   "id": "major-fight",
   "metadata": {
    "execution": {
     "iopub.execute_input": "2022-08-14T00:45:38.343047Z",
     "iopub.status.busy": "2022-08-14T00:45:38.342221Z",
     "iopub.status.idle": "2022-08-14T00:45:38.346282Z",
     "shell.execute_reply": "2022-08-14T00:45:38.346697Z"
    },
    "papermill": {
     "duration": 0.037404,
     "end_time": "2022-08-14T00:45:38.346802",
     "exception": false,
     "start_time": "2022-08-14T00:45:38.309398",
     "status": "completed"
    },
    "tags": []
   },
   "outputs": [],
   "source": [
    "#hide\n",
    "# g = g[cols]"
   ]
  },
  {
   "cell_type": "code",
   "execution_count": 39,
   "id": "structured-mobile",
   "metadata": {
    "execution": {
     "iopub.execute_input": "2022-08-14T00:45:38.408757Z",
     "iopub.status.busy": "2022-08-14T00:45:38.408066Z",
     "iopub.status.idle": "2022-08-14T00:45:38.411235Z",
     "shell.execute_reply": "2022-08-14T00:45:38.411717Z"
    },
    "papermill": {
     "duration": 0.037055,
     "end_time": "2022-08-14T00:45:38.411829",
     "exception": false,
     "start_time": "2022-08-14T00:45:38.374774",
     "status": "completed"
    },
    "tags": []
   },
   "outputs": [],
   "source": [
    "# #hide\n",
    "# g = g[g.group.notna()]"
   ]
  },
  {
   "cell_type": "code",
   "execution_count": 40,
   "id": "determined-closing",
   "metadata": {
    "execution": {
     "iopub.execute_input": "2022-08-14T00:45:38.477642Z",
     "iopub.status.busy": "2022-08-14T00:45:38.476950Z",
     "iopub.status.idle": "2022-08-14T00:45:38.480105Z",
     "shell.execute_reply": "2022-08-14T00:45:38.479574Z"
    },
    "papermill": {
     "duration": 0.039048,
     "end_time": "2022-08-14T00:45:38.480233",
     "exception": false,
     "start_time": "2022-08-14T00:45:38.441185",
     "status": "completed"
    },
    "tags": []
   },
   "outputs": [],
   "source": [
    "# #hide\n",
    "# colors = dict(zip(\n",
    "#     [\"Oceania\", \"Europe\", \"Asia\", \"South America\", \"Middle East\", \"North America\", \"Africa\"],\n",
    "#     [\"#adb0ff\", \"#ffb3ff\", \"#90d595\", \"#e48381\", \"#aafbff\", \"#f7bb5f\", \"#eafb50\"]\n",
    "# ))\n",
    "# group_lk = g.set_index('name')['group'].to_dict()"
   ]
  },
  {
   "cell_type": "code",
   "execution_count": null,
   "id": "gross-drinking",
   "metadata": {
    "papermill": {
     "duration": 0.028203,
     "end_time": "2022-08-14T00:45:38.540501",
     "exception": false,
     "start_time": "2022-08-14T00:45:38.512298",
     "status": "completed"
    },
    "tags": []
   },
   "outputs": [],
   "source": []
  },
  {
   "cell_type": "code",
   "execution_count": 41,
   "id": "subject-macintosh",
   "metadata": {
    "execution": {
     "iopub.execute_input": "2022-08-14T00:45:38.603358Z",
     "iopub.status.busy": "2022-08-14T00:45:38.602603Z",
     "iopub.status.idle": "2022-08-14T00:45:38.606203Z",
     "shell.execute_reply": "2022-08-14T00:45:38.606824Z"
    },
    "papermill": {
     "duration": 0.037458,
     "end_time": "2022-08-14T00:45:38.606959",
     "exception": false,
     "start_time": "2022-08-14T00:45:38.569501",
     "status": "completed"
    },
    "tags": []
   },
   "outputs": [],
   "source": [
    "# #hide\n",
    "# fig, ax = plt.subplots(figsize=(15, 8))\n",
    "\n",
    "# def draw_barchart(current_day):\n",
    "#     dff = g[g['day'].eq(current_day)].sort_values(by='value', ascending=True).tail(10)\n",
    "#     ax.clear()\n",
    "#     ax.barh(dff['name'], dff['value'], color=[colors[group_lk[x]] for x in dff['name']])\n",
    "#     dx = dff['value'].max() / 200\n",
    "    \n",
    "#     for i, (value, name) in enumerate(zip(dff['value'], dff['name'])):\n",
    "#         ax.text(value-dx, i,     name,           size=14, weight=600, ha='right', va='bottom')\n",
    "#         ax.text(value-dx, i-.25, group_lk[name], size=10, color='#444444', ha='right', va='baseline')\n",
    "#         ax.text(value+dx, i,     f'{value:,.0f}',  size=14, ha='left',  va='center')\n",
    "#     ax.text(1, 0.4, current_day, transform=ax.transAxes, color='#777777', size=46, ha='right', weight=800)\n",
    "#     ax.text(0, 1.06, 'Population (thousands)', transform=ax.transAxes, size=12, color='#777777')\n",
    "#     ax.xaxis.set_major_formatter(ticker.StrMethodFormatter('{x:,.0f}'))\n",
    "#     ax.xaxis.set_ticks_position('top')\n",
    "#     ax.tick_params(axis='x', colors='#777777', labelsize=12)\n",
    "#     ax.set_yticks([])\n",
    "#     ax.margins(0, 0.01)\n",
    "#     ax.grid(which='major', axis='x', linestyle='-')\n",
    "#     ax.set_axisbelow(True)\n",
    "    \n",
    "#     ax.text(0, 1.15, 'Coronavirus',\n",
    "#             transform=ax.transAxes, size=24, weight=600, ha='left', va='top')\n",
    "# #     ax.text(1, 0, 'by @pratapvardhan; credit @jburnmurdoch', transform=ax.transAxes, color='#777777', ha='right',\n",
    "# #             bbox=dict(facecolor='white', alpha=0.8, edgecolor='white'))\n",
    "#     plt.box(False)"
   ]
  },
  {
   "cell_type": "code",
   "execution_count": 42,
   "id": "sexual-wages",
   "metadata": {
    "execution": {
     "iopub.execute_input": "2022-08-14T00:45:38.671707Z",
     "iopub.status.busy": "2022-08-14T00:45:38.670713Z",
     "iopub.status.idle": "2022-08-14T00:45:38.672785Z",
     "shell.execute_reply": "2022-08-14T00:45:38.673575Z"
    },
    "papermill": {
     "duration": 0.037577,
     "end_time": "2022-08-14T00:45:38.673774",
     "exception": false,
     "start_time": "2022-08-14T00:45:38.636197",
     "status": "completed"
    },
    "tags": []
   },
   "outputs": [],
   "source": [
    "# #hide_input\n",
    "# fig, ax = plt.subplots(figsize=(15, 8))\n",
    "# animator = animation.FuncAnimation(fig, draw_barchart, frames=range(g.day.values.min(), g.day.values.max()))\n",
    "# HTML(animator.to_jshtml())\n",
    "# # or use animator.to_html5_video() or animator.save() "
   ]
  },
  {
   "cell_type": "code",
   "execution_count": null,
   "id": "australian-container",
   "metadata": {
    "papermill": {
     "duration": 0.030849,
     "end_time": "2022-08-14T00:45:38.736090",
     "exception": false,
     "start_time": "2022-08-14T00:45:38.705241",
     "status": "completed"
    },
    "tags": []
   },
   "outputs": [],
   "source": []
  },
  {
   "cell_type": "code",
   "execution_count": null,
   "id": "mediterranean-pontiac",
   "metadata": {
    "papermill": {
     "duration": 0.028042,
     "end_time": "2022-08-14T00:45:38.796261",
     "exception": false,
     "start_time": "2022-08-14T00:45:38.768219",
     "status": "completed"
    },
    "tags": []
   },
   "outputs": [],
   "source": []
  },
  {
   "cell_type": "code",
   "execution_count": null,
   "id": "aging-legislature",
   "metadata": {
    "papermill": {
     "duration": 0.029598,
     "end_time": "2022-08-14T00:45:38.856636",
     "exception": false,
     "start_time": "2022-08-14T00:45:38.827038",
     "status": "completed"
    },
    "tags": []
   },
   "outputs": [],
   "source": []
  }
 ],
 "metadata": {
  "kernelspec": {
   "display_name": "Python 3",
   "language": "python",
   "name": "python3"
  },
  "language_info": {
   "codemirror_mode": {
    "name": "ipython",
    "version": 3
   },
   "file_extension": ".py",
   "mimetype": "text/x-python",
   "name": "python",
   "nbconvert_exporter": "python",
   "pygments_lexer": "ipython3",
   "version": "3.6.15"
  },
  "papermill": {
   "duration": 6.154999,
   "end_time": "2022-08-14T00:45:39.207670",
   "environment_variables": {},
   "exception": null,
   "input_path": "2020-03-21-covid19exp.ipynb",
   "output_path": "2020-03-21-covid19exp.ipynb",
   "parameters": {},
   "start_time": "2022-08-14T00:45:33.052671",
   "version": "2.0.0"
  }
 },
 "nbformat": 4,
 "nbformat_minor": 5
}