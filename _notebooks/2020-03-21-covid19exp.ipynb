{
 "cells": [
  {
   "cell_type": "markdown",
   "id": "muslim-click",
   "metadata": {
    "papermill": {
     "duration": 0.0302,
     "end_time": "2021-03-09T12:06:43.322356",
     "exception": false,
     "start_time": "2021-03-09T12:06:43.292156",
     "status": "completed"
    },
    "tags": []
   },
   "source": [
    "# COVID-19 Case Race\n",
    "> A race chart to see rising cases around the world\n",
    "\n",
    "- author: Hargun Oberoi\n",
    "- image: images/covid-overview.png\n",
    "- hide: false\n",
    "- badges: false"
   ]
  },
  {
   "cell_type": "code",
   "execution_count": 1,
   "id": "proof-material",
   "metadata": {
    "execution": {
     "iopub.execute_input": "2021-03-09T12:06:43.382541Z",
     "iopub.status.busy": "2021-03-09T12:06:43.382019Z",
     "iopub.status.idle": "2021-03-09T12:06:43.647459Z",
     "shell.execute_reply": "2021-03-09T12:06:43.646494Z"
    },
    "papermill": {
     "duration": 0.299905,
     "end_time": "2021-03-09T12:06:43.647590",
     "exception": false,
     "start_time": "2021-03-09T12:06:43.347685",
     "status": "completed"
    },
    "tags": []
   },
   "outputs": [],
   "source": [
    "#hide\n",
    "import numpy as np\n",
    "import pandas as pd\n",
    "from jinja2 import Template\n",
    "from IPython.display import HTML"
   ]
  },
  {
   "cell_type": "code",
   "execution_count": 2,
   "id": "developed-terminology",
   "metadata": {
    "execution": {
     "iopub.execute_input": "2021-03-09T12:06:43.701993Z",
     "iopub.status.busy": "2021-03-09T12:06:43.701504Z",
     "iopub.status.idle": "2021-03-09T12:06:43.703543Z",
     "shell.execute_reply": "2021-03-09T12:06:43.703170Z"
    },
    "papermill": {
     "duration": 0.030915,
     "end_time": "2021-03-09T12:06:43.703630",
     "exception": false,
     "start_time": "2021-03-09T12:06:43.672715",
     "status": "completed"
    },
    "tags": []
   },
   "outputs": [],
   "source": [
    "#hide\n",
    "\n",
    "# FETCH\n",
    "base_url = 'https://raw.githubusercontent.com/pratapvardhan/notebooks/master/covid19/'\n",
    "paths = {\n",
    "    'mapping': base_url + 'mapping_countries.csv',\n",
    "    'overview': base_url + 'overview.tpl'\n",
    "}"
   ]
  },
  {
   "cell_type": "code",
   "execution_count": 3,
   "id": "dynamic-saver",
   "metadata": {
    "execution": {
     "iopub.execute_input": "2021-03-09T12:06:43.762489Z",
     "iopub.status.busy": "2021-03-09T12:06:43.762065Z",
     "iopub.status.idle": "2021-03-09T12:06:43.765475Z",
     "shell.execute_reply": "2021-03-09T12:06:43.765876Z"
    },
    "papermill": {
     "duration": 0.036996,
     "end_time": "2021-03-09T12:06:43.765970",
     "exception": false,
     "start_time": "2021-03-09T12:06:43.728974",
     "status": "completed"
    },
    "tags": []
   },
   "outputs": [
    {
     "data": {
      "text/plain": [
       "'https://raw.githubusercontent.com/pratapvardhan/notebooks/master/covid19/mapping_countries.csv'"
      ]
     },
     "execution_count": 3,
     "metadata": {},
     "output_type": "execute_result"
    }
   ],
   "source": [
    "#hide\n",
    "paths['mapping']"
   ]
  },
  {
   "cell_type": "code",
   "execution_count": 4,
   "id": "urban-software",
   "metadata": {
    "execution": {
     "iopub.execute_input": "2021-03-09T12:06:43.819585Z",
     "iopub.status.busy": "2021-03-09T12:06:43.819171Z",
     "iopub.status.idle": "2021-03-09T12:06:43.821495Z",
     "shell.execute_reply": "2021-03-09T12:06:43.821892Z"
    },
    "papermill": {
     "duration": 0.03133,
     "end_time": "2021-03-09T12:06:43.821982",
     "exception": false,
     "start_time": "2021-03-09T12:06:43.790652",
     "status": "completed"
    },
    "tags": []
   },
   "outputs": [],
   "source": [
    "#hide\n",
    "def get_mappings(url):\n",
    "    df = pd.read_csv(url)\n",
    "    return {\n",
    "        'df': df,\n",
    "        'replace.country': dict(df.dropna(subset=['Name']).set_index('Country')['Name']),\n",
    "        'map.continent': dict(df.set_index('Name')['Continent'])\n",
    "    }"
   ]
  },
  {
   "cell_type": "code",
   "execution_count": 5,
   "id": "intimate-machinery",
   "metadata": {
    "execution": {
     "iopub.execute_input": "2021-03-09T12:06:43.876127Z",
     "iopub.status.busy": "2021-03-09T12:06:43.875656Z",
     "iopub.status.idle": "2021-03-09T12:06:43.916494Z",
     "shell.execute_reply": "2021-03-09T12:06:43.915669Z"
    },
    "papermill": {
     "duration": 0.070131,
     "end_time": "2021-03-09T12:06:43.916612",
     "exception": false,
     "start_time": "2021-03-09T12:06:43.846481",
     "status": "completed"
    },
    "tags": []
   },
   "outputs": [],
   "source": [
    "#hide\n",
    "mapping = get_mappings(paths['mapping'])"
   ]
  },
  {
   "cell_type": "code",
   "execution_count": 6,
   "id": "certified-tactics",
   "metadata": {
    "execution": {
     "iopub.execute_input": "2021-03-09T12:06:43.970601Z",
     "iopub.status.busy": "2021-03-09T12:06:43.970186Z",
     "iopub.status.idle": "2021-03-09T12:06:43.972334Z",
     "shell.execute_reply": "2021-03-09T12:06:43.972690Z"
    },
    "papermill": {
     "duration": 0.031888,
     "end_time": "2021-03-09T12:06:43.972782",
     "exception": false,
     "start_time": "2021-03-09T12:06:43.940894",
     "status": "completed"
    },
    "tags": []
   },
   "outputs": [],
   "source": [
    "#hide\n",
    "def get_template(path):\n",
    "    from urllib.parse import urlparse\n",
    "    if bool(urlparse(path).netloc):\n",
    "        from urllib.request import urlopen\n",
    "        return urlopen(path).read().decode('utf8')\n",
    "    return open(path).read()"
   ]
  },
  {
   "cell_type": "code",
   "execution_count": 7,
   "id": "realistic-blast",
   "metadata": {
    "execution": {
     "iopub.execute_input": "2021-03-09T12:06:44.026458Z",
     "iopub.status.busy": "2021-03-09T12:06:44.026042Z",
     "iopub.status.idle": "2021-03-09T12:06:44.029054Z",
     "shell.execute_reply": "2021-03-09T12:06:44.029482Z"
    },
    "papermill": {
     "duration": 0.031634,
     "end_time": "2021-03-09T12:06:44.029582",
     "exception": false,
     "start_time": "2021-03-09T12:06:43.997948",
     "status": "completed"
    },
    "tags": []
   },
   "outputs": [],
   "source": [
    "#hide\n",
    "def get_frame(name):\n",
    "    url = (\n",
    "        'https://raw.githubusercontent.com/CSSEGISandData/COVID-19/master/csse_covid_19_data/'\n",
    "        f'csse_covid_19_time_series/time_series_covid19_{name}_global.csv')\n",
    "    df = pd.read_csv(url)\n",
    "    # rename countries\n",
    "    df['Country/Region'] = df['Country/Region'].replace(mapping['replace.country'])\n",
    "    return df"
   ]
  },
  {
   "cell_type": "code",
   "execution_count": 8,
   "id": "affiliated-characterization",
   "metadata": {
    "execution": {
     "iopub.execute_input": "2021-03-09T12:06:44.087138Z",
     "iopub.status.busy": "2021-03-09T12:06:44.086559Z",
     "iopub.status.idle": "2021-03-09T12:06:44.088802Z",
     "shell.execute_reply": "2021-03-09T12:06:44.089290Z"
    },
    "papermill": {
     "duration": 0.035,
     "end_time": "2021-03-09T12:06:44.089378",
     "exception": false,
     "start_time": "2021-03-09T12:06:44.054378",
     "status": "completed"
    },
    "tags": []
   },
   "outputs": [],
   "source": [
    "#hide\n",
    "def get_dates(df):\n",
    "    dt_cols = df.columns[~df.columns.isin(['Province/State', 'Country/Region', 'Lat', 'Long'])]\n",
    "    LAST_DATE_I = -1\n",
    "    # sometimes last column may be empty, then go backwards\n",
    "    for i in range(-1, -len(dt_cols), -1):\n",
    "        if not df[dt_cols[i]].fillna(0).eq(0).all():\n",
    "            LAST_DATE_I = i\n",
    "            break\n",
    "    return LAST_DATE_I, dt_cols"
   ]
  },
  {
   "cell_type": "code",
   "execution_count": 9,
   "id": "recent-optimization",
   "metadata": {
    "execution": {
     "iopub.execute_input": "2021-03-09T12:06:44.142810Z",
     "iopub.status.busy": "2021-03-09T12:06:44.142321Z",
     "iopub.status.idle": "2021-03-09T12:06:44.369985Z",
     "shell.execute_reply": "2021-03-09T12:06:44.369064Z"
    },
    "papermill": {
     "duration": 0.256199,
     "end_time": "2021-03-09T12:06:44.370184",
     "exception": false,
     "start_time": "2021-03-09T12:06:44.113985",
     "status": "completed"
    },
    "tags": []
   },
   "outputs": [],
   "source": [
    "#hide\n",
    "COL_REGION = 'Country/Region'\n",
    "# Confirmed, Recovered, Deaths\n",
    "df = get_frame('confirmed')\n",
    "# dft_: timeseries, dfc_: today country agg\n",
    "dft_cases = df\n",
    "dft_deaths = get_frame('deaths')\n",
    "dft_recovered = get_frame('recovered')\n",
    "LAST_DATE_I, dt_cols = get_dates(df)"
   ]
  },
  {
   "cell_type": "code",
   "execution_count": 10,
   "id": "absolute-copper",
   "metadata": {
    "execution": {
     "iopub.execute_input": "2021-03-09T12:06:44.427917Z",
     "iopub.status.busy": "2021-03-09T12:06:44.427497Z",
     "iopub.status.idle": "2021-03-09T12:06:44.431402Z",
     "shell.execute_reply": "2021-03-09T12:06:44.430647Z"
    },
    "papermill": {
     "duration": 0.034966,
     "end_time": "2021-03-09T12:06:44.431489",
     "exception": false,
     "start_time": "2021-03-09T12:06:44.396523",
     "status": "completed"
    },
    "tags": []
   },
   "outputs": [],
   "source": [
    "#hide\n",
    "LAST_DATE_I, dt_cols = get_dates(df)\n",
    "dt_today =dt_cols[LAST_DATE_I]\n",
    "# dt_5day = dt_cols[LAST_DATE_I - 5]\n",
    "dt_yday = dt_cols[LAST_DATE_I - 1]"
   ]
  },
  {
   "cell_type": "code",
   "execution_count": 11,
   "id": "restricted-sheriff",
   "metadata": {
    "execution": {
     "iopub.execute_input": "2021-03-09T12:06:44.491361Z",
     "iopub.status.busy": "2021-03-09T12:06:44.488355Z",
     "iopub.status.idle": "2021-03-09T12:06:44.491935Z",
     "shell.execute_reply": "2021-03-09T12:06:44.492396Z"
    },
    "papermill": {
     "duration": 0.036858,
     "end_time": "2021-03-09T12:06:44.492517",
     "exception": false,
     "start_time": "2021-03-09T12:06:44.455659",
     "status": "completed"
    },
    "tags": []
   },
   "outputs": [],
   "source": [
    "#hide\n",
    "dfc_cases = dft_cases.groupby(COL_REGION)[dt_today].sum()\n",
    "dfc_deaths = dft_deaths.groupby(COL_REGION)[dt_today].sum()\n",
    "# dfp_cases = dft_cases.groupby(COL_REGION)[dt_5day].sum()\n",
    "# dfp_deaths = dft_deaths.groupby(COL_REGION)[dt_5day].sum()\n",
    "dfp_cases = dft_cases.groupby(COL_REGION)[dt_yday].sum()\n",
    "dfp_deaths = dft_deaths.groupby(COL_REGION)[dt_yday].sum()"
   ]
  },
  {
   "cell_type": "code",
   "execution_count": 12,
   "id": "deluxe-hepatitis",
   "metadata": {
    "execution": {
     "iopub.execute_input": "2021-03-09T12:06:44.546899Z",
     "iopub.status.busy": "2021-03-09T12:06:44.545881Z",
     "iopub.status.idle": "2021-03-09T12:06:44.552796Z",
     "shell.execute_reply": "2021-03-09T12:06:44.552389Z"
    },
    "papermill": {
     "duration": 0.035195,
     "end_time": "2021-03-09T12:06:44.552878",
     "exception": false,
     "start_time": "2021-03-09T12:06:44.517683",
     "status": "completed"
    },
    "tags": []
   },
   "outputs": [],
   "source": [
    "#hide\n",
    "df_table = (pd.DataFrame(dict(Cases = dfc_cases, Deaths = dfc_deaths, PCases = dfp_cases, PDeaths = dfp_deaths))\n",
    "            .sort_values(by = ['Cases','Deaths'], ascending = [False, False])\n",
    "            .reset_index())"
   ]
  },
  {
   "cell_type": "code",
   "execution_count": 13,
   "id": "educational-chancellor",
   "metadata": {
    "execution": {
     "iopub.execute_input": "2021-03-09T12:06:44.624173Z",
     "iopub.status.busy": "2021-03-09T12:06:44.620196Z",
     "iopub.status.idle": "2021-03-09T12:06:44.627286Z",
     "shell.execute_reply": "2021-03-09T12:06:44.626936Z"
    },
    "papermill": {
     "duration": 0.049916,
     "end_time": "2021-03-09T12:06:44.627365",
     "exception": false,
     "start_time": "2021-03-09T12:06:44.577449",
     "status": "completed"
    },
    "tags": []
   },
   "outputs": [
    {
     "data": {
      "text/html": [
       "<div>\n",
       "<style scoped>\n",
       "    .dataframe tbody tr th:only-of-type {\n",
       "        vertical-align: middle;\n",
       "    }\n",
       "\n",
       "    .dataframe tbody tr th {\n",
       "        vertical-align: top;\n",
       "    }\n",
       "\n",
       "    .dataframe thead th {\n",
       "        text-align: right;\n",
       "    }\n",
       "</style>\n",
       "<table border=\"1\" class=\"dataframe\">\n",
       "  <thead>\n",
       "    <tr style=\"text-align: right;\">\n",
       "      <th></th>\n",
       "      <th>Country/Region</th>\n",
       "      <th>Cases</th>\n",
       "      <th>Deaths</th>\n",
       "      <th>PCases</th>\n",
       "      <th>PDeaths</th>\n",
       "      <th>Cases (+)</th>\n",
       "      <th>Deaths (+)</th>\n",
       "      <th>Fatality Rate</th>\n",
       "      <th>Continent</th>\n",
       "    </tr>\n",
       "  </thead>\n",
       "  <tbody>\n",
       "    <tr>\n",
       "      <th>0</th>\n",
       "      <td>US</td>\n",
       "      <td>29044110</td>\n",
       "      <td>525752</td>\n",
       "      <td>28993873</td>\n",
       "      <td>525033</td>\n",
       "      <td>50237</td>\n",
       "      <td>719</td>\n",
       "      <td>1.81</td>\n",
       "      <td>North America</td>\n",
       "    </tr>\n",
       "    <tr>\n",
       "      <th>1</th>\n",
       "      <td>India</td>\n",
       "      <td>11244786</td>\n",
       "      <td>157930</td>\n",
       "      <td>11229398</td>\n",
       "      <td>157853</td>\n",
       "      <td>15388</td>\n",
       "      <td>77</td>\n",
       "      <td>1.40</td>\n",
       "      <td>Asia</td>\n",
       "    </tr>\n",
       "    <tr>\n",
       "      <th>2</th>\n",
       "      <td>Brazil</td>\n",
       "      <td>11051665</td>\n",
       "      <td>266398</td>\n",
       "      <td>11019344</td>\n",
       "      <td>265411</td>\n",
       "      <td>32321</td>\n",
       "      <td>987</td>\n",
       "      <td>2.41</td>\n",
       "      <td>South America</td>\n",
       "    </tr>\n",
       "    <tr>\n",
       "      <th>3</th>\n",
       "      <td>Russia</td>\n",
       "      <td>4284408</td>\n",
       "      <td>87985</td>\n",
       "      <td>4274263</td>\n",
       "      <td>87614</td>\n",
       "      <td>10145</td>\n",
       "      <td>371</td>\n",
       "      <td>2.05</td>\n",
       "      <td>Europe</td>\n",
       "    </tr>\n",
       "    <tr>\n",
       "      <th>4</th>\n",
       "      <td>United Kingdom</td>\n",
       "      <td>4235989</td>\n",
       "      <td>124801</td>\n",
       "      <td>4231166</td>\n",
       "      <td>124736</td>\n",
       "      <td>4823</td>\n",
       "      <td>65</td>\n",
       "      <td>2.95</td>\n",
       "      <td>Europe</td>\n",
       "    </tr>\n",
       "  </tbody>\n",
       "</table>\n",
       "</div>"
      ],
      "text/plain": [
       "   Country/Region     Cases  Deaths    PCases  PDeaths  Cases (+)  Deaths (+)  \\\n",
       "0              US  29044110  525752  28993873   525033      50237         719   \n",
       "1           India  11244786  157930  11229398   157853      15388          77   \n",
       "2          Brazil  11051665  266398  11019344   265411      32321         987   \n",
       "3          Russia   4284408   87985   4274263    87614      10145         371   \n",
       "4  United Kingdom   4235989  124801   4231166   124736       4823          65   \n",
       "\n",
       "   Fatality Rate      Continent  \n",
       "0           1.81  North America  \n",
       "1           1.40           Asia  \n",
       "2           2.41  South America  \n",
       "3           2.05         Europe  \n",
       "4           2.95         Europe  "
      ]
     },
     "execution_count": 13,
     "metadata": {},
     "output_type": "execute_result"
    }
   ],
   "source": [
    "#hide\n",
    "for c in 'Cases, Deaths'.split(', '):\n",
    "    df_table[f'{c} (+)'] = (df_table[c] - df_table[f'P{c}']).clip(0)\n",
    "    #Clip ça veut dire, les chiffres negatif sont interdit\n",
    "df_table['Fatality Rate'] = (100* df_table['Deaths']/ df_table['Cases']).round(2)\n",
    "df_table['Continent'] = df_table['Country/Region'].map(mapping['map.continent'])\n",
    "df_table.head(5)"
   ]
  },
  {
   "cell_type": "code",
   "execution_count": 14,
   "id": "aboriginal-bulgaria",
   "metadata": {
    "execution": {
     "iopub.execute_input": "2021-03-09T12:06:44.682850Z",
     "iopub.status.busy": "2021-03-09T12:06:44.682380Z",
     "iopub.status.idle": "2021-03-09T12:06:44.684401Z",
     "shell.execute_reply": "2021-03-09T12:06:44.684837Z"
    },
    "papermill": {
     "duration": 0.032369,
     "end_time": "2021-03-09T12:06:44.684954",
     "exception": false,
     "start_time": "2021-03-09T12:06:44.652585",
     "status": "completed"
    },
    "tags": []
   },
   "outputs": [],
   "source": [
    "#hide\n",
    "#delete problematic countries from table\n",
    "df_table = df_table[~df_table['Country/Region'].isin(['Cape Verde', 'Cruise Ship', 'Kosovo'])]"
   ]
  },
  {
   "cell_type": "code",
   "execution_count": 15,
   "id": "fantastic-effect",
   "metadata": {
    "execution": {
     "iopub.execute_input": "2021-03-09T12:06:44.743535Z",
     "iopub.status.busy": "2021-03-09T12:06:44.743044Z",
     "iopub.status.idle": "2021-03-09T12:06:44.756217Z",
     "shell.execute_reply": "2021-03-09T12:06:44.755865Z"
    },
    "papermill": {
     "duration": 0.045184,
     "end_time": "2021-03-09T12:06:44.756297",
     "exception": false,
     "start_time": "2021-03-09T12:06:44.711113",
     "status": "completed"
    },
    "tags": []
   },
   "outputs": [
    {
     "data": {
      "text/html": [
       "<div>\n",
       "<style scoped>\n",
       "    .dataframe tbody tr th:only-of-type {\n",
       "        vertical-align: middle;\n",
       "    }\n",
       "\n",
       "    .dataframe tbody tr th {\n",
       "        vertical-align: top;\n",
       "    }\n",
       "\n",
       "    .dataframe thead th {\n",
       "        text-align: right;\n",
       "    }\n",
       "</style>\n",
       "<table border=\"1\" class=\"dataframe\">\n",
       "  <thead>\n",
       "    <tr style=\"text-align: right;\">\n",
       "      <th></th>\n",
       "      <th>Country/Region</th>\n",
       "      <th>Cases</th>\n",
       "      <th>Deaths</th>\n",
       "      <th>PCases</th>\n",
       "      <th>PDeaths</th>\n",
       "      <th>Cases (+)</th>\n",
       "      <th>Deaths (+)</th>\n",
       "      <th>Fatality Rate</th>\n",
       "      <th>Continent</th>\n",
       "    </tr>\n",
       "  </thead>\n",
       "  <tbody>\n",
       "    <tr>\n",
       "      <th>0</th>\n",
       "      <td>US</td>\n",
       "      <td>29044110</td>\n",
       "      <td>525752</td>\n",
       "      <td>28993873</td>\n",
       "      <td>525033</td>\n",
       "      <td>50237</td>\n",
       "      <td>719</td>\n",
       "      <td>1.8</td>\n",
       "      <td>North America</td>\n",
       "    </tr>\n",
       "    <tr>\n",
       "      <th>1</th>\n",
       "      <td>India</td>\n",
       "      <td>11244786</td>\n",
       "      <td>157930</td>\n",
       "      <td>11229398</td>\n",
       "      <td>157853</td>\n",
       "      <td>15388</td>\n",
       "      <td>77</td>\n",
       "      <td>1.4</td>\n",
       "      <td>Asia</td>\n",
       "    </tr>\n",
       "    <tr>\n",
       "      <th>2</th>\n",
       "      <td>Brazil</td>\n",
       "      <td>11051665</td>\n",
       "      <td>266398</td>\n",
       "      <td>11019344</td>\n",
       "      <td>265411</td>\n",
       "      <td>32321</td>\n",
       "      <td>987</td>\n",
       "      <td>2.4</td>\n",
       "      <td>South America</td>\n",
       "    </tr>\n",
       "    <tr>\n",
       "      <th>3</th>\n",
       "      <td>Russia</td>\n",
       "      <td>4284408</td>\n",
       "      <td>87985</td>\n",
       "      <td>4274263</td>\n",
       "      <td>87614</td>\n",
       "      <td>10145</td>\n",
       "      <td>371</td>\n",
       "      <td>2.1</td>\n",
       "      <td>Europe</td>\n",
       "    </tr>\n",
       "    <tr>\n",
       "      <th>4</th>\n",
       "      <td>United Kingdom</td>\n",
       "      <td>4235989</td>\n",
       "      <td>124801</td>\n",
       "      <td>4231166</td>\n",
       "      <td>124736</td>\n",
       "      <td>4823</td>\n",
       "      <td>65</td>\n",
       "      <td>2.9</td>\n",
       "      <td>Europe</td>\n",
       "    </tr>\n",
       "  </tbody>\n",
       "</table>\n",
       "</div>"
      ],
      "text/plain": [
       "   Country/Region     Cases  Deaths    PCases  PDeaths  Cases (+)  Deaths (+)  \\\n",
       "0              US  29044110  525752  28993873   525033      50237         719   \n",
       "1           India  11244786  157930  11229398   157853      15388          77   \n",
       "2          Brazil  11051665  266398  11019344   265411      32321         987   \n",
       "3          Russia   4284408   87985   4274263    87614      10145         371   \n",
       "4  United Kingdom   4235989  124801   4231166   124736       4823          65   \n",
       "\n",
       "   Fatality Rate      Continent  \n",
       "0            1.8  North America  \n",
       "1            1.4           Asia  \n",
       "2            2.4  South America  \n",
       "3            2.1         Europe  \n",
       "4            2.9         Europe  "
      ]
     },
     "execution_count": 15,
     "metadata": {},
     "output_type": "execute_result"
    }
   ],
   "source": [
    "#hide\n",
    "df_table = (pd.DataFrame(dict(Cases=dfc_cases, Deaths=dfc_deaths, PCases=dfp_cases, PDeaths=dfp_deaths))\n",
    "             .sort_values(by=['Cases', 'Deaths'], ascending=[False, False])\n",
    "             .reset_index())\n",
    "df_table.rename(columns={'index': 'Country/Region'}, inplace=True)\n",
    "for c in 'Cases, Deaths'.split(', '):\n",
    "    df_table[f'{c} (+)'] = (df_table[c] - df_table[f'P{c}']).clip(0)  # DATA BUG\n",
    "df_table['Fatality Rate'] = (100 * df_table['Deaths'] / df_table['Cases']).round(1)\n",
    "df_table['Continent'] = df_table['Country/Region'].map(mapping['map.continent'])\n",
    "df_table.head(5)"
   ]
  },
  {
   "cell_type": "code",
   "execution_count": 16,
   "id": "fewer-occasion",
   "metadata": {
    "execution": {
     "iopub.execute_input": "2021-03-09T12:06:44.812494Z",
     "iopub.status.busy": "2021-03-09T12:06:44.812016Z",
     "iopub.status.idle": "2021-03-09T12:06:44.814239Z",
     "shell.execute_reply": "2021-03-09T12:06:44.814572Z"
    },
    "papermill": {
     "duration": 0.032991,
     "end_time": "2021-03-09T12:06:44.814661",
     "exception": false,
     "start_time": "2021-03-09T12:06:44.781670",
     "status": "completed"
    },
    "tags": []
   },
   "outputs": [],
   "source": [
    "#hide\n",
    "#delete problematic countries from table\n",
    "df_table = df_table[~df_table['Country/Region'].isin(['Cape Verde', 'Cruise Ship', 'Kosovo'])]"
   ]
  },
  {
   "cell_type": "code",
   "execution_count": 17,
   "id": "related-center",
   "metadata": {
    "execution": {
     "iopub.execute_input": "2021-03-09T12:06:44.880008Z",
     "iopub.status.busy": "2021-03-09T12:06:44.879531Z",
     "iopub.status.idle": "2021-03-09T12:06:44.881915Z",
     "shell.execute_reply": "2021-03-09T12:06:44.881449Z"
    },
    "papermill": {
     "duration": 0.042171,
     "end_time": "2021-03-09T12:06:44.882004",
     "exception": false,
     "start_time": "2021-03-09T12:06:44.839833",
     "status": "completed"
    },
    "tags": []
   },
   "outputs": [],
   "source": [
    "#hide\n",
    "metrics = [df_table.columns[index] for index in [1,2,5,6]]\n",
    "# s_china = df_table[df_table['Country/Region'].eq('China')][metrics].sum().add_prefix('China ')\n",
    "s_us = df_table[df_table['Country/Region'].eq('US')][metrics].sum().add_prefix('US ')\n",
    "s_eu = df_table[df_table['Continent'].eq('Europe')][metrics].sum().add_prefix('EU ')\n",
    "s_ind = df_table[df_table['Country/Region'].eq('India')][metrics].sum().add_prefix('India ')\n",
    "summary = {'updated': pd.to_datetime(dt_today), 'since': pd.to_datetime(dt_yday)}\n",
    "summary = {'updated': pd.to_datetime(dt_today), 'since': pd.to_datetime(dt_yday)}\n",
    "summary = {**summary, **df_table[metrics].sum(), **s_ind, **s_us, **s_eu}"
   ]
  },
  {
   "cell_type": "code",
   "execution_count": 18,
   "id": "engaging-syndrome",
   "metadata": {
    "execution": {
     "iopub.execute_input": "2021-03-09T12:06:44.940456Z",
     "iopub.status.busy": "2021-03-09T12:06:44.938234Z",
     "iopub.status.idle": "2021-03-09T12:06:44.949229Z",
     "shell.execute_reply": "2021-03-09T12:06:44.948819Z"
    },
    "papermill": {
     "duration": 0.040424,
     "end_time": "2021-03-09T12:06:44.949318",
     "exception": false,
     "start_time": "2021-03-09T12:06:44.908894",
     "status": "completed"
    },
    "tags": []
   },
   "outputs": [],
   "source": [
    "#hide\n",
    "dft_ct_new_cases = dft_cases.groupby(COL_REGION)[dt_cols].sum().diff(axis=1).fillna(0).astype(int)"
   ]
  },
  {
   "cell_type": "code",
   "execution_count": 19,
   "id": "neutral-assignment",
   "metadata": {
    "execution": {
     "iopub.execute_input": "2021-03-09T12:06:45.003981Z",
     "iopub.status.busy": "2021-03-09T12:06:45.003562Z",
     "iopub.status.idle": "2021-03-09T12:06:45.006458Z",
     "shell.execute_reply": "2021-03-09T12:06:45.006853Z"
    },
    "papermill": {
     "duration": 0.032457,
     "end_time": "2021-03-09T12:06:45.006941",
     "exception": false,
     "start_time": "2021-03-09T12:06:44.974484",
     "status": "completed"
    },
    "tags": []
   },
   "outputs": [],
   "source": [
    "#hide\n",
    "everydaycases = dft_ct_new_cases.cumsum(axis=1)"
   ]
  },
  {
   "cell_type": "code",
   "execution_count": 20,
   "id": "parliamentary-calgary",
   "metadata": {
    "execution": {
     "iopub.execute_input": "2021-03-09T12:06:45.064788Z",
     "iopub.status.busy": "2021-03-09T12:06:45.063525Z",
     "iopub.status.idle": "2021-03-09T12:06:46.249660Z",
     "shell.execute_reply": "2021-03-09T12:06:46.249124Z"
    },
    "papermill": {
     "duration": 1.216954,
     "end_time": "2021-03-09T12:06:46.249776",
     "exception": false,
     "start_time": "2021-03-09T12:06:45.032822",
     "status": "completed"
    },
    "tags": []
   },
   "outputs": [],
   "source": [
    "#hide\n",
    "import pandas as pd\n",
    "import matplotlib.pyplot as plt\n",
    "import matplotlib.ticker as ticker\n",
    "import matplotlib.animation as animation\n",
    "from IPython.display import HTML"
   ]
  },
  {
   "cell_type": "code",
   "execution_count": 21,
   "id": "lasting-extraction",
   "metadata": {
    "execution": {
     "iopub.execute_input": "2021-03-09T12:06:46.305892Z",
     "iopub.status.busy": "2021-03-09T12:06:46.305384Z",
     "iopub.status.idle": "2021-03-09T12:06:46.312038Z",
     "shell.execute_reply": "2021-03-09T12:06:46.311567Z"
    },
    "papermill": {
     "duration": 0.036774,
     "end_time": "2021-03-09T12:06:46.312133",
     "exception": false,
     "start_time": "2021-03-09T12:06:46.275359",
     "status": "completed"
    },
    "tags": []
   },
   "outputs": [],
   "source": [
    "#hide\n",
    "t = everydaycases.stack()"
   ]
  },
  {
   "cell_type": "code",
   "execution_count": 22,
   "id": "premier-sleeve",
   "metadata": {
    "execution": {
     "iopub.execute_input": "2021-03-09T12:06:46.368779Z",
     "iopub.status.busy": "2021-03-09T12:06:46.368211Z",
     "iopub.status.idle": "2021-03-09T12:06:46.374892Z",
     "shell.execute_reply": "2021-03-09T12:06:46.374490Z"
    },
    "papermill": {
     "duration": 0.037532,
     "end_time": "2021-03-09T12:06:46.374986",
     "exception": false,
     "start_time": "2021-03-09T12:06:46.337454",
     "status": "completed"
    },
    "tags": []
   },
   "outputs": [],
   "source": [
    "#hide\n",
    "g = t.reset_index(['Country/Region'])"
   ]
  },
  {
   "cell_type": "code",
   "execution_count": 23,
   "id": "distributed-pittsburgh",
   "metadata": {
    "execution": {
     "iopub.execute_input": "2021-03-09T12:06:46.430860Z",
     "iopub.status.busy": "2021-03-09T12:06:46.430361Z",
     "iopub.status.idle": "2021-03-09T12:06:46.432536Z",
     "shell.execute_reply": "2021-03-09T12:06:46.433018Z"
    },
    "papermill": {
     "duration": 0.032122,
     "end_time": "2021-03-09T12:06:46.433119",
     "exception": false,
     "start_time": "2021-03-09T12:06:46.400997",
     "status": "completed"
    },
    "tags": []
   },
   "outputs": [],
   "source": [
    "#hide\n",
    "g.index.name = 'date'"
   ]
  },
  {
   "cell_type": "code",
   "execution_count": 24,
   "id": "naked-donor",
   "metadata": {
    "execution": {
     "iopub.execute_input": "2021-03-09T12:06:46.488957Z",
     "iopub.status.busy": "2021-03-09T12:06:46.488505Z",
     "iopub.status.idle": "2021-03-09T12:06:46.490770Z",
     "shell.execute_reply": "2021-03-09T12:06:46.491195Z"
    },
    "papermill": {
     "duration": 0.032079,
     "end_time": "2021-03-09T12:06:46.491284",
     "exception": false,
     "start_time": "2021-03-09T12:06:46.459205",
     "status": "completed"
    },
    "tags": []
   },
   "outputs": [],
   "source": [
    "# #hide\n",
    "# g = g.reset_index(['date'])"
   ]
  },
  {
   "cell_type": "code",
   "execution_count": 25,
   "id": "incomplete-mustang",
   "metadata": {
    "execution": {
     "iopub.execute_input": "2021-03-09T12:06:46.547116Z",
     "iopub.status.busy": "2021-03-09T12:06:46.546633Z",
     "iopub.status.idle": "2021-03-09T12:06:46.548311Z",
     "shell.execute_reply": "2021-03-09T12:06:46.548703Z"
    },
    "papermill": {
     "duration": 0.031942,
     "end_time": "2021-03-09T12:06:46.548808",
     "exception": false,
     "start_time": "2021-03-09T12:06:46.516866",
     "status": "completed"
    },
    "tags": []
   },
   "outputs": [],
   "source": [
    "#hide\n",
    "# g.head()"
   ]
  },
  {
   "cell_type": "code",
   "execution_count": 26,
   "id": "specific-kruger",
   "metadata": {
    "execution": {
     "iopub.execute_input": "2021-03-09T12:06:46.604413Z",
     "iopub.status.busy": "2021-03-09T12:06:46.603963Z",
     "iopub.status.idle": "2021-03-09T12:06:46.606146Z",
     "shell.execute_reply": "2021-03-09T12:06:46.606540Z"
    },
    "papermill": {
     "duration": 0.031934,
     "end_time": "2021-03-09T12:06:46.606628",
     "exception": false,
     "start_time": "2021-03-09T12:06:46.574694",
     "status": "completed"
    },
    "tags": []
   },
   "outputs": [],
   "source": [
    "#hide\n",
    "# g.columns = ['date','country','cases']"
   ]
  },
  {
   "cell_type": "code",
   "execution_count": 27,
   "id": "tender-conversion",
   "metadata": {
    "execution": {
     "iopub.execute_input": "2021-03-09T12:06:46.661863Z",
     "iopub.status.busy": "2021-03-09T12:06:46.661448Z",
     "iopub.status.idle": "2021-03-09T12:06:46.664482Z",
     "shell.execute_reply": "2021-03-09T12:06:46.665066Z"
    },
    "papermill": {
     "duration": 0.034029,
     "end_time": "2021-03-09T12:06:46.665187",
     "exception": false,
     "start_time": "2021-03-09T12:06:46.631158",
     "status": "completed"
    },
    "tags": []
   },
   "outputs": [],
   "source": [
    "#hide\n",
    "# g['continent'] = g.country"
   ]
  },
  {
   "cell_type": "code",
   "execution_count": 28,
   "id": "substantial-wilderness",
   "metadata": {
    "execution": {
     "iopub.execute_input": "2021-03-09T12:06:46.720120Z",
     "iopub.status.busy": "2021-03-09T12:06:46.719705Z",
     "iopub.status.idle": "2021-03-09T12:06:46.721550Z",
     "shell.execute_reply": "2021-03-09T12:06:46.721204Z"
    },
    "papermill": {
     "duration": 0.030039,
     "end_time": "2021-03-09T12:06:46.721627",
     "exception": false,
     "start_time": "2021-03-09T12:06:46.691588",
     "status": "completed"
    },
    "tags": []
   },
   "outputs": [],
   "source": [
    "#hide\n",
    "# cols = list(g.columns.values)"
   ]
  },
  {
   "cell_type": "code",
   "execution_count": 29,
   "id": "solved-farming",
   "metadata": {
    "execution": {
     "iopub.execute_input": "2021-03-09T12:06:46.777306Z",
     "iopub.status.busy": "2021-03-09T12:06:46.776891Z",
     "iopub.status.idle": "2021-03-09T12:06:46.779113Z",
     "shell.execute_reply": "2021-03-09T12:06:46.779446Z"
    },
    "papermill": {
     "duration": 0.032473,
     "end_time": "2021-03-09T12:06:46.779533",
     "exception": false,
     "start_time": "2021-03-09T12:06:46.747060",
     "status": "completed"
    },
    "tags": []
   },
   "outputs": [],
   "source": [
    "#hide\n",
    "# cols.insert(0, cols.pop())"
   ]
  },
  {
   "cell_type": "code",
   "execution_count": 30,
   "id": "executed-adoption",
   "metadata": {
    "execution": {
     "iopub.execute_input": "2021-03-09T12:06:46.832692Z",
     "iopub.status.busy": "2021-03-09T12:06:46.832254Z",
     "iopub.status.idle": "2021-03-09T12:06:46.834765Z",
     "shell.execute_reply": "2021-03-09T12:06:46.835097Z"
    },
    "papermill": {
     "duration": 0.03045,
     "end_time": "2021-03-09T12:06:46.835185",
     "exception": false,
     "start_time": "2021-03-09T12:06:46.804735",
     "status": "completed"
    },
    "tags": []
   },
   "outputs": [],
   "source": [
    "#hide\n",
    "# g = g[cols]"
   ]
  },
  {
   "cell_type": "code",
   "execution_count": 31,
   "id": "subject-dublin",
   "metadata": {
    "execution": {
     "iopub.execute_input": "2021-03-09T12:06:46.890580Z",
     "iopub.status.busy": "2021-03-09T12:06:46.890104Z",
     "iopub.status.idle": "2021-03-09T12:06:46.892087Z",
     "shell.execute_reply": "2021-03-09T12:06:46.891735Z"
    },
    "papermill": {
     "duration": 0.030692,
     "end_time": "2021-03-09T12:06:46.892166",
     "exception": false,
     "start_time": "2021-03-09T12:06:46.861474",
     "status": "completed"
    },
    "tags": []
   },
   "outputs": [],
   "source": [
    "#hide\n",
    "# g['continent'] = g['continent'].map(mapping['map.continent'])"
   ]
  },
  {
   "cell_type": "code",
   "execution_count": 32,
   "id": "freelance-scout",
   "metadata": {
    "execution": {
     "iopub.execute_input": "2021-03-09T12:06:46.950506Z",
     "iopub.status.busy": "2021-03-09T12:06:46.950009Z",
     "iopub.status.idle": "2021-03-09T12:06:46.952152Z",
     "shell.execute_reply": "2021-03-09T12:06:46.952632Z"
    },
    "papermill": {
     "duration": 0.034472,
     "end_time": "2021-03-09T12:06:46.952736",
     "exception": false,
     "start_time": "2021-03-09T12:06:46.918264",
     "status": "completed"
    },
    "tags": []
   },
   "outputs": [],
   "source": [
    "#hide\n",
    "# g.head()"
   ]
  },
  {
   "cell_type": "code",
   "execution_count": 33,
   "id": "limited-engine",
   "metadata": {
    "execution": {
     "iopub.execute_input": "2021-03-09T12:06:47.012593Z",
     "iopub.status.busy": "2021-03-09T12:06:47.012105Z",
     "iopub.status.idle": "2021-03-09T12:06:47.014537Z",
     "shell.execute_reply": "2021-03-09T12:06:47.014911Z"
    },
    "papermill": {
     "duration": 0.035519,
     "end_time": "2021-03-09T12:06:47.015043",
     "exception": false,
     "start_time": "2021-03-09T12:06:46.979524",
     "status": "completed"
    },
    "tags": []
   },
   "outputs": [],
   "source": [
    "# hide\n",
    "# g['date'] = g['date'].astype('datetime64[ns]')"
   ]
  },
  {
   "cell_type": "code",
   "execution_count": 34,
   "id": "sophisticated-supervisor",
   "metadata": {
    "execution": {
     "iopub.execute_input": "2021-03-09T12:06:47.074105Z",
     "iopub.status.busy": "2021-03-09T12:06:47.073562Z",
     "iopub.status.idle": "2021-03-09T12:06:47.075469Z",
     "shell.execute_reply": "2021-03-09T12:06:47.075882Z"
    },
    "papermill": {
     "duration": 0.032148,
     "end_time": "2021-03-09T12:06:47.076003",
     "exception": false,
     "start_time": "2021-03-09T12:06:47.043855",
     "status": "completed"
    },
    "tags": []
   },
   "outputs": [],
   "source": [
    "#hide\n",
    "# g['date'] = g.date.dt.dayofyear"
   ]
  },
  {
   "cell_type": "code",
   "execution_count": 35,
   "id": "inside-dubai",
   "metadata": {
    "execution": {
     "iopub.execute_input": "2021-03-09T12:06:47.137249Z",
     "iopub.status.busy": "2021-03-09T12:06:47.136826Z",
     "iopub.status.idle": "2021-03-09T12:06:47.139624Z",
     "shell.execute_reply": "2021-03-09T12:06:47.140086Z"
    },
    "papermill": {
     "duration": 0.034339,
     "end_time": "2021-03-09T12:06:47.140194",
     "exception": false,
     "start_time": "2021-03-09T12:06:47.105855",
     "status": "completed"
    },
    "tags": []
   },
   "outputs": [],
   "source": [
    "#hide\n",
    "# g = g.rename(columns= {'continent':'group','country':'name','cases':'value'})"
   ]
  },
  {
   "cell_type": "code",
   "execution_count": 36,
   "id": "fleet-motorcycle",
   "metadata": {
    "execution": {
     "iopub.execute_input": "2021-03-09T12:06:47.200448Z",
     "iopub.status.busy": "2021-03-09T12:06:47.199427Z",
     "iopub.status.idle": "2021-03-09T12:06:47.204973Z",
     "shell.execute_reply": "2021-03-09T12:06:47.204306Z"
    },
    "papermill": {
     "duration": 0.036894,
     "end_time": "2021-03-09T12:06:47.205056",
     "exception": false,
     "start_time": "2021-03-09T12:06:47.168162",
     "status": "completed"
    },
    "tags": []
   },
   "outputs": [],
   "source": [
    "#hide\n",
    "# cols = ['name','group','day','value']"
   ]
  },
  {
   "cell_type": "code",
   "execution_count": 37,
   "id": "continued-sleeping",
   "metadata": {
    "execution": {
     "iopub.execute_input": "2021-03-09T12:06:47.260278Z",
     "iopub.status.busy": "2021-03-09T12:06:47.259839Z",
     "iopub.status.idle": "2021-03-09T12:06:47.262023Z",
     "shell.execute_reply": "2021-03-09T12:06:47.262537Z"
    },
    "papermill": {
     "duration": 0.03164,
     "end_time": "2021-03-09T12:06:47.262651",
     "exception": false,
     "start_time": "2021-03-09T12:06:47.231011",
     "status": "completed"
    },
    "tags": []
   },
   "outputs": [],
   "source": [
    "#hide\n",
    "# g.rename(columns= {'date':'day'},inplace = True)"
   ]
  },
  {
   "cell_type": "code",
   "execution_count": 38,
   "id": "major-fight",
   "metadata": {
    "execution": {
     "iopub.execute_input": "2021-03-09T12:06:47.316595Z",
     "iopub.status.busy": "2021-03-09T12:06:47.316102Z",
     "iopub.status.idle": "2021-03-09T12:06:47.318284Z",
     "shell.execute_reply": "2021-03-09T12:06:47.317941Z"
    },
    "papermill": {
     "duration": 0.030538,
     "end_time": "2021-03-09T12:06:47.318361",
     "exception": false,
     "start_time": "2021-03-09T12:06:47.287823",
     "status": "completed"
    },
    "tags": []
   },
   "outputs": [],
   "source": [
    "#hide\n",
    "# g = g[cols]"
   ]
  },
  {
   "cell_type": "code",
   "execution_count": 39,
   "id": "structured-mobile",
   "metadata": {
    "execution": {
     "iopub.execute_input": "2021-03-09T12:06:47.375499Z",
     "iopub.status.busy": "2021-03-09T12:06:47.374957Z",
     "iopub.status.idle": "2021-03-09T12:06:47.377220Z",
     "shell.execute_reply": "2021-03-09T12:06:47.377669Z"
    },
    "papermill": {
     "duration": 0.033921,
     "end_time": "2021-03-09T12:06:47.377782",
     "exception": false,
     "start_time": "2021-03-09T12:06:47.343861",
     "status": "completed"
    },
    "tags": []
   },
   "outputs": [],
   "source": [
    "# #hide\n",
    "# g = g[g.group.notna()]"
   ]
  },
  {
   "cell_type": "code",
   "execution_count": 40,
   "id": "determined-closing",
   "metadata": {
    "execution": {
     "iopub.execute_input": "2021-03-09T12:06:47.435613Z",
     "iopub.status.busy": "2021-03-09T12:06:47.435198Z",
     "iopub.status.idle": "2021-03-09T12:06:47.437252Z",
     "shell.execute_reply": "2021-03-09T12:06:47.437646Z"
    },
    "papermill": {
     "duration": 0.032805,
     "end_time": "2021-03-09T12:06:47.437734",
     "exception": false,
     "start_time": "2021-03-09T12:06:47.404929",
     "status": "completed"
    },
    "tags": []
   },
   "outputs": [],
   "source": [
    "# #hide\n",
    "# colors = dict(zip(\n",
    "#     [\"Oceania\", \"Europe\", \"Asia\", \"South America\", \"Middle East\", \"North America\", \"Africa\"],\n",
    "#     [\"#adb0ff\", \"#ffb3ff\", \"#90d595\", \"#e48381\", \"#aafbff\", \"#f7bb5f\", \"#eafb50\"]\n",
    "# ))\n",
    "# group_lk = g.set_index('name')['group'].to_dict()"
   ]
  },
  {
   "cell_type": "code",
   "execution_count": null,
   "id": "gross-drinking",
   "metadata": {
    "papermill": {
     "duration": 0.029151,
     "end_time": "2021-03-09T12:06:47.494206",
     "exception": false,
     "start_time": "2021-03-09T12:06:47.465055",
     "status": "completed"
    },
    "tags": []
   },
   "outputs": [],
   "source": []
  },
  {
   "cell_type": "code",
   "execution_count": 41,
   "id": "subject-macintosh",
   "metadata": {
    "execution": {
     "iopub.execute_input": "2021-03-09T12:06:47.550063Z",
     "iopub.status.busy": "2021-03-09T12:06:47.549638Z",
     "iopub.status.idle": "2021-03-09T12:06:47.551684Z",
     "shell.execute_reply": "2021-03-09T12:06:47.551304Z"
    },
    "papermill": {
     "duration": 0.032277,
     "end_time": "2021-03-09T12:06:47.551776",
     "exception": false,
     "start_time": "2021-03-09T12:06:47.519499",
     "status": "completed"
    },
    "tags": []
   },
   "outputs": [],
   "source": [
    "# #hide\n",
    "# fig, ax = plt.subplots(figsize=(15, 8))\n",
    "\n",
    "# def draw_barchart(current_day):\n",
    "#     dff = g[g['day'].eq(current_day)].sort_values(by='value', ascending=True).tail(10)\n",
    "#     ax.clear()\n",
    "#     ax.barh(dff['name'], dff['value'], color=[colors[group_lk[x]] for x in dff['name']])\n",
    "#     dx = dff['value'].max() / 200\n",
    "    \n",
    "#     for i, (value, name) in enumerate(zip(dff['value'], dff['name'])):\n",
    "#         ax.text(value-dx, i,     name,           size=14, weight=600, ha='right', va='bottom')\n",
    "#         ax.text(value-dx, i-.25, group_lk[name], size=10, color='#444444', ha='right', va='baseline')\n",
    "#         ax.text(value+dx, i,     f'{value:,.0f}',  size=14, ha='left',  va='center')\n",
    "#     ax.text(1, 0.4, current_day, transform=ax.transAxes, color='#777777', size=46, ha='right', weight=800)\n",
    "#     ax.text(0, 1.06, 'Population (thousands)', transform=ax.transAxes, size=12, color='#777777')\n",
    "#     ax.xaxis.set_major_formatter(ticker.StrMethodFormatter('{x:,.0f}'))\n",
    "#     ax.xaxis.set_ticks_position('top')\n",
    "#     ax.tick_params(axis='x', colors='#777777', labelsize=12)\n",
    "#     ax.set_yticks([])\n",
    "#     ax.margins(0, 0.01)\n",
    "#     ax.grid(which='major', axis='x', linestyle='-')\n",
    "#     ax.set_axisbelow(True)\n",
    "    \n",
    "#     ax.text(0, 1.15, 'Coronavirus',\n",
    "#             transform=ax.transAxes, size=24, weight=600, ha='left', va='top')\n",
    "# #     ax.text(1, 0, 'by @pratapvardhan; credit @jburnmurdoch', transform=ax.transAxes, color='#777777', ha='right',\n",
    "# #             bbox=dict(facecolor='white', alpha=0.8, edgecolor='white'))\n",
    "#     plt.box(False)"
   ]
  },
  {
   "cell_type": "code",
   "execution_count": 42,
   "id": "sexual-wages",
   "metadata": {
    "execution": {
     "iopub.execute_input": "2021-03-09T12:06:47.606303Z",
     "iopub.status.busy": "2021-03-09T12:06:47.605893Z",
     "iopub.status.idle": "2021-03-09T12:06:47.608150Z",
     "shell.execute_reply": "2021-03-09T12:06:47.608551Z"
    },
    "papermill": {
     "duration": 0.031353,
     "end_time": "2021-03-09T12:06:47.608656",
     "exception": false,
     "start_time": "2021-03-09T12:06:47.577303",
     "status": "completed"
    },
    "tags": []
   },
   "outputs": [],
   "source": [
    "# #hide_input\n",
    "# fig, ax = plt.subplots(figsize=(15, 8))\n",
    "# animator = animation.FuncAnimation(fig, draw_barchart, frames=range(g.day.values.min(), g.day.values.max()))\n",
    "# HTML(animator.to_jshtml())\n",
    "# # or use animator.to_html5_video() or animator.save() "
   ]
  },
  {
   "cell_type": "code",
   "execution_count": null,
   "id": "australian-container",
   "metadata": {
    "papermill": {
     "duration": 0.025136,
     "end_time": "2021-03-09T12:06:47.658970",
     "exception": false,
     "start_time": "2021-03-09T12:06:47.633834",
     "status": "completed"
    },
    "tags": []
   },
   "outputs": [],
   "source": []
  },
  {
   "cell_type": "code",
   "execution_count": null,
   "id": "mediterranean-pontiac",
   "metadata": {
    "papermill": {
     "duration": 0.025948,
     "end_time": "2021-03-09T12:06:47.713444",
     "exception": false,
     "start_time": "2021-03-09T12:06:47.687496",
     "status": "completed"
    },
    "tags": []
   },
   "outputs": [],
   "source": []
  },
  {
   "cell_type": "code",
   "execution_count": null,
   "id": "aging-legislature",
   "metadata": {
    "papermill": {
     "duration": 0.025767,
     "end_time": "2021-03-09T12:06:47.764908",
     "exception": false,
     "start_time": "2021-03-09T12:06:47.739141",
     "status": "completed"
    },
    "tags": []
   },
   "outputs": [],
   "source": []
  }
 ],
 "metadata": {
  "kernelspec": {
   "display_name": "Python 3",
   "language": "python",
   "name": "python3"
  },
  "language_info": {
   "codemirror_mode": {
    "name": "ipython",
    "version": 3
   },
   "file_extension": ".py",
   "mimetype": "text/x-python",
   "name": "python",
   "nbconvert_exporter": "python",
   "pygments_lexer": "ipython3",
   "version": "3.6.13"
  },
  "papermill": {
   "duration": 5.831655,
   "end_time": "2021-03-09T12:06:48.099157",
   "environment_variables": {},
   "exception": null,
   "input_path": "2020-03-21-covid19exp.ipynb",
   "output_path": "2020-03-21-covid19exp.ipynb",
   "parameters": {},
   "start_time": "2021-03-09T12:06:42.267502",
   "version": "2.0.0"
  }
 },
 "nbformat": 4,
 "nbformat_minor": 5
}