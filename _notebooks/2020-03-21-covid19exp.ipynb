{
 "cells": [
  {
   "cell_type": "markdown",
   "id": "muslim-click",
   "metadata": {
    "papermill": {
     "duration": 0.041439,
     "end_time": "2021-05-15T12:10:51.720608",
     "exception": false,
     "start_time": "2021-05-15T12:10:51.679169",
     "status": "completed"
    },
    "tags": []
   },
   "source": [
    "# COVID-19 Case Race\n",
    "> A race chart to see rising cases around the world\n",
    "\n",
    "- author: Hargun Oberoi\n",
    "- image: images/covid-overview.png\n",
    "- hide: false\n",
    "- badges: false"
   ]
  },
  {
   "cell_type": "code",
   "execution_count": 1,
   "id": "proof-material",
   "metadata": {
    "execution": {
     "iopub.execute_input": "2021-05-15T12:10:51.806354Z",
     "iopub.status.busy": "2021-05-15T12:10:51.805709Z",
     "iopub.status.idle": "2021-05-15T12:10:52.174515Z",
     "shell.execute_reply": "2021-05-15T12:10:52.173936Z"
    },
    "papermill": {
     "duration": 0.416452,
     "end_time": "2021-05-15T12:10:52.174673",
     "exception": false,
     "start_time": "2021-05-15T12:10:51.758221",
     "status": "completed"
    },
    "tags": []
   },
   "outputs": [],
   "source": [
    "#hide\n",
    "import numpy as np\n",
    "import pandas as pd\n",
    "from jinja2 import Template\n",
    "from IPython.display import HTML"
   ]
  },
  {
   "cell_type": "code",
   "execution_count": 2,
   "id": "developed-terminology",
   "metadata": {
    "execution": {
     "iopub.execute_input": "2021-05-15T12:10:52.259821Z",
     "iopub.status.busy": "2021-05-15T12:10:52.259173Z",
     "iopub.status.idle": "2021-05-15T12:10:52.263609Z",
     "shell.execute_reply": "2021-05-15T12:10:52.263094Z"
    },
    "papermill": {
     "duration": 0.049377,
     "end_time": "2021-05-15T12:10:52.263737",
     "exception": false,
     "start_time": "2021-05-15T12:10:52.214360",
     "status": "completed"
    },
    "tags": []
   },
   "outputs": [],
   "source": [
    "#hide\n",
    "\n",
    "# FETCH\n",
    "base_url = 'https://raw.githubusercontent.com/pratapvardhan/notebooks/master/covid19/'\n",
    "paths = {\n",
    "    'mapping': base_url + 'mapping_countries.csv',\n",
    "    'overview': base_url + 'overview.tpl'\n",
    "}"
   ]
  },
  {
   "cell_type": "code",
   "execution_count": 3,
   "id": "dynamic-saver",
   "metadata": {
    "execution": {
     "iopub.execute_input": "2021-05-15T12:10:52.348568Z",
     "iopub.status.busy": "2021-05-15T12:10:52.347946Z",
     "iopub.status.idle": "2021-05-15T12:10:52.351183Z",
     "shell.execute_reply": "2021-05-15T12:10:52.350649Z"
    },
    "papermill": {
     "duration": 0.050083,
     "end_time": "2021-05-15T12:10:52.351308",
     "exception": false,
     "start_time": "2021-05-15T12:10:52.301225",
     "status": "completed"
    },
    "tags": []
   },
   "outputs": [
    {
     "data": {
      "text/plain": [
       "'https://raw.githubusercontent.com/pratapvardhan/notebooks/master/covid19/mapping_countries.csv'"
      ]
     },
     "execution_count": 3,
     "metadata": {},
     "output_type": "execute_result"
    }
   ],
   "source": [
    "#hide\n",
    "paths['mapping']"
   ]
  },
  {
   "cell_type": "code",
   "execution_count": 4,
   "id": "urban-software",
   "metadata": {
    "execution": {
     "iopub.execute_input": "2021-05-15T12:10:52.431568Z",
     "iopub.status.busy": "2021-05-15T12:10:52.430942Z",
     "iopub.status.idle": "2021-05-15T12:10:52.433302Z",
     "shell.execute_reply": "2021-05-15T12:10:52.432737Z"
    },
    "papermill": {
     "duration": 0.044474,
     "end_time": "2021-05-15T12:10:52.433420",
     "exception": false,
     "start_time": "2021-05-15T12:10:52.388946",
     "status": "completed"
    },
    "tags": []
   },
   "outputs": [],
   "source": [
    "#hide\n",
    "def get_mappings(url):\n",
    "    df = pd.read_csv(url)\n",
    "    return {\n",
    "        'df': df,\n",
    "        'replace.country': dict(df.dropna(subset=['Name']).set_index('Country')['Name']),\n",
    "        'map.continent': dict(df.set_index('Name')['Continent'])\n",
    "    }"
   ]
  },
  {
   "cell_type": "code",
   "execution_count": 5,
   "id": "intimate-machinery",
   "metadata": {
    "execution": {
     "iopub.execute_input": "2021-05-15T12:10:52.513082Z",
     "iopub.status.busy": "2021-05-15T12:10:52.512458Z",
     "iopub.status.idle": "2021-05-15T12:10:52.541112Z",
     "shell.execute_reply": "2021-05-15T12:10:52.541664Z"
    },
    "papermill": {
     "duration": 0.070867,
     "end_time": "2021-05-15T12:10:52.541800",
     "exception": false,
     "start_time": "2021-05-15T12:10:52.470933",
     "status": "completed"
    },
    "tags": []
   },
   "outputs": [],
   "source": [
    "#hide\n",
    "mapping = get_mappings(paths['mapping'])"
   ]
  },
  {
   "cell_type": "code",
   "execution_count": 6,
   "id": "certified-tactics",
   "metadata": {
    "execution": {
     "iopub.execute_input": "2021-05-15T12:10:52.623108Z",
     "iopub.status.busy": "2021-05-15T12:10:52.622483Z",
     "iopub.status.idle": "2021-05-15T12:10:52.624957Z",
     "shell.execute_reply": "2021-05-15T12:10:52.624345Z"
    },
    "papermill": {
     "duration": 0.045129,
     "end_time": "2021-05-15T12:10:52.625074",
     "exception": false,
     "start_time": "2021-05-15T12:10:52.579945",
     "status": "completed"
    },
    "tags": []
   },
   "outputs": [],
   "source": [
    "#hide\n",
    "def get_template(path):\n",
    "    from urllib.parse import urlparse\n",
    "    if bool(urlparse(path).netloc):\n",
    "        from urllib.request import urlopen\n",
    "        return urlopen(path).read().decode('utf8')\n",
    "    return open(path).read()"
   ]
  },
  {
   "cell_type": "code",
   "execution_count": 7,
   "id": "realistic-blast",
   "metadata": {
    "execution": {
     "iopub.execute_input": "2021-05-15T12:10:52.705009Z",
     "iopub.status.busy": "2021-05-15T12:10:52.704381Z",
     "iopub.status.idle": "2021-05-15T12:10:52.706810Z",
     "shell.execute_reply": "2021-05-15T12:10:52.706277Z"
    },
    "papermill": {
     "duration": 0.044483,
     "end_time": "2021-05-15T12:10:52.706930",
     "exception": false,
     "start_time": "2021-05-15T12:10:52.662447",
     "status": "completed"
    },
    "tags": []
   },
   "outputs": [],
   "source": [
    "#hide\n",
    "def get_frame(name):\n",
    "    url = (\n",
    "        'https://raw.githubusercontent.com/CSSEGISandData/COVID-19/master/csse_covid_19_data/'\n",
    "        f'csse_covid_19_time_series/time_series_covid19_{name}_global.csv')\n",
    "    df = pd.read_csv(url)\n",
    "    # rename countries\n",
    "    df['Country/Region'] = df['Country/Region'].replace(mapping['replace.country'])\n",
    "    return df"
   ]
  },
  {
   "cell_type": "code",
   "execution_count": 8,
   "id": "affiliated-characterization",
   "metadata": {
    "execution": {
     "iopub.execute_input": "2021-05-15T12:10:52.787137Z",
     "iopub.status.busy": "2021-05-15T12:10:52.786509Z",
     "iopub.status.idle": "2021-05-15T12:10:52.788846Z",
     "shell.execute_reply": "2021-05-15T12:10:52.788234Z"
    },
    "papermill": {
     "duration": 0.044375,
     "end_time": "2021-05-15T12:10:52.788964",
     "exception": false,
     "start_time": "2021-05-15T12:10:52.744589",
     "status": "completed"
    },
    "tags": []
   },
   "outputs": [],
   "source": [
    "#hide\n",
    "def get_dates(df):\n",
    "    dt_cols = df.columns[~df.columns.isin(['Province/State', 'Country/Region', 'Lat', 'Long'])]\n",
    "    LAST_DATE_I = -1\n",
    "    # sometimes last column may be empty, then go backwards\n",
    "    for i in range(-1, -len(dt_cols), -1):\n",
    "        if not df[dt_cols[i]].fillna(0).eq(0).all():\n",
    "            LAST_DATE_I = i\n",
    "            break\n",
    "    return LAST_DATE_I, dt_cols"
   ]
  },
  {
   "cell_type": "code",
   "execution_count": 9,
   "id": "recent-optimization",
   "metadata": {
    "execution": {
     "iopub.execute_input": "2021-05-15T12:10:52.868221Z",
     "iopub.status.busy": "2021-05-15T12:10:52.867587Z",
     "iopub.status.idle": "2021-05-15T12:10:53.221236Z",
     "shell.execute_reply": "2021-05-15T12:10:53.220659Z"
    },
    "papermill": {
     "duration": 0.395189,
     "end_time": "2021-05-15T12:10:53.221385",
     "exception": false,
     "start_time": "2021-05-15T12:10:52.826196",
     "status": "completed"
    },
    "tags": []
   },
   "outputs": [],
   "source": [
    "#hide\n",
    "COL_REGION = 'Country/Region'\n",
    "# Confirmed, Recovered, Deaths\n",
    "df = get_frame('confirmed')\n",
    "# dft_: timeseries, dfc_: today country agg\n",
    "dft_cases = df\n",
    "dft_deaths = get_frame('deaths')\n",
    "dft_recovered = get_frame('recovered')\n",
    "LAST_DATE_I, dt_cols = get_dates(df)"
   ]
  },
  {
   "cell_type": "code",
   "execution_count": 10,
   "id": "absolute-copper",
   "metadata": {
    "execution": {
     "iopub.execute_input": "2021-05-15T12:10:53.303391Z",
     "iopub.status.busy": "2021-05-15T12:10:53.302748Z",
     "iopub.status.idle": "2021-05-15T12:10:53.305520Z",
     "shell.execute_reply": "2021-05-15T12:10:53.304872Z"
    },
    "papermill": {
     "duration": 0.045757,
     "end_time": "2021-05-15T12:10:53.305650",
     "exception": false,
     "start_time": "2021-05-15T12:10:53.259893",
     "status": "completed"
    },
    "tags": []
   },
   "outputs": [],
   "source": [
    "#hide\n",
    "LAST_DATE_I, dt_cols = get_dates(df)\n",
    "dt_today =dt_cols[LAST_DATE_I]\n",
    "# dt_5day = dt_cols[LAST_DATE_I - 5]\n",
    "dt_yday = dt_cols[LAST_DATE_I - 1]"
   ]
  },
  {
   "cell_type": "code",
   "execution_count": 11,
   "id": "restricted-sheriff",
   "metadata": {
    "execution": {
     "iopub.execute_input": "2021-05-15T12:10:53.387194Z",
     "iopub.status.busy": "2021-05-15T12:10:53.386567Z",
     "iopub.status.idle": "2021-05-15T12:10:53.394273Z",
     "shell.execute_reply": "2021-05-15T12:10:53.394879Z"
    },
    "papermill": {
     "duration": 0.051867,
     "end_time": "2021-05-15T12:10:53.395020",
     "exception": false,
     "start_time": "2021-05-15T12:10:53.343153",
     "status": "completed"
    },
    "tags": []
   },
   "outputs": [],
   "source": [
    "#hide\n",
    "dfc_cases = dft_cases.groupby(COL_REGION)[dt_today].sum()\n",
    "dfc_deaths = dft_deaths.groupby(COL_REGION)[dt_today].sum()\n",
    "# dfp_cases = dft_cases.groupby(COL_REGION)[dt_5day].sum()\n",
    "# dfp_deaths = dft_deaths.groupby(COL_REGION)[dt_5day].sum()\n",
    "dfp_cases = dft_cases.groupby(COL_REGION)[dt_yday].sum()\n",
    "dfp_deaths = dft_deaths.groupby(COL_REGION)[dt_yday].sum()"
   ]
  },
  {
   "cell_type": "code",
   "execution_count": 12,
   "id": "deluxe-hepatitis",
   "metadata": {
    "execution": {
     "iopub.execute_input": "2021-05-15T12:10:53.477066Z",
     "iopub.status.busy": "2021-05-15T12:10:53.476416Z",
     "iopub.status.idle": "2021-05-15T12:10:53.481005Z",
     "shell.execute_reply": "2021-05-15T12:10:53.480460Z"
    },
    "papermill": {
     "duration": 0.04858,
     "end_time": "2021-05-15T12:10:53.481132",
     "exception": false,
     "start_time": "2021-05-15T12:10:53.432552",
     "status": "completed"
    },
    "tags": []
   },
   "outputs": [],
   "source": [
    "#hide\n",
    "df_table = (pd.DataFrame(dict(Cases = dfc_cases, Deaths = dfc_deaths, PCases = dfp_cases, PDeaths = dfp_deaths))\n",
    "            .sort_values(by = ['Cases','Deaths'], ascending = [False, False])\n",
    "            .reset_index())"
   ]
  },
  {
   "cell_type": "code",
   "execution_count": 13,
   "id": "educational-chancellor",
   "metadata": {
    "execution": {
     "iopub.execute_input": "2021-05-15T12:10:53.579522Z",
     "iopub.status.busy": "2021-05-15T12:10:53.578881Z",
     "iopub.status.idle": "2021-05-15T12:10:53.587047Z",
     "shell.execute_reply": "2021-05-15T12:10:53.587543Z"
    },
    "papermill": {
     "duration": 0.067202,
     "end_time": "2021-05-15T12:10:53.587685",
     "exception": false,
     "start_time": "2021-05-15T12:10:53.520483",
     "status": "completed"
    },
    "tags": []
   },
   "outputs": [
    {
     "data": {
      "text/html": [
       "<div>\n",
       "<style scoped>\n",
       "    .dataframe tbody tr th:only-of-type {\n",
       "        vertical-align: middle;\n",
       "    }\n",
       "\n",
       "    .dataframe tbody tr th {\n",
       "        vertical-align: top;\n",
       "    }\n",
       "\n",
       "    .dataframe thead th {\n",
       "        text-align: right;\n",
       "    }\n",
       "</style>\n",
       "<table border=\"1\" class=\"dataframe\">\n",
       "  <thead>\n",
       "    <tr style=\"text-align: right;\">\n",
       "      <th></th>\n",
       "      <th>Country/Region</th>\n",
       "      <th>Cases</th>\n",
       "      <th>Deaths</th>\n",
       "      <th>PCases</th>\n",
       "      <th>PDeaths</th>\n",
       "      <th>Cases (+)</th>\n",
       "      <th>Deaths (+)</th>\n",
       "      <th>Fatality Rate</th>\n",
       "      <th>Continent</th>\n",
       "    </tr>\n",
       "  </thead>\n",
       "  <tbody>\n",
       "    <tr>\n",
       "      <th>0</th>\n",
       "      <td>US</td>\n",
       "      <td>32895169</td>\n",
       "      <td>585232</td>\n",
       "      <td>32852871</td>\n",
       "      <td>584487</td>\n",
       "      <td>42298</td>\n",
       "      <td>745</td>\n",
       "      <td>1.78</td>\n",
       "      <td>North America</td>\n",
       "    </tr>\n",
       "    <tr>\n",
       "      <th>1</th>\n",
       "      <td>India</td>\n",
       "      <td>24372907</td>\n",
       "      <td>266207</td>\n",
       "      <td>24046809</td>\n",
       "      <td>262317</td>\n",
       "      <td>326098</td>\n",
       "      <td>3890</td>\n",
       "      <td>1.09</td>\n",
       "      <td>Asia</td>\n",
       "    </tr>\n",
       "    <tr>\n",
       "      <th>2</th>\n",
       "      <td>Brazil</td>\n",
       "      <td>15519525</td>\n",
       "      <td>432628</td>\n",
       "      <td>15433989</td>\n",
       "      <td>430417</td>\n",
       "      <td>85536</td>\n",
       "      <td>2211</td>\n",
       "      <td>2.79</td>\n",
       "      <td>South America</td>\n",
       "    </tr>\n",
       "    <tr>\n",
       "      <th>3</th>\n",
       "      <td>France</td>\n",
       "      <td>5909386</td>\n",
       "      <td>107584</td>\n",
       "      <td>5902343</td>\n",
       "      <td>107411</td>\n",
       "      <td>7043</td>\n",
       "      <td>173</td>\n",
       "      <td>1.82</td>\n",
       "      <td>Europe</td>\n",
       "    </tr>\n",
       "    <tr>\n",
       "      <th>4</th>\n",
       "      <td>Turkey</td>\n",
       "      <td>5095390</td>\n",
       "      <td>44301</td>\n",
       "      <td>5083996</td>\n",
       "      <td>44059</td>\n",
       "      <td>11394</td>\n",
       "      <td>242</td>\n",
       "      <td>0.87</td>\n",
       "      <td>Asia</td>\n",
       "    </tr>\n",
       "  </tbody>\n",
       "</table>\n",
       "</div>"
      ],
      "text/plain": [
       "  Country/Region     Cases  Deaths    PCases  PDeaths  Cases (+)  Deaths (+)  \\\n",
       "0             US  32895169  585232  32852871   584487      42298         745   \n",
       "1          India  24372907  266207  24046809   262317     326098        3890   \n",
       "2         Brazil  15519525  432628  15433989   430417      85536        2211   \n",
       "3         France   5909386  107584   5902343   107411       7043         173   \n",
       "4         Turkey   5095390   44301   5083996    44059      11394         242   \n",
       "\n",
       "   Fatality Rate      Continent  \n",
       "0           1.78  North America  \n",
       "1           1.09           Asia  \n",
       "2           2.79  South America  \n",
       "3           1.82         Europe  \n",
       "4           0.87           Asia  "
      ]
     },
     "execution_count": 13,
     "metadata": {},
     "output_type": "execute_result"
    }
   ],
   "source": [
    "#hide\n",
    "for c in 'Cases, Deaths'.split(', '):\n",
    "    df_table[f'{c} (+)'] = (df_table[c] - df_table[f'P{c}']).clip(0)\n",
    "    #Clip ça veut dire, les chiffres negatif sont interdit\n",
    "df_table['Fatality Rate'] = (100* df_table['Deaths']/ df_table['Cases']).round(2)\n",
    "df_table['Continent'] = df_table['Country/Region'].map(mapping['map.continent'])\n",
    "df_table.head(5)"
   ]
  },
  {
   "cell_type": "code",
   "execution_count": 14,
   "id": "aboriginal-bulgaria",
   "metadata": {
    "execution": {
     "iopub.execute_input": "2021-05-15T12:10:53.681651Z",
     "iopub.status.busy": "2021-05-15T12:10:53.680982Z",
     "iopub.status.idle": "2021-05-15T12:10:53.683427Z",
     "shell.execute_reply": "2021-05-15T12:10:53.682880Z"
    },
    "papermill": {
     "duration": 0.055311,
     "end_time": "2021-05-15T12:10:53.683555",
     "exception": false,
     "start_time": "2021-05-15T12:10:53.628244",
     "status": "completed"
    },
    "tags": []
   },
   "outputs": [],
   "source": [
    "#hide\n",
    "#delete problematic countries from table\n",
    "df_table = df_table[~df_table['Country/Region'].isin(['Cape Verde', 'Cruise Ship', 'Kosovo'])]"
   ]
  },
  {
   "cell_type": "code",
   "execution_count": 15,
   "id": "fantastic-effect",
   "metadata": {
    "execution": {
     "iopub.execute_input": "2021-05-15T12:10:53.771575Z",
     "iopub.status.busy": "2021-05-15T12:10:53.770946Z",
     "iopub.status.idle": "2021-05-15T12:10:53.792443Z",
     "shell.execute_reply": "2021-05-15T12:10:53.791917Z"
    },
    "papermill": {
     "duration": 0.069745,
     "end_time": "2021-05-15T12:10:53.792574",
     "exception": false,
     "start_time": "2021-05-15T12:10:53.722829",
     "status": "completed"
    },
    "tags": []
   },
   "outputs": [
    {
     "data": {
      "text/html": [
       "<div>\n",
       "<style scoped>\n",
       "    .dataframe tbody tr th:only-of-type {\n",
       "        vertical-align: middle;\n",
       "    }\n",
       "\n",
       "    .dataframe tbody tr th {\n",
       "        vertical-align: top;\n",
       "    }\n",
       "\n",
       "    .dataframe thead th {\n",
       "        text-align: right;\n",
       "    }\n",
       "</style>\n",
       "<table border=\"1\" class=\"dataframe\">\n",
       "  <thead>\n",
       "    <tr style=\"text-align: right;\">\n",
       "      <th></th>\n",
       "      <th>Country/Region</th>\n",
       "      <th>Cases</th>\n",
       "      <th>Deaths</th>\n",
       "      <th>PCases</th>\n",
       "      <th>PDeaths</th>\n",
       "      <th>Cases (+)</th>\n",
       "      <th>Deaths (+)</th>\n",
       "      <th>Fatality Rate</th>\n",
       "      <th>Continent</th>\n",
       "    </tr>\n",
       "  </thead>\n",
       "  <tbody>\n",
       "    <tr>\n",
       "      <th>0</th>\n",
       "      <td>US</td>\n",
       "      <td>32895169</td>\n",
       "      <td>585232</td>\n",
       "      <td>32852871</td>\n",
       "      <td>584487</td>\n",
       "      <td>42298</td>\n",
       "      <td>745</td>\n",
       "      <td>1.8</td>\n",
       "      <td>North America</td>\n",
       "    </tr>\n",
       "    <tr>\n",
       "      <th>1</th>\n",
       "      <td>India</td>\n",
       "      <td>24372907</td>\n",
       "      <td>266207</td>\n",
       "      <td>24046809</td>\n",
       "      <td>262317</td>\n",
       "      <td>326098</td>\n",
       "      <td>3890</td>\n",
       "      <td>1.1</td>\n",
       "      <td>Asia</td>\n",
       "    </tr>\n",
       "    <tr>\n",
       "      <th>2</th>\n",
       "      <td>Brazil</td>\n",
       "      <td>15519525</td>\n",
       "      <td>432628</td>\n",
       "      <td>15433989</td>\n",
       "      <td>430417</td>\n",
       "      <td>85536</td>\n",
       "      <td>2211</td>\n",
       "      <td>2.8</td>\n",
       "      <td>South America</td>\n",
       "    </tr>\n",
       "    <tr>\n",
       "      <th>3</th>\n",
       "      <td>France</td>\n",
       "      <td>5909386</td>\n",
       "      <td>107584</td>\n",
       "      <td>5902343</td>\n",
       "      <td>107411</td>\n",
       "      <td>7043</td>\n",
       "      <td>173</td>\n",
       "      <td>1.8</td>\n",
       "      <td>Europe</td>\n",
       "    </tr>\n",
       "    <tr>\n",
       "      <th>4</th>\n",
       "      <td>Turkey</td>\n",
       "      <td>5095390</td>\n",
       "      <td>44301</td>\n",
       "      <td>5083996</td>\n",
       "      <td>44059</td>\n",
       "      <td>11394</td>\n",
       "      <td>242</td>\n",
       "      <td>0.9</td>\n",
       "      <td>Asia</td>\n",
       "    </tr>\n",
       "  </tbody>\n",
       "</table>\n",
       "</div>"
      ],
      "text/plain": [
       "  Country/Region     Cases  Deaths    PCases  PDeaths  Cases (+)  Deaths (+)  \\\n",
       "0             US  32895169  585232  32852871   584487      42298         745   \n",
       "1          India  24372907  266207  24046809   262317     326098        3890   \n",
       "2         Brazil  15519525  432628  15433989   430417      85536        2211   \n",
       "3         France   5909386  107584   5902343   107411       7043         173   \n",
       "4         Turkey   5095390   44301   5083996    44059      11394         242   \n",
       "\n",
       "   Fatality Rate      Continent  \n",
       "0            1.8  North America  \n",
       "1            1.1           Asia  \n",
       "2            2.8  South America  \n",
       "3            1.8         Europe  \n",
       "4            0.9           Asia  "
      ]
     },
     "execution_count": 15,
     "metadata": {},
     "output_type": "execute_result"
    }
   ],
   "source": [
    "#hide\n",
    "df_table = (pd.DataFrame(dict(Cases=dfc_cases, Deaths=dfc_deaths, PCases=dfp_cases, PDeaths=dfp_deaths))\n",
    "             .sort_values(by=['Cases', 'Deaths'], ascending=[False, False])\n",
    "             .reset_index())\n",
    "df_table.rename(columns={'index': 'Country/Region'}, inplace=True)\n",
    "for c in 'Cases, Deaths'.split(', '):\n",
    "    df_table[f'{c} (+)'] = (df_table[c] - df_table[f'P{c}']).clip(0)  # DATA BUG\n",
    "df_table['Fatality Rate'] = (100 * df_table['Deaths'] / df_table['Cases']).round(1)\n",
    "df_table['Continent'] = df_table['Country/Region'].map(mapping['map.continent'])\n",
    "df_table.head(5)"
   ]
  },
  {
   "cell_type": "code",
   "execution_count": 16,
   "id": "fewer-occasion",
   "metadata": {
    "execution": {
     "iopub.execute_input": "2021-05-15T12:10:53.874802Z",
     "iopub.status.busy": "2021-05-15T12:10:53.874167Z",
     "iopub.status.idle": "2021-05-15T12:10:53.878594Z",
     "shell.execute_reply": "2021-05-15T12:10:53.879120Z"
    },
    "papermill": {
     "duration": 0.047472,
     "end_time": "2021-05-15T12:10:53.879260",
     "exception": false,
     "start_time": "2021-05-15T12:10:53.831788",
     "status": "completed"
    },
    "tags": []
   },
   "outputs": [],
   "source": [
    "#hide\n",
    "#delete problematic countries from table\n",
    "df_table = df_table[~df_table['Country/Region'].isin(['Cape Verde', 'Cruise Ship', 'Kosovo'])]"
   ]
  },
  {
   "cell_type": "code",
   "execution_count": 17,
   "id": "related-center",
   "metadata": {
    "execution": {
     "iopub.execute_input": "2021-05-15T12:10:53.964463Z",
     "iopub.status.busy": "2021-05-15T12:10:53.963822Z",
     "iopub.status.idle": "2021-05-15T12:10:53.978382Z",
     "shell.execute_reply": "2021-05-15T12:10:53.977837Z"
    },
    "papermill": {
     "duration": 0.060776,
     "end_time": "2021-05-15T12:10:53.978505",
     "exception": false,
     "start_time": "2021-05-15T12:10:53.917729",
     "status": "completed"
    },
    "tags": []
   },
   "outputs": [],
   "source": [
    "#hide\n",
    "metrics = [df_table.columns[index] for index in [1,2,5,6]]\n",
    "# s_china = df_table[df_table['Country/Region'].eq('China')][metrics].sum().add_prefix('China ')\n",
    "s_us = df_table[df_table['Country/Region'].eq('US')][metrics].sum().add_prefix('US ')\n",
    "s_eu = df_table[df_table['Continent'].eq('Europe')][metrics].sum().add_prefix('EU ')\n",
    "s_ind = df_table[df_table['Country/Region'].eq('India')][metrics].sum().add_prefix('India ')\n",
    "summary = {'updated': pd.to_datetime(dt_today), 'since': pd.to_datetime(dt_yday)}\n",
    "summary = {'updated': pd.to_datetime(dt_today), 'since': pd.to_datetime(dt_yday)}\n",
    "summary = {**summary, **df_table[metrics].sum(), **s_ind, **s_us, **s_eu}"
   ]
  },
  {
   "cell_type": "code",
   "execution_count": 18,
   "id": "engaging-syndrome",
   "metadata": {
    "execution": {
     "iopub.execute_input": "2021-05-15T12:10:54.061718Z",
     "iopub.status.busy": "2021-05-15T12:10:54.061043Z",
     "iopub.status.idle": "2021-05-15T12:10:54.072878Z",
     "shell.execute_reply": "2021-05-15T12:10:54.072326Z"
    },
    "papermill": {
     "duration": 0.056155,
     "end_time": "2021-05-15T12:10:54.073017",
     "exception": false,
     "start_time": "2021-05-15T12:10:54.016862",
     "status": "completed"
    },
    "tags": []
   },
   "outputs": [],
   "source": [
    "#hide\n",
    "dft_ct_new_cases = dft_cases.groupby(COL_REGION)[dt_cols].sum().diff(axis=1).fillna(0).astype(int)"
   ]
  },
  {
   "cell_type": "code",
   "execution_count": 19,
   "id": "neutral-assignment",
   "metadata": {
    "execution": {
     "iopub.execute_input": "2021-05-15T12:10:54.160219Z",
     "iopub.status.busy": "2021-05-15T12:10:54.159587Z",
     "iopub.status.idle": "2021-05-15T12:10:54.162011Z",
     "shell.execute_reply": "2021-05-15T12:10:54.161470Z"
    },
    "papermill": {
     "duration": 0.048733,
     "end_time": "2021-05-15T12:10:54.162132",
     "exception": false,
     "start_time": "2021-05-15T12:10:54.113399",
     "status": "completed"
    },
    "tags": []
   },
   "outputs": [],
   "source": [
    "#hide\n",
    "everydaycases = dft_ct_new_cases.cumsum(axis=1)"
   ]
  },
  {
   "cell_type": "code",
   "execution_count": 20,
   "id": "parliamentary-calgary",
   "metadata": {
    "execution": {
     "iopub.execute_input": "2021-05-15T12:10:54.248246Z",
     "iopub.status.busy": "2021-05-15T12:10:54.247394Z",
     "iopub.status.idle": "2021-05-15T12:10:54.863312Z",
     "shell.execute_reply": "2021-05-15T12:10:54.863830Z"
    },
    "papermill": {
     "duration": 0.660501,
     "end_time": "2021-05-15T12:10:54.863999",
     "exception": false,
     "start_time": "2021-05-15T12:10:54.203498",
     "status": "completed"
    },
    "tags": []
   },
   "outputs": [],
   "source": [
    "#hide\n",
    "import pandas as pd\n",
    "import matplotlib.pyplot as plt\n",
    "import matplotlib.ticker as ticker\n",
    "import matplotlib.animation as animation\n",
    "from IPython.display import HTML"
   ]
  },
  {
   "cell_type": "code",
   "execution_count": 21,
   "id": "lasting-extraction",
   "metadata": {
    "execution": {
     "iopub.execute_input": "2021-05-15T12:10:54.950063Z",
     "iopub.status.busy": "2021-05-15T12:10:54.949428Z",
     "iopub.status.idle": "2021-05-15T12:10:54.955520Z",
     "shell.execute_reply": "2021-05-15T12:10:54.954893Z"
    },
    "papermill": {
     "duration": 0.049396,
     "end_time": "2021-05-15T12:10:54.955648",
     "exception": false,
     "start_time": "2021-05-15T12:10:54.906252",
     "status": "completed"
    },
    "tags": []
   },
   "outputs": [],
   "source": [
    "#hide\n",
    "t = everydaycases.stack()"
   ]
  },
  {
   "cell_type": "code",
   "execution_count": 22,
   "id": "premier-sleeve",
   "metadata": {
    "execution": {
     "iopub.execute_input": "2021-05-15T12:10:55.037918Z",
     "iopub.status.busy": "2021-05-15T12:10:55.037292Z",
     "iopub.status.idle": "2021-05-15T12:10:55.044913Z",
     "shell.execute_reply": "2021-05-15T12:10:55.045458Z"
    },
    "papermill": {
     "duration": 0.051021,
     "end_time": "2021-05-15T12:10:55.045599",
     "exception": false,
     "start_time": "2021-05-15T12:10:54.994578",
     "status": "completed"
    },
    "tags": []
   },
   "outputs": [],
   "source": [
    "#hide\n",
    "g = t.reset_index(['Country/Region'])"
   ]
  },
  {
   "cell_type": "code",
   "execution_count": 23,
   "id": "distributed-pittsburgh",
   "metadata": {
    "execution": {
     "iopub.execute_input": "2021-05-15T12:10:55.126583Z",
     "iopub.status.busy": "2021-05-15T12:10:55.125945Z",
     "iopub.status.idle": "2021-05-15T12:10:55.128323Z",
     "shell.execute_reply": "2021-05-15T12:10:55.127696Z"
    },
    "papermill": {
     "duration": 0.044497,
     "end_time": "2021-05-15T12:10:55.128449",
     "exception": false,
     "start_time": "2021-05-15T12:10:55.083952",
     "status": "completed"
    },
    "tags": []
   },
   "outputs": [],
   "source": [
    "#hide\n",
    "g.index.name = 'date'"
   ]
  },
  {
   "cell_type": "code",
   "execution_count": 24,
   "id": "naked-donor",
   "metadata": {
    "execution": {
     "iopub.execute_input": "2021-05-15T12:10:55.211005Z",
     "iopub.status.busy": "2021-05-15T12:10:55.210376Z",
     "iopub.status.idle": "2021-05-15T12:10:55.212362Z",
     "shell.execute_reply": "2021-05-15T12:10:55.212880Z"
    },
    "papermill": {
     "duration": 0.044111,
     "end_time": "2021-05-15T12:10:55.213021",
     "exception": false,
     "start_time": "2021-05-15T12:10:55.168910",
     "status": "completed"
    },
    "tags": []
   },
   "outputs": [],
   "source": [
    "# #hide\n",
    "# g = g.reset_index(['date'])"
   ]
  },
  {
   "cell_type": "code",
   "execution_count": 25,
   "id": "incomplete-mustang",
   "metadata": {
    "execution": {
     "iopub.execute_input": "2021-05-15T12:10:55.295046Z",
     "iopub.status.busy": "2021-05-15T12:10:55.294377Z",
     "iopub.status.idle": "2021-05-15T12:10:55.296749Z",
     "shell.execute_reply": "2021-05-15T12:10:55.296233Z"
    },
    "papermill": {
     "duration": 0.044601,
     "end_time": "2021-05-15T12:10:55.296874",
     "exception": false,
     "start_time": "2021-05-15T12:10:55.252273",
     "status": "completed"
    },
    "tags": []
   },
   "outputs": [],
   "source": [
    "#hide\n",
    "# g.head()"
   ]
  },
  {
   "cell_type": "code",
   "execution_count": 26,
   "id": "specific-kruger",
   "metadata": {
    "execution": {
     "iopub.execute_input": "2021-05-15T12:10:55.378058Z",
     "iopub.status.busy": "2021-05-15T12:10:55.377430Z",
     "iopub.status.idle": "2021-05-15T12:10:55.379351Z",
     "shell.execute_reply": "2021-05-15T12:10:55.379838Z"
    },
    "papermill": {
     "duration": 0.044107,
     "end_time": "2021-05-15T12:10:55.379977",
     "exception": false,
     "start_time": "2021-05-15T12:10:55.335870",
     "status": "completed"
    },
    "tags": []
   },
   "outputs": [],
   "source": [
    "#hide\n",
    "# g.columns = ['date','country','cases']"
   ]
  },
  {
   "cell_type": "code",
   "execution_count": 27,
   "id": "tender-conversion",
   "metadata": {
    "execution": {
     "iopub.execute_input": "2021-05-15T12:10:55.459297Z",
     "iopub.status.busy": "2021-05-15T12:10:55.458662Z",
     "iopub.status.idle": "2021-05-15T12:10:55.461263Z",
     "shell.execute_reply": "2021-05-15T12:10:55.460726Z"
    },
    "papermill": {
     "duration": 0.043398,
     "end_time": "2021-05-15T12:10:55.461388",
     "exception": false,
     "start_time": "2021-05-15T12:10:55.417990",
     "status": "completed"
    },
    "tags": []
   },
   "outputs": [],
   "source": [
    "#hide\n",
    "# g['continent'] = g.country"
   ]
  },
  {
   "cell_type": "code",
   "execution_count": 28,
   "id": "substantial-wilderness",
   "metadata": {
    "execution": {
     "iopub.execute_input": "2021-05-15T12:10:55.543429Z",
     "iopub.status.busy": "2021-05-15T12:10:55.542803Z",
     "iopub.status.idle": "2021-05-15T12:10:55.545418Z",
     "shell.execute_reply": "2021-05-15T12:10:55.544822Z"
    },
    "papermill": {
     "duration": 0.044092,
     "end_time": "2021-05-15T12:10:55.545543",
     "exception": false,
     "start_time": "2021-05-15T12:10:55.501451",
     "status": "completed"
    },
    "tags": []
   },
   "outputs": [],
   "source": [
    "#hide\n",
    "# cols = list(g.columns.values)"
   ]
  },
  {
   "cell_type": "code",
   "execution_count": 29,
   "id": "solved-farming",
   "metadata": {
    "execution": {
     "iopub.execute_input": "2021-05-15T12:10:55.626141Z",
     "iopub.status.busy": "2021-05-15T12:10:55.625462Z",
     "iopub.status.idle": "2021-05-15T12:10:55.627786Z",
     "shell.execute_reply": "2021-05-15T12:10:55.627176Z"
    },
    "papermill": {
     "duration": 0.044331,
     "end_time": "2021-05-15T12:10:55.627906",
     "exception": false,
     "start_time": "2021-05-15T12:10:55.583575",
     "status": "completed"
    },
    "tags": []
   },
   "outputs": [],
   "source": [
    "#hide\n",
    "# cols.insert(0, cols.pop())"
   ]
  },
  {
   "cell_type": "code",
   "execution_count": 30,
   "id": "executed-adoption",
   "metadata": {
    "execution": {
     "iopub.execute_input": "2021-05-15T12:10:55.707303Z",
     "iopub.status.busy": "2021-05-15T12:10:55.706683Z",
     "iopub.status.idle": "2021-05-15T12:10:55.709093Z",
     "shell.execute_reply": "2021-05-15T12:10:55.708478Z"
    },
    "papermill": {
     "duration": 0.043315,
     "end_time": "2021-05-15T12:10:55.709242",
     "exception": false,
     "start_time": "2021-05-15T12:10:55.665927",
     "status": "completed"
    },
    "tags": []
   },
   "outputs": [],
   "source": [
    "#hide\n",
    "# g = g[cols]"
   ]
  },
  {
   "cell_type": "code",
   "execution_count": 31,
   "id": "subject-dublin",
   "metadata": {
    "execution": {
     "iopub.execute_input": "2021-05-15T12:10:55.789272Z",
     "iopub.status.busy": "2021-05-15T12:10:55.788617Z",
     "iopub.status.idle": "2021-05-15T12:10:55.791076Z",
     "shell.execute_reply": "2021-05-15T12:10:55.790460Z"
    },
    "papermill": {
     "duration": 0.04349,
     "end_time": "2021-05-15T12:10:55.791196",
     "exception": false,
     "start_time": "2021-05-15T12:10:55.747706",
     "status": "completed"
    },
    "tags": []
   },
   "outputs": [],
   "source": [
    "#hide\n",
    "# g['continent'] = g['continent'].map(mapping['map.continent'])"
   ]
  },
  {
   "cell_type": "code",
   "execution_count": 32,
   "id": "freelance-scout",
   "metadata": {
    "execution": {
     "iopub.execute_input": "2021-05-15T12:10:55.872181Z",
     "iopub.status.busy": "2021-05-15T12:10:55.871559Z",
     "iopub.status.idle": "2021-05-15T12:10:55.873988Z",
     "shell.execute_reply": "2021-05-15T12:10:55.873453Z"
    },
    "papermill": {
     "duration": 0.044742,
     "end_time": "2021-05-15T12:10:55.874111",
     "exception": false,
     "start_time": "2021-05-15T12:10:55.829369",
     "status": "completed"
    },
    "tags": []
   },
   "outputs": [],
   "source": [
    "#hide\n",
    "# g.head()"
   ]
  },
  {
   "cell_type": "code",
   "execution_count": 33,
   "id": "limited-engine",
   "metadata": {
    "execution": {
     "iopub.execute_input": "2021-05-15T12:10:55.954546Z",
     "iopub.status.busy": "2021-05-15T12:10:55.953907Z",
     "iopub.status.idle": "2021-05-15T12:10:55.956291Z",
     "shell.execute_reply": "2021-05-15T12:10:55.955655Z"
    },
    "papermill": {
     "duration": 0.044346,
     "end_time": "2021-05-15T12:10:55.956413",
     "exception": false,
     "start_time": "2021-05-15T12:10:55.912067",
     "status": "completed"
    },
    "tags": []
   },
   "outputs": [],
   "source": [
    "# hide\n",
    "# g['date'] = g['date'].astype('datetime64[ns]')"
   ]
  },
  {
   "cell_type": "code",
   "execution_count": 34,
   "id": "sophisticated-supervisor",
   "metadata": {
    "execution": {
     "iopub.execute_input": "2021-05-15T12:10:56.039090Z",
     "iopub.status.busy": "2021-05-15T12:10:56.038457Z",
     "iopub.status.idle": "2021-05-15T12:10:56.040658Z",
     "shell.execute_reply": "2021-05-15T12:10:56.040041Z"
    },
    "papermill": {
     "duration": 0.04493,
     "end_time": "2021-05-15T12:10:56.040777",
     "exception": false,
     "start_time": "2021-05-15T12:10:55.995847",
     "status": "completed"
    },
    "tags": []
   },
   "outputs": [],
   "source": [
    "#hide\n",
    "# g['date'] = g.date.dt.dayofyear"
   ]
  },
  {
   "cell_type": "code",
   "execution_count": 35,
   "id": "inside-dubai",
   "metadata": {
    "execution": {
     "iopub.execute_input": "2021-05-15T12:10:56.120533Z",
     "iopub.status.busy": "2021-05-15T12:10:56.119913Z",
     "iopub.status.idle": "2021-05-15T12:10:56.122032Z",
     "shell.execute_reply": "2021-05-15T12:10:56.122576Z"
    },
    "papermill": {
     "duration": 0.043647,
     "end_time": "2021-05-15T12:10:56.122710",
     "exception": false,
     "start_time": "2021-05-15T12:10:56.079063",
     "status": "completed"
    },
    "tags": []
   },
   "outputs": [],
   "source": [
    "#hide\n",
    "# g = g.rename(columns= {'continent':'group','country':'name','cases':'value'})"
   ]
  },
  {
   "cell_type": "code",
   "execution_count": 36,
   "id": "fleet-motorcycle",
   "metadata": {
    "execution": {
     "iopub.execute_input": "2021-05-15T12:10:56.202395Z",
     "iopub.status.busy": "2021-05-15T12:10:56.201761Z",
     "iopub.status.idle": "2021-05-15T12:10:56.204099Z",
     "shell.execute_reply": "2021-05-15T12:10:56.203486Z"
    },
    "papermill": {
     "duration": 0.043546,
     "end_time": "2021-05-15T12:10:56.204221",
     "exception": false,
     "start_time": "2021-05-15T12:10:56.160675",
     "status": "completed"
    },
    "tags": []
   },
   "outputs": [],
   "source": [
    "#hide\n",
    "# cols = ['name','group','day','value']"
   ]
  },
  {
   "cell_type": "code",
   "execution_count": 37,
   "id": "continued-sleeping",
   "metadata": {
    "execution": {
     "iopub.execute_input": "2021-05-15T12:10:56.284152Z",
     "iopub.status.busy": "2021-05-15T12:10:56.283526Z",
     "iopub.status.idle": "2021-05-15T12:10:56.285895Z",
     "shell.execute_reply": "2021-05-15T12:10:56.285278Z"
    },
    "papermill": {
     "duration": 0.043368,
     "end_time": "2021-05-15T12:10:56.286016",
     "exception": false,
     "start_time": "2021-05-15T12:10:56.242648",
     "status": "completed"
    },
    "tags": []
   },
   "outputs": [],
   "source": [
    "#hide\n",
    "# g.rename(columns= {'date':'day'},inplace = True)"
   ]
  },
  {
   "cell_type": "code",
   "execution_count": 38,
   "id": "major-fight",
   "metadata": {
    "execution": {
     "iopub.execute_input": "2021-05-15T12:10:56.365270Z",
     "iopub.status.busy": "2021-05-15T12:10:56.364610Z",
     "iopub.status.idle": "2021-05-15T12:10:56.367064Z",
     "shell.execute_reply": "2021-05-15T12:10:56.366449Z"
    },
    "papermill": {
     "duration": 0.043286,
     "end_time": "2021-05-15T12:10:56.367183",
     "exception": false,
     "start_time": "2021-05-15T12:10:56.323897",
     "status": "completed"
    },
    "tags": []
   },
   "outputs": [],
   "source": [
    "#hide\n",
    "# g = g[cols]"
   ]
  },
  {
   "cell_type": "code",
   "execution_count": 39,
   "id": "structured-mobile",
   "metadata": {
    "execution": {
     "iopub.execute_input": "2021-05-15T12:10:56.446674Z",
     "iopub.status.busy": "2021-05-15T12:10:56.446039Z",
     "iopub.status.idle": "2021-05-15T12:10:56.448566Z",
     "shell.execute_reply": "2021-05-15T12:10:56.448022Z"
    },
    "papermill": {
     "duration": 0.04333,
     "end_time": "2021-05-15T12:10:56.448690",
     "exception": false,
     "start_time": "2021-05-15T12:10:56.405360",
     "status": "completed"
    },
    "tags": []
   },
   "outputs": [],
   "source": [
    "# #hide\n",
    "# g = g[g.group.notna()]"
   ]
  },
  {
   "cell_type": "code",
   "execution_count": 40,
   "id": "determined-closing",
   "metadata": {
    "execution": {
     "iopub.execute_input": "2021-05-15T12:10:56.530632Z",
     "iopub.status.busy": "2021-05-15T12:10:56.529926Z",
     "iopub.status.idle": "2021-05-15T12:10:56.532503Z",
     "shell.execute_reply": "2021-05-15T12:10:56.531782Z"
    },
    "papermill": {
     "duration": 0.044709,
     "end_time": "2021-05-15T12:10:56.532636",
     "exception": false,
     "start_time": "2021-05-15T12:10:56.487927",
     "status": "completed"
    },
    "tags": []
   },
   "outputs": [],
   "source": [
    "# #hide\n",
    "# colors = dict(zip(\n",
    "#     [\"Oceania\", \"Europe\", \"Asia\", \"South America\", \"Middle East\", \"North America\", \"Africa\"],\n",
    "#     [\"#adb0ff\", \"#ffb3ff\", \"#90d595\", \"#e48381\", \"#aafbff\", \"#f7bb5f\", \"#eafb50\"]\n",
    "# ))\n",
    "# group_lk = g.set_index('name')['group'].to_dict()"
   ]
  },
  {
   "cell_type": "code",
   "execution_count": null,
   "id": "gross-drinking",
   "metadata": {
    "papermill": {
     "duration": 0.038701,
     "end_time": "2021-05-15T12:10:56.612134",
     "exception": false,
     "start_time": "2021-05-15T12:10:56.573433",
     "status": "completed"
    },
    "tags": []
   },
   "outputs": [],
   "source": []
  },
  {
   "cell_type": "code",
   "execution_count": 41,
   "id": "subject-macintosh",
   "metadata": {
    "execution": {
     "iopub.execute_input": "2021-05-15T12:10:56.694580Z",
     "iopub.status.busy": "2021-05-15T12:10:56.693923Z",
     "iopub.status.idle": "2021-05-15T12:10:56.695920Z",
     "shell.execute_reply": "2021-05-15T12:10:56.696415Z"
    },
    "papermill": {
     "duration": 0.046158,
     "end_time": "2021-05-15T12:10:56.696560",
     "exception": false,
     "start_time": "2021-05-15T12:10:56.650402",
     "status": "completed"
    },
    "tags": []
   },
   "outputs": [],
   "source": [
    "# #hide\n",
    "# fig, ax = plt.subplots(figsize=(15, 8))\n",
    "\n",
    "# def draw_barchart(current_day):\n",
    "#     dff = g[g['day'].eq(current_day)].sort_values(by='value', ascending=True).tail(10)\n",
    "#     ax.clear()\n",
    "#     ax.barh(dff['name'], dff['value'], color=[colors[group_lk[x]] for x in dff['name']])\n",
    "#     dx = dff['value'].max() / 200\n",
    "    \n",
    "#     for i, (value, name) in enumerate(zip(dff['value'], dff['name'])):\n",
    "#         ax.text(value-dx, i,     name,           size=14, weight=600, ha='right', va='bottom')\n",
    "#         ax.text(value-dx, i-.25, group_lk[name], size=10, color='#444444', ha='right', va='baseline')\n",
    "#         ax.text(value+dx, i,     f'{value:,.0f}',  size=14, ha='left',  va='center')\n",
    "#     ax.text(1, 0.4, current_day, transform=ax.transAxes, color='#777777', size=46, ha='right', weight=800)\n",
    "#     ax.text(0, 1.06, 'Population (thousands)', transform=ax.transAxes, size=12, color='#777777')\n",
    "#     ax.xaxis.set_major_formatter(ticker.StrMethodFormatter('{x:,.0f}'))\n",
    "#     ax.xaxis.set_ticks_position('top')\n",
    "#     ax.tick_params(axis='x', colors='#777777', labelsize=12)\n",
    "#     ax.set_yticks([])\n",
    "#     ax.margins(0, 0.01)\n",
    "#     ax.grid(which='major', axis='x', linestyle='-')\n",
    "#     ax.set_axisbelow(True)\n",
    "    \n",
    "#     ax.text(0, 1.15, 'Coronavirus',\n",
    "#             transform=ax.transAxes, size=24, weight=600, ha='left', va='top')\n",
    "# #     ax.text(1, 0, 'by @pratapvardhan; credit @jburnmurdoch', transform=ax.transAxes, color='#777777', ha='right',\n",
    "# #             bbox=dict(facecolor='white', alpha=0.8, edgecolor='white'))\n",
    "#     plt.box(False)"
   ]
  },
  {
   "cell_type": "code",
   "execution_count": 42,
   "id": "sexual-wages",
   "metadata": {
    "execution": {
     "iopub.execute_input": "2021-05-15T12:10:56.777751Z",
     "iopub.status.busy": "2021-05-15T12:10:56.777074Z",
     "iopub.status.idle": "2021-05-15T12:10:56.778945Z",
     "shell.execute_reply": "2021-05-15T12:10:56.779496Z"
    },
    "papermill": {
     "duration": 0.044841,
     "end_time": "2021-05-15T12:10:56.779635",
     "exception": false,
     "start_time": "2021-05-15T12:10:56.734794",
     "status": "completed"
    },
    "tags": []
   },
   "outputs": [],
   "source": [
    "# #hide_input\n",
    "# fig, ax = plt.subplots(figsize=(15, 8))\n",
    "# animator = animation.FuncAnimation(fig, draw_barchart, frames=range(g.day.values.min(), g.day.values.max()))\n",
    "# HTML(animator.to_jshtml())\n",
    "# # or use animator.to_html5_video() or animator.save() "
   ]
  },
  {
   "cell_type": "code",
   "execution_count": null,
   "id": "australian-container",
   "metadata": {
    "papermill": {
     "duration": 0.054337,
     "end_time": "2021-05-15T12:10:56.874463",
     "exception": false,
     "start_time": "2021-05-15T12:10:56.820126",
     "status": "completed"
    },
    "tags": []
   },
   "outputs": [],
   "source": []
  },
  {
   "cell_type": "code",
   "execution_count": null,
   "id": "mediterranean-pontiac",
   "metadata": {
    "papermill": {
     "duration": 0.042568,
     "end_time": "2021-05-15T12:10:56.960734",
     "exception": false,
     "start_time": "2021-05-15T12:10:56.918166",
     "status": "completed"
    },
    "tags": []
   },
   "outputs": [],
   "source": []
  },
  {
   "cell_type": "code",
   "execution_count": null,
   "id": "aging-legislature",
   "metadata": {
    "papermill": {
     "duration": 0.048968,
     "end_time": "2021-05-15T12:10:57.060455",
     "exception": false,
     "start_time": "2021-05-15T12:10:57.011487",
     "status": "completed"
    },
    "tags": []
   },
   "outputs": [],
   "source": []
  }
 ],
 "metadata": {
  "kernelspec": {
   "display_name": "Python 3",
   "language": "python",
   "name": "python3"
  },
  "language_info": {
   "codemirror_mode": {
    "name": "ipython",
    "version": 3
   },
   "file_extension": ".py",
   "mimetype": "text/x-python",
   "name": "python",
   "nbconvert_exporter": "python",
   "pygments_lexer": "ipython3",
   "version": "3.6.13"
  },
  "papermill": {
   "duration": 7.03643,
   "end_time": "2021-05-15T12:10:57.408626",
   "environment_variables": {},
   "exception": null,
   "input_path": "2020-03-21-covid19exp.ipynb",
   "output_path": "2020-03-21-covid19exp.ipynb",
   "parameters": {},
   "start_time": "2021-05-15T12:10:50.372196",
   "version": "2.0.0"
  }
 },
 "nbformat": 4,
 "nbformat_minor": 5
}