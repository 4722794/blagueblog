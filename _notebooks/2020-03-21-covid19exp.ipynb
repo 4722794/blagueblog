{
 "cells": [
  {
   "cell_type": "markdown",
   "id": "muslim-click",
   "metadata": {
    "papermill": {
     "duration": 0.043419,
     "end_time": "2021-07-29T00:21:25.845520",
     "exception": false,
     "start_time": "2021-07-29T00:21:25.802101",
     "status": "completed"
    },
    "tags": []
   },
   "source": [
    "# COVID-19 Case Race\n",
    "> A race chart to see rising cases around the world\n",
    "\n",
    "- author: Hargun Oberoi\n",
    "- image: images/covid-overview.png\n",
    "- hide: false\n",
    "- badges: false"
   ]
  },
  {
   "cell_type": "code",
   "execution_count": 1,
   "id": "proof-material",
   "metadata": {
    "execution": {
     "iopub.execute_input": "2021-07-29T00:21:25.939214Z",
     "iopub.status.busy": "2021-07-29T00:21:25.936329Z",
     "iopub.status.idle": "2021-07-29T00:21:26.353712Z",
     "shell.execute_reply": "2021-07-29T00:21:26.353169Z"
    },
    "papermill": {
     "duration": 0.463717,
     "end_time": "2021-07-29T00:21:26.353862",
     "exception": false,
     "start_time": "2021-07-29T00:21:25.890145",
     "status": "completed"
    },
    "tags": []
   },
   "outputs": [],
   "source": [
    "#hide\n",
    "import numpy as np\n",
    "import pandas as pd\n",
    "from jinja2 import Template\n",
    "from IPython.display import HTML"
   ]
  },
  {
   "cell_type": "code",
   "execution_count": 2,
   "id": "developed-terminology",
   "metadata": {
    "execution": {
     "iopub.execute_input": "2021-07-29T00:21:26.429507Z",
     "iopub.status.busy": "2021-07-29T00:21:26.428860Z",
     "iopub.status.idle": "2021-07-29T00:21:26.431253Z",
     "shell.execute_reply": "2021-07-29T00:21:26.430758Z"
    },
    "papermill": {
     "duration": 0.041952,
     "end_time": "2021-07-29T00:21:26.431373",
     "exception": false,
     "start_time": "2021-07-29T00:21:26.389421",
     "status": "completed"
    },
    "tags": []
   },
   "outputs": [],
   "source": [
    "#hide\n",
    "\n",
    "# FETCH\n",
    "base_url = 'https://raw.githubusercontent.com/pratapvardhan/notebooks/master/covid19/'\n",
    "paths = {\n",
    "    'mapping': base_url + 'mapping_countries.csv',\n",
    "    'overview': base_url + 'overview.tpl'\n",
    "}"
   ]
  },
  {
   "cell_type": "code",
   "execution_count": 3,
   "id": "dynamic-saver",
   "metadata": {
    "execution": {
     "iopub.execute_input": "2021-07-29T00:21:26.514796Z",
     "iopub.status.busy": "2021-07-29T00:21:26.514196Z",
     "iopub.status.idle": "2021-07-29T00:21:26.516484Z",
     "shell.execute_reply": "2021-07-29T00:21:26.517216Z"
    },
    "papermill": {
     "duration": 0.051564,
     "end_time": "2021-07-29T00:21:26.517365",
     "exception": false,
     "start_time": "2021-07-29T00:21:26.465801",
     "status": "completed"
    },
    "tags": []
   },
   "outputs": [
    {
     "data": {
      "text/plain": [
       "'https://raw.githubusercontent.com/pratapvardhan/notebooks/master/covid19/mapping_countries.csv'"
      ]
     },
     "execution_count": 3,
     "metadata": {},
     "output_type": "execute_result"
    }
   ],
   "source": [
    "#hide\n",
    "paths['mapping']"
   ]
  },
  {
   "cell_type": "code",
   "execution_count": 4,
   "id": "urban-software",
   "metadata": {
    "execution": {
     "iopub.execute_input": "2021-07-29T00:21:26.601461Z",
     "iopub.status.busy": "2021-07-29T00:21:26.600345Z",
     "iopub.status.idle": "2021-07-29T00:21:26.606050Z",
     "shell.execute_reply": "2021-07-29T00:21:26.605443Z"
    },
    "papermill": {
     "duration": 0.05346,
     "end_time": "2021-07-29T00:21:26.606179",
     "exception": false,
     "start_time": "2021-07-29T00:21:26.552719",
     "status": "completed"
    },
    "tags": []
   },
   "outputs": [],
   "source": [
    "#hide\n",
    "def get_mappings(url):\n",
    "    df = pd.read_csv(url)\n",
    "    return {\n",
    "        'df': df,\n",
    "        'replace.country': dict(df.dropna(subset=['Name']).set_index('Country')['Name']),\n",
    "        'map.continent': dict(df.set_index('Name')['Continent'])\n",
    "    }"
   ]
  },
  {
   "cell_type": "code",
   "execution_count": 5,
   "id": "intimate-machinery",
   "metadata": {
    "execution": {
     "iopub.execute_input": "2021-07-29T00:21:26.686843Z",
     "iopub.status.busy": "2021-07-29T00:21:26.686235Z",
     "iopub.status.idle": "2021-07-29T00:21:26.731435Z",
     "shell.execute_reply": "2021-07-29T00:21:26.730739Z"
    },
    "papermill": {
     "duration": 0.089741,
     "end_time": "2021-07-29T00:21:26.731607",
     "exception": false,
     "start_time": "2021-07-29T00:21:26.641866",
     "status": "completed"
    },
    "tags": []
   },
   "outputs": [],
   "source": [
    "#hide\n",
    "mapping = get_mappings(paths['mapping'])"
   ]
  },
  {
   "cell_type": "code",
   "execution_count": 6,
   "id": "certified-tactics",
   "metadata": {
    "execution": {
     "iopub.execute_input": "2021-07-29T00:21:26.818910Z",
     "iopub.status.busy": "2021-07-29T00:21:26.818282Z",
     "iopub.status.idle": "2021-07-29T00:21:26.819533Z",
     "shell.execute_reply": "2021-07-29T00:21:26.819994Z"
    },
    "papermill": {
     "duration": 0.04652,
     "end_time": "2021-07-29T00:21:26.820134",
     "exception": false,
     "start_time": "2021-07-29T00:21:26.773614",
     "status": "completed"
    },
    "tags": []
   },
   "outputs": [],
   "source": [
    "#hide\n",
    "def get_template(path):\n",
    "    from urllib.parse import urlparse\n",
    "    if bool(urlparse(path).netloc):\n",
    "        from urllib.request import urlopen\n",
    "        return urlopen(path).read().decode('utf8')\n",
    "    return open(path).read()"
   ]
  },
  {
   "cell_type": "code",
   "execution_count": 7,
   "id": "realistic-blast",
   "metadata": {
    "execution": {
     "iopub.execute_input": "2021-07-29T00:21:26.899382Z",
     "iopub.status.busy": "2021-07-29T00:21:26.898719Z",
     "iopub.status.idle": "2021-07-29T00:21:26.900854Z",
     "shell.execute_reply": "2021-07-29T00:21:26.902000Z"
    },
    "papermill": {
     "duration": 0.046775,
     "end_time": "2021-07-29T00:21:26.902249",
     "exception": false,
     "start_time": "2021-07-29T00:21:26.855474",
     "status": "completed"
    },
    "tags": []
   },
   "outputs": [],
   "source": [
    "#hide\n",
    "def get_frame(name):\n",
    "    url = (\n",
    "        'https://raw.githubusercontent.com/CSSEGISandData/COVID-19/master/csse_covid_19_data/'\n",
    "        f'csse_covid_19_time_series/time_series_covid19_{name}_global.csv')\n",
    "    df = pd.read_csv(url)\n",
    "    # rename countries\n",
    "    df['Country/Region'] = df['Country/Region'].replace(mapping['replace.country'])\n",
    "    return df"
   ]
  },
  {
   "cell_type": "code",
   "execution_count": 8,
   "id": "affiliated-characterization",
   "metadata": {
    "execution": {
     "iopub.execute_input": "2021-07-29T00:21:26.987919Z",
     "iopub.status.busy": "2021-07-29T00:21:26.987322Z",
     "iopub.status.idle": "2021-07-29T00:21:26.990369Z",
     "shell.execute_reply": "2021-07-29T00:21:26.989786Z"
    },
    "papermill": {
     "duration": 0.048323,
     "end_time": "2021-07-29T00:21:26.990493",
     "exception": false,
     "start_time": "2021-07-29T00:21:26.942170",
     "status": "completed"
    },
    "tags": []
   },
   "outputs": [],
   "source": [
    "#hide\n",
    "def get_dates(df):\n",
    "    dt_cols = df.columns[~df.columns.isin(['Province/State', 'Country/Region', 'Lat', 'Long'])]\n",
    "    LAST_DATE_I = -1\n",
    "    # sometimes last column may be empty, then go backwards\n",
    "    for i in range(-1, -len(dt_cols), -1):\n",
    "        if not df[dt_cols[i]].fillna(0).eq(0).all():\n",
    "            LAST_DATE_I = i\n",
    "            break\n",
    "    return LAST_DATE_I, dt_cols"
   ]
  },
  {
   "cell_type": "code",
   "execution_count": 9,
   "id": "recent-optimization",
   "metadata": {
    "execution": {
     "iopub.execute_input": "2021-07-29T00:21:27.071431Z",
     "iopub.status.busy": "2021-07-29T00:21:27.070757Z",
     "iopub.status.idle": "2021-07-29T00:21:27.450230Z",
     "shell.execute_reply": "2021-07-29T00:21:27.450742Z"
    },
    "papermill": {
     "duration": 0.426045,
     "end_time": "2021-07-29T00:21:27.450896",
     "exception": false,
     "start_time": "2021-07-29T00:21:27.024851",
     "status": "completed"
    },
    "tags": []
   },
   "outputs": [],
   "source": [
    "#hide\n",
    "COL_REGION = 'Country/Region'\n",
    "# Confirmed, Recovered, Deaths\n",
    "df = get_frame('confirmed')\n",
    "# dft_: timeseries, dfc_: today country agg\n",
    "dft_cases = df\n",
    "dft_deaths = get_frame('deaths')\n",
    "dft_recovered = get_frame('recovered')\n",
    "LAST_DATE_I, dt_cols = get_dates(df)"
   ]
  },
  {
   "cell_type": "code",
   "execution_count": 10,
   "id": "absolute-copper",
   "metadata": {
    "execution": {
     "iopub.execute_input": "2021-07-29T00:21:27.524790Z",
     "iopub.status.busy": "2021-07-29T00:21:27.524166Z",
     "iopub.status.idle": "2021-07-29T00:21:27.526621Z",
     "shell.execute_reply": "2021-07-29T00:21:27.526146Z"
    },
    "papermill": {
     "duration": 0.041741,
     "end_time": "2021-07-29T00:21:27.526747",
     "exception": false,
     "start_time": "2021-07-29T00:21:27.485006",
     "status": "completed"
    },
    "tags": []
   },
   "outputs": [],
   "source": [
    "#hide\n",
    "LAST_DATE_I, dt_cols = get_dates(df)\n",
    "dt_today =dt_cols[LAST_DATE_I]\n",
    "# dt_5day = dt_cols[LAST_DATE_I - 5]\n",
    "dt_yday = dt_cols[LAST_DATE_I - 1]"
   ]
  },
  {
   "cell_type": "code",
   "execution_count": 11,
   "id": "restricted-sheriff",
   "metadata": {
    "execution": {
     "iopub.execute_input": "2021-07-29T00:21:27.602894Z",
     "iopub.status.busy": "2021-07-29T00:21:27.602283Z",
     "iopub.status.idle": "2021-07-29T00:21:27.608521Z",
     "shell.execute_reply": "2021-07-29T00:21:27.609029Z"
    },
    "papermill": {
     "duration": 0.048624,
     "end_time": "2021-07-29T00:21:27.609181",
     "exception": false,
     "start_time": "2021-07-29T00:21:27.560557",
     "status": "completed"
    },
    "tags": []
   },
   "outputs": [],
   "source": [
    "#hide\n",
    "dfc_cases = dft_cases.groupby(COL_REGION)[dt_today].sum()\n",
    "dfc_deaths = dft_deaths.groupby(COL_REGION)[dt_today].sum()\n",
    "# dfp_cases = dft_cases.groupby(COL_REGION)[dt_5day].sum()\n",
    "# dfp_deaths = dft_deaths.groupby(COL_REGION)[dt_5day].sum()\n",
    "dfp_cases = dft_cases.groupby(COL_REGION)[dt_yday].sum()\n",
    "dfp_deaths = dft_deaths.groupby(COL_REGION)[dt_yday].sum()"
   ]
  },
  {
   "cell_type": "code",
   "execution_count": 12,
   "id": "deluxe-hepatitis",
   "metadata": {
    "execution": {
     "iopub.execute_input": "2021-07-29T00:21:27.684399Z",
     "iopub.status.busy": "2021-07-29T00:21:27.683798Z",
     "iopub.status.idle": "2021-07-29T00:21:27.688328Z",
     "shell.execute_reply": "2021-07-29T00:21:27.688857Z"
    },
    "papermill": {
     "duration": 0.04572,
     "end_time": "2021-07-29T00:21:27.689007",
     "exception": false,
     "start_time": "2021-07-29T00:21:27.643287",
     "status": "completed"
    },
    "tags": []
   },
   "outputs": [],
   "source": [
    "#hide\n",
    "df_table = (pd.DataFrame(dict(Cases = dfc_cases, Deaths = dfc_deaths, PCases = dfp_cases, PDeaths = dfp_deaths))\n",
    "            .sort_values(by = ['Cases','Deaths'], ascending = [False, False])\n",
    "            .reset_index())"
   ]
  },
  {
   "cell_type": "code",
   "execution_count": 13,
   "id": "educational-chancellor",
   "metadata": {
    "execution": {
     "iopub.execute_input": "2021-07-29T00:21:27.774290Z",
     "iopub.status.busy": "2021-07-29T00:21:27.773676Z",
     "iopub.status.idle": "2021-07-29T00:21:27.785850Z",
     "shell.execute_reply": "2021-07-29T00:21:27.785369Z"
    },
    "papermill": {
     "duration": 0.063533,
     "end_time": "2021-07-29T00:21:27.785979",
     "exception": false,
     "start_time": "2021-07-29T00:21:27.722446",
     "status": "completed"
    },
    "tags": []
   },
   "outputs": [
    {
     "data": {
      "text/html": [
       "<div>\n",
       "<style scoped>\n",
       "    .dataframe tbody tr th:only-of-type {\n",
       "        vertical-align: middle;\n",
       "    }\n",
       "\n",
       "    .dataframe tbody tr th {\n",
       "        vertical-align: top;\n",
       "    }\n",
       "\n",
       "    .dataframe thead th {\n",
       "        text-align: right;\n",
       "    }\n",
       "</style>\n",
       "<table border=\"1\" class=\"dataframe\">\n",
       "  <thead>\n",
       "    <tr style=\"text-align: right;\">\n",
       "      <th></th>\n",
       "      <th>Country/Region</th>\n",
       "      <th>Cases</th>\n",
       "      <th>Deaths</th>\n",
       "      <th>PCases</th>\n",
       "      <th>PDeaths</th>\n",
       "      <th>Cases (+)</th>\n",
       "      <th>Deaths (+)</th>\n",
       "      <th>Fatality Rate</th>\n",
       "      <th>Continent</th>\n",
       "    </tr>\n",
       "  </thead>\n",
       "  <tbody>\n",
       "    <tr>\n",
       "      <th>0</th>\n",
       "      <td>US</td>\n",
       "      <td>34603919</td>\n",
       "      <td>611414</td>\n",
       "      <td>34533179</td>\n",
       "      <td>610952</td>\n",
       "      <td>70740</td>\n",
       "      <td>462</td>\n",
       "      <td>1.77</td>\n",
       "      <td>North America</td>\n",
       "    </tr>\n",
       "    <tr>\n",
       "      <th>1</th>\n",
       "      <td>India</td>\n",
       "      <td>31484605</td>\n",
       "      <td>422022</td>\n",
       "      <td>31440951</td>\n",
       "      <td>421382</td>\n",
       "      <td>43654</td>\n",
       "      <td>640</td>\n",
       "      <td>1.34</td>\n",
       "      <td>Asia</td>\n",
       "    </tr>\n",
       "    <tr>\n",
       "      <th>2</th>\n",
       "      <td>Brazil</td>\n",
       "      <td>19749073</td>\n",
       "      <td>551835</td>\n",
       "      <td>19707662</td>\n",
       "      <td>550502</td>\n",
       "      <td>41411</td>\n",
       "      <td>1333</td>\n",
       "      <td>2.79</td>\n",
       "      <td>South America</td>\n",
       "    </tr>\n",
       "    <tr>\n",
       "      <th>3</th>\n",
       "      <td>Russia</td>\n",
       "      <td>6094379</td>\n",
       "      <td>152836</td>\n",
       "      <td>6071893</td>\n",
       "      <td>152069</td>\n",
       "      <td>22486</td>\n",
       "      <td>767</td>\n",
       "      <td>2.51</td>\n",
       "      <td>Europe</td>\n",
       "    </tr>\n",
       "    <tr>\n",
       "      <th>4</th>\n",
       "      <td>France</td>\n",
       "      <td>6088930</td>\n",
       "      <td>111883</td>\n",
       "      <td>6061802</td>\n",
       "      <td>111851</td>\n",
       "      <td>27128</td>\n",
       "      <td>32</td>\n",
       "      <td>1.84</td>\n",
       "      <td>Europe</td>\n",
       "    </tr>\n",
       "  </tbody>\n",
       "</table>\n",
       "</div>"
      ],
      "text/plain": [
       "  Country/Region     Cases  Deaths    PCases  PDeaths  Cases (+)  Deaths (+)  \\\n",
       "0             US  34603919  611414  34533179   610952      70740         462   \n",
       "1          India  31484605  422022  31440951   421382      43654         640   \n",
       "2         Brazil  19749073  551835  19707662   550502      41411        1333   \n",
       "3         Russia   6094379  152836   6071893   152069      22486         767   \n",
       "4         France   6088930  111883   6061802   111851      27128          32   \n",
       "\n",
       "   Fatality Rate      Continent  \n",
       "0           1.77  North America  \n",
       "1           1.34           Asia  \n",
       "2           2.79  South America  \n",
       "3           2.51         Europe  \n",
       "4           1.84         Europe  "
      ]
     },
     "execution_count": 13,
     "metadata": {},
     "output_type": "execute_result"
    }
   ],
   "source": [
    "#hide\n",
    "for c in 'Cases, Deaths'.split(', '):\n",
    "    df_table[f'{c} (+)'] = (df_table[c] - df_table[f'P{c}']).clip(0)\n",
    "    #Clip ça veut dire, les chiffres negatif sont interdit\n",
    "df_table['Fatality Rate'] = (100* df_table['Deaths']/ df_table['Cases']).round(2)\n",
    "df_table['Continent'] = df_table['Country/Region'].map(mapping['map.continent'])\n",
    "df_table.head(5)"
   ]
  },
  {
   "cell_type": "code",
   "execution_count": 14,
   "id": "aboriginal-bulgaria",
   "metadata": {
    "execution": {
     "iopub.execute_input": "2021-07-29T00:21:27.862233Z",
     "iopub.status.busy": "2021-07-29T00:21:27.861625Z",
     "iopub.status.idle": "2021-07-29T00:21:27.864244Z",
     "shell.execute_reply": "2021-07-29T00:21:27.863775Z"
    },
    "papermill": {
     "duration": 0.043528,
     "end_time": "2021-07-29T00:21:27.864368",
     "exception": false,
     "start_time": "2021-07-29T00:21:27.820840",
     "status": "completed"
    },
    "tags": []
   },
   "outputs": [],
   "source": [
    "#hide\n",
    "#delete problematic countries from table\n",
    "df_table = df_table[~df_table['Country/Region'].isin(['Cape Verde', 'Cruise Ship', 'Kosovo'])]"
   ]
  },
  {
   "cell_type": "code",
   "execution_count": 15,
   "id": "fantastic-effect",
   "metadata": {
    "execution": {
     "iopub.execute_input": "2021-07-29T00:21:27.941706Z",
     "iopub.status.busy": "2021-07-29T00:21:27.941103Z",
     "iopub.status.idle": "2021-07-29T00:21:27.961151Z",
     "shell.execute_reply": "2021-07-29T00:21:27.961973Z"
    },
    "papermill": {
     "duration": 0.064188,
     "end_time": "2021-07-29T00:21:27.962204",
     "exception": false,
     "start_time": "2021-07-29T00:21:27.898016",
     "status": "completed"
    },
    "tags": []
   },
   "outputs": [
    {
     "data": {
      "text/html": [
       "<div>\n",
       "<style scoped>\n",
       "    .dataframe tbody tr th:only-of-type {\n",
       "        vertical-align: middle;\n",
       "    }\n",
       "\n",
       "    .dataframe tbody tr th {\n",
       "        vertical-align: top;\n",
       "    }\n",
       "\n",
       "    .dataframe thead th {\n",
       "        text-align: right;\n",
       "    }\n",
       "</style>\n",
       "<table border=\"1\" class=\"dataframe\">\n",
       "  <thead>\n",
       "    <tr style=\"text-align: right;\">\n",
       "      <th></th>\n",
       "      <th>Country/Region</th>\n",
       "      <th>Cases</th>\n",
       "      <th>Deaths</th>\n",
       "      <th>PCases</th>\n",
       "      <th>PDeaths</th>\n",
       "      <th>Cases (+)</th>\n",
       "      <th>Deaths (+)</th>\n",
       "      <th>Fatality Rate</th>\n",
       "      <th>Continent</th>\n",
       "    </tr>\n",
       "  </thead>\n",
       "  <tbody>\n",
       "    <tr>\n",
       "      <th>0</th>\n",
       "      <td>US</td>\n",
       "      <td>34603919</td>\n",
       "      <td>611414</td>\n",
       "      <td>34533179</td>\n",
       "      <td>610952</td>\n",
       "      <td>70740</td>\n",
       "      <td>462</td>\n",
       "      <td>1.8</td>\n",
       "      <td>North America</td>\n",
       "    </tr>\n",
       "    <tr>\n",
       "      <th>1</th>\n",
       "      <td>India</td>\n",
       "      <td>31484605</td>\n",
       "      <td>422022</td>\n",
       "      <td>31440951</td>\n",
       "      <td>421382</td>\n",
       "      <td>43654</td>\n",
       "      <td>640</td>\n",
       "      <td>1.3</td>\n",
       "      <td>Asia</td>\n",
       "    </tr>\n",
       "    <tr>\n",
       "      <th>2</th>\n",
       "      <td>Brazil</td>\n",
       "      <td>19749073</td>\n",
       "      <td>551835</td>\n",
       "      <td>19707662</td>\n",
       "      <td>550502</td>\n",
       "      <td>41411</td>\n",
       "      <td>1333</td>\n",
       "      <td>2.8</td>\n",
       "      <td>South America</td>\n",
       "    </tr>\n",
       "    <tr>\n",
       "      <th>3</th>\n",
       "      <td>Russia</td>\n",
       "      <td>6094379</td>\n",
       "      <td>152836</td>\n",
       "      <td>6071893</td>\n",
       "      <td>152069</td>\n",
       "      <td>22486</td>\n",
       "      <td>767</td>\n",
       "      <td>2.5</td>\n",
       "      <td>Europe</td>\n",
       "    </tr>\n",
       "    <tr>\n",
       "      <th>4</th>\n",
       "      <td>France</td>\n",
       "      <td>6088930</td>\n",
       "      <td>111883</td>\n",
       "      <td>6061802</td>\n",
       "      <td>111851</td>\n",
       "      <td>27128</td>\n",
       "      <td>32</td>\n",
       "      <td>1.8</td>\n",
       "      <td>Europe</td>\n",
       "    </tr>\n",
       "  </tbody>\n",
       "</table>\n",
       "</div>"
      ],
      "text/plain": [
       "  Country/Region     Cases  Deaths    PCases  PDeaths  Cases (+)  Deaths (+)  \\\n",
       "0             US  34603919  611414  34533179   610952      70740         462   \n",
       "1          India  31484605  422022  31440951   421382      43654         640   \n",
       "2         Brazil  19749073  551835  19707662   550502      41411        1333   \n",
       "3         Russia   6094379  152836   6071893   152069      22486         767   \n",
       "4         France   6088930  111883   6061802   111851      27128          32   \n",
       "\n",
       "   Fatality Rate      Continent  \n",
       "0            1.8  North America  \n",
       "1            1.3           Asia  \n",
       "2            2.8  South America  \n",
       "3            2.5         Europe  \n",
       "4            1.8         Europe  "
      ]
     },
     "execution_count": 15,
     "metadata": {},
     "output_type": "execute_result"
    }
   ],
   "source": [
    "#hide\n",
    "df_table = (pd.DataFrame(dict(Cases=dfc_cases, Deaths=dfc_deaths, PCases=dfp_cases, PDeaths=dfp_deaths))\n",
    "             .sort_values(by=['Cases', 'Deaths'], ascending=[False, False])\n",
    "             .reset_index())\n",
    "df_table.rename(columns={'index': 'Country/Region'}, inplace=True)\n",
    "for c in 'Cases, Deaths'.split(', '):\n",
    "    df_table[f'{c} (+)'] = (df_table[c] - df_table[f'P{c}']).clip(0)  # DATA BUG\n",
    "df_table['Fatality Rate'] = (100 * df_table['Deaths'] / df_table['Cases']).round(1)\n",
    "df_table['Continent'] = df_table['Country/Region'].map(mapping['map.continent'])\n",
    "df_table.head(5)"
   ]
  },
  {
   "cell_type": "code",
   "execution_count": 16,
   "id": "fewer-occasion",
   "metadata": {
    "execution": {
     "iopub.execute_input": "2021-07-29T00:21:28.040700Z",
     "iopub.status.busy": "2021-07-29T00:21:28.040071Z",
     "iopub.status.idle": "2021-07-29T00:21:28.041384Z",
     "shell.execute_reply": "2021-07-29T00:21:28.041936Z"
    },
    "papermill": {
     "duration": 0.043724,
     "end_time": "2021-07-29T00:21:28.042080",
     "exception": false,
     "start_time": "2021-07-29T00:21:27.998356",
     "status": "completed"
    },
    "tags": []
   },
   "outputs": [],
   "source": [
    "#hide\n",
    "#delete problematic countries from table\n",
    "df_table = df_table[~df_table['Country/Region'].isin(['Cape Verde', 'Cruise Ship', 'Kosovo'])]"
   ]
  },
  {
   "cell_type": "code",
   "execution_count": 17,
   "id": "related-center",
   "metadata": {
    "execution": {
     "iopub.execute_input": "2021-07-29T00:21:28.120599Z",
     "iopub.status.busy": "2021-07-29T00:21:28.119988Z",
     "iopub.status.idle": "2021-07-29T00:21:28.137641Z",
     "shell.execute_reply": "2021-07-29T00:21:28.137126Z"
    },
    "papermill": {
     "duration": 0.060814,
     "end_time": "2021-07-29T00:21:28.137768",
     "exception": false,
     "start_time": "2021-07-29T00:21:28.076954",
     "status": "completed"
    },
    "tags": []
   },
   "outputs": [],
   "source": [
    "#hide\n",
    "metrics = [df_table.columns[index] for index in [1,2,5,6]]\n",
    "# s_china = df_table[df_table['Country/Region'].eq('China')][metrics].sum().add_prefix('China ')\n",
    "s_us = df_table[df_table['Country/Region'].eq('US')][metrics].sum().add_prefix('US ')\n",
    "s_eu = df_table[df_table['Continent'].eq('Europe')][metrics].sum().add_prefix('EU ')\n",
    "s_ind = df_table[df_table['Country/Region'].eq('India')][metrics].sum().add_prefix('India ')\n",
    "summary = {'updated': pd.to_datetime(dt_today), 'since': pd.to_datetime(dt_yday)}\n",
    "summary = {'updated': pd.to_datetime(dt_today), 'since': pd.to_datetime(dt_yday)}\n",
    "summary = {**summary, **df_table[metrics].sum(), **s_ind, **s_us, **s_eu}"
   ]
  },
  {
   "cell_type": "code",
   "execution_count": 18,
   "id": "engaging-syndrome",
   "metadata": {
    "execution": {
     "iopub.execute_input": "2021-07-29T00:21:28.213356Z",
     "iopub.status.busy": "2021-07-29T00:21:28.212751Z",
     "iopub.status.idle": "2021-07-29T00:21:28.227833Z",
     "shell.execute_reply": "2021-07-29T00:21:28.228276Z"
    },
    "papermill": {
     "duration": 0.05559,
     "end_time": "2021-07-29T00:21:28.228425",
     "exception": false,
     "start_time": "2021-07-29T00:21:28.172835",
     "status": "completed"
    },
    "tags": []
   },
   "outputs": [],
   "source": [
    "#hide\n",
    "dft_ct_new_cases = dft_cases.groupby(COL_REGION)[dt_cols].sum().diff(axis=1).fillna(0).astype(int)"
   ]
  },
  {
   "cell_type": "code",
   "execution_count": 19,
   "id": "neutral-assignment",
   "metadata": {
    "execution": {
     "iopub.execute_input": "2021-07-29T00:21:28.304727Z",
     "iopub.status.busy": "2021-07-29T00:21:28.304110Z",
     "iopub.status.idle": "2021-07-29T00:21:28.305923Z",
     "shell.execute_reply": "2021-07-29T00:21:28.306393Z"
    },
    "papermill": {
     "duration": 0.043714,
     "end_time": "2021-07-29T00:21:28.306532",
     "exception": false,
     "start_time": "2021-07-29T00:21:28.262818",
     "status": "completed"
    },
    "tags": []
   },
   "outputs": [],
   "source": [
    "#hide\n",
    "everydaycases = dft_ct_new_cases.cumsum(axis=1)"
   ]
  },
  {
   "cell_type": "code",
   "execution_count": 20,
   "id": "parliamentary-calgary",
   "metadata": {
    "execution": {
     "iopub.execute_input": "2021-07-29T00:21:28.381000Z",
     "iopub.status.busy": "2021-07-29T00:21:28.380385Z",
     "iopub.status.idle": "2021-07-29T00:21:29.025593Z",
     "shell.execute_reply": "2021-07-29T00:21:29.024977Z"
    },
    "papermill": {
     "duration": 0.684243,
     "end_time": "2021-07-29T00:21:29.025730",
     "exception": false,
     "start_time": "2021-07-29T00:21:28.341487",
     "status": "completed"
    },
    "tags": []
   },
   "outputs": [],
   "source": [
    "#hide\n",
    "import pandas as pd\n",
    "import matplotlib.pyplot as plt\n",
    "import matplotlib.ticker as ticker\n",
    "import matplotlib.animation as animation\n",
    "from IPython.display import HTML"
   ]
  },
  {
   "cell_type": "code",
   "execution_count": 21,
   "id": "lasting-extraction",
   "metadata": {
    "execution": {
     "iopub.execute_input": "2021-07-29T00:21:29.107434Z",
     "iopub.status.busy": "2021-07-29T00:21:29.106456Z",
     "iopub.status.idle": "2021-07-29T00:21:29.116545Z",
     "shell.execute_reply": "2021-07-29T00:21:29.117072Z"
    },
    "papermill": {
     "duration": 0.055132,
     "end_time": "2021-07-29T00:21:29.117228",
     "exception": false,
     "start_time": "2021-07-29T00:21:29.062096",
     "status": "completed"
    },
    "tags": []
   },
   "outputs": [],
   "source": [
    "#hide\n",
    "t = everydaycases.stack()"
   ]
  },
  {
   "cell_type": "code",
   "execution_count": 22,
   "id": "premier-sleeve",
   "metadata": {
    "execution": {
     "iopub.execute_input": "2021-07-29T00:21:29.199141Z",
     "iopub.status.busy": "2021-07-29T00:21:29.198539Z",
     "iopub.status.idle": "2021-07-29T00:21:29.213160Z",
     "shell.execute_reply": "2021-07-29T00:21:29.212621Z"
    },
    "papermill": {
     "duration": 0.055825,
     "end_time": "2021-07-29T00:21:29.213294",
     "exception": false,
     "start_time": "2021-07-29T00:21:29.157469",
     "status": "completed"
    },
    "tags": []
   },
   "outputs": [],
   "source": [
    "#hide\n",
    "g = t.reset_index(['Country/Region'])"
   ]
  },
  {
   "cell_type": "code",
   "execution_count": 23,
   "id": "distributed-pittsburgh",
   "metadata": {
    "execution": {
     "iopub.execute_input": "2021-07-29T00:21:29.293051Z",
     "iopub.status.busy": "2021-07-29T00:21:29.292418Z",
     "iopub.status.idle": "2021-07-29T00:21:29.294576Z",
     "shell.execute_reply": "2021-07-29T00:21:29.295128Z"
    },
    "papermill": {
     "duration": 0.043972,
     "end_time": "2021-07-29T00:21:29.295269",
     "exception": false,
     "start_time": "2021-07-29T00:21:29.251297",
     "status": "completed"
    },
    "tags": []
   },
   "outputs": [],
   "source": [
    "#hide\n",
    "g.index.name = 'date'"
   ]
  },
  {
   "cell_type": "code",
   "execution_count": 24,
   "id": "naked-donor",
   "metadata": {
    "execution": {
     "iopub.execute_input": "2021-07-29T00:21:29.375806Z",
     "iopub.status.busy": "2021-07-29T00:21:29.374951Z",
     "iopub.status.idle": "2021-07-29T00:21:29.377715Z",
     "shell.execute_reply": "2021-07-29T00:21:29.378267Z"
    },
    "papermill": {
     "duration": 0.046327,
     "end_time": "2021-07-29T00:21:29.378406",
     "exception": false,
     "start_time": "2021-07-29T00:21:29.332079",
     "status": "completed"
    },
    "tags": []
   },
   "outputs": [],
   "source": [
    "# #hide\n",
    "# g = g.reset_index(['date'])"
   ]
  },
  {
   "cell_type": "code",
   "execution_count": 25,
   "id": "incomplete-mustang",
   "metadata": {
    "execution": {
     "iopub.execute_input": "2021-07-29T00:21:29.455968Z",
     "iopub.status.busy": "2021-07-29T00:21:29.455368Z",
     "iopub.status.idle": "2021-07-29T00:21:29.457437Z",
     "shell.execute_reply": "2021-07-29T00:21:29.458000Z"
    },
    "papermill": {
     "duration": 0.04414,
     "end_time": "2021-07-29T00:21:29.458148",
     "exception": false,
     "start_time": "2021-07-29T00:21:29.414008",
     "status": "completed"
    },
    "tags": []
   },
   "outputs": [],
   "source": [
    "#hide\n",
    "# g.head()"
   ]
  },
  {
   "cell_type": "code",
   "execution_count": 26,
   "id": "specific-kruger",
   "metadata": {
    "execution": {
     "iopub.execute_input": "2021-07-29T00:21:29.539949Z",
     "iopub.status.busy": "2021-07-29T00:21:29.539317Z",
     "iopub.status.idle": "2021-07-29T00:21:29.541315Z",
     "shell.execute_reply": "2021-07-29T00:21:29.542070Z"
    },
    "papermill": {
     "duration": 0.047894,
     "end_time": "2021-07-29T00:21:29.542220",
     "exception": false,
     "start_time": "2021-07-29T00:21:29.494326",
     "status": "completed"
    },
    "tags": []
   },
   "outputs": [],
   "source": [
    "#hide\n",
    "# g.columns = ['date','country','cases']"
   ]
  },
  {
   "cell_type": "code",
   "execution_count": 27,
   "id": "tender-conversion",
   "metadata": {
    "execution": {
     "iopub.execute_input": "2021-07-29T00:21:29.625609Z",
     "iopub.status.busy": "2021-07-29T00:21:29.624992Z",
     "iopub.status.idle": "2021-07-29T00:21:29.626565Z",
     "shell.execute_reply": "2021-07-29T00:21:29.627091Z"
    },
    "papermill": {
     "duration": 0.048406,
     "end_time": "2021-07-29T00:21:29.627241",
     "exception": false,
     "start_time": "2021-07-29T00:21:29.578835",
     "status": "completed"
    },
    "tags": []
   },
   "outputs": [],
   "source": [
    "#hide\n",
    "# g['continent'] = g.country"
   ]
  },
  {
   "cell_type": "code",
   "execution_count": 28,
   "id": "substantial-wilderness",
   "metadata": {
    "execution": {
     "iopub.execute_input": "2021-07-29T00:21:29.704324Z",
     "iopub.status.busy": "2021-07-29T00:21:29.703712Z",
     "iopub.status.idle": "2021-07-29T00:21:29.706105Z",
     "shell.execute_reply": "2021-07-29T00:21:29.705606Z"
    },
    "papermill": {
     "duration": 0.043157,
     "end_time": "2021-07-29T00:21:29.706225",
     "exception": false,
     "start_time": "2021-07-29T00:21:29.663068",
     "status": "completed"
    },
    "tags": []
   },
   "outputs": [],
   "source": [
    "#hide\n",
    "# cols = list(g.columns.values)"
   ]
  },
  {
   "cell_type": "code",
   "execution_count": 29,
   "id": "solved-farming",
   "metadata": {
    "execution": {
     "iopub.execute_input": "2021-07-29T00:21:29.784262Z",
     "iopub.status.busy": "2021-07-29T00:21:29.783645Z",
     "iopub.status.idle": "2021-07-29T00:21:29.785084Z",
     "shell.execute_reply": "2021-07-29T00:21:29.785574Z"
    },
    "papermill": {
     "duration": 0.042116,
     "end_time": "2021-07-29T00:21:29.785714",
     "exception": false,
     "start_time": "2021-07-29T00:21:29.743598",
     "status": "completed"
    },
    "tags": []
   },
   "outputs": [],
   "source": [
    "#hide\n",
    "# cols.insert(0, cols.pop())"
   ]
  },
  {
   "cell_type": "code",
   "execution_count": 30,
   "id": "executed-adoption",
   "metadata": {
    "execution": {
     "iopub.execute_input": "2021-07-29T00:21:29.866551Z",
     "iopub.status.busy": "2021-07-29T00:21:29.865959Z",
     "iopub.status.idle": "2021-07-29T00:21:29.868242Z",
     "shell.execute_reply": "2021-07-29T00:21:29.867753Z"
    },
    "papermill": {
     "duration": 0.045626,
     "end_time": "2021-07-29T00:21:29.868361",
     "exception": false,
     "start_time": "2021-07-29T00:21:29.822735",
     "status": "completed"
    },
    "tags": []
   },
   "outputs": [],
   "source": [
    "#hide\n",
    "# g = g[cols]"
   ]
  },
  {
   "cell_type": "code",
   "execution_count": 31,
   "id": "subject-dublin",
   "metadata": {
    "execution": {
     "iopub.execute_input": "2021-07-29T00:21:29.951517Z",
     "iopub.status.busy": "2021-07-29T00:21:29.950907Z",
     "iopub.status.idle": "2021-07-29T00:21:29.952341Z",
     "shell.execute_reply": "2021-07-29T00:21:29.952862Z"
    },
    "papermill": {
     "duration": 0.044196,
     "end_time": "2021-07-29T00:21:29.953004",
     "exception": false,
     "start_time": "2021-07-29T00:21:29.908808",
     "status": "completed"
    },
    "tags": []
   },
   "outputs": [],
   "source": [
    "#hide\n",
    "# g['continent'] = g['continent'].map(mapping['map.continent'])"
   ]
  },
  {
   "cell_type": "code",
   "execution_count": 32,
   "id": "freelance-scout",
   "metadata": {
    "execution": {
     "iopub.execute_input": "2021-07-29T00:21:30.035176Z",
     "iopub.status.busy": "2021-07-29T00:21:30.034588Z",
     "iopub.status.idle": "2021-07-29T00:21:30.037640Z",
     "shell.execute_reply": "2021-07-29T00:21:30.037116Z"
    },
    "papermill": {
     "duration": 0.048868,
     "end_time": "2021-07-29T00:21:30.037765",
     "exception": false,
     "start_time": "2021-07-29T00:21:29.988897",
     "status": "completed"
    },
    "tags": []
   },
   "outputs": [],
   "source": [
    "#hide\n",
    "# g.head()"
   ]
  },
  {
   "cell_type": "code",
   "execution_count": 33,
   "id": "limited-engine",
   "metadata": {
    "execution": {
     "iopub.execute_input": "2021-07-29T00:21:30.116217Z",
     "iopub.status.busy": "2021-07-29T00:21:30.115635Z",
     "iopub.status.idle": "2021-07-29T00:21:30.118656Z",
     "shell.execute_reply": "2021-07-29T00:21:30.118016Z"
    },
    "papermill": {
     "duration": 0.044866,
     "end_time": "2021-07-29T00:21:30.118788",
     "exception": false,
     "start_time": "2021-07-29T00:21:30.073922",
     "status": "completed"
    },
    "tags": []
   },
   "outputs": [],
   "source": [
    "# hide\n",
    "# g['date'] = g['date'].astype('datetime64[ns]')"
   ]
  },
  {
   "cell_type": "code",
   "execution_count": 34,
   "id": "sophisticated-supervisor",
   "metadata": {
    "execution": {
     "iopub.execute_input": "2021-07-29T00:21:30.199067Z",
     "iopub.status.busy": "2021-07-29T00:21:30.198481Z",
     "iopub.status.idle": "2021-07-29T00:21:30.202343Z",
     "shell.execute_reply": "2021-07-29T00:21:30.201842Z"
    },
    "papermill": {
     "duration": 0.044133,
     "end_time": "2021-07-29T00:21:30.202464",
     "exception": false,
     "start_time": "2021-07-29T00:21:30.158331",
     "status": "completed"
    },
    "tags": []
   },
   "outputs": [],
   "source": [
    "#hide\n",
    "# g['date'] = g.date.dt.dayofyear"
   ]
  },
  {
   "cell_type": "code",
   "execution_count": 35,
   "id": "inside-dubai",
   "metadata": {
    "execution": {
     "iopub.execute_input": "2021-07-29T00:21:30.283051Z",
     "iopub.status.busy": "2021-07-29T00:21:30.282458Z",
     "iopub.status.idle": "2021-07-29T00:21:30.284430Z",
     "shell.execute_reply": "2021-07-29T00:21:30.284901Z"
    },
    "papermill": {
     "duration": 0.044284,
     "end_time": "2021-07-29T00:21:30.285053",
     "exception": false,
     "start_time": "2021-07-29T00:21:30.240769",
     "status": "completed"
    },
    "tags": []
   },
   "outputs": [],
   "source": [
    "#hide\n",
    "# g = g.rename(columns= {'continent':'group','country':'name','cases':'value'})"
   ]
  },
  {
   "cell_type": "code",
   "execution_count": 36,
   "id": "fleet-motorcycle",
   "metadata": {
    "execution": {
     "iopub.execute_input": "2021-07-29T00:21:30.370680Z",
     "iopub.status.busy": "2021-07-29T00:21:30.370065Z",
     "iopub.status.idle": "2021-07-29T00:21:30.372011Z",
     "shell.execute_reply": "2021-07-29T00:21:30.372488Z"
    },
    "papermill": {
     "duration": 0.048561,
     "end_time": "2021-07-29T00:21:30.372636",
     "exception": false,
     "start_time": "2021-07-29T00:21:30.324075",
     "status": "completed"
    },
    "tags": []
   },
   "outputs": [],
   "source": [
    "#hide\n",
    "# cols = ['name','group','day','value']"
   ]
  },
  {
   "cell_type": "code",
   "execution_count": 37,
   "id": "continued-sleeping",
   "metadata": {
    "execution": {
     "iopub.execute_input": "2021-07-29T00:21:30.449054Z",
     "iopub.status.busy": "2021-07-29T00:21:30.448432Z",
     "iopub.status.idle": "2021-07-29T00:21:30.450405Z",
     "shell.execute_reply": "2021-07-29T00:21:30.450868Z"
    },
    "papermill": {
     "duration": 0.042916,
     "end_time": "2021-07-29T00:21:30.451007",
     "exception": false,
     "start_time": "2021-07-29T00:21:30.408091",
     "status": "completed"
    },
    "tags": []
   },
   "outputs": [],
   "source": [
    "#hide\n",
    "# g.rename(columns= {'date':'day'},inplace = True)"
   ]
  },
  {
   "cell_type": "code",
   "execution_count": 38,
   "id": "major-fight",
   "metadata": {
    "execution": {
     "iopub.execute_input": "2021-07-29T00:21:30.539154Z",
     "iopub.status.busy": "2021-07-29T00:21:30.538562Z",
     "iopub.status.idle": "2021-07-29T00:21:30.541002Z",
     "shell.execute_reply": "2021-07-29T00:21:30.540411Z"
    },
    "papermill": {
     "duration": 0.042915,
     "end_time": "2021-07-29T00:21:30.541136",
     "exception": false,
     "start_time": "2021-07-29T00:21:30.498221",
     "status": "completed"
    },
    "tags": []
   },
   "outputs": [],
   "source": [
    "#hide\n",
    "# g = g[cols]"
   ]
  },
  {
   "cell_type": "code",
   "execution_count": 39,
   "id": "structured-mobile",
   "metadata": {
    "execution": {
     "iopub.execute_input": "2021-07-29T00:21:30.620074Z",
     "iopub.status.busy": "2021-07-29T00:21:30.619411Z",
     "iopub.status.idle": "2021-07-29T00:21:30.621782Z",
     "shell.execute_reply": "2021-07-29T00:21:30.622250Z"
    },
    "papermill": {
     "duration": 0.045296,
     "end_time": "2021-07-29T00:21:30.622391",
     "exception": false,
     "start_time": "2021-07-29T00:21:30.577095",
     "status": "completed"
    },
    "tags": []
   },
   "outputs": [],
   "source": [
    "# #hide\n",
    "# g = g[g.group.notna()]"
   ]
  },
  {
   "cell_type": "code",
   "execution_count": 40,
   "id": "determined-closing",
   "metadata": {
    "execution": {
     "iopub.execute_input": "2021-07-29T00:21:30.702514Z",
     "iopub.status.busy": "2021-07-29T00:21:30.701917Z",
     "iopub.status.idle": "2021-07-29T00:21:30.704111Z",
     "shell.execute_reply": "2021-07-29T00:21:30.703610Z"
    },
    "papermill": {
     "duration": 0.046234,
     "end_time": "2021-07-29T00:21:30.704234",
     "exception": false,
     "start_time": "2021-07-29T00:21:30.658000",
     "status": "completed"
    },
    "tags": []
   },
   "outputs": [],
   "source": [
    "# #hide\n",
    "# colors = dict(zip(\n",
    "#     [\"Oceania\", \"Europe\", \"Asia\", \"South America\", \"Middle East\", \"North America\", \"Africa\"],\n",
    "#     [\"#adb0ff\", \"#ffb3ff\", \"#90d595\", \"#e48381\", \"#aafbff\", \"#f7bb5f\", \"#eafb50\"]\n",
    "# ))\n",
    "# group_lk = g.set_index('name')['group'].to_dict()"
   ]
  },
  {
   "cell_type": "code",
   "execution_count": null,
   "id": "gross-drinking",
   "metadata": {
    "papermill": {
     "duration": 0.035738,
     "end_time": "2021-07-29T00:21:30.778626",
     "exception": false,
     "start_time": "2021-07-29T00:21:30.742888",
     "status": "completed"
    },
    "tags": []
   },
   "outputs": [],
   "source": []
  },
  {
   "cell_type": "code",
   "execution_count": 41,
   "id": "subject-macintosh",
   "metadata": {
    "execution": {
     "iopub.execute_input": "2021-07-29T00:21:30.867418Z",
     "iopub.status.busy": "2021-07-29T00:21:30.866803Z",
     "iopub.status.idle": "2021-07-29T00:21:30.869104Z",
     "shell.execute_reply": "2021-07-29T00:21:30.868572Z"
    },
    "papermill": {
     "duration": 0.046926,
     "end_time": "2021-07-29T00:21:30.869229",
     "exception": false,
     "start_time": "2021-07-29T00:21:30.822303",
     "status": "completed"
    },
    "tags": []
   },
   "outputs": [],
   "source": [
    "# #hide\n",
    "# fig, ax = plt.subplots(figsize=(15, 8))\n",
    "\n",
    "# def draw_barchart(current_day):\n",
    "#     dff = g[g['day'].eq(current_day)].sort_values(by='value', ascending=True).tail(10)\n",
    "#     ax.clear()\n",
    "#     ax.barh(dff['name'], dff['value'], color=[colors[group_lk[x]] for x in dff['name']])\n",
    "#     dx = dff['value'].max() / 200\n",
    "    \n",
    "#     for i, (value, name) in enumerate(zip(dff['value'], dff['name'])):\n",
    "#         ax.text(value-dx, i,     name,           size=14, weight=600, ha='right', va='bottom')\n",
    "#         ax.text(value-dx, i-.25, group_lk[name], size=10, color='#444444', ha='right', va='baseline')\n",
    "#         ax.text(value+dx, i,     f'{value:,.0f}',  size=14, ha='left',  va='center')\n",
    "#     ax.text(1, 0.4, current_day, transform=ax.transAxes, color='#777777', size=46, ha='right', weight=800)\n",
    "#     ax.text(0, 1.06, 'Population (thousands)', transform=ax.transAxes, size=12, color='#777777')\n",
    "#     ax.xaxis.set_major_formatter(ticker.StrMethodFormatter('{x:,.0f}'))\n",
    "#     ax.xaxis.set_ticks_position('top')\n",
    "#     ax.tick_params(axis='x', colors='#777777', labelsize=12)\n",
    "#     ax.set_yticks([])\n",
    "#     ax.margins(0, 0.01)\n",
    "#     ax.grid(which='major', axis='x', linestyle='-')\n",
    "#     ax.set_axisbelow(True)\n",
    "    \n",
    "#     ax.text(0, 1.15, 'Coronavirus',\n",
    "#             transform=ax.transAxes, size=24, weight=600, ha='left', va='top')\n",
    "# #     ax.text(1, 0, 'by @pratapvardhan; credit @jburnmurdoch', transform=ax.transAxes, color='#777777', ha='right',\n",
    "# #             bbox=dict(facecolor='white', alpha=0.8, edgecolor='white'))\n",
    "#     plt.box(False)"
   ]
  },
  {
   "cell_type": "code",
   "execution_count": 42,
   "id": "sexual-wages",
   "metadata": {
    "execution": {
     "iopub.execute_input": "2021-07-29T00:21:30.950679Z",
     "iopub.status.busy": "2021-07-29T00:21:30.950085Z",
     "iopub.status.idle": "2021-07-29T00:21:30.951974Z",
     "shell.execute_reply": "2021-07-29T00:21:30.952497Z"
    },
    "papermill": {
     "duration": 0.04621,
     "end_time": "2021-07-29T00:21:30.952641",
     "exception": false,
     "start_time": "2021-07-29T00:21:30.906431",
     "status": "completed"
    },
    "tags": []
   },
   "outputs": [],
   "source": [
    "# #hide_input\n",
    "# fig, ax = plt.subplots(figsize=(15, 8))\n",
    "# animator = animation.FuncAnimation(fig, draw_barchart, frames=range(g.day.values.min(), g.day.values.max()))\n",
    "# HTML(animator.to_jshtml())\n",
    "# # or use animator.to_html5_video() or animator.save() "
   ]
  },
  {
   "cell_type": "code",
   "execution_count": null,
   "id": "australian-container",
   "metadata": {
    "papermill": {
     "duration": 0.038,
     "end_time": "2021-07-29T00:21:31.026546",
     "exception": false,
     "start_time": "2021-07-29T00:21:30.988546",
     "status": "completed"
    },
    "tags": []
   },
   "outputs": [],
   "source": []
  },
  {
   "cell_type": "code",
   "execution_count": null,
   "id": "mediterranean-pontiac",
   "metadata": {
    "papermill": {
     "duration": 0.037166,
     "end_time": "2021-07-29T00:21:31.105047",
     "exception": false,
     "start_time": "2021-07-29T00:21:31.067881",
     "status": "completed"
    },
    "tags": []
   },
   "outputs": [],
   "source": []
  },
  {
   "cell_type": "code",
   "execution_count": null,
   "id": "aging-legislature",
   "metadata": {
    "papermill": {
     "duration": 0.036947,
     "end_time": "2021-07-29T00:21:31.187145",
     "exception": false,
     "start_time": "2021-07-29T00:21:31.150198",
     "status": "completed"
    },
    "tags": []
   },
   "outputs": [],
   "source": []
  }
 ],
 "metadata": {
  "kernelspec": {
   "display_name": "Python 3",
   "language": "python",
   "name": "python3"
  },
  "language_info": {
   "codemirror_mode": {
    "name": "ipython",
    "version": 3
   },
   "file_extension": ".py",
   "mimetype": "text/x-python",
   "name": "python",
   "nbconvert_exporter": "python",
   "pygments_lexer": "ipython3",
   "version": "3.6.14"
  },
  "papermill": {
   "duration": 6.9785,
   "end_time": "2021-07-29T00:21:31.633418",
   "environment_variables": {},
   "exception": null,
   "input_path": "2020-03-21-covid19exp.ipynb",
   "output_path": "2020-03-21-covid19exp.ipynb",
   "parameters": {},
   "start_time": "2021-07-29T00:21:24.654918",
   "version": "2.0.0"
  }
 },
 "nbformat": 4,
 "nbformat_minor": 5
}