{
 "cells": [
  {
   "cell_type": "markdown",
   "id": "muslim-click",
   "metadata": {
    "papermill": {
     "duration": 0.037351,
     "end_time": "2021-11-23T00:24:17.047088",
     "exception": false,
     "start_time": "2021-11-23T00:24:17.009737",
     "status": "completed"
    },
    "tags": []
   },
   "source": [
    "# COVID-19 Case Race\n",
    "> A race chart to see rising cases around the world\n",
    "\n",
    "- author: Hargun Oberoi\n",
    "- image: images/covid-overview.png\n",
    "- hide: false\n",
    "- badges: false"
   ]
  },
  {
   "cell_type": "code",
   "execution_count": 1,
   "id": "proof-material",
   "metadata": {
    "execution": {
     "iopub.execute_input": "2021-11-23T00:24:17.117664Z",
     "iopub.status.busy": "2021-11-23T00:24:17.117002Z",
     "iopub.status.idle": "2021-11-23T00:24:17.491261Z",
     "shell.execute_reply": "2021-11-23T00:24:17.490544Z"
    },
    "papermill": {
     "duration": 0.412911,
     "end_time": "2021-11-23T00:24:17.491506",
     "exception": false,
     "start_time": "2021-11-23T00:24:17.078595",
     "status": "completed"
    },
    "tags": []
   },
   "outputs": [],
   "source": [
    "#hide\n",
    "import numpy as np\n",
    "import pandas as pd\n",
    "from jinja2 import Template\n",
    "from IPython.display import HTML"
   ]
  },
  {
   "cell_type": "code",
   "execution_count": 2,
   "id": "developed-terminology",
   "metadata": {
    "execution": {
     "iopub.execute_input": "2021-11-23T00:24:17.566458Z",
     "iopub.status.busy": "2021-11-23T00:24:17.565817Z",
     "iopub.status.idle": "2021-11-23T00:24:17.567746Z",
     "shell.execute_reply": "2021-11-23T00:24:17.569122Z"
    },
    "papermill": {
     "duration": 0.04149,
     "end_time": "2021-11-23T00:24:17.569446",
     "exception": false,
     "start_time": "2021-11-23T00:24:17.527956",
     "status": "completed"
    },
    "tags": []
   },
   "outputs": [],
   "source": [
    "#hide\n",
    "\n",
    "# FETCH\n",
    "base_url = 'https://raw.githubusercontent.com/pratapvardhan/notebooks/master/covid19/'\n",
    "paths = {\n",
    "    'mapping': base_url + 'mapping_countries.csv',\n",
    "    'overview': base_url + 'overview.tpl'\n",
    "}"
   ]
  },
  {
   "cell_type": "code",
   "execution_count": 3,
   "id": "dynamic-saver",
   "metadata": {
    "execution": {
     "iopub.execute_input": "2021-11-23T00:24:17.654663Z",
     "iopub.status.busy": "2021-11-23T00:24:17.654040Z",
     "iopub.status.idle": "2021-11-23T00:24:17.656423Z",
     "shell.execute_reply": "2021-11-23T00:24:17.656896Z"
    },
    "papermill": {
     "duration": 0.052669,
     "end_time": "2021-11-23T00:24:17.657030",
     "exception": false,
     "start_time": "2021-11-23T00:24:17.604361",
     "status": "completed"
    },
    "tags": []
   },
   "outputs": [
    {
     "data": {
      "text/plain": [
       "'https://raw.githubusercontent.com/pratapvardhan/notebooks/master/covid19/mapping_countries.csv'"
      ]
     },
     "execution_count": 3,
     "metadata": {},
     "output_type": "execute_result"
    }
   ],
   "source": [
    "#hide\n",
    "paths['mapping']"
   ]
  },
  {
   "cell_type": "code",
   "execution_count": 4,
   "id": "urban-software",
   "metadata": {
    "execution": {
     "iopub.execute_input": "2021-11-23T00:24:17.730115Z",
     "iopub.status.busy": "2021-11-23T00:24:17.729474Z",
     "iopub.status.idle": "2021-11-23T00:24:17.732280Z",
     "shell.execute_reply": "2021-11-23T00:24:17.731789Z"
    },
    "papermill": {
     "duration": 0.041887,
     "end_time": "2021-11-23T00:24:17.732405",
     "exception": false,
     "start_time": "2021-11-23T00:24:17.690518",
     "status": "completed"
    },
    "tags": []
   },
   "outputs": [],
   "source": [
    "#hide\n",
    "def get_mappings(url):\n",
    "    df = pd.read_csv(url)\n",
    "    return {\n",
    "        'df': df,\n",
    "        'replace.country': dict(df.dropna(subset=['Name']).set_index('Country')['Name']),\n",
    "        'map.continent': dict(df.set_index('Name')['Continent'])\n",
    "    }"
   ]
  },
  {
   "cell_type": "code",
   "execution_count": 5,
   "id": "intimate-machinery",
   "metadata": {
    "execution": {
     "iopub.execute_input": "2021-11-23T00:24:17.804387Z",
     "iopub.status.busy": "2021-11-23T00:24:17.803762Z",
     "iopub.status.idle": "2021-11-23T00:24:17.854705Z",
     "shell.execute_reply": "2021-11-23T00:24:17.854079Z"
    },
    "papermill": {
     "duration": 0.089124,
     "end_time": "2021-11-23T00:24:17.854843",
     "exception": false,
     "start_time": "2021-11-23T00:24:17.765719",
     "status": "completed"
    },
    "tags": []
   },
   "outputs": [],
   "source": [
    "#hide\n",
    "mapping = get_mappings(paths['mapping'])"
   ]
  },
  {
   "cell_type": "code",
   "execution_count": 6,
   "id": "certified-tactics",
   "metadata": {
    "execution": {
     "iopub.execute_input": "2021-11-23T00:24:17.926910Z",
     "iopub.status.busy": "2021-11-23T00:24:17.923704Z",
     "iopub.status.idle": "2021-11-23T00:24:17.929215Z",
     "shell.execute_reply": "2021-11-23T00:24:17.928698Z"
    },
    "papermill": {
     "duration": 0.041232,
     "end_time": "2021-11-23T00:24:17.929350",
     "exception": false,
     "start_time": "2021-11-23T00:24:17.888118",
     "status": "completed"
    },
    "tags": []
   },
   "outputs": [],
   "source": [
    "#hide\n",
    "def get_template(path):\n",
    "    from urllib.parse import urlparse\n",
    "    if bool(urlparse(path).netloc):\n",
    "        from urllib.request import urlopen\n",
    "        return urlopen(path).read().decode('utf8')\n",
    "    return open(path).read()"
   ]
  },
  {
   "cell_type": "code",
   "execution_count": 7,
   "id": "realistic-blast",
   "metadata": {
    "execution": {
     "iopub.execute_input": "2021-11-23T00:24:18.000022Z",
     "iopub.status.busy": "2021-11-23T00:24:17.999465Z",
     "iopub.status.idle": "2021-11-23T00:24:18.001694Z",
     "shell.execute_reply": "2021-11-23T00:24:18.002235Z"
    },
    "papermill": {
     "duration": 0.04106,
     "end_time": "2021-11-23T00:24:18.002365",
     "exception": false,
     "start_time": "2021-11-23T00:24:17.961305",
     "status": "completed"
    },
    "tags": []
   },
   "outputs": [],
   "source": [
    "#hide\n",
    "def get_frame(name):\n",
    "    url = (\n",
    "        'https://raw.githubusercontent.com/CSSEGISandData/COVID-19/master/csse_covid_19_data/'\n",
    "        f'csse_covid_19_time_series/time_series_covid19_{name}_global.csv')\n",
    "    df = pd.read_csv(url)\n",
    "    # rename countries\n",
    "    df['Country/Region'] = df['Country/Region'].replace(mapping['replace.country'])\n",
    "    return df"
   ]
  },
  {
   "cell_type": "code",
   "execution_count": 8,
   "id": "affiliated-characterization",
   "metadata": {
    "execution": {
     "iopub.execute_input": "2021-11-23T00:24:18.075471Z",
     "iopub.status.busy": "2021-11-23T00:24:18.074898Z",
     "iopub.status.idle": "2021-11-23T00:24:18.077385Z",
     "shell.execute_reply": "2021-11-23T00:24:18.077923Z"
    },
    "papermill": {
     "duration": 0.04439,
     "end_time": "2021-11-23T00:24:18.078049",
     "exception": false,
     "start_time": "2021-11-23T00:24:18.033659",
     "status": "completed"
    },
    "tags": []
   },
   "outputs": [],
   "source": [
    "#hide\n",
    "def get_dates(df):\n",
    "    dt_cols = df.columns[~df.columns.isin(['Province/State', 'Country/Region', 'Lat', 'Long'])]\n",
    "    LAST_DATE_I = -1\n",
    "    # sometimes last column may be empty, then go backwards\n",
    "    for i in range(-1, -len(dt_cols), -1):\n",
    "        if not df[dt_cols[i]].fillna(0).eq(0).all():\n",
    "            LAST_DATE_I = i\n",
    "            break\n",
    "    return LAST_DATE_I, dt_cols"
   ]
  },
  {
   "cell_type": "code",
   "execution_count": 9,
   "id": "recent-optimization",
   "metadata": {
    "execution": {
     "iopub.execute_input": "2021-11-23T00:24:18.150420Z",
     "iopub.status.busy": "2021-11-23T00:24:18.149418Z",
     "iopub.status.idle": "2021-11-23T00:24:18.477715Z",
     "shell.execute_reply": "2021-11-23T00:24:18.476173Z"
    },
    "papermill": {
     "duration": 0.368963,
     "end_time": "2021-11-23T00:24:18.477945",
     "exception": false,
     "start_time": "2021-11-23T00:24:18.108982",
     "status": "completed"
    },
    "tags": []
   },
   "outputs": [],
   "source": [
    "#hide\n",
    "COL_REGION = 'Country/Region'\n",
    "# Confirmed, Recovered, Deaths\n",
    "df = get_frame('confirmed')\n",
    "# dft_: timeseries, dfc_: today country agg\n",
    "dft_cases = df\n",
    "dft_deaths = get_frame('deaths')\n",
    "dft_recovered = get_frame('recovered')\n",
    "LAST_DATE_I, dt_cols = get_dates(df)"
   ]
  },
  {
   "cell_type": "code",
   "execution_count": 10,
   "id": "absolute-copper",
   "metadata": {
    "execution": {
     "iopub.execute_input": "2021-11-23T00:24:18.554032Z",
     "iopub.status.busy": "2021-11-23T00:24:18.553408Z",
     "iopub.status.idle": "2021-11-23T00:24:18.556356Z",
     "shell.execute_reply": "2021-11-23T00:24:18.555912Z"
    },
    "papermill": {
     "duration": 0.043314,
     "end_time": "2021-11-23T00:24:18.556482",
     "exception": false,
     "start_time": "2021-11-23T00:24:18.513168",
     "status": "completed"
    },
    "tags": []
   },
   "outputs": [],
   "source": [
    "#hide\n",
    "LAST_DATE_I, dt_cols = get_dates(df)\n",
    "dt_today =dt_cols[LAST_DATE_I]\n",
    "# dt_5day = dt_cols[LAST_DATE_I - 5]\n",
    "dt_yday = dt_cols[LAST_DATE_I - 1]"
   ]
  },
  {
   "cell_type": "code",
   "execution_count": 11,
   "id": "restricted-sheriff",
   "metadata": {
    "execution": {
     "iopub.execute_input": "2021-11-23T00:24:18.627511Z",
     "iopub.status.busy": "2021-11-23T00:24:18.625728Z",
     "iopub.status.idle": "2021-11-23T00:24:18.633881Z",
     "shell.execute_reply": "2021-11-23T00:24:18.633410Z"
    },
    "papermill": {
     "duration": 0.045255,
     "end_time": "2021-11-23T00:24:18.633997",
     "exception": false,
     "start_time": "2021-11-23T00:24:18.588742",
     "status": "completed"
    },
    "tags": []
   },
   "outputs": [],
   "source": [
    "#hide\n",
    "dfc_cases = dft_cases.groupby(COL_REGION)[dt_today].sum()\n",
    "dfc_deaths = dft_deaths.groupby(COL_REGION)[dt_today].sum()\n",
    "# dfp_cases = dft_cases.groupby(COL_REGION)[dt_5day].sum()\n",
    "# dfp_deaths = dft_deaths.groupby(COL_REGION)[dt_5day].sum()\n",
    "dfp_cases = dft_cases.groupby(COL_REGION)[dt_yday].sum()\n",
    "dfp_deaths = dft_deaths.groupby(COL_REGION)[dt_yday].sum()"
   ]
  },
  {
   "cell_type": "code",
   "execution_count": 12,
   "id": "deluxe-hepatitis",
   "metadata": {
    "execution": {
     "iopub.execute_input": "2021-11-23T00:24:18.705707Z",
     "iopub.status.busy": "2021-11-23T00:24:18.702818Z",
     "iopub.status.idle": "2021-11-23T00:24:18.708342Z",
     "shell.execute_reply": "2021-11-23T00:24:18.708816Z"
    },
    "papermill": {
     "duration": 0.044121,
     "end_time": "2021-11-23T00:24:18.708951",
     "exception": false,
     "start_time": "2021-11-23T00:24:18.664830",
     "status": "completed"
    },
    "tags": []
   },
   "outputs": [],
   "source": [
    "#hide\n",
    "df_table = (pd.DataFrame(dict(Cases = dfc_cases, Deaths = dfc_deaths, PCases = dfp_cases, PDeaths = dfp_deaths))\n",
    "            .sort_values(by = ['Cases','Deaths'], ascending = [False, False])\n",
    "            .reset_index())"
   ]
  },
  {
   "cell_type": "code",
   "execution_count": 13,
   "id": "educational-chancellor",
   "metadata": {
    "execution": {
     "iopub.execute_input": "2021-11-23T00:24:18.793601Z",
     "iopub.status.busy": "2021-11-23T00:24:18.792930Z",
     "iopub.status.idle": "2021-11-23T00:24:18.801250Z",
     "shell.execute_reply": "2021-11-23T00:24:18.800743Z"
    },
    "papermill": {
     "duration": 0.060286,
     "end_time": "2021-11-23T00:24:18.801397",
     "exception": false,
     "start_time": "2021-11-23T00:24:18.741111",
     "status": "completed"
    },
    "tags": []
   },
   "outputs": [
    {
     "data": {
      "text/html": [
       "<div>\n",
       "<style scoped>\n",
       "    .dataframe tbody tr th:only-of-type {\n",
       "        vertical-align: middle;\n",
       "    }\n",
       "\n",
       "    .dataframe tbody tr th {\n",
       "        vertical-align: top;\n",
       "    }\n",
       "\n",
       "    .dataframe thead th {\n",
       "        text-align: right;\n",
       "    }\n",
       "</style>\n",
       "<table border=\"1\" class=\"dataframe\">\n",
       "  <thead>\n",
       "    <tr style=\"text-align: right;\">\n",
       "      <th></th>\n",
       "      <th>Country/Region</th>\n",
       "      <th>Cases</th>\n",
       "      <th>Deaths</th>\n",
       "      <th>PCases</th>\n",
       "      <th>PDeaths</th>\n",
       "      <th>Cases (+)</th>\n",
       "      <th>Deaths (+)</th>\n",
       "      <th>Fatality Rate</th>\n",
       "      <th>Continent</th>\n",
       "    </tr>\n",
       "  </thead>\n",
       "  <tbody>\n",
       "    <tr>\n",
       "      <th>0</th>\n",
       "      <td>US</td>\n",
       "      <td>47730591</td>\n",
       "      <td>771118</td>\n",
       "      <td>47701872</td>\n",
       "      <td>771013</td>\n",
       "      <td>28719</td>\n",
       "      <td>105</td>\n",
       "      <td>1.62</td>\n",
       "      <td>North America</td>\n",
       "    </tr>\n",
       "    <tr>\n",
       "      <th>1</th>\n",
       "      <td>India</td>\n",
       "      <td>34518901</td>\n",
       "      <td>465911</td>\n",
       "      <td>34510413</td>\n",
       "      <td>465662</td>\n",
       "      <td>8488</td>\n",
       "      <td>249</td>\n",
       "      <td>1.35</td>\n",
       "      <td>Asia</td>\n",
       "    </tr>\n",
       "    <tr>\n",
       "      <th>2</th>\n",
       "      <td>Brazil</td>\n",
       "      <td>22017276</td>\n",
       "      <td>612659</td>\n",
       "      <td>22012150</td>\n",
       "      <td>612587</td>\n",
       "      <td>5126</td>\n",
       "      <td>72</td>\n",
       "      <td>2.78</td>\n",
       "      <td>South America</td>\n",
       "    </tr>\n",
       "    <tr>\n",
       "      <th>3</th>\n",
       "      <td>United Kingdom</td>\n",
       "      <td>9897206</td>\n",
       "      <td>144369</td>\n",
       "      <td>9857658</td>\n",
       "      <td>144308</td>\n",
       "      <td>39548</td>\n",
       "      <td>61</td>\n",
       "      <td>1.46</td>\n",
       "      <td>Europe</td>\n",
       "    </tr>\n",
       "    <tr>\n",
       "      <th>4</th>\n",
       "      <td>Russia</td>\n",
       "      <td>9170898</td>\n",
       "      <td>259107</td>\n",
       "      <td>9135149</td>\n",
       "      <td>257891</td>\n",
       "      <td>35749</td>\n",
       "      <td>1216</td>\n",
       "      <td>2.83</td>\n",
       "      <td>Europe</td>\n",
       "    </tr>\n",
       "  </tbody>\n",
       "</table>\n",
       "</div>"
      ],
      "text/plain": [
       "   Country/Region     Cases  Deaths    PCases  PDeaths  Cases (+)  Deaths (+)  \\\n",
       "0              US  47730591  771118  47701872   771013      28719         105   \n",
       "1           India  34518901  465911  34510413   465662       8488         249   \n",
       "2          Brazil  22017276  612659  22012150   612587       5126          72   \n",
       "3  United Kingdom   9897206  144369   9857658   144308      39548          61   \n",
       "4          Russia   9170898  259107   9135149   257891      35749        1216   \n",
       "\n",
       "   Fatality Rate      Continent  \n",
       "0           1.62  North America  \n",
       "1           1.35           Asia  \n",
       "2           2.78  South America  \n",
       "3           1.46         Europe  \n",
       "4           2.83         Europe  "
      ]
     },
     "execution_count": 13,
     "metadata": {},
     "output_type": "execute_result"
    }
   ],
   "source": [
    "#hide\n",
    "for c in 'Cases, Deaths'.split(', '):\n",
    "    df_table[f'{c} (+)'] = (df_table[c] - df_table[f'P{c}']).clip(0)\n",
    "    #Clip ça veut dire, les chiffres negatif sont interdit\n",
    "df_table['Fatality Rate'] = (100* df_table['Deaths']/ df_table['Cases']).round(2)\n",
    "df_table['Continent'] = df_table['Country/Region'].map(mapping['map.continent'])\n",
    "df_table.head(5)"
   ]
  },
  {
   "cell_type": "code",
   "execution_count": 14,
   "id": "aboriginal-bulgaria",
   "metadata": {
    "execution": {
     "iopub.execute_input": "2021-11-23T00:24:18.868482Z",
     "iopub.status.busy": "2021-11-23T00:24:18.867865Z",
     "iopub.status.idle": "2021-11-23T00:24:18.871081Z",
     "shell.execute_reply": "2021-11-23T00:24:18.871445Z"
    },
    "papermill": {
     "duration": 0.038966,
     "end_time": "2021-11-23T00:24:18.871559",
     "exception": false,
     "start_time": "2021-11-23T00:24:18.832593",
     "status": "completed"
    },
    "tags": []
   },
   "outputs": [],
   "source": [
    "#hide\n",
    "#delete problematic countries from table\n",
    "df_table = df_table[~df_table['Country/Region'].isin(['Cape Verde', 'Cruise Ship', 'Kosovo'])]"
   ]
  },
  {
   "cell_type": "code",
   "execution_count": 15,
   "id": "fantastic-effect",
   "metadata": {
    "execution": {
     "iopub.execute_input": "2021-11-23T00:24:18.942787Z",
     "iopub.status.busy": "2021-11-23T00:24:18.941727Z",
     "iopub.status.idle": "2021-11-23T00:24:18.959599Z",
     "shell.execute_reply": "2021-11-23T00:24:18.959109Z"
    },
    "papermill": {
     "duration": 0.057549,
     "end_time": "2021-11-23T00:24:18.959721",
     "exception": false,
     "start_time": "2021-11-23T00:24:18.902172",
     "status": "completed"
    },
    "tags": []
   },
   "outputs": [
    {
     "data": {
      "text/html": [
       "<div>\n",
       "<style scoped>\n",
       "    .dataframe tbody tr th:only-of-type {\n",
       "        vertical-align: middle;\n",
       "    }\n",
       "\n",
       "    .dataframe tbody tr th {\n",
       "        vertical-align: top;\n",
       "    }\n",
       "\n",
       "    .dataframe thead th {\n",
       "        text-align: right;\n",
       "    }\n",
       "</style>\n",
       "<table border=\"1\" class=\"dataframe\">\n",
       "  <thead>\n",
       "    <tr style=\"text-align: right;\">\n",
       "      <th></th>\n",
       "      <th>Country/Region</th>\n",
       "      <th>Cases</th>\n",
       "      <th>Deaths</th>\n",
       "      <th>PCases</th>\n",
       "      <th>PDeaths</th>\n",
       "      <th>Cases (+)</th>\n",
       "      <th>Deaths (+)</th>\n",
       "      <th>Fatality Rate</th>\n",
       "      <th>Continent</th>\n",
       "    </tr>\n",
       "  </thead>\n",
       "  <tbody>\n",
       "    <tr>\n",
       "      <th>0</th>\n",
       "      <td>US</td>\n",
       "      <td>47730591</td>\n",
       "      <td>771118</td>\n",
       "      <td>47701872</td>\n",
       "      <td>771013</td>\n",
       "      <td>28719</td>\n",
       "      <td>105</td>\n",
       "      <td>1.6</td>\n",
       "      <td>North America</td>\n",
       "    </tr>\n",
       "    <tr>\n",
       "      <th>1</th>\n",
       "      <td>India</td>\n",
       "      <td>34518901</td>\n",
       "      <td>465911</td>\n",
       "      <td>34510413</td>\n",
       "      <td>465662</td>\n",
       "      <td>8488</td>\n",
       "      <td>249</td>\n",
       "      <td>1.3</td>\n",
       "      <td>Asia</td>\n",
       "    </tr>\n",
       "    <tr>\n",
       "      <th>2</th>\n",
       "      <td>Brazil</td>\n",
       "      <td>22017276</td>\n",
       "      <td>612659</td>\n",
       "      <td>22012150</td>\n",
       "      <td>612587</td>\n",
       "      <td>5126</td>\n",
       "      <td>72</td>\n",
       "      <td>2.8</td>\n",
       "      <td>South America</td>\n",
       "    </tr>\n",
       "    <tr>\n",
       "      <th>3</th>\n",
       "      <td>United Kingdom</td>\n",
       "      <td>9897206</td>\n",
       "      <td>144369</td>\n",
       "      <td>9857658</td>\n",
       "      <td>144308</td>\n",
       "      <td>39548</td>\n",
       "      <td>61</td>\n",
       "      <td>1.5</td>\n",
       "      <td>Europe</td>\n",
       "    </tr>\n",
       "    <tr>\n",
       "      <th>4</th>\n",
       "      <td>Russia</td>\n",
       "      <td>9170898</td>\n",
       "      <td>259107</td>\n",
       "      <td>9135149</td>\n",
       "      <td>257891</td>\n",
       "      <td>35749</td>\n",
       "      <td>1216</td>\n",
       "      <td>2.8</td>\n",
       "      <td>Europe</td>\n",
       "    </tr>\n",
       "  </tbody>\n",
       "</table>\n",
       "</div>"
      ],
      "text/plain": [
       "   Country/Region     Cases  Deaths    PCases  PDeaths  Cases (+)  Deaths (+)  \\\n",
       "0              US  47730591  771118  47701872   771013      28719         105   \n",
       "1           India  34518901  465911  34510413   465662       8488         249   \n",
       "2          Brazil  22017276  612659  22012150   612587       5126          72   \n",
       "3  United Kingdom   9897206  144369   9857658   144308      39548          61   \n",
       "4          Russia   9170898  259107   9135149   257891      35749        1216   \n",
       "\n",
       "   Fatality Rate      Continent  \n",
       "0            1.6  North America  \n",
       "1            1.3           Asia  \n",
       "2            2.8  South America  \n",
       "3            1.5         Europe  \n",
       "4            2.8         Europe  "
      ]
     },
     "execution_count": 15,
     "metadata": {},
     "output_type": "execute_result"
    }
   ],
   "source": [
    "#hide\n",
    "df_table = (pd.DataFrame(dict(Cases=dfc_cases, Deaths=dfc_deaths, PCases=dfp_cases, PDeaths=dfp_deaths))\n",
    "             .sort_values(by=['Cases', 'Deaths'], ascending=[False, False])\n",
    "             .reset_index())\n",
    "df_table.rename(columns={'index': 'Country/Region'}, inplace=True)\n",
    "for c in 'Cases, Deaths'.split(', '):\n",
    "    df_table[f'{c} (+)'] = (df_table[c] - df_table[f'P{c}']).clip(0)  # DATA BUG\n",
    "df_table['Fatality Rate'] = (100 * df_table['Deaths'] / df_table['Cases']).round(1)\n",
    "df_table['Continent'] = df_table['Country/Region'].map(mapping['map.continent'])\n",
    "df_table.head(5)"
   ]
  },
  {
   "cell_type": "code",
   "execution_count": 16,
   "id": "fewer-occasion",
   "metadata": {
    "execution": {
     "iopub.execute_input": "2021-11-23T00:24:19.031812Z",
     "iopub.status.busy": "2021-11-23T00:24:19.031278Z",
     "iopub.status.idle": "2021-11-23T00:24:19.034823Z",
     "shell.execute_reply": "2021-11-23T00:24:19.034391Z"
    },
    "papermill": {
     "duration": 0.042412,
     "end_time": "2021-11-23T00:24:19.034943",
     "exception": false,
     "start_time": "2021-11-23T00:24:18.992531",
     "status": "completed"
    },
    "tags": []
   },
   "outputs": [],
   "source": [
    "#hide\n",
    "#delete problematic countries from table\n",
    "df_table = df_table[~df_table['Country/Region'].isin(['Cape Verde', 'Cruise Ship', 'Kosovo'])]"
   ]
  },
  {
   "cell_type": "code",
   "execution_count": 17,
   "id": "related-center",
   "metadata": {
    "execution": {
     "iopub.execute_input": "2021-11-23T00:24:19.113404Z",
     "iopub.status.busy": "2021-11-23T00:24:19.112749Z",
     "iopub.status.idle": "2021-11-23T00:24:19.125289Z",
     "shell.execute_reply": "2021-11-23T00:24:19.125718Z"
    },
    "papermill": {
     "duration": 0.057708,
     "end_time": "2021-11-23T00:24:19.125852",
     "exception": false,
     "start_time": "2021-11-23T00:24:19.068144",
     "status": "completed"
    },
    "tags": []
   },
   "outputs": [],
   "source": [
    "#hide\n",
    "metrics = [df_table.columns[index] for index in [1,2,5,6]]\n",
    "# s_china = df_table[df_table['Country/Region'].eq('China')][metrics].sum().add_prefix('China ')\n",
    "s_us = df_table[df_table['Country/Region'].eq('US')][metrics].sum().add_prefix('US ')\n",
    "s_eu = df_table[df_table['Continent'].eq('Europe')][metrics].sum().add_prefix('EU ')\n",
    "s_ind = df_table[df_table['Country/Region'].eq('India')][metrics].sum().add_prefix('India ')\n",
    "summary = {'updated': pd.to_datetime(dt_today), 'since': pd.to_datetime(dt_yday)}\n",
    "summary = {'updated': pd.to_datetime(dt_today), 'since': pd.to_datetime(dt_yday)}\n",
    "summary = {**summary, **df_table[metrics].sum(), **s_ind, **s_us, **s_eu}"
   ]
  },
  {
   "cell_type": "code",
   "execution_count": 18,
   "id": "engaging-syndrome",
   "metadata": {
    "execution": {
     "iopub.execute_input": "2021-11-23T00:24:19.200281Z",
     "iopub.status.busy": "2021-11-23T00:24:19.196683Z",
     "iopub.status.idle": "2021-11-23T00:24:19.213400Z",
     "shell.execute_reply": "2021-11-23T00:24:19.212343Z"
    },
    "papermill": {
     "duration": 0.054614,
     "end_time": "2021-11-23T00:24:19.213527",
     "exception": false,
     "start_time": "2021-11-23T00:24:19.158913",
     "status": "completed"
    },
    "tags": []
   },
   "outputs": [],
   "source": [
    "#hide\n",
    "dft_ct_new_cases = dft_cases.groupby(COL_REGION)[dt_cols].sum().diff(axis=1).fillna(0).astype(int)"
   ]
  },
  {
   "cell_type": "code",
   "execution_count": 19,
   "id": "neutral-assignment",
   "metadata": {
    "execution": {
     "iopub.execute_input": "2021-11-23T00:24:19.286615Z",
     "iopub.status.busy": "2021-11-23T00:24:19.286001Z",
     "iopub.status.idle": "2021-11-23T00:24:19.288215Z",
     "shell.execute_reply": "2021-11-23T00:24:19.287741Z"
    },
    "papermill": {
     "duration": 0.041179,
     "end_time": "2021-11-23T00:24:19.288339",
     "exception": false,
     "start_time": "2021-11-23T00:24:19.247160",
     "status": "completed"
    },
    "tags": []
   },
   "outputs": [],
   "source": [
    "#hide\n",
    "everydaycases = dft_ct_new_cases.cumsum(axis=1)"
   ]
  },
  {
   "cell_type": "code",
   "execution_count": 20,
   "id": "parliamentary-calgary",
   "metadata": {
    "execution": {
     "iopub.execute_input": "2021-11-23T00:24:19.358544Z",
     "iopub.status.busy": "2021-11-23T00:24:19.357947Z",
     "iopub.status.idle": "2021-11-23T00:24:20.025225Z",
     "shell.execute_reply": "2021-11-23T00:24:20.024339Z"
    },
    "papermill": {
     "duration": 0.704876,
     "end_time": "2021-11-23T00:24:20.025503",
     "exception": false,
     "start_time": "2021-11-23T00:24:19.320627",
     "status": "completed"
    },
    "tags": []
   },
   "outputs": [],
   "source": [
    "#hide\n",
    "import pandas as pd\n",
    "import matplotlib.pyplot as plt\n",
    "import matplotlib.ticker as ticker\n",
    "import matplotlib.animation as animation\n",
    "from IPython.display import HTML"
   ]
  },
  {
   "cell_type": "code",
   "execution_count": 21,
   "id": "lasting-extraction",
   "metadata": {
    "execution": {
     "iopub.execute_input": "2021-11-23T00:24:20.094309Z",
     "iopub.status.busy": "2021-11-23T00:24:20.093789Z",
     "iopub.status.idle": "2021-11-23T00:24:20.100527Z",
     "shell.execute_reply": "2021-11-23T00:24:20.100188Z"
    },
    "papermill": {
     "duration": 0.043756,
     "end_time": "2021-11-23T00:24:20.100620",
     "exception": false,
     "start_time": "2021-11-23T00:24:20.056864",
     "status": "completed"
    },
    "tags": []
   },
   "outputs": [],
   "source": [
    "#hide\n",
    "t = everydaycases.stack()"
   ]
  },
  {
   "cell_type": "code",
   "execution_count": 22,
   "id": "premier-sleeve",
   "metadata": {
    "execution": {
     "iopub.execute_input": "2021-11-23T00:24:20.166801Z",
     "iopub.status.busy": "2021-11-23T00:24:20.166246Z",
     "iopub.status.idle": "2021-11-23T00:24:20.175531Z",
     "shell.execute_reply": "2021-11-23T00:24:20.176084Z"
    },
    "papermill": {
     "duration": 0.044662,
     "end_time": "2021-11-23T00:24:20.176220",
     "exception": false,
     "start_time": "2021-11-23T00:24:20.131558",
     "status": "completed"
    },
    "tags": []
   },
   "outputs": [],
   "source": [
    "#hide\n",
    "g = t.reset_index(['Country/Region'])"
   ]
  },
  {
   "cell_type": "code",
   "execution_count": 23,
   "id": "distributed-pittsburgh",
   "metadata": {
    "execution": {
     "iopub.execute_input": "2021-11-23T00:24:20.242539Z",
     "iopub.status.busy": "2021-11-23T00:24:20.241948Z",
     "iopub.status.idle": "2021-11-23T00:24:20.244442Z",
     "shell.execute_reply": "2021-11-23T00:24:20.244916Z"
    },
    "papermill": {
     "duration": 0.038126,
     "end_time": "2021-11-23T00:24:20.245051",
     "exception": false,
     "start_time": "2021-11-23T00:24:20.206925",
     "status": "completed"
    },
    "tags": []
   },
   "outputs": [],
   "source": [
    "#hide\n",
    "g.index.name = 'date'"
   ]
  },
  {
   "cell_type": "code",
   "execution_count": 24,
   "id": "naked-donor",
   "metadata": {
    "execution": {
     "iopub.execute_input": "2021-11-23T00:24:20.315180Z",
     "iopub.status.busy": "2021-11-23T00:24:20.314455Z",
     "iopub.status.idle": "2021-11-23T00:24:20.318318Z",
     "shell.execute_reply": "2021-11-23T00:24:20.318846Z"
    },
    "papermill": {
     "duration": 0.041096,
     "end_time": "2021-11-23T00:24:20.319006",
     "exception": false,
     "start_time": "2021-11-23T00:24:20.277910",
     "status": "completed"
    },
    "tags": []
   },
   "outputs": [],
   "source": [
    "# #hide\n",
    "# g = g.reset_index(['date'])"
   ]
  },
  {
   "cell_type": "code",
   "execution_count": 25,
   "id": "incomplete-mustang",
   "metadata": {
    "execution": {
     "iopub.execute_input": "2021-11-23T00:24:20.390174Z",
     "iopub.status.busy": "2021-11-23T00:24:20.389068Z",
     "iopub.status.idle": "2021-11-23T00:24:20.391271Z",
     "shell.execute_reply": "2021-11-23T00:24:20.391968Z"
    },
    "papermill": {
     "duration": 0.038596,
     "end_time": "2021-11-23T00:24:20.392100",
     "exception": false,
     "start_time": "2021-11-23T00:24:20.353504",
     "status": "completed"
    },
    "tags": []
   },
   "outputs": [],
   "source": [
    "#hide\n",
    "# g.head()"
   ]
  },
  {
   "cell_type": "code",
   "execution_count": 26,
   "id": "specific-kruger",
   "metadata": {
    "execution": {
     "iopub.execute_input": "2021-11-23T00:24:20.462858Z",
     "iopub.status.busy": "2021-11-23T00:24:20.462038Z",
     "iopub.status.idle": "2021-11-23T00:24:20.466369Z",
     "shell.execute_reply": "2021-11-23T00:24:20.465896Z"
    },
    "papermill": {
     "duration": 0.042043,
     "end_time": "2021-11-23T00:24:20.466498",
     "exception": false,
     "start_time": "2021-11-23T00:24:20.424455",
     "status": "completed"
    },
    "tags": []
   },
   "outputs": [],
   "source": [
    "#hide\n",
    "# g.columns = ['date','country','cases']"
   ]
  },
  {
   "cell_type": "code",
   "execution_count": 27,
   "id": "tender-conversion",
   "metadata": {
    "execution": {
     "iopub.execute_input": "2021-11-23T00:24:20.542773Z",
     "iopub.status.busy": "2021-11-23T00:24:20.541919Z",
     "iopub.status.idle": "2021-11-23T00:24:20.543638Z",
     "shell.execute_reply": "2021-11-23T00:24:20.544111Z"
    },
    "papermill": {
     "duration": 0.042053,
     "end_time": "2021-11-23T00:24:20.544254",
     "exception": false,
     "start_time": "2021-11-23T00:24:20.502201",
     "status": "completed"
    },
    "tags": []
   },
   "outputs": [],
   "source": [
    "#hide\n",
    "# g['continent'] = g.country"
   ]
  },
  {
   "cell_type": "code",
   "execution_count": 28,
   "id": "substantial-wilderness",
   "metadata": {
    "execution": {
     "iopub.execute_input": "2021-11-23T00:24:20.614759Z",
     "iopub.status.busy": "2021-11-23T00:24:20.614147Z",
     "iopub.status.idle": "2021-11-23T00:24:20.616341Z",
     "shell.execute_reply": "2021-11-23T00:24:20.615903Z"
    },
    "papermill": {
     "duration": 0.03857,
     "end_time": "2021-11-23T00:24:20.616457",
     "exception": false,
     "start_time": "2021-11-23T00:24:20.577887",
     "status": "completed"
    },
    "tags": []
   },
   "outputs": [],
   "source": [
    "#hide\n",
    "# cols = list(g.columns.values)"
   ]
  },
  {
   "cell_type": "code",
   "execution_count": 29,
   "id": "solved-farming",
   "metadata": {
    "execution": {
     "iopub.execute_input": "2021-11-23T00:24:20.692638Z",
     "iopub.status.busy": "2021-11-23T00:24:20.692033Z",
     "iopub.status.idle": "2021-11-23T00:24:20.694427Z",
     "shell.execute_reply": "2021-11-23T00:24:20.694995Z"
    },
    "papermill": {
     "duration": 0.040517,
     "end_time": "2021-11-23T00:24:20.695130",
     "exception": false,
     "start_time": "2021-11-23T00:24:20.654613",
     "status": "completed"
    },
    "tags": []
   },
   "outputs": [],
   "source": [
    "#hide\n",
    "# cols.insert(0, cols.pop())"
   ]
  },
  {
   "cell_type": "code",
   "execution_count": 30,
   "id": "executed-adoption",
   "metadata": {
    "execution": {
     "iopub.execute_input": "2021-11-23T00:24:20.767655Z",
     "iopub.status.busy": "2021-11-23T00:24:20.766618Z",
     "iopub.status.idle": "2021-11-23T00:24:20.768338Z",
     "shell.execute_reply": "2021-11-23T00:24:20.768799Z"
    },
    "papermill": {
     "duration": 0.0403,
     "end_time": "2021-11-23T00:24:20.768934",
     "exception": false,
     "start_time": "2021-11-23T00:24:20.728634",
     "status": "completed"
    },
    "tags": []
   },
   "outputs": [],
   "source": [
    "#hide\n",
    "# g = g[cols]"
   ]
  },
  {
   "cell_type": "code",
   "execution_count": 31,
   "id": "subject-dublin",
   "metadata": {
    "execution": {
     "iopub.execute_input": "2021-11-23T00:24:20.840568Z",
     "iopub.status.busy": "2021-11-23T00:24:20.839947Z",
     "iopub.status.idle": "2021-11-23T00:24:20.843434Z",
     "shell.execute_reply": "2021-11-23T00:24:20.843851Z"
    },
    "papermill": {
     "duration": 0.040524,
     "end_time": "2021-11-23T00:24:20.843984",
     "exception": false,
     "start_time": "2021-11-23T00:24:20.803460",
     "status": "completed"
    },
    "tags": []
   },
   "outputs": [],
   "source": [
    "#hide\n",
    "# g['continent'] = g['continent'].map(mapping['map.continent'])"
   ]
  },
  {
   "cell_type": "code",
   "execution_count": 32,
   "id": "freelance-scout",
   "metadata": {
    "execution": {
     "iopub.execute_input": "2021-11-23T00:24:20.918954Z",
     "iopub.status.busy": "2021-11-23T00:24:20.918404Z",
     "iopub.status.idle": "2021-11-23T00:24:20.920459Z",
     "shell.execute_reply": "2021-11-23T00:24:20.920882Z"
    },
    "papermill": {
     "duration": 0.046424,
     "end_time": "2021-11-23T00:24:20.921024",
     "exception": false,
     "start_time": "2021-11-23T00:24:20.874600",
     "status": "completed"
    },
    "tags": []
   },
   "outputs": [],
   "source": [
    "#hide\n",
    "# g.head()"
   ]
  },
  {
   "cell_type": "code",
   "execution_count": 33,
   "id": "limited-engine",
   "metadata": {
    "execution": {
     "iopub.execute_input": "2021-11-23T00:24:20.989163Z",
     "iopub.status.busy": "2021-11-23T00:24:20.988135Z",
     "iopub.status.idle": "2021-11-23T00:24:20.992923Z",
     "shell.execute_reply": "2021-11-23T00:24:20.992452Z"
    },
    "papermill": {
     "duration": 0.041114,
     "end_time": "2021-11-23T00:24:20.993019",
     "exception": false,
     "start_time": "2021-11-23T00:24:20.951905",
     "status": "completed"
    },
    "tags": []
   },
   "outputs": [],
   "source": [
    "# hide\n",
    "# g['date'] = g['date'].astype('datetime64[ns]')"
   ]
  },
  {
   "cell_type": "code",
   "execution_count": 34,
   "id": "sophisticated-supervisor",
   "metadata": {
    "execution": {
     "iopub.execute_input": "2021-11-23T00:24:21.059981Z",
     "iopub.status.busy": "2021-11-23T00:24:21.059356Z",
     "iopub.status.idle": "2021-11-23T00:24:21.061662Z",
     "shell.execute_reply": "2021-11-23T00:24:21.061040Z"
    },
    "papermill": {
     "duration": 0.036719,
     "end_time": "2021-11-23T00:24:21.061785",
     "exception": false,
     "start_time": "2021-11-23T00:24:21.025066",
     "status": "completed"
    },
    "tags": []
   },
   "outputs": [],
   "source": [
    "#hide\n",
    "# g['date'] = g.date.dt.dayofyear"
   ]
  },
  {
   "cell_type": "code",
   "execution_count": 35,
   "id": "inside-dubai",
   "metadata": {
    "execution": {
     "iopub.execute_input": "2021-11-23T00:24:21.133116Z",
     "iopub.status.busy": "2021-11-23T00:24:21.132105Z",
     "iopub.status.idle": "2021-11-23T00:24:21.136808Z",
     "shell.execute_reply": "2021-11-23T00:24:21.136344Z"
    },
    "papermill": {
     "duration": 0.041765,
     "end_time": "2021-11-23T00:24:21.136919",
     "exception": false,
     "start_time": "2021-11-23T00:24:21.095154",
     "status": "completed"
    },
    "tags": []
   },
   "outputs": [],
   "source": [
    "#hide\n",
    "# g = g.rename(columns= {'continent':'group','country':'name','cases':'value'})"
   ]
  },
  {
   "cell_type": "code",
   "execution_count": 36,
   "id": "fleet-motorcycle",
   "metadata": {
    "execution": {
     "iopub.execute_input": "2021-11-23T00:24:21.206132Z",
     "iopub.status.busy": "2021-11-23T00:24:21.205491Z",
     "iopub.status.idle": "2021-11-23T00:24:21.207531Z",
     "shell.execute_reply": "2021-11-23T00:24:21.207019Z"
    },
    "papermill": {
     "duration": 0.03809,
     "end_time": "2021-11-23T00:24:21.207650",
     "exception": false,
     "start_time": "2021-11-23T00:24:21.169560",
     "status": "completed"
    },
    "tags": []
   },
   "outputs": [],
   "source": [
    "#hide\n",
    "# cols = ['name','group','day','value']"
   ]
  },
  {
   "cell_type": "code",
   "execution_count": 37,
   "id": "continued-sleeping",
   "metadata": {
    "execution": {
     "iopub.execute_input": "2021-11-23T00:24:21.290381Z",
     "iopub.status.busy": "2021-11-23T00:24:21.289766Z",
     "iopub.status.idle": "2021-11-23T00:24:21.292368Z",
     "shell.execute_reply": "2021-11-23T00:24:21.292839Z"
    },
    "papermill": {
     "duration": 0.046141,
     "end_time": "2021-11-23T00:24:21.292976",
     "exception": false,
     "start_time": "2021-11-23T00:24:21.246835",
     "status": "completed"
    },
    "tags": []
   },
   "outputs": [],
   "source": [
    "#hide\n",
    "# g.rename(columns= {'date':'day'},inplace = True)"
   ]
  },
  {
   "cell_type": "code",
   "execution_count": 38,
   "id": "major-fight",
   "metadata": {
    "execution": {
     "iopub.execute_input": "2021-11-23T00:24:21.365583Z",
     "iopub.status.busy": "2021-11-23T00:24:21.364714Z",
     "iopub.status.idle": "2021-11-23T00:24:21.366465Z",
     "shell.execute_reply": "2021-11-23T00:24:21.367110Z"
    },
    "papermill": {
     "duration": 0.040329,
     "end_time": "2021-11-23T00:24:21.367242",
     "exception": false,
     "start_time": "2021-11-23T00:24:21.326913",
     "status": "completed"
    },
    "tags": []
   },
   "outputs": [],
   "source": [
    "#hide\n",
    "# g = g[cols]"
   ]
  },
  {
   "cell_type": "code",
   "execution_count": 39,
   "id": "structured-mobile",
   "metadata": {
    "execution": {
     "iopub.execute_input": "2021-11-23T00:24:21.436852Z",
     "iopub.status.busy": "2021-11-23T00:24:21.435821Z",
     "iopub.status.idle": "2021-11-23T00:24:21.439998Z",
     "shell.execute_reply": "2021-11-23T00:24:21.440427Z"
    },
    "papermill": {
     "duration": 0.040177,
     "end_time": "2021-11-23T00:24:21.440556",
     "exception": false,
     "start_time": "2021-11-23T00:24:21.400379",
     "status": "completed"
    },
    "tags": []
   },
   "outputs": [],
   "source": [
    "# #hide\n",
    "# g = g[g.group.notna()]"
   ]
  },
  {
   "cell_type": "code",
   "execution_count": 40,
   "id": "determined-closing",
   "metadata": {
    "execution": {
     "iopub.execute_input": "2021-11-23T00:24:21.510121Z",
     "iopub.status.busy": "2021-11-23T00:24:21.509611Z",
     "iopub.status.idle": "2021-11-23T00:24:21.511618Z",
     "shell.execute_reply": "2021-11-23T00:24:21.511142Z"
    },
    "papermill": {
     "duration": 0.038227,
     "end_time": "2021-11-23T00:24:21.511721",
     "exception": false,
     "start_time": "2021-11-23T00:24:21.473494",
     "status": "completed"
    },
    "tags": []
   },
   "outputs": [],
   "source": [
    "# #hide\n",
    "# colors = dict(zip(\n",
    "#     [\"Oceania\", \"Europe\", \"Asia\", \"South America\", \"Middle East\", \"North America\", \"Africa\"],\n",
    "#     [\"#adb0ff\", \"#ffb3ff\", \"#90d595\", \"#e48381\", \"#aafbff\", \"#f7bb5f\", \"#eafb50\"]\n",
    "# ))\n",
    "# group_lk = g.set_index('name')['group'].to_dict()"
   ]
  },
  {
   "cell_type": "code",
   "execution_count": null,
   "id": "gross-drinking",
   "metadata": {
    "papermill": {
     "duration": 0.032899,
     "end_time": "2021-11-23T00:24:21.577814",
     "exception": false,
     "start_time": "2021-11-23T00:24:21.544915",
     "status": "completed"
    },
    "tags": []
   },
   "outputs": [],
   "source": []
  },
  {
   "cell_type": "code",
   "execution_count": 41,
   "id": "subject-macintosh",
   "metadata": {
    "execution": {
     "iopub.execute_input": "2021-11-23T00:24:21.649552Z",
     "iopub.status.busy": "2021-11-23T00:24:21.648880Z",
     "iopub.status.idle": "2021-11-23T00:24:21.651090Z",
     "shell.execute_reply": "2021-11-23T00:24:21.650542Z"
    },
    "papermill": {
     "duration": 0.040961,
     "end_time": "2021-11-23T00:24:21.651203",
     "exception": false,
     "start_time": "2021-11-23T00:24:21.610242",
     "status": "completed"
    },
    "tags": []
   },
   "outputs": [],
   "source": [
    "# #hide\n",
    "# fig, ax = plt.subplots(figsize=(15, 8))\n",
    "\n",
    "# def draw_barchart(current_day):\n",
    "#     dff = g[g['day'].eq(current_day)].sort_values(by='value', ascending=True).tail(10)\n",
    "#     ax.clear()\n",
    "#     ax.barh(dff['name'], dff['value'], color=[colors[group_lk[x]] for x in dff['name']])\n",
    "#     dx = dff['value'].max() / 200\n",
    "    \n",
    "#     for i, (value, name) in enumerate(zip(dff['value'], dff['name'])):\n",
    "#         ax.text(value-dx, i,     name,           size=14, weight=600, ha='right', va='bottom')\n",
    "#         ax.text(value-dx, i-.25, group_lk[name], size=10, color='#444444', ha='right', va='baseline')\n",
    "#         ax.text(value+dx, i,     f'{value:,.0f}',  size=14, ha='left',  va='center')\n",
    "#     ax.text(1, 0.4, current_day, transform=ax.transAxes, color='#777777', size=46, ha='right', weight=800)\n",
    "#     ax.text(0, 1.06, 'Population (thousands)', transform=ax.transAxes, size=12, color='#777777')\n",
    "#     ax.xaxis.set_major_formatter(ticker.StrMethodFormatter('{x:,.0f}'))\n",
    "#     ax.xaxis.set_ticks_position('top')\n",
    "#     ax.tick_params(axis='x', colors='#777777', labelsize=12)\n",
    "#     ax.set_yticks([])\n",
    "#     ax.margins(0, 0.01)\n",
    "#     ax.grid(which='major', axis='x', linestyle='-')\n",
    "#     ax.set_axisbelow(True)\n",
    "    \n",
    "#     ax.text(0, 1.15, 'Coronavirus',\n",
    "#             transform=ax.transAxes, size=24, weight=600, ha='left', va='top')\n",
    "# #     ax.text(1, 0, 'by @pratapvardhan; credit @jburnmurdoch', transform=ax.transAxes, color='#777777', ha='right',\n",
    "# #             bbox=dict(facecolor='white', alpha=0.8, edgecolor='white'))\n",
    "#     plt.box(False)"
   ]
  },
  {
   "cell_type": "code",
   "execution_count": 42,
   "id": "sexual-wages",
   "metadata": {
    "execution": {
     "iopub.execute_input": "2021-11-23T00:24:21.725177Z",
     "iopub.status.busy": "2021-11-23T00:24:21.724577Z",
     "iopub.status.idle": "2021-11-23T00:24:21.727054Z",
     "shell.execute_reply": "2021-11-23T00:24:21.727625Z"
    },
    "papermill": {
     "duration": 0.04138,
     "end_time": "2021-11-23T00:24:21.727764",
     "exception": false,
     "start_time": "2021-11-23T00:24:21.686384",
     "status": "completed"
    },
    "tags": []
   },
   "outputs": [],
   "source": [
    "# #hide_input\n",
    "# fig, ax = plt.subplots(figsize=(15, 8))\n",
    "# animator = animation.FuncAnimation(fig, draw_barchart, frames=range(g.day.values.min(), g.day.values.max()))\n",
    "# HTML(animator.to_jshtml())\n",
    "# # or use animator.to_html5_video() or animator.save() "
   ]
  },
  {
   "cell_type": "code",
   "execution_count": null,
   "id": "australian-container",
   "metadata": {
    "papermill": {
     "duration": 0.042182,
     "end_time": "2021-11-23T00:24:21.805062",
     "exception": false,
     "start_time": "2021-11-23T00:24:21.762880",
     "status": "completed"
    },
    "tags": []
   },
   "outputs": [],
   "source": []
  },
  {
   "cell_type": "code",
   "execution_count": null,
   "id": "mediterranean-pontiac",
   "metadata": {
    "papermill": {
     "duration": 0.033727,
     "end_time": "2021-11-23T00:24:21.871869",
     "exception": false,
     "start_time": "2021-11-23T00:24:21.838142",
     "status": "completed"
    },
    "tags": []
   },
   "outputs": [],
   "source": []
  },
  {
   "cell_type": "code",
   "execution_count": null,
   "id": "aging-legislature",
   "metadata": {
    "papermill": {
     "duration": 0.033061,
     "end_time": "2021-11-23T00:24:21.939166",
     "exception": false,
     "start_time": "2021-11-23T00:24:21.906105",
     "status": "completed"
    },
    "tags": []
   },
   "outputs": [],
   "source": []
  }
 ],
 "metadata": {
  "kernelspec": {
   "display_name": "Python 3",
   "language": "python",
   "name": "python3"
  },
  "language_info": {
   "codemirror_mode": {
    "name": "ipython",
    "version": 3
   },
   "file_extension": ".py",
   "mimetype": "text/x-python",
   "name": "python",
   "nbconvert_exporter": "python",
   "pygments_lexer": "ipython3",
   "version": "3.6.15"
  },
  "papermill": {
   "duration": 6.567776,
   "end_time": "2021-11-23T00:24:22.281186",
   "environment_variables": {},
   "exception": null,
   "input_path": "2020-03-21-covid19exp.ipynb",
   "output_path": "2020-03-21-covid19exp.ipynb",
   "parameters": {},
   "start_time": "2021-11-23T00:24:15.713410",
   "version": "2.0.0"
  }
 },
 "nbformat": 4,
 "nbformat_minor": 5
}