{
 "cells": [
  {
   "cell_type": "markdown",
   "id": "muslim-click",
   "metadata": {
    "papermill": {
     "duration": 0.039901,
     "end_time": "2021-01-28T00:15:05.321244",
     "exception": false,
     "start_time": "2021-01-28T00:15:05.281343",
     "status": "completed"
    },
    "tags": []
   },
   "source": [
    "# COVID-19 Case Race\n",
    "> A race chart to see rising cases around the world\n",
    "\n",
    "- author: Hargun Oberoi\n",
    "- image: images/covid-overview.png\n",
    "- hide: false\n",
    "- badges: false"
   ]
  },
  {
   "cell_type": "code",
   "execution_count": 1,
   "id": "proof-material",
   "metadata": {
    "execution": {
     "iopub.execute_input": "2021-01-28T00:15:05.400381Z",
     "iopub.status.busy": "2021-01-28T00:15:05.399789Z",
     "iopub.status.idle": "2021-01-28T00:15:05.731534Z",
     "shell.execute_reply": "2021-01-28T00:15:05.730193Z"
    },
    "papermill": {
     "duration": 0.377199,
     "end_time": "2021-01-28T00:15:05.731783",
     "exception": false,
     "start_time": "2021-01-28T00:15:05.354584",
     "status": "completed"
    },
    "tags": []
   },
   "outputs": [],
   "source": [
    "#hide\n",
    "import numpy as np\n",
    "import pandas as pd\n",
    "from jinja2 import Template\n",
    "from IPython.display import HTML"
   ]
  },
  {
   "cell_type": "code",
   "execution_count": 2,
   "id": "developed-terminology",
   "metadata": {
    "execution": {
     "iopub.execute_input": "2021-01-28T00:15:05.806352Z",
     "iopub.status.busy": "2021-01-28T00:15:05.805748Z",
     "iopub.status.idle": "2021-01-28T00:15:05.808098Z",
     "shell.execute_reply": "2021-01-28T00:15:05.808651Z"
    },
    "papermill": {
     "duration": 0.041003,
     "end_time": "2021-01-28T00:15:05.808787",
     "exception": false,
     "start_time": "2021-01-28T00:15:05.767784",
     "status": "completed"
    },
    "tags": []
   },
   "outputs": [],
   "source": [
    "#hide\n",
    "\n",
    "# FETCH\n",
    "base_url = 'https://raw.githubusercontent.com/pratapvardhan/notebooks/master/covid19/'\n",
    "paths = {\n",
    "    'mapping': base_url + 'mapping_countries.csv',\n",
    "    'overview': base_url + 'overview.tpl'\n",
    "}"
   ]
  },
  {
   "cell_type": "code",
   "execution_count": 3,
   "id": "dynamic-saver",
   "metadata": {
    "execution": {
     "iopub.execute_input": "2021-01-28T00:15:05.881559Z",
     "iopub.status.busy": "2021-01-28T00:15:05.880988Z",
     "iopub.status.idle": "2021-01-28T00:15:05.894783Z",
     "shell.execute_reply": "2021-01-28T00:15:05.895281Z"
    },
    "papermill": {
     "duration": 0.051559,
     "end_time": "2021-01-28T00:15:05.895416",
     "exception": false,
     "start_time": "2021-01-28T00:15:05.843857",
     "status": "completed"
    },
    "tags": []
   },
   "outputs": [
    {
     "data": {
      "text/plain": [
       "'https://raw.githubusercontent.com/pratapvardhan/notebooks/master/covid19/mapping_countries.csv'"
      ]
     },
     "execution_count": 3,
     "metadata": {},
     "output_type": "execute_result"
    }
   ],
   "source": [
    "#hide\n",
    "paths['mapping']"
   ]
  },
  {
   "cell_type": "code",
   "execution_count": 4,
   "id": "urban-software",
   "metadata": {
    "execution": {
     "iopub.execute_input": "2021-01-28T00:15:05.968493Z",
     "iopub.status.busy": "2021-01-28T00:15:05.967922Z",
     "iopub.status.idle": "2021-01-28T00:15:05.970245Z",
     "shell.execute_reply": "2021-01-28T00:15:05.970812Z"
    },
    "papermill": {
     "duration": 0.042612,
     "end_time": "2021-01-28T00:15:05.970945",
     "exception": false,
     "start_time": "2021-01-28T00:15:05.928333",
     "status": "completed"
    },
    "tags": []
   },
   "outputs": [],
   "source": [
    "#hide\n",
    "def get_mappings(url):\n",
    "    df = pd.read_csv(url)\n",
    "    return {\n",
    "        'df': df,\n",
    "        'replace.country': dict(df.dropna(subset=['Name']).set_index('Country')['Name']),\n",
    "        'map.continent': dict(df.set_index('Name')['Continent'])\n",
    "    }"
   ]
  },
  {
   "cell_type": "code",
   "execution_count": 5,
   "id": "intimate-machinery",
   "metadata": {
    "execution": {
     "iopub.execute_input": "2021-01-28T00:15:06.042683Z",
     "iopub.status.busy": "2021-01-28T00:15:06.042106Z",
     "iopub.status.idle": "2021-01-28T00:15:06.091009Z",
     "shell.execute_reply": "2021-01-28T00:15:06.090443Z"
    },
    "papermill": {
     "duration": 0.087452,
     "end_time": "2021-01-28T00:15:06.091132",
     "exception": false,
     "start_time": "2021-01-28T00:15:06.003680",
     "status": "completed"
    },
    "tags": []
   },
   "outputs": [],
   "source": [
    "#hide\n",
    "mapping = get_mappings(paths['mapping'])"
   ]
  },
  {
   "cell_type": "code",
   "execution_count": 6,
   "id": "certified-tactics",
   "metadata": {
    "execution": {
     "iopub.execute_input": "2021-01-28T00:15:06.165553Z",
     "iopub.status.busy": "2021-01-28T00:15:06.164971Z",
     "iopub.status.idle": "2021-01-28T00:15:06.167087Z",
     "shell.execute_reply": "2021-01-28T00:15:06.166527Z"
    },
    "papermill": {
     "duration": 0.042357,
     "end_time": "2021-01-28T00:15:06.167206",
     "exception": false,
     "start_time": "2021-01-28T00:15:06.124849",
     "status": "completed"
    },
    "tags": []
   },
   "outputs": [],
   "source": [
    "#hide\n",
    "def get_template(path):\n",
    "    from urllib.parse import urlparse\n",
    "    if bool(urlparse(path).netloc):\n",
    "        from urllib.request import urlopen\n",
    "        return urlopen(path).read().decode('utf8')\n",
    "    return open(path).read()"
   ]
  },
  {
   "cell_type": "code",
   "execution_count": 7,
   "id": "realistic-blast",
   "metadata": {
    "execution": {
     "iopub.execute_input": "2021-01-28T00:15:06.239659Z",
     "iopub.status.busy": "2021-01-28T00:15:06.239087Z",
     "iopub.status.idle": "2021-01-28T00:15:06.242272Z",
     "shell.execute_reply": "2021-01-28T00:15:06.241802Z"
    },
    "papermill": {
     "duration": 0.042089,
     "end_time": "2021-01-28T00:15:06.242391",
     "exception": false,
     "start_time": "2021-01-28T00:15:06.200302",
     "status": "completed"
    },
    "tags": []
   },
   "outputs": [],
   "source": [
    "#hide\n",
    "def get_frame(name):\n",
    "    url = (\n",
    "        'https://raw.githubusercontent.com/CSSEGISandData/COVID-19/master/csse_covid_19_data/'\n",
    "        f'csse_covid_19_time_series/time_series_covid19_{name}_global.csv')\n",
    "    df = pd.read_csv(url)\n",
    "    # rename countries\n",
    "    df['Country/Region'] = df['Country/Region'].replace(mapping['replace.country'])\n",
    "    return df"
   ]
  },
  {
   "cell_type": "code",
   "execution_count": 8,
   "id": "affiliated-characterization",
   "metadata": {
    "execution": {
     "iopub.execute_input": "2021-01-28T00:15:06.316878Z",
     "iopub.status.busy": "2021-01-28T00:15:06.316303Z",
     "iopub.status.idle": "2021-01-28T00:15:06.318016Z",
     "shell.execute_reply": "2021-01-28T00:15:06.318484Z"
    },
    "papermill": {
     "duration": 0.041623,
     "end_time": "2021-01-28T00:15:06.318614",
     "exception": false,
     "start_time": "2021-01-28T00:15:06.276991",
     "status": "completed"
    },
    "tags": []
   },
   "outputs": [],
   "source": [
    "#hide\n",
    "def get_dates(df):\n",
    "    dt_cols = df.columns[~df.columns.isin(['Province/State', 'Country/Region', 'Lat', 'Long'])]\n",
    "    LAST_DATE_I = -1\n",
    "    # sometimes last column may be empty, then go backwards\n",
    "    for i in range(-1, -len(dt_cols), -1):\n",
    "        if not df[dt_cols[i]].fillna(0).eq(0).all():\n",
    "            LAST_DATE_I = i\n",
    "            break\n",
    "    return LAST_DATE_I, dt_cols"
   ]
  },
  {
   "cell_type": "code",
   "execution_count": 9,
   "id": "recent-optimization",
   "metadata": {
    "execution": {
     "iopub.execute_input": "2021-01-28T00:15:06.392396Z",
     "iopub.status.busy": "2021-01-28T00:15:06.391423Z",
     "iopub.status.idle": "2021-01-28T00:15:06.721778Z",
     "shell.execute_reply": "2021-01-28T00:15:06.720836Z"
    },
    "papermill": {
     "duration": 0.371195,
     "end_time": "2021-01-28T00:15:06.722006",
     "exception": false,
     "start_time": "2021-01-28T00:15:06.350811",
     "status": "completed"
    },
    "tags": []
   },
   "outputs": [],
   "source": [
    "#hide\n",
    "COL_REGION = 'Country/Region'\n",
    "# Confirmed, Recovered, Deaths\n",
    "df = get_frame('confirmed')\n",
    "# dft_: timeseries, dfc_: today country agg\n",
    "dft_cases = df\n",
    "dft_deaths = get_frame('deaths')\n",
    "dft_recovered = get_frame('recovered')\n",
    "LAST_DATE_I, dt_cols = get_dates(df)"
   ]
  },
  {
   "cell_type": "code",
   "execution_count": 10,
   "id": "absolute-copper",
   "metadata": {
    "execution": {
     "iopub.execute_input": "2021-01-28T00:15:06.800412Z",
     "iopub.status.busy": "2021-01-28T00:15:06.799824Z",
     "iopub.status.idle": "2021-01-28T00:15:06.801017Z",
     "shell.execute_reply": "2021-01-28T00:15:06.801468Z"
    },
    "papermill": {
     "duration": 0.042704,
     "end_time": "2021-01-28T00:15:06.801611",
     "exception": false,
     "start_time": "2021-01-28T00:15:06.758907",
     "status": "completed"
    },
    "tags": []
   },
   "outputs": [],
   "source": [
    "#hide\n",
    "LAST_DATE_I, dt_cols = get_dates(df)\n",
    "dt_today =dt_cols[LAST_DATE_I]\n",
    "# dt_5day = dt_cols[LAST_DATE_I - 5]\n",
    "dt_yday = dt_cols[LAST_DATE_I - 1]"
   ]
  },
  {
   "cell_type": "code",
   "execution_count": 11,
   "id": "restricted-sheriff",
   "metadata": {
    "execution": {
     "iopub.execute_input": "2021-01-28T00:15:06.870865Z",
     "iopub.status.busy": "2021-01-28T00:15:06.870287Z",
     "iopub.status.idle": "2021-01-28T00:15:06.880517Z",
     "shell.execute_reply": "2021-01-28T00:15:06.881016Z"
    },
    "papermill": {
     "duration": 0.046323,
     "end_time": "2021-01-28T00:15:06.881158",
     "exception": false,
     "start_time": "2021-01-28T00:15:06.834835",
     "status": "completed"
    },
    "tags": []
   },
   "outputs": [],
   "source": [
    "#hide\n",
    "dfc_cases = dft_cases.groupby(COL_REGION)[dt_today].sum()\n",
    "dfc_deaths = dft_deaths.groupby(COL_REGION)[dt_today].sum()\n",
    "# dfp_cases = dft_cases.groupby(COL_REGION)[dt_5day].sum()\n",
    "# dfp_deaths = dft_deaths.groupby(COL_REGION)[dt_5day].sum()\n",
    "dfp_cases = dft_cases.groupby(COL_REGION)[dt_yday].sum()\n",
    "dfp_deaths = dft_deaths.groupby(COL_REGION)[dt_yday].sum()"
   ]
  },
  {
   "cell_type": "code",
   "execution_count": 12,
   "id": "deluxe-hepatitis",
   "metadata": {
    "execution": {
     "iopub.execute_input": "2021-01-28T00:15:06.954657Z",
     "iopub.status.busy": "2021-01-28T00:15:06.954076Z",
     "iopub.status.idle": "2021-01-28T00:15:06.959211Z",
     "shell.execute_reply": "2021-01-28T00:15:06.958744Z"
    },
    "papermill": {
     "duration": 0.044538,
     "end_time": "2021-01-28T00:15:06.959336",
     "exception": false,
     "start_time": "2021-01-28T00:15:06.914798",
     "status": "completed"
    },
    "tags": []
   },
   "outputs": [],
   "source": [
    "#hide\n",
    "df_table = (pd.DataFrame(dict(Cases = dfc_cases, Deaths = dfc_deaths, PCases = dfp_cases, PDeaths = dfp_deaths))\n",
    "            .sort_values(by = ['Cases','Deaths'], ascending = [False, False])\n",
    "            .reset_index())"
   ]
  },
  {
   "cell_type": "code",
   "execution_count": 13,
   "id": "educational-chancellor",
   "metadata": {
    "execution": {
     "iopub.execute_input": "2021-01-28T00:15:07.042220Z",
     "iopub.status.busy": "2021-01-28T00:15:07.041593Z",
     "iopub.status.idle": "2021-01-28T00:15:07.059316Z",
     "shell.execute_reply": "2021-01-28T00:15:07.059905Z"
    },
    "papermill": {
     "duration": 0.062518,
     "end_time": "2021-01-28T00:15:07.060092",
     "exception": false,
     "start_time": "2021-01-28T00:15:06.997574",
     "status": "completed"
    },
    "tags": []
   },
   "outputs": [
    {
     "data": {
      "text/html": [
       "<div>\n",
       "<style scoped>\n",
       "    .dataframe tbody tr th:only-of-type {\n",
       "        vertical-align: middle;\n",
       "    }\n",
       "\n",
       "    .dataframe tbody tr th {\n",
       "        vertical-align: top;\n",
       "    }\n",
       "\n",
       "    .dataframe thead th {\n",
       "        text-align: right;\n",
       "    }\n",
       "</style>\n",
       "<table border=\"1\" class=\"dataframe\">\n",
       "  <thead>\n",
       "    <tr style=\"text-align: right;\">\n",
       "      <th></th>\n",
       "      <th>Country/Region</th>\n",
       "      <th>Cases</th>\n",
       "      <th>Deaths</th>\n",
       "      <th>PCases</th>\n",
       "      <th>PDeaths</th>\n",
       "      <th>Cases (+)</th>\n",
       "      <th>Deaths (+)</th>\n",
       "      <th>Fatality Rate</th>\n",
       "      <th>Continent</th>\n",
       "    </tr>\n",
       "  </thead>\n",
       "  <tbody>\n",
       "    <tr>\n",
       "      <th>0</th>\n",
       "      <td>US</td>\n",
       "      <td>25443699</td>\n",
       "      <td>425216</td>\n",
       "      <td>25297059</td>\n",
       "      <td>421129</td>\n",
       "      <td>146640</td>\n",
       "      <td>4087</td>\n",
       "      <td>1.67</td>\n",
       "      <td>North America</td>\n",
       "    </tr>\n",
       "    <tr>\n",
       "      <th>1</th>\n",
       "      <td>India</td>\n",
       "      <td>10689527</td>\n",
       "      <td>153724</td>\n",
       "      <td>10676838</td>\n",
       "      <td>153587</td>\n",
       "      <td>12689</td>\n",
       "      <td>137</td>\n",
       "      <td>1.44</td>\n",
       "      <td>Asia</td>\n",
       "    </tr>\n",
       "    <tr>\n",
       "      <th>2</th>\n",
       "      <td>Brazil</td>\n",
       "      <td>8933356</td>\n",
       "      <td>218878</td>\n",
       "      <td>8871393</td>\n",
       "      <td>217664</td>\n",
       "      <td>61963</td>\n",
       "      <td>1214</td>\n",
       "      <td>2.45</td>\n",
       "      <td>South America</td>\n",
       "    </tr>\n",
       "    <tr>\n",
       "      <th>3</th>\n",
       "      <td>Russia</td>\n",
       "      <td>3716228</td>\n",
       "      <td>69391</td>\n",
       "      <td>3698246</td>\n",
       "      <td>68841</td>\n",
       "      <td>17982</td>\n",
       "      <td>550</td>\n",
       "      <td>1.87</td>\n",
       "      <td>Europe</td>\n",
       "    </tr>\n",
       "    <tr>\n",
       "      <th>4</th>\n",
       "      <td>United Kingdom</td>\n",
       "      <td>3700268</td>\n",
       "      <td>100359</td>\n",
       "      <td>3680101</td>\n",
       "      <td>98723</td>\n",
       "      <td>20167</td>\n",
       "      <td>1636</td>\n",
       "      <td>2.71</td>\n",
       "      <td>Europe</td>\n",
       "    </tr>\n",
       "  </tbody>\n",
       "</table>\n",
       "</div>"
      ],
      "text/plain": [
       "   Country/Region     Cases  Deaths    PCases  PDeaths  Cases (+)  Deaths (+)  \\\n",
       "0              US  25443699  425216  25297059   421129     146640        4087   \n",
       "1           India  10689527  153724  10676838   153587      12689         137   \n",
       "2          Brazil   8933356  218878   8871393   217664      61963        1214   \n",
       "3          Russia   3716228   69391   3698246    68841      17982         550   \n",
       "4  United Kingdom   3700268  100359   3680101    98723      20167        1636   \n",
       "\n",
       "   Fatality Rate      Continent  \n",
       "0           1.67  North America  \n",
       "1           1.44           Asia  \n",
       "2           2.45  South America  \n",
       "3           1.87         Europe  \n",
       "4           2.71         Europe  "
      ]
     },
     "execution_count": 13,
     "metadata": {},
     "output_type": "execute_result"
    }
   ],
   "source": [
    "#hide\n",
    "for c in 'Cases, Deaths'.split(', '):\n",
    "    df_table[f'{c} (+)'] = (df_table[c] - df_table[f'P{c}']).clip(0)\n",
    "    #Clip ça veut dire, les chiffres negatif sont interdit\n",
    "df_table['Fatality Rate'] = (100* df_table['Deaths']/ df_table['Cases']).round(2)\n",
    "df_table['Continent'] = df_table['Country/Region'].map(mapping['map.continent'])\n",
    "df_table.head(5)"
   ]
  },
  {
   "cell_type": "code",
   "execution_count": 14,
   "id": "aboriginal-bulgaria",
   "metadata": {
    "execution": {
     "iopub.execute_input": "2021-01-28T00:15:07.135565Z",
     "iopub.status.busy": "2021-01-28T00:15:07.134986Z",
     "iopub.status.idle": "2021-01-28T00:15:07.137079Z",
     "shell.execute_reply": "2021-01-28T00:15:07.137576Z"
    },
    "papermill": {
     "duration": 0.043303,
     "end_time": "2021-01-28T00:15:07.137742",
     "exception": false,
     "start_time": "2021-01-28T00:15:07.094439",
     "status": "completed"
    },
    "tags": []
   },
   "outputs": [],
   "source": [
    "#hide\n",
    "#delete problematic countries from table\n",
    "df_table = df_table[~df_table['Country/Region'].isin(['Cape Verde', 'Cruise Ship', 'Kosovo'])]"
   ]
  },
  {
   "cell_type": "code",
   "execution_count": 15,
   "id": "fantastic-effect",
   "metadata": {
    "execution": {
     "iopub.execute_input": "2021-01-28T00:15:07.214329Z",
     "iopub.status.busy": "2021-01-28T00:15:07.213732Z",
     "iopub.status.idle": "2021-01-28T00:15:07.233411Z",
     "shell.execute_reply": "2021-01-28T00:15:07.234088Z"
    },
    "papermill": {
     "duration": 0.063349,
     "end_time": "2021-01-28T00:15:07.234275",
     "exception": false,
     "start_time": "2021-01-28T00:15:07.170926",
     "status": "completed"
    },
    "tags": []
   },
   "outputs": [
    {
     "data": {
      "text/html": [
       "<div>\n",
       "<style scoped>\n",
       "    .dataframe tbody tr th:only-of-type {\n",
       "        vertical-align: middle;\n",
       "    }\n",
       "\n",
       "    .dataframe tbody tr th {\n",
       "        vertical-align: top;\n",
       "    }\n",
       "\n",
       "    .dataframe thead th {\n",
       "        text-align: right;\n",
       "    }\n",
       "</style>\n",
       "<table border=\"1\" class=\"dataframe\">\n",
       "  <thead>\n",
       "    <tr style=\"text-align: right;\">\n",
       "      <th></th>\n",
       "      <th>Country/Region</th>\n",
       "      <th>Cases</th>\n",
       "      <th>Deaths</th>\n",
       "      <th>PCases</th>\n",
       "      <th>PDeaths</th>\n",
       "      <th>Cases (+)</th>\n",
       "      <th>Deaths (+)</th>\n",
       "      <th>Fatality Rate</th>\n",
       "      <th>Continent</th>\n",
       "    </tr>\n",
       "  </thead>\n",
       "  <tbody>\n",
       "    <tr>\n",
       "      <th>0</th>\n",
       "      <td>US</td>\n",
       "      <td>25443699</td>\n",
       "      <td>425216</td>\n",
       "      <td>25297059</td>\n",
       "      <td>421129</td>\n",
       "      <td>146640</td>\n",
       "      <td>4087</td>\n",
       "      <td>1.7</td>\n",
       "      <td>North America</td>\n",
       "    </tr>\n",
       "    <tr>\n",
       "      <th>1</th>\n",
       "      <td>India</td>\n",
       "      <td>10689527</td>\n",
       "      <td>153724</td>\n",
       "      <td>10676838</td>\n",
       "      <td>153587</td>\n",
       "      <td>12689</td>\n",
       "      <td>137</td>\n",
       "      <td>1.4</td>\n",
       "      <td>Asia</td>\n",
       "    </tr>\n",
       "    <tr>\n",
       "      <th>2</th>\n",
       "      <td>Brazil</td>\n",
       "      <td>8933356</td>\n",
       "      <td>218878</td>\n",
       "      <td>8871393</td>\n",
       "      <td>217664</td>\n",
       "      <td>61963</td>\n",
       "      <td>1214</td>\n",
       "      <td>2.5</td>\n",
       "      <td>South America</td>\n",
       "    </tr>\n",
       "    <tr>\n",
       "      <th>3</th>\n",
       "      <td>Russia</td>\n",
       "      <td>3716228</td>\n",
       "      <td>69391</td>\n",
       "      <td>3698246</td>\n",
       "      <td>68841</td>\n",
       "      <td>17982</td>\n",
       "      <td>550</td>\n",
       "      <td>1.9</td>\n",
       "      <td>Europe</td>\n",
       "    </tr>\n",
       "    <tr>\n",
       "      <th>4</th>\n",
       "      <td>United Kingdom</td>\n",
       "      <td>3700268</td>\n",
       "      <td>100359</td>\n",
       "      <td>3680101</td>\n",
       "      <td>98723</td>\n",
       "      <td>20167</td>\n",
       "      <td>1636</td>\n",
       "      <td>2.7</td>\n",
       "      <td>Europe</td>\n",
       "    </tr>\n",
       "  </tbody>\n",
       "</table>\n",
       "</div>"
      ],
      "text/plain": [
       "   Country/Region     Cases  Deaths    PCases  PDeaths  Cases (+)  Deaths (+)  \\\n",
       "0              US  25443699  425216  25297059   421129     146640        4087   \n",
       "1           India  10689527  153724  10676838   153587      12689         137   \n",
       "2          Brazil   8933356  218878   8871393   217664      61963        1214   \n",
       "3          Russia   3716228   69391   3698246    68841      17982         550   \n",
       "4  United Kingdom   3700268  100359   3680101    98723      20167        1636   \n",
       "\n",
       "   Fatality Rate      Continent  \n",
       "0            1.7  North America  \n",
       "1            1.4           Asia  \n",
       "2            2.5  South America  \n",
       "3            1.9         Europe  \n",
       "4            2.7         Europe  "
      ]
     },
     "execution_count": 15,
     "metadata": {},
     "output_type": "execute_result"
    }
   ],
   "source": [
    "#hide\n",
    "df_table = (pd.DataFrame(dict(Cases=dfc_cases, Deaths=dfc_deaths, PCases=dfp_cases, PDeaths=dfp_deaths))\n",
    "             .sort_values(by=['Cases', 'Deaths'], ascending=[False, False])\n",
    "             .reset_index())\n",
    "df_table.rename(columns={'index': 'Country/Region'}, inplace=True)\n",
    "for c in 'Cases, Deaths'.split(', '):\n",
    "    df_table[f'{c} (+)'] = (df_table[c] - df_table[f'P{c}']).clip(0)  # DATA BUG\n",
    "df_table['Fatality Rate'] = (100 * df_table['Deaths'] / df_table['Cases']).round(1)\n",
    "df_table['Continent'] = df_table['Country/Region'].map(mapping['map.continent'])\n",
    "df_table.head(5)"
   ]
  },
  {
   "cell_type": "code",
   "execution_count": 16,
   "id": "fewer-occasion",
   "metadata": {
    "execution": {
     "iopub.execute_input": "2021-01-28T00:15:07.308586Z",
     "iopub.status.busy": "2021-01-28T00:15:07.308013Z",
     "iopub.status.idle": "2021-01-28T00:15:07.310164Z",
     "shell.execute_reply": "2021-01-28T00:15:07.310727Z"
    },
    "papermill": {
     "duration": 0.041916,
     "end_time": "2021-01-28T00:15:07.310864",
     "exception": false,
     "start_time": "2021-01-28T00:15:07.268948",
     "status": "completed"
    },
    "tags": []
   },
   "outputs": [],
   "source": [
    "#hide\n",
    "#delete problematic countries from table\n",
    "df_table = df_table[~df_table['Country/Region'].isin(['Cape Verde', 'Cruise Ship', 'Kosovo'])]"
   ]
  },
  {
   "cell_type": "code",
   "execution_count": 17,
   "id": "related-center",
   "metadata": {
    "execution": {
     "iopub.execute_input": "2021-01-28T00:15:07.387539Z",
     "iopub.status.busy": "2021-01-28T00:15:07.386852Z",
     "iopub.status.idle": "2021-01-28T00:15:07.399460Z",
     "shell.execute_reply": "2021-01-28T00:15:07.398958Z"
    },
    "papermill": {
     "duration": 0.055024,
     "end_time": "2021-01-28T00:15:07.399583",
     "exception": false,
     "start_time": "2021-01-28T00:15:07.344559",
     "status": "completed"
    },
    "tags": []
   },
   "outputs": [],
   "source": [
    "#hide\n",
    "metrics = [df_table.columns[index] for index in [1,2,5,6]]\n",
    "# s_china = df_table[df_table['Country/Region'].eq('China')][metrics].sum().add_prefix('China ')\n",
    "s_us = df_table[df_table['Country/Region'].eq('US')][metrics].sum().add_prefix('US ')\n",
    "s_eu = df_table[df_table['Continent'].eq('Europe')][metrics].sum().add_prefix('EU ')\n",
    "s_ind = df_table[df_table['Country/Region'].eq('India')][metrics].sum().add_prefix('India ')\n",
    "summary = {'updated': pd.to_datetime(dt_today), 'since': pd.to_datetime(dt_yday)}\n",
    "summary = {'updated': pd.to_datetime(dt_today), 'since': pd.to_datetime(dt_yday)}\n",
    "summary = {**summary, **df_table[metrics].sum(), **s_ind, **s_us, **s_eu}"
   ]
  },
  {
   "cell_type": "code",
   "execution_count": 18,
   "id": "engaging-syndrome",
   "metadata": {
    "execution": {
     "iopub.execute_input": "2021-01-28T00:15:07.476159Z",
     "iopub.status.busy": "2021-01-28T00:15:07.475585Z",
     "iopub.status.idle": "2021-01-28T00:15:07.488013Z",
     "shell.execute_reply": "2021-01-28T00:15:07.487521Z"
    },
    "papermill": {
     "duration": 0.05345,
     "end_time": "2021-01-28T00:15:07.488136",
     "exception": false,
     "start_time": "2021-01-28T00:15:07.434686",
     "status": "completed"
    },
    "tags": []
   },
   "outputs": [],
   "source": [
    "#hide\n",
    "dft_ct_new_cases = dft_cases.groupby(COL_REGION)[dt_cols].sum().diff(axis=1).fillna(0).astype(int)"
   ]
  },
  {
   "cell_type": "code",
   "execution_count": 19,
   "id": "neutral-assignment",
   "metadata": {
    "execution": {
     "iopub.execute_input": "2021-01-28T00:15:07.563396Z",
     "iopub.status.busy": "2021-01-28T00:15:07.562741Z",
     "iopub.status.idle": "2021-01-28T00:15:07.564922Z",
     "shell.execute_reply": "2021-01-28T00:15:07.564361Z"
    },
    "papermill": {
     "duration": 0.041789,
     "end_time": "2021-01-28T00:15:07.565043",
     "exception": false,
     "start_time": "2021-01-28T00:15:07.523254",
     "status": "completed"
    },
    "tags": []
   },
   "outputs": [],
   "source": [
    "#hide\n",
    "everydaycases = dft_ct_new_cases.cumsum(axis=1)"
   ]
  },
  {
   "cell_type": "code",
   "execution_count": 20,
   "id": "parliamentary-calgary",
   "metadata": {
    "execution": {
     "iopub.execute_input": "2021-01-28T00:15:07.643908Z",
     "iopub.status.busy": "2021-01-28T00:15:07.643330Z",
     "iopub.status.idle": "2021-01-28T00:15:09.536622Z",
     "shell.execute_reply": "2021-01-28T00:15:09.536038Z"
    },
    "papermill": {
     "duration": 1.936845,
     "end_time": "2021-01-28T00:15:09.536765",
     "exception": false,
     "start_time": "2021-01-28T00:15:07.599920",
     "status": "completed"
    },
    "tags": []
   },
   "outputs": [],
   "source": [
    "#hide\n",
    "import pandas as pd\n",
    "import matplotlib.pyplot as plt\n",
    "import matplotlib.ticker as ticker\n",
    "import matplotlib.animation as animation\n",
    "from IPython.display import HTML"
   ]
  },
  {
   "cell_type": "code",
   "execution_count": 21,
   "id": "lasting-extraction",
   "metadata": {
    "execution": {
     "iopub.execute_input": "2021-01-28T00:15:09.615296Z",
     "iopub.status.busy": "2021-01-28T00:15:09.614606Z",
     "iopub.status.idle": "2021-01-28T00:15:09.620334Z",
     "shell.execute_reply": "2021-01-28T00:15:09.620878Z"
    },
    "papermill": {
     "duration": 0.047405,
     "end_time": "2021-01-28T00:15:09.621069",
     "exception": false,
     "start_time": "2021-01-28T00:15:09.573664",
     "status": "completed"
    },
    "tags": []
   },
   "outputs": [],
   "source": [
    "#hide\n",
    "t = everydaycases.stack()"
   ]
  },
  {
   "cell_type": "code",
   "execution_count": 22,
   "id": "premier-sleeve",
   "metadata": {
    "execution": {
     "iopub.execute_input": "2021-01-28T00:15:09.705043Z",
     "iopub.status.busy": "2021-01-28T00:15:09.704468Z",
     "iopub.status.idle": "2021-01-28T00:15:09.713580Z",
     "shell.execute_reply": "2021-01-28T00:15:09.713073Z"
    },
    "papermill": {
     "duration": 0.049272,
     "end_time": "2021-01-28T00:15:09.713741",
     "exception": false,
     "start_time": "2021-01-28T00:15:09.664469",
     "status": "completed"
    },
    "tags": []
   },
   "outputs": [],
   "source": [
    "#hide\n",
    "g = t.reset_index(['Country/Region'])"
   ]
  },
  {
   "cell_type": "code",
   "execution_count": 23,
   "id": "distributed-pittsburgh",
   "metadata": {
    "execution": {
     "iopub.execute_input": "2021-01-28T00:15:09.786687Z",
     "iopub.status.busy": "2021-01-28T00:15:09.786117Z",
     "iopub.status.idle": "2021-01-28T00:15:09.788408Z",
     "shell.execute_reply": "2021-01-28T00:15:09.788959Z"
    },
    "papermill": {
     "duration": 0.041388,
     "end_time": "2021-01-28T00:15:09.789095",
     "exception": false,
     "start_time": "2021-01-28T00:15:09.747707",
     "status": "completed"
    },
    "tags": []
   },
   "outputs": [],
   "source": [
    "#hide\n",
    "g.index.name = 'date'"
   ]
  },
  {
   "cell_type": "code",
   "execution_count": 24,
   "id": "naked-donor",
   "metadata": {
    "execution": {
     "iopub.execute_input": "2021-01-28T00:15:09.861424Z",
     "iopub.status.busy": "2021-01-28T00:15:09.860855Z",
     "iopub.status.idle": "2021-01-28T00:15:09.863066Z",
     "shell.execute_reply": "2021-01-28T00:15:09.862582Z"
    },
    "papermill": {
     "duration": 0.039974,
     "end_time": "2021-01-28T00:15:09.863186",
     "exception": false,
     "start_time": "2021-01-28T00:15:09.823212",
     "status": "completed"
    },
    "tags": []
   },
   "outputs": [],
   "source": [
    "# #hide\n",
    "# g = g.reset_index(['date'])"
   ]
  },
  {
   "cell_type": "code",
   "execution_count": 25,
   "id": "incomplete-mustang",
   "metadata": {
    "execution": {
     "iopub.execute_input": "2021-01-28T00:15:09.934412Z",
     "iopub.status.busy": "2021-01-28T00:15:09.933835Z",
     "iopub.status.idle": "2021-01-28T00:15:09.935936Z",
     "shell.execute_reply": "2021-01-28T00:15:09.936480Z"
    },
    "papermill": {
     "duration": 0.039646,
     "end_time": "2021-01-28T00:15:09.936614",
     "exception": false,
     "start_time": "2021-01-28T00:15:09.896968",
     "status": "completed"
    },
    "tags": []
   },
   "outputs": [],
   "source": [
    "#hide\n",
    "# g.head()"
   ]
  },
  {
   "cell_type": "code",
   "execution_count": 26,
   "id": "specific-kruger",
   "metadata": {
    "execution": {
     "iopub.execute_input": "2021-01-28T00:15:10.009504Z",
     "iopub.status.busy": "2021-01-28T00:15:10.008510Z",
     "iopub.status.idle": "2021-01-28T00:15:10.010606Z",
     "shell.execute_reply": "2021-01-28T00:15:10.011406Z"
    },
    "papermill": {
     "duration": 0.041167,
     "end_time": "2021-01-28T00:15:10.011629",
     "exception": false,
     "start_time": "2021-01-28T00:15:09.970462",
     "status": "completed"
    },
    "tags": []
   },
   "outputs": [],
   "source": [
    "#hide\n",
    "# g.columns = ['date','country','cases']"
   ]
  },
  {
   "cell_type": "code",
   "execution_count": 27,
   "id": "tender-conversion",
   "metadata": {
    "execution": {
     "iopub.execute_input": "2021-01-28T00:15:10.082917Z",
     "iopub.status.busy": "2021-01-28T00:15:10.082340Z",
     "iopub.status.idle": "2021-01-28T00:15:10.084502Z",
     "shell.execute_reply": "2021-01-28T00:15:10.084040Z"
    },
    "papermill": {
     "duration": 0.038888,
     "end_time": "2021-01-28T00:15:10.084622",
     "exception": false,
     "start_time": "2021-01-28T00:15:10.045734",
     "status": "completed"
    },
    "tags": []
   },
   "outputs": [],
   "source": [
    "#hide\n",
    "# g['continent'] = g.country"
   ]
  },
  {
   "cell_type": "code",
   "execution_count": 28,
   "id": "substantial-wilderness",
   "metadata": {
    "execution": {
     "iopub.execute_input": "2021-01-28T00:15:10.157061Z",
     "iopub.status.busy": "2021-01-28T00:15:10.156444Z",
     "iopub.status.idle": "2021-01-28T00:15:10.158749Z",
     "shell.execute_reply": "2021-01-28T00:15:10.159298Z"
    },
    "papermill": {
     "duration": 0.040188,
     "end_time": "2021-01-28T00:15:10.159430",
     "exception": false,
     "start_time": "2021-01-28T00:15:10.119242",
     "status": "completed"
    },
    "tags": []
   },
   "outputs": [],
   "source": [
    "#hide\n",
    "# cols = list(g.columns.values)"
   ]
  },
  {
   "cell_type": "code",
   "execution_count": 29,
   "id": "solved-farming",
   "metadata": {
    "execution": {
     "iopub.execute_input": "2021-01-28T00:15:10.233371Z",
     "iopub.status.busy": "2021-01-28T00:15:10.232802Z",
     "iopub.status.idle": "2021-01-28T00:15:10.234996Z",
     "shell.execute_reply": "2021-01-28T00:15:10.235546Z"
    },
    "papermill": {
     "duration": 0.040982,
     "end_time": "2021-01-28T00:15:10.235677",
     "exception": false,
     "start_time": "2021-01-28T00:15:10.194695",
     "status": "completed"
    },
    "tags": []
   },
   "outputs": [],
   "source": [
    "#hide\n",
    "# cols.insert(0, cols.pop())"
   ]
  },
  {
   "cell_type": "code",
   "execution_count": 30,
   "id": "executed-adoption",
   "metadata": {
    "execution": {
     "iopub.execute_input": "2021-01-28T00:15:10.307619Z",
     "iopub.status.busy": "2021-01-28T00:15:10.307050Z",
     "iopub.status.idle": "2021-01-28T00:15:10.310750Z",
     "shell.execute_reply": "2021-01-28T00:15:10.310293Z"
    },
    "papermill": {
     "duration": 0.041295,
     "end_time": "2021-01-28T00:15:10.310869",
     "exception": false,
     "start_time": "2021-01-28T00:15:10.269574",
     "status": "completed"
    },
    "tags": []
   },
   "outputs": [],
   "source": [
    "#hide\n",
    "# g = g[cols]"
   ]
  },
  {
   "cell_type": "code",
   "execution_count": 31,
   "id": "subject-dublin",
   "metadata": {
    "execution": {
     "iopub.execute_input": "2021-01-28T00:15:10.382723Z",
     "iopub.status.busy": "2021-01-28T00:15:10.382148Z",
     "iopub.status.idle": "2021-01-28T00:15:10.384348Z",
     "shell.execute_reply": "2021-01-28T00:15:10.384895Z"
    },
    "papermill": {
     "duration": 0.040645,
     "end_time": "2021-01-28T00:15:10.385025",
     "exception": false,
     "start_time": "2021-01-28T00:15:10.344380",
     "status": "completed"
    },
    "tags": []
   },
   "outputs": [],
   "source": [
    "#hide\n",
    "# g['continent'] = g['continent'].map(mapping['map.continent'])"
   ]
  },
  {
   "cell_type": "code",
   "execution_count": 32,
   "id": "freelance-scout",
   "metadata": {
    "execution": {
     "iopub.execute_input": "2021-01-28T00:15:10.456824Z",
     "iopub.status.busy": "2021-01-28T00:15:10.456257Z",
     "iopub.status.idle": "2021-01-28T00:15:10.460191Z",
     "shell.execute_reply": "2021-01-28T00:15:10.459729Z"
    },
    "papermill": {
     "duration": 0.041405,
     "end_time": "2021-01-28T00:15:10.460309",
     "exception": false,
     "start_time": "2021-01-28T00:15:10.418904",
     "status": "completed"
    },
    "tags": []
   },
   "outputs": [],
   "source": [
    "#hide\n",
    "# g.head()"
   ]
  },
  {
   "cell_type": "code",
   "execution_count": 33,
   "id": "limited-engine",
   "metadata": {
    "execution": {
     "iopub.execute_input": "2021-01-28T00:15:10.532189Z",
     "iopub.status.busy": "2021-01-28T00:15:10.531622Z",
     "iopub.status.idle": "2021-01-28T00:15:10.534610Z",
     "shell.execute_reply": "2021-01-28T00:15:10.535078Z"
    },
    "papermill": {
     "duration": 0.041099,
     "end_time": "2021-01-28T00:15:10.535208",
     "exception": false,
     "start_time": "2021-01-28T00:15:10.494109",
     "status": "completed"
    },
    "tags": []
   },
   "outputs": [],
   "source": [
    "# hide\n",
    "# g['date'] = g['date'].astype('datetime64[ns]')"
   ]
  },
  {
   "cell_type": "code",
   "execution_count": 34,
   "id": "sophisticated-supervisor",
   "metadata": {
    "execution": {
     "iopub.execute_input": "2021-01-28T00:15:10.606547Z",
     "iopub.status.busy": "2021-01-28T00:15:10.605865Z",
     "iopub.status.idle": "2021-01-28T00:15:10.607348Z",
     "shell.execute_reply": "2021-01-28T00:15:10.607967Z"
    },
    "papermill": {
     "duration": 0.038999,
     "end_time": "2021-01-28T00:15:10.608119",
     "exception": false,
     "start_time": "2021-01-28T00:15:10.569120",
     "status": "completed"
    },
    "tags": []
   },
   "outputs": [],
   "source": [
    "#hide\n",
    "# g['date'] = g.date.dt.dayofyear"
   ]
  },
  {
   "cell_type": "code",
   "execution_count": 35,
   "id": "inside-dubai",
   "metadata": {
    "execution": {
     "iopub.execute_input": "2021-01-28T00:15:10.681638Z",
     "iopub.status.busy": "2021-01-28T00:15:10.681067Z",
     "iopub.status.idle": "2021-01-28T00:15:10.683417Z",
     "shell.execute_reply": "2021-01-28T00:15:10.682931Z"
    },
    "papermill": {
     "duration": 0.040449,
     "end_time": "2021-01-28T00:15:10.683534",
     "exception": false,
     "start_time": "2021-01-28T00:15:10.643085",
     "status": "completed"
    },
    "tags": []
   },
   "outputs": [],
   "source": [
    "#hide\n",
    "# g = g.rename(columns= {'continent':'group','country':'name','cases':'value'})"
   ]
  },
  {
   "cell_type": "code",
   "execution_count": 36,
   "id": "fleet-motorcycle",
   "metadata": {
    "execution": {
     "iopub.execute_input": "2021-01-28T00:15:10.756683Z",
     "iopub.status.busy": "2021-01-28T00:15:10.756149Z",
     "iopub.status.idle": "2021-01-28T00:15:10.759101Z",
     "shell.execute_reply": "2021-01-28T00:15:10.758638Z"
    },
    "papermill": {
     "duration": 0.041556,
     "end_time": "2021-01-28T00:15:10.759223",
     "exception": false,
     "start_time": "2021-01-28T00:15:10.717667",
     "status": "completed"
    },
    "tags": []
   },
   "outputs": [],
   "source": [
    "#hide\n",
    "# cols = ['name','group','day','value']"
   ]
  },
  {
   "cell_type": "code",
   "execution_count": 37,
   "id": "continued-sleeping",
   "metadata": {
    "execution": {
     "iopub.execute_input": "2021-01-28T00:15:10.830873Z",
     "iopub.status.busy": "2021-01-28T00:15:10.830305Z",
     "iopub.status.idle": "2021-01-28T00:15:10.833160Z",
     "shell.execute_reply": "2021-01-28T00:15:10.832700Z"
    },
    "papermill": {
     "duration": 0.040261,
     "end_time": "2021-01-28T00:15:10.833278",
     "exception": false,
     "start_time": "2021-01-28T00:15:10.793017",
     "status": "completed"
    },
    "tags": []
   },
   "outputs": [],
   "source": [
    "#hide\n",
    "# g.rename(columns= {'date':'day'},inplace = True)"
   ]
  },
  {
   "cell_type": "code",
   "execution_count": 38,
   "id": "major-fight",
   "metadata": {
    "execution": {
     "iopub.execute_input": "2021-01-28T00:15:10.906770Z",
     "iopub.status.busy": "2021-01-28T00:15:10.906103Z",
     "iopub.status.idle": "2021-01-28T00:15:10.909006Z",
     "shell.execute_reply": "2021-01-28T00:15:10.908545Z"
    },
    "papermill": {
     "duration": 0.040897,
     "end_time": "2021-01-28T00:15:10.909125",
     "exception": false,
     "start_time": "2021-01-28T00:15:10.868228",
     "status": "completed"
    },
    "tags": []
   },
   "outputs": [],
   "source": [
    "#hide\n",
    "# g = g[cols]"
   ]
  },
  {
   "cell_type": "code",
   "execution_count": 39,
   "id": "structured-mobile",
   "metadata": {
    "execution": {
     "iopub.execute_input": "2021-01-28T00:15:10.984125Z",
     "iopub.status.busy": "2021-01-28T00:15:10.983548Z",
     "iopub.status.idle": "2021-01-28T00:15:10.986112Z",
     "shell.execute_reply": "2021-01-28T00:15:10.985597Z"
    },
    "papermill": {
     "duration": 0.043108,
     "end_time": "2021-01-28T00:15:10.986232",
     "exception": false,
     "start_time": "2021-01-28T00:15:10.943124",
     "status": "completed"
    },
    "tags": []
   },
   "outputs": [],
   "source": [
    "# #hide\n",
    "# g = g[g.group.notna()]"
   ]
  },
  {
   "cell_type": "code",
   "execution_count": 40,
   "id": "determined-closing",
   "metadata": {
    "execution": {
     "iopub.execute_input": "2021-01-28T00:15:11.060157Z",
     "iopub.status.busy": "2021-01-28T00:15:11.059572Z",
     "iopub.status.idle": "2021-01-28T00:15:11.062299Z",
     "shell.execute_reply": "2021-01-28T00:15:11.063102Z"
    },
    "papermill": {
     "duration": 0.042686,
     "end_time": "2021-01-28T00:15:11.063248",
     "exception": false,
     "start_time": "2021-01-28T00:15:11.020562",
     "status": "completed"
    },
    "tags": []
   },
   "outputs": [],
   "source": [
    "# #hide\n",
    "# colors = dict(zip(\n",
    "#     [\"Oceania\", \"Europe\", \"Asia\", \"South America\", \"Middle East\", \"North America\", \"Africa\"],\n",
    "#     [\"#adb0ff\", \"#ffb3ff\", \"#90d595\", \"#e48381\", \"#aafbff\", \"#f7bb5f\", \"#eafb50\"]\n",
    "# ))\n",
    "# group_lk = g.set_index('name')['group'].to_dict()"
   ]
  },
  {
   "cell_type": "code",
   "execution_count": null,
   "id": "gross-drinking",
   "metadata": {
    "papermill": {
     "duration": 0.03487,
     "end_time": "2021-01-28T00:15:11.132784",
     "exception": false,
     "start_time": "2021-01-28T00:15:11.097914",
     "status": "completed"
    },
    "tags": []
   },
   "outputs": [],
   "source": []
  },
  {
   "cell_type": "code",
   "execution_count": 41,
   "id": "subject-macintosh",
   "metadata": {
    "execution": {
     "iopub.execute_input": "2021-01-28T00:15:11.207504Z",
     "iopub.status.busy": "2021-01-28T00:15:11.206905Z",
     "iopub.status.idle": "2021-01-28T00:15:11.208579Z",
     "shell.execute_reply": "2021-01-28T00:15:11.209043Z"
    },
    "papermill": {
     "duration": 0.042237,
     "end_time": "2021-01-28T00:15:11.209180",
     "exception": false,
     "start_time": "2021-01-28T00:15:11.166943",
     "status": "completed"
    },
    "tags": []
   },
   "outputs": [],
   "source": [
    "# #hide\n",
    "# fig, ax = plt.subplots(figsize=(15, 8))\n",
    "\n",
    "# def draw_barchart(current_day):\n",
    "#     dff = g[g['day'].eq(current_day)].sort_values(by='value', ascending=True).tail(10)\n",
    "#     ax.clear()\n",
    "#     ax.barh(dff['name'], dff['value'], color=[colors[group_lk[x]] for x in dff['name']])\n",
    "#     dx = dff['value'].max() / 200\n",
    "    \n",
    "#     for i, (value, name) in enumerate(zip(dff['value'], dff['name'])):\n",
    "#         ax.text(value-dx, i,     name,           size=14, weight=600, ha='right', va='bottom')\n",
    "#         ax.text(value-dx, i-.25, group_lk[name], size=10, color='#444444', ha='right', va='baseline')\n",
    "#         ax.text(value+dx, i,     f'{value:,.0f}',  size=14, ha='left',  va='center')\n",
    "#     ax.text(1, 0.4, current_day, transform=ax.transAxes, color='#777777', size=46, ha='right', weight=800)\n",
    "#     ax.text(0, 1.06, 'Population (thousands)', transform=ax.transAxes, size=12, color='#777777')\n",
    "#     ax.xaxis.set_major_formatter(ticker.StrMethodFormatter('{x:,.0f}'))\n",
    "#     ax.xaxis.set_ticks_position('top')\n",
    "#     ax.tick_params(axis='x', colors='#777777', labelsize=12)\n",
    "#     ax.set_yticks([])\n",
    "#     ax.margins(0, 0.01)\n",
    "#     ax.grid(which='major', axis='x', linestyle='-')\n",
    "#     ax.set_axisbelow(True)\n",
    "    \n",
    "#     ax.text(0, 1.15, 'Coronavirus',\n",
    "#             transform=ax.transAxes, size=24, weight=600, ha='left', va='top')\n",
    "# #     ax.text(1, 0, 'by @pratapvardhan; credit @jburnmurdoch', transform=ax.transAxes, color='#777777', ha='right',\n",
    "# #             bbox=dict(facecolor='white', alpha=0.8, edgecolor='white'))\n",
    "#     plt.box(False)"
   ]
  },
  {
   "cell_type": "code",
   "execution_count": 42,
   "id": "sexual-wages",
   "metadata": {
    "execution": {
     "iopub.execute_input": "2021-01-28T00:15:11.282689Z",
     "iopub.status.busy": "2021-01-28T00:15:11.282113Z",
     "iopub.status.idle": "2021-01-28T00:15:11.284411Z",
     "shell.execute_reply": "2021-01-28T00:15:11.284957Z"
    },
    "papermill": {
     "duration": 0.041056,
     "end_time": "2021-01-28T00:15:11.285090",
     "exception": false,
     "start_time": "2021-01-28T00:15:11.244034",
     "status": "completed"
    },
    "tags": []
   },
   "outputs": [],
   "source": [
    "# #hide_input\n",
    "# fig, ax = plt.subplots(figsize=(15, 8))\n",
    "# animator = animation.FuncAnimation(fig, draw_barchart, frames=range(g.day.values.min(), g.day.values.max()))\n",
    "# HTML(animator.to_jshtml())\n",
    "# # or use animator.to_html5_video() or animator.save() "
   ]
  },
  {
   "cell_type": "code",
   "execution_count": null,
   "id": "australian-container",
   "metadata": {
    "papermill": {
     "duration": 0.034578,
     "end_time": "2021-01-28T00:15:11.354946",
     "exception": false,
     "start_time": "2021-01-28T00:15:11.320368",
     "status": "completed"
    },
    "tags": []
   },
   "outputs": [],
   "source": []
  },
  {
   "cell_type": "code",
   "execution_count": null,
   "id": "mediterranean-pontiac",
   "metadata": {
    "papermill": {
     "duration": 0.034596,
     "end_time": "2021-01-28T00:15:11.425961",
     "exception": false,
     "start_time": "2021-01-28T00:15:11.391365",
     "status": "completed"
    },
    "tags": []
   },
   "outputs": [],
   "source": []
  },
  {
   "cell_type": "code",
   "execution_count": null,
   "id": "aging-legislature",
   "metadata": {
    "papermill": {
     "duration": 0.034067,
     "end_time": "2021-01-28T00:15:11.494491",
     "exception": false,
     "start_time": "2021-01-28T00:15:11.460424",
     "status": "completed"
    },
    "tags": []
   },
   "outputs": [],
   "source": []
  }
 ],
 "metadata": {
  "kernelspec": {
   "display_name": "Python 3",
   "language": "python",
   "name": "python3"
  },
  "language_info": {
   "codemirror_mode": {
    "name": "ipython",
    "version": 3
   },
   "file_extension": ".py",
   "mimetype": "text/x-python",
   "name": "python",
   "nbconvert_exporter": "python",
   "pygments_lexer": "ipython3",
   "version": "3.6.12"
  },
  "papermill": {
   "duration": 7.660221,
   "end_time": "2021-01-28T00:15:11.838135",
   "environment_variables": {},
   "exception": null,
   "input_path": "2020-03-21-covid19exp.ipynb",
   "output_path": "2020-03-21-covid19exp.ipynb",
   "parameters": {},
   "start_time": "2021-01-28T00:15:04.177914",
   "version": "2.0.0"
  }
 },
 "nbformat": 4,
 "nbformat_minor": 5
}