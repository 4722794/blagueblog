{
 "cells": [
  {
   "cell_type": "markdown",
   "id": "muslim-click",
   "metadata": {
    "papermill": {
     "duration": 0.034608,
     "end_time": "2022-01-06T00:27:16.712865",
     "exception": false,
     "start_time": "2022-01-06T00:27:16.678257",
     "status": "completed"
    },
    "tags": []
   },
   "source": [
    "# COVID-19 Case Race\n",
    "> A race chart to see rising cases around the world\n",
    "\n",
    "- author: Hargun Oberoi\n",
    "- image: images/covid-overview.png\n",
    "- hide: false\n",
    "- badges: false"
   ]
  },
  {
   "cell_type": "code",
   "execution_count": 1,
   "id": "proof-material",
   "metadata": {
    "execution": {
     "iopub.execute_input": "2022-01-06T00:27:16.784140Z",
     "iopub.status.busy": "2022-01-06T00:27:16.783611Z",
     "iopub.status.idle": "2022-01-06T00:27:17.111615Z",
     "shell.execute_reply": "2022-01-06T00:27:17.111064Z"
    },
    "papermill": {
     "duration": 0.368522,
     "end_time": "2022-01-06T00:27:17.111781",
     "exception": false,
     "start_time": "2022-01-06T00:27:16.743259",
     "status": "completed"
    },
    "tags": []
   },
   "outputs": [],
   "source": [
    "#hide\n",
    "import numpy as np\n",
    "import pandas as pd\n",
    "from jinja2 import Template\n",
    "from IPython.display import HTML"
   ]
  },
  {
   "cell_type": "code",
   "execution_count": 2,
   "id": "developed-terminology",
   "metadata": {
    "execution": {
     "iopub.execute_input": "2022-01-06T00:27:17.178478Z",
     "iopub.status.busy": "2022-01-06T00:27:17.177854Z",
     "iopub.status.idle": "2022-01-06T00:27:17.180779Z",
     "shell.execute_reply": "2022-01-06T00:27:17.180291Z"
    },
    "papermill": {
     "duration": 0.038702,
     "end_time": "2022-01-06T00:27:17.180902",
     "exception": false,
     "start_time": "2022-01-06T00:27:17.142200",
     "status": "completed"
    },
    "tags": []
   },
   "outputs": [],
   "source": [
    "#hide\n",
    "\n",
    "# FETCH\n",
    "base_url = 'https://raw.githubusercontent.com/pratapvardhan/notebooks/master/covid19/'\n",
    "paths = {\n",
    "    'mapping': base_url + 'mapping_countries.csv',\n",
    "    'overview': base_url + 'overview.tpl'\n",
    "}"
   ]
  },
  {
   "cell_type": "code",
   "execution_count": 3,
   "id": "dynamic-saver",
   "metadata": {
    "execution": {
     "iopub.execute_input": "2022-01-06T00:27:17.251297Z",
     "iopub.status.busy": "2022-01-06T00:27:17.250765Z",
     "iopub.status.idle": "2022-01-06T00:27:17.253763Z",
     "shell.execute_reply": "2022-01-06T00:27:17.253324Z"
    },
    "papermill": {
     "duration": 0.042417,
     "end_time": "2022-01-06T00:27:17.253903",
     "exception": false,
     "start_time": "2022-01-06T00:27:17.211486",
     "status": "completed"
    },
    "tags": []
   },
   "outputs": [
    {
     "data": {
      "text/plain": [
       "'https://raw.githubusercontent.com/pratapvardhan/notebooks/master/covid19/mapping_countries.csv'"
      ]
     },
     "execution_count": 3,
     "metadata": {},
     "output_type": "execute_result"
    }
   ],
   "source": [
    "#hide\n",
    "paths['mapping']"
   ]
  },
  {
   "cell_type": "code",
   "execution_count": 4,
   "id": "urban-software",
   "metadata": {
    "execution": {
     "iopub.execute_input": "2022-01-06T00:27:17.320220Z",
     "iopub.status.busy": "2022-01-06T00:27:17.319648Z",
     "iopub.status.idle": "2022-01-06T00:27:17.322513Z",
     "shell.execute_reply": "2022-01-06T00:27:17.322086Z"
    },
    "papermill": {
     "duration": 0.03831,
     "end_time": "2022-01-06T00:27:17.322636",
     "exception": false,
     "start_time": "2022-01-06T00:27:17.284326",
     "status": "completed"
    },
    "tags": []
   },
   "outputs": [],
   "source": [
    "#hide\n",
    "def get_mappings(url):\n",
    "    df = pd.read_csv(url)\n",
    "    return {\n",
    "        'df': df,\n",
    "        'replace.country': dict(df.dropna(subset=['Name']).set_index('Country')['Name']),\n",
    "        'map.continent': dict(df.set_index('Name')['Continent'])\n",
    "    }"
   ]
  },
  {
   "cell_type": "code",
   "execution_count": 5,
   "id": "intimate-machinery",
   "metadata": {
    "execution": {
     "iopub.execute_input": "2022-01-06T00:27:17.389329Z",
     "iopub.status.busy": "2022-01-06T00:27:17.388780Z",
     "iopub.status.idle": "2022-01-06T00:27:17.461409Z",
     "shell.execute_reply": "2022-01-06T00:27:17.460878Z"
    },
    "papermill": {
     "duration": 0.108452,
     "end_time": "2022-01-06T00:27:17.461553",
     "exception": false,
     "start_time": "2022-01-06T00:27:17.353101",
     "status": "completed"
    },
    "tags": []
   },
   "outputs": [],
   "source": [
    "#hide\n",
    "mapping = get_mappings(paths['mapping'])"
   ]
  },
  {
   "cell_type": "code",
   "execution_count": 6,
   "id": "certified-tactics",
   "metadata": {
    "execution": {
     "iopub.execute_input": "2022-01-06T00:27:17.529239Z",
     "iopub.status.busy": "2022-01-06T00:27:17.528594Z",
     "iopub.status.idle": "2022-01-06T00:27:17.530017Z",
     "shell.execute_reply": "2022-01-06T00:27:17.530554Z"
    },
    "papermill": {
     "duration": 0.037642,
     "end_time": "2022-01-06T00:27:17.530685",
     "exception": false,
     "start_time": "2022-01-06T00:27:17.493043",
     "status": "completed"
    },
    "tags": []
   },
   "outputs": [],
   "source": [
    "#hide\n",
    "def get_template(path):\n",
    "    from urllib.parse import urlparse\n",
    "    if bool(urlparse(path).netloc):\n",
    "        from urllib.request import urlopen\n",
    "        return urlopen(path).read().decode('utf8')\n",
    "    return open(path).read()"
   ]
  },
  {
   "cell_type": "code",
   "execution_count": 7,
   "id": "realistic-blast",
   "metadata": {
    "execution": {
     "iopub.execute_input": "2022-01-06T00:27:17.596350Z",
     "iopub.status.busy": "2022-01-06T00:27:17.595741Z",
     "iopub.status.idle": "2022-01-06T00:27:17.599187Z",
     "shell.execute_reply": "2022-01-06T00:27:17.599627Z"
    },
    "papermill": {
     "duration": 0.038971,
     "end_time": "2022-01-06T00:27:17.599775",
     "exception": false,
     "start_time": "2022-01-06T00:27:17.560804",
     "status": "completed"
    },
    "tags": []
   },
   "outputs": [],
   "source": [
    "#hide\n",
    "def get_frame(name):\n",
    "    url = (\n",
    "        'https://raw.githubusercontent.com/CSSEGISandData/COVID-19/master/csse_covid_19_data/'\n",
    "        f'csse_covid_19_time_series/time_series_covid19_{name}_global.csv')\n",
    "    df = pd.read_csv(url)\n",
    "    # rename countries\n",
    "    df['Country/Region'] = df['Country/Region'].replace(mapping['replace.country'])\n",
    "    return df"
   ]
  },
  {
   "cell_type": "code",
   "execution_count": 8,
   "id": "affiliated-characterization",
   "metadata": {
    "execution": {
     "iopub.execute_input": "2022-01-06T00:27:17.666523Z",
     "iopub.status.busy": "2022-01-06T00:27:17.665978Z",
     "iopub.status.idle": "2022-01-06T00:27:17.667918Z",
     "shell.execute_reply": "2022-01-06T00:27:17.667410Z"
    },
    "papermill": {
     "duration": 0.037784,
     "end_time": "2022-01-06T00:27:17.668031",
     "exception": false,
     "start_time": "2022-01-06T00:27:17.630247",
     "status": "completed"
    },
    "tags": []
   },
   "outputs": [],
   "source": [
    "#hide\n",
    "def get_dates(df):\n",
    "    dt_cols = df.columns[~df.columns.isin(['Province/State', 'Country/Region', 'Lat', 'Long'])]\n",
    "    LAST_DATE_I = -1\n",
    "    # sometimes last column may be empty, then go backwards\n",
    "    for i in range(-1, -len(dt_cols), -1):\n",
    "        if not df[dt_cols[i]].fillna(0).eq(0).all():\n",
    "            LAST_DATE_I = i\n",
    "            break\n",
    "    return LAST_DATE_I, dt_cols"
   ]
  },
  {
   "cell_type": "code",
   "execution_count": 9,
   "id": "recent-optimization",
   "metadata": {
    "execution": {
     "iopub.execute_input": "2022-01-06T00:27:17.733566Z",
     "iopub.status.busy": "2022-01-06T00:27:17.733030Z",
     "iopub.status.idle": "2022-01-06T00:27:18.297117Z",
     "shell.execute_reply": "2022-01-06T00:27:18.297621Z"
    },
    "papermill": {
     "duration": 0.599795,
     "end_time": "2022-01-06T00:27:18.297779",
     "exception": false,
     "start_time": "2022-01-06T00:27:17.697984",
     "status": "completed"
    },
    "tags": []
   },
   "outputs": [],
   "source": [
    "#hide\n",
    "COL_REGION = 'Country/Region'\n",
    "# Confirmed, Recovered, Deaths\n",
    "df = get_frame('confirmed')\n",
    "# dft_: timeseries, dfc_: today country agg\n",
    "dft_cases = df\n",
    "dft_deaths = get_frame('deaths')\n",
    "dft_recovered = get_frame('recovered')\n",
    "LAST_DATE_I, dt_cols = get_dates(df)"
   ]
  },
  {
   "cell_type": "code",
   "execution_count": 10,
   "id": "absolute-copper",
   "metadata": {
    "execution": {
     "iopub.execute_input": "2022-01-06T00:27:18.364941Z",
     "iopub.status.busy": "2022-01-06T00:27:18.364351Z",
     "iopub.status.idle": "2022-01-06T00:27:18.368382Z",
     "shell.execute_reply": "2022-01-06T00:27:18.367730Z"
    },
    "papermill": {
     "duration": 0.040174,
     "end_time": "2022-01-06T00:27:18.368612",
     "exception": false,
     "start_time": "2022-01-06T00:27:18.328438",
     "status": "completed"
    },
    "tags": []
   },
   "outputs": [],
   "source": [
    "#hide\n",
    "LAST_DATE_I, dt_cols = get_dates(df)\n",
    "dt_today =dt_cols[LAST_DATE_I]\n",
    "# dt_5day = dt_cols[LAST_DATE_I - 5]\n",
    "dt_yday = dt_cols[LAST_DATE_I - 1]"
   ]
  },
  {
   "cell_type": "code",
   "execution_count": 11,
   "id": "restricted-sheriff",
   "metadata": {
    "execution": {
     "iopub.execute_input": "2022-01-06T00:27:18.436757Z",
     "iopub.status.busy": "2022-01-06T00:27:18.436186Z",
     "iopub.status.idle": "2022-01-06T00:27:18.441843Z",
     "shell.execute_reply": "2022-01-06T00:27:18.441384Z"
    },
    "papermill": {
     "duration": 0.043309,
     "end_time": "2022-01-06T00:27:18.441972",
     "exception": false,
     "start_time": "2022-01-06T00:27:18.398663",
     "status": "completed"
    },
    "tags": []
   },
   "outputs": [],
   "source": [
    "#hide\n",
    "dfc_cases = dft_cases.groupby(COL_REGION)[dt_today].sum()\n",
    "dfc_deaths = dft_deaths.groupby(COL_REGION)[dt_today].sum()\n",
    "# dfp_cases = dft_cases.groupby(COL_REGION)[dt_5day].sum()\n",
    "# dfp_deaths = dft_deaths.groupby(COL_REGION)[dt_5day].sum()\n",
    "dfp_cases = dft_cases.groupby(COL_REGION)[dt_yday].sum()\n",
    "dfp_deaths = dft_deaths.groupby(COL_REGION)[dt_yday].sum()"
   ]
  },
  {
   "cell_type": "code",
   "execution_count": 12,
   "id": "deluxe-hepatitis",
   "metadata": {
    "execution": {
     "iopub.execute_input": "2022-01-06T00:27:18.509490Z",
     "iopub.status.busy": "2022-01-06T00:27:18.508941Z",
     "iopub.status.idle": "2022-01-06T00:27:18.513136Z",
     "shell.execute_reply": "2022-01-06T00:27:18.512701Z"
    },
    "papermill": {
     "duration": 0.040973,
     "end_time": "2022-01-06T00:27:18.513271",
     "exception": false,
     "start_time": "2022-01-06T00:27:18.472298",
     "status": "completed"
    },
    "tags": []
   },
   "outputs": [],
   "source": [
    "#hide\n",
    "df_table = (pd.DataFrame(dict(Cases = dfc_cases, Deaths = dfc_deaths, PCases = dfp_cases, PDeaths = dfp_deaths))\n",
    "            .sort_values(by = ['Cases','Deaths'], ascending = [False, False])\n",
    "            .reset_index())"
   ]
  },
  {
   "cell_type": "code",
   "execution_count": 13,
   "id": "educational-chancellor",
   "metadata": {
    "execution": {
     "iopub.execute_input": "2022-01-06T00:27:18.595503Z",
     "iopub.status.busy": "2022-01-06T00:27:18.591092Z",
     "iopub.status.idle": "2022-01-06T00:27:18.598562Z",
     "shell.execute_reply": "2022-01-06T00:27:18.598143Z"
    },
    "papermill": {
     "duration": 0.055369,
     "end_time": "2022-01-06T00:27:18.598678",
     "exception": false,
     "start_time": "2022-01-06T00:27:18.543309",
     "status": "completed"
    },
    "tags": []
   },
   "outputs": [
    {
     "data": {
      "text/html": [
       "<div>\n",
       "<style scoped>\n",
       "    .dataframe tbody tr th:only-of-type {\n",
       "        vertical-align: middle;\n",
       "    }\n",
       "\n",
       "    .dataframe tbody tr th {\n",
       "        vertical-align: top;\n",
       "    }\n",
       "\n",
       "    .dataframe thead th {\n",
       "        text-align: right;\n",
       "    }\n",
       "</style>\n",
       "<table border=\"1\" class=\"dataframe\">\n",
       "  <thead>\n",
       "    <tr style=\"text-align: right;\">\n",
       "      <th></th>\n",
       "      <th>Country/Region</th>\n",
       "      <th>Cases</th>\n",
       "      <th>Deaths</th>\n",
       "      <th>PCases</th>\n",
       "      <th>PDeaths</th>\n",
       "      <th>Cases (+)</th>\n",
       "      <th>Deaths (+)</th>\n",
       "      <th>Fatality Rate</th>\n",
       "      <th>Continent</th>\n",
       "    </tr>\n",
       "  </thead>\n",
       "  <tbody>\n",
       "    <tr>\n",
       "      <th>0</th>\n",
       "      <td>US</td>\n",
       "      <td>57058734</td>\n",
       "      <td>830132</td>\n",
       "      <td>56189547</td>\n",
       "      <td>827748</td>\n",
       "      <td>869187</td>\n",
       "      <td>2384</td>\n",
       "      <td>1.45</td>\n",
       "      <td>North America</td>\n",
       "    </tr>\n",
       "    <tr>\n",
       "      <th>1</th>\n",
       "      <td>India</td>\n",
       "      <td>35018358</td>\n",
       "      <td>482551</td>\n",
       "      <td>34960261</td>\n",
       "      <td>482017</td>\n",
       "      <td>58097</td>\n",
       "      <td>534</td>\n",
       "      <td>1.38</td>\n",
       "      <td>Asia</td>\n",
       "    </tr>\n",
       "    <tr>\n",
       "      <th>2</th>\n",
       "      <td>Brazil</td>\n",
       "      <td>22328252</td>\n",
       "      <td>619654</td>\n",
       "      <td>22309081</td>\n",
       "      <td>619473</td>\n",
       "      <td>19171</td>\n",
       "      <td>181</td>\n",
       "      <td>2.78</td>\n",
       "      <td>South America</td>\n",
       "    </tr>\n",
       "    <tr>\n",
       "      <th>3</th>\n",
       "      <td>United Kingdom</td>\n",
       "      <td>13723275</td>\n",
       "      <td>149417</td>\n",
       "      <td>13497515</td>\n",
       "      <td>149367</td>\n",
       "      <td>225760</td>\n",
       "      <td>50</td>\n",
       "      <td>1.09</td>\n",
       "      <td>Europe</td>\n",
       "    </tr>\n",
       "    <tr>\n",
       "      <th>4</th>\n",
       "      <td>France</td>\n",
       "      <td>10694804</td>\n",
       "      <td>125551</td>\n",
       "      <td>10422830</td>\n",
       "      <td>125200</td>\n",
       "      <td>271974</td>\n",
       "      <td>351</td>\n",
       "      <td>1.17</td>\n",
       "      <td>Europe</td>\n",
       "    </tr>\n",
       "  </tbody>\n",
       "</table>\n",
       "</div>"
      ],
      "text/plain": [
       "   Country/Region     Cases  Deaths    PCases  PDeaths  Cases (+)  Deaths (+)  \\\n",
       "0              US  57058734  830132  56189547   827748     869187        2384   \n",
       "1           India  35018358  482551  34960261   482017      58097         534   \n",
       "2          Brazil  22328252  619654  22309081   619473      19171         181   \n",
       "3  United Kingdom  13723275  149417  13497515   149367     225760          50   \n",
       "4          France  10694804  125551  10422830   125200     271974         351   \n",
       "\n",
       "   Fatality Rate      Continent  \n",
       "0           1.45  North America  \n",
       "1           1.38           Asia  \n",
       "2           2.78  South America  \n",
       "3           1.09         Europe  \n",
       "4           1.17         Europe  "
      ]
     },
     "execution_count": 13,
     "metadata": {},
     "output_type": "execute_result"
    }
   ],
   "source": [
    "#hide\n",
    "for c in 'Cases, Deaths'.split(', '):\n",
    "    df_table[f'{c} (+)'] = (df_table[c] - df_table[f'P{c}']).clip(0)\n",
    "    #Clip ça veut dire, les chiffres negatif sont interdit\n",
    "df_table['Fatality Rate'] = (100* df_table['Deaths']/ df_table['Cases']).round(2)\n",
    "df_table['Continent'] = df_table['Country/Region'].map(mapping['map.continent'])\n",
    "df_table.head(5)"
   ]
  },
  {
   "cell_type": "code",
   "execution_count": 14,
   "id": "aboriginal-bulgaria",
   "metadata": {
    "execution": {
     "iopub.execute_input": "2022-01-06T00:27:18.667293Z",
     "iopub.status.busy": "2022-01-06T00:27:18.666746Z",
     "iopub.status.idle": "2022-01-06T00:27:18.668818Z",
     "shell.execute_reply": "2022-01-06T00:27:18.668291Z"
    },
    "papermill": {
     "duration": 0.039589,
     "end_time": "2022-01-06T00:27:18.668932",
     "exception": false,
     "start_time": "2022-01-06T00:27:18.629343",
     "status": "completed"
    },
    "tags": []
   },
   "outputs": [],
   "source": [
    "#hide\n",
    "#delete problematic countries from table\n",
    "df_table = df_table[~df_table['Country/Region'].isin(['Cape Verde', 'Cruise Ship', 'Kosovo'])]"
   ]
  },
  {
   "cell_type": "code",
   "execution_count": 15,
   "id": "fantastic-effect",
   "metadata": {
    "execution": {
     "iopub.execute_input": "2022-01-06T00:27:18.738438Z",
     "iopub.status.busy": "2022-01-06T00:27:18.737827Z",
     "iopub.status.idle": "2022-01-06T00:27:18.755338Z",
     "shell.execute_reply": "2022-01-06T00:27:18.754870Z"
    },
    "papermill": {
     "duration": 0.056139,
     "end_time": "2022-01-06T00:27:18.755458",
     "exception": false,
     "start_time": "2022-01-06T00:27:18.699319",
     "status": "completed"
    },
    "tags": []
   },
   "outputs": [
    {
     "data": {
      "text/html": [
       "<div>\n",
       "<style scoped>\n",
       "    .dataframe tbody tr th:only-of-type {\n",
       "        vertical-align: middle;\n",
       "    }\n",
       "\n",
       "    .dataframe tbody tr th {\n",
       "        vertical-align: top;\n",
       "    }\n",
       "\n",
       "    .dataframe thead th {\n",
       "        text-align: right;\n",
       "    }\n",
       "</style>\n",
       "<table border=\"1\" class=\"dataframe\">\n",
       "  <thead>\n",
       "    <tr style=\"text-align: right;\">\n",
       "      <th></th>\n",
       "      <th>Country/Region</th>\n",
       "      <th>Cases</th>\n",
       "      <th>Deaths</th>\n",
       "      <th>PCases</th>\n",
       "      <th>PDeaths</th>\n",
       "      <th>Cases (+)</th>\n",
       "      <th>Deaths (+)</th>\n",
       "      <th>Fatality Rate</th>\n",
       "      <th>Continent</th>\n",
       "    </tr>\n",
       "  </thead>\n",
       "  <tbody>\n",
       "    <tr>\n",
       "      <th>0</th>\n",
       "      <td>US</td>\n",
       "      <td>57058734</td>\n",
       "      <td>830132</td>\n",
       "      <td>56189547</td>\n",
       "      <td>827748</td>\n",
       "      <td>869187</td>\n",
       "      <td>2384</td>\n",
       "      <td>1.5</td>\n",
       "      <td>North America</td>\n",
       "    </tr>\n",
       "    <tr>\n",
       "      <th>1</th>\n",
       "      <td>India</td>\n",
       "      <td>35018358</td>\n",
       "      <td>482551</td>\n",
       "      <td>34960261</td>\n",
       "      <td>482017</td>\n",
       "      <td>58097</td>\n",
       "      <td>534</td>\n",
       "      <td>1.4</td>\n",
       "      <td>Asia</td>\n",
       "    </tr>\n",
       "    <tr>\n",
       "      <th>2</th>\n",
       "      <td>Brazil</td>\n",
       "      <td>22328252</td>\n",
       "      <td>619654</td>\n",
       "      <td>22309081</td>\n",
       "      <td>619473</td>\n",
       "      <td>19171</td>\n",
       "      <td>181</td>\n",
       "      <td>2.8</td>\n",
       "      <td>South America</td>\n",
       "    </tr>\n",
       "    <tr>\n",
       "      <th>3</th>\n",
       "      <td>United Kingdom</td>\n",
       "      <td>13723275</td>\n",
       "      <td>149417</td>\n",
       "      <td>13497515</td>\n",
       "      <td>149367</td>\n",
       "      <td>225760</td>\n",
       "      <td>50</td>\n",
       "      <td>1.1</td>\n",
       "      <td>Europe</td>\n",
       "    </tr>\n",
       "    <tr>\n",
       "      <th>4</th>\n",
       "      <td>France</td>\n",
       "      <td>10694804</td>\n",
       "      <td>125551</td>\n",
       "      <td>10422830</td>\n",
       "      <td>125200</td>\n",
       "      <td>271974</td>\n",
       "      <td>351</td>\n",
       "      <td>1.2</td>\n",
       "      <td>Europe</td>\n",
       "    </tr>\n",
       "  </tbody>\n",
       "</table>\n",
       "</div>"
      ],
      "text/plain": [
       "   Country/Region     Cases  Deaths    PCases  PDeaths  Cases (+)  Deaths (+)  \\\n",
       "0              US  57058734  830132  56189547   827748     869187        2384   \n",
       "1           India  35018358  482551  34960261   482017      58097         534   \n",
       "2          Brazil  22328252  619654  22309081   619473      19171         181   \n",
       "3  United Kingdom  13723275  149417  13497515   149367     225760          50   \n",
       "4          France  10694804  125551  10422830   125200     271974         351   \n",
       "\n",
       "   Fatality Rate      Continent  \n",
       "0            1.5  North America  \n",
       "1            1.4           Asia  \n",
       "2            2.8  South America  \n",
       "3            1.1         Europe  \n",
       "4            1.2         Europe  "
      ]
     },
     "execution_count": 15,
     "metadata": {},
     "output_type": "execute_result"
    }
   ],
   "source": [
    "#hide\n",
    "df_table = (pd.DataFrame(dict(Cases=dfc_cases, Deaths=dfc_deaths, PCases=dfp_cases, PDeaths=dfp_deaths))\n",
    "             .sort_values(by=['Cases', 'Deaths'], ascending=[False, False])\n",
    "             .reset_index())\n",
    "df_table.rename(columns={'index': 'Country/Region'}, inplace=True)\n",
    "for c in 'Cases, Deaths'.split(', '):\n",
    "    df_table[f'{c} (+)'] = (df_table[c] - df_table[f'P{c}']).clip(0)  # DATA BUG\n",
    "df_table['Fatality Rate'] = (100 * df_table['Deaths'] / df_table['Cases']).round(1)\n",
    "df_table['Continent'] = df_table['Country/Region'].map(mapping['map.continent'])\n",
    "df_table.head(5)"
   ]
  },
  {
   "cell_type": "code",
   "execution_count": 16,
   "id": "fewer-occasion",
   "metadata": {
    "execution": {
     "iopub.execute_input": "2022-01-06T00:27:18.823645Z",
     "iopub.status.busy": "2022-01-06T00:27:18.823054Z",
     "iopub.status.idle": "2022-01-06T00:27:18.824774Z",
     "shell.execute_reply": "2022-01-06T00:27:18.825161Z"
    },
    "papermill": {
     "duration": 0.038342,
     "end_time": "2022-01-06T00:27:18.825292",
     "exception": false,
     "start_time": "2022-01-06T00:27:18.786950",
     "status": "completed"
    },
    "tags": []
   },
   "outputs": [],
   "source": [
    "#hide\n",
    "#delete problematic countries from table\n",
    "df_table = df_table[~df_table['Country/Region'].isin(['Cape Verde', 'Cruise Ship', 'Kosovo'])]"
   ]
  },
  {
   "cell_type": "code",
   "execution_count": 17,
   "id": "related-center",
   "metadata": {
    "execution": {
     "iopub.execute_input": "2022-01-06T00:27:18.889990Z",
     "iopub.status.busy": "2022-01-06T00:27:18.889425Z",
     "iopub.status.idle": "2022-01-06T00:27:18.906826Z",
     "shell.execute_reply": "2022-01-06T00:27:18.906417Z"
    },
    "papermill": {
     "duration": 0.050431,
     "end_time": "2022-01-06T00:27:18.907011",
     "exception": false,
     "start_time": "2022-01-06T00:27:18.856580",
     "status": "completed"
    },
    "tags": []
   },
   "outputs": [],
   "source": [
    "#hide\n",
    "metrics = [df_table.columns[index] for index in [1,2,5,6]]\n",
    "# s_china = df_table[df_table['Country/Region'].eq('China')][metrics].sum().add_prefix('China ')\n",
    "s_us = df_table[df_table['Country/Region'].eq('US')][metrics].sum().add_prefix('US ')\n",
    "s_eu = df_table[df_table['Continent'].eq('Europe')][metrics].sum().add_prefix('EU ')\n",
    "s_ind = df_table[df_table['Country/Region'].eq('India')][metrics].sum().add_prefix('India ')\n",
    "summary = {'updated': pd.to_datetime(dt_today), 'since': pd.to_datetime(dt_yday)}\n",
    "summary = {'updated': pd.to_datetime(dt_today), 'since': pd.to_datetime(dt_yday)}\n",
    "summary = {**summary, **df_table[metrics].sum(), **s_ind, **s_us, **s_eu}"
   ]
  },
  {
   "cell_type": "code",
   "execution_count": 18,
   "id": "engaging-syndrome",
   "metadata": {
    "execution": {
     "iopub.execute_input": "2022-01-06T00:27:18.974154Z",
     "iopub.status.busy": "2022-01-06T00:27:18.973606Z",
     "iopub.status.idle": "2022-01-06T00:27:18.987499Z",
     "shell.execute_reply": "2022-01-06T00:27:18.987082Z"
    },
    "papermill": {
     "duration": 0.049382,
     "end_time": "2022-01-06T00:27:18.987618",
     "exception": false,
     "start_time": "2022-01-06T00:27:18.938236",
     "status": "completed"
    },
    "tags": []
   },
   "outputs": [],
   "source": [
    "#hide\n",
    "dft_ct_new_cases = dft_cases.groupby(COL_REGION)[dt_cols].sum().diff(axis=1).fillna(0).astype(int)"
   ]
  },
  {
   "cell_type": "code",
   "execution_count": 19,
   "id": "neutral-assignment",
   "metadata": {
    "execution": {
     "iopub.execute_input": "2022-01-06T00:27:19.056106Z",
     "iopub.status.busy": "2022-01-06T00:27:19.055515Z",
     "iopub.status.idle": "2022-01-06T00:27:19.057164Z",
     "shell.execute_reply": "2022-01-06T00:27:19.057547Z"
    },
    "papermill": {
     "duration": 0.039159,
     "end_time": "2022-01-06T00:27:19.057676",
     "exception": false,
     "start_time": "2022-01-06T00:27:19.018517",
     "status": "completed"
    },
    "tags": []
   },
   "outputs": [],
   "source": [
    "#hide\n",
    "everydaycases = dft_ct_new_cases.cumsum(axis=1)"
   ]
  },
  {
   "cell_type": "code",
   "execution_count": 20,
   "id": "parliamentary-calgary",
   "metadata": {
    "execution": {
     "iopub.execute_input": "2022-01-06T00:27:19.124511Z",
     "iopub.status.busy": "2022-01-06T00:27:19.123986Z",
     "iopub.status.idle": "2022-01-06T00:27:19.773826Z",
     "shell.execute_reply": "2022-01-06T00:27:19.773256Z"
    },
    "papermill": {
     "duration": 0.685313,
     "end_time": "2022-01-06T00:27:19.773986",
     "exception": false,
     "start_time": "2022-01-06T00:27:19.088673",
     "status": "completed"
    },
    "tags": []
   },
   "outputs": [],
   "source": [
    "#hide\n",
    "import pandas as pd\n",
    "import matplotlib.pyplot as plt\n",
    "import matplotlib.ticker as ticker\n",
    "import matplotlib.animation as animation\n",
    "from IPython.display import HTML"
   ]
  },
  {
   "cell_type": "code",
   "execution_count": 21,
   "id": "lasting-extraction",
   "metadata": {
    "execution": {
     "iopub.execute_input": "2022-01-06T00:27:19.842462Z",
     "iopub.status.busy": "2022-01-06T00:27:19.841933Z",
     "iopub.status.idle": "2022-01-06T00:27:19.847956Z",
     "shell.execute_reply": "2022-01-06T00:27:19.847545Z"
    },
    "papermill": {
     "duration": 0.042594,
     "end_time": "2022-01-06T00:27:19.848071",
     "exception": false,
     "start_time": "2022-01-06T00:27:19.805477",
     "status": "completed"
    },
    "tags": []
   },
   "outputs": [],
   "source": [
    "#hide\n",
    "t = everydaycases.stack()"
   ]
  },
  {
   "cell_type": "code",
   "execution_count": 22,
   "id": "premier-sleeve",
   "metadata": {
    "execution": {
     "iopub.execute_input": "2022-01-06T00:27:19.914728Z",
     "iopub.status.busy": "2022-01-06T00:27:19.914198Z",
     "iopub.status.idle": "2022-01-06T00:27:19.924700Z",
     "shell.execute_reply": "2022-01-06T00:27:19.924255Z"
    },
    "papermill": {
     "duration": 0.045707,
     "end_time": "2022-01-06T00:27:19.924815",
     "exception": false,
     "start_time": "2022-01-06T00:27:19.879108",
     "status": "completed"
    },
    "tags": []
   },
   "outputs": [],
   "source": [
    "#hide\n",
    "g = t.reset_index(['Country/Region'])"
   ]
  },
  {
   "cell_type": "code",
   "execution_count": 23,
   "id": "distributed-pittsburgh",
   "metadata": {
    "execution": {
     "iopub.execute_input": "2022-01-06T00:27:19.990747Z",
     "iopub.status.busy": "2022-01-06T00:27:19.990236Z",
     "iopub.status.idle": "2022-01-06T00:27:19.992262Z",
     "shell.execute_reply": "2022-01-06T00:27:19.992744Z"
    },
    "papermill": {
     "duration": 0.037175,
     "end_time": "2022-01-06T00:27:19.992871",
     "exception": false,
     "start_time": "2022-01-06T00:27:19.955696",
     "status": "completed"
    },
    "tags": []
   },
   "outputs": [],
   "source": [
    "#hide\n",
    "g.index.name = 'date'"
   ]
  },
  {
   "cell_type": "code",
   "execution_count": 24,
   "id": "naked-donor",
   "metadata": {
    "execution": {
     "iopub.execute_input": "2022-01-06T00:27:20.059461Z",
     "iopub.status.busy": "2022-01-06T00:27:20.058855Z",
     "iopub.status.idle": "2022-01-06T00:27:20.062909Z",
     "shell.execute_reply": "2022-01-06T00:27:20.062438Z"
    },
    "papermill": {
     "duration": 0.039138,
     "end_time": "2022-01-06T00:27:20.063035",
     "exception": false,
     "start_time": "2022-01-06T00:27:20.023897",
     "status": "completed"
    },
    "tags": []
   },
   "outputs": [],
   "source": [
    "# #hide\n",
    "# g = g.reset_index(['date'])"
   ]
  },
  {
   "cell_type": "code",
   "execution_count": 25,
   "id": "incomplete-mustang",
   "metadata": {
    "execution": {
     "iopub.execute_input": "2022-01-06T00:27:20.128440Z",
     "iopub.status.busy": "2022-01-06T00:27:20.127843Z",
     "iopub.status.idle": "2022-01-06T00:27:20.130013Z",
     "shell.execute_reply": "2022-01-06T00:27:20.129495Z"
    },
    "papermill": {
     "duration": 0.036469,
     "end_time": "2022-01-06T00:27:20.130139",
     "exception": false,
     "start_time": "2022-01-06T00:27:20.093670",
     "status": "completed"
    },
    "tags": []
   },
   "outputs": [],
   "source": [
    "#hide\n",
    "# g.head()"
   ]
  },
  {
   "cell_type": "code",
   "execution_count": 26,
   "id": "specific-kruger",
   "metadata": {
    "execution": {
     "iopub.execute_input": "2022-01-06T00:27:20.196335Z",
     "iopub.status.busy": "2022-01-06T00:27:20.195811Z",
     "iopub.status.idle": "2022-01-06T00:27:20.199165Z",
     "shell.execute_reply": "2022-01-06T00:27:20.198712Z"
    },
    "papermill": {
     "duration": 0.037653,
     "end_time": "2022-01-06T00:27:20.199274",
     "exception": false,
     "start_time": "2022-01-06T00:27:20.161621",
     "status": "completed"
    },
    "tags": []
   },
   "outputs": [],
   "source": [
    "#hide\n",
    "# g.columns = ['date','country','cases']"
   ]
  },
  {
   "cell_type": "code",
   "execution_count": 27,
   "id": "tender-conversion",
   "metadata": {
    "execution": {
     "iopub.execute_input": "2022-01-06T00:27:20.264786Z",
     "iopub.status.busy": "2022-01-06T00:27:20.264192Z",
     "iopub.status.idle": "2022-01-06T00:27:20.265726Z",
     "shell.execute_reply": "2022-01-06T00:27:20.266203Z"
    },
    "papermill": {
     "duration": 0.036357,
     "end_time": "2022-01-06T00:27:20.266334",
     "exception": false,
     "start_time": "2022-01-06T00:27:20.229977",
     "status": "completed"
    },
    "tags": []
   },
   "outputs": [],
   "source": [
    "#hide\n",
    "# g['continent'] = g.country"
   ]
  },
  {
   "cell_type": "code",
   "execution_count": 28,
   "id": "substantial-wilderness",
   "metadata": {
    "execution": {
     "iopub.execute_input": "2022-01-06T00:27:20.332480Z",
     "iopub.status.busy": "2022-01-06T00:27:20.331874Z",
     "iopub.status.idle": "2022-01-06T00:27:20.335377Z",
     "shell.execute_reply": "2022-01-06T00:27:20.335822Z"
    },
    "papermill": {
     "duration": 0.038767,
     "end_time": "2022-01-06T00:27:20.335973",
     "exception": false,
     "start_time": "2022-01-06T00:27:20.297206",
     "status": "completed"
    },
    "tags": []
   },
   "outputs": [],
   "source": [
    "#hide\n",
    "# cols = list(g.columns.values)"
   ]
  },
  {
   "cell_type": "code",
   "execution_count": 29,
   "id": "solved-farming",
   "metadata": {
    "execution": {
     "iopub.execute_input": "2022-01-06T00:27:20.402138Z",
     "iopub.status.busy": "2022-01-06T00:27:20.401522Z",
     "iopub.status.idle": "2022-01-06T00:27:20.403719Z",
     "shell.execute_reply": "2022-01-06T00:27:20.403229Z"
    },
    "papermill": {
     "duration": 0.036337,
     "end_time": "2022-01-06T00:27:20.403843",
     "exception": false,
     "start_time": "2022-01-06T00:27:20.367506",
     "status": "completed"
    },
    "tags": []
   },
   "outputs": [],
   "source": [
    "#hide\n",
    "# cols.insert(0, cols.pop())"
   ]
  },
  {
   "cell_type": "code",
   "execution_count": 30,
   "id": "executed-adoption",
   "metadata": {
    "execution": {
     "iopub.execute_input": "2022-01-06T00:27:20.470691Z",
     "iopub.status.busy": "2022-01-06T00:27:20.470155Z",
     "iopub.status.idle": "2022-01-06T00:27:20.472094Z",
     "shell.execute_reply": "2022-01-06T00:27:20.471591Z"
    },
    "papermill": {
     "duration": 0.036438,
     "end_time": "2022-01-06T00:27:20.472204",
     "exception": false,
     "start_time": "2022-01-06T00:27:20.435766",
     "status": "completed"
    },
    "tags": []
   },
   "outputs": [],
   "source": [
    "#hide\n",
    "# g = g[cols]"
   ]
  },
  {
   "cell_type": "code",
   "execution_count": 31,
   "id": "subject-dublin",
   "metadata": {
    "execution": {
     "iopub.execute_input": "2022-01-06T00:27:20.538057Z",
     "iopub.status.busy": "2022-01-06T00:27:20.537409Z",
     "iopub.status.idle": "2022-01-06T00:27:20.538893Z",
     "shell.execute_reply": "2022-01-06T00:27:20.539356Z"
    },
    "papermill": {
     "duration": 0.036327,
     "end_time": "2022-01-06T00:27:20.539498",
     "exception": false,
     "start_time": "2022-01-06T00:27:20.503171",
     "status": "completed"
    },
    "tags": []
   },
   "outputs": [],
   "source": [
    "#hide\n",
    "# g['continent'] = g['continent'].map(mapping['map.continent'])"
   ]
  },
  {
   "cell_type": "code",
   "execution_count": 32,
   "id": "freelance-scout",
   "metadata": {
    "execution": {
     "iopub.execute_input": "2022-01-06T00:27:20.605807Z",
     "iopub.status.busy": "2022-01-06T00:27:20.605191Z",
     "iopub.status.idle": "2022-01-06T00:27:20.606655Z",
     "shell.execute_reply": "2022-01-06T00:27:20.607149Z"
    },
    "papermill": {
     "duration": 0.036485,
     "end_time": "2022-01-06T00:27:20.607298",
     "exception": false,
     "start_time": "2022-01-06T00:27:20.570813",
     "status": "completed"
    },
    "tags": []
   },
   "outputs": [],
   "source": [
    "#hide\n",
    "# g.head()"
   ]
  },
  {
   "cell_type": "code",
   "execution_count": 33,
   "id": "limited-engine",
   "metadata": {
    "execution": {
     "iopub.execute_input": "2022-01-06T00:27:20.674398Z",
     "iopub.status.busy": "2022-01-06T00:27:20.673756Z",
     "iopub.status.idle": "2022-01-06T00:27:20.676668Z",
     "shell.execute_reply": "2022-01-06T00:27:20.676247Z"
    },
    "papermill": {
     "duration": 0.037535,
     "end_time": "2022-01-06T00:27:20.676789",
     "exception": false,
     "start_time": "2022-01-06T00:27:20.639254",
     "status": "completed"
    },
    "tags": []
   },
   "outputs": [],
   "source": [
    "# hide\n",
    "# g['date'] = g['date'].astype('datetime64[ns]')"
   ]
  },
  {
   "cell_type": "code",
   "execution_count": 34,
   "id": "sophisticated-supervisor",
   "metadata": {
    "execution": {
     "iopub.execute_input": "2022-01-06T00:27:20.743506Z",
     "iopub.status.busy": "2022-01-06T00:27:20.742899Z",
     "iopub.status.idle": "2022-01-06T00:27:20.744302Z",
     "shell.execute_reply": "2022-01-06T00:27:20.744792Z"
    },
    "papermill": {
     "duration": 0.036754,
     "end_time": "2022-01-06T00:27:20.744938",
     "exception": false,
     "start_time": "2022-01-06T00:27:20.708184",
     "status": "completed"
    },
    "tags": []
   },
   "outputs": [],
   "source": [
    "#hide\n",
    "# g['date'] = g.date.dt.dayofyear"
   ]
  },
  {
   "cell_type": "code",
   "execution_count": 35,
   "id": "inside-dubai",
   "metadata": {
    "execution": {
     "iopub.execute_input": "2022-01-06T00:27:20.811272Z",
     "iopub.status.busy": "2022-01-06T00:27:20.810670Z",
     "iopub.status.idle": "2022-01-06T00:27:20.812201Z",
     "shell.execute_reply": "2022-01-06T00:27:20.812638Z"
    },
    "papermill": {
     "duration": 0.03675,
     "end_time": "2022-01-06T00:27:20.812787",
     "exception": false,
     "start_time": "2022-01-06T00:27:20.776037",
     "status": "completed"
    },
    "tags": []
   },
   "outputs": [],
   "source": [
    "#hide\n",
    "# g = g.rename(columns= {'continent':'group','country':'name','cases':'value'})"
   ]
  },
  {
   "cell_type": "code",
   "execution_count": 36,
   "id": "fleet-motorcycle",
   "metadata": {
    "execution": {
     "iopub.execute_input": "2022-01-06T00:27:20.879972Z",
     "iopub.status.busy": "2022-01-06T00:27:20.879431Z",
     "iopub.status.idle": "2022-01-06T00:27:20.882630Z",
     "shell.execute_reply": "2022-01-06T00:27:20.883015Z"
    },
    "papermill": {
     "duration": 0.038494,
     "end_time": "2022-01-06T00:27:20.883150",
     "exception": false,
     "start_time": "2022-01-06T00:27:20.844656",
     "status": "completed"
    },
    "tags": []
   },
   "outputs": [],
   "source": [
    "#hide\n",
    "# cols = ['name','group','day','value']"
   ]
  },
  {
   "cell_type": "code",
   "execution_count": 37,
   "id": "continued-sleeping",
   "metadata": {
    "execution": {
     "iopub.execute_input": "2022-01-06T00:27:20.949090Z",
     "iopub.status.busy": "2022-01-06T00:27:20.948499Z",
     "iopub.status.idle": "2022-01-06T00:27:20.950629Z",
     "shell.execute_reply": "2022-01-06T00:27:20.950138Z"
    },
    "papermill": {
     "duration": 0.036602,
     "end_time": "2022-01-06T00:27:20.950750",
     "exception": false,
     "start_time": "2022-01-06T00:27:20.914148",
     "status": "completed"
    },
    "tags": []
   },
   "outputs": [],
   "source": [
    "#hide\n",
    "# g.rename(columns= {'date':'day'},inplace = True)"
   ]
  },
  {
   "cell_type": "code",
   "execution_count": 38,
   "id": "major-fight",
   "metadata": {
    "execution": {
     "iopub.execute_input": "2022-01-06T00:27:21.016494Z",
     "iopub.status.busy": "2022-01-06T00:27:21.015910Z",
     "iopub.status.idle": "2022-01-06T00:27:21.017449Z",
     "shell.execute_reply": "2022-01-06T00:27:21.017909Z"
    },
    "papermill": {
     "duration": 0.036332,
     "end_time": "2022-01-06T00:27:21.018053",
     "exception": false,
     "start_time": "2022-01-06T00:27:20.981721",
     "status": "completed"
    },
    "tags": []
   },
   "outputs": [],
   "source": [
    "#hide\n",
    "# g = g[cols]"
   ]
  },
  {
   "cell_type": "code",
   "execution_count": 39,
   "id": "structured-mobile",
   "metadata": {
    "execution": {
     "iopub.execute_input": "2022-01-06T00:27:21.085118Z",
     "iopub.status.busy": "2022-01-06T00:27:21.084571Z",
     "iopub.status.idle": "2022-01-06T00:27:21.088211Z",
     "shell.execute_reply": "2022-01-06T00:27:21.087797Z"
    },
    "papermill": {
     "duration": 0.038919,
     "end_time": "2022-01-06T00:27:21.088326",
     "exception": false,
     "start_time": "2022-01-06T00:27:21.049407",
     "status": "completed"
    },
    "tags": []
   },
   "outputs": [],
   "source": [
    "# #hide\n",
    "# g = g[g.group.notna()]"
   ]
  },
  {
   "cell_type": "code",
   "execution_count": 40,
   "id": "determined-closing",
   "metadata": {
    "execution": {
     "iopub.execute_input": "2022-01-06T00:27:21.154513Z",
     "iopub.status.busy": "2022-01-06T00:27:21.153898Z",
     "iopub.status.idle": "2022-01-06T00:27:21.155769Z",
     "shell.execute_reply": "2022-01-06T00:27:21.155268Z"
    },
    "papermill": {
     "duration": 0.036499,
     "end_time": "2022-01-06T00:27:21.155881",
     "exception": false,
     "start_time": "2022-01-06T00:27:21.119382",
     "status": "completed"
    },
    "tags": []
   },
   "outputs": [],
   "source": [
    "# #hide\n",
    "# colors = dict(zip(\n",
    "#     [\"Oceania\", \"Europe\", \"Asia\", \"South America\", \"Middle East\", \"North America\", \"Africa\"],\n",
    "#     [\"#adb0ff\", \"#ffb3ff\", \"#90d595\", \"#e48381\", \"#aafbff\", \"#f7bb5f\", \"#eafb50\"]\n",
    "# ))\n",
    "# group_lk = g.set_index('name')['group'].to_dict()"
   ]
  },
  {
   "cell_type": "code",
   "execution_count": null,
   "id": "gross-drinking",
   "metadata": {
    "papermill": {
     "duration": 0.030938,
     "end_time": "2022-01-06T00:27:21.217748",
     "exception": false,
     "start_time": "2022-01-06T00:27:21.186810",
     "status": "completed"
    },
    "tags": []
   },
   "outputs": [],
   "source": []
  },
  {
   "cell_type": "code",
   "execution_count": 41,
   "id": "subject-macintosh",
   "metadata": {
    "execution": {
     "iopub.execute_input": "2022-01-06T00:27:21.284403Z",
     "iopub.status.busy": "2022-01-06T00:27:21.283785Z",
     "iopub.status.idle": "2022-01-06T00:27:21.285314Z",
     "shell.execute_reply": "2022-01-06T00:27:21.285748Z"
    },
    "papermill": {
     "duration": 0.03723,
     "end_time": "2022-01-06T00:27:21.285916",
     "exception": false,
     "start_time": "2022-01-06T00:27:21.248686",
     "status": "completed"
    },
    "tags": []
   },
   "outputs": [],
   "source": [
    "# #hide\n",
    "# fig, ax = plt.subplots(figsize=(15, 8))\n",
    "\n",
    "# def draw_barchart(current_day):\n",
    "#     dff = g[g['day'].eq(current_day)].sort_values(by='value', ascending=True).tail(10)\n",
    "#     ax.clear()\n",
    "#     ax.barh(dff['name'], dff['value'], color=[colors[group_lk[x]] for x in dff['name']])\n",
    "#     dx = dff['value'].max() / 200\n",
    "    \n",
    "#     for i, (value, name) in enumerate(zip(dff['value'], dff['name'])):\n",
    "#         ax.text(value-dx, i,     name,           size=14, weight=600, ha='right', va='bottom')\n",
    "#         ax.text(value-dx, i-.25, group_lk[name], size=10, color='#444444', ha='right', va='baseline')\n",
    "#         ax.text(value+dx, i,     f'{value:,.0f}',  size=14, ha='left',  va='center')\n",
    "#     ax.text(1, 0.4, current_day, transform=ax.transAxes, color='#777777', size=46, ha='right', weight=800)\n",
    "#     ax.text(0, 1.06, 'Population (thousands)', transform=ax.transAxes, size=12, color='#777777')\n",
    "#     ax.xaxis.set_major_formatter(ticker.StrMethodFormatter('{x:,.0f}'))\n",
    "#     ax.xaxis.set_ticks_position('top')\n",
    "#     ax.tick_params(axis='x', colors='#777777', labelsize=12)\n",
    "#     ax.set_yticks([])\n",
    "#     ax.margins(0, 0.01)\n",
    "#     ax.grid(which='major', axis='x', linestyle='-')\n",
    "#     ax.set_axisbelow(True)\n",
    "    \n",
    "#     ax.text(0, 1.15, 'Coronavirus',\n",
    "#             transform=ax.transAxes, size=24, weight=600, ha='left', va='top')\n",
    "# #     ax.text(1, 0, 'by @pratapvardhan; credit @jburnmurdoch', transform=ax.transAxes, color='#777777', ha='right',\n",
    "# #             bbox=dict(facecolor='white', alpha=0.8, edgecolor='white'))\n",
    "#     plt.box(False)"
   ]
  },
  {
   "cell_type": "code",
   "execution_count": 42,
   "id": "sexual-wages",
   "metadata": {
    "execution": {
     "iopub.execute_input": "2022-01-06T00:27:21.351846Z",
     "iopub.status.busy": "2022-01-06T00:27:21.351237Z",
     "iopub.status.idle": "2022-01-06T00:27:21.352684Z",
     "shell.execute_reply": "2022-01-06T00:27:21.353174Z"
    },
    "papermill": {
     "duration": 0.036428,
     "end_time": "2022-01-06T00:27:21.353321",
     "exception": false,
     "start_time": "2022-01-06T00:27:21.316893",
     "status": "completed"
    },
    "tags": []
   },
   "outputs": [],
   "source": [
    "# #hide_input\n",
    "# fig, ax = plt.subplots(figsize=(15, 8))\n",
    "# animator = animation.FuncAnimation(fig, draw_barchart, frames=range(g.day.values.min(), g.day.values.max()))\n",
    "# HTML(animator.to_jshtml())\n",
    "# # or use animator.to_html5_video() or animator.save() "
   ]
  },
  {
   "cell_type": "code",
   "execution_count": null,
   "id": "australian-container",
   "metadata": {
    "papermill": {
     "duration": 0.030671,
     "end_time": "2022-01-06T00:27:21.415649",
     "exception": false,
     "start_time": "2022-01-06T00:27:21.384978",
     "status": "completed"
    },
    "tags": []
   },
   "outputs": [],
   "source": []
  },
  {
   "cell_type": "code",
   "execution_count": null,
   "id": "mediterranean-pontiac",
   "metadata": {
    "papermill": {
     "duration": 0.030843,
     "end_time": "2022-01-06T00:27:21.477134",
     "exception": false,
     "start_time": "2022-01-06T00:27:21.446291",
     "status": "completed"
    },
    "tags": []
   },
   "outputs": [],
   "source": []
  },
  {
   "cell_type": "code",
   "execution_count": null,
   "id": "aging-legislature",
   "metadata": {
    "papermill": {
     "duration": 0.030644,
     "end_time": "2022-01-06T00:27:21.538756",
     "exception": false,
     "start_time": "2022-01-06T00:27:21.508112",
     "status": "completed"
    },
    "tags": []
   },
   "outputs": [],
   "source": []
  }
 ],
 "metadata": {
  "kernelspec": {
   "display_name": "Python 3",
   "language": "python",
   "name": "python3"
  },
  "language_info": {
   "codemirror_mode": {
    "name": "ipython",
    "version": 3
   },
   "file_extension": ".py",
   "mimetype": "text/x-python",
   "name": "python",
   "nbconvert_exporter": "python",
   "pygments_lexer": "ipython3",
   "version": "3.6.15"
  },
  "papermill": {
   "duration": 6.238909,
   "end_time": "2022-01-06T00:27:21.978201",
   "environment_variables": {},
   "exception": null,
   "input_path": "2020-03-21-covid19exp.ipynb",
   "output_path": "2020-03-21-covid19exp.ipynb",
   "parameters": {},
   "start_time": "2022-01-06T00:27:15.739292",
   "version": "2.0.0"
  }
 },
 "nbformat": 4,
 "nbformat_minor": 5
}