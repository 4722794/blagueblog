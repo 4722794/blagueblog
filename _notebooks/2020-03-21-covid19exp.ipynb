{
 "cells": [
  {
   "cell_type": "markdown",
   "id": "muslim-click",
   "metadata": {
    "papermill": {
     "duration": 0.039118,
     "end_time": "2021-02-13T12:07:35.531991",
     "exception": false,
     "start_time": "2021-02-13T12:07:35.492873",
     "status": "completed"
    },
    "tags": []
   },
   "source": [
    "# COVID-19 Case Race\n",
    "> A race chart to see rising cases around the world\n",
    "\n",
    "- author: Hargun Oberoi\n",
    "- image: images/covid-overview.png\n",
    "- hide: false\n",
    "- badges: false"
   ]
  },
  {
   "cell_type": "code",
   "execution_count": 1,
   "id": "proof-material",
   "metadata": {
    "execution": {
     "iopub.execute_input": "2021-02-13T12:07:35.616102Z",
     "iopub.status.busy": "2021-02-13T12:07:35.615448Z",
     "iopub.status.idle": "2021-02-13T12:07:35.963056Z",
     "shell.execute_reply": "2021-02-13T12:07:35.962496Z"
    },
    "papermill": {
     "duration": 0.394901,
     "end_time": "2021-02-13T12:07:35.963211",
     "exception": false,
     "start_time": "2021-02-13T12:07:35.568310",
     "status": "completed"
    },
    "tags": []
   },
   "outputs": [],
   "source": [
    "#hide\n",
    "import numpy as np\n",
    "import pandas as pd\n",
    "from jinja2 import Template\n",
    "from IPython.display import HTML"
   ]
  },
  {
   "cell_type": "code",
   "execution_count": 2,
   "id": "developed-terminology",
   "metadata": {
    "execution": {
     "iopub.execute_input": "2021-02-13T12:07:36.041596Z",
     "iopub.status.busy": "2021-02-13T12:07:36.040967Z",
     "iopub.status.idle": "2021-02-13T12:07:36.043406Z",
     "shell.execute_reply": "2021-02-13T12:07:36.043984Z"
    },
    "papermill": {
     "duration": 0.043581,
     "end_time": "2021-02-13T12:07:36.044130",
     "exception": false,
     "start_time": "2021-02-13T12:07:36.000549",
     "status": "completed"
    },
    "tags": []
   },
   "outputs": [],
   "source": [
    "#hide\n",
    "\n",
    "# FETCH\n",
    "base_url = 'https://raw.githubusercontent.com/pratapvardhan/notebooks/master/covid19/'\n",
    "paths = {\n",
    "    'mapping': base_url + 'mapping_countries.csv',\n",
    "    'overview': base_url + 'overview.tpl'\n",
    "}"
   ]
  },
  {
   "cell_type": "code",
   "execution_count": 3,
   "id": "dynamic-saver",
   "metadata": {
    "execution": {
     "iopub.execute_input": "2021-02-13T12:07:36.125071Z",
     "iopub.status.busy": "2021-02-13T12:07:36.124436Z",
     "iopub.status.idle": "2021-02-13T12:07:36.127953Z",
     "shell.execute_reply": "2021-02-13T12:07:36.127434Z"
    },
    "papermill": {
     "duration": 0.04989,
     "end_time": "2021-02-13T12:07:36.128080",
     "exception": false,
     "start_time": "2021-02-13T12:07:36.078190",
     "status": "completed"
    },
    "tags": []
   },
   "outputs": [
    {
     "data": {
      "text/plain": [
       "'https://raw.githubusercontent.com/pratapvardhan/notebooks/master/covid19/mapping_countries.csv'"
      ]
     },
     "execution_count": 3,
     "metadata": {},
     "output_type": "execute_result"
    }
   ],
   "source": [
    "#hide\n",
    "paths['mapping']"
   ]
  },
  {
   "cell_type": "code",
   "execution_count": 4,
   "id": "urban-software",
   "metadata": {
    "execution": {
     "iopub.execute_input": "2021-02-13T12:07:36.205234Z",
     "iopub.status.busy": "2021-02-13T12:07:36.204597Z",
     "iopub.status.idle": "2021-02-13T12:07:36.207177Z",
     "shell.execute_reply": "2021-02-13T12:07:36.206653Z"
    },
    "papermill": {
     "duration": 0.044481,
     "end_time": "2021-02-13T12:07:36.207303",
     "exception": false,
     "start_time": "2021-02-13T12:07:36.162822",
     "status": "completed"
    },
    "tags": []
   },
   "outputs": [],
   "source": [
    "#hide\n",
    "def get_mappings(url):\n",
    "    df = pd.read_csv(url)\n",
    "    return {\n",
    "        'df': df,\n",
    "        'replace.country': dict(df.dropna(subset=['Name']).set_index('Country')['Name']),\n",
    "        'map.continent': dict(df.set_index('Name')['Continent'])\n",
    "    }"
   ]
  },
  {
   "cell_type": "code",
   "execution_count": 5,
   "id": "intimate-machinery",
   "metadata": {
    "execution": {
     "iopub.execute_input": "2021-02-13T12:07:36.284453Z",
     "iopub.status.busy": "2021-02-13T12:07:36.283833Z",
     "iopub.status.idle": "2021-02-13T12:07:36.314231Z",
     "shell.execute_reply": "2021-02-13T12:07:36.313477Z"
    },
    "papermill": {
     "duration": 0.072472,
     "end_time": "2021-02-13T12:07:36.314402",
     "exception": false,
     "start_time": "2021-02-13T12:07:36.241930",
     "status": "completed"
    },
    "tags": []
   },
   "outputs": [],
   "source": [
    "#hide\n",
    "mapping = get_mappings(paths['mapping'])"
   ]
  },
  {
   "cell_type": "code",
   "execution_count": 6,
   "id": "certified-tactics",
   "metadata": {
    "execution": {
     "iopub.execute_input": "2021-02-13T12:07:36.390810Z",
     "iopub.status.busy": "2021-02-13T12:07:36.390187Z",
     "iopub.status.idle": "2021-02-13T12:07:36.391946Z",
     "shell.execute_reply": "2021-02-13T12:07:36.392407Z"
    },
    "papermill": {
     "duration": 0.043012,
     "end_time": "2021-02-13T12:07:36.392559",
     "exception": false,
     "start_time": "2021-02-13T12:07:36.349547",
     "status": "completed"
    },
    "tags": []
   },
   "outputs": [],
   "source": [
    "#hide\n",
    "def get_template(path):\n",
    "    from urllib.parse import urlparse\n",
    "    if bool(urlparse(path).netloc):\n",
    "        from urllib.request import urlopen\n",
    "        return urlopen(path).read().decode('utf8')\n",
    "    return open(path).read()"
   ]
  },
  {
   "cell_type": "code",
   "execution_count": 7,
   "id": "realistic-blast",
   "metadata": {
    "execution": {
     "iopub.execute_input": "2021-02-13T12:07:36.469191Z",
     "iopub.status.busy": "2021-02-13T12:07:36.468558Z",
     "iopub.status.idle": "2021-02-13T12:07:36.470526Z",
     "shell.execute_reply": "2021-02-13T12:07:36.471018Z"
    },
    "papermill": {
     "duration": 0.043988,
     "end_time": "2021-02-13T12:07:36.471165",
     "exception": false,
     "start_time": "2021-02-13T12:07:36.427177",
     "status": "completed"
    },
    "tags": []
   },
   "outputs": [],
   "source": [
    "#hide\n",
    "def get_frame(name):\n",
    "    url = (\n",
    "        'https://raw.githubusercontent.com/CSSEGISandData/COVID-19/master/csse_covid_19_data/'\n",
    "        f'csse_covid_19_time_series/time_series_covid19_{name}_global.csv')\n",
    "    df = pd.read_csv(url)\n",
    "    # rename countries\n",
    "    df['Country/Region'] = df['Country/Region'].replace(mapping['replace.country'])\n",
    "    return df"
   ]
  },
  {
   "cell_type": "code",
   "execution_count": 8,
   "id": "affiliated-characterization",
   "metadata": {
    "execution": {
     "iopub.execute_input": "2021-02-13T12:07:36.549828Z",
     "iopub.status.busy": "2021-02-13T12:07:36.549173Z",
     "iopub.status.idle": "2021-02-13T12:07:36.551791Z",
     "shell.execute_reply": "2021-02-13T12:07:36.551299Z"
    },
    "papermill": {
     "duration": 0.046127,
     "end_time": "2021-02-13T12:07:36.551923",
     "exception": false,
     "start_time": "2021-02-13T12:07:36.505796",
     "status": "completed"
    },
    "tags": []
   },
   "outputs": [],
   "source": [
    "#hide\n",
    "def get_dates(df):\n",
    "    dt_cols = df.columns[~df.columns.isin(['Province/State', 'Country/Region', 'Lat', 'Long'])]\n",
    "    LAST_DATE_I = -1\n",
    "    # sometimes last column may be empty, then go backwards\n",
    "    for i in range(-1, -len(dt_cols), -1):\n",
    "        if not df[dt_cols[i]].fillna(0).eq(0).all():\n",
    "            LAST_DATE_I = i\n",
    "            break\n",
    "    return LAST_DATE_I, dt_cols"
   ]
  },
  {
   "cell_type": "code",
   "execution_count": 9,
   "id": "recent-optimization",
   "metadata": {
    "execution": {
     "iopub.execute_input": "2021-02-13T12:07:36.627077Z",
     "iopub.status.busy": "2021-02-13T12:07:36.626449Z",
     "iopub.status.idle": "2021-02-13T12:07:36.870427Z",
     "shell.execute_reply": "2021-02-13T12:07:36.869255Z"
    },
    "papermill": {
     "duration": 0.284156,
     "end_time": "2021-02-13T12:07:36.870574",
     "exception": false,
     "start_time": "2021-02-13T12:07:36.586418",
     "status": "completed"
    },
    "tags": []
   },
   "outputs": [],
   "source": [
    "#hide\n",
    "COL_REGION = 'Country/Region'\n",
    "# Confirmed, Recovered, Deaths\n",
    "df = get_frame('confirmed')\n",
    "# dft_: timeseries, dfc_: today country agg\n",
    "dft_cases = df\n",
    "dft_deaths = get_frame('deaths')\n",
    "dft_recovered = get_frame('recovered')\n",
    "LAST_DATE_I, dt_cols = get_dates(df)"
   ]
  },
  {
   "cell_type": "code",
   "execution_count": 10,
   "id": "absolute-copper",
   "metadata": {
    "execution": {
     "iopub.execute_input": "2021-02-13T12:07:36.946035Z",
     "iopub.status.busy": "2021-02-13T12:07:36.945391Z",
     "iopub.status.idle": "2021-02-13T12:07:36.947797Z",
     "shell.execute_reply": "2021-02-13T12:07:36.948288Z"
    },
    "papermill": {
     "duration": 0.043041,
     "end_time": "2021-02-13T12:07:36.948434",
     "exception": false,
     "start_time": "2021-02-13T12:07:36.905393",
     "status": "completed"
    },
    "tags": []
   },
   "outputs": [],
   "source": [
    "#hide\n",
    "LAST_DATE_I, dt_cols = get_dates(df)\n",
    "dt_today =dt_cols[LAST_DATE_I]\n",
    "# dt_5day = dt_cols[LAST_DATE_I - 5]\n",
    "dt_yday = dt_cols[LAST_DATE_I - 1]"
   ]
  },
  {
   "cell_type": "code",
   "execution_count": 11,
   "id": "restricted-sheriff",
   "metadata": {
    "execution": {
     "iopub.execute_input": "2021-02-13T12:07:37.024099Z",
     "iopub.status.busy": "2021-02-13T12:07:37.023481Z",
     "iopub.status.idle": "2021-02-13T12:07:37.031909Z",
     "shell.execute_reply": "2021-02-13T12:07:37.031383Z"
    },
    "papermill": {
     "duration": 0.049346,
     "end_time": "2021-02-13T12:07:37.032036",
     "exception": false,
     "start_time": "2021-02-13T12:07:36.982690",
     "status": "completed"
    },
    "tags": []
   },
   "outputs": [],
   "source": [
    "#hide\n",
    "dfc_cases = dft_cases.groupby(COL_REGION)[dt_today].sum()\n",
    "dfc_deaths = dft_deaths.groupby(COL_REGION)[dt_today].sum()\n",
    "# dfp_cases = dft_cases.groupby(COL_REGION)[dt_5day].sum()\n",
    "# dfp_deaths = dft_deaths.groupby(COL_REGION)[dt_5day].sum()\n",
    "dfp_cases = dft_cases.groupby(COL_REGION)[dt_yday].sum()\n",
    "dfp_deaths = dft_deaths.groupby(COL_REGION)[dt_yday].sum()"
   ]
  },
  {
   "cell_type": "code",
   "execution_count": 12,
   "id": "deluxe-hepatitis",
   "metadata": {
    "execution": {
     "iopub.execute_input": "2021-02-13T12:07:37.108963Z",
     "iopub.status.busy": "2021-02-13T12:07:37.107652Z",
     "iopub.status.idle": "2021-02-13T12:07:37.114404Z",
     "shell.execute_reply": "2021-02-13T12:07:37.113316Z"
    },
    "papermill": {
     "duration": 0.047936,
     "end_time": "2021-02-13T12:07:37.114536",
     "exception": false,
     "start_time": "2021-02-13T12:07:37.066600",
     "status": "completed"
    },
    "tags": []
   },
   "outputs": [],
   "source": [
    "#hide\n",
    "df_table = (pd.DataFrame(dict(Cases = dfc_cases, Deaths = dfc_deaths, PCases = dfp_cases, PDeaths = dfp_deaths))\n",
    "            .sort_values(by = ['Cases','Deaths'], ascending = [False, False])\n",
    "            .reset_index())"
   ]
  },
  {
   "cell_type": "code",
   "execution_count": 13,
   "id": "educational-chancellor",
   "metadata": {
    "execution": {
     "iopub.execute_input": "2021-02-13T12:07:37.205442Z",
     "iopub.status.busy": "2021-02-13T12:07:37.204808Z",
     "iopub.status.idle": "2021-02-13T12:07:37.212022Z",
     "shell.execute_reply": "2021-02-13T12:07:37.212605Z"
    },
    "papermill": {
     "duration": 0.063593,
     "end_time": "2021-02-13T12:07:37.212755",
     "exception": false,
     "start_time": "2021-02-13T12:07:37.149162",
     "status": "completed"
    },
    "tags": []
   },
   "outputs": [
    {
     "data": {
      "text/html": [
       "<div>\n",
       "<style scoped>\n",
       "    .dataframe tbody tr th:only-of-type {\n",
       "        vertical-align: middle;\n",
       "    }\n",
       "\n",
       "    .dataframe tbody tr th {\n",
       "        vertical-align: top;\n",
       "    }\n",
       "\n",
       "    .dataframe thead th {\n",
       "        text-align: right;\n",
       "    }\n",
       "</style>\n",
       "<table border=\"1\" class=\"dataframe\">\n",
       "  <thead>\n",
       "    <tr style=\"text-align: right;\">\n",
       "      <th></th>\n",
       "      <th>Country/Region</th>\n",
       "      <th>Cases</th>\n",
       "      <th>Deaths</th>\n",
       "      <th>PCases</th>\n",
       "      <th>PDeaths</th>\n",
       "      <th>Cases (+)</th>\n",
       "      <th>Deaths (+)</th>\n",
       "      <th>Fatality Rate</th>\n",
       "      <th>Continent</th>\n",
       "    </tr>\n",
       "  </thead>\n",
       "  <tbody>\n",
       "    <tr>\n",
       "      <th>0</th>\n",
       "      <td>US</td>\n",
       "      <td>27492023</td>\n",
       "      <td>480887</td>\n",
       "      <td>27392512</td>\n",
       "      <td>475444</td>\n",
       "      <td>99511</td>\n",
       "      <td>5443</td>\n",
       "      <td>1.75</td>\n",
       "      <td>North America</td>\n",
       "    </tr>\n",
       "    <tr>\n",
       "      <th>1</th>\n",
       "      <td>India</td>\n",
       "      <td>10892746</td>\n",
       "      <td>155550</td>\n",
       "      <td>10880603</td>\n",
       "      <td>155447</td>\n",
       "      <td>12143</td>\n",
       "      <td>103</td>\n",
       "      <td>1.43</td>\n",
       "      <td>Asia</td>\n",
       "    </tr>\n",
       "    <tr>\n",
       "      <th>2</th>\n",
       "      <td>Brazil</td>\n",
       "      <td>9765455</td>\n",
       "      <td>237489</td>\n",
       "      <td>9713909</td>\n",
       "      <td>236201</td>\n",
       "      <td>51546</td>\n",
       "      <td>1288</td>\n",
       "      <td>2.43</td>\n",
       "      <td>South America</td>\n",
       "    </tr>\n",
       "    <tr>\n",
       "      <th>3</th>\n",
       "      <td>United Kingdom</td>\n",
       "      <td>4025574</td>\n",
       "      <td>116507</td>\n",
       "      <td>4010376</td>\n",
       "      <td>115748</td>\n",
       "      <td>15198</td>\n",
       "      <td>759</td>\n",
       "      <td>2.89</td>\n",
       "      <td>Europe</td>\n",
       "    </tr>\n",
       "    <tr>\n",
       "      <th>4</th>\n",
       "      <td>Russia</td>\n",
       "      <td>3997898</td>\n",
       "      <td>77911</td>\n",
       "      <td>3983031</td>\n",
       "      <td>77415</td>\n",
       "      <td>14867</td>\n",
       "      <td>496</td>\n",
       "      <td>1.95</td>\n",
       "      <td>Europe</td>\n",
       "    </tr>\n",
       "  </tbody>\n",
       "</table>\n",
       "</div>"
      ],
      "text/plain": [
       "   Country/Region     Cases  Deaths    PCases  PDeaths  Cases (+)  Deaths (+)  \\\n",
       "0              US  27492023  480887  27392512   475444      99511        5443   \n",
       "1           India  10892746  155550  10880603   155447      12143         103   \n",
       "2          Brazil   9765455  237489   9713909   236201      51546        1288   \n",
       "3  United Kingdom   4025574  116507   4010376   115748      15198         759   \n",
       "4          Russia   3997898   77911   3983031    77415      14867         496   \n",
       "\n",
       "   Fatality Rate      Continent  \n",
       "0           1.75  North America  \n",
       "1           1.43           Asia  \n",
       "2           2.43  South America  \n",
       "3           2.89         Europe  \n",
       "4           1.95         Europe  "
      ]
     },
     "execution_count": 13,
     "metadata": {},
     "output_type": "execute_result"
    }
   ],
   "source": [
    "#hide\n",
    "for c in 'Cases, Deaths'.split(', '):\n",
    "    df_table[f'{c} (+)'] = (df_table[c] - df_table[f'P{c}']).clip(0)\n",
    "    #Clip ça veut dire, les chiffres negatif sont interdit\n",
    "df_table['Fatality Rate'] = (100* df_table['Deaths']/ df_table['Cases']).round(2)\n",
    "df_table['Continent'] = df_table['Country/Region'].map(mapping['map.continent'])\n",
    "df_table.head(5)"
   ]
  },
  {
   "cell_type": "code",
   "execution_count": 14,
   "id": "aboriginal-bulgaria",
   "metadata": {
    "execution": {
     "iopub.execute_input": "2021-02-13T12:07:37.292494Z",
     "iopub.status.busy": "2021-02-13T12:07:37.291550Z",
     "iopub.status.idle": "2021-02-13T12:07:37.293200Z",
     "shell.execute_reply": "2021-02-13T12:07:37.293681Z"
    },
    "papermill": {
     "duration": 0.045761,
     "end_time": "2021-02-13T12:07:37.293851",
     "exception": false,
     "start_time": "2021-02-13T12:07:37.248090",
     "status": "completed"
    },
    "tags": []
   },
   "outputs": [],
   "source": [
    "#hide\n",
    "#delete problematic countries from table\n",
    "df_table = df_table[~df_table['Country/Region'].isin(['Cape Verde', 'Cruise Ship', 'Kosovo'])]"
   ]
  },
  {
   "cell_type": "code",
   "execution_count": 15,
   "id": "fantastic-effect",
   "metadata": {
    "execution": {
     "iopub.execute_input": "2021-02-13T12:07:37.376323Z",
     "iopub.status.busy": "2021-02-13T12:07:37.375699Z",
     "iopub.status.idle": "2021-02-13T12:07:37.396419Z",
     "shell.execute_reply": "2021-02-13T12:07:37.397240Z"
    },
    "papermill": {
     "duration": 0.067547,
     "end_time": "2021-02-13T12:07:37.397471",
     "exception": false,
     "start_time": "2021-02-13T12:07:37.329924",
     "status": "completed"
    },
    "tags": []
   },
   "outputs": [
    {
     "data": {
      "text/html": [
       "<div>\n",
       "<style scoped>\n",
       "    .dataframe tbody tr th:only-of-type {\n",
       "        vertical-align: middle;\n",
       "    }\n",
       "\n",
       "    .dataframe tbody tr th {\n",
       "        vertical-align: top;\n",
       "    }\n",
       "\n",
       "    .dataframe thead th {\n",
       "        text-align: right;\n",
       "    }\n",
       "</style>\n",
       "<table border=\"1\" class=\"dataframe\">\n",
       "  <thead>\n",
       "    <tr style=\"text-align: right;\">\n",
       "      <th></th>\n",
       "      <th>Country/Region</th>\n",
       "      <th>Cases</th>\n",
       "      <th>Deaths</th>\n",
       "      <th>PCases</th>\n",
       "      <th>PDeaths</th>\n",
       "      <th>Cases (+)</th>\n",
       "      <th>Deaths (+)</th>\n",
       "      <th>Fatality Rate</th>\n",
       "      <th>Continent</th>\n",
       "    </tr>\n",
       "  </thead>\n",
       "  <tbody>\n",
       "    <tr>\n",
       "      <th>0</th>\n",
       "      <td>US</td>\n",
       "      <td>27492023</td>\n",
       "      <td>480887</td>\n",
       "      <td>27392512</td>\n",
       "      <td>475444</td>\n",
       "      <td>99511</td>\n",
       "      <td>5443</td>\n",
       "      <td>1.7</td>\n",
       "      <td>North America</td>\n",
       "    </tr>\n",
       "    <tr>\n",
       "      <th>1</th>\n",
       "      <td>India</td>\n",
       "      <td>10892746</td>\n",
       "      <td>155550</td>\n",
       "      <td>10880603</td>\n",
       "      <td>155447</td>\n",
       "      <td>12143</td>\n",
       "      <td>103</td>\n",
       "      <td>1.4</td>\n",
       "      <td>Asia</td>\n",
       "    </tr>\n",
       "    <tr>\n",
       "      <th>2</th>\n",
       "      <td>Brazil</td>\n",
       "      <td>9765455</td>\n",
       "      <td>237489</td>\n",
       "      <td>9713909</td>\n",
       "      <td>236201</td>\n",
       "      <td>51546</td>\n",
       "      <td>1288</td>\n",
       "      <td>2.4</td>\n",
       "      <td>South America</td>\n",
       "    </tr>\n",
       "    <tr>\n",
       "      <th>3</th>\n",
       "      <td>United Kingdom</td>\n",
       "      <td>4025574</td>\n",
       "      <td>116507</td>\n",
       "      <td>4010376</td>\n",
       "      <td>115748</td>\n",
       "      <td>15198</td>\n",
       "      <td>759</td>\n",
       "      <td>2.9</td>\n",
       "      <td>Europe</td>\n",
       "    </tr>\n",
       "    <tr>\n",
       "      <th>4</th>\n",
       "      <td>Russia</td>\n",
       "      <td>3997898</td>\n",
       "      <td>77911</td>\n",
       "      <td>3983031</td>\n",
       "      <td>77415</td>\n",
       "      <td>14867</td>\n",
       "      <td>496</td>\n",
       "      <td>1.9</td>\n",
       "      <td>Europe</td>\n",
       "    </tr>\n",
       "  </tbody>\n",
       "</table>\n",
       "</div>"
      ],
      "text/plain": [
       "   Country/Region     Cases  Deaths    PCases  PDeaths  Cases (+)  Deaths (+)  \\\n",
       "0              US  27492023  480887  27392512   475444      99511        5443   \n",
       "1           India  10892746  155550  10880603   155447      12143         103   \n",
       "2          Brazil   9765455  237489   9713909   236201      51546        1288   \n",
       "3  United Kingdom   4025574  116507   4010376   115748      15198         759   \n",
       "4          Russia   3997898   77911   3983031    77415      14867         496   \n",
       "\n",
       "   Fatality Rate      Continent  \n",
       "0            1.7  North America  \n",
       "1            1.4           Asia  \n",
       "2            2.4  South America  \n",
       "3            2.9         Europe  \n",
       "4            1.9         Europe  "
      ]
     },
     "execution_count": 15,
     "metadata": {},
     "output_type": "execute_result"
    }
   ],
   "source": [
    "#hide\n",
    "df_table = (pd.DataFrame(dict(Cases=dfc_cases, Deaths=dfc_deaths, PCases=dfp_cases, PDeaths=dfp_deaths))\n",
    "             .sort_values(by=['Cases', 'Deaths'], ascending=[False, False])\n",
    "             .reset_index())\n",
    "df_table.rename(columns={'index': 'Country/Region'}, inplace=True)\n",
    "for c in 'Cases, Deaths'.split(', '):\n",
    "    df_table[f'{c} (+)'] = (df_table[c] - df_table[f'P{c}']).clip(0)  # DATA BUG\n",
    "df_table['Fatality Rate'] = (100 * df_table['Deaths'] / df_table['Cases']).round(1)\n",
    "df_table['Continent'] = df_table['Country/Region'].map(mapping['map.continent'])\n",
    "df_table.head(5)"
   ]
  },
  {
   "cell_type": "code",
   "execution_count": 16,
   "id": "fewer-occasion",
   "metadata": {
    "execution": {
     "iopub.execute_input": "2021-02-13T12:07:37.478155Z",
     "iopub.status.busy": "2021-02-13T12:07:37.477502Z",
     "iopub.status.idle": "2021-02-13T12:07:37.480319Z",
     "shell.execute_reply": "2021-02-13T12:07:37.480839Z"
    },
    "papermill": {
     "duration": 0.045281,
     "end_time": "2021-02-13T12:07:37.480981",
     "exception": false,
     "start_time": "2021-02-13T12:07:37.435700",
     "status": "completed"
    },
    "tags": []
   },
   "outputs": [],
   "source": [
    "#hide\n",
    "#delete problematic countries from table\n",
    "df_table = df_table[~df_table['Country/Region'].isin(['Cape Verde', 'Cruise Ship', 'Kosovo'])]"
   ]
  },
  {
   "cell_type": "code",
   "execution_count": 17,
   "id": "related-center",
   "metadata": {
    "execution": {
     "iopub.execute_input": "2021-02-13T12:07:37.561665Z",
     "iopub.status.busy": "2021-02-13T12:07:37.561038Z",
     "iopub.status.idle": "2021-02-13T12:07:37.574970Z",
     "shell.execute_reply": "2021-02-13T12:07:37.574464Z"
    },
    "papermill": {
     "duration": 0.058725,
     "end_time": "2021-02-13T12:07:37.575103",
     "exception": false,
     "start_time": "2021-02-13T12:07:37.516378",
     "status": "completed"
    },
    "tags": []
   },
   "outputs": [],
   "source": [
    "#hide\n",
    "metrics = [df_table.columns[index] for index in [1,2,5,6]]\n",
    "# s_china = df_table[df_table['Country/Region'].eq('China')][metrics].sum().add_prefix('China ')\n",
    "s_us = df_table[df_table['Country/Region'].eq('US')][metrics].sum().add_prefix('US ')\n",
    "s_eu = df_table[df_table['Continent'].eq('Europe')][metrics].sum().add_prefix('EU ')\n",
    "s_ind = df_table[df_table['Country/Region'].eq('India')][metrics].sum().add_prefix('India ')\n",
    "summary = {'updated': pd.to_datetime(dt_today), 'since': pd.to_datetime(dt_yday)}\n",
    "summary = {'updated': pd.to_datetime(dt_today), 'since': pd.to_datetime(dt_yday)}\n",
    "summary = {**summary, **df_table[metrics].sum(), **s_ind, **s_us, **s_eu}"
   ]
  },
  {
   "cell_type": "code",
   "execution_count": 18,
   "id": "engaging-syndrome",
   "metadata": {
    "execution": {
     "iopub.execute_input": "2021-02-13T12:07:37.654945Z",
     "iopub.status.busy": "2021-02-13T12:07:37.654323Z",
     "iopub.status.idle": "2021-02-13T12:07:37.668599Z",
     "shell.execute_reply": "2021-02-13T12:07:37.669107Z"
    },
    "papermill": {
     "duration": 0.058216,
     "end_time": "2021-02-13T12:07:37.669259",
     "exception": false,
     "start_time": "2021-02-13T12:07:37.611043",
     "status": "completed"
    },
    "tags": []
   },
   "outputs": [],
   "source": [
    "#hide\n",
    "dft_ct_new_cases = dft_cases.groupby(COL_REGION)[dt_cols].sum().diff(axis=1).fillna(0).astype(int)"
   ]
  },
  {
   "cell_type": "code",
   "execution_count": 19,
   "id": "neutral-assignment",
   "metadata": {
    "execution": {
     "iopub.execute_input": "2021-02-13T12:07:37.746987Z",
     "iopub.status.busy": "2021-02-13T12:07:37.746366Z",
     "iopub.status.idle": "2021-02-13T12:07:37.748633Z",
     "shell.execute_reply": "2021-02-13T12:07:37.749152Z"
    },
    "papermill": {
     "duration": 0.044264,
     "end_time": "2021-02-13T12:07:37.749296",
     "exception": false,
     "start_time": "2021-02-13T12:07:37.705032",
     "status": "completed"
    },
    "tags": []
   },
   "outputs": [],
   "source": [
    "#hide\n",
    "everydaycases = dft_ct_new_cases.cumsum(axis=1)"
   ]
  },
  {
   "cell_type": "code",
   "execution_count": 20,
   "id": "parliamentary-calgary",
   "metadata": {
    "execution": {
     "iopub.execute_input": "2021-02-13T12:07:37.827439Z",
     "iopub.status.busy": "2021-02-13T12:07:37.826820Z",
     "iopub.status.idle": "2021-02-13T12:07:40.880621Z",
     "shell.execute_reply": "2021-02-13T12:07:40.879750Z"
    },
    "papermill": {
     "duration": 3.095702,
     "end_time": "2021-02-13T12:07:40.880837",
     "exception": false,
     "start_time": "2021-02-13T12:07:37.785135",
     "status": "completed"
    },
    "tags": []
   },
   "outputs": [],
   "source": [
    "#hide\n",
    "import pandas as pd\n",
    "import matplotlib.pyplot as plt\n",
    "import matplotlib.ticker as ticker\n",
    "import matplotlib.animation as animation\n",
    "from IPython.display import HTML"
   ]
  },
  {
   "cell_type": "code",
   "execution_count": 21,
   "id": "lasting-extraction",
   "metadata": {
    "execution": {
     "iopub.execute_input": "2021-02-13T12:07:40.961594Z",
     "iopub.status.busy": "2021-02-13T12:07:40.960985Z",
     "iopub.status.idle": "2021-02-13T12:07:40.966394Z",
     "shell.execute_reply": "2021-02-13T12:07:40.966917Z"
    },
    "papermill": {
     "duration": 0.048328,
     "end_time": "2021-02-13T12:07:40.967063",
     "exception": false,
     "start_time": "2021-02-13T12:07:40.918735",
     "status": "completed"
    },
    "tags": []
   },
   "outputs": [],
   "source": [
    "#hide\n",
    "t = everydaycases.stack()"
   ]
  },
  {
   "cell_type": "code",
   "execution_count": 22,
   "id": "premier-sleeve",
   "metadata": {
    "execution": {
     "iopub.execute_input": "2021-02-13T12:07:41.044453Z",
     "iopub.status.busy": "2021-02-13T12:07:41.043845Z",
     "iopub.status.idle": "2021-02-13T12:07:41.053039Z",
     "shell.execute_reply": "2021-02-13T12:07:41.052539Z"
    },
    "papermill": {
     "duration": 0.050285,
     "end_time": "2021-02-13T12:07:41.053169",
     "exception": false,
     "start_time": "2021-02-13T12:07:41.002884",
     "status": "completed"
    },
    "tags": []
   },
   "outputs": [],
   "source": [
    "#hide\n",
    "g = t.reset_index(['Country/Region'])"
   ]
  },
  {
   "cell_type": "code",
   "execution_count": 23,
   "id": "distributed-pittsburgh",
   "metadata": {
    "execution": {
     "iopub.execute_input": "2021-02-13T12:07:41.134747Z",
     "iopub.status.busy": "2021-02-13T12:07:41.134131Z",
     "iopub.status.idle": "2021-02-13T12:07:41.135916Z",
     "shell.execute_reply": "2021-02-13T12:07:41.136495Z"
    },
    "papermill": {
     "duration": 0.047878,
     "end_time": "2021-02-13T12:07:41.136640",
     "exception": false,
     "start_time": "2021-02-13T12:07:41.088762",
     "status": "completed"
    },
    "tags": []
   },
   "outputs": [],
   "source": [
    "#hide\n",
    "g.index.name = 'date'"
   ]
  },
  {
   "cell_type": "code",
   "execution_count": 24,
   "id": "naked-donor",
   "metadata": {
    "execution": {
     "iopub.execute_input": "2021-02-13T12:07:41.212151Z",
     "iopub.status.busy": "2021-02-13T12:07:41.211503Z",
     "iopub.status.idle": "2021-02-13T12:07:41.213869Z",
     "shell.execute_reply": "2021-02-13T12:07:41.213354Z"
    },
    "papermill": {
     "duration": 0.041513,
     "end_time": "2021-02-13T12:07:41.214000",
     "exception": false,
     "start_time": "2021-02-13T12:07:41.172487",
     "status": "completed"
    },
    "tags": []
   },
   "outputs": [],
   "source": [
    "# #hide\n",
    "# g = g.reset_index(['date'])"
   ]
  },
  {
   "cell_type": "code",
   "execution_count": 25,
   "id": "incomplete-mustang",
   "metadata": {
    "execution": {
     "iopub.execute_input": "2021-02-13T12:07:41.289866Z",
     "iopub.status.busy": "2021-02-13T12:07:41.289232Z",
     "iopub.status.idle": "2021-02-13T12:07:41.292009Z",
     "shell.execute_reply": "2021-02-13T12:07:41.291491Z"
    },
    "papermill": {
     "duration": 0.042797,
     "end_time": "2021-02-13T12:07:41.292134",
     "exception": false,
     "start_time": "2021-02-13T12:07:41.249337",
     "status": "completed"
    },
    "tags": []
   },
   "outputs": [],
   "source": [
    "#hide\n",
    "# g.head()"
   ]
  },
  {
   "cell_type": "code",
   "execution_count": 26,
   "id": "specific-kruger",
   "metadata": {
    "execution": {
     "iopub.execute_input": "2021-02-13T12:07:41.368103Z",
     "iopub.status.busy": "2021-02-13T12:07:41.367500Z",
     "iopub.status.idle": "2021-02-13T12:07:41.369880Z",
     "shell.execute_reply": "2021-02-13T12:07:41.370463Z"
    },
    "papermill": {
     "duration": 0.042905,
     "end_time": "2021-02-13T12:07:41.370604",
     "exception": false,
     "start_time": "2021-02-13T12:07:41.327699",
     "status": "completed"
    },
    "tags": []
   },
   "outputs": [],
   "source": [
    "#hide\n",
    "# g.columns = ['date','country','cases']"
   ]
  },
  {
   "cell_type": "code",
   "execution_count": 27,
   "id": "tender-conversion",
   "metadata": {
    "execution": {
     "iopub.execute_input": "2021-02-13T12:07:41.446800Z",
     "iopub.status.busy": "2021-02-13T12:07:41.446180Z",
     "iopub.status.idle": "2021-02-13T12:07:41.448584Z",
     "shell.execute_reply": "2021-02-13T12:07:41.449166Z"
    },
    "papermill": {
     "duration": 0.043246,
     "end_time": "2021-02-13T12:07:41.449310",
     "exception": false,
     "start_time": "2021-02-13T12:07:41.406064",
     "status": "completed"
    },
    "tags": []
   },
   "outputs": [],
   "source": [
    "#hide\n",
    "# g['continent'] = g.country"
   ]
  },
  {
   "cell_type": "code",
   "execution_count": 28,
   "id": "substantial-wilderness",
   "metadata": {
    "execution": {
     "iopub.execute_input": "2021-02-13T12:07:41.525064Z",
     "iopub.status.busy": "2021-02-13T12:07:41.524448Z",
     "iopub.status.idle": "2021-02-13T12:07:41.526405Z",
     "shell.execute_reply": "2021-02-13T12:07:41.526894Z"
    },
    "papermill": {
     "duration": 0.042038,
     "end_time": "2021-02-13T12:07:41.527040",
     "exception": false,
     "start_time": "2021-02-13T12:07:41.485002",
     "status": "completed"
    },
    "tags": []
   },
   "outputs": [],
   "source": [
    "#hide\n",
    "# cols = list(g.columns.values)"
   ]
  },
  {
   "cell_type": "code",
   "execution_count": 29,
   "id": "solved-farming",
   "metadata": {
    "execution": {
     "iopub.execute_input": "2021-02-13T12:07:41.602695Z",
     "iopub.status.busy": "2021-02-13T12:07:41.602075Z",
     "iopub.status.idle": "2021-02-13T12:07:41.604557Z",
     "shell.execute_reply": "2021-02-13T12:07:41.605084Z"
    },
    "papermill": {
     "duration": 0.042933,
     "end_time": "2021-02-13T12:07:41.605237",
     "exception": false,
     "start_time": "2021-02-13T12:07:41.562304",
     "status": "completed"
    },
    "tags": []
   },
   "outputs": [],
   "source": [
    "#hide\n",
    "# cols.insert(0, cols.pop())"
   ]
  },
  {
   "cell_type": "code",
   "execution_count": 30,
   "id": "executed-adoption",
   "metadata": {
    "execution": {
     "iopub.execute_input": "2021-02-13T12:07:41.681993Z",
     "iopub.status.busy": "2021-02-13T12:07:41.681347Z",
     "iopub.status.idle": "2021-02-13T12:07:41.683839Z",
     "shell.execute_reply": "2021-02-13T12:07:41.684419Z"
    },
    "papermill": {
     "duration": 0.043766,
     "end_time": "2021-02-13T12:07:41.684563",
     "exception": false,
     "start_time": "2021-02-13T12:07:41.640797",
     "status": "completed"
    },
    "tags": []
   },
   "outputs": [],
   "source": [
    "#hide\n",
    "# g = g[cols]"
   ]
  },
  {
   "cell_type": "code",
   "execution_count": 31,
   "id": "subject-dublin",
   "metadata": {
    "execution": {
     "iopub.execute_input": "2021-02-13T12:07:41.760396Z",
     "iopub.status.busy": "2021-02-13T12:07:41.759793Z",
     "iopub.status.idle": "2021-02-13T12:07:41.762337Z",
     "shell.execute_reply": "2021-02-13T12:07:41.761769Z"
    },
    "papermill": {
     "duration": 0.042325,
     "end_time": "2021-02-13T12:07:41.762464",
     "exception": false,
     "start_time": "2021-02-13T12:07:41.720139",
     "status": "completed"
    },
    "tags": []
   },
   "outputs": [],
   "source": [
    "#hide\n",
    "# g['continent'] = g['continent'].map(mapping['map.continent'])"
   ]
  },
  {
   "cell_type": "code",
   "execution_count": 32,
   "id": "freelance-scout",
   "metadata": {
    "execution": {
     "iopub.execute_input": "2021-02-13T12:07:41.838458Z",
     "iopub.status.busy": "2021-02-13T12:07:41.837828Z",
     "iopub.status.idle": "2021-02-13T12:07:41.840192Z",
     "shell.execute_reply": "2021-02-13T12:07:41.840655Z"
    },
    "papermill": {
     "duration": 0.042867,
     "end_time": "2021-02-13T12:07:41.840805",
     "exception": false,
     "start_time": "2021-02-13T12:07:41.797938",
     "status": "completed"
    },
    "tags": []
   },
   "outputs": [],
   "source": [
    "#hide\n",
    "# g.head()"
   ]
  },
  {
   "cell_type": "code",
   "execution_count": 33,
   "id": "limited-engine",
   "metadata": {
    "execution": {
     "iopub.execute_input": "2021-02-13T12:07:41.916582Z",
     "iopub.status.busy": "2021-02-13T12:07:41.915976Z",
     "iopub.status.idle": "2021-02-13T12:07:41.918282Z",
     "shell.execute_reply": "2021-02-13T12:07:41.918860Z"
    },
    "papermill": {
     "duration": 0.042643,
     "end_time": "2021-02-13T12:07:41.919001",
     "exception": false,
     "start_time": "2021-02-13T12:07:41.876358",
     "status": "completed"
    },
    "tags": []
   },
   "outputs": [],
   "source": [
    "# hide\n",
    "# g['date'] = g['date'].astype('datetime64[ns]')"
   ]
  },
  {
   "cell_type": "code",
   "execution_count": 34,
   "id": "sophisticated-supervisor",
   "metadata": {
    "execution": {
     "iopub.execute_input": "2021-02-13T12:07:42.144538Z",
     "iopub.status.busy": "2021-02-13T12:07:42.143566Z",
     "iopub.status.idle": "2021-02-13T12:07:42.145238Z",
     "shell.execute_reply": "2021-02-13T12:07:42.145830Z"
    },
    "papermill": {
     "duration": 0.191324,
     "end_time": "2021-02-13T12:07:42.145982",
     "exception": false,
     "start_time": "2021-02-13T12:07:41.954658",
     "status": "completed"
    },
    "tags": []
   },
   "outputs": [],
   "source": [
    "#hide\n",
    "# g['date'] = g.date.dt.dayofyear"
   ]
  },
  {
   "cell_type": "code",
   "execution_count": 35,
   "id": "inside-dubai",
   "metadata": {
    "execution": {
     "iopub.execute_input": "2021-02-13T12:07:42.234581Z",
     "iopub.status.busy": "2021-02-13T12:07:42.233869Z",
     "iopub.status.idle": "2021-02-13T12:07:42.237985Z",
     "shell.execute_reply": "2021-02-13T12:07:42.237342Z"
    },
    "papermill": {
     "duration": 0.053808,
     "end_time": "2021-02-13T12:07:42.238116",
     "exception": false,
     "start_time": "2021-02-13T12:07:42.184308",
     "status": "completed"
    },
    "tags": []
   },
   "outputs": [],
   "source": [
    "#hide\n",
    "# g = g.rename(columns= {'continent':'group','country':'name','cases':'value'})"
   ]
  },
  {
   "cell_type": "code",
   "execution_count": 36,
   "id": "fleet-motorcycle",
   "metadata": {
    "execution": {
     "iopub.execute_input": "2021-02-13T12:07:42.330052Z",
     "iopub.status.busy": "2021-02-13T12:07:42.329298Z",
     "iopub.status.idle": "2021-02-13T12:07:42.331139Z",
     "shell.execute_reply": "2021-02-13T12:07:42.330623Z"
    },
    "papermill": {
     "duration": 0.053678,
     "end_time": "2021-02-13T12:07:42.331265",
     "exception": false,
     "start_time": "2021-02-13T12:07:42.277587",
     "status": "completed"
    },
    "tags": []
   },
   "outputs": [],
   "source": [
    "#hide\n",
    "# cols = ['name','group','day','value']"
   ]
  },
  {
   "cell_type": "code",
   "execution_count": 37,
   "id": "continued-sleeping",
   "metadata": {
    "execution": {
     "iopub.execute_input": "2021-02-13T12:07:42.430226Z",
     "iopub.status.busy": "2021-02-13T12:07:42.429587Z",
     "iopub.status.idle": "2021-02-13T12:07:42.431906Z",
     "shell.execute_reply": "2021-02-13T12:07:42.431392Z"
    },
    "papermill": {
     "duration": 0.044649,
     "end_time": "2021-02-13T12:07:42.432029",
     "exception": false,
     "start_time": "2021-02-13T12:07:42.387380",
     "status": "completed"
    },
    "tags": []
   },
   "outputs": [],
   "source": [
    "#hide\n",
    "# g.rename(columns= {'date':'day'},inplace = True)"
   ]
  },
  {
   "cell_type": "code",
   "execution_count": 38,
   "id": "major-fight",
   "metadata": {
    "execution": {
     "iopub.execute_input": "2021-02-13T12:07:42.533071Z",
     "iopub.status.busy": "2021-02-13T12:07:42.532269Z",
     "iopub.status.idle": "2021-02-13T12:07:42.533716Z",
     "shell.execute_reply": "2021-02-13T12:07:42.534230Z"
    },
    "papermill": {
     "duration": 0.052919,
     "end_time": "2021-02-13T12:07:42.534379",
     "exception": false,
     "start_time": "2021-02-13T12:07:42.481460",
     "status": "completed"
    },
    "tags": []
   },
   "outputs": [],
   "source": [
    "#hide\n",
    "# g = g[cols]"
   ]
  },
  {
   "cell_type": "code",
   "execution_count": 39,
   "id": "structured-mobile",
   "metadata": {
    "execution": {
     "iopub.execute_input": "2021-02-13T12:07:42.680139Z",
     "iopub.status.busy": "2021-02-13T12:07:42.679505Z",
     "iopub.status.idle": "2021-02-13T12:07:42.681691Z",
     "shell.execute_reply": "2021-02-13T12:07:42.681088Z"
    },
    "papermill": {
     "duration": 0.043126,
     "end_time": "2021-02-13T12:07:42.681836",
     "exception": false,
     "start_time": "2021-02-13T12:07:42.638710",
     "status": "completed"
    },
    "tags": []
   },
   "outputs": [],
   "source": [
    "# #hide\n",
    "# g = g[g.group.notna()]"
   ]
  },
  {
   "cell_type": "code",
   "execution_count": 40,
   "id": "determined-closing",
   "metadata": {
    "execution": {
     "iopub.execute_input": "2021-02-13T12:07:42.829093Z",
     "iopub.status.busy": "2021-02-13T12:07:42.828452Z",
     "iopub.status.idle": "2021-02-13T12:07:42.832149Z",
     "shell.execute_reply": "2021-02-13T12:07:42.832639Z"
    },
    "papermill": {
     "duration": 0.051522,
     "end_time": "2021-02-13T12:07:42.832791",
     "exception": false,
     "start_time": "2021-02-13T12:07:42.781269",
     "status": "completed"
    },
    "tags": []
   },
   "outputs": [],
   "source": [
    "# #hide\n",
    "# colors = dict(zip(\n",
    "#     [\"Oceania\", \"Europe\", \"Asia\", \"South America\", \"Middle East\", \"North America\", \"Africa\"],\n",
    "#     [\"#adb0ff\", \"#ffb3ff\", \"#90d595\", \"#e48381\", \"#aafbff\", \"#f7bb5f\", \"#eafb50\"]\n",
    "# ))\n",
    "# group_lk = g.set_index('name')['group'].to_dict()"
   ]
  },
  {
   "cell_type": "code",
   "execution_count": null,
   "id": "gross-drinking",
   "metadata": {
    "papermill": {
     "duration": 0.046111,
     "end_time": "2021-02-13T12:07:42.933308",
     "exception": false,
     "start_time": "2021-02-13T12:07:42.887197",
     "status": "completed"
    },
    "tags": []
   },
   "outputs": [],
   "source": []
  },
  {
   "cell_type": "code",
   "execution_count": 41,
   "id": "subject-macintosh",
   "metadata": {
    "execution": {
     "iopub.execute_input": "2021-02-13T12:07:43.011408Z",
     "iopub.status.busy": "2021-02-13T12:07:43.010776Z",
     "iopub.status.idle": "2021-02-13T12:07:43.013301Z",
     "shell.execute_reply": "2021-02-13T12:07:43.013913Z"
    },
    "papermill": {
     "duration": 0.043867,
     "end_time": "2021-02-13T12:07:43.014062",
     "exception": false,
     "start_time": "2021-02-13T12:07:42.970195",
     "status": "completed"
    },
    "tags": []
   },
   "outputs": [],
   "source": [
    "# #hide\n",
    "# fig, ax = plt.subplots(figsize=(15, 8))\n",
    "\n",
    "# def draw_barchart(current_day):\n",
    "#     dff = g[g['day'].eq(current_day)].sort_values(by='value', ascending=True).tail(10)\n",
    "#     ax.clear()\n",
    "#     ax.barh(dff['name'], dff['value'], color=[colors[group_lk[x]] for x in dff['name']])\n",
    "#     dx = dff['value'].max() / 200\n",
    "    \n",
    "#     for i, (value, name) in enumerate(zip(dff['value'], dff['name'])):\n",
    "#         ax.text(value-dx, i,     name,           size=14, weight=600, ha='right', va='bottom')\n",
    "#         ax.text(value-dx, i-.25, group_lk[name], size=10, color='#444444', ha='right', va='baseline')\n",
    "#         ax.text(value+dx, i,     f'{value:,.0f}',  size=14, ha='left',  va='center')\n",
    "#     ax.text(1, 0.4, current_day, transform=ax.transAxes, color='#777777', size=46, ha='right', weight=800)\n",
    "#     ax.text(0, 1.06, 'Population (thousands)', transform=ax.transAxes, size=12, color='#777777')\n",
    "#     ax.xaxis.set_major_formatter(ticker.StrMethodFormatter('{x:,.0f}'))\n",
    "#     ax.xaxis.set_ticks_position('top')\n",
    "#     ax.tick_params(axis='x', colors='#777777', labelsize=12)\n",
    "#     ax.set_yticks([])\n",
    "#     ax.margins(0, 0.01)\n",
    "#     ax.grid(which='major', axis='x', linestyle='-')\n",
    "#     ax.set_axisbelow(True)\n",
    "    \n",
    "#     ax.text(0, 1.15, 'Coronavirus',\n",
    "#             transform=ax.transAxes, size=24, weight=600, ha='left', va='top')\n",
    "# #     ax.text(1, 0, 'by @pratapvardhan; credit @jburnmurdoch', transform=ax.transAxes, color='#777777', ha='right',\n",
    "# #             bbox=dict(facecolor='white', alpha=0.8, edgecolor='white'))\n",
    "#     plt.box(False)"
   ]
  },
  {
   "cell_type": "code",
   "execution_count": 42,
   "id": "sexual-wages",
   "metadata": {
    "execution": {
     "iopub.execute_input": "2021-02-13T12:07:43.090092Z",
     "iopub.status.busy": "2021-02-13T12:07:43.089444Z",
     "iopub.status.idle": "2021-02-13T12:07:43.091255Z",
     "shell.execute_reply": "2021-02-13T12:07:43.091767Z"
    },
    "papermill": {
     "duration": 0.042464,
     "end_time": "2021-02-13T12:07:43.091908",
     "exception": false,
     "start_time": "2021-02-13T12:07:43.049444",
     "status": "completed"
    },
    "tags": []
   },
   "outputs": [],
   "source": [
    "# #hide_input\n",
    "# fig, ax = plt.subplots(figsize=(15, 8))\n",
    "# animator = animation.FuncAnimation(fig, draw_barchart, frames=range(g.day.values.min(), g.day.values.max()))\n",
    "# HTML(animator.to_jshtml())\n",
    "# # or use animator.to_html5_video() or animator.save() "
   ]
  },
  {
   "cell_type": "code",
   "execution_count": null,
   "id": "australian-container",
   "metadata": {
    "papermill": {
     "duration": 0.035306,
     "end_time": "2021-02-13T12:07:43.162531",
     "exception": false,
     "start_time": "2021-02-13T12:07:43.127225",
     "status": "completed"
    },
    "tags": []
   },
   "outputs": [],
   "source": []
  },
  {
   "cell_type": "code",
   "execution_count": null,
   "id": "mediterranean-pontiac",
   "metadata": {
    "papermill": {
     "duration": 0.035084,
     "end_time": "2021-02-13T12:07:43.233233",
     "exception": false,
     "start_time": "2021-02-13T12:07:43.198149",
     "status": "completed"
    },
    "tags": []
   },
   "outputs": [],
   "source": []
  },
  {
   "cell_type": "code",
   "execution_count": null,
   "id": "aging-legislature",
   "metadata": {
    "papermill": {
     "duration": 0.035257,
     "end_time": "2021-02-13T12:07:43.303909",
     "exception": false,
     "start_time": "2021-02-13T12:07:43.268652",
     "status": "completed"
    },
    "tags": []
   },
   "outputs": [],
   "source": []
  }
 ],
 "metadata": {
  "kernelspec": {
   "display_name": "Python 3",
   "language": "python",
   "name": "python3"
  },
  "language_info": {
   "codemirror_mode": {
    "name": "ipython",
    "version": 3
   },
   "file_extension": ".py",
   "mimetype": "text/x-python",
   "name": "python",
   "nbconvert_exporter": "python",
   "pygments_lexer": "ipython3",
   "version": "3.6.12"
  },
  "papermill": {
   "duration": 9.367321,
   "end_time": "2021-02-13T12:07:43.748216",
   "environment_variables": {},
   "exception": null,
   "input_path": "2020-03-21-covid19exp.ipynb",
   "output_path": "2020-03-21-covid19exp.ipynb",
   "parameters": {},
   "start_time": "2021-02-13T12:07:34.380895",
   "version": "2.0.0"
  }
 },
 "nbformat": 4,
 "nbformat_minor": 5
}