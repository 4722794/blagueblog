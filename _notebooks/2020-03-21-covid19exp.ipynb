{
 "cells": [
  {
   "cell_type": "markdown",
   "id": "muslim-click",
   "metadata": {
    "papermill": {
     "duration": 0.044691,
     "end_time": "2021-04-01T12:03:48.135909",
     "exception": false,
     "start_time": "2021-04-01T12:03:48.091218",
     "status": "completed"
    },
    "tags": []
   },
   "source": [
    "# COVID-19 Case Race\n",
    "> A race chart to see rising cases around the world\n",
    "\n",
    "- author: Hargun Oberoi\n",
    "- image: images/covid-overview.png\n",
    "- hide: false\n",
    "- badges: false"
   ]
  },
  {
   "cell_type": "code",
   "execution_count": 1,
   "id": "proof-material",
   "metadata": {
    "execution": {
     "iopub.execute_input": "2021-04-01T12:03:48.216152Z",
     "iopub.status.busy": "2021-04-01T12:03:48.215525Z",
     "iopub.status.idle": "2021-04-01T12:03:48.559822Z",
     "shell.execute_reply": "2021-04-01T12:03:48.559099Z"
    },
    "papermill": {
     "duration": 0.389626,
     "end_time": "2021-04-01T12:03:48.560017",
     "exception": false,
     "start_time": "2021-04-01T12:03:48.170391",
     "status": "completed"
    },
    "tags": []
   },
   "outputs": [],
   "source": [
    "#hide\n",
    "import numpy as np\n",
    "import pandas as pd\n",
    "from jinja2 import Template\n",
    "from IPython.display import HTML"
   ]
  },
  {
   "cell_type": "code",
   "execution_count": 2,
   "id": "developed-terminology",
   "metadata": {
    "execution": {
     "iopub.execute_input": "2021-04-01T12:03:48.637545Z",
     "iopub.status.busy": "2021-04-01T12:03:48.636914Z",
     "iopub.status.idle": "2021-04-01T12:03:48.638319Z",
     "shell.execute_reply": "2021-04-01T12:03:48.638806Z"
    },
    "papermill": {
     "duration": 0.042747,
     "end_time": "2021-04-01T12:03:48.638947",
     "exception": false,
     "start_time": "2021-04-01T12:03:48.596200",
     "status": "completed"
    },
    "tags": []
   },
   "outputs": [],
   "source": [
    "#hide\n",
    "\n",
    "# FETCH\n",
    "base_url = 'https://raw.githubusercontent.com/pratapvardhan/notebooks/master/covid19/'\n",
    "paths = {\n",
    "    'mapping': base_url + 'mapping_countries.csv',\n",
    "    'overview': base_url + 'overview.tpl'\n",
    "}"
   ]
  },
  {
   "cell_type": "code",
   "execution_count": 3,
   "id": "dynamic-saver",
   "metadata": {
    "execution": {
     "iopub.execute_input": "2021-04-01T12:03:48.717881Z",
     "iopub.status.busy": "2021-04-01T12:03:48.717300Z",
     "iopub.status.idle": "2021-04-01T12:03:48.719653Z",
     "shell.execute_reply": "2021-04-01T12:03:48.720145Z"
    },
    "papermill": {
     "duration": 0.047871,
     "end_time": "2021-04-01T12:03:48.720286",
     "exception": false,
     "start_time": "2021-04-01T12:03:48.672415",
     "status": "completed"
    },
    "tags": []
   },
   "outputs": [
    {
     "data": {
      "text/plain": [
       "'https://raw.githubusercontent.com/pratapvardhan/notebooks/master/covid19/mapping_countries.csv'"
      ]
     },
     "execution_count": 3,
     "metadata": {},
     "output_type": "execute_result"
    }
   ],
   "source": [
    "#hide\n",
    "paths['mapping']"
   ]
  },
  {
   "cell_type": "code",
   "execution_count": 4,
   "id": "urban-software",
   "metadata": {
    "execution": {
     "iopub.execute_input": "2021-04-01T12:03:48.793501Z",
     "iopub.status.busy": "2021-04-01T12:03:48.792911Z",
     "iopub.status.idle": "2021-04-01T12:03:48.795154Z",
     "shell.execute_reply": "2021-04-01T12:03:48.794671Z"
    },
    "papermill": {
     "duration": 0.041295,
     "end_time": "2021-04-01T12:03:48.795274",
     "exception": false,
     "start_time": "2021-04-01T12:03:48.753979",
     "status": "completed"
    },
    "tags": []
   },
   "outputs": [],
   "source": [
    "#hide\n",
    "def get_mappings(url):\n",
    "    df = pd.read_csv(url)\n",
    "    return {\n",
    "        'df': df,\n",
    "        'replace.country': dict(df.dropna(subset=['Name']).set_index('Country')['Name']),\n",
    "        'map.continent': dict(df.set_index('Name')['Continent'])\n",
    "    }"
   ]
  },
  {
   "cell_type": "code",
   "execution_count": 5,
   "id": "intimate-machinery",
   "metadata": {
    "execution": {
     "iopub.execute_input": "2021-04-01T12:03:48.870926Z",
     "iopub.status.busy": "2021-04-01T12:03:48.870342Z",
     "iopub.status.idle": "2021-04-01T12:03:48.911948Z",
     "shell.execute_reply": "2021-04-01T12:03:48.911400Z"
    },
    "papermill": {
     "duration": 0.083141,
     "end_time": "2021-04-01T12:03:48.912077",
     "exception": false,
     "start_time": "2021-04-01T12:03:48.828936",
     "status": "completed"
    },
    "tags": []
   },
   "outputs": [],
   "source": [
    "#hide\n",
    "mapping = get_mappings(paths['mapping'])"
   ]
  },
  {
   "cell_type": "code",
   "execution_count": 6,
   "id": "certified-tactics",
   "metadata": {
    "execution": {
     "iopub.execute_input": "2021-04-01T12:03:48.984347Z",
     "iopub.status.busy": "2021-04-01T12:03:48.983754Z",
     "iopub.status.idle": "2021-04-01T12:03:48.985987Z",
     "shell.execute_reply": "2021-04-01T12:03:48.985533Z"
    },
    "papermill": {
     "duration": 0.040436,
     "end_time": "2021-04-01T12:03:48.986100",
     "exception": false,
     "start_time": "2021-04-01T12:03:48.945664",
     "status": "completed"
    },
    "tags": []
   },
   "outputs": [],
   "source": [
    "#hide\n",
    "def get_template(path):\n",
    "    from urllib.parse import urlparse\n",
    "    if bool(urlparse(path).netloc):\n",
    "        from urllib.request import urlopen\n",
    "        return urlopen(path).read().decode('utf8')\n",
    "    return open(path).read()"
   ]
  },
  {
   "cell_type": "code",
   "execution_count": 7,
   "id": "realistic-blast",
   "metadata": {
    "execution": {
     "iopub.execute_input": "2021-04-01T12:03:49.061910Z",
     "iopub.status.busy": "2021-04-01T12:03:49.060869Z",
     "iopub.status.idle": "2021-04-01T12:03:49.062976Z",
     "shell.execute_reply": "2021-04-01T12:03:49.063582Z"
    },
    "papermill": {
     "duration": 0.044253,
     "end_time": "2021-04-01T12:03:49.063727",
     "exception": false,
     "start_time": "2021-04-01T12:03:49.019474",
     "status": "completed"
    },
    "tags": []
   },
   "outputs": [],
   "source": [
    "#hide\n",
    "def get_frame(name):\n",
    "    url = (\n",
    "        'https://raw.githubusercontent.com/CSSEGISandData/COVID-19/master/csse_covid_19_data/'\n",
    "        f'csse_covid_19_time_series/time_series_covid19_{name}_global.csv')\n",
    "    df = pd.read_csv(url)\n",
    "    # rename countries\n",
    "    df['Country/Region'] = df['Country/Region'].replace(mapping['replace.country'])\n",
    "    return df"
   ]
  },
  {
   "cell_type": "code",
   "execution_count": 8,
   "id": "affiliated-characterization",
   "metadata": {
    "execution": {
     "iopub.execute_input": "2021-04-01T12:03:49.136360Z",
     "iopub.status.busy": "2021-04-01T12:03:49.135762Z",
     "iopub.status.idle": "2021-04-01T12:03:49.137928Z",
     "shell.execute_reply": "2021-04-01T12:03:49.137362Z"
    },
    "papermill": {
     "duration": 0.041332,
     "end_time": "2021-04-01T12:03:49.138050",
     "exception": false,
     "start_time": "2021-04-01T12:03:49.096718",
     "status": "completed"
    },
    "tags": []
   },
   "outputs": [],
   "source": [
    "#hide\n",
    "def get_dates(df):\n",
    "    dt_cols = df.columns[~df.columns.isin(['Province/State', 'Country/Region', 'Lat', 'Long'])]\n",
    "    LAST_DATE_I = -1\n",
    "    # sometimes last column may be empty, then go backwards\n",
    "    for i in range(-1, -len(dt_cols), -1):\n",
    "        if not df[dt_cols[i]].fillna(0).eq(0).all():\n",
    "            LAST_DATE_I = i\n",
    "            break\n",
    "    return LAST_DATE_I, dt_cols"
   ]
  },
  {
   "cell_type": "code",
   "execution_count": 9,
   "id": "recent-optimization",
   "metadata": {
    "execution": {
     "iopub.execute_input": "2021-04-01T12:03:49.210213Z",
     "iopub.status.busy": "2021-04-01T12:03:49.209616Z",
     "iopub.status.idle": "2021-04-01T12:03:49.575809Z",
     "shell.execute_reply": "2021-04-01T12:03:49.574955Z"
    },
    "papermill": {
     "duration": 0.404608,
     "end_time": "2021-04-01T12:03:49.576015",
     "exception": false,
     "start_time": "2021-04-01T12:03:49.171407",
     "status": "completed"
    },
    "tags": []
   },
   "outputs": [],
   "source": [
    "#hide\n",
    "COL_REGION = 'Country/Region'\n",
    "# Confirmed, Recovered, Deaths\n",
    "df = get_frame('confirmed')\n",
    "# dft_: timeseries, dfc_: today country agg\n",
    "dft_cases = df\n",
    "dft_deaths = get_frame('deaths')\n",
    "dft_recovered = get_frame('recovered')\n",
    "LAST_DATE_I, dt_cols = get_dates(df)"
   ]
  },
  {
   "cell_type": "code",
   "execution_count": 10,
   "id": "absolute-copper",
   "metadata": {
    "execution": {
     "iopub.execute_input": "2021-04-01T12:03:49.653924Z",
     "iopub.status.busy": "2021-04-01T12:03:49.653333Z",
     "iopub.status.idle": "2021-04-01T12:03:49.655993Z",
     "shell.execute_reply": "2021-04-01T12:03:49.656530Z"
    },
    "papermill": {
     "duration": 0.043819,
     "end_time": "2021-04-01T12:03:49.656671",
     "exception": false,
     "start_time": "2021-04-01T12:03:49.612852",
     "status": "completed"
    },
    "tags": []
   },
   "outputs": [],
   "source": [
    "#hide\n",
    "LAST_DATE_I, dt_cols = get_dates(df)\n",
    "dt_today =dt_cols[LAST_DATE_I]\n",
    "# dt_5day = dt_cols[LAST_DATE_I - 5]\n",
    "dt_yday = dt_cols[LAST_DATE_I - 1]"
   ]
  },
  {
   "cell_type": "code",
   "execution_count": 11,
   "id": "restricted-sheriff",
   "metadata": {
    "execution": {
     "iopub.execute_input": "2021-04-01T12:03:49.732355Z",
     "iopub.status.busy": "2021-04-01T12:03:49.731760Z",
     "iopub.status.idle": "2021-04-01T12:03:49.738425Z",
     "shell.execute_reply": "2021-04-01T12:03:49.737920Z"
    },
    "papermill": {
     "duration": 0.047867,
     "end_time": "2021-04-01T12:03:49.738553",
     "exception": false,
     "start_time": "2021-04-01T12:03:49.690686",
     "status": "completed"
    },
    "tags": []
   },
   "outputs": [],
   "source": [
    "#hide\n",
    "dfc_cases = dft_cases.groupby(COL_REGION)[dt_today].sum()\n",
    "dfc_deaths = dft_deaths.groupby(COL_REGION)[dt_today].sum()\n",
    "# dfp_cases = dft_cases.groupby(COL_REGION)[dt_5day].sum()\n",
    "# dfp_deaths = dft_deaths.groupby(COL_REGION)[dt_5day].sum()\n",
    "dfp_cases = dft_cases.groupby(COL_REGION)[dt_yday].sum()\n",
    "dfp_deaths = dft_deaths.groupby(COL_REGION)[dt_yday].sum()"
   ]
  },
  {
   "cell_type": "code",
   "execution_count": 12,
   "id": "deluxe-hepatitis",
   "metadata": {
    "execution": {
     "iopub.execute_input": "2021-04-01T12:03:49.815601Z",
     "iopub.status.busy": "2021-04-01T12:03:49.814999Z",
     "iopub.status.idle": "2021-04-01T12:03:49.820076Z",
     "shell.execute_reply": "2021-04-01T12:03:49.820539Z"
    },
    "papermill": {
     "duration": 0.047971,
     "end_time": "2021-04-01T12:03:49.820699",
     "exception": false,
     "start_time": "2021-04-01T12:03:49.772728",
     "status": "completed"
    },
    "tags": []
   },
   "outputs": [],
   "source": [
    "#hide\n",
    "df_table = (pd.DataFrame(dict(Cases = dfc_cases, Deaths = dfc_deaths, PCases = dfp_cases, PDeaths = dfp_deaths))\n",
    "            .sort_values(by = ['Cases','Deaths'], ascending = [False, False])\n",
    "            .reset_index())"
   ]
  },
  {
   "cell_type": "code",
   "execution_count": 13,
   "id": "educational-chancellor",
   "metadata": {
    "execution": {
     "iopub.execute_input": "2021-04-01T12:03:49.908274Z",
     "iopub.status.busy": "2021-04-01T12:03:49.907670Z",
     "iopub.status.idle": "2021-04-01T12:03:49.915718Z",
     "shell.execute_reply": "2021-04-01T12:03:49.916183Z"
    },
    "papermill": {
     "duration": 0.061996,
     "end_time": "2021-04-01T12:03:49.916329",
     "exception": false,
     "start_time": "2021-04-01T12:03:49.854333",
     "status": "completed"
    },
    "tags": []
   },
   "outputs": [
    {
     "data": {
      "text/html": [
       "<div>\n",
       "<style scoped>\n",
       "    .dataframe tbody tr th:only-of-type {\n",
       "        vertical-align: middle;\n",
       "    }\n",
       "\n",
       "    .dataframe tbody tr th {\n",
       "        vertical-align: top;\n",
       "    }\n",
       "\n",
       "    .dataframe thead th {\n",
       "        text-align: right;\n",
       "    }\n",
       "</style>\n",
       "<table border=\"1\" class=\"dataframe\">\n",
       "  <thead>\n",
       "    <tr style=\"text-align: right;\">\n",
       "      <th></th>\n",
       "      <th>Country/Region</th>\n",
       "      <th>Cases</th>\n",
       "      <th>Deaths</th>\n",
       "      <th>PCases</th>\n",
       "      <th>PDeaths</th>\n",
       "      <th>Cases (+)</th>\n",
       "      <th>Deaths (+)</th>\n",
       "      <th>Fatality Rate</th>\n",
       "      <th>Continent</th>\n",
       "    </tr>\n",
       "  </thead>\n",
       "  <tbody>\n",
       "    <tr>\n",
       "      <th>0</th>\n",
       "      <td>US</td>\n",
       "      <td>30460730</td>\n",
       "      <td>552072</td>\n",
       "      <td>30393701</td>\n",
       "      <td>550996</td>\n",
       "      <td>67029</td>\n",
       "      <td>1076</td>\n",
       "      <td>1.81</td>\n",
       "      <td>North America</td>\n",
       "    </tr>\n",
       "    <tr>\n",
       "      <th>1</th>\n",
       "      <td>Brazil</td>\n",
       "      <td>12748747</td>\n",
       "      <td>321515</td>\n",
       "      <td>12658109</td>\n",
       "      <td>317646</td>\n",
       "      <td>90638</td>\n",
       "      <td>3869</td>\n",
       "      <td>2.52</td>\n",
       "      <td>South America</td>\n",
       "    </tr>\n",
       "    <tr>\n",
       "      <th>2</th>\n",
       "      <td>India</td>\n",
       "      <td>12221665</td>\n",
       "      <td>162927</td>\n",
       "      <td>12149335</td>\n",
       "      <td>162468</td>\n",
       "      <td>72330</td>\n",
       "      <td>459</td>\n",
       "      <td>1.33</td>\n",
       "      <td>Asia</td>\n",
       "    </tr>\n",
       "    <tr>\n",
       "      <th>3</th>\n",
       "      <td>France</td>\n",
       "      <td>4705068</td>\n",
       "      <td>95798</td>\n",
       "      <td>4646014</td>\n",
       "      <td>95495</td>\n",
       "      <td>59054</td>\n",
       "      <td>303</td>\n",
       "      <td>2.04</td>\n",
       "      <td>Europe</td>\n",
       "    </tr>\n",
       "    <tr>\n",
       "      <th>4</th>\n",
       "      <td>Russia</td>\n",
       "      <td>4494234</td>\n",
       "      <td>97219</td>\n",
       "      <td>4486078</td>\n",
       "      <td>96817</td>\n",
       "      <td>8156</td>\n",
       "      <td>402</td>\n",
       "      <td>2.16</td>\n",
       "      <td>Europe</td>\n",
       "    </tr>\n",
       "  </tbody>\n",
       "</table>\n",
       "</div>"
      ],
      "text/plain": [
       "  Country/Region     Cases  Deaths    PCases  PDeaths  Cases (+)  Deaths (+)  \\\n",
       "0             US  30460730  552072  30393701   550996      67029        1076   \n",
       "1         Brazil  12748747  321515  12658109   317646      90638        3869   \n",
       "2          India  12221665  162927  12149335   162468      72330         459   \n",
       "3         France   4705068   95798   4646014    95495      59054         303   \n",
       "4         Russia   4494234   97219   4486078    96817       8156         402   \n",
       "\n",
       "   Fatality Rate      Continent  \n",
       "0           1.81  North America  \n",
       "1           2.52  South America  \n",
       "2           1.33           Asia  \n",
       "3           2.04         Europe  \n",
       "4           2.16         Europe  "
      ]
     },
     "execution_count": 13,
     "metadata": {},
     "output_type": "execute_result"
    }
   ],
   "source": [
    "#hide\n",
    "for c in 'Cases, Deaths'.split(', '):\n",
    "    df_table[f'{c} (+)'] = (df_table[c] - df_table[f'P{c}']).clip(0)\n",
    "    #Clip ça veut dire, les chiffres negatif sont interdit\n",
    "df_table['Fatality Rate'] = (100* df_table['Deaths']/ df_table['Cases']).round(2)\n",
    "df_table['Continent'] = df_table['Country/Region'].map(mapping['map.continent'])\n",
    "df_table.head(5)"
   ]
  },
  {
   "cell_type": "code",
   "execution_count": 14,
   "id": "aboriginal-bulgaria",
   "metadata": {
    "execution": {
     "iopub.execute_input": "2021-04-01T12:03:49.991284Z",
     "iopub.status.busy": "2021-04-01T12:03:49.990678Z",
     "iopub.status.idle": "2021-04-01T12:03:49.992470Z",
     "shell.execute_reply": "2021-04-01T12:03:49.992929Z"
    },
    "papermill": {
     "duration": 0.042057,
     "end_time": "2021-04-01T12:03:49.993065",
     "exception": false,
     "start_time": "2021-04-01T12:03:49.951008",
     "status": "completed"
    },
    "tags": []
   },
   "outputs": [],
   "source": [
    "#hide\n",
    "#delete problematic countries from table\n",
    "df_table = df_table[~df_table['Country/Region'].isin(['Cape Verde', 'Cruise Ship', 'Kosovo'])]"
   ]
  },
  {
   "cell_type": "code",
   "execution_count": 15,
   "id": "fantastic-effect",
   "metadata": {
    "execution": {
     "iopub.execute_input": "2021-04-01T12:03:50.071454Z",
     "iopub.status.busy": "2021-04-01T12:03:50.070826Z",
     "iopub.status.idle": "2021-04-01T12:03:50.090252Z",
     "shell.execute_reply": "2021-04-01T12:03:50.089783Z"
    },
    "papermill": {
     "duration": 0.062934,
     "end_time": "2021-04-01T12:03:50.090380",
     "exception": false,
     "start_time": "2021-04-01T12:03:50.027446",
     "status": "completed"
    },
    "tags": []
   },
   "outputs": [
    {
     "data": {
      "text/html": [
       "<div>\n",
       "<style scoped>\n",
       "    .dataframe tbody tr th:only-of-type {\n",
       "        vertical-align: middle;\n",
       "    }\n",
       "\n",
       "    .dataframe tbody tr th {\n",
       "        vertical-align: top;\n",
       "    }\n",
       "\n",
       "    .dataframe thead th {\n",
       "        text-align: right;\n",
       "    }\n",
       "</style>\n",
       "<table border=\"1\" class=\"dataframe\">\n",
       "  <thead>\n",
       "    <tr style=\"text-align: right;\">\n",
       "      <th></th>\n",
       "      <th>Country/Region</th>\n",
       "      <th>Cases</th>\n",
       "      <th>Deaths</th>\n",
       "      <th>PCases</th>\n",
       "      <th>PDeaths</th>\n",
       "      <th>Cases (+)</th>\n",
       "      <th>Deaths (+)</th>\n",
       "      <th>Fatality Rate</th>\n",
       "      <th>Continent</th>\n",
       "    </tr>\n",
       "  </thead>\n",
       "  <tbody>\n",
       "    <tr>\n",
       "      <th>0</th>\n",
       "      <td>US</td>\n",
       "      <td>30460730</td>\n",
       "      <td>552072</td>\n",
       "      <td>30393701</td>\n",
       "      <td>550996</td>\n",
       "      <td>67029</td>\n",
       "      <td>1076</td>\n",
       "      <td>1.8</td>\n",
       "      <td>North America</td>\n",
       "    </tr>\n",
       "    <tr>\n",
       "      <th>1</th>\n",
       "      <td>Brazil</td>\n",
       "      <td>12748747</td>\n",
       "      <td>321515</td>\n",
       "      <td>12658109</td>\n",
       "      <td>317646</td>\n",
       "      <td>90638</td>\n",
       "      <td>3869</td>\n",
       "      <td>2.5</td>\n",
       "      <td>South America</td>\n",
       "    </tr>\n",
       "    <tr>\n",
       "      <th>2</th>\n",
       "      <td>India</td>\n",
       "      <td>12221665</td>\n",
       "      <td>162927</td>\n",
       "      <td>12149335</td>\n",
       "      <td>162468</td>\n",
       "      <td>72330</td>\n",
       "      <td>459</td>\n",
       "      <td>1.3</td>\n",
       "      <td>Asia</td>\n",
       "    </tr>\n",
       "    <tr>\n",
       "      <th>3</th>\n",
       "      <td>France</td>\n",
       "      <td>4705068</td>\n",
       "      <td>95798</td>\n",
       "      <td>4646014</td>\n",
       "      <td>95495</td>\n",
       "      <td>59054</td>\n",
       "      <td>303</td>\n",
       "      <td>2.0</td>\n",
       "      <td>Europe</td>\n",
       "    </tr>\n",
       "    <tr>\n",
       "      <th>4</th>\n",
       "      <td>Russia</td>\n",
       "      <td>4494234</td>\n",
       "      <td>97219</td>\n",
       "      <td>4486078</td>\n",
       "      <td>96817</td>\n",
       "      <td>8156</td>\n",
       "      <td>402</td>\n",
       "      <td>2.2</td>\n",
       "      <td>Europe</td>\n",
       "    </tr>\n",
       "  </tbody>\n",
       "</table>\n",
       "</div>"
      ],
      "text/plain": [
       "  Country/Region     Cases  Deaths    PCases  PDeaths  Cases (+)  Deaths (+)  \\\n",
       "0             US  30460730  552072  30393701   550996      67029        1076   \n",
       "1         Brazil  12748747  321515  12658109   317646      90638        3869   \n",
       "2          India  12221665  162927  12149335   162468      72330         459   \n",
       "3         France   4705068   95798   4646014    95495      59054         303   \n",
       "4         Russia   4494234   97219   4486078    96817       8156         402   \n",
       "\n",
       "   Fatality Rate      Continent  \n",
       "0            1.8  North America  \n",
       "1            2.5  South America  \n",
       "2            1.3           Asia  \n",
       "3            2.0         Europe  \n",
       "4            2.2         Europe  "
      ]
     },
     "execution_count": 15,
     "metadata": {},
     "output_type": "execute_result"
    }
   ],
   "source": [
    "#hide\n",
    "df_table = (pd.DataFrame(dict(Cases=dfc_cases, Deaths=dfc_deaths, PCases=dfp_cases, PDeaths=dfp_deaths))\n",
    "             .sort_values(by=['Cases', 'Deaths'], ascending=[False, False])\n",
    "             .reset_index())\n",
    "df_table.rename(columns={'index': 'Country/Region'}, inplace=True)\n",
    "for c in 'Cases, Deaths'.split(', '):\n",
    "    df_table[f'{c} (+)'] = (df_table[c] - df_table[f'P{c}']).clip(0)  # DATA BUG\n",
    "df_table['Fatality Rate'] = (100 * df_table['Deaths'] / df_table['Cases']).round(1)\n",
    "df_table['Continent'] = df_table['Country/Region'].map(mapping['map.continent'])\n",
    "df_table.head(5)"
   ]
  },
  {
   "cell_type": "code",
   "execution_count": 16,
   "id": "fewer-occasion",
   "metadata": {
    "execution": {
     "iopub.execute_input": "2021-04-01T12:03:50.166671Z",
     "iopub.status.busy": "2021-04-01T12:03:50.166085Z",
     "iopub.status.idle": "2021-04-01T12:03:50.168596Z",
     "shell.execute_reply": "2021-04-01T12:03:50.169062Z"
    },
    "papermill": {
     "duration": 0.043657,
     "end_time": "2021-04-01T12:03:50.169203",
     "exception": false,
     "start_time": "2021-04-01T12:03:50.125546",
     "status": "completed"
    },
    "tags": []
   },
   "outputs": [],
   "source": [
    "#hide\n",
    "#delete problematic countries from table\n",
    "df_table = df_table[~df_table['Country/Region'].isin(['Cape Verde', 'Cruise Ship', 'Kosovo'])]"
   ]
  },
  {
   "cell_type": "code",
   "execution_count": 17,
   "id": "related-center",
   "metadata": {
    "execution": {
     "iopub.execute_input": "2021-04-01T12:03:50.259911Z",
     "iopub.status.busy": "2021-04-01T12:03:50.259285Z",
     "iopub.status.idle": "2021-04-01T12:03:50.261097Z",
     "shell.execute_reply": "2021-04-01T12:03:50.261564Z"
    },
    "papermill": {
     "duration": 0.058033,
     "end_time": "2021-04-01T12:03:50.261709",
     "exception": false,
     "start_time": "2021-04-01T12:03:50.203676",
     "status": "completed"
    },
    "tags": []
   },
   "outputs": [],
   "source": [
    "#hide\n",
    "metrics = [df_table.columns[index] for index in [1,2,5,6]]\n",
    "# s_china = df_table[df_table['Country/Region'].eq('China')][metrics].sum().add_prefix('China ')\n",
    "s_us = df_table[df_table['Country/Region'].eq('US')][metrics].sum().add_prefix('US ')\n",
    "s_eu = df_table[df_table['Continent'].eq('Europe')][metrics].sum().add_prefix('EU ')\n",
    "s_ind = df_table[df_table['Country/Region'].eq('India')][metrics].sum().add_prefix('India ')\n",
    "summary = {'updated': pd.to_datetime(dt_today), 'since': pd.to_datetime(dt_yday)}\n",
    "summary = {'updated': pd.to_datetime(dt_today), 'since': pd.to_datetime(dt_yday)}\n",
    "summary = {**summary, **df_table[metrics].sum(), **s_ind, **s_us, **s_eu}"
   ]
  },
  {
   "cell_type": "code",
   "execution_count": 18,
   "id": "engaging-syndrome",
   "metadata": {
    "execution": {
     "iopub.execute_input": "2021-04-01T12:03:50.340468Z",
     "iopub.status.busy": "2021-04-01T12:03:50.336946Z",
     "iopub.status.idle": "2021-04-01T12:03:50.351422Z",
     "shell.execute_reply": "2021-04-01T12:03:50.350863Z"
    },
    "papermill": {
     "duration": 0.055243,
     "end_time": "2021-04-01T12:03:50.351552",
     "exception": false,
     "start_time": "2021-04-01T12:03:50.296309",
     "status": "completed"
    },
    "tags": []
   },
   "outputs": [],
   "source": [
    "#hide\n",
    "dft_ct_new_cases = dft_cases.groupby(COL_REGION)[dt_cols].sum().diff(axis=1).fillna(0).astype(int)"
   ]
  },
  {
   "cell_type": "code",
   "execution_count": 19,
   "id": "neutral-assignment",
   "metadata": {
    "execution": {
     "iopub.execute_input": "2021-04-01T12:03:50.428809Z",
     "iopub.status.busy": "2021-04-01T12:03:50.428214Z",
     "iopub.status.idle": "2021-04-01T12:03:50.430963Z",
     "shell.execute_reply": "2021-04-01T12:03:50.430498Z"
    },
    "papermill": {
     "duration": 0.044568,
     "end_time": "2021-04-01T12:03:50.431113",
     "exception": false,
     "start_time": "2021-04-01T12:03:50.386545",
     "status": "completed"
    },
    "tags": []
   },
   "outputs": [],
   "source": [
    "#hide\n",
    "everydaycases = dft_ct_new_cases.cumsum(axis=1)"
   ]
  },
  {
   "cell_type": "code",
   "execution_count": 20,
   "id": "parliamentary-calgary",
   "metadata": {
    "execution": {
     "iopub.execute_input": "2021-04-01T12:03:50.505535Z",
     "iopub.status.busy": "2021-04-01T12:03:50.504952Z",
     "iopub.status.idle": "2021-04-01T12:03:55.349274Z",
     "shell.execute_reply": "2021-04-01T12:03:55.348414Z"
    },
    "papermill": {
     "duration": 4.883334,
     "end_time": "2021-04-01T12:03:55.349487",
     "exception": false,
     "start_time": "2021-04-01T12:03:50.466153",
     "status": "completed"
    },
    "tags": []
   },
   "outputs": [],
   "source": [
    "#hide\n",
    "import pandas as pd\n",
    "import matplotlib.pyplot as plt\n",
    "import matplotlib.ticker as ticker\n",
    "import matplotlib.animation as animation\n",
    "from IPython.display import HTML"
   ]
  },
  {
   "cell_type": "code",
   "execution_count": 21,
   "id": "lasting-extraction",
   "metadata": {
    "execution": {
     "iopub.execute_input": "2021-04-01T12:03:55.428764Z",
     "iopub.status.busy": "2021-04-01T12:03:55.428143Z",
     "iopub.status.idle": "2021-04-01T12:03:55.433747Z",
     "shell.execute_reply": "2021-04-01T12:03:55.433277Z"
    },
    "papermill": {
     "duration": 0.047169,
     "end_time": "2021-04-01T12:03:55.433873",
     "exception": false,
     "start_time": "2021-04-01T12:03:55.386704",
     "status": "completed"
    },
    "tags": []
   },
   "outputs": [],
   "source": [
    "#hide\n",
    "t = everydaycases.stack()"
   ]
  },
  {
   "cell_type": "code",
   "execution_count": 22,
   "id": "premier-sleeve",
   "metadata": {
    "execution": {
     "iopub.execute_input": "2021-04-01T12:03:55.509245Z",
     "iopub.status.busy": "2021-04-01T12:03:55.508655Z",
     "iopub.status.idle": "2021-04-01T12:03:55.515920Z",
     "shell.execute_reply": "2021-04-01T12:03:55.516378Z"
    },
    "papermill": {
     "duration": 0.047654,
     "end_time": "2021-04-01T12:03:55.516523",
     "exception": false,
     "start_time": "2021-04-01T12:03:55.468869",
     "status": "completed"
    },
    "tags": []
   },
   "outputs": [],
   "source": [
    "#hide\n",
    "g = t.reset_index(['Country/Region'])"
   ]
  },
  {
   "cell_type": "code",
   "execution_count": 23,
   "id": "distributed-pittsburgh",
   "metadata": {
    "execution": {
     "iopub.execute_input": "2021-04-01T12:03:55.589637Z",
     "iopub.status.busy": "2021-04-01T12:03:55.589057Z",
     "iopub.status.idle": "2021-04-01T12:03:55.591521Z",
     "shell.execute_reply": "2021-04-01T12:03:55.591006Z"
    },
    "papermill": {
     "duration": 0.04156,
     "end_time": "2021-04-01T12:03:55.591638",
     "exception": false,
     "start_time": "2021-04-01T12:03:55.550078",
     "status": "completed"
    },
    "tags": []
   },
   "outputs": [],
   "source": [
    "#hide\n",
    "g.index.name = 'date'"
   ]
  },
  {
   "cell_type": "code",
   "execution_count": 24,
   "id": "naked-donor",
   "metadata": {
    "execution": {
     "iopub.execute_input": "2021-04-01T12:03:55.665266Z",
     "iopub.status.busy": "2021-04-01T12:03:55.664681Z",
     "iopub.status.idle": "2021-04-01T12:03:55.667063Z",
     "shell.execute_reply": "2021-04-01T12:03:55.667647Z"
    },
    "papermill": {
     "duration": 0.041975,
     "end_time": "2021-04-01T12:03:55.667792",
     "exception": false,
     "start_time": "2021-04-01T12:03:55.625817",
     "status": "completed"
    },
    "tags": []
   },
   "outputs": [],
   "source": [
    "# #hide\n",
    "# g = g.reset_index(['date'])"
   ]
  },
  {
   "cell_type": "code",
   "execution_count": 25,
   "id": "incomplete-mustang",
   "metadata": {
    "execution": {
     "iopub.execute_input": "2021-04-01T12:03:55.742356Z",
     "iopub.status.busy": "2021-04-01T12:03:55.741748Z",
     "iopub.status.idle": "2021-04-01T12:03:55.745342Z",
     "shell.execute_reply": "2021-04-01T12:03:55.745795Z"
    },
    "papermill": {
     "duration": 0.043623,
     "end_time": "2021-04-01T12:03:55.745948",
     "exception": false,
     "start_time": "2021-04-01T12:03:55.702325",
     "status": "completed"
    },
    "tags": []
   },
   "outputs": [],
   "source": [
    "#hide\n",
    "# g.head()"
   ]
  },
  {
   "cell_type": "code",
   "execution_count": 26,
   "id": "specific-kruger",
   "metadata": {
    "execution": {
     "iopub.execute_input": "2021-04-01T12:03:55.820934Z",
     "iopub.status.busy": "2021-04-01T12:03:55.819669Z",
     "iopub.status.idle": "2021-04-01T12:03:55.821592Z",
     "shell.execute_reply": "2021-04-01T12:03:55.822047Z"
    },
    "papermill": {
     "duration": 0.041297,
     "end_time": "2021-04-01T12:03:55.822185",
     "exception": false,
     "start_time": "2021-04-01T12:03:55.780888",
     "status": "completed"
    },
    "tags": []
   },
   "outputs": [],
   "source": [
    "#hide\n",
    "# g.columns = ['date','country','cases']"
   ]
  },
  {
   "cell_type": "code",
   "execution_count": 27,
   "id": "tender-conversion",
   "metadata": {
    "execution": {
     "iopub.execute_input": "2021-04-01T12:03:55.895317Z",
     "iopub.status.busy": "2021-04-01T12:03:55.894521Z",
     "iopub.status.idle": "2021-04-01T12:03:55.898516Z",
     "shell.execute_reply": "2021-04-01T12:03:55.897991Z"
    },
    "papermill": {
     "duration": 0.042006,
     "end_time": "2021-04-01T12:03:55.898634",
     "exception": false,
     "start_time": "2021-04-01T12:03:55.856628",
     "status": "completed"
    },
    "tags": []
   },
   "outputs": [],
   "source": [
    "#hide\n",
    "# g['continent'] = g.country"
   ]
  },
  {
   "cell_type": "code",
   "execution_count": 28,
   "id": "substantial-wilderness",
   "metadata": {
    "execution": {
     "iopub.execute_input": "2021-04-01T12:03:55.973592Z",
     "iopub.status.busy": "2021-04-01T12:03:55.972972Z",
     "iopub.status.idle": "2021-04-01T12:03:55.974869Z",
     "shell.execute_reply": "2021-04-01T12:03:55.975332Z"
    },
    "papermill": {
     "duration": 0.041496,
     "end_time": "2021-04-01T12:03:55.975478",
     "exception": false,
     "start_time": "2021-04-01T12:03:55.933982",
     "status": "completed"
    },
    "tags": []
   },
   "outputs": [],
   "source": [
    "#hide\n",
    "# cols = list(g.columns.values)"
   ]
  },
  {
   "cell_type": "code",
   "execution_count": 29,
   "id": "solved-farming",
   "metadata": {
    "execution": {
     "iopub.execute_input": "2021-04-01T12:03:56.049266Z",
     "iopub.status.busy": "2021-04-01T12:03:56.048545Z",
     "iopub.status.idle": "2021-04-01T12:03:56.050868Z",
     "shell.execute_reply": "2021-04-01T12:03:56.050373Z"
    },
    "papermill": {
     "duration": 0.040711,
     "end_time": "2021-04-01T12:03:56.051011",
     "exception": false,
     "start_time": "2021-04-01T12:03:56.010300",
     "status": "completed"
    },
    "tags": []
   },
   "outputs": [],
   "source": [
    "#hide\n",
    "# cols.insert(0, cols.pop())"
   ]
  },
  {
   "cell_type": "code",
   "execution_count": 30,
   "id": "executed-adoption",
   "metadata": {
    "execution": {
     "iopub.execute_input": "2021-04-01T12:03:56.125451Z",
     "iopub.status.busy": "2021-04-01T12:03:56.124627Z",
     "iopub.status.idle": "2021-04-01T12:03:56.126191Z",
     "shell.execute_reply": "2021-04-01T12:03:56.126803Z"
    },
    "papermill": {
     "duration": 0.040912,
     "end_time": "2021-04-01T12:03:56.126985",
     "exception": false,
     "start_time": "2021-04-01T12:03:56.086073",
     "status": "completed"
    },
    "tags": []
   },
   "outputs": [],
   "source": [
    "#hide\n",
    "# g = g[cols]"
   ]
  },
  {
   "cell_type": "code",
   "execution_count": 31,
   "id": "subject-dublin",
   "metadata": {
    "execution": {
     "iopub.execute_input": "2021-04-01T12:03:56.200588Z",
     "iopub.status.busy": "2021-04-01T12:03:56.199982Z",
     "iopub.status.idle": "2021-04-01T12:03:56.202327Z",
     "shell.execute_reply": "2021-04-01T12:03:56.201816Z"
    },
    "papermill": {
     "duration": 0.040663,
     "end_time": "2021-04-01T12:03:56.202440",
     "exception": false,
     "start_time": "2021-04-01T12:03:56.161777",
     "status": "completed"
    },
    "tags": []
   },
   "outputs": [],
   "source": [
    "#hide\n",
    "# g['continent'] = g['continent'].map(mapping['map.continent'])"
   ]
  },
  {
   "cell_type": "code",
   "execution_count": 32,
   "id": "freelance-scout",
   "metadata": {
    "execution": {
     "iopub.execute_input": "2021-04-01T12:03:56.277530Z",
     "iopub.status.busy": "2021-04-01T12:03:56.276948Z",
     "iopub.status.idle": "2021-04-01T12:03:56.279377Z",
     "shell.execute_reply": "2021-04-01T12:03:56.279931Z"
    },
    "papermill": {
     "duration": 0.042635,
     "end_time": "2021-04-01T12:03:56.280072",
     "exception": false,
     "start_time": "2021-04-01T12:03:56.237437",
     "status": "completed"
    },
    "tags": []
   },
   "outputs": [],
   "source": [
    "#hide\n",
    "# g.head()"
   ]
  },
  {
   "cell_type": "code",
   "execution_count": 33,
   "id": "limited-engine",
   "metadata": {
    "execution": {
     "iopub.execute_input": "2021-04-01T12:03:56.354072Z",
     "iopub.status.busy": "2021-04-01T12:03:56.353481Z",
     "iopub.status.idle": "2021-04-01T12:03:56.355380Z",
     "shell.execute_reply": "2021-04-01T12:03:56.355821Z"
    },
    "papermill": {
     "duration": 0.041068,
     "end_time": "2021-04-01T12:03:56.355967",
     "exception": false,
     "start_time": "2021-04-01T12:03:56.314899",
     "status": "completed"
    },
    "tags": []
   },
   "outputs": [],
   "source": [
    "# hide\n",
    "# g['date'] = g['date'].astype('datetime64[ns]')"
   ]
  },
  {
   "cell_type": "code",
   "execution_count": 34,
   "id": "sophisticated-supervisor",
   "metadata": {
    "execution": {
     "iopub.execute_input": "2021-04-01T12:03:56.431505Z",
     "iopub.status.busy": "2021-04-01T12:03:56.430829Z",
     "iopub.status.idle": "2021-04-01T12:03:56.432750Z",
     "shell.execute_reply": "2021-04-01T12:03:56.433185Z"
    },
    "papermill": {
     "duration": 0.041734,
     "end_time": "2021-04-01T12:03:56.433325",
     "exception": false,
     "start_time": "2021-04-01T12:03:56.391591",
     "status": "completed"
    },
    "tags": []
   },
   "outputs": [],
   "source": [
    "#hide\n",
    "# g['date'] = g.date.dt.dayofyear"
   ]
  },
  {
   "cell_type": "code",
   "execution_count": 35,
   "id": "inside-dubai",
   "metadata": {
    "execution": {
     "iopub.execute_input": "2021-04-01T12:03:56.507082Z",
     "iopub.status.busy": "2021-04-01T12:03:56.506424Z",
     "iopub.status.idle": "2021-04-01T12:03:56.508894Z",
     "shell.execute_reply": "2021-04-01T12:03:56.508402Z"
    },
    "papermill": {
     "duration": 0.041042,
     "end_time": "2021-04-01T12:03:56.509072",
     "exception": false,
     "start_time": "2021-04-01T12:03:56.468030",
     "status": "completed"
    },
    "tags": []
   },
   "outputs": [],
   "source": [
    "#hide\n",
    "# g = g.rename(columns= {'continent':'group','country':'name','cases':'value'})"
   ]
  },
  {
   "cell_type": "code",
   "execution_count": 36,
   "id": "fleet-motorcycle",
   "metadata": {
    "execution": {
     "iopub.execute_input": "2021-04-01T12:03:56.583821Z",
     "iopub.status.busy": "2021-04-01T12:03:56.583094Z",
     "iopub.status.idle": "2021-04-01T12:03:56.584515Z",
     "shell.execute_reply": "2021-04-01T12:03:56.585039Z"
    },
    "papermill": {
     "duration": 0.041063,
     "end_time": "2021-04-01T12:03:56.585182",
     "exception": false,
     "start_time": "2021-04-01T12:03:56.544119",
     "status": "completed"
    },
    "tags": []
   },
   "outputs": [],
   "source": [
    "#hide\n",
    "# cols = ['name','group','day','value']"
   ]
  },
  {
   "cell_type": "code",
   "execution_count": 37,
   "id": "continued-sleeping",
   "metadata": {
    "execution": {
     "iopub.execute_input": "2021-04-01T12:03:56.661462Z",
     "iopub.status.busy": "2021-04-01T12:03:56.660719Z",
     "iopub.status.idle": "2021-04-01T12:03:56.663505Z",
     "shell.execute_reply": "2021-04-01T12:03:56.662896Z"
    },
    "papermill": {
     "duration": 0.042561,
     "end_time": "2021-04-01T12:03:56.663661",
     "exception": false,
     "start_time": "2021-04-01T12:03:56.621100",
     "status": "completed"
    },
    "tags": []
   },
   "outputs": [],
   "source": [
    "#hide\n",
    "# g.rename(columns= {'date':'day'},inplace = True)"
   ]
  },
  {
   "cell_type": "code",
   "execution_count": 38,
   "id": "major-fight",
   "metadata": {
    "execution": {
     "iopub.execute_input": "2021-04-01T12:03:56.738441Z",
     "iopub.status.busy": "2021-04-01T12:03:56.737860Z",
     "iopub.status.idle": "2021-04-01T12:03:56.740080Z",
     "shell.execute_reply": "2021-04-01T12:03:56.739505Z"
    },
    "papermill": {
     "duration": 0.040817,
     "end_time": "2021-04-01T12:03:56.740204",
     "exception": false,
     "start_time": "2021-04-01T12:03:56.699387",
     "status": "completed"
    },
    "tags": []
   },
   "outputs": [],
   "source": [
    "#hide\n",
    "# g = g[cols]"
   ]
  },
  {
   "cell_type": "code",
   "execution_count": 39,
   "id": "structured-mobile",
   "metadata": {
    "execution": {
     "iopub.execute_input": "2021-04-01T12:03:56.814230Z",
     "iopub.status.busy": "2021-04-01T12:03:56.813612Z",
     "iopub.status.idle": "2021-04-01T12:03:56.815937Z",
     "shell.execute_reply": "2021-04-01T12:03:56.815443Z"
    },
    "papermill": {
     "duration": 0.040922,
     "end_time": "2021-04-01T12:03:56.816061",
     "exception": false,
     "start_time": "2021-04-01T12:03:56.775139",
     "status": "completed"
    },
    "tags": []
   },
   "outputs": [],
   "source": [
    "# #hide\n",
    "# g = g[g.group.notna()]"
   ]
  },
  {
   "cell_type": "code",
   "execution_count": 40,
   "id": "determined-closing",
   "metadata": {
    "execution": {
     "iopub.execute_input": "2021-04-01T12:03:56.894455Z",
     "iopub.status.busy": "2021-04-01T12:03:56.893863Z",
     "iopub.status.idle": "2021-04-01T12:03:56.896309Z",
     "shell.execute_reply": "2021-04-01T12:03:56.895836Z"
    },
    "papermill": {
     "duration": 0.043179,
     "end_time": "2021-04-01T12:03:56.896435",
     "exception": false,
     "start_time": "2021-04-01T12:03:56.853256",
     "status": "completed"
    },
    "tags": []
   },
   "outputs": [],
   "source": [
    "# #hide\n",
    "# colors = dict(zip(\n",
    "#     [\"Oceania\", \"Europe\", \"Asia\", \"South America\", \"Middle East\", \"North America\", \"Africa\"],\n",
    "#     [\"#adb0ff\", \"#ffb3ff\", \"#90d595\", \"#e48381\", \"#aafbff\", \"#f7bb5f\", \"#eafb50\"]\n",
    "# ))\n",
    "# group_lk = g.set_index('name')['group'].to_dict()"
   ]
  },
  {
   "cell_type": "code",
   "execution_count": null,
   "id": "gross-drinking",
   "metadata": {
    "papermill": {
     "duration": 0.03478,
     "end_time": "2021-04-01T12:03:56.965948",
     "exception": false,
     "start_time": "2021-04-01T12:03:56.931168",
     "status": "completed"
    },
    "tags": []
   },
   "outputs": [],
   "source": []
  },
  {
   "cell_type": "code",
   "execution_count": 41,
   "id": "subject-macintosh",
   "metadata": {
    "execution": {
     "iopub.execute_input": "2021-04-01T12:03:57.040967Z",
     "iopub.status.busy": "2021-04-01T12:03:57.040288Z",
     "iopub.status.idle": "2021-04-01T12:03:57.042659Z",
     "shell.execute_reply": "2021-04-01T12:03:57.042193Z"
    },
    "papermill": {
     "duration": 0.041707,
     "end_time": "2021-04-01T12:03:57.042785",
     "exception": false,
     "start_time": "2021-04-01T12:03:57.001078",
     "status": "completed"
    },
    "tags": []
   },
   "outputs": [],
   "source": [
    "# #hide\n",
    "# fig, ax = plt.subplots(figsize=(15, 8))\n",
    "\n",
    "# def draw_barchart(current_day):\n",
    "#     dff = g[g['day'].eq(current_day)].sort_values(by='value', ascending=True).tail(10)\n",
    "#     ax.clear()\n",
    "#     ax.barh(dff['name'], dff['value'], color=[colors[group_lk[x]] for x in dff['name']])\n",
    "#     dx = dff['value'].max() / 200\n",
    "    \n",
    "#     for i, (value, name) in enumerate(zip(dff['value'], dff['name'])):\n",
    "#         ax.text(value-dx, i,     name,           size=14, weight=600, ha='right', va='bottom')\n",
    "#         ax.text(value-dx, i-.25, group_lk[name], size=10, color='#444444', ha='right', va='baseline')\n",
    "#         ax.text(value+dx, i,     f'{value:,.0f}',  size=14, ha='left',  va='center')\n",
    "#     ax.text(1, 0.4, current_day, transform=ax.transAxes, color='#777777', size=46, ha='right', weight=800)\n",
    "#     ax.text(0, 1.06, 'Population (thousands)', transform=ax.transAxes, size=12, color='#777777')\n",
    "#     ax.xaxis.set_major_formatter(ticker.StrMethodFormatter('{x:,.0f}'))\n",
    "#     ax.xaxis.set_ticks_position('top')\n",
    "#     ax.tick_params(axis='x', colors='#777777', labelsize=12)\n",
    "#     ax.set_yticks([])\n",
    "#     ax.margins(0, 0.01)\n",
    "#     ax.grid(which='major', axis='x', linestyle='-')\n",
    "#     ax.set_axisbelow(True)\n",
    "    \n",
    "#     ax.text(0, 1.15, 'Coronavirus',\n",
    "#             transform=ax.transAxes, size=24, weight=600, ha='left', va='top')\n",
    "# #     ax.text(1, 0, 'by @pratapvardhan; credit @jburnmurdoch', transform=ax.transAxes, color='#777777', ha='right',\n",
    "# #             bbox=dict(facecolor='white', alpha=0.8, edgecolor='white'))\n",
    "#     plt.box(False)"
   ]
  },
  {
   "cell_type": "code",
   "execution_count": 42,
   "id": "sexual-wages",
   "metadata": {
    "execution": {
     "iopub.execute_input": "2021-04-01T12:03:57.116419Z",
     "iopub.status.busy": "2021-04-01T12:03:57.115816Z",
     "iopub.status.idle": "2021-04-01T12:03:57.118140Z",
     "shell.execute_reply": "2021-04-01T12:03:57.117651Z"
    },
    "papermill": {
     "duration": 0.040731,
     "end_time": "2021-04-01T12:03:57.118259",
     "exception": false,
     "start_time": "2021-04-01T12:03:57.077528",
     "status": "completed"
    },
    "tags": []
   },
   "outputs": [],
   "source": [
    "# #hide_input\n",
    "# fig, ax = plt.subplots(figsize=(15, 8))\n",
    "# animator = animation.FuncAnimation(fig, draw_barchart, frames=range(g.day.values.min(), g.day.values.max()))\n",
    "# HTML(animator.to_jshtml())\n",
    "# # or use animator.to_html5_video() or animator.save() "
   ]
  },
  {
   "cell_type": "code",
   "execution_count": null,
   "id": "australian-container",
   "metadata": {
    "papermill": {
     "duration": 0.036022,
     "end_time": "2021-04-01T12:03:57.189408",
     "exception": false,
     "start_time": "2021-04-01T12:03:57.153386",
     "status": "completed"
    },
    "tags": []
   },
   "outputs": [],
   "source": []
  },
  {
   "cell_type": "code",
   "execution_count": null,
   "id": "mediterranean-pontiac",
   "metadata": {
    "papermill": {
     "duration": 0.040558,
     "end_time": "2021-04-01T12:03:57.265798",
     "exception": false,
     "start_time": "2021-04-01T12:03:57.225240",
     "status": "completed"
    },
    "tags": []
   },
   "outputs": [],
   "source": []
  },
  {
   "cell_type": "code",
   "execution_count": null,
   "id": "aging-legislature",
   "metadata": {
    "papermill": {
     "duration": 0.051284,
     "end_time": "2021-04-01T12:03:57.352801",
     "exception": false,
     "start_time": "2021-04-01T12:03:57.301517",
     "status": "completed"
    },
    "tags": []
   },
   "outputs": [],
   "source": []
  }
 ],
 "metadata": {
  "kernelspec": {
   "display_name": "Python 3",
   "language": "python",
   "name": "python3"
  },
  "language_info": {
   "codemirror_mode": {
    "name": "ipython",
    "version": 3
   },
   "file_extension": ".py",
   "mimetype": "text/x-python",
   "name": "python",
   "nbconvert_exporter": "python",
   "pygments_lexer": "ipython3",
   "version": "3.6.13"
  },
  "papermill": {
   "duration": 10.832233,
   "end_time": "2021-04-01T12:03:57.800835",
   "environment_variables": {},
   "exception": null,
   "input_path": "2020-03-21-covid19exp.ipynb",
   "output_path": "2020-03-21-covid19exp.ipynb",
   "parameters": {},
   "start_time": "2021-04-01T12:03:46.968602",
   "version": "2.0.0"
  }
 },
 "nbformat": 4,
 "nbformat_minor": 5
}