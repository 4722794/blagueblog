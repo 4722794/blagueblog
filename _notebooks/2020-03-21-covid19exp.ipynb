{
 "cells": [
  {
   "cell_type": "markdown",
   "id": "muslim-click",
   "metadata": {
    "papermill": {
     "duration": 0.037307,
     "end_time": "2021-09-20T12:11:15.652969",
     "exception": false,
     "start_time": "2021-09-20T12:11:15.615662",
     "status": "completed"
    },
    "tags": []
   },
   "source": [
    "# COVID-19 Case Race\n",
    "> A race chart to see rising cases around the world\n",
    "\n",
    "- author: Hargun Oberoi\n",
    "- image: images/covid-overview.png\n",
    "- hide: false\n",
    "- badges: false"
   ]
  },
  {
   "cell_type": "code",
   "execution_count": 1,
   "id": "proof-material",
   "metadata": {
    "execution": {
     "iopub.execute_input": "2021-09-20T12:11:15.731381Z",
     "iopub.status.busy": "2021-09-20T12:11:15.730770Z",
     "iopub.status.idle": "2021-09-20T12:11:16.101539Z",
     "shell.execute_reply": "2021-09-20T12:11:16.101001Z"
    },
    "papermill": {
     "duration": 0.414471,
     "end_time": "2021-09-20T12:11:16.101688",
     "exception": false,
     "start_time": "2021-09-20T12:11:15.687217",
     "status": "completed"
    },
    "tags": []
   },
   "outputs": [],
   "source": [
    "#hide\n",
    "import numpy as np\n",
    "import pandas as pd\n",
    "from jinja2 import Template\n",
    "from IPython.display import HTML"
   ]
  },
  {
   "cell_type": "code",
   "execution_count": 2,
   "id": "developed-terminology",
   "metadata": {
    "execution": {
     "iopub.execute_input": "2021-09-20T12:11:16.179972Z",
     "iopub.status.busy": "2021-09-20T12:11:16.179365Z",
     "iopub.status.idle": "2021-09-20T12:11:16.181752Z",
     "shell.execute_reply": "2021-09-20T12:11:16.182314Z"
    },
    "papermill": {
     "duration": 0.043752,
     "end_time": "2021-09-20T12:11:16.182458",
     "exception": false,
     "start_time": "2021-09-20T12:11:16.138706",
     "status": "completed"
    },
    "tags": []
   },
   "outputs": [],
   "source": [
    "#hide\n",
    "\n",
    "# FETCH\n",
    "base_url = 'https://raw.githubusercontent.com/pratapvardhan/notebooks/master/covid19/'\n",
    "paths = {\n",
    "    'mapping': base_url + 'mapping_countries.csv',\n",
    "    'overview': base_url + 'overview.tpl'\n",
    "}"
   ]
  },
  {
   "cell_type": "code",
   "execution_count": 3,
   "id": "dynamic-saver",
   "metadata": {
    "execution": {
     "iopub.execute_input": "2021-09-20T12:11:16.260711Z",
     "iopub.status.busy": "2021-09-20T12:11:16.260068Z",
     "iopub.status.idle": "2021-09-20T12:11:16.264564Z",
     "shell.execute_reply": "2021-09-20T12:11:16.265069Z"
    },
    "papermill": {
     "duration": 0.049228,
     "end_time": "2021-09-20T12:11:16.265199",
     "exception": false,
     "start_time": "2021-09-20T12:11:16.215971",
     "status": "completed"
    },
    "tags": []
   },
   "outputs": [
    {
     "data": {
      "text/plain": [
       "'https://raw.githubusercontent.com/pratapvardhan/notebooks/master/covid19/mapping_countries.csv'"
      ]
     },
     "execution_count": 3,
     "metadata": {},
     "output_type": "execute_result"
    }
   ],
   "source": [
    "#hide\n",
    "paths['mapping']"
   ]
  },
  {
   "cell_type": "code",
   "execution_count": 4,
   "id": "urban-software",
   "metadata": {
    "execution": {
     "iopub.execute_input": "2021-09-20T12:11:16.338821Z",
     "iopub.status.busy": "2021-09-20T12:11:16.338228Z",
     "iopub.status.idle": "2021-09-20T12:11:16.340785Z",
     "shell.execute_reply": "2021-09-20T12:11:16.340256Z"
    },
    "papermill": {
     "duration": 0.041637,
     "end_time": "2021-09-20T12:11:16.340902",
     "exception": false,
     "start_time": "2021-09-20T12:11:16.299265",
     "status": "completed"
    },
    "tags": []
   },
   "outputs": [],
   "source": [
    "#hide\n",
    "def get_mappings(url):\n",
    "    df = pd.read_csv(url)\n",
    "    return {\n",
    "        'df': df,\n",
    "        'replace.country': dict(df.dropna(subset=['Name']).set_index('Country')['Name']),\n",
    "        'map.continent': dict(df.set_index('Name')['Continent'])\n",
    "    }"
   ]
  },
  {
   "cell_type": "code",
   "execution_count": 5,
   "id": "intimate-machinery",
   "metadata": {
    "execution": {
     "iopub.execute_input": "2021-09-20T12:11:16.416456Z",
     "iopub.status.busy": "2021-09-20T12:11:16.415817Z",
     "iopub.status.idle": "2021-09-20T12:11:16.448293Z",
     "shell.execute_reply": "2021-09-20T12:11:16.447620Z"
    },
    "papermill": {
     "duration": 0.07376,
     "end_time": "2021-09-20T12:11:16.448449",
     "exception": false,
     "start_time": "2021-09-20T12:11:16.374689",
     "status": "completed"
    },
    "tags": []
   },
   "outputs": [],
   "source": [
    "#hide\n",
    "mapping = get_mappings(paths['mapping'])"
   ]
  },
  {
   "cell_type": "code",
   "execution_count": 6,
   "id": "certified-tactics",
   "metadata": {
    "execution": {
     "iopub.execute_input": "2021-09-20T12:11:16.521559Z",
     "iopub.status.busy": "2021-09-20T12:11:16.520948Z",
     "iopub.status.idle": "2021-09-20T12:11:16.523200Z",
     "shell.execute_reply": "2021-09-20T12:11:16.522705Z"
    },
    "papermill": {
     "duration": 0.041523,
     "end_time": "2021-09-20T12:11:16.523319",
     "exception": false,
     "start_time": "2021-09-20T12:11:16.481796",
     "status": "completed"
    },
    "tags": []
   },
   "outputs": [],
   "source": [
    "#hide\n",
    "def get_template(path):\n",
    "    from urllib.parse import urlparse\n",
    "    if bool(urlparse(path).netloc):\n",
    "        from urllib.request import urlopen\n",
    "        return urlopen(path).read().decode('utf8')\n",
    "    return open(path).read()"
   ]
  },
  {
   "cell_type": "code",
   "execution_count": 7,
   "id": "realistic-blast",
   "metadata": {
    "execution": {
     "iopub.execute_input": "2021-09-20T12:11:16.597121Z",
     "iopub.status.busy": "2021-09-20T12:11:16.596499Z",
     "iopub.status.idle": "2021-09-20T12:11:16.599454Z",
     "shell.execute_reply": "2021-09-20T12:11:16.600017Z"
    },
    "papermill": {
     "duration": 0.043696,
     "end_time": "2021-09-20T12:11:16.600163",
     "exception": false,
     "start_time": "2021-09-20T12:11:16.556467",
     "status": "completed"
    },
    "tags": []
   },
   "outputs": [],
   "source": [
    "#hide\n",
    "def get_frame(name):\n",
    "    url = (\n",
    "        'https://raw.githubusercontent.com/CSSEGISandData/COVID-19/master/csse_covid_19_data/'\n",
    "        f'csse_covid_19_time_series/time_series_covid19_{name}_global.csv')\n",
    "    df = pd.read_csv(url)\n",
    "    # rename countries\n",
    "    df['Country/Region'] = df['Country/Region'].replace(mapping['replace.country'])\n",
    "    return df"
   ]
  },
  {
   "cell_type": "code",
   "execution_count": 8,
   "id": "affiliated-characterization",
   "metadata": {
    "execution": {
     "iopub.execute_input": "2021-09-20T12:11:16.674759Z",
     "iopub.status.busy": "2021-09-20T12:11:16.674166Z",
     "iopub.status.idle": "2021-09-20T12:11:16.676672Z",
     "shell.execute_reply": "2021-09-20T12:11:16.677161Z"
    },
    "papermill": {
     "duration": 0.043229,
     "end_time": "2021-09-20T12:11:16.677316",
     "exception": false,
     "start_time": "2021-09-20T12:11:16.634087",
     "status": "completed"
    },
    "tags": []
   },
   "outputs": [],
   "source": [
    "#hide\n",
    "def get_dates(df):\n",
    "    dt_cols = df.columns[~df.columns.isin(['Province/State', 'Country/Region', 'Lat', 'Long'])]\n",
    "    LAST_DATE_I = -1\n",
    "    # sometimes last column may be empty, then go backwards\n",
    "    for i in range(-1, -len(dt_cols), -1):\n",
    "        if not df[dt_cols[i]].fillna(0).eq(0).all():\n",
    "            LAST_DATE_I = i\n",
    "            break\n",
    "    return LAST_DATE_I, dt_cols"
   ]
  },
  {
   "cell_type": "code",
   "execution_count": 9,
   "id": "recent-optimization",
   "metadata": {
    "execution": {
     "iopub.execute_input": "2021-09-20T12:11:16.757784Z",
     "iopub.status.busy": "2021-09-20T12:11:16.757174Z",
     "iopub.status.idle": "2021-09-20T12:11:17.066064Z",
     "shell.execute_reply": "2021-09-20T12:11:17.065509Z"
    },
    "papermill": {
     "duration": 0.347879,
     "end_time": "2021-09-20T12:11:17.066193",
     "exception": false,
     "start_time": "2021-09-20T12:11:16.718314",
     "status": "completed"
    },
    "tags": []
   },
   "outputs": [],
   "source": [
    "#hide\n",
    "COL_REGION = 'Country/Region'\n",
    "# Confirmed, Recovered, Deaths\n",
    "df = get_frame('confirmed')\n",
    "# dft_: timeseries, dfc_: today country agg\n",
    "dft_cases = df\n",
    "dft_deaths = get_frame('deaths')\n",
    "dft_recovered = get_frame('recovered')\n",
    "LAST_DATE_I, dt_cols = get_dates(df)"
   ]
  },
  {
   "cell_type": "code",
   "execution_count": 10,
   "id": "absolute-copper",
   "metadata": {
    "execution": {
     "iopub.execute_input": "2021-09-20T12:11:17.140536Z",
     "iopub.status.busy": "2021-09-20T12:11:17.139910Z",
     "iopub.status.idle": "2021-09-20T12:11:17.142180Z",
     "shell.execute_reply": "2021-09-20T12:11:17.141674Z"
    },
    "papermill": {
     "duration": 0.0422,
     "end_time": "2021-09-20T12:11:17.142302",
     "exception": false,
     "start_time": "2021-09-20T12:11:17.100102",
     "status": "completed"
    },
    "tags": []
   },
   "outputs": [],
   "source": [
    "#hide\n",
    "LAST_DATE_I, dt_cols = get_dates(df)\n",
    "dt_today =dt_cols[LAST_DATE_I]\n",
    "# dt_5day = dt_cols[LAST_DATE_I - 5]\n",
    "dt_yday = dt_cols[LAST_DATE_I - 1]"
   ]
  },
  {
   "cell_type": "code",
   "execution_count": 11,
   "id": "restricted-sheriff",
   "metadata": {
    "execution": {
     "iopub.execute_input": "2021-09-20T12:11:17.219230Z",
     "iopub.status.busy": "2021-09-20T12:11:17.216854Z",
     "iopub.status.idle": "2021-09-20T12:11:17.225767Z",
     "shell.execute_reply": "2021-09-20T12:11:17.224956Z"
    },
    "papermill": {
     "duration": 0.049992,
     "end_time": "2021-09-20T12:11:17.225900",
     "exception": false,
     "start_time": "2021-09-20T12:11:17.175908",
     "status": "completed"
    },
    "tags": []
   },
   "outputs": [],
   "source": [
    "#hide\n",
    "dfc_cases = dft_cases.groupby(COL_REGION)[dt_today].sum()\n",
    "dfc_deaths = dft_deaths.groupby(COL_REGION)[dt_today].sum()\n",
    "# dfp_cases = dft_cases.groupby(COL_REGION)[dt_5day].sum()\n",
    "# dfp_deaths = dft_deaths.groupby(COL_REGION)[dt_5day].sum()\n",
    "dfp_cases = dft_cases.groupby(COL_REGION)[dt_yday].sum()\n",
    "dfp_deaths = dft_deaths.groupby(COL_REGION)[dt_yday].sum()"
   ]
  },
  {
   "cell_type": "code",
   "execution_count": 12,
   "id": "deluxe-hepatitis",
   "metadata": {
    "execution": {
     "iopub.execute_input": "2021-09-20T12:11:17.302918Z",
     "iopub.status.busy": "2021-09-20T12:11:17.302306Z",
     "iopub.status.idle": "2021-09-20T12:11:17.306438Z",
     "shell.execute_reply": "2021-09-20T12:11:17.306914Z"
    },
    "papermill": {
     "duration": 0.046942,
     "end_time": "2021-09-20T12:11:17.307070",
     "exception": false,
     "start_time": "2021-09-20T12:11:17.260128",
     "status": "completed"
    },
    "tags": []
   },
   "outputs": [],
   "source": [
    "#hide\n",
    "df_table = (pd.DataFrame(dict(Cases = dfc_cases, Deaths = dfc_deaths, PCases = dfp_cases, PDeaths = dfp_deaths))\n",
    "            .sort_values(by = ['Cases','Deaths'], ascending = [False, False])\n",
    "            .reset_index())"
   ]
  },
  {
   "cell_type": "code",
   "execution_count": 13,
   "id": "educational-chancellor",
   "metadata": {
    "execution": {
     "iopub.execute_input": "2021-09-20T12:11:17.395793Z",
     "iopub.status.busy": "2021-09-20T12:11:17.395073Z",
     "iopub.status.idle": "2021-09-20T12:11:17.403695Z",
     "shell.execute_reply": "2021-09-20T12:11:17.403202Z"
    },
    "papermill": {
     "duration": 0.062916,
     "end_time": "2021-09-20T12:11:17.403817",
     "exception": false,
     "start_time": "2021-09-20T12:11:17.340901",
     "status": "completed"
    },
    "tags": []
   },
   "outputs": [
    {
     "data": {
      "text/html": [
       "<div>\n",
       "<style scoped>\n",
       "    .dataframe tbody tr th:only-of-type {\n",
       "        vertical-align: middle;\n",
       "    }\n",
       "\n",
       "    .dataframe tbody tr th {\n",
       "        vertical-align: top;\n",
       "    }\n",
       "\n",
       "    .dataframe thead th {\n",
       "        text-align: right;\n",
       "    }\n",
       "</style>\n",
       "<table border=\"1\" class=\"dataframe\">\n",
       "  <thead>\n",
       "    <tr style=\"text-align: right;\">\n",
       "      <th></th>\n",
       "      <th>Country/Region</th>\n",
       "      <th>Cases</th>\n",
       "      <th>Deaths</th>\n",
       "      <th>PCases</th>\n",
       "      <th>PDeaths</th>\n",
       "      <th>Cases (+)</th>\n",
       "      <th>Deaths (+)</th>\n",
       "      <th>Fatality Rate</th>\n",
       "      <th>Continent</th>\n",
       "    </tr>\n",
       "  </thead>\n",
       "  <tbody>\n",
       "    <tr>\n",
       "      <th>0</th>\n",
       "      <td>US</td>\n",
       "      <td>42087432</td>\n",
       "      <td>673763</td>\n",
       "      <td>42050638</td>\n",
       "      <td>673472</td>\n",
       "      <td>36794</td>\n",
       "      <td>291</td>\n",
       "      <td>1.60</td>\n",
       "      <td>North America</td>\n",
       "    </tr>\n",
       "    <tr>\n",
       "      <th>1</th>\n",
       "      <td>India</td>\n",
       "      <td>33478419</td>\n",
       "      <td>445133</td>\n",
       "      <td>33448163</td>\n",
       "      <td>444838</td>\n",
       "      <td>30256</td>\n",
       "      <td>295</td>\n",
       "      <td>1.33</td>\n",
       "      <td>Asia</td>\n",
       "    </tr>\n",
       "    <tr>\n",
       "      <th>2</th>\n",
       "      <td>Brazil</td>\n",
       "      <td>21239783</td>\n",
       "      <td>590752</td>\n",
       "      <td>21230325</td>\n",
       "      <td>590508</td>\n",
       "      <td>9458</td>\n",
       "      <td>244</td>\n",
       "      <td>2.78</td>\n",
       "      <td>South America</td>\n",
       "    </tr>\n",
       "    <tr>\n",
       "      <th>3</th>\n",
       "      <td>United Kingdom</td>\n",
       "      <td>7464791</td>\n",
       "      <td>135539</td>\n",
       "      <td>7435493</td>\n",
       "      <td>135478</td>\n",
       "      <td>29298</td>\n",
       "      <td>61</td>\n",
       "      <td>1.82</td>\n",
       "      <td>Europe</td>\n",
       "    </tr>\n",
       "    <tr>\n",
       "      <th>4</th>\n",
       "      <td>Russia</td>\n",
       "      <td>7170069</td>\n",
       "      <td>194671</td>\n",
       "      <td>7150244</td>\n",
       "      <td>193891</td>\n",
       "      <td>19825</td>\n",
       "      <td>780</td>\n",
       "      <td>2.72</td>\n",
       "      <td>Europe</td>\n",
       "    </tr>\n",
       "  </tbody>\n",
       "</table>\n",
       "</div>"
      ],
      "text/plain": [
       "   Country/Region     Cases  Deaths    PCases  PDeaths  Cases (+)  Deaths (+)  \\\n",
       "0              US  42087432  673763  42050638   673472      36794         291   \n",
       "1           India  33478419  445133  33448163   444838      30256         295   \n",
       "2          Brazil  21239783  590752  21230325   590508       9458         244   \n",
       "3  United Kingdom   7464791  135539   7435493   135478      29298          61   \n",
       "4          Russia   7170069  194671   7150244   193891      19825         780   \n",
       "\n",
       "   Fatality Rate      Continent  \n",
       "0           1.60  North America  \n",
       "1           1.33           Asia  \n",
       "2           2.78  South America  \n",
       "3           1.82         Europe  \n",
       "4           2.72         Europe  "
      ]
     },
     "execution_count": 13,
     "metadata": {},
     "output_type": "execute_result"
    }
   ],
   "source": [
    "#hide\n",
    "for c in 'Cases, Deaths'.split(', '):\n",
    "    df_table[f'{c} (+)'] = (df_table[c] - df_table[f'P{c}']).clip(0)\n",
    "    #Clip ça veut dire, les chiffres negatif sont interdit\n",
    "df_table['Fatality Rate'] = (100* df_table['Deaths']/ df_table['Cases']).round(2)\n",
    "df_table['Continent'] = df_table['Country/Region'].map(mapping['map.continent'])\n",
    "df_table.head(5)"
   ]
  },
  {
   "cell_type": "code",
   "execution_count": 14,
   "id": "aboriginal-bulgaria",
   "metadata": {
    "execution": {
     "iopub.execute_input": "2021-09-20T12:11:17.478361Z",
     "iopub.status.busy": "2021-09-20T12:11:17.477748Z",
     "iopub.status.idle": "2021-09-20T12:11:17.480421Z",
     "shell.execute_reply": "2021-09-20T12:11:17.479913Z"
    },
    "papermill": {
     "duration": 0.042812,
     "end_time": "2021-09-20T12:11:17.480550",
     "exception": false,
     "start_time": "2021-09-20T12:11:17.437738",
     "status": "completed"
    },
    "tags": []
   },
   "outputs": [],
   "source": [
    "#hide\n",
    "#delete problematic countries from table\n",
    "df_table = df_table[~df_table['Country/Region'].isin(['Cape Verde', 'Cruise Ship', 'Kosovo'])]"
   ]
  },
  {
   "cell_type": "code",
   "execution_count": 15,
   "id": "fantastic-effect",
   "metadata": {
    "execution": {
     "iopub.execute_input": "2021-09-20T12:11:17.558129Z",
     "iopub.status.busy": "2021-09-20T12:11:17.557515Z",
     "iopub.status.idle": "2021-09-20T12:11:17.576617Z",
     "shell.execute_reply": "2021-09-20T12:11:17.577187Z"
    },
    "papermill": {
     "duration": 0.062809,
     "end_time": "2021-09-20T12:11:17.577332",
     "exception": false,
     "start_time": "2021-09-20T12:11:17.514523",
     "status": "completed"
    },
    "tags": []
   },
   "outputs": [
    {
     "data": {
      "text/html": [
       "<div>\n",
       "<style scoped>\n",
       "    .dataframe tbody tr th:only-of-type {\n",
       "        vertical-align: middle;\n",
       "    }\n",
       "\n",
       "    .dataframe tbody tr th {\n",
       "        vertical-align: top;\n",
       "    }\n",
       "\n",
       "    .dataframe thead th {\n",
       "        text-align: right;\n",
       "    }\n",
       "</style>\n",
       "<table border=\"1\" class=\"dataframe\">\n",
       "  <thead>\n",
       "    <tr style=\"text-align: right;\">\n",
       "      <th></th>\n",
       "      <th>Country/Region</th>\n",
       "      <th>Cases</th>\n",
       "      <th>Deaths</th>\n",
       "      <th>PCases</th>\n",
       "      <th>PDeaths</th>\n",
       "      <th>Cases (+)</th>\n",
       "      <th>Deaths (+)</th>\n",
       "      <th>Fatality Rate</th>\n",
       "      <th>Continent</th>\n",
       "    </tr>\n",
       "  </thead>\n",
       "  <tbody>\n",
       "    <tr>\n",
       "      <th>0</th>\n",
       "      <td>US</td>\n",
       "      <td>42087432</td>\n",
       "      <td>673763</td>\n",
       "      <td>42050638</td>\n",
       "      <td>673472</td>\n",
       "      <td>36794</td>\n",
       "      <td>291</td>\n",
       "      <td>1.6</td>\n",
       "      <td>North America</td>\n",
       "    </tr>\n",
       "    <tr>\n",
       "      <th>1</th>\n",
       "      <td>India</td>\n",
       "      <td>33478419</td>\n",
       "      <td>445133</td>\n",
       "      <td>33448163</td>\n",
       "      <td>444838</td>\n",
       "      <td>30256</td>\n",
       "      <td>295</td>\n",
       "      <td>1.3</td>\n",
       "      <td>Asia</td>\n",
       "    </tr>\n",
       "    <tr>\n",
       "      <th>2</th>\n",
       "      <td>Brazil</td>\n",
       "      <td>21239783</td>\n",
       "      <td>590752</td>\n",
       "      <td>21230325</td>\n",
       "      <td>590508</td>\n",
       "      <td>9458</td>\n",
       "      <td>244</td>\n",
       "      <td>2.8</td>\n",
       "      <td>South America</td>\n",
       "    </tr>\n",
       "    <tr>\n",
       "      <th>3</th>\n",
       "      <td>United Kingdom</td>\n",
       "      <td>7464791</td>\n",
       "      <td>135539</td>\n",
       "      <td>7435493</td>\n",
       "      <td>135478</td>\n",
       "      <td>29298</td>\n",
       "      <td>61</td>\n",
       "      <td>1.8</td>\n",
       "      <td>Europe</td>\n",
       "    </tr>\n",
       "    <tr>\n",
       "      <th>4</th>\n",
       "      <td>Russia</td>\n",
       "      <td>7170069</td>\n",
       "      <td>194671</td>\n",
       "      <td>7150244</td>\n",
       "      <td>193891</td>\n",
       "      <td>19825</td>\n",
       "      <td>780</td>\n",
       "      <td>2.7</td>\n",
       "      <td>Europe</td>\n",
       "    </tr>\n",
       "  </tbody>\n",
       "</table>\n",
       "</div>"
      ],
      "text/plain": [
       "   Country/Region     Cases  Deaths    PCases  PDeaths  Cases (+)  Deaths (+)  \\\n",
       "0              US  42087432  673763  42050638   673472      36794         291   \n",
       "1           India  33478419  445133  33448163   444838      30256         295   \n",
       "2          Brazil  21239783  590752  21230325   590508       9458         244   \n",
       "3  United Kingdom   7464791  135539   7435493   135478      29298          61   \n",
       "4          Russia   7170069  194671   7150244   193891      19825         780   \n",
       "\n",
       "   Fatality Rate      Continent  \n",
       "0            1.6  North America  \n",
       "1            1.3           Asia  \n",
       "2            2.8  South America  \n",
       "3            1.8         Europe  \n",
       "4            2.7         Europe  "
      ]
     },
     "execution_count": 15,
     "metadata": {},
     "output_type": "execute_result"
    }
   ],
   "source": [
    "#hide\n",
    "df_table = (pd.DataFrame(dict(Cases=dfc_cases, Deaths=dfc_deaths, PCases=dfp_cases, PDeaths=dfp_deaths))\n",
    "             .sort_values(by=['Cases', 'Deaths'], ascending=[False, False])\n",
    "             .reset_index())\n",
    "df_table.rename(columns={'index': 'Country/Region'}, inplace=True)\n",
    "for c in 'Cases, Deaths'.split(', '):\n",
    "    df_table[f'{c} (+)'] = (df_table[c] - df_table[f'P{c}']).clip(0)  # DATA BUG\n",
    "df_table['Fatality Rate'] = (100 * df_table['Deaths'] / df_table['Cases']).round(1)\n",
    "df_table['Continent'] = df_table['Country/Region'].map(mapping['map.continent'])\n",
    "df_table.head(5)"
   ]
  },
  {
   "cell_type": "code",
   "execution_count": 16,
   "id": "fewer-occasion",
   "metadata": {
    "execution": {
     "iopub.execute_input": "2021-09-20T12:11:17.655350Z",
     "iopub.status.busy": "2021-09-20T12:11:17.654758Z",
     "iopub.status.idle": "2021-09-20T12:11:17.656545Z",
     "shell.execute_reply": "2021-09-20T12:11:17.657018Z"
    },
    "papermill": {
     "duration": 0.044983,
     "end_time": "2021-09-20T12:11:17.657153",
     "exception": false,
     "start_time": "2021-09-20T12:11:17.612170",
     "status": "completed"
    },
    "tags": []
   },
   "outputs": [],
   "source": [
    "#hide\n",
    "#delete problematic countries from table\n",
    "df_table = df_table[~df_table['Country/Region'].isin(['Cape Verde', 'Cruise Ship', 'Kosovo'])]"
   ]
  },
  {
   "cell_type": "code",
   "execution_count": 17,
   "id": "related-center",
   "metadata": {
    "execution": {
     "iopub.execute_input": "2021-09-20T12:11:17.734529Z",
     "iopub.status.busy": "2021-09-20T12:11:17.733869Z",
     "iopub.status.idle": "2021-09-20T12:11:17.748321Z",
     "shell.execute_reply": "2021-09-20T12:11:17.748804Z"
    },
    "papermill": {
     "duration": 0.05743,
     "end_time": "2021-09-20T12:11:17.748943",
     "exception": false,
     "start_time": "2021-09-20T12:11:17.691513",
     "status": "completed"
    },
    "tags": []
   },
   "outputs": [],
   "source": [
    "#hide\n",
    "metrics = [df_table.columns[index] for index in [1,2,5,6]]\n",
    "# s_china = df_table[df_table['Country/Region'].eq('China')][metrics].sum().add_prefix('China ')\n",
    "s_us = df_table[df_table['Country/Region'].eq('US')][metrics].sum().add_prefix('US ')\n",
    "s_eu = df_table[df_table['Continent'].eq('Europe')][metrics].sum().add_prefix('EU ')\n",
    "s_ind = df_table[df_table['Country/Region'].eq('India')][metrics].sum().add_prefix('India ')\n",
    "summary = {'updated': pd.to_datetime(dt_today), 'since': pd.to_datetime(dt_yday)}\n",
    "summary = {'updated': pd.to_datetime(dt_today), 'since': pd.to_datetime(dt_yday)}\n",
    "summary = {**summary, **df_table[metrics].sum(), **s_ind, **s_us, **s_eu}"
   ]
  },
  {
   "cell_type": "code",
   "execution_count": 18,
   "id": "engaging-syndrome",
   "metadata": {
    "execution": {
     "iopub.execute_input": "2021-09-20T12:11:17.824571Z",
     "iopub.status.busy": "2021-09-20T12:11:17.823932Z",
     "iopub.status.idle": "2021-09-20T12:11:17.840407Z",
     "shell.execute_reply": "2021-09-20T12:11:17.839874Z"
    },
    "papermill": {
     "duration": 0.0569,
     "end_time": "2021-09-20T12:11:17.840532",
     "exception": false,
     "start_time": "2021-09-20T12:11:17.783632",
     "status": "completed"
    },
    "tags": []
   },
   "outputs": [],
   "source": [
    "#hide\n",
    "dft_ct_new_cases = dft_cases.groupby(COL_REGION)[dt_cols].sum().diff(axis=1).fillna(0).astype(int)"
   ]
  },
  {
   "cell_type": "code",
   "execution_count": 19,
   "id": "neutral-assignment",
   "metadata": {
    "execution": {
     "iopub.execute_input": "2021-09-20T12:11:17.918132Z",
     "iopub.status.busy": "2021-09-20T12:11:17.917544Z",
     "iopub.status.idle": "2021-09-20T12:11:17.919491Z",
     "shell.execute_reply": "2021-09-20T12:11:17.919958Z"
    },
    "papermill": {
     "duration": 0.044595,
     "end_time": "2021-09-20T12:11:17.920084",
     "exception": false,
     "start_time": "2021-09-20T12:11:17.875489",
     "status": "completed"
    },
    "tags": []
   },
   "outputs": [],
   "source": [
    "#hide\n",
    "everydaycases = dft_ct_new_cases.cumsum(axis=1)"
   ]
  },
  {
   "cell_type": "code",
   "execution_count": 20,
   "id": "parliamentary-calgary",
   "metadata": {
    "execution": {
     "iopub.execute_input": "2021-09-20T12:11:17.991467Z",
     "iopub.status.busy": "2021-09-20T12:11:17.990907Z",
     "iopub.status.idle": "2021-09-20T12:11:18.556195Z",
     "shell.execute_reply": "2021-09-20T12:11:18.555315Z"
    },
    "papermill": {
     "duration": 0.602945,
     "end_time": "2021-09-20T12:11:18.556462",
     "exception": false,
     "start_time": "2021-09-20T12:11:17.953517",
     "status": "completed"
    },
    "tags": []
   },
   "outputs": [],
   "source": [
    "#hide\n",
    "import pandas as pd\n",
    "import matplotlib.pyplot as plt\n",
    "import matplotlib.ticker as ticker\n",
    "import matplotlib.animation as animation\n",
    "from IPython.display import HTML"
   ]
  },
  {
   "cell_type": "code",
   "execution_count": 21,
   "id": "lasting-extraction",
   "metadata": {
    "execution": {
     "iopub.execute_input": "2021-09-20T12:11:18.631235Z",
     "iopub.status.busy": "2021-09-20T12:11:18.630628Z",
     "iopub.status.idle": "2021-09-20T12:11:18.636471Z",
     "shell.execute_reply": "2021-09-20T12:11:18.636008Z"
    },
    "papermill": {
     "duration": 0.046168,
     "end_time": "2021-09-20T12:11:18.636592",
     "exception": false,
     "start_time": "2021-09-20T12:11:18.590424",
     "status": "completed"
    },
    "tags": []
   },
   "outputs": [],
   "source": [
    "#hide\n",
    "t = everydaycases.stack()"
   ]
  },
  {
   "cell_type": "code",
   "execution_count": 22,
   "id": "premier-sleeve",
   "metadata": {
    "execution": {
     "iopub.execute_input": "2021-09-20T12:11:18.709166Z",
     "iopub.status.busy": "2021-09-20T12:11:18.708544Z",
     "iopub.status.idle": "2021-09-20T12:11:18.718456Z",
     "shell.execute_reply": "2021-09-20T12:11:18.718003Z"
    },
    "papermill": {
     "duration": 0.048558,
     "end_time": "2021-09-20T12:11:18.718575",
     "exception": false,
     "start_time": "2021-09-20T12:11:18.670017",
     "status": "completed"
    },
    "tags": []
   },
   "outputs": [],
   "source": [
    "#hide\n",
    "g = t.reset_index(['Country/Region'])"
   ]
  },
  {
   "cell_type": "code",
   "execution_count": 23,
   "id": "distributed-pittsburgh",
   "metadata": {
    "execution": {
     "iopub.execute_input": "2021-09-20T12:11:18.791508Z",
     "iopub.status.busy": "2021-09-20T12:11:18.790213Z",
     "iopub.status.idle": "2021-09-20T12:11:18.792169Z",
     "shell.execute_reply": "2021-09-20T12:11:18.792662Z"
    },
    "papermill": {
     "duration": 0.040881,
     "end_time": "2021-09-20T12:11:18.792803",
     "exception": false,
     "start_time": "2021-09-20T12:11:18.751922",
     "status": "completed"
    },
    "tags": []
   },
   "outputs": [],
   "source": [
    "#hide\n",
    "g.index.name = 'date'"
   ]
  },
  {
   "cell_type": "code",
   "execution_count": 24,
   "id": "naked-donor",
   "metadata": {
    "execution": {
     "iopub.execute_input": "2021-09-20T12:11:18.869338Z",
     "iopub.status.busy": "2021-09-20T12:11:18.868257Z",
     "iopub.status.idle": "2021-09-20T12:11:18.870957Z",
     "shell.execute_reply": "2021-09-20T12:11:18.870487Z"
    },
    "papermill": {
     "duration": 0.043304,
     "end_time": "2021-09-20T12:11:18.871081",
     "exception": false,
     "start_time": "2021-09-20T12:11:18.827777",
     "status": "completed"
    },
    "tags": []
   },
   "outputs": [],
   "source": [
    "# #hide\n",
    "# g = g.reset_index(['date'])"
   ]
  },
  {
   "cell_type": "code",
   "execution_count": 25,
   "id": "incomplete-mustang",
   "metadata": {
    "execution": {
     "iopub.execute_input": "2021-09-20T12:11:18.944217Z",
     "iopub.status.busy": "2021-09-20T12:11:18.943628Z",
     "iopub.status.idle": "2021-09-20T12:11:18.947959Z",
     "shell.execute_reply": "2021-09-20T12:11:18.947484Z"
    },
    "papermill": {
     "duration": 0.042522,
     "end_time": "2021-09-20T12:11:18.948079",
     "exception": false,
     "start_time": "2021-09-20T12:11:18.905557",
     "status": "completed"
    },
    "tags": []
   },
   "outputs": [],
   "source": [
    "#hide\n",
    "# g.head()"
   ]
  },
  {
   "cell_type": "code",
   "execution_count": 26,
   "id": "specific-kruger",
   "metadata": {
    "execution": {
     "iopub.execute_input": "2021-09-20T12:11:19.018468Z",
     "iopub.status.busy": "2021-09-20T12:11:19.017847Z",
     "iopub.status.idle": "2021-09-20T12:11:19.021003Z",
     "shell.execute_reply": "2021-09-20T12:11:19.020494Z"
    },
    "papermill": {
     "duration": 0.040095,
     "end_time": "2021-09-20T12:11:19.021121",
     "exception": false,
     "start_time": "2021-09-20T12:11:18.981026",
     "status": "completed"
    },
    "tags": []
   },
   "outputs": [],
   "source": [
    "#hide\n",
    "# g.columns = ['date','country','cases']"
   ]
  },
  {
   "cell_type": "code",
   "execution_count": 27,
   "id": "tender-conversion",
   "metadata": {
    "execution": {
     "iopub.execute_input": "2021-09-20T12:11:19.092480Z",
     "iopub.status.busy": "2021-09-20T12:11:19.091872Z",
     "iopub.status.idle": "2021-09-20T12:11:19.094320Z",
     "shell.execute_reply": "2021-09-20T12:11:19.094758Z"
    },
    "papermill": {
     "duration": 0.039745,
     "end_time": "2021-09-20T12:11:19.094887",
     "exception": false,
     "start_time": "2021-09-20T12:11:19.055142",
     "status": "completed"
    },
    "tags": []
   },
   "outputs": [],
   "source": [
    "#hide\n",
    "# g['continent'] = g.country"
   ]
  },
  {
   "cell_type": "code",
   "execution_count": 28,
   "id": "substantial-wilderness",
   "metadata": {
    "execution": {
     "iopub.execute_input": "2021-09-20T12:11:19.166277Z",
     "iopub.status.busy": "2021-09-20T12:11:19.165440Z",
     "iopub.status.idle": "2021-09-20T12:11:19.167912Z",
     "shell.execute_reply": "2021-09-20T12:11:19.167476Z"
    },
    "papermill": {
     "duration": 0.040062,
     "end_time": "2021-09-20T12:11:19.168025",
     "exception": false,
     "start_time": "2021-09-20T12:11:19.127963",
     "status": "completed"
    },
    "tags": []
   },
   "outputs": [],
   "source": [
    "#hide\n",
    "# cols = list(g.columns.values)"
   ]
  },
  {
   "cell_type": "code",
   "execution_count": 29,
   "id": "solved-farming",
   "metadata": {
    "execution": {
     "iopub.execute_input": "2021-09-20T12:11:19.239458Z",
     "iopub.status.busy": "2021-09-20T12:11:19.238908Z",
     "iopub.status.idle": "2021-09-20T12:11:19.241058Z",
     "shell.execute_reply": "2021-09-20T12:11:19.241616Z"
    },
    "papermill": {
     "duration": 0.040531,
     "end_time": "2021-09-20T12:11:19.241763",
     "exception": false,
     "start_time": "2021-09-20T12:11:19.201232",
     "status": "completed"
    },
    "tags": []
   },
   "outputs": [],
   "source": [
    "#hide\n",
    "# cols.insert(0, cols.pop())"
   ]
  },
  {
   "cell_type": "code",
   "execution_count": 30,
   "id": "executed-adoption",
   "metadata": {
    "execution": {
     "iopub.execute_input": "2021-09-20T12:11:19.315706Z",
     "iopub.status.busy": "2021-09-20T12:11:19.315073Z",
     "iopub.status.idle": "2021-09-20T12:11:19.317523Z",
     "shell.execute_reply": "2021-09-20T12:11:19.318085Z"
    },
    "papermill": {
     "duration": 0.043265,
     "end_time": "2021-09-20T12:11:19.318229",
     "exception": false,
     "start_time": "2021-09-20T12:11:19.274964",
     "status": "completed"
    },
    "tags": []
   },
   "outputs": [],
   "source": [
    "#hide\n",
    "# g = g[cols]"
   ]
  },
  {
   "cell_type": "code",
   "execution_count": 31,
   "id": "subject-dublin",
   "metadata": {
    "execution": {
     "iopub.execute_input": "2021-09-20T12:11:19.390213Z",
     "iopub.status.busy": "2021-09-20T12:11:19.389621Z",
     "iopub.status.idle": "2021-09-20T12:11:19.392041Z",
     "shell.execute_reply": "2021-09-20T12:11:19.391581Z"
    },
    "papermill": {
     "duration": 0.040535,
     "end_time": "2021-09-20T12:11:19.392151",
     "exception": false,
     "start_time": "2021-09-20T12:11:19.351616",
     "status": "completed"
    },
    "tags": []
   },
   "outputs": [],
   "source": [
    "#hide\n",
    "# g['continent'] = g['continent'].map(mapping['map.continent'])"
   ]
  },
  {
   "cell_type": "code",
   "execution_count": 32,
   "id": "freelance-scout",
   "metadata": {
    "execution": {
     "iopub.execute_input": "2021-09-20T12:11:19.466459Z",
     "iopub.status.busy": "2021-09-20T12:11:19.465873Z",
     "iopub.status.idle": "2021-09-20T12:11:19.468172Z",
     "shell.execute_reply": "2021-09-20T12:11:19.468756Z"
    },
    "papermill": {
     "duration": 0.041945,
     "end_time": "2021-09-20T12:11:19.468895",
     "exception": false,
     "start_time": "2021-09-20T12:11:19.426950",
     "status": "completed"
    },
    "tags": []
   },
   "outputs": [],
   "source": [
    "#hide\n",
    "# g.head()"
   ]
  },
  {
   "cell_type": "code",
   "execution_count": 33,
   "id": "limited-engine",
   "metadata": {
    "execution": {
     "iopub.execute_input": "2021-09-20T12:11:19.542685Z",
     "iopub.status.busy": "2021-09-20T12:11:19.542096Z",
     "iopub.status.idle": "2021-09-20T12:11:19.544609Z",
     "shell.execute_reply": "2021-09-20T12:11:19.544080Z"
    },
    "papermill": {
     "duration": 0.041312,
     "end_time": "2021-09-20T12:11:19.544732",
     "exception": false,
     "start_time": "2021-09-20T12:11:19.503420",
     "status": "completed"
    },
    "tags": []
   },
   "outputs": [],
   "source": [
    "# hide\n",
    "# g['date'] = g['date'].astype('datetime64[ns]')"
   ]
  },
  {
   "cell_type": "code",
   "execution_count": 34,
   "id": "sophisticated-supervisor",
   "metadata": {
    "execution": {
     "iopub.execute_input": "2021-09-20T12:11:19.618483Z",
     "iopub.status.busy": "2021-09-20T12:11:19.617407Z",
     "iopub.status.idle": "2021-09-20T12:11:19.619636Z",
     "shell.execute_reply": "2021-09-20T12:11:19.620089Z"
    },
    "papermill": {
     "duration": 0.041599,
     "end_time": "2021-09-20T12:11:19.620217",
     "exception": false,
     "start_time": "2021-09-20T12:11:19.578618",
     "status": "completed"
    },
    "tags": []
   },
   "outputs": [],
   "source": [
    "#hide\n",
    "# g['date'] = g.date.dt.dayofyear"
   ]
  },
  {
   "cell_type": "code",
   "execution_count": 35,
   "id": "inside-dubai",
   "metadata": {
    "execution": {
     "iopub.execute_input": "2021-09-20T12:11:19.692221Z",
     "iopub.status.busy": "2021-09-20T12:11:19.691212Z",
     "iopub.status.idle": "2021-09-20T12:11:19.693034Z",
     "shell.execute_reply": "2021-09-20T12:11:19.693584Z"
    },
    "papermill": {
     "duration": 0.040094,
     "end_time": "2021-09-20T12:11:19.693717",
     "exception": false,
     "start_time": "2021-09-20T12:11:19.653623",
     "status": "completed"
    },
    "tags": []
   },
   "outputs": [],
   "source": [
    "#hide\n",
    "# g = g.rename(columns= {'continent':'group','country':'name','cases':'value'})"
   ]
  },
  {
   "cell_type": "code",
   "execution_count": 36,
   "id": "fleet-motorcycle",
   "metadata": {
    "execution": {
     "iopub.execute_input": "2021-09-20T12:11:19.765937Z",
     "iopub.status.busy": "2021-09-20T12:11:19.764808Z",
     "iopub.status.idle": "2021-09-20T12:11:19.766681Z",
     "shell.execute_reply": "2021-09-20T12:11:19.767178Z"
    },
    "papermill": {
     "duration": 0.040392,
     "end_time": "2021-09-20T12:11:19.767312",
     "exception": false,
     "start_time": "2021-09-20T12:11:19.726920",
     "status": "completed"
    },
    "tags": []
   },
   "outputs": [],
   "source": [
    "#hide\n",
    "# cols = ['name','group','day','value']"
   ]
  },
  {
   "cell_type": "code",
   "execution_count": 37,
   "id": "continued-sleeping",
   "metadata": {
    "execution": {
     "iopub.execute_input": "2021-09-20T12:11:19.836771Z",
     "iopub.status.busy": "2021-09-20T12:11:19.836217Z",
     "iopub.status.idle": "2021-09-20T12:11:19.838121Z",
     "shell.execute_reply": "2021-09-20T12:11:19.838617Z"
    },
    "papermill": {
     "duration": 0.038295,
     "end_time": "2021-09-20T12:11:19.838746",
     "exception": false,
     "start_time": "2021-09-20T12:11:19.800451",
     "status": "completed"
    },
    "tags": []
   },
   "outputs": [],
   "source": [
    "#hide\n",
    "# g.rename(columns= {'date':'day'},inplace = True)"
   ]
  },
  {
   "cell_type": "code",
   "execution_count": 38,
   "id": "major-fight",
   "metadata": {
    "execution": {
     "iopub.execute_input": "2021-09-20T12:11:19.909449Z",
     "iopub.status.busy": "2021-09-20T12:11:19.908871Z",
     "iopub.status.idle": "2021-09-20T12:11:19.911228Z",
     "shell.execute_reply": "2021-09-20T12:11:19.911777Z"
    },
    "papermill": {
     "duration": 0.040519,
     "end_time": "2021-09-20T12:11:19.911912",
     "exception": false,
     "start_time": "2021-09-20T12:11:19.871393",
     "status": "completed"
    },
    "tags": []
   },
   "outputs": [],
   "source": [
    "#hide\n",
    "# g = g[cols]"
   ]
  },
  {
   "cell_type": "code",
   "execution_count": 39,
   "id": "structured-mobile",
   "metadata": {
    "execution": {
     "iopub.execute_input": "2021-09-20T12:11:19.984726Z",
     "iopub.status.busy": "2021-09-20T12:11:19.984084Z",
     "iopub.status.idle": "2021-09-20T12:11:19.986917Z",
     "shell.execute_reply": "2021-09-20T12:11:19.986439Z"
    },
    "papermill": {
     "duration": 0.041681,
     "end_time": "2021-09-20T12:11:19.987052",
     "exception": false,
     "start_time": "2021-09-20T12:11:19.945371",
     "status": "completed"
    },
    "tags": []
   },
   "outputs": [],
   "source": [
    "# #hide\n",
    "# g = g[g.group.notna()]"
   ]
  },
  {
   "cell_type": "code",
   "execution_count": 40,
   "id": "determined-closing",
   "metadata": {
    "execution": {
     "iopub.execute_input": "2021-09-20T12:11:20.062684Z",
     "iopub.status.busy": "2021-09-20T12:11:20.062077Z",
     "iopub.status.idle": "2021-09-20T12:11:20.064907Z",
     "shell.execute_reply": "2021-09-20T12:11:20.064423Z"
    },
    "papermill": {
     "duration": 0.042953,
     "end_time": "2021-09-20T12:11:20.065031",
     "exception": false,
     "start_time": "2021-09-20T12:11:20.022078",
     "status": "completed"
    },
    "tags": []
   },
   "outputs": [],
   "source": [
    "# #hide\n",
    "# colors = dict(zip(\n",
    "#     [\"Oceania\", \"Europe\", \"Asia\", \"South America\", \"Middle East\", \"North America\", \"Africa\"],\n",
    "#     [\"#adb0ff\", \"#ffb3ff\", \"#90d595\", \"#e48381\", \"#aafbff\", \"#f7bb5f\", \"#eafb50\"]\n",
    "# ))\n",
    "# group_lk = g.set_index('name')['group'].to_dict()"
   ]
  },
  {
   "cell_type": "code",
   "execution_count": null,
   "id": "gross-drinking",
   "metadata": {
    "papermill": {
     "duration": 0.034393,
     "end_time": "2021-09-20T12:11:20.134067",
     "exception": false,
     "start_time": "2021-09-20T12:11:20.099674",
     "status": "completed"
    },
    "tags": []
   },
   "outputs": [],
   "source": []
  },
  {
   "cell_type": "code",
   "execution_count": 41,
   "id": "subject-macintosh",
   "metadata": {
    "execution": {
     "iopub.execute_input": "2021-09-20T12:11:20.209489Z",
     "iopub.status.busy": "2021-09-20T12:11:20.208903Z",
     "iopub.status.idle": "2021-09-20T12:11:20.211120Z",
     "shell.execute_reply": "2021-09-20T12:11:20.210619Z"
    },
    "papermill": {
     "duration": 0.042277,
     "end_time": "2021-09-20T12:11:20.211241",
     "exception": false,
     "start_time": "2021-09-20T12:11:20.168964",
     "status": "completed"
    },
    "tags": []
   },
   "outputs": [],
   "source": [
    "# #hide\n",
    "# fig, ax = plt.subplots(figsize=(15, 8))\n",
    "\n",
    "# def draw_barchart(current_day):\n",
    "#     dff = g[g['day'].eq(current_day)].sort_values(by='value', ascending=True).tail(10)\n",
    "#     ax.clear()\n",
    "#     ax.barh(dff['name'], dff['value'], color=[colors[group_lk[x]] for x in dff['name']])\n",
    "#     dx = dff['value'].max() / 200\n",
    "    \n",
    "#     for i, (value, name) in enumerate(zip(dff['value'], dff['name'])):\n",
    "#         ax.text(value-dx, i,     name,           size=14, weight=600, ha='right', va='bottom')\n",
    "#         ax.text(value-dx, i-.25, group_lk[name], size=10, color='#444444', ha='right', va='baseline')\n",
    "#         ax.text(value+dx, i,     f'{value:,.0f}',  size=14, ha='left',  va='center')\n",
    "#     ax.text(1, 0.4, current_day, transform=ax.transAxes, color='#777777', size=46, ha='right', weight=800)\n",
    "#     ax.text(0, 1.06, 'Population (thousands)', transform=ax.transAxes, size=12, color='#777777')\n",
    "#     ax.xaxis.set_major_formatter(ticker.StrMethodFormatter('{x:,.0f}'))\n",
    "#     ax.xaxis.set_ticks_position('top')\n",
    "#     ax.tick_params(axis='x', colors='#777777', labelsize=12)\n",
    "#     ax.set_yticks([])\n",
    "#     ax.margins(0, 0.01)\n",
    "#     ax.grid(which='major', axis='x', linestyle='-')\n",
    "#     ax.set_axisbelow(True)\n",
    "    \n",
    "#     ax.text(0, 1.15, 'Coronavirus',\n",
    "#             transform=ax.transAxes, size=24, weight=600, ha='left', va='top')\n",
    "# #     ax.text(1, 0, 'by @pratapvardhan; credit @jburnmurdoch', transform=ax.transAxes, color='#777777', ha='right',\n",
    "# #             bbox=dict(facecolor='white', alpha=0.8, edgecolor='white'))\n",
    "#     plt.box(False)"
   ]
  },
  {
   "cell_type": "code",
   "execution_count": 42,
   "id": "sexual-wages",
   "metadata": {
    "execution": {
     "iopub.execute_input": "2021-09-20T12:11:20.284571Z",
     "iopub.status.busy": "2021-09-20T12:11:20.283937Z",
     "iopub.status.idle": "2021-09-20T12:11:20.286271Z",
     "shell.execute_reply": "2021-09-20T12:11:20.286809Z"
    },
    "papermill": {
     "duration": 0.041311,
     "end_time": "2021-09-20T12:11:20.286941",
     "exception": false,
     "start_time": "2021-09-20T12:11:20.245630",
     "status": "completed"
    },
    "tags": []
   },
   "outputs": [],
   "source": [
    "# #hide_input\n",
    "# fig, ax = plt.subplots(figsize=(15, 8))\n",
    "# animator = animation.FuncAnimation(fig, draw_barchart, frames=range(g.day.values.min(), g.day.values.max()))\n",
    "# HTML(animator.to_jshtml())\n",
    "# # or use animator.to_html5_video() or animator.save() "
   ]
  },
  {
   "cell_type": "code",
   "execution_count": null,
   "id": "australian-container",
   "metadata": {
    "papermill": {
     "duration": 0.033008,
     "end_time": "2021-09-20T12:11:20.353640",
     "exception": false,
     "start_time": "2021-09-20T12:11:20.320632",
     "status": "completed"
    },
    "tags": []
   },
   "outputs": [],
   "source": []
  },
  {
   "cell_type": "code",
   "execution_count": null,
   "id": "mediterranean-pontiac",
   "metadata": {
    "papermill": {
     "duration": 0.030929,
     "end_time": "2021-09-20T12:11:20.415599",
     "exception": false,
     "start_time": "2021-09-20T12:11:20.384670",
     "status": "completed"
    },
    "tags": []
   },
   "outputs": [],
   "source": []
  },
  {
   "cell_type": "code",
   "execution_count": null,
   "id": "aging-legislature",
   "metadata": {
    "papermill": {
     "duration": 0.03083,
     "end_time": "2021-09-20T12:11:20.478483",
     "exception": false,
     "start_time": "2021-09-20T12:11:20.447653",
     "status": "completed"
    },
    "tags": []
   },
   "outputs": [],
   "source": []
  }
 ],
 "metadata": {
  "kernelspec": {
   "display_name": "Python 3",
   "language": "python",
   "name": "python3"
  },
  "language_info": {
   "codemirror_mode": {
    "name": "ipython",
    "version": 3
   },
   "file_extension": ".py",
   "mimetype": "text/x-python",
   "name": "python",
   "nbconvert_exporter": "python",
   "pygments_lexer": "ipython3",
   "version": "3.6.15"
  },
  "papermill": {
   "duration": 6.387137,
   "end_time": "2021-09-20T12:11:20.921864",
   "environment_variables": {},
   "exception": null,
   "input_path": "2020-03-21-covid19exp.ipynb",
   "output_path": "2020-03-21-covid19exp.ipynb",
   "parameters": {},
   "start_time": "2021-09-20T12:11:14.534727",
   "version": "2.0.0"
  }
 },
 "nbformat": 4,
 "nbformat_minor": 5
}