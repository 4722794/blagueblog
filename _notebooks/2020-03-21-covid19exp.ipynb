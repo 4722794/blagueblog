{
 "cells": [
  {
   "cell_type": "markdown",
   "id": "muslim-click",
   "metadata": {
    "papermill": {
     "duration": 0.040439,
     "end_time": "2022-02-28T00:33:36.252832",
     "exception": false,
     "start_time": "2022-02-28T00:33:36.212393",
     "status": "completed"
    },
    "tags": []
   },
   "source": [
    "# COVID-19 Case Race\n",
    "> A race chart to see rising cases around the world\n",
    "\n",
    "- author: Hargun Oberoi\n",
    "- image: images/covid-overview.png\n",
    "- hide: false\n",
    "- badges: false"
   ]
  },
  {
   "cell_type": "code",
   "execution_count": 1,
   "id": "proof-material",
   "metadata": {
    "execution": {
     "iopub.execute_input": "2022-02-28T00:33:36.338369Z",
     "iopub.status.busy": "2022-02-28T00:33:36.337626Z",
     "iopub.status.idle": "2022-02-28T00:33:36.732898Z",
     "shell.execute_reply": "2022-02-28T00:33:36.732310Z"
    },
    "papermill": {
     "duration": 0.441736,
     "end_time": "2022-02-28T00:33:36.733057",
     "exception": false,
     "start_time": "2022-02-28T00:33:36.291321",
     "status": "completed"
    },
    "tags": []
   },
   "outputs": [],
   "source": [
    "#hide\n",
    "import numpy as np\n",
    "import pandas as pd\n",
    "from jinja2 import Template\n",
    "from IPython.display import HTML"
   ]
  },
  {
   "cell_type": "code",
   "execution_count": 2,
   "id": "developed-terminology",
   "metadata": {
    "execution": {
     "iopub.execute_input": "2022-02-28T00:33:36.807214Z",
     "iopub.status.busy": "2022-02-28T00:33:36.806592Z",
     "iopub.status.idle": "2022-02-28T00:33:36.809121Z",
     "shell.execute_reply": "2022-02-28T00:33:36.808572Z"
    },
    "papermill": {
     "duration": 0.042312,
     "end_time": "2022-02-28T00:33:36.809251",
     "exception": false,
     "start_time": "2022-02-28T00:33:36.766939",
     "status": "completed"
    },
    "tags": []
   },
   "outputs": [],
   "source": [
    "#hide\n",
    "\n",
    "# FETCH\n",
    "base_url = 'https://raw.githubusercontent.com/pratapvardhan/notebooks/master/covid19/'\n",
    "paths = {\n",
    "    'mapping': base_url + 'mapping_countries.csv',\n",
    "    'overview': base_url + 'overview.tpl'\n",
    "}"
   ]
  },
  {
   "cell_type": "code",
   "execution_count": 3,
   "id": "dynamic-saver",
   "metadata": {
    "execution": {
     "iopub.execute_input": "2022-02-28T00:33:36.887654Z",
     "iopub.status.busy": "2022-02-28T00:33:36.887023Z",
     "iopub.status.idle": "2022-02-28T00:33:36.890712Z",
     "shell.execute_reply": "2022-02-28T00:33:36.890227Z"
    },
    "papermill": {
     "duration": 0.047866,
     "end_time": "2022-02-28T00:33:36.890851",
     "exception": false,
     "start_time": "2022-02-28T00:33:36.842985",
     "status": "completed"
    },
    "tags": []
   },
   "outputs": [
    {
     "data": {
      "text/plain": [
       "'https://raw.githubusercontent.com/pratapvardhan/notebooks/master/covid19/mapping_countries.csv'"
      ]
     },
     "execution_count": 3,
     "metadata": {},
     "output_type": "execute_result"
    }
   ],
   "source": [
    "#hide\n",
    "paths['mapping']"
   ]
  },
  {
   "cell_type": "code",
   "execution_count": 4,
   "id": "urban-software",
   "metadata": {
    "execution": {
     "iopub.execute_input": "2022-02-28T00:33:36.966181Z",
     "iopub.status.busy": "2022-02-28T00:33:36.965488Z",
     "iopub.status.idle": "2022-02-28T00:33:36.969717Z",
     "shell.execute_reply": "2022-02-28T00:33:36.969223Z"
    },
    "papermill": {
     "duration": 0.044605,
     "end_time": "2022-02-28T00:33:36.969848",
     "exception": false,
     "start_time": "2022-02-28T00:33:36.925243",
     "status": "completed"
    },
    "tags": []
   },
   "outputs": [],
   "source": [
    "#hide\n",
    "def get_mappings(url):\n",
    "    df = pd.read_csv(url)\n",
    "    return {\n",
    "        'df': df,\n",
    "        'replace.country': dict(df.dropna(subset=['Name']).set_index('Country')['Name']),\n",
    "        'map.continent': dict(df.set_index('Name')['Continent'])\n",
    "    }"
   ]
  },
  {
   "cell_type": "code",
   "execution_count": 5,
   "id": "intimate-machinery",
   "metadata": {
    "execution": {
     "iopub.execute_input": "2022-02-28T00:33:37.044586Z",
     "iopub.status.busy": "2022-02-28T00:33:37.043938Z",
     "iopub.status.idle": "2022-02-28T00:33:37.076952Z",
     "shell.execute_reply": "2022-02-28T00:33:37.076284Z"
    },
    "papermill": {
     "duration": 0.073144,
     "end_time": "2022-02-28T00:33:37.077112",
     "exception": false,
     "start_time": "2022-02-28T00:33:37.003968",
     "status": "completed"
    },
    "tags": []
   },
   "outputs": [],
   "source": [
    "#hide\n",
    "mapping = get_mappings(paths['mapping'])"
   ]
  },
  {
   "cell_type": "code",
   "execution_count": 6,
   "id": "certified-tactics",
   "metadata": {
    "execution": {
     "iopub.execute_input": "2022-02-28T00:33:37.152594Z",
     "iopub.status.busy": "2022-02-28T00:33:37.151909Z",
     "iopub.status.idle": "2022-02-28T00:33:37.153475Z",
     "shell.execute_reply": "2022-02-28T00:33:37.153982Z"
    },
    "papermill": {
     "duration": 0.042247,
     "end_time": "2022-02-28T00:33:37.154134",
     "exception": false,
     "start_time": "2022-02-28T00:33:37.111887",
     "status": "completed"
    },
    "tags": []
   },
   "outputs": [],
   "source": [
    "#hide\n",
    "def get_template(path):\n",
    "    from urllib.parse import urlparse\n",
    "    if bool(urlparse(path).netloc):\n",
    "        from urllib.request import urlopen\n",
    "        return urlopen(path).read().decode('utf8')\n",
    "    return open(path).read()"
   ]
  },
  {
   "cell_type": "code",
   "execution_count": 7,
   "id": "realistic-blast",
   "metadata": {
    "execution": {
     "iopub.execute_input": "2022-02-28T00:33:37.230605Z",
     "iopub.status.busy": "2022-02-28T00:33:37.229998Z",
     "iopub.status.idle": "2022-02-28T00:33:37.232781Z",
     "shell.execute_reply": "2022-02-28T00:33:37.232180Z"
    },
    "papermill": {
     "duration": 0.043223,
     "end_time": "2022-02-28T00:33:37.232911",
     "exception": false,
     "start_time": "2022-02-28T00:33:37.189688",
     "status": "completed"
    },
    "tags": []
   },
   "outputs": [],
   "source": [
    "#hide\n",
    "def get_frame(name):\n",
    "    url = (\n",
    "        'https://raw.githubusercontent.com/CSSEGISandData/COVID-19/master/csse_covid_19_data/'\n",
    "        f'csse_covid_19_time_series/time_series_covid19_{name}_global.csv')\n",
    "    df = pd.read_csv(url)\n",
    "    # rename countries\n",
    "    df['Country/Region'] = df['Country/Region'].replace(mapping['replace.country'])\n",
    "    return df"
   ]
  },
  {
   "cell_type": "code",
   "execution_count": 8,
   "id": "affiliated-characterization",
   "metadata": {
    "execution": {
     "iopub.execute_input": "2022-02-28T00:33:37.310987Z",
     "iopub.status.busy": "2022-02-28T00:33:37.310338Z",
     "iopub.status.idle": "2022-02-28T00:33:37.314055Z",
     "shell.execute_reply": "2022-02-28T00:33:37.314512Z"
    },
    "papermill": {
     "duration": 0.045211,
     "end_time": "2022-02-28T00:33:37.314664",
     "exception": false,
     "start_time": "2022-02-28T00:33:37.269453",
     "status": "completed"
    },
    "tags": []
   },
   "outputs": [],
   "source": [
    "#hide\n",
    "def get_dates(df):\n",
    "    dt_cols = df.columns[~df.columns.isin(['Province/State', 'Country/Region', 'Lat', 'Long'])]\n",
    "    LAST_DATE_I = -1\n",
    "    # sometimes last column may be empty, then go backwards\n",
    "    for i in range(-1, -len(dt_cols), -1):\n",
    "        if not df[dt_cols[i]].fillna(0).eq(0).all():\n",
    "            LAST_DATE_I = i\n",
    "            break\n",
    "    return LAST_DATE_I, dt_cols"
   ]
  },
  {
   "cell_type": "code",
   "execution_count": 9,
   "id": "recent-optimization",
   "metadata": {
    "execution": {
     "iopub.execute_input": "2022-02-28T00:33:37.388031Z",
     "iopub.status.busy": "2022-02-28T00:33:37.387363Z",
     "iopub.status.idle": "2022-02-28T00:33:37.788812Z",
     "shell.execute_reply": "2022-02-28T00:33:37.788175Z"
    },
    "papermill": {
     "duration": 0.440265,
     "end_time": "2022-02-28T00:33:37.788973",
     "exception": false,
     "start_time": "2022-02-28T00:33:37.348708",
     "status": "completed"
    },
    "tags": []
   },
   "outputs": [],
   "source": [
    "#hide\n",
    "COL_REGION = 'Country/Region'\n",
    "# Confirmed, Recovered, Deaths\n",
    "df = get_frame('confirmed')\n",
    "# dft_: timeseries, dfc_: today country agg\n",
    "dft_cases = df\n",
    "dft_deaths = get_frame('deaths')\n",
    "dft_recovered = get_frame('recovered')\n",
    "LAST_DATE_I, dt_cols = get_dates(df)"
   ]
  },
  {
   "cell_type": "code",
   "execution_count": 10,
   "id": "absolute-copper",
   "metadata": {
    "execution": {
     "iopub.execute_input": "2022-02-28T00:33:37.864018Z",
     "iopub.status.busy": "2022-02-28T00:33:37.863315Z",
     "iopub.status.idle": "2022-02-28T00:33:37.865105Z",
     "shell.execute_reply": "2022-02-28T00:33:37.865649Z"
    },
    "papermill": {
     "duration": 0.042467,
     "end_time": "2022-02-28T00:33:37.865801",
     "exception": false,
     "start_time": "2022-02-28T00:33:37.823334",
     "status": "completed"
    },
    "tags": []
   },
   "outputs": [],
   "source": [
    "#hide\n",
    "LAST_DATE_I, dt_cols = get_dates(df)\n",
    "dt_today =dt_cols[LAST_DATE_I]\n",
    "# dt_5day = dt_cols[LAST_DATE_I - 5]\n",
    "dt_yday = dt_cols[LAST_DATE_I - 1]"
   ]
  },
  {
   "cell_type": "code",
   "execution_count": 11,
   "id": "restricted-sheriff",
   "metadata": {
    "execution": {
     "iopub.execute_input": "2022-02-28T00:33:37.945097Z",
     "iopub.status.busy": "2022-02-28T00:33:37.944268Z",
     "iopub.status.idle": "2022-02-28T00:33:37.953137Z",
     "shell.execute_reply": "2022-02-28T00:33:37.952336Z"
    },
    "papermill": {
     "duration": 0.052883,
     "end_time": "2022-02-28T00:33:37.953312",
     "exception": false,
     "start_time": "2022-02-28T00:33:37.900429",
     "status": "completed"
    },
    "tags": []
   },
   "outputs": [],
   "source": [
    "#hide\n",
    "dfc_cases = dft_cases.groupby(COL_REGION)[dt_today].sum()\n",
    "dfc_deaths = dft_deaths.groupby(COL_REGION)[dt_today].sum()\n",
    "# dfp_cases = dft_cases.groupby(COL_REGION)[dt_5day].sum()\n",
    "# dfp_deaths = dft_deaths.groupby(COL_REGION)[dt_5day].sum()\n",
    "dfp_cases = dft_cases.groupby(COL_REGION)[dt_yday].sum()\n",
    "dfp_deaths = dft_deaths.groupby(COL_REGION)[dt_yday].sum()"
   ]
  },
  {
   "cell_type": "code",
   "execution_count": 12,
   "id": "deluxe-hepatitis",
   "metadata": {
    "execution": {
     "iopub.execute_input": "2022-02-28T00:33:38.032947Z",
     "iopub.status.busy": "2022-02-28T00:33:38.032313Z",
     "iopub.status.idle": "2022-02-28T00:33:38.037217Z",
     "shell.execute_reply": "2022-02-28T00:33:38.036727Z"
    },
    "papermill": {
     "duration": 0.047494,
     "end_time": "2022-02-28T00:33:38.037354",
     "exception": false,
     "start_time": "2022-02-28T00:33:37.989860",
     "status": "completed"
    },
    "tags": []
   },
   "outputs": [],
   "source": [
    "#hide\n",
    "df_table = (pd.DataFrame(dict(Cases = dfc_cases, Deaths = dfc_deaths, PCases = dfp_cases, PDeaths = dfp_deaths))\n",
    "            .sort_values(by = ['Cases','Deaths'], ascending = [False, False])\n",
    "            .reset_index())"
   ]
  },
  {
   "cell_type": "code",
   "execution_count": 13,
   "id": "educational-chancellor",
   "metadata": {
    "execution": {
     "iopub.execute_input": "2022-02-28T00:33:38.127696Z",
     "iopub.status.busy": "2022-02-28T00:33:38.126934Z",
     "iopub.status.idle": "2022-02-28T00:33:38.135124Z",
     "shell.execute_reply": "2022-02-28T00:33:38.135840Z"
    },
    "papermill": {
     "duration": 0.063784,
     "end_time": "2022-02-28T00:33:38.136074",
     "exception": false,
     "start_time": "2022-02-28T00:33:38.072290",
     "status": "completed"
    },
    "tags": []
   },
   "outputs": [
    {
     "data": {
      "text/html": [
       "<div>\n",
       "<style scoped>\n",
       "    .dataframe tbody tr th:only-of-type {\n",
       "        vertical-align: middle;\n",
       "    }\n",
       "\n",
       "    .dataframe tbody tr th {\n",
       "        vertical-align: top;\n",
       "    }\n",
       "\n",
       "    .dataframe thead th {\n",
       "        text-align: right;\n",
       "    }\n",
       "</style>\n",
       "<table border=\"1\" class=\"dataframe\">\n",
       "  <thead>\n",
       "    <tr style=\"text-align: right;\">\n",
       "      <th></th>\n",
       "      <th>Country/Region</th>\n",
       "      <th>Cases</th>\n",
       "      <th>Deaths</th>\n",
       "      <th>PCases</th>\n",
       "      <th>PDeaths</th>\n",
       "      <th>Cases (+)</th>\n",
       "      <th>Deaths (+)</th>\n",
       "      <th>Fatality Rate</th>\n",
       "      <th>Continent</th>\n",
       "    </tr>\n",
       "  </thead>\n",
       "  <tbody>\n",
       "    <tr>\n",
       "      <th>0</th>\n",
       "      <td>US</td>\n",
       "      <td>78931739</td>\n",
       "      <td>948215</td>\n",
       "      <td>78883101</td>\n",
       "      <td>947417</td>\n",
       "      <td>48638</td>\n",
       "      <td>798</td>\n",
       "      <td>1.20</td>\n",
       "      <td>North America</td>\n",
       "    </tr>\n",
       "    <tr>\n",
       "      <th>1</th>\n",
       "      <td>India</td>\n",
       "      <td>42916117</td>\n",
       "      <td>513724</td>\n",
       "      <td>42905844</td>\n",
       "      <td>513481</td>\n",
       "      <td>10273</td>\n",
       "      <td>243</td>\n",
       "      <td>1.20</td>\n",
       "      <td>Asia</td>\n",
       "    </tr>\n",
       "    <tr>\n",
       "      <th>2</th>\n",
       "      <td>Brazil</td>\n",
       "      <td>28749552</td>\n",
       "      <td>649184</td>\n",
       "      <td>28679671</td>\n",
       "      <td>648496</td>\n",
       "      <td>69881</td>\n",
       "      <td>688</td>\n",
       "      <td>2.26</td>\n",
       "      <td>South America</td>\n",
       "    </tr>\n",
       "    <tr>\n",
       "      <th>3</th>\n",
       "      <td>France</td>\n",
       "      <td>22819557</td>\n",
       "      <td>139073</td>\n",
       "      <td>22765934</td>\n",
       "      <td>138972</td>\n",
       "      <td>53623</td>\n",
       "      <td>101</td>\n",
       "      <td>0.61</td>\n",
       "      <td>Europe</td>\n",
       "    </tr>\n",
       "    <tr>\n",
       "      <th>4</th>\n",
       "      <td>United Kingdom</td>\n",
       "      <td>18938546</td>\n",
       "      <td>161797</td>\n",
       "      <td>18938546</td>\n",
       "      <td>161797</td>\n",
       "      <td>0</td>\n",
       "      <td>0</td>\n",
       "      <td>0.85</td>\n",
       "      <td>Europe</td>\n",
       "    </tr>\n",
       "  </tbody>\n",
       "</table>\n",
       "</div>"
      ],
      "text/plain": [
       "   Country/Region     Cases  Deaths    PCases  PDeaths  Cases (+)  Deaths (+)  \\\n",
       "0              US  78931739  948215  78883101   947417      48638         798   \n",
       "1           India  42916117  513724  42905844   513481      10273         243   \n",
       "2          Brazil  28749552  649184  28679671   648496      69881         688   \n",
       "3          France  22819557  139073  22765934   138972      53623         101   \n",
       "4  United Kingdom  18938546  161797  18938546   161797          0           0   \n",
       "\n",
       "   Fatality Rate      Continent  \n",
       "0           1.20  North America  \n",
       "1           1.20           Asia  \n",
       "2           2.26  South America  \n",
       "3           0.61         Europe  \n",
       "4           0.85         Europe  "
      ]
     },
     "execution_count": 13,
     "metadata": {},
     "output_type": "execute_result"
    }
   ],
   "source": [
    "#hide\n",
    "for c in 'Cases, Deaths'.split(', '):\n",
    "    df_table[f'{c} (+)'] = (df_table[c] - df_table[f'P{c}']).clip(0)\n",
    "    #Clip ça veut dire, les chiffres negatif sont interdit\n",
    "df_table['Fatality Rate'] = (100* df_table['Deaths']/ df_table['Cases']).round(2)\n",
    "df_table['Continent'] = df_table['Country/Region'].map(mapping['map.continent'])\n",
    "df_table.head(5)"
   ]
  },
  {
   "cell_type": "code",
   "execution_count": 14,
   "id": "aboriginal-bulgaria",
   "metadata": {
    "execution": {
     "iopub.execute_input": "2022-02-28T00:33:38.225458Z",
     "iopub.status.busy": "2022-02-28T00:33:38.224814Z",
     "iopub.status.idle": "2022-02-28T00:33:38.226696Z",
     "shell.execute_reply": "2022-02-28T00:33:38.227152Z"
    },
    "papermill": {
     "duration": 0.046921,
     "end_time": "2022-02-28T00:33:38.227303",
     "exception": false,
     "start_time": "2022-02-28T00:33:38.180382",
     "status": "completed"
    },
    "tags": []
   },
   "outputs": [],
   "source": [
    "#hide\n",
    "#delete problematic countries from table\n",
    "df_table = df_table[~df_table['Country/Region'].isin(['Cape Verde', 'Cruise Ship', 'Kosovo'])]"
   ]
  },
  {
   "cell_type": "code",
   "execution_count": 15,
   "id": "fantastic-effect",
   "metadata": {
    "execution": {
     "iopub.execute_input": "2022-02-28T00:33:38.307351Z",
     "iopub.status.busy": "2022-02-28T00:33:38.305908Z",
     "iopub.status.idle": "2022-02-28T00:33:38.328090Z",
     "shell.execute_reply": "2022-02-28T00:33:38.327553Z"
    },
    "papermill": {
     "duration": 0.065992,
     "end_time": "2022-02-28T00:33:38.328232",
     "exception": false,
     "start_time": "2022-02-28T00:33:38.262240",
     "status": "completed"
    },
    "tags": []
   },
   "outputs": [
    {
     "data": {
      "text/html": [
       "<div>\n",
       "<style scoped>\n",
       "    .dataframe tbody tr th:only-of-type {\n",
       "        vertical-align: middle;\n",
       "    }\n",
       "\n",
       "    .dataframe tbody tr th {\n",
       "        vertical-align: top;\n",
       "    }\n",
       "\n",
       "    .dataframe thead th {\n",
       "        text-align: right;\n",
       "    }\n",
       "</style>\n",
       "<table border=\"1\" class=\"dataframe\">\n",
       "  <thead>\n",
       "    <tr style=\"text-align: right;\">\n",
       "      <th></th>\n",
       "      <th>Country/Region</th>\n",
       "      <th>Cases</th>\n",
       "      <th>Deaths</th>\n",
       "      <th>PCases</th>\n",
       "      <th>PDeaths</th>\n",
       "      <th>Cases (+)</th>\n",
       "      <th>Deaths (+)</th>\n",
       "      <th>Fatality Rate</th>\n",
       "      <th>Continent</th>\n",
       "    </tr>\n",
       "  </thead>\n",
       "  <tbody>\n",
       "    <tr>\n",
       "      <th>0</th>\n",
       "      <td>US</td>\n",
       "      <td>78931739</td>\n",
       "      <td>948215</td>\n",
       "      <td>78883101</td>\n",
       "      <td>947417</td>\n",
       "      <td>48638</td>\n",
       "      <td>798</td>\n",
       "      <td>1.2</td>\n",
       "      <td>North America</td>\n",
       "    </tr>\n",
       "    <tr>\n",
       "      <th>1</th>\n",
       "      <td>India</td>\n",
       "      <td>42916117</td>\n",
       "      <td>513724</td>\n",
       "      <td>42905844</td>\n",
       "      <td>513481</td>\n",
       "      <td>10273</td>\n",
       "      <td>243</td>\n",
       "      <td>1.2</td>\n",
       "      <td>Asia</td>\n",
       "    </tr>\n",
       "    <tr>\n",
       "      <th>2</th>\n",
       "      <td>Brazil</td>\n",
       "      <td>28749552</td>\n",
       "      <td>649184</td>\n",
       "      <td>28679671</td>\n",
       "      <td>648496</td>\n",
       "      <td>69881</td>\n",
       "      <td>688</td>\n",
       "      <td>2.3</td>\n",
       "      <td>South America</td>\n",
       "    </tr>\n",
       "    <tr>\n",
       "      <th>3</th>\n",
       "      <td>France</td>\n",
       "      <td>22819557</td>\n",
       "      <td>139073</td>\n",
       "      <td>22765934</td>\n",
       "      <td>138972</td>\n",
       "      <td>53623</td>\n",
       "      <td>101</td>\n",
       "      <td>0.6</td>\n",
       "      <td>Europe</td>\n",
       "    </tr>\n",
       "    <tr>\n",
       "      <th>4</th>\n",
       "      <td>United Kingdom</td>\n",
       "      <td>18938546</td>\n",
       "      <td>161797</td>\n",
       "      <td>18938546</td>\n",
       "      <td>161797</td>\n",
       "      <td>0</td>\n",
       "      <td>0</td>\n",
       "      <td>0.9</td>\n",
       "      <td>Europe</td>\n",
       "    </tr>\n",
       "  </tbody>\n",
       "</table>\n",
       "</div>"
      ],
      "text/plain": [
       "   Country/Region     Cases  Deaths    PCases  PDeaths  Cases (+)  Deaths (+)  \\\n",
       "0              US  78931739  948215  78883101   947417      48638         798   \n",
       "1           India  42916117  513724  42905844   513481      10273         243   \n",
       "2          Brazil  28749552  649184  28679671   648496      69881         688   \n",
       "3          France  22819557  139073  22765934   138972      53623         101   \n",
       "4  United Kingdom  18938546  161797  18938546   161797          0           0   \n",
       "\n",
       "   Fatality Rate      Continent  \n",
       "0            1.2  North America  \n",
       "1            1.2           Asia  \n",
       "2            2.3  South America  \n",
       "3            0.6         Europe  \n",
       "4            0.9         Europe  "
      ]
     },
     "execution_count": 15,
     "metadata": {},
     "output_type": "execute_result"
    }
   ],
   "source": [
    "#hide\n",
    "df_table = (pd.DataFrame(dict(Cases=dfc_cases, Deaths=dfc_deaths, PCases=dfp_cases, PDeaths=dfp_deaths))\n",
    "             .sort_values(by=['Cases', 'Deaths'], ascending=[False, False])\n",
    "             .reset_index())\n",
    "df_table.rename(columns={'index': 'Country/Region'}, inplace=True)\n",
    "for c in 'Cases, Deaths'.split(', '):\n",
    "    df_table[f'{c} (+)'] = (df_table[c] - df_table[f'P{c}']).clip(0)  # DATA BUG\n",
    "df_table['Fatality Rate'] = (100 * df_table['Deaths'] / df_table['Cases']).round(1)\n",
    "df_table['Continent'] = df_table['Country/Region'].map(mapping['map.continent'])\n",
    "df_table.head(5)"
   ]
  },
  {
   "cell_type": "code",
   "execution_count": 16,
   "id": "fewer-occasion",
   "metadata": {
    "execution": {
     "iopub.execute_input": "2022-02-28T00:33:38.405665Z",
     "iopub.status.busy": "2022-02-28T00:33:38.405002Z",
     "iopub.status.idle": "2022-02-28T00:33:38.406646Z",
     "shell.execute_reply": "2022-02-28T00:33:38.407135Z"
    },
    "papermill": {
     "duration": 0.0434,
     "end_time": "2022-02-28T00:33:38.407286",
     "exception": false,
     "start_time": "2022-02-28T00:33:38.363886",
     "status": "completed"
    },
    "tags": []
   },
   "outputs": [],
   "source": [
    "#hide\n",
    "#delete problematic countries from table\n",
    "df_table = df_table[~df_table['Country/Region'].isin(['Cape Verde', 'Cruise Ship', 'Kosovo'])]"
   ]
  },
  {
   "cell_type": "code",
   "execution_count": 17,
   "id": "related-center",
   "metadata": {
    "execution": {
     "iopub.execute_input": "2022-02-28T00:33:38.511023Z",
     "iopub.status.busy": "2022-02-28T00:33:38.510349Z",
     "iopub.status.idle": "2022-02-28T00:33:38.512793Z",
     "shell.execute_reply": "2022-02-28T00:33:38.512273Z"
    },
    "papermill": {
     "duration": 0.062886,
     "end_time": "2022-02-28T00:33:38.512925",
     "exception": false,
     "start_time": "2022-02-28T00:33:38.450039",
     "status": "completed"
    },
    "tags": []
   },
   "outputs": [],
   "source": [
    "#hide\n",
    "metrics = [df_table.columns[index] for index in [1,2,5,6]]\n",
    "# s_china = df_table[df_table['Country/Region'].eq('China')][metrics].sum().add_prefix('China ')\n",
    "s_us = df_table[df_table['Country/Region'].eq('US')][metrics].sum().add_prefix('US ')\n",
    "s_eu = df_table[df_table['Continent'].eq('Europe')][metrics].sum().add_prefix('EU ')\n",
    "s_ind = df_table[df_table['Country/Region'].eq('India')][metrics].sum().add_prefix('India ')\n",
    "summary = {'updated': pd.to_datetime(dt_today), 'since': pd.to_datetime(dt_yday)}\n",
    "summary = {'updated': pd.to_datetime(dt_today), 'since': pd.to_datetime(dt_yday)}\n",
    "summary = {**summary, **df_table[metrics].sum(), **s_ind, **s_us, **s_eu}"
   ]
  },
  {
   "cell_type": "code",
   "execution_count": 18,
   "id": "engaging-syndrome",
   "metadata": {
    "execution": {
     "iopub.execute_input": "2022-02-28T00:33:38.590829Z",
     "iopub.status.busy": "2022-02-28T00:33:38.590212Z",
     "iopub.status.idle": "2022-02-28T00:33:38.608258Z",
     "shell.execute_reply": "2022-02-28T00:33:38.608780Z"
    },
    "papermill": {
     "duration": 0.060384,
     "end_time": "2022-02-28T00:33:38.608951",
     "exception": false,
     "start_time": "2022-02-28T00:33:38.548567",
     "status": "completed"
    },
    "tags": []
   },
   "outputs": [],
   "source": [
    "#hide\n",
    "dft_ct_new_cases = dft_cases.groupby(COL_REGION)[dt_cols].sum().diff(axis=1).fillna(0).astype(int)"
   ]
  },
  {
   "cell_type": "code",
   "execution_count": 19,
   "id": "neutral-assignment",
   "metadata": {
    "execution": {
     "iopub.execute_input": "2022-02-28T00:33:38.686730Z",
     "iopub.status.busy": "2022-02-28T00:33:38.685931Z",
     "iopub.status.idle": "2022-02-28T00:33:38.687744Z",
     "shell.execute_reply": "2022-02-28T00:33:38.688501Z"
    },
    "papermill": {
     "duration": 0.044305,
     "end_time": "2022-02-28T00:33:38.688703",
     "exception": false,
     "start_time": "2022-02-28T00:33:38.644398",
     "status": "completed"
    },
    "tags": []
   },
   "outputs": [],
   "source": [
    "#hide\n",
    "everydaycases = dft_ct_new_cases.cumsum(axis=1)"
   ]
  },
  {
   "cell_type": "code",
   "execution_count": 20,
   "id": "parliamentary-calgary",
   "metadata": {
    "execution": {
     "iopub.execute_input": "2022-02-28T00:33:38.778483Z",
     "iopub.status.busy": "2022-02-28T00:33:38.777467Z",
     "iopub.status.idle": "2022-02-28T00:33:39.505854Z",
     "shell.execute_reply": "2022-02-28T00:33:39.505312Z"
    },
    "papermill": {
     "duration": 0.775242,
     "end_time": "2022-02-28T00:33:39.505998",
     "exception": false,
     "start_time": "2022-02-28T00:33:38.730756",
     "status": "completed"
    },
    "tags": []
   },
   "outputs": [],
   "source": [
    "#hide\n",
    "import pandas as pd\n",
    "import matplotlib.pyplot as plt\n",
    "import matplotlib.ticker as ticker\n",
    "import matplotlib.animation as animation\n",
    "from IPython.display import HTML"
   ]
  },
  {
   "cell_type": "code",
   "execution_count": 21,
   "id": "lasting-extraction",
   "metadata": {
    "execution": {
     "iopub.execute_input": "2022-02-28T00:33:39.594415Z",
     "iopub.status.busy": "2022-02-28T00:33:39.592400Z",
     "iopub.status.idle": "2022-02-28T00:33:39.598558Z",
     "shell.execute_reply": "2022-02-28T00:33:39.599262Z"
    },
    "papermill": {
     "duration": 0.056062,
     "end_time": "2022-02-28T00:33:39.599442",
     "exception": false,
     "start_time": "2022-02-28T00:33:39.543380",
     "status": "completed"
    },
    "tags": []
   },
   "outputs": [],
   "source": [
    "#hide\n",
    "t = everydaycases.stack()"
   ]
  },
  {
   "cell_type": "code",
   "execution_count": 22,
   "id": "premier-sleeve",
   "metadata": {
    "execution": {
     "iopub.execute_input": "2022-02-28T00:33:39.684755Z",
     "iopub.status.busy": "2022-02-28T00:33:39.683970Z",
     "iopub.status.idle": "2022-02-28T00:33:39.696327Z",
     "shell.execute_reply": "2022-02-28T00:33:39.697104Z"
    },
    "papermill": {
     "duration": 0.057492,
     "end_time": "2022-02-28T00:33:39.697333",
     "exception": false,
     "start_time": "2022-02-28T00:33:39.639841",
     "status": "completed"
    },
    "tags": []
   },
   "outputs": [],
   "source": [
    "#hide\n",
    "g = t.reset_index(['Country/Region'])"
   ]
  },
  {
   "cell_type": "code",
   "execution_count": 23,
   "id": "distributed-pittsburgh",
   "metadata": {
    "execution": {
     "iopub.execute_input": "2022-02-28T00:33:39.785220Z",
     "iopub.status.busy": "2022-02-28T00:33:39.784611Z",
     "iopub.status.idle": "2022-02-28T00:33:39.787357Z",
     "shell.execute_reply": "2022-02-28T00:33:39.786862Z"
    },
    "papermill": {
     "duration": 0.047601,
     "end_time": "2022-02-28T00:33:39.787488",
     "exception": false,
     "start_time": "2022-02-28T00:33:39.739887",
     "status": "completed"
    },
    "tags": []
   },
   "outputs": [],
   "source": [
    "#hide\n",
    "g.index.name = 'date'"
   ]
  },
  {
   "cell_type": "code",
   "execution_count": 24,
   "id": "naked-donor",
   "metadata": {
    "execution": {
     "iopub.execute_input": "2022-02-28T00:33:39.873037Z",
     "iopub.status.busy": "2022-02-28T00:33:39.872389Z",
     "iopub.status.idle": "2022-02-28T00:33:39.875531Z",
     "shell.execute_reply": "2022-02-28T00:33:39.874804Z"
    },
    "papermill": {
     "duration": 0.046594,
     "end_time": "2022-02-28T00:33:39.875674",
     "exception": false,
     "start_time": "2022-02-28T00:33:39.829080",
     "status": "completed"
    },
    "tags": []
   },
   "outputs": [],
   "source": [
    "# #hide\n",
    "# g = g.reset_index(['date'])"
   ]
  },
  {
   "cell_type": "code",
   "execution_count": 25,
   "id": "incomplete-mustang",
   "metadata": {
    "execution": {
     "iopub.execute_input": "2022-02-28T00:33:39.960428Z",
     "iopub.status.busy": "2022-02-28T00:33:39.959768Z",
     "iopub.status.idle": "2022-02-28T00:33:39.962439Z",
     "shell.execute_reply": "2022-02-28T00:33:39.961956Z"
    },
    "papermill": {
     "duration": 0.041772,
     "end_time": "2022-02-28T00:33:39.962570",
     "exception": false,
     "start_time": "2022-02-28T00:33:39.920798",
     "status": "completed"
    },
    "tags": []
   },
   "outputs": [],
   "source": [
    "#hide\n",
    "# g.head()"
   ]
  },
  {
   "cell_type": "code",
   "execution_count": 26,
   "id": "specific-kruger",
   "metadata": {
    "execution": {
     "iopub.execute_input": "2022-02-28T00:33:40.037656Z",
     "iopub.status.busy": "2022-02-28T00:33:40.037015Z",
     "iopub.status.idle": "2022-02-28T00:33:40.039499Z",
     "shell.execute_reply": "2022-02-28T00:33:40.039017Z"
    },
    "papermill": {
     "duration": 0.04168,
     "end_time": "2022-02-28T00:33:40.039630",
     "exception": false,
     "start_time": "2022-02-28T00:33:39.997950",
     "status": "completed"
    },
    "tags": []
   },
   "outputs": [],
   "source": [
    "#hide\n",
    "# g.columns = ['date','country','cases']"
   ]
  },
  {
   "cell_type": "code",
   "execution_count": 27,
   "id": "tender-conversion",
   "metadata": {
    "execution": {
     "iopub.execute_input": "2022-02-28T00:33:40.123763Z",
     "iopub.status.busy": "2022-02-28T00:33:40.123021Z",
     "iopub.status.idle": "2022-02-28T00:33:40.127255Z",
     "shell.execute_reply": "2022-02-28T00:33:40.126727Z"
    },
    "papermill": {
     "duration": 0.044351,
     "end_time": "2022-02-28T00:33:40.127385",
     "exception": false,
     "start_time": "2022-02-28T00:33:40.083034",
     "status": "completed"
    },
    "tags": []
   },
   "outputs": [],
   "source": [
    "#hide\n",
    "# g['continent'] = g.country"
   ]
  },
  {
   "cell_type": "code",
   "execution_count": 28,
   "id": "substantial-wilderness",
   "metadata": {
    "execution": {
     "iopub.execute_input": "2022-02-28T00:33:40.202212Z",
     "iopub.status.busy": "2022-02-28T00:33:40.201574Z",
     "iopub.status.idle": "2022-02-28T00:33:40.203197Z",
     "shell.execute_reply": "2022-02-28T00:33:40.203719Z"
    },
    "papermill": {
     "duration": 0.041291,
     "end_time": "2022-02-28T00:33:40.203891",
     "exception": false,
     "start_time": "2022-02-28T00:33:40.162600",
     "status": "completed"
    },
    "tags": []
   },
   "outputs": [],
   "source": [
    "#hide\n",
    "# cols = list(g.columns.values)"
   ]
  },
  {
   "cell_type": "code",
   "execution_count": 29,
   "id": "solved-farming",
   "metadata": {
    "execution": {
     "iopub.execute_input": "2022-02-28T00:33:40.283581Z",
     "iopub.status.busy": "2022-02-28T00:33:40.282924Z",
     "iopub.status.idle": "2022-02-28T00:33:40.284848Z",
     "shell.execute_reply": "2022-02-28T00:33:40.285306Z"
    },
    "papermill": {
     "duration": 0.043532,
     "end_time": "2022-02-28T00:33:40.285492",
     "exception": false,
     "start_time": "2022-02-28T00:33:40.241960",
     "status": "completed"
    },
    "tags": []
   },
   "outputs": [],
   "source": [
    "#hide\n",
    "# cols.insert(0, cols.pop())"
   ]
  },
  {
   "cell_type": "code",
   "execution_count": 30,
   "id": "executed-adoption",
   "metadata": {
    "execution": {
     "iopub.execute_input": "2022-02-28T00:33:40.361247Z",
     "iopub.status.busy": "2022-02-28T00:33:40.360599Z",
     "iopub.status.idle": "2022-02-28T00:33:40.364764Z",
     "shell.execute_reply": "2022-02-28T00:33:40.365307Z"
    },
    "papermill": {
     "duration": 0.044115,
     "end_time": "2022-02-28T00:33:40.365473",
     "exception": false,
     "start_time": "2022-02-28T00:33:40.321358",
     "status": "completed"
    },
    "tags": []
   },
   "outputs": [],
   "source": [
    "#hide\n",
    "# g = g[cols]"
   ]
  },
  {
   "cell_type": "code",
   "execution_count": 31,
   "id": "subject-dublin",
   "metadata": {
    "execution": {
     "iopub.execute_input": "2022-02-28T00:33:40.451968Z",
     "iopub.status.busy": "2022-02-28T00:33:40.451315Z",
     "iopub.status.idle": "2022-02-28T00:33:40.453493Z",
     "shell.execute_reply": "2022-02-28T00:33:40.453945Z"
    },
    "papermill": {
     "duration": 0.046625,
     "end_time": "2022-02-28T00:33:40.454091",
     "exception": false,
     "start_time": "2022-02-28T00:33:40.407466",
     "status": "completed"
    },
    "tags": []
   },
   "outputs": [],
   "source": [
    "#hide\n",
    "# g['continent'] = g['continent'].map(mapping['map.continent'])"
   ]
  },
  {
   "cell_type": "code",
   "execution_count": 32,
   "id": "freelance-scout",
   "metadata": {
    "execution": {
     "iopub.execute_input": "2022-02-28T00:33:40.529202Z",
     "iopub.status.busy": "2022-02-28T00:33:40.528566Z",
     "iopub.status.idle": "2022-02-28T00:33:40.532339Z",
     "shell.execute_reply": "2022-02-28T00:33:40.532956Z"
    },
    "papermill": {
     "duration": 0.043637,
     "end_time": "2022-02-28T00:33:40.533130",
     "exception": false,
     "start_time": "2022-02-28T00:33:40.489493",
     "status": "completed"
    },
    "tags": []
   },
   "outputs": [],
   "source": [
    "#hide\n",
    "# g.head()"
   ]
  },
  {
   "cell_type": "code",
   "execution_count": 33,
   "id": "limited-engine",
   "metadata": {
    "execution": {
     "iopub.execute_input": "2022-02-28T00:33:40.626901Z",
     "iopub.status.busy": "2022-02-28T00:33:40.626261Z",
     "iopub.status.idle": "2022-02-28T00:33:40.628393Z",
     "shell.execute_reply": "2022-02-28T00:33:40.628845Z"
    },
    "papermill": {
     "duration": 0.056619,
     "end_time": "2022-02-28T00:33:40.629000",
     "exception": false,
     "start_time": "2022-02-28T00:33:40.572381",
     "status": "completed"
    },
    "tags": []
   },
   "outputs": [],
   "source": [
    "# hide\n",
    "# g['date'] = g['date'].astype('datetime64[ns]')"
   ]
  },
  {
   "cell_type": "code",
   "execution_count": 34,
   "id": "sophisticated-supervisor",
   "metadata": {
    "execution": {
     "iopub.execute_input": "2022-02-28T00:33:40.705504Z",
     "iopub.status.busy": "2022-02-28T00:33:40.704714Z",
     "iopub.status.idle": "2022-02-28T00:33:40.706404Z",
     "shell.execute_reply": "2022-02-28T00:33:40.707011Z"
    },
    "papermill": {
     "duration": 0.042775,
     "end_time": "2022-02-28T00:33:40.707227",
     "exception": false,
     "start_time": "2022-02-28T00:33:40.664452",
     "status": "completed"
    },
    "tags": []
   },
   "outputs": [],
   "source": [
    "#hide\n",
    "# g['date'] = g.date.dt.dayofyear"
   ]
  },
  {
   "cell_type": "code",
   "execution_count": 35,
   "id": "inside-dubai",
   "metadata": {
    "execution": {
     "iopub.execute_input": "2022-02-28T00:33:40.802012Z",
     "iopub.status.busy": "2022-02-28T00:33:40.801088Z",
     "iopub.status.idle": "2022-02-28T00:33:40.804129Z",
     "shell.execute_reply": "2022-02-28T00:33:40.803464Z"
    },
    "papermill": {
     "duration": 0.049234,
     "end_time": "2022-02-28T00:33:40.804262",
     "exception": false,
     "start_time": "2022-02-28T00:33:40.755028",
     "status": "completed"
    },
    "tags": []
   },
   "outputs": [],
   "source": [
    "#hide\n",
    "# g = g.rename(columns= {'continent':'group','country':'name','cases':'value'})"
   ]
  },
  {
   "cell_type": "code",
   "execution_count": 36,
   "id": "fleet-motorcycle",
   "metadata": {
    "execution": {
     "iopub.execute_input": "2022-02-28T00:33:40.882786Z",
     "iopub.status.busy": "2022-02-28T00:33:40.882163Z",
     "iopub.status.idle": "2022-02-28T00:33:40.886081Z",
     "shell.execute_reply": "2022-02-28T00:33:40.886541Z"
    },
    "papermill": {
     "duration": 0.043854,
     "end_time": "2022-02-28T00:33:40.886692",
     "exception": false,
     "start_time": "2022-02-28T00:33:40.842838",
     "status": "completed"
    },
    "tags": []
   },
   "outputs": [],
   "source": [
    "#hide\n",
    "# cols = ['name','group','day','value']"
   ]
  },
  {
   "cell_type": "code",
   "execution_count": 37,
   "id": "continued-sleeping",
   "metadata": {
    "execution": {
     "iopub.execute_input": "2022-02-28T00:33:40.968477Z",
     "iopub.status.busy": "2022-02-28T00:33:40.967789Z",
     "iopub.status.idle": "2022-02-28T00:33:40.970083Z",
     "shell.execute_reply": "2022-02-28T00:33:40.969484Z"
    },
    "papermill": {
     "duration": 0.044959,
     "end_time": "2022-02-28T00:33:40.970209",
     "exception": false,
     "start_time": "2022-02-28T00:33:40.925250",
     "status": "completed"
    },
    "tags": []
   },
   "outputs": [],
   "source": [
    "#hide\n",
    "# g.rename(columns= {'date':'day'},inplace = True)"
   ]
  },
  {
   "cell_type": "code",
   "execution_count": 38,
   "id": "major-fight",
   "metadata": {
    "execution": {
     "iopub.execute_input": "2022-02-28T00:33:41.045529Z",
     "iopub.status.busy": "2022-02-28T00:33:41.044889Z",
     "iopub.status.idle": "2022-02-28T00:33:41.049362Z",
     "shell.execute_reply": "2022-02-28T00:33:41.048871Z"
    },
    "papermill": {
     "duration": 0.043874,
     "end_time": "2022-02-28T00:33:41.049497",
     "exception": false,
     "start_time": "2022-02-28T00:33:41.005623",
     "status": "completed"
    },
    "tags": []
   },
   "outputs": [],
   "source": [
    "#hide\n",
    "# g = g[cols]"
   ]
  },
  {
   "cell_type": "code",
   "execution_count": 39,
   "id": "structured-mobile",
   "metadata": {
    "execution": {
     "iopub.execute_input": "2022-02-28T00:33:41.134989Z",
     "iopub.status.busy": "2022-02-28T00:33:41.134256Z",
     "iopub.status.idle": "2022-02-28T00:33:41.136582Z",
     "shell.execute_reply": "2022-02-28T00:33:41.135878Z"
    },
    "papermill": {
     "duration": 0.046012,
     "end_time": "2022-02-28T00:33:41.136728",
     "exception": false,
     "start_time": "2022-02-28T00:33:41.090716",
     "status": "completed"
    },
    "tags": []
   },
   "outputs": [],
   "source": [
    "# #hide\n",
    "# g = g[g.group.notna()]"
   ]
  },
  {
   "cell_type": "code",
   "execution_count": 40,
   "id": "determined-closing",
   "metadata": {
    "execution": {
     "iopub.execute_input": "2022-02-28T00:33:41.212772Z",
     "iopub.status.busy": "2022-02-28T00:33:41.212096Z",
     "iopub.status.idle": "2022-02-28T00:33:41.214429Z",
     "shell.execute_reply": "2022-02-28T00:33:41.213832Z"
    },
    "papermill": {
     "duration": 0.041659,
     "end_time": "2022-02-28T00:33:41.214559",
     "exception": false,
     "start_time": "2022-02-28T00:33:41.172900",
     "status": "completed"
    },
    "tags": []
   },
   "outputs": [],
   "source": [
    "# #hide\n",
    "# colors = dict(zip(\n",
    "#     [\"Oceania\", \"Europe\", \"Asia\", \"South America\", \"Middle East\", \"North America\", \"Africa\"],\n",
    "#     [\"#adb0ff\", \"#ffb3ff\", \"#90d595\", \"#e48381\", \"#aafbff\", \"#f7bb5f\", \"#eafb50\"]\n",
    "# ))\n",
    "# group_lk = g.set_index('name')['group'].to_dict()"
   ]
  },
  {
   "cell_type": "code",
   "execution_count": null,
   "id": "gross-drinking",
   "metadata": {
    "papermill": {
     "duration": 0.037335,
     "end_time": "2022-02-28T00:33:41.290049",
     "exception": false,
     "start_time": "2022-02-28T00:33:41.252714",
     "status": "completed"
    },
    "tags": []
   },
   "outputs": [],
   "source": []
  },
  {
   "cell_type": "code",
   "execution_count": 41,
   "id": "subject-macintosh",
   "metadata": {
    "execution": {
     "iopub.execute_input": "2022-02-28T00:33:41.375641Z",
     "iopub.status.busy": "2022-02-28T00:33:41.374949Z",
     "iopub.status.idle": "2022-02-28T00:33:41.378672Z",
     "shell.execute_reply": "2022-02-28T00:33:41.379129Z"
    },
    "papermill": {
     "duration": 0.047217,
     "end_time": "2022-02-28T00:33:41.379283",
     "exception": false,
     "start_time": "2022-02-28T00:33:41.332066",
     "status": "completed"
    },
    "tags": []
   },
   "outputs": [],
   "source": [
    "# #hide\n",
    "# fig, ax = plt.subplots(figsize=(15, 8))\n",
    "\n",
    "# def draw_barchart(current_day):\n",
    "#     dff = g[g['day'].eq(current_day)].sort_values(by='value', ascending=True).tail(10)\n",
    "#     ax.clear()\n",
    "#     ax.barh(dff['name'], dff['value'], color=[colors[group_lk[x]] for x in dff['name']])\n",
    "#     dx = dff['value'].max() / 200\n",
    "    \n",
    "#     for i, (value, name) in enumerate(zip(dff['value'], dff['name'])):\n",
    "#         ax.text(value-dx, i,     name,           size=14, weight=600, ha='right', va='bottom')\n",
    "#         ax.text(value-dx, i-.25, group_lk[name], size=10, color='#444444', ha='right', va='baseline')\n",
    "#         ax.text(value+dx, i,     f'{value:,.0f}',  size=14, ha='left',  va='center')\n",
    "#     ax.text(1, 0.4, current_day, transform=ax.transAxes, color='#777777', size=46, ha='right', weight=800)\n",
    "#     ax.text(0, 1.06, 'Population (thousands)', transform=ax.transAxes, size=12, color='#777777')\n",
    "#     ax.xaxis.set_major_formatter(ticker.StrMethodFormatter('{x:,.0f}'))\n",
    "#     ax.xaxis.set_ticks_position('top')\n",
    "#     ax.tick_params(axis='x', colors='#777777', labelsize=12)\n",
    "#     ax.set_yticks([])\n",
    "#     ax.margins(0, 0.01)\n",
    "#     ax.grid(which='major', axis='x', linestyle='-')\n",
    "#     ax.set_axisbelow(True)\n",
    "    \n",
    "#     ax.text(0, 1.15, 'Coronavirus',\n",
    "#             transform=ax.transAxes, size=24, weight=600, ha='left', va='top')\n",
    "# #     ax.text(1, 0, 'by @pratapvardhan; credit @jburnmurdoch', transform=ax.transAxes, color='#777777', ha='right',\n",
    "# #             bbox=dict(facecolor='white', alpha=0.8, edgecolor='white'))\n",
    "#     plt.box(False)"
   ]
  },
  {
   "cell_type": "code",
   "execution_count": 42,
   "id": "sexual-wages",
   "metadata": {
    "execution": {
     "iopub.execute_input": "2022-02-28T00:33:41.455443Z",
     "iopub.status.busy": "2022-02-28T00:33:41.454786Z",
     "iopub.status.idle": "2022-02-28T00:33:41.456699Z",
     "shell.execute_reply": "2022-02-28T00:33:41.456110Z"
    },
    "papermill": {
     "duration": 0.041407,
     "end_time": "2022-02-28T00:33:41.456825",
     "exception": false,
     "start_time": "2022-02-28T00:33:41.415418",
     "status": "completed"
    },
    "tags": []
   },
   "outputs": [],
   "source": [
    "# #hide_input\n",
    "# fig, ax = plt.subplots(figsize=(15, 8))\n",
    "# animator = animation.FuncAnimation(fig, draw_barchart, frames=range(g.day.values.min(), g.day.values.max()))\n",
    "# HTML(animator.to_jshtml())\n",
    "# # or use animator.to_html5_video() or animator.save() "
   ]
  },
  {
   "cell_type": "code",
   "execution_count": null,
   "id": "australian-container",
   "metadata": {
    "papermill": {
     "duration": 0.037054,
     "end_time": "2022-02-28T00:33:41.533551",
     "exception": false,
     "start_time": "2022-02-28T00:33:41.496497",
     "status": "completed"
    },
    "tags": []
   },
   "outputs": [],
   "source": []
  },
  {
   "cell_type": "code",
   "execution_count": null,
   "id": "mediterranean-pontiac",
   "metadata": {
    "papermill": {
     "duration": 0.046052,
     "end_time": "2022-02-28T00:33:41.618371",
     "exception": false,
     "start_time": "2022-02-28T00:33:41.572319",
     "status": "completed"
    },
    "tags": []
   },
   "outputs": [],
   "source": []
  },
  {
   "cell_type": "code",
   "execution_count": null,
   "id": "aging-legislature",
   "metadata": {
    "papermill": {
     "duration": 0.044003,
     "end_time": "2022-02-28T00:33:41.707212",
     "exception": false,
     "start_time": "2022-02-28T00:33:41.663209",
     "status": "completed"
    },
    "tags": []
   },
   "outputs": [],
   "source": []
  }
 ],
 "metadata": {
  "kernelspec": {
   "display_name": "Python 3",
   "language": "python",
   "name": "python3"
  },
  "language_info": {
   "codemirror_mode": {
    "name": "ipython",
    "version": 3
   },
   "file_extension": ".py",
   "mimetype": "text/x-python",
   "name": "python",
   "nbconvert_exporter": "python",
   "pygments_lexer": "ipython3",
   "version": "3.6.15"
  },
  "papermill": {
   "duration": 7.26761,
   "end_time": "2022-02-28T00:33:42.178140",
   "environment_variables": {},
   "exception": null,
   "input_path": "2020-03-21-covid19exp.ipynb",
   "output_path": "2020-03-21-covid19exp.ipynb",
   "parameters": {},
   "start_time": "2022-02-28T00:33:34.910530",
   "version": "2.0.0"
  }
 },
 "nbformat": 4,
 "nbformat_minor": 5
}