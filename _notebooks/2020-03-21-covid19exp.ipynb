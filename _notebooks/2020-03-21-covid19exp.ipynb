{
 "cells": [
  {
   "cell_type": "markdown",
   "id": "muslim-click",
   "metadata": {
    "papermill": {
     "duration": 0.034172,
     "end_time": "2022-08-27T00:41:15.003749",
     "exception": false,
     "start_time": "2022-08-27T00:41:14.969577",
     "status": "completed"
    },
    "tags": []
   },
   "source": [
    "# COVID-19 Case Race\n",
    "> A race chart to see rising cases around the world\n",
    "\n",
    "- author: Hargun Oberoi\n",
    "- image: images/covid-overview.png\n",
    "- hide: false\n",
    "- badges: false"
   ]
  },
  {
   "cell_type": "code",
   "execution_count": 1,
   "id": "proof-material",
   "metadata": {
    "execution": {
     "iopub.execute_input": "2022-08-27T00:41:15.071508Z",
     "iopub.status.busy": "2022-08-27T00:41:15.070128Z",
     "iopub.status.idle": "2022-08-27T00:41:15.374779Z",
     "shell.execute_reply": "2022-08-27T00:41:15.374283Z"
    },
    "papermill": {
     "duration": 0.341207,
     "end_time": "2022-08-27T00:41:15.374910",
     "exception": false,
     "start_time": "2022-08-27T00:41:15.033703",
     "status": "completed"
    },
    "tags": []
   },
   "outputs": [],
   "source": [
    "#hide\n",
    "import numpy as np\n",
    "import pandas as pd\n",
    "from jinja2 import Template\n",
    "from IPython.display import HTML"
   ]
  },
  {
   "cell_type": "code",
   "execution_count": 2,
   "id": "developed-terminology",
   "metadata": {
    "execution": {
     "iopub.execute_input": "2022-08-27T00:41:15.437756Z",
     "iopub.status.busy": "2022-08-27T00:41:15.437207Z",
     "iopub.status.idle": "2022-08-27T00:41:15.439590Z",
     "shell.execute_reply": "2022-08-27T00:41:15.439134Z"
    },
    "papermill": {
     "duration": 0.035171,
     "end_time": "2022-08-27T00:41:15.439686",
     "exception": false,
     "start_time": "2022-08-27T00:41:15.404515",
     "status": "completed"
    },
    "tags": []
   },
   "outputs": [],
   "source": [
    "#hide\n",
    "\n",
    "# FETCH\n",
    "base_url = 'https://raw.githubusercontent.com/pratapvardhan/notebooks/master/covid19/'\n",
    "paths = {\n",
    "    'mapping': base_url + 'mapping_countries.csv',\n",
    "    'overview': base_url + 'overview.tpl'\n",
    "}"
   ]
  },
  {
   "cell_type": "code",
   "execution_count": 3,
   "id": "dynamic-saver",
   "metadata": {
    "execution": {
     "iopub.execute_input": "2022-08-27T00:41:15.506622Z",
     "iopub.status.busy": "2022-08-27T00:41:15.505913Z",
     "iopub.status.idle": "2022-08-27T00:41:15.509887Z",
     "shell.execute_reply": "2022-08-27T00:41:15.509435Z"
    },
    "papermill": {
     "duration": 0.041031,
     "end_time": "2022-08-27T00:41:15.509980",
     "exception": false,
     "start_time": "2022-08-27T00:41:15.468949",
     "status": "completed"
    },
    "tags": []
   },
   "outputs": [
    {
     "data": {
      "text/plain": [
       "'https://raw.githubusercontent.com/pratapvardhan/notebooks/master/covid19/mapping_countries.csv'"
      ]
     },
     "execution_count": 3,
     "metadata": {},
     "output_type": "execute_result"
    }
   ],
   "source": [
    "#hide\n",
    "paths['mapping']"
   ]
  },
  {
   "cell_type": "code",
   "execution_count": 4,
   "id": "urban-software",
   "metadata": {
    "execution": {
     "iopub.execute_input": "2022-08-27T00:41:15.573574Z",
     "iopub.status.busy": "2022-08-27T00:41:15.573006Z",
     "iopub.status.idle": "2022-08-27T00:41:15.575478Z",
     "shell.execute_reply": "2022-08-27T00:41:15.575030Z"
    },
    "papermill": {
     "duration": 0.035903,
     "end_time": "2022-08-27T00:41:15.575571",
     "exception": false,
     "start_time": "2022-08-27T00:41:15.539668",
     "status": "completed"
    },
    "tags": []
   },
   "outputs": [],
   "source": [
    "#hide\n",
    "def get_mappings(url):\n",
    "    df = pd.read_csv(url)\n",
    "    return {\n",
    "        'df': df,\n",
    "        'replace.country': dict(df.dropna(subset=['Name']).set_index('Country')['Name']),\n",
    "        'map.continent': dict(df.set_index('Name')['Continent'])\n",
    "    }"
   ]
  },
  {
   "cell_type": "code",
   "execution_count": 5,
   "id": "intimate-machinery",
   "metadata": {
    "execution": {
     "iopub.execute_input": "2022-08-27T00:41:15.639154Z",
     "iopub.status.busy": "2022-08-27T00:41:15.638610Z",
     "iopub.status.idle": "2022-08-27T00:41:15.673690Z",
     "shell.execute_reply": "2022-08-27T00:41:15.674151Z"
    },
    "papermill": {
     "duration": 0.069082,
     "end_time": "2022-08-27T00:41:15.674259",
     "exception": false,
     "start_time": "2022-08-27T00:41:15.605177",
     "status": "completed"
    },
    "tags": []
   },
   "outputs": [],
   "source": [
    "#hide\n",
    "mapping = get_mappings(paths['mapping'])"
   ]
  },
  {
   "cell_type": "code",
   "execution_count": 6,
   "id": "certified-tactics",
   "metadata": {
    "execution": {
     "iopub.execute_input": "2022-08-27T00:41:15.737956Z",
     "iopub.status.busy": "2022-08-27T00:41:15.737404Z",
     "iopub.status.idle": "2022-08-27T00:41:15.739596Z",
     "shell.execute_reply": "2022-08-27T00:41:15.740056Z"
    },
    "papermill": {
     "duration": 0.036189,
     "end_time": "2022-08-27T00:41:15.740163",
     "exception": false,
     "start_time": "2022-08-27T00:41:15.703974",
     "status": "completed"
    },
    "tags": []
   },
   "outputs": [],
   "source": [
    "#hide\n",
    "def get_template(path):\n",
    "    from urllib.parse import urlparse\n",
    "    if bool(urlparse(path).netloc):\n",
    "        from urllib.request import urlopen\n",
    "        return urlopen(path).read().decode('utf8')\n",
    "    return open(path).read()"
   ]
  },
  {
   "cell_type": "code",
   "execution_count": 7,
   "id": "realistic-blast",
   "metadata": {
    "execution": {
     "iopub.execute_input": "2022-08-27T00:41:15.803353Z",
     "iopub.status.busy": "2022-08-27T00:41:15.802788Z",
     "iopub.status.idle": "2022-08-27T00:41:15.805258Z",
     "shell.execute_reply": "2022-08-27T00:41:15.804807Z"
    },
    "papermill": {
     "duration": 0.035727,
     "end_time": "2022-08-27T00:41:15.805352",
     "exception": false,
     "start_time": "2022-08-27T00:41:15.769625",
     "status": "completed"
    },
    "tags": []
   },
   "outputs": [],
   "source": [
    "#hide\n",
    "def get_frame(name):\n",
    "    url = (\n",
    "        'https://raw.githubusercontent.com/CSSEGISandData/COVID-19/master/csse_covid_19_data/'\n",
    "        f'csse_covid_19_time_series/time_series_covid19_{name}_global.csv')\n",
    "    df = pd.read_csv(url)\n",
    "    # rename countries\n",
    "    df['Country/Region'] = df['Country/Region'].replace(mapping['replace.country'])\n",
    "    return df"
   ]
  },
  {
   "cell_type": "code",
   "execution_count": 8,
   "id": "affiliated-characterization",
   "metadata": {
    "execution": {
     "iopub.execute_input": "2022-08-27T00:41:15.869293Z",
     "iopub.status.busy": "2022-08-27T00:41:15.868737Z",
     "iopub.status.idle": "2022-08-27T00:41:15.871075Z",
     "shell.execute_reply": "2022-08-27T00:41:15.870570Z"
    },
    "papermill": {
     "duration": 0.036148,
     "end_time": "2022-08-27T00:41:15.871167",
     "exception": false,
     "start_time": "2022-08-27T00:41:15.835019",
     "status": "completed"
    },
    "tags": []
   },
   "outputs": [],
   "source": [
    "#hide\n",
    "def get_dates(df):\n",
    "    dt_cols = df.columns[~df.columns.isin(['Province/State', 'Country/Region', 'Lat', 'Long'])]\n",
    "    LAST_DATE_I = -1\n",
    "    # sometimes last column may be empty, then go backwards\n",
    "    for i in range(-1, -len(dt_cols), -1):\n",
    "        if not df[dt_cols[i]].fillna(0).eq(0).all():\n",
    "            LAST_DATE_I = i\n",
    "            break\n",
    "    return LAST_DATE_I, dt_cols"
   ]
  },
  {
   "cell_type": "code",
   "execution_count": 9,
   "id": "recent-optimization",
   "metadata": {
    "execution": {
     "iopub.execute_input": "2022-08-27T00:41:15.934983Z",
     "iopub.status.busy": "2022-08-27T00:41:15.934442Z",
     "iopub.status.idle": "2022-08-27T00:41:16.408268Z",
     "shell.execute_reply": "2022-08-27T00:41:16.407768Z"
    },
    "papermill": {
     "duration": 0.507437,
     "end_time": "2022-08-27T00:41:16.408386",
     "exception": false,
     "start_time": "2022-08-27T00:41:15.900949",
     "status": "completed"
    },
    "tags": []
   },
   "outputs": [],
   "source": [
    "#hide\n",
    "COL_REGION = 'Country/Region'\n",
    "# Confirmed, Recovered, Deaths\n",
    "df = get_frame('confirmed')\n",
    "# dft_: timeseries, dfc_: today country agg\n",
    "dft_cases = df\n",
    "dft_deaths = get_frame('deaths')\n",
    "dft_recovered = get_frame('recovered')\n",
    "LAST_DATE_I, dt_cols = get_dates(df)"
   ]
  },
  {
   "cell_type": "code",
   "execution_count": 10,
   "id": "absolute-copper",
   "metadata": {
    "execution": {
     "iopub.execute_input": "2022-08-27T00:41:16.472716Z",
     "iopub.status.busy": "2022-08-27T00:41:16.472162Z",
     "iopub.status.idle": "2022-08-27T00:41:16.475943Z",
     "shell.execute_reply": "2022-08-27T00:41:16.476358Z"
    },
    "papermill": {
     "duration": 0.038114,
     "end_time": "2022-08-27T00:41:16.476476",
     "exception": false,
     "start_time": "2022-08-27T00:41:16.438362",
     "status": "completed"
    },
    "tags": []
   },
   "outputs": [],
   "source": [
    "#hide\n",
    "LAST_DATE_I, dt_cols = get_dates(df)\n",
    "dt_today =dt_cols[LAST_DATE_I]\n",
    "# dt_5day = dt_cols[LAST_DATE_I - 5]\n",
    "dt_yday = dt_cols[LAST_DATE_I - 1]"
   ]
  },
  {
   "cell_type": "code",
   "execution_count": 11,
   "id": "restricted-sheriff",
   "metadata": {
    "execution": {
     "iopub.execute_input": "2022-08-27T00:41:16.539904Z",
     "iopub.status.busy": "2022-08-27T00:41:16.539344Z",
     "iopub.status.idle": "2022-08-27T00:41:16.546465Z",
     "shell.execute_reply": "2022-08-27T00:41:16.546911Z"
    },
    "papermill": {
     "duration": 0.041121,
     "end_time": "2022-08-27T00:41:16.547016",
     "exception": false,
     "start_time": "2022-08-27T00:41:16.505895",
     "status": "completed"
    },
    "tags": []
   },
   "outputs": [],
   "source": [
    "#hide\n",
    "dfc_cases = dft_cases.groupby(COL_REGION)[dt_today].sum()\n",
    "dfc_deaths = dft_deaths.groupby(COL_REGION)[dt_today].sum()\n",
    "# dfp_cases = dft_cases.groupby(COL_REGION)[dt_5day].sum()\n",
    "# dfp_deaths = dft_deaths.groupby(COL_REGION)[dt_5day].sum()\n",
    "dfp_cases = dft_cases.groupby(COL_REGION)[dt_yday].sum()\n",
    "dfp_deaths = dft_deaths.groupby(COL_REGION)[dt_yday].sum()"
   ]
  },
  {
   "cell_type": "code",
   "execution_count": 12,
   "id": "deluxe-hepatitis",
   "metadata": {
    "execution": {
     "iopub.execute_input": "2022-08-27T00:41:16.610725Z",
     "iopub.status.busy": "2022-08-27T00:41:16.610171Z",
     "iopub.status.idle": "2022-08-27T00:41:16.615171Z",
     "shell.execute_reply": "2022-08-27T00:41:16.615606Z"
    },
    "papermill": {
     "duration": 0.039049,
     "end_time": "2022-08-27T00:41:16.615710",
     "exception": false,
     "start_time": "2022-08-27T00:41:16.576661",
     "status": "completed"
    },
    "tags": []
   },
   "outputs": [],
   "source": [
    "#hide\n",
    "df_table = (pd.DataFrame(dict(Cases = dfc_cases, Deaths = dfc_deaths, PCases = dfp_cases, PDeaths = dfp_deaths))\n",
    "            .sort_values(by = ['Cases','Deaths'], ascending = [False, False])\n",
    "            .reset_index())"
   ]
  },
  {
   "cell_type": "code",
   "execution_count": 13,
   "id": "educational-chancellor",
   "metadata": {
    "execution": {
     "iopub.execute_input": "2022-08-27T00:41:16.689864Z",
     "iopub.status.busy": "2022-08-27T00:41:16.689310Z",
     "iopub.status.idle": "2022-08-27T00:41:16.698350Z",
     "shell.execute_reply": "2022-08-27T00:41:16.698760Z"
    },
    "papermill": {
     "duration": 0.053576,
     "end_time": "2022-08-27T00:41:16.698872",
     "exception": false,
     "start_time": "2022-08-27T00:41:16.645296",
     "status": "completed"
    },
    "tags": []
   },
   "outputs": [
    {
     "data": {
      "text/html": [
       "<div>\n",
       "<style scoped>\n",
       "    .dataframe tbody tr th:only-of-type {\n",
       "        vertical-align: middle;\n",
       "    }\n",
       "\n",
       "    .dataframe tbody tr th {\n",
       "        vertical-align: top;\n",
       "    }\n",
       "\n",
       "    .dataframe thead th {\n",
       "        text-align: right;\n",
       "    }\n",
       "</style>\n",
       "<table border=\"1\" class=\"dataframe\">\n",
       "  <thead>\n",
       "    <tr style=\"text-align: right;\">\n",
       "      <th></th>\n",
       "      <th>Country/Region</th>\n",
       "      <th>Cases</th>\n",
       "      <th>Deaths</th>\n",
       "      <th>PCases</th>\n",
       "      <th>PDeaths</th>\n",
       "      <th>Cases (+)</th>\n",
       "      <th>Deaths (+)</th>\n",
       "      <th>Fatality Rate</th>\n",
       "      <th>Continent</th>\n",
       "    </tr>\n",
       "  </thead>\n",
       "  <tbody>\n",
       "    <tr>\n",
       "      <th>0</th>\n",
       "      <td>US</td>\n",
       "      <td>94028125</td>\n",
       "      <td>1043089</td>\n",
       "      <td>93903269</td>\n",
       "      <td>1042494</td>\n",
       "      <td>124856</td>\n",
       "      <td>595</td>\n",
       "      <td>1.11</td>\n",
       "      <td>North America</td>\n",
       "    </tr>\n",
       "    <tr>\n",
       "      <th>1</th>\n",
       "      <td>India</td>\n",
       "      <td>44389176</td>\n",
       "      <td>527556</td>\n",
       "      <td>44378920</td>\n",
       "      <td>527488</td>\n",
       "      <td>10256</td>\n",
       "      <td>68</td>\n",
       "      <td>1.19</td>\n",
       "      <td>Asia</td>\n",
       "    </tr>\n",
       "    <tr>\n",
       "      <th>2</th>\n",
       "      <td>France</td>\n",
       "      <td>34644718</td>\n",
       "      <td>154846</td>\n",
       "      <td>34624825</td>\n",
       "      <td>154802</td>\n",
       "      <td>19893</td>\n",
       "      <td>44</td>\n",
       "      <td>0.45</td>\n",
       "      <td>Europe</td>\n",
       "    </tr>\n",
       "    <tr>\n",
       "      <th>3</th>\n",
       "      <td>Brazil</td>\n",
       "      <td>34350639</td>\n",
       "      <td>683233</td>\n",
       "      <td>34329600</td>\n",
       "      <td>683076</td>\n",
       "      <td>21039</td>\n",
       "      <td>157</td>\n",
       "      <td>1.99</td>\n",
       "      <td>South America</td>\n",
       "    </tr>\n",
       "    <tr>\n",
       "      <th>4</th>\n",
       "      <td>Germany</td>\n",
       "      <td>32008122</td>\n",
       "      <td>147003</td>\n",
       "      <td>31921578</td>\n",
       "      <td>146797</td>\n",
       "      <td>86544</td>\n",
       "      <td>206</td>\n",
       "      <td>0.46</td>\n",
       "      <td>Europe</td>\n",
       "    </tr>\n",
       "  </tbody>\n",
       "</table>\n",
       "</div>"
      ],
      "text/plain": [
       "  Country/Region     Cases   Deaths    PCases  PDeaths  Cases (+)  Deaths (+)  \\\n",
       "0             US  94028125  1043089  93903269  1042494     124856         595   \n",
       "1          India  44389176   527556  44378920   527488      10256          68   \n",
       "2         France  34644718   154846  34624825   154802      19893          44   \n",
       "3         Brazil  34350639   683233  34329600   683076      21039         157   \n",
       "4        Germany  32008122   147003  31921578   146797      86544         206   \n",
       "\n",
       "   Fatality Rate      Continent  \n",
       "0           1.11  North America  \n",
       "1           1.19           Asia  \n",
       "2           0.45         Europe  \n",
       "3           1.99  South America  \n",
       "4           0.46         Europe  "
      ]
     },
     "execution_count": 13,
     "metadata": {},
     "output_type": "execute_result"
    }
   ],
   "source": [
    "#hide\n",
    "for c in 'Cases, Deaths'.split(', '):\n",
    "    df_table[f'{c} (+)'] = (df_table[c] - df_table[f'P{c}']).clip(0)\n",
    "    #Clip ça veut dire, les chiffres negatif sont interdit\n",
    "df_table['Fatality Rate'] = (100* df_table['Deaths']/ df_table['Cases']).round(2)\n",
    "df_table['Continent'] = df_table['Country/Region'].map(mapping['map.continent'])\n",
    "df_table.head(5)"
   ]
  },
  {
   "cell_type": "code",
   "execution_count": 14,
   "id": "aboriginal-bulgaria",
   "metadata": {
    "execution": {
     "iopub.execute_input": "2022-08-27T00:41:16.763605Z",
     "iopub.status.busy": "2022-08-27T00:41:16.763056Z",
     "iopub.status.idle": "2022-08-27T00:41:16.764850Z",
     "shell.execute_reply": "2022-08-27T00:41:16.765345Z"
    },
    "papermill": {
     "duration": 0.036539,
     "end_time": "2022-08-27T00:41:16.765454",
     "exception": false,
     "start_time": "2022-08-27T00:41:16.728915",
     "status": "completed"
    },
    "tags": []
   },
   "outputs": [],
   "source": [
    "#hide\n",
    "#delete problematic countries from table\n",
    "df_table = df_table[~df_table['Country/Region'].isin(['Cape Verde', 'Cruise Ship', 'Kosovo'])]"
   ]
  },
  {
   "cell_type": "code",
   "execution_count": 15,
   "id": "fantastic-effect",
   "metadata": {
    "execution": {
     "iopub.execute_input": "2022-08-27T00:41:16.831605Z",
     "iopub.status.busy": "2022-08-27T00:41:16.831051Z",
     "iopub.status.idle": "2022-08-27T00:41:16.847520Z",
     "shell.execute_reply": "2022-08-27T00:41:16.847992Z"
    },
    "papermill": {
     "duration": 0.052694,
     "end_time": "2022-08-27T00:41:16.848099",
     "exception": false,
     "start_time": "2022-08-27T00:41:16.795405",
     "status": "completed"
    },
    "tags": []
   },
   "outputs": [
    {
     "data": {
      "text/html": [
       "<div>\n",
       "<style scoped>\n",
       "    .dataframe tbody tr th:only-of-type {\n",
       "        vertical-align: middle;\n",
       "    }\n",
       "\n",
       "    .dataframe tbody tr th {\n",
       "        vertical-align: top;\n",
       "    }\n",
       "\n",
       "    .dataframe thead th {\n",
       "        text-align: right;\n",
       "    }\n",
       "</style>\n",
       "<table border=\"1\" class=\"dataframe\">\n",
       "  <thead>\n",
       "    <tr style=\"text-align: right;\">\n",
       "      <th></th>\n",
       "      <th>Country/Region</th>\n",
       "      <th>Cases</th>\n",
       "      <th>Deaths</th>\n",
       "      <th>PCases</th>\n",
       "      <th>PDeaths</th>\n",
       "      <th>Cases (+)</th>\n",
       "      <th>Deaths (+)</th>\n",
       "      <th>Fatality Rate</th>\n",
       "      <th>Continent</th>\n",
       "    </tr>\n",
       "  </thead>\n",
       "  <tbody>\n",
       "    <tr>\n",
       "      <th>0</th>\n",
       "      <td>US</td>\n",
       "      <td>94028125</td>\n",
       "      <td>1043089</td>\n",
       "      <td>93903269</td>\n",
       "      <td>1042494</td>\n",
       "      <td>124856</td>\n",
       "      <td>595</td>\n",
       "      <td>1.1</td>\n",
       "      <td>North America</td>\n",
       "    </tr>\n",
       "    <tr>\n",
       "      <th>1</th>\n",
       "      <td>India</td>\n",
       "      <td>44389176</td>\n",
       "      <td>527556</td>\n",
       "      <td>44378920</td>\n",
       "      <td>527488</td>\n",
       "      <td>10256</td>\n",
       "      <td>68</td>\n",
       "      <td>1.2</td>\n",
       "      <td>Asia</td>\n",
       "    </tr>\n",
       "    <tr>\n",
       "      <th>2</th>\n",
       "      <td>France</td>\n",
       "      <td>34644718</td>\n",
       "      <td>154846</td>\n",
       "      <td>34624825</td>\n",
       "      <td>154802</td>\n",
       "      <td>19893</td>\n",
       "      <td>44</td>\n",
       "      <td>0.4</td>\n",
       "      <td>Europe</td>\n",
       "    </tr>\n",
       "    <tr>\n",
       "      <th>3</th>\n",
       "      <td>Brazil</td>\n",
       "      <td>34350639</td>\n",
       "      <td>683233</td>\n",
       "      <td>34329600</td>\n",
       "      <td>683076</td>\n",
       "      <td>21039</td>\n",
       "      <td>157</td>\n",
       "      <td>2.0</td>\n",
       "      <td>South America</td>\n",
       "    </tr>\n",
       "    <tr>\n",
       "      <th>4</th>\n",
       "      <td>Germany</td>\n",
       "      <td>32008122</td>\n",
       "      <td>147003</td>\n",
       "      <td>31921578</td>\n",
       "      <td>146797</td>\n",
       "      <td>86544</td>\n",
       "      <td>206</td>\n",
       "      <td>0.5</td>\n",
       "      <td>Europe</td>\n",
       "    </tr>\n",
       "  </tbody>\n",
       "</table>\n",
       "</div>"
      ],
      "text/plain": [
       "  Country/Region     Cases   Deaths    PCases  PDeaths  Cases (+)  Deaths (+)  \\\n",
       "0             US  94028125  1043089  93903269  1042494     124856         595   \n",
       "1          India  44389176   527556  44378920   527488      10256          68   \n",
       "2         France  34644718   154846  34624825   154802      19893          44   \n",
       "3         Brazil  34350639   683233  34329600   683076      21039         157   \n",
       "4        Germany  32008122   147003  31921578   146797      86544         206   \n",
       "\n",
       "   Fatality Rate      Continent  \n",
       "0            1.1  North America  \n",
       "1            1.2           Asia  \n",
       "2            0.4         Europe  \n",
       "3            2.0  South America  \n",
       "4            0.5         Europe  "
      ]
     },
     "execution_count": 15,
     "metadata": {},
     "output_type": "execute_result"
    }
   ],
   "source": [
    "#hide\n",
    "df_table = (pd.DataFrame(dict(Cases=dfc_cases, Deaths=dfc_deaths, PCases=dfp_cases, PDeaths=dfp_deaths))\n",
    "             .sort_values(by=['Cases', 'Deaths'], ascending=[False, False])\n",
    "             .reset_index())\n",
    "df_table.rename(columns={'index': 'Country/Region'}, inplace=True)\n",
    "for c in 'Cases, Deaths'.split(', '):\n",
    "    df_table[f'{c} (+)'] = (df_table[c] - df_table[f'P{c}']).clip(0)  # DATA BUG\n",
    "df_table['Fatality Rate'] = (100 * df_table['Deaths'] / df_table['Cases']).round(1)\n",
    "df_table['Continent'] = df_table['Country/Region'].map(mapping['map.continent'])\n",
    "df_table.head(5)"
   ]
  },
  {
   "cell_type": "code",
   "execution_count": 16,
   "id": "fewer-occasion",
   "metadata": {
    "execution": {
     "iopub.execute_input": "2022-08-27T00:41:16.913723Z",
     "iopub.status.busy": "2022-08-27T00:41:16.913170Z",
     "iopub.status.idle": "2022-08-27T00:41:16.915365Z",
     "shell.execute_reply": "2022-08-27T00:41:16.915816Z"
    },
    "papermill": {
     "duration": 0.037204,
     "end_time": "2022-08-27T00:41:16.915923",
     "exception": false,
     "start_time": "2022-08-27T00:41:16.878719",
     "status": "completed"
    },
    "tags": []
   },
   "outputs": [],
   "source": [
    "#hide\n",
    "#delete problematic countries from table\n",
    "df_table = df_table[~df_table['Country/Region'].isin(['Cape Verde', 'Cruise Ship', 'Kosovo'])]"
   ]
  },
  {
   "cell_type": "code",
   "execution_count": 17,
   "id": "related-center",
   "metadata": {
    "execution": {
     "iopub.execute_input": "2022-08-27T00:41:16.985949Z",
     "iopub.status.busy": "2022-08-27T00:41:16.985399Z",
     "iopub.status.idle": "2022-08-27T00:41:16.995682Z",
     "shell.execute_reply": "2022-08-27T00:41:16.995238Z"
    },
    "papermill": {
     "duration": 0.049388,
     "end_time": "2022-08-27T00:41:16.995773",
     "exception": false,
     "start_time": "2022-08-27T00:41:16.946385",
     "status": "completed"
    },
    "tags": []
   },
   "outputs": [],
   "source": [
    "#hide\n",
    "metrics = [df_table.columns[index] for index in [1,2,5,6]]\n",
    "# s_china = df_table[df_table['Country/Region'].eq('China')][metrics].sum().add_prefix('China ')\n",
    "s_us = df_table[df_table['Country/Region'].eq('US')][metrics].sum().add_prefix('US ')\n",
    "s_eu = df_table[df_table['Continent'].eq('Europe')][metrics].sum().add_prefix('EU ')\n",
    "s_ind = df_table[df_table['Country/Region'].eq('India')][metrics].sum().add_prefix('India ')\n",
    "summary = {'updated': pd.to_datetime(dt_today), 'since': pd.to_datetime(dt_yday)}\n",
    "summary = {'updated': pd.to_datetime(dt_today), 'since': pd.to_datetime(dt_yday)}\n",
    "summary = {**summary, **df_table[metrics].sum(), **s_ind, **s_us, **s_eu}"
   ]
  },
  {
   "cell_type": "code",
   "execution_count": 18,
   "id": "engaging-syndrome",
   "metadata": {
    "execution": {
     "iopub.execute_input": "2022-08-27T00:41:17.061488Z",
     "iopub.status.busy": "2022-08-27T00:41:17.060942Z",
     "iopub.status.idle": "2022-08-27T00:41:17.078142Z",
     "shell.execute_reply": "2022-08-27T00:41:17.078579Z"
    },
    "papermill": {
     "duration": 0.052227,
     "end_time": "2022-08-27T00:41:17.078686",
     "exception": false,
     "start_time": "2022-08-27T00:41:17.026459",
     "status": "completed"
    },
    "tags": []
   },
   "outputs": [],
   "source": [
    "#hide\n",
    "dft_ct_new_cases = dft_cases.groupby(COL_REGION)[dt_cols].sum().diff(axis=1).fillna(0).astype(int)"
   ]
  },
  {
   "cell_type": "code",
   "execution_count": 19,
   "id": "neutral-assignment",
   "metadata": {
    "execution": {
     "iopub.execute_input": "2022-08-27T00:41:17.144371Z",
     "iopub.status.busy": "2022-08-27T00:41:17.143817Z",
     "iopub.status.idle": "2022-08-27T00:41:17.146398Z",
     "shell.execute_reply": "2022-08-27T00:41:17.145870Z"
    },
    "papermill": {
     "duration": 0.037371,
     "end_time": "2022-08-27T00:41:17.146492",
     "exception": false,
     "start_time": "2022-08-27T00:41:17.109121",
     "status": "completed"
    },
    "tags": []
   },
   "outputs": [],
   "source": [
    "#hide\n",
    "everydaycases = dft_ct_new_cases.cumsum(axis=1)"
   ]
  },
  {
   "cell_type": "code",
   "execution_count": 20,
   "id": "parliamentary-calgary",
   "metadata": {
    "execution": {
     "iopub.execute_input": "2022-08-27T00:41:17.211024Z",
     "iopub.status.busy": "2022-08-27T00:41:17.210473Z",
     "iopub.status.idle": "2022-08-27T00:41:17.741490Z",
     "shell.execute_reply": "2022-08-27T00:41:17.741010Z"
    },
    "papermill": {
     "duration": 0.564595,
     "end_time": "2022-08-27T00:41:17.741613",
     "exception": false,
     "start_time": "2022-08-27T00:41:17.177018",
     "status": "completed"
    },
    "tags": []
   },
   "outputs": [],
   "source": [
    "#hide\n",
    "import pandas as pd\n",
    "import matplotlib.pyplot as plt\n",
    "import matplotlib.ticker as ticker\n",
    "import matplotlib.animation as animation\n",
    "from IPython.display import HTML"
   ]
  },
  {
   "cell_type": "code",
   "execution_count": 21,
   "id": "lasting-extraction",
   "metadata": {
    "execution": {
     "iopub.execute_input": "2022-08-27T00:41:17.808635Z",
     "iopub.status.busy": "2022-08-27T00:41:17.808081Z",
     "iopub.status.idle": "2022-08-27T00:41:17.814218Z",
     "shell.execute_reply": "2022-08-27T00:41:17.814738Z"
    },
    "papermill": {
     "duration": 0.042576,
     "end_time": "2022-08-27T00:41:17.814857",
     "exception": false,
     "start_time": "2022-08-27T00:41:17.772281",
     "status": "completed"
    },
    "tags": []
   },
   "outputs": [],
   "source": [
    "#hide\n",
    "t = everydaycases.stack()"
   ]
  },
  {
   "cell_type": "code",
   "execution_count": 22,
   "id": "premier-sleeve",
   "metadata": {
    "execution": {
     "iopub.execute_input": "2022-08-27T00:41:17.879310Z",
     "iopub.status.busy": "2022-08-27T00:41:17.878757Z",
     "iopub.status.idle": "2022-08-27T00:41:17.890484Z",
     "shell.execute_reply": "2022-08-27T00:41:17.889947Z"
    },
    "papermill": {
     "duration": 0.045117,
     "end_time": "2022-08-27T00:41:17.890581",
     "exception": false,
     "start_time": "2022-08-27T00:41:17.845464",
     "status": "completed"
    },
    "tags": []
   },
   "outputs": [],
   "source": [
    "#hide\n",
    "g = t.reset_index(['Country/Region'])"
   ]
  },
  {
   "cell_type": "code",
   "execution_count": 23,
   "id": "distributed-pittsburgh",
   "metadata": {
    "execution": {
     "iopub.execute_input": "2022-08-27T00:41:17.954873Z",
     "iopub.status.busy": "2022-08-27T00:41:17.954297Z",
     "iopub.status.idle": "2022-08-27T00:41:17.956618Z",
     "shell.execute_reply": "2022-08-27T00:41:17.956095Z"
    },
    "papermill": {
     "duration": 0.035648,
     "end_time": "2022-08-27T00:41:17.956714",
     "exception": false,
     "start_time": "2022-08-27T00:41:17.921066",
     "status": "completed"
    },
    "tags": []
   },
   "outputs": [],
   "source": [
    "#hide\n",
    "g.index.name = 'date'"
   ]
  },
  {
   "cell_type": "code",
   "execution_count": 24,
   "id": "naked-donor",
   "metadata": {
    "execution": {
     "iopub.execute_input": "2022-08-27T00:41:18.020721Z",
     "iopub.status.busy": "2022-08-27T00:41:18.020166Z",
     "iopub.status.idle": "2022-08-27T00:41:18.022584Z",
     "shell.execute_reply": "2022-08-27T00:41:18.022156Z"
    },
    "papermill": {
     "duration": 0.035447,
     "end_time": "2022-08-27T00:41:18.022676",
     "exception": false,
     "start_time": "2022-08-27T00:41:17.987229",
     "status": "completed"
    },
    "tags": []
   },
   "outputs": [],
   "source": [
    "# #hide\n",
    "# g = g.reset_index(['date'])"
   ]
  },
  {
   "cell_type": "code",
   "execution_count": 25,
   "id": "incomplete-mustang",
   "metadata": {
    "execution": {
     "iopub.execute_input": "2022-08-27T00:41:18.086783Z",
     "iopub.status.busy": "2022-08-27T00:41:18.086222Z",
     "iopub.status.idle": "2022-08-27T00:41:18.088653Z",
     "shell.execute_reply": "2022-08-27T00:41:18.088194Z"
    },
    "papermill": {
     "duration": 0.035589,
     "end_time": "2022-08-27T00:41:18.088745",
     "exception": false,
     "start_time": "2022-08-27T00:41:18.053156",
     "status": "completed"
    },
    "tags": []
   },
   "outputs": [],
   "source": [
    "#hide\n",
    "# g.head()"
   ]
  },
  {
   "cell_type": "code",
   "execution_count": 26,
   "id": "specific-kruger",
   "metadata": {
    "execution": {
     "iopub.execute_input": "2022-08-27T00:41:18.152705Z",
     "iopub.status.busy": "2022-08-27T00:41:18.152159Z",
     "iopub.status.idle": "2022-08-27T00:41:18.154499Z",
     "shell.execute_reply": "2022-08-27T00:41:18.154074Z"
    },
    "papermill": {
     "duration": 0.035263,
     "end_time": "2022-08-27T00:41:18.154597",
     "exception": false,
     "start_time": "2022-08-27T00:41:18.119334",
     "status": "completed"
    },
    "tags": []
   },
   "outputs": [],
   "source": [
    "#hide\n",
    "# g.columns = ['date','country','cases']"
   ]
  },
  {
   "cell_type": "code",
   "execution_count": 27,
   "id": "tender-conversion",
   "metadata": {
    "execution": {
     "iopub.execute_input": "2022-08-27T00:41:18.218530Z",
     "iopub.status.busy": "2022-08-27T00:41:18.217967Z",
     "iopub.status.idle": "2022-08-27T00:41:18.220487Z",
     "shell.execute_reply": "2022-08-27T00:41:18.220041Z"
    },
    "papermill": {
     "duration": 0.035596,
     "end_time": "2022-08-27T00:41:18.220580",
     "exception": false,
     "start_time": "2022-08-27T00:41:18.184984",
     "status": "completed"
    },
    "tags": []
   },
   "outputs": [],
   "source": [
    "#hide\n",
    "# g['continent'] = g.country"
   ]
  },
  {
   "cell_type": "code",
   "execution_count": 28,
   "id": "substantial-wilderness",
   "metadata": {
    "execution": {
     "iopub.execute_input": "2022-08-27T00:41:18.284669Z",
     "iopub.status.busy": "2022-08-27T00:41:18.284111Z",
     "iopub.status.idle": "2022-08-27T00:41:18.286417Z",
     "shell.execute_reply": "2022-08-27T00:41:18.285898Z"
    },
    "papermill": {
     "duration": 0.035353,
     "end_time": "2022-08-27T00:41:18.286510",
     "exception": false,
     "start_time": "2022-08-27T00:41:18.251157",
     "status": "completed"
    },
    "tags": []
   },
   "outputs": [],
   "source": [
    "#hide\n",
    "# cols = list(g.columns.values)"
   ]
  },
  {
   "cell_type": "code",
   "execution_count": 29,
   "id": "solved-farming",
   "metadata": {
    "execution": {
     "iopub.execute_input": "2022-08-27T00:41:18.350983Z",
     "iopub.status.busy": "2022-08-27T00:41:18.350427Z",
     "iopub.status.idle": "2022-08-27T00:41:18.352839Z",
     "shell.execute_reply": "2022-08-27T00:41:18.352326Z"
    },
    "papermill": {
     "duration": 0.035935,
     "end_time": "2022-08-27T00:41:18.352932",
     "exception": false,
     "start_time": "2022-08-27T00:41:18.316997",
     "status": "completed"
    },
    "tags": []
   },
   "outputs": [],
   "source": [
    "#hide\n",
    "# cols.insert(0, cols.pop())"
   ]
  },
  {
   "cell_type": "code",
   "execution_count": 30,
   "id": "executed-adoption",
   "metadata": {
    "execution": {
     "iopub.execute_input": "2022-08-27T00:41:18.416963Z",
     "iopub.status.busy": "2022-08-27T00:41:18.416410Z",
     "iopub.status.idle": "2022-08-27T00:41:18.418823Z",
     "shell.execute_reply": "2022-08-27T00:41:18.418393Z"
    },
    "papermill": {
     "duration": 0.035418,
     "end_time": "2022-08-27T00:41:18.418915",
     "exception": false,
     "start_time": "2022-08-27T00:41:18.383497",
     "status": "completed"
    },
    "tags": []
   },
   "outputs": [],
   "source": [
    "#hide\n",
    "# g = g[cols]"
   ]
  },
  {
   "cell_type": "code",
   "execution_count": 31,
   "id": "subject-dublin",
   "metadata": {
    "execution": {
     "iopub.execute_input": "2022-08-27T00:41:18.532669Z",
     "iopub.status.busy": "2022-08-27T00:41:18.532035Z",
     "iopub.status.idle": "2022-08-27T00:41:18.533302Z",
     "shell.execute_reply": "2022-08-27T00:41:18.533704Z"
    },
    "papermill": {
     "duration": 0.054573,
     "end_time": "2022-08-27T00:41:18.533809",
     "exception": false,
     "start_time": "2022-08-27T00:41:18.479236",
     "status": "completed"
    },
    "tags": []
   },
   "outputs": [],
   "source": [
    "#hide\n",
    "# g['continent'] = g['continent'].map(mapping['map.continent'])"
   ]
  },
  {
   "cell_type": "code",
   "execution_count": 32,
   "id": "freelance-scout",
   "metadata": {
    "execution": {
     "iopub.execute_input": "2022-08-27T00:41:18.646324Z",
     "iopub.status.busy": "2022-08-27T00:41:18.645737Z",
     "iopub.status.idle": "2022-08-27T00:41:18.648293Z",
     "shell.execute_reply": "2022-08-27T00:41:18.647738Z"
    },
    "papermill": {
     "duration": 0.073078,
     "end_time": "2022-08-27T00:41:18.648392",
     "exception": false,
     "start_time": "2022-08-27T00:41:18.575314",
     "status": "completed"
    },
    "tags": []
   },
   "outputs": [],
   "source": [
    "#hide\n",
    "# g.head()"
   ]
  },
  {
   "cell_type": "code",
   "execution_count": 33,
   "id": "limited-engine",
   "metadata": {
    "execution": {
     "iopub.execute_input": "2022-08-27T00:41:18.738560Z",
     "iopub.status.busy": "2022-08-27T00:41:18.738012Z",
     "iopub.status.idle": "2022-08-27T00:41:18.740646Z",
     "shell.execute_reply": "2022-08-27T00:41:18.741759Z"
    },
    "papermill": {
     "duration": 0.061706,
     "end_time": "2022-08-27T00:41:18.741884",
     "exception": false,
     "start_time": "2022-08-27T00:41:18.680178",
     "status": "completed"
    },
    "tags": []
   },
   "outputs": [],
   "source": [
    "# hide\n",
    "# g['date'] = g['date'].astype('datetime64[ns]')"
   ]
  },
  {
   "cell_type": "code",
   "execution_count": 34,
   "id": "sophisticated-supervisor",
   "metadata": {
    "execution": {
     "iopub.execute_input": "2022-08-27T00:41:18.830262Z",
     "iopub.status.busy": "2022-08-27T00:41:18.829720Z",
     "iopub.status.idle": "2022-08-27T00:41:18.832702Z",
     "shell.execute_reply": "2022-08-27T00:41:18.833123Z"
    },
    "papermill": {
     "duration": 0.050874,
     "end_time": "2022-08-27T00:41:18.833243",
     "exception": false,
     "start_time": "2022-08-27T00:41:18.782369",
     "status": "completed"
    },
    "tags": []
   },
   "outputs": [],
   "source": [
    "#hide\n",
    "# g['date'] = g.date.dt.dayofyear"
   ]
  },
  {
   "cell_type": "code",
   "execution_count": 35,
   "id": "inside-dubai",
   "metadata": {
    "execution": {
     "iopub.execute_input": "2022-08-27T00:41:19.042372Z",
     "iopub.status.busy": "2022-08-27T00:41:19.041802Z",
     "iopub.status.idle": "2022-08-27T00:41:19.044345Z",
     "shell.execute_reply": "2022-08-27T00:41:19.043870Z"
    },
    "papermill": {
     "duration": 0.160049,
     "end_time": "2022-08-27T00:41:19.044448",
     "exception": false,
     "start_time": "2022-08-27T00:41:18.884399",
     "status": "completed"
    },
    "tags": []
   },
   "outputs": [],
   "source": [
    "#hide\n",
    "# g = g.rename(columns= {'continent':'group','country':'name','cases':'value'})"
   ]
  },
  {
   "cell_type": "code",
   "execution_count": 36,
   "id": "fleet-motorcycle",
   "metadata": {
    "execution": {
     "iopub.execute_input": "2022-08-27T00:41:19.109251Z",
     "iopub.status.busy": "2022-08-27T00:41:19.108690Z",
     "iopub.status.idle": "2022-08-27T00:41:19.111107Z",
     "shell.execute_reply": "2022-08-27T00:41:19.110692Z"
    },
    "papermill": {
     "duration": 0.035917,
     "end_time": "2022-08-27T00:41:19.111206",
     "exception": false,
     "start_time": "2022-08-27T00:41:19.075289",
     "status": "completed"
    },
    "tags": []
   },
   "outputs": [],
   "source": [
    "#hide\n",
    "# cols = ['name','group','day','value']"
   ]
  },
  {
   "cell_type": "code",
   "execution_count": 37,
   "id": "continued-sleeping",
   "metadata": {
    "execution": {
     "iopub.execute_input": "2022-08-27T00:41:19.175444Z",
     "iopub.status.busy": "2022-08-27T00:41:19.174902Z",
     "iopub.status.idle": "2022-08-27T00:41:19.178336Z",
     "shell.execute_reply": "2022-08-27T00:41:19.178752Z"
    },
    "papermill": {
     "duration": 0.037095,
     "end_time": "2022-08-27T00:41:19.178864",
     "exception": false,
     "start_time": "2022-08-27T00:41:19.141769",
     "status": "completed"
    },
    "tags": []
   },
   "outputs": [],
   "source": [
    "#hide\n",
    "# g.rename(columns= {'date':'day'},inplace = True)"
   ]
  },
  {
   "cell_type": "code",
   "execution_count": 38,
   "id": "major-fight",
   "metadata": {
    "execution": {
     "iopub.execute_input": "2022-08-27T00:41:19.243144Z",
     "iopub.status.busy": "2022-08-27T00:41:19.242578Z",
     "iopub.status.idle": "2022-08-27T00:41:19.244443Z",
     "shell.execute_reply": "2022-08-27T00:41:19.244853Z"
    },
    "papermill": {
     "duration": 0.035543,
     "end_time": "2022-08-27T00:41:19.244959",
     "exception": false,
     "start_time": "2022-08-27T00:41:19.209416",
     "status": "completed"
    },
    "tags": []
   },
   "outputs": [],
   "source": [
    "#hide\n",
    "# g = g[cols]"
   ]
  },
  {
   "cell_type": "code",
   "execution_count": 39,
   "id": "structured-mobile",
   "metadata": {
    "execution": {
     "iopub.execute_input": "2022-08-27T00:41:19.309092Z",
     "iopub.status.busy": "2022-08-27T00:41:19.308540Z",
     "iopub.status.idle": "2022-08-27T00:41:19.310335Z",
     "shell.execute_reply": "2022-08-27T00:41:19.310766Z"
    },
    "papermill": {
     "duration": 0.035401,
     "end_time": "2022-08-27T00:41:19.310871",
     "exception": false,
     "start_time": "2022-08-27T00:41:19.275470",
     "status": "completed"
    },
    "tags": []
   },
   "outputs": [],
   "source": [
    "# #hide\n",
    "# g = g[g.group.notna()]"
   ]
  },
  {
   "cell_type": "code",
   "execution_count": 40,
   "id": "determined-closing",
   "metadata": {
    "execution": {
     "iopub.execute_input": "2022-08-27T00:41:19.375893Z",
     "iopub.status.busy": "2022-08-27T00:41:19.375317Z",
     "iopub.status.idle": "2022-08-27T00:41:19.377487Z",
     "shell.execute_reply": "2022-08-27T00:41:19.377887Z"
    },
    "papermill": {
     "duration": 0.036557,
     "end_time": "2022-08-27T00:41:19.377997",
     "exception": false,
     "start_time": "2022-08-27T00:41:19.341440",
     "status": "completed"
    },
    "tags": []
   },
   "outputs": [],
   "source": [
    "# #hide\n",
    "# colors = dict(zip(\n",
    "#     [\"Oceania\", \"Europe\", \"Asia\", \"South America\", \"Middle East\", \"North America\", \"Africa\"],\n",
    "#     [\"#adb0ff\", \"#ffb3ff\", \"#90d595\", \"#e48381\", \"#aafbff\", \"#f7bb5f\", \"#eafb50\"]\n",
    "# ))\n",
    "# group_lk = g.set_index('name')['group'].to_dict()"
   ]
  },
  {
   "cell_type": "code",
   "execution_count": null,
   "id": "gross-drinking",
   "metadata": {
    "papermill": {
     "duration": 0.03039,
     "end_time": "2022-08-27T00:41:19.438788",
     "exception": false,
     "start_time": "2022-08-27T00:41:19.408398",
     "status": "completed"
    },
    "tags": []
   },
   "outputs": [],
   "source": []
  },
  {
   "cell_type": "code",
   "execution_count": 41,
   "id": "subject-macintosh",
   "metadata": {
    "execution": {
     "iopub.execute_input": "2022-08-27T00:41:19.504615Z",
     "iopub.status.busy": "2022-08-27T00:41:19.504039Z",
     "iopub.status.idle": "2022-08-27T00:41:19.505905Z",
     "shell.execute_reply": "2022-08-27T00:41:19.505392Z"
    },
    "papermill": {
     "duration": 0.03653,
     "end_time": "2022-08-27T00:41:19.505999",
     "exception": false,
     "start_time": "2022-08-27T00:41:19.469469",
     "status": "completed"
    },
    "tags": []
   },
   "outputs": [],
   "source": [
    "# #hide\n",
    "# fig, ax = plt.subplots(figsize=(15, 8))\n",
    "\n",
    "# def draw_barchart(current_day):\n",
    "#     dff = g[g['day'].eq(current_day)].sort_values(by='value', ascending=True).tail(10)\n",
    "#     ax.clear()\n",
    "#     ax.barh(dff['name'], dff['value'], color=[colors[group_lk[x]] for x in dff['name']])\n",
    "#     dx = dff['value'].max() / 200\n",
    "    \n",
    "#     for i, (value, name) in enumerate(zip(dff['value'], dff['name'])):\n",
    "#         ax.text(value-dx, i,     name,           size=14, weight=600, ha='right', va='bottom')\n",
    "#         ax.text(value-dx, i-.25, group_lk[name], size=10, color='#444444', ha='right', va='baseline')\n",
    "#         ax.text(value+dx, i,     f'{value:,.0f}',  size=14, ha='left',  va='center')\n",
    "#     ax.text(1, 0.4, current_day, transform=ax.transAxes, color='#777777', size=46, ha='right', weight=800)\n",
    "#     ax.text(0, 1.06, 'Population (thousands)', transform=ax.transAxes, size=12, color='#777777')\n",
    "#     ax.xaxis.set_major_formatter(ticker.StrMethodFormatter('{x:,.0f}'))\n",
    "#     ax.xaxis.set_ticks_position('top')\n",
    "#     ax.tick_params(axis='x', colors='#777777', labelsize=12)\n",
    "#     ax.set_yticks([])\n",
    "#     ax.margins(0, 0.01)\n",
    "#     ax.grid(which='major', axis='x', linestyle='-')\n",
    "#     ax.set_axisbelow(True)\n",
    "    \n",
    "#     ax.text(0, 1.15, 'Coronavirus',\n",
    "#             transform=ax.transAxes, size=24, weight=600, ha='left', va='top')\n",
    "# #     ax.text(1, 0, 'by @pratapvardhan; credit @jburnmurdoch', transform=ax.transAxes, color='#777777', ha='right',\n",
    "# #             bbox=dict(facecolor='white', alpha=0.8, edgecolor='white'))\n",
    "#     plt.box(False)"
   ]
  },
  {
   "cell_type": "code",
   "execution_count": 42,
   "id": "sexual-wages",
   "metadata": {
    "execution": {
     "iopub.execute_input": "2022-08-27T00:41:19.570229Z",
     "iopub.status.busy": "2022-08-27T00:41:19.569665Z",
     "iopub.status.idle": "2022-08-27T00:41:19.571990Z",
     "shell.execute_reply": "2022-08-27T00:41:19.571452Z"
    },
    "papermill": {
     "duration": 0.035559,
     "end_time": "2022-08-27T00:41:19.572084",
     "exception": false,
     "start_time": "2022-08-27T00:41:19.536525",
     "status": "completed"
    },
    "tags": []
   },
   "outputs": [],
   "source": [
    "# #hide_input\n",
    "# fig, ax = plt.subplots(figsize=(15, 8))\n",
    "# animator = animation.FuncAnimation(fig, draw_barchart, frames=range(g.day.values.min(), g.day.values.max()))\n",
    "# HTML(animator.to_jshtml())\n",
    "# # or use animator.to_html5_video() or animator.save() "
   ]
  },
  {
   "cell_type": "code",
   "execution_count": null,
   "id": "australian-container",
   "metadata": {
    "papermill": {
     "duration": 0.030828,
     "end_time": "2022-08-27T00:41:19.633471",
     "exception": false,
     "start_time": "2022-08-27T00:41:19.602643",
     "status": "completed"
    },
    "tags": []
   },
   "outputs": [],
   "source": []
  },
  {
   "cell_type": "code",
   "execution_count": null,
   "id": "mediterranean-pontiac",
   "metadata": {
    "papermill": {
     "duration": 0.030487,
     "end_time": "2022-08-27T00:41:19.694299",
     "exception": false,
     "start_time": "2022-08-27T00:41:19.663812",
     "status": "completed"
    },
    "tags": []
   },
   "outputs": [],
   "source": []
  },
  {
   "cell_type": "code",
   "execution_count": null,
   "id": "aging-legislature",
   "metadata": {
    "papermill": {
     "duration": 0.030453,
     "end_time": "2022-08-27T00:41:19.755470",
     "exception": false,
     "start_time": "2022-08-27T00:41:19.725017",
     "status": "completed"
    },
    "tags": []
   },
   "outputs": [],
   "source": []
  }
 ],
 "metadata": {
  "kernelspec": {
   "display_name": "Python 3",
   "language": "python",
   "name": "python3"
  },
  "language_info": {
   "codemirror_mode": {
    "name": "ipython",
    "version": 3
   },
   "file_extension": ".py",
   "mimetype": "text/x-python",
   "name": "python",
   "nbconvert_exporter": "python",
   "pygments_lexer": "ipython3",
   "version": "3.6.15"
  },
  "papermill": {
   "duration": 6.051134,
   "end_time": "2022-08-27T00:41:20.104206",
   "environment_variables": {},
   "exception": null,
   "input_path": "2020-03-21-covid19exp.ipynb",
   "output_path": "2020-03-21-covid19exp.ipynb",
   "parameters": {},
   "start_time": "2022-08-27T00:41:14.053072",
   "version": "2.0.0"
  }
 },
 "nbformat": 4,
 "nbformat_minor": 5
}