{
 "cells": [
  {
   "cell_type": "markdown",
   "id": "muslim-click",
   "metadata": {
    "papermill": {
     "duration": 0.034525,
     "end_time": "2022-06-07T00:34:31.806121",
     "exception": false,
     "start_time": "2022-06-07T00:34:31.771596",
     "status": "completed"
    },
    "tags": []
   },
   "source": [
    "# COVID-19 Case Race\n",
    "> A race chart to see rising cases around the world\n",
    "\n",
    "- author: Hargun Oberoi\n",
    "- image: images/covid-overview.png\n",
    "- hide: false\n",
    "- badges: false"
   ]
  },
  {
   "cell_type": "code",
   "execution_count": 1,
   "id": "proof-material",
   "metadata": {
    "execution": {
     "iopub.execute_input": "2022-06-07T00:34:31.875560Z",
     "iopub.status.busy": "2022-06-07T00:34:31.874967Z",
     "iopub.status.idle": "2022-06-07T00:34:32.178849Z",
     "shell.execute_reply": "2022-06-07T00:34:32.177886Z"
    },
    "papermill": {
     "duration": 0.342488,
     "end_time": "2022-06-07T00:34:32.178982",
     "exception": false,
     "start_time": "2022-06-07T00:34:31.836494",
     "status": "completed"
    },
    "tags": []
   },
   "outputs": [],
   "source": [
    "#hide\n",
    "import numpy as np\n",
    "import pandas as pd\n",
    "from jinja2 import Template\n",
    "from IPython.display import HTML"
   ]
  },
  {
   "cell_type": "code",
   "execution_count": 2,
   "id": "developed-terminology",
   "metadata": {
    "execution": {
     "iopub.execute_input": "2022-06-07T00:34:32.243055Z",
     "iopub.status.busy": "2022-06-07T00:34:32.242489Z",
     "iopub.status.idle": "2022-06-07T00:34:32.244778Z",
     "shell.execute_reply": "2022-06-07T00:34:32.244330Z"
    },
    "papermill": {
     "duration": 0.035861,
     "end_time": "2022-06-07T00:34:32.244875",
     "exception": false,
     "start_time": "2022-06-07T00:34:32.209014",
     "status": "completed"
    },
    "tags": []
   },
   "outputs": [],
   "source": [
    "#hide\n",
    "\n",
    "# FETCH\n",
    "base_url = 'https://raw.githubusercontent.com/pratapvardhan/notebooks/master/covid19/'\n",
    "paths = {\n",
    "    'mapping': base_url + 'mapping_countries.csv',\n",
    "    'overview': base_url + 'overview.tpl'\n",
    "}"
   ]
  },
  {
   "cell_type": "code",
   "execution_count": 3,
   "id": "dynamic-saver",
   "metadata": {
    "execution": {
     "iopub.execute_input": "2022-06-07T00:34:32.311578Z",
     "iopub.status.busy": "2022-06-07T00:34:32.310986Z",
     "iopub.status.idle": "2022-06-07T00:34:32.315207Z",
     "shell.execute_reply": "2022-06-07T00:34:32.314655Z"
    },
    "papermill": {
     "duration": 0.040948,
     "end_time": "2022-06-07T00:34:32.315303",
     "exception": false,
     "start_time": "2022-06-07T00:34:32.274355",
     "status": "completed"
    },
    "tags": []
   },
   "outputs": [
    {
     "data": {
      "text/plain": [
       "'https://raw.githubusercontent.com/pratapvardhan/notebooks/master/covid19/mapping_countries.csv'"
      ]
     },
     "execution_count": 3,
     "metadata": {},
     "output_type": "execute_result"
    }
   ],
   "source": [
    "#hide\n",
    "paths['mapping']"
   ]
  },
  {
   "cell_type": "code",
   "execution_count": 4,
   "id": "urban-software",
   "metadata": {
    "execution": {
     "iopub.execute_input": "2022-06-07T00:34:32.379366Z",
     "iopub.status.busy": "2022-06-07T00:34:32.378793Z",
     "iopub.status.idle": "2022-06-07T00:34:32.381470Z",
     "shell.execute_reply": "2022-06-07T00:34:32.381026Z"
    },
    "papermill": {
     "duration": 0.036325,
     "end_time": "2022-06-07T00:34:32.381564",
     "exception": false,
     "start_time": "2022-06-07T00:34:32.345239",
     "status": "completed"
    },
    "tags": []
   },
   "outputs": [],
   "source": [
    "#hide\n",
    "def get_mappings(url):\n",
    "    df = pd.read_csv(url)\n",
    "    return {\n",
    "        'df': df,\n",
    "        'replace.country': dict(df.dropna(subset=['Name']).set_index('Country')['Name']),\n",
    "        'map.continent': dict(df.set_index('Name')['Continent'])\n",
    "    }"
   ]
  },
  {
   "cell_type": "code",
   "execution_count": 5,
   "id": "intimate-machinery",
   "metadata": {
    "execution": {
     "iopub.execute_input": "2022-06-07T00:34:32.445965Z",
     "iopub.status.busy": "2022-06-07T00:34:32.445409Z",
     "iopub.status.idle": "2022-06-07T00:34:32.506151Z",
     "shell.execute_reply": "2022-06-07T00:34:32.505604Z"
    },
    "papermill": {
     "duration": 0.094852,
     "end_time": "2022-06-07T00:34:32.506249",
     "exception": false,
     "start_time": "2022-06-07T00:34:32.411397",
     "status": "completed"
    },
    "tags": []
   },
   "outputs": [],
   "source": [
    "#hide\n",
    "mapping = get_mappings(paths['mapping'])"
   ]
  },
  {
   "cell_type": "code",
   "execution_count": 6,
   "id": "certified-tactics",
   "metadata": {
    "execution": {
     "iopub.execute_input": "2022-06-07T00:34:32.570417Z",
     "iopub.status.busy": "2022-06-07T00:34:32.569856Z",
     "iopub.status.idle": "2022-06-07T00:34:32.572244Z",
     "shell.execute_reply": "2022-06-07T00:34:32.571712Z"
    },
    "papermill": {
     "duration": 0.036167,
     "end_time": "2022-06-07T00:34:32.572338",
     "exception": false,
     "start_time": "2022-06-07T00:34:32.536171",
     "status": "completed"
    },
    "tags": []
   },
   "outputs": [],
   "source": [
    "#hide\n",
    "def get_template(path):\n",
    "    from urllib.parse import urlparse\n",
    "    if bool(urlparse(path).netloc):\n",
    "        from urllib.request import urlopen\n",
    "        return urlopen(path).read().decode('utf8')\n",
    "    return open(path).read()"
   ]
  },
  {
   "cell_type": "code",
   "execution_count": 7,
   "id": "realistic-blast",
   "metadata": {
    "execution": {
     "iopub.execute_input": "2022-06-07T00:34:32.636780Z",
     "iopub.status.busy": "2022-06-07T00:34:32.636215Z",
     "iopub.status.idle": "2022-06-07T00:34:32.638658Z",
     "shell.execute_reply": "2022-06-07T00:34:32.638207Z"
    },
    "papermill": {
     "duration": 0.036577,
     "end_time": "2022-06-07T00:34:32.638752",
     "exception": false,
     "start_time": "2022-06-07T00:34:32.602175",
     "status": "completed"
    },
    "tags": []
   },
   "outputs": [],
   "source": [
    "#hide\n",
    "def get_frame(name):\n",
    "    url = (\n",
    "        'https://raw.githubusercontent.com/CSSEGISandData/COVID-19/master/csse_covid_19_data/'\n",
    "        f'csse_covid_19_time_series/time_series_covid19_{name}_global.csv')\n",
    "    df = pd.read_csv(url)\n",
    "    # rename countries\n",
    "    df['Country/Region'] = df['Country/Region'].replace(mapping['replace.country'])\n",
    "    return df"
   ]
  },
  {
   "cell_type": "code",
   "execution_count": 8,
   "id": "affiliated-characterization",
   "metadata": {
    "execution": {
     "iopub.execute_input": "2022-06-07T00:34:32.703342Z",
     "iopub.status.busy": "2022-06-07T00:34:32.702762Z",
     "iopub.status.idle": "2022-06-07T00:34:32.704941Z",
     "shell.execute_reply": "2022-06-07T00:34:32.705380Z"
    },
    "papermill": {
     "duration": 0.036724,
     "end_time": "2022-06-07T00:34:32.705484",
     "exception": false,
     "start_time": "2022-06-07T00:34:32.668760",
     "status": "completed"
    },
    "tags": []
   },
   "outputs": [],
   "source": [
    "#hide\n",
    "def get_dates(df):\n",
    "    dt_cols = df.columns[~df.columns.isin(['Province/State', 'Country/Region', 'Lat', 'Long'])]\n",
    "    LAST_DATE_I = -1\n",
    "    # sometimes last column may be empty, then go backwards\n",
    "    for i in range(-1, -len(dt_cols), -1):\n",
    "        if not df[dt_cols[i]].fillna(0).eq(0).all():\n",
    "            LAST_DATE_I = i\n",
    "            break\n",
    "    return LAST_DATE_I, dt_cols"
   ]
  },
  {
   "cell_type": "code",
   "execution_count": 9,
   "id": "recent-optimization",
   "metadata": {
    "execution": {
     "iopub.execute_input": "2022-06-07T00:34:32.769075Z",
     "iopub.status.busy": "2022-06-07T00:34:32.768514Z",
     "iopub.status.idle": "2022-06-07T00:34:33.568596Z",
     "shell.execute_reply": "2022-06-07T00:34:33.567668Z"
    },
    "papermill": {
     "duration": 0.833511,
     "end_time": "2022-06-07T00:34:33.568716",
     "exception": false,
     "start_time": "2022-06-07T00:34:32.735205",
     "status": "completed"
    },
    "tags": []
   },
   "outputs": [],
   "source": [
    "#hide\n",
    "COL_REGION = 'Country/Region'\n",
    "# Confirmed, Recovered, Deaths\n",
    "df = get_frame('confirmed')\n",
    "# dft_: timeseries, dfc_: today country agg\n",
    "dft_cases = df\n",
    "dft_deaths = get_frame('deaths')\n",
    "dft_recovered = get_frame('recovered')\n",
    "LAST_DATE_I, dt_cols = get_dates(df)"
   ]
  },
  {
   "cell_type": "code",
   "execution_count": 10,
   "id": "absolute-copper",
   "metadata": {
    "execution": {
     "iopub.execute_input": "2022-06-07T00:34:33.634023Z",
     "iopub.status.busy": "2022-06-07T00:34:33.633460Z",
     "iopub.status.idle": "2022-06-07T00:34:33.635659Z",
     "shell.execute_reply": "2022-06-07T00:34:33.635097Z"
    },
    "papermill": {
     "duration": 0.036712,
     "end_time": "2022-06-07T00:34:33.635759",
     "exception": false,
     "start_time": "2022-06-07T00:34:33.599047",
     "status": "completed"
    },
    "tags": []
   },
   "outputs": [],
   "source": [
    "#hide\n",
    "LAST_DATE_I, dt_cols = get_dates(df)\n",
    "dt_today =dt_cols[LAST_DATE_I]\n",
    "# dt_5day = dt_cols[LAST_DATE_I - 5]\n",
    "dt_yday = dt_cols[LAST_DATE_I - 1]"
   ]
  },
  {
   "cell_type": "code",
   "execution_count": 11,
   "id": "restricted-sheriff",
   "metadata": {
    "execution": {
     "iopub.execute_input": "2022-06-07T00:34:33.700368Z",
     "iopub.status.busy": "2022-06-07T00:34:33.699804Z",
     "iopub.status.idle": "2022-06-07T00:34:33.706592Z",
     "shell.execute_reply": "2022-06-07T00:34:33.706151Z"
    },
    "papermill": {
     "duration": 0.041116,
     "end_time": "2022-06-07T00:34:33.706686",
     "exception": false,
     "start_time": "2022-06-07T00:34:33.665570",
     "status": "completed"
    },
    "tags": []
   },
   "outputs": [],
   "source": [
    "#hide\n",
    "dfc_cases = dft_cases.groupby(COL_REGION)[dt_today].sum()\n",
    "dfc_deaths = dft_deaths.groupby(COL_REGION)[dt_today].sum()\n",
    "# dfp_cases = dft_cases.groupby(COL_REGION)[dt_5day].sum()\n",
    "# dfp_deaths = dft_deaths.groupby(COL_REGION)[dt_5day].sum()\n",
    "dfp_cases = dft_cases.groupby(COL_REGION)[dt_yday].sum()\n",
    "dfp_deaths = dft_deaths.groupby(COL_REGION)[dt_yday].sum()"
   ]
  },
  {
   "cell_type": "code",
   "execution_count": 12,
   "id": "deluxe-hepatitis",
   "metadata": {
    "execution": {
     "iopub.execute_input": "2022-06-07T00:34:33.770739Z",
     "iopub.status.busy": "2022-06-07T00:34:33.768199Z",
     "iopub.status.idle": "2022-06-07T00:34:33.774639Z",
     "shell.execute_reply": "2022-06-07T00:34:33.775137Z"
    },
    "papermill": {
     "duration": 0.038768,
     "end_time": "2022-06-07T00:34:33.775262",
     "exception": false,
     "start_time": "2022-06-07T00:34:33.736494",
     "status": "completed"
    },
    "tags": []
   },
   "outputs": [],
   "source": [
    "#hide\n",
    "df_table = (pd.DataFrame(dict(Cases = dfc_cases, Deaths = dfc_deaths, PCases = dfp_cases, PDeaths = dfp_deaths))\n",
    "            .sort_values(by = ['Cases','Deaths'], ascending = [False, False])\n",
    "            .reset_index())"
   ]
  },
  {
   "cell_type": "code",
   "execution_count": 13,
   "id": "educational-chancellor",
   "metadata": {
    "execution": {
     "iopub.execute_input": "2022-06-07T00:34:33.846410Z",
     "iopub.status.busy": "2022-06-07T00:34:33.845860Z",
     "iopub.status.idle": "2022-06-07T00:34:33.857191Z",
     "shell.execute_reply": "2022-06-07T00:34:33.857646Z"
    },
    "papermill": {
     "duration": 0.052863,
     "end_time": "2022-06-07T00:34:33.857756",
     "exception": false,
     "start_time": "2022-06-07T00:34:33.804893",
     "status": "completed"
    },
    "tags": []
   },
   "outputs": [
    {
     "data": {
      "text/html": [
       "<div>\n",
       "<style scoped>\n",
       "    .dataframe tbody tr th:only-of-type {\n",
       "        vertical-align: middle;\n",
       "    }\n",
       "\n",
       "    .dataframe tbody tr th {\n",
       "        vertical-align: top;\n",
       "    }\n",
       "\n",
       "    .dataframe thead th {\n",
       "        text-align: right;\n",
       "    }\n",
       "</style>\n",
       "<table border=\"1\" class=\"dataframe\">\n",
       "  <thead>\n",
       "    <tr style=\"text-align: right;\">\n",
       "      <th></th>\n",
       "      <th>Country/Region</th>\n",
       "      <th>Cases</th>\n",
       "      <th>Deaths</th>\n",
       "      <th>PCases</th>\n",
       "      <th>PDeaths</th>\n",
       "      <th>Cases (+)</th>\n",
       "      <th>Deaths (+)</th>\n",
       "      <th>Fatality Rate</th>\n",
       "      <th>Continent</th>\n",
       "    </tr>\n",
       "  </thead>\n",
       "  <tbody>\n",
       "    <tr>\n",
       "      <th>0</th>\n",
       "      <td>US</td>\n",
       "      <td>84762022</td>\n",
       "      <td>1008585</td>\n",
       "      <td>84748884</td>\n",
       "      <td>1008567</td>\n",
       "      <td>13138</td>\n",
       "      <td>18</td>\n",
       "      <td>1.19</td>\n",
       "      <td>North America</td>\n",
       "    </tr>\n",
       "    <tr>\n",
       "      <th>1</th>\n",
       "      <td>India</td>\n",
       "      <td>43181335</td>\n",
       "      <td>524701</td>\n",
       "      <td>43176817</td>\n",
       "      <td>524692</td>\n",
       "      <td>4518</td>\n",
       "      <td>9</td>\n",
       "      <td>1.22</td>\n",
       "      <td>Asia</td>\n",
       "    </tr>\n",
       "    <tr>\n",
       "      <th>2</th>\n",
       "      <td>Brazil</td>\n",
       "      <td>31137479</td>\n",
       "      <td>666971</td>\n",
       "      <td>31137479</td>\n",
       "      <td>666971</td>\n",
       "      <td>0</td>\n",
       "      <td>0</td>\n",
       "      <td>2.14</td>\n",
       "      <td>South America</td>\n",
       "    </tr>\n",
       "    <tr>\n",
       "      <th>3</th>\n",
       "      <td>France</td>\n",
       "      <td>29834390</td>\n",
       "      <td>149509</td>\n",
       "      <td>29813848</td>\n",
       "      <td>149506</td>\n",
       "      <td>20542</td>\n",
       "      <td>3</td>\n",
       "      <td>0.50</td>\n",
       "      <td>Europe</td>\n",
       "    </tr>\n",
       "    <tr>\n",
       "      <th>4</th>\n",
       "      <td>Germany</td>\n",
       "      <td>26496611</td>\n",
       "      <td>139386</td>\n",
       "      <td>26493235</td>\n",
       "      <td>139386</td>\n",
       "      <td>3376</td>\n",
       "      <td>0</td>\n",
       "      <td>0.53</td>\n",
       "      <td>Europe</td>\n",
       "    </tr>\n",
       "  </tbody>\n",
       "</table>\n",
       "</div>"
      ],
      "text/plain": [
       "  Country/Region     Cases   Deaths    PCases  PDeaths  Cases (+)  Deaths (+)  \\\n",
       "0             US  84762022  1008585  84748884  1008567      13138          18   \n",
       "1          India  43181335   524701  43176817   524692       4518           9   \n",
       "2         Brazil  31137479   666971  31137479   666971          0           0   \n",
       "3         France  29834390   149509  29813848   149506      20542           3   \n",
       "4        Germany  26496611   139386  26493235   139386       3376           0   \n",
       "\n",
       "   Fatality Rate      Continent  \n",
       "0           1.19  North America  \n",
       "1           1.22           Asia  \n",
       "2           2.14  South America  \n",
       "3           0.50         Europe  \n",
       "4           0.53         Europe  "
      ]
     },
     "execution_count": 13,
     "metadata": {},
     "output_type": "execute_result"
    }
   ],
   "source": [
    "#hide\n",
    "for c in 'Cases, Deaths'.split(', '):\n",
    "    df_table[f'{c} (+)'] = (df_table[c] - df_table[f'P{c}']).clip(0)\n",
    "    #Clip ça veut dire, les chiffres negatif sont interdit\n",
    "df_table['Fatality Rate'] = (100* df_table['Deaths']/ df_table['Cases']).round(2)\n",
    "df_table['Continent'] = df_table['Country/Region'].map(mapping['map.continent'])\n",
    "df_table.head(5)"
   ]
  },
  {
   "cell_type": "code",
   "execution_count": 14,
   "id": "aboriginal-bulgaria",
   "metadata": {
    "execution": {
     "iopub.execute_input": "2022-06-07T00:34:33.923002Z",
     "iopub.status.busy": "2022-06-07T00:34:33.922446Z",
     "iopub.status.idle": "2022-06-07T00:34:33.924643Z",
     "shell.execute_reply": "2022-06-07T00:34:33.925077Z"
    },
    "papermill": {
     "duration": 0.03703,
     "end_time": "2022-06-07T00:34:33.925185",
     "exception": false,
     "start_time": "2022-06-07T00:34:33.888155",
     "status": "completed"
    },
    "tags": []
   },
   "outputs": [],
   "source": [
    "#hide\n",
    "#delete problematic countries from table\n",
    "df_table = df_table[~df_table['Country/Region'].isin(['Cape Verde', 'Cruise Ship', 'Kosovo'])]"
   ]
  },
  {
   "cell_type": "code",
   "execution_count": 15,
   "id": "fantastic-effect",
   "metadata": {
    "execution": {
     "iopub.execute_input": "2022-06-07T00:34:33.992367Z",
     "iopub.status.busy": "2022-06-07T00:34:33.991819Z",
     "iopub.status.idle": "2022-06-07T00:34:34.008289Z",
     "shell.execute_reply": "2022-06-07T00:34:34.008741Z"
    },
    "papermill": {
     "duration": 0.053428,
     "end_time": "2022-06-07T00:34:34.008849",
     "exception": false,
     "start_time": "2022-06-07T00:34:33.955421",
     "status": "completed"
    },
    "tags": []
   },
   "outputs": [
    {
     "data": {
      "text/html": [
       "<div>\n",
       "<style scoped>\n",
       "    .dataframe tbody tr th:only-of-type {\n",
       "        vertical-align: middle;\n",
       "    }\n",
       "\n",
       "    .dataframe tbody tr th {\n",
       "        vertical-align: top;\n",
       "    }\n",
       "\n",
       "    .dataframe thead th {\n",
       "        text-align: right;\n",
       "    }\n",
       "</style>\n",
       "<table border=\"1\" class=\"dataframe\">\n",
       "  <thead>\n",
       "    <tr style=\"text-align: right;\">\n",
       "      <th></th>\n",
       "      <th>Country/Region</th>\n",
       "      <th>Cases</th>\n",
       "      <th>Deaths</th>\n",
       "      <th>PCases</th>\n",
       "      <th>PDeaths</th>\n",
       "      <th>Cases (+)</th>\n",
       "      <th>Deaths (+)</th>\n",
       "      <th>Fatality Rate</th>\n",
       "      <th>Continent</th>\n",
       "    </tr>\n",
       "  </thead>\n",
       "  <tbody>\n",
       "    <tr>\n",
       "      <th>0</th>\n",
       "      <td>US</td>\n",
       "      <td>84762022</td>\n",
       "      <td>1008585</td>\n",
       "      <td>84748884</td>\n",
       "      <td>1008567</td>\n",
       "      <td>13138</td>\n",
       "      <td>18</td>\n",
       "      <td>1.2</td>\n",
       "      <td>North America</td>\n",
       "    </tr>\n",
       "    <tr>\n",
       "      <th>1</th>\n",
       "      <td>India</td>\n",
       "      <td>43181335</td>\n",
       "      <td>524701</td>\n",
       "      <td>43176817</td>\n",
       "      <td>524692</td>\n",
       "      <td>4518</td>\n",
       "      <td>9</td>\n",
       "      <td>1.2</td>\n",
       "      <td>Asia</td>\n",
       "    </tr>\n",
       "    <tr>\n",
       "      <th>2</th>\n",
       "      <td>Brazil</td>\n",
       "      <td>31137479</td>\n",
       "      <td>666971</td>\n",
       "      <td>31137479</td>\n",
       "      <td>666971</td>\n",
       "      <td>0</td>\n",
       "      <td>0</td>\n",
       "      <td>2.1</td>\n",
       "      <td>South America</td>\n",
       "    </tr>\n",
       "    <tr>\n",
       "      <th>3</th>\n",
       "      <td>France</td>\n",
       "      <td>29834390</td>\n",
       "      <td>149509</td>\n",
       "      <td>29813848</td>\n",
       "      <td>149506</td>\n",
       "      <td>20542</td>\n",
       "      <td>3</td>\n",
       "      <td>0.5</td>\n",
       "      <td>Europe</td>\n",
       "    </tr>\n",
       "    <tr>\n",
       "      <th>4</th>\n",
       "      <td>Germany</td>\n",
       "      <td>26496611</td>\n",
       "      <td>139386</td>\n",
       "      <td>26493235</td>\n",
       "      <td>139386</td>\n",
       "      <td>3376</td>\n",
       "      <td>0</td>\n",
       "      <td>0.5</td>\n",
       "      <td>Europe</td>\n",
       "    </tr>\n",
       "  </tbody>\n",
       "</table>\n",
       "</div>"
      ],
      "text/plain": [
       "  Country/Region     Cases   Deaths    PCases  PDeaths  Cases (+)  Deaths (+)  \\\n",
       "0             US  84762022  1008585  84748884  1008567      13138          18   \n",
       "1          India  43181335   524701  43176817   524692       4518           9   \n",
       "2         Brazil  31137479   666971  31137479   666971          0           0   \n",
       "3         France  29834390   149509  29813848   149506      20542           3   \n",
       "4        Germany  26496611   139386  26493235   139386       3376           0   \n",
       "\n",
       "   Fatality Rate      Continent  \n",
       "0            1.2  North America  \n",
       "1            1.2           Asia  \n",
       "2            2.1  South America  \n",
       "3            0.5         Europe  \n",
       "4            0.5         Europe  "
      ]
     },
     "execution_count": 15,
     "metadata": {},
     "output_type": "execute_result"
    }
   ],
   "source": [
    "#hide\n",
    "df_table = (pd.DataFrame(dict(Cases=dfc_cases, Deaths=dfc_deaths, PCases=dfp_cases, PDeaths=dfp_deaths))\n",
    "             .sort_values(by=['Cases', 'Deaths'], ascending=[False, False])\n",
    "             .reset_index())\n",
    "df_table.rename(columns={'index': 'Country/Region'}, inplace=True)\n",
    "for c in 'Cases, Deaths'.split(', '):\n",
    "    df_table[f'{c} (+)'] = (df_table[c] - df_table[f'P{c}']).clip(0)  # DATA BUG\n",
    "df_table['Fatality Rate'] = (100 * df_table['Deaths'] / df_table['Cases']).round(1)\n",
    "df_table['Continent'] = df_table['Country/Region'].map(mapping['map.continent'])\n",
    "df_table.head(5)"
   ]
  },
  {
   "cell_type": "code",
   "execution_count": 16,
   "id": "fewer-occasion",
   "metadata": {
    "execution": {
     "iopub.execute_input": "2022-06-07T00:34:34.074855Z",
     "iopub.status.busy": "2022-06-07T00:34:34.074282Z",
     "iopub.status.idle": "2022-06-07T00:34:34.076680Z",
     "shell.execute_reply": "2022-06-07T00:34:34.076169Z"
    },
    "papermill": {
     "duration": 0.037089,
     "end_time": "2022-06-07T00:34:34.076773",
     "exception": false,
     "start_time": "2022-06-07T00:34:34.039684",
     "status": "completed"
    },
    "tags": []
   },
   "outputs": [],
   "source": [
    "#hide\n",
    "#delete problematic countries from table\n",
    "df_table = df_table[~df_table['Country/Region'].isin(['Cape Verde', 'Cruise Ship', 'Kosovo'])]"
   ]
  },
  {
   "cell_type": "code",
   "execution_count": 17,
   "id": "related-center",
   "metadata": {
    "execution": {
     "iopub.execute_input": "2022-06-07T00:34:34.154806Z",
     "iopub.status.busy": "2022-06-07T00:34:34.154253Z",
     "iopub.status.idle": "2022-06-07T00:34:34.156520Z",
     "shell.execute_reply": "2022-06-07T00:34:34.155996Z"
    },
    "papermill": {
     "duration": 0.049018,
     "end_time": "2022-06-07T00:34:34.156612",
     "exception": false,
     "start_time": "2022-06-07T00:34:34.107594",
     "status": "completed"
    },
    "tags": []
   },
   "outputs": [],
   "source": [
    "#hide\n",
    "metrics = [df_table.columns[index] for index in [1,2,5,6]]\n",
    "# s_china = df_table[df_table['Country/Region'].eq('China')][metrics].sum().add_prefix('China ')\n",
    "s_us = df_table[df_table['Country/Region'].eq('US')][metrics].sum().add_prefix('US ')\n",
    "s_eu = df_table[df_table['Continent'].eq('Europe')][metrics].sum().add_prefix('EU ')\n",
    "s_ind = df_table[df_table['Country/Region'].eq('India')][metrics].sum().add_prefix('India ')\n",
    "summary = {'updated': pd.to_datetime(dt_today), 'since': pd.to_datetime(dt_yday)}\n",
    "summary = {'updated': pd.to_datetime(dt_today), 'since': pd.to_datetime(dt_yday)}\n",
    "summary = {**summary, **df_table[metrics].sum(), **s_ind, **s_us, **s_eu}"
   ]
  },
  {
   "cell_type": "code",
   "execution_count": 18,
   "id": "engaging-syndrome",
   "metadata": {
    "execution": {
     "iopub.execute_input": "2022-06-07T00:34:34.222290Z",
     "iopub.status.busy": "2022-06-07T00:34:34.221748Z",
     "iopub.status.idle": "2022-06-07T00:34:34.238500Z",
     "shell.execute_reply": "2022-06-07T00:34:34.238922Z"
    },
    "papermill": {
     "duration": 0.051584,
     "end_time": "2022-06-07T00:34:34.239032",
     "exception": false,
     "start_time": "2022-06-07T00:34:34.187448",
     "status": "completed"
    },
    "tags": []
   },
   "outputs": [],
   "source": [
    "#hide\n",
    "dft_ct_new_cases = dft_cases.groupby(COL_REGION)[dt_cols].sum().diff(axis=1).fillna(0).astype(int)"
   ]
  },
  {
   "cell_type": "code",
   "execution_count": 19,
   "id": "neutral-assignment",
   "metadata": {
    "execution": {
     "iopub.execute_input": "2022-06-07T00:34:34.304105Z",
     "iopub.status.busy": "2022-06-07T00:34:34.303554Z",
     "iopub.status.idle": "2022-06-07T00:34:34.307529Z",
     "shell.execute_reply": "2022-06-07T00:34:34.306982Z"
    },
    "papermill": {
     "duration": 0.0378,
     "end_time": "2022-06-07T00:34:34.307623",
     "exception": false,
     "start_time": "2022-06-07T00:34:34.269823",
     "status": "completed"
    },
    "tags": []
   },
   "outputs": [],
   "source": [
    "#hide\n",
    "everydaycases = dft_ct_new_cases.cumsum(axis=1)"
   ]
  },
  {
   "cell_type": "code",
   "execution_count": 20,
   "id": "parliamentary-calgary",
   "metadata": {
    "execution": {
     "iopub.execute_input": "2022-06-07T00:34:34.373122Z",
     "iopub.status.busy": "2022-06-07T00:34:34.372567Z",
     "iopub.status.idle": "2022-06-07T00:34:34.927792Z",
     "shell.execute_reply": "2022-06-07T00:34:34.926797Z"
    },
    "papermill": {
     "duration": 0.589385,
     "end_time": "2022-06-07T00:34:34.927919",
     "exception": false,
     "start_time": "2022-06-07T00:34:34.338534",
     "status": "completed"
    },
    "tags": []
   },
   "outputs": [],
   "source": [
    "#hide\n",
    "import pandas as pd\n",
    "import matplotlib.pyplot as plt\n",
    "import matplotlib.ticker as ticker\n",
    "import matplotlib.animation as animation\n",
    "from IPython.display import HTML"
   ]
  },
  {
   "cell_type": "code",
   "execution_count": 21,
   "id": "lasting-extraction",
   "metadata": {
    "execution": {
     "iopub.execute_input": "2022-06-07T00:34:34.995423Z",
     "iopub.status.busy": "2022-06-07T00:34:34.994847Z",
     "iopub.status.idle": "2022-06-07T00:34:35.001159Z",
     "shell.execute_reply": "2022-06-07T00:34:35.000619Z"
    },
    "papermill": {
     "duration": 0.042344,
     "end_time": "2022-06-07T00:34:35.001255",
     "exception": false,
     "start_time": "2022-06-07T00:34:34.958911",
     "status": "completed"
    },
    "tags": []
   },
   "outputs": [],
   "source": [
    "#hide\n",
    "t = everydaycases.stack()"
   ]
  },
  {
   "cell_type": "code",
   "execution_count": 22,
   "id": "premier-sleeve",
   "metadata": {
    "execution": {
     "iopub.execute_input": "2022-06-07T00:34:35.066593Z",
     "iopub.status.busy": "2022-06-07T00:34:35.066022Z",
     "iopub.status.idle": "2022-06-07T00:34:35.076248Z",
     "shell.execute_reply": "2022-06-07T00:34:35.075710Z"
    },
    "papermill": {
     "duration": 0.044109,
     "end_time": "2022-06-07T00:34:35.076342",
     "exception": false,
     "start_time": "2022-06-07T00:34:35.032233",
     "status": "completed"
    },
    "tags": []
   },
   "outputs": [],
   "source": [
    "#hide\n",
    "g = t.reset_index(['Country/Region'])"
   ]
  },
  {
   "cell_type": "code",
   "execution_count": 23,
   "id": "distributed-pittsburgh",
   "metadata": {
    "execution": {
     "iopub.execute_input": "2022-06-07T00:34:35.141165Z",
     "iopub.status.busy": "2022-06-07T00:34:35.140612Z",
     "iopub.status.idle": "2022-06-07T00:34:35.143047Z",
     "shell.execute_reply": "2022-06-07T00:34:35.142531Z"
    },
    "papermill": {
     "duration": 0.036034,
     "end_time": "2022-06-07T00:34:35.143142",
     "exception": false,
     "start_time": "2022-06-07T00:34:35.107108",
     "status": "completed"
    },
    "tags": []
   },
   "outputs": [],
   "source": [
    "#hide\n",
    "g.index.name = 'date'"
   ]
  },
  {
   "cell_type": "code",
   "execution_count": 24,
   "id": "naked-donor",
   "metadata": {
    "execution": {
     "iopub.execute_input": "2022-06-07T00:34:35.207932Z",
     "iopub.status.busy": "2022-06-07T00:34:35.207359Z",
     "iopub.status.idle": "2022-06-07T00:34:35.209739Z",
     "shell.execute_reply": "2022-06-07T00:34:35.209215Z"
    },
    "papermill": {
     "duration": 0.035855,
     "end_time": "2022-06-07T00:34:35.209832",
     "exception": false,
     "start_time": "2022-06-07T00:34:35.173977",
     "status": "completed"
    },
    "tags": []
   },
   "outputs": [],
   "source": [
    "# #hide\n",
    "# g = g.reset_index(['date'])"
   ]
  },
  {
   "cell_type": "code",
   "execution_count": 25,
   "id": "incomplete-mustang",
   "metadata": {
    "execution": {
     "iopub.execute_input": "2022-06-07T00:34:35.274534Z",
     "iopub.status.busy": "2022-06-07T00:34:35.273964Z",
     "iopub.status.idle": "2022-06-07T00:34:35.276382Z",
     "shell.execute_reply": "2022-06-07T00:34:35.275852Z"
    },
    "papermill": {
     "duration": 0.035897,
     "end_time": "2022-06-07T00:34:35.276477",
     "exception": false,
     "start_time": "2022-06-07T00:34:35.240580",
     "status": "completed"
    },
    "tags": []
   },
   "outputs": [],
   "source": [
    "#hide\n",
    "# g.head()"
   ]
  },
  {
   "cell_type": "code",
   "execution_count": 26,
   "id": "specific-kruger",
   "metadata": {
    "execution": {
     "iopub.execute_input": "2022-06-07T00:34:35.341273Z",
     "iopub.status.busy": "2022-06-07T00:34:35.340704Z",
     "iopub.status.idle": "2022-06-07T00:34:35.343126Z",
     "shell.execute_reply": "2022-06-07T00:34:35.342634Z"
    },
    "papermill": {
     "duration": 0.035843,
     "end_time": "2022-06-07T00:34:35.343242",
     "exception": false,
     "start_time": "2022-06-07T00:34:35.307399",
     "status": "completed"
    },
    "tags": []
   },
   "outputs": [],
   "source": [
    "#hide\n",
    "# g.columns = ['date','country','cases']"
   ]
  },
  {
   "cell_type": "code",
   "execution_count": 27,
   "id": "tender-conversion",
   "metadata": {
    "execution": {
     "iopub.execute_input": "2022-06-07T00:34:35.408295Z",
     "iopub.status.busy": "2022-06-07T00:34:35.407736Z",
     "iopub.status.idle": "2022-06-07T00:34:35.409801Z",
     "shell.execute_reply": "2022-06-07T00:34:35.410209Z"
    },
    "papermill": {
     "duration": 0.036304,
     "end_time": "2022-06-07T00:34:35.410324",
     "exception": false,
     "start_time": "2022-06-07T00:34:35.374020",
     "status": "completed"
    },
    "tags": []
   },
   "outputs": [],
   "source": [
    "#hide\n",
    "# g['continent'] = g.country"
   ]
  },
  {
   "cell_type": "code",
   "execution_count": 28,
   "id": "substantial-wilderness",
   "metadata": {
    "execution": {
     "iopub.execute_input": "2022-06-07T00:34:35.475634Z",
     "iopub.status.busy": "2022-06-07T00:34:35.475044Z",
     "iopub.status.idle": "2022-06-07T00:34:35.477418Z",
     "shell.execute_reply": "2022-06-07T00:34:35.476895Z"
    },
    "papermill": {
     "duration": 0.036272,
     "end_time": "2022-06-07T00:34:35.477514",
     "exception": false,
     "start_time": "2022-06-07T00:34:35.441242",
     "status": "completed"
    },
    "tags": []
   },
   "outputs": [],
   "source": [
    "#hide\n",
    "# cols = list(g.columns.values)"
   ]
  },
  {
   "cell_type": "code",
   "execution_count": 29,
   "id": "solved-farming",
   "metadata": {
    "execution": {
     "iopub.execute_input": "2022-06-07T00:34:35.542435Z",
     "iopub.status.busy": "2022-06-07T00:34:35.541875Z",
     "iopub.status.idle": "2022-06-07T00:34:35.544284Z",
     "shell.execute_reply": "2022-06-07T00:34:35.543765Z"
    },
    "papermill": {
     "duration": 0.03603,
     "end_time": "2022-06-07T00:34:35.544377",
     "exception": false,
     "start_time": "2022-06-07T00:34:35.508347",
     "status": "completed"
    },
    "tags": []
   },
   "outputs": [],
   "source": [
    "#hide\n",
    "# cols.insert(0, cols.pop())"
   ]
  },
  {
   "cell_type": "code",
   "execution_count": 30,
   "id": "executed-adoption",
   "metadata": {
    "execution": {
     "iopub.execute_input": "2022-06-07T00:34:35.608997Z",
     "iopub.status.busy": "2022-06-07T00:34:35.608436Z",
     "iopub.status.idle": "2022-06-07T00:34:35.610863Z",
     "shell.execute_reply": "2022-06-07T00:34:35.610405Z"
    },
    "papermill": {
     "duration": 0.035815,
     "end_time": "2022-06-07T00:34:35.610969",
     "exception": false,
     "start_time": "2022-06-07T00:34:35.575154",
     "status": "completed"
    },
    "tags": []
   },
   "outputs": [],
   "source": [
    "#hide\n",
    "# g = g[cols]"
   ]
  },
  {
   "cell_type": "code",
   "execution_count": 31,
   "id": "subject-dublin",
   "metadata": {
    "execution": {
     "iopub.execute_input": "2022-06-07T00:34:35.675633Z",
     "iopub.status.busy": "2022-06-07T00:34:35.675044Z",
     "iopub.status.idle": "2022-06-07T00:34:35.677274Z",
     "shell.execute_reply": "2022-06-07T00:34:35.676844Z"
    },
    "papermill": {
     "duration": 0.035596,
     "end_time": "2022-06-07T00:34:35.677363",
     "exception": false,
     "start_time": "2022-06-07T00:34:35.641767",
     "status": "completed"
    },
    "tags": []
   },
   "outputs": [],
   "source": [
    "#hide\n",
    "# g['continent'] = g['continent'].map(mapping['map.continent'])"
   ]
  },
  {
   "cell_type": "code",
   "execution_count": 32,
   "id": "freelance-scout",
   "metadata": {
    "execution": {
     "iopub.execute_input": "2022-06-07T00:34:35.742174Z",
     "iopub.status.busy": "2022-06-07T00:34:35.741606Z",
     "iopub.status.idle": "2022-06-07T00:34:35.743934Z",
     "shell.execute_reply": "2022-06-07T00:34:35.743406Z"
    },
    "papermill": {
     "duration": 0.035772,
     "end_time": "2022-06-07T00:34:35.744027",
     "exception": false,
     "start_time": "2022-06-07T00:34:35.708255",
     "status": "completed"
    },
    "tags": []
   },
   "outputs": [],
   "source": [
    "#hide\n",
    "# g.head()"
   ]
  },
  {
   "cell_type": "code",
   "execution_count": 33,
   "id": "limited-engine",
   "metadata": {
    "execution": {
     "iopub.execute_input": "2022-06-07T00:34:35.808443Z",
     "iopub.status.busy": "2022-06-07T00:34:35.807895Z",
     "iopub.status.idle": "2022-06-07T00:34:35.810217Z",
     "shell.execute_reply": "2022-06-07T00:34:35.809768Z"
    },
    "papermill": {
     "duration": 0.035655,
     "end_time": "2022-06-07T00:34:35.810308",
     "exception": false,
     "start_time": "2022-06-07T00:34:35.774653",
     "status": "completed"
    },
    "tags": []
   },
   "outputs": [],
   "source": [
    "# hide\n",
    "# g['date'] = g['date'].astype('datetime64[ns]')"
   ]
  },
  {
   "cell_type": "code",
   "execution_count": 34,
   "id": "sophisticated-supervisor",
   "metadata": {
    "execution": {
     "iopub.execute_input": "2022-06-07T00:34:35.875355Z",
     "iopub.status.busy": "2022-06-07T00:34:35.874772Z",
     "iopub.status.idle": "2022-06-07T00:34:35.877310Z",
     "shell.execute_reply": "2022-06-07T00:34:35.876785Z"
    },
    "papermill": {
     "duration": 0.036179,
     "end_time": "2022-06-07T00:34:35.877401",
     "exception": false,
     "start_time": "2022-06-07T00:34:35.841222",
     "status": "completed"
    },
    "tags": []
   },
   "outputs": [],
   "source": [
    "#hide\n",
    "# g['date'] = g.date.dt.dayofyear"
   ]
  },
  {
   "cell_type": "code",
   "execution_count": 35,
   "id": "inside-dubai",
   "metadata": {
    "execution": {
     "iopub.execute_input": "2022-06-07T00:34:35.942172Z",
     "iopub.status.busy": "2022-06-07T00:34:35.941608Z",
     "iopub.status.idle": "2022-06-07T00:34:35.943945Z",
     "shell.execute_reply": "2022-06-07T00:34:35.943420Z"
    },
    "papermill": {
     "duration": 0.035789,
     "end_time": "2022-06-07T00:34:35.944036",
     "exception": false,
     "start_time": "2022-06-07T00:34:35.908247",
     "status": "completed"
    },
    "tags": []
   },
   "outputs": [],
   "source": [
    "#hide\n",
    "# g = g.rename(columns= {'continent':'group','country':'name','cases':'value'})"
   ]
  },
  {
   "cell_type": "code",
   "execution_count": 36,
   "id": "fleet-motorcycle",
   "metadata": {
    "execution": {
     "iopub.execute_input": "2022-06-07T00:34:36.008702Z",
     "iopub.status.busy": "2022-06-07T00:34:36.008155Z",
     "iopub.status.idle": "2022-06-07T00:34:36.011838Z",
     "shell.execute_reply": "2022-06-07T00:34:36.012242Z"
    },
    "papermill": {
     "duration": 0.037541,
     "end_time": "2022-06-07T00:34:36.012350",
     "exception": false,
     "start_time": "2022-06-07T00:34:35.974809",
     "status": "completed"
    },
    "tags": []
   },
   "outputs": [],
   "source": [
    "#hide\n",
    "# cols = ['name','group','day','value']"
   ]
  },
  {
   "cell_type": "code",
   "execution_count": 37,
   "id": "continued-sleeping",
   "metadata": {
    "execution": {
     "iopub.execute_input": "2022-06-07T00:34:36.076980Z",
     "iopub.status.busy": "2022-06-07T00:34:36.076433Z",
     "iopub.status.idle": "2022-06-07T00:34:36.078244Z",
     "shell.execute_reply": "2022-06-07T00:34:36.078670Z"
    },
    "papermill": {
     "duration": 0.035755,
     "end_time": "2022-06-07T00:34:36.078776",
     "exception": false,
     "start_time": "2022-06-07T00:34:36.043021",
     "status": "completed"
    },
    "tags": []
   },
   "outputs": [],
   "source": [
    "#hide\n",
    "# g.rename(columns= {'date':'day'},inplace = True)"
   ]
  },
  {
   "cell_type": "code",
   "execution_count": 38,
   "id": "major-fight",
   "metadata": {
    "execution": {
     "iopub.execute_input": "2022-06-07T00:34:36.143454Z",
     "iopub.status.busy": "2022-06-07T00:34:36.142880Z",
     "iopub.status.idle": "2022-06-07T00:34:36.145096Z",
     "shell.execute_reply": "2022-06-07T00:34:36.144621Z"
    },
    "papermill": {
     "duration": 0.0357,
     "end_time": "2022-06-07T00:34:36.145187",
     "exception": false,
     "start_time": "2022-06-07T00:34:36.109487",
     "status": "completed"
    },
    "tags": []
   },
   "outputs": [],
   "source": [
    "#hide\n",
    "# g = g[cols]"
   ]
  },
  {
   "cell_type": "code",
   "execution_count": 39,
   "id": "structured-mobile",
   "metadata": {
    "execution": {
     "iopub.execute_input": "2022-06-07T00:34:36.209567Z",
     "iopub.status.busy": "2022-06-07T00:34:36.209004Z",
     "iopub.status.idle": "2022-06-07T00:34:36.212186Z",
     "shell.execute_reply": "2022-06-07T00:34:36.211727Z"
    },
    "papermill": {
     "duration": 0.036388,
     "end_time": "2022-06-07T00:34:36.212278",
     "exception": false,
     "start_time": "2022-06-07T00:34:36.175890",
     "status": "completed"
    },
    "tags": []
   },
   "outputs": [],
   "source": [
    "# #hide\n",
    "# g = g[g.group.notna()]"
   ]
  },
  {
   "cell_type": "code",
   "execution_count": 40,
   "id": "determined-closing",
   "metadata": {
    "execution": {
     "iopub.execute_input": "2022-06-07T00:34:36.277260Z",
     "iopub.status.busy": "2022-06-07T00:34:36.276684Z",
     "iopub.status.idle": "2022-06-07T00:34:36.279176Z",
     "shell.execute_reply": "2022-06-07T00:34:36.278706Z"
    },
    "papermill": {
     "duration": 0.036154,
     "end_time": "2022-06-07T00:34:36.279290",
     "exception": false,
     "start_time": "2022-06-07T00:34:36.243136",
     "status": "completed"
    },
    "tags": []
   },
   "outputs": [],
   "source": [
    "# #hide\n",
    "# colors = dict(zip(\n",
    "#     [\"Oceania\", \"Europe\", \"Asia\", \"South America\", \"Middle East\", \"North America\", \"Africa\"],\n",
    "#     [\"#adb0ff\", \"#ffb3ff\", \"#90d595\", \"#e48381\", \"#aafbff\", \"#f7bb5f\", \"#eafb50\"]\n",
    "# ))\n",
    "# group_lk = g.set_index('name')['group'].to_dict()"
   ]
  },
  {
   "cell_type": "code",
   "execution_count": null,
   "id": "gross-drinking",
   "metadata": {
    "papermill": {
     "duration": 0.030608,
     "end_time": "2022-06-07T00:34:36.341058",
     "exception": false,
     "start_time": "2022-06-07T00:34:36.310450",
     "status": "completed"
    },
    "tags": []
   },
   "outputs": [],
   "source": []
  },
  {
   "cell_type": "code",
   "execution_count": 41,
   "id": "subject-macintosh",
   "metadata": {
    "execution": {
     "iopub.execute_input": "2022-06-07T00:34:36.406134Z",
     "iopub.status.busy": "2022-06-07T00:34:36.405506Z",
     "iopub.status.idle": "2022-06-07T00:34:36.407856Z",
     "shell.execute_reply": "2022-06-07T00:34:36.407329Z"
    },
    "papermill": {
     "duration": 0.036108,
     "end_time": "2022-06-07T00:34:36.407948",
     "exception": false,
     "start_time": "2022-06-07T00:34:36.371840",
     "status": "completed"
    },
    "tags": []
   },
   "outputs": [],
   "source": [
    "# #hide\n",
    "# fig, ax = plt.subplots(figsize=(15, 8))\n",
    "\n",
    "# def draw_barchart(current_day):\n",
    "#     dff = g[g['day'].eq(current_day)].sort_values(by='value', ascending=True).tail(10)\n",
    "#     ax.clear()\n",
    "#     ax.barh(dff['name'], dff['value'], color=[colors[group_lk[x]] for x in dff['name']])\n",
    "#     dx = dff['value'].max() / 200\n",
    "    \n",
    "#     for i, (value, name) in enumerate(zip(dff['value'], dff['name'])):\n",
    "#         ax.text(value-dx, i,     name,           size=14, weight=600, ha='right', va='bottom')\n",
    "#         ax.text(value-dx, i-.25, group_lk[name], size=10, color='#444444', ha='right', va='baseline')\n",
    "#         ax.text(value+dx, i,     f'{value:,.0f}',  size=14, ha='left',  va='center')\n",
    "#     ax.text(1, 0.4, current_day, transform=ax.transAxes, color='#777777', size=46, ha='right', weight=800)\n",
    "#     ax.text(0, 1.06, 'Population (thousands)', transform=ax.transAxes, size=12, color='#777777')\n",
    "#     ax.xaxis.set_major_formatter(ticker.StrMethodFormatter('{x:,.0f}'))\n",
    "#     ax.xaxis.set_ticks_position('top')\n",
    "#     ax.tick_params(axis='x', colors='#777777', labelsize=12)\n",
    "#     ax.set_yticks([])\n",
    "#     ax.margins(0, 0.01)\n",
    "#     ax.grid(which='major', axis='x', linestyle='-')\n",
    "#     ax.set_axisbelow(True)\n",
    "    \n",
    "#     ax.text(0, 1.15, 'Coronavirus',\n",
    "#             transform=ax.transAxes, size=24, weight=600, ha='left', va='top')\n",
    "# #     ax.text(1, 0, 'by @pratapvardhan; credit @jburnmurdoch', transform=ax.transAxes, color='#777777', ha='right',\n",
    "# #             bbox=dict(facecolor='white', alpha=0.8, edgecolor='white'))\n",
    "#     plt.box(False)"
   ]
  },
  {
   "cell_type": "code",
   "execution_count": 42,
   "id": "sexual-wages",
   "metadata": {
    "execution": {
     "iopub.execute_input": "2022-06-07T00:34:36.472591Z",
     "iopub.status.busy": "2022-06-07T00:34:36.472022Z",
     "iopub.status.idle": "2022-06-07T00:34:36.474432Z",
     "shell.execute_reply": "2022-06-07T00:34:36.473995Z"
    },
    "papermill": {
     "duration": 0.035863,
     "end_time": "2022-06-07T00:34:36.474522",
     "exception": false,
     "start_time": "2022-06-07T00:34:36.438659",
     "status": "completed"
    },
    "tags": []
   },
   "outputs": [],
   "source": [
    "# #hide_input\n",
    "# fig, ax = plt.subplots(figsize=(15, 8))\n",
    "# animator = animation.FuncAnimation(fig, draw_barchart, frames=range(g.day.values.min(), g.day.values.max()))\n",
    "# HTML(animator.to_jshtml())\n",
    "# # or use animator.to_html5_video() or animator.save() "
   ]
  },
  {
   "cell_type": "code",
   "execution_count": null,
   "id": "australian-container",
   "metadata": {
    "papermill": {
     "duration": 0.030976,
     "end_time": "2022-06-07T00:34:36.536378",
     "exception": false,
     "start_time": "2022-06-07T00:34:36.505402",
     "status": "completed"
    },
    "tags": []
   },
   "outputs": [],
   "source": []
  },
  {
   "cell_type": "code",
   "execution_count": null,
   "id": "mediterranean-pontiac",
   "metadata": {
    "papermill": {
     "duration": 0.030701,
     "end_time": "2022-06-07T00:34:36.597773",
     "exception": false,
     "start_time": "2022-06-07T00:34:36.567072",
     "status": "completed"
    },
    "tags": []
   },
   "outputs": [],
   "source": []
  },
  {
   "cell_type": "code",
   "execution_count": null,
   "id": "aging-legislature",
   "metadata": {
    "papermill": {
     "duration": 0.030674,
     "end_time": "2022-06-07T00:34:36.659410",
     "exception": false,
     "start_time": "2022-06-07T00:34:36.628736",
     "status": "completed"
    },
    "tags": []
   },
   "outputs": [],
   "source": []
  }
 ],
 "metadata": {
  "kernelspec": {
   "display_name": "Python 3",
   "language": "python",
   "name": "python3"
  },
  "language_info": {
   "codemirror_mode": {
    "name": "ipython",
    "version": 3
   },
   "file_extension": ".py",
   "mimetype": "text/x-python",
   "name": "python",
   "nbconvert_exporter": "python",
   "pygments_lexer": "ipython3",
   "version": "3.6.15"
  },
  "papermill": {
   "duration": 6.155787,
   "end_time": "2022-06-07T00:34:37.007794",
   "environment_variables": {},
   "exception": null,
   "input_path": "2020-03-21-covid19exp.ipynb",
   "output_path": "2020-03-21-covid19exp.ipynb",
   "parameters": {},
   "start_time": "2022-06-07T00:34:30.852007",
   "version": "2.0.0"
  }
 },
 "nbformat": 4,
 "nbformat_minor": 5
}