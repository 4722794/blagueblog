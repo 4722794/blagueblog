{
 "cells": [
  {
   "cell_type": "markdown",
   "id": "muslim-click",
   "metadata": {
    "papermill": {
     "duration": 0.046998,
     "end_time": "2021-06-16T00:21:11.493496",
     "exception": false,
     "start_time": "2021-06-16T00:21:11.446498",
     "status": "completed"
    },
    "tags": []
   },
   "source": [
    "# COVID-19 Case Race\n",
    "> A race chart to see rising cases around the world\n",
    "\n",
    "- author: Hargun Oberoi\n",
    "- image: images/covid-overview.png\n",
    "- hide: false\n",
    "- badges: false"
   ]
  },
  {
   "cell_type": "code",
   "execution_count": 1,
   "id": "proof-material",
   "metadata": {
    "execution": {
     "iopub.execute_input": "2021-06-16T00:21:11.587999Z",
     "iopub.status.busy": "2021-06-16T00:21:11.586960Z",
     "iopub.status.idle": "2021-06-16T00:21:12.001546Z",
     "shell.execute_reply": "2021-06-16T00:21:12.000910Z"
    },
    "papermill": {
     "duration": 0.469343,
     "end_time": "2021-06-16T00:21:12.001712",
     "exception": false,
     "start_time": "2021-06-16T00:21:11.532369",
     "status": "completed"
    },
    "tags": []
   },
   "outputs": [],
   "source": [
    "#hide\n",
    "import numpy as np\n",
    "import pandas as pd\n",
    "from jinja2 import Template\n",
    "from IPython.display import HTML"
   ]
  },
  {
   "cell_type": "code",
   "execution_count": 2,
   "id": "developed-terminology",
   "metadata": {
    "execution": {
     "iopub.execute_input": "2021-06-16T00:21:12.081314Z",
     "iopub.status.busy": "2021-06-16T00:21:12.080621Z",
     "iopub.status.idle": "2021-06-16T00:21:12.084280Z",
     "shell.execute_reply": "2021-06-16T00:21:12.083550Z"
    },
    "papermill": {
     "duration": 0.044557,
     "end_time": "2021-06-16T00:21:12.084532",
     "exception": false,
     "start_time": "2021-06-16T00:21:12.039975",
     "status": "completed"
    },
    "tags": []
   },
   "outputs": [],
   "source": [
    "#hide\n",
    "\n",
    "# FETCH\n",
    "base_url = 'https://raw.githubusercontent.com/pratapvardhan/notebooks/master/covid19/'\n",
    "paths = {\n",
    "    'mapping': base_url + 'mapping_countries.csv',\n",
    "    'overview': base_url + 'overview.tpl'\n",
    "}"
   ]
  },
  {
   "cell_type": "code",
   "execution_count": 3,
   "id": "dynamic-saver",
   "metadata": {
    "execution": {
     "iopub.execute_input": "2021-06-16T00:21:12.174835Z",
     "iopub.status.busy": "2021-06-16T00:21:12.174083Z",
     "iopub.status.idle": "2021-06-16T00:21:12.177526Z",
     "shell.execute_reply": "2021-06-16T00:21:12.176850Z"
    },
    "papermill": {
     "duration": 0.055213,
     "end_time": "2021-06-16T00:21:12.177653",
     "exception": false,
     "start_time": "2021-06-16T00:21:12.122440",
     "status": "completed"
    },
    "tags": []
   },
   "outputs": [
    {
     "data": {
      "text/plain": [
       "'https://raw.githubusercontent.com/pratapvardhan/notebooks/master/covid19/mapping_countries.csv'"
      ]
     },
     "execution_count": 3,
     "metadata": {},
     "output_type": "execute_result"
    }
   ],
   "source": [
    "#hide\n",
    "paths['mapping']"
   ]
  },
  {
   "cell_type": "code",
   "execution_count": 4,
   "id": "urban-software",
   "metadata": {
    "execution": {
     "iopub.execute_input": "2021-06-16T00:21:12.266046Z",
     "iopub.status.busy": "2021-06-16T00:21:12.265325Z",
     "iopub.status.idle": "2021-06-16T00:21:12.268014Z",
     "shell.execute_reply": "2021-06-16T00:21:12.267277Z"
    },
    "papermill": {
     "duration": 0.049243,
     "end_time": "2021-06-16T00:21:12.268171",
     "exception": false,
     "start_time": "2021-06-16T00:21:12.218928",
     "status": "completed"
    },
    "tags": []
   },
   "outputs": [],
   "source": [
    "#hide\n",
    "def get_mappings(url):\n",
    "    df = pd.read_csv(url)\n",
    "    return {\n",
    "        'df': df,\n",
    "        'replace.country': dict(df.dropna(subset=['Name']).set_index('Country')['Name']),\n",
    "        'map.continent': dict(df.set_index('Name')['Continent'])\n",
    "    }"
   ]
  },
  {
   "cell_type": "code",
   "execution_count": 5,
   "id": "intimate-machinery",
   "metadata": {
    "execution": {
     "iopub.execute_input": "2021-06-16T00:21:12.354295Z",
     "iopub.status.busy": "2021-06-16T00:21:12.353503Z",
     "iopub.status.idle": "2021-06-16T00:21:12.430679Z",
     "shell.execute_reply": "2021-06-16T00:21:12.431249Z"
    },
    "papermill": {
     "duration": 0.121847,
     "end_time": "2021-06-16T00:21:12.431418",
     "exception": false,
     "start_time": "2021-06-16T00:21:12.309571",
     "status": "completed"
    },
    "tags": []
   },
   "outputs": [],
   "source": [
    "#hide\n",
    "mapping = get_mappings(paths['mapping'])"
   ]
  },
  {
   "cell_type": "code",
   "execution_count": 6,
   "id": "certified-tactics",
   "metadata": {
    "execution": {
     "iopub.execute_input": "2021-06-16T00:21:12.514329Z",
     "iopub.status.busy": "2021-06-16T00:21:12.513669Z",
     "iopub.status.idle": "2021-06-16T00:21:12.516337Z",
     "shell.execute_reply": "2021-06-16T00:21:12.515566Z"
    },
    "papermill": {
     "duration": 0.046176,
     "end_time": "2021-06-16T00:21:12.516483",
     "exception": false,
     "start_time": "2021-06-16T00:21:12.470307",
     "status": "completed"
    },
    "tags": []
   },
   "outputs": [],
   "source": [
    "#hide\n",
    "def get_template(path):\n",
    "    from urllib.parse import urlparse\n",
    "    if bool(urlparse(path).netloc):\n",
    "        from urllib.request import urlopen\n",
    "        return urlopen(path).read().decode('utf8')\n",
    "    return open(path).read()"
   ]
  },
  {
   "cell_type": "code",
   "execution_count": 7,
   "id": "realistic-blast",
   "metadata": {
    "execution": {
     "iopub.execute_input": "2021-06-16T00:21:12.600584Z",
     "iopub.status.busy": "2021-06-16T00:21:12.599923Z",
     "iopub.status.idle": "2021-06-16T00:21:12.602389Z",
     "shell.execute_reply": "2021-06-16T00:21:12.601691Z"
    },
    "papermill": {
     "duration": 0.04866,
     "end_time": "2021-06-16T00:21:12.602902",
     "exception": false,
     "start_time": "2021-06-16T00:21:12.554242",
     "status": "completed"
    },
    "tags": []
   },
   "outputs": [],
   "source": [
    "#hide\n",
    "def get_frame(name):\n",
    "    url = (\n",
    "        'https://raw.githubusercontent.com/CSSEGISandData/COVID-19/master/csse_covid_19_data/'\n",
    "        f'csse_covid_19_time_series/time_series_covid19_{name}_global.csv')\n",
    "    df = pd.read_csv(url)\n",
    "    # rename countries\n",
    "    df['Country/Region'] = df['Country/Region'].replace(mapping['replace.country'])\n",
    "    return df"
   ]
  },
  {
   "cell_type": "code",
   "execution_count": 8,
   "id": "affiliated-characterization",
   "metadata": {
    "execution": {
     "iopub.execute_input": "2021-06-16T00:21:12.685652Z",
     "iopub.status.busy": "2021-06-16T00:21:12.684928Z",
     "iopub.status.idle": "2021-06-16T00:21:12.688363Z",
     "shell.execute_reply": "2021-06-16T00:21:12.688944Z"
    },
    "papermill": {
     "duration": 0.048677,
     "end_time": "2021-06-16T00:21:12.689095",
     "exception": false,
     "start_time": "2021-06-16T00:21:12.640418",
     "status": "completed"
    },
    "tags": []
   },
   "outputs": [],
   "source": [
    "#hide\n",
    "def get_dates(df):\n",
    "    dt_cols = df.columns[~df.columns.isin(['Province/State', 'Country/Region', 'Lat', 'Long'])]\n",
    "    LAST_DATE_I = -1\n",
    "    # sometimes last column may be empty, then go backwards\n",
    "    for i in range(-1, -len(dt_cols), -1):\n",
    "        if not df[dt_cols[i]].fillna(0).eq(0).all():\n",
    "            LAST_DATE_I = i\n",
    "            break\n",
    "    return LAST_DATE_I, dt_cols"
   ]
  },
  {
   "cell_type": "code",
   "execution_count": 9,
   "id": "recent-optimization",
   "metadata": {
    "execution": {
     "iopub.execute_input": "2021-06-16T00:21:12.781795Z",
     "iopub.status.busy": "2021-06-16T00:21:12.781069Z",
     "iopub.status.idle": "2021-06-16T00:21:13.304978Z",
     "shell.execute_reply": "2021-06-16T00:21:13.304355Z"
    },
    "papermill": {
     "duration": 0.579287,
     "end_time": "2021-06-16T00:21:13.305152",
     "exception": false,
     "start_time": "2021-06-16T00:21:12.725865",
     "status": "completed"
    },
    "tags": []
   },
   "outputs": [],
   "source": [
    "#hide\n",
    "COL_REGION = 'Country/Region'\n",
    "# Confirmed, Recovered, Deaths\n",
    "df = get_frame('confirmed')\n",
    "# dft_: timeseries, dfc_: today country agg\n",
    "dft_cases = df\n",
    "dft_deaths = get_frame('deaths')\n",
    "dft_recovered = get_frame('recovered')\n",
    "LAST_DATE_I, dt_cols = get_dates(df)"
   ]
  },
  {
   "cell_type": "code",
   "execution_count": 10,
   "id": "absolute-copper",
   "metadata": {
    "execution": {
     "iopub.execute_input": "2021-06-16T00:21:13.393801Z",
     "iopub.status.busy": "2021-06-16T00:21:13.393165Z",
     "iopub.status.idle": "2021-06-16T00:21:13.396002Z",
     "shell.execute_reply": "2021-06-16T00:21:13.395387Z"
    },
    "papermill": {
     "duration": 0.047713,
     "end_time": "2021-06-16T00:21:13.396171",
     "exception": false,
     "start_time": "2021-06-16T00:21:13.348458",
     "status": "completed"
    },
    "tags": []
   },
   "outputs": [],
   "source": [
    "#hide\n",
    "LAST_DATE_I, dt_cols = get_dates(df)\n",
    "dt_today =dt_cols[LAST_DATE_I]\n",
    "# dt_5day = dt_cols[LAST_DATE_I - 5]\n",
    "dt_yday = dt_cols[LAST_DATE_I - 1]"
   ]
  },
  {
   "cell_type": "code",
   "execution_count": 11,
   "id": "restricted-sheriff",
   "metadata": {
    "execution": {
     "iopub.execute_input": "2021-06-16T00:21:13.481356Z",
     "iopub.status.busy": "2021-06-16T00:21:13.480665Z",
     "iopub.status.idle": "2021-06-16T00:21:13.486704Z",
     "shell.execute_reply": "2021-06-16T00:21:13.487244Z"
    },
    "papermill": {
     "duration": 0.054429,
     "end_time": "2021-06-16T00:21:13.487403",
     "exception": false,
     "start_time": "2021-06-16T00:21:13.432974",
     "status": "completed"
    },
    "tags": []
   },
   "outputs": [],
   "source": [
    "#hide\n",
    "dfc_cases = dft_cases.groupby(COL_REGION)[dt_today].sum()\n",
    "dfc_deaths = dft_deaths.groupby(COL_REGION)[dt_today].sum()\n",
    "# dfp_cases = dft_cases.groupby(COL_REGION)[dt_5day].sum()\n",
    "# dfp_deaths = dft_deaths.groupby(COL_REGION)[dt_5day].sum()\n",
    "dfp_cases = dft_cases.groupby(COL_REGION)[dt_yday].sum()\n",
    "dfp_deaths = dft_deaths.groupby(COL_REGION)[dt_yday].sum()"
   ]
  },
  {
   "cell_type": "code",
   "execution_count": 12,
   "id": "deluxe-hepatitis",
   "metadata": {
    "execution": {
     "iopub.execute_input": "2021-06-16T00:21:13.572963Z",
     "iopub.status.busy": "2021-06-16T00:21:13.572293Z",
     "iopub.status.idle": "2021-06-16T00:21:13.579866Z",
     "shell.execute_reply": "2021-06-16T00:21:13.579275Z"
    },
    "papermill": {
     "duration": 0.053971,
     "end_time": "2021-06-16T00:21:13.580017",
     "exception": false,
     "start_time": "2021-06-16T00:21:13.526046",
     "status": "completed"
    },
    "tags": []
   },
   "outputs": [],
   "source": [
    "#hide\n",
    "df_table = (pd.DataFrame(dict(Cases = dfc_cases, Deaths = dfc_deaths, PCases = dfp_cases, PDeaths = dfp_deaths))\n",
    "            .sort_values(by = ['Cases','Deaths'], ascending = [False, False])\n",
    "            .reset_index())"
   ]
  },
  {
   "cell_type": "code",
   "execution_count": 13,
   "id": "educational-chancellor",
   "metadata": {
    "execution": {
     "iopub.execute_input": "2021-06-16T00:21:13.675701Z",
     "iopub.status.busy": "2021-06-16T00:21:13.674904Z",
     "iopub.status.idle": "2021-06-16T00:21:13.685026Z",
     "shell.execute_reply": "2021-06-16T00:21:13.684504Z"
    },
    "papermill": {
     "duration": 0.066064,
     "end_time": "2021-06-16T00:21:13.685157",
     "exception": false,
     "start_time": "2021-06-16T00:21:13.619093",
     "status": "completed"
    },
    "tags": []
   },
   "outputs": [
    {
     "data": {
      "text/html": [
       "<div>\n",
       "<style scoped>\n",
       "    .dataframe tbody tr th:only-of-type {\n",
       "        vertical-align: middle;\n",
       "    }\n",
       "\n",
       "    .dataframe tbody tr th {\n",
       "        vertical-align: top;\n",
       "    }\n",
       "\n",
       "    .dataframe thead th {\n",
       "        text-align: right;\n",
       "    }\n",
       "</style>\n",
       "<table border=\"1\" class=\"dataframe\">\n",
       "  <thead>\n",
       "    <tr style=\"text-align: right;\">\n",
       "      <th></th>\n",
       "      <th>Country/Region</th>\n",
       "      <th>Cases</th>\n",
       "      <th>Deaths</th>\n",
       "      <th>PCases</th>\n",
       "      <th>PDeaths</th>\n",
       "      <th>Cases (+)</th>\n",
       "      <th>Deaths (+)</th>\n",
       "      <th>Fatality Rate</th>\n",
       "      <th>Continent</th>\n",
       "    </tr>\n",
       "  </thead>\n",
       "  <tbody>\n",
       "    <tr>\n",
       "      <th>0</th>\n",
       "      <td>US</td>\n",
       "      <td>33474734</td>\n",
       "      <td>599946</td>\n",
       "      <td>33461982</td>\n",
       "      <td>599775</td>\n",
       "      <td>12752</td>\n",
       "      <td>171</td>\n",
       "      <td>1.79</td>\n",
       "      <td>North America</td>\n",
       "    </tr>\n",
       "    <tr>\n",
       "      <th>1</th>\n",
       "      <td>India</td>\n",
       "      <td>29570881</td>\n",
       "      <td>377031</td>\n",
       "      <td>29510410</td>\n",
       "      <td>374305</td>\n",
       "      <td>60471</td>\n",
       "      <td>2726</td>\n",
       "      <td>1.28</td>\n",
       "      <td>Asia</td>\n",
       "    </tr>\n",
       "    <tr>\n",
       "      <th>2</th>\n",
       "      <td>Brazil</td>\n",
       "      <td>17452612</td>\n",
       "      <td>488228</td>\n",
       "      <td>17412766</td>\n",
       "      <td>487401</td>\n",
       "      <td>39846</td>\n",
       "      <td>827</td>\n",
       "      <td>2.80</td>\n",
       "      <td>South America</td>\n",
       "    </tr>\n",
       "    <tr>\n",
       "      <th>3</th>\n",
       "      <td>France</td>\n",
       "      <td>5803012</td>\n",
       "      <td>110616</td>\n",
       "      <td>5802314</td>\n",
       "      <td>110553</td>\n",
       "      <td>698</td>\n",
       "      <td>63</td>\n",
       "      <td>1.91</td>\n",
       "      <td>Europe</td>\n",
       "    </tr>\n",
       "    <tr>\n",
       "      <th>4</th>\n",
       "      <td>Turkey</td>\n",
       "      <td>5336073</td>\n",
       "      <td>48795</td>\n",
       "      <td>5330447</td>\n",
       "      <td>48721</td>\n",
       "      <td>5626</td>\n",
       "      <td>74</td>\n",
       "      <td>0.91</td>\n",
       "      <td>Asia</td>\n",
       "    </tr>\n",
       "  </tbody>\n",
       "</table>\n",
       "</div>"
      ],
      "text/plain": [
       "  Country/Region     Cases  Deaths    PCases  PDeaths  Cases (+)  Deaths (+)  \\\n",
       "0             US  33474734  599946  33461982   599775      12752         171   \n",
       "1          India  29570881  377031  29510410   374305      60471        2726   \n",
       "2         Brazil  17452612  488228  17412766   487401      39846         827   \n",
       "3         France   5803012  110616   5802314   110553        698          63   \n",
       "4         Turkey   5336073   48795   5330447    48721       5626          74   \n",
       "\n",
       "   Fatality Rate      Continent  \n",
       "0           1.79  North America  \n",
       "1           1.28           Asia  \n",
       "2           2.80  South America  \n",
       "3           1.91         Europe  \n",
       "4           0.91           Asia  "
      ]
     },
     "execution_count": 13,
     "metadata": {},
     "output_type": "execute_result"
    }
   ],
   "source": [
    "#hide\n",
    "for c in 'Cases, Deaths'.split(', '):\n",
    "    df_table[f'{c} (+)'] = (df_table[c] - df_table[f'P{c}']).clip(0)\n",
    "    #Clip ça veut dire, les chiffres negatif sont interdit\n",
    "df_table['Fatality Rate'] = (100* df_table['Deaths']/ df_table['Cases']).round(2)\n",
    "df_table['Continent'] = df_table['Country/Region'].map(mapping['map.continent'])\n",
    "df_table.head(5)"
   ]
  },
  {
   "cell_type": "code",
   "execution_count": 14,
   "id": "aboriginal-bulgaria",
   "metadata": {
    "execution": {
     "iopub.execute_input": "2021-06-16T00:21:13.762522Z",
     "iopub.status.busy": "2021-06-16T00:21:13.761883Z",
     "iopub.status.idle": "2021-06-16T00:21:13.763902Z",
     "shell.execute_reply": "2021-06-16T00:21:13.764483Z"
    },
    "papermill": {
     "duration": 0.043511,
     "end_time": "2021-06-16T00:21:13.764622",
     "exception": false,
     "start_time": "2021-06-16T00:21:13.721111",
     "status": "completed"
    },
    "tags": []
   },
   "outputs": [],
   "source": [
    "#hide\n",
    "#delete problematic countries from table\n",
    "df_table = df_table[~df_table['Country/Region'].isin(['Cape Verde', 'Cruise Ship', 'Kosovo'])]"
   ]
  },
  {
   "cell_type": "code",
   "execution_count": 15,
   "id": "fantastic-effect",
   "metadata": {
    "execution": {
     "iopub.execute_input": "2021-06-16T00:21:13.850261Z",
     "iopub.status.busy": "2021-06-16T00:21:13.849589Z",
     "iopub.status.idle": "2021-06-16T00:21:13.872148Z",
     "shell.execute_reply": "2021-06-16T00:21:13.872692Z"
    },
    "papermill": {
     "duration": 0.070216,
     "end_time": "2021-06-16T00:21:13.872867",
     "exception": false,
     "start_time": "2021-06-16T00:21:13.802651",
     "status": "completed"
    },
    "tags": []
   },
   "outputs": [
    {
     "data": {
      "text/html": [
       "<div>\n",
       "<style scoped>\n",
       "    .dataframe tbody tr th:only-of-type {\n",
       "        vertical-align: middle;\n",
       "    }\n",
       "\n",
       "    .dataframe tbody tr th {\n",
       "        vertical-align: top;\n",
       "    }\n",
       "\n",
       "    .dataframe thead th {\n",
       "        text-align: right;\n",
       "    }\n",
       "</style>\n",
       "<table border=\"1\" class=\"dataframe\">\n",
       "  <thead>\n",
       "    <tr style=\"text-align: right;\">\n",
       "      <th></th>\n",
       "      <th>Country/Region</th>\n",
       "      <th>Cases</th>\n",
       "      <th>Deaths</th>\n",
       "      <th>PCases</th>\n",
       "      <th>PDeaths</th>\n",
       "      <th>Cases (+)</th>\n",
       "      <th>Deaths (+)</th>\n",
       "      <th>Fatality Rate</th>\n",
       "      <th>Continent</th>\n",
       "    </tr>\n",
       "  </thead>\n",
       "  <tbody>\n",
       "    <tr>\n",
       "      <th>0</th>\n",
       "      <td>US</td>\n",
       "      <td>33474734</td>\n",
       "      <td>599946</td>\n",
       "      <td>33461982</td>\n",
       "      <td>599775</td>\n",
       "      <td>12752</td>\n",
       "      <td>171</td>\n",
       "      <td>1.8</td>\n",
       "      <td>North America</td>\n",
       "    </tr>\n",
       "    <tr>\n",
       "      <th>1</th>\n",
       "      <td>India</td>\n",
       "      <td>29570881</td>\n",
       "      <td>377031</td>\n",
       "      <td>29510410</td>\n",
       "      <td>374305</td>\n",
       "      <td>60471</td>\n",
       "      <td>2726</td>\n",
       "      <td>1.3</td>\n",
       "      <td>Asia</td>\n",
       "    </tr>\n",
       "    <tr>\n",
       "      <th>2</th>\n",
       "      <td>Brazil</td>\n",
       "      <td>17452612</td>\n",
       "      <td>488228</td>\n",
       "      <td>17412766</td>\n",
       "      <td>487401</td>\n",
       "      <td>39846</td>\n",
       "      <td>827</td>\n",
       "      <td>2.8</td>\n",
       "      <td>South America</td>\n",
       "    </tr>\n",
       "    <tr>\n",
       "      <th>3</th>\n",
       "      <td>France</td>\n",
       "      <td>5803012</td>\n",
       "      <td>110616</td>\n",
       "      <td>5802314</td>\n",
       "      <td>110553</td>\n",
       "      <td>698</td>\n",
       "      <td>63</td>\n",
       "      <td>1.9</td>\n",
       "      <td>Europe</td>\n",
       "    </tr>\n",
       "    <tr>\n",
       "      <th>4</th>\n",
       "      <td>Turkey</td>\n",
       "      <td>5336073</td>\n",
       "      <td>48795</td>\n",
       "      <td>5330447</td>\n",
       "      <td>48721</td>\n",
       "      <td>5626</td>\n",
       "      <td>74</td>\n",
       "      <td>0.9</td>\n",
       "      <td>Asia</td>\n",
       "    </tr>\n",
       "  </tbody>\n",
       "</table>\n",
       "</div>"
      ],
      "text/plain": [
       "  Country/Region     Cases  Deaths    PCases  PDeaths  Cases (+)  Deaths (+)  \\\n",
       "0             US  33474734  599946  33461982   599775      12752         171   \n",
       "1          India  29570881  377031  29510410   374305      60471        2726   \n",
       "2         Brazil  17452612  488228  17412766   487401      39846         827   \n",
       "3         France   5803012  110616   5802314   110553        698          63   \n",
       "4         Turkey   5336073   48795   5330447    48721       5626          74   \n",
       "\n",
       "   Fatality Rate      Continent  \n",
       "0            1.8  North America  \n",
       "1            1.3           Asia  \n",
       "2            2.8  South America  \n",
       "3            1.9         Europe  \n",
       "4            0.9           Asia  "
      ]
     },
     "execution_count": 15,
     "metadata": {},
     "output_type": "execute_result"
    }
   ],
   "source": [
    "#hide\n",
    "df_table = (pd.DataFrame(dict(Cases=dfc_cases, Deaths=dfc_deaths, PCases=dfp_cases, PDeaths=dfp_deaths))\n",
    "             .sort_values(by=['Cases', 'Deaths'], ascending=[False, False])\n",
    "             .reset_index())\n",
    "df_table.rename(columns={'index': 'Country/Region'}, inplace=True)\n",
    "for c in 'Cases, Deaths'.split(', '):\n",
    "    df_table[f'{c} (+)'] = (df_table[c] - df_table[f'P{c}']).clip(0)  # DATA BUG\n",
    "df_table['Fatality Rate'] = (100 * df_table['Deaths'] / df_table['Cases']).round(1)\n",
    "df_table['Continent'] = df_table['Country/Region'].map(mapping['map.continent'])\n",
    "df_table.head(5)"
   ]
  },
  {
   "cell_type": "code",
   "execution_count": 16,
   "id": "fewer-occasion",
   "metadata": {
    "execution": {
     "iopub.execute_input": "2021-06-16T00:21:13.957801Z",
     "iopub.status.busy": "2021-06-16T00:21:13.957030Z",
     "iopub.status.idle": "2021-06-16T00:21:13.959689Z",
     "shell.execute_reply": "2021-06-16T00:21:13.960273Z"
    },
    "papermill": {
     "duration": 0.048075,
     "end_time": "2021-06-16T00:21:13.960433",
     "exception": false,
     "start_time": "2021-06-16T00:21:13.912358",
     "status": "completed"
    },
    "tags": []
   },
   "outputs": [],
   "source": [
    "#hide\n",
    "#delete problematic countries from table\n",
    "df_table = df_table[~df_table['Country/Region'].isin(['Cape Verde', 'Cruise Ship', 'Kosovo'])]"
   ]
  },
  {
   "cell_type": "code",
   "execution_count": 17,
   "id": "related-center",
   "metadata": {
    "execution": {
     "iopub.execute_input": "2021-06-16T00:21:14.057113Z",
     "iopub.status.busy": "2021-06-16T00:21:14.056424Z",
     "iopub.status.idle": "2021-06-16T00:21:14.059060Z",
     "shell.execute_reply": "2021-06-16T00:21:14.058455Z"
    },
    "papermill": {
     "duration": 0.060357,
     "end_time": "2021-06-16T00:21:14.059196",
     "exception": false,
     "start_time": "2021-06-16T00:21:13.998839",
     "status": "completed"
    },
    "tags": []
   },
   "outputs": [],
   "source": [
    "#hide\n",
    "metrics = [df_table.columns[index] for index in [1,2,5,6]]\n",
    "# s_china = df_table[df_table['Country/Region'].eq('China')][metrics].sum().add_prefix('China ')\n",
    "s_us = df_table[df_table['Country/Region'].eq('US')][metrics].sum().add_prefix('US ')\n",
    "s_eu = df_table[df_table['Continent'].eq('Europe')][metrics].sum().add_prefix('EU ')\n",
    "s_ind = df_table[df_table['Country/Region'].eq('India')][metrics].sum().add_prefix('India ')\n",
    "summary = {'updated': pd.to_datetime(dt_today), 'since': pd.to_datetime(dt_yday)}\n",
    "summary = {'updated': pd.to_datetime(dt_today), 'since': pd.to_datetime(dt_yday)}\n",
    "summary = {**summary, **df_table[metrics].sum(), **s_ind, **s_us, **s_eu}"
   ]
  },
  {
   "cell_type": "code",
   "execution_count": 18,
   "id": "engaging-syndrome",
   "metadata": {
    "execution": {
     "iopub.execute_input": "2021-06-16T00:21:14.146387Z",
     "iopub.status.busy": "2021-06-16T00:21:14.145717Z",
     "iopub.status.idle": "2021-06-16T00:21:14.159599Z",
     "shell.execute_reply": "2021-06-16T00:21:14.160304Z"
    },
    "papermill": {
     "duration": 0.060474,
     "end_time": "2021-06-16T00:21:14.160487",
     "exception": false,
     "start_time": "2021-06-16T00:21:14.100013",
     "status": "completed"
    },
    "tags": []
   },
   "outputs": [],
   "source": [
    "#hide\n",
    "dft_ct_new_cases = dft_cases.groupby(COL_REGION)[dt_cols].sum().diff(axis=1).fillna(0).astype(int)"
   ]
  },
  {
   "cell_type": "code",
   "execution_count": 19,
   "id": "neutral-assignment",
   "metadata": {
    "execution": {
     "iopub.execute_input": "2021-06-16T00:21:14.259689Z",
     "iopub.status.busy": "2021-06-16T00:21:14.258989Z",
     "iopub.status.idle": "2021-06-16T00:21:14.262022Z",
     "shell.execute_reply": "2021-06-16T00:21:14.261277Z"
    },
    "papermill": {
     "duration": 0.055411,
     "end_time": "2021-06-16T00:21:14.262170",
     "exception": false,
     "start_time": "2021-06-16T00:21:14.206759",
     "status": "completed"
    },
    "tags": []
   },
   "outputs": [],
   "source": [
    "#hide\n",
    "everydaycases = dft_ct_new_cases.cumsum(axis=1)"
   ]
  },
  {
   "cell_type": "code",
   "execution_count": 20,
   "id": "parliamentary-calgary",
   "metadata": {
    "execution": {
     "iopub.execute_input": "2021-06-16T00:21:14.346995Z",
     "iopub.status.busy": "2021-06-16T00:21:14.346322Z",
     "iopub.status.idle": "2021-06-16T00:21:15.022647Z",
     "shell.execute_reply": "2021-06-16T00:21:15.023223Z"
    },
    "papermill": {
     "duration": 0.720935,
     "end_time": "2021-06-16T00:21:15.023395",
     "exception": false,
     "start_time": "2021-06-16T00:21:14.302460",
     "status": "completed"
    },
    "tags": []
   },
   "outputs": [],
   "source": [
    "#hide\n",
    "import pandas as pd\n",
    "import matplotlib.pyplot as plt\n",
    "import matplotlib.ticker as ticker\n",
    "import matplotlib.animation as animation\n",
    "from IPython.display import HTML"
   ]
  },
  {
   "cell_type": "code",
   "execution_count": 21,
   "id": "lasting-extraction",
   "metadata": {
    "execution": {
     "iopub.execute_input": "2021-06-16T00:21:15.114112Z",
     "iopub.status.busy": "2021-06-16T00:21:15.113482Z",
     "iopub.status.idle": "2021-06-16T00:21:15.118928Z",
     "shell.execute_reply": "2021-06-16T00:21:15.119497Z"
    },
    "papermill": {
     "duration": 0.05257,
     "end_time": "2021-06-16T00:21:15.119643",
     "exception": false,
     "start_time": "2021-06-16T00:21:15.067073",
     "status": "completed"
    },
    "tags": []
   },
   "outputs": [],
   "source": [
    "#hide\n",
    "t = everydaycases.stack()"
   ]
  },
  {
   "cell_type": "code",
   "execution_count": 22,
   "id": "premier-sleeve",
   "metadata": {
    "execution": {
     "iopub.execute_input": "2021-06-16T00:21:15.199530Z",
     "iopub.status.busy": "2021-06-16T00:21:15.198813Z",
     "iopub.status.idle": "2021-06-16T00:21:15.207236Z",
     "shell.execute_reply": "2021-06-16T00:21:15.207895Z"
    },
    "papermill": {
     "duration": 0.051625,
     "end_time": "2021-06-16T00:21:15.208055",
     "exception": false,
     "start_time": "2021-06-16T00:21:15.156430",
     "status": "completed"
    },
    "tags": []
   },
   "outputs": [],
   "source": [
    "#hide\n",
    "g = t.reset_index(['Country/Region'])"
   ]
  },
  {
   "cell_type": "code",
   "execution_count": 23,
   "id": "distributed-pittsburgh",
   "metadata": {
    "execution": {
     "iopub.execute_input": "2021-06-16T00:21:15.300190Z",
     "iopub.status.busy": "2021-06-16T00:21:15.299557Z",
     "iopub.status.idle": "2021-06-16T00:21:15.302099Z",
     "shell.execute_reply": "2021-06-16T00:21:15.301590Z"
    },
    "papermill": {
     "duration": 0.051439,
     "end_time": "2021-06-16T00:21:15.302305",
     "exception": false,
     "start_time": "2021-06-16T00:21:15.250866",
     "status": "completed"
    },
    "tags": []
   },
   "outputs": [],
   "source": [
    "#hide\n",
    "g.index.name = 'date'"
   ]
  },
  {
   "cell_type": "code",
   "execution_count": 24,
   "id": "naked-donor",
   "metadata": {
    "execution": {
     "iopub.execute_input": "2021-06-16T00:21:15.382086Z",
     "iopub.status.busy": "2021-06-16T00:21:15.380595Z",
     "iopub.status.idle": "2021-06-16T00:21:15.382875Z",
     "shell.execute_reply": "2021-06-16T00:21:15.383833Z"
    },
    "papermill": {
     "duration": 0.04539,
     "end_time": "2021-06-16T00:21:15.384010",
     "exception": false,
     "start_time": "2021-06-16T00:21:15.338620",
     "status": "completed"
    },
    "tags": []
   },
   "outputs": [],
   "source": [
    "# #hide\n",
    "# g = g.reset_index(['date'])"
   ]
  },
  {
   "cell_type": "code",
   "execution_count": 25,
   "id": "incomplete-mustang",
   "metadata": {
    "execution": {
     "iopub.execute_input": "2021-06-16T00:21:15.471902Z",
     "iopub.status.busy": "2021-06-16T00:21:15.471250Z",
     "iopub.status.idle": "2021-06-16T00:21:15.473241Z",
     "shell.execute_reply": "2021-06-16T00:21:15.473723Z"
    },
    "papermill": {
     "duration": 0.049338,
     "end_time": "2021-06-16T00:21:15.473878",
     "exception": false,
     "start_time": "2021-06-16T00:21:15.424540",
     "status": "completed"
    },
    "tags": []
   },
   "outputs": [],
   "source": [
    "#hide\n",
    "# g.head()"
   ]
  },
  {
   "cell_type": "code",
   "execution_count": 26,
   "id": "specific-kruger",
   "metadata": {
    "execution": {
     "iopub.execute_input": "2021-06-16T00:21:15.559824Z",
     "iopub.status.busy": "2021-06-16T00:21:15.559148Z",
     "iopub.status.idle": "2021-06-16T00:21:15.561284Z",
     "shell.execute_reply": "2021-06-16T00:21:15.561905Z"
    },
    "papermill": {
     "duration": 0.046745,
     "end_time": "2021-06-16T00:21:15.562054",
     "exception": false,
     "start_time": "2021-06-16T00:21:15.515309",
     "status": "completed"
    },
    "tags": []
   },
   "outputs": [],
   "source": [
    "#hide\n",
    "# g.columns = ['date','country','cases']"
   ]
  },
  {
   "cell_type": "code",
   "execution_count": 27,
   "id": "tender-conversion",
   "metadata": {
    "execution": {
     "iopub.execute_input": "2021-06-16T00:21:15.646113Z",
     "iopub.status.busy": "2021-06-16T00:21:15.645344Z",
     "iopub.status.idle": "2021-06-16T00:21:15.648102Z",
     "shell.execute_reply": "2021-06-16T00:21:15.647498Z"
    },
    "papermill": {
     "duration": 0.046712,
     "end_time": "2021-06-16T00:21:15.648227",
     "exception": false,
     "start_time": "2021-06-16T00:21:15.601515",
     "status": "completed"
    },
    "tags": []
   },
   "outputs": [],
   "source": [
    "#hide\n",
    "# g['continent'] = g.country"
   ]
  },
  {
   "cell_type": "code",
   "execution_count": 28,
   "id": "substantial-wilderness",
   "metadata": {
    "execution": {
     "iopub.execute_input": "2021-06-16T00:21:15.732229Z",
     "iopub.status.busy": "2021-06-16T00:21:15.731595Z",
     "iopub.status.idle": "2021-06-16T00:21:15.733674Z",
     "shell.execute_reply": "2021-06-16T00:21:15.734199Z"
    },
    "papermill": {
     "duration": 0.046905,
     "end_time": "2021-06-16T00:21:15.734340",
     "exception": false,
     "start_time": "2021-06-16T00:21:15.687435",
     "status": "completed"
    },
    "tags": []
   },
   "outputs": [],
   "source": [
    "#hide\n",
    "# cols = list(g.columns.values)"
   ]
  },
  {
   "cell_type": "code",
   "execution_count": 29,
   "id": "solved-farming",
   "metadata": {
    "execution": {
     "iopub.execute_input": "2021-06-16T00:21:15.815323Z",
     "iopub.status.busy": "2021-06-16T00:21:15.814681Z",
     "iopub.status.idle": "2021-06-16T00:21:15.817076Z",
     "shell.execute_reply": "2021-06-16T00:21:15.816451Z"
    },
    "papermill": {
     "duration": 0.045233,
     "end_time": "2021-06-16T00:21:15.817198",
     "exception": false,
     "start_time": "2021-06-16T00:21:15.771965",
     "status": "completed"
    },
    "tags": []
   },
   "outputs": [],
   "source": [
    "#hide\n",
    "# cols.insert(0, cols.pop())"
   ]
  },
  {
   "cell_type": "code",
   "execution_count": 30,
   "id": "executed-adoption",
   "metadata": {
    "execution": {
     "iopub.execute_input": "2021-06-16T00:21:15.897868Z",
     "iopub.status.busy": "2021-06-16T00:21:15.896953Z",
     "iopub.status.idle": "2021-06-16T00:21:15.899334Z",
     "shell.execute_reply": "2021-06-16T00:21:15.900012Z"
    },
    "papermill": {
     "duration": 0.044485,
     "end_time": "2021-06-16T00:21:15.900194",
     "exception": false,
     "start_time": "2021-06-16T00:21:15.855709",
     "status": "completed"
    },
    "tags": []
   },
   "outputs": [],
   "source": [
    "#hide\n",
    "# g = g[cols]"
   ]
  },
  {
   "cell_type": "code",
   "execution_count": 31,
   "id": "subject-dublin",
   "metadata": {
    "execution": {
     "iopub.execute_input": "2021-06-16T00:21:15.983987Z",
     "iopub.status.busy": "2021-06-16T00:21:15.983360Z",
     "iopub.status.idle": "2021-06-16T00:21:15.985751Z",
     "shell.execute_reply": "2021-06-16T00:21:15.985131Z"
    },
    "papermill": {
     "duration": 0.045164,
     "end_time": "2021-06-16T00:21:15.985879",
     "exception": false,
     "start_time": "2021-06-16T00:21:15.940715",
     "status": "completed"
    },
    "tags": []
   },
   "outputs": [],
   "source": [
    "#hide\n",
    "# g['continent'] = g['continent'].map(mapping['map.continent'])"
   ]
  },
  {
   "cell_type": "code",
   "execution_count": 32,
   "id": "freelance-scout",
   "metadata": {
    "execution": {
     "iopub.execute_input": "2021-06-16T00:21:16.073739Z",
     "iopub.status.busy": "2021-06-16T00:21:16.073053Z",
     "iopub.status.idle": "2021-06-16T00:21:16.075920Z",
     "shell.execute_reply": "2021-06-16T00:21:16.076583Z"
    },
    "papermill": {
     "duration": 0.050375,
     "end_time": "2021-06-16T00:21:16.076754",
     "exception": false,
     "start_time": "2021-06-16T00:21:16.026379",
     "status": "completed"
    },
    "tags": []
   },
   "outputs": [],
   "source": [
    "#hide\n",
    "# g.head()"
   ]
  },
  {
   "cell_type": "code",
   "execution_count": 33,
   "id": "limited-engine",
   "metadata": {
    "execution": {
     "iopub.execute_input": "2021-06-16T00:21:16.164581Z",
     "iopub.status.busy": "2021-06-16T00:21:16.163913Z",
     "iopub.status.idle": "2021-06-16T00:21:16.166361Z",
     "shell.execute_reply": "2021-06-16T00:21:16.165717Z"
    },
    "papermill": {
     "duration": 0.048372,
     "end_time": "2021-06-16T00:21:16.166512",
     "exception": false,
     "start_time": "2021-06-16T00:21:16.118140",
     "status": "completed"
    },
    "tags": []
   },
   "outputs": [],
   "source": [
    "# hide\n",
    "# g['date'] = g['date'].astype('datetime64[ns]')"
   ]
  },
  {
   "cell_type": "code",
   "execution_count": 34,
   "id": "sophisticated-supervisor",
   "metadata": {
    "execution": {
     "iopub.execute_input": "2021-06-16T00:21:16.260851Z",
     "iopub.status.busy": "2021-06-16T00:21:16.260158Z",
     "iopub.status.idle": "2021-06-16T00:21:16.262905Z",
     "shell.execute_reply": "2021-06-16T00:21:16.262302Z"
    },
    "papermill": {
     "duration": 0.054861,
     "end_time": "2021-06-16T00:21:16.263057",
     "exception": false,
     "start_time": "2021-06-16T00:21:16.208196",
     "status": "completed"
    },
    "tags": []
   },
   "outputs": [],
   "source": [
    "#hide\n",
    "# g['date'] = g.date.dt.dayofyear"
   ]
  },
  {
   "cell_type": "code",
   "execution_count": 35,
   "id": "inside-dubai",
   "metadata": {
    "execution": {
     "iopub.execute_input": "2021-06-16T00:21:16.351356Z",
     "iopub.status.busy": "2021-06-16T00:21:16.350602Z",
     "iopub.status.idle": "2021-06-16T00:21:16.352426Z",
     "shell.execute_reply": "2021-06-16T00:21:16.353491Z"
    },
    "papermill": {
     "duration": 0.049191,
     "end_time": "2021-06-16T00:21:16.353648",
     "exception": false,
     "start_time": "2021-06-16T00:21:16.304457",
     "status": "completed"
    },
    "tags": []
   },
   "outputs": [],
   "source": [
    "#hide\n",
    "# g = g.rename(columns= {'continent':'group','country':'name','cases':'value'})"
   ]
  },
  {
   "cell_type": "code",
   "execution_count": 36,
   "id": "fleet-motorcycle",
   "metadata": {
    "execution": {
     "iopub.execute_input": "2021-06-16T00:21:16.436799Z",
     "iopub.status.busy": "2021-06-16T00:21:16.436042Z",
     "iopub.status.idle": "2021-06-16T00:21:16.438695Z",
     "shell.execute_reply": "2021-06-16T00:21:16.438003Z"
    },
    "papermill": {
     "duration": 0.046633,
     "end_time": "2021-06-16T00:21:16.438828",
     "exception": false,
     "start_time": "2021-06-16T00:21:16.392195",
     "status": "completed"
    },
    "tags": []
   },
   "outputs": [],
   "source": [
    "#hide\n",
    "# cols = ['name','group','day','value']"
   ]
  },
  {
   "cell_type": "code",
   "execution_count": 37,
   "id": "continued-sleeping",
   "metadata": {
    "execution": {
     "iopub.execute_input": "2021-06-16T00:21:16.521809Z",
     "iopub.status.busy": "2021-06-16T00:21:16.521117Z",
     "iopub.status.idle": "2021-06-16T00:21:16.524110Z",
     "shell.execute_reply": "2021-06-16T00:21:16.523174Z"
    },
    "papermill": {
     "duration": 0.045619,
     "end_time": "2021-06-16T00:21:16.524266",
     "exception": false,
     "start_time": "2021-06-16T00:21:16.478647",
     "status": "completed"
    },
    "tags": []
   },
   "outputs": [],
   "source": [
    "#hide\n",
    "# g.rename(columns= {'date':'day'},inplace = True)"
   ]
  },
  {
   "cell_type": "code",
   "execution_count": 38,
   "id": "major-fight",
   "metadata": {
    "execution": {
     "iopub.execute_input": "2021-06-16T00:21:16.608351Z",
     "iopub.status.busy": "2021-06-16T00:21:16.607665Z",
     "iopub.status.idle": "2021-06-16T00:21:16.610255Z",
     "shell.execute_reply": "2021-06-16T00:21:16.609699Z"
    },
    "papermill": {
     "duration": 0.046889,
     "end_time": "2021-06-16T00:21:16.610385",
     "exception": false,
     "start_time": "2021-06-16T00:21:16.563496",
     "status": "completed"
    },
    "tags": []
   },
   "outputs": [],
   "source": [
    "#hide\n",
    "# g = g[cols]"
   ]
  },
  {
   "cell_type": "code",
   "execution_count": 39,
   "id": "structured-mobile",
   "metadata": {
    "execution": {
     "iopub.execute_input": "2021-06-16T00:21:16.692294Z",
     "iopub.status.busy": "2021-06-16T00:21:16.691541Z",
     "iopub.status.idle": "2021-06-16T00:21:16.694107Z",
     "shell.execute_reply": "2021-06-16T00:21:16.693596Z"
    },
    "papermill": {
     "duration": 0.044037,
     "end_time": "2021-06-16T00:21:16.694247",
     "exception": false,
     "start_time": "2021-06-16T00:21:16.650210",
     "status": "completed"
    },
    "tags": []
   },
   "outputs": [],
   "source": [
    "# #hide\n",
    "# g = g[g.group.notna()]"
   ]
  },
  {
   "cell_type": "code",
   "execution_count": 40,
   "id": "determined-closing",
   "metadata": {
    "execution": {
     "iopub.execute_input": "2021-06-16T00:21:16.778107Z",
     "iopub.status.busy": "2021-06-16T00:21:16.777449Z",
     "iopub.status.idle": "2021-06-16T00:21:16.779448Z",
     "shell.execute_reply": "2021-06-16T00:21:16.779988Z"
    },
    "papermill": {
     "duration": 0.046155,
     "end_time": "2021-06-16T00:21:16.780147",
     "exception": false,
     "start_time": "2021-06-16T00:21:16.733992",
     "status": "completed"
    },
    "tags": []
   },
   "outputs": [],
   "source": [
    "# #hide\n",
    "# colors = dict(zip(\n",
    "#     [\"Oceania\", \"Europe\", \"Asia\", \"South America\", \"Middle East\", \"North America\", \"Africa\"],\n",
    "#     [\"#adb0ff\", \"#ffb3ff\", \"#90d595\", \"#e48381\", \"#aafbff\", \"#f7bb5f\", \"#eafb50\"]\n",
    "# ))\n",
    "# group_lk = g.set_index('name')['group'].to_dict()"
   ]
  },
  {
   "cell_type": "code",
   "execution_count": null,
   "id": "gross-drinking",
   "metadata": {
    "papermill": {
     "duration": 0.039064,
     "end_time": "2021-06-16T00:21:16.857452",
     "exception": false,
     "start_time": "2021-06-16T00:21:16.818388",
     "status": "completed"
    },
    "tags": []
   },
   "outputs": [],
   "source": []
  },
  {
   "cell_type": "code",
   "execution_count": 41,
   "id": "subject-macintosh",
   "metadata": {
    "execution": {
     "iopub.execute_input": "2021-06-16T00:21:16.942542Z",
     "iopub.status.busy": "2021-06-16T00:21:16.941873Z",
     "iopub.status.idle": "2021-06-16T00:21:16.944352Z",
     "shell.execute_reply": "2021-06-16T00:21:16.943796Z"
    },
    "papermill": {
     "duration": 0.048056,
     "end_time": "2021-06-16T00:21:16.944487",
     "exception": false,
     "start_time": "2021-06-16T00:21:16.896431",
     "status": "completed"
    },
    "tags": []
   },
   "outputs": [],
   "source": [
    "# #hide\n",
    "# fig, ax = plt.subplots(figsize=(15, 8))\n",
    "\n",
    "# def draw_barchart(current_day):\n",
    "#     dff = g[g['day'].eq(current_day)].sort_values(by='value', ascending=True).tail(10)\n",
    "#     ax.clear()\n",
    "#     ax.barh(dff['name'], dff['value'], color=[colors[group_lk[x]] for x in dff['name']])\n",
    "#     dx = dff['value'].max() / 200\n",
    "    \n",
    "#     for i, (value, name) in enumerate(zip(dff['value'], dff['name'])):\n",
    "#         ax.text(value-dx, i,     name,           size=14, weight=600, ha='right', va='bottom')\n",
    "#         ax.text(value-dx, i-.25, group_lk[name], size=10, color='#444444', ha='right', va='baseline')\n",
    "#         ax.text(value+dx, i,     f'{value:,.0f}',  size=14, ha='left',  va='center')\n",
    "#     ax.text(1, 0.4, current_day, transform=ax.transAxes, color='#777777', size=46, ha='right', weight=800)\n",
    "#     ax.text(0, 1.06, 'Population (thousands)', transform=ax.transAxes, size=12, color='#777777')\n",
    "#     ax.xaxis.set_major_formatter(ticker.StrMethodFormatter('{x:,.0f}'))\n",
    "#     ax.xaxis.set_ticks_position('top')\n",
    "#     ax.tick_params(axis='x', colors='#777777', labelsize=12)\n",
    "#     ax.set_yticks([])\n",
    "#     ax.margins(0, 0.01)\n",
    "#     ax.grid(which='major', axis='x', linestyle='-')\n",
    "#     ax.set_axisbelow(True)\n",
    "    \n",
    "#     ax.text(0, 1.15, 'Coronavirus',\n",
    "#             transform=ax.transAxes, size=24, weight=600, ha='left', va='top')\n",
    "# #     ax.text(1, 0, 'by @pratapvardhan; credit @jburnmurdoch', transform=ax.transAxes, color='#777777', ha='right',\n",
    "# #             bbox=dict(facecolor='white', alpha=0.8, edgecolor='white'))\n",
    "#     plt.box(False)"
   ]
  },
  {
   "cell_type": "code",
   "execution_count": 42,
   "id": "sexual-wages",
   "metadata": {
    "execution": {
     "iopub.execute_input": "2021-06-16T00:21:17.030103Z",
     "iopub.status.busy": "2021-06-16T00:21:17.029394Z",
     "iopub.status.idle": "2021-06-16T00:21:17.031105Z",
     "shell.execute_reply": "2021-06-16T00:21:17.031653Z"
    },
    "papermill": {
     "duration": 0.048678,
     "end_time": "2021-06-16T00:21:17.031804",
     "exception": false,
     "start_time": "2021-06-16T00:21:16.983126",
     "status": "completed"
    },
    "tags": []
   },
   "outputs": [],
   "source": [
    "# #hide_input\n",
    "# fig, ax = plt.subplots(figsize=(15, 8))\n",
    "# animator = animation.FuncAnimation(fig, draw_barchart, frames=range(g.day.values.min(), g.day.values.max()))\n",
    "# HTML(animator.to_jshtml())\n",
    "# # or use animator.to_html5_video() or animator.save() "
   ]
  },
  {
   "cell_type": "code",
   "execution_count": null,
   "id": "australian-container",
   "metadata": {
    "papermill": {
     "duration": 0.038901,
     "end_time": "2021-06-16T00:21:17.111067",
     "exception": false,
     "start_time": "2021-06-16T00:21:17.072166",
     "status": "completed"
    },
    "tags": []
   },
   "outputs": [],
   "source": []
  },
  {
   "cell_type": "code",
   "execution_count": null,
   "id": "mediterranean-pontiac",
   "metadata": {
    "papermill": {
     "duration": 0.038012,
     "end_time": "2021-06-16T00:21:17.188673",
     "exception": false,
     "start_time": "2021-06-16T00:21:17.150661",
     "status": "completed"
    },
    "tags": []
   },
   "outputs": [],
   "source": []
  },
  {
   "cell_type": "code",
   "execution_count": null,
   "id": "aging-legislature",
   "metadata": {
    "papermill": {
     "duration": 0.042097,
     "end_time": "2021-06-16T00:21:17.270059",
     "exception": false,
     "start_time": "2021-06-16T00:21:17.227962",
     "status": "completed"
    },
    "tags": []
   },
   "outputs": [],
   "source": []
  }
 ],
 "metadata": {
  "kernelspec": {
   "display_name": "Python 3",
   "language": "python",
   "name": "python3"
  },
  "language_info": {
   "codemirror_mode": {
    "name": "ipython",
    "version": 3
   },
   "file_extension": ".py",
   "mimetype": "text/x-python",
   "name": "python",
   "nbconvert_exporter": "python",
   "pygments_lexer": "ipython3",
   "version": "3.6.13"
  },
  "papermill": {
   "duration": 8.391272,
   "end_time": "2021-06-16T00:21:18.690375",
   "environment_variables": {},
   "exception": null,
   "input_path": "2020-03-21-covid19exp.ipynb",
   "output_path": "2020-03-21-covid19exp.ipynb",
   "parameters": {},
   "start_time": "2021-06-16T00:21:10.299103",
   "version": "2.0.0"
  }
 },
 "nbformat": 4,
 "nbformat_minor": 5
}