{
 "cells": [
  {
   "cell_type": "markdown",
   "id": "muslim-click",
   "metadata": {
    "papermill": {
     "duration": 0.042515,
     "end_time": "2021-04-13T12:04:32.547123",
     "exception": false,
     "start_time": "2021-04-13T12:04:32.504608",
     "status": "completed"
    },
    "tags": []
   },
   "source": [
    "# COVID-19 Case Race\n",
    "> A race chart to see rising cases around the world\n",
    "\n",
    "- author: Hargun Oberoi\n",
    "- image: images/covid-overview.png\n",
    "- hide: false\n",
    "- badges: false"
   ]
  },
  {
   "cell_type": "code",
   "execution_count": 1,
   "id": "proof-material",
   "metadata": {
    "execution": {
     "iopub.execute_input": "2021-04-13T12:04:32.631533Z",
     "iopub.status.busy": "2021-04-13T12:04:32.630907Z",
     "iopub.status.idle": "2021-04-13T12:04:32.980565Z",
     "shell.execute_reply": "2021-04-13T12:04:32.979921Z"
    },
    "papermill": {
     "duration": 0.395281,
     "end_time": "2021-04-13T12:04:32.980769",
     "exception": false,
     "start_time": "2021-04-13T12:04:32.585488",
     "status": "completed"
    },
    "tags": []
   },
   "outputs": [],
   "source": [
    "#hide\n",
    "import numpy as np\n",
    "import pandas as pd\n",
    "from jinja2 import Template\n",
    "from IPython.display import HTML"
   ]
  },
  {
   "cell_type": "code",
   "execution_count": 2,
   "id": "developed-terminology",
   "metadata": {
    "execution": {
     "iopub.execute_input": "2021-04-13T12:04:33.058054Z",
     "iopub.status.busy": "2021-04-13T12:04:33.057414Z",
     "iopub.status.idle": "2021-04-13T12:04:33.060007Z",
     "shell.execute_reply": "2021-04-13T12:04:33.059443Z"
    },
    "papermill": {
     "duration": 0.044007,
     "end_time": "2021-04-13T12:04:33.060126",
     "exception": false,
     "start_time": "2021-04-13T12:04:33.016119",
     "status": "completed"
    },
    "tags": []
   },
   "outputs": [],
   "source": [
    "#hide\n",
    "\n",
    "# FETCH\n",
    "base_url = 'https://raw.githubusercontent.com/pratapvardhan/notebooks/master/covid19/'\n",
    "paths = {\n",
    "    'mapping': base_url + 'mapping_countries.csv',\n",
    "    'overview': base_url + 'overview.tpl'\n",
    "}"
   ]
  },
  {
   "cell_type": "code",
   "execution_count": 3,
   "id": "dynamic-saver",
   "metadata": {
    "execution": {
     "iopub.execute_input": "2021-04-13T12:04:33.143711Z",
     "iopub.status.busy": "2021-04-13T12:04:33.143153Z",
     "iopub.status.idle": "2021-04-13T12:04:33.145829Z",
     "shell.execute_reply": "2021-04-13T12:04:33.146268Z"
    },
    "papermill": {
     "duration": 0.048959,
     "end_time": "2021-04-13T12:04:33.146394",
     "exception": false,
     "start_time": "2021-04-13T12:04:33.097435",
     "status": "completed"
    },
    "tags": []
   },
   "outputs": [
    {
     "data": {
      "text/plain": [
       "'https://raw.githubusercontent.com/pratapvardhan/notebooks/master/covid19/mapping_countries.csv'"
      ]
     },
     "execution_count": 3,
     "metadata": {},
     "output_type": "execute_result"
    }
   ],
   "source": [
    "#hide\n",
    "paths['mapping']"
   ]
  },
  {
   "cell_type": "code",
   "execution_count": 4,
   "id": "urban-software",
   "metadata": {
    "execution": {
     "iopub.execute_input": "2021-04-13T12:04:33.224727Z",
     "iopub.status.busy": "2021-04-13T12:04:33.224171Z",
     "iopub.status.idle": "2021-04-13T12:04:33.226412Z",
     "shell.execute_reply": "2021-04-13T12:04:33.225943Z"
    },
    "papermill": {
     "duration": 0.04639,
     "end_time": "2021-04-13T12:04:33.226517",
     "exception": false,
     "start_time": "2021-04-13T12:04:33.180127",
     "status": "completed"
    },
    "tags": []
   },
   "outputs": [],
   "source": [
    "#hide\n",
    "def get_mappings(url):\n",
    "    df = pd.read_csv(url)\n",
    "    return {\n",
    "        'df': df,\n",
    "        'replace.country': dict(df.dropna(subset=['Name']).set_index('Country')['Name']),\n",
    "        'map.continent': dict(df.set_index('Name')['Continent'])\n",
    "    }"
   ]
  },
  {
   "cell_type": "code",
   "execution_count": 5,
   "id": "intimate-machinery",
   "metadata": {
    "execution": {
     "iopub.execute_input": "2021-04-13T12:04:33.295488Z",
     "iopub.status.busy": "2021-04-13T12:04:33.294870Z",
     "iopub.status.idle": "2021-04-13T12:04:33.332641Z",
     "shell.execute_reply": "2021-04-13T12:04:33.333210Z"
    },
    "papermill": {
     "duration": 0.074352,
     "end_time": "2021-04-13T12:04:33.333322",
     "exception": false,
     "start_time": "2021-04-13T12:04:33.258970",
     "status": "completed"
    },
    "tags": []
   },
   "outputs": [],
   "source": [
    "#hide\n",
    "mapping = get_mappings(paths['mapping'])"
   ]
  },
  {
   "cell_type": "code",
   "execution_count": 6,
   "id": "certified-tactics",
   "metadata": {
    "execution": {
     "iopub.execute_input": "2021-04-13T12:04:33.406589Z",
     "iopub.status.busy": "2021-04-13T12:04:33.406053Z",
     "iopub.status.idle": "2021-04-13T12:04:33.408578Z",
     "shell.execute_reply": "2021-04-13T12:04:33.408169Z"
    },
    "papermill": {
     "duration": 0.039683,
     "end_time": "2021-04-13T12:04:33.408681",
     "exception": false,
     "start_time": "2021-04-13T12:04:33.368998",
     "status": "completed"
    },
    "tags": []
   },
   "outputs": [],
   "source": [
    "#hide\n",
    "def get_template(path):\n",
    "    from urllib.parse import urlparse\n",
    "    if bool(urlparse(path).netloc):\n",
    "        from urllib.request import urlopen\n",
    "        return urlopen(path).read().decode('utf8')\n",
    "    return open(path).read()"
   ]
  },
  {
   "cell_type": "code",
   "execution_count": 7,
   "id": "realistic-blast",
   "metadata": {
    "execution": {
     "iopub.execute_input": "2021-04-13T12:04:33.472603Z",
     "iopub.status.busy": "2021-04-13T12:04:33.472070Z",
     "iopub.status.idle": "2021-04-13T12:04:33.474008Z",
     "shell.execute_reply": "2021-04-13T12:04:33.474442Z"
    },
    "papermill": {
     "duration": 0.036166,
     "end_time": "2021-04-13T12:04:33.474563",
     "exception": false,
     "start_time": "2021-04-13T12:04:33.438397",
     "status": "completed"
    },
    "tags": []
   },
   "outputs": [],
   "source": [
    "#hide\n",
    "def get_frame(name):\n",
    "    url = (\n",
    "        'https://raw.githubusercontent.com/CSSEGISandData/COVID-19/master/csse_covid_19_data/'\n",
    "        f'csse_covid_19_time_series/time_series_covid19_{name}_global.csv')\n",
    "    df = pd.read_csv(url)\n",
    "    # rename countries\n",
    "    df['Country/Region'] = df['Country/Region'].replace(mapping['replace.country'])\n",
    "    return df"
   ]
  },
  {
   "cell_type": "code",
   "execution_count": 8,
   "id": "affiliated-characterization",
   "metadata": {
    "execution": {
     "iopub.execute_input": "2021-04-13T12:04:33.544190Z",
     "iopub.status.busy": "2021-04-13T12:04:33.543658Z",
     "iopub.status.idle": "2021-04-13T12:04:33.545545Z",
     "shell.execute_reply": "2021-04-13T12:04:33.545977Z"
    },
    "papermill": {
     "duration": 0.039547,
     "end_time": "2021-04-13T12:04:33.546091",
     "exception": false,
     "start_time": "2021-04-13T12:04:33.506544",
     "status": "completed"
    },
    "tags": []
   },
   "outputs": [],
   "source": [
    "#hide\n",
    "def get_dates(df):\n",
    "    dt_cols = df.columns[~df.columns.isin(['Province/State', 'Country/Region', 'Lat', 'Long'])]\n",
    "    LAST_DATE_I = -1\n",
    "    # sometimes last column may be empty, then go backwards\n",
    "    for i in range(-1, -len(dt_cols), -1):\n",
    "        if not df[dt_cols[i]].fillna(0).eq(0).all():\n",
    "            LAST_DATE_I = i\n",
    "            break\n",
    "    return LAST_DATE_I, dt_cols"
   ]
  },
  {
   "cell_type": "code",
   "execution_count": 9,
   "id": "recent-optimization",
   "metadata": {
    "execution": {
     "iopub.execute_input": "2021-04-13T12:04:33.620760Z",
     "iopub.status.busy": "2021-04-13T12:04:33.620177Z",
     "iopub.status.idle": "2021-04-13T12:04:33.965062Z",
     "shell.execute_reply": "2021-04-13T12:04:33.965643Z"
    },
    "papermill": {
     "duration": 0.385969,
     "end_time": "2021-04-13T12:04:33.965803",
     "exception": false,
     "start_time": "2021-04-13T12:04:33.579834",
     "status": "completed"
    },
    "tags": []
   },
   "outputs": [],
   "source": [
    "#hide\n",
    "COL_REGION = 'Country/Region'\n",
    "# Confirmed, Recovered, Deaths\n",
    "df = get_frame('confirmed')\n",
    "# dft_: timeseries, dfc_: today country agg\n",
    "dft_cases = df\n",
    "dft_deaths = get_frame('deaths')\n",
    "dft_recovered = get_frame('recovered')\n",
    "LAST_DATE_I, dt_cols = get_dates(df)"
   ]
  },
  {
   "cell_type": "code",
   "execution_count": 10,
   "id": "absolute-copper",
   "metadata": {
    "execution": {
     "iopub.execute_input": "2021-04-13T12:04:34.041997Z",
     "iopub.status.busy": "2021-04-13T12:04:34.041360Z",
     "iopub.status.idle": "2021-04-13T12:04:34.043900Z",
     "shell.execute_reply": "2021-04-13T12:04:34.043398Z"
    },
    "papermill": {
     "duration": 0.042666,
     "end_time": "2021-04-13T12:04:34.044010",
     "exception": false,
     "start_time": "2021-04-13T12:04:34.001344",
     "status": "completed"
    },
    "tags": []
   },
   "outputs": [],
   "source": [
    "#hide\n",
    "LAST_DATE_I, dt_cols = get_dates(df)\n",
    "dt_today =dt_cols[LAST_DATE_I]\n",
    "# dt_5day = dt_cols[LAST_DATE_I - 5]\n",
    "dt_yday = dt_cols[LAST_DATE_I - 1]"
   ]
  },
  {
   "cell_type": "code",
   "execution_count": 11,
   "id": "restricted-sheriff",
   "metadata": {
    "execution": {
     "iopub.execute_input": "2021-04-13T12:04:34.125746Z",
     "iopub.status.busy": "2021-04-13T12:04:34.125087Z",
     "iopub.status.idle": "2021-04-13T12:04:34.130952Z",
     "shell.execute_reply": "2021-04-13T12:04:34.130508Z"
    },
    "papermill": {
     "duration": 0.049145,
     "end_time": "2021-04-13T12:04:34.131081",
     "exception": false,
     "start_time": "2021-04-13T12:04:34.081936",
     "status": "completed"
    },
    "tags": []
   },
   "outputs": [],
   "source": [
    "#hide\n",
    "dfc_cases = dft_cases.groupby(COL_REGION)[dt_today].sum()\n",
    "dfc_deaths = dft_deaths.groupby(COL_REGION)[dt_today].sum()\n",
    "# dfp_cases = dft_cases.groupby(COL_REGION)[dt_5day].sum()\n",
    "# dfp_deaths = dft_deaths.groupby(COL_REGION)[dt_5day].sum()\n",
    "dfp_cases = dft_cases.groupby(COL_REGION)[dt_yday].sum()\n",
    "dfp_deaths = dft_deaths.groupby(COL_REGION)[dt_yday].sum()"
   ]
  },
  {
   "cell_type": "code",
   "execution_count": 12,
   "id": "deluxe-hepatitis",
   "metadata": {
    "execution": {
     "iopub.execute_input": "2021-04-13T12:04:34.201115Z",
     "iopub.status.busy": "2021-04-13T12:04:34.200575Z",
     "iopub.status.idle": "2021-04-13T12:04:34.205299Z",
     "shell.execute_reply": "2021-04-13T12:04:34.205741Z"
    },
    "papermill": {
     "duration": 0.042924,
     "end_time": "2021-04-13T12:04:34.205892",
     "exception": false,
     "start_time": "2021-04-13T12:04:34.162968",
     "status": "completed"
    },
    "tags": []
   },
   "outputs": [],
   "source": [
    "#hide\n",
    "df_table = (pd.DataFrame(dict(Cases = dfc_cases, Deaths = dfc_deaths, PCases = dfp_cases, PDeaths = dfp_deaths))\n",
    "            .sort_values(by = ['Cases','Deaths'], ascending = [False, False])\n",
    "            .reset_index())"
   ]
  },
  {
   "cell_type": "code",
   "execution_count": 13,
   "id": "educational-chancellor",
   "metadata": {
    "execution": {
     "iopub.execute_input": "2021-04-13T12:04:34.306744Z",
     "iopub.status.busy": "2021-04-13T12:04:34.306189Z",
     "iopub.status.idle": "2021-04-13T12:04:34.309451Z",
     "shell.execute_reply": "2021-04-13T12:04:34.308917Z"
    },
    "papermill": {
     "duration": 0.07003,
     "end_time": "2021-04-13T12:04:34.309560",
     "exception": false,
     "start_time": "2021-04-13T12:04:34.239530",
     "status": "completed"
    },
    "tags": []
   },
   "outputs": [
    {
     "data": {
      "text/html": [
       "<div>\n",
       "<style scoped>\n",
       "    .dataframe tbody tr th:only-of-type {\n",
       "        vertical-align: middle;\n",
       "    }\n",
       "\n",
       "    .dataframe tbody tr th {\n",
       "        vertical-align: top;\n",
       "    }\n",
       "\n",
       "    .dataframe thead th {\n",
       "        text-align: right;\n",
       "    }\n",
       "</style>\n",
       "<table border=\"1\" class=\"dataframe\">\n",
       "  <thead>\n",
       "    <tr style=\"text-align: right;\">\n",
       "      <th></th>\n",
       "      <th>Country/Region</th>\n",
       "      <th>Cases</th>\n",
       "      <th>Deaths</th>\n",
       "      <th>PCases</th>\n",
       "      <th>PDeaths</th>\n",
       "      <th>Cases (+)</th>\n",
       "      <th>Deaths (+)</th>\n",
       "      <th>Fatality Rate</th>\n",
       "      <th>Continent</th>\n",
       "    </tr>\n",
       "  </thead>\n",
       "  <tbody>\n",
       "    <tr>\n",
       "      <th>0</th>\n",
       "      <td>US</td>\n",
       "      <td>31268107</td>\n",
       "      <td>562533</td>\n",
       "      <td>31197873</td>\n",
       "      <td>562066</td>\n",
       "      <td>70234</td>\n",
       "      <td>467</td>\n",
       "      <td>1.80</td>\n",
       "      <td>North America</td>\n",
       "    </tr>\n",
       "    <tr>\n",
       "      <th>1</th>\n",
       "      <td>India</td>\n",
       "      <td>13689453</td>\n",
       "      <td>171058</td>\n",
       "      <td>13527717</td>\n",
       "      <td>170179</td>\n",
       "      <td>161736</td>\n",
       "      <td>879</td>\n",
       "      <td>1.25</td>\n",
       "      <td>Asia</td>\n",
       "    </tr>\n",
       "    <tr>\n",
       "      <th>2</th>\n",
       "      <td>Brazil</td>\n",
       "      <td>13517808</td>\n",
       "      <td>354617</td>\n",
       "      <td>13482023</td>\n",
       "      <td>353137</td>\n",
       "      <td>35785</td>\n",
       "      <td>1480</td>\n",
       "      <td>2.62</td>\n",
       "      <td>South America</td>\n",
       "    </tr>\n",
       "    <tr>\n",
       "      <th>3</th>\n",
       "      <td>France</td>\n",
       "      <td>5128140</td>\n",
       "      <td>99294</td>\n",
       "      <td>5119585</td>\n",
       "      <td>98909</td>\n",
       "      <td>8555</td>\n",
       "      <td>385</td>\n",
       "      <td>1.94</td>\n",
       "      <td>Europe</td>\n",
       "    </tr>\n",
       "    <tr>\n",
       "      <th>4</th>\n",
       "      <td>Russia</td>\n",
       "      <td>4597400</td>\n",
       "      <td>101552</td>\n",
       "      <td>4589209</td>\n",
       "      <td>101282</td>\n",
       "      <td>8191</td>\n",
       "      <td>270</td>\n",
       "      <td>2.21</td>\n",
       "      <td>Europe</td>\n",
       "    </tr>\n",
       "  </tbody>\n",
       "</table>\n",
       "</div>"
      ],
      "text/plain": [
       "  Country/Region     Cases  Deaths    PCases  PDeaths  Cases (+)  Deaths (+)  \\\n",
       "0             US  31268107  562533  31197873   562066      70234         467   \n",
       "1          India  13689453  171058  13527717   170179     161736         879   \n",
       "2         Brazil  13517808  354617  13482023   353137      35785        1480   \n",
       "3         France   5128140   99294   5119585    98909       8555         385   \n",
       "4         Russia   4597400  101552   4589209   101282       8191         270   \n",
       "\n",
       "   Fatality Rate      Continent  \n",
       "0           1.80  North America  \n",
       "1           1.25           Asia  \n",
       "2           2.62  South America  \n",
       "3           1.94         Europe  \n",
       "4           2.21         Europe  "
      ]
     },
     "execution_count": 13,
     "metadata": {},
     "output_type": "execute_result"
    }
   ],
   "source": [
    "#hide\n",
    "for c in 'Cases, Deaths'.split(', '):\n",
    "    df_table[f'{c} (+)'] = (df_table[c] - df_table[f'P{c}']).clip(0)\n",
    "    #Clip ça veut dire, les chiffres negatif sont interdit\n",
    "df_table['Fatality Rate'] = (100* df_table['Deaths']/ df_table['Cases']).round(2)\n",
    "df_table['Continent'] = df_table['Country/Region'].map(mapping['map.continent'])\n",
    "df_table.head(5)"
   ]
  },
  {
   "cell_type": "code",
   "execution_count": 14,
   "id": "aboriginal-bulgaria",
   "metadata": {
    "execution": {
     "iopub.execute_input": "2021-04-13T12:04:34.387865Z",
     "iopub.status.busy": "2021-04-13T12:04:34.387285Z",
     "iopub.status.idle": "2021-04-13T12:04:34.389305Z",
     "shell.execute_reply": "2021-04-13T12:04:34.388777Z"
    },
    "papermill": {
     "duration": 0.04102,
     "end_time": "2021-04-13T12:04:34.389407",
     "exception": false,
     "start_time": "2021-04-13T12:04:34.348387",
     "status": "completed"
    },
    "tags": []
   },
   "outputs": [],
   "source": [
    "#hide\n",
    "#delete problematic countries from table\n",
    "df_table = df_table[~df_table['Country/Region'].isin(['Cape Verde', 'Cruise Ship', 'Kosovo'])]"
   ]
  },
  {
   "cell_type": "code",
   "execution_count": 15,
   "id": "fantastic-effect",
   "metadata": {
    "execution": {
     "iopub.execute_input": "2021-04-13T12:04:34.465659Z",
     "iopub.status.busy": "2021-04-13T12:04:34.464972Z",
     "iopub.status.idle": "2021-04-13T12:04:34.484433Z",
     "shell.execute_reply": "2021-04-13T12:04:34.485053Z"
    },
    "papermill": {
     "duration": 0.058828,
     "end_time": "2021-04-13T12:04:34.485197",
     "exception": false,
     "start_time": "2021-04-13T12:04:34.426369",
     "status": "completed"
    },
    "tags": []
   },
   "outputs": [
    {
     "data": {
      "text/html": [
       "<div>\n",
       "<style scoped>\n",
       "    .dataframe tbody tr th:only-of-type {\n",
       "        vertical-align: middle;\n",
       "    }\n",
       "\n",
       "    .dataframe tbody tr th {\n",
       "        vertical-align: top;\n",
       "    }\n",
       "\n",
       "    .dataframe thead th {\n",
       "        text-align: right;\n",
       "    }\n",
       "</style>\n",
       "<table border=\"1\" class=\"dataframe\">\n",
       "  <thead>\n",
       "    <tr style=\"text-align: right;\">\n",
       "      <th></th>\n",
       "      <th>Country/Region</th>\n",
       "      <th>Cases</th>\n",
       "      <th>Deaths</th>\n",
       "      <th>PCases</th>\n",
       "      <th>PDeaths</th>\n",
       "      <th>Cases (+)</th>\n",
       "      <th>Deaths (+)</th>\n",
       "      <th>Fatality Rate</th>\n",
       "      <th>Continent</th>\n",
       "    </tr>\n",
       "  </thead>\n",
       "  <tbody>\n",
       "    <tr>\n",
       "      <th>0</th>\n",
       "      <td>US</td>\n",
       "      <td>31268107</td>\n",
       "      <td>562533</td>\n",
       "      <td>31197873</td>\n",
       "      <td>562066</td>\n",
       "      <td>70234</td>\n",
       "      <td>467</td>\n",
       "      <td>1.8</td>\n",
       "      <td>North America</td>\n",
       "    </tr>\n",
       "    <tr>\n",
       "      <th>1</th>\n",
       "      <td>India</td>\n",
       "      <td>13689453</td>\n",
       "      <td>171058</td>\n",
       "      <td>13527717</td>\n",
       "      <td>170179</td>\n",
       "      <td>161736</td>\n",
       "      <td>879</td>\n",
       "      <td>1.2</td>\n",
       "      <td>Asia</td>\n",
       "    </tr>\n",
       "    <tr>\n",
       "      <th>2</th>\n",
       "      <td>Brazil</td>\n",
       "      <td>13517808</td>\n",
       "      <td>354617</td>\n",
       "      <td>13482023</td>\n",
       "      <td>353137</td>\n",
       "      <td>35785</td>\n",
       "      <td>1480</td>\n",
       "      <td>2.6</td>\n",
       "      <td>South America</td>\n",
       "    </tr>\n",
       "    <tr>\n",
       "      <th>3</th>\n",
       "      <td>France</td>\n",
       "      <td>5128140</td>\n",
       "      <td>99294</td>\n",
       "      <td>5119585</td>\n",
       "      <td>98909</td>\n",
       "      <td>8555</td>\n",
       "      <td>385</td>\n",
       "      <td>1.9</td>\n",
       "      <td>Europe</td>\n",
       "    </tr>\n",
       "    <tr>\n",
       "      <th>4</th>\n",
       "      <td>Russia</td>\n",
       "      <td>4597400</td>\n",
       "      <td>101552</td>\n",
       "      <td>4589209</td>\n",
       "      <td>101282</td>\n",
       "      <td>8191</td>\n",
       "      <td>270</td>\n",
       "      <td>2.2</td>\n",
       "      <td>Europe</td>\n",
       "    </tr>\n",
       "  </tbody>\n",
       "</table>\n",
       "</div>"
      ],
      "text/plain": [
       "  Country/Region     Cases  Deaths    PCases  PDeaths  Cases (+)  Deaths (+)  \\\n",
       "0             US  31268107  562533  31197873   562066      70234         467   \n",
       "1          India  13689453  171058  13527717   170179     161736         879   \n",
       "2         Brazil  13517808  354617  13482023   353137      35785        1480   \n",
       "3         France   5128140   99294   5119585    98909       8555         385   \n",
       "4         Russia   4597400  101552   4589209   101282       8191         270   \n",
       "\n",
       "   Fatality Rate      Continent  \n",
       "0            1.8  North America  \n",
       "1            1.2           Asia  \n",
       "2            2.6  South America  \n",
       "3            1.9         Europe  \n",
       "4            2.2         Europe  "
      ]
     },
     "execution_count": 15,
     "metadata": {},
     "output_type": "execute_result"
    }
   ],
   "source": [
    "#hide\n",
    "df_table = (pd.DataFrame(dict(Cases=dfc_cases, Deaths=dfc_deaths, PCases=dfp_cases, PDeaths=dfp_deaths))\n",
    "             .sort_values(by=['Cases', 'Deaths'], ascending=[False, False])\n",
    "             .reset_index())\n",
    "df_table.rename(columns={'index': 'Country/Region'}, inplace=True)\n",
    "for c in 'Cases, Deaths'.split(', '):\n",
    "    df_table[f'{c} (+)'] = (df_table[c] - df_table[f'P{c}']).clip(0)  # DATA BUG\n",
    "df_table['Fatality Rate'] = (100 * df_table['Deaths'] / df_table['Cases']).round(1)\n",
    "df_table['Continent'] = df_table['Country/Region'].map(mapping['map.continent'])\n",
    "df_table.head(5)"
   ]
  },
  {
   "cell_type": "code",
   "execution_count": 16,
   "id": "fewer-occasion",
   "metadata": {
    "execution": {
     "iopub.execute_input": "2021-04-13T12:04:34.557788Z",
     "iopub.status.busy": "2021-04-13T12:04:34.557227Z",
     "iopub.status.idle": "2021-04-13T12:04:34.560443Z",
     "shell.execute_reply": "2021-04-13T12:04:34.559992Z"
    },
    "papermill": {
     "duration": 0.039928,
     "end_time": "2021-04-13T12:04:34.560547",
     "exception": false,
     "start_time": "2021-04-13T12:04:34.520619",
     "status": "completed"
    },
    "tags": []
   },
   "outputs": [],
   "source": [
    "#hide\n",
    "#delete problematic countries from table\n",
    "df_table = df_table[~df_table['Country/Region'].isin(['Cape Verde', 'Cruise Ship', 'Kosovo'])]"
   ]
  },
  {
   "cell_type": "code",
   "execution_count": 17,
   "id": "related-center",
   "metadata": {
    "execution": {
     "iopub.execute_input": "2021-04-13T12:04:34.639565Z",
     "iopub.status.busy": "2021-04-13T12:04:34.638797Z",
     "iopub.status.idle": "2021-04-13T12:04:34.648513Z",
     "shell.execute_reply": "2021-04-13T12:04:34.648956Z"
    },
    "papermill": {
     "duration": 0.054157,
     "end_time": "2021-04-13T12:04:34.649085",
     "exception": false,
     "start_time": "2021-04-13T12:04:34.594928",
     "status": "completed"
    },
    "tags": []
   },
   "outputs": [],
   "source": [
    "#hide\n",
    "metrics = [df_table.columns[index] for index in [1,2,5,6]]\n",
    "# s_china = df_table[df_table['Country/Region'].eq('China')][metrics].sum().add_prefix('China ')\n",
    "s_us = df_table[df_table['Country/Region'].eq('US')][metrics].sum().add_prefix('US ')\n",
    "s_eu = df_table[df_table['Continent'].eq('Europe')][metrics].sum().add_prefix('EU ')\n",
    "s_ind = df_table[df_table['Country/Region'].eq('India')][metrics].sum().add_prefix('India ')\n",
    "summary = {'updated': pd.to_datetime(dt_today), 'since': pd.to_datetime(dt_yday)}\n",
    "summary = {'updated': pd.to_datetime(dt_today), 'since': pd.to_datetime(dt_yday)}\n",
    "summary = {**summary, **df_table[metrics].sum(), **s_ind, **s_us, **s_eu}"
   ]
  },
  {
   "cell_type": "code",
   "execution_count": 18,
   "id": "engaging-syndrome",
   "metadata": {
    "execution": {
     "iopub.execute_input": "2021-04-13T12:04:34.726443Z",
     "iopub.status.busy": "2021-04-13T12:04:34.725600Z",
     "iopub.status.idle": "2021-04-13T12:04:34.738054Z",
     "shell.execute_reply": "2021-04-13T12:04:34.737498Z"
    },
    "papermill": {
     "duration": 0.055217,
     "end_time": "2021-04-13T12:04:34.738189",
     "exception": false,
     "start_time": "2021-04-13T12:04:34.682972",
     "status": "completed"
    },
    "tags": []
   },
   "outputs": [],
   "source": [
    "#hide\n",
    "dft_ct_new_cases = dft_cases.groupby(COL_REGION)[dt_cols].sum().diff(axis=1).fillna(0).astype(int)"
   ]
  },
  {
   "cell_type": "code",
   "execution_count": 19,
   "id": "neutral-assignment",
   "metadata": {
    "execution": {
     "iopub.execute_input": "2021-04-13T12:04:34.817850Z",
     "iopub.status.busy": "2021-04-13T12:04:34.817095Z",
     "iopub.status.idle": "2021-04-13T12:04:34.819691Z",
     "shell.execute_reply": "2021-04-13T12:04:34.819006Z"
    },
    "papermill": {
     "duration": 0.045868,
     "end_time": "2021-04-13T12:04:34.819807",
     "exception": false,
     "start_time": "2021-04-13T12:04:34.773939",
     "status": "completed"
    },
    "tags": []
   },
   "outputs": [],
   "source": [
    "#hide\n",
    "everydaycases = dft_ct_new_cases.cumsum(axis=1)"
   ]
  },
  {
   "cell_type": "code",
   "execution_count": 20,
   "id": "parliamentary-calgary",
   "metadata": {
    "execution": {
     "iopub.execute_input": "2021-04-13T12:04:34.896611Z",
     "iopub.status.busy": "2021-04-13T12:04:34.895977Z",
     "iopub.status.idle": "2021-04-13T12:04:35.380197Z",
     "shell.execute_reply": "2021-04-13T12:04:35.379716Z"
    },
    "papermill": {
     "duration": 0.521483,
     "end_time": "2021-04-13T12:04:35.380324",
     "exception": false,
     "start_time": "2021-04-13T12:04:34.858841",
     "status": "completed"
    },
    "tags": []
   },
   "outputs": [],
   "source": [
    "#hide\n",
    "import pandas as pd\n",
    "import matplotlib.pyplot as plt\n",
    "import matplotlib.ticker as ticker\n",
    "import matplotlib.animation as animation\n",
    "from IPython.display import HTML"
   ]
  },
  {
   "cell_type": "code",
   "execution_count": 21,
   "id": "lasting-extraction",
   "metadata": {
    "execution": {
     "iopub.execute_input": "2021-04-13T12:04:35.449515Z",
     "iopub.status.busy": "2021-04-13T12:04:35.448714Z",
     "iopub.status.idle": "2021-04-13T12:04:35.454245Z",
     "shell.execute_reply": "2021-04-13T12:04:35.453618Z"
    },
    "papermill": {
     "duration": 0.041824,
     "end_time": "2021-04-13T12:04:35.454409",
     "exception": false,
     "start_time": "2021-04-13T12:04:35.412585",
     "status": "completed"
    },
    "tags": []
   },
   "outputs": [],
   "source": [
    "#hide\n",
    "t = everydaycases.stack()"
   ]
  },
  {
   "cell_type": "code",
   "execution_count": 22,
   "id": "premier-sleeve",
   "metadata": {
    "execution": {
     "iopub.execute_input": "2021-04-13T12:04:35.522095Z",
     "iopub.status.busy": "2021-04-13T12:04:35.521544Z",
     "iopub.status.idle": "2021-04-13T12:04:35.528594Z",
     "shell.execute_reply": "2021-04-13T12:04:35.528115Z"
    },
    "papermill": {
     "duration": 0.042816,
     "end_time": "2021-04-13T12:04:35.528715",
     "exception": false,
     "start_time": "2021-04-13T12:04:35.485899",
     "status": "completed"
    },
    "tags": []
   },
   "outputs": [],
   "source": [
    "#hide\n",
    "g = t.reset_index(['Country/Region'])"
   ]
  },
  {
   "cell_type": "code",
   "execution_count": 23,
   "id": "distributed-pittsburgh",
   "metadata": {
    "execution": {
     "iopub.execute_input": "2021-04-13T12:04:35.597084Z",
     "iopub.status.busy": "2021-04-13T12:04:35.596466Z",
     "iopub.status.idle": "2021-04-13T12:04:35.598861Z",
     "shell.execute_reply": "2021-04-13T12:04:35.598343Z"
    },
    "papermill": {
     "duration": 0.03724,
     "end_time": "2021-04-13T12:04:35.598978",
     "exception": false,
     "start_time": "2021-04-13T12:04:35.561738",
     "status": "completed"
    },
    "tags": []
   },
   "outputs": [],
   "source": [
    "#hide\n",
    "g.index.name = 'date'"
   ]
  },
  {
   "cell_type": "code",
   "execution_count": 24,
   "id": "naked-donor",
   "metadata": {
    "execution": {
     "iopub.execute_input": "2021-04-13T12:04:35.666292Z",
     "iopub.status.busy": "2021-04-13T12:04:35.665761Z",
     "iopub.status.idle": "2021-04-13T12:04:35.667641Z",
     "shell.execute_reply": "2021-04-13T12:04:35.668180Z"
    },
    "papermill": {
     "duration": 0.036935,
     "end_time": "2021-04-13T12:04:35.668300",
     "exception": false,
     "start_time": "2021-04-13T12:04:35.631365",
     "status": "completed"
    },
    "tags": []
   },
   "outputs": [],
   "source": [
    "# #hide\n",
    "# g = g.reset_index(['date'])"
   ]
  },
  {
   "cell_type": "code",
   "execution_count": 25,
   "id": "incomplete-mustang",
   "metadata": {
    "execution": {
     "iopub.execute_input": "2021-04-13T12:04:35.735451Z",
     "iopub.status.busy": "2021-04-13T12:04:35.734735Z",
     "iopub.status.idle": "2021-04-13T12:04:35.736880Z",
     "shell.execute_reply": "2021-04-13T12:04:35.737382Z"
    },
    "papermill": {
     "duration": 0.036874,
     "end_time": "2021-04-13T12:04:35.737492",
     "exception": false,
     "start_time": "2021-04-13T12:04:35.700618",
     "status": "completed"
    },
    "tags": []
   },
   "outputs": [],
   "source": [
    "#hide\n",
    "# g.head()"
   ]
  },
  {
   "cell_type": "code",
   "execution_count": 26,
   "id": "specific-kruger",
   "metadata": {
    "execution": {
     "iopub.execute_input": "2021-04-13T12:04:35.814241Z",
     "iopub.status.busy": "2021-04-13T12:04:35.813547Z",
     "iopub.status.idle": "2021-04-13T12:04:35.816105Z",
     "shell.execute_reply": "2021-04-13T12:04:35.815647Z"
    },
    "papermill": {
     "duration": 0.043723,
     "end_time": "2021-04-13T12:04:35.816207",
     "exception": false,
     "start_time": "2021-04-13T12:04:35.772484",
     "status": "completed"
    },
    "tags": []
   },
   "outputs": [],
   "source": [
    "#hide\n",
    "# g.columns = ['date','country','cases']"
   ]
  },
  {
   "cell_type": "code",
   "execution_count": 27,
   "id": "tender-conversion",
   "metadata": {
    "execution": {
     "iopub.execute_input": "2021-04-13T12:04:35.883329Z",
     "iopub.status.busy": "2021-04-13T12:04:35.882780Z",
     "iopub.status.idle": "2021-04-13T12:04:35.885048Z",
     "shell.execute_reply": "2021-04-13T12:04:35.884603Z"
    },
    "papermill": {
     "duration": 0.036491,
     "end_time": "2021-04-13T12:04:35.885148",
     "exception": false,
     "start_time": "2021-04-13T12:04:35.848657",
     "status": "completed"
    },
    "tags": []
   },
   "outputs": [],
   "source": [
    "#hide\n",
    "# g['continent'] = g.country"
   ]
  },
  {
   "cell_type": "code",
   "execution_count": 28,
   "id": "substantial-wilderness",
   "metadata": {
    "execution": {
     "iopub.execute_input": "2021-04-13T12:04:35.956389Z",
     "iopub.status.busy": "2021-04-13T12:04:35.955840Z",
     "iopub.status.idle": "2021-04-13T12:04:35.957696Z",
     "shell.execute_reply": "2021-04-13T12:04:35.958138Z"
    },
    "papermill": {
     "duration": 0.04026,
     "end_time": "2021-04-13T12:04:35.958272",
     "exception": false,
     "start_time": "2021-04-13T12:04:35.918012",
     "status": "completed"
    },
    "tags": []
   },
   "outputs": [],
   "source": [
    "#hide\n",
    "# cols = list(g.columns.values)"
   ]
  },
  {
   "cell_type": "code",
   "execution_count": 29,
   "id": "solved-farming",
   "metadata": {
    "execution": {
     "iopub.execute_input": "2021-04-13T12:04:36.033639Z",
     "iopub.status.busy": "2021-04-13T12:04:36.033086Z",
     "iopub.status.idle": "2021-04-13T12:04:36.035682Z",
     "shell.execute_reply": "2021-04-13T12:04:36.035199Z"
    },
    "papermill": {
     "duration": 0.041239,
     "end_time": "2021-04-13T12:04:36.035783",
     "exception": false,
     "start_time": "2021-04-13T12:04:35.994544",
     "status": "completed"
    },
    "tags": []
   },
   "outputs": [],
   "source": [
    "#hide\n",
    "# cols.insert(0, cols.pop())"
   ]
  },
  {
   "cell_type": "code",
   "execution_count": 30,
   "id": "executed-adoption",
   "metadata": {
    "execution": {
     "iopub.execute_input": "2021-04-13T12:04:36.104597Z",
     "iopub.status.busy": "2021-04-13T12:04:36.104083Z",
     "iopub.status.idle": "2021-04-13T12:04:36.106456Z",
     "shell.execute_reply": "2021-04-13T12:04:36.106899Z"
    },
    "papermill": {
     "duration": 0.037335,
     "end_time": "2021-04-13T12:04:36.107032",
     "exception": false,
     "start_time": "2021-04-13T12:04:36.069697",
     "status": "completed"
    },
    "tags": []
   },
   "outputs": [],
   "source": [
    "#hide\n",
    "# g = g[cols]"
   ]
  },
  {
   "cell_type": "code",
   "execution_count": 31,
   "id": "subject-dublin",
   "metadata": {
    "execution": {
     "iopub.execute_input": "2021-04-13T12:04:36.175934Z",
     "iopub.status.busy": "2021-04-13T12:04:36.175374Z",
     "iopub.status.idle": "2021-04-13T12:04:36.177516Z",
     "shell.execute_reply": "2021-04-13T12:04:36.177075Z"
    },
    "papermill": {
     "duration": 0.037534,
     "end_time": "2021-04-13T12:04:36.177617",
     "exception": false,
     "start_time": "2021-04-13T12:04:36.140083",
     "status": "completed"
    },
    "tags": []
   },
   "outputs": [],
   "source": [
    "#hide\n",
    "# g['continent'] = g['continent'].map(mapping['map.continent'])"
   ]
  },
  {
   "cell_type": "code",
   "execution_count": 32,
   "id": "freelance-scout",
   "metadata": {
    "execution": {
     "iopub.execute_input": "2021-04-13T12:04:36.246087Z",
     "iopub.status.busy": "2021-04-13T12:04:36.245363Z",
     "iopub.status.idle": "2021-04-13T12:04:36.247994Z",
     "shell.execute_reply": "2021-04-13T12:04:36.247466Z"
    },
    "papermill": {
     "duration": 0.038609,
     "end_time": "2021-04-13T12:04:36.248111",
     "exception": false,
     "start_time": "2021-04-13T12:04:36.209502",
     "status": "completed"
    },
    "tags": []
   },
   "outputs": [],
   "source": [
    "#hide\n",
    "# g.head()"
   ]
  },
  {
   "cell_type": "code",
   "execution_count": 33,
   "id": "limited-engine",
   "metadata": {
    "execution": {
     "iopub.execute_input": "2021-04-13T12:04:36.318576Z",
     "iopub.status.busy": "2021-04-13T12:04:36.317974Z",
     "iopub.status.idle": "2021-04-13T12:04:36.320241Z",
     "shell.execute_reply": "2021-04-13T12:04:36.319681Z"
    },
    "papermill": {
     "duration": 0.039382,
     "end_time": "2021-04-13T12:04:36.320350",
     "exception": false,
     "start_time": "2021-04-13T12:04:36.280968",
     "status": "completed"
    },
    "tags": []
   },
   "outputs": [],
   "source": [
    "# hide\n",
    "# g['date'] = g['date'].astype('datetime64[ns]')"
   ]
  },
  {
   "cell_type": "code",
   "execution_count": 34,
   "id": "sophisticated-supervisor",
   "metadata": {
    "execution": {
     "iopub.execute_input": "2021-04-13T12:04:36.394210Z",
     "iopub.status.busy": "2021-04-13T12:04:36.393622Z",
     "iopub.status.idle": "2021-04-13T12:04:36.396052Z",
     "shell.execute_reply": "2021-04-13T12:04:36.395498Z"
    },
    "papermill": {
     "duration": 0.041112,
     "end_time": "2021-04-13T12:04:36.396179",
     "exception": false,
     "start_time": "2021-04-13T12:04:36.355067",
     "status": "completed"
    },
    "tags": []
   },
   "outputs": [],
   "source": [
    "#hide\n",
    "# g['date'] = g.date.dt.dayofyear"
   ]
  },
  {
   "cell_type": "code",
   "execution_count": 35,
   "id": "inside-dubai",
   "metadata": {
    "execution": {
     "iopub.execute_input": "2021-04-13T12:04:36.468168Z",
     "iopub.status.busy": "2021-04-13T12:04:36.467606Z",
     "iopub.status.idle": "2021-04-13T12:04:36.470061Z",
     "shell.execute_reply": "2021-04-13T12:04:36.469450Z"
    },
    "papermill": {
     "duration": 0.038897,
     "end_time": "2021-04-13T12:04:36.470162",
     "exception": false,
     "start_time": "2021-04-13T12:04:36.431265",
     "status": "completed"
    },
    "tags": []
   },
   "outputs": [],
   "source": [
    "#hide\n",
    "# g = g.rename(columns= {'continent':'group','country':'name','cases':'value'})"
   ]
  },
  {
   "cell_type": "code",
   "execution_count": 36,
   "id": "fleet-motorcycle",
   "metadata": {
    "execution": {
     "iopub.execute_input": "2021-04-13T12:04:36.537313Z",
     "iopub.status.busy": "2021-04-13T12:04:36.536801Z",
     "iopub.status.idle": "2021-04-13T12:04:36.539051Z",
     "shell.execute_reply": "2021-04-13T12:04:36.538591Z"
    },
    "papermill": {
     "duration": 0.038226,
     "end_time": "2021-04-13T12:04:36.539151",
     "exception": false,
     "start_time": "2021-04-13T12:04:36.500925",
     "status": "completed"
    },
    "tags": []
   },
   "outputs": [],
   "source": [
    "#hide\n",
    "# cols = ['name','group','day','value']"
   ]
  },
  {
   "cell_type": "code",
   "execution_count": 37,
   "id": "continued-sleeping",
   "metadata": {
    "execution": {
     "iopub.execute_input": "2021-04-13T12:04:36.603688Z",
     "iopub.status.busy": "2021-04-13T12:04:36.603117Z",
     "iopub.status.idle": "2021-04-13T12:04:36.605455Z",
     "shell.execute_reply": "2021-04-13T12:04:36.606073Z"
    },
    "papermill": {
     "duration": 0.036417,
     "end_time": "2021-04-13T12:04:36.606183",
     "exception": false,
     "start_time": "2021-04-13T12:04:36.569766",
     "status": "completed"
    },
    "tags": []
   },
   "outputs": [],
   "source": [
    "#hide\n",
    "# g.rename(columns= {'date':'day'},inplace = True)"
   ]
  },
  {
   "cell_type": "code",
   "execution_count": 38,
   "id": "major-fight",
   "metadata": {
    "execution": {
     "iopub.execute_input": "2021-04-13T12:04:36.673742Z",
     "iopub.status.busy": "2021-04-13T12:04:36.672919Z",
     "iopub.status.idle": "2021-04-13T12:04:36.675852Z",
     "shell.execute_reply": "2021-04-13T12:04:36.675404Z"
    },
    "papermill": {
     "duration": 0.039342,
     "end_time": "2021-04-13T12:04:36.675951",
     "exception": false,
     "start_time": "2021-04-13T12:04:36.636609",
     "status": "completed"
    },
    "tags": []
   },
   "outputs": [],
   "source": [
    "#hide\n",
    "# g = g[cols]"
   ]
  },
  {
   "cell_type": "code",
   "execution_count": 39,
   "id": "structured-mobile",
   "metadata": {
    "execution": {
     "iopub.execute_input": "2021-04-13T12:04:36.739411Z",
     "iopub.status.busy": "2021-04-13T12:04:36.738879Z",
     "iopub.status.idle": "2021-04-13T12:04:36.740980Z",
     "shell.execute_reply": "2021-04-13T12:04:36.740545Z"
    },
    "papermill": {
     "duration": 0.034772,
     "end_time": "2021-04-13T12:04:36.741073",
     "exception": false,
     "start_time": "2021-04-13T12:04:36.706301",
     "status": "completed"
    },
    "tags": []
   },
   "outputs": [],
   "source": [
    "# #hide\n",
    "# g = g[g.group.notna()]"
   ]
  },
  {
   "cell_type": "code",
   "execution_count": 40,
   "id": "determined-closing",
   "metadata": {
    "execution": {
     "iopub.execute_input": "2021-04-13T12:04:36.806753Z",
     "iopub.status.busy": "2021-04-13T12:04:36.806121Z",
     "iopub.status.idle": "2021-04-13T12:04:36.808112Z",
     "shell.execute_reply": "2021-04-13T12:04:36.808689Z"
    },
    "papermill": {
     "duration": 0.036761,
     "end_time": "2021-04-13T12:04:36.808849",
     "exception": false,
     "start_time": "2021-04-13T12:04:36.772088",
     "status": "completed"
    },
    "tags": []
   },
   "outputs": [],
   "source": [
    "# #hide\n",
    "# colors = dict(zip(\n",
    "#     [\"Oceania\", \"Europe\", \"Asia\", \"South America\", \"Middle East\", \"North America\", \"Africa\"],\n",
    "#     [\"#adb0ff\", \"#ffb3ff\", \"#90d595\", \"#e48381\", \"#aafbff\", \"#f7bb5f\", \"#eafb50\"]\n",
    "# ))\n",
    "# group_lk = g.set_index('name')['group'].to_dict()"
   ]
  },
  {
   "cell_type": "code",
   "execution_count": null,
   "id": "gross-drinking",
   "metadata": {
    "papermill": {
     "duration": 0.033314,
     "end_time": "2021-04-13T12:04:36.872102",
     "exception": false,
     "start_time": "2021-04-13T12:04:36.838788",
     "status": "completed"
    },
    "tags": []
   },
   "outputs": [],
   "source": []
  },
  {
   "cell_type": "code",
   "execution_count": 41,
   "id": "subject-macintosh",
   "metadata": {
    "execution": {
     "iopub.execute_input": "2021-04-13T12:04:36.941020Z",
     "iopub.status.busy": "2021-04-13T12:04:36.940484Z",
     "iopub.status.idle": "2021-04-13T12:04:36.942492Z",
     "shell.execute_reply": "2021-04-13T12:04:36.942062Z"
    },
    "papermill": {
     "duration": 0.038701,
     "end_time": "2021-04-13T12:04:36.942596",
     "exception": false,
     "start_time": "2021-04-13T12:04:36.903895",
     "status": "completed"
    },
    "tags": []
   },
   "outputs": [],
   "source": [
    "# #hide\n",
    "# fig, ax = plt.subplots(figsize=(15, 8))\n",
    "\n",
    "# def draw_barchart(current_day):\n",
    "#     dff = g[g['day'].eq(current_day)].sort_values(by='value', ascending=True).tail(10)\n",
    "#     ax.clear()\n",
    "#     ax.barh(dff['name'], dff['value'], color=[colors[group_lk[x]] for x in dff['name']])\n",
    "#     dx = dff['value'].max() / 200\n",
    "    \n",
    "#     for i, (value, name) in enumerate(zip(dff['value'], dff['name'])):\n",
    "#         ax.text(value-dx, i,     name,           size=14, weight=600, ha='right', va='bottom')\n",
    "#         ax.text(value-dx, i-.25, group_lk[name], size=10, color='#444444', ha='right', va='baseline')\n",
    "#         ax.text(value+dx, i,     f'{value:,.0f}',  size=14, ha='left',  va='center')\n",
    "#     ax.text(1, 0.4, current_day, transform=ax.transAxes, color='#777777', size=46, ha='right', weight=800)\n",
    "#     ax.text(0, 1.06, 'Population (thousands)', transform=ax.transAxes, size=12, color='#777777')\n",
    "#     ax.xaxis.set_major_formatter(ticker.StrMethodFormatter('{x:,.0f}'))\n",
    "#     ax.xaxis.set_ticks_position('top')\n",
    "#     ax.tick_params(axis='x', colors='#777777', labelsize=12)\n",
    "#     ax.set_yticks([])\n",
    "#     ax.margins(0, 0.01)\n",
    "#     ax.grid(which='major', axis='x', linestyle='-')\n",
    "#     ax.set_axisbelow(True)\n",
    "    \n",
    "#     ax.text(0, 1.15, 'Coronavirus',\n",
    "#             transform=ax.transAxes, size=24, weight=600, ha='left', va='top')\n",
    "# #     ax.text(1, 0, 'by @pratapvardhan; credit @jburnmurdoch', transform=ax.transAxes, color='#777777', ha='right',\n",
    "# #             bbox=dict(facecolor='white', alpha=0.8, edgecolor='white'))\n",
    "#     plt.box(False)"
   ]
  },
  {
   "cell_type": "code",
   "execution_count": 42,
   "id": "sexual-wages",
   "metadata": {
    "execution": {
     "iopub.execute_input": "2021-04-13T12:04:37.008115Z",
     "iopub.status.busy": "2021-04-13T12:04:37.007584Z",
     "iopub.status.idle": "2021-04-13T12:04:37.009523Z",
     "shell.execute_reply": "2021-04-13T12:04:37.009913Z"
    },
    "papermill": {
     "duration": 0.03668,
     "end_time": "2021-04-13T12:04:37.010022",
     "exception": false,
     "start_time": "2021-04-13T12:04:36.973342",
     "status": "completed"
    },
    "tags": []
   },
   "outputs": [],
   "source": [
    "# #hide_input\n",
    "# fig, ax = plt.subplots(figsize=(15, 8))\n",
    "# animator = animation.FuncAnimation(fig, draw_barchart, frames=range(g.day.values.min(), g.day.values.max()))\n",
    "# HTML(animator.to_jshtml())\n",
    "# # or use animator.to_html5_video() or animator.save() "
   ]
  },
  {
   "cell_type": "code",
   "execution_count": null,
   "id": "australian-container",
   "metadata": {
    "papermill": {
     "duration": 0.031596,
     "end_time": "2021-04-13T12:04:37.072359",
     "exception": false,
     "start_time": "2021-04-13T12:04:37.040763",
     "status": "completed"
    },
    "tags": []
   },
   "outputs": [],
   "source": []
  },
  {
   "cell_type": "code",
   "execution_count": null,
   "id": "mediterranean-pontiac",
   "metadata": {
    "papermill": {
     "duration": 0.030547,
     "end_time": "2021-04-13T12:04:37.133622",
     "exception": false,
     "start_time": "2021-04-13T12:04:37.103075",
     "status": "completed"
    },
    "tags": []
   },
   "outputs": [],
   "source": []
  },
  {
   "cell_type": "code",
   "execution_count": null,
   "id": "aging-legislature",
   "metadata": {
    "papermill": {
     "duration": 0.030293,
     "end_time": "2021-04-13T12:04:37.194688",
     "exception": false,
     "start_time": "2021-04-13T12:04:37.164395",
     "status": "completed"
    },
    "tags": []
   },
   "outputs": [],
   "source": []
  }
 ],
 "metadata": {
  "kernelspec": {
   "display_name": "Python 3",
   "language": "python",
   "name": "python3"
  },
  "language_info": {
   "codemirror_mode": {
    "name": "ipython",
    "version": 3
   },
   "file_extension": ".py",
   "mimetype": "text/x-python",
   "name": "python",
   "nbconvert_exporter": "python",
   "pygments_lexer": "ipython3",
   "version": "3.6.13"
  },
  "papermill": {
   "duration": 6.113664,
   "end_time": "2021-04-13T12:04:37.531679",
   "environment_variables": {},
   "exception": null,
   "input_path": "2020-03-21-covid19exp.ipynb",
   "output_path": "2020-03-21-covid19exp.ipynb",
   "parameters": {},
   "start_time": "2021-04-13T12:04:31.418015",
   "version": "2.0.0"
  }
 },
 "nbformat": 4,
 "nbformat_minor": 5
}