{
 "cells": [
  {
   "cell_type": "markdown",
   "metadata": {
    "papermill": {
     "duration": 0.035399,
     "end_time": "2021-01-16T00:43:19.013973",
     "exception": false,
     "start_time": "2021-01-16T00:43:18.978574",
     "status": "completed"
    },
    "tags": []
   },
   "source": [
    "# COVID-19 Case Race\n",
    "> A race chart to see rising cases around the world\n",
    "\n",
    "- author: Hargun Oberoi\n",
    "- image: images/covid-overview.png\n",
    "- hide: false\n",
    "- badges: false"
   ]
  },
  {
   "cell_type": "code",
   "execution_count": 1,
   "metadata": {
    "execution": {
     "iopub.execute_input": "2021-01-16T00:43:19.093634Z",
     "iopub.status.busy": "2021-01-16T00:43:19.092942Z",
     "iopub.status.idle": "2021-01-16T00:43:19.453494Z",
     "shell.execute_reply": "2021-01-16T00:43:19.452910Z"
    },
    "papermill": {
     "duration": 0.406456,
     "end_time": "2021-01-16T00:43:19.453683",
     "exception": false,
     "start_time": "2021-01-16T00:43:19.047227",
     "status": "completed"
    },
    "tags": []
   },
   "outputs": [],
   "source": [
    "#hide\n",
    "import numpy as np\n",
    "import pandas as pd\n",
    "from jinja2 import Template\n",
    "from IPython.display import HTML"
   ]
  },
  {
   "cell_type": "code",
   "execution_count": 2,
   "metadata": {
    "execution": {
     "iopub.execute_input": "2021-01-16T00:43:19.524216Z",
     "iopub.status.busy": "2021-01-16T00:43:19.523588Z",
     "iopub.status.idle": "2021-01-16T00:43:19.526002Z",
     "shell.execute_reply": "2021-01-16T00:43:19.525470Z"
    },
    "papermill": {
     "duration": 0.041774,
     "end_time": "2021-01-16T00:43:19.526128",
     "exception": false,
     "start_time": "2021-01-16T00:43:19.484354",
     "status": "completed"
    },
    "tags": []
   },
   "outputs": [],
   "source": [
    "#hide\n",
    "\n",
    "# FETCH\n",
    "base_url = 'https://raw.githubusercontent.com/pratapvardhan/notebooks/master/covid19/'\n",
    "paths = {\n",
    "    'mapping': base_url + 'mapping_countries.csv',\n",
    "    'overview': base_url + 'overview.tpl'\n",
    "}"
   ]
  },
  {
   "cell_type": "code",
   "execution_count": 3,
   "metadata": {
    "execution": {
     "iopub.execute_input": "2021-01-16T00:43:19.605227Z",
     "iopub.status.busy": "2021-01-16T00:43:19.604612Z",
     "iopub.status.idle": "2021-01-16T00:43:19.608508Z",
     "shell.execute_reply": "2021-01-16T00:43:19.609021Z"
    },
    "papermill": {
     "duration": 0.04751,
     "end_time": "2021-01-16T00:43:19.609161",
     "exception": false,
     "start_time": "2021-01-16T00:43:19.561651",
     "status": "completed"
    },
    "tags": []
   },
   "outputs": [
    {
     "data": {
      "text/plain": [
       "'https://raw.githubusercontent.com/pratapvardhan/notebooks/master/covid19/mapping_countries.csv'"
      ]
     },
     "execution_count": 3,
     "metadata": {},
     "output_type": "execute_result"
    }
   ],
   "source": [
    "#hide\n",
    "paths['mapping']"
   ]
  },
  {
   "cell_type": "code",
   "execution_count": 4,
   "metadata": {
    "execution": {
     "iopub.execute_input": "2021-01-16T00:43:19.686952Z",
     "iopub.status.busy": "2021-01-16T00:43:19.686280Z",
     "iopub.status.idle": "2021-01-16T00:43:19.688917Z",
     "shell.execute_reply": "2021-01-16T00:43:19.688349Z"
    },
    "papermill": {
     "duration": 0.043417,
     "end_time": "2021-01-16T00:43:19.689107",
     "exception": false,
     "start_time": "2021-01-16T00:43:19.645690",
     "status": "completed"
    },
    "tags": []
   },
   "outputs": [],
   "source": [
    "#hide\n",
    "def get_mappings(url):\n",
    "    df = pd.read_csv(url)\n",
    "    return {\n",
    "        'df': df,\n",
    "        'replace.country': dict(df.dropna(subset=['Name']).set_index('Country')['Name']),\n",
    "        'map.continent': dict(df.set_index('Name')['Continent'])\n",
    "    }"
   ]
  },
  {
   "cell_type": "code",
   "execution_count": 5,
   "metadata": {
    "execution": {
     "iopub.execute_input": "2021-01-16T00:43:19.759955Z",
     "iopub.status.busy": "2021-01-16T00:43:19.759353Z",
     "iopub.status.idle": "2021-01-16T00:43:19.818320Z",
     "shell.execute_reply": "2021-01-16T00:43:19.817829Z"
    },
    "papermill": {
     "duration": 0.098014,
     "end_time": "2021-01-16T00:43:19.818613",
     "exception": false,
     "start_time": "2021-01-16T00:43:19.720599",
     "status": "completed"
    },
    "tags": []
   },
   "outputs": [],
   "source": [
    "#hide\n",
    "mapping = get_mappings(paths['mapping'])"
   ]
  },
  {
   "cell_type": "code",
   "execution_count": 6,
   "metadata": {
    "execution": {
     "iopub.execute_input": "2021-01-16T00:43:19.889133Z",
     "iopub.status.busy": "2021-01-16T00:43:19.888055Z",
     "iopub.status.idle": "2021-01-16T00:43:19.890906Z",
     "shell.execute_reply": "2021-01-16T00:43:19.890381Z"
    },
    "papermill": {
     "duration": 0.039157,
     "end_time": "2021-01-16T00:43:19.891029",
     "exception": false,
     "start_time": "2021-01-16T00:43:19.851872",
     "status": "completed"
    },
    "tags": []
   },
   "outputs": [],
   "source": [
    "#hide\n",
    "def get_template(path):\n",
    "    from urllib.parse import urlparse\n",
    "    if bool(urlparse(path).netloc):\n",
    "        from urllib.request import urlopen\n",
    "        return urlopen(path).read().decode('utf8')\n",
    "    return open(path).read()"
   ]
  },
  {
   "cell_type": "code",
   "execution_count": 7,
   "metadata": {
    "execution": {
     "iopub.execute_input": "2021-01-16T00:43:19.960629Z",
     "iopub.status.busy": "2021-01-16T00:43:19.959932Z",
     "iopub.status.idle": "2021-01-16T00:43:19.961707Z",
     "shell.execute_reply": "2021-01-16T00:43:19.962410Z"
    },
    "papermill": {
     "duration": 0.039027,
     "end_time": "2021-01-16T00:43:19.962571",
     "exception": false,
     "start_time": "2021-01-16T00:43:19.923544",
     "status": "completed"
    },
    "tags": []
   },
   "outputs": [],
   "source": [
    "#hide\n",
    "def get_frame(name):\n",
    "    url = (\n",
    "        'https://raw.githubusercontent.com/CSSEGISandData/COVID-19/master/csse_covid_19_data/'\n",
    "        f'csse_covid_19_time_series/time_series_covid19_{name}_global.csv')\n",
    "    df = pd.read_csv(url)\n",
    "    # rename countries\n",
    "    df['Country/Region'] = df['Country/Region'].replace(mapping['replace.country'])\n",
    "    return df"
   ]
  },
  {
   "cell_type": "code",
   "execution_count": 8,
   "metadata": {
    "execution": {
     "iopub.execute_input": "2021-01-16T00:43:20.030408Z",
     "iopub.status.busy": "2021-01-16T00:43:20.029784Z",
     "iopub.status.idle": "2021-01-16T00:43:20.031548Z",
     "shell.execute_reply": "2021-01-16T00:43:20.032039Z"
    },
    "papermill": {
     "duration": 0.038298,
     "end_time": "2021-01-16T00:43:20.032180",
     "exception": false,
     "start_time": "2021-01-16T00:43:19.993882",
     "status": "completed"
    },
    "tags": []
   },
   "outputs": [],
   "source": [
    "#hide\n",
    "def get_dates(df):\n",
    "    dt_cols = df.columns[~df.columns.isin(['Province/State', 'Country/Region', 'Lat', 'Long'])]\n",
    "    LAST_DATE_I = -1\n",
    "    # sometimes last column may be empty, then go backwards\n",
    "    for i in range(-1, -len(dt_cols), -1):\n",
    "        if not df[dt_cols[i]].fillna(0).eq(0).all():\n",
    "            LAST_DATE_I = i\n",
    "            break\n",
    "    return LAST_DATE_I, dt_cols"
   ]
  },
  {
   "cell_type": "code",
   "execution_count": 9,
   "metadata": {
    "execution": {
     "iopub.execute_input": "2021-01-16T00:43:20.109246Z",
     "iopub.status.busy": "2021-01-16T00:43:20.108479Z",
     "iopub.status.idle": "2021-01-16T00:43:20.526216Z",
     "shell.execute_reply": "2021-01-16T00:43:20.525716Z"
    },
    "papermill": {
     "duration": 0.45704,
     "end_time": "2021-01-16T00:43:20.526399",
     "exception": false,
     "start_time": "2021-01-16T00:43:20.069359",
     "status": "completed"
    },
    "tags": []
   },
   "outputs": [],
   "source": [
    "#hide\n",
    "COL_REGION = 'Country/Region'\n",
    "# Confirmed, Recovered, Deaths\n",
    "df = get_frame('confirmed')\n",
    "# dft_: timeseries, dfc_: today country agg\n",
    "dft_cases = df\n",
    "dft_deaths = get_frame('deaths')\n",
    "dft_recovered = get_frame('recovered')\n",
    "LAST_DATE_I, dt_cols = get_dates(df)"
   ]
  },
  {
   "cell_type": "code",
   "execution_count": 10,
   "metadata": {
    "execution": {
     "iopub.execute_input": "2021-01-16T00:43:20.593633Z",
     "iopub.status.busy": "2021-01-16T00:43:20.592899Z",
     "iopub.status.idle": "2021-01-16T00:43:20.595693Z",
     "shell.execute_reply": "2021-01-16T00:43:20.595022Z"
    },
    "papermill": {
     "duration": 0.037898,
     "end_time": "2021-01-16T00:43:20.595876",
     "exception": false,
     "start_time": "2021-01-16T00:43:20.557978",
     "status": "completed"
    },
    "tags": []
   },
   "outputs": [],
   "source": [
    "#hide\n",
    "LAST_DATE_I, dt_cols = get_dates(df)\n",
    "dt_today =dt_cols[LAST_DATE_I]\n",
    "# dt_5day = dt_cols[LAST_DATE_I - 5]\n",
    "dt_yday = dt_cols[LAST_DATE_I - 1]"
   ]
  },
  {
   "cell_type": "code",
   "execution_count": 11,
   "metadata": {
    "execution": {
     "iopub.execute_input": "2021-01-16T00:43:20.665557Z",
     "iopub.status.busy": "2021-01-16T00:43:20.664876Z",
     "iopub.status.idle": "2021-01-16T00:43:20.674588Z",
     "shell.execute_reply": "2021-01-16T00:43:20.673930Z"
    },
    "papermill": {
     "duration": 0.047171,
     "end_time": "2021-01-16T00:43:20.674846",
     "exception": false,
     "start_time": "2021-01-16T00:43:20.627675",
     "status": "completed"
    },
    "tags": []
   },
   "outputs": [],
   "source": [
    "#hide\n",
    "dfc_cases = dft_cases.groupby(COL_REGION)[dt_today].sum()\n",
    "dfc_deaths = dft_deaths.groupby(COL_REGION)[dt_today].sum()\n",
    "# dfp_cases = dft_cases.groupby(COL_REGION)[dt_5day].sum()\n",
    "# dfp_deaths = dft_deaths.groupby(COL_REGION)[dt_5day].sum()\n",
    "dfp_cases = dft_cases.groupby(COL_REGION)[dt_yday].sum()\n",
    "dfp_deaths = dft_deaths.groupby(COL_REGION)[dt_yday].sum()"
   ]
  },
  {
   "cell_type": "code",
   "execution_count": 12,
   "metadata": {
    "execution": {
     "iopub.execute_input": "2021-01-16T00:43:20.746716Z",
     "iopub.status.busy": "2021-01-16T00:43:20.745986Z",
     "iopub.status.idle": "2021-01-16T00:43:20.751442Z",
     "shell.execute_reply": "2021-01-16T00:43:20.750900Z"
    },
    "papermill": {
     "duration": 0.043809,
     "end_time": "2021-01-16T00:43:20.751623",
     "exception": false,
     "start_time": "2021-01-16T00:43:20.707814",
     "status": "completed"
    },
    "tags": []
   },
   "outputs": [],
   "source": [
    "#hide\n",
    "df_table = (pd.DataFrame(dict(Cases = dfc_cases, Deaths = dfc_deaths, PCases = dfp_cases, PDeaths = dfp_deaths))\n",
    "            .sort_values(by = ['Cases','Deaths'], ascending = [False, False])\n",
    "            .reset_index())"
   ]
  },
  {
   "cell_type": "code",
   "execution_count": 13,
   "metadata": {
    "execution": {
     "iopub.execute_input": "2021-01-16T00:43:20.847173Z",
     "iopub.status.busy": "2021-01-16T00:43:20.846564Z",
     "iopub.status.idle": "2021-01-16T00:43:20.856299Z",
     "shell.execute_reply": "2021-01-16T00:43:20.856793Z"
    },
    "papermill": {
     "duration": 0.063074,
     "end_time": "2021-01-16T00:43:20.856946",
     "exception": false,
     "start_time": "2021-01-16T00:43:20.793872",
     "status": "completed"
    },
    "tags": []
   },
   "outputs": [
    {
     "data": {
      "text/html": [
       "<div>\n",
       "<style scoped>\n",
       "    .dataframe tbody tr th:only-of-type {\n",
       "        vertical-align: middle;\n",
       "    }\n",
       "\n",
       "    .dataframe tbody tr th {\n",
       "        vertical-align: top;\n",
       "    }\n",
       "\n",
       "    .dataframe thead th {\n",
       "        text-align: right;\n",
       "    }\n",
       "</style>\n",
       "<table border=\"1\" class=\"dataframe\">\n",
       "  <thead>\n",
       "    <tr style=\"text-align: right;\">\n",
       "      <th></th>\n",
       "      <th>Country/Region</th>\n",
       "      <th>Cases</th>\n",
       "      <th>Deaths</th>\n",
       "      <th>PCases</th>\n",
       "      <th>PDeaths</th>\n",
       "      <th>Cases (+)</th>\n",
       "      <th>Deaths (+)</th>\n",
       "      <th>Fatality Rate</th>\n",
       "      <th>Continent</th>\n",
       "    </tr>\n",
       "  </thead>\n",
       "  <tbody>\n",
       "    <tr>\n",
       "      <th>0</th>\n",
       "      <td>US</td>\n",
       "      <td>23314521</td>\n",
       "      <td>388697</td>\n",
       "      <td>23078960</td>\n",
       "      <td>384768</td>\n",
       "      <td>235561</td>\n",
       "      <td>3929</td>\n",
       "      <td>1.67</td>\n",
       "      <td>North America</td>\n",
       "    </tr>\n",
       "    <tr>\n",
       "      <th>1</th>\n",
       "      <td>India</td>\n",
       "      <td>10527683</td>\n",
       "      <td>151918</td>\n",
       "      <td>10512093</td>\n",
       "      <td>151727</td>\n",
       "      <td>15590</td>\n",
       "      <td>191</td>\n",
       "      <td>1.44</td>\n",
       "      <td>Asia</td>\n",
       "    </tr>\n",
       "    <tr>\n",
       "      <th>2</th>\n",
       "      <td>Brazil</td>\n",
       "      <td>8324294</td>\n",
       "      <td>207095</td>\n",
       "      <td>8256536</td>\n",
       "      <td>205964</td>\n",
       "      <td>67758</td>\n",
       "      <td>1131</td>\n",
       "      <td>2.49</td>\n",
       "      <td>South America</td>\n",
       "    </tr>\n",
       "    <tr>\n",
       "      <th>3</th>\n",
       "      <td>Russia</td>\n",
       "      <td>3459237</td>\n",
       "      <td>63016</td>\n",
       "      <td>3434934</td>\n",
       "      <td>62463</td>\n",
       "      <td>24303</td>\n",
       "      <td>553</td>\n",
       "      <td>1.82</td>\n",
       "      <td>Europe</td>\n",
       "    </tr>\n",
       "    <tr>\n",
       "      <th>4</th>\n",
       "      <td>United Kingdom</td>\n",
       "      <td>3269757</td>\n",
       "      <td>86163</td>\n",
       "      <td>3220953</td>\n",
       "      <td>84910</td>\n",
       "      <td>48804</td>\n",
       "      <td>1253</td>\n",
       "      <td>2.64</td>\n",
       "      <td>Europe</td>\n",
       "    </tr>\n",
       "  </tbody>\n",
       "</table>\n",
       "</div>"
      ],
      "text/plain": [
       "   Country/Region     Cases  Deaths    PCases  PDeaths  Cases (+)  Deaths (+)  \\\n",
       "0              US  23314521  388697  23078960   384768     235561        3929   \n",
       "1           India  10527683  151918  10512093   151727      15590         191   \n",
       "2          Brazil   8324294  207095   8256536   205964      67758        1131   \n",
       "3          Russia   3459237   63016   3434934    62463      24303         553   \n",
       "4  United Kingdom   3269757   86163   3220953    84910      48804        1253   \n",
       "\n",
       "   Fatality Rate      Continent  \n",
       "0           1.67  North America  \n",
       "1           1.44           Asia  \n",
       "2           2.49  South America  \n",
       "3           1.82         Europe  \n",
       "4           2.64         Europe  "
      ]
     },
     "execution_count": 13,
     "metadata": {},
     "output_type": "execute_result"
    }
   ],
   "source": [
    "#hide\n",
    "for c in 'Cases, Deaths'.split(', '):\n",
    "    df_table[f'{c} (+)'] = (df_table[c] - df_table[f'P{c}']).clip(0)\n",
    "    #Clip ça veut dire, les chiffres negatif sont interdit\n",
    "df_table['Fatality Rate'] = (100* df_table['Deaths']/ df_table['Cases']).round(2)\n",
    "df_table['Continent'] = df_table['Country/Region'].map(mapping['map.continent'])\n",
    "df_table.head(5)"
   ]
  },
  {
   "cell_type": "code",
   "execution_count": 14,
   "metadata": {
    "execution": {
     "iopub.execute_input": "2021-01-16T00:43:20.926527Z",
     "iopub.status.busy": "2021-01-16T00:43:20.925870Z",
     "iopub.status.idle": "2021-01-16T00:43:20.929470Z",
     "shell.execute_reply": "2021-01-16T00:43:20.928810Z"
    },
    "papermill": {
     "duration": 0.041139,
     "end_time": "2021-01-16T00:43:20.929624",
     "exception": false,
     "start_time": "2021-01-16T00:43:20.888485",
     "status": "completed"
    },
    "tags": []
   },
   "outputs": [],
   "source": [
    "#hide\n",
    "#delete problematic countries from table\n",
    "df_table = df_table[~df_table['Country/Region'].isin(['Cape Verde', 'Cruise Ship', 'Kosovo'])]"
   ]
  },
  {
   "cell_type": "code",
   "execution_count": 15,
   "metadata": {
    "execution": {
     "iopub.execute_input": "2021-01-16T00:43:21.001624Z",
     "iopub.status.busy": "2021-01-16T00:43:21.000826Z",
     "iopub.status.idle": "2021-01-16T00:43:21.022264Z",
     "shell.execute_reply": "2021-01-16T00:43:21.022754Z"
    },
    "papermill": {
     "duration": 0.060274,
     "end_time": "2021-01-16T00:43:21.022947",
     "exception": false,
     "start_time": "2021-01-16T00:43:20.962673",
     "status": "completed"
    },
    "tags": []
   },
   "outputs": [
    {
     "data": {
      "text/html": [
       "<div>\n",
       "<style scoped>\n",
       "    .dataframe tbody tr th:only-of-type {\n",
       "        vertical-align: middle;\n",
       "    }\n",
       "\n",
       "    .dataframe tbody tr th {\n",
       "        vertical-align: top;\n",
       "    }\n",
       "\n",
       "    .dataframe thead th {\n",
       "        text-align: right;\n",
       "    }\n",
       "</style>\n",
       "<table border=\"1\" class=\"dataframe\">\n",
       "  <thead>\n",
       "    <tr style=\"text-align: right;\">\n",
       "      <th></th>\n",
       "      <th>Country/Region</th>\n",
       "      <th>Cases</th>\n",
       "      <th>Deaths</th>\n",
       "      <th>PCases</th>\n",
       "      <th>PDeaths</th>\n",
       "      <th>Cases (+)</th>\n",
       "      <th>Deaths (+)</th>\n",
       "      <th>Fatality Rate</th>\n",
       "      <th>Continent</th>\n",
       "    </tr>\n",
       "  </thead>\n",
       "  <tbody>\n",
       "    <tr>\n",
       "      <th>0</th>\n",
       "      <td>US</td>\n",
       "      <td>23314521</td>\n",
       "      <td>388697</td>\n",
       "      <td>23078960</td>\n",
       "      <td>384768</td>\n",
       "      <td>235561</td>\n",
       "      <td>3929</td>\n",
       "      <td>1.7</td>\n",
       "      <td>North America</td>\n",
       "    </tr>\n",
       "    <tr>\n",
       "      <th>1</th>\n",
       "      <td>India</td>\n",
       "      <td>10527683</td>\n",
       "      <td>151918</td>\n",
       "      <td>10512093</td>\n",
       "      <td>151727</td>\n",
       "      <td>15590</td>\n",
       "      <td>191</td>\n",
       "      <td>1.4</td>\n",
       "      <td>Asia</td>\n",
       "    </tr>\n",
       "    <tr>\n",
       "      <th>2</th>\n",
       "      <td>Brazil</td>\n",
       "      <td>8324294</td>\n",
       "      <td>207095</td>\n",
       "      <td>8256536</td>\n",
       "      <td>205964</td>\n",
       "      <td>67758</td>\n",
       "      <td>1131</td>\n",
       "      <td>2.5</td>\n",
       "      <td>South America</td>\n",
       "    </tr>\n",
       "    <tr>\n",
       "      <th>3</th>\n",
       "      <td>Russia</td>\n",
       "      <td>3459237</td>\n",
       "      <td>63016</td>\n",
       "      <td>3434934</td>\n",
       "      <td>62463</td>\n",
       "      <td>24303</td>\n",
       "      <td>553</td>\n",
       "      <td>1.8</td>\n",
       "      <td>Europe</td>\n",
       "    </tr>\n",
       "    <tr>\n",
       "      <th>4</th>\n",
       "      <td>United Kingdom</td>\n",
       "      <td>3269757</td>\n",
       "      <td>86163</td>\n",
       "      <td>3220953</td>\n",
       "      <td>84910</td>\n",
       "      <td>48804</td>\n",
       "      <td>1253</td>\n",
       "      <td>2.6</td>\n",
       "      <td>Europe</td>\n",
       "    </tr>\n",
       "  </tbody>\n",
       "</table>\n",
       "</div>"
      ],
      "text/plain": [
       "   Country/Region     Cases  Deaths    PCases  PDeaths  Cases (+)  Deaths (+)  \\\n",
       "0              US  23314521  388697  23078960   384768     235561        3929   \n",
       "1           India  10527683  151918  10512093   151727      15590         191   \n",
       "2          Brazil   8324294  207095   8256536   205964      67758        1131   \n",
       "3          Russia   3459237   63016   3434934    62463      24303         553   \n",
       "4  United Kingdom   3269757   86163   3220953    84910      48804        1253   \n",
       "\n",
       "   Fatality Rate      Continent  \n",
       "0            1.7  North America  \n",
       "1            1.4           Asia  \n",
       "2            2.5  South America  \n",
       "3            1.8         Europe  \n",
       "4            2.6         Europe  "
      ]
     },
     "execution_count": 15,
     "metadata": {},
     "output_type": "execute_result"
    }
   ],
   "source": [
    "#hide\n",
    "df_table = (pd.DataFrame(dict(Cases=dfc_cases, Deaths=dfc_deaths, PCases=dfp_cases, PDeaths=dfp_deaths))\n",
    "             .sort_values(by=['Cases', 'Deaths'], ascending=[False, False])\n",
    "             .reset_index())\n",
    "df_table.rename(columns={'index': 'Country/Region'}, inplace=True)\n",
    "for c in 'Cases, Deaths'.split(', '):\n",
    "    df_table[f'{c} (+)'] = (df_table[c] - df_table[f'P{c}']).clip(0)  # DATA BUG\n",
    "df_table['Fatality Rate'] = (100 * df_table['Deaths'] / df_table['Cases']).round(1)\n",
    "df_table['Continent'] = df_table['Country/Region'].map(mapping['map.continent'])\n",
    "df_table.head(5)"
   ]
  },
  {
   "cell_type": "code",
   "execution_count": 16,
   "metadata": {
    "execution": {
     "iopub.execute_input": "2021-01-16T00:43:21.103603Z",
     "iopub.status.busy": "2021-01-16T00:43:21.103022Z",
     "iopub.status.idle": "2021-01-16T00:43:21.106250Z",
     "shell.execute_reply": "2021-01-16T00:43:21.105696Z"
    },
    "papermill": {
     "duration": 0.04163,
     "end_time": "2021-01-16T00:43:21.106383",
     "exception": false,
     "start_time": "2021-01-16T00:43:21.064753",
     "status": "completed"
    },
    "tags": []
   },
   "outputs": [],
   "source": [
    "#hide\n",
    "#delete problematic countries from table\n",
    "df_table = df_table[~df_table['Country/Region'].isin(['Cape Verde', 'Cruise Ship', 'Kosovo'])]"
   ]
  },
  {
   "cell_type": "code",
   "execution_count": 17,
   "metadata": {
    "execution": {
     "iopub.execute_input": "2021-01-16T00:43:21.175039Z",
     "iopub.status.busy": "2021-01-16T00:43:21.174418Z",
     "iopub.status.idle": "2021-01-16T00:43:21.188389Z",
     "shell.execute_reply": "2021-01-16T00:43:21.187861Z"
    },
    "papermill": {
     "duration": 0.052119,
     "end_time": "2021-01-16T00:43:21.188526",
     "exception": false,
     "start_time": "2021-01-16T00:43:21.136407",
     "status": "completed"
    },
    "tags": []
   },
   "outputs": [],
   "source": [
    "#hide\n",
    "metrics = [df_table.columns[index] for index in [1,2,5,6]]\n",
    "# s_china = df_table[df_table['Country/Region'].eq('China')][metrics].sum().add_prefix('China ')\n",
    "s_us = df_table[df_table['Country/Region'].eq('US')][metrics].sum().add_prefix('US ')\n",
    "s_eu = df_table[df_table['Continent'].eq('Europe')][metrics].sum().add_prefix('EU ')\n",
    "s_ind = df_table[df_table['Country/Region'].eq('India')][metrics].sum().add_prefix('India ')\n",
    "summary = {'updated': pd.to_datetime(dt_today), 'since': pd.to_datetime(dt_yday)}\n",
    "summary = {'updated': pd.to_datetime(dt_today), 'since': pd.to_datetime(dt_yday)}\n",
    "summary = {**summary, **df_table[metrics].sum(), **s_ind, **s_us, **s_eu}"
   ]
  },
  {
   "cell_type": "code",
   "execution_count": 18,
   "metadata": {
    "execution": {
     "iopub.execute_input": "2021-01-16T00:43:21.256250Z",
     "iopub.status.busy": "2021-01-16T00:43:21.255482Z",
     "iopub.status.idle": "2021-01-16T00:43:21.266462Z",
     "shell.execute_reply": "2021-01-16T00:43:21.266924Z"
    },
    "papermill": {
     "duration": 0.047107,
     "end_time": "2021-01-16T00:43:21.267057",
     "exception": false,
     "start_time": "2021-01-16T00:43:21.219950",
     "status": "completed"
    },
    "tags": []
   },
   "outputs": [],
   "source": [
    "#hide\n",
    "dft_ct_new_cases = dft_cases.groupby(COL_REGION)[dt_cols].sum().diff(axis=1).fillna(0).astype(int)"
   ]
  },
  {
   "cell_type": "code",
   "execution_count": 19,
   "metadata": {
    "execution": {
     "iopub.execute_input": "2021-01-16T00:43:21.337644Z",
     "iopub.status.busy": "2021-01-16T00:43:21.336911Z",
     "iopub.status.idle": "2021-01-16T00:43:21.343439Z",
     "shell.execute_reply": "2021-01-16T00:43:21.342845Z"
    },
    "papermill": {
     "duration": 0.044908,
     "end_time": "2021-01-16T00:43:21.343603",
     "exception": false,
     "start_time": "2021-01-16T00:43:21.298695",
     "status": "completed"
    },
    "tags": []
   },
   "outputs": [],
   "source": [
    "#hide\n",
    "everydaycases = dft_ct_new_cases.cumsum(axis=1)"
   ]
  },
  {
   "cell_type": "code",
   "execution_count": 20,
   "metadata": {
    "execution": {
     "iopub.execute_input": "2021-01-16T00:43:21.418288Z",
     "iopub.status.busy": "2021-01-16T00:43:21.417611Z",
     "iopub.status.idle": "2021-01-16T00:43:24.535708Z",
     "shell.execute_reply": "2021-01-16T00:43:24.535153Z"
    },
    "papermill": {
     "duration": 3.158075,
     "end_time": "2021-01-16T00:43:24.535852",
     "exception": false,
     "start_time": "2021-01-16T00:43:21.377777",
     "status": "completed"
    },
    "tags": []
   },
   "outputs": [],
   "source": [
    "#hide\n",
    "import pandas as pd\n",
    "import matplotlib.pyplot as plt\n",
    "import matplotlib.ticker as ticker\n",
    "import matplotlib.animation as animation\n",
    "from IPython.display import HTML"
   ]
  },
  {
   "cell_type": "code",
   "execution_count": 21,
   "metadata": {
    "execution": {
     "iopub.execute_input": "2021-01-16T00:43:24.608922Z",
     "iopub.status.busy": "2021-01-16T00:43:24.608264Z",
     "iopub.status.idle": "2021-01-16T00:43:24.612861Z",
     "shell.execute_reply": "2021-01-16T00:43:24.613534Z"
    },
    "papermill": {
     "duration": 0.043012,
     "end_time": "2021-01-16T00:43:24.613704",
     "exception": false,
     "start_time": "2021-01-16T00:43:24.570692",
     "status": "completed"
    },
    "tags": []
   },
   "outputs": [],
   "source": [
    "#hide\n",
    "t = everydaycases.stack()"
   ]
  },
  {
   "cell_type": "code",
   "execution_count": 22,
   "metadata": {
    "execution": {
     "iopub.execute_input": "2021-01-16T00:43:24.680456Z",
     "iopub.status.busy": "2021-01-16T00:43:24.679822Z",
     "iopub.status.idle": "2021-01-16T00:43:24.686369Z",
     "shell.execute_reply": "2021-01-16T00:43:24.686889Z"
    },
    "papermill": {
     "duration": 0.042019,
     "end_time": "2021-01-16T00:43:24.687049",
     "exception": false,
     "start_time": "2021-01-16T00:43:24.645030",
     "status": "completed"
    },
    "tags": []
   },
   "outputs": [],
   "source": [
    "#hide\n",
    "g = t.reset_index(['Country/Region'])"
   ]
  },
  {
   "cell_type": "code",
   "execution_count": 23,
   "metadata": {
    "execution": {
     "iopub.execute_input": "2021-01-16T00:43:24.750826Z",
     "iopub.status.busy": "2021-01-16T00:43:24.750206Z",
     "iopub.status.idle": "2021-01-16T00:43:24.752571Z",
     "shell.execute_reply": "2021-01-16T00:43:24.752072Z"
    },
    "papermill": {
     "duration": 0.036242,
     "end_time": "2021-01-16T00:43:24.752718",
     "exception": false,
     "start_time": "2021-01-16T00:43:24.716476",
     "status": "completed"
    },
    "tags": []
   },
   "outputs": [],
   "source": [
    "#hide\n",
    "g.index.name = 'date'"
   ]
  },
  {
   "cell_type": "code",
   "execution_count": 24,
   "metadata": {
    "execution": {
     "iopub.execute_input": "2021-01-16T00:43:24.818807Z",
     "iopub.status.busy": "2021-01-16T00:43:24.817803Z",
     "iopub.status.idle": "2021-01-16T00:43:24.822566Z",
     "shell.execute_reply": "2021-01-16T00:43:24.821591Z"
    },
    "papermill": {
     "duration": 0.039923,
     "end_time": "2021-01-16T00:43:24.822698",
     "exception": false,
     "start_time": "2021-01-16T00:43:24.782775",
     "status": "completed"
    },
    "tags": []
   },
   "outputs": [],
   "source": [
    "# #hide\n",
    "# g = g.reset_index(['date'])"
   ]
  },
  {
   "cell_type": "code",
   "execution_count": 25,
   "metadata": {
    "execution": {
     "iopub.execute_input": "2021-01-16T00:43:24.904101Z",
     "iopub.status.busy": "2021-01-16T00:43:24.903484Z",
     "iopub.status.idle": "2021-01-16T00:43:24.905915Z",
     "shell.execute_reply": "2021-01-16T00:43:24.905254Z"
    },
    "papermill": {
     "duration": 0.049642,
     "end_time": "2021-01-16T00:43:24.906038",
     "exception": false,
     "start_time": "2021-01-16T00:43:24.856396",
     "status": "completed"
    },
    "tags": []
   },
   "outputs": [],
   "source": [
    "#hide\n",
    "# g.head()"
   ]
  },
  {
   "cell_type": "code",
   "execution_count": 26,
   "metadata": {
    "execution": {
     "iopub.execute_input": "2021-01-16T00:43:24.976115Z",
     "iopub.status.busy": "2021-01-16T00:43:24.975420Z",
     "iopub.status.idle": "2021-01-16T00:43:24.977339Z",
     "shell.execute_reply": "2021-01-16T00:43:24.977852Z"
    },
    "papermill": {
     "duration": 0.039899,
     "end_time": "2021-01-16T00:43:24.977994",
     "exception": false,
     "start_time": "2021-01-16T00:43:24.938095",
     "status": "completed"
    },
    "tags": []
   },
   "outputs": [],
   "source": [
    "#hide\n",
    "# g.columns = ['date','country','cases']"
   ]
  },
  {
   "cell_type": "code",
   "execution_count": 27,
   "metadata": {
    "execution": {
     "iopub.execute_input": "2021-01-16T00:43:25.043826Z",
     "iopub.status.busy": "2021-01-16T00:43:25.043231Z",
     "iopub.status.idle": "2021-01-16T00:43:25.045703Z",
     "shell.execute_reply": "2021-01-16T00:43:25.045168Z"
    },
    "papermill": {
     "duration": 0.036072,
     "end_time": "2021-01-16T00:43:25.045819",
     "exception": false,
     "start_time": "2021-01-16T00:43:25.009747",
     "status": "completed"
    },
    "tags": []
   },
   "outputs": [],
   "source": [
    "#hide\n",
    "# g['continent'] = g.country"
   ]
  },
  {
   "cell_type": "code",
   "execution_count": 28,
   "metadata": {
    "execution": {
     "iopub.execute_input": "2021-01-16T00:43:25.120054Z",
     "iopub.status.busy": "2021-01-16T00:43:25.119366Z",
     "iopub.status.idle": "2021-01-16T00:43:25.121771Z",
     "shell.execute_reply": "2021-01-16T00:43:25.121242Z"
    },
    "papermill": {
     "duration": 0.039308,
     "end_time": "2021-01-16T00:43:25.121895",
     "exception": false,
     "start_time": "2021-01-16T00:43:25.082587",
     "status": "completed"
    },
    "tags": []
   },
   "outputs": [],
   "source": [
    "#hide\n",
    "# cols = list(g.columns.values)"
   ]
  },
  {
   "cell_type": "code",
   "execution_count": 29,
   "metadata": {
    "execution": {
     "iopub.execute_input": "2021-01-16T00:43:25.191937Z",
     "iopub.status.busy": "2021-01-16T00:43:25.191341Z",
     "iopub.status.idle": "2021-01-16T00:43:25.194008Z",
     "shell.execute_reply": "2021-01-16T00:43:25.193237Z"
    },
    "papermill": {
     "duration": 0.03948,
     "end_time": "2021-01-16T00:43:25.194166",
     "exception": false,
     "start_time": "2021-01-16T00:43:25.154686",
     "status": "completed"
    },
    "tags": []
   },
   "outputs": [],
   "source": [
    "#hide\n",
    "# cols.insert(0, cols.pop())"
   ]
  },
  {
   "cell_type": "code",
   "execution_count": 30,
   "metadata": {
    "execution": {
     "iopub.execute_input": "2021-01-16T00:43:25.262771Z",
     "iopub.status.busy": "2021-01-16T00:43:25.261941Z",
     "iopub.status.idle": "2021-01-16T00:43:25.263820Z",
     "shell.execute_reply": "2021-01-16T00:43:25.264338Z"
    },
    "papermill": {
     "duration": 0.038476,
     "end_time": "2021-01-16T00:43:25.264488",
     "exception": false,
     "start_time": "2021-01-16T00:43:25.226012",
     "status": "completed"
    },
    "tags": []
   },
   "outputs": [],
   "source": [
    "#hide\n",
    "# g = g[cols]"
   ]
  },
  {
   "cell_type": "code",
   "execution_count": 31,
   "metadata": {
    "execution": {
     "iopub.execute_input": "2021-01-16T00:43:25.331946Z",
     "iopub.status.busy": "2021-01-16T00:43:25.331227Z",
     "iopub.status.idle": "2021-01-16T00:43:25.333125Z",
     "shell.execute_reply": "2021-01-16T00:43:25.333901Z"
    },
    "papermill": {
     "duration": 0.037719,
     "end_time": "2021-01-16T00:43:25.334063",
     "exception": false,
     "start_time": "2021-01-16T00:43:25.296344",
     "status": "completed"
    },
    "tags": []
   },
   "outputs": [],
   "source": [
    "#hide\n",
    "# g['continent'] = g['continent'].map(mapping['map.continent'])"
   ]
  },
  {
   "cell_type": "code",
   "execution_count": 32,
   "metadata": {
    "execution": {
     "iopub.execute_input": "2021-01-16T00:43:25.410986Z",
     "iopub.status.busy": "2021-01-16T00:43:25.409817Z",
     "iopub.status.idle": "2021-01-16T00:43:25.411805Z",
     "shell.execute_reply": "2021-01-16T00:43:25.412523Z"
    },
    "papermill": {
     "duration": 0.042622,
     "end_time": "2021-01-16T00:43:25.412725",
     "exception": false,
     "start_time": "2021-01-16T00:43:25.370103",
     "status": "completed"
    },
    "tags": []
   },
   "outputs": [],
   "source": [
    "#hide\n",
    "# g.head()"
   ]
  },
  {
   "cell_type": "code",
   "execution_count": 33,
   "metadata": {
    "execution": {
     "iopub.execute_input": "2021-01-16T00:43:25.494335Z",
     "iopub.status.busy": "2021-01-16T00:43:25.493620Z",
     "iopub.status.idle": "2021-01-16T00:43:25.495617Z",
     "shell.execute_reply": "2021-01-16T00:43:25.496241Z"
    },
    "papermill": {
     "duration": 0.042062,
     "end_time": "2021-01-16T00:43:25.496440",
     "exception": false,
     "start_time": "2021-01-16T00:43:25.454378",
     "status": "completed"
    },
    "tags": []
   },
   "outputs": [],
   "source": [
    "# hide\n",
    "# g['date'] = g['date'].astype('datetime64[ns]')"
   ]
  },
  {
   "cell_type": "code",
   "execution_count": 34,
   "metadata": {
    "execution": {
     "iopub.execute_input": "2021-01-16T00:43:25.569437Z",
     "iopub.status.busy": "2021-01-16T00:43:25.568411Z",
     "iopub.status.idle": "2021-01-16T00:43:25.572618Z",
     "shell.execute_reply": "2021-01-16T00:43:25.571979Z"
    },
    "papermill": {
     "duration": 0.041072,
     "end_time": "2021-01-16T00:43:25.572797",
     "exception": false,
     "start_time": "2021-01-16T00:43:25.531725",
     "status": "completed"
    },
    "tags": []
   },
   "outputs": [],
   "source": [
    "#hide\n",
    "# g['date'] = g.date.dt.dayofyear"
   ]
  },
  {
   "cell_type": "code",
   "execution_count": 35,
   "metadata": {
    "execution": {
     "iopub.execute_input": "2021-01-16T00:43:25.644255Z",
     "iopub.status.busy": "2021-01-16T00:43:25.643654Z",
     "iopub.status.idle": "2021-01-16T00:43:25.646061Z",
     "shell.execute_reply": "2021-01-16T00:43:25.645302Z"
    },
    "papermill": {
     "duration": 0.037773,
     "end_time": "2021-01-16T00:43:25.646183",
     "exception": false,
     "start_time": "2021-01-16T00:43:25.608410",
     "status": "completed"
    },
    "tags": []
   },
   "outputs": [],
   "source": [
    "#hide\n",
    "# g = g.rename(columns= {'continent':'group','country':'name','cases':'value'})"
   ]
  },
  {
   "cell_type": "code",
   "execution_count": 36,
   "metadata": {
    "execution": {
     "iopub.execute_input": "2021-01-16T00:43:25.717434Z",
     "iopub.status.busy": "2021-01-16T00:43:25.716770Z",
     "iopub.status.idle": "2021-01-16T00:43:25.719141Z",
     "shell.execute_reply": "2021-01-16T00:43:25.718554Z"
    },
    "papermill": {
     "duration": 0.040208,
     "end_time": "2021-01-16T00:43:25.719262",
     "exception": false,
     "start_time": "2021-01-16T00:43:25.679054",
     "status": "completed"
    },
    "tags": []
   },
   "outputs": [],
   "source": [
    "#hide\n",
    "# cols = ['name','group','day','value']"
   ]
  },
  {
   "cell_type": "code",
   "execution_count": 37,
   "metadata": {
    "execution": {
     "iopub.execute_input": "2021-01-16T00:43:25.782851Z",
     "iopub.status.busy": "2021-01-16T00:43:25.782244Z",
     "iopub.status.idle": "2021-01-16T00:43:25.784746Z",
     "shell.execute_reply": "2021-01-16T00:43:25.784251Z"
    },
    "papermill": {
     "duration": 0.035745,
     "end_time": "2021-01-16T00:43:25.784907",
     "exception": false,
     "start_time": "2021-01-16T00:43:25.749162",
     "status": "completed"
    },
    "tags": []
   },
   "outputs": [],
   "source": [
    "#hide\n",
    "# g.rename(columns= {'date':'day'},inplace = True)"
   ]
  },
  {
   "cell_type": "code",
   "execution_count": 38,
   "metadata": {
    "execution": {
     "iopub.execute_input": "2021-01-16T00:43:25.853702Z",
     "iopub.status.busy": "2021-01-16T00:43:25.853058Z",
     "iopub.status.idle": "2021-01-16T00:43:25.855235Z",
     "shell.execute_reply": "2021-01-16T00:43:25.854648Z"
    },
    "papermill": {
     "duration": 0.037645,
     "end_time": "2021-01-16T00:43:25.855377",
     "exception": false,
     "start_time": "2021-01-16T00:43:25.817732",
     "status": "completed"
    },
    "tags": []
   },
   "outputs": [],
   "source": [
    "#hide\n",
    "# g = g[cols]"
   ]
  },
  {
   "cell_type": "code",
   "execution_count": 39,
   "metadata": {
    "execution": {
     "iopub.execute_input": "2021-01-16T00:43:25.925054Z",
     "iopub.status.busy": "2021-01-16T00:43:25.924423Z",
     "iopub.status.idle": "2021-01-16T00:43:25.926003Z",
     "shell.execute_reply": "2021-01-16T00:43:25.926603Z"
    },
    "papermill": {
     "duration": 0.037906,
     "end_time": "2021-01-16T00:43:25.926778",
     "exception": false,
     "start_time": "2021-01-16T00:43:25.888872",
     "status": "completed"
    },
    "tags": []
   },
   "outputs": [],
   "source": [
    "# #hide\n",
    "# g = g[g.group.notna()]"
   ]
  },
  {
   "cell_type": "code",
   "execution_count": 40,
   "metadata": {
    "execution": {
     "iopub.execute_input": "2021-01-16T00:43:25.993460Z",
     "iopub.status.busy": "2021-01-16T00:43:25.992668Z",
     "iopub.status.idle": "2021-01-16T00:43:25.994379Z",
     "shell.execute_reply": "2021-01-16T00:43:25.994953Z"
    },
    "papermill": {
     "duration": 0.037302,
     "end_time": "2021-01-16T00:43:25.995129",
     "exception": false,
     "start_time": "2021-01-16T00:43:25.957827",
     "status": "completed"
    },
    "tags": []
   },
   "outputs": [],
   "source": [
    "# #hide\n",
    "# colors = dict(zip(\n",
    "#     [\"Oceania\", \"Europe\", \"Asia\", \"South America\", \"Middle East\", \"North America\", \"Africa\"],\n",
    "#     [\"#adb0ff\", \"#ffb3ff\", \"#90d595\", \"#e48381\", \"#aafbff\", \"#f7bb5f\", \"#eafb50\"]\n",
    "# ))\n",
    "# group_lk = g.set_index('name')['group'].to_dict()"
   ]
  },
  {
   "cell_type": "code",
   "execution_count": null,
   "metadata": {
    "papermill": {
     "duration": 0.030165,
     "end_time": "2021-01-16T00:43:26.056006",
     "exception": false,
     "start_time": "2021-01-16T00:43:26.025841",
     "status": "completed"
    },
    "tags": []
   },
   "outputs": [],
   "source": []
  },
  {
   "cell_type": "code",
   "execution_count": 41,
   "metadata": {
    "execution": {
     "iopub.execute_input": "2021-01-16T00:43:26.128322Z",
     "iopub.status.busy": "2021-01-16T00:43:26.127339Z",
     "iopub.status.idle": "2021-01-16T00:43:26.128876Z",
     "shell.execute_reply": "2021-01-16T00:43:26.129448Z"
    },
    "papermill": {
     "duration": 0.040804,
     "end_time": "2021-01-16T00:43:26.129584",
     "exception": false,
     "start_time": "2021-01-16T00:43:26.088780",
     "status": "completed"
    },
    "tags": []
   },
   "outputs": [],
   "source": [
    "# #hide\n",
    "# fig, ax = plt.subplots(figsize=(15, 8))\n",
    "\n",
    "# def draw_barchart(current_day):\n",
    "#     dff = g[g['day'].eq(current_day)].sort_values(by='value', ascending=True).tail(10)\n",
    "#     ax.clear()\n",
    "#     ax.barh(dff['name'], dff['value'], color=[colors[group_lk[x]] for x in dff['name']])\n",
    "#     dx = dff['value'].max() / 200\n",
    "    \n",
    "#     for i, (value, name) in enumerate(zip(dff['value'], dff['name'])):\n",
    "#         ax.text(value-dx, i,     name,           size=14, weight=600, ha='right', va='bottom')\n",
    "#         ax.text(value-dx, i-.25, group_lk[name], size=10, color='#444444', ha='right', va='baseline')\n",
    "#         ax.text(value+dx, i,     f'{value:,.0f}',  size=14, ha='left',  va='center')\n",
    "#     ax.text(1, 0.4, current_day, transform=ax.transAxes, color='#777777', size=46, ha='right', weight=800)\n",
    "#     ax.text(0, 1.06, 'Population (thousands)', transform=ax.transAxes, size=12, color='#777777')\n",
    "#     ax.xaxis.set_major_formatter(ticker.StrMethodFormatter('{x:,.0f}'))\n",
    "#     ax.xaxis.set_ticks_position('top')\n",
    "#     ax.tick_params(axis='x', colors='#777777', labelsize=12)\n",
    "#     ax.set_yticks([])\n",
    "#     ax.margins(0, 0.01)\n",
    "#     ax.grid(which='major', axis='x', linestyle='-')\n",
    "#     ax.set_axisbelow(True)\n",
    "    \n",
    "#     ax.text(0, 1.15, 'Coronavirus',\n",
    "#             transform=ax.transAxes, size=24, weight=600, ha='left', va='top')\n",
    "# #     ax.text(1, 0, 'by @pratapvardhan; credit @jburnmurdoch', transform=ax.transAxes, color='#777777', ha='right',\n",
    "# #             bbox=dict(facecolor='white', alpha=0.8, edgecolor='white'))\n",
    "#     plt.box(False)"
   ]
  },
  {
   "cell_type": "code",
   "execution_count": 42,
   "metadata": {
    "execution": {
     "iopub.execute_input": "2021-01-16T00:43:26.196751Z",
     "iopub.status.busy": "2021-01-16T00:43:26.196115Z",
     "iopub.status.idle": "2021-01-16T00:43:26.198014Z",
     "shell.execute_reply": "2021-01-16T00:43:26.198543Z"
    },
    "papermill": {
     "duration": 0.0374,
     "end_time": "2021-01-16T00:43:26.198664",
     "exception": false,
     "start_time": "2021-01-16T00:43:26.161264",
     "status": "completed"
    },
    "tags": []
   },
   "outputs": [],
   "source": [
    "# #hide_input\n",
    "# fig, ax = plt.subplots(figsize=(15, 8))\n",
    "# animator = animation.FuncAnimation(fig, draw_barchart, frames=range(g.day.values.min(), g.day.values.max()))\n",
    "# HTML(animator.to_jshtml())\n",
    "# # or use animator.to_html5_video() or animator.save() "
   ]
  },
  {
   "cell_type": "code",
   "execution_count": null,
   "metadata": {
    "papermill": {
     "duration": 0.033256,
     "end_time": "2021-01-16T00:43:26.264342",
     "exception": false,
     "start_time": "2021-01-16T00:43:26.231086",
     "status": "completed"
    },
    "tags": []
   },
   "outputs": [],
   "source": []
  },
  {
   "cell_type": "code",
   "execution_count": null,
   "metadata": {
    "papermill": {
     "duration": 0.032406,
     "end_time": "2021-01-16T00:43:26.328690",
     "exception": false,
     "start_time": "2021-01-16T00:43:26.296284",
     "status": "completed"
    },
    "tags": []
   },
   "outputs": [],
   "source": []
  },
  {
   "cell_type": "code",
   "execution_count": null,
   "metadata": {
    "papermill": {
     "duration": 0.035415,
     "end_time": "2021-01-16T00:43:26.398394",
     "exception": false,
     "start_time": "2021-01-16T00:43:26.362979",
     "status": "completed"
    },
    "tags": []
   },
   "outputs": [],
   "source": []
  }
 ],
 "metadata": {
  "kernelspec": {
   "display_name": "Python 3",
   "language": "python",
   "name": "python3"
  },
  "language_info": {
   "codemirror_mode": {
    "name": "ipython",
    "version": 3
   },
   "file_extension": ".py",
   "mimetype": "text/x-python",
   "name": "python",
   "nbconvert_exporter": "python",
   "pygments_lexer": "ipython3",
   "version": "3.6.12"
  },
  "papermill": {
   "duration": 9.049331,
   "end_time": "2021-01-16T00:43:26.742093",
   "environment_variables": {},
   "exception": null,
   "input_path": "2020-03-21-covid19exp.ipynb",
   "output_path": "2020-03-21-covid19exp.ipynb",
   "parameters": {},
   "start_time": "2021-01-16T00:43:17.692762",
   "version": "2.0.0"
  }
 },
 "nbformat": 4,
 "nbformat_minor": 4
}