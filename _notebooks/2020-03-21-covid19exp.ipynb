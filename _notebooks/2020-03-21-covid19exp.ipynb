{
 "cells": [
  {
   "cell_type": "markdown",
   "id": "muslim-click",
   "metadata": {
    "papermill": {
     "duration": 0.037887,
     "end_time": "2022-03-10T12:14:43.975536",
     "exception": false,
     "start_time": "2022-03-10T12:14:43.937649",
     "status": "completed"
    },
    "tags": []
   },
   "source": [
    "# COVID-19 Case Race\n",
    "> A race chart to see rising cases around the world\n",
    "\n",
    "- author: Hargun Oberoi\n",
    "- image: images/covid-overview.png\n",
    "- hide: false\n",
    "- badges: false"
   ]
  },
  {
   "cell_type": "code",
   "execution_count": 1,
   "id": "proof-material",
   "metadata": {
    "execution": {
     "iopub.execute_input": "2022-03-10T12:14:44.056573Z",
     "iopub.status.busy": "2022-03-10T12:14:44.055922Z",
     "iopub.status.idle": "2022-03-10T12:14:44.502756Z",
     "shell.execute_reply": "2022-03-10T12:14:44.501454Z"
    },
    "papermill": {
     "duration": 0.491891,
     "end_time": "2022-03-10T12:14:44.502925",
     "exception": false,
     "start_time": "2022-03-10T12:14:44.011034",
     "status": "completed"
    },
    "tags": []
   },
   "outputs": [],
   "source": [
    "#hide\n",
    "import numpy as np\n",
    "import pandas as pd\n",
    "from jinja2 import Template\n",
    "from IPython.display import HTML"
   ]
  },
  {
   "cell_type": "code",
   "execution_count": 2,
   "id": "developed-terminology",
   "metadata": {
    "execution": {
     "iopub.execute_input": "2022-03-10T12:14:44.584509Z",
     "iopub.status.busy": "2022-03-10T12:14:44.583846Z",
     "iopub.status.idle": "2022-03-10T12:14:44.585290Z",
     "shell.execute_reply": "2022-03-10T12:14:44.585858Z"
    },
    "papermill": {
     "duration": 0.044034,
     "end_time": "2022-03-10T12:14:44.586007",
     "exception": false,
     "start_time": "2022-03-10T12:14:44.541973",
     "status": "completed"
    },
    "tags": []
   },
   "outputs": [],
   "source": [
    "#hide\n",
    "\n",
    "# FETCH\n",
    "base_url = 'https://raw.githubusercontent.com/pratapvardhan/notebooks/master/covid19/'\n",
    "paths = {\n",
    "    'mapping': base_url + 'mapping_countries.csv',\n",
    "    'overview': base_url + 'overview.tpl'\n",
    "}"
   ]
  },
  {
   "cell_type": "code",
   "execution_count": 3,
   "id": "dynamic-saver",
   "metadata": {
    "execution": {
     "iopub.execute_input": "2022-03-10T12:14:44.674838Z",
     "iopub.status.busy": "2022-03-10T12:14:44.674165Z",
     "iopub.status.idle": "2022-03-10T12:14:44.676530Z",
     "shell.execute_reply": "2022-03-10T12:14:44.677090Z"
    },
    "papermill": {
     "duration": 0.049602,
     "end_time": "2022-03-10T12:14:44.677246",
     "exception": false,
     "start_time": "2022-03-10T12:14:44.627644",
     "status": "completed"
    },
    "tags": []
   },
   "outputs": [
    {
     "data": {
      "text/plain": [
       "'https://raw.githubusercontent.com/pratapvardhan/notebooks/master/covid19/mapping_countries.csv'"
      ]
     },
     "execution_count": 3,
     "metadata": {},
     "output_type": "execute_result"
    }
   ],
   "source": [
    "#hide\n",
    "paths['mapping']"
   ]
  },
  {
   "cell_type": "code",
   "execution_count": 4,
   "id": "urban-software",
   "metadata": {
    "execution": {
     "iopub.execute_input": "2022-03-10T12:14:44.760767Z",
     "iopub.status.busy": "2022-03-10T12:14:44.760102Z",
     "iopub.status.idle": "2022-03-10T12:14:44.764707Z",
     "shell.execute_reply": "2022-03-10T12:14:44.765170Z"
    },
    "papermill": {
     "duration": 0.050534,
     "end_time": "2022-03-10T12:14:44.765337",
     "exception": false,
     "start_time": "2022-03-10T12:14:44.714803",
     "status": "completed"
    },
    "tags": []
   },
   "outputs": [],
   "source": [
    "#hide\n",
    "def get_mappings(url):\n",
    "    df = pd.read_csv(url)\n",
    "    return {\n",
    "        'df': df,\n",
    "        'replace.country': dict(df.dropna(subset=['Name']).set_index('Country')['Name']),\n",
    "        'map.continent': dict(df.set_index('Name')['Continent'])\n",
    "    }"
   ]
  },
  {
   "cell_type": "code",
   "execution_count": 5,
   "id": "intimate-machinery",
   "metadata": {
    "execution": {
     "iopub.execute_input": "2022-03-10T12:14:44.837720Z",
     "iopub.status.busy": "2022-03-10T12:14:44.837083Z",
     "iopub.status.idle": "2022-03-10T12:14:44.871859Z",
     "shell.execute_reply": "2022-03-10T12:14:44.871289Z"
    },
    "papermill": {
     "duration": 0.072766,
     "end_time": "2022-03-10T12:14:44.872018",
     "exception": false,
     "start_time": "2022-03-10T12:14:44.799252",
     "status": "completed"
    },
    "tags": []
   },
   "outputs": [],
   "source": [
    "#hide\n",
    "mapping = get_mappings(paths['mapping'])"
   ]
  },
  {
   "cell_type": "code",
   "execution_count": 6,
   "id": "certified-tactics",
   "metadata": {
    "execution": {
     "iopub.execute_input": "2022-03-10T12:14:44.949045Z",
     "iopub.status.busy": "2022-03-10T12:14:44.947894Z",
     "iopub.status.idle": "2022-03-10T12:14:44.953039Z",
     "shell.execute_reply": "2022-03-10T12:14:44.952406Z"
    },
    "papermill": {
     "duration": 0.047096,
     "end_time": "2022-03-10T12:14:44.953180",
     "exception": false,
     "start_time": "2022-03-10T12:14:44.906084",
     "status": "completed"
    },
    "tags": []
   },
   "outputs": [],
   "source": [
    "#hide\n",
    "def get_template(path):\n",
    "    from urllib.parse import urlparse\n",
    "    if bool(urlparse(path).netloc):\n",
    "        from urllib.request import urlopen\n",
    "        return urlopen(path).read().decode('utf8')\n",
    "    return open(path).read()"
   ]
  },
  {
   "cell_type": "code",
   "execution_count": 7,
   "id": "realistic-blast",
   "metadata": {
    "execution": {
     "iopub.execute_input": "2022-03-10T12:14:45.028360Z",
     "iopub.status.busy": "2022-03-10T12:14:45.027714Z",
     "iopub.status.idle": "2022-03-10T12:14:45.029620Z",
     "shell.execute_reply": "2022-03-10T12:14:45.030098Z"
    },
    "papermill": {
     "duration": 0.042225,
     "end_time": "2022-03-10T12:14:45.030252",
     "exception": false,
     "start_time": "2022-03-10T12:14:44.988027",
     "status": "completed"
    },
    "tags": []
   },
   "outputs": [],
   "source": [
    "#hide\n",
    "def get_frame(name):\n",
    "    url = (\n",
    "        'https://raw.githubusercontent.com/CSSEGISandData/COVID-19/master/csse_covid_19_data/'\n",
    "        f'csse_covid_19_time_series/time_series_covid19_{name}_global.csv')\n",
    "    df = pd.read_csv(url)\n",
    "    # rename countries\n",
    "    df['Country/Region'] = df['Country/Region'].replace(mapping['replace.country'])\n",
    "    return df"
   ]
  },
  {
   "cell_type": "code",
   "execution_count": 8,
   "id": "affiliated-characterization",
   "metadata": {
    "execution": {
     "iopub.execute_input": "2022-03-10T12:14:45.104969Z",
     "iopub.status.busy": "2022-03-10T12:14:45.104318Z",
     "iopub.status.idle": "2022-03-10T12:14:45.108676Z",
     "shell.execute_reply": "2022-03-10T12:14:45.108161Z"
    },
    "papermill": {
     "duration": 0.044389,
     "end_time": "2022-03-10T12:14:45.108806",
     "exception": false,
     "start_time": "2022-03-10T12:14:45.064417",
     "status": "completed"
    },
    "tags": []
   },
   "outputs": [],
   "source": [
    "#hide\n",
    "def get_dates(df):\n",
    "    dt_cols = df.columns[~df.columns.isin(['Province/State', 'Country/Region', 'Lat', 'Long'])]\n",
    "    LAST_DATE_I = -1\n",
    "    # sometimes last column may be empty, then go backwards\n",
    "    for i in range(-1, -len(dt_cols), -1):\n",
    "        if not df[dt_cols[i]].fillna(0).eq(0).all():\n",
    "            LAST_DATE_I = i\n",
    "            break\n",
    "    return LAST_DATE_I, dt_cols"
   ]
  },
  {
   "cell_type": "code",
   "execution_count": 9,
   "id": "recent-optimization",
   "metadata": {
    "execution": {
     "iopub.execute_input": "2022-03-10T12:14:45.183161Z",
     "iopub.status.busy": "2022-03-10T12:14:45.182487Z",
     "iopub.status.idle": "2022-03-10T12:14:45.591938Z",
     "shell.execute_reply": "2022-03-10T12:14:45.591006Z"
    },
    "papermill": {
     "duration": 0.449445,
     "end_time": "2022-03-10T12:14:45.592126",
     "exception": false,
     "start_time": "2022-03-10T12:14:45.142681",
     "status": "completed"
    },
    "tags": []
   },
   "outputs": [],
   "source": [
    "#hide\n",
    "COL_REGION = 'Country/Region'\n",
    "# Confirmed, Recovered, Deaths\n",
    "df = get_frame('confirmed')\n",
    "# dft_: timeseries, dfc_: today country agg\n",
    "dft_cases = df\n",
    "dft_deaths = get_frame('deaths')\n",
    "dft_recovered = get_frame('recovered')\n",
    "LAST_DATE_I, dt_cols = get_dates(df)"
   ]
  },
  {
   "cell_type": "code",
   "execution_count": 10,
   "id": "absolute-copper",
   "metadata": {
    "execution": {
     "iopub.execute_input": "2022-03-10T12:14:45.694747Z",
     "iopub.status.busy": "2022-03-10T12:14:45.694118Z",
     "iopub.status.idle": "2022-03-10T12:14:45.695758Z",
     "shell.execute_reply": "2022-03-10T12:14:45.696242Z"
    },
    "papermill": {
     "duration": 0.055887,
     "end_time": "2022-03-10T12:14:45.696391",
     "exception": false,
     "start_time": "2022-03-10T12:14:45.640504",
     "status": "completed"
    },
    "tags": []
   },
   "outputs": [],
   "source": [
    "#hide\n",
    "LAST_DATE_I, dt_cols = get_dates(df)\n",
    "dt_today =dt_cols[LAST_DATE_I]\n",
    "# dt_5day = dt_cols[LAST_DATE_I - 5]\n",
    "dt_yday = dt_cols[LAST_DATE_I - 1]"
   ]
  },
  {
   "cell_type": "code",
   "execution_count": 11,
   "id": "restricted-sheriff",
   "metadata": {
    "execution": {
     "iopub.execute_input": "2022-03-10T12:14:45.773344Z",
     "iopub.status.busy": "2022-03-10T12:14:45.772710Z",
     "iopub.status.idle": "2022-03-10T12:14:45.781354Z",
     "shell.execute_reply": "2022-03-10T12:14:45.780864Z"
    },
    "papermill": {
     "duration": 0.051387,
     "end_time": "2022-03-10T12:14:45.781491",
     "exception": false,
     "start_time": "2022-03-10T12:14:45.730104",
     "status": "completed"
    },
    "tags": []
   },
   "outputs": [],
   "source": [
    "#hide\n",
    "dfc_cases = dft_cases.groupby(COL_REGION)[dt_today].sum()\n",
    "dfc_deaths = dft_deaths.groupby(COL_REGION)[dt_today].sum()\n",
    "# dfp_cases = dft_cases.groupby(COL_REGION)[dt_5day].sum()\n",
    "# dfp_deaths = dft_deaths.groupby(COL_REGION)[dt_5day].sum()\n",
    "dfp_cases = dft_cases.groupby(COL_REGION)[dt_yday].sum()\n",
    "dfp_deaths = dft_deaths.groupby(COL_REGION)[dt_yday].sum()"
   ]
  },
  {
   "cell_type": "code",
   "execution_count": 12,
   "id": "deluxe-hepatitis",
   "metadata": {
    "execution": {
     "iopub.execute_input": "2022-03-10T12:14:45.856406Z",
     "iopub.status.busy": "2022-03-10T12:14:45.855789Z",
     "iopub.status.idle": "2022-03-10T12:14:45.860788Z",
     "shell.execute_reply": "2022-03-10T12:14:45.860298Z"
    },
    "papermill": {
     "duration": 0.045503,
     "end_time": "2022-03-10T12:14:45.860921",
     "exception": false,
     "start_time": "2022-03-10T12:14:45.815418",
     "status": "completed"
    },
    "tags": []
   },
   "outputs": [],
   "source": [
    "#hide\n",
    "df_table = (pd.DataFrame(dict(Cases = dfc_cases, Deaths = dfc_deaths, PCases = dfp_cases, PDeaths = dfp_deaths))\n",
    "            .sort_values(by = ['Cases','Deaths'], ascending = [False, False])\n",
    "            .reset_index())"
   ]
  },
  {
   "cell_type": "code",
   "execution_count": 13,
   "id": "educational-chancellor",
   "metadata": {
    "execution": {
     "iopub.execute_input": "2022-03-10T12:14:45.949650Z",
     "iopub.status.busy": "2022-03-10T12:14:45.948974Z",
     "iopub.status.idle": "2022-03-10T12:14:45.958981Z",
     "shell.execute_reply": "2022-03-10T12:14:45.959505Z"
    },
    "papermill": {
     "duration": 0.06505,
     "end_time": "2022-03-10T12:14:45.959670",
     "exception": false,
     "start_time": "2022-03-10T12:14:45.894620",
     "status": "completed"
    },
    "tags": []
   },
   "outputs": [
    {
     "data": {
      "text/html": [
       "<div>\n",
       "<style scoped>\n",
       "    .dataframe tbody tr th:only-of-type {\n",
       "        vertical-align: middle;\n",
       "    }\n",
       "\n",
       "    .dataframe tbody tr th {\n",
       "        vertical-align: top;\n",
       "    }\n",
       "\n",
       "    .dataframe thead th {\n",
       "        text-align: right;\n",
       "    }\n",
       "</style>\n",
       "<table border=\"1\" class=\"dataframe\">\n",
       "  <thead>\n",
       "    <tr style=\"text-align: right;\">\n",
       "      <th></th>\n",
       "      <th>Country/Region</th>\n",
       "      <th>Cases</th>\n",
       "      <th>Deaths</th>\n",
       "      <th>PCases</th>\n",
       "      <th>PDeaths</th>\n",
       "      <th>Cases (+)</th>\n",
       "      <th>Deaths (+)</th>\n",
       "      <th>Fatality Rate</th>\n",
       "      <th>Continent</th>\n",
       "    </tr>\n",
       "  </thead>\n",
       "  <tbody>\n",
       "    <tr>\n",
       "      <th>0</th>\n",
       "      <td>US</td>\n",
       "      <td>79406602</td>\n",
       "      <td>963819</td>\n",
       "      <td>79369007</td>\n",
       "      <td>961843</td>\n",
       "      <td>37595</td>\n",
       "      <td>1976</td>\n",
       "      <td>1.21</td>\n",
       "      <td>North America</td>\n",
       "    </tr>\n",
       "    <tr>\n",
       "      <th>1</th>\n",
       "      <td>India</td>\n",
       "      <td>42980067</td>\n",
       "      <td>515459</td>\n",
       "      <td>42975883</td>\n",
       "      <td>515355</td>\n",
       "      <td>4184</td>\n",
       "      <td>104</td>\n",
       "      <td>1.20</td>\n",
       "      <td>Asia</td>\n",
       "    </tr>\n",
       "    <tr>\n",
       "      <th>2</th>\n",
       "      <td>Brazil</td>\n",
       "      <td>29198101</td>\n",
       "      <td>653767</td>\n",
       "      <td>29152318</td>\n",
       "      <td>653134</td>\n",
       "      <td>45783</td>\n",
       "      <td>633</td>\n",
       "      <td>2.24</td>\n",
       "      <td>South America</td>\n",
       "    </tr>\n",
       "    <tr>\n",
       "      <th>3</th>\n",
       "      <td>France</td>\n",
       "      <td>23417253</td>\n",
       "      <td>140797</td>\n",
       "      <td>23346927</td>\n",
       "      <td>140642</td>\n",
       "      <td>70326</td>\n",
       "      <td>155</td>\n",
       "      <td>0.60</td>\n",
       "      <td>Europe</td>\n",
       "    </tr>\n",
       "    <tr>\n",
       "      <th>4</th>\n",
       "      <td>United Kingdom</td>\n",
       "      <td>19515547</td>\n",
       "      <td>163059</td>\n",
       "      <td>19446892</td>\n",
       "      <td>162936</td>\n",
       "      <td>68655</td>\n",
       "      <td>123</td>\n",
       "      <td>0.84</td>\n",
       "      <td>Europe</td>\n",
       "    </tr>\n",
       "  </tbody>\n",
       "</table>\n",
       "</div>"
      ],
      "text/plain": [
       "   Country/Region     Cases  Deaths    PCases  PDeaths  Cases (+)  Deaths (+)  \\\n",
       "0              US  79406602  963819  79369007   961843      37595        1976   \n",
       "1           India  42980067  515459  42975883   515355       4184         104   \n",
       "2          Brazil  29198101  653767  29152318   653134      45783         633   \n",
       "3          France  23417253  140797  23346927   140642      70326         155   \n",
       "4  United Kingdom  19515547  163059  19446892   162936      68655         123   \n",
       "\n",
       "   Fatality Rate      Continent  \n",
       "0           1.21  North America  \n",
       "1           1.20           Asia  \n",
       "2           2.24  South America  \n",
       "3           0.60         Europe  \n",
       "4           0.84         Europe  "
      ]
     },
     "execution_count": 13,
     "metadata": {},
     "output_type": "execute_result"
    }
   ],
   "source": [
    "#hide\n",
    "for c in 'Cases, Deaths'.split(', '):\n",
    "    df_table[f'{c} (+)'] = (df_table[c] - df_table[f'P{c}']).clip(0)\n",
    "    #Clip ça veut dire, les chiffres negatif sont interdit\n",
    "df_table['Fatality Rate'] = (100* df_table['Deaths']/ df_table['Cases']).round(2)\n",
    "df_table['Continent'] = df_table['Country/Region'].map(mapping['map.continent'])\n",
    "df_table.head(5)"
   ]
  },
  {
   "cell_type": "code",
   "execution_count": 14,
   "id": "aboriginal-bulgaria",
   "metadata": {
    "execution": {
     "iopub.execute_input": "2022-03-10T12:14:46.036288Z",
     "iopub.status.busy": "2022-03-10T12:14:46.035613Z",
     "iopub.status.idle": "2022-03-10T12:14:46.037358Z",
     "shell.execute_reply": "2022-03-10T12:14:46.037813Z"
    },
    "papermill": {
     "duration": 0.043154,
     "end_time": "2022-03-10T12:14:46.037972",
     "exception": false,
     "start_time": "2022-03-10T12:14:45.994818",
     "status": "completed"
    },
    "tags": []
   },
   "outputs": [],
   "source": [
    "#hide\n",
    "#delete problematic countries from table\n",
    "df_table = df_table[~df_table['Country/Region'].isin(['Cape Verde', 'Cruise Ship', 'Kosovo'])]"
   ]
  },
  {
   "cell_type": "code",
   "execution_count": 15,
   "id": "fantastic-effect",
   "metadata": {
    "execution": {
     "iopub.execute_input": "2022-03-10T12:14:46.132630Z",
     "iopub.status.busy": "2022-03-10T12:14:46.131758Z",
     "iopub.status.idle": "2022-03-10T12:14:46.150706Z",
     "shell.execute_reply": "2022-03-10T12:14:46.151283Z"
    },
    "papermill": {
     "duration": 0.070151,
     "end_time": "2022-03-10T12:14:46.151469",
     "exception": false,
     "start_time": "2022-03-10T12:14:46.081318",
     "status": "completed"
    },
    "tags": []
   },
   "outputs": [
    {
     "data": {
      "text/html": [
       "<div>\n",
       "<style scoped>\n",
       "    .dataframe tbody tr th:only-of-type {\n",
       "        vertical-align: middle;\n",
       "    }\n",
       "\n",
       "    .dataframe tbody tr th {\n",
       "        vertical-align: top;\n",
       "    }\n",
       "\n",
       "    .dataframe thead th {\n",
       "        text-align: right;\n",
       "    }\n",
       "</style>\n",
       "<table border=\"1\" class=\"dataframe\">\n",
       "  <thead>\n",
       "    <tr style=\"text-align: right;\">\n",
       "      <th></th>\n",
       "      <th>Country/Region</th>\n",
       "      <th>Cases</th>\n",
       "      <th>Deaths</th>\n",
       "      <th>PCases</th>\n",
       "      <th>PDeaths</th>\n",
       "      <th>Cases (+)</th>\n",
       "      <th>Deaths (+)</th>\n",
       "      <th>Fatality Rate</th>\n",
       "      <th>Continent</th>\n",
       "    </tr>\n",
       "  </thead>\n",
       "  <tbody>\n",
       "    <tr>\n",
       "      <th>0</th>\n",
       "      <td>US</td>\n",
       "      <td>79406602</td>\n",
       "      <td>963819</td>\n",
       "      <td>79369007</td>\n",
       "      <td>961843</td>\n",
       "      <td>37595</td>\n",
       "      <td>1976</td>\n",
       "      <td>1.2</td>\n",
       "      <td>North America</td>\n",
       "    </tr>\n",
       "    <tr>\n",
       "      <th>1</th>\n",
       "      <td>India</td>\n",
       "      <td>42980067</td>\n",
       "      <td>515459</td>\n",
       "      <td>42975883</td>\n",
       "      <td>515355</td>\n",
       "      <td>4184</td>\n",
       "      <td>104</td>\n",
       "      <td>1.2</td>\n",
       "      <td>Asia</td>\n",
       "    </tr>\n",
       "    <tr>\n",
       "      <th>2</th>\n",
       "      <td>Brazil</td>\n",
       "      <td>29198101</td>\n",
       "      <td>653767</td>\n",
       "      <td>29152318</td>\n",
       "      <td>653134</td>\n",
       "      <td>45783</td>\n",
       "      <td>633</td>\n",
       "      <td>2.2</td>\n",
       "      <td>South America</td>\n",
       "    </tr>\n",
       "    <tr>\n",
       "      <th>3</th>\n",
       "      <td>France</td>\n",
       "      <td>23417253</td>\n",
       "      <td>140797</td>\n",
       "      <td>23346927</td>\n",
       "      <td>140642</td>\n",
       "      <td>70326</td>\n",
       "      <td>155</td>\n",
       "      <td>0.6</td>\n",
       "      <td>Europe</td>\n",
       "    </tr>\n",
       "    <tr>\n",
       "      <th>4</th>\n",
       "      <td>United Kingdom</td>\n",
       "      <td>19515547</td>\n",
       "      <td>163059</td>\n",
       "      <td>19446892</td>\n",
       "      <td>162936</td>\n",
       "      <td>68655</td>\n",
       "      <td>123</td>\n",
       "      <td>0.8</td>\n",
       "      <td>Europe</td>\n",
       "    </tr>\n",
       "  </tbody>\n",
       "</table>\n",
       "</div>"
      ],
      "text/plain": [
       "   Country/Region     Cases  Deaths    PCases  PDeaths  Cases (+)  Deaths (+)  \\\n",
       "0              US  79406602  963819  79369007   961843      37595        1976   \n",
       "1           India  42980067  515459  42975883   515355       4184         104   \n",
       "2          Brazil  29198101  653767  29152318   653134      45783         633   \n",
       "3          France  23417253  140797  23346927   140642      70326         155   \n",
       "4  United Kingdom  19515547  163059  19446892   162936      68655         123   \n",
       "\n",
       "   Fatality Rate      Continent  \n",
       "0            1.2  North America  \n",
       "1            1.2           Asia  \n",
       "2            2.2  South America  \n",
       "3            0.6         Europe  \n",
       "4            0.8         Europe  "
      ]
     },
     "execution_count": 15,
     "metadata": {},
     "output_type": "execute_result"
    }
   ],
   "source": [
    "#hide\n",
    "df_table = (pd.DataFrame(dict(Cases=dfc_cases, Deaths=dfc_deaths, PCases=dfp_cases, PDeaths=dfp_deaths))\n",
    "             .sort_values(by=['Cases', 'Deaths'], ascending=[False, False])\n",
    "             .reset_index())\n",
    "df_table.rename(columns={'index': 'Country/Region'}, inplace=True)\n",
    "for c in 'Cases, Deaths'.split(', '):\n",
    "    df_table[f'{c} (+)'] = (df_table[c] - df_table[f'P{c}']).clip(0)  # DATA BUG\n",
    "df_table['Fatality Rate'] = (100 * df_table['Deaths'] / df_table['Cases']).round(1)\n",
    "df_table['Continent'] = df_table['Country/Region'].map(mapping['map.continent'])\n",
    "df_table.head(5)"
   ]
  },
  {
   "cell_type": "code",
   "execution_count": 16,
   "id": "fewer-occasion",
   "metadata": {
    "execution": {
     "iopub.execute_input": "2022-03-10T12:14:46.238603Z",
     "iopub.status.busy": "2022-03-10T12:14:46.237946Z",
     "iopub.status.idle": "2022-03-10T12:14:46.240483Z",
     "shell.execute_reply": "2022-03-10T12:14:46.239982Z"
    },
    "papermill": {
     "duration": 0.048995,
     "end_time": "2022-03-10T12:14:46.240620",
     "exception": false,
     "start_time": "2022-03-10T12:14:46.191625",
     "status": "completed"
    },
    "tags": []
   },
   "outputs": [],
   "source": [
    "#hide\n",
    "#delete problematic countries from table\n",
    "df_table = df_table[~df_table['Country/Region'].isin(['Cape Verde', 'Cruise Ship', 'Kosovo'])]"
   ]
  },
  {
   "cell_type": "code",
   "execution_count": 17,
   "id": "related-center",
   "metadata": {
    "execution": {
     "iopub.execute_input": "2022-03-10T12:14:46.345522Z",
     "iopub.status.busy": "2022-03-10T12:14:46.344847Z",
     "iopub.status.idle": "2022-03-10T12:14:46.347118Z",
     "shell.execute_reply": "2022-03-10T12:14:46.347605Z"
    },
    "papermill": {
     "duration": 0.064731,
     "end_time": "2022-03-10T12:14:46.347770",
     "exception": false,
     "start_time": "2022-03-10T12:14:46.283039",
     "status": "completed"
    },
    "tags": []
   },
   "outputs": [],
   "source": [
    "#hide\n",
    "metrics = [df_table.columns[index] for index in [1,2,5,6]]\n",
    "# s_china = df_table[df_table['Country/Region'].eq('China')][metrics].sum().add_prefix('China ')\n",
    "s_us = df_table[df_table['Country/Region'].eq('US')][metrics].sum().add_prefix('US ')\n",
    "s_eu = df_table[df_table['Continent'].eq('Europe')][metrics].sum().add_prefix('EU ')\n",
    "s_ind = df_table[df_table['Country/Region'].eq('India')][metrics].sum().add_prefix('India ')\n",
    "summary = {'updated': pd.to_datetime(dt_today), 'since': pd.to_datetime(dt_yday)}\n",
    "summary = {'updated': pd.to_datetime(dt_today), 'since': pd.to_datetime(dt_yday)}\n",
    "summary = {**summary, **df_table[metrics].sum(), **s_ind, **s_us, **s_eu}"
   ]
  },
  {
   "cell_type": "code",
   "execution_count": 18,
   "id": "engaging-syndrome",
   "metadata": {
    "execution": {
     "iopub.execute_input": "2022-03-10T12:14:46.432538Z",
     "iopub.status.busy": "2022-03-10T12:14:46.431397Z",
     "iopub.status.idle": "2022-03-10T12:14:46.450641Z",
     "shell.execute_reply": "2022-03-10T12:14:46.450055Z"
    },
    "papermill": {
     "duration": 0.064382,
     "end_time": "2022-03-10T12:14:46.450798",
     "exception": false,
     "start_time": "2022-03-10T12:14:46.386416",
     "status": "completed"
    },
    "tags": []
   },
   "outputs": [],
   "source": [
    "#hide\n",
    "dft_ct_new_cases = dft_cases.groupby(COL_REGION)[dt_cols].sum().diff(axis=1).fillna(0).astype(int)"
   ]
  },
  {
   "cell_type": "code",
   "execution_count": 19,
   "id": "neutral-assignment",
   "metadata": {
    "execution": {
     "iopub.execute_input": "2022-03-10T12:14:46.541751Z",
     "iopub.status.busy": "2022-03-10T12:14:46.541052Z",
     "iopub.status.idle": "2022-03-10T12:14:46.545669Z",
     "shell.execute_reply": "2022-03-10T12:14:46.545173Z"
    },
    "papermill": {
     "duration": 0.050109,
     "end_time": "2022-03-10T12:14:46.545812",
     "exception": false,
     "start_time": "2022-03-10T12:14:46.495703",
     "status": "completed"
    },
    "tags": []
   },
   "outputs": [],
   "source": [
    "#hide\n",
    "everydaycases = dft_ct_new_cases.cumsum(axis=1)"
   ]
  },
  {
   "cell_type": "code",
   "execution_count": 20,
   "id": "parliamentary-calgary",
   "metadata": {
    "execution": {
     "iopub.execute_input": "2022-03-10T12:14:46.621681Z",
     "iopub.status.busy": "2022-03-10T12:14:46.621045Z",
     "iopub.status.idle": "2022-03-10T12:14:47.649659Z",
     "shell.execute_reply": "2022-03-10T12:14:47.648774Z"
    },
    "papermill": {
     "duration": 1.069022,
     "end_time": "2022-03-10T12:14:47.649885",
     "exception": false,
     "start_time": "2022-03-10T12:14:46.580863",
     "status": "completed"
    },
    "tags": []
   },
   "outputs": [],
   "source": [
    "#hide\n",
    "import pandas as pd\n",
    "import matplotlib.pyplot as plt\n",
    "import matplotlib.ticker as ticker\n",
    "import matplotlib.animation as animation\n",
    "from IPython.display import HTML"
   ]
  },
  {
   "cell_type": "code",
   "execution_count": 21,
   "id": "lasting-extraction",
   "metadata": {
    "execution": {
     "iopub.execute_input": "2022-03-10T12:14:47.735945Z",
     "iopub.status.busy": "2022-03-10T12:14:47.735112Z",
     "iopub.status.idle": "2022-03-10T12:14:47.744184Z",
     "shell.execute_reply": "2022-03-10T12:14:47.744670Z"
    },
    "papermill": {
     "duration": 0.056921,
     "end_time": "2022-03-10T12:14:47.744890",
     "exception": false,
     "start_time": "2022-03-10T12:14:47.687969",
     "status": "completed"
    },
    "tags": []
   },
   "outputs": [],
   "source": [
    "#hide\n",
    "t = everydaycases.stack()"
   ]
  },
  {
   "cell_type": "code",
   "execution_count": 22,
   "id": "premier-sleeve",
   "metadata": {
    "execution": {
     "iopub.execute_input": "2022-03-10T12:14:47.826581Z",
     "iopub.status.busy": "2022-03-10T12:14:47.825946Z",
     "iopub.status.idle": "2022-03-10T12:14:47.838401Z",
     "shell.execute_reply": "2022-03-10T12:14:47.838880Z"
    },
    "papermill": {
     "duration": 0.058116,
     "end_time": "2022-03-10T12:14:47.839048",
     "exception": false,
     "start_time": "2022-03-10T12:14:47.780932",
     "status": "completed"
    },
    "tags": []
   },
   "outputs": [],
   "source": [
    "#hide\n",
    "g = t.reset_index(['Country/Region'])"
   ]
  },
  {
   "cell_type": "code",
   "execution_count": 23,
   "id": "distributed-pittsburgh",
   "metadata": {
    "execution": {
     "iopub.execute_input": "2022-03-10T12:14:47.920185Z",
     "iopub.status.busy": "2022-03-10T12:14:47.919523Z",
     "iopub.status.idle": "2022-03-10T12:14:47.922676Z",
     "shell.execute_reply": "2022-03-10T12:14:47.922192Z"
    },
    "papermill": {
     "duration": 0.047808,
     "end_time": "2022-03-10T12:14:47.922810",
     "exception": false,
     "start_time": "2022-03-10T12:14:47.875002",
     "status": "completed"
    },
    "tags": []
   },
   "outputs": [],
   "source": [
    "#hide\n",
    "g.index.name = 'date'"
   ]
  },
  {
   "cell_type": "code",
   "execution_count": 24,
   "id": "naked-donor",
   "metadata": {
    "execution": {
     "iopub.execute_input": "2022-03-10T12:14:48.000376Z",
     "iopub.status.busy": "2022-03-10T12:14:47.999401Z",
     "iopub.status.idle": "2022-03-10T12:14:48.003465Z",
     "shell.execute_reply": "2022-03-10T12:14:48.002701Z"
    },
    "papermill": {
     "duration": 0.045035,
     "end_time": "2022-03-10T12:14:48.003646",
     "exception": false,
     "start_time": "2022-03-10T12:14:47.958611",
     "status": "completed"
    },
    "tags": []
   },
   "outputs": [],
   "source": [
    "# #hide\n",
    "# g = g.reset_index(['date'])"
   ]
  },
  {
   "cell_type": "code",
   "execution_count": 25,
   "id": "incomplete-mustang",
   "metadata": {
    "execution": {
     "iopub.execute_input": "2022-03-10T12:14:48.090591Z",
     "iopub.status.busy": "2022-03-10T12:14:48.089926Z",
     "iopub.status.idle": "2022-03-10T12:14:48.093066Z",
     "shell.execute_reply": "2022-03-10T12:14:48.092514Z"
    },
    "papermill": {
     "duration": 0.048592,
     "end_time": "2022-03-10T12:14:48.093201",
     "exception": false,
     "start_time": "2022-03-10T12:14:48.044609",
     "status": "completed"
    },
    "tags": []
   },
   "outputs": [],
   "source": [
    "#hide\n",
    "# g.head()"
   ]
  },
  {
   "cell_type": "code",
   "execution_count": 26,
   "id": "specific-kruger",
   "metadata": {
    "execution": {
     "iopub.execute_input": "2022-03-10T12:14:48.176648Z",
     "iopub.status.busy": "2022-03-10T12:14:48.175992Z",
     "iopub.status.idle": "2022-03-10T12:14:48.178555Z",
     "shell.execute_reply": "2022-03-10T12:14:48.178079Z"
    },
    "papermill": {
     "duration": 0.04737,
     "end_time": "2022-03-10T12:14:48.178689",
     "exception": false,
     "start_time": "2022-03-10T12:14:48.131319",
     "status": "completed"
    },
    "tags": []
   },
   "outputs": [],
   "source": [
    "#hide\n",
    "# g.columns = ['date','country','cases']"
   ]
  },
  {
   "cell_type": "code",
   "execution_count": 27,
   "id": "tender-conversion",
   "metadata": {
    "execution": {
     "iopub.execute_input": "2022-03-10T12:14:48.254998Z",
     "iopub.status.busy": "2022-03-10T12:14:48.254356Z",
     "iopub.status.idle": "2022-03-10T12:14:48.259348Z",
     "shell.execute_reply": "2022-03-10T12:14:48.258690Z"
    },
    "papermill": {
     "duration": 0.04453,
     "end_time": "2022-03-10T12:14:48.259515",
     "exception": false,
     "start_time": "2022-03-10T12:14:48.214985",
     "status": "completed"
    },
    "tags": []
   },
   "outputs": [],
   "source": [
    "#hide\n",
    "# g['continent'] = g.country"
   ]
  },
  {
   "cell_type": "code",
   "execution_count": 28,
   "id": "substantial-wilderness",
   "metadata": {
    "execution": {
     "iopub.execute_input": "2022-03-10T12:14:48.339784Z",
     "iopub.status.busy": "2022-03-10T12:14:48.338667Z",
     "iopub.status.idle": "2022-03-10T12:14:48.340905Z",
     "shell.execute_reply": "2022-03-10T12:14:48.341717Z"
    },
    "papermill": {
     "duration": 0.043638,
     "end_time": "2022-03-10T12:14:48.341954",
     "exception": false,
     "start_time": "2022-03-10T12:14:48.298316",
     "status": "completed"
    },
    "tags": []
   },
   "outputs": [],
   "source": [
    "#hide\n",
    "# cols = list(g.columns.values)"
   ]
  },
  {
   "cell_type": "code",
   "execution_count": 29,
   "id": "solved-farming",
   "metadata": {
    "execution": {
     "iopub.execute_input": "2022-03-10T12:14:48.419281Z",
     "iopub.status.busy": "2022-03-10T12:14:48.418644Z",
     "iopub.status.idle": "2022-03-10T12:14:48.421037Z",
     "shell.execute_reply": "2022-03-10T12:14:48.420550Z"
    },
    "papermill": {
     "duration": 0.042598,
     "end_time": "2022-03-10T12:14:48.421173",
     "exception": false,
     "start_time": "2022-03-10T12:14:48.378575",
     "status": "completed"
    },
    "tags": []
   },
   "outputs": [],
   "source": [
    "#hide\n",
    "# cols.insert(0, cols.pop())"
   ]
  },
  {
   "cell_type": "code",
   "execution_count": 30,
   "id": "executed-adoption",
   "metadata": {
    "execution": {
     "iopub.execute_input": "2022-03-10T12:14:48.500435Z",
     "iopub.status.busy": "2022-03-10T12:14:48.499796Z",
     "iopub.status.idle": "2022-03-10T12:14:48.502136Z",
     "shell.execute_reply": "2022-03-10T12:14:48.501573Z"
    },
    "papermill": {
     "duration": 0.043574,
     "end_time": "2022-03-10T12:14:48.502266",
     "exception": false,
     "start_time": "2022-03-10T12:14:48.458692",
     "status": "completed"
    },
    "tags": []
   },
   "outputs": [],
   "source": [
    "#hide\n",
    "# g = g[cols]"
   ]
  },
  {
   "cell_type": "code",
   "execution_count": 31,
   "id": "subject-dublin",
   "metadata": {
    "execution": {
     "iopub.execute_input": "2022-03-10T12:14:48.586574Z",
     "iopub.status.busy": "2022-03-10T12:14:48.585874Z",
     "iopub.status.idle": "2022-03-10T12:14:48.590451Z",
     "shell.execute_reply": "2022-03-10T12:14:48.589933Z"
    },
    "papermill": {
     "duration": 0.04602,
     "end_time": "2022-03-10T12:14:48.590596",
     "exception": false,
     "start_time": "2022-03-10T12:14:48.544576",
     "status": "completed"
    },
    "tags": []
   },
   "outputs": [],
   "source": [
    "#hide\n",
    "# g['continent'] = g['continent'].map(mapping['map.continent'])"
   ]
  },
  {
   "cell_type": "code",
   "execution_count": 32,
   "id": "freelance-scout",
   "metadata": {
    "execution": {
     "iopub.execute_input": "2022-03-10T12:14:48.664791Z",
     "iopub.status.busy": "2022-03-10T12:14:48.664140Z",
     "iopub.status.idle": "2022-03-10T12:14:48.666953Z",
     "shell.execute_reply": "2022-03-10T12:14:48.667419Z"
    },
    "papermill": {
     "duration": 0.04214,
     "end_time": "2022-03-10T12:14:48.667623",
     "exception": false,
     "start_time": "2022-03-10T12:14:48.625483",
     "status": "completed"
    },
    "tags": []
   },
   "outputs": [],
   "source": [
    "#hide\n",
    "# g.head()"
   ]
  },
  {
   "cell_type": "code",
   "execution_count": 33,
   "id": "limited-engine",
   "metadata": {
    "execution": {
     "iopub.execute_input": "2022-03-10T12:14:48.744064Z",
     "iopub.status.busy": "2022-03-10T12:14:48.742928Z",
     "iopub.status.idle": "2022-03-10T12:14:48.745230Z",
     "shell.execute_reply": "2022-03-10T12:14:48.746052Z"
    },
    "papermill": {
     "duration": 0.04368,
     "end_time": "2022-03-10T12:14:48.746289",
     "exception": false,
     "start_time": "2022-03-10T12:14:48.702609",
     "status": "completed"
    },
    "tags": []
   },
   "outputs": [],
   "source": [
    "# hide\n",
    "# g['date'] = g['date'].astype('datetime64[ns]')"
   ]
  },
  {
   "cell_type": "code",
   "execution_count": 34,
   "id": "sophisticated-supervisor",
   "metadata": {
    "execution": {
     "iopub.execute_input": "2022-03-10T12:14:48.828657Z",
     "iopub.status.busy": "2022-03-10T12:14:48.827573Z",
     "iopub.status.idle": "2022-03-10T12:14:48.831396Z",
     "shell.execute_reply": "2022-03-10T12:14:48.831998Z"
    },
    "papermill": {
     "duration": 0.048216,
     "end_time": "2022-03-10T12:14:48.832160",
     "exception": false,
     "start_time": "2022-03-10T12:14:48.783944",
     "status": "completed"
    },
    "tags": []
   },
   "outputs": [],
   "source": [
    "#hide\n",
    "# g['date'] = g.date.dt.dayofyear"
   ]
  },
  {
   "cell_type": "code",
   "execution_count": 35,
   "id": "inside-dubai",
   "metadata": {
    "execution": {
     "iopub.execute_input": "2022-03-10T12:14:48.908477Z",
     "iopub.status.busy": "2022-03-10T12:14:48.907314Z",
     "iopub.status.idle": "2022-03-10T12:14:48.916120Z",
     "shell.execute_reply": "2022-03-10T12:14:48.915493Z"
    },
    "papermill": {
     "duration": 0.049285,
     "end_time": "2022-03-10T12:14:48.916263",
     "exception": false,
     "start_time": "2022-03-10T12:14:48.866978",
     "status": "completed"
    },
    "tags": []
   },
   "outputs": [],
   "source": [
    "#hide\n",
    "# g = g.rename(columns= {'continent':'group','country':'name','cases':'value'})"
   ]
  },
  {
   "cell_type": "code",
   "execution_count": 36,
   "id": "fleet-motorcycle",
   "metadata": {
    "execution": {
     "iopub.execute_input": "2022-03-10T12:14:48.992988Z",
     "iopub.status.busy": "2022-03-10T12:14:48.992115Z",
     "iopub.status.idle": "2022-03-10T12:14:48.993843Z",
     "shell.execute_reply": "2022-03-10T12:14:48.994522Z"
    },
    "papermill": {
     "duration": 0.04255,
     "end_time": "2022-03-10T12:14:48.994697",
     "exception": false,
     "start_time": "2022-03-10T12:14:48.952147",
     "status": "completed"
    },
    "tags": []
   },
   "outputs": [],
   "source": [
    "#hide\n",
    "# cols = ['name','group','day','value']"
   ]
  },
  {
   "cell_type": "code",
   "execution_count": 37,
   "id": "continued-sleeping",
   "metadata": {
    "execution": {
     "iopub.execute_input": "2022-03-10T12:14:49.070297Z",
     "iopub.status.busy": "2022-03-10T12:14:49.069665Z",
     "iopub.status.idle": "2022-03-10T12:14:49.072327Z",
     "shell.execute_reply": "2022-03-10T12:14:49.072917Z"
    },
    "papermill": {
     "duration": 0.043442,
     "end_time": "2022-03-10T12:14:49.073078",
     "exception": false,
     "start_time": "2022-03-10T12:14:49.029636",
     "status": "completed"
    },
    "tags": []
   },
   "outputs": [],
   "source": [
    "#hide\n",
    "# g.rename(columns= {'date':'day'},inplace = True)"
   ]
  },
  {
   "cell_type": "code",
   "execution_count": 38,
   "id": "major-fight",
   "metadata": {
    "execution": {
     "iopub.execute_input": "2022-03-10T12:14:49.148426Z",
     "iopub.status.busy": "2022-03-10T12:14:49.147761Z",
     "iopub.status.idle": "2022-03-10T12:14:49.150843Z",
     "shell.execute_reply": "2022-03-10T12:14:49.150353Z"
    },
    "papermill": {
     "duration": 0.043101,
     "end_time": "2022-03-10T12:14:49.150980",
     "exception": false,
     "start_time": "2022-03-10T12:14:49.107879",
     "status": "completed"
    },
    "tags": []
   },
   "outputs": [],
   "source": [
    "#hide\n",
    "# g = g[cols]"
   ]
  },
  {
   "cell_type": "code",
   "execution_count": 39,
   "id": "structured-mobile",
   "metadata": {
    "execution": {
     "iopub.execute_input": "2022-03-10T12:14:49.228898Z",
     "iopub.status.busy": "2022-03-10T12:14:49.228278Z",
     "iopub.status.idle": "2022-03-10T12:14:49.232617Z",
     "shell.execute_reply": "2022-03-10T12:14:49.232134Z"
    },
    "papermill": {
     "duration": 0.045064,
     "end_time": "2022-03-10T12:14:49.232753",
     "exception": false,
     "start_time": "2022-03-10T12:14:49.187689",
     "status": "completed"
    },
    "tags": []
   },
   "outputs": [],
   "source": [
    "# #hide\n",
    "# g = g[g.group.notna()]"
   ]
  },
  {
   "cell_type": "code",
   "execution_count": 40,
   "id": "determined-closing",
   "metadata": {
    "execution": {
     "iopub.execute_input": "2022-03-10T12:14:49.308618Z",
     "iopub.status.busy": "2022-03-10T12:14:49.307699Z",
     "iopub.status.idle": "2022-03-10T12:14:49.309258Z",
     "shell.execute_reply": "2022-03-10T12:14:49.309719Z"
    },
    "papermill": {
     "duration": 0.042233,
     "end_time": "2022-03-10T12:14:49.309865",
     "exception": false,
     "start_time": "2022-03-10T12:14:49.267632",
     "status": "completed"
    },
    "tags": []
   },
   "outputs": [],
   "source": [
    "# #hide\n",
    "# colors = dict(zip(\n",
    "#     [\"Oceania\", \"Europe\", \"Asia\", \"South America\", \"Middle East\", \"North America\", \"Africa\"],\n",
    "#     [\"#adb0ff\", \"#ffb3ff\", \"#90d595\", \"#e48381\", \"#aafbff\", \"#f7bb5f\", \"#eafb50\"]\n",
    "# ))\n",
    "# group_lk = g.set_index('name')['group'].to_dict()"
   ]
  },
  {
   "cell_type": "code",
   "execution_count": null,
   "id": "gross-drinking",
   "metadata": {
    "papermill": {
     "duration": 0.035279,
     "end_time": "2022-03-10T12:14:49.381037",
     "exception": false,
     "start_time": "2022-03-10T12:14:49.345758",
     "status": "completed"
    },
    "tags": []
   },
   "outputs": [],
   "source": []
  },
  {
   "cell_type": "code",
   "execution_count": 41,
   "id": "subject-macintosh",
   "metadata": {
    "execution": {
     "iopub.execute_input": "2022-03-10T12:14:49.459169Z",
     "iopub.status.busy": "2022-03-10T12:14:49.458084Z",
     "iopub.status.idle": "2022-03-10T12:14:49.460345Z",
     "shell.execute_reply": "2022-03-10T12:14:49.461019Z"
    },
    "papermill": {
     "duration": 0.045265,
     "end_time": "2022-03-10T12:14:49.461164",
     "exception": false,
     "start_time": "2022-03-10T12:14:49.415899",
     "status": "completed"
    },
    "tags": []
   },
   "outputs": [],
   "source": [
    "# #hide\n",
    "# fig, ax = plt.subplots(figsize=(15, 8))\n",
    "\n",
    "# def draw_barchart(current_day):\n",
    "#     dff = g[g['day'].eq(current_day)].sort_values(by='value', ascending=True).tail(10)\n",
    "#     ax.clear()\n",
    "#     ax.barh(dff['name'], dff['value'], color=[colors[group_lk[x]] for x in dff['name']])\n",
    "#     dx = dff['value'].max() / 200\n",
    "    \n",
    "#     for i, (value, name) in enumerate(zip(dff['value'], dff['name'])):\n",
    "#         ax.text(value-dx, i,     name,           size=14, weight=600, ha='right', va='bottom')\n",
    "#         ax.text(value-dx, i-.25, group_lk[name], size=10, color='#444444', ha='right', va='baseline')\n",
    "#         ax.text(value+dx, i,     f'{value:,.0f}',  size=14, ha='left',  va='center')\n",
    "#     ax.text(1, 0.4, current_day, transform=ax.transAxes, color='#777777', size=46, ha='right', weight=800)\n",
    "#     ax.text(0, 1.06, 'Population (thousands)', transform=ax.transAxes, size=12, color='#777777')\n",
    "#     ax.xaxis.set_major_formatter(ticker.StrMethodFormatter('{x:,.0f}'))\n",
    "#     ax.xaxis.set_ticks_position('top')\n",
    "#     ax.tick_params(axis='x', colors='#777777', labelsize=12)\n",
    "#     ax.set_yticks([])\n",
    "#     ax.margins(0, 0.01)\n",
    "#     ax.grid(which='major', axis='x', linestyle='-')\n",
    "#     ax.set_axisbelow(True)\n",
    "    \n",
    "#     ax.text(0, 1.15, 'Coronavirus',\n",
    "#             transform=ax.transAxes, size=24, weight=600, ha='left', va='top')\n",
    "# #     ax.text(1, 0, 'by @pratapvardhan; credit @jburnmurdoch', transform=ax.transAxes, color='#777777', ha='right',\n",
    "# #             bbox=dict(facecolor='white', alpha=0.8, edgecolor='white'))\n",
    "#     plt.box(False)"
   ]
  },
  {
   "cell_type": "code",
   "execution_count": 42,
   "id": "sexual-wages",
   "metadata": {
    "execution": {
     "iopub.execute_input": "2022-03-10T12:14:49.538860Z",
     "iopub.status.busy": "2022-03-10T12:14:49.538186Z",
     "iopub.status.idle": "2022-03-10T12:14:49.541209Z",
     "shell.execute_reply": "2022-03-10T12:14:49.541665Z"
    },
    "papermill": {
     "duration": 0.045731,
     "end_time": "2022-03-10T12:14:49.541826",
     "exception": false,
     "start_time": "2022-03-10T12:14:49.496095",
     "status": "completed"
    },
    "tags": []
   },
   "outputs": [],
   "source": [
    "# #hide_input\n",
    "# fig, ax = plt.subplots(figsize=(15, 8))\n",
    "# animator = animation.FuncAnimation(fig, draw_barchart, frames=range(g.day.values.min(), g.day.values.max()))\n",
    "# HTML(animator.to_jshtml())\n",
    "# # or use animator.to_html5_video() or animator.save() "
   ]
  },
  {
   "cell_type": "code",
   "execution_count": null,
   "id": "australian-container",
   "metadata": {
    "papermill": {
     "duration": 0.034615,
     "end_time": "2022-03-10T12:14:49.611078",
     "exception": false,
     "start_time": "2022-03-10T12:14:49.576463",
     "status": "completed"
    },
    "tags": []
   },
   "outputs": [],
   "source": []
  },
  {
   "cell_type": "code",
   "execution_count": null,
   "id": "mediterranean-pontiac",
   "metadata": {
    "papermill": {
     "duration": 0.034579,
     "end_time": "2022-03-10T12:14:49.680456",
     "exception": false,
     "start_time": "2022-03-10T12:14:49.645877",
     "status": "completed"
    },
    "tags": []
   },
   "outputs": [],
   "source": []
  },
  {
   "cell_type": "code",
   "execution_count": null,
   "id": "aging-legislature",
   "metadata": {
    "papermill": {
     "duration": 0.03463,
     "end_time": "2022-03-10T12:14:49.749955",
     "exception": false,
     "start_time": "2022-03-10T12:14:49.715325",
     "status": "completed"
    },
    "tags": []
   },
   "outputs": [],
   "source": []
  }
 ],
 "metadata": {
  "kernelspec": {
   "display_name": "Python 3",
   "language": "python",
   "name": "python3"
  },
  "language_info": {
   "codemirror_mode": {
    "name": "ipython",
    "version": 3
   },
   "file_extension": ".py",
   "mimetype": "text/x-python",
   "name": "python",
   "nbconvert_exporter": "python",
   "pygments_lexer": "ipython3",
   "version": "3.6.15"
  },
  "papermill": {
   "duration": 7.463039,
   "end_time": "2022-03-10T12:14:50.204555",
   "environment_variables": {},
   "exception": null,
   "input_path": "2020-03-21-covid19exp.ipynb",
   "output_path": "2020-03-21-covid19exp.ipynb",
   "parameters": {},
   "start_time": "2022-03-10T12:14:42.741516",
   "version": "2.0.0"
  }
 },
 "nbformat": 4,
 "nbformat_minor": 5
}