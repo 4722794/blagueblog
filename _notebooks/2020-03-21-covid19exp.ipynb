{
 "cells": [
  {
   "cell_type": "markdown",
   "id": "muslim-click",
   "metadata": {
    "papermill": {
     "duration": 0.035991,
     "end_time": "2021-04-14T00:06:18.653021",
     "exception": false,
     "start_time": "2021-04-14T00:06:18.617030",
     "status": "completed"
    },
    "tags": []
   },
   "source": [
    "# COVID-19 Case Race\n",
    "> A race chart to see rising cases around the world\n",
    "\n",
    "- author: Hargun Oberoi\n",
    "- image: images/covid-overview.png\n",
    "- hide: false\n",
    "- badges: false"
   ]
  },
  {
   "cell_type": "code",
   "execution_count": 1,
   "id": "proof-material",
   "metadata": {
    "execution": {
     "iopub.execute_input": "2021-04-14T00:06:18.725322Z",
     "iopub.status.busy": "2021-04-14T00:06:18.724787Z",
     "iopub.status.idle": "2021-04-14T00:06:19.024736Z",
     "shell.execute_reply": "2021-04-14T00:06:19.024231Z"
    },
    "papermill": {
     "duration": 0.340921,
     "end_time": "2021-04-14T00:06:19.024886",
     "exception": false,
     "start_time": "2021-04-14T00:06:18.683965",
     "status": "completed"
    },
    "tags": []
   },
   "outputs": [],
   "source": [
    "#hide\n",
    "import numpy as np\n",
    "import pandas as pd\n",
    "from jinja2 import Template\n",
    "from IPython.display import HTML"
   ]
  },
  {
   "cell_type": "code",
   "execution_count": 2,
   "id": "developed-terminology",
   "metadata": {
    "execution": {
     "iopub.execute_input": "2021-04-14T00:06:19.094388Z",
     "iopub.status.busy": "2021-04-14T00:06:19.093525Z",
     "iopub.status.idle": "2021-04-14T00:06:19.095002Z",
     "shell.execute_reply": "2021-04-14T00:06:19.095505Z"
    },
    "papermill": {
     "duration": 0.038816,
     "end_time": "2021-04-14T00:06:19.095643",
     "exception": false,
     "start_time": "2021-04-14T00:06:19.056827",
     "status": "completed"
    },
    "tags": []
   },
   "outputs": [],
   "source": [
    "#hide\n",
    "\n",
    "# FETCH\n",
    "base_url = 'https://raw.githubusercontent.com/pratapvardhan/notebooks/master/covid19/'\n",
    "paths = {\n",
    "    'mapping': base_url + 'mapping_countries.csv',\n",
    "    'overview': base_url + 'overview.tpl'\n",
    "}"
   ]
  },
  {
   "cell_type": "code",
   "execution_count": 3,
   "id": "dynamic-saver",
   "metadata": {
    "execution": {
     "iopub.execute_input": "2021-04-14T00:06:19.168363Z",
     "iopub.status.busy": "2021-04-14T00:06:19.162634Z",
     "iopub.status.idle": "2021-04-14T00:06:19.171201Z",
     "shell.execute_reply": "2021-04-14T00:06:19.170733Z"
    },
    "papermill": {
     "duration": 0.045673,
     "end_time": "2021-04-14T00:06:19.171301",
     "exception": false,
     "start_time": "2021-04-14T00:06:19.125628",
     "status": "completed"
    },
    "tags": []
   },
   "outputs": [
    {
     "data": {
      "text/plain": [
       "'https://raw.githubusercontent.com/pratapvardhan/notebooks/master/covid19/mapping_countries.csv'"
      ]
     },
     "execution_count": 3,
     "metadata": {},
     "output_type": "execute_result"
    }
   ],
   "source": [
    "#hide\n",
    "paths['mapping']"
   ]
  },
  {
   "cell_type": "code",
   "execution_count": 4,
   "id": "urban-software",
   "metadata": {
    "execution": {
     "iopub.execute_input": "2021-04-14T00:06:19.238093Z",
     "iopub.status.busy": "2021-04-14T00:06:19.237527Z",
     "iopub.status.idle": "2021-04-14T00:06:19.238688Z",
     "shell.execute_reply": "2021-04-14T00:06:19.239191Z"
    },
    "papermill": {
     "duration": 0.038635,
     "end_time": "2021-04-14T00:06:19.239299",
     "exception": false,
     "start_time": "2021-04-14T00:06:19.200664",
     "status": "completed"
    },
    "tags": []
   },
   "outputs": [],
   "source": [
    "#hide\n",
    "def get_mappings(url):\n",
    "    df = pd.read_csv(url)\n",
    "    return {\n",
    "        'df': df,\n",
    "        'replace.country': dict(df.dropna(subset=['Name']).set_index('Country')['Name']),\n",
    "        'map.continent': dict(df.set_index('Name')['Continent'])\n",
    "    }"
   ]
  },
  {
   "cell_type": "code",
   "execution_count": 5,
   "id": "intimate-machinery",
   "metadata": {
    "execution": {
     "iopub.execute_input": "2021-04-14T00:06:19.299561Z",
     "iopub.status.busy": "2021-04-14T00:06:19.299002Z",
     "iopub.status.idle": "2021-04-14T00:06:19.371206Z",
     "shell.execute_reply": "2021-04-14T00:06:19.370457Z"
    },
    "papermill": {
     "duration": 0.103773,
     "end_time": "2021-04-14T00:06:19.371385",
     "exception": false,
     "start_time": "2021-04-14T00:06:19.267612",
     "status": "completed"
    },
    "tags": []
   },
   "outputs": [],
   "source": [
    "#hide\n",
    "mapping = get_mappings(paths['mapping'])"
   ]
  },
  {
   "cell_type": "code",
   "execution_count": 6,
   "id": "certified-tactics",
   "metadata": {
    "execution": {
     "iopub.execute_input": "2021-04-14T00:06:19.439554Z",
     "iopub.status.busy": "2021-04-14T00:06:19.438938Z",
     "iopub.status.idle": "2021-04-14T00:06:19.441898Z",
     "shell.execute_reply": "2021-04-14T00:06:19.441413Z"
    },
    "papermill": {
     "duration": 0.037735,
     "end_time": "2021-04-14T00:06:19.442011",
     "exception": false,
     "start_time": "2021-04-14T00:06:19.404276",
     "status": "completed"
    },
    "tags": []
   },
   "outputs": [],
   "source": [
    "#hide\n",
    "def get_template(path):\n",
    "    from urllib.parse import urlparse\n",
    "    if bool(urlparse(path).netloc):\n",
    "        from urllib.request import urlopen\n",
    "        return urlopen(path).read().decode('utf8')\n",
    "    return open(path).read()"
   ]
  },
  {
   "cell_type": "code",
   "execution_count": 7,
   "id": "realistic-blast",
   "metadata": {
    "execution": {
     "iopub.execute_input": "2021-04-14T00:06:19.511921Z",
     "iopub.status.busy": "2021-04-14T00:06:19.511354Z",
     "iopub.status.idle": "2021-04-14T00:06:19.513129Z",
     "shell.execute_reply": "2021-04-14T00:06:19.513484Z"
    },
    "papermill": {
     "duration": 0.039294,
     "end_time": "2021-04-14T00:06:19.513614",
     "exception": false,
     "start_time": "2021-04-14T00:06:19.474320",
     "status": "completed"
    },
    "tags": []
   },
   "outputs": [],
   "source": [
    "#hide\n",
    "def get_frame(name):\n",
    "    url = (\n",
    "        'https://raw.githubusercontent.com/CSSEGISandData/COVID-19/master/csse_covid_19_data/'\n",
    "        f'csse_covid_19_time_series/time_series_covid19_{name}_global.csv')\n",
    "    df = pd.read_csv(url)\n",
    "    # rename countries\n",
    "    df['Country/Region'] = df['Country/Region'].replace(mapping['replace.country'])\n",
    "    return df"
   ]
  },
  {
   "cell_type": "code",
   "execution_count": 8,
   "id": "affiliated-characterization",
   "metadata": {
    "execution": {
     "iopub.execute_input": "2021-04-14T00:06:19.580282Z",
     "iopub.status.busy": "2021-04-14T00:06:19.579704Z",
     "iopub.status.idle": "2021-04-14T00:06:19.581681Z",
     "shell.execute_reply": "2021-04-14T00:06:19.582117Z"
    },
    "papermill": {
     "duration": 0.038472,
     "end_time": "2021-04-14T00:06:19.582251",
     "exception": false,
     "start_time": "2021-04-14T00:06:19.543779",
     "status": "completed"
    },
    "tags": []
   },
   "outputs": [],
   "source": [
    "#hide\n",
    "def get_dates(df):\n",
    "    dt_cols = df.columns[~df.columns.isin(['Province/State', 'Country/Region', 'Lat', 'Long'])]\n",
    "    LAST_DATE_I = -1\n",
    "    # sometimes last column may be empty, then go backwards\n",
    "    for i in range(-1, -len(dt_cols), -1):\n",
    "        if not df[dt_cols[i]].fillna(0).eq(0).all():\n",
    "            LAST_DATE_I = i\n",
    "            break\n",
    "    return LAST_DATE_I, dt_cols"
   ]
  },
  {
   "cell_type": "code",
   "execution_count": 9,
   "id": "recent-optimization",
   "metadata": {
    "execution": {
     "iopub.execute_input": "2021-04-14T00:06:19.651101Z",
     "iopub.status.busy": "2021-04-14T00:06:19.650518Z",
     "iopub.status.idle": "2021-04-14T00:06:20.049112Z",
     "shell.execute_reply": "2021-04-14T00:06:20.048123Z"
    },
    "papermill": {
     "duration": 0.436918,
     "end_time": "2021-04-14T00:06:20.049264",
     "exception": false,
     "start_time": "2021-04-14T00:06:19.612346",
     "status": "completed"
    },
    "tags": []
   },
   "outputs": [],
   "source": [
    "#hide\n",
    "COL_REGION = 'Country/Region'\n",
    "# Confirmed, Recovered, Deaths\n",
    "df = get_frame('confirmed')\n",
    "# dft_: timeseries, dfc_: today country agg\n",
    "dft_cases = df\n",
    "dft_deaths = get_frame('deaths')\n",
    "dft_recovered = get_frame('recovered')\n",
    "LAST_DATE_I, dt_cols = get_dates(df)"
   ]
  },
  {
   "cell_type": "code",
   "execution_count": 10,
   "id": "absolute-copper",
   "metadata": {
    "execution": {
     "iopub.execute_input": "2021-04-14T00:06:20.119488Z",
     "iopub.status.busy": "2021-04-14T00:06:20.118890Z",
     "iopub.status.idle": "2021-04-14T00:06:20.120951Z",
     "shell.execute_reply": "2021-04-14T00:06:20.120550Z"
    },
    "papermill": {
     "duration": 0.039432,
     "end_time": "2021-04-14T00:06:20.121049",
     "exception": false,
     "start_time": "2021-04-14T00:06:20.081617",
     "status": "completed"
    },
    "tags": []
   },
   "outputs": [],
   "source": [
    "#hide\n",
    "LAST_DATE_I, dt_cols = get_dates(df)\n",
    "dt_today =dt_cols[LAST_DATE_I]\n",
    "# dt_5day = dt_cols[LAST_DATE_I - 5]\n",
    "dt_yday = dt_cols[LAST_DATE_I - 1]"
   ]
  },
  {
   "cell_type": "code",
   "execution_count": 11,
   "id": "restricted-sheriff",
   "metadata": {
    "execution": {
     "iopub.execute_input": "2021-04-14T00:06:20.190954Z",
     "iopub.status.busy": "2021-04-14T00:06:20.190396Z",
     "iopub.status.idle": "2021-04-14T00:06:20.198356Z",
     "shell.execute_reply": "2021-04-14T00:06:20.197917Z"
    },
    "papermill": {
     "duration": 0.045885,
     "end_time": "2021-04-14T00:06:20.198471",
     "exception": false,
     "start_time": "2021-04-14T00:06:20.152586",
     "status": "completed"
    },
    "tags": []
   },
   "outputs": [],
   "source": [
    "#hide\n",
    "dfc_cases = dft_cases.groupby(COL_REGION)[dt_today].sum()\n",
    "dfc_deaths = dft_deaths.groupby(COL_REGION)[dt_today].sum()\n",
    "# dfp_cases = dft_cases.groupby(COL_REGION)[dt_5day].sum()\n",
    "# dfp_deaths = dft_deaths.groupby(COL_REGION)[dt_5day].sum()\n",
    "dfp_cases = dft_cases.groupby(COL_REGION)[dt_yday].sum()\n",
    "dfp_deaths = dft_deaths.groupby(COL_REGION)[dt_yday].sum()"
   ]
  },
  {
   "cell_type": "code",
   "execution_count": 12,
   "id": "deluxe-hepatitis",
   "metadata": {
    "execution": {
     "iopub.execute_input": "2021-04-14T00:06:20.269135Z",
     "iopub.status.busy": "2021-04-14T00:06:20.266480Z",
     "iopub.status.idle": "2021-04-14T00:06:20.272693Z",
     "shell.execute_reply": "2021-04-14T00:06:20.271797Z"
    },
    "papermill": {
     "duration": 0.04241,
     "end_time": "2021-04-14T00:06:20.272798",
     "exception": false,
     "start_time": "2021-04-14T00:06:20.230388",
     "status": "completed"
    },
    "tags": []
   },
   "outputs": [],
   "source": [
    "#hide\n",
    "df_table = (pd.DataFrame(dict(Cases = dfc_cases, Deaths = dfc_deaths, PCases = dfp_cases, PDeaths = dfp_deaths))\n",
    "            .sort_values(by = ['Cases','Deaths'], ascending = [False, False])\n",
    "            .reset_index())"
   ]
  },
  {
   "cell_type": "code",
   "execution_count": 13,
   "id": "educational-chancellor",
   "metadata": {
    "execution": {
     "iopub.execute_input": "2021-04-14T00:06:20.351958Z",
     "iopub.status.busy": "2021-04-14T00:06:20.351446Z",
     "iopub.status.idle": "2021-04-14T00:06:20.358591Z",
     "shell.execute_reply": "2021-04-14T00:06:20.358160Z"
    },
    "papermill": {
     "duration": 0.057753,
     "end_time": "2021-04-14T00:06:20.358702",
     "exception": false,
     "start_time": "2021-04-14T00:06:20.300949",
     "status": "completed"
    },
    "tags": []
   },
   "outputs": [
    {
     "data": {
      "text/html": [
       "<div>\n",
       "<style scoped>\n",
       "    .dataframe tbody tr th:only-of-type {\n",
       "        vertical-align: middle;\n",
       "    }\n",
       "\n",
       "    .dataframe tbody tr th {\n",
       "        vertical-align: top;\n",
       "    }\n",
       "\n",
       "    .dataframe thead th {\n",
       "        text-align: right;\n",
       "    }\n",
       "</style>\n",
       "<table border=\"1\" class=\"dataframe\">\n",
       "  <thead>\n",
       "    <tr style=\"text-align: right;\">\n",
       "      <th></th>\n",
       "      <th>Country/Region</th>\n",
       "      <th>Cases</th>\n",
       "      <th>Deaths</th>\n",
       "      <th>PCases</th>\n",
       "      <th>PDeaths</th>\n",
       "      <th>Cases (+)</th>\n",
       "      <th>Deaths (+)</th>\n",
       "      <th>Fatality Rate</th>\n",
       "      <th>Continent</th>\n",
       "    </tr>\n",
       "  </thead>\n",
       "  <tbody>\n",
       "    <tr>\n",
       "      <th>0</th>\n",
       "      <td>US</td>\n",
       "      <td>31268107</td>\n",
       "      <td>562533</td>\n",
       "      <td>31197877</td>\n",
       "      <td>562066</td>\n",
       "      <td>70230</td>\n",
       "      <td>467</td>\n",
       "      <td>1.80</td>\n",
       "      <td>North America</td>\n",
       "    </tr>\n",
       "    <tr>\n",
       "      <th>1</th>\n",
       "      <td>India</td>\n",
       "      <td>13689453</td>\n",
       "      <td>171058</td>\n",
       "      <td>13527717</td>\n",
       "      <td>170179</td>\n",
       "      <td>161736</td>\n",
       "      <td>879</td>\n",
       "      <td>1.25</td>\n",
       "      <td>Asia</td>\n",
       "    </tr>\n",
       "    <tr>\n",
       "      <th>2</th>\n",
       "      <td>Brazil</td>\n",
       "      <td>13517808</td>\n",
       "      <td>354617</td>\n",
       "      <td>13482023</td>\n",
       "      <td>353137</td>\n",
       "      <td>35785</td>\n",
       "      <td>1480</td>\n",
       "      <td>2.62</td>\n",
       "      <td>South America</td>\n",
       "    </tr>\n",
       "    <tr>\n",
       "      <th>3</th>\n",
       "      <td>France</td>\n",
       "      <td>5128140</td>\n",
       "      <td>99294</td>\n",
       "      <td>5119585</td>\n",
       "      <td>98909</td>\n",
       "      <td>8555</td>\n",
       "      <td>385</td>\n",
       "      <td>1.94</td>\n",
       "      <td>Europe</td>\n",
       "    </tr>\n",
       "    <tr>\n",
       "      <th>4</th>\n",
       "      <td>Russia</td>\n",
       "      <td>4597400</td>\n",
       "      <td>101552</td>\n",
       "      <td>4589209</td>\n",
       "      <td>101282</td>\n",
       "      <td>8191</td>\n",
       "      <td>270</td>\n",
       "      <td>2.21</td>\n",
       "      <td>Europe</td>\n",
       "    </tr>\n",
       "  </tbody>\n",
       "</table>\n",
       "</div>"
      ],
      "text/plain": [
       "  Country/Region     Cases  Deaths    PCases  PDeaths  Cases (+)  Deaths (+)  \\\n",
       "0             US  31268107  562533  31197877   562066      70230         467   \n",
       "1          India  13689453  171058  13527717   170179     161736         879   \n",
       "2         Brazil  13517808  354617  13482023   353137      35785        1480   \n",
       "3         France   5128140   99294   5119585    98909       8555         385   \n",
       "4         Russia   4597400  101552   4589209   101282       8191         270   \n",
       "\n",
       "   Fatality Rate      Continent  \n",
       "0           1.80  North America  \n",
       "1           1.25           Asia  \n",
       "2           2.62  South America  \n",
       "3           1.94         Europe  \n",
       "4           2.21         Europe  "
      ]
     },
     "execution_count": 13,
     "metadata": {},
     "output_type": "execute_result"
    }
   ],
   "source": [
    "#hide\n",
    "for c in 'Cases, Deaths'.split(', '):\n",
    "    df_table[f'{c} (+)'] = (df_table[c] - df_table[f'P{c}']).clip(0)\n",
    "    #Clip ça veut dire, les chiffres negatif sont interdit\n",
    "df_table['Fatality Rate'] = (100* df_table['Deaths']/ df_table['Cases']).round(2)\n",
    "df_table['Continent'] = df_table['Country/Region'].map(mapping['map.continent'])\n",
    "df_table.head(5)"
   ]
  },
  {
   "cell_type": "code",
   "execution_count": 14,
   "id": "aboriginal-bulgaria",
   "metadata": {
    "execution": {
     "iopub.execute_input": "2021-04-14T00:06:20.423450Z",
     "iopub.status.busy": "2021-04-14T00:06:20.422835Z",
     "iopub.status.idle": "2021-04-14T00:06:20.425585Z",
     "shell.execute_reply": "2021-04-14T00:06:20.425068Z"
    },
    "papermill": {
     "duration": 0.037055,
     "end_time": "2021-04-14T00:06:20.425690",
     "exception": false,
     "start_time": "2021-04-14T00:06:20.388635",
     "status": "completed"
    },
    "tags": []
   },
   "outputs": [],
   "source": [
    "#hide\n",
    "#delete problematic countries from table\n",
    "df_table = df_table[~df_table['Country/Region'].isin(['Cape Verde', 'Cruise Ship', 'Kosovo'])]"
   ]
  },
  {
   "cell_type": "code",
   "execution_count": 15,
   "id": "fantastic-effect",
   "metadata": {
    "execution": {
     "iopub.execute_input": "2021-04-14T00:06:20.497002Z",
     "iopub.status.busy": "2021-04-14T00:06:20.493828Z",
     "iopub.status.idle": "2021-04-14T00:06:20.514297Z",
     "shell.execute_reply": "2021-04-14T00:06:20.514744Z"
    },
    "papermill": {
     "duration": 0.058534,
     "end_time": "2021-04-14T00:06:20.514867",
     "exception": false,
     "start_time": "2021-04-14T00:06:20.456333",
     "status": "completed"
    },
    "tags": []
   },
   "outputs": [
    {
     "data": {
      "text/html": [
       "<div>\n",
       "<style scoped>\n",
       "    .dataframe tbody tr th:only-of-type {\n",
       "        vertical-align: middle;\n",
       "    }\n",
       "\n",
       "    .dataframe tbody tr th {\n",
       "        vertical-align: top;\n",
       "    }\n",
       "\n",
       "    .dataframe thead th {\n",
       "        text-align: right;\n",
       "    }\n",
       "</style>\n",
       "<table border=\"1\" class=\"dataframe\">\n",
       "  <thead>\n",
       "    <tr style=\"text-align: right;\">\n",
       "      <th></th>\n",
       "      <th>Country/Region</th>\n",
       "      <th>Cases</th>\n",
       "      <th>Deaths</th>\n",
       "      <th>PCases</th>\n",
       "      <th>PDeaths</th>\n",
       "      <th>Cases (+)</th>\n",
       "      <th>Deaths (+)</th>\n",
       "      <th>Fatality Rate</th>\n",
       "      <th>Continent</th>\n",
       "    </tr>\n",
       "  </thead>\n",
       "  <tbody>\n",
       "    <tr>\n",
       "      <th>0</th>\n",
       "      <td>US</td>\n",
       "      <td>31268107</td>\n",
       "      <td>562533</td>\n",
       "      <td>31197877</td>\n",
       "      <td>562066</td>\n",
       "      <td>70230</td>\n",
       "      <td>467</td>\n",
       "      <td>1.8</td>\n",
       "      <td>North America</td>\n",
       "    </tr>\n",
       "    <tr>\n",
       "      <th>1</th>\n",
       "      <td>India</td>\n",
       "      <td>13689453</td>\n",
       "      <td>171058</td>\n",
       "      <td>13527717</td>\n",
       "      <td>170179</td>\n",
       "      <td>161736</td>\n",
       "      <td>879</td>\n",
       "      <td>1.2</td>\n",
       "      <td>Asia</td>\n",
       "    </tr>\n",
       "    <tr>\n",
       "      <th>2</th>\n",
       "      <td>Brazil</td>\n",
       "      <td>13517808</td>\n",
       "      <td>354617</td>\n",
       "      <td>13482023</td>\n",
       "      <td>353137</td>\n",
       "      <td>35785</td>\n",
       "      <td>1480</td>\n",
       "      <td>2.6</td>\n",
       "      <td>South America</td>\n",
       "    </tr>\n",
       "    <tr>\n",
       "      <th>3</th>\n",
       "      <td>France</td>\n",
       "      <td>5128140</td>\n",
       "      <td>99294</td>\n",
       "      <td>5119585</td>\n",
       "      <td>98909</td>\n",
       "      <td>8555</td>\n",
       "      <td>385</td>\n",
       "      <td>1.9</td>\n",
       "      <td>Europe</td>\n",
       "    </tr>\n",
       "    <tr>\n",
       "      <th>4</th>\n",
       "      <td>Russia</td>\n",
       "      <td>4597400</td>\n",
       "      <td>101552</td>\n",
       "      <td>4589209</td>\n",
       "      <td>101282</td>\n",
       "      <td>8191</td>\n",
       "      <td>270</td>\n",
       "      <td>2.2</td>\n",
       "      <td>Europe</td>\n",
       "    </tr>\n",
       "  </tbody>\n",
       "</table>\n",
       "</div>"
      ],
      "text/plain": [
       "  Country/Region     Cases  Deaths    PCases  PDeaths  Cases (+)  Deaths (+)  \\\n",
       "0             US  31268107  562533  31197877   562066      70230         467   \n",
       "1          India  13689453  171058  13527717   170179     161736         879   \n",
       "2         Brazil  13517808  354617  13482023   353137      35785        1480   \n",
       "3         France   5128140   99294   5119585    98909       8555         385   \n",
       "4         Russia   4597400  101552   4589209   101282       8191         270   \n",
       "\n",
       "   Fatality Rate      Continent  \n",
       "0            1.8  North America  \n",
       "1            1.2           Asia  \n",
       "2            2.6  South America  \n",
       "3            1.9         Europe  \n",
       "4            2.2         Europe  "
      ]
     },
     "execution_count": 15,
     "metadata": {},
     "output_type": "execute_result"
    }
   ],
   "source": [
    "#hide\n",
    "df_table = (pd.DataFrame(dict(Cases=dfc_cases, Deaths=dfc_deaths, PCases=dfp_cases, PDeaths=dfp_deaths))\n",
    "             .sort_values(by=['Cases', 'Deaths'], ascending=[False, False])\n",
    "             .reset_index())\n",
    "df_table.rename(columns={'index': 'Country/Region'}, inplace=True)\n",
    "for c in 'Cases, Deaths'.split(', '):\n",
    "    df_table[f'{c} (+)'] = (df_table[c] - df_table[f'P{c}']).clip(0)  # DATA BUG\n",
    "df_table['Fatality Rate'] = (100 * df_table['Deaths'] / df_table['Cases']).round(1)\n",
    "df_table['Continent'] = df_table['Country/Region'].map(mapping['map.continent'])\n",
    "df_table.head(5)"
   ]
  },
  {
   "cell_type": "code",
   "execution_count": 16,
   "id": "fewer-occasion",
   "metadata": {
    "execution": {
     "iopub.execute_input": "2021-04-14T00:06:20.581444Z",
     "iopub.status.busy": "2021-04-14T00:06:20.580866Z",
     "iopub.status.idle": "2021-04-14T00:06:20.583275Z",
     "shell.execute_reply": "2021-04-14T00:06:20.583738Z"
    },
    "papermill": {
     "duration": 0.038784,
     "end_time": "2021-04-14T00:06:20.583868",
     "exception": false,
     "start_time": "2021-04-14T00:06:20.545084",
     "status": "completed"
    },
    "tags": []
   },
   "outputs": [],
   "source": [
    "#hide\n",
    "#delete problematic countries from table\n",
    "df_table = df_table[~df_table['Country/Region'].isin(['Cape Verde', 'Cruise Ship', 'Kosovo'])]"
   ]
  },
  {
   "cell_type": "code",
   "execution_count": 17,
   "id": "related-center",
   "metadata": {
    "execution": {
     "iopub.execute_input": "2021-04-14T00:06:20.654398Z",
     "iopub.status.busy": "2021-04-14T00:06:20.653869Z",
     "iopub.status.idle": "2021-04-14T00:06:20.666308Z",
     "shell.execute_reply": "2021-04-14T00:06:20.665847Z"
    },
    "papermill": {
     "duration": 0.052411,
     "end_time": "2021-04-14T00:06:20.666422",
     "exception": false,
     "start_time": "2021-04-14T00:06:20.614011",
     "status": "completed"
    },
    "tags": []
   },
   "outputs": [],
   "source": [
    "#hide\n",
    "metrics = [df_table.columns[index] for index in [1,2,5,6]]\n",
    "# s_china = df_table[df_table['Country/Region'].eq('China')][metrics].sum().add_prefix('China ')\n",
    "s_us = df_table[df_table['Country/Region'].eq('US')][metrics].sum().add_prefix('US ')\n",
    "s_eu = df_table[df_table['Continent'].eq('Europe')][metrics].sum().add_prefix('EU ')\n",
    "s_ind = df_table[df_table['Country/Region'].eq('India')][metrics].sum().add_prefix('India ')\n",
    "summary = {'updated': pd.to_datetime(dt_today), 'since': pd.to_datetime(dt_yday)}\n",
    "summary = {'updated': pd.to_datetime(dt_today), 'since': pd.to_datetime(dt_yday)}\n",
    "summary = {**summary, **df_table[metrics].sum(), **s_ind, **s_us, **s_eu}"
   ]
  },
  {
   "cell_type": "code",
   "execution_count": 18,
   "id": "engaging-syndrome",
   "metadata": {
    "execution": {
     "iopub.execute_input": "2021-04-14T00:06:20.736705Z",
     "iopub.status.busy": "2021-04-14T00:06:20.736138Z",
     "iopub.status.idle": "2021-04-14T00:06:20.749247Z",
     "shell.execute_reply": "2021-04-14T00:06:20.748817Z"
    },
    "papermill": {
     "duration": 0.050981,
     "end_time": "2021-04-14T00:06:20.749356",
     "exception": false,
     "start_time": "2021-04-14T00:06:20.698375",
     "status": "completed"
    },
    "tags": []
   },
   "outputs": [],
   "source": [
    "#hide\n",
    "dft_ct_new_cases = dft_cases.groupby(COL_REGION)[dt_cols].sum().diff(axis=1).fillna(0).astype(int)"
   ]
  },
  {
   "cell_type": "code",
   "execution_count": 19,
   "id": "neutral-assignment",
   "metadata": {
    "execution": {
     "iopub.execute_input": "2021-04-14T00:06:20.817602Z",
     "iopub.status.busy": "2021-04-14T00:06:20.816611Z",
     "iopub.status.idle": "2021-04-14T00:06:20.818647Z",
     "shell.execute_reply": "2021-04-14T00:06:20.819487Z"
    },
    "papermill": {
     "duration": 0.04127,
     "end_time": "2021-04-14T00:06:20.819703",
     "exception": false,
     "start_time": "2021-04-14T00:06:20.778433",
     "status": "completed"
    },
    "tags": []
   },
   "outputs": [],
   "source": [
    "#hide\n",
    "everydaycases = dft_ct_new_cases.cumsum(axis=1)"
   ]
  },
  {
   "cell_type": "code",
   "execution_count": 20,
   "id": "parliamentary-calgary",
   "metadata": {
    "execution": {
     "iopub.execute_input": "2021-04-14T00:06:20.889848Z",
     "iopub.status.busy": "2021-04-14T00:06:20.889269Z",
     "iopub.status.idle": "2021-04-14T00:06:21.542502Z",
     "shell.execute_reply": "2021-04-14T00:06:21.541983Z"
    },
    "papermill": {
     "duration": 0.690491,
     "end_time": "2021-04-14T00:06:21.542624",
     "exception": false,
     "start_time": "2021-04-14T00:06:20.852133",
     "status": "completed"
    },
    "tags": []
   },
   "outputs": [],
   "source": [
    "#hide\n",
    "import pandas as pd\n",
    "import matplotlib.pyplot as plt\n",
    "import matplotlib.ticker as ticker\n",
    "import matplotlib.animation as animation\n",
    "from IPython.display import HTML"
   ]
  },
  {
   "cell_type": "code",
   "execution_count": 21,
   "id": "lasting-extraction",
   "metadata": {
    "execution": {
     "iopub.execute_input": "2021-04-14T00:06:21.610958Z",
     "iopub.status.busy": "2021-04-14T00:06:21.610374Z",
     "iopub.status.idle": "2021-04-14T00:06:21.616109Z",
     "shell.execute_reply": "2021-04-14T00:06:21.615745Z"
    },
    "papermill": {
     "duration": 0.043832,
     "end_time": "2021-04-14T00:06:21.616201",
     "exception": false,
     "start_time": "2021-04-14T00:06:21.572369",
     "status": "completed"
    },
    "tags": []
   },
   "outputs": [],
   "source": [
    "#hide\n",
    "t = everydaycases.stack()"
   ]
  },
  {
   "cell_type": "code",
   "execution_count": 22,
   "id": "premier-sleeve",
   "metadata": {
    "execution": {
     "iopub.execute_input": "2021-04-14T00:06:21.680221Z",
     "iopub.status.busy": "2021-04-14T00:06:21.679787Z",
     "iopub.status.idle": "2021-04-14T00:06:21.688658Z",
     "shell.execute_reply": "2021-04-14T00:06:21.688197Z"
    },
    "papermill": {
     "duration": 0.044487,
     "end_time": "2021-04-14T00:06:21.688779",
     "exception": false,
     "start_time": "2021-04-14T00:06:21.644292",
     "status": "completed"
    },
    "tags": []
   },
   "outputs": [],
   "source": [
    "#hide\n",
    "g = t.reset_index(['Country/Region'])"
   ]
  },
  {
   "cell_type": "code",
   "execution_count": 23,
   "id": "distributed-pittsburgh",
   "metadata": {
    "execution": {
     "iopub.execute_input": "2021-04-14T00:06:21.751994Z",
     "iopub.status.busy": "2021-04-14T00:06:21.751414Z",
     "iopub.status.idle": "2021-04-14T00:06:21.753444Z",
     "shell.execute_reply": "2021-04-14T00:06:21.752942Z"
    },
    "papermill": {
     "duration": 0.034673,
     "end_time": "2021-04-14T00:06:21.753545",
     "exception": false,
     "start_time": "2021-04-14T00:06:21.718872",
     "status": "completed"
    },
    "tags": []
   },
   "outputs": [],
   "source": [
    "#hide\n",
    "g.index.name = 'date'"
   ]
  },
  {
   "cell_type": "code",
   "execution_count": 24,
   "id": "naked-donor",
   "metadata": {
    "execution": {
     "iopub.execute_input": "2021-04-14T00:06:21.822782Z",
     "iopub.status.busy": "2021-04-14T00:06:21.821773Z",
     "iopub.status.idle": "2021-04-14T00:06:21.823887Z",
     "shell.execute_reply": "2021-04-14T00:06:21.824675Z"
    },
    "papermill": {
     "duration": 0.038327,
     "end_time": "2021-04-14T00:06:21.824889",
     "exception": false,
     "start_time": "2021-04-14T00:06:21.786562",
     "status": "completed"
    },
    "tags": []
   },
   "outputs": [],
   "source": [
    "# #hide\n",
    "# g = g.reset_index(['date'])"
   ]
  },
  {
   "cell_type": "code",
   "execution_count": 25,
   "id": "incomplete-mustang",
   "metadata": {
    "execution": {
     "iopub.execute_input": "2021-04-14T00:06:21.894950Z",
     "iopub.status.busy": "2021-04-14T00:06:21.893929Z",
     "iopub.status.idle": "2021-04-14T00:06:21.896064Z",
     "shell.execute_reply": "2021-04-14T00:06:21.896552Z"
    },
    "papermill": {
     "duration": 0.0398,
     "end_time": "2021-04-14T00:06:21.896675",
     "exception": false,
     "start_time": "2021-04-14T00:06:21.856875",
     "status": "completed"
    },
    "tags": []
   },
   "outputs": [],
   "source": [
    "#hide\n",
    "# g.head()"
   ]
  },
  {
   "cell_type": "code",
   "execution_count": 26,
   "id": "specific-kruger",
   "metadata": {
    "execution": {
     "iopub.execute_input": "2021-04-14T00:06:21.969328Z",
     "iopub.status.busy": "2021-04-14T00:06:21.968754Z",
     "iopub.status.idle": "2021-04-14T00:06:21.971036Z",
     "shell.execute_reply": "2021-04-14T00:06:21.970546Z"
    },
    "papermill": {
     "duration": 0.040708,
     "end_time": "2021-04-14T00:06:21.971172",
     "exception": false,
     "start_time": "2021-04-14T00:06:21.930464",
     "status": "completed"
    },
    "tags": []
   },
   "outputs": [],
   "source": [
    "#hide\n",
    "# g.columns = ['date','country','cases']"
   ]
  },
  {
   "cell_type": "code",
   "execution_count": 27,
   "id": "tender-conversion",
   "metadata": {
    "execution": {
     "iopub.execute_input": "2021-04-14T00:06:22.042008Z",
     "iopub.status.busy": "2021-04-14T00:06:22.041418Z",
     "iopub.status.idle": "2021-04-14T00:06:22.043936Z",
     "shell.execute_reply": "2021-04-14T00:06:22.043439Z"
    },
    "papermill": {
     "duration": 0.039789,
     "end_time": "2021-04-14T00:06:22.044055",
     "exception": false,
     "start_time": "2021-04-14T00:06:22.004266",
     "status": "completed"
    },
    "tags": []
   },
   "outputs": [],
   "source": [
    "#hide\n",
    "# g['continent'] = g.country"
   ]
  },
  {
   "cell_type": "code",
   "execution_count": 28,
   "id": "substantial-wilderness",
   "metadata": {
    "execution": {
     "iopub.execute_input": "2021-04-14T00:06:22.113367Z",
     "iopub.status.busy": "2021-04-14T00:06:22.112577Z",
     "iopub.status.idle": "2021-04-14T00:06:22.114205Z",
     "shell.execute_reply": "2021-04-14T00:06:22.114854Z"
    },
    "papermill": {
     "duration": 0.039003,
     "end_time": "2021-04-14T00:06:22.115051",
     "exception": false,
     "start_time": "2021-04-14T00:06:22.076048",
     "status": "completed"
    },
    "tags": []
   },
   "outputs": [],
   "source": [
    "#hide\n",
    "# cols = list(g.columns.values)"
   ]
  },
  {
   "cell_type": "code",
   "execution_count": 29,
   "id": "solved-farming",
   "metadata": {
    "execution": {
     "iopub.execute_input": "2021-04-14T00:06:22.182499Z",
     "iopub.status.busy": "2021-04-14T00:06:22.181938Z",
     "iopub.status.idle": "2021-04-14T00:06:22.184138Z",
     "shell.execute_reply": "2021-04-14T00:06:22.183746Z"
    },
    "papermill": {
     "duration": 0.035971,
     "end_time": "2021-04-14T00:06:22.184259",
     "exception": false,
     "start_time": "2021-04-14T00:06:22.148288",
     "status": "completed"
    },
    "tags": []
   },
   "outputs": [],
   "source": [
    "#hide\n",
    "# cols.insert(0, cols.pop())"
   ]
  },
  {
   "cell_type": "code",
   "execution_count": 30,
   "id": "executed-adoption",
   "metadata": {
    "execution": {
     "iopub.execute_input": "2021-04-14T00:06:22.253516Z",
     "iopub.status.busy": "2021-04-14T00:06:22.252940Z",
     "iopub.status.idle": "2021-04-14T00:06:22.254700Z",
     "shell.execute_reply": "2021-04-14T00:06:22.255210Z"
    },
    "papermill": {
     "duration": 0.038807,
     "end_time": "2021-04-14T00:06:22.255346",
     "exception": false,
     "start_time": "2021-04-14T00:06:22.216539",
     "status": "completed"
    },
    "tags": []
   },
   "outputs": [],
   "source": [
    "#hide\n",
    "# g = g[cols]"
   ]
  },
  {
   "cell_type": "code",
   "execution_count": 31,
   "id": "subject-dublin",
   "metadata": {
    "execution": {
     "iopub.execute_input": "2021-04-14T00:06:22.324989Z",
     "iopub.status.busy": "2021-04-14T00:06:22.324450Z",
     "iopub.status.idle": "2021-04-14T00:06:22.326758Z",
     "shell.execute_reply": "2021-04-14T00:06:22.326269Z"
    },
    "papermill": {
     "duration": 0.038185,
     "end_time": "2021-04-14T00:06:22.326863",
     "exception": false,
     "start_time": "2021-04-14T00:06:22.288678",
     "status": "completed"
    },
    "tags": []
   },
   "outputs": [],
   "source": [
    "#hide\n",
    "# g['continent'] = g['continent'].map(mapping['map.continent'])"
   ]
  },
  {
   "cell_type": "code",
   "execution_count": 32,
   "id": "freelance-scout",
   "metadata": {
    "execution": {
     "iopub.execute_input": "2021-04-14T00:06:22.397363Z",
     "iopub.status.busy": "2021-04-14T00:06:22.396834Z",
     "iopub.status.idle": "2021-04-14T00:06:22.399556Z",
     "shell.execute_reply": "2021-04-14T00:06:22.400060Z"
    },
    "papermill": {
     "duration": 0.039999,
     "end_time": "2021-04-14T00:06:22.400185",
     "exception": false,
     "start_time": "2021-04-14T00:06:22.360186",
     "status": "completed"
    },
    "tags": []
   },
   "outputs": [],
   "source": [
    "#hide\n",
    "# g.head()"
   ]
  },
  {
   "cell_type": "code",
   "execution_count": 33,
   "id": "limited-engine",
   "metadata": {
    "execution": {
     "iopub.execute_input": "2021-04-14T00:06:22.466009Z",
     "iopub.status.busy": "2021-04-14T00:06:22.465472Z",
     "iopub.status.idle": "2021-04-14T00:06:22.468275Z",
     "shell.execute_reply": "2021-04-14T00:06:22.467828Z"
    },
    "papermill": {
     "duration": 0.037482,
     "end_time": "2021-04-14T00:06:22.468381",
     "exception": false,
     "start_time": "2021-04-14T00:06:22.430899",
     "status": "completed"
    },
    "tags": []
   },
   "outputs": [],
   "source": [
    "# hide\n",
    "# g['date'] = g['date'].astype('datetime64[ns]')"
   ]
  },
  {
   "cell_type": "code",
   "execution_count": 34,
   "id": "sophisticated-supervisor",
   "metadata": {
    "execution": {
     "iopub.execute_input": "2021-04-14T00:06:22.538545Z",
     "iopub.status.busy": "2021-04-14T00:06:22.537973Z",
     "iopub.status.idle": "2021-04-14T00:06:22.540313Z",
     "shell.execute_reply": "2021-04-14T00:06:22.539825Z"
    },
    "papermill": {
     "duration": 0.038611,
     "end_time": "2021-04-14T00:06:22.540419",
     "exception": false,
     "start_time": "2021-04-14T00:06:22.501808",
     "status": "completed"
    },
    "tags": []
   },
   "outputs": [],
   "source": [
    "#hide\n",
    "# g['date'] = g.date.dt.dayofyear"
   ]
  },
  {
   "cell_type": "code",
   "execution_count": 35,
   "id": "inside-dubai",
   "metadata": {
    "execution": {
     "iopub.execute_input": "2021-04-14T00:06:22.609704Z",
     "iopub.status.busy": "2021-04-14T00:06:22.609140Z",
     "iopub.status.idle": "2021-04-14T00:06:22.610929Z",
     "shell.execute_reply": "2021-04-14T00:06:22.611418Z"
    },
    "papermill": {
     "duration": 0.038399,
     "end_time": "2021-04-14T00:06:22.611551",
     "exception": false,
     "start_time": "2021-04-14T00:06:22.573152",
     "status": "completed"
    },
    "tags": []
   },
   "outputs": [],
   "source": [
    "#hide\n",
    "# g = g.rename(columns= {'continent':'group','country':'name','cases':'value'})"
   ]
  },
  {
   "cell_type": "code",
   "execution_count": 36,
   "id": "fleet-motorcycle",
   "metadata": {
    "execution": {
     "iopub.execute_input": "2021-04-14T00:06:22.681787Z",
     "iopub.status.busy": "2021-04-14T00:06:22.681242Z",
     "iopub.status.idle": "2021-04-14T00:06:22.683427Z",
     "shell.execute_reply": "2021-04-14T00:06:22.683025Z"
    },
    "papermill": {
     "duration": 0.039589,
     "end_time": "2021-04-14T00:06:22.683522",
     "exception": false,
     "start_time": "2021-04-14T00:06:22.643933",
     "status": "completed"
    },
    "tags": []
   },
   "outputs": [],
   "source": [
    "#hide\n",
    "# cols = ['name','group','day','value']"
   ]
  },
  {
   "cell_type": "code",
   "execution_count": 37,
   "id": "continued-sleeping",
   "metadata": {
    "execution": {
     "iopub.execute_input": "2021-04-14T00:06:22.752943Z",
     "iopub.status.busy": "2021-04-14T00:06:22.752412Z",
     "iopub.status.idle": "2021-04-14T00:06:22.754799Z",
     "shell.execute_reply": "2021-04-14T00:06:22.754342Z"
    },
    "papermill": {
     "duration": 0.039704,
     "end_time": "2021-04-14T00:06:22.754916",
     "exception": false,
     "start_time": "2021-04-14T00:06:22.715212",
     "status": "completed"
    },
    "tags": []
   },
   "outputs": [],
   "source": [
    "#hide\n",
    "# g.rename(columns= {'date':'day'},inplace = True)"
   ]
  },
  {
   "cell_type": "code",
   "execution_count": 38,
   "id": "major-fight",
   "metadata": {
    "execution": {
     "iopub.execute_input": "2021-04-14T00:06:22.823325Z",
     "iopub.status.busy": "2021-04-14T00:06:22.822758Z",
     "iopub.status.idle": "2021-04-14T00:06:22.825035Z",
     "shell.execute_reply": "2021-04-14T00:06:22.824588Z"
    },
    "papermill": {
     "duration": 0.036697,
     "end_time": "2021-04-14T00:06:22.825140",
     "exception": false,
     "start_time": "2021-04-14T00:06:22.788443",
     "status": "completed"
    },
    "tags": []
   },
   "outputs": [],
   "source": [
    "#hide\n",
    "# g = g[cols]"
   ]
  },
  {
   "cell_type": "code",
   "execution_count": 39,
   "id": "structured-mobile",
   "metadata": {
    "execution": {
     "iopub.execute_input": "2021-04-14T00:06:22.894316Z",
     "iopub.status.busy": "2021-04-14T00:06:22.893752Z",
     "iopub.status.idle": "2021-04-14T00:06:22.896131Z",
     "shell.execute_reply": "2021-04-14T00:06:22.895642Z"
    },
    "papermill": {
     "duration": 0.038644,
     "end_time": "2021-04-14T00:06:22.896257",
     "exception": false,
     "start_time": "2021-04-14T00:06:22.857613",
     "status": "completed"
    },
    "tags": []
   },
   "outputs": [],
   "source": [
    "# #hide\n",
    "# g = g[g.group.notna()]"
   ]
  },
  {
   "cell_type": "code",
   "execution_count": 40,
   "id": "determined-closing",
   "metadata": {
    "execution": {
     "iopub.execute_input": "2021-04-14T00:06:22.963138Z",
     "iopub.status.busy": "2021-04-14T00:06:22.962569Z",
     "iopub.status.idle": "2021-04-14T00:06:22.964941Z",
     "shell.execute_reply": "2021-04-14T00:06:22.965296Z"
    },
    "papermill": {
     "duration": 0.037873,
     "end_time": "2021-04-14T00:06:22.965408",
     "exception": false,
     "start_time": "2021-04-14T00:06:22.927535",
     "status": "completed"
    },
    "tags": []
   },
   "outputs": [],
   "source": [
    "# #hide\n",
    "# colors = dict(zip(\n",
    "#     [\"Oceania\", \"Europe\", \"Asia\", \"South America\", \"Middle East\", \"North America\", \"Africa\"],\n",
    "#     [\"#adb0ff\", \"#ffb3ff\", \"#90d595\", \"#e48381\", \"#aafbff\", \"#f7bb5f\", \"#eafb50\"]\n",
    "# ))\n",
    "# group_lk = g.set_index('name')['group'].to_dict()"
   ]
  },
  {
   "cell_type": "code",
   "execution_count": null,
   "id": "gross-drinking",
   "metadata": {
    "papermill": {
     "duration": 0.031702,
     "end_time": "2021-04-14T00:06:23.027359",
     "exception": false,
     "start_time": "2021-04-14T00:06:22.995657",
     "status": "completed"
    },
    "tags": []
   },
   "outputs": [],
   "source": []
  },
  {
   "cell_type": "code",
   "execution_count": 41,
   "id": "subject-macintosh",
   "metadata": {
    "execution": {
     "iopub.execute_input": "2021-04-14T00:06:23.095741Z",
     "iopub.status.busy": "2021-04-14T00:06:23.095144Z",
     "iopub.status.idle": "2021-04-14T00:06:23.097374Z",
     "shell.execute_reply": "2021-04-14T00:06:23.097866Z"
    },
    "papermill": {
     "duration": 0.040148,
     "end_time": "2021-04-14T00:06:23.098003",
     "exception": false,
     "start_time": "2021-04-14T00:06:23.057855",
     "status": "completed"
    },
    "tags": []
   },
   "outputs": [],
   "source": [
    "# #hide\n",
    "# fig, ax = plt.subplots(figsize=(15, 8))\n",
    "\n",
    "# def draw_barchart(current_day):\n",
    "#     dff = g[g['day'].eq(current_day)].sort_values(by='value', ascending=True).tail(10)\n",
    "#     ax.clear()\n",
    "#     ax.barh(dff['name'], dff['value'], color=[colors[group_lk[x]] for x in dff['name']])\n",
    "#     dx = dff['value'].max() / 200\n",
    "    \n",
    "#     for i, (value, name) in enumerate(zip(dff['value'], dff['name'])):\n",
    "#         ax.text(value-dx, i,     name,           size=14, weight=600, ha='right', va='bottom')\n",
    "#         ax.text(value-dx, i-.25, group_lk[name], size=10, color='#444444', ha='right', va='baseline')\n",
    "#         ax.text(value+dx, i,     f'{value:,.0f}',  size=14, ha='left',  va='center')\n",
    "#     ax.text(1, 0.4, current_day, transform=ax.transAxes, color='#777777', size=46, ha='right', weight=800)\n",
    "#     ax.text(0, 1.06, 'Population (thousands)', transform=ax.transAxes, size=12, color='#777777')\n",
    "#     ax.xaxis.set_major_formatter(ticker.StrMethodFormatter('{x:,.0f}'))\n",
    "#     ax.xaxis.set_ticks_position('top')\n",
    "#     ax.tick_params(axis='x', colors='#777777', labelsize=12)\n",
    "#     ax.set_yticks([])\n",
    "#     ax.margins(0, 0.01)\n",
    "#     ax.grid(which='major', axis='x', linestyle='-')\n",
    "#     ax.set_axisbelow(True)\n",
    "    \n",
    "#     ax.text(0, 1.15, 'Coronavirus',\n",
    "#             transform=ax.transAxes, size=24, weight=600, ha='left', va='top')\n",
    "# #     ax.text(1, 0, 'by @pratapvardhan; credit @jburnmurdoch', transform=ax.transAxes, color='#777777', ha='right',\n",
    "# #             bbox=dict(facecolor='white', alpha=0.8, edgecolor='white'))\n",
    "#     plt.box(False)"
   ]
  },
  {
   "cell_type": "code",
   "execution_count": 42,
   "id": "sexual-wages",
   "metadata": {
    "execution": {
     "iopub.execute_input": "2021-04-14T00:06:23.167053Z",
     "iopub.status.busy": "2021-04-14T00:06:23.166107Z",
     "iopub.status.idle": "2021-04-14T00:06:23.169258Z",
     "shell.execute_reply": "2021-04-14T00:06:23.169726Z"
    },
    "papermill": {
     "duration": 0.040368,
     "end_time": "2021-04-14T00:06:23.169879",
     "exception": false,
     "start_time": "2021-04-14T00:06:23.129511",
     "status": "completed"
    },
    "tags": []
   },
   "outputs": [],
   "source": [
    "# #hide_input\n",
    "# fig, ax = plt.subplots(figsize=(15, 8))\n",
    "# animator = animation.FuncAnimation(fig, draw_barchart, frames=range(g.day.values.min(), g.day.values.max()))\n",
    "# HTML(animator.to_jshtml())\n",
    "# # or use animator.to_html5_video() or animator.save() "
   ]
  },
  {
   "cell_type": "code",
   "execution_count": null,
   "id": "australian-container",
   "metadata": {
    "papermill": {
     "duration": 0.034983,
     "end_time": "2021-04-14T00:06:23.242836",
     "exception": false,
     "start_time": "2021-04-14T00:06:23.207853",
     "status": "completed"
    },
    "tags": []
   },
   "outputs": [],
   "source": []
  },
  {
   "cell_type": "code",
   "execution_count": null,
   "id": "mediterranean-pontiac",
   "metadata": {
    "papermill": {
     "duration": 0.030749,
     "end_time": "2021-04-14T00:06:23.305199",
     "exception": false,
     "start_time": "2021-04-14T00:06:23.274450",
     "status": "completed"
    },
    "tags": []
   },
   "outputs": [],
   "source": []
  },
  {
   "cell_type": "code",
   "execution_count": null,
   "id": "aging-legislature",
   "metadata": {
    "papermill": {
     "duration": 0.033098,
     "end_time": "2021-04-14T00:06:23.370240",
     "exception": false,
     "start_time": "2021-04-14T00:06:23.337142",
     "status": "completed"
    },
    "tags": []
   },
   "outputs": [],
   "source": []
  }
 ],
 "metadata": {
  "kernelspec": {
   "display_name": "Python 3",
   "language": "python",
   "name": "python3"
  },
  "language_info": {
   "codemirror_mode": {
    "name": "ipython",
    "version": 3
   },
   "file_extension": ".py",
   "mimetype": "text/x-python",
   "name": "python",
   "nbconvert_exporter": "python",
   "pygments_lexer": "ipython3",
   "version": "3.6.13"
  },
  "papermill": {
   "duration": 7.326164,
   "end_time": "2021-04-14T00:06:24.679334",
   "environment_variables": {},
   "exception": null,
   "input_path": "2020-03-21-covid19exp.ipynb",
   "output_path": "2020-03-21-covid19exp.ipynb",
   "parameters": {},
   "start_time": "2021-04-14T00:06:17.353170",
   "version": "2.0.0"
  }
 },
 "nbformat": 4,
 "nbformat_minor": 5
}