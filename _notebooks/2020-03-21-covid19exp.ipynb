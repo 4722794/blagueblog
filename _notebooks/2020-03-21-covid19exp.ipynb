{
 "cells": [
  {
   "cell_type": "markdown",
   "id": "muslim-click",
   "metadata": {
    "papermill": {
     "duration": 0.034361,
     "end_time": "2021-12-29T12:13:16.169510",
     "exception": false,
     "start_time": "2021-12-29T12:13:16.135149",
     "status": "completed"
    },
    "tags": []
   },
   "source": [
    "# COVID-19 Case Race\n",
    "> A race chart to see rising cases around the world\n",
    "\n",
    "- author: Hargun Oberoi\n",
    "- image: images/covid-overview.png\n",
    "- hide: false\n",
    "- badges: false"
   ]
  },
  {
   "cell_type": "code",
   "execution_count": 1,
   "id": "proof-material",
   "metadata": {
    "execution": {
     "iopub.execute_input": "2021-12-29T12:13:16.241004Z",
     "iopub.status.busy": "2021-12-29T12:13:16.240456Z",
     "iopub.status.idle": "2021-12-29T12:13:16.584015Z",
     "shell.execute_reply": "2021-12-29T12:13:16.583513Z"
    },
    "papermill": {
     "duration": 0.384391,
     "end_time": "2021-12-29T12:13:16.584165",
     "exception": false,
     "start_time": "2021-12-29T12:13:16.199774",
     "status": "completed"
    },
    "tags": []
   },
   "outputs": [],
   "source": [
    "#hide\n",
    "import numpy as np\n",
    "import pandas as pd\n",
    "from jinja2 import Template\n",
    "from IPython.display import HTML"
   ]
  },
  {
   "cell_type": "code",
   "execution_count": 2,
   "id": "developed-terminology",
   "metadata": {
    "execution": {
     "iopub.execute_input": "2021-12-29T12:13:16.650140Z",
     "iopub.status.busy": "2021-12-29T12:13:16.649511Z",
     "iopub.status.idle": "2021-12-29T12:13:16.651039Z",
     "shell.execute_reply": "2021-12-29T12:13:16.651529Z"
    },
    "papermill": {
     "duration": 0.036999,
     "end_time": "2021-12-29T12:13:16.651678",
     "exception": false,
     "start_time": "2021-12-29T12:13:16.614679",
     "status": "completed"
    },
    "tags": []
   },
   "outputs": [],
   "source": [
    "#hide\n",
    "\n",
    "# FETCH\n",
    "base_url = 'https://raw.githubusercontent.com/pratapvardhan/notebooks/master/covid19/'\n",
    "paths = {\n",
    "    'mapping': base_url + 'mapping_countries.csv',\n",
    "    'overview': base_url + 'overview.tpl'\n",
    "}"
   ]
  },
  {
   "cell_type": "code",
   "execution_count": 3,
   "id": "dynamic-saver",
   "metadata": {
    "execution": {
     "iopub.execute_input": "2021-12-29T12:13:16.721071Z",
     "iopub.status.busy": "2021-12-29T12:13:16.720550Z",
     "iopub.status.idle": "2021-12-29T12:13:16.722649Z",
     "shell.execute_reply": "2021-12-29T12:13:16.723134Z"
    },
    "papermill": {
     "duration": 0.04168,
     "end_time": "2021-12-29T12:13:16.723270",
     "exception": false,
     "start_time": "2021-12-29T12:13:16.681590",
     "status": "completed"
    },
    "tags": []
   },
   "outputs": [
    {
     "data": {
      "text/plain": [
       "'https://raw.githubusercontent.com/pratapvardhan/notebooks/master/covid19/mapping_countries.csv'"
      ]
     },
     "execution_count": 3,
     "metadata": {},
     "output_type": "execute_result"
    }
   ],
   "source": [
    "#hide\n",
    "paths['mapping']"
   ]
  },
  {
   "cell_type": "code",
   "execution_count": 4,
   "id": "urban-software",
   "metadata": {
    "execution": {
     "iopub.execute_input": "2021-12-29T12:13:16.789189Z",
     "iopub.status.busy": "2021-12-29T12:13:16.788624Z",
     "iopub.status.idle": "2021-12-29T12:13:16.790752Z",
     "shell.execute_reply": "2021-12-29T12:13:16.790335Z"
    },
    "papermill": {
     "duration": 0.037439,
     "end_time": "2021-12-29T12:13:16.790875",
     "exception": false,
     "start_time": "2021-12-29T12:13:16.753436",
     "status": "completed"
    },
    "tags": []
   },
   "outputs": [],
   "source": [
    "#hide\n",
    "def get_mappings(url):\n",
    "    df = pd.read_csv(url)\n",
    "    return {\n",
    "        'df': df,\n",
    "        'replace.country': dict(df.dropna(subset=['Name']).set_index('Country')['Name']),\n",
    "        'map.continent': dict(df.set_index('Name')['Continent'])\n",
    "    }"
   ]
  },
  {
   "cell_type": "code",
   "execution_count": 5,
   "id": "intimate-machinery",
   "metadata": {
    "execution": {
     "iopub.execute_input": "2021-12-29T12:13:16.856852Z",
     "iopub.status.busy": "2021-12-29T12:13:16.856339Z",
     "iopub.status.idle": "2021-12-29T12:13:16.926712Z",
     "shell.execute_reply": "2021-12-29T12:13:16.926184Z"
    },
    "papermill": {
     "duration": 0.105736,
     "end_time": "2021-12-29T12:13:16.926861",
     "exception": false,
     "start_time": "2021-12-29T12:13:16.821125",
     "status": "completed"
    },
    "tags": []
   },
   "outputs": [],
   "source": [
    "#hide\n",
    "mapping = get_mappings(paths['mapping'])"
   ]
  },
  {
   "cell_type": "code",
   "execution_count": 6,
   "id": "certified-tactics",
   "metadata": {
    "execution": {
     "iopub.execute_input": "2021-12-29T12:13:16.993575Z",
     "iopub.status.busy": "2021-12-29T12:13:16.993007Z",
     "iopub.status.idle": "2021-12-29T12:13:16.995160Z",
     "shell.execute_reply": "2021-12-29T12:13:16.994714Z"
    },
    "papermill": {
     "duration": 0.037782,
     "end_time": "2021-12-29T12:13:16.995275",
     "exception": false,
     "start_time": "2021-12-29T12:13:16.957493",
     "status": "completed"
    },
    "tags": []
   },
   "outputs": [],
   "source": [
    "#hide\n",
    "def get_template(path):\n",
    "    from urllib.parse import urlparse\n",
    "    if bool(urlparse(path).netloc):\n",
    "        from urllib.request import urlopen\n",
    "        return urlopen(path).read().decode('utf8')\n",
    "    return open(path).read()"
   ]
  },
  {
   "cell_type": "code",
   "execution_count": 7,
   "id": "realistic-blast",
   "metadata": {
    "execution": {
     "iopub.execute_input": "2021-12-29T12:13:17.060352Z",
     "iopub.status.busy": "2021-12-29T12:13:17.059824Z",
     "iopub.status.idle": "2021-12-29T12:13:17.061621Z",
     "shell.execute_reply": "2021-12-29T12:13:17.062024Z"
    },
    "papermill": {
     "duration": 0.036908,
     "end_time": "2021-12-29T12:13:17.062157",
     "exception": false,
     "start_time": "2021-12-29T12:13:17.025249",
     "status": "completed"
    },
    "tags": []
   },
   "outputs": [],
   "source": [
    "#hide\n",
    "def get_frame(name):\n",
    "    url = (\n",
    "        'https://raw.githubusercontent.com/CSSEGISandData/COVID-19/master/csse_covid_19_data/'\n",
    "        f'csse_covid_19_time_series/time_series_covid19_{name}_global.csv')\n",
    "    df = pd.read_csv(url)\n",
    "    # rename countries\n",
    "    df['Country/Region'] = df['Country/Region'].replace(mapping['replace.country'])\n",
    "    return df"
   ]
  },
  {
   "cell_type": "code",
   "execution_count": 8,
   "id": "affiliated-characterization",
   "metadata": {
    "execution": {
     "iopub.execute_input": "2021-12-29T12:13:17.128935Z",
     "iopub.status.busy": "2021-12-29T12:13:17.128288Z",
     "iopub.status.idle": "2021-12-29T12:13:17.129711Z",
     "shell.execute_reply": "2021-12-29T12:13:17.130255Z"
    },
    "papermill": {
     "duration": 0.038129,
     "end_time": "2021-12-29T12:13:17.130407",
     "exception": false,
     "start_time": "2021-12-29T12:13:17.092278",
     "status": "completed"
    },
    "tags": []
   },
   "outputs": [],
   "source": [
    "#hide\n",
    "def get_dates(df):\n",
    "    dt_cols = df.columns[~df.columns.isin(['Province/State', 'Country/Region', 'Lat', 'Long'])]\n",
    "    LAST_DATE_I = -1\n",
    "    # sometimes last column may be empty, then go backwards\n",
    "    for i in range(-1, -len(dt_cols), -1):\n",
    "        if not df[dt_cols[i]].fillna(0).eq(0).all():\n",
    "            LAST_DATE_I = i\n",
    "            break\n",
    "    return LAST_DATE_I, dt_cols"
   ]
  },
  {
   "cell_type": "code",
   "execution_count": 9,
   "id": "recent-optimization",
   "metadata": {
    "execution": {
     "iopub.execute_input": "2021-12-29T12:13:17.196257Z",
     "iopub.status.busy": "2021-12-29T12:13:17.195717Z",
     "iopub.status.idle": "2021-12-29T12:13:17.794024Z",
     "shell.execute_reply": "2021-12-29T12:13:17.793521Z"
    },
    "papermill": {
     "duration": 0.633192,
     "end_time": "2021-12-29T12:13:17.794146",
     "exception": false,
     "start_time": "2021-12-29T12:13:17.160954",
     "status": "completed"
    },
    "tags": []
   },
   "outputs": [],
   "source": [
    "#hide\n",
    "COL_REGION = 'Country/Region'\n",
    "# Confirmed, Recovered, Deaths\n",
    "df = get_frame('confirmed')\n",
    "# dft_: timeseries, dfc_: today country agg\n",
    "dft_cases = df\n",
    "dft_deaths = get_frame('deaths')\n",
    "dft_recovered = get_frame('recovered')\n",
    "LAST_DATE_I, dt_cols = get_dates(df)"
   ]
  },
  {
   "cell_type": "code",
   "execution_count": 10,
   "id": "absolute-copper",
   "metadata": {
    "execution": {
     "iopub.execute_input": "2021-12-29T12:13:17.860754Z",
     "iopub.status.busy": "2021-12-29T12:13:17.860209Z",
     "iopub.status.idle": "2021-12-29T12:13:17.862394Z",
     "shell.execute_reply": "2021-12-29T12:13:17.861979Z"
    },
    "papermill": {
     "duration": 0.03809,
     "end_time": "2021-12-29T12:13:17.862509",
     "exception": false,
     "start_time": "2021-12-29T12:13:17.824419",
     "status": "completed"
    },
    "tags": []
   },
   "outputs": [],
   "source": [
    "#hide\n",
    "LAST_DATE_I, dt_cols = get_dates(df)\n",
    "dt_today =dt_cols[LAST_DATE_I]\n",
    "# dt_5day = dt_cols[LAST_DATE_I - 5]\n",
    "dt_yday = dt_cols[LAST_DATE_I - 1]"
   ]
  },
  {
   "cell_type": "code",
   "execution_count": 11,
   "id": "restricted-sheriff",
   "metadata": {
    "execution": {
     "iopub.execute_input": "2021-12-29T12:13:17.928223Z",
     "iopub.status.busy": "2021-12-29T12:13:17.927692Z",
     "iopub.status.idle": "2021-12-29T12:13:17.936068Z",
     "shell.execute_reply": "2021-12-29T12:13:17.935636Z"
    },
    "papermill": {
     "duration": 0.043618,
     "end_time": "2021-12-29T12:13:17.936196",
     "exception": false,
     "start_time": "2021-12-29T12:13:17.892578",
     "status": "completed"
    },
    "tags": []
   },
   "outputs": [],
   "source": [
    "#hide\n",
    "dfc_cases = dft_cases.groupby(COL_REGION)[dt_today].sum()\n",
    "dfc_deaths = dft_deaths.groupby(COL_REGION)[dt_today].sum()\n",
    "# dfp_cases = dft_cases.groupby(COL_REGION)[dt_5day].sum()\n",
    "# dfp_deaths = dft_deaths.groupby(COL_REGION)[dt_5day].sum()\n",
    "dfp_cases = dft_cases.groupby(COL_REGION)[dt_yday].sum()\n",
    "dfp_deaths = dft_deaths.groupby(COL_REGION)[dt_yday].sum()"
   ]
  },
  {
   "cell_type": "code",
   "execution_count": 12,
   "id": "deluxe-hepatitis",
   "metadata": {
    "execution": {
     "iopub.execute_input": "2021-12-29T12:13:18.003193Z",
     "iopub.status.busy": "2021-12-29T12:13:18.002663Z",
     "iopub.status.idle": "2021-12-29T12:13:18.007025Z",
     "shell.execute_reply": "2021-12-29T12:13:18.007505Z"
    },
    "papermill": {
     "duration": 0.041273,
     "end_time": "2021-12-29T12:13:18.007651",
     "exception": false,
     "start_time": "2021-12-29T12:13:17.966378",
     "status": "completed"
    },
    "tags": []
   },
   "outputs": [],
   "source": [
    "#hide\n",
    "df_table = (pd.DataFrame(dict(Cases = dfc_cases, Deaths = dfc_deaths, PCases = dfp_cases, PDeaths = dfp_deaths))\n",
    "            .sort_values(by = ['Cases','Deaths'], ascending = [False, False])\n",
    "            .reset_index())"
   ]
  },
  {
   "cell_type": "code",
   "execution_count": 13,
   "id": "educational-chancellor",
   "metadata": {
    "execution": {
     "iopub.execute_input": "2021-12-29T12:13:18.087027Z",
     "iopub.status.busy": "2021-12-29T12:13:18.086480Z",
     "iopub.status.idle": "2021-12-29T12:13:18.093341Z",
     "shell.execute_reply": "2021-12-29T12:13:18.093817Z"
    },
    "papermill": {
     "duration": 0.056131,
     "end_time": "2021-12-29T12:13:18.093951",
     "exception": false,
     "start_time": "2021-12-29T12:13:18.037820",
     "status": "completed"
    },
    "tags": []
   },
   "outputs": [
    {
     "data": {
      "text/html": [
       "<div>\n",
       "<style scoped>\n",
       "    .dataframe tbody tr th:only-of-type {\n",
       "        vertical-align: middle;\n",
       "    }\n",
       "\n",
       "    .dataframe tbody tr th {\n",
       "        vertical-align: top;\n",
       "    }\n",
       "\n",
       "    .dataframe thead th {\n",
       "        text-align: right;\n",
       "    }\n",
       "</style>\n",
       "<table border=\"1\" class=\"dataframe\">\n",
       "  <thead>\n",
       "    <tr style=\"text-align: right;\">\n",
       "      <th></th>\n",
       "      <th>Country/Region</th>\n",
       "      <th>Cases</th>\n",
       "      <th>Deaths</th>\n",
       "      <th>PCases</th>\n",
       "      <th>PDeaths</th>\n",
       "      <th>Cases (+)</th>\n",
       "      <th>Deaths (+)</th>\n",
       "      <th>Fatality Rate</th>\n",
       "      <th>Continent</th>\n",
       "    </tr>\n",
       "  </thead>\n",
       "  <tbody>\n",
       "    <tr>\n",
       "      <th>0</th>\n",
       "      <td>US</td>\n",
       "      <td>53170421</td>\n",
       "      <td>820708</td>\n",
       "      <td>52793407</td>\n",
       "      <td>818371</td>\n",
       "      <td>377014</td>\n",
       "      <td>2337</td>\n",
       "      <td>1.54</td>\n",
       "      <td>North America</td>\n",
       "    </tr>\n",
       "    <tr>\n",
       "      <th>1</th>\n",
       "      <td>India</td>\n",
       "      <td>34808886</td>\n",
       "      <td>480592</td>\n",
       "      <td>34799691</td>\n",
       "      <td>480290</td>\n",
       "      <td>9195</td>\n",
       "      <td>302</td>\n",
       "      <td>1.38</td>\n",
       "      <td>Asia</td>\n",
       "    </tr>\n",
       "    <tr>\n",
       "      <th>2</th>\n",
       "      <td>Brazil</td>\n",
       "      <td>22259270</td>\n",
       "      <td>618978</td>\n",
       "      <td>22250218</td>\n",
       "      <td>618797</td>\n",
       "      <td>9052</td>\n",
       "      <td>181</td>\n",
       "      <td>2.78</td>\n",
       "      <td>South America</td>\n",
       "    </tr>\n",
       "    <tr>\n",
       "      <th>3</th>\n",
       "      <td>United Kingdom</td>\n",
       "      <td>12406697</td>\n",
       "      <td>148488</td>\n",
       "      <td>12277814</td>\n",
       "      <td>148470</td>\n",
       "      <td>128883</td>\n",
       "      <td>18</td>\n",
       "      <td>1.20</td>\n",
       "      <td>Europe</td>\n",
       "    </tr>\n",
       "    <tr>\n",
       "      <th>4</th>\n",
       "      <td>Russia</td>\n",
       "      <td>10258052</td>\n",
       "      <td>299983</td>\n",
       "      <td>10236301</td>\n",
       "      <td>299077</td>\n",
       "      <td>21751</td>\n",
       "      <td>906</td>\n",
       "      <td>2.92</td>\n",
       "      <td>Europe</td>\n",
       "    </tr>\n",
       "  </tbody>\n",
       "</table>\n",
       "</div>"
      ],
      "text/plain": [
       "   Country/Region     Cases  Deaths    PCases  PDeaths  Cases (+)  Deaths (+)  \\\n",
       "0              US  53170421  820708  52793407   818371     377014        2337   \n",
       "1           India  34808886  480592  34799691   480290       9195         302   \n",
       "2          Brazil  22259270  618978  22250218   618797       9052         181   \n",
       "3  United Kingdom  12406697  148488  12277814   148470     128883          18   \n",
       "4          Russia  10258052  299983  10236301   299077      21751         906   \n",
       "\n",
       "   Fatality Rate      Continent  \n",
       "0           1.54  North America  \n",
       "1           1.38           Asia  \n",
       "2           2.78  South America  \n",
       "3           1.20         Europe  \n",
       "4           2.92         Europe  "
      ]
     },
     "execution_count": 13,
     "metadata": {},
     "output_type": "execute_result"
    }
   ],
   "source": [
    "#hide\n",
    "for c in 'Cases, Deaths'.split(', '):\n",
    "    df_table[f'{c} (+)'] = (df_table[c] - df_table[f'P{c}']).clip(0)\n",
    "    #Clip ça veut dire, les chiffres negatif sont interdit\n",
    "df_table['Fatality Rate'] = (100* df_table['Deaths']/ df_table['Cases']).round(2)\n",
    "df_table['Continent'] = df_table['Country/Region'].map(mapping['map.continent'])\n",
    "df_table.head(5)"
   ]
  },
  {
   "cell_type": "code",
   "execution_count": 14,
   "id": "aboriginal-bulgaria",
   "metadata": {
    "execution": {
     "iopub.execute_input": "2021-12-29T12:13:18.160980Z",
     "iopub.status.busy": "2021-12-29T12:13:18.160410Z",
     "iopub.status.idle": "2021-12-29T12:13:18.162553Z",
     "shell.execute_reply": "2021-12-29T12:13:18.162139Z"
    },
    "papermill": {
     "duration": 0.038211,
     "end_time": "2021-12-29T12:13:18.162676",
     "exception": false,
     "start_time": "2021-12-29T12:13:18.124465",
     "status": "completed"
    },
    "tags": []
   },
   "outputs": [],
   "source": [
    "#hide\n",
    "#delete problematic countries from table\n",
    "df_table = df_table[~df_table['Country/Region'].isin(['Cape Verde', 'Cruise Ship', 'Kosovo'])]"
   ]
  },
  {
   "cell_type": "code",
   "execution_count": 15,
   "id": "fantastic-effect",
   "metadata": {
    "execution": {
     "iopub.execute_input": "2021-12-29T12:13:18.232608Z",
     "iopub.status.busy": "2021-12-29T12:13:18.232080Z",
     "iopub.status.idle": "2021-12-29T12:13:18.250227Z",
     "shell.execute_reply": "2021-12-29T12:13:18.249778Z"
    },
    "papermill": {
     "duration": 0.057292,
     "end_time": "2021-12-29T12:13:18.250345",
     "exception": false,
     "start_time": "2021-12-29T12:13:18.193053",
     "status": "completed"
    },
    "tags": []
   },
   "outputs": [
    {
     "data": {
      "text/html": [
       "<div>\n",
       "<style scoped>\n",
       "    .dataframe tbody tr th:only-of-type {\n",
       "        vertical-align: middle;\n",
       "    }\n",
       "\n",
       "    .dataframe tbody tr th {\n",
       "        vertical-align: top;\n",
       "    }\n",
       "\n",
       "    .dataframe thead th {\n",
       "        text-align: right;\n",
       "    }\n",
       "</style>\n",
       "<table border=\"1\" class=\"dataframe\">\n",
       "  <thead>\n",
       "    <tr style=\"text-align: right;\">\n",
       "      <th></th>\n",
       "      <th>Country/Region</th>\n",
       "      <th>Cases</th>\n",
       "      <th>Deaths</th>\n",
       "      <th>PCases</th>\n",
       "      <th>PDeaths</th>\n",
       "      <th>Cases (+)</th>\n",
       "      <th>Deaths (+)</th>\n",
       "      <th>Fatality Rate</th>\n",
       "      <th>Continent</th>\n",
       "    </tr>\n",
       "  </thead>\n",
       "  <tbody>\n",
       "    <tr>\n",
       "      <th>0</th>\n",
       "      <td>US</td>\n",
       "      <td>53170421</td>\n",
       "      <td>820708</td>\n",
       "      <td>52793407</td>\n",
       "      <td>818371</td>\n",
       "      <td>377014</td>\n",
       "      <td>2337</td>\n",
       "      <td>1.5</td>\n",
       "      <td>North America</td>\n",
       "    </tr>\n",
       "    <tr>\n",
       "      <th>1</th>\n",
       "      <td>India</td>\n",
       "      <td>34808886</td>\n",
       "      <td>480592</td>\n",
       "      <td>34799691</td>\n",
       "      <td>480290</td>\n",
       "      <td>9195</td>\n",
       "      <td>302</td>\n",
       "      <td>1.4</td>\n",
       "      <td>Asia</td>\n",
       "    </tr>\n",
       "    <tr>\n",
       "      <th>2</th>\n",
       "      <td>Brazil</td>\n",
       "      <td>22259270</td>\n",
       "      <td>618978</td>\n",
       "      <td>22250218</td>\n",
       "      <td>618797</td>\n",
       "      <td>9052</td>\n",
       "      <td>181</td>\n",
       "      <td>2.8</td>\n",
       "      <td>South America</td>\n",
       "    </tr>\n",
       "    <tr>\n",
       "      <th>3</th>\n",
       "      <td>United Kingdom</td>\n",
       "      <td>12406697</td>\n",
       "      <td>148488</td>\n",
       "      <td>12277814</td>\n",
       "      <td>148470</td>\n",
       "      <td>128883</td>\n",
       "      <td>18</td>\n",
       "      <td>1.2</td>\n",
       "      <td>Europe</td>\n",
       "    </tr>\n",
       "    <tr>\n",
       "      <th>4</th>\n",
       "      <td>Russia</td>\n",
       "      <td>10258052</td>\n",
       "      <td>299983</td>\n",
       "      <td>10236301</td>\n",
       "      <td>299077</td>\n",
       "      <td>21751</td>\n",
       "      <td>906</td>\n",
       "      <td>2.9</td>\n",
       "      <td>Europe</td>\n",
       "    </tr>\n",
       "  </tbody>\n",
       "</table>\n",
       "</div>"
      ],
      "text/plain": [
       "   Country/Region     Cases  Deaths    PCases  PDeaths  Cases (+)  Deaths (+)  \\\n",
       "0              US  53170421  820708  52793407   818371     377014        2337   \n",
       "1           India  34808886  480592  34799691   480290       9195         302   \n",
       "2          Brazil  22259270  618978  22250218   618797       9052         181   \n",
       "3  United Kingdom  12406697  148488  12277814   148470     128883          18   \n",
       "4          Russia  10258052  299983  10236301   299077      21751         906   \n",
       "\n",
       "   Fatality Rate      Continent  \n",
       "0            1.5  North America  \n",
       "1            1.4           Asia  \n",
       "2            2.8  South America  \n",
       "3            1.2         Europe  \n",
       "4            2.9         Europe  "
      ]
     },
     "execution_count": 15,
     "metadata": {},
     "output_type": "execute_result"
    }
   ],
   "source": [
    "#hide\n",
    "df_table = (pd.DataFrame(dict(Cases=dfc_cases, Deaths=dfc_deaths, PCases=dfp_cases, PDeaths=dfp_deaths))\n",
    "             .sort_values(by=['Cases', 'Deaths'], ascending=[False, False])\n",
    "             .reset_index())\n",
    "df_table.rename(columns={'index': 'Country/Region'}, inplace=True)\n",
    "for c in 'Cases, Deaths'.split(', '):\n",
    "    df_table[f'{c} (+)'] = (df_table[c] - df_table[f'P{c}']).clip(0)  # DATA BUG\n",
    "df_table['Fatality Rate'] = (100 * df_table['Deaths'] / df_table['Cases']).round(1)\n",
    "df_table['Continent'] = df_table['Country/Region'].map(mapping['map.continent'])\n",
    "df_table.head(5)"
   ]
  },
  {
   "cell_type": "code",
   "execution_count": 16,
   "id": "fewer-occasion",
   "metadata": {
    "execution": {
     "iopub.execute_input": "2021-12-29T12:13:18.318542Z",
     "iopub.status.busy": "2021-12-29T12:13:18.318013Z",
     "iopub.status.idle": "2021-12-29T12:13:18.320237Z",
     "shell.execute_reply": "2021-12-29T12:13:18.320645Z"
    },
    "papermill": {
     "duration": 0.039262,
     "end_time": "2021-12-29T12:13:18.320780",
     "exception": false,
     "start_time": "2021-12-29T12:13:18.281518",
     "status": "completed"
    },
    "tags": []
   },
   "outputs": [],
   "source": [
    "#hide\n",
    "#delete problematic countries from table\n",
    "df_table = df_table[~df_table['Country/Region'].isin(['Cape Verde', 'Cruise Ship', 'Kosovo'])]"
   ]
  },
  {
   "cell_type": "code",
   "execution_count": 17,
   "id": "related-center",
   "metadata": {
    "execution": {
     "iopub.execute_input": "2021-12-29T12:13:18.402594Z",
     "iopub.status.busy": "2021-12-29T12:13:18.401916Z",
     "iopub.status.idle": "2021-12-29T12:13:18.403351Z",
     "shell.execute_reply": "2021-12-29T12:13:18.403798Z"
    },
    "papermill": {
     "duration": 0.052351,
     "end_time": "2021-12-29T12:13:18.403942",
     "exception": false,
     "start_time": "2021-12-29T12:13:18.351591",
     "status": "completed"
    },
    "tags": []
   },
   "outputs": [],
   "source": [
    "#hide\n",
    "metrics = [df_table.columns[index] for index in [1,2,5,6]]\n",
    "# s_china = df_table[df_table['Country/Region'].eq('China')][metrics].sum().add_prefix('China ')\n",
    "s_us = df_table[df_table['Country/Region'].eq('US')][metrics].sum().add_prefix('US ')\n",
    "s_eu = df_table[df_table['Continent'].eq('Europe')][metrics].sum().add_prefix('EU ')\n",
    "s_ind = df_table[df_table['Country/Region'].eq('India')][metrics].sum().add_prefix('India ')\n",
    "summary = {'updated': pd.to_datetime(dt_today), 'since': pd.to_datetime(dt_yday)}\n",
    "summary = {'updated': pd.to_datetime(dt_today), 'since': pd.to_datetime(dt_yday)}\n",
    "summary = {**summary, **df_table[metrics].sum(), **s_ind, **s_us, **s_eu}"
   ]
  },
  {
   "cell_type": "code",
   "execution_count": 18,
   "id": "engaging-syndrome",
   "metadata": {
    "execution": {
     "iopub.execute_input": "2021-12-29T12:13:18.471809Z",
     "iopub.status.busy": "2021-12-29T12:13:18.471250Z",
     "iopub.status.idle": "2021-12-29T12:13:18.486007Z",
     "shell.execute_reply": "2021-12-29T12:13:18.486423Z"
    },
    "papermill": {
     "duration": 0.051327,
     "end_time": "2021-12-29T12:13:18.486580",
     "exception": false,
     "start_time": "2021-12-29T12:13:18.435253",
     "status": "completed"
    },
    "tags": []
   },
   "outputs": [],
   "source": [
    "#hide\n",
    "dft_ct_new_cases = dft_cases.groupby(COL_REGION)[dt_cols].sum().diff(axis=1).fillna(0).astype(int)"
   ]
  },
  {
   "cell_type": "code",
   "execution_count": 19,
   "id": "neutral-assignment",
   "metadata": {
    "execution": {
     "iopub.execute_input": "2021-12-29T12:13:18.554761Z",
     "iopub.status.busy": "2021-12-29T12:13:18.554226Z",
     "iopub.status.idle": "2021-12-29T12:13:18.557045Z",
     "shell.execute_reply": "2021-12-29T12:13:18.557432Z"
    },
    "papermill": {
     "duration": 0.039878,
     "end_time": "2021-12-29T12:13:18.557577",
     "exception": false,
     "start_time": "2021-12-29T12:13:18.517699",
     "status": "completed"
    },
    "tags": []
   },
   "outputs": [],
   "source": [
    "#hide\n",
    "everydaycases = dft_ct_new_cases.cumsum(axis=1)"
   ]
  },
  {
   "cell_type": "code",
   "execution_count": 20,
   "id": "parliamentary-calgary",
   "metadata": {
    "execution": {
     "iopub.execute_input": "2021-12-29T12:13:18.624137Z",
     "iopub.status.busy": "2021-12-29T12:13:18.623594Z",
     "iopub.status.idle": "2021-12-29T12:13:19.267236Z",
     "shell.execute_reply": "2021-12-29T12:13:19.266702Z"
    },
    "papermill": {
     "duration": 0.678867,
     "end_time": "2021-12-29T12:13:19.267409",
     "exception": false,
     "start_time": "2021-12-29T12:13:18.588542",
     "status": "completed"
    },
    "tags": []
   },
   "outputs": [],
   "source": [
    "#hide\n",
    "import pandas as pd\n",
    "import matplotlib.pyplot as plt\n",
    "import matplotlib.ticker as ticker\n",
    "import matplotlib.animation as animation\n",
    "from IPython.display import HTML"
   ]
  },
  {
   "cell_type": "code",
   "execution_count": 21,
   "id": "lasting-extraction",
   "metadata": {
    "execution": {
     "iopub.execute_input": "2021-12-29T12:13:19.335790Z",
     "iopub.status.busy": "2021-12-29T12:13:19.335217Z",
     "iopub.status.idle": "2021-12-29T12:13:19.341341Z",
     "shell.execute_reply": "2021-12-29T12:13:19.341829Z"
    },
    "papermill": {
     "duration": 0.043425,
     "end_time": "2021-12-29T12:13:19.341967",
     "exception": false,
     "start_time": "2021-12-29T12:13:19.298542",
     "status": "completed"
    },
    "tags": []
   },
   "outputs": [],
   "source": [
    "#hide\n",
    "t = everydaycases.stack()"
   ]
  },
  {
   "cell_type": "code",
   "execution_count": 22,
   "id": "premier-sleeve",
   "metadata": {
    "execution": {
     "iopub.execute_input": "2021-12-29T12:13:19.408686Z",
     "iopub.status.busy": "2021-12-29T12:13:19.408154Z",
     "iopub.status.idle": "2021-12-29T12:13:19.418444Z",
     "shell.execute_reply": "2021-12-29T12:13:19.418004Z"
    },
    "papermill": {
     "duration": 0.045417,
     "end_time": "2021-12-29T12:13:19.418570",
     "exception": false,
     "start_time": "2021-12-29T12:13:19.373153",
     "status": "completed"
    },
    "tags": []
   },
   "outputs": [],
   "source": [
    "#hide\n",
    "g = t.reset_index(['Country/Region'])"
   ]
  },
  {
   "cell_type": "code",
   "execution_count": 23,
   "id": "distributed-pittsburgh",
   "metadata": {
    "execution": {
     "iopub.execute_input": "2021-12-29T12:13:19.484520Z",
     "iopub.status.busy": "2021-12-29T12:13:19.483975Z",
     "iopub.status.idle": "2021-12-29T12:13:19.486263Z",
     "shell.execute_reply": "2021-12-29T12:13:19.485753Z"
    },
    "papermill": {
     "duration": 0.03704,
     "end_time": "2021-12-29T12:13:19.486380",
     "exception": false,
     "start_time": "2021-12-29T12:13:19.449340",
     "status": "completed"
    },
    "tags": []
   },
   "outputs": [],
   "source": [
    "#hide\n",
    "g.index.name = 'date'"
   ]
  },
  {
   "cell_type": "code",
   "execution_count": 24,
   "id": "naked-donor",
   "metadata": {
    "execution": {
     "iopub.execute_input": "2021-12-29T12:13:19.552570Z",
     "iopub.status.busy": "2021-12-29T12:13:19.551954Z",
     "iopub.status.idle": "2021-12-29T12:13:19.553530Z",
     "shell.execute_reply": "2021-12-29T12:13:19.553978Z"
    },
    "papermill": {
     "duration": 0.036511,
     "end_time": "2021-12-29T12:13:19.554133",
     "exception": false,
     "start_time": "2021-12-29T12:13:19.517622",
     "status": "completed"
    },
    "tags": []
   },
   "outputs": [],
   "source": [
    "# #hide\n",
    "# g = g.reset_index(['date'])"
   ]
  },
  {
   "cell_type": "code",
   "execution_count": 25,
   "id": "incomplete-mustang",
   "metadata": {
    "execution": {
     "iopub.execute_input": "2021-12-29T12:13:19.619876Z",
     "iopub.status.busy": "2021-12-29T12:13:19.619345Z",
     "iopub.status.idle": "2021-12-29T12:13:19.621103Z",
     "shell.execute_reply": "2021-12-29T12:13:19.621586Z"
    },
    "papermill": {
     "duration": 0.03654,
     "end_time": "2021-12-29T12:13:19.621718",
     "exception": false,
     "start_time": "2021-12-29T12:13:19.585178",
     "status": "completed"
    },
    "tags": []
   },
   "outputs": [],
   "source": [
    "#hide\n",
    "# g.head()"
   ]
  },
  {
   "cell_type": "code",
   "execution_count": 26,
   "id": "specific-kruger",
   "metadata": {
    "execution": {
     "iopub.execute_input": "2021-12-29T12:13:19.687660Z",
     "iopub.status.busy": "2021-12-29T12:13:19.687012Z",
     "iopub.status.idle": "2021-12-29T12:13:19.688575Z",
     "shell.execute_reply": "2021-12-29T12:13:19.689012Z"
    },
    "papermill": {
     "duration": 0.036624,
     "end_time": "2021-12-29T12:13:19.689166",
     "exception": false,
     "start_time": "2021-12-29T12:13:19.652542",
     "status": "completed"
    },
    "tags": []
   },
   "outputs": [],
   "source": [
    "#hide\n",
    "# g.columns = ['date','country','cases']"
   ]
  },
  {
   "cell_type": "code",
   "execution_count": 27,
   "id": "tender-conversion",
   "metadata": {
    "execution": {
     "iopub.execute_input": "2021-12-29T12:13:19.754987Z",
     "iopub.status.busy": "2021-12-29T12:13:19.754452Z",
     "iopub.status.idle": "2021-12-29T12:13:19.756869Z",
     "shell.execute_reply": "2021-12-29T12:13:19.756451Z"
    },
    "papermill": {
     "duration": 0.036962,
     "end_time": "2021-12-29T12:13:19.756991",
     "exception": false,
     "start_time": "2021-12-29T12:13:19.720029",
     "status": "completed"
    },
    "tags": []
   },
   "outputs": [],
   "source": [
    "#hide\n",
    "# g['continent'] = g.country"
   ]
  },
  {
   "cell_type": "code",
   "execution_count": 28,
   "id": "substantial-wilderness",
   "metadata": {
    "execution": {
     "iopub.execute_input": "2021-12-29T12:13:19.823386Z",
     "iopub.status.busy": "2021-12-29T12:13:19.822794Z",
     "iopub.status.idle": "2021-12-29T12:13:19.825002Z",
     "shell.execute_reply": "2021-12-29T12:13:19.824486Z"
    },
    "papermill": {
     "duration": 0.03687,
     "end_time": "2021-12-29T12:13:19.825123",
     "exception": false,
     "start_time": "2021-12-29T12:13:19.788253",
     "status": "completed"
    },
    "tags": []
   },
   "outputs": [],
   "source": [
    "#hide\n",
    "# cols = list(g.columns.values)"
   ]
  },
  {
   "cell_type": "code",
   "execution_count": 29,
   "id": "solved-farming",
   "metadata": {
    "execution": {
     "iopub.execute_input": "2021-12-29T12:13:19.890953Z",
     "iopub.status.busy": "2021-12-29T12:13:19.890326Z",
     "iopub.status.idle": "2021-12-29T12:13:19.893920Z",
     "shell.execute_reply": "2021-12-29T12:13:19.894315Z"
    },
    "papermill": {
     "duration": 0.03854,
     "end_time": "2021-12-29T12:13:19.894454",
     "exception": false,
     "start_time": "2021-12-29T12:13:19.855914",
     "status": "completed"
    },
    "tags": []
   },
   "outputs": [],
   "source": [
    "#hide\n",
    "# cols.insert(0, cols.pop())"
   ]
  },
  {
   "cell_type": "code",
   "execution_count": 30,
   "id": "executed-adoption",
   "metadata": {
    "execution": {
     "iopub.execute_input": "2021-12-29T12:13:19.960711Z",
     "iopub.status.busy": "2021-12-29T12:13:19.960113Z",
     "iopub.status.idle": "2021-12-29T12:13:19.962161Z",
     "shell.execute_reply": "2021-12-29T12:13:19.961582Z"
    },
    "papermill": {
     "duration": 0.036758,
     "end_time": "2021-12-29T12:13:19.962290",
     "exception": false,
     "start_time": "2021-12-29T12:13:19.925532",
     "status": "completed"
    },
    "tags": []
   },
   "outputs": [],
   "source": [
    "#hide\n",
    "# g = g[cols]"
   ]
  },
  {
   "cell_type": "code",
   "execution_count": 31,
   "id": "subject-dublin",
   "metadata": {
    "execution": {
     "iopub.execute_input": "2021-12-29T12:13:20.028400Z",
     "iopub.status.busy": "2021-12-29T12:13:20.027840Z",
     "iopub.status.idle": "2021-12-29T12:13:20.029980Z",
     "shell.execute_reply": "2021-12-29T12:13:20.029566Z"
    },
    "papermill": {
     "duration": 0.036742,
     "end_time": "2021-12-29T12:13:20.030098",
     "exception": false,
     "start_time": "2021-12-29T12:13:19.993356",
     "status": "completed"
    },
    "tags": []
   },
   "outputs": [],
   "source": [
    "#hide\n",
    "# g['continent'] = g['continent'].map(mapping['map.continent'])"
   ]
  },
  {
   "cell_type": "code",
   "execution_count": 32,
   "id": "freelance-scout",
   "metadata": {
    "execution": {
     "iopub.execute_input": "2021-12-29T12:13:20.096243Z",
     "iopub.status.busy": "2021-12-29T12:13:20.095645Z",
     "iopub.status.idle": "2021-12-29T12:13:20.098846Z",
     "shell.execute_reply": "2021-12-29T12:13:20.098428Z"
    },
    "papermill": {
     "duration": 0.037903,
     "end_time": "2021-12-29T12:13:20.098972",
     "exception": false,
     "start_time": "2021-12-29T12:13:20.061069",
     "status": "completed"
    },
    "tags": []
   },
   "outputs": [],
   "source": [
    "#hide\n",
    "# g.head()"
   ]
  },
  {
   "cell_type": "code",
   "execution_count": 33,
   "id": "limited-engine",
   "metadata": {
    "execution": {
     "iopub.execute_input": "2021-12-29T12:13:20.165034Z",
     "iopub.status.busy": "2021-12-29T12:13:20.164403Z",
     "iopub.status.idle": "2021-12-29T12:13:20.165898Z",
     "shell.execute_reply": "2021-12-29T12:13:20.166396Z"
    },
    "papermill": {
     "duration": 0.036722,
     "end_time": "2021-12-29T12:13:20.166552",
     "exception": false,
     "start_time": "2021-12-29T12:13:20.129830",
     "status": "completed"
    },
    "tags": []
   },
   "outputs": [],
   "source": [
    "# hide\n",
    "# g['date'] = g['date'].astype('datetime64[ns]')"
   ]
  },
  {
   "cell_type": "code",
   "execution_count": 34,
   "id": "sophisticated-supervisor",
   "metadata": {
    "execution": {
     "iopub.execute_input": "2021-12-29T12:13:20.233120Z",
     "iopub.status.busy": "2021-12-29T12:13:20.232500Z",
     "iopub.status.idle": "2021-12-29T12:13:20.233987Z",
     "shell.execute_reply": "2021-12-29T12:13:20.234453Z"
    },
    "papermill": {
     "duration": 0.036679,
     "end_time": "2021-12-29T12:13:20.234601",
     "exception": false,
     "start_time": "2021-12-29T12:13:20.197922",
     "status": "completed"
    },
    "tags": []
   },
   "outputs": [],
   "source": [
    "#hide\n",
    "# g['date'] = g.date.dt.dayofyear"
   ]
  },
  {
   "cell_type": "code",
   "execution_count": 35,
   "id": "inside-dubai",
   "metadata": {
    "execution": {
     "iopub.execute_input": "2021-12-29T12:13:20.301157Z",
     "iopub.status.busy": "2021-12-29T12:13:20.300611Z",
     "iopub.status.idle": "2021-12-29T12:13:20.302763Z",
     "shell.execute_reply": "2021-12-29T12:13:20.302352Z"
    },
    "papermill": {
     "duration": 0.036711,
     "end_time": "2021-12-29T12:13:20.302881",
     "exception": false,
     "start_time": "2021-12-29T12:13:20.266170",
     "status": "completed"
    },
    "tags": []
   },
   "outputs": [],
   "source": [
    "#hide\n",
    "# g = g.rename(columns= {'continent':'group','country':'name','cases':'value'})"
   ]
  },
  {
   "cell_type": "code",
   "execution_count": 36,
   "id": "fleet-motorcycle",
   "metadata": {
    "execution": {
     "iopub.execute_input": "2021-12-29T12:13:20.369254Z",
     "iopub.status.busy": "2021-12-29T12:13:20.368624Z",
     "iopub.status.idle": "2021-12-29T12:13:20.372118Z",
     "shell.execute_reply": "2021-12-29T12:13:20.372511Z"
    },
    "papermill": {
     "duration": 0.038691,
     "end_time": "2021-12-29T12:13:20.372648",
     "exception": false,
     "start_time": "2021-12-29T12:13:20.333957",
     "status": "completed"
    },
    "tags": []
   },
   "outputs": [],
   "source": [
    "#hide\n",
    "# cols = ['name','group','day','value']"
   ]
  },
  {
   "cell_type": "code",
   "execution_count": 37,
   "id": "continued-sleeping",
   "metadata": {
    "execution": {
     "iopub.execute_input": "2021-12-29T12:13:20.439056Z",
     "iopub.status.busy": "2021-12-29T12:13:20.438438Z",
     "iopub.status.idle": "2021-12-29T12:13:20.440400Z",
     "shell.execute_reply": "2021-12-29T12:13:20.439831Z"
    },
    "papermill": {
     "duration": 0.036748,
     "end_time": "2021-12-29T12:13:20.440529",
     "exception": false,
     "start_time": "2021-12-29T12:13:20.403781",
     "status": "completed"
    },
    "tags": []
   },
   "outputs": [],
   "source": [
    "#hide\n",
    "# g.rename(columns= {'date':'day'},inplace = True)"
   ]
  },
  {
   "cell_type": "code",
   "execution_count": 38,
   "id": "major-fight",
   "metadata": {
    "execution": {
     "iopub.execute_input": "2021-12-29T12:13:20.507790Z",
     "iopub.status.busy": "2021-12-29T12:13:20.507142Z",
     "iopub.status.idle": "2021-12-29T12:13:20.509909Z",
     "shell.execute_reply": "2021-12-29T12:13:20.510349Z"
    },
    "papermill": {
     "duration": 0.038681,
     "end_time": "2021-12-29T12:13:20.510505",
     "exception": false,
     "start_time": "2021-12-29T12:13:20.471824",
     "status": "completed"
    },
    "tags": []
   },
   "outputs": [],
   "source": [
    "#hide\n",
    "# g = g[cols]"
   ]
  },
  {
   "cell_type": "code",
   "execution_count": 39,
   "id": "structured-mobile",
   "metadata": {
    "execution": {
     "iopub.execute_input": "2021-12-29T12:13:20.576963Z",
     "iopub.status.busy": "2021-12-29T12:13:20.576401Z",
     "iopub.status.idle": "2021-12-29T12:13:20.578085Z",
     "shell.execute_reply": "2021-12-29T12:13:20.578468Z"
    },
    "papermill": {
     "duration": 0.036627,
     "end_time": "2021-12-29T12:13:20.578604",
     "exception": false,
     "start_time": "2021-12-29T12:13:20.541977",
     "status": "completed"
    },
    "tags": []
   },
   "outputs": [],
   "source": [
    "# #hide\n",
    "# g = g[g.group.notna()]"
   ]
  },
  {
   "cell_type": "code",
   "execution_count": 40,
   "id": "determined-closing",
   "metadata": {
    "execution": {
     "iopub.execute_input": "2021-12-29T12:13:20.645123Z",
     "iopub.status.busy": "2021-12-29T12:13:20.644495Z",
     "iopub.status.idle": "2021-12-29T12:13:20.646026Z",
     "shell.execute_reply": "2021-12-29T12:13:20.646488Z"
    },
    "papermill": {
     "duration": 0.036799,
     "end_time": "2021-12-29T12:13:20.646622",
     "exception": false,
     "start_time": "2021-12-29T12:13:20.609823",
     "status": "completed"
    },
    "tags": []
   },
   "outputs": [],
   "source": [
    "# #hide\n",
    "# colors = dict(zip(\n",
    "#     [\"Oceania\", \"Europe\", \"Asia\", \"South America\", \"Middle East\", \"North America\", \"Africa\"],\n",
    "#     [\"#adb0ff\", \"#ffb3ff\", \"#90d595\", \"#e48381\", \"#aafbff\", \"#f7bb5f\", \"#eafb50\"]\n",
    "# ))\n",
    "# group_lk = g.set_index('name')['group'].to_dict()"
   ]
  },
  {
   "cell_type": "code",
   "execution_count": null,
   "id": "gross-drinking",
   "metadata": {
    "papermill": {
     "duration": 0.031069,
     "end_time": "2021-12-29T12:13:20.708609",
     "exception": false,
     "start_time": "2021-12-29T12:13:20.677540",
     "status": "completed"
    },
    "tags": []
   },
   "outputs": [],
   "source": []
  },
  {
   "cell_type": "code",
   "execution_count": 41,
   "id": "subject-macintosh",
   "metadata": {
    "execution": {
     "iopub.execute_input": "2021-12-29T12:13:20.775698Z",
     "iopub.status.busy": "2021-12-29T12:13:20.774997Z",
     "iopub.status.idle": "2021-12-29T12:13:20.776454Z",
     "shell.execute_reply": "2021-12-29T12:13:20.776996Z"
    },
    "papermill": {
     "duration": 0.03743,
     "end_time": "2021-12-29T12:13:20.777151",
     "exception": false,
     "start_time": "2021-12-29T12:13:20.739721",
     "status": "completed"
    },
    "tags": []
   },
   "outputs": [],
   "source": [
    "# #hide\n",
    "# fig, ax = plt.subplots(figsize=(15, 8))\n",
    "\n",
    "# def draw_barchart(current_day):\n",
    "#     dff = g[g['day'].eq(current_day)].sort_values(by='value', ascending=True).tail(10)\n",
    "#     ax.clear()\n",
    "#     ax.barh(dff['name'], dff['value'], color=[colors[group_lk[x]] for x in dff['name']])\n",
    "#     dx = dff['value'].max() / 200\n",
    "    \n",
    "#     for i, (value, name) in enumerate(zip(dff['value'], dff['name'])):\n",
    "#         ax.text(value-dx, i,     name,           size=14, weight=600, ha='right', va='bottom')\n",
    "#         ax.text(value-dx, i-.25, group_lk[name], size=10, color='#444444', ha='right', va='baseline')\n",
    "#         ax.text(value+dx, i,     f'{value:,.0f}',  size=14, ha='left',  va='center')\n",
    "#     ax.text(1, 0.4, current_day, transform=ax.transAxes, color='#777777', size=46, ha='right', weight=800)\n",
    "#     ax.text(0, 1.06, 'Population (thousands)', transform=ax.transAxes, size=12, color='#777777')\n",
    "#     ax.xaxis.set_major_formatter(ticker.StrMethodFormatter('{x:,.0f}'))\n",
    "#     ax.xaxis.set_ticks_position('top')\n",
    "#     ax.tick_params(axis='x', colors='#777777', labelsize=12)\n",
    "#     ax.set_yticks([])\n",
    "#     ax.margins(0, 0.01)\n",
    "#     ax.grid(which='major', axis='x', linestyle='-')\n",
    "#     ax.set_axisbelow(True)\n",
    "    \n",
    "#     ax.text(0, 1.15, 'Coronavirus',\n",
    "#             transform=ax.transAxes, size=24, weight=600, ha='left', va='top')\n",
    "# #     ax.text(1, 0, 'by @pratapvardhan; credit @jburnmurdoch', transform=ax.transAxes, color='#777777', ha='right',\n",
    "# #             bbox=dict(facecolor='white', alpha=0.8, edgecolor='white'))\n",
    "#     plt.box(False)"
   ]
  },
  {
   "cell_type": "code",
   "execution_count": 42,
   "id": "sexual-wages",
   "metadata": {
    "execution": {
     "iopub.execute_input": "2021-12-29T12:13:20.843713Z",
     "iopub.status.busy": "2021-12-29T12:13:20.843055Z",
     "iopub.status.idle": "2021-12-29T12:13:20.846339Z",
     "shell.execute_reply": "2021-12-29T12:13:20.845871Z"
    },
    "papermill": {
     "duration": 0.038096,
     "end_time": "2021-12-29T12:13:20.846471",
     "exception": false,
     "start_time": "2021-12-29T12:13:20.808375",
     "status": "completed"
    },
    "tags": []
   },
   "outputs": [],
   "source": [
    "# #hide_input\n",
    "# fig, ax = plt.subplots(figsize=(15, 8))\n",
    "# animator = animation.FuncAnimation(fig, draw_barchart, frames=range(g.day.values.min(), g.day.values.max()))\n",
    "# HTML(animator.to_jshtml())\n",
    "# # or use animator.to_html5_video() or animator.save() "
   ]
  },
  {
   "cell_type": "code",
   "execution_count": null,
   "id": "australian-container",
   "metadata": {
    "papermill": {
     "duration": 0.030817,
     "end_time": "2021-12-29T12:13:20.908793",
     "exception": false,
     "start_time": "2021-12-29T12:13:20.877976",
     "status": "completed"
    },
    "tags": []
   },
   "outputs": [],
   "source": []
  },
  {
   "cell_type": "code",
   "execution_count": null,
   "id": "mediterranean-pontiac",
   "metadata": {
    "papermill": {
     "duration": 0.030932,
     "end_time": "2021-12-29T12:13:20.970548",
     "exception": false,
     "start_time": "2021-12-29T12:13:20.939616",
     "status": "completed"
    },
    "tags": []
   },
   "outputs": [],
   "source": []
  },
  {
   "cell_type": "code",
   "execution_count": null,
   "id": "aging-legislature",
   "metadata": {
    "papermill": {
     "duration": 0.030762,
     "end_time": "2021-12-29T12:13:21.032394",
     "exception": false,
     "start_time": "2021-12-29T12:13:21.001632",
     "status": "completed"
    },
    "tags": []
   },
   "outputs": [],
   "source": []
  }
 ],
 "metadata": {
  "kernelspec": {
   "display_name": "Python 3",
   "language": "python",
   "name": "python3"
  },
  "language_info": {
   "codemirror_mode": {
    "name": "ipython",
    "version": 3
   },
   "file_extension": ".py",
   "mimetype": "text/x-python",
   "name": "python",
   "nbconvert_exporter": "python",
   "pygments_lexer": "ipython3",
   "version": "3.6.15"
  },
  "papermill": {
   "duration": 6.28815,
   "end_time": "2021-12-29T12:13:21.472131",
   "environment_variables": {},
   "exception": null,
   "input_path": "2020-03-21-covid19exp.ipynb",
   "output_path": "2020-03-21-covid19exp.ipynb",
   "parameters": {},
   "start_time": "2021-12-29T12:13:15.183981",
   "version": "2.0.0"
  }
 },
 "nbformat": 4,
 "nbformat_minor": 5
}