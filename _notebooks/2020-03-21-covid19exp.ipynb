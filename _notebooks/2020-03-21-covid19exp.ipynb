{
 "cells": [
  {
   "cell_type": "markdown",
   "id": "muslim-click",
   "metadata": {
    "papermill": {
     "duration": 0.038717,
     "end_time": "2021-05-12T00:14:25.701024",
     "exception": false,
     "start_time": "2021-05-12T00:14:25.662307",
     "status": "completed"
    },
    "tags": []
   },
   "source": [
    "# COVID-19 Case Race\n",
    "> A race chart to see rising cases around the world\n",
    "\n",
    "- author: Hargun Oberoi\n",
    "- image: images/covid-overview.png\n",
    "- hide: false\n",
    "- badges: false"
   ]
  },
  {
   "cell_type": "code",
   "execution_count": 1,
   "id": "proof-material",
   "metadata": {
    "execution": {
     "iopub.execute_input": "2021-05-12T00:14:25.781756Z",
     "iopub.status.busy": "2021-05-12T00:14:25.781155Z",
     "iopub.status.idle": "2021-05-12T00:14:26.146527Z",
     "shell.execute_reply": "2021-05-12T00:14:26.145933Z"
    },
    "papermill": {
     "duration": 0.411486,
     "end_time": "2021-05-12T00:14:26.146686",
     "exception": false,
     "start_time": "2021-05-12T00:14:25.735200",
     "status": "completed"
    },
    "tags": []
   },
   "outputs": [],
   "source": [
    "#hide\n",
    "import numpy as np\n",
    "import pandas as pd\n",
    "from jinja2 import Template\n",
    "from IPython.display import HTML"
   ]
  },
  {
   "cell_type": "code",
   "execution_count": 2,
   "id": "developed-terminology",
   "metadata": {
    "execution": {
     "iopub.execute_input": "2021-05-12T00:14:26.221886Z",
     "iopub.status.busy": "2021-05-12T00:14:26.220826Z",
     "iopub.status.idle": "2021-05-12T00:14:26.224848Z",
     "shell.execute_reply": "2021-05-12T00:14:26.225292Z"
    },
    "papermill": {
     "duration": 0.045189,
     "end_time": "2021-05-12T00:14:26.225443",
     "exception": false,
     "start_time": "2021-05-12T00:14:26.180254",
     "status": "completed"
    },
    "tags": []
   },
   "outputs": [],
   "source": [
    "#hide\n",
    "\n",
    "# FETCH\n",
    "base_url = 'https://raw.githubusercontent.com/pratapvardhan/notebooks/master/covid19/'\n",
    "paths = {\n",
    "    'mapping': base_url + 'mapping_countries.csv',\n",
    "    'overview': base_url + 'overview.tpl'\n",
    "}"
   ]
  },
  {
   "cell_type": "code",
   "execution_count": 3,
   "id": "dynamic-saver",
   "metadata": {
    "execution": {
     "iopub.execute_input": "2021-05-12T00:14:26.306866Z",
     "iopub.status.busy": "2021-05-12T00:14:26.305833Z",
     "iopub.status.idle": "2021-05-12T00:14:26.309843Z",
     "shell.execute_reply": "2021-05-12T00:14:26.309381Z"
    },
    "papermill": {
     "duration": 0.051083,
     "end_time": "2021-05-12T00:14:26.309956",
     "exception": false,
     "start_time": "2021-05-12T00:14:26.258873",
     "status": "completed"
    },
    "tags": []
   },
   "outputs": [
    {
     "data": {
      "text/plain": [
       "'https://raw.githubusercontent.com/pratapvardhan/notebooks/master/covid19/mapping_countries.csv'"
      ]
     },
     "execution_count": 3,
     "metadata": {},
     "output_type": "execute_result"
    }
   ],
   "source": [
    "#hide\n",
    "paths['mapping']"
   ]
  },
  {
   "cell_type": "code",
   "execution_count": 4,
   "id": "urban-software",
   "metadata": {
    "execution": {
     "iopub.execute_input": "2021-05-12T00:14:26.384831Z",
     "iopub.status.busy": "2021-05-12T00:14:26.384239Z",
     "iopub.status.idle": "2021-05-12T00:14:26.387360Z",
     "shell.execute_reply": "2021-05-12T00:14:26.386884Z"
    },
    "papermill": {
     "duration": 0.044357,
     "end_time": "2021-05-12T00:14:26.387488",
     "exception": false,
     "start_time": "2021-05-12T00:14:26.343131",
     "status": "completed"
    },
    "tags": []
   },
   "outputs": [],
   "source": [
    "#hide\n",
    "def get_mappings(url):\n",
    "    df = pd.read_csv(url)\n",
    "    return {\n",
    "        'df': df,\n",
    "        'replace.country': dict(df.dropna(subset=['Name']).set_index('Country')['Name']),\n",
    "        'map.continent': dict(df.set_index('Name')['Continent'])\n",
    "    }"
   ]
  },
  {
   "cell_type": "code",
   "execution_count": 5,
   "id": "intimate-machinery",
   "metadata": {
    "execution": {
     "iopub.execute_input": "2021-05-12T00:14:26.463388Z",
     "iopub.status.busy": "2021-05-12T00:14:26.462795Z",
     "iopub.status.idle": "2021-05-12T00:14:26.495388Z",
     "shell.execute_reply": "2021-05-12T00:14:26.494775Z"
    },
    "papermill": {
     "duration": 0.073608,
     "end_time": "2021-05-12T00:14:26.495530",
     "exception": false,
     "start_time": "2021-05-12T00:14:26.421922",
     "status": "completed"
    },
    "tags": []
   },
   "outputs": [],
   "source": [
    "#hide\n",
    "mapping = get_mappings(paths['mapping'])"
   ]
  },
  {
   "cell_type": "code",
   "execution_count": 6,
   "id": "certified-tactics",
   "metadata": {
    "execution": {
     "iopub.execute_input": "2021-05-12T00:14:26.569459Z",
     "iopub.status.busy": "2021-05-12T00:14:26.568868Z",
     "iopub.status.idle": "2021-05-12T00:14:26.571185Z",
     "shell.execute_reply": "2021-05-12T00:14:26.570675Z"
    },
    "papermill": {
     "duration": 0.042643,
     "end_time": "2021-05-12T00:14:26.571309",
     "exception": false,
     "start_time": "2021-05-12T00:14:26.528666",
     "status": "completed"
    },
    "tags": []
   },
   "outputs": [],
   "source": [
    "#hide\n",
    "def get_template(path):\n",
    "    from urllib.parse import urlparse\n",
    "    if bool(urlparse(path).netloc):\n",
    "        from urllib.request import urlopen\n",
    "        return urlopen(path).read().decode('utf8')\n",
    "    return open(path).read()"
   ]
  },
  {
   "cell_type": "code",
   "execution_count": 7,
   "id": "realistic-blast",
   "metadata": {
    "execution": {
     "iopub.execute_input": "2021-05-12T00:14:26.645669Z",
     "iopub.status.busy": "2021-05-12T00:14:26.644639Z",
     "iopub.status.idle": "2021-05-12T00:14:26.646790Z",
     "shell.execute_reply": "2021-05-12T00:14:26.647340Z"
    },
    "papermill": {
     "duration": 0.043546,
     "end_time": "2021-05-12T00:14:26.647474",
     "exception": false,
     "start_time": "2021-05-12T00:14:26.603928",
     "status": "completed"
    },
    "tags": []
   },
   "outputs": [],
   "source": [
    "#hide\n",
    "def get_frame(name):\n",
    "    url = (\n",
    "        'https://raw.githubusercontent.com/CSSEGISandData/COVID-19/master/csse_covid_19_data/'\n",
    "        f'csse_covid_19_time_series/time_series_covid19_{name}_global.csv')\n",
    "    df = pd.read_csv(url)\n",
    "    # rename countries\n",
    "    df['Country/Region'] = df['Country/Region'].replace(mapping['replace.country'])\n",
    "    return df"
   ]
  },
  {
   "cell_type": "code",
   "execution_count": 8,
   "id": "affiliated-characterization",
   "metadata": {
    "execution": {
     "iopub.execute_input": "2021-05-12T00:14:26.721896Z",
     "iopub.status.busy": "2021-05-12T00:14:26.721326Z",
     "iopub.status.idle": "2021-05-12T00:14:26.723599Z",
     "shell.execute_reply": "2021-05-12T00:14:26.723147Z"
    },
    "papermill": {
     "duration": 0.042232,
     "end_time": "2021-05-12T00:14:26.723733",
     "exception": false,
     "start_time": "2021-05-12T00:14:26.681501",
     "status": "completed"
    },
    "tags": []
   },
   "outputs": [],
   "source": [
    "#hide\n",
    "def get_dates(df):\n",
    "    dt_cols = df.columns[~df.columns.isin(['Province/State', 'Country/Region', 'Lat', 'Long'])]\n",
    "    LAST_DATE_I = -1\n",
    "    # sometimes last column may be empty, then go backwards\n",
    "    for i in range(-1, -len(dt_cols), -1):\n",
    "        if not df[dt_cols[i]].fillna(0).eq(0).all():\n",
    "            LAST_DATE_I = i\n",
    "            break\n",
    "    return LAST_DATE_I, dt_cols"
   ]
  },
  {
   "cell_type": "code",
   "execution_count": 9,
   "id": "recent-optimization",
   "metadata": {
    "execution": {
     "iopub.execute_input": "2021-05-12T00:14:26.798036Z",
     "iopub.status.busy": "2021-05-12T00:14:26.797002Z",
     "iopub.status.idle": "2021-05-12T00:14:27.085667Z",
     "shell.execute_reply": "2021-05-12T00:14:27.084792Z"
    },
    "papermill": {
     "duration": 0.329006,
     "end_time": "2021-05-12T00:14:27.085885",
     "exception": false,
     "start_time": "2021-05-12T00:14:26.756879",
     "status": "completed"
    },
    "tags": []
   },
   "outputs": [],
   "source": [
    "#hide\n",
    "COL_REGION = 'Country/Region'\n",
    "# Confirmed, Recovered, Deaths\n",
    "df = get_frame('confirmed')\n",
    "# dft_: timeseries, dfc_: today country agg\n",
    "dft_cases = df\n",
    "dft_deaths = get_frame('deaths')\n",
    "dft_recovered = get_frame('recovered')\n",
    "LAST_DATE_I, dt_cols = get_dates(df)"
   ]
  },
  {
   "cell_type": "code",
   "execution_count": 10,
   "id": "absolute-copper",
   "metadata": {
    "execution": {
     "iopub.execute_input": "2021-05-12T00:14:27.162469Z",
     "iopub.status.busy": "2021-05-12T00:14:27.161861Z",
     "iopub.status.idle": "2021-05-12T00:14:27.164788Z",
     "shell.execute_reply": "2021-05-12T00:14:27.165335Z"
    },
    "papermill": {
     "duration": 0.043421,
     "end_time": "2021-05-12T00:14:27.165536",
     "exception": false,
     "start_time": "2021-05-12T00:14:27.122115",
     "status": "completed"
    },
    "tags": []
   },
   "outputs": [],
   "source": [
    "#hide\n",
    "LAST_DATE_I, dt_cols = get_dates(df)\n",
    "dt_today =dt_cols[LAST_DATE_I]\n",
    "# dt_5day = dt_cols[LAST_DATE_I - 5]\n",
    "dt_yday = dt_cols[LAST_DATE_I - 1]"
   ]
  },
  {
   "cell_type": "code",
   "execution_count": 11,
   "id": "restricted-sheriff",
   "metadata": {
    "execution": {
     "iopub.execute_input": "2021-05-12T00:14:27.236490Z",
     "iopub.status.busy": "2021-05-12T00:14:27.235917Z",
     "iopub.status.idle": "2021-05-12T00:14:27.243571Z",
     "shell.execute_reply": "2021-05-12T00:14:27.243978Z"
    },
    "papermill": {
     "duration": 0.046102,
     "end_time": "2021-05-12T00:14:27.244108",
     "exception": false,
     "start_time": "2021-05-12T00:14:27.198006",
     "status": "completed"
    },
    "tags": []
   },
   "outputs": [],
   "source": [
    "#hide\n",
    "dfc_cases = dft_cases.groupby(COL_REGION)[dt_today].sum()\n",
    "dfc_deaths = dft_deaths.groupby(COL_REGION)[dt_today].sum()\n",
    "# dfp_cases = dft_cases.groupby(COL_REGION)[dt_5day].sum()\n",
    "# dfp_deaths = dft_deaths.groupby(COL_REGION)[dt_5day].sum()\n",
    "dfp_cases = dft_cases.groupby(COL_REGION)[dt_yday].sum()\n",
    "dfp_deaths = dft_deaths.groupby(COL_REGION)[dt_yday].sum()"
   ]
  },
  {
   "cell_type": "code",
   "execution_count": 12,
   "id": "deluxe-hepatitis",
   "metadata": {
    "execution": {
     "iopub.execute_input": "2021-05-12T00:14:27.317965Z",
     "iopub.status.busy": "2021-05-12T00:14:27.317408Z",
     "iopub.status.idle": "2021-05-12T00:14:27.321682Z",
     "shell.execute_reply": "2021-05-12T00:14:27.322147Z"
    },
    "papermill": {
     "duration": 0.044935,
     "end_time": "2021-05-12T00:14:27.322284",
     "exception": false,
     "start_time": "2021-05-12T00:14:27.277349",
     "status": "completed"
    },
    "tags": []
   },
   "outputs": [],
   "source": [
    "#hide\n",
    "df_table = (pd.DataFrame(dict(Cases = dfc_cases, Deaths = dfc_deaths, PCases = dfp_cases, PDeaths = dfp_deaths))\n",
    "            .sort_values(by = ['Cases','Deaths'], ascending = [False, False])\n",
    "            .reset_index())"
   ]
  },
  {
   "cell_type": "code",
   "execution_count": 13,
   "id": "educational-chancellor",
   "metadata": {
    "execution": {
     "iopub.execute_input": "2021-05-12T00:14:27.409588Z",
     "iopub.status.busy": "2021-05-12T00:14:27.405286Z",
     "iopub.status.idle": "2021-05-12T00:14:27.418706Z",
     "shell.execute_reply": "2021-05-12T00:14:27.418188Z"
    },
    "papermill": {
     "duration": 0.063892,
     "end_time": "2021-05-12T00:14:27.418842",
     "exception": false,
     "start_time": "2021-05-12T00:14:27.354950",
     "status": "completed"
    },
    "tags": []
   },
   "outputs": [
    {
     "data": {
      "text/html": [
       "<div>\n",
       "<style scoped>\n",
       "    .dataframe tbody tr th:only-of-type {\n",
       "        vertical-align: middle;\n",
       "    }\n",
       "\n",
       "    .dataframe tbody tr th {\n",
       "        vertical-align: top;\n",
       "    }\n",
       "\n",
       "    .dataframe thead th {\n",
       "        text-align: right;\n",
       "    }\n",
       "</style>\n",
       "<table border=\"1\" class=\"dataframe\">\n",
       "  <thead>\n",
       "    <tr style=\"text-align: right;\">\n",
       "      <th></th>\n",
       "      <th>Country/Region</th>\n",
       "      <th>Cases</th>\n",
       "      <th>Deaths</th>\n",
       "      <th>PCases</th>\n",
       "      <th>PDeaths</th>\n",
       "      <th>Cases (+)</th>\n",
       "      <th>Deaths (+)</th>\n",
       "      <th>Fatality Rate</th>\n",
       "      <th>Continent</th>\n",
       "    </tr>\n",
       "  </thead>\n",
       "  <tbody>\n",
       "    <tr>\n",
       "      <th>0</th>\n",
       "      <td>US</td>\n",
       "      <td>32743981</td>\n",
       "      <td>582153</td>\n",
       "      <td>32707750</td>\n",
       "      <td>581754</td>\n",
       "      <td>36231</td>\n",
       "      <td>399</td>\n",
       "      <td>1.78</td>\n",
       "      <td>North America</td>\n",
       "    </tr>\n",
       "    <tr>\n",
       "      <th>1</th>\n",
       "      <td>India</td>\n",
       "      <td>22992517</td>\n",
       "      <td>249992</td>\n",
       "      <td>22662575</td>\n",
       "      <td>246116</td>\n",
       "      <td>329942</td>\n",
       "      <td>3876</td>\n",
       "      <td>1.09</td>\n",
       "      <td>Asia</td>\n",
       "    </tr>\n",
       "    <tr>\n",
       "      <th>2</th>\n",
       "      <td>Brazil</td>\n",
       "      <td>15209990</td>\n",
       "      <td>423229</td>\n",
       "      <td>15184790</td>\n",
       "      <td>422340</td>\n",
       "      <td>25200</td>\n",
       "      <td>889</td>\n",
       "      <td>2.78</td>\n",
       "      <td>South America</td>\n",
       "    </tr>\n",
       "    <tr>\n",
       "      <th>3</th>\n",
       "      <td>France</td>\n",
       "      <td>5841593</td>\n",
       "      <td>106845</td>\n",
       "      <td>5838294</td>\n",
       "      <td>106553</td>\n",
       "      <td>3299</td>\n",
       "      <td>292</td>\n",
       "      <td>1.83</td>\n",
       "      <td>Europe</td>\n",
       "    </tr>\n",
       "    <tr>\n",
       "      <th>4</th>\n",
       "      <td>Turkey</td>\n",
       "      <td>5044936</td>\n",
       "      <td>43311</td>\n",
       "      <td>5031332</td>\n",
       "      <td>43029</td>\n",
       "      <td>13604</td>\n",
       "      <td>282</td>\n",
       "      <td>0.86</td>\n",
       "      <td>Asia</td>\n",
       "    </tr>\n",
       "  </tbody>\n",
       "</table>\n",
       "</div>"
      ],
      "text/plain": [
       "  Country/Region     Cases  Deaths    PCases  PDeaths  Cases (+)  Deaths (+)  \\\n",
       "0             US  32743981  582153  32707750   581754      36231         399   \n",
       "1          India  22992517  249992  22662575   246116     329942        3876   \n",
       "2         Brazil  15209990  423229  15184790   422340      25200         889   \n",
       "3         France   5841593  106845   5838294   106553       3299         292   \n",
       "4         Turkey   5044936   43311   5031332    43029      13604         282   \n",
       "\n",
       "   Fatality Rate      Continent  \n",
       "0           1.78  North America  \n",
       "1           1.09           Asia  \n",
       "2           2.78  South America  \n",
       "3           1.83         Europe  \n",
       "4           0.86           Asia  "
      ]
     },
     "execution_count": 13,
     "metadata": {},
     "output_type": "execute_result"
    }
   ],
   "source": [
    "#hide\n",
    "for c in 'Cases, Deaths'.split(', '):\n",
    "    df_table[f'{c} (+)'] = (df_table[c] - df_table[f'P{c}']).clip(0)\n",
    "    #Clip ça veut dire, les chiffres negatif sont interdit\n",
    "df_table['Fatality Rate'] = (100* df_table['Deaths']/ df_table['Cases']).round(2)\n",
    "df_table['Continent'] = df_table['Country/Region'].map(mapping['map.continent'])\n",
    "df_table.head(5)"
   ]
  },
  {
   "cell_type": "code",
   "execution_count": 14,
   "id": "aboriginal-bulgaria",
   "metadata": {
    "execution": {
     "iopub.execute_input": "2021-05-12T00:14:27.494934Z",
     "iopub.status.busy": "2021-05-12T00:14:27.494283Z",
     "iopub.status.idle": "2021-05-12T00:14:27.496659Z",
     "shell.execute_reply": "2021-05-12T00:14:27.497172Z"
    },
    "papermill": {
     "duration": 0.044583,
     "end_time": "2021-05-12T00:14:27.497310",
     "exception": false,
     "start_time": "2021-05-12T00:14:27.452727",
     "status": "completed"
    },
    "tags": []
   },
   "outputs": [],
   "source": [
    "#hide\n",
    "#delete problematic countries from table\n",
    "df_table = df_table[~df_table['Country/Region'].isin(['Cape Verde', 'Cruise Ship', 'Kosovo'])]"
   ]
  },
  {
   "cell_type": "code",
   "execution_count": 15,
   "id": "fantastic-effect",
   "metadata": {
    "execution": {
     "iopub.execute_input": "2021-05-12T00:14:27.574256Z",
     "iopub.status.busy": "2021-05-12T00:14:27.573632Z",
     "iopub.status.idle": "2021-05-12T00:14:27.593115Z",
     "shell.execute_reply": "2021-05-12T00:14:27.593860Z"
    },
    "papermill": {
     "duration": 0.063635,
     "end_time": "2021-05-12T00:14:27.594061",
     "exception": false,
     "start_time": "2021-05-12T00:14:27.530426",
     "status": "completed"
    },
    "tags": []
   },
   "outputs": [
    {
     "data": {
      "text/html": [
       "<div>\n",
       "<style scoped>\n",
       "    .dataframe tbody tr th:only-of-type {\n",
       "        vertical-align: middle;\n",
       "    }\n",
       "\n",
       "    .dataframe tbody tr th {\n",
       "        vertical-align: top;\n",
       "    }\n",
       "\n",
       "    .dataframe thead th {\n",
       "        text-align: right;\n",
       "    }\n",
       "</style>\n",
       "<table border=\"1\" class=\"dataframe\">\n",
       "  <thead>\n",
       "    <tr style=\"text-align: right;\">\n",
       "      <th></th>\n",
       "      <th>Country/Region</th>\n",
       "      <th>Cases</th>\n",
       "      <th>Deaths</th>\n",
       "      <th>PCases</th>\n",
       "      <th>PDeaths</th>\n",
       "      <th>Cases (+)</th>\n",
       "      <th>Deaths (+)</th>\n",
       "      <th>Fatality Rate</th>\n",
       "      <th>Continent</th>\n",
       "    </tr>\n",
       "  </thead>\n",
       "  <tbody>\n",
       "    <tr>\n",
       "      <th>0</th>\n",
       "      <td>US</td>\n",
       "      <td>32743981</td>\n",
       "      <td>582153</td>\n",
       "      <td>32707750</td>\n",
       "      <td>581754</td>\n",
       "      <td>36231</td>\n",
       "      <td>399</td>\n",
       "      <td>1.8</td>\n",
       "      <td>North America</td>\n",
       "    </tr>\n",
       "    <tr>\n",
       "      <th>1</th>\n",
       "      <td>India</td>\n",
       "      <td>22992517</td>\n",
       "      <td>249992</td>\n",
       "      <td>22662575</td>\n",
       "      <td>246116</td>\n",
       "      <td>329942</td>\n",
       "      <td>3876</td>\n",
       "      <td>1.1</td>\n",
       "      <td>Asia</td>\n",
       "    </tr>\n",
       "    <tr>\n",
       "      <th>2</th>\n",
       "      <td>Brazil</td>\n",
       "      <td>15209990</td>\n",
       "      <td>423229</td>\n",
       "      <td>15184790</td>\n",
       "      <td>422340</td>\n",
       "      <td>25200</td>\n",
       "      <td>889</td>\n",
       "      <td>2.8</td>\n",
       "      <td>South America</td>\n",
       "    </tr>\n",
       "    <tr>\n",
       "      <th>3</th>\n",
       "      <td>France</td>\n",
       "      <td>5841593</td>\n",
       "      <td>106845</td>\n",
       "      <td>5838294</td>\n",
       "      <td>106553</td>\n",
       "      <td>3299</td>\n",
       "      <td>292</td>\n",
       "      <td>1.8</td>\n",
       "      <td>Europe</td>\n",
       "    </tr>\n",
       "    <tr>\n",
       "      <th>4</th>\n",
       "      <td>Turkey</td>\n",
       "      <td>5044936</td>\n",
       "      <td>43311</td>\n",
       "      <td>5031332</td>\n",
       "      <td>43029</td>\n",
       "      <td>13604</td>\n",
       "      <td>282</td>\n",
       "      <td>0.9</td>\n",
       "      <td>Asia</td>\n",
       "    </tr>\n",
       "  </tbody>\n",
       "</table>\n",
       "</div>"
      ],
      "text/plain": [
       "  Country/Region     Cases  Deaths    PCases  PDeaths  Cases (+)  Deaths (+)  \\\n",
       "0             US  32743981  582153  32707750   581754      36231         399   \n",
       "1          India  22992517  249992  22662575   246116     329942        3876   \n",
       "2         Brazil  15209990  423229  15184790   422340      25200         889   \n",
       "3         France   5841593  106845   5838294   106553       3299         292   \n",
       "4         Turkey   5044936   43311   5031332    43029      13604         282   \n",
       "\n",
       "   Fatality Rate      Continent  \n",
       "0            1.8  North America  \n",
       "1            1.1           Asia  \n",
       "2            2.8  South America  \n",
       "3            1.8         Europe  \n",
       "4            0.9           Asia  "
      ]
     },
     "execution_count": 15,
     "metadata": {},
     "output_type": "execute_result"
    }
   ],
   "source": [
    "#hide\n",
    "df_table = (pd.DataFrame(dict(Cases=dfc_cases, Deaths=dfc_deaths, PCases=dfp_cases, PDeaths=dfp_deaths))\n",
    "             .sort_values(by=['Cases', 'Deaths'], ascending=[False, False])\n",
    "             .reset_index())\n",
    "df_table.rename(columns={'index': 'Country/Region'}, inplace=True)\n",
    "for c in 'Cases, Deaths'.split(', '):\n",
    "    df_table[f'{c} (+)'] = (df_table[c] - df_table[f'P{c}']).clip(0)  # DATA BUG\n",
    "df_table['Fatality Rate'] = (100 * df_table['Deaths'] / df_table['Cases']).round(1)\n",
    "df_table['Continent'] = df_table['Country/Region'].map(mapping['map.continent'])\n",
    "df_table.head(5)"
   ]
  },
  {
   "cell_type": "code",
   "execution_count": 16,
   "id": "fewer-occasion",
   "metadata": {
    "execution": {
     "iopub.execute_input": "2021-05-12T00:14:27.672978Z",
     "iopub.status.busy": "2021-05-12T00:14:27.672365Z",
     "iopub.status.idle": "2021-05-12T00:14:27.674240Z",
     "shell.execute_reply": "2021-05-12T00:14:27.674719Z"
    },
    "papermill": {
     "duration": 0.044805,
     "end_time": "2021-05-12T00:14:27.674865",
     "exception": false,
     "start_time": "2021-05-12T00:14:27.630060",
     "status": "completed"
    },
    "tags": []
   },
   "outputs": [],
   "source": [
    "#hide\n",
    "#delete problematic countries from table\n",
    "df_table = df_table[~df_table['Country/Region'].isin(['Cape Verde', 'Cruise Ship', 'Kosovo'])]"
   ]
  },
  {
   "cell_type": "code",
   "execution_count": 17,
   "id": "related-center",
   "metadata": {
    "execution": {
     "iopub.execute_input": "2021-05-12T00:14:27.765875Z",
     "iopub.status.busy": "2021-05-12T00:14:27.765288Z",
     "iopub.status.idle": "2021-05-12T00:14:27.767613Z",
     "shell.execute_reply": "2021-05-12T00:14:27.767125Z"
    },
    "papermill": {
     "duration": 0.05834,
     "end_time": "2021-05-12T00:14:27.767734",
     "exception": false,
     "start_time": "2021-05-12T00:14:27.709394",
     "status": "completed"
    },
    "tags": []
   },
   "outputs": [],
   "source": [
    "#hide\n",
    "metrics = [df_table.columns[index] for index in [1,2,5,6]]\n",
    "# s_china = df_table[df_table['Country/Region'].eq('China')][metrics].sum().add_prefix('China ')\n",
    "s_us = df_table[df_table['Country/Region'].eq('US')][metrics].sum().add_prefix('US ')\n",
    "s_eu = df_table[df_table['Continent'].eq('Europe')][metrics].sum().add_prefix('EU ')\n",
    "s_ind = df_table[df_table['Country/Region'].eq('India')][metrics].sum().add_prefix('India ')\n",
    "summary = {'updated': pd.to_datetime(dt_today), 'since': pd.to_datetime(dt_yday)}\n",
    "summary = {'updated': pd.to_datetime(dt_today), 'since': pd.to_datetime(dt_yday)}\n",
    "summary = {**summary, **df_table[metrics].sum(), **s_ind, **s_us, **s_eu}"
   ]
  },
  {
   "cell_type": "code",
   "execution_count": 18,
   "id": "engaging-syndrome",
   "metadata": {
    "execution": {
     "iopub.execute_input": "2021-05-12T00:14:27.843327Z",
     "iopub.status.busy": "2021-05-12T00:14:27.842740Z",
     "iopub.status.idle": "2021-05-12T00:14:27.855192Z",
     "shell.execute_reply": "2021-05-12T00:14:27.854730Z"
    },
    "papermill": {
     "duration": 0.053261,
     "end_time": "2021-05-12T00:14:27.855319",
     "exception": false,
     "start_time": "2021-05-12T00:14:27.802058",
     "status": "completed"
    },
    "tags": []
   },
   "outputs": [],
   "source": [
    "#hide\n",
    "dft_ct_new_cases = dft_cases.groupby(COL_REGION)[dt_cols].sum().diff(axis=1).fillna(0).astype(int)"
   ]
  },
  {
   "cell_type": "code",
   "execution_count": 19,
   "id": "neutral-assignment",
   "metadata": {
    "execution": {
     "iopub.execute_input": "2021-05-12T00:14:27.931759Z",
     "iopub.status.busy": "2021-05-12T00:14:27.931155Z",
     "iopub.status.idle": "2021-05-12T00:14:27.933413Z",
     "shell.execute_reply": "2021-05-12T00:14:27.933863Z"
    },
    "papermill": {
     "duration": 0.045199,
     "end_time": "2021-05-12T00:14:27.934007",
     "exception": false,
     "start_time": "2021-05-12T00:14:27.888808",
     "status": "completed"
    },
    "tags": []
   },
   "outputs": [],
   "source": [
    "#hide\n",
    "everydaycases = dft_ct_new_cases.cumsum(axis=1)"
   ]
  },
  {
   "cell_type": "code",
   "execution_count": 20,
   "id": "parliamentary-calgary",
   "metadata": {
    "execution": {
     "iopub.execute_input": "2021-05-12T00:14:28.008622Z",
     "iopub.status.busy": "2021-05-12T00:14:28.006739Z",
     "iopub.status.idle": "2021-05-12T00:14:28.596296Z",
     "shell.execute_reply": "2021-05-12T00:14:28.595419Z"
    },
    "papermill": {
     "duration": 0.629216,
     "end_time": "2021-05-12T00:14:28.596513",
     "exception": false,
     "start_time": "2021-05-12T00:14:27.967297",
     "status": "completed"
    },
    "tags": []
   },
   "outputs": [],
   "source": [
    "#hide\n",
    "import pandas as pd\n",
    "import matplotlib.pyplot as plt\n",
    "import matplotlib.ticker as ticker\n",
    "import matplotlib.animation as animation\n",
    "from IPython.display import HTML"
   ]
  },
  {
   "cell_type": "code",
   "execution_count": 21,
   "id": "lasting-extraction",
   "metadata": {
    "execution": {
     "iopub.execute_input": "2021-05-12T00:14:28.673373Z",
     "iopub.status.busy": "2021-05-12T00:14:28.672772Z",
     "iopub.status.idle": "2021-05-12T00:14:28.679611Z",
     "shell.execute_reply": "2021-05-12T00:14:28.680095Z"
    },
    "papermill": {
     "duration": 0.047659,
     "end_time": "2021-05-12T00:14:28.680262",
     "exception": false,
     "start_time": "2021-05-12T00:14:28.632603",
     "status": "completed"
    },
    "tags": []
   },
   "outputs": [],
   "source": [
    "#hide\n",
    "t = everydaycases.stack()"
   ]
  },
  {
   "cell_type": "code",
   "execution_count": 22,
   "id": "premier-sleeve",
   "metadata": {
    "execution": {
     "iopub.execute_input": "2021-05-12T00:14:28.753754Z",
     "iopub.status.busy": "2021-05-12T00:14:28.753136Z",
     "iopub.status.idle": "2021-05-12T00:14:28.761161Z",
     "shell.execute_reply": "2021-05-12T00:14:28.761609Z"
    },
    "papermill": {
     "duration": 0.048034,
     "end_time": "2021-05-12T00:14:28.761762",
     "exception": false,
     "start_time": "2021-05-12T00:14:28.713728",
     "status": "completed"
    },
    "tags": []
   },
   "outputs": [],
   "source": [
    "#hide\n",
    "g = t.reset_index(['Country/Region'])"
   ]
  },
  {
   "cell_type": "code",
   "execution_count": 23,
   "id": "distributed-pittsburgh",
   "metadata": {
    "execution": {
     "iopub.execute_input": "2021-05-12T00:14:28.833161Z",
     "iopub.status.busy": "2021-05-12T00:14:28.832567Z",
     "iopub.status.idle": "2021-05-12T00:14:28.834864Z",
     "shell.execute_reply": "2021-05-12T00:14:28.835338Z"
    },
    "papermill": {
     "duration": 0.040358,
     "end_time": "2021-05-12T00:14:28.835486",
     "exception": false,
     "start_time": "2021-05-12T00:14:28.795128",
     "status": "completed"
    },
    "tags": []
   },
   "outputs": [],
   "source": [
    "#hide\n",
    "g.index.name = 'date'"
   ]
  },
  {
   "cell_type": "code",
   "execution_count": 24,
   "id": "naked-donor",
   "metadata": {
    "execution": {
     "iopub.execute_input": "2021-05-12T00:14:28.909063Z",
     "iopub.status.busy": "2021-05-12T00:14:28.908458Z",
     "iopub.status.idle": "2021-05-12T00:14:28.911248Z",
     "shell.execute_reply": "2021-05-12T00:14:28.911804Z"
    },
    "papermill": {
     "duration": 0.042375,
     "end_time": "2021-05-12T00:14:28.911960",
     "exception": false,
     "start_time": "2021-05-12T00:14:28.869585",
     "status": "completed"
    },
    "tags": []
   },
   "outputs": [],
   "source": [
    "# #hide\n",
    "# g = g.reset_index(['date'])"
   ]
  },
  {
   "cell_type": "code",
   "execution_count": 25,
   "id": "incomplete-mustang",
   "metadata": {
    "execution": {
     "iopub.execute_input": "2021-05-12T00:14:28.987008Z",
     "iopub.status.busy": "2021-05-12T00:14:28.986331Z",
     "iopub.status.idle": "2021-05-12T00:14:28.988847Z",
     "shell.execute_reply": "2021-05-12T00:14:28.988348Z"
    },
    "papermill": {
     "duration": 0.042129,
     "end_time": "2021-05-12T00:14:28.988973",
     "exception": false,
     "start_time": "2021-05-12T00:14:28.946844",
     "status": "completed"
    },
    "tags": []
   },
   "outputs": [],
   "source": [
    "#hide\n",
    "# g.head()"
   ]
  },
  {
   "cell_type": "code",
   "execution_count": 26,
   "id": "specific-kruger",
   "metadata": {
    "execution": {
     "iopub.execute_input": "2021-05-12T00:14:29.063425Z",
     "iopub.status.busy": "2021-05-12T00:14:29.062826Z",
     "iopub.status.idle": "2021-05-12T00:14:29.065764Z",
     "shell.execute_reply": "2021-05-12T00:14:29.065295Z"
    },
    "papermill": {
     "duration": 0.042119,
     "end_time": "2021-05-12T00:14:29.065890",
     "exception": false,
     "start_time": "2021-05-12T00:14:29.023771",
     "status": "completed"
    },
    "tags": []
   },
   "outputs": [],
   "source": [
    "#hide\n",
    "# g.columns = ['date','country','cases']"
   ]
  },
  {
   "cell_type": "code",
   "execution_count": 27,
   "id": "tender-conversion",
   "metadata": {
    "execution": {
     "iopub.execute_input": "2021-05-12T00:14:29.140048Z",
     "iopub.status.busy": "2021-05-12T00:14:29.139461Z",
     "iopub.status.idle": "2021-05-12T00:14:29.141908Z",
     "shell.execute_reply": "2021-05-12T00:14:29.141410Z"
    },
    "papermill": {
     "duration": 0.041469,
     "end_time": "2021-05-12T00:14:29.142021",
     "exception": false,
     "start_time": "2021-05-12T00:14:29.100552",
     "status": "completed"
    },
    "tags": []
   },
   "outputs": [],
   "source": [
    "#hide\n",
    "# g['continent'] = g.country"
   ]
  },
  {
   "cell_type": "code",
   "execution_count": 28,
   "id": "substantial-wilderness",
   "metadata": {
    "execution": {
     "iopub.execute_input": "2021-05-12T00:14:29.215238Z",
     "iopub.status.busy": "2021-05-12T00:14:29.214623Z",
     "iopub.status.idle": "2021-05-12T00:14:29.216401Z",
     "shell.execute_reply": "2021-05-12T00:14:29.216867Z"
    },
    "papermill": {
     "duration": 0.040592,
     "end_time": "2021-05-12T00:14:29.217012",
     "exception": false,
     "start_time": "2021-05-12T00:14:29.176420",
     "status": "completed"
    },
    "tags": []
   },
   "outputs": [],
   "source": [
    "#hide\n",
    "# cols = list(g.columns.values)"
   ]
  },
  {
   "cell_type": "code",
   "execution_count": 29,
   "id": "solved-farming",
   "metadata": {
    "execution": {
     "iopub.execute_input": "2021-05-12T00:14:29.290081Z",
     "iopub.status.busy": "2021-05-12T00:14:29.289463Z",
     "iopub.status.idle": "2021-05-12T00:14:29.292482Z",
     "shell.execute_reply": "2021-05-12T00:14:29.291976Z"
    },
    "papermill": {
     "duration": 0.041466,
     "end_time": "2021-05-12T00:14:29.292616",
     "exception": false,
     "start_time": "2021-05-12T00:14:29.251150",
     "status": "completed"
    },
    "tags": []
   },
   "outputs": [],
   "source": [
    "#hide\n",
    "# cols.insert(0, cols.pop())"
   ]
  },
  {
   "cell_type": "code",
   "execution_count": 30,
   "id": "executed-adoption",
   "metadata": {
    "execution": {
     "iopub.execute_input": "2021-05-12T00:14:29.366714Z",
     "iopub.status.busy": "2021-05-12T00:14:29.366065Z",
     "iopub.status.idle": "2021-05-12T00:14:29.368536Z",
     "shell.execute_reply": "2021-05-12T00:14:29.369043Z"
    },
    "papermill": {
     "duration": 0.042132,
     "end_time": "2021-05-12T00:14:29.369185",
     "exception": false,
     "start_time": "2021-05-12T00:14:29.327053",
     "status": "completed"
    },
    "tags": []
   },
   "outputs": [],
   "source": [
    "#hide\n",
    "# g = g[cols]"
   ]
  },
  {
   "cell_type": "code",
   "execution_count": 31,
   "id": "subject-dublin",
   "metadata": {
    "execution": {
     "iopub.execute_input": "2021-05-12T00:14:29.441224Z",
     "iopub.status.busy": "2021-05-12T00:14:29.440674Z",
     "iopub.status.idle": "2021-05-12T00:14:29.443350Z",
     "shell.execute_reply": "2021-05-12T00:14:29.443906Z"
    },
    "papermill": {
     "duration": 0.041268,
     "end_time": "2021-05-12T00:14:29.444053",
     "exception": false,
     "start_time": "2021-05-12T00:14:29.402785",
     "status": "completed"
    },
    "tags": []
   },
   "outputs": [],
   "source": [
    "#hide\n",
    "# g['continent'] = g['continent'].map(mapping['map.continent'])"
   ]
  },
  {
   "cell_type": "code",
   "execution_count": 32,
   "id": "freelance-scout",
   "metadata": {
    "execution": {
     "iopub.execute_input": "2021-05-12T00:14:29.516084Z",
     "iopub.status.busy": "2021-05-12T00:14:29.515469Z",
     "iopub.status.idle": "2021-05-12T00:14:29.517560Z",
     "shell.execute_reply": "2021-05-12T00:14:29.518038Z"
    },
    "papermill": {
     "duration": 0.040697,
     "end_time": "2021-05-12T00:14:29.518177",
     "exception": false,
     "start_time": "2021-05-12T00:14:29.477480",
     "status": "completed"
    },
    "tags": []
   },
   "outputs": [],
   "source": [
    "#hide\n",
    "# g.head()"
   ]
  },
  {
   "cell_type": "code",
   "execution_count": 33,
   "id": "limited-engine",
   "metadata": {
    "execution": {
     "iopub.execute_input": "2021-05-12T00:14:29.590316Z",
     "iopub.status.busy": "2021-05-12T00:14:29.589764Z",
     "iopub.status.idle": "2021-05-12T00:14:29.592251Z",
     "shell.execute_reply": "2021-05-12T00:14:29.592720Z"
    },
    "papermill": {
     "duration": 0.04083,
     "end_time": "2021-05-12T00:14:29.592859",
     "exception": false,
     "start_time": "2021-05-12T00:14:29.552029",
     "status": "completed"
    },
    "tags": []
   },
   "outputs": [],
   "source": [
    "# hide\n",
    "# g['date'] = g['date'].astype('datetime64[ns]')"
   ]
  },
  {
   "cell_type": "code",
   "execution_count": 34,
   "id": "sophisticated-supervisor",
   "metadata": {
    "execution": {
     "iopub.execute_input": "2021-05-12T00:14:29.665376Z",
     "iopub.status.busy": "2021-05-12T00:14:29.664782Z",
     "iopub.status.idle": "2021-05-12T00:14:29.667321Z",
     "shell.execute_reply": "2021-05-12T00:14:29.667796Z"
    },
    "papermill": {
     "duration": 0.04119,
     "end_time": "2021-05-12T00:14:29.667944",
     "exception": false,
     "start_time": "2021-05-12T00:14:29.626754",
     "status": "completed"
    },
    "tags": []
   },
   "outputs": [],
   "source": [
    "#hide\n",
    "# g['date'] = g.date.dt.dayofyear"
   ]
  },
  {
   "cell_type": "code",
   "execution_count": 35,
   "id": "inside-dubai",
   "metadata": {
    "execution": {
     "iopub.execute_input": "2021-05-12T00:14:29.742724Z",
     "iopub.status.busy": "2021-05-12T00:14:29.741950Z",
     "iopub.status.idle": "2021-05-12T00:14:29.743409Z",
     "shell.execute_reply": "2021-05-12T00:14:29.744075Z"
    },
    "papermill": {
     "duration": 0.041594,
     "end_time": "2021-05-12T00:14:29.744244",
     "exception": false,
     "start_time": "2021-05-12T00:14:29.702650",
     "status": "completed"
    },
    "tags": []
   },
   "outputs": [],
   "source": [
    "#hide\n",
    "# g = g.rename(columns= {'continent':'group','country':'name','cases':'value'})"
   ]
  },
  {
   "cell_type": "code",
   "execution_count": 36,
   "id": "fleet-motorcycle",
   "metadata": {
    "execution": {
     "iopub.execute_input": "2021-05-12T00:14:29.819073Z",
     "iopub.status.busy": "2021-05-12T00:14:29.818484Z",
     "iopub.status.idle": "2021-05-12T00:14:29.820253Z",
     "shell.execute_reply": "2021-05-12T00:14:29.820743Z"
    },
    "papermill": {
     "duration": 0.041415,
     "end_time": "2021-05-12T00:14:29.820896",
     "exception": false,
     "start_time": "2021-05-12T00:14:29.779481",
     "status": "completed"
    },
    "tags": []
   },
   "outputs": [],
   "source": [
    "#hide\n",
    "# cols = ['name','group','day','value']"
   ]
  },
  {
   "cell_type": "code",
   "execution_count": 37,
   "id": "continued-sleeping",
   "metadata": {
    "execution": {
     "iopub.execute_input": "2021-05-12T00:14:29.894587Z",
     "iopub.status.busy": "2021-05-12T00:14:29.893994Z",
     "iopub.status.idle": "2021-05-12T00:14:29.896341Z",
     "shell.execute_reply": "2021-05-12T00:14:29.896857Z"
    },
    "papermill": {
     "duration": 0.041749,
     "end_time": "2021-05-12T00:14:29.896995",
     "exception": false,
     "start_time": "2021-05-12T00:14:29.855246",
     "status": "completed"
    },
    "tags": []
   },
   "outputs": [],
   "source": [
    "#hide\n",
    "# g.rename(columns= {'date':'day'},inplace = True)"
   ]
  },
  {
   "cell_type": "code",
   "execution_count": 38,
   "id": "major-fight",
   "metadata": {
    "execution": {
     "iopub.execute_input": "2021-05-12T00:14:29.970179Z",
     "iopub.status.busy": "2021-05-12T00:14:29.969570Z",
     "iopub.status.idle": "2021-05-12T00:14:29.971641Z",
     "shell.execute_reply": "2021-05-12T00:14:29.972085Z"
    },
    "papermill": {
     "duration": 0.041377,
     "end_time": "2021-05-12T00:14:29.972236",
     "exception": false,
     "start_time": "2021-05-12T00:14:29.930859",
     "status": "completed"
    },
    "tags": []
   },
   "outputs": [],
   "source": [
    "#hide\n",
    "# g = g[cols]"
   ]
  },
  {
   "cell_type": "code",
   "execution_count": 39,
   "id": "structured-mobile",
   "metadata": {
    "execution": {
     "iopub.execute_input": "2021-05-12T00:14:30.046383Z",
     "iopub.status.busy": "2021-05-12T00:14:30.045765Z",
     "iopub.status.idle": "2021-05-12T00:14:30.048176Z",
     "shell.execute_reply": "2021-05-12T00:14:30.048726Z"
    },
    "papermill": {
     "duration": 0.042208,
     "end_time": "2021-05-12T00:14:30.048871",
     "exception": false,
     "start_time": "2021-05-12T00:14:30.006663",
     "status": "completed"
    },
    "tags": []
   },
   "outputs": [],
   "source": [
    "# #hide\n",
    "# g = g[g.group.notna()]"
   ]
  },
  {
   "cell_type": "code",
   "execution_count": 40,
   "id": "determined-closing",
   "metadata": {
    "execution": {
     "iopub.execute_input": "2021-05-12T00:14:30.123411Z",
     "iopub.status.busy": "2021-05-12T00:14:30.122792Z",
     "iopub.status.idle": "2021-05-12T00:14:30.124561Z",
     "shell.execute_reply": "2021-05-12T00:14:30.124999Z"
    },
    "papermill": {
     "duration": 0.041424,
     "end_time": "2021-05-12T00:14:30.125145",
     "exception": false,
     "start_time": "2021-05-12T00:14:30.083721",
     "status": "completed"
    },
    "tags": []
   },
   "outputs": [],
   "source": [
    "# #hide\n",
    "# colors = dict(zip(\n",
    "#     [\"Oceania\", \"Europe\", \"Asia\", \"South America\", \"Middle East\", \"North America\", \"Africa\"],\n",
    "#     [\"#adb0ff\", \"#ffb3ff\", \"#90d595\", \"#e48381\", \"#aafbff\", \"#f7bb5f\", \"#eafb50\"]\n",
    "# ))\n",
    "# group_lk = g.set_index('name')['group'].to_dict()"
   ]
  },
  {
   "cell_type": "code",
   "execution_count": null,
   "id": "gross-drinking",
   "metadata": {
    "papermill": {
     "duration": 0.034287,
     "end_time": "2021-05-12T00:14:30.193422",
     "exception": false,
     "start_time": "2021-05-12T00:14:30.159135",
     "status": "completed"
    },
    "tags": []
   },
   "outputs": [],
   "source": []
  },
  {
   "cell_type": "code",
   "execution_count": 41,
   "id": "subject-macintosh",
   "metadata": {
    "execution": {
     "iopub.execute_input": "2021-05-12T00:14:30.268405Z",
     "iopub.status.busy": "2021-05-12T00:14:30.267776Z",
     "iopub.status.idle": "2021-05-12T00:14:30.270038Z",
     "shell.execute_reply": "2021-05-12T00:14:30.270510Z"
    },
    "papermill": {
     "duration": 0.042986,
     "end_time": "2021-05-12T00:14:30.270669",
     "exception": false,
     "start_time": "2021-05-12T00:14:30.227683",
     "status": "completed"
    },
    "tags": []
   },
   "outputs": [],
   "source": [
    "# #hide\n",
    "# fig, ax = plt.subplots(figsize=(15, 8))\n",
    "\n",
    "# def draw_barchart(current_day):\n",
    "#     dff = g[g['day'].eq(current_day)].sort_values(by='value', ascending=True).tail(10)\n",
    "#     ax.clear()\n",
    "#     ax.barh(dff['name'], dff['value'], color=[colors[group_lk[x]] for x in dff['name']])\n",
    "#     dx = dff['value'].max() / 200\n",
    "    \n",
    "#     for i, (value, name) in enumerate(zip(dff['value'], dff['name'])):\n",
    "#         ax.text(value-dx, i,     name,           size=14, weight=600, ha='right', va='bottom')\n",
    "#         ax.text(value-dx, i-.25, group_lk[name], size=10, color='#444444', ha='right', va='baseline')\n",
    "#         ax.text(value+dx, i,     f'{value:,.0f}',  size=14, ha='left',  va='center')\n",
    "#     ax.text(1, 0.4, current_day, transform=ax.transAxes, color='#777777', size=46, ha='right', weight=800)\n",
    "#     ax.text(0, 1.06, 'Population (thousands)', transform=ax.transAxes, size=12, color='#777777')\n",
    "#     ax.xaxis.set_major_formatter(ticker.StrMethodFormatter('{x:,.0f}'))\n",
    "#     ax.xaxis.set_ticks_position('top')\n",
    "#     ax.tick_params(axis='x', colors='#777777', labelsize=12)\n",
    "#     ax.set_yticks([])\n",
    "#     ax.margins(0, 0.01)\n",
    "#     ax.grid(which='major', axis='x', linestyle='-')\n",
    "#     ax.set_axisbelow(True)\n",
    "    \n",
    "#     ax.text(0, 1.15, 'Coronavirus',\n",
    "#             transform=ax.transAxes, size=24, weight=600, ha='left', va='top')\n",
    "# #     ax.text(1, 0, 'by @pratapvardhan; credit @jburnmurdoch', transform=ax.transAxes, color='#777777', ha='right',\n",
    "# #             bbox=dict(facecolor='white', alpha=0.8, edgecolor='white'))\n",
    "#     plt.box(False)"
   ]
  },
  {
   "cell_type": "code",
   "execution_count": 42,
   "id": "sexual-wages",
   "metadata": {
    "execution": {
     "iopub.execute_input": "2021-05-12T00:14:30.344660Z",
     "iopub.status.busy": "2021-05-12T00:14:30.344108Z",
     "iopub.status.idle": "2021-05-12T00:14:30.346728Z",
     "shell.execute_reply": "2021-05-12T00:14:30.346261Z"
    },
    "papermill": {
     "duration": 0.041731,
     "end_time": "2021-05-12T00:14:30.346847",
     "exception": false,
     "start_time": "2021-05-12T00:14:30.305116",
     "status": "completed"
    },
    "tags": []
   },
   "outputs": [],
   "source": [
    "# #hide_input\n",
    "# fig, ax = plt.subplots(figsize=(15, 8))\n",
    "# animator = animation.FuncAnimation(fig, draw_barchart, frames=range(g.day.values.min(), g.day.values.max()))\n",
    "# HTML(animator.to_jshtml())\n",
    "# # or use animator.to_html5_video() or animator.save() "
   ]
  },
  {
   "cell_type": "code",
   "execution_count": null,
   "id": "australian-container",
   "metadata": {
    "papermill": {
     "duration": 0.035087,
     "end_time": "2021-05-12T00:14:30.416595",
     "exception": false,
     "start_time": "2021-05-12T00:14:30.381508",
     "status": "completed"
    },
    "tags": []
   },
   "outputs": [],
   "source": []
  },
  {
   "cell_type": "code",
   "execution_count": null,
   "id": "mediterranean-pontiac",
   "metadata": {
    "papermill": {
     "duration": 0.034701,
     "end_time": "2021-05-12T00:14:30.486309",
     "exception": false,
     "start_time": "2021-05-12T00:14:30.451608",
     "status": "completed"
    },
    "tags": []
   },
   "outputs": [],
   "source": []
  },
  {
   "cell_type": "code",
   "execution_count": null,
   "id": "aging-legislature",
   "metadata": {
    "papermill": {
     "duration": 0.034832,
     "end_time": "2021-05-12T00:14:30.559552",
     "exception": false,
     "start_time": "2021-05-12T00:14:30.524720",
     "status": "completed"
    },
    "tags": []
   },
   "outputs": [],
   "source": []
  }
 ],
 "metadata": {
  "kernelspec": {
   "display_name": "Python 3",
   "language": "python",
   "name": "python3"
  },
  "language_info": {
   "codemirror_mode": {
    "name": "ipython",
    "version": 3
   },
   "file_extension": ".py",
   "mimetype": "text/x-python",
   "name": "python",
   "nbconvert_exporter": "python",
   "pygments_lexer": "ipython3",
   "version": "3.6.13"
  },
  "papermill": {
   "duration": 6.64489,
   "end_time": "2021-05-12T00:14:31.004694",
   "environment_variables": {},
   "exception": null,
   "input_path": "2020-03-21-covid19exp.ipynb",
   "output_path": "2020-03-21-covid19exp.ipynb",
   "parameters": {},
   "start_time": "2021-05-12T00:14:24.359804",
   "version": "2.0.0"
  }
 },
 "nbformat": 4,
 "nbformat_minor": 5
}