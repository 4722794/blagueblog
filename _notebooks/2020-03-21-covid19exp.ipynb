{
 "cells": [
  {
   "cell_type": "markdown",
   "id": "muslim-click",
   "metadata": {
    "papermill": {
     "duration": 0.040018,
     "end_time": "2021-11-01T00:25:53.561027",
     "exception": false,
     "start_time": "2021-11-01T00:25:53.521009",
     "status": "completed"
    },
    "tags": []
   },
   "source": [
    "# COVID-19 Case Race\n",
    "> A race chart to see rising cases around the world\n",
    "\n",
    "- author: Hargun Oberoi\n",
    "- image: images/covid-overview.png\n",
    "- hide: false\n",
    "- badges: false"
   ]
  },
  {
   "cell_type": "code",
   "execution_count": 1,
   "id": "proof-material",
   "metadata": {
    "execution": {
     "iopub.execute_input": "2021-11-01T00:25:53.645377Z",
     "iopub.status.busy": "2021-11-01T00:25:53.644687Z",
     "iopub.status.idle": "2021-11-01T00:25:54.028410Z",
     "shell.execute_reply": "2021-11-01T00:25:54.027795Z"
    },
    "papermill": {
     "duration": 0.430839,
     "end_time": "2021-11-01T00:25:54.028580",
     "exception": false,
     "start_time": "2021-11-01T00:25:53.597741",
     "status": "completed"
    },
    "tags": []
   },
   "outputs": [],
   "source": [
    "#hide\n",
    "import numpy as np\n",
    "import pandas as pd\n",
    "from jinja2 import Template\n",
    "from IPython.display import HTML"
   ]
  },
  {
   "cell_type": "code",
   "execution_count": 2,
   "id": "developed-terminology",
   "metadata": {
    "execution": {
     "iopub.execute_input": "2021-11-01T00:25:54.110626Z",
     "iopub.status.busy": "2021-11-01T00:25:54.109986Z",
     "iopub.status.idle": "2021-11-01T00:25:54.113535Z",
     "shell.execute_reply": "2021-11-01T00:25:54.114074Z"
    },
    "papermill": {
     "duration": 0.046025,
     "end_time": "2021-11-01T00:25:54.114250",
     "exception": false,
     "start_time": "2021-11-01T00:25:54.068225",
     "status": "completed"
    },
    "tags": []
   },
   "outputs": [],
   "source": [
    "#hide\n",
    "\n",
    "# FETCH\n",
    "base_url = 'https://raw.githubusercontent.com/pratapvardhan/notebooks/master/covid19/'\n",
    "paths = {\n",
    "    'mapping': base_url + 'mapping_countries.csv',\n",
    "    'overview': base_url + 'overview.tpl'\n",
    "}"
   ]
  },
  {
   "cell_type": "code",
   "execution_count": 3,
   "id": "dynamic-saver",
   "metadata": {
    "execution": {
     "iopub.execute_input": "2021-11-01T00:25:54.198861Z",
     "iopub.status.busy": "2021-11-01T00:25:54.196193Z",
     "iopub.status.idle": "2021-11-01T00:25:54.201795Z",
     "shell.execute_reply": "2021-11-01T00:25:54.202440Z"
    },
    "papermill": {
     "duration": 0.050996,
     "end_time": "2021-11-01T00:25:54.202595",
     "exception": false,
     "start_time": "2021-11-01T00:25:54.151599",
     "status": "completed"
    },
    "tags": []
   },
   "outputs": [
    {
     "data": {
      "text/plain": [
       "'https://raw.githubusercontent.com/pratapvardhan/notebooks/master/covid19/mapping_countries.csv'"
      ]
     },
     "execution_count": 3,
     "metadata": {},
     "output_type": "execute_result"
    }
   ],
   "source": [
    "#hide\n",
    "paths['mapping']"
   ]
  },
  {
   "cell_type": "code",
   "execution_count": 4,
   "id": "urban-software",
   "metadata": {
    "execution": {
     "iopub.execute_input": "2021-11-01T00:25:54.279543Z",
     "iopub.status.busy": "2021-11-01T00:25:54.278812Z",
     "iopub.status.idle": "2021-11-01T00:25:54.280855Z",
     "shell.execute_reply": "2021-11-01T00:25:54.281525Z"
    },
    "papermill": {
     "duration": 0.042417,
     "end_time": "2021-11-01T00:25:54.281661",
     "exception": false,
     "start_time": "2021-11-01T00:25:54.239244",
     "status": "completed"
    },
    "tags": []
   },
   "outputs": [],
   "source": [
    "#hide\n",
    "def get_mappings(url):\n",
    "    df = pd.read_csv(url)\n",
    "    return {\n",
    "        'df': df,\n",
    "        'replace.country': dict(df.dropna(subset=['Name']).set_index('Country')['Name']),\n",
    "        'map.continent': dict(df.set_index('Name')['Continent'])\n",
    "    }"
   ]
  },
  {
   "cell_type": "code",
   "execution_count": 5,
   "id": "intimate-machinery",
   "metadata": {
    "execution": {
     "iopub.execute_input": "2021-11-01T00:25:54.358741Z",
     "iopub.status.busy": "2021-11-01T00:25:54.358089Z",
     "iopub.status.idle": "2021-11-01T00:25:54.399242Z",
     "shell.execute_reply": "2021-11-01T00:25:54.399878Z"
    },
    "papermill": {
     "duration": 0.082474,
     "end_time": "2021-11-01T00:25:54.400061",
     "exception": false,
     "start_time": "2021-11-01T00:25:54.317587",
     "status": "completed"
    },
    "tags": []
   },
   "outputs": [],
   "source": [
    "#hide\n",
    "mapping = get_mappings(paths['mapping'])"
   ]
  },
  {
   "cell_type": "code",
   "execution_count": 6,
   "id": "certified-tactics",
   "metadata": {
    "execution": {
     "iopub.execute_input": "2021-11-01T00:25:54.476538Z",
     "iopub.status.busy": "2021-11-01T00:25:54.475905Z",
     "iopub.status.idle": "2021-11-01T00:25:54.477895Z",
     "shell.execute_reply": "2021-11-01T00:25:54.478396Z"
    },
    "papermill": {
     "duration": 0.042928,
     "end_time": "2021-11-01T00:25:54.478526",
     "exception": false,
     "start_time": "2021-11-01T00:25:54.435598",
     "status": "completed"
    },
    "tags": []
   },
   "outputs": [],
   "source": [
    "#hide\n",
    "def get_template(path):\n",
    "    from urllib.parse import urlparse\n",
    "    if bool(urlparse(path).netloc):\n",
    "        from urllib.request import urlopen\n",
    "        return urlopen(path).read().decode('utf8')\n",
    "    return open(path).read()"
   ]
  },
  {
   "cell_type": "code",
   "execution_count": 7,
   "id": "realistic-blast",
   "metadata": {
    "execution": {
     "iopub.execute_input": "2021-11-01T00:25:54.554050Z",
     "iopub.status.busy": "2021-11-01T00:25:54.553407Z",
     "iopub.status.idle": "2021-11-01T00:25:54.555497Z",
     "shell.execute_reply": "2021-11-01T00:25:54.556096Z"
    },
    "papermill": {
     "duration": 0.042087,
     "end_time": "2021-11-01T00:25:54.556227",
     "exception": false,
     "start_time": "2021-11-01T00:25:54.514140",
     "status": "completed"
    },
    "tags": []
   },
   "outputs": [],
   "source": [
    "#hide\n",
    "def get_frame(name):\n",
    "    url = (\n",
    "        'https://raw.githubusercontent.com/CSSEGISandData/COVID-19/master/csse_covid_19_data/'\n",
    "        f'csse_covid_19_time_series/time_series_covid19_{name}_global.csv')\n",
    "    df = pd.read_csv(url)\n",
    "    # rename countries\n",
    "    df['Country/Region'] = df['Country/Region'].replace(mapping['replace.country'])\n",
    "    return df"
   ]
  },
  {
   "cell_type": "code",
   "execution_count": 8,
   "id": "affiliated-characterization",
   "metadata": {
    "execution": {
     "iopub.execute_input": "2021-11-01T00:25:54.634222Z",
     "iopub.status.busy": "2021-11-01T00:25:54.633597Z",
     "iopub.status.idle": "2021-11-01T00:25:54.635504Z",
     "shell.execute_reply": "2021-11-01T00:25:54.636073Z"
    },
    "papermill": {
     "duration": 0.043853,
     "end_time": "2021-11-01T00:25:54.636198",
     "exception": false,
     "start_time": "2021-11-01T00:25:54.592345",
     "status": "completed"
    },
    "tags": []
   },
   "outputs": [],
   "source": [
    "#hide\n",
    "def get_dates(df):\n",
    "    dt_cols = df.columns[~df.columns.isin(['Province/State', 'Country/Region', 'Lat', 'Long'])]\n",
    "    LAST_DATE_I = -1\n",
    "    # sometimes last column may be empty, then go backwards\n",
    "    for i in range(-1, -len(dt_cols), -1):\n",
    "        if not df[dt_cols[i]].fillna(0).eq(0).all():\n",
    "            LAST_DATE_I = i\n",
    "            break\n",
    "    return LAST_DATE_I, dt_cols"
   ]
  },
  {
   "cell_type": "code",
   "execution_count": 9,
   "id": "recent-optimization",
   "metadata": {
    "execution": {
     "iopub.execute_input": "2021-11-01T00:25:54.711755Z",
     "iopub.status.busy": "2021-11-01T00:25:54.711043Z",
     "iopub.status.idle": "2021-11-01T00:25:55.156332Z",
     "shell.execute_reply": "2021-11-01T00:25:55.155743Z"
    },
    "papermill": {
     "duration": 0.484609,
     "end_time": "2021-11-01T00:25:55.156483",
     "exception": false,
     "start_time": "2021-11-01T00:25:54.671874",
     "status": "completed"
    },
    "tags": []
   },
   "outputs": [],
   "source": [
    "#hide\n",
    "COL_REGION = 'Country/Region'\n",
    "# Confirmed, Recovered, Deaths\n",
    "df = get_frame('confirmed')\n",
    "# dft_: timeseries, dfc_: today country agg\n",
    "dft_cases = df\n",
    "dft_deaths = get_frame('deaths')\n",
    "dft_recovered = get_frame('recovered')\n",
    "LAST_DATE_I, dt_cols = get_dates(df)"
   ]
  },
  {
   "cell_type": "code",
   "execution_count": 10,
   "id": "absolute-copper",
   "metadata": {
    "execution": {
     "iopub.execute_input": "2021-11-01T00:25:55.236297Z",
     "iopub.status.busy": "2021-11-01T00:25:55.235646Z",
     "iopub.status.idle": "2021-11-01T00:25:55.238292Z",
     "shell.execute_reply": "2021-11-01T00:25:55.237622Z"
    },
    "papermill": {
     "duration": 0.044549,
     "end_time": "2021-11-01T00:25:55.238431",
     "exception": false,
     "start_time": "2021-11-01T00:25:55.193882",
     "status": "completed"
    },
    "tags": []
   },
   "outputs": [],
   "source": [
    "#hide\n",
    "LAST_DATE_I, dt_cols = get_dates(df)\n",
    "dt_today =dt_cols[LAST_DATE_I]\n",
    "# dt_5day = dt_cols[LAST_DATE_I - 5]\n",
    "dt_yday = dt_cols[LAST_DATE_I - 1]"
   ]
  },
  {
   "cell_type": "code",
   "execution_count": 11,
   "id": "restricted-sheriff",
   "metadata": {
    "execution": {
     "iopub.execute_input": "2021-11-01T00:25:55.315793Z",
     "iopub.status.busy": "2021-11-01T00:25:55.315135Z",
     "iopub.status.idle": "2021-11-01T00:25:55.323890Z",
     "shell.execute_reply": "2021-11-01T00:25:55.323336Z"
    },
    "papermill": {
     "duration": 0.050418,
     "end_time": "2021-11-01T00:25:55.324043",
     "exception": false,
     "start_time": "2021-11-01T00:25:55.273625",
     "status": "completed"
    },
    "tags": []
   },
   "outputs": [],
   "source": [
    "#hide\n",
    "dfc_cases = dft_cases.groupby(COL_REGION)[dt_today].sum()\n",
    "dfc_deaths = dft_deaths.groupby(COL_REGION)[dt_today].sum()\n",
    "# dfp_cases = dft_cases.groupby(COL_REGION)[dt_5day].sum()\n",
    "# dfp_deaths = dft_deaths.groupby(COL_REGION)[dt_5day].sum()\n",
    "dfp_cases = dft_cases.groupby(COL_REGION)[dt_yday].sum()\n",
    "dfp_deaths = dft_deaths.groupby(COL_REGION)[dt_yday].sum()"
   ]
  },
  {
   "cell_type": "code",
   "execution_count": 12,
   "id": "deluxe-hepatitis",
   "metadata": {
    "execution": {
     "iopub.execute_input": "2021-11-01T00:25:55.403147Z",
     "iopub.status.busy": "2021-11-01T00:25:55.402408Z",
     "iopub.status.idle": "2021-11-01T00:25:55.407270Z",
     "shell.execute_reply": "2021-11-01T00:25:55.407874Z"
    },
    "papermill": {
     "duration": 0.047771,
     "end_time": "2021-11-01T00:25:55.408012",
     "exception": false,
     "start_time": "2021-11-01T00:25:55.360241",
     "status": "completed"
    },
    "tags": []
   },
   "outputs": [],
   "source": [
    "#hide\n",
    "df_table = (pd.DataFrame(dict(Cases = dfc_cases, Deaths = dfc_deaths, PCases = dfp_cases, PDeaths = dfp_deaths))\n",
    "            .sort_values(by = ['Cases','Deaths'], ascending = [False, False])\n",
    "            .reset_index())"
   ]
  },
  {
   "cell_type": "code",
   "execution_count": 13,
   "id": "educational-chancellor",
   "metadata": {
    "execution": {
     "iopub.execute_input": "2021-11-01T00:25:55.499478Z",
     "iopub.status.busy": "2021-11-01T00:25:55.498811Z",
     "iopub.status.idle": "2021-11-01T00:25:55.507108Z",
     "shell.execute_reply": "2021-11-01T00:25:55.507717Z"
    },
    "papermill": {
     "duration": 0.064092,
     "end_time": "2021-11-01T00:25:55.507862",
     "exception": false,
     "start_time": "2021-11-01T00:25:55.443770",
     "status": "completed"
    },
    "tags": []
   },
   "outputs": [
    {
     "data": {
      "text/html": [
       "<div>\n",
       "<style scoped>\n",
       "    .dataframe tbody tr th:only-of-type {\n",
       "        vertical-align: middle;\n",
       "    }\n",
       "\n",
       "    .dataframe tbody tr th {\n",
       "        vertical-align: top;\n",
       "    }\n",
       "\n",
       "    .dataframe thead th {\n",
       "        text-align: right;\n",
       "    }\n",
       "</style>\n",
       "<table border=\"1\" class=\"dataframe\">\n",
       "  <thead>\n",
       "    <tr style=\"text-align: right;\">\n",
       "      <th></th>\n",
       "      <th>Country/Region</th>\n",
       "      <th>Cases</th>\n",
       "      <th>Deaths</th>\n",
       "      <th>PCases</th>\n",
       "      <th>PDeaths</th>\n",
       "      <th>Cases (+)</th>\n",
       "      <th>Deaths (+)</th>\n",
       "      <th>Fatality Rate</th>\n",
       "      <th>Continent</th>\n",
       "    </tr>\n",
       "  </thead>\n",
       "  <tbody>\n",
       "    <tr>\n",
       "      <th>0</th>\n",
       "      <td>US</td>\n",
       "      <td>45953186</td>\n",
       "      <td>745668</td>\n",
       "      <td>45923884</td>\n",
       "      <td>745377</td>\n",
       "      <td>29302</td>\n",
       "      <td>291</td>\n",
       "      <td>1.62</td>\n",
       "      <td>North America</td>\n",
       "    </tr>\n",
       "    <tr>\n",
       "      <th>1</th>\n",
       "      <td>India</td>\n",
       "      <td>34273300</td>\n",
       "      <td>458186</td>\n",
       "      <td>34260470</td>\n",
       "      <td>457740</td>\n",
       "      <td>12830</td>\n",
       "      <td>446</td>\n",
       "      <td>1.34</td>\n",
       "      <td>Asia</td>\n",
       "    </tr>\n",
       "    <tr>\n",
       "      <th>2</th>\n",
       "      <td>Brazil</td>\n",
       "      <td>21804094</td>\n",
       "      <td>607694</td>\n",
       "      <td>21793401</td>\n",
       "      <td>607462</td>\n",
       "      <td>10693</td>\n",
       "      <td>232</td>\n",
       "      <td>2.79</td>\n",
       "      <td>South America</td>\n",
       "    </tr>\n",
       "    <tr>\n",
       "      <th>3</th>\n",
       "      <td>United Kingdom</td>\n",
       "      <td>9062710</td>\n",
       "      <td>140981</td>\n",
       "      <td>9021701</td>\n",
       "      <td>140815</td>\n",
       "      <td>41009</td>\n",
       "      <td>166</td>\n",
       "      <td>1.56</td>\n",
       "      <td>Europe</td>\n",
       "    </tr>\n",
       "    <tr>\n",
       "      <th>4</th>\n",
       "      <td>Russia</td>\n",
       "      <td>8338053</td>\n",
       "      <td>233063</td>\n",
       "      <td>8298850</td>\n",
       "      <td>231931</td>\n",
       "      <td>39203</td>\n",
       "      <td>1132</td>\n",
       "      <td>2.80</td>\n",
       "      <td>Europe</td>\n",
       "    </tr>\n",
       "  </tbody>\n",
       "</table>\n",
       "</div>"
      ],
      "text/plain": [
       "   Country/Region     Cases  Deaths    PCases  PDeaths  Cases (+)  Deaths (+)  \\\n",
       "0              US  45953186  745668  45923884   745377      29302         291   \n",
       "1           India  34273300  458186  34260470   457740      12830         446   \n",
       "2          Brazil  21804094  607694  21793401   607462      10693         232   \n",
       "3  United Kingdom   9062710  140981   9021701   140815      41009         166   \n",
       "4          Russia   8338053  233063   8298850   231931      39203        1132   \n",
       "\n",
       "   Fatality Rate      Continent  \n",
       "0           1.62  North America  \n",
       "1           1.34           Asia  \n",
       "2           2.79  South America  \n",
       "3           1.56         Europe  \n",
       "4           2.80         Europe  "
      ]
     },
     "execution_count": 13,
     "metadata": {},
     "output_type": "execute_result"
    }
   ],
   "source": [
    "#hide\n",
    "for c in 'Cases, Deaths'.split(', '):\n",
    "    df_table[f'{c} (+)'] = (df_table[c] - df_table[f'P{c}']).clip(0)\n",
    "    #Clip ça veut dire, les chiffres negatif sont interdit\n",
    "df_table['Fatality Rate'] = (100* df_table['Deaths']/ df_table['Cases']).round(2)\n",
    "df_table['Continent'] = df_table['Country/Region'].map(mapping['map.continent'])\n",
    "df_table.head(5)"
   ]
  },
  {
   "cell_type": "code",
   "execution_count": 14,
   "id": "aboriginal-bulgaria",
   "metadata": {
    "execution": {
     "iopub.execute_input": "2021-11-01T00:25:55.584047Z",
     "iopub.status.busy": "2021-11-01T00:25:55.583411Z",
     "iopub.status.idle": "2021-11-01T00:25:55.586534Z",
     "shell.execute_reply": "2021-11-01T00:25:55.587189Z"
    },
    "papermill": {
     "duration": 0.043416,
     "end_time": "2021-11-01T00:25:55.587325",
     "exception": false,
     "start_time": "2021-11-01T00:25:55.543909",
     "status": "completed"
    },
    "tags": []
   },
   "outputs": [],
   "source": [
    "#hide\n",
    "#delete problematic countries from table\n",
    "df_table = df_table[~df_table['Country/Region'].isin(['Cape Verde', 'Cruise Ship', 'Kosovo'])]"
   ]
  },
  {
   "cell_type": "code",
   "execution_count": 15,
   "id": "fantastic-effect",
   "metadata": {
    "execution": {
     "iopub.execute_input": "2021-11-01T00:25:55.667370Z",
     "iopub.status.busy": "2021-11-01T00:25:55.666747Z",
     "iopub.status.idle": "2021-11-01T00:25:55.689235Z",
     "shell.execute_reply": "2021-11-01T00:25:55.688697Z"
    },
    "papermill": {
     "duration": 0.06675,
     "end_time": "2021-11-01T00:25:55.689362",
     "exception": false,
     "start_time": "2021-11-01T00:25:55.622612",
     "status": "completed"
    },
    "tags": []
   },
   "outputs": [
    {
     "data": {
      "text/html": [
       "<div>\n",
       "<style scoped>\n",
       "    .dataframe tbody tr th:only-of-type {\n",
       "        vertical-align: middle;\n",
       "    }\n",
       "\n",
       "    .dataframe tbody tr th {\n",
       "        vertical-align: top;\n",
       "    }\n",
       "\n",
       "    .dataframe thead th {\n",
       "        text-align: right;\n",
       "    }\n",
       "</style>\n",
       "<table border=\"1\" class=\"dataframe\">\n",
       "  <thead>\n",
       "    <tr style=\"text-align: right;\">\n",
       "      <th></th>\n",
       "      <th>Country/Region</th>\n",
       "      <th>Cases</th>\n",
       "      <th>Deaths</th>\n",
       "      <th>PCases</th>\n",
       "      <th>PDeaths</th>\n",
       "      <th>Cases (+)</th>\n",
       "      <th>Deaths (+)</th>\n",
       "      <th>Fatality Rate</th>\n",
       "      <th>Continent</th>\n",
       "    </tr>\n",
       "  </thead>\n",
       "  <tbody>\n",
       "    <tr>\n",
       "      <th>0</th>\n",
       "      <td>US</td>\n",
       "      <td>45953186</td>\n",
       "      <td>745668</td>\n",
       "      <td>45923884</td>\n",
       "      <td>745377</td>\n",
       "      <td>29302</td>\n",
       "      <td>291</td>\n",
       "      <td>1.6</td>\n",
       "      <td>North America</td>\n",
       "    </tr>\n",
       "    <tr>\n",
       "      <th>1</th>\n",
       "      <td>India</td>\n",
       "      <td>34273300</td>\n",
       "      <td>458186</td>\n",
       "      <td>34260470</td>\n",
       "      <td>457740</td>\n",
       "      <td>12830</td>\n",
       "      <td>446</td>\n",
       "      <td>1.3</td>\n",
       "      <td>Asia</td>\n",
       "    </tr>\n",
       "    <tr>\n",
       "      <th>2</th>\n",
       "      <td>Brazil</td>\n",
       "      <td>21804094</td>\n",
       "      <td>607694</td>\n",
       "      <td>21793401</td>\n",
       "      <td>607462</td>\n",
       "      <td>10693</td>\n",
       "      <td>232</td>\n",
       "      <td>2.8</td>\n",
       "      <td>South America</td>\n",
       "    </tr>\n",
       "    <tr>\n",
       "      <th>3</th>\n",
       "      <td>United Kingdom</td>\n",
       "      <td>9062710</td>\n",
       "      <td>140981</td>\n",
       "      <td>9021701</td>\n",
       "      <td>140815</td>\n",
       "      <td>41009</td>\n",
       "      <td>166</td>\n",
       "      <td>1.6</td>\n",
       "      <td>Europe</td>\n",
       "    </tr>\n",
       "    <tr>\n",
       "      <th>4</th>\n",
       "      <td>Russia</td>\n",
       "      <td>8338053</td>\n",
       "      <td>233063</td>\n",
       "      <td>8298850</td>\n",
       "      <td>231931</td>\n",
       "      <td>39203</td>\n",
       "      <td>1132</td>\n",
       "      <td>2.8</td>\n",
       "      <td>Europe</td>\n",
       "    </tr>\n",
       "  </tbody>\n",
       "</table>\n",
       "</div>"
      ],
      "text/plain": [
       "   Country/Region     Cases  Deaths    PCases  PDeaths  Cases (+)  Deaths (+)  \\\n",
       "0              US  45953186  745668  45923884   745377      29302         291   \n",
       "1           India  34273300  458186  34260470   457740      12830         446   \n",
       "2          Brazil  21804094  607694  21793401   607462      10693         232   \n",
       "3  United Kingdom   9062710  140981   9021701   140815      41009         166   \n",
       "4          Russia   8338053  233063   8298850   231931      39203        1132   \n",
       "\n",
       "   Fatality Rate      Continent  \n",
       "0            1.6  North America  \n",
       "1            1.3           Asia  \n",
       "2            2.8  South America  \n",
       "3            1.6         Europe  \n",
       "4            2.8         Europe  "
      ]
     },
     "execution_count": 15,
     "metadata": {},
     "output_type": "execute_result"
    }
   ],
   "source": [
    "#hide\n",
    "df_table = (pd.DataFrame(dict(Cases=dfc_cases, Deaths=dfc_deaths, PCases=dfp_cases, PDeaths=dfp_deaths))\n",
    "             .sort_values(by=['Cases', 'Deaths'], ascending=[False, False])\n",
    "             .reset_index())\n",
    "df_table.rename(columns={'index': 'Country/Region'}, inplace=True)\n",
    "for c in 'Cases, Deaths'.split(', '):\n",
    "    df_table[f'{c} (+)'] = (df_table[c] - df_table[f'P{c}']).clip(0)  # DATA BUG\n",
    "df_table['Fatality Rate'] = (100 * df_table['Deaths'] / df_table['Cases']).round(1)\n",
    "df_table['Continent'] = df_table['Country/Region'].map(mapping['map.continent'])\n",
    "df_table.head(5)"
   ]
  },
  {
   "cell_type": "code",
   "execution_count": 16,
   "id": "fewer-occasion",
   "metadata": {
    "execution": {
     "iopub.execute_input": "2021-11-01T00:25:55.771372Z",
     "iopub.status.busy": "2021-11-01T00:25:55.770727Z",
     "iopub.status.idle": "2021-11-01T00:25:55.772728Z",
     "shell.execute_reply": "2021-11-01T00:25:55.773283Z"
    },
    "papermill": {
     "duration": 0.046955,
     "end_time": "2021-11-01T00:25:55.773416",
     "exception": false,
     "start_time": "2021-11-01T00:25:55.726461",
     "status": "completed"
    },
    "tags": []
   },
   "outputs": [],
   "source": [
    "#hide\n",
    "#delete problematic countries from table\n",
    "df_table = df_table[~df_table['Country/Region'].isin(['Cape Verde', 'Cruise Ship', 'Kosovo'])]"
   ]
  },
  {
   "cell_type": "code",
   "execution_count": 17,
   "id": "related-center",
   "metadata": {
    "execution": {
     "iopub.execute_input": "2021-11-01T00:25:55.854626Z",
     "iopub.status.busy": "2021-11-01T00:25:55.853944Z",
     "iopub.status.idle": "2021-11-01T00:25:55.868565Z",
     "shell.execute_reply": "2021-11-01T00:25:55.868043Z"
    },
    "papermill": {
     "duration": 0.058454,
     "end_time": "2021-11-01T00:25:55.868685",
     "exception": false,
     "start_time": "2021-11-01T00:25:55.810231",
     "status": "completed"
    },
    "tags": []
   },
   "outputs": [],
   "source": [
    "#hide\n",
    "metrics = [df_table.columns[index] for index in [1,2,5,6]]\n",
    "# s_china = df_table[df_table['Country/Region'].eq('China')][metrics].sum().add_prefix('China ')\n",
    "s_us = df_table[df_table['Country/Region'].eq('US')][metrics].sum().add_prefix('US ')\n",
    "s_eu = df_table[df_table['Continent'].eq('Europe')][metrics].sum().add_prefix('EU ')\n",
    "s_ind = df_table[df_table['Country/Region'].eq('India')][metrics].sum().add_prefix('India ')\n",
    "summary = {'updated': pd.to_datetime(dt_today), 'since': pd.to_datetime(dt_yday)}\n",
    "summary = {'updated': pd.to_datetime(dt_today), 'since': pd.to_datetime(dt_yday)}\n",
    "summary = {**summary, **df_table[metrics].sum(), **s_ind, **s_us, **s_eu}"
   ]
  },
  {
   "cell_type": "code",
   "execution_count": 18,
   "id": "engaging-syndrome",
   "metadata": {
    "execution": {
     "iopub.execute_input": "2021-11-01T00:25:55.946706Z",
     "iopub.status.busy": "2021-11-01T00:25:55.946063Z",
     "iopub.status.idle": "2021-11-01T00:25:55.959807Z",
     "shell.execute_reply": "2021-11-01T00:25:55.960258Z"
    },
    "papermill": {
     "duration": 0.055686,
     "end_time": "2021-11-01T00:25:55.960401",
     "exception": false,
     "start_time": "2021-11-01T00:25:55.904715",
     "status": "completed"
    },
    "tags": []
   },
   "outputs": [],
   "source": [
    "#hide\n",
    "dft_ct_new_cases = dft_cases.groupby(COL_REGION)[dt_cols].sum().diff(axis=1).fillna(0).astype(int)"
   ]
  },
  {
   "cell_type": "code",
   "execution_count": 19,
   "id": "neutral-assignment",
   "metadata": {
    "execution": {
     "iopub.execute_input": "2021-11-01T00:25:56.042866Z",
     "iopub.status.busy": "2021-11-01T00:25:56.042141Z",
     "iopub.status.idle": "2021-11-01T00:25:56.044279Z",
     "shell.execute_reply": "2021-11-01T00:25:56.044861Z"
    },
    "papermill": {
     "duration": 0.047407,
     "end_time": "2021-11-01T00:25:56.045005",
     "exception": false,
     "start_time": "2021-11-01T00:25:55.997598",
     "status": "completed"
    },
    "tags": []
   },
   "outputs": [],
   "source": [
    "#hide\n",
    "everydaycases = dft_ct_new_cases.cumsum(axis=1)"
   ]
  },
  {
   "cell_type": "code",
   "execution_count": 20,
   "id": "parliamentary-calgary",
   "metadata": {
    "execution": {
     "iopub.execute_input": "2021-11-01T00:25:56.126247Z",
     "iopub.status.busy": "2021-11-01T00:25:56.125620Z",
     "iopub.status.idle": "2021-11-01T00:25:56.779288Z",
     "shell.execute_reply": "2021-11-01T00:25:56.779825Z"
    },
    "papermill": {
     "duration": 0.69628,
     "end_time": "2021-11-01T00:25:56.780080",
     "exception": false,
     "start_time": "2021-11-01T00:25:56.083800",
     "status": "completed"
    },
    "tags": []
   },
   "outputs": [],
   "source": [
    "#hide\n",
    "import pandas as pd\n",
    "import matplotlib.pyplot as plt\n",
    "import matplotlib.ticker as ticker\n",
    "import matplotlib.animation as animation\n",
    "from IPython.display import HTML"
   ]
  },
  {
   "cell_type": "code",
   "execution_count": 21,
   "id": "lasting-extraction",
   "metadata": {
    "execution": {
     "iopub.execute_input": "2021-11-01T00:25:56.859689Z",
     "iopub.status.busy": "2021-11-01T00:25:56.859035Z",
     "iopub.status.idle": "2021-11-01T00:25:56.864802Z",
     "shell.execute_reply": "2021-11-01T00:25:56.865381Z"
    },
    "papermill": {
     "duration": 0.047907,
     "end_time": "2021-11-01T00:25:56.865523",
     "exception": false,
     "start_time": "2021-11-01T00:25:56.817616",
     "status": "completed"
    },
    "tags": []
   },
   "outputs": [],
   "source": [
    "#hide\n",
    "t = everydaycases.stack()"
   ]
  },
  {
   "cell_type": "code",
   "execution_count": 22,
   "id": "premier-sleeve",
   "metadata": {
    "execution": {
     "iopub.execute_input": "2021-11-01T00:25:56.949818Z",
     "iopub.status.busy": "2021-11-01T00:25:56.949117Z",
     "iopub.status.idle": "2021-11-01T00:25:56.963347Z",
     "shell.execute_reply": "2021-11-01T00:25:56.963954Z"
    },
    "papermill": {
     "duration": 0.062179,
     "end_time": "2021-11-01T00:25:56.964101",
     "exception": false,
     "start_time": "2021-11-01T00:25:56.901922",
     "status": "completed"
    },
    "tags": []
   },
   "outputs": [],
   "source": [
    "#hide\n",
    "g = t.reset_index(['Country/Region'])"
   ]
  },
  {
   "cell_type": "code",
   "execution_count": 23,
   "id": "distributed-pittsburgh",
   "metadata": {
    "execution": {
     "iopub.execute_input": "2021-11-01T00:25:57.043029Z",
     "iopub.status.busy": "2021-11-01T00:25:57.042326Z",
     "iopub.status.idle": "2021-11-01T00:25:57.044251Z",
     "shell.execute_reply": "2021-11-01T00:25:57.044794Z"
    },
    "papermill": {
     "duration": 0.043815,
     "end_time": "2021-11-01T00:25:57.044938",
     "exception": false,
     "start_time": "2021-11-01T00:25:57.001123",
     "status": "completed"
    },
    "tags": []
   },
   "outputs": [],
   "source": [
    "#hide\n",
    "g.index.name = 'date'"
   ]
  },
  {
   "cell_type": "code",
   "execution_count": 24,
   "id": "naked-donor",
   "metadata": {
    "execution": {
     "iopub.execute_input": "2021-11-01T00:25:57.123800Z",
     "iopub.status.busy": "2021-11-01T00:25:57.123171Z",
     "iopub.status.idle": "2021-11-01T00:25:57.125571Z",
     "shell.execute_reply": "2021-11-01T00:25:57.125077Z"
    },
    "papermill": {
     "duration": 0.043018,
     "end_time": "2021-11-01T00:25:57.125687",
     "exception": false,
     "start_time": "2021-11-01T00:25:57.082669",
     "status": "completed"
    },
    "tags": []
   },
   "outputs": [],
   "source": [
    "# #hide\n",
    "# g = g.reset_index(['date'])"
   ]
  },
  {
   "cell_type": "code",
   "execution_count": 25,
   "id": "incomplete-mustang",
   "metadata": {
    "execution": {
     "iopub.execute_input": "2021-11-01T00:25:57.203385Z",
     "iopub.status.busy": "2021-11-01T00:25:57.202700Z",
     "iopub.status.idle": "2021-11-01T00:25:57.205224Z",
     "shell.execute_reply": "2021-11-01T00:25:57.205918Z"
    },
    "papermill": {
     "duration": 0.042214,
     "end_time": "2021-11-01T00:25:57.206069",
     "exception": false,
     "start_time": "2021-11-01T00:25:57.163855",
     "status": "completed"
    },
    "tags": []
   },
   "outputs": [],
   "source": [
    "#hide\n",
    "# g.head()"
   ]
  },
  {
   "cell_type": "code",
   "execution_count": 26,
   "id": "specific-kruger",
   "metadata": {
    "execution": {
     "iopub.execute_input": "2021-11-01T00:25:57.283048Z",
     "iopub.status.busy": "2021-11-01T00:25:57.282324Z",
     "iopub.status.idle": "2021-11-01T00:25:57.284350Z",
     "shell.execute_reply": "2021-11-01T00:25:57.284959Z"
    },
    "papermill": {
     "duration": 0.042278,
     "end_time": "2021-11-01T00:25:57.285089",
     "exception": false,
     "start_time": "2021-11-01T00:25:57.242811",
     "status": "completed"
    },
    "tags": []
   },
   "outputs": [],
   "source": [
    "#hide\n",
    "# g.columns = ['date','country','cases']"
   ]
  },
  {
   "cell_type": "code",
   "execution_count": 27,
   "id": "tender-conversion",
   "metadata": {
    "execution": {
     "iopub.execute_input": "2021-11-01T00:25:57.362521Z",
     "iopub.status.busy": "2021-11-01T00:25:57.361700Z",
     "iopub.status.idle": "2021-11-01T00:25:57.363675Z",
     "shell.execute_reply": "2021-11-01T00:25:57.364305Z"
    },
    "papermill": {
     "duration": 0.043375,
     "end_time": "2021-11-01T00:25:57.364450",
     "exception": false,
     "start_time": "2021-11-01T00:25:57.321075",
     "status": "completed"
    },
    "tags": []
   },
   "outputs": [],
   "source": [
    "#hide\n",
    "# g['continent'] = g.country"
   ]
  },
  {
   "cell_type": "code",
   "execution_count": 28,
   "id": "substantial-wilderness",
   "metadata": {
    "execution": {
     "iopub.execute_input": "2021-11-01T00:25:57.441955Z",
     "iopub.status.busy": "2021-11-01T00:25:57.441314Z",
     "iopub.status.idle": "2021-11-01T00:25:57.443300Z",
     "shell.execute_reply": "2021-11-01T00:25:57.443905Z"
    },
    "papermill": {
     "duration": 0.041239,
     "end_time": "2021-11-01T00:25:57.444040",
     "exception": false,
     "start_time": "2021-11-01T00:25:57.402801",
     "status": "completed"
    },
    "tags": []
   },
   "outputs": [],
   "source": [
    "#hide\n",
    "# cols = list(g.columns.values)"
   ]
  },
  {
   "cell_type": "code",
   "execution_count": 29,
   "id": "solved-farming",
   "metadata": {
    "execution": {
     "iopub.execute_input": "2021-11-01T00:25:57.521616Z",
     "iopub.status.busy": "2021-11-01T00:25:57.520767Z",
     "iopub.status.idle": "2021-11-01T00:25:57.523283Z",
     "shell.execute_reply": "2021-11-01T00:25:57.522583Z"
    },
    "papermill": {
     "duration": 0.043787,
     "end_time": "2021-11-01T00:25:57.523405",
     "exception": false,
     "start_time": "2021-11-01T00:25:57.479618",
     "status": "completed"
    },
    "tags": []
   },
   "outputs": [],
   "source": [
    "#hide\n",
    "# cols.insert(0, cols.pop())"
   ]
  },
  {
   "cell_type": "code",
   "execution_count": 30,
   "id": "executed-adoption",
   "metadata": {
    "execution": {
     "iopub.execute_input": "2021-11-01T00:25:57.603042Z",
     "iopub.status.busy": "2021-11-01T00:25:57.602332Z",
     "iopub.status.idle": "2021-11-01T00:25:57.604334Z",
     "shell.execute_reply": "2021-11-01T00:25:57.604899Z"
    },
    "papermill": {
     "duration": 0.044029,
     "end_time": "2021-11-01T00:25:57.605042",
     "exception": false,
     "start_time": "2021-11-01T00:25:57.561013",
     "status": "completed"
    },
    "tags": []
   },
   "outputs": [],
   "source": [
    "#hide\n",
    "# g = g[cols]"
   ]
  },
  {
   "cell_type": "code",
   "execution_count": 31,
   "id": "subject-dublin",
   "metadata": {
    "execution": {
     "iopub.execute_input": "2021-11-01T00:25:57.689244Z",
     "iopub.status.busy": "2021-11-01T00:25:57.688584Z",
     "iopub.status.idle": "2021-11-01T00:25:57.691103Z",
     "shell.execute_reply": "2021-11-01T00:25:57.691612Z"
    },
    "papermill": {
     "duration": 0.046438,
     "end_time": "2021-11-01T00:25:57.693253",
     "exception": false,
     "start_time": "2021-11-01T00:25:57.646815",
     "status": "completed"
    },
    "tags": []
   },
   "outputs": [],
   "source": [
    "#hide\n",
    "# g['continent'] = g['continent'].map(mapping['map.continent'])"
   ]
  },
  {
   "cell_type": "code",
   "execution_count": 32,
   "id": "freelance-scout",
   "metadata": {
    "execution": {
     "iopub.execute_input": "2021-11-01T00:25:57.779862Z",
     "iopub.status.busy": "2021-11-01T00:25:57.779200Z",
     "iopub.status.idle": "2021-11-01T00:25:57.781036Z",
     "shell.execute_reply": "2021-11-01T00:25:57.781673Z"
    },
    "papermill": {
     "duration": 0.044936,
     "end_time": "2021-11-01T00:25:57.781821",
     "exception": false,
     "start_time": "2021-11-01T00:25:57.736885",
     "status": "completed"
    },
    "tags": []
   },
   "outputs": [],
   "source": [
    "#hide\n",
    "# g.head()"
   ]
  },
  {
   "cell_type": "code",
   "execution_count": 33,
   "id": "limited-engine",
   "metadata": {
    "execution": {
     "iopub.execute_input": "2021-11-01T00:25:57.861248Z",
     "iopub.status.busy": "2021-11-01T00:25:57.860569Z",
     "iopub.status.idle": "2021-11-01T00:25:57.863099Z",
     "shell.execute_reply": "2021-11-01T00:25:57.862412Z"
    },
    "papermill": {
     "duration": 0.043827,
     "end_time": "2021-11-01T00:25:57.863225",
     "exception": false,
     "start_time": "2021-11-01T00:25:57.819398",
     "status": "completed"
    },
    "tags": []
   },
   "outputs": [],
   "source": [
    "# hide\n",
    "# g['date'] = g['date'].astype('datetime64[ns]')"
   ]
  },
  {
   "cell_type": "code",
   "execution_count": 34,
   "id": "sophisticated-supervisor",
   "metadata": {
    "execution": {
     "iopub.execute_input": "2021-11-01T00:25:57.941396Z",
     "iopub.status.busy": "2021-11-01T00:25:57.940771Z",
     "iopub.status.idle": "2021-11-01T00:25:57.942827Z",
     "shell.execute_reply": "2021-11-01T00:25:57.943334Z"
    },
    "papermill": {
     "duration": 0.042325,
     "end_time": "2021-11-01T00:25:57.943464",
     "exception": false,
     "start_time": "2021-11-01T00:25:57.901139",
     "status": "completed"
    },
    "tags": []
   },
   "outputs": [],
   "source": [
    "#hide\n",
    "# g['date'] = g.date.dt.dayofyear"
   ]
  },
  {
   "cell_type": "code",
   "execution_count": 35,
   "id": "inside-dubai",
   "metadata": {
    "execution": {
     "iopub.execute_input": "2021-11-01T00:25:58.019188Z",
     "iopub.status.busy": "2021-11-01T00:25:58.018498Z",
     "iopub.status.idle": "2021-11-01T00:25:58.020646Z",
     "shell.execute_reply": "2021-11-01T00:25:58.021238Z"
    },
    "papermill": {
     "duration": 0.041608,
     "end_time": "2021-11-01T00:25:58.021369",
     "exception": false,
     "start_time": "2021-11-01T00:25:57.979761",
     "status": "completed"
    },
    "tags": []
   },
   "outputs": [],
   "source": [
    "#hide\n",
    "# g = g.rename(columns= {'continent':'group','country':'name','cases':'value'})"
   ]
  },
  {
   "cell_type": "code",
   "execution_count": 36,
   "id": "fleet-motorcycle",
   "metadata": {
    "execution": {
     "iopub.execute_input": "2021-11-01T00:25:58.104257Z",
     "iopub.status.busy": "2021-11-01T00:25:58.103593Z",
     "iopub.status.idle": "2021-11-01T00:25:58.105563Z",
     "shell.execute_reply": "2021-11-01T00:25:58.106092Z"
    },
    "papermill": {
     "duration": 0.04507,
     "end_time": "2021-11-01T00:25:58.106233",
     "exception": false,
     "start_time": "2021-11-01T00:25:58.061163",
     "status": "completed"
    },
    "tags": []
   },
   "outputs": [],
   "source": [
    "#hide\n",
    "# cols = ['name','group','day','value']"
   ]
  },
  {
   "cell_type": "code",
   "execution_count": 37,
   "id": "continued-sleeping",
   "metadata": {
    "execution": {
     "iopub.execute_input": "2021-11-01T00:25:58.184864Z",
     "iopub.status.busy": "2021-11-01T00:25:58.184195Z",
     "iopub.status.idle": "2021-11-01T00:25:58.186778Z",
     "shell.execute_reply": "2021-11-01T00:25:58.187361Z"
    },
    "papermill": {
     "duration": 0.044066,
     "end_time": "2021-11-01T00:25:58.187520",
     "exception": false,
     "start_time": "2021-11-01T00:25:58.143454",
     "status": "completed"
    },
    "tags": []
   },
   "outputs": [],
   "source": [
    "#hide\n",
    "# g.rename(columns= {'date':'day'},inplace = True)"
   ]
  },
  {
   "cell_type": "code",
   "execution_count": 38,
   "id": "major-fight",
   "metadata": {
    "execution": {
     "iopub.execute_input": "2021-11-01T00:25:58.269444Z",
     "iopub.status.busy": "2021-11-01T00:25:58.268781Z",
     "iopub.status.idle": "2021-11-01T00:25:58.270921Z",
     "shell.execute_reply": "2021-11-01T00:25:58.271426Z"
    },
    "papermill": {
     "duration": 0.043961,
     "end_time": "2021-11-01T00:25:58.271557",
     "exception": false,
     "start_time": "2021-11-01T00:25:58.227596",
     "status": "completed"
    },
    "tags": []
   },
   "outputs": [],
   "source": [
    "#hide\n",
    "# g = g[cols]"
   ]
  },
  {
   "cell_type": "code",
   "execution_count": 39,
   "id": "structured-mobile",
   "metadata": {
    "execution": {
     "iopub.execute_input": "2021-11-01T00:25:58.349385Z",
     "iopub.status.busy": "2021-11-01T00:25:58.348716Z",
     "iopub.status.idle": "2021-11-01T00:25:58.351229Z",
     "shell.execute_reply": "2021-11-01T00:25:58.350562Z"
    },
    "papermill": {
     "duration": 0.043906,
     "end_time": "2021-11-01T00:25:58.351356",
     "exception": false,
     "start_time": "2021-11-01T00:25:58.307450",
     "status": "completed"
    },
    "tags": []
   },
   "outputs": [],
   "source": [
    "# #hide\n",
    "# g = g[g.group.notna()]"
   ]
  },
  {
   "cell_type": "code",
   "execution_count": 40,
   "id": "determined-closing",
   "metadata": {
    "execution": {
     "iopub.execute_input": "2021-11-01T00:25:58.440430Z",
     "iopub.status.busy": "2021-11-01T00:25:58.439749Z",
     "iopub.status.idle": "2021-11-01T00:25:58.441784Z",
     "shell.execute_reply": "2021-11-01T00:25:58.442297Z"
    },
    "papermill": {
     "duration": 0.044411,
     "end_time": "2021-11-01T00:25:58.442437",
     "exception": false,
     "start_time": "2021-11-01T00:25:58.398026",
     "status": "completed"
    },
    "tags": []
   },
   "outputs": [],
   "source": [
    "# #hide\n",
    "# colors = dict(zip(\n",
    "#     [\"Oceania\", \"Europe\", \"Asia\", \"South America\", \"Middle East\", \"North America\", \"Africa\"],\n",
    "#     [\"#adb0ff\", \"#ffb3ff\", \"#90d595\", \"#e48381\", \"#aafbff\", \"#f7bb5f\", \"#eafb50\"]\n",
    "# ))\n",
    "# group_lk = g.set_index('name')['group'].to_dict()"
   ]
  },
  {
   "cell_type": "code",
   "execution_count": null,
   "id": "gross-drinking",
   "metadata": {
    "papermill": {
     "duration": 0.036757,
     "end_time": "2021-11-01T00:25:58.516383",
     "exception": false,
     "start_time": "2021-11-01T00:25:58.479626",
     "status": "completed"
    },
    "tags": []
   },
   "outputs": [],
   "source": []
  },
  {
   "cell_type": "code",
   "execution_count": 41,
   "id": "subject-macintosh",
   "metadata": {
    "execution": {
     "iopub.execute_input": "2021-11-01T00:25:58.595942Z",
     "iopub.status.busy": "2021-11-01T00:25:58.595259Z",
     "iopub.status.idle": "2021-11-01T00:25:58.597858Z",
     "shell.execute_reply": "2021-11-01T00:25:58.597358Z"
    },
    "papermill": {
     "duration": 0.044362,
     "end_time": "2021-11-01T00:25:58.597983",
     "exception": false,
     "start_time": "2021-11-01T00:25:58.553621",
     "status": "completed"
    },
    "tags": []
   },
   "outputs": [],
   "source": [
    "# #hide\n",
    "# fig, ax = plt.subplots(figsize=(15, 8))\n",
    "\n",
    "# def draw_barchart(current_day):\n",
    "#     dff = g[g['day'].eq(current_day)].sort_values(by='value', ascending=True).tail(10)\n",
    "#     ax.clear()\n",
    "#     ax.barh(dff['name'], dff['value'], color=[colors[group_lk[x]] for x in dff['name']])\n",
    "#     dx = dff['value'].max() / 200\n",
    "    \n",
    "#     for i, (value, name) in enumerate(zip(dff['value'], dff['name'])):\n",
    "#         ax.text(value-dx, i,     name,           size=14, weight=600, ha='right', va='bottom')\n",
    "#         ax.text(value-dx, i-.25, group_lk[name], size=10, color='#444444', ha='right', va='baseline')\n",
    "#         ax.text(value+dx, i,     f'{value:,.0f}',  size=14, ha='left',  va='center')\n",
    "#     ax.text(1, 0.4, current_day, transform=ax.transAxes, color='#777777', size=46, ha='right', weight=800)\n",
    "#     ax.text(0, 1.06, 'Population (thousands)', transform=ax.transAxes, size=12, color='#777777')\n",
    "#     ax.xaxis.set_major_formatter(ticker.StrMethodFormatter('{x:,.0f}'))\n",
    "#     ax.xaxis.set_ticks_position('top')\n",
    "#     ax.tick_params(axis='x', colors='#777777', labelsize=12)\n",
    "#     ax.set_yticks([])\n",
    "#     ax.margins(0, 0.01)\n",
    "#     ax.grid(which='major', axis='x', linestyle='-')\n",
    "#     ax.set_axisbelow(True)\n",
    "    \n",
    "#     ax.text(0, 1.15, 'Coronavirus',\n",
    "#             transform=ax.transAxes, size=24, weight=600, ha='left', va='top')\n",
    "# #     ax.text(1, 0, 'by @pratapvardhan; credit @jburnmurdoch', transform=ax.transAxes, color='#777777', ha='right',\n",
    "# #             bbox=dict(facecolor='white', alpha=0.8, edgecolor='white'))\n",
    "#     plt.box(False)"
   ]
  },
  {
   "cell_type": "code",
   "execution_count": 42,
   "id": "sexual-wages",
   "metadata": {
    "execution": {
     "iopub.execute_input": "2021-11-01T00:25:58.674260Z",
     "iopub.status.busy": "2021-11-01T00:25:58.673606Z",
     "iopub.status.idle": "2021-11-01T00:25:58.675837Z",
     "shell.execute_reply": "2021-11-01T00:25:58.676462Z"
    },
    "papermill": {
     "duration": 0.0432,
     "end_time": "2021-11-01T00:25:58.676590",
     "exception": false,
     "start_time": "2021-11-01T00:25:58.633390",
     "status": "completed"
    },
    "tags": []
   },
   "outputs": [],
   "source": [
    "# #hide_input\n",
    "# fig, ax = plt.subplots(figsize=(15, 8))\n",
    "# animator = animation.FuncAnimation(fig, draw_barchart, frames=range(g.day.values.min(), g.day.values.max()))\n",
    "# HTML(animator.to_jshtml())\n",
    "# # or use animator.to_html5_video() or animator.save() "
   ]
  },
  {
   "cell_type": "code",
   "execution_count": null,
   "id": "australian-container",
   "metadata": {
    "papermill": {
     "duration": 0.036149,
     "end_time": "2021-11-01T00:25:58.749657",
     "exception": false,
     "start_time": "2021-11-01T00:25:58.713508",
     "status": "completed"
    },
    "tags": []
   },
   "outputs": [],
   "source": []
  },
  {
   "cell_type": "code",
   "execution_count": null,
   "id": "mediterranean-pontiac",
   "metadata": {
    "papermill": {
     "duration": 0.03752,
     "end_time": "2021-11-01T00:25:58.823479",
     "exception": false,
     "start_time": "2021-11-01T00:25:58.785959",
     "status": "completed"
    },
    "tags": []
   },
   "outputs": [],
   "source": []
  },
  {
   "cell_type": "code",
   "execution_count": null,
   "id": "aging-legislature",
   "metadata": {
    "papermill": {
     "duration": 0.038033,
     "end_time": "2021-11-01T00:25:58.899367",
     "exception": false,
     "start_time": "2021-11-01T00:25:58.861334",
     "status": "completed"
    },
    "tags": []
   },
   "outputs": [],
   "source": []
  }
 ],
 "metadata": {
  "kernelspec": {
   "display_name": "Python 3",
   "language": "python",
   "name": "python3"
  },
  "language_info": {
   "codemirror_mode": {
    "name": "ipython",
    "version": 3
   },
   "file_extension": ".py",
   "mimetype": "text/x-python",
   "name": "python",
   "nbconvert_exporter": "python",
   "pygments_lexer": "ipython3",
   "version": "3.6.15"
  },
  "papermill": {
   "duration": 6.909333,
   "end_time": "2021-11-01T00:25:59.346740",
   "environment_variables": {},
   "exception": null,
   "input_path": "2020-03-21-covid19exp.ipynb",
   "output_path": "2020-03-21-covid19exp.ipynb",
   "parameters": {},
   "start_time": "2021-11-01T00:25:52.437407",
   "version": "2.0.0"
  }
 },
 "nbformat": 4,
 "nbformat_minor": 5
}