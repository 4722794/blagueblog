{
 "cells": [
  {
   "cell_type": "markdown",
   "metadata": {
    "papermill": {
     "duration": 0.036936,
     "end_time": "2020-11-21T00:09:53.808902",
     "exception": false,
     "start_time": "2020-11-21T00:09:53.771966",
     "status": "completed"
    },
    "tags": []
   },
   "source": [
    "# COVID-19 Case Race\n",
    "> A race chart to see rising cases around the world\n",
    "\n",
    "- author: Hargun Oberoi\n",
    "- image: images/covid-overview.png\n",
    "- hide: false\n",
    "- badges: false"
   ]
  },
  {
   "cell_type": "code",
   "execution_count": 1,
   "metadata": {
    "execution": {
     "iopub.execute_input": "2020-11-21T00:09:53.872756Z",
     "iopub.status.busy": "2020-11-21T00:09:53.872142Z",
     "iopub.status.idle": "2020-11-21T00:09:54.197781Z",
     "shell.execute_reply": "2020-11-21T00:09:54.197180Z"
    },
    "papermill": {
     "duration": 0.359609,
     "end_time": "2020-11-21T00:09:54.197947",
     "exception": false,
     "start_time": "2020-11-21T00:09:53.838338",
     "status": "completed"
    },
    "tags": []
   },
   "outputs": [],
   "source": [
    "#hide\n",
    "import numpy as np\n",
    "import pandas as pd\n",
    "from jinja2 import Template\n",
    "from IPython.display import HTML"
   ]
  },
  {
   "cell_type": "code",
   "execution_count": 2,
   "metadata": {
    "execution": {
     "iopub.execute_input": "2020-11-21T00:09:54.263421Z",
     "iopub.status.busy": "2020-11-21T00:09:54.262545Z",
     "iopub.status.idle": "2020-11-21T00:09:54.264326Z",
     "shell.execute_reply": "2020-11-21T00:09:54.264990Z"
    },
    "papermill": {
     "duration": 0.037066,
     "end_time": "2020-11-21T00:09:54.265214",
     "exception": false,
     "start_time": "2020-11-21T00:09:54.228148",
     "status": "completed"
    },
    "tags": []
   },
   "outputs": [],
   "source": [
    "#hide\n",
    "\n",
    "# FETCH\n",
    "base_url = 'https://raw.githubusercontent.com/pratapvardhan/notebooks/master/covid19/'\n",
    "paths = {\n",
    "    'mapping': base_url + 'mapping_countries.csv',\n",
    "    'overview': base_url + 'overview.tpl'\n",
    "}"
   ]
  },
  {
   "cell_type": "code",
   "execution_count": 3,
   "metadata": {
    "execution": {
     "iopub.execute_input": "2020-11-21T00:09:54.329798Z",
     "iopub.status.busy": "2020-11-21T00:09:54.329210Z",
     "iopub.status.idle": "2020-11-21T00:09:54.332680Z",
     "shell.execute_reply": "2020-11-21T00:09:54.332186Z"
    },
    "papermill": {
     "duration": 0.039472,
     "end_time": "2020-11-21T00:09:54.332797",
     "exception": false,
     "start_time": "2020-11-21T00:09:54.293325",
     "status": "completed"
    },
    "tags": []
   },
   "outputs": [
    {
     "data": {
      "text/plain": [
       "'https://raw.githubusercontent.com/pratapvardhan/notebooks/master/covid19/mapping_countries.csv'"
      ]
     },
     "execution_count": 3,
     "metadata": {},
     "output_type": "execute_result"
    }
   ],
   "source": [
    "#hide\n",
    "paths['mapping']"
   ]
  },
  {
   "cell_type": "code",
   "execution_count": 4,
   "metadata": {
    "execution": {
     "iopub.execute_input": "2020-11-21T00:09:54.392956Z",
     "iopub.status.busy": "2020-11-21T00:09:54.392377Z",
     "iopub.status.idle": "2020-11-21T00:09:54.394782Z",
     "shell.execute_reply": "2020-11-21T00:09:54.395328Z"
    },
    "papermill": {
     "duration": 0.036728,
     "end_time": "2020-11-21T00:09:54.395458",
     "exception": false,
     "start_time": "2020-11-21T00:09:54.358730",
     "status": "completed"
    },
    "tags": []
   },
   "outputs": [],
   "source": [
    "#hide\n",
    "def get_mappings(url):\n",
    "    df = pd.read_csv(url)\n",
    "    return {\n",
    "        'df': df,\n",
    "        'replace.country': dict(df.dropna(subset=['Name']).set_index('Country')['Name']),\n",
    "        'map.continent': dict(df.set_index('Name')['Continent'])\n",
    "    }"
   ]
  },
  {
   "cell_type": "code",
   "execution_count": 5,
   "metadata": {
    "execution": {
     "iopub.execute_input": "2020-11-21T00:09:54.459025Z",
     "iopub.status.busy": "2020-11-21T00:09:54.458488Z",
     "iopub.status.idle": "2020-11-21T00:09:54.500893Z",
     "shell.execute_reply": "2020-11-21T00:09:54.500020Z"
    },
    "papermill": {
     "duration": 0.077426,
     "end_time": "2020-11-21T00:09:54.501037",
     "exception": false,
     "start_time": "2020-11-21T00:09:54.423611",
     "status": "completed"
    },
    "tags": []
   },
   "outputs": [],
   "source": [
    "#hide\n",
    "mapping = get_mappings(paths['mapping'])"
   ]
  },
  {
   "cell_type": "code",
   "execution_count": 6,
   "metadata": {
    "execution": {
     "iopub.execute_input": "2020-11-21T00:09:54.558350Z",
     "iopub.status.busy": "2020-11-21T00:09:54.557870Z",
     "iopub.status.idle": "2020-11-21T00:09:54.559829Z",
     "shell.execute_reply": "2020-11-21T00:09:54.560291Z"
    },
    "papermill": {
     "duration": 0.033699,
     "end_time": "2020-11-21T00:09:54.560419",
     "exception": false,
     "start_time": "2020-11-21T00:09:54.526720",
     "status": "completed"
    },
    "tags": []
   },
   "outputs": [],
   "source": [
    "#hide\n",
    "def get_template(path):\n",
    "    from urllib.parse import urlparse\n",
    "    if bool(urlparse(path).netloc):\n",
    "        from urllib.request import urlopen\n",
    "        return urlopen(path).read().decode('utf8')\n",
    "    return open(path).read()"
   ]
  },
  {
   "cell_type": "code",
   "execution_count": 7,
   "metadata": {
    "execution": {
     "iopub.execute_input": "2020-11-21T00:09:54.621757Z",
     "iopub.status.busy": "2020-11-21T00:09:54.621203Z",
     "iopub.status.idle": "2020-11-21T00:09:54.623618Z",
     "shell.execute_reply": "2020-11-21T00:09:54.624130Z"
    },
    "papermill": {
     "duration": 0.036173,
     "end_time": "2020-11-21T00:09:54.624254",
     "exception": false,
     "start_time": "2020-11-21T00:09:54.588081",
     "status": "completed"
    },
    "tags": []
   },
   "outputs": [],
   "source": [
    "#hide\n",
    "def get_frame(name):\n",
    "    url = (\n",
    "        'https://raw.githubusercontent.com/CSSEGISandData/COVID-19/master/csse_covid_19_data/'\n",
    "        f'csse_covid_19_time_series/time_series_covid19_{name}_global.csv')\n",
    "    df = pd.read_csv(url)\n",
    "    # rename countries\n",
    "    df['Country/Region'] = df['Country/Region'].replace(mapping['replace.country'])\n",
    "    return df"
   ]
  },
  {
   "cell_type": "code",
   "execution_count": 8,
   "metadata": {
    "execution": {
     "iopub.execute_input": "2020-11-21T00:09:54.682711Z",
     "iopub.status.busy": "2020-11-21T00:09:54.682266Z",
     "iopub.status.idle": "2020-11-21T00:09:54.684531Z",
     "shell.execute_reply": "2020-11-21T00:09:54.684073Z"
    },
    "papermill": {
     "duration": 0.034122,
     "end_time": "2020-11-21T00:09:54.684641",
     "exception": false,
     "start_time": "2020-11-21T00:09:54.650519",
     "status": "completed"
    },
    "tags": []
   },
   "outputs": [],
   "source": [
    "#hide\n",
    "def get_dates(df):\n",
    "    dt_cols = df.columns[~df.columns.isin(['Province/State', 'Country/Region', 'Lat', 'Long'])]\n",
    "    LAST_DATE_I = -1\n",
    "    # sometimes last column may be empty, then go backwards\n",
    "    for i in range(-1, -len(dt_cols), -1):\n",
    "        if not df[dt_cols[i]].fillna(0).eq(0).all():\n",
    "            LAST_DATE_I = i\n",
    "            break\n",
    "    return LAST_DATE_I, dt_cols"
   ]
  },
  {
   "cell_type": "code",
   "execution_count": 9,
   "metadata": {
    "execution": {
     "iopub.execute_input": "2020-11-21T00:09:54.740187Z",
     "iopub.status.busy": "2020-11-21T00:09:54.739713Z",
     "iopub.status.idle": "2020-11-21T00:09:55.022158Z",
     "shell.execute_reply": "2020-11-21T00:09:55.021636Z"
    },
    "papermill": {
     "duration": 0.312683,
     "end_time": "2020-11-21T00:09:55.022297",
     "exception": false,
     "start_time": "2020-11-21T00:09:54.709614",
     "status": "completed"
    },
    "tags": []
   },
   "outputs": [],
   "source": [
    "#hide\n",
    "COL_REGION = 'Country/Region'\n",
    "# Confirmed, Recovered, Deaths\n",
    "df = get_frame('confirmed')\n",
    "# dft_: timeseries, dfc_: today country agg\n",
    "dft_cases = df\n",
    "dft_deaths = get_frame('deaths')\n",
    "dft_recovered = get_frame('recovered')\n",
    "LAST_DATE_I, dt_cols = get_dates(df)"
   ]
  },
  {
   "cell_type": "code",
   "execution_count": 10,
   "metadata": {
    "execution": {
     "iopub.execute_input": "2020-11-21T00:09:55.081335Z",
     "iopub.status.busy": "2020-11-21T00:09:55.080738Z",
     "iopub.status.idle": "2020-11-21T00:09:55.082861Z",
     "shell.execute_reply": "2020-11-21T00:09:55.082469Z"
    },
    "papermill": {
     "duration": 0.034116,
     "end_time": "2020-11-21T00:09:55.082965",
     "exception": false,
     "start_time": "2020-11-21T00:09:55.048849",
     "status": "completed"
    },
    "tags": []
   },
   "outputs": [],
   "source": [
    "#hide\n",
    "LAST_DATE_I, dt_cols = get_dates(df)\n",
    "dt_today =dt_cols[LAST_DATE_I]\n",
    "# dt_5day = dt_cols[LAST_DATE_I - 5]\n",
    "dt_yday = dt_cols[LAST_DATE_I - 1]"
   ]
  },
  {
   "cell_type": "code",
   "execution_count": 11,
   "metadata": {
    "execution": {
     "iopub.execute_input": "2020-11-21T00:09:55.144436Z",
     "iopub.status.busy": "2020-11-21T00:09:55.143962Z",
     "iopub.status.idle": "2020-11-21T00:09:55.153431Z",
     "shell.execute_reply": "2020-11-21T00:09:55.152980Z"
    },
    "papermill": {
     "duration": 0.04337,
     "end_time": "2020-11-21T00:09:55.153535",
     "exception": false,
     "start_time": "2020-11-21T00:09:55.110165",
     "status": "completed"
    },
    "tags": []
   },
   "outputs": [],
   "source": [
    "#hide\n",
    "dfc_cases = dft_cases.groupby(COL_REGION)[dt_today].sum()\n",
    "dfc_deaths = dft_deaths.groupby(COL_REGION)[dt_today].sum()\n",
    "# dfp_cases = dft_cases.groupby(COL_REGION)[dt_5day].sum()\n",
    "# dfp_deaths = dft_deaths.groupby(COL_REGION)[dt_5day].sum()\n",
    "dfp_cases = dft_cases.groupby(COL_REGION)[dt_yday].sum()\n",
    "dfp_deaths = dft_deaths.groupby(COL_REGION)[dt_yday].sum()"
   ]
  },
  {
   "cell_type": "code",
   "execution_count": 12,
   "metadata": {
    "execution": {
     "iopub.execute_input": "2020-11-21T00:09:55.212698Z",
     "iopub.status.busy": "2020-11-21T00:09:55.212132Z",
     "iopub.status.idle": "2020-11-21T00:09:55.216932Z",
     "shell.execute_reply": "2020-11-21T00:09:55.216470Z"
    },
    "papermill": {
     "duration": 0.037466,
     "end_time": "2020-11-21T00:09:55.217061",
     "exception": false,
     "start_time": "2020-11-21T00:09:55.179595",
     "status": "completed"
    },
    "tags": []
   },
   "outputs": [],
   "source": [
    "#hide\n",
    "df_table = (pd.DataFrame(dict(Cases = dfc_cases, Deaths = dfc_deaths, PCases = dfp_cases, PDeaths = dfp_deaths))\n",
    "            .sort_values(by = ['Cases','Deaths'], ascending = [False, False])\n",
    "            .reset_index())"
   ]
  },
  {
   "cell_type": "code",
   "execution_count": 13,
   "metadata": {
    "execution": {
     "iopub.execute_input": "2020-11-21T00:09:55.290249Z",
     "iopub.status.busy": "2020-11-21T00:09:55.289660Z",
     "iopub.status.idle": "2020-11-21T00:09:55.297178Z",
     "shell.execute_reply": "2020-11-21T00:09:55.296716Z"
    },
    "papermill": {
     "duration": 0.052969,
     "end_time": "2020-11-21T00:09:55.297295",
     "exception": false,
     "start_time": "2020-11-21T00:09:55.244326",
     "status": "completed"
    },
    "tags": []
   },
   "outputs": [
    {
     "data": {
      "text/html": [
       "<div>\n",
       "<style scoped>\n",
       "    .dataframe tbody tr th:only-of-type {\n",
       "        vertical-align: middle;\n",
       "    }\n",
       "\n",
       "    .dataframe tbody tr th {\n",
       "        vertical-align: top;\n",
       "    }\n",
       "\n",
       "    .dataframe thead th {\n",
       "        text-align: right;\n",
       "    }\n",
       "</style>\n",
       "<table border=\"1\" class=\"dataframe\">\n",
       "  <thead>\n",
       "    <tr style=\"text-align: right;\">\n",
       "      <th></th>\n",
       "      <th>Country/Region</th>\n",
       "      <th>Cases</th>\n",
       "      <th>Deaths</th>\n",
       "      <th>PCases</th>\n",
       "      <th>PDeaths</th>\n",
       "      <th>Cases (+)</th>\n",
       "      <th>Deaths (+)</th>\n",
       "      <th>Fatality Rate</th>\n",
       "      <th>Continent</th>\n",
       "    </tr>\n",
       "  </thead>\n",
       "  <tbody>\n",
       "    <tr>\n",
       "      <th>0</th>\n",
       "      <td>US</td>\n",
       "      <td>11715316</td>\n",
       "      <td>252535</td>\n",
       "      <td>11527483</td>\n",
       "      <td>250520</td>\n",
       "      <td>187833</td>\n",
       "      <td>2015</td>\n",
       "      <td>2.16</td>\n",
       "      <td>North America</td>\n",
       "    </tr>\n",
       "    <tr>\n",
       "      <th>1</th>\n",
       "      <td>India</td>\n",
       "      <td>9004365</td>\n",
       "      <td>132162</td>\n",
       "      <td>8958483</td>\n",
       "      <td>131578</td>\n",
       "      <td>45882</td>\n",
       "      <td>584</td>\n",
       "      <td>1.47</td>\n",
       "      <td>Asia</td>\n",
       "    </tr>\n",
       "    <tr>\n",
       "      <th>2</th>\n",
       "      <td>Brazil</td>\n",
       "      <td>5981767</td>\n",
       "      <td>168061</td>\n",
       "      <td>5945849</td>\n",
       "      <td>167455</td>\n",
       "      <td>35918</td>\n",
       "      <td>606</td>\n",
       "      <td>2.81</td>\n",
       "      <td>South America</td>\n",
       "    </tr>\n",
       "    <tr>\n",
       "      <th>3</th>\n",
       "      <td>France</td>\n",
       "      <td>2137096</td>\n",
       "      <td>47201</td>\n",
       "      <td>2115717</td>\n",
       "      <td>46772</td>\n",
       "      <td>21379</td>\n",
       "      <td>429</td>\n",
       "      <td>2.21</td>\n",
       "      <td>Europe</td>\n",
       "    </tr>\n",
       "    <tr>\n",
       "      <th>4</th>\n",
       "      <td>Russia</td>\n",
       "      <td>1998966</td>\n",
       "      <td>34525</td>\n",
       "      <td>1975629</td>\n",
       "      <td>34068</td>\n",
       "      <td>23337</td>\n",
       "      <td>457</td>\n",
       "      <td>1.73</td>\n",
       "      <td>Europe</td>\n",
       "    </tr>\n",
       "  </tbody>\n",
       "</table>\n",
       "</div>"
      ],
      "text/plain": [
       "  Country/Region     Cases  Deaths    PCases  PDeaths  Cases (+)  Deaths (+)  \\\n",
       "0             US  11715316  252535  11527483   250520     187833        2015   \n",
       "1          India   9004365  132162   8958483   131578      45882         584   \n",
       "2         Brazil   5981767  168061   5945849   167455      35918         606   \n",
       "3         France   2137096   47201   2115717    46772      21379         429   \n",
       "4         Russia   1998966   34525   1975629    34068      23337         457   \n",
       "\n",
       "   Fatality Rate      Continent  \n",
       "0           2.16  North America  \n",
       "1           1.47           Asia  \n",
       "2           2.81  South America  \n",
       "3           2.21         Europe  \n",
       "4           1.73         Europe  "
      ]
     },
     "execution_count": 13,
     "metadata": {},
     "output_type": "execute_result"
    }
   ],
   "source": [
    "#hide\n",
    "for c in 'Cases, Deaths'.split(', '):\n",
    "    df_table[f'{c} (+)'] = (df_table[c] - df_table[f'P{c}']).clip(0)\n",
    "    #Clip ça veut dire, les chiffres negatif sont interdit\n",
    "df_table['Fatality Rate'] = (100* df_table['Deaths']/ df_table['Cases']).round(2)\n",
    "df_table['Continent'] = df_table['Country/Region'].map(mapping['map.continent'])\n",
    "df_table.head(5)"
   ]
  },
  {
   "cell_type": "code",
   "execution_count": 14,
   "metadata": {
    "execution": {
     "iopub.execute_input": "2020-11-21T00:09:55.360152Z",
     "iopub.status.busy": "2020-11-21T00:09:55.359609Z",
     "iopub.status.idle": "2020-11-21T00:09:55.363631Z",
     "shell.execute_reply": "2020-11-21T00:09:55.364147Z"
    },
    "papermill": {
     "duration": 0.037541,
     "end_time": "2020-11-21T00:09:55.364289",
     "exception": false,
     "start_time": "2020-11-21T00:09:55.326748",
     "status": "completed"
    },
    "tags": []
   },
   "outputs": [],
   "source": [
    "#hide\n",
    "#delete problematic countries from table\n",
    "df_table = df_table[~df_table['Country/Region'].isin(['Cape Verde', 'Cruise Ship', 'Kosovo'])]"
   ]
  },
  {
   "cell_type": "code",
   "execution_count": 15,
   "metadata": {
    "execution": {
     "iopub.execute_input": "2020-11-21T00:09:55.428940Z",
     "iopub.status.busy": "2020-11-21T00:09:55.428364Z",
     "iopub.status.idle": "2020-11-21T00:09:55.446234Z",
     "shell.execute_reply": "2020-11-21T00:09:55.445741Z"
    },
    "papermill": {
     "duration": 0.0559,
     "end_time": "2020-11-21T00:09:55.446350",
     "exception": false,
     "start_time": "2020-11-21T00:09:55.390450",
     "status": "completed"
    },
    "tags": []
   },
   "outputs": [
    {
     "data": {
      "text/html": [
       "<div>\n",
       "<style scoped>\n",
       "    .dataframe tbody tr th:only-of-type {\n",
       "        vertical-align: middle;\n",
       "    }\n",
       "\n",
       "    .dataframe tbody tr th {\n",
       "        vertical-align: top;\n",
       "    }\n",
       "\n",
       "    .dataframe thead th {\n",
       "        text-align: right;\n",
       "    }\n",
       "</style>\n",
       "<table border=\"1\" class=\"dataframe\">\n",
       "  <thead>\n",
       "    <tr style=\"text-align: right;\">\n",
       "      <th></th>\n",
       "      <th>Country/Region</th>\n",
       "      <th>Cases</th>\n",
       "      <th>Deaths</th>\n",
       "      <th>PCases</th>\n",
       "      <th>PDeaths</th>\n",
       "      <th>Cases (+)</th>\n",
       "      <th>Deaths (+)</th>\n",
       "      <th>Fatality Rate</th>\n",
       "      <th>Continent</th>\n",
       "    </tr>\n",
       "  </thead>\n",
       "  <tbody>\n",
       "    <tr>\n",
       "      <th>0</th>\n",
       "      <td>US</td>\n",
       "      <td>11715316</td>\n",
       "      <td>252535</td>\n",
       "      <td>11527483</td>\n",
       "      <td>250520</td>\n",
       "      <td>187833</td>\n",
       "      <td>2015</td>\n",
       "      <td>2.2</td>\n",
       "      <td>North America</td>\n",
       "    </tr>\n",
       "    <tr>\n",
       "      <th>1</th>\n",
       "      <td>India</td>\n",
       "      <td>9004365</td>\n",
       "      <td>132162</td>\n",
       "      <td>8958483</td>\n",
       "      <td>131578</td>\n",
       "      <td>45882</td>\n",
       "      <td>584</td>\n",
       "      <td>1.5</td>\n",
       "      <td>Asia</td>\n",
       "    </tr>\n",
       "    <tr>\n",
       "      <th>2</th>\n",
       "      <td>Brazil</td>\n",
       "      <td>5981767</td>\n",
       "      <td>168061</td>\n",
       "      <td>5945849</td>\n",
       "      <td>167455</td>\n",
       "      <td>35918</td>\n",
       "      <td>606</td>\n",
       "      <td>2.8</td>\n",
       "      <td>South America</td>\n",
       "    </tr>\n",
       "    <tr>\n",
       "      <th>3</th>\n",
       "      <td>France</td>\n",
       "      <td>2137096</td>\n",
       "      <td>47201</td>\n",
       "      <td>2115717</td>\n",
       "      <td>46772</td>\n",
       "      <td>21379</td>\n",
       "      <td>429</td>\n",
       "      <td>2.2</td>\n",
       "      <td>Europe</td>\n",
       "    </tr>\n",
       "    <tr>\n",
       "      <th>4</th>\n",
       "      <td>Russia</td>\n",
       "      <td>1998966</td>\n",
       "      <td>34525</td>\n",
       "      <td>1975629</td>\n",
       "      <td>34068</td>\n",
       "      <td>23337</td>\n",
       "      <td>457</td>\n",
       "      <td>1.7</td>\n",
       "      <td>Europe</td>\n",
       "    </tr>\n",
       "  </tbody>\n",
       "</table>\n",
       "</div>"
      ],
      "text/plain": [
       "  Country/Region     Cases  Deaths    PCases  PDeaths  Cases (+)  Deaths (+)  \\\n",
       "0             US  11715316  252535  11527483   250520     187833        2015   \n",
       "1          India   9004365  132162   8958483   131578      45882         584   \n",
       "2         Brazil   5981767  168061   5945849   167455      35918         606   \n",
       "3         France   2137096   47201   2115717    46772      21379         429   \n",
       "4         Russia   1998966   34525   1975629    34068      23337         457   \n",
       "\n",
       "   Fatality Rate      Continent  \n",
       "0            2.2  North America  \n",
       "1            1.5           Asia  \n",
       "2            2.8  South America  \n",
       "3            2.2         Europe  \n",
       "4            1.7         Europe  "
      ]
     },
     "execution_count": 15,
     "metadata": {},
     "output_type": "execute_result"
    }
   ],
   "source": [
    "#hide\n",
    "df_table = (pd.DataFrame(dict(Cases=dfc_cases, Deaths=dfc_deaths, PCases=dfp_cases, PDeaths=dfp_deaths))\n",
    "             .sort_values(by=['Cases', 'Deaths'], ascending=[False, False])\n",
    "             .reset_index())\n",
    "df_table.rename(columns={'index': 'Country/Region'}, inplace=True)\n",
    "for c in 'Cases, Deaths'.split(', '):\n",
    "    df_table[f'{c} (+)'] = (df_table[c] - df_table[f'P{c}']).clip(0)  # DATA BUG\n",
    "df_table['Fatality Rate'] = (100 * df_table['Deaths'] / df_table['Cases']).round(1)\n",
    "df_table['Continent'] = df_table['Country/Region'].map(mapping['map.continent'])\n",
    "df_table.head(5)"
   ]
  },
  {
   "cell_type": "code",
   "execution_count": 16,
   "metadata": {
    "execution": {
     "iopub.execute_input": "2020-11-21T00:09:55.512406Z",
     "iopub.status.busy": "2020-11-21T00:09:55.511813Z",
     "iopub.status.idle": "2020-11-21T00:09:55.514175Z",
     "shell.execute_reply": "2020-11-21T00:09:55.514728Z"
    },
    "papermill": {
     "duration": 0.039529,
     "end_time": "2020-11-21T00:09:55.514863",
     "exception": false,
     "start_time": "2020-11-21T00:09:55.475334",
     "status": "completed"
    },
    "tags": []
   },
   "outputs": [],
   "source": [
    "#hide\n",
    "#delete problematic countries from table\n",
    "df_table = df_table[~df_table['Country/Region'].isin(['Cape Verde', 'Cruise Ship', 'Kosovo'])]"
   ]
  },
  {
   "cell_type": "code",
   "execution_count": 17,
   "metadata": {
    "execution": {
     "iopub.execute_input": "2020-11-21T00:09:55.590361Z",
     "iopub.status.busy": "2020-11-21T00:09:55.589806Z",
     "iopub.status.idle": "2020-11-21T00:09:55.591807Z",
     "shell.execute_reply": "2020-11-21T00:09:55.592416Z"
    },
    "papermill": {
     "duration": 0.04869,
     "end_time": "2020-11-21T00:09:55.592542",
     "exception": false,
     "start_time": "2020-11-21T00:09:55.543852",
     "status": "completed"
    },
    "tags": []
   },
   "outputs": [],
   "source": [
    "#hide\n",
    "metrics = [df_table.columns[index] for index in [1,2,5,6]]\n",
    "# s_china = df_table[df_table['Country/Region'].eq('China')][metrics].sum().add_prefix('China ')\n",
    "s_us = df_table[df_table['Country/Region'].eq('US')][metrics].sum().add_prefix('US ')\n",
    "s_eu = df_table[df_table['Continent'].eq('Europe')][metrics].sum().add_prefix('EU ')\n",
    "s_ind = df_table[df_table['Country/Region'].eq('India')][metrics].sum().add_prefix('India ')\n",
    "summary = {'updated': pd.to_datetime(dt_today), 'since': pd.to_datetime(dt_yday)}\n",
    "summary = {'updated': pd.to_datetime(dt_today), 'since': pd.to_datetime(dt_yday)}\n",
    "summary = {**summary, **df_table[metrics].sum(), **s_ind, **s_us, **s_eu}"
   ]
  },
  {
   "cell_type": "code",
   "execution_count": 18,
   "metadata": {
    "execution": {
     "iopub.execute_input": "2020-11-21T00:09:55.658936Z",
     "iopub.status.busy": "2020-11-21T00:09:55.658349Z",
     "iopub.status.idle": "2020-11-21T00:09:55.666636Z",
     "shell.execute_reply": "2020-11-21T00:09:55.666227Z"
    },
    "papermill": {
     "duration": 0.045834,
     "end_time": "2020-11-21T00:09:55.666760",
     "exception": false,
     "start_time": "2020-11-21T00:09:55.620926",
     "status": "completed"
    },
    "tags": []
   },
   "outputs": [],
   "source": [
    "#hide\n",
    "dft_ct_new_cases = dft_cases.groupby(COL_REGION)[dt_cols].sum().diff(axis=1).fillna(0).astype(int)"
   ]
  },
  {
   "cell_type": "code",
   "execution_count": 19,
   "metadata": {
    "execution": {
     "iopub.execute_input": "2020-11-21T00:09:55.730097Z",
     "iopub.status.busy": "2020-11-21T00:09:55.729512Z",
     "iopub.status.idle": "2020-11-21T00:09:55.731913Z",
     "shell.execute_reply": "2020-11-21T00:09:55.732298Z"
    },
    "papermill": {
     "duration": 0.03753,
     "end_time": "2020-11-21T00:09:55.732420",
     "exception": false,
     "start_time": "2020-11-21T00:09:55.694890",
     "status": "completed"
    },
    "tags": []
   },
   "outputs": [],
   "source": [
    "#hide\n",
    "everydaycases = dft_ct_new_cases.cumsum(axis=1)"
   ]
  },
  {
   "cell_type": "code",
   "execution_count": 20,
   "metadata": {
    "execution": {
     "iopub.execute_input": "2020-11-21T00:09:55.795553Z",
     "iopub.status.busy": "2020-11-21T00:09:55.795046Z",
     "iopub.status.idle": "2020-11-21T00:09:56.768381Z",
     "shell.execute_reply": "2020-11-21T00:09:56.767916Z"
    },
    "papermill": {
     "duration": 1.007185,
     "end_time": "2020-11-21T00:09:56.768496",
     "exception": false,
     "start_time": "2020-11-21T00:09:55.761311",
     "status": "completed"
    },
    "tags": []
   },
   "outputs": [],
   "source": [
    "#hide\n",
    "import pandas as pd\n",
    "import matplotlib.pyplot as plt\n",
    "import matplotlib.ticker as ticker\n",
    "import matplotlib.animation as animation\n",
    "from IPython.display import HTML"
   ]
  },
  {
   "cell_type": "code",
   "execution_count": 21,
   "metadata": {
    "execution": {
     "iopub.execute_input": "2020-11-21T00:09:56.827395Z",
     "iopub.status.busy": "2020-11-21T00:09:56.826923Z",
     "iopub.status.idle": "2020-11-21T00:09:56.832765Z",
     "shell.execute_reply": "2020-11-21T00:09:56.833256Z"
    },
    "papermill": {
     "duration": 0.039339,
     "end_time": "2020-11-21T00:09:56.833392",
     "exception": false,
     "start_time": "2020-11-21T00:09:56.794053",
     "status": "completed"
    },
    "tags": []
   },
   "outputs": [],
   "source": [
    "#hide\n",
    "t = everydaycases.stack()"
   ]
  },
  {
   "cell_type": "code",
   "execution_count": 22,
   "metadata": {
    "execution": {
     "iopub.execute_input": "2020-11-21T00:09:56.892351Z",
     "iopub.status.busy": "2020-11-21T00:09:56.891763Z",
     "iopub.status.idle": "2020-11-21T00:09:56.898624Z",
     "shell.execute_reply": "2020-11-21T00:09:56.899067Z"
    },
    "papermill": {
     "duration": 0.037789,
     "end_time": "2020-11-21T00:09:56.899200",
     "exception": false,
     "start_time": "2020-11-21T00:09:56.861411",
     "status": "completed"
    },
    "tags": []
   },
   "outputs": [],
   "source": [
    "#hide\n",
    "g = t.reset_index(['Country/Region'])"
   ]
  },
  {
   "cell_type": "code",
   "execution_count": 23,
   "metadata": {
    "execution": {
     "iopub.execute_input": "2020-11-21T00:09:56.959873Z",
     "iopub.status.busy": "2020-11-21T00:09:56.958851Z",
     "iopub.status.idle": "2020-11-21T00:09:56.960947Z",
     "shell.execute_reply": "2020-11-21T00:09:56.961804Z"
    },
    "papermill": {
     "duration": 0.036745,
     "end_time": "2020-11-21T00:09:56.962035",
     "exception": false,
     "start_time": "2020-11-21T00:09:56.925290",
     "status": "completed"
    },
    "tags": []
   },
   "outputs": [],
   "source": [
    "#hide\n",
    "g.index.name = 'date'"
   ]
  },
  {
   "cell_type": "code",
   "execution_count": 24,
   "metadata": {
    "execution": {
     "iopub.execute_input": "2020-11-21T00:09:57.024149Z",
     "iopub.status.busy": "2020-11-21T00:09:57.023577Z",
     "iopub.status.idle": "2020-11-21T00:09:57.025776Z",
     "shell.execute_reply": "2020-11-21T00:09:57.026189Z"
    },
    "papermill": {
     "duration": 0.034622,
     "end_time": "2020-11-21T00:09:57.026321",
     "exception": false,
     "start_time": "2020-11-21T00:09:56.991699",
     "status": "completed"
    },
    "tags": []
   },
   "outputs": [],
   "source": [
    "# #hide\n",
    "# g = g.reset_index(['date'])"
   ]
  },
  {
   "cell_type": "code",
   "execution_count": 25,
   "metadata": {
    "execution": {
     "iopub.execute_input": "2020-11-21T00:09:57.087195Z",
     "iopub.status.busy": "2020-11-21T00:09:57.086707Z",
     "iopub.status.idle": "2020-11-21T00:09:57.088847Z",
     "shell.execute_reply": "2020-11-21T00:09:57.088362Z"
    },
    "papermill": {
     "duration": 0.03319,
     "end_time": "2020-11-21T00:09:57.088968",
     "exception": false,
     "start_time": "2020-11-21T00:09:57.055778",
     "status": "completed"
    },
    "tags": []
   },
   "outputs": [],
   "source": [
    "#hide\n",
    "# g.head()"
   ]
  },
  {
   "cell_type": "code",
   "execution_count": 26,
   "metadata": {
    "execution": {
     "iopub.execute_input": "2020-11-21T00:09:57.145210Z",
     "iopub.status.busy": "2020-11-21T00:09:57.144708Z",
     "iopub.status.idle": "2020-11-21T00:09:57.147873Z",
     "shell.execute_reply": "2020-11-21T00:09:57.147468Z"
    },
    "papermill": {
     "duration": 0.032771,
     "end_time": "2020-11-21T00:09:57.147970",
     "exception": false,
     "start_time": "2020-11-21T00:09:57.115199",
     "status": "completed"
    },
    "tags": []
   },
   "outputs": [],
   "source": [
    "#hide\n",
    "# g.columns = ['date','country','cases']"
   ]
  },
  {
   "cell_type": "code",
   "execution_count": 27,
   "metadata": {
    "execution": {
     "iopub.execute_input": "2020-11-21T00:09:57.204718Z",
     "iopub.status.busy": "2020-11-21T00:09:57.204147Z",
     "iopub.status.idle": "2020-11-21T00:09:57.206411Z",
     "shell.execute_reply": "2020-11-21T00:09:57.206873Z"
    },
    "papermill": {
     "duration": 0.03373,
     "end_time": "2020-11-21T00:09:57.206984",
     "exception": false,
     "start_time": "2020-11-21T00:09:57.173254",
     "status": "completed"
    },
    "tags": []
   },
   "outputs": [],
   "source": [
    "#hide\n",
    "# g['continent'] = g.country"
   ]
  },
  {
   "cell_type": "code",
   "execution_count": 28,
   "metadata": {
    "execution": {
     "iopub.execute_input": "2020-11-21T00:09:57.263231Z",
     "iopub.status.busy": "2020-11-21T00:09:57.262821Z",
     "iopub.status.idle": "2020-11-21T00:09:57.265738Z",
     "shell.execute_reply": "2020-11-21T00:09:57.266252Z"
    },
    "papermill": {
     "duration": 0.032746,
     "end_time": "2020-11-21T00:09:57.266382",
     "exception": false,
     "start_time": "2020-11-21T00:09:57.233636",
     "status": "completed"
    },
    "tags": []
   },
   "outputs": [],
   "source": [
    "#hide\n",
    "# cols = list(g.columns.values)"
   ]
  },
  {
   "cell_type": "code",
   "execution_count": 29,
   "metadata": {
    "execution": {
     "iopub.execute_input": "2020-11-21T00:09:57.326133Z",
     "iopub.status.busy": "2020-11-21T00:09:57.325548Z",
     "iopub.status.idle": "2020-11-21T00:09:57.327949Z",
     "shell.execute_reply": "2020-11-21T00:09:57.328465Z"
    },
    "papermill": {
     "duration": 0.035384,
     "end_time": "2020-11-21T00:09:57.328591",
     "exception": false,
     "start_time": "2020-11-21T00:09:57.293207",
     "status": "completed"
    },
    "tags": []
   },
   "outputs": [],
   "source": [
    "#hide\n",
    "# cols.insert(0, cols.pop())"
   ]
  },
  {
   "cell_type": "code",
   "execution_count": 30,
   "metadata": {
    "execution": {
     "iopub.execute_input": "2020-11-21T00:09:57.391118Z",
     "iopub.status.busy": "2020-11-21T00:09:57.390559Z",
     "iopub.status.idle": "2020-11-21T00:09:57.392752Z",
     "shell.execute_reply": "2020-11-21T00:09:57.392251Z"
    },
    "papermill": {
     "duration": 0.034604,
     "end_time": "2020-11-21T00:09:57.392873",
     "exception": false,
     "start_time": "2020-11-21T00:09:57.358269",
     "status": "completed"
    },
    "tags": []
   },
   "outputs": [],
   "source": [
    "#hide\n",
    "# g = g[cols]"
   ]
  },
  {
   "cell_type": "code",
   "execution_count": 31,
   "metadata": {
    "execution": {
     "iopub.execute_input": "2020-11-21T00:09:57.451987Z",
     "iopub.status.busy": "2020-11-21T00:09:57.451446Z",
     "iopub.status.idle": "2020-11-21T00:09:57.453296Z",
     "shell.execute_reply": "2020-11-21T00:09:57.453800Z"
    },
    "papermill": {
     "duration": 0.033001,
     "end_time": "2020-11-21T00:09:57.453929",
     "exception": false,
     "start_time": "2020-11-21T00:09:57.420928",
     "status": "completed"
    },
    "tags": []
   },
   "outputs": [],
   "source": [
    "#hide\n",
    "# g['continent'] = g['continent'].map(mapping['map.continent'])"
   ]
  },
  {
   "cell_type": "code",
   "execution_count": 32,
   "metadata": {
    "execution": {
     "iopub.execute_input": "2020-11-21T00:09:57.514027Z",
     "iopub.status.busy": "2020-11-21T00:09:57.513425Z",
     "iopub.status.idle": "2020-11-21T00:09:57.515814Z",
     "shell.execute_reply": "2020-11-21T00:09:57.515378Z"
    },
    "papermill": {
     "duration": 0.033941,
     "end_time": "2020-11-21T00:09:57.515930",
     "exception": false,
     "start_time": "2020-11-21T00:09:57.481989",
     "status": "completed"
    },
    "tags": []
   },
   "outputs": [],
   "source": [
    "#hide\n",
    "# g.head()"
   ]
  },
  {
   "cell_type": "code",
   "execution_count": 33,
   "metadata": {
    "execution": {
     "iopub.execute_input": "2020-11-21T00:09:57.572320Z",
     "iopub.status.busy": "2020-11-21T00:09:57.571815Z",
     "iopub.status.idle": "2020-11-21T00:09:57.573903Z",
     "shell.execute_reply": "2020-11-21T00:09:57.574318Z"
    },
    "papermill": {
     "duration": 0.03274,
     "end_time": "2020-11-21T00:09:57.574450",
     "exception": false,
     "start_time": "2020-11-21T00:09:57.541710",
     "status": "completed"
    },
    "tags": []
   },
   "outputs": [],
   "source": [
    "# hide\n",
    "# g['date'] = g['date'].astype('datetime64[ns]')"
   ]
  },
  {
   "cell_type": "code",
   "execution_count": 34,
   "metadata": {
    "execution": {
     "iopub.execute_input": "2020-11-21T00:09:57.633301Z",
     "iopub.status.busy": "2020-11-21T00:09:57.632726Z",
     "iopub.status.idle": "2020-11-21T00:09:57.635467Z",
     "shell.execute_reply": "2020-11-21T00:09:57.634994Z"
    },
    "papermill": {
     "duration": 0.033991,
     "end_time": "2020-11-21T00:09:57.635565",
     "exception": false,
     "start_time": "2020-11-21T00:09:57.601574",
     "status": "completed"
    },
    "tags": []
   },
   "outputs": [],
   "source": [
    "#hide\n",
    "# g['date'] = g.date.dt.dayofyear"
   ]
  },
  {
   "cell_type": "code",
   "execution_count": 35,
   "metadata": {
    "execution": {
     "iopub.execute_input": "2020-11-21T00:09:57.693019Z",
     "iopub.status.busy": "2020-11-21T00:09:57.692438Z",
     "iopub.status.idle": "2020-11-21T00:09:57.694709Z",
     "shell.execute_reply": "2020-11-21T00:09:57.695245Z"
    },
    "papermill": {
     "duration": 0.033151,
     "end_time": "2020-11-21T00:09:57.695374",
     "exception": false,
     "start_time": "2020-11-21T00:09:57.662223",
     "status": "completed"
    },
    "tags": []
   },
   "outputs": [],
   "source": [
    "#hide\n",
    "# g = g.rename(columns= {'continent':'group','country':'name','cases':'value'})"
   ]
  },
  {
   "cell_type": "code",
   "execution_count": 36,
   "metadata": {
    "execution": {
     "iopub.execute_input": "2020-11-21T00:09:57.755105Z",
     "iopub.status.busy": "2020-11-21T00:09:57.754546Z",
     "iopub.status.idle": "2020-11-21T00:09:57.756708Z",
     "shell.execute_reply": "2020-11-21T00:09:57.757227Z"
    },
    "papermill": {
     "duration": 0.033627,
     "end_time": "2020-11-21T00:09:57.757366",
     "exception": false,
     "start_time": "2020-11-21T00:09:57.723739",
     "status": "completed"
    },
    "tags": []
   },
   "outputs": [],
   "source": [
    "#hide\n",
    "# cols = ['name','group','day','value']"
   ]
  },
  {
   "cell_type": "code",
   "execution_count": 37,
   "metadata": {
    "execution": {
     "iopub.execute_input": "2020-11-21T00:09:57.814949Z",
     "iopub.status.busy": "2020-11-21T00:09:57.814389Z",
     "iopub.status.idle": "2020-11-21T00:09:57.816589Z",
     "shell.execute_reply": "2020-11-21T00:09:57.817038Z"
    },
    "papermill": {
     "duration": 0.033128,
     "end_time": "2020-11-21T00:09:57.817178",
     "exception": false,
     "start_time": "2020-11-21T00:09:57.784050",
     "status": "completed"
    },
    "tags": []
   },
   "outputs": [],
   "source": [
    "#hide\n",
    "# g.rename(columns= {'date':'day'},inplace = True)"
   ]
  },
  {
   "cell_type": "code",
   "execution_count": 38,
   "metadata": {
    "execution": {
     "iopub.execute_input": "2020-11-21T00:09:57.876778Z",
     "iopub.status.busy": "2020-11-21T00:09:57.876203Z",
     "iopub.status.idle": "2020-11-21T00:09:57.878300Z",
     "shell.execute_reply": "2020-11-21T00:09:57.878667Z"
    },
    "papermill": {
     "duration": 0.033372,
     "end_time": "2020-11-21T00:09:57.878791",
     "exception": false,
     "start_time": "2020-11-21T00:09:57.845419",
     "status": "completed"
    },
    "tags": []
   },
   "outputs": [],
   "source": [
    "#hide\n",
    "# g = g[cols]"
   ]
  },
  {
   "cell_type": "code",
   "execution_count": 39,
   "metadata": {
    "execution": {
     "iopub.execute_input": "2020-11-21T00:09:58.150923Z",
     "iopub.status.busy": "2020-11-21T00:09:58.150106Z",
     "iopub.status.idle": "2020-11-21T00:09:58.151710Z",
     "shell.execute_reply": "2020-11-21T00:09:58.152143Z"
    },
    "papermill": {
     "duration": 0.245417,
     "end_time": "2020-11-21T00:09:58.152280",
     "exception": false,
     "start_time": "2020-11-21T00:09:57.906863",
     "status": "completed"
    },
    "tags": []
   },
   "outputs": [],
   "source": [
    "# #hide\n",
    "# g = g[g.group.notna()]"
   ]
  },
  {
   "cell_type": "code",
   "execution_count": 40,
   "metadata": {
    "execution": {
     "iopub.execute_input": "2020-11-21T00:09:58.209619Z",
     "iopub.status.busy": "2020-11-21T00:09:58.209032Z",
     "iopub.status.idle": "2020-11-21T00:09:58.211331Z",
     "shell.execute_reply": "2020-11-21T00:09:58.211846Z"
    },
    "papermill": {
     "duration": 0.032558,
     "end_time": "2020-11-21T00:09:58.211973",
     "exception": false,
     "start_time": "2020-11-21T00:09:58.179415",
     "status": "completed"
    },
    "tags": []
   },
   "outputs": [],
   "source": [
    "# #hide\n",
    "# colors = dict(zip(\n",
    "#     [\"Oceania\", \"Europe\", \"Asia\", \"South America\", \"Middle East\", \"North America\", \"Africa\"],\n",
    "#     [\"#adb0ff\", \"#ffb3ff\", \"#90d595\", \"#e48381\", \"#aafbff\", \"#f7bb5f\", \"#eafb50\"]\n",
    "# ))\n",
    "# group_lk = g.set_index('name')['group'].to_dict()"
   ]
  },
  {
   "cell_type": "code",
   "execution_count": null,
   "metadata": {
    "papermill": {
     "duration": 0.027084,
     "end_time": "2020-11-21T00:09:58.266789",
     "exception": false,
     "start_time": "2020-11-21T00:09:58.239705",
     "status": "completed"
    },
    "tags": []
   },
   "outputs": [],
   "source": []
  },
  {
   "cell_type": "code",
   "execution_count": 41,
   "metadata": {
    "execution": {
     "iopub.execute_input": "2020-11-21T00:09:58.331473Z",
     "iopub.status.busy": "2020-11-21T00:09:58.330409Z",
     "iopub.status.idle": "2020-11-21T00:09:58.332555Z",
     "shell.execute_reply": "2020-11-21T00:09:58.333152Z"
    },
    "papermill": {
     "duration": 0.036697,
     "end_time": "2020-11-21T00:09:58.333290",
     "exception": false,
     "start_time": "2020-11-21T00:09:58.296593",
     "status": "completed"
    },
    "tags": []
   },
   "outputs": [],
   "source": [
    "# #hide\n",
    "# fig, ax = plt.subplots(figsize=(15, 8))\n",
    "\n",
    "# def draw_barchart(current_day):\n",
    "#     dff = g[g['day'].eq(current_day)].sort_values(by='value', ascending=True).tail(10)\n",
    "#     ax.clear()\n",
    "#     ax.barh(dff['name'], dff['value'], color=[colors[group_lk[x]] for x in dff['name']])\n",
    "#     dx = dff['value'].max() / 200\n",
    "    \n",
    "#     for i, (value, name) in enumerate(zip(dff['value'], dff['name'])):\n",
    "#         ax.text(value-dx, i,     name,           size=14, weight=600, ha='right', va='bottom')\n",
    "#         ax.text(value-dx, i-.25, group_lk[name], size=10, color='#444444', ha='right', va='baseline')\n",
    "#         ax.text(value+dx, i,     f'{value:,.0f}',  size=14, ha='left',  va='center')\n",
    "#     ax.text(1, 0.4, current_day, transform=ax.transAxes, color='#777777', size=46, ha='right', weight=800)\n",
    "#     ax.text(0, 1.06, 'Population (thousands)', transform=ax.transAxes, size=12, color='#777777')\n",
    "#     ax.xaxis.set_major_formatter(ticker.StrMethodFormatter('{x:,.0f}'))\n",
    "#     ax.xaxis.set_ticks_position('top')\n",
    "#     ax.tick_params(axis='x', colors='#777777', labelsize=12)\n",
    "#     ax.set_yticks([])\n",
    "#     ax.margins(0, 0.01)\n",
    "#     ax.grid(which='major', axis='x', linestyle='-')\n",
    "#     ax.set_axisbelow(True)\n",
    "    \n",
    "#     ax.text(0, 1.15, 'Coronavirus',\n",
    "#             transform=ax.transAxes, size=24, weight=600, ha='left', va='top')\n",
    "# #     ax.text(1, 0, 'by @pratapvardhan; credit @jburnmurdoch', transform=ax.transAxes, color='#777777', ha='right',\n",
    "# #             bbox=dict(facecolor='white', alpha=0.8, edgecolor='white'))\n",
    "#     plt.box(False)"
   ]
  },
  {
   "cell_type": "code",
   "execution_count": 42,
   "metadata": {
    "execution": {
     "iopub.execute_input": "2020-11-21T00:09:58.397696Z",
     "iopub.status.busy": "2020-11-21T00:09:58.397049Z",
     "iopub.status.idle": "2020-11-21T00:09:58.399261Z",
     "shell.execute_reply": "2020-11-21T00:09:58.398673Z"
    },
    "papermill": {
     "duration": 0.036367,
     "end_time": "2020-11-21T00:09:58.399387",
     "exception": false,
     "start_time": "2020-11-21T00:09:58.363020",
     "status": "completed"
    },
    "tags": []
   },
   "outputs": [],
   "source": [
    "# #hide_input\n",
    "# fig, ax = plt.subplots(figsize=(15, 8))\n",
    "# animator = animation.FuncAnimation(fig, draw_barchart, frames=range(g.day.values.min(), g.day.values.max()))\n",
    "# HTML(animator.to_jshtml())\n",
    "# # or use animator.to_html5_video() or animator.save() "
   ]
  },
  {
   "cell_type": "code",
   "execution_count": null,
   "metadata": {
    "papermill": {
     "duration": 0.029668,
     "end_time": "2020-11-21T00:09:58.459977",
     "exception": false,
     "start_time": "2020-11-21T00:09:58.430309",
     "status": "completed"
    },
    "tags": []
   },
   "outputs": [],
   "source": []
  },
  {
   "cell_type": "code",
   "execution_count": null,
   "metadata": {
    "papermill": {
     "duration": 0.029664,
     "end_time": "2020-11-21T00:09:58.519216",
     "exception": false,
     "start_time": "2020-11-21T00:09:58.489552",
     "status": "completed"
    },
    "tags": []
   },
   "outputs": [],
   "source": []
  },
  {
   "cell_type": "code",
   "execution_count": null,
   "metadata": {
    "papermill": {
     "duration": 0.027978,
     "end_time": "2020-11-21T00:09:58.576072",
     "exception": false,
     "start_time": "2020-11-21T00:09:58.548094",
     "status": "completed"
    },
    "tags": []
   },
   "outputs": [],
   "source": []
  }
 ],
 "metadata": {
  "kernelspec": {
   "display_name": "Python 3",
   "language": "python",
   "name": "python3"
  },
  "language_info": {
   "codemirror_mode": {
    "name": "ipython",
    "version": 3
   },
   "file_extension": ".py",
   "mimetype": "text/x-python",
   "name": "python",
   "nbconvert_exporter": "python",
   "pygments_lexer": "ipython3",
   "version": "3.6.12"
  },
  "papermill": {
   "duration": 6.197033,
   "end_time": "2020-11-21T00:09:58.912463",
   "environment_variables": {},
   "exception": null,
   "input_path": "2020-03-21-covid19exp.ipynb",
   "output_path": "2020-03-21-covid19exp.ipynb",
   "parameters": {},
   "start_time": "2020-11-21T00:09:52.715430",
   "version": "2.0.0"
  }
 },
 "nbformat": 4,
 "nbformat_minor": 4
}