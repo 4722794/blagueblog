{
 "cells": [
  {
   "cell_type": "markdown",
   "metadata": {
    "papermill": {
     "duration": 0.037829,
     "end_time": "2020-12-18T00:13:38.577744",
     "exception": false,
     "start_time": "2020-12-18T00:13:38.539915",
     "status": "completed"
    },
    "tags": []
   },
   "source": [
    "# COVID-19 Case Race\n",
    "> A race chart to see rising cases around the world\n",
    "\n",
    "- author: Hargun Oberoi\n",
    "- image: images/covid-overview.png\n",
    "- hide: false\n",
    "- badges: false"
   ]
  },
  {
   "cell_type": "code",
   "execution_count": 1,
   "metadata": {
    "execution": {
     "iopub.execute_input": "2020-12-18T00:13:38.654363Z",
     "iopub.status.busy": "2020-12-18T00:13:38.653725Z",
     "iopub.status.idle": "2020-12-18T00:13:39.001990Z",
     "shell.execute_reply": "2020-12-18T00:13:39.001321Z"
    },
    "papermill": {
     "duration": 0.39374,
     "end_time": "2020-12-18T00:13:39.002179",
     "exception": false,
     "start_time": "2020-12-18T00:13:38.608439",
     "status": "completed"
    },
    "tags": []
   },
   "outputs": [],
   "source": [
    "#hide\n",
    "import numpy as np\n",
    "import pandas as pd\n",
    "from jinja2 import Template\n",
    "from IPython.display import HTML"
   ]
  },
  {
   "cell_type": "code",
   "execution_count": 2,
   "metadata": {
    "execution": {
     "iopub.execute_input": "2020-12-18T00:13:39.073809Z",
     "iopub.status.busy": "2020-12-18T00:13:39.073182Z",
     "iopub.status.idle": "2020-12-18T00:13:39.075660Z",
     "shell.execute_reply": "2020-12-18T00:13:39.076216Z"
    },
    "papermill": {
     "duration": 0.041205,
     "end_time": "2020-12-18T00:13:39.076365",
     "exception": false,
     "start_time": "2020-12-18T00:13:39.035160",
     "status": "completed"
    },
    "tags": []
   },
   "outputs": [],
   "source": [
    "#hide\n",
    "\n",
    "# FETCH\n",
    "base_url = 'https://raw.githubusercontent.com/pratapvardhan/notebooks/master/covid19/'\n",
    "paths = {\n",
    "    'mapping': base_url + 'mapping_countries.csv',\n",
    "    'overview': base_url + 'overview.tpl'\n",
    "}"
   ]
  },
  {
   "cell_type": "code",
   "execution_count": 3,
   "metadata": {
    "execution": {
     "iopub.execute_input": "2020-12-18T00:13:39.152455Z",
     "iopub.status.busy": "2020-12-18T00:13:39.151763Z",
     "iopub.status.idle": "2020-12-18T00:13:39.154300Z",
     "shell.execute_reply": "2020-12-18T00:13:39.154901Z"
    },
    "papermill": {
     "duration": 0.047577,
     "end_time": "2020-12-18T00:13:39.155054",
     "exception": false,
     "start_time": "2020-12-18T00:13:39.107477",
     "status": "completed"
    },
    "tags": []
   },
   "outputs": [
    {
     "data": {
      "text/plain": [
       "'https://raw.githubusercontent.com/pratapvardhan/notebooks/master/covid19/mapping_countries.csv'"
      ]
     },
     "execution_count": 3,
     "metadata": {},
     "output_type": "execute_result"
    }
   ],
   "source": [
    "#hide\n",
    "paths['mapping']"
   ]
  },
  {
   "cell_type": "code",
   "execution_count": 4,
   "metadata": {
    "execution": {
     "iopub.execute_input": "2020-12-18T00:13:39.222933Z",
     "iopub.status.busy": "2020-12-18T00:13:39.222304Z",
     "iopub.status.idle": "2020-12-18T00:13:39.224193Z",
     "shell.execute_reply": "2020-12-18T00:13:39.224758Z"
    },
    "papermill": {
     "duration": 0.038603,
     "end_time": "2020-12-18T00:13:39.224901",
     "exception": false,
     "start_time": "2020-12-18T00:13:39.186298",
     "status": "completed"
    },
    "tags": []
   },
   "outputs": [],
   "source": [
    "#hide\n",
    "def get_mappings(url):\n",
    "    df = pd.read_csv(url)\n",
    "    return {\n",
    "        'df': df,\n",
    "        'replace.country': dict(df.dropna(subset=['Name']).set_index('Country')['Name']),\n",
    "        'map.continent': dict(df.set_index('Name')['Continent'])\n",
    "    }"
   ]
  },
  {
   "cell_type": "code",
   "execution_count": 5,
   "metadata": {
    "execution": {
     "iopub.execute_input": "2020-12-18T00:13:39.292595Z",
     "iopub.status.busy": "2020-12-18T00:13:39.292002Z",
     "iopub.status.idle": "2020-12-18T00:13:39.378668Z",
     "shell.execute_reply": "2020-12-18T00:13:39.377758Z"
    },
    "papermill": {
     "duration": 0.12378,
     "end_time": "2020-12-18T00:13:39.378901",
     "exception": false,
     "start_time": "2020-12-18T00:13:39.255121",
     "status": "completed"
    },
    "tags": []
   },
   "outputs": [],
   "source": [
    "#hide\n",
    "mapping = get_mappings(paths['mapping'])"
   ]
  },
  {
   "cell_type": "code",
   "execution_count": 6,
   "metadata": {
    "execution": {
     "iopub.execute_input": "2020-12-18T00:13:39.446033Z",
     "iopub.status.busy": "2020-12-18T00:13:39.445398Z",
     "iopub.status.idle": "2020-12-18T00:13:39.447763Z",
     "shell.execute_reply": "2020-12-18T00:13:39.447276Z"
    },
    "papermill": {
     "duration": 0.037811,
     "end_time": "2020-12-18T00:13:39.447900",
     "exception": false,
     "start_time": "2020-12-18T00:13:39.410089",
     "status": "completed"
    },
    "tags": []
   },
   "outputs": [],
   "source": [
    "#hide\n",
    "def get_template(path):\n",
    "    from urllib.parse import urlparse\n",
    "    if bool(urlparse(path).netloc):\n",
    "        from urllib.request import urlopen\n",
    "        return urlopen(path).read().decode('utf8')\n",
    "    return open(path).read()"
   ]
  },
  {
   "cell_type": "code",
   "execution_count": 7,
   "metadata": {
    "execution": {
     "iopub.execute_input": "2020-12-18T00:13:39.515834Z",
     "iopub.status.busy": "2020-12-18T00:13:39.515220Z",
     "iopub.status.idle": "2020-12-18T00:13:39.517493Z",
     "shell.execute_reply": "2020-12-18T00:13:39.516993Z"
    },
    "papermill": {
     "duration": 0.03814,
     "end_time": "2020-12-18T00:13:39.517618",
     "exception": false,
     "start_time": "2020-12-18T00:13:39.479478",
     "status": "completed"
    },
    "tags": []
   },
   "outputs": [],
   "source": [
    "#hide\n",
    "def get_frame(name):\n",
    "    url = (\n",
    "        'https://raw.githubusercontent.com/CSSEGISandData/COVID-19/master/csse_covid_19_data/'\n",
    "        f'csse_covid_19_time_series/time_series_covid19_{name}_global.csv')\n",
    "    df = pd.read_csv(url)\n",
    "    # rename countries\n",
    "    df['Country/Region'] = df['Country/Region'].replace(mapping['replace.country'])\n",
    "    return df"
   ]
  },
  {
   "cell_type": "code",
   "execution_count": 8,
   "metadata": {
    "execution": {
     "iopub.execute_input": "2020-12-18T00:13:39.586713Z",
     "iopub.status.busy": "2020-12-18T00:13:39.586080Z",
     "iopub.status.idle": "2020-12-18T00:13:39.588499Z",
     "shell.execute_reply": "2020-12-18T00:13:39.587998Z"
    },
    "papermill": {
     "duration": 0.040037,
     "end_time": "2020-12-18T00:13:39.588625",
     "exception": false,
     "start_time": "2020-12-18T00:13:39.548588",
     "status": "completed"
    },
    "tags": []
   },
   "outputs": [],
   "source": [
    "#hide\n",
    "def get_dates(df):\n",
    "    dt_cols = df.columns[~df.columns.isin(['Province/State', 'Country/Region', 'Lat', 'Long'])]\n",
    "    LAST_DATE_I = -1\n",
    "    # sometimes last column may be empty, then go backwards\n",
    "    for i in range(-1, -len(dt_cols), -1):\n",
    "        if not df[dt_cols[i]].fillna(0).eq(0).all():\n",
    "            LAST_DATE_I = i\n",
    "            break\n",
    "    return LAST_DATE_I, dt_cols"
   ]
  },
  {
   "cell_type": "code",
   "execution_count": 9,
   "metadata": {
    "execution": {
     "iopub.execute_input": "2020-12-18T00:13:39.657427Z",
     "iopub.status.busy": "2020-12-18T00:13:39.656818Z",
     "iopub.status.idle": "2020-12-18T00:13:40.108704Z",
     "shell.execute_reply": "2020-12-18T00:13:40.107810Z"
    },
    "papermill": {
     "duration": 0.489946,
     "end_time": "2020-12-18T00:13:40.108929",
     "exception": false,
     "start_time": "2020-12-18T00:13:39.618983",
     "status": "completed"
    },
    "tags": []
   },
   "outputs": [],
   "source": [
    "#hide\n",
    "COL_REGION = 'Country/Region'\n",
    "# Confirmed, Recovered, Deaths\n",
    "df = get_frame('confirmed')\n",
    "# dft_: timeseries, dfc_: today country agg\n",
    "dft_cases = df\n",
    "dft_deaths = get_frame('deaths')\n",
    "dft_recovered = get_frame('recovered')\n",
    "LAST_DATE_I, dt_cols = get_dates(df)"
   ]
  },
  {
   "cell_type": "code",
   "execution_count": 10,
   "metadata": {
    "execution": {
     "iopub.execute_input": "2020-12-18T00:13:40.178213Z",
     "iopub.status.busy": "2020-12-18T00:13:40.177608Z",
     "iopub.status.idle": "2020-12-18T00:13:40.179942Z",
     "shell.execute_reply": "2020-12-18T00:13:40.180507Z"
    },
    "papermill": {
     "duration": 0.040555,
     "end_time": "2020-12-18T00:13:40.180653",
     "exception": false,
     "start_time": "2020-12-18T00:13:40.140098",
     "status": "completed"
    },
    "tags": []
   },
   "outputs": [],
   "source": [
    "#hide\n",
    "LAST_DATE_I, dt_cols = get_dates(df)\n",
    "dt_today =dt_cols[LAST_DATE_I]\n",
    "# dt_5day = dt_cols[LAST_DATE_I - 5]\n",
    "dt_yday = dt_cols[LAST_DATE_I - 1]"
   ]
  },
  {
   "cell_type": "code",
   "execution_count": 11,
   "metadata": {
    "execution": {
     "iopub.execute_input": "2020-12-18T00:13:40.248936Z",
     "iopub.status.busy": "2020-12-18T00:13:40.248339Z",
     "iopub.status.idle": "2020-12-18T00:13:40.257541Z",
     "shell.execute_reply": "2020-12-18T00:13:40.257062Z"
    },
    "papermill": {
     "duration": 0.046898,
     "end_time": "2020-12-18T00:13:40.257669",
     "exception": false,
     "start_time": "2020-12-18T00:13:40.210771",
     "status": "completed"
    },
    "tags": []
   },
   "outputs": [],
   "source": [
    "#hide\n",
    "dfc_cases = dft_cases.groupby(COL_REGION)[dt_today].sum()\n",
    "dfc_deaths = dft_deaths.groupby(COL_REGION)[dt_today].sum()\n",
    "# dfp_cases = dft_cases.groupby(COL_REGION)[dt_5day].sum()\n",
    "# dfp_deaths = dft_deaths.groupby(COL_REGION)[dt_5day].sum()\n",
    "dfp_cases = dft_cases.groupby(COL_REGION)[dt_yday].sum()\n",
    "dfp_deaths = dft_deaths.groupby(COL_REGION)[dt_yday].sum()"
   ]
  },
  {
   "cell_type": "code",
   "execution_count": 12,
   "metadata": {
    "execution": {
     "iopub.execute_input": "2020-12-18T00:13:40.325992Z",
     "iopub.status.busy": "2020-12-18T00:13:40.325401Z",
     "iopub.status.idle": "2020-12-18T00:13:40.331019Z",
     "shell.execute_reply": "2020-12-18T00:13:40.331470Z"
    },
    "papermill": {
     "duration": 0.043913,
     "end_time": "2020-12-18T00:13:40.331616",
     "exception": false,
     "start_time": "2020-12-18T00:13:40.287703",
     "status": "completed"
    },
    "tags": []
   },
   "outputs": [],
   "source": [
    "#hide\n",
    "df_table = (pd.DataFrame(dict(Cases = dfc_cases, Deaths = dfc_deaths, PCases = dfp_cases, PDeaths = dfp_deaths))\n",
    "            .sort_values(by = ['Cases','Deaths'], ascending = [False, False])\n",
    "            .reset_index())"
   ]
  },
  {
   "cell_type": "code",
   "execution_count": 13,
   "metadata": {
    "execution": {
     "iopub.execute_input": "2020-12-18T00:13:40.412236Z",
     "iopub.status.busy": "2020-12-18T00:13:40.411619Z",
     "iopub.status.idle": "2020-12-18T00:13:40.419917Z",
     "shell.execute_reply": "2020-12-18T00:13:40.420466Z"
    },
    "papermill": {
     "duration": 0.058998,
     "end_time": "2020-12-18T00:13:40.420612",
     "exception": false,
     "start_time": "2020-12-18T00:13:40.361614",
     "status": "completed"
    },
    "tags": []
   },
   "outputs": [
    {
     "data": {
      "text/html": [
       "<div>\n",
       "<style scoped>\n",
       "    .dataframe tbody tr th:only-of-type {\n",
       "        vertical-align: middle;\n",
       "    }\n",
       "\n",
       "    .dataframe tbody tr th {\n",
       "        vertical-align: top;\n",
       "    }\n",
       "\n",
       "    .dataframe thead th {\n",
       "        text-align: right;\n",
       "    }\n",
       "</style>\n",
       "<table border=\"1\" class=\"dataframe\">\n",
       "  <thead>\n",
       "    <tr style=\"text-align: right;\">\n",
       "      <th></th>\n",
       "      <th>Country/Region</th>\n",
       "      <th>Cases</th>\n",
       "      <th>Deaths</th>\n",
       "      <th>PCases</th>\n",
       "      <th>PDeaths</th>\n",
       "      <th>Cases (+)</th>\n",
       "      <th>Deaths (+)</th>\n",
       "      <th>Fatality Rate</th>\n",
       "      <th>Continent</th>\n",
       "    </tr>\n",
       "  </thead>\n",
       "  <tbody>\n",
       "    <tr>\n",
       "      <th>0</th>\n",
       "      <td>US</td>\n",
       "      <td>16964180</td>\n",
       "      <td>307429</td>\n",
       "      <td>16716777</td>\n",
       "      <td>303773</td>\n",
       "      <td>247403</td>\n",
       "      <td>3656</td>\n",
       "      <td>1.81</td>\n",
       "      <td>North America</td>\n",
       "    </tr>\n",
       "    <tr>\n",
       "      <th>1</th>\n",
       "      <td>India</td>\n",
       "      <td>9956557</td>\n",
       "      <td>144451</td>\n",
       "      <td>9932547</td>\n",
       "      <td>144096</td>\n",
       "      <td>24010</td>\n",
       "      <td>355</td>\n",
       "      <td>1.45</td>\n",
       "      <td>Asia</td>\n",
       "    </tr>\n",
       "    <tr>\n",
       "      <th>2</th>\n",
       "      <td>Brazil</td>\n",
       "      <td>7040608</td>\n",
       "      <td>183735</td>\n",
       "      <td>6970034</td>\n",
       "      <td>182799</td>\n",
       "      <td>70574</td>\n",
       "      <td>936</td>\n",
       "      <td>2.61</td>\n",
       "      <td>South America</td>\n",
       "    </tr>\n",
       "    <tr>\n",
       "      <th>3</th>\n",
       "      <td>Russia</td>\n",
       "      <td>2708940</td>\n",
       "      <td>47994</td>\n",
       "      <td>2682866</td>\n",
       "      <td>47410</td>\n",
       "      <td>26074</td>\n",
       "      <td>584</td>\n",
       "      <td>1.77</td>\n",
       "      <td>Europe</td>\n",
       "    </tr>\n",
       "    <tr>\n",
       "      <th>4</th>\n",
       "      <td>France</td>\n",
       "      <td>2465126</td>\n",
       "      <td>59472</td>\n",
       "      <td>2447406</td>\n",
       "      <td>59182</td>\n",
       "      <td>17720</td>\n",
       "      <td>290</td>\n",
       "      <td>2.41</td>\n",
       "      <td>Europe</td>\n",
       "    </tr>\n",
       "  </tbody>\n",
       "</table>\n",
       "</div>"
      ],
      "text/plain": [
       "  Country/Region     Cases  Deaths    PCases  PDeaths  Cases (+)  Deaths (+)  \\\n",
       "0             US  16964180  307429  16716777   303773     247403        3656   \n",
       "1          India   9956557  144451   9932547   144096      24010         355   \n",
       "2         Brazil   7040608  183735   6970034   182799      70574         936   \n",
       "3         Russia   2708940   47994   2682866    47410      26074         584   \n",
       "4         France   2465126   59472   2447406    59182      17720         290   \n",
       "\n",
       "   Fatality Rate      Continent  \n",
       "0           1.81  North America  \n",
       "1           1.45           Asia  \n",
       "2           2.61  South America  \n",
       "3           1.77         Europe  \n",
       "4           2.41         Europe  "
      ]
     },
     "execution_count": 13,
     "metadata": {},
     "output_type": "execute_result"
    }
   ],
   "source": [
    "#hide\n",
    "for c in 'Cases, Deaths'.split(', '):\n",
    "    df_table[f'{c} (+)'] = (df_table[c] - df_table[f'P{c}']).clip(0)\n",
    "    #Clip ça veut dire, les chiffres negatif sont interdit\n",
    "df_table['Fatality Rate'] = (100* df_table['Deaths']/ df_table['Cases']).round(2)\n",
    "df_table['Continent'] = df_table['Country/Region'].map(mapping['map.continent'])\n",
    "df_table.head(5)"
   ]
  },
  {
   "cell_type": "code",
   "execution_count": 14,
   "metadata": {
    "execution": {
     "iopub.execute_input": "2020-12-18T00:13:40.487865Z",
     "iopub.status.busy": "2020-12-18T00:13:40.487261Z",
     "iopub.status.idle": "2020-12-18T00:13:40.489717Z",
     "shell.execute_reply": "2020-12-18T00:13:40.489157Z"
    },
    "papermill": {
     "duration": 0.039376,
     "end_time": "2020-12-18T00:13:40.489853",
     "exception": false,
     "start_time": "2020-12-18T00:13:40.450477",
     "status": "completed"
    },
    "tags": []
   },
   "outputs": [],
   "source": [
    "#hide\n",
    "#delete problematic countries from table\n",
    "df_table = df_table[~df_table['Country/Region'].isin(['Cape Verde', 'Cruise Ship', 'Kosovo'])]"
   ]
  },
  {
   "cell_type": "code",
   "execution_count": 15,
   "metadata": {
    "execution": {
     "iopub.execute_input": "2020-12-18T00:13:40.561062Z",
     "iopub.status.busy": "2020-12-18T00:13:40.560465Z",
     "iopub.status.idle": "2020-12-18T00:13:40.579234Z",
     "shell.execute_reply": "2020-12-18T00:13:40.578725Z"
    },
    "papermill": {
     "duration": 0.059131,
     "end_time": "2020-12-18T00:13:40.579364",
     "exception": false,
     "start_time": "2020-12-18T00:13:40.520233",
     "status": "completed"
    },
    "tags": []
   },
   "outputs": [
    {
     "data": {
      "text/html": [
       "<div>\n",
       "<style scoped>\n",
       "    .dataframe tbody tr th:only-of-type {\n",
       "        vertical-align: middle;\n",
       "    }\n",
       "\n",
       "    .dataframe tbody tr th {\n",
       "        vertical-align: top;\n",
       "    }\n",
       "\n",
       "    .dataframe thead th {\n",
       "        text-align: right;\n",
       "    }\n",
       "</style>\n",
       "<table border=\"1\" class=\"dataframe\">\n",
       "  <thead>\n",
       "    <tr style=\"text-align: right;\">\n",
       "      <th></th>\n",
       "      <th>Country/Region</th>\n",
       "      <th>Cases</th>\n",
       "      <th>Deaths</th>\n",
       "      <th>PCases</th>\n",
       "      <th>PDeaths</th>\n",
       "      <th>Cases (+)</th>\n",
       "      <th>Deaths (+)</th>\n",
       "      <th>Fatality Rate</th>\n",
       "      <th>Continent</th>\n",
       "    </tr>\n",
       "  </thead>\n",
       "  <tbody>\n",
       "    <tr>\n",
       "      <th>0</th>\n",
       "      <td>US</td>\n",
       "      <td>16964180</td>\n",
       "      <td>307429</td>\n",
       "      <td>16716777</td>\n",
       "      <td>303773</td>\n",
       "      <td>247403</td>\n",
       "      <td>3656</td>\n",
       "      <td>1.8</td>\n",
       "      <td>North America</td>\n",
       "    </tr>\n",
       "    <tr>\n",
       "      <th>1</th>\n",
       "      <td>India</td>\n",
       "      <td>9956557</td>\n",
       "      <td>144451</td>\n",
       "      <td>9932547</td>\n",
       "      <td>144096</td>\n",
       "      <td>24010</td>\n",
       "      <td>355</td>\n",
       "      <td>1.5</td>\n",
       "      <td>Asia</td>\n",
       "    </tr>\n",
       "    <tr>\n",
       "      <th>2</th>\n",
       "      <td>Brazil</td>\n",
       "      <td>7040608</td>\n",
       "      <td>183735</td>\n",
       "      <td>6970034</td>\n",
       "      <td>182799</td>\n",
       "      <td>70574</td>\n",
       "      <td>936</td>\n",
       "      <td>2.6</td>\n",
       "      <td>South America</td>\n",
       "    </tr>\n",
       "    <tr>\n",
       "      <th>3</th>\n",
       "      <td>Russia</td>\n",
       "      <td>2708940</td>\n",
       "      <td>47994</td>\n",
       "      <td>2682866</td>\n",
       "      <td>47410</td>\n",
       "      <td>26074</td>\n",
       "      <td>584</td>\n",
       "      <td>1.8</td>\n",
       "      <td>Europe</td>\n",
       "    </tr>\n",
       "    <tr>\n",
       "      <th>4</th>\n",
       "      <td>France</td>\n",
       "      <td>2465126</td>\n",
       "      <td>59472</td>\n",
       "      <td>2447406</td>\n",
       "      <td>59182</td>\n",
       "      <td>17720</td>\n",
       "      <td>290</td>\n",
       "      <td>2.4</td>\n",
       "      <td>Europe</td>\n",
       "    </tr>\n",
       "  </tbody>\n",
       "</table>\n",
       "</div>"
      ],
      "text/plain": [
       "  Country/Region     Cases  Deaths    PCases  PDeaths  Cases (+)  Deaths (+)  \\\n",
       "0             US  16964180  307429  16716777   303773     247403        3656   \n",
       "1          India   9956557  144451   9932547   144096      24010         355   \n",
       "2         Brazil   7040608  183735   6970034   182799      70574         936   \n",
       "3         Russia   2708940   47994   2682866    47410      26074         584   \n",
       "4         France   2465126   59472   2447406    59182      17720         290   \n",
       "\n",
       "   Fatality Rate      Continent  \n",
       "0            1.8  North America  \n",
       "1            1.5           Asia  \n",
       "2            2.6  South America  \n",
       "3            1.8         Europe  \n",
       "4            2.4         Europe  "
      ]
     },
     "execution_count": 15,
     "metadata": {},
     "output_type": "execute_result"
    }
   ],
   "source": [
    "#hide\n",
    "df_table = (pd.DataFrame(dict(Cases=dfc_cases, Deaths=dfc_deaths, PCases=dfp_cases, PDeaths=dfp_deaths))\n",
    "             .sort_values(by=['Cases', 'Deaths'], ascending=[False, False])\n",
    "             .reset_index())\n",
    "df_table.rename(columns={'index': 'Country/Region'}, inplace=True)\n",
    "for c in 'Cases, Deaths'.split(', '):\n",
    "    df_table[f'{c} (+)'] = (df_table[c] - df_table[f'P{c}']).clip(0)  # DATA BUG\n",
    "df_table['Fatality Rate'] = (100 * df_table['Deaths'] / df_table['Cases']).round(1)\n",
    "df_table['Continent'] = df_table['Country/Region'].map(mapping['map.continent'])\n",
    "df_table.head(5)"
   ]
  },
  {
   "cell_type": "code",
   "execution_count": 16,
   "metadata": {
    "execution": {
     "iopub.execute_input": "2020-12-18T00:13:40.648113Z",
     "iopub.status.busy": "2020-12-18T00:13:40.647518Z",
     "iopub.status.idle": "2020-12-18T00:13:40.649904Z",
     "shell.execute_reply": "2020-12-18T00:13:40.649326Z"
    },
    "papermill": {
     "duration": 0.039378,
     "end_time": "2020-12-18T00:13:40.650030",
     "exception": false,
     "start_time": "2020-12-18T00:13:40.610652",
     "status": "completed"
    },
    "tags": []
   },
   "outputs": [],
   "source": [
    "#hide\n",
    "#delete problematic countries from table\n",
    "df_table = df_table[~df_table['Country/Region'].isin(['Cape Verde', 'Cruise Ship', 'Kosovo'])]"
   ]
  },
  {
   "cell_type": "code",
   "execution_count": 17,
   "metadata": {
    "execution": {
     "iopub.execute_input": "2020-12-18T00:13:40.726781Z",
     "iopub.status.busy": "2020-12-18T00:13:40.725962Z",
     "iopub.status.idle": "2020-12-18T00:13:40.738544Z",
     "shell.execute_reply": "2020-12-18T00:13:40.739064Z"
    },
    "papermill": {
     "duration": 0.058007,
     "end_time": "2020-12-18T00:13:40.739212",
     "exception": false,
     "start_time": "2020-12-18T00:13:40.681205",
     "status": "completed"
    },
    "tags": []
   },
   "outputs": [],
   "source": [
    "#hide\n",
    "metrics = [df_table.columns[index] for index in [1,2,5,6]]\n",
    "# s_china = df_table[df_table['Country/Region'].eq('China')][metrics].sum().add_prefix('China ')\n",
    "s_us = df_table[df_table['Country/Region'].eq('US')][metrics].sum().add_prefix('US ')\n",
    "s_eu = df_table[df_table['Continent'].eq('Europe')][metrics].sum().add_prefix('EU ')\n",
    "s_ind = df_table[df_table['Country/Region'].eq('India')][metrics].sum().add_prefix('India ')\n",
    "summary = {'updated': pd.to_datetime(dt_today), 'since': pd.to_datetime(dt_yday)}\n",
    "summary = {'updated': pd.to_datetime(dt_today), 'since': pd.to_datetime(dt_yday)}\n",
    "summary = {**summary, **df_table[metrics].sum(), **s_ind, **s_us, **s_eu}"
   ]
  },
  {
   "cell_type": "code",
   "execution_count": 18,
   "metadata": {
    "execution": {
     "iopub.execute_input": "2020-12-18T00:13:40.808328Z",
     "iopub.status.busy": "2020-12-18T00:13:40.807739Z",
     "iopub.status.idle": "2020-12-18T00:13:40.818385Z",
     "shell.execute_reply": "2020-12-18T00:13:40.818889Z"
    },
    "papermill": {
     "duration": 0.048521,
     "end_time": "2020-12-18T00:13:40.819043",
     "exception": false,
     "start_time": "2020-12-18T00:13:40.770522",
     "status": "completed"
    },
    "tags": []
   },
   "outputs": [],
   "source": [
    "#hide\n",
    "dft_ct_new_cases = dft_cases.groupby(COL_REGION)[dt_cols].sum().diff(axis=1).fillna(0).astype(int)"
   ]
  },
  {
   "cell_type": "code",
   "execution_count": 19,
   "metadata": {
    "execution": {
     "iopub.execute_input": "2020-12-18T00:13:40.886946Z",
     "iopub.status.busy": "2020-12-18T00:13:40.886319Z",
     "iopub.status.idle": "2020-12-18T00:13:40.889623Z",
     "shell.execute_reply": "2020-12-18T00:13:40.890187Z"
    },
    "papermill": {
     "duration": 0.04013,
     "end_time": "2020-12-18T00:13:40.890332",
     "exception": false,
     "start_time": "2020-12-18T00:13:40.850202",
     "status": "completed"
    },
    "tags": []
   },
   "outputs": [],
   "source": [
    "#hide\n",
    "everydaycases = dft_ct_new_cases.cumsum(axis=1)"
   ]
  },
  {
   "cell_type": "code",
   "execution_count": 20,
   "metadata": {
    "execution": {
     "iopub.execute_input": "2020-12-18T00:13:40.957436Z",
     "iopub.status.busy": "2020-12-18T00:13:40.956842Z",
     "iopub.status.idle": "2020-12-18T00:13:45.345825Z",
     "shell.execute_reply": "2020-12-18T00:13:45.345211Z"
    },
    "papermill": {
     "duration": 4.424295,
     "end_time": "2020-12-18T00:13:45.345985",
     "exception": false,
     "start_time": "2020-12-18T00:13:40.921690",
     "status": "completed"
    },
    "tags": []
   },
   "outputs": [],
   "source": [
    "#hide\n",
    "import pandas as pd\n",
    "import matplotlib.pyplot as plt\n",
    "import matplotlib.ticker as ticker\n",
    "import matplotlib.animation as animation\n",
    "from IPython.display import HTML"
   ]
  },
  {
   "cell_type": "code",
   "execution_count": 21,
   "metadata": {
    "execution": {
     "iopub.execute_input": "2020-12-18T00:13:45.411902Z",
     "iopub.status.busy": "2020-12-18T00:13:45.411357Z",
     "iopub.status.idle": "2020-12-18T00:13:45.416652Z",
     "shell.execute_reply": "2020-12-18T00:13:45.416144Z"
    },
    "papermill": {
     "duration": 0.040138,
     "end_time": "2020-12-18T00:13:45.416777",
     "exception": false,
     "start_time": "2020-12-18T00:13:45.376639",
     "status": "completed"
    },
    "tags": []
   },
   "outputs": [],
   "source": [
    "#hide\n",
    "t = everydaycases.stack()"
   ]
  },
  {
   "cell_type": "code",
   "execution_count": 22,
   "metadata": {
    "execution": {
     "iopub.execute_input": "2020-12-18T00:13:45.481658Z",
     "iopub.status.busy": "2020-12-18T00:13:45.481065Z",
     "iopub.status.idle": "2020-12-18T00:13:45.490118Z",
     "shell.execute_reply": "2020-12-18T00:13:45.489089Z"
    },
    "papermill": {
     "duration": 0.043486,
     "end_time": "2020-12-18T00:13:45.490250",
     "exception": false,
     "start_time": "2020-12-18T00:13:45.446764",
     "status": "completed"
    },
    "tags": []
   },
   "outputs": [],
   "source": [
    "#hide\n",
    "g = t.reset_index(['Country/Region'])"
   ]
  },
  {
   "cell_type": "code",
   "execution_count": 23,
   "metadata": {
    "execution": {
     "iopub.execute_input": "2020-12-18T00:13:45.554580Z",
     "iopub.status.busy": "2020-12-18T00:13:45.553952Z",
     "iopub.status.idle": "2020-12-18T00:13:45.556668Z",
     "shell.execute_reply": "2020-12-18T00:13:45.557143Z"
    },
    "papermill": {
     "duration": 0.037338,
     "end_time": "2020-12-18T00:13:45.557291",
     "exception": false,
     "start_time": "2020-12-18T00:13:45.519953",
     "status": "completed"
    },
    "tags": []
   },
   "outputs": [],
   "source": [
    "#hide\n",
    "g.index.name = 'date'"
   ]
  },
  {
   "cell_type": "code",
   "execution_count": 24,
   "metadata": {
    "execution": {
     "iopub.execute_input": "2020-12-18T00:13:45.622091Z",
     "iopub.status.busy": "2020-12-18T00:13:45.621497Z",
     "iopub.status.idle": "2020-12-18T00:13:45.624277Z",
     "shell.execute_reply": "2020-12-18T00:13:45.623800Z"
    },
    "papermill": {
     "duration": 0.036429,
     "end_time": "2020-12-18T00:13:45.624407",
     "exception": false,
     "start_time": "2020-12-18T00:13:45.587978",
     "status": "completed"
    },
    "tags": []
   },
   "outputs": [],
   "source": [
    "# #hide\n",
    "# g = g.reset_index(['date'])"
   ]
  },
  {
   "cell_type": "code",
   "execution_count": 25,
   "metadata": {
    "execution": {
     "iopub.execute_input": "2020-12-18T00:13:45.688650Z",
     "iopub.status.busy": "2020-12-18T00:13:45.688086Z",
     "iopub.status.idle": "2020-12-18T00:13:45.690539Z",
     "shell.execute_reply": "2020-12-18T00:13:45.690043Z"
    },
    "papermill": {
     "duration": 0.03575,
     "end_time": "2020-12-18T00:13:45.690667",
     "exception": false,
     "start_time": "2020-12-18T00:13:45.654917",
     "status": "completed"
    },
    "tags": []
   },
   "outputs": [],
   "source": [
    "#hide\n",
    "# g.head()"
   ]
  },
  {
   "cell_type": "code",
   "execution_count": 26,
   "metadata": {
    "execution": {
     "iopub.execute_input": "2020-12-18T00:13:45.754705Z",
     "iopub.status.busy": "2020-12-18T00:13:45.754092Z",
     "iopub.status.idle": "2020-12-18T00:13:45.756079Z",
     "shell.execute_reply": "2020-12-18T00:13:45.756583Z"
    },
    "papermill": {
     "duration": 0.03654,
     "end_time": "2020-12-18T00:13:45.756721",
     "exception": false,
     "start_time": "2020-12-18T00:13:45.720181",
     "status": "completed"
    },
    "tags": []
   },
   "outputs": [],
   "source": [
    "#hide\n",
    "# g.columns = ['date','country','cases']"
   ]
  },
  {
   "cell_type": "code",
   "execution_count": 27,
   "metadata": {
    "execution": {
     "iopub.execute_input": "2020-12-18T00:13:45.820638Z",
     "iopub.status.busy": "2020-12-18T00:13:45.820052Z",
     "iopub.status.idle": "2020-12-18T00:13:45.821811Z",
     "shell.execute_reply": "2020-12-18T00:13:45.822283Z"
    },
    "papermill": {
     "duration": 0.036224,
     "end_time": "2020-12-18T00:13:45.822424",
     "exception": false,
     "start_time": "2020-12-18T00:13:45.786200",
     "status": "completed"
    },
    "tags": []
   },
   "outputs": [],
   "source": [
    "#hide\n",
    "# g['continent'] = g.country"
   ]
  },
  {
   "cell_type": "code",
   "execution_count": 28,
   "metadata": {
    "execution": {
     "iopub.execute_input": "2020-12-18T00:13:45.889670Z",
     "iopub.status.busy": "2020-12-18T00:13:45.888633Z",
     "iopub.status.idle": "2020-12-18T00:13:45.890789Z",
     "shell.execute_reply": "2020-12-18T00:13:45.891622Z"
    },
    "papermill": {
     "duration": 0.039136,
     "end_time": "2020-12-18T00:13:45.891856",
     "exception": false,
     "start_time": "2020-12-18T00:13:45.852720",
     "status": "completed"
    },
    "tags": []
   },
   "outputs": [],
   "source": [
    "#hide\n",
    "# cols = list(g.columns.values)"
   ]
  },
  {
   "cell_type": "code",
   "execution_count": 29,
   "metadata": {
    "execution": {
     "iopub.execute_input": "2020-12-18T00:13:45.957233Z",
     "iopub.status.busy": "2020-12-18T00:13:45.956626Z",
     "iopub.status.idle": "2020-12-18T00:13:45.958979Z",
     "shell.execute_reply": "2020-12-18T00:13:45.958369Z"
    },
    "papermill": {
     "duration": 0.035949,
     "end_time": "2020-12-18T00:13:45.959181",
     "exception": false,
     "start_time": "2020-12-18T00:13:45.923232",
     "status": "completed"
    },
    "tags": []
   },
   "outputs": [],
   "source": [
    "#hide\n",
    "# cols.insert(0, cols.pop())"
   ]
  },
  {
   "cell_type": "code",
   "execution_count": 30,
   "metadata": {
    "execution": {
     "iopub.execute_input": "2020-12-18T00:13:46.025285Z",
     "iopub.status.busy": "2020-12-18T00:13:46.024702Z",
     "iopub.status.idle": "2020-12-18T00:13:46.027245Z",
     "shell.execute_reply": "2020-12-18T00:13:46.027807Z"
    },
    "papermill": {
     "duration": 0.037655,
     "end_time": "2020-12-18T00:13:46.027948",
     "exception": false,
     "start_time": "2020-12-18T00:13:45.990293",
     "status": "completed"
    },
    "tags": []
   },
   "outputs": [],
   "source": [
    "#hide\n",
    "# g = g[cols]"
   ]
  },
  {
   "cell_type": "code",
   "execution_count": 31,
   "metadata": {
    "execution": {
     "iopub.execute_input": "2020-12-18T00:13:46.095614Z",
     "iopub.status.busy": "2020-12-18T00:13:46.094545Z",
     "iopub.status.idle": "2020-12-18T00:13:46.096692Z",
     "shell.execute_reply": "2020-12-18T00:13:46.097503Z"
    },
    "papermill": {
     "duration": 0.039039,
     "end_time": "2020-12-18T00:13:46.097734",
     "exception": false,
     "start_time": "2020-12-18T00:13:46.058695",
     "status": "completed"
    },
    "tags": []
   },
   "outputs": [],
   "source": [
    "#hide\n",
    "# g['continent'] = g['continent'].map(mapping['map.continent'])"
   ]
  },
  {
   "cell_type": "code",
   "execution_count": 32,
   "metadata": {
    "execution": {
     "iopub.execute_input": "2020-12-18T00:13:46.166974Z",
     "iopub.status.busy": "2020-12-18T00:13:46.165884Z",
     "iopub.status.idle": "2020-12-18T00:13:46.170046Z",
     "shell.execute_reply": "2020-12-18T00:13:46.169518Z"
    },
    "papermill": {
     "duration": 0.040243,
     "end_time": "2020-12-18T00:13:46.170175",
     "exception": false,
     "start_time": "2020-12-18T00:13:46.129932",
     "status": "completed"
    },
    "tags": []
   },
   "outputs": [],
   "source": [
    "#hide\n",
    "# g.head()"
   ]
  },
  {
   "cell_type": "code",
   "execution_count": 33,
   "metadata": {
    "execution": {
     "iopub.execute_input": "2020-12-18T00:13:46.238005Z",
     "iopub.status.busy": "2020-12-18T00:13:46.236975Z",
     "iopub.status.idle": "2020-12-18T00:13:46.241351Z",
     "shell.execute_reply": "2020-12-18T00:13:46.241804Z"
    },
    "papermill": {
     "duration": 0.04104,
     "end_time": "2020-12-18T00:13:46.241949",
     "exception": false,
     "start_time": "2020-12-18T00:13:46.200909",
     "status": "completed"
    },
    "tags": []
   },
   "outputs": [],
   "source": [
    "# hide\n",
    "# g['date'] = g['date'].astype('datetime64[ns]')"
   ]
  },
  {
   "cell_type": "code",
   "execution_count": 34,
   "metadata": {
    "execution": {
     "iopub.execute_input": "2020-12-18T00:13:46.308970Z",
     "iopub.status.busy": "2020-12-18T00:13:46.308140Z",
     "iopub.status.idle": "2020-12-18T00:13:46.309743Z",
     "shell.execute_reply": "2020-12-18T00:13:46.310227Z"
    },
    "papermill": {
     "duration": 0.0378,
     "end_time": "2020-12-18T00:13:46.310516",
     "exception": false,
     "start_time": "2020-12-18T00:13:46.272716",
     "status": "completed"
    },
    "tags": []
   },
   "outputs": [],
   "source": [
    "#hide\n",
    "# g['date'] = g.date.dt.dayofyear"
   ]
  },
  {
   "cell_type": "code",
   "execution_count": 35,
   "metadata": {
    "execution": {
     "iopub.execute_input": "2020-12-18T00:13:46.377421Z",
     "iopub.status.busy": "2020-12-18T00:13:46.376371Z",
     "iopub.status.idle": "2020-12-18T00:13:46.378540Z",
     "shell.execute_reply": "2020-12-18T00:13:46.379374Z"
    },
    "papermill": {
     "duration": 0.0385,
     "end_time": "2020-12-18T00:13:46.379607",
     "exception": false,
     "start_time": "2020-12-18T00:13:46.341107",
     "status": "completed"
    },
    "tags": []
   },
   "outputs": [],
   "source": [
    "#hide\n",
    "# g = g.rename(columns= {'continent':'group','country':'name','cases':'value'})"
   ]
  },
  {
   "cell_type": "code",
   "execution_count": 36,
   "metadata": {
    "execution": {
     "iopub.execute_input": "2020-12-18T00:13:46.447488Z",
     "iopub.status.busy": "2020-12-18T00:13:46.446895Z",
     "iopub.status.idle": "2020-12-18T00:13:46.449244Z",
     "shell.execute_reply": "2020-12-18T00:13:46.449829Z"
    },
    "papermill": {
     "duration": 0.039039,
     "end_time": "2020-12-18T00:13:46.449972",
     "exception": false,
     "start_time": "2020-12-18T00:13:46.410933",
     "status": "completed"
    },
    "tags": []
   },
   "outputs": [],
   "source": [
    "#hide\n",
    "# cols = ['name','group','day','value']"
   ]
  },
  {
   "cell_type": "code",
   "execution_count": 37,
   "metadata": {
    "execution": {
     "iopub.execute_input": "2020-12-18T00:13:46.515158Z",
     "iopub.status.busy": "2020-12-18T00:13:46.514558Z",
     "iopub.status.idle": "2020-12-18T00:13:46.516782Z",
     "shell.execute_reply": "2020-12-18T00:13:46.516286Z"
    },
    "papermill": {
     "duration": 0.036219,
     "end_time": "2020-12-18T00:13:46.516905",
     "exception": false,
     "start_time": "2020-12-18T00:13:46.480686",
     "status": "completed"
    },
    "tags": []
   },
   "outputs": [],
   "source": [
    "#hide\n",
    "# g.rename(columns= {'date':'day'},inplace = True)"
   ]
  },
  {
   "cell_type": "code",
   "execution_count": 38,
   "metadata": {
    "execution": {
     "iopub.execute_input": "2020-12-18T00:13:46.580774Z",
     "iopub.status.busy": "2020-12-18T00:13:46.580224Z",
     "iopub.status.idle": "2020-12-18T00:13:46.582544Z",
     "shell.execute_reply": "2020-12-18T00:13:46.582026Z"
    },
    "papermill": {
     "duration": 0.035401,
     "end_time": "2020-12-18T00:13:46.582669",
     "exception": false,
     "start_time": "2020-12-18T00:13:46.547268",
     "status": "completed"
    },
    "tags": []
   },
   "outputs": [],
   "source": [
    "#hide\n",
    "# g = g[cols]"
   ]
  },
  {
   "cell_type": "code",
   "execution_count": 39,
   "metadata": {
    "execution": {
     "iopub.execute_input": "2020-12-18T00:13:46.647672Z",
     "iopub.status.busy": "2020-12-18T00:13:46.647047Z",
     "iopub.status.idle": "2020-12-18T00:13:46.649066Z",
     "shell.execute_reply": "2020-12-18T00:13:46.649619Z"
    },
    "papermill": {
     "duration": 0.03683,
     "end_time": "2020-12-18T00:13:46.649750",
     "exception": false,
     "start_time": "2020-12-18T00:13:46.612920",
     "status": "completed"
    },
    "tags": []
   },
   "outputs": [],
   "source": [
    "# #hide\n",
    "# g = g[g.group.notna()]"
   ]
  },
  {
   "cell_type": "code",
   "execution_count": 40,
   "metadata": {
    "execution": {
     "iopub.execute_input": "2020-12-18T00:13:46.714895Z",
     "iopub.status.busy": "2020-12-18T00:13:46.714226Z",
     "iopub.status.idle": "2020-12-18T00:13:46.716992Z",
     "shell.execute_reply": "2020-12-18T00:13:46.717439Z"
    },
    "papermill": {
     "duration": 0.0376,
     "end_time": "2020-12-18T00:13:46.717584",
     "exception": false,
     "start_time": "2020-12-18T00:13:46.679984",
     "status": "completed"
    },
    "tags": []
   },
   "outputs": [],
   "source": [
    "# #hide\n",
    "# colors = dict(zip(\n",
    "#     [\"Oceania\", \"Europe\", \"Asia\", \"South America\", \"Middle East\", \"North America\", \"Africa\"],\n",
    "#     [\"#adb0ff\", \"#ffb3ff\", \"#90d595\", \"#e48381\", \"#aafbff\", \"#f7bb5f\", \"#eafb50\"]\n",
    "# ))\n",
    "# group_lk = g.set_index('name')['group'].to_dict()"
   ]
  },
  {
   "cell_type": "code",
   "execution_count": null,
   "metadata": {
    "papermill": {
     "duration": 0.030248,
     "end_time": "2020-12-18T00:13:46.778427",
     "exception": false,
     "start_time": "2020-12-18T00:13:46.748179",
     "status": "completed"
    },
    "tags": []
   },
   "outputs": [],
   "source": []
  },
  {
   "cell_type": "code",
   "execution_count": 41,
   "metadata": {
    "execution": {
     "iopub.execute_input": "2020-12-18T00:13:46.843687Z",
     "iopub.status.busy": "2020-12-18T00:13:46.843083Z",
     "iopub.status.idle": "2020-12-18T00:13:46.844818Z",
     "shell.execute_reply": "2020-12-18T00:13:46.845320Z"
    },
    "papermill": {
     "duration": 0.03658,
     "end_time": "2020-12-18T00:13:46.845463",
     "exception": false,
     "start_time": "2020-12-18T00:13:46.808883",
     "status": "completed"
    },
    "tags": []
   },
   "outputs": [],
   "source": [
    "# #hide\n",
    "# fig, ax = plt.subplots(figsize=(15, 8))\n",
    "\n",
    "# def draw_barchart(current_day):\n",
    "#     dff = g[g['day'].eq(current_day)].sort_values(by='value', ascending=True).tail(10)\n",
    "#     ax.clear()\n",
    "#     ax.barh(dff['name'], dff['value'], color=[colors[group_lk[x]] for x in dff['name']])\n",
    "#     dx = dff['value'].max() / 200\n",
    "    \n",
    "#     for i, (value, name) in enumerate(zip(dff['value'], dff['name'])):\n",
    "#         ax.text(value-dx, i,     name,           size=14, weight=600, ha='right', va='bottom')\n",
    "#         ax.text(value-dx, i-.25, group_lk[name], size=10, color='#444444', ha='right', va='baseline')\n",
    "#         ax.text(value+dx, i,     f'{value:,.0f}',  size=14, ha='left',  va='center')\n",
    "#     ax.text(1, 0.4, current_day, transform=ax.transAxes, color='#777777', size=46, ha='right', weight=800)\n",
    "#     ax.text(0, 1.06, 'Population (thousands)', transform=ax.transAxes, size=12, color='#777777')\n",
    "#     ax.xaxis.set_major_formatter(ticker.StrMethodFormatter('{x:,.0f}'))\n",
    "#     ax.xaxis.set_ticks_position('top')\n",
    "#     ax.tick_params(axis='x', colors='#777777', labelsize=12)\n",
    "#     ax.set_yticks([])\n",
    "#     ax.margins(0, 0.01)\n",
    "#     ax.grid(which='major', axis='x', linestyle='-')\n",
    "#     ax.set_axisbelow(True)\n",
    "    \n",
    "#     ax.text(0, 1.15, 'Coronavirus',\n",
    "#             transform=ax.transAxes, size=24, weight=600, ha='left', va='top')\n",
    "# #     ax.text(1, 0, 'by @pratapvardhan; credit @jburnmurdoch', transform=ax.transAxes, color='#777777', ha='right',\n",
    "# #             bbox=dict(facecolor='white', alpha=0.8, edgecolor='white'))\n",
    "#     plt.box(False)"
   ]
  },
  {
   "cell_type": "code",
   "execution_count": 42,
   "metadata": {
    "execution": {
     "iopub.execute_input": "2020-12-18T00:13:46.912244Z",
     "iopub.status.busy": "2020-12-18T00:13:46.911696Z",
     "iopub.status.idle": "2020-12-18T00:13:46.914362Z",
     "shell.execute_reply": "2020-12-18T00:13:46.914953Z"
    },
    "papermill": {
     "duration": 0.03905,
     "end_time": "2020-12-18T00:13:46.915098",
     "exception": false,
     "start_time": "2020-12-18T00:13:46.876048",
     "status": "completed"
    },
    "tags": []
   },
   "outputs": [],
   "source": [
    "# #hide_input\n",
    "# fig, ax = plt.subplots(figsize=(15, 8))\n",
    "# animator = animation.FuncAnimation(fig, draw_barchart, frames=range(g.day.values.min(), g.day.values.max()))\n",
    "# HTML(animator.to_jshtml())\n",
    "# # or use animator.to_html5_video() or animator.save() "
   ]
  },
  {
   "cell_type": "code",
   "execution_count": null,
   "metadata": {
    "papermill": {
     "duration": 0.029734,
     "end_time": "2020-12-18T00:13:46.975586",
     "exception": false,
     "start_time": "2020-12-18T00:13:46.945852",
     "status": "completed"
    },
    "tags": []
   },
   "outputs": [],
   "source": []
  },
  {
   "cell_type": "code",
   "execution_count": null,
   "metadata": {
    "papermill": {
     "duration": 0.029419,
     "end_time": "2020-12-18T00:13:47.035145",
     "exception": false,
     "start_time": "2020-12-18T00:13:47.005726",
     "status": "completed"
    },
    "tags": []
   },
   "outputs": [],
   "source": []
  },
  {
   "cell_type": "code",
   "execution_count": null,
   "metadata": {
    "papermill": {
     "duration": 0.029919,
     "end_time": "2020-12-18T00:13:47.095220",
     "exception": false,
     "start_time": "2020-12-18T00:13:47.065301",
     "status": "completed"
    },
    "tags": []
   },
   "outputs": [],
   "source": []
  }
 ],
 "metadata": {
  "kernelspec": {
   "display_name": "Python 3",
   "language": "python",
   "name": "python3"
  },
  "language_info": {
   "codemirror_mode": {
    "name": "ipython",
    "version": 3
   },
   "file_extension": ".py",
   "mimetype": "text/x-python",
   "name": "python",
   "nbconvert_exporter": "python",
   "pygments_lexer": "ipython3",
   "version": "3.6.12"
  },
  "papermill": {
   "duration": 9.990198,
   "end_time": "2020-12-18T00:13:47.432128",
   "environment_variables": {},
   "exception": null,
   "input_path": "2020-03-21-covid19exp.ipynb",
   "output_path": "2020-03-21-covid19exp.ipynb",
   "parameters": {},
   "start_time": "2020-12-18T00:13:37.441930",
   "version": "2.0.0"
  }
 },
 "nbformat": 4,
 "nbformat_minor": 4
}