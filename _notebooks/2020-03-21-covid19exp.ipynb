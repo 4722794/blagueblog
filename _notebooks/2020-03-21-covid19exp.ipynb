{
 "cells": [
  {
   "cell_type": "markdown",
   "id": "muslim-click",
   "metadata": {
    "papermill": {
     "duration": 0.036413,
     "end_time": "2022-10-12T01:06:08.501325",
     "exception": false,
     "start_time": "2022-10-12T01:06:08.464912",
     "status": "completed"
    },
    "tags": []
   },
   "source": [
    "# COVID-19 Case Race\n",
    "> A race chart to see rising cases around the world\n",
    "\n",
    "- author: Hargun Oberoi\n",
    "- image: images/covid-overview.png\n",
    "- hide: false\n",
    "- badges: false"
   ]
  },
  {
   "cell_type": "code",
   "execution_count": 1,
   "id": "proof-material",
   "metadata": {
    "execution": {
     "iopub.execute_input": "2022-10-12T01:06:08.571831Z",
     "iopub.status.busy": "2022-10-12T01:06:08.571191Z",
     "iopub.status.idle": "2022-10-12T01:06:08.922034Z",
     "shell.execute_reply": "2022-10-12T01:06:08.920950Z"
    },
    "papermill": {
     "duration": 0.39048,
     "end_time": "2022-10-12T01:06:08.922219",
     "exception": false,
     "start_time": "2022-10-12T01:06:08.531739",
     "status": "completed"
    },
    "tags": []
   },
   "outputs": [],
   "source": [
    "#hide\n",
    "import numpy as np\n",
    "import pandas as pd\n",
    "from jinja2 import Template\n",
    "from IPython.display import HTML"
   ]
  },
  {
   "cell_type": "code",
   "execution_count": 2,
   "id": "developed-terminology",
   "metadata": {
    "execution": {
     "iopub.execute_input": "2022-10-12T01:06:08.988585Z",
     "iopub.status.busy": "2022-10-12T01:06:08.987925Z",
     "iopub.status.idle": "2022-10-12T01:06:08.990403Z",
     "shell.execute_reply": "2022-10-12T01:06:08.989774Z"
    },
    "papermill": {
     "duration": 0.037482,
     "end_time": "2022-10-12T01:06:08.990528",
     "exception": false,
     "start_time": "2022-10-12T01:06:08.953046",
     "status": "completed"
    },
    "tags": []
   },
   "outputs": [],
   "source": [
    "#hide\n",
    "\n",
    "# FETCH\n",
    "base_url = 'https://raw.githubusercontent.com/pratapvardhan/notebooks/master/covid19/'\n",
    "paths = {\n",
    "    'mapping': base_url + 'mapping_countries.csv',\n",
    "    'overview': base_url + 'overview.tpl'\n",
    "}"
   ]
  },
  {
   "cell_type": "code",
   "execution_count": 3,
   "id": "dynamic-saver",
   "metadata": {
    "execution": {
     "iopub.execute_input": "2022-10-12T01:06:09.060308Z",
     "iopub.status.busy": "2022-10-12T01:06:09.059688Z",
     "iopub.status.idle": "2022-10-12T01:06:09.062932Z",
     "shell.execute_reply": "2022-10-12T01:06:09.063411Z"
    },
    "papermill": {
     "duration": 0.04367,
     "end_time": "2022-10-12T01:06:09.063549",
     "exception": false,
     "start_time": "2022-10-12T01:06:09.019879",
     "status": "completed"
    },
    "tags": []
   },
   "outputs": [
    {
     "data": {
      "text/plain": [
       "'https://raw.githubusercontent.com/pratapvardhan/notebooks/master/covid19/mapping_countries.csv'"
      ]
     },
     "execution_count": 3,
     "metadata": {},
     "output_type": "execute_result"
    }
   ],
   "source": [
    "#hide\n",
    "paths['mapping']"
   ]
  },
  {
   "cell_type": "code",
   "execution_count": 4,
   "id": "urban-software",
   "metadata": {
    "execution": {
     "iopub.execute_input": "2022-10-12T01:06:09.128840Z",
     "iopub.status.busy": "2022-10-12T01:06:09.128236Z",
     "iopub.status.idle": "2022-10-12T01:06:09.130829Z",
     "shell.execute_reply": "2022-10-12T01:06:09.131381Z"
    },
    "papermill": {
     "duration": 0.03817,
     "end_time": "2022-10-12T01:06:09.131518",
     "exception": false,
     "start_time": "2022-10-12T01:06:09.093348",
     "status": "completed"
    },
    "tags": []
   },
   "outputs": [],
   "source": [
    "#hide\n",
    "def get_mappings(url):\n",
    "    df = pd.read_csv(url)\n",
    "    return {\n",
    "        'df': df,\n",
    "        'replace.country': dict(df.dropna(subset=['Name']).set_index('Country')['Name']),\n",
    "        'map.continent': dict(df.set_index('Name')['Continent'])\n",
    "    }"
   ]
  },
  {
   "cell_type": "code",
   "execution_count": 5,
   "id": "intimate-machinery",
   "metadata": {
    "execution": {
     "iopub.execute_input": "2022-10-12T01:06:09.197027Z",
     "iopub.status.busy": "2022-10-12T01:06:09.196401Z",
     "iopub.status.idle": "2022-10-12T01:06:09.240416Z",
     "shell.execute_reply": "2022-10-12T01:06:09.240979Z"
    },
    "papermill": {
     "duration": 0.080085,
     "end_time": "2022-10-12T01:06:09.241138",
     "exception": false,
     "start_time": "2022-10-12T01:06:09.161053",
     "status": "completed"
    },
    "tags": []
   },
   "outputs": [],
   "source": [
    "#hide\n",
    "mapping = get_mappings(paths['mapping'])"
   ]
  },
  {
   "cell_type": "code",
   "execution_count": 6,
   "id": "certified-tactics",
   "metadata": {
    "execution": {
     "iopub.execute_input": "2022-10-12T01:06:09.307745Z",
     "iopub.status.busy": "2022-10-12T01:06:09.307110Z",
     "iopub.status.idle": "2022-10-12T01:06:09.309487Z",
     "shell.execute_reply": "2022-10-12T01:06:09.308916Z"
    },
    "papermill": {
     "duration": 0.038086,
     "end_time": "2022-10-12T01:06:09.309601",
     "exception": false,
     "start_time": "2022-10-12T01:06:09.271515",
     "status": "completed"
    },
    "tags": []
   },
   "outputs": [],
   "source": [
    "#hide\n",
    "def get_template(path):\n",
    "    from urllib.parse import urlparse\n",
    "    if bool(urlparse(path).netloc):\n",
    "        from urllib.request import urlopen\n",
    "        return urlopen(path).read().decode('utf8')\n",
    "    return open(path).read()"
   ]
  },
  {
   "cell_type": "code",
   "execution_count": 7,
   "id": "realistic-blast",
   "metadata": {
    "execution": {
     "iopub.execute_input": "2022-10-12T01:06:09.375161Z",
     "iopub.status.busy": "2022-10-12T01:06:09.374426Z",
     "iopub.status.idle": "2022-10-12T01:06:09.376210Z",
     "shell.execute_reply": "2022-10-12T01:06:09.376756Z"
    },
    "papermill": {
     "duration": 0.037536,
     "end_time": "2022-10-12T01:06:09.376904",
     "exception": false,
     "start_time": "2022-10-12T01:06:09.339368",
     "status": "completed"
    },
    "tags": []
   },
   "outputs": [],
   "source": [
    "#hide\n",
    "def get_frame(name):\n",
    "    url = (\n",
    "        'https://raw.githubusercontent.com/CSSEGISandData/COVID-19/master/csse_covid_19_data/'\n",
    "        f'csse_covid_19_time_series/time_series_covid19_{name}_global.csv')\n",
    "    df = pd.read_csv(url)\n",
    "    # rename countries\n",
    "    df['Country/Region'] = df['Country/Region'].replace(mapping['replace.country'])\n",
    "    return df"
   ]
  },
  {
   "cell_type": "code",
   "execution_count": 8,
   "id": "affiliated-characterization",
   "metadata": {
    "execution": {
     "iopub.execute_input": "2022-10-12T01:06:09.443862Z",
     "iopub.status.busy": "2022-10-12T01:06:09.443116Z",
     "iopub.status.idle": "2022-10-12T01:06:09.445996Z",
     "shell.execute_reply": "2022-10-12T01:06:09.446449Z"
    },
    "papermill": {
     "duration": 0.039444,
     "end_time": "2022-10-12T01:06:09.446589",
     "exception": false,
     "start_time": "2022-10-12T01:06:09.407145",
     "status": "completed"
    },
    "tags": []
   },
   "outputs": [],
   "source": [
    "#hide\n",
    "def get_dates(df):\n",
    "    dt_cols = df.columns[~df.columns.isin(['Province/State', 'Country/Region', 'Lat', 'Long'])]\n",
    "    LAST_DATE_I = -1\n",
    "    # sometimes last column may be empty, then go backwards\n",
    "    for i in range(-1, -len(dt_cols), -1):\n",
    "        if not df[dt_cols[i]].fillna(0).eq(0).all():\n",
    "            LAST_DATE_I = i\n",
    "            break\n",
    "    return LAST_DATE_I, dt_cols"
   ]
  },
  {
   "cell_type": "code",
   "execution_count": 9,
   "id": "recent-optimization",
   "metadata": {
    "execution": {
     "iopub.execute_input": "2022-10-12T01:06:09.511756Z",
     "iopub.status.busy": "2022-10-12T01:06:09.511133Z",
     "iopub.status.idle": "2022-10-12T01:06:10.002560Z",
     "shell.execute_reply": "2022-10-12T01:06:10.001259Z"
    },
    "papermill": {
     "duration": 0.526581,
     "end_time": "2022-10-12T01:06:10.002695",
     "exception": false,
     "start_time": "2022-10-12T01:06:09.476114",
     "status": "completed"
    },
    "tags": []
   },
   "outputs": [],
   "source": [
    "#hide\n",
    "COL_REGION = 'Country/Region'\n",
    "# Confirmed, Recovered, Deaths\n",
    "df = get_frame('confirmed')\n",
    "# dft_: timeseries, dfc_: today country agg\n",
    "dft_cases = df\n",
    "dft_deaths = get_frame('deaths')\n",
    "dft_recovered = get_frame('recovered')\n",
    "LAST_DATE_I, dt_cols = get_dates(df)"
   ]
  },
  {
   "cell_type": "code",
   "execution_count": 10,
   "id": "absolute-copper",
   "metadata": {
    "execution": {
     "iopub.execute_input": "2022-10-12T01:06:10.068545Z",
     "iopub.status.busy": "2022-10-12T01:06:10.067889Z",
     "iopub.status.idle": "2022-10-12T01:06:10.070399Z",
     "shell.execute_reply": "2022-10-12T01:06:10.069838Z"
    },
    "papermill": {
     "duration": 0.037717,
     "end_time": "2022-10-12T01:06:10.070523",
     "exception": false,
     "start_time": "2022-10-12T01:06:10.032806",
     "status": "completed"
    },
    "tags": []
   },
   "outputs": [],
   "source": [
    "#hide\n",
    "LAST_DATE_I, dt_cols = get_dates(df)\n",
    "dt_today =dt_cols[LAST_DATE_I]\n",
    "# dt_5day = dt_cols[LAST_DATE_I - 5]\n",
    "dt_yday = dt_cols[LAST_DATE_I - 1]"
   ]
  },
  {
   "cell_type": "code",
   "execution_count": 11,
   "id": "restricted-sheriff",
   "metadata": {
    "execution": {
     "iopub.execute_input": "2022-10-12T01:06:10.138375Z",
     "iopub.status.busy": "2022-10-12T01:06:10.137727Z",
     "iopub.status.idle": "2022-10-12T01:06:10.144884Z",
     "shell.execute_reply": "2022-10-12T01:06:10.145364Z"
    },
    "papermill": {
     "duration": 0.045092,
     "end_time": "2022-10-12T01:06:10.145500",
     "exception": false,
     "start_time": "2022-10-12T01:06:10.100408",
     "status": "completed"
    },
    "tags": []
   },
   "outputs": [],
   "source": [
    "#hide\n",
    "dfc_cases = dft_cases.groupby(COL_REGION)[dt_today].sum()\n",
    "dfc_deaths = dft_deaths.groupby(COL_REGION)[dt_today].sum()\n",
    "# dfp_cases = dft_cases.groupby(COL_REGION)[dt_5day].sum()\n",
    "# dfp_deaths = dft_deaths.groupby(COL_REGION)[dt_5day].sum()\n",
    "dfp_cases = dft_cases.groupby(COL_REGION)[dt_yday].sum()\n",
    "dfp_deaths = dft_deaths.groupby(COL_REGION)[dt_yday].sum()"
   ]
  },
  {
   "cell_type": "code",
   "execution_count": 12,
   "id": "deluxe-hepatitis",
   "metadata": {
    "execution": {
     "iopub.execute_input": "2022-10-12T01:06:10.211772Z",
     "iopub.status.busy": "2022-10-12T01:06:10.211186Z",
     "iopub.status.idle": "2022-10-12T01:06:10.216234Z",
     "shell.execute_reply": "2022-10-12T01:06:10.215750Z"
    },
    "papermill": {
     "duration": 0.041067,
     "end_time": "2022-10-12T01:06:10.216352",
     "exception": false,
     "start_time": "2022-10-12T01:06:10.175285",
     "status": "completed"
    },
    "tags": []
   },
   "outputs": [],
   "source": [
    "#hide\n",
    "df_table = (pd.DataFrame(dict(Cases = dfc_cases, Deaths = dfc_deaths, PCases = dfp_cases, PDeaths = dfp_deaths))\n",
    "            .sort_values(by = ['Cases','Deaths'], ascending = [False, False])\n",
    "            .reset_index())"
   ]
  },
  {
   "cell_type": "code",
   "execution_count": 13,
   "id": "educational-chancellor",
   "metadata": {
    "execution": {
     "iopub.execute_input": "2022-10-12T01:06:10.295625Z",
     "iopub.status.busy": "2022-10-12T01:06:10.294974Z",
     "iopub.status.idle": "2022-10-12T01:06:10.303254Z",
     "shell.execute_reply": "2022-10-12T01:06:10.302667Z"
    },
    "papermill": {
     "duration": 0.057372,
     "end_time": "2022-10-12T01:06:10.303371",
     "exception": false,
     "start_time": "2022-10-12T01:06:10.245999",
     "status": "completed"
    },
    "tags": []
   },
   "outputs": [
    {
     "data": {
      "text/html": [
       "<div>\n",
       "<style scoped>\n",
       "    .dataframe tbody tr th:only-of-type {\n",
       "        vertical-align: middle;\n",
       "    }\n",
       "\n",
       "    .dataframe tbody tr th {\n",
       "        vertical-align: top;\n",
       "    }\n",
       "\n",
       "    .dataframe thead th {\n",
       "        text-align: right;\n",
       "    }\n",
       "</style>\n",
       "<table border=\"1\" class=\"dataframe\">\n",
       "  <thead>\n",
       "    <tr style=\"text-align: right;\">\n",
       "      <th></th>\n",
       "      <th>Country/Region</th>\n",
       "      <th>Cases</th>\n",
       "      <th>Deaths</th>\n",
       "      <th>PCases</th>\n",
       "      <th>PDeaths</th>\n",
       "      <th>Cases (+)</th>\n",
       "      <th>Deaths (+)</th>\n",
       "      <th>Fatality Rate</th>\n",
       "      <th>Continent</th>\n",
       "    </tr>\n",
       "  </thead>\n",
       "  <tbody>\n",
       "    <tr>\n",
       "      <th>0</th>\n",
       "      <td>US</td>\n",
       "      <td>96721113</td>\n",
       "      <td>1062681</td>\n",
       "      <td>96699237</td>\n",
       "      <td>1062564</td>\n",
       "      <td>21876</td>\n",
       "      <td>117</td>\n",
       "      <td>1.10</td>\n",
       "      <td>North America</td>\n",
       "    </tr>\n",
       "    <tr>\n",
       "      <th>1</th>\n",
       "      <td>India</td>\n",
       "      <td>44616394</td>\n",
       "      <td>528822</td>\n",
       "      <td>44614437</td>\n",
       "      <td>528814</td>\n",
       "      <td>1957</td>\n",
       "      <td>8</td>\n",
       "      <td>1.19</td>\n",
       "      <td>Asia</td>\n",
       "    </tr>\n",
       "    <tr>\n",
       "      <th>2</th>\n",
       "      <td>France</td>\n",
       "      <td>36092874</td>\n",
       "      <td>156575</td>\n",
       "      <td>35983605</td>\n",
       "      <td>156462</td>\n",
       "      <td>109269</td>\n",
       "      <td>113</td>\n",
       "      <td>0.43</td>\n",
       "      <td>Europe</td>\n",
       "    </tr>\n",
       "    <tr>\n",
       "      <th>3</th>\n",
       "      <td>Brazil</td>\n",
       "      <td>34724189</td>\n",
       "      <td>686877</td>\n",
       "      <td>34707233</td>\n",
       "      <td>686706</td>\n",
       "      <td>16956</td>\n",
       "      <td>171</td>\n",
       "      <td>1.98</td>\n",
       "      <td>South America</td>\n",
       "    </tr>\n",
       "    <tr>\n",
       "      <th>4</th>\n",
       "      <td>Germany</td>\n",
       "      <td>34121168</td>\n",
       "      <td>150720</td>\n",
       "      <td>33948632</td>\n",
       "      <td>150535</td>\n",
       "      <td>172536</td>\n",
       "      <td>185</td>\n",
       "      <td>0.44</td>\n",
       "      <td>Europe</td>\n",
       "    </tr>\n",
       "  </tbody>\n",
       "</table>\n",
       "</div>"
      ],
      "text/plain": [
       "  Country/Region     Cases   Deaths    PCases  PDeaths  Cases (+)  Deaths (+)  \\\n",
       "0             US  96721113  1062681  96699237  1062564      21876         117   \n",
       "1          India  44616394   528822  44614437   528814       1957           8   \n",
       "2         France  36092874   156575  35983605   156462     109269         113   \n",
       "3         Brazil  34724189   686877  34707233   686706      16956         171   \n",
       "4        Germany  34121168   150720  33948632   150535     172536         185   \n",
       "\n",
       "   Fatality Rate      Continent  \n",
       "0           1.10  North America  \n",
       "1           1.19           Asia  \n",
       "2           0.43         Europe  \n",
       "3           1.98  South America  \n",
       "4           0.44         Europe  "
      ]
     },
     "execution_count": 13,
     "metadata": {},
     "output_type": "execute_result"
    }
   ],
   "source": [
    "#hide\n",
    "for c in 'Cases, Deaths'.split(', '):\n",
    "    df_table[f'{c} (+)'] = (df_table[c] - df_table[f'P{c}']).clip(0)\n",
    "    #Clip ça veut dire, les chiffres negatif sont interdit\n",
    "df_table['Fatality Rate'] = (100* df_table['Deaths']/ df_table['Cases']).round(2)\n",
    "df_table['Continent'] = df_table['Country/Region'].map(mapping['map.continent'])\n",
    "df_table.head(5)"
   ]
  },
  {
   "cell_type": "code",
   "execution_count": 14,
   "id": "aboriginal-bulgaria",
   "metadata": {
    "execution": {
     "iopub.execute_input": "2022-10-12T01:06:10.370446Z",
     "iopub.status.busy": "2022-10-12T01:06:10.369822Z",
     "iopub.status.idle": "2022-10-12T01:06:10.372243Z",
     "shell.execute_reply": "2022-10-12T01:06:10.372799Z"
    },
    "papermill": {
     "duration": 0.039234,
     "end_time": "2022-10-12T01:06:10.372931",
     "exception": false,
     "start_time": "2022-10-12T01:06:10.333697",
     "status": "completed"
    },
    "tags": []
   },
   "outputs": [],
   "source": [
    "#hide\n",
    "#delete problematic countries from table\n",
    "df_table = df_table[~df_table['Country/Region'].isin(['Cape Verde', 'Cruise Ship', 'Kosovo'])]"
   ]
  },
  {
   "cell_type": "code",
   "execution_count": 15,
   "id": "fantastic-effect",
   "metadata": {
    "execution": {
     "iopub.execute_input": "2022-10-12T01:06:10.441809Z",
     "iopub.status.busy": "2022-10-12T01:06:10.441165Z",
     "iopub.status.idle": "2022-10-12T01:06:10.459440Z",
     "shell.execute_reply": "2022-10-12T01:06:10.458948Z"
    },
    "papermill": {
     "duration": 0.056543,
     "end_time": "2022-10-12T01:06:10.459559",
     "exception": false,
     "start_time": "2022-10-12T01:06:10.403016",
     "status": "completed"
    },
    "tags": []
   },
   "outputs": [
    {
     "data": {
      "text/html": [
       "<div>\n",
       "<style scoped>\n",
       "    .dataframe tbody tr th:only-of-type {\n",
       "        vertical-align: middle;\n",
       "    }\n",
       "\n",
       "    .dataframe tbody tr th {\n",
       "        vertical-align: top;\n",
       "    }\n",
       "\n",
       "    .dataframe thead th {\n",
       "        text-align: right;\n",
       "    }\n",
       "</style>\n",
       "<table border=\"1\" class=\"dataframe\">\n",
       "  <thead>\n",
       "    <tr style=\"text-align: right;\">\n",
       "      <th></th>\n",
       "      <th>Country/Region</th>\n",
       "      <th>Cases</th>\n",
       "      <th>Deaths</th>\n",
       "      <th>PCases</th>\n",
       "      <th>PDeaths</th>\n",
       "      <th>Cases (+)</th>\n",
       "      <th>Deaths (+)</th>\n",
       "      <th>Fatality Rate</th>\n",
       "      <th>Continent</th>\n",
       "    </tr>\n",
       "  </thead>\n",
       "  <tbody>\n",
       "    <tr>\n",
       "      <th>0</th>\n",
       "      <td>US</td>\n",
       "      <td>96721113</td>\n",
       "      <td>1062681</td>\n",
       "      <td>96699237</td>\n",
       "      <td>1062564</td>\n",
       "      <td>21876</td>\n",
       "      <td>117</td>\n",
       "      <td>1.1</td>\n",
       "      <td>North America</td>\n",
       "    </tr>\n",
       "    <tr>\n",
       "      <th>1</th>\n",
       "      <td>India</td>\n",
       "      <td>44616394</td>\n",
       "      <td>528822</td>\n",
       "      <td>44614437</td>\n",
       "      <td>528814</td>\n",
       "      <td>1957</td>\n",
       "      <td>8</td>\n",
       "      <td>1.2</td>\n",
       "      <td>Asia</td>\n",
       "    </tr>\n",
       "    <tr>\n",
       "      <th>2</th>\n",
       "      <td>France</td>\n",
       "      <td>36092874</td>\n",
       "      <td>156575</td>\n",
       "      <td>35983605</td>\n",
       "      <td>156462</td>\n",
       "      <td>109269</td>\n",
       "      <td>113</td>\n",
       "      <td>0.4</td>\n",
       "      <td>Europe</td>\n",
       "    </tr>\n",
       "    <tr>\n",
       "      <th>3</th>\n",
       "      <td>Brazil</td>\n",
       "      <td>34724189</td>\n",
       "      <td>686877</td>\n",
       "      <td>34707233</td>\n",
       "      <td>686706</td>\n",
       "      <td>16956</td>\n",
       "      <td>171</td>\n",
       "      <td>2.0</td>\n",
       "      <td>South America</td>\n",
       "    </tr>\n",
       "    <tr>\n",
       "      <th>4</th>\n",
       "      <td>Germany</td>\n",
       "      <td>34121168</td>\n",
       "      <td>150720</td>\n",
       "      <td>33948632</td>\n",
       "      <td>150535</td>\n",
       "      <td>172536</td>\n",
       "      <td>185</td>\n",
       "      <td>0.4</td>\n",
       "      <td>Europe</td>\n",
       "    </tr>\n",
       "  </tbody>\n",
       "</table>\n",
       "</div>"
      ],
      "text/plain": [
       "  Country/Region     Cases   Deaths    PCases  PDeaths  Cases (+)  Deaths (+)  \\\n",
       "0             US  96721113  1062681  96699237  1062564      21876         117   \n",
       "1          India  44616394   528822  44614437   528814       1957           8   \n",
       "2         France  36092874   156575  35983605   156462     109269         113   \n",
       "3         Brazil  34724189   686877  34707233   686706      16956         171   \n",
       "4        Germany  34121168   150720  33948632   150535     172536         185   \n",
       "\n",
       "   Fatality Rate      Continent  \n",
       "0            1.1  North America  \n",
       "1            1.2           Asia  \n",
       "2            0.4         Europe  \n",
       "3            2.0  South America  \n",
       "4            0.4         Europe  "
      ]
     },
     "execution_count": 15,
     "metadata": {},
     "output_type": "execute_result"
    }
   ],
   "source": [
    "#hide\n",
    "df_table = (pd.DataFrame(dict(Cases=dfc_cases, Deaths=dfc_deaths, PCases=dfp_cases, PDeaths=dfp_deaths))\n",
    "             .sort_values(by=['Cases', 'Deaths'], ascending=[False, False])\n",
    "             .reset_index())\n",
    "df_table.rename(columns={'index': 'Country/Region'}, inplace=True)\n",
    "for c in 'Cases, Deaths'.split(', '):\n",
    "    df_table[f'{c} (+)'] = (df_table[c] - df_table[f'P{c}']).clip(0)  # DATA BUG\n",
    "df_table['Fatality Rate'] = (100 * df_table['Deaths'] / df_table['Cases']).round(1)\n",
    "df_table['Continent'] = df_table['Country/Region'].map(mapping['map.continent'])\n",
    "df_table.head(5)"
   ]
  },
  {
   "cell_type": "code",
   "execution_count": 16,
   "id": "fewer-occasion",
   "metadata": {
    "execution": {
     "iopub.execute_input": "2022-10-12T01:06:10.528632Z",
     "iopub.status.busy": "2022-10-12T01:06:10.528022Z",
     "iopub.status.idle": "2022-10-12T01:06:10.531087Z",
     "shell.execute_reply": "2022-10-12T01:06:10.530598Z"
    },
    "papermill": {
     "duration": 0.040585,
     "end_time": "2022-10-12T01:06:10.531198",
     "exception": false,
     "start_time": "2022-10-12T01:06:10.490613",
     "status": "completed"
    },
    "tags": []
   },
   "outputs": [],
   "source": [
    "#hide\n",
    "#delete problematic countries from table\n",
    "df_table = df_table[~df_table['Country/Region'].isin(['Cape Verde', 'Cruise Ship', 'Kosovo'])]"
   ]
  },
  {
   "cell_type": "code",
   "execution_count": 17,
   "id": "related-center",
   "metadata": {
    "execution": {
     "iopub.execute_input": "2022-10-12T01:06:10.606801Z",
     "iopub.status.busy": "2022-10-12T01:06:10.606110Z",
     "iopub.status.idle": "2022-10-12T01:06:10.614516Z",
     "shell.execute_reply": "2022-10-12T01:06:10.614978Z"
    },
    "papermill": {
     "duration": 0.053321,
     "end_time": "2022-10-12T01:06:10.615128",
     "exception": false,
     "start_time": "2022-10-12T01:06:10.561807",
     "status": "completed"
    },
    "tags": []
   },
   "outputs": [],
   "source": [
    "#hide\n",
    "metrics = [df_table.columns[index] for index in [1,2,5,6]]\n",
    "# s_china = df_table[df_table['Country/Region'].eq('China')][metrics].sum().add_prefix('China ')\n",
    "s_us = df_table[df_table['Country/Region'].eq('US')][metrics].sum().add_prefix('US ')\n",
    "s_eu = df_table[df_table['Continent'].eq('Europe')][metrics].sum().add_prefix('EU ')\n",
    "s_ind = df_table[df_table['Country/Region'].eq('India')][metrics].sum().add_prefix('India ')\n",
    "summary = {'updated': pd.to_datetime(dt_today), 'since': pd.to_datetime(dt_yday)}\n",
    "summary = {'updated': pd.to_datetime(dt_today), 'since': pd.to_datetime(dt_yday)}\n",
    "summary = {**summary, **df_table[metrics].sum(), **s_ind, **s_us, **s_eu}"
   ]
  },
  {
   "cell_type": "code",
   "execution_count": 18,
   "id": "engaging-syndrome",
   "metadata": {
    "execution": {
     "iopub.execute_input": "2022-10-12T01:06:10.683061Z",
     "iopub.status.busy": "2022-10-12T01:06:10.682429Z",
     "iopub.status.idle": "2022-10-12T01:06:10.704838Z",
     "shell.execute_reply": "2022-10-12T01:06:10.704346Z"
    },
    "papermill": {
     "duration": 0.059036,
     "end_time": "2022-10-12T01:06:10.704961",
     "exception": false,
     "start_time": "2022-10-12T01:06:10.645925",
     "status": "completed"
    },
    "tags": []
   },
   "outputs": [],
   "source": [
    "#hide\n",
    "dft_ct_new_cases = dft_cases.groupby(COL_REGION)[dt_cols].sum().diff(axis=1).fillna(0).astype(int)"
   ]
  },
  {
   "cell_type": "code",
   "execution_count": 19,
   "id": "neutral-assignment",
   "metadata": {
    "execution": {
     "iopub.execute_input": "2022-10-12T01:06:10.774833Z",
     "iopub.status.busy": "2022-10-12T01:06:10.774147Z",
     "iopub.status.idle": "2022-10-12T01:06:10.776190Z",
     "shell.execute_reply": "2022-10-12T01:06:10.776666Z"
    },
    "papermill": {
     "duration": 0.04114,
     "end_time": "2022-10-12T01:06:10.776805",
     "exception": false,
     "start_time": "2022-10-12T01:06:10.735665",
     "status": "completed"
    },
    "tags": []
   },
   "outputs": [],
   "source": [
    "#hide\n",
    "everydaycases = dft_ct_new_cases.cumsum(axis=1)"
   ]
  },
  {
   "cell_type": "code",
   "execution_count": 20,
   "id": "parliamentary-calgary",
   "metadata": {
    "execution": {
     "iopub.execute_input": "2022-10-12T01:06:10.843212Z",
     "iopub.status.busy": "2022-10-12T01:06:10.842603Z",
     "iopub.status.idle": "2022-10-12T01:06:11.428064Z",
     "shell.execute_reply": "2022-10-12T01:06:11.427517Z"
    },
    "papermill": {
     "duration": 0.620689,
     "end_time": "2022-10-12T01:06:11.428185",
     "exception": false,
     "start_time": "2022-10-12T01:06:10.807496",
     "status": "completed"
    },
    "tags": []
   },
   "outputs": [],
   "source": [
    "#hide\n",
    "import pandas as pd\n",
    "import matplotlib.pyplot as plt\n",
    "import matplotlib.ticker as ticker\n",
    "import matplotlib.animation as animation\n",
    "from IPython.display import HTML"
   ]
  },
  {
   "cell_type": "code",
   "execution_count": 21,
   "id": "lasting-extraction",
   "metadata": {
    "execution": {
     "iopub.execute_input": "2022-10-12T01:06:11.498053Z",
     "iopub.status.busy": "2022-10-12T01:06:11.497440Z",
     "iopub.status.idle": "2022-10-12T01:06:11.505964Z",
     "shell.execute_reply": "2022-10-12T01:06:11.505465Z"
    },
    "papermill": {
     "duration": 0.046768,
     "end_time": "2022-10-12T01:06:11.506085",
     "exception": false,
     "start_time": "2022-10-12T01:06:11.459317",
     "status": "completed"
    },
    "tags": []
   },
   "outputs": [],
   "source": [
    "#hide\n",
    "t = everydaycases.stack()"
   ]
  },
  {
   "cell_type": "code",
   "execution_count": 22,
   "id": "premier-sleeve",
   "metadata": {
    "execution": {
     "iopub.execute_input": "2022-10-12T01:06:11.574041Z",
     "iopub.status.busy": "2022-10-12T01:06:11.573427Z",
     "iopub.status.idle": "2022-10-12T01:06:11.586990Z",
     "shell.execute_reply": "2022-10-12T01:06:11.587421Z"
    },
    "papermill": {
     "duration": 0.049843,
     "end_time": "2022-10-12T01:06:11.587571",
     "exception": false,
     "start_time": "2022-10-12T01:06:11.537728",
     "status": "completed"
    },
    "tags": []
   },
   "outputs": [],
   "source": [
    "#hide\n",
    "g = t.reset_index(['Country/Region'])"
   ]
  },
  {
   "cell_type": "code",
   "execution_count": 23,
   "id": "distributed-pittsburgh",
   "metadata": {
    "execution": {
     "iopub.execute_input": "2022-10-12T01:06:11.653820Z",
     "iopub.status.busy": "2022-10-12T01:06:11.653188Z",
     "iopub.status.idle": "2022-10-12T01:06:11.655758Z",
     "shell.execute_reply": "2022-10-12T01:06:11.655172Z"
    },
    "papermill": {
     "duration": 0.037623,
     "end_time": "2022-10-12T01:06:11.655880",
     "exception": false,
     "start_time": "2022-10-12T01:06:11.618257",
     "status": "completed"
    },
    "tags": []
   },
   "outputs": [],
   "source": [
    "#hide\n",
    "g.index.name = 'date'"
   ]
  },
  {
   "cell_type": "code",
   "execution_count": 24,
   "id": "naked-donor",
   "metadata": {
    "execution": {
     "iopub.execute_input": "2022-10-12T01:06:11.722326Z",
     "iopub.status.busy": "2022-10-12T01:06:11.721544Z",
     "iopub.status.idle": "2022-10-12T01:06:11.726143Z",
     "shell.execute_reply": "2022-10-12T01:06:11.725646Z"
    },
    "papermill": {
     "duration": 0.039397,
     "end_time": "2022-10-12T01:06:11.726285",
     "exception": false,
     "start_time": "2022-10-12T01:06:11.686888",
     "status": "completed"
    },
    "tags": []
   },
   "outputs": [],
   "source": [
    "# #hide\n",
    "# g = g.reset_index(['date'])"
   ]
  },
  {
   "cell_type": "code",
   "execution_count": 25,
   "id": "incomplete-mustang",
   "metadata": {
    "execution": {
     "iopub.execute_input": "2022-10-12T01:06:11.792782Z",
     "iopub.status.busy": "2022-10-12T01:06:11.792112Z",
     "iopub.status.idle": "2022-10-12T01:06:11.796617Z",
     "shell.execute_reply": "2022-10-12T01:06:11.797049Z"
    },
    "papermill": {
     "duration": 0.040005,
     "end_time": "2022-10-12T01:06:11.797192",
     "exception": false,
     "start_time": "2022-10-12T01:06:11.757187",
     "status": "completed"
    },
    "tags": []
   },
   "outputs": [],
   "source": [
    "#hide\n",
    "# g.head()"
   ]
  },
  {
   "cell_type": "code",
   "execution_count": 26,
   "id": "specific-kruger",
   "metadata": {
    "execution": {
     "iopub.execute_input": "2022-10-12T01:06:11.869444Z",
     "iopub.status.busy": "2022-10-12T01:06:11.868841Z",
     "iopub.status.idle": "2022-10-12T01:06:11.875343Z",
     "shell.execute_reply": "2022-10-12T01:06:11.874885Z"
    },
    "papermill": {
     "duration": 0.043251,
     "end_time": "2022-10-12T01:06:11.875460",
     "exception": false,
     "start_time": "2022-10-12T01:06:11.832209",
     "status": "completed"
    },
    "tags": []
   },
   "outputs": [],
   "source": [
    "#hide\n",
    "# g.columns = ['date','country','cases']"
   ]
  },
  {
   "cell_type": "code",
   "execution_count": 27,
   "id": "tender-conversion",
   "metadata": {
    "execution": {
     "iopub.execute_input": "2022-10-12T01:06:11.946844Z",
     "iopub.status.busy": "2022-10-12T01:06:11.945285Z",
     "iopub.status.idle": "2022-10-12T01:06:11.947667Z",
     "shell.execute_reply": "2022-10-12T01:06:11.948179Z"
    },
    "papermill": {
     "duration": 0.040065,
     "end_time": "2022-10-12T01:06:11.948324",
     "exception": false,
     "start_time": "2022-10-12T01:06:11.908259",
     "status": "completed"
    },
    "tags": []
   },
   "outputs": [],
   "source": [
    "#hide\n",
    "# g['continent'] = g.country"
   ]
  },
  {
   "cell_type": "code",
   "execution_count": 28,
   "id": "substantial-wilderness",
   "metadata": {
    "execution": {
     "iopub.execute_input": "2022-10-12T01:06:12.014831Z",
     "iopub.status.busy": "2022-10-12T01:06:12.014051Z",
     "iopub.status.idle": "2022-10-12T01:06:12.015919Z",
     "shell.execute_reply": "2022-10-12T01:06:12.016477Z"
    },
    "papermill": {
     "duration": 0.037309,
     "end_time": "2022-10-12T01:06:12.016627",
     "exception": false,
     "start_time": "2022-10-12T01:06:11.979318",
     "status": "completed"
    },
    "tags": []
   },
   "outputs": [],
   "source": [
    "#hide\n",
    "# cols = list(g.columns.values)"
   ]
  },
  {
   "cell_type": "code",
   "execution_count": 29,
   "id": "solved-farming",
   "metadata": {
    "execution": {
     "iopub.execute_input": "2022-10-12T01:06:12.087641Z",
     "iopub.status.busy": "2022-10-12T01:06:12.087052Z",
     "iopub.status.idle": "2022-10-12T01:06:12.090010Z",
     "shell.execute_reply": "2022-10-12T01:06:12.090466Z"
    },
    "papermill": {
     "duration": 0.039323,
     "end_time": "2022-10-12T01:06:12.090608",
     "exception": false,
     "start_time": "2022-10-12T01:06:12.051285",
     "status": "completed"
    },
    "tags": []
   },
   "outputs": [],
   "source": [
    "#hide\n",
    "# cols.insert(0, cols.pop())"
   ]
  },
  {
   "cell_type": "code",
   "execution_count": 30,
   "id": "executed-adoption",
   "metadata": {
    "execution": {
     "iopub.execute_input": "2022-10-12T01:06:12.160361Z",
     "iopub.status.busy": "2022-10-12T01:06:12.159660Z",
     "iopub.status.idle": "2022-10-12T01:06:12.163846Z",
     "shell.execute_reply": "2022-10-12T01:06:12.164273Z"
    },
    "papermill": {
     "duration": 0.041641,
     "end_time": "2022-10-12T01:06:12.164412",
     "exception": false,
     "start_time": "2022-10-12T01:06:12.122771",
     "status": "completed"
    },
    "tags": []
   },
   "outputs": [],
   "source": [
    "#hide\n",
    "# g = g[cols]"
   ]
  },
  {
   "cell_type": "code",
   "execution_count": 31,
   "id": "subject-dublin",
   "metadata": {
    "execution": {
     "iopub.execute_input": "2022-10-12T01:06:12.230354Z",
     "iopub.status.busy": "2022-10-12T01:06:12.229595Z",
     "iopub.status.idle": "2022-10-12T01:06:12.233757Z",
     "shell.execute_reply": "2022-10-12T01:06:12.233206Z"
    },
    "papermill": {
     "duration": 0.038836,
     "end_time": "2022-10-12T01:06:12.233896",
     "exception": false,
     "start_time": "2022-10-12T01:06:12.195060",
     "status": "completed"
    },
    "tags": []
   },
   "outputs": [],
   "source": [
    "#hide\n",
    "# g['continent'] = g['continent'].map(mapping['map.continent'])"
   ]
  },
  {
   "cell_type": "code",
   "execution_count": 32,
   "id": "freelance-scout",
   "metadata": {
    "execution": {
     "iopub.execute_input": "2022-10-12T01:06:12.300471Z",
     "iopub.status.busy": "2022-10-12T01:06:12.299763Z",
     "iopub.status.idle": "2022-10-12T01:06:12.303547Z",
     "shell.execute_reply": "2022-10-12T01:06:12.304067Z"
    },
    "papermill": {
     "duration": 0.039236,
     "end_time": "2022-10-12T01:06:12.304215",
     "exception": false,
     "start_time": "2022-10-12T01:06:12.264979",
     "status": "completed"
    },
    "tags": []
   },
   "outputs": [],
   "source": [
    "#hide\n",
    "# g.head()"
   ]
  },
  {
   "cell_type": "code",
   "execution_count": 33,
   "id": "limited-engine",
   "metadata": {
    "execution": {
     "iopub.execute_input": "2022-10-12T01:06:12.370392Z",
     "iopub.status.busy": "2022-10-12T01:06:12.369732Z",
     "iopub.status.idle": "2022-10-12T01:06:12.374599Z",
     "shell.execute_reply": "2022-10-12T01:06:12.374074Z"
    },
    "papermill": {
     "duration": 0.039425,
     "end_time": "2022-10-12T01:06:12.374715",
     "exception": false,
     "start_time": "2022-10-12T01:06:12.335290",
     "status": "completed"
    },
    "tags": []
   },
   "outputs": [],
   "source": [
    "# hide\n",
    "# g['date'] = g['date'].astype('datetime64[ns]')"
   ]
  },
  {
   "cell_type": "code",
   "execution_count": 34,
   "id": "sophisticated-supervisor",
   "metadata": {
    "execution": {
     "iopub.execute_input": "2022-10-12T01:06:12.440504Z",
     "iopub.status.busy": "2022-10-12T01:06:12.439787Z",
     "iopub.status.idle": "2022-10-12T01:06:12.442253Z",
     "shell.execute_reply": "2022-10-12T01:06:12.441646Z"
    },
    "papermill": {
     "duration": 0.03696,
     "end_time": "2022-10-12T01:06:12.442369",
     "exception": false,
     "start_time": "2022-10-12T01:06:12.405409",
     "status": "completed"
    },
    "tags": []
   },
   "outputs": [],
   "source": [
    "#hide\n",
    "# g['date'] = g.date.dt.dayofyear"
   ]
  },
  {
   "cell_type": "code",
   "execution_count": 35,
   "id": "inside-dubai",
   "metadata": {
    "execution": {
     "iopub.execute_input": "2022-10-12T01:06:12.508342Z",
     "iopub.status.busy": "2022-10-12T01:06:12.507708Z",
     "iopub.status.idle": "2022-10-12T01:06:12.510507Z",
     "shell.execute_reply": "2022-10-12T01:06:12.509895Z"
    },
    "papermill": {
     "duration": 0.037478,
     "end_time": "2022-10-12T01:06:12.510636",
     "exception": false,
     "start_time": "2022-10-12T01:06:12.473158",
     "status": "completed"
    },
    "tags": []
   },
   "outputs": [],
   "source": [
    "#hide\n",
    "# g = g.rename(columns= {'continent':'group','country':'name','cases':'value'})"
   ]
  },
  {
   "cell_type": "code",
   "execution_count": 36,
   "id": "fleet-motorcycle",
   "metadata": {
    "execution": {
     "iopub.execute_input": "2022-10-12T01:06:12.577136Z",
     "iopub.status.busy": "2022-10-12T01:06:12.576418Z",
     "iopub.status.idle": "2022-10-12T01:06:12.578353Z",
     "shell.execute_reply": "2022-10-12T01:06:12.578883Z"
    },
    "papermill": {
     "duration": 0.037288,
     "end_time": "2022-10-12T01:06:12.579031",
     "exception": false,
     "start_time": "2022-10-12T01:06:12.541743",
     "status": "completed"
    },
    "tags": []
   },
   "outputs": [],
   "source": [
    "#hide\n",
    "# cols = ['name','group','day','value']"
   ]
  },
  {
   "cell_type": "code",
   "execution_count": 37,
   "id": "continued-sleeping",
   "metadata": {
    "execution": {
     "iopub.execute_input": "2022-10-12T01:06:12.645318Z",
     "iopub.status.busy": "2022-10-12T01:06:12.644664Z",
     "iopub.status.idle": "2022-10-12T01:06:12.648749Z",
     "shell.execute_reply": "2022-10-12T01:06:12.648260Z"
    },
    "papermill": {
     "duration": 0.038618,
     "end_time": "2022-10-12T01:06:12.648864",
     "exception": false,
     "start_time": "2022-10-12T01:06:12.610246",
     "status": "completed"
    },
    "tags": []
   },
   "outputs": [],
   "source": [
    "#hide\n",
    "# g.rename(columns= {'date':'day'},inplace = True)"
   ]
  },
  {
   "cell_type": "code",
   "execution_count": 38,
   "id": "major-fight",
   "metadata": {
    "execution": {
     "iopub.execute_input": "2022-10-12T01:06:12.715034Z",
     "iopub.status.busy": "2022-10-12T01:06:12.714294Z",
     "iopub.status.idle": "2022-10-12T01:06:12.716083Z",
     "shell.execute_reply": "2022-10-12T01:06:12.716621Z"
    },
    "papermill": {
     "duration": 0.036999,
     "end_time": "2022-10-12T01:06:12.716775",
     "exception": false,
     "start_time": "2022-10-12T01:06:12.679776",
     "status": "completed"
    },
    "tags": []
   },
   "outputs": [],
   "source": [
    "#hide\n",
    "# g = g[cols]"
   ]
  },
  {
   "cell_type": "code",
   "execution_count": 39,
   "id": "structured-mobile",
   "metadata": {
    "execution": {
     "iopub.execute_input": "2022-10-12T01:06:12.781290Z",
     "iopub.status.busy": "2022-10-12T01:06:12.780688Z",
     "iopub.status.idle": "2022-10-12T01:06:12.784722Z",
     "shell.execute_reply": "2022-10-12T01:06:12.784243Z"
    },
    "papermill": {
     "duration": 0.037481,
     "end_time": "2022-10-12T01:06:12.784835",
     "exception": false,
     "start_time": "2022-10-12T01:06:12.747354",
     "status": "completed"
    },
    "tags": []
   },
   "outputs": [],
   "source": [
    "# #hide\n",
    "# g = g[g.group.notna()]"
   ]
  },
  {
   "cell_type": "code",
   "execution_count": 40,
   "id": "determined-closing",
   "metadata": {
    "execution": {
     "iopub.execute_input": "2022-10-12T01:06:12.851105Z",
     "iopub.status.busy": "2022-10-12T01:06:12.850409Z",
     "iopub.status.idle": "2022-10-12T01:06:12.853552Z",
     "shell.execute_reply": "2022-10-12T01:06:12.853070Z"
    },
    "papermill": {
     "duration": 0.038004,
     "end_time": "2022-10-12T01:06:12.853665",
     "exception": false,
     "start_time": "2022-10-12T01:06:12.815661",
     "status": "completed"
    },
    "tags": []
   },
   "outputs": [],
   "source": [
    "# #hide\n",
    "# colors = dict(zip(\n",
    "#     [\"Oceania\", \"Europe\", \"Asia\", \"South America\", \"Middle East\", \"North America\", \"Africa\"],\n",
    "#     [\"#adb0ff\", \"#ffb3ff\", \"#90d595\", \"#e48381\", \"#aafbff\", \"#f7bb5f\", \"#eafb50\"]\n",
    "# ))\n",
    "# group_lk = g.set_index('name')['group'].to_dict()"
   ]
  },
  {
   "cell_type": "code",
   "execution_count": null,
   "id": "gross-drinking",
   "metadata": {
    "papermill": {
     "duration": 0.030566,
     "end_time": "2022-10-12T01:06:12.914974",
     "exception": false,
     "start_time": "2022-10-12T01:06:12.884408",
     "status": "completed"
    },
    "tags": []
   },
   "outputs": [],
   "source": []
  },
  {
   "cell_type": "code",
   "execution_count": 41,
   "id": "subject-macintosh",
   "metadata": {
    "execution": {
     "iopub.execute_input": "2022-10-12T01:06:12.981893Z",
     "iopub.status.busy": "2022-10-12T01:06:12.981147Z",
     "iopub.status.idle": "2022-10-12T01:06:12.982853Z",
     "shell.execute_reply": "2022-10-12T01:06:12.983407Z"
    },
    "papermill": {
     "duration": 0.037576,
     "end_time": "2022-10-12T01:06:12.983543",
     "exception": false,
     "start_time": "2022-10-12T01:06:12.945967",
     "status": "completed"
    },
    "tags": []
   },
   "outputs": [],
   "source": [
    "# #hide\n",
    "# fig, ax = plt.subplots(figsize=(15, 8))\n",
    "\n",
    "# def draw_barchart(current_day):\n",
    "#     dff = g[g['day'].eq(current_day)].sort_values(by='value', ascending=True).tail(10)\n",
    "#     ax.clear()\n",
    "#     ax.barh(dff['name'], dff['value'], color=[colors[group_lk[x]] for x in dff['name']])\n",
    "#     dx = dff['value'].max() / 200\n",
    "    \n",
    "#     for i, (value, name) in enumerate(zip(dff['value'], dff['name'])):\n",
    "#         ax.text(value-dx, i,     name,           size=14, weight=600, ha='right', va='bottom')\n",
    "#         ax.text(value-dx, i-.25, group_lk[name], size=10, color='#444444', ha='right', va='baseline')\n",
    "#         ax.text(value+dx, i,     f'{value:,.0f}',  size=14, ha='left',  va='center')\n",
    "#     ax.text(1, 0.4, current_day, transform=ax.transAxes, color='#777777', size=46, ha='right', weight=800)\n",
    "#     ax.text(0, 1.06, 'Population (thousands)', transform=ax.transAxes, size=12, color='#777777')\n",
    "#     ax.xaxis.set_major_formatter(ticker.StrMethodFormatter('{x:,.0f}'))\n",
    "#     ax.xaxis.set_ticks_position('top')\n",
    "#     ax.tick_params(axis='x', colors='#777777', labelsize=12)\n",
    "#     ax.set_yticks([])\n",
    "#     ax.margins(0, 0.01)\n",
    "#     ax.grid(which='major', axis='x', linestyle='-')\n",
    "#     ax.set_axisbelow(True)\n",
    "    \n",
    "#     ax.text(0, 1.15, 'Coronavirus',\n",
    "#             transform=ax.transAxes, size=24, weight=600, ha='left', va='top')\n",
    "# #     ax.text(1, 0, 'by @pratapvardhan; credit @jburnmurdoch', transform=ax.transAxes, color='#777777', ha='right',\n",
    "# #             bbox=dict(facecolor='white', alpha=0.8, edgecolor='white'))\n",
    "#     plt.box(False)"
   ]
  },
  {
   "cell_type": "code",
   "execution_count": 42,
   "id": "sexual-wages",
   "metadata": {
    "execution": {
     "iopub.execute_input": "2022-10-12T01:06:13.049949Z",
     "iopub.status.busy": "2022-10-12T01:06:13.049224Z",
     "iopub.status.idle": "2022-10-12T01:06:13.053274Z",
     "shell.execute_reply": "2022-10-12T01:06:13.053765Z"
    },
    "papermill": {
     "duration": 0.03964,
     "end_time": "2022-10-12T01:06:13.053921",
     "exception": false,
     "start_time": "2022-10-12T01:06:13.014281",
     "status": "completed"
    },
    "tags": []
   },
   "outputs": [],
   "source": [
    "# #hide_input\n",
    "# fig, ax = plt.subplots(figsize=(15, 8))\n",
    "# animator = animation.FuncAnimation(fig, draw_barchart, frames=range(g.day.values.min(), g.day.values.max()))\n",
    "# HTML(animator.to_jshtml())\n",
    "# # or use animator.to_html5_video() or animator.save() "
   ]
  },
  {
   "cell_type": "code",
   "execution_count": null,
   "id": "australian-container",
   "metadata": {
    "papermill": {
     "duration": 0.030643,
     "end_time": "2022-10-12T01:06:13.115547",
     "exception": false,
     "start_time": "2022-10-12T01:06:13.084904",
     "status": "completed"
    },
    "tags": []
   },
   "outputs": [],
   "source": []
  },
  {
   "cell_type": "code",
   "execution_count": null,
   "id": "mediterranean-pontiac",
   "metadata": {
    "papermill": {
     "duration": 0.030575,
     "end_time": "2022-10-12T01:06:13.176702",
     "exception": false,
     "start_time": "2022-10-12T01:06:13.146127",
     "status": "completed"
    },
    "tags": []
   },
   "outputs": [],
   "source": []
  },
  {
   "cell_type": "code",
   "execution_count": null,
   "id": "aging-legislature",
   "metadata": {
    "papermill": {
     "duration": 0.030617,
     "end_time": "2022-10-12T01:06:13.238248",
     "exception": false,
     "start_time": "2022-10-12T01:06:13.207631",
     "status": "completed"
    },
    "tags": []
   },
   "outputs": [],
   "source": []
  }
 ],
 "metadata": {
  "kernelspec": {
   "display_name": "Python 3",
   "language": "python",
   "name": "python3"
  },
  "language_info": {
   "codemirror_mode": {
    "name": "ipython",
    "version": 3
   },
   "file_extension": ".py",
   "mimetype": "text/x-python",
   "name": "python",
   "nbconvert_exporter": "python",
   "pygments_lexer": "ipython3",
   "version": "3.6.15"
  },
  "papermill": {
   "duration": 6.485825,
   "end_time": "2022-10-12T01:06:13.688881",
   "environment_variables": {},
   "exception": null,
   "input_path": "2020-03-21-covid19exp.ipynb",
   "output_path": "2020-03-21-covid19exp.ipynb",
   "parameters": {},
   "start_time": "2022-10-12T01:06:07.203056",
   "version": "2.0.0"
  }
 },
 "nbformat": 4,
 "nbformat_minor": 5
}