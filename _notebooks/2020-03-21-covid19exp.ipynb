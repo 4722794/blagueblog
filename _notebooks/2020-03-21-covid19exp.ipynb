{
 "cells": [
  {
   "cell_type": "markdown",
   "id": "muslim-click",
   "metadata": {
    "papermill": {
     "duration": 0.031493,
     "end_time": "2022-04-20T12:15:45.727711",
     "exception": false,
     "start_time": "2022-04-20T12:15:45.696218",
     "status": "completed"
    },
    "tags": []
   },
   "source": [
    "# COVID-19 Case Race\n",
    "> A race chart to see rising cases around the world\n",
    "\n",
    "- author: Hargun Oberoi\n",
    "- image: images/covid-overview.png\n",
    "- hide: false\n",
    "- badges: false"
   ]
  },
  {
   "cell_type": "code",
   "execution_count": 1,
   "id": "proof-material",
   "metadata": {
    "execution": {
     "iopub.execute_input": "2022-04-20T12:15:45.790841Z",
     "iopub.status.busy": "2022-04-20T12:15:45.790359Z",
     "iopub.status.idle": "2022-04-20T12:15:46.084183Z",
     "shell.execute_reply": "2022-04-20T12:15:46.084578Z"
    },
    "papermill": {
     "duration": 0.32955,
     "end_time": "2022-04-20T12:15:46.084750",
     "exception": false,
     "start_time": "2022-04-20T12:15:45.755200",
     "status": "completed"
    },
    "tags": []
   },
   "outputs": [],
   "source": [
    "#hide\n",
    "import numpy as np\n",
    "import pandas as pd\n",
    "from jinja2 import Template\n",
    "from IPython.display import HTML"
   ]
  },
  {
   "cell_type": "code",
   "execution_count": 2,
   "id": "developed-terminology",
   "metadata": {
    "execution": {
     "iopub.execute_input": "2022-04-20T12:15:46.141187Z",
     "iopub.status.busy": "2022-04-20T12:15:46.140714Z",
     "iopub.status.idle": "2022-04-20T12:15:46.142666Z",
     "shell.execute_reply": "2022-04-20T12:15:46.143103Z"
    },
    "papermill": {
     "duration": 0.0326,
     "end_time": "2022-04-20T12:15:46.143220",
     "exception": false,
     "start_time": "2022-04-20T12:15:46.110620",
     "status": "completed"
    },
    "tags": []
   },
   "outputs": [],
   "source": [
    "#hide\n",
    "\n",
    "# FETCH\n",
    "base_url = 'https://raw.githubusercontent.com/pratapvardhan/notebooks/master/covid19/'\n",
    "paths = {\n",
    "    'mapping': base_url + 'mapping_countries.csv',\n",
    "    'overview': base_url + 'overview.tpl'\n",
    "}"
   ]
  },
  {
   "cell_type": "code",
   "execution_count": 3,
   "id": "dynamic-saver",
   "metadata": {
    "execution": {
     "iopub.execute_input": "2022-04-20T12:15:46.202989Z",
     "iopub.status.busy": "2022-04-20T12:15:46.202517Z",
     "iopub.status.idle": "2022-04-20T12:15:46.206171Z",
     "shell.execute_reply": "2022-04-20T12:15:46.206595Z"
    },
    "papermill": {
     "duration": 0.038116,
     "end_time": "2022-04-20T12:15:46.206716",
     "exception": false,
     "start_time": "2022-04-20T12:15:46.168600",
     "status": "completed"
    },
    "tags": []
   },
   "outputs": [
    {
     "data": {
      "text/plain": [
       "'https://raw.githubusercontent.com/pratapvardhan/notebooks/master/covid19/mapping_countries.csv'"
      ]
     },
     "execution_count": 3,
     "metadata": {},
     "output_type": "execute_result"
    }
   ],
   "source": [
    "#hide\n",
    "paths['mapping']"
   ]
  },
  {
   "cell_type": "code",
   "execution_count": 4,
   "id": "urban-software",
   "metadata": {
    "execution": {
     "iopub.execute_input": "2022-04-20T12:15:46.263769Z",
     "iopub.status.busy": "2022-04-20T12:15:46.263150Z",
     "iopub.status.idle": "2022-04-20T12:15:46.266297Z",
     "shell.execute_reply": "2022-04-20T12:15:46.265804Z"
    },
    "papermill": {
     "duration": 0.033814,
     "end_time": "2022-04-20T12:15:46.266418",
     "exception": false,
     "start_time": "2022-04-20T12:15:46.232604",
     "status": "completed"
    },
    "tags": []
   },
   "outputs": [],
   "source": [
    "#hide\n",
    "def get_mappings(url):\n",
    "    df = pd.read_csv(url)\n",
    "    return {\n",
    "        'df': df,\n",
    "        'replace.country': dict(df.dropna(subset=['Name']).set_index('Country')['Name']),\n",
    "        'map.continent': dict(df.set_index('Name')['Continent'])\n",
    "    }"
   ]
  },
  {
   "cell_type": "code",
   "execution_count": 5,
   "id": "intimate-machinery",
   "metadata": {
    "execution": {
     "iopub.execute_input": "2022-04-20T12:15:46.323611Z",
     "iopub.status.busy": "2022-04-20T12:15:46.323122Z",
     "iopub.status.idle": "2022-04-20T12:15:46.348198Z",
     "shell.execute_reply": "2022-04-20T12:15:46.347689Z"
    },
    "papermill": {
     "duration": 0.055983,
     "end_time": "2022-04-20T12:15:46.348326",
     "exception": false,
     "start_time": "2022-04-20T12:15:46.292343",
     "status": "completed"
    },
    "tags": []
   },
   "outputs": [],
   "source": [
    "#hide\n",
    "mapping = get_mappings(paths['mapping'])"
   ]
  },
  {
   "cell_type": "code",
   "execution_count": 6,
   "id": "certified-tactics",
   "metadata": {
    "execution": {
     "iopub.execute_input": "2022-04-20T12:15:46.405154Z",
     "iopub.status.busy": "2022-04-20T12:15:46.404554Z",
     "iopub.status.idle": "2022-04-20T12:15:46.405915Z",
     "shell.execute_reply": "2022-04-20T12:15:46.406401Z"
    },
    "papermill": {
     "duration": 0.032218,
     "end_time": "2022-04-20T12:15:46.406537",
     "exception": false,
     "start_time": "2022-04-20T12:15:46.374319",
     "status": "completed"
    },
    "tags": []
   },
   "outputs": [],
   "source": [
    "#hide\n",
    "def get_template(path):\n",
    "    from urllib.parse import urlparse\n",
    "    if bool(urlparse(path).netloc):\n",
    "        from urllib.request import urlopen\n",
    "        return urlopen(path).read().decode('utf8')\n",
    "    return open(path).read()"
   ]
  },
  {
   "cell_type": "code",
   "execution_count": 7,
   "id": "realistic-blast",
   "metadata": {
    "execution": {
     "iopub.execute_input": "2022-04-20T12:15:46.463631Z",
     "iopub.status.busy": "2022-04-20T12:15:46.463140Z",
     "iopub.status.idle": "2022-04-20T12:15:46.466041Z",
     "shell.execute_reply": "2022-04-20T12:15:46.465686Z"
    },
    "papermill": {
     "duration": 0.032938,
     "end_time": "2022-04-20T12:15:46.466141",
     "exception": false,
     "start_time": "2022-04-20T12:15:46.433203",
     "status": "completed"
    },
    "tags": []
   },
   "outputs": [],
   "source": [
    "#hide\n",
    "def get_frame(name):\n",
    "    url = (\n",
    "        'https://raw.githubusercontent.com/CSSEGISandData/COVID-19/master/csse_covid_19_data/'\n",
    "        f'csse_covid_19_time_series/time_series_covid19_{name}_global.csv')\n",
    "    df = pd.read_csv(url)\n",
    "    # rename countries\n",
    "    df['Country/Region'] = df['Country/Region'].replace(mapping['replace.country'])\n",
    "    return df"
   ]
  },
  {
   "cell_type": "code",
   "execution_count": 8,
   "id": "affiliated-characterization",
   "metadata": {
    "execution": {
     "iopub.execute_input": "2022-04-20T12:15:46.523559Z",
     "iopub.status.busy": "2022-04-20T12:15:46.523076Z",
     "iopub.status.idle": "2022-04-20T12:15:46.525247Z",
     "shell.execute_reply": "2022-04-20T12:15:46.524865Z"
    },
    "papermill": {
     "duration": 0.033425,
     "end_time": "2022-04-20T12:15:46.525344",
     "exception": false,
     "start_time": "2022-04-20T12:15:46.491919",
     "status": "completed"
    },
    "tags": []
   },
   "outputs": [],
   "source": [
    "#hide\n",
    "def get_dates(df):\n",
    "    dt_cols = df.columns[~df.columns.isin(['Province/State', 'Country/Region', 'Lat', 'Long'])]\n",
    "    LAST_DATE_I = -1\n",
    "    # sometimes last column may be empty, then go backwards\n",
    "    for i in range(-1, -len(dt_cols), -1):\n",
    "        if not df[dt_cols[i]].fillna(0).eq(0).all():\n",
    "            LAST_DATE_I = i\n",
    "            break\n",
    "    return LAST_DATE_I, dt_cols"
   ]
  },
  {
   "cell_type": "code",
   "execution_count": 9,
   "id": "recent-optimization",
   "metadata": {
    "execution": {
     "iopub.execute_input": "2022-04-20T12:15:46.583137Z",
     "iopub.status.busy": "2022-04-20T12:15:46.582617Z",
     "iopub.status.idle": "2022-04-20T12:15:46.900418Z",
     "shell.execute_reply": "2022-04-20T12:15:46.899873Z"
    },
    "papermill": {
     "duration": 0.349422,
     "end_time": "2022-04-20T12:15:46.900569",
     "exception": false,
     "start_time": "2022-04-20T12:15:46.551147",
     "status": "completed"
    },
    "tags": []
   },
   "outputs": [],
   "source": [
    "#hide\n",
    "COL_REGION = 'Country/Region'\n",
    "# Confirmed, Recovered, Deaths\n",
    "df = get_frame('confirmed')\n",
    "# dft_: timeseries, dfc_: today country agg\n",
    "dft_cases = df\n",
    "dft_deaths = get_frame('deaths')\n",
    "dft_recovered = get_frame('recovered')\n",
    "LAST_DATE_I, dt_cols = get_dates(df)"
   ]
  },
  {
   "cell_type": "code",
   "execution_count": 10,
   "id": "absolute-copper",
   "metadata": {
    "execution": {
     "iopub.execute_input": "2022-04-20T12:15:46.968727Z",
     "iopub.status.busy": "2022-04-20T12:15:46.968196Z",
     "iopub.status.idle": "2022-04-20T12:15:46.970611Z",
     "shell.execute_reply": "2022-04-20T12:15:46.970201Z"
    },
    "papermill": {
     "duration": 0.038358,
     "end_time": "2022-04-20T12:15:46.970727",
     "exception": false,
     "start_time": "2022-04-20T12:15:46.932369",
     "status": "completed"
    },
    "tags": []
   },
   "outputs": [],
   "source": [
    "#hide\n",
    "LAST_DATE_I, dt_cols = get_dates(df)\n",
    "dt_today =dt_cols[LAST_DATE_I]\n",
    "# dt_5day = dt_cols[LAST_DATE_I - 5]\n",
    "dt_yday = dt_cols[LAST_DATE_I - 1]"
   ]
  },
  {
   "cell_type": "code",
   "execution_count": 11,
   "id": "restricted-sheriff",
   "metadata": {
    "execution": {
     "iopub.execute_input": "2022-04-20T12:15:47.038700Z",
     "iopub.status.busy": "2022-04-20T12:15:47.038185Z",
     "iopub.status.idle": "2022-04-20T12:15:47.045140Z",
     "shell.execute_reply": "2022-04-20T12:15:47.045632Z"
    },
    "papermill": {
     "duration": 0.045222,
     "end_time": "2022-04-20T12:15:47.045762",
     "exception": false,
     "start_time": "2022-04-20T12:15:47.000540",
     "status": "completed"
    },
    "tags": []
   },
   "outputs": [],
   "source": [
    "#hide\n",
    "dfc_cases = dft_cases.groupby(COL_REGION)[dt_today].sum()\n",
    "dfc_deaths = dft_deaths.groupby(COL_REGION)[dt_today].sum()\n",
    "# dfp_cases = dft_cases.groupby(COL_REGION)[dt_5day].sum()\n",
    "# dfp_deaths = dft_deaths.groupby(COL_REGION)[dt_5day].sum()\n",
    "dfp_cases = dft_cases.groupby(COL_REGION)[dt_yday].sum()\n",
    "dfp_deaths = dft_deaths.groupby(COL_REGION)[dt_yday].sum()"
   ]
  },
  {
   "cell_type": "code",
   "execution_count": 12,
   "id": "deluxe-hepatitis",
   "metadata": {
    "execution": {
     "iopub.execute_input": "2022-04-20T12:15:47.109983Z",
     "iopub.status.busy": "2022-04-20T12:15:47.109507Z",
     "iopub.status.idle": "2022-04-20T12:15:47.114001Z",
     "shell.execute_reply": "2022-04-20T12:15:47.113635Z"
    },
    "papermill": {
     "duration": 0.036866,
     "end_time": "2022-04-20T12:15:47.114104",
     "exception": false,
     "start_time": "2022-04-20T12:15:47.077238",
     "status": "completed"
    },
    "tags": []
   },
   "outputs": [],
   "source": [
    "#hide\n",
    "df_table = (pd.DataFrame(dict(Cases = dfc_cases, Deaths = dfc_deaths, PCases = dfp_cases, PDeaths = dfp_deaths))\n",
    "            .sort_values(by = ['Cases','Deaths'], ascending = [False, False])\n",
    "            .reset_index())"
   ]
  },
  {
   "cell_type": "code",
   "execution_count": 13,
   "id": "educational-chancellor",
   "metadata": {
    "execution": {
     "iopub.execute_input": "2022-04-20T12:15:47.183033Z",
     "iopub.status.busy": "2022-04-20T12:15:47.182557Z",
     "iopub.status.idle": "2022-04-20T12:15:47.189361Z",
     "shell.execute_reply": "2022-04-20T12:15:47.188992Z"
    },
    "papermill": {
     "duration": 0.049476,
     "end_time": "2022-04-20T12:15:47.189464",
     "exception": false,
     "start_time": "2022-04-20T12:15:47.139988",
     "status": "completed"
    },
    "tags": []
   },
   "outputs": [
    {
     "data": {
      "text/html": [
       "<div>\n",
       "<style scoped>\n",
       "    .dataframe tbody tr th:only-of-type {\n",
       "        vertical-align: middle;\n",
       "    }\n",
       "\n",
       "    .dataframe tbody tr th {\n",
       "        vertical-align: top;\n",
       "    }\n",
       "\n",
       "    .dataframe thead th {\n",
       "        text-align: right;\n",
       "    }\n",
       "</style>\n",
       "<table border=\"1\" class=\"dataframe\">\n",
       "  <thead>\n",
       "    <tr style=\"text-align: right;\">\n",
       "      <th></th>\n",
       "      <th>Country/Region</th>\n",
       "      <th>Cases</th>\n",
       "      <th>Deaths</th>\n",
       "      <th>PCases</th>\n",
       "      <th>PDeaths</th>\n",
       "      <th>Cases (+)</th>\n",
       "      <th>Deaths (+)</th>\n",
       "      <th>Fatality Rate</th>\n",
       "      <th>Continent</th>\n",
       "    </tr>\n",
       "  </thead>\n",
       "  <tbody>\n",
       "    <tr>\n",
       "      <th>0</th>\n",
       "      <td>US</td>\n",
       "      <td>80732932</td>\n",
       "      <td>989331</td>\n",
       "      <td>80686311</td>\n",
       "      <td>988899</td>\n",
       "      <td>46621</td>\n",
       "      <td>432</td>\n",
       "      <td>1.23</td>\n",
       "      <td>North America</td>\n",
       "    </tr>\n",
       "    <tr>\n",
       "      <th>1</th>\n",
       "      <td>India</td>\n",
       "      <td>43047594</td>\n",
       "      <td>522006</td>\n",
       "      <td>43045527</td>\n",
       "      <td>521966</td>\n",
       "      <td>2067</td>\n",
       "      <td>40</td>\n",
       "      <td>1.21</td>\n",
       "      <td>Asia</td>\n",
       "    </tr>\n",
       "    <tr>\n",
       "      <th>2</th>\n",
       "      <td>Brazil</td>\n",
       "      <td>30275219</td>\n",
       "      <td>662396</td>\n",
       "      <td>30261088</td>\n",
       "      <td>662271</td>\n",
       "      <td>14131</td>\n",
       "      <td>125</td>\n",
       "      <td>2.19</td>\n",
       "      <td>South America</td>\n",
       "    </tr>\n",
       "    <tr>\n",
       "      <th>3</th>\n",
       "      <td>France</td>\n",
       "      <td>28006219</td>\n",
       "      <td>145424</td>\n",
       "      <td>27980729</td>\n",
       "      <td>145242</td>\n",
       "      <td>25490</td>\n",
       "      <td>182</td>\n",
       "      <td>0.52</td>\n",
       "      <td>Europe</td>\n",
       "    </tr>\n",
       "    <tr>\n",
       "      <th>4</th>\n",
       "      <td>Germany</td>\n",
       "      <td>23658211</td>\n",
       "      <td>133308</td>\n",
       "      <td>23459628</td>\n",
       "      <td>132960</td>\n",
       "      <td>198583</td>\n",
       "      <td>348</td>\n",
       "      <td>0.56</td>\n",
       "      <td>Europe</td>\n",
       "    </tr>\n",
       "  </tbody>\n",
       "</table>\n",
       "</div>"
      ],
      "text/plain": [
       "  Country/Region     Cases  Deaths    PCases  PDeaths  Cases (+)  Deaths (+)  \\\n",
       "0             US  80732932  989331  80686311   988899      46621         432   \n",
       "1          India  43047594  522006  43045527   521966       2067          40   \n",
       "2         Brazil  30275219  662396  30261088   662271      14131         125   \n",
       "3         France  28006219  145424  27980729   145242      25490         182   \n",
       "4        Germany  23658211  133308  23459628   132960     198583         348   \n",
       "\n",
       "   Fatality Rate      Continent  \n",
       "0           1.23  North America  \n",
       "1           1.21           Asia  \n",
       "2           2.19  South America  \n",
       "3           0.52         Europe  \n",
       "4           0.56         Europe  "
      ]
     },
     "execution_count": 13,
     "metadata": {},
     "output_type": "execute_result"
    }
   ],
   "source": [
    "#hide\n",
    "for c in 'Cases, Deaths'.split(', '):\n",
    "    df_table[f'{c} (+)'] = (df_table[c] - df_table[f'P{c}']).clip(0)\n",
    "    #Clip ça veut dire, les chiffres negatif sont interdit\n",
    "df_table['Fatality Rate'] = (100* df_table['Deaths']/ df_table['Cases']).round(2)\n",
    "df_table['Continent'] = df_table['Country/Region'].map(mapping['map.continent'])\n",
    "df_table.head(5)"
   ]
  },
  {
   "cell_type": "code",
   "execution_count": 14,
   "id": "aboriginal-bulgaria",
   "metadata": {
    "execution": {
     "iopub.execute_input": "2022-04-20T12:15:47.247713Z",
     "iopub.status.busy": "2022-04-20T12:15:47.247222Z",
     "iopub.status.idle": "2022-04-20T12:15:47.249684Z",
     "shell.execute_reply": "2022-04-20T12:15:47.250044Z"
    },
    "papermill": {
     "duration": 0.03425,
     "end_time": "2022-04-20T12:15:47.250159",
     "exception": false,
     "start_time": "2022-04-20T12:15:47.215909",
     "status": "completed"
    },
    "tags": []
   },
   "outputs": [],
   "source": [
    "#hide\n",
    "#delete problematic countries from table\n",
    "df_table = df_table[~df_table['Country/Region'].isin(['Cape Verde', 'Cruise Ship', 'Kosovo'])]"
   ]
  },
  {
   "cell_type": "code",
   "execution_count": 15,
   "id": "fantastic-effect",
   "metadata": {
    "execution": {
     "iopub.execute_input": "2022-04-20T12:15:47.308783Z",
     "iopub.status.busy": "2022-04-20T12:15:47.308328Z",
     "iopub.status.idle": "2022-04-20T12:15:47.324412Z",
     "shell.execute_reply": "2022-04-20T12:15:47.324053Z"
    },
    "papermill": {
     "duration": 0.04821,
     "end_time": "2022-04-20T12:15:47.324512",
     "exception": false,
     "start_time": "2022-04-20T12:15:47.276302",
     "status": "completed"
    },
    "tags": []
   },
   "outputs": [
    {
     "data": {
      "text/html": [
       "<div>\n",
       "<style scoped>\n",
       "    .dataframe tbody tr th:only-of-type {\n",
       "        vertical-align: middle;\n",
       "    }\n",
       "\n",
       "    .dataframe tbody tr th {\n",
       "        vertical-align: top;\n",
       "    }\n",
       "\n",
       "    .dataframe thead th {\n",
       "        text-align: right;\n",
       "    }\n",
       "</style>\n",
       "<table border=\"1\" class=\"dataframe\">\n",
       "  <thead>\n",
       "    <tr style=\"text-align: right;\">\n",
       "      <th></th>\n",
       "      <th>Country/Region</th>\n",
       "      <th>Cases</th>\n",
       "      <th>Deaths</th>\n",
       "      <th>PCases</th>\n",
       "      <th>PDeaths</th>\n",
       "      <th>Cases (+)</th>\n",
       "      <th>Deaths (+)</th>\n",
       "      <th>Fatality Rate</th>\n",
       "      <th>Continent</th>\n",
       "    </tr>\n",
       "  </thead>\n",
       "  <tbody>\n",
       "    <tr>\n",
       "      <th>0</th>\n",
       "      <td>US</td>\n",
       "      <td>80732932</td>\n",
       "      <td>989331</td>\n",
       "      <td>80686311</td>\n",
       "      <td>988899</td>\n",
       "      <td>46621</td>\n",
       "      <td>432</td>\n",
       "      <td>1.2</td>\n",
       "      <td>North America</td>\n",
       "    </tr>\n",
       "    <tr>\n",
       "      <th>1</th>\n",
       "      <td>India</td>\n",
       "      <td>43047594</td>\n",
       "      <td>522006</td>\n",
       "      <td>43045527</td>\n",
       "      <td>521966</td>\n",
       "      <td>2067</td>\n",
       "      <td>40</td>\n",
       "      <td>1.2</td>\n",
       "      <td>Asia</td>\n",
       "    </tr>\n",
       "    <tr>\n",
       "      <th>2</th>\n",
       "      <td>Brazil</td>\n",
       "      <td>30275219</td>\n",
       "      <td>662396</td>\n",
       "      <td>30261088</td>\n",
       "      <td>662271</td>\n",
       "      <td>14131</td>\n",
       "      <td>125</td>\n",
       "      <td>2.2</td>\n",
       "      <td>South America</td>\n",
       "    </tr>\n",
       "    <tr>\n",
       "      <th>3</th>\n",
       "      <td>France</td>\n",
       "      <td>28006219</td>\n",
       "      <td>145424</td>\n",
       "      <td>27980729</td>\n",
       "      <td>145242</td>\n",
       "      <td>25490</td>\n",
       "      <td>182</td>\n",
       "      <td>0.5</td>\n",
       "      <td>Europe</td>\n",
       "    </tr>\n",
       "    <tr>\n",
       "      <th>4</th>\n",
       "      <td>Germany</td>\n",
       "      <td>23658211</td>\n",
       "      <td>133308</td>\n",
       "      <td>23459628</td>\n",
       "      <td>132960</td>\n",
       "      <td>198583</td>\n",
       "      <td>348</td>\n",
       "      <td>0.6</td>\n",
       "      <td>Europe</td>\n",
       "    </tr>\n",
       "  </tbody>\n",
       "</table>\n",
       "</div>"
      ],
      "text/plain": [
       "  Country/Region     Cases  Deaths    PCases  PDeaths  Cases (+)  Deaths (+)  \\\n",
       "0             US  80732932  989331  80686311   988899      46621         432   \n",
       "1          India  43047594  522006  43045527   521966       2067          40   \n",
       "2         Brazil  30275219  662396  30261088   662271      14131         125   \n",
       "3         France  28006219  145424  27980729   145242      25490         182   \n",
       "4        Germany  23658211  133308  23459628   132960     198583         348   \n",
       "\n",
       "   Fatality Rate      Continent  \n",
       "0            1.2  North America  \n",
       "1            1.2           Asia  \n",
       "2            2.2  South America  \n",
       "3            0.5         Europe  \n",
       "4            0.6         Europe  "
      ]
     },
     "execution_count": 15,
     "metadata": {},
     "output_type": "execute_result"
    }
   ],
   "source": [
    "#hide\n",
    "df_table = (pd.DataFrame(dict(Cases=dfc_cases, Deaths=dfc_deaths, PCases=dfp_cases, PDeaths=dfp_deaths))\n",
    "             .sort_values(by=['Cases', 'Deaths'], ascending=[False, False])\n",
    "             .reset_index())\n",
    "df_table.rename(columns={'index': 'Country/Region'}, inplace=True)\n",
    "for c in 'Cases, Deaths'.split(', '):\n",
    "    df_table[f'{c} (+)'] = (df_table[c] - df_table[f'P{c}']).clip(0)  # DATA BUG\n",
    "df_table['Fatality Rate'] = (100 * df_table['Deaths'] / df_table['Cases']).round(1)\n",
    "df_table['Continent'] = df_table['Country/Region'].map(mapping['map.continent'])\n",
    "df_table.head(5)"
   ]
  },
  {
   "cell_type": "code",
   "execution_count": 16,
   "id": "fewer-occasion",
   "metadata": {
    "execution": {
     "iopub.execute_input": "2022-04-20T12:15:47.382421Z",
     "iopub.status.busy": "2022-04-20T12:15:47.381966Z",
     "iopub.status.idle": "2022-04-20T12:15:47.384802Z",
     "shell.execute_reply": "2022-04-20T12:15:47.384443Z"
    },
    "papermill": {
     "duration": 0.033688,
     "end_time": "2022-04-20T12:15:47.384901",
     "exception": false,
     "start_time": "2022-04-20T12:15:47.351213",
     "status": "completed"
    },
    "tags": []
   },
   "outputs": [],
   "source": [
    "#hide\n",
    "#delete problematic countries from table\n",
    "df_table = df_table[~df_table['Country/Region'].isin(['Cape Verde', 'Cruise Ship', 'Kosovo'])]"
   ]
  },
  {
   "cell_type": "code",
   "execution_count": 17,
   "id": "related-center",
   "metadata": {
    "execution": {
     "iopub.execute_input": "2022-04-20T12:15:47.454519Z",
     "iopub.status.busy": "2022-04-20T12:15:47.454059Z",
     "iopub.status.idle": "2022-04-20T12:15:47.455797Z",
     "shell.execute_reply": "2022-04-20T12:15:47.456140Z"
    },
    "papermill": {
     "duration": 0.044986,
     "end_time": "2022-04-20T12:15:47.456254",
     "exception": false,
     "start_time": "2022-04-20T12:15:47.411268",
     "status": "completed"
    },
    "tags": []
   },
   "outputs": [],
   "source": [
    "#hide\n",
    "metrics = [df_table.columns[index] for index in [1,2,5,6]]\n",
    "# s_china = df_table[df_table['Country/Region'].eq('China')][metrics].sum().add_prefix('China ')\n",
    "s_us = df_table[df_table['Country/Region'].eq('US')][metrics].sum().add_prefix('US ')\n",
    "s_eu = df_table[df_table['Continent'].eq('Europe')][metrics].sum().add_prefix('EU ')\n",
    "s_ind = df_table[df_table['Country/Region'].eq('India')][metrics].sum().add_prefix('India ')\n",
    "summary = {'updated': pd.to_datetime(dt_today), 'since': pd.to_datetime(dt_yday)}\n",
    "summary = {'updated': pd.to_datetime(dt_today), 'since': pd.to_datetime(dt_yday)}\n",
    "summary = {**summary, **df_table[metrics].sum(), **s_ind, **s_us, **s_eu}"
   ]
  },
  {
   "cell_type": "code",
   "execution_count": 18,
   "id": "engaging-syndrome",
   "metadata": {
    "execution": {
     "iopub.execute_input": "2022-04-20T12:15:47.514032Z",
     "iopub.status.busy": "2022-04-20T12:15:47.513570Z",
     "iopub.status.idle": "2022-04-20T12:15:47.529986Z",
     "shell.execute_reply": "2022-04-20T12:15:47.529624Z"
    },
    "papermill": {
     "duration": 0.04724,
     "end_time": "2022-04-20T12:15:47.530085",
     "exception": false,
     "start_time": "2022-04-20T12:15:47.482845",
     "status": "completed"
    },
    "tags": []
   },
   "outputs": [],
   "source": [
    "#hide\n",
    "dft_ct_new_cases = dft_cases.groupby(COL_REGION)[dt_cols].sum().diff(axis=1).fillna(0).astype(int)"
   ]
  },
  {
   "cell_type": "code",
   "execution_count": 19,
   "id": "neutral-assignment",
   "metadata": {
    "execution": {
     "iopub.execute_input": "2022-04-20T12:15:47.588440Z",
     "iopub.status.busy": "2022-04-20T12:15:47.587988Z",
     "iopub.status.idle": "2022-04-20T12:15:47.590395Z",
     "shell.execute_reply": "2022-04-20T12:15:47.590035Z"
    },
    "papermill": {
     "duration": 0.033836,
     "end_time": "2022-04-20T12:15:47.590494",
     "exception": false,
     "start_time": "2022-04-20T12:15:47.556658",
     "status": "completed"
    },
    "tags": []
   },
   "outputs": [],
   "source": [
    "#hide\n",
    "everydaycases = dft_ct_new_cases.cumsum(axis=1)"
   ]
  },
  {
   "cell_type": "code",
   "execution_count": 20,
   "id": "parliamentary-calgary",
   "metadata": {
    "execution": {
     "iopub.execute_input": "2022-04-20T12:15:47.648179Z",
     "iopub.status.busy": "2022-04-20T12:15:47.647703Z",
     "iopub.status.idle": "2022-04-20T12:15:48.161882Z",
     "shell.execute_reply": "2022-04-20T12:15:48.162270Z"
    },
    "papermill": {
     "duration": 0.545253,
     "end_time": "2022-04-20T12:15:48.162426",
     "exception": false,
     "start_time": "2022-04-20T12:15:47.617173",
     "status": "completed"
    },
    "tags": []
   },
   "outputs": [],
   "source": [
    "#hide\n",
    "import pandas as pd\n",
    "import matplotlib.pyplot as plt\n",
    "import matplotlib.ticker as ticker\n",
    "import matplotlib.animation as animation\n",
    "from IPython.display import HTML"
   ]
  },
  {
   "cell_type": "code",
   "execution_count": 21,
   "id": "lasting-extraction",
   "metadata": {
    "execution": {
     "iopub.execute_input": "2022-04-20T12:15:48.223000Z",
     "iopub.status.busy": "2022-04-20T12:15:48.222536Z",
     "iopub.status.idle": "2022-04-20T12:15:48.228581Z",
     "shell.execute_reply": "2022-04-20T12:15:48.228926Z"
    },
    "papermill": {
     "duration": 0.039688,
     "end_time": "2022-04-20T12:15:48.229058",
     "exception": false,
     "start_time": "2022-04-20T12:15:48.189370",
     "status": "completed"
    },
    "tags": []
   },
   "outputs": [],
   "source": [
    "#hide\n",
    "t = everydaycases.stack()"
   ]
  },
  {
   "cell_type": "code",
   "execution_count": 22,
   "id": "premier-sleeve",
   "metadata": {
    "execution": {
     "iopub.execute_input": "2022-04-20T12:15:48.287384Z",
     "iopub.status.busy": "2022-04-20T12:15:48.286881Z",
     "iopub.status.idle": "2022-04-20T12:15:48.298027Z",
     "shell.execute_reply": "2022-04-20T12:15:48.297657Z"
    },
    "papermill": {
     "duration": 0.042026,
     "end_time": "2022-04-20T12:15:48.298138",
     "exception": false,
     "start_time": "2022-04-20T12:15:48.256112",
     "status": "completed"
    },
    "tags": []
   },
   "outputs": [],
   "source": [
    "#hide\n",
    "g = t.reset_index(['Country/Region'])"
   ]
  },
  {
   "cell_type": "code",
   "execution_count": 23,
   "id": "distributed-pittsburgh",
   "metadata": {
    "execution": {
     "iopub.execute_input": "2022-04-20T12:15:48.355814Z",
     "iopub.status.busy": "2022-04-20T12:15:48.355316Z",
     "iopub.status.idle": "2022-04-20T12:15:48.357529Z",
     "shell.execute_reply": "2022-04-20T12:15:48.357147Z"
    },
    "papermill": {
     "duration": 0.032666,
     "end_time": "2022-04-20T12:15:48.357633",
     "exception": false,
     "start_time": "2022-04-20T12:15:48.324967",
     "status": "completed"
    },
    "tags": []
   },
   "outputs": [],
   "source": [
    "#hide\n",
    "g.index.name = 'date'"
   ]
  },
  {
   "cell_type": "code",
   "execution_count": 24,
   "id": "naked-donor",
   "metadata": {
    "execution": {
     "iopub.execute_input": "2022-04-20T12:15:48.415223Z",
     "iopub.status.busy": "2022-04-20T12:15:48.414607Z",
     "iopub.status.idle": "2022-04-20T12:15:48.415993Z",
     "shell.execute_reply": "2022-04-20T12:15:48.416480Z"
    },
    "papermill": {
     "duration": 0.032155,
     "end_time": "2022-04-20T12:15:48.416624",
     "exception": false,
     "start_time": "2022-04-20T12:15:48.384469",
     "status": "completed"
    },
    "tags": []
   },
   "outputs": [],
   "source": [
    "# #hide\n",
    "# g = g.reset_index(['date'])"
   ]
  },
  {
   "cell_type": "code",
   "execution_count": 25,
   "id": "incomplete-mustang",
   "metadata": {
    "execution": {
     "iopub.execute_input": "2022-04-20T12:15:48.474544Z",
     "iopub.status.busy": "2022-04-20T12:15:48.473932Z",
     "iopub.status.idle": "2022-04-20T12:15:48.477480Z",
     "shell.execute_reply": "2022-04-20T12:15:48.477918Z"
    },
    "papermill": {
     "duration": 0.034311,
     "end_time": "2022-04-20T12:15:48.478066",
     "exception": false,
     "start_time": "2022-04-20T12:15:48.443755",
     "status": "completed"
    },
    "tags": []
   },
   "outputs": [],
   "source": [
    "#hide\n",
    "# g.head()"
   ]
  },
  {
   "cell_type": "code",
   "execution_count": 26,
   "id": "specific-kruger",
   "metadata": {
    "execution": {
     "iopub.execute_input": "2022-04-20T12:15:48.535822Z",
     "iopub.status.busy": "2022-04-20T12:15:48.535182Z",
     "iopub.status.idle": "2022-04-20T12:15:48.536985Z",
     "shell.execute_reply": "2022-04-20T12:15:48.536426Z"
    },
    "papermill": {
     "duration": 0.031986,
     "end_time": "2022-04-20T12:15:48.537107",
     "exception": false,
     "start_time": "2022-04-20T12:15:48.505121",
     "status": "completed"
    },
    "tags": []
   },
   "outputs": [],
   "source": [
    "#hide\n",
    "# g.columns = ['date','country','cases']"
   ]
  },
  {
   "cell_type": "code",
   "execution_count": 27,
   "id": "tender-conversion",
   "metadata": {
    "execution": {
     "iopub.execute_input": "2022-04-20T12:15:48.595500Z",
     "iopub.status.busy": "2022-04-20T12:15:48.594867Z",
     "iopub.status.idle": "2022-04-20T12:15:48.598089Z",
     "shell.execute_reply": "2022-04-20T12:15:48.598528Z"
    },
    "papermill": {
     "duration": 0.033999,
     "end_time": "2022-04-20T12:15:48.598676",
     "exception": false,
     "start_time": "2022-04-20T12:15:48.564677",
     "status": "completed"
    },
    "tags": []
   },
   "outputs": [],
   "source": [
    "#hide\n",
    "# g['continent'] = g.country"
   ]
  },
  {
   "cell_type": "code",
   "execution_count": 28,
   "id": "substantial-wilderness",
   "metadata": {
    "execution": {
     "iopub.execute_input": "2022-04-20T12:15:48.657426Z",
     "iopub.status.busy": "2022-04-20T12:15:48.656806Z",
     "iopub.status.idle": "2022-04-20T12:15:48.658110Z",
     "shell.execute_reply": "2022-04-20T12:15:48.658655Z"
    },
    "papermill": {
     "duration": 0.032082,
     "end_time": "2022-04-20T12:15:48.658801",
     "exception": false,
     "start_time": "2022-04-20T12:15:48.626719",
     "status": "completed"
    },
    "tags": []
   },
   "outputs": [],
   "source": [
    "#hide\n",
    "# cols = list(g.columns.values)"
   ]
  },
  {
   "cell_type": "code",
   "execution_count": 29,
   "id": "solved-farming",
   "metadata": {
    "execution": {
     "iopub.execute_input": "2022-04-20T12:15:48.717956Z",
     "iopub.status.busy": "2022-04-20T12:15:48.717333Z",
     "iopub.status.idle": "2022-04-20T12:15:48.720872Z",
     "shell.execute_reply": "2022-04-20T12:15:48.721315Z"
    },
    "papermill": {
     "duration": 0.03439,
     "end_time": "2022-04-20T12:15:48.721470",
     "exception": false,
     "start_time": "2022-04-20T12:15:48.687080",
     "status": "completed"
    },
    "tags": []
   },
   "outputs": [],
   "source": [
    "#hide\n",
    "# cols.insert(0, cols.pop())"
   ]
  },
  {
   "cell_type": "code",
   "execution_count": 30,
   "id": "executed-adoption",
   "metadata": {
    "execution": {
     "iopub.execute_input": "2022-04-20T12:15:48.780183Z",
     "iopub.status.busy": "2022-04-20T12:15:48.779525Z",
     "iopub.status.idle": "2022-04-20T12:15:48.781313Z",
     "shell.execute_reply": "2022-04-20T12:15:48.780831Z"
    },
    "papermill": {
     "duration": 0.032154,
     "end_time": "2022-04-20T12:15:48.781437",
     "exception": false,
     "start_time": "2022-04-20T12:15:48.749283",
     "status": "completed"
    },
    "tags": []
   },
   "outputs": [],
   "source": [
    "#hide\n",
    "# g = g[cols]"
   ]
  },
  {
   "cell_type": "code",
   "execution_count": 31,
   "id": "subject-dublin",
   "metadata": {
    "execution": {
     "iopub.execute_input": "2022-04-20T12:15:48.840507Z",
     "iopub.status.busy": "2022-04-20T12:15:48.839803Z",
     "iopub.status.idle": "2022-04-20T12:15:48.842548Z",
     "shell.execute_reply": "2022-04-20T12:15:48.841977Z"
    },
    "papermill": {
     "duration": 0.033415,
     "end_time": "2022-04-20T12:15:48.842685",
     "exception": false,
     "start_time": "2022-04-20T12:15:48.809270",
     "status": "completed"
    },
    "tags": []
   },
   "outputs": [],
   "source": [
    "#hide\n",
    "# g['continent'] = g['continent'].map(mapping['map.continent'])"
   ]
  },
  {
   "cell_type": "code",
   "execution_count": 32,
   "id": "freelance-scout",
   "metadata": {
    "execution": {
     "iopub.execute_input": "2022-04-20T12:15:48.904758Z",
     "iopub.status.busy": "2022-04-20T12:15:48.904130Z",
     "iopub.status.idle": "2022-04-20T12:15:48.907580Z",
     "shell.execute_reply": "2022-04-20T12:15:48.908011Z"
    },
    "papermill": {
     "duration": 0.034874,
     "end_time": "2022-04-20T12:15:48.908141",
     "exception": false,
     "start_time": "2022-04-20T12:15:48.873267",
     "status": "completed"
    },
    "tags": []
   },
   "outputs": [],
   "source": [
    "#hide\n",
    "# g.head()"
   ]
  },
  {
   "cell_type": "code",
   "execution_count": 33,
   "id": "limited-engine",
   "metadata": {
    "execution": {
     "iopub.execute_input": "2022-04-20T12:15:48.965712Z",
     "iopub.status.busy": "2022-04-20T12:15:48.965078Z",
     "iopub.status.idle": "2022-04-20T12:15:48.966878Z",
     "shell.execute_reply": "2022-04-20T12:15:48.966319Z"
    },
    "papermill": {
     "duration": 0.032112,
     "end_time": "2022-04-20T12:15:48.967002",
     "exception": false,
     "start_time": "2022-04-20T12:15:48.934890",
     "status": "completed"
    },
    "tags": []
   },
   "outputs": [],
   "source": [
    "# hide\n",
    "# g['date'] = g['date'].astype('datetime64[ns]')"
   ]
  },
  {
   "cell_type": "code",
   "execution_count": 34,
   "id": "sophisticated-supervisor",
   "metadata": {
    "execution": {
     "iopub.execute_input": "2022-04-20T12:15:49.025036Z",
     "iopub.status.busy": "2022-04-20T12:15:49.024426Z",
     "iopub.status.idle": "2022-04-20T12:15:49.025733Z",
     "shell.execute_reply": "2022-04-20T12:15:49.026261Z"
    },
    "papermill": {
     "duration": 0.031867,
     "end_time": "2022-04-20T12:15:49.026404",
     "exception": false,
     "start_time": "2022-04-20T12:15:48.994537",
     "status": "completed"
    },
    "tags": []
   },
   "outputs": [],
   "source": [
    "#hide\n",
    "# g['date'] = g.date.dt.dayofyear"
   ]
  },
  {
   "cell_type": "code",
   "execution_count": 35,
   "id": "inside-dubai",
   "metadata": {
    "execution": {
     "iopub.execute_input": "2022-04-20T12:15:49.084600Z",
     "iopub.status.busy": "2022-04-20T12:15:49.083982Z",
     "iopub.status.idle": "2022-04-20T12:15:49.086459Z",
     "shell.execute_reply": "2022-04-20T12:15:49.085898Z"
    },
    "papermill": {
     "duration": 0.032608,
     "end_time": "2022-04-20T12:15:49.086582",
     "exception": false,
     "start_time": "2022-04-20T12:15:49.053974",
     "status": "completed"
    },
    "tags": []
   },
   "outputs": [],
   "source": [
    "#hide\n",
    "# g = g.rename(columns= {'continent':'group','country':'name','cases':'value'})"
   ]
  },
  {
   "cell_type": "code",
   "execution_count": 36,
   "id": "fleet-motorcycle",
   "metadata": {
    "execution": {
     "iopub.execute_input": "2022-04-20T12:15:49.144453Z",
     "iopub.status.busy": "2022-04-20T12:15:49.143969Z",
     "iopub.status.idle": "2022-04-20T12:15:49.147278Z",
     "shell.execute_reply": "2022-04-20T12:15:49.146914Z"
    },
    "papermill": {
     "duration": 0.03302,
     "end_time": "2022-04-20T12:15:49.147382",
     "exception": false,
     "start_time": "2022-04-20T12:15:49.114362",
     "status": "completed"
    },
    "tags": []
   },
   "outputs": [],
   "source": [
    "#hide\n",
    "# cols = ['name','group','day','value']"
   ]
  },
  {
   "cell_type": "code",
   "execution_count": 37,
   "id": "continued-sleeping",
   "metadata": {
    "execution": {
     "iopub.execute_input": "2022-04-20T12:15:49.204443Z",
     "iopub.status.busy": "2022-04-20T12:15:49.203742Z",
     "iopub.status.idle": "2022-04-20T12:15:49.205020Z",
     "shell.execute_reply": "2022-04-20T12:15:49.205530Z"
    },
    "papermill": {
     "duration": 0.031758,
     "end_time": "2022-04-20T12:15:49.205665",
     "exception": false,
     "start_time": "2022-04-20T12:15:49.173907",
     "status": "completed"
    },
    "tags": []
   },
   "outputs": [],
   "source": [
    "#hide\n",
    "# g.rename(columns= {'date':'day'},inplace = True)"
   ]
  },
  {
   "cell_type": "code",
   "execution_count": 38,
   "id": "major-fight",
   "metadata": {
    "execution": {
     "iopub.execute_input": "2022-04-20T12:15:49.280566Z",
     "iopub.status.busy": "2022-04-20T12:15:49.279953Z",
     "iopub.status.idle": "2022-04-20T12:15:49.281371Z",
     "shell.execute_reply": "2022-04-20T12:15:49.281857Z"
    },
    "papermill": {
     "duration": 0.034961,
     "end_time": "2022-04-20T12:15:49.281995",
     "exception": false,
     "start_time": "2022-04-20T12:15:49.247034",
     "status": "completed"
    },
    "tags": []
   },
   "outputs": [],
   "source": [
    "#hide\n",
    "# g = g[cols]"
   ]
  },
  {
   "cell_type": "code",
   "execution_count": 39,
   "id": "structured-mobile",
   "metadata": {
    "execution": {
     "iopub.execute_input": "2022-04-20T12:15:49.339477Z",
     "iopub.status.busy": "2022-04-20T12:15:49.338935Z",
     "iopub.status.idle": "2022-04-20T12:15:49.340938Z",
     "shell.execute_reply": "2022-04-20T12:15:49.340411Z"
    },
    "papermill": {
     "duration": 0.031681,
     "end_time": "2022-04-20T12:15:49.341047",
     "exception": false,
     "start_time": "2022-04-20T12:15:49.309366",
     "status": "completed"
    },
    "tags": []
   },
   "outputs": [],
   "source": [
    "# #hide\n",
    "# g = g[g.group.notna()]"
   ]
  },
  {
   "cell_type": "code",
   "execution_count": 40,
   "id": "determined-closing",
   "metadata": {
    "execution": {
     "iopub.execute_input": "2022-04-20T12:15:49.411992Z",
     "iopub.status.busy": "2022-04-20T12:15:49.411318Z",
     "iopub.status.idle": "2022-04-20T12:15:49.414739Z",
     "shell.execute_reply": "2022-04-20T12:15:49.414245Z"
    },
    "papermill": {
     "duration": 0.04493,
     "end_time": "2022-04-20T12:15:49.414862",
     "exception": false,
     "start_time": "2022-04-20T12:15:49.369932",
     "status": "completed"
    },
    "tags": []
   },
   "outputs": [],
   "source": [
    "# #hide\n",
    "# colors = dict(zip(\n",
    "#     [\"Oceania\", \"Europe\", \"Asia\", \"South America\", \"Middle East\", \"North America\", \"Africa\"],\n",
    "#     [\"#adb0ff\", \"#ffb3ff\", \"#90d595\", \"#e48381\", \"#aafbff\", \"#f7bb5f\", \"#eafb50\"]\n",
    "# ))\n",
    "# group_lk = g.set_index('name')['group'].to_dict()"
   ]
  },
  {
   "cell_type": "code",
   "execution_count": null,
   "id": "gross-drinking",
   "metadata": {
    "papermill": {
     "duration": 0.026586,
     "end_time": "2022-04-20T12:15:49.468708",
     "exception": false,
     "start_time": "2022-04-20T12:15:49.442122",
     "status": "completed"
    },
    "tags": []
   },
   "outputs": [],
   "source": []
  },
  {
   "cell_type": "code",
   "execution_count": 41,
   "id": "subject-macintosh",
   "metadata": {
    "execution": {
     "iopub.execute_input": "2022-04-20T12:15:49.527184Z",
     "iopub.status.busy": "2022-04-20T12:15:49.526363Z",
     "iopub.status.idle": "2022-04-20T12:15:49.530328Z",
     "shell.execute_reply": "2022-04-20T12:15:49.530684Z"
    },
    "papermill": {
     "duration": 0.035406,
     "end_time": "2022-04-20T12:15:49.530865",
     "exception": false,
     "start_time": "2022-04-20T12:15:49.495459",
     "status": "completed"
    },
    "tags": []
   },
   "outputs": [],
   "source": [
    "# #hide\n",
    "# fig, ax = plt.subplots(figsize=(15, 8))\n",
    "\n",
    "# def draw_barchart(current_day):\n",
    "#     dff = g[g['day'].eq(current_day)].sort_values(by='value', ascending=True).tail(10)\n",
    "#     ax.clear()\n",
    "#     ax.barh(dff['name'], dff['value'], color=[colors[group_lk[x]] for x in dff['name']])\n",
    "#     dx = dff['value'].max() / 200\n",
    "    \n",
    "#     for i, (value, name) in enumerate(zip(dff['value'], dff['name'])):\n",
    "#         ax.text(value-dx, i,     name,           size=14, weight=600, ha='right', va='bottom')\n",
    "#         ax.text(value-dx, i-.25, group_lk[name], size=10, color='#444444', ha='right', va='baseline')\n",
    "#         ax.text(value+dx, i,     f'{value:,.0f}',  size=14, ha='left',  va='center')\n",
    "#     ax.text(1, 0.4, current_day, transform=ax.transAxes, color='#777777', size=46, ha='right', weight=800)\n",
    "#     ax.text(0, 1.06, 'Population (thousands)', transform=ax.transAxes, size=12, color='#777777')\n",
    "#     ax.xaxis.set_major_formatter(ticker.StrMethodFormatter('{x:,.0f}'))\n",
    "#     ax.xaxis.set_ticks_position('top')\n",
    "#     ax.tick_params(axis='x', colors='#777777', labelsize=12)\n",
    "#     ax.set_yticks([])\n",
    "#     ax.margins(0, 0.01)\n",
    "#     ax.grid(which='major', axis='x', linestyle='-')\n",
    "#     ax.set_axisbelow(True)\n",
    "    \n",
    "#     ax.text(0, 1.15, 'Coronavirus',\n",
    "#             transform=ax.transAxes, size=24, weight=600, ha='left', va='top')\n",
    "# #     ax.text(1, 0, 'by @pratapvardhan; credit @jburnmurdoch', transform=ax.transAxes, color='#777777', ha='right',\n",
    "# #             bbox=dict(facecolor='white', alpha=0.8, edgecolor='white'))\n",
    "#     plt.box(False)"
   ]
  },
  {
   "cell_type": "code",
   "execution_count": 42,
   "id": "sexual-wages",
   "metadata": {
    "execution": {
     "iopub.execute_input": "2022-04-20T12:15:49.589642Z",
     "iopub.status.busy": "2022-04-20T12:15:49.589020Z",
     "iopub.status.idle": "2022-04-20T12:15:49.590400Z",
     "shell.execute_reply": "2022-04-20T12:15:49.590892Z"
    },
    "papermill": {
     "duration": 0.031976,
     "end_time": "2022-04-20T12:15:49.591035",
     "exception": false,
     "start_time": "2022-04-20T12:15:49.559059",
     "status": "completed"
    },
    "tags": []
   },
   "outputs": [],
   "source": [
    "# #hide_input\n",
    "# fig, ax = plt.subplots(figsize=(15, 8))\n",
    "# animator = animation.FuncAnimation(fig, draw_barchart, frames=range(g.day.values.min(), g.day.values.max()))\n",
    "# HTML(animator.to_jshtml())\n",
    "# # or use animator.to_html5_video() or animator.save() "
   ]
  },
  {
   "cell_type": "code",
   "execution_count": null,
   "id": "australian-container",
   "metadata": {
    "papermill": {
     "duration": 0.026825,
     "end_time": "2022-04-20T12:15:49.645570",
     "exception": false,
     "start_time": "2022-04-20T12:15:49.618745",
     "status": "completed"
    },
    "tags": []
   },
   "outputs": [],
   "source": []
  },
  {
   "cell_type": "code",
   "execution_count": null,
   "id": "mediterranean-pontiac",
   "metadata": {
    "papermill": {
     "duration": 0.026331,
     "end_time": "2022-04-20T12:15:49.698310",
     "exception": false,
     "start_time": "2022-04-20T12:15:49.671979",
     "status": "completed"
    },
    "tags": []
   },
   "outputs": [],
   "source": []
  },
  {
   "cell_type": "code",
   "execution_count": null,
   "id": "aging-legislature",
   "metadata": {
    "papermill": {
     "duration": 0.026808,
     "end_time": "2022-04-20T12:15:49.751822",
     "exception": false,
     "start_time": "2022-04-20T12:15:49.725014",
     "status": "completed"
    },
    "tags": []
   },
   "outputs": [],
   "source": []
  }
 ],
 "metadata": {
  "kernelspec": {
   "display_name": "Python 3",
   "language": "python",
   "name": "python3"
  },
  "language_info": {
   "codemirror_mode": {
    "name": "ipython",
    "version": 3
   },
   "file_extension": ".py",
   "mimetype": "text/x-python",
   "name": "python",
   "nbconvert_exporter": "python",
   "pygments_lexer": "ipython3",
   "version": "3.6.15"
  },
  "papermill": {
   "duration": 5.516977,
   "end_time": "2022-04-20T12:15:50.096511",
   "environment_variables": {},
   "exception": null,
   "input_path": "2020-03-21-covid19exp.ipynb",
   "output_path": "2020-03-21-covid19exp.ipynb",
   "parameters": {},
   "start_time": "2022-04-20T12:15:44.579534",
   "version": "2.0.0"
  }
 },
 "nbformat": 4,
 "nbformat_minor": 5
}