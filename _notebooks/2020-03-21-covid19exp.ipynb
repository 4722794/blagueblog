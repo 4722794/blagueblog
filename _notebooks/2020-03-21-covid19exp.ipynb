{
 "cells": [
  {
   "cell_type": "markdown",
   "id": "muslim-click",
   "metadata": {
    "papermill": {
     "duration": 0.043632,
     "end_time": "2022-03-29T12:15:52.222310",
     "exception": false,
     "start_time": "2022-03-29T12:15:52.178678",
     "status": "completed"
    },
    "tags": []
   },
   "source": [
    "# COVID-19 Case Race\n",
    "> A race chart to see rising cases around the world\n",
    "\n",
    "- author: Hargun Oberoi\n",
    "- image: images/covid-overview.png\n",
    "- hide: false\n",
    "- badges: false"
   ]
  },
  {
   "cell_type": "code",
   "execution_count": 1,
   "id": "proof-material",
   "metadata": {
    "execution": {
     "iopub.execute_input": "2022-03-29T12:15:52.315818Z",
     "iopub.status.busy": "2022-03-29T12:15:52.315020Z",
     "iopub.status.idle": "2022-03-29T12:15:52.768652Z",
     "shell.execute_reply": "2022-03-29T12:15:52.769251Z"
    },
    "papermill": {
     "duration": 0.505304,
     "end_time": "2022-03-29T12:15:52.769456",
     "exception": false,
     "start_time": "2022-03-29T12:15:52.264152",
     "status": "completed"
    },
    "tags": []
   },
   "outputs": [],
   "source": [
    "#hide\n",
    "import numpy as np\n",
    "import pandas as pd\n",
    "from jinja2 import Template\n",
    "from IPython.display import HTML"
   ]
  },
  {
   "cell_type": "code",
   "execution_count": 2,
   "id": "developed-terminology",
   "metadata": {
    "execution": {
     "iopub.execute_input": "2022-03-29T12:15:52.869713Z",
     "iopub.status.busy": "2022-03-29T12:15:52.868904Z",
     "iopub.status.idle": "2022-03-29T12:15:52.871975Z",
     "shell.execute_reply": "2022-03-29T12:15:52.871357Z"
    },
    "papermill": {
     "duration": 0.056461,
     "end_time": "2022-03-29T12:15:52.872122",
     "exception": false,
     "start_time": "2022-03-29T12:15:52.815661",
     "status": "completed"
    },
    "tags": []
   },
   "outputs": [],
   "source": [
    "#hide\n",
    "\n",
    "# FETCH\n",
    "base_url = 'https://raw.githubusercontent.com/pratapvardhan/notebooks/master/covid19/'\n",
    "paths = {\n",
    "    'mapping': base_url + 'mapping_countries.csv',\n",
    "    'overview': base_url + 'overview.tpl'\n",
    "}"
   ]
  },
  {
   "cell_type": "code",
   "execution_count": 3,
   "id": "dynamic-saver",
   "metadata": {
    "execution": {
     "iopub.execute_input": "2022-03-29T12:15:52.967528Z",
     "iopub.status.busy": "2022-03-29T12:15:52.966823Z",
     "iopub.status.idle": "2022-03-29T12:15:52.970046Z",
     "shell.execute_reply": "2022-03-29T12:15:52.970771Z"
    },
    "papermill": {
     "duration": 0.056336,
     "end_time": "2022-03-29T12:15:52.970983",
     "exception": false,
     "start_time": "2022-03-29T12:15:52.914647",
     "status": "completed"
    },
    "tags": []
   },
   "outputs": [
    {
     "data": {
      "text/plain": [
       "'https://raw.githubusercontent.com/pratapvardhan/notebooks/master/covid19/mapping_countries.csv'"
      ]
     },
     "execution_count": 3,
     "metadata": {},
     "output_type": "execute_result"
    }
   ],
   "source": [
    "#hide\n",
    "paths['mapping']"
   ]
  },
  {
   "cell_type": "code",
   "execution_count": 4,
   "id": "urban-software",
   "metadata": {
    "execution": {
     "iopub.execute_input": "2022-03-29T12:15:53.060378Z",
     "iopub.status.busy": "2022-03-29T12:15:53.059649Z",
     "iopub.status.idle": "2022-03-29T12:15:53.062339Z",
     "shell.execute_reply": "2022-03-29T12:15:53.061730Z"
    },
    "papermill": {
     "duration": 0.050198,
     "end_time": "2022-03-29T12:15:53.062503",
     "exception": false,
     "start_time": "2022-03-29T12:15:53.012305",
     "status": "completed"
    },
    "tags": []
   },
   "outputs": [],
   "source": [
    "#hide\n",
    "def get_mappings(url):\n",
    "    df = pd.read_csv(url)\n",
    "    return {\n",
    "        'df': df,\n",
    "        'replace.country': dict(df.dropna(subset=['Name']).set_index('Country')['Name']),\n",
    "        'map.continent': dict(df.set_index('Name')['Continent'])\n",
    "    }"
   ]
  },
  {
   "cell_type": "code",
   "execution_count": 5,
   "id": "intimate-machinery",
   "metadata": {
    "execution": {
     "iopub.execute_input": "2022-03-29T12:15:53.150185Z",
     "iopub.status.busy": "2022-03-29T12:15:53.149394Z",
     "iopub.status.idle": "2022-03-29T12:15:53.183757Z",
     "shell.execute_reply": "2022-03-29T12:15:53.183134Z"
    },
    "papermill": {
     "duration": 0.081074,
     "end_time": "2022-03-29T12:15:53.183916",
     "exception": false,
     "start_time": "2022-03-29T12:15:53.102842",
     "status": "completed"
    },
    "tags": []
   },
   "outputs": [],
   "source": [
    "#hide\n",
    "mapping = get_mappings(paths['mapping'])"
   ]
  },
  {
   "cell_type": "code",
   "execution_count": 6,
   "id": "certified-tactics",
   "metadata": {
    "execution": {
     "iopub.execute_input": "2022-03-29T12:15:53.269182Z",
     "iopub.status.busy": "2022-03-29T12:15:53.268522Z",
     "iopub.status.idle": "2022-03-29T12:15:53.269886Z",
     "shell.execute_reply": "2022-03-29T12:15:53.270383Z"
    },
    "papermill": {
     "duration": 0.047268,
     "end_time": "2022-03-29T12:15:53.270567",
     "exception": false,
     "start_time": "2022-03-29T12:15:53.223299",
     "status": "completed"
    },
    "tags": []
   },
   "outputs": [],
   "source": [
    "#hide\n",
    "def get_template(path):\n",
    "    from urllib.parse import urlparse\n",
    "    if bool(urlparse(path).netloc):\n",
    "        from urllib.request import urlopen\n",
    "        return urlopen(path).read().decode('utf8')\n",
    "    return open(path).read()"
   ]
  },
  {
   "cell_type": "code",
   "execution_count": 7,
   "id": "realistic-blast",
   "metadata": {
    "execution": {
     "iopub.execute_input": "2022-03-29T12:15:53.358350Z",
     "iopub.status.busy": "2022-03-29T12:15:53.357687Z",
     "iopub.status.idle": "2022-03-29T12:15:53.360439Z",
     "shell.execute_reply": "2022-03-29T12:15:53.359907Z"
    },
    "papermill": {
     "duration": 0.048786,
     "end_time": "2022-03-29T12:15:53.360581",
     "exception": false,
     "start_time": "2022-03-29T12:15:53.311795",
     "status": "completed"
    },
    "tags": []
   },
   "outputs": [],
   "source": [
    "#hide\n",
    "def get_frame(name):\n",
    "    url = (\n",
    "        'https://raw.githubusercontent.com/CSSEGISandData/COVID-19/master/csse_covid_19_data/'\n",
    "        f'csse_covid_19_time_series/time_series_covid19_{name}_global.csv')\n",
    "    df = pd.read_csv(url)\n",
    "    # rename countries\n",
    "    df['Country/Region'] = df['Country/Region'].replace(mapping['replace.country'])\n",
    "    return df"
   ]
  },
  {
   "cell_type": "code",
   "execution_count": 8,
   "id": "affiliated-characterization",
   "metadata": {
    "execution": {
     "iopub.execute_input": "2022-03-29T12:15:53.449303Z",
     "iopub.status.busy": "2022-03-29T12:15:53.448530Z",
     "iopub.status.idle": "2022-03-29T12:15:53.452827Z",
     "shell.execute_reply": "2022-03-29T12:15:53.453334Z"
    },
    "papermill": {
     "duration": 0.051694,
     "end_time": "2022-03-29T12:15:53.453507",
     "exception": false,
     "start_time": "2022-03-29T12:15:53.401813",
     "status": "completed"
    },
    "tags": []
   },
   "outputs": [],
   "source": [
    "#hide\n",
    "def get_dates(df):\n",
    "    dt_cols = df.columns[~df.columns.isin(['Province/State', 'Country/Region', 'Lat', 'Long'])]\n",
    "    LAST_DATE_I = -1\n",
    "    # sometimes last column may be empty, then go backwards\n",
    "    for i in range(-1, -len(dt_cols), -1):\n",
    "        if not df[dt_cols[i]].fillna(0).eq(0).all():\n",
    "            LAST_DATE_I = i\n",
    "            break\n",
    "    return LAST_DATE_I, dt_cols"
   ]
  },
  {
   "cell_type": "code",
   "execution_count": 9,
   "id": "recent-optimization",
   "metadata": {
    "execution": {
     "iopub.execute_input": "2022-03-29T12:15:53.539232Z",
     "iopub.status.busy": "2022-03-29T12:15:53.538398Z",
     "iopub.status.idle": "2022-03-29T12:15:53.981949Z",
     "shell.execute_reply": "2022-03-29T12:15:53.981327Z"
    },
    "papermill": {
     "duration": 0.488244,
     "end_time": "2022-03-29T12:15:53.982109",
     "exception": false,
     "start_time": "2022-03-29T12:15:53.493865",
     "status": "completed"
    },
    "tags": []
   },
   "outputs": [],
   "source": [
    "#hide\n",
    "COL_REGION = 'Country/Region'\n",
    "# Confirmed, Recovered, Deaths\n",
    "df = get_frame('confirmed')\n",
    "# dft_: timeseries, dfc_: today country agg\n",
    "dft_cases = df\n",
    "dft_deaths = get_frame('deaths')\n",
    "dft_recovered = get_frame('recovered')\n",
    "LAST_DATE_I, dt_cols = get_dates(df)"
   ]
  },
  {
   "cell_type": "code",
   "execution_count": 10,
   "id": "absolute-copper",
   "metadata": {
    "execution": {
     "iopub.execute_input": "2022-03-29T12:15:54.075210Z",
     "iopub.status.busy": "2022-03-29T12:15:54.074016Z",
     "iopub.status.idle": "2022-03-29T12:15:54.076082Z",
     "shell.execute_reply": "2022-03-29T12:15:54.076722Z"
    },
    "papermill": {
     "duration": 0.053938,
     "end_time": "2022-03-29T12:15:54.076890",
     "exception": false,
     "start_time": "2022-03-29T12:15:54.022952",
     "status": "completed"
    },
    "tags": []
   },
   "outputs": [],
   "source": [
    "#hide\n",
    "LAST_DATE_I, dt_cols = get_dates(df)\n",
    "dt_today =dt_cols[LAST_DATE_I]\n",
    "# dt_5day = dt_cols[LAST_DATE_I - 5]\n",
    "dt_yday = dt_cols[LAST_DATE_I - 1]"
   ]
  },
  {
   "cell_type": "code",
   "execution_count": 11,
   "id": "restricted-sheriff",
   "metadata": {
    "execution": {
     "iopub.execute_input": "2022-03-29T12:15:54.169258Z",
     "iopub.status.busy": "2022-03-29T12:15:54.168509Z",
     "iopub.status.idle": "2022-03-29T12:15:54.174873Z",
     "shell.execute_reply": "2022-03-29T12:15:54.174227Z"
    },
    "papermill": {
     "duration": 0.05738,
     "end_time": "2022-03-29T12:15:54.175027",
     "exception": false,
     "start_time": "2022-03-29T12:15:54.117647",
     "status": "completed"
    },
    "tags": []
   },
   "outputs": [],
   "source": [
    "#hide\n",
    "dfc_cases = dft_cases.groupby(COL_REGION)[dt_today].sum()\n",
    "dfc_deaths = dft_deaths.groupby(COL_REGION)[dt_today].sum()\n",
    "# dfp_cases = dft_cases.groupby(COL_REGION)[dt_5day].sum()\n",
    "# dfp_deaths = dft_deaths.groupby(COL_REGION)[dt_5day].sum()\n",
    "dfp_cases = dft_cases.groupby(COL_REGION)[dt_yday].sum()\n",
    "dfp_deaths = dft_deaths.groupby(COL_REGION)[dt_yday].sum()"
   ]
  },
  {
   "cell_type": "code",
   "execution_count": 12,
   "id": "deluxe-hepatitis",
   "metadata": {
    "execution": {
     "iopub.execute_input": "2022-03-29T12:15:54.264259Z",
     "iopub.status.busy": "2022-03-29T12:15:54.263529Z",
     "iopub.status.idle": "2022-03-29T12:15:54.268731Z",
     "shell.execute_reply": "2022-03-29T12:15:54.269294Z"
    },
    "papermill": {
     "duration": 0.053276,
     "end_time": "2022-03-29T12:15:54.269491",
     "exception": false,
     "start_time": "2022-03-29T12:15:54.216215",
     "status": "completed"
    },
    "tags": []
   },
   "outputs": [],
   "source": [
    "#hide\n",
    "df_table = (pd.DataFrame(dict(Cases = dfc_cases, Deaths = dfc_deaths, PCases = dfp_cases, PDeaths = dfp_deaths))\n",
    "            .sort_values(by = ['Cases','Deaths'], ascending = [False, False])\n",
    "            .reset_index())"
   ]
  },
  {
   "cell_type": "code",
   "execution_count": 13,
   "id": "educational-chancellor",
   "metadata": {
    "execution": {
     "iopub.execute_input": "2022-03-29T12:15:54.377099Z",
     "iopub.status.busy": "2022-03-29T12:15:54.376365Z",
     "iopub.status.idle": "2022-03-29T12:15:54.387783Z",
     "shell.execute_reply": "2022-03-29T12:15:54.388313Z"
    },
    "papermill": {
     "duration": 0.077202,
     "end_time": "2022-03-29T12:15:54.388504",
     "exception": false,
     "start_time": "2022-03-29T12:15:54.311302",
     "status": "completed"
    },
    "tags": []
   },
   "outputs": [
    {
     "data": {
      "text/html": [
       "<div>\n",
       "<style scoped>\n",
       "    .dataframe tbody tr th:only-of-type {\n",
       "        vertical-align: middle;\n",
       "    }\n",
       "\n",
       "    .dataframe tbody tr th {\n",
       "        vertical-align: top;\n",
       "    }\n",
       "\n",
       "    .dataframe thead th {\n",
       "        text-align: right;\n",
       "    }\n",
       "</style>\n",
       "<table border=\"1\" class=\"dataframe\">\n",
       "  <thead>\n",
       "    <tr style=\"text-align: right;\">\n",
       "      <th></th>\n",
       "      <th>Country/Region</th>\n",
       "      <th>Cases</th>\n",
       "      <th>Deaths</th>\n",
       "      <th>PCases</th>\n",
       "      <th>PDeaths</th>\n",
       "      <th>Cases (+)</th>\n",
       "      <th>Deaths (+)</th>\n",
       "      <th>Fatality Rate</th>\n",
       "      <th>Continent</th>\n",
       "    </tr>\n",
       "  </thead>\n",
       "  <tbody>\n",
       "    <tr>\n",
       "      <th>0</th>\n",
       "      <td>US</td>\n",
       "      <td>79995485</td>\n",
       "      <td>977687</td>\n",
       "      <td>79952518</td>\n",
       "      <td>976702</td>\n",
       "      <td>42967</td>\n",
       "      <td>985</td>\n",
       "      <td>1.22</td>\n",
       "      <td>North America</td>\n",
       "    </tr>\n",
       "    <tr>\n",
       "      <th>1</th>\n",
       "      <td>India</td>\n",
       "      <td>43021982</td>\n",
       "      <td>521070</td>\n",
       "      <td>43020723</td>\n",
       "      <td>521035</td>\n",
       "      <td>1259</td>\n",
       "      <td>35</td>\n",
       "      <td>1.21</td>\n",
       "      <td>Asia</td>\n",
       "    </tr>\n",
       "    <tr>\n",
       "      <th>2</th>\n",
       "      <td>Brazil</td>\n",
       "      <td>29857641</td>\n",
       "      <td>659227</td>\n",
       "      <td>29849740</td>\n",
       "      <td>659159</td>\n",
       "      <td>7901</td>\n",
       "      <td>68</td>\n",
       "      <td>2.21</td>\n",
       "      <td>South America</td>\n",
       "    </tr>\n",
       "    <tr>\n",
       "      <th>3</th>\n",
       "      <td>France</td>\n",
       "      <td>25246720</td>\n",
       "      <td>142855</td>\n",
       "      <td>25216913</td>\n",
       "      <td>142705</td>\n",
       "      <td>29807</td>\n",
       "      <td>150</td>\n",
       "      <td>0.57</td>\n",
       "      <td>Europe</td>\n",
       "    </tr>\n",
       "    <tr>\n",
       "      <th>4</th>\n",
       "      <td>United Kingdom</td>\n",
       "      <td>21064311</td>\n",
       "      <td>165264</td>\n",
       "      <td>20848913</td>\n",
       "      <td>165046</td>\n",
       "      <td>215398</td>\n",
       "      <td>218</td>\n",
       "      <td>0.78</td>\n",
       "      <td>Europe</td>\n",
       "    </tr>\n",
       "  </tbody>\n",
       "</table>\n",
       "</div>"
      ],
      "text/plain": [
       "   Country/Region     Cases  Deaths    PCases  PDeaths  Cases (+)  Deaths (+)  \\\n",
       "0              US  79995485  977687  79952518   976702      42967         985   \n",
       "1           India  43021982  521070  43020723   521035       1259          35   \n",
       "2          Brazil  29857641  659227  29849740   659159       7901          68   \n",
       "3          France  25246720  142855  25216913   142705      29807         150   \n",
       "4  United Kingdom  21064311  165264  20848913   165046     215398         218   \n",
       "\n",
       "   Fatality Rate      Continent  \n",
       "0           1.22  North America  \n",
       "1           1.21           Asia  \n",
       "2           2.21  South America  \n",
       "3           0.57         Europe  \n",
       "4           0.78         Europe  "
      ]
     },
     "execution_count": 13,
     "metadata": {},
     "output_type": "execute_result"
    }
   ],
   "source": [
    "#hide\n",
    "for c in 'Cases, Deaths'.split(', '):\n",
    "    df_table[f'{c} (+)'] = (df_table[c] - df_table[f'P{c}']).clip(0)\n",
    "    #Clip ça veut dire, les chiffres negatif sont interdit\n",
    "df_table['Fatality Rate'] = (100* df_table['Deaths']/ df_table['Cases']).round(2)\n",
    "df_table['Continent'] = df_table['Country/Region'].map(mapping['map.continent'])\n",
    "df_table.head(5)"
   ]
  },
  {
   "cell_type": "code",
   "execution_count": 14,
   "id": "aboriginal-bulgaria",
   "metadata": {
    "execution": {
     "iopub.execute_input": "2022-03-29T12:15:54.477051Z",
     "iopub.status.busy": "2022-03-29T12:15:54.476343Z",
     "iopub.status.idle": "2022-03-29T12:15:54.479903Z",
     "shell.execute_reply": "2022-03-29T12:15:54.480563Z"
    },
    "papermill": {
     "duration": 0.051496,
     "end_time": "2022-03-29T12:15:54.480747",
     "exception": false,
     "start_time": "2022-03-29T12:15:54.429251",
     "status": "completed"
    },
    "tags": []
   },
   "outputs": [],
   "source": [
    "#hide\n",
    "#delete problematic countries from table\n",
    "df_table = df_table[~df_table['Country/Region'].isin(['Cape Verde', 'Cruise Ship', 'Kosovo'])]"
   ]
  },
  {
   "cell_type": "code",
   "execution_count": 15,
   "id": "fantastic-effect",
   "metadata": {
    "execution": {
     "iopub.execute_input": "2022-03-29T12:15:54.576819Z",
     "iopub.status.busy": "2022-03-29T12:15:54.576083Z",
     "iopub.status.idle": "2022-03-29T12:15:54.600098Z",
     "shell.execute_reply": "2022-03-29T12:15:54.599324Z"
    },
    "papermill": {
     "duration": 0.074521,
     "end_time": "2022-03-29T12:15:54.600251",
     "exception": false,
     "start_time": "2022-03-29T12:15:54.525730",
     "status": "completed"
    },
    "tags": []
   },
   "outputs": [
    {
     "data": {
      "text/html": [
       "<div>\n",
       "<style scoped>\n",
       "    .dataframe tbody tr th:only-of-type {\n",
       "        vertical-align: middle;\n",
       "    }\n",
       "\n",
       "    .dataframe tbody tr th {\n",
       "        vertical-align: top;\n",
       "    }\n",
       "\n",
       "    .dataframe thead th {\n",
       "        text-align: right;\n",
       "    }\n",
       "</style>\n",
       "<table border=\"1\" class=\"dataframe\">\n",
       "  <thead>\n",
       "    <tr style=\"text-align: right;\">\n",
       "      <th></th>\n",
       "      <th>Country/Region</th>\n",
       "      <th>Cases</th>\n",
       "      <th>Deaths</th>\n",
       "      <th>PCases</th>\n",
       "      <th>PDeaths</th>\n",
       "      <th>Cases (+)</th>\n",
       "      <th>Deaths (+)</th>\n",
       "      <th>Fatality Rate</th>\n",
       "      <th>Continent</th>\n",
       "    </tr>\n",
       "  </thead>\n",
       "  <tbody>\n",
       "    <tr>\n",
       "      <th>0</th>\n",
       "      <td>US</td>\n",
       "      <td>79995485</td>\n",
       "      <td>977687</td>\n",
       "      <td>79952518</td>\n",
       "      <td>976702</td>\n",
       "      <td>42967</td>\n",
       "      <td>985</td>\n",
       "      <td>1.2</td>\n",
       "      <td>North America</td>\n",
       "    </tr>\n",
       "    <tr>\n",
       "      <th>1</th>\n",
       "      <td>India</td>\n",
       "      <td>43021982</td>\n",
       "      <td>521070</td>\n",
       "      <td>43020723</td>\n",
       "      <td>521035</td>\n",
       "      <td>1259</td>\n",
       "      <td>35</td>\n",
       "      <td>1.2</td>\n",
       "      <td>Asia</td>\n",
       "    </tr>\n",
       "    <tr>\n",
       "      <th>2</th>\n",
       "      <td>Brazil</td>\n",
       "      <td>29857641</td>\n",
       "      <td>659227</td>\n",
       "      <td>29849740</td>\n",
       "      <td>659159</td>\n",
       "      <td>7901</td>\n",
       "      <td>68</td>\n",
       "      <td>2.2</td>\n",
       "      <td>South America</td>\n",
       "    </tr>\n",
       "    <tr>\n",
       "      <th>3</th>\n",
       "      <td>France</td>\n",
       "      <td>25246720</td>\n",
       "      <td>142855</td>\n",
       "      <td>25216913</td>\n",
       "      <td>142705</td>\n",
       "      <td>29807</td>\n",
       "      <td>150</td>\n",
       "      <td>0.6</td>\n",
       "      <td>Europe</td>\n",
       "    </tr>\n",
       "    <tr>\n",
       "      <th>4</th>\n",
       "      <td>United Kingdom</td>\n",
       "      <td>21064311</td>\n",
       "      <td>165264</td>\n",
       "      <td>20848913</td>\n",
       "      <td>165046</td>\n",
       "      <td>215398</td>\n",
       "      <td>218</td>\n",
       "      <td>0.8</td>\n",
       "      <td>Europe</td>\n",
       "    </tr>\n",
       "  </tbody>\n",
       "</table>\n",
       "</div>"
      ],
      "text/plain": [
       "   Country/Region     Cases  Deaths    PCases  PDeaths  Cases (+)  Deaths (+)  \\\n",
       "0              US  79995485  977687  79952518   976702      42967         985   \n",
       "1           India  43021982  521070  43020723   521035       1259          35   \n",
       "2          Brazil  29857641  659227  29849740   659159       7901          68   \n",
       "3          France  25246720  142855  25216913   142705      29807         150   \n",
       "4  United Kingdom  21064311  165264  20848913   165046     215398         218   \n",
       "\n",
       "   Fatality Rate      Continent  \n",
       "0            1.2  North America  \n",
       "1            1.2           Asia  \n",
       "2            2.2  South America  \n",
       "3            0.6         Europe  \n",
       "4            0.8         Europe  "
      ]
     },
     "execution_count": 15,
     "metadata": {},
     "output_type": "execute_result"
    }
   ],
   "source": [
    "#hide\n",
    "df_table = (pd.DataFrame(dict(Cases=dfc_cases, Deaths=dfc_deaths, PCases=dfp_cases, PDeaths=dfp_deaths))\n",
    "             .sort_values(by=['Cases', 'Deaths'], ascending=[False, False])\n",
    "             .reset_index())\n",
    "df_table.rename(columns={'index': 'Country/Region'}, inplace=True)\n",
    "for c in 'Cases, Deaths'.split(', '):\n",
    "    df_table[f'{c} (+)'] = (df_table[c] - df_table[f'P{c}']).clip(0)  # DATA BUG\n",
    "df_table['Fatality Rate'] = (100 * df_table['Deaths'] / df_table['Cases']).round(1)\n",
    "df_table['Continent'] = df_table['Country/Region'].map(mapping['map.continent'])\n",
    "df_table.head(5)"
   ]
  },
  {
   "cell_type": "code",
   "execution_count": 16,
   "id": "fewer-occasion",
   "metadata": {
    "execution": {
     "iopub.execute_input": "2022-03-29T12:15:54.688660Z",
     "iopub.status.busy": "2022-03-29T12:15:54.687584Z",
     "iopub.status.idle": "2022-03-29T12:15:54.692617Z",
     "shell.execute_reply": "2022-03-29T12:15:54.692047Z"
    },
    "papermill": {
     "duration": 0.051363,
     "end_time": "2022-03-29T12:15:54.692768",
     "exception": false,
     "start_time": "2022-03-29T12:15:54.641405",
     "status": "completed"
    },
    "tags": []
   },
   "outputs": [],
   "source": [
    "#hide\n",
    "#delete problematic countries from table\n",
    "df_table = df_table[~df_table['Country/Region'].isin(['Cape Verde', 'Cruise Ship', 'Kosovo'])]"
   ]
  },
  {
   "cell_type": "code",
   "execution_count": 17,
   "id": "related-center",
   "metadata": {
    "execution": {
     "iopub.execute_input": "2022-03-29T12:15:54.804989Z",
     "iopub.status.busy": "2022-03-29T12:15:54.804237Z",
     "iopub.status.idle": "2022-03-29T12:15:54.806633Z",
     "shell.execute_reply": "2022-03-29T12:15:54.807273Z"
    },
    "papermill": {
     "duration": 0.069679,
     "end_time": "2022-03-29T12:15:54.807462",
     "exception": false,
     "start_time": "2022-03-29T12:15:54.737783",
     "status": "completed"
    },
    "tags": []
   },
   "outputs": [],
   "source": [
    "#hide\n",
    "metrics = [df_table.columns[index] for index in [1,2,5,6]]\n",
    "# s_china = df_table[df_table['Country/Region'].eq('China')][metrics].sum().add_prefix('China ')\n",
    "s_us = df_table[df_table['Country/Region'].eq('US')][metrics].sum().add_prefix('US ')\n",
    "s_eu = df_table[df_table['Continent'].eq('Europe')][metrics].sum().add_prefix('EU ')\n",
    "s_ind = df_table[df_table['Country/Region'].eq('India')][metrics].sum().add_prefix('India ')\n",
    "summary = {'updated': pd.to_datetime(dt_today), 'since': pd.to_datetime(dt_yday)}\n",
    "summary = {'updated': pd.to_datetime(dt_today), 'since': pd.to_datetime(dt_yday)}\n",
    "summary = {**summary, **df_table[metrics].sum(), **s_ind, **s_us, **s_eu}"
   ]
  },
  {
   "cell_type": "code",
   "execution_count": 18,
   "id": "engaging-syndrome",
   "metadata": {
    "execution": {
     "iopub.execute_input": "2022-03-29T12:15:54.898321Z",
     "iopub.status.busy": "2022-03-29T12:15:54.897620Z",
     "iopub.status.idle": "2022-03-29T12:15:54.919740Z",
     "shell.execute_reply": "2022-03-29T12:15:54.920305Z"
    },
    "papermill": {
     "duration": 0.070543,
     "end_time": "2022-03-29T12:15:54.920514",
     "exception": false,
     "start_time": "2022-03-29T12:15:54.849971",
     "status": "completed"
    },
    "tags": []
   },
   "outputs": [],
   "source": [
    "#hide\n",
    "dft_ct_new_cases = dft_cases.groupby(COL_REGION)[dt_cols].sum().diff(axis=1).fillna(0).astype(int)"
   ]
  },
  {
   "cell_type": "code",
   "execution_count": 19,
   "id": "neutral-assignment",
   "metadata": {
    "execution": {
     "iopub.execute_input": "2022-03-29T12:15:55.011975Z",
     "iopub.status.busy": "2022-03-29T12:15:55.011226Z",
     "iopub.status.idle": "2022-03-29T12:15:55.014070Z",
     "shell.execute_reply": "2022-03-29T12:15:55.013509Z"
    },
    "papermill": {
     "duration": 0.052083,
     "end_time": "2022-03-29T12:15:55.014333",
     "exception": false,
     "start_time": "2022-03-29T12:15:54.962250",
     "status": "completed"
    },
    "tags": []
   },
   "outputs": [],
   "source": [
    "#hide\n",
    "everydaycases = dft_ct_new_cases.cumsum(axis=1)"
   ]
  },
  {
   "cell_type": "code",
   "execution_count": 20,
   "id": "parliamentary-calgary",
   "metadata": {
    "execution": {
     "iopub.execute_input": "2022-03-29T12:15:55.104271Z",
     "iopub.status.busy": "2022-03-29T12:15:55.102391Z",
     "iopub.status.idle": "2022-03-29T12:15:55.898268Z",
     "shell.execute_reply": "2022-03-29T12:15:55.897667Z"
    },
    "papermill": {
     "duration": 0.841864,
     "end_time": "2022-03-29T12:15:55.898426",
     "exception": false,
     "start_time": "2022-03-29T12:15:55.056562",
     "status": "completed"
    },
    "tags": []
   },
   "outputs": [],
   "source": [
    "#hide\n",
    "import pandas as pd\n",
    "import matplotlib.pyplot as plt\n",
    "import matplotlib.ticker as ticker\n",
    "import matplotlib.animation as animation\n",
    "from IPython.display import HTML"
   ]
  },
  {
   "cell_type": "code",
   "execution_count": 21,
   "id": "lasting-extraction",
   "metadata": {
    "execution": {
     "iopub.execute_input": "2022-03-29T12:15:55.990785Z",
     "iopub.status.busy": "2022-03-29T12:15:55.990016Z",
     "iopub.status.idle": "2022-03-29T12:15:55.997913Z",
     "shell.execute_reply": "2022-03-29T12:15:55.997333Z"
    },
    "papermill": {
     "duration": 0.056882,
     "end_time": "2022-03-29T12:15:55.998066",
     "exception": false,
     "start_time": "2022-03-29T12:15:55.941184",
     "status": "completed"
    },
    "tags": []
   },
   "outputs": [],
   "source": [
    "#hide\n",
    "t = everydaycases.stack()"
   ]
  },
  {
   "cell_type": "code",
   "execution_count": 22,
   "id": "premier-sleeve",
   "metadata": {
    "execution": {
     "iopub.execute_input": "2022-03-29T12:15:56.090271Z",
     "iopub.status.busy": "2022-03-29T12:15:56.089570Z",
     "iopub.status.idle": "2022-03-29T12:15:56.102251Z",
     "shell.execute_reply": "2022-03-29T12:15:56.101619Z"
    },
    "papermill": {
     "duration": 0.062089,
     "end_time": "2022-03-29T12:15:56.102416",
     "exception": false,
     "start_time": "2022-03-29T12:15:56.040327",
     "status": "completed"
    },
    "tags": []
   },
   "outputs": [],
   "source": [
    "#hide\n",
    "g = t.reset_index(['Country/Region'])"
   ]
  },
  {
   "cell_type": "code",
   "execution_count": 23,
   "id": "distributed-pittsburgh",
   "metadata": {
    "execution": {
     "iopub.execute_input": "2022-03-29T12:15:56.192237Z",
     "iopub.status.busy": "2022-03-29T12:15:56.191505Z",
     "iopub.status.idle": "2022-03-29T12:15:56.194206Z",
     "shell.execute_reply": "2022-03-29T12:15:56.193538Z"
    },
    "papermill": {
     "duration": 0.049597,
     "end_time": "2022-03-29T12:15:56.194351",
     "exception": false,
     "start_time": "2022-03-29T12:15:56.144754",
     "status": "completed"
    },
    "tags": []
   },
   "outputs": [],
   "source": [
    "#hide\n",
    "g.index.name = 'date'"
   ]
  },
  {
   "cell_type": "code",
   "execution_count": 24,
   "id": "naked-donor",
   "metadata": {
    "execution": {
     "iopub.execute_input": "2022-03-29T12:15:56.282539Z",
     "iopub.status.busy": "2022-03-29T12:15:56.281841Z",
     "iopub.status.idle": "2022-03-29T12:15:56.283869Z",
     "shell.execute_reply": "2022-03-29T12:15:56.284401Z"
    },
    "papermill": {
     "duration": 0.048296,
     "end_time": "2022-03-29T12:15:56.284559",
     "exception": false,
     "start_time": "2022-03-29T12:15:56.236263",
     "status": "completed"
    },
    "tags": []
   },
   "outputs": [],
   "source": [
    "# #hide\n",
    "# g = g.reset_index(['date'])"
   ]
  },
  {
   "cell_type": "code",
   "execution_count": 25,
   "id": "incomplete-mustang",
   "metadata": {
    "execution": {
     "iopub.execute_input": "2022-03-29T12:15:56.373302Z",
     "iopub.status.busy": "2022-03-29T12:15:56.372606Z",
     "iopub.status.idle": "2022-03-29T12:15:56.374685Z",
     "shell.execute_reply": "2022-03-29T12:15:56.375214Z"
    },
    "papermill": {
     "duration": 0.049125,
     "end_time": "2022-03-29T12:15:56.375390",
     "exception": false,
     "start_time": "2022-03-29T12:15:56.326265",
     "status": "completed"
    },
    "tags": []
   },
   "outputs": [],
   "source": [
    "#hide\n",
    "# g.head()"
   ]
  },
  {
   "cell_type": "code",
   "execution_count": 26,
   "id": "specific-kruger",
   "metadata": {
    "execution": {
     "iopub.execute_input": "2022-03-29T12:15:56.466696Z",
     "iopub.status.busy": "2022-03-29T12:15:56.465953Z",
     "iopub.status.idle": "2022-03-29T12:15:56.470319Z",
     "shell.execute_reply": "2022-03-29T12:15:56.469722Z"
    },
    "papermill": {
     "duration": 0.050047,
     "end_time": "2022-03-29T12:15:56.470481",
     "exception": false,
     "start_time": "2022-03-29T12:15:56.420434",
     "status": "completed"
    },
    "tags": []
   },
   "outputs": [],
   "source": [
    "#hide\n",
    "# g.columns = ['date','country','cases']"
   ]
  },
  {
   "cell_type": "code",
   "execution_count": 27,
   "id": "tender-conversion",
   "metadata": {
    "execution": {
     "iopub.execute_input": "2022-03-29T12:15:56.560974Z",
     "iopub.status.busy": "2022-03-29T12:15:56.560096Z",
     "iopub.status.idle": "2022-03-29T12:15:56.563002Z",
     "shell.execute_reply": "2022-03-29T12:15:56.562371Z"
    },
    "papermill": {
     "duration": 0.050064,
     "end_time": "2022-03-29T12:15:56.563165",
     "exception": false,
     "start_time": "2022-03-29T12:15:56.513101",
     "status": "completed"
    },
    "tags": []
   },
   "outputs": [],
   "source": [
    "#hide\n",
    "# g['continent'] = g.country"
   ]
  },
  {
   "cell_type": "code",
   "execution_count": 28,
   "id": "substantial-wilderness",
   "metadata": {
    "execution": {
     "iopub.execute_input": "2022-03-29T12:15:56.652570Z",
     "iopub.status.busy": "2022-03-29T12:15:56.651865Z",
     "iopub.status.idle": "2022-03-29T12:15:56.655706Z",
     "shell.execute_reply": "2022-03-29T12:15:56.656248Z"
    },
    "papermill": {
     "duration": 0.0518,
     "end_time": "2022-03-29T12:15:56.656433",
     "exception": false,
     "start_time": "2022-03-29T12:15:56.604633",
     "status": "completed"
    },
    "tags": []
   },
   "outputs": [],
   "source": [
    "#hide\n",
    "# cols = list(g.columns.values)"
   ]
  },
  {
   "cell_type": "code",
   "execution_count": 29,
   "id": "solved-farming",
   "metadata": {
    "execution": {
     "iopub.execute_input": "2022-03-29T12:15:56.745874Z",
     "iopub.status.busy": "2022-03-29T12:15:56.744913Z",
     "iopub.status.idle": "2022-03-29T12:15:56.749303Z",
     "shell.execute_reply": "2022-03-29T12:15:56.748728Z"
    },
    "papermill": {
     "duration": 0.05068,
     "end_time": "2022-03-29T12:15:56.749456",
     "exception": false,
     "start_time": "2022-03-29T12:15:56.698776",
     "status": "completed"
    },
    "tags": []
   },
   "outputs": [],
   "source": [
    "#hide\n",
    "# cols.insert(0, cols.pop())"
   ]
  },
  {
   "cell_type": "code",
   "execution_count": 30,
   "id": "executed-adoption",
   "metadata": {
    "execution": {
     "iopub.execute_input": "2022-03-29T12:15:56.842231Z",
     "iopub.status.busy": "2022-03-29T12:15:56.841533Z",
     "iopub.status.idle": "2022-03-29T12:15:56.845755Z",
     "shell.execute_reply": "2022-03-29T12:15:56.846282Z"
    },
    "papermill": {
     "duration": 0.05024,
     "end_time": "2022-03-29T12:15:56.846465",
     "exception": false,
     "start_time": "2022-03-29T12:15:56.796225",
     "status": "completed"
    },
    "tags": []
   },
   "outputs": [],
   "source": [
    "#hide\n",
    "# g = g[cols]"
   ]
  },
  {
   "cell_type": "code",
   "execution_count": 31,
   "id": "subject-dublin",
   "metadata": {
    "execution": {
     "iopub.execute_input": "2022-03-29T12:15:56.933715Z",
     "iopub.status.busy": "2022-03-29T12:15:56.932987Z",
     "iopub.status.idle": "2022-03-29T12:15:56.935581Z",
     "shell.execute_reply": "2022-03-29T12:15:56.934894Z"
    },
    "papermill": {
     "duration": 0.048296,
     "end_time": "2022-03-29T12:15:56.935729",
     "exception": false,
     "start_time": "2022-03-29T12:15:56.887433",
     "status": "completed"
    },
    "tags": []
   },
   "outputs": [],
   "source": [
    "#hide\n",
    "# g['continent'] = g['continent'].map(mapping['map.continent'])"
   ]
  },
  {
   "cell_type": "code",
   "execution_count": 32,
   "id": "freelance-scout",
   "metadata": {
    "execution": {
     "iopub.execute_input": "2022-03-29T12:15:57.024783Z",
     "iopub.status.busy": "2022-03-29T12:15:57.024065Z",
     "iopub.status.idle": "2022-03-29T12:15:57.029511Z",
     "shell.execute_reply": "2022-03-29T12:15:57.028926Z"
    },
    "papermill": {
     "duration": 0.05025,
     "end_time": "2022-03-29T12:15:57.029664",
     "exception": false,
     "start_time": "2022-03-29T12:15:56.979414",
     "status": "completed"
    },
    "tags": []
   },
   "outputs": [],
   "source": [
    "#hide\n",
    "# g.head()"
   ]
  },
  {
   "cell_type": "code",
   "execution_count": 33,
   "id": "limited-engine",
   "metadata": {
    "execution": {
     "iopub.execute_input": "2022-03-29T12:15:57.121910Z",
     "iopub.status.busy": "2022-03-29T12:15:57.121000Z",
     "iopub.status.idle": "2022-03-29T12:15:57.123220Z",
     "shell.execute_reply": "2022-03-29T12:15:57.122614Z"
    },
    "papermill": {
     "duration": 0.050479,
     "end_time": "2022-03-29T12:15:57.123396",
     "exception": false,
     "start_time": "2022-03-29T12:15:57.072917",
     "status": "completed"
    },
    "tags": []
   },
   "outputs": [],
   "source": [
    "# hide\n",
    "# g['date'] = g['date'].astype('datetime64[ns]')"
   ]
  },
  {
   "cell_type": "code",
   "execution_count": 34,
   "id": "sophisticated-supervisor",
   "metadata": {
    "execution": {
     "iopub.execute_input": "2022-03-29T12:15:57.213166Z",
     "iopub.status.busy": "2022-03-29T12:15:57.212478Z",
     "iopub.status.idle": "2022-03-29T12:15:57.215162Z",
     "shell.execute_reply": "2022-03-29T12:15:57.214575Z"
    },
    "papermill": {
     "duration": 0.049525,
     "end_time": "2022-03-29T12:15:57.215306",
     "exception": false,
     "start_time": "2022-03-29T12:15:57.165781",
     "status": "completed"
    },
    "tags": []
   },
   "outputs": [],
   "source": [
    "#hide\n",
    "# g['date'] = g.date.dt.dayofyear"
   ]
  },
  {
   "cell_type": "code",
   "execution_count": 35,
   "id": "inside-dubai",
   "metadata": {
    "execution": {
     "iopub.execute_input": "2022-03-29T12:15:57.303727Z",
     "iopub.status.busy": "2022-03-29T12:15:57.303020Z",
     "iopub.status.idle": "2022-03-29T12:15:57.305478Z",
     "shell.execute_reply": "2022-03-29T12:15:57.304778Z"
    },
    "papermill": {
     "duration": 0.048032,
     "end_time": "2022-03-29T12:15:57.305637",
     "exception": false,
     "start_time": "2022-03-29T12:15:57.257605",
     "status": "completed"
    },
    "tags": []
   },
   "outputs": [],
   "source": [
    "#hide\n",
    "# g = g.rename(columns= {'continent':'group','country':'name','cases':'value'})"
   ]
  },
  {
   "cell_type": "code",
   "execution_count": 36,
   "id": "fleet-motorcycle",
   "metadata": {
    "execution": {
     "iopub.execute_input": "2022-03-29T12:15:57.395688Z",
     "iopub.status.busy": "2022-03-29T12:15:57.395030Z",
     "iopub.status.idle": "2022-03-29T12:15:57.399101Z",
     "shell.execute_reply": "2022-03-29T12:15:57.399707Z"
    },
    "papermill": {
     "duration": 0.052809,
     "end_time": "2022-03-29T12:15:57.399893",
     "exception": false,
     "start_time": "2022-03-29T12:15:57.347084",
     "status": "completed"
    },
    "tags": []
   },
   "outputs": [],
   "source": [
    "#hide\n",
    "# cols = ['name','group','day','value']"
   ]
  },
  {
   "cell_type": "code",
   "execution_count": 37,
   "id": "continued-sleeping",
   "metadata": {
    "execution": {
     "iopub.execute_input": "2022-03-29T12:15:57.488251Z",
     "iopub.status.busy": "2022-03-29T12:15:57.487530Z",
     "iopub.status.idle": "2022-03-29T12:15:57.490062Z",
     "shell.execute_reply": "2022-03-29T12:15:57.489484Z"
    },
    "papermill": {
     "duration": 0.04895,
     "end_time": "2022-03-29T12:15:57.490203",
     "exception": false,
     "start_time": "2022-03-29T12:15:57.441253",
     "status": "completed"
    },
    "tags": []
   },
   "outputs": [],
   "source": [
    "#hide\n",
    "# g.rename(columns= {'date':'day'},inplace = True)"
   ]
  },
  {
   "cell_type": "code",
   "execution_count": 38,
   "id": "major-fight",
   "metadata": {
    "execution": {
     "iopub.execute_input": "2022-03-29T12:15:57.577294Z",
     "iopub.status.busy": "2022-03-29T12:15:57.576589Z",
     "iopub.status.idle": "2022-03-29T12:15:57.579218Z",
     "shell.execute_reply": "2022-03-29T12:15:57.578611Z"
    },
    "papermill": {
     "duration": 0.048034,
     "end_time": "2022-03-29T12:15:57.579376",
     "exception": false,
     "start_time": "2022-03-29T12:15:57.531342",
     "status": "completed"
    },
    "tags": []
   },
   "outputs": [],
   "source": [
    "#hide\n",
    "# g = g[cols]"
   ]
  },
  {
   "cell_type": "code",
   "execution_count": 39,
   "id": "structured-mobile",
   "metadata": {
    "execution": {
     "iopub.execute_input": "2022-03-29T12:15:57.671880Z",
     "iopub.status.busy": "2022-03-29T12:15:57.671185Z",
     "iopub.status.idle": "2022-03-29T12:15:57.677842Z",
     "shell.execute_reply": "2022-03-29T12:15:57.675260Z"
    },
    "papermill": {
     "duration": 0.054271,
     "end_time": "2022-03-29T12:15:57.677996",
     "exception": false,
     "start_time": "2022-03-29T12:15:57.623725",
     "status": "completed"
    },
    "tags": []
   },
   "outputs": [],
   "source": [
    "# #hide\n",
    "# g = g[g.group.notna()]"
   ]
  },
  {
   "cell_type": "code",
   "execution_count": 40,
   "id": "determined-closing",
   "metadata": {
    "execution": {
     "iopub.execute_input": "2022-03-29T12:15:57.767380Z",
     "iopub.status.busy": "2022-03-29T12:15:57.766660Z",
     "iopub.status.idle": "2022-03-29T12:15:57.769223Z",
     "shell.execute_reply": "2022-03-29T12:15:57.768618Z"
    },
    "papermill": {
     "duration": 0.047967,
     "end_time": "2022-03-29T12:15:57.769366",
     "exception": false,
     "start_time": "2022-03-29T12:15:57.721399",
     "status": "completed"
    },
    "tags": []
   },
   "outputs": [],
   "source": [
    "# #hide\n",
    "# colors = dict(zip(\n",
    "#     [\"Oceania\", \"Europe\", \"Asia\", \"South America\", \"Middle East\", \"North America\", \"Africa\"],\n",
    "#     [\"#adb0ff\", \"#ffb3ff\", \"#90d595\", \"#e48381\", \"#aafbff\", \"#f7bb5f\", \"#eafb50\"]\n",
    "# ))\n",
    "# group_lk = g.set_index('name')['group'].to_dict()"
   ]
  },
  {
   "cell_type": "code",
   "execution_count": null,
   "id": "gross-drinking",
   "metadata": {
    "papermill": {
     "duration": 0.041348,
     "end_time": "2022-03-29T12:15:57.852054",
     "exception": false,
     "start_time": "2022-03-29T12:15:57.810706",
     "status": "completed"
    },
    "tags": []
   },
   "outputs": [],
   "source": []
  },
  {
   "cell_type": "code",
   "execution_count": 41,
   "id": "subject-macintosh",
   "metadata": {
    "execution": {
     "iopub.execute_input": "2022-03-29T12:15:57.940726Z",
     "iopub.status.busy": "2022-03-29T12:15:57.939999Z",
     "iopub.status.idle": "2022-03-29T12:15:57.944181Z",
     "shell.execute_reply": "2022-03-29T12:15:57.944843Z"
    },
    "papermill": {
     "duration": 0.051397,
     "end_time": "2022-03-29T12:15:57.945084",
     "exception": false,
     "start_time": "2022-03-29T12:15:57.893687",
     "status": "completed"
    },
    "tags": []
   },
   "outputs": [],
   "source": [
    "# #hide\n",
    "# fig, ax = plt.subplots(figsize=(15, 8))\n",
    "\n",
    "# def draw_barchart(current_day):\n",
    "#     dff = g[g['day'].eq(current_day)].sort_values(by='value', ascending=True).tail(10)\n",
    "#     ax.clear()\n",
    "#     ax.barh(dff['name'], dff['value'], color=[colors[group_lk[x]] for x in dff['name']])\n",
    "#     dx = dff['value'].max() / 200\n",
    "    \n",
    "#     for i, (value, name) in enumerate(zip(dff['value'], dff['name'])):\n",
    "#         ax.text(value-dx, i,     name,           size=14, weight=600, ha='right', va='bottom')\n",
    "#         ax.text(value-dx, i-.25, group_lk[name], size=10, color='#444444', ha='right', va='baseline')\n",
    "#         ax.text(value+dx, i,     f'{value:,.0f}',  size=14, ha='left',  va='center')\n",
    "#     ax.text(1, 0.4, current_day, transform=ax.transAxes, color='#777777', size=46, ha='right', weight=800)\n",
    "#     ax.text(0, 1.06, 'Population (thousands)', transform=ax.transAxes, size=12, color='#777777')\n",
    "#     ax.xaxis.set_major_formatter(ticker.StrMethodFormatter('{x:,.0f}'))\n",
    "#     ax.xaxis.set_ticks_position('top')\n",
    "#     ax.tick_params(axis='x', colors='#777777', labelsize=12)\n",
    "#     ax.set_yticks([])\n",
    "#     ax.margins(0, 0.01)\n",
    "#     ax.grid(which='major', axis='x', linestyle='-')\n",
    "#     ax.set_axisbelow(True)\n",
    "    \n",
    "#     ax.text(0, 1.15, 'Coronavirus',\n",
    "#             transform=ax.transAxes, size=24, weight=600, ha='left', va='top')\n",
    "# #     ax.text(1, 0, 'by @pratapvardhan; credit @jburnmurdoch', transform=ax.transAxes, color='#777777', ha='right',\n",
    "# #             bbox=dict(facecolor='white', alpha=0.8, edgecolor='white'))\n",
    "#     plt.box(False)"
   ]
  },
  {
   "cell_type": "code",
   "execution_count": 42,
   "id": "sexual-wages",
   "metadata": {
    "execution": {
     "iopub.execute_input": "2022-03-29T12:15:58.035673Z",
     "iopub.status.busy": "2022-03-29T12:15:58.034915Z",
     "iopub.status.idle": "2022-03-29T12:15:58.036449Z",
     "shell.execute_reply": "2022-03-29T12:15:58.037238Z"
    },
    "papermill": {
     "duration": 0.050228,
     "end_time": "2022-03-29T12:15:58.037431",
     "exception": false,
     "start_time": "2022-03-29T12:15:57.987203",
     "status": "completed"
    },
    "tags": []
   },
   "outputs": [],
   "source": [
    "# #hide_input\n",
    "# fig, ax = plt.subplots(figsize=(15, 8))\n",
    "# animator = animation.FuncAnimation(fig, draw_barchart, frames=range(g.day.values.min(), g.day.values.max()))\n",
    "# HTML(animator.to_jshtml())\n",
    "# # or use animator.to_html5_video() or animator.save() "
   ]
  },
  {
   "cell_type": "code",
   "execution_count": null,
   "id": "australian-container",
   "metadata": {
    "papermill": {
     "duration": 0.041093,
     "end_time": "2022-03-29T12:15:58.125694",
     "exception": false,
     "start_time": "2022-03-29T12:15:58.084601",
     "status": "completed"
    },
    "tags": []
   },
   "outputs": [],
   "source": []
  },
  {
   "cell_type": "code",
   "execution_count": null,
   "id": "mediterranean-pontiac",
   "metadata": {
    "papermill": {
     "duration": 0.044371,
     "end_time": "2022-03-29T12:15:58.211174",
     "exception": false,
     "start_time": "2022-03-29T12:15:58.166803",
     "status": "completed"
    },
    "tags": []
   },
   "outputs": [],
   "source": []
  },
  {
   "cell_type": "code",
   "execution_count": null,
   "id": "aging-legislature",
   "metadata": {
    "papermill": {
     "duration": 0.043433,
     "end_time": "2022-03-29T12:15:58.296684",
     "exception": false,
     "start_time": "2022-03-29T12:15:58.253251",
     "status": "completed"
    },
    "tags": []
   },
   "outputs": [],
   "source": []
  }
 ],
 "metadata": {
  "kernelspec": {
   "display_name": "Python 3",
   "language": "python",
   "name": "python3"
  },
  "language_info": {
   "codemirror_mode": {
    "name": "ipython",
    "version": 3
   },
   "file_extension": ".py",
   "mimetype": "text/x-python",
   "name": "python",
   "nbconvert_exporter": "python",
   "pygments_lexer": "ipython3",
   "version": "3.6.15"
  },
  "papermill": {
   "duration": 7.975104,
   "end_time": "2022-03-29T12:15:58.759980",
   "environment_variables": {},
   "exception": null,
   "input_path": "2020-03-21-covid19exp.ipynb",
   "output_path": "2020-03-21-covid19exp.ipynb",
   "parameters": {},
   "start_time": "2022-03-29T12:15:50.784876",
   "version": "2.0.0"
  }
 },
 "nbformat": 4,
 "nbformat_minor": 5
}