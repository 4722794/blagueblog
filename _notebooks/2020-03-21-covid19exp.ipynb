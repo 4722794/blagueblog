{
 "cells": [
  {
   "cell_type": "markdown",
   "id": "muslim-click",
   "metadata": {
    "papermill": {
     "duration": 0.033385,
     "end_time": "2022-01-28T00:25:38.523916",
     "exception": false,
     "start_time": "2022-01-28T00:25:38.490531",
     "status": "completed"
    },
    "tags": []
   },
   "source": [
    "# COVID-19 Case Race\n",
    "> A race chart to see rising cases around the world\n",
    "\n",
    "- author: Hargun Oberoi\n",
    "- image: images/covid-overview.png\n",
    "- hide: false\n",
    "- badges: false"
   ]
  },
  {
   "cell_type": "code",
   "execution_count": 1,
   "id": "proof-material",
   "metadata": {
    "execution": {
     "iopub.execute_input": "2022-01-28T00:25:38.593638Z",
     "iopub.status.busy": "2022-01-28T00:25:38.593106Z",
     "iopub.status.idle": "2022-01-28T00:25:38.883050Z",
     "shell.execute_reply": "2022-01-28T00:25:38.883480Z"
    },
    "papermill": {
     "duration": 0.329843,
     "end_time": "2022-01-28T00:25:38.883655",
     "exception": false,
     "start_time": "2022-01-28T00:25:38.553812",
     "status": "completed"
    },
    "tags": []
   },
   "outputs": [],
   "source": [
    "#hide\n",
    "import numpy as np\n",
    "import pandas as pd\n",
    "from jinja2 import Template\n",
    "from IPython.display import HTML"
   ]
  },
  {
   "cell_type": "code",
   "execution_count": 2,
   "id": "developed-terminology",
   "metadata": {
    "execution": {
     "iopub.execute_input": "2022-01-28T00:25:38.948257Z",
     "iopub.status.busy": "2022-01-28T00:25:38.947714Z",
     "iopub.status.idle": "2022-01-28T00:25:38.950258Z",
     "shell.execute_reply": "2022-01-28T00:25:38.949819Z"
    },
    "papermill": {
     "duration": 0.037105,
     "end_time": "2022-01-28T00:25:38.950374",
     "exception": false,
     "start_time": "2022-01-28T00:25:38.913269",
     "status": "completed"
    },
    "tags": []
   },
   "outputs": [],
   "source": [
    "#hide\n",
    "\n",
    "# FETCH\n",
    "base_url = 'https://raw.githubusercontent.com/pratapvardhan/notebooks/master/covid19/'\n",
    "paths = {\n",
    "    'mapping': base_url + 'mapping_countries.csv',\n",
    "    'overview': base_url + 'overview.tpl'\n",
    "}"
   ]
  },
  {
   "cell_type": "code",
   "execution_count": 3,
   "id": "dynamic-saver",
   "metadata": {
    "execution": {
     "iopub.execute_input": "2022-01-28T00:25:39.019166Z",
     "iopub.status.busy": "2022-01-28T00:25:39.018613Z",
     "iopub.status.idle": "2022-01-28T00:25:39.022941Z",
     "shell.execute_reply": "2022-01-28T00:25:39.022525Z"
    },
    "papermill": {
     "duration": 0.043053,
     "end_time": "2022-01-28T00:25:39.023057",
     "exception": false,
     "start_time": "2022-01-28T00:25:38.980004",
     "status": "completed"
    },
    "tags": []
   },
   "outputs": [
    {
     "data": {
      "text/plain": [
       "'https://raw.githubusercontent.com/pratapvardhan/notebooks/master/covid19/mapping_countries.csv'"
      ]
     },
     "execution_count": 3,
     "metadata": {},
     "output_type": "execute_result"
    }
   ],
   "source": [
    "#hide\n",
    "paths['mapping']"
   ]
  },
  {
   "cell_type": "code",
   "execution_count": 4,
   "id": "urban-software",
   "metadata": {
    "execution": {
     "iopub.execute_input": "2022-01-28T00:25:39.090894Z",
     "iopub.status.busy": "2022-01-28T00:25:39.090217Z",
     "iopub.status.idle": "2022-01-28T00:25:39.092078Z",
     "shell.execute_reply": "2022-01-28T00:25:39.092470Z"
    },
    "papermill": {
     "duration": 0.039806,
     "end_time": "2022-01-28T00:25:39.092600",
     "exception": false,
     "start_time": "2022-01-28T00:25:39.052794",
     "status": "completed"
    },
    "tags": []
   },
   "outputs": [],
   "source": [
    "#hide\n",
    "def get_mappings(url):\n",
    "    df = pd.read_csv(url)\n",
    "    return {\n",
    "        'df': df,\n",
    "        'replace.country': dict(df.dropna(subset=['Name']).set_index('Country')['Name']),\n",
    "        'map.continent': dict(df.set_index('Name')['Continent'])\n",
    "    }"
   ]
  },
  {
   "cell_type": "code",
   "execution_count": 5,
   "id": "intimate-machinery",
   "metadata": {
    "execution": {
     "iopub.execute_input": "2022-01-28T00:25:39.150348Z",
     "iopub.status.busy": "2022-01-28T00:25:39.149846Z",
     "iopub.status.idle": "2022-01-28T00:25:39.188743Z",
     "shell.execute_reply": "2022-01-28T00:25:39.188327Z"
    },
    "papermill": {
     "duration": 0.070074,
     "end_time": "2022-01-28T00:25:39.188860",
     "exception": false,
     "start_time": "2022-01-28T00:25:39.118786",
     "status": "completed"
    },
    "tags": []
   },
   "outputs": [],
   "source": [
    "#hide\n",
    "mapping = get_mappings(paths['mapping'])"
   ]
  },
  {
   "cell_type": "code",
   "execution_count": 6,
   "id": "certified-tactics",
   "metadata": {
    "execution": {
     "iopub.execute_input": "2022-01-28T00:25:39.247416Z",
     "iopub.status.busy": "2022-01-28T00:25:39.246843Z",
     "iopub.status.idle": "2022-01-28T00:25:39.248237Z",
     "shell.execute_reply": "2022-01-28T00:25:39.248644Z"
    },
    "papermill": {
     "duration": 0.033438,
     "end_time": "2022-01-28T00:25:39.248787",
     "exception": false,
     "start_time": "2022-01-28T00:25:39.215349",
     "status": "completed"
    },
    "tags": []
   },
   "outputs": [],
   "source": [
    "#hide\n",
    "def get_template(path):\n",
    "    from urllib.parse import urlparse\n",
    "    if bool(urlparse(path).netloc):\n",
    "        from urllib.request import urlopen\n",
    "        return urlopen(path).read().decode('utf8')\n",
    "    return open(path).read()"
   ]
  },
  {
   "cell_type": "code",
   "execution_count": 7,
   "id": "realistic-blast",
   "metadata": {
    "execution": {
     "iopub.execute_input": "2022-01-28T00:25:39.312986Z",
     "iopub.status.busy": "2022-01-28T00:25:39.312479Z",
     "iopub.status.idle": "2022-01-28T00:25:39.315504Z",
     "shell.execute_reply": "2022-01-28T00:25:39.315848Z"
    },
    "papermill": {
     "duration": 0.037773,
     "end_time": "2022-01-28T00:25:39.315974",
     "exception": false,
     "start_time": "2022-01-28T00:25:39.278201",
     "status": "completed"
    },
    "tags": []
   },
   "outputs": [],
   "source": [
    "#hide\n",
    "def get_frame(name):\n",
    "    url = (\n",
    "        'https://raw.githubusercontent.com/CSSEGISandData/COVID-19/master/csse_covid_19_data/'\n",
    "        f'csse_covid_19_time_series/time_series_covid19_{name}_global.csv')\n",
    "    df = pd.read_csv(url)\n",
    "    # rename countries\n",
    "    df['Country/Region'] = df['Country/Region'].replace(mapping['replace.country'])\n",
    "    return df"
   ]
  },
  {
   "cell_type": "code",
   "execution_count": 8,
   "id": "affiliated-characterization",
   "metadata": {
    "execution": {
     "iopub.execute_input": "2022-01-28T00:25:39.374018Z",
     "iopub.status.busy": "2022-01-28T00:25:39.373487Z",
     "iopub.status.idle": "2022-01-28T00:25:39.375494Z",
     "shell.execute_reply": "2022-01-28T00:25:39.375060Z"
    },
    "papermill": {
     "duration": 0.033531,
     "end_time": "2022-01-28T00:25:39.375602",
     "exception": false,
     "start_time": "2022-01-28T00:25:39.342071",
     "status": "completed"
    },
    "tags": []
   },
   "outputs": [],
   "source": [
    "#hide\n",
    "def get_dates(df):\n",
    "    dt_cols = df.columns[~df.columns.isin(['Province/State', 'Country/Region', 'Lat', 'Long'])]\n",
    "    LAST_DATE_I = -1\n",
    "    # sometimes last column may be empty, then go backwards\n",
    "    for i in range(-1, -len(dt_cols), -1):\n",
    "        if not df[dt_cols[i]].fillna(0).eq(0).all():\n",
    "            LAST_DATE_I = i\n",
    "            break\n",
    "    return LAST_DATE_I, dt_cols"
   ]
  },
  {
   "cell_type": "code",
   "execution_count": 9,
   "id": "recent-optimization",
   "metadata": {
    "execution": {
     "iopub.execute_input": "2022-01-28T00:25:39.439259Z",
     "iopub.status.busy": "2022-01-28T00:25:39.438705Z",
     "iopub.status.idle": "2022-01-28T00:25:39.794816Z",
     "shell.execute_reply": "2022-01-28T00:25:39.794272Z"
    },
    "papermill": {
     "duration": 0.390169,
     "end_time": "2022-01-28T00:25:39.794957",
     "exception": false,
     "start_time": "2022-01-28T00:25:39.404788",
     "status": "completed"
    },
    "tags": []
   },
   "outputs": [],
   "source": [
    "#hide\n",
    "COL_REGION = 'Country/Region'\n",
    "# Confirmed, Recovered, Deaths\n",
    "df = get_frame('confirmed')\n",
    "# dft_: timeseries, dfc_: today country agg\n",
    "dft_cases = df\n",
    "dft_deaths = get_frame('deaths')\n",
    "dft_recovered = get_frame('recovered')\n",
    "LAST_DATE_I, dt_cols = get_dates(df)"
   ]
  },
  {
   "cell_type": "code",
   "execution_count": 10,
   "id": "absolute-copper",
   "metadata": {
    "execution": {
     "iopub.execute_input": "2022-01-28T00:25:39.860899Z",
     "iopub.status.busy": "2022-01-28T00:25:39.860380Z",
     "iopub.status.idle": "2022-01-28T00:25:39.862381Z",
     "shell.execute_reply": "2022-01-28T00:25:39.861917Z"
    },
    "papermill": {
     "duration": 0.036522,
     "end_time": "2022-01-28T00:25:39.862496",
     "exception": false,
     "start_time": "2022-01-28T00:25:39.825974",
     "status": "completed"
    },
    "tags": []
   },
   "outputs": [],
   "source": [
    "#hide\n",
    "LAST_DATE_I, dt_cols = get_dates(df)\n",
    "dt_today =dt_cols[LAST_DATE_I]\n",
    "# dt_5day = dt_cols[LAST_DATE_I - 5]\n",
    "dt_yday = dt_cols[LAST_DATE_I - 1]"
   ]
  },
  {
   "cell_type": "code",
   "execution_count": 11,
   "id": "restricted-sheriff",
   "metadata": {
    "execution": {
     "iopub.execute_input": "2022-01-28T00:25:39.927528Z",
     "iopub.status.busy": "2022-01-28T00:25:39.927000Z",
     "iopub.status.idle": "2022-01-28T00:25:39.933932Z",
     "shell.execute_reply": "2022-01-28T00:25:39.933519Z"
    },
    "papermill": {
     "duration": 0.042074,
     "end_time": "2022-01-28T00:25:39.934043",
     "exception": false,
     "start_time": "2022-01-28T00:25:39.891969",
     "status": "completed"
    },
    "tags": []
   },
   "outputs": [],
   "source": [
    "#hide\n",
    "dfc_cases = dft_cases.groupby(COL_REGION)[dt_today].sum()\n",
    "dfc_deaths = dft_deaths.groupby(COL_REGION)[dt_today].sum()\n",
    "# dfp_cases = dft_cases.groupby(COL_REGION)[dt_5day].sum()\n",
    "# dfp_deaths = dft_deaths.groupby(COL_REGION)[dt_5day].sum()\n",
    "dfp_cases = dft_cases.groupby(COL_REGION)[dt_yday].sum()\n",
    "dfp_deaths = dft_deaths.groupby(COL_REGION)[dt_yday].sum()"
   ]
  },
  {
   "cell_type": "code",
   "execution_count": 12,
   "id": "deluxe-hepatitis",
   "metadata": {
    "execution": {
     "iopub.execute_input": "2022-01-28T00:25:39.998874Z",
     "iopub.status.busy": "2022-01-28T00:25:39.998333Z",
     "iopub.status.idle": "2022-01-28T00:25:40.002530Z",
     "shell.execute_reply": "2022-01-28T00:25:40.002969Z"
    },
    "papermill": {
     "duration": 0.039639,
     "end_time": "2022-01-28T00:25:40.003098",
     "exception": false,
     "start_time": "2022-01-28T00:25:39.963459",
     "status": "completed"
    },
    "tags": []
   },
   "outputs": [],
   "source": [
    "#hide\n",
    "df_table = (pd.DataFrame(dict(Cases = dfc_cases, Deaths = dfc_deaths, PCases = dfp_cases, PDeaths = dfp_deaths))\n",
    "            .sort_values(by = ['Cases','Deaths'], ascending = [False, False])\n",
    "            .reset_index())"
   ]
  },
  {
   "cell_type": "code",
   "execution_count": 13,
   "id": "educational-chancellor",
   "metadata": {
    "execution": {
     "iopub.execute_input": "2022-01-28T00:25:40.078841Z",
     "iopub.status.busy": "2022-01-28T00:25:40.078315Z",
     "iopub.status.idle": "2022-01-28T00:25:40.085291Z",
     "shell.execute_reply": "2022-01-28T00:25:40.085675Z"
    },
    "papermill": {
     "duration": 0.053375,
     "end_time": "2022-01-28T00:25:40.085807",
     "exception": false,
     "start_time": "2022-01-28T00:25:40.032432",
     "status": "completed"
    },
    "tags": []
   },
   "outputs": [
    {
     "data": {
      "text/html": [
       "<div>\n",
       "<style scoped>\n",
       "    .dataframe tbody tr th:only-of-type {\n",
       "        vertical-align: middle;\n",
       "    }\n",
       "\n",
       "    .dataframe tbody tr th {\n",
       "        vertical-align: top;\n",
       "    }\n",
       "\n",
       "    .dataframe thead th {\n",
       "        text-align: right;\n",
       "    }\n",
       "</style>\n",
       "<table border=\"1\" class=\"dataframe\">\n",
       "  <thead>\n",
       "    <tr style=\"text-align: right;\">\n",
       "      <th></th>\n",
       "      <th>Country/Region</th>\n",
       "      <th>Cases</th>\n",
       "      <th>Deaths</th>\n",
       "      <th>PCases</th>\n",
       "      <th>PDeaths</th>\n",
       "      <th>Cases (+)</th>\n",
       "      <th>Deaths (+)</th>\n",
       "      <th>Fatality Rate</th>\n",
       "      <th>Continent</th>\n",
       "    </tr>\n",
       "  </thead>\n",
       "  <tbody>\n",
       "    <tr>\n",
       "      <th>0</th>\n",
       "      <td>US</td>\n",
       "      <td>72910136</td>\n",
       "      <td>876065</td>\n",
       "      <td>72257016</td>\n",
       "      <td>872025</td>\n",
       "      <td>653120</td>\n",
       "      <td>4040</td>\n",
       "      <td>1.20</td>\n",
       "      <td>North America</td>\n",
       "    </tr>\n",
       "    <tr>\n",
       "      <th>1</th>\n",
       "      <td>India</td>\n",
       "      <td>40371500</td>\n",
       "      <td>491700</td>\n",
       "      <td>40085116</td>\n",
       "      <td>491127</td>\n",
       "      <td>286384</td>\n",
       "      <td>573</td>\n",
       "      <td>1.22</td>\n",
       "      <td>Asia</td>\n",
       "    </tr>\n",
       "    <tr>\n",
       "      <th>2</th>\n",
       "      <td>Brazil</td>\n",
       "      <td>24560093</td>\n",
       "      <td>624717</td>\n",
       "      <td>24342322</td>\n",
       "      <td>624129</td>\n",
       "      <td>217771</td>\n",
       "      <td>588</td>\n",
       "      <td>2.54</td>\n",
       "      <td>South America</td>\n",
       "    </tr>\n",
       "    <tr>\n",
       "      <th>3</th>\n",
       "      <td>France</td>\n",
       "      <td>17848291</td>\n",
       "      <td>130739</td>\n",
       "      <td>17420569</td>\n",
       "      <td>130483</td>\n",
       "      <td>427722</td>\n",
       "      <td>256</td>\n",
       "      <td>0.73</td>\n",
       "      <td>Europe</td>\n",
       "    </tr>\n",
       "    <tr>\n",
       "      <th>4</th>\n",
       "      <td>United Kingdom</td>\n",
       "      <td>16260882</td>\n",
       "      <td>155221</td>\n",
       "      <td>16158455</td>\n",
       "      <td>154875</td>\n",
       "      <td>102427</td>\n",
       "      <td>346</td>\n",
       "      <td>0.95</td>\n",
       "      <td>Europe</td>\n",
       "    </tr>\n",
       "  </tbody>\n",
       "</table>\n",
       "</div>"
      ],
      "text/plain": [
       "   Country/Region     Cases  Deaths    PCases  PDeaths  Cases (+)  Deaths (+)  \\\n",
       "0              US  72910136  876065  72257016   872025     653120        4040   \n",
       "1           India  40371500  491700  40085116   491127     286384         573   \n",
       "2          Brazil  24560093  624717  24342322   624129     217771         588   \n",
       "3          France  17848291  130739  17420569   130483     427722         256   \n",
       "4  United Kingdom  16260882  155221  16158455   154875     102427         346   \n",
       "\n",
       "   Fatality Rate      Continent  \n",
       "0           1.20  North America  \n",
       "1           1.22           Asia  \n",
       "2           2.54  South America  \n",
       "3           0.73         Europe  \n",
       "4           0.95         Europe  "
      ]
     },
     "execution_count": 13,
     "metadata": {},
     "output_type": "execute_result"
    }
   ],
   "source": [
    "#hide\n",
    "for c in 'Cases, Deaths'.split(', '):\n",
    "    df_table[f'{c} (+)'] = (df_table[c] - df_table[f'P{c}']).clip(0)\n",
    "    #Clip ça veut dire, les chiffres negatif sont interdit\n",
    "df_table['Fatality Rate'] = (100* df_table['Deaths']/ df_table['Cases']).round(2)\n",
    "df_table['Continent'] = df_table['Country/Region'].map(mapping['map.continent'])\n",
    "df_table.head(5)"
   ]
  },
  {
   "cell_type": "code",
   "execution_count": 14,
   "id": "aboriginal-bulgaria",
   "metadata": {
    "execution": {
     "iopub.execute_input": "2022-01-28T00:25:40.151188Z",
     "iopub.status.busy": "2022-01-28T00:25:40.149776Z",
     "iopub.status.idle": "2022-01-28T00:25:40.153151Z",
     "shell.execute_reply": "2022-01-28T00:25:40.153556Z"
    },
    "papermill": {
     "duration": 0.037941,
     "end_time": "2022-01-28T00:25:40.153683",
     "exception": false,
     "start_time": "2022-01-28T00:25:40.115742",
     "status": "completed"
    },
    "tags": []
   },
   "outputs": [],
   "source": [
    "#hide\n",
    "#delete problematic countries from table\n",
    "df_table = df_table[~df_table['Country/Region'].isin(['Cape Verde', 'Cruise Ship', 'Kosovo'])]"
   ]
  },
  {
   "cell_type": "code",
   "execution_count": 15,
   "id": "fantastic-effect",
   "metadata": {
    "execution": {
     "iopub.execute_input": "2022-01-28T00:25:40.220393Z",
     "iopub.status.busy": "2022-01-28T00:25:40.219877Z",
     "iopub.status.idle": "2022-01-28T00:25:40.236519Z",
     "shell.execute_reply": "2022-01-28T00:25:40.236017Z"
    },
    "papermill": {
     "duration": 0.053311,
     "end_time": "2022-01-28T00:25:40.236639",
     "exception": false,
     "start_time": "2022-01-28T00:25:40.183328",
     "status": "completed"
    },
    "tags": []
   },
   "outputs": [
    {
     "data": {
      "text/html": [
       "<div>\n",
       "<style scoped>\n",
       "    .dataframe tbody tr th:only-of-type {\n",
       "        vertical-align: middle;\n",
       "    }\n",
       "\n",
       "    .dataframe tbody tr th {\n",
       "        vertical-align: top;\n",
       "    }\n",
       "\n",
       "    .dataframe thead th {\n",
       "        text-align: right;\n",
       "    }\n",
       "</style>\n",
       "<table border=\"1\" class=\"dataframe\">\n",
       "  <thead>\n",
       "    <tr style=\"text-align: right;\">\n",
       "      <th></th>\n",
       "      <th>Country/Region</th>\n",
       "      <th>Cases</th>\n",
       "      <th>Deaths</th>\n",
       "      <th>PCases</th>\n",
       "      <th>PDeaths</th>\n",
       "      <th>Cases (+)</th>\n",
       "      <th>Deaths (+)</th>\n",
       "      <th>Fatality Rate</th>\n",
       "      <th>Continent</th>\n",
       "    </tr>\n",
       "  </thead>\n",
       "  <tbody>\n",
       "    <tr>\n",
       "      <th>0</th>\n",
       "      <td>US</td>\n",
       "      <td>72910136</td>\n",
       "      <td>876065</td>\n",
       "      <td>72257016</td>\n",
       "      <td>872025</td>\n",
       "      <td>653120</td>\n",
       "      <td>4040</td>\n",
       "      <td>1.2</td>\n",
       "      <td>North America</td>\n",
       "    </tr>\n",
       "    <tr>\n",
       "      <th>1</th>\n",
       "      <td>India</td>\n",
       "      <td>40371500</td>\n",
       "      <td>491700</td>\n",
       "      <td>40085116</td>\n",
       "      <td>491127</td>\n",
       "      <td>286384</td>\n",
       "      <td>573</td>\n",
       "      <td>1.2</td>\n",
       "      <td>Asia</td>\n",
       "    </tr>\n",
       "    <tr>\n",
       "      <th>2</th>\n",
       "      <td>Brazil</td>\n",
       "      <td>24560093</td>\n",
       "      <td>624717</td>\n",
       "      <td>24342322</td>\n",
       "      <td>624129</td>\n",
       "      <td>217771</td>\n",
       "      <td>588</td>\n",
       "      <td>2.5</td>\n",
       "      <td>South America</td>\n",
       "    </tr>\n",
       "    <tr>\n",
       "      <th>3</th>\n",
       "      <td>France</td>\n",
       "      <td>17848291</td>\n",
       "      <td>130739</td>\n",
       "      <td>17420569</td>\n",
       "      <td>130483</td>\n",
       "      <td>427722</td>\n",
       "      <td>256</td>\n",
       "      <td>0.7</td>\n",
       "      <td>Europe</td>\n",
       "    </tr>\n",
       "    <tr>\n",
       "      <th>4</th>\n",
       "      <td>United Kingdom</td>\n",
       "      <td>16260882</td>\n",
       "      <td>155221</td>\n",
       "      <td>16158455</td>\n",
       "      <td>154875</td>\n",
       "      <td>102427</td>\n",
       "      <td>346</td>\n",
       "      <td>1.0</td>\n",
       "      <td>Europe</td>\n",
       "    </tr>\n",
       "  </tbody>\n",
       "</table>\n",
       "</div>"
      ],
      "text/plain": [
       "   Country/Region     Cases  Deaths    PCases  PDeaths  Cases (+)  Deaths (+)  \\\n",
       "0              US  72910136  876065  72257016   872025     653120        4040   \n",
       "1           India  40371500  491700  40085116   491127     286384         573   \n",
       "2          Brazil  24560093  624717  24342322   624129     217771         588   \n",
       "3          France  17848291  130739  17420569   130483     427722         256   \n",
       "4  United Kingdom  16260882  155221  16158455   154875     102427         346   \n",
       "\n",
       "   Fatality Rate      Continent  \n",
       "0            1.2  North America  \n",
       "1            1.2           Asia  \n",
       "2            2.5  South America  \n",
       "3            0.7         Europe  \n",
       "4            1.0         Europe  "
      ]
     },
     "execution_count": 15,
     "metadata": {},
     "output_type": "execute_result"
    }
   ],
   "source": [
    "#hide\n",
    "df_table = (pd.DataFrame(dict(Cases=dfc_cases, Deaths=dfc_deaths, PCases=dfp_cases, PDeaths=dfp_deaths))\n",
    "             .sort_values(by=['Cases', 'Deaths'], ascending=[False, False])\n",
    "             .reset_index())\n",
    "df_table.rename(columns={'index': 'Country/Region'}, inplace=True)\n",
    "for c in 'Cases, Deaths'.split(', '):\n",
    "    df_table[f'{c} (+)'] = (df_table[c] - df_table[f'P{c}']).clip(0)  # DATA BUG\n",
    "df_table['Fatality Rate'] = (100 * df_table['Deaths'] / df_table['Cases']).round(1)\n",
    "df_table['Continent'] = df_table['Country/Region'].map(mapping['map.continent'])\n",
    "df_table.head(5)"
   ]
  },
  {
   "cell_type": "code",
   "execution_count": 16,
   "id": "fewer-occasion",
   "metadata": {
    "execution": {
     "iopub.execute_input": "2022-01-28T00:25:40.303730Z",
     "iopub.status.busy": "2022-01-28T00:25:40.303218Z",
     "iopub.status.idle": "2022-01-28T00:25:40.305719Z",
     "shell.execute_reply": "2022-01-28T00:25:40.305285Z"
    },
    "papermill": {
     "duration": 0.037806,
     "end_time": "2022-01-28T00:25:40.305825",
     "exception": false,
     "start_time": "2022-01-28T00:25:40.268019",
     "status": "completed"
    },
    "tags": []
   },
   "outputs": [],
   "source": [
    "#hide\n",
    "#delete problematic countries from table\n",
    "df_table = df_table[~df_table['Country/Region'].isin(['Cape Verde', 'Cruise Ship', 'Kosovo'])]"
   ]
  },
  {
   "cell_type": "code",
   "execution_count": 17,
   "id": "related-center",
   "metadata": {
    "execution": {
     "iopub.execute_input": "2022-01-28T00:25:40.384090Z",
     "iopub.status.busy": "2022-01-28T00:25:40.383555Z",
     "iopub.status.idle": "2022-01-28T00:25:40.385905Z",
     "shell.execute_reply": "2022-01-28T00:25:40.385491Z"
    },
    "papermill": {
     "duration": 0.05008,
     "end_time": "2022-01-28T00:25:40.386016",
     "exception": false,
     "start_time": "2022-01-28T00:25:40.335936",
     "status": "completed"
    },
    "tags": []
   },
   "outputs": [],
   "source": [
    "#hide\n",
    "metrics = [df_table.columns[index] for index in [1,2,5,6]]\n",
    "# s_china = df_table[df_table['Country/Region'].eq('China')][metrics].sum().add_prefix('China ')\n",
    "s_us = df_table[df_table['Country/Region'].eq('US')][metrics].sum().add_prefix('US ')\n",
    "s_eu = df_table[df_table['Continent'].eq('Europe')][metrics].sum().add_prefix('EU ')\n",
    "s_ind = df_table[df_table['Country/Region'].eq('India')][metrics].sum().add_prefix('India ')\n",
    "summary = {'updated': pd.to_datetime(dt_today), 'since': pd.to_datetime(dt_yday)}\n",
    "summary = {'updated': pd.to_datetime(dt_today), 'since': pd.to_datetime(dt_yday)}\n",
    "summary = {**summary, **df_table[metrics].sum(), **s_ind, **s_us, **s_eu}"
   ]
  },
  {
   "cell_type": "code",
   "execution_count": 18,
   "id": "engaging-syndrome",
   "metadata": {
    "execution": {
     "iopub.execute_input": "2022-01-28T00:25:40.451861Z",
     "iopub.status.busy": "2022-01-28T00:25:40.451337Z",
     "iopub.status.idle": "2022-01-28T00:25:40.466420Z",
     "shell.execute_reply": "2022-01-28T00:25:40.465970Z"
    },
    "papermill": {
     "duration": 0.05003,
     "end_time": "2022-01-28T00:25:40.466545",
     "exception": false,
     "start_time": "2022-01-28T00:25:40.416515",
     "status": "completed"
    },
    "tags": []
   },
   "outputs": [],
   "source": [
    "#hide\n",
    "dft_ct_new_cases = dft_cases.groupby(COL_REGION)[dt_cols].sum().diff(axis=1).fillna(0).astype(int)"
   ]
  },
  {
   "cell_type": "code",
   "execution_count": 19,
   "id": "neutral-assignment",
   "metadata": {
    "execution": {
     "iopub.execute_input": "2022-01-28T00:25:40.533480Z",
     "iopub.status.busy": "2022-01-28T00:25:40.532966Z",
     "iopub.status.idle": "2022-01-28T00:25:40.535549Z",
     "shell.execute_reply": "2022-01-28T00:25:40.535137Z"
    },
    "papermill": {
     "duration": 0.038713,
     "end_time": "2022-01-28T00:25:40.535661",
     "exception": false,
     "start_time": "2022-01-28T00:25:40.496948",
     "status": "completed"
    },
    "tags": []
   },
   "outputs": [],
   "source": [
    "#hide\n",
    "everydaycases = dft_ct_new_cases.cumsum(axis=1)"
   ]
  },
  {
   "cell_type": "code",
   "execution_count": 20,
   "id": "parliamentary-calgary",
   "metadata": {
    "execution": {
     "iopub.execute_input": "2022-01-28T00:25:40.601145Z",
     "iopub.status.busy": "2022-01-28T00:25:40.600591Z",
     "iopub.status.idle": "2022-01-28T00:25:41.185279Z",
     "shell.execute_reply": "2022-01-28T00:25:41.184756Z"
    },
    "papermill": {
     "duration": 0.619312,
     "end_time": "2022-01-28T00:25:41.185416",
     "exception": false,
     "start_time": "2022-01-28T00:25:40.566104",
     "status": "completed"
    },
    "tags": []
   },
   "outputs": [],
   "source": [
    "#hide\n",
    "import pandas as pd\n",
    "import matplotlib.pyplot as plt\n",
    "import matplotlib.ticker as ticker\n",
    "import matplotlib.animation as animation\n",
    "from IPython.display import HTML"
   ]
  },
  {
   "cell_type": "code",
   "execution_count": 21,
   "id": "lasting-extraction",
   "metadata": {
    "execution": {
     "iopub.execute_input": "2022-01-28T00:25:41.253007Z",
     "iopub.status.busy": "2022-01-28T00:25:41.252486Z",
     "iopub.status.idle": "2022-01-28T00:25:41.257833Z",
     "shell.execute_reply": "2022-01-28T00:25:41.257401Z"
    },
    "papermill": {
     "duration": 0.041422,
     "end_time": "2022-01-28T00:25:41.257939",
     "exception": false,
     "start_time": "2022-01-28T00:25:41.216517",
     "status": "completed"
    },
    "tags": []
   },
   "outputs": [],
   "source": [
    "#hide\n",
    "t = everydaycases.stack()"
   ]
  },
  {
   "cell_type": "code",
   "execution_count": 22,
   "id": "premier-sleeve",
   "metadata": {
    "execution": {
     "iopub.execute_input": "2022-01-28T00:25:41.323248Z",
     "iopub.status.busy": "2022-01-28T00:25:41.322712Z",
     "iopub.status.idle": "2022-01-28T00:25:41.331816Z",
     "shell.execute_reply": "2022-01-28T00:25:41.331396Z"
    },
    "papermill": {
     "duration": 0.04345,
     "end_time": "2022-01-28T00:25:41.331930",
     "exception": false,
     "start_time": "2022-01-28T00:25:41.288480",
     "status": "completed"
    },
    "tags": []
   },
   "outputs": [],
   "source": [
    "#hide\n",
    "g = t.reset_index(['Country/Region'])"
   ]
  },
  {
   "cell_type": "code",
   "execution_count": 23,
   "id": "distributed-pittsburgh",
   "metadata": {
    "execution": {
     "iopub.execute_input": "2022-01-28T00:25:41.396865Z",
     "iopub.status.busy": "2022-01-28T00:25:41.396345Z",
     "iopub.status.idle": "2022-01-28T00:25:41.398615Z",
     "shell.execute_reply": "2022-01-28T00:25:41.398079Z"
    },
    "papermill": {
     "duration": 0.036441,
     "end_time": "2022-01-28T00:25:41.398727",
     "exception": false,
     "start_time": "2022-01-28T00:25:41.362286",
     "status": "completed"
    },
    "tags": []
   },
   "outputs": [],
   "source": [
    "#hide\n",
    "g.index.name = 'date'"
   ]
  },
  {
   "cell_type": "code",
   "execution_count": 24,
   "id": "naked-donor",
   "metadata": {
    "execution": {
     "iopub.execute_input": "2022-01-28T00:25:41.463258Z",
     "iopub.status.busy": "2022-01-28T00:25:41.462652Z",
     "iopub.status.idle": "2022-01-28T00:25:41.464175Z",
     "shell.execute_reply": "2022-01-28T00:25:41.464610Z"
    },
    "papermill": {
     "duration": 0.035575,
     "end_time": "2022-01-28T00:25:41.464756",
     "exception": false,
     "start_time": "2022-01-28T00:25:41.429181",
     "status": "completed"
    },
    "tags": []
   },
   "outputs": [],
   "source": [
    "# #hide\n",
    "# g = g.reset_index(['date'])"
   ]
  },
  {
   "cell_type": "code",
   "execution_count": 25,
   "id": "incomplete-mustang",
   "metadata": {
    "execution": {
     "iopub.execute_input": "2022-01-28T00:25:41.522068Z",
     "iopub.status.busy": "2022-01-28T00:25:41.521471Z",
     "iopub.status.idle": "2022-01-28T00:25:41.525195Z",
     "shell.execute_reply": "2022-01-28T00:25:41.525632Z"
    },
    "papermill": {
     "duration": 0.034269,
     "end_time": "2022-01-28T00:25:41.525777",
     "exception": false,
     "start_time": "2022-01-28T00:25:41.491508",
     "status": "completed"
    },
    "tags": []
   },
   "outputs": [],
   "source": [
    "#hide\n",
    "# g.head()"
   ]
  },
  {
   "cell_type": "code",
   "execution_count": 26,
   "id": "specific-kruger",
   "metadata": {
    "execution": {
     "iopub.execute_input": "2022-01-28T00:25:41.590559Z",
     "iopub.status.busy": "2022-01-28T00:25:41.589921Z",
     "iopub.status.idle": "2022-01-28T00:25:41.592080Z",
     "shell.execute_reply": "2022-01-28T00:25:41.591592Z"
    },
    "papermill": {
     "duration": 0.035416,
     "end_time": "2022-01-28T00:25:41.592197",
     "exception": false,
     "start_time": "2022-01-28T00:25:41.556781",
     "status": "completed"
    },
    "tags": []
   },
   "outputs": [],
   "source": [
    "#hide\n",
    "# g.columns = ['date','country','cases']"
   ]
  },
  {
   "cell_type": "code",
   "execution_count": 27,
   "id": "tender-conversion",
   "metadata": {
    "execution": {
     "iopub.execute_input": "2022-01-28T00:25:41.650711Z",
     "iopub.status.busy": "2022-01-28T00:25:41.650145Z",
     "iopub.status.idle": "2022-01-28T00:25:41.651471Z",
     "shell.execute_reply": "2022-01-28T00:25:41.651900Z"
    },
    "papermill": {
     "duration": 0.031745,
     "end_time": "2022-01-28T00:25:41.652026",
     "exception": false,
     "start_time": "2022-01-28T00:25:41.620281",
     "status": "completed"
    },
    "tags": []
   },
   "outputs": [],
   "source": [
    "#hide\n",
    "# g['continent'] = g.country"
   ]
  },
  {
   "cell_type": "code",
   "execution_count": 28,
   "id": "substantial-wilderness",
   "metadata": {
    "execution": {
     "iopub.execute_input": "2022-01-28T00:25:41.716717Z",
     "iopub.status.busy": "2022-01-28T00:25:41.716123Z",
     "iopub.status.idle": "2022-01-28T00:25:41.717609Z",
     "shell.execute_reply": "2022-01-28T00:25:41.718067Z"
    },
    "papermill": {
     "duration": 0.035539,
     "end_time": "2022-01-28T00:25:41.718228",
     "exception": false,
     "start_time": "2022-01-28T00:25:41.682689",
     "status": "completed"
    },
    "tags": []
   },
   "outputs": [],
   "source": [
    "#hide\n",
    "# cols = list(g.columns.values)"
   ]
  },
  {
   "cell_type": "code",
   "execution_count": 29,
   "id": "solved-farming",
   "metadata": {
    "execution": {
     "iopub.execute_input": "2022-01-28T00:25:41.775206Z",
     "iopub.status.busy": "2022-01-28T00:25:41.774620Z",
     "iopub.status.idle": "2022-01-28T00:25:41.778757Z",
     "shell.execute_reply": "2022-01-28T00:25:41.778253Z"
    },
    "papermill": {
     "duration": 0.033609,
     "end_time": "2022-01-28T00:25:41.778874",
     "exception": false,
     "start_time": "2022-01-28T00:25:41.745265",
     "status": "completed"
    },
    "tags": []
   },
   "outputs": [],
   "source": [
    "#hide\n",
    "# cols.insert(0, cols.pop())"
   ]
  },
  {
   "cell_type": "code",
   "execution_count": 30,
   "id": "executed-adoption",
   "metadata": {
    "execution": {
     "iopub.execute_input": "2022-01-28T00:25:41.843526Z",
     "iopub.status.busy": "2022-01-28T00:25:41.843038Z",
     "iopub.status.idle": "2022-01-28T00:25:41.845130Z",
     "shell.execute_reply": "2022-01-28T00:25:41.844763Z"
    },
    "papermill": {
     "duration": 0.035825,
     "end_time": "2022-01-28T00:25:41.845229",
     "exception": false,
     "start_time": "2022-01-28T00:25:41.809404",
     "status": "completed"
    },
    "tags": []
   },
   "outputs": [],
   "source": [
    "#hide\n",
    "# g = g[cols]"
   ]
  },
  {
   "cell_type": "code",
   "execution_count": 31,
   "id": "subject-dublin",
   "metadata": {
    "execution": {
     "iopub.execute_input": "2022-01-28T00:25:41.902142Z",
     "iopub.status.busy": "2022-01-28T00:25:41.901553Z",
     "iopub.status.idle": "2022-01-28T00:25:41.905350Z",
     "shell.execute_reply": "2022-01-28T00:25:41.904939Z"
    },
    "papermill": {
     "duration": 0.033362,
     "end_time": "2022-01-28T00:25:41.905459",
     "exception": false,
     "start_time": "2022-01-28T00:25:41.872097",
     "status": "completed"
    },
    "tags": []
   },
   "outputs": [],
   "source": [
    "#hide\n",
    "# g['continent'] = g['continent'].map(mapping['map.continent'])"
   ]
  },
  {
   "cell_type": "code",
   "execution_count": 32,
   "id": "freelance-scout",
   "metadata": {
    "execution": {
     "iopub.execute_input": "2022-01-28T00:25:41.969877Z",
     "iopub.status.busy": "2022-01-28T00:25:41.969277Z",
     "iopub.status.idle": "2022-01-28T00:25:41.971258Z",
     "shell.execute_reply": "2022-01-28T00:25:41.970739Z"
    },
    "papermill": {
     "duration": 0.035664,
     "end_time": "2022-01-28T00:25:41.971367",
     "exception": false,
     "start_time": "2022-01-28T00:25:41.935703",
     "status": "completed"
    },
    "tags": []
   },
   "outputs": [],
   "source": [
    "#hide\n",
    "# g.head()"
   ]
  },
  {
   "cell_type": "code",
   "execution_count": 33,
   "id": "limited-engine",
   "metadata": {
    "execution": {
     "iopub.execute_input": "2022-01-28T00:25:42.036010Z",
     "iopub.status.busy": "2022-01-28T00:25:42.035412Z",
     "iopub.status.idle": "2022-01-28T00:25:42.037660Z",
     "shell.execute_reply": "2022-01-28T00:25:42.037219Z"
    },
    "papermill": {
     "duration": 0.036194,
     "end_time": "2022-01-28T00:25:42.037769",
     "exception": false,
     "start_time": "2022-01-28T00:25:42.001575",
     "status": "completed"
    },
    "tags": []
   },
   "outputs": [],
   "source": [
    "# hide\n",
    "# g['date'] = g['date'].astype('datetime64[ns]')"
   ]
  },
  {
   "cell_type": "code",
   "execution_count": 34,
   "id": "sophisticated-supervisor",
   "metadata": {
    "execution": {
     "iopub.execute_input": "2022-01-28T00:25:42.102334Z",
     "iopub.status.busy": "2022-01-28T00:25:42.101691Z",
     "iopub.status.idle": "2022-01-28T00:25:42.103687Z",
     "shell.execute_reply": "2022-01-28T00:25:42.103113Z"
    },
    "papermill": {
     "duration": 0.035729,
     "end_time": "2022-01-28T00:25:42.103806",
     "exception": false,
     "start_time": "2022-01-28T00:25:42.068077",
     "status": "completed"
    },
    "tags": []
   },
   "outputs": [],
   "source": [
    "#hide\n",
    "# g['date'] = g.date.dt.dayofyear"
   ]
  },
  {
   "cell_type": "code",
   "execution_count": 35,
   "id": "inside-dubai",
   "metadata": {
    "execution": {
     "iopub.execute_input": "2022-01-28T00:25:42.162866Z",
     "iopub.status.busy": "2022-01-28T00:25:42.162249Z",
     "iopub.status.idle": "2022-01-28T00:25:42.163408Z",
     "shell.execute_reply": "2022-01-28T00:25:42.163950Z"
    },
    "papermill": {
     "duration": 0.031687,
     "end_time": "2022-01-28T00:25:42.164091",
     "exception": false,
     "start_time": "2022-01-28T00:25:42.132404",
     "status": "completed"
    },
    "tags": []
   },
   "outputs": [],
   "source": [
    "#hide\n",
    "# g = g.rename(columns= {'continent':'group','country':'name','cases':'value'})"
   ]
  },
  {
   "cell_type": "code",
   "execution_count": 36,
   "id": "fleet-motorcycle",
   "metadata": {
    "execution": {
     "iopub.execute_input": "2022-01-28T00:25:42.229445Z",
     "iopub.status.busy": "2022-01-28T00:25:42.228864Z",
     "iopub.status.idle": "2022-01-28T00:25:42.230770Z",
     "shell.execute_reply": "2022-01-28T00:25:42.230399Z"
    },
    "papermill": {
     "duration": 0.035872,
     "end_time": "2022-01-28T00:25:42.230869",
     "exception": false,
     "start_time": "2022-01-28T00:25:42.194997",
     "status": "completed"
    },
    "tags": []
   },
   "outputs": [],
   "source": [
    "#hide\n",
    "# cols = ['name','group','day','value']"
   ]
  },
  {
   "cell_type": "code",
   "execution_count": 37,
   "id": "continued-sleeping",
   "metadata": {
    "execution": {
     "iopub.execute_input": "2022-01-28T00:25:42.287828Z",
     "iopub.status.busy": "2022-01-28T00:25:42.287229Z",
     "iopub.status.idle": "2022-01-28T00:25:42.291070Z",
     "shell.execute_reply": "2022-01-28T00:25:42.290620Z"
    },
    "papermill": {
     "duration": 0.033618,
     "end_time": "2022-01-28T00:25:42.291180",
     "exception": false,
     "start_time": "2022-01-28T00:25:42.257562",
     "status": "completed"
    },
    "tags": []
   },
   "outputs": [],
   "source": [
    "#hide\n",
    "# g.rename(columns= {'date':'day'},inplace = True)"
   ]
  },
  {
   "cell_type": "code",
   "execution_count": 38,
   "id": "major-fight",
   "metadata": {
    "execution": {
     "iopub.execute_input": "2022-01-28T00:25:42.355900Z",
     "iopub.status.busy": "2022-01-28T00:25:42.355299Z",
     "iopub.status.idle": "2022-01-28T00:25:42.357305Z",
     "shell.execute_reply": "2022-01-28T00:25:42.356734Z"
    },
    "papermill": {
     "duration": 0.035858,
     "end_time": "2022-01-28T00:25:42.357425",
     "exception": false,
     "start_time": "2022-01-28T00:25:42.321567",
     "status": "completed"
    },
    "tags": []
   },
   "outputs": [],
   "source": [
    "#hide\n",
    "# g = g[cols]"
   ]
  },
  {
   "cell_type": "code",
   "execution_count": 39,
   "id": "structured-mobile",
   "metadata": {
    "execution": {
     "iopub.execute_input": "2022-01-28T00:25:42.415562Z",
     "iopub.status.busy": "2022-01-28T00:25:42.414965Z",
     "iopub.status.idle": "2022-01-28T00:25:42.418264Z",
     "shell.execute_reply": "2022-01-28T00:25:42.418714Z"
    },
    "papermill": {
     "duration": 0.033603,
     "end_time": "2022-01-28T00:25:42.418859",
     "exception": false,
     "start_time": "2022-01-28T00:25:42.385256",
     "status": "completed"
    },
    "tags": []
   },
   "outputs": [],
   "source": [
    "# #hide\n",
    "# g = g[g.group.notna()]"
   ]
  },
  {
   "cell_type": "code",
   "execution_count": 40,
   "id": "determined-closing",
   "metadata": {
    "execution": {
     "iopub.execute_input": "2022-01-28T00:25:42.483574Z",
     "iopub.status.busy": "2022-01-28T00:25:42.482981Z",
     "iopub.status.idle": "2022-01-28T00:25:42.485986Z",
     "shell.execute_reply": "2022-01-28T00:25:42.486351Z"
    },
    "papermill": {
     "duration": 0.036715,
     "end_time": "2022-01-28T00:25:42.486471",
     "exception": false,
     "start_time": "2022-01-28T00:25:42.449756",
     "status": "completed"
    },
    "tags": []
   },
   "outputs": [],
   "source": [
    "# #hide\n",
    "# colors = dict(zip(\n",
    "#     [\"Oceania\", \"Europe\", \"Asia\", \"South America\", \"Middle East\", \"North America\", \"Africa\"],\n",
    "#     [\"#adb0ff\", \"#ffb3ff\", \"#90d595\", \"#e48381\", \"#aafbff\", \"#f7bb5f\", \"#eafb50\"]\n",
    "# ))\n",
    "# group_lk = g.set_index('name')['group'].to_dict()"
   ]
  },
  {
   "cell_type": "code",
   "execution_count": null,
   "id": "gross-drinking",
   "metadata": {
    "papermill": {
     "duration": 0.02681,
     "end_time": "2022-01-28T00:25:42.539743",
     "exception": false,
     "start_time": "2022-01-28T00:25:42.512933",
     "status": "completed"
    },
    "tags": []
   },
   "outputs": [],
   "source": []
  },
  {
   "cell_type": "code",
   "execution_count": 41,
   "id": "subject-macintosh",
   "metadata": {
    "execution": {
     "iopub.execute_input": "2022-01-28T00:25:42.597146Z",
     "iopub.status.busy": "2022-01-28T00:25:42.596602Z",
     "iopub.status.idle": "2022-01-28T00:25:42.598630Z",
     "shell.execute_reply": "2022-01-28T00:25:42.598170Z"
    },
    "papermill": {
     "duration": 0.032315,
     "end_time": "2022-01-28T00:25:42.598737",
     "exception": false,
     "start_time": "2022-01-28T00:25:42.566422",
     "status": "completed"
    },
    "tags": []
   },
   "outputs": [],
   "source": [
    "# #hide\n",
    "# fig, ax = plt.subplots(figsize=(15, 8))\n",
    "\n",
    "# def draw_barchart(current_day):\n",
    "#     dff = g[g['day'].eq(current_day)].sort_values(by='value', ascending=True).tail(10)\n",
    "#     ax.clear()\n",
    "#     ax.barh(dff['name'], dff['value'], color=[colors[group_lk[x]] for x in dff['name']])\n",
    "#     dx = dff['value'].max() / 200\n",
    "    \n",
    "#     for i, (value, name) in enumerate(zip(dff['value'], dff['name'])):\n",
    "#         ax.text(value-dx, i,     name,           size=14, weight=600, ha='right', va='bottom')\n",
    "#         ax.text(value-dx, i-.25, group_lk[name], size=10, color='#444444', ha='right', va='baseline')\n",
    "#         ax.text(value+dx, i,     f'{value:,.0f}',  size=14, ha='left',  va='center')\n",
    "#     ax.text(1, 0.4, current_day, transform=ax.transAxes, color='#777777', size=46, ha='right', weight=800)\n",
    "#     ax.text(0, 1.06, 'Population (thousands)', transform=ax.transAxes, size=12, color='#777777')\n",
    "#     ax.xaxis.set_major_formatter(ticker.StrMethodFormatter('{x:,.0f}'))\n",
    "#     ax.xaxis.set_ticks_position('top')\n",
    "#     ax.tick_params(axis='x', colors='#777777', labelsize=12)\n",
    "#     ax.set_yticks([])\n",
    "#     ax.margins(0, 0.01)\n",
    "#     ax.grid(which='major', axis='x', linestyle='-')\n",
    "#     ax.set_axisbelow(True)\n",
    "    \n",
    "#     ax.text(0, 1.15, 'Coronavirus',\n",
    "#             transform=ax.transAxes, size=24, weight=600, ha='left', va='top')\n",
    "# #     ax.text(1, 0, 'by @pratapvardhan; credit @jburnmurdoch', transform=ax.transAxes, color='#777777', ha='right',\n",
    "# #             bbox=dict(facecolor='white', alpha=0.8, edgecolor='white'))\n",
    "#     plt.box(False)"
   ]
  },
  {
   "cell_type": "code",
   "execution_count": 42,
   "id": "sexual-wages",
   "metadata": {
    "execution": {
     "iopub.execute_input": "2022-01-28T00:25:42.662611Z",
     "iopub.status.busy": "2022-01-28T00:25:42.661987Z",
     "iopub.status.idle": "2022-01-28T00:25:42.664147Z",
     "shell.execute_reply": "2022-01-28T00:25:42.663662Z"
    },
    "papermill": {
     "duration": 0.03531,
     "end_time": "2022-01-28T00:25:42.664264",
     "exception": false,
     "start_time": "2022-01-28T00:25:42.628954",
     "status": "completed"
    },
    "tags": []
   },
   "outputs": [],
   "source": [
    "# #hide_input\n",
    "# fig, ax = plt.subplots(figsize=(15, 8))\n",
    "# animator = animation.FuncAnimation(fig, draw_barchart, frames=range(g.day.values.min(), g.day.values.max()))\n",
    "# HTML(animator.to_jshtml())\n",
    "# # or use animator.to_html5_video() or animator.save() "
   ]
  },
  {
   "cell_type": "code",
   "execution_count": null,
   "id": "australian-container",
   "metadata": {
    "papermill": {
     "duration": 0.026743,
     "end_time": "2022-01-28T00:25:42.718568",
     "exception": false,
     "start_time": "2022-01-28T00:25:42.691825",
     "status": "completed"
    },
    "tags": []
   },
   "outputs": [],
   "source": []
  },
  {
   "cell_type": "code",
   "execution_count": null,
   "id": "mediterranean-pontiac",
   "metadata": {
    "papermill": {
     "duration": 0.026638,
     "end_time": "2022-01-28T00:25:42.771815",
     "exception": false,
     "start_time": "2022-01-28T00:25:42.745177",
     "status": "completed"
    },
    "tags": []
   },
   "outputs": [],
   "source": []
  },
  {
   "cell_type": "code",
   "execution_count": null,
   "id": "aging-legislature",
   "metadata": {
    "papermill": {
     "duration": 0.027446,
     "end_time": "2022-01-28T00:25:42.826151",
     "exception": false,
     "start_time": "2022-01-28T00:25:42.798705",
     "status": "completed"
    },
    "tags": []
   },
   "outputs": [],
   "source": []
  }
 ],
 "metadata": {
  "kernelspec": {
   "display_name": "Python 3",
   "language": "python",
   "name": "python3"
  },
  "language_info": {
   "codemirror_mode": {
    "name": "ipython",
    "version": 3
   },
   "file_extension": ".py",
   "mimetype": "text/x-python",
   "name": "python",
   "nbconvert_exporter": "python",
   "pygments_lexer": "ipython3",
   "version": "3.6.15"
  },
  "papermill": {
   "duration": 5.80293,
   "end_time": "2022-01-28T00:25:43.176685",
   "environment_variables": {},
   "exception": null,
   "input_path": "2020-03-21-covid19exp.ipynb",
   "output_path": "2020-03-21-covid19exp.ipynb",
   "parameters": {},
   "start_time": "2022-01-28T00:25:37.373755",
   "version": "2.0.0"
  }
 },
 "nbformat": 4,
 "nbformat_minor": 5
}