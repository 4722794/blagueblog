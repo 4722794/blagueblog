{
 "cells": [
  {
   "cell_type": "markdown",
   "id": "muslim-click",
   "metadata": {
    "papermill": {
     "duration": 0.043476,
     "end_time": "2021-12-09T00:25:48.635644",
     "exception": false,
     "start_time": "2021-12-09T00:25:48.592168",
     "status": "completed"
    },
    "tags": []
   },
   "source": [
    "# COVID-19 Case Race\n",
    "> A race chart to see rising cases around the world\n",
    "\n",
    "- author: Hargun Oberoi\n",
    "- image: images/covid-overview.png\n",
    "- hide: false\n",
    "- badges: false"
   ]
  },
  {
   "cell_type": "code",
   "execution_count": 1,
   "id": "proof-material",
   "metadata": {
    "execution": {
     "iopub.execute_input": "2021-12-09T00:25:48.718798Z",
     "iopub.status.busy": "2021-12-09T00:25:48.718186Z",
     "iopub.status.idle": "2021-12-09T00:25:49.080653Z",
     "shell.execute_reply": "2021-12-09T00:25:49.081190Z"
    },
    "papermill": {
     "duration": 0.412688,
     "end_time": "2021-12-09T00:25:49.081371",
     "exception": false,
     "start_time": "2021-12-09T00:25:48.668683",
     "status": "completed"
    },
    "tags": []
   },
   "outputs": [],
   "source": [
    "#hide\n",
    "import numpy as np\n",
    "import pandas as pd\n",
    "from jinja2 import Template\n",
    "from IPython.display import HTML"
   ]
  },
  {
   "cell_type": "code",
   "execution_count": 2,
   "id": "developed-terminology",
   "metadata": {
    "execution": {
     "iopub.execute_input": "2021-12-09T00:25:49.216148Z",
     "iopub.status.busy": "2021-12-09T00:25:49.215162Z",
     "iopub.status.idle": "2021-12-09T00:25:49.218422Z",
     "shell.execute_reply": "2021-12-09T00:25:49.218896Z"
    },
    "papermill": {
     "duration": 0.072015,
     "end_time": "2021-12-09T00:25:49.219050",
     "exception": false,
     "start_time": "2021-12-09T00:25:49.147035",
     "status": "completed"
    },
    "tags": []
   },
   "outputs": [],
   "source": [
    "#hide\n",
    "\n",
    "# FETCH\n",
    "base_url = 'https://raw.githubusercontent.com/pratapvardhan/notebooks/master/covid19/'\n",
    "paths = {\n",
    "    'mapping': base_url + 'mapping_countries.csv',\n",
    "    'overview': base_url + 'overview.tpl'\n",
    "}"
   ]
  },
  {
   "cell_type": "code",
   "execution_count": 3,
   "id": "dynamic-saver",
   "metadata": {
    "execution": {
     "iopub.execute_input": "2021-12-09T00:25:49.294264Z",
     "iopub.status.busy": "2021-12-09T00:25:49.293682Z",
     "iopub.status.idle": "2021-12-09T00:25:49.296471Z",
     "shell.execute_reply": "2021-12-09T00:25:49.297027Z"
    },
    "papermill": {
     "duration": 0.045873,
     "end_time": "2021-12-09T00:25:49.297191",
     "exception": false,
     "start_time": "2021-12-09T00:25:49.251318",
     "status": "completed"
    },
    "tags": []
   },
   "outputs": [
    {
     "data": {
      "text/plain": [
       "'https://raw.githubusercontent.com/pratapvardhan/notebooks/master/covid19/mapping_countries.csv'"
      ]
     },
     "execution_count": 3,
     "metadata": {},
     "output_type": "execute_result"
    }
   ],
   "source": [
    "#hide\n",
    "paths['mapping']"
   ]
  },
  {
   "cell_type": "code",
   "execution_count": 4,
   "id": "urban-software",
   "metadata": {
    "execution": {
     "iopub.execute_input": "2021-12-09T00:25:49.369897Z",
     "iopub.status.busy": "2021-12-09T00:25:49.369125Z",
     "iopub.status.idle": "2021-12-09T00:25:49.372741Z",
     "shell.execute_reply": "2021-12-09T00:25:49.373190Z"
    },
    "papermill": {
     "duration": 0.043268,
     "end_time": "2021-12-09T00:25:49.373331",
     "exception": false,
     "start_time": "2021-12-09T00:25:49.330063",
     "status": "completed"
    },
    "tags": []
   },
   "outputs": [],
   "source": [
    "#hide\n",
    "def get_mappings(url):\n",
    "    df = pd.read_csv(url)\n",
    "    return {\n",
    "        'df': df,\n",
    "        'replace.country': dict(df.dropna(subset=['Name']).set_index('Country')['Name']),\n",
    "        'map.continent': dict(df.set_index('Name')['Continent'])\n",
    "    }"
   ]
  },
  {
   "cell_type": "code",
   "execution_count": 5,
   "id": "intimate-machinery",
   "metadata": {
    "execution": {
     "iopub.execute_input": "2021-12-09T00:25:49.449732Z",
     "iopub.status.busy": "2021-12-09T00:25:49.449109Z",
     "iopub.status.idle": "2021-12-09T00:25:49.489958Z",
     "shell.execute_reply": "2021-12-09T00:25:49.490427Z"
    },
    "papermill": {
     "duration": 0.083244,
     "end_time": "2021-12-09T00:25:49.490573",
     "exception": false,
     "start_time": "2021-12-09T00:25:49.407329",
     "status": "completed"
    },
    "tags": []
   },
   "outputs": [],
   "source": [
    "#hide\n",
    "mapping = get_mappings(paths['mapping'])"
   ]
  },
  {
   "cell_type": "code",
   "execution_count": 6,
   "id": "certified-tactics",
   "metadata": {
    "execution": {
     "iopub.execute_input": "2021-12-09T00:25:49.559493Z",
     "iopub.status.busy": "2021-12-09T00:25:49.558922Z",
     "iopub.status.idle": "2021-12-09T00:25:49.561273Z",
     "shell.execute_reply": "2021-12-09T00:25:49.561826Z"
    },
    "papermill": {
     "duration": 0.038565,
     "end_time": "2021-12-09T00:25:49.561964",
     "exception": false,
     "start_time": "2021-12-09T00:25:49.523399",
     "status": "completed"
    },
    "tags": []
   },
   "outputs": [],
   "source": [
    "#hide\n",
    "def get_template(path):\n",
    "    from urllib.parse import urlparse\n",
    "    if bool(urlparse(path).netloc):\n",
    "        from urllib.request import urlopen\n",
    "        return urlopen(path).read().decode('utf8')\n",
    "    return open(path).read()"
   ]
  },
  {
   "cell_type": "code",
   "execution_count": 7,
   "id": "realistic-blast",
   "metadata": {
    "execution": {
     "iopub.execute_input": "2021-12-09T00:25:49.625003Z",
     "iopub.status.busy": "2021-12-09T00:25:49.624479Z",
     "iopub.status.idle": "2021-12-09T00:25:49.626755Z",
     "shell.execute_reply": "2021-12-09T00:25:49.626287Z"
    },
    "papermill": {
     "duration": 0.035128,
     "end_time": "2021-12-09T00:25:49.626867",
     "exception": false,
     "start_time": "2021-12-09T00:25:49.591739",
     "status": "completed"
    },
    "tags": []
   },
   "outputs": [],
   "source": [
    "#hide\n",
    "def get_frame(name):\n",
    "    url = (\n",
    "        'https://raw.githubusercontent.com/CSSEGISandData/COVID-19/master/csse_covid_19_data/'\n",
    "        f'csse_covid_19_time_series/time_series_covid19_{name}_global.csv')\n",
    "    df = pd.read_csv(url)\n",
    "    # rename countries\n",
    "    df['Country/Region'] = df['Country/Region'].replace(mapping['replace.country'])\n",
    "    return df"
   ]
  },
  {
   "cell_type": "code",
   "execution_count": 8,
   "id": "affiliated-characterization",
   "metadata": {
    "execution": {
     "iopub.execute_input": "2021-12-09T00:25:49.694946Z",
     "iopub.status.busy": "2021-12-09T00:25:49.694371Z",
     "iopub.status.idle": "2021-12-09T00:25:49.697070Z",
     "shell.execute_reply": "2021-12-09T00:25:49.696610Z"
    },
    "papermill": {
     "duration": 0.040083,
     "end_time": "2021-12-09T00:25:49.697180",
     "exception": false,
     "start_time": "2021-12-09T00:25:49.657097",
     "status": "completed"
    },
    "tags": []
   },
   "outputs": [],
   "source": [
    "#hide\n",
    "def get_dates(df):\n",
    "    dt_cols = df.columns[~df.columns.isin(['Province/State', 'Country/Region', 'Lat', 'Long'])]\n",
    "    LAST_DATE_I = -1\n",
    "    # sometimes last column may be empty, then go backwards\n",
    "    for i in range(-1, -len(dt_cols), -1):\n",
    "        if not df[dt_cols[i]].fillna(0).eq(0).all():\n",
    "            LAST_DATE_I = i\n",
    "            break\n",
    "    return LAST_DATE_I, dt_cols"
   ]
  },
  {
   "cell_type": "code",
   "execution_count": 9,
   "id": "recent-optimization",
   "metadata": {
    "execution": {
     "iopub.execute_input": "2021-12-09T00:25:49.766944Z",
     "iopub.status.busy": "2021-12-09T00:25:49.766299Z",
     "iopub.status.idle": "2021-12-09T00:25:50.195421Z",
     "shell.execute_reply": "2021-12-09T00:25:50.194198Z"
    },
    "papermill": {
     "duration": 0.466209,
     "end_time": "2021-12-09T00:25:50.195592",
     "exception": false,
     "start_time": "2021-12-09T00:25:49.729383",
     "status": "completed"
    },
    "tags": []
   },
   "outputs": [],
   "source": [
    "#hide\n",
    "COL_REGION = 'Country/Region'\n",
    "# Confirmed, Recovered, Deaths\n",
    "df = get_frame('confirmed')\n",
    "# dft_: timeseries, dfc_: today country agg\n",
    "dft_cases = df\n",
    "dft_deaths = get_frame('deaths')\n",
    "dft_recovered = get_frame('recovered')\n",
    "LAST_DATE_I, dt_cols = get_dates(df)"
   ]
  },
  {
   "cell_type": "code",
   "execution_count": 10,
   "id": "absolute-copper",
   "metadata": {
    "execution": {
     "iopub.execute_input": "2021-12-09T00:25:50.269804Z",
     "iopub.status.busy": "2021-12-09T00:25:50.268219Z",
     "iopub.status.idle": "2021-12-09T00:25:50.271660Z",
     "shell.execute_reply": "2021-12-09T00:25:50.270762Z"
    },
    "papermill": {
     "duration": 0.042532,
     "end_time": "2021-12-09T00:25:50.271868",
     "exception": false,
     "start_time": "2021-12-09T00:25:50.229336",
     "status": "completed"
    },
    "tags": []
   },
   "outputs": [],
   "source": [
    "#hide\n",
    "LAST_DATE_I, dt_cols = get_dates(df)\n",
    "dt_today =dt_cols[LAST_DATE_I]\n",
    "# dt_5day = dt_cols[LAST_DATE_I - 5]\n",
    "dt_yday = dt_cols[LAST_DATE_I - 1]"
   ]
  },
  {
   "cell_type": "code",
   "execution_count": 11,
   "id": "restricted-sheriff",
   "metadata": {
    "execution": {
     "iopub.execute_input": "2021-12-09T00:25:50.346035Z",
     "iopub.status.busy": "2021-12-09T00:25:50.345482Z",
     "iopub.status.idle": "2021-12-09T00:25:50.354334Z",
     "shell.execute_reply": "2021-12-09T00:25:50.354810Z"
    },
    "papermill": {
     "duration": 0.050197,
     "end_time": "2021-12-09T00:25:50.354946",
     "exception": false,
     "start_time": "2021-12-09T00:25:50.304749",
     "status": "completed"
    },
    "tags": []
   },
   "outputs": [],
   "source": [
    "#hide\n",
    "dfc_cases = dft_cases.groupby(COL_REGION)[dt_today].sum()\n",
    "dfc_deaths = dft_deaths.groupby(COL_REGION)[dt_today].sum()\n",
    "# dfp_cases = dft_cases.groupby(COL_REGION)[dt_5day].sum()\n",
    "# dfp_deaths = dft_deaths.groupby(COL_REGION)[dt_5day].sum()\n",
    "dfp_cases = dft_cases.groupby(COL_REGION)[dt_yday].sum()\n",
    "dfp_deaths = dft_deaths.groupby(COL_REGION)[dt_yday].sum()"
   ]
  },
  {
   "cell_type": "code",
   "execution_count": 12,
   "id": "deluxe-hepatitis",
   "metadata": {
    "execution": {
     "iopub.execute_input": "2021-12-09T00:25:50.426938Z",
     "iopub.status.busy": "2021-12-09T00:25:50.426392Z",
     "iopub.status.idle": "2021-12-09T00:25:50.431748Z",
     "shell.execute_reply": "2021-12-09T00:25:50.431138Z"
    },
    "papermill": {
     "duration": 0.043994,
     "end_time": "2021-12-09T00:25:50.431874",
     "exception": false,
     "start_time": "2021-12-09T00:25:50.387880",
     "status": "completed"
    },
    "tags": []
   },
   "outputs": [],
   "source": [
    "#hide\n",
    "df_table = (pd.DataFrame(dict(Cases = dfc_cases, Deaths = dfc_deaths, PCases = dfp_cases, PDeaths = dfp_deaths))\n",
    "            .sort_values(by = ['Cases','Deaths'], ascending = [False, False])\n",
    "            .reset_index())"
   ]
  },
  {
   "cell_type": "code",
   "execution_count": 13,
   "id": "educational-chancellor",
   "metadata": {
    "execution": {
     "iopub.execute_input": "2021-12-09T00:25:50.519209Z",
     "iopub.status.busy": "2021-12-09T00:25:50.513292Z",
     "iopub.status.idle": "2021-12-09T00:25:50.522766Z",
     "shell.execute_reply": "2021-12-09T00:25:50.522025Z"
    },
    "papermill": {
     "duration": 0.059999,
     "end_time": "2021-12-09T00:25:50.522895",
     "exception": false,
     "start_time": "2021-12-09T00:25:50.462896",
     "status": "completed"
    },
    "tags": []
   },
   "outputs": [
    {
     "data": {
      "text/html": [
       "<div>\n",
       "<style scoped>\n",
       "    .dataframe tbody tr th:only-of-type {\n",
       "        vertical-align: middle;\n",
       "    }\n",
       "\n",
       "    .dataframe tbody tr th {\n",
       "        vertical-align: top;\n",
       "    }\n",
       "\n",
       "    .dataframe thead th {\n",
       "        text-align: right;\n",
       "    }\n",
       "</style>\n",
       "<table border=\"1\" class=\"dataframe\">\n",
       "  <thead>\n",
       "    <tr style=\"text-align: right;\">\n",
       "      <th></th>\n",
       "      <th>Country/Region</th>\n",
       "      <th>Cases</th>\n",
       "      <th>Deaths</th>\n",
       "      <th>PCases</th>\n",
       "      <th>PDeaths</th>\n",
       "      <th>Cases (+)</th>\n",
       "      <th>Deaths (+)</th>\n",
       "      <th>Fatality Rate</th>\n",
       "      <th>Continent</th>\n",
       "    </tr>\n",
       "  </thead>\n",
       "  <tbody>\n",
       "    <tr>\n",
       "      <th>0</th>\n",
       "      <td>US</td>\n",
       "      <td>49387208</td>\n",
       "      <td>791514</td>\n",
       "      <td>49278278</td>\n",
       "      <td>789905</td>\n",
       "      <td>108930</td>\n",
       "      <td>1609</td>\n",
       "      <td>1.60</td>\n",
       "      <td>North America</td>\n",
       "    </tr>\n",
       "    <tr>\n",
       "      <th>1</th>\n",
       "      <td>India</td>\n",
       "      <td>34656822</td>\n",
       "      <td>473952</td>\n",
       "      <td>34648383</td>\n",
       "      <td>473757</td>\n",
       "      <td>8439</td>\n",
       "      <td>195</td>\n",
       "      <td>1.37</td>\n",
       "      <td>Asia</td>\n",
       "    </tr>\n",
       "    <tr>\n",
       "      <th>2</th>\n",
       "      <td>Brazil</td>\n",
       "      <td>22157726</td>\n",
       "      <td>616018</td>\n",
       "      <td>22147476</td>\n",
       "      <td>615744</td>\n",
       "      <td>10250</td>\n",
       "      <td>274</td>\n",
       "      <td>2.78</td>\n",
       "      <td>South America</td>\n",
       "    </tr>\n",
       "    <tr>\n",
       "      <th>3</th>\n",
       "      <td>United Kingdom</td>\n",
       "      <td>10620535</td>\n",
       "      <td>146281</td>\n",
       "      <td>10575062</td>\n",
       "      <td>146101</td>\n",
       "      <td>45473</td>\n",
       "      <td>180</td>\n",
       "      <td>1.38</td>\n",
       "      <td>Europe</td>\n",
       "    </tr>\n",
       "    <tr>\n",
       "      <th>4</th>\n",
       "      <td>Russia</td>\n",
       "      <td>9692411</td>\n",
       "      <td>278131</td>\n",
       "      <td>9661865</td>\n",
       "      <td>276979</td>\n",
       "      <td>30546</td>\n",
       "      <td>1152</td>\n",
       "      <td>2.87</td>\n",
       "      <td>Europe</td>\n",
       "    </tr>\n",
       "  </tbody>\n",
       "</table>\n",
       "</div>"
      ],
      "text/plain": [
       "   Country/Region     Cases  Deaths    PCases  PDeaths  Cases (+)  Deaths (+)  \\\n",
       "0              US  49387208  791514  49278278   789905     108930        1609   \n",
       "1           India  34656822  473952  34648383   473757       8439         195   \n",
       "2          Brazil  22157726  616018  22147476   615744      10250         274   \n",
       "3  United Kingdom  10620535  146281  10575062   146101      45473         180   \n",
       "4          Russia   9692411  278131   9661865   276979      30546        1152   \n",
       "\n",
       "   Fatality Rate      Continent  \n",
       "0           1.60  North America  \n",
       "1           1.37           Asia  \n",
       "2           2.78  South America  \n",
       "3           1.38         Europe  \n",
       "4           2.87         Europe  "
      ]
     },
     "execution_count": 13,
     "metadata": {},
     "output_type": "execute_result"
    }
   ],
   "source": [
    "#hide\n",
    "for c in 'Cases, Deaths'.split(', '):\n",
    "    df_table[f'{c} (+)'] = (df_table[c] - df_table[f'P{c}']).clip(0)\n",
    "    #Clip ça veut dire, les chiffres negatif sont interdit\n",
    "df_table['Fatality Rate'] = (100* df_table['Deaths']/ df_table['Cases']).round(2)\n",
    "df_table['Continent'] = df_table['Country/Region'].map(mapping['map.continent'])\n",
    "df_table.head(5)"
   ]
  },
  {
   "cell_type": "code",
   "execution_count": 14,
   "id": "aboriginal-bulgaria",
   "metadata": {
    "execution": {
     "iopub.execute_input": "2021-12-09T00:25:50.588884Z",
     "iopub.status.busy": "2021-12-09T00:25:50.588298Z",
     "iopub.status.idle": "2021-12-09T00:25:50.590671Z",
     "shell.execute_reply": "2021-12-09T00:25:50.591468Z"
    },
    "papermill": {
     "duration": 0.037867,
     "end_time": "2021-12-09T00:25:50.591627",
     "exception": false,
     "start_time": "2021-12-09T00:25:50.553760",
     "status": "completed"
    },
    "tags": []
   },
   "outputs": [],
   "source": [
    "#hide\n",
    "#delete problematic countries from table\n",
    "df_table = df_table[~df_table['Country/Region'].isin(['Cape Verde', 'Cruise Ship', 'Kosovo'])]"
   ]
  },
  {
   "cell_type": "code",
   "execution_count": 15,
   "id": "fantastic-effect",
   "metadata": {
    "execution": {
     "iopub.execute_input": "2021-12-09T00:25:50.665722Z",
     "iopub.status.busy": "2021-12-09T00:25:50.665141Z",
     "iopub.status.idle": "2021-12-09T00:25:50.685054Z",
     "shell.execute_reply": "2021-12-09T00:25:50.685602Z"
    },
    "papermill": {
     "duration": 0.061971,
     "end_time": "2021-12-09T00:25:50.685772",
     "exception": false,
     "start_time": "2021-12-09T00:25:50.623801",
     "status": "completed"
    },
    "tags": []
   },
   "outputs": [
    {
     "data": {
      "text/html": [
       "<div>\n",
       "<style scoped>\n",
       "    .dataframe tbody tr th:only-of-type {\n",
       "        vertical-align: middle;\n",
       "    }\n",
       "\n",
       "    .dataframe tbody tr th {\n",
       "        vertical-align: top;\n",
       "    }\n",
       "\n",
       "    .dataframe thead th {\n",
       "        text-align: right;\n",
       "    }\n",
       "</style>\n",
       "<table border=\"1\" class=\"dataframe\">\n",
       "  <thead>\n",
       "    <tr style=\"text-align: right;\">\n",
       "      <th></th>\n",
       "      <th>Country/Region</th>\n",
       "      <th>Cases</th>\n",
       "      <th>Deaths</th>\n",
       "      <th>PCases</th>\n",
       "      <th>PDeaths</th>\n",
       "      <th>Cases (+)</th>\n",
       "      <th>Deaths (+)</th>\n",
       "      <th>Fatality Rate</th>\n",
       "      <th>Continent</th>\n",
       "    </tr>\n",
       "  </thead>\n",
       "  <tbody>\n",
       "    <tr>\n",
       "      <th>0</th>\n",
       "      <td>US</td>\n",
       "      <td>49387208</td>\n",
       "      <td>791514</td>\n",
       "      <td>49278278</td>\n",
       "      <td>789905</td>\n",
       "      <td>108930</td>\n",
       "      <td>1609</td>\n",
       "      <td>1.6</td>\n",
       "      <td>North America</td>\n",
       "    </tr>\n",
       "    <tr>\n",
       "      <th>1</th>\n",
       "      <td>India</td>\n",
       "      <td>34656822</td>\n",
       "      <td>473952</td>\n",
       "      <td>34648383</td>\n",
       "      <td>473757</td>\n",
       "      <td>8439</td>\n",
       "      <td>195</td>\n",
       "      <td>1.4</td>\n",
       "      <td>Asia</td>\n",
       "    </tr>\n",
       "    <tr>\n",
       "      <th>2</th>\n",
       "      <td>Brazil</td>\n",
       "      <td>22157726</td>\n",
       "      <td>616018</td>\n",
       "      <td>22147476</td>\n",
       "      <td>615744</td>\n",
       "      <td>10250</td>\n",
       "      <td>274</td>\n",
       "      <td>2.8</td>\n",
       "      <td>South America</td>\n",
       "    </tr>\n",
       "    <tr>\n",
       "      <th>3</th>\n",
       "      <td>United Kingdom</td>\n",
       "      <td>10620535</td>\n",
       "      <td>146281</td>\n",
       "      <td>10575062</td>\n",
       "      <td>146101</td>\n",
       "      <td>45473</td>\n",
       "      <td>180</td>\n",
       "      <td>1.4</td>\n",
       "      <td>Europe</td>\n",
       "    </tr>\n",
       "    <tr>\n",
       "      <th>4</th>\n",
       "      <td>Russia</td>\n",
       "      <td>9692411</td>\n",
       "      <td>278131</td>\n",
       "      <td>9661865</td>\n",
       "      <td>276979</td>\n",
       "      <td>30546</td>\n",
       "      <td>1152</td>\n",
       "      <td>2.9</td>\n",
       "      <td>Europe</td>\n",
       "    </tr>\n",
       "  </tbody>\n",
       "</table>\n",
       "</div>"
      ],
      "text/plain": [
       "   Country/Region     Cases  Deaths    PCases  PDeaths  Cases (+)  Deaths (+)  \\\n",
       "0              US  49387208  791514  49278278   789905     108930        1609   \n",
       "1           India  34656822  473952  34648383   473757       8439         195   \n",
       "2          Brazil  22157726  616018  22147476   615744      10250         274   \n",
       "3  United Kingdom  10620535  146281  10575062   146101      45473         180   \n",
       "4          Russia   9692411  278131   9661865   276979      30546        1152   \n",
       "\n",
       "   Fatality Rate      Continent  \n",
       "0            1.6  North America  \n",
       "1            1.4           Asia  \n",
       "2            2.8  South America  \n",
       "3            1.4         Europe  \n",
       "4            2.9         Europe  "
      ]
     },
     "execution_count": 15,
     "metadata": {},
     "output_type": "execute_result"
    }
   ],
   "source": [
    "#hide\n",
    "df_table = (pd.DataFrame(dict(Cases=dfc_cases, Deaths=dfc_deaths, PCases=dfp_cases, PDeaths=dfp_deaths))\n",
    "             .sort_values(by=['Cases', 'Deaths'], ascending=[False, False])\n",
    "             .reset_index())\n",
    "df_table.rename(columns={'index': 'Country/Region'}, inplace=True)\n",
    "for c in 'Cases, Deaths'.split(', '):\n",
    "    df_table[f'{c} (+)'] = (df_table[c] - df_table[f'P{c}']).clip(0)  # DATA BUG\n",
    "df_table['Fatality Rate'] = (100 * df_table['Deaths'] / df_table['Cases']).round(1)\n",
    "df_table['Continent'] = df_table['Country/Region'].map(mapping['map.continent'])\n",
    "df_table.head(5)"
   ]
  },
  {
   "cell_type": "code",
   "execution_count": 16,
   "id": "fewer-occasion",
   "metadata": {
    "execution": {
     "iopub.execute_input": "2021-12-09T00:25:50.757757Z",
     "iopub.status.busy": "2021-12-09T00:25:50.757168Z",
     "iopub.status.idle": "2021-12-09T00:25:50.759382Z",
     "shell.execute_reply": "2021-12-09T00:25:50.759937Z"
    },
    "papermill": {
     "duration": 0.03974,
     "end_time": "2021-12-09T00:25:50.760071",
     "exception": false,
     "start_time": "2021-12-09T00:25:50.720331",
     "status": "completed"
    },
    "tags": []
   },
   "outputs": [],
   "source": [
    "#hide\n",
    "#delete problematic countries from table\n",
    "df_table = df_table[~df_table['Country/Region'].isin(['Cape Verde', 'Cruise Ship', 'Kosovo'])]"
   ]
  },
  {
   "cell_type": "code",
   "execution_count": 17,
   "id": "related-center",
   "metadata": {
    "execution": {
     "iopub.execute_input": "2021-12-09T00:25:50.833305Z",
     "iopub.status.busy": "2021-12-09T00:25:50.832760Z",
     "iopub.status.idle": "2021-12-09T00:25:50.847131Z",
     "shell.execute_reply": "2021-12-09T00:25:50.846662Z"
    },
    "papermill": {
     "duration": 0.053908,
     "end_time": "2021-12-09T00:25:50.847253",
     "exception": false,
     "start_time": "2021-12-09T00:25:50.793345",
     "status": "completed"
    },
    "tags": []
   },
   "outputs": [],
   "source": [
    "#hide\n",
    "metrics = [df_table.columns[index] for index in [1,2,5,6]]\n",
    "# s_china = df_table[df_table['Country/Region'].eq('China')][metrics].sum().add_prefix('China ')\n",
    "s_us = df_table[df_table['Country/Region'].eq('US')][metrics].sum().add_prefix('US ')\n",
    "s_eu = df_table[df_table['Continent'].eq('Europe')][metrics].sum().add_prefix('EU ')\n",
    "s_ind = df_table[df_table['Country/Region'].eq('India')][metrics].sum().add_prefix('India ')\n",
    "summary = {'updated': pd.to_datetime(dt_today), 'since': pd.to_datetime(dt_yday)}\n",
    "summary = {'updated': pd.to_datetime(dt_today), 'since': pd.to_datetime(dt_yday)}\n",
    "summary = {**summary, **df_table[metrics].sum(), **s_ind, **s_us, **s_eu}"
   ]
  },
  {
   "cell_type": "code",
   "execution_count": 18,
   "id": "engaging-syndrome",
   "metadata": {
    "execution": {
     "iopub.execute_input": "2021-12-09T00:25:50.919482Z",
     "iopub.status.busy": "2021-12-09T00:25:50.918862Z",
     "iopub.status.idle": "2021-12-09T00:25:50.933650Z",
     "shell.execute_reply": "2021-12-09T00:25:50.933215Z"
    },
    "papermill": {
     "duration": 0.053211,
     "end_time": "2021-12-09T00:25:50.933765",
     "exception": false,
     "start_time": "2021-12-09T00:25:50.880554",
     "status": "completed"
    },
    "tags": []
   },
   "outputs": [],
   "source": [
    "#hide\n",
    "dft_ct_new_cases = dft_cases.groupby(COL_REGION)[dt_cols].sum().diff(axis=1).fillna(0).astype(int)"
   ]
  },
  {
   "cell_type": "code",
   "execution_count": 19,
   "id": "neutral-assignment",
   "metadata": {
    "execution": {
     "iopub.execute_input": "2021-12-09T00:25:51.000607Z",
     "iopub.status.busy": "2021-12-09T00:25:51.000124Z",
     "iopub.status.idle": "2021-12-09T00:25:51.006197Z",
     "shell.execute_reply": "2021-12-09T00:25:51.005727Z"
    },
    "papermill": {
     "duration": 0.041566,
     "end_time": "2021-12-09T00:25:51.006319",
     "exception": false,
     "start_time": "2021-12-09T00:25:50.964753",
     "status": "completed"
    },
    "tags": []
   },
   "outputs": [],
   "source": [
    "#hide\n",
    "everydaycases = dft_ct_new_cases.cumsum(axis=1)"
   ]
  },
  {
   "cell_type": "code",
   "execution_count": 20,
   "id": "parliamentary-calgary",
   "metadata": {
    "execution": {
     "iopub.execute_input": "2021-12-09T00:25:51.077613Z",
     "iopub.status.busy": "2021-12-09T00:25:51.077057Z",
     "iopub.status.idle": "2021-12-09T00:25:51.770218Z",
     "shell.execute_reply": "2021-12-09T00:25:51.769686Z"
    },
    "papermill": {
     "duration": 0.730296,
     "end_time": "2021-12-09T00:25:51.770361",
     "exception": false,
     "start_time": "2021-12-09T00:25:51.040065",
     "status": "completed"
    },
    "tags": []
   },
   "outputs": [],
   "source": [
    "#hide\n",
    "import pandas as pd\n",
    "import matplotlib.pyplot as plt\n",
    "import matplotlib.ticker as ticker\n",
    "import matplotlib.animation as animation\n",
    "from IPython.display import HTML"
   ]
  },
  {
   "cell_type": "code",
   "execution_count": 21,
   "id": "lasting-extraction",
   "metadata": {
    "execution": {
     "iopub.execute_input": "2021-12-09T00:25:51.847701Z",
     "iopub.status.busy": "2021-12-09T00:25:51.847069Z",
     "iopub.status.idle": "2021-12-09T00:25:51.851646Z",
     "shell.execute_reply": "2021-12-09T00:25:51.852124Z"
    },
    "papermill": {
     "duration": 0.047149,
     "end_time": "2021-12-09T00:25:51.852285",
     "exception": false,
     "start_time": "2021-12-09T00:25:51.805136",
     "status": "completed"
    },
    "tags": []
   },
   "outputs": [],
   "source": [
    "#hide\n",
    "t = everydaycases.stack()"
   ]
  },
  {
   "cell_type": "code",
   "execution_count": 22,
   "id": "premier-sleeve",
   "metadata": {
    "execution": {
     "iopub.execute_input": "2021-12-09T00:25:51.922145Z",
     "iopub.status.busy": "2021-12-09T00:25:51.921599Z",
     "iopub.status.idle": "2021-12-09T00:25:51.936569Z",
     "shell.execute_reply": "2021-12-09T00:25:51.936086Z"
    },
    "papermill": {
     "duration": 0.051381,
     "end_time": "2021-12-09T00:25:51.936695",
     "exception": false,
     "start_time": "2021-12-09T00:25:51.885314",
     "status": "completed"
    },
    "tags": []
   },
   "outputs": [],
   "source": [
    "#hide\n",
    "g = t.reset_index(['Country/Region'])"
   ]
  },
  {
   "cell_type": "code",
   "execution_count": 23,
   "id": "distributed-pittsburgh",
   "metadata": {
    "execution": {
     "iopub.execute_input": "2021-12-09T00:25:52.006331Z",
     "iopub.status.busy": "2021-12-09T00:25:52.005743Z",
     "iopub.status.idle": "2021-12-09T00:25:52.009532Z",
     "shell.execute_reply": "2021-12-09T00:25:52.009057Z"
    },
    "papermill": {
     "duration": 0.04001,
     "end_time": "2021-12-09T00:25:52.009657",
     "exception": false,
     "start_time": "2021-12-09T00:25:51.969647",
     "status": "completed"
    },
    "tags": []
   },
   "outputs": [],
   "source": [
    "#hide\n",
    "g.index.name = 'date'"
   ]
  },
  {
   "cell_type": "code",
   "execution_count": 24,
   "id": "naked-donor",
   "metadata": {
    "execution": {
     "iopub.execute_input": "2021-12-09T00:25:52.083254Z",
     "iopub.status.busy": "2021-12-09T00:25:52.082624Z",
     "iopub.status.idle": "2021-12-09T00:25:52.086609Z",
     "shell.execute_reply": "2021-12-09T00:25:52.086124Z"
    },
    "papermill": {
     "duration": 0.042949,
     "end_time": "2021-12-09T00:25:52.086737",
     "exception": false,
     "start_time": "2021-12-09T00:25:52.043788",
     "status": "completed"
    },
    "tags": []
   },
   "outputs": [],
   "source": [
    "# #hide\n",
    "# g = g.reset_index(['date'])"
   ]
  },
  {
   "cell_type": "code",
   "execution_count": 25,
   "id": "incomplete-mustang",
   "metadata": {
    "execution": {
     "iopub.execute_input": "2021-12-09T00:25:52.160582Z",
     "iopub.status.busy": "2021-12-09T00:25:52.159477Z",
     "iopub.status.idle": "2021-12-09T00:25:52.161665Z",
     "shell.execute_reply": "2021-12-09T00:25:52.162468Z"
    },
    "papermill": {
     "duration": 0.04167,
     "end_time": "2021-12-09T00:25:52.162696",
     "exception": false,
     "start_time": "2021-12-09T00:25:52.121026",
     "status": "completed"
    },
    "tags": []
   },
   "outputs": [],
   "source": [
    "#hide\n",
    "# g.head()"
   ]
  },
  {
   "cell_type": "code",
   "execution_count": 26,
   "id": "specific-kruger",
   "metadata": {
    "execution": {
     "iopub.execute_input": "2021-12-09T00:25:52.234750Z",
     "iopub.status.busy": "2021-12-09T00:25:52.234001Z",
     "iopub.status.idle": "2021-12-09T00:25:52.238249Z",
     "shell.execute_reply": "2021-12-09T00:25:52.237775Z"
    },
    "papermill": {
     "duration": 0.041368,
     "end_time": "2021-12-09T00:25:52.238372",
     "exception": false,
     "start_time": "2021-12-09T00:25:52.197004",
     "status": "completed"
    },
    "tags": []
   },
   "outputs": [],
   "source": [
    "#hide\n",
    "# g.columns = ['date','country','cases']"
   ]
  },
  {
   "cell_type": "code",
   "execution_count": 27,
   "id": "tender-conversion",
   "metadata": {
    "execution": {
     "iopub.execute_input": "2021-12-09T00:25:52.310488Z",
     "iopub.status.busy": "2021-12-09T00:25:52.309865Z",
     "iopub.status.idle": "2021-12-09T00:25:52.312567Z",
     "shell.execute_reply": "2021-12-09T00:25:52.311522Z"
    },
    "papermill": {
     "duration": 0.040678,
     "end_time": "2021-12-09T00:25:52.312785",
     "exception": false,
     "start_time": "2021-12-09T00:25:52.272107",
     "status": "completed"
    },
    "tags": []
   },
   "outputs": [],
   "source": [
    "#hide\n",
    "# g['continent'] = g.country"
   ]
  },
  {
   "cell_type": "code",
   "execution_count": 28,
   "id": "substantial-wilderness",
   "metadata": {
    "execution": {
     "iopub.execute_input": "2021-12-09T00:25:52.390447Z",
     "iopub.status.busy": "2021-12-09T00:25:52.389794Z",
     "iopub.status.idle": "2021-12-09T00:25:52.392165Z",
     "shell.execute_reply": "2021-12-09T00:25:52.391676Z"
    },
    "papermill": {
     "duration": 0.041277,
     "end_time": "2021-12-09T00:25:52.392297",
     "exception": false,
     "start_time": "2021-12-09T00:25:52.351020",
     "status": "completed"
    },
    "tags": []
   },
   "outputs": [],
   "source": [
    "#hide\n",
    "# cols = list(g.columns.values)"
   ]
  },
  {
   "cell_type": "code",
   "execution_count": 29,
   "id": "solved-farming",
   "metadata": {
    "execution": {
     "iopub.execute_input": "2021-12-09T00:25:52.465571Z",
     "iopub.status.busy": "2021-12-09T00:25:52.464954Z",
     "iopub.status.idle": "2021-12-09T00:25:52.469089Z",
     "shell.execute_reply": "2021-12-09T00:25:52.468599Z"
    },
    "papermill": {
     "duration": 0.042384,
     "end_time": "2021-12-09T00:25:52.469224",
     "exception": false,
     "start_time": "2021-12-09T00:25:52.426840",
     "status": "completed"
    },
    "tags": []
   },
   "outputs": [],
   "source": [
    "#hide\n",
    "# cols.insert(0, cols.pop())"
   ]
  },
  {
   "cell_type": "code",
   "execution_count": 30,
   "id": "executed-adoption",
   "metadata": {
    "execution": {
     "iopub.execute_input": "2021-12-09T00:25:52.543076Z",
     "iopub.status.busy": "2021-12-09T00:25:52.542480Z",
     "iopub.status.idle": "2021-12-09T00:25:52.544640Z",
     "shell.execute_reply": "2021-12-09T00:25:52.544051Z"
    },
    "papermill": {
     "duration": 0.040323,
     "end_time": "2021-12-09T00:25:52.544765",
     "exception": false,
     "start_time": "2021-12-09T00:25:52.504442",
     "status": "completed"
    },
    "tags": []
   },
   "outputs": [],
   "source": [
    "#hide\n",
    "# g = g[cols]"
   ]
  },
  {
   "cell_type": "code",
   "execution_count": 31,
   "id": "subject-dublin",
   "metadata": {
    "execution": {
     "iopub.execute_input": "2021-12-09T00:25:52.619351Z",
     "iopub.status.busy": "2021-12-09T00:25:52.618322Z",
     "iopub.status.idle": "2021-12-09T00:25:52.622953Z",
     "shell.execute_reply": "2021-12-09T00:25:52.622430Z"
    },
    "papermill": {
     "duration": 0.044384,
     "end_time": "2021-12-09T00:25:52.623094",
     "exception": false,
     "start_time": "2021-12-09T00:25:52.578710",
     "status": "completed"
    },
    "tags": []
   },
   "outputs": [],
   "source": [
    "#hide\n",
    "# g['continent'] = g['continent'].map(mapping['map.continent'])"
   ]
  },
  {
   "cell_type": "code",
   "execution_count": 32,
   "id": "freelance-scout",
   "metadata": {
    "execution": {
     "iopub.execute_input": "2021-12-09T00:25:52.696275Z",
     "iopub.status.busy": "2021-12-09T00:25:52.695617Z",
     "iopub.status.idle": "2021-12-09T00:25:52.697176Z",
     "shell.execute_reply": "2021-12-09T00:25:52.697645Z"
    },
    "papermill": {
     "duration": 0.041009,
     "end_time": "2021-12-09T00:25:52.697793",
     "exception": false,
     "start_time": "2021-12-09T00:25:52.656784",
     "status": "completed"
    },
    "tags": []
   },
   "outputs": [],
   "source": [
    "#hide\n",
    "# g.head()"
   ]
  },
  {
   "cell_type": "code",
   "execution_count": 33,
   "id": "limited-engine",
   "metadata": {
    "execution": {
     "iopub.execute_input": "2021-12-09T00:25:52.773624Z",
     "iopub.status.busy": "2021-12-09T00:25:52.772714Z",
     "iopub.status.idle": "2021-12-09T00:25:52.776624Z",
     "shell.execute_reply": "2021-12-09T00:25:52.777077Z"
    },
    "papermill": {
     "duration": 0.044829,
     "end_time": "2021-12-09T00:25:52.777233",
     "exception": false,
     "start_time": "2021-12-09T00:25:52.732404",
     "status": "completed"
    },
    "tags": []
   },
   "outputs": [],
   "source": [
    "# hide\n",
    "# g['date'] = g['date'].astype('datetime64[ns]')"
   ]
  },
  {
   "cell_type": "code",
   "execution_count": 34,
   "id": "sophisticated-supervisor",
   "metadata": {
    "execution": {
     "iopub.execute_input": "2021-12-09T00:25:52.851033Z",
     "iopub.status.busy": "2021-12-09T00:25:52.849998Z",
     "iopub.status.idle": "2021-12-09T00:25:52.854707Z",
     "shell.execute_reply": "2021-12-09T00:25:52.855319Z"
    },
    "papermill": {
     "duration": 0.043882,
     "end_time": "2021-12-09T00:25:52.855472",
     "exception": false,
     "start_time": "2021-12-09T00:25:52.811590",
     "status": "completed"
    },
    "tags": []
   },
   "outputs": [],
   "source": [
    "#hide\n",
    "# g['date'] = g.date.dt.dayofyear"
   ]
  },
  {
   "cell_type": "code",
   "execution_count": 35,
   "id": "inside-dubai",
   "metadata": {
    "execution": {
     "iopub.execute_input": "2021-12-09T00:25:52.925632Z",
     "iopub.status.busy": "2021-12-09T00:25:52.925030Z",
     "iopub.status.idle": "2021-12-09T00:25:52.927247Z",
     "shell.execute_reply": "2021-12-09T00:25:52.926842Z"
    },
    "papermill": {
     "duration": 0.039341,
     "end_time": "2021-12-09T00:25:52.927441",
     "exception": false,
     "start_time": "2021-12-09T00:25:52.888100",
     "status": "completed"
    },
    "tags": []
   },
   "outputs": [],
   "source": [
    "#hide\n",
    "# g = g.rename(columns= {'continent':'group','country':'name','cases':'value'})"
   ]
  },
  {
   "cell_type": "code",
   "execution_count": 36,
   "id": "fleet-motorcycle",
   "metadata": {
    "execution": {
     "iopub.execute_input": "2021-12-09T00:25:52.998210Z",
     "iopub.status.busy": "2021-12-09T00:25:52.997607Z",
     "iopub.status.idle": "2021-12-09T00:25:52.999841Z",
     "shell.execute_reply": "2021-12-09T00:25:52.999310Z"
    },
    "papermill": {
     "duration": 0.039441,
     "end_time": "2021-12-09T00:25:52.999968",
     "exception": false,
     "start_time": "2021-12-09T00:25:52.960527",
     "status": "completed"
    },
    "tags": []
   },
   "outputs": [],
   "source": [
    "#hide\n",
    "# cols = ['name','group','day','value']"
   ]
  },
  {
   "cell_type": "code",
   "execution_count": 37,
   "id": "continued-sleeping",
   "metadata": {
    "execution": {
     "iopub.execute_input": "2021-12-09T00:25:53.074388Z",
     "iopub.status.busy": "2021-12-09T00:25:53.073353Z",
     "iopub.status.idle": "2021-12-09T00:25:53.078348Z",
     "shell.execute_reply": "2021-12-09T00:25:53.078794Z"
    },
    "papermill": {
     "duration": 0.044648,
     "end_time": "2021-12-09T00:25:53.078942",
     "exception": false,
     "start_time": "2021-12-09T00:25:53.034294",
     "status": "completed"
    },
    "tags": []
   },
   "outputs": [],
   "source": [
    "#hide\n",
    "# g.rename(columns= {'date':'day'},inplace = True)"
   ]
  },
  {
   "cell_type": "code",
   "execution_count": 38,
   "id": "major-fight",
   "metadata": {
    "execution": {
     "iopub.execute_input": "2021-12-09T00:25:53.151931Z",
     "iopub.status.busy": "2021-12-09T00:25:53.151219Z",
     "iopub.status.idle": "2021-12-09T00:25:53.153278Z",
     "shell.execute_reply": "2021-12-09T00:25:53.152660Z"
    },
    "papermill": {
     "duration": 0.040543,
     "end_time": "2021-12-09T00:25:53.153412",
     "exception": false,
     "start_time": "2021-12-09T00:25:53.112869",
     "status": "completed"
    },
    "tags": []
   },
   "outputs": [],
   "source": [
    "#hide\n",
    "# g = g[cols]"
   ]
  },
  {
   "cell_type": "code",
   "execution_count": 39,
   "id": "structured-mobile",
   "metadata": {
    "execution": {
     "iopub.execute_input": "2021-12-09T00:25:53.225549Z",
     "iopub.status.busy": "2021-12-09T00:25:53.224736Z",
     "iopub.status.idle": "2021-12-09T00:25:53.229695Z",
     "shell.execute_reply": "2021-12-09T00:25:53.229045Z"
    },
    "papermill": {
     "duration": 0.042732,
     "end_time": "2021-12-09T00:25:53.229858",
     "exception": false,
     "start_time": "2021-12-09T00:25:53.187126",
     "status": "completed"
    },
    "tags": []
   },
   "outputs": [],
   "source": [
    "# #hide\n",
    "# g = g[g.group.notna()]"
   ]
  },
  {
   "cell_type": "code",
   "execution_count": 40,
   "id": "determined-closing",
   "metadata": {
    "execution": {
     "iopub.execute_input": "2021-12-09T00:25:53.302944Z",
     "iopub.status.busy": "2021-12-09T00:25:53.302317Z",
     "iopub.status.idle": "2021-12-09T00:25:53.304413Z",
     "shell.execute_reply": "2021-12-09T00:25:53.303818Z"
    },
    "papermill": {
     "duration": 0.040856,
     "end_time": "2021-12-09T00:25:53.304537",
     "exception": false,
     "start_time": "2021-12-09T00:25:53.263681",
     "status": "completed"
    },
    "tags": []
   },
   "outputs": [],
   "source": [
    "# #hide\n",
    "# colors = dict(zip(\n",
    "#     [\"Oceania\", \"Europe\", \"Asia\", \"South America\", \"Middle East\", \"North America\", \"Africa\"],\n",
    "#     [\"#adb0ff\", \"#ffb3ff\", \"#90d595\", \"#e48381\", \"#aafbff\", \"#f7bb5f\", \"#eafb50\"]\n",
    "# ))\n",
    "# group_lk = g.set_index('name')['group'].to_dict()"
   ]
  },
  {
   "cell_type": "code",
   "execution_count": null,
   "id": "gross-drinking",
   "metadata": {
    "papermill": {
     "duration": 0.037779,
     "end_time": "2021-12-09T00:25:53.377379",
     "exception": false,
     "start_time": "2021-12-09T00:25:53.339600",
     "status": "completed"
    },
    "tags": []
   },
   "outputs": [],
   "source": []
  },
  {
   "cell_type": "code",
   "execution_count": 41,
   "id": "subject-macintosh",
   "metadata": {
    "execution": {
     "iopub.execute_input": "2021-12-09T00:25:53.457790Z",
     "iopub.status.busy": "2021-12-09T00:25:53.457163Z",
     "iopub.status.idle": "2021-12-09T00:25:53.460163Z",
     "shell.execute_reply": "2021-12-09T00:25:53.460647Z"
    },
    "papermill": {
     "duration": 0.042853,
     "end_time": "2021-12-09T00:25:53.460808",
     "exception": false,
     "start_time": "2021-12-09T00:25:53.417955",
     "status": "completed"
    },
    "tags": []
   },
   "outputs": [],
   "source": [
    "# #hide\n",
    "# fig, ax = plt.subplots(figsize=(15, 8))\n",
    "\n",
    "# def draw_barchart(current_day):\n",
    "#     dff = g[g['day'].eq(current_day)].sort_values(by='value', ascending=True).tail(10)\n",
    "#     ax.clear()\n",
    "#     ax.barh(dff['name'], dff['value'], color=[colors[group_lk[x]] for x in dff['name']])\n",
    "#     dx = dff['value'].max() / 200\n",
    "    \n",
    "#     for i, (value, name) in enumerate(zip(dff['value'], dff['name'])):\n",
    "#         ax.text(value-dx, i,     name,           size=14, weight=600, ha='right', va='bottom')\n",
    "#         ax.text(value-dx, i-.25, group_lk[name], size=10, color='#444444', ha='right', va='baseline')\n",
    "#         ax.text(value+dx, i,     f'{value:,.0f}',  size=14, ha='left',  va='center')\n",
    "#     ax.text(1, 0.4, current_day, transform=ax.transAxes, color='#777777', size=46, ha='right', weight=800)\n",
    "#     ax.text(0, 1.06, 'Population (thousands)', transform=ax.transAxes, size=12, color='#777777')\n",
    "#     ax.xaxis.set_major_formatter(ticker.StrMethodFormatter('{x:,.0f}'))\n",
    "#     ax.xaxis.set_ticks_position('top')\n",
    "#     ax.tick_params(axis='x', colors='#777777', labelsize=12)\n",
    "#     ax.set_yticks([])\n",
    "#     ax.margins(0, 0.01)\n",
    "#     ax.grid(which='major', axis='x', linestyle='-')\n",
    "#     ax.set_axisbelow(True)\n",
    "    \n",
    "#     ax.text(0, 1.15, 'Coronavirus',\n",
    "#             transform=ax.transAxes, size=24, weight=600, ha='left', va='top')\n",
    "# #     ax.text(1, 0, 'by @pratapvardhan; credit @jburnmurdoch', transform=ax.transAxes, color='#777777', ha='right',\n",
    "# #             bbox=dict(facecolor='white', alpha=0.8, edgecolor='white'))\n",
    "#     plt.box(False)"
   ]
  },
  {
   "cell_type": "code",
   "execution_count": 42,
   "id": "sexual-wages",
   "metadata": {
    "execution": {
     "iopub.execute_input": "2021-12-09T00:25:53.535274Z",
     "iopub.status.busy": "2021-12-09T00:25:53.534683Z",
     "iopub.status.idle": "2021-12-09T00:25:53.537159Z",
     "shell.execute_reply": "2021-12-09T00:25:53.537604Z"
    },
    "papermill": {
     "duration": 0.042286,
     "end_time": "2021-12-09T00:25:53.537751",
     "exception": false,
     "start_time": "2021-12-09T00:25:53.495465",
     "status": "completed"
    },
    "tags": []
   },
   "outputs": [],
   "source": [
    "# #hide_input\n",
    "# fig, ax = plt.subplots(figsize=(15, 8))\n",
    "# animator = animation.FuncAnimation(fig, draw_barchart, frames=range(g.day.values.min(), g.day.values.max()))\n",
    "# HTML(animator.to_jshtml())\n",
    "# # or use animator.to_html5_video() or animator.save() "
   ]
  },
  {
   "cell_type": "code",
   "execution_count": null,
   "id": "australian-container",
   "metadata": {
    "papermill": {
     "duration": 0.033864,
     "end_time": "2021-12-09T00:25:53.605704",
     "exception": false,
     "start_time": "2021-12-09T00:25:53.571840",
     "status": "completed"
    },
    "tags": []
   },
   "outputs": [],
   "source": []
  },
  {
   "cell_type": "code",
   "execution_count": null,
   "id": "mediterranean-pontiac",
   "metadata": {
    "papermill": {
     "duration": 0.034544,
     "end_time": "2021-12-09T00:25:53.674282",
     "exception": false,
     "start_time": "2021-12-09T00:25:53.639738",
     "status": "completed"
    },
    "tags": []
   },
   "outputs": [],
   "source": []
  },
  {
   "cell_type": "code",
   "execution_count": null,
   "id": "aging-legislature",
   "metadata": {
    "papermill": {
     "duration": 0.034127,
     "end_time": "2021-12-09T00:25:53.742837",
     "exception": false,
     "start_time": "2021-12-09T00:25:53.708710",
     "status": "completed"
    },
    "tags": []
   },
   "outputs": [],
   "source": []
  }
 ],
 "metadata": {
  "kernelspec": {
   "display_name": "Python 3",
   "language": "python",
   "name": "python3"
  },
  "language_info": {
   "codemirror_mode": {
    "name": "ipython",
    "version": 3
   },
   "file_extension": ".py",
   "mimetype": "text/x-python",
   "name": "python",
   "nbconvert_exporter": "python",
   "pygments_lexer": "ipython3",
   "version": "3.6.15"
  },
  "papermill": {
   "duration": 6.885287,
   "end_time": "2021-12-09T00:25:54.187331",
   "environment_variables": {},
   "exception": null,
   "input_path": "2020-03-21-covid19exp.ipynb",
   "output_path": "2020-03-21-covid19exp.ipynb",
   "parameters": {},
   "start_time": "2021-12-09T00:25:47.302044",
   "version": "2.0.0"
  }
 },
 "nbformat": 4,
 "nbformat_minor": 5
}