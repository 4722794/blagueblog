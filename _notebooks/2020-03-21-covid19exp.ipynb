{
 "cells": [
  {
   "cell_type": "markdown",
   "id": "muslim-click",
   "metadata": {
    "papermill": {
     "duration": 0.045815,
     "end_time": "2021-05-02T12:11:30.384247",
     "exception": false,
     "start_time": "2021-05-02T12:11:30.338432",
     "status": "completed"
    },
    "tags": []
   },
   "source": [
    "# COVID-19 Case Race\n",
    "> A race chart to see rising cases around the world\n",
    "\n",
    "- author: Hargun Oberoi\n",
    "- image: images/covid-overview.png\n",
    "- hide: false\n",
    "- badges: false"
   ]
  },
  {
   "cell_type": "code",
   "execution_count": 1,
   "id": "proof-material",
   "metadata": {
    "execution": {
     "iopub.execute_input": "2021-05-02T12:11:30.481719Z",
     "iopub.status.busy": "2021-05-02T12:11:30.481053Z",
     "iopub.status.idle": "2021-05-02T12:11:30.848050Z",
     "shell.execute_reply": "2021-05-02T12:11:30.846973Z"
    },
    "papermill": {
     "duration": 0.421093,
     "end_time": "2021-05-02T12:11:30.848298",
     "exception": false,
     "start_time": "2021-05-02T12:11:30.427205",
     "status": "completed"
    },
    "tags": []
   },
   "outputs": [],
   "source": [
    "#hide\n",
    "import numpy as np\n",
    "import pandas as pd\n",
    "from jinja2 import Template\n",
    "from IPython.display import HTML"
   ]
  },
  {
   "cell_type": "code",
   "execution_count": 2,
   "id": "developed-terminology",
   "metadata": {
    "execution": {
     "iopub.execute_input": "2021-05-02T12:11:30.933348Z",
     "iopub.status.busy": "2021-05-02T12:11:30.932726Z",
     "iopub.status.idle": "2021-05-02T12:11:30.934552Z",
     "shell.execute_reply": "2021-05-02T12:11:30.935101Z"
    },
    "papermill": {
     "duration": 0.048086,
     "end_time": "2021-05-02T12:11:30.935237",
     "exception": false,
     "start_time": "2021-05-02T12:11:30.887151",
     "status": "completed"
    },
    "tags": []
   },
   "outputs": [],
   "source": [
    "#hide\n",
    "\n",
    "# FETCH\n",
    "base_url = 'https://raw.githubusercontent.com/pratapvardhan/notebooks/master/covid19/'\n",
    "paths = {\n",
    "    'mapping': base_url + 'mapping_countries.csv',\n",
    "    'overview': base_url + 'overview.tpl'\n",
    "}"
   ]
  },
  {
   "cell_type": "code",
   "execution_count": 3,
   "id": "dynamic-saver",
   "metadata": {
    "execution": {
     "iopub.execute_input": "2021-05-02T12:11:31.019976Z",
     "iopub.status.busy": "2021-05-02T12:11:31.016992Z",
     "iopub.status.idle": "2021-05-02T12:11:31.023262Z",
     "shell.execute_reply": "2021-05-02T12:11:31.023872Z"
    },
    "papermill": {
     "duration": 0.051777,
     "end_time": "2021-05-02T12:11:31.024001",
     "exception": false,
     "start_time": "2021-05-02T12:11:30.972224",
     "status": "completed"
    },
    "tags": []
   },
   "outputs": [
    {
     "data": {
      "text/plain": [
       "'https://raw.githubusercontent.com/pratapvardhan/notebooks/master/covid19/mapping_countries.csv'"
      ]
     },
     "execution_count": 3,
     "metadata": {},
     "output_type": "execute_result"
    }
   ],
   "source": [
    "#hide\n",
    "paths['mapping']"
   ]
  },
  {
   "cell_type": "code",
   "execution_count": 4,
   "id": "urban-software",
   "metadata": {
    "execution": {
     "iopub.execute_input": "2021-05-02T12:11:31.108186Z",
     "iopub.status.busy": "2021-05-02T12:11:31.107540Z",
     "iopub.status.idle": "2021-05-02T12:11:31.110029Z",
     "shell.execute_reply": "2021-05-02T12:11:31.109483Z"
    },
    "papermill": {
     "duration": 0.048285,
     "end_time": "2021-05-02T12:11:31.110154",
     "exception": false,
     "start_time": "2021-05-02T12:11:31.061869",
     "status": "completed"
    },
    "tags": []
   },
   "outputs": [],
   "source": [
    "#hide\n",
    "def get_mappings(url):\n",
    "    df = pd.read_csv(url)\n",
    "    return {\n",
    "        'df': df,\n",
    "        'replace.country': dict(df.dropna(subset=['Name']).set_index('Country')['Name']),\n",
    "        'map.continent': dict(df.set_index('Name')['Continent'])\n",
    "    }"
   ]
  },
  {
   "cell_type": "code",
   "execution_count": 5,
   "id": "intimate-machinery",
   "metadata": {
    "execution": {
     "iopub.execute_input": "2021-05-02T12:11:31.201636Z",
     "iopub.status.busy": "2021-05-02T12:11:31.201021Z",
     "iopub.status.idle": "2021-05-02T12:11:31.245254Z",
     "shell.execute_reply": "2021-05-02T12:11:31.244707Z"
    },
    "papermill": {
     "duration": 0.088054,
     "end_time": "2021-05-02T12:11:31.245384",
     "exception": false,
     "start_time": "2021-05-02T12:11:31.157330",
     "status": "completed"
    },
    "tags": []
   },
   "outputs": [],
   "source": [
    "#hide\n",
    "mapping = get_mappings(paths['mapping'])"
   ]
  },
  {
   "cell_type": "code",
   "execution_count": 6,
   "id": "certified-tactics",
   "metadata": {
    "execution": {
     "iopub.execute_input": "2021-05-02T12:11:31.330675Z",
     "iopub.status.busy": "2021-05-02T12:11:31.330032Z",
     "iopub.status.idle": "2021-05-02T12:11:31.332625Z",
     "shell.execute_reply": "2021-05-02T12:11:31.331988Z"
    },
    "papermill": {
     "duration": 0.04745,
     "end_time": "2021-05-02T12:11:31.332769",
     "exception": false,
     "start_time": "2021-05-02T12:11:31.285319",
     "status": "completed"
    },
    "tags": []
   },
   "outputs": [],
   "source": [
    "#hide\n",
    "def get_template(path):\n",
    "    from urllib.parse import urlparse\n",
    "    if bool(urlparse(path).netloc):\n",
    "        from urllib.request import urlopen\n",
    "        return urlopen(path).read().decode('utf8')\n",
    "    return open(path).read()"
   ]
  },
  {
   "cell_type": "code",
   "execution_count": 7,
   "id": "realistic-blast",
   "metadata": {
    "execution": {
     "iopub.execute_input": "2021-05-02T12:11:31.414820Z",
     "iopub.status.busy": "2021-05-02T12:11:31.413828Z",
     "iopub.status.idle": "2021-05-02T12:11:31.416679Z",
     "shell.execute_reply": "2021-05-02T12:11:31.416116Z"
    },
    "papermill": {
     "duration": 0.045961,
     "end_time": "2021-05-02T12:11:31.416795",
     "exception": false,
     "start_time": "2021-05-02T12:11:31.370834",
     "status": "completed"
    },
    "tags": []
   },
   "outputs": [],
   "source": [
    "#hide\n",
    "def get_frame(name):\n",
    "    url = (\n",
    "        'https://raw.githubusercontent.com/CSSEGISandData/COVID-19/master/csse_covid_19_data/'\n",
    "        f'csse_covid_19_time_series/time_series_covid19_{name}_global.csv')\n",
    "    df = pd.read_csv(url)\n",
    "    # rename countries\n",
    "    df['Country/Region'] = df['Country/Region'].replace(mapping['replace.country'])\n",
    "    return df"
   ]
  },
  {
   "cell_type": "code",
   "execution_count": 8,
   "id": "affiliated-characterization",
   "metadata": {
    "execution": {
     "iopub.execute_input": "2021-05-02T12:11:31.499216Z",
     "iopub.status.busy": "2021-05-02T12:11:31.498476Z",
     "iopub.status.idle": "2021-05-02T12:11:31.501145Z",
     "shell.execute_reply": "2021-05-02T12:11:31.500631Z"
    },
    "papermill": {
     "duration": 0.04588,
     "end_time": "2021-05-02T12:11:31.501254",
     "exception": false,
     "start_time": "2021-05-02T12:11:31.455374",
     "status": "completed"
    },
    "tags": []
   },
   "outputs": [],
   "source": [
    "#hide\n",
    "def get_dates(df):\n",
    "    dt_cols = df.columns[~df.columns.isin(['Province/State', 'Country/Region', 'Lat', 'Long'])]\n",
    "    LAST_DATE_I = -1\n",
    "    # sometimes last column may be empty, then go backwards\n",
    "    for i in range(-1, -len(dt_cols), -1):\n",
    "        if not df[dt_cols[i]].fillna(0).eq(0).all():\n",
    "            LAST_DATE_I = i\n",
    "            break\n",
    "    return LAST_DATE_I, dt_cols"
   ]
  },
  {
   "cell_type": "code",
   "execution_count": 9,
   "id": "recent-optimization",
   "metadata": {
    "execution": {
     "iopub.execute_input": "2021-05-02T12:11:31.587837Z",
     "iopub.status.busy": "2021-05-02T12:11:31.587170Z",
     "iopub.status.idle": "2021-05-02T12:11:31.966684Z",
     "shell.execute_reply": "2021-05-02T12:11:31.966041Z"
    },
    "papermill": {
     "duration": 0.424788,
     "end_time": "2021-05-02T12:11:31.966887",
     "exception": false,
     "start_time": "2021-05-02T12:11:31.542099",
     "status": "completed"
    },
    "tags": []
   },
   "outputs": [],
   "source": [
    "#hide\n",
    "COL_REGION = 'Country/Region'\n",
    "# Confirmed, Recovered, Deaths\n",
    "df = get_frame('confirmed')\n",
    "# dft_: timeseries, dfc_: today country agg\n",
    "dft_cases = df\n",
    "dft_deaths = get_frame('deaths')\n",
    "dft_recovered = get_frame('recovered')\n",
    "LAST_DATE_I, dt_cols = get_dates(df)"
   ]
  },
  {
   "cell_type": "code",
   "execution_count": 10,
   "id": "absolute-copper",
   "metadata": {
    "execution": {
     "iopub.execute_input": "2021-05-02T12:11:32.048745Z",
     "iopub.status.busy": "2021-05-02T12:11:32.047992Z",
     "iopub.status.idle": "2021-05-02T12:11:32.050182Z",
     "shell.execute_reply": "2021-05-02T12:11:32.050657Z"
    },
    "papermill": {
     "duration": 0.045596,
     "end_time": "2021-05-02T12:11:32.050782",
     "exception": false,
     "start_time": "2021-05-02T12:11:32.005186",
     "status": "completed"
    },
    "tags": []
   },
   "outputs": [],
   "source": [
    "#hide\n",
    "LAST_DATE_I, dt_cols = get_dates(df)\n",
    "dt_today =dt_cols[LAST_DATE_I]\n",
    "# dt_5day = dt_cols[LAST_DATE_I - 5]\n",
    "dt_yday = dt_cols[LAST_DATE_I - 1]"
   ]
  },
  {
   "cell_type": "code",
   "execution_count": 11,
   "id": "restricted-sheriff",
   "metadata": {
    "execution": {
     "iopub.execute_input": "2021-05-02T12:11:32.138179Z",
     "iopub.status.busy": "2021-05-02T12:11:32.137600Z",
     "iopub.status.idle": "2021-05-02T12:11:32.142759Z",
     "shell.execute_reply": "2021-05-02T12:11:32.143316Z"
    },
    "papermill": {
     "duration": 0.053966,
     "end_time": "2021-05-02T12:11:32.143443",
     "exception": false,
     "start_time": "2021-05-02T12:11:32.089477",
     "status": "completed"
    },
    "tags": []
   },
   "outputs": [],
   "source": [
    "#hide\n",
    "dfc_cases = dft_cases.groupby(COL_REGION)[dt_today].sum()\n",
    "dfc_deaths = dft_deaths.groupby(COL_REGION)[dt_today].sum()\n",
    "# dfp_cases = dft_cases.groupby(COL_REGION)[dt_5day].sum()\n",
    "# dfp_deaths = dft_deaths.groupby(COL_REGION)[dt_5day].sum()\n",
    "dfp_cases = dft_cases.groupby(COL_REGION)[dt_yday].sum()\n",
    "dfp_deaths = dft_deaths.groupby(COL_REGION)[dt_yday].sum()"
   ]
  },
  {
   "cell_type": "code",
   "execution_count": 12,
   "id": "deluxe-hepatitis",
   "metadata": {
    "execution": {
     "iopub.execute_input": "2021-05-02T12:11:32.223979Z",
     "iopub.status.busy": "2021-05-02T12:11:32.223393Z",
     "iopub.status.idle": "2021-05-02T12:11:32.228723Z",
     "shell.execute_reply": "2021-05-02T12:11:32.228160Z"
    },
    "papermill": {
     "duration": 0.048348,
     "end_time": "2021-05-02T12:11:32.228832",
     "exception": false,
     "start_time": "2021-05-02T12:11:32.180484",
     "status": "completed"
    },
    "tags": []
   },
   "outputs": [],
   "source": [
    "#hide\n",
    "df_table = (pd.DataFrame(dict(Cases = dfc_cases, Deaths = dfc_deaths, PCases = dfp_cases, PDeaths = dfp_deaths))\n",
    "            .sort_values(by = ['Cases','Deaths'], ascending = [False, False])\n",
    "            .reset_index())"
   ]
  },
  {
   "cell_type": "code",
   "execution_count": 13,
   "id": "educational-chancellor",
   "metadata": {
    "execution": {
     "iopub.execute_input": "2021-05-02T12:11:32.326378Z",
     "iopub.status.busy": "2021-05-02T12:11:32.325663Z",
     "iopub.status.idle": "2021-05-02T12:11:32.335194Z",
     "shell.execute_reply": "2021-05-02T12:11:32.335752Z"
    },
    "papermill": {
     "duration": 0.069919,
     "end_time": "2021-05-02T12:11:32.335884",
     "exception": false,
     "start_time": "2021-05-02T12:11:32.265965",
     "status": "completed"
    },
    "tags": []
   },
   "outputs": [
    {
     "data": {
      "text/html": [
       "<div>\n",
       "<style scoped>\n",
       "    .dataframe tbody tr th:only-of-type {\n",
       "        vertical-align: middle;\n",
       "    }\n",
       "\n",
       "    .dataframe tbody tr th {\n",
       "        vertical-align: top;\n",
       "    }\n",
       "\n",
       "    .dataframe thead th {\n",
       "        text-align: right;\n",
       "    }\n",
       "</style>\n",
       "<table border=\"1\" class=\"dataframe\">\n",
       "  <thead>\n",
       "    <tr style=\"text-align: right;\">\n",
       "      <th></th>\n",
       "      <th>Country/Region</th>\n",
       "      <th>Cases</th>\n",
       "      <th>Deaths</th>\n",
       "      <th>PCases</th>\n",
       "      <th>PDeaths</th>\n",
       "      <th>Cases (+)</th>\n",
       "      <th>Deaths (+)</th>\n",
       "      <th>Fatality Rate</th>\n",
       "      <th>Continent</th>\n",
       "    </tr>\n",
       "  </thead>\n",
       "  <tbody>\n",
       "    <tr>\n",
       "      <th>0</th>\n",
       "      <td>US</td>\n",
       "      <td>32392274</td>\n",
       "      <td>576722</td>\n",
       "      <td>32346971</td>\n",
       "      <td>576232</td>\n",
       "      <td>45303</td>\n",
       "      <td>490</td>\n",
       "      <td>1.78</td>\n",
       "      <td>North America</td>\n",
       "    </tr>\n",
       "    <tr>\n",
       "      <th>1</th>\n",
       "      <td>India</td>\n",
       "      <td>19557457</td>\n",
       "      <td>215542</td>\n",
       "      <td>19164969</td>\n",
       "      <td>211853</td>\n",
       "      <td>392488</td>\n",
       "      <td>3689</td>\n",
       "      <td>1.10</td>\n",
       "      <td>Asia</td>\n",
       "    </tr>\n",
       "    <tr>\n",
       "      <th>2</th>\n",
       "      <td>Brazil</td>\n",
       "      <td>14725975</td>\n",
       "      <td>406437</td>\n",
       "      <td>14659011</td>\n",
       "      <td>403781</td>\n",
       "      <td>66964</td>\n",
       "      <td>2656</td>\n",
       "      <td>2.76</td>\n",
       "      <td>South America</td>\n",
       "    </tr>\n",
       "    <tr>\n",
       "      <th>3</th>\n",
       "      <td>France</td>\n",
       "      <td>5703505</td>\n",
       "      <td>104867</td>\n",
       "      <td>5677835</td>\n",
       "      <td>104675</td>\n",
       "      <td>25670</td>\n",
       "      <td>192</td>\n",
       "      <td>1.84</td>\n",
       "      <td>Europe</td>\n",
       "    </tr>\n",
       "    <tr>\n",
       "      <th>4</th>\n",
       "      <td>Turkey</td>\n",
       "      <td>4849408</td>\n",
       "      <td>40504</td>\n",
       "      <td>4820591</td>\n",
       "      <td>40131</td>\n",
       "      <td>28817</td>\n",
       "      <td>373</td>\n",
       "      <td>0.84</td>\n",
       "      <td>Asia</td>\n",
       "    </tr>\n",
       "  </tbody>\n",
       "</table>\n",
       "</div>"
      ],
      "text/plain": [
       "  Country/Region     Cases  Deaths    PCases  PDeaths  Cases (+)  Deaths (+)  \\\n",
       "0             US  32392274  576722  32346971   576232      45303         490   \n",
       "1          India  19557457  215542  19164969   211853     392488        3689   \n",
       "2         Brazil  14725975  406437  14659011   403781      66964        2656   \n",
       "3         France   5703505  104867   5677835   104675      25670         192   \n",
       "4         Turkey   4849408   40504   4820591    40131      28817         373   \n",
       "\n",
       "   Fatality Rate      Continent  \n",
       "0           1.78  North America  \n",
       "1           1.10           Asia  \n",
       "2           2.76  South America  \n",
       "3           1.84         Europe  \n",
       "4           0.84           Asia  "
      ]
     },
     "execution_count": 13,
     "metadata": {},
     "output_type": "execute_result"
    }
   ],
   "source": [
    "#hide\n",
    "for c in 'Cases, Deaths'.split(', '):\n",
    "    df_table[f'{c} (+)'] = (df_table[c] - df_table[f'P{c}']).clip(0)\n",
    "    #Clip ça veut dire, les chiffres negatif sont interdit\n",
    "df_table['Fatality Rate'] = (100* df_table['Deaths']/ df_table['Cases']).round(2)\n",
    "df_table['Continent'] = df_table['Country/Region'].map(mapping['map.continent'])\n",
    "df_table.head(5)"
   ]
  },
  {
   "cell_type": "code",
   "execution_count": 14,
   "id": "aboriginal-bulgaria",
   "metadata": {
    "execution": {
     "iopub.execute_input": "2021-05-02T12:11:32.419642Z",
     "iopub.status.busy": "2021-05-02T12:11:32.419045Z",
     "iopub.status.idle": "2021-05-02T12:11:32.422518Z",
     "shell.execute_reply": "2021-05-02T12:11:32.422021Z"
    },
    "papermill": {
     "duration": 0.048787,
     "end_time": "2021-05-02T12:11:32.422630",
     "exception": false,
     "start_time": "2021-05-02T12:11:32.373843",
     "status": "completed"
    },
    "tags": []
   },
   "outputs": [],
   "source": [
    "#hide\n",
    "#delete problematic countries from table\n",
    "df_table = df_table[~df_table['Country/Region'].isin(['Cape Verde', 'Cruise Ship', 'Kosovo'])]"
   ]
  },
  {
   "cell_type": "code",
   "execution_count": 15,
   "id": "fantastic-effect",
   "metadata": {
    "execution": {
     "iopub.execute_input": "2021-05-02T12:11:32.508793Z",
     "iopub.status.busy": "2021-05-02T12:11:32.508146Z",
     "iopub.status.idle": "2021-05-02T12:11:32.531058Z",
     "shell.execute_reply": "2021-05-02T12:11:32.531550Z"
    },
    "papermill": {
     "duration": 0.0686,
     "end_time": "2021-05-02T12:11:32.531684",
     "exception": false,
     "start_time": "2021-05-02T12:11:32.463084",
     "status": "completed"
    },
    "tags": []
   },
   "outputs": [
    {
     "data": {
      "text/html": [
       "<div>\n",
       "<style scoped>\n",
       "    .dataframe tbody tr th:only-of-type {\n",
       "        vertical-align: middle;\n",
       "    }\n",
       "\n",
       "    .dataframe tbody tr th {\n",
       "        vertical-align: top;\n",
       "    }\n",
       "\n",
       "    .dataframe thead th {\n",
       "        text-align: right;\n",
       "    }\n",
       "</style>\n",
       "<table border=\"1\" class=\"dataframe\">\n",
       "  <thead>\n",
       "    <tr style=\"text-align: right;\">\n",
       "      <th></th>\n",
       "      <th>Country/Region</th>\n",
       "      <th>Cases</th>\n",
       "      <th>Deaths</th>\n",
       "      <th>PCases</th>\n",
       "      <th>PDeaths</th>\n",
       "      <th>Cases (+)</th>\n",
       "      <th>Deaths (+)</th>\n",
       "      <th>Fatality Rate</th>\n",
       "      <th>Continent</th>\n",
       "    </tr>\n",
       "  </thead>\n",
       "  <tbody>\n",
       "    <tr>\n",
       "      <th>0</th>\n",
       "      <td>US</td>\n",
       "      <td>32392274</td>\n",
       "      <td>576722</td>\n",
       "      <td>32346971</td>\n",
       "      <td>576232</td>\n",
       "      <td>45303</td>\n",
       "      <td>490</td>\n",
       "      <td>1.8</td>\n",
       "      <td>North America</td>\n",
       "    </tr>\n",
       "    <tr>\n",
       "      <th>1</th>\n",
       "      <td>India</td>\n",
       "      <td>19557457</td>\n",
       "      <td>215542</td>\n",
       "      <td>19164969</td>\n",
       "      <td>211853</td>\n",
       "      <td>392488</td>\n",
       "      <td>3689</td>\n",
       "      <td>1.1</td>\n",
       "      <td>Asia</td>\n",
       "    </tr>\n",
       "    <tr>\n",
       "      <th>2</th>\n",
       "      <td>Brazil</td>\n",
       "      <td>14725975</td>\n",
       "      <td>406437</td>\n",
       "      <td>14659011</td>\n",
       "      <td>403781</td>\n",
       "      <td>66964</td>\n",
       "      <td>2656</td>\n",
       "      <td>2.8</td>\n",
       "      <td>South America</td>\n",
       "    </tr>\n",
       "    <tr>\n",
       "      <th>3</th>\n",
       "      <td>France</td>\n",
       "      <td>5703505</td>\n",
       "      <td>104867</td>\n",
       "      <td>5677835</td>\n",
       "      <td>104675</td>\n",
       "      <td>25670</td>\n",
       "      <td>192</td>\n",
       "      <td>1.8</td>\n",
       "      <td>Europe</td>\n",
       "    </tr>\n",
       "    <tr>\n",
       "      <th>4</th>\n",
       "      <td>Turkey</td>\n",
       "      <td>4849408</td>\n",
       "      <td>40504</td>\n",
       "      <td>4820591</td>\n",
       "      <td>40131</td>\n",
       "      <td>28817</td>\n",
       "      <td>373</td>\n",
       "      <td>0.8</td>\n",
       "      <td>Asia</td>\n",
       "    </tr>\n",
       "  </tbody>\n",
       "</table>\n",
       "</div>"
      ],
      "text/plain": [
       "  Country/Region     Cases  Deaths    PCases  PDeaths  Cases (+)  Deaths (+)  \\\n",
       "0             US  32392274  576722  32346971   576232      45303         490   \n",
       "1          India  19557457  215542  19164969   211853     392488        3689   \n",
       "2         Brazil  14725975  406437  14659011   403781      66964        2656   \n",
       "3         France   5703505  104867   5677835   104675      25670         192   \n",
       "4         Turkey   4849408   40504   4820591    40131      28817         373   \n",
       "\n",
       "   Fatality Rate      Continent  \n",
       "0            1.8  North America  \n",
       "1            1.1           Asia  \n",
       "2            2.8  South America  \n",
       "3            1.8         Europe  \n",
       "4            0.8           Asia  "
      ]
     },
     "execution_count": 15,
     "metadata": {},
     "output_type": "execute_result"
    }
   ],
   "source": [
    "#hide\n",
    "df_table = (pd.DataFrame(dict(Cases=dfc_cases, Deaths=dfc_deaths, PCases=dfp_cases, PDeaths=dfp_deaths))\n",
    "             .sort_values(by=['Cases', 'Deaths'], ascending=[False, False])\n",
    "             .reset_index())\n",
    "df_table.rename(columns={'index': 'Country/Region'}, inplace=True)\n",
    "for c in 'Cases, Deaths'.split(', '):\n",
    "    df_table[f'{c} (+)'] = (df_table[c] - df_table[f'P{c}']).clip(0)  # DATA BUG\n",
    "df_table['Fatality Rate'] = (100 * df_table['Deaths'] / df_table['Cases']).round(1)\n",
    "df_table['Continent'] = df_table['Country/Region'].map(mapping['map.continent'])\n",
    "df_table.head(5)"
   ]
  },
  {
   "cell_type": "code",
   "execution_count": 16,
   "id": "fewer-occasion",
   "metadata": {
    "execution": {
     "iopub.execute_input": "2021-05-02T12:11:32.614945Z",
     "iopub.status.busy": "2021-05-02T12:11:32.614385Z",
     "iopub.status.idle": "2021-05-02T12:11:32.619176Z",
     "shell.execute_reply": "2021-05-02T12:11:32.618229Z"
    },
    "papermill": {
     "duration": 0.048244,
     "end_time": "2021-05-02T12:11:32.619319",
     "exception": false,
     "start_time": "2021-05-02T12:11:32.571075",
     "status": "completed"
    },
    "tags": []
   },
   "outputs": [],
   "source": [
    "#hide\n",
    "#delete problematic countries from table\n",
    "df_table = df_table[~df_table['Country/Region'].isin(['Cape Verde', 'Cruise Ship', 'Kosovo'])]"
   ]
  },
  {
   "cell_type": "code",
   "execution_count": 17,
   "id": "related-center",
   "metadata": {
    "execution": {
     "iopub.execute_input": "2021-05-02T12:11:32.717271Z",
     "iopub.status.busy": "2021-05-02T12:11:32.716675Z",
     "iopub.status.idle": "2021-05-02T12:11:32.719535Z",
     "shell.execute_reply": "2021-05-02T12:11:32.720047Z"
    },
    "papermill": {
     "duration": 0.062665,
     "end_time": "2021-05-02T12:11:32.720169",
     "exception": false,
     "start_time": "2021-05-02T12:11:32.657504",
     "status": "completed"
    },
    "tags": []
   },
   "outputs": [],
   "source": [
    "#hide\n",
    "metrics = [df_table.columns[index] for index in [1,2,5,6]]\n",
    "# s_china = df_table[df_table['Country/Region'].eq('China')][metrics].sum().add_prefix('China ')\n",
    "s_us = df_table[df_table['Country/Region'].eq('US')][metrics].sum().add_prefix('US ')\n",
    "s_eu = df_table[df_table['Continent'].eq('Europe')][metrics].sum().add_prefix('EU ')\n",
    "s_ind = df_table[df_table['Country/Region'].eq('India')][metrics].sum().add_prefix('India ')\n",
    "summary = {'updated': pd.to_datetime(dt_today), 'since': pd.to_datetime(dt_yday)}\n",
    "summary = {'updated': pd.to_datetime(dt_today), 'since': pd.to_datetime(dt_yday)}\n",
    "summary = {**summary, **df_table[metrics].sum(), **s_ind, **s_us, **s_eu}"
   ]
  },
  {
   "cell_type": "code",
   "execution_count": 18,
   "id": "engaging-syndrome",
   "metadata": {
    "execution": {
     "iopub.execute_input": "2021-05-02T12:11:32.805498Z",
     "iopub.status.busy": "2021-05-02T12:11:32.804905Z",
     "iopub.status.idle": "2021-05-02T12:11:32.817051Z",
     "shell.execute_reply": "2021-05-02T12:11:32.817619Z"
    },
    "papermill": {
     "duration": 0.058134,
     "end_time": "2021-05-02T12:11:32.817797",
     "exception": false,
     "start_time": "2021-05-02T12:11:32.759663",
     "status": "completed"
    },
    "tags": []
   },
   "outputs": [],
   "source": [
    "#hide\n",
    "dft_ct_new_cases = dft_cases.groupby(COL_REGION)[dt_cols].sum().diff(axis=1).fillna(0).astype(int)"
   ]
  },
  {
   "cell_type": "code",
   "execution_count": 19,
   "id": "neutral-assignment",
   "metadata": {
    "execution": {
     "iopub.execute_input": "2021-05-02T12:11:32.902858Z",
     "iopub.status.busy": "2021-05-02T12:11:32.902158Z",
     "iopub.status.idle": "2021-05-02T12:11:32.904546Z",
     "shell.execute_reply": "2021-05-02T12:11:32.903796Z"
    },
    "papermill": {
     "duration": 0.047749,
     "end_time": "2021-05-02T12:11:32.904667",
     "exception": false,
     "start_time": "2021-05-02T12:11:32.856918",
     "status": "completed"
    },
    "tags": []
   },
   "outputs": [],
   "source": [
    "#hide\n",
    "everydaycases = dft_ct_new_cases.cumsum(axis=1)"
   ]
  },
  {
   "cell_type": "code",
   "execution_count": 20,
   "id": "parliamentary-calgary",
   "metadata": {
    "execution": {
     "iopub.execute_input": "2021-05-02T12:11:32.988380Z",
     "iopub.status.busy": "2021-05-02T12:11:32.987790Z",
     "iopub.status.idle": "2021-05-02T12:11:33.556727Z",
     "shell.execute_reply": "2021-05-02T12:11:33.555916Z"
    },
    "papermill": {
     "duration": 0.611637,
     "end_time": "2021-05-02T12:11:33.556906",
     "exception": false,
     "start_time": "2021-05-02T12:11:32.945269",
     "status": "completed"
    },
    "tags": []
   },
   "outputs": [],
   "source": [
    "#hide\n",
    "import pandas as pd\n",
    "import matplotlib.pyplot as plt\n",
    "import matplotlib.ticker as ticker\n",
    "import matplotlib.animation as animation\n",
    "from IPython.display import HTML"
   ]
  },
  {
   "cell_type": "code",
   "execution_count": 21,
   "id": "lasting-extraction",
   "metadata": {
    "execution": {
     "iopub.execute_input": "2021-05-02T12:11:33.643763Z",
     "iopub.status.busy": "2021-05-02T12:11:33.643131Z",
     "iopub.status.idle": "2021-05-02T12:11:33.648844Z",
     "shell.execute_reply": "2021-05-02T12:11:33.649363Z"
    },
    "papermill": {
     "duration": 0.050436,
     "end_time": "2021-05-02T12:11:33.649497",
     "exception": false,
     "start_time": "2021-05-02T12:11:33.599061",
     "status": "completed"
    },
    "tags": []
   },
   "outputs": [],
   "source": [
    "#hide\n",
    "t = everydaycases.stack()"
   ]
  },
  {
   "cell_type": "code",
   "execution_count": 22,
   "id": "premier-sleeve",
   "metadata": {
    "execution": {
     "iopub.execute_input": "2021-05-02T12:11:33.730384Z",
     "iopub.status.busy": "2021-05-02T12:11:33.729691Z",
     "iopub.status.idle": "2021-05-02T12:11:33.740388Z",
     "shell.execute_reply": "2021-05-02T12:11:33.739855Z"
    },
    "papermill": {
     "duration": 0.051342,
     "end_time": "2021-05-02T12:11:33.740509",
     "exception": false,
     "start_time": "2021-05-02T12:11:33.689167",
     "status": "completed"
    },
    "tags": []
   },
   "outputs": [],
   "source": [
    "#hide\n",
    "g = t.reset_index(['Country/Region'])"
   ]
  },
  {
   "cell_type": "code",
   "execution_count": 23,
   "id": "distributed-pittsburgh",
   "metadata": {
    "execution": {
     "iopub.execute_input": "2021-05-02T12:11:33.823267Z",
     "iopub.status.busy": "2021-05-02T12:11:33.822615Z",
     "iopub.status.idle": "2021-05-02T12:11:33.824970Z",
     "shell.execute_reply": "2021-05-02T12:11:33.824459Z"
    },
    "papermill": {
     "duration": 0.046093,
     "end_time": "2021-05-02T12:11:33.825084",
     "exception": false,
     "start_time": "2021-05-02T12:11:33.778991",
     "status": "completed"
    },
    "tags": []
   },
   "outputs": [],
   "source": [
    "#hide\n",
    "g.index.name = 'date'"
   ]
  },
  {
   "cell_type": "code",
   "execution_count": 24,
   "id": "naked-donor",
   "metadata": {
    "execution": {
     "iopub.execute_input": "2021-05-02T12:11:33.907862Z",
     "iopub.status.busy": "2021-05-02T12:11:33.907261Z",
     "iopub.status.idle": "2021-05-02T12:11:33.909255Z",
     "shell.execute_reply": "2021-05-02T12:11:33.909929Z"
    },
    "papermill": {
     "duration": 0.045463,
     "end_time": "2021-05-02T12:11:33.910050",
     "exception": false,
     "start_time": "2021-05-02T12:11:33.864587",
     "status": "completed"
    },
    "tags": []
   },
   "outputs": [],
   "source": [
    "# #hide\n",
    "# g = g.reset_index(['date'])"
   ]
  },
  {
   "cell_type": "code",
   "execution_count": 25,
   "id": "incomplete-mustang",
   "metadata": {
    "execution": {
     "iopub.execute_input": "2021-05-02T12:11:33.994137Z",
     "iopub.status.busy": "2021-05-02T12:11:33.993463Z",
     "iopub.status.idle": "2021-05-02T12:11:33.998117Z",
     "shell.execute_reply": "2021-05-02T12:11:33.997591Z"
    },
    "papermill": {
     "duration": 0.045792,
     "end_time": "2021-05-02T12:11:33.998242",
     "exception": false,
     "start_time": "2021-05-02T12:11:33.952450",
     "status": "completed"
    },
    "tags": []
   },
   "outputs": [],
   "source": [
    "#hide\n",
    "# g.head()"
   ]
  },
  {
   "cell_type": "code",
   "execution_count": 26,
   "id": "specific-kruger",
   "metadata": {
    "execution": {
     "iopub.execute_input": "2021-05-02T12:11:34.083342Z",
     "iopub.status.busy": "2021-05-02T12:11:34.082741Z",
     "iopub.status.idle": "2021-05-02T12:11:34.085318Z",
     "shell.execute_reply": "2021-05-02T12:11:34.084764Z"
    },
    "papermill": {
     "duration": 0.045962,
     "end_time": "2021-05-02T12:11:34.085435",
     "exception": false,
     "start_time": "2021-05-02T12:11:34.039473",
     "status": "completed"
    },
    "tags": []
   },
   "outputs": [],
   "source": [
    "#hide\n",
    "# g.columns = ['date','country','cases']"
   ]
  },
  {
   "cell_type": "code",
   "execution_count": 27,
   "id": "tender-conversion",
   "metadata": {
    "execution": {
     "iopub.execute_input": "2021-05-02T12:11:34.166812Z",
     "iopub.status.busy": "2021-05-02T12:11:34.166227Z",
     "iopub.status.idle": "2021-05-02T12:11:34.168732Z",
     "shell.execute_reply": "2021-05-02T12:11:34.168211Z"
    },
    "papermill": {
     "duration": 0.045384,
     "end_time": "2021-05-02T12:11:34.168846",
     "exception": false,
     "start_time": "2021-05-02T12:11:34.123462",
     "status": "completed"
    },
    "tags": []
   },
   "outputs": [],
   "source": [
    "#hide\n",
    "# g['continent'] = g.country"
   ]
  },
  {
   "cell_type": "code",
   "execution_count": 28,
   "id": "substantial-wilderness",
   "metadata": {
    "execution": {
     "iopub.execute_input": "2021-05-02T12:11:34.253480Z",
     "iopub.status.busy": "2021-05-02T12:11:34.252894Z",
     "iopub.status.idle": "2021-05-02T12:11:34.255104Z",
     "shell.execute_reply": "2021-05-02T12:11:34.255589Z"
    },
    "papermill": {
     "duration": 0.045637,
     "end_time": "2021-05-02T12:11:34.255725",
     "exception": false,
     "start_time": "2021-05-02T12:11:34.210088",
     "status": "completed"
    },
    "tags": []
   },
   "outputs": [],
   "source": [
    "#hide\n",
    "# cols = list(g.columns.values)"
   ]
  },
  {
   "cell_type": "code",
   "execution_count": 29,
   "id": "solved-farming",
   "metadata": {
    "execution": {
     "iopub.execute_input": "2021-05-02T12:11:34.337323Z",
     "iopub.status.busy": "2021-05-02T12:11:34.336529Z",
     "iopub.status.idle": "2021-05-02T12:11:34.339325Z",
     "shell.execute_reply": "2021-05-02T12:11:34.338628Z"
    },
    "papermill": {
     "duration": 0.044879,
     "end_time": "2021-05-02T12:11:34.339456",
     "exception": false,
     "start_time": "2021-05-02T12:11:34.294577",
     "status": "completed"
    },
    "tags": []
   },
   "outputs": [],
   "source": [
    "#hide\n",
    "# cols.insert(0, cols.pop())"
   ]
  },
  {
   "cell_type": "code",
   "execution_count": 30,
   "id": "executed-adoption",
   "metadata": {
    "execution": {
     "iopub.execute_input": "2021-05-02T12:11:34.421117Z",
     "iopub.status.busy": "2021-05-02T12:11:34.420455Z",
     "iopub.status.idle": "2021-05-02T12:11:34.422897Z",
     "shell.execute_reply": "2021-05-02T12:11:34.422357Z"
    },
    "papermill": {
     "duration": 0.044456,
     "end_time": "2021-05-02T12:11:34.423007",
     "exception": false,
     "start_time": "2021-05-02T12:11:34.378551",
     "status": "completed"
    },
    "tags": []
   },
   "outputs": [],
   "source": [
    "#hide\n",
    "# g = g[cols]"
   ]
  },
  {
   "cell_type": "code",
   "execution_count": 31,
   "id": "subject-dublin",
   "metadata": {
    "execution": {
     "iopub.execute_input": "2021-05-02T12:11:34.507513Z",
     "iopub.status.busy": "2021-05-02T12:11:34.506904Z",
     "iopub.status.idle": "2021-05-02T12:11:34.509452Z",
     "shell.execute_reply": "2021-05-02T12:11:34.508902Z"
    },
    "papermill": {
     "duration": 0.046153,
     "end_time": "2021-05-02T12:11:34.509572",
     "exception": false,
     "start_time": "2021-05-02T12:11:34.463419",
     "status": "completed"
    },
    "tags": []
   },
   "outputs": [],
   "source": [
    "#hide\n",
    "# g['continent'] = g['continent'].map(mapping['map.continent'])"
   ]
  },
  {
   "cell_type": "code",
   "execution_count": 32,
   "id": "freelance-scout",
   "metadata": {
    "execution": {
     "iopub.execute_input": "2021-05-02T12:11:34.591341Z",
     "iopub.status.busy": "2021-05-02T12:11:34.590708Z",
     "iopub.status.idle": "2021-05-02T12:11:34.593245Z",
     "shell.execute_reply": "2021-05-02T12:11:34.592785Z"
    },
    "papermill": {
     "duration": 0.045056,
     "end_time": "2021-05-02T12:11:34.593365",
     "exception": false,
     "start_time": "2021-05-02T12:11:34.548309",
     "status": "completed"
    },
    "tags": []
   },
   "outputs": [],
   "source": [
    "#hide\n",
    "# g.head()"
   ]
  },
  {
   "cell_type": "code",
   "execution_count": 33,
   "id": "limited-engine",
   "metadata": {
    "execution": {
     "iopub.execute_input": "2021-05-02T12:11:34.673722Z",
     "iopub.status.busy": "2021-05-02T12:11:34.673071Z",
     "iopub.status.idle": "2021-05-02T12:11:34.674943Z",
     "shell.execute_reply": "2021-05-02T12:11:34.675421Z"
    },
    "papermill": {
     "duration": 0.044381,
     "end_time": "2021-05-02T12:11:34.675561",
     "exception": false,
     "start_time": "2021-05-02T12:11:34.631180",
     "status": "completed"
    },
    "tags": []
   },
   "outputs": [],
   "source": [
    "# hide\n",
    "# g['date'] = g['date'].astype('datetime64[ns]')"
   ]
  },
  {
   "cell_type": "code",
   "execution_count": 34,
   "id": "sophisticated-supervisor",
   "metadata": {
    "execution": {
     "iopub.execute_input": "2021-05-02T12:11:34.759764Z",
     "iopub.status.busy": "2021-05-02T12:11:34.758826Z",
     "iopub.status.idle": "2021-05-02T12:11:34.761483Z",
     "shell.execute_reply": "2021-05-02T12:11:34.760898Z"
    },
    "papermill": {
     "duration": 0.045954,
     "end_time": "2021-05-02T12:11:34.761614",
     "exception": false,
     "start_time": "2021-05-02T12:11:34.715660",
     "status": "completed"
    },
    "tags": []
   },
   "outputs": [],
   "source": [
    "#hide\n",
    "# g['date'] = g.date.dt.dayofyear"
   ]
  },
  {
   "cell_type": "code",
   "execution_count": 35,
   "id": "inside-dubai",
   "metadata": {
    "execution": {
     "iopub.execute_input": "2021-05-02T12:11:34.842171Z",
     "iopub.status.busy": "2021-05-02T12:11:34.841569Z",
     "iopub.status.idle": "2021-05-02T12:11:34.844094Z",
     "shell.execute_reply": "2021-05-02T12:11:34.843564Z"
    },
    "papermill": {
     "duration": 0.044318,
     "end_time": "2021-05-02T12:11:34.844208",
     "exception": false,
     "start_time": "2021-05-02T12:11:34.799890",
     "status": "completed"
    },
    "tags": []
   },
   "outputs": [],
   "source": [
    "#hide\n",
    "# g = g.rename(columns= {'continent':'group','country':'name','cases':'value'})"
   ]
  },
  {
   "cell_type": "code",
   "execution_count": 36,
   "id": "fleet-motorcycle",
   "metadata": {
    "execution": {
     "iopub.execute_input": "2021-05-02T12:11:34.927048Z",
     "iopub.status.busy": "2021-05-02T12:11:34.926433Z",
     "iopub.status.idle": "2021-05-02T12:11:34.929005Z",
     "shell.execute_reply": "2021-05-02T12:11:34.928453Z"
    },
    "papermill": {
     "duration": 0.045356,
     "end_time": "2021-05-02T12:11:34.929119",
     "exception": false,
     "start_time": "2021-05-02T12:11:34.883763",
     "status": "completed"
    },
    "tags": []
   },
   "outputs": [],
   "source": [
    "#hide\n",
    "# cols = ['name','group','day','value']"
   ]
  },
  {
   "cell_type": "code",
   "execution_count": 37,
   "id": "continued-sleeping",
   "metadata": {
    "execution": {
     "iopub.execute_input": "2021-05-02T12:11:35.010853Z",
     "iopub.status.busy": "2021-05-02T12:11:35.010254Z",
     "iopub.status.idle": "2021-05-02T12:11:35.013338Z",
     "shell.execute_reply": "2021-05-02T12:11:35.013857Z"
    },
    "papermill": {
     "duration": 0.046635,
     "end_time": "2021-05-02T12:11:35.013985",
     "exception": false,
     "start_time": "2021-05-02T12:11:34.967350",
     "status": "completed"
    },
    "tags": []
   },
   "outputs": [],
   "source": [
    "#hide\n",
    "# g.rename(columns= {'date':'day'},inplace = True)"
   ]
  },
  {
   "cell_type": "code",
   "execution_count": 38,
   "id": "major-fight",
   "metadata": {
    "execution": {
     "iopub.execute_input": "2021-05-02T12:11:35.100270Z",
     "iopub.status.busy": "2021-05-02T12:11:35.099676Z",
     "iopub.status.idle": "2021-05-02T12:11:35.102051Z",
     "shell.execute_reply": "2021-05-02T12:11:35.101552Z"
    },
    "papermill": {
     "duration": 0.050295,
     "end_time": "2021-05-02T12:11:35.102163",
     "exception": false,
     "start_time": "2021-05-02T12:11:35.051868",
     "status": "completed"
    },
    "tags": []
   },
   "outputs": [],
   "source": [
    "#hide\n",
    "# g = g[cols]"
   ]
  },
  {
   "cell_type": "code",
   "execution_count": 39,
   "id": "structured-mobile",
   "metadata": {
    "execution": {
     "iopub.execute_input": "2021-05-02T12:11:35.187844Z",
     "iopub.status.busy": "2021-05-02T12:11:35.187228Z",
     "iopub.status.idle": "2021-05-02T12:11:35.189586Z",
     "shell.execute_reply": "2021-05-02T12:11:35.189089Z"
    },
    "papermill": {
     "duration": 0.046772,
     "end_time": "2021-05-02T12:11:35.189698",
     "exception": false,
     "start_time": "2021-05-02T12:11:35.142926",
     "status": "completed"
    },
    "tags": []
   },
   "outputs": [],
   "source": [
    "# #hide\n",
    "# g = g[g.group.notna()]"
   ]
  },
  {
   "cell_type": "code",
   "execution_count": 40,
   "id": "determined-closing",
   "metadata": {
    "execution": {
     "iopub.execute_input": "2021-05-02T12:11:35.274449Z",
     "iopub.status.busy": "2021-05-02T12:11:35.273840Z",
     "iopub.status.idle": "2021-05-02T12:11:35.275898Z",
     "shell.execute_reply": "2021-05-02T12:11:35.276429Z"
    },
    "papermill": {
     "duration": 0.047341,
     "end_time": "2021-05-02T12:11:35.276571",
     "exception": false,
     "start_time": "2021-05-02T12:11:35.229230",
     "status": "completed"
    },
    "tags": []
   },
   "outputs": [],
   "source": [
    "# #hide\n",
    "# colors = dict(zip(\n",
    "#     [\"Oceania\", \"Europe\", \"Asia\", \"South America\", \"Middle East\", \"North America\", \"Africa\"],\n",
    "#     [\"#adb0ff\", \"#ffb3ff\", \"#90d595\", \"#e48381\", \"#aafbff\", \"#f7bb5f\", \"#eafb50\"]\n",
    "# ))\n",
    "# group_lk = g.set_index('name')['group'].to_dict()"
   ]
  },
  {
   "cell_type": "code",
   "execution_count": null,
   "id": "gross-drinking",
   "metadata": {
    "papermill": {
     "duration": 0.039364,
     "end_time": "2021-05-02T12:11:35.355939",
     "exception": false,
     "start_time": "2021-05-02T12:11:35.316575",
     "status": "completed"
    },
    "tags": []
   },
   "outputs": [],
   "source": []
  },
  {
   "cell_type": "code",
   "execution_count": 41,
   "id": "subject-macintosh",
   "metadata": {
    "execution": {
     "iopub.execute_input": "2021-05-02T12:11:35.440077Z",
     "iopub.status.busy": "2021-05-02T12:11:35.439469Z",
     "iopub.status.idle": "2021-05-02T12:11:35.441994Z",
     "shell.execute_reply": "2021-05-02T12:11:35.441500Z"
    },
    "papermill": {
     "duration": 0.047249,
     "end_time": "2021-05-02T12:11:35.442106",
     "exception": false,
     "start_time": "2021-05-02T12:11:35.394857",
     "status": "completed"
    },
    "tags": []
   },
   "outputs": [],
   "source": [
    "# #hide\n",
    "# fig, ax = plt.subplots(figsize=(15, 8))\n",
    "\n",
    "# def draw_barchart(current_day):\n",
    "#     dff = g[g['day'].eq(current_day)].sort_values(by='value', ascending=True).tail(10)\n",
    "#     ax.clear()\n",
    "#     ax.barh(dff['name'], dff['value'], color=[colors[group_lk[x]] for x in dff['name']])\n",
    "#     dx = dff['value'].max() / 200\n",
    "    \n",
    "#     for i, (value, name) in enumerate(zip(dff['value'], dff['name'])):\n",
    "#         ax.text(value-dx, i,     name,           size=14, weight=600, ha='right', va='bottom')\n",
    "#         ax.text(value-dx, i-.25, group_lk[name], size=10, color='#444444', ha='right', va='baseline')\n",
    "#         ax.text(value+dx, i,     f'{value:,.0f}',  size=14, ha='left',  va='center')\n",
    "#     ax.text(1, 0.4, current_day, transform=ax.transAxes, color='#777777', size=46, ha='right', weight=800)\n",
    "#     ax.text(0, 1.06, 'Population (thousands)', transform=ax.transAxes, size=12, color='#777777')\n",
    "#     ax.xaxis.set_major_formatter(ticker.StrMethodFormatter('{x:,.0f}'))\n",
    "#     ax.xaxis.set_ticks_position('top')\n",
    "#     ax.tick_params(axis='x', colors='#777777', labelsize=12)\n",
    "#     ax.set_yticks([])\n",
    "#     ax.margins(0, 0.01)\n",
    "#     ax.grid(which='major', axis='x', linestyle='-')\n",
    "#     ax.set_axisbelow(True)\n",
    "    \n",
    "#     ax.text(0, 1.15, 'Coronavirus',\n",
    "#             transform=ax.transAxes, size=24, weight=600, ha='left', va='top')\n",
    "# #     ax.text(1, 0, 'by @pratapvardhan; credit @jburnmurdoch', transform=ax.transAxes, color='#777777', ha='right',\n",
    "# #             bbox=dict(facecolor='white', alpha=0.8, edgecolor='white'))\n",
    "#     plt.box(False)"
   ]
  },
  {
   "cell_type": "code",
   "execution_count": 42,
   "id": "sexual-wages",
   "metadata": {
    "execution": {
     "iopub.execute_input": "2021-05-02T12:11:35.522980Z",
     "iopub.status.busy": "2021-05-02T12:11:35.522331Z",
     "iopub.status.idle": "2021-05-02T12:11:35.524170Z",
     "shell.execute_reply": "2021-05-02T12:11:35.524786Z"
    },
    "papermill": {
     "duration": 0.044667,
     "end_time": "2021-05-02T12:11:35.524915",
     "exception": false,
     "start_time": "2021-05-02T12:11:35.480248",
     "status": "completed"
    },
    "tags": []
   },
   "outputs": [],
   "source": [
    "# #hide_input\n",
    "# fig, ax = plt.subplots(figsize=(15, 8))\n",
    "# animator = animation.FuncAnimation(fig, draw_barchart, frames=range(g.day.values.min(), g.day.values.max()))\n",
    "# HTML(animator.to_jshtml())\n",
    "# # or use animator.to_html5_video() or animator.save() "
   ]
  },
  {
   "cell_type": "code",
   "execution_count": null,
   "id": "australian-container",
   "metadata": {
    "papermill": {
     "duration": 0.039224,
     "end_time": "2021-05-02T12:11:35.602970",
     "exception": false,
     "start_time": "2021-05-02T12:11:35.563746",
     "status": "completed"
    },
    "tags": []
   },
   "outputs": [],
   "source": []
  },
  {
   "cell_type": "code",
   "execution_count": null,
   "id": "mediterranean-pontiac",
   "metadata": {
    "papermill": {
     "duration": 0.038679,
     "end_time": "2021-05-02T12:11:35.679428",
     "exception": false,
     "start_time": "2021-05-02T12:11:35.640749",
     "status": "completed"
    },
    "tags": []
   },
   "outputs": [],
   "source": []
  },
  {
   "cell_type": "code",
   "execution_count": null,
   "id": "aging-legislature",
   "metadata": {
    "papermill": {
     "duration": 0.038449,
     "end_time": "2021-05-02T12:11:35.758149",
     "exception": false,
     "start_time": "2021-05-02T12:11:35.719700",
     "status": "completed"
    },
    "tags": []
   },
   "outputs": [],
   "source": []
  }
 ],
 "metadata": {
  "kernelspec": {
   "display_name": "Python 3",
   "language": "python",
   "name": "python3"
  },
  "language_info": {
   "codemirror_mode": {
    "name": "ipython",
    "version": 3
   },
   "file_extension": ".py",
   "mimetype": "text/x-python",
   "name": "python",
   "nbconvert_exporter": "python",
   "pygments_lexer": "ipython3",
   "version": "3.6.13"
  },
  "papermill": {
   "duration": 7.091506,
   "end_time": "2021-05-02T12:11:36.104744",
   "environment_variables": {},
   "exception": null,
   "input_path": "2020-03-21-covid19exp.ipynb",
   "output_path": "2020-03-21-covid19exp.ipynb",
   "parameters": {},
   "start_time": "2021-05-02T12:11:29.013238",
   "version": "2.0.0"
  }
 },
 "nbformat": 4,
 "nbformat_minor": 5
}