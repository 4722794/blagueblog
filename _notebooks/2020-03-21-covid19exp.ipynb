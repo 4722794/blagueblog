{
 "cells": [
  {
   "cell_type": "markdown",
   "id": "muslim-click",
   "metadata": {
    "papermill": {
     "duration": 0.03277,
     "end_time": "2021-12-22T12:12:38.557047",
     "exception": false,
     "start_time": "2021-12-22T12:12:38.524277",
     "status": "completed"
    },
    "tags": []
   },
   "source": [
    "# COVID-19 Case Race\n",
    "> A race chart to see rising cases around the world\n",
    "\n",
    "- author: Hargun Oberoi\n",
    "- image: images/covid-overview.png\n",
    "- hide: false\n",
    "- badges: false"
   ]
  },
  {
   "cell_type": "code",
   "execution_count": 1,
   "id": "proof-material",
   "metadata": {
    "execution": {
     "iopub.execute_input": "2021-12-22T12:12:38.621395Z",
     "iopub.status.busy": "2021-12-22T12:12:38.620866Z",
     "iopub.status.idle": "2021-12-22T12:12:38.938932Z",
     "shell.execute_reply": "2021-12-22T12:12:38.938414Z"
    },
    "papermill": {
     "duration": 0.354915,
     "end_time": "2021-12-22T12:12:38.939083",
     "exception": false,
     "start_time": "2021-12-22T12:12:38.584168",
     "status": "completed"
    },
    "tags": []
   },
   "outputs": [],
   "source": [
    "#hide\n",
    "import numpy as np\n",
    "import pandas as pd\n",
    "from jinja2 import Template\n",
    "from IPython.display import HTML"
   ]
  },
  {
   "cell_type": "code",
   "execution_count": 2,
   "id": "developed-terminology",
   "metadata": {
    "execution": {
     "iopub.execute_input": "2021-12-22T12:12:39.008219Z",
     "iopub.status.busy": "2021-12-22T12:12:39.007727Z",
     "iopub.status.idle": "2021-12-22T12:12:39.009520Z",
     "shell.execute_reply": "2021-12-22T12:12:39.009897Z"
    },
    "papermill": {
     "duration": 0.039722,
     "end_time": "2021-12-22T12:12:39.010021",
     "exception": false,
     "start_time": "2021-12-22T12:12:38.970299",
     "status": "completed"
    },
    "tags": []
   },
   "outputs": [],
   "source": [
    "#hide\n",
    "\n",
    "# FETCH\n",
    "base_url = 'https://raw.githubusercontent.com/pratapvardhan/notebooks/master/covid19/'\n",
    "paths = {\n",
    "    'mapping': base_url + 'mapping_countries.csv',\n",
    "    'overview': base_url + 'overview.tpl'\n",
    "}"
   ]
  },
  {
   "cell_type": "code",
   "execution_count": 3,
   "id": "dynamic-saver",
   "metadata": {
    "execution": {
     "iopub.execute_input": "2021-12-22T12:12:39.071825Z",
     "iopub.status.busy": "2021-12-22T12:12:39.071321Z",
     "iopub.status.idle": "2021-12-22T12:12:39.073609Z",
     "shell.execute_reply": "2021-12-22T12:12:39.074516Z"
    },
    "papermill": {
     "duration": 0.038503,
     "end_time": "2021-12-22T12:12:39.074670",
     "exception": false,
     "start_time": "2021-12-22T12:12:39.036167",
     "status": "completed"
    },
    "tags": []
   },
   "outputs": [
    {
     "data": {
      "text/plain": [
       "'https://raw.githubusercontent.com/pratapvardhan/notebooks/master/covid19/mapping_countries.csv'"
      ]
     },
     "execution_count": 3,
     "metadata": {},
     "output_type": "execute_result"
    }
   ],
   "source": [
    "#hide\n",
    "paths['mapping']"
   ]
  },
  {
   "cell_type": "code",
   "execution_count": 4,
   "id": "urban-software",
   "metadata": {
    "execution": {
     "iopub.execute_input": "2021-12-22T12:12:39.142416Z",
     "iopub.status.busy": "2021-12-22T12:12:39.141896Z",
     "iopub.status.idle": "2021-12-22T12:12:39.143635Z",
     "shell.execute_reply": "2021-12-22T12:12:39.144036Z"
    },
    "papermill": {
     "duration": 0.038953,
     "end_time": "2021-12-22T12:12:39.144169",
     "exception": false,
     "start_time": "2021-12-22T12:12:39.105216",
     "status": "completed"
    },
    "tags": []
   },
   "outputs": [],
   "source": [
    "#hide\n",
    "def get_mappings(url):\n",
    "    df = pd.read_csv(url)\n",
    "    return {\n",
    "        'df': df,\n",
    "        'replace.country': dict(df.dropna(subset=['Name']).set_index('Country')['Name']),\n",
    "        'map.continent': dict(df.set_index('Name')['Continent'])\n",
    "    }"
   ]
  },
  {
   "cell_type": "code",
   "execution_count": 5,
   "id": "intimate-machinery",
   "metadata": {
    "execution": {
     "iopub.execute_input": "2021-12-22T12:12:39.203015Z",
     "iopub.status.busy": "2021-12-22T12:12:39.202538Z",
     "iopub.status.idle": "2021-12-22T12:12:39.248764Z",
     "shell.execute_reply": "2021-12-22T12:12:39.248310Z"
    },
    "papermill": {
     "duration": 0.07812,
     "end_time": "2021-12-22T12:12:39.248889",
     "exception": false,
     "start_time": "2021-12-22T12:12:39.170769",
     "status": "completed"
    },
    "tags": []
   },
   "outputs": [],
   "source": [
    "#hide\n",
    "mapping = get_mappings(paths['mapping'])"
   ]
  },
  {
   "cell_type": "code",
   "execution_count": 6,
   "id": "certified-tactics",
   "metadata": {
    "execution": {
     "iopub.execute_input": "2021-12-22T12:12:39.307656Z",
     "iopub.status.busy": "2021-12-22T12:12:39.307169Z",
     "iopub.status.idle": "2021-12-22T12:12:39.309005Z",
     "shell.execute_reply": "2021-12-22T12:12:39.309455Z"
    },
    "papermill": {
     "duration": 0.033927,
     "end_time": "2021-12-22T12:12:39.309584",
     "exception": false,
     "start_time": "2021-12-22T12:12:39.275657",
     "status": "completed"
    },
    "tags": []
   },
   "outputs": [],
   "source": [
    "#hide\n",
    "def get_template(path):\n",
    "    from urllib.parse import urlparse\n",
    "    if bool(urlparse(path).netloc):\n",
    "        from urllib.request import urlopen\n",
    "        return urlopen(path).read().decode('utf8')\n",
    "    return open(path).read()"
   ]
  },
  {
   "cell_type": "code",
   "execution_count": 7,
   "id": "realistic-blast",
   "metadata": {
    "execution": {
     "iopub.execute_input": "2021-12-22T12:12:39.368174Z",
     "iopub.status.busy": "2021-12-22T12:12:39.367612Z",
     "iopub.status.idle": "2021-12-22T12:12:39.368899Z",
     "shell.execute_reply": "2021-12-22T12:12:39.369398Z"
    },
    "papermill": {
     "duration": 0.033372,
     "end_time": "2021-12-22T12:12:39.369541",
     "exception": false,
     "start_time": "2021-12-22T12:12:39.336169",
     "status": "completed"
    },
    "tags": []
   },
   "outputs": [],
   "source": [
    "#hide\n",
    "def get_frame(name):\n",
    "    url = (\n",
    "        'https://raw.githubusercontent.com/CSSEGISandData/COVID-19/master/csse_covid_19_data/'\n",
    "        f'csse_covid_19_time_series/time_series_covid19_{name}_global.csv')\n",
    "    df = pd.read_csv(url)\n",
    "    # rename countries\n",
    "    df['Country/Region'] = df['Country/Region'].replace(mapping['replace.country'])\n",
    "    return df"
   ]
  },
  {
   "cell_type": "code",
   "execution_count": 8,
   "id": "affiliated-characterization",
   "metadata": {
    "execution": {
     "iopub.execute_input": "2021-12-22T12:12:39.437832Z",
     "iopub.status.busy": "2021-12-22T12:12:39.437296Z",
     "iopub.status.idle": "2021-12-22T12:12:39.439065Z",
     "shell.execute_reply": "2021-12-22T12:12:39.439415Z"
    },
    "papermill": {
     "duration": 0.038643,
     "end_time": "2021-12-22T12:12:39.439549",
     "exception": false,
     "start_time": "2021-12-22T12:12:39.400906",
     "status": "completed"
    },
    "tags": []
   },
   "outputs": [],
   "source": [
    "#hide\n",
    "def get_dates(df):\n",
    "    dt_cols = df.columns[~df.columns.isin(['Province/State', 'Country/Region', 'Lat', 'Long'])]\n",
    "    LAST_DATE_I = -1\n",
    "    # sometimes last column may be empty, then go backwards\n",
    "    for i in range(-1, -len(dt_cols), -1):\n",
    "        if not df[dt_cols[i]].fillna(0).eq(0).all():\n",
    "            LAST_DATE_I = i\n",
    "            break\n",
    "    return LAST_DATE_I, dt_cols"
   ]
  },
  {
   "cell_type": "code",
   "execution_count": 9,
   "id": "recent-optimization",
   "metadata": {
    "execution": {
     "iopub.execute_input": "2021-12-22T12:12:39.497622Z",
     "iopub.status.busy": "2021-12-22T12:12:39.497106Z",
     "iopub.status.idle": "2021-12-22T12:12:39.858409Z",
     "shell.execute_reply": "2021-12-22T12:12:39.857845Z"
    },
    "papermill": {
     "duration": 0.392566,
     "end_time": "2021-12-22T12:12:39.858529",
     "exception": false,
     "start_time": "2021-12-22T12:12:39.465963",
     "status": "completed"
    },
    "tags": []
   },
   "outputs": [],
   "source": [
    "#hide\n",
    "COL_REGION = 'Country/Region'\n",
    "# Confirmed, Recovered, Deaths\n",
    "df = get_frame('confirmed')\n",
    "# dft_: timeseries, dfc_: today country agg\n",
    "dft_cases = df\n",
    "dft_deaths = get_frame('deaths')\n",
    "dft_recovered = get_frame('recovered')\n",
    "LAST_DATE_I, dt_cols = get_dates(df)"
   ]
  },
  {
   "cell_type": "code",
   "execution_count": 10,
   "id": "absolute-copper",
   "metadata": {
    "execution": {
     "iopub.execute_input": "2021-12-22T12:12:39.917894Z",
     "iopub.status.busy": "2021-12-22T12:12:39.917287Z",
     "iopub.status.idle": "2021-12-22T12:12:39.920523Z",
     "shell.execute_reply": "2021-12-22T12:12:39.920097Z"
    },
    "papermill": {
     "duration": 0.035378,
     "end_time": "2021-12-22T12:12:39.920646",
     "exception": false,
     "start_time": "2021-12-22T12:12:39.885268",
     "status": "completed"
    },
    "tags": []
   },
   "outputs": [],
   "source": [
    "#hide\n",
    "LAST_DATE_I, dt_cols = get_dates(df)\n",
    "dt_today =dt_cols[LAST_DATE_I]\n",
    "# dt_5day = dt_cols[LAST_DATE_I - 5]\n",
    "dt_yday = dt_cols[LAST_DATE_I - 1]"
   ]
  },
  {
   "cell_type": "code",
   "execution_count": 11,
   "id": "restricted-sheriff",
   "metadata": {
    "execution": {
     "iopub.execute_input": "2021-12-22T12:12:39.993358Z",
     "iopub.status.busy": "2021-12-22T12:12:39.992829Z",
     "iopub.status.idle": "2021-12-22T12:12:39.999075Z",
     "shell.execute_reply": "2021-12-22T12:12:39.999514Z"
    },
    "papermill": {
     "duration": 0.043005,
     "end_time": "2021-12-22T12:12:39.999651",
     "exception": false,
     "start_time": "2021-12-22T12:12:39.956646",
     "status": "completed"
    },
    "tags": []
   },
   "outputs": [],
   "source": [
    "#hide\n",
    "dfc_cases = dft_cases.groupby(COL_REGION)[dt_today].sum()\n",
    "dfc_deaths = dft_deaths.groupby(COL_REGION)[dt_today].sum()\n",
    "# dfp_cases = dft_cases.groupby(COL_REGION)[dt_5day].sum()\n",
    "# dfp_deaths = dft_deaths.groupby(COL_REGION)[dt_5day].sum()\n",
    "dfp_cases = dft_cases.groupby(COL_REGION)[dt_yday].sum()\n",
    "dfp_deaths = dft_deaths.groupby(COL_REGION)[dt_yday].sum()"
   ]
  },
  {
   "cell_type": "code",
   "execution_count": 12,
   "id": "deluxe-hepatitis",
   "metadata": {
    "execution": {
     "iopub.execute_input": "2021-12-22T12:12:40.068309Z",
     "iopub.status.busy": "2021-12-22T12:12:40.067779Z",
     "iopub.status.idle": "2021-12-22T12:12:40.072489Z",
     "shell.execute_reply": "2021-12-22T12:12:40.072061Z"
    },
    "papermill": {
     "duration": 0.042104,
     "end_time": "2021-12-22T12:12:40.072615",
     "exception": false,
     "start_time": "2021-12-22T12:12:40.030511",
     "status": "completed"
    },
    "tags": []
   },
   "outputs": [],
   "source": [
    "#hide\n",
    "df_table = (pd.DataFrame(dict(Cases = dfc_cases, Deaths = dfc_deaths, PCases = dfp_cases, PDeaths = dfp_deaths))\n",
    "            .sort_values(by = ['Cases','Deaths'], ascending = [False, False])\n",
    "            .reset_index())"
   ]
  },
  {
   "cell_type": "code",
   "execution_count": 13,
   "id": "educational-chancellor",
   "metadata": {
    "execution": {
     "iopub.execute_input": "2021-12-22T12:12:40.151420Z",
     "iopub.status.busy": "2021-12-22T12:12:40.150854Z",
     "iopub.status.idle": "2021-12-22T12:12:40.157952Z",
     "shell.execute_reply": "2021-12-22T12:12:40.157490Z"
    },
    "papermill": {
     "duration": 0.055591,
     "end_time": "2021-12-22T12:12:40.158080",
     "exception": false,
     "start_time": "2021-12-22T12:12:40.102489",
     "status": "completed"
    },
    "tags": []
   },
   "outputs": [
    {
     "data": {
      "text/html": [
       "<div>\n",
       "<style scoped>\n",
       "    .dataframe tbody tr th:only-of-type {\n",
       "        vertical-align: middle;\n",
       "    }\n",
       "\n",
       "    .dataframe tbody tr th {\n",
       "        vertical-align: top;\n",
       "    }\n",
       "\n",
       "    .dataframe thead th {\n",
       "        text-align: right;\n",
       "    }\n",
       "</style>\n",
       "<table border=\"1\" class=\"dataframe\">\n",
       "  <thead>\n",
       "    <tr style=\"text-align: right;\">\n",
       "      <th></th>\n",
       "      <th>Country/Region</th>\n",
       "      <th>Cases</th>\n",
       "      <th>Deaths</th>\n",
       "      <th>PCases</th>\n",
       "      <th>PDeaths</th>\n",
       "      <th>Cases (+)</th>\n",
       "      <th>Deaths (+)</th>\n",
       "      <th>Fatality Rate</th>\n",
       "      <th>Continent</th>\n",
       "    </tr>\n",
       "  </thead>\n",
       "  <tbody>\n",
       "    <tr>\n",
       "      <th>0</th>\n",
       "      <td>US</td>\n",
       "      <td>51272854</td>\n",
       "      <td>810045</td>\n",
       "      <td>51100782</td>\n",
       "      <td>807952</td>\n",
       "      <td>172072</td>\n",
       "      <td>2093</td>\n",
       "      <td>1.58</td>\n",
       "      <td>North America</td>\n",
       "    </tr>\n",
       "    <tr>\n",
       "      <th>1</th>\n",
       "      <td>India</td>\n",
       "      <td>34758481</td>\n",
       "      <td>478325</td>\n",
       "      <td>34752164</td>\n",
       "      <td>478007</td>\n",
       "      <td>6317</td>\n",
       "      <td>318</td>\n",
       "      <td>1.38</td>\n",
       "      <td>Asia</td>\n",
       "    </tr>\n",
       "    <tr>\n",
       "      <th>2</th>\n",
       "      <td>Brazil</td>\n",
       "      <td>22219477</td>\n",
       "      <td>617948</td>\n",
       "      <td>22215856</td>\n",
       "      <td>617873</td>\n",
       "      <td>3621</td>\n",
       "      <td>75</td>\n",
       "      <td>2.78</td>\n",
       "      <td>South America</td>\n",
       "    </tr>\n",
       "    <tr>\n",
       "      <th>3</th>\n",
       "      <td>United Kingdom</td>\n",
       "      <td>11607864</td>\n",
       "      <td>147896</td>\n",
       "      <td>11518255</td>\n",
       "      <td>147723</td>\n",
       "      <td>89609</td>\n",
       "      <td>173</td>\n",
       "      <td>1.27</td>\n",
       "      <td>Europe</td>\n",
       "    </tr>\n",
       "    <tr>\n",
       "      <th>4</th>\n",
       "      <td>Russia</td>\n",
       "      <td>10089945</td>\n",
       "      <td>293329</td>\n",
       "      <td>10064290</td>\n",
       "      <td>292331</td>\n",
       "      <td>25655</td>\n",
       "      <td>998</td>\n",
       "      <td>2.91</td>\n",
       "      <td>Europe</td>\n",
       "    </tr>\n",
       "  </tbody>\n",
       "</table>\n",
       "</div>"
      ],
      "text/plain": [
       "   Country/Region     Cases  Deaths    PCases  PDeaths  Cases (+)  Deaths (+)  \\\n",
       "0              US  51272854  810045  51100782   807952     172072        2093   \n",
       "1           India  34758481  478325  34752164   478007       6317         318   \n",
       "2          Brazil  22219477  617948  22215856   617873       3621          75   \n",
       "3  United Kingdom  11607864  147896  11518255   147723      89609         173   \n",
       "4          Russia  10089945  293329  10064290   292331      25655         998   \n",
       "\n",
       "   Fatality Rate      Continent  \n",
       "0           1.58  North America  \n",
       "1           1.38           Asia  \n",
       "2           2.78  South America  \n",
       "3           1.27         Europe  \n",
       "4           2.91         Europe  "
      ]
     },
     "execution_count": 13,
     "metadata": {},
     "output_type": "execute_result"
    }
   ],
   "source": [
    "#hide\n",
    "for c in 'Cases, Deaths'.split(', '):\n",
    "    df_table[f'{c} (+)'] = (df_table[c] - df_table[f'P{c}']).clip(0)\n",
    "    #Clip ça veut dire, les chiffres negatif sont interdit\n",
    "df_table['Fatality Rate'] = (100* df_table['Deaths']/ df_table['Cases']).round(2)\n",
    "df_table['Continent'] = df_table['Country/Region'].map(mapping['map.continent'])\n",
    "df_table.head(5)"
   ]
  },
  {
   "cell_type": "code",
   "execution_count": 14,
   "id": "aboriginal-bulgaria",
   "metadata": {
    "execution": {
     "iopub.execute_input": "2021-12-22T12:12:40.225536Z",
     "iopub.status.busy": "2021-12-22T12:12:40.224964Z",
     "iopub.status.idle": "2021-12-22T12:12:40.226704Z",
     "shell.execute_reply": "2021-12-22T12:12:40.227147Z"
    },
    "papermill": {
     "duration": 0.038648,
     "end_time": "2021-12-22T12:12:40.227289",
     "exception": false,
     "start_time": "2021-12-22T12:12:40.188641",
     "status": "completed"
    },
    "tags": []
   },
   "outputs": [],
   "source": [
    "#hide\n",
    "#delete problematic countries from table\n",
    "df_table = df_table[~df_table['Country/Region'].isin(['Cape Verde', 'Cruise Ship', 'Kosovo'])]"
   ]
  },
  {
   "cell_type": "code",
   "execution_count": 15,
   "id": "fantastic-effect",
   "metadata": {
    "execution": {
     "iopub.execute_input": "2021-12-22T12:12:40.297238Z",
     "iopub.status.busy": "2021-12-22T12:12:40.296665Z",
     "iopub.status.idle": "2021-12-22T12:12:40.317819Z",
     "shell.execute_reply": "2021-12-22T12:12:40.317311Z"
    },
    "papermill": {
     "duration": 0.060339,
     "end_time": "2021-12-22T12:12:40.317951",
     "exception": false,
     "start_time": "2021-12-22T12:12:40.257612",
     "status": "completed"
    },
    "tags": []
   },
   "outputs": [
    {
     "data": {
      "text/html": [
       "<div>\n",
       "<style scoped>\n",
       "    .dataframe tbody tr th:only-of-type {\n",
       "        vertical-align: middle;\n",
       "    }\n",
       "\n",
       "    .dataframe tbody tr th {\n",
       "        vertical-align: top;\n",
       "    }\n",
       "\n",
       "    .dataframe thead th {\n",
       "        text-align: right;\n",
       "    }\n",
       "</style>\n",
       "<table border=\"1\" class=\"dataframe\">\n",
       "  <thead>\n",
       "    <tr style=\"text-align: right;\">\n",
       "      <th></th>\n",
       "      <th>Country/Region</th>\n",
       "      <th>Cases</th>\n",
       "      <th>Deaths</th>\n",
       "      <th>PCases</th>\n",
       "      <th>PDeaths</th>\n",
       "      <th>Cases (+)</th>\n",
       "      <th>Deaths (+)</th>\n",
       "      <th>Fatality Rate</th>\n",
       "      <th>Continent</th>\n",
       "    </tr>\n",
       "  </thead>\n",
       "  <tbody>\n",
       "    <tr>\n",
       "      <th>0</th>\n",
       "      <td>US</td>\n",
       "      <td>51272854</td>\n",
       "      <td>810045</td>\n",
       "      <td>51100782</td>\n",
       "      <td>807952</td>\n",
       "      <td>172072</td>\n",
       "      <td>2093</td>\n",
       "      <td>1.6</td>\n",
       "      <td>North America</td>\n",
       "    </tr>\n",
       "    <tr>\n",
       "      <th>1</th>\n",
       "      <td>India</td>\n",
       "      <td>34758481</td>\n",
       "      <td>478325</td>\n",
       "      <td>34752164</td>\n",
       "      <td>478007</td>\n",
       "      <td>6317</td>\n",
       "      <td>318</td>\n",
       "      <td>1.4</td>\n",
       "      <td>Asia</td>\n",
       "    </tr>\n",
       "    <tr>\n",
       "      <th>2</th>\n",
       "      <td>Brazil</td>\n",
       "      <td>22219477</td>\n",
       "      <td>617948</td>\n",
       "      <td>22215856</td>\n",
       "      <td>617873</td>\n",
       "      <td>3621</td>\n",
       "      <td>75</td>\n",
       "      <td>2.8</td>\n",
       "      <td>South America</td>\n",
       "    </tr>\n",
       "    <tr>\n",
       "      <th>3</th>\n",
       "      <td>United Kingdom</td>\n",
       "      <td>11607864</td>\n",
       "      <td>147896</td>\n",
       "      <td>11518255</td>\n",
       "      <td>147723</td>\n",
       "      <td>89609</td>\n",
       "      <td>173</td>\n",
       "      <td>1.3</td>\n",
       "      <td>Europe</td>\n",
       "    </tr>\n",
       "    <tr>\n",
       "      <th>4</th>\n",
       "      <td>Russia</td>\n",
       "      <td>10089945</td>\n",
       "      <td>293329</td>\n",
       "      <td>10064290</td>\n",
       "      <td>292331</td>\n",
       "      <td>25655</td>\n",
       "      <td>998</td>\n",
       "      <td>2.9</td>\n",
       "      <td>Europe</td>\n",
       "    </tr>\n",
       "  </tbody>\n",
       "</table>\n",
       "</div>"
      ],
      "text/plain": [
       "   Country/Region     Cases  Deaths    PCases  PDeaths  Cases (+)  Deaths (+)  \\\n",
       "0              US  51272854  810045  51100782   807952     172072        2093   \n",
       "1           India  34758481  478325  34752164   478007       6317         318   \n",
       "2          Brazil  22219477  617948  22215856   617873       3621          75   \n",
       "3  United Kingdom  11607864  147896  11518255   147723      89609         173   \n",
       "4          Russia  10089945  293329  10064290   292331      25655         998   \n",
       "\n",
       "   Fatality Rate      Continent  \n",
       "0            1.6  North America  \n",
       "1            1.4           Asia  \n",
       "2            2.8  South America  \n",
       "3            1.3         Europe  \n",
       "4            2.9         Europe  "
      ]
     },
     "execution_count": 15,
     "metadata": {},
     "output_type": "execute_result"
    }
   ],
   "source": [
    "#hide\n",
    "df_table = (pd.DataFrame(dict(Cases=dfc_cases, Deaths=dfc_deaths, PCases=dfp_cases, PDeaths=dfp_deaths))\n",
    "             .sort_values(by=['Cases', 'Deaths'], ascending=[False, False])\n",
    "             .reset_index())\n",
    "df_table.rename(columns={'index': 'Country/Region'}, inplace=True)\n",
    "for c in 'Cases, Deaths'.split(', '):\n",
    "    df_table[f'{c} (+)'] = (df_table[c] - df_table[f'P{c}']).clip(0)  # DATA BUG\n",
    "df_table['Fatality Rate'] = (100 * df_table['Deaths'] / df_table['Cases']).round(1)\n",
    "df_table['Continent'] = df_table['Country/Region'].map(mapping['map.continent'])\n",
    "df_table.head(5)"
   ]
  },
  {
   "cell_type": "code",
   "execution_count": 16,
   "id": "fewer-occasion",
   "metadata": {
    "execution": {
     "iopub.execute_input": "2021-12-22T12:12:40.390295Z",
     "iopub.status.busy": "2021-12-22T12:12:40.389752Z",
     "iopub.status.idle": "2021-12-22T12:12:40.392222Z",
     "shell.execute_reply": "2021-12-22T12:12:40.391804Z"
    },
    "papermill": {
     "duration": 0.042846,
     "end_time": "2021-12-22T12:12:40.392339",
     "exception": false,
     "start_time": "2021-12-22T12:12:40.349493",
     "status": "completed"
    },
    "tags": []
   },
   "outputs": [],
   "source": [
    "#hide\n",
    "#delete problematic countries from table\n",
    "df_table = df_table[~df_table['Country/Region'].isin(['Cape Verde', 'Cruise Ship', 'Kosovo'])]"
   ]
  },
  {
   "cell_type": "code",
   "execution_count": 17,
   "id": "related-center",
   "metadata": {
    "execution": {
     "iopub.execute_input": "2021-12-22T12:12:40.459834Z",
     "iopub.status.busy": "2021-12-22T12:12:40.459243Z",
     "iopub.status.idle": "2021-12-22T12:12:40.479083Z",
     "shell.execute_reply": "2021-12-22T12:12:40.479540Z"
    },
    "papermill": {
     "duration": 0.05584,
     "end_time": "2021-12-22T12:12:40.479690",
     "exception": false,
     "start_time": "2021-12-22T12:12:40.423850",
     "status": "completed"
    },
    "tags": []
   },
   "outputs": [],
   "source": [
    "#hide\n",
    "metrics = [df_table.columns[index] for index in [1,2,5,6]]\n",
    "# s_china = df_table[df_table['Country/Region'].eq('China')][metrics].sum().add_prefix('China ')\n",
    "s_us = df_table[df_table['Country/Region'].eq('US')][metrics].sum().add_prefix('US ')\n",
    "s_eu = df_table[df_table['Continent'].eq('Europe')][metrics].sum().add_prefix('EU ')\n",
    "s_ind = df_table[df_table['Country/Region'].eq('India')][metrics].sum().add_prefix('India ')\n",
    "summary = {'updated': pd.to_datetime(dt_today), 'since': pd.to_datetime(dt_yday)}\n",
    "summary = {'updated': pd.to_datetime(dt_today), 'since': pd.to_datetime(dt_yday)}\n",
    "summary = {**summary, **df_table[metrics].sum(), **s_ind, **s_us, **s_eu}"
   ]
  },
  {
   "cell_type": "code",
   "execution_count": 18,
   "id": "engaging-syndrome",
   "metadata": {
    "execution": {
     "iopub.execute_input": "2021-12-22T12:12:40.551744Z",
     "iopub.status.busy": "2021-12-22T12:12:40.551187Z",
     "iopub.status.idle": "2021-12-22T12:12:40.567759Z",
     "shell.execute_reply": "2021-12-22T12:12:40.568174Z"
    },
    "papermill": {
     "duration": 0.056291,
     "end_time": "2021-12-22T12:12:40.568317",
     "exception": false,
     "start_time": "2021-12-22T12:12:40.512026",
     "status": "completed"
    },
    "tags": []
   },
   "outputs": [],
   "source": [
    "#hide\n",
    "dft_ct_new_cases = dft_cases.groupby(COL_REGION)[dt_cols].sum().diff(axis=1).fillna(0).astype(int)"
   ]
  },
  {
   "cell_type": "code",
   "execution_count": 19,
   "id": "neutral-assignment",
   "metadata": {
    "execution": {
     "iopub.execute_input": "2021-12-22T12:12:40.630255Z",
     "iopub.status.busy": "2021-12-22T12:12:40.629621Z",
     "iopub.status.idle": "2021-12-22T12:12:40.631108Z",
     "shell.execute_reply": "2021-12-22T12:12:40.631493Z"
    },
    "papermill": {
     "duration": 0.036067,
     "end_time": "2021-12-22T12:12:40.631638",
     "exception": false,
     "start_time": "2021-12-22T12:12:40.595571",
     "status": "completed"
    },
    "tags": []
   },
   "outputs": [],
   "source": [
    "#hide\n",
    "everydaycases = dft_ct_new_cases.cumsum(axis=1)"
   ]
  },
  {
   "cell_type": "code",
   "execution_count": 20,
   "id": "parliamentary-calgary",
   "metadata": {
    "execution": {
     "iopub.execute_input": "2021-12-22T12:12:40.700385Z",
     "iopub.status.busy": "2021-12-22T12:12:40.699815Z",
     "iopub.status.idle": "2021-12-22T12:12:41.276264Z",
     "shell.execute_reply": "2021-12-22T12:12:41.275760Z"
    },
    "papermill": {
     "duration": 0.611094,
     "end_time": "2021-12-22T12:12:41.276457",
     "exception": false,
     "start_time": "2021-12-22T12:12:40.665363",
     "status": "completed"
    },
    "tags": []
   },
   "outputs": [],
   "source": [
    "#hide\n",
    "import pandas as pd\n",
    "import matplotlib.pyplot as plt\n",
    "import matplotlib.ticker as ticker\n",
    "import matplotlib.animation as animation\n",
    "from IPython.display import HTML"
   ]
  },
  {
   "cell_type": "code",
   "execution_count": 21,
   "id": "lasting-extraction",
   "metadata": {
    "execution": {
     "iopub.execute_input": "2021-12-22T12:12:41.346709Z",
     "iopub.status.busy": "2021-12-22T12:12:41.346124Z",
     "iopub.status.idle": "2021-12-22T12:12:41.352040Z",
     "shell.execute_reply": "2021-12-22T12:12:41.351611Z"
    },
    "papermill": {
     "duration": 0.043953,
     "end_time": "2021-12-22T12:12:41.352163",
     "exception": false,
     "start_time": "2021-12-22T12:12:41.308210",
     "status": "completed"
    },
    "tags": []
   },
   "outputs": [],
   "source": [
    "#hide\n",
    "t = everydaycases.stack()"
   ]
  },
  {
   "cell_type": "code",
   "execution_count": 22,
   "id": "premier-sleeve",
   "metadata": {
    "execution": {
     "iopub.execute_input": "2021-12-22T12:12:41.420904Z",
     "iopub.status.busy": "2021-12-22T12:12:41.420339Z",
     "iopub.status.idle": "2021-12-22T12:12:41.429617Z",
     "shell.execute_reply": "2021-12-22T12:12:41.429167Z"
    },
    "papermill": {
     "duration": 0.045285,
     "end_time": "2021-12-22T12:12:41.429770",
     "exception": false,
     "start_time": "2021-12-22T12:12:41.384485",
     "status": "completed"
    },
    "tags": []
   },
   "outputs": [],
   "source": [
    "#hide\n",
    "g = t.reset_index(['Country/Region'])"
   ]
  },
  {
   "cell_type": "code",
   "execution_count": 23,
   "id": "distributed-pittsburgh",
   "metadata": {
    "execution": {
     "iopub.execute_input": "2021-12-22T12:12:41.499383Z",
     "iopub.status.busy": "2021-12-22T12:12:41.498860Z",
     "iopub.status.idle": "2021-12-22T12:12:41.501089Z",
     "shell.execute_reply": "2021-12-22T12:12:41.500613Z"
    },
    "papermill": {
     "duration": 0.040263,
     "end_time": "2021-12-22T12:12:41.501195",
     "exception": false,
     "start_time": "2021-12-22T12:12:41.460932",
     "status": "completed"
    },
    "tags": []
   },
   "outputs": [],
   "source": [
    "#hide\n",
    "g.index.name = 'date'"
   ]
  },
  {
   "cell_type": "code",
   "execution_count": 24,
   "id": "naked-donor",
   "metadata": {
    "execution": {
     "iopub.execute_input": "2021-12-22T12:12:41.559890Z",
     "iopub.status.busy": "2021-12-22T12:12:41.559239Z",
     "iopub.status.idle": "2021-12-22T12:12:41.562759Z",
     "shell.execute_reply": "2021-12-22T12:12:41.563161Z"
    },
    "papermill": {
     "duration": 0.034946,
     "end_time": "2021-12-22T12:12:41.563333",
     "exception": false,
     "start_time": "2021-12-22T12:12:41.528387",
     "status": "completed"
    },
    "tags": []
   },
   "outputs": [],
   "source": [
    "# #hide\n",
    "# g = g.reset_index(['date'])"
   ]
  },
  {
   "cell_type": "code",
   "execution_count": 25,
   "id": "incomplete-mustang",
   "metadata": {
    "execution": {
     "iopub.execute_input": "2021-12-22T12:12:41.636838Z",
     "iopub.status.busy": "2021-12-22T12:12:41.636263Z",
     "iopub.status.idle": "2021-12-22T12:12:41.638224Z",
     "shell.execute_reply": "2021-12-22T12:12:41.637688Z"
    },
    "papermill": {
     "duration": 0.04174,
     "end_time": "2021-12-22T12:12:41.638346",
     "exception": false,
     "start_time": "2021-12-22T12:12:41.596606",
     "status": "completed"
    },
    "tags": []
   },
   "outputs": [],
   "source": [
    "#hide\n",
    "# g.head()"
   ]
  },
  {
   "cell_type": "code",
   "execution_count": 26,
   "id": "specific-kruger",
   "metadata": {
    "execution": {
     "iopub.execute_input": "2021-12-22T12:12:41.704295Z",
     "iopub.status.busy": "2021-12-22T12:12:41.703784Z",
     "iopub.status.idle": "2021-12-22T12:12:41.705752Z",
     "shell.execute_reply": "2021-12-22T12:12:41.705257Z"
    },
    "papermill": {
     "duration": 0.03586,
     "end_time": "2021-12-22T12:12:41.705863",
     "exception": false,
     "start_time": "2021-12-22T12:12:41.670003",
     "status": "completed"
    },
    "tags": []
   },
   "outputs": [],
   "source": [
    "#hide\n",
    "# g.columns = ['date','country','cases']"
   ]
  },
  {
   "cell_type": "code",
   "execution_count": 27,
   "id": "tender-conversion",
   "metadata": {
    "execution": {
     "iopub.execute_input": "2021-12-22T12:12:41.763944Z",
     "iopub.status.busy": "2021-12-22T12:12:41.763421Z",
     "iopub.status.idle": "2021-12-22T12:12:41.765308Z",
     "shell.execute_reply": "2021-12-22T12:12:41.764839Z"
    },
    "papermill": {
     "duration": 0.03254,
     "end_time": "2021-12-22T12:12:41.765415",
     "exception": false,
     "start_time": "2021-12-22T12:12:41.732875",
     "status": "completed"
    },
    "tags": []
   },
   "outputs": [],
   "source": [
    "#hide\n",
    "# g['continent'] = g.country"
   ]
  },
  {
   "cell_type": "code",
   "execution_count": 28,
   "id": "substantial-wilderness",
   "metadata": {
    "execution": {
     "iopub.execute_input": "2021-12-22T12:12:41.833324Z",
     "iopub.status.busy": "2021-12-22T12:12:41.832679Z",
     "iopub.status.idle": "2021-12-22T12:12:41.835305Z",
     "shell.execute_reply": "2021-12-22T12:12:41.834799Z"
    },
    "papermill": {
     "duration": 0.03808,
     "end_time": "2021-12-22T12:12:41.835433",
     "exception": false,
     "start_time": "2021-12-22T12:12:41.797353",
     "status": "completed"
    },
    "tags": []
   },
   "outputs": [],
   "source": [
    "#hide\n",
    "# cols = list(g.columns.values)"
   ]
  },
  {
   "cell_type": "code",
   "execution_count": 29,
   "id": "solved-farming",
   "metadata": {
    "execution": {
     "iopub.execute_input": "2021-12-22T12:12:41.894420Z",
     "iopub.status.busy": "2021-12-22T12:12:41.893933Z",
     "iopub.status.idle": "2021-12-22T12:12:41.895720Z",
     "shell.execute_reply": "2021-12-22T12:12:41.896149Z"
    },
    "papermill": {
     "duration": 0.032911,
     "end_time": "2021-12-22T12:12:41.896273",
     "exception": false,
     "start_time": "2021-12-22T12:12:41.863362",
     "status": "completed"
    },
    "tags": []
   },
   "outputs": [],
   "source": [
    "#hide\n",
    "# cols.insert(0, cols.pop())"
   ]
  },
  {
   "cell_type": "code",
   "execution_count": 30,
   "id": "executed-adoption",
   "metadata": {
    "execution": {
     "iopub.execute_input": "2021-12-22T12:12:41.954506Z",
     "iopub.status.busy": "2021-12-22T12:12:41.953877Z",
     "iopub.status.idle": "2021-12-22T12:12:41.956101Z",
     "shell.execute_reply": "2021-12-22T12:12:41.956531Z"
    },
    "papermill": {
     "duration": 0.033386,
     "end_time": "2021-12-22T12:12:41.956685",
     "exception": false,
     "start_time": "2021-12-22T12:12:41.923299",
     "status": "completed"
    },
    "tags": []
   },
   "outputs": [],
   "source": [
    "#hide\n",
    "# g = g[cols]"
   ]
  },
  {
   "cell_type": "code",
   "execution_count": 31,
   "id": "subject-dublin",
   "metadata": {
    "execution": {
     "iopub.execute_input": "2021-12-22T12:12:42.016486Z",
     "iopub.status.busy": "2021-12-22T12:12:42.015794Z",
     "iopub.status.idle": "2021-12-22T12:12:42.017064Z",
     "shell.execute_reply": "2021-12-22T12:12:42.017465Z"
    },
    "papermill": {
     "duration": 0.032862,
     "end_time": "2021-12-22T12:12:42.017598",
     "exception": false,
     "start_time": "2021-12-22T12:12:41.984736",
     "status": "completed"
    },
    "tags": []
   },
   "outputs": [],
   "source": [
    "#hide\n",
    "# g['continent'] = g['continent'].map(mapping['map.continent'])"
   ]
  },
  {
   "cell_type": "code",
   "execution_count": 32,
   "id": "freelance-scout",
   "metadata": {
    "execution": {
     "iopub.execute_input": "2021-12-22T12:12:42.086397Z",
     "iopub.status.busy": "2021-12-22T12:12:42.085836Z",
     "iopub.status.idle": "2021-12-22T12:12:42.088224Z",
     "shell.execute_reply": "2021-12-22T12:12:42.088617Z"
    },
    "papermill": {
     "duration": 0.040169,
     "end_time": "2021-12-22T12:12:42.088760",
     "exception": false,
     "start_time": "2021-12-22T12:12:42.048591",
     "status": "completed"
    },
    "tags": []
   },
   "outputs": [],
   "source": [
    "#hide\n",
    "# g.head()"
   ]
  },
  {
   "cell_type": "code",
   "execution_count": 33,
   "id": "limited-engine",
   "metadata": {
    "execution": {
     "iopub.execute_input": "2021-12-22T12:12:42.162684Z",
     "iopub.status.busy": "2021-12-22T12:12:42.162027Z",
     "iopub.status.idle": "2021-12-22T12:12:42.164361Z",
     "shell.execute_reply": "2021-12-22T12:12:42.164809Z"
    },
    "papermill": {
     "duration": 0.042263,
     "end_time": "2021-12-22T12:12:42.164971",
     "exception": false,
     "start_time": "2021-12-22T12:12:42.122708",
     "status": "completed"
    },
    "tags": []
   },
   "outputs": [],
   "source": [
    "# hide\n",
    "# g['date'] = g['date'].astype('datetime64[ns]')"
   ]
  },
  {
   "cell_type": "code",
   "execution_count": 34,
   "id": "sophisticated-supervisor",
   "metadata": {
    "execution": {
     "iopub.execute_input": "2021-12-22T12:12:42.237236Z",
     "iopub.status.busy": "2021-12-22T12:12:42.236745Z",
     "iopub.status.idle": "2021-12-22T12:12:42.240304Z",
     "shell.execute_reply": "2021-12-22T12:12:42.239928Z"
    },
    "papermill": {
     "duration": 0.040073,
     "end_time": "2021-12-22T12:12:42.240415",
     "exception": false,
     "start_time": "2021-12-22T12:12:42.200342",
     "status": "completed"
    },
    "tags": []
   },
   "outputs": [],
   "source": [
    "#hide\n",
    "# g['date'] = g.date.dt.dayofyear"
   ]
  },
  {
   "cell_type": "code",
   "execution_count": 35,
   "id": "inside-dubai",
   "metadata": {
    "execution": {
     "iopub.execute_input": "2021-12-22T12:12:42.298229Z",
     "iopub.status.busy": "2021-12-22T12:12:42.297702Z",
     "iopub.status.idle": "2021-12-22T12:12:42.299783Z",
     "shell.execute_reply": "2021-12-22T12:12:42.299256Z"
    },
    "papermill": {
     "duration": 0.032368,
     "end_time": "2021-12-22T12:12:42.299898",
     "exception": false,
     "start_time": "2021-12-22T12:12:42.267530",
     "status": "completed"
    },
    "tags": []
   },
   "outputs": [],
   "source": [
    "#hide\n",
    "# g = g.rename(columns= {'continent':'group','country':'name','cases':'value'})"
   ]
  },
  {
   "cell_type": "code",
   "execution_count": 36,
   "id": "fleet-motorcycle",
   "metadata": {
    "execution": {
     "iopub.execute_input": "2021-12-22T12:12:42.368613Z",
     "iopub.status.busy": "2021-12-22T12:12:42.367994Z",
     "iopub.status.idle": "2021-12-22T12:12:42.371535Z",
     "shell.execute_reply": "2021-12-22T12:12:42.371883Z"
    },
    "papermill": {
     "duration": 0.039333,
     "end_time": "2021-12-22T12:12:42.372011",
     "exception": false,
     "start_time": "2021-12-22T12:12:42.332678",
     "status": "completed"
    },
    "tags": []
   },
   "outputs": [],
   "source": [
    "#hide\n",
    "# cols = ['name','group','day','value']"
   ]
  },
  {
   "cell_type": "code",
   "execution_count": 37,
   "id": "continued-sleeping",
   "metadata": {
    "execution": {
     "iopub.execute_input": "2021-12-22T12:12:42.430299Z",
     "iopub.status.busy": "2021-12-22T12:12:42.429622Z",
     "iopub.status.idle": "2021-12-22T12:12:42.431504Z",
     "shell.execute_reply": "2021-12-22T12:12:42.430920Z"
    },
    "papermill": {
     "duration": 0.032663,
     "end_time": "2021-12-22T12:12:42.431634",
     "exception": false,
     "start_time": "2021-12-22T12:12:42.398971",
     "status": "completed"
    },
    "tags": []
   },
   "outputs": [],
   "source": [
    "#hide\n",
    "# g.rename(columns= {'date':'day'},inplace = True)"
   ]
  },
  {
   "cell_type": "code",
   "execution_count": 38,
   "id": "major-fight",
   "metadata": {
    "execution": {
     "iopub.execute_input": "2021-12-22T12:12:42.504453Z",
     "iopub.status.busy": "2021-12-22T12:12:42.503930Z",
     "iopub.status.idle": "2021-12-22T12:12:42.507003Z",
     "shell.execute_reply": "2021-12-22T12:12:42.507350Z"
    },
    "papermill": {
     "duration": 0.044524,
     "end_time": "2021-12-22T12:12:42.507477",
     "exception": false,
     "start_time": "2021-12-22T12:12:42.462953",
     "status": "completed"
    },
    "tags": []
   },
   "outputs": [],
   "source": [
    "#hide\n",
    "# g = g[cols]"
   ]
  },
  {
   "cell_type": "code",
   "execution_count": 39,
   "id": "structured-mobile",
   "metadata": {
    "execution": {
     "iopub.execute_input": "2021-12-22T12:12:42.565192Z",
     "iopub.status.busy": "2021-12-22T12:12:42.564574Z",
     "iopub.status.idle": "2021-12-22T12:12:42.566264Z",
     "shell.execute_reply": "2021-12-22T12:12:42.565751Z"
    },
    "papermill": {
     "duration": 0.032089,
     "end_time": "2021-12-22T12:12:42.566376",
     "exception": false,
     "start_time": "2021-12-22T12:12:42.534287",
     "status": "completed"
    },
    "tags": []
   },
   "outputs": [],
   "source": [
    "# #hide\n",
    "# g = g[g.group.notna()]"
   ]
  },
  {
   "cell_type": "code",
   "execution_count": 40,
   "id": "determined-closing",
   "metadata": {
    "execution": {
     "iopub.execute_input": "2021-12-22T12:12:42.635187Z",
     "iopub.status.busy": "2021-12-22T12:12:42.634673Z",
     "iopub.status.idle": "2021-12-22T12:12:42.636978Z",
     "shell.execute_reply": "2021-12-22T12:12:42.636598Z"
    },
    "papermill": {
     "duration": 0.037709,
     "end_time": "2021-12-22T12:12:42.637086",
     "exception": false,
     "start_time": "2021-12-22T12:12:42.599377",
     "status": "completed"
    },
    "tags": []
   },
   "outputs": [],
   "source": [
    "# #hide\n",
    "# colors = dict(zip(\n",
    "#     [\"Oceania\", \"Europe\", \"Asia\", \"South America\", \"Middle East\", \"North America\", \"Africa\"],\n",
    "#     [\"#adb0ff\", \"#ffb3ff\", \"#90d595\", \"#e48381\", \"#aafbff\", \"#f7bb5f\", \"#eafb50\"]\n",
    "# ))\n",
    "# group_lk = g.set_index('name')['group'].to_dict()"
   ]
  },
  {
   "cell_type": "code",
   "execution_count": null,
   "id": "gross-drinking",
   "metadata": {
    "papermill": {
     "duration": 0.026942,
     "end_time": "2021-12-22T12:12:42.691026",
     "exception": false,
     "start_time": "2021-12-22T12:12:42.664084",
     "status": "completed"
    },
    "tags": []
   },
   "outputs": [],
   "source": []
  },
  {
   "cell_type": "code",
   "execution_count": 41,
   "id": "subject-macintosh",
   "metadata": {
    "execution": {
     "iopub.execute_input": "2021-12-22T12:12:42.750011Z",
     "iopub.status.busy": "2021-12-22T12:12:42.749389Z",
     "iopub.status.idle": "2021-12-22T12:12:42.751088Z",
     "shell.execute_reply": "2021-12-22T12:12:42.750572Z"
    },
    "papermill": {
     "duration": 0.03304,
     "end_time": "2021-12-22T12:12:42.751204",
     "exception": false,
     "start_time": "2021-12-22T12:12:42.718164",
     "status": "completed"
    },
    "tags": []
   },
   "outputs": [],
   "source": [
    "# #hide\n",
    "# fig, ax = plt.subplots(figsize=(15, 8))\n",
    "\n",
    "# def draw_barchart(current_day):\n",
    "#     dff = g[g['day'].eq(current_day)].sort_values(by='value', ascending=True).tail(10)\n",
    "#     ax.clear()\n",
    "#     ax.barh(dff['name'], dff['value'], color=[colors[group_lk[x]] for x in dff['name']])\n",
    "#     dx = dff['value'].max() / 200\n",
    "    \n",
    "#     for i, (value, name) in enumerate(zip(dff['value'], dff['name'])):\n",
    "#         ax.text(value-dx, i,     name,           size=14, weight=600, ha='right', va='bottom')\n",
    "#         ax.text(value-dx, i-.25, group_lk[name], size=10, color='#444444', ha='right', va='baseline')\n",
    "#         ax.text(value+dx, i,     f'{value:,.0f}',  size=14, ha='left',  va='center')\n",
    "#     ax.text(1, 0.4, current_day, transform=ax.transAxes, color='#777777', size=46, ha='right', weight=800)\n",
    "#     ax.text(0, 1.06, 'Population (thousands)', transform=ax.transAxes, size=12, color='#777777')\n",
    "#     ax.xaxis.set_major_formatter(ticker.StrMethodFormatter('{x:,.0f}'))\n",
    "#     ax.xaxis.set_ticks_position('top')\n",
    "#     ax.tick_params(axis='x', colors='#777777', labelsize=12)\n",
    "#     ax.set_yticks([])\n",
    "#     ax.margins(0, 0.01)\n",
    "#     ax.grid(which='major', axis='x', linestyle='-')\n",
    "#     ax.set_axisbelow(True)\n",
    "    \n",
    "#     ax.text(0, 1.15, 'Coronavirus',\n",
    "#             transform=ax.transAxes, size=24, weight=600, ha='left', va='top')\n",
    "# #     ax.text(1, 0, 'by @pratapvardhan; credit @jburnmurdoch', transform=ax.transAxes, color='#777777', ha='right',\n",
    "# #             bbox=dict(facecolor='white', alpha=0.8, edgecolor='white'))\n",
    "#     plt.box(False)"
   ]
  },
  {
   "cell_type": "code",
   "execution_count": 42,
   "id": "sexual-wages",
   "metadata": {
    "execution": {
     "iopub.execute_input": "2021-12-22T12:12:42.822579Z",
     "iopub.status.busy": "2021-12-22T12:12:42.821933Z",
     "iopub.status.idle": "2021-12-22T12:12:42.824748Z",
     "shell.execute_reply": "2021-12-22T12:12:42.824253Z"
    },
    "papermill": {
     "duration": 0.042079,
     "end_time": "2021-12-22T12:12:42.824888",
     "exception": false,
     "start_time": "2021-12-22T12:12:42.782809",
     "status": "completed"
    },
    "tags": []
   },
   "outputs": [],
   "source": [
    "# #hide_input\n",
    "# fig, ax = plt.subplots(figsize=(15, 8))\n",
    "# animator = animation.FuncAnimation(fig, draw_barchart, frames=range(g.day.values.min(), g.day.values.max()))\n",
    "# HTML(animator.to_jshtml())\n",
    "# # or use animator.to_html5_video() or animator.save() "
   ]
  },
  {
   "cell_type": "code",
   "execution_count": null,
   "id": "australian-container",
   "metadata": {
    "papermill": {
     "duration": 0.031844,
     "end_time": "2021-12-22T12:12:42.889525",
     "exception": false,
     "start_time": "2021-12-22T12:12:42.857681",
     "status": "completed"
    },
    "tags": []
   },
   "outputs": [],
   "source": []
  },
  {
   "cell_type": "code",
   "execution_count": null,
   "id": "mediterranean-pontiac",
   "metadata": {
    "papermill": {
     "duration": 0.027057,
     "end_time": "2021-12-22T12:12:42.943696",
     "exception": false,
     "start_time": "2021-12-22T12:12:42.916639",
     "status": "completed"
    },
    "tags": []
   },
   "outputs": [],
   "source": []
  },
  {
   "cell_type": "code",
   "execution_count": null,
   "id": "aging-legislature",
   "metadata": {
    "papermill": {
     "duration": 0.02699,
     "end_time": "2021-12-22T12:12:42.998005",
     "exception": false,
     "start_time": "2021-12-22T12:12:42.971015",
     "status": "completed"
    },
    "tags": []
   },
   "outputs": [],
   "source": []
  }
 ],
 "metadata": {
  "kernelspec": {
   "display_name": "Python 3",
   "language": "python",
   "name": "python3"
  },
  "language_info": {
   "codemirror_mode": {
    "name": "ipython",
    "version": 3
   },
   "file_extension": ".py",
   "mimetype": "text/x-python",
   "name": "python",
   "nbconvert_exporter": "python",
   "pygments_lexer": "ipython3",
   "version": "3.6.15"
  },
  "papermill": {
   "duration": 6.142063,
   "end_time": "2021-12-22T12:12:43.433464",
   "environment_variables": {},
   "exception": null,
   "input_path": "2020-03-21-covid19exp.ipynb",
   "output_path": "2020-03-21-covid19exp.ipynb",
   "parameters": {},
   "start_time": "2021-12-22T12:12:37.291401",
   "version": "2.0.0"
  }
 },
 "nbformat": 4,
 "nbformat_minor": 5
}