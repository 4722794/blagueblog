{
 "cells": [
  {
   "cell_type": "markdown",
   "id": "muslim-click",
   "metadata": {
    "papermill": {
     "duration": 0.039906,
     "end_time": "2022-09-17T12:17:08.029813",
     "exception": false,
     "start_time": "2022-09-17T12:17:07.989907",
     "status": "completed"
    },
    "tags": []
   },
   "source": [
    "# COVID-19 Case Race\n",
    "> A race chart to see rising cases around the world\n",
    "\n",
    "- author: Hargun Oberoi\n",
    "- image: images/covid-overview.png\n",
    "- hide: false\n",
    "- badges: false"
   ]
  },
  {
   "cell_type": "code",
   "execution_count": 1,
   "id": "proof-material",
   "metadata": {
    "execution": {
     "iopub.execute_input": "2022-09-17T12:17:08.107510Z",
     "iopub.status.busy": "2022-09-17T12:17:08.106816Z",
     "iopub.status.idle": "2022-09-17T12:17:08.517603Z",
     "shell.execute_reply": "2022-09-17T12:17:08.516850Z"
    },
    "papermill": {
     "duration": 0.454979,
     "end_time": "2022-09-17T12:17:08.517748",
     "exception": false,
     "start_time": "2022-09-17T12:17:08.062769",
     "status": "completed"
    },
    "tags": []
   },
   "outputs": [],
   "source": [
    "#hide\n",
    "import numpy as np\n",
    "import pandas as pd\n",
    "from jinja2 import Template\n",
    "from IPython.display import HTML"
   ]
  },
  {
   "cell_type": "code",
   "execution_count": 2,
   "id": "developed-terminology",
   "metadata": {
    "execution": {
     "iopub.execute_input": "2022-09-17T12:17:08.592899Z",
     "iopub.status.busy": "2022-09-17T12:17:08.592196Z",
     "iopub.status.idle": "2022-09-17T12:17:08.595002Z",
     "shell.execute_reply": "2022-09-17T12:17:08.594457Z"
    },
    "papermill": {
     "duration": 0.044667,
     "end_time": "2022-09-17T12:17:08.595123",
     "exception": false,
     "start_time": "2022-09-17T12:17:08.550456",
     "status": "completed"
    },
    "tags": []
   },
   "outputs": [],
   "source": [
    "#hide\n",
    "\n",
    "# FETCH\n",
    "base_url = 'https://raw.githubusercontent.com/pratapvardhan/notebooks/master/covid19/'\n",
    "paths = {\n",
    "    'mapping': base_url + 'mapping_countries.csv',\n",
    "    'overview': base_url + 'overview.tpl'\n",
    "}"
   ]
  },
  {
   "cell_type": "code",
   "execution_count": 3,
   "id": "dynamic-saver",
   "metadata": {
    "execution": {
     "iopub.execute_input": "2022-09-17T12:17:08.673613Z",
     "iopub.status.busy": "2022-09-17T12:17:08.670714Z",
     "iopub.status.idle": "2022-09-17T12:17:08.677928Z",
     "shell.execute_reply": "2022-09-17T12:17:08.677264Z"
    },
    "papermill": {
     "duration": 0.048471,
     "end_time": "2022-09-17T12:17:08.678048",
     "exception": false,
     "start_time": "2022-09-17T12:17:08.629577",
     "status": "completed"
    },
    "tags": []
   },
   "outputs": [
    {
     "data": {
      "text/plain": [
       "'https://raw.githubusercontent.com/pratapvardhan/notebooks/master/covid19/mapping_countries.csv'"
      ]
     },
     "execution_count": 3,
     "metadata": {},
     "output_type": "execute_result"
    }
   ],
   "source": [
    "#hide\n",
    "paths['mapping']"
   ]
  },
  {
   "cell_type": "code",
   "execution_count": 4,
   "id": "urban-software",
   "metadata": {
    "execution": {
     "iopub.execute_input": "2022-09-17T12:17:08.757299Z",
     "iopub.status.busy": "2022-09-17T12:17:08.756584Z",
     "iopub.status.idle": "2022-09-17T12:17:08.759508Z",
     "shell.execute_reply": "2022-09-17T12:17:08.762093Z"
    },
    "papermill": {
     "duration": 0.046731,
     "end_time": "2022-09-17T12:17:08.762250",
     "exception": false,
     "start_time": "2022-09-17T12:17:08.715519",
     "status": "completed"
    },
    "tags": []
   },
   "outputs": [],
   "source": [
    "#hide\n",
    "def get_mappings(url):\n",
    "    df = pd.read_csv(url)\n",
    "    return {\n",
    "        'df': df,\n",
    "        'replace.country': dict(df.dropna(subset=['Name']).set_index('Country')['Name']),\n",
    "        'map.continent': dict(df.set_index('Name')['Continent'])\n",
    "    }"
   ]
  },
  {
   "cell_type": "code",
   "execution_count": 5,
   "id": "intimate-machinery",
   "metadata": {
    "execution": {
     "iopub.execute_input": "2022-09-17T12:17:08.837904Z",
     "iopub.status.busy": "2022-09-17T12:17:08.837148Z",
     "iopub.status.idle": "2022-09-17T12:17:08.888324Z",
     "shell.execute_reply": "2022-09-17T12:17:08.887339Z"
    },
    "papermill": {
     "duration": 0.091185,
     "end_time": "2022-09-17T12:17:08.889005",
     "exception": false,
     "start_time": "2022-09-17T12:17:08.797820",
     "status": "completed"
    },
    "tags": []
   },
   "outputs": [],
   "source": [
    "#hide\n",
    "mapping = get_mappings(paths['mapping'])"
   ]
  },
  {
   "cell_type": "code",
   "execution_count": 6,
   "id": "certified-tactics",
   "metadata": {
    "execution": {
     "iopub.execute_input": "2022-09-17T12:17:08.966197Z",
     "iopub.status.busy": "2022-09-17T12:17:08.965610Z",
     "iopub.status.idle": "2022-09-17T12:17:08.968843Z",
     "shell.execute_reply": "2022-09-17T12:17:08.968288Z"
    },
    "papermill": {
     "duration": 0.040329,
     "end_time": "2022-09-17T12:17:08.968974",
     "exception": false,
     "start_time": "2022-09-17T12:17:08.928645",
     "status": "completed"
    },
    "tags": []
   },
   "outputs": [],
   "source": [
    "#hide\n",
    "def get_template(path):\n",
    "    from urllib.parse import urlparse\n",
    "    if bool(urlparse(path).netloc):\n",
    "        from urllib.request import urlopen\n",
    "        return urlopen(path).read().decode('utf8')\n",
    "    return open(path).read()"
   ]
  },
  {
   "cell_type": "code",
   "execution_count": 7,
   "id": "realistic-blast",
   "metadata": {
    "execution": {
     "iopub.execute_input": "2022-09-17T12:17:09.046506Z",
     "iopub.status.busy": "2022-09-17T12:17:09.045737Z",
     "iopub.status.idle": "2022-09-17T12:17:09.051108Z",
     "shell.execute_reply": "2022-09-17T12:17:09.050556Z"
    },
    "papermill": {
     "duration": 0.04788,
     "end_time": "2022-09-17T12:17:09.051235",
     "exception": false,
     "start_time": "2022-09-17T12:17:09.003355",
     "status": "completed"
    },
    "tags": []
   },
   "outputs": [],
   "source": [
    "#hide\n",
    "def get_frame(name):\n",
    "    url = (\n",
    "        'https://raw.githubusercontent.com/CSSEGISandData/COVID-19/master/csse_covid_19_data/'\n",
    "        f'csse_covid_19_time_series/time_series_covid19_{name}_global.csv')\n",
    "    df = pd.read_csv(url)\n",
    "    # rename countries\n",
    "    df['Country/Region'] = df['Country/Region'].replace(mapping['replace.country'])\n",
    "    return df"
   ]
  },
  {
   "cell_type": "code",
   "execution_count": 8,
   "id": "affiliated-characterization",
   "metadata": {
    "execution": {
     "iopub.execute_input": "2022-09-17T12:17:09.137270Z",
     "iopub.status.busy": "2022-09-17T12:17:09.136156Z",
     "iopub.status.idle": "2022-09-17T12:17:09.137997Z",
     "shell.execute_reply": "2022-09-17T12:17:09.138465Z"
    },
    "papermill": {
     "duration": 0.050248,
     "end_time": "2022-09-17T12:17:09.138602",
     "exception": false,
     "start_time": "2022-09-17T12:17:09.088354",
     "status": "completed"
    },
    "tags": []
   },
   "outputs": [],
   "source": [
    "#hide\n",
    "def get_dates(df):\n",
    "    dt_cols = df.columns[~df.columns.isin(['Province/State', 'Country/Region', 'Lat', 'Long'])]\n",
    "    LAST_DATE_I = -1\n",
    "    # sometimes last column may be empty, then go backwards\n",
    "    for i in range(-1, -len(dt_cols), -1):\n",
    "        if not df[dt_cols[i]].fillna(0).eq(0).all():\n",
    "            LAST_DATE_I = i\n",
    "            break\n",
    "    return LAST_DATE_I, dt_cols"
   ]
  },
  {
   "cell_type": "code",
   "execution_count": 9,
   "id": "recent-optimization",
   "metadata": {
    "execution": {
     "iopub.execute_input": "2022-09-17T12:17:09.218893Z",
     "iopub.status.busy": "2022-09-17T12:17:09.218200Z",
     "iopub.status.idle": "2022-09-17T12:17:09.836994Z",
     "shell.execute_reply": "2022-09-17T12:17:09.836266Z"
    },
    "papermill": {
     "duration": 0.659594,
     "end_time": "2022-09-17T12:17:09.837153",
     "exception": false,
     "start_time": "2022-09-17T12:17:09.177559",
     "status": "completed"
    },
    "tags": []
   },
   "outputs": [],
   "source": [
    "#hide\n",
    "COL_REGION = 'Country/Region'\n",
    "# Confirmed, Recovered, Deaths\n",
    "df = get_frame('confirmed')\n",
    "# dft_: timeseries, dfc_: today country agg\n",
    "dft_cases = df\n",
    "dft_deaths = get_frame('deaths')\n",
    "dft_recovered = get_frame('recovered')\n",
    "LAST_DATE_I, dt_cols = get_dates(df)"
   ]
  },
  {
   "cell_type": "code",
   "execution_count": 10,
   "id": "absolute-copper",
   "metadata": {
    "execution": {
     "iopub.execute_input": "2022-09-17T12:17:09.914846Z",
     "iopub.status.busy": "2022-09-17T12:17:09.914129Z",
     "iopub.status.idle": "2022-09-17T12:17:09.918885Z",
     "shell.execute_reply": "2022-09-17T12:17:09.918300Z"
    },
    "papermill": {
     "duration": 0.045006,
     "end_time": "2022-09-17T12:17:09.919009",
     "exception": false,
     "start_time": "2022-09-17T12:17:09.874003",
     "status": "completed"
    },
    "tags": []
   },
   "outputs": [],
   "source": [
    "#hide\n",
    "LAST_DATE_I, dt_cols = get_dates(df)\n",
    "dt_today =dt_cols[LAST_DATE_I]\n",
    "# dt_5day = dt_cols[LAST_DATE_I - 5]\n",
    "dt_yday = dt_cols[LAST_DATE_I - 1]"
   ]
  },
  {
   "cell_type": "code",
   "execution_count": 11,
   "id": "restricted-sheriff",
   "metadata": {
    "execution": {
     "iopub.execute_input": "2022-09-17T12:17:09.999409Z",
     "iopub.status.busy": "2022-09-17T12:17:09.996194Z",
     "iopub.status.idle": "2022-09-17T12:17:10.003859Z",
     "shell.execute_reply": "2022-09-17T12:17:10.003300Z"
    },
    "papermill": {
     "duration": 0.053367,
     "end_time": "2022-09-17T12:17:10.003988",
     "exception": false,
     "start_time": "2022-09-17T12:17:09.950621",
     "status": "completed"
    },
    "tags": []
   },
   "outputs": [],
   "source": [
    "#hide\n",
    "dfc_cases = dft_cases.groupby(COL_REGION)[dt_today].sum()\n",
    "dfc_deaths = dft_deaths.groupby(COL_REGION)[dt_today].sum()\n",
    "# dfp_cases = dft_cases.groupby(COL_REGION)[dt_5day].sum()\n",
    "# dfp_deaths = dft_deaths.groupby(COL_REGION)[dt_5day].sum()\n",
    "dfp_cases = dft_cases.groupby(COL_REGION)[dt_yday].sum()\n",
    "dfp_deaths = dft_deaths.groupby(COL_REGION)[dt_yday].sum()"
   ]
  },
  {
   "cell_type": "code",
   "execution_count": 12,
   "id": "deluxe-hepatitis",
   "metadata": {
    "execution": {
     "iopub.execute_input": "2022-09-17T12:17:10.086278Z",
     "iopub.status.busy": "2022-09-17T12:17:10.085372Z",
     "iopub.status.idle": "2022-09-17T12:17:10.091089Z",
     "shell.execute_reply": "2022-09-17T12:17:10.090536Z"
    },
    "papermill": {
     "duration": 0.053991,
     "end_time": "2022-09-17T12:17:10.091218",
     "exception": false,
     "start_time": "2022-09-17T12:17:10.037227",
     "status": "completed"
    },
    "tags": []
   },
   "outputs": [],
   "source": [
    "#hide\n",
    "df_table = (pd.DataFrame(dict(Cases = dfc_cases, Deaths = dfc_deaths, PCases = dfp_cases, PDeaths = dfp_deaths))\n",
    "            .sort_values(by = ['Cases','Deaths'], ascending = [False, False])\n",
    "            .reset_index())"
   ]
  },
  {
   "cell_type": "code",
   "execution_count": 13,
   "id": "educational-chancellor",
   "metadata": {
    "execution": {
     "iopub.execute_input": "2022-09-17T12:17:10.178253Z",
     "iopub.status.busy": "2022-09-17T12:17:10.177569Z",
     "iopub.status.idle": "2022-09-17T12:17:10.188237Z",
     "shell.execute_reply": "2022-09-17T12:17:10.187657Z"
    },
    "papermill": {
     "duration": 0.065041,
     "end_time": "2022-09-17T12:17:10.188378",
     "exception": false,
     "start_time": "2022-09-17T12:17:10.123337",
     "status": "completed"
    },
    "tags": []
   },
   "outputs": [
    {
     "data": {
      "text/html": [
       "<div>\n",
       "<style scoped>\n",
       "    .dataframe tbody tr th:only-of-type {\n",
       "        vertical-align: middle;\n",
       "    }\n",
       "\n",
       "    .dataframe tbody tr th {\n",
       "        vertical-align: top;\n",
       "    }\n",
       "\n",
       "    .dataframe thead th {\n",
       "        text-align: right;\n",
       "    }\n",
       "</style>\n",
       "<table border=\"1\" class=\"dataframe\">\n",
       "  <thead>\n",
       "    <tr style=\"text-align: right;\">\n",
       "      <th></th>\n",
       "      <th>Country/Region</th>\n",
       "      <th>Cases</th>\n",
       "      <th>Deaths</th>\n",
       "      <th>PCases</th>\n",
       "      <th>PDeaths</th>\n",
       "      <th>Cases (+)</th>\n",
       "      <th>Deaths (+)</th>\n",
       "      <th>Fatality Rate</th>\n",
       "      <th>Continent</th>\n",
       "    </tr>\n",
       "  </thead>\n",
       "  <tbody>\n",
       "    <tr>\n",
       "      <th>0</th>\n",
       "      <td>US</td>\n",
       "      <td>95645794</td>\n",
       "      <td>1053389</td>\n",
       "      <td>95586479</td>\n",
       "      <td>1052939</td>\n",
       "      <td>59315</td>\n",
       "      <td>450</td>\n",
       "      <td>1.10</td>\n",
       "      <td>North America</td>\n",
       "    </tr>\n",
       "    <tr>\n",
       "      <th>1</th>\n",
       "      <td>India</td>\n",
       "      <td>44528524</td>\n",
       "      <td>528302</td>\n",
       "      <td>44522777</td>\n",
       "      <td>528273</td>\n",
       "      <td>5747</td>\n",
       "      <td>29</td>\n",
       "      <td>1.19</td>\n",
       "      <td>Asia</td>\n",
       "    </tr>\n",
       "    <tr>\n",
       "      <th>2</th>\n",
       "      <td>France</td>\n",
       "      <td>35076991</td>\n",
       "      <td>155712</td>\n",
       "      <td>35048305</td>\n",
       "      <td>155684</td>\n",
       "      <td>28686</td>\n",
       "      <td>28</td>\n",
       "      <td>0.44</td>\n",
       "      <td>Europe</td>\n",
       "    </tr>\n",
       "    <tr>\n",
       "      <th>3</th>\n",
       "      <td>Brazil</td>\n",
       "      <td>34568833</td>\n",
       "      <td>685203</td>\n",
       "      <td>34568833</td>\n",
       "      <td>685203</td>\n",
       "      <td>0</td>\n",
       "      <td>0</td>\n",
       "      <td>1.98</td>\n",
       "      <td>South America</td>\n",
       "    </tr>\n",
       "    <tr>\n",
       "      <th>4</th>\n",
       "      <td>Germany</td>\n",
       "      <td>32680355</td>\n",
       "      <td>148933</td>\n",
       "      <td>32643742</td>\n",
       "      <td>148845</td>\n",
       "      <td>36613</td>\n",
       "      <td>88</td>\n",
       "      <td>0.46</td>\n",
       "      <td>Europe</td>\n",
       "    </tr>\n",
       "  </tbody>\n",
       "</table>\n",
       "</div>"
      ],
      "text/plain": [
       "  Country/Region     Cases   Deaths    PCases  PDeaths  Cases (+)  Deaths (+)  \\\n",
       "0             US  95645794  1053389  95586479  1052939      59315         450   \n",
       "1          India  44528524   528302  44522777   528273       5747          29   \n",
       "2         France  35076991   155712  35048305   155684      28686          28   \n",
       "3         Brazil  34568833   685203  34568833   685203          0           0   \n",
       "4        Germany  32680355   148933  32643742   148845      36613          88   \n",
       "\n",
       "   Fatality Rate      Continent  \n",
       "0           1.10  North America  \n",
       "1           1.19           Asia  \n",
       "2           0.44         Europe  \n",
       "3           1.98  South America  \n",
       "4           0.46         Europe  "
      ]
     },
     "execution_count": 13,
     "metadata": {},
     "output_type": "execute_result"
    }
   ],
   "source": [
    "#hide\n",
    "for c in 'Cases, Deaths'.split(', '):\n",
    "    df_table[f'{c} (+)'] = (df_table[c] - df_table[f'P{c}']).clip(0)\n",
    "    #Clip ça veut dire, les chiffres negatif sont interdit\n",
    "df_table['Fatality Rate'] = (100* df_table['Deaths']/ df_table['Cases']).round(2)\n",
    "df_table['Continent'] = df_table['Country/Region'].map(mapping['map.continent'])\n",
    "df_table.head(5)"
   ]
  },
  {
   "cell_type": "code",
   "execution_count": 14,
   "id": "aboriginal-bulgaria",
   "metadata": {
    "execution": {
     "iopub.execute_input": "2022-09-17T12:17:10.262936Z",
     "iopub.status.busy": "2022-09-17T12:17:10.262225Z",
     "iopub.status.idle": "2022-09-17T12:17:10.265255Z",
     "shell.execute_reply": "2022-09-17T12:17:10.265903Z"
    },
    "papermill": {
     "duration": 0.043955,
     "end_time": "2022-09-17T12:17:10.266051",
     "exception": false,
     "start_time": "2022-09-17T12:17:10.222096",
     "status": "completed"
    },
    "tags": []
   },
   "outputs": [],
   "source": [
    "#hide\n",
    "#delete problematic countries from table\n",
    "df_table = df_table[~df_table['Country/Region'].isin(['Cape Verde', 'Cruise Ship', 'Kosovo'])]"
   ]
  },
  {
   "cell_type": "code",
   "execution_count": 15,
   "id": "fantastic-effect",
   "metadata": {
    "execution": {
     "iopub.execute_input": "2022-09-17T12:17:10.349641Z",
     "iopub.status.busy": "2022-09-17T12:17:10.349071Z",
     "iopub.status.idle": "2022-09-17T12:17:10.370547Z",
     "shell.execute_reply": "2022-09-17T12:17:10.371304Z"
    },
    "papermill": {
     "duration": 0.064528,
     "end_time": "2022-09-17T12:17:10.371498",
     "exception": false,
     "start_time": "2022-09-17T12:17:10.306970",
     "status": "completed"
    },
    "tags": []
   },
   "outputs": [
    {
     "data": {
      "text/html": [
       "<div>\n",
       "<style scoped>\n",
       "    .dataframe tbody tr th:only-of-type {\n",
       "        vertical-align: middle;\n",
       "    }\n",
       "\n",
       "    .dataframe tbody tr th {\n",
       "        vertical-align: top;\n",
       "    }\n",
       "\n",
       "    .dataframe thead th {\n",
       "        text-align: right;\n",
       "    }\n",
       "</style>\n",
       "<table border=\"1\" class=\"dataframe\">\n",
       "  <thead>\n",
       "    <tr style=\"text-align: right;\">\n",
       "      <th></th>\n",
       "      <th>Country/Region</th>\n",
       "      <th>Cases</th>\n",
       "      <th>Deaths</th>\n",
       "      <th>PCases</th>\n",
       "      <th>PDeaths</th>\n",
       "      <th>Cases (+)</th>\n",
       "      <th>Deaths (+)</th>\n",
       "      <th>Fatality Rate</th>\n",
       "      <th>Continent</th>\n",
       "    </tr>\n",
       "  </thead>\n",
       "  <tbody>\n",
       "    <tr>\n",
       "      <th>0</th>\n",
       "      <td>US</td>\n",
       "      <td>95645794</td>\n",
       "      <td>1053389</td>\n",
       "      <td>95586479</td>\n",
       "      <td>1052939</td>\n",
       "      <td>59315</td>\n",
       "      <td>450</td>\n",
       "      <td>1.1</td>\n",
       "      <td>North America</td>\n",
       "    </tr>\n",
       "    <tr>\n",
       "      <th>1</th>\n",
       "      <td>India</td>\n",
       "      <td>44528524</td>\n",
       "      <td>528302</td>\n",
       "      <td>44522777</td>\n",
       "      <td>528273</td>\n",
       "      <td>5747</td>\n",
       "      <td>29</td>\n",
       "      <td>1.2</td>\n",
       "      <td>Asia</td>\n",
       "    </tr>\n",
       "    <tr>\n",
       "      <th>2</th>\n",
       "      <td>France</td>\n",
       "      <td>35076991</td>\n",
       "      <td>155712</td>\n",
       "      <td>35048305</td>\n",
       "      <td>155684</td>\n",
       "      <td>28686</td>\n",
       "      <td>28</td>\n",
       "      <td>0.4</td>\n",
       "      <td>Europe</td>\n",
       "    </tr>\n",
       "    <tr>\n",
       "      <th>3</th>\n",
       "      <td>Brazil</td>\n",
       "      <td>34568833</td>\n",
       "      <td>685203</td>\n",
       "      <td>34568833</td>\n",
       "      <td>685203</td>\n",
       "      <td>0</td>\n",
       "      <td>0</td>\n",
       "      <td>2.0</td>\n",
       "      <td>South America</td>\n",
       "    </tr>\n",
       "    <tr>\n",
       "      <th>4</th>\n",
       "      <td>Germany</td>\n",
       "      <td>32680355</td>\n",
       "      <td>148933</td>\n",
       "      <td>32643742</td>\n",
       "      <td>148845</td>\n",
       "      <td>36613</td>\n",
       "      <td>88</td>\n",
       "      <td>0.5</td>\n",
       "      <td>Europe</td>\n",
       "    </tr>\n",
       "  </tbody>\n",
       "</table>\n",
       "</div>"
      ],
      "text/plain": [
       "  Country/Region     Cases   Deaths    PCases  PDeaths  Cases (+)  Deaths (+)  \\\n",
       "0             US  95645794  1053389  95586479  1052939      59315         450   \n",
       "1          India  44528524   528302  44522777   528273       5747          29   \n",
       "2         France  35076991   155712  35048305   155684      28686          28   \n",
       "3         Brazil  34568833   685203  34568833   685203          0           0   \n",
       "4        Germany  32680355   148933  32643742   148845      36613          88   \n",
       "\n",
       "   Fatality Rate      Continent  \n",
       "0            1.1  North America  \n",
       "1            1.2           Asia  \n",
       "2            0.4         Europe  \n",
       "3            2.0  South America  \n",
       "4            0.5         Europe  "
      ]
     },
     "execution_count": 15,
     "metadata": {},
     "output_type": "execute_result"
    }
   ],
   "source": [
    "#hide\n",
    "df_table = (pd.DataFrame(dict(Cases=dfc_cases, Deaths=dfc_deaths, PCases=dfp_cases, PDeaths=dfp_deaths))\n",
    "             .sort_values(by=['Cases', 'Deaths'], ascending=[False, False])\n",
    "             .reset_index())\n",
    "df_table.rename(columns={'index': 'Country/Region'}, inplace=True)\n",
    "for c in 'Cases, Deaths'.split(', '):\n",
    "    df_table[f'{c} (+)'] = (df_table[c] - df_table[f'P{c}']).clip(0)  # DATA BUG\n",
    "df_table['Fatality Rate'] = (100 * df_table['Deaths'] / df_table['Cases']).round(1)\n",
    "df_table['Continent'] = df_table['Country/Region'].map(mapping['map.continent'])\n",
    "df_table.head(5)"
   ]
  },
  {
   "cell_type": "code",
   "execution_count": 16,
   "id": "fewer-occasion",
   "metadata": {
    "execution": {
     "iopub.execute_input": "2022-09-17T12:17:10.446837Z",
     "iopub.status.busy": "2022-09-17T12:17:10.446176Z",
     "iopub.status.idle": "2022-09-17T12:17:10.448985Z",
     "shell.execute_reply": "2022-09-17T12:17:10.448425Z"
    },
    "papermill": {
     "duration": 0.04225,
     "end_time": "2022-09-17T12:17:10.449119",
     "exception": false,
     "start_time": "2022-09-17T12:17:10.406869",
     "status": "completed"
    },
    "tags": []
   },
   "outputs": [],
   "source": [
    "#hide\n",
    "#delete problematic countries from table\n",
    "df_table = df_table[~df_table['Country/Region'].isin(['Cape Verde', 'Cruise Ship', 'Kosovo'])]"
   ]
  },
  {
   "cell_type": "code",
   "execution_count": 17,
   "id": "related-center",
   "metadata": {
    "execution": {
     "iopub.execute_input": "2022-09-17T12:17:10.525343Z",
     "iopub.status.busy": "2022-09-17T12:17:10.524645Z",
     "iopub.status.idle": "2022-09-17T12:17:10.541183Z",
     "shell.execute_reply": "2022-09-17T12:17:10.540655Z"
    },
    "papermill": {
     "duration": 0.058579,
     "end_time": "2022-09-17T12:17:10.541311",
     "exception": false,
     "start_time": "2022-09-17T12:17:10.482732",
     "status": "completed"
    },
    "tags": []
   },
   "outputs": [],
   "source": [
    "#hide\n",
    "metrics = [df_table.columns[index] for index in [1,2,5,6]]\n",
    "# s_china = df_table[df_table['Country/Region'].eq('China')][metrics].sum().add_prefix('China ')\n",
    "s_us = df_table[df_table['Country/Region'].eq('US')][metrics].sum().add_prefix('US ')\n",
    "s_eu = df_table[df_table['Continent'].eq('Europe')][metrics].sum().add_prefix('EU ')\n",
    "s_ind = df_table[df_table['Country/Region'].eq('India')][metrics].sum().add_prefix('India ')\n",
    "summary = {'updated': pd.to_datetime(dt_today), 'since': pd.to_datetime(dt_yday)}\n",
    "summary = {'updated': pd.to_datetime(dt_today), 'since': pd.to_datetime(dt_yday)}\n",
    "summary = {**summary, **df_table[metrics].sum(), **s_ind, **s_us, **s_eu}"
   ]
  },
  {
   "cell_type": "code",
   "execution_count": 18,
   "id": "engaging-syndrome",
   "metadata": {
    "execution": {
     "iopub.execute_input": "2022-09-17T12:17:10.612469Z",
     "iopub.status.busy": "2022-09-17T12:17:10.611827Z",
     "iopub.status.idle": "2022-09-17T12:17:10.634168Z",
     "shell.execute_reply": "2022-09-17T12:17:10.633343Z"
    },
    "papermill": {
     "duration": 0.060914,
     "end_time": "2022-09-17T12:17:10.634328",
     "exception": false,
     "start_time": "2022-09-17T12:17:10.573414",
     "status": "completed"
    },
    "tags": []
   },
   "outputs": [],
   "source": [
    "#hide\n",
    "dft_ct_new_cases = dft_cases.groupby(COL_REGION)[dt_cols].sum().diff(axis=1).fillna(0).astype(int)"
   ]
  },
  {
   "cell_type": "code",
   "execution_count": 19,
   "id": "neutral-assignment",
   "metadata": {
    "execution": {
     "iopub.execute_input": "2022-09-17T12:17:10.709780Z",
     "iopub.status.busy": "2022-09-17T12:17:10.709059Z",
     "iopub.status.idle": "2022-09-17T12:17:10.711743Z",
     "shell.execute_reply": "2022-09-17T12:17:10.711198Z"
    },
    "papermill": {
     "duration": 0.04329,
     "end_time": "2022-09-17T12:17:10.711863",
     "exception": false,
     "start_time": "2022-09-17T12:17:10.668573",
     "status": "completed"
    },
    "tags": []
   },
   "outputs": [],
   "source": [
    "#hide\n",
    "everydaycases = dft_ct_new_cases.cumsum(axis=1)"
   ]
  },
  {
   "cell_type": "code",
   "execution_count": 20,
   "id": "parliamentary-calgary",
   "metadata": {
    "execution": {
     "iopub.execute_input": "2022-09-17T12:17:10.792979Z",
     "iopub.status.busy": "2022-09-17T12:17:10.791808Z",
     "iopub.status.idle": "2022-09-17T12:17:11.478604Z",
     "shell.execute_reply": "2022-09-17T12:17:11.479119Z"
    },
    "papermill": {
     "duration": 0.731997,
     "end_time": "2022-09-17T12:17:11.479276",
     "exception": false,
     "start_time": "2022-09-17T12:17:10.747279",
     "status": "completed"
    },
    "tags": []
   },
   "outputs": [],
   "source": [
    "#hide\n",
    "import pandas as pd\n",
    "import matplotlib.pyplot as plt\n",
    "import matplotlib.ticker as ticker\n",
    "import matplotlib.animation as animation\n",
    "from IPython.display import HTML"
   ]
  },
  {
   "cell_type": "code",
   "execution_count": 21,
   "id": "lasting-extraction",
   "metadata": {
    "execution": {
     "iopub.execute_input": "2022-09-17T12:17:11.555370Z",
     "iopub.status.busy": "2022-09-17T12:17:11.554787Z",
     "iopub.status.idle": "2022-09-17T12:17:11.562584Z",
     "shell.execute_reply": "2022-09-17T12:17:11.561946Z"
    },
    "papermill": {
     "duration": 0.050132,
     "end_time": "2022-09-17T12:17:11.562830",
     "exception": false,
     "start_time": "2022-09-17T12:17:11.512698",
     "status": "completed"
    },
    "tags": []
   },
   "outputs": [],
   "source": [
    "#hide\n",
    "t = everydaycases.stack()"
   ]
  },
  {
   "cell_type": "code",
   "execution_count": 22,
   "id": "premier-sleeve",
   "metadata": {
    "execution": {
     "iopub.execute_input": "2022-09-17T12:17:11.639686Z",
     "iopub.status.busy": "2022-09-17T12:17:11.638995Z",
     "iopub.status.idle": "2022-09-17T12:17:11.655035Z",
     "shell.execute_reply": "2022-09-17T12:17:11.654342Z"
    },
    "papermill": {
     "duration": 0.054025,
     "end_time": "2022-09-17T12:17:11.655182",
     "exception": false,
     "start_time": "2022-09-17T12:17:11.601157",
     "status": "completed"
    },
    "tags": []
   },
   "outputs": [],
   "source": [
    "#hide\n",
    "g = t.reset_index(['Country/Region'])"
   ]
  },
  {
   "cell_type": "code",
   "execution_count": 23,
   "id": "distributed-pittsburgh",
   "metadata": {
    "execution": {
     "iopub.execute_input": "2022-09-17T12:17:11.734115Z",
     "iopub.status.busy": "2022-09-17T12:17:11.733422Z",
     "iopub.status.idle": "2022-09-17T12:17:11.735415Z",
     "shell.execute_reply": "2022-09-17T12:17:11.735974Z"
    },
    "papermill": {
     "duration": 0.043461,
     "end_time": "2022-09-17T12:17:11.736220",
     "exception": false,
     "start_time": "2022-09-17T12:17:11.692759",
     "status": "completed"
    },
    "tags": []
   },
   "outputs": [],
   "source": [
    "#hide\n",
    "g.index.name = 'date'"
   ]
  },
  {
   "cell_type": "code",
   "execution_count": 24,
   "id": "naked-donor",
   "metadata": {
    "execution": {
     "iopub.execute_input": "2022-09-17T12:17:11.825638Z",
     "iopub.status.busy": "2022-09-17T12:17:11.824697Z",
     "iopub.status.idle": "2022-09-17T12:17:11.826932Z",
     "shell.execute_reply": "2022-09-17T12:17:11.827646Z"
    },
    "papermill": {
     "duration": 0.041695,
     "end_time": "2022-09-17T12:17:11.827836",
     "exception": false,
     "start_time": "2022-09-17T12:17:11.786141",
     "status": "completed"
    },
    "tags": []
   },
   "outputs": [],
   "source": [
    "# #hide\n",
    "# g = g.reset_index(['date'])"
   ]
  },
  {
   "cell_type": "code",
   "execution_count": 25,
   "id": "incomplete-mustang",
   "metadata": {
    "execution": {
     "iopub.execute_input": "2022-09-17T12:17:11.900128Z",
     "iopub.status.busy": "2022-09-17T12:17:11.898987Z",
     "iopub.status.idle": "2022-09-17T12:17:11.904287Z",
     "shell.execute_reply": "2022-09-17T12:17:11.903692Z"
    },
    "papermill": {
     "duration": 0.042878,
     "end_time": "2022-09-17T12:17:11.904425",
     "exception": false,
     "start_time": "2022-09-17T12:17:11.861547",
     "status": "completed"
    },
    "tags": []
   },
   "outputs": [],
   "source": [
    "#hide\n",
    "# g.head()"
   ]
  },
  {
   "cell_type": "code",
   "execution_count": 26,
   "id": "specific-kruger",
   "metadata": {
    "execution": {
     "iopub.execute_input": "2022-09-17T12:17:11.976451Z",
     "iopub.status.busy": "2022-09-17T12:17:11.975740Z",
     "iopub.status.idle": "2022-09-17T12:17:11.978677Z",
     "shell.execute_reply": "2022-09-17T12:17:11.978174Z"
    },
    "papermill": {
     "duration": 0.040347,
     "end_time": "2022-09-17T12:17:11.978792",
     "exception": false,
     "start_time": "2022-09-17T12:17:11.938445",
     "status": "completed"
    },
    "tags": []
   },
   "outputs": [],
   "source": [
    "#hide\n",
    "# g.columns = ['date','country','cases']"
   ]
  },
  {
   "cell_type": "code",
   "execution_count": 27,
   "id": "tender-conversion",
   "metadata": {
    "execution": {
     "iopub.execute_input": "2022-09-17T12:17:12.050517Z",
     "iopub.status.busy": "2022-09-17T12:17:12.049857Z",
     "iopub.status.idle": "2022-09-17T12:17:12.056431Z",
     "shell.execute_reply": "2022-09-17T12:17:12.055585Z"
    },
    "papermill": {
     "duration": 0.045163,
     "end_time": "2022-09-17T12:17:12.056596",
     "exception": false,
     "start_time": "2022-09-17T12:17:12.011433",
     "status": "completed"
    },
    "tags": []
   },
   "outputs": [],
   "source": [
    "#hide\n",
    "# g['continent'] = g.country"
   ]
  },
  {
   "cell_type": "code",
   "execution_count": 28,
   "id": "substantial-wilderness",
   "metadata": {
    "execution": {
     "iopub.execute_input": "2022-09-17T12:17:12.151402Z",
     "iopub.status.busy": "2022-09-17T12:17:12.149985Z",
     "iopub.status.idle": "2022-09-17T12:17:12.152715Z",
     "shell.execute_reply": "2022-09-17T12:17:12.153508Z"
    },
    "papermill": {
     "duration": 0.056003,
     "end_time": "2022-09-17T12:17:12.153703",
     "exception": false,
     "start_time": "2022-09-17T12:17:12.097700",
     "status": "completed"
    },
    "tags": []
   },
   "outputs": [],
   "source": [
    "#hide\n",
    "# cols = list(g.columns.values)"
   ]
  },
  {
   "cell_type": "code",
   "execution_count": 29,
   "id": "solved-farming",
   "metadata": {
    "execution": {
     "iopub.execute_input": "2022-09-17T12:17:12.228302Z",
     "iopub.status.busy": "2022-09-17T12:17:12.227549Z",
     "iopub.status.idle": "2022-09-17T12:17:12.229680Z",
     "shell.execute_reply": "2022-09-17T12:17:12.230117Z"
    },
    "papermill": {
     "duration": 0.040051,
     "end_time": "2022-09-17T12:17:12.230257",
     "exception": false,
     "start_time": "2022-09-17T12:17:12.190206",
     "status": "completed"
    },
    "tags": []
   },
   "outputs": [],
   "source": [
    "#hide\n",
    "# cols.insert(0, cols.pop())"
   ]
  },
  {
   "cell_type": "code",
   "execution_count": 30,
   "id": "executed-adoption",
   "metadata": {
    "execution": {
     "iopub.execute_input": "2022-09-17T12:17:12.309391Z",
     "iopub.status.busy": "2022-09-17T12:17:12.308660Z",
     "iopub.status.idle": "2022-09-17T12:17:12.312675Z",
     "shell.execute_reply": "2022-09-17T12:17:12.313169Z"
    },
    "papermill": {
     "duration": 0.045557,
     "end_time": "2022-09-17T12:17:12.313320",
     "exception": false,
     "start_time": "2022-09-17T12:17:12.267763",
     "status": "completed"
    },
    "tags": []
   },
   "outputs": [],
   "source": [
    "#hide\n",
    "# g = g[cols]"
   ]
  },
  {
   "cell_type": "code",
   "execution_count": 31,
   "id": "subject-dublin",
   "metadata": {
    "execution": {
     "iopub.execute_input": "2022-09-17T12:17:12.389431Z",
     "iopub.status.busy": "2022-09-17T12:17:12.388809Z",
     "iopub.status.idle": "2022-09-17T12:17:12.390817Z",
     "shell.execute_reply": "2022-09-17T12:17:12.391305Z"
    },
    "papermill": {
     "duration": 0.042125,
     "end_time": "2022-09-17T12:17:12.391451",
     "exception": false,
     "start_time": "2022-09-17T12:17:12.349326",
     "status": "completed"
    },
    "tags": []
   },
   "outputs": [],
   "source": [
    "#hide\n",
    "# g['continent'] = g['continent'].map(mapping['map.continent'])"
   ]
  },
  {
   "cell_type": "code",
   "execution_count": 32,
   "id": "freelance-scout",
   "metadata": {
    "execution": {
     "iopub.execute_input": "2022-09-17T12:17:12.467881Z",
     "iopub.status.busy": "2022-09-17T12:17:12.467215Z",
     "iopub.status.idle": "2022-09-17T12:17:12.473779Z",
     "shell.execute_reply": "2022-09-17T12:17:12.473265Z"
    },
    "papermill": {
     "duration": 0.047105,
     "end_time": "2022-09-17T12:17:12.473901",
     "exception": false,
     "start_time": "2022-09-17T12:17:12.426796",
     "status": "completed"
    },
    "tags": []
   },
   "outputs": [],
   "source": [
    "#hide\n",
    "# g.head()"
   ]
  },
  {
   "cell_type": "code",
   "execution_count": 33,
   "id": "limited-engine",
   "metadata": {
    "execution": {
     "iopub.execute_input": "2022-09-17T12:17:12.550463Z",
     "iopub.status.busy": "2022-09-17T12:17:12.549296Z",
     "iopub.status.idle": "2022-09-17T12:17:12.551531Z",
     "shell.execute_reply": "2022-09-17T12:17:12.551998Z"
    },
    "papermill": {
     "duration": 0.043332,
     "end_time": "2022-09-17T12:17:12.552152",
     "exception": false,
     "start_time": "2022-09-17T12:17:12.508820",
     "status": "completed"
    },
    "tags": []
   },
   "outputs": [],
   "source": [
    "# hide\n",
    "# g['date'] = g['date'].astype('datetime64[ns]')"
   ]
  },
  {
   "cell_type": "code",
   "execution_count": 34,
   "id": "sophisticated-supervisor",
   "metadata": {
    "execution": {
     "iopub.execute_input": "2022-09-17T12:17:12.624605Z",
     "iopub.status.busy": "2022-09-17T12:17:12.622834Z",
     "iopub.status.idle": "2022-09-17T12:17:12.625398Z",
     "shell.execute_reply": "2022-09-17T12:17:12.625887Z"
    },
    "papermill": {
     "duration": 0.040502,
     "end_time": "2022-09-17T12:17:12.626033",
     "exception": false,
     "start_time": "2022-09-17T12:17:12.585531",
     "status": "completed"
    },
    "tags": []
   },
   "outputs": [],
   "source": [
    "#hide\n",
    "# g['date'] = g.date.dt.dayofyear"
   ]
  },
  {
   "cell_type": "code",
   "execution_count": 35,
   "id": "inside-dubai",
   "metadata": {
    "execution": {
     "iopub.execute_input": "2022-09-17T12:17:12.711112Z",
     "iopub.status.busy": "2022-09-17T12:17:12.709925Z",
     "iopub.status.idle": "2022-09-17T12:17:12.712457Z",
     "shell.execute_reply": "2022-09-17T12:17:12.713362Z"
    },
    "papermill": {
     "duration": 0.048898,
     "end_time": "2022-09-17T12:17:12.713596",
     "exception": false,
     "start_time": "2022-09-17T12:17:12.664698",
     "status": "completed"
    },
    "tags": []
   },
   "outputs": [],
   "source": [
    "#hide\n",
    "# g = g.rename(columns= {'continent':'group','country':'name','cases':'value'})"
   ]
  },
  {
   "cell_type": "code",
   "execution_count": 36,
   "id": "fleet-motorcycle",
   "metadata": {
    "execution": {
     "iopub.execute_input": "2022-09-17T12:17:12.784506Z",
     "iopub.status.busy": "2022-09-17T12:17:12.783399Z",
     "iopub.status.idle": "2022-09-17T12:17:12.787134Z",
     "shell.execute_reply": "2022-09-17T12:17:12.787540Z"
    },
    "papermill": {
     "duration": 0.040599,
     "end_time": "2022-09-17T12:17:12.787672",
     "exception": false,
     "start_time": "2022-09-17T12:17:12.747073",
     "status": "completed"
    },
    "tags": []
   },
   "outputs": [],
   "source": [
    "#hide\n",
    "# cols = ['name','group','day','value']"
   ]
  },
  {
   "cell_type": "code",
   "execution_count": 37,
   "id": "continued-sleeping",
   "metadata": {
    "execution": {
     "iopub.execute_input": "2022-09-17T12:17:12.870535Z",
     "iopub.status.busy": "2022-09-17T12:17:12.869893Z",
     "iopub.status.idle": "2022-09-17T12:17:12.874260Z",
     "shell.execute_reply": "2022-09-17T12:17:12.873653Z"
    },
    "papermill": {
     "duration": 0.042331,
     "end_time": "2022-09-17T12:17:12.874400",
     "exception": false,
     "start_time": "2022-09-17T12:17:12.832069",
     "status": "completed"
    },
    "tags": []
   },
   "outputs": [],
   "source": [
    "#hide\n",
    "# g.rename(columns= {'date':'day'},inplace = True)"
   ]
  },
  {
   "cell_type": "code",
   "execution_count": 38,
   "id": "major-fight",
   "metadata": {
    "execution": {
     "iopub.execute_input": "2022-09-17T12:17:12.954937Z",
     "iopub.status.busy": "2022-09-17T12:17:12.953840Z",
     "iopub.status.idle": "2022-09-17T12:17:12.956151Z",
     "shell.execute_reply": "2022-09-17T12:17:12.956991Z"
    },
    "papermill": {
     "duration": 0.041054,
     "end_time": "2022-09-17T12:17:12.957207",
     "exception": false,
     "start_time": "2022-09-17T12:17:12.916153",
     "status": "completed"
    },
    "tags": []
   },
   "outputs": [],
   "source": [
    "#hide\n",
    "# g = g[cols]"
   ]
  },
  {
   "cell_type": "code",
   "execution_count": 39,
   "id": "structured-mobile",
   "metadata": {
    "execution": {
     "iopub.execute_input": "2022-09-17T12:17:13.027772Z",
     "iopub.status.busy": "2022-09-17T12:17:13.026822Z",
     "iopub.status.idle": "2022-09-17T12:17:13.031236Z",
     "shell.execute_reply": "2022-09-17T12:17:13.031729Z"
    },
    "papermill": {
     "duration": 0.042416,
     "end_time": "2022-09-17T12:17:13.031878",
     "exception": false,
     "start_time": "2022-09-17T12:17:12.989462",
     "status": "completed"
    },
    "tags": []
   },
   "outputs": [],
   "source": [
    "# #hide\n",
    "# g = g[g.group.notna()]"
   ]
  },
  {
   "cell_type": "code",
   "execution_count": 40,
   "id": "determined-closing",
   "metadata": {
    "execution": {
     "iopub.execute_input": "2022-09-17T12:17:13.112739Z",
     "iopub.status.busy": "2022-09-17T12:17:13.111960Z",
     "iopub.status.idle": "2022-09-17T12:17:13.114131Z",
     "shell.execute_reply": "2022-09-17T12:17:13.114643Z"
    },
    "papermill": {
     "duration": 0.046732,
     "end_time": "2022-09-17T12:17:13.114786",
     "exception": false,
     "start_time": "2022-09-17T12:17:13.068054",
     "status": "completed"
    },
    "tags": []
   },
   "outputs": [],
   "source": [
    "# #hide\n",
    "# colors = dict(zip(\n",
    "#     [\"Oceania\", \"Europe\", \"Asia\", \"South America\", \"Middle East\", \"North America\", \"Africa\"],\n",
    "#     [\"#adb0ff\", \"#ffb3ff\", \"#90d595\", \"#e48381\", \"#aafbff\", \"#f7bb5f\", \"#eafb50\"]\n",
    "# ))\n",
    "# group_lk = g.set_index('name')['group'].to_dict()"
   ]
  },
  {
   "cell_type": "code",
   "execution_count": null,
   "id": "gross-drinking",
   "metadata": {
    "papermill": {
     "duration": 0.037704,
     "end_time": "2022-09-17T12:17:13.187684",
     "exception": false,
     "start_time": "2022-09-17T12:17:13.149980",
     "status": "completed"
    },
    "tags": []
   },
   "outputs": [],
   "source": []
  },
  {
   "cell_type": "code",
   "execution_count": 41,
   "id": "subject-macintosh",
   "metadata": {
    "execution": {
     "iopub.execute_input": "2022-09-17T12:17:13.263898Z",
     "iopub.status.busy": "2022-09-17T12:17:13.263065Z",
     "iopub.status.idle": "2022-09-17T12:17:13.268278Z",
     "shell.execute_reply": "2022-09-17T12:17:13.267622Z"
    },
    "papermill": {
     "duration": 0.04613,
     "end_time": "2022-09-17T12:17:13.268405",
     "exception": false,
     "start_time": "2022-09-17T12:17:13.222275",
     "status": "completed"
    },
    "tags": []
   },
   "outputs": [],
   "source": [
    "# #hide\n",
    "# fig, ax = plt.subplots(figsize=(15, 8))\n",
    "\n",
    "# def draw_barchart(current_day):\n",
    "#     dff = g[g['day'].eq(current_day)].sort_values(by='value', ascending=True).tail(10)\n",
    "#     ax.clear()\n",
    "#     ax.barh(dff['name'], dff['value'], color=[colors[group_lk[x]] for x in dff['name']])\n",
    "#     dx = dff['value'].max() / 200\n",
    "    \n",
    "#     for i, (value, name) in enumerate(zip(dff['value'], dff['name'])):\n",
    "#         ax.text(value-dx, i,     name,           size=14, weight=600, ha='right', va='bottom')\n",
    "#         ax.text(value-dx, i-.25, group_lk[name], size=10, color='#444444', ha='right', va='baseline')\n",
    "#         ax.text(value+dx, i,     f'{value:,.0f}',  size=14, ha='left',  va='center')\n",
    "#     ax.text(1, 0.4, current_day, transform=ax.transAxes, color='#777777', size=46, ha='right', weight=800)\n",
    "#     ax.text(0, 1.06, 'Population (thousands)', transform=ax.transAxes, size=12, color='#777777')\n",
    "#     ax.xaxis.set_major_formatter(ticker.StrMethodFormatter('{x:,.0f}'))\n",
    "#     ax.xaxis.set_ticks_position('top')\n",
    "#     ax.tick_params(axis='x', colors='#777777', labelsize=12)\n",
    "#     ax.set_yticks([])\n",
    "#     ax.margins(0, 0.01)\n",
    "#     ax.grid(which='major', axis='x', linestyle='-')\n",
    "#     ax.set_axisbelow(True)\n",
    "    \n",
    "#     ax.text(0, 1.15, 'Coronavirus',\n",
    "#             transform=ax.transAxes, size=24, weight=600, ha='left', va='top')\n",
    "# #     ax.text(1, 0, 'by @pratapvardhan; credit @jburnmurdoch', transform=ax.transAxes, color='#777777', ha='right',\n",
    "# #             bbox=dict(facecolor='white', alpha=0.8, edgecolor='white'))\n",
    "#     plt.box(False)"
   ]
  },
  {
   "cell_type": "code",
   "execution_count": 42,
   "id": "sexual-wages",
   "metadata": {
    "execution": {
     "iopub.execute_input": "2022-09-17T12:17:13.348264Z",
     "iopub.status.busy": "2022-09-17T12:17:13.346594Z",
     "iopub.status.idle": "2022-09-17T12:17:13.349037Z",
     "shell.execute_reply": "2022-09-17T12:17:13.349546Z"
    },
    "papermill": {
     "duration": 0.04518,
     "end_time": "2022-09-17T12:17:13.349691",
     "exception": false,
     "start_time": "2022-09-17T12:17:13.304511",
     "status": "completed"
    },
    "tags": []
   },
   "outputs": [],
   "source": [
    "# #hide_input\n",
    "# fig, ax = plt.subplots(figsize=(15, 8))\n",
    "# animator = animation.FuncAnimation(fig, draw_barchart, frames=range(g.day.values.min(), g.day.values.max()))\n",
    "# HTML(animator.to_jshtml())\n",
    "# # or use animator.to_html5_video() or animator.save() "
   ]
  },
  {
   "cell_type": "code",
   "execution_count": null,
   "id": "australian-container",
   "metadata": {
    "papermill": {
     "duration": 0.036439,
     "end_time": "2022-09-17T12:17:13.419739",
     "exception": false,
     "start_time": "2022-09-17T12:17:13.383300",
     "status": "completed"
    },
    "tags": []
   },
   "outputs": [],
   "source": []
  },
  {
   "cell_type": "code",
   "execution_count": null,
   "id": "mediterranean-pontiac",
   "metadata": {
    "papermill": {
     "duration": 0.035304,
     "end_time": "2022-09-17T12:17:13.492388",
     "exception": false,
     "start_time": "2022-09-17T12:17:13.457084",
     "status": "completed"
    },
    "tags": []
   },
   "outputs": [],
   "source": []
  },
  {
   "cell_type": "code",
   "execution_count": null,
   "id": "aging-legislature",
   "metadata": {
    "papermill": {
     "duration": 0.036123,
     "end_time": "2022-09-17T12:17:13.565722",
     "exception": false,
     "start_time": "2022-09-17T12:17:13.529599",
     "status": "completed"
    },
    "tags": []
   },
   "outputs": [],
   "source": []
  }
 ],
 "metadata": {
  "kernelspec": {
   "display_name": "Python 3",
   "language": "python",
   "name": "python3"
  },
  "language_info": {
   "codemirror_mode": {
    "name": "ipython",
    "version": 3
   },
   "file_extension": ".py",
   "mimetype": "text/x-python",
   "name": "python",
   "nbconvert_exporter": "python",
   "pygments_lexer": "ipython3",
   "version": "3.6.15"
  },
  "papermill": {
   "duration": 7.354451,
   "end_time": "2022-09-17T12:17:14.018019",
   "environment_variables": {},
   "exception": null,
   "input_path": "2020-03-21-covid19exp.ipynb",
   "output_path": "2020-03-21-covid19exp.ipynb",
   "parameters": {},
   "start_time": "2022-09-17T12:17:06.663568",
   "version": "2.0.0"
  }
 },
 "nbformat": 4,
 "nbformat_minor": 5
}