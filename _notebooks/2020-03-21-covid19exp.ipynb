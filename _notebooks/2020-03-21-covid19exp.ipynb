{
 "cells": [
  {
   "cell_type": "markdown",
   "id": "muslim-click",
   "metadata": {
    "papermill": {
     "duration": 0.035309,
     "end_time": "2022-09-06T12:19:06.881641",
     "exception": false,
     "start_time": "2022-09-06T12:19:06.846332",
     "status": "completed"
    },
    "tags": []
   },
   "source": [
    "# COVID-19 Case Race\n",
    "> A race chart to see rising cases around the world\n",
    "\n",
    "- author: Hargun Oberoi\n",
    "- image: images/covid-overview.png\n",
    "- hide: false\n",
    "- badges: false"
   ]
  },
  {
   "cell_type": "code",
   "execution_count": 1,
   "id": "proof-material",
   "metadata": {
    "execution": {
     "iopub.execute_input": "2022-09-06T12:19:06.951551Z",
     "iopub.status.busy": "2022-09-06T12:19:06.950985Z",
     "iopub.status.idle": "2022-09-06T12:19:07.271777Z",
     "shell.execute_reply": "2022-09-06T12:19:07.271285Z"
    },
    "papermill": {
     "duration": 0.359767,
     "end_time": "2022-09-06T12:19:07.271906",
     "exception": false,
     "start_time": "2022-09-06T12:19:06.912139",
     "status": "completed"
    },
    "tags": []
   },
   "outputs": [],
   "source": [
    "#hide\n",
    "import numpy as np\n",
    "import pandas as pd\n",
    "from jinja2 import Template\n",
    "from IPython.display import HTML"
   ]
  },
  {
   "cell_type": "code",
   "execution_count": 2,
   "id": "developed-terminology",
   "metadata": {
    "execution": {
     "iopub.execute_input": "2022-09-06T12:19:07.336910Z",
     "iopub.status.busy": "2022-09-06T12:19:07.336338Z",
     "iopub.status.idle": "2022-09-06T12:19:07.338531Z",
     "shell.execute_reply": "2022-09-06T12:19:07.338966Z"
    },
    "papermill": {
     "duration": 0.037014,
     "end_time": "2022-09-06T12:19:07.339078",
     "exception": false,
     "start_time": "2022-09-06T12:19:07.302064",
     "status": "completed"
    },
    "tags": []
   },
   "outputs": [],
   "source": [
    "#hide\n",
    "\n",
    "# FETCH\n",
    "base_url = 'https://raw.githubusercontent.com/pratapvardhan/notebooks/master/covid19/'\n",
    "paths = {\n",
    "    'mapping': base_url + 'mapping_countries.csv',\n",
    "    'overview': base_url + 'overview.tpl'\n",
    "}"
   ]
  },
  {
   "cell_type": "code",
   "execution_count": 3,
   "id": "dynamic-saver",
   "metadata": {
    "execution": {
     "iopub.execute_input": "2022-09-06T12:19:07.412333Z",
     "iopub.status.busy": "2022-09-06T12:19:07.411729Z",
     "iopub.status.idle": "2022-09-06T12:19:07.414324Z",
     "shell.execute_reply": "2022-09-06T12:19:07.414735Z"
    },
    "papermill": {
     "duration": 0.041859,
     "end_time": "2022-09-06T12:19:07.414858",
     "exception": false,
     "start_time": "2022-09-06T12:19:07.372999",
     "status": "completed"
    },
    "tags": []
   },
   "outputs": [
    {
     "data": {
      "text/plain": [
       "'https://raw.githubusercontent.com/pratapvardhan/notebooks/master/covid19/mapping_countries.csv'"
      ]
     },
     "execution_count": 3,
     "metadata": {},
     "output_type": "execute_result"
    }
   ],
   "source": [
    "#hide\n",
    "paths['mapping']"
   ]
  },
  {
   "cell_type": "code",
   "execution_count": 4,
   "id": "urban-software",
   "metadata": {
    "execution": {
     "iopub.execute_input": "2022-09-06T12:19:07.480236Z",
     "iopub.status.busy": "2022-09-06T12:19:07.479633Z",
     "iopub.status.idle": "2022-09-06T12:19:07.482050Z",
     "shell.execute_reply": "2022-09-06T12:19:07.481597Z"
    },
    "papermill": {
     "duration": 0.037028,
     "end_time": "2022-09-06T12:19:07.482151",
     "exception": false,
     "start_time": "2022-09-06T12:19:07.445123",
     "status": "completed"
    },
    "tags": []
   },
   "outputs": [],
   "source": [
    "#hide\n",
    "def get_mappings(url):\n",
    "    df = pd.read_csv(url)\n",
    "    return {\n",
    "        'df': df,\n",
    "        'replace.country': dict(df.dropna(subset=['Name']).set_index('Country')['Name']),\n",
    "        'map.continent': dict(df.set_index('Name')['Continent'])\n",
    "    }"
   ]
  },
  {
   "cell_type": "code",
   "execution_count": 5,
   "id": "intimate-machinery",
   "metadata": {
    "execution": {
     "iopub.execute_input": "2022-09-06T12:19:07.547627Z",
     "iopub.status.busy": "2022-09-06T12:19:07.547061Z",
     "iopub.status.idle": "2022-09-06T12:19:07.586470Z",
     "shell.execute_reply": "2022-09-06T12:19:07.586004Z"
    },
    "papermill": {
     "duration": 0.07425,
     "end_time": "2022-09-06T12:19:07.586585",
     "exception": false,
     "start_time": "2022-09-06T12:19:07.512335",
     "status": "completed"
    },
    "tags": []
   },
   "outputs": [],
   "source": [
    "#hide\n",
    "mapping = get_mappings(paths['mapping'])"
   ]
  },
  {
   "cell_type": "code",
   "execution_count": 6,
   "id": "certified-tactics",
   "metadata": {
    "execution": {
     "iopub.execute_input": "2022-09-06T12:19:07.652270Z",
     "iopub.status.busy": "2022-09-06T12:19:07.651672Z",
     "iopub.status.idle": "2022-09-06T12:19:07.653930Z",
     "shell.execute_reply": "2022-09-06T12:19:07.653408Z"
    },
    "papermill": {
     "duration": 0.037098,
     "end_time": "2022-09-06T12:19:07.654030",
     "exception": false,
     "start_time": "2022-09-06T12:19:07.616932",
     "status": "completed"
    },
    "tags": []
   },
   "outputs": [],
   "source": [
    "#hide\n",
    "def get_template(path):\n",
    "    from urllib.parse import urlparse\n",
    "    if bool(urlparse(path).netloc):\n",
    "        from urllib.request import urlopen\n",
    "        return urlopen(path).read().decode('utf8')\n",
    "    return open(path).read()"
   ]
  },
  {
   "cell_type": "code",
   "execution_count": 7,
   "id": "realistic-blast",
   "metadata": {
    "execution": {
     "iopub.execute_input": "2022-09-06T12:19:07.719299Z",
     "iopub.status.busy": "2022-09-06T12:19:07.718735Z",
     "iopub.status.idle": "2022-09-06T12:19:07.721043Z",
     "shell.execute_reply": "2022-09-06T12:19:07.721461Z"
    },
    "papermill": {
     "duration": 0.037281,
     "end_time": "2022-09-06T12:19:07.721578",
     "exception": false,
     "start_time": "2022-09-06T12:19:07.684297",
     "status": "completed"
    },
    "tags": []
   },
   "outputs": [],
   "source": [
    "#hide\n",
    "def get_frame(name):\n",
    "    url = (\n",
    "        'https://raw.githubusercontent.com/CSSEGISandData/COVID-19/master/csse_covid_19_data/'\n",
    "        f'csse_covid_19_time_series/time_series_covid19_{name}_global.csv')\n",
    "    df = pd.read_csv(url)\n",
    "    # rename countries\n",
    "    df['Country/Region'] = df['Country/Region'].replace(mapping['replace.country'])\n",
    "    return df"
   ]
  },
  {
   "cell_type": "code",
   "execution_count": 8,
   "id": "affiliated-characterization",
   "metadata": {
    "execution": {
     "iopub.execute_input": "2022-09-06T12:19:07.787812Z",
     "iopub.status.busy": "2022-09-06T12:19:07.787233Z",
     "iopub.status.idle": "2022-09-06T12:19:07.790759Z",
     "shell.execute_reply": "2022-09-06T12:19:07.791182Z"
    },
    "papermill": {
     "duration": 0.039462,
     "end_time": "2022-09-06T12:19:07.791308",
     "exception": false,
     "start_time": "2022-09-06T12:19:07.751846",
     "status": "completed"
    },
    "tags": []
   },
   "outputs": [],
   "source": [
    "#hide\n",
    "def get_dates(df):\n",
    "    dt_cols = df.columns[~df.columns.isin(['Province/State', 'Country/Region', 'Lat', 'Long'])]\n",
    "    LAST_DATE_I = -1\n",
    "    # sometimes last column may be empty, then go backwards\n",
    "    for i in range(-1, -len(dt_cols), -1):\n",
    "        if not df[dt_cols[i]].fillna(0).eq(0).all():\n",
    "            LAST_DATE_I = i\n",
    "            break\n",
    "    return LAST_DATE_I, dt_cols"
   ]
  },
  {
   "cell_type": "code",
   "execution_count": 9,
   "id": "recent-optimization",
   "metadata": {
    "execution": {
     "iopub.execute_input": "2022-09-06T12:19:07.866757Z",
     "iopub.status.busy": "2022-09-06T12:19:07.866179Z",
     "iopub.status.idle": "2022-09-06T12:19:08.338292Z",
     "shell.execute_reply": "2022-09-06T12:19:08.337196Z"
    },
    "papermill": {
     "duration": 0.508924,
     "end_time": "2022-09-06T12:19:08.338413",
     "exception": false,
     "start_time": "2022-09-06T12:19:07.829489",
     "status": "completed"
    },
    "tags": []
   },
   "outputs": [],
   "source": [
    "#hide\n",
    "COL_REGION = 'Country/Region'\n",
    "# Confirmed, Recovered, Deaths\n",
    "df = get_frame('confirmed')\n",
    "# dft_: timeseries, dfc_: today country agg\n",
    "dft_cases = df\n",
    "dft_deaths = get_frame('deaths')\n",
    "dft_recovered = get_frame('recovered')\n",
    "LAST_DATE_I, dt_cols = get_dates(df)"
   ]
  },
  {
   "cell_type": "code",
   "execution_count": 10,
   "id": "absolute-copper",
   "metadata": {
    "execution": {
     "iopub.execute_input": "2022-09-06T12:19:08.405799Z",
     "iopub.status.busy": "2022-09-06T12:19:08.405224Z",
     "iopub.status.idle": "2022-09-06T12:19:08.407414Z",
     "shell.execute_reply": "2022-09-06T12:19:08.406871Z"
    },
    "papermill": {
     "duration": 0.037191,
     "end_time": "2022-09-06T12:19:08.407516",
     "exception": false,
     "start_time": "2022-09-06T12:19:08.370325",
     "status": "completed"
    },
    "tags": []
   },
   "outputs": [],
   "source": [
    "#hide\n",
    "LAST_DATE_I, dt_cols = get_dates(df)\n",
    "dt_today =dt_cols[LAST_DATE_I]\n",
    "# dt_5day = dt_cols[LAST_DATE_I - 5]\n",
    "dt_yday = dt_cols[LAST_DATE_I - 1]"
   ]
  },
  {
   "cell_type": "code",
   "execution_count": 11,
   "id": "restricted-sheriff",
   "metadata": {
    "execution": {
     "iopub.execute_input": "2022-09-06T12:19:08.477589Z",
     "iopub.status.busy": "2022-09-06T12:19:08.477017Z",
     "iopub.status.idle": "2022-09-06T12:19:08.484232Z",
     "shell.execute_reply": "2022-09-06T12:19:08.483708Z"
    },
    "papermill": {
     "duration": 0.046578,
     "end_time": "2022-09-06T12:19:08.484344",
     "exception": false,
     "start_time": "2022-09-06T12:19:08.437766",
     "status": "completed"
    },
    "tags": []
   },
   "outputs": [],
   "source": [
    "#hide\n",
    "dfc_cases = dft_cases.groupby(COL_REGION)[dt_today].sum()\n",
    "dfc_deaths = dft_deaths.groupby(COL_REGION)[dt_today].sum()\n",
    "# dfp_cases = dft_cases.groupby(COL_REGION)[dt_5day].sum()\n",
    "# dfp_deaths = dft_deaths.groupby(COL_REGION)[dt_5day].sum()\n",
    "dfp_cases = dft_cases.groupby(COL_REGION)[dt_yday].sum()\n",
    "dfp_deaths = dft_deaths.groupby(COL_REGION)[dt_yday].sum()"
   ]
  },
  {
   "cell_type": "code",
   "execution_count": 12,
   "id": "deluxe-hepatitis",
   "metadata": {
    "execution": {
     "iopub.execute_input": "2022-09-06T12:19:08.550854Z",
     "iopub.status.busy": "2022-09-06T12:19:08.550272Z",
     "iopub.status.idle": "2022-09-06T12:19:08.554955Z",
     "shell.execute_reply": "2022-09-06T12:19:08.554494Z"
    },
    "papermill": {
     "duration": 0.040436,
     "end_time": "2022-09-06T12:19:08.555060",
     "exception": false,
     "start_time": "2022-09-06T12:19:08.514624",
     "status": "completed"
    },
    "tags": []
   },
   "outputs": [],
   "source": [
    "#hide\n",
    "df_table = (pd.DataFrame(dict(Cases = dfc_cases, Deaths = dfc_deaths, PCases = dfp_cases, PDeaths = dfp_deaths))\n",
    "            .sort_values(by = ['Cases','Deaths'], ascending = [False, False])\n",
    "            .reset_index())"
   ]
  },
  {
   "cell_type": "code",
   "execution_count": 13,
   "id": "educational-chancellor",
   "metadata": {
    "execution": {
     "iopub.execute_input": "2022-09-06T12:19:08.632761Z",
     "iopub.status.busy": "2022-09-06T12:19:08.632160Z",
     "iopub.status.idle": "2022-09-06T12:19:08.643995Z",
     "shell.execute_reply": "2022-09-06T12:19:08.644442Z"
    },
    "papermill": {
     "duration": 0.055003,
     "end_time": "2022-09-06T12:19:08.644571",
     "exception": false,
     "start_time": "2022-09-06T12:19:08.589568",
     "status": "completed"
    },
    "tags": []
   },
   "outputs": [
    {
     "data": {
      "text/html": [
       "<div>\n",
       "<style scoped>\n",
       "    .dataframe tbody tr th:only-of-type {\n",
       "        vertical-align: middle;\n",
       "    }\n",
       "\n",
       "    .dataframe tbody tr th {\n",
       "        vertical-align: top;\n",
       "    }\n",
       "\n",
       "    .dataframe thead th {\n",
       "        text-align: right;\n",
       "    }\n",
       "</style>\n",
       "<table border=\"1\" class=\"dataframe\">\n",
       "  <thead>\n",
       "    <tr style=\"text-align: right;\">\n",
       "      <th></th>\n",
       "      <th>Country/Region</th>\n",
       "      <th>Cases</th>\n",
       "      <th>Deaths</th>\n",
       "      <th>PCases</th>\n",
       "      <th>PDeaths</th>\n",
       "      <th>Cases (+)</th>\n",
       "      <th>Deaths (+)</th>\n",
       "      <th>Fatality Rate</th>\n",
       "      <th>Continent</th>\n",
       "    </tr>\n",
       "  </thead>\n",
       "  <tbody>\n",
       "    <tr>\n",
       "      <th>0</th>\n",
       "      <td>US</td>\n",
       "      <td>94768178</td>\n",
       "      <td>1047563</td>\n",
       "      <td>94748404</td>\n",
       "      <td>1047498</td>\n",
       "      <td>19774</td>\n",
       "      <td>65</td>\n",
       "      <td>1.11</td>\n",
       "      <td>North America</td>\n",
       "    </tr>\n",
       "    <tr>\n",
       "      <th>1</th>\n",
       "      <td>India</td>\n",
       "      <td>44466862</td>\n",
       "      <td>528030</td>\n",
       "      <td>44462445</td>\n",
       "      <td>528007</td>\n",
       "      <td>4417</td>\n",
       "      <td>23</td>\n",
       "      <td>1.19</td>\n",
       "      <td>Asia</td>\n",
       "    </tr>\n",
       "    <tr>\n",
       "      <th>2</th>\n",
       "      <td>France</td>\n",
       "      <td>34812853</td>\n",
       "      <td>155313</td>\n",
       "      <td>34780903</td>\n",
       "      <td>155229</td>\n",
       "      <td>31950</td>\n",
       "      <td>84</td>\n",
       "      <td>0.45</td>\n",
       "      <td>Europe</td>\n",
       "    </tr>\n",
       "    <tr>\n",
       "      <th>3</th>\n",
       "      <td>Brazil</td>\n",
       "      <td>34477539</td>\n",
       "      <td>684425</td>\n",
       "      <td>34456145</td>\n",
       "      <td>684262</td>\n",
       "      <td>21394</td>\n",
       "      <td>163</td>\n",
       "      <td>1.99</td>\n",
       "      <td>South America</td>\n",
       "    </tr>\n",
       "    <tr>\n",
       "      <th>4</th>\n",
       "      <td>Germany</td>\n",
       "      <td>32297537</td>\n",
       "      <td>147861</td>\n",
       "      <td>32247828</td>\n",
       "      <td>147762</td>\n",
       "      <td>49709</td>\n",
       "      <td>99</td>\n",
       "      <td>0.46</td>\n",
       "      <td>Europe</td>\n",
       "    </tr>\n",
       "  </tbody>\n",
       "</table>\n",
       "</div>"
      ],
      "text/plain": [
       "  Country/Region     Cases   Deaths    PCases  PDeaths  Cases (+)  Deaths (+)  \\\n",
       "0             US  94768178  1047563  94748404  1047498      19774          65   \n",
       "1          India  44466862   528030  44462445   528007       4417          23   \n",
       "2         France  34812853   155313  34780903   155229      31950          84   \n",
       "3         Brazil  34477539   684425  34456145   684262      21394         163   \n",
       "4        Germany  32297537   147861  32247828   147762      49709          99   \n",
       "\n",
       "   Fatality Rate      Continent  \n",
       "0           1.11  North America  \n",
       "1           1.19           Asia  \n",
       "2           0.45         Europe  \n",
       "3           1.99  South America  \n",
       "4           0.46         Europe  "
      ]
     },
     "execution_count": 13,
     "metadata": {},
     "output_type": "execute_result"
    }
   ],
   "source": [
    "#hide\n",
    "for c in 'Cases, Deaths'.split(', '):\n",
    "    df_table[f'{c} (+)'] = (df_table[c] - df_table[f'P{c}']).clip(0)\n",
    "    #Clip ça veut dire, les chiffres negatif sont interdit\n",
    "df_table['Fatality Rate'] = (100* df_table['Deaths']/ df_table['Cases']).round(2)\n",
    "df_table['Continent'] = df_table['Country/Region'].map(mapping['map.continent'])\n",
    "df_table.head(5)"
   ]
  },
  {
   "cell_type": "code",
   "execution_count": 14,
   "id": "aboriginal-bulgaria",
   "metadata": {
    "execution": {
     "iopub.execute_input": "2022-09-06T12:19:08.711918Z",
     "iopub.status.busy": "2022-09-06T12:19:08.711347Z",
     "iopub.status.idle": "2022-09-06T12:19:08.713214Z",
     "shell.execute_reply": "2022-09-06T12:19:08.713717Z"
    },
    "papermill": {
     "duration": 0.038428,
     "end_time": "2022-09-06T12:19:08.713839",
     "exception": false,
     "start_time": "2022-09-06T12:19:08.675411",
     "status": "completed"
    },
    "tags": []
   },
   "outputs": [],
   "source": [
    "#hide\n",
    "#delete problematic countries from table\n",
    "df_table = df_table[~df_table['Country/Region'].isin(['Cape Verde', 'Cruise Ship', 'Kosovo'])]"
   ]
  },
  {
   "cell_type": "code",
   "execution_count": 15,
   "id": "fantastic-effect",
   "metadata": {
    "execution": {
     "iopub.execute_input": "2022-09-06T12:19:08.782757Z",
     "iopub.status.busy": "2022-09-06T12:19:08.782190Z",
     "iopub.status.idle": "2022-09-06T12:19:08.799374Z",
     "shell.execute_reply": "2022-09-06T12:19:08.799804Z"
    },
    "papermill": {
     "duration": 0.055446,
     "end_time": "2022-09-06T12:19:08.799930",
     "exception": false,
     "start_time": "2022-09-06T12:19:08.744484",
     "status": "completed"
    },
    "tags": []
   },
   "outputs": [
    {
     "data": {
      "text/html": [
       "<div>\n",
       "<style scoped>\n",
       "    .dataframe tbody tr th:only-of-type {\n",
       "        vertical-align: middle;\n",
       "    }\n",
       "\n",
       "    .dataframe tbody tr th {\n",
       "        vertical-align: top;\n",
       "    }\n",
       "\n",
       "    .dataframe thead th {\n",
       "        text-align: right;\n",
       "    }\n",
       "</style>\n",
       "<table border=\"1\" class=\"dataframe\">\n",
       "  <thead>\n",
       "    <tr style=\"text-align: right;\">\n",
       "      <th></th>\n",
       "      <th>Country/Region</th>\n",
       "      <th>Cases</th>\n",
       "      <th>Deaths</th>\n",
       "      <th>PCases</th>\n",
       "      <th>PDeaths</th>\n",
       "      <th>Cases (+)</th>\n",
       "      <th>Deaths (+)</th>\n",
       "      <th>Fatality Rate</th>\n",
       "      <th>Continent</th>\n",
       "    </tr>\n",
       "  </thead>\n",
       "  <tbody>\n",
       "    <tr>\n",
       "      <th>0</th>\n",
       "      <td>US</td>\n",
       "      <td>94768178</td>\n",
       "      <td>1047563</td>\n",
       "      <td>94748404</td>\n",
       "      <td>1047498</td>\n",
       "      <td>19774</td>\n",
       "      <td>65</td>\n",
       "      <td>1.1</td>\n",
       "      <td>North America</td>\n",
       "    </tr>\n",
       "    <tr>\n",
       "      <th>1</th>\n",
       "      <td>India</td>\n",
       "      <td>44466862</td>\n",
       "      <td>528030</td>\n",
       "      <td>44462445</td>\n",
       "      <td>528007</td>\n",
       "      <td>4417</td>\n",
       "      <td>23</td>\n",
       "      <td>1.2</td>\n",
       "      <td>Asia</td>\n",
       "    </tr>\n",
       "    <tr>\n",
       "      <th>2</th>\n",
       "      <td>France</td>\n",
       "      <td>34812853</td>\n",
       "      <td>155313</td>\n",
       "      <td>34780903</td>\n",
       "      <td>155229</td>\n",
       "      <td>31950</td>\n",
       "      <td>84</td>\n",
       "      <td>0.4</td>\n",
       "      <td>Europe</td>\n",
       "    </tr>\n",
       "    <tr>\n",
       "      <th>3</th>\n",
       "      <td>Brazil</td>\n",
       "      <td>34477539</td>\n",
       "      <td>684425</td>\n",
       "      <td>34456145</td>\n",
       "      <td>684262</td>\n",
       "      <td>21394</td>\n",
       "      <td>163</td>\n",
       "      <td>2.0</td>\n",
       "      <td>South America</td>\n",
       "    </tr>\n",
       "    <tr>\n",
       "      <th>4</th>\n",
       "      <td>Germany</td>\n",
       "      <td>32297537</td>\n",
       "      <td>147861</td>\n",
       "      <td>32247828</td>\n",
       "      <td>147762</td>\n",
       "      <td>49709</td>\n",
       "      <td>99</td>\n",
       "      <td>0.5</td>\n",
       "      <td>Europe</td>\n",
       "    </tr>\n",
       "  </tbody>\n",
       "</table>\n",
       "</div>"
      ],
      "text/plain": [
       "  Country/Region     Cases   Deaths    PCases  PDeaths  Cases (+)  Deaths (+)  \\\n",
       "0             US  94768178  1047563  94748404  1047498      19774          65   \n",
       "1          India  44466862   528030  44462445   528007       4417          23   \n",
       "2         France  34812853   155313  34780903   155229      31950          84   \n",
       "3         Brazil  34477539   684425  34456145   684262      21394         163   \n",
       "4        Germany  32297537   147861  32247828   147762      49709          99   \n",
       "\n",
       "   Fatality Rate      Continent  \n",
       "0            1.1  North America  \n",
       "1            1.2           Asia  \n",
       "2            0.4         Europe  \n",
       "3            2.0  South America  \n",
       "4            0.5         Europe  "
      ]
     },
     "execution_count": 15,
     "metadata": {},
     "output_type": "execute_result"
    }
   ],
   "source": [
    "#hide\n",
    "df_table = (pd.DataFrame(dict(Cases=dfc_cases, Deaths=dfc_deaths, PCases=dfp_cases, PDeaths=dfp_deaths))\n",
    "             .sort_values(by=['Cases', 'Deaths'], ascending=[False, False])\n",
    "             .reset_index())\n",
    "df_table.rename(columns={'index': 'Country/Region'}, inplace=True)\n",
    "for c in 'Cases, Deaths'.split(', '):\n",
    "    df_table[f'{c} (+)'] = (df_table[c] - df_table[f'P{c}']).clip(0)  # DATA BUG\n",
    "df_table['Fatality Rate'] = (100 * df_table['Deaths'] / df_table['Cases']).round(1)\n",
    "df_table['Continent'] = df_table['Country/Region'].map(mapping['map.continent'])\n",
    "df_table.head(5)"
   ]
  },
  {
   "cell_type": "code",
   "execution_count": 16,
   "id": "fewer-occasion",
   "metadata": {
    "execution": {
     "iopub.execute_input": "2022-09-06T12:19:08.874146Z",
     "iopub.status.busy": "2022-09-06T12:19:08.873147Z",
     "iopub.status.idle": "2022-09-06T12:19:08.874646Z",
     "shell.execute_reply": "2022-09-06T12:19:08.873698Z"
    },
    "papermill": {
     "duration": 0.043241,
     "end_time": "2022-09-06T12:19:08.874744",
     "exception": false,
     "start_time": "2022-09-06T12:19:08.831503",
     "status": "completed"
    },
    "tags": []
   },
   "outputs": [],
   "source": [
    "#hide\n",
    "#delete problematic countries from table\n",
    "df_table = df_table[~df_table['Country/Region'].isin(['Cape Verde', 'Cruise Ship', 'Kosovo'])]"
   ]
  },
  {
   "cell_type": "code",
   "execution_count": 17,
   "id": "related-center",
   "metadata": {
    "execution": {
     "iopub.execute_input": "2022-09-06T12:19:08.954410Z",
     "iopub.status.busy": "2022-09-06T12:19:08.953828Z",
     "iopub.status.idle": "2022-09-06T12:19:08.956651Z",
     "shell.execute_reply": "2022-09-06T12:19:08.956100Z"
    },
    "papermill": {
     "duration": 0.051114,
     "end_time": "2022-09-06T12:19:08.956757",
     "exception": false,
     "start_time": "2022-09-06T12:19:08.905643",
     "status": "completed"
    },
    "tags": []
   },
   "outputs": [],
   "source": [
    "#hide\n",
    "metrics = [df_table.columns[index] for index in [1,2,5,6]]\n",
    "# s_china = df_table[df_table['Country/Region'].eq('China')][metrics].sum().add_prefix('China ')\n",
    "s_us = df_table[df_table['Country/Region'].eq('US')][metrics].sum().add_prefix('US ')\n",
    "s_eu = df_table[df_table['Continent'].eq('Europe')][metrics].sum().add_prefix('EU ')\n",
    "s_ind = df_table[df_table['Country/Region'].eq('India')][metrics].sum().add_prefix('India ')\n",
    "summary = {'updated': pd.to_datetime(dt_today), 'since': pd.to_datetime(dt_yday)}\n",
    "summary = {'updated': pd.to_datetime(dt_today), 'since': pd.to_datetime(dt_yday)}\n",
    "summary = {**summary, **df_table[metrics].sum(), **s_ind, **s_us, **s_eu}"
   ]
  },
  {
   "cell_type": "code",
   "execution_count": 18,
   "id": "engaging-syndrome",
   "metadata": {
    "execution": {
     "iopub.execute_input": "2022-09-06T12:19:09.024077Z",
     "iopub.status.busy": "2022-09-06T12:19:09.023530Z",
     "iopub.status.idle": "2022-09-06T12:19:09.042872Z",
     "shell.execute_reply": "2022-09-06T12:19:09.042405Z"
    },
    "papermill": {
     "duration": 0.054819,
     "end_time": "2022-09-06T12:19:09.042978",
     "exception": false,
     "start_time": "2022-09-06T12:19:08.988159",
     "status": "completed"
    },
    "tags": []
   },
   "outputs": [],
   "source": [
    "#hide\n",
    "dft_ct_new_cases = dft_cases.groupby(COL_REGION)[dt_cols].sum().diff(axis=1).fillna(0).astype(int)"
   ]
  },
  {
   "cell_type": "code",
   "execution_count": 19,
   "id": "neutral-assignment",
   "metadata": {
    "execution": {
     "iopub.execute_input": "2022-09-06T12:19:09.111583Z",
     "iopub.status.busy": "2022-09-06T12:19:09.110996Z",
     "iopub.status.idle": "2022-09-06T12:19:09.113012Z",
     "shell.execute_reply": "2022-09-06T12:19:09.113409Z"
    },
    "papermill": {
     "duration": 0.039429,
     "end_time": "2022-09-06T12:19:09.113528",
     "exception": false,
     "start_time": "2022-09-06T12:19:09.074099",
     "status": "completed"
    },
    "tags": []
   },
   "outputs": [],
   "source": [
    "#hide\n",
    "everydaycases = dft_ct_new_cases.cumsum(axis=1)"
   ]
  },
  {
   "cell_type": "code",
   "execution_count": 20,
   "id": "parliamentary-calgary",
   "metadata": {
    "execution": {
     "iopub.execute_input": "2022-09-06T12:19:09.184440Z",
     "iopub.status.busy": "2022-09-06T12:19:09.183853Z",
     "iopub.status.idle": "2022-09-06T12:19:09.727709Z",
     "shell.execute_reply": "2022-09-06T12:19:09.727230Z"
    },
    "papermill": {
     "duration": 0.583008,
     "end_time": "2022-09-06T12:19:09.727825",
     "exception": false,
     "start_time": "2022-09-06T12:19:09.144817",
     "status": "completed"
    },
    "tags": []
   },
   "outputs": [],
   "source": [
    "#hide\n",
    "import pandas as pd\n",
    "import matplotlib.pyplot as plt\n",
    "import matplotlib.ticker as ticker\n",
    "import matplotlib.animation as animation\n",
    "from IPython.display import HTML"
   ]
  },
  {
   "cell_type": "code",
   "execution_count": 21,
   "id": "lasting-extraction",
   "metadata": {
    "execution": {
     "iopub.execute_input": "2022-09-06T12:19:09.801185Z",
     "iopub.status.busy": "2022-09-06T12:19:09.800588Z",
     "iopub.status.idle": "2022-09-06T12:19:09.807578Z",
     "shell.execute_reply": "2022-09-06T12:19:09.807136Z"
    },
    "papermill": {
     "duration": 0.048748,
     "end_time": "2022-09-06T12:19:09.807689",
     "exception": false,
     "start_time": "2022-09-06T12:19:09.758941",
     "status": "completed"
    },
    "tags": []
   },
   "outputs": [],
   "source": [
    "#hide\n",
    "t = everydaycases.stack()"
   ]
  },
  {
   "cell_type": "code",
   "execution_count": 22,
   "id": "premier-sleeve",
   "metadata": {
    "execution": {
     "iopub.execute_input": "2022-09-06T12:19:09.876447Z",
     "iopub.status.busy": "2022-09-06T12:19:09.875820Z",
     "iopub.status.idle": "2022-09-06T12:19:09.887259Z",
     "shell.execute_reply": "2022-09-06T12:19:09.886766Z"
    },
    "papermill": {
     "duration": 0.048167,
     "end_time": "2022-09-06T12:19:09.887367",
     "exception": false,
     "start_time": "2022-09-06T12:19:09.839200",
     "status": "completed"
    },
    "tags": []
   },
   "outputs": [],
   "source": [
    "#hide\n",
    "g = t.reset_index(['Country/Region'])"
   ]
  },
  {
   "cell_type": "code",
   "execution_count": 23,
   "id": "distributed-pittsburgh",
   "metadata": {
    "execution": {
     "iopub.execute_input": "2022-09-06T12:19:09.953891Z",
     "iopub.status.busy": "2022-09-06T12:19:09.953324Z",
     "iopub.status.idle": "2022-09-06T12:19:09.955655Z",
     "shell.execute_reply": "2022-09-06T12:19:09.955127Z"
    },
    "papermill": {
     "duration": 0.037144,
     "end_time": "2022-09-06T12:19:09.955756",
     "exception": false,
     "start_time": "2022-09-06T12:19:09.918612",
     "status": "completed"
    },
    "tags": []
   },
   "outputs": [],
   "source": [
    "#hide\n",
    "g.index.name = 'date'"
   ]
  },
  {
   "cell_type": "code",
   "execution_count": 24,
   "id": "naked-donor",
   "metadata": {
    "execution": {
     "iopub.execute_input": "2022-09-06T12:19:10.028032Z",
     "iopub.status.busy": "2022-09-06T12:19:10.027396Z",
     "iopub.status.idle": "2022-09-06T12:19:10.034932Z",
     "shell.execute_reply": "2022-09-06T12:19:10.035366Z"
    },
    "papermill": {
     "duration": 0.048265,
     "end_time": "2022-09-06T12:19:10.035500",
     "exception": false,
     "start_time": "2022-09-06T12:19:09.987235",
     "status": "completed"
    },
    "tags": []
   },
   "outputs": [],
   "source": [
    "# #hide\n",
    "# g = g.reset_index(['date'])"
   ]
  },
  {
   "cell_type": "code",
   "execution_count": 25,
   "id": "incomplete-mustang",
   "metadata": {
    "execution": {
     "iopub.execute_input": "2022-09-06T12:19:10.102054Z",
     "iopub.status.busy": "2022-09-06T12:19:10.101471Z",
     "iopub.status.idle": "2022-09-06T12:19:10.103347Z",
     "shell.execute_reply": "2022-09-06T12:19:10.103752Z"
    },
    "papermill": {
     "duration": 0.037076,
     "end_time": "2022-09-06T12:19:10.103876",
     "exception": false,
     "start_time": "2022-09-06T12:19:10.066800",
     "status": "completed"
    },
    "tags": []
   },
   "outputs": [],
   "source": [
    "#hide\n",
    "# g.head()"
   ]
  },
  {
   "cell_type": "code",
   "execution_count": 26,
   "id": "specific-kruger",
   "metadata": {
    "execution": {
     "iopub.execute_input": "2022-09-06T12:19:10.171283Z",
     "iopub.status.busy": "2022-09-06T12:19:10.170679Z",
     "iopub.status.idle": "2022-09-06T12:19:10.173868Z",
     "shell.execute_reply": "2022-09-06T12:19:10.173400Z"
    },
    "papermill": {
     "duration": 0.038494,
     "end_time": "2022-09-06T12:19:10.173976",
     "exception": false,
     "start_time": "2022-09-06T12:19:10.135482",
     "status": "completed"
    },
    "tags": []
   },
   "outputs": [],
   "source": [
    "#hide\n",
    "# g.columns = ['date','country','cases']"
   ]
  },
  {
   "cell_type": "code",
   "execution_count": 27,
   "id": "tender-conversion",
   "metadata": {
    "execution": {
     "iopub.execute_input": "2022-09-06T12:19:10.241094Z",
     "iopub.status.busy": "2022-09-06T12:19:10.240439Z",
     "iopub.status.idle": "2022-09-06T12:19:10.242014Z",
     "shell.execute_reply": "2022-09-06T12:19:10.242554Z"
    },
    "papermill": {
     "duration": 0.037161,
     "end_time": "2022-09-06T12:19:10.242684",
     "exception": false,
     "start_time": "2022-09-06T12:19:10.205523",
     "status": "completed"
    },
    "tags": []
   },
   "outputs": [],
   "source": [
    "#hide\n",
    "# g['continent'] = g.country"
   ]
  },
  {
   "cell_type": "code",
   "execution_count": 28,
   "id": "substantial-wilderness",
   "metadata": {
    "execution": {
     "iopub.execute_input": "2022-09-06T12:19:10.313457Z",
     "iopub.status.busy": "2022-09-06T12:19:10.312862Z",
     "iopub.status.idle": "2022-09-06T12:19:10.315243Z",
     "shell.execute_reply": "2022-09-06T12:19:10.314703Z"
    },
    "papermill": {
     "duration": 0.037002,
     "end_time": "2022-09-06T12:19:10.315347",
     "exception": false,
     "start_time": "2022-09-06T12:19:10.278345",
     "status": "completed"
    },
    "tags": []
   },
   "outputs": [],
   "source": [
    "#hide\n",
    "# cols = list(g.columns.values)"
   ]
  },
  {
   "cell_type": "code",
   "execution_count": 29,
   "id": "solved-farming",
   "metadata": {
    "execution": {
     "iopub.execute_input": "2022-09-06T12:19:10.385662Z",
     "iopub.status.busy": "2022-09-06T12:19:10.385104Z",
     "iopub.status.idle": "2022-09-06T12:19:10.387498Z",
     "shell.execute_reply": "2022-09-06T12:19:10.387063Z"
    },
    "papermill": {
     "duration": 0.041007,
     "end_time": "2022-09-06T12:19:10.387598",
     "exception": false,
     "start_time": "2022-09-06T12:19:10.346591",
     "status": "completed"
    },
    "tags": []
   },
   "outputs": [],
   "source": [
    "#hide\n",
    "# cols.insert(0, cols.pop())"
   ]
  },
  {
   "cell_type": "code",
   "execution_count": 30,
   "id": "executed-adoption",
   "metadata": {
    "execution": {
     "iopub.execute_input": "2022-09-06T12:19:10.453995Z",
     "iopub.status.busy": "2022-09-06T12:19:10.453422Z",
     "iopub.status.idle": "2022-09-06T12:19:10.455737Z",
     "shell.execute_reply": "2022-09-06T12:19:10.455212Z"
    },
    "papermill": {
     "duration": 0.036873,
     "end_time": "2022-09-06T12:19:10.455838",
     "exception": false,
     "start_time": "2022-09-06T12:19:10.418965",
     "status": "completed"
    },
    "tags": []
   },
   "outputs": [],
   "source": [
    "#hide\n",
    "# g = g[cols]"
   ]
  },
  {
   "cell_type": "code",
   "execution_count": 31,
   "id": "subject-dublin",
   "metadata": {
    "execution": {
     "iopub.execute_input": "2022-09-06T12:19:10.525897Z",
     "iopub.status.busy": "2022-09-06T12:19:10.525320Z",
     "iopub.status.idle": "2022-09-06T12:19:10.527581Z",
     "shell.execute_reply": "2022-09-06T12:19:10.527994Z"
    },
    "papermill": {
     "duration": 0.037056,
     "end_time": "2022-09-06T12:19:10.528118",
     "exception": false,
     "start_time": "2022-09-06T12:19:10.491062",
     "status": "completed"
    },
    "tags": []
   },
   "outputs": [],
   "source": [
    "#hide\n",
    "# g['continent'] = g['continent'].map(mapping['map.continent'])"
   ]
  },
  {
   "cell_type": "code",
   "execution_count": 32,
   "id": "freelance-scout",
   "metadata": {
    "execution": {
     "iopub.execute_input": "2022-09-06T12:19:10.596990Z",
     "iopub.status.busy": "2022-09-06T12:19:10.596417Z",
     "iopub.status.idle": "2022-09-06T12:19:10.598594Z",
     "shell.execute_reply": "2022-09-06T12:19:10.598995Z"
    },
    "papermill": {
     "duration": 0.039707,
     "end_time": "2022-09-06T12:19:10.599113",
     "exception": false,
     "start_time": "2022-09-06T12:19:10.559406",
     "status": "completed"
    },
    "tags": []
   },
   "outputs": [],
   "source": [
    "#hide\n",
    "# g.head()"
   ]
  },
  {
   "cell_type": "code",
   "execution_count": 33,
   "id": "limited-engine",
   "metadata": {
    "execution": {
     "iopub.execute_input": "2022-09-06T12:19:10.665132Z",
     "iopub.status.busy": "2022-09-06T12:19:10.664558Z",
     "iopub.status.idle": "2022-09-06T12:19:10.666832Z",
     "shell.execute_reply": "2022-09-06T12:19:10.666396Z"
    },
    "papermill": {
     "duration": 0.036717,
     "end_time": "2022-09-06T12:19:10.666933",
     "exception": false,
     "start_time": "2022-09-06T12:19:10.630216",
     "status": "completed"
    },
    "tags": []
   },
   "outputs": [],
   "source": [
    "# hide\n",
    "# g['date'] = g['date'].astype('datetime64[ns]')"
   ]
  },
  {
   "cell_type": "code",
   "execution_count": 34,
   "id": "sophisticated-supervisor",
   "metadata": {
    "execution": {
     "iopub.execute_input": "2022-09-06T12:19:10.733479Z",
     "iopub.status.busy": "2022-09-06T12:19:10.732911Z",
     "iopub.status.idle": "2022-09-06T12:19:10.734742Z",
     "shell.execute_reply": "2022-09-06T12:19:10.735170Z"
    },
    "papermill": {
     "duration": 0.036968,
     "end_time": "2022-09-06T12:19:10.735289",
     "exception": false,
     "start_time": "2022-09-06T12:19:10.698321",
     "status": "completed"
    },
    "tags": []
   },
   "outputs": [],
   "source": [
    "#hide\n",
    "# g['date'] = g.date.dt.dayofyear"
   ]
  },
  {
   "cell_type": "code",
   "execution_count": 35,
   "id": "inside-dubai",
   "metadata": {
    "execution": {
     "iopub.execute_input": "2022-09-06T12:19:10.800960Z",
     "iopub.status.busy": "2022-09-06T12:19:10.800387Z",
     "iopub.status.idle": "2022-09-06T12:19:10.802724Z",
     "shell.execute_reply": "2022-09-06T12:19:10.802197Z"
    },
    "papermill": {
     "duration": 0.03659,
     "end_time": "2022-09-06T12:19:10.802826",
     "exception": false,
     "start_time": "2022-09-06T12:19:10.766236",
     "status": "completed"
    },
    "tags": []
   },
   "outputs": [],
   "source": [
    "#hide\n",
    "# g = g.rename(columns= {'continent':'group','country':'name','cases':'value'})"
   ]
  },
  {
   "cell_type": "code",
   "execution_count": 36,
   "id": "fleet-motorcycle",
   "metadata": {
    "execution": {
     "iopub.execute_input": "2022-09-06T12:19:10.871214Z",
     "iopub.status.busy": "2022-09-06T12:19:10.870538Z",
     "iopub.status.idle": "2022-09-06T12:19:10.872151Z",
     "shell.execute_reply": "2022-09-06T12:19:10.871715Z"
    },
    "papermill": {
     "duration": 0.03827,
     "end_time": "2022-09-06T12:19:10.872273",
     "exception": false,
     "start_time": "2022-09-06T12:19:10.834003",
     "status": "completed"
    },
    "tags": []
   },
   "outputs": [],
   "source": [
    "#hide\n",
    "# cols = ['name','group','day','value']"
   ]
  },
  {
   "cell_type": "code",
   "execution_count": 37,
   "id": "continued-sleeping",
   "metadata": {
    "execution": {
     "iopub.execute_input": "2022-09-06T12:19:10.937760Z",
     "iopub.status.busy": "2022-09-06T12:19:10.937193Z",
     "iopub.status.idle": "2022-09-06T12:19:10.939276Z",
     "shell.execute_reply": "2022-09-06T12:19:10.939695Z"
    },
    "papermill": {
     "duration": 0.036668,
     "end_time": "2022-09-06T12:19:10.939815",
     "exception": false,
     "start_time": "2022-09-06T12:19:10.903147",
     "status": "completed"
    },
    "tags": []
   },
   "outputs": [],
   "source": [
    "#hide\n",
    "# g.rename(columns= {'date':'day'},inplace = True)"
   ]
  },
  {
   "cell_type": "code",
   "execution_count": 38,
   "id": "major-fight",
   "metadata": {
    "execution": {
     "iopub.execute_input": "2022-09-06T12:19:11.005593Z",
     "iopub.status.busy": "2022-09-06T12:19:11.005026Z",
     "iopub.status.idle": "2022-09-06T12:19:11.007745Z",
     "shell.execute_reply": "2022-09-06T12:19:11.007250Z"
    },
    "papermill": {
     "duration": 0.03692,
     "end_time": "2022-09-06T12:19:11.007849",
     "exception": false,
     "start_time": "2022-09-06T12:19:10.970929",
     "status": "completed"
    },
    "tags": []
   },
   "outputs": [],
   "source": [
    "#hide\n",
    "# g = g[cols]"
   ]
  },
  {
   "cell_type": "code",
   "execution_count": 39,
   "id": "structured-mobile",
   "metadata": {
    "execution": {
     "iopub.execute_input": "2022-09-06T12:19:11.073479Z",
     "iopub.status.busy": "2022-09-06T12:19:11.072913Z",
     "iopub.status.idle": "2022-09-06T12:19:11.075295Z",
     "shell.execute_reply": "2022-09-06T12:19:11.074776Z"
    },
    "papermill": {
     "duration": 0.036649,
     "end_time": "2022-09-06T12:19:11.075394",
     "exception": false,
     "start_time": "2022-09-06T12:19:11.038745",
     "status": "completed"
    },
    "tags": []
   },
   "outputs": [],
   "source": [
    "# #hide\n",
    "# g = g[g.group.notna()]"
   ]
  },
  {
   "cell_type": "code",
   "execution_count": 40,
   "id": "determined-closing",
   "metadata": {
    "execution": {
     "iopub.execute_input": "2022-09-06T12:19:11.141664Z",
     "iopub.status.busy": "2022-09-06T12:19:11.141091Z",
     "iopub.status.idle": "2022-09-06T12:19:11.143279Z",
     "shell.execute_reply": "2022-09-06T12:19:11.143685Z"
    },
    "papermill": {
     "duration": 0.037298,
     "end_time": "2022-09-06T12:19:11.143805",
     "exception": false,
     "start_time": "2022-09-06T12:19:11.106507",
     "status": "completed"
    },
    "tags": []
   },
   "outputs": [],
   "source": [
    "# #hide\n",
    "# colors = dict(zip(\n",
    "#     [\"Oceania\", \"Europe\", \"Asia\", \"South America\", \"Middle East\", \"North America\", \"Africa\"],\n",
    "#     [\"#adb0ff\", \"#ffb3ff\", \"#90d595\", \"#e48381\", \"#aafbff\", \"#f7bb5f\", \"#eafb50\"]\n",
    "# ))\n",
    "# group_lk = g.set_index('name')['group'].to_dict()"
   ]
  },
  {
   "cell_type": "code",
   "execution_count": null,
   "id": "gross-drinking",
   "metadata": {
    "papermill": {
     "duration": 0.031118,
     "end_time": "2022-09-06T12:19:11.206066",
     "exception": false,
     "start_time": "2022-09-06T12:19:11.174948",
     "status": "completed"
    },
    "tags": []
   },
   "outputs": [],
   "source": []
  },
  {
   "cell_type": "code",
   "execution_count": 41,
   "id": "subject-macintosh",
   "metadata": {
    "execution": {
     "iopub.execute_input": "2022-09-06T12:19:11.276340Z",
     "iopub.status.busy": "2022-09-06T12:19:11.275697Z",
     "iopub.status.idle": "2022-09-06T12:19:11.277991Z",
     "shell.execute_reply": "2022-09-06T12:19:11.277460Z"
    },
    "papermill": {
     "duration": 0.040641,
     "end_time": "2022-09-06T12:19:11.278094",
     "exception": false,
     "start_time": "2022-09-06T12:19:11.237453",
     "status": "completed"
    },
    "tags": []
   },
   "outputs": [],
   "source": [
    "# #hide\n",
    "# fig, ax = plt.subplots(figsize=(15, 8))\n",
    "\n",
    "# def draw_barchart(current_day):\n",
    "#     dff = g[g['day'].eq(current_day)].sort_values(by='value', ascending=True).tail(10)\n",
    "#     ax.clear()\n",
    "#     ax.barh(dff['name'], dff['value'], color=[colors[group_lk[x]] for x in dff['name']])\n",
    "#     dx = dff['value'].max() / 200\n",
    "    \n",
    "#     for i, (value, name) in enumerate(zip(dff['value'], dff['name'])):\n",
    "#         ax.text(value-dx, i,     name,           size=14, weight=600, ha='right', va='bottom')\n",
    "#         ax.text(value-dx, i-.25, group_lk[name], size=10, color='#444444', ha='right', va='baseline')\n",
    "#         ax.text(value+dx, i,     f'{value:,.0f}',  size=14, ha='left',  va='center')\n",
    "#     ax.text(1, 0.4, current_day, transform=ax.transAxes, color='#777777', size=46, ha='right', weight=800)\n",
    "#     ax.text(0, 1.06, 'Population (thousands)', transform=ax.transAxes, size=12, color='#777777')\n",
    "#     ax.xaxis.set_major_formatter(ticker.StrMethodFormatter('{x:,.0f}'))\n",
    "#     ax.xaxis.set_ticks_position('top')\n",
    "#     ax.tick_params(axis='x', colors='#777777', labelsize=12)\n",
    "#     ax.set_yticks([])\n",
    "#     ax.margins(0, 0.01)\n",
    "#     ax.grid(which='major', axis='x', linestyle='-')\n",
    "#     ax.set_axisbelow(True)\n",
    "    \n",
    "#     ax.text(0, 1.15, 'Coronavirus',\n",
    "#             transform=ax.transAxes, size=24, weight=600, ha='left', va='top')\n",
    "# #     ax.text(1, 0, 'by @pratapvardhan; credit @jburnmurdoch', transform=ax.transAxes, color='#777777', ha='right',\n",
    "# #             bbox=dict(facecolor='white', alpha=0.8, edgecolor='white'))\n",
    "#     plt.box(False)"
   ]
  },
  {
   "cell_type": "code",
   "execution_count": 42,
   "id": "sexual-wages",
   "metadata": {
    "execution": {
     "iopub.execute_input": "2022-09-06T12:19:11.343550Z",
     "iopub.status.busy": "2022-09-06T12:19:11.342971Z",
     "iopub.status.idle": "2022-09-06T12:19:11.345181Z",
     "shell.execute_reply": "2022-09-06T12:19:11.345580Z"
    },
    "papermill": {
     "duration": 0.036719,
     "end_time": "2022-09-06T12:19:11.345696",
     "exception": false,
     "start_time": "2022-09-06T12:19:11.308977",
     "status": "completed"
    },
    "tags": []
   },
   "outputs": [],
   "source": [
    "# #hide_input\n",
    "# fig, ax = plt.subplots(figsize=(15, 8))\n",
    "# animator = animation.FuncAnimation(fig, draw_barchart, frames=range(g.day.values.min(), g.day.values.max()))\n",
    "# HTML(animator.to_jshtml())\n",
    "# # or use animator.to_html5_video() or animator.save() "
   ]
  },
  {
   "cell_type": "code",
   "execution_count": null,
   "id": "australian-container",
   "metadata": {
    "papermill": {
     "duration": 0.031697,
     "end_time": "2022-09-06T12:19:11.410670",
     "exception": false,
     "start_time": "2022-09-06T12:19:11.378973",
     "status": "completed"
    },
    "tags": []
   },
   "outputs": [],
   "source": []
  },
  {
   "cell_type": "code",
   "execution_count": null,
   "id": "mediterranean-pontiac",
   "metadata": {
    "papermill": {
     "duration": 0.031028,
     "end_time": "2022-09-06T12:19:11.473099",
     "exception": false,
     "start_time": "2022-09-06T12:19:11.442071",
     "status": "completed"
    },
    "tags": []
   },
   "outputs": [],
   "source": []
  },
  {
   "cell_type": "code",
   "execution_count": null,
   "id": "aging-legislature",
   "metadata": {
    "papermill": {
     "duration": 0.031063,
     "end_time": "2022-09-06T12:19:11.535352",
     "exception": false,
     "start_time": "2022-09-06T12:19:11.504289",
     "status": "completed"
    },
    "tags": []
   },
   "outputs": [],
   "source": []
  }
 ],
 "metadata": {
  "kernelspec": {
   "display_name": "Python 3",
   "language": "python",
   "name": "python3"
  },
  "language_info": {
   "codemirror_mode": {
    "name": "ipython",
    "version": 3
   },
   "file_extension": ".py",
   "mimetype": "text/x-python",
   "name": "python",
   "nbconvert_exporter": "python",
   "pygments_lexer": "ipython3",
   "version": "3.6.15"
  },
  "papermill": {
   "duration": 5.970339,
   "end_time": "2022-09-06T12:19:11.883455",
   "environment_variables": {},
   "exception": null,
   "input_path": "2020-03-21-covid19exp.ipynb",
   "output_path": "2020-03-21-covid19exp.ipynb",
   "parameters": {},
   "start_time": "2022-09-06T12:19:05.913116",
   "version": "2.0.0"
  }
 },
 "nbformat": 4,
 "nbformat_minor": 5
}