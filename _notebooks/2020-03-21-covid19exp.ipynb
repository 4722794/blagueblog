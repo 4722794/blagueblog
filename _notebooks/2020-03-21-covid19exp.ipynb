{
 "cells": [
  {
   "cell_type": "markdown",
   "id": "muslim-click",
   "metadata": {
    "papermill": {
     "duration": 0.034391,
     "end_time": "2022-08-08T00:40:53.699539",
     "exception": false,
     "start_time": "2022-08-08T00:40:53.665148",
     "status": "completed"
    },
    "tags": []
   },
   "source": [
    "# COVID-19 Case Race\n",
    "> A race chart to see rising cases around the world\n",
    "\n",
    "- author: Hargun Oberoi\n",
    "- image: images/covid-overview.png\n",
    "- hide: false\n",
    "- badges: false"
   ]
  },
  {
   "cell_type": "code",
   "execution_count": 1,
   "id": "proof-material",
   "metadata": {
    "execution": {
     "iopub.execute_input": "2022-08-08T00:40:53.768669Z",
     "iopub.status.busy": "2022-08-08T00:40:53.768103Z",
     "iopub.status.idle": "2022-08-08T00:40:54.074672Z",
     "shell.execute_reply": "2022-08-08T00:40:54.073714Z"
    },
    "papermill": {
     "duration": 0.345053,
     "end_time": "2022-08-08T00:40:54.074807",
     "exception": false,
     "start_time": "2022-08-08T00:40:53.729754",
     "status": "completed"
    },
    "tags": []
   },
   "outputs": [],
   "source": [
    "#hide\n",
    "import numpy as np\n",
    "import pandas as pd\n",
    "from jinja2 import Template\n",
    "from IPython.display import HTML"
   ]
  },
  {
   "cell_type": "code",
   "execution_count": 2,
   "id": "developed-terminology",
   "metadata": {
    "execution": {
     "iopub.execute_input": "2022-08-08T00:40:54.138292Z",
     "iopub.status.busy": "2022-08-08T00:40:54.137718Z",
     "iopub.status.idle": "2022-08-08T00:40:54.139944Z",
     "shell.execute_reply": "2022-08-08T00:40:54.139496Z"
    },
    "papermill": {
     "duration": 0.035586,
     "end_time": "2022-08-08T00:40:54.140043",
     "exception": false,
     "start_time": "2022-08-08T00:40:54.104457",
     "status": "completed"
    },
    "tags": []
   },
   "outputs": [],
   "source": [
    "#hide\n",
    "\n",
    "# FETCH\n",
    "base_url = 'https://raw.githubusercontent.com/pratapvardhan/notebooks/master/covid19/'\n",
    "paths = {\n",
    "    'mapping': base_url + 'mapping_countries.csv',\n",
    "    'overview': base_url + 'overview.tpl'\n",
    "}"
   ]
  },
  {
   "cell_type": "code",
   "execution_count": 3,
   "id": "dynamic-saver",
   "metadata": {
    "execution": {
     "iopub.execute_input": "2022-08-08T00:40:54.206674Z",
     "iopub.status.busy": "2022-08-08T00:40:54.206101Z",
     "iopub.status.idle": "2022-08-08T00:40:54.210234Z",
     "shell.execute_reply": "2022-08-08T00:40:54.209705Z"
    },
    "papermill": {
     "duration": 0.040773,
     "end_time": "2022-08-08T00:40:54.210329",
     "exception": false,
     "start_time": "2022-08-08T00:40:54.169556",
     "status": "completed"
    },
    "tags": []
   },
   "outputs": [
    {
     "data": {
      "text/plain": [
       "'https://raw.githubusercontent.com/pratapvardhan/notebooks/master/covid19/mapping_countries.csv'"
      ]
     },
     "execution_count": 3,
     "metadata": {},
     "output_type": "execute_result"
    }
   ],
   "source": [
    "#hide\n",
    "paths['mapping']"
   ]
  },
  {
   "cell_type": "code",
   "execution_count": 4,
   "id": "urban-software",
   "metadata": {
    "execution": {
     "iopub.execute_input": "2022-08-08T00:40:54.274589Z",
     "iopub.status.busy": "2022-08-08T00:40:54.274021Z",
     "iopub.status.idle": "2022-08-08T00:40:54.276721Z",
     "shell.execute_reply": "2022-08-08T00:40:54.276286Z"
    },
    "papermill": {
     "duration": 0.036738,
     "end_time": "2022-08-08T00:40:54.276816",
     "exception": false,
     "start_time": "2022-08-08T00:40:54.240078",
     "status": "completed"
    },
    "tags": []
   },
   "outputs": [],
   "source": [
    "#hide\n",
    "def get_mappings(url):\n",
    "    df = pd.read_csv(url)\n",
    "    return {\n",
    "        'df': df,\n",
    "        'replace.country': dict(df.dropna(subset=['Name']).set_index('Country')['Name']),\n",
    "        'map.continent': dict(df.set_index('Name')['Continent'])\n",
    "    }"
   ]
  },
  {
   "cell_type": "code",
   "execution_count": 5,
   "id": "intimate-machinery",
   "metadata": {
    "execution": {
     "iopub.execute_input": "2022-08-08T00:40:54.340944Z",
     "iopub.status.busy": "2022-08-08T00:40:54.340390Z",
     "iopub.status.idle": "2022-08-08T00:40:54.387306Z",
     "shell.execute_reply": "2022-08-08T00:40:54.387732Z"
    },
    "papermill": {
     "duration": 0.081355,
     "end_time": "2022-08-08T00:40:54.387842",
     "exception": false,
     "start_time": "2022-08-08T00:40:54.306487",
     "status": "completed"
    },
    "tags": []
   },
   "outputs": [],
   "source": [
    "#hide\n",
    "mapping = get_mappings(paths['mapping'])"
   ]
  },
  {
   "cell_type": "code",
   "execution_count": 6,
   "id": "certified-tactics",
   "metadata": {
    "execution": {
     "iopub.execute_input": "2022-08-08T00:40:54.451505Z",
     "iopub.status.busy": "2022-08-08T00:40:54.450929Z",
     "iopub.status.idle": "2022-08-08T00:40:54.454452Z",
     "shell.execute_reply": "2022-08-08T00:40:54.454860Z"
    },
    "papermill": {
     "duration": 0.037343,
     "end_time": "2022-08-08T00:40:54.454973",
     "exception": false,
     "start_time": "2022-08-08T00:40:54.417630",
     "status": "completed"
    },
    "tags": []
   },
   "outputs": [],
   "source": [
    "#hide\n",
    "def get_template(path):\n",
    "    from urllib.parse import urlparse\n",
    "    if bool(urlparse(path).netloc):\n",
    "        from urllib.request import urlopen\n",
    "        return urlopen(path).read().decode('utf8')\n",
    "    return open(path).read()"
   ]
  },
  {
   "cell_type": "code",
   "execution_count": 7,
   "id": "realistic-blast",
   "metadata": {
    "execution": {
     "iopub.execute_input": "2022-08-08T00:40:54.518260Z",
     "iopub.status.busy": "2022-08-08T00:40:54.517700Z",
     "iopub.status.idle": "2022-08-08T00:40:54.520222Z",
     "shell.execute_reply": "2022-08-08T00:40:54.519781Z"
    },
    "papermill": {
     "duration": 0.035741,
     "end_time": "2022-08-08T00:40:54.520314",
     "exception": false,
     "start_time": "2022-08-08T00:40:54.484573",
     "status": "completed"
    },
    "tags": []
   },
   "outputs": [],
   "source": [
    "#hide\n",
    "def get_frame(name):\n",
    "    url = (\n",
    "        'https://raw.githubusercontent.com/CSSEGISandData/COVID-19/master/csse_covid_19_data/'\n",
    "        f'csse_covid_19_time_series/time_series_covid19_{name}_global.csv')\n",
    "    df = pd.read_csv(url)\n",
    "    # rename countries\n",
    "    df['Country/Region'] = df['Country/Region'].replace(mapping['replace.country'])\n",
    "    return df"
   ]
  },
  {
   "cell_type": "code",
   "execution_count": 8,
   "id": "affiliated-characterization",
   "metadata": {
    "execution": {
     "iopub.execute_input": "2022-08-08T00:40:54.584785Z",
     "iopub.status.busy": "2022-08-08T00:40:54.584232Z",
     "iopub.status.idle": "2022-08-08T00:40:54.586812Z",
     "shell.execute_reply": "2022-08-08T00:40:54.586253Z"
    },
    "papermill": {
     "duration": 0.036679,
     "end_time": "2022-08-08T00:40:54.586906",
     "exception": false,
     "start_time": "2022-08-08T00:40:54.550227",
     "status": "completed"
    },
    "tags": []
   },
   "outputs": [],
   "source": [
    "#hide\n",
    "def get_dates(df):\n",
    "    dt_cols = df.columns[~df.columns.isin(['Province/State', 'Country/Region', 'Lat', 'Long'])]\n",
    "    LAST_DATE_I = -1\n",
    "    # sometimes last column may be empty, then go backwards\n",
    "    for i in range(-1, -len(dt_cols), -1):\n",
    "        if not df[dt_cols[i]].fillna(0).eq(0).all():\n",
    "            LAST_DATE_I = i\n",
    "            break\n",
    "    return LAST_DATE_I, dt_cols"
   ]
  },
  {
   "cell_type": "code",
   "execution_count": 9,
   "id": "recent-optimization",
   "metadata": {
    "execution": {
     "iopub.execute_input": "2022-08-08T00:40:54.650159Z",
     "iopub.status.busy": "2022-08-08T00:40:54.649608Z",
     "iopub.status.idle": "2022-08-08T00:40:55.165229Z",
     "shell.execute_reply": "2022-08-08T00:40:55.164752Z"
    },
    "papermill": {
     "duration": 0.548901,
     "end_time": "2022-08-08T00:40:55.165345",
     "exception": false,
     "start_time": "2022-08-08T00:40:54.616444",
     "status": "completed"
    },
    "tags": []
   },
   "outputs": [],
   "source": [
    "#hide\n",
    "COL_REGION = 'Country/Region'\n",
    "# Confirmed, Recovered, Deaths\n",
    "df = get_frame('confirmed')\n",
    "# dft_: timeseries, dfc_: today country agg\n",
    "dft_cases = df\n",
    "dft_deaths = get_frame('deaths')\n",
    "dft_recovered = get_frame('recovered')\n",
    "LAST_DATE_I, dt_cols = get_dates(df)"
   ]
  },
  {
   "cell_type": "code",
   "execution_count": 10,
   "id": "absolute-copper",
   "metadata": {
    "execution": {
     "iopub.execute_input": "2022-08-08T00:40:55.235173Z",
     "iopub.status.busy": "2022-08-08T00:40:55.234623Z",
     "iopub.status.idle": "2022-08-08T00:40:55.236835Z",
     "shell.execute_reply": "2022-08-08T00:40:55.237373Z"
    },
    "papermill": {
     "duration": 0.037773,
     "end_time": "2022-08-08T00:40:55.237528",
     "exception": false,
     "start_time": "2022-08-08T00:40:55.199755",
     "status": "completed"
    },
    "tags": []
   },
   "outputs": [],
   "source": [
    "#hide\n",
    "LAST_DATE_I, dt_cols = get_dates(df)\n",
    "dt_today =dt_cols[LAST_DATE_I]\n",
    "# dt_5day = dt_cols[LAST_DATE_I - 5]\n",
    "dt_yday = dt_cols[LAST_DATE_I - 1]"
   ]
  },
  {
   "cell_type": "code",
   "execution_count": 11,
   "id": "restricted-sheriff",
   "metadata": {
    "execution": {
     "iopub.execute_input": "2022-08-08T00:40:55.302992Z",
     "iopub.status.busy": "2022-08-08T00:40:55.302434Z",
     "iopub.status.idle": "2022-08-08T00:40:55.309296Z",
     "shell.execute_reply": "2022-08-08T00:40:55.309749Z"
    },
    "papermill": {
     "duration": 0.042263,
     "end_time": "2022-08-08T00:40:55.309857",
     "exception": false,
     "start_time": "2022-08-08T00:40:55.267594",
     "status": "completed"
    },
    "tags": []
   },
   "outputs": [],
   "source": [
    "#hide\n",
    "dfc_cases = dft_cases.groupby(COL_REGION)[dt_today].sum()\n",
    "dfc_deaths = dft_deaths.groupby(COL_REGION)[dt_today].sum()\n",
    "# dfp_cases = dft_cases.groupby(COL_REGION)[dt_5day].sum()\n",
    "# dfp_deaths = dft_deaths.groupby(COL_REGION)[dt_5day].sum()\n",
    "dfp_cases = dft_cases.groupby(COL_REGION)[dt_yday].sum()\n",
    "dfp_deaths = dft_deaths.groupby(COL_REGION)[dt_yday].sum()"
   ]
  },
  {
   "cell_type": "code",
   "execution_count": 12,
   "id": "deluxe-hepatitis",
   "metadata": {
    "execution": {
     "iopub.execute_input": "2022-08-08T00:40:55.374906Z",
     "iopub.status.busy": "2022-08-08T00:40:55.374331Z",
     "iopub.status.idle": "2022-08-08T00:40:55.379102Z",
     "shell.execute_reply": "2022-08-08T00:40:55.378653Z"
    },
    "papermill": {
     "duration": 0.039615,
     "end_time": "2022-08-08T00:40:55.379199",
     "exception": false,
     "start_time": "2022-08-08T00:40:55.339584",
     "status": "completed"
    },
    "tags": []
   },
   "outputs": [],
   "source": [
    "#hide\n",
    "df_table = (pd.DataFrame(dict(Cases = dfc_cases, Deaths = dfc_deaths, PCases = dfp_cases, PDeaths = dfp_deaths))\n",
    "            .sort_values(by = ['Cases','Deaths'], ascending = [False, False])\n",
    "            .reset_index())"
   ]
  },
  {
   "cell_type": "code",
   "execution_count": 13,
   "id": "educational-chancellor",
   "metadata": {
    "execution": {
     "iopub.execute_input": "2022-08-08T00:40:55.450329Z",
     "iopub.status.busy": "2022-08-08T00:40:55.449776Z",
     "iopub.status.idle": "2022-08-08T00:40:55.461730Z",
     "shell.execute_reply": "2022-08-08T00:40:55.461285Z"
    },
    "papermill": {
     "duration": 0.05298,
     "end_time": "2022-08-08T00:40:55.461825",
     "exception": false,
     "start_time": "2022-08-08T00:40:55.408845",
     "status": "completed"
    },
    "tags": []
   },
   "outputs": [
    {
     "data": {
      "text/html": [
       "<div>\n",
       "<style scoped>\n",
       "    .dataframe tbody tr th:only-of-type {\n",
       "        vertical-align: middle;\n",
       "    }\n",
       "\n",
       "    .dataframe tbody tr th {\n",
       "        vertical-align: top;\n",
       "    }\n",
       "\n",
       "    .dataframe thead th {\n",
       "        text-align: right;\n",
       "    }\n",
       "</style>\n",
       "<table border=\"1\" class=\"dataframe\">\n",
       "  <thead>\n",
       "    <tr style=\"text-align: right;\">\n",
       "      <th></th>\n",
       "      <th>Country/Region</th>\n",
       "      <th>Cases</th>\n",
       "      <th>Deaths</th>\n",
       "      <th>PCases</th>\n",
       "      <th>PDeaths</th>\n",
       "      <th>Cases (+)</th>\n",
       "      <th>Deaths (+)</th>\n",
       "      <th>Fatality Rate</th>\n",
       "      <th>Continent</th>\n",
       "    </tr>\n",
       "  </thead>\n",
       "  <tbody>\n",
       "    <tr>\n",
       "      <th>0</th>\n",
       "      <td>US</td>\n",
       "      <td>92102659</td>\n",
       "      <td>1034152</td>\n",
       "      <td>92090455</td>\n",
       "      <td>1033516</td>\n",
       "      <td>12204</td>\n",
       "      <td>636</td>\n",
       "      <td>1.12</td>\n",
       "      <td>North America</td>\n",
       "    </tr>\n",
       "    <tr>\n",
       "      <th>1</th>\n",
       "      <td>India</td>\n",
       "      <td>44145709</td>\n",
       "      <td>526689</td>\n",
       "      <td>44126994</td>\n",
       "      <td>526649</td>\n",
       "      <td>18715</td>\n",
       "      <td>40</td>\n",
       "      <td>1.19</td>\n",
       "      <td>Asia</td>\n",
       "    </tr>\n",
       "    <tr>\n",
       "      <th>2</th>\n",
       "      <td>France</td>\n",
       "      <td>34237067</td>\n",
       "      <td>153577</td>\n",
       "      <td>34237067</td>\n",
       "      <td>153577</td>\n",
       "      <td>0</td>\n",
       "      <td>0</td>\n",
       "      <td>0.45</td>\n",
       "      <td>Europe</td>\n",
       "    </tr>\n",
       "    <tr>\n",
       "      <th>3</th>\n",
       "      <td>Brazil</td>\n",
       "      <td>34011173</td>\n",
       "      <td>679939</td>\n",
       "      <td>33994470</td>\n",
       "      <td>679758</td>\n",
       "      <td>16703</td>\n",
       "      <td>181</td>\n",
       "      <td>2.00</td>\n",
       "      <td>South America</td>\n",
       "    </tr>\n",
       "    <tr>\n",
       "      <th>4</th>\n",
       "      <td>Germany</td>\n",
       "      <td>31228314</td>\n",
       "      <td>144858</td>\n",
       "      <td>31228314</td>\n",
       "      <td>144858</td>\n",
       "      <td>0</td>\n",
       "      <td>0</td>\n",
       "      <td>0.46</td>\n",
       "      <td>Europe</td>\n",
       "    </tr>\n",
       "  </tbody>\n",
       "</table>\n",
       "</div>"
      ],
      "text/plain": [
       "  Country/Region     Cases   Deaths    PCases  PDeaths  Cases (+)  Deaths (+)  \\\n",
       "0             US  92102659  1034152  92090455  1033516      12204         636   \n",
       "1          India  44145709   526689  44126994   526649      18715          40   \n",
       "2         France  34237067   153577  34237067   153577          0           0   \n",
       "3         Brazil  34011173   679939  33994470   679758      16703         181   \n",
       "4        Germany  31228314   144858  31228314   144858          0           0   \n",
       "\n",
       "   Fatality Rate      Continent  \n",
       "0           1.12  North America  \n",
       "1           1.19           Asia  \n",
       "2           0.45         Europe  \n",
       "3           2.00  South America  \n",
       "4           0.46         Europe  "
      ]
     },
     "execution_count": 13,
     "metadata": {},
     "output_type": "execute_result"
    }
   ],
   "source": [
    "#hide\n",
    "for c in 'Cases, Deaths'.split(', '):\n",
    "    df_table[f'{c} (+)'] = (df_table[c] - df_table[f'P{c}']).clip(0)\n",
    "    #Clip ça veut dire, les chiffres negatif sont interdit\n",
    "df_table['Fatality Rate'] = (100* df_table['Deaths']/ df_table['Cases']).round(2)\n",
    "df_table['Continent'] = df_table['Country/Region'].map(mapping['map.continent'])\n",
    "df_table.head(5)"
   ]
  },
  {
   "cell_type": "code",
   "execution_count": 14,
   "id": "aboriginal-bulgaria",
   "metadata": {
    "execution": {
     "iopub.execute_input": "2022-08-08T00:40:55.527069Z",
     "iopub.status.busy": "2022-08-08T00:40:55.526490Z",
     "iopub.status.idle": "2022-08-08T00:40:55.529429Z",
     "shell.execute_reply": "2022-08-08T00:40:55.528915Z"
    },
    "papermill": {
     "duration": 0.037438,
     "end_time": "2022-08-08T00:40:55.529527",
     "exception": false,
     "start_time": "2022-08-08T00:40:55.492089",
     "status": "completed"
    },
    "tags": []
   },
   "outputs": [],
   "source": [
    "#hide\n",
    "#delete problematic countries from table\n",
    "df_table = df_table[~df_table['Country/Region'].isin(['Cape Verde', 'Cruise Ship', 'Kosovo'])]"
   ]
  },
  {
   "cell_type": "code",
   "execution_count": 15,
   "id": "fantastic-effect",
   "metadata": {
    "execution": {
     "iopub.execute_input": "2022-08-08T00:40:55.596467Z",
     "iopub.status.busy": "2022-08-08T00:40:55.595908Z",
     "iopub.status.idle": "2022-08-08T00:40:55.612345Z",
     "shell.execute_reply": "2022-08-08T00:40:55.612798Z"
    },
    "papermill": {
     "duration": 0.053426,
     "end_time": "2022-08-08T00:40:55.612907",
     "exception": false,
     "start_time": "2022-08-08T00:40:55.559481",
     "status": "completed"
    },
    "tags": []
   },
   "outputs": [
    {
     "data": {
      "text/html": [
       "<div>\n",
       "<style scoped>\n",
       "    .dataframe tbody tr th:only-of-type {\n",
       "        vertical-align: middle;\n",
       "    }\n",
       "\n",
       "    .dataframe tbody tr th {\n",
       "        vertical-align: top;\n",
       "    }\n",
       "\n",
       "    .dataframe thead th {\n",
       "        text-align: right;\n",
       "    }\n",
       "</style>\n",
       "<table border=\"1\" class=\"dataframe\">\n",
       "  <thead>\n",
       "    <tr style=\"text-align: right;\">\n",
       "      <th></th>\n",
       "      <th>Country/Region</th>\n",
       "      <th>Cases</th>\n",
       "      <th>Deaths</th>\n",
       "      <th>PCases</th>\n",
       "      <th>PDeaths</th>\n",
       "      <th>Cases (+)</th>\n",
       "      <th>Deaths (+)</th>\n",
       "      <th>Fatality Rate</th>\n",
       "      <th>Continent</th>\n",
       "    </tr>\n",
       "  </thead>\n",
       "  <tbody>\n",
       "    <tr>\n",
       "      <th>0</th>\n",
       "      <td>US</td>\n",
       "      <td>92102659</td>\n",
       "      <td>1034152</td>\n",
       "      <td>92090455</td>\n",
       "      <td>1033516</td>\n",
       "      <td>12204</td>\n",
       "      <td>636</td>\n",
       "      <td>1.1</td>\n",
       "      <td>North America</td>\n",
       "    </tr>\n",
       "    <tr>\n",
       "      <th>1</th>\n",
       "      <td>India</td>\n",
       "      <td>44145709</td>\n",
       "      <td>526689</td>\n",
       "      <td>44126994</td>\n",
       "      <td>526649</td>\n",
       "      <td>18715</td>\n",
       "      <td>40</td>\n",
       "      <td>1.2</td>\n",
       "      <td>Asia</td>\n",
       "    </tr>\n",
       "    <tr>\n",
       "      <th>2</th>\n",
       "      <td>France</td>\n",
       "      <td>34237067</td>\n",
       "      <td>153577</td>\n",
       "      <td>34237067</td>\n",
       "      <td>153577</td>\n",
       "      <td>0</td>\n",
       "      <td>0</td>\n",
       "      <td>0.4</td>\n",
       "      <td>Europe</td>\n",
       "    </tr>\n",
       "    <tr>\n",
       "      <th>3</th>\n",
       "      <td>Brazil</td>\n",
       "      <td>34011173</td>\n",
       "      <td>679939</td>\n",
       "      <td>33994470</td>\n",
       "      <td>679758</td>\n",
       "      <td>16703</td>\n",
       "      <td>181</td>\n",
       "      <td>2.0</td>\n",
       "      <td>South America</td>\n",
       "    </tr>\n",
       "    <tr>\n",
       "      <th>4</th>\n",
       "      <td>Germany</td>\n",
       "      <td>31228314</td>\n",
       "      <td>144858</td>\n",
       "      <td>31228314</td>\n",
       "      <td>144858</td>\n",
       "      <td>0</td>\n",
       "      <td>0</td>\n",
       "      <td>0.5</td>\n",
       "      <td>Europe</td>\n",
       "    </tr>\n",
       "  </tbody>\n",
       "</table>\n",
       "</div>"
      ],
      "text/plain": [
       "  Country/Region     Cases   Deaths    PCases  PDeaths  Cases (+)  Deaths (+)  \\\n",
       "0             US  92102659  1034152  92090455  1033516      12204         636   \n",
       "1          India  44145709   526689  44126994   526649      18715          40   \n",
       "2         France  34237067   153577  34237067   153577          0           0   \n",
       "3         Brazil  34011173   679939  33994470   679758      16703         181   \n",
       "4        Germany  31228314   144858  31228314   144858          0           0   \n",
       "\n",
       "   Fatality Rate      Continent  \n",
       "0            1.1  North America  \n",
       "1            1.2           Asia  \n",
       "2            0.4         Europe  \n",
       "3            2.0  South America  \n",
       "4            0.5         Europe  "
      ]
     },
     "execution_count": 15,
     "metadata": {},
     "output_type": "execute_result"
    }
   ],
   "source": [
    "#hide\n",
    "df_table = (pd.DataFrame(dict(Cases=dfc_cases, Deaths=dfc_deaths, PCases=dfp_cases, PDeaths=dfp_deaths))\n",
    "             .sort_values(by=['Cases', 'Deaths'], ascending=[False, False])\n",
    "             .reset_index())\n",
    "df_table.rename(columns={'index': 'Country/Region'}, inplace=True)\n",
    "for c in 'Cases, Deaths'.split(', '):\n",
    "    df_table[f'{c} (+)'] = (df_table[c] - df_table[f'P{c}']).clip(0)  # DATA BUG\n",
    "df_table['Fatality Rate'] = (100 * df_table['Deaths'] / df_table['Cases']).round(1)\n",
    "df_table['Continent'] = df_table['Country/Region'].map(mapping['map.continent'])\n",
    "df_table.head(5)"
   ]
  },
  {
   "cell_type": "code",
   "execution_count": 16,
   "id": "fewer-occasion",
   "metadata": {
    "execution": {
     "iopub.execute_input": "2022-08-08T00:40:55.678787Z",
     "iopub.status.busy": "2022-08-08T00:40:55.678211Z",
     "iopub.status.idle": "2022-08-08T00:40:55.680421Z",
     "shell.execute_reply": "2022-08-08T00:40:55.680859Z"
    },
    "papermill": {
     "duration": 0.037451,
     "end_time": "2022-08-08T00:40:55.680963",
     "exception": false,
     "start_time": "2022-08-08T00:40:55.643512",
     "status": "completed"
    },
    "tags": []
   },
   "outputs": [],
   "source": [
    "#hide\n",
    "#delete problematic countries from table\n",
    "df_table = df_table[~df_table['Country/Region'].isin(['Cape Verde', 'Cruise Ship', 'Kosovo'])]"
   ]
  },
  {
   "cell_type": "code",
   "execution_count": 17,
   "id": "related-center",
   "metadata": {
    "execution": {
     "iopub.execute_input": "2022-08-08T00:40:55.749034Z",
     "iopub.status.busy": "2022-08-08T00:40:55.748485Z",
     "iopub.status.idle": "2022-08-08T00:40:55.760448Z",
     "shell.execute_reply": "2022-08-08T00:40:55.759908Z"
    },
    "papermill": {
     "duration": 0.049163,
     "end_time": "2022-08-08T00:40:55.760543",
     "exception": false,
     "start_time": "2022-08-08T00:40:55.711380",
     "status": "completed"
    },
    "tags": []
   },
   "outputs": [],
   "source": [
    "#hide\n",
    "metrics = [df_table.columns[index] for index in [1,2,5,6]]\n",
    "# s_china = df_table[df_table['Country/Region'].eq('China')][metrics].sum().add_prefix('China ')\n",
    "s_us = df_table[df_table['Country/Region'].eq('US')][metrics].sum().add_prefix('US ')\n",
    "s_eu = df_table[df_table['Continent'].eq('Europe')][metrics].sum().add_prefix('EU ')\n",
    "s_ind = df_table[df_table['Country/Region'].eq('India')][metrics].sum().add_prefix('India ')\n",
    "summary = {'updated': pd.to_datetime(dt_today), 'since': pd.to_datetime(dt_yday)}\n",
    "summary = {'updated': pd.to_datetime(dt_today), 'since': pd.to_datetime(dt_yday)}\n",
    "summary = {**summary, **df_table[metrics].sum(), **s_ind, **s_us, **s_eu}"
   ]
  },
  {
   "cell_type": "code",
   "execution_count": 18,
   "id": "engaging-syndrome",
   "metadata": {
    "execution": {
     "iopub.execute_input": "2022-08-08T00:40:55.826548Z",
     "iopub.status.busy": "2022-08-08T00:40:55.825970Z",
     "iopub.status.idle": "2022-08-08T00:40:55.844133Z",
     "shell.execute_reply": "2022-08-08T00:40:55.843681Z"
    },
    "papermill": {
     "duration": 0.053085,
     "end_time": "2022-08-08T00:40:55.844230",
     "exception": false,
     "start_time": "2022-08-08T00:40:55.791145",
     "status": "completed"
    },
    "tags": []
   },
   "outputs": [],
   "source": [
    "#hide\n",
    "dft_ct_new_cases = dft_cases.groupby(COL_REGION)[dt_cols].sum().diff(axis=1).fillna(0).astype(int)"
   ]
  },
  {
   "cell_type": "code",
   "execution_count": 19,
   "id": "neutral-assignment",
   "metadata": {
    "execution": {
     "iopub.execute_input": "2022-08-08T00:40:55.910717Z",
     "iopub.status.busy": "2022-08-08T00:40:55.910126Z",
     "iopub.status.idle": "2022-08-08T00:40:55.912487Z",
     "shell.execute_reply": "2022-08-08T00:40:55.912051Z"
    },
    "papermill": {
     "duration": 0.03771,
     "end_time": "2022-08-08T00:40:55.912580",
     "exception": false,
     "start_time": "2022-08-08T00:40:55.874870",
     "status": "completed"
    },
    "tags": []
   },
   "outputs": [],
   "source": [
    "#hide\n",
    "everydaycases = dft_ct_new_cases.cumsum(axis=1)"
   ]
  },
  {
   "cell_type": "code",
   "execution_count": 20,
   "id": "parliamentary-calgary",
   "metadata": {
    "execution": {
     "iopub.execute_input": "2022-08-08T00:40:55.977436Z",
     "iopub.status.busy": "2022-08-08T00:40:55.976884Z",
     "iopub.status.idle": "2022-08-08T00:40:56.540636Z",
     "shell.execute_reply": "2022-08-08T00:40:56.540151Z"
    },
    "papermill": {
     "duration": 0.597494,
     "end_time": "2022-08-08T00:40:56.540750",
     "exception": false,
     "start_time": "2022-08-08T00:40:55.943256",
     "status": "completed"
    },
    "tags": []
   },
   "outputs": [],
   "source": [
    "#hide\n",
    "import pandas as pd\n",
    "import matplotlib.pyplot as plt\n",
    "import matplotlib.ticker as ticker\n",
    "import matplotlib.animation as animation\n",
    "from IPython.display import HTML"
   ]
  },
  {
   "cell_type": "code",
   "execution_count": 21,
   "id": "lasting-extraction",
   "metadata": {
    "execution": {
     "iopub.execute_input": "2022-08-08T00:40:56.607805Z",
     "iopub.status.busy": "2022-08-08T00:40:56.607253Z",
     "iopub.status.idle": "2022-08-08T00:40:56.613415Z",
     "shell.execute_reply": "2022-08-08T00:40:56.613922Z"
    },
    "papermill": {
     "duration": 0.042627,
     "end_time": "2022-08-08T00:40:56.614034",
     "exception": false,
     "start_time": "2022-08-08T00:40:56.571407",
     "status": "completed"
    },
    "tags": []
   },
   "outputs": [],
   "source": [
    "#hide\n",
    "t = everydaycases.stack()"
   ]
  },
  {
   "cell_type": "code",
   "execution_count": 22,
   "id": "premier-sleeve",
   "metadata": {
    "execution": {
     "iopub.execute_input": "2022-08-08T00:40:56.679739Z",
     "iopub.status.busy": "2022-08-08T00:40:56.679181Z",
     "iopub.status.idle": "2022-08-08T00:40:56.692590Z",
     "shell.execute_reply": "2022-08-08T00:40:56.692098Z"
    },
    "papermill": {
     "duration": 0.047825,
     "end_time": "2022-08-08T00:40:56.692691",
     "exception": false,
     "start_time": "2022-08-08T00:40:56.644866",
     "status": "completed"
    },
    "tags": []
   },
   "outputs": [],
   "source": [
    "#hide\n",
    "g = t.reset_index(['Country/Region'])"
   ]
  },
  {
   "cell_type": "code",
   "execution_count": 23,
   "id": "distributed-pittsburgh",
   "metadata": {
    "execution": {
     "iopub.execute_input": "2022-08-08T00:40:56.757634Z",
     "iopub.status.busy": "2022-08-08T00:40:56.757069Z",
     "iopub.status.idle": "2022-08-08T00:40:56.759517Z",
     "shell.execute_reply": "2022-08-08T00:40:56.759027Z"
    },
    "papermill": {
     "duration": 0.036391,
     "end_time": "2022-08-08T00:40:56.759617",
     "exception": false,
     "start_time": "2022-08-08T00:40:56.723226",
     "status": "completed"
    },
    "tags": []
   },
   "outputs": [],
   "source": [
    "#hide\n",
    "g.index.name = 'date'"
   ]
  },
  {
   "cell_type": "code",
   "execution_count": 24,
   "id": "naked-donor",
   "metadata": {
    "execution": {
     "iopub.execute_input": "2022-08-08T00:40:56.824165Z",
     "iopub.status.busy": "2022-08-08T00:40:56.823604Z",
     "iopub.status.idle": "2022-08-08T00:40:56.826052Z",
     "shell.execute_reply": "2022-08-08T00:40:56.825513Z"
    },
    "papermill": {
     "duration": 0.035946,
     "end_time": "2022-08-08T00:40:56.826150",
     "exception": false,
     "start_time": "2022-08-08T00:40:56.790204",
     "status": "completed"
    },
    "tags": []
   },
   "outputs": [],
   "source": [
    "# #hide\n",
    "# g = g.reset_index(['date'])"
   ]
  },
  {
   "cell_type": "code",
   "execution_count": 25,
   "id": "incomplete-mustang",
   "metadata": {
    "execution": {
     "iopub.execute_input": "2022-08-08T00:40:56.890343Z",
     "iopub.status.busy": "2022-08-08T00:40:56.889781Z",
     "iopub.status.idle": "2022-08-08T00:40:56.892344Z",
     "shell.execute_reply": "2022-08-08T00:40:56.891929Z"
    },
    "papermill": {
     "duration": 0.035781,
     "end_time": "2022-08-08T00:40:56.892441",
     "exception": false,
     "start_time": "2022-08-08T00:40:56.856660",
     "status": "completed"
    },
    "tags": []
   },
   "outputs": [],
   "source": [
    "#hide\n",
    "# g.head()"
   ]
  },
  {
   "cell_type": "code",
   "execution_count": 26,
   "id": "specific-kruger",
   "metadata": {
    "execution": {
     "iopub.execute_input": "2022-08-08T00:40:56.957030Z",
     "iopub.status.busy": "2022-08-08T00:40:56.956465Z",
     "iopub.status.idle": "2022-08-08T00:40:56.958976Z",
     "shell.execute_reply": "2022-08-08T00:40:56.958536Z"
    },
    "papermill": {
     "duration": 0.035963,
     "end_time": "2022-08-08T00:40:56.959072",
     "exception": false,
     "start_time": "2022-08-08T00:40:56.923109",
     "status": "completed"
    },
    "tags": []
   },
   "outputs": [],
   "source": [
    "#hide\n",
    "# g.columns = ['date','country','cases']"
   ]
  },
  {
   "cell_type": "code",
   "execution_count": 27,
   "id": "tender-conversion",
   "metadata": {
    "execution": {
     "iopub.execute_input": "2022-08-08T00:40:57.023986Z",
     "iopub.status.busy": "2022-08-08T00:40:57.023409Z",
     "iopub.status.idle": "2022-08-08T00:40:57.025927Z",
     "shell.execute_reply": "2022-08-08T00:40:57.025435Z"
    },
    "papermill": {
     "duration": 0.036378,
     "end_time": "2022-08-08T00:40:57.026028",
     "exception": false,
     "start_time": "2022-08-08T00:40:56.989650",
     "status": "completed"
    },
    "tags": []
   },
   "outputs": [],
   "source": [
    "#hide\n",
    "# g['continent'] = g.country"
   ]
  },
  {
   "cell_type": "code",
   "execution_count": 28,
   "id": "substantial-wilderness",
   "metadata": {
    "execution": {
     "iopub.execute_input": "2022-08-08T00:40:57.091522Z",
     "iopub.status.busy": "2022-08-08T00:40:57.090934Z",
     "iopub.status.idle": "2022-08-08T00:40:57.093192Z",
     "shell.execute_reply": "2022-08-08T00:40:57.093611Z"
    },
    "papermill": {
     "duration": 0.036878,
     "end_time": "2022-08-08T00:40:57.093735",
     "exception": false,
     "start_time": "2022-08-08T00:40:57.056857",
     "status": "completed"
    },
    "tags": []
   },
   "outputs": [],
   "source": [
    "#hide\n",
    "# cols = list(g.columns.values)"
   ]
  },
  {
   "cell_type": "code",
   "execution_count": 29,
   "id": "solved-farming",
   "metadata": {
    "execution": {
     "iopub.execute_input": "2022-08-08T00:40:57.159295Z",
     "iopub.status.busy": "2022-08-08T00:40:57.158731Z",
     "iopub.status.idle": "2022-08-08T00:40:57.160687Z",
     "shell.execute_reply": "2022-08-08T00:40:57.160143Z"
    },
    "papermill": {
     "duration": 0.036076,
     "end_time": "2022-08-08T00:40:57.160786",
     "exception": false,
     "start_time": "2022-08-08T00:40:57.124710",
     "status": "completed"
    },
    "tags": []
   },
   "outputs": [],
   "source": [
    "#hide\n",
    "# cols.insert(0, cols.pop())"
   ]
  },
  {
   "cell_type": "code",
   "execution_count": 30,
   "id": "executed-adoption",
   "metadata": {
    "execution": {
     "iopub.execute_input": "2022-08-08T00:40:57.226109Z",
     "iopub.status.busy": "2022-08-08T00:40:57.225542Z",
     "iopub.status.idle": "2022-08-08T00:40:57.227446Z",
     "shell.execute_reply": "2022-08-08T00:40:57.227864Z"
    },
    "papermill": {
     "duration": 0.03644,
     "end_time": "2022-08-08T00:40:57.227979",
     "exception": false,
     "start_time": "2022-08-08T00:40:57.191539",
     "status": "completed"
    },
    "tags": []
   },
   "outputs": [],
   "source": [
    "#hide\n",
    "# g = g[cols]"
   ]
  },
  {
   "cell_type": "code",
   "execution_count": 31,
   "id": "subject-dublin",
   "metadata": {
    "execution": {
     "iopub.execute_input": "2022-08-08T00:40:57.293484Z",
     "iopub.status.busy": "2022-08-08T00:40:57.292879Z",
     "iopub.status.idle": "2022-08-08T00:40:57.296598Z",
     "shell.execute_reply": "2022-08-08T00:40:57.297013Z"
    },
    "papermill": {
     "duration": 0.038325,
     "end_time": "2022-08-08T00:40:57.297141",
     "exception": false,
     "start_time": "2022-08-08T00:40:57.258816",
     "status": "completed"
    },
    "tags": []
   },
   "outputs": [],
   "source": [
    "#hide\n",
    "# g['continent'] = g['continent'].map(mapping['map.continent'])"
   ]
  },
  {
   "cell_type": "code",
   "execution_count": 32,
   "id": "freelance-scout",
   "metadata": {
    "execution": {
     "iopub.execute_input": "2022-08-08T00:40:57.362627Z",
     "iopub.status.busy": "2022-08-08T00:40:57.362040Z",
     "iopub.status.idle": "2022-08-08T00:40:57.364586Z",
     "shell.execute_reply": "2022-08-08T00:40:57.364114Z"
    },
    "papermill": {
     "duration": 0.036562,
     "end_time": "2022-08-08T00:40:57.364689",
     "exception": false,
     "start_time": "2022-08-08T00:40:57.328127",
     "status": "completed"
    },
    "tags": []
   },
   "outputs": [],
   "source": [
    "#hide\n",
    "# g.head()"
   ]
  },
  {
   "cell_type": "code",
   "execution_count": 33,
   "id": "limited-engine",
   "metadata": {
    "execution": {
     "iopub.execute_input": "2022-08-08T00:40:57.429896Z",
     "iopub.status.busy": "2022-08-08T00:40:57.429328Z",
     "iopub.status.idle": "2022-08-08T00:40:57.431794Z",
     "shell.execute_reply": "2022-08-08T00:40:57.431349Z"
    },
    "papermill": {
     "duration": 0.036602,
     "end_time": "2022-08-08T00:40:57.431892",
     "exception": false,
     "start_time": "2022-08-08T00:40:57.395290",
     "status": "completed"
    },
    "tags": []
   },
   "outputs": [],
   "source": [
    "# hide\n",
    "# g['date'] = g['date'].astype('datetime64[ns]')"
   ]
  },
  {
   "cell_type": "code",
   "execution_count": 34,
   "id": "sophisticated-supervisor",
   "metadata": {
    "execution": {
     "iopub.execute_input": "2022-08-08T00:40:57.497660Z",
     "iopub.status.busy": "2022-08-08T00:40:57.497091Z",
     "iopub.status.idle": "2022-08-08T00:40:57.499529Z",
     "shell.execute_reply": "2022-08-08T00:40:57.499091Z"
    },
    "papermill": {
     "duration": 0.036642,
     "end_time": "2022-08-08T00:40:57.499628",
     "exception": false,
     "start_time": "2022-08-08T00:40:57.462986",
     "status": "completed"
    },
    "tags": []
   },
   "outputs": [],
   "source": [
    "#hide\n",
    "# g['date'] = g.date.dt.dayofyear"
   ]
  },
  {
   "cell_type": "code",
   "execution_count": 35,
   "id": "inside-dubai",
   "metadata": {
    "execution": {
     "iopub.execute_input": "2022-08-08T00:40:57.564408Z",
     "iopub.status.busy": "2022-08-08T00:40:57.563842Z",
     "iopub.status.idle": "2022-08-08T00:40:57.566286Z",
     "shell.execute_reply": "2022-08-08T00:40:57.565851Z"
    },
    "papermill": {
     "duration": 0.036131,
     "end_time": "2022-08-08T00:40:57.566399",
     "exception": false,
     "start_time": "2022-08-08T00:40:57.530268",
     "status": "completed"
    },
    "tags": []
   },
   "outputs": [],
   "source": [
    "#hide\n",
    "# g = g.rename(columns= {'continent':'group','country':'name','cases':'value'})"
   ]
  },
  {
   "cell_type": "code",
   "execution_count": 36,
   "id": "fleet-motorcycle",
   "metadata": {
    "execution": {
     "iopub.execute_input": "2022-08-08T00:40:57.631844Z",
     "iopub.status.busy": "2022-08-08T00:40:57.631285Z",
     "iopub.status.idle": "2022-08-08T00:40:57.633656Z",
     "shell.execute_reply": "2022-08-08T00:40:57.633121Z"
    },
    "papermill": {
     "duration": 0.036525,
     "end_time": "2022-08-08T00:40:57.633756",
     "exception": false,
     "start_time": "2022-08-08T00:40:57.597231",
     "status": "completed"
    },
    "tags": []
   },
   "outputs": [],
   "source": [
    "#hide\n",
    "# cols = ['name','group','day','value']"
   ]
  },
  {
   "cell_type": "code",
   "execution_count": 37,
   "id": "continued-sleeping",
   "metadata": {
    "execution": {
     "iopub.execute_input": "2022-08-08T00:40:57.698534Z",
     "iopub.status.busy": "2022-08-08T00:40:57.697962Z",
     "iopub.status.idle": "2022-08-08T00:40:57.700260Z",
     "shell.execute_reply": "2022-08-08T00:40:57.699829Z"
    },
    "papermill": {
     "duration": 0.035922,
     "end_time": "2022-08-08T00:40:57.700355",
     "exception": false,
     "start_time": "2022-08-08T00:40:57.664433",
     "status": "completed"
    },
    "tags": []
   },
   "outputs": [],
   "source": [
    "#hide\n",
    "# g.rename(columns= {'date':'day'},inplace = True)"
   ]
  },
  {
   "cell_type": "code",
   "execution_count": 38,
   "id": "major-fight",
   "metadata": {
    "execution": {
     "iopub.execute_input": "2022-08-08T00:40:57.766134Z",
     "iopub.status.busy": "2022-08-08T00:40:57.765569Z",
     "iopub.status.idle": "2022-08-08T00:40:57.768057Z",
     "shell.execute_reply": "2022-08-08T00:40:57.767616Z"
    },
    "papermill": {
     "duration": 0.037166,
     "end_time": "2022-08-08T00:40:57.768156",
     "exception": false,
     "start_time": "2022-08-08T00:40:57.730990",
     "status": "completed"
    },
    "tags": []
   },
   "outputs": [],
   "source": [
    "#hide\n",
    "# g = g[cols]"
   ]
  },
  {
   "cell_type": "code",
   "execution_count": 39,
   "id": "structured-mobile",
   "metadata": {
    "execution": {
     "iopub.execute_input": "2022-08-08T00:40:57.833002Z",
     "iopub.status.busy": "2022-08-08T00:40:57.832426Z",
     "iopub.status.idle": "2022-08-08T00:40:57.834791Z",
     "shell.execute_reply": "2022-08-08T00:40:57.834242Z"
    },
    "papermill": {
     "duration": 0.036069,
     "end_time": "2022-08-08T00:40:57.834892",
     "exception": false,
     "start_time": "2022-08-08T00:40:57.798823",
     "status": "completed"
    },
    "tags": []
   },
   "outputs": [],
   "source": [
    "# #hide\n",
    "# g = g[g.group.notna()]"
   ]
  },
  {
   "cell_type": "code",
   "execution_count": 40,
   "id": "determined-closing",
   "metadata": {
    "execution": {
     "iopub.execute_input": "2022-08-08T00:40:57.900058Z",
     "iopub.status.busy": "2022-08-08T00:40:57.899488Z",
     "iopub.status.idle": "2022-08-08T00:40:57.901953Z",
     "shell.execute_reply": "2022-08-08T00:40:57.901498Z"
    },
    "papermill": {
     "duration": 0.036364,
     "end_time": "2022-08-08T00:40:57.902050",
     "exception": false,
     "start_time": "2022-08-08T00:40:57.865686",
     "status": "completed"
    },
    "tags": []
   },
   "outputs": [],
   "source": [
    "# #hide\n",
    "# colors = dict(zip(\n",
    "#     [\"Oceania\", \"Europe\", \"Asia\", \"South America\", \"Middle East\", \"North America\", \"Africa\"],\n",
    "#     [\"#adb0ff\", \"#ffb3ff\", \"#90d595\", \"#e48381\", \"#aafbff\", \"#f7bb5f\", \"#eafb50\"]\n",
    "# ))\n",
    "# group_lk = g.set_index('name')['group'].to_dict()"
   ]
  },
  {
   "cell_type": "code",
   "execution_count": null,
   "id": "gross-drinking",
   "metadata": {
    "papermill": {
     "duration": 0.030499,
     "end_time": "2022-08-08T00:40:57.963130",
     "exception": false,
     "start_time": "2022-08-08T00:40:57.932631",
     "status": "completed"
    },
    "tags": []
   },
   "outputs": [],
   "source": []
  },
  {
   "cell_type": "code",
   "execution_count": 41,
   "id": "subject-macintosh",
   "metadata": {
    "execution": {
     "iopub.execute_input": "2022-08-08T00:40:58.029001Z",
     "iopub.status.busy": "2022-08-08T00:40:58.028421Z",
     "iopub.status.idle": "2022-08-08T00:40:58.030270Z",
     "shell.execute_reply": "2022-08-08T00:40:58.030721Z"
    },
    "papermill": {
     "duration": 0.036967,
     "end_time": "2022-08-08T00:40:58.030839",
     "exception": false,
     "start_time": "2022-08-08T00:40:57.993872",
     "status": "completed"
    },
    "tags": []
   },
   "outputs": [],
   "source": [
    "# #hide\n",
    "# fig, ax = plt.subplots(figsize=(15, 8))\n",
    "\n",
    "# def draw_barchart(current_day):\n",
    "#     dff = g[g['day'].eq(current_day)].sort_values(by='value', ascending=True).tail(10)\n",
    "#     ax.clear()\n",
    "#     ax.barh(dff['name'], dff['value'], color=[colors[group_lk[x]] for x in dff['name']])\n",
    "#     dx = dff['value'].max() / 200\n",
    "    \n",
    "#     for i, (value, name) in enumerate(zip(dff['value'], dff['name'])):\n",
    "#         ax.text(value-dx, i,     name,           size=14, weight=600, ha='right', va='bottom')\n",
    "#         ax.text(value-dx, i-.25, group_lk[name], size=10, color='#444444', ha='right', va='baseline')\n",
    "#         ax.text(value+dx, i,     f'{value:,.0f}',  size=14, ha='left',  va='center')\n",
    "#     ax.text(1, 0.4, current_day, transform=ax.transAxes, color='#777777', size=46, ha='right', weight=800)\n",
    "#     ax.text(0, 1.06, 'Population (thousands)', transform=ax.transAxes, size=12, color='#777777')\n",
    "#     ax.xaxis.set_major_formatter(ticker.StrMethodFormatter('{x:,.0f}'))\n",
    "#     ax.xaxis.set_ticks_position('top')\n",
    "#     ax.tick_params(axis='x', colors='#777777', labelsize=12)\n",
    "#     ax.set_yticks([])\n",
    "#     ax.margins(0, 0.01)\n",
    "#     ax.grid(which='major', axis='x', linestyle='-')\n",
    "#     ax.set_axisbelow(True)\n",
    "    \n",
    "#     ax.text(0, 1.15, 'Coronavirus',\n",
    "#             transform=ax.transAxes, size=24, weight=600, ha='left', va='top')\n",
    "# #     ax.text(1, 0, 'by @pratapvardhan; credit @jburnmurdoch', transform=ax.transAxes, color='#777777', ha='right',\n",
    "# #             bbox=dict(facecolor='white', alpha=0.8, edgecolor='white'))\n",
    "#     plt.box(False)"
   ]
  },
  {
   "cell_type": "code",
   "execution_count": 42,
   "id": "sexual-wages",
   "metadata": {
    "execution": {
     "iopub.execute_input": "2022-08-08T00:40:58.096263Z",
     "iopub.status.busy": "2022-08-08T00:40:58.095690Z",
     "iopub.status.idle": "2022-08-08T00:40:58.098075Z",
     "shell.execute_reply": "2022-08-08T00:40:58.097551Z"
    },
    "papermill": {
     "duration": 0.036485,
     "end_time": "2022-08-08T00:40:58.098173",
     "exception": false,
     "start_time": "2022-08-08T00:40:58.061688",
     "status": "completed"
    },
    "tags": []
   },
   "outputs": [],
   "source": [
    "# #hide_input\n",
    "# fig, ax = plt.subplots(figsize=(15, 8))\n",
    "# animator = animation.FuncAnimation(fig, draw_barchart, frames=range(g.day.values.min(), g.day.values.max()))\n",
    "# HTML(animator.to_jshtml())\n",
    "# # or use animator.to_html5_video() or animator.save() "
   ]
  },
  {
   "cell_type": "code",
   "execution_count": null,
   "id": "australian-container",
   "metadata": {
    "papermill": {
     "duration": 0.03096,
     "end_time": "2022-08-08T00:40:58.159802",
     "exception": false,
     "start_time": "2022-08-08T00:40:58.128842",
     "status": "completed"
    },
    "tags": []
   },
   "outputs": [],
   "source": []
  },
  {
   "cell_type": "code",
   "execution_count": null,
   "id": "mediterranean-pontiac",
   "metadata": {
    "papermill": {
     "duration": 0.030603,
     "end_time": "2022-08-08T00:40:58.221007",
     "exception": false,
     "start_time": "2022-08-08T00:40:58.190404",
     "status": "completed"
    },
    "tags": []
   },
   "outputs": [],
   "source": []
  },
  {
   "cell_type": "code",
   "execution_count": null,
   "id": "aging-legislature",
   "metadata": {
    "papermill": {
     "duration": 0.030542,
     "end_time": "2022-08-08T00:40:58.282431",
     "exception": false,
     "start_time": "2022-08-08T00:40:58.251889",
     "status": "completed"
    },
    "tags": []
   },
   "outputs": [],
   "source": []
  }
 ],
 "metadata": {
  "kernelspec": {
   "display_name": "Python 3",
   "language": "python",
   "name": "python3"
  },
  "language_info": {
   "codemirror_mode": {
    "name": "ipython",
    "version": 3
   },
   "file_extension": ".py",
   "mimetype": "text/x-python",
   "name": "python",
   "nbconvert_exporter": "python",
   "pygments_lexer": "ipython3",
   "version": "3.6.15"
  },
  "papermill": {
   "duration": 5.889721,
   "end_time": "2022-08-08T00:40:58.630916",
   "environment_variables": {},
   "exception": null,
   "input_path": "2020-03-21-covid19exp.ipynb",
   "output_path": "2020-03-21-covid19exp.ipynb",
   "parameters": {},
   "start_time": "2022-08-08T00:40:52.741195",
   "version": "2.0.0"
  }
 },
 "nbformat": 4,
 "nbformat_minor": 5
}