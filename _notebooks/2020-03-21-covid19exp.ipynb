{
 "cells": [
  {
   "cell_type": "markdown",
   "id": "muslim-click",
   "metadata": {
    "papermill": {
     "duration": 0.034385,
     "end_time": "2022-02-08T12:11:28.536254",
     "exception": false,
     "start_time": "2022-02-08T12:11:28.501869",
     "status": "completed"
    },
    "tags": []
   },
   "source": [
    "# COVID-19 Case Race\n",
    "> A race chart to see rising cases around the world\n",
    "\n",
    "- author: Hargun Oberoi\n",
    "- image: images/covid-overview.png\n",
    "- hide: false\n",
    "- badges: false"
   ]
  },
  {
   "cell_type": "code",
   "execution_count": 1,
   "id": "proof-material",
   "metadata": {
    "execution": {
     "iopub.execute_input": "2022-02-08T12:11:28.607968Z",
     "iopub.status.busy": "2022-02-08T12:11:28.607461Z",
     "iopub.status.idle": "2022-02-08T12:11:28.918917Z",
     "shell.execute_reply": "2022-02-08T12:11:28.917956Z"
    },
    "papermill": {
     "duration": 0.350787,
     "end_time": "2022-02-08T12:11:28.919060",
     "exception": false,
     "start_time": "2022-02-08T12:11:28.568273",
     "status": "completed"
    },
    "tags": []
   },
   "outputs": [],
   "source": [
    "#hide\n",
    "import numpy as np\n",
    "import pandas as pd\n",
    "from jinja2 import Template\n",
    "from IPython.display import HTML"
   ]
  },
  {
   "cell_type": "code",
   "execution_count": 2,
   "id": "developed-terminology",
   "metadata": {
    "execution": {
     "iopub.execute_input": "2022-02-08T12:11:28.985781Z",
     "iopub.status.busy": "2022-02-08T12:11:28.985264Z",
     "iopub.status.idle": "2022-02-08T12:11:28.987191Z",
     "shell.execute_reply": "2022-02-08T12:11:28.986780Z"
    },
    "papermill": {
     "duration": 0.036741,
     "end_time": "2022-02-08T12:11:28.987293",
     "exception": false,
     "start_time": "2022-02-08T12:11:28.950552",
     "status": "completed"
    },
    "tags": []
   },
   "outputs": [],
   "source": [
    "#hide\n",
    "\n",
    "# FETCH\n",
    "base_url = 'https://raw.githubusercontent.com/pratapvardhan/notebooks/master/covid19/'\n",
    "paths = {\n",
    "    'mapping': base_url + 'mapping_countries.csv',\n",
    "    'overview': base_url + 'overview.tpl'\n",
    "}"
   ]
  },
  {
   "cell_type": "code",
   "execution_count": 3,
   "id": "dynamic-saver",
   "metadata": {
    "execution": {
     "iopub.execute_input": "2022-02-08T12:11:29.056119Z",
     "iopub.status.busy": "2022-02-08T12:11:29.055621Z",
     "iopub.status.idle": "2022-02-08T12:11:29.059177Z",
     "shell.execute_reply": "2022-02-08T12:11:29.059568Z"
    },
    "papermill": {
     "duration": 0.041885,
     "end_time": "2022-02-08T12:11:29.059695",
     "exception": false,
     "start_time": "2022-02-08T12:11:29.017810",
     "status": "completed"
    },
    "tags": []
   },
   "outputs": [
    {
     "data": {
      "text/plain": [
       "'https://raw.githubusercontent.com/pratapvardhan/notebooks/master/covid19/mapping_countries.csv'"
      ]
     },
     "execution_count": 3,
     "metadata": {},
     "output_type": "execute_result"
    }
   ],
   "source": [
    "#hide\n",
    "paths['mapping']"
   ]
  },
  {
   "cell_type": "code",
   "execution_count": 4,
   "id": "urban-software",
   "metadata": {
    "execution": {
     "iopub.execute_input": "2022-02-08T12:11:29.126543Z",
     "iopub.status.busy": "2022-02-08T12:11:29.126012Z",
     "iopub.status.idle": "2022-02-08T12:11:29.127576Z",
     "shell.execute_reply": "2022-02-08T12:11:29.127969Z"
    },
    "papermill": {
     "duration": 0.037376,
     "end_time": "2022-02-08T12:11:29.128090",
     "exception": false,
     "start_time": "2022-02-08T12:11:29.090714",
     "status": "completed"
    },
    "tags": []
   },
   "outputs": [],
   "source": [
    "#hide\n",
    "def get_mappings(url):\n",
    "    df = pd.read_csv(url)\n",
    "    return {\n",
    "        'df': df,\n",
    "        'replace.country': dict(df.dropna(subset=['Name']).set_index('Country')['Name']),\n",
    "        'map.continent': dict(df.set_index('Name')['Continent'])\n",
    "    }"
   ]
  },
  {
   "cell_type": "code",
   "execution_count": 5,
   "id": "intimate-machinery",
   "metadata": {
    "execution": {
     "iopub.execute_input": "2022-02-08T12:11:29.194462Z",
     "iopub.status.busy": "2022-02-08T12:11:29.193956Z",
     "iopub.status.idle": "2022-02-08T12:11:29.257905Z",
     "shell.execute_reply": "2022-02-08T12:11:29.257467Z"
    },
    "papermill": {
     "duration": 0.099155,
     "end_time": "2022-02-08T12:11:29.258039",
     "exception": false,
     "start_time": "2022-02-08T12:11:29.158884",
     "status": "completed"
    },
    "tags": []
   },
   "outputs": [],
   "source": [
    "#hide\n",
    "mapping = get_mappings(paths['mapping'])"
   ]
  },
  {
   "cell_type": "code",
   "execution_count": 6,
   "id": "certified-tactics",
   "metadata": {
    "execution": {
     "iopub.execute_input": "2022-02-08T12:11:29.324728Z",
     "iopub.status.busy": "2022-02-08T12:11:29.324220Z",
     "iopub.status.idle": "2022-02-08T12:11:29.326165Z",
     "shell.execute_reply": "2022-02-08T12:11:29.325745Z"
    },
    "papermill": {
     "duration": 0.03702,
     "end_time": "2022-02-08T12:11:29.326265",
     "exception": false,
     "start_time": "2022-02-08T12:11:29.289245",
     "status": "completed"
    },
    "tags": []
   },
   "outputs": [],
   "source": [
    "#hide\n",
    "def get_template(path):\n",
    "    from urllib.parse import urlparse\n",
    "    if bool(urlparse(path).netloc):\n",
    "        from urllib.request import urlopen\n",
    "        return urlopen(path).read().decode('utf8')\n",
    "    return open(path).read()"
   ]
  },
  {
   "cell_type": "code",
   "execution_count": 7,
   "id": "realistic-blast",
   "metadata": {
    "execution": {
     "iopub.execute_input": "2022-02-08T12:11:29.392326Z",
     "iopub.status.busy": "2022-02-08T12:11:29.391787Z",
     "iopub.status.idle": "2022-02-08T12:11:29.393605Z",
     "shell.execute_reply": "2022-02-08T12:11:29.393128Z"
    },
    "papermill": {
     "duration": 0.036793,
     "end_time": "2022-02-08T12:11:29.393713",
     "exception": false,
     "start_time": "2022-02-08T12:11:29.356920",
     "status": "completed"
    },
    "tags": []
   },
   "outputs": [],
   "source": [
    "#hide\n",
    "def get_frame(name):\n",
    "    url = (\n",
    "        'https://raw.githubusercontent.com/CSSEGISandData/COVID-19/master/csse_covid_19_data/'\n",
    "        f'csse_covid_19_time_series/time_series_covid19_{name}_global.csv')\n",
    "    df = pd.read_csv(url)\n",
    "    # rename countries\n",
    "    df['Country/Region'] = df['Country/Region'].replace(mapping['replace.country'])\n",
    "    return df"
   ]
  },
  {
   "cell_type": "code",
   "execution_count": 8,
   "id": "affiliated-characterization",
   "metadata": {
    "execution": {
     "iopub.execute_input": "2022-02-08T12:11:29.460986Z",
     "iopub.status.busy": "2022-02-08T12:11:29.460449Z",
     "iopub.status.idle": "2022-02-08T12:11:29.462503Z",
     "shell.execute_reply": "2022-02-08T12:11:29.462892Z"
    },
    "papermill": {
     "duration": 0.038294,
     "end_time": "2022-02-08T12:11:29.463013",
     "exception": false,
     "start_time": "2022-02-08T12:11:29.424719",
     "status": "completed"
    },
    "tags": []
   },
   "outputs": [],
   "source": [
    "#hide\n",
    "def get_dates(df):\n",
    "    dt_cols = df.columns[~df.columns.isin(['Province/State', 'Country/Region', 'Lat', 'Long'])]\n",
    "    LAST_DATE_I = -1\n",
    "    # sometimes last column may be empty, then go backwards\n",
    "    for i in range(-1, -len(dt_cols), -1):\n",
    "        if not df[dt_cols[i]].fillna(0).eq(0).all():\n",
    "            LAST_DATE_I = i\n",
    "            break\n",
    "    return LAST_DATE_I, dt_cols"
   ]
  },
  {
   "cell_type": "code",
   "execution_count": 9,
   "id": "recent-optimization",
   "metadata": {
    "execution": {
     "iopub.execute_input": "2022-02-08T12:11:29.529532Z",
     "iopub.status.busy": "2022-02-08T12:11:29.528244Z",
     "iopub.status.idle": "2022-02-08T12:11:30.113845Z",
     "shell.execute_reply": "2022-02-08T12:11:30.113358Z"
    },
    "papermill": {
     "duration": 0.620369,
     "end_time": "2022-02-08T12:11:30.113980",
     "exception": false,
     "start_time": "2022-02-08T12:11:29.493611",
     "status": "completed"
    },
    "tags": []
   },
   "outputs": [],
   "source": [
    "#hide\n",
    "COL_REGION = 'Country/Region'\n",
    "# Confirmed, Recovered, Deaths\n",
    "df = get_frame('confirmed')\n",
    "# dft_: timeseries, dfc_: today country agg\n",
    "dft_cases = df\n",
    "dft_deaths = get_frame('deaths')\n",
    "dft_recovered = get_frame('recovered')\n",
    "LAST_DATE_I, dt_cols = get_dates(df)"
   ]
  },
  {
   "cell_type": "code",
   "execution_count": 10,
   "id": "absolute-copper",
   "metadata": {
    "execution": {
     "iopub.execute_input": "2022-02-08T12:11:30.180597Z",
     "iopub.status.busy": "2022-02-08T12:11:30.180059Z",
     "iopub.status.idle": "2022-02-08T12:11:30.181653Z",
     "shell.execute_reply": "2022-02-08T12:11:30.182045Z"
    },
    "papermill": {
     "duration": 0.037203,
     "end_time": "2022-02-08T12:11:30.182169",
     "exception": false,
     "start_time": "2022-02-08T12:11:30.144966",
     "status": "completed"
    },
    "tags": []
   },
   "outputs": [],
   "source": [
    "#hide\n",
    "LAST_DATE_I, dt_cols = get_dates(df)\n",
    "dt_today =dt_cols[LAST_DATE_I]\n",
    "# dt_5day = dt_cols[LAST_DATE_I - 5]\n",
    "dt_yday = dt_cols[LAST_DATE_I - 1]"
   ]
  },
  {
   "cell_type": "code",
   "execution_count": 11,
   "id": "restricted-sheriff",
   "metadata": {
    "execution": {
     "iopub.execute_input": "2022-02-08T12:11:30.252051Z",
     "iopub.status.busy": "2022-02-08T12:11:30.249795Z",
     "iopub.status.idle": "2022-02-08T12:11:30.257294Z",
     "shell.execute_reply": "2022-02-08T12:11:30.256831Z"
    },
    "papermill": {
     "duration": 0.044583,
     "end_time": "2022-02-08T12:11:30.257405",
     "exception": false,
     "start_time": "2022-02-08T12:11:30.212822",
     "status": "completed"
    },
    "tags": []
   },
   "outputs": [],
   "source": [
    "#hide\n",
    "dfc_cases = dft_cases.groupby(COL_REGION)[dt_today].sum()\n",
    "dfc_deaths = dft_deaths.groupby(COL_REGION)[dt_today].sum()\n",
    "# dfp_cases = dft_cases.groupby(COL_REGION)[dt_5day].sum()\n",
    "# dfp_deaths = dft_deaths.groupby(COL_REGION)[dt_5day].sum()\n",
    "dfp_cases = dft_cases.groupby(COL_REGION)[dt_yday].sum()\n",
    "dfp_deaths = dft_deaths.groupby(COL_REGION)[dt_yday].sum()"
   ]
  },
  {
   "cell_type": "code",
   "execution_count": 12,
   "id": "deluxe-hepatitis",
   "metadata": {
    "execution": {
     "iopub.execute_input": "2022-02-08T12:11:30.324376Z",
     "iopub.status.busy": "2022-02-08T12:11:30.323877Z",
     "iopub.status.idle": "2022-02-08T12:11:30.327697Z",
     "shell.execute_reply": "2022-02-08T12:11:30.328110Z"
    },
    "papermill": {
     "duration": 0.040002,
     "end_time": "2022-02-08T12:11:30.328228",
     "exception": false,
     "start_time": "2022-02-08T12:11:30.288226",
     "status": "completed"
    },
    "tags": []
   },
   "outputs": [],
   "source": [
    "#hide\n",
    "df_table = (pd.DataFrame(dict(Cases = dfc_cases, Deaths = dfc_deaths, PCases = dfp_cases, PDeaths = dfp_deaths))\n",
    "            .sort_values(by = ['Cases','Deaths'], ascending = [False, False])\n",
    "            .reset_index())"
   ]
  },
  {
   "cell_type": "code",
   "execution_count": 13,
   "id": "educational-chancellor",
   "metadata": {
    "execution": {
     "iopub.execute_input": "2022-02-08T12:11:30.402675Z",
     "iopub.status.busy": "2022-02-08T12:11:30.402152Z",
     "iopub.status.idle": "2022-02-08T12:11:30.413162Z",
     "shell.execute_reply": "2022-02-08T12:11:30.413557Z"
    },
    "papermill": {
     "duration": 0.054831,
     "end_time": "2022-02-08T12:11:30.413684",
     "exception": false,
     "start_time": "2022-02-08T12:11:30.358853",
     "status": "completed"
    },
    "tags": []
   },
   "outputs": [
    {
     "data": {
      "text/html": [
       "<div>\n",
       "<style scoped>\n",
       "    .dataframe tbody tr th:only-of-type {\n",
       "        vertical-align: middle;\n",
       "    }\n",
       "\n",
       "    .dataframe tbody tr th {\n",
       "        vertical-align: top;\n",
       "    }\n",
       "\n",
       "    .dataframe thead th {\n",
       "        text-align: right;\n",
       "    }\n",
       "</style>\n",
       "<table border=\"1\" class=\"dataframe\">\n",
       "  <thead>\n",
       "    <tr style=\"text-align: right;\">\n",
       "      <th></th>\n",
       "      <th>Country/Region</th>\n",
       "      <th>Cases</th>\n",
       "      <th>Deaths</th>\n",
       "      <th>PCases</th>\n",
       "      <th>PDeaths</th>\n",
       "      <th>Cases (+)</th>\n",
       "      <th>Deaths (+)</th>\n",
       "      <th>Fatality Rate</th>\n",
       "      <th>Continent</th>\n",
       "    </tr>\n",
       "  </thead>\n",
       "  <tbody>\n",
       "    <tr>\n",
       "      <th>0</th>\n",
       "      <td>US</td>\n",
       "      <td>76852768</td>\n",
       "      <td>905543</td>\n",
       "      <td>76511821</td>\n",
       "      <td>902635</td>\n",
       "      <td>340947</td>\n",
       "      <td>2908</td>\n",
       "      <td>1.18</td>\n",
       "      <td>North America</td>\n",
       "    </tr>\n",
       "    <tr>\n",
       "      <th>1</th>\n",
       "      <td>India</td>\n",
       "      <td>42339611</td>\n",
       "      <td>504062</td>\n",
       "      <td>42272014</td>\n",
       "      <td>502874</td>\n",
       "      <td>67597</td>\n",
       "      <td>1188</td>\n",
       "      <td>1.19</td>\n",
       "      <td>Asia</td>\n",
       "    </tr>\n",
       "    <tr>\n",
       "      <th>2</th>\n",
       "      <td>Brazil</td>\n",
       "      <td>26616014</td>\n",
       "      <td>632946</td>\n",
       "      <td>26546399</td>\n",
       "      <td>632514</td>\n",
       "      <td>69615</td>\n",
       "      <td>432</td>\n",
       "      <td>2.38</td>\n",
       "      <td>South America</td>\n",
       "    </tr>\n",
       "    <tr>\n",
       "      <th>3</th>\n",
       "      <td>France</td>\n",
       "      <td>20935910</td>\n",
       "      <td>133918</td>\n",
       "      <td>20887052</td>\n",
       "      <td>133501</td>\n",
       "      <td>48858</td>\n",
       "      <td>417</td>\n",
       "      <td>0.64</td>\n",
       "      <td>Europe</td>\n",
       "    </tr>\n",
       "    <tr>\n",
       "      <th>4</th>\n",
       "      <td>United Kingdom</td>\n",
       "      <td>17988447</td>\n",
       "      <td>158903</td>\n",
       "      <td>17923805</td>\n",
       "      <td>158856</td>\n",
       "      <td>64642</td>\n",
       "      <td>47</td>\n",
       "      <td>0.88</td>\n",
       "      <td>Europe</td>\n",
       "    </tr>\n",
       "  </tbody>\n",
       "</table>\n",
       "</div>"
      ],
      "text/plain": [
       "   Country/Region     Cases  Deaths    PCases  PDeaths  Cases (+)  Deaths (+)  \\\n",
       "0              US  76852768  905543  76511821   902635     340947        2908   \n",
       "1           India  42339611  504062  42272014   502874      67597        1188   \n",
       "2          Brazil  26616014  632946  26546399   632514      69615         432   \n",
       "3          France  20935910  133918  20887052   133501      48858         417   \n",
       "4  United Kingdom  17988447  158903  17923805   158856      64642          47   \n",
       "\n",
       "   Fatality Rate      Continent  \n",
       "0           1.18  North America  \n",
       "1           1.19           Asia  \n",
       "2           2.38  South America  \n",
       "3           0.64         Europe  \n",
       "4           0.88         Europe  "
      ]
     },
     "execution_count": 13,
     "metadata": {},
     "output_type": "execute_result"
    }
   ],
   "source": [
    "#hide\n",
    "for c in 'Cases, Deaths'.split(', '):\n",
    "    df_table[f'{c} (+)'] = (df_table[c] - df_table[f'P{c}']).clip(0)\n",
    "    #Clip ça veut dire, les chiffres negatif sont interdit\n",
    "df_table['Fatality Rate'] = (100* df_table['Deaths']/ df_table['Cases']).round(2)\n",
    "df_table['Continent'] = df_table['Country/Region'].map(mapping['map.continent'])\n",
    "df_table.head(5)"
   ]
  },
  {
   "cell_type": "code",
   "execution_count": 14,
   "id": "aboriginal-bulgaria",
   "metadata": {
    "execution": {
     "iopub.execute_input": "2022-02-08T12:11:30.481289Z",
     "iopub.status.busy": "2022-02-08T12:11:30.480766Z",
     "iopub.status.idle": "2022-02-08T12:11:30.482786Z",
     "shell.execute_reply": "2022-02-08T12:11:30.482304Z"
    },
    "papermill": {
     "duration": 0.038007,
     "end_time": "2022-02-08T12:11:30.482889",
     "exception": false,
     "start_time": "2022-02-08T12:11:30.444882",
     "status": "completed"
    },
    "tags": []
   },
   "outputs": [],
   "source": [
    "#hide\n",
    "#delete problematic countries from table\n",
    "df_table = df_table[~df_table['Country/Region'].isin(['Cape Verde', 'Cruise Ship', 'Kosovo'])]"
   ]
  },
  {
   "cell_type": "code",
   "execution_count": 15,
   "id": "fantastic-effect",
   "metadata": {
    "execution": {
     "iopub.execute_input": "2022-02-08T12:11:30.553036Z",
     "iopub.status.busy": "2022-02-08T12:11:30.551847Z",
     "iopub.status.idle": "2022-02-08T12:11:30.570578Z",
     "shell.execute_reply": "2022-02-08T12:11:30.569944Z"
    },
    "papermill": {
     "duration": 0.05685,
     "end_time": "2022-02-08T12:11:30.570695",
     "exception": false,
     "start_time": "2022-02-08T12:11:30.513845",
     "status": "completed"
    },
    "tags": []
   },
   "outputs": [
    {
     "data": {
      "text/html": [
       "<div>\n",
       "<style scoped>\n",
       "    .dataframe tbody tr th:only-of-type {\n",
       "        vertical-align: middle;\n",
       "    }\n",
       "\n",
       "    .dataframe tbody tr th {\n",
       "        vertical-align: top;\n",
       "    }\n",
       "\n",
       "    .dataframe thead th {\n",
       "        text-align: right;\n",
       "    }\n",
       "</style>\n",
       "<table border=\"1\" class=\"dataframe\">\n",
       "  <thead>\n",
       "    <tr style=\"text-align: right;\">\n",
       "      <th></th>\n",
       "      <th>Country/Region</th>\n",
       "      <th>Cases</th>\n",
       "      <th>Deaths</th>\n",
       "      <th>PCases</th>\n",
       "      <th>PDeaths</th>\n",
       "      <th>Cases (+)</th>\n",
       "      <th>Deaths (+)</th>\n",
       "      <th>Fatality Rate</th>\n",
       "      <th>Continent</th>\n",
       "    </tr>\n",
       "  </thead>\n",
       "  <tbody>\n",
       "    <tr>\n",
       "      <th>0</th>\n",
       "      <td>US</td>\n",
       "      <td>76852768</td>\n",
       "      <td>905543</td>\n",
       "      <td>76511821</td>\n",
       "      <td>902635</td>\n",
       "      <td>340947</td>\n",
       "      <td>2908</td>\n",
       "      <td>1.2</td>\n",
       "      <td>North America</td>\n",
       "    </tr>\n",
       "    <tr>\n",
       "      <th>1</th>\n",
       "      <td>India</td>\n",
       "      <td>42339611</td>\n",
       "      <td>504062</td>\n",
       "      <td>42272014</td>\n",
       "      <td>502874</td>\n",
       "      <td>67597</td>\n",
       "      <td>1188</td>\n",
       "      <td>1.2</td>\n",
       "      <td>Asia</td>\n",
       "    </tr>\n",
       "    <tr>\n",
       "      <th>2</th>\n",
       "      <td>Brazil</td>\n",
       "      <td>26616014</td>\n",
       "      <td>632946</td>\n",
       "      <td>26546399</td>\n",
       "      <td>632514</td>\n",
       "      <td>69615</td>\n",
       "      <td>432</td>\n",
       "      <td>2.4</td>\n",
       "      <td>South America</td>\n",
       "    </tr>\n",
       "    <tr>\n",
       "      <th>3</th>\n",
       "      <td>France</td>\n",
       "      <td>20935910</td>\n",
       "      <td>133918</td>\n",
       "      <td>20887052</td>\n",
       "      <td>133501</td>\n",
       "      <td>48858</td>\n",
       "      <td>417</td>\n",
       "      <td>0.6</td>\n",
       "      <td>Europe</td>\n",
       "    </tr>\n",
       "    <tr>\n",
       "      <th>4</th>\n",
       "      <td>United Kingdom</td>\n",
       "      <td>17988447</td>\n",
       "      <td>158903</td>\n",
       "      <td>17923805</td>\n",
       "      <td>158856</td>\n",
       "      <td>64642</td>\n",
       "      <td>47</td>\n",
       "      <td>0.9</td>\n",
       "      <td>Europe</td>\n",
       "    </tr>\n",
       "  </tbody>\n",
       "</table>\n",
       "</div>"
      ],
      "text/plain": [
       "   Country/Region     Cases  Deaths    PCases  PDeaths  Cases (+)  Deaths (+)  \\\n",
       "0              US  76852768  905543  76511821   902635     340947        2908   \n",
       "1           India  42339611  504062  42272014   502874      67597        1188   \n",
       "2          Brazil  26616014  632946  26546399   632514      69615         432   \n",
       "3          France  20935910  133918  20887052   133501      48858         417   \n",
       "4  United Kingdom  17988447  158903  17923805   158856      64642          47   \n",
       "\n",
       "   Fatality Rate      Continent  \n",
       "0            1.2  North America  \n",
       "1            1.2           Asia  \n",
       "2            2.4  South America  \n",
       "3            0.6         Europe  \n",
       "4            0.9         Europe  "
      ]
     },
     "execution_count": 15,
     "metadata": {},
     "output_type": "execute_result"
    }
   ],
   "source": [
    "#hide\n",
    "df_table = (pd.DataFrame(dict(Cases=dfc_cases, Deaths=dfc_deaths, PCases=dfp_cases, PDeaths=dfp_deaths))\n",
    "             .sort_values(by=['Cases', 'Deaths'], ascending=[False, False])\n",
    "             .reset_index())\n",
    "df_table.rename(columns={'index': 'Country/Region'}, inplace=True)\n",
    "for c in 'Cases, Deaths'.split(', '):\n",
    "    df_table[f'{c} (+)'] = (df_table[c] - df_table[f'P{c}']).clip(0)  # DATA BUG\n",
    "df_table['Fatality Rate'] = (100 * df_table['Deaths'] / df_table['Cases']).round(1)\n",
    "df_table['Continent'] = df_table['Country/Region'].map(mapping['map.continent'])\n",
    "df_table.head(5)"
   ]
  },
  {
   "cell_type": "code",
   "execution_count": 16,
   "id": "fewer-occasion",
   "metadata": {
    "execution": {
     "iopub.execute_input": "2022-02-08T12:11:30.639081Z",
     "iopub.status.busy": "2022-02-08T12:11:30.638583Z",
     "iopub.status.idle": "2022-02-08T12:11:30.640610Z",
     "shell.execute_reply": "2022-02-08T12:11:30.640205Z"
    },
    "papermill": {
     "duration": 0.038337,
     "end_time": "2022-02-08T12:11:30.640711",
     "exception": false,
     "start_time": "2022-02-08T12:11:30.602374",
     "status": "completed"
    },
    "tags": []
   },
   "outputs": [],
   "source": [
    "#hide\n",
    "#delete problematic countries from table\n",
    "df_table = df_table[~df_table['Country/Region'].isin(['Cape Verde', 'Cruise Ship', 'Kosovo'])]"
   ]
  },
  {
   "cell_type": "code",
   "execution_count": 17,
   "id": "related-center",
   "metadata": {
    "execution": {
     "iopub.execute_input": "2022-02-08T12:11:30.720836Z",
     "iopub.status.busy": "2022-02-08T12:11:30.709618Z",
     "iopub.status.idle": "2022-02-08T12:11:30.722634Z",
     "shell.execute_reply": "2022-02-08T12:11:30.723003Z"
    },
    "papermill": {
     "duration": 0.05082,
     "end_time": "2022-02-08T12:11:30.723127",
     "exception": false,
     "start_time": "2022-02-08T12:11:30.672307",
     "status": "completed"
    },
    "tags": []
   },
   "outputs": [],
   "source": [
    "#hide\n",
    "metrics = [df_table.columns[index] for index in [1,2,5,6]]\n",
    "# s_china = df_table[df_table['Country/Region'].eq('China')][metrics].sum().add_prefix('China ')\n",
    "s_us = df_table[df_table['Country/Region'].eq('US')][metrics].sum().add_prefix('US ')\n",
    "s_eu = df_table[df_table['Continent'].eq('Europe')][metrics].sum().add_prefix('EU ')\n",
    "s_ind = df_table[df_table['Country/Region'].eq('India')][metrics].sum().add_prefix('India ')\n",
    "summary = {'updated': pd.to_datetime(dt_today), 'since': pd.to_datetime(dt_yday)}\n",
    "summary = {'updated': pd.to_datetime(dt_today), 'since': pd.to_datetime(dt_yday)}\n",
    "summary = {**summary, **df_table[metrics].sum(), **s_ind, **s_us, **s_eu}"
   ]
  },
  {
   "cell_type": "code",
   "execution_count": 18,
   "id": "engaging-syndrome",
   "metadata": {
    "execution": {
     "iopub.execute_input": "2022-02-08T12:11:30.791057Z",
     "iopub.status.busy": "2022-02-08T12:11:30.790557Z",
     "iopub.status.idle": "2022-02-08T12:11:30.803865Z",
     "shell.execute_reply": "2022-02-08T12:11:30.803463Z"
    },
    "papermill": {
     "duration": 0.048993,
     "end_time": "2022-02-08T12:11:30.803975",
     "exception": false,
     "start_time": "2022-02-08T12:11:30.754982",
     "status": "completed"
    },
    "tags": []
   },
   "outputs": [],
   "source": [
    "#hide\n",
    "dft_ct_new_cases = dft_cases.groupby(COL_REGION)[dt_cols].sum().diff(axis=1).fillna(0).astype(int)"
   ]
  },
  {
   "cell_type": "code",
   "execution_count": 19,
   "id": "neutral-assignment",
   "metadata": {
    "execution": {
     "iopub.execute_input": "2022-02-08T12:11:30.873282Z",
     "iopub.status.busy": "2022-02-08T12:11:30.872779Z",
     "iopub.status.idle": "2022-02-08T12:11:30.874811Z",
     "shell.execute_reply": "2022-02-08T12:11:30.874405Z"
    },
    "papermill": {
     "duration": 0.039064,
     "end_time": "2022-02-08T12:11:30.874912",
     "exception": false,
     "start_time": "2022-02-08T12:11:30.835848",
     "status": "completed"
    },
    "tags": []
   },
   "outputs": [],
   "source": [
    "#hide\n",
    "everydaycases = dft_ct_new_cases.cumsum(axis=1)"
   ]
  },
  {
   "cell_type": "code",
   "execution_count": 20,
   "id": "parliamentary-calgary",
   "metadata": {
    "execution": {
     "iopub.execute_input": "2022-02-08T12:11:30.942028Z",
     "iopub.status.busy": "2022-02-08T12:11:30.941504Z",
     "iopub.status.idle": "2022-02-08T12:11:31.567974Z",
     "shell.execute_reply": "2022-02-08T12:11:31.567525Z"
    },
    "papermill": {
     "duration": 0.661621,
     "end_time": "2022-02-08T12:11:31.568091",
     "exception": false,
     "start_time": "2022-02-08T12:11:30.906470",
     "status": "completed"
    },
    "tags": []
   },
   "outputs": [],
   "source": [
    "#hide\n",
    "import pandas as pd\n",
    "import matplotlib.pyplot as plt\n",
    "import matplotlib.ticker as ticker\n",
    "import matplotlib.animation as animation\n",
    "from IPython.display import HTML"
   ]
  },
  {
   "cell_type": "code",
   "execution_count": 21,
   "id": "lasting-extraction",
   "metadata": {
    "execution": {
     "iopub.execute_input": "2022-02-08T12:11:31.636961Z",
     "iopub.status.busy": "2022-02-08T12:11:31.636450Z",
     "iopub.status.idle": "2022-02-08T12:11:31.643639Z",
     "shell.execute_reply": "2022-02-08T12:11:31.642740Z"
    },
    "papermill": {
     "duration": 0.043857,
     "end_time": "2022-02-08T12:11:31.643753",
     "exception": false,
     "start_time": "2022-02-08T12:11:31.599896",
     "status": "completed"
    },
    "tags": []
   },
   "outputs": [],
   "source": [
    "#hide\n",
    "t = everydaycases.stack()"
   ]
  },
  {
   "cell_type": "code",
   "execution_count": 22,
   "id": "premier-sleeve",
   "metadata": {
    "execution": {
     "iopub.execute_input": "2022-02-08T12:11:31.712495Z",
     "iopub.status.busy": "2022-02-08T12:11:31.711994Z",
     "iopub.status.idle": "2022-02-08T12:11:31.721166Z",
     "shell.execute_reply": "2022-02-08T12:11:31.720678Z"
    },
    "papermill": {
     "duration": 0.045718,
     "end_time": "2022-02-08T12:11:31.721272",
     "exception": false,
     "start_time": "2022-02-08T12:11:31.675554",
     "status": "completed"
    },
    "tags": []
   },
   "outputs": [],
   "source": [
    "#hide\n",
    "g = t.reset_index(['Country/Region'])"
   ]
  },
  {
   "cell_type": "code",
   "execution_count": 23,
   "id": "distributed-pittsburgh",
   "metadata": {
    "execution": {
     "iopub.execute_input": "2022-02-08T12:11:31.788170Z",
     "iopub.status.busy": "2022-02-08T12:11:31.787664Z",
     "iopub.status.idle": "2022-02-08T12:11:31.789752Z",
     "shell.execute_reply": "2022-02-08T12:11:31.789363Z"
    },
    "papermill": {
     "duration": 0.03699,
     "end_time": "2022-02-08T12:11:31.789856",
     "exception": false,
     "start_time": "2022-02-08T12:11:31.752866",
     "status": "completed"
    },
    "tags": []
   },
   "outputs": [],
   "source": [
    "#hide\n",
    "g.index.name = 'date'"
   ]
  },
  {
   "cell_type": "code",
   "execution_count": 24,
   "id": "naked-donor",
   "metadata": {
    "execution": {
     "iopub.execute_input": "2022-02-08T12:11:31.856340Z",
     "iopub.status.busy": "2022-02-08T12:11:31.855830Z",
     "iopub.status.idle": "2022-02-08T12:11:31.857796Z",
     "shell.execute_reply": "2022-02-08T12:11:31.857334Z"
    },
    "papermill": {
     "duration": 0.036398,
     "end_time": "2022-02-08T12:11:31.857899",
     "exception": false,
     "start_time": "2022-02-08T12:11:31.821501",
     "status": "completed"
    },
    "tags": []
   },
   "outputs": [],
   "source": [
    "# #hide\n",
    "# g = g.reset_index(['date'])"
   ]
  },
  {
   "cell_type": "code",
   "execution_count": 25,
   "id": "incomplete-mustang",
   "metadata": {
    "execution": {
     "iopub.execute_input": "2022-02-08T12:11:31.925053Z",
     "iopub.status.busy": "2022-02-08T12:11:31.924545Z",
     "iopub.status.idle": "2022-02-08T12:11:31.928035Z",
     "shell.execute_reply": "2022-02-08T12:11:31.927634Z"
    },
    "papermill": {
     "duration": 0.038096,
     "end_time": "2022-02-08T12:11:31.928141",
     "exception": false,
     "start_time": "2022-02-08T12:11:31.890045",
     "status": "completed"
    },
    "tags": []
   },
   "outputs": [],
   "source": [
    "#hide\n",
    "# g.head()"
   ]
  },
  {
   "cell_type": "code",
   "execution_count": 26,
   "id": "specific-kruger",
   "metadata": {
    "execution": {
     "iopub.execute_input": "2022-02-08T12:11:31.994665Z",
     "iopub.status.busy": "2022-02-08T12:11:31.994165Z",
     "iopub.status.idle": "2022-02-08T12:11:31.996058Z",
     "shell.execute_reply": "2022-02-08T12:11:31.995651Z"
    },
    "papermill": {
     "duration": 0.036337,
     "end_time": "2022-02-08T12:11:31.996157",
     "exception": false,
     "start_time": "2022-02-08T12:11:31.959820",
     "status": "completed"
    },
    "tags": []
   },
   "outputs": [],
   "source": [
    "#hide\n",
    "# g.columns = ['date','country','cases']"
   ]
  },
  {
   "cell_type": "code",
   "execution_count": 27,
   "id": "tender-conversion",
   "metadata": {
    "execution": {
     "iopub.execute_input": "2022-02-08T12:11:32.062962Z",
     "iopub.status.busy": "2022-02-08T12:11:32.062459Z",
     "iopub.status.idle": "2022-02-08T12:11:32.066025Z",
     "shell.execute_reply": "2022-02-08T12:11:32.065590Z"
    },
    "papermill": {
     "duration": 0.038534,
     "end_time": "2022-02-08T12:11:32.066135",
     "exception": false,
     "start_time": "2022-02-08T12:11:32.027601",
     "status": "completed"
    },
    "tags": []
   },
   "outputs": [],
   "source": [
    "#hide\n",
    "# g['continent'] = g.country"
   ]
  },
  {
   "cell_type": "code",
   "execution_count": 28,
   "id": "substantial-wilderness",
   "metadata": {
    "execution": {
     "iopub.execute_input": "2022-02-08T12:11:32.132812Z",
     "iopub.status.busy": "2022-02-08T12:11:32.132309Z",
     "iopub.status.idle": "2022-02-08T12:11:32.134415Z",
     "shell.execute_reply": "2022-02-08T12:11:32.133997Z"
    },
    "papermill": {
     "duration": 0.036652,
     "end_time": "2022-02-08T12:11:32.134522",
     "exception": false,
     "start_time": "2022-02-08T12:11:32.097870",
     "status": "completed"
    },
    "tags": []
   },
   "outputs": [],
   "source": [
    "#hide\n",
    "# cols = list(g.columns.values)"
   ]
  },
  {
   "cell_type": "code",
   "execution_count": 29,
   "id": "solved-farming",
   "metadata": {
    "execution": {
     "iopub.execute_input": "2022-02-08T12:11:32.201506Z",
     "iopub.status.busy": "2022-02-08T12:11:32.200990Z",
     "iopub.status.idle": "2022-02-08T12:11:32.204023Z",
     "shell.execute_reply": "2022-02-08T12:11:32.204402Z"
    },
    "papermill": {
     "duration": 0.038073,
     "end_time": "2022-02-08T12:11:32.204524",
     "exception": false,
     "start_time": "2022-02-08T12:11:32.166451",
     "status": "completed"
    },
    "tags": []
   },
   "outputs": [],
   "source": [
    "#hide\n",
    "# cols.insert(0, cols.pop())"
   ]
  },
  {
   "cell_type": "code",
   "execution_count": 30,
   "id": "executed-adoption",
   "metadata": {
    "execution": {
     "iopub.execute_input": "2022-02-08T12:11:32.272900Z",
     "iopub.status.busy": "2022-02-08T12:11:32.272390Z",
     "iopub.status.idle": "2022-02-08T12:11:32.274359Z",
     "shell.execute_reply": "2022-02-08T12:11:32.273886Z"
    },
    "papermill": {
     "duration": 0.038215,
     "end_time": "2022-02-08T12:11:32.274465",
     "exception": false,
     "start_time": "2022-02-08T12:11:32.236250",
     "status": "completed"
    },
    "tags": []
   },
   "outputs": [],
   "source": [
    "#hide\n",
    "# g = g[cols]"
   ]
  },
  {
   "cell_type": "code",
   "execution_count": 31,
   "id": "subject-dublin",
   "metadata": {
    "execution": {
     "iopub.execute_input": "2022-02-08T12:11:32.341186Z",
     "iopub.status.busy": "2022-02-08T12:11:32.340673Z",
     "iopub.status.idle": "2022-02-08T12:11:32.342682Z",
     "shell.execute_reply": "2022-02-08T12:11:32.342262Z"
    },
    "papermill": {
     "duration": 0.036654,
     "end_time": "2022-02-08T12:11:32.342787",
     "exception": false,
     "start_time": "2022-02-08T12:11:32.306133",
     "status": "completed"
    },
    "tags": []
   },
   "outputs": [],
   "source": [
    "#hide\n",
    "# g['continent'] = g['continent'].map(mapping['map.continent'])"
   ]
  },
  {
   "cell_type": "code",
   "execution_count": 32,
   "id": "freelance-scout",
   "metadata": {
    "execution": {
     "iopub.execute_input": "2022-02-08T12:11:32.409618Z",
     "iopub.status.busy": "2022-02-08T12:11:32.409116Z",
     "iopub.status.idle": "2022-02-08T12:11:32.410842Z",
     "shell.execute_reply": "2022-02-08T12:11:32.411205Z"
    },
    "papermill": {
     "duration": 0.036825,
     "end_time": "2022-02-08T12:11:32.411322",
     "exception": false,
     "start_time": "2022-02-08T12:11:32.374497",
     "status": "completed"
    },
    "tags": []
   },
   "outputs": [],
   "source": [
    "#hide\n",
    "# g.head()"
   ]
  },
  {
   "cell_type": "code",
   "execution_count": 33,
   "id": "limited-engine",
   "metadata": {
    "execution": {
     "iopub.execute_input": "2022-02-08T12:11:32.477349Z",
     "iopub.status.busy": "2022-02-08T12:11:32.476845Z",
     "iopub.status.idle": "2022-02-08T12:11:32.478550Z",
     "shell.execute_reply": "2022-02-08T12:11:32.478938Z"
    },
    "papermill": {
     "duration": 0.036322,
     "end_time": "2022-02-08T12:11:32.479054",
     "exception": false,
     "start_time": "2022-02-08T12:11:32.442732",
     "status": "completed"
    },
    "tags": []
   },
   "outputs": [],
   "source": [
    "# hide\n",
    "# g['date'] = g['date'].astype('datetime64[ns]')"
   ]
  },
  {
   "cell_type": "code",
   "execution_count": 34,
   "id": "sophisticated-supervisor",
   "metadata": {
    "execution": {
     "iopub.execute_input": "2022-02-08T12:11:32.545914Z",
     "iopub.status.busy": "2022-02-08T12:11:32.545389Z",
     "iopub.status.idle": "2022-02-08T12:11:32.548664Z",
     "shell.execute_reply": "2022-02-08T12:11:32.548268Z"
    },
    "papermill": {
     "duration": 0.038128,
     "end_time": "2022-02-08T12:11:32.548771",
     "exception": false,
     "start_time": "2022-02-08T12:11:32.510643",
     "status": "completed"
    },
    "tags": []
   },
   "outputs": [],
   "source": [
    "#hide\n",
    "# g['date'] = g.date.dt.dayofyear"
   ]
  },
  {
   "cell_type": "code",
   "execution_count": 35,
   "id": "inside-dubai",
   "metadata": {
    "execution": {
     "iopub.execute_input": "2022-02-08T12:11:32.615411Z",
     "iopub.status.busy": "2022-02-08T12:11:32.614882Z",
     "iopub.status.idle": "2022-02-08T12:11:32.616866Z",
     "shell.execute_reply": "2022-02-08T12:11:32.616394Z"
    },
    "papermill": {
     "duration": 0.036582,
     "end_time": "2022-02-08T12:11:32.616966",
     "exception": false,
     "start_time": "2022-02-08T12:11:32.580384",
     "status": "completed"
    },
    "tags": []
   },
   "outputs": [],
   "source": [
    "#hide\n",
    "# g = g.rename(columns= {'continent':'group','country':'name','cases':'value'})"
   ]
  },
  {
   "cell_type": "code",
   "execution_count": 36,
   "id": "fleet-motorcycle",
   "metadata": {
    "execution": {
     "iopub.execute_input": "2022-02-08T12:11:32.683535Z",
     "iopub.status.busy": "2022-02-08T12:11:32.683015Z",
     "iopub.status.idle": "2022-02-08T12:11:32.684979Z",
     "shell.execute_reply": "2022-02-08T12:11:32.684511Z"
    },
    "papermill": {
     "duration": 0.036496,
     "end_time": "2022-02-08T12:11:32.685080",
     "exception": false,
     "start_time": "2022-02-08T12:11:32.648584",
     "status": "completed"
    },
    "tags": []
   },
   "outputs": [],
   "source": [
    "#hide\n",
    "# cols = ['name','group','day','value']"
   ]
  },
  {
   "cell_type": "code",
   "execution_count": 37,
   "id": "continued-sleeping",
   "metadata": {
    "execution": {
     "iopub.execute_input": "2022-02-08T12:11:32.752246Z",
     "iopub.status.busy": "2022-02-08T12:11:32.751720Z",
     "iopub.status.idle": "2022-02-08T12:11:32.755152Z",
     "shell.execute_reply": "2022-02-08T12:11:32.754752Z"
    },
    "papermill": {
     "duration": 0.03859,
     "end_time": "2022-02-08T12:11:32.755260",
     "exception": false,
     "start_time": "2022-02-08T12:11:32.716670",
     "status": "completed"
    },
    "tags": []
   },
   "outputs": [],
   "source": [
    "#hide\n",
    "# g.rename(columns= {'date':'day'},inplace = True)"
   ]
  },
  {
   "cell_type": "code",
   "execution_count": 38,
   "id": "major-fight",
   "metadata": {
    "execution": {
     "iopub.execute_input": "2022-02-08T12:11:32.822092Z",
     "iopub.status.busy": "2022-02-08T12:11:32.821538Z",
     "iopub.status.idle": "2022-02-08T12:11:32.823513Z",
     "shell.execute_reply": "2022-02-08T12:11:32.823104Z"
    },
    "papermill": {
     "duration": 0.036673,
     "end_time": "2022-02-08T12:11:32.823614",
     "exception": false,
     "start_time": "2022-02-08T12:11:32.786941",
     "status": "completed"
    },
    "tags": []
   },
   "outputs": [],
   "source": [
    "#hide\n",
    "# g = g[cols]"
   ]
  },
  {
   "cell_type": "code",
   "execution_count": 39,
   "id": "structured-mobile",
   "metadata": {
    "execution": {
     "iopub.execute_input": "2022-02-08T12:11:32.890353Z",
     "iopub.status.busy": "2022-02-08T12:11:32.889806Z",
     "iopub.status.idle": "2022-02-08T12:11:32.891770Z",
     "shell.execute_reply": "2022-02-08T12:11:32.891369Z"
    },
    "papermill": {
     "duration": 0.036729,
     "end_time": "2022-02-08T12:11:32.891868",
     "exception": false,
     "start_time": "2022-02-08T12:11:32.855139",
     "status": "completed"
    },
    "tags": []
   },
   "outputs": [],
   "source": [
    "# #hide\n",
    "# g = g[g.group.notna()]"
   ]
  },
  {
   "cell_type": "code",
   "execution_count": 40,
   "id": "determined-closing",
   "metadata": {
    "execution": {
     "iopub.execute_input": "2022-02-08T12:11:32.958687Z",
     "iopub.status.busy": "2022-02-08T12:11:32.958162Z",
     "iopub.status.idle": "2022-02-08T12:11:32.959627Z",
     "shell.execute_reply": "2022-02-08T12:11:32.960009Z"
    },
    "papermill": {
     "duration": 0.036533,
     "end_time": "2022-02-08T12:11:32.960124",
     "exception": false,
     "start_time": "2022-02-08T12:11:32.923591",
     "status": "completed"
    },
    "tags": []
   },
   "outputs": [],
   "source": [
    "# #hide\n",
    "# colors = dict(zip(\n",
    "#     [\"Oceania\", \"Europe\", \"Asia\", \"South America\", \"Middle East\", \"North America\", \"Africa\"],\n",
    "#     [\"#adb0ff\", \"#ffb3ff\", \"#90d595\", \"#e48381\", \"#aafbff\", \"#f7bb5f\", \"#eafb50\"]\n",
    "# ))\n",
    "# group_lk = g.set_index('name')['group'].to_dict()"
   ]
  },
  {
   "cell_type": "code",
   "execution_count": null,
   "id": "gross-drinking",
   "metadata": {
    "papermill": {
     "duration": 0.031305,
     "end_time": "2022-02-08T12:11:33.022960",
     "exception": false,
     "start_time": "2022-02-08T12:11:32.991655",
     "status": "completed"
    },
    "tags": []
   },
   "outputs": [],
   "source": []
  },
  {
   "cell_type": "code",
   "execution_count": 41,
   "id": "subject-macintosh",
   "metadata": {
    "execution": {
     "iopub.execute_input": "2022-02-08T12:11:33.090299Z",
     "iopub.status.busy": "2022-02-08T12:11:33.089753Z",
     "iopub.status.idle": "2022-02-08T12:11:33.091775Z",
     "shell.execute_reply": "2022-02-08T12:11:33.091302Z"
    },
    "papermill": {
     "duration": 0.037433,
     "end_time": "2022-02-08T12:11:33.091877",
     "exception": false,
     "start_time": "2022-02-08T12:11:33.054444",
     "status": "completed"
    },
    "tags": []
   },
   "outputs": [],
   "source": [
    "# #hide\n",
    "# fig, ax = plt.subplots(figsize=(15, 8))\n",
    "\n",
    "# def draw_barchart(current_day):\n",
    "#     dff = g[g['day'].eq(current_day)].sort_values(by='value', ascending=True).tail(10)\n",
    "#     ax.clear()\n",
    "#     ax.barh(dff['name'], dff['value'], color=[colors[group_lk[x]] for x in dff['name']])\n",
    "#     dx = dff['value'].max() / 200\n",
    "    \n",
    "#     for i, (value, name) in enumerate(zip(dff['value'], dff['name'])):\n",
    "#         ax.text(value-dx, i,     name,           size=14, weight=600, ha='right', va='bottom')\n",
    "#         ax.text(value-dx, i-.25, group_lk[name], size=10, color='#444444', ha='right', va='baseline')\n",
    "#         ax.text(value+dx, i,     f'{value:,.0f}',  size=14, ha='left',  va='center')\n",
    "#     ax.text(1, 0.4, current_day, transform=ax.transAxes, color='#777777', size=46, ha='right', weight=800)\n",
    "#     ax.text(0, 1.06, 'Population (thousands)', transform=ax.transAxes, size=12, color='#777777')\n",
    "#     ax.xaxis.set_major_formatter(ticker.StrMethodFormatter('{x:,.0f}'))\n",
    "#     ax.xaxis.set_ticks_position('top')\n",
    "#     ax.tick_params(axis='x', colors='#777777', labelsize=12)\n",
    "#     ax.set_yticks([])\n",
    "#     ax.margins(0, 0.01)\n",
    "#     ax.grid(which='major', axis='x', linestyle='-')\n",
    "#     ax.set_axisbelow(True)\n",
    "    \n",
    "#     ax.text(0, 1.15, 'Coronavirus',\n",
    "#             transform=ax.transAxes, size=24, weight=600, ha='left', va='top')\n",
    "# #     ax.text(1, 0, 'by @pratapvardhan; credit @jburnmurdoch', transform=ax.transAxes, color='#777777', ha='right',\n",
    "# #             bbox=dict(facecolor='white', alpha=0.8, edgecolor='white'))\n",
    "#     plt.box(False)"
   ]
  },
  {
   "cell_type": "code",
   "execution_count": 42,
   "id": "sexual-wages",
   "metadata": {
    "execution": {
     "iopub.execute_input": "2022-02-08T12:11:33.158810Z",
     "iopub.status.busy": "2022-02-08T12:11:33.158286Z",
     "iopub.status.idle": "2022-02-08T12:11:33.159786Z",
     "shell.execute_reply": "2022-02-08T12:11:33.160180Z"
    },
    "papermill": {
     "duration": 0.036854,
     "end_time": "2022-02-08T12:11:33.160300",
     "exception": false,
     "start_time": "2022-02-08T12:11:33.123446",
     "status": "completed"
    },
    "tags": []
   },
   "outputs": [],
   "source": [
    "# #hide_input\n",
    "# fig, ax = plt.subplots(figsize=(15, 8))\n",
    "# animator = animation.FuncAnimation(fig, draw_barchart, frames=range(g.day.values.min(), g.day.values.max()))\n",
    "# HTML(animator.to_jshtml())\n",
    "# # or use animator.to_html5_video() or animator.save() "
   ]
  },
  {
   "cell_type": "code",
   "execution_count": null,
   "id": "australian-container",
   "metadata": {
    "papermill": {
     "duration": 0.031691,
     "end_time": "2022-02-08T12:11:33.223721",
     "exception": false,
     "start_time": "2022-02-08T12:11:33.192030",
     "status": "completed"
    },
    "tags": []
   },
   "outputs": [],
   "source": []
  },
  {
   "cell_type": "code",
   "execution_count": null,
   "id": "mediterranean-pontiac",
   "metadata": {
    "papermill": {
     "duration": 0.031507,
     "end_time": "2022-02-08T12:11:33.286700",
     "exception": false,
     "start_time": "2022-02-08T12:11:33.255193",
     "status": "completed"
    },
    "tags": []
   },
   "outputs": [],
   "source": []
  },
  {
   "cell_type": "code",
   "execution_count": null,
   "id": "aging-legislature",
   "metadata": {
    "papermill": {
     "duration": 0.03127,
     "end_time": "2022-02-08T12:11:33.349584",
     "exception": false,
     "start_time": "2022-02-08T12:11:33.318314",
     "status": "completed"
    },
    "tags": []
   },
   "outputs": [],
   "source": []
  }
 ],
 "metadata": {
  "kernelspec": {
   "display_name": "Python 3",
   "language": "python",
   "name": "python3"
  },
  "language_info": {
   "codemirror_mode": {
    "name": "ipython",
    "version": 3
   },
   "file_extension": ".py",
   "mimetype": "text/x-python",
   "name": "python",
   "nbconvert_exporter": "python",
   "pygments_lexer": "ipython3",
   "version": "3.6.15"
  },
  "papermill": {
   "duration": 6.115085,
   "end_time": "2022-02-08T12:11:33.698049",
   "environment_variables": {},
   "exception": null,
   "input_path": "2020-03-21-covid19exp.ipynb",
   "output_path": "2020-03-21-covid19exp.ipynb",
   "parameters": {},
   "start_time": "2022-02-08T12:11:27.582964",
   "version": "2.0.0"
  }
 },
 "nbformat": 4,
 "nbformat_minor": 5
}