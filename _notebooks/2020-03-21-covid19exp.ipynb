{
 "cells": [
  {
   "cell_type": "markdown",
   "id": "muslim-click",
   "metadata": {
    "papermill": {
     "duration": 0.038941,
     "end_time": "2022-02-20T12:12:39.827037",
     "exception": false,
     "start_time": "2022-02-20T12:12:39.788096",
     "status": "completed"
    },
    "tags": []
   },
   "source": [
    "# COVID-19 Case Race\n",
    "> A race chart to see rising cases around the world\n",
    "\n",
    "- author: Hargun Oberoi\n",
    "- image: images/covid-overview.png\n",
    "- hide: false\n",
    "- badges: false"
   ]
  },
  {
   "cell_type": "code",
   "execution_count": 1,
   "id": "proof-material",
   "metadata": {
    "execution": {
     "iopub.execute_input": "2022-02-20T12:12:39.909099Z",
     "iopub.status.busy": "2022-02-20T12:12:39.907887Z",
     "iopub.status.idle": "2022-02-20T12:12:40.284255Z",
     "shell.execute_reply": "2022-02-20T12:12:40.283678Z"
    },
    "papermill": {
     "duration": 0.421696,
     "end_time": "2022-02-20T12:12:40.284398",
     "exception": false,
     "start_time": "2022-02-20T12:12:39.862702",
     "status": "completed"
    },
    "tags": []
   },
   "outputs": [],
   "source": [
    "#hide\n",
    "import numpy as np\n",
    "import pandas as pd\n",
    "from jinja2 import Template\n",
    "from IPython.display import HTML"
   ]
  },
  {
   "cell_type": "code",
   "execution_count": 2,
   "id": "developed-terminology",
   "metadata": {
    "execution": {
     "iopub.execute_input": "2022-02-20T12:12:40.360978Z",
     "iopub.status.busy": "2022-02-20T12:12:40.360305Z",
     "iopub.status.idle": "2022-02-20T12:12:40.363974Z",
     "shell.execute_reply": "2022-02-20T12:12:40.364429Z"
    },
    "papermill": {
     "duration": 0.0468,
     "end_time": "2022-02-20T12:12:40.364586",
     "exception": false,
     "start_time": "2022-02-20T12:12:40.317786",
     "status": "completed"
    },
    "tags": []
   },
   "outputs": [],
   "source": [
    "#hide\n",
    "\n",
    "# FETCH\n",
    "base_url = 'https://raw.githubusercontent.com/pratapvardhan/notebooks/master/covid19/'\n",
    "paths = {\n",
    "    'mapping': base_url + 'mapping_countries.csv',\n",
    "    'overview': base_url + 'overview.tpl'\n",
    "}"
   ]
  },
  {
   "cell_type": "code",
   "execution_count": 3,
   "id": "dynamic-saver",
   "metadata": {
    "execution": {
     "iopub.execute_input": "2022-02-20T12:12:40.445853Z",
     "iopub.status.busy": "2022-02-20T12:12:40.445171Z",
     "iopub.status.idle": "2022-02-20T12:12:40.447487Z",
     "shell.execute_reply": "2022-02-20T12:12:40.448722Z"
    },
    "papermill": {
     "duration": 0.050177,
     "end_time": "2022-02-20T12:12:40.448950",
     "exception": false,
     "start_time": "2022-02-20T12:12:40.398773",
     "status": "completed"
    },
    "tags": []
   },
   "outputs": [
    {
     "data": {
      "text/plain": [
       "'https://raw.githubusercontent.com/pratapvardhan/notebooks/master/covid19/mapping_countries.csv'"
      ]
     },
     "execution_count": 3,
     "metadata": {},
     "output_type": "execute_result"
    }
   ],
   "source": [
    "#hide\n",
    "paths['mapping']"
   ]
  },
  {
   "cell_type": "code",
   "execution_count": 4,
   "id": "urban-software",
   "metadata": {
    "execution": {
     "iopub.execute_input": "2022-02-20T12:12:40.534362Z",
     "iopub.status.busy": "2022-02-20T12:12:40.533731Z",
     "iopub.status.idle": "2022-02-20T12:12:40.536486Z",
     "shell.execute_reply": "2022-02-20T12:12:40.535990Z"
    },
    "papermill": {
     "duration": 0.044291,
     "end_time": "2022-02-20T12:12:40.536619",
     "exception": false,
     "start_time": "2022-02-20T12:12:40.492328",
     "status": "completed"
    },
    "tags": []
   },
   "outputs": [],
   "source": [
    "#hide\n",
    "def get_mappings(url):\n",
    "    df = pd.read_csv(url)\n",
    "    return {\n",
    "        'df': df,\n",
    "        'replace.country': dict(df.dropna(subset=['Name']).set_index('Country')['Name']),\n",
    "        'map.continent': dict(df.set_index('Name')['Continent'])\n",
    "    }"
   ]
  },
  {
   "cell_type": "code",
   "execution_count": 5,
   "id": "intimate-machinery",
   "metadata": {
    "execution": {
     "iopub.execute_input": "2022-02-20T12:12:40.610673Z",
     "iopub.status.busy": "2022-02-20T12:12:40.610046Z",
     "iopub.status.idle": "2022-02-20T12:12:40.653120Z",
     "shell.execute_reply": "2022-02-20T12:12:40.651849Z"
    },
    "papermill": {
     "duration": 0.082785,
     "end_time": "2022-02-20T12:12:40.653272",
     "exception": false,
     "start_time": "2022-02-20T12:12:40.570487",
     "status": "completed"
    },
    "tags": []
   },
   "outputs": [],
   "source": [
    "#hide\n",
    "mapping = get_mappings(paths['mapping'])"
   ]
  },
  {
   "cell_type": "code",
   "execution_count": 6,
   "id": "certified-tactics",
   "metadata": {
    "execution": {
     "iopub.execute_input": "2022-02-20T12:12:40.730604Z",
     "iopub.status.busy": "2022-02-20T12:12:40.729974Z",
     "iopub.status.idle": "2022-02-20T12:12:40.732958Z",
     "shell.execute_reply": "2022-02-20T12:12:40.732218Z"
    },
    "papermill": {
     "duration": 0.04404,
     "end_time": "2022-02-20T12:12:40.733132",
     "exception": false,
     "start_time": "2022-02-20T12:12:40.689092",
     "status": "completed"
    },
    "tags": []
   },
   "outputs": [],
   "source": [
    "#hide\n",
    "def get_template(path):\n",
    "    from urllib.parse import urlparse\n",
    "    if bool(urlparse(path).netloc):\n",
    "        from urllib.request import urlopen\n",
    "        return urlopen(path).read().decode('utf8')\n",
    "    return open(path).read()"
   ]
  },
  {
   "cell_type": "code",
   "execution_count": 7,
   "id": "realistic-blast",
   "metadata": {
    "execution": {
     "iopub.execute_input": "2022-02-20T12:12:40.815869Z",
     "iopub.status.busy": "2022-02-20T12:12:40.814787Z",
     "iopub.status.idle": "2022-02-20T12:12:40.819685Z",
     "shell.execute_reply": "2022-02-20T12:12:40.819171Z"
    },
    "papermill": {
     "duration": 0.048094,
     "end_time": "2022-02-20T12:12:40.819815",
     "exception": false,
     "start_time": "2022-02-20T12:12:40.771721",
     "status": "completed"
    },
    "tags": []
   },
   "outputs": [],
   "source": [
    "#hide\n",
    "def get_frame(name):\n",
    "    url = (\n",
    "        'https://raw.githubusercontent.com/CSSEGISandData/COVID-19/master/csse_covid_19_data/'\n",
    "        f'csse_covid_19_time_series/time_series_covid19_{name}_global.csv')\n",
    "    df = pd.read_csv(url)\n",
    "    # rename countries\n",
    "    df['Country/Region'] = df['Country/Region'].replace(mapping['replace.country'])\n",
    "    return df"
   ]
  },
  {
   "cell_type": "code",
   "execution_count": 8,
   "id": "affiliated-characterization",
   "metadata": {
    "execution": {
     "iopub.execute_input": "2022-02-20T12:12:40.902700Z",
     "iopub.status.busy": "2022-02-20T12:12:40.902060Z",
     "iopub.status.idle": "2022-02-20T12:12:40.906577Z",
     "shell.execute_reply": "2022-02-20T12:12:40.906065Z"
    },
    "papermill": {
     "duration": 0.051784,
     "end_time": "2022-02-20T12:12:40.906709",
     "exception": false,
     "start_time": "2022-02-20T12:12:40.854925",
     "status": "completed"
    },
    "tags": []
   },
   "outputs": [],
   "source": [
    "#hide\n",
    "def get_dates(df):\n",
    "    dt_cols = df.columns[~df.columns.isin(['Province/State', 'Country/Region', 'Lat', 'Long'])]\n",
    "    LAST_DATE_I = -1\n",
    "    # sometimes last column may be empty, then go backwards\n",
    "    for i in range(-1, -len(dt_cols), -1):\n",
    "        if not df[dt_cols[i]].fillna(0).eq(0).all():\n",
    "            LAST_DATE_I = i\n",
    "            break\n",
    "    return LAST_DATE_I, dt_cols"
   ]
  },
  {
   "cell_type": "code",
   "execution_count": 9,
   "id": "recent-optimization",
   "metadata": {
    "execution": {
     "iopub.execute_input": "2022-02-20T12:12:40.990488Z",
     "iopub.status.busy": "2022-02-20T12:12:40.989624Z",
     "iopub.status.idle": "2022-02-20T12:12:41.365422Z",
     "shell.execute_reply": "2022-02-20T12:12:41.364842Z"
    },
    "papermill": {
     "duration": 0.424269,
     "end_time": "2022-02-20T12:12:41.365582",
     "exception": false,
     "start_time": "2022-02-20T12:12:40.941313",
     "status": "completed"
    },
    "tags": []
   },
   "outputs": [],
   "source": [
    "#hide\n",
    "COL_REGION = 'Country/Region'\n",
    "# Confirmed, Recovered, Deaths\n",
    "df = get_frame('confirmed')\n",
    "# dft_: timeseries, dfc_: today country agg\n",
    "dft_cases = df\n",
    "dft_deaths = get_frame('deaths')\n",
    "dft_recovered = get_frame('recovered')\n",
    "LAST_DATE_I, dt_cols = get_dates(df)"
   ]
  },
  {
   "cell_type": "code",
   "execution_count": 10,
   "id": "absolute-copper",
   "metadata": {
    "execution": {
     "iopub.execute_input": "2022-02-20T12:12:41.443313Z",
     "iopub.status.busy": "2022-02-20T12:12:41.442240Z",
     "iopub.status.idle": "2022-02-20T12:12:41.444573Z",
     "shell.execute_reply": "2022-02-20T12:12:41.445106Z"
    },
    "papermill": {
     "duration": 0.045421,
     "end_time": "2022-02-20T12:12:41.445258",
     "exception": false,
     "start_time": "2022-02-20T12:12:41.399837",
     "status": "completed"
    },
    "tags": []
   },
   "outputs": [],
   "source": [
    "#hide\n",
    "LAST_DATE_I, dt_cols = get_dates(df)\n",
    "dt_today =dt_cols[LAST_DATE_I]\n",
    "# dt_5day = dt_cols[LAST_DATE_I - 5]\n",
    "dt_yday = dt_cols[LAST_DATE_I - 1]"
   ]
  },
  {
   "cell_type": "code",
   "execution_count": 11,
   "id": "restricted-sheriff",
   "metadata": {
    "execution": {
     "iopub.execute_input": "2022-02-20T12:12:41.519731Z",
     "iopub.status.busy": "2022-02-20T12:12:41.519102Z",
     "iopub.status.idle": "2022-02-20T12:12:41.527245Z",
     "shell.execute_reply": "2022-02-20T12:12:41.526751Z"
    },
    "papermill": {
     "duration": 0.047921,
     "end_time": "2022-02-20T12:12:41.527373",
     "exception": false,
     "start_time": "2022-02-20T12:12:41.479452",
     "status": "completed"
    },
    "tags": []
   },
   "outputs": [],
   "source": [
    "#hide\n",
    "dfc_cases = dft_cases.groupby(COL_REGION)[dt_today].sum()\n",
    "dfc_deaths = dft_deaths.groupby(COL_REGION)[dt_today].sum()\n",
    "# dfp_cases = dft_cases.groupby(COL_REGION)[dt_5day].sum()\n",
    "# dfp_deaths = dft_deaths.groupby(COL_REGION)[dt_5day].sum()\n",
    "dfp_cases = dft_cases.groupby(COL_REGION)[dt_yday].sum()\n",
    "dfp_deaths = dft_deaths.groupby(COL_REGION)[dt_yday].sum()"
   ]
  },
  {
   "cell_type": "code",
   "execution_count": 12,
   "id": "deluxe-hepatitis",
   "metadata": {
    "execution": {
     "iopub.execute_input": "2022-02-20T12:12:41.603305Z",
     "iopub.status.busy": "2022-02-20T12:12:41.602680Z",
     "iopub.status.idle": "2022-02-20T12:12:41.607560Z",
     "shell.execute_reply": "2022-02-20T12:12:41.608019Z"
    },
    "papermill": {
     "duration": 0.046918,
     "end_time": "2022-02-20T12:12:41.608173",
     "exception": false,
     "start_time": "2022-02-20T12:12:41.561255",
     "status": "completed"
    },
    "tags": []
   },
   "outputs": [],
   "source": [
    "#hide\n",
    "df_table = (pd.DataFrame(dict(Cases = dfc_cases, Deaths = dfc_deaths, PCases = dfp_cases, PDeaths = dfp_deaths))\n",
    "            .sort_values(by = ['Cases','Deaths'], ascending = [False, False])\n",
    "            .reset_index())"
   ]
  },
  {
   "cell_type": "code",
   "execution_count": 13,
   "id": "educational-chancellor",
   "metadata": {
    "execution": {
     "iopub.execute_input": "2022-02-20T12:12:41.698716Z",
     "iopub.status.busy": "2022-02-20T12:12:41.698040Z",
     "iopub.status.idle": "2022-02-20T12:12:41.712449Z",
     "shell.execute_reply": "2022-02-20T12:12:41.711940Z"
    },
    "papermill": {
     "duration": 0.070285,
     "end_time": "2022-02-20T12:12:41.712587",
     "exception": false,
     "start_time": "2022-02-20T12:12:41.642302",
     "status": "completed"
    },
    "tags": []
   },
   "outputs": [
    {
     "data": {
      "text/html": [
       "<div>\n",
       "<style scoped>\n",
       "    .dataframe tbody tr th:only-of-type {\n",
       "        vertical-align: middle;\n",
       "    }\n",
       "\n",
       "    .dataframe tbody tr th {\n",
       "        vertical-align: top;\n",
       "    }\n",
       "\n",
       "    .dataframe thead th {\n",
       "        text-align: right;\n",
       "    }\n",
       "</style>\n",
       "<table border=\"1\" class=\"dataframe\">\n",
       "  <thead>\n",
       "    <tr style=\"text-align: right;\">\n",
       "      <th></th>\n",
       "      <th>Country/Region</th>\n",
       "      <th>Cases</th>\n",
       "      <th>Deaths</th>\n",
       "      <th>PCases</th>\n",
       "      <th>PDeaths</th>\n",
       "      <th>Cases (+)</th>\n",
       "      <th>Deaths (+)</th>\n",
       "      <th>Fatality Rate</th>\n",
       "      <th>Continent</th>\n",
       "    </tr>\n",
       "  </thead>\n",
       "  <tbody>\n",
       "    <tr>\n",
       "      <th>0</th>\n",
       "      <td>US</td>\n",
       "      <td>78457081</td>\n",
       "      <td>934951</td>\n",
       "      <td>78423525</td>\n",
       "      <td>934321</td>\n",
       "      <td>33556</td>\n",
       "      <td>630</td>\n",
       "      <td>1.19</td>\n",
       "      <td>North America</td>\n",
       "    </tr>\n",
       "    <tr>\n",
       "      <th>1</th>\n",
       "      <td>India</td>\n",
       "      <td>42822473</td>\n",
       "      <td>511903</td>\n",
       "      <td>42802505</td>\n",
       "      <td>511230</td>\n",
       "      <td>19968</td>\n",
       "      <td>673</td>\n",
       "      <td>1.20</td>\n",
       "      <td>Asia</td>\n",
       "    </tr>\n",
       "    <tr>\n",
       "      <th>2</th>\n",
       "      <td>Brazil</td>\n",
       "      <td>28177367</td>\n",
       "      <td>644195</td>\n",
       "      <td>28072238</td>\n",
       "      <td>643340</td>\n",
       "      <td>105129</td>\n",
       "      <td>855</td>\n",
       "      <td>2.29</td>\n",
       "      <td>South America</td>\n",
       "    </tr>\n",
       "    <tr>\n",
       "      <th>3</th>\n",
       "      <td>France</td>\n",
       "      <td>22386566</td>\n",
       "      <td>137595</td>\n",
       "      <td>22310014</td>\n",
       "      <td>137448</td>\n",
       "      <td>76552</td>\n",
       "      <td>147</td>\n",
       "      <td>0.61</td>\n",
       "      <td>Europe</td>\n",
       "    </tr>\n",
       "    <tr>\n",
       "      <th>4</th>\n",
       "      <td>United Kingdom</td>\n",
       "      <td>18710375</td>\n",
       "      <td>161074</td>\n",
       "      <td>18676361</td>\n",
       "      <td>160946</td>\n",
       "      <td>34014</td>\n",
       "      <td>128</td>\n",
       "      <td>0.86</td>\n",
       "      <td>Europe</td>\n",
       "    </tr>\n",
       "  </tbody>\n",
       "</table>\n",
       "</div>"
      ],
      "text/plain": [
       "   Country/Region     Cases  Deaths    PCases  PDeaths  Cases (+)  Deaths (+)  \\\n",
       "0              US  78457081  934951  78423525   934321      33556         630   \n",
       "1           India  42822473  511903  42802505   511230      19968         673   \n",
       "2          Brazil  28177367  644195  28072238   643340     105129         855   \n",
       "3          France  22386566  137595  22310014   137448      76552         147   \n",
       "4  United Kingdom  18710375  161074  18676361   160946      34014         128   \n",
       "\n",
       "   Fatality Rate      Continent  \n",
       "0           1.19  North America  \n",
       "1           1.20           Asia  \n",
       "2           2.29  South America  \n",
       "3           0.61         Europe  \n",
       "4           0.86         Europe  "
      ]
     },
     "execution_count": 13,
     "metadata": {},
     "output_type": "execute_result"
    }
   ],
   "source": [
    "#hide\n",
    "for c in 'Cases, Deaths'.split(', '):\n",
    "    df_table[f'{c} (+)'] = (df_table[c] - df_table[f'P{c}']).clip(0)\n",
    "    #Clip ça veut dire, les chiffres negatif sont interdit\n",
    "df_table['Fatality Rate'] = (100* df_table['Deaths']/ df_table['Cases']).round(2)\n",
    "df_table['Continent'] = df_table['Country/Region'].map(mapping['map.continent'])\n",
    "df_table.head(5)"
   ]
  },
  {
   "cell_type": "code",
   "execution_count": 14,
   "id": "aboriginal-bulgaria",
   "metadata": {
    "execution": {
     "iopub.execute_input": "2022-02-20T12:12:41.792368Z",
     "iopub.status.busy": "2022-02-20T12:12:41.791695Z",
     "iopub.status.idle": "2022-02-20T12:12:41.793455Z",
     "shell.execute_reply": "2022-02-20T12:12:41.793965Z"
    },
    "papermill": {
     "duration": 0.045511,
     "end_time": "2022-02-20T12:12:41.794239",
     "exception": false,
     "start_time": "2022-02-20T12:12:41.748728",
     "status": "completed"
    },
    "tags": []
   },
   "outputs": [],
   "source": [
    "#hide\n",
    "#delete problematic countries from table\n",
    "df_table = df_table[~df_table['Country/Region'].isin(['Cape Verde', 'Cruise Ship', 'Kosovo'])]"
   ]
  },
  {
   "cell_type": "code",
   "execution_count": 15,
   "id": "fantastic-effect",
   "metadata": {
    "execution": {
     "iopub.execute_input": "2022-02-20T12:12:41.880527Z",
     "iopub.status.busy": "2022-02-20T12:12:41.878648Z",
     "iopub.status.idle": "2022-02-20T12:12:41.903919Z",
     "shell.execute_reply": "2022-02-20T12:12:41.902401Z"
    },
    "papermill": {
     "duration": 0.07241,
     "end_time": "2022-02-20T12:12:41.904401",
     "exception": false,
     "start_time": "2022-02-20T12:12:41.831991",
     "status": "completed"
    },
    "tags": []
   },
   "outputs": [
    {
     "data": {
      "text/html": [
       "<div>\n",
       "<style scoped>\n",
       "    .dataframe tbody tr th:only-of-type {\n",
       "        vertical-align: middle;\n",
       "    }\n",
       "\n",
       "    .dataframe tbody tr th {\n",
       "        vertical-align: top;\n",
       "    }\n",
       "\n",
       "    .dataframe thead th {\n",
       "        text-align: right;\n",
       "    }\n",
       "</style>\n",
       "<table border=\"1\" class=\"dataframe\">\n",
       "  <thead>\n",
       "    <tr style=\"text-align: right;\">\n",
       "      <th></th>\n",
       "      <th>Country/Region</th>\n",
       "      <th>Cases</th>\n",
       "      <th>Deaths</th>\n",
       "      <th>PCases</th>\n",
       "      <th>PDeaths</th>\n",
       "      <th>Cases (+)</th>\n",
       "      <th>Deaths (+)</th>\n",
       "      <th>Fatality Rate</th>\n",
       "      <th>Continent</th>\n",
       "    </tr>\n",
       "  </thead>\n",
       "  <tbody>\n",
       "    <tr>\n",
       "      <th>0</th>\n",
       "      <td>US</td>\n",
       "      <td>78457081</td>\n",
       "      <td>934951</td>\n",
       "      <td>78423525</td>\n",
       "      <td>934321</td>\n",
       "      <td>33556</td>\n",
       "      <td>630</td>\n",
       "      <td>1.2</td>\n",
       "      <td>North America</td>\n",
       "    </tr>\n",
       "    <tr>\n",
       "      <th>1</th>\n",
       "      <td>India</td>\n",
       "      <td>42822473</td>\n",
       "      <td>511903</td>\n",
       "      <td>42802505</td>\n",
       "      <td>511230</td>\n",
       "      <td>19968</td>\n",
       "      <td>673</td>\n",
       "      <td>1.2</td>\n",
       "      <td>Asia</td>\n",
       "    </tr>\n",
       "    <tr>\n",
       "      <th>2</th>\n",
       "      <td>Brazil</td>\n",
       "      <td>28177367</td>\n",
       "      <td>644195</td>\n",
       "      <td>28072238</td>\n",
       "      <td>643340</td>\n",
       "      <td>105129</td>\n",
       "      <td>855</td>\n",
       "      <td>2.3</td>\n",
       "      <td>South America</td>\n",
       "    </tr>\n",
       "    <tr>\n",
       "      <th>3</th>\n",
       "      <td>France</td>\n",
       "      <td>22386566</td>\n",
       "      <td>137595</td>\n",
       "      <td>22310014</td>\n",
       "      <td>137448</td>\n",
       "      <td>76552</td>\n",
       "      <td>147</td>\n",
       "      <td>0.6</td>\n",
       "      <td>Europe</td>\n",
       "    </tr>\n",
       "    <tr>\n",
       "      <th>4</th>\n",
       "      <td>United Kingdom</td>\n",
       "      <td>18710375</td>\n",
       "      <td>161074</td>\n",
       "      <td>18676361</td>\n",
       "      <td>160946</td>\n",
       "      <td>34014</td>\n",
       "      <td>128</td>\n",
       "      <td>0.9</td>\n",
       "      <td>Europe</td>\n",
       "    </tr>\n",
       "  </tbody>\n",
       "</table>\n",
       "</div>"
      ],
      "text/plain": [
       "   Country/Region     Cases  Deaths    PCases  PDeaths  Cases (+)  Deaths (+)  \\\n",
       "0              US  78457081  934951  78423525   934321      33556         630   \n",
       "1           India  42822473  511903  42802505   511230      19968         673   \n",
       "2          Brazil  28177367  644195  28072238   643340     105129         855   \n",
       "3          France  22386566  137595  22310014   137448      76552         147   \n",
       "4  United Kingdom  18710375  161074  18676361   160946      34014         128   \n",
       "\n",
       "   Fatality Rate      Continent  \n",
       "0            1.2  North America  \n",
       "1            1.2           Asia  \n",
       "2            2.3  South America  \n",
       "3            0.6         Europe  \n",
       "4            0.9         Europe  "
      ]
     },
     "execution_count": 15,
     "metadata": {},
     "output_type": "execute_result"
    }
   ],
   "source": [
    "#hide\n",
    "df_table = (pd.DataFrame(dict(Cases=dfc_cases, Deaths=dfc_deaths, PCases=dfp_cases, PDeaths=dfp_deaths))\n",
    "             .sort_values(by=['Cases', 'Deaths'], ascending=[False, False])\n",
    "             .reset_index())\n",
    "df_table.rename(columns={'index': 'Country/Region'}, inplace=True)\n",
    "for c in 'Cases, Deaths'.split(', '):\n",
    "    df_table[f'{c} (+)'] = (df_table[c] - df_table[f'P{c}']).clip(0)  # DATA BUG\n",
    "df_table['Fatality Rate'] = (100 * df_table['Deaths'] / df_table['Cases']).round(1)\n",
    "df_table['Continent'] = df_table['Country/Region'].map(mapping['map.continent'])\n",
    "df_table.head(5)"
   ]
  },
  {
   "cell_type": "code",
   "execution_count": 16,
   "id": "fewer-occasion",
   "metadata": {
    "execution": {
     "iopub.execute_input": "2022-02-20T12:12:41.988901Z",
     "iopub.status.busy": "2022-02-20T12:12:41.988238Z",
     "iopub.status.idle": "2022-02-20T12:12:41.992010Z",
     "shell.execute_reply": "2022-02-20T12:12:41.992583Z"
    },
    "papermill": {
     "duration": 0.050747,
     "end_time": "2022-02-20T12:12:41.992757",
     "exception": false,
     "start_time": "2022-02-20T12:12:41.942010",
     "status": "completed"
    },
    "tags": []
   },
   "outputs": [],
   "source": [
    "#hide\n",
    "#delete problematic countries from table\n",
    "df_table = df_table[~df_table['Country/Region'].isin(['Cape Verde', 'Cruise Ship', 'Kosovo'])]"
   ]
  },
  {
   "cell_type": "code",
   "execution_count": 17,
   "id": "related-center",
   "metadata": {
    "execution": {
     "iopub.execute_input": "2022-02-20T12:12:42.096663Z",
     "iopub.status.busy": "2022-02-20T12:12:42.095990Z",
     "iopub.status.idle": "2022-02-20T12:12:42.098003Z",
     "shell.execute_reply": "2022-02-20T12:12:42.098597Z"
    },
    "papermill": {
     "duration": 0.065859,
     "end_time": "2022-02-20T12:12:42.098754",
     "exception": false,
     "start_time": "2022-02-20T12:12:42.032895",
     "status": "completed"
    },
    "tags": []
   },
   "outputs": [],
   "source": [
    "#hide\n",
    "metrics = [df_table.columns[index] for index in [1,2,5,6]]\n",
    "# s_china = df_table[df_table['Country/Region'].eq('China')][metrics].sum().add_prefix('China ')\n",
    "s_us = df_table[df_table['Country/Region'].eq('US')][metrics].sum().add_prefix('US ')\n",
    "s_eu = df_table[df_table['Continent'].eq('Europe')][metrics].sum().add_prefix('EU ')\n",
    "s_ind = df_table[df_table['Country/Region'].eq('India')][metrics].sum().add_prefix('India ')\n",
    "summary = {'updated': pd.to_datetime(dt_today), 'since': pd.to_datetime(dt_yday)}\n",
    "summary = {'updated': pd.to_datetime(dt_today), 'since': pd.to_datetime(dt_yday)}\n",
    "summary = {**summary, **df_table[metrics].sum(), **s_ind, **s_us, **s_eu}"
   ]
  },
  {
   "cell_type": "code",
   "execution_count": 18,
   "id": "engaging-syndrome",
   "metadata": {
    "execution": {
     "iopub.execute_input": "2022-02-20T12:12:42.181104Z",
     "iopub.status.busy": "2022-02-20T12:12:42.180412Z",
     "iopub.status.idle": "2022-02-20T12:12:42.199808Z",
     "shell.execute_reply": "2022-02-20T12:12:42.199278Z"
    },
    "papermill": {
     "duration": 0.062676,
     "end_time": "2022-02-20T12:12:42.199948",
     "exception": false,
     "start_time": "2022-02-20T12:12:42.137272",
     "status": "completed"
    },
    "tags": []
   },
   "outputs": [],
   "source": [
    "#hide\n",
    "dft_ct_new_cases = dft_cases.groupby(COL_REGION)[dt_cols].sum().diff(axis=1).fillna(0).astype(int)"
   ]
  },
  {
   "cell_type": "code",
   "execution_count": 19,
   "id": "neutral-assignment",
   "metadata": {
    "execution": {
     "iopub.execute_input": "2022-02-20T12:12:42.289516Z",
     "iopub.status.busy": "2022-02-20T12:12:42.288887Z",
     "iopub.status.idle": "2022-02-20T12:12:42.293117Z",
     "shell.execute_reply": "2022-02-20T12:12:42.292620Z"
    },
    "papermill": {
     "duration": 0.049007,
     "end_time": "2022-02-20T12:12:42.293268",
     "exception": false,
     "start_time": "2022-02-20T12:12:42.244261",
     "status": "completed"
    },
    "tags": []
   },
   "outputs": [],
   "source": [
    "#hide\n",
    "everydaycases = dft_ct_new_cases.cumsum(axis=1)"
   ]
  },
  {
   "cell_type": "code",
   "execution_count": 20,
   "id": "parliamentary-calgary",
   "metadata": {
    "execution": {
     "iopub.execute_input": "2022-02-20T12:12:42.377843Z",
     "iopub.status.busy": "2022-02-20T12:12:42.377173Z",
     "iopub.status.idle": "2022-02-20T12:12:43.112194Z",
     "shell.execute_reply": "2022-02-20T12:12:43.111593Z"
    },
    "papermill": {
     "duration": 0.778189,
     "end_time": "2022-02-20T12:12:43.112328",
     "exception": false,
     "start_time": "2022-02-20T12:12:42.334139",
     "status": "completed"
    },
    "tags": []
   },
   "outputs": [],
   "source": [
    "#hide\n",
    "import pandas as pd\n",
    "import matplotlib.pyplot as plt\n",
    "import matplotlib.ticker as ticker\n",
    "import matplotlib.animation as animation\n",
    "from IPython.display import HTML"
   ]
  },
  {
   "cell_type": "code",
   "execution_count": 21,
   "id": "lasting-extraction",
   "metadata": {
    "execution": {
     "iopub.execute_input": "2022-02-20T12:12:43.189794Z",
     "iopub.status.busy": "2022-02-20T12:12:43.188996Z",
     "iopub.status.idle": "2022-02-20T12:12:43.196724Z",
     "shell.execute_reply": "2022-02-20T12:12:43.196209Z"
    },
    "papermill": {
     "duration": 0.049435,
     "end_time": "2022-02-20T12:12:43.196852",
     "exception": false,
     "start_time": "2022-02-20T12:12:43.147417",
     "status": "completed"
    },
    "tags": []
   },
   "outputs": [],
   "source": [
    "#hide\n",
    "t = everydaycases.stack()"
   ]
  },
  {
   "cell_type": "code",
   "execution_count": 22,
   "id": "premier-sleeve",
   "metadata": {
    "execution": {
     "iopub.execute_input": "2022-02-20T12:12:43.274031Z",
     "iopub.status.busy": "2022-02-20T12:12:43.272408Z",
     "iopub.status.idle": "2022-02-20T12:12:43.285508Z",
     "shell.execute_reply": "2022-02-20T12:12:43.286054Z"
    },
    "papermill": {
     "duration": 0.054222,
     "end_time": "2022-02-20T12:12:43.286214",
     "exception": false,
     "start_time": "2022-02-20T12:12:43.231992",
     "status": "completed"
    },
    "tags": []
   },
   "outputs": [],
   "source": [
    "#hide\n",
    "g = t.reset_index(['Country/Region'])"
   ]
  },
  {
   "cell_type": "code",
   "execution_count": 23,
   "id": "distributed-pittsburgh",
   "metadata": {
    "execution": {
     "iopub.execute_input": "2022-02-20T12:12:43.361919Z",
     "iopub.status.busy": "2022-02-20T12:12:43.361106Z",
     "iopub.status.idle": "2022-02-20T12:12:43.362699Z",
     "shell.execute_reply": "2022-02-20T12:12:43.363310Z"
    },
    "papermill": {
     "duration": 0.042019,
     "end_time": "2022-02-20T12:12:43.363483",
     "exception": false,
     "start_time": "2022-02-20T12:12:43.321464",
     "status": "completed"
    },
    "tags": []
   },
   "outputs": [],
   "source": [
    "#hide\n",
    "g.index.name = 'date'"
   ]
  },
  {
   "cell_type": "code",
   "execution_count": 24,
   "id": "naked-donor",
   "metadata": {
    "execution": {
     "iopub.execute_input": "2022-02-20T12:12:43.448330Z",
     "iopub.status.busy": "2022-02-20T12:12:43.447478Z",
     "iopub.status.idle": "2022-02-20T12:12:43.452338Z",
     "shell.execute_reply": "2022-02-20T12:12:43.451838Z"
    },
    "papermill": {
     "duration": 0.0466,
     "end_time": "2022-02-20T12:12:43.452471",
     "exception": false,
     "start_time": "2022-02-20T12:12:43.405871",
     "status": "completed"
    },
    "tags": []
   },
   "outputs": [],
   "source": [
    "# #hide\n",
    "# g = g.reset_index(['date'])"
   ]
  },
  {
   "cell_type": "code",
   "execution_count": 25,
   "id": "incomplete-mustang",
   "metadata": {
    "execution": {
     "iopub.execute_input": "2022-02-20T12:12:43.533698Z",
     "iopub.status.busy": "2022-02-20T12:12:43.531989Z",
     "iopub.status.idle": "2022-02-20T12:12:43.535090Z",
     "shell.execute_reply": "2022-02-20T12:12:43.535584Z"
    },
    "papermill": {
     "duration": 0.045266,
     "end_time": "2022-02-20T12:12:43.535735",
     "exception": false,
     "start_time": "2022-02-20T12:12:43.490469",
     "status": "completed"
    },
    "tags": []
   },
   "outputs": [],
   "source": [
    "#hide\n",
    "# g.head()"
   ]
  },
  {
   "cell_type": "code",
   "execution_count": 26,
   "id": "specific-kruger",
   "metadata": {
    "execution": {
     "iopub.execute_input": "2022-02-20T12:12:43.616221Z",
     "iopub.status.busy": "2022-02-20T12:12:43.615344Z",
     "iopub.status.idle": "2022-02-20T12:12:43.617753Z",
     "shell.execute_reply": "2022-02-20T12:12:43.618337Z"
    },
    "papermill": {
     "duration": 0.043397,
     "end_time": "2022-02-20T12:12:43.618490",
     "exception": false,
     "start_time": "2022-02-20T12:12:43.575093",
     "status": "completed"
    },
    "tags": []
   },
   "outputs": [],
   "source": [
    "#hide\n",
    "# g.columns = ['date','country','cases']"
   ]
  },
  {
   "cell_type": "code",
   "execution_count": 27,
   "id": "tender-conversion",
   "metadata": {
    "execution": {
     "iopub.execute_input": "2022-02-20T12:12:43.695094Z",
     "iopub.status.busy": "2022-02-20T12:12:43.693853Z",
     "iopub.status.idle": "2022-02-20T12:12:43.695865Z",
     "shell.execute_reply": "2022-02-20T12:12:43.696440Z"
    },
    "papermill": {
     "duration": 0.042763,
     "end_time": "2022-02-20T12:12:43.696591",
     "exception": false,
     "start_time": "2022-02-20T12:12:43.653828",
     "status": "completed"
    },
    "tags": []
   },
   "outputs": [],
   "source": [
    "#hide\n",
    "# g['continent'] = g.country"
   ]
  },
  {
   "cell_type": "code",
   "execution_count": 28,
   "id": "substantial-wilderness",
   "metadata": {
    "execution": {
     "iopub.execute_input": "2022-02-20T12:12:43.774420Z",
     "iopub.status.busy": "2022-02-20T12:12:43.773779Z",
     "iopub.status.idle": "2022-02-20T12:12:43.782511Z",
     "shell.execute_reply": "2022-02-20T12:12:43.783049Z"
    },
    "papermill": {
     "duration": 0.05042,
     "end_time": "2022-02-20T12:12:43.783207",
     "exception": false,
     "start_time": "2022-02-20T12:12:43.732787",
     "status": "completed"
    },
    "tags": []
   },
   "outputs": [],
   "source": [
    "#hide\n",
    "# cols = list(g.columns.values)"
   ]
  },
  {
   "cell_type": "code",
   "execution_count": 29,
   "id": "solved-farming",
   "metadata": {
    "execution": {
     "iopub.execute_input": "2022-02-20T12:12:43.862667Z",
     "iopub.status.busy": "2022-02-20T12:12:43.862014Z",
     "iopub.status.idle": "2022-02-20T12:12:43.863453Z",
     "shell.execute_reply": "2022-02-20T12:12:43.863952Z"
    },
    "papermill": {
     "duration": 0.043757,
     "end_time": "2022-02-20T12:12:43.864093",
     "exception": false,
     "start_time": "2022-02-20T12:12:43.820336",
     "status": "completed"
    },
    "tags": []
   },
   "outputs": [],
   "source": [
    "#hide\n",
    "# cols.insert(0, cols.pop())"
   ]
  },
  {
   "cell_type": "code",
   "execution_count": 30,
   "id": "executed-adoption",
   "metadata": {
    "execution": {
     "iopub.execute_input": "2022-02-20T12:12:43.949006Z",
     "iopub.status.busy": "2022-02-20T12:12:43.948331Z",
     "iopub.status.idle": "2022-02-20T12:12:43.952684Z",
     "shell.execute_reply": "2022-02-20T12:12:43.952180Z"
    },
    "papermill": {
     "duration": 0.04628,
     "end_time": "2022-02-20T12:12:43.952814",
     "exception": false,
     "start_time": "2022-02-20T12:12:43.906534",
     "status": "completed"
    },
    "tags": []
   },
   "outputs": [],
   "source": [
    "#hide\n",
    "# g = g[cols]"
   ]
  },
  {
   "cell_type": "code",
   "execution_count": 31,
   "id": "subject-dublin",
   "metadata": {
    "execution": {
     "iopub.execute_input": "2022-02-20T12:12:44.032032Z",
     "iopub.status.busy": "2022-02-20T12:12:44.030714Z",
     "iopub.status.idle": "2022-02-20T12:12:44.032711Z",
     "shell.execute_reply": "2022-02-20T12:12:44.033177Z"
    },
    "papermill": {
     "duration": 0.043126,
     "end_time": "2022-02-20T12:12:44.033320",
     "exception": false,
     "start_time": "2022-02-20T12:12:43.990194",
     "status": "completed"
    },
    "tags": []
   },
   "outputs": [],
   "source": [
    "#hide\n",
    "# g['continent'] = g['continent'].map(mapping['map.continent'])"
   ]
  },
  {
   "cell_type": "code",
   "execution_count": 32,
   "id": "freelance-scout",
   "metadata": {
    "execution": {
     "iopub.execute_input": "2022-02-20T12:12:44.117947Z",
     "iopub.status.busy": "2022-02-20T12:12:44.117286Z",
     "iopub.status.idle": "2022-02-20T12:12:44.120254Z",
     "shell.execute_reply": "2022-02-20T12:12:44.120771Z"
    },
    "papermill": {
     "duration": 0.046018,
     "end_time": "2022-02-20T12:12:44.120920",
     "exception": false,
     "start_time": "2022-02-20T12:12:44.074902",
     "status": "completed"
    },
    "tags": []
   },
   "outputs": [],
   "source": [
    "#hide\n",
    "# g.head()"
   ]
  },
  {
   "cell_type": "code",
   "execution_count": 33,
   "id": "limited-engine",
   "metadata": {
    "execution": {
     "iopub.execute_input": "2022-02-20T12:12:44.207979Z",
     "iopub.status.busy": "2022-02-20T12:12:44.207093Z",
     "iopub.status.idle": "2022-02-20T12:12:44.210062Z",
     "shell.execute_reply": "2022-02-20T12:12:44.210524Z"
    },
    "papermill": {
     "duration": 0.052361,
     "end_time": "2022-02-20T12:12:44.210677",
     "exception": false,
     "start_time": "2022-02-20T12:12:44.158316",
     "status": "completed"
    },
    "tags": []
   },
   "outputs": [],
   "source": [
    "# hide\n",
    "# g['date'] = g['date'].astype('datetime64[ns]')"
   ]
  },
  {
   "cell_type": "code",
   "execution_count": 34,
   "id": "sophisticated-supervisor",
   "metadata": {
    "execution": {
     "iopub.execute_input": "2022-02-20T12:12:44.291580Z",
     "iopub.status.busy": "2022-02-20T12:12:44.290726Z",
     "iopub.status.idle": "2022-02-20T12:12:44.295269Z",
     "shell.execute_reply": "2022-02-20T12:12:44.294777Z"
    },
    "papermill": {
     "duration": 0.046487,
     "end_time": "2022-02-20T12:12:44.295398",
     "exception": false,
     "start_time": "2022-02-20T12:12:44.248911",
     "status": "completed"
    },
    "tags": []
   },
   "outputs": [],
   "source": [
    "#hide\n",
    "# g['date'] = g.date.dt.dayofyear"
   ]
  },
  {
   "cell_type": "code",
   "execution_count": 35,
   "id": "inside-dubai",
   "metadata": {
    "execution": {
     "iopub.execute_input": "2022-02-20T12:12:44.374372Z",
     "iopub.status.busy": "2022-02-20T12:12:44.373724Z",
     "iopub.status.idle": "2022-02-20T12:12:44.375686Z",
     "shell.execute_reply": "2022-02-20T12:12:44.375106Z"
    },
    "papermill": {
     "duration": 0.043131,
     "end_time": "2022-02-20T12:12:44.375812",
     "exception": false,
     "start_time": "2022-02-20T12:12:44.332681",
     "status": "completed"
    },
    "tags": []
   },
   "outputs": [],
   "source": [
    "#hide\n",
    "# g = g.rename(columns= {'continent':'group','country':'name','cases':'value'})"
   ]
  },
  {
   "cell_type": "code",
   "execution_count": 36,
   "id": "fleet-motorcycle",
   "metadata": {
    "execution": {
     "iopub.execute_input": "2022-02-20T12:12:44.463408Z",
     "iopub.status.busy": "2022-02-20T12:12:44.462797Z",
     "iopub.status.idle": "2022-02-20T12:12:44.466195Z",
     "shell.execute_reply": "2022-02-20T12:12:44.465230Z"
    },
    "papermill": {
     "duration": 0.046733,
     "end_time": "2022-02-20T12:12:44.466335",
     "exception": false,
     "start_time": "2022-02-20T12:12:44.419602",
     "status": "completed"
    },
    "tags": []
   },
   "outputs": [],
   "source": [
    "#hide\n",
    "# cols = ['name','group','day','value']"
   ]
  },
  {
   "cell_type": "code",
   "execution_count": 37,
   "id": "continued-sleeping",
   "metadata": {
    "execution": {
     "iopub.execute_input": "2022-02-20T12:12:44.551296Z",
     "iopub.status.busy": "2022-02-20T12:12:44.550672Z",
     "iopub.status.idle": "2022-02-20T12:12:44.554856Z",
     "shell.execute_reply": "2022-02-20T12:12:44.554268Z"
    },
    "papermill": {
     "duration": 0.049558,
     "end_time": "2022-02-20T12:12:44.554981",
     "exception": false,
     "start_time": "2022-02-20T12:12:44.505423",
     "status": "completed"
    },
    "tags": []
   },
   "outputs": [],
   "source": [
    "#hide\n",
    "# g.rename(columns= {'date':'day'},inplace = True)"
   ]
  },
  {
   "cell_type": "code",
   "execution_count": 38,
   "id": "major-fight",
   "metadata": {
    "execution": {
     "iopub.execute_input": "2022-02-20T12:12:44.630814Z",
     "iopub.status.busy": "2022-02-20T12:12:44.630198Z",
     "iopub.status.idle": "2022-02-20T12:12:44.632051Z",
     "shell.execute_reply": "2022-02-20T12:12:44.632505Z"
    },
    "papermill": {
     "duration": 0.041303,
     "end_time": "2022-02-20T12:12:44.632659",
     "exception": false,
     "start_time": "2022-02-20T12:12:44.591356",
     "status": "completed"
    },
    "tags": []
   },
   "outputs": [],
   "source": [
    "#hide\n",
    "# g = g[cols]"
   ]
  },
  {
   "cell_type": "code",
   "execution_count": 39,
   "id": "structured-mobile",
   "metadata": {
    "execution": {
     "iopub.execute_input": "2022-02-20T12:12:44.707916Z",
     "iopub.status.busy": "2022-02-20T12:12:44.707173Z",
     "iopub.status.idle": "2022-02-20T12:12:44.711008Z",
     "shell.execute_reply": "2022-02-20T12:12:44.711465Z"
    },
    "papermill": {
     "duration": 0.043729,
     "end_time": "2022-02-20T12:12:44.711619",
     "exception": false,
     "start_time": "2022-02-20T12:12:44.667890",
     "status": "completed"
    },
    "tags": []
   },
   "outputs": [],
   "source": [
    "# #hide\n",
    "# g = g[g.group.notna()]"
   ]
  },
  {
   "cell_type": "code",
   "execution_count": 40,
   "id": "determined-closing",
   "metadata": {
    "execution": {
     "iopub.execute_input": "2022-02-20T12:12:44.788000Z",
     "iopub.status.busy": "2022-02-20T12:12:44.786900Z",
     "iopub.status.idle": "2022-02-20T12:12:44.789119Z",
     "shell.execute_reply": "2022-02-20T12:12:44.789977Z"
    },
    "papermill": {
     "duration": 0.043015,
     "end_time": "2022-02-20T12:12:44.790214",
     "exception": false,
     "start_time": "2022-02-20T12:12:44.747199",
     "status": "completed"
    },
    "tags": []
   },
   "outputs": [],
   "source": [
    "# #hide\n",
    "# colors = dict(zip(\n",
    "#     [\"Oceania\", \"Europe\", \"Asia\", \"South America\", \"Middle East\", \"North America\", \"Africa\"],\n",
    "#     [\"#adb0ff\", \"#ffb3ff\", \"#90d595\", \"#e48381\", \"#aafbff\", \"#f7bb5f\", \"#eafb50\"]\n",
    "# ))\n",
    "# group_lk = g.set_index('name')['group'].to_dict()"
   ]
  },
  {
   "cell_type": "code",
   "execution_count": null,
   "id": "gross-drinking",
   "metadata": {
    "papermill": {
     "duration": 0.035637,
     "end_time": "2022-02-20T12:12:44.861528",
     "exception": false,
     "start_time": "2022-02-20T12:12:44.825891",
     "status": "completed"
    },
    "tags": []
   },
   "outputs": [],
   "source": []
  },
  {
   "cell_type": "code",
   "execution_count": 41,
   "id": "subject-macintosh",
   "metadata": {
    "execution": {
     "iopub.execute_input": "2022-02-20T12:12:44.937123Z",
     "iopub.status.busy": "2022-02-20T12:12:44.936454Z",
     "iopub.status.idle": "2022-02-20T12:12:44.940022Z",
     "shell.execute_reply": "2022-02-20T12:12:44.939490Z"
    },
    "papermill": {
     "duration": 0.043389,
     "end_time": "2022-02-20T12:12:44.940150",
     "exception": false,
     "start_time": "2022-02-20T12:12:44.896761",
     "status": "completed"
    },
    "tags": []
   },
   "outputs": [],
   "source": [
    "# #hide\n",
    "# fig, ax = plt.subplots(figsize=(15, 8))\n",
    "\n",
    "# def draw_barchart(current_day):\n",
    "#     dff = g[g['day'].eq(current_day)].sort_values(by='value', ascending=True).tail(10)\n",
    "#     ax.clear()\n",
    "#     ax.barh(dff['name'], dff['value'], color=[colors[group_lk[x]] for x in dff['name']])\n",
    "#     dx = dff['value'].max() / 200\n",
    "    \n",
    "#     for i, (value, name) in enumerate(zip(dff['value'], dff['name'])):\n",
    "#         ax.text(value-dx, i,     name,           size=14, weight=600, ha='right', va='bottom')\n",
    "#         ax.text(value-dx, i-.25, group_lk[name], size=10, color='#444444', ha='right', va='baseline')\n",
    "#         ax.text(value+dx, i,     f'{value:,.0f}',  size=14, ha='left',  va='center')\n",
    "#     ax.text(1, 0.4, current_day, transform=ax.transAxes, color='#777777', size=46, ha='right', weight=800)\n",
    "#     ax.text(0, 1.06, 'Population (thousands)', transform=ax.transAxes, size=12, color='#777777')\n",
    "#     ax.xaxis.set_major_formatter(ticker.StrMethodFormatter('{x:,.0f}'))\n",
    "#     ax.xaxis.set_ticks_position('top')\n",
    "#     ax.tick_params(axis='x', colors='#777777', labelsize=12)\n",
    "#     ax.set_yticks([])\n",
    "#     ax.margins(0, 0.01)\n",
    "#     ax.grid(which='major', axis='x', linestyle='-')\n",
    "#     ax.set_axisbelow(True)\n",
    "    \n",
    "#     ax.text(0, 1.15, 'Coronavirus',\n",
    "#             transform=ax.transAxes, size=24, weight=600, ha='left', va='top')\n",
    "# #     ax.text(1, 0, 'by @pratapvardhan; credit @jburnmurdoch', transform=ax.transAxes, color='#777777', ha='right',\n",
    "# #             bbox=dict(facecolor='white', alpha=0.8, edgecolor='white'))\n",
    "#     plt.box(False)"
   ]
  },
  {
   "cell_type": "code",
   "execution_count": 42,
   "id": "sexual-wages",
   "metadata": {
    "execution": {
     "iopub.execute_input": "2022-02-20T12:12:45.020178Z",
     "iopub.status.busy": "2022-02-20T12:12:45.019047Z",
     "iopub.status.idle": "2022-02-20T12:12:45.021952Z",
     "shell.execute_reply": "2022-02-20T12:12:45.022615Z"
    },
    "papermill": {
     "duration": 0.04578,
     "end_time": "2022-02-20T12:12:45.022769",
     "exception": false,
     "start_time": "2022-02-20T12:12:44.976989",
     "status": "completed"
    },
    "tags": []
   },
   "outputs": [],
   "source": [
    "# #hide_input\n",
    "# fig, ax = plt.subplots(figsize=(15, 8))\n",
    "# animator = animation.FuncAnimation(fig, draw_barchart, frames=range(g.day.values.min(), g.day.values.max()))\n",
    "# HTML(animator.to_jshtml())\n",
    "# # or use animator.to_html5_video() or animator.save() "
   ]
  },
  {
   "cell_type": "code",
   "execution_count": null,
   "id": "australian-container",
   "metadata": {
    "papermill": {
     "duration": 0.036522,
     "end_time": "2022-02-20T12:12:45.104889",
     "exception": false,
     "start_time": "2022-02-20T12:12:45.068367",
     "status": "completed"
    },
    "tags": []
   },
   "outputs": [],
   "source": []
  },
  {
   "cell_type": "code",
   "execution_count": null,
   "id": "mediterranean-pontiac",
   "metadata": {
    "papermill": {
     "duration": 0.038557,
     "end_time": "2022-02-20T12:12:45.180103",
     "exception": false,
     "start_time": "2022-02-20T12:12:45.141546",
     "status": "completed"
    },
    "tags": []
   },
   "outputs": [],
   "source": []
  },
  {
   "cell_type": "code",
   "execution_count": null,
   "id": "aging-legislature",
   "metadata": {
    "papermill": {
     "duration": 0.041526,
     "end_time": "2022-02-20T12:12:45.258356",
     "exception": false,
     "start_time": "2022-02-20T12:12:45.216830",
     "status": "completed"
    },
    "tags": []
   },
   "outputs": [],
   "source": []
  }
 ],
 "metadata": {
  "kernelspec": {
   "display_name": "Python 3",
   "language": "python",
   "name": "python3"
  },
  "language_info": {
   "codemirror_mode": {
    "name": "ipython",
    "version": 3
   },
   "file_extension": ".py",
   "mimetype": "text/x-python",
   "name": "python",
   "nbconvert_exporter": "python",
   "pygments_lexer": "ipython3",
   "version": "3.6.15"
  },
  "papermill": {
   "duration": 7.231179,
   "end_time": "2022-02-20T12:12:45.715712",
   "environment_variables": {},
   "exception": null,
   "input_path": "2020-03-21-covid19exp.ipynb",
   "output_path": "2020-03-21-covid19exp.ipynb",
   "parameters": {},
   "start_time": "2022-02-20T12:12:38.484533",
   "version": "2.0.0"
  }
 },
 "nbformat": 4,
 "nbformat_minor": 5
}