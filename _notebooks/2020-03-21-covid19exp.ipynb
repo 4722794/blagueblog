{
 "cells": [
  {
   "cell_type": "markdown",
   "id": "muslim-click",
   "metadata": {
    "papermill": {
     "duration": 0.039677,
     "end_time": "2021-02-16T00:10:57.359997",
     "exception": false,
     "start_time": "2021-02-16T00:10:57.320320",
     "status": "completed"
    },
    "tags": []
   },
   "source": [
    "# COVID-19 Case Race\n",
    "> A race chart to see rising cases around the world\n",
    "\n",
    "- author: Hargun Oberoi\n",
    "- image: images/covid-overview.png\n",
    "- hide: false\n",
    "- badges: false"
   ]
  },
  {
   "cell_type": "code",
   "execution_count": 1,
   "id": "proof-material",
   "metadata": {
    "execution": {
     "iopub.execute_input": "2021-02-16T00:10:57.438078Z",
     "iopub.status.busy": "2021-02-16T00:10:57.437437Z",
     "iopub.status.idle": "2021-02-16T00:10:57.784639Z",
     "shell.execute_reply": "2021-02-16T00:10:57.785405Z"
    },
    "papermill": {
     "duration": 0.390195,
     "end_time": "2021-02-16T00:10:57.785579",
     "exception": false,
     "start_time": "2021-02-16T00:10:57.395384",
     "status": "completed"
    },
    "tags": []
   },
   "outputs": [],
   "source": [
    "#hide\n",
    "import numpy as np\n",
    "import pandas as pd\n",
    "from jinja2 import Template\n",
    "from IPython.display import HTML"
   ]
  },
  {
   "cell_type": "code",
   "execution_count": 2,
   "id": "developed-terminology",
   "metadata": {
    "execution": {
     "iopub.execute_input": "2021-02-16T00:10:57.864942Z",
     "iopub.status.busy": "2021-02-16T00:10:57.864307Z",
     "iopub.status.idle": "2021-02-16T00:10:57.866888Z",
     "shell.execute_reply": "2021-02-16T00:10:57.867462Z"
    },
    "papermill": {
     "duration": 0.045368,
     "end_time": "2021-02-16T00:10:57.867607",
     "exception": false,
     "start_time": "2021-02-16T00:10:57.822239",
     "status": "completed"
    },
    "tags": []
   },
   "outputs": [],
   "source": [
    "#hide\n",
    "\n",
    "# FETCH\n",
    "base_url = 'https://raw.githubusercontent.com/pratapvardhan/notebooks/master/covid19/'\n",
    "paths = {\n",
    "    'mapping': base_url + 'mapping_countries.csv',\n",
    "    'overview': base_url + 'overview.tpl'\n",
    "}"
   ]
  },
  {
   "cell_type": "code",
   "execution_count": 3,
   "id": "dynamic-saver",
   "metadata": {
    "execution": {
     "iopub.execute_input": "2021-02-16T00:10:57.947275Z",
     "iopub.status.busy": "2021-02-16T00:10:57.946640Z",
     "iopub.status.idle": "2021-02-16T00:10:57.950305Z",
     "shell.execute_reply": "2021-02-16T00:10:57.950875Z"
    },
    "papermill": {
     "duration": 0.049493,
     "end_time": "2021-02-16T00:10:57.951045",
     "exception": false,
     "start_time": "2021-02-16T00:10:57.901552",
     "status": "completed"
    },
    "tags": []
   },
   "outputs": [
    {
     "data": {
      "text/plain": [
       "'https://raw.githubusercontent.com/pratapvardhan/notebooks/master/covid19/mapping_countries.csv'"
      ]
     },
     "execution_count": 3,
     "metadata": {},
     "output_type": "execute_result"
    }
   ],
   "source": [
    "#hide\n",
    "paths['mapping']"
   ]
  },
  {
   "cell_type": "code",
   "execution_count": 4,
   "id": "urban-software",
   "metadata": {
    "execution": {
     "iopub.execute_input": "2021-02-16T00:10:58.030001Z",
     "iopub.status.busy": "2021-02-16T00:10:58.029315Z",
     "iopub.status.idle": "2021-02-16T00:10:58.031640Z",
     "shell.execute_reply": "2021-02-16T00:10:58.031022Z"
    },
    "papermill": {
     "duration": 0.046191,
     "end_time": "2021-02-16T00:10:58.031774",
     "exception": false,
     "start_time": "2021-02-16T00:10:57.985583",
     "status": "completed"
    },
    "tags": []
   },
   "outputs": [],
   "source": [
    "#hide\n",
    "def get_mappings(url):\n",
    "    df = pd.read_csv(url)\n",
    "    return {\n",
    "        'df': df,\n",
    "        'replace.country': dict(df.dropna(subset=['Name']).set_index('Country')['Name']),\n",
    "        'map.continent': dict(df.set_index('Name')['Continent'])\n",
    "    }"
   ]
  },
  {
   "cell_type": "code",
   "execution_count": 5,
   "id": "intimate-machinery",
   "metadata": {
    "execution": {
     "iopub.execute_input": "2021-02-16T00:10:58.106000Z",
     "iopub.status.busy": "2021-02-16T00:10:58.105330Z",
     "iopub.status.idle": "2021-02-16T00:10:58.168811Z",
     "shell.execute_reply": "2021-02-16T00:10:58.167877Z"
    },
    "papermill": {
     "duration": 0.102932,
     "end_time": "2021-02-16T00:10:58.169050",
     "exception": false,
     "start_time": "2021-02-16T00:10:58.066118",
     "status": "completed"
    },
    "tags": []
   },
   "outputs": [],
   "source": [
    "#hide\n",
    "mapping = get_mappings(paths['mapping'])"
   ]
  },
  {
   "cell_type": "code",
   "execution_count": 6,
   "id": "certified-tactics",
   "metadata": {
    "execution": {
     "iopub.execute_input": "2021-02-16T00:10:58.244757Z",
     "iopub.status.busy": "2021-02-16T00:10:58.244039Z",
     "iopub.status.idle": "2021-02-16T00:10:58.245775Z",
     "shell.execute_reply": "2021-02-16T00:10:58.245296Z"
    },
    "papermill": {
     "duration": 0.04234,
     "end_time": "2021-02-16T00:10:58.245947",
     "exception": false,
     "start_time": "2021-02-16T00:10:58.203607",
     "status": "completed"
    },
    "tags": []
   },
   "outputs": [],
   "source": [
    "#hide\n",
    "def get_template(path):\n",
    "    from urllib.parse import urlparse\n",
    "    if bool(urlparse(path).netloc):\n",
    "        from urllib.request import urlopen\n",
    "        return urlopen(path).read().decode('utf8')\n",
    "    return open(path).read()"
   ]
  },
  {
   "cell_type": "code",
   "execution_count": 7,
   "id": "realistic-blast",
   "metadata": {
    "execution": {
     "iopub.execute_input": "2021-02-16T00:10:58.319473Z",
     "iopub.status.busy": "2021-02-16T00:10:58.318934Z",
     "iopub.status.idle": "2021-02-16T00:10:58.322736Z",
     "shell.execute_reply": "2021-02-16T00:10:58.322224Z"
    },
    "papermill": {
     "duration": 0.042647,
     "end_time": "2021-02-16T00:10:58.322855",
     "exception": false,
     "start_time": "2021-02-16T00:10:58.280208",
     "status": "completed"
    },
    "tags": []
   },
   "outputs": [],
   "source": [
    "#hide\n",
    "def get_frame(name):\n",
    "    url = (\n",
    "        'https://raw.githubusercontent.com/CSSEGISandData/COVID-19/master/csse_covid_19_data/'\n",
    "        f'csse_covid_19_time_series/time_series_covid19_{name}_global.csv')\n",
    "    df = pd.read_csv(url)\n",
    "    # rename countries\n",
    "    df['Country/Region'] = df['Country/Region'].replace(mapping['replace.country'])\n",
    "    return df"
   ]
  },
  {
   "cell_type": "code",
   "execution_count": 8,
   "id": "affiliated-characterization",
   "metadata": {
    "execution": {
     "iopub.execute_input": "2021-02-16T00:10:58.395253Z",
     "iopub.status.busy": "2021-02-16T00:10:58.394653Z",
     "iopub.status.idle": "2021-02-16T00:10:58.397329Z",
     "shell.execute_reply": "2021-02-16T00:10:58.396853Z"
    },
    "papermill": {
     "duration": 0.041769,
     "end_time": "2021-02-16T00:10:58.397453",
     "exception": false,
     "start_time": "2021-02-16T00:10:58.355684",
     "status": "completed"
    },
    "tags": []
   },
   "outputs": [],
   "source": [
    "#hide\n",
    "def get_dates(df):\n",
    "    dt_cols = df.columns[~df.columns.isin(['Province/State', 'Country/Region', 'Lat', 'Long'])]\n",
    "    LAST_DATE_I = -1\n",
    "    # sometimes last column may be empty, then go backwards\n",
    "    for i in range(-1, -len(dt_cols), -1):\n",
    "        if not df[dt_cols[i]].fillna(0).eq(0).all():\n",
    "            LAST_DATE_I = i\n",
    "            break\n",
    "    return LAST_DATE_I, dt_cols"
   ]
  },
  {
   "cell_type": "code",
   "execution_count": 9,
   "id": "recent-optimization",
   "metadata": {
    "execution": {
     "iopub.execute_input": "2021-02-16T00:10:58.470773Z",
     "iopub.status.busy": "2021-02-16T00:10:58.470174Z",
     "iopub.status.idle": "2021-02-16T00:10:58.888600Z",
     "shell.execute_reply": "2021-02-16T00:10:58.887847Z"
    },
    "papermill": {
     "duration": 0.457633,
     "end_time": "2021-02-16T00:10:58.888783",
     "exception": false,
     "start_time": "2021-02-16T00:10:58.431150",
     "status": "completed"
    },
    "tags": []
   },
   "outputs": [],
   "source": [
    "#hide\n",
    "COL_REGION = 'Country/Region'\n",
    "# Confirmed, Recovered, Deaths\n",
    "df = get_frame('confirmed')\n",
    "# dft_: timeseries, dfc_: today country agg\n",
    "dft_cases = df\n",
    "dft_deaths = get_frame('deaths')\n",
    "dft_recovered = get_frame('recovered')\n",
    "LAST_DATE_I, dt_cols = get_dates(df)"
   ]
  },
  {
   "cell_type": "code",
   "execution_count": 10,
   "id": "absolute-copper",
   "metadata": {
    "execution": {
     "iopub.execute_input": "2021-02-16T00:10:58.968331Z",
     "iopub.status.busy": "2021-02-16T00:10:58.967704Z",
     "iopub.status.idle": "2021-02-16T00:10:58.969551Z",
     "shell.execute_reply": "2021-02-16T00:10:58.970035Z"
    },
    "papermill": {
     "duration": 0.044113,
     "end_time": "2021-02-16T00:10:58.970184",
     "exception": false,
     "start_time": "2021-02-16T00:10:58.926071",
     "status": "completed"
    },
    "tags": []
   },
   "outputs": [],
   "source": [
    "#hide\n",
    "LAST_DATE_I, dt_cols = get_dates(df)\n",
    "dt_today =dt_cols[LAST_DATE_I]\n",
    "# dt_5day = dt_cols[LAST_DATE_I - 5]\n",
    "dt_yday = dt_cols[LAST_DATE_I - 1]"
   ]
  },
  {
   "cell_type": "code",
   "execution_count": 11,
   "id": "restricted-sheriff",
   "metadata": {
    "execution": {
     "iopub.execute_input": "2021-02-16T00:10:59.048023Z",
     "iopub.status.busy": "2021-02-16T00:10:59.047365Z",
     "iopub.status.idle": "2021-02-16T00:10:59.056838Z",
     "shell.execute_reply": "2021-02-16T00:10:59.056304Z"
    },
    "papermill": {
     "duration": 0.052698,
     "end_time": "2021-02-16T00:10:59.056978",
     "exception": false,
     "start_time": "2021-02-16T00:10:59.004280",
     "status": "completed"
    },
    "tags": []
   },
   "outputs": [],
   "source": [
    "#hide\n",
    "dfc_cases = dft_cases.groupby(COL_REGION)[dt_today].sum()\n",
    "dfc_deaths = dft_deaths.groupby(COL_REGION)[dt_today].sum()\n",
    "# dfp_cases = dft_cases.groupby(COL_REGION)[dt_5day].sum()\n",
    "# dfp_deaths = dft_deaths.groupby(COL_REGION)[dt_5day].sum()\n",
    "dfp_cases = dft_cases.groupby(COL_REGION)[dt_yday].sum()\n",
    "dfp_deaths = dft_deaths.groupby(COL_REGION)[dt_yday].sum()"
   ]
  },
  {
   "cell_type": "code",
   "execution_count": 12,
   "id": "deluxe-hepatitis",
   "metadata": {
    "execution": {
     "iopub.execute_input": "2021-02-16T00:10:59.138608Z",
     "iopub.status.busy": "2021-02-16T00:10:59.137989Z",
     "iopub.status.idle": "2021-02-16T00:10:59.142785Z",
     "shell.execute_reply": "2021-02-16T00:10:59.143360Z"
    },
    "papermill": {
     "duration": 0.052653,
     "end_time": "2021-02-16T00:10:59.143510",
     "exception": false,
     "start_time": "2021-02-16T00:10:59.090857",
     "status": "completed"
    },
    "tags": []
   },
   "outputs": [],
   "source": [
    "#hide\n",
    "df_table = (pd.DataFrame(dict(Cases = dfc_cases, Deaths = dfc_deaths, PCases = dfp_cases, PDeaths = dfp_deaths))\n",
    "            .sort_values(by = ['Cases','Deaths'], ascending = [False, False])\n",
    "            .reset_index())"
   ]
  },
  {
   "cell_type": "code",
   "execution_count": 13,
   "id": "educational-chancellor",
   "metadata": {
    "execution": {
     "iopub.execute_input": "2021-02-16T00:10:59.233224Z",
     "iopub.status.busy": "2021-02-16T00:10:59.232605Z",
     "iopub.status.idle": "2021-02-16T00:10:59.240851Z",
     "shell.execute_reply": "2021-02-16T00:10:59.240333Z"
    },
    "papermill": {
     "duration": 0.061865,
     "end_time": "2021-02-16T00:10:59.240978",
     "exception": false,
     "start_time": "2021-02-16T00:10:59.179113",
     "status": "completed"
    },
    "tags": []
   },
   "outputs": [
    {
     "data": {
      "text/html": [
       "<div>\n",
       "<style scoped>\n",
       "    .dataframe tbody tr th:only-of-type {\n",
       "        vertical-align: middle;\n",
       "    }\n",
       "\n",
       "    .dataframe tbody tr th {\n",
       "        vertical-align: top;\n",
       "    }\n",
       "\n",
       "    .dataframe thead th {\n",
       "        text-align: right;\n",
       "    }\n",
       "</style>\n",
       "<table border=\"1\" class=\"dataframe\">\n",
       "  <thead>\n",
       "    <tr style=\"text-align: right;\">\n",
       "      <th></th>\n",
       "      <th>Country/Region</th>\n",
       "      <th>Cases</th>\n",
       "      <th>Deaths</th>\n",
       "      <th>PCases</th>\n",
       "      <th>PDeaths</th>\n",
       "      <th>Cases (+)</th>\n",
       "      <th>Deaths (+)</th>\n",
       "      <th>Fatality Rate</th>\n",
       "      <th>Continent</th>\n",
       "    </tr>\n",
       "  </thead>\n",
       "  <tbody>\n",
       "    <tr>\n",
       "      <th>0</th>\n",
       "      <td>US</td>\n",
       "      <td>27640282</td>\n",
       "      <td>485336</td>\n",
       "      <td>27575344</td>\n",
       "      <td>484248</td>\n",
       "      <td>64938</td>\n",
       "      <td>1088</td>\n",
       "      <td>1.76</td>\n",
       "      <td>North America</td>\n",
       "    </tr>\n",
       "    <tr>\n",
       "      <th>1</th>\n",
       "      <td>India</td>\n",
       "      <td>10916589</td>\n",
       "      <td>155732</td>\n",
       "      <td>10904940</td>\n",
       "      <td>155642</td>\n",
       "      <td>11649</td>\n",
       "      <td>90</td>\n",
       "      <td>1.43</td>\n",
       "      <td>Asia</td>\n",
       "    </tr>\n",
       "    <tr>\n",
       "      <th>2</th>\n",
       "      <td>Brazil</td>\n",
       "      <td>9834513</td>\n",
       "      <td>239245</td>\n",
       "      <td>9809754</td>\n",
       "      <td>238532</td>\n",
       "      <td>24759</td>\n",
       "      <td>713</td>\n",
       "      <td>2.43</td>\n",
       "      <td>South America</td>\n",
       "    </tr>\n",
       "    <tr>\n",
       "      <th>3</th>\n",
       "      <td>United Kingdom</td>\n",
       "      <td>4049920</td>\n",
       "      <td>117387</td>\n",
       "      <td>4038929</td>\n",
       "      <td>117128</td>\n",
       "      <td>10991</td>\n",
       "      <td>259</td>\n",
       "      <td>2.90</td>\n",
       "      <td>Europe</td>\n",
       "    </tr>\n",
       "    <tr>\n",
       "      <th>4</th>\n",
       "      <td>Russia</td>\n",
       "      <td>4026506</td>\n",
       "      <td>78825</td>\n",
       "      <td>4012538</td>\n",
       "      <td>78403</td>\n",
       "      <td>13968</td>\n",
       "      <td>422</td>\n",
       "      <td>1.96</td>\n",
       "      <td>Europe</td>\n",
       "    </tr>\n",
       "  </tbody>\n",
       "</table>\n",
       "</div>"
      ],
      "text/plain": [
       "   Country/Region     Cases  Deaths    PCases  PDeaths  Cases (+)  Deaths (+)  \\\n",
       "0              US  27640282  485336  27575344   484248      64938        1088   \n",
       "1           India  10916589  155732  10904940   155642      11649          90   \n",
       "2          Brazil   9834513  239245   9809754   238532      24759         713   \n",
       "3  United Kingdom   4049920  117387   4038929   117128      10991         259   \n",
       "4          Russia   4026506   78825   4012538    78403      13968         422   \n",
       "\n",
       "   Fatality Rate      Continent  \n",
       "0           1.76  North America  \n",
       "1           1.43           Asia  \n",
       "2           2.43  South America  \n",
       "3           2.90         Europe  \n",
       "4           1.96         Europe  "
      ]
     },
     "execution_count": 13,
     "metadata": {},
     "output_type": "execute_result"
    }
   ],
   "source": [
    "#hide\n",
    "for c in 'Cases, Deaths'.split(', '):\n",
    "    df_table[f'{c} (+)'] = (df_table[c] - df_table[f'P{c}']).clip(0)\n",
    "    #Clip ça veut dire, les chiffres negatif sont interdit\n",
    "df_table['Fatality Rate'] = (100* df_table['Deaths']/ df_table['Cases']).round(2)\n",
    "df_table['Continent'] = df_table['Country/Region'].map(mapping['map.continent'])\n",
    "df_table.head(5)"
   ]
  },
  {
   "cell_type": "code",
   "execution_count": 14,
   "id": "aboriginal-bulgaria",
   "metadata": {
    "execution": {
     "iopub.execute_input": "2021-02-16T00:10:59.315624Z",
     "iopub.status.busy": "2021-02-16T00:10:59.315033Z",
     "iopub.status.idle": "2021-02-16T00:10:59.317729Z",
     "shell.execute_reply": "2021-02-16T00:10:59.317233Z"
    },
    "papermill": {
     "duration": 0.0426,
     "end_time": "2021-02-16T00:10:59.317877",
     "exception": false,
     "start_time": "2021-02-16T00:10:59.275277",
     "status": "completed"
    },
    "tags": []
   },
   "outputs": [],
   "source": [
    "#hide\n",
    "#delete problematic countries from table\n",
    "df_table = df_table[~df_table['Country/Region'].isin(['Cape Verde', 'Cruise Ship', 'Kosovo'])]"
   ]
  },
  {
   "cell_type": "code",
   "execution_count": 15,
   "id": "fantastic-effect",
   "metadata": {
    "execution": {
     "iopub.execute_input": "2021-02-16T00:10:59.397365Z",
     "iopub.status.busy": "2021-02-16T00:10:59.396744Z",
     "iopub.status.idle": "2021-02-16T00:10:59.416752Z",
     "shell.execute_reply": "2021-02-16T00:10:59.417226Z"
    },
    "papermill": {
     "duration": 0.064354,
     "end_time": "2021-02-16T00:10:59.417369",
     "exception": false,
     "start_time": "2021-02-16T00:10:59.353015",
     "status": "completed"
    },
    "tags": []
   },
   "outputs": [
    {
     "data": {
      "text/html": [
       "<div>\n",
       "<style scoped>\n",
       "    .dataframe tbody tr th:only-of-type {\n",
       "        vertical-align: middle;\n",
       "    }\n",
       "\n",
       "    .dataframe tbody tr th {\n",
       "        vertical-align: top;\n",
       "    }\n",
       "\n",
       "    .dataframe thead th {\n",
       "        text-align: right;\n",
       "    }\n",
       "</style>\n",
       "<table border=\"1\" class=\"dataframe\">\n",
       "  <thead>\n",
       "    <tr style=\"text-align: right;\">\n",
       "      <th></th>\n",
       "      <th>Country/Region</th>\n",
       "      <th>Cases</th>\n",
       "      <th>Deaths</th>\n",
       "      <th>PCases</th>\n",
       "      <th>PDeaths</th>\n",
       "      <th>Cases (+)</th>\n",
       "      <th>Deaths (+)</th>\n",
       "      <th>Fatality Rate</th>\n",
       "      <th>Continent</th>\n",
       "    </tr>\n",
       "  </thead>\n",
       "  <tbody>\n",
       "    <tr>\n",
       "      <th>0</th>\n",
       "      <td>US</td>\n",
       "      <td>27640282</td>\n",
       "      <td>485336</td>\n",
       "      <td>27575344</td>\n",
       "      <td>484248</td>\n",
       "      <td>64938</td>\n",
       "      <td>1088</td>\n",
       "      <td>1.8</td>\n",
       "      <td>North America</td>\n",
       "    </tr>\n",
       "    <tr>\n",
       "      <th>1</th>\n",
       "      <td>India</td>\n",
       "      <td>10916589</td>\n",
       "      <td>155732</td>\n",
       "      <td>10904940</td>\n",
       "      <td>155642</td>\n",
       "      <td>11649</td>\n",
       "      <td>90</td>\n",
       "      <td>1.4</td>\n",
       "      <td>Asia</td>\n",
       "    </tr>\n",
       "    <tr>\n",
       "      <th>2</th>\n",
       "      <td>Brazil</td>\n",
       "      <td>9834513</td>\n",
       "      <td>239245</td>\n",
       "      <td>9809754</td>\n",
       "      <td>238532</td>\n",
       "      <td>24759</td>\n",
       "      <td>713</td>\n",
       "      <td>2.4</td>\n",
       "      <td>South America</td>\n",
       "    </tr>\n",
       "    <tr>\n",
       "      <th>3</th>\n",
       "      <td>United Kingdom</td>\n",
       "      <td>4049920</td>\n",
       "      <td>117387</td>\n",
       "      <td>4038929</td>\n",
       "      <td>117128</td>\n",
       "      <td>10991</td>\n",
       "      <td>259</td>\n",
       "      <td>2.9</td>\n",
       "      <td>Europe</td>\n",
       "    </tr>\n",
       "    <tr>\n",
       "      <th>4</th>\n",
       "      <td>Russia</td>\n",
       "      <td>4026506</td>\n",
       "      <td>78825</td>\n",
       "      <td>4012538</td>\n",
       "      <td>78403</td>\n",
       "      <td>13968</td>\n",
       "      <td>422</td>\n",
       "      <td>2.0</td>\n",
       "      <td>Europe</td>\n",
       "    </tr>\n",
       "  </tbody>\n",
       "</table>\n",
       "</div>"
      ],
      "text/plain": [
       "   Country/Region     Cases  Deaths    PCases  PDeaths  Cases (+)  Deaths (+)  \\\n",
       "0              US  27640282  485336  27575344   484248      64938        1088   \n",
       "1           India  10916589  155732  10904940   155642      11649          90   \n",
       "2          Brazil   9834513  239245   9809754   238532      24759         713   \n",
       "3  United Kingdom   4049920  117387   4038929   117128      10991         259   \n",
       "4          Russia   4026506   78825   4012538    78403      13968         422   \n",
       "\n",
       "   Fatality Rate      Continent  \n",
       "0            1.8  North America  \n",
       "1            1.4           Asia  \n",
       "2            2.4  South America  \n",
       "3            2.9         Europe  \n",
       "4            2.0         Europe  "
      ]
     },
     "execution_count": 15,
     "metadata": {},
     "output_type": "execute_result"
    }
   ],
   "source": [
    "#hide\n",
    "df_table = (pd.DataFrame(dict(Cases=dfc_cases, Deaths=dfc_deaths, PCases=dfp_cases, PDeaths=dfp_deaths))\n",
    "             .sort_values(by=['Cases', 'Deaths'], ascending=[False, False])\n",
    "             .reset_index())\n",
    "df_table.rename(columns={'index': 'Country/Region'}, inplace=True)\n",
    "for c in 'Cases, Deaths'.split(', '):\n",
    "    df_table[f'{c} (+)'] = (df_table[c] - df_table[f'P{c}']).clip(0)  # DATA BUG\n",
    "df_table['Fatality Rate'] = (100 * df_table['Deaths'] / df_table['Cases']).round(1)\n",
    "df_table['Continent'] = df_table['Country/Region'].map(mapping['map.continent'])\n",
    "df_table.head(5)"
   ]
  },
  {
   "cell_type": "code",
   "execution_count": 16,
   "id": "fewer-occasion",
   "metadata": {
    "execution": {
     "iopub.execute_input": "2021-02-16T00:10:59.502029Z",
     "iopub.status.busy": "2021-02-16T00:10:59.501410Z",
     "iopub.status.idle": "2021-02-16T00:10:59.504183Z",
     "shell.execute_reply": "2021-02-16T00:10:59.504911Z"
    },
    "papermill": {
     "duration": 0.046517,
     "end_time": "2021-02-16T00:10:59.505077",
     "exception": false,
     "start_time": "2021-02-16T00:10:59.458560",
     "status": "completed"
    },
    "tags": []
   },
   "outputs": [],
   "source": [
    "#hide\n",
    "#delete problematic countries from table\n",
    "df_table = df_table[~df_table['Country/Region'].isin(['Cape Verde', 'Cruise Ship', 'Kosovo'])]"
   ]
  },
  {
   "cell_type": "code",
   "execution_count": 17,
   "id": "related-center",
   "metadata": {
    "execution": {
     "iopub.execute_input": "2021-02-16T00:10:59.591084Z",
     "iopub.status.busy": "2021-02-16T00:10:59.590405Z",
     "iopub.status.idle": "2021-02-16T00:10:59.601759Z",
     "shell.execute_reply": "2021-02-16T00:10:59.600958Z"
    },
    "papermill": {
     "duration": 0.060435,
     "end_time": "2021-02-16T00:10:59.601916",
     "exception": false,
     "start_time": "2021-02-16T00:10:59.541481",
     "status": "completed"
    },
    "tags": []
   },
   "outputs": [],
   "source": [
    "#hide\n",
    "metrics = [df_table.columns[index] for index in [1,2,5,6]]\n",
    "# s_china = df_table[df_table['Country/Region'].eq('China')][metrics].sum().add_prefix('China ')\n",
    "s_us = df_table[df_table['Country/Region'].eq('US')][metrics].sum().add_prefix('US ')\n",
    "s_eu = df_table[df_table['Continent'].eq('Europe')][metrics].sum().add_prefix('EU ')\n",
    "s_ind = df_table[df_table['Country/Region'].eq('India')][metrics].sum().add_prefix('India ')\n",
    "summary = {'updated': pd.to_datetime(dt_today), 'since': pd.to_datetime(dt_yday)}\n",
    "summary = {'updated': pd.to_datetime(dt_today), 'since': pd.to_datetime(dt_yday)}\n",
    "summary = {**summary, **df_table[metrics].sum(), **s_ind, **s_us, **s_eu}"
   ]
  },
  {
   "cell_type": "code",
   "execution_count": 18,
   "id": "engaging-syndrome",
   "metadata": {
    "execution": {
     "iopub.execute_input": "2021-02-16T00:10:59.686390Z",
     "iopub.status.busy": "2021-02-16T00:10:59.685737Z",
     "iopub.status.idle": "2021-02-16T00:10:59.696623Z",
     "shell.execute_reply": "2021-02-16T00:10:59.696124Z"
    },
    "papermill": {
     "duration": 0.055023,
     "end_time": "2021-02-16T00:10:59.696752",
     "exception": false,
     "start_time": "2021-02-16T00:10:59.641729",
     "status": "completed"
    },
    "tags": []
   },
   "outputs": [],
   "source": [
    "#hide\n",
    "dft_ct_new_cases = dft_cases.groupby(COL_REGION)[dt_cols].sum().diff(axis=1).fillna(0).astype(int)"
   ]
  },
  {
   "cell_type": "code",
   "execution_count": 19,
   "id": "neutral-assignment",
   "metadata": {
    "execution": {
     "iopub.execute_input": "2021-02-16T00:10:59.778357Z",
     "iopub.status.busy": "2021-02-16T00:10:59.777172Z",
     "iopub.status.idle": "2021-02-16T00:10:59.779511Z",
     "shell.execute_reply": "2021-02-16T00:10:59.780140Z"
    },
    "papermill": {
     "duration": 0.048133,
     "end_time": "2021-02-16T00:10:59.780311",
     "exception": false,
     "start_time": "2021-02-16T00:10:59.732178",
     "status": "completed"
    },
    "tags": []
   },
   "outputs": [],
   "source": [
    "#hide\n",
    "everydaycases = dft_ct_new_cases.cumsum(axis=1)"
   ]
  },
  {
   "cell_type": "code",
   "execution_count": 20,
   "id": "parliamentary-calgary",
   "metadata": {
    "execution": {
     "iopub.execute_input": "2021-02-16T00:10:59.862370Z",
     "iopub.status.busy": "2021-02-16T00:10:59.861146Z",
     "iopub.status.idle": "2021-02-16T00:11:00.604812Z",
     "shell.execute_reply": "2021-02-16T00:11:00.604251Z"
    },
    "papermill": {
     "duration": 0.789254,
     "end_time": "2021-02-16T00:11:00.604943",
     "exception": false,
     "start_time": "2021-02-16T00:10:59.815689",
     "status": "completed"
    },
    "tags": []
   },
   "outputs": [],
   "source": [
    "#hide\n",
    "import pandas as pd\n",
    "import matplotlib.pyplot as plt\n",
    "import matplotlib.ticker as ticker\n",
    "import matplotlib.animation as animation\n",
    "from IPython.display import HTML"
   ]
  },
  {
   "cell_type": "code",
   "execution_count": 21,
   "id": "lasting-extraction",
   "metadata": {
    "execution": {
     "iopub.execute_input": "2021-02-16T00:11:00.680269Z",
     "iopub.status.busy": "2021-02-16T00:11:00.679670Z",
     "iopub.status.idle": "2021-02-16T00:11:00.684988Z",
     "shell.execute_reply": "2021-02-16T00:11:00.685466Z"
    },
    "papermill": {
     "duration": 0.046105,
     "end_time": "2021-02-16T00:11:00.685626",
     "exception": false,
     "start_time": "2021-02-16T00:11:00.639521",
     "status": "completed"
    },
    "tags": []
   },
   "outputs": [],
   "source": [
    "#hide\n",
    "t = everydaycases.stack()"
   ]
  },
  {
   "cell_type": "code",
   "execution_count": 22,
   "id": "premier-sleeve",
   "metadata": {
    "execution": {
     "iopub.execute_input": "2021-02-16T00:11:00.761355Z",
     "iopub.status.busy": "2021-02-16T00:11:00.760699Z",
     "iopub.status.idle": "2021-02-16T00:11:00.769788Z",
     "shell.execute_reply": "2021-02-16T00:11:00.769250Z"
    },
    "papermill": {
     "duration": 0.049325,
     "end_time": "2021-02-16T00:11:00.769941",
     "exception": false,
     "start_time": "2021-02-16T00:11:00.720616",
     "status": "completed"
    },
    "tags": []
   },
   "outputs": [],
   "source": [
    "#hide\n",
    "g = t.reset_index(['Country/Region'])"
   ]
  },
  {
   "cell_type": "code",
   "execution_count": 23,
   "id": "distributed-pittsburgh",
   "metadata": {
    "execution": {
     "iopub.execute_input": "2021-02-16T00:11:00.847006Z",
     "iopub.status.busy": "2021-02-16T00:11:00.846102Z",
     "iopub.status.idle": "2021-02-16T00:11:00.849313Z",
     "shell.execute_reply": "2021-02-16T00:11:00.848777Z"
    },
    "papermill": {
     "duration": 0.044302,
     "end_time": "2021-02-16T00:11:00.849464",
     "exception": false,
     "start_time": "2021-02-16T00:11:00.805162",
     "status": "completed"
    },
    "tags": []
   },
   "outputs": [],
   "source": [
    "#hide\n",
    "g.index.name = 'date'"
   ]
  },
  {
   "cell_type": "code",
   "execution_count": 24,
   "id": "naked-donor",
   "metadata": {
    "execution": {
     "iopub.execute_input": "2021-02-16T00:11:00.934878Z",
     "iopub.status.busy": "2021-02-16T00:11:00.934257Z",
     "iopub.status.idle": "2021-02-16T00:11:00.936543Z",
     "shell.execute_reply": "2021-02-16T00:11:00.936022Z"
    },
    "papermill": {
     "duration": 0.044472,
     "end_time": "2021-02-16T00:11:00.936664",
     "exception": false,
     "start_time": "2021-02-16T00:11:00.892192",
     "status": "completed"
    },
    "tags": []
   },
   "outputs": [],
   "source": [
    "# #hide\n",
    "# g = g.reset_index(['date'])"
   ]
  },
  {
   "cell_type": "code",
   "execution_count": 25,
   "id": "incomplete-mustang",
   "metadata": {
    "execution": {
     "iopub.execute_input": "2021-02-16T00:11:01.017830Z",
     "iopub.status.busy": "2021-02-16T00:11:01.017184Z",
     "iopub.status.idle": "2021-02-16T00:11:01.020365Z",
     "shell.execute_reply": "2021-02-16T00:11:01.019826Z"
    },
    "papermill": {
     "duration": 0.048438,
     "end_time": "2021-02-16T00:11:01.020494",
     "exception": false,
     "start_time": "2021-02-16T00:11:00.972056",
     "status": "completed"
    },
    "tags": []
   },
   "outputs": [],
   "source": [
    "#hide\n",
    "# g.head()"
   ]
  },
  {
   "cell_type": "code",
   "execution_count": 26,
   "id": "specific-kruger",
   "metadata": {
    "execution": {
     "iopub.execute_input": "2021-02-16T00:11:01.094538Z",
     "iopub.status.busy": "2021-02-16T00:11:01.093898Z",
     "iopub.status.idle": "2021-02-16T00:11:01.096345Z",
     "shell.execute_reply": "2021-02-16T00:11:01.095815Z"
    },
    "papermill": {
     "duration": 0.040921,
     "end_time": "2021-02-16T00:11:01.096476",
     "exception": false,
     "start_time": "2021-02-16T00:11:01.055555",
     "status": "completed"
    },
    "tags": []
   },
   "outputs": [],
   "source": [
    "#hide\n",
    "# g.columns = ['date','country','cases']"
   ]
  },
  {
   "cell_type": "code",
   "execution_count": 27,
   "id": "tender-conversion",
   "metadata": {
    "execution": {
     "iopub.execute_input": "2021-02-16T00:11:01.170760Z",
     "iopub.status.busy": "2021-02-16T00:11:01.170149Z",
     "iopub.status.idle": "2021-02-16T00:11:01.172338Z",
     "shell.execute_reply": "2021-02-16T00:11:01.172907Z"
    },
    "papermill": {
     "duration": 0.041781,
     "end_time": "2021-02-16T00:11:01.173047",
     "exception": false,
     "start_time": "2021-02-16T00:11:01.131266",
     "status": "completed"
    },
    "tags": []
   },
   "outputs": [],
   "source": [
    "#hide\n",
    "# g['continent'] = g.country"
   ]
  },
  {
   "cell_type": "code",
   "execution_count": 28,
   "id": "substantial-wilderness",
   "metadata": {
    "execution": {
     "iopub.execute_input": "2021-02-16T00:11:01.246934Z",
     "iopub.status.busy": "2021-02-16T00:11:01.246341Z",
     "iopub.status.idle": "2021-02-16T00:11:01.248137Z",
     "shell.execute_reply": "2021-02-16T00:11:01.248586Z"
    },
    "papermill": {
     "duration": 0.040548,
     "end_time": "2021-02-16T00:11:01.248729",
     "exception": false,
     "start_time": "2021-02-16T00:11:01.208181",
     "status": "completed"
    },
    "tags": []
   },
   "outputs": [],
   "source": [
    "#hide\n",
    "# cols = list(g.columns.values)"
   ]
  },
  {
   "cell_type": "code",
   "execution_count": 29,
   "id": "solved-farming",
   "metadata": {
    "execution": {
     "iopub.execute_input": "2021-02-16T00:11:01.320092Z",
     "iopub.status.busy": "2021-02-16T00:11:01.319497Z",
     "iopub.status.idle": "2021-02-16T00:11:01.321745Z",
     "shell.execute_reply": "2021-02-16T00:11:01.321243Z"
    },
    "papermill": {
     "duration": 0.038641,
     "end_time": "2021-02-16T00:11:01.321887",
     "exception": false,
     "start_time": "2021-02-16T00:11:01.283246",
     "status": "completed"
    },
    "tags": []
   },
   "outputs": [],
   "source": [
    "#hide\n",
    "# cols.insert(0, cols.pop())"
   ]
  },
  {
   "cell_type": "code",
   "execution_count": 30,
   "id": "executed-adoption",
   "metadata": {
    "execution": {
     "iopub.execute_input": "2021-02-16T00:11:01.395320Z",
     "iopub.status.busy": "2021-02-16T00:11:01.394687Z",
     "iopub.status.idle": "2021-02-16T00:11:01.396676Z",
     "shell.execute_reply": "2021-02-16T00:11:01.397122Z"
    },
    "papermill": {
     "duration": 0.040904,
     "end_time": "2021-02-16T00:11:01.397300",
     "exception": false,
     "start_time": "2021-02-16T00:11:01.356396",
     "status": "completed"
    },
    "tags": []
   },
   "outputs": [],
   "source": [
    "#hide\n",
    "# g = g[cols]"
   ]
  },
  {
   "cell_type": "code",
   "execution_count": 31,
   "id": "subject-dublin",
   "metadata": {
    "execution": {
     "iopub.execute_input": "2021-02-16T00:11:01.472747Z",
     "iopub.status.busy": "2021-02-16T00:11:01.472125Z",
     "iopub.status.idle": "2021-02-16T00:11:01.474440Z",
     "shell.execute_reply": "2021-02-16T00:11:01.473934Z"
    },
    "papermill": {
     "duration": 0.041142,
     "end_time": "2021-02-16T00:11:01.474564",
     "exception": false,
     "start_time": "2021-02-16T00:11:01.433422",
     "status": "completed"
    },
    "tags": []
   },
   "outputs": [],
   "source": [
    "#hide\n",
    "# g['continent'] = g['continent'].map(mapping['map.continent'])"
   ]
  },
  {
   "cell_type": "code",
   "execution_count": 32,
   "id": "freelance-scout",
   "metadata": {
    "execution": {
     "iopub.execute_input": "2021-02-16T00:11:01.551026Z",
     "iopub.status.busy": "2021-02-16T00:11:01.550435Z",
     "iopub.status.idle": "2021-02-16T00:11:01.552716Z",
     "shell.execute_reply": "2021-02-16T00:11:01.552243Z"
    },
    "papermill": {
     "duration": 0.042923,
     "end_time": "2021-02-16T00:11:01.552863",
     "exception": false,
     "start_time": "2021-02-16T00:11:01.509940",
     "status": "completed"
    },
    "tags": []
   },
   "outputs": [],
   "source": [
    "#hide\n",
    "# g.head()"
   ]
  },
  {
   "cell_type": "code",
   "execution_count": 33,
   "id": "limited-engine",
   "metadata": {
    "execution": {
     "iopub.execute_input": "2021-02-16T00:11:01.629409Z",
     "iopub.status.busy": "2021-02-16T00:11:01.628789Z",
     "iopub.status.idle": "2021-02-16T00:11:01.631033Z",
     "shell.execute_reply": "2021-02-16T00:11:01.630432Z"
    },
    "papermill": {
     "duration": 0.042633,
     "end_time": "2021-02-16T00:11:01.631158",
     "exception": false,
     "start_time": "2021-02-16T00:11:01.588525",
     "status": "completed"
    },
    "tags": []
   },
   "outputs": [],
   "source": [
    "# hide\n",
    "# g['date'] = g['date'].astype('datetime64[ns]')"
   ]
  },
  {
   "cell_type": "code",
   "execution_count": 34,
   "id": "sophisticated-supervisor",
   "metadata": {
    "execution": {
     "iopub.execute_input": "2021-02-16T00:11:01.709484Z",
     "iopub.status.busy": "2021-02-16T00:11:01.708639Z",
     "iopub.status.idle": "2021-02-16T00:11:01.710392Z",
     "shell.execute_reply": "2021-02-16T00:11:01.710947Z"
    },
    "papermill": {
     "duration": 0.043004,
     "end_time": "2021-02-16T00:11:01.711106",
     "exception": false,
     "start_time": "2021-02-16T00:11:01.668102",
     "status": "completed"
    },
    "tags": []
   },
   "outputs": [],
   "source": [
    "#hide\n",
    "# g['date'] = g.date.dt.dayofyear"
   ]
  },
  {
   "cell_type": "code",
   "execution_count": 35,
   "id": "inside-dubai",
   "metadata": {
    "execution": {
     "iopub.execute_input": "2021-02-16T00:11:01.783426Z",
     "iopub.status.busy": "2021-02-16T00:11:01.782751Z",
     "iopub.status.idle": "2021-02-16T00:11:01.784679Z",
     "shell.execute_reply": "2021-02-16T00:11:01.785157Z"
    },
    "papermill": {
     "duration": 0.039744,
     "end_time": "2021-02-16T00:11:01.785299",
     "exception": false,
     "start_time": "2021-02-16T00:11:01.745555",
     "status": "completed"
    },
    "tags": []
   },
   "outputs": [],
   "source": [
    "#hide\n",
    "# g = g.rename(columns= {'continent':'group','country':'name','cases':'value'})"
   ]
  },
  {
   "cell_type": "code",
   "execution_count": 36,
   "id": "fleet-motorcycle",
   "metadata": {
    "execution": {
     "iopub.execute_input": "2021-02-16T00:11:01.862600Z",
     "iopub.status.busy": "2021-02-16T00:11:01.861701Z",
     "iopub.status.idle": "2021-02-16T00:11:01.865927Z",
     "shell.execute_reply": "2021-02-16T00:11:01.865176Z"
    },
    "papermill": {
     "duration": 0.045378,
     "end_time": "2021-02-16T00:11:01.866204",
     "exception": false,
     "start_time": "2021-02-16T00:11:01.820826",
     "status": "completed"
    },
    "tags": []
   },
   "outputs": [],
   "source": [
    "#hide\n",
    "# cols = ['name','group','day','value']"
   ]
  },
  {
   "cell_type": "code",
   "execution_count": 37,
   "id": "continued-sleeping",
   "metadata": {
    "execution": {
     "iopub.execute_input": "2021-02-16T00:11:01.947510Z",
     "iopub.status.busy": "2021-02-16T00:11:01.946756Z",
     "iopub.status.idle": "2021-02-16T00:11:01.948266Z",
     "shell.execute_reply": "2021-02-16T00:11:01.948914Z"
    },
    "papermill": {
     "duration": 0.04192,
     "end_time": "2021-02-16T00:11:01.949075",
     "exception": false,
     "start_time": "2021-02-16T00:11:01.907155",
     "status": "completed"
    },
    "tags": []
   },
   "outputs": [],
   "source": [
    "#hide\n",
    "# g.rename(columns= {'date':'day'},inplace = True)"
   ]
  },
  {
   "cell_type": "code",
   "execution_count": 38,
   "id": "major-fight",
   "metadata": {
    "execution": {
     "iopub.execute_input": "2021-02-16T00:11:02.023481Z",
     "iopub.status.busy": "2021-02-16T00:11:02.022813Z",
     "iopub.status.idle": "2021-02-16T00:11:02.024714Z",
     "shell.execute_reply": "2021-02-16T00:11:02.025213Z"
    },
    "papermill": {
     "duration": 0.040595,
     "end_time": "2021-02-16T00:11:02.025355",
     "exception": false,
     "start_time": "2021-02-16T00:11:01.984760",
     "status": "completed"
    },
    "tags": []
   },
   "outputs": [],
   "source": [
    "#hide\n",
    "# g = g[cols]"
   ]
  },
  {
   "cell_type": "code",
   "execution_count": 39,
   "id": "structured-mobile",
   "metadata": {
    "execution": {
     "iopub.execute_input": "2021-02-16T00:11:02.099213Z",
     "iopub.status.busy": "2021-02-16T00:11:02.098566Z",
     "iopub.status.idle": "2021-02-16T00:11:02.100846Z",
     "shell.execute_reply": "2021-02-16T00:11:02.100235Z"
    },
    "papermill": {
     "duration": 0.04102,
     "end_time": "2021-02-16T00:11:02.100975",
     "exception": false,
     "start_time": "2021-02-16T00:11:02.059955",
     "status": "completed"
    },
    "tags": []
   },
   "outputs": [],
   "source": [
    "# #hide\n",
    "# g = g[g.group.notna()]"
   ]
  },
  {
   "cell_type": "code",
   "execution_count": 40,
   "id": "determined-closing",
   "metadata": {
    "execution": {
     "iopub.execute_input": "2021-02-16T00:11:02.176608Z",
     "iopub.status.busy": "2021-02-16T00:11:02.175936Z",
     "iopub.status.idle": "2021-02-16T00:11:02.178610Z",
     "shell.execute_reply": "2021-02-16T00:11:02.178122Z"
    },
    "papermill": {
     "duration": 0.04244,
     "end_time": "2021-02-16T00:11:02.178745",
     "exception": false,
     "start_time": "2021-02-16T00:11:02.136305",
     "status": "completed"
    },
    "tags": []
   },
   "outputs": [],
   "source": [
    "# #hide\n",
    "# colors = dict(zip(\n",
    "#     [\"Oceania\", \"Europe\", \"Asia\", \"South America\", \"Middle East\", \"North America\", \"Africa\"],\n",
    "#     [\"#adb0ff\", \"#ffb3ff\", \"#90d595\", \"#e48381\", \"#aafbff\", \"#f7bb5f\", \"#eafb50\"]\n",
    "# ))\n",
    "# group_lk = g.set_index('name')['group'].to_dict()"
   ]
  },
  {
   "cell_type": "code",
   "execution_count": null,
   "id": "gross-drinking",
   "metadata": {
    "papermill": {
     "duration": 0.035234,
     "end_time": "2021-02-16T00:11:02.248750",
     "exception": false,
     "start_time": "2021-02-16T00:11:02.213516",
     "status": "completed"
    },
    "tags": []
   },
   "outputs": [],
   "source": []
  },
  {
   "cell_type": "code",
   "execution_count": 41,
   "id": "subject-macintosh",
   "metadata": {
    "execution": {
     "iopub.execute_input": "2021-02-16T00:11:02.324493Z",
     "iopub.status.busy": "2021-02-16T00:11:02.323878Z",
     "iopub.status.idle": "2021-02-16T00:11:02.325712Z",
     "shell.execute_reply": "2021-02-16T00:11:02.326199Z"
    },
    "papermill": {
     "duration": 0.042585,
     "end_time": "2021-02-16T00:11:02.326347",
     "exception": false,
     "start_time": "2021-02-16T00:11:02.283762",
     "status": "completed"
    },
    "tags": []
   },
   "outputs": [],
   "source": [
    "# #hide\n",
    "# fig, ax = plt.subplots(figsize=(15, 8))\n",
    "\n",
    "# def draw_barchart(current_day):\n",
    "#     dff = g[g['day'].eq(current_day)].sort_values(by='value', ascending=True).tail(10)\n",
    "#     ax.clear()\n",
    "#     ax.barh(dff['name'], dff['value'], color=[colors[group_lk[x]] for x in dff['name']])\n",
    "#     dx = dff['value'].max() / 200\n",
    "    \n",
    "#     for i, (value, name) in enumerate(zip(dff['value'], dff['name'])):\n",
    "#         ax.text(value-dx, i,     name,           size=14, weight=600, ha='right', va='bottom')\n",
    "#         ax.text(value-dx, i-.25, group_lk[name], size=10, color='#444444', ha='right', va='baseline')\n",
    "#         ax.text(value+dx, i,     f'{value:,.0f}',  size=14, ha='left',  va='center')\n",
    "#     ax.text(1, 0.4, current_day, transform=ax.transAxes, color='#777777', size=46, ha='right', weight=800)\n",
    "#     ax.text(0, 1.06, 'Population (thousands)', transform=ax.transAxes, size=12, color='#777777')\n",
    "#     ax.xaxis.set_major_formatter(ticker.StrMethodFormatter('{x:,.0f}'))\n",
    "#     ax.xaxis.set_ticks_position('top')\n",
    "#     ax.tick_params(axis='x', colors='#777777', labelsize=12)\n",
    "#     ax.set_yticks([])\n",
    "#     ax.margins(0, 0.01)\n",
    "#     ax.grid(which='major', axis='x', linestyle='-')\n",
    "#     ax.set_axisbelow(True)\n",
    "    \n",
    "#     ax.text(0, 1.15, 'Coronavirus',\n",
    "#             transform=ax.transAxes, size=24, weight=600, ha='left', va='top')\n",
    "# #     ax.text(1, 0, 'by @pratapvardhan; credit @jburnmurdoch', transform=ax.transAxes, color='#777777', ha='right',\n",
    "# #             bbox=dict(facecolor='white', alpha=0.8, edgecolor='white'))\n",
    "#     plt.box(False)"
   ]
  },
  {
   "cell_type": "code",
   "execution_count": 42,
   "id": "sexual-wages",
   "metadata": {
    "execution": {
     "iopub.execute_input": "2021-02-16T00:11:02.400575Z",
     "iopub.status.busy": "2021-02-16T00:11:02.399967Z",
     "iopub.status.idle": "2021-02-16T00:11:02.402708Z",
     "shell.execute_reply": "2021-02-16T00:11:02.402175Z"
    },
    "papermill": {
     "duration": 0.041546,
     "end_time": "2021-02-16T00:11:02.402835",
     "exception": false,
     "start_time": "2021-02-16T00:11:02.361289",
     "status": "completed"
    },
    "tags": []
   },
   "outputs": [],
   "source": [
    "# #hide_input\n",
    "# fig, ax = plt.subplots(figsize=(15, 8))\n",
    "# animator = animation.FuncAnimation(fig, draw_barchart, frames=range(g.day.values.min(), g.day.values.max()))\n",
    "# HTML(animator.to_jshtml())\n",
    "# # or use animator.to_html5_video() or animator.save() "
   ]
  },
  {
   "cell_type": "code",
   "execution_count": null,
   "id": "australian-container",
   "metadata": {
    "papermill": {
     "duration": 0.034206,
     "end_time": "2021-02-16T00:11:02.471681",
     "exception": false,
     "start_time": "2021-02-16T00:11:02.437475",
     "status": "completed"
    },
    "tags": []
   },
   "outputs": [],
   "source": []
  },
  {
   "cell_type": "code",
   "execution_count": null,
   "id": "mediterranean-pontiac",
   "metadata": {
    "papermill": {
     "duration": 0.03498,
     "end_time": "2021-02-16T00:11:02.541177",
     "exception": false,
     "start_time": "2021-02-16T00:11:02.506197",
     "status": "completed"
    },
    "tags": []
   },
   "outputs": [],
   "source": []
  },
  {
   "cell_type": "code",
   "execution_count": null,
   "id": "aging-legislature",
   "metadata": {
    "papermill": {
     "duration": 0.035172,
     "end_time": "2021-02-16T00:11:02.611175",
     "exception": false,
     "start_time": "2021-02-16T00:11:02.576003",
     "status": "completed"
    },
    "tags": []
   },
   "outputs": [],
   "source": []
  }
 ],
 "metadata": {
  "kernelspec": {
   "display_name": "Python 3",
   "language": "python",
   "name": "python3"
  },
  "language_info": {
   "codemirror_mode": {
    "name": "ipython",
    "version": 3
   },
   "file_extension": ".py",
   "mimetype": "text/x-python",
   "name": "python",
   "nbconvert_exporter": "python",
   "pygments_lexer": "ipython3",
   "version": "3.6.12"
  },
  "papermill": {
   "duration": 6.8493,
   "end_time": "2021-02-16T00:11:03.055412",
   "environment_variables": {},
   "exception": null,
   "input_path": "2020-03-21-covid19exp.ipynb",
   "output_path": "2020-03-21-covid19exp.ipynb",
   "parameters": {},
   "start_time": "2021-02-16T00:10:56.206112",
   "version": "2.0.0"
  }
 },
 "nbformat": 4,
 "nbformat_minor": 5
}