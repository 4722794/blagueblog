{
 "cells": [
  {
   "cell_type": "markdown",
   "id": "muslim-click",
   "metadata": {
    "papermill": {
     "duration": 0.038364,
     "end_time": "2021-02-14T12:07:09.771077",
     "exception": false,
     "start_time": "2021-02-14T12:07:09.732713",
     "status": "completed"
    },
    "tags": []
   },
   "source": [
    "# COVID-19 Case Race\n",
    "> A race chart to see rising cases around the world\n",
    "\n",
    "- author: Hargun Oberoi\n",
    "- image: images/covid-overview.png\n",
    "- hide: false\n",
    "- badges: false"
   ]
  },
  {
   "cell_type": "code",
   "execution_count": 1,
   "id": "proof-material",
   "metadata": {
    "execution": {
     "iopub.execute_input": "2021-02-14T12:07:09.850772Z",
     "iopub.status.busy": "2021-02-14T12:07:09.850131Z",
     "iopub.status.idle": "2021-02-14T12:07:10.226926Z",
     "shell.execute_reply": "2021-02-14T12:07:10.226280Z"
    },
    "papermill": {
     "duration": 0.420544,
     "end_time": "2021-02-14T12:07:10.227079",
     "exception": false,
     "start_time": "2021-02-14T12:07:09.806535",
     "status": "completed"
    },
    "tags": []
   },
   "outputs": [],
   "source": [
    "#hide\n",
    "import numpy as np\n",
    "import pandas as pd\n",
    "from jinja2 import Template\n",
    "from IPython.display import HTML"
   ]
  },
  {
   "cell_type": "code",
   "execution_count": 2,
   "id": "developed-terminology",
   "metadata": {
    "execution": {
     "iopub.execute_input": "2021-02-14T12:07:10.300437Z",
     "iopub.status.busy": "2021-02-14T12:07:10.299762Z",
     "iopub.status.idle": "2021-02-14T12:07:10.301586Z",
     "shell.execute_reply": "2021-02-14T12:07:10.302102Z"
    },
    "papermill": {
     "duration": 0.041188,
     "end_time": "2021-02-14T12:07:10.302255",
     "exception": false,
     "start_time": "2021-02-14T12:07:10.261067",
     "status": "completed"
    },
    "tags": []
   },
   "outputs": [],
   "source": [
    "#hide\n",
    "\n",
    "# FETCH\n",
    "base_url = 'https://raw.githubusercontent.com/pratapvardhan/notebooks/master/covid19/'\n",
    "paths = {\n",
    "    'mapping': base_url + 'mapping_countries.csv',\n",
    "    'overview': base_url + 'overview.tpl'\n",
    "}"
   ]
  },
  {
   "cell_type": "code",
   "execution_count": 3,
   "id": "dynamic-saver",
   "metadata": {
    "execution": {
     "iopub.execute_input": "2021-02-14T12:07:10.383767Z",
     "iopub.status.busy": "2021-02-14T12:07:10.383099Z",
     "iopub.status.idle": "2021-02-14T12:07:10.385795Z",
     "shell.execute_reply": "2021-02-14T12:07:10.386657Z"
    },
    "papermill": {
     "duration": 0.049467,
     "end_time": "2021-02-14T12:07:10.386827",
     "exception": false,
     "start_time": "2021-02-14T12:07:10.337360",
     "status": "completed"
    },
    "tags": []
   },
   "outputs": [
    {
     "data": {
      "text/plain": [
       "'https://raw.githubusercontent.com/pratapvardhan/notebooks/master/covid19/mapping_countries.csv'"
      ]
     },
     "execution_count": 3,
     "metadata": {},
     "output_type": "execute_result"
    }
   ],
   "source": [
    "#hide\n",
    "paths['mapping']"
   ]
  },
  {
   "cell_type": "code",
   "execution_count": 4,
   "id": "urban-software",
   "metadata": {
    "execution": {
     "iopub.execute_input": "2021-02-14T12:07:10.464492Z",
     "iopub.status.busy": "2021-02-14T12:07:10.463814Z",
     "iopub.status.idle": "2021-02-14T12:07:10.466095Z",
     "shell.execute_reply": "2021-02-14T12:07:10.465499Z"
    },
    "papermill": {
     "duration": 0.042374,
     "end_time": "2021-02-14T12:07:10.466226",
     "exception": false,
     "start_time": "2021-02-14T12:07:10.423852",
     "status": "completed"
    },
    "tags": []
   },
   "outputs": [],
   "source": [
    "#hide\n",
    "def get_mappings(url):\n",
    "    df = pd.read_csv(url)\n",
    "    return {\n",
    "        'df': df,\n",
    "        'replace.country': dict(df.dropna(subset=['Name']).set_index('Country')['Name']),\n",
    "        'map.continent': dict(df.set_index('Name')['Continent'])\n",
    "    }"
   ]
  },
  {
   "cell_type": "code",
   "execution_count": 5,
   "id": "intimate-machinery",
   "metadata": {
    "execution": {
     "iopub.execute_input": "2021-02-14T12:07:10.544525Z",
     "iopub.status.busy": "2021-02-14T12:07:10.543865Z",
     "iopub.status.idle": "2021-02-14T12:07:10.573454Z",
     "shell.execute_reply": "2021-02-14T12:07:10.572926Z"
    },
    "papermill": {
     "duration": 0.073115,
     "end_time": "2021-02-14T12:07:10.573596",
     "exception": false,
     "start_time": "2021-02-14T12:07:10.500481",
     "status": "completed"
    },
    "tags": []
   },
   "outputs": [],
   "source": [
    "#hide\n",
    "mapping = get_mappings(paths['mapping'])"
   ]
  },
  {
   "cell_type": "code",
   "execution_count": 6,
   "id": "certified-tactics",
   "metadata": {
    "execution": {
     "iopub.execute_input": "2021-02-14T12:07:10.650301Z",
     "iopub.status.busy": "2021-02-14T12:07:10.649408Z",
     "iopub.status.idle": "2021-02-14T12:07:10.654236Z",
     "shell.execute_reply": "2021-02-14T12:07:10.653733Z"
    },
    "papermill": {
     "duration": 0.046113,
     "end_time": "2021-02-14T12:07:10.654377",
     "exception": false,
     "start_time": "2021-02-14T12:07:10.608264",
     "status": "completed"
    },
    "tags": []
   },
   "outputs": [],
   "source": [
    "#hide\n",
    "def get_template(path):\n",
    "    from urllib.parse import urlparse\n",
    "    if bool(urlparse(path).netloc):\n",
    "        from urllib.request import urlopen\n",
    "        return urlopen(path).read().decode('utf8')\n",
    "    return open(path).read()"
   ]
  },
  {
   "cell_type": "code",
   "execution_count": 7,
   "id": "realistic-blast",
   "metadata": {
    "execution": {
     "iopub.execute_input": "2021-02-14T12:07:10.742473Z",
     "iopub.status.busy": "2021-02-14T12:07:10.741790Z",
     "iopub.status.idle": "2021-02-14T12:07:10.743346Z",
     "shell.execute_reply": "2021-02-14T12:07:10.744276Z"
    },
    "papermill": {
     "duration": 0.052688,
     "end_time": "2021-02-14T12:07:10.744475",
     "exception": false,
     "start_time": "2021-02-14T12:07:10.691787",
     "status": "completed"
    },
    "tags": []
   },
   "outputs": [],
   "source": [
    "#hide\n",
    "def get_frame(name):\n",
    "    url = (\n",
    "        'https://raw.githubusercontent.com/CSSEGISandData/COVID-19/master/csse_covid_19_data/'\n",
    "        f'csse_covid_19_time_series/time_series_covid19_{name}_global.csv')\n",
    "    df = pd.read_csv(url)\n",
    "    # rename countries\n",
    "    df['Country/Region'] = df['Country/Region'].replace(mapping['replace.country'])\n",
    "    return df"
   ]
  },
  {
   "cell_type": "code",
   "execution_count": 8,
   "id": "affiliated-characterization",
   "metadata": {
    "execution": {
     "iopub.execute_input": "2021-02-14T12:07:10.821349Z",
     "iopub.status.busy": "2021-02-14T12:07:10.820584Z",
     "iopub.status.idle": "2021-02-14T12:07:10.822125Z",
     "shell.execute_reply": "2021-02-14T12:07:10.822840Z"
    },
    "papermill": {
     "duration": 0.043813,
     "end_time": "2021-02-14T12:07:10.823020",
     "exception": false,
     "start_time": "2021-02-14T12:07:10.779207",
     "status": "completed"
    },
    "tags": []
   },
   "outputs": [],
   "source": [
    "#hide\n",
    "def get_dates(df):\n",
    "    dt_cols = df.columns[~df.columns.isin(['Province/State', 'Country/Region', 'Lat', 'Long'])]\n",
    "    LAST_DATE_I = -1\n",
    "    # sometimes last column may be empty, then go backwards\n",
    "    for i in range(-1, -len(dt_cols), -1):\n",
    "        if not df[dt_cols[i]].fillna(0).eq(0).all():\n",
    "            LAST_DATE_I = i\n",
    "            break\n",
    "    return LAST_DATE_I, dt_cols"
   ]
  },
  {
   "cell_type": "code",
   "execution_count": 9,
   "id": "recent-optimization",
   "metadata": {
    "execution": {
     "iopub.execute_input": "2021-02-14T12:07:10.899383Z",
     "iopub.status.busy": "2021-02-14T12:07:10.898759Z",
     "iopub.status.idle": "2021-02-14T12:07:11.164196Z",
     "shell.execute_reply": "2021-02-14T12:07:11.163627Z"
    },
    "papermill": {
     "duration": 0.30468,
     "end_time": "2021-02-14T12:07:11.164334",
     "exception": false,
     "start_time": "2021-02-14T12:07:10.859654",
     "status": "completed"
    },
    "tags": []
   },
   "outputs": [],
   "source": [
    "#hide\n",
    "COL_REGION = 'Country/Region'\n",
    "# Confirmed, Recovered, Deaths\n",
    "df = get_frame('confirmed')\n",
    "# dft_: timeseries, dfc_: today country agg\n",
    "dft_cases = df\n",
    "dft_deaths = get_frame('deaths')\n",
    "dft_recovered = get_frame('recovered')\n",
    "LAST_DATE_I, dt_cols = get_dates(df)"
   ]
  },
  {
   "cell_type": "code",
   "execution_count": 10,
   "id": "absolute-copper",
   "metadata": {
    "execution": {
     "iopub.execute_input": "2021-02-14T12:07:11.240408Z",
     "iopub.status.busy": "2021-02-14T12:07:11.239733Z",
     "iopub.status.idle": "2021-02-14T12:07:11.241598Z",
     "shell.execute_reply": "2021-02-14T12:07:11.242058Z"
    },
    "papermill": {
     "duration": 0.043191,
     "end_time": "2021-02-14T12:07:11.242217",
     "exception": false,
     "start_time": "2021-02-14T12:07:11.199026",
     "status": "completed"
    },
    "tags": []
   },
   "outputs": [],
   "source": [
    "#hide\n",
    "LAST_DATE_I, dt_cols = get_dates(df)\n",
    "dt_today =dt_cols[LAST_DATE_I]\n",
    "# dt_5day = dt_cols[LAST_DATE_I - 5]\n",
    "dt_yday = dt_cols[LAST_DATE_I - 1]"
   ]
  },
  {
   "cell_type": "code",
   "execution_count": 11,
   "id": "restricted-sheriff",
   "metadata": {
    "execution": {
     "iopub.execute_input": "2021-02-14T12:07:11.330352Z",
     "iopub.status.busy": "2021-02-14T12:07:11.329721Z",
     "iopub.status.idle": "2021-02-14T12:07:11.335794Z",
     "shell.execute_reply": "2021-02-14T12:07:11.336259Z"
    },
    "papermill": {
     "duration": 0.048385,
     "end_time": "2021-02-14T12:07:11.336451",
     "exception": false,
     "start_time": "2021-02-14T12:07:11.288066",
     "status": "completed"
    },
    "tags": []
   },
   "outputs": [],
   "source": [
    "#hide\n",
    "dfc_cases = dft_cases.groupby(COL_REGION)[dt_today].sum()\n",
    "dfc_deaths = dft_deaths.groupby(COL_REGION)[dt_today].sum()\n",
    "# dfp_cases = dft_cases.groupby(COL_REGION)[dt_5day].sum()\n",
    "# dfp_deaths = dft_deaths.groupby(COL_REGION)[dt_5day].sum()\n",
    "dfp_cases = dft_cases.groupby(COL_REGION)[dt_yday].sum()\n",
    "dfp_deaths = dft_deaths.groupby(COL_REGION)[dt_yday].sum()"
   ]
  },
  {
   "cell_type": "code",
   "execution_count": 12,
   "id": "deluxe-hepatitis",
   "metadata": {
    "execution": {
     "iopub.execute_input": "2021-02-14T12:07:11.410924Z",
     "iopub.status.busy": "2021-02-14T12:07:11.410310Z",
     "iopub.status.idle": "2021-02-14T12:07:11.415144Z",
     "shell.execute_reply": "2021-02-14T12:07:11.415605Z"
    },
    "papermill": {
     "duration": 0.0457,
     "end_time": "2021-02-14T12:07:11.415767",
     "exception": false,
     "start_time": "2021-02-14T12:07:11.370067",
     "status": "completed"
    },
    "tags": []
   },
   "outputs": [],
   "source": [
    "#hide\n",
    "df_table = (pd.DataFrame(dict(Cases = dfc_cases, Deaths = dfc_deaths, PCases = dfp_cases, PDeaths = dfp_deaths))\n",
    "            .sort_values(by = ['Cases','Deaths'], ascending = [False, False])\n",
    "            .reset_index())"
   ]
  },
  {
   "cell_type": "code",
   "execution_count": 13,
   "id": "educational-chancellor",
   "metadata": {
    "execution": {
     "iopub.execute_input": "2021-02-14T12:07:11.503910Z",
     "iopub.status.busy": "2021-02-14T12:07:11.503259Z",
     "iopub.status.idle": "2021-02-14T12:07:11.512341Z",
     "shell.execute_reply": "2021-02-14T12:07:11.511818Z"
    },
    "papermill": {
     "duration": 0.063196,
     "end_time": "2021-02-14T12:07:11.512513",
     "exception": false,
     "start_time": "2021-02-14T12:07:11.449317",
     "status": "completed"
    },
    "tags": []
   },
   "outputs": [
    {
     "data": {
      "text/html": [
       "<div>\n",
       "<style scoped>\n",
       "    .dataframe tbody tr th:only-of-type {\n",
       "        vertical-align: middle;\n",
       "    }\n",
       "\n",
       "    .dataframe tbody tr th {\n",
       "        vertical-align: top;\n",
       "    }\n",
       "\n",
       "    .dataframe thead th {\n",
       "        text-align: right;\n",
       "    }\n",
       "</style>\n",
       "<table border=\"1\" class=\"dataframe\">\n",
       "  <thead>\n",
       "    <tr style=\"text-align: right;\">\n",
       "      <th></th>\n",
       "      <th>Country/Region</th>\n",
       "      <th>Cases</th>\n",
       "      <th>Deaths</th>\n",
       "      <th>PCases</th>\n",
       "      <th>PDeaths</th>\n",
       "      <th>Cases (+)</th>\n",
       "      <th>Deaths (+)</th>\n",
       "      <th>Fatality Rate</th>\n",
       "      <th>Continent</th>\n",
       "    </tr>\n",
       "  </thead>\n",
       "  <tbody>\n",
       "    <tr>\n",
       "      <th>0</th>\n",
       "      <td>US</td>\n",
       "      <td>27575344</td>\n",
       "      <td>484248</td>\n",
       "      <td>27492023</td>\n",
       "      <td>480887</td>\n",
       "      <td>83321</td>\n",
       "      <td>3361</td>\n",
       "      <td>1.76</td>\n",
       "      <td>North America</td>\n",
       "    </tr>\n",
       "    <tr>\n",
       "      <th>1</th>\n",
       "      <td>India</td>\n",
       "      <td>10904940</td>\n",
       "      <td>155642</td>\n",
       "      <td>10892746</td>\n",
       "      <td>155550</td>\n",
       "      <td>12194</td>\n",
       "      <td>92</td>\n",
       "      <td>1.43</td>\n",
       "      <td>Asia</td>\n",
       "    </tr>\n",
       "    <tr>\n",
       "      <th>2</th>\n",
       "      <td>Brazil</td>\n",
       "      <td>9809754</td>\n",
       "      <td>238532</td>\n",
       "      <td>9765455</td>\n",
       "      <td>237489</td>\n",
       "      <td>44299</td>\n",
       "      <td>1043</td>\n",
       "      <td>2.43</td>\n",
       "      <td>South America</td>\n",
       "    </tr>\n",
       "    <tr>\n",
       "      <th>3</th>\n",
       "      <td>United Kingdom</td>\n",
       "      <td>4038929</td>\n",
       "      <td>117128</td>\n",
       "      <td>4025574</td>\n",
       "      <td>116507</td>\n",
       "      <td>13355</td>\n",
       "      <td>621</td>\n",
       "      <td>2.90</td>\n",
       "      <td>Europe</td>\n",
       "    </tr>\n",
       "    <tr>\n",
       "      <th>4</th>\n",
       "      <td>Russia</td>\n",
       "      <td>4012538</td>\n",
       "      <td>78403</td>\n",
       "      <td>3997898</td>\n",
       "      <td>77911</td>\n",
       "      <td>14640</td>\n",
       "      <td>492</td>\n",
       "      <td>1.95</td>\n",
       "      <td>Europe</td>\n",
       "    </tr>\n",
       "  </tbody>\n",
       "</table>\n",
       "</div>"
      ],
      "text/plain": [
       "   Country/Region     Cases  Deaths    PCases  PDeaths  Cases (+)  Deaths (+)  \\\n",
       "0              US  27575344  484248  27492023   480887      83321        3361   \n",
       "1           India  10904940  155642  10892746   155550      12194          92   \n",
       "2          Brazil   9809754  238532   9765455   237489      44299        1043   \n",
       "3  United Kingdom   4038929  117128   4025574   116507      13355         621   \n",
       "4          Russia   4012538   78403   3997898    77911      14640         492   \n",
       "\n",
       "   Fatality Rate      Continent  \n",
       "0           1.76  North America  \n",
       "1           1.43           Asia  \n",
       "2           2.43  South America  \n",
       "3           2.90         Europe  \n",
       "4           1.95         Europe  "
      ]
     },
     "execution_count": 13,
     "metadata": {},
     "output_type": "execute_result"
    }
   ],
   "source": [
    "#hide\n",
    "for c in 'Cases, Deaths'.split(', '):\n",
    "    df_table[f'{c} (+)'] = (df_table[c] - df_table[f'P{c}']).clip(0)\n",
    "    #Clip ça veut dire, les chiffres negatif sont interdit\n",
    "df_table['Fatality Rate'] = (100* df_table['Deaths']/ df_table['Cases']).round(2)\n",
    "df_table['Continent'] = df_table['Country/Region'].map(mapping['map.continent'])\n",
    "df_table.head(5)"
   ]
  },
  {
   "cell_type": "code",
   "execution_count": 14,
   "id": "aboriginal-bulgaria",
   "metadata": {
    "execution": {
     "iopub.execute_input": "2021-02-14T12:07:11.587832Z",
     "iopub.status.busy": "2021-02-14T12:07:11.587206Z",
     "iopub.status.idle": "2021-02-14T12:07:11.589300Z",
     "shell.execute_reply": "2021-02-14T12:07:11.589755Z"
    },
    "papermill": {
     "duration": 0.043042,
     "end_time": "2021-02-14T12:07:11.589914",
     "exception": false,
     "start_time": "2021-02-14T12:07:11.546872",
     "status": "completed"
    },
    "tags": []
   },
   "outputs": [],
   "source": [
    "#hide\n",
    "#delete problematic countries from table\n",
    "df_table = df_table[~df_table['Country/Region'].isin(['Cape Verde', 'Cruise Ship', 'Kosovo'])]"
   ]
  },
  {
   "cell_type": "code",
   "execution_count": 15,
   "id": "fantastic-effect",
   "metadata": {
    "execution": {
     "iopub.execute_input": "2021-02-14T12:07:11.667125Z",
     "iopub.status.busy": "2021-02-14T12:07:11.666540Z",
     "iopub.status.idle": "2021-02-14T12:07:11.687877Z",
     "shell.execute_reply": "2021-02-14T12:07:11.688368Z"
    },
    "papermill": {
     "duration": 0.064379,
     "end_time": "2021-02-14T12:07:11.688565",
     "exception": false,
     "start_time": "2021-02-14T12:07:11.624186",
     "status": "completed"
    },
    "tags": []
   },
   "outputs": [
    {
     "data": {
      "text/html": [
       "<div>\n",
       "<style scoped>\n",
       "    .dataframe tbody tr th:only-of-type {\n",
       "        vertical-align: middle;\n",
       "    }\n",
       "\n",
       "    .dataframe tbody tr th {\n",
       "        vertical-align: top;\n",
       "    }\n",
       "\n",
       "    .dataframe thead th {\n",
       "        text-align: right;\n",
       "    }\n",
       "</style>\n",
       "<table border=\"1\" class=\"dataframe\">\n",
       "  <thead>\n",
       "    <tr style=\"text-align: right;\">\n",
       "      <th></th>\n",
       "      <th>Country/Region</th>\n",
       "      <th>Cases</th>\n",
       "      <th>Deaths</th>\n",
       "      <th>PCases</th>\n",
       "      <th>PDeaths</th>\n",
       "      <th>Cases (+)</th>\n",
       "      <th>Deaths (+)</th>\n",
       "      <th>Fatality Rate</th>\n",
       "      <th>Continent</th>\n",
       "    </tr>\n",
       "  </thead>\n",
       "  <tbody>\n",
       "    <tr>\n",
       "      <th>0</th>\n",
       "      <td>US</td>\n",
       "      <td>27575344</td>\n",
       "      <td>484248</td>\n",
       "      <td>27492023</td>\n",
       "      <td>480887</td>\n",
       "      <td>83321</td>\n",
       "      <td>3361</td>\n",
       "      <td>1.8</td>\n",
       "      <td>North America</td>\n",
       "    </tr>\n",
       "    <tr>\n",
       "      <th>1</th>\n",
       "      <td>India</td>\n",
       "      <td>10904940</td>\n",
       "      <td>155642</td>\n",
       "      <td>10892746</td>\n",
       "      <td>155550</td>\n",
       "      <td>12194</td>\n",
       "      <td>92</td>\n",
       "      <td>1.4</td>\n",
       "      <td>Asia</td>\n",
       "    </tr>\n",
       "    <tr>\n",
       "      <th>2</th>\n",
       "      <td>Brazil</td>\n",
       "      <td>9809754</td>\n",
       "      <td>238532</td>\n",
       "      <td>9765455</td>\n",
       "      <td>237489</td>\n",
       "      <td>44299</td>\n",
       "      <td>1043</td>\n",
       "      <td>2.4</td>\n",
       "      <td>South America</td>\n",
       "    </tr>\n",
       "    <tr>\n",
       "      <th>3</th>\n",
       "      <td>United Kingdom</td>\n",
       "      <td>4038929</td>\n",
       "      <td>117128</td>\n",
       "      <td>4025574</td>\n",
       "      <td>116507</td>\n",
       "      <td>13355</td>\n",
       "      <td>621</td>\n",
       "      <td>2.9</td>\n",
       "      <td>Europe</td>\n",
       "    </tr>\n",
       "    <tr>\n",
       "      <th>4</th>\n",
       "      <td>Russia</td>\n",
       "      <td>4012538</td>\n",
       "      <td>78403</td>\n",
       "      <td>3997898</td>\n",
       "      <td>77911</td>\n",
       "      <td>14640</td>\n",
       "      <td>492</td>\n",
       "      <td>2.0</td>\n",
       "      <td>Europe</td>\n",
       "    </tr>\n",
       "  </tbody>\n",
       "</table>\n",
       "</div>"
      ],
      "text/plain": [
       "   Country/Region     Cases  Deaths    PCases  PDeaths  Cases (+)  Deaths (+)  \\\n",
       "0              US  27575344  484248  27492023   480887      83321        3361   \n",
       "1           India  10904940  155642  10892746   155550      12194          92   \n",
       "2          Brazil   9809754  238532   9765455   237489      44299        1043   \n",
       "3  United Kingdom   4038929  117128   4025574   116507      13355         621   \n",
       "4          Russia   4012538   78403   3997898    77911      14640         492   \n",
       "\n",
       "   Fatality Rate      Continent  \n",
       "0            1.8  North America  \n",
       "1            1.4           Asia  \n",
       "2            2.4  South America  \n",
       "3            2.9         Europe  \n",
       "4            2.0         Europe  "
      ]
     },
     "execution_count": 15,
     "metadata": {},
     "output_type": "execute_result"
    }
   ],
   "source": [
    "#hide\n",
    "df_table = (pd.DataFrame(dict(Cases=dfc_cases, Deaths=dfc_deaths, PCases=dfp_cases, PDeaths=dfp_deaths))\n",
    "             .sort_values(by=['Cases', 'Deaths'], ascending=[False, False])\n",
    "             .reset_index())\n",
    "df_table.rename(columns={'index': 'Country/Region'}, inplace=True)\n",
    "for c in 'Cases, Deaths'.split(', '):\n",
    "    df_table[f'{c} (+)'] = (df_table[c] - df_table[f'P{c}']).clip(0)  # DATA BUG\n",
    "df_table['Fatality Rate'] = (100 * df_table['Deaths'] / df_table['Cases']).round(1)\n",
    "df_table['Continent'] = df_table['Country/Region'].map(mapping['map.continent'])\n",
    "df_table.head(5)"
   ]
  },
  {
   "cell_type": "code",
   "execution_count": 16,
   "id": "fewer-occasion",
   "metadata": {
    "execution": {
     "iopub.execute_input": "2021-02-14T12:07:11.766855Z",
     "iopub.status.busy": "2021-02-14T12:07:11.766212Z",
     "iopub.status.idle": "2021-02-14T12:07:11.768007Z",
     "shell.execute_reply": "2021-02-14T12:07:11.768816Z"
    },
    "papermill": {
     "duration": 0.045353,
     "end_time": "2021-02-14T12:07:11.769016",
     "exception": false,
     "start_time": "2021-02-14T12:07:11.723663",
     "status": "completed"
    },
    "tags": []
   },
   "outputs": [],
   "source": [
    "#hide\n",
    "#delete problematic countries from table\n",
    "df_table = df_table[~df_table['Country/Region'].isin(['Cape Verde', 'Cruise Ship', 'Kosovo'])]"
   ]
  },
  {
   "cell_type": "code",
   "execution_count": 17,
   "id": "related-center",
   "metadata": {
    "execution": {
     "iopub.execute_input": "2021-02-14T12:07:11.862270Z",
     "iopub.status.busy": "2021-02-14T12:07:11.861604Z",
     "iopub.status.idle": "2021-02-14T12:07:11.863873Z",
     "shell.execute_reply": "2021-02-14T12:07:11.864358Z"
    },
    "papermill": {
     "duration": 0.059304,
     "end_time": "2021-02-14T12:07:11.864550",
     "exception": false,
     "start_time": "2021-02-14T12:07:11.805246",
     "status": "completed"
    },
    "tags": []
   },
   "outputs": [],
   "source": [
    "#hide\n",
    "metrics = [df_table.columns[index] for index in [1,2,5,6]]\n",
    "# s_china = df_table[df_table['Country/Region'].eq('China')][metrics].sum().add_prefix('China ')\n",
    "s_us = df_table[df_table['Country/Region'].eq('US')][metrics].sum().add_prefix('US ')\n",
    "s_eu = df_table[df_table['Continent'].eq('Europe')][metrics].sum().add_prefix('EU ')\n",
    "s_ind = df_table[df_table['Country/Region'].eq('India')][metrics].sum().add_prefix('India ')\n",
    "summary = {'updated': pd.to_datetime(dt_today), 'since': pd.to_datetime(dt_yday)}\n",
    "summary = {'updated': pd.to_datetime(dt_today), 'since': pd.to_datetime(dt_yday)}\n",
    "summary = {**summary, **df_table[metrics].sum(), **s_ind, **s_us, **s_eu}"
   ]
  },
  {
   "cell_type": "code",
   "execution_count": 18,
   "id": "engaging-syndrome",
   "metadata": {
    "execution": {
     "iopub.execute_input": "2021-02-14T12:07:11.945018Z",
     "iopub.status.busy": "2021-02-14T12:07:11.944348Z",
     "iopub.status.idle": "2021-02-14T12:07:11.955855Z",
     "shell.execute_reply": "2021-02-14T12:07:11.956328Z"
    },
    "papermill": {
     "duration": 0.055977,
     "end_time": "2021-02-14T12:07:11.956531",
     "exception": false,
     "start_time": "2021-02-14T12:07:11.900554",
     "status": "completed"
    },
    "tags": []
   },
   "outputs": [],
   "source": [
    "#hide\n",
    "dft_ct_new_cases = dft_cases.groupby(COL_REGION)[dt_cols].sum().diff(axis=1).fillna(0).astype(int)"
   ]
  },
  {
   "cell_type": "code",
   "execution_count": 19,
   "id": "neutral-assignment",
   "metadata": {
    "execution": {
     "iopub.execute_input": "2021-02-14T12:07:12.035189Z",
     "iopub.status.busy": "2021-02-14T12:07:12.034458Z",
     "iopub.status.idle": "2021-02-14T12:07:12.036004Z",
     "shell.execute_reply": "2021-02-14T12:07:12.036693Z"
    },
    "papermill": {
     "duration": 0.044103,
     "end_time": "2021-02-14T12:07:12.036871",
     "exception": false,
     "start_time": "2021-02-14T12:07:11.992768",
     "status": "completed"
    },
    "tags": []
   },
   "outputs": [],
   "source": [
    "#hide\n",
    "everydaycases = dft_ct_new_cases.cumsum(axis=1)"
   ]
  },
  {
   "cell_type": "code",
   "execution_count": 20,
   "id": "parliamentary-calgary",
   "metadata": {
    "execution": {
     "iopub.execute_input": "2021-02-14T12:07:12.112557Z",
     "iopub.status.busy": "2021-02-14T12:07:12.111896Z",
     "iopub.status.idle": "2021-02-14T12:07:13.856255Z",
     "shell.execute_reply": "2021-02-14T12:07:13.855639Z"
    },
    "papermill": {
     "duration": 1.784229,
     "end_time": "2021-02-14T12:07:13.856462",
     "exception": false,
     "start_time": "2021-02-14T12:07:12.072233",
     "status": "completed"
    },
    "tags": []
   },
   "outputs": [],
   "source": [
    "#hide\n",
    "import pandas as pd\n",
    "import matplotlib.pyplot as plt\n",
    "import matplotlib.ticker as ticker\n",
    "import matplotlib.animation as animation\n",
    "from IPython.display import HTML"
   ]
  },
  {
   "cell_type": "code",
   "execution_count": 21,
   "id": "lasting-extraction",
   "metadata": {
    "execution": {
     "iopub.execute_input": "2021-02-14T12:07:13.937408Z",
     "iopub.status.busy": "2021-02-14T12:07:13.936781Z",
     "iopub.status.idle": "2021-02-14T12:07:13.942230Z",
     "shell.execute_reply": "2021-02-14T12:07:13.942687Z"
    },
    "papermill": {
     "duration": 0.048432,
     "end_time": "2021-02-14T12:07:13.942843",
     "exception": false,
     "start_time": "2021-02-14T12:07:13.894411",
     "status": "completed"
    },
    "tags": []
   },
   "outputs": [],
   "source": [
    "#hide\n",
    "t = everydaycases.stack()"
   ]
  },
  {
   "cell_type": "code",
   "execution_count": 22,
   "id": "premier-sleeve",
   "metadata": {
    "execution": {
     "iopub.execute_input": "2021-02-14T12:07:14.030461Z",
     "iopub.status.busy": "2021-02-14T12:07:14.029845Z",
     "iopub.status.idle": "2021-02-14T12:07:14.037933Z",
     "shell.execute_reply": "2021-02-14T12:07:14.038394Z"
    },
    "papermill": {
     "duration": 0.049152,
     "end_time": "2021-02-14T12:07:14.038555",
     "exception": false,
     "start_time": "2021-02-14T12:07:13.989403",
     "status": "completed"
    },
    "tags": []
   },
   "outputs": [],
   "source": [
    "#hide\n",
    "g = t.reset_index(['Country/Region'])"
   ]
  },
  {
   "cell_type": "code",
   "execution_count": 23,
   "id": "distributed-pittsburgh",
   "metadata": {
    "execution": {
     "iopub.execute_input": "2021-02-14T12:07:14.114098Z",
     "iopub.status.busy": "2021-02-14T12:07:14.113368Z",
     "iopub.status.idle": "2021-02-14T12:07:14.114884Z",
     "shell.execute_reply": "2021-02-14T12:07:14.115475Z"
    },
    "papermill": {
     "duration": 0.041934,
     "end_time": "2021-02-14T12:07:14.115632",
     "exception": false,
     "start_time": "2021-02-14T12:07:14.073698",
     "status": "completed"
    },
    "tags": []
   },
   "outputs": [],
   "source": [
    "#hide\n",
    "g.index.name = 'date'"
   ]
  },
  {
   "cell_type": "code",
   "execution_count": 24,
   "id": "naked-donor",
   "metadata": {
    "execution": {
     "iopub.execute_input": "2021-02-14T12:07:14.190953Z",
     "iopub.status.busy": "2021-02-14T12:07:14.190328Z",
     "iopub.status.idle": "2021-02-14T12:07:14.193071Z",
     "shell.execute_reply": "2021-02-14T12:07:14.192546Z"
    },
    "papermill": {
     "duration": 0.042203,
     "end_time": "2021-02-14T12:07:14.193212",
     "exception": false,
     "start_time": "2021-02-14T12:07:14.151009",
     "status": "completed"
    },
    "tags": []
   },
   "outputs": [],
   "source": [
    "# #hide\n",
    "# g = g.reset_index(['date'])"
   ]
  },
  {
   "cell_type": "code",
   "execution_count": 25,
   "id": "incomplete-mustang",
   "metadata": {
    "execution": {
     "iopub.execute_input": "2021-02-14T12:07:14.268980Z",
     "iopub.status.busy": "2021-02-14T12:07:14.268333Z",
     "iopub.status.idle": "2021-02-14T12:07:14.270220Z",
     "shell.execute_reply": "2021-02-14T12:07:14.270707Z"
    },
    "papermill": {
     "duration": 0.041329,
     "end_time": "2021-02-14T12:07:14.270860",
     "exception": false,
     "start_time": "2021-02-14T12:07:14.229531",
     "status": "completed"
    },
    "tags": []
   },
   "outputs": [],
   "source": [
    "#hide\n",
    "# g.head()"
   ]
  },
  {
   "cell_type": "code",
   "execution_count": 26,
   "id": "specific-kruger",
   "metadata": {
    "execution": {
     "iopub.execute_input": "2021-02-14T12:07:14.345661Z",
     "iopub.status.busy": "2021-02-14T12:07:14.345049Z",
     "iopub.status.idle": "2021-02-14T12:07:14.347374Z",
     "shell.execute_reply": "2021-02-14T12:07:14.346861Z"
    },
    "papermill": {
     "duration": 0.041437,
     "end_time": "2021-02-14T12:07:14.347506",
     "exception": false,
     "start_time": "2021-02-14T12:07:14.306069",
     "status": "completed"
    },
    "tags": []
   },
   "outputs": [],
   "source": [
    "#hide\n",
    "# g.columns = ['date','country','cases']"
   ]
  },
  {
   "cell_type": "code",
   "execution_count": 27,
   "id": "tender-conversion",
   "metadata": {
    "execution": {
     "iopub.execute_input": "2021-02-14T12:07:14.423666Z",
     "iopub.status.busy": "2021-02-14T12:07:14.423075Z",
     "iopub.status.idle": "2021-02-14T12:07:14.425123Z",
     "shell.execute_reply": "2021-02-14T12:07:14.425635Z"
    },
    "papermill": {
     "duration": 0.042908,
     "end_time": "2021-02-14T12:07:14.425787",
     "exception": false,
     "start_time": "2021-02-14T12:07:14.382879",
     "status": "completed"
    },
    "tags": []
   },
   "outputs": [],
   "source": [
    "#hide\n",
    "# g['continent'] = g.country"
   ]
  },
  {
   "cell_type": "code",
   "execution_count": 28,
   "id": "substantial-wilderness",
   "metadata": {
    "execution": {
     "iopub.execute_input": "2021-02-14T12:07:14.506525Z",
     "iopub.status.busy": "2021-02-14T12:07:14.505686Z",
     "iopub.status.idle": "2021-02-14T12:07:14.507377Z",
     "shell.execute_reply": "2021-02-14T12:07:14.508731Z"
    },
    "papermill": {
     "duration": 0.047289,
     "end_time": "2021-02-14T12:07:14.508929",
     "exception": false,
     "start_time": "2021-02-14T12:07:14.461640",
     "status": "completed"
    },
    "tags": []
   },
   "outputs": [],
   "source": [
    "#hide\n",
    "# cols = list(g.columns.values)"
   ]
  },
  {
   "cell_type": "code",
   "execution_count": 29,
   "id": "solved-farming",
   "metadata": {
    "execution": {
     "iopub.execute_input": "2021-02-14T12:07:14.583589Z",
     "iopub.status.busy": "2021-02-14T12:07:14.582924Z",
     "iopub.status.idle": "2021-02-14T12:07:14.587278Z",
     "shell.execute_reply": "2021-02-14T12:07:14.586735Z"
    },
    "papermill": {
     "duration": 0.043082,
     "end_time": "2021-02-14T12:07:14.587429",
     "exception": false,
     "start_time": "2021-02-14T12:07:14.544347",
     "status": "completed"
    },
    "tags": []
   },
   "outputs": [],
   "source": [
    "#hide\n",
    "# cols.insert(0, cols.pop())"
   ]
  },
  {
   "cell_type": "code",
   "execution_count": 30,
   "id": "executed-adoption",
   "metadata": {
    "execution": {
     "iopub.execute_input": "2021-02-14T12:07:14.665873Z",
     "iopub.status.busy": "2021-02-14T12:07:14.664416Z",
     "iopub.status.idle": "2021-02-14T12:07:14.666540Z",
     "shell.execute_reply": "2021-02-14T12:07:14.667010Z"
    },
    "papermill": {
     "duration": 0.044077,
     "end_time": "2021-02-14T12:07:14.667166",
     "exception": false,
     "start_time": "2021-02-14T12:07:14.623089",
     "status": "completed"
    },
    "tags": []
   },
   "outputs": [],
   "source": [
    "#hide\n",
    "# g = g[cols]"
   ]
  },
  {
   "cell_type": "code",
   "execution_count": 31,
   "id": "subject-dublin",
   "metadata": {
    "execution": {
     "iopub.execute_input": "2021-02-14T12:07:14.743691Z",
     "iopub.status.busy": "2021-02-14T12:07:14.743059Z",
     "iopub.status.idle": "2021-02-14T12:07:14.747465Z",
     "shell.execute_reply": "2021-02-14T12:07:14.746929Z"
    },
    "papermill": {
     "duration": 0.044645,
     "end_time": "2021-02-14T12:07:14.747600",
     "exception": false,
     "start_time": "2021-02-14T12:07:14.702955",
     "status": "completed"
    },
    "tags": []
   },
   "outputs": [],
   "source": [
    "#hide\n",
    "# g['continent'] = g['continent'].map(mapping['map.continent'])"
   ]
  },
  {
   "cell_type": "code",
   "execution_count": 32,
   "id": "freelance-scout",
   "metadata": {
    "execution": {
     "iopub.execute_input": "2021-02-14T12:07:14.825060Z",
     "iopub.status.busy": "2021-02-14T12:07:14.824302Z",
     "iopub.status.idle": "2021-02-14T12:07:14.827723Z",
     "shell.execute_reply": "2021-02-14T12:07:14.827226Z"
    },
    "papermill": {
     "duration": 0.044649,
     "end_time": "2021-02-14T12:07:14.827862",
     "exception": false,
     "start_time": "2021-02-14T12:07:14.783213",
     "status": "completed"
    },
    "tags": []
   },
   "outputs": [],
   "source": [
    "#hide\n",
    "# g.head()"
   ]
  },
  {
   "cell_type": "code",
   "execution_count": 33,
   "id": "limited-engine",
   "metadata": {
    "execution": {
     "iopub.execute_input": "2021-02-14T12:07:14.902393Z",
     "iopub.status.busy": "2021-02-14T12:07:14.901652Z",
     "iopub.status.idle": "2021-02-14T12:07:14.903190Z",
     "shell.execute_reply": "2021-02-14T12:07:14.903991Z"
    },
    "papermill": {
     "duration": 0.041493,
     "end_time": "2021-02-14T12:07:14.904174",
     "exception": false,
     "start_time": "2021-02-14T12:07:14.862681",
     "status": "completed"
    },
    "tags": []
   },
   "outputs": [],
   "source": [
    "# hide\n",
    "# g['date'] = g['date'].astype('datetime64[ns]')"
   ]
  },
  {
   "cell_type": "code",
   "execution_count": 34,
   "id": "sophisticated-supervisor",
   "metadata": {
    "execution": {
     "iopub.execute_input": "2021-02-14T12:07:14.982359Z",
     "iopub.status.busy": "2021-02-14T12:07:14.981742Z",
     "iopub.status.idle": "2021-02-14T12:07:14.984338Z",
     "shell.execute_reply": "2021-02-14T12:07:14.983848Z"
    },
    "papermill": {
     "duration": 0.04335,
     "end_time": "2021-02-14T12:07:14.984510",
     "exception": false,
     "start_time": "2021-02-14T12:07:14.941160",
     "status": "completed"
    },
    "tags": []
   },
   "outputs": [],
   "source": [
    "#hide\n",
    "# g['date'] = g.date.dt.dayofyear"
   ]
  },
  {
   "cell_type": "code",
   "execution_count": 35,
   "id": "inside-dubai",
   "metadata": {
    "execution": {
     "iopub.execute_input": "2021-02-14T12:07:15.060400Z",
     "iopub.status.busy": "2021-02-14T12:07:15.059753Z",
     "iopub.status.idle": "2021-02-14T12:07:15.061934Z",
     "shell.execute_reply": "2021-02-14T12:07:15.062414Z"
    },
    "papermill": {
     "duration": 0.042359,
     "end_time": "2021-02-14T12:07:15.062570",
     "exception": false,
     "start_time": "2021-02-14T12:07:15.020211",
     "status": "completed"
    },
    "tags": []
   },
   "outputs": [],
   "source": [
    "#hide\n",
    "# g = g.rename(columns= {'continent':'group','country':'name','cases':'value'})"
   ]
  },
  {
   "cell_type": "code",
   "execution_count": 36,
   "id": "fleet-motorcycle",
   "metadata": {
    "execution": {
     "iopub.execute_input": "2021-02-14T12:07:15.137374Z",
     "iopub.status.busy": "2021-02-14T12:07:15.136753Z",
     "iopub.status.idle": "2021-02-14T12:07:15.138787Z",
     "shell.execute_reply": "2021-02-14T12:07:15.139242Z"
    },
    "papermill": {
     "duration": 0.041788,
     "end_time": "2021-02-14T12:07:15.139399",
     "exception": false,
     "start_time": "2021-02-14T12:07:15.097611",
     "status": "completed"
    },
    "tags": []
   },
   "outputs": [],
   "source": [
    "#hide\n",
    "# cols = ['name','group','day','value']"
   ]
  },
  {
   "cell_type": "code",
   "execution_count": 37,
   "id": "continued-sleeping",
   "metadata": {
    "execution": {
     "iopub.execute_input": "2021-02-14T12:07:15.220486Z",
     "iopub.status.busy": "2021-02-14T12:07:15.219816Z",
     "iopub.status.idle": "2021-02-14T12:07:15.222154Z",
     "shell.execute_reply": "2021-02-14T12:07:15.221564Z"
    },
    "papermill": {
     "duration": 0.045546,
     "end_time": "2021-02-14T12:07:15.222286",
     "exception": false,
     "start_time": "2021-02-14T12:07:15.176740",
     "status": "completed"
    },
    "tags": []
   },
   "outputs": [],
   "source": [
    "#hide\n",
    "# g.rename(columns= {'date':'day'},inplace = True)"
   ]
  },
  {
   "cell_type": "code",
   "execution_count": 38,
   "id": "major-fight",
   "metadata": {
    "execution": {
     "iopub.execute_input": "2021-02-14T12:07:15.298055Z",
     "iopub.status.busy": "2021-02-14T12:07:15.297325Z",
     "iopub.status.idle": "2021-02-14T12:07:15.298843Z",
     "shell.execute_reply": "2021-02-14T12:07:15.299507Z"
    },
    "papermill": {
     "duration": 0.041565,
     "end_time": "2021-02-14T12:07:15.299680",
     "exception": false,
     "start_time": "2021-02-14T12:07:15.258115",
     "status": "completed"
    },
    "tags": []
   },
   "outputs": [],
   "source": [
    "#hide\n",
    "# g = g[cols]"
   ]
  },
  {
   "cell_type": "code",
   "execution_count": 39,
   "id": "structured-mobile",
   "metadata": {
    "execution": {
     "iopub.execute_input": "2021-02-14T12:07:15.374044Z",
     "iopub.status.busy": "2021-02-14T12:07:15.373405Z",
     "iopub.status.idle": "2021-02-14T12:07:15.375149Z",
     "shell.execute_reply": "2021-02-14T12:07:15.375641Z"
    },
    "papermill": {
     "duration": 0.041233,
     "end_time": "2021-02-14T12:07:15.375799",
     "exception": false,
     "start_time": "2021-02-14T12:07:15.334566",
     "status": "completed"
    },
    "tags": []
   },
   "outputs": [],
   "source": [
    "# #hide\n",
    "# g = g[g.group.notna()]"
   ]
  },
  {
   "cell_type": "code",
   "execution_count": 40,
   "id": "determined-closing",
   "metadata": {
    "execution": {
     "iopub.execute_input": "2021-02-14T12:07:15.453606Z",
     "iopub.status.busy": "2021-02-14T12:07:15.452969Z",
     "iopub.status.idle": "2021-02-14T12:07:15.454931Z",
     "shell.execute_reply": "2021-02-14T12:07:15.455407Z"
    },
    "papermill": {
     "duration": 0.043915,
     "end_time": "2021-02-14T12:07:15.455562",
     "exception": false,
     "start_time": "2021-02-14T12:07:15.411647",
     "status": "completed"
    },
    "tags": []
   },
   "outputs": [],
   "source": [
    "# #hide\n",
    "# colors = dict(zip(\n",
    "#     [\"Oceania\", \"Europe\", \"Asia\", \"South America\", \"Middle East\", \"North America\", \"Africa\"],\n",
    "#     [\"#adb0ff\", \"#ffb3ff\", \"#90d595\", \"#e48381\", \"#aafbff\", \"#f7bb5f\", \"#eafb50\"]\n",
    "# ))\n",
    "# group_lk = g.set_index('name')['group'].to_dict()"
   ]
  },
  {
   "cell_type": "code",
   "execution_count": null,
   "id": "gross-drinking",
   "metadata": {
    "papermill": {
     "duration": 0.035713,
     "end_time": "2021-02-14T12:07:15.527213",
     "exception": false,
     "start_time": "2021-02-14T12:07:15.491500",
     "status": "completed"
    },
    "tags": []
   },
   "outputs": [],
   "source": []
  },
  {
   "cell_type": "code",
   "execution_count": 41,
   "id": "subject-macintosh",
   "metadata": {
    "execution": {
     "iopub.execute_input": "2021-02-14T12:07:15.603995Z",
     "iopub.status.busy": "2021-02-14T12:07:15.603001Z",
     "iopub.status.idle": "2021-02-14T12:07:15.607735Z",
     "shell.execute_reply": "2021-02-14T12:07:15.608394Z"
    },
    "papermill": {
     "duration": 0.046289,
     "end_time": "2021-02-14T12:07:15.608643",
     "exception": false,
     "start_time": "2021-02-14T12:07:15.562354",
     "status": "completed"
    },
    "tags": []
   },
   "outputs": [],
   "source": [
    "# #hide\n",
    "# fig, ax = plt.subplots(figsize=(15, 8))\n",
    "\n",
    "# def draw_barchart(current_day):\n",
    "#     dff = g[g['day'].eq(current_day)].sort_values(by='value', ascending=True).tail(10)\n",
    "#     ax.clear()\n",
    "#     ax.barh(dff['name'], dff['value'], color=[colors[group_lk[x]] for x in dff['name']])\n",
    "#     dx = dff['value'].max() / 200\n",
    "    \n",
    "#     for i, (value, name) in enumerate(zip(dff['value'], dff['name'])):\n",
    "#         ax.text(value-dx, i,     name,           size=14, weight=600, ha='right', va='bottom')\n",
    "#         ax.text(value-dx, i-.25, group_lk[name], size=10, color='#444444', ha='right', va='baseline')\n",
    "#         ax.text(value+dx, i,     f'{value:,.0f}',  size=14, ha='left',  va='center')\n",
    "#     ax.text(1, 0.4, current_day, transform=ax.transAxes, color='#777777', size=46, ha='right', weight=800)\n",
    "#     ax.text(0, 1.06, 'Population (thousands)', transform=ax.transAxes, size=12, color='#777777')\n",
    "#     ax.xaxis.set_major_formatter(ticker.StrMethodFormatter('{x:,.0f}'))\n",
    "#     ax.xaxis.set_ticks_position('top')\n",
    "#     ax.tick_params(axis='x', colors='#777777', labelsize=12)\n",
    "#     ax.set_yticks([])\n",
    "#     ax.margins(0, 0.01)\n",
    "#     ax.grid(which='major', axis='x', linestyle='-')\n",
    "#     ax.set_axisbelow(True)\n",
    "    \n",
    "#     ax.text(0, 1.15, 'Coronavirus',\n",
    "#             transform=ax.transAxes, size=24, weight=600, ha='left', va='top')\n",
    "# #     ax.text(1, 0, 'by @pratapvardhan; credit @jburnmurdoch', transform=ax.transAxes, color='#777777', ha='right',\n",
    "# #             bbox=dict(facecolor='white', alpha=0.8, edgecolor='white'))\n",
    "#     plt.box(False)"
   ]
  },
  {
   "cell_type": "code",
   "execution_count": 42,
   "id": "sexual-wages",
   "metadata": {
    "execution": {
     "iopub.execute_input": "2021-02-14T12:07:15.688242Z",
     "iopub.status.busy": "2021-02-14T12:07:15.687469Z",
     "iopub.status.idle": "2021-02-14T12:07:15.689308Z",
     "shell.execute_reply": "2021-02-14T12:07:15.688809Z"
    },
    "papermill": {
     "duration": 0.044177,
     "end_time": "2021-02-14T12:07:15.689440",
     "exception": false,
     "start_time": "2021-02-14T12:07:15.645263",
     "status": "completed"
    },
    "tags": []
   },
   "outputs": [],
   "source": [
    "# #hide_input\n",
    "# fig, ax = plt.subplots(figsize=(15, 8))\n",
    "# animator = animation.FuncAnimation(fig, draw_barchart, frames=range(g.day.values.min(), g.day.values.max()))\n",
    "# HTML(animator.to_jshtml())\n",
    "# # or use animator.to_html5_video() or animator.save() "
   ]
  },
  {
   "cell_type": "code",
   "execution_count": null,
   "id": "australian-container",
   "metadata": {
    "papermill": {
     "duration": 0.038381,
     "end_time": "2021-02-14T12:07:15.763059",
     "exception": false,
     "start_time": "2021-02-14T12:07:15.724678",
     "status": "completed"
    },
    "tags": []
   },
   "outputs": [],
   "source": []
  },
  {
   "cell_type": "code",
   "execution_count": null,
   "id": "mediterranean-pontiac",
   "metadata": {
    "papermill": {
     "duration": 0.035901,
     "end_time": "2021-02-14T12:07:15.833924",
     "exception": false,
     "start_time": "2021-02-14T12:07:15.798023",
     "status": "completed"
    },
    "tags": []
   },
   "outputs": [],
   "source": []
  },
  {
   "cell_type": "code",
   "execution_count": null,
   "id": "aging-legislature",
   "metadata": {
    "papermill": {
     "duration": 0.036455,
     "end_time": "2021-02-14T12:07:15.906179",
     "exception": false,
     "start_time": "2021-02-14T12:07:15.869724",
     "status": "completed"
    },
    "tags": []
   },
   "outputs": [],
   "source": []
  }
 ],
 "metadata": {
  "kernelspec": {
   "display_name": "Python 3",
   "language": "python",
   "name": "python3"
  },
  "language_info": {
   "codemirror_mode": {
    "name": "ipython",
    "version": 3
   },
   "file_extension": ".py",
   "mimetype": "text/x-python",
   "name": "python",
   "nbconvert_exporter": "python",
   "pygments_lexer": "ipython3",
   "version": "3.6.12"
  },
  "papermill": {
   "duration": 7.733865,
   "end_time": "2021-02-14T12:07:16.349346",
   "environment_variables": {},
   "exception": null,
   "input_path": "2020-03-21-covid19exp.ipynb",
   "output_path": "2020-03-21-covid19exp.ipynb",
   "parameters": {},
   "start_time": "2021-02-14T12:07:08.615481",
   "version": "2.0.0"
  }
 },
 "nbformat": 4,
 "nbformat_minor": 5
}