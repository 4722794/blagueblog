{
 "cells": [
  {
   "cell_type": "markdown",
   "id": "muslim-click",
   "metadata": {
    "papermill": {
     "duration": 0.040341,
     "end_time": "2021-07-13T00:19:12.447190",
     "exception": false,
     "start_time": "2021-07-13T00:19:12.406849",
     "status": "completed"
    },
    "tags": []
   },
   "source": [
    "# COVID-19 Case Race\n",
    "> A race chart to see rising cases around the world\n",
    "\n",
    "- author: Hargun Oberoi\n",
    "- image: images/covid-overview.png\n",
    "- hide: false\n",
    "- badges: false"
   ]
  },
  {
   "cell_type": "code",
   "execution_count": 1,
   "id": "proof-material",
   "metadata": {
    "execution": {
     "iopub.execute_input": "2021-07-13T00:19:12.528943Z",
     "iopub.status.busy": "2021-07-13T00:19:12.528269Z",
     "iopub.status.idle": "2021-07-13T00:19:12.881548Z",
     "shell.execute_reply": "2021-07-13T00:19:12.880987Z"
    },
    "papermill": {
     "duration": 0.397546,
     "end_time": "2021-07-13T00:19:12.881708",
     "exception": false,
     "start_time": "2021-07-13T00:19:12.484162",
     "status": "completed"
    },
    "tags": []
   },
   "outputs": [],
   "source": [
    "#hide\n",
    "import numpy as np\n",
    "import pandas as pd\n",
    "from jinja2 import Template\n",
    "from IPython.display import HTML"
   ]
  },
  {
   "cell_type": "code",
   "execution_count": 2,
   "id": "developed-terminology",
   "metadata": {
    "execution": {
     "iopub.execute_input": "2021-07-13T00:19:12.961650Z",
     "iopub.status.busy": "2021-07-13T00:19:12.961035Z",
     "iopub.status.idle": "2021-07-13T00:19:12.963359Z",
     "shell.execute_reply": "2021-07-13T00:19:12.962871Z"
    },
    "papermill": {
     "duration": 0.044653,
     "end_time": "2021-07-13T00:19:12.963494",
     "exception": false,
     "start_time": "2021-07-13T00:19:12.918841",
     "status": "completed"
    },
    "tags": []
   },
   "outputs": [],
   "source": [
    "#hide\n",
    "\n",
    "# FETCH\n",
    "base_url = 'https://raw.githubusercontent.com/pratapvardhan/notebooks/master/covid19/'\n",
    "paths = {\n",
    "    'mapping': base_url + 'mapping_countries.csv',\n",
    "    'overview': base_url + 'overview.tpl'\n",
    "}"
   ]
  },
  {
   "cell_type": "code",
   "execution_count": 3,
   "id": "dynamic-saver",
   "metadata": {
    "execution": {
     "iopub.execute_input": "2021-07-13T00:19:13.045857Z",
     "iopub.status.busy": "2021-07-13T00:19:13.045256Z",
     "iopub.status.idle": "2021-07-13T00:19:13.048553Z",
     "shell.execute_reply": "2021-07-13T00:19:13.048048Z"
    },
    "papermill": {
     "duration": 0.049549,
     "end_time": "2021-07-13T00:19:13.048667",
     "exception": false,
     "start_time": "2021-07-13T00:19:12.999118",
     "status": "completed"
    },
    "tags": []
   },
   "outputs": [
    {
     "data": {
      "text/plain": [
       "'https://raw.githubusercontent.com/pratapvardhan/notebooks/master/covid19/mapping_countries.csv'"
      ]
     },
     "execution_count": 3,
     "metadata": {},
     "output_type": "execute_result"
    }
   ],
   "source": [
    "#hide\n",
    "paths['mapping']"
   ]
  },
  {
   "cell_type": "code",
   "execution_count": 4,
   "id": "urban-software",
   "metadata": {
    "execution": {
     "iopub.execute_input": "2021-07-13T00:19:13.124801Z",
     "iopub.status.busy": "2021-07-13T00:19:13.124171Z",
     "iopub.status.idle": "2021-07-13T00:19:13.126767Z",
     "shell.execute_reply": "2021-07-13T00:19:13.126180Z"
    },
    "papermill": {
     "duration": 0.042825,
     "end_time": "2021-07-13T00:19:13.126910",
     "exception": false,
     "start_time": "2021-07-13T00:19:13.084085",
     "status": "completed"
    },
    "tags": []
   },
   "outputs": [],
   "source": [
    "#hide\n",
    "def get_mappings(url):\n",
    "    df = pd.read_csv(url)\n",
    "    return {\n",
    "        'df': df,\n",
    "        'replace.country': dict(df.dropna(subset=['Name']).set_index('Country')['Name']),\n",
    "        'map.continent': dict(df.set_index('Name')['Continent'])\n",
    "    }"
   ]
  },
  {
   "cell_type": "code",
   "execution_count": 5,
   "id": "intimate-machinery",
   "metadata": {
    "execution": {
     "iopub.execute_input": "2021-07-13T00:19:13.199593Z",
     "iopub.status.busy": "2021-07-13T00:19:13.198991Z",
     "iopub.status.idle": "2021-07-13T00:19:13.239730Z",
     "shell.execute_reply": "2021-07-13T00:19:13.239210Z"
    },
    "papermill": {
     "duration": 0.079293,
     "end_time": "2021-07-13T00:19:13.239849",
     "exception": false,
     "start_time": "2021-07-13T00:19:13.160556",
     "status": "completed"
    },
    "tags": []
   },
   "outputs": [],
   "source": [
    "#hide\n",
    "mapping = get_mappings(paths['mapping'])"
   ]
  },
  {
   "cell_type": "code",
   "execution_count": 6,
   "id": "certified-tactics",
   "metadata": {
    "execution": {
     "iopub.execute_input": "2021-07-13T00:19:13.315076Z",
     "iopub.status.busy": "2021-07-13T00:19:13.314476Z",
     "iopub.status.idle": "2021-07-13T00:19:13.316877Z",
     "shell.execute_reply": "2021-07-13T00:19:13.316373Z"
    },
    "papermill": {
     "duration": 0.042395,
     "end_time": "2021-07-13T00:19:13.316984",
     "exception": false,
     "start_time": "2021-07-13T00:19:13.274589",
     "status": "completed"
    },
    "tags": []
   },
   "outputs": [],
   "source": [
    "#hide\n",
    "def get_template(path):\n",
    "    from urllib.parse import urlparse\n",
    "    if bool(urlparse(path).netloc):\n",
    "        from urllib.request import urlopen\n",
    "        return urlopen(path).read().decode('utf8')\n",
    "    return open(path).read()"
   ]
  },
  {
   "cell_type": "code",
   "execution_count": 7,
   "id": "realistic-blast",
   "metadata": {
    "execution": {
     "iopub.execute_input": "2021-07-13T00:19:13.392585Z",
     "iopub.status.busy": "2021-07-13T00:19:13.391879Z",
     "iopub.status.idle": "2021-07-13T00:19:13.394845Z",
     "shell.execute_reply": "2021-07-13T00:19:13.394304Z"
    },
    "papermill": {
     "duration": 0.040789,
     "end_time": "2021-07-13T00:19:13.394953",
     "exception": false,
     "start_time": "2021-07-13T00:19:13.354164",
     "status": "completed"
    },
    "tags": []
   },
   "outputs": [],
   "source": [
    "#hide\n",
    "def get_frame(name):\n",
    "    url = (\n",
    "        'https://raw.githubusercontent.com/CSSEGISandData/COVID-19/master/csse_covid_19_data/'\n",
    "        f'csse_covid_19_time_series/time_series_covid19_{name}_global.csv')\n",
    "    df = pd.read_csv(url)\n",
    "    # rename countries\n",
    "    df['Country/Region'] = df['Country/Region'].replace(mapping['replace.country'])\n",
    "    return df"
   ]
  },
  {
   "cell_type": "code",
   "execution_count": 8,
   "id": "affiliated-characterization",
   "metadata": {
    "execution": {
     "iopub.execute_input": "2021-07-13T00:19:13.469143Z",
     "iopub.status.busy": "2021-07-13T00:19:13.468564Z",
     "iopub.status.idle": "2021-07-13T00:19:13.470768Z",
     "shell.execute_reply": "2021-07-13T00:19:13.470280Z"
    },
    "papermill": {
     "duration": 0.041415,
     "end_time": "2021-07-13T00:19:13.470874",
     "exception": false,
     "start_time": "2021-07-13T00:19:13.429459",
     "status": "completed"
    },
    "tags": []
   },
   "outputs": [],
   "source": [
    "#hide\n",
    "def get_dates(df):\n",
    "    dt_cols = df.columns[~df.columns.isin(['Province/State', 'Country/Region', 'Lat', 'Long'])]\n",
    "    LAST_DATE_I = -1\n",
    "    # sometimes last column may be empty, then go backwards\n",
    "    for i in range(-1, -len(dt_cols), -1):\n",
    "        if not df[dt_cols[i]].fillna(0).eq(0).all():\n",
    "            LAST_DATE_I = i\n",
    "            break\n",
    "    return LAST_DATE_I, dt_cols"
   ]
  },
  {
   "cell_type": "code",
   "execution_count": 9,
   "id": "recent-optimization",
   "metadata": {
    "execution": {
     "iopub.execute_input": "2021-07-13T00:19:13.544049Z",
     "iopub.status.busy": "2021-07-13T00:19:13.543465Z",
     "iopub.status.idle": "2021-07-13T00:19:13.921772Z",
     "shell.execute_reply": "2021-07-13T00:19:13.922277Z"
    },
    "papermill": {
     "duration": 0.416767,
     "end_time": "2021-07-13T00:19:13.922447",
     "exception": false,
     "start_time": "2021-07-13T00:19:13.505680",
     "status": "completed"
    },
    "tags": []
   },
   "outputs": [],
   "source": [
    "#hide\n",
    "COL_REGION = 'Country/Region'\n",
    "# Confirmed, Recovered, Deaths\n",
    "df = get_frame('confirmed')\n",
    "# dft_: timeseries, dfc_: today country agg\n",
    "dft_cases = df\n",
    "dft_deaths = get_frame('deaths')\n",
    "dft_recovered = get_frame('recovered')\n",
    "LAST_DATE_I, dt_cols = get_dates(df)"
   ]
  },
  {
   "cell_type": "code",
   "execution_count": 10,
   "id": "absolute-copper",
   "metadata": {
    "execution": {
     "iopub.execute_input": "2021-07-13T00:19:14.006824Z",
     "iopub.status.busy": "2021-07-13T00:19:14.005577Z",
     "iopub.status.idle": "2021-07-13T00:19:14.007546Z",
     "shell.execute_reply": "2021-07-13T00:19:14.008089Z"
    },
    "papermill": {
     "duration": 0.048322,
     "end_time": "2021-07-13T00:19:14.008231",
     "exception": false,
     "start_time": "2021-07-13T00:19:13.959909",
     "status": "completed"
    },
    "tags": []
   },
   "outputs": [],
   "source": [
    "#hide\n",
    "LAST_DATE_I, dt_cols = get_dates(df)\n",
    "dt_today =dt_cols[LAST_DATE_I]\n",
    "# dt_5day = dt_cols[LAST_DATE_I - 5]\n",
    "dt_yday = dt_cols[LAST_DATE_I - 1]"
   ]
  },
  {
   "cell_type": "code",
   "execution_count": 11,
   "id": "restricted-sheriff",
   "metadata": {
    "execution": {
     "iopub.execute_input": "2021-07-13T00:19:14.082419Z",
     "iopub.status.busy": "2021-07-13T00:19:14.081827Z",
     "iopub.status.idle": "2021-07-13T00:19:14.090024Z",
     "shell.execute_reply": "2021-07-13T00:19:14.089546Z"
    },
    "papermill": {
     "duration": 0.04627,
     "end_time": "2021-07-13T00:19:14.090131",
     "exception": false,
     "start_time": "2021-07-13T00:19:14.043861",
     "status": "completed"
    },
    "tags": []
   },
   "outputs": [],
   "source": [
    "#hide\n",
    "dfc_cases = dft_cases.groupby(COL_REGION)[dt_today].sum()\n",
    "dfc_deaths = dft_deaths.groupby(COL_REGION)[dt_today].sum()\n",
    "# dfp_cases = dft_cases.groupby(COL_REGION)[dt_5day].sum()\n",
    "# dfp_deaths = dft_deaths.groupby(COL_REGION)[dt_5day].sum()\n",
    "dfp_cases = dft_cases.groupby(COL_REGION)[dt_yday].sum()\n",
    "dfp_deaths = dft_deaths.groupby(COL_REGION)[dt_yday].sum()"
   ]
  },
  {
   "cell_type": "code",
   "execution_count": 12,
   "id": "deluxe-hepatitis",
   "metadata": {
    "execution": {
     "iopub.execute_input": "2021-07-13T00:19:14.163047Z",
     "iopub.status.busy": "2021-07-13T00:19:14.162467Z",
     "iopub.status.idle": "2021-07-13T00:19:14.167042Z",
     "shell.execute_reply": "2021-07-13T00:19:14.167599Z"
    },
    "papermill": {
     "duration": 0.043068,
     "end_time": "2021-07-13T00:19:14.167717",
     "exception": false,
     "start_time": "2021-07-13T00:19:14.124649",
     "status": "completed"
    },
    "tags": []
   },
   "outputs": [],
   "source": [
    "#hide\n",
    "df_table = (pd.DataFrame(dict(Cases = dfc_cases, Deaths = dfc_deaths, PCases = dfp_cases, PDeaths = dfp_deaths))\n",
    "            .sort_values(by = ['Cases','Deaths'], ascending = [False, False])\n",
    "            .reset_index())"
   ]
  },
  {
   "cell_type": "code",
   "execution_count": 13,
   "id": "educational-chancellor",
   "metadata": {
    "execution": {
     "iopub.execute_input": "2021-07-13T00:19:14.253657Z",
     "iopub.status.busy": "2021-07-13T00:19:14.253094Z",
     "iopub.status.idle": "2021-07-13T00:19:14.260979Z",
     "shell.execute_reply": "2021-07-13T00:19:14.261518Z"
    },
    "papermill": {
     "duration": 0.060013,
     "end_time": "2021-07-13T00:19:14.261635",
     "exception": false,
     "start_time": "2021-07-13T00:19:14.201622",
     "status": "completed"
    },
    "tags": []
   },
   "outputs": [
    {
     "data": {
      "text/html": [
       "<div>\n",
       "<style scoped>\n",
       "    .dataframe tbody tr th:only-of-type {\n",
       "        vertical-align: middle;\n",
       "    }\n",
       "\n",
       "    .dataframe tbody tr th {\n",
       "        vertical-align: top;\n",
       "    }\n",
       "\n",
       "    .dataframe thead th {\n",
       "        text-align: right;\n",
       "    }\n",
       "</style>\n",
       "<table border=\"1\" class=\"dataframe\">\n",
       "  <thead>\n",
       "    <tr style=\"text-align: right;\">\n",
       "      <th></th>\n",
       "      <th>Country/Region</th>\n",
       "      <th>Cases</th>\n",
       "      <th>Deaths</th>\n",
       "      <th>PCases</th>\n",
       "      <th>PDeaths</th>\n",
       "      <th>Cases (+)</th>\n",
       "      <th>Deaths (+)</th>\n",
       "      <th>Fatality Rate</th>\n",
       "      <th>Continent</th>\n",
       "    </tr>\n",
       "  </thead>\n",
       "  <tbody>\n",
       "    <tr>\n",
       "      <th>0</th>\n",
       "      <td>US</td>\n",
       "      <td>33853948</td>\n",
       "      <td>607156</td>\n",
       "      <td>33847784</td>\n",
       "      <td>607132</td>\n",
       "      <td>6164</td>\n",
       "      <td>24</td>\n",
       "      <td>1.79</td>\n",
       "      <td>North America</td>\n",
       "    </tr>\n",
       "    <tr>\n",
       "      <th>1</th>\n",
       "      <td>India</td>\n",
       "      <td>30874376</td>\n",
       "      <td>408764</td>\n",
       "      <td>30837222</td>\n",
       "      <td>408040</td>\n",
       "      <td>37154</td>\n",
       "      <td>724</td>\n",
       "      <td>1.32</td>\n",
       "      <td>Asia</td>\n",
       "    </tr>\n",
       "    <tr>\n",
       "      <th>2</th>\n",
       "      <td>Brazil</td>\n",
       "      <td>19089940</td>\n",
       "      <td>533488</td>\n",
       "      <td>19069003</td>\n",
       "      <td>532893</td>\n",
       "      <td>20937</td>\n",
       "      <td>595</td>\n",
       "      <td>2.79</td>\n",
       "      <td>South America</td>\n",
       "    </tr>\n",
       "    <tr>\n",
       "      <th>3</th>\n",
       "      <td>France</td>\n",
       "      <td>5874719</td>\n",
       "      <td>111515</td>\n",
       "      <td>5870463</td>\n",
       "      <td>111511</td>\n",
       "      <td>4256</td>\n",
       "      <td>4</td>\n",
       "      <td>1.90</td>\n",
       "      <td>Europe</td>\n",
       "    </tr>\n",
       "    <tr>\n",
       "      <th>4</th>\n",
       "      <td>Russia</td>\n",
       "      <td>5713351</td>\n",
       "      <td>140635</td>\n",
       "      <td>5688807</td>\n",
       "      <td>139896</td>\n",
       "      <td>24544</td>\n",
       "      <td>739</td>\n",
       "      <td>2.46</td>\n",
       "      <td>Europe</td>\n",
       "    </tr>\n",
       "  </tbody>\n",
       "</table>\n",
       "</div>"
      ],
      "text/plain": [
       "  Country/Region     Cases  Deaths    PCases  PDeaths  Cases (+)  Deaths (+)  \\\n",
       "0             US  33853948  607156  33847784   607132       6164          24   \n",
       "1          India  30874376  408764  30837222   408040      37154         724   \n",
       "2         Brazil  19089940  533488  19069003   532893      20937         595   \n",
       "3         France   5874719  111515   5870463   111511       4256           4   \n",
       "4         Russia   5713351  140635   5688807   139896      24544         739   \n",
       "\n",
       "   Fatality Rate      Continent  \n",
       "0           1.79  North America  \n",
       "1           1.32           Asia  \n",
       "2           2.79  South America  \n",
       "3           1.90         Europe  \n",
       "4           2.46         Europe  "
      ]
     },
     "execution_count": 13,
     "metadata": {},
     "output_type": "execute_result"
    }
   ],
   "source": [
    "#hide\n",
    "for c in 'Cases, Deaths'.split(', '):\n",
    "    df_table[f'{c} (+)'] = (df_table[c] - df_table[f'P{c}']).clip(0)\n",
    "    #Clip ça veut dire, les chiffres negatif sont interdit\n",
    "df_table['Fatality Rate'] = (100* df_table['Deaths']/ df_table['Cases']).round(2)\n",
    "df_table['Continent'] = df_table['Country/Region'].map(mapping['map.continent'])\n",
    "df_table.head(5)"
   ]
  },
  {
   "cell_type": "code",
   "execution_count": 14,
   "id": "aboriginal-bulgaria",
   "metadata": {
    "execution": {
     "iopub.execute_input": "2021-07-13T00:19:14.335794Z",
     "iopub.status.busy": "2021-07-13T00:19:14.335174Z",
     "iopub.status.idle": "2021-07-13T00:19:14.338000Z",
     "shell.execute_reply": "2021-07-13T00:19:14.338482Z"
    },
    "papermill": {
     "duration": 0.042406,
     "end_time": "2021-07-13T00:19:14.338622",
     "exception": false,
     "start_time": "2021-07-13T00:19:14.296216",
     "status": "completed"
    },
    "tags": []
   },
   "outputs": [],
   "source": [
    "#hide\n",
    "#delete problematic countries from table\n",
    "df_table = df_table[~df_table['Country/Region'].isin(['Cape Verde', 'Cruise Ship', 'Kosovo'])]"
   ]
  },
  {
   "cell_type": "code",
   "execution_count": 15,
   "id": "fantastic-effect",
   "metadata": {
    "execution": {
     "iopub.execute_input": "2021-07-13T00:19:14.413069Z",
     "iopub.status.busy": "2021-07-13T00:19:14.412486Z",
     "iopub.status.idle": "2021-07-13T00:19:14.432660Z",
     "shell.execute_reply": "2021-07-13T00:19:14.433150Z"
    },
    "papermill": {
     "duration": 0.060534,
     "end_time": "2021-07-13T00:19:14.433266",
     "exception": false,
     "start_time": "2021-07-13T00:19:14.372732",
     "status": "completed"
    },
    "tags": []
   },
   "outputs": [
    {
     "data": {
      "text/html": [
       "<div>\n",
       "<style scoped>\n",
       "    .dataframe tbody tr th:only-of-type {\n",
       "        vertical-align: middle;\n",
       "    }\n",
       "\n",
       "    .dataframe tbody tr th {\n",
       "        vertical-align: top;\n",
       "    }\n",
       "\n",
       "    .dataframe thead th {\n",
       "        text-align: right;\n",
       "    }\n",
       "</style>\n",
       "<table border=\"1\" class=\"dataframe\">\n",
       "  <thead>\n",
       "    <tr style=\"text-align: right;\">\n",
       "      <th></th>\n",
       "      <th>Country/Region</th>\n",
       "      <th>Cases</th>\n",
       "      <th>Deaths</th>\n",
       "      <th>PCases</th>\n",
       "      <th>PDeaths</th>\n",
       "      <th>Cases (+)</th>\n",
       "      <th>Deaths (+)</th>\n",
       "      <th>Fatality Rate</th>\n",
       "      <th>Continent</th>\n",
       "    </tr>\n",
       "  </thead>\n",
       "  <tbody>\n",
       "    <tr>\n",
       "      <th>0</th>\n",
       "      <td>US</td>\n",
       "      <td>33853948</td>\n",
       "      <td>607156</td>\n",
       "      <td>33847784</td>\n",
       "      <td>607132</td>\n",
       "      <td>6164</td>\n",
       "      <td>24</td>\n",
       "      <td>1.8</td>\n",
       "      <td>North America</td>\n",
       "    </tr>\n",
       "    <tr>\n",
       "      <th>1</th>\n",
       "      <td>India</td>\n",
       "      <td>30874376</td>\n",
       "      <td>408764</td>\n",
       "      <td>30837222</td>\n",
       "      <td>408040</td>\n",
       "      <td>37154</td>\n",
       "      <td>724</td>\n",
       "      <td>1.3</td>\n",
       "      <td>Asia</td>\n",
       "    </tr>\n",
       "    <tr>\n",
       "      <th>2</th>\n",
       "      <td>Brazil</td>\n",
       "      <td>19089940</td>\n",
       "      <td>533488</td>\n",
       "      <td>19069003</td>\n",
       "      <td>532893</td>\n",
       "      <td>20937</td>\n",
       "      <td>595</td>\n",
       "      <td>2.8</td>\n",
       "      <td>South America</td>\n",
       "    </tr>\n",
       "    <tr>\n",
       "      <th>3</th>\n",
       "      <td>France</td>\n",
       "      <td>5874719</td>\n",
       "      <td>111515</td>\n",
       "      <td>5870463</td>\n",
       "      <td>111511</td>\n",
       "      <td>4256</td>\n",
       "      <td>4</td>\n",
       "      <td>1.9</td>\n",
       "      <td>Europe</td>\n",
       "    </tr>\n",
       "    <tr>\n",
       "      <th>4</th>\n",
       "      <td>Russia</td>\n",
       "      <td>5713351</td>\n",
       "      <td>140635</td>\n",
       "      <td>5688807</td>\n",
       "      <td>139896</td>\n",
       "      <td>24544</td>\n",
       "      <td>739</td>\n",
       "      <td>2.5</td>\n",
       "      <td>Europe</td>\n",
       "    </tr>\n",
       "  </tbody>\n",
       "</table>\n",
       "</div>"
      ],
      "text/plain": [
       "  Country/Region     Cases  Deaths    PCases  PDeaths  Cases (+)  Deaths (+)  \\\n",
       "0             US  33853948  607156  33847784   607132       6164          24   \n",
       "1          India  30874376  408764  30837222   408040      37154         724   \n",
       "2         Brazil  19089940  533488  19069003   532893      20937         595   \n",
       "3         France   5874719  111515   5870463   111511       4256           4   \n",
       "4         Russia   5713351  140635   5688807   139896      24544         739   \n",
       "\n",
       "   Fatality Rate      Continent  \n",
       "0            1.8  North America  \n",
       "1            1.3           Asia  \n",
       "2            2.8  South America  \n",
       "3            1.9         Europe  \n",
       "4            2.5         Europe  "
      ]
     },
     "execution_count": 15,
     "metadata": {},
     "output_type": "execute_result"
    }
   ],
   "source": [
    "#hide\n",
    "df_table = (pd.DataFrame(dict(Cases=dfc_cases, Deaths=dfc_deaths, PCases=dfp_cases, PDeaths=dfp_deaths))\n",
    "             .sort_values(by=['Cases', 'Deaths'], ascending=[False, False])\n",
    "             .reset_index())\n",
    "df_table.rename(columns={'index': 'Country/Region'}, inplace=True)\n",
    "for c in 'Cases, Deaths'.split(', '):\n",
    "    df_table[f'{c} (+)'] = (df_table[c] - df_table[f'P{c}']).clip(0)  # DATA BUG\n",
    "df_table['Fatality Rate'] = (100 * df_table['Deaths'] / df_table['Cases']).round(1)\n",
    "df_table['Continent'] = df_table['Country/Region'].map(mapping['map.continent'])\n",
    "df_table.head(5)"
   ]
  },
  {
   "cell_type": "code",
   "execution_count": 16,
   "id": "fewer-occasion",
   "metadata": {
    "execution": {
     "iopub.execute_input": "2021-07-13T00:19:14.508737Z",
     "iopub.status.busy": "2021-07-13T00:19:14.507934Z",
     "iopub.status.idle": "2021-07-13T00:19:14.510209Z",
     "shell.execute_reply": "2021-07-13T00:19:14.510661Z"
    },
    "papermill": {
     "duration": 0.042438,
     "end_time": "2021-07-13T00:19:14.510782",
     "exception": false,
     "start_time": "2021-07-13T00:19:14.468344",
     "status": "completed"
    },
    "tags": []
   },
   "outputs": [],
   "source": [
    "#hide\n",
    "#delete problematic countries from table\n",
    "df_table = df_table[~df_table['Country/Region'].isin(['Cape Verde', 'Cruise Ship', 'Kosovo'])]"
   ]
  },
  {
   "cell_type": "code",
   "execution_count": 17,
   "id": "related-center",
   "metadata": {
    "execution": {
     "iopub.execute_input": "2021-07-13T00:19:14.589549Z",
     "iopub.status.busy": "2021-07-13T00:19:14.588770Z",
     "iopub.status.idle": "2021-07-13T00:19:14.599237Z",
     "shell.execute_reply": "2021-07-13T00:19:14.599828Z"
    },
    "papermill": {
     "duration": 0.05535,
     "end_time": "2021-07-13T00:19:14.599960",
     "exception": false,
     "start_time": "2021-07-13T00:19:14.544610",
     "status": "completed"
    },
    "tags": []
   },
   "outputs": [],
   "source": [
    "#hide\n",
    "metrics = [df_table.columns[index] for index in [1,2,5,6]]\n",
    "# s_china = df_table[df_table['Country/Region'].eq('China')][metrics].sum().add_prefix('China ')\n",
    "s_us = df_table[df_table['Country/Region'].eq('US')][metrics].sum().add_prefix('US ')\n",
    "s_eu = df_table[df_table['Continent'].eq('Europe')][metrics].sum().add_prefix('EU ')\n",
    "s_ind = df_table[df_table['Country/Region'].eq('India')][metrics].sum().add_prefix('India ')\n",
    "summary = {'updated': pd.to_datetime(dt_today), 'since': pd.to_datetime(dt_yday)}\n",
    "summary = {'updated': pd.to_datetime(dt_today), 'since': pd.to_datetime(dt_yday)}\n",
    "summary = {**summary, **df_table[metrics].sum(), **s_ind, **s_us, **s_eu}"
   ]
  },
  {
   "cell_type": "code",
   "execution_count": 18,
   "id": "engaging-syndrome",
   "metadata": {
    "execution": {
     "iopub.execute_input": "2021-07-13T00:19:14.677645Z",
     "iopub.status.busy": "2021-07-13T00:19:14.676480Z",
     "iopub.status.idle": "2021-07-13T00:19:14.688077Z",
     "shell.execute_reply": "2021-07-13T00:19:14.688632Z"
    },
    "papermill": {
     "duration": 0.053168,
     "end_time": "2021-07-13T00:19:14.688795",
     "exception": false,
     "start_time": "2021-07-13T00:19:14.635627",
     "status": "completed"
    },
    "tags": []
   },
   "outputs": [],
   "source": [
    "#hide\n",
    "dft_ct_new_cases = dft_cases.groupby(COL_REGION)[dt_cols].sum().diff(axis=1).fillna(0).astype(int)"
   ]
  },
  {
   "cell_type": "code",
   "execution_count": 19,
   "id": "neutral-assignment",
   "metadata": {
    "execution": {
     "iopub.execute_input": "2021-07-13T00:19:14.763076Z",
     "iopub.status.busy": "2021-07-13T00:19:14.762512Z",
     "iopub.status.idle": "2021-07-13T00:19:14.766615Z",
     "shell.execute_reply": "2021-07-13T00:19:14.767142Z"
    },
    "papermill": {
     "duration": 0.043042,
     "end_time": "2021-07-13T00:19:14.767282",
     "exception": false,
     "start_time": "2021-07-13T00:19:14.724240",
     "status": "completed"
    },
    "tags": []
   },
   "outputs": [],
   "source": [
    "#hide\n",
    "everydaycases = dft_ct_new_cases.cumsum(axis=1)"
   ]
  },
  {
   "cell_type": "code",
   "execution_count": 20,
   "id": "parliamentary-calgary",
   "metadata": {
    "execution": {
     "iopub.execute_input": "2021-07-13T00:19:14.841090Z",
     "iopub.status.busy": "2021-07-13T00:19:14.840404Z",
     "iopub.status.idle": "2021-07-13T00:19:15.425419Z",
     "shell.execute_reply": "2021-07-13T00:19:15.424542Z"
    },
    "papermill": {
     "duration": 0.62356,
     "end_time": "2021-07-13T00:19:15.425564",
     "exception": false,
     "start_time": "2021-07-13T00:19:14.802004",
     "status": "completed"
    },
    "tags": []
   },
   "outputs": [],
   "source": [
    "#hide\n",
    "import pandas as pd\n",
    "import matplotlib.pyplot as plt\n",
    "import matplotlib.ticker as ticker\n",
    "import matplotlib.animation as animation\n",
    "from IPython.display import HTML"
   ]
  },
  {
   "cell_type": "code",
   "execution_count": 21,
   "id": "lasting-extraction",
   "metadata": {
    "execution": {
     "iopub.execute_input": "2021-07-13T00:19:15.512004Z",
     "iopub.status.busy": "2021-07-13T00:19:15.511226Z",
     "iopub.status.idle": "2021-07-13T00:19:15.517170Z",
     "shell.execute_reply": "2021-07-13T00:19:15.516550Z"
    },
    "papermill": {
     "duration": 0.04966,
     "end_time": "2021-07-13T00:19:15.517311",
     "exception": false,
     "start_time": "2021-07-13T00:19:15.467651",
     "status": "completed"
    },
    "tags": []
   },
   "outputs": [],
   "source": [
    "#hide\n",
    "t = everydaycases.stack()"
   ]
  },
  {
   "cell_type": "code",
   "execution_count": 22,
   "id": "premier-sleeve",
   "metadata": {
    "execution": {
     "iopub.execute_input": "2021-07-13T00:19:15.593046Z",
     "iopub.status.busy": "2021-07-13T00:19:15.592330Z",
     "iopub.status.idle": "2021-07-13T00:19:15.599766Z",
     "shell.execute_reply": "2021-07-13T00:19:15.600304Z"
    },
    "papermill": {
     "duration": 0.045802,
     "end_time": "2021-07-13T00:19:15.600428",
     "exception": false,
     "start_time": "2021-07-13T00:19:15.554626",
     "status": "completed"
    },
    "tags": []
   },
   "outputs": [],
   "source": [
    "#hide\n",
    "g = t.reset_index(['Country/Region'])"
   ]
  },
  {
   "cell_type": "code",
   "execution_count": 23,
   "id": "distributed-pittsburgh",
   "metadata": {
    "execution": {
     "iopub.execute_input": "2021-07-13T00:19:15.674759Z",
     "iopub.status.busy": "2021-07-13T00:19:15.673690Z",
     "iopub.status.idle": "2021-07-13T00:19:15.675964Z",
     "shell.execute_reply": "2021-07-13T00:19:15.676525Z"
    },
    "papermill": {
     "duration": 0.040488,
     "end_time": "2021-07-13T00:19:15.676661",
     "exception": false,
     "start_time": "2021-07-13T00:19:15.636173",
     "status": "completed"
    },
    "tags": []
   },
   "outputs": [],
   "source": [
    "#hide\n",
    "g.index.name = 'date'"
   ]
  },
  {
   "cell_type": "code",
   "execution_count": 24,
   "id": "naked-donor",
   "metadata": {
    "execution": {
     "iopub.execute_input": "2021-07-13T00:19:15.750626Z",
     "iopub.status.busy": "2021-07-13T00:19:15.750019Z",
     "iopub.status.idle": "2021-07-13T00:19:15.752001Z",
     "shell.execute_reply": "2021-07-13T00:19:15.752531Z"
    },
    "papermill": {
     "duration": 0.040762,
     "end_time": "2021-07-13T00:19:15.752663",
     "exception": false,
     "start_time": "2021-07-13T00:19:15.711901",
     "status": "completed"
    },
    "tags": []
   },
   "outputs": [],
   "source": [
    "# #hide\n",
    "# g = g.reset_index(['date'])"
   ]
  },
  {
   "cell_type": "code",
   "execution_count": 25,
   "id": "incomplete-mustang",
   "metadata": {
    "execution": {
     "iopub.execute_input": "2021-07-13T00:19:15.829058Z",
     "iopub.status.busy": "2021-07-13T00:19:15.828413Z",
     "iopub.status.idle": "2021-07-13T00:19:15.830420Z",
     "shell.execute_reply": "2021-07-13T00:19:15.830889Z"
    },
    "papermill": {
     "duration": 0.042022,
     "end_time": "2021-07-13T00:19:15.831011",
     "exception": false,
     "start_time": "2021-07-13T00:19:15.788989",
     "status": "completed"
    },
    "tags": []
   },
   "outputs": [],
   "source": [
    "#hide\n",
    "# g.head()"
   ]
  },
  {
   "cell_type": "code",
   "execution_count": 26,
   "id": "specific-kruger",
   "metadata": {
    "execution": {
     "iopub.execute_input": "2021-07-13T00:19:15.908138Z",
     "iopub.status.busy": "2021-07-13T00:19:15.907462Z",
     "iopub.status.idle": "2021-07-13T00:19:15.909147Z",
     "shell.execute_reply": "2021-07-13T00:19:15.909685Z"
    },
    "papermill": {
     "duration": 0.040153,
     "end_time": "2021-07-13T00:19:15.909814",
     "exception": false,
     "start_time": "2021-07-13T00:19:15.869661",
     "status": "completed"
    },
    "tags": []
   },
   "outputs": [],
   "source": [
    "#hide\n",
    "# g.columns = ['date','country','cases']"
   ]
  },
  {
   "cell_type": "code",
   "execution_count": 27,
   "id": "tender-conversion",
   "metadata": {
    "execution": {
     "iopub.execute_input": "2021-07-13T00:19:15.985010Z",
     "iopub.status.busy": "2021-07-13T00:19:15.984418Z",
     "iopub.status.idle": "2021-07-13T00:19:15.986368Z",
     "shell.execute_reply": "2021-07-13T00:19:15.986804Z"
    },
    "papermill": {
     "duration": 0.041705,
     "end_time": "2021-07-13T00:19:15.986926",
     "exception": false,
     "start_time": "2021-07-13T00:19:15.945221",
     "status": "completed"
    },
    "tags": []
   },
   "outputs": [],
   "source": [
    "#hide\n",
    "# g['continent'] = g.country"
   ]
  },
  {
   "cell_type": "code",
   "execution_count": 28,
   "id": "substantial-wilderness",
   "metadata": {
    "execution": {
     "iopub.execute_input": "2021-07-13T00:19:16.064922Z",
     "iopub.status.busy": "2021-07-13T00:19:16.064213Z",
     "iopub.status.idle": "2021-07-13T00:19:16.066187Z",
     "shell.execute_reply": "2021-07-13T00:19:16.066807Z"
    },
    "papermill": {
     "duration": 0.044113,
     "end_time": "2021-07-13T00:19:16.066955",
     "exception": false,
     "start_time": "2021-07-13T00:19:16.022842",
     "status": "completed"
    },
    "tags": []
   },
   "outputs": [],
   "source": [
    "#hide\n",
    "# cols = list(g.columns.values)"
   ]
  },
  {
   "cell_type": "code",
   "execution_count": 29,
   "id": "solved-farming",
   "metadata": {
    "execution": {
     "iopub.execute_input": "2021-07-13T00:19:16.145006Z",
     "iopub.status.busy": "2021-07-13T00:19:16.144359Z",
     "iopub.status.idle": "2021-07-13T00:19:16.146688Z",
     "shell.execute_reply": "2021-07-13T00:19:16.146079Z"
    },
    "papermill": {
     "duration": 0.042877,
     "end_time": "2021-07-13T00:19:16.146808",
     "exception": false,
     "start_time": "2021-07-13T00:19:16.103931",
     "status": "completed"
    },
    "tags": []
   },
   "outputs": [],
   "source": [
    "#hide\n",
    "# cols.insert(0, cols.pop())"
   ]
  },
  {
   "cell_type": "code",
   "execution_count": 30,
   "id": "executed-adoption",
   "metadata": {
    "execution": {
     "iopub.execute_input": "2021-07-13T00:19:16.218724Z",
     "iopub.status.busy": "2021-07-13T00:19:16.218121Z",
     "iopub.status.idle": "2021-07-13T00:19:16.220523Z",
     "shell.execute_reply": "2021-07-13T00:19:16.220041Z"
    },
    "papermill": {
     "duration": 0.038878,
     "end_time": "2021-07-13T00:19:16.220629",
     "exception": false,
     "start_time": "2021-07-13T00:19:16.181751",
     "status": "completed"
    },
    "tags": []
   },
   "outputs": [],
   "source": [
    "#hide\n",
    "# g = g[cols]"
   ]
  },
  {
   "cell_type": "code",
   "execution_count": 31,
   "id": "subject-dublin",
   "metadata": {
    "execution": {
     "iopub.execute_input": "2021-07-13T00:19:16.294992Z",
     "iopub.status.busy": "2021-07-13T00:19:16.294422Z",
     "iopub.status.idle": "2021-07-13T00:19:16.296375Z",
     "shell.execute_reply": "2021-07-13T00:19:16.296919Z"
    },
    "papermill": {
     "duration": 0.041563,
     "end_time": "2021-07-13T00:19:16.297038",
     "exception": false,
     "start_time": "2021-07-13T00:19:16.255475",
     "status": "completed"
    },
    "tags": []
   },
   "outputs": [],
   "source": [
    "#hide\n",
    "# g['continent'] = g['continent'].map(mapping['map.continent'])"
   ]
  },
  {
   "cell_type": "code",
   "execution_count": 32,
   "id": "freelance-scout",
   "metadata": {
    "execution": {
     "iopub.execute_input": "2021-07-13T00:19:16.375182Z",
     "iopub.status.busy": "2021-07-13T00:19:16.373774Z",
     "iopub.status.idle": "2021-07-13T00:19:16.375938Z",
     "shell.execute_reply": "2021-07-13T00:19:16.376457Z"
    },
    "papermill": {
     "duration": 0.043004,
     "end_time": "2021-07-13T00:19:16.376592",
     "exception": false,
     "start_time": "2021-07-13T00:19:16.333588",
     "status": "completed"
    },
    "tags": []
   },
   "outputs": [],
   "source": [
    "#hide\n",
    "# g.head()"
   ]
  },
  {
   "cell_type": "code",
   "execution_count": 33,
   "id": "limited-engine",
   "metadata": {
    "execution": {
     "iopub.execute_input": "2021-07-13T00:19:16.451137Z",
     "iopub.status.busy": "2021-07-13T00:19:16.450565Z",
     "iopub.status.idle": "2021-07-13T00:19:16.452464Z",
     "shell.execute_reply": "2021-07-13T00:19:16.452937Z"
    },
    "papermill": {
     "duration": 0.040811,
     "end_time": "2021-07-13T00:19:16.453065",
     "exception": false,
     "start_time": "2021-07-13T00:19:16.412254",
     "status": "completed"
    },
    "tags": []
   },
   "outputs": [],
   "source": [
    "# hide\n",
    "# g['date'] = g['date'].astype('datetime64[ns]')"
   ]
  },
  {
   "cell_type": "code",
   "execution_count": 34,
   "id": "sophisticated-supervisor",
   "metadata": {
    "execution": {
     "iopub.execute_input": "2021-07-13T00:19:16.528846Z",
     "iopub.status.busy": "2021-07-13T00:19:16.528210Z",
     "iopub.status.idle": "2021-07-13T00:19:16.530049Z",
     "shell.execute_reply": "2021-07-13T00:19:16.530631Z"
    },
    "papermill": {
     "duration": 0.041175,
     "end_time": "2021-07-13T00:19:16.530749",
     "exception": false,
     "start_time": "2021-07-13T00:19:16.489574",
     "status": "completed"
    },
    "tags": []
   },
   "outputs": [],
   "source": [
    "#hide\n",
    "# g['date'] = g.date.dt.dayofyear"
   ]
  },
  {
   "cell_type": "code",
   "execution_count": 35,
   "id": "inside-dubai",
   "metadata": {
    "execution": {
     "iopub.execute_input": "2021-07-13T00:19:16.606482Z",
     "iopub.status.busy": "2021-07-13T00:19:16.605733Z",
     "iopub.status.idle": "2021-07-13T00:19:16.607641Z",
     "shell.execute_reply": "2021-07-13T00:19:16.608188Z"
    },
    "papermill": {
     "duration": 0.043026,
     "end_time": "2021-07-13T00:19:16.608327",
     "exception": false,
     "start_time": "2021-07-13T00:19:16.565301",
     "status": "completed"
    },
    "tags": []
   },
   "outputs": [],
   "source": [
    "#hide\n",
    "# g = g.rename(columns= {'continent':'group','country':'name','cases':'value'})"
   ]
  },
  {
   "cell_type": "code",
   "execution_count": 36,
   "id": "fleet-motorcycle",
   "metadata": {
    "execution": {
     "iopub.execute_input": "2021-07-13T00:19:16.682540Z",
     "iopub.status.busy": "2021-07-13T00:19:16.681924Z",
     "iopub.status.idle": "2021-07-13T00:19:16.683743Z",
     "shell.execute_reply": "2021-07-13T00:19:16.684243Z"
    },
    "papermill": {
     "duration": 0.040284,
     "end_time": "2021-07-13T00:19:16.684366",
     "exception": false,
     "start_time": "2021-07-13T00:19:16.644082",
     "status": "completed"
    },
    "tags": []
   },
   "outputs": [],
   "source": [
    "#hide\n",
    "# cols = ['name','group','day','value']"
   ]
  },
  {
   "cell_type": "code",
   "execution_count": 37,
   "id": "continued-sleeping",
   "metadata": {
    "execution": {
     "iopub.execute_input": "2021-07-13T00:19:16.761026Z",
     "iopub.status.busy": "2021-07-13T00:19:16.760392Z",
     "iopub.status.idle": "2021-07-13T00:19:16.762330Z",
     "shell.execute_reply": "2021-07-13T00:19:16.762827Z"
    },
    "papermill": {
     "duration": 0.040924,
     "end_time": "2021-07-13T00:19:16.762956",
     "exception": false,
     "start_time": "2021-07-13T00:19:16.722032",
     "status": "completed"
    },
    "tags": []
   },
   "outputs": [],
   "source": [
    "#hide\n",
    "# g.rename(columns= {'date':'day'},inplace = True)"
   ]
  },
  {
   "cell_type": "code",
   "execution_count": 38,
   "id": "major-fight",
   "metadata": {
    "execution": {
     "iopub.execute_input": "2021-07-13T00:19:16.839298Z",
     "iopub.status.busy": "2021-07-13T00:19:16.838614Z",
     "iopub.status.idle": "2021-07-13T00:19:16.841220Z",
     "shell.execute_reply": "2021-07-13T00:19:16.841784Z"
    },
    "papermill": {
     "duration": 0.044137,
     "end_time": "2021-07-13T00:19:16.841945",
     "exception": false,
     "start_time": "2021-07-13T00:19:16.797808",
     "status": "completed"
    },
    "tags": []
   },
   "outputs": [],
   "source": [
    "#hide\n",
    "# g = g[cols]"
   ]
  },
  {
   "cell_type": "code",
   "execution_count": 39,
   "id": "structured-mobile",
   "metadata": {
    "execution": {
     "iopub.execute_input": "2021-07-13T00:19:16.916150Z",
     "iopub.status.busy": "2021-07-13T00:19:16.915590Z",
     "iopub.status.idle": "2021-07-13T00:19:16.918234Z",
     "shell.execute_reply": "2021-07-13T00:19:16.917652Z"
    },
    "papermill": {
     "duration": 0.04057,
     "end_time": "2021-07-13T00:19:16.918350",
     "exception": false,
     "start_time": "2021-07-13T00:19:16.877780",
     "status": "completed"
    },
    "tags": []
   },
   "outputs": [],
   "source": [
    "# #hide\n",
    "# g = g[g.group.notna()]"
   ]
  },
  {
   "cell_type": "code",
   "execution_count": 40,
   "id": "determined-closing",
   "metadata": {
    "execution": {
     "iopub.execute_input": "2021-07-13T00:19:16.996028Z",
     "iopub.status.busy": "2021-07-13T00:19:16.995413Z",
     "iopub.status.idle": "2021-07-13T00:19:16.997392Z",
     "shell.execute_reply": "2021-07-13T00:19:16.997880Z"
    },
    "papermill": {
     "duration": 0.043284,
     "end_time": "2021-07-13T00:19:16.998010",
     "exception": false,
     "start_time": "2021-07-13T00:19:16.954726",
     "status": "completed"
    },
    "tags": []
   },
   "outputs": [],
   "source": [
    "# #hide\n",
    "# colors = dict(zip(\n",
    "#     [\"Oceania\", \"Europe\", \"Asia\", \"South America\", \"Middle East\", \"North America\", \"Africa\"],\n",
    "#     [\"#adb0ff\", \"#ffb3ff\", \"#90d595\", \"#e48381\", \"#aafbff\", \"#f7bb5f\", \"#eafb50\"]\n",
    "# ))\n",
    "# group_lk = g.set_index('name')['group'].to_dict()"
   ]
  },
  {
   "cell_type": "code",
   "execution_count": null,
   "id": "gross-drinking",
   "metadata": {
    "papermill": {
     "duration": 0.040056,
     "end_time": "2021-07-13T00:19:17.075553",
     "exception": false,
     "start_time": "2021-07-13T00:19:17.035497",
     "status": "completed"
    },
    "tags": []
   },
   "outputs": [],
   "source": []
  },
  {
   "cell_type": "code",
   "execution_count": 41,
   "id": "subject-macintosh",
   "metadata": {
    "execution": {
     "iopub.execute_input": "2021-07-13T00:19:17.155197Z",
     "iopub.status.busy": "2021-07-13T00:19:17.154569Z",
     "iopub.status.idle": "2021-07-13T00:19:17.156238Z",
     "shell.execute_reply": "2021-07-13T00:19:17.156731Z"
    },
    "papermill": {
     "duration": 0.04199,
     "end_time": "2021-07-13T00:19:17.156865",
     "exception": false,
     "start_time": "2021-07-13T00:19:17.114875",
     "status": "completed"
    },
    "tags": []
   },
   "outputs": [],
   "source": [
    "# #hide\n",
    "# fig, ax = plt.subplots(figsize=(15, 8))\n",
    "\n",
    "# def draw_barchart(current_day):\n",
    "#     dff = g[g['day'].eq(current_day)].sort_values(by='value', ascending=True).tail(10)\n",
    "#     ax.clear()\n",
    "#     ax.barh(dff['name'], dff['value'], color=[colors[group_lk[x]] for x in dff['name']])\n",
    "#     dx = dff['value'].max() / 200\n",
    "    \n",
    "#     for i, (value, name) in enumerate(zip(dff['value'], dff['name'])):\n",
    "#         ax.text(value-dx, i,     name,           size=14, weight=600, ha='right', va='bottom')\n",
    "#         ax.text(value-dx, i-.25, group_lk[name], size=10, color='#444444', ha='right', va='baseline')\n",
    "#         ax.text(value+dx, i,     f'{value:,.0f}',  size=14, ha='left',  va='center')\n",
    "#     ax.text(1, 0.4, current_day, transform=ax.transAxes, color='#777777', size=46, ha='right', weight=800)\n",
    "#     ax.text(0, 1.06, 'Population (thousands)', transform=ax.transAxes, size=12, color='#777777')\n",
    "#     ax.xaxis.set_major_formatter(ticker.StrMethodFormatter('{x:,.0f}'))\n",
    "#     ax.xaxis.set_ticks_position('top')\n",
    "#     ax.tick_params(axis='x', colors='#777777', labelsize=12)\n",
    "#     ax.set_yticks([])\n",
    "#     ax.margins(0, 0.01)\n",
    "#     ax.grid(which='major', axis='x', linestyle='-')\n",
    "#     ax.set_axisbelow(True)\n",
    "    \n",
    "#     ax.text(0, 1.15, 'Coronavirus',\n",
    "#             transform=ax.transAxes, size=24, weight=600, ha='left', va='top')\n",
    "# #     ax.text(1, 0, 'by @pratapvardhan; credit @jburnmurdoch', transform=ax.transAxes, color='#777777', ha='right',\n",
    "# #             bbox=dict(facecolor='white', alpha=0.8, edgecolor='white'))\n",
    "#     plt.box(False)"
   ]
  },
  {
   "cell_type": "code",
   "execution_count": 42,
   "id": "sexual-wages",
   "metadata": {
    "execution": {
     "iopub.execute_input": "2021-07-13T00:19:17.231026Z",
     "iopub.status.busy": "2021-07-13T00:19:17.230462Z",
     "iopub.status.idle": "2021-07-13T00:19:17.232375Z",
     "shell.execute_reply": "2021-07-13T00:19:17.232862Z"
    },
    "papermill": {
     "duration": 0.041489,
     "end_time": "2021-07-13T00:19:17.232978",
     "exception": false,
     "start_time": "2021-07-13T00:19:17.191489",
     "status": "completed"
    },
    "tags": []
   },
   "outputs": [],
   "source": [
    "# #hide_input\n",
    "# fig, ax = plt.subplots(figsize=(15, 8))\n",
    "# animator = animation.FuncAnimation(fig, draw_barchart, frames=range(g.day.values.min(), g.day.values.max()))\n",
    "# HTML(animator.to_jshtml())\n",
    "# # or use animator.to_html5_video() or animator.save() "
   ]
  },
  {
   "cell_type": "code",
   "execution_count": null,
   "id": "australian-container",
   "metadata": {
    "papermill": {
     "duration": 0.034338,
     "end_time": "2021-07-13T00:19:17.301844",
     "exception": false,
     "start_time": "2021-07-13T00:19:17.267506",
     "status": "completed"
    },
    "tags": []
   },
   "outputs": [],
   "source": []
  },
  {
   "cell_type": "code",
   "execution_count": null,
   "id": "mediterranean-pontiac",
   "metadata": {
    "papermill": {
     "duration": 0.035784,
     "end_time": "2021-07-13T00:19:17.373387",
     "exception": false,
     "start_time": "2021-07-13T00:19:17.337603",
     "status": "completed"
    },
    "tags": []
   },
   "outputs": [],
   "source": []
  },
  {
   "cell_type": "code",
   "execution_count": null,
   "id": "aging-legislature",
   "metadata": {
    "papermill": {
     "duration": 0.034928,
     "end_time": "2021-07-13T00:19:17.442638",
     "exception": false,
     "start_time": "2021-07-13T00:19:17.407710",
     "status": "completed"
    },
    "tags": []
   },
   "outputs": [],
   "source": []
  }
 ],
 "metadata": {
  "kernelspec": {
   "display_name": "Python 3",
   "language": "python",
   "name": "python3"
  },
  "language_info": {
   "codemirror_mode": {
    "name": "ipython",
    "version": 3
   },
   "file_extension": ".py",
   "mimetype": "text/x-python",
   "name": "python",
   "nbconvert_exporter": "python",
   "pygments_lexer": "ipython3",
   "version": "3.6.13"
  },
  "papermill": {
   "duration": 7.356747,
   "end_time": "2021-07-13T00:19:18.677894",
   "environment_variables": {},
   "exception": null,
   "input_path": "2020-03-21-covid19exp.ipynb",
   "output_path": "2020-03-21-covid19exp.ipynb",
   "parameters": {},
   "start_time": "2021-07-13T00:19:11.321147",
   "version": "2.0.0"
  }
 },
 "nbformat": 4,
 "nbformat_minor": 5
}