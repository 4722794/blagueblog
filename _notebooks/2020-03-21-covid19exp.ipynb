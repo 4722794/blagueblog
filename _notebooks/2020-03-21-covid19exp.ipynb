{
 "cells": [
  {
   "cell_type": "markdown",
   "id": "muslim-click",
   "metadata": {
    "papermill": {
     "duration": 0.040925,
     "end_time": "2021-05-27T00:34:24.487137",
     "exception": false,
     "start_time": "2021-05-27T00:34:24.446212",
     "status": "completed"
    },
    "tags": []
   },
   "source": [
    "# COVID-19 Case Race\n",
    "> A race chart to see rising cases around the world\n",
    "\n",
    "- author: Hargun Oberoi\n",
    "- image: images/covid-overview.png\n",
    "- hide: false\n",
    "- badges: false"
   ]
  },
  {
   "cell_type": "code",
   "execution_count": 1,
   "id": "proof-material",
   "metadata": {
    "execution": {
     "iopub.execute_input": "2021-05-27T00:34:24.565073Z",
     "iopub.status.busy": "2021-05-27T00:34:24.564488Z",
     "iopub.status.idle": "2021-05-27T00:34:24.931495Z",
     "shell.execute_reply": "2021-05-27T00:34:24.930658Z"
    },
    "papermill": {
     "duration": 0.410323,
     "end_time": "2021-05-27T00:34:24.931723",
     "exception": false,
     "start_time": "2021-05-27T00:34:24.521400",
     "status": "completed"
    },
    "tags": []
   },
   "outputs": [],
   "source": [
    "#hide\n",
    "import numpy as np\n",
    "import pandas as pd\n",
    "from jinja2 import Template\n",
    "from IPython.display import HTML"
   ]
  },
  {
   "cell_type": "code",
   "execution_count": 2,
   "id": "developed-terminology",
   "metadata": {
    "execution": {
     "iopub.execute_input": "2021-05-27T00:34:25.004466Z",
     "iopub.status.busy": "2021-05-27T00:34:25.003884Z",
     "iopub.status.idle": "2021-05-27T00:34:25.006120Z",
     "shell.execute_reply": "2021-05-27T00:34:25.005655Z"
    },
    "papermill": {
     "duration": 0.040246,
     "end_time": "2021-05-27T00:34:25.006234",
     "exception": false,
     "start_time": "2021-05-27T00:34:24.965988",
     "status": "completed"
    },
    "tags": []
   },
   "outputs": [],
   "source": [
    "#hide\n",
    "\n",
    "# FETCH\n",
    "base_url = 'https://raw.githubusercontent.com/pratapvardhan/notebooks/master/covid19/'\n",
    "paths = {\n",
    "    'mapping': base_url + 'mapping_countries.csv',\n",
    "    'overview': base_url + 'overview.tpl'\n",
    "}"
   ]
  },
  {
   "cell_type": "code",
   "execution_count": 3,
   "id": "dynamic-saver",
   "metadata": {
    "execution": {
     "iopub.execute_input": "2021-05-27T00:34:25.084415Z",
     "iopub.status.busy": "2021-05-27T00:34:25.083828Z",
     "iopub.status.idle": "2021-05-27T00:34:25.086754Z",
     "shell.execute_reply": "2021-05-27T00:34:25.087292Z"
    },
    "papermill": {
     "duration": 0.047849,
     "end_time": "2021-05-27T00:34:25.087434",
     "exception": false,
     "start_time": "2021-05-27T00:34:25.039585",
     "status": "completed"
    },
    "tags": []
   },
   "outputs": [
    {
     "data": {
      "text/plain": [
       "'https://raw.githubusercontent.com/pratapvardhan/notebooks/master/covid19/mapping_countries.csv'"
      ]
     },
     "execution_count": 3,
     "metadata": {},
     "output_type": "execute_result"
    }
   ],
   "source": [
    "#hide\n",
    "paths['mapping']"
   ]
  },
  {
   "cell_type": "code",
   "execution_count": 4,
   "id": "urban-software",
   "metadata": {
    "execution": {
     "iopub.execute_input": "2021-05-27T00:34:25.164568Z",
     "iopub.status.busy": "2021-05-27T00:34:25.163570Z",
     "iopub.status.idle": "2021-05-27T00:34:25.165173Z",
     "shell.execute_reply": "2021-05-27T00:34:25.165619Z"
    },
    "papermill": {
     "duration": 0.044295,
     "end_time": "2021-05-27T00:34:25.165757",
     "exception": false,
     "start_time": "2021-05-27T00:34:25.121462",
     "status": "completed"
    },
    "tags": []
   },
   "outputs": [],
   "source": [
    "#hide\n",
    "def get_mappings(url):\n",
    "    df = pd.read_csv(url)\n",
    "    return {\n",
    "        'df': df,\n",
    "        'replace.country': dict(df.dropna(subset=['Name']).set_index('Country')['Name']),\n",
    "        'map.continent': dict(df.set_index('Name')['Continent'])\n",
    "    }"
   ]
  },
  {
   "cell_type": "code",
   "execution_count": 5,
   "id": "intimate-machinery",
   "metadata": {
    "execution": {
     "iopub.execute_input": "2021-05-27T00:34:25.243336Z",
     "iopub.status.busy": "2021-05-27T00:34:25.242716Z",
     "iopub.status.idle": "2021-05-27T00:34:25.274596Z",
     "shell.execute_reply": "2021-05-27T00:34:25.273769Z"
    },
    "papermill": {
     "duration": 0.074806,
     "end_time": "2021-05-27T00:34:25.274762",
     "exception": false,
     "start_time": "2021-05-27T00:34:25.199956",
     "status": "completed"
    },
    "tags": []
   },
   "outputs": [],
   "source": [
    "#hide\n",
    "mapping = get_mappings(paths['mapping'])"
   ]
  },
  {
   "cell_type": "code",
   "execution_count": 6,
   "id": "certified-tactics",
   "metadata": {
    "execution": {
     "iopub.execute_input": "2021-05-27T00:34:25.351962Z",
     "iopub.status.busy": "2021-05-27T00:34:25.351355Z",
     "iopub.status.idle": "2021-05-27T00:34:25.353631Z",
     "shell.execute_reply": "2021-05-27T00:34:25.353142Z"
    },
    "papermill": {
     "duration": 0.043863,
     "end_time": "2021-05-27T00:34:25.353750",
     "exception": false,
     "start_time": "2021-05-27T00:34:25.309887",
     "status": "completed"
    },
    "tags": []
   },
   "outputs": [],
   "source": [
    "#hide\n",
    "def get_template(path):\n",
    "    from urllib.parse import urlparse\n",
    "    if bool(urlparse(path).netloc):\n",
    "        from urllib.request import urlopen\n",
    "        return urlopen(path).read().decode('utf8')\n",
    "    return open(path).read()"
   ]
  },
  {
   "cell_type": "code",
   "execution_count": 7,
   "id": "realistic-blast",
   "metadata": {
    "execution": {
     "iopub.execute_input": "2021-05-27T00:34:25.427449Z",
     "iopub.status.busy": "2021-05-27T00:34:25.426870Z",
     "iopub.status.idle": "2021-05-27T00:34:25.429064Z",
     "shell.execute_reply": "2021-05-27T00:34:25.429554Z"
    },
    "papermill": {
     "duration": 0.041669,
     "end_time": "2021-05-27T00:34:25.429690",
     "exception": false,
     "start_time": "2021-05-27T00:34:25.388021",
     "status": "completed"
    },
    "tags": []
   },
   "outputs": [],
   "source": [
    "#hide\n",
    "def get_frame(name):\n",
    "    url = (\n",
    "        'https://raw.githubusercontent.com/CSSEGISandData/COVID-19/master/csse_covid_19_data/'\n",
    "        f'csse_covid_19_time_series/time_series_covid19_{name}_global.csv')\n",
    "    df = pd.read_csv(url)\n",
    "    # rename countries\n",
    "    df['Country/Region'] = df['Country/Region'].replace(mapping['replace.country'])\n",
    "    return df"
   ]
  },
  {
   "cell_type": "code",
   "execution_count": 8,
   "id": "affiliated-characterization",
   "metadata": {
    "execution": {
     "iopub.execute_input": "2021-05-27T00:34:25.503257Z",
     "iopub.status.busy": "2021-05-27T00:34:25.502659Z",
     "iopub.status.idle": "2021-05-27T00:34:25.505376Z",
     "shell.execute_reply": "2021-05-27T00:34:25.504912Z"
    },
    "papermill": {
     "duration": 0.042289,
     "end_time": "2021-05-27T00:34:25.505494",
     "exception": false,
     "start_time": "2021-05-27T00:34:25.463205",
     "status": "completed"
    },
    "tags": []
   },
   "outputs": [],
   "source": [
    "#hide\n",
    "def get_dates(df):\n",
    "    dt_cols = df.columns[~df.columns.isin(['Province/State', 'Country/Region', 'Lat', 'Long'])]\n",
    "    LAST_DATE_I = -1\n",
    "    # sometimes last column may be empty, then go backwards\n",
    "    for i in range(-1, -len(dt_cols), -1):\n",
    "        if not df[dt_cols[i]].fillna(0).eq(0).all():\n",
    "            LAST_DATE_I = i\n",
    "            break\n",
    "    return LAST_DATE_I, dt_cols"
   ]
  },
  {
   "cell_type": "code",
   "execution_count": 9,
   "id": "recent-optimization",
   "metadata": {
    "execution": {
     "iopub.execute_input": "2021-05-27T00:34:25.577700Z",
     "iopub.status.busy": "2021-05-27T00:34:25.577125Z",
     "iopub.status.idle": "2021-05-27T00:34:25.899008Z",
     "shell.execute_reply": "2021-05-27T00:34:25.898485Z"
    },
    "papermill": {
     "duration": 0.360124,
     "end_time": "2021-05-27T00:34:25.899141",
     "exception": false,
     "start_time": "2021-05-27T00:34:25.539017",
     "status": "completed"
    },
    "tags": []
   },
   "outputs": [],
   "source": [
    "#hide\n",
    "COL_REGION = 'Country/Region'\n",
    "# Confirmed, Recovered, Deaths\n",
    "df = get_frame('confirmed')\n",
    "# dft_: timeseries, dfc_: today country agg\n",
    "dft_cases = df\n",
    "dft_deaths = get_frame('deaths')\n",
    "dft_recovered = get_frame('recovered')\n",
    "LAST_DATE_I, dt_cols = get_dates(df)"
   ]
  },
  {
   "cell_type": "code",
   "execution_count": 10,
   "id": "absolute-copper",
   "metadata": {
    "execution": {
     "iopub.execute_input": "2021-05-27T00:34:25.980183Z",
     "iopub.status.busy": "2021-05-27T00:34:25.979603Z",
     "iopub.status.idle": "2021-05-27T00:34:25.982145Z",
     "shell.execute_reply": "2021-05-27T00:34:25.981653Z"
    },
    "papermill": {
     "duration": 0.045607,
     "end_time": "2021-05-27T00:34:25.982267",
     "exception": false,
     "start_time": "2021-05-27T00:34:25.936660",
     "status": "completed"
    },
    "tags": []
   },
   "outputs": [],
   "source": [
    "#hide\n",
    "LAST_DATE_I, dt_cols = get_dates(df)\n",
    "dt_today =dt_cols[LAST_DATE_I]\n",
    "# dt_5day = dt_cols[LAST_DATE_I - 5]\n",
    "dt_yday = dt_cols[LAST_DATE_I - 1]"
   ]
  },
  {
   "cell_type": "code",
   "execution_count": 11,
   "id": "restricted-sheriff",
   "metadata": {
    "execution": {
     "iopub.execute_input": "2021-05-27T00:34:26.060961Z",
     "iopub.status.busy": "2021-05-27T00:34:26.060370Z",
     "iopub.status.idle": "2021-05-27T00:34:26.068611Z",
     "shell.execute_reply": "2021-05-27T00:34:26.068136Z"
    },
    "papermill": {
     "duration": 0.050924,
     "end_time": "2021-05-27T00:34:26.068739",
     "exception": false,
     "start_time": "2021-05-27T00:34:26.017815",
     "status": "completed"
    },
    "tags": []
   },
   "outputs": [],
   "source": [
    "#hide\n",
    "dfc_cases = dft_cases.groupby(COL_REGION)[dt_today].sum()\n",
    "dfc_deaths = dft_deaths.groupby(COL_REGION)[dt_today].sum()\n",
    "# dfp_cases = dft_cases.groupby(COL_REGION)[dt_5day].sum()\n",
    "# dfp_deaths = dft_deaths.groupby(COL_REGION)[dt_5day].sum()\n",
    "dfp_cases = dft_cases.groupby(COL_REGION)[dt_yday].sum()\n",
    "dfp_deaths = dft_deaths.groupby(COL_REGION)[dt_yday].sum()"
   ]
  },
  {
   "cell_type": "code",
   "execution_count": 12,
   "id": "deluxe-hepatitis",
   "metadata": {
    "execution": {
     "iopub.execute_input": "2021-05-27T00:34:26.148836Z",
     "iopub.status.busy": "2021-05-27T00:34:26.148251Z",
     "iopub.status.idle": "2021-05-27T00:34:26.153872Z",
     "shell.execute_reply": "2021-05-27T00:34:26.154309Z"
    },
    "papermill": {
     "duration": 0.04896,
     "end_time": "2021-05-27T00:34:26.154478",
     "exception": false,
     "start_time": "2021-05-27T00:34:26.105518",
     "status": "completed"
    },
    "tags": []
   },
   "outputs": [],
   "source": [
    "#hide\n",
    "df_table = (pd.DataFrame(dict(Cases = dfc_cases, Deaths = dfc_deaths, PCases = dfp_cases, PDeaths = dfp_deaths))\n",
    "            .sort_values(by = ['Cases','Deaths'], ascending = [False, False])\n",
    "            .reset_index())"
   ]
  },
  {
   "cell_type": "code",
   "execution_count": 13,
   "id": "educational-chancellor",
   "metadata": {
    "execution": {
     "iopub.execute_input": "2021-05-27T00:34:26.241897Z",
     "iopub.status.busy": "2021-05-27T00:34:26.241302Z",
     "iopub.status.idle": "2021-05-27T00:34:26.249685Z",
     "shell.execute_reply": "2021-05-27T00:34:26.249213Z"
    },
    "papermill": {
     "duration": 0.061516,
     "end_time": "2021-05-27T00:34:26.249809",
     "exception": false,
     "start_time": "2021-05-27T00:34:26.188293",
     "status": "completed"
    },
    "tags": []
   },
   "outputs": [
    {
     "data": {
      "text/html": [
       "<div>\n",
       "<style scoped>\n",
       "    .dataframe tbody tr th:only-of-type {\n",
       "        vertical-align: middle;\n",
       "    }\n",
       "\n",
       "    .dataframe tbody tr th {\n",
       "        vertical-align: top;\n",
       "    }\n",
       "\n",
       "    .dataframe thead th {\n",
       "        text-align: right;\n",
       "    }\n",
       "</style>\n",
       "<table border=\"1\" class=\"dataframe\">\n",
       "  <thead>\n",
       "    <tr style=\"text-align: right;\">\n",
       "      <th></th>\n",
       "      <th>Country/Region</th>\n",
       "      <th>Cases</th>\n",
       "      <th>Deaths</th>\n",
       "      <th>PCases</th>\n",
       "      <th>PDeaths</th>\n",
       "      <th>Cases (+)</th>\n",
       "      <th>Deaths (+)</th>\n",
       "      <th>Fatality Rate</th>\n",
       "      <th>Continent</th>\n",
       "    </tr>\n",
       "  </thead>\n",
       "  <tbody>\n",
       "    <tr>\n",
       "      <th>0</th>\n",
       "      <td>US</td>\n",
       "      <td>33166418</td>\n",
       "      <td>590941</td>\n",
       "      <td>33143662</td>\n",
       "      <td>590320</td>\n",
       "      <td>22756</td>\n",
       "      <td>621</td>\n",
       "      <td>1.78</td>\n",
       "      <td>North America</td>\n",
       "    </tr>\n",
       "    <tr>\n",
       "      <th>1</th>\n",
       "      <td>India</td>\n",
       "      <td>27157795</td>\n",
       "      <td>311388</td>\n",
       "      <td>26948874</td>\n",
       "      <td>307231</td>\n",
       "      <td>208921</td>\n",
       "      <td>4157</td>\n",
       "      <td>1.15</td>\n",
       "      <td>Asia</td>\n",
       "    </tr>\n",
       "    <tr>\n",
       "      <th>2</th>\n",
       "      <td>Brazil</td>\n",
       "      <td>16194209</td>\n",
       "      <td>452031</td>\n",
       "      <td>16120756</td>\n",
       "      <td>449858</td>\n",
       "      <td>73453</td>\n",
       "      <td>2173</td>\n",
       "      <td>2.79</td>\n",
       "      <td>South America</td>\n",
       "    </tr>\n",
       "    <tr>\n",
       "      <th>3</th>\n",
       "      <td>France</td>\n",
       "      <td>5670486</td>\n",
       "      <td>109040</td>\n",
       "      <td>5667331</td>\n",
       "      <td>108819</td>\n",
       "      <td>3155</td>\n",
       "      <td>221</td>\n",
       "      <td>1.92</td>\n",
       "      <td>Europe</td>\n",
       "    </tr>\n",
       "    <tr>\n",
       "      <th>4</th>\n",
       "      <td>Turkey</td>\n",
       "      <td>5203385</td>\n",
       "      <td>46621</td>\n",
       "      <td>5194010</td>\n",
       "      <td>46446</td>\n",
       "      <td>9375</td>\n",
       "      <td>175</td>\n",
       "      <td>0.90</td>\n",
       "      <td>Asia</td>\n",
       "    </tr>\n",
       "  </tbody>\n",
       "</table>\n",
       "</div>"
      ],
      "text/plain": [
       "  Country/Region     Cases  Deaths    PCases  PDeaths  Cases (+)  Deaths (+)  \\\n",
       "0             US  33166418  590941  33143662   590320      22756         621   \n",
       "1          India  27157795  311388  26948874   307231     208921        4157   \n",
       "2         Brazil  16194209  452031  16120756   449858      73453        2173   \n",
       "3         France   5670486  109040   5667331   108819       3155         221   \n",
       "4         Turkey   5203385   46621   5194010    46446       9375         175   \n",
       "\n",
       "   Fatality Rate      Continent  \n",
       "0           1.78  North America  \n",
       "1           1.15           Asia  \n",
       "2           2.79  South America  \n",
       "3           1.92         Europe  \n",
       "4           0.90           Asia  "
      ]
     },
     "execution_count": 13,
     "metadata": {},
     "output_type": "execute_result"
    }
   ],
   "source": [
    "#hide\n",
    "for c in 'Cases, Deaths'.split(', '):\n",
    "    df_table[f'{c} (+)'] = (df_table[c] - df_table[f'P{c}']).clip(0)\n",
    "    #Clip ça veut dire, les chiffres negatif sont interdit\n",
    "df_table['Fatality Rate'] = (100* df_table['Deaths']/ df_table['Cases']).round(2)\n",
    "df_table['Continent'] = df_table['Country/Region'].map(mapping['map.continent'])\n",
    "df_table.head(5)"
   ]
  },
  {
   "cell_type": "code",
   "execution_count": 14,
   "id": "aboriginal-bulgaria",
   "metadata": {
    "execution": {
     "iopub.execute_input": "2021-05-27T00:34:26.327530Z",
     "iopub.status.busy": "2021-05-27T00:34:26.326950Z",
     "iopub.status.idle": "2021-05-27T00:34:26.328748Z",
     "shell.execute_reply": "2021-05-27T00:34:26.329182Z"
    },
    "papermill": {
     "duration": 0.045257,
     "end_time": "2021-05-27T00:34:26.329326",
     "exception": false,
     "start_time": "2021-05-27T00:34:26.284069",
     "status": "completed"
    },
    "tags": []
   },
   "outputs": [],
   "source": [
    "#hide\n",
    "#delete problematic countries from table\n",
    "df_table = df_table[~df_table['Country/Region'].isin(['Cape Verde', 'Cruise Ship', 'Kosovo'])]"
   ]
  },
  {
   "cell_type": "code",
   "execution_count": 15,
   "id": "fantastic-effect",
   "metadata": {
    "execution": {
     "iopub.execute_input": "2021-05-27T00:34:26.408638Z",
     "iopub.status.busy": "2021-05-27T00:34:26.408056Z",
     "iopub.status.idle": "2021-05-27T00:34:26.431116Z",
     "shell.execute_reply": "2021-05-27T00:34:26.431756Z"
    },
    "papermill": {
     "duration": 0.06834,
     "end_time": "2021-05-27T00:34:26.431944",
     "exception": false,
     "start_time": "2021-05-27T00:34:26.363604",
     "status": "completed"
    },
    "tags": []
   },
   "outputs": [
    {
     "data": {
      "text/html": [
       "<div>\n",
       "<style scoped>\n",
       "    .dataframe tbody tr th:only-of-type {\n",
       "        vertical-align: middle;\n",
       "    }\n",
       "\n",
       "    .dataframe tbody tr th {\n",
       "        vertical-align: top;\n",
       "    }\n",
       "\n",
       "    .dataframe thead th {\n",
       "        text-align: right;\n",
       "    }\n",
       "</style>\n",
       "<table border=\"1\" class=\"dataframe\">\n",
       "  <thead>\n",
       "    <tr style=\"text-align: right;\">\n",
       "      <th></th>\n",
       "      <th>Country/Region</th>\n",
       "      <th>Cases</th>\n",
       "      <th>Deaths</th>\n",
       "      <th>PCases</th>\n",
       "      <th>PDeaths</th>\n",
       "      <th>Cases (+)</th>\n",
       "      <th>Deaths (+)</th>\n",
       "      <th>Fatality Rate</th>\n",
       "      <th>Continent</th>\n",
       "    </tr>\n",
       "  </thead>\n",
       "  <tbody>\n",
       "    <tr>\n",
       "      <th>0</th>\n",
       "      <td>US</td>\n",
       "      <td>33166418</td>\n",
       "      <td>590941</td>\n",
       "      <td>33143662</td>\n",
       "      <td>590320</td>\n",
       "      <td>22756</td>\n",
       "      <td>621</td>\n",
       "      <td>1.8</td>\n",
       "      <td>North America</td>\n",
       "    </tr>\n",
       "    <tr>\n",
       "      <th>1</th>\n",
       "      <td>India</td>\n",
       "      <td>27157795</td>\n",
       "      <td>311388</td>\n",
       "      <td>26948874</td>\n",
       "      <td>307231</td>\n",
       "      <td>208921</td>\n",
       "      <td>4157</td>\n",
       "      <td>1.1</td>\n",
       "      <td>Asia</td>\n",
       "    </tr>\n",
       "    <tr>\n",
       "      <th>2</th>\n",
       "      <td>Brazil</td>\n",
       "      <td>16194209</td>\n",
       "      <td>452031</td>\n",
       "      <td>16120756</td>\n",
       "      <td>449858</td>\n",
       "      <td>73453</td>\n",
       "      <td>2173</td>\n",
       "      <td>2.8</td>\n",
       "      <td>South America</td>\n",
       "    </tr>\n",
       "    <tr>\n",
       "      <th>3</th>\n",
       "      <td>France</td>\n",
       "      <td>5670486</td>\n",
       "      <td>109040</td>\n",
       "      <td>5667331</td>\n",
       "      <td>108819</td>\n",
       "      <td>3155</td>\n",
       "      <td>221</td>\n",
       "      <td>1.9</td>\n",
       "      <td>Europe</td>\n",
       "    </tr>\n",
       "    <tr>\n",
       "      <th>4</th>\n",
       "      <td>Turkey</td>\n",
       "      <td>5203385</td>\n",
       "      <td>46621</td>\n",
       "      <td>5194010</td>\n",
       "      <td>46446</td>\n",
       "      <td>9375</td>\n",
       "      <td>175</td>\n",
       "      <td>0.9</td>\n",
       "      <td>Asia</td>\n",
       "    </tr>\n",
       "  </tbody>\n",
       "</table>\n",
       "</div>"
      ],
      "text/plain": [
       "  Country/Region     Cases  Deaths    PCases  PDeaths  Cases (+)  Deaths (+)  \\\n",
       "0             US  33166418  590941  33143662   590320      22756         621   \n",
       "1          India  27157795  311388  26948874   307231     208921        4157   \n",
       "2         Brazil  16194209  452031  16120756   449858      73453        2173   \n",
       "3         France   5670486  109040   5667331   108819       3155         221   \n",
       "4         Turkey   5203385   46621   5194010    46446       9375         175   \n",
       "\n",
       "   Fatality Rate      Continent  \n",
       "0            1.8  North America  \n",
       "1            1.1           Asia  \n",
       "2            2.8  South America  \n",
       "3            1.9         Europe  \n",
       "4            0.9           Asia  "
      ]
     },
     "execution_count": 15,
     "metadata": {},
     "output_type": "execute_result"
    }
   ],
   "source": [
    "#hide\n",
    "df_table = (pd.DataFrame(dict(Cases=dfc_cases, Deaths=dfc_deaths, PCases=dfp_cases, PDeaths=dfp_deaths))\n",
    "             .sort_values(by=['Cases', 'Deaths'], ascending=[False, False])\n",
    "             .reset_index())\n",
    "df_table.rename(columns={'index': 'Country/Region'}, inplace=True)\n",
    "for c in 'Cases, Deaths'.split(', '):\n",
    "    df_table[f'{c} (+)'] = (df_table[c] - df_table[f'P{c}']).clip(0)  # DATA BUG\n",
    "df_table['Fatality Rate'] = (100 * df_table['Deaths'] / df_table['Cases']).round(1)\n",
    "df_table['Continent'] = df_table['Country/Region'].map(mapping['map.continent'])\n",
    "df_table.head(5)"
   ]
  },
  {
   "cell_type": "code",
   "execution_count": 16,
   "id": "fewer-occasion",
   "metadata": {
    "execution": {
     "iopub.execute_input": "2021-05-27T00:34:26.509269Z",
     "iopub.status.busy": "2021-05-27T00:34:26.508663Z",
     "iopub.status.idle": "2021-05-27T00:34:26.511007Z",
     "shell.execute_reply": "2021-05-27T00:34:26.510488Z"
    },
    "papermill": {
     "duration": 0.043206,
     "end_time": "2021-05-27T00:34:26.511128",
     "exception": false,
     "start_time": "2021-05-27T00:34:26.467922",
     "status": "completed"
    },
    "tags": []
   },
   "outputs": [],
   "source": [
    "#hide\n",
    "#delete problematic countries from table\n",
    "df_table = df_table[~df_table['Country/Region'].isin(['Cape Verde', 'Cruise Ship', 'Kosovo'])]"
   ]
  },
  {
   "cell_type": "code",
   "execution_count": 17,
   "id": "related-center",
   "metadata": {
    "execution": {
     "iopub.execute_input": "2021-05-27T00:34:26.602020Z",
     "iopub.status.busy": "2021-05-27T00:34:26.601426Z",
     "iopub.status.idle": "2021-05-27T00:34:26.603749Z",
     "shell.execute_reply": "2021-05-27T00:34:26.603262Z"
    },
    "papermill": {
     "duration": 0.058136,
     "end_time": "2021-05-27T00:34:26.603867",
     "exception": false,
     "start_time": "2021-05-27T00:34:26.545731",
     "status": "completed"
    },
    "tags": []
   },
   "outputs": [],
   "source": [
    "#hide\n",
    "metrics = [df_table.columns[index] for index in [1,2,5,6]]\n",
    "# s_china = df_table[df_table['Country/Region'].eq('China')][metrics].sum().add_prefix('China ')\n",
    "s_us = df_table[df_table['Country/Region'].eq('US')][metrics].sum().add_prefix('US ')\n",
    "s_eu = df_table[df_table['Continent'].eq('Europe')][metrics].sum().add_prefix('EU ')\n",
    "s_ind = df_table[df_table['Country/Region'].eq('India')][metrics].sum().add_prefix('India ')\n",
    "summary = {'updated': pd.to_datetime(dt_today), 'since': pd.to_datetime(dt_yday)}\n",
    "summary = {'updated': pd.to_datetime(dt_today), 'since': pd.to_datetime(dt_yday)}\n",
    "summary = {**summary, **df_table[metrics].sum(), **s_ind, **s_us, **s_eu}"
   ]
  },
  {
   "cell_type": "code",
   "execution_count": 18,
   "id": "engaging-syndrome",
   "metadata": {
    "execution": {
     "iopub.execute_input": "2021-05-27T00:34:26.682718Z",
     "iopub.status.busy": "2021-05-27T00:34:26.682110Z",
     "iopub.status.idle": "2021-05-27T00:34:26.695843Z",
     "shell.execute_reply": "2021-05-27T00:34:26.696309Z"
    },
    "papermill": {
     "duration": 0.056057,
     "end_time": "2021-05-27T00:34:26.696462",
     "exception": false,
     "start_time": "2021-05-27T00:34:26.640405",
     "status": "completed"
    },
    "tags": []
   },
   "outputs": [],
   "source": [
    "#hide\n",
    "dft_ct_new_cases = dft_cases.groupby(COL_REGION)[dt_cols].sum().diff(axis=1).fillna(0).astype(int)"
   ]
  },
  {
   "cell_type": "code",
   "execution_count": 19,
   "id": "neutral-assignment",
   "metadata": {
    "execution": {
     "iopub.execute_input": "2021-05-27T00:34:26.776549Z",
     "iopub.status.busy": "2021-05-27T00:34:26.775938Z",
     "iopub.status.idle": "2021-05-27T00:34:26.778409Z",
     "shell.execute_reply": "2021-05-27T00:34:26.779017Z"
    },
    "papermill": {
     "duration": 0.046561,
     "end_time": "2021-05-27T00:34:26.779160",
     "exception": false,
     "start_time": "2021-05-27T00:34:26.732599",
     "status": "completed"
    },
    "tags": []
   },
   "outputs": [],
   "source": [
    "#hide\n",
    "everydaycases = dft_ct_new_cases.cumsum(axis=1)"
   ]
  },
  {
   "cell_type": "code",
   "execution_count": 20,
   "id": "parliamentary-calgary",
   "metadata": {
    "execution": {
     "iopub.execute_input": "2021-05-27T00:34:26.853587Z",
     "iopub.status.busy": "2021-05-27T00:34:26.853004Z",
     "iopub.status.idle": "2021-05-27T00:34:27.426941Z",
     "shell.execute_reply": "2021-05-27T00:34:27.426034Z"
    },
    "papermill": {
     "duration": 0.613743,
     "end_time": "2021-05-27T00:34:27.427162",
     "exception": false,
     "start_time": "2021-05-27T00:34:26.813419",
     "status": "completed"
    },
    "tags": []
   },
   "outputs": [],
   "source": [
    "#hide\n",
    "import pandas as pd\n",
    "import matplotlib.pyplot as plt\n",
    "import matplotlib.ticker as ticker\n",
    "import matplotlib.animation as animation\n",
    "from IPython.display import HTML"
   ]
  },
  {
   "cell_type": "code",
   "execution_count": 21,
   "id": "lasting-extraction",
   "metadata": {
    "execution": {
     "iopub.execute_input": "2021-05-27T00:34:27.506074Z",
     "iopub.status.busy": "2021-05-27T00:34:27.505489Z",
     "iopub.status.idle": "2021-05-27T00:34:27.512325Z",
     "shell.execute_reply": "2021-05-27T00:34:27.512767Z"
    },
    "papermill": {
     "duration": 0.049853,
     "end_time": "2021-05-27T00:34:27.512915",
     "exception": false,
     "start_time": "2021-05-27T00:34:27.463062",
     "status": "completed"
    },
    "tags": []
   },
   "outputs": [],
   "source": [
    "#hide\n",
    "t = everydaycases.stack()"
   ]
  },
  {
   "cell_type": "code",
   "execution_count": 22,
   "id": "premier-sleeve",
   "metadata": {
    "execution": {
     "iopub.execute_input": "2021-05-27T00:34:27.588013Z",
     "iopub.status.busy": "2021-05-27T00:34:27.587438Z",
     "iopub.status.idle": "2021-05-27T00:34:27.595778Z",
     "shell.execute_reply": "2021-05-27T00:34:27.596215Z"
    },
    "papermill": {
     "duration": 0.048372,
     "end_time": "2021-05-27T00:34:27.596360",
     "exception": false,
     "start_time": "2021-05-27T00:34:27.547988",
     "status": "completed"
    },
    "tags": []
   },
   "outputs": [],
   "source": [
    "#hide\n",
    "g = t.reset_index(['Country/Region'])"
   ]
  },
  {
   "cell_type": "code",
   "execution_count": 23,
   "id": "distributed-pittsburgh",
   "metadata": {
    "execution": {
     "iopub.execute_input": "2021-05-27T00:34:27.670975Z",
     "iopub.status.busy": "2021-05-27T00:34:27.670394Z",
     "iopub.status.idle": "2021-05-27T00:34:27.673370Z",
     "shell.execute_reply": "2021-05-27T00:34:27.673916Z"
    },
    "papermill": {
     "duration": 0.043135,
     "end_time": "2021-05-27T00:34:27.674054",
     "exception": false,
     "start_time": "2021-05-27T00:34:27.630919",
     "status": "completed"
    },
    "tags": []
   },
   "outputs": [],
   "source": [
    "#hide\n",
    "g.index.name = 'date'"
   ]
  },
  {
   "cell_type": "code",
   "execution_count": 24,
   "id": "naked-donor",
   "metadata": {
    "execution": {
     "iopub.execute_input": "2021-05-27T00:34:27.748791Z",
     "iopub.status.busy": "2021-05-27T00:34:27.748219Z",
     "iopub.status.idle": "2021-05-27T00:34:27.750328Z",
     "shell.execute_reply": "2021-05-27T00:34:27.750900Z"
    },
    "papermill": {
     "duration": 0.041719,
     "end_time": "2021-05-27T00:34:27.751037",
     "exception": false,
     "start_time": "2021-05-27T00:34:27.709318",
     "status": "completed"
    },
    "tags": []
   },
   "outputs": [],
   "source": [
    "# #hide\n",
    "# g = g.reset_index(['date'])"
   ]
  },
  {
   "cell_type": "code",
   "execution_count": 25,
   "id": "incomplete-mustang",
   "metadata": {
    "execution": {
     "iopub.execute_input": "2021-05-27T00:34:27.825328Z",
     "iopub.status.busy": "2021-05-27T00:34:27.824758Z",
     "iopub.status.idle": "2021-05-27T00:34:27.827801Z",
     "shell.execute_reply": "2021-05-27T00:34:27.827336Z"
    },
    "papermill": {
     "duration": 0.042092,
     "end_time": "2021-05-27T00:34:27.827926",
     "exception": false,
     "start_time": "2021-05-27T00:34:27.785834",
     "status": "completed"
    },
    "tags": []
   },
   "outputs": [],
   "source": [
    "#hide\n",
    "# g.head()"
   ]
  },
  {
   "cell_type": "code",
   "execution_count": 26,
   "id": "specific-kruger",
   "metadata": {
    "execution": {
     "iopub.execute_input": "2021-05-27T00:34:27.902021Z",
     "iopub.status.busy": "2021-05-27T00:34:27.901449Z",
     "iopub.status.idle": "2021-05-27T00:34:27.903709Z",
     "shell.execute_reply": "2021-05-27T00:34:27.903219Z"
    },
    "papermill": {
     "duration": 0.040762,
     "end_time": "2021-05-27T00:34:27.903830",
     "exception": false,
     "start_time": "2021-05-27T00:34:27.863068",
     "status": "completed"
    },
    "tags": []
   },
   "outputs": [],
   "source": [
    "#hide\n",
    "# g.columns = ['date','country','cases']"
   ]
  },
  {
   "cell_type": "code",
   "execution_count": 27,
   "id": "tender-conversion",
   "metadata": {
    "execution": {
     "iopub.execute_input": "2021-05-27T00:34:27.978165Z",
     "iopub.status.busy": "2021-05-27T00:34:27.977579Z",
     "iopub.status.idle": "2021-05-27T00:34:27.980186Z",
     "shell.execute_reply": "2021-05-27T00:34:27.979715Z"
    },
    "papermill": {
     "duration": 0.041351,
     "end_time": "2021-05-27T00:34:27.980311",
     "exception": false,
     "start_time": "2021-05-27T00:34:27.938960",
     "status": "completed"
    },
    "tags": []
   },
   "outputs": [],
   "source": [
    "#hide\n",
    "# g['continent'] = g.country"
   ]
  },
  {
   "cell_type": "code",
   "execution_count": 28,
   "id": "substantial-wilderness",
   "metadata": {
    "execution": {
     "iopub.execute_input": "2021-05-27T00:34:28.054050Z",
     "iopub.status.busy": "2021-05-27T00:34:28.053463Z",
     "iopub.status.idle": "2021-05-27T00:34:28.056019Z",
     "shell.execute_reply": "2021-05-27T00:34:28.055550Z"
    },
    "papermill": {
     "duration": 0.04082,
     "end_time": "2021-05-27T00:34:28.056142",
     "exception": false,
     "start_time": "2021-05-27T00:34:28.015322",
     "status": "completed"
    },
    "tags": []
   },
   "outputs": [],
   "source": [
    "#hide\n",
    "# cols = list(g.columns.values)"
   ]
  },
  {
   "cell_type": "code",
   "execution_count": 29,
   "id": "solved-farming",
   "metadata": {
    "execution": {
     "iopub.execute_input": "2021-05-27T00:34:28.130227Z",
     "iopub.status.busy": "2021-05-27T00:34:28.129654Z",
     "iopub.status.idle": "2021-05-27T00:34:28.131818Z",
     "shell.execute_reply": "2021-05-27T00:34:28.132250Z"
    },
    "papermill": {
     "duration": 0.041648,
     "end_time": "2021-05-27T00:34:28.132390",
     "exception": false,
     "start_time": "2021-05-27T00:34:28.090742",
     "status": "completed"
    },
    "tags": []
   },
   "outputs": [],
   "source": [
    "#hide\n",
    "# cols.insert(0, cols.pop())"
   ]
  },
  {
   "cell_type": "code",
   "execution_count": 30,
   "id": "executed-adoption",
   "metadata": {
    "execution": {
     "iopub.execute_input": "2021-05-27T00:34:28.205585Z",
     "iopub.status.busy": "2021-05-27T00:34:28.205016Z",
     "iopub.status.idle": "2021-05-27T00:34:28.206825Z",
     "shell.execute_reply": "2021-05-27T00:34:28.207260Z"
    },
    "papermill": {
     "duration": 0.040701,
     "end_time": "2021-05-27T00:34:28.207400",
     "exception": false,
     "start_time": "2021-05-27T00:34:28.166699",
     "status": "completed"
    },
    "tags": []
   },
   "outputs": [],
   "source": [
    "#hide\n",
    "# g = g[cols]"
   ]
  },
  {
   "cell_type": "code",
   "execution_count": 31,
   "id": "subject-dublin",
   "metadata": {
    "execution": {
     "iopub.execute_input": "2021-05-27T00:34:28.279903Z",
     "iopub.status.busy": "2021-05-27T00:34:28.279328Z",
     "iopub.status.idle": "2021-05-27T00:34:28.289270Z",
     "shell.execute_reply": "2021-05-27T00:34:28.288769Z"
    },
    "papermill": {
     "duration": 0.047424,
     "end_time": "2021-05-27T00:34:28.289391",
     "exception": false,
     "start_time": "2021-05-27T00:34:28.241967",
     "status": "completed"
    },
    "tags": []
   },
   "outputs": [],
   "source": [
    "#hide\n",
    "# g['continent'] = g['continent'].map(mapping['map.continent'])"
   ]
  },
  {
   "cell_type": "code",
   "execution_count": 32,
   "id": "freelance-scout",
   "metadata": {
    "execution": {
     "iopub.execute_input": "2021-05-27T00:34:28.361930Z",
     "iopub.status.busy": "2021-05-27T00:34:28.361356Z",
     "iopub.status.idle": "2021-05-27T00:34:28.363735Z",
     "shell.execute_reply": "2021-05-27T00:34:28.363274Z"
    },
    "papermill": {
     "duration": 0.040274,
     "end_time": "2021-05-27T00:34:28.363855",
     "exception": false,
     "start_time": "2021-05-27T00:34:28.323581",
     "status": "completed"
    },
    "tags": []
   },
   "outputs": [],
   "source": [
    "#hide\n",
    "# g.head()"
   ]
  },
  {
   "cell_type": "code",
   "execution_count": 33,
   "id": "limited-engine",
   "metadata": {
    "execution": {
     "iopub.execute_input": "2021-05-27T00:34:28.437823Z",
     "iopub.status.busy": "2021-05-27T00:34:28.437238Z",
     "iopub.status.idle": "2021-05-27T00:34:28.439486Z",
     "shell.execute_reply": "2021-05-27T00:34:28.440021Z"
    },
    "papermill": {
     "duration": 0.041742,
     "end_time": "2021-05-27T00:34:28.440164",
     "exception": false,
     "start_time": "2021-05-27T00:34:28.398422",
     "status": "completed"
    },
    "tags": []
   },
   "outputs": [],
   "source": [
    "# hide\n",
    "# g['date'] = g['date'].astype('datetime64[ns]')"
   ]
  },
  {
   "cell_type": "code",
   "execution_count": 34,
   "id": "sophisticated-supervisor",
   "metadata": {
    "execution": {
     "iopub.execute_input": "2021-05-27T00:34:28.514888Z",
     "iopub.status.busy": "2021-05-27T00:34:28.514275Z",
     "iopub.status.idle": "2021-05-27T00:34:28.516517Z",
     "shell.execute_reply": "2021-05-27T00:34:28.516027Z"
    },
    "papermill": {
     "duration": 0.041248,
     "end_time": "2021-05-27T00:34:28.516638",
     "exception": false,
     "start_time": "2021-05-27T00:34:28.475390",
     "status": "completed"
    },
    "tags": []
   },
   "outputs": [],
   "source": [
    "#hide\n",
    "# g['date'] = g.date.dt.dayofyear"
   ]
  },
  {
   "cell_type": "code",
   "execution_count": 35,
   "id": "inside-dubai",
   "metadata": {
    "execution": {
     "iopub.execute_input": "2021-05-27T00:34:28.590197Z",
     "iopub.status.busy": "2021-05-27T00:34:28.589618Z",
     "iopub.status.idle": "2021-05-27T00:34:28.592047Z",
     "shell.execute_reply": "2021-05-27T00:34:28.591577Z"
    },
    "papermill": {
     "duration": 0.040726,
     "end_time": "2021-05-27T00:34:28.592170",
     "exception": false,
     "start_time": "2021-05-27T00:34:28.551444",
     "status": "completed"
    },
    "tags": []
   },
   "outputs": [],
   "source": [
    "#hide\n",
    "# g = g.rename(columns= {'continent':'group','country':'name','cases':'value'})"
   ]
  },
  {
   "cell_type": "code",
   "execution_count": 36,
   "id": "fleet-motorcycle",
   "metadata": {
    "execution": {
     "iopub.execute_input": "2021-05-27T00:34:28.666785Z",
     "iopub.status.busy": "2021-05-27T00:34:28.666178Z",
     "iopub.status.idle": "2021-05-27T00:34:28.668366Z",
     "shell.execute_reply": "2021-05-27T00:34:28.668800Z"
    },
    "papermill": {
     "duration": 0.041764,
     "end_time": "2021-05-27T00:34:28.668945",
     "exception": false,
     "start_time": "2021-05-27T00:34:28.627181",
     "status": "completed"
    },
    "tags": []
   },
   "outputs": [],
   "source": [
    "#hide\n",
    "# cols = ['name','group','day','value']"
   ]
  },
  {
   "cell_type": "code",
   "execution_count": 37,
   "id": "continued-sleeping",
   "metadata": {
    "execution": {
     "iopub.execute_input": "2021-05-27T00:34:28.743580Z",
     "iopub.status.busy": "2021-05-27T00:34:28.742992Z",
     "iopub.status.idle": "2021-05-27T00:34:28.745110Z",
     "shell.execute_reply": "2021-05-27T00:34:28.744544Z"
    },
    "papermill": {
     "duration": 0.040867,
     "end_time": "2021-05-27T00:34:28.745232",
     "exception": false,
     "start_time": "2021-05-27T00:34:28.704365",
     "status": "completed"
    },
    "tags": []
   },
   "outputs": [],
   "source": [
    "#hide\n",
    "# g.rename(columns= {'date':'day'},inplace = True)"
   ]
  },
  {
   "cell_type": "code",
   "execution_count": 38,
   "id": "major-fight",
   "metadata": {
    "execution": {
     "iopub.execute_input": "2021-05-27T00:34:28.820135Z",
     "iopub.status.busy": "2021-05-27T00:34:28.819544Z",
     "iopub.status.idle": "2021-05-27T00:34:28.820719Z",
     "shell.execute_reply": "2021-05-27T00:34:28.821467Z"
    },
    "papermill": {
     "duration": 0.041402,
     "end_time": "2021-05-27T00:34:28.821622",
     "exception": false,
     "start_time": "2021-05-27T00:34:28.780220",
     "status": "completed"
    },
    "tags": []
   },
   "outputs": [],
   "source": [
    "#hide\n",
    "# g = g[cols]"
   ]
  },
  {
   "cell_type": "code",
   "execution_count": 39,
   "id": "structured-mobile",
   "metadata": {
    "execution": {
     "iopub.execute_input": "2021-05-27T00:34:28.900144Z",
     "iopub.status.busy": "2021-05-27T00:34:28.899090Z",
     "iopub.status.idle": "2021-05-27T00:34:28.900999Z",
     "shell.execute_reply": "2021-05-27T00:34:28.901448Z"
    },
    "papermill": {
     "duration": 0.044581,
     "end_time": "2021-05-27T00:34:28.901589",
     "exception": false,
     "start_time": "2021-05-27T00:34:28.857008",
     "status": "completed"
    },
    "tags": []
   },
   "outputs": [],
   "source": [
    "# #hide\n",
    "# g = g[g.group.notna()]"
   ]
  },
  {
   "cell_type": "code",
   "execution_count": 40,
   "id": "determined-closing",
   "metadata": {
    "execution": {
     "iopub.execute_input": "2021-05-27T00:34:28.975821Z",
     "iopub.status.busy": "2021-05-27T00:34:28.975233Z",
     "iopub.status.idle": "2021-05-27T00:34:28.977994Z",
     "shell.execute_reply": "2021-05-27T00:34:28.978579Z"
    },
    "papermill": {
     "duration": 0.041866,
     "end_time": "2021-05-27T00:34:28.978724",
     "exception": false,
     "start_time": "2021-05-27T00:34:28.936858",
     "status": "completed"
    },
    "tags": []
   },
   "outputs": [],
   "source": [
    "# #hide\n",
    "# colors = dict(zip(\n",
    "#     [\"Oceania\", \"Europe\", \"Asia\", \"South America\", \"Middle East\", \"North America\", \"Africa\"],\n",
    "#     [\"#adb0ff\", \"#ffb3ff\", \"#90d595\", \"#e48381\", \"#aafbff\", \"#f7bb5f\", \"#eafb50\"]\n",
    "# ))\n",
    "# group_lk = g.set_index('name')['group'].to_dict()"
   ]
  },
  {
   "cell_type": "code",
   "execution_count": null,
   "id": "gross-drinking",
   "metadata": {
    "papermill": {
     "duration": 0.034561,
     "end_time": "2021-05-27T00:34:29.047618",
     "exception": false,
     "start_time": "2021-05-27T00:34:29.013057",
     "status": "completed"
    },
    "tags": []
   },
   "outputs": [],
   "source": []
  },
  {
   "cell_type": "code",
   "execution_count": 41,
   "id": "subject-macintosh",
   "metadata": {
    "execution": {
     "iopub.execute_input": "2021-05-27T00:34:29.122340Z",
     "iopub.status.busy": "2021-05-27T00:34:29.121746Z",
     "iopub.status.idle": "2021-05-27T00:34:29.123980Z",
     "shell.execute_reply": "2021-05-27T00:34:29.123491Z"
    },
    "papermill": {
     "duration": 0.041453,
     "end_time": "2021-05-27T00:34:29.124099",
     "exception": false,
     "start_time": "2021-05-27T00:34:29.082646",
     "status": "completed"
    },
    "tags": []
   },
   "outputs": [],
   "source": [
    "# #hide\n",
    "# fig, ax = plt.subplots(figsize=(15, 8))\n",
    "\n",
    "# def draw_barchart(current_day):\n",
    "#     dff = g[g['day'].eq(current_day)].sort_values(by='value', ascending=True).tail(10)\n",
    "#     ax.clear()\n",
    "#     ax.barh(dff['name'], dff['value'], color=[colors[group_lk[x]] for x in dff['name']])\n",
    "#     dx = dff['value'].max() / 200\n",
    "    \n",
    "#     for i, (value, name) in enumerate(zip(dff['value'], dff['name'])):\n",
    "#         ax.text(value-dx, i,     name,           size=14, weight=600, ha='right', va='bottom')\n",
    "#         ax.text(value-dx, i-.25, group_lk[name], size=10, color='#444444', ha='right', va='baseline')\n",
    "#         ax.text(value+dx, i,     f'{value:,.0f}',  size=14, ha='left',  va='center')\n",
    "#     ax.text(1, 0.4, current_day, transform=ax.transAxes, color='#777777', size=46, ha='right', weight=800)\n",
    "#     ax.text(0, 1.06, 'Population (thousands)', transform=ax.transAxes, size=12, color='#777777')\n",
    "#     ax.xaxis.set_major_formatter(ticker.StrMethodFormatter('{x:,.0f}'))\n",
    "#     ax.xaxis.set_ticks_position('top')\n",
    "#     ax.tick_params(axis='x', colors='#777777', labelsize=12)\n",
    "#     ax.set_yticks([])\n",
    "#     ax.margins(0, 0.01)\n",
    "#     ax.grid(which='major', axis='x', linestyle='-')\n",
    "#     ax.set_axisbelow(True)\n",
    "    \n",
    "#     ax.text(0, 1.15, 'Coronavirus',\n",
    "#             transform=ax.transAxes, size=24, weight=600, ha='left', va='top')\n",
    "# #     ax.text(1, 0, 'by @pratapvardhan; credit @jburnmurdoch', transform=ax.transAxes, color='#777777', ha='right',\n",
    "# #             bbox=dict(facecolor='white', alpha=0.8, edgecolor='white'))\n",
    "#     plt.box(False)"
   ]
  },
  {
   "cell_type": "code",
   "execution_count": 42,
   "id": "sexual-wages",
   "metadata": {
    "execution": {
     "iopub.execute_input": "2021-05-27T00:34:29.197796Z",
     "iopub.status.busy": "2021-05-27T00:34:29.197224Z",
     "iopub.status.idle": "2021-05-27T00:34:29.199486Z",
     "shell.execute_reply": "2021-05-27T00:34:29.198999Z"
    },
    "papermill": {
     "duration": 0.040636,
     "end_time": "2021-05-27T00:34:29.199604",
     "exception": false,
     "start_time": "2021-05-27T00:34:29.158968",
     "status": "completed"
    },
    "tags": []
   },
   "outputs": [],
   "source": [
    "# #hide_input\n",
    "# fig, ax = plt.subplots(figsize=(15, 8))\n",
    "# animator = animation.FuncAnimation(fig, draw_barchart, frames=range(g.day.values.min(), g.day.values.max()))\n",
    "# HTML(animator.to_jshtml())\n",
    "# # or use animator.to_html5_video() or animator.save() "
   ]
  },
  {
   "cell_type": "code",
   "execution_count": null,
   "id": "australian-container",
   "metadata": {
    "papermill": {
     "duration": 0.034704,
     "end_time": "2021-05-27T00:34:29.269179",
     "exception": false,
     "start_time": "2021-05-27T00:34:29.234475",
     "status": "completed"
    },
    "tags": []
   },
   "outputs": [],
   "source": []
  },
  {
   "cell_type": "code",
   "execution_count": null,
   "id": "mediterranean-pontiac",
   "metadata": {
    "papermill": {
     "duration": 0.034537,
     "end_time": "2021-05-27T00:34:29.338211",
     "exception": false,
     "start_time": "2021-05-27T00:34:29.303674",
     "status": "completed"
    },
    "tags": []
   },
   "outputs": [],
   "source": []
  },
  {
   "cell_type": "code",
   "execution_count": null,
   "id": "aging-legislature",
   "metadata": {
    "papermill": {
     "duration": 0.034479,
     "end_time": "2021-05-27T00:34:29.407672",
     "exception": false,
     "start_time": "2021-05-27T00:34:29.373193",
     "status": "completed"
    },
    "tags": []
   },
   "outputs": [],
   "source": []
  }
 ],
 "metadata": {
  "kernelspec": {
   "display_name": "Python 3",
   "language": "python",
   "name": "python3"
  },
  "language_info": {
   "codemirror_mode": {
    "name": "ipython",
    "version": 3
   },
   "file_extension": ".py",
   "mimetype": "text/x-python",
   "name": "python",
   "nbconvert_exporter": "python",
   "pygments_lexer": "ipython3",
   "version": "3.6.13"
  },
  "papermill": {
   "duration": 7.359227,
   "end_time": "2021-05-27T00:34:30.706056",
   "environment_variables": {},
   "exception": null,
   "input_path": "2020-03-21-covid19exp.ipynb",
   "output_path": "2020-03-21-covid19exp.ipynb",
   "parameters": {},
   "start_time": "2021-05-27T00:34:23.346829",
   "version": "2.0.0"
  }
 },
 "nbformat": 4,
 "nbformat_minor": 5
}