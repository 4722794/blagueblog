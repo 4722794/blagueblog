{
 "cells": [
  {
   "cell_type": "markdown",
   "id": "muslim-click",
   "metadata": {
    "papermill": {
     "duration": 0.037826,
     "end_time": "2022-07-18T12:16:48.129259",
     "exception": false,
     "start_time": "2022-07-18T12:16:48.091433",
     "status": "completed"
    },
    "tags": []
   },
   "source": [
    "# COVID-19 Case Race\n",
    "> A race chart to see rising cases around the world\n",
    "\n",
    "- author: Hargun Oberoi\n",
    "- image: images/covid-overview.png\n",
    "- hide: false\n",
    "- badges: false"
   ]
  },
  {
   "cell_type": "code",
   "execution_count": 1,
   "id": "proof-material",
   "metadata": {
    "execution": {
     "iopub.execute_input": "2022-07-18T12:16:48.201652Z",
     "iopub.status.busy": "2022-07-18T12:16:48.201045Z",
     "iopub.status.idle": "2022-07-18T12:16:48.547202Z",
     "shell.execute_reply": "2022-07-18T12:16:48.546295Z"
    },
    "papermill": {
     "duration": 0.385578,
     "end_time": "2022-07-18T12:16:48.547353",
     "exception": false,
     "start_time": "2022-07-18T12:16:48.161775",
     "status": "completed"
    },
    "tags": []
   },
   "outputs": [],
   "source": [
    "#hide\n",
    "import numpy as np\n",
    "import pandas as pd\n",
    "from jinja2 import Template\n",
    "from IPython.display import HTML"
   ]
  },
  {
   "cell_type": "code",
   "execution_count": 2,
   "id": "developed-terminology",
   "metadata": {
    "execution": {
     "iopub.execute_input": "2022-07-18T12:16:48.619879Z",
     "iopub.status.busy": "2022-07-18T12:16:48.619244Z",
     "iopub.status.idle": "2022-07-18T12:16:48.621811Z",
     "shell.execute_reply": "2022-07-18T12:16:48.622391Z"
    },
    "papermill": {
     "duration": 0.043434,
     "end_time": "2022-07-18T12:16:48.622508",
     "exception": false,
     "start_time": "2022-07-18T12:16:48.579074",
     "status": "completed"
    },
    "tags": []
   },
   "outputs": [],
   "source": [
    "#hide\n",
    "\n",
    "# FETCH\n",
    "base_url = 'https://raw.githubusercontent.com/pratapvardhan/notebooks/master/covid19/'\n",
    "paths = {\n",
    "    'mapping': base_url + 'mapping_countries.csv',\n",
    "    'overview': base_url + 'overview.tpl'\n",
    "}"
   ]
  },
  {
   "cell_type": "code",
   "execution_count": 3,
   "id": "dynamic-saver",
   "metadata": {
    "execution": {
     "iopub.execute_input": "2022-07-18T12:16:48.696363Z",
     "iopub.status.busy": "2022-07-18T12:16:48.695738Z",
     "iopub.status.idle": "2022-07-18T12:16:48.699531Z",
     "shell.execute_reply": "2022-07-18T12:16:48.698797Z"
    },
    "papermill": {
     "duration": 0.046847,
     "end_time": "2022-07-18T12:16:48.699644",
     "exception": false,
     "start_time": "2022-07-18T12:16:48.652797",
     "status": "completed"
    },
    "tags": []
   },
   "outputs": [
    {
     "data": {
      "text/plain": [
       "'https://raw.githubusercontent.com/pratapvardhan/notebooks/master/covid19/mapping_countries.csv'"
      ]
     },
     "execution_count": 3,
     "metadata": {},
     "output_type": "execute_result"
    }
   ],
   "source": [
    "#hide\n",
    "paths['mapping']"
   ]
  },
  {
   "cell_type": "code",
   "execution_count": 4,
   "id": "urban-software",
   "metadata": {
    "execution": {
     "iopub.execute_input": "2022-07-18T12:16:48.771275Z",
     "iopub.status.busy": "2022-07-18T12:16:48.769526Z",
     "iopub.status.idle": "2022-07-18T12:16:48.777845Z",
     "shell.execute_reply": "2022-07-18T12:16:48.777310Z"
    },
    "papermill": {
     "duration": 0.046151,
     "end_time": "2022-07-18T12:16:48.777961",
     "exception": false,
     "start_time": "2022-07-18T12:16:48.731810",
     "status": "completed"
    },
    "tags": []
   },
   "outputs": [],
   "source": [
    "#hide\n",
    "def get_mappings(url):\n",
    "    df = pd.read_csv(url)\n",
    "    return {\n",
    "        'df': df,\n",
    "        'replace.country': dict(df.dropna(subset=['Name']).set_index('Country')['Name']),\n",
    "        'map.continent': dict(df.set_index('Name')['Continent'])\n",
    "    }"
   ]
  },
  {
   "cell_type": "code",
   "execution_count": 5,
   "id": "intimate-machinery",
   "metadata": {
    "execution": {
     "iopub.execute_input": "2022-07-18T12:16:48.846650Z",
     "iopub.status.busy": "2022-07-18T12:16:48.845848Z",
     "iopub.status.idle": "2022-07-18T12:16:48.874049Z",
     "shell.execute_reply": "2022-07-18T12:16:48.874505Z"
    },
    "papermill": {
     "duration": 0.064282,
     "end_time": "2022-07-18T12:16:48.874635",
     "exception": false,
     "start_time": "2022-07-18T12:16:48.810353",
     "status": "completed"
    },
    "tags": []
   },
   "outputs": [],
   "source": [
    "#hide\n",
    "mapping = get_mappings(paths['mapping'])"
   ]
  },
  {
   "cell_type": "code",
   "execution_count": 6,
   "id": "certified-tactics",
   "metadata": {
    "execution": {
     "iopub.execute_input": "2022-07-18T12:16:48.940701Z",
     "iopub.status.busy": "2022-07-18T12:16:48.940036Z",
     "iopub.status.idle": "2022-07-18T12:16:48.943301Z",
     "shell.execute_reply": "2022-07-18T12:16:48.942464Z"
    },
    "papermill": {
     "duration": 0.037661,
     "end_time": "2022-07-18T12:16:48.943405",
     "exception": false,
     "start_time": "2022-07-18T12:16:48.905744",
     "status": "completed"
    },
    "tags": []
   },
   "outputs": [],
   "source": [
    "#hide\n",
    "def get_template(path):\n",
    "    from urllib.parse import urlparse\n",
    "    if bool(urlparse(path).netloc):\n",
    "        from urllib.request import urlopen\n",
    "        return urlopen(path).read().decode('utf8')\n",
    "    return open(path).read()"
   ]
  },
  {
   "cell_type": "code",
   "execution_count": 7,
   "id": "realistic-blast",
   "metadata": {
    "execution": {
     "iopub.execute_input": "2022-07-18T12:16:49.010666Z",
     "iopub.status.busy": "2022-07-18T12:16:49.010055Z",
     "iopub.status.idle": "2022-07-18T12:16:49.013188Z",
     "shell.execute_reply": "2022-07-18T12:16:49.012626Z"
    },
    "papermill": {
     "duration": 0.03847,
     "end_time": "2022-07-18T12:16:49.013328",
     "exception": false,
     "start_time": "2022-07-18T12:16:48.974858",
     "status": "completed"
    },
    "tags": []
   },
   "outputs": [],
   "source": [
    "#hide\n",
    "def get_frame(name):\n",
    "    url = (\n",
    "        'https://raw.githubusercontent.com/CSSEGISandData/COVID-19/master/csse_covid_19_data/'\n",
    "        f'csse_covid_19_time_series/time_series_covid19_{name}_global.csv')\n",
    "    df = pd.read_csv(url)\n",
    "    # rename countries\n",
    "    df['Country/Region'] = df['Country/Region'].replace(mapping['replace.country'])\n",
    "    return df"
   ]
  },
  {
   "cell_type": "code",
   "execution_count": 8,
   "id": "affiliated-characterization",
   "metadata": {
    "execution": {
     "iopub.execute_input": "2022-07-18T12:16:49.103564Z",
     "iopub.status.busy": "2022-07-18T12:16:49.102731Z",
     "iopub.status.idle": "2022-07-18T12:16:49.104841Z",
     "shell.execute_reply": "2022-07-18T12:16:49.104197Z"
    },
    "papermill": {
     "duration": 0.058747,
     "end_time": "2022-07-18T12:16:49.104970",
     "exception": false,
     "start_time": "2022-07-18T12:16:49.046223",
     "status": "completed"
    },
    "tags": []
   },
   "outputs": [],
   "source": [
    "#hide\n",
    "def get_dates(df):\n",
    "    dt_cols = df.columns[~df.columns.isin(['Province/State', 'Country/Region', 'Lat', 'Long'])]\n",
    "    LAST_DATE_I = -1\n",
    "    # sometimes last column may be empty, then go backwards\n",
    "    for i in range(-1, -len(dt_cols), -1):\n",
    "        if not df[dt_cols[i]].fillna(0).eq(0).all():\n",
    "            LAST_DATE_I = i\n",
    "            break\n",
    "    return LAST_DATE_I, dt_cols"
   ]
  },
  {
   "cell_type": "code",
   "execution_count": 9,
   "id": "recent-optimization",
   "metadata": {
    "execution": {
     "iopub.execute_input": "2022-07-18T12:16:49.185196Z",
     "iopub.status.busy": "2022-07-18T12:16:49.184524Z",
     "iopub.status.idle": "2022-07-18T12:16:49.592811Z",
     "shell.execute_reply": "2022-07-18T12:16:49.592259Z"
    },
    "papermill": {
     "duration": 0.445881,
     "end_time": "2022-07-18T12:16:49.592945",
     "exception": false,
     "start_time": "2022-07-18T12:16:49.147064",
     "status": "completed"
    },
    "tags": []
   },
   "outputs": [],
   "source": [
    "#hide\n",
    "COL_REGION = 'Country/Region'\n",
    "# Confirmed, Recovered, Deaths\n",
    "df = get_frame('confirmed')\n",
    "# dft_: timeseries, dfc_: today country agg\n",
    "dft_cases = df\n",
    "dft_deaths = get_frame('deaths')\n",
    "dft_recovered = get_frame('recovered')\n",
    "LAST_DATE_I, dt_cols = get_dates(df)"
   ]
  },
  {
   "cell_type": "code",
   "execution_count": 10,
   "id": "absolute-copper",
   "metadata": {
    "execution": {
     "iopub.execute_input": "2022-07-18T12:16:49.659937Z",
     "iopub.status.busy": "2022-07-18T12:16:49.659345Z",
     "iopub.status.idle": "2022-07-18T12:16:49.661810Z",
     "shell.execute_reply": "2022-07-18T12:16:49.661287Z"
    },
    "papermill": {
     "duration": 0.037282,
     "end_time": "2022-07-18T12:16:49.661917",
     "exception": false,
     "start_time": "2022-07-18T12:16:49.624635",
     "status": "completed"
    },
    "tags": []
   },
   "outputs": [],
   "source": [
    "#hide\n",
    "LAST_DATE_I, dt_cols = get_dates(df)\n",
    "dt_today =dt_cols[LAST_DATE_I]\n",
    "# dt_5day = dt_cols[LAST_DATE_I - 5]\n",
    "dt_yday = dt_cols[LAST_DATE_I - 1]"
   ]
  },
  {
   "cell_type": "code",
   "execution_count": 11,
   "id": "restricted-sheriff",
   "metadata": {
    "execution": {
     "iopub.execute_input": "2022-07-18T12:16:49.728072Z",
     "iopub.status.busy": "2022-07-18T12:16:49.727478Z",
     "iopub.status.idle": "2022-07-18T12:16:49.736423Z",
     "shell.execute_reply": "2022-07-18T12:16:49.735952Z"
    },
    "papermill": {
     "duration": 0.044791,
     "end_time": "2022-07-18T12:16:49.736531",
     "exception": false,
     "start_time": "2022-07-18T12:16:49.691740",
     "status": "completed"
    },
    "tags": []
   },
   "outputs": [],
   "source": [
    "#hide\n",
    "dfc_cases = dft_cases.groupby(COL_REGION)[dt_today].sum()\n",
    "dfc_deaths = dft_deaths.groupby(COL_REGION)[dt_today].sum()\n",
    "# dfp_cases = dft_cases.groupby(COL_REGION)[dt_5day].sum()\n",
    "# dfp_deaths = dft_deaths.groupby(COL_REGION)[dt_5day].sum()\n",
    "dfp_cases = dft_cases.groupby(COL_REGION)[dt_yday].sum()\n",
    "dfp_deaths = dft_deaths.groupby(COL_REGION)[dt_yday].sum()"
   ]
  },
  {
   "cell_type": "code",
   "execution_count": 12,
   "id": "deluxe-hepatitis",
   "metadata": {
    "execution": {
     "iopub.execute_input": "2022-07-18T12:16:49.802262Z",
     "iopub.status.busy": "2022-07-18T12:16:49.801678Z",
     "iopub.status.idle": "2022-07-18T12:16:49.807637Z",
     "shell.execute_reply": "2022-07-18T12:16:49.807047Z"
    },
    "papermill": {
     "duration": 0.041148,
     "end_time": "2022-07-18T12:16:49.807736",
     "exception": false,
     "start_time": "2022-07-18T12:16:49.766588",
     "status": "completed"
    },
    "tags": []
   },
   "outputs": [],
   "source": [
    "#hide\n",
    "df_table = (pd.DataFrame(dict(Cases = dfc_cases, Deaths = dfc_deaths, PCases = dfp_cases, PDeaths = dfp_deaths))\n",
    "            .sort_values(by = ['Cases','Deaths'], ascending = [False, False])\n",
    "            .reset_index())"
   ]
  },
  {
   "cell_type": "code",
   "execution_count": 13,
   "id": "educational-chancellor",
   "metadata": {
    "execution": {
     "iopub.execute_input": "2022-07-18T12:16:49.891762Z",
     "iopub.status.busy": "2022-07-18T12:16:49.881028Z",
     "iopub.status.idle": "2022-07-18T12:16:49.895214Z",
     "shell.execute_reply": "2022-07-18T12:16:49.894749Z"
    },
    "papermill": {
     "duration": 0.057583,
     "end_time": "2022-07-18T12:16:49.895319",
     "exception": false,
     "start_time": "2022-07-18T12:16:49.837736",
     "status": "completed"
    },
    "tags": []
   },
   "outputs": [
    {
     "data": {
      "text/html": [
       "<div>\n",
       "<style scoped>\n",
       "    .dataframe tbody tr th:only-of-type {\n",
       "        vertical-align: middle;\n",
       "    }\n",
       "\n",
       "    .dataframe tbody tr th {\n",
       "        vertical-align: top;\n",
       "    }\n",
       "\n",
       "    .dataframe thead th {\n",
       "        text-align: right;\n",
       "    }\n",
       "</style>\n",
       "<table border=\"1\" class=\"dataframe\">\n",
       "  <thead>\n",
       "    <tr style=\"text-align: right;\">\n",
       "      <th></th>\n",
       "      <th>Country/Region</th>\n",
       "      <th>Cases</th>\n",
       "      <th>Deaths</th>\n",
       "      <th>PCases</th>\n",
       "      <th>PDeaths</th>\n",
       "      <th>Cases (+)</th>\n",
       "      <th>Deaths (+)</th>\n",
       "      <th>Fatality Rate</th>\n",
       "      <th>Continent</th>\n",
       "    </tr>\n",
       "  </thead>\n",
       "  <tbody>\n",
       "    <tr>\n",
       "      <th>0</th>\n",
       "      <td>US</td>\n",
       "      <td>89542107</td>\n",
       "      <td>1023799</td>\n",
       "      <td>89521016</td>\n",
       "      <td>1023788</td>\n",
       "      <td>21091</td>\n",
       "      <td>11</td>\n",
       "      <td>1.14</td>\n",
       "      <td>North America</td>\n",
       "    </tr>\n",
       "    <tr>\n",
       "      <th>1</th>\n",
       "      <td>India</td>\n",
       "      <td>43767534</td>\n",
       "      <td>525760</td>\n",
       "      <td>43750599</td>\n",
       "      <td>525709</td>\n",
       "      <td>16935</td>\n",
       "      <td>51</td>\n",
       "      <td>1.20</td>\n",
       "      <td>Asia</td>\n",
       "    </tr>\n",
       "    <tr>\n",
       "      <th>2</th>\n",
       "      <td>Brazil</td>\n",
       "      <td>33301118</td>\n",
       "      <td>675350</td>\n",
       "      <td>33290266</td>\n",
       "      <td>675295</td>\n",
       "      <td>10852</td>\n",
       "      <td>55</td>\n",
       "      <td>2.03</td>\n",
       "      <td>South America</td>\n",
       "    </tr>\n",
       "    <tr>\n",
       "      <th>3</th>\n",
       "      <td>France</td>\n",
       "      <td>32881809</td>\n",
       "      <td>151454</td>\n",
       "      <td>32881809</td>\n",
       "      <td>151454</td>\n",
       "      <td>0</td>\n",
       "      <td>0</td>\n",
       "      <td>0.46</td>\n",
       "      <td>Europe</td>\n",
       "    </tr>\n",
       "    <tr>\n",
       "      <th>4</th>\n",
       "      <td>Germany</td>\n",
       "      <td>29692989</td>\n",
       "      <td>142533</td>\n",
       "      <td>29692989</td>\n",
       "      <td>142533</td>\n",
       "      <td>0</td>\n",
       "      <td>0</td>\n",
       "      <td>0.48</td>\n",
       "      <td>Europe</td>\n",
       "    </tr>\n",
       "  </tbody>\n",
       "</table>\n",
       "</div>"
      ],
      "text/plain": [
       "  Country/Region     Cases   Deaths    PCases  PDeaths  Cases (+)  Deaths (+)  \\\n",
       "0             US  89542107  1023799  89521016  1023788      21091          11   \n",
       "1          India  43767534   525760  43750599   525709      16935          51   \n",
       "2         Brazil  33301118   675350  33290266   675295      10852          55   \n",
       "3         France  32881809   151454  32881809   151454          0           0   \n",
       "4        Germany  29692989   142533  29692989   142533          0           0   \n",
       "\n",
       "   Fatality Rate      Continent  \n",
       "0           1.14  North America  \n",
       "1           1.20           Asia  \n",
       "2           2.03  South America  \n",
       "3           0.46         Europe  \n",
       "4           0.48         Europe  "
      ]
     },
     "execution_count": 13,
     "metadata": {},
     "output_type": "execute_result"
    }
   ],
   "source": [
    "#hide\n",
    "for c in 'Cases, Deaths'.split(', '):\n",
    "    df_table[f'{c} (+)'] = (df_table[c] - df_table[f'P{c}']).clip(0)\n",
    "    #Clip ça veut dire, les chiffres negatif sont interdit\n",
    "df_table['Fatality Rate'] = (100* df_table['Deaths']/ df_table['Cases']).round(2)\n",
    "df_table['Continent'] = df_table['Country/Region'].map(mapping['map.continent'])\n",
    "df_table.head(5)"
   ]
  },
  {
   "cell_type": "code",
   "execution_count": 14,
   "id": "aboriginal-bulgaria",
   "metadata": {
    "execution": {
     "iopub.execute_input": "2022-07-18T12:16:49.972273Z",
     "iopub.status.busy": "2022-07-18T12:16:49.969784Z",
     "iopub.status.idle": "2022-07-18T12:16:49.972944Z",
     "shell.execute_reply": "2022-07-18T12:16:49.973583Z"
    },
    "papermill": {
     "duration": 0.044601,
     "end_time": "2022-07-18T12:16:49.973700",
     "exception": false,
     "start_time": "2022-07-18T12:16:49.929099",
     "status": "completed"
    },
    "tags": []
   },
   "outputs": [],
   "source": [
    "#hide\n",
    "#delete problematic countries from table\n",
    "df_table = df_table[~df_table['Country/Region'].isin(['Cape Verde', 'Cruise Ship', 'Kosovo'])]"
   ]
  },
  {
   "cell_type": "code",
   "execution_count": 15,
   "id": "fantastic-effect",
   "metadata": {
    "execution": {
     "iopub.execute_input": "2022-07-18T12:16:50.052523Z",
     "iopub.status.busy": "2022-07-18T12:16:50.051907Z",
     "iopub.status.idle": "2022-07-18T12:16:50.075271Z",
     "shell.execute_reply": "2022-07-18T12:16:50.074760Z"
    },
    "papermill": {
     "duration": 0.064378,
     "end_time": "2022-07-18T12:16:50.075386",
     "exception": false,
     "start_time": "2022-07-18T12:16:50.011008",
     "status": "completed"
    },
    "tags": []
   },
   "outputs": [
    {
     "data": {
      "text/html": [
       "<div>\n",
       "<style scoped>\n",
       "    .dataframe tbody tr th:only-of-type {\n",
       "        vertical-align: middle;\n",
       "    }\n",
       "\n",
       "    .dataframe tbody tr th {\n",
       "        vertical-align: top;\n",
       "    }\n",
       "\n",
       "    .dataframe thead th {\n",
       "        text-align: right;\n",
       "    }\n",
       "</style>\n",
       "<table border=\"1\" class=\"dataframe\">\n",
       "  <thead>\n",
       "    <tr style=\"text-align: right;\">\n",
       "      <th></th>\n",
       "      <th>Country/Region</th>\n",
       "      <th>Cases</th>\n",
       "      <th>Deaths</th>\n",
       "      <th>PCases</th>\n",
       "      <th>PDeaths</th>\n",
       "      <th>Cases (+)</th>\n",
       "      <th>Deaths (+)</th>\n",
       "      <th>Fatality Rate</th>\n",
       "      <th>Continent</th>\n",
       "    </tr>\n",
       "  </thead>\n",
       "  <tbody>\n",
       "    <tr>\n",
       "      <th>0</th>\n",
       "      <td>US</td>\n",
       "      <td>89542107</td>\n",
       "      <td>1023799</td>\n",
       "      <td>89521016</td>\n",
       "      <td>1023788</td>\n",
       "      <td>21091</td>\n",
       "      <td>11</td>\n",
       "      <td>1.1</td>\n",
       "      <td>North America</td>\n",
       "    </tr>\n",
       "    <tr>\n",
       "      <th>1</th>\n",
       "      <td>India</td>\n",
       "      <td>43767534</td>\n",
       "      <td>525760</td>\n",
       "      <td>43750599</td>\n",
       "      <td>525709</td>\n",
       "      <td>16935</td>\n",
       "      <td>51</td>\n",
       "      <td>1.2</td>\n",
       "      <td>Asia</td>\n",
       "    </tr>\n",
       "    <tr>\n",
       "      <th>2</th>\n",
       "      <td>Brazil</td>\n",
       "      <td>33301118</td>\n",
       "      <td>675350</td>\n",
       "      <td>33290266</td>\n",
       "      <td>675295</td>\n",
       "      <td>10852</td>\n",
       "      <td>55</td>\n",
       "      <td>2.0</td>\n",
       "      <td>South America</td>\n",
       "    </tr>\n",
       "    <tr>\n",
       "      <th>3</th>\n",
       "      <td>France</td>\n",
       "      <td>32881809</td>\n",
       "      <td>151454</td>\n",
       "      <td>32881809</td>\n",
       "      <td>151454</td>\n",
       "      <td>0</td>\n",
       "      <td>0</td>\n",
       "      <td>0.5</td>\n",
       "      <td>Europe</td>\n",
       "    </tr>\n",
       "    <tr>\n",
       "      <th>4</th>\n",
       "      <td>Germany</td>\n",
       "      <td>29692989</td>\n",
       "      <td>142533</td>\n",
       "      <td>29692989</td>\n",
       "      <td>142533</td>\n",
       "      <td>0</td>\n",
       "      <td>0</td>\n",
       "      <td>0.5</td>\n",
       "      <td>Europe</td>\n",
       "    </tr>\n",
       "  </tbody>\n",
       "</table>\n",
       "</div>"
      ],
      "text/plain": [
       "  Country/Region     Cases   Deaths    PCases  PDeaths  Cases (+)  Deaths (+)  \\\n",
       "0             US  89542107  1023799  89521016  1023788      21091          11   \n",
       "1          India  43767534   525760  43750599   525709      16935          51   \n",
       "2         Brazil  33301118   675350  33290266   675295      10852          55   \n",
       "3         France  32881809   151454  32881809   151454          0           0   \n",
       "4        Germany  29692989   142533  29692989   142533          0           0   \n",
       "\n",
       "   Fatality Rate      Continent  \n",
       "0            1.1  North America  \n",
       "1            1.2           Asia  \n",
       "2            2.0  South America  \n",
       "3            0.5         Europe  \n",
       "4            0.5         Europe  "
      ]
     },
     "execution_count": 15,
     "metadata": {},
     "output_type": "execute_result"
    }
   ],
   "source": [
    "#hide\n",
    "df_table = (pd.DataFrame(dict(Cases=dfc_cases, Deaths=dfc_deaths, PCases=dfp_cases, PDeaths=dfp_deaths))\n",
    "             .sort_values(by=['Cases', 'Deaths'], ascending=[False, False])\n",
    "             .reset_index())\n",
    "df_table.rename(columns={'index': 'Country/Region'}, inplace=True)\n",
    "for c in 'Cases, Deaths'.split(', '):\n",
    "    df_table[f'{c} (+)'] = (df_table[c] - df_table[f'P{c}']).clip(0)  # DATA BUG\n",
    "df_table['Fatality Rate'] = (100 * df_table['Deaths'] / df_table['Cases']).round(1)\n",
    "df_table['Continent'] = df_table['Country/Region'].map(mapping['map.continent'])\n",
    "df_table.head(5)"
   ]
  },
  {
   "cell_type": "code",
   "execution_count": 16,
   "id": "fewer-occasion",
   "metadata": {
    "execution": {
     "iopub.execute_input": "2022-07-18T12:16:50.160988Z",
     "iopub.status.busy": "2022-07-18T12:16:50.160174Z",
     "iopub.status.idle": "2022-07-18T12:16:50.163065Z",
     "shell.execute_reply": "2022-07-18T12:16:50.163630Z"
    },
    "papermill": {
     "duration": 0.051046,
     "end_time": "2022-07-18T12:16:50.163771",
     "exception": false,
     "start_time": "2022-07-18T12:16:50.112725",
     "status": "completed"
    },
    "tags": []
   },
   "outputs": [],
   "source": [
    "#hide\n",
    "#delete problematic countries from table\n",
    "df_table = df_table[~df_table['Country/Region'].isin(['Cape Verde', 'Cruise Ship', 'Kosovo'])]"
   ]
  },
  {
   "cell_type": "code",
   "execution_count": 17,
   "id": "related-center",
   "metadata": {
    "execution": {
     "iopub.execute_input": "2022-07-18T12:16:50.258633Z",
     "iopub.status.busy": "2022-07-18T12:16:50.257939Z",
     "iopub.status.idle": "2022-07-18T12:16:50.261414Z",
     "shell.execute_reply": "2022-07-18T12:16:50.260492Z"
    },
    "papermill": {
     "duration": 0.057472,
     "end_time": "2022-07-18T12:16:50.261530",
     "exception": false,
     "start_time": "2022-07-18T12:16:50.204058",
     "status": "completed"
    },
    "tags": []
   },
   "outputs": [],
   "source": [
    "#hide\n",
    "metrics = [df_table.columns[index] for index in [1,2,5,6]]\n",
    "# s_china = df_table[df_table['Country/Region'].eq('China')][metrics].sum().add_prefix('China ')\n",
    "s_us = df_table[df_table['Country/Region'].eq('US')][metrics].sum().add_prefix('US ')\n",
    "s_eu = df_table[df_table['Continent'].eq('Europe')][metrics].sum().add_prefix('EU ')\n",
    "s_ind = df_table[df_table['Country/Region'].eq('India')][metrics].sum().add_prefix('India ')\n",
    "summary = {'updated': pd.to_datetime(dt_today), 'since': pd.to_datetime(dt_yday)}\n",
    "summary = {'updated': pd.to_datetime(dt_today), 'since': pd.to_datetime(dt_yday)}\n",
    "summary = {**summary, **df_table[metrics].sum(), **s_ind, **s_us, **s_eu}"
   ]
  },
  {
   "cell_type": "code",
   "execution_count": 18,
   "id": "engaging-syndrome",
   "metadata": {
    "execution": {
     "iopub.execute_input": "2022-07-18T12:16:50.334930Z",
     "iopub.status.busy": "2022-07-18T12:16:50.334343Z",
     "iopub.status.idle": "2022-07-18T12:16:50.353661Z",
     "shell.execute_reply": "2022-07-18T12:16:50.353171Z"
    },
    "papermill": {
     "duration": 0.057693,
     "end_time": "2022-07-18T12:16:50.353775",
     "exception": false,
     "start_time": "2022-07-18T12:16:50.296082",
     "status": "completed"
    },
    "tags": []
   },
   "outputs": [],
   "source": [
    "#hide\n",
    "dft_ct_new_cases = dft_cases.groupby(COL_REGION)[dt_cols].sum().diff(axis=1).fillna(0).astype(int)"
   ]
  },
  {
   "cell_type": "code",
   "execution_count": 19,
   "id": "neutral-assignment",
   "metadata": {
    "execution": {
     "iopub.execute_input": "2022-07-18T12:16:50.426815Z",
     "iopub.status.busy": "2022-07-18T12:16:50.426216Z",
     "iopub.status.idle": "2022-07-18T12:16:50.429474Z",
     "shell.execute_reply": "2022-07-18T12:16:50.428786Z"
    },
    "papermill": {
     "duration": 0.042775,
     "end_time": "2022-07-18T12:16:50.429641",
     "exception": false,
     "start_time": "2022-07-18T12:16:50.386866",
     "status": "completed"
    },
    "tags": []
   },
   "outputs": [],
   "source": [
    "#hide\n",
    "everydaycases = dft_ct_new_cases.cumsum(axis=1)"
   ]
  },
  {
   "cell_type": "code",
   "execution_count": 20,
   "id": "parliamentary-calgary",
   "metadata": {
    "execution": {
     "iopub.execute_input": "2022-07-18T12:16:50.497700Z",
     "iopub.status.busy": "2022-07-18T12:16:50.497080Z",
     "iopub.status.idle": "2022-07-18T12:16:51.046805Z",
     "shell.execute_reply": "2022-07-18T12:16:51.046290Z"
    },
    "papermill": {
     "duration": 0.584192,
     "end_time": "2022-07-18T12:16:51.046937",
     "exception": false,
     "start_time": "2022-07-18T12:16:50.462745",
     "status": "completed"
    },
    "tags": []
   },
   "outputs": [],
   "source": [
    "#hide\n",
    "import pandas as pd\n",
    "import matplotlib.pyplot as plt\n",
    "import matplotlib.ticker as ticker\n",
    "import matplotlib.animation as animation\n",
    "from IPython.display import HTML"
   ]
  },
  {
   "cell_type": "code",
   "execution_count": 21,
   "id": "lasting-extraction",
   "metadata": {
    "execution": {
     "iopub.execute_input": "2022-07-18T12:16:51.118591Z",
     "iopub.status.busy": "2022-07-18T12:16:51.117667Z",
     "iopub.status.idle": "2022-07-18T12:16:51.126812Z",
     "shell.execute_reply": "2022-07-18T12:16:51.126249Z"
    },
    "papermill": {
     "duration": 0.046247,
     "end_time": "2022-07-18T12:16:51.126922",
     "exception": false,
     "start_time": "2022-07-18T12:16:51.080675",
     "status": "completed"
    },
    "tags": []
   },
   "outputs": [],
   "source": [
    "#hide\n",
    "t = everydaycases.stack()"
   ]
  },
  {
   "cell_type": "code",
   "execution_count": 22,
   "id": "premier-sleeve",
   "metadata": {
    "execution": {
     "iopub.execute_input": "2022-07-18T12:16:51.196674Z",
     "iopub.status.busy": "2022-07-18T12:16:51.196056Z",
     "iopub.status.idle": "2022-07-18T12:16:51.206824Z",
     "shell.execute_reply": "2022-07-18T12:16:51.206255Z"
    },
    "papermill": {
     "duration": 0.048674,
     "end_time": "2022-07-18T12:16:51.206927",
     "exception": false,
     "start_time": "2022-07-18T12:16:51.158253",
     "status": "completed"
    },
    "tags": []
   },
   "outputs": [],
   "source": [
    "#hide\n",
    "g = t.reset_index(['Country/Region'])"
   ]
  },
  {
   "cell_type": "code",
   "execution_count": 23,
   "id": "distributed-pittsburgh",
   "metadata": {
    "execution": {
     "iopub.execute_input": "2022-07-18T12:16:51.271641Z",
     "iopub.status.busy": "2022-07-18T12:16:51.271049Z",
     "iopub.status.idle": "2022-07-18T12:16:51.274126Z",
     "shell.execute_reply": "2022-07-18T12:16:51.273467Z"
    },
    "papermill": {
     "duration": 0.036799,
     "end_time": "2022-07-18T12:16:51.274230",
     "exception": false,
     "start_time": "2022-07-18T12:16:51.237431",
     "status": "completed"
    },
    "tags": []
   },
   "outputs": [],
   "source": [
    "#hide\n",
    "g.index.name = 'date'"
   ]
  },
  {
   "cell_type": "code",
   "execution_count": 24,
   "id": "naked-donor",
   "metadata": {
    "execution": {
     "iopub.execute_input": "2022-07-18T12:16:51.341751Z",
     "iopub.status.busy": "2022-07-18T12:16:51.341157Z",
     "iopub.status.idle": "2022-07-18T12:16:51.344025Z",
     "shell.execute_reply": "2022-07-18T12:16:51.343553Z"
    },
    "papermill": {
     "duration": 0.0369,
     "end_time": "2022-07-18T12:16:51.344123",
     "exception": false,
     "start_time": "2022-07-18T12:16:51.307223",
     "status": "completed"
    },
    "tags": []
   },
   "outputs": [],
   "source": [
    "# #hide\n",
    "# g = g.reset_index(['date'])"
   ]
  },
  {
   "cell_type": "code",
   "execution_count": 25,
   "id": "incomplete-mustang",
   "metadata": {
    "execution": {
     "iopub.execute_input": "2022-07-18T12:16:51.415613Z",
     "iopub.status.busy": "2022-07-18T12:16:51.414950Z",
     "iopub.status.idle": "2022-07-18T12:16:51.417739Z",
     "shell.execute_reply": "2022-07-18T12:16:51.417230Z"
    },
    "papermill": {
     "duration": 0.039471,
     "end_time": "2022-07-18T12:16:51.417845",
     "exception": false,
     "start_time": "2022-07-18T12:16:51.378374",
     "status": "completed"
    },
    "tags": []
   },
   "outputs": [],
   "source": [
    "#hide\n",
    "# g.head()"
   ]
  },
  {
   "cell_type": "code",
   "execution_count": 26,
   "id": "specific-kruger",
   "metadata": {
    "execution": {
     "iopub.execute_input": "2022-07-18T12:16:51.484120Z",
     "iopub.status.busy": "2022-07-18T12:16:51.483542Z",
     "iopub.status.idle": "2022-07-18T12:16:51.486337Z",
     "shell.execute_reply": "2022-07-18T12:16:51.485769Z"
    },
    "papermill": {
     "duration": 0.036526,
     "end_time": "2022-07-18T12:16:51.486436",
     "exception": false,
     "start_time": "2022-07-18T12:16:51.449910",
     "status": "completed"
    },
    "tags": []
   },
   "outputs": [],
   "source": [
    "#hide\n",
    "# g.columns = ['date','country','cases']"
   ]
  },
  {
   "cell_type": "code",
   "execution_count": 27,
   "id": "tender-conversion",
   "metadata": {
    "execution": {
     "iopub.execute_input": "2022-07-18T12:16:51.552252Z",
     "iopub.status.busy": "2022-07-18T12:16:51.551552Z",
     "iopub.status.idle": "2022-07-18T12:16:51.554747Z",
     "shell.execute_reply": "2022-07-18T12:16:51.554110Z"
    },
    "papermill": {
     "duration": 0.037611,
     "end_time": "2022-07-18T12:16:51.554907",
     "exception": false,
     "start_time": "2022-07-18T12:16:51.517296",
     "status": "completed"
    },
    "tags": []
   },
   "outputs": [],
   "source": [
    "#hide\n",
    "# g['continent'] = g.country"
   ]
  },
  {
   "cell_type": "code",
   "execution_count": 28,
   "id": "substantial-wilderness",
   "metadata": {
    "execution": {
     "iopub.execute_input": "2022-07-18T12:16:51.625877Z",
     "iopub.status.busy": "2022-07-18T12:16:51.624223Z",
     "iopub.status.idle": "2022-07-18T12:16:51.628388Z",
     "shell.execute_reply": "2022-07-18T12:16:51.627732Z"
    },
    "papermill": {
     "duration": 0.039733,
     "end_time": "2022-07-18T12:16:51.628566",
     "exception": false,
     "start_time": "2022-07-18T12:16:51.588833",
     "status": "completed"
    },
    "tags": []
   },
   "outputs": [],
   "source": [
    "#hide\n",
    "# cols = list(g.columns.values)"
   ]
  },
  {
   "cell_type": "code",
   "execution_count": 29,
   "id": "solved-farming",
   "metadata": {
    "execution": {
     "iopub.execute_input": "2022-07-18T12:16:51.711246Z",
     "iopub.status.busy": "2022-07-18T12:16:51.710448Z",
     "iopub.status.idle": "2022-07-18T12:16:51.713392Z",
     "shell.execute_reply": "2022-07-18T12:16:51.712585Z"
    },
    "papermill": {
     "duration": 0.043251,
     "end_time": "2022-07-18T12:16:51.713509",
     "exception": false,
     "start_time": "2022-07-18T12:16:51.670258",
     "status": "completed"
    },
    "tags": []
   },
   "outputs": [],
   "source": [
    "#hide\n",
    "# cols.insert(0, cols.pop())"
   ]
  },
  {
   "cell_type": "code",
   "execution_count": 30,
   "id": "executed-adoption",
   "metadata": {
    "execution": {
     "iopub.execute_input": "2022-07-18T12:16:51.781761Z",
     "iopub.status.busy": "2022-07-18T12:16:51.781089Z",
     "iopub.status.idle": "2022-07-18T12:16:51.783048Z",
     "shell.execute_reply": "2022-07-18T12:16:51.783673Z"
    },
    "papermill": {
     "duration": 0.038076,
     "end_time": "2022-07-18T12:16:51.783843",
     "exception": false,
     "start_time": "2022-07-18T12:16:51.745767",
     "status": "completed"
    },
    "tags": []
   },
   "outputs": [],
   "source": [
    "#hide\n",
    "# g = g[cols]"
   ]
  },
  {
   "cell_type": "code",
   "execution_count": 31,
   "id": "subject-dublin",
   "metadata": {
    "execution": {
     "iopub.execute_input": "2022-07-18T12:16:51.858983Z",
     "iopub.status.busy": "2022-07-18T12:16:51.858301Z",
     "iopub.status.idle": "2022-07-18T12:16:51.861469Z",
     "shell.execute_reply": "2022-07-18T12:16:51.860930Z"
    },
    "papermill": {
     "duration": 0.041835,
     "end_time": "2022-07-18T12:16:51.861571",
     "exception": false,
     "start_time": "2022-07-18T12:16:51.819736",
     "status": "completed"
    },
    "tags": []
   },
   "outputs": [],
   "source": [
    "#hide\n",
    "# g['continent'] = g['continent'].map(mapping['map.continent'])"
   ]
  },
  {
   "cell_type": "code",
   "execution_count": 32,
   "id": "freelance-scout",
   "metadata": {
    "execution": {
     "iopub.execute_input": "2022-07-18T12:16:51.926949Z",
     "iopub.status.busy": "2022-07-18T12:16:51.926346Z",
     "iopub.status.idle": "2022-07-18T12:16:51.928935Z",
     "shell.execute_reply": "2022-07-18T12:16:51.928321Z"
    },
    "papermill": {
     "duration": 0.036238,
     "end_time": "2022-07-18T12:16:51.929056",
     "exception": false,
     "start_time": "2022-07-18T12:16:51.892818",
     "status": "completed"
    },
    "tags": []
   },
   "outputs": [],
   "source": [
    "#hide\n",
    "# g.head()"
   ]
  },
  {
   "cell_type": "code",
   "execution_count": 33,
   "id": "limited-engine",
   "metadata": {
    "execution": {
     "iopub.execute_input": "2022-07-18T12:16:51.999845Z",
     "iopub.status.busy": "2022-07-18T12:16:51.999109Z",
     "iopub.status.idle": "2022-07-18T12:16:52.002736Z",
     "shell.execute_reply": "2022-07-18T12:16:52.002231Z"
    },
    "papermill": {
     "duration": 0.043161,
     "end_time": "2022-07-18T12:16:52.002845",
     "exception": false,
     "start_time": "2022-07-18T12:16:51.959684",
     "status": "completed"
    },
    "tags": []
   },
   "outputs": [],
   "source": [
    "# hide\n",
    "# g['date'] = g['date'].astype('datetime64[ns]')"
   ]
  },
  {
   "cell_type": "code",
   "execution_count": 34,
   "id": "sophisticated-supervisor",
   "metadata": {
    "execution": {
     "iopub.execute_input": "2022-07-18T12:16:52.081571Z",
     "iopub.status.busy": "2022-07-18T12:16:52.080953Z",
     "iopub.status.idle": "2022-07-18T12:16:52.084197Z",
     "shell.execute_reply": "2022-07-18T12:16:52.084675Z"
    },
    "papermill": {
     "duration": 0.04547,
     "end_time": "2022-07-18T12:16:52.084800",
     "exception": false,
     "start_time": "2022-07-18T12:16:52.039330",
     "status": "completed"
    },
    "tags": []
   },
   "outputs": [],
   "source": [
    "#hide\n",
    "# g['date'] = g.date.dt.dayofyear"
   ]
  },
  {
   "cell_type": "code",
   "execution_count": 35,
   "id": "inside-dubai",
   "metadata": {
    "execution": {
     "iopub.execute_input": "2022-07-18T12:16:52.154653Z",
     "iopub.status.busy": "2022-07-18T12:16:52.153931Z",
     "iopub.status.idle": "2022-07-18T12:16:52.156492Z",
     "shell.execute_reply": "2022-07-18T12:16:52.156023Z"
    },
    "papermill": {
     "duration": 0.040667,
     "end_time": "2022-07-18T12:16:52.156621",
     "exception": false,
     "start_time": "2022-07-18T12:16:52.115954",
     "status": "completed"
    },
    "tags": []
   },
   "outputs": [],
   "source": [
    "#hide\n",
    "# g = g.rename(columns= {'continent':'group','country':'name','cases':'value'})"
   ]
  },
  {
   "cell_type": "code",
   "execution_count": 36,
   "id": "fleet-motorcycle",
   "metadata": {
    "execution": {
     "iopub.execute_input": "2022-07-18T12:16:52.224468Z",
     "iopub.status.busy": "2022-07-18T12:16:52.223670Z",
     "iopub.status.idle": "2022-07-18T12:16:52.227158Z",
     "shell.execute_reply": "2022-07-18T12:16:52.226586Z"
    },
    "papermill": {
     "duration": 0.038057,
     "end_time": "2022-07-18T12:16:52.227259",
     "exception": false,
     "start_time": "2022-07-18T12:16:52.189202",
     "status": "completed"
    },
    "tags": []
   },
   "outputs": [],
   "source": [
    "#hide\n",
    "# cols = ['name','group','day','value']"
   ]
  },
  {
   "cell_type": "code",
   "execution_count": 37,
   "id": "continued-sleeping",
   "metadata": {
    "execution": {
     "iopub.execute_input": "2022-07-18T12:16:52.294899Z",
     "iopub.status.busy": "2022-07-18T12:16:52.294175Z",
     "iopub.status.idle": "2022-07-18T12:16:52.296800Z",
     "shell.execute_reply": "2022-07-18T12:16:52.296287Z"
    },
    "papermill": {
     "duration": 0.039073,
     "end_time": "2022-07-18T12:16:52.296905",
     "exception": false,
     "start_time": "2022-07-18T12:16:52.257832",
     "status": "completed"
    },
    "tags": []
   },
   "outputs": [],
   "source": [
    "#hide\n",
    "# g.rename(columns= {'date':'day'},inplace = True)"
   ]
  },
  {
   "cell_type": "code",
   "execution_count": 38,
   "id": "major-fight",
   "metadata": {
    "execution": {
     "iopub.execute_input": "2022-07-18T12:16:52.362529Z",
     "iopub.status.busy": "2022-07-18T12:16:52.361879Z",
     "iopub.status.idle": "2022-07-18T12:16:52.364860Z",
     "shell.execute_reply": "2022-07-18T12:16:52.364364Z"
    },
    "papermill": {
     "duration": 0.036814,
     "end_time": "2022-07-18T12:16:52.364961",
     "exception": false,
     "start_time": "2022-07-18T12:16:52.328147",
     "status": "completed"
    },
    "tags": []
   },
   "outputs": [],
   "source": [
    "#hide\n",
    "# g = g[cols]"
   ]
  },
  {
   "cell_type": "code",
   "execution_count": 39,
   "id": "structured-mobile",
   "metadata": {
    "execution": {
     "iopub.execute_input": "2022-07-18T12:16:52.435232Z",
     "iopub.status.busy": "2022-07-18T12:16:52.434403Z",
     "iopub.status.idle": "2022-07-18T12:16:52.437277Z",
     "shell.execute_reply": "2022-07-18T12:16:52.436789Z"
    },
    "papermill": {
     "duration": 0.036841,
     "end_time": "2022-07-18T12:16:52.437379",
     "exception": false,
     "start_time": "2022-07-18T12:16:52.400538",
     "status": "completed"
    },
    "tags": []
   },
   "outputs": [],
   "source": [
    "# #hide\n",
    "# g = g[g.group.notna()]"
   ]
  },
  {
   "cell_type": "code",
   "execution_count": 40,
   "id": "determined-closing",
   "metadata": {
    "execution": {
     "iopub.execute_input": "2022-07-18T12:16:52.504482Z",
     "iopub.status.busy": "2022-07-18T12:16:52.503880Z",
     "iopub.status.idle": "2022-07-18T12:16:52.506262Z",
     "shell.execute_reply": "2022-07-18T12:16:52.506700Z"
    },
    "papermill": {
     "duration": 0.036677,
     "end_time": "2022-07-18T12:16:52.506817",
     "exception": false,
     "start_time": "2022-07-18T12:16:52.470140",
     "status": "completed"
    },
    "tags": []
   },
   "outputs": [],
   "source": [
    "# #hide\n",
    "# colors = dict(zip(\n",
    "#     [\"Oceania\", \"Europe\", \"Asia\", \"South America\", \"Middle East\", \"North America\", \"Africa\"],\n",
    "#     [\"#adb0ff\", \"#ffb3ff\", \"#90d595\", \"#e48381\", \"#aafbff\", \"#f7bb5f\", \"#eafb50\"]\n",
    "# ))\n",
    "# group_lk = g.set_index('name')['group'].to_dict()"
   ]
  },
  {
   "cell_type": "code",
   "execution_count": null,
   "id": "gross-drinking",
   "metadata": {
    "papermill": {
     "duration": 0.031155,
     "end_time": "2022-07-18T12:16:52.572616",
     "exception": false,
     "start_time": "2022-07-18T12:16:52.541461",
     "status": "completed"
    },
    "tags": []
   },
   "outputs": [],
   "source": []
  },
  {
   "cell_type": "code",
   "execution_count": 41,
   "id": "subject-macintosh",
   "metadata": {
    "execution": {
     "iopub.execute_input": "2022-07-18T12:16:52.639760Z",
     "iopub.status.busy": "2022-07-18T12:16:52.639156Z",
     "iopub.status.idle": "2022-07-18T12:16:52.642295Z",
     "shell.execute_reply": "2022-07-18T12:16:52.641707Z"
    },
    "papermill": {
     "duration": 0.038053,
     "end_time": "2022-07-18T12:16:52.642401",
     "exception": false,
     "start_time": "2022-07-18T12:16:52.604348",
     "status": "completed"
    },
    "tags": []
   },
   "outputs": [],
   "source": [
    "# #hide\n",
    "# fig, ax = plt.subplots(figsize=(15, 8))\n",
    "\n",
    "# def draw_barchart(current_day):\n",
    "#     dff = g[g['day'].eq(current_day)].sort_values(by='value', ascending=True).tail(10)\n",
    "#     ax.clear()\n",
    "#     ax.barh(dff['name'], dff['value'], color=[colors[group_lk[x]] for x in dff['name']])\n",
    "#     dx = dff['value'].max() / 200\n",
    "    \n",
    "#     for i, (value, name) in enumerate(zip(dff['value'], dff['name'])):\n",
    "#         ax.text(value-dx, i,     name,           size=14, weight=600, ha='right', va='bottom')\n",
    "#         ax.text(value-dx, i-.25, group_lk[name], size=10, color='#444444', ha='right', va='baseline')\n",
    "#         ax.text(value+dx, i,     f'{value:,.0f}',  size=14, ha='left',  va='center')\n",
    "#     ax.text(1, 0.4, current_day, transform=ax.transAxes, color='#777777', size=46, ha='right', weight=800)\n",
    "#     ax.text(0, 1.06, 'Population (thousands)', transform=ax.transAxes, size=12, color='#777777')\n",
    "#     ax.xaxis.set_major_formatter(ticker.StrMethodFormatter('{x:,.0f}'))\n",
    "#     ax.xaxis.set_ticks_position('top')\n",
    "#     ax.tick_params(axis='x', colors='#777777', labelsize=12)\n",
    "#     ax.set_yticks([])\n",
    "#     ax.margins(0, 0.01)\n",
    "#     ax.grid(which='major', axis='x', linestyle='-')\n",
    "#     ax.set_axisbelow(True)\n",
    "    \n",
    "#     ax.text(0, 1.15, 'Coronavirus',\n",
    "#             transform=ax.transAxes, size=24, weight=600, ha='left', va='top')\n",
    "# #     ax.text(1, 0, 'by @pratapvardhan; credit @jburnmurdoch', transform=ax.transAxes, color='#777777', ha='right',\n",
    "# #             bbox=dict(facecolor='white', alpha=0.8, edgecolor='white'))\n",
    "#     plt.box(False)"
   ]
  },
  {
   "cell_type": "code",
   "execution_count": 42,
   "id": "sexual-wages",
   "metadata": {
    "execution": {
     "iopub.execute_input": "2022-07-18T12:16:52.709516Z",
     "iopub.status.busy": "2022-07-18T12:16:52.708871Z",
     "iopub.status.idle": "2022-07-18T12:16:52.711467Z",
     "shell.execute_reply": "2022-07-18T12:16:52.710887Z"
    },
    "papermill": {
     "duration": 0.037448,
     "end_time": "2022-07-18T12:16:52.711571",
     "exception": false,
     "start_time": "2022-07-18T12:16:52.674123",
     "status": "completed"
    },
    "tags": []
   },
   "outputs": [],
   "source": [
    "# #hide_input\n",
    "# fig, ax = plt.subplots(figsize=(15, 8))\n",
    "# animator = animation.FuncAnimation(fig, draw_barchart, frames=range(g.day.values.min(), g.day.values.max()))\n",
    "# HTML(animator.to_jshtml())\n",
    "# # or use animator.to_html5_video() or animator.save() "
   ]
  },
  {
   "cell_type": "code",
   "execution_count": null,
   "id": "australian-container",
   "metadata": {
    "papermill": {
     "duration": 0.031397,
     "end_time": "2022-07-18T12:16:52.774970",
     "exception": false,
     "start_time": "2022-07-18T12:16:52.743573",
     "status": "completed"
    },
    "tags": []
   },
   "outputs": [],
   "source": []
  },
  {
   "cell_type": "code",
   "execution_count": null,
   "id": "mediterranean-pontiac",
   "metadata": {
    "papermill": {
     "duration": 0.031935,
     "end_time": "2022-07-18T12:16:52.839726",
     "exception": false,
     "start_time": "2022-07-18T12:16:52.807791",
     "status": "completed"
    },
    "tags": []
   },
   "outputs": [],
   "source": []
  },
  {
   "cell_type": "code",
   "execution_count": null,
   "id": "aging-legislature",
   "metadata": {
    "papermill": {
     "duration": 0.033423,
     "end_time": "2022-07-18T12:16:52.907069",
     "exception": false,
     "start_time": "2022-07-18T12:16:52.873646",
     "status": "completed"
    },
    "tags": []
   },
   "outputs": [],
   "source": []
  }
 ],
 "metadata": {
  "kernelspec": {
   "display_name": "Python 3",
   "language": "python",
   "name": "python3"
  },
  "language_info": {
   "codemirror_mode": {
    "name": "ipython",
    "version": 3
   },
   "file_extension": ".py",
   "mimetype": "text/x-python",
   "name": "python",
   "nbconvert_exporter": "python",
   "pygments_lexer": "ipython3",
   "version": "3.6.15"
  },
  "papermill": {
   "duration": 6.293885,
   "end_time": "2022-07-18T12:16:53.256682",
   "environment_variables": {},
   "exception": null,
   "input_path": "2020-03-21-covid19exp.ipynb",
   "output_path": "2020-03-21-covid19exp.ipynb",
   "parameters": {},
   "start_time": "2022-07-18T12:16:46.962797",
   "version": "2.0.0"
  }
 },
 "nbformat": 4,
 "nbformat_minor": 5
}