{
 "cells": [
  {
   "cell_type": "markdown",
   "id": "muslim-click",
   "metadata": {
    "papermill": {
     "duration": 0.040084,
     "end_time": "2022-06-12T12:14:27.711252",
     "exception": false,
     "start_time": "2022-06-12T12:14:27.671168",
     "status": "completed"
    },
    "tags": []
   },
   "source": [
    "# COVID-19 Case Race\n",
    "> A race chart to see rising cases around the world\n",
    "\n",
    "- author: Hargun Oberoi\n",
    "- image: images/covid-overview.png\n",
    "- hide: false\n",
    "- badges: false"
   ]
  },
  {
   "cell_type": "code",
   "execution_count": 1,
   "id": "proof-material",
   "metadata": {
    "execution": {
     "iopub.execute_input": "2022-06-12T12:14:27.792741Z",
     "iopub.status.busy": "2022-06-12T12:14:27.792015Z",
     "iopub.status.idle": "2022-06-12T12:14:28.175280Z",
     "shell.execute_reply": "2022-06-12T12:14:28.173951Z"
    },
    "papermill": {
     "duration": 0.429905,
     "end_time": "2022-06-12T12:14:28.175462",
     "exception": false,
     "start_time": "2022-06-12T12:14:27.745557",
     "status": "completed"
    },
    "tags": []
   },
   "outputs": [],
   "source": [
    "#hide\n",
    "import numpy as np\n",
    "import pandas as pd\n",
    "from jinja2 import Template\n",
    "from IPython.display import HTML"
   ]
  },
  {
   "cell_type": "code",
   "execution_count": 2,
   "id": "developed-terminology",
   "metadata": {
    "execution": {
     "iopub.execute_input": "2022-06-12T12:14:28.246257Z",
     "iopub.status.busy": "2022-06-12T12:14:28.245593Z",
     "iopub.status.idle": "2022-06-12T12:14:28.248729Z",
     "shell.execute_reply": "2022-06-12T12:14:28.248183Z"
    },
    "papermill": {
     "duration": 0.040891,
     "end_time": "2022-06-12T12:14:28.248850",
     "exception": false,
     "start_time": "2022-06-12T12:14:28.207959",
     "status": "completed"
    },
    "tags": []
   },
   "outputs": [],
   "source": [
    "#hide\n",
    "\n",
    "# FETCH\n",
    "base_url = 'https://raw.githubusercontent.com/pratapvardhan/notebooks/master/covid19/'\n",
    "paths = {\n",
    "    'mapping': base_url + 'mapping_countries.csv',\n",
    "    'overview': base_url + 'overview.tpl'\n",
    "}"
   ]
  },
  {
   "cell_type": "code",
   "execution_count": 3,
   "id": "dynamic-saver",
   "metadata": {
    "execution": {
     "iopub.execute_input": "2022-06-12T12:14:28.325162Z",
     "iopub.status.busy": "2022-06-12T12:14:28.324500Z",
     "iopub.status.idle": "2022-06-12T12:14:28.328663Z",
     "shell.execute_reply": "2022-06-12T12:14:28.328108Z"
    },
    "papermill": {
     "duration": 0.046468,
     "end_time": "2022-06-12T12:14:28.328785",
     "exception": false,
     "start_time": "2022-06-12T12:14:28.282317",
     "status": "completed"
    },
    "tags": []
   },
   "outputs": [
    {
     "data": {
      "text/plain": [
       "'https://raw.githubusercontent.com/pratapvardhan/notebooks/master/covid19/mapping_countries.csv'"
      ]
     },
     "execution_count": 3,
     "metadata": {},
     "output_type": "execute_result"
    }
   ],
   "source": [
    "#hide\n",
    "paths['mapping']"
   ]
  },
  {
   "cell_type": "code",
   "execution_count": 4,
   "id": "urban-software",
   "metadata": {
    "execution": {
     "iopub.execute_input": "2022-06-12T12:14:28.402819Z",
     "iopub.status.busy": "2022-06-12T12:14:28.401952Z",
     "iopub.status.idle": "2022-06-12T12:14:28.404375Z",
     "shell.execute_reply": "2022-06-12T12:14:28.404903Z"
    },
    "papermill": {
     "duration": 0.042342,
     "end_time": "2022-06-12T12:14:28.405038",
     "exception": false,
     "start_time": "2022-06-12T12:14:28.362696",
     "status": "completed"
    },
    "tags": []
   },
   "outputs": [],
   "source": [
    "#hide\n",
    "def get_mappings(url):\n",
    "    df = pd.read_csv(url)\n",
    "    return {\n",
    "        'df': df,\n",
    "        'replace.country': dict(df.dropna(subset=['Name']).set_index('Country')['Name']),\n",
    "        'map.continent': dict(df.set_index('Name')['Continent'])\n",
    "    }"
   ]
  },
  {
   "cell_type": "code",
   "execution_count": 5,
   "id": "intimate-machinery",
   "metadata": {
    "execution": {
     "iopub.execute_input": "2022-06-12T12:14:28.477684Z",
     "iopub.status.busy": "2022-06-12T12:14:28.476957Z",
     "iopub.status.idle": "2022-06-12T12:14:28.511154Z",
     "shell.execute_reply": "2022-06-12T12:14:28.510497Z"
    },
    "papermill": {
     "duration": 0.072817,
     "end_time": "2022-06-12T12:14:28.511291",
     "exception": false,
     "start_time": "2022-06-12T12:14:28.438474",
     "status": "completed"
    },
    "tags": []
   },
   "outputs": [],
   "source": [
    "#hide\n",
    "mapping = get_mappings(paths['mapping'])"
   ]
  },
  {
   "cell_type": "code",
   "execution_count": 6,
   "id": "certified-tactics",
   "metadata": {
    "execution": {
     "iopub.execute_input": "2022-06-12T12:14:28.590297Z",
     "iopub.status.busy": "2022-06-12T12:14:28.589620Z",
     "iopub.status.idle": "2022-06-12T12:14:28.593107Z",
     "shell.execute_reply": "2022-06-12T12:14:28.592541Z"
    },
    "papermill": {
     "duration": 0.04685,
     "end_time": "2022-06-12T12:14:28.593293",
     "exception": false,
     "start_time": "2022-06-12T12:14:28.546443",
     "status": "completed"
    },
    "tags": []
   },
   "outputs": [],
   "source": [
    "#hide\n",
    "def get_template(path):\n",
    "    from urllib.parse import urlparse\n",
    "    if bool(urlparse(path).netloc):\n",
    "        from urllib.request import urlopen\n",
    "        return urlopen(path).read().decode('utf8')\n",
    "    return open(path).read()"
   ]
  },
  {
   "cell_type": "code",
   "execution_count": 7,
   "id": "realistic-blast",
   "metadata": {
    "execution": {
     "iopub.execute_input": "2022-06-12T12:14:28.670475Z",
     "iopub.status.busy": "2022-06-12T12:14:28.669381Z",
     "iopub.status.idle": "2022-06-12T12:14:28.671517Z",
     "shell.execute_reply": "2022-06-12T12:14:28.672529Z"
    },
    "papermill": {
     "duration": 0.044379,
     "end_time": "2022-06-12T12:14:28.672778",
     "exception": false,
     "start_time": "2022-06-12T12:14:28.628399",
     "status": "completed"
    },
    "tags": []
   },
   "outputs": [],
   "source": [
    "#hide\n",
    "def get_frame(name):\n",
    "    url = (\n",
    "        'https://raw.githubusercontent.com/CSSEGISandData/COVID-19/master/csse_covid_19_data/'\n",
    "        f'csse_covid_19_time_series/time_series_covid19_{name}_global.csv')\n",
    "    df = pd.read_csv(url)\n",
    "    # rename countries\n",
    "    df['Country/Region'] = df['Country/Region'].replace(mapping['replace.country'])\n",
    "    return df"
   ]
  },
  {
   "cell_type": "code",
   "execution_count": 8,
   "id": "affiliated-characterization",
   "metadata": {
    "execution": {
     "iopub.execute_input": "2022-06-12T12:14:28.750790Z",
     "iopub.status.busy": "2022-06-12T12:14:28.750085Z",
     "iopub.status.idle": "2022-06-12T12:14:28.752867Z",
     "shell.execute_reply": "2022-06-12T12:14:28.753354Z"
    },
    "papermill": {
     "duration": 0.045899,
     "end_time": "2022-06-12T12:14:28.753478",
     "exception": false,
     "start_time": "2022-06-12T12:14:28.707579",
     "status": "completed"
    },
    "tags": []
   },
   "outputs": [],
   "source": [
    "#hide\n",
    "def get_dates(df):\n",
    "    dt_cols = df.columns[~df.columns.isin(['Province/State', 'Country/Region', 'Lat', 'Long'])]\n",
    "    LAST_DATE_I = -1\n",
    "    # sometimes last column may be empty, then go backwards\n",
    "    for i in range(-1, -len(dt_cols), -1):\n",
    "        if not df[dt_cols[i]].fillna(0).eq(0).all():\n",
    "            LAST_DATE_I = i\n",
    "            break\n",
    "    return LAST_DATE_I, dt_cols"
   ]
  },
  {
   "cell_type": "code",
   "execution_count": 9,
   "id": "recent-optimization",
   "metadata": {
    "execution": {
     "iopub.execute_input": "2022-06-12T12:14:28.828870Z",
     "iopub.status.busy": "2022-06-12T12:14:28.828164Z",
     "iopub.status.idle": "2022-06-12T12:14:29.247676Z",
     "shell.execute_reply": "2022-06-12T12:14:29.247079Z"
    },
    "papermill": {
     "duration": 0.459192,
     "end_time": "2022-06-12T12:14:29.247823",
     "exception": false,
     "start_time": "2022-06-12T12:14:28.788631",
     "status": "completed"
    },
    "tags": []
   },
   "outputs": [],
   "source": [
    "#hide\n",
    "COL_REGION = 'Country/Region'\n",
    "# Confirmed, Recovered, Deaths\n",
    "df = get_frame('confirmed')\n",
    "# dft_: timeseries, dfc_: today country agg\n",
    "dft_cases = df\n",
    "dft_deaths = get_frame('deaths')\n",
    "dft_recovered = get_frame('recovered')\n",
    "LAST_DATE_I, dt_cols = get_dates(df)"
   ]
  },
  {
   "cell_type": "code",
   "execution_count": 10,
   "id": "absolute-copper",
   "metadata": {
    "execution": {
     "iopub.execute_input": "2022-06-12T12:14:29.324151Z",
     "iopub.status.busy": "2022-06-12T12:14:29.323327Z",
     "iopub.status.idle": "2022-06-12T12:14:29.326653Z",
     "shell.execute_reply": "2022-06-12T12:14:29.326010Z"
    },
    "papermill": {
     "duration": 0.044342,
     "end_time": "2022-06-12T12:14:29.326778",
     "exception": false,
     "start_time": "2022-06-12T12:14:29.282436",
     "status": "completed"
    },
    "tags": []
   },
   "outputs": [],
   "source": [
    "#hide\n",
    "LAST_DATE_I, dt_cols = get_dates(df)\n",
    "dt_today =dt_cols[LAST_DATE_I]\n",
    "# dt_5day = dt_cols[LAST_DATE_I - 5]\n",
    "dt_yday = dt_cols[LAST_DATE_I - 1]"
   ]
  },
  {
   "cell_type": "code",
   "execution_count": 11,
   "id": "restricted-sheriff",
   "metadata": {
    "execution": {
     "iopub.execute_input": "2022-06-12T12:14:29.408592Z",
     "iopub.status.busy": "2022-06-12T12:14:29.407820Z",
     "iopub.status.idle": "2022-06-12T12:14:29.416642Z",
     "shell.execute_reply": "2022-06-12T12:14:29.415972Z"
    },
    "papermill": {
     "duration": 0.052039,
     "end_time": "2022-06-12T12:14:29.416770",
     "exception": false,
     "start_time": "2022-06-12T12:14:29.364731",
     "status": "completed"
    },
    "tags": []
   },
   "outputs": [],
   "source": [
    "#hide\n",
    "dfc_cases = dft_cases.groupby(COL_REGION)[dt_today].sum()\n",
    "dfc_deaths = dft_deaths.groupby(COL_REGION)[dt_today].sum()\n",
    "# dfp_cases = dft_cases.groupby(COL_REGION)[dt_5day].sum()\n",
    "# dfp_deaths = dft_deaths.groupby(COL_REGION)[dt_5day].sum()\n",
    "dfp_cases = dft_cases.groupby(COL_REGION)[dt_yday].sum()\n",
    "dfp_deaths = dft_deaths.groupby(COL_REGION)[dt_yday].sum()"
   ]
  },
  {
   "cell_type": "code",
   "execution_count": 12,
   "id": "deluxe-hepatitis",
   "metadata": {
    "execution": {
     "iopub.execute_input": "2022-06-12T12:14:29.502763Z",
     "iopub.status.busy": "2022-06-12T12:14:29.501923Z",
     "iopub.status.idle": "2022-06-12T12:14:29.508058Z",
     "shell.execute_reply": "2022-06-12T12:14:29.507505Z"
    },
    "papermill": {
     "duration": 0.05016,
     "end_time": "2022-06-12T12:14:29.508183",
     "exception": false,
     "start_time": "2022-06-12T12:14:29.458023",
     "status": "completed"
    },
    "tags": []
   },
   "outputs": [],
   "source": [
    "#hide\n",
    "df_table = (pd.DataFrame(dict(Cases = dfc_cases, Deaths = dfc_deaths, PCases = dfp_cases, PDeaths = dfp_deaths))\n",
    "            .sort_values(by = ['Cases','Deaths'], ascending = [False, False])\n",
    "            .reset_index())"
   ]
  },
  {
   "cell_type": "code",
   "execution_count": 13,
   "id": "educational-chancellor",
   "metadata": {
    "execution": {
     "iopub.execute_input": "2022-06-12T12:14:29.594508Z",
     "iopub.status.busy": "2022-06-12T12:14:29.593876Z",
     "iopub.status.idle": "2022-06-12T12:14:29.604258Z",
     "shell.execute_reply": "2022-06-12T12:14:29.603523Z"
    },
    "papermill": {
     "duration": 0.062733,
     "end_time": "2022-06-12T12:14:29.604381",
     "exception": false,
     "start_time": "2022-06-12T12:14:29.541648",
     "status": "completed"
    },
    "tags": []
   },
   "outputs": [
    {
     "data": {
      "text/html": [
       "<div>\n",
       "<style scoped>\n",
       "    .dataframe tbody tr th:only-of-type {\n",
       "        vertical-align: middle;\n",
       "    }\n",
       "\n",
       "    .dataframe tbody tr th {\n",
       "        vertical-align: top;\n",
       "    }\n",
       "\n",
       "    .dataframe thead th {\n",
       "        text-align: right;\n",
       "    }\n",
       "</style>\n",
       "<table border=\"1\" class=\"dataframe\">\n",
       "  <thead>\n",
       "    <tr style=\"text-align: right;\">\n",
       "      <th></th>\n",
       "      <th>Country/Region</th>\n",
       "      <th>Cases</th>\n",
       "      <th>Deaths</th>\n",
       "      <th>PCases</th>\n",
       "      <th>PDeaths</th>\n",
       "      <th>Cases (+)</th>\n",
       "      <th>Deaths (+)</th>\n",
       "      <th>Fatality Rate</th>\n",
       "      <th>Continent</th>\n",
       "    </tr>\n",
       "  </thead>\n",
       "  <tbody>\n",
       "    <tr>\n",
       "      <th>0</th>\n",
       "      <td>US</td>\n",
       "      <td>85500976</td>\n",
       "      <td>1011260</td>\n",
       "      <td>85468816</td>\n",
       "      <td>1011164</td>\n",
       "      <td>32160</td>\n",
       "      <td>96</td>\n",
       "      <td>1.18</td>\n",
       "      <td>North America</td>\n",
       "    </tr>\n",
       "    <tr>\n",
       "      <th>1</th>\n",
       "      <td>India</td>\n",
       "      <td>43222017</td>\n",
       "      <td>524761</td>\n",
       "      <td>43213435</td>\n",
       "      <td>524757</td>\n",
       "      <td>8582</td>\n",
       "      <td>4</td>\n",
       "      <td>1.21</td>\n",
       "      <td>Asia</td>\n",
       "    </tr>\n",
       "    <tr>\n",
       "      <th>2</th>\n",
       "      <td>Brazil</td>\n",
       "      <td>31445137</td>\n",
       "      <td>668074</td>\n",
       "      <td>31417341</td>\n",
       "      <td>667960</td>\n",
       "      <td>27796</td>\n",
       "      <td>114</td>\n",
       "      <td>2.12</td>\n",
       "      <td>South America</td>\n",
       "    </tr>\n",
       "    <tr>\n",
       "      <th>3</th>\n",
       "      <td>France</td>\n",
       "      <td>29946603</td>\n",
       "      <td>149788</td>\n",
       "      <td>29946697</td>\n",
       "      <td>149749</td>\n",
       "      <td>0</td>\n",
       "      <td>39</td>\n",
       "      <td>0.50</td>\n",
       "      <td>Europe</td>\n",
       "    </tr>\n",
       "    <tr>\n",
       "      <th>4</th>\n",
       "      <td>Germany</td>\n",
       "      <td>26803867</td>\n",
       "      <td>139806</td>\n",
       "      <td>26803867</td>\n",
       "      <td>139806</td>\n",
       "      <td>0</td>\n",
       "      <td>0</td>\n",
       "      <td>0.52</td>\n",
       "      <td>Europe</td>\n",
       "    </tr>\n",
       "  </tbody>\n",
       "</table>\n",
       "</div>"
      ],
      "text/plain": [
       "  Country/Region     Cases   Deaths    PCases  PDeaths  Cases (+)  Deaths (+)  \\\n",
       "0             US  85500976  1011260  85468816  1011164      32160          96   \n",
       "1          India  43222017   524761  43213435   524757       8582           4   \n",
       "2         Brazil  31445137   668074  31417341   667960      27796         114   \n",
       "3         France  29946603   149788  29946697   149749          0          39   \n",
       "4        Germany  26803867   139806  26803867   139806          0           0   \n",
       "\n",
       "   Fatality Rate      Continent  \n",
       "0           1.18  North America  \n",
       "1           1.21           Asia  \n",
       "2           2.12  South America  \n",
       "3           0.50         Europe  \n",
       "4           0.52         Europe  "
      ]
     },
     "execution_count": 13,
     "metadata": {},
     "output_type": "execute_result"
    }
   ],
   "source": [
    "#hide\n",
    "for c in 'Cases, Deaths'.split(', '):\n",
    "    df_table[f'{c} (+)'] = (df_table[c] - df_table[f'P{c}']).clip(0)\n",
    "    #Clip ça veut dire, les chiffres negatif sont interdit\n",
    "df_table['Fatality Rate'] = (100* df_table['Deaths']/ df_table['Cases']).round(2)\n",
    "df_table['Continent'] = df_table['Country/Region'].map(mapping['map.continent'])\n",
    "df_table.head(5)"
   ]
  },
  {
   "cell_type": "code",
   "execution_count": 14,
   "id": "aboriginal-bulgaria",
   "metadata": {
    "execution": {
     "iopub.execute_input": "2022-06-12T12:14:29.681579Z",
     "iopub.status.busy": "2022-06-12T12:14:29.680479Z",
     "iopub.status.idle": "2022-06-12T12:14:29.682847Z",
     "shell.execute_reply": "2022-06-12T12:14:29.683519Z"
    },
    "papermill": {
     "duration": 0.043884,
     "end_time": "2022-06-12T12:14:29.683658",
     "exception": false,
     "start_time": "2022-06-12T12:14:29.639774",
     "status": "completed"
    },
    "tags": []
   },
   "outputs": [],
   "source": [
    "#hide\n",
    "#delete problematic countries from table\n",
    "df_table = df_table[~df_table['Country/Region'].isin(['Cape Verde', 'Cruise Ship', 'Kosovo'])]"
   ]
  },
  {
   "cell_type": "code",
   "execution_count": 15,
   "id": "fantastic-effect",
   "metadata": {
    "execution": {
     "iopub.execute_input": "2022-06-12T12:14:29.758876Z",
     "iopub.status.busy": "2022-06-12T12:14:29.758230Z",
     "iopub.status.idle": "2022-06-12T12:14:29.778737Z",
     "shell.execute_reply": "2022-06-12T12:14:29.779341Z"
    },
    "papermill": {
     "duration": 0.06253,
     "end_time": "2022-06-12T12:14:29.779485",
     "exception": false,
     "start_time": "2022-06-12T12:14:29.716955",
     "status": "completed"
    },
    "tags": []
   },
   "outputs": [
    {
     "data": {
      "text/html": [
       "<div>\n",
       "<style scoped>\n",
       "    .dataframe tbody tr th:only-of-type {\n",
       "        vertical-align: middle;\n",
       "    }\n",
       "\n",
       "    .dataframe tbody tr th {\n",
       "        vertical-align: top;\n",
       "    }\n",
       "\n",
       "    .dataframe thead th {\n",
       "        text-align: right;\n",
       "    }\n",
       "</style>\n",
       "<table border=\"1\" class=\"dataframe\">\n",
       "  <thead>\n",
       "    <tr style=\"text-align: right;\">\n",
       "      <th></th>\n",
       "      <th>Country/Region</th>\n",
       "      <th>Cases</th>\n",
       "      <th>Deaths</th>\n",
       "      <th>PCases</th>\n",
       "      <th>PDeaths</th>\n",
       "      <th>Cases (+)</th>\n",
       "      <th>Deaths (+)</th>\n",
       "      <th>Fatality Rate</th>\n",
       "      <th>Continent</th>\n",
       "    </tr>\n",
       "  </thead>\n",
       "  <tbody>\n",
       "    <tr>\n",
       "      <th>0</th>\n",
       "      <td>US</td>\n",
       "      <td>85500976</td>\n",
       "      <td>1011260</td>\n",
       "      <td>85468816</td>\n",
       "      <td>1011164</td>\n",
       "      <td>32160</td>\n",
       "      <td>96</td>\n",
       "      <td>1.2</td>\n",
       "      <td>North America</td>\n",
       "    </tr>\n",
       "    <tr>\n",
       "      <th>1</th>\n",
       "      <td>India</td>\n",
       "      <td>43222017</td>\n",
       "      <td>524761</td>\n",
       "      <td>43213435</td>\n",
       "      <td>524757</td>\n",
       "      <td>8582</td>\n",
       "      <td>4</td>\n",
       "      <td>1.2</td>\n",
       "      <td>Asia</td>\n",
       "    </tr>\n",
       "    <tr>\n",
       "      <th>2</th>\n",
       "      <td>Brazil</td>\n",
       "      <td>31445137</td>\n",
       "      <td>668074</td>\n",
       "      <td>31417341</td>\n",
       "      <td>667960</td>\n",
       "      <td>27796</td>\n",
       "      <td>114</td>\n",
       "      <td>2.1</td>\n",
       "      <td>South America</td>\n",
       "    </tr>\n",
       "    <tr>\n",
       "      <th>3</th>\n",
       "      <td>France</td>\n",
       "      <td>29946603</td>\n",
       "      <td>149788</td>\n",
       "      <td>29946697</td>\n",
       "      <td>149749</td>\n",
       "      <td>0</td>\n",
       "      <td>39</td>\n",
       "      <td>0.5</td>\n",
       "      <td>Europe</td>\n",
       "    </tr>\n",
       "    <tr>\n",
       "      <th>4</th>\n",
       "      <td>Germany</td>\n",
       "      <td>26803867</td>\n",
       "      <td>139806</td>\n",
       "      <td>26803867</td>\n",
       "      <td>139806</td>\n",
       "      <td>0</td>\n",
       "      <td>0</td>\n",
       "      <td>0.5</td>\n",
       "      <td>Europe</td>\n",
       "    </tr>\n",
       "  </tbody>\n",
       "</table>\n",
       "</div>"
      ],
      "text/plain": [
       "  Country/Region     Cases   Deaths    PCases  PDeaths  Cases (+)  Deaths (+)  \\\n",
       "0             US  85500976  1011260  85468816  1011164      32160          96   \n",
       "1          India  43222017   524761  43213435   524757       8582           4   \n",
       "2         Brazil  31445137   668074  31417341   667960      27796         114   \n",
       "3         France  29946603   149788  29946697   149749          0          39   \n",
       "4        Germany  26803867   139806  26803867   139806          0           0   \n",
       "\n",
       "   Fatality Rate      Continent  \n",
       "0            1.2  North America  \n",
       "1            1.2           Asia  \n",
       "2            2.1  South America  \n",
       "3            0.5         Europe  \n",
       "4            0.5         Europe  "
      ]
     },
     "execution_count": 15,
     "metadata": {},
     "output_type": "execute_result"
    }
   ],
   "source": [
    "#hide\n",
    "df_table = (pd.DataFrame(dict(Cases=dfc_cases, Deaths=dfc_deaths, PCases=dfp_cases, PDeaths=dfp_deaths))\n",
    "             .sort_values(by=['Cases', 'Deaths'], ascending=[False, False])\n",
    "             .reset_index())\n",
    "df_table.rename(columns={'index': 'Country/Region'}, inplace=True)\n",
    "for c in 'Cases, Deaths'.split(', '):\n",
    "    df_table[f'{c} (+)'] = (df_table[c] - df_table[f'P{c}']).clip(0)  # DATA BUG\n",
    "df_table['Fatality Rate'] = (100 * df_table['Deaths'] / df_table['Cases']).round(1)\n",
    "df_table['Continent'] = df_table['Country/Region'].map(mapping['map.continent'])\n",
    "df_table.head(5)"
   ]
  },
  {
   "cell_type": "code",
   "execution_count": 16,
   "id": "fewer-occasion",
   "metadata": {
    "execution": {
     "iopub.execute_input": "2022-06-12T12:14:29.857205Z",
     "iopub.status.busy": "2022-06-12T12:14:29.856546Z",
     "iopub.status.idle": "2022-06-12T12:14:29.859317Z",
     "shell.execute_reply": "2022-06-12T12:14:29.859868Z"
    },
    "papermill": {
     "duration": 0.044217,
     "end_time": "2022-06-12T12:14:29.860025",
     "exception": false,
     "start_time": "2022-06-12T12:14:29.815808",
     "status": "completed"
    },
    "tags": []
   },
   "outputs": [],
   "source": [
    "#hide\n",
    "#delete problematic countries from table\n",
    "df_table = df_table[~df_table['Country/Region'].isin(['Cape Verde', 'Cruise Ship', 'Kosovo'])]"
   ]
  },
  {
   "cell_type": "code",
   "execution_count": 17,
   "id": "related-center",
   "metadata": {
    "execution": {
     "iopub.execute_input": "2022-06-12T12:14:29.938610Z",
     "iopub.status.busy": "2022-06-12T12:14:29.937882Z",
     "iopub.status.idle": "2022-06-12T12:14:29.952833Z",
     "shell.execute_reply": "2022-06-12T12:14:29.953451Z"
    },
    "papermill": {
     "duration": 0.059468,
     "end_time": "2022-06-12T12:14:29.953611",
     "exception": false,
     "start_time": "2022-06-12T12:14:29.894143",
     "status": "completed"
    },
    "tags": []
   },
   "outputs": [],
   "source": [
    "#hide\n",
    "metrics = [df_table.columns[index] for index in [1,2,5,6]]\n",
    "# s_china = df_table[df_table['Country/Region'].eq('China')][metrics].sum().add_prefix('China ')\n",
    "s_us = df_table[df_table['Country/Region'].eq('US')][metrics].sum().add_prefix('US ')\n",
    "s_eu = df_table[df_table['Continent'].eq('Europe')][metrics].sum().add_prefix('EU ')\n",
    "s_ind = df_table[df_table['Country/Region'].eq('India')][metrics].sum().add_prefix('India ')\n",
    "summary = {'updated': pd.to_datetime(dt_today), 'since': pd.to_datetime(dt_yday)}\n",
    "summary = {'updated': pd.to_datetime(dt_today), 'since': pd.to_datetime(dt_yday)}\n",
    "summary = {**summary, **df_table[metrics].sum(), **s_ind, **s_us, **s_eu}"
   ]
  },
  {
   "cell_type": "code",
   "execution_count": 18,
   "id": "engaging-syndrome",
   "metadata": {
    "execution": {
     "iopub.execute_input": "2022-06-12T12:14:30.028085Z",
     "iopub.status.busy": "2022-06-12T12:14:30.027405Z",
     "iopub.status.idle": "2022-06-12T12:14:30.052280Z",
     "shell.execute_reply": "2022-06-12T12:14:30.051803Z"
    },
    "papermill": {
     "duration": 0.06386,
     "end_time": "2022-06-12T12:14:30.052404",
     "exception": false,
     "start_time": "2022-06-12T12:14:29.988544",
     "status": "completed"
    },
    "tags": []
   },
   "outputs": [],
   "source": [
    "#hide\n",
    "dft_ct_new_cases = dft_cases.groupby(COL_REGION)[dt_cols].sum().diff(axis=1).fillna(0).astype(int)"
   ]
  },
  {
   "cell_type": "code",
   "execution_count": 19,
   "id": "neutral-assignment",
   "metadata": {
    "execution": {
     "iopub.execute_input": "2022-06-12T12:14:30.127580Z",
     "iopub.status.busy": "2022-06-12T12:14:30.126872Z",
     "iopub.status.idle": "2022-06-12T12:14:30.130368Z",
     "shell.execute_reply": "2022-06-12T12:14:30.129712Z"
    },
    "papermill": {
     "duration": 0.044146,
     "end_time": "2022-06-12T12:14:30.130492",
     "exception": false,
     "start_time": "2022-06-12T12:14:30.086346",
     "status": "completed"
    },
    "tags": []
   },
   "outputs": [],
   "source": [
    "#hide\n",
    "everydaycases = dft_ct_new_cases.cumsum(axis=1)"
   ]
  },
  {
   "cell_type": "code",
   "execution_count": 20,
   "id": "parliamentary-calgary",
   "metadata": {
    "execution": {
     "iopub.execute_input": "2022-06-12T12:14:30.206787Z",
     "iopub.status.busy": "2022-06-12T12:14:30.206069Z",
     "iopub.status.idle": "2022-06-12T12:14:30.881688Z",
     "shell.execute_reply": "2022-06-12T12:14:30.880211Z"
    },
    "papermill": {
     "duration": 0.715546,
     "end_time": "2022-06-12T12:14:30.881841",
     "exception": false,
     "start_time": "2022-06-12T12:14:30.166295",
     "status": "completed"
    },
    "tags": []
   },
   "outputs": [],
   "source": [
    "#hide\n",
    "import pandas as pd\n",
    "import matplotlib.pyplot as plt\n",
    "import matplotlib.ticker as ticker\n",
    "import matplotlib.animation as animation\n",
    "from IPython.display import HTML"
   ]
  },
  {
   "cell_type": "code",
   "execution_count": 21,
   "id": "lasting-extraction",
   "metadata": {
    "execution": {
     "iopub.execute_input": "2022-06-12T12:14:30.967231Z",
     "iopub.status.busy": "2022-06-12T12:14:30.966493Z",
     "iopub.status.idle": "2022-06-12T12:14:30.973832Z",
     "shell.execute_reply": "2022-06-12T12:14:30.974374Z"
    },
    "papermill": {
     "duration": 0.053105,
     "end_time": "2022-06-12T12:14:30.974549",
     "exception": false,
     "start_time": "2022-06-12T12:14:30.921444",
     "status": "completed"
    },
    "tags": []
   },
   "outputs": [],
   "source": [
    "#hide\n",
    "t = everydaycases.stack()"
   ]
  },
  {
   "cell_type": "code",
   "execution_count": 22,
   "id": "premier-sleeve",
   "metadata": {
    "execution": {
     "iopub.execute_input": "2022-06-12T12:14:31.051301Z",
     "iopub.status.busy": "2022-06-12T12:14:31.050599Z",
     "iopub.status.idle": "2022-06-12T12:14:31.063211Z",
     "shell.execute_reply": "2022-06-12T12:14:31.062643Z"
    },
    "papermill": {
     "duration": 0.052231,
     "end_time": "2022-06-12T12:14:31.063335",
     "exception": false,
     "start_time": "2022-06-12T12:14:31.011104",
     "status": "completed"
    },
    "tags": []
   },
   "outputs": [],
   "source": [
    "#hide\n",
    "g = t.reset_index(['Country/Region'])"
   ]
  },
  {
   "cell_type": "code",
   "execution_count": 23,
   "id": "distributed-pittsburgh",
   "metadata": {
    "execution": {
     "iopub.execute_input": "2022-06-12T12:14:31.136771Z",
     "iopub.status.busy": "2022-06-12T12:14:31.136113Z",
     "iopub.status.idle": "2022-06-12T12:14:31.138899Z",
     "shell.execute_reply": "2022-06-12T12:14:31.138386Z"
    },
    "papermill": {
     "duration": 0.041291,
     "end_time": "2022-06-12T12:14:31.139005",
     "exception": false,
     "start_time": "2022-06-12T12:14:31.097714",
     "status": "completed"
    },
    "tags": []
   },
   "outputs": [],
   "source": [
    "#hide\n",
    "g.index.name = 'date'"
   ]
  },
  {
   "cell_type": "code",
   "execution_count": 24,
   "id": "naked-donor",
   "metadata": {
    "execution": {
     "iopub.execute_input": "2022-06-12T12:14:31.211822Z",
     "iopub.status.busy": "2022-06-12T12:14:31.211143Z",
     "iopub.status.idle": "2022-06-12T12:14:31.213865Z",
     "shell.execute_reply": "2022-06-12T12:14:31.213204Z"
    },
    "papermill": {
     "duration": 0.040578,
     "end_time": "2022-06-12T12:14:31.213988",
     "exception": false,
     "start_time": "2022-06-12T12:14:31.173410",
     "status": "completed"
    },
    "tags": []
   },
   "outputs": [],
   "source": [
    "# #hide\n",
    "# g = g.reset_index(['date'])"
   ]
  },
  {
   "cell_type": "code",
   "execution_count": 25,
   "id": "incomplete-mustang",
   "metadata": {
    "execution": {
     "iopub.execute_input": "2022-06-12T12:14:31.285833Z",
     "iopub.status.busy": "2022-06-12T12:14:31.285165Z",
     "iopub.status.idle": "2022-06-12T12:14:31.288363Z",
     "shell.execute_reply": "2022-06-12T12:14:31.287817Z"
    },
    "papermill": {
     "duration": 0.04062,
     "end_time": "2022-06-12T12:14:31.288555",
     "exception": false,
     "start_time": "2022-06-12T12:14:31.247935",
     "status": "completed"
    },
    "tags": []
   },
   "outputs": [],
   "source": [
    "#hide\n",
    "# g.head()"
   ]
  },
  {
   "cell_type": "code",
   "execution_count": 26,
   "id": "specific-kruger",
   "metadata": {
    "execution": {
     "iopub.execute_input": "2022-06-12T12:14:31.362713Z",
     "iopub.status.busy": "2022-06-12T12:14:31.361752Z",
     "iopub.status.idle": "2022-06-12T12:14:31.363726Z",
     "shell.execute_reply": "2022-06-12T12:14:31.364427Z"
    },
    "papermill": {
     "duration": 0.041119,
     "end_time": "2022-06-12T12:14:31.364601",
     "exception": false,
     "start_time": "2022-06-12T12:14:31.323482",
     "status": "completed"
    },
    "tags": []
   },
   "outputs": [],
   "source": [
    "#hide\n",
    "# g.columns = ['date','country','cases']"
   ]
  },
  {
   "cell_type": "code",
   "execution_count": 27,
   "id": "tender-conversion",
   "metadata": {
    "execution": {
     "iopub.execute_input": "2022-06-12T12:14:31.437630Z",
     "iopub.status.busy": "2022-06-12T12:14:31.436944Z",
     "iopub.status.idle": "2022-06-12T12:14:31.439738Z",
     "shell.execute_reply": "2022-06-12T12:14:31.439075Z"
    },
    "papermill": {
     "duration": 0.040913,
     "end_time": "2022-06-12T12:14:31.439863",
     "exception": false,
     "start_time": "2022-06-12T12:14:31.398950",
     "status": "completed"
    },
    "tags": []
   },
   "outputs": [],
   "source": [
    "#hide\n",
    "# g['continent'] = g.country"
   ]
  },
  {
   "cell_type": "code",
   "execution_count": 28,
   "id": "substantial-wilderness",
   "metadata": {
    "execution": {
     "iopub.execute_input": "2022-06-12T12:14:31.514769Z",
     "iopub.status.busy": "2022-06-12T12:14:31.513743Z",
     "iopub.status.idle": "2022-06-12T12:14:31.518462Z",
     "shell.execute_reply": "2022-06-12T12:14:31.517699Z"
    },
    "papermill": {
     "duration": 0.043661,
     "end_time": "2022-06-12T12:14:31.518667",
     "exception": false,
     "start_time": "2022-06-12T12:14:31.475006",
     "status": "completed"
    },
    "tags": []
   },
   "outputs": [],
   "source": [
    "#hide\n",
    "# cols = list(g.columns.values)"
   ]
  },
  {
   "cell_type": "code",
   "execution_count": 29,
   "id": "solved-farming",
   "metadata": {
    "execution": {
     "iopub.execute_input": "2022-06-12T12:14:31.603496Z",
     "iopub.status.busy": "2022-06-12T12:14:31.602779Z",
     "iopub.status.idle": "2022-06-12T12:14:31.606151Z",
     "shell.execute_reply": "2022-06-12T12:14:31.605628Z"
    },
    "papermill": {
     "duration": 0.048008,
     "end_time": "2022-06-12T12:14:31.606280",
     "exception": false,
     "start_time": "2022-06-12T12:14:31.558272",
     "status": "completed"
    },
    "tags": []
   },
   "outputs": [],
   "source": [
    "#hide\n",
    "# cols.insert(0, cols.pop())"
   ]
  },
  {
   "cell_type": "code",
   "execution_count": 30,
   "id": "executed-adoption",
   "metadata": {
    "execution": {
     "iopub.execute_input": "2022-06-12T12:14:31.689435Z",
     "iopub.status.busy": "2022-06-12T12:14:31.688725Z",
     "iopub.status.idle": "2022-06-12T12:14:31.691761Z",
     "shell.execute_reply": "2022-06-12T12:14:31.691216Z"
    },
    "papermill": {
     "duration": 0.043112,
     "end_time": "2022-06-12T12:14:31.691879",
     "exception": false,
     "start_time": "2022-06-12T12:14:31.648767",
     "status": "completed"
    },
    "tags": []
   },
   "outputs": [],
   "source": [
    "#hide\n",
    "# g = g[cols]"
   ]
  },
  {
   "cell_type": "code",
   "execution_count": 31,
   "id": "subject-dublin",
   "metadata": {
    "execution": {
     "iopub.execute_input": "2022-06-12T12:14:31.773231Z",
     "iopub.status.busy": "2022-06-12T12:14:31.772543Z",
     "iopub.status.idle": "2022-06-12T12:14:31.775574Z",
     "shell.execute_reply": "2022-06-12T12:14:31.774899Z"
    },
    "papermill": {
     "duration": 0.046405,
     "end_time": "2022-06-12T12:14:31.775699",
     "exception": false,
     "start_time": "2022-06-12T12:14:31.729294",
     "status": "completed"
    },
    "tags": []
   },
   "outputs": [],
   "source": [
    "#hide\n",
    "# g['continent'] = g['continent'].map(mapping['map.continent'])"
   ]
  },
  {
   "cell_type": "code",
   "execution_count": 32,
   "id": "freelance-scout",
   "metadata": {
    "execution": {
     "iopub.execute_input": "2022-06-12T12:14:31.851955Z",
     "iopub.status.busy": "2022-06-12T12:14:31.851231Z",
     "iopub.status.idle": "2022-06-12T12:14:31.853964Z",
     "shell.execute_reply": "2022-06-12T12:14:31.853245Z"
    },
    "papermill": {
     "duration": 0.041999,
     "end_time": "2022-06-12T12:14:31.854166",
     "exception": false,
     "start_time": "2022-06-12T12:14:31.812167",
     "status": "completed"
    },
    "tags": []
   },
   "outputs": [],
   "source": [
    "#hide\n",
    "# g.head()"
   ]
  },
  {
   "cell_type": "code",
   "execution_count": 33,
   "id": "limited-engine",
   "metadata": {
    "execution": {
     "iopub.execute_input": "2022-06-12T12:14:31.935368Z",
     "iopub.status.busy": "2022-06-12T12:14:31.934693Z",
     "iopub.status.idle": "2022-06-12T12:14:31.937174Z",
     "shell.execute_reply": "2022-06-12T12:14:31.937788Z"
    },
    "papermill": {
     "duration": 0.046236,
     "end_time": "2022-06-12T12:14:31.937938",
     "exception": false,
     "start_time": "2022-06-12T12:14:31.891702",
     "status": "completed"
    },
    "tags": []
   },
   "outputs": [],
   "source": [
    "# hide\n",
    "# g['date'] = g['date'].astype('datetime64[ns]')"
   ]
  },
  {
   "cell_type": "code",
   "execution_count": 34,
   "id": "sophisticated-supervisor",
   "metadata": {
    "execution": {
     "iopub.execute_input": "2022-06-12T12:14:32.021267Z",
     "iopub.status.busy": "2022-06-12T12:14:32.020592Z",
     "iopub.status.idle": "2022-06-12T12:14:32.023769Z",
     "shell.execute_reply": "2022-06-12T12:14:32.023202Z"
    },
    "papermill": {
     "duration": 0.048006,
     "end_time": "2022-06-12T12:14:32.023896",
     "exception": false,
     "start_time": "2022-06-12T12:14:31.975890",
     "status": "completed"
    },
    "tags": []
   },
   "outputs": [],
   "source": [
    "#hide\n",
    "# g['date'] = g.date.dt.dayofyear"
   ]
  },
  {
   "cell_type": "code",
   "execution_count": 35,
   "id": "inside-dubai",
   "metadata": {
    "execution": {
     "iopub.execute_input": "2022-06-12T12:14:32.101019Z",
     "iopub.status.busy": "2022-06-12T12:14:32.100328Z",
     "iopub.status.idle": "2022-06-12T12:14:32.105531Z",
     "shell.execute_reply": "2022-06-12T12:14:32.104938Z"
    },
    "papermill": {
     "duration": 0.045225,
     "end_time": "2022-06-12T12:14:32.105653",
     "exception": false,
     "start_time": "2022-06-12T12:14:32.060428",
     "status": "completed"
    },
    "tags": []
   },
   "outputs": [],
   "source": [
    "#hide\n",
    "# g = g.rename(columns= {'continent':'group','country':'name','cases':'value'})"
   ]
  },
  {
   "cell_type": "code",
   "execution_count": 36,
   "id": "fleet-motorcycle",
   "metadata": {
    "execution": {
     "iopub.execute_input": "2022-06-12T12:14:32.179905Z",
     "iopub.status.busy": "2022-06-12T12:14:32.179209Z",
     "iopub.status.idle": "2022-06-12T12:14:32.182242Z",
     "shell.execute_reply": "2022-06-12T12:14:32.181595Z"
    },
    "papermill": {
     "duration": 0.041545,
     "end_time": "2022-06-12T12:14:32.182381",
     "exception": false,
     "start_time": "2022-06-12T12:14:32.140836",
     "status": "completed"
    },
    "tags": []
   },
   "outputs": [],
   "source": [
    "#hide\n",
    "# cols = ['name','group','day','value']"
   ]
  },
  {
   "cell_type": "code",
   "execution_count": 37,
   "id": "continued-sleeping",
   "metadata": {
    "execution": {
     "iopub.execute_input": "2022-06-12T12:14:32.267773Z",
     "iopub.status.busy": "2022-06-12T12:14:32.267071Z",
     "iopub.status.idle": "2022-06-12T12:14:32.271070Z",
     "shell.execute_reply": "2022-06-12T12:14:32.271914Z"
    },
    "papermill": {
     "duration": 0.048146,
     "end_time": "2022-06-12T12:14:32.272147",
     "exception": false,
     "start_time": "2022-06-12T12:14:32.224001",
     "status": "completed"
    },
    "tags": []
   },
   "outputs": [],
   "source": [
    "#hide\n",
    "# g.rename(columns= {'date':'day'},inplace = True)"
   ]
  },
  {
   "cell_type": "code",
   "execution_count": 38,
   "id": "major-fight",
   "metadata": {
    "execution": {
     "iopub.execute_input": "2022-06-12T12:14:32.358119Z",
     "iopub.status.busy": "2022-06-12T12:14:32.357196Z",
     "iopub.status.idle": "2022-06-12T12:14:32.359503Z",
     "shell.execute_reply": "2022-06-12T12:14:32.360435Z"
    },
    "papermill": {
     "duration": 0.046639,
     "end_time": "2022-06-12T12:14:32.360628",
     "exception": false,
     "start_time": "2022-06-12T12:14:32.313989",
     "status": "completed"
    },
    "tags": []
   },
   "outputs": [],
   "source": [
    "#hide\n",
    "# g = g[cols]"
   ]
  },
  {
   "cell_type": "code",
   "execution_count": 39,
   "id": "structured-mobile",
   "metadata": {
    "execution": {
     "iopub.execute_input": "2022-06-12T12:14:32.440035Z",
     "iopub.status.busy": "2022-06-12T12:14:32.439322Z",
     "iopub.status.idle": "2022-06-12T12:14:32.442305Z",
     "shell.execute_reply": "2022-06-12T12:14:32.441752Z"
    },
    "papermill": {
     "duration": 0.043003,
     "end_time": "2022-06-12T12:14:32.442426",
     "exception": false,
     "start_time": "2022-06-12T12:14:32.399423",
     "status": "completed"
    },
    "tags": []
   },
   "outputs": [],
   "source": [
    "# #hide\n",
    "# g = g[g.group.notna()]"
   ]
  },
  {
   "cell_type": "code",
   "execution_count": 40,
   "id": "determined-closing",
   "metadata": {
    "execution": {
     "iopub.execute_input": "2022-06-12T12:14:32.517155Z",
     "iopub.status.busy": "2022-06-12T12:14:32.516319Z",
     "iopub.status.idle": "2022-06-12T12:14:32.518220Z",
     "shell.execute_reply": "2022-06-12T12:14:32.519219Z"
    },
    "papermill": {
     "duration": 0.041933,
     "end_time": "2022-06-12T12:14:32.519394",
     "exception": false,
     "start_time": "2022-06-12T12:14:32.477461",
     "status": "completed"
    },
    "tags": []
   },
   "outputs": [],
   "source": [
    "# #hide\n",
    "# colors = dict(zip(\n",
    "#     [\"Oceania\", \"Europe\", \"Asia\", \"South America\", \"Middle East\", \"North America\", \"Africa\"],\n",
    "#     [\"#adb0ff\", \"#ffb3ff\", \"#90d595\", \"#e48381\", \"#aafbff\", \"#f7bb5f\", \"#eafb50\"]\n",
    "# ))\n",
    "# group_lk = g.set_index('name')['group'].to_dict()"
   ]
  },
  {
   "cell_type": "code",
   "execution_count": null,
   "id": "gross-drinking",
   "metadata": {
    "papermill": {
     "duration": 0.039014,
     "end_time": "2022-06-12T12:14:32.597351",
     "exception": false,
     "start_time": "2022-06-12T12:14:32.558337",
     "status": "completed"
    },
    "tags": []
   },
   "outputs": [],
   "source": []
  },
  {
   "cell_type": "code",
   "execution_count": 41,
   "id": "subject-macintosh",
   "metadata": {
    "execution": {
     "iopub.execute_input": "2022-06-12T12:14:32.681988Z",
     "iopub.status.busy": "2022-06-12T12:14:32.681289Z",
     "iopub.status.idle": "2022-06-12T12:14:32.684279Z",
     "shell.execute_reply": "2022-06-12T12:14:32.684875Z"
    },
    "papermill": {
     "duration": 0.04778,
     "end_time": "2022-06-12T12:14:32.685030",
     "exception": false,
     "start_time": "2022-06-12T12:14:32.637250",
     "status": "completed"
    },
    "tags": []
   },
   "outputs": [],
   "source": [
    "# #hide\n",
    "# fig, ax = plt.subplots(figsize=(15, 8))\n",
    "\n",
    "# def draw_barchart(current_day):\n",
    "#     dff = g[g['day'].eq(current_day)].sort_values(by='value', ascending=True).tail(10)\n",
    "#     ax.clear()\n",
    "#     ax.barh(dff['name'], dff['value'], color=[colors[group_lk[x]] for x in dff['name']])\n",
    "#     dx = dff['value'].max() / 200\n",
    "    \n",
    "#     for i, (value, name) in enumerate(zip(dff['value'], dff['name'])):\n",
    "#         ax.text(value-dx, i,     name,           size=14, weight=600, ha='right', va='bottom')\n",
    "#         ax.text(value-dx, i-.25, group_lk[name], size=10, color='#444444', ha='right', va='baseline')\n",
    "#         ax.text(value+dx, i,     f'{value:,.0f}',  size=14, ha='left',  va='center')\n",
    "#     ax.text(1, 0.4, current_day, transform=ax.transAxes, color='#777777', size=46, ha='right', weight=800)\n",
    "#     ax.text(0, 1.06, 'Population (thousands)', transform=ax.transAxes, size=12, color='#777777')\n",
    "#     ax.xaxis.set_major_formatter(ticker.StrMethodFormatter('{x:,.0f}'))\n",
    "#     ax.xaxis.set_ticks_position('top')\n",
    "#     ax.tick_params(axis='x', colors='#777777', labelsize=12)\n",
    "#     ax.set_yticks([])\n",
    "#     ax.margins(0, 0.01)\n",
    "#     ax.grid(which='major', axis='x', linestyle='-')\n",
    "#     ax.set_axisbelow(True)\n",
    "    \n",
    "#     ax.text(0, 1.15, 'Coronavirus',\n",
    "#             transform=ax.transAxes, size=24, weight=600, ha='left', va='top')\n",
    "# #     ax.text(1, 0, 'by @pratapvardhan; credit @jburnmurdoch', transform=ax.transAxes, color='#777777', ha='right',\n",
    "# #             bbox=dict(facecolor='white', alpha=0.8, edgecolor='white'))\n",
    "#     plt.box(False)"
   ]
  },
  {
   "cell_type": "code",
   "execution_count": 42,
   "id": "sexual-wages",
   "metadata": {
    "execution": {
     "iopub.execute_input": "2022-06-12T12:14:32.765151Z",
     "iopub.status.busy": "2022-06-12T12:14:32.764064Z",
     "iopub.status.idle": "2022-06-12T12:14:32.767632Z",
     "shell.execute_reply": "2022-06-12T12:14:32.768288Z"
    },
    "papermill": {
     "duration": 0.045639,
     "end_time": "2022-06-12T12:14:32.768528",
     "exception": false,
     "start_time": "2022-06-12T12:14:32.722889",
     "status": "completed"
    },
    "tags": []
   },
   "outputs": [],
   "source": [
    "# #hide_input\n",
    "# fig, ax = plt.subplots(figsize=(15, 8))\n",
    "# animator = animation.FuncAnimation(fig, draw_barchart, frames=range(g.day.values.min(), g.day.values.max()))\n",
    "# HTML(animator.to_jshtml())\n",
    "# # or use animator.to_html5_video() or animator.save() "
   ]
  },
  {
   "cell_type": "code",
   "execution_count": null,
   "id": "australian-container",
   "metadata": {
    "papermill": {
     "duration": 0.042668,
     "end_time": "2022-06-12T12:14:32.853308",
     "exception": false,
     "start_time": "2022-06-12T12:14:32.810640",
     "status": "completed"
    },
    "tags": []
   },
   "outputs": [],
   "source": []
  },
  {
   "cell_type": "code",
   "execution_count": null,
   "id": "mediterranean-pontiac",
   "metadata": {
    "papermill": {
     "duration": 0.041353,
     "end_time": "2022-06-12T12:14:32.936555",
     "exception": false,
     "start_time": "2022-06-12T12:14:32.895202",
     "status": "completed"
    },
    "tags": []
   },
   "outputs": [],
   "source": []
  },
  {
   "cell_type": "code",
   "execution_count": null,
   "id": "aging-legislature",
   "metadata": {
    "papermill": {
     "duration": 0.035004,
     "end_time": "2022-06-12T12:14:33.006834",
     "exception": false,
     "start_time": "2022-06-12T12:14:32.971830",
     "status": "completed"
    },
    "tags": []
   },
   "outputs": [],
   "source": []
  }
 ],
 "metadata": {
  "kernelspec": {
   "display_name": "Python 3",
   "language": "python",
   "name": "python3"
  },
  "language_info": {
   "codemirror_mode": {
    "name": "ipython",
    "version": 3
   },
   "file_extension": ".py",
   "mimetype": "text/x-python",
   "name": "python",
   "nbconvert_exporter": "python",
   "pygments_lexer": "ipython3",
   "version": "3.6.15"
  },
  "papermill": {
   "duration": 7.105438,
   "end_time": "2022-06-12T12:14:33.461728",
   "environment_variables": {},
   "exception": null,
   "input_path": "2020-03-21-covid19exp.ipynb",
   "output_path": "2020-03-21-covid19exp.ipynb",
   "parameters": {},
   "start_time": "2022-06-12T12:14:26.356290",
   "version": "2.0.0"
  }
 },
 "nbformat": 4,
 "nbformat_minor": 5
}