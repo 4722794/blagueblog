{
 "cells": [
  {
   "cell_type": "markdown",
   "id": "muslim-click",
   "metadata": {
    "papermill": {
     "duration": 0.03579,
     "end_time": "2022-09-26T00:53:23.336960",
     "exception": false,
     "start_time": "2022-09-26T00:53:23.301170",
     "status": "completed"
    },
    "tags": []
   },
   "source": [
    "# COVID-19 Case Race\n",
    "> A race chart to see rising cases around the world\n",
    "\n",
    "- author: Hargun Oberoi\n",
    "- image: images/covid-overview.png\n",
    "- hide: false\n",
    "- badges: false"
   ]
  },
  {
   "cell_type": "code",
   "execution_count": 1,
   "id": "proof-material",
   "metadata": {
    "execution": {
     "iopub.execute_input": "2022-09-26T00:53:23.407396Z",
     "iopub.status.busy": "2022-09-26T00:53:23.406765Z",
     "iopub.status.idle": "2022-09-26T00:53:23.742179Z",
     "shell.execute_reply": "2022-09-26T00:53:23.741638Z"
    },
    "papermill": {
     "duration": 0.374964,
     "end_time": "2022-09-26T00:53:23.742327",
     "exception": false,
     "start_time": "2022-09-26T00:53:23.367363",
     "status": "completed"
    },
    "tags": []
   },
   "outputs": [],
   "source": [
    "#hide\n",
    "import numpy as np\n",
    "import pandas as pd\n",
    "from jinja2 import Template\n",
    "from IPython.display import HTML"
   ]
  },
  {
   "cell_type": "code",
   "execution_count": 2,
   "id": "developed-terminology",
   "metadata": {
    "execution": {
     "iopub.execute_input": "2022-09-26T00:53:23.821061Z",
     "iopub.status.busy": "2022-09-26T00:53:23.820293Z",
     "iopub.status.idle": "2022-09-26T00:53:23.824244Z",
     "shell.execute_reply": "2022-09-26T00:53:23.824700Z"
    },
    "papermill": {
     "duration": 0.046084,
     "end_time": "2022-09-26T00:53:23.824846",
     "exception": false,
     "start_time": "2022-09-26T00:53:23.778762",
     "status": "completed"
    },
    "tags": []
   },
   "outputs": [],
   "source": [
    "#hide\n",
    "\n",
    "# FETCH\n",
    "base_url = 'https://raw.githubusercontent.com/pratapvardhan/notebooks/master/covid19/'\n",
    "paths = {\n",
    "    'mapping': base_url + 'mapping_countries.csv',\n",
    "    'overview': base_url + 'overview.tpl'\n",
    "}"
   ]
  },
  {
   "cell_type": "code",
   "execution_count": 3,
   "id": "dynamic-saver",
   "metadata": {
    "execution": {
     "iopub.execute_input": "2022-09-26T00:53:23.898142Z",
     "iopub.status.busy": "2022-09-26T00:53:23.896530Z",
     "iopub.status.idle": "2022-09-26T00:53:23.900483Z",
     "shell.execute_reply": "2022-09-26T00:53:23.899938Z"
    },
    "papermill": {
     "duration": 0.044688,
     "end_time": "2022-09-26T00:53:23.900611",
     "exception": false,
     "start_time": "2022-09-26T00:53:23.855923",
     "status": "completed"
    },
    "tags": []
   },
   "outputs": [
    {
     "data": {
      "text/plain": [
       "'https://raw.githubusercontent.com/pratapvardhan/notebooks/master/covid19/mapping_countries.csv'"
      ]
     },
     "execution_count": 3,
     "metadata": {},
     "output_type": "execute_result"
    }
   ],
   "source": [
    "#hide\n",
    "paths['mapping']"
   ]
  },
  {
   "cell_type": "code",
   "execution_count": 4,
   "id": "urban-software",
   "metadata": {
    "execution": {
     "iopub.execute_input": "2022-09-26T00:53:23.967187Z",
     "iopub.status.busy": "2022-09-26T00:53:23.966526Z",
     "iopub.status.idle": "2022-09-26T00:53:23.970196Z",
     "shell.execute_reply": "2022-09-26T00:53:23.969617Z"
    },
    "papermill": {
     "duration": 0.03903,
     "end_time": "2022-09-26T00:53:23.970312",
     "exception": false,
     "start_time": "2022-09-26T00:53:23.931282",
     "status": "completed"
    },
    "tags": []
   },
   "outputs": [],
   "source": [
    "#hide\n",
    "def get_mappings(url):\n",
    "    df = pd.read_csv(url)\n",
    "    return {\n",
    "        'df': df,\n",
    "        'replace.country': dict(df.dropna(subset=['Name']).set_index('Country')['Name']),\n",
    "        'map.continent': dict(df.set_index('Name')['Continent'])\n",
    "    }"
   ]
  },
  {
   "cell_type": "code",
   "execution_count": 5,
   "id": "intimate-machinery",
   "metadata": {
    "execution": {
     "iopub.execute_input": "2022-09-26T00:53:24.036202Z",
     "iopub.status.busy": "2022-09-26T00:53:24.035602Z",
     "iopub.status.idle": "2022-09-26T00:53:24.062802Z",
     "shell.execute_reply": "2022-09-26T00:53:24.061662Z"
    },
    "papermill": {
     "duration": 0.062443,
     "end_time": "2022-09-26T00:53:24.062933",
     "exception": false,
     "start_time": "2022-09-26T00:53:24.000490",
     "status": "completed"
    },
    "tags": []
   },
   "outputs": [],
   "source": [
    "#hide\n",
    "mapping = get_mappings(paths['mapping'])"
   ]
  },
  {
   "cell_type": "code",
   "execution_count": 6,
   "id": "certified-tactics",
   "metadata": {
    "execution": {
     "iopub.execute_input": "2022-09-26T00:53:24.129931Z",
     "iopub.status.busy": "2022-09-26T00:53:24.128543Z",
     "iopub.status.idle": "2022-09-26T00:53:24.130608Z",
     "shell.execute_reply": "2022-09-26T00:53:24.131078Z"
    },
    "papermill": {
     "duration": 0.038133,
     "end_time": "2022-09-26T00:53:24.131215",
     "exception": false,
     "start_time": "2022-09-26T00:53:24.093082",
     "status": "completed"
    },
    "tags": []
   },
   "outputs": [],
   "source": [
    "#hide\n",
    "def get_template(path):\n",
    "    from urllib.parse import urlparse\n",
    "    if bool(urlparse(path).netloc):\n",
    "        from urllib.request import urlopen\n",
    "        return urlopen(path).read().decode('utf8')\n",
    "    return open(path).read()"
   ]
  },
  {
   "cell_type": "code",
   "execution_count": 7,
   "id": "realistic-blast",
   "metadata": {
    "execution": {
     "iopub.execute_input": "2022-09-26T00:53:24.196749Z",
     "iopub.status.busy": "2022-09-26T00:53:24.196056Z",
     "iopub.status.idle": "2022-09-26T00:53:24.198675Z",
     "shell.execute_reply": "2022-09-26T00:53:24.198088Z"
    },
    "papermill": {
     "duration": 0.037663,
     "end_time": "2022-09-26T00:53:24.198815",
     "exception": false,
     "start_time": "2022-09-26T00:53:24.161152",
     "status": "completed"
    },
    "tags": []
   },
   "outputs": [],
   "source": [
    "#hide\n",
    "def get_frame(name):\n",
    "    url = (\n",
    "        'https://raw.githubusercontent.com/CSSEGISandData/COVID-19/master/csse_covid_19_data/'\n",
    "        f'csse_covid_19_time_series/time_series_covid19_{name}_global.csv')\n",
    "    df = pd.read_csv(url)\n",
    "    # rename countries\n",
    "    df['Country/Region'] = df['Country/Region'].replace(mapping['replace.country'])\n",
    "    return df"
   ]
  },
  {
   "cell_type": "code",
   "execution_count": 8,
   "id": "affiliated-characterization",
   "metadata": {
    "execution": {
     "iopub.execute_input": "2022-09-26T00:53:24.265477Z",
     "iopub.status.busy": "2022-09-26T00:53:24.264882Z",
     "iopub.status.idle": "2022-09-26T00:53:24.267475Z",
     "shell.execute_reply": "2022-09-26T00:53:24.267898Z"
    },
    "papermill": {
     "duration": 0.039064,
     "end_time": "2022-09-26T00:53:24.268033",
     "exception": false,
     "start_time": "2022-09-26T00:53:24.228969",
     "status": "completed"
    },
    "tags": []
   },
   "outputs": [],
   "source": [
    "#hide\n",
    "def get_dates(df):\n",
    "    dt_cols = df.columns[~df.columns.isin(['Province/State', 'Country/Region', 'Lat', 'Long'])]\n",
    "    LAST_DATE_I = -1\n",
    "    # sometimes last column may be empty, then go backwards\n",
    "    for i in range(-1, -len(dt_cols), -1):\n",
    "        if not df[dt_cols[i]].fillna(0).eq(0).all():\n",
    "            LAST_DATE_I = i\n",
    "            break\n",
    "    return LAST_DATE_I, dt_cols"
   ]
  },
  {
   "cell_type": "code",
   "execution_count": 9,
   "id": "recent-optimization",
   "metadata": {
    "execution": {
     "iopub.execute_input": "2022-09-26T00:53:24.333525Z",
     "iopub.status.busy": "2022-09-26T00:53:24.332834Z",
     "iopub.status.idle": "2022-09-26T00:53:24.718880Z",
     "shell.execute_reply": "2022-09-26T00:53:24.718289Z"
    },
    "papermill": {
     "duration": 0.42115,
     "end_time": "2022-09-26T00:53:24.719028",
     "exception": false,
     "start_time": "2022-09-26T00:53:24.297878",
     "status": "completed"
    },
    "tags": []
   },
   "outputs": [],
   "source": [
    "#hide\n",
    "COL_REGION = 'Country/Region'\n",
    "# Confirmed, Recovered, Deaths\n",
    "df = get_frame('confirmed')\n",
    "# dft_: timeseries, dfc_: today country agg\n",
    "dft_cases = df\n",
    "dft_deaths = get_frame('deaths')\n",
    "dft_recovered = get_frame('recovered')\n",
    "LAST_DATE_I, dt_cols = get_dates(df)"
   ]
  },
  {
   "cell_type": "code",
   "execution_count": 10,
   "id": "absolute-copper",
   "metadata": {
    "execution": {
     "iopub.execute_input": "2022-09-26T00:53:24.785403Z",
     "iopub.status.busy": "2022-09-26T00:53:24.784782Z",
     "iopub.status.idle": "2022-09-26T00:53:24.787522Z",
     "shell.execute_reply": "2022-09-26T00:53:24.786945Z"
    },
    "papermill": {
     "duration": 0.038268,
     "end_time": "2022-09-26T00:53:24.787639",
     "exception": false,
     "start_time": "2022-09-26T00:53:24.749371",
     "status": "completed"
    },
    "tags": []
   },
   "outputs": [],
   "source": [
    "#hide\n",
    "LAST_DATE_I, dt_cols = get_dates(df)\n",
    "dt_today =dt_cols[LAST_DATE_I]\n",
    "# dt_5day = dt_cols[LAST_DATE_I - 5]\n",
    "dt_yday = dt_cols[LAST_DATE_I - 1]"
   ]
  },
  {
   "cell_type": "code",
   "execution_count": 11,
   "id": "restricted-sheriff",
   "metadata": {
    "execution": {
     "iopub.execute_input": "2022-09-26T00:53:24.853402Z",
     "iopub.status.busy": "2022-09-26T00:53:24.852813Z",
     "iopub.status.idle": "2022-09-26T00:53:24.860930Z",
     "shell.execute_reply": "2022-09-26T00:53:24.860361Z"
    },
    "papermill": {
     "duration": 0.04349,
     "end_time": "2022-09-26T00:53:24.861044",
     "exception": false,
     "start_time": "2022-09-26T00:53:24.817554",
     "status": "completed"
    },
    "tags": []
   },
   "outputs": [],
   "source": [
    "#hide\n",
    "dfc_cases = dft_cases.groupby(COL_REGION)[dt_today].sum()\n",
    "dfc_deaths = dft_deaths.groupby(COL_REGION)[dt_today].sum()\n",
    "# dfp_cases = dft_cases.groupby(COL_REGION)[dt_5day].sum()\n",
    "# dfp_deaths = dft_deaths.groupby(COL_REGION)[dt_5day].sum()\n",
    "dfp_cases = dft_cases.groupby(COL_REGION)[dt_yday].sum()\n",
    "dfp_deaths = dft_deaths.groupby(COL_REGION)[dt_yday].sum()"
   ]
  },
  {
   "cell_type": "code",
   "execution_count": 12,
   "id": "deluxe-hepatitis",
   "metadata": {
    "execution": {
     "iopub.execute_input": "2022-09-26T00:53:24.927722Z",
     "iopub.status.busy": "2022-09-26T00:53:24.927120Z",
     "iopub.status.idle": "2022-09-26T00:53:24.931445Z",
     "shell.execute_reply": "2022-09-26T00:53:24.932001Z"
    },
    "papermill": {
     "duration": 0.041038,
     "end_time": "2022-09-26T00:53:24.932138",
     "exception": false,
     "start_time": "2022-09-26T00:53:24.891100",
     "status": "completed"
    },
    "tags": []
   },
   "outputs": [],
   "source": [
    "#hide\n",
    "df_table = (pd.DataFrame(dict(Cases = dfc_cases, Deaths = dfc_deaths, PCases = dfp_cases, PDeaths = dfp_deaths))\n",
    "            .sort_values(by = ['Cases','Deaths'], ascending = [False, False])\n",
    "            .reset_index())"
   ]
  },
  {
   "cell_type": "code",
   "execution_count": 13,
   "id": "educational-chancellor",
   "metadata": {
    "execution": {
     "iopub.execute_input": "2022-09-26T00:53:25.009992Z",
     "iopub.status.busy": "2022-09-26T00:53:25.009376Z",
     "iopub.status.idle": "2022-09-26T00:53:25.017778Z",
     "shell.execute_reply": "2022-09-26T00:53:25.017300Z"
    },
    "papermill": {
     "duration": 0.05586,
     "end_time": "2022-09-26T00:53:25.017894",
     "exception": false,
     "start_time": "2022-09-26T00:53:24.962034",
     "status": "completed"
    },
    "tags": []
   },
   "outputs": [
    {
     "data": {
      "text/html": [
       "<div>\n",
       "<style scoped>\n",
       "    .dataframe tbody tr th:only-of-type {\n",
       "        vertical-align: middle;\n",
       "    }\n",
       "\n",
       "    .dataframe tbody tr th {\n",
       "        vertical-align: top;\n",
       "    }\n",
       "\n",
       "    .dataframe thead th {\n",
       "        text-align: right;\n",
       "    }\n",
       "</style>\n",
       "<table border=\"1\" class=\"dataframe\">\n",
       "  <thead>\n",
       "    <tr style=\"text-align: right;\">\n",
       "      <th></th>\n",
       "      <th>Country/Region</th>\n",
       "      <th>Cases</th>\n",
       "      <th>Deaths</th>\n",
       "      <th>PCases</th>\n",
       "      <th>PDeaths</th>\n",
       "      <th>Cases (+)</th>\n",
       "      <th>Deaths (+)</th>\n",
       "      <th>Fatality Rate</th>\n",
       "      <th>Continent</th>\n",
       "    </tr>\n",
       "  </thead>\n",
       "  <tbody>\n",
       "    <tr>\n",
       "      <th>0</th>\n",
       "      <td>US</td>\n",
       "      <td>96065161</td>\n",
       "      <td>1056409</td>\n",
       "      <td>96056075</td>\n",
       "      <td>1056372</td>\n",
       "      <td>9086</td>\n",
       "      <td>37</td>\n",
       "      <td>1.10</td>\n",
       "      <td>North America</td>\n",
       "    </tr>\n",
       "    <tr>\n",
       "      <th>1</th>\n",
       "      <td>India</td>\n",
       "      <td>44568114</td>\n",
       "      <td>528510</td>\n",
       "      <td>44563337</td>\n",
       "      <td>528487</td>\n",
       "      <td>4777</td>\n",
       "      <td>23</td>\n",
       "      <td>1.19</td>\n",
       "      <td>Asia</td>\n",
       "    </tr>\n",
       "    <tr>\n",
       "      <th>2</th>\n",
       "      <td>France</td>\n",
       "      <td>35304648</td>\n",
       "      <td>155927</td>\n",
       "      <td>35304648</td>\n",
       "      <td>155927</td>\n",
       "      <td>0</td>\n",
       "      <td>0</td>\n",
       "      <td>0.44</td>\n",
       "      <td>Europe</td>\n",
       "    </tr>\n",
       "    <tr>\n",
       "      <th>3</th>\n",
       "      <td>Brazil</td>\n",
       "      <td>34624427</td>\n",
       "      <td>685750</td>\n",
       "      <td>34624427</td>\n",
       "      <td>685750</td>\n",
       "      <td>0</td>\n",
       "      <td>0</td>\n",
       "      <td>1.98</td>\n",
       "      <td>South America</td>\n",
       "    </tr>\n",
       "    <tr>\n",
       "      <th>4</th>\n",
       "      <td>Germany</td>\n",
       "      <td>32952050</td>\n",
       "      <td>149458</td>\n",
       "      <td>32952050</td>\n",
       "      <td>149458</td>\n",
       "      <td>0</td>\n",
       "      <td>0</td>\n",
       "      <td>0.45</td>\n",
       "      <td>Europe</td>\n",
       "    </tr>\n",
       "  </tbody>\n",
       "</table>\n",
       "</div>"
      ],
      "text/plain": [
       "  Country/Region     Cases   Deaths    PCases  PDeaths  Cases (+)  Deaths (+)  \\\n",
       "0             US  96065161  1056409  96056075  1056372       9086          37   \n",
       "1          India  44568114   528510  44563337   528487       4777          23   \n",
       "2         France  35304648   155927  35304648   155927          0           0   \n",
       "3         Brazil  34624427   685750  34624427   685750          0           0   \n",
       "4        Germany  32952050   149458  32952050   149458          0           0   \n",
       "\n",
       "   Fatality Rate      Continent  \n",
       "0           1.10  North America  \n",
       "1           1.19           Asia  \n",
       "2           0.44         Europe  \n",
       "3           1.98  South America  \n",
       "4           0.45         Europe  "
      ]
     },
     "execution_count": 13,
     "metadata": {},
     "output_type": "execute_result"
    }
   ],
   "source": [
    "#hide\n",
    "for c in 'Cases, Deaths'.split(', '):\n",
    "    df_table[f'{c} (+)'] = (df_table[c] - df_table[f'P{c}']).clip(0)\n",
    "    #Clip ça veut dire, les chiffres negatif sont interdit\n",
    "df_table['Fatality Rate'] = (100* df_table['Deaths']/ df_table['Cases']).round(2)\n",
    "df_table['Continent'] = df_table['Country/Region'].map(mapping['map.continent'])\n",
    "df_table.head(5)"
   ]
  },
  {
   "cell_type": "code",
   "execution_count": 14,
   "id": "aboriginal-bulgaria",
   "metadata": {
    "execution": {
     "iopub.execute_input": "2022-09-26T00:53:25.085214Z",
     "iopub.status.busy": "2022-09-26T00:53:25.084627Z",
     "iopub.status.idle": "2022-09-26T00:53:25.087202Z",
     "shell.execute_reply": "2022-09-26T00:53:25.087675Z"
    },
    "papermill": {
     "duration": 0.039376,
     "end_time": "2022-09-26T00:53:25.087806",
     "exception": false,
     "start_time": "2022-09-26T00:53:25.048430",
     "status": "completed"
    },
    "tags": []
   },
   "outputs": [],
   "source": [
    "#hide\n",
    "#delete problematic countries from table\n",
    "df_table = df_table[~df_table['Country/Region'].isin(['Cape Verde', 'Cruise Ship', 'Kosovo'])]"
   ]
  },
  {
   "cell_type": "code",
   "execution_count": 15,
   "id": "fantastic-effect",
   "metadata": {
    "execution": {
     "iopub.execute_input": "2022-09-26T00:53:25.157340Z",
     "iopub.status.busy": "2022-09-26T00:53:25.156746Z",
     "iopub.status.idle": "2022-09-26T00:53:25.174669Z",
     "shell.execute_reply": "2022-09-26T00:53:25.175190Z"
    },
    "papermill": {
     "duration": 0.05724,
     "end_time": "2022-09-26T00:53:25.175351",
     "exception": false,
     "start_time": "2022-09-26T00:53:25.118111",
     "status": "completed"
    },
    "tags": []
   },
   "outputs": [
    {
     "data": {
      "text/html": [
       "<div>\n",
       "<style scoped>\n",
       "    .dataframe tbody tr th:only-of-type {\n",
       "        vertical-align: middle;\n",
       "    }\n",
       "\n",
       "    .dataframe tbody tr th {\n",
       "        vertical-align: top;\n",
       "    }\n",
       "\n",
       "    .dataframe thead th {\n",
       "        text-align: right;\n",
       "    }\n",
       "</style>\n",
       "<table border=\"1\" class=\"dataframe\">\n",
       "  <thead>\n",
       "    <tr style=\"text-align: right;\">\n",
       "      <th></th>\n",
       "      <th>Country/Region</th>\n",
       "      <th>Cases</th>\n",
       "      <th>Deaths</th>\n",
       "      <th>PCases</th>\n",
       "      <th>PDeaths</th>\n",
       "      <th>Cases (+)</th>\n",
       "      <th>Deaths (+)</th>\n",
       "      <th>Fatality Rate</th>\n",
       "      <th>Continent</th>\n",
       "    </tr>\n",
       "  </thead>\n",
       "  <tbody>\n",
       "    <tr>\n",
       "      <th>0</th>\n",
       "      <td>US</td>\n",
       "      <td>96065161</td>\n",
       "      <td>1056409</td>\n",
       "      <td>96056075</td>\n",
       "      <td>1056372</td>\n",
       "      <td>9086</td>\n",
       "      <td>37</td>\n",
       "      <td>1.1</td>\n",
       "      <td>North America</td>\n",
       "    </tr>\n",
       "    <tr>\n",
       "      <th>1</th>\n",
       "      <td>India</td>\n",
       "      <td>44568114</td>\n",
       "      <td>528510</td>\n",
       "      <td>44563337</td>\n",
       "      <td>528487</td>\n",
       "      <td>4777</td>\n",
       "      <td>23</td>\n",
       "      <td>1.2</td>\n",
       "      <td>Asia</td>\n",
       "    </tr>\n",
       "    <tr>\n",
       "      <th>2</th>\n",
       "      <td>France</td>\n",
       "      <td>35304648</td>\n",
       "      <td>155927</td>\n",
       "      <td>35304648</td>\n",
       "      <td>155927</td>\n",
       "      <td>0</td>\n",
       "      <td>0</td>\n",
       "      <td>0.4</td>\n",
       "      <td>Europe</td>\n",
       "    </tr>\n",
       "    <tr>\n",
       "      <th>3</th>\n",
       "      <td>Brazil</td>\n",
       "      <td>34624427</td>\n",
       "      <td>685750</td>\n",
       "      <td>34624427</td>\n",
       "      <td>685750</td>\n",
       "      <td>0</td>\n",
       "      <td>0</td>\n",
       "      <td>2.0</td>\n",
       "      <td>South America</td>\n",
       "    </tr>\n",
       "    <tr>\n",
       "      <th>4</th>\n",
       "      <td>Germany</td>\n",
       "      <td>32952050</td>\n",
       "      <td>149458</td>\n",
       "      <td>32952050</td>\n",
       "      <td>149458</td>\n",
       "      <td>0</td>\n",
       "      <td>0</td>\n",
       "      <td>0.5</td>\n",
       "      <td>Europe</td>\n",
       "    </tr>\n",
       "  </tbody>\n",
       "</table>\n",
       "</div>"
      ],
      "text/plain": [
       "  Country/Region     Cases   Deaths    PCases  PDeaths  Cases (+)  Deaths (+)  \\\n",
       "0             US  96065161  1056409  96056075  1056372       9086          37   \n",
       "1          India  44568114   528510  44563337   528487       4777          23   \n",
       "2         France  35304648   155927  35304648   155927          0           0   \n",
       "3         Brazil  34624427   685750  34624427   685750          0           0   \n",
       "4        Germany  32952050   149458  32952050   149458          0           0   \n",
       "\n",
       "   Fatality Rate      Continent  \n",
       "0            1.1  North America  \n",
       "1            1.2           Asia  \n",
       "2            0.4         Europe  \n",
       "3            2.0  South America  \n",
       "4            0.5         Europe  "
      ]
     },
     "execution_count": 15,
     "metadata": {},
     "output_type": "execute_result"
    }
   ],
   "source": [
    "#hide\n",
    "df_table = (pd.DataFrame(dict(Cases=dfc_cases, Deaths=dfc_deaths, PCases=dfp_cases, PDeaths=dfp_deaths))\n",
    "             .sort_values(by=['Cases', 'Deaths'], ascending=[False, False])\n",
    "             .reset_index())\n",
    "df_table.rename(columns={'index': 'Country/Region'}, inplace=True)\n",
    "for c in 'Cases, Deaths'.split(', '):\n",
    "    df_table[f'{c} (+)'] = (df_table[c] - df_table[f'P{c}']).clip(0)  # DATA BUG\n",
    "df_table['Fatality Rate'] = (100 * df_table['Deaths'] / df_table['Cases']).round(1)\n",
    "df_table['Continent'] = df_table['Country/Region'].map(mapping['map.continent'])\n",
    "df_table.head(5)"
   ]
  },
  {
   "cell_type": "code",
   "execution_count": 16,
   "id": "fewer-occasion",
   "metadata": {
    "execution": {
     "iopub.execute_input": "2022-09-26T00:53:25.244498Z",
     "iopub.status.busy": "2022-09-26T00:53:25.243870Z",
     "iopub.status.idle": "2022-09-26T00:53:25.246425Z",
     "shell.execute_reply": "2022-09-26T00:53:25.245932Z"
    },
    "papermill": {
     "duration": 0.03948,
     "end_time": "2022-09-26T00:53:25.246544",
     "exception": false,
     "start_time": "2022-09-26T00:53:25.207064",
     "status": "completed"
    },
    "tags": []
   },
   "outputs": [],
   "source": [
    "#hide\n",
    "#delete problematic countries from table\n",
    "df_table = df_table[~df_table['Country/Region'].isin(['Cape Verde', 'Cruise Ship', 'Kosovo'])]"
   ]
  },
  {
   "cell_type": "code",
   "execution_count": 17,
   "id": "related-center",
   "metadata": {
    "execution": {
     "iopub.execute_input": "2022-09-26T00:53:25.327282Z",
     "iopub.status.busy": "2022-09-26T00:53:25.326579Z",
     "iopub.status.idle": "2022-09-26T00:53:25.329134Z",
     "shell.execute_reply": "2022-09-26T00:53:25.328548Z"
    },
    "papermill": {
     "duration": 0.051533,
     "end_time": "2022-09-26T00:53:25.329256",
     "exception": false,
     "start_time": "2022-09-26T00:53:25.277723",
     "status": "completed"
    },
    "tags": []
   },
   "outputs": [],
   "source": [
    "#hide\n",
    "metrics = [df_table.columns[index] for index in [1,2,5,6]]\n",
    "# s_china = df_table[df_table['Country/Region'].eq('China')][metrics].sum().add_prefix('China ')\n",
    "s_us = df_table[df_table['Country/Region'].eq('US')][metrics].sum().add_prefix('US ')\n",
    "s_eu = df_table[df_table['Continent'].eq('Europe')][metrics].sum().add_prefix('EU ')\n",
    "s_ind = df_table[df_table['Country/Region'].eq('India')][metrics].sum().add_prefix('India ')\n",
    "summary = {'updated': pd.to_datetime(dt_today), 'since': pd.to_datetime(dt_yday)}\n",
    "summary = {'updated': pd.to_datetime(dt_today), 'since': pd.to_datetime(dt_yday)}\n",
    "summary = {**summary, **df_table[metrics].sum(), **s_ind, **s_us, **s_eu}"
   ]
  },
  {
   "cell_type": "code",
   "execution_count": 18,
   "id": "engaging-syndrome",
   "metadata": {
    "execution": {
     "iopub.execute_input": "2022-09-26T00:53:25.397587Z",
     "iopub.status.busy": "2022-09-26T00:53:25.396982Z",
     "iopub.status.idle": "2022-09-26T00:53:25.418053Z",
     "shell.execute_reply": "2022-09-26T00:53:25.417490Z"
    },
    "papermill": {
     "duration": 0.057641,
     "end_time": "2022-09-26T00:53:25.418186",
     "exception": false,
     "start_time": "2022-09-26T00:53:25.360545",
     "status": "completed"
    },
    "tags": []
   },
   "outputs": [],
   "source": [
    "#hide\n",
    "dft_ct_new_cases = dft_cases.groupby(COL_REGION)[dt_cols].sum().diff(axis=1).fillna(0).astype(int)"
   ]
  },
  {
   "cell_type": "code",
   "execution_count": 19,
   "id": "neutral-assignment",
   "metadata": {
    "execution": {
     "iopub.execute_input": "2022-09-26T00:53:25.488455Z",
     "iopub.status.busy": "2022-09-26T00:53:25.487867Z",
     "iopub.status.idle": "2022-09-26T00:53:25.490243Z",
     "shell.execute_reply": "2022-09-26T00:53:25.490691Z"
    },
    "papermill": {
     "duration": 0.040612,
     "end_time": "2022-09-26T00:53:25.490855",
     "exception": false,
     "start_time": "2022-09-26T00:53:25.450243",
     "status": "completed"
    },
    "tags": []
   },
   "outputs": [],
   "source": [
    "#hide\n",
    "everydaycases = dft_ct_new_cases.cumsum(axis=1)"
   ]
  },
  {
   "cell_type": "code",
   "execution_count": 20,
   "id": "parliamentary-calgary",
   "metadata": {
    "execution": {
     "iopub.execute_input": "2022-09-26T00:53:25.557816Z",
     "iopub.status.busy": "2022-09-26T00:53:25.557221Z",
     "iopub.status.idle": "2022-09-26T00:53:26.100002Z",
     "shell.execute_reply": "2022-09-26T00:53:26.100553Z"
    },
    "papermill": {
     "duration": 0.578687,
     "end_time": "2022-09-26T00:53:26.100710",
     "exception": false,
     "start_time": "2022-09-26T00:53:25.522023",
     "status": "completed"
    },
    "tags": []
   },
   "outputs": [],
   "source": [
    "#hide\n",
    "import pandas as pd\n",
    "import matplotlib.pyplot as plt\n",
    "import matplotlib.ticker as ticker\n",
    "import matplotlib.animation as animation\n",
    "from IPython.display import HTML"
   ]
  },
  {
   "cell_type": "code",
   "execution_count": 21,
   "id": "lasting-extraction",
   "metadata": {
    "execution": {
     "iopub.execute_input": "2022-09-26T00:53:26.170195Z",
     "iopub.status.busy": "2022-09-26T00:53:26.169523Z",
     "iopub.status.idle": "2022-09-26T00:53:26.176987Z",
     "shell.execute_reply": "2022-09-26T00:53:26.176492Z"
    },
    "papermill": {
     "duration": 0.045392,
     "end_time": "2022-09-26T00:53:26.177105",
     "exception": false,
     "start_time": "2022-09-26T00:53:26.131713",
     "status": "completed"
    },
    "tags": []
   },
   "outputs": [],
   "source": [
    "#hide\n",
    "t = everydaycases.stack()"
   ]
  },
  {
   "cell_type": "code",
   "execution_count": 22,
   "id": "premier-sleeve",
   "metadata": {
    "execution": {
     "iopub.execute_input": "2022-09-26T00:53:26.244234Z",
     "iopub.status.busy": "2022-09-26T00:53:26.243646Z",
     "iopub.status.idle": "2022-09-26T00:53:26.255904Z",
     "shell.execute_reply": "2022-09-26T00:53:26.256385Z"
    },
    "papermill": {
     "duration": 0.048149,
     "end_time": "2022-09-26T00:53:26.256521",
     "exception": false,
     "start_time": "2022-09-26T00:53:26.208372",
     "status": "completed"
    },
    "tags": []
   },
   "outputs": [],
   "source": [
    "#hide\n",
    "g = t.reset_index(['Country/Region'])"
   ]
  },
  {
   "cell_type": "code",
   "execution_count": 23,
   "id": "distributed-pittsburgh",
   "metadata": {
    "execution": {
     "iopub.execute_input": "2022-09-26T00:53:26.322978Z",
     "iopub.status.busy": "2022-09-26T00:53:26.322264Z",
     "iopub.status.idle": "2022-09-26T00:53:26.324953Z",
     "shell.execute_reply": "2022-09-26T00:53:26.324416Z"
    },
    "papermill": {
     "duration": 0.037723,
     "end_time": "2022-09-26T00:53:26.325078",
     "exception": false,
     "start_time": "2022-09-26T00:53:26.287355",
     "status": "completed"
    },
    "tags": []
   },
   "outputs": [],
   "source": [
    "#hide\n",
    "g.index.name = 'date'"
   ]
  },
  {
   "cell_type": "code",
   "execution_count": 24,
   "id": "naked-donor",
   "metadata": {
    "execution": {
     "iopub.execute_input": "2022-09-26T00:53:26.391278Z",
     "iopub.status.busy": "2022-09-26T00:53:26.390502Z",
     "iopub.status.idle": "2022-09-26T00:53:26.392748Z",
     "shell.execute_reply": "2022-09-26T00:53:26.393262Z"
    },
    "papermill": {
     "duration": 0.036984,
     "end_time": "2022-09-26T00:53:26.393404",
     "exception": false,
     "start_time": "2022-09-26T00:53:26.356420",
     "status": "completed"
    },
    "tags": []
   },
   "outputs": [],
   "source": [
    "# #hide\n",
    "# g = g.reset_index(['date'])"
   ]
  },
  {
   "cell_type": "code",
   "execution_count": 25,
   "id": "incomplete-mustang",
   "metadata": {
    "execution": {
     "iopub.execute_input": "2022-09-26T00:53:26.460332Z",
     "iopub.status.busy": "2022-09-26T00:53:26.459673Z",
     "iopub.status.idle": "2022-09-26T00:53:26.461966Z",
     "shell.execute_reply": "2022-09-26T00:53:26.461403Z"
    },
    "papermill": {
     "duration": 0.037159,
     "end_time": "2022-09-26T00:53:26.462078",
     "exception": false,
     "start_time": "2022-09-26T00:53:26.424919",
     "status": "completed"
    },
    "tags": []
   },
   "outputs": [],
   "source": [
    "#hide\n",
    "# g.head()"
   ]
  },
  {
   "cell_type": "code",
   "execution_count": 26,
   "id": "specific-kruger",
   "metadata": {
    "execution": {
     "iopub.execute_input": "2022-09-26T00:53:26.528545Z",
     "iopub.status.busy": "2022-09-26T00:53:26.527859Z",
     "iopub.status.idle": "2022-09-26T00:53:26.531994Z",
     "shell.execute_reply": "2022-09-26T00:53:26.531518Z"
    },
    "papermill": {
     "duration": 0.038973,
     "end_time": "2022-09-26T00:53:26.532106",
     "exception": false,
     "start_time": "2022-09-26T00:53:26.493133",
     "status": "completed"
    },
    "tags": []
   },
   "outputs": [],
   "source": [
    "#hide\n",
    "# g.columns = ['date','country','cases']"
   ]
  },
  {
   "cell_type": "code",
   "execution_count": 27,
   "id": "tender-conversion",
   "metadata": {
    "execution": {
     "iopub.execute_input": "2022-09-26T00:53:26.598106Z",
     "iopub.status.busy": "2022-09-26T00:53:26.597417Z",
     "iopub.status.idle": "2022-09-26T00:53:26.600160Z",
     "shell.execute_reply": "2022-09-26T00:53:26.599641Z"
    },
    "papermill": {
     "duration": 0.037407,
     "end_time": "2022-09-26T00:53:26.600287",
     "exception": false,
     "start_time": "2022-09-26T00:53:26.562880",
     "status": "completed"
    },
    "tags": []
   },
   "outputs": [],
   "source": [
    "#hide\n",
    "# g['continent'] = g.country"
   ]
  },
  {
   "cell_type": "code",
   "execution_count": 28,
   "id": "substantial-wilderness",
   "metadata": {
    "execution": {
     "iopub.execute_input": "2022-09-26T00:53:26.667817Z",
     "iopub.status.busy": "2022-09-26T00:53:26.667133Z",
     "iopub.status.idle": "2022-09-26T00:53:26.670799Z",
     "shell.execute_reply": "2022-09-26T00:53:26.671327Z"
    },
    "papermill": {
     "duration": 0.039751,
     "end_time": "2022-09-26T00:53:26.671471",
     "exception": false,
     "start_time": "2022-09-26T00:53:26.631720",
     "status": "completed"
    },
    "tags": []
   },
   "outputs": [],
   "source": [
    "#hide\n",
    "# cols = list(g.columns.values)"
   ]
  },
  {
   "cell_type": "code",
   "execution_count": 29,
   "id": "solved-farming",
   "metadata": {
    "execution": {
     "iopub.execute_input": "2022-09-26T00:53:26.737623Z",
     "iopub.status.busy": "2022-09-26T00:53:26.737016Z",
     "iopub.status.idle": "2022-09-26T00:53:26.739523Z",
     "shell.execute_reply": "2022-09-26T00:53:26.739049Z"
    },
    "papermill": {
     "duration": 0.036872,
     "end_time": "2022-09-26T00:53:26.739635",
     "exception": false,
     "start_time": "2022-09-26T00:53:26.702763",
     "status": "completed"
    },
    "tags": []
   },
   "outputs": [],
   "source": [
    "#hide\n",
    "# cols.insert(0, cols.pop())"
   ]
  },
  {
   "cell_type": "code",
   "execution_count": 30,
   "id": "executed-adoption",
   "metadata": {
    "execution": {
     "iopub.execute_input": "2022-09-26T00:53:26.805842Z",
     "iopub.status.busy": "2022-09-26T00:53:26.805249Z",
     "iopub.status.idle": "2022-09-26T00:53:26.807495Z",
     "shell.execute_reply": "2022-09-26T00:53:26.808047Z"
    },
    "papermill": {
     "duration": 0.037517,
     "end_time": "2022-09-26T00:53:26.808177",
     "exception": false,
     "start_time": "2022-09-26T00:53:26.770660",
     "status": "completed"
    },
    "tags": []
   },
   "outputs": [],
   "source": [
    "#hide\n",
    "# g = g[cols]"
   ]
  },
  {
   "cell_type": "code",
   "execution_count": 31,
   "id": "subject-dublin",
   "metadata": {
    "execution": {
     "iopub.execute_input": "2022-09-26T00:53:26.874623Z",
     "iopub.status.busy": "2022-09-26T00:53:26.873939Z",
     "iopub.status.idle": "2022-09-26T00:53:26.876531Z",
     "shell.execute_reply": "2022-09-26T00:53:26.875989Z"
    },
    "papermill": {
     "duration": 0.037485,
     "end_time": "2022-09-26T00:53:26.876658",
     "exception": false,
     "start_time": "2022-09-26T00:53:26.839173",
     "status": "completed"
    },
    "tags": []
   },
   "outputs": [],
   "source": [
    "#hide\n",
    "# g['continent'] = g['continent'].map(mapping['map.continent'])"
   ]
  },
  {
   "cell_type": "code",
   "execution_count": 32,
   "id": "freelance-scout",
   "metadata": {
    "execution": {
     "iopub.execute_input": "2022-09-26T00:53:26.943110Z",
     "iopub.status.busy": "2022-09-26T00:53:26.942491Z",
     "iopub.status.idle": "2022-09-26T00:53:26.944831Z",
     "shell.execute_reply": "2022-09-26T00:53:26.945306Z"
    },
    "papermill": {
     "duration": 0.037434,
     "end_time": "2022-09-26T00:53:26.945433",
     "exception": false,
     "start_time": "2022-09-26T00:53:26.907999",
     "status": "completed"
    },
    "tags": []
   },
   "outputs": [],
   "source": [
    "#hide\n",
    "# g.head()"
   ]
  },
  {
   "cell_type": "code",
   "execution_count": 33,
   "id": "limited-engine",
   "metadata": {
    "execution": {
     "iopub.execute_input": "2022-09-26T00:53:27.011221Z",
     "iopub.status.busy": "2022-09-26T00:53:27.010479Z",
     "iopub.status.idle": "2022-09-26T00:53:27.012524Z",
     "shell.execute_reply": "2022-09-26T00:53:27.012948Z"
    },
    "papermill": {
     "duration": 0.03681,
     "end_time": "2022-09-26T00:53:27.013079",
     "exception": false,
     "start_time": "2022-09-26T00:53:26.976269",
     "status": "completed"
    },
    "tags": []
   },
   "outputs": [],
   "source": [
    "# hide\n",
    "# g['date'] = g['date'].astype('datetime64[ns]')"
   ]
  },
  {
   "cell_type": "code",
   "execution_count": 34,
   "id": "sophisticated-supervisor",
   "metadata": {
    "execution": {
     "iopub.execute_input": "2022-09-26T00:53:27.080028Z",
     "iopub.status.busy": "2022-09-26T00:53:27.079339Z",
     "iopub.status.idle": "2022-09-26T00:53:27.081867Z",
     "shell.execute_reply": "2022-09-26T00:53:27.081222Z"
    },
    "papermill": {
     "duration": 0.03786,
     "end_time": "2022-09-26T00:53:27.081996",
     "exception": false,
     "start_time": "2022-09-26T00:53:27.044136",
     "status": "completed"
    },
    "tags": []
   },
   "outputs": [],
   "source": [
    "#hide\n",
    "# g['date'] = g.date.dt.dayofyear"
   ]
  },
  {
   "cell_type": "code",
   "execution_count": 35,
   "id": "inside-dubai",
   "metadata": {
    "execution": {
     "iopub.execute_input": "2022-09-26T00:53:27.148097Z",
     "iopub.status.busy": "2022-09-26T00:53:27.147481Z",
     "iopub.status.idle": "2022-09-26T00:53:27.150035Z",
     "shell.execute_reply": "2022-09-26T00:53:27.149560Z"
    },
    "papermill": {
     "duration": 0.036922,
     "end_time": "2022-09-26T00:53:27.150147",
     "exception": false,
     "start_time": "2022-09-26T00:53:27.113225",
     "status": "completed"
    },
    "tags": []
   },
   "outputs": [],
   "source": [
    "#hide\n",
    "# g = g.rename(columns= {'continent':'group','country':'name','cases':'value'})"
   ]
  },
  {
   "cell_type": "code",
   "execution_count": 36,
   "id": "fleet-motorcycle",
   "metadata": {
    "execution": {
     "iopub.execute_input": "2022-09-26T00:53:27.216760Z",
     "iopub.status.busy": "2022-09-26T00:53:27.216077Z",
     "iopub.status.idle": "2022-09-26T00:53:27.219844Z",
     "shell.execute_reply": "2022-09-26T00:53:27.220277Z"
    },
    "papermill": {
     "duration": 0.039229,
     "end_time": "2022-09-26T00:53:27.220418",
     "exception": false,
     "start_time": "2022-09-26T00:53:27.181189",
     "status": "completed"
    },
    "tags": []
   },
   "outputs": [],
   "source": [
    "#hide\n",
    "# cols = ['name','group','day','value']"
   ]
  },
  {
   "cell_type": "code",
   "execution_count": 37,
   "id": "continued-sleeping",
   "metadata": {
    "execution": {
     "iopub.execute_input": "2022-09-26T00:53:27.286277Z",
     "iopub.status.busy": "2022-09-26T00:53:27.285691Z",
     "iopub.status.idle": "2022-09-26T00:53:27.287903Z",
     "shell.execute_reply": "2022-09-26T00:53:27.287340Z"
    },
    "papermill": {
     "duration": 0.036765,
     "end_time": "2022-09-26T00:53:27.288016",
     "exception": false,
     "start_time": "2022-09-26T00:53:27.251251",
     "status": "completed"
    },
    "tags": []
   },
   "outputs": [],
   "source": [
    "#hide\n",
    "# g.rename(columns= {'date':'day'},inplace = True)"
   ]
  },
  {
   "cell_type": "code",
   "execution_count": 38,
   "id": "major-fight",
   "metadata": {
    "execution": {
     "iopub.execute_input": "2022-09-26T00:53:27.354100Z",
     "iopub.status.busy": "2022-09-26T00:53:27.353508Z",
     "iopub.status.idle": "2022-09-26T00:53:27.356184Z",
     "shell.execute_reply": "2022-09-26T00:53:27.355635Z"
    },
    "papermill": {
     "duration": 0.037233,
     "end_time": "2022-09-26T00:53:27.356294",
     "exception": false,
     "start_time": "2022-09-26T00:53:27.319061",
     "status": "completed"
    },
    "tags": []
   },
   "outputs": [],
   "source": [
    "#hide\n",
    "# g = g[cols]"
   ]
  },
  {
   "cell_type": "code",
   "execution_count": 39,
   "id": "structured-mobile",
   "metadata": {
    "execution": {
     "iopub.execute_input": "2022-09-26T00:53:27.422174Z",
     "iopub.status.busy": "2022-09-26T00:53:27.421591Z",
     "iopub.status.idle": "2022-09-26T00:53:27.424405Z",
     "shell.execute_reply": "2022-09-26T00:53:27.423930Z"
    },
    "papermill": {
     "duration": 0.037362,
     "end_time": "2022-09-26T00:53:27.424517",
     "exception": false,
     "start_time": "2022-09-26T00:53:27.387155",
     "status": "completed"
    },
    "tags": []
   },
   "outputs": [],
   "source": [
    "# #hide\n",
    "# g = g[g.group.notna()]"
   ]
  },
  {
   "cell_type": "code",
   "execution_count": 40,
   "id": "determined-closing",
   "metadata": {
    "execution": {
     "iopub.execute_input": "2022-09-26T00:53:27.491234Z",
     "iopub.status.busy": "2022-09-26T00:53:27.490484Z",
     "iopub.status.idle": "2022-09-26T00:53:27.494143Z",
     "shell.execute_reply": "2022-09-26T00:53:27.493652Z"
    },
    "papermill": {
     "duration": 0.038604,
     "end_time": "2022-09-26T00:53:27.494256",
     "exception": false,
     "start_time": "2022-09-26T00:53:27.455652",
     "status": "completed"
    },
    "tags": []
   },
   "outputs": [],
   "source": [
    "# #hide\n",
    "# colors = dict(zip(\n",
    "#     [\"Oceania\", \"Europe\", \"Asia\", \"South America\", \"Middle East\", \"North America\", \"Africa\"],\n",
    "#     [\"#adb0ff\", \"#ffb3ff\", \"#90d595\", \"#e48381\", \"#aafbff\", \"#f7bb5f\", \"#eafb50\"]\n",
    "# ))\n",
    "# group_lk = g.set_index('name')['group'].to_dict()"
   ]
  },
  {
   "cell_type": "code",
   "execution_count": null,
   "id": "gross-drinking",
   "metadata": {
    "papermill": {
     "duration": 0.03094,
     "end_time": "2022-09-26T00:53:27.556176",
     "exception": false,
     "start_time": "2022-09-26T00:53:27.525236",
     "status": "completed"
    },
    "tags": []
   },
   "outputs": [],
   "source": []
  },
  {
   "cell_type": "code",
   "execution_count": 41,
   "id": "subject-macintosh",
   "metadata": {
    "execution": {
     "iopub.execute_input": "2022-09-26T00:53:27.622816Z",
     "iopub.status.busy": "2022-09-26T00:53:27.622169Z",
     "iopub.status.idle": "2022-09-26T00:53:27.624670Z",
     "shell.execute_reply": "2022-09-26T00:53:27.625142Z"
    },
    "papermill": {
     "duration": 0.038052,
     "end_time": "2022-09-26T00:53:27.625273",
     "exception": false,
     "start_time": "2022-09-26T00:53:27.587221",
     "status": "completed"
    },
    "tags": []
   },
   "outputs": [],
   "source": [
    "# #hide\n",
    "# fig, ax = plt.subplots(figsize=(15, 8))\n",
    "\n",
    "# def draw_barchart(current_day):\n",
    "#     dff = g[g['day'].eq(current_day)].sort_values(by='value', ascending=True).tail(10)\n",
    "#     ax.clear()\n",
    "#     ax.barh(dff['name'], dff['value'], color=[colors[group_lk[x]] for x in dff['name']])\n",
    "#     dx = dff['value'].max() / 200\n",
    "    \n",
    "#     for i, (value, name) in enumerate(zip(dff['value'], dff['name'])):\n",
    "#         ax.text(value-dx, i,     name,           size=14, weight=600, ha='right', va='bottom')\n",
    "#         ax.text(value-dx, i-.25, group_lk[name], size=10, color='#444444', ha='right', va='baseline')\n",
    "#         ax.text(value+dx, i,     f'{value:,.0f}',  size=14, ha='left',  va='center')\n",
    "#     ax.text(1, 0.4, current_day, transform=ax.transAxes, color='#777777', size=46, ha='right', weight=800)\n",
    "#     ax.text(0, 1.06, 'Population (thousands)', transform=ax.transAxes, size=12, color='#777777')\n",
    "#     ax.xaxis.set_major_formatter(ticker.StrMethodFormatter('{x:,.0f}'))\n",
    "#     ax.xaxis.set_ticks_position('top')\n",
    "#     ax.tick_params(axis='x', colors='#777777', labelsize=12)\n",
    "#     ax.set_yticks([])\n",
    "#     ax.margins(0, 0.01)\n",
    "#     ax.grid(which='major', axis='x', linestyle='-')\n",
    "#     ax.set_axisbelow(True)\n",
    "    \n",
    "#     ax.text(0, 1.15, 'Coronavirus',\n",
    "#             transform=ax.transAxes, size=24, weight=600, ha='left', va='top')\n",
    "# #     ax.text(1, 0, 'by @pratapvardhan; credit @jburnmurdoch', transform=ax.transAxes, color='#777777', ha='right',\n",
    "# #             bbox=dict(facecolor='white', alpha=0.8, edgecolor='white'))\n",
    "#     plt.box(False)"
   ]
  },
  {
   "cell_type": "code",
   "execution_count": 42,
   "id": "sexual-wages",
   "metadata": {
    "execution": {
     "iopub.execute_input": "2022-09-26T00:53:27.692160Z",
     "iopub.status.busy": "2022-09-26T00:53:27.691469Z",
     "iopub.status.idle": "2022-09-26T00:53:27.695473Z",
     "shell.execute_reply": "2022-09-26T00:53:27.695906Z"
    },
    "papermill": {
     "duration": 0.03944,
     "end_time": "2022-09-26T00:53:27.696043",
     "exception": false,
     "start_time": "2022-09-26T00:53:27.656603",
     "status": "completed"
    },
    "tags": []
   },
   "outputs": [],
   "source": [
    "# #hide_input\n",
    "# fig, ax = plt.subplots(figsize=(15, 8))\n",
    "# animator = animation.FuncAnimation(fig, draw_barchart, frames=range(g.day.values.min(), g.day.values.max()))\n",
    "# HTML(animator.to_jshtml())\n",
    "# # or use animator.to_html5_video() or animator.save() "
   ]
  },
  {
   "cell_type": "code",
   "execution_count": null,
   "id": "australian-container",
   "metadata": {
    "papermill": {
     "duration": 0.030826,
     "end_time": "2022-09-26T00:53:27.757964",
     "exception": false,
     "start_time": "2022-09-26T00:53:27.727138",
     "status": "completed"
    },
    "tags": []
   },
   "outputs": [],
   "source": []
  },
  {
   "cell_type": "code",
   "execution_count": null,
   "id": "mediterranean-pontiac",
   "metadata": {
    "papermill": {
     "duration": 0.031538,
     "end_time": "2022-09-26T00:53:27.820235",
     "exception": false,
     "start_time": "2022-09-26T00:53:27.788697",
     "status": "completed"
    },
    "tags": []
   },
   "outputs": [],
   "source": []
  },
  {
   "cell_type": "code",
   "execution_count": null,
   "id": "aging-legislature",
   "metadata": {
    "papermill": {
     "duration": 0.030875,
     "end_time": "2022-09-26T00:53:27.882222",
     "exception": false,
     "start_time": "2022-09-26T00:53:27.851347",
     "status": "completed"
    },
    "tags": []
   },
   "outputs": [],
   "source": []
  }
 ],
 "metadata": {
  "kernelspec": {
   "display_name": "Python 3",
   "language": "python",
   "name": "python3"
  },
  "language_info": {
   "codemirror_mode": {
    "name": "ipython",
    "version": 3
   },
   "file_extension": ".py",
   "mimetype": "text/x-python",
   "name": "python",
   "nbconvert_exporter": "python",
   "pygments_lexer": "ipython3",
   "version": "3.6.15"
  },
  "papermill": {
   "duration": 5.9875,
   "end_time": "2022-09-26T00:53:28.331985",
   "environment_variables": {},
   "exception": null,
   "input_path": "2020-03-21-covid19exp.ipynb",
   "output_path": "2020-03-21-covid19exp.ipynb",
   "parameters": {},
   "start_time": "2022-09-26T00:53:22.344485",
   "version": "2.0.0"
  }
 },
 "nbformat": 4,
 "nbformat_minor": 5
}