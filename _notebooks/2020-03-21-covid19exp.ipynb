{
 "cells": [
  {
   "cell_type": "markdown",
   "id": "muslim-click",
   "metadata": {
    "papermill": {
     "duration": 0.048164,
     "end_time": "2022-02-20T00:34:37.559280",
     "exception": false,
     "start_time": "2022-02-20T00:34:37.511116",
     "status": "completed"
    },
    "tags": []
   },
   "source": [
    "# COVID-19 Case Race\n",
    "> A race chart to see rising cases around the world\n",
    "\n",
    "- author: Hargun Oberoi\n",
    "- image: images/covid-overview.png\n",
    "- hide: false\n",
    "- badges: false"
   ]
  },
  {
   "cell_type": "code",
   "execution_count": 1,
   "id": "proof-material",
   "metadata": {
    "execution": {
     "iopub.execute_input": "2022-02-20T00:34:37.648157Z",
     "iopub.status.busy": "2022-02-20T00:34:37.647445Z",
     "iopub.status.idle": "2022-02-20T00:34:38.039550Z",
     "shell.execute_reply": "2022-02-20T00:34:38.040397Z"
    },
    "papermill": {
     "duration": 0.441721,
     "end_time": "2022-02-20T00:34:38.040619",
     "exception": false,
     "start_time": "2022-02-20T00:34:37.598898",
     "status": "completed"
    },
    "tags": []
   },
   "outputs": [],
   "source": [
    "#hide\n",
    "import numpy as np\n",
    "import pandas as pd\n",
    "from jinja2 import Template\n",
    "from IPython.display import HTML"
   ]
  },
  {
   "cell_type": "code",
   "execution_count": 2,
   "id": "developed-terminology",
   "metadata": {
    "execution": {
     "iopub.execute_input": "2022-02-20T00:34:38.123184Z",
     "iopub.status.busy": "2022-02-20T00:34:38.122492Z",
     "iopub.status.idle": "2022-02-20T00:34:38.125071Z",
     "shell.execute_reply": "2022-02-20T00:34:38.124485Z"
    },
    "papermill": {
     "duration": 0.045705,
     "end_time": "2022-02-20T00:34:38.125220",
     "exception": false,
     "start_time": "2022-02-20T00:34:38.079515",
     "status": "completed"
    },
    "tags": []
   },
   "outputs": [],
   "source": [
    "#hide\n",
    "\n",
    "# FETCH\n",
    "base_url = 'https://raw.githubusercontent.com/pratapvardhan/notebooks/master/covid19/'\n",
    "paths = {\n",
    "    'mapping': base_url + 'mapping_countries.csv',\n",
    "    'overview': base_url + 'overview.tpl'\n",
    "}"
   ]
  },
  {
   "cell_type": "code",
   "execution_count": 3,
   "id": "dynamic-saver",
   "metadata": {
    "execution": {
     "iopub.execute_input": "2022-02-20T00:34:38.215467Z",
     "iopub.status.busy": "2022-02-20T00:34:38.214738Z",
     "iopub.status.idle": "2022-02-20T00:34:38.218637Z",
     "shell.execute_reply": "2022-02-20T00:34:38.218049Z"
    },
    "papermill": {
     "duration": 0.055385,
     "end_time": "2022-02-20T00:34:38.218802",
     "exception": false,
     "start_time": "2022-02-20T00:34:38.163417",
     "status": "completed"
    },
    "tags": []
   },
   "outputs": [
    {
     "data": {
      "text/plain": [
       "'https://raw.githubusercontent.com/pratapvardhan/notebooks/master/covid19/mapping_countries.csv'"
      ]
     },
     "execution_count": 3,
     "metadata": {},
     "output_type": "execute_result"
    }
   ],
   "source": [
    "#hide\n",
    "paths['mapping']"
   ]
  },
  {
   "cell_type": "code",
   "execution_count": 4,
   "id": "urban-software",
   "metadata": {
    "execution": {
     "iopub.execute_input": "2022-02-20T00:34:38.301756Z",
     "iopub.status.busy": "2022-02-20T00:34:38.301013Z",
     "iopub.status.idle": "2022-02-20T00:34:38.305068Z",
     "shell.execute_reply": "2022-02-20T00:34:38.304498Z"
    },
    "papermill": {
     "duration": 0.048445,
     "end_time": "2022-02-20T00:34:38.305227",
     "exception": false,
     "start_time": "2022-02-20T00:34:38.256782",
     "status": "completed"
    },
    "tags": []
   },
   "outputs": [],
   "source": [
    "#hide\n",
    "def get_mappings(url):\n",
    "    df = pd.read_csv(url)\n",
    "    return {\n",
    "        'df': df,\n",
    "        'replace.country': dict(df.dropna(subset=['Name']).set_index('Country')['Name']),\n",
    "        'map.continent': dict(df.set_index('Name')['Continent'])\n",
    "    }"
   ]
  },
  {
   "cell_type": "code",
   "execution_count": 5,
   "id": "intimate-machinery",
   "metadata": {
    "execution": {
     "iopub.execute_input": "2022-02-20T00:34:38.398486Z",
     "iopub.status.busy": "2022-02-20T00:34:38.397742Z",
     "iopub.status.idle": "2022-02-20T00:34:38.436060Z",
     "shell.execute_reply": "2022-02-20T00:34:38.435522Z"
    },
    "papermill": {
     "duration": 0.089373,
     "end_time": "2022-02-20T00:34:38.436204",
     "exception": false,
     "start_time": "2022-02-20T00:34:38.346831",
     "status": "completed"
    },
    "tags": []
   },
   "outputs": [],
   "source": [
    "#hide\n",
    "mapping = get_mappings(paths['mapping'])"
   ]
  },
  {
   "cell_type": "code",
   "execution_count": 6,
   "id": "certified-tactics",
   "metadata": {
    "execution": {
     "iopub.execute_input": "2022-02-20T00:34:38.518391Z",
     "iopub.status.busy": "2022-02-20T00:34:38.517740Z",
     "iopub.status.idle": "2022-02-20T00:34:38.520082Z",
     "shell.execute_reply": "2022-02-20T00:34:38.519538Z"
    },
    "papermill": {
     "duration": 0.045599,
     "end_time": "2022-02-20T00:34:38.520250",
     "exception": false,
     "start_time": "2022-02-20T00:34:38.474651",
     "status": "completed"
    },
    "tags": []
   },
   "outputs": [],
   "source": [
    "#hide\n",
    "def get_template(path):\n",
    "    from urllib.parse import urlparse\n",
    "    if bool(urlparse(path).netloc):\n",
    "        from urllib.request import urlopen\n",
    "        return urlopen(path).read().decode('utf8')\n",
    "    return open(path).read()"
   ]
  },
  {
   "cell_type": "code",
   "execution_count": 7,
   "id": "realistic-blast",
   "metadata": {
    "execution": {
     "iopub.execute_input": "2022-02-20T00:34:38.598782Z",
     "iopub.status.busy": "2022-02-20T00:34:38.598111Z",
     "iopub.status.idle": "2022-02-20T00:34:38.601278Z",
     "shell.execute_reply": "2022-02-20T00:34:38.600686Z"
    },
    "papermill": {
     "duration": 0.044664,
     "end_time": "2022-02-20T00:34:38.601402",
     "exception": false,
     "start_time": "2022-02-20T00:34:38.556738",
     "status": "completed"
    },
    "tags": []
   },
   "outputs": [],
   "source": [
    "#hide\n",
    "def get_frame(name):\n",
    "    url = (\n",
    "        'https://raw.githubusercontent.com/CSSEGISandData/COVID-19/master/csse_covid_19_data/'\n",
    "        f'csse_covid_19_time_series/time_series_covid19_{name}_global.csv')\n",
    "    df = pd.read_csv(url)\n",
    "    # rename countries\n",
    "    df['Country/Region'] = df['Country/Region'].replace(mapping['replace.country'])\n",
    "    return df"
   ]
  },
  {
   "cell_type": "code",
   "execution_count": 8,
   "id": "affiliated-characterization",
   "metadata": {
    "execution": {
     "iopub.execute_input": "2022-02-20T00:34:38.685429Z",
     "iopub.status.busy": "2022-02-20T00:34:38.684620Z",
     "iopub.status.idle": "2022-02-20T00:34:38.687911Z",
     "shell.execute_reply": "2022-02-20T00:34:38.686889Z"
    },
    "papermill": {
     "duration": 0.050154,
     "end_time": "2022-02-20T00:34:38.688048",
     "exception": false,
     "start_time": "2022-02-20T00:34:38.637894",
     "status": "completed"
    },
    "tags": []
   },
   "outputs": [],
   "source": [
    "#hide\n",
    "def get_dates(df):\n",
    "    dt_cols = df.columns[~df.columns.isin(['Province/State', 'Country/Region', 'Lat', 'Long'])]\n",
    "    LAST_DATE_I = -1\n",
    "    # sometimes last column may be empty, then go backwards\n",
    "    for i in range(-1, -len(dt_cols), -1):\n",
    "        if not df[dt_cols[i]].fillna(0).eq(0).all():\n",
    "            LAST_DATE_I = i\n",
    "            break\n",
    "    return LAST_DATE_I, dt_cols"
   ]
  },
  {
   "cell_type": "code",
   "execution_count": 9,
   "id": "recent-optimization",
   "metadata": {
    "execution": {
     "iopub.execute_input": "2022-02-20T00:34:38.771440Z",
     "iopub.status.busy": "2022-02-20T00:34:38.770652Z",
     "iopub.status.idle": "2022-02-20T00:34:39.250150Z",
     "shell.execute_reply": "2022-02-20T00:34:39.250771Z"
    },
    "papermill": {
     "duration": 0.522923,
     "end_time": "2022-02-20T00:34:39.250973",
     "exception": false,
     "start_time": "2022-02-20T00:34:38.728050",
     "status": "completed"
    },
    "tags": []
   },
   "outputs": [],
   "source": [
    "#hide\n",
    "COL_REGION = 'Country/Region'\n",
    "# Confirmed, Recovered, Deaths\n",
    "df = get_frame('confirmed')\n",
    "# dft_: timeseries, dfc_: today country agg\n",
    "dft_cases = df\n",
    "dft_deaths = get_frame('deaths')\n",
    "dft_recovered = get_frame('recovered')\n",
    "LAST_DATE_I, dt_cols = get_dates(df)"
   ]
  },
  {
   "cell_type": "code",
   "execution_count": 10,
   "id": "absolute-copper",
   "metadata": {
    "execution": {
     "iopub.execute_input": "2022-02-20T00:34:39.337440Z",
     "iopub.status.busy": "2022-02-20T00:34:39.336773Z",
     "iopub.status.idle": "2022-02-20T00:34:39.338829Z",
     "shell.execute_reply": "2022-02-20T00:34:39.339404Z"
    },
    "papermill": {
     "duration": 0.050936,
     "end_time": "2022-02-20T00:34:39.339562",
     "exception": false,
     "start_time": "2022-02-20T00:34:39.288626",
     "status": "completed"
    },
    "tags": []
   },
   "outputs": [],
   "source": [
    "#hide\n",
    "LAST_DATE_I, dt_cols = get_dates(df)\n",
    "dt_today =dt_cols[LAST_DATE_I]\n",
    "# dt_5day = dt_cols[LAST_DATE_I - 5]\n",
    "dt_yday = dt_cols[LAST_DATE_I - 1]"
   ]
  },
  {
   "cell_type": "code",
   "execution_count": 11,
   "id": "restricted-sheriff",
   "metadata": {
    "execution": {
     "iopub.execute_input": "2022-02-20T00:34:39.424732Z",
     "iopub.status.busy": "2022-02-20T00:34:39.424013Z",
     "iopub.status.idle": "2022-02-20T00:34:39.430778Z",
     "shell.execute_reply": "2022-02-20T00:34:39.431378Z"
    },
    "papermill": {
     "duration": 0.053525,
     "end_time": "2022-02-20T00:34:39.431532",
     "exception": false,
     "start_time": "2022-02-20T00:34:39.378007",
     "status": "completed"
    },
    "tags": []
   },
   "outputs": [],
   "source": [
    "#hide\n",
    "dfc_cases = dft_cases.groupby(COL_REGION)[dt_today].sum()\n",
    "dfc_deaths = dft_deaths.groupby(COL_REGION)[dt_today].sum()\n",
    "# dfp_cases = dft_cases.groupby(COL_REGION)[dt_5day].sum()\n",
    "# dfp_deaths = dft_deaths.groupby(COL_REGION)[dt_5day].sum()\n",
    "dfp_cases = dft_cases.groupby(COL_REGION)[dt_yday].sum()\n",
    "dfp_deaths = dft_deaths.groupby(COL_REGION)[dt_yday].sum()"
   ]
  },
  {
   "cell_type": "code",
   "execution_count": 12,
   "id": "deluxe-hepatitis",
   "metadata": {
    "execution": {
     "iopub.execute_input": "2022-02-20T00:34:39.517077Z",
     "iopub.status.busy": "2022-02-20T00:34:39.516380Z",
     "iopub.status.idle": "2022-02-20T00:34:39.521915Z",
     "shell.execute_reply": "2022-02-20T00:34:39.521256Z"
    },
    "papermill": {
     "duration": 0.051712,
     "end_time": "2022-02-20T00:34:39.522038",
     "exception": false,
     "start_time": "2022-02-20T00:34:39.470326",
     "status": "completed"
    },
    "tags": []
   },
   "outputs": [],
   "source": [
    "#hide\n",
    "df_table = (pd.DataFrame(dict(Cases = dfc_cases, Deaths = dfc_deaths, PCases = dfp_cases, PDeaths = dfp_deaths))\n",
    "            .sort_values(by = ['Cases','Deaths'], ascending = [False, False])\n",
    "            .reset_index())"
   ]
  },
  {
   "cell_type": "code",
   "execution_count": 13,
   "id": "educational-chancellor",
   "metadata": {
    "execution": {
     "iopub.execute_input": "2022-02-20T00:34:39.619644Z",
     "iopub.status.busy": "2022-02-20T00:34:39.618938Z",
     "iopub.status.idle": "2022-02-20T00:34:39.630006Z",
     "shell.execute_reply": "2022-02-20T00:34:39.629319Z"
    },
    "papermill": {
     "duration": 0.071601,
     "end_time": "2022-02-20T00:34:39.630144",
     "exception": false,
     "start_time": "2022-02-20T00:34:39.558543",
     "status": "completed"
    },
    "tags": []
   },
   "outputs": [
    {
     "data": {
      "text/html": [
       "<div>\n",
       "<style scoped>\n",
       "    .dataframe tbody tr th:only-of-type {\n",
       "        vertical-align: middle;\n",
       "    }\n",
       "\n",
       "    .dataframe tbody tr th {\n",
       "        vertical-align: top;\n",
       "    }\n",
       "\n",
       "    .dataframe thead th {\n",
       "        text-align: right;\n",
       "    }\n",
       "</style>\n",
       "<table border=\"1\" class=\"dataframe\">\n",
       "  <thead>\n",
       "    <tr style=\"text-align: right;\">\n",
       "      <th></th>\n",
       "      <th>Country/Region</th>\n",
       "      <th>Cases</th>\n",
       "      <th>Deaths</th>\n",
       "      <th>PCases</th>\n",
       "      <th>PDeaths</th>\n",
       "      <th>Cases (+)</th>\n",
       "      <th>Deaths (+)</th>\n",
       "      <th>Fatality Rate</th>\n",
       "      <th>Continent</th>\n",
       "    </tr>\n",
       "  </thead>\n",
       "  <tbody>\n",
       "    <tr>\n",
       "      <th>0</th>\n",
       "      <td>US</td>\n",
       "      <td>78423525</td>\n",
       "      <td>934321</td>\n",
       "      <td>78275698</td>\n",
       "      <td>931862</td>\n",
       "      <td>147827</td>\n",
       "      <td>2459</td>\n",
       "      <td>1.19</td>\n",
       "      <td>North America</td>\n",
       "    </tr>\n",
       "    <tr>\n",
       "      <th>1</th>\n",
       "      <td>India</td>\n",
       "      <td>42802505</td>\n",
       "      <td>511230</td>\n",
       "      <td>42780235</td>\n",
       "      <td>510905</td>\n",
       "      <td>22270</td>\n",
       "      <td>325</td>\n",
       "      <td>1.19</td>\n",
       "      <td>Asia</td>\n",
       "    </tr>\n",
       "    <tr>\n",
       "      <th>2</th>\n",
       "      <td>Brazil</td>\n",
       "      <td>28072238</td>\n",
       "      <td>643340</td>\n",
       "      <td>27940119</td>\n",
       "      <td>642156</td>\n",
       "      <td>132119</td>\n",
       "      <td>1184</td>\n",
       "      <td>2.29</td>\n",
       "      <td>South America</td>\n",
       "    </tr>\n",
       "    <tr>\n",
       "      <th>3</th>\n",
       "      <td>France</td>\n",
       "      <td>22310014</td>\n",
       "      <td>137448</td>\n",
       "      <td>22223882</td>\n",
       "      <td>137143</td>\n",
       "      <td>86132</td>\n",
       "      <td>305</td>\n",
       "      <td>0.62</td>\n",
       "      <td>Europe</td>\n",
       "    </tr>\n",
       "    <tr>\n",
       "      <th>4</th>\n",
       "      <td>United Kingdom</td>\n",
       "      <td>18676361</td>\n",
       "      <td>160946</td>\n",
       "      <td>18628702</td>\n",
       "      <td>160785</td>\n",
       "      <td>47659</td>\n",
       "      <td>161</td>\n",
       "      <td>0.86</td>\n",
       "      <td>Europe</td>\n",
       "    </tr>\n",
       "  </tbody>\n",
       "</table>\n",
       "</div>"
      ],
      "text/plain": [
       "   Country/Region     Cases  Deaths    PCases  PDeaths  Cases (+)  Deaths (+)  \\\n",
       "0              US  78423525  934321  78275698   931862     147827        2459   \n",
       "1           India  42802505  511230  42780235   510905      22270         325   \n",
       "2          Brazil  28072238  643340  27940119   642156     132119        1184   \n",
       "3          France  22310014  137448  22223882   137143      86132         305   \n",
       "4  United Kingdom  18676361  160946  18628702   160785      47659         161   \n",
       "\n",
       "   Fatality Rate      Continent  \n",
       "0           1.19  North America  \n",
       "1           1.19           Asia  \n",
       "2           2.29  South America  \n",
       "3           0.62         Europe  \n",
       "4           0.86         Europe  "
      ]
     },
     "execution_count": 13,
     "metadata": {},
     "output_type": "execute_result"
    }
   ],
   "source": [
    "#hide\n",
    "for c in 'Cases, Deaths'.split(', '):\n",
    "    df_table[f'{c} (+)'] = (df_table[c] - df_table[f'P{c}']).clip(0)\n",
    "    #Clip ça veut dire, les chiffres negatif sont interdit\n",
    "df_table['Fatality Rate'] = (100* df_table['Deaths']/ df_table['Cases']).round(2)\n",
    "df_table['Continent'] = df_table['Country/Region'].map(mapping['map.continent'])\n",
    "df_table.head(5)"
   ]
  },
  {
   "cell_type": "code",
   "execution_count": 14,
   "id": "aboriginal-bulgaria",
   "metadata": {
    "execution": {
     "iopub.execute_input": "2022-02-20T00:34:39.716746Z",
     "iopub.status.busy": "2022-02-20T00:34:39.716072Z",
     "iopub.status.idle": "2022-02-20T00:34:39.720035Z",
     "shell.execute_reply": "2022-02-20T00:34:39.720523Z"
    },
    "papermill": {
     "duration": 0.050275,
     "end_time": "2022-02-20T00:34:39.720698",
     "exception": false,
     "start_time": "2022-02-20T00:34:39.670423",
     "status": "completed"
    },
    "tags": []
   },
   "outputs": [],
   "source": [
    "#hide\n",
    "#delete problematic countries from table\n",
    "df_table = df_table[~df_table['Country/Region'].isin(['Cape Verde', 'Cruise Ship', 'Kosovo'])]"
   ]
  },
  {
   "cell_type": "code",
   "execution_count": 15,
   "id": "fantastic-effect",
   "metadata": {
    "execution": {
     "iopub.execute_input": "2022-02-20T00:34:39.810140Z",
     "iopub.status.busy": "2022-02-20T00:34:39.809403Z",
     "iopub.status.idle": "2022-02-20T00:34:39.836920Z",
     "shell.execute_reply": "2022-02-20T00:34:39.831082Z"
    },
    "papermill": {
     "duration": 0.077253,
     "end_time": "2022-02-20T00:34:39.837059",
     "exception": false,
     "start_time": "2022-02-20T00:34:39.759806",
     "status": "completed"
    },
    "tags": []
   },
   "outputs": [
    {
     "data": {
      "text/html": [
       "<div>\n",
       "<style scoped>\n",
       "    .dataframe tbody tr th:only-of-type {\n",
       "        vertical-align: middle;\n",
       "    }\n",
       "\n",
       "    .dataframe tbody tr th {\n",
       "        vertical-align: top;\n",
       "    }\n",
       "\n",
       "    .dataframe thead th {\n",
       "        text-align: right;\n",
       "    }\n",
       "</style>\n",
       "<table border=\"1\" class=\"dataframe\">\n",
       "  <thead>\n",
       "    <tr style=\"text-align: right;\">\n",
       "      <th></th>\n",
       "      <th>Country/Region</th>\n",
       "      <th>Cases</th>\n",
       "      <th>Deaths</th>\n",
       "      <th>PCases</th>\n",
       "      <th>PDeaths</th>\n",
       "      <th>Cases (+)</th>\n",
       "      <th>Deaths (+)</th>\n",
       "      <th>Fatality Rate</th>\n",
       "      <th>Continent</th>\n",
       "    </tr>\n",
       "  </thead>\n",
       "  <tbody>\n",
       "    <tr>\n",
       "      <th>0</th>\n",
       "      <td>US</td>\n",
       "      <td>78423525</td>\n",
       "      <td>934321</td>\n",
       "      <td>78275698</td>\n",
       "      <td>931862</td>\n",
       "      <td>147827</td>\n",
       "      <td>2459</td>\n",
       "      <td>1.2</td>\n",
       "      <td>North America</td>\n",
       "    </tr>\n",
       "    <tr>\n",
       "      <th>1</th>\n",
       "      <td>India</td>\n",
       "      <td>42802505</td>\n",
       "      <td>511230</td>\n",
       "      <td>42780235</td>\n",
       "      <td>510905</td>\n",
       "      <td>22270</td>\n",
       "      <td>325</td>\n",
       "      <td>1.2</td>\n",
       "      <td>Asia</td>\n",
       "    </tr>\n",
       "    <tr>\n",
       "      <th>2</th>\n",
       "      <td>Brazil</td>\n",
       "      <td>28072238</td>\n",
       "      <td>643340</td>\n",
       "      <td>27940119</td>\n",
       "      <td>642156</td>\n",
       "      <td>132119</td>\n",
       "      <td>1184</td>\n",
       "      <td>2.3</td>\n",
       "      <td>South America</td>\n",
       "    </tr>\n",
       "    <tr>\n",
       "      <th>3</th>\n",
       "      <td>France</td>\n",
       "      <td>22310014</td>\n",
       "      <td>137448</td>\n",
       "      <td>22223882</td>\n",
       "      <td>137143</td>\n",
       "      <td>86132</td>\n",
       "      <td>305</td>\n",
       "      <td>0.6</td>\n",
       "      <td>Europe</td>\n",
       "    </tr>\n",
       "    <tr>\n",
       "      <th>4</th>\n",
       "      <td>United Kingdom</td>\n",
       "      <td>18676361</td>\n",
       "      <td>160946</td>\n",
       "      <td>18628702</td>\n",
       "      <td>160785</td>\n",
       "      <td>47659</td>\n",
       "      <td>161</td>\n",
       "      <td>0.9</td>\n",
       "      <td>Europe</td>\n",
       "    </tr>\n",
       "  </tbody>\n",
       "</table>\n",
       "</div>"
      ],
      "text/plain": [
       "   Country/Region     Cases  Deaths    PCases  PDeaths  Cases (+)  Deaths (+)  \\\n",
       "0              US  78423525  934321  78275698   931862     147827        2459   \n",
       "1           India  42802505  511230  42780235   510905      22270         325   \n",
       "2          Brazil  28072238  643340  27940119   642156     132119        1184   \n",
       "3          France  22310014  137448  22223882   137143      86132         305   \n",
       "4  United Kingdom  18676361  160946  18628702   160785      47659         161   \n",
       "\n",
       "   Fatality Rate      Continent  \n",
       "0            1.2  North America  \n",
       "1            1.2           Asia  \n",
       "2            2.3  South America  \n",
       "3            0.6         Europe  \n",
       "4            0.9         Europe  "
      ]
     },
     "execution_count": 15,
     "metadata": {},
     "output_type": "execute_result"
    }
   ],
   "source": [
    "#hide\n",
    "df_table = (pd.DataFrame(dict(Cases=dfc_cases, Deaths=dfc_deaths, PCases=dfp_cases, PDeaths=dfp_deaths))\n",
    "             .sort_values(by=['Cases', 'Deaths'], ascending=[False, False])\n",
    "             .reset_index())\n",
    "df_table.rename(columns={'index': 'Country/Region'}, inplace=True)\n",
    "for c in 'Cases, Deaths'.split(', '):\n",
    "    df_table[f'{c} (+)'] = (df_table[c] - df_table[f'P{c}']).clip(0)  # DATA BUG\n",
    "df_table['Fatality Rate'] = (100 * df_table['Deaths'] / df_table['Cases']).round(1)\n",
    "df_table['Continent'] = df_table['Country/Region'].map(mapping['map.continent'])\n",
    "df_table.head(5)"
   ]
  },
  {
   "cell_type": "code",
   "execution_count": 16,
   "id": "fewer-occasion",
   "metadata": {
    "execution": {
     "iopub.execute_input": "2022-02-20T00:34:39.925832Z",
     "iopub.status.busy": "2022-02-20T00:34:39.924969Z",
     "iopub.status.idle": "2022-02-20T00:34:39.928859Z",
     "shell.execute_reply": "2022-02-20T00:34:39.928284Z"
    },
    "papermill": {
     "duration": 0.050842,
     "end_time": "2022-02-20T00:34:39.928981",
     "exception": false,
     "start_time": "2022-02-20T00:34:39.878139",
     "status": "completed"
    },
    "tags": []
   },
   "outputs": [],
   "source": [
    "#hide\n",
    "#delete problematic countries from table\n",
    "df_table = df_table[~df_table['Country/Region'].isin(['Cape Verde', 'Cruise Ship', 'Kosovo'])]"
   ]
  },
  {
   "cell_type": "code",
   "execution_count": 17,
   "id": "related-center",
   "metadata": {
    "execution": {
     "iopub.execute_input": "2022-02-20T00:34:40.036519Z",
     "iopub.status.busy": "2022-02-20T00:34:40.035771Z",
     "iopub.status.idle": "2022-02-20T00:34:40.038426Z",
     "shell.execute_reply": "2022-02-20T00:34:40.037875Z"
    },
    "papermill": {
     "duration": 0.070012,
     "end_time": "2022-02-20T00:34:40.038638",
     "exception": false,
     "start_time": "2022-02-20T00:34:39.968626",
     "status": "completed"
    },
    "tags": []
   },
   "outputs": [],
   "source": [
    "#hide\n",
    "metrics = [df_table.columns[index] for index in [1,2,5,6]]\n",
    "# s_china = df_table[df_table['Country/Region'].eq('China')][metrics].sum().add_prefix('China ')\n",
    "s_us = df_table[df_table['Country/Region'].eq('US')][metrics].sum().add_prefix('US ')\n",
    "s_eu = df_table[df_table['Continent'].eq('Europe')][metrics].sum().add_prefix('EU ')\n",
    "s_ind = df_table[df_table['Country/Region'].eq('India')][metrics].sum().add_prefix('India ')\n",
    "summary = {'updated': pd.to_datetime(dt_today), 'since': pd.to_datetime(dt_yday)}\n",
    "summary = {'updated': pd.to_datetime(dt_today), 'since': pd.to_datetime(dt_yday)}\n",
    "summary = {**summary, **df_table[metrics].sum(), **s_ind, **s_us, **s_eu}"
   ]
  },
  {
   "cell_type": "code",
   "execution_count": 18,
   "id": "engaging-syndrome",
   "metadata": {
    "execution": {
     "iopub.execute_input": "2022-02-20T00:34:40.124679Z",
     "iopub.status.busy": "2022-02-20T00:34:40.123954Z",
     "iopub.status.idle": "2022-02-20T00:34:40.140352Z",
     "shell.execute_reply": "2022-02-20T00:34:40.139776Z"
    },
    "papermill": {
     "duration": 0.062189,
     "end_time": "2022-02-20T00:34:40.140502",
     "exception": false,
     "start_time": "2022-02-20T00:34:40.078313",
     "status": "completed"
    },
    "tags": []
   },
   "outputs": [],
   "source": [
    "#hide\n",
    "dft_ct_new_cases = dft_cases.groupby(COL_REGION)[dt_cols].sum().diff(axis=1).fillna(0).astype(int)"
   ]
  },
  {
   "cell_type": "code",
   "execution_count": 19,
   "id": "neutral-assignment",
   "metadata": {
    "execution": {
     "iopub.execute_input": "2022-02-20T00:34:40.226362Z",
     "iopub.status.busy": "2022-02-20T00:34:40.225686Z",
     "iopub.status.idle": "2022-02-20T00:34:40.228309Z",
     "shell.execute_reply": "2022-02-20T00:34:40.227736Z"
    },
    "papermill": {
     "duration": 0.048556,
     "end_time": "2022-02-20T00:34:40.228443",
     "exception": false,
     "start_time": "2022-02-20T00:34:40.179887",
     "status": "completed"
    },
    "tags": []
   },
   "outputs": [],
   "source": [
    "#hide\n",
    "everydaycases = dft_ct_new_cases.cumsum(axis=1)"
   ]
  },
  {
   "cell_type": "code",
   "execution_count": 20,
   "id": "parliamentary-calgary",
   "metadata": {
    "execution": {
     "iopub.execute_input": "2022-02-20T00:34:40.310066Z",
     "iopub.status.busy": "2022-02-20T00:34:40.309378Z",
     "iopub.status.idle": "2022-02-20T00:34:41.036704Z",
     "shell.execute_reply": "2022-02-20T00:34:41.036077Z"
    },
    "papermill": {
     "duration": 0.770123,
     "end_time": "2022-02-20T00:34:41.036862",
     "exception": false,
     "start_time": "2022-02-20T00:34:40.266739",
     "status": "completed"
    },
    "tags": []
   },
   "outputs": [],
   "source": [
    "#hide\n",
    "import pandas as pd\n",
    "import matplotlib.pyplot as plt\n",
    "import matplotlib.ticker as ticker\n",
    "import matplotlib.animation as animation\n",
    "from IPython.display import HTML"
   ]
  },
  {
   "cell_type": "code",
   "execution_count": 21,
   "id": "lasting-extraction",
   "metadata": {
    "execution": {
     "iopub.execute_input": "2022-02-20T00:34:41.124538Z",
     "iopub.status.busy": "2022-02-20T00:34:41.123807Z",
     "iopub.status.idle": "2022-02-20T00:34:41.130802Z",
     "shell.execute_reply": "2022-02-20T00:34:41.130183Z"
    },
    "papermill": {
     "duration": 0.05426,
     "end_time": "2022-02-20T00:34:41.130956",
     "exception": false,
     "start_time": "2022-02-20T00:34:41.076696",
     "status": "completed"
    },
    "tags": []
   },
   "outputs": [],
   "source": [
    "#hide\n",
    "t = everydaycases.stack()"
   ]
  },
  {
   "cell_type": "code",
   "execution_count": 22,
   "id": "premier-sleeve",
   "metadata": {
    "execution": {
     "iopub.execute_input": "2022-02-20T00:34:41.215836Z",
     "iopub.status.busy": "2022-02-20T00:34:41.215159Z",
     "iopub.status.idle": "2022-02-20T00:34:41.227846Z",
     "shell.execute_reply": "2022-02-20T00:34:41.227235Z"
    },
    "papermill": {
     "duration": 0.056969,
     "end_time": "2022-02-20T00:34:41.228017",
     "exception": false,
     "start_time": "2022-02-20T00:34:41.171048",
     "status": "completed"
    },
    "tags": []
   },
   "outputs": [],
   "source": [
    "#hide\n",
    "g = t.reset_index(['Country/Region'])"
   ]
  },
  {
   "cell_type": "code",
   "execution_count": 23,
   "id": "distributed-pittsburgh",
   "metadata": {
    "execution": {
     "iopub.execute_input": "2022-02-20T00:34:41.310245Z",
     "iopub.status.busy": "2022-02-20T00:34:41.309459Z",
     "iopub.status.idle": "2022-02-20T00:34:41.312390Z",
     "shell.execute_reply": "2022-02-20T00:34:41.311708Z"
    },
    "papermill": {
     "duration": 0.045529,
     "end_time": "2022-02-20T00:34:41.312554",
     "exception": false,
     "start_time": "2022-02-20T00:34:41.267025",
     "status": "completed"
    },
    "tags": []
   },
   "outputs": [],
   "source": [
    "#hide\n",
    "g.index.name = 'date'"
   ]
  },
  {
   "cell_type": "code",
   "execution_count": 24,
   "id": "naked-donor",
   "metadata": {
    "execution": {
     "iopub.execute_input": "2022-02-20T00:34:41.396589Z",
     "iopub.status.busy": "2022-02-20T00:34:41.395911Z",
     "iopub.status.idle": "2022-02-20T00:34:41.399729Z",
     "shell.execute_reply": "2022-02-20T00:34:41.400191Z"
    },
    "papermill": {
     "duration": 0.046653,
     "end_time": "2022-02-20T00:34:41.400384",
     "exception": false,
     "start_time": "2022-02-20T00:34:41.353731",
     "status": "completed"
    },
    "tags": []
   },
   "outputs": [],
   "source": [
    "# #hide\n",
    "# g = g.reset_index(['date'])"
   ]
  },
  {
   "cell_type": "code",
   "execution_count": 25,
   "id": "incomplete-mustang",
   "metadata": {
    "execution": {
     "iopub.execute_input": "2022-02-20T00:34:41.482670Z",
     "iopub.status.busy": "2022-02-20T00:34:41.481999Z",
     "iopub.status.idle": "2022-02-20T00:34:41.486287Z",
     "shell.execute_reply": "2022-02-20T00:34:41.485776Z"
    },
    "papermill": {
     "duration": 0.047466,
     "end_time": "2022-02-20T00:34:41.486454",
     "exception": false,
     "start_time": "2022-02-20T00:34:41.438988",
     "status": "completed"
    },
    "tags": []
   },
   "outputs": [],
   "source": [
    "#hide\n",
    "# g.head()"
   ]
  },
  {
   "cell_type": "code",
   "execution_count": 26,
   "id": "specific-kruger",
   "metadata": {
    "execution": {
     "iopub.execute_input": "2022-02-20T00:34:41.568361Z",
     "iopub.status.busy": "2022-02-20T00:34:41.567708Z",
     "iopub.status.idle": "2022-02-20T00:34:41.574073Z",
     "shell.execute_reply": "2022-02-20T00:34:41.574622Z"
    },
    "papermill": {
     "duration": 0.050125,
     "end_time": "2022-02-20T00:34:41.574779",
     "exception": false,
     "start_time": "2022-02-20T00:34:41.524654",
     "status": "completed"
    },
    "tags": []
   },
   "outputs": [],
   "source": [
    "#hide\n",
    "# g.columns = ['date','country','cases']"
   ]
  },
  {
   "cell_type": "code",
   "execution_count": 27,
   "id": "tender-conversion",
   "metadata": {
    "execution": {
     "iopub.execute_input": "2022-02-20T00:34:41.662434Z",
     "iopub.status.busy": "2022-02-20T00:34:41.661746Z",
     "iopub.status.idle": "2022-02-20T00:34:41.666062Z",
     "shell.execute_reply": "2022-02-20T00:34:41.665424Z"
    },
    "papermill": {
     "duration": 0.049994,
     "end_time": "2022-02-20T00:34:41.666200",
     "exception": false,
     "start_time": "2022-02-20T00:34:41.616206",
     "status": "completed"
    },
    "tags": []
   },
   "outputs": [],
   "source": [
    "#hide\n",
    "# g['continent'] = g.country"
   ]
  },
  {
   "cell_type": "code",
   "execution_count": 28,
   "id": "substantial-wilderness",
   "metadata": {
    "execution": {
     "iopub.execute_input": "2022-02-20T00:34:41.754110Z",
     "iopub.status.busy": "2022-02-20T00:34:41.753364Z",
     "iopub.status.idle": "2022-02-20T00:34:41.755470Z",
     "shell.execute_reply": "2022-02-20T00:34:41.756000Z"
    },
    "papermill": {
     "duration": 0.046477,
     "end_time": "2022-02-20T00:34:41.756182",
     "exception": false,
     "start_time": "2022-02-20T00:34:41.709705",
     "status": "completed"
    },
    "tags": []
   },
   "outputs": [],
   "source": [
    "#hide\n",
    "# cols = list(g.columns.values)"
   ]
  },
  {
   "cell_type": "code",
   "execution_count": 29,
   "id": "solved-farming",
   "metadata": {
    "execution": {
     "iopub.execute_input": "2022-02-20T00:34:41.839992Z",
     "iopub.status.busy": "2022-02-20T00:34:41.839297Z",
     "iopub.status.idle": "2022-02-20T00:34:41.843267Z",
     "shell.execute_reply": "2022-02-20T00:34:41.843802Z"
    },
    "papermill": {
     "duration": 0.048202,
     "end_time": "2022-02-20T00:34:41.843963",
     "exception": false,
     "start_time": "2022-02-20T00:34:41.795761",
     "status": "completed"
    },
    "tags": []
   },
   "outputs": [],
   "source": [
    "#hide\n",
    "# cols.insert(0, cols.pop())"
   ]
  },
  {
   "cell_type": "code",
   "execution_count": 30,
   "id": "executed-adoption",
   "metadata": {
    "execution": {
     "iopub.execute_input": "2022-02-20T00:34:41.929471Z",
     "iopub.status.busy": "2022-02-20T00:34:41.928783Z",
     "iopub.status.idle": "2022-02-20T00:34:41.931640Z",
     "shell.execute_reply": "2022-02-20T00:34:41.930845Z"
    },
    "papermill": {
     "duration": 0.046202,
     "end_time": "2022-02-20T00:34:41.931781",
     "exception": false,
     "start_time": "2022-02-20T00:34:41.885579",
     "status": "completed"
    },
    "tags": []
   },
   "outputs": [],
   "source": [
    "#hide\n",
    "# g = g[cols]"
   ]
  },
  {
   "cell_type": "code",
   "execution_count": 31,
   "id": "subject-dublin",
   "metadata": {
    "execution": {
     "iopub.execute_input": "2022-02-20T00:34:42.014494Z",
     "iopub.status.busy": "2022-02-20T00:34:42.013818Z",
     "iopub.status.idle": "2022-02-20T00:34:42.018597Z",
     "shell.execute_reply": "2022-02-20T00:34:42.017914Z"
    },
    "papermill": {
     "duration": 0.048279,
     "end_time": "2022-02-20T00:34:42.018735",
     "exception": false,
     "start_time": "2022-02-20T00:34:41.970456",
     "status": "completed"
    },
    "tags": []
   },
   "outputs": [],
   "source": [
    "#hide\n",
    "# g['continent'] = g['continent'].map(mapping['map.continent'])"
   ]
  },
  {
   "cell_type": "code",
   "execution_count": 32,
   "id": "freelance-scout",
   "metadata": {
    "execution": {
     "iopub.execute_input": "2022-02-20T00:34:42.104736Z",
     "iopub.status.busy": "2022-02-20T00:34:42.104062Z",
     "iopub.status.idle": "2022-02-20T00:34:42.108473Z",
     "shell.execute_reply": "2022-02-20T00:34:42.107900Z"
    },
    "papermill": {
     "duration": 0.047667,
     "end_time": "2022-02-20T00:34:42.108606",
     "exception": false,
     "start_time": "2022-02-20T00:34:42.060939",
     "status": "completed"
    },
    "tags": []
   },
   "outputs": [],
   "source": [
    "#hide\n",
    "# g.head()"
   ]
  },
  {
   "cell_type": "code",
   "execution_count": 33,
   "id": "limited-engine",
   "metadata": {
    "execution": {
     "iopub.execute_input": "2022-02-20T00:34:42.192064Z",
     "iopub.status.busy": "2022-02-20T00:34:42.191389Z",
     "iopub.status.idle": "2022-02-20T00:34:42.193899Z",
     "shell.execute_reply": "2022-02-20T00:34:42.193217Z"
    },
    "papermill": {
     "duration": 0.045853,
     "end_time": "2022-02-20T00:34:42.194037",
     "exception": false,
     "start_time": "2022-02-20T00:34:42.148184",
     "status": "completed"
    },
    "tags": []
   },
   "outputs": [],
   "source": [
    "# hide\n",
    "# g['date'] = g['date'].astype('datetime64[ns]')"
   ]
  },
  {
   "cell_type": "code",
   "execution_count": 34,
   "id": "sophisticated-supervisor",
   "metadata": {
    "execution": {
     "iopub.execute_input": "2022-02-20T00:34:42.278289Z",
     "iopub.status.busy": "2022-02-20T00:34:42.277599Z",
     "iopub.status.idle": "2022-02-20T00:34:42.280822Z",
     "shell.execute_reply": "2022-02-20T00:34:42.280277Z"
    },
    "papermill": {
     "duration": 0.047814,
     "end_time": "2022-02-20T00:34:42.280968",
     "exception": false,
     "start_time": "2022-02-20T00:34:42.233154",
     "status": "completed"
    },
    "tags": []
   },
   "outputs": [],
   "source": [
    "#hide\n",
    "# g['date'] = g.date.dt.dayofyear"
   ]
  },
  {
   "cell_type": "code",
   "execution_count": 35,
   "id": "inside-dubai",
   "metadata": {
    "execution": {
     "iopub.execute_input": "2022-02-20T00:34:42.366513Z",
     "iopub.status.busy": "2022-02-20T00:34:42.365820Z",
     "iopub.status.idle": "2022-02-20T00:34:42.369210Z",
     "shell.execute_reply": "2022-02-20T00:34:42.368494Z"
    },
    "papermill": {
     "duration": 0.047969,
     "end_time": "2022-02-20T00:34:42.369352",
     "exception": false,
     "start_time": "2022-02-20T00:34:42.321383",
     "status": "completed"
    },
    "tags": []
   },
   "outputs": [],
   "source": [
    "#hide\n",
    "# g = g.rename(columns= {'continent':'group','country':'name','cases':'value'})"
   ]
  },
  {
   "cell_type": "code",
   "execution_count": 36,
   "id": "fleet-motorcycle",
   "metadata": {
    "execution": {
     "iopub.execute_input": "2022-02-20T00:34:42.455285Z",
     "iopub.status.busy": "2022-02-20T00:34:42.454601Z",
     "iopub.status.idle": "2022-02-20T00:34:42.458648Z",
     "shell.execute_reply": "2022-02-20T00:34:42.459182Z"
    },
    "papermill": {
     "duration": 0.048826,
     "end_time": "2022-02-20T00:34:42.459409",
     "exception": false,
     "start_time": "2022-02-20T00:34:42.410583",
     "status": "completed"
    },
    "tags": []
   },
   "outputs": [],
   "source": [
    "#hide\n",
    "# cols = ['name','group','day','value']"
   ]
  },
  {
   "cell_type": "code",
   "execution_count": 37,
   "id": "continued-sleeping",
   "metadata": {
    "execution": {
     "iopub.execute_input": "2022-02-20T00:34:42.544678Z",
     "iopub.status.busy": "2022-02-20T00:34:42.543986Z",
     "iopub.status.idle": "2022-02-20T00:34:42.546655Z",
     "shell.execute_reply": "2022-02-20T00:34:42.546043Z"
    },
    "papermill": {
     "duration": 0.046781,
     "end_time": "2022-02-20T00:34:42.546803",
     "exception": false,
     "start_time": "2022-02-20T00:34:42.500022",
     "status": "completed"
    },
    "tags": []
   },
   "outputs": [],
   "source": [
    "#hide\n",
    "# g.rename(columns= {'date':'day'},inplace = True)"
   ]
  },
  {
   "cell_type": "code",
   "execution_count": 38,
   "id": "major-fight",
   "metadata": {
    "execution": {
     "iopub.execute_input": "2022-02-20T00:34:42.631860Z",
     "iopub.status.busy": "2022-02-20T00:34:42.631196Z",
     "iopub.status.idle": "2022-02-20T00:34:42.633821Z",
     "shell.execute_reply": "2022-02-20T00:34:42.633136Z"
    },
    "papermill": {
     "duration": 0.046287,
     "end_time": "2022-02-20T00:34:42.633967",
     "exception": false,
     "start_time": "2022-02-20T00:34:42.587680",
     "status": "completed"
    },
    "tags": []
   },
   "outputs": [],
   "source": [
    "#hide\n",
    "# g = g[cols]"
   ]
  },
  {
   "cell_type": "code",
   "execution_count": 39,
   "id": "structured-mobile",
   "metadata": {
    "execution": {
     "iopub.execute_input": "2022-02-20T00:34:42.718468Z",
     "iopub.status.busy": "2022-02-20T00:34:42.717667Z",
     "iopub.status.idle": "2022-02-20T00:34:42.724306Z",
     "shell.execute_reply": "2022-02-20T00:34:42.723619Z"
    },
    "papermill": {
     "duration": 0.050526,
     "end_time": "2022-02-20T00:34:42.724444",
     "exception": false,
     "start_time": "2022-02-20T00:34:42.673918",
     "status": "completed"
    },
    "tags": []
   },
   "outputs": [],
   "source": [
    "# #hide\n",
    "# g = g[g.group.notna()]"
   ]
  },
  {
   "cell_type": "code",
   "execution_count": 40,
   "id": "determined-closing",
   "metadata": {
    "execution": {
     "iopub.execute_input": "2022-02-20T00:34:42.810976Z",
     "iopub.status.busy": "2022-02-20T00:34:42.810222Z",
     "iopub.status.idle": "2022-02-20T00:34:42.812400Z",
     "shell.execute_reply": "2022-02-20T00:34:42.813027Z"
    },
    "papermill": {
     "duration": 0.045821,
     "end_time": "2022-02-20T00:34:42.813183",
     "exception": false,
     "start_time": "2022-02-20T00:34:42.767362",
     "status": "completed"
    },
    "tags": []
   },
   "outputs": [],
   "source": [
    "# #hide\n",
    "# colors = dict(zip(\n",
    "#     [\"Oceania\", \"Europe\", \"Asia\", \"South America\", \"Middle East\", \"North America\", \"Africa\"],\n",
    "#     [\"#adb0ff\", \"#ffb3ff\", \"#90d595\", \"#e48381\", \"#aafbff\", \"#f7bb5f\", \"#eafb50\"]\n",
    "# ))\n",
    "# group_lk = g.set_index('name')['group'].to_dict()"
   ]
  },
  {
   "cell_type": "code",
   "execution_count": null,
   "id": "gross-drinking",
   "metadata": {
    "papermill": {
     "duration": 0.039419,
     "end_time": "2022-02-20T00:34:42.893730",
     "exception": false,
     "start_time": "2022-02-20T00:34:42.854311",
     "status": "completed"
    },
    "tags": []
   },
   "outputs": [],
   "source": []
  },
  {
   "cell_type": "code",
   "execution_count": 41,
   "id": "subject-macintosh",
   "metadata": {
    "execution": {
     "iopub.execute_input": "2022-02-20T00:34:42.975423Z",
     "iopub.status.busy": "2022-02-20T00:34:42.974691Z",
     "iopub.status.idle": "2022-02-20T00:34:42.977032Z",
     "shell.execute_reply": "2022-02-20T00:34:42.978076Z"
    },
    "papermill": {
     "duration": 0.046914,
     "end_time": "2022-02-20T00:34:42.978313",
     "exception": false,
     "start_time": "2022-02-20T00:34:42.931399",
     "status": "completed"
    },
    "tags": []
   },
   "outputs": [],
   "source": [
    "# #hide\n",
    "# fig, ax = plt.subplots(figsize=(15, 8))\n",
    "\n",
    "# def draw_barchart(current_day):\n",
    "#     dff = g[g['day'].eq(current_day)].sort_values(by='value', ascending=True).tail(10)\n",
    "#     ax.clear()\n",
    "#     ax.barh(dff['name'], dff['value'], color=[colors[group_lk[x]] for x in dff['name']])\n",
    "#     dx = dff['value'].max() / 200\n",
    "    \n",
    "#     for i, (value, name) in enumerate(zip(dff['value'], dff['name'])):\n",
    "#         ax.text(value-dx, i,     name,           size=14, weight=600, ha='right', va='bottom')\n",
    "#         ax.text(value-dx, i-.25, group_lk[name], size=10, color='#444444', ha='right', va='baseline')\n",
    "#         ax.text(value+dx, i,     f'{value:,.0f}',  size=14, ha='left',  va='center')\n",
    "#     ax.text(1, 0.4, current_day, transform=ax.transAxes, color='#777777', size=46, ha='right', weight=800)\n",
    "#     ax.text(0, 1.06, 'Population (thousands)', transform=ax.transAxes, size=12, color='#777777')\n",
    "#     ax.xaxis.set_major_formatter(ticker.StrMethodFormatter('{x:,.0f}'))\n",
    "#     ax.xaxis.set_ticks_position('top')\n",
    "#     ax.tick_params(axis='x', colors='#777777', labelsize=12)\n",
    "#     ax.set_yticks([])\n",
    "#     ax.margins(0, 0.01)\n",
    "#     ax.grid(which='major', axis='x', linestyle='-')\n",
    "#     ax.set_axisbelow(True)\n",
    "    \n",
    "#     ax.text(0, 1.15, 'Coronavirus',\n",
    "#             transform=ax.transAxes, size=24, weight=600, ha='left', va='top')\n",
    "# #     ax.text(1, 0, 'by @pratapvardhan; credit @jburnmurdoch', transform=ax.transAxes, color='#777777', ha='right',\n",
    "# #             bbox=dict(facecolor='white', alpha=0.8, edgecolor='white'))\n",
    "#     plt.box(False)"
   ]
  },
  {
   "cell_type": "code",
   "execution_count": 42,
   "id": "sexual-wages",
   "metadata": {
    "execution": {
     "iopub.execute_input": "2022-02-20T00:34:43.068854Z",
     "iopub.status.busy": "2022-02-20T00:34:43.068187Z",
     "iopub.status.idle": "2022-02-20T00:34:43.071422Z",
     "shell.execute_reply": "2022-02-20T00:34:43.072052Z"
    },
    "papermill": {
     "duration": 0.0529,
     "end_time": "2022-02-20T00:34:43.072188",
     "exception": false,
     "start_time": "2022-02-20T00:34:43.019288",
     "status": "completed"
    },
    "tags": []
   },
   "outputs": [],
   "source": [
    "# #hide_input\n",
    "# fig, ax = plt.subplots(figsize=(15, 8))\n",
    "# animator = animation.FuncAnimation(fig, draw_barchart, frames=range(g.day.values.min(), g.day.values.max()))\n",
    "# HTML(animator.to_jshtml())\n",
    "# # or use animator.to_html5_video() or animator.save() "
   ]
  },
  {
   "cell_type": "code",
   "execution_count": null,
   "id": "australian-container",
   "metadata": {
    "papermill": {
     "duration": 0.039658,
     "end_time": "2022-02-20T00:34:43.150556",
     "exception": false,
     "start_time": "2022-02-20T00:34:43.110898",
     "status": "completed"
    },
    "tags": []
   },
   "outputs": [],
   "source": []
  },
  {
   "cell_type": "code",
   "execution_count": null,
   "id": "mediterranean-pontiac",
   "metadata": {
    "papermill": {
     "duration": 0.039183,
     "end_time": "2022-02-20T00:34:43.235844",
     "exception": false,
     "start_time": "2022-02-20T00:34:43.196661",
     "status": "completed"
    },
    "tags": []
   },
   "outputs": [],
   "source": []
  },
  {
   "cell_type": "code",
   "execution_count": null,
   "id": "aging-legislature",
   "metadata": {
    "papermill": {
     "duration": 0.045426,
     "end_time": "2022-02-20T00:34:43.322662",
     "exception": false,
     "start_time": "2022-02-20T00:34:43.277236",
     "status": "completed"
    },
    "tags": []
   },
   "outputs": [],
   "source": []
  }
 ],
 "metadata": {
  "kernelspec": {
   "display_name": "Python 3",
   "language": "python",
   "name": "python3"
  },
  "language_info": {
   "codemirror_mode": {
    "name": "ipython",
    "version": 3
   },
   "file_extension": ".py",
   "mimetype": "text/x-python",
   "name": "python",
   "nbconvert_exporter": "python",
   "pygments_lexer": "ipython3",
   "version": "3.6.15"
  },
  "papermill": {
   "duration": 7.612894,
   "end_time": "2022-02-20T00:34:43.781638",
   "environment_variables": {},
   "exception": null,
   "input_path": "2020-03-21-covid19exp.ipynb",
   "output_path": "2020-03-21-covid19exp.ipynb",
   "parameters": {},
   "start_time": "2022-02-20T00:34:36.168744",
   "version": "2.0.0"
  }
 },
 "nbformat": 4,
 "nbformat_minor": 5
}