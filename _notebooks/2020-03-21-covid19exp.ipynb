{
 "cells": [
  {
   "cell_type": "markdown",
   "metadata": {
    "papermill": {
     "duration": 0.033466,
     "end_time": "2021-01-17T00:39:30.618230",
     "exception": false,
     "start_time": "2021-01-17T00:39:30.584764",
     "status": "completed"
    },
    "tags": []
   },
   "source": [
    "# COVID-19 Case Race\n",
    "> A race chart to see rising cases around the world\n",
    "\n",
    "- author: Hargun Oberoi\n",
    "- image: images/covid-overview.png\n",
    "- hide: false\n",
    "- badges: false"
   ]
  },
  {
   "cell_type": "code",
   "execution_count": 1,
   "metadata": {
    "execution": {
     "iopub.execute_input": "2021-01-17T00:39:30.687133Z",
     "iopub.status.busy": "2021-01-17T00:39:30.686453Z",
     "iopub.status.idle": "2021-01-17T00:39:31.047710Z",
     "shell.execute_reply": "2021-01-17T00:39:31.046778Z"
    },
    "papermill": {
     "duration": 0.400518,
     "end_time": "2021-01-17T00:39:31.047900",
     "exception": false,
     "start_time": "2021-01-17T00:39:30.647382",
     "status": "completed"
    },
    "tags": []
   },
   "outputs": [],
   "source": [
    "#hide\n",
    "import numpy as np\n",
    "import pandas as pd\n",
    "from jinja2 import Template\n",
    "from IPython.display import HTML"
   ]
  },
  {
   "cell_type": "code",
   "execution_count": 2,
   "metadata": {
    "execution": {
     "iopub.execute_input": "2021-01-17T00:39:31.121016Z",
     "iopub.status.busy": "2021-01-17T00:39:31.120276Z",
     "iopub.status.idle": "2021-01-17T00:39:31.122636Z",
     "shell.execute_reply": "2021-01-17T00:39:31.122009Z"
    },
    "papermill": {
     "duration": 0.038258,
     "end_time": "2021-01-17T00:39:31.122804",
     "exception": false,
     "start_time": "2021-01-17T00:39:31.084546",
     "status": "completed"
    },
    "tags": []
   },
   "outputs": [],
   "source": [
    "#hide\n",
    "\n",
    "# FETCH\n",
    "base_url = 'https://raw.githubusercontent.com/pratapvardhan/notebooks/master/covid19/'\n",
    "paths = {\n",
    "    'mapping': base_url + 'mapping_countries.csv',\n",
    "    'overview': base_url + 'overview.tpl'\n",
    "}"
   ]
  },
  {
   "cell_type": "code",
   "execution_count": 3,
   "metadata": {
    "execution": {
     "iopub.execute_input": "2021-01-17T00:39:31.196836Z",
     "iopub.status.busy": "2021-01-17T00:39:31.196142Z",
     "iopub.status.idle": "2021-01-17T00:39:31.200060Z",
     "shell.execute_reply": "2021-01-17T00:39:31.200581Z"
    },
    "papermill": {
     "duration": 0.04776,
     "end_time": "2021-01-17T00:39:31.200706",
     "exception": false,
     "start_time": "2021-01-17T00:39:31.152946",
     "status": "completed"
    },
    "tags": []
   },
   "outputs": [
    {
     "data": {
      "text/plain": [
       "'https://raw.githubusercontent.com/pratapvardhan/notebooks/master/covid19/mapping_countries.csv'"
      ]
     },
     "execution_count": 3,
     "metadata": {},
     "output_type": "execute_result"
    }
   ],
   "source": [
    "#hide\n",
    "paths['mapping']"
   ]
  },
  {
   "cell_type": "code",
   "execution_count": 4,
   "metadata": {
    "execution": {
     "iopub.execute_input": "2021-01-17T00:39:31.277686Z",
     "iopub.status.busy": "2021-01-17T00:39:31.276981Z",
     "iopub.status.idle": "2021-01-17T00:39:31.279600Z",
     "shell.execute_reply": "2021-01-17T00:39:31.278991Z"
    },
    "papermill": {
     "duration": 0.041966,
     "end_time": "2021-01-17T00:39:31.279716",
     "exception": false,
     "start_time": "2021-01-17T00:39:31.237750",
     "status": "completed"
    },
    "tags": []
   },
   "outputs": [],
   "source": [
    "#hide\n",
    "def get_mappings(url):\n",
    "    df = pd.read_csv(url)\n",
    "    return {\n",
    "        'df': df,\n",
    "        'replace.country': dict(df.dropna(subset=['Name']).set_index('Country')['Name']),\n",
    "        'map.continent': dict(df.set_index('Name')['Continent'])\n",
    "    }"
   ]
  },
  {
   "cell_type": "code",
   "execution_count": 5,
   "metadata": {
    "execution": {
     "iopub.execute_input": "2021-01-17T00:39:31.347258Z",
     "iopub.status.busy": "2021-01-17T00:39:31.346614Z",
     "iopub.status.idle": "2021-01-17T00:39:31.454306Z",
     "shell.execute_reply": "2021-01-17T00:39:31.454913Z"
    },
    "papermill": {
     "duration": 0.143307,
     "end_time": "2021-01-17T00:39:31.455068",
     "exception": false,
     "start_time": "2021-01-17T00:39:31.311761",
     "status": "completed"
    },
    "tags": []
   },
   "outputs": [],
   "source": [
    "#hide\n",
    "mapping = get_mappings(paths['mapping'])"
   ]
  },
  {
   "cell_type": "code",
   "execution_count": 6,
   "metadata": {
    "execution": {
     "iopub.execute_input": "2021-01-17T00:39:31.523026Z",
     "iopub.status.busy": "2021-01-17T00:39:31.522433Z",
     "iopub.status.idle": "2021-01-17T00:39:31.524957Z",
     "shell.execute_reply": "2021-01-17T00:39:31.524433Z"
    },
    "papermill": {
     "duration": 0.037031,
     "end_time": "2021-01-17T00:39:31.525064",
     "exception": false,
     "start_time": "2021-01-17T00:39:31.488033",
     "status": "completed"
    },
    "tags": []
   },
   "outputs": [],
   "source": [
    "#hide\n",
    "def get_template(path):\n",
    "    from urllib.parse import urlparse\n",
    "    if bool(urlparse(path).netloc):\n",
    "        from urllib.request import urlopen\n",
    "        return urlopen(path).read().decode('utf8')\n",
    "    return open(path).read()"
   ]
  },
  {
   "cell_type": "code",
   "execution_count": 7,
   "metadata": {
    "execution": {
     "iopub.execute_input": "2021-01-17T00:39:31.591287Z",
     "iopub.status.busy": "2021-01-17T00:39:31.590683Z",
     "iopub.status.idle": "2021-01-17T00:39:31.592748Z",
     "shell.execute_reply": "2021-01-17T00:39:31.593308Z"
    },
    "papermill": {
     "duration": 0.037386,
     "end_time": "2021-01-17T00:39:31.593430",
     "exception": false,
     "start_time": "2021-01-17T00:39:31.556044",
     "status": "completed"
    },
    "tags": []
   },
   "outputs": [],
   "source": [
    "#hide\n",
    "def get_frame(name):\n",
    "    url = (\n",
    "        'https://raw.githubusercontent.com/CSSEGISandData/COVID-19/master/csse_covid_19_data/'\n",
    "        f'csse_covid_19_time_series/time_series_covid19_{name}_global.csv')\n",
    "    df = pd.read_csv(url)\n",
    "    # rename countries\n",
    "    df['Country/Region'] = df['Country/Region'].replace(mapping['replace.country'])\n",
    "    return df"
   ]
  },
  {
   "cell_type": "code",
   "execution_count": 8,
   "metadata": {
    "execution": {
     "iopub.execute_input": "2021-01-17T00:39:31.659693Z",
     "iopub.status.busy": "2021-01-17T00:39:31.659017Z",
     "iopub.status.idle": "2021-01-17T00:39:31.661994Z",
     "shell.execute_reply": "2021-01-17T00:39:31.661318Z"
    },
    "papermill": {
     "duration": 0.038037,
     "end_time": "2021-01-17T00:39:31.662101",
     "exception": false,
     "start_time": "2021-01-17T00:39:31.624064",
     "status": "completed"
    },
    "tags": []
   },
   "outputs": [],
   "source": [
    "#hide\n",
    "def get_dates(df):\n",
    "    dt_cols = df.columns[~df.columns.isin(['Province/State', 'Country/Region', 'Lat', 'Long'])]\n",
    "    LAST_DATE_I = -1\n",
    "    # sometimes last column may be empty, then go backwards\n",
    "    for i in range(-1, -len(dt_cols), -1):\n",
    "        if not df[dt_cols[i]].fillna(0).eq(0).all():\n",
    "            LAST_DATE_I = i\n",
    "            break\n",
    "    return LAST_DATE_I, dt_cols"
   ]
  },
  {
   "cell_type": "code",
   "execution_count": 9,
   "metadata": {
    "execution": {
     "iopub.execute_input": "2021-01-17T00:39:31.725100Z",
     "iopub.status.busy": "2021-01-17T00:39:31.724273Z",
     "iopub.status.idle": "2021-01-17T00:39:32.106863Z",
     "shell.execute_reply": "2021-01-17T00:39:32.106306Z"
    },
    "papermill": {
     "duration": 0.415641,
     "end_time": "2021-01-17T00:39:32.107032",
     "exception": false,
     "start_time": "2021-01-17T00:39:31.691391",
     "status": "completed"
    },
    "tags": []
   },
   "outputs": [],
   "source": [
    "#hide\n",
    "COL_REGION = 'Country/Region'\n",
    "# Confirmed, Recovered, Deaths\n",
    "df = get_frame('confirmed')\n",
    "# dft_: timeseries, dfc_: today country agg\n",
    "dft_cases = df\n",
    "dft_deaths = get_frame('deaths')\n",
    "dft_recovered = get_frame('recovered')\n",
    "LAST_DATE_I, dt_cols = get_dates(df)"
   ]
  },
  {
   "cell_type": "code",
   "execution_count": 10,
   "metadata": {
    "execution": {
     "iopub.execute_input": "2021-01-17T00:39:32.176835Z",
     "iopub.status.busy": "2021-01-17T00:39:32.175861Z",
     "iopub.status.idle": "2021-01-17T00:39:32.177976Z",
     "shell.execute_reply": "2021-01-17T00:39:32.178540Z"
    },
    "papermill": {
     "duration": 0.038595,
     "end_time": "2021-01-17T00:39:32.178660",
     "exception": false,
     "start_time": "2021-01-17T00:39:32.140065",
     "status": "completed"
    },
    "tags": []
   },
   "outputs": [],
   "source": [
    "#hide\n",
    "LAST_DATE_I, dt_cols = get_dates(df)\n",
    "dt_today =dt_cols[LAST_DATE_I]\n",
    "# dt_5day = dt_cols[LAST_DATE_I - 5]\n",
    "dt_yday = dt_cols[LAST_DATE_I - 1]"
   ]
  },
  {
   "cell_type": "code",
   "execution_count": 11,
   "metadata": {
    "execution": {
     "iopub.execute_input": "2021-01-17T00:39:32.240632Z",
     "iopub.status.busy": "2021-01-17T00:39:32.240008Z",
     "iopub.status.idle": "2021-01-17T00:39:32.249243Z",
     "shell.execute_reply": "2021-01-17T00:39:32.248716Z"
    },
    "papermill": {
     "duration": 0.042361,
     "end_time": "2021-01-17T00:39:32.249346",
     "exception": false,
     "start_time": "2021-01-17T00:39:32.206985",
     "status": "completed"
    },
    "tags": []
   },
   "outputs": [],
   "source": [
    "#hide\n",
    "dfc_cases = dft_cases.groupby(COL_REGION)[dt_today].sum()\n",
    "dfc_deaths = dft_deaths.groupby(COL_REGION)[dt_today].sum()\n",
    "# dfp_cases = dft_cases.groupby(COL_REGION)[dt_5day].sum()\n",
    "# dfp_deaths = dft_deaths.groupby(COL_REGION)[dt_5day].sum()\n",
    "dfp_cases = dft_cases.groupby(COL_REGION)[dt_yday].sum()\n",
    "dfp_deaths = dft_deaths.groupby(COL_REGION)[dt_yday].sum()"
   ]
  },
  {
   "cell_type": "code",
   "execution_count": 12,
   "metadata": {
    "execution": {
     "iopub.execute_input": "2021-01-17T00:39:32.314635Z",
     "iopub.status.busy": "2021-01-17T00:39:32.314056Z",
     "iopub.status.idle": "2021-01-17T00:39:32.319306Z",
     "shell.execute_reply": "2021-01-17T00:39:32.318768Z"
    },
    "papermill": {
     "duration": 0.040362,
     "end_time": "2021-01-17T00:39:32.319436",
     "exception": false,
     "start_time": "2021-01-17T00:39:32.279074",
     "status": "completed"
    },
    "tags": []
   },
   "outputs": [],
   "source": [
    "#hide\n",
    "df_table = (pd.DataFrame(dict(Cases = dfc_cases, Deaths = dfc_deaths, PCases = dfp_cases, PDeaths = dfp_deaths))\n",
    "            .sort_values(by = ['Cases','Deaths'], ascending = [False, False])\n",
    "            .reset_index())"
   ]
  },
  {
   "cell_type": "code",
   "execution_count": 13,
   "metadata": {
    "execution": {
     "iopub.execute_input": "2021-01-17T00:39:32.392883Z",
     "iopub.status.busy": "2021-01-17T00:39:32.392295Z",
     "iopub.status.idle": "2021-01-17T00:39:32.404894Z",
     "shell.execute_reply": "2021-01-17T00:39:32.405416Z"
    },
    "papermill": {
     "duration": 0.055708,
     "end_time": "2021-01-17T00:39:32.405543",
     "exception": false,
     "start_time": "2021-01-17T00:39:32.349835",
     "status": "completed"
    },
    "tags": []
   },
   "outputs": [
    {
     "data": {
      "text/html": [
       "<div>\n",
       "<style scoped>\n",
       "    .dataframe tbody tr th:only-of-type {\n",
       "        vertical-align: middle;\n",
       "    }\n",
       "\n",
       "    .dataframe tbody tr th {\n",
       "        vertical-align: top;\n",
       "    }\n",
       "\n",
       "    .dataframe thead th {\n",
       "        text-align: right;\n",
       "    }\n",
       "</style>\n",
       "<table border=\"1\" class=\"dataframe\">\n",
       "  <thead>\n",
       "    <tr style=\"text-align: right;\">\n",
       "      <th></th>\n",
       "      <th>Country/Region</th>\n",
       "      <th>Cases</th>\n",
       "      <th>Deaths</th>\n",
       "      <th>PCases</th>\n",
       "      <th>PDeaths</th>\n",
       "      <th>Cases (+)</th>\n",
       "      <th>Deaths (+)</th>\n",
       "      <th>Fatality Rate</th>\n",
       "      <th>Continent</th>\n",
       "    </tr>\n",
       "  </thead>\n",
       "  <tbody>\n",
       "    <tr>\n",
       "      <th>0</th>\n",
       "      <td>US</td>\n",
       "      <td>23556097</td>\n",
       "      <td>392499</td>\n",
       "      <td>23314521</td>\n",
       "      <td>388697</td>\n",
       "      <td>241576</td>\n",
       "      <td>3802</td>\n",
       "      <td>1.67</td>\n",
       "      <td>North America</td>\n",
       "    </tr>\n",
       "    <tr>\n",
       "      <th>1</th>\n",
       "      <td>India</td>\n",
       "      <td>10542841</td>\n",
       "      <td>152093</td>\n",
       "      <td>10527683</td>\n",
       "      <td>151918</td>\n",
       "      <td>15158</td>\n",
       "      <td>175</td>\n",
       "      <td>1.44</td>\n",
       "      <td>Asia</td>\n",
       "    </tr>\n",
       "    <tr>\n",
       "      <th>2</th>\n",
       "      <td>Brazil</td>\n",
       "      <td>8393492</td>\n",
       "      <td>208246</td>\n",
       "      <td>8324294</td>\n",
       "      <td>207095</td>\n",
       "      <td>69198</td>\n",
       "      <td>1151</td>\n",
       "      <td>2.48</td>\n",
       "      <td>South America</td>\n",
       "    </tr>\n",
       "    <tr>\n",
       "      <th>3</th>\n",
       "      <td>Russia</td>\n",
       "      <td>3483531</td>\n",
       "      <td>63558</td>\n",
       "      <td>3459237</td>\n",
       "      <td>63016</td>\n",
       "      <td>24294</td>\n",
       "      <td>542</td>\n",
       "      <td>1.82</td>\n",
       "      <td>Europe</td>\n",
       "    </tr>\n",
       "    <tr>\n",
       "      <th>4</th>\n",
       "      <td>United Kingdom</td>\n",
       "      <td>3325642</td>\n",
       "      <td>87448</td>\n",
       "      <td>3269757</td>\n",
       "      <td>86163</td>\n",
       "      <td>55885</td>\n",
       "      <td>1285</td>\n",
       "      <td>2.63</td>\n",
       "      <td>Europe</td>\n",
       "    </tr>\n",
       "  </tbody>\n",
       "</table>\n",
       "</div>"
      ],
      "text/plain": [
       "   Country/Region     Cases  Deaths    PCases  PDeaths  Cases (+)  Deaths (+)  \\\n",
       "0              US  23556097  392499  23314521   388697     241576        3802   \n",
       "1           India  10542841  152093  10527683   151918      15158         175   \n",
       "2          Brazil   8393492  208246   8324294   207095      69198        1151   \n",
       "3          Russia   3483531   63558   3459237    63016      24294         542   \n",
       "4  United Kingdom   3325642   87448   3269757    86163      55885        1285   \n",
       "\n",
       "   Fatality Rate      Continent  \n",
       "0           1.67  North America  \n",
       "1           1.44           Asia  \n",
       "2           2.48  South America  \n",
       "3           1.82         Europe  \n",
       "4           2.63         Europe  "
      ]
     },
     "execution_count": 13,
     "metadata": {},
     "output_type": "execute_result"
    }
   ],
   "source": [
    "#hide\n",
    "for c in 'Cases, Deaths'.split(', '):\n",
    "    df_table[f'{c} (+)'] = (df_table[c] - df_table[f'P{c}']).clip(0)\n",
    "    #Clip ça veut dire, les chiffres negatif sont interdit\n",
    "df_table['Fatality Rate'] = (100* df_table['Deaths']/ df_table['Cases']).round(2)\n",
    "df_table['Continent'] = df_table['Country/Region'].map(mapping['map.continent'])\n",
    "df_table.head(5)"
   ]
  },
  {
   "cell_type": "code",
   "execution_count": 14,
   "metadata": {
    "execution": {
     "iopub.execute_input": "2021-01-17T00:39:32.474000Z",
     "iopub.status.busy": "2021-01-17T00:39:32.473394Z",
     "iopub.status.idle": "2021-01-17T00:39:32.475772Z",
     "shell.execute_reply": "2021-01-17T00:39:32.476298Z"
    },
    "papermill": {
     "duration": 0.041241,
     "end_time": "2021-01-17T00:39:32.476425",
     "exception": false,
     "start_time": "2021-01-17T00:39:32.435184",
     "status": "completed"
    },
    "tags": []
   },
   "outputs": [],
   "source": [
    "#hide\n",
    "#delete problematic countries from table\n",
    "df_table = df_table[~df_table['Country/Region'].isin(['Cape Verde', 'Cruise Ship', 'Kosovo'])]"
   ]
  },
  {
   "cell_type": "code",
   "execution_count": 15,
   "metadata": {
    "execution": {
     "iopub.execute_input": "2021-01-17T00:39:32.547220Z",
     "iopub.status.busy": "2021-01-17T00:39:32.546637Z",
     "iopub.status.idle": "2021-01-17T00:39:32.568143Z",
     "shell.execute_reply": "2021-01-17T00:39:32.567647Z"
    },
    "papermill": {
     "duration": 0.060766,
     "end_time": "2021-01-17T00:39:32.568280",
     "exception": false,
     "start_time": "2021-01-17T00:39:32.507514",
     "status": "completed"
    },
    "tags": []
   },
   "outputs": [
    {
     "data": {
      "text/html": [
       "<div>\n",
       "<style scoped>\n",
       "    .dataframe tbody tr th:only-of-type {\n",
       "        vertical-align: middle;\n",
       "    }\n",
       "\n",
       "    .dataframe tbody tr th {\n",
       "        vertical-align: top;\n",
       "    }\n",
       "\n",
       "    .dataframe thead th {\n",
       "        text-align: right;\n",
       "    }\n",
       "</style>\n",
       "<table border=\"1\" class=\"dataframe\">\n",
       "  <thead>\n",
       "    <tr style=\"text-align: right;\">\n",
       "      <th></th>\n",
       "      <th>Country/Region</th>\n",
       "      <th>Cases</th>\n",
       "      <th>Deaths</th>\n",
       "      <th>PCases</th>\n",
       "      <th>PDeaths</th>\n",
       "      <th>Cases (+)</th>\n",
       "      <th>Deaths (+)</th>\n",
       "      <th>Fatality Rate</th>\n",
       "      <th>Continent</th>\n",
       "    </tr>\n",
       "  </thead>\n",
       "  <tbody>\n",
       "    <tr>\n",
       "      <th>0</th>\n",
       "      <td>US</td>\n",
       "      <td>23556097</td>\n",
       "      <td>392499</td>\n",
       "      <td>23314521</td>\n",
       "      <td>388697</td>\n",
       "      <td>241576</td>\n",
       "      <td>3802</td>\n",
       "      <td>1.7</td>\n",
       "      <td>North America</td>\n",
       "    </tr>\n",
       "    <tr>\n",
       "      <th>1</th>\n",
       "      <td>India</td>\n",
       "      <td>10542841</td>\n",
       "      <td>152093</td>\n",
       "      <td>10527683</td>\n",
       "      <td>151918</td>\n",
       "      <td>15158</td>\n",
       "      <td>175</td>\n",
       "      <td>1.4</td>\n",
       "      <td>Asia</td>\n",
       "    </tr>\n",
       "    <tr>\n",
       "      <th>2</th>\n",
       "      <td>Brazil</td>\n",
       "      <td>8393492</td>\n",
       "      <td>208246</td>\n",
       "      <td>8324294</td>\n",
       "      <td>207095</td>\n",
       "      <td>69198</td>\n",
       "      <td>1151</td>\n",
       "      <td>2.5</td>\n",
       "      <td>South America</td>\n",
       "    </tr>\n",
       "    <tr>\n",
       "      <th>3</th>\n",
       "      <td>Russia</td>\n",
       "      <td>3483531</td>\n",
       "      <td>63558</td>\n",
       "      <td>3459237</td>\n",
       "      <td>63016</td>\n",
       "      <td>24294</td>\n",
       "      <td>542</td>\n",
       "      <td>1.8</td>\n",
       "      <td>Europe</td>\n",
       "    </tr>\n",
       "    <tr>\n",
       "      <th>4</th>\n",
       "      <td>United Kingdom</td>\n",
       "      <td>3325642</td>\n",
       "      <td>87448</td>\n",
       "      <td>3269757</td>\n",
       "      <td>86163</td>\n",
       "      <td>55885</td>\n",
       "      <td>1285</td>\n",
       "      <td>2.6</td>\n",
       "      <td>Europe</td>\n",
       "    </tr>\n",
       "  </tbody>\n",
       "</table>\n",
       "</div>"
      ],
      "text/plain": [
       "   Country/Region     Cases  Deaths    PCases  PDeaths  Cases (+)  Deaths (+)  \\\n",
       "0              US  23556097  392499  23314521   388697     241576        3802   \n",
       "1           India  10542841  152093  10527683   151918      15158         175   \n",
       "2          Brazil   8393492  208246   8324294   207095      69198        1151   \n",
       "3          Russia   3483531   63558   3459237    63016      24294         542   \n",
       "4  United Kingdom   3325642   87448   3269757    86163      55885        1285   \n",
       "\n",
       "   Fatality Rate      Continent  \n",
       "0            1.7  North America  \n",
       "1            1.4           Asia  \n",
       "2            2.5  South America  \n",
       "3            1.8         Europe  \n",
       "4            2.6         Europe  "
      ]
     },
     "execution_count": 15,
     "metadata": {},
     "output_type": "execute_result"
    }
   ],
   "source": [
    "#hide\n",
    "df_table = (pd.DataFrame(dict(Cases=dfc_cases, Deaths=dfc_deaths, PCases=dfp_cases, PDeaths=dfp_deaths))\n",
    "             .sort_values(by=['Cases', 'Deaths'], ascending=[False, False])\n",
    "             .reset_index())\n",
    "df_table.rename(columns={'index': 'Country/Region'}, inplace=True)\n",
    "for c in 'Cases, Deaths'.split(', '):\n",
    "    df_table[f'{c} (+)'] = (df_table[c] - df_table[f'P{c}']).clip(0)  # DATA BUG\n",
    "df_table['Fatality Rate'] = (100 * df_table['Deaths'] / df_table['Cases']).round(1)\n",
    "df_table['Continent'] = df_table['Country/Region'].map(mapping['map.continent'])\n",
    "df_table.head(5)"
   ]
  },
  {
   "cell_type": "code",
   "execution_count": 16,
   "metadata": {
    "execution": {
     "iopub.execute_input": "2021-01-17T00:39:32.632720Z",
     "iopub.status.busy": "2021-01-17T00:39:32.632119Z",
     "iopub.status.idle": "2021-01-17T00:39:32.635161Z",
     "shell.execute_reply": "2021-01-17T00:39:32.635640Z"
    },
    "papermill": {
     "duration": 0.038318,
     "end_time": "2021-01-17T00:39:32.635778",
     "exception": false,
     "start_time": "2021-01-17T00:39:32.597460",
     "status": "completed"
    },
    "tags": []
   },
   "outputs": [],
   "source": [
    "#hide\n",
    "#delete problematic countries from table\n",
    "df_table = df_table[~df_table['Country/Region'].isin(['Cape Verde', 'Cruise Ship', 'Kosovo'])]"
   ]
  },
  {
   "cell_type": "code",
   "execution_count": 17,
   "metadata": {
    "execution": {
     "iopub.execute_input": "2021-01-17T00:39:32.705983Z",
     "iopub.status.busy": "2021-01-17T00:39:32.705364Z",
     "iopub.status.idle": "2021-01-17T00:39:32.718773Z",
     "shell.execute_reply": "2021-01-17T00:39:32.719263Z"
    },
    "papermill": {
     "duration": 0.053088,
     "end_time": "2021-01-17T00:39:32.719376",
     "exception": false,
     "start_time": "2021-01-17T00:39:32.666288",
     "status": "completed"
    },
    "tags": []
   },
   "outputs": [],
   "source": [
    "#hide\n",
    "metrics = [df_table.columns[index] for index in [1,2,5,6]]\n",
    "# s_china = df_table[df_table['Country/Region'].eq('China')][metrics].sum().add_prefix('China ')\n",
    "s_us = df_table[df_table['Country/Region'].eq('US')][metrics].sum().add_prefix('US ')\n",
    "s_eu = df_table[df_table['Continent'].eq('Europe')][metrics].sum().add_prefix('EU ')\n",
    "s_ind = df_table[df_table['Country/Region'].eq('India')][metrics].sum().add_prefix('India ')\n",
    "summary = {'updated': pd.to_datetime(dt_today), 'since': pd.to_datetime(dt_yday)}\n",
    "summary = {'updated': pd.to_datetime(dt_today), 'since': pd.to_datetime(dt_yday)}\n",
    "summary = {**summary, **df_table[metrics].sum(), **s_ind, **s_us, **s_eu}"
   ]
  },
  {
   "cell_type": "code",
   "execution_count": 18,
   "metadata": {
    "execution": {
     "iopub.execute_input": "2021-01-17T00:39:32.784981Z",
     "iopub.status.busy": "2021-01-17T00:39:32.784337Z",
     "iopub.status.idle": "2021-01-17T00:39:32.795337Z",
     "shell.execute_reply": "2021-01-17T00:39:32.795871Z"
    },
    "papermill": {
     "duration": 0.045959,
     "end_time": "2021-01-17T00:39:32.795988",
     "exception": false,
     "start_time": "2021-01-17T00:39:32.750029",
     "status": "completed"
    },
    "tags": []
   },
   "outputs": [],
   "source": [
    "#hide\n",
    "dft_ct_new_cases = dft_cases.groupby(COL_REGION)[dt_cols].sum().diff(axis=1).fillna(0).astype(int)"
   ]
  },
  {
   "cell_type": "code",
   "execution_count": 19,
   "metadata": {
    "execution": {
     "iopub.execute_input": "2021-01-17T00:39:32.861104Z",
     "iopub.status.busy": "2021-01-17T00:39:32.860505Z",
     "iopub.status.idle": "2021-01-17T00:39:32.862312Z",
     "shell.execute_reply": "2021-01-17T00:39:32.862848Z"
    },
    "papermill": {
     "duration": 0.03711,
     "end_time": "2021-01-17T00:39:32.862961",
     "exception": false,
     "start_time": "2021-01-17T00:39:32.825851",
     "status": "completed"
    },
    "tags": []
   },
   "outputs": [],
   "source": [
    "#hide\n",
    "everydaycases = dft_ct_new_cases.cumsum(axis=1)"
   ]
  },
  {
   "cell_type": "code",
   "execution_count": 20,
   "metadata": {
    "execution": {
     "iopub.execute_input": "2021-01-17T00:39:32.929296Z",
     "iopub.status.busy": "2021-01-17T00:39:32.928667Z",
     "iopub.status.idle": "2021-01-17T00:39:33.908774Z",
     "shell.execute_reply": "2021-01-17T00:39:33.907821Z"
    },
    "papermill": {
     "duration": 1.015013,
     "end_time": "2021-01-17T00:39:33.908947",
     "exception": false,
     "start_time": "2021-01-17T00:39:32.893934",
     "status": "completed"
    },
    "tags": []
   },
   "outputs": [],
   "source": [
    "#hide\n",
    "import pandas as pd\n",
    "import matplotlib.pyplot as plt\n",
    "import matplotlib.ticker as ticker\n",
    "import matplotlib.animation as animation\n",
    "from IPython.display import HTML"
   ]
  },
  {
   "cell_type": "code",
   "execution_count": 21,
   "metadata": {
    "execution": {
     "iopub.execute_input": "2021-01-17T00:39:33.974504Z",
     "iopub.status.busy": "2021-01-17T00:39:33.973925Z",
     "iopub.status.idle": "2021-01-17T00:39:33.978575Z",
     "shell.execute_reply": "2021-01-17T00:39:33.978123Z"
    },
    "papermill": {
     "duration": 0.039256,
     "end_time": "2021-01-17T00:39:33.978711",
     "exception": false,
     "start_time": "2021-01-17T00:39:33.939455",
     "status": "completed"
    },
    "tags": []
   },
   "outputs": [],
   "source": [
    "#hide\n",
    "t = everydaycases.stack()"
   ]
  },
  {
   "cell_type": "code",
   "execution_count": 22,
   "metadata": {
    "execution": {
     "iopub.execute_input": "2021-01-17T00:39:34.058064Z",
     "iopub.status.busy": "2021-01-17T00:39:34.057396Z",
     "iopub.status.idle": "2021-01-17T00:39:34.065433Z",
     "shell.execute_reply": "2021-01-17T00:39:34.065952Z"
    },
    "papermill": {
     "duration": 0.052249,
     "end_time": "2021-01-17T00:39:34.066130",
     "exception": false,
     "start_time": "2021-01-17T00:39:34.013881",
     "status": "completed"
    },
    "tags": []
   },
   "outputs": [],
   "source": [
    "#hide\n",
    "g = t.reset_index(['Country/Region'])"
   ]
  },
  {
   "cell_type": "code",
   "execution_count": 23,
   "metadata": {
    "execution": {
     "iopub.execute_input": "2021-01-17T00:39:34.134420Z",
     "iopub.status.busy": "2021-01-17T00:39:34.133834Z",
     "iopub.status.idle": "2021-01-17T00:39:34.136237Z",
     "shell.execute_reply": "2021-01-17T00:39:34.135652Z"
    },
    "papermill": {
     "duration": 0.037155,
     "end_time": "2021-01-17T00:39:34.136341",
     "exception": false,
     "start_time": "2021-01-17T00:39:34.099186",
     "status": "completed"
    },
    "tags": []
   },
   "outputs": [],
   "source": [
    "#hide\n",
    "g.index.name = 'date'"
   ]
  },
  {
   "cell_type": "code",
   "execution_count": 24,
   "metadata": {
    "execution": {
     "iopub.execute_input": "2021-01-17T00:39:34.201744Z",
     "iopub.status.busy": "2021-01-17T00:39:34.201136Z",
     "iopub.status.idle": "2021-01-17T00:39:34.203258Z",
     "shell.execute_reply": "2021-01-17T00:39:34.203731Z"
    },
    "papermill": {
     "duration": 0.035704,
     "end_time": "2021-01-17T00:39:34.203847",
     "exception": false,
     "start_time": "2021-01-17T00:39:34.168143",
     "status": "completed"
    },
    "tags": []
   },
   "outputs": [],
   "source": [
    "# #hide\n",
    "# g = g.reset_index(['date'])"
   ]
  },
  {
   "cell_type": "code",
   "execution_count": 25,
   "metadata": {
    "execution": {
     "iopub.execute_input": "2021-01-17T00:39:34.266457Z",
     "iopub.status.busy": "2021-01-17T00:39:34.265866Z",
     "iopub.status.idle": "2021-01-17T00:39:34.268458Z",
     "shell.execute_reply": "2021-01-17T00:39:34.267972Z"
    },
    "papermill": {
     "duration": 0.034962,
     "end_time": "2021-01-17T00:39:34.268570",
     "exception": false,
     "start_time": "2021-01-17T00:39:34.233608",
     "status": "completed"
    },
    "tags": []
   },
   "outputs": [],
   "source": [
    "#hide\n",
    "# g.head()"
   ]
  },
  {
   "cell_type": "code",
   "execution_count": 26,
   "metadata": {
    "execution": {
     "iopub.execute_input": "2021-01-17T00:39:34.331419Z",
     "iopub.status.busy": "2021-01-17T00:39:34.330898Z",
     "iopub.status.idle": "2021-01-17T00:39:34.333374Z",
     "shell.execute_reply": "2021-01-17T00:39:34.333889Z"
    },
    "papermill": {
     "duration": 0.035572,
     "end_time": "2021-01-17T00:39:34.334000",
     "exception": false,
     "start_time": "2021-01-17T00:39:34.298428",
     "status": "completed"
    },
    "tags": []
   },
   "outputs": [],
   "source": [
    "#hide\n",
    "# g.columns = ['date','country','cases']"
   ]
  },
  {
   "cell_type": "code",
   "execution_count": 27,
   "metadata": {
    "execution": {
     "iopub.execute_input": "2021-01-17T00:39:34.395658Z",
     "iopub.status.busy": "2021-01-17T00:39:34.394840Z",
     "iopub.status.idle": "2021-01-17T00:39:34.397237Z",
     "shell.execute_reply": "2021-01-17T00:39:34.396754Z"
    },
    "papermill": {
     "duration": 0.034238,
     "end_time": "2021-01-17T00:39:34.397347",
     "exception": false,
     "start_time": "2021-01-17T00:39:34.363109",
     "status": "completed"
    },
    "tags": []
   },
   "outputs": [],
   "source": [
    "#hide\n",
    "# g['continent'] = g.country"
   ]
  },
  {
   "cell_type": "code",
   "execution_count": 28,
   "metadata": {
    "execution": {
     "iopub.execute_input": "2021-01-17T00:39:34.461982Z",
     "iopub.status.busy": "2021-01-17T00:39:34.461481Z",
     "iopub.status.idle": "2021-01-17T00:39:34.463848Z",
     "shell.execute_reply": "2021-01-17T00:39:34.463418Z"
    },
    "papermill": {
     "duration": 0.034294,
     "end_time": "2021-01-17T00:39:34.463949",
     "exception": false,
     "start_time": "2021-01-17T00:39:34.429655",
     "status": "completed"
    },
    "tags": []
   },
   "outputs": [],
   "source": [
    "#hide\n",
    "# cols = list(g.columns.values)"
   ]
  },
  {
   "cell_type": "code",
   "execution_count": 29,
   "metadata": {
    "execution": {
     "iopub.execute_input": "2021-01-17T00:39:34.534099Z",
     "iopub.status.busy": "2021-01-17T00:39:34.533568Z",
     "iopub.status.idle": "2021-01-17T00:39:34.536225Z",
     "shell.execute_reply": "2021-01-17T00:39:34.535455Z"
    },
    "papermill": {
     "duration": 0.039342,
     "end_time": "2021-01-17T00:39:34.536335",
     "exception": false,
     "start_time": "2021-01-17T00:39:34.496993",
     "status": "completed"
    },
    "tags": []
   },
   "outputs": [],
   "source": [
    "#hide\n",
    "# cols.insert(0, cols.pop())"
   ]
  },
  {
   "cell_type": "code",
   "execution_count": 30,
   "metadata": {
    "execution": {
     "iopub.execute_input": "2021-01-17T00:39:34.599287Z",
     "iopub.status.busy": "2021-01-17T00:39:34.598633Z",
     "iopub.status.idle": "2021-01-17T00:39:34.600362Z",
     "shell.execute_reply": "2021-01-17T00:39:34.600870Z"
    },
    "papermill": {
     "duration": 0.03535,
     "end_time": "2021-01-17T00:39:34.600984",
     "exception": false,
     "start_time": "2021-01-17T00:39:34.565634",
     "status": "completed"
    },
    "tags": []
   },
   "outputs": [],
   "source": [
    "#hide\n",
    "# g = g[cols]"
   ]
  },
  {
   "cell_type": "code",
   "execution_count": 31,
   "metadata": {
    "execution": {
     "iopub.execute_input": "2021-01-17T00:39:34.664667Z",
     "iopub.status.busy": "2021-01-17T00:39:34.663958Z",
     "iopub.status.idle": "2021-01-17T00:39:34.666058Z",
     "shell.execute_reply": "2021-01-17T00:39:34.666573Z"
    },
    "papermill": {
     "duration": 0.035432,
     "end_time": "2021-01-17T00:39:34.666700",
     "exception": false,
     "start_time": "2021-01-17T00:39:34.631268",
     "status": "completed"
    },
    "tags": []
   },
   "outputs": [],
   "source": [
    "#hide\n",
    "# g['continent'] = g['continent'].map(mapping['map.continent'])"
   ]
  },
  {
   "cell_type": "code",
   "execution_count": 32,
   "metadata": {
    "execution": {
     "iopub.execute_input": "2021-01-17T00:39:34.733586Z",
     "iopub.status.busy": "2021-01-17T00:39:34.732923Z",
     "iopub.status.idle": "2021-01-17T00:39:34.734935Z",
     "shell.execute_reply": "2021-01-17T00:39:34.735378Z"
    },
    "papermill": {
     "duration": 0.037356,
     "end_time": "2021-01-17T00:39:34.735501",
     "exception": false,
     "start_time": "2021-01-17T00:39:34.698145",
     "status": "completed"
    },
    "tags": []
   },
   "outputs": [],
   "source": [
    "#hide\n",
    "# g.head()"
   ]
  },
  {
   "cell_type": "code",
   "execution_count": 33,
   "metadata": {
    "execution": {
     "iopub.execute_input": "2021-01-17T00:39:34.802032Z",
     "iopub.status.busy": "2021-01-17T00:39:34.801319Z",
     "iopub.status.idle": "2021-01-17T00:39:34.803556Z",
     "shell.execute_reply": "2021-01-17T00:39:34.802916Z"
    },
    "papermill": {
     "duration": 0.036674,
     "end_time": "2021-01-17T00:39:34.803665",
     "exception": false,
     "start_time": "2021-01-17T00:39:34.766991",
     "status": "completed"
    },
    "tags": []
   },
   "outputs": [],
   "source": [
    "# hide\n",
    "# g['date'] = g['date'].astype('datetime64[ns]')"
   ]
  },
  {
   "cell_type": "code",
   "execution_count": 34,
   "metadata": {
    "execution": {
     "iopub.execute_input": "2021-01-17T00:39:34.872284Z",
     "iopub.status.busy": "2021-01-17T00:39:34.871678Z",
     "iopub.status.idle": "2021-01-17T00:39:34.874667Z",
     "shell.execute_reply": "2021-01-17T00:39:34.873895Z"
    },
    "papermill": {
     "duration": 0.038989,
     "end_time": "2021-01-17T00:39:34.874791",
     "exception": false,
     "start_time": "2021-01-17T00:39:34.835802",
     "status": "completed"
    },
    "tags": []
   },
   "outputs": [],
   "source": [
    "#hide\n",
    "# g['date'] = g.date.dt.dayofyear"
   ]
  },
  {
   "cell_type": "code",
   "execution_count": 35,
   "metadata": {
    "execution": {
     "iopub.execute_input": "2021-01-17T00:39:34.941918Z",
     "iopub.status.busy": "2021-01-17T00:39:34.940430Z",
     "iopub.status.idle": "2021-01-17T00:39:34.942622Z",
     "shell.execute_reply": "2021-01-17T00:39:34.943033Z"
    },
    "papermill": {
     "duration": 0.036068,
     "end_time": "2021-01-17T00:39:34.943187",
     "exception": false,
     "start_time": "2021-01-17T00:39:34.907119",
     "status": "completed"
    },
    "tags": []
   },
   "outputs": [],
   "source": [
    "#hide\n",
    "# g = g.rename(columns= {'continent':'group','country':'name','cases':'value'})"
   ]
  },
  {
   "cell_type": "code",
   "execution_count": 36,
   "metadata": {
    "execution": {
     "iopub.execute_input": "2021-01-17T00:39:35.008885Z",
     "iopub.status.busy": "2021-01-17T00:39:35.007545Z",
     "iopub.status.idle": "2021-01-17T00:39:35.011583Z",
     "shell.execute_reply": "2021-01-17T00:39:35.010950Z"
    },
    "papermill": {
     "duration": 0.03888,
     "end_time": "2021-01-17T00:39:35.011693",
     "exception": false,
     "start_time": "2021-01-17T00:39:34.972813",
     "status": "completed"
    },
    "tags": []
   },
   "outputs": [],
   "source": [
    "#hide\n",
    "# cols = ['name','group','day','value']"
   ]
  },
  {
   "cell_type": "code",
   "execution_count": 37,
   "metadata": {
    "execution": {
     "iopub.execute_input": "2021-01-17T00:39:35.080753Z",
     "iopub.status.busy": "2021-01-17T00:39:35.079991Z",
     "iopub.status.idle": "2021-01-17T00:39:35.082767Z",
     "shell.execute_reply": "2021-01-17T00:39:35.082117Z"
    },
    "papermill": {
     "duration": 0.037376,
     "end_time": "2021-01-17T00:39:35.082968",
     "exception": false,
     "start_time": "2021-01-17T00:39:35.045592",
     "status": "completed"
    },
    "tags": []
   },
   "outputs": [],
   "source": [
    "#hide\n",
    "# g.rename(columns= {'date':'day'},inplace = True)"
   ]
  },
  {
   "cell_type": "code",
   "execution_count": 38,
   "metadata": {
    "execution": {
     "iopub.execute_input": "2021-01-17T00:39:35.149669Z",
     "iopub.status.busy": "2021-01-17T00:39:35.149002Z",
     "iopub.status.idle": "2021-01-17T00:39:35.151117Z",
     "shell.execute_reply": "2021-01-17T00:39:35.150589Z"
    },
    "papermill": {
     "duration": 0.035837,
     "end_time": "2021-01-17T00:39:35.151270",
     "exception": false,
     "start_time": "2021-01-17T00:39:35.115433",
     "status": "completed"
    },
    "tags": []
   },
   "outputs": [],
   "source": [
    "#hide\n",
    "# g = g[cols]"
   ]
  },
  {
   "cell_type": "code",
   "execution_count": 39,
   "metadata": {
    "execution": {
     "iopub.execute_input": "2021-01-17T00:39:35.219032Z",
     "iopub.status.busy": "2021-01-17T00:39:35.218371Z",
     "iopub.status.idle": "2021-01-17T00:39:35.220979Z",
     "shell.execute_reply": "2021-01-17T00:39:35.220391Z"
    },
    "papermill": {
     "duration": 0.03768,
     "end_time": "2021-01-17T00:39:35.221106",
     "exception": false,
     "start_time": "2021-01-17T00:39:35.183426",
     "status": "completed"
    },
    "tags": []
   },
   "outputs": [],
   "source": [
    "# #hide\n",
    "# g = g[g.group.notna()]"
   ]
  },
  {
   "cell_type": "code",
   "execution_count": 40,
   "metadata": {
    "execution": {
     "iopub.execute_input": "2021-01-17T00:39:35.287889Z",
     "iopub.status.busy": "2021-01-17T00:39:35.287225Z",
     "iopub.status.idle": "2021-01-17T00:39:35.289029Z",
     "shell.execute_reply": "2021-01-17T00:39:35.289868Z"
    },
    "papermill": {
     "duration": 0.037781,
     "end_time": "2021-01-17T00:39:35.289995",
     "exception": false,
     "start_time": "2021-01-17T00:39:35.252214",
     "status": "completed"
    },
    "tags": []
   },
   "outputs": [],
   "source": [
    "# #hide\n",
    "# colors = dict(zip(\n",
    "#     [\"Oceania\", \"Europe\", \"Asia\", \"South America\", \"Middle East\", \"North America\", \"Africa\"],\n",
    "#     [\"#adb0ff\", \"#ffb3ff\", \"#90d595\", \"#e48381\", \"#aafbff\", \"#f7bb5f\", \"#eafb50\"]\n",
    "# ))\n",
    "# group_lk = g.set_index('name')['group'].to_dict()"
   ]
  },
  {
   "cell_type": "code",
   "execution_count": null,
   "metadata": {
    "papermill": {
     "duration": 0.029571,
     "end_time": "2021-01-17T00:39:35.350734",
     "exception": false,
     "start_time": "2021-01-17T00:39:35.321163",
     "status": "completed"
    },
    "tags": []
   },
   "outputs": [],
   "source": []
  },
  {
   "cell_type": "code",
   "execution_count": 41,
   "metadata": {
    "execution": {
     "iopub.execute_input": "2021-01-17T00:39:35.415933Z",
     "iopub.status.busy": "2021-01-17T00:39:35.415324Z",
     "iopub.status.idle": "2021-01-17T00:39:35.417096Z",
     "shell.execute_reply": "2021-01-17T00:39:35.417598Z"
    },
    "papermill": {
     "duration": 0.035406,
     "end_time": "2021-01-17T00:39:35.417714",
     "exception": false,
     "start_time": "2021-01-17T00:39:35.382308",
     "status": "completed"
    },
    "tags": []
   },
   "outputs": [],
   "source": [
    "# #hide\n",
    "# fig, ax = plt.subplots(figsize=(15, 8))\n",
    "\n",
    "# def draw_barchart(current_day):\n",
    "#     dff = g[g['day'].eq(current_day)].sort_values(by='value', ascending=True).tail(10)\n",
    "#     ax.clear()\n",
    "#     ax.barh(dff['name'], dff['value'], color=[colors[group_lk[x]] for x in dff['name']])\n",
    "#     dx = dff['value'].max() / 200\n",
    "    \n",
    "#     for i, (value, name) in enumerate(zip(dff['value'], dff['name'])):\n",
    "#         ax.text(value-dx, i,     name,           size=14, weight=600, ha='right', va='bottom')\n",
    "#         ax.text(value-dx, i-.25, group_lk[name], size=10, color='#444444', ha='right', va='baseline')\n",
    "#         ax.text(value+dx, i,     f'{value:,.0f}',  size=14, ha='left',  va='center')\n",
    "#     ax.text(1, 0.4, current_day, transform=ax.transAxes, color='#777777', size=46, ha='right', weight=800)\n",
    "#     ax.text(0, 1.06, 'Population (thousands)', transform=ax.transAxes, size=12, color='#777777')\n",
    "#     ax.xaxis.set_major_formatter(ticker.StrMethodFormatter('{x:,.0f}'))\n",
    "#     ax.xaxis.set_ticks_position('top')\n",
    "#     ax.tick_params(axis='x', colors='#777777', labelsize=12)\n",
    "#     ax.set_yticks([])\n",
    "#     ax.margins(0, 0.01)\n",
    "#     ax.grid(which='major', axis='x', linestyle='-')\n",
    "#     ax.set_axisbelow(True)\n",
    "    \n",
    "#     ax.text(0, 1.15, 'Coronavirus',\n",
    "#             transform=ax.transAxes, size=24, weight=600, ha='left', va='top')\n",
    "# #     ax.text(1, 0, 'by @pratapvardhan; credit @jburnmurdoch', transform=ax.transAxes, color='#777777', ha='right',\n",
    "# #             bbox=dict(facecolor='white', alpha=0.8, edgecolor='white'))\n",
    "#     plt.box(False)"
   ]
  },
  {
   "cell_type": "code",
   "execution_count": 42,
   "metadata": {
    "execution": {
     "iopub.execute_input": "2021-01-17T00:39:35.480931Z",
     "iopub.status.busy": "2021-01-17T00:39:35.480336Z",
     "iopub.status.idle": "2021-01-17T00:39:35.482210Z",
     "shell.execute_reply": "2021-01-17T00:39:35.482696Z"
    },
    "papermill": {
     "duration": 0.035505,
     "end_time": "2021-01-17T00:39:35.482825",
     "exception": false,
     "start_time": "2021-01-17T00:39:35.447320",
     "status": "completed"
    },
    "tags": []
   },
   "outputs": [],
   "source": [
    "# #hide_input\n",
    "# fig, ax = plt.subplots(figsize=(15, 8))\n",
    "# animator = animation.FuncAnimation(fig, draw_barchart, frames=range(g.day.values.min(), g.day.values.max()))\n",
    "# HTML(animator.to_jshtml())\n",
    "# # or use animator.to_html5_video() or animator.save() "
   ]
  },
  {
   "cell_type": "code",
   "execution_count": null,
   "metadata": {
    "papermill": {
     "duration": 0.033931,
     "end_time": "2021-01-17T00:39:35.547376",
     "exception": false,
     "start_time": "2021-01-17T00:39:35.513445",
     "status": "completed"
    },
    "tags": []
   },
   "outputs": [],
   "source": []
  },
  {
   "cell_type": "code",
   "execution_count": null,
   "metadata": {
    "papermill": {
     "duration": 0.030501,
     "end_time": "2021-01-17T00:39:35.609115",
     "exception": false,
     "start_time": "2021-01-17T00:39:35.578614",
     "status": "completed"
    },
    "tags": []
   },
   "outputs": [],
   "source": []
  },
  {
   "cell_type": "code",
   "execution_count": null,
   "metadata": {
    "papermill": {
     "duration": 0.031267,
     "end_time": "2021-01-17T00:39:35.673450",
     "exception": false,
     "start_time": "2021-01-17T00:39:35.642183",
     "status": "completed"
    },
    "tags": []
   },
   "outputs": [],
   "source": []
  }
 ],
 "metadata": {
  "kernelspec": {
   "display_name": "Python 3",
   "language": "python",
   "name": "python3"
  },
  "language_info": {
   "codemirror_mode": {
    "name": "ipython",
    "version": 3
   },
   "file_extension": ".py",
   "mimetype": "text/x-python",
   "name": "python",
   "nbconvert_exporter": "python",
   "pygments_lexer": "ipython3",
   "version": "3.6.12"
  },
  "papermill": {
   "duration": 6.519222,
   "end_time": "2021-01-17T00:39:36.013342",
   "environment_variables": {},
   "exception": null,
   "input_path": "2020-03-21-covid19exp.ipynb",
   "output_path": "2020-03-21-covid19exp.ipynb",
   "parameters": {},
   "start_time": "2021-01-17T00:39:29.494120",
   "version": "2.0.0"
  }
 },
 "nbformat": 4,
 "nbformat_minor": 4
}