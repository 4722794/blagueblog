{
 "cells": [
  {
   "cell_type": "markdown",
   "id": "muslim-click",
   "metadata": {
    "papermill": {
     "duration": 0.042266,
     "end_time": "2021-10-13T12:12:04.269556",
     "exception": false,
     "start_time": "2021-10-13T12:12:04.227290",
     "status": "completed"
    },
    "tags": []
   },
   "source": [
    "# COVID-19 Case Race\n",
    "> A race chart to see rising cases around the world\n",
    "\n",
    "- author: Hargun Oberoi\n",
    "- image: images/covid-overview.png\n",
    "- hide: false\n",
    "- badges: false"
   ]
  },
  {
   "cell_type": "code",
   "execution_count": 1,
   "id": "proof-material",
   "metadata": {
    "execution": {
     "iopub.execute_input": "2021-10-13T12:12:04.355708Z",
     "iopub.status.busy": "2021-10-13T12:12:04.355050Z",
     "iopub.status.idle": "2021-10-13T12:12:04.730818Z",
     "shell.execute_reply": "2021-10-13T12:12:04.730117Z"
    },
    "papermill": {
     "duration": 0.422026,
     "end_time": "2021-10-13T12:12:04.730976",
     "exception": false,
     "start_time": "2021-10-13T12:12:04.308950",
     "status": "completed"
    },
    "tags": []
   },
   "outputs": [],
   "source": [
    "#hide\n",
    "import numpy as np\n",
    "import pandas as pd\n",
    "from jinja2 import Template\n",
    "from IPython.display import HTML"
   ]
  },
  {
   "cell_type": "code",
   "execution_count": 2,
   "id": "developed-terminology",
   "metadata": {
    "execution": {
     "iopub.execute_input": "2021-10-13T12:12:04.813030Z",
     "iopub.status.busy": "2021-10-13T12:12:04.812133Z",
     "iopub.status.idle": "2021-10-13T12:12:04.815605Z",
     "shell.execute_reply": "2021-10-13T12:12:04.815117Z"
    },
    "papermill": {
     "duration": 0.04755,
     "end_time": "2021-10-13T12:12:04.815727",
     "exception": false,
     "start_time": "2021-10-13T12:12:04.768177",
     "status": "completed"
    },
    "tags": []
   },
   "outputs": [],
   "source": [
    "#hide\n",
    "\n",
    "# FETCH\n",
    "base_url = 'https://raw.githubusercontent.com/pratapvardhan/notebooks/master/covid19/'\n",
    "paths = {\n",
    "    'mapping': base_url + 'mapping_countries.csv',\n",
    "    'overview': base_url + 'overview.tpl'\n",
    "}"
   ]
  },
  {
   "cell_type": "code",
   "execution_count": 3,
   "id": "dynamic-saver",
   "metadata": {
    "execution": {
     "iopub.execute_input": "2021-10-13T12:12:04.898561Z",
     "iopub.status.busy": "2021-10-13T12:12:04.897941Z",
     "iopub.status.idle": "2021-10-13T12:12:04.900949Z",
     "shell.execute_reply": "2021-10-13T12:12:04.901485Z"
    },
    "papermill": {
     "duration": 0.049872,
     "end_time": "2021-10-13T12:12:04.901613",
     "exception": false,
     "start_time": "2021-10-13T12:12:04.851741",
     "status": "completed"
    },
    "tags": []
   },
   "outputs": [
    {
     "data": {
      "text/plain": [
       "'https://raw.githubusercontent.com/pratapvardhan/notebooks/master/covid19/mapping_countries.csv'"
      ]
     },
     "execution_count": 3,
     "metadata": {},
     "output_type": "execute_result"
    }
   ],
   "source": [
    "#hide\n",
    "paths['mapping']"
   ]
  },
  {
   "cell_type": "code",
   "execution_count": 4,
   "id": "urban-software",
   "metadata": {
    "execution": {
     "iopub.execute_input": "2021-10-13T12:12:04.989243Z",
     "iopub.status.busy": "2021-10-13T12:12:04.988630Z",
     "iopub.status.idle": "2021-10-13T12:12:04.991080Z",
     "shell.execute_reply": "2021-10-13T12:12:04.990583Z"
    },
    "papermill": {
     "duration": 0.04434,
     "end_time": "2021-10-13T12:12:04.991227",
     "exception": false,
     "start_time": "2021-10-13T12:12:04.946887",
     "status": "completed"
    },
    "tags": []
   },
   "outputs": [],
   "source": [
    "#hide\n",
    "def get_mappings(url):\n",
    "    df = pd.read_csv(url)\n",
    "    return {\n",
    "        'df': df,\n",
    "        'replace.country': dict(df.dropna(subset=['Name']).set_index('Country')['Name']),\n",
    "        'map.continent': dict(df.set_index('Name')['Continent'])\n",
    "    }"
   ]
  },
  {
   "cell_type": "code",
   "execution_count": 5,
   "id": "intimate-machinery",
   "metadata": {
    "execution": {
     "iopub.execute_input": "2021-10-13T12:12:05.071663Z",
     "iopub.status.busy": "2021-10-13T12:12:05.071016Z",
     "iopub.status.idle": "2021-10-13T12:12:05.130084Z",
     "shell.execute_reply": "2021-10-13T12:12:05.130550Z"
    },
    "papermill": {
     "duration": 0.102659,
     "end_time": "2021-10-13T12:12:05.130725",
     "exception": false,
     "start_time": "2021-10-13T12:12:05.028066",
     "status": "completed"
    },
    "tags": []
   },
   "outputs": [],
   "source": [
    "#hide\n",
    "mapping = get_mappings(paths['mapping'])"
   ]
  },
  {
   "cell_type": "code",
   "execution_count": 6,
   "id": "certified-tactics",
   "metadata": {
    "execution": {
     "iopub.execute_input": "2021-10-13T12:12:05.209973Z",
     "iopub.status.busy": "2021-10-13T12:12:05.209303Z",
     "iopub.status.idle": "2021-10-13T12:12:05.211911Z",
     "shell.execute_reply": "2021-10-13T12:12:05.211424Z"
    },
    "papermill": {
     "duration": 0.04567,
     "end_time": "2021-10-13T12:12:05.212028",
     "exception": false,
     "start_time": "2021-10-13T12:12:05.166358",
     "status": "completed"
    },
    "tags": []
   },
   "outputs": [],
   "source": [
    "#hide\n",
    "def get_template(path):\n",
    "    from urllib.parse import urlparse\n",
    "    if bool(urlparse(path).netloc):\n",
    "        from urllib.request import urlopen\n",
    "        return urlopen(path).read().decode('utf8')\n",
    "    return open(path).read()"
   ]
  },
  {
   "cell_type": "code",
   "execution_count": 7,
   "id": "realistic-blast",
   "metadata": {
    "execution": {
     "iopub.execute_input": "2021-10-13T12:12:05.287813Z",
     "iopub.status.busy": "2021-10-13T12:12:05.287163Z",
     "iopub.status.idle": "2021-10-13T12:12:05.289967Z",
     "shell.execute_reply": "2021-10-13T12:12:05.290544Z"
    },
    "papermill": {
     "duration": 0.043442,
     "end_time": "2021-10-13T12:12:05.290677",
     "exception": false,
     "start_time": "2021-10-13T12:12:05.247235",
     "status": "completed"
    },
    "tags": []
   },
   "outputs": [],
   "source": [
    "#hide\n",
    "def get_frame(name):\n",
    "    url = (\n",
    "        'https://raw.githubusercontent.com/CSSEGISandData/COVID-19/master/csse_covid_19_data/'\n",
    "        f'csse_covid_19_time_series/time_series_covid19_{name}_global.csv')\n",
    "    df = pd.read_csv(url)\n",
    "    # rename countries\n",
    "    df['Country/Region'] = df['Country/Region'].replace(mapping['replace.country'])\n",
    "    return df"
   ]
  },
  {
   "cell_type": "code",
   "execution_count": 8,
   "id": "affiliated-characterization",
   "metadata": {
    "execution": {
     "iopub.execute_input": "2021-10-13T12:12:05.368571Z",
     "iopub.status.busy": "2021-10-13T12:12:05.367921Z",
     "iopub.status.idle": "2021-10-13T12:12:05.369952Z",
     "shell.execute_reply": "2021-10-13T12:12:05.370611Z"
    },
    "papermill": {
     "duration": 0.043694,
     "end_time": "2021-10-13T12:12:05.370765",
     "exception": false,
     "start_time": "2021-10-13T12:12:05.327071",
     "status": "completed"
    },
    "tags": []
   },
   "outputs": [],
   "source": [
    "#hide\n",
    "def get_dates(df):\n",
    "    dt_cols = df.columns[~df.columns.isin(['Province/State', 'Country/Region', 'Lat', 'Long'])]\n",
    "    LAST_DATE_I = -1\n",
    "    # sometimes last column may be empty, then go backwards\n",
    "    for i in range(-1, -len(dt_cols), -1):\n",
    "        if not df[dt_cols[i]].fillna(0).eq(0).all():\n",
    "            LAST_DATE_I = i\n",
    "            break\n",
    "    return LAST_DATE_I, dt_cols"
   ]
  },
  {
   "cell_type": "code",
   "execution_count": 9,
   "id": "recent-optimization",
   "metadata": {
    "execution": {
     "iopub.execute_input": "2021-10-13T12:12:05.443486Z",
     "iopub.status.busy": "2021-10-13T12:12:05.442837Z",
     "iopub.status.idle": "2021-10-13T12:12:05.974759Z",
     "shell.execute_reply": "2021-10-13T12:12:05.973644Z"
    },
    "papermill": {
     "duration": 0.570012,
     "end_time": "2021-10-13T12:12:05.974893",
     "exception": false,
     "start_time": "2021-10-13T12:12:05.404881",
     "status": "completed"
    },
    "tags": []
   },
   "outputs": [],
   "source": [
    "#hide\n",
    "COL_REGION = 'Country/Region'\n",
    "# Confirmed, Recovered, Deaths\n",
    "df = get_frame('confirmed')\n",
    "# dft_: timeseries, dfc_: today country agg\n",
    "dft_cases = df\n",
    "dft_deaths = get_frame('deaths')\n",
    "dft_recovered = get_frame('recovered')\n",
    "LAST_DATE_I, dt_cols = get_dates(df)"
   ]
  },
  {
   "cell_type": "code",
   "execution_count": 10,
   "id": "absolute-copper",
   "metadata": {
    "execution": {
     "iopub.execute_input": "2021-10-13T12:12:06.051152Z",
     "iopub.status.busy": "2021-10-13T12:12:06.050553Z",
     "iopub.status.idle": "2021-10-13T12:12:06.052404Z",
     "shell.execute_reply": "2021-10-13T12:12:06.053237Z"
    },
    "papermill": {
     "duration": 0.04383,
     "end_time": "2021-10-13T12:12:06.053412",
     "exception": false,
     "start_time": "2021-10-13T12:12:06.009582",
     "status": "completed"
    },
    "tags": []
   },
   "outputs": [],
   "source": [
    "#hide\n",
    "LAST_DATE_I, dt_cols = get_dates(df)\n",
    "dt_today =dt_cols[LAST_DATE_I]\n",
    "# dt_5day = dt_cols[LAST_DATE_I - 5]\n",
    "dt_yday = dt_cols[LAST_DATE_I - 1]"
   ]
  },
  {
   "cell_type": "code",
   "execution_count": 11,
   "id": "restricted-sheriff",
   "metadata": {
    "execution": {
     "iopub.execute_input": "2021-10-13T12:12:06.135075Z",
     "iopub.status.busy": "2021-10-13T12:12:06.134500Z",
     "iopub.status.idle": "2021-10-13T12:12:06.138341Z",
     "shell.execute_reply": "2021-10-13T12:12:06.138817Z"
    },
    "papermill": {
     "duration": 0.052307,
     "end_time": "2021-10-13T12:12:06.138944",
     "exception": false,
     "start_time": "2021-10-13T12:12:06.086637",
     "status": "completed"
    },
    "tags": []
   },
   "outputs": [],
   "source": [
    "#hide\n",
    "dfc_cases = dft_cases.groupby(COL_REGION)[dt_today].sum()\n",
    "dfc_deaths = dft_deaths.groupby(COL_REGION)[dt_today].sum()\n",
    "# dfp_cases = dft_cases.groupby(COL_REGION)[dt_5day].sum()\n",
    "# dfp_deaths = dft_deaths.groupby(COL_REGION)[dt_5day].sum()\n",
    "dfp_cases = dft_cases.groupby(COL_REGION)[dt_yday].sum()\n",
    "dfp_deaths = dft_deaths.groupby(COL_REGION)[dt_yday].sum()"
   ]
  },
  {
   "cell_type": "code",
   "execution_count": 12,
   "id": "deluxe-hepatitis",
   "metadata": {
    "execution": {
     "iopub.execute_input": "2021-10-13T12:12:06.221808Z",
     "iopub.status.busy": "2021-10-13T12:12:06.218988Z",
     "iopub.status.idle": "2021-10-13T12:12:06.224761Z",
     "shell.execute_reply": "2021-10-13T12:12:06.224049Z"
    },
    "papermill": {
     "duration": 0.049685,
     "end_time": "2021-10-13T12:12:06.224883",
     "exception": false,
     "start_time": "2021-10-13T12:12:06.175198",
     "status": "completed"
    },
    "tags": []
   },
   "outputs": [],
   "source": [
    "#hide\n",
    "df_table = (pd.DataFrame(dict(Cases = dfc_cases, Deaths = dfc_deaths, PCases = dfp_cases, PDeaths = dfp_deaths))\n",
    "            .sort_values(by = ['Cases','Deaths'], ascending = [False, False])\n",
    "            .reset_index())"
   ]
  },
  {
   "cell_type": "code",
   "execution_count": 13,
   "id": "educational-chancellor",
   "metadata": {
    "execution": {
     "iopub.execute_input": "2021-10-13T12:12:06.323879Z",
     "iopub.status.busy": "2021-10-13T12:12:06.323230Z",
     "iopub.status.idle": "2021-10-13T12:12:06.326213Z",
     "shell.execute_reply": "2021-10-13T12:12:06.326721Z"
    },
    "papermill": {
     "duration": 0.066025,
     "end_time": "2021-10-13T12:12:06.326879",
     "exception": false,
     "start_time": "2021-10-13T12:12:06.260854",
     "status": "completed"
    },
    "tags": []
   },
   "outputs": [
    {
     "data": {
      "text/html": [
       "<div>\n",
       "<style scoped>\n",
       "    .dataframe tbody tr th:only-of-type {\n",
       "        vertical-align: middle;\n",
       "    }\n",
       "\n",
       "    .dataframe tbody tr th {\n",
       "        vertical-align: top;\n",
       "    }\n",
       "\n",
       "    .dataframe thead th {\n",
       "        text-align: right;\n",
       "    }\n",
       "</style>\n",
       "<table border=\"1\" class=\"dataframe\">\n",
       "  <thead>\n",
       "    <tr style=\"text-align: right;\">\n",
       "      <th></th>\n",
       "      <th>Country/Region</th>\n",
       "      <th>Cases</th>\n",
       "      <th>Deaths</th>\n",
       "      <th>PCases</th>\n",
       "      <th>PDeaths</th>\n",
       "      <th>Cases (+)</th>\n",
       "      <th>Deaths (+)</th>\n",
       "      <th>Fatality Rate</th>\n",
       "      <th>Continent</th>\n",
       "    </tr>\n",
       "  </thead>\n",
       "  <tbody>\n",
       "    <tr>\n",
       "      <th>0</th>\n",
       "      <td>US</td>\n",
       "      <td>44562257</td>\n",
       "      <td>716471</td>\n",
       "      <td>44455949</td>\n",
       "      <td>714055</td>\n",
       "      <td>106308</td>\n",
       "      <td>2416</td>\n",
       "      <td>1.61</td>\n",
       "      <td>North America</td>\n",
       "    </tr>\n",
       "    <tr>\n",
       "      <th>1</th>\n",
       "      <td>India</td>\n",
       "      <td>34001743</td>\n",
       "      <td>451189</td>\n",
       "      <td>33985920</td>\n",
       "      <td>450963</td>\n",
       "      <td>15823</td>\n",
       "      <td>226</td>\n",
       "      <td>1.33</td>\n",
       "      <td>Asia</td>\n",
       "    </tr>\n",
       "    <tr>\n",
       "      <th>2</th>\n",
       "      <td>Brazil</td>\n",
       "      <td>21590097</td>\n",
       "      <td>601398</td>\n",
       "      <td>21582738</td>\n",
       "      <td>601213</td>\n",
       "      <td>7359</td>\n",
       "      <td>185</td>\n",
       "      <td>2.79</td>\n",
       "      <td>South America</td>\n",
       "    </tr>\n",
       "    <tr>\n",
       "      <th>3</th>\n",
       "      <td>United Kingdom</td>\n",
       "      <td>8270182</td>\n",
       "      <td>138351</td>\n",
       "      <td>8232327</td>\n",
       "      <td>138167</td>\n",
       "      <td>37855</td>\n",
       "      <td>184</td>\n",
       "      <td>1.67</td>\n",
       "      <td>Europe</td>\n",
       "    </tr>\n",
       "    <tr>\n",
       "      <th>4</th>\n",
       "      <td>Russia</td>\n",
       "      <td>7714973</td>\n",
       "      <td>214476</td>\n",
       "      <td>7687559</td>\n",
       "      <td>213522</td>\n",
       "      <td>27414</td>\n",
       "      <td>954</td>\n",
       "      <td>2.78</td>\n",
       "      <td>Europe</td>\n",
       "    </tr>\n",
       "  </tbody>\n",
       "</table>\n",
       "</div>"
      ],
      "text/plain": [
       "   Country/Region     Cases  Deaths    PCases  PDeaths  Cases (+)  Deaths (+)  \\\n",
       "0              US  44562257  716471  44455949   714055     106308        2416   \n",
       "1           India  34001743  451189  33985920   450963      15823         226   \n",
       "2          Brazil  21590097  601398  21582738   601213       7359         185   \n",
       "3  United Kingdom   8270182  138351   8232327   138167      37855         184   \n",
       "4          Russia   7714973  214476   7687559   213522      27414         954   \n",
       "\n",
       "   Fatality Rate      Continent  \n",
       "0           1.61  North America  \n",
       "1           1.33           Asia  \n",
       "2           2.79  South America  \n",
       "3           1.67         Europe  \n",
       "4           2.78         Europe  "
      ]
     },
     "execution_count": 13,
     "metadata": {},
     "output_type": "execute_result"
    }
   ],
   "source": [
    "#hide\n",
    "for c in 'Cases, Deaths'.split(', '):\n",
    "    df_table[f'{c} (+)'] = (df_table[c] - df_table[f'P{c}']).clip(0)\n",
    "    #Clip ça veut dire, les chiffres negatif sont interdit\n",
    "df_table['Fatality Rate'] = (100* df_table['Deaths']/ df_table['Cases']).round(2)\n",
    "df_table['Continent'] = df_table['Country/Region'].map(mapping['map.continent'])\n",
    "df_table.head(5)"
   ]
  },
  {
   "cell_type": "code",
   "execution_count": 14,
   "id": "aboriginal-bulgaria",
   "metadata": {
    "execution": {
     "iopub.execute_input": "2021-10-13T12:12:06.403936Z",
     "iopub.status.busy": "2021-10-13T12:12:06.403277Z",
     "iopub.status.idle": "2021-10-13T12:12:06.406561Z",
     "shell.execute_reply": "2021-10-13T12:12:06.405893Z"
    },
    "papermill": {
     "duration": 0.042635,
     "end_time": "2021-10-13T12:12:06.406674",
     "exception": false,
     "start_time": "2021-10-13T12:12:06.364039",
     "status": "completed"
    },
    "tags": []
   },
   "outputs": [],
   "source": [
    "#hide\n",
    "#delete problematic countries from table\n",
    "df_table = df_table[~df_table['Country/Region'].isin(['Cape Verde', 'Cruise Ship', 'Kosovo'])]"
   ]
  },
  {
   "cell_type": "code",
   "execution_count": 15,
   "id": "fantastic-effect",
   "metadata": {
    "execution": {
     "iopub.execute_input": "2021-10-13T12:12:06.486905Z",
     "iopub.status.busy": "2021-10-13T12:12:06.486281Z",
     "iopub.status.idle": "2021-10-13T12:12:06.508874Z",
     "shell.execute_reply": "2021-10-13T12:12:06.508435Z"
    },
    "papermill": {
     "duration": 0.066218,
     "end_time": "2021-10-13T12:12:06.508992",
     "exception": false,
     "start_time": "2021-10-13T12:12:06.442774",
     "status": "completed"
    },
    "tags": []
   },
   "outputs": [
    {
     "data": {
      "text/html": [
       "<div>\n",
       "<style scoped>\n",
       "    .dataframe tbody tr th:only-of-type {\n",
       "        vertical-align: middle;\n",
       "    }\n",
       "\n",
       "    .dataframe tbody tr th {\n",
       "        vertical-align: top;\n",
       "    }\n",
       "\n",
       "    .dataframe thead th {\n",
       "        text-align: right;\n",
       "    }\n",
       "</style>\n",
       "<table border=\"1\" class=\"dataframe\">\n",
       "  <thead>\n",
       "    <tr style=\"text-align: right;\">\n",
       "      <th></th>\n",
       "      <th>Country/Region</th>\n",
       "      <th>Cases</th>\n",
       "      <th>Deaths</th>\n",
       "      <th>PCases</th>\n",
       "      <th>PDeaths</th>\n",
       "      <th>Cases (+)</th>\n",
       "      <th>Deaths (+)</th>\n",
       "      <th>Fatality Rate</th>\n",
       "      <th>Continent</th>\n",
       "    </tr>\n",
       "  </thead>\n",
       "  <tbody>\n",
       "    <tr>\n",
       "      <th>0</th>\n",
       "      <td>US</td>\n",
       "      <td>44562257</td>\n",
       "      <td>716471</td>\n",
       "      <td>44455949</td>\n",
       "      <td>714055</td>\n",
       "      <td>106308</td>\n",
       "      <td>2416</td>\n",
       "      <td>1.6</td>\n",
       "      <td>North America</td>\n",
       "    </tr>\n",
       "    <tr>\n",
       "      <th>1</th>\n",
       "      <td>India</td>\n",
       "      <td>34001743</td>\n",
       "      <td>451189</td>\n",
       "      <td>33985920</td>\n",
       "      <td>450963</td>\n",
       "      <td>15823</td>\n",
       "      <td>226</td>\n",
       "      <td>1.3</td>\n",
       "      <td>Asia</td>\n",
       "    </tr>\n",
       "    <tr>\n",
       "      <th>2</th>\n",
       "      <td>Brazil</td>\n",
       "      <td>21590097</td>\n",
       "      <td>601398</td>\n",
       "      <td>21582738</td>\n",
       "      <td>601213</td>\n",
       "      <td>7359</td>\n",
       "      <td>185</td>\n",
       "      <td>2.8</td>\n",
       "      <td>South America</td>\n",
       "    </tr>\n",
       "    <tr>\n",
       "      <th>3</th>\n",
       "      <td>United Kingdom</td>\n",
       "      <td>8270182</td>\n",
       "      <td>138351</td>\n",
       "      <td>8232327</td>\n",
       "      <td>138167</td>\n",
       "      <td>37855</td>\n",
       "      <td>184</td>\n",
       "      <td>1.7</td>\n",
       "      <td>Europe</td>\n",
       "    </tr>\n",
       "    <tr>\n",
       "      <th>4</th>\n",
       "      <td>Russia</td>\n",
       "      <td>7714973</td>\n",
       "      <td>214476</td>\n",
       "      <td>7687559</td>\n",
       "      <td>213522</td>\n",
       "      <td>27414</td>\n",
       "      <td>954</td>\n",
       "      <td>2.8</td>\n",
       "      <td>Europe</td>\n",
       "    </tr>\n",
       "  </tbody>\n",
       "</table>\n",
       "</div>"
      ],
      "text/plain": [
       "   Country/Region     Cases  Deaths    PCases  PDeaths  Cases (+)  Deaths (+)  \\\n",
       "0              US  44562257  716471  44455949   714055     106308        2416   \n",
       "1           India  34001743  451189  33985920   450963      15823         226   \n",
       "2          Brazil  21590097  601398  21582738   601213       7359         185   \n",
       "3  United Kingdom   8270182  138351   8232327   138167      37855         184   \n",
       "4          Russia   7714973  214476   7687559   213522      27414         954   \n",
       "\n",
       "   Fatality Rate      Continent  \n",
       "0            1.6  North America  \n",
       "1            1.3           Asia  \n",
       "2            2.8  South America  \n",
       "3            1.7         Europe  \n",
       "4            2.8         Europe  "
      ]
     },
     "execution_count": 15,
     "metadata": {},
     "output_type": "execute_result"
    }
   ],
   "source": [
    "#hide\n",
    "df_table = (pd.DataFrame(dict(Cases=dfc_cases, Deaths=dfc_deaths, PCases=dfp_cases, PDeaths=dfp_deaths))\n",
    "             .sort_values(by=['Cases', 'Deaths'], ascending=[False, False])\n",
    "             .reset_index())\n",
    "df_table.rename(columns={'index': 'Country/Region'}, inplace=True)\n",
    "for c in 'Cases, Deaths'.split(', '):\n",
    "    df_table[f'{c} (+)'] = (df_table[c] - df_table[f'P{c}']).clip(0)  # DATA BUG\n",
    "df_table['Fatality Rate'] = (100 * df_table['Deaths'] / df_table['Cases']).round(1)\n",
    "df_table['Continent'] = df_table['Country/Region'].map(mapping['map.continent'])\n",
    "df_table.head(5)"
   ]
  },
  {
   "cell_type": "code",
   "execution_count": 16,
   "id": "fewer-occasion",
   "metadata": {
    "execution": {
     "iopub.execute_input": "2021-10-13T12:12:06.589308Z",
     "iopub.status.busy": "2021-10-13T12:12:06.588698Z",
     "iopub.status.idle": "2021-10-13T12:12:06.590965Z",
     "shell.execute_reply": "2021-10-13T12:12:06.591548Z"
    },
    "papermill": {
     "duration": 0.04476,
     "end_time": "2021-10-13T12:12:06.591677",
     "exception": false,
     "start_time": "2021-10-13T12:12:06.546917",
     "status": "completed"
    },
    "tags": []
   },
   "outputs": [],
   "source": [
    "#hide\n",
    "#delete problematic countries from table\n",
    "df_table = df_table[~df_table['Country/Region'].isin(['Cape Verde', 'Cruise Ship', 'Kosovo'])]"
   ]
  },
  {
   "cell_type": "code",
   "execution_count": 17,
   "id": "related-center",
   "metadata": {
    "execution": {
     "iopub.execute_input": "2021-10-13T12:12:06.687106Z",
     "iopub.status.busy": "2021-10-13T12:12:06.686368Z",
     "iopub.status.idle": "2021-10-13T12:12:06.689212Z",
     "shell.execute_reply": "2021-10-13T12:12:06.688787Z"
    },
    "papermill": {
     "duration": 0.062273,
     "end_time": "2021-10-13T12:12:06.689453",
     "exception": false,
     "start_time": "2021-10-13T12:12:06.627180",
     "status": "completed"
    },
    "tags": []
   },
   "outputs": [],
   "source": [
    "#hide\n",
    "metrics = [df_table.columns[index] for index in [1,2,5,6]]\n",
    "# s_china = df_table[df_table['Country/Region'].eq('China')][metrics].sum().add_prefix('China ')\n",
    "s_us = df_table[df_table['Country/Region'].eq('US')][metrics].sum().add_prefix('US ')\n",
    "s_eu = df_table[df_table['Continent'].eq('Europe')][metrics].sum().add_prefix('EU ')\n",
    "s_ind = df_table[df_table['Country/Region'].eq('India')][metrics].sum().add_prefix('India ')\n",
    "summary = {'updated': pd.to_datetime(dt_today), 'since': pd.to_datetime(dt_yday)}\n",
    "summary = {'updated': pd.to_datetime(dt_today), 'since': pd.to_datetime(dt_yday)}\n",
    "summary = {**summary, **df_table[metrics].sum(), **s_ind, **s_us, **s_eu}"
   ]
  },
  {
   "cell_type": "code",
   "execution_count": 18,
   "id": "engaging-syndrome",
   "metadata": {
    "execution": {
     "iopub.execute_input": "2021-10-13T12:12:06.771210Z",
     "iopub.status.busy": "2021-10-13T12:12:06.770554Z",
     "iopub.status.idle": "2021-10-13T12:12:06.785001Z",
     "shell.execute_reply": "2021-10-13T12:12:06.785522Z"
    },
    "papermill": {
     "duration": 0.059857,
     "end_time": "2021-10-13T12:12:06.785683",
     "exception": false,
     "start_time": "2021-10-13T12:12:06.725826",
     "status": "completed"
    },
    "tags": []
   },
   "outputs": [],
   "source": [
    "#hide\n",
    "dft_ct_new_cases = dft_cases.groupby(COL_REGION)[dt_cols].sum().diff(axis=1).fillna(0).astype(int)"
   ]
  },
  {
   "cell_type": "code",
   "execution_count": 19,
   "id": "neutral-assignment",
   "metadata": {
    "execution": {
     "iopub.execute_input": "2021-10-13T12:12:06.861729Z",
     "iopub.status.busy": "2021-10-13T12:12:06.860884Z",
     "iopub.status.idle": "2021-10-13T12:12:06.863746Z",
     "shell.execute_reply": "2021-10-13T12:12:06.864272Z"
    },
    "papermill": {
     "duration": 0.044307,
     "end_time": "2021-10-13T12:12:06.864415",
     "exception": false,
     "start_time": "2021-10-13T12:12:06.820108",
     "status": "completed"
    },
    "tags": []
   },
   "outputs": [],
   "source": [
    "#hide\n",
    "everydaycases = dft_ct_new_cases.cumsum(axis=1)"
   ]
  },
  {
   "cell_type": "code",
   "execution_count": 20,
   "id": "parliamentary-calgary",
   "metadata": {
    "execution": {
     "iopub.execute_input": "2021-10-13T12:12:06.954876Z",
     "iopub.status.busy": "2021-10-13T12:12:06.954207Z",
     "iopub.status.idle": "2021-10-13T12:12:07.555612Z",
     "shell.execute_reply": "2021-10-13T12:12:07.554864Z"
    },
    "papermill": {
     "duration": 0.653803,
     "end_time": "2021-10-13T12:12:07.555744",
     "exception": false,
     "start_time": "2021-10-13T12:12:06.901941",
     "status": "completed"
    },
    "tags": []
   },
   "outputs": [],
   "source": [
    "#hide\n",
    "import pandas as pd\n",
    "import matplotlib.pyplot as plt\n",
    "import matplotlib.ticker as ticker\n",
    "import matplotlib.animation as animation\n",
    "from IPython.display import HTML"
   ]
  },
  {
   "cell_type": "code",
   "execution_count": 21,
   "id": "lasting-extraction",
   "metadata": {
    "execution": {
     "iopub.execute_input": "2021-10-13T12:12:07.642304Z",
     "iopub.status.busy": "2021-10-13T12:12:07.638955Z",
     "iopub.status.idle": "2021-10-13T12:12:07.648602Z",
     "shell.execute_reply": "2021-10-13T12:12:07.649144Z"
    },
    "papermill": {
     "duration": 0.056487,
     "end_time": "2021-10-13T12:12:07.649300",
     "exception": false,
     "start_time": "2021-10-13T12:12:07.592813",
     "status": "completed"
    },
    "tags": []
   },
   "outputs": [],
   "source": [
    "#hide\n",
    "t = everydaycases.stack()"
   ]
  },
  {
   "cell_type": "code",
   "execution_count": 22,
   "id": "premier-sleeve",
   "metadata": {
    "execution": {
     "iopub.execute_input": "2021-10-13T12:12:07.733868Z",
     "iopub.status.busy": "2021-10-13T12:12:07.733159Z",
     "iopub.status.idle": "2021-10-13T12:12:07.743105Z",
     "shell.execute_reply": "2021-10-13T12:12:07.742604Z"
    },
    "papermill": {
     "duration": 0.052879,
     "end_time": "2021-10-13T12:12:07.743261",
     "exception": false,
     "start_time": "2021-10-13T12:12:07.690382",
     "status": "completed"
    },
    "tags": []
   },
   "outputs": [],
   "source": [
    "#hide\n",
    "g = t.reset_index(['Country/Region'])"
   ]
  },
  {
   "cell_type": "code",
   "execution_count": 23,
   "id": "distributed-pittsburgh",
   "metadata": {
    "execution": {
     "iopub.execute_input": "2021-10-13T12:12:07.821885Z",
     "iopub.status.busy": "2021-10-13T12:12:07.820871Z",
     "iopub.status.idle": "2021-10-13T12:12:07.825541Z",
     "shell.execute_reply": "2021-10-13T12:12:07.825034Z"
    },
    "papermill": {
     "duration": 0.045416,
     "end_time": "2021-10-13T12:12:07.825661",
     "exception": false,
     "start_time": "2021-10-13T12:12:07.780245",
     "status": "completed"
    },
    "tags": []
   },
   "outputs": [],
   "source": [
    "#hide\n",
    "g.index.name = 'date'"
   ]
  },
  {
   "cell_type": "code",
   "execution_count": 24,
   "id": "naked-donor",
   "metadata": {
    "execution": {
     "iopub.execute_input": "2021-10-13T12:12:07.903278Z",
     "iopub.status.busy": "2021-10-13T12:12:07.902661Z",
     "iopub.status.idle": "2021-10-13T12:12:07.905216Z",
     "shell.execute_reply": "2021-10-13T12:12:07.904661Z"
    },
    "papermill": {
     "duration": 0.044674,
     "end_time": "2021-10-13T12:12:07.905329",
     "exception": false,
     "start_time": "2021-10-13T12:12:07.860655",
     "status": "completed"
    },
    "tags": []
   },
   "outputs": [],
   "source": [
    "# #hide\n",
    "# g = g.reset_index(['date'])"
   ]
  },
  {
   "cell_type": "code",
   "execution_count": 25,
   "id": "incomplete-mustang",
   "metadata": {
    "execution": {
     "iopub.execute_input": "2021-10-13T12:12:07.982872Z",
     "iopub.status.busy": "2021-10-13T12:12:07.982232Z",
     "iopub.status.idle": "2021-10-13T12:12:07.985709Z",
     "shell.execute_reply": "2021-10-13T12:12:07.984862Z"
    },
    "papermill": {
     "duration": 0.043064,
     "end_time": "2021-10-13T12:12:07.985887",
     "exception": false,
     "start_time": "2021-10-13T12:12:07.942823",
     "status": "completed"
    },
    "tags": []
   },
   "outputs": [],
   "source": [
    "#hide\n",
    "# g.head()"
   ]
  },
  {
   "cell_type": "code",
   "execution_count": 26,
   "id": "specific-kruger",
   "metadata": {
    "execution": {
     "iopub.execute_input": "2021-10-13T12:12:08.065819Z",
     "iopub.status.busy": "2021-10-13T12:12:08.065179Z",
     "iopub.status.idle": "2021-10-13T12:12:08.067336Z",
     "shell.execute_reply": "2021-10-13T12:12:08.067886Z"
    },
    "papermill": {
     "duration": 0.045204,
     "end_time": "2021-10-13T12:12:08.068042",
     "exception": false,
     "start_time": "2021-10-13T12:12:08.022838",
     "status": "completed"
    },
    "tags": []
   },
   "outputs": [],
   "source": [
    "#hide\n",
    "# g.columns = ['date','country','cases']"
   ]
  },
  {
   "cell_type": "code",
   "execution_count": 27,
   "id": "tender-conversion",
   "metadata": {
    "execution": {
     "iopub.execute_input": "2021-10-13T12:12:08.144482Z",
     "iopub.status.busy": "2021-10-13T12:12:08.143766Z",
     "iopub.status.idle": "2021-10-13T12:12:08.146301Z",
     "shell.execute_reply": "2021-10-13T12:12:08.146802Z"
    },
    "papermill": {
     "duration": 0.041269,
     "end_time": "2021-10-13T12:12:08.146923",
     "exception": false,
     "start_time": "2021-10-13T12:12:08.105654",
     "status": "completed"
    },
    "tags": []
   },
   "outputs": [],
   "source": [
    "#hide\n",
    "# g['continent'] = g.country"
   ]
  },
  {
   "cell_type": "code",
   "execution_count": 28,
   "id": "substantial-wilderness",
   "metadata": {
    "execution": {
     "iopub.execute_input": "2021-10-13T12:12:08.226298Z",
     "iopub.status.busy": "2021-10-13T12:12:08.225536Z",
     "iopub.status.idle": "2021-10-13T12:12:08.228301Z",
     "shell.execute_reply": "2021-10-13T12:12:08.227816Z"
    },
    "papermill": {
     "duration": 0.044798,
     "end_time": "2021-10-13T12:12:08.228494",
     "exception": false,
     "start_time": "2021-10-13T12:12:08.183696",
     "status": "completed"
    },
    "tags": []
   },
   "outputs": [],
   "source": [
    "#hide\n",
    "# cols = list(g.columns.values)"
   ]
  },
  {
   "cell_type": "code",
   "execution_count": 29,
   "id": "solved-farming",
   "metadata": {
    "execution": {
     "iopub.execute_input": "2021-10-13T12:12:08.303971Z",
     "iopub.status.busy": "2021-10-13T12:12:08.303314Z",
     "iopub.status.idle": "2021-10-13T12:12:08.305996Z",
     "shell.execute_reply": "2021-10-13T12:12:08.305454Z"
    },
    "papermill": {
     "duration": 0.042572,
     "end_time": "2021-10-13T12:12:08.306133",
     "exception": false,
     "start_time": "2021-10-13T12:12:08.263561",
     "status": "completed"
    },
    "tags": []
   },
   "outputs": [],
   "source": [
    "#hide\n",
    "# cols.insert(0, cols.pop())"
   ]
  },
  {
   "cell_type": "code",
   "execution_count": 30,
   "id": "executed-adoption",
   "metadata": {
    "execution": {
     "iopub.execute_input": "2021-10-13T12:12:08.380979Z",
     "iopub.status.busy": "2021-10-13T12:12:08.380345Z",
     "iopub.status.idle": "2021-10-13T12:12:08.382937Z",
     "shell.execute_reply": "2021-10-13T12:12:08.382510Z"
    },
    "papermill": {
     "duration": 0.041127,
     "end_time": "2021-10-13T12:12:08.383123",
     "exception": false,
     "start_time": "2021-10-13T12:12:08.341996",
     "status": "completed"
    },
    "tags": []
   },
   "outputs": [],
   "source": [
    "#hide\n",
    "# g = g[cols]"
   ]
  },
  {
   "cell_type": "code",
   "execution_count": 31,
   "id": "subject-dublin",
   "metadata": {
    "execution": {
     "iopub.execute_input": "2021-10-13T12:12:08.466865Z",
     "iopub.status.busy": "2021-10-13T12:12:08.466264Z",
     "iopub.status.idle": "2021-10-13T12:12:08.468567Z",
     "shell.execute_reply": "2021-10-13T12:12:08.469020Z"
    },
    "papermill": {
     "duration": 0.043972,
     "end_time": "2021-10-13T12:12:08.469156",
     "exception": false,
     "start_time": "2021-10-13T12:12:08.425184",
     "status": "completed"
    },
    "tags": []
   },
   "outputs": [],
   "source": [
    "#hide\n",
    "# g['continent'] = g['continent'].map(mapping['map.continent'])"
   ]
  },
  {
   "cell_type": "code",
   "execution_count": 32,
   "id": "freelance-scout",
   "metadata": {
    "execution": {
     "iopub.execute_input": "2021-10-13T12:12:08.544365Z",
     "iopub.status.busy": "2021-10-13T12:12:08.543807Z",
     "iopub.status.idle": "2021-10-13T12:12:08.546509Z",
     "shell.execute_reply": "2021-10-13T12:12:08.546051Z"
    },
    "papermill": {
     "duration": 0.041485,
     "end_time": "2021-10-13T12:12:08.546620",
     "exception": false,
     "start_time": "2021-10-13T12:12:08.505135",
     "status": "completed"
    },
    "tags": []
   },
   "outputs": [],
   "source": [
    "#hide\n",
    "# g.head()"
   ]
  },
  {
   "cell_type": "code",
   "execution_count": 33,
   "id": "limited-engine",
   "metadata": {
    "execution": {
     "iopub.execute_input": "2021-10-13T12:12:08.619174Z",
     "iopub.status.busy": "2021-10-13T12:12:08.618177Z",
     "iopub.status.idle": "2021-10-13T12:12:08.621735Z",
     "shell.execute_reply": "2021-10-13T12:12:08.621161Z"
    },
    "papermill": {
     "duration": 0.041395,
     "end_time": "2021-10-13T12:12:08.621865",
     "exception": false,
     "start_time": "2021-10-13T12:12:08.580470",
     "status": "completed"
    },
    "tags": []
   },
   "outputs": [],
   "source": [
    "# hide\n",
    "# g['date'] = g['date'].astype('datetime64[ns]')"
   ]
  },
  {
   "cell_type": "code",
   "execution_count": 34,
   "id": "sophisticated-supervisor",
   "metadata": {
    "execution": {
     "iopub.execute_input": "2021-10-13T12:12:08.698981Z",
     "iopub.status.busy": "2021-10-13T12:12:08.698439Z",
     "iopub.status.idle": "2021-10-13T12:12:08.700263Z",
     "shell.execute_reply": "2021-10-13T12:12:08.700763Z"
    },
    "papermill": {
     "duration": 0.04214,
     "end_time": "2021-10-13T12:12:08.700886",
     "exception": false,
     "start_time": "2021-10-13T12:12:08.658746",
     "status": "completed"
    },
    "tags": []
   },
   "outputs": [],
   "source": [
    "#hide\n",
    "# g['date'] = g.date.dt.dayofyear"
   ]
  },
  {
   "cell_type": "code",
   "execution_count": 35,
   "id": "inside-dubai",
   "metadata": {
    "execution": {
     "iopub.execute_input": "2021-10-13T12:12:08.776491Z",
     "iopub.status.busy": "2021-10-13T12:12:08.775889Z",
     "iopub.status.idle": "2021-10-13T12:12:08.777846Z",
     "shell.execute_reply": "2021-10-13T12:12:08.778446Z"
    },
    "papermill": {
     "duration": 0.042835,
     "end_time": "2021-10-13T12:12:08.778591",
     "exception": false,
     "start_time": "2021-10-13T12:12:08.735756",
     "status": "completed"
    },
    "tags": []
   },
   "outputs": [],
   "source": [
    "#hide\n",
    "# g = g.rename(columns= {'continent':'group','country':'name','cases':'value'})"
   ]
  },
  {
   "cell_type": "code",
   "execution_count": 36,
   "id": "fleet-motorcycle",
   "metadata": {
    "execution": {
     "iopub.execute_input": "2021-10-13T12:12:08.856292Z",
     "iopub.status.busy": "2021-10-13T12:12:08.855712Z",
     "iopub.status.idle": "2021-10-13T12:12:08.857492Z",
     "shell.execute_reply": "2021-10-13T12:12:08.858061Z"
    },
    "papermill": {
     "duration": 0.042416,
     "end_time": "2021-10-13T12:12:08.858187",
     "exception": false,
     "start_time": "2021-10-13T12:12:08.815771",
     "status": "completed"
    },
    "tags": []
   },
   "outputs": [],
   "source": [
    "#hide\n",
    "# cols = ['name','group','day','value']"
   ]
  },
  {
   "cell_type": "code",
   "execution_count": 37,
   "id": "continued-sleeping",
   "metadata": {
    "execution": {
     "iopub.execute_input": "2021-10-13T12:12:08.933047Z",
     "iopub.status.busy": "2021-10-13T12:12:08.932484Z",
     "iopub.status.idle": "2021-10-13T12:12:08.934680Z",
     "shell.execute_reply": "2021-10-13T12:12:08.935133Z"
    },
    "papermill": {
     "duration": 0.042234,
     "end_time": "2021-10-13T12:12:08.935258",
     "exception": false,
     "start_time": "2021-10-13T12:12:08.893024",
     "status": "completed"
    },
    "tags": []
   },
   "outputs": [],
   "source": [
    "#hide\n",
    "# g.rename(columns= {'date':'day'},inplace = True)"
   ]
  },
  {
   "cell_type": "code",
   "execution_count": 38,
   "id": "major-fight",
   "metadata": {
    "execution": {
     "iopub.execute_input": "2021-10-13T12:12:09.010659Z",
     "iopub.status.busy": "2021-10-13T12:12:09.010046Z",
     "iopub.status.idle": "2021-10-13T12:12:09.012287Z",
     "shell.execute_reply": "2021-10-13T12:12:09.011740Z"
    },
    "papermill": {
     "duration": 0.041716,
     "end_time": "2021-10-13T12:12:09.012419",
     "exception": false,
     "start_time": "2021-10-13T12:12:08.970703",
     "status": "completed"
    },
    "tags": []
   },
   "outputs": [],
   "source": [
    "#hide\n",
    "# g = g[cols]"
   ]
  },
  {
   "cell_type": "code",
   "execution_count": 39,
   "id": "structured-mobile",
   "metadata": {
    "execution": {
     "iopub.execute_input": "2021-10-13T12:12:09.088569Z",
     "iopub.status.busy": "2021-10-13T12:12:09.088004Z",
     "iopub.status.idle": "2021-10-13T12:12:09.090104Z",
     "shell.execute_reply": "2021-10-13T12:12:09.089617Z"
    },
    "papermill": {
     "duration": 0.042407,
     "end_time": "2021-10-13T12:12:09.090235",
     "exception": false,
     "start_time": "2021-10-13T12:12:09.047828",
     "status": "completed"
    },
    "tags": []
   },
   "outputs": [],
   "source": [
    "# #hide\n",
    "# g = g[g.group.notna()]"
   ]
  },
  {
   "cell_type": "code",
   "execution_count": 40,
   "id": "determined-closing",
   "metadata": {
    "execution": {
     "iopub.execute_input": "2021-10-13T12:12:09.172089Z",
     "iopub.status.busy": "2021-10-13T12:12:09.171494Z",
     "iopub.status.idle": "2021-10-13T12:12:09.174066Z",
     "shell.execute_reply": "2021-10-13T12:12:09.173499Z"
    },
    "papermill": {
     "duration": 0.047941,
     "end_time": "2021-10-13T12:12:09.174186",
     "exception": false,
     "start_time": "2021-10-13T12:12:09.126245",
     "status": "completed"
    },
    "tags": []
   },
   "outputs": [],
   "source": [
    "# #hide\n",
    "# colors = dict(zip(\n",
    "#     [\"Oceania\", \"Europe\", \"Asia\", \"South America\", \"Middle East\", \"North America\", \"Africa\"],\n",
    "#     [\"#adb0ff\", \"#ffb3ff\", \"#90d595\", \"#e48381\", \"#aafbff\", \"#f7bb5f\", \"#eafb50\"]\n",
    "# ))\n",
    "# group_lk = g.set_index('name')['group'].to_dict()"
   ]
  },
  {
   "cell_type": "code",
   "execution_count": null,
   "id": "gross-drinking",
   "metadata": {
    "papermill": {
     "duration": 0.035643,
     "end_time": "2021-10-13T12:12:09.246396",
     "exception": false,
     "start_time": "2021-10-13T12:12:09.210753",
     "status": "completed"
    },
    "tags": []
   },
   "outputs": [],
   "source": []
  },
  {
   "cell_type": "code",
   "execution_count": 41,
   "id": "subject-macintosh",
   "metadata": {
    "execution": {
     "iopub.execute_input": "2021-10-13T12:12:09.329108Z",
     "iopub.status.busy": "2021-10-13T12:12:09.328450Z",
     "iopub.status.idle": "2021-10-13T12:12:09.330365Z",
     "shell.execute_reply": "2021-10-13T12:12:09.330906Z"
    },
    "papermill": {
     "duration": 0.044377,
     "end_time": "2021-10-13T12:12:09.331064",
     "exception": false,
     "start_time": "2021-10-13T12:12:09.286687",
     "status": "completed"
    },
    "tags": []
   },
   "outputs": [],
   "source": [
    "# #hide\n",
    "# fig, ax = plt.subplots(figsize=(15, 8))\n",
    "\n",
    "# def draw_barchart(current_day):\n",
    "#     dff = g[g['day'].eq(current_day)].sort_values(by='value', ascending=True).tail(10)\n",
    "#     ax.clear()\n",
    "#     ax.barh(dff['name'], dff['value'], color=[colors[group_lk[x]] for x in dff['name']])\n",
    "#     dx = dff['value'].max() / 200\n",
    "    \n",
    "#     for i, (value, name) in enumerate(zip(dff['value'], dff['name'])):\n",
    "#         ax.text(value-dx, i,     name,           size=14, weight=600, ha='right', va='bottom')\n",
    "#         ax.text(value-dx, i-.25, group_lk[name], size=10, color='#444444', ha='right', va='baseline')\n",
    "#         ax.text(value+dx, i,     f'{value:,.0f}',  size=14, ha='left',  va='center')\n",
    "#     ax.text(1, 0.4, current_day, transform=ax.transAxes, color='#777777', size=46, ha='right', weight=800)\n",
    "#     ax.text(0, 1.06, 'Population (thousands)', transform=ax.transAxes, size=12, color='#777777')\n",
    "#     ax.xaxis.set_major_formatter(ticker.StrMethodFormatter('{x:,.0f}'))\n",
    "#     ax.xaxis.set_ticks_position('top')\n",
    "#     ax.tick_params(axis='x', colors='#777777', labelsize=12)\n",
    "#     ax.set_yticks([])\n",
    "#     ax.margins(0, 0.01)\n",
    "#     ax.grid(which='major', axis='x', linestyle='-')\n",
    "#     ax.set_axisbelow(True)\n",
    "    \n",
    "#     ax.text(0, 1.15, 'Coronavirus',\n",
    "#             transform=ax.transAxes, size=24, weight=600, ha='left', va='top')\n",
    "# #     ax.text(1, 0, 'by @pratapvardhan; credit @jburnmurdoch', transform=ax.transAxes, color='#777777', ha='right',\n",
    "# #             bbox=dict(facecolor='white', alpha=0.8, edgecolor='white'))\n",
    "#     plt.box(False)"
   ]
  },
  {
   "cell_type": "code",
   "execution_count": 42,
   "id": "sexual-wages",
   "metadata": {
    "execution": {
     "iopub.execute_input": "2021-10-13T12:12:09.407914Z",
     "iopub.status.busy": "2021-10-13T12:12:09.407277Z",
     "iopub.status.idle": "2021-10-13T12:12:09.409617Z",
     "shell.execute_reply": "2021-10-13T12:12:09.410092Z"
    },
    "papermill": {
     "duration": 0.042986,
     "end_time": "2021-10-13T12:12:09.410231",
     "exception": false,
     "start_time": "2021-10-13T12:12:09.367245",
     "status": "completed"
    },
    "tags": []
   },
   "outputs": [],
   "source": [
    "# #hide_input\n",
    "# fig, ax = plt.subplots(figsize=(15, 8))\n",
    "# animator = animation.FuncAnimation(fig, draw_barchart, frames=range(g.day.values.min(), g.day.values.max()))\n",
    "# HTML(animator.to_jshtml())\n",
    "# # or use animator.to_html5_video() or animator.save() "
   ]
  },
  {
   "cell_type": "code",
   "execution_count": null,
   "id": "australian-container",
   "metadata": {
    "papermill": {
     "duration": 0.038553,
     "end_time": "2021-10-13T12:12:09.485116",
     "exception": false,
     "start_time": "2021-10-13T12:12:09.446563",
     "status": "completed"
    },
    "tags": []
   },
   "outputs": [],
   "source": []
  },
  {
   "cell_type": "code",
   "execution_count": null,
   "id": "mediterranean-pontiac",
   "metadata": {
    "papermill": {
     "duration": 0.035216,
     "end_time": "2021-10-13T12:12:09.558941",
     "exception": false,
     "start_time": "2021-10-13T12:12:09.523725",
     "status": "completed"
    },
    "tags": []
   },
   "outputs": [],
   "source": []
  },
  {
   "cell_type": "code",
   "execution_count": null,
   "id": "aging-legislature",
   "metadata": {
    "papermill": {
     "duration": 0.034042,
     "end_time": "2021-10-13T12:12:09.630371",
     "exception": false,
     "start_time": "2021-10-13T12:12:09.596329",
     "status": "completed"
    },
    "tags": []
   },
   "outputs": [],
   "source": []
  }
 ],
 "metadata": {
  "kernelspec": {
   "display_name": "Python 3",
   "language": "python",
   "name": "python3"
  },
  "language_info": {
   "codemirror_mode": {
    "name": "ipython",
    "version": 3
   },
   "file_extension": ".py",
   "mimetype": "text/x-python",
   "name": "python",
   "nbconvert_exporter": "python",
   "pygments_lexer": "ipython3",
   "version": "3.6.15"
  },
  "papermill": {
   "duration": 7.033657,
   "end_time": "2021-10-13T12:12:09.980718",
   "environment_variables": {},
   "exception": null,
   "input_path": "2020-03-21-covid19exp.ipynb",
   "output_path": "2020-03-21-covid19exp.ipynb",
   "parameters": {},
   "start_time": "2021-10-13T12:12:02.947061",
   "version": "2.0.0"
  }
 },
 "nbformat": 4,
 "nbformat_minor": 5
}