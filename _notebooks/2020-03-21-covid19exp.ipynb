{
 "cells": [
  {
   "cell_type": "markdown",
   "id": "muslim-click",
   "metadata": {
    "papermill": {
     "duration": 0.034272,
     "end_time": "2021-10-21T12:12:18.778354",
     "exception": false,
     "start_time": "2021-10-21T12:12:18.744082",
     "status": "completed"
    },
    "tags": []
   },
   "source": [
    "# COVID-19 Case Race\n",
    "> A race chart to see rising cases around the world\n",
    "\n",
    "- author: Hargun Oberoi\n",
    "- image: images/covid-overview.png\n",
    "- hide: false\n",
    "- badges: false"
   ]
  },
  {
   "cell_type": "code",
   "execution_count": 1,
   "id": "proof-material",
   "metadata": {
    "execution": {
     "iopub.execute_input": "2021-10-21T12:12:18.850317Z",
     "iopub.status.busy": "2021-10-21T12:12:18.849707Z",
     "iopub.status.idle": "2021-10-21T12:12:19.198614Z",
     "shell.execute_reply": "2021-10-21T12:12:19.198043Z"
    },
    "papermill": {
     "duration": 0.389744,
     "end_time": "2021-10-21T12:12:19.198773",
     "exception": false,
     "start_time": "2021-10-21T12:12:18.809029",
     "status": "completed"
    },
    "tags": []
   },
   "outputs": [],
   "source": [
    "#hide\n",
    "import numpy as np\n",
    "import pandas as pd\n",
    "from jinja2 import Template\n",
    "from IPython.display import HTML"
   ]
  },
  {
   "cell_type": "code",
   "execution_count": 2,
   "id": "developed-terminology",
   "metadata": {
    "execution": {
     "iopub.execute_input": "2021-10-21T12:12:19.267402Z",
     "iopub.status.busy": "2021-10-21T12:12:19.266801Z",
     "iopub.status.idle": "2021-10-21T12:12:19.270497Z",
     "shell.execute_reply": "2021-10-21T12:12:19.270059Z"
    },
    "papermill": {
     "duration": 0.040611,
     "end_time": "2021-10-21T12:12:19.270624",
     "exception": false,
     "start_time": "2021-10-21T12:12:19.230013",
     "status": "completed"
    },
    "tags": []
   },
   "outputs": [],
   "source": [
    "#hide\n",
    "\n",
    "# FETCH\n",
    "base_url = 'https://raw.githubusercontent.com/pratapvardhan/notebooks/master/covid19/'\n",
    "paths = {\n",
    "    'mapping': base_url + 'mapping_countries.csv',\n",
    "    'overview': base_url + 'overview.tpl'\n",
    "}"
   ]
  },
  {
   "cell_type": "code",
   "execution_count": 3,
   "id": "dynamic-saver",
   "metadata": {
    "execution": {
     "iopub.execute_input": "2021-10-21T12:12:19.341435Z",
     "iopub.status.busy": "2021-10-21T12:12:19.340884Z",
     "iopub.status.idle": "2021-10-21T12:12:19.342891Z",
     "shell.execute_reply": "2021-10-21T12:12:19.343365Z"
    },
    "papermill": {
     "duration": 0.042752,
     "end_time": "2021-10-21T12:12:19.343499",
     "exception": false,
     "start_time": "2021-10-21T12:12:19.300747",
     "status": "completed"
    },
    "tags": []
   },
   "outputs": [
    {
     "data": {
      "text/plain": [
       "'https://raw.githubusercontent.com/pratapvardhan/notebooks/master/covid19/mapping_countries.csv'"
      ]
     },
     "execution_count": 3,
     "metadata": {},
     "output_type": "execute_result"
    }
   ],
   "source": [
    "#hide\n",
    "paths['mapping']"
   ]
  },
  {
   "cell_type": "code",
   "execution_count": 4,
   "id": "urban-software",
   "metadata": {
    "execution": {
     "iopub.execute_input": "2021-10-21T12:12:19.410059Z",
     "iopub.status.busy": "2021-10-21T12:12:19.409499Z",
     "iopub.status.idle": "2021-10-21T12:12:19.411079Z",
     "shell.execute_reply": "2021-10-21T12:12:19.411483Z"
    },
    "papermill": {
     "duration": 0.037538,
     "end_time": "2021-10-21T12:12:19.411609",
     "exception": false,
     "start_time": "2021-10-21T12:12:19.374071",
     "status": "completed"
    },
    "tags": []
   },
   "outputs": [],
   "source": [
    "#hide\n",
    "def get_mappings(url):\n",
    "    df = pd.read_csv(url)\n",
    "    return {\n",
    "        'df': df,\n",
    "        'replace.country': dict(df.dropna(subset=['Name']).set_index('Country')['Name']),\n",
    "        'map.continent': dict(df.set_index('Name')['Continent'])\n",
    "    }"
   ]
  },
  {
   "cell_type": "code",
   "execution_count": 5,
   "id": "intimate-machinery",
   "metadata": {
    "execution": {
     "iopub.execute_input": "2021-10-21T12:12:19.478119Z",
     "iopub.status.busy": "2021-10-21T12:12:19.477551Z",
     "iopub.status.idle": "2021-10-21T12:12:19.507341Z",
     "shell.execute_reply": "2021-10-21T12:12:19.506786Z"
    },
    "papermill": {
     "duration": 0.065546,
     "end_time": "2021-10-21T12:12:19.507477",
     "exception": false,
     "start_time": "2021-10-21T12:12:19.441931",
     "status": "completed"
    },
    "tags": []
   },
   "outputs": [],
   "source": [
    "#hide\n",
    "mapping = get_mappings(paths['mapping'])"
   ]
  },
  {
   "cell_type": "code",
   "execution_count": 6,
   "id": "certified-tactics",
   "metadata": {
    "execution": {
     "iopub.execute_input": "2021-10-21T12:12:19.574437Z",
     "iopub.status.busy": "2021-10-21T12:12:19.573878Z",
     "iopub.status.idle": "2021-10-21T12:12:19.575429Z",
     "shell.execute_reply": "2021-10-21T12:12:19.575905Z"
    },
    "papermill": {
     "duration": 0.037688,
     "end_time": "2021-10-21T12:12:19.576038",
     "exception": false,
     "start_time": "2021-10-21T12:12:19.538350",
     "status": "completed"
    },
    "tags": []
   },
   "outputs": [],
   "source": [
    "#hide\n",
    "def get_template(path):\n",
    "    from urllib.parse import urlparse\n",
    "    if bool(urlparse(path).netloc):\n",
    "        from urllib.request import urlopen\n",
    "        return urlopen(path).read().decode('utf8')\n",
    "    return open(path).read()"
   ]
  },
  {
   "cell_type": "code",
   "execution_count": 7,
   "id": "realistic-blast",
   "metadata": {
    "execution": {
     "iopub.execute_input": "2021-10-21T12:12:19.642279Z",
     "iopub.status.busy": "2021-10-21T12:12:19.641737Z",
     "iopub.status.idle": "2021-10-21T12:12:19.644137Z",
     "shell.execute_reply": "2021-10-21T12:12:19.643725Z"
    },
    "papermill": {
     "duration": 0.037579,
     "end_time": "2021-10-21T12:12:19.644255",
     "exception": false,
     "start_time": "2021-10-21T12:12:19.606676",
     "status": "completed"
    },
    "tags": []
   },
   "outputs": [],
   "source": [
    "#hide\n",
    "def get_frame(name):\n",
    "    url = (\n",
    "        'https://raw.githubusercontent.com/CSSEGISandData/COVID-19/master/csse_covid_19_data/'\n",
    "        f'csse_covid_19_time_series/time_series_covid19_{name}_global.csv')\n",
    "    df = pd.read_csv(url)\n",
    "    # rename countries\n",
    "    df['Country/Region'] = df['Country/Region'].replace(mapping['replace.country'])\n",
    "    return df"
   ]
  },
  {
   "cell_type": "code",
   "execution_count": 8,
   "id": "affiliated-characterization",
   "metadata": {
    "execution": {
     "iopub.execute_input": "2021-10-21T12:12:19.711826Z",
     "iopub.status.busy": "2021-10-21T12:12:19.711293Z",
     "iopub.status.idle": "2021-10-21T12:12:19.713511Z",
     "shell.execute_reply": "2021-10-21T12:12:19.713095Z"
    },
    "papermill": {
     "duration": 0.038826,
     "end_time": "2021-10-21T12:12:19.713635",
     "exception": false,
     "start_time": "2021-10-21T12:12:19.674809",
     "status": "completed"
    },
    "tags": []
   },
   "outputs": [],
   "source": [
    "#hide\n",
    "def get_dates(df):\n",
    "    dt_cols = df.columns[~df.columns.isin(['Province/State', 'Country/Region', 'Lat', 'Long'])]\n",
    "    LAST_DATE_I = -1\n",
    "    # sometimes last column may be empty, then go backwards\n",
    "    for i in range(-1, -len(dt_cols), -1):\n",
    "        if not df[dt_cols[i]].fillna(0).eq(0).all():\n",
    "            LAST_DATE_I = i\n",
    "            break\n",
    "    return LAST_DATE_I, dt_cols"
   ]
  },
  {
   "cell_type": "code",
   "execution_count": 9,
   "id": "recent-optimization",
   "metadata": {
    "execution": {
     "iopub.execute_input": "2021-10-21T12:12:19.780613Z",
     "iopub.status.busy": "2021-10-21T12:12:19.780054Z",
     "iopub.status.idle": "2021-10-21T12:12:20.073898Z",
     "shell.execute_reply": "2021-10-21T12:12:20.073334Z"
    },
    "papermill": {
     "duration": 0.329859,
     "end_time": "2021-10-21T12:12:20.074046",
     "exception": false,
     "start_time": "2021-10-21T12:12:19.744187",
     "status": "completed"
    },
    "tags": []
   },
   "outputs": [],
   "source": [
    "#hide\n",
    "COL_REGION = 'Country/Region'\n",
    "# Confirmed, Recovered, Deaths\n",
    "df = get_frame('confirmed')\n",
    "# dft_: timeseries, dfc_: today country agg\n",
    "dft_cases = df\n",
    "dft_deaths = get_frame('deaths')\n",
    "dft_recovered = get_frame('recovered')\n",
    "LAST_DATE_I, dt_cols = get_dates(df)"
   ]
  },
  {
   "cell_type": "code",
   "execution_count": 10,
   "id": "absolute-copper",
   "metadata": {
    "execution": {
     "iopub.execute_input": "2021-10-21T12:12:20.143717Z",
     "iopub.status.busy": "2021-10-21T12:12:20.142445Z",
     "iopub.status.idle": "2021-10-21T12:12:20.144301Z",
     "shell.execute_reply": "2021-10-21T12:12:20.144702Z"
    },
    "papermill": {
     "duration": 0.039004,
     "end_time": "2021-10-21T12:12:20.144835",
     "exception": false,
     "start_time": "2021-10-21T12:12:20.105831",
     "status": "completed"
    },
    "tags": []
   },
   "outputs": [],
   "source": [
    "#hide\n",
    "LAST_DATE_I, dt_cols = get_dates(df)\n",
    "dt_today =dt_cols[LAST_DATE_I]\n",
    "# dt_5day = dt_cols[LAST_DATE_I - 5]\n",
    "dt_yday = dt_cols[LAST_DATE_I - 1]"
   ]
  },
  {
   "cell_type": "code",
   "execution_count": 11,
   "id": "restricted-sheriff",
   "metadata": {
    "execution": {
     "iopub.execute_input": "2021-10-21T12:12:20.211972Z",
     "iopub.status.busy": "2021-10-21T12:12:20.211431Z",
     "iopub.status.idle": "2021-10-21T12:12:20.219207Z",
     "shell.execute_reply": "2021-10-21T12:12:20.218756Z"
    },
    "papermill": {
     "duration": 0.044109,
     "end_time": "2021-10-21T12:12:20.219325",
     "exception": false,
     "start_time": "2021-10-21T12:12:20.175216",
     "status": "completed"
    },
    "tags": []
   },
   "outputs": [],
   "source": [
    "#hide\n",
    "dfc_cases = dft_cases.groupby(COL_REGION)[dt_today].sum()\n",
    "dfc_deaths = dft_deaths.groupby(COL_REGION)[dt_today].sum()\n",
    "# dfp_cases = dft_cases.groupby(COL_REGION)[dt_5day].sum()\n",
    "# dfp_deaths = dft_deaths.groupby(COL_REGION)[dt_5day].sum()\n",
    "dfp_cases = dft_cases.groupby(COL_REGION)[dt_yday].sum()\n",
    "dfp_deaths = dft_deaths.groupby(COL_REGION)[dt_yday].sum()"
   ]
  },
  {
   "cell_type": "code",
   "execution_count": 12,
   "id": "deluxe-hepatitis",
   "metadata": {
    "execution": {
     "iopub.execute_input": "2021-10-21T12:12:20.288118Z",
     "iopub.status.busy": "2021-10-21T12:12:20.287581Z",
     "iopub.status.idle": "2021-10-21T12:12:20.291902Z",
     "shell.execute_reply": "2021-10-21T12:12:20.291477Z"
    },
    "papermill": {
     "duration": 0.041909,
     "end_time": "2021-10-21T12:12:20.292026",
     "exception": false,
     "start_time": "2021-10-21T12:12:20.250117",
     "status": "completed"
    },
    "tags": []
   },
   "outputs": [],
   "source": [
    "#hide\n",
    "df_table = (pd.DataFrame(dict(Cases = dfc_cases, Deaths = dfc_deaths, PCases = dfp_cases, PDeaths = dfp_deaths))\n",
    "            .sort_values(by = ['Cases','Deaths'], ascending = [False, False])\n",
    "            .reset_index())"
   ]
  },
  {
   "cell_type": "code",
   "execution_count": 13,
   "id": "educational-chancellor",
   "metadata": {
    "execution": {
     "iopub.execute_input": "2021-10-21T12:12:20.370984Z",
     "iopub.status.busy": "2021-10-21T12:12:20.356021Z",
     "iopub.status.idle": "2021-10-21T12:12:20.379062Z",
     "shell.execute_reply": "2021-10-21T12:12:20.379448Z"
    },
    "papermill": {
     "duration": 0.056988,
     "end_time": "2021-10-21T12:12:20.379591",
     "exception": false,
     "start_time": "2021-10-21T12:12:20.322603",
     "status": "completed"
    },
    "tags": []
   },
   "outputs": [
    {
     "data": {
      "text/html": [
       "<div>\n",
       "<style scoped>\n",
       "    .dataframe tbody tr th:only-of-type {\n",
       "        vertical-align: middle;\n",
       "    }\n",
       "\n",
       "    .dataframe tbody tr th {\n",
       "        vertical-align: top;\n",
       "    }\n",
       "\n",
       "    .dataframe thead th {\n",
       "        text-align: right;\n",
       "    }\n",
       "</style>\n",
       "<table border=\"1\" class=\"dataframe\">\n",
       "  <thead>\n",
       "    <tr style=\"text-align: right;\">\n",
       "      <th></th>\n",
       "      <th>Country/Region</th>\n",
       "      <th>Cases</th>\n",
       "      <th>Deaths</th>\n",
       "      <th>PCases</th>\n",
       "      <th>PDeaths</th>\n",
       "      <th>Cases (+)</th>\n",
       "      <th>Deaths (+)</th>\n",
       "      <th>Fatality Rate</th>\n",
       "      <th>Continent</th>\n",
       "    </tr>\n",
       "  </thead>\n",
       "  <tbody>\n",
       "    <tr>\n",
       "      <th>0</th>\n",
       "      <td>US</td>\n",
       "      <td>45218907</td>\n",
       "      <td>731263</td>\n",
       "      <td>45132148</td>\n",
       "      <td>728192</td>\n",
       "      <td>86759</td>\n",
       "      <td>3071</td>\n",
       "      <td>1.62</td>\n",
       "      <td>North America</td>\n",
       "    </tr>\n",
       "    <tr>\n",
       "      <th>1</th>\n",
       "      <td>India</td>\n",
       "      <td>34127450</td>\n",
       "      <td>452811</td>\n",
       "      <td>34108996</td>\n",
       "      <td>452651</td>\n",
       "      <td>18454</td>\n",
       "      <td>160</td>\n",
       "      <td>1.33</td>\n",
       "      <td>Asia</td>\n",
       "    </tr>\n",
       "    <tr>\n",
       "      <th>2</th>\n",
       "      <td>Brazil</td>\n",
       "      <td>21680488</td>\n",
       "      <td>604228</td>\n",
       "      <td>21664879</td>\n",
       "      <td>603855</td>\n",
       "      <td>15609</td>\n",
       "      <td>373</td>\n",
       "      <td>2.79</td>\n",
       "      <td>South America</td>\n",
       "    </tr>\n",
       "    <tr>\n",
       "      <th>3</th>\n",
       "      <td>United Kingdom</td>\n",
       "      <td>8630076</td>\n",
       "      <td>139444</td>\n",
       "      <td>8581278</td>\n",
       "      <td>139265</td>\n",
       "      <td>48798</td>\n",
       "      <td>179</td>\n",
       "      <td>1.62</td>\n",
       "      <td>Europe</td>\n",
       "    </tr>\n",
       "    <tr>\n",
       "      <th>4</th>\n",
       "      <td>Russia</td>\n",
       "      <td>7969960</td>\n",
       "      <td>222320</td>\n",
       "      <td>7936798</td>\n",
       "      <td>221314</td>\n",
       "      <td>33162</td>\n",
       "      <td>1006</td>\n",
       "      <td>2.79</td>\n",
       "      <td>Europe</td>\n",
       "    </tr>\n",
       "  </tbody>\n",
       "</table>\n",
       "</div>"
      ],
      "text/plain": [
       "   Country/Region     Cases  Deaths    PCases  PDeaths  Cases (+)  Deaths (+)  \\\n",
       "0              US  45218907  731263  45132148   728192      86759        3071   \n",
       "1           India  34127450  452811  34108996   452651      18454         160   \n",
       "2          Brazil  21680488  604228  21664879   603855      15609         373   \n",
       "3  United Kingdom   8630076  139444   8581278   139265      48798         179   \n",
       "4          Russia   7969960  222320   7936798   221314      33162        1006   \n",
       "\n",
       "   Fatality Rate      Continent  \n",
       "0           1.62  North America  \n",
       "1           1.33           Asia  \n",
       "2           2.79  South America  \n",
       "3           1.62         Europe  \n",
       "4           2.79         Europe  "
      ]
     },
     "execution_count": 13,
     "metadata": {},
     "output_type": "execute_result"
    }
   ],
   "source": [
    "#hide\n",
    "for c in 'Cases, Deaths'.split(', '):\n",
    "    df_table[f'{c} (+)'] = (df_table[c] - df_table[f'P{c}']).clip(0)\n",
    "    #Clip ça veut dire, les chiffres negatif sont interdit\n",
    "df_table['Fatality Rate'] = (100* df_table['Deaths']/ df_table['Cases']).round(2)\n",
    "df_table['Continent'] = df_table['Country/Region'].map(mapping['map.continent'])\n",
    "df_table.head(5)"
   ]
  },
  {
   "cell_type": "code",
   "execution_count": 14,
   "id": "aboriginal-bulgaria",
   "metadata": {
    "execution": {
     "iopub.execute_input": "2021-10-21T12:12:20.447917Z",
     "iopub.status.busy": "2021-10-21T12:12:20.447389Z",
     "iopub.status.idle": "2021-10-21T12:12:20.449585Z",
     "shell.execute_reply": "2021-10-21T12:12:20.449174Z"
    },
    "papermill": {
     "duration": 0.039088,
     "end_time": "2021-10-21T12:12:20.449726",
     "exception": false,
     "start_time": "2021-10-21T12:12:20.410638",
     "status": "completed"
    },
    "tags": []
   },
   "outputs": [],
   "source": [
    "#hide\n",
    "#delete problematic countries from table\n",
    "df_table = df_table[~df_table['Country/Region'].isin(['Cape Verde', 'Cruise Ship', 'Kosovo'])]"
   ]
  },
  {
   "cell_type": "code",
   "execution_count": 15,
   "id": "fantastic-effect",
   "metadata": {
    "execution": {
     "iopub.execute_input": "2021-10-21T12:12:20.521279Z",
     "iopub.status.busy": "2021-10-21T12:12:20.520737Z",
     "iopub.status.idle": "2021-10-21T12:12:20.538022Z",
     "shell.execute_reply": "2021-10-21T12:12:20.538474Z"
    },
    "papermill": {
     "duration": 0.057747,
     "end_time": "2021-10-21T12:12:20.538622",
     "exception": false,
     "start_time": "2021-10-21T12:12:20.480875",
     "status": "completed"
    },
    "tags": []
   },
   "outputs": [
    {
     "data": {
      "text/html": [
       "<div>\n",
       "<style scoped>\n",
       "    .dataframe tbody tr th:only-of-type {\n",
       "        vertical-align: middle;\n",
       "    }\n",
       "\n",
       "    .dataframe tbody tr th {\n",
       "        vertical-align: top;\n",
       "    }\n",
       "\n",
       "    .dataframe thead th {\n",
       "        text-align: right;\n",
       "    }\n",
       "</style>\n",
       "<table border=\"1\" class=\"dataframe\">\n",
       "  <thead>\n",
       "    <tr style=\"text-align: right;\">\n",
       "      <th></th>\n",
       "      <th>Country/Region</th>\n",
       "      <th>Cases</th>\n",
       "      <th>Deaths</th>\n",
       "      <th>PCases</th>\n",
       "      <th>PDeaths</th>\n",
       "      <th>Cases (+)</th>\n",
       "      <th>Deaths (+)</th>\n",
       "      <th>Fatality Rate</th>\n",
       "      <th>Continent</th>\n",
       "    </tr>\n",
       "  </thead>\n",
       "  <tbody>\n",
       "    <tr>\n",
       "      <th>0</th>\n",
       "      <td>US</td>\n",
       "      <td>45218907</td>\n",
       "      <td>731263</td>\n",
       "      <td>45132148</td>\n",
       "      <td>728192</td>\n",
       "      <td>86759</td>\n",
       "      <td>3071</td>\n",
       "      <td>1.6</td>\n",
       "      <td>North America</td>\n",
       "    </tr>\n",
       "    <tr>\n",
       "      <th>1</th>\n",
       "      <td>India</td>\n",
       "      <td>34127450</td>\n",
       "      <td>452811</td>\n",
       "      <td>34108996</td>\n",
       "      <td>452651</td>\n",
       "      <td>18454</td>\n",
       "      <td>160</td>\n",
       "      <td>1.3</td>\n",
       "      <td>Asia</td>\n",
       "    </tr>\n",
       "    <tr>\n",
       "      <th>2</th>\n",
       "      <td>Brazil</td>\n",
       "      <td>21680488</td>\n",
       "      <td>604228</td>\n",
       "      <td>21664879</td>\n",
       "      <td>603855</td>\n",
       "      <td>15609</td>\n",
       "      <td>373</td>\n",
       "      <td>2.8</td>\n",
       "      <td>South America</td>\n",
       "    </tr>\n",
       "    <tr>\n",
       "      <th>3</th>\n",
       "      <td>United Kingdom</td>\n",
       "      <td>8630076</td>\n",
       "      <td>139444</td>\n",
       "      <td>8581278</td>\n",
       "      <td>139265</td>\n",
       "      <td>48798</td>\n",
       "      <td>179</td>\n",
       "      <td>1.6</td>\n",
       "      <td>Europe</td>\n",
       "    </tr>\n",
       "    <tr>\n",
       "      <th>4</th>\n",
       "      <td>Russia</td>\n",
       "      <td>7969960</td>\n",
       "      <td>222320</td>\n",
       "      <td>7936798</td>\n",
       "      <td>221314</td>\n",
       "      <td>33162</td>\n",
       "      <td>1006</td>\n",
       "      <td>2.8</td>\n",
       "      <td>Europe</td>\n",
       "    </tr>\n",
       "  </tbody>\n",
       "</table>\n",
       "</div>"
      ],
      "text/plain": [
       "   Country/Region     Cases  Deaths    PCases  PDeaths  Cases (+)  Deaths (+)  \\\n",
       "0              US  45218907  731263  45132148   728192      86759        3071   \n",
       "1           India  34127450  452811  34108996   452651      18454         160   \n",
       "2          Brazil  21680488  604228  21664879   603855      15609         373   \n",
       "3  United Kingdom   8630076  139444   8581278   139265      48798         179   \n",
       "4          Russia   7969960  222320   7936798   221314      33162        1006   \n",
       "\n",
       "   Fatality Rate      Continent  \n",
       "0            1.6  North America  \n",
       "1            1.3           Asia  \n",
       "2            2.8  South America  \n",
       "3            1.6         Europe  \n",
       "4            2.8         Europe  "
      ]
     },
     "execution_count": 15,
     "metadata": {},
     "output_type": "execute_result"
    }
   ],
   "source": [
    "#hide\n",
    "df_table = (pd.DataFrame(dict(Cases=dfc_cases, Deaths=dfc_deaths, PCases=dfp_cases, PDeaths=dfp_deaths))\n",
    "             .sort_values(by=['Cases', 'Deaths'], ascending=[False, False])\n",
    "             .reset_index())\n",
    "df_table.rename(columns={'index': 'Country/Region'}, inplace=True)\n",
    "for c in 'Cases, Deaths'.split(', '):\n",
    "    df_table[f'{c} (+)'] = (df_table[c] - df_table[f'P{c}']).clip(0)  # DATA BUG\n",
    "df_table['Fatality Rate'] = (100 * df_table['Deaths'] / df_table['Cases']).round(1)\n",
    "df_table['Continent'] = df_table['Country/Region'].map(mapping['map.continent'])\n",
    "df_table.head(5)"
   ]
  },
  {
   "cell_type": "code",
   "execution_count": 16,
   "id": "fewer-occasion",
   "metadata": {
    "execution": {
     "iopub.execute_input": "2021-10-21T12:12:20.608020Z",
     "iopub.status.busy": "2021-10-21T12:12:20.607471Z",
     "iopub.status.idle": "2021-10-21T12:12:20.609339Z",
     "shell.execute_reply": "2021-10-21T12:12:20.609757Z"
    },
    "papermill": {
     "duration": 0.039742,
     "end_time": "2021-10-21T12:12:20.609902",
     "exception": false,
     "start_time": "2021-10-21T12:12:20.570160",
     "status": "completed"
    },
    "tags": []
   },
   "outputs": [],
   "source": [
    "#hide\n",
    "#delete problematic countries from table\n",
    "df_table = df_table[~df_table['Country/Region'].isin(['Cape Verde', 'Cruise Ship', 'Kosovo'])]"
   ]
  },
  {
   "cell_type": "code",
   "execution_count": 17,
   "id": "related-center",
   "metadata": {
    "execution": {
     "iopub.execute_input": "2021-10-21T12:12:20.680245Z",
     "iopub.status.busy": "2021-10-21T12:12:20.679714Z",
     "iopub.status.idle": "2021-10-21T12:12:20.693945Z",
     "shell.execute_reply": "2021-10-21T12:12:20.693485Z"
    },
    "papermill": {
     "duration": 0.052781,
     "end_time": "2021-10-21T12:12:20.694071",
     "exception": false,
     "start_time": "2021-10-21T12:12:20.641290",
     "status": "completed"
    },
    "tags": []
   },
   "outputs": [],
   "source": [
    "#hide\n",
    "metrics = [df_table.columns[index] for index in [1,2,5,6]]\n",
    "# s_china = df_table[df_table['Country/Region'].eq('China')][metrics].sum().add_prefix('China ')\n",
    "s_us = df_table[df_table['Country/Region'].eq('US')][metrics].sum().add_prefix('US ')\n",
    "s_eu = df_table[df_table['Continent'].eq('Europe')][metrics].sum().add_prefix('EU ')\n",
    "s_ind = df_table[df_table['Country/Region'].eq('India')][metrics].sum().add_prefix('India ')\n",
    "summary = {'updated': pd.to_datetime(dt_today), 'since': pd.to_datetime(dt_yday)}\n",
    "summary = {'updated': pd.to_datetime(dt_today), 'since': pd.to_datetime(dt_yday)}\n",
    "summary = {**summary, **df_table[metrics].sum(), **s_ind, **s_us, **s_eu}"
   ]
  },
  {
   "cell_type": "code",
   "execution_count": 18,
   "id": "engaging-syndrome",
   "metadata": {
    "execution": {
     "iopub.execute_input": "2021-10-21T12:12:20.762778Z",
     "iopub.status.busy": "2021-10-21T12:12:20.762251Z",
     "iopub.status.idle": "2021-10-21T12:12:20.777096Z",
     "shell.execute_reply": "2021-10-21T12:12:20.776669Z"
    },
    "papermill": {
     "duration": 0.051551,
     "end_time": "2021-10-21T12:12:20.777218",
     "exception": false,
     "start_time": "2021-10-21T12:12:20.725667",
     "status": "completed"
    },
    "tags": []
   },
   "outputs": [],
   "source": [
    "#hide\n",
    "dft_ct_new_cases = dft_cases.groupby(COL_REGION)[dt_cols].sum().diff(axis=1).fillna(0).astype(int)"
   ]
  },
  {
   "cell_type": "code",
   "execution_count": 19,
   "id": "neutral-assignment",
   "metadata": {
    "execution": {
     "iopub.execute_input": "2021-10-21T12:12:20.844489Z",
     "iopub.status.busy": "2021-10-21T12:12:20.843950Z",
     "iopub.status.idle": "2021-10-21T12:12:20.848508Z",
     "shell.execute_reply": "2021-10-21T12:12:20.847994Z"
    },
    "papermill": {
     "duration": 0.040013,
     "end_time": "2021-10-21T12:12:20.848624",
     "exception": false,
     "start_time": "2021-10-21T12:12:20.808611",
     "status": "completed"
    },
    "tags": []
   },
   "outputs": [],
   "source": [
    "#hide\n",
    "everydaycases = dft_ct_new_cases.cumsum(axis=1)"
   ]
  },
  {
   "cell_type": "code",
   "execution_count": 20,
   "id": "parliamentary-calgary",
   "metadata": {
    "execution": {
     "iopub.execute_input": "2021-10-21T12:12:20.916659Z",
     "iopub.status.busy": "2021-10-21T12:12:20.916128Z",
     "iopub.status.idle": "2021-10-21T12:12:21.600325Z",
     "shell.execute_reply": "2021-10-21T12:12:21.599775Z"
    },
    "papermill": {
     "duration": 0.720112,
     "end_time": "2021-10-21T12:12:21.600468",
     "exception": false,
     "start_time": "2021-10-21T12:12:20.880356",
     "status": "completed"
    },
    "tags": []
   },
   "outputs": [],
   "source": [
    "#hide\n",
    "import pandas as pd\n",
    "import matplotlib.pyplot as plt\n",
    "import matplotlib.ticker as ticker\n",
    "import matplotlib.animation as animation\n",
    "from IPython.display import HTML"
   ]
  },
  {
   "cell_type": "code",
   "execution_count": 21,
   "id": "lasting-extraction",
   "metadata": {
    "execution": {
     "iopub.execute_input": "2021-10-21T12:12:21.670351Z",
     "iopub.status.busy": "2021-10-21T12:12:21.669795Z",
     "iopub.status.idle": "2021-10-21T12:12:21.675856Z",
     "shell.execute_reply": "2021-10-21T12:12:21.676315Z"
    },
    "papermill": {
     "duration": 0.044219,
     "end_time": "2021-10-21T12:12:21.676458",
     "exception": false,
     "start_time": "2021-10-21T12:12:21.632239",
     "status": "completed"
    },
    "tags": []
   },
   "outputs": [],
   "source": [
    "#hide\n",
    "t = everydaycases.stack()"
   ]
  },
  {
   "cell_type": "code",
   "execution_count": 22,
   "id": "premier-sleeve",
   "metadata": {
    "execution": {
     "iopub.execute_input": "2021-10-21T12:12:21.744399Z",
     "iopub.status.busy": "2021-10-21T12:12:21.743853Z",
     "iopub.status.idle": "2021-10-21T12:12:21.753134Z",
     "shell.execute_reply": "2021-10-21T12:12:21.752696Z"
    },
    "papermill": {
     "duration": 0.045047,
     "end_time": "2021-10-21T12:12:21.753258",
     "exception": false,
     "start_time": "2021-10-21T12:12:21.708211",
     "status": "completed"
    },
    "tags": []
   },
   "outputs": [],
   "source": [
    "#hide\n",
    "g = t.reset_index(['Country/Region'])"
   ]
  },
  {
   "cell_type": "code",
   "execution_count": 23,
   "id": "distributed-pittsburgh",
   "metadata": {
    "execution": {
     "iopub.execute_input": "2021-10-21T12:12:21.820672Z",
     "iopub.status.busy": "2021-10-21T12:12:21.820153Z",
     "iopub.status.idle": "2021-10-21T12:12:21.821973Z",
     "shell.execute_reply": "2021-10-21T12:12:21.822388Z"
    },
    "papermill": {
     "duration": 0.037733,
     "end_time": "2021-10-21T12:12:21.822522",
     "exception": false,
     "start_time": "2021-10-21T12:12:21.784789",
     "status": "completed"
    },
    "tags": []
   },
   "outputs": [],
   "source": [
    "#hide\n",
    "g.index.name = 'date'"
   ]
  },
  {
   "cell_type": "code",
   "execution_count": 24,
   "id": "naked-donor",
   "metadata": {
    "execution": {
     "iopub.execute_input": "2021-10-21T12:12:21.890177Z",
     "iopub.status.busy": "2021-10-21T12:12:21.889603Z",
     "iopub.status.idle": "2021-10-21T12:12:21.891669Z",
     "shell.execute_reply": "2021-10-21T12:12:21.891228Z"
    },
    "papermill": {
     "duration": 0.037315,
     "end_time": "2021-10-21T12:12:21.891785",
     "exception": false,
     "start_time": "2021-10-21T12:12:21.854470",
     "status": "completed"
    },
    "tags": []
   },
   "outputs": [],
   "source": [
    "# #hide\n",
    "# g = g.reset_index(['date'])"
   ]
  },
  {
   "cell_type": "code",
   "execution_count": 25,
   "id": "incomplete-mustang",
   "metadata": {
    "execution": {
     "iopub.execute_input": "2021-10-21T12:12:21.958775Z",
     "iopub.status.busy": "2021-10-21T12:12:21.958257Z",
     "iopub.status.idle": "2021-10-21T12:12:21.960487Z",
     "shell.execute_reply": "2021-10-21T12:12:21.960075Z"
    },
    "papermill": {
     "duration": 0.037327,
     "end_time": "2021-10-21T12:12:21.960604",
     "exception": false,
     "start_time": "2021-10-21T12:12:21.923277",
     "status": "completed"
    },
    "tags": []
   },
   "outputs": [],
   "source": [
    "#hide\n",
    "# g.head()"
   ]
  },
  {
   "cell_type": "code",
   "execution_count": 26,
   "id": "specific-kruger",
   "metadata": {
    "execution": {
     "iopub.execute_input": "2021-10-21T12:12:22.027827Z",
     "iopub.status.busy": "2021-10-21T12:12:22.027293Z",
     "iopub.status.idle": "2021-10-21T12:12:22.029059Z",
     "shell.execute_reply": "2021-10-21T12:12:22.029492Z"
    },
    "papermill": {
     "duration": 0.037395,
     "end_time": "2021-10-21T12:12:22.029622",
     "exception": false,
     "start_time": "2021-10-21T12:12:21.992227",
     "status": "completed"
    },
    "tags": []
   },
   "outputs": [],
   "source": [
    "#hide\n",
    "# g.columns = ['date','country','cases']"
   ]
  },
  {
   "cell_type": "code",
   "execution_count": 27,
   "id": "tender-conversion",
   "metadata": {
    "execution": {
     "iopub.execute_input": "2021-10-21T12:12:22.096218Z",
     "iopub.status.busy": "2021-10-21T12:12:22.095679Z",
     "iopub.status.idle": "2021-10-21T12:12:22.097604Z",
     "shell.execute_reply": "2021-10-21T12:12:22.098127Z"
    },
    "papermill": {
     "duration": 0.037511,
     "end_time": "2021-10-21T12:12:22.098269",
     "exception": false,
     "start_time": "2021-10-21T12:12:22.060758",
     "status": "completed"
    },
    "tags": []
   },
   "outputs": [],
   "source": [
    "#hide\n",
    "# g['continent'] = g.country"
   ]
  },
  {
   "cell_type": "code",
   "execution_count": 28,
   "id": "substantial-wilderness",
   "metadata": {
    "execution": {
     "iopub.execute_input": "2021-10-21T12:12:22.165278Z",
     "iopub.status.busy": "2021-10-21T12:12:22.164762Z",
     "iopub.status.idle": "2021-10-21T12:12:22.166890Z",
     "shell.execute_reply": "2021-10-21T12:12:22.166479Z"
    },
    "papermill": {
     "duration": 0.037133,
     "end_time": "2021-10-21T12:12:22.167007",
     "exception": false,
     "start_time": "2021-10-21T12:12:22.129874",
     "status": "completed"
    },
    "tags": []
   },
   "outputs": [],
   "source": [
    "#hide\n",
    "# cols = list(g.columns.values)"
   ]
  },
  {
   "cell_type": "code",
   "execution_count": 29,
   "id": "solved-farming",
   "metadata": {
    "execution": {
     "iopub.execute_input": "2021-10-21T12:12:22.233918Z",
     "iopub.status.busy": "2021-10-21T12:12:22.233355Z",
     "iopub.status.idle": "2021-10-21T12:12:22.235622Z",
     "shell.execute_reply": "2021-10-21T12:12:22.235207Z"
    },
    "papermill": {
     "duration": 0.037225,
     "end_time": "2021-10-21T12:12:22.235745",
     "exception": false,
     "start_time": "2021-10-21T12:12:22.198520",
     "status": "completed"
    },
    "tags": []
   },
   "outputs": [],
   "source": [
    "#hide\n",
    "# cols.insert(0, cols.pop())"
   ]
  },
  {
   "cell_type": "code",
   "execution_count": 30,
   "id": "executed-adoption",
   "metadata": {
    "execution": {
     "iopub.execute_input": "2021-10-21T12:12:22.302829Z",
     "iopub.status.busy": "2021-10-21T12:12:22.302292Z",
     "iopub.status.idle": "2021-10-21T12:12:22.304552Z",
     "shell.execute_reply": "2021-10-21T12:12:22.304130Z"
    },
    "papermill": {
     "duration": 0.037315,
     "end_time": "2021-10-21T12:12:22.304671",
     "exception": false,
     "start_time": "2021-10-21T12:12:22.267356",
     "status": "completed"
    },
    "tags": []
   },
   "outputs": [],
   "source": [
    "#hide\n",
    "# g = g[cols]"
   ]
  },
  {
   "cell_type": "code",
   "execution_count": 31,
   "id": "subject-dublin",
   "metadata": {
    "execution": {
     "iopub.execute_input": "2021-10-21T12:12:22.371571Z",
     "iopub.status.busy": "2021-10-21T12:12:22.371054Z",
     "iopub.status.idle": "2021-10-21T12:12:22.373206Z",
     "shell.execute_reply": "2021-10-21T12:12:22.372772Z"
    },
    "papermill": {
     "duration": 0.037239,
     "end_time": "2021-10-21T12:12:22.373322",
     "exception": false,
     "start_time": "2021-10-21T12:12:22.336083",
     "status": "completed"
    },
    "tags": []
   },
   "outputs": [],
   "source": [
    "#hide\n",
    "# g['continent'] = g['continent'].map(mapping['map.continent'])"
   ]
  },
  {
   "cell_type": "code",
   "execution_count": 32,
   "id": "freelance-scout",
   "metadata": {
    "execution": {
     "iopub.execute_input": "2021-10-21T12:12:22.442075Z",
     "iopub.status.busy": "2021-10-21T12:12:22.441519Z",
     "iopub.status.idle": "2021-10-21T12:12:22.443753Z",
     "shell.execute_reply": "2021-10-21T12:12:22.443317Z"
    },
    "papermill": {
     "duration": 0.038942,
     "end_time": "2021-10-21T12:12:22.443865",
     "exception": false,
     "start_time": "2021-10-21T12:12:22.404923",
     "status": "completed"
    },
    "tags": []
   },
   "outputs": [],
   "source": [
    "#hide\n",
    "# g.head()"
   ]
  },
  {
   "cell_type": "code",
   "execution_count": 33,
   "id": "limited-engine",
   "metadata": {
    "execution": {
     "iopub.execute_input": "2021-10-21T12:12:22.510856Z",
     "iopub.status.busy": "2021-10-21T12:12:22.510293Z",
     "iopub.status.idle": "2021-10-21T12:12:22.512674Z",
     "shell.execute_reply": "2021-10-21T12:12:22.512243Z"
    },
    "papermill": {
     "duration": 0.037567,
     "end_time": "2021-10-21T12:12:22.512799",
     "exception": false,
     "start_time": "2021-10-21T12:12:22.475232",
     "status": "completed"
    },
    "tags": []
   },
   "outputs": [],
   "source": [
    "# hide\n",
    "# g['date'] = g['date'].astype('datetime64[ns]')"
   ]
  },
  {
   "cell_type": "code",
   "execution_count": 34,
   "id": "sophisticated-supervisor",
   "metadata": {
    "execution": {
     "iopub.execute_input": "2021-10-21T12:12:22.580004Z",
     "iopub.status.busy": "2021-10-21T12:12:22.579468Z",
     "iopub.status.idle": "2021-10-21T12:12:22.581228Z",
     "shell.execute_reply": "2021-10-21T12:12:22.581682Z"
    },
    "papermill": {
     "duration": 0.037316,
     "end_time": "2021-10-21T12:12:22.581819",
     "exception": false,
     "start_time": "2021-10-21T12:12:22.544503",
     "status": "completed"
    },
    "tags": []
   },
   "outputs": [],
   "source": [
    "#hide\n",
    "# g['date'] = g.date.dt.dayofyear"
   ]
  },
  {
   "cell_type": "code",
   "execution_count": 35,
   "id": "inside-dubai",
   "metadata": {
    "execution": {
     "iopub.execute_input": "2021-10-21T12:12:22.648017Z",
     "iopub.status.busy": "2021-10-21T12:12:22.647482Z",
     "iopub.status.idle": "2021-10-21T12:12:22.649749Z",
     "shell.execute_reply": "2021-10-21T12:12:22.649312Z"
    },
    "papermill": {
     "duration": 0.036846,
     "end_time": "2021-10-21T12:12:22.649870",
     "exception": false,
     "start_time": "2021-10-21T12:12:22.613024",
     "status": "completed"
    },
    "tags": []
   },
   "outputs": [],
   "source": [
    "#hide\n",
    "# g = g.rename(columns= {'continent':'group','country':'name','cases':'value'})"
   ]
  },
  {
   "cell_type": "code",
   "execution_count": 36,
   "id": "fleet-motorcycle",
   "metadata": {
    "execution": {
     "iopub.execute_input": "2021-10-21T12:12:22.716949Z",
     "iopub.status.busy": "2021-10-21T12:12:22.716406Z",
     "iopub.status.idle": "2021-10-21T12:12:22.718250Z",
     "shell.execute_reply": "2021-10-21T12:12:22.718688Z"
    },
    "papermill": {
     "duration": 0.037574,
     "end_time": "2021-10-21T12:12:22.718825",
     "exception": false,
     "start_time": "2021-10-21T12:12:22.681251",
     "status": "completed"
    },
    "tags": []
   },
   "outputs": [],
   "source": [
    "#hide\n",
    "# cols = ['name','group','day','value']"
   ]
  },
  {
   "cell_type": "code",
   "execution_count": 37,
   "id": "continued-sleeping",
   "metadata": {
    "execution": {
     "iopub.execute_input": "2021-10-21T12:12:22.785344Z",
     "iopub.status.busy": "2021-10-21T12:12:22.784819Z",
     "iopub.status.idle": "2021-10-21T12:12:22.786687Z",
     "shell.execute_reply": "2021-10-21T12:12:22.787101Z"
    },
    "papermill": {
     "duration": 0.037186,
     "end_time": "2021-10-21T12:12:22.787240",
     "exception": false,
     "start_time": "2021-10-21T12:12:22.750054",
     "status": "completed"
    },
    "tags": []
   },
   "outputs": [],
   "source": [
    "#hide\n",
    "# g.rename(columns= {'date':'day'},inplace = True)"
   ]
  },
  {
   "cell_type": "code",
   "execution_count": 38,
   "id": "major-fight",
   "metadata": {
    "execution": {
     "iopub.execute_input": "2021-10-21T12:12:22.853860Z",
     "iopub.status.busy": "2021-10-21T12:12:22.853292Z",
     "iopub.status.idle": "2021-10-21T12:12:22.855079Z",
     "shell.execute_reply": "2021-10-21T12:12:22.855568Z"
    },
    "papermill": {
     "duration": 0.037017,
     "end_time": "2021-10-21T12:12:22.855708",
     "exception": false,
     "start_time": "2021-10-21T12:12:22.818691",
     "status": "completed"
    },
    "tags": []
   },
   "outputs": [],
   "source": [
    "#hide\n",
    "# g = g[cols]"
   ]
  },
  {
   "cell_type": "code",
   "execution_count": 39,
   "id": "structured-mobile",
   "metadata": {
    "execution": {
     "iopub.execute_input": "2021-10-21T12:12:22.922071Z",
     "iopub.status.busy": "2021-10-21T12:12:22.921519Z",
     "iopub.status.idle": "2021-10-21T12:12:22.923624Z",
     "shell.execute_reply": "2021-10-21T12:12:22.923203Z"
    },
    "papermill": {
     "duration": 0.036769,
     "end_time": "2021-10-21T12:12:22.923752",
     "exception": false,
     "start_time": "2021-10-21T12:12:22.886983",
     "status": "completed"
    },
    "tags": []
   },
   "outputs": [],
   "source": [
    "# #hide\n",
    "# g = g[g.group.notna()]"
   ]
  },
  {
   "cell_type": "code",
   "execution_count": 40,
   "id": "determined-closing",
   "metadata": {
    "execution": {
     "iopub.execute_input": "2021-10-21T12:12:22.990581Z",
     "iopub.status.busy": "2021-10-21T12:12:22.990031Z",
     "iopub.status.idle": "2021-10-21T12:12:22.992033Z",
     "shell.execute_reply": "2021-10-21T12:12:22.991601Z"
    },
    "papermill": {
     "duration": 0.03694,
     "end_time": "2021-10-21T12:12:22.992148",
     "exception": false,
     "start_time": "2021-10-21T12:12:22.955208",
     "status": "completed"
    },
    "tags": []
   },
   "outputs": [],
   "source": [
    "# #hide\n",
    "# colors = dict(zip(\n",
    "#     [\"Oceania\", \"Europe\", \"Asia\", \"South America\", \"Middle East\", \"North America\", \"Africa\"],\n",
    "#     [\"#adb0ff\", \"#ffb3ff\", \"#90d595\", \"#e48381\", \"#aafbff\", \"#f7bb5f\", \"#eafb50\"]\n",
    "# ))\n",
    "# group_lk = g.set_index('name')['group'].to_dict()"
   ]
  },
  {
   "cell_type": "code",
   "execution_count": null,
   "id": "gross-drinking",
   "metadata": {
    "papermill": {
     "duration": 0.031042,
     "end_time": "2021-10-21T12:12:23.054355",
     "exception": false,
     "start_time": "2021-10-21T12:12:23.023313",
     "status": "completed"
    },
    "tags": []
   },
   "outputs": [],
   "source": []
  },
  {
   "cell_type": "code",
   "execution_count": 41,
   "id": "subject-macintosh",
   "metadata": {
    "execution": {
     "iopub.execute_input": "2021-10-21T12:12:23.121274Z",
     "iopub.status.busy": "2021-10-21T12:12:23.120723Z",
     "iopub.status.idle": "2021-10-21T12:12:23.122898Z",
     "shell.execute_reply": "2021-10-21T12:12:23.122460Z"
    },
    "papermill": {
     "duration": 0.037504,
     "end_time": "2021-10-21T12:12:23.123015",
     "exception": false,
     "start_time": "2021-10-21T12:12:23.085511",
     "status": "completed"
    },
    "tags": []
   },
   "outputs": [],
   "source": [
    "# #hide\n",
    "# fig, ax = plt.subplots(figsize=(15, 8))\n",
    "\n",
    "# def draw_barchart(current_day):\n",
    "#     dff = g[g['day'].eq(current_day)].sort_values(by='value', ascending=True).tail(10)\n",
    "#     ax.clear()\n",
    "#     ax.barh(dff['name'], dff['value'], color=[colors[group_lk[x]] for x in dff['name']])\n",
    "#     dx = dff['value'].max() / 200\n",
    "    \n",
    "#     for i, (value, name) in enumerate(zip(dff['value'], dff['name'])):\n",
    "#         ax.text(value-dx, i,     name,           size=14, weight=600, ha='right', va='bottom')\n",
    "#         ax.text(value-dx, i-.25, group_lk[name], size=10, color='#444444', ha='right', va='baseline')\n",
    "#         ax.text(value+dx, i,     f'{value:,.0f}',  size=14, ha='left',  va='center')\n",
    "#     ax.text(1, 0.4, current_day, transform=ax.transAxes, color='#777777', size=46, ha='right', weight=800)\n",
    "#     ax.text(0, 1.06, 'Population (thousands)', transform=ax.transAxes, size=12, color='#777777')\n",
    "#     ax.xaxis.set_major_formatter(ticker.StrMethodFormatter('{x:,.0f}'))\n",
    "#     ax.xaxis.set_ticks_position('top')\n",
    "#     ax.tick_params(axis='x', colors='#777777', labelsize=12)\n",
    "#     ax.set_yticks([])\n",
    "#     ax.margins(0, 0.01)\n",
    "#     ax.grid(which='major', axis='x', linestyle='-')\n",
    "#     ax.set_axisbelow(True)\n",
    "    \n",
    "#     ax.text(0, 1.15, 'Coronavirus',\n",
    "#             transform=ax.transAxes, size=24, weight=600, ha='left', va='top')\n",
    "# #     ax.text(1, 0, 'by @pratapvardhan; credit @jburnmurdoch', transform=ax.transAxes, color='#777777', ha='right',\n",
    "# #             bbox=dict(facecolor='white', alpha=0.8, edgecolor='white'))\n",
    "#     plt.box(False)"
   ]
  },
  {
   "cell_type": "code",
   "execution_count": 42,
   "id": "sexual-wages",
   "metadata": {
    "execution": {
     "iopub.execute_input": "2021-10-21T12:12:23.189417Z",
     "iopub.status.busy": "2021-10-21T12:12:23.188875Z",
     "iopub.status.idle": "2021-10-21T12:12:23.191029Z",
     "shell.execute_reply": "2021-10-21T12:12:23.190596Z"
    },
    "papermill": {
     "duration": 0.036993,
     "end_time": "2021-10-21T12:12:23.191146",
     "exception": false,
     "start_time": "2021-10-21T12:12:23.154153",
     "status": "completed"
    },
    "tags": []
   },
   "outputs": [],
   "source": [
    "# #hide_input\n",
    "# fig, ax = plt.subplots(figsize=(15, 8))\n",
    "# animator = animation.FuncAnimation(fig, draw_barchart, frames=range(g.day.values.min(), g.day.values.max()))\n",
    "# HTML(animator.to_jshtml())\n",
    "# # or use animator.to_html5_video() or animator.save() "
   ]
  },
  {
   "cell_type": "code",
   "execution_count": null,
   "id": "australian-container",
   "metadata": {
    "papermill": {
     "duration": 0.031165,
     "end_time": "2021-10-21T12:12:23.253811",
     "exception": false,
     "start_time": "2021-10-21T12:12:23.222646",
     "status": "completed"
    },
    "tags": []
   },
   "outputs": [],
   "source": []
  },
  {
   "cell_type": "code",
   "execution_count": null,
   "id": "mediterranean-pontiac",
   "metadata": {
    "papermill": {
     "duration": 0.031057,
     "end_time": "2021-10-21T12:12:23.315854",
     "exception": false,
     "start_time": "2021-10-21T12:12:23.284797",
     "status": "completed"
    },
    "tags": []
   },
   "outputs": [],
   "source": []
  },
  {
   "cell_type": "code",
   "execution_count": null,
   "id": "aging-legislature",
   "metadata": {
    "papermill": {
     "duration": 0.031037,
     "end_time": "2021-10-21T12:12:23.378224",
     "exception": false,
     "start_time": "2021-10-21T12:12:23.347187",
     "status": "completed"
    },
    "tags": []
   },
   "outputs": [],
   "source": []
  }
 ],
 "metadata": {
  "kernelspec": {
   "display_name": "Python 3",
   "language": "python",
   "name": "python3"
  },
  "language_info": {
   "codemirror_mode": {
    "name": "ipython",
    "version": 3
   },
   "file_extension": ".py",
   "mimetype": "text/x-python",
   "name": "python",
   "nbconvert_exporter": "python",
   "pygments_lexer": "ipython3",
   "version": "3.6.15"
  },
  "papermill": {
   "duration": 6.259588,
   "end_time": "2021-10-21T12:12:23.817676",
   "environment_variables": {},
   "exception": null,
   "input_path": "2020-03-21-covid19exp.ipynb",
   "output_path": "2020-03-21-covid19exp.ipynb",
   "parameters": {},
   "start_time": "2021-10-21T12:12:17.558088",
   "version": "2.0.0"
  }
 },
 "nbformat": 4,
 "nbformat_minor": 5
}