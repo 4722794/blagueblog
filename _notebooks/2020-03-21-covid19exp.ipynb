{
 "cells": [
  {
   "cell_type": "markdown",
   "id": "muslim-click",
   "metadata": {
    "papermill": {
     "duration": 0.039708,
     "end_time": "2022-01-01T00:27:28.594166",
     "exception": false,
     "start_time": "2022-01-01T00:27:28.554458",
     "status": "completed"
    },
    "tags": []
   },
   "source": [
    "# COVID-19 Case Race\n",
    "> A race chart to see rising cases around the world\n",
    "\n",
    "- author: Hargun Oberoi\n",
    "- image: images/covid-overview.png\n",
    "- hide: false\n",
    "- badges: false"
   ]
  },
  {
   "cell_type": "code",
   "execution_count": 1,
   "id": "proof-material",
   "metadata": {
    "execution": {
     "iopub.execute_input": "2022-01-01T00:27:28.681767Z",
     "iopub.status.busy": "2022-01-01T00:27:28.681014Z",
     "iopub.status.idle": "2022-01-01T00:27:29.063707Z",
     "shell.execute_reply": "2022-01-01T00:27:29.063153Z"
    },
    "papermill": {
     "duration": 0.432999,
     "end_time": "2022-01-01T00:27:29.063866",
     "exception": false,
     "start_time": "2022-01-01T00:27:28.630867",
     "status": "completed"
    },
    "tags": []
   },
   "outputs": [],
   "source": [
    "#hide\n",
    "import numpy as np\n",
    "import pandas as pd\n",
    "from jinja2 import Template\n",
    "from IPython.display import HTML"
   ]
  },
  {
   "cell_type": "code",
   "execution_count": 2,
   "id": "developed-terminology",
   "metadata": {
    "execution": {
     "iopub.execute_input": "2022-01-01T00:27:29.144989Z",
     "iopub.status.busy": "2022-01-01T00:27:29.144356Z",
     "iopub.status.idle": "2022-01-01T00:27:29.148679Z",
     "shell.execute_reply": "2022-01-01T00:27:29.148175Z"
    },
    "papermill": {
     "duration": 0.04854,
     "end_time": "2022-01-01T00:27:29.148817",
     "exception": false,
     "start_time": "2022-01-01T00:27:29.100277",
     "status": "completed"
    },
    "tags": []
   },
   "outputs": [],
   "source": [
    "#hide\n",
    "\n",
    "# FETCH\n",
    "base_url = 'https://raw.githubusercontent.com/pratapvardhan/notebooks/master/covid19/'\n",
    "paths = {\n",
    "    'mapping': base_url + 'mapping_countries.csv',\n",
    "    'overview': base_url + 'overview.tpl'\n",
    "}"
   ]
  },
  {
   "cell_type": "code",
   "execution_count": 3,
   "id": "dynamic-saver",
   "metadata": {
    "execution": {
     "iopub.execute_input": "2022-01-01T00:27:29.231342Z",
     "iopub.status.busy": "2022-01-01T00:27:29.230690Z",
     "iopub.status.idle": "2022-01-01T00:27:29.234362Z",
     "shell.execute_reply": "2022-01-01T00:27:29.233852Z"
    },
    "papermill": {
     "duration": 0.050418,
     "end_time": "2022-01-01T00:27:29.234496",
     "exception": false,
     "start_time": "2022-01-01T00:27:29.184078",
     "status": "completed"
    },
    "tags": []
   },
   "outputs": [
    {
     "data": {
      "text/plain": [
       "'https://raw.githubusercontent.com/pratapvardhan/notebooks/master/covid19/mapping_countries.csv'"
      ]
     },
     "execution_count": 3,
     "metadata": {},
     "output_type": "execute_result"
    }
   ],
   "source": [
    "#hide\n",
    "paths['mapping']"
   ]
  },
  {
   "cell_type": "code",
   "execution_count": 4,
   "id": "urban-software",
   "metadata": {
    "execution": {
     "iopub.execute_input": "2022-01-01T00:27:29.309090Z",
     "iopub.status.busy": "2022-01-01T00:27:29.308331Z",
     "iopub.status.idle": "2022-01-01T00:27:29.309827Z",
     "shell.execute_reply": "2022-01-01T00:27:29.310610Z"
    },
    "papermill": {
     "duration": 0.04202,
     "end_time": "2022-01-01T00:27:29.310781",
     "exception": false,
     "start_time": "2022-01-01T00:27:29.268761",
     "status": "completed"
    },
    "tags": []
   },
   "outputs": [],
   "source": [
    "#hide\n",
    "def get_mappings(url):\n",
    "    df = pd.read_csv(url)\n",
    "    return {\n",
    "        'df': df,\n",
    "        'replace.country': dict(df.dropna(subset=['Name']).set_index('Country')['Name']),\n",
    "        'map.continent': dict(df.set_index('Name')['Continent'])\n",
    "    }"
   ]
  },
  {
   "cell_type": "code",
   "execution_count": 5,
   "id": "intimate-machinery",
   "metadata": {
    "execution": {
     "iopub.execute_input": "2022-01-01T00:27:29.390836Z",
     "iopub.status.busy": "2022-01-01T00:27:29.390069Z",
     "iopub.status.idle": "2022-01-01T00:27:29.418182Z",
     "shell.execute_reply": "2022-01-01T00:27:29.418767Z"
    },
    "papermill": {
     "duration": 0.071933,
     "end_time": "2022-01-01T00:27:29.418927",
     "exception": false,
     "start_time": "2022-01-01T00:27:29.346994",
     "status": "completed"
    },
    "tags": []
   },
   "outputs": [],
   "source": [
    "#hide\n",
    "mapping = get_mappings(paths['mapping'])"
   ]
  },
  {
   "cell_type": "code",
   "execution_count": 6,
   "id": "certified-tactics",
   "metadata": {
    "execution": {
     "iopub.execute_input": "2022-01-01T00:27:29.501005Z",
     "iopub.status.busy": "2022-01-01T00:27:29.500360Z",
     "iopub.status.idle": "2022-01-01T00:27:29.505228Z",
     "shell.execute_reply": "2022-01-01T00:27:29.505693Z"
    },
    "papermill": {
     "duration": 0.049776,
     "end_time": "2022-01-01T00:27:29.505849",
     "exception": false,
     "start_time": "2022-01-01T00:27:29.456073",
     "status": "completed"
    },
    "tags": []
   },
   "outputs": [],
   "source": [
    "#hide\n",
    "def get_template(path):\n",
    "    from urllib.parse import urlparse\n",
    "    if bool(urlparse(path).netloc):\n",
    "        from urllib.request import urlopen\n",
    "        return urlopen(path).read().decode('utf8')\n",
    "    return open(path).read()"
   ]
  },
  {
   "cell_type": "code",
   "execution_count": 7,
   "id": "realistic-blast",
   "metadata": {
    "execution": {
     "iopub.execute_input": "2022-01-01T00:27:29.582249Z",
     "iopub.status.busy": "2022-01-01T00:27:29.581600Z",
     "iopub.status.idle": "2022-01-01T00:27:29.583888Z",
     "shell.execute_reply": "2022-01-01T00:27:29.583296Z"
    },
    "papermill": {
     "duration": 0.043486,
     "end_time": "2022-01-01T00:27:29.584157",
     "exception": false,
     "start_time": "2022-01-01T00:27:29.540671",
     "status": "completed"
    },
    "tags": []
   },
   "outputs": [],
   "source": [
    "#hide\n",
    "def get_frame(name):\n",
    "    url = (\n",
    "        'https://raw.githubusercontent.com/CSSEGISandData/COVID-19/master/csse_covid_19_data/'\n",
    "        f'csse_covid_19_time_series/time_series_covid19_{name}_global.csv')\n",
    "    df = pd.read_csv(url)\n",
    "    # rename countries\n",
    "    df['Country/Region'] = df['Country/Region'].replace(mapping['replace.country'])\n",
    "    return df"
   ]
  },
  {
   "cell_type": "code",
   "execution_count": 8,
   "id": "affiliated-characterization",
   "metadata": {
    "execution": {
     "iopub.execute_input": "2022-01-01T00:27:29.658315Z",
     "iopub.status.busy": "2022-01-01T00:27:29.657690Z",
     "iopub.status.idle": "2022-01-01T00:27:29.664214Z",
     "shell.execute_reply": "2022-01-01T00:27:29.663702Z"
    },
    "papermill": {
     "duration": 0.045025,
     "end_time": "2022-01-01T00:27:29.664342",
     "exception": false,
     "start_time": "2022-01-01T00:27:29.619317",
     "status": "completed"
    },
    "tags": []
   },
   "outputs": [],
   "source": [
    "#hide\n",
    "def get_dates(df):\n",
    "    dt_cols = df.columns[~df.columns.isin(['Province/State', 'Country/Region', 'Lat', 'Long'])]\n",
    "    LAST_DATE_I = -1\n",
    "    # sometimes last column may be empty, then go backwards\n",
    "    for i in range(-1, -len(dt_cols), -1):\n",
    "        if not df[dt_cols[i]].fillna(0).eq(0).all():\n",
    "            LAST_DATE_I = i\n",
    "            break\n",
    "    return LAST_DATE_I, dt_cols"
   ]
  },
  {
   "cell_type": "code",
   "execution_count": 9,
   "id": "recent-optimization",
   "metadata": {
    "execution": {
     "iopub.execute_input": "2022-01-01T00:27:29.742874Z",
     "iopub.status.busy": "2022-01-01T00:27:29.741224Z",
     "iopub.status.idle": "2022-01-01T00:27:30.105784Z",
     "shell.execute_reply": "2022-01-01T00:27:30.106331Z"
    },
    "papermill": {
     "duration": 0.40719,
     "end_time": "2022-01-01T00:27:30.106503",
     "exception": false,
     "start_time": "2022-01-01T00:27:29.699313",
     "status": "completed"
    },
    "tags": []
   },
   "outputs": [],
   "source": [
    "#hide\n",
    "COL_REGION = 'Country/Region'\n",
    "# Confirmed, Recovered, Deaths\n",
    "df = get_frame('confirmed')\n",
    "# dft_: timeseries, dfc_: today country agg\n",
    "dft_cases = df\n",
    "dft_deaths = get_frame('deaths')\n",
    "dft_recovered = get_frame('recovered')\n",
    "LAST_DATE_I, dt_cols = get_dates(df)"
   ]
  },
  {
   "cell_type": "code",
   "execution_count": 10,
   "id": "absolute-copper",
   "metadata": {
    "execution": {
     "iopub.execute_input": "2022-01-01T00:27:30.186122Z",
     "iopub.status.busy": "2022-01-01T00:27:30.185481Z",
     "iopub.status.idle": "2022-01-01T00:27:30.189451Z",
     "shell.execute_reply": "2022-01-01T00:27:30.190387Z"
    },
    "papermill": {
     "duration": 0.047775,
     "end_time": "2022-01-01T00:27:30.190560",
     "exception": false,
     "start_time": "2022-01-01T00:27:30.142785",
     "status": "completed"
    },
    "tags": []
   },
   "outputs": [],
   "source": [
    "#hide\n",
    "LAST_DATE_I, dt_cols = get_dates(df)\n",
    "dt_today =dt_cols[LAST_DATE_I]\n",
    "# dt_5day = dt_cols[LAST_DATE_I - 5]\n",
    "dt_yday = dt_cols[LAST_DATE_I - 1]"
   ]
  },
  {
   "cell_type": "code",
   "execution_count": 11,
   "id": "restricted-sheriff",
   "metadata": {
    "execution": {
     "iopub.execute_input": "2022-01-01T00:27:30.267706Z",
     "iopub.status.busy": "2022-01-01T00:27:30.267062Z",
     "iopub.status.idle": "2022-01-01T00:27:30.275921Z",
     "shell.execute_reply": "2022-01-01T00:27:30.275333Z"
    },
    "papermill": {
     "duration": 0.049992,
     "end_time": "2022-01-01T00:27:30.276153",
     "exception": false,
     "start_time": "2022-01-01T00:27:30.226161",
     "status": "completed"
    },
    "tags": []
   },
   "outputs": [],
   "source": [
    "#hide\n",
    "dfc_cases = dft_cases.groupby(COL_REGION)[dt_today].sum()\n",
    "dfc_deaths = dft_deaths.groupby(COL_REGION)[dt_today].sum()\n",
    "# dfp_cases = dft_cases.groupby(COL_REGION)[dt_5day].sum()\n",
    "# dfp_deaths = dft_deaths.groupby(COL_REGION)[dt_5day].sum()\n",
    "dfp_cases = dft_cases.groupby(COL_REGION)[dt_yday].sum()\n",
    "dfp_deaths = dft_deaths.groupby(COL_REGION)[dt_yday].sum()"
   ]
  },
  {
   "cell_type": "code",
   "execution_count": 12,
   "id": "deluxe-hepatitis",
   "metadata": {
    "execution": {
     "iopub.execute_input": "2022-01-01T00:27:30.354459Z",
     "iopub.status.busy": "2022-01-01T00:27:30.353822Z",
     "iopub.status.idle": "2022-01-01T00:27:30.359053Z",
     "shell.execute_reply": "2022-01-01T00:27:30.358264Z"
    },
    "papermill": {
     "duration": 0.047398,
     "end_time": "2022-01-01T00:27:30.359187",
     "exception": false,
     "start_time": "2022-01-01T00:27:30.311789",
     "status": "completed"
    },
    "tags": []
   },
   "outputs": [],
   "source": [
    "#hide\n",
    "df_table = (pd.DataFrame(dict(Cases = dfc_cases, Deaths = dfc_deaths, PCases = dfp_cases, PDeaths = dfp_deaths))\n",
    "            .sort_values(by = ['Cases','Deaths'], ascending = [False, False])\n",
    "            .reset_index())"
   ]
  },
  {
   "cell_type": "code",
   "execution_count": 13,
   "id": "educational-chancellor",
   "metadata": {
    "execution": {
     "iopub.execute_input": "2022-01-01T00:27:30.453908Z",
     "iopub.status.busy": "2022-01-01T00:27:30.453246Z",
     "iopub.status.idle": "2022-01-01T00:27:30.462308Z",
     "shell.execute_reply": "2022-01-01T00:27:30.462841Z"
    },
    "papermill": {
     "duration": 0.06604,
     "end_time": "2022-01-01T00:27:30.462996",
     "exception": false,
     "start_time": "2022-01-01T00:27:30.396956",
     "status": "completed"
    },
    "tags": []
   },
   "outputs": [
    {
     "data": {
      "text/html": [
       "<div>\n",
       "<style scoped>\n",
       "    .dataframe tbody tr th:only-of-type {\n",
       "        vertical-align: middle;\n",
       "    }\n",
       "\n",
       "    .dataframe tbody tr th {\n",
       "        vertical-align: top;\n",
       "    }\n",
       "\n",
       "    .dataframe thead th {\n",
       "        text-align: right;\n",
       "    }\n",
       "</style>\n",
       "<table border=\"1\" class=\"dataframe\">\n",
       "  <thead>\n",
       "    <tr style=\"text-align: right;\">\n",
       "      <th></th>\n",
       "      <th>Country/Region</th>\n",
       "      <th>Cases</th>\n",
       "      <th>Deaths</th>\n",
       "      <th>PCases</th>\n",
       "      <th>PDeaths</th>\n",
       "      <th>Cases (+)</th>\n",
       "      <th>Deaths (+)</th>\n",
       "      <th>Fatality Rate</th>\n",
       "      <th>Continent</th>\n",
       "    </tr>\n",
       "  </thead>\n",
       "  <tbody>\n",
       "    <tr>\n",
       "      <th>0</th>\n",
       "      <td>US</td>\n",
       "      <td>54246831</td>\n",
       "      <td>824301</td>\n",
       "      <td>53659688</td>\n",
       "      <td>822892</td>\n",
       "      <td>587143</td>\n",
       "      <td>1409</td>\n",
       "      <td>1.52</td>\n",
       "      <td>North America</td>\n",
       "    </tr>\n",
       "    <tr>\n",
       "      <th>1</th>\n",
       "      <td>India</td>\n",
       "      <td>34838804</td>\n",
       "      <td>481080</td>\n",
       "      <td>34822040</td>\n",
       "      <td>480860</td>\n",
       "      <td>16764</td>\n",
       "      <td>220</td>\n",
       "      <td>1.38</td>\n",
       "      <td>Asia</td>\n",
       "    </tr>\n",
       "    <tr>\n",
       "      <th>2</th>\n",
       "      <td>Brazil</td>\n",
       "      <td>22281649</td>\n",
       "      <td>619249</td>\n",
       "      <td>22269031</td>\n",
       "      <td>619095</td>\n",
       "      <td>12618</td>\n",
       "      <td>154</td>\n",
       "      <td>2.78</td>\n",
       "      <td>South America</td>\n",
       "    </tr>\n",
       "    <tr>\n",
       "      <th>3</th>\n",
       "      <td>United Kingdom</td>\n",
       "      <td>12820359</td>\n",
       "      <td>148893</td>\n",
       "      <td>12630442</td>\n",
       "      <td>148557</td>\n",
       "      <td>189917</td>\n",
       "      <td>336</td>\n",
       "      <td>1.16</td>\n",
       "      <td>Europe</td>\n",
       "    </tr>\n",
       "    <tr>\n",
       "      <th>4</th>\n",
       "      <td>Russia</td>\n",
       "      <td>10299923</td>\n",
       "      <td>301791</td>\n",
       "      <td>10279009</td>\n",
       "      <td>300886</td>\n",
       "      <td>20914</td>\n",
       "      <td>905</td>\n",
       "      <td>2.93</td>\n",
       "      <td>Europe</td>\n",
       "    </tr>\n",
       "  </tbody>\n",
       "</table>\n",
       "</div>"
      ],
      "text/plain": [
       "   Country/Region     Cases  Deaths    PCases  PDeaths  Cases (+)  Deaths (+)  \\\n",
       "0              US  54246831  824301  53659688   822892     587143        1409   \n",
       "1           India  34838804  481080  34822040   480860      16764         220   \n",
       "2          Brazil  22281649  619249  22269031   619095      12618         154   \n",
       "3  United Kingdom  12820359  148893  12630442   148557     189917         336   \n",
       "4          Russia  10299923  301791  10279009   300886      20914         905   \n",
       "\n",
       "   Fatality Rate      Continent  \n",
       "0           1.52  North America  \n",
       "1           1.38           Asia  \n",
       "2           2.78  South America  \n",
       "3           1.16         Europe  \n",
       "4           2.93         Europe  "
      ]
     },
     "execution_count": 13,
     "metadata": {},
     "output_type": "execute_result"
    }
   ],
   "source": [
    "#hide\n",
    "for c in 'Cases, Deaths'.split(', '):\n",
    "    df_table[f'{c} (+)'] = (df_table[c] - df_table[f'P{c}']).clip(0)\n",
    "    #Clip ça veut dire, les chiffres negatif sont interdit\n",
    "df_table['Fatality Rate'] = (100* df_table['Deaths']/ df_table['Cases']).round(2)\n",
    "df_table['Continent'] = df_table['Country/Region'].map(mapping['map.continent'])\n",
    "df_table.head(5)"
   ]
  },
  {
   "cell_type": "code",
   "execution_count": 14,
   "id": "aboriginal-bulgaria",
   "metadata": {
    "execution": {
     "iopub.execute_input": "2022-01-01T00:27:30.542496Z",
     "iopub.status.busy": "2022-01-01T00:27:30.541819Z",
     "iopub.status.idle": "2022-01-01T00:27:30.546283Z",
     "shell.execute_reply": "2022-01-01T00:27:30.545746Z"
    },
    "papermill": {
     "duration": 0.046778,
     "end_time": "2022-01-01T00:27:30.546424",
     "exception": false,
     "start_time": "2022-01-01T00:27:30.499646",
     "status": "completed"
    },
    "tags": []
   },
   "outputs": [],
   "source": [
    "#hide\n",
    "#delete problematic countries from table\n",
    "df_table = df_table[~df_table['Country/Region'].isin(['Cape Verde', 'Cruise Ship', 'Kosovo'])]"
   ]
  },
  {
   "cell_type": "code",
   "execution_count": 15,
   "id": "fantastic-effect",
   "metadata": {
    "execution": {
     "iopub.execute_input": "2022-01-01T00:27:30.640087Z",
     "iopub.status.busy": "2022-01-01T00:27:30.624493Z",
     "iopub.status.idle": "2022-01-01T00:27:30.648664Z",
     "shell.execute_reply": "2022-01-01T00:27:30.648062Z"
    },
    "papermill": {
     "duration": 0.067876,
     "end_time": "2022-01-01T00:27:30.648796",
     "exception": false,
     "start_time": "2022-01-01T00:27:30.580920",
     "status": "completed"
    },
    "tags": []
   },
   "outputs": [
    {
     "data": {
      "text/html": [
       "<div>\n",
       "<style scoped>\n",
       "    .dataframe tbody tr th:only-of-type {\n",
       "        vertical-align: middle;\n",
       "    }\n",
       "\n",
       "    .dataframe tbody tr th {\n",
       "        vertical-align: top;\n",
       "    }\n",
       "\n",
       "    .dataframe thead th {\n",
       "        text-align: right;\n",
       "    }\n",
       "</style>\n",
       "<table border=\"1\" class=\"dataframe\">\n",
       "  <thead>\n",
       "    <tr style=\"text-align: right;\">\n",
       "      <th></th>\n",
       "      <th>Country/Region</th>\n",
       "      <th>Cases</th>\n",
       "      <th>Deaths</th>\n",
       "      <th>PCases</th>\n",
       "      <th>PDeaths</th>\n",
       "      <th>Cases (+)</th>\n",
       "      <th>Deaths (+)</th>\n",
       "      <th>Fatality Rate</th>\n",
       "      <th>Continent</th>\n",
       "    </tr>\n",
       "  </thead>\n",
       "  <tbody>\n",
       "    <tr>\n",
       "      <th>0</th>\n",
       "      <td>US</td>\n",
       "      <td>54246831</td>\n",
       "      <td>824301</td>\n",
       "      <td>53659688</td>\n",
       "      <td>822892</td>\n",
       "      <td>587143</td>\n",
       "      <td>1409</td>\n",
       "      <td>1.5</td>\n",
       "      <td>North America</td>\n",
       "    </tr>\n",
       "    <tr>\n",
       "      <th>1</th>\n",
       "      <td>India</td>\n",
       "      <td>34838804</td>\n",
       "      <td>481080</td>\n",
       "      <td>34822040</td>\n",
       "      <td>480860</td>\n",
       "      <td>16764</td>\n",
       "      <td>220</td>\n",
       "      <td>1.4</td>\n",
       "      <td>Asia</td>\n",
       "    </tr>\n",
       "    <tr>\n",
       "      <th>2</th>\n",
       "      <td>Brazil</td>\n",
       "      <td>22281649</td>\n",
       "      <td>619249</td>\n",
       "      <td>22269031</td>\n",
       "      <td>619095</td>\n",
       "      <td>12618</td>\n",
       "      <td>154</td>\n",
       "      <td>2.8</td>\n",
       "      <td>South America</td>\n",
       "    </tr>\n",
       "    <tr>\n",
       "      <th>3</th>\n",
       "      <td>United Kingdom</td>\n",
       "      <td>12820359</td>\n",
       "      <td>148893</td>\n",
       "      <td>12630442</td>\n",
       "      <td>148557</td>\n",
       "      <td>189917</td>\n",
       "      <td>336</td>\n",
       "      <td>1.2</td>\n",
       "      <td>Europe</td>\n",
       "    </tr>\n",
       "    <tr>\n",
       "      <th>4</th>\n",
       "      <td>Russia</td>\n",
       "      <td>10299923</td>\n",
       "      <td>301791</td>\n",
       "      <td>10279009</td>\n",
       "      <td>300886</td>\n",
       "      <td>20914</td>\n",
       "      <td>905</td>\n",
       "      <td>2.9</td>\n",
       "      <td>Europe</td>\n",
       "    </tr>\n",
       "  </tbody>\n",
       "</table>\n",
       "</div>"
      ],
      "text/plain": [
       "   Country/Region     Cases  Deaths    PCases  PDeaths  Cases (+)  Deaths (+)  \\\n",
       "0              US  54246831  824301  53659688   822892     587143        1409   \n",
       "1           India  34838804  481080  34822040   480860      16764         220   \n",
       "2          Brazil  22281649  619249  22269031   619095      12618         154   \n",
       "3  United Kingdom  12820359  148893  12630442   148557     189917         336   \n",
       "4          Russia  10299923  301791  10279009   300886      20914         905   \n",
       "\n",
       "   Fatality Rate      Continent  \n",
       "0            1.5  North America  \n",
       "1            1.4           Asia  \n",
       "2            2.8  South America  \n",
       "3            1.2         Europe  \n",
       "4            2.9         Europe  "
      ]
     },
     "execution_count": 15,
     "metadata": {},
     "output_type": "execute_result"
    }
   ],
   "source": [
    "#hide\n",
    "df_table = (pd.DataFrame(dict(Cases=dfc_cases, Deaths=dfc_deaths, PCases=dfp_cases, PDeaths=dfp_deaths))\n",
    "             .sort_values(by=['Cases', 'Deaths'], ascending=[False, False])\n",
    "             .reset_index())\n",
    "df_table.rename(columns={'index': 'Country/Region'}, inplace=True)\n",
    "for c in 'Cases, Deaths'.split(', '):\n",
    "    df_table[f'{c} (+)'] = (df_table[c] - df_table[f'P{c}']).clip(0)  # DATA BUG\n",
    "df_table['Fatality Rate'] = (100 * df_table['Deaths'] / df_table['Cases']).round(1)\n",
    "df_table['Continent'] = df_table['Country/Region'].map(mapping['map.continent'])\n",
    "df_table.head(5)"
   ]
  },
  {
   "cell_type": "code",
   "execution_count": 16,
   "id": "fewer-occasion",
   "metadata": {
    "execution": {
     "iopub.execute_input": "2022-01-01T00:27:30.733057Z",
     "iopub.status.busy": "2022-01-01T00:27:30.732408Z",
     "iopub.status.idle": "2022-01-01T00:27:30.734232Z",
     "shell.execute_reply": "2022-01-01T00:27:30.734768Z"
    },
    "papermill": {
     "duration": 0.046318,
     "end_time": "2022-01-01T00:27:30.734919",
     "exception": false,
     "start_time": "2022-01-01T00:27:30.688601",
     "status": "completed"
    },
    "tags": []
   },
   "outputs": [],
   "source": [
    "#hide\n",
    "#delete problematic countries from table\n",
    "df_table = df_table[~df_table['Country/Region'].isin(['Cape Verde', 'Cruise Ship', 'Kosovo'])]"
   ]
  },
  {
   "cell_type": "code",
   "execution_count": 17,
   "id": "related-center",
   "metadata": {
    "execution": {
     "iopub.execute_input": "2022-01-01T00:27:30.823420Z",
     "iopub.status.busy": "2022-01-01T00:27:30.822753Z",
     "iopub.status.idle": "2022-01-01T00:27:30.831858Z",
     "shell.execute_reply": "2022-01-01T00:27:30.832357Z"
    },
    "papermill": {
     "duration": 0.060825,
     "end_time": "2022-01-01T00:27:30.832516",
     "exception": false,
     "start_time": "2022-01-01T00:27:30.771691",
     "status": "completed"
    },
    "tags": []
   },
   "outputs": [],
   "source": [
    "#hide\n",
    "metrics = [df_table.columns[index] for index in [1,2,5,6]]\n",
    "# s_china = df_table[df_table['Country/Region'].eq('China')][metrics].sum().add_prefix('China ')\n",
    "s_us = df_table[df_table['Country/Region'].eq('US')][metrics].sum().add_prefix('US ')\n",
    "s_eu = df_table[df_table['Continent'].eq('Europe')][metrics].sum().add_prefix('EU ')\n",
    "s_ind = df_table[df_table['Country/Region'].eq('India')][metrics].sum().add_prefix('India ')\n",
    "summary = {'updated': pd.to_datetime(dt_today), 'since': pd.to_datetime(dt_yday)}\n",
    "summary = {'updated': pd.to_datetime(dt_today), 'since': pd.to_datetime(dt_yday)}\n",
    "summary = {**summary, **df_table[metrics].sum(), **s_ind, **s_us, **s_eu}"
   ]
  },
  {
   "cell_type": "code",
   "execution_count": 18,
   "id": "engaging-syndrome",
   "metadata": {
    "execution": {
     "iopub.execute_input": "2022-01-01T00:27:30.912173Z",
     "iopub.status.busy": "2022-01-01T00:27:30.911539Z",
     "iopub.status.idle": "2022-01-01T00:27:30.927054Z",
     "shell.execute_reply": "2022-01-01T00:27:30.926508Z"
    },
    "papermill": {
     "duration": 0.057801,
     "end_time": "2022-01-01T00:27:30.927186",
     "exception": false,
     "start_time": "2022-01-01T00:27:30.869385",
     "status": "completed"
    },
    "tags": []
   },
   "outputs": [],
   "source": [
    "#hide\n",
    "dft_ct_new_cases = dft_cases.groupby(COL_REGION)[dt_cols].sum().diff(axis=1).fillna(0).astype(int)"
   ]
  },
  {
   "cell_type": "code",
   "execution_count": 19,
   "id": "neutral-assignment",
   "metadata": {
    "execution": {
     "iopub.execute_input": "2022-01-01T00:27:31.010788Z",
     "iopub.status.busy": "2022-01-01T00:27:31.010087Z",
     "iopub.status.idle": "2022-01-01T00:27:31.013115Z",
     "shell.execute_reply": "2022-01-01T00:27:31.012592Z"
    },
    "papermill": {
     "duration": 0.048851,
     "end_time": "2022-01-01T00:27:31.013245",
     "exception": false,
     "start_time": "2022-01-01T00:27:30.964394",
     "status": "completed"
    },
    "tags": []
   },
   "outputs": [],
   "source": [
    "#hide\n",
    "everydaycases = dft_ct_new_cases.cumsum(axis=1)"
   ]
  },
  {
   "cell_type": "code",
   "execution_count": 20,
   "id": "parliamentary-calgary",
   "metadata": {
    "execution": {
     "iopub.execute_input": "2022-01-01T00:27:31.093230Z",
     "iopub.status.busy": "2022-01-01T00:27:31.092586Z",
     "iopub.status.idle": "2022-01-01T00:27:31.785994Z",
     "shell.execute_reply": "2022-01-01T00:27:31.784984Z"
    },
    "papermill": {
     "duration": 0.736969,
     "end_time": "2022-01-01T00:27:31.786149",
     "exception": false,
     "start_time": "2022-01-01T00:27:31.049180",
     "status": "completed"
    },
    "tags": []
   },
   "outputs": [],
   "source": [
    "#hide\n",
    "import pandas as pd\n",
    "import matplotlib.pyplot as plt\n",
    "import matplotlib.ticker as ticker\n",
    "import matplotlib.animation as animation\n",
    "from IPython.display import HTML"
   ]
  },
  {
   "cell_type": "code",
   "execution_count": 21,
   "id": "lasting-extraction",
   "metadata": {
    "execution": {
     "iopub.execute_input": "2022-01-01T00:27:31.863163Z",
     "iopub.status.busy": "2022-01-01T00:27:31.862516Z",
     "iopub.status.idle": "2022-01-01T00:27:31.869297Z",
     "shell.execute_reply": "2022-01-01T00:27:31.868614Z"
    },
    "papermill": {
     "duration": 0.048274,
     "end_time": "2022-01-01T00:27:31.869457",
     "exception": false,
     "start_time": "2022-01-01T00:27:31.821183",
     "status": "completed"
    },
    "tags": []
   },
   "outputs": [],
   "source": [
    "#hide\n",
    "t = everydaycases.stack()"
   ]
  },
  {
   "cell_type": "code",
   "execution_count": 22,
   "id": "premier-sleeve",
   "metadata": {
    "execution": {
     "iopub.execute_input": "2022-01-01T00:27:31.946567Z",
     "iopub.status.busy": "2022-01-01T00:27:31.945893Z",
     "iopub.status.idle": "2022-01-01T00:27:31.955979Z",
     "shell.execute_reply": "2022-01-01T00:27:31.956471Z"
    },
    "papermill": {
     "duration": 0.051611,
     "end_time": "2022-01-01T00:27:31.956628",
     "exception": false,
     "start_time": "2022-01-01T00:27:31.905017",
     "status": "completed"
    },
    "tags": []
   },
   "outputs": [],
   "source": [
    "#hide\n",
    "g = t.reset_index(['Country/Region'])"
   ]
  },
  {
   "cell_type": "code",
   "execution_count": 23,
   "id": "distributed-pittsburgh",
   "metadata": {
    "execution": {
     "iopub.execute_input": "2022-01-01T00:27:32.031726Z",
     "iopub.status.busy": "2022-01-01T00:27:32.031094Z",
     "iopub.status.idle": "2022-01-01T00:27:32.034348Z",
     "shell.execute_reply": "2022-01-01T00:27:32.034933Z"
    },
    "papermill": {
     "duration": 0.043299,
     "end_time": "2022-01-01T00:27:32.035088",
     "exception": false,
     "start_time": "2022-01-01T00:27:31.991789",
     "status": "completed"
    },
    "tags": []
   },
   "outputs": [],
   "source": [
    "#hide\n",
    "g.index.name = 'date'"
   ]
  },
  {
   "cell_type": "code",
   "execution_count": 24,
   "id": "naked-donor",
   "metadata": {
    "execution": {
     "iopub.execute_input": "2022-01-01T00:27:32.113108Z",
     "iopub.status.busy": "2022-01-01T00:27:32.111101Z",
     "iopub.status.idle": "2022-01-01T00:27:32.116871Z",
     "shell.execute_reply": "2022-01-01T00:27:32.117331Z"
    },
    "papermill": {
     "duration": 0.047038,
     "end_time": "2022-01-01T00:27:32.117488",
     "exception": false,
     "start_time": "2022-01-01T00:27:32.070450",
     "status": "completed"
    },
    "tags": []
   },
   "outputs": [],
   "source": [
    "# #hide\n",
    "# g = g.reset_index(['date'])"
   ]
  },
  {
   "cell_type": "code",
   "execution_count": 25,
   "id": "incomplete-mustang",
   "metadata": {
    "execution": {
     "iopub.execute_input": "2022-01-01T00:27:32.198928Z",
     "iopub.status.busy": "2022-01-01T00:27:32.198276Z",
     "iopub.status.idle": "2022-01-01T00:27:32.200101Z",
     "shell.execute_reply": "2022-01-01T00:27:32.200550Z"
    },
    "papermill": {
     "duration": 0.046177,
     "end_time": "2022-01-01T00:27:32.200702",
     "exception": false,
     "start_time": "2022-01-01T00:27:32.154525",
     "status": "completed"
    },
    "tags": []
   },
   "outputs": [],
   "source": [
    "#hide\n",
    "# g.head()"
   ]
  },
  {
   "cell_type": "code",
   "execution_count": 26,
   "id": "specific-kruger",
   "metadata": {
    "execution": {
     "iopub.execute_input": "2022-01-01T00:27:32.276643Z",
     "iopub.status.busy": "2022-01-01T00:27:32.276026Z",
     "iopub.status.idle": "2022-01-01T00:27:32.278497Z",
     "shell.execute_reply": "2022-01-01T00:27:32.279067Z"
    },
    "papermill": {
     "duration": 0.04324,
     "end_time": "2022-01-01T00:27:32.279220",
     "exception": false,
     "start_time": "2022-01-01T00:27:32.235980",
     "status": "completed"
    },
    "tags": []
   },
   "outputs": [],
   "source": [
    "#hide\n",
    "# g.columns = ['date','country','cases']"
   ]
  },
  {
   "cell_type": "code",
   "execution_count": 27,
   "id": "tender-conversion",
   "metadata": {
    "execution": {
     "iopub.execute_input": "2022-01-01T00:27:32.353273Z",
     "iopub.status.busy": "2022-01-01T00:27:32.352653Z",
     "iopub.status.idle": "2022-01-01T00:27:32.356185Z",
     "shell.execute_reply": "2022-01-01T00:27:32.356924Z"
    },
    "papermill": {
     "duration": 0.043032,
     "end_time": "2022-01-01T00:27:32.357101",
     "exception": false,
     "start_time": "2022-01-01T00:27:32.314069",
     "status": "completed"
    },
    "tags": []
   },
   "outputs": [],
   "source": [
    "#hide\n",
    "# g['continent'] = g.country"
   ]
  },
  {
   "cell_type": "code",
   "execution_count": 28,
   "id": "substantial-wilderness",
   "metadata": {
    "execution": {
     "iopub.execute_input": "2022-01-01T00:27:32.433577Z",
     "iopub.status.busy": "2022-01-01T00:27:32.432934Z",
     "iopub.status.idle": "2022-01-01T00:27:32.435747Z",
     "shell.execute_reply": "2022-01-01T00:27:32.436197Z"
    },
    "papermill": {
     "duration": 0.04275,
     "end_time": "2022-01-01T00:27:32.436345",
     "exception": false,
     "start_time": "2022-01-01T00:27:32.393595",
     "status": "completed"
    },
    "tags": []
   },
   "outputs": [],
   "source": [
    "#hide\n",
    "# cols = list(g.columns.values)"
   ]
  },
  {
   "cell_type": "code",
   "execution_count": 29,
   "id": "solved-farming",
   "metadata": {
    "execution": {
     "iopub.execute_input": "2022-01-01T00:27:32.512033Z",
     "iopub.status.busy": "2022-01-01T00:27:32.511400Z",
     "iopub.status.idle": "2022-01-01T00:27:32.513208Z",
     "shell.execute_reply": "2022-01-01T00:27:32.513680Z"
    },
    "papermill": {
     "duration": 0.041595,
     "end_time": "2022-01-01T00:27:32.513832",
     "exception": false,
     "start_time": "2022-01-01T00:27:32.472237",
     "status": "completed"
    },
    "tags": []
   },
   "outputs": [],
   "source": [
    "#hide\n",
    "# cols.insert(0, cols.pop())"
   ]
  },
  {
   "cell_type": "code",
   "execution_count": 30,
   "id": "executed-adoption",
   "metadata": {
    "execution": {
     "iopub.execute_input": "2022-01-01T00:27:32.592848Z",
     "iopub.status.busy": "2022-01-01T00:27:32.592241Z",
     "iopub.status.idle": "2022-01-01T00:27:32.595678Z",
     "shell.execute_reply": "2022-01-01T00:27:32.595099Z"
    },
    "papermill": {
     "duration": 0.045133,
     "end_time": "2022-01-01T00:27:32.595804",
     "exception": false,
     "start_time": "2022-01-01T00:27:32.550671",
     "status": "completed"
    },
    "tags": []
   },
   "outputs": [],
   "source": [
    "#hide\n",
    "# g = g[cols]"
   ]
  },
  {
   "cell_type": "code",
   "execution_count": 31,
   "id": "subject-dublin",
   "metadata": {
    "execution": {
     "iopub.execute_input": "2022-01-01T00:27:32.672637Z",
     "iopub.status.busy": "2022-01-01T00:27:32.671984Z",
     "iopub.status.idle": "2022-01-01T00:27:32.675045Z",
     "shell.execute_reply": "2022-01-01T00:27:32.675527Z"
    },
    "papermill": {
     "duration": 0.043804,
     "end_time": "2022-01-01T00:27:32.675679",
     "exception": false,
     "start_time": "2022-01-01T00:27:32.631875",
     "status": "completed"
    },
    "tags": []
   },
   "outputs": [],
   "source": [
    "#hide\n",
    "# g['continent'] = g['continent'].map(mapping['map.continent'])"
   ]
  },
  {
   "cell_type": "code",
   "execution_count": 32,
   "id": "freelance-scout",
   "metadata": {
    "execution": {
     "iopub.execute_input": "2022-01-01T00:27:32.750346Z",
     "iopub.status.busy": "2022-01-01T00:27:32.749691Z",
     "iopub.status.idle": "2022-01-01T00:27:32.756276Z",
     "shell.execute_reply": "2022-01-01T00:27:32.755676Z"
    },
    "papermill": {
     "duration": 0.045461,
     "end_time": "2022-01-01T00:27:32.756416",
     "exception": false,
     "start_time": "2022-01-01T00:27:32.710955",
     "status": "completed"
    },
    "tags": []
   },
   "outputs": [],
   "source": [
    "#hide\n",
    "# g.head()"
   ]
  },
  {
   "cell_type": "code",
   "execution_count": 33,
   "id": "limited-engine",
   "metadata": {
    "execution": {
     "iopub.execute_input": "2022-01-01T00:27:32.839121Z",
     "iopub.status.busy": "2022-01-01T00:27:32.838472Z",
     "iopub.status.idle": "2022-01-01T00:27:32.841509Z",
     "shell.execute_reply": "2022-01-01T00:27:32.841021Z"
    },
    "papermill": {
     "duration": 0.045477,
     "end_time": "2022-01-01T00:27:32.841644",
     "exception": false,
     "start_time": "2022-01-01T00:27:32.796167",
     "status": "completed"
    },
    "tags": []
   },
   "outputs": [],
   "source": [
    "# hide\n",
    "# g['date'] = g['date'].astype('datetime64[ns]')"
   ]
  },
  {
   "cell_type": "code",
   "execution_count": 34,
   "id": "sophisticated-supervisor",
   "metadata": {
    "execution": {
     "iopub.execute_input": "2022-01-01T00:27:32.916331Z",
     "iopub.status.busy": "2022-01-01T00:27:32.915690Z",
     "iopub.status.idle": "2022-01-01T00:27:32.920346Z",
     "shell.execute_reply": "2022-01-01T00:27:32.919831Z"
    },
    "papermill": {
     "duration": 0.043426,
     "end_time": "2022-01-01T00:27:32.920479",
     "exception": false,
     "start_time": "2022-01-01T00:27:32.877053",
     "status": "completed"
    },
    "tags": []
   },
   "outputs": [],
   "source": [
    "#hide\n",
    "# g['date'] = g.date.dt.dayofyear"
   ]
  },
  {
   "cell_type": "code",
   "execution_count": 35,
   "id": "inside-dubai",
   "metadata": {
    "execution": {
     "iopub.execute_input": "2022-01-01T00:27:33.002519Z",
     "iopub.status.busy": "2022-01-01T00:27:33.001882Z",
     "iopub.status.idle": "2022-01-01T00:27:33.004175Z",
     "shell.execute_reply": "2022-01-01T00:27:33.004622Z"
    },
    "papermill": {
     "duration": 0.0438,
     "end_time": "2022-01-01T00:27:33.004764",
     "exception": false,
     "start_time": "2022-01-01T00:27:32.960964",
     "status": "completed"
    },
    "tags": []
   },
   "outputs": [],
   "source": [
    "#hide\n",
    "# g = g.rename(columns= {'continent':'group','country':'name','cases':'value'})"
   ]
  },
  {
   "cell_type": "code",
   "execution_count": 36,
   "id": "fleet-motorcycle",
   "metadata": {
    "execution": {
     "iopub.execute_input": "2022-01-01T00:27:33.083125Z",
     "iopub.status.busy": "2022-01-01T00:27:33.082482Z",
     "iopub.status.idle": "2022-01-01T00:27:33.084347Z",
     "shell.execute_reply": "2022-01-01T00:27:33.084793Z"
    },
    "papermill": {
     "duration": 0.043883,
     "end_time": "2022-01-01T00:27:33.084947",
     "exception": false,
     "start_time": "2022-01-01T00:27:33.041064",
     "status": "completed"
    },
    "tags": []
   },
   "outputs": [],
   "source": [
    "#hide\n",
    "# cols = ['name','group','day','value']"
   ]
  },
  {
   "cell_type": "code",
   "execution_count": 37,
   "id": "continued-sleeping",
   "metadata": {
    "execution": {
     "iopub.execute_input": "2022-01-01T00:27:33.164283Z",
     "iopub.status.busy": "2022-01-01T00:27:33.163651Z",
     "iopub.status.idle": "2022-01-01T00:27:33.165994Z",
     "shell.execute_reply": "2022-01-01T00:27:33.165514Z"
    },
    "papermill": {
     "duration": 0.042904,
     "end_time": "2022-01-01T00:27:33.166123",
     "exception": false,
     "start_time": "2022-01-01T00:27:33.123219",
     "status": "completed"
    },
    "tags": []
   },
   "outputs": [],
   "source": [
    "#hide\n",
    "# g.rename(columns= {'date':'day'},inplace = True)"
   ]
  },
  {
   "cell_type": "code",
   "execution_count": 38,
   "id": "major-fight",
   "metadata": {
    "execution": {
     "iopub.execute_input": "2022-01-01T00:27:33.243713Z",
     "iopub.status.busy": "2022-01-01T00:27:33.243081Z",
     "iopub.status.idle": "2022-01-01T00:27:33.245326Z",
     "shell.execute_reply": "2022-01-01T00:27:33.244736Z"
    },
    "papermill": {
     "duration": 0.042579,
     "end_time": "2022-01-01T00:27:33.245457",
     "exception": false,
     "start_time": "2022-01-01T00:27:33.202878",
     "status": "completed"
    },
    "tags": []
   },
   "outputs": [],
   "source": [
    "#hide\n",
    "# g = g[cols]"
   ]
  },
  {
   "cell_type": "code",
   "execution_count": 39,
   "id": "structured-mobile",
   "metadata": {
    "execution": {
     "iopub.execute_input": "2022-01-01T00:27:33.320549Z",
     "iopub.status.busy": "2022-01-01T00:27:33.319905Z",
     "iopub.status.idle": "2022-01-01T00:27:33.322609Z",
     "shell.execute_reply": "2022-01-01T00:27:33.323102Z"
    },
    "papermill": {
     "duration": 0.042709,
     "end_time": "2022-01-01T00:27:33.323257",
     "exception": false,
     "start_time": "2022-01-01T00:27:33.280548",
     "status": "completed"
    },
    "tags": []
   },
   "outputs": [],
   "source": [
    "# #hide\n",
    "# g = g[g.group.notna()]"
   ]
  },
  {
   "cell_type": "code",
   "execution_count": 40,
   "id": "determined-closing",
   "metadata": {
    "execution": {
     "iopub.execute_input": "2022-01-01T00:27:33.399058Z",
     "iopub.status.busy": "2022-01-01T00:27:33.398403Z",
     "iopub.status.idle": "2022-01-01T00:27:33.400427Z",
     "shell.execute_reply": "2022-01-01T00:27:33.400981Z"
    },
    "papermill": {
     "duration": 0.042499,
     "end_time": "2022-01-01T00:27:33.401135",
     "exception": false,
     "start_time": "2022-01-01T00:27:33.358636",
     "status": "completed"
    },
    "tags": []
   },
   "outputs": [],
   "source": [
    "# #hide\n",
    "# colors = dict(zip(\n",
    "#     [\"Oceania\", \"Europe\", \"Asia\", \"South America\", \"Middle East\", \"North America\", \"Africa\"],\n",
    "#     [\"#adb0ff\", \"#ffb3ff\", \"#90d595\", \"#e48381\", \"#aafbff\", \"#f7bb5f\", \"#eafb50\"]\n",
    "# ))\n",
    "# group_lk = g.set_index('name')['group'].to_dict()"
   ]
  },
  {
   "cell_type": "code",
   "execution_count": null,
   "id": "gross-drinking",
   "metadata": {
    "papermill": {
     "duration": 0.035237,
     "end_time": "2022-01-01T00:27:33.471537",
     "exception": false,
     "start_time": "2022-01-01T00:27:33.436300",
     "status": "completed"
    },
    "tags": []
   },
   "outputs": [],
   "source": []
  },
  {
   "cell_type": "code",
   "execution_count": 41,
   "id": "subject-macintosh",
   "metadata": {
    "execution": {
     "iopub.execute_input": "2022-01-01T00:27:33.547202Z",
     "iopub.status.busy": "2022-01-01T00:27:33.546558Z",
     "iopub.status.idle": "2022-01-01T00:27:33.549600Z",
     "shell.execute_reply": "2022-01-01T00:27:33.550171Z"
    },
    "papermill": {
     "duration": 0.043666,
     "end_time": "2022-01-01T00:27:33.550352",
     "exception": false,
     "start_time": "2022-01-01T00:27:33.506686",
     "status": "completed"
    },
    "tags": []
   },
   "outputs": [],
   "source": [
    "# #hide\n",
    "# fig, ax = plt.subplots(figsize=(15, 8))\n",
    "\n",
    "# def draw_barchart(current_day):\n",
    "#     dff = g[g['day'].eq(current_day)].sort_values(by='value', ascending=True).tail(10)\n",
    "#     ax.clear()\n",
    "#     ax.barh(dff['name'], dff['value'], color=[colors[group_lk[x]] for x in dff['name']])\n",
    "#     dx = dff['value'].max() / 200\n",
    "    \n",
    "#     for i, (value, name) in enumerate(zip(dff['value'], dff['name'])):\n",
    "#         ax.text(value-dx, i,     name,           size=14, weight=600, ha='right', va='bottom')\n",
    "#         ax.text(value-dx, i-.25, group_lk[name], size=10, color='#444444', ha='right', va='baseline')\n",
    "#         ax.text(value+dx, i,     f'{value:,.0f}',  size=14, ha='left',  va='center')\n",
    "#     ax.text(1, 0.4, current_day, transform=ax.transAxes, color='#777777', size=46, ha='right', weight=800)\n",
    "#     ax.text(0, 1.06, 'Population (thousands)', transform=ax.transAxes, size=12, color='#777777')\n",
    "#     ax.xaxis.set_major_formatter(ticker.StrMethodFormatter('{x:,.0f}'))\n",
    "#     ax.xaxis.set_ticks_position('top')\n",
    "#     ax.tick_params(axis='x', colors='#777777', labelsize=12)\n",
    "#     ax.set_yticks([])\n",
    "#     ax.margins(0, 0.01)\n",
    "#     ax.grid(which='major', axis='x', linestyle='-')\n",
    "#     ax.set_axisbelow(True)\n",
    "    \n",
    "#     ax.text(0, 1.15, 'Coronavirus',\n",
    "#             transform=ax.transAxes, size=24, weight=600, ha='left', va='top')\n",
    "# #     ax.text(1, 0, 'by @pratapvardhan; credit @jburnmurdoch', transform=ax.transAxes, color='#777777', ha='right',\n",
    "# #             bbox=dict(facecolor='white', alpha=0.8, edgecolor='white'))\n",
    "#     plt.box(False)"
   ]
  },
  {
   "cell_type": "code",
   "execution_count": 42,
   "id": "sexual-wages",
   "metadata": {
    "execution": {
     "iopub.execute_input": "2022-01-01T00:27:33.627400Z",
     "iopub.status.busy": "2022-01-01T00:27:33.626286Z",
     "iopub.status.idle": "2022-01-01T00:27:33.629786Z",
     "shell.execute_reply": "2022-01-01T00:27:33.630690Z"
    },
    "papermill": {
     "duration": 0.045372,
     "end_time": "2022-01-01T00:27:33.630942",
     "exception": false,
     "start_time": "2022-01-01T00:27:33.585570",
     "status": "completed"
    },
    "tags": []
   },
   "outputs": [],
   "source": [
    "# #hide_input\n",
    "# fig, ax = plt.subplots(figsize=(15, 8))\n",
    "# animator = animation.FuncAnimation(fig, draw_barchart, frames=range(g.day.values.min(), g.day.values.max()))\n",
    "# HTML(animator.to_jshtml())\n",
    "# # or use animator.to_html5_video() or animator.save() "
   ]
  },
  {
   "cell_type": "code",
   "execution_count": null,
   "id": "australian-container",
   "metadata": {
    "papermill": {
     "duration": 0.037443,
     "end_time": "2022-01-01T00:27:33.707550",
     "exception": false,
     "start_time": "2022-01-01T00:27:33.670107",
     "status": "completed"
    },
    "tags": []
   },
   "outputs": [],
   "source": []
  },
  {
   "cell_type": "code",
   "execution_count": null,
   "id": "mediterranean-pontiac",
   "metadata": {
    "papermill": {
     "duration": 0.041329,
     "end_time": "2022-01-01T00:27:33.785784",
     "exception": false,
     "start_time": "2022-01-01T00:27:33.744455",
     "status": "completed"
    },
    "tags": []
   },
   "outputs": [],
   "source": []
  },
  {
   "cell_type": "code",
   "execution_count": null,
   "id": "aging-legislature",
   "metadata": {
    "papermill": {
     "duration": 0.037276,
     "end_time": "2022-01-01T00:27:33.860063",
     "exception": false,
     "start_time": "2022-01-01T00:27:33.822787",
     "status": "completed"
    },
    "tags": []
   },
   "outputs": [],
   "source": []
  }
 ],
 "metadata": {
  "kernelspec": {
   "display_name": "Python 3",
   "language": "python",
   "name": "python3"
  },
  "language_info": {
   "codemirror_mode": {
    "name": "ipython",
    "version": 3
   },
   "file_extension": ".py",
   "mimetype": "text/x-python",
   "name": "python",
   "nbconvert_exporter": "python",
   "pygments_lexer": "ipython3",
   "version": "3.6.15"
  },
  "papermill": {
   "duration": 7.058025,
   "end_time": "2022-01-01T00:27:34.306220",
   "environment_variables": {},
   "exception": null,
   "input_path": "2020-03-21-covid19exp.ipynb",
   "output_path": "2020-03-21-covid19exp.ipynb",
   "parameters": {},
   "start_time": "2022-01-01T00:27:27.248195",
   "version": "2.0.0"
  }
 },
 "nbformat": 4,
 "nbformat_minor": 5
}