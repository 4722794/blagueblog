{
 "cells": [
  {
   "cell_type": "markdown",
   "id": "muslim-click",
   "metadata": {
    "papermill": {
     "duration": 0.040532,
     "end_time": "2021-07-02T00:20:02.983980",
     "exception": false,
     "start_time": "2021-07-02T00:20:02.943448",
     "status": "completed"
    },
    "tags": []
   },
   "source": [
    "# COVID-19 Case Race\n",
    "> A race chart to see rising cases around the world\n",
    "\n",
    "- author: Hargun Oberoi\n",
    "- image: images/covid-overview.png\n",
    "- hide: false\n",
    "- badges: false"
   ]
  },
  {
   "cell_type": "code",
   "execution_count": 1,
   "id": "proof-material",
   "metadata": {
    "execution": {
     "iopub.execute_input": "2021-07-02T00:20:03.072605Z",
     "iopub.status.busy": "2021-07-02T00:20:03.071923Z",
     "iopub.status.idle": "2021-07-02T00:20:03.452300Z",
     "shell.execute_reply": "2021-07-02T00:20:03.451173Z"
    },
    "papermill": {
     "duration": 0.430309,
     "end_time": "2021-07-02T00:20:03.452601",
     "exception": false,
     "start_time": "2021-07-02T00:20:03.022292",
     "status": "completed"
    },
    "tags": []
   },
   "outputs": [],
   "source": [
    "#hide\n",
    "import numpy as np\n",
    "import pandas as pd\n",
    "from jinja2 import Template\n",
    "from IPython.display import HTML"
   ]
  },
  {
   "cell_type": "code",
   "execution_count": 2,
   "id": "developed-terminology",
   "metadata": {
    "execution": {
     "iopub.execute_input": "2021-07-02T00:20:03.538964Z",
     "iopub.status.busy": "2021-07-02T00:20:03.538302Z",
     "iopub.status.idle": "2021-07-02T00:20:03.540169Z",
     "shell.execute_reply": "2021-07-02T00:20:03.540683Z"
    },
    "papermill": {
     "duration": 0.046437,
     "end_time": "2021-07-02T00:20:03.540831",
     "exception": false,
     "start_time": "2021-07-02T00:20:03.494394",
     "status": "completed"
    },
    "tags": []
   },
   "outputs": [],
   "source": [
    "#hide\n",
    "\n",
    "# FETCH\n",
    "base_url = 'https://raw.githubusercontent.com/pratapvardhan/notebooks/master/covid19/'\n",
    "paths = {\n",
    "    'mapping': base_url + 'mapping_countries.csv',\n",
    "    'overview': base_url + 'overview.tpl'\n",
    "}"
   ]
  },
  {
   "cell_type": "code",
   "execution_count": 3,
   "id": "dynamic-saver",
   "metadata": {
    "execution": {
     "iopub.execute_input": "2021-07-02T00:20:03.632126Z",
     "iopub.status.busy": "2021-07-02T00:20:03.630798Z",
     "iopub.status.idle": "2021-07-02T00:20:03.634808Z",
     "shell.execute_reply": "2021-07-02T00:20:03.635467Z"
    },
    "papermill": {
     "duration": 0.056379,
     "end_time": "2021-07-02T00:20:03.635627",
     "exception": false,
     "start_time": "2021-07-02T00:20:03.579248",
     "status": "completed"
    },
    "tags": []
   },
   "outputs": [
    {
     "data": {
      "text/plain": [
       "'https://raw.githubusercontent.com/pratapvardhan/notebooks/master/covid19/mapping_countries.csv'"
      ]
     },
     "execution_count": 3,
     "metadata": {},
     "output_type": "execute_result"
    }
   ],
   "source": [
    "#hide\n",
    "paths['mapping']"
   ]
  },
  {
   "cell_type": "code",
   "execution_count": 4,
   "id": "urban-software",
   "metadata": {
    "execution": {
     "iopub.execute_input": "2021-07-02T00:20:03.716403Z",
     "iopub.status.busy": "2021-07-02T00:20:03.715768Z",
     "iopub.status.idle": "2021-07-02T00:20:03.718241Z",
     "shell.execute_reply": "2021-07-02T00:20:03.717695Z"
    },
    "papermill": {
     "duration": 0.046266,
     "end_time": "2021-07-02T00:20:03.718360",
     "exception": false,
     "start_time": "2021-07-02T00:20:03.672094",
     "status": "completed"
    },
    "tags": []
   },
   "outputs": [],
   "source": [
    "#hide\n",
    "def get_mappings(url):\n",
    "    df = pd.read_csv(url)\n",
    "    return {\n",
    "        'df': df,\n",
    "        'replace.country': dict(df.dropna(subset=['Name']).set_index('Country')['Name']),\n",
    "        'map.continent': dict(df.set_index('Name')['Continent'])\n",
    "    }"
   ]
  },
  {
   "cell_type": "code",
   "execution_count": 5,
   "id": "intimate-machinery",
   "metadata": {
    "execution": {
     "iopub.execute_input": "2021-07-02T00:20:03.792935Z",
     "iopub.status.busy": "2021-07-02T00:20:03.792317Z",
     "iopub.status.idle": "2021-07-02T00:20:03.861317Z",
     "shell.execute_reply": "2021-07-02T00:20:03.860836Z"
    },
    "papermill": {
     "duration": 0.108385,
     "end_time": "2021-07-02T00:20:03.861442",
     "exception": false,
     "start_time": "2021-07-02T00:20:03.753057",
     "status": "completed"
    },
    "tags": []
   },
   "outputs": [],
   "source": [
    "#hide\n",
    "mapping = get_mappings(paths['mapping'])"
   ]
  },
  {
   "cell_type": "code",
   "execution_count": 6,
   "id": "certified-tactics",
   "metadata": {
    "execution": {
     "iopub.execute_input": "2021-07-02T00:20:03.941429Z",
     "iopub.status.busy": "2021-07-02T00:20:03.940378Z",
     "iopub.status.idle": "2021-07-02T00:20:03.943304Z",
     "shell.execute_reply": "2021-07-02T00:20:03.943920Z"
    },
    "papermill": {
     "duration": 0.044654,
     "end_time": "2021-07-02T00:20:03.944072",
     "exception": false,
     "start_time": "2021-07-02T00:20:03.899418",
     "status": "completed"
    },
    "tags": []
   },
   "outputs": [],
   "source": [
    "#hide\n",
    "def get_template(path):\n",
    "    from urllib.parse import urlparse\n",
    "    if bool(urlparse(path).netloc):\n",
    "        from urllib.request import urlopen\n",
    "        return urlopen(path).read().decode('utf8')\n",
    "    return open(path).read()"
   ]
  },
  {
   "cell_type": "code",
   "execution_count": 7,
   "id": "realistic-blast",
   "metadata": {
    "execution": {
     "iopub.execute_input": "2021-07-02T00:20:04.035076Z",
     "iopub.status.busy": "2021-07-02T00:20:04.034365Z",
     "iopub.status.idle": "2021-07-02T00:20:04.036508Z",
     "shell.execute_reply": "2021-07-02T00:20:04.037261Z"
    },
    "papermill": {
     "duration": 0.051426,
     "end_time": "2021-07-02T00:20:04.037562",
     "exception": false,
     "start_time": "2021-07-02T00:20:03.986136",
     "status": "completed"
    },
    "tags": []
   },
   "outputs": [],
   "source": [
    "#hide\n",
    "def get_frame(name):\n",
    "    url = (\n",
    "        'https://raw.githubusercontent.com/CSSEGISandData/COVID-19/master/csse_covid_19_data/'\n",
    "        f'csse_covid_19_time_series/time_series_covid19_{name}_global.csv')\n",
    "    df = pd.read_csv(url)\n",
    "    # rename countries\n",
    "    df['Country/Region'] = df['Country/Region'].replace(mapping['replace.country'])\n",
    "    return df"
   ]
  },
  {
   "cell_type": "code",
   "execution_count": 8,
   "id": "affiliated-characterization",
   "metadata": {
    "execution": {
     "iopub.execute_input": "2021-07-02T00:20:04.113262Z",
     "iopub.status.busy": "2021-07-02T00:20:04.112692Z",
     "iopub.status.idle": "2021-07-02T00:20:04.114659Z",
     "shell.execute_reply": "2021-07-02T00:20:04.115156Z"
    },
    "papermill": {
     "duration": 0.042327,
     "end_time": "2021-07-02T00:20:04.115298",
     "exception": false,
     "start_time": "2021-07-02T00:20:04.072971",
     "status": "completed"
    },
    "tags": []
   },
   "outputs": [],
   "source": [
    "#hide\n",
    "def get_dates(df):\n",
    "    dt_cols = df.columns[~df.columns.isin(['Province/State', 'Country/Region', 'Lat', 'Long'])]\n",
    "    LAST_DATE_I = -1\n",
    "    # sometimes last column may be empty, then go backwards\n",
    "    for i in range(-1, -len(dt_cols), -1):\n",
    "        if not df[dt_cols[i]].fillna(0).eq(0).all():\n",
    "            LAST_DATE_I = i\n",
    "            break\n",
    "    return LAST_DATE_I, dt_cols"
   ]
  },
  {
   "cell_type": "code",
   "execution_count": 9,
   "id": "recent-optimization",
   "metadata": {
    "execution": {
     "iopub.execute_input": "2021-07-02T00:20:04.188438Z",
     "iopub.status.busy": "2021-07-02T00:20:04.187657Z",
     "iopub.status.idle": "2021-07-02T00:20:04.823485Z",
     "shell.execute_reply": "2021-07-02T00:20:04.822884Z"
    },
    "papermill": {
     "duration": 0.674169,
     "end_time": "2021-07-02T00:20:04.823621",
     "exception": false,
     "start_time": "2021-07-02T00:20:04.149452",
     "status": "completed"
    },
    "tags": []
   },
   "outputs": [],
   "source": [
    "#hide\n",
    "COL_REGION = 'Country/Region'\n",
    "# Confirmed, Recovered, Deaths\n",
    "df = get_frame('confirmed')\n",
    "# dft_: timeseries, dfc_: today country agg\n",
    "dft_cases = df\n",
    "dft_deaths = get_frame('deaths')\n",
    "dft_recovered = get_frame('recovered')\n",
    "LAST_DATE_I, dt_cols = get_dates(df)"
   ]
  },
  {
   "cell_type": "code",
   "execution_count": 10,
   "id": "absolute-copper",
   "metadata": {
    "execution": {
     "iopub.execute_input": "2021-07-02T00:20:04.902456Z",
     "iopub.status.busy": "2021-07-02T00:20:04.901799Z",
     "iopub.status.idle": "2021-07-02T00:20:04.904472Z",
     "shell.execute_reply": "2021-07-02T00:20:04.903973Z"
    },
    "papermill": {
     "duration": 0.04319,
     "end_time": "2021-07-02T00:20:04.904589",
     "exception": false,
     "start_time": "2021-07-02T00:20:04.861399",
     "status": "completed"
    },
    "tags": []
   },
   "outputs": [],
   "source": [
    "#hide\n",
    "LAST_DATE_I, dt_cols = get_dates(df)\n",
    "dt_today =dt_cols[LAST_DATE_I]\n",
    "# dt_5day = dt_cols[LAST_DATE_I - 5]\n",
    "dt_yday = dt_cols[LAST_DATE_I - 1]"
   ]
  },
  {
   "cell_type": "code",
   "execution_count": 11,
   "id": "restricted-sheriff",
   "metadata": {
    "execution": {
     "iopub.execute_input": "2021-07-02T00:20:04.984826Z",
     "iopub.status.busy": "2021-07-02T00:20:04.984168Z",
     "iopub.status.idle": "2021-07-02T00:20:04.995052Z",
     "shell.execute_reply": "2021-07-02T00:20:04.994523Z"
    },
    "papermill": {
     "duration": 0.056537,
     "end_time": "2021-07-02T00:20:04.995193",
     "exception": false,
     "start_time": "2021-07-02T00:20:04.938656",
     "status": "completed"
    },
    "tags": []
   },
   "outputs": [],
   "source": [
    "#hide\n",
    "dfc_cases = dft_cases.groupby(COL_REGION)[dt_today].sum()\n",
    "dfc_deaths = dft_deaths.groupby(COL_REGION)[dt_today].sum()\n",
    "# dfp_cases = dft_cases.groupby(COL_REGION)[dt_5day].sum()\n",
    "# dfp_deaths = dft_deaths.groupby(COL_REGION)[dt_5day].sum()\n",
    "dfp_cases = dft_cases.groupby(COL_REGION)[dt_yday].sum()\n",
    "dfp_deaths = dft_deaths.groupby(COL_REGION)[dt_yday].sum()"
   ]
  },
  {
   "cell_type": "code",
   "execution_count": 12,
   "id": "deluxe-hepatitis",
   "metadata": {
    "execution": {
     "iopub.execute_input": "2021-07-02T00:20:05.074715Z",
     "iopub.status.busy": "2021-07-02T00:20:05.074080Z",
     "iopub.status.idle": "2021-07-02T00:20:05.079355Z",
     "shell.execute_reply": "2021-07-02T00:20:05.079983Z"
    },
    "papermill": {
     "duration": 0.047692,
     "end_time": "2021-07-02T00:20:05.080226",
     "exception": false,
     "start_time": "2021-07-02T00:20:05.032534",
     "status": "completed"
    },
    "tags": []
   },
   "outputs": [],
   "source": [
    "#hide\n",
    "df_table = (pd.DataFrame(dict(Cases = dfc_cases, Deaths = dfc_deaths, PCases = dfp_cases, PDeaths = dfp_deaths))\n",
    "            .sort_values(by = ['Cases','Deaths'], ascending = [False, False])\n",
    "            .reset_index())"
   ]
  },
  {
   "cell_type": "code",
   "execution_count": 13,
   "id": "educational-chancellor",
   "metadata": {
    "execution": {
     "iopub.execute_input": "2021-07-02T00:20:05.177662Z",
     "iopub.status.busy": "2021-07-02T00:20:05.176421Z",
     "iopub.status.idle": "2021-07-02T00:20:05.185657Z",
     "shell.execute_reply": "2021-07-02T00:20:05.186398Z"
    },
    "papermill": {
     "duration": 0.068704,
     "end_time": "2021-07-02T00:20:05.186540",
     "exception": false,
     "start_time": "2021-07-02T00:20:05.117836",
     "status": "completed"
    },
    "tags": []
   },
   "outputs": [
    {
     "data": {
      "text/html": [
       "<div>\n",
       "<style scoped>\n",
       "    .dataframe tbody tr th:only-of-type {\n",
       "        vertical-align: middle;\n",
       "    }\n",
       "\n",
       "    .dataframe tbody tr th {\n",
       "        vertical-align: top;\n",
       "    }\n",
       "\n",
       "    .dataframe thead th {\n",
       "        text-align: right;\n",
       "    }\n",
       "</style>\n",
       "<table border=\"1\" class=\"dataframe\">\n",
       "  <thead>\n",
       "    <tr style=\"text-align: right;\">\n",
       "      <th></th>\n",
       "      <th>Country/Region</th>\n",
       "      <th>Cases</th>\n",
       "      <th>Deaths</th>\n",
       "      <th>PCases</th>\n",
       "      <th>PDeaths</th>\n",
       "      <th>Cases (+)</th>\n",
       "      <th>Deaths (+)</th>\n",
       "      <th>Fatality Rate</th>\n",
       "      <th>Continent</th>\n",
       "    </tr>\n",
       "  </thead>\n",
       "  <tbody>\n",
       "    <tr>\n",
       "      <th>0</th>\n",
       "      <td>US</td>\n",
       "      <td>33664970</td>\n",
       "      <td>604714</td>\n",
       "      <td>33652098</td>\n",
       "      <td>604474</td>\n",
       "      <td>12872</td>\n",
       "      <td>240</td>\n",
       "      <td>1.80</td>\n",
       "      <td>North America</td>\n",
       "    </tr>\n",
       "    <tr>\n",
       "      <th>1</th>\n",
       "      <td>India</td>\n",
       "      <td>30411634</td>\n",
       "      <td>399459</td>\n",
       "      <td>30362848</td>\n",
       "      <td>398454</td>\n",
       "      <td>48786</td>\n",
       "      <td>1005</td>\n",
       "      <td>1.31</td>\n",
       "      <td>Asia</td>\n",
       "    </tr>\n",
       "    <tr>\n",
       "      <th>2</th>\n",
       "      <td>Brazil</td>\n",
       "      <td>18557141</td>\n",
       "      <td>518066</td>\n",
       "      <td>18513305</td>\n",
       "      <td>515985</td>\n",
       "      <td>43836</td>\n",
       "      <td>2081</td>\n",
       "      <td>2.79</td>\n",
       "      <td>South America</td>\n",
       "    </tr>\n",
       "    <tr>\n",
       "      <th>3</th>\n",
       "      <td>France</td>\n",
       "      <td>5837265</td>\n",
       "      <td>111244</td>\n",
       "      <td>5835885</td>\n",
       "      <td>111230</td>\n",
       "      <td>1380</td>\n",
       "      <td>14</td>\n",
       "      <td>1.91</td>\n",
       "      <td>Europe</td>\n",
       "    </tr>\n",
       "    <tr>\n",
       "      <th>4</th>\n",
       "      <td>Russia</td>\n",
       "      <td>5449594</td>\n",
       "      <td>132973</td>\n",
       "      <td>5428961</td>\n",
       "      <td>132314</td>\n",
       "      <td>20633</td>\n",
       "      <td>659</td>\n",
       "      <td>2.44</td>\n",
       "      <td>Europe</td>\n",
       "    </tr>\n",
       "  </tbody>\n",
       "</table>\n",
       "</div>"
      ],
      "text/plain": [
       "  Country/Region     Cases  Deaths    PCases  PDeaths  Cases (+)  Deaths (+)  \\\n",
       "0             US  33664970  604714  33652098   604474      12872         240   \n",
       "1          India  30411634  399459  30362848   398454      48786        1005   \n",
       "2         Brazil  18557141  518066  18513305   515985      43836        2081   \n",
       "3         France   5837265  111244   5835885   111230       1380          14   \n",
       "4         Russia   5449594  132973   5428961   132314      20633         659   \n",
       "\n",
       "   Fatality Rate      Continent  \n",
       "0           1.80  North America  \n",
       "1           1.31           Asia  \n",
       "2           2.79  South America  \n",
       "3           1.91         Europe  \n",
       "4           2.44         Europe  "
      ]
     },
     "execution_count": 13,
     "metadata": {},
     "output_type": "execute_result"
    }
   ],
   "source": [
    "#hide\n",
    "for c in 'Cases, Deaths'.split(', '):\n",
    "    df_table[f'{c} (+)'] = (df_table[c] - df_table[f'P{c}']).clip(0)\n",
    "    #Clip ça veut dire, les chiffres negatif sont interdit\n",
    "df_table['Fatality Rate'] = (100* df_table['Deaths']/ df_table['Cases']).round(2)\n",
    "df_table['Continent'] = df_table['Country/Region'].map(mapping['map.continent'])\n",
    "df_table.head(5)"
   ]
  },
  {
   "cell_type": "code",
   "execution_count": 14,
   "id": "aboriginal-bulgaria",
   "metadata": {
    "execution": {
     "iopub.execute_input": "2021-07-02T00:20:05.276674Z",
     "iopub.status.busy": "2021-07-02T00:20:05.276031Z",
     "iopub.status.idle": "2021-07-02T00:20:05.279958Z",
     "shell.execute_reply": "2021-07-02T00:20:05.279299Z"
    },
    "papermill": {
     "duration": 0.048704,
     "end_time": "2021-07-02T00:20:05.280092",
     "exception": false,
     "start_time": "2021-07-02T00:20:05.231388",
     "status": "completed"
    },
    "tags": []
   },
   "outputs": [],
   "source": [
    "#hide\n",
    "#delete problematic countries from table\n",
    "df_table = df_table[~df_table['Country/Region'].isin(['Cape Verde', 'Cruise Ship', 'Kosovo'])]"
   ]
  },
  {
   "cell_type": "code",
   "execution_count": 15,
   "id": "fantastic-effect",
   "metadata": {
    "execution": {
     "iopub.execute_input": "2021-07-02T00:20:05.370451Z",
     "iopub.status.busy": "2021-07-02T00:20:05.369800Z",
     "iopub.status.idle": "2021-07-02T00:20:05.391581Z",
     "shell.execute_reply": "2021-07-02T00:20:05.392662Z"
    },
    "papermill": {
     "duration": 0.075185,
     "end_time": "2021-07-02T00:20:05.392823",
     "exception": false,
     "start_time": "2021-07-02T00:20:05.317638",
     "status": "completed"
    },
    "tags": []
   },
   "outputs": [
    {
     "data": {
      "text/html": [
       "<div>\n",
       "<style scoped>\n",
       "    .dataframe tbody tr th:only-of-type {\n",
       "        vertical-align: middle;\n",
       "    }\n",
       "\n",
       "    .dataframe tbody tr th {\n",
       "        vertical-align: top;\n",
       "    }\n",
       "\n",
       "    .dataframe thead th {\n",
       "        text-align: right;\n",
       "    }\n",
       "</style>\n",
       "<table border=\"1\" class=\"dataframe\">\n",
       "  <thead>\n",
       "    <tr style=\"text-align: right;\">\n",
       "      <th></th>\n",
       "      <th>Country/Region</th>\n",
       "      <th>Cases</th>\n",
       "      <th>Deaths</th>\n",
       "      <th>PCases</th>\n",
       "      <th>PDeaths</th>\n",
       "      <th>Cases (+)</th>\n",
       "      <th>Deaths (+)</th>\n",
       "      <th>Fatality Rate</th>\n",
       "      <th>Continent</th>\n",
       "    </tr>\n",
       "  </thead>\n",
       "  <tbody>\n",
       "    <tr>\n",
       "      <th>0</th>\n",
       "      <td>US</td>\n",
       "      <td>33664970</td>\n",
       "      <td>604714</td>\n",
       "      <td>33652098</td>\n",
       "      <td>604474</td>\n",
       "      <td>12872</td>\n",
       "      <td>240</td>\n",
       "      <td>1.8</td>\n",
       "      <td>North America</td>\n",
       "    </tr>\n",
       "    <tr>\n",
       "      <th>1</th>\n",
       "      <td>India</td>\n",
       "      <td>30411634</td>\n",
       "      <td>399459</td>\n",
       "      <td>30362848</td>\n",
       "      <td>398454</td>\n",
       "      <td>48786</td>\n",
       "      <td>1005</td>\n",
       "      <td>1.3</td>\n",
       "      <td>Asia</td>\n",
       "    </tr>\n",
       "    <tr>\n",
       "      <th>2</th>\n",
       "      <td>Brazil</td>\n",
       "      <td>18557141</td>\n",
       "      <td>518066</td>\n",
       "      <td>18513305</td>\n",
       "      <td>515985</td>\n",
       "      <td>43836</td>\n",
       "      <td>2081</td>\n",
       "      <td>2.8</td>\n",
       "      <td>South America</td>\n",
       "    </tr>\n",
       "    <tr>\n",
       "      <th>3</th>\n",
       "      <td>France</td>\n",
       "      <td>5837265</td>\n",
       "      <td>111244</td>\n",
       "      <td>5835885</td>\n",
       "      <td>111230</td>\n",
       "      <td>1380</td>\n",
       "      <td>14</td>\n",
       "      <td>1.9</td>\n",
       "      <td>Europe</td>\n",
       "    </tr>\n",
       "    <tr>\n",
       "      <th>4</th>\n",
       "      <td>Russia</td>\n",
       "      <td>5449594</td>\n",
       "      <td>132973</td>\n",
       "      <td>5428961</td>\n",
       "      <td>132314</td>\n",
       "      <td>20633</td>\n",
       "      <td>659</td>\n",
       "      <td>2.4</td>\n",
       "      <td>Europe</td>\n",
       "    </tr>\n",
       "  </tbody>\n",
       "</table>\n",
       "</div>"
      ],
      "text/plain": [
       "  Country/Region     Cases  Deaths    PCases  PDeaths  Cases (+)  Deaths (+)  \\\n",
       "0             US  33664970  604714  33652098   604474      12872         240   \n",
       "1          India  30411634  399459  30362848   398454      48786        1005   \n",
       "2         Brazil  18557141  518066  18513305   515985      43836        2081   \n",
       "3         France   5837265  111244   5835885   111230       1380          14   \n",
       "4         Russia   5449594  132973   5428961   132314      20633         659   \n",
       "\n",
       "   Fatality Rate      Continent  \n",
       "0            1.8  North America  \n",
       "1            1.3           Asia  \n",
       "2            2.8  South America  \n",
       "3            1.9         Europe  \n",
       "4            2.4         Europe  "
      ]
     },
     "execution_count": 15,
     "metadata": {},
     "output_type": "execute_result"
    }
   ],
   "source": [
    "#hide\n",
    "df_table = (pd.DataFrame(dict(Cases=dfc_cases, Deaths=dfc_deaths, PCases=dfp_cases, PDeaths=dfp_deaths))\n",
    "             .sort_values(by=['Cases', 'Deaths'], ascending=[False, False])\n",
    "             .reset_index())\n",
    "df_table.rename(columns={'index': 'Country/Region'}, inplace=True)\n",
    "for c in 'Cases, Deaths'.split(', '):\n",
    "    df_table[f'{c} (+)'] = (df_table[c] - df_table[f'P{c}']).clip(0)  # DATA BUG\n",
    "df_table['Fatality Rate'] = (100 * df_table['Deaths'] / df_table['Cases']).round(1)\n",
    "df_table['Continent'] = df_table['Country/Region'].map(mapping['map.continent'])\n",
    "df_table.head(5)"
   ]
  },
  {
   "cell_type": "code",
   "execution_count": 16,
   "id": "fewer-occasion",
   "metadata": {
    "execution": {
     "iopub.execute_input": "2021-07-02T00:20:05.473974Z",
     "iopub.status.busy": "2021-07-02T00:20:05.473405Z",
     "iopub.status.idle": "2021-07-02T00:20:05.476420Z",
     "shell.execute_reply": "2021-07-02T00:20:05.476954Z"
    },
    "papermill": {
     "duration": 0.044146,
     "end_time": "2021-07-02T00:20:05.477079",
     "exception": false,
     "start_time": "2021-07-02T00:20:05.432933",
     "status": "completed"
    },
    "tags": []
   },
   "outputs": [],
   "source": [
    "#hide\n",
    "#delete problematic countries from table\n",
    "df_table = df_table[~df_table['Country/Region'].isin(['Cape Verde', 'Cruise Ship', 'Kosovo'])]"
   ]
  },
  {
   "cell_type": "code",
   "execution_count": 17,
   "id": "related-center",
   "metadata": {
    "execution": {
     "iopub.execute_input": "2021-07-02T00:20:05.561219Z",
     "iopub.status.busy": "2021-07-02T00:20:05.560640Z",
     "iopub.status.idle": "2021-07-02T00:20:05.569150Z",
     "shell.execute_reply": "2021-07-02T00:20:05.568646Z"
    },
    "papermill": {
     "duration": 0.057515,
     "end_time": "2021-07-02T00:20:05.569294",
     "exception": false,
     "start_time": "2021-07-02T00:20:05.511779",
     "status": "completed"
    },
    "tags": []
   },
   "outputs": [],
   "source": [
    "#hide\n",
    "metrics = [df_table.columns[index] for index in [1,2,5,6]]\n",
    "# s_china = df_table[df_table['Country/Region'].eq('China')][metrics].sum().add_prefix('China ')\n",
    "s_us = df_table[df_table['Country/Region'].eq('US')][metrics].sum().add_prefix('US ')\n",
    "s_eu = df_table[df_table['Continent'].eq('Europe')][metrics].sum().add_prefix('EU ')\n",
    "s_ind = df_table[df_table['Country/Region'].eq('India')][metrics].sum().add_prefix('India ')\n",
    "summary = {'updated': pd.to_datetime(dt_today), 'since': pd.to_datetime(dt_yday)}\n",
    "summary = {'updated': pd.to_datetime(dt_today), 'since': pd.to_datetime(dt_yday)}\n",
    "summary = {**summary, **df_table[metrics].sum(), **s_ind, **s_us, **s_eu}"
   ]
  },
  {
   "cell_type": "code",
   "execution_count": 18,
   "id": "engaging-syndrome",
   "metadata": {
    "execution": {
     "iopub.execute_input": "2021-07-02T00:20:05.657174Z",
     "iopub.status.busy": "2021-07-02T00:20:05.656503Z",
     "iopub.status.idle": "2021-07-02T00:20:05.669257Z",
     "shell.execute_reply": "2021-07-02T00:20:05.668698Z"
    },
    "papermill": {
     "duration": 0.057837,
     "end_time": "2021-07-02T00:20:05.669397",
     "exception": false,
     "start_time": "2021-07-02T00:20:05.611560",
     "status": "completed"
    },
    "tags": []
   },
   "outputs": [],
   "source": [
    "#hide\n",
    "dft_ct_new_cases = dft_cases.groupby(COL_REGION)[dt_cols].sum().diff(axis=1).fillna(0).astype(int)"
   ]
  },
  {
   "cell_type": "code",
   "execution_count": 19,
   "id": "neutral-assignment",
   "metadata": {
    "execution": {
     "iopub.execute_input": "2021-07-02T00:20:05.751276Z",
     "iopub.status.busy": "2021-07-02T00:20:05.750563Z",
     "iopub.status.idle": "2021-07-02T00:20:05.752610Z",
     "shell.execute_reply": "2021-07-02T00:20:05.753166Z"
    },
    "papermill": {
     "duration": 0.047306,
     "end_time": "2021-07-02T00:20:05.753314",
     "exception": false,
     "start_time": "2021-07-02T00:20:05.706008",
     "status": "completed"
    },
    "tags": []
   },
   "outputs": [],
   "source": [
    "#hide\n",
    "everydaycases = dft_ct_new_cases.cumsum(axis=1)"
   ]
  },
  {
   "cell_type": "code",
   "execution_count": 20,
   "id": "parliamentary-calgary",
   "metadata": {
    "execution": {
     "iopub.execute_input": "2021-07-02T00:20:05.839775Z",
     "iopub.status.busy": "2021-07-02T00:20:05.839100Z",
     "iopub.status.idle": "2021-07-02T00:20:06.468998Z",
     "shell.execute_reply": "2021-07-02T00:20:06.469506Z"
    },
    "papermill": {
     "duration": 0.674401,
     "end_time": "2021-07-02T00:20:06.469662",
     "exception": false,
     "start_time": "2021-07-02T00:20:05.795261",
     "status": "completed"
    },
    "tags": []
   },
   "outputs": [],
   "source": [
    "#hide\n",
    "import pandas as pd\n",
    "import matplotlib.pyplot as plt\n",
    "import matplotlib.ticker as ticker\n",
    "import matplotlib.animation as animation\n",
    "from IPython.display import HTML"
   ]
  },
  {
   "cell_type": "code",
   "execution_count": 21,
   "id": "lasting-extraction",
   "metadata": {
    "execution": {
     "iopub.execute_input": "2021-07-02T00:20:06.550012Z",
     "iopub.status.busy": "2021-07-02T00:20:06.549371Z",
     "iopub.status.idle": "2021-07-02T00:20:06.554462Z",
     "shell.execute_reply": "2021-07-02T00:20:06.555030Z"
    },
    "papermill": {
     "duration": 0.048204,
     "end_time": "2021-07-02T00:20:06.555160",
     "exception": false,
     "start_time": "2021-07-02T00:20:06.506956",
     "status": "completed"
    },
    "tags": []
   },
   "outputs": [],
   "source": [
    "#hide\n",
    "t = everydaycases.stack()"
   ]
  },
  {
   "cell_type": "code",
   "execution_count": 22,
   "id": "premier-sleeve",
   "metadata": {
    "execution": {
     "iopub.execute_input": "2021-07-02T00:20:06.638871Z",
     "iopub.status.busy": "2021-07-02T00:20:06.638228Z",
     "iopub.status.idle": "2021-07-02T00:20:06.645965Z",
     "shell.execute_reply": "2021-07-02T00:20:06.646509Z"
    },
    "papermill": {
     "duration": 0.049865,
     "end_time": "2021-07-02T00:20:06.646641",
     "exception": false,
     "start_time": "2021-07-02T00:20:06.596776",
     "status": "completed"
    },
    "tags": []
   },
   "outputs": [],
   "source": [
    "#hide\n",
    "g = t.reset_index(['Country/Region'])"
   ]
  },
  {
   "cell_type": "code",
   "execution_count": 23,
   "id": "distributed-pittsburgh",
   "metadata": {
    "execution": {
     "iopub.execute_input": "2021-07-02T00:20:06.728708Z",
     "iopub.status.busy": "2021-07-02T00:20:06.728024Z",
     "iopub.status.idle": "2021-07-02T00:20:06.729329Z",
     "shell.execute_reply": "2021-07-02T00:20:06.729940Z"
    },
    "papermill": {
     "duration": 0.044851,
     "end_time": "2021-07-02T00:20:06.730084",
     "exception": false,
     "start_time": "2021-07-02T00:20:06.685233",
     "status": "completed"
    },
    "tags": []
   },
   "outputs": [],
   "source": [
    "#hide\n",
    "g.index.name = 'date'"
   ]
  },
  {
   "cell_type": "code",
   "execution_count": 24,
   "id": "naked-donor",
   "metadata": {
    "execution": {
     "iopub.execute_input": "2021-07-02T00:20:06.814294Z",
     "iopub.status.busy": "2021-07-02T00:20:06.813679Z",
     "iopub.status.idle": "2021-07-02T00:20:06.816110Z",
     "shell.execute_reply": "2021-07-02T00:20:06.815630Z"
    },
    "papermill": {
     "duration": 0.043815,
     "end_time": "2021-07-02T00:20:06.816223",
     "exception": false,
     "start_time": "2021-07-02T00:20:06.772408",
     "status": "completed"
    },
    "tags": []
   },
   "outputs": [],
   "source": [
    "# #hide\n",
    "# g = g.reset_index(['date'])"
   ]
  },
  {
   "cell_type": "code",
   "execution_count": 25,
   "id": "incomplete-mustang",
   "metadata": {
    "execution": {
     "iopub.execute_input": "2021-07-02T00:20:06.900060Z",
     "iopub.status.busy": "2021-07-02T00:20:06.898588Z",
     "iopub.status.idle": "2021-07-02T00:20:06.900745Z",
     "shell.execute_reply": "2021-07-02T00:20:06.901288Z"
    },
    "papermill": {
     "duration": 0.048741,
     "end_time": "2021-07-02T00:20:06.901439",
     "exception": false,
     "start_time": "2021-07-02T00:20:06.852698",
     "status": "completed"
    },
    "tags": []
   },
   "outputs": [],
   "source": [
    "#hide\n",
    "# g.head()"
   ]
  },
  {
   "cell_type": "code",
   "execution_count": 26,
   "id": "specific-kruger",
   "metadata": {
    "execution": {
     "iopub.execute_input": "2021-07-02T00:20:06.987166Z",
     "iopub.status.busy": "2021-07-02T00:20:06.985748Z",
     "iopub.status.idle": "2021-07-02T00:20:06.987842Z",
     "shell.execute_reply": "2021-07-02T00:20:06.988301Z"
    },
    "papermill": {
     "duration": 0.045541,
     "end_time": "2021-07-02T00:20:06.988427",
     "exception": false,
     "start_time": "2021-07-02T00:20:06.942886",
     "status": "completed"
    },
    "tags": []
   },
   "outputs": [],
   "source": [
    "#hide\n",
    "# g.columns = ['date','country','cases']"
   ]
  },
  {
   "cell_type": "code",
   "execution_count": 27,
   "id": "tender-conversion",
   "metadata": {
    "execution": {
     "iopub.execute_input": "2021-07-02T00:20:07.079166Z",
     "iopub.status.busy": "2021-07-02T00:20:07.078521Z",
     "iopub.status.idle": "2021-07-02T00:20:07.082285Z",
     "shell.execute_reply": "2021-07-02T00:20:07.081162Z"
    },
    "papermill": {
     "duration": 0.05037,
     "end_time": "2021-07-02T00:20:07.082424",
     "exception": false,
     "start_time": "2021-07-02T00:20:07.032054",
     "status": "completed"
    },
    "tags": []
   },
   "outputs": [],
   "source": [
    "#hide\n",
    "# g['continent'] = g.country"
   ]
  },
  {
   "cell_type": "code",
   "execution_count": 28,
   "id": "substantial-wilderness",
   "metadata": {
    "execution": {
     "iopub.execute_input": "2021-07-02T00:20:07.174376Z",
     "iopub.status.busy": "2021-07-02T00:20:07.173722Z",
     "iopub.status.idle": "2021-07-02T00:20:07.176113Z",
     "shell.execute_reply": "2021-07-02T00:20:07.175512Z"
    },
    "papermill": {
     "duration": 0.046119,
     "end_time": "2021-07-02T00:20:07.176257",
     "exception": false,
     "start_time": "2021-07-02T00:20:07.130138",
     "status": "completed"
    },
    "tags": []
   },
   "outputs": [],
   "source": [
    "#hide\n",
    "# cols = list(g.columns.values)"
   ]
  },
  {
   "cell_type": "code",
   "execution_count": 29,
   "id": "solved-farming",
   "metadata": {
    "execution": {
     "iopub.execute_input": "2021-07-02T00:20:07.258907Z",
     "iopub.status.busy": "2021-07-02T00:20:07.258270Z",
     "iopub.status.idle": "2021-07-02T00:20:07.260168Z",
     "shell.execute_reply": "2021-07-02T00:20:07.260684Z"
    },
    "papermill": {
     "duration": 0.0448,
     "end_time": "2021-07-02T00:20:07.260816",
     "exception": false,
     "start_time": "2021-07-02T00:20:07.216016",
     "status": "completed"
    },
    "tags": []
   },
   "outputs": [],
   "source": [
    "#hide\n",
    "# cols.insert(0, cols.pop())"
   ]
  },
  {
   "cell_type": "code",
   "execution_count": 30,
   "id": "executed-adoption",
   "metadata": {
    "execution": {
     "iopub.execute_input": "2021-07-02T00:20:07.334113Z",
     "iopub.status.busy": "2021-07-02T00:20:07.333543Z",
     "iopub.status.idle": "2021-07-02T00:20:07.335566Z",
     "shell.execute_reply": "2021-07-02T00:20:07.336085Z"
    },
    "papermill": {
     "duration": 0.040816,
     "end_time": "2021-07-02T00:20:07.336261",
     "exception": false,
     "start_time": "2021-07-02T00:20:07.295445",
     "status": "completed"
    },
    "tags": []
   },
   "outputs": [],
   "source": [
    "#hide\n",
    "# g = g[cols]"
   ]
  },
  {
   "cell_type": "code",
   "execution_count": 31,
   "id": "subject-dublin",
   "metadata": {
    "execution": {
     "iopub.execute_input": "2021-07-02T00:20:07.410690Z",
     "iopub.status.busy": "2021-07-02T00:20:07.410082Z",
     "iopub.status.idle": "2021-07-02T00:20:07.411894Z",
     "shell.execute_reply": "2021-07-02T00:20:07.412441Z"
    },
    "papermill": {
     "duration": 0.041124,
     "end_time": "2021-07-02T00:20:07.412569",
     "exception": false,
     "start_time": "2021-07-02T00:20:07.371445",
     "status": "completed"
    },
    "tags": []
   },
   "outputs": [],
   "source": [
    "#hide\n",
    "# g['continent'] = g['continent'].map(mapping['map.continent'])"
   ]
  },
  {
   "cell_type": "code",
   "execution_count": 32,
   "id": "freelance-scout",
   "metadata": {
    "execution": {
     "iopub.execute_input": "2021-07-02T00:20:07.486524Z",
     "iopub.status.busy": "2021-07-02T00:20:07.485884Z",
     "iopub.status.idle": "2021-07-02T00:20:07.487901Z",
     "shell.execute_reply": "2021-07-02T00:20:07.488366Z"
    },
    "papermill": {
     "duration": 0.041052,
     "end_time": "2021-07-02T00:20:07.488500",
     "exception": false,
     "start_time": "2021-07-02T00:20:07.447448",
     "status": "completed"
    },
    "tags": []
   },
   "outputs": [],
   "source": [
    "#hide\n",
    "# g.head()"
   ]
  },
  {
   "cell_type": "code",
   "execution_count": 33,
   "id": "limited-engine",
   "metadata": {
    "execution": {
     "iopub.execute_input": "2021-07-02T00:20:07.579946Z",
     "iopub.status.busy": "2021-07-02T00:20:07.579297Z",
     "iopub.status.idle": "2021-07-02T00:20:07.580958Z",
     "shell.execute_reply": "2021-07-02T00:20:07.581478Z"
    },
    "papermill": {
     "duration": 0.053857,
     "end_time": "2021-07-02T00:20:07.581622",
     "exception": false,
     "start_time": "2021-07-02T00:20:07.527765",
     "status": "completed"
    },
    "tags": []
   },
   "outputs": [],
   "source": [
    "# hide\n",
    "# g['date'] = g['date'].astype('datetime64[ns]')"
   ]
  },
  {
   "cell_type": "code",
   "execution_count": 34,
   "id": "sophisticated-supervisor",
   "metadata": {
    "execution": {
     "iopub.execute_input": "2021-07-02T00:20:07.660136Z",
     "iopub.status.busy": "2021-07-02T00:20:07.659532Z",
     "iopub.status.idle": "2021-07-02T00:20:07.662284Z",
     "shell.execute_reply": "2021-07-02T00:20:07.662830Z"
    },
    "papermill": {
     "duration": 0.044448,
     "end_time": "2021-07-02T00:20:07.662956",
     "exception": false,
     "start_time": "2021-07-02T00:20:07.618508",
     "status": "completed"
    },
    "tags": []
   },
   "outputs": [],
   "source": [
    "#hide\n",
    "# g['date'] = g.date.dt.dayofyear"
   ]
  },
  {
   "cell_type": "code",
   "execution_count": 35,
   "id": "inside-dubai",
   "metadata": {
    "execution": {
     "iopub.execute_input": "2021-07-02T00:20:07.762574Z",
     "iopub.status.busy": "2021-07-02T00:20:07.752526Z",
     "iopub.status.idle": "2021-07-02T00:20:07.772440Z",
     "shell.execute_reply": "2021-07-02T00:20:07.777126Z"
    },
    "papermill": {
     "duration": 0.076317,
     "end_time": "2021-07-02T00:20:07.777314",
     "exception": false,
     "start_time": "2021-07-02T00:20:07.700997",
     "status": "completed"
    },
    "tags": []
   },
   "outputs": [],
   "source": [
    "#hide\n",
    "# g = g.rename(columns= {'continent':'group','country':'name','cases':'value'})"
   ]
  },
  {
   "cell_type": "code",
   "execution_count": 36,
   "id": "fleet-motorcycle",
   "metadata": {
    "execution": {
     "iopub.execute_input": "2021-07-02T00:20:07.856737Z",
     "iopub.status.busy": "2021-07-02T00:20:07.856058Z",
     "iopub.status.idle": "2021-07-02T00:20:07.858102Z",
     "shell.execute_reply": "2021-07-02T00:20:07.858598Z"
    },
    "papermill": {
     "duration": 0.042074,
     "end_time": "2021-07-02T00:20:07.858726",
     "exception": false,
     "start_time": "2021-07-02T00:20:07.816652",
     "status": "completed"
    },
    "tags": []
   },
   "outputs": [],
   "source": [
    "#hide\n",
    "# cols = ['name','group','day','value']"
   ]
  },
  {
   "cell_type": "code",
   "execution_count": 37,
   "id": "continued-sleeping",
   "metadata": {
    "execution": {
     "iopub.execute_input": "2021-07-02T00:20:07.934967Z",
     "iopub.status.busy": "2021-07-02T00:20:07.933679Z",
     "iopub.status.idle": "2021-07-02T00:20:07.936195Z",
     "shell.execute_reply": "2021-07-02T00:20:07.936735Z"
    },
    "papermill": {
     "duration": 0.041502,
     "end_time": "2021-07-02T00:20:07.936888",
     "exception": false,
     "start_time": "2021-07-02T00:20:07.895386",
     "status": "completed"
    },
    "tags": []
   },
   "outputs": [],
   "source": [
    "#hide\n",
    "# g.rename(columns= {'date':'day'},inplace = True)"
   ]
  },
  {
   "cell_type": "code",
   "execution_count": 38,
   "id": "major-fight",
   "metadata": {
    "execution": {
     "iopub.execute_input": "2021-07-02T00:20:08.030358Z",
     "iopub.status.busy": "2021-07-02T00:20:08.029685Z",
     "iopub.status.idle": "2021-07-02T00:20:08.031618Z",
     "shell.execute_reply": "2021-07-02T00:20:08.032216Z"
    },
    "papermill": {
     "duration": 0.04796,
     "end_time": "2021-07-02T00:20:08.032368",
     "exception": false,
     "start_time": "2021-07-02T00:20:07.984408",
     "status": "completed"
    },
    "tags": []
   },
   "outputs": [],
   "source": [
    "#hide\n",
    "# g = g[cols]"
   ]
  },
  {
   "cell_type": "code",
   "execution_count": 39,
   "id": "structured-mobile",
   "metadata": {
    "execution": {
     "iopub.execute_input": "2021-07-02T00:20:08.122817Z",
     "iopub.status.busy": "2021-07-02T00:20:08.122079Z",
     "iopub.status.idle": "2021-07-02T00:20:08.125046Z",
     "shell.execute_reply": "2021-07-02T00:20:08.125621Z"
    },
    "papermill": {
     "duration": 0.056361,
     "end_time": "2021-07-02T00:20:08.125778",
     "exception": false,
     "start_time": "2021-07-02T00:20:08.069417",
     "status": "completed"
    },
    "tags": []
   },
   "outputs": [],
   "source": [
    "# #hide\n",
    "# g = g[g.group.notna()]"
   ]
  },
  {
   "cell_type": "code",
   "execution_count": 40,
   "id": "determined-closing",
   "metadata": {
    "execution": {
     "iopub.execute_input": "2021-07-02T00:20:08.209807Z",
     "iopub.status.busy": "2021-07-02T00:20:08.209025Z",
     "iopub.status.idle": "2021-07-02T00:20:08.211593Z",
     "shell.execute_reply": "2021-07-02T00:20:08.211057Z"
    },
    "papermill": {
     "duration": 0.044992,
     "end_time": "2021-07-02T00:20:08.211712",
     "exception": false,
     "start_time": "2021-07-02T00:20:08.166720",
     "status": "completed"
    },
    "tags": []
   },
   "outputs": [],
   "source": [
    "# #hide\n",
    "# colors = dict(zip(\n",
    "#     [\"Oceania\", \"Europe\", \"Asia\", \"South America\", \"Middle East\", \"North America\", \"Africa\"],\n",
    "#     [\"#adb0ff\", \"#ffb3ff\", \"#90d595\", \"#e48381\", \"#aafbff\", \"#f7bb5f\", \"#eafb50\"]\n",
    "# ))\n",
    "# group_lk = g.set_index('name')['group'].to_dict()"
   ]
  },
  {
   "cell_type": "code",
   "execution_count": null,
   "id": "gross-drinking",
   "metadata": {
    "papermill": {
     "duration": 0.036614,
     "end_time": "2021-07-02T00:20:08.286788",
     "exception": false,
     "start_time": "2021-07-02T00:20:08.250174",
     "status": "completed"
    },
    "tags": []
   },
   "outputs": [],
   "source": []
  },
  {
   "cell_type": "code",
   "execution_count": 41,
   "id": "subject-macintosh",
   "metadata": {
    "execution": {
     "iopub.execute_input": "2021-07-02T00:20:08.375972Z",
     "iopub.status.busy": "2021-07-02T00:20:08.375301Z",
     "iopub.status.idle": "2021-07-02T00:20:08.377394Z",
     "shell.execute_reply": "2021-07-02T00:20:08.377863Z"
    },
    "papermill": {
     "duration": 0.049522,
     "end_time": "2021-07-02T00:20:08.378003",
     "exception": false,
     "start_time": "2021-07-02T00:20:08.328481",
     "status": "completed"
    },
    "tags": []
   },
   "outputs": [],
   "source": [
    "# #hide\n",
    "# fig, ax = plt.subplots(figsize=(15, 8))\n",
    "\n",
    "# def draw_barchart(current_day):\n",
    "#     dff = g[g['day'].eq(current_day)].sort_values(by='value', ascending=True).tail(10)\n",
    "#     ax.clear()\n",
    "#     ax.barh(dff['name'], dff['value'], color=[colors[group_lk[x]] for x in dff['name']])\n",
    "#     dx = dff['value'].max() / 200\n",
    "    \n",
    "#     for i, (value, name) in enumerate(zip(dff['value'], dff['name'])):\n",
    "#         ax.text(value-dx, i,     name,           size=14, weight=600, ha='right', va='bottom')\n",
    "#         ax.text(value-dx, i-.25, group_lk[name], size=10, color='#444444', ha='right', va='baseline')\n",
    "#         ax.text(value+dx, i,     f'{value:,.0f}',  size=14, ha='left',  va='center')\n",
    "#     ax.text(1, 0.4, current_day, transform=ax.transAxes, color='#777777', size=46, ha='right', weight=800)\n",
    "#     ax.text(0, 1.06, 'Population (thousands)', transform=ax.transAxes, size=12, color='#777777')\n",
    "#     ax.xaxis.set_major_formatter(ticker.StrMethodFormatter('{x:,.0f}'))\n",
    "#     ax.xaxis.set_ticks_position('top')\n",
    "#     ax.tick_params(axis='x', colors='#777777', labelsize=12)\n",
    "#     ax.set_yticks([])\n",
    "#     ax.margins(0, 0.01)\n",
    "#     ax.grid(which='major', axis='x', linestyle='-')\n",
    "#     ax.set_axisbelow(True)\n",
    "    \n",
    "#     ax.text(0, 1.15, 'Coronavirus',\n",
    "#             transform=ax.transAxes, size=24, weight=600, ha='left', va='top')\n",
    "# #     ax.text(1, 0, 'by @pratapvardhan; credit @jburnmurdoch', transform=ax.transAxes, color='#777777', ha='right',\n",
    "# #             bbox=dict(facecolor='white', alpha=0.8, edgecolor='white'))\n",
    "#     plt.box(False)"
   ]
  },
  {
   "cell_type": "code",
   "execution_count": 42,
   "id": "sexual-wages",
   "metadata": {
    "execution": {
     "iopub.execute_input": "2021-07-02T00:20:08.462128Z",
     "iopub.status.busy": "2021-07-02T00:20:08.461437Z",
     "iopub.status.idle": "2021-07-02T00:20:08.463559Z",
     "shell.execute_reply": "2021-07-02T00:20:08.464206Z"
    },
    "papermill": {
     "duration": 0.044906,
     "end_time": "2021-07-02T00:20:08.464354",
     "exception": false,
     "start_time": "2021-07-02T00:20:08.419448",
     "status": "completed"
    },
    "tags": []
   },
   "outputs": [],
   "source": [
    "# #hide_input\n",
    "# fig, ax = plt.subplots(figsize=(15, 8))\n",
    "# animator = animation.FuncAnimation(fig, draw_barchart, frames=range(g.day.values.min(), g.day.values.max()))\n",
    "# HTML(animator.to_jshtml())\n",
    "# # or use animator.to_html5_video() or animator.save() "
   ]
  },
  {
   "cell_type": "code",
   "execution_count": null,
   "id": "australian-container",
   "metadata": {
    "papermill": {
     "duration": 0.036779,
     "end_time": "2021-07-02T00:20:08.540235",
     "exception": false,
     "start_time": "2021-07-02T00:20:08.503456",
     "status": "completed"
    },
    "tags": []
   },
   "outputs": [],
   "source": []
  },
  {
   "cell_type": "code",
   "execution_count": null,
   "id": "mediterranean-pontiac",
   "metadata": {
    "papermill": {
     "duration": 0.045881,
     "end_time": "2021-07-02T00:20:08.621937",
     "exception": false,
     "start_time": "2021-07-02T00:20:08.576056",
     "status": "completed"
    },
    "tags": []
   },
   "outputs": [],
   "source": []
  },
  {
   "cell_type": "code",
   "execution_count": null,
   "id": "aging-legislature",
   "metadata": {
    "papermill": {
     "duration": 0.036878,
     "end_time": "2021-07-02T00:20:08.696930",
     "exception": false,
     "start_time": "2021-07-02T00:20:08.660052",
     "status": "completed"
    },
    "tags": []
   },
   "outputs": [],
   "source": []
  }
 ],
 "metadata": {
  "kernelspec": {
   "display_name": "Python 3",
   "language": "python",
   "name": "python3"
  },
  "language_info": {
   "codemirror_mode": {
    "name": "ipython",
    "version": 3
   },
   "file_extension": ".py",
   "mimetype": "text/x-python",
   "name": "python",
   "nbconvert_exporter": "python",
   "pygments_lexer": "ipython3",
   "version": "3.6.13"
  },
  "papermill": {
   "duration": 7.207145,
   "end_time": "2021-07-02T00:20:09.040617",
   "environment_variables": {},
   "exception": null,
   "input_path": "2020-03-21-covid19exp.ipynb",
   "output_path": "2020-03-21-covid19exp.ipynb",
   "parameters": {},
   "start_time": "2021-07-02T00:20:01.833472",
   "version": "2.0.0"
  }
 },
 "nbformat": 4,
 "nbformat_minor": 5
}