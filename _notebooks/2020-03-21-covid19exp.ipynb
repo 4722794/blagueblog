{
 "cells": [
  {
   "cell_type": "markdown",
   "metadata": {
    "papermill": {
     "duration": 0.034397,
     "end_time": "2021-01-06T12:10:53.613187",
     "exception": false,
     "start_time": "2021-01-06T12:10:53.578790",
     "status": "completed"
    },
    "tags": []
   },
   "source": [
    "# COVID-19 Case Race\n",
    "> A race chart to see rising cases around the world\n",
    "\n",
    "- author: Hargun Oberoi\n",
    "- image: images/covid-overview.png\n",
    "- hide: false\n",
    "- badges: false"
   ]
  },
  {
   "cell_type": "code",
   "execution_count": 1,
   "metadata": {
    "execution": {
     "iopub.execute_input": "2021-01-06T12:10:53.691837Z",
     "iopub.status.busy": "2021-01-06T12:10:53.691124Z",
     "iopub.status.idle": "2021-01-06T12:10:54.056551Z",
     "shell.execute_reply": "2021-01-06T12:10:54.058130Z"
    },
    "papermill": {
     "duration": 0.410381,
     "end_time": "2021-01-06T12:10:54.058810",
     "exception": false,
     "start_time": "2021-01-06T12:10:53.648429",
     "status": "completed"
    },
    "tags": []
   },
   "outputs": [],
   "source": [
    "#hide\n",
    "import numpy as np\n",
    "import pandas as pd\n",
    "from jinja2 import Template\n",
    "from IPython.display import HTML"
   ]
  },
  {
   "cell_type": "code",
   "execution_count": 2,
   "metadata": {
    "execution": {
     "iopub.execute_input": "2021-01-06T12:10:54.128884Z",
     "iopub.status.busy": "2021-01-06T12:10:54.128281Z",
     "iopub.status.idle": "2021-01-06T12:10:54.130446Z",
     "shell.execute_reply": "2021-01-06T12:10:54.130891Z"
    },
    "papermill": {
     "duration": 0.039086,
     "end_time": "2021-01-06T12:10:54.131045",
     "exception": false,
     "start_time": "2021-01-06T12:10:54.091959",
     "status": "completed"
    },
    "tags": []
   },
   "outputs": [],
   "source": [
    "#hide\n",
    "\n",
    "# FETCH\n",
    "base_url = 'https://raw.githubusercontent.com/pratapvardhan/notebooks/master/covid19/'\n",
    "paths = {\n",
    "    'mapping': base_url + 'mapping_countries.csv',\n",
    "    'overview': base_url + 'overview.tpl'\n",
    "}"
   ]
  },
  {
   "cell_type": "code",
   "execution_count": 3,
   "metadata": {
    "execution": {
     "iopub.execute_input": "2021-01-06T12:10:54.204059Z",
     "iopub.status.busy": "2021-01-06T12:10:54.203390Z",
     "iopub.status.idle": "2021-01-06T12:10:54.206093Z",
     "shell.execute_reply": "2021-01-06T12:10:54.206632Z"
    },
    "papermill": {
     "duration": 0.045173,
     "end_time": "2021-01-06T12:10:54.206780",
     "exception": false,
     "start_time": "2021-01-06T12:10:54.161607",
     "status": "completed"
    },
    "tags": []
   },
   "outputs": [
    {
     "data": {
      "text/plain": [
       "'https://raw.githubusercontent.com/pratapvardhan/notebooks/master/covid19/mapping_countries.csv'"
      ]
     },
     "execution_count": 3,
     "metadata": {},
     "output_type": "execute_result"
    }
   ],
   "source": [
    "#hide\n",
    "paths['mapping']"
   ]
  },
  {
   "cell_type": "code",
   "execution_count": 4,
   "metadata": {
    "execution": {
     "iopub.execute_input": "2021-01-06T12:10:54.281055Z",
     "iopub.status.busy": "2021-01-06T12:10:54.280432Z",
     "iopub.status.idle": "2021-01-06T12:10:54.282759Z",
     "shell.execute_reply": "2021-01-06T12:10:54.283315Z"
    },
    "papermill": {
     "duration": 0.04301,
     "end_time": "2021-01-06T12:10:54.283465",
     "exception": false,
     "start_time": "2021-01-06T12:10:54.240455",
     "status": "completed"
    },
    "tags": []
   },
   "outputs": [],
   "source": [
    "#hide\n",
    "def get_mappings(url):\n",
    "    df = pd.read_csv(url)\n",
    "    return {\n",
    "        'df': df,\n",
    "        'replace.country': dict(df.dropna(subset=['Name']).set_index('Country')['Name']),\n",
    "        'map.continent': dict(df.set_index('Name')['Continent'])\n",
    "    }"
   ]
  },
  {
   "cell_type": "code",
   "execution_count": 5,
   "metadata": {
    "execution": {
     "iopub.execute_input": "2021-01-06T12:10:54.361138Z",
     "iopub.status.busy": "2021-01-06T12:10:54.360513Z",
     "iopub.status.idle": "2021-01-06T12:10:54.425691Z",
     "shell.execute_reply": "2021-01-06T12:10:54.425168Z"
    },
    "papermill": {
     "duration": 0.109207,
     "end_time": "2021-01-06T12:10:54.425834",
     "exception": false,
     "start_time": "2021-01-06T12:10:54.316627",
     "status": "completed"
    },
    "tags": []
   },
   "outputs": [],
   "source": [
    "#hide\n",
    "mapping = get_mappings(paths['mapping'])"
   ]
  },
  {
   "cell_type": "code",
   "execution_count": 6,
   "metadata": {
    "execution": {
     "iopub.execute_input": "2021-01-06T12:10:54.509744Z",
     "iopub.status.busy": "2021-01-06T12:10:54.509134Z",
     "iopub.status.idle": "2021-01-06T12:10:54.511271Z",
     "shell.execute_reply": "2021-01-06T12:10:54.510771Z"
    },
    "papermill": {
     "duration": 0.0389,
     "end_time": "2021-01-06T12:10:54.511408",
     "exception": false,
     "start_time": "2021-01-06T12:10:54.472508",
     "status": "completed"
    },
    "tags": []
   },
   "outputs": [],
   "source": [
    "#hide\n",
    "def get_template(path):\n",
    "    from urllib.parse import urlparse\n",
    "    if bool(urlparse(path).netloc):\n",
    "        from urllib.request import urlopen\n",
    "        return urlopen(path).read().decode('utf8')\n",
    "    return open(path).read()"
   ]
  },
  {
   "cell_type": "code",
   "execution_count": 7,
   "metadata": {
    "execution": {
     "iopub.execute_input": "2021-01-06T12:10:54.585198Z",
     "iopub.status.busy": "2021-01-06T12:10:54.584577Z",
     "iopub.status.idle": "2021-01-06T12:10:54.586327Z",
     "shell.execute_reply": "2021-01-06T12:10:54.586793Z"
    },
    "papermill": {
     "duration": 0.039586,
     "end_time": "2021-01-06T12:10:54.586933",
     "exception": false,
     "start_time": "2021-01-06T12:10:54.547347",
     "status": "completed"
    },
    "tags": []
   },
   "outputs": [],
   "source": [
    "#hide\n",
    "def get_frame(name):\n",
    "    url = (\n",
    "        'https://raw.githubusercontent.com/CSSEGISandData/COVID-19/master/csse_covid_19_data/'\n",
    "        f'csse_covid_19_time_series/time_series_covid19_{name}_global.csv')\n",
    "    df = pd.read_csv(url)\n",
    "    # rename countries\n",
    "    df['Country/Region'] = df['Country/Region'].replace(mapping['replace.country'])\n",
    "    return df"
   ]
  },
  {
   "cell_type": "code",
   "execution_count": 8,
   "metadata": {
    "execution": {
     "iopub.execute_input": "2021-01-06T12:10:54.656398Z",
     "iopub.status.busy": "2021-01-06T12:10:54.655813Z",
     "iopub.status.idle": "2021-01-06T12:10:54.658252Z",
     "shell.execute_reply": "2021-01-06T12:10:54.657729Z"
    },
    "papermill": {
     "duration": 0.039712,
     "end_time": "2021-01-06T12:10:54.658378",
     "exception": false,
     "start_time": "2021-01-06T12:10:54.618666",
     "status": "completed"
    },
    "tags": []
   },
   "outputs": [],
   "source": [
    "#hide\n",
    "def get_dates(df):\n",
    "    dt_cols = df.columns[~df.columns.isin(['Province/State', 'Country/Region', 'Lat', 'Long'])]\n",
    "    LAST_DATE_I = -1\n",
    "    # sometimes last column may be empty, then go backwards\n",
    "    for i in range(-1, -len(dt_cols), -1):\n",
    "        if not df[dt_cols[i]].fillna(0).eq(0).all():\n",
    "            LAST_DATE_I = i\n",
    "            break\n",
    "    return LAST_DATE_I, dt_cols"
   ]
  },
  {
   "cell_type": "code",
   "execution_count": 9,
   "metadata": {
    "execution": {
     "iopub.execute_input": "2021-01-06T12:10:54.730720Z",
     "iopub.status.busy": "2021-01-06T12:10:54.729822Z",
     "iopub.status.idle": "2021-01-06T12:10:55.119001Z",
     "shell.execute_reply": "2021-01-06T12:10:55.118487Z"
    },
    "papermill": {
     "duration": 0.428298,
     "end_time": "2021-01-06T12:10:55.119144",
     "exception": false,
     "start_time": "2021-01-06T12:10:54.690846",
     "status": "completed"
    },
    "tags": []
   },
   "outputs": [],
   "source": [
    "#hide\n",
    "COL_REGION = 'Country/Region'\n",
    "# Confirmed, Recovered, Deaths\n",
    "df = get_frame('confirmed')\n",
    "# dft_: timeseries, dfc_: today country agg\n",
    "dft_cases = df\n",
    "dft_deaths = get_frame('deaths')\n",
    "dft_recovered = get_frame('recovered')\n",
    "LAST_DATE_I, dt_cols = get_dates(df)"
   ]
  },
  {
   "cell_type": "code",
   "execution_count": 10,
   "metadata": {
    "execution": {
     "iopub.execute_input": "2021-01-06T12:10:55.188898Z",
     "iopub.status.busy": "2021-01-06T12:10:55.188312Z",
     "iopub.status.idle": "2021-01-06T12:10:55.190775Z",
     "shell.execute_reply": "2021-01-06T12:10:55.190280Z"
    },
    "papermill": {
     "duration": 0.038609,
     "end_time": "2021-01-06T12:10:55.190905",
     "exception": false,
     "start_time": "2021-01-06T12:10:55.152296",
     "status": "completed"
    },
    "tags": []
   },
   "outputs": [],
   "source": [
    "#hide\n",
    "LAST_DATE_I, dt_cols = get_dates(df)\n",
    "dt_today =dt_cols[LAST_DATE_I]\n",
    "# dt_5day = dt_cols[LAST_DATE_I - 5]\n",
    "dt_yday = dt_cols[LAST_DATE_I - 1]"
   ]
  },
  {
   "cell_type": "code",
   "execution_count": 11,
   "metadata": {
    "execution": {
     "iopub.execute_input": "2021-01-06T12:10:55.262274Z",
     "iopub.status.busy": "2021-01-06T12:10:55.261619Z",
     "iopub.status.idle": "2021-01-06T12:10:55.268121Z",
     "shell.execute_reply": "2021-01-06T12:10:55.267637Z"
    },
    "papermill": {
     "duration": 0.045446,
     "end_time": "2021-01-06T12:10:55.268362",
     "exception": false,
     "start_time": "2021-01-06T12:10:55.222916",
     "status": "completed"
    },
    "tags": []
   },
   "outputs": [],
   "source": [
    "#hide\n",
    "dfc_cases = dft_cases.groupby(COL_REGION)[dt_today].sum()\n",
    "dfc_deaths = dft_deaths.groupby(COL_REGION)[dt_today].sum()\n",
    "# dfp_cases = dft_cases.groupby(COL_REGION)[dt_5day].sum()\n",
    "# dfp_deaths = dft_deaths.groupby(COL_REGION)[dt_5day].sum()\n",
    "dfp_cases = dft_cases.groupby(COL_REGION)[dt_yday].sum()\n",
    "dfp_deaths = dft_deaths.groupby(COL_REGION)[dt_yday].sum()"
   ]
  },
  {
   "cell_type": "code",
   "execution_count": 12,
   "metadata": {
    "execution": {
     "iopub.execute_input": "2021-01-06T12:10:55.344737Z",
     "iopub.status.busy": "2021-01-06T12:10:55.344147Z",
     "iopub.status.idle": "2021-01-06T12:10:55.348775Z",
     "shell.execute_reply": "2021-01-06T12:10:55.348272Z"
    },
    "papermill": {
     "duration": 0.047468,
     "end_time": "2021-01-06T12:10:55.348905",
     "exception": false,
     "start_time": "2021-01-06T12:10:55.301437",
     "status": "completed"
    },
    "tags": []
   },
   "outputs": [],
   "source": [
    "#hide\n",
    "df_table = (pd.DataFrame(dict(Cases = dfc_cases, Deaths = dfc_deaths, PCases = dfp_cases, PDeaths = dfp_deaths))\n",
    "            .sort_values(by = ['Cases','Deaths'], ascending = [False, False])\n",
    "            .reset_index())"
   ]
  },
  {
   "cell_type": "code",
   "execution_count": 13,
   "metadata": {
    "execution": {
     "iopub.execute_input": "2021-01-06T12:10:55.438802Z",
     "iopub.status.busy": "2021-01-06T12:10:55.438178Z",
     "iopub.status.idle": "2021-01-06T12:10:55.449676Z",
     "shell.execute_reply": "2021-01-06T12:10:55.448762Z"
    },
    "papermill": {
     "duration": 0.06701,
     "end_time": "2021-01-06T12:10:55.449830",
     "exception": false,
     "start_time": "2021-01-06T12:10:55.382820",
     "status": "completed"
    },
    "tags": []
   },
   "outputs": [
    {
     "data": {
      "text/html": [
       "<div>\n",
       "<style scoped>\n",
       "    .dataframe tbody tr th:only-of-type {\n",
       "        vertical-align: middle;\n",
       "    }\n",
       "\n",
       "    .dataframe tbody tr th {\n",
       "        vertical-align: top;\n",
       "    }\n",
       "\n",
       "    .dataframe thead th {\n",
       "        text-align: right;\n",
       "    }\n",
       "</style>\n",
       "<table border=\"1\" class=\"dataframe\">\n",
       "  <thead>\n",
       "    <tr style=\"text-align: right;\">\n",
       "      <th></th>\n",
       "      <th>Country/Region</th>\n",
       "      <th>Cases</th>\n",
       "      <th>Deaths</th>\n",
       "      <th>PCases</th>\n",
       "      <th>PDeaths</th>\n",
       "      <th>Cases (+)</th>\n",
       "      <th>Deaths (+)</th>\n",
       "      <th>Fatality Rate</th>\n",
       "      <th>Continent</th>\n",
       "    </tr>\n",
       "  </thead>\n",
       "  <tbody>\n",
       "    <tr>\n",
       "      <th>0</th>\n",
       "      <td>US</td>\n",
       "      <td>21046195</td>\n",
       "      <td>357258</td>\n",
       "      <td>20817140</td>\n",
       "      <td>353483</td>\n",
       "      <td>229055</td>\n",
       "      <td>3775</td>\n",
       "      <td>1.70</td>\n",
       "      <td>North America</td>\n",
       "    </tr>\n",
       "    <tr>\n",
       "      <th>1</th>\n",
       "      <td>India</td>\n",
       "      <td>10374932</td>\n",
       "      <td>150114</td>\n",
       "      <td>10356844</td>\n",
       "      <td>149850</td>\n",
       "      <td>18088</td>\n",
       "      <td>264</td>\n",
       "      <td>1.45</td>\n",
       "      <td>Asia</td>\n",
       "    </tr>\n",
       "    <tr>\n",
       "      <th>2</th>\n",
       "      <td>Brazil</td>\n",
       "      <td>7810400</td>\n",
       "      <td>197732</td>\n",
       "      <td>7753752</td>\n",
       "      <td>196561</td>\n",
       "      <td>56648</td>\n",
       "      <td>1171</td>\n",
       "      <td>2.53</td>\n",
       "      <td>South America</td>\n",
       "    </tr>\n",
       "    <tr>\n",
       "      <th>3</th>\n",
       "      <td>Russia</td>\n",
       "      <td>3250713</td>\n",
       "      <td>58706</td>\n",
       "      <td>3226758</td>\n",
       "      <td>58203</td>\n",
       "      <td>23955</td>\n",
       "      <td>503</td>\n",
       "      <td>1.81</td>\n",
       "      <td>Europe</td>\n",
       "    </tr>\n",
       "    <tr>\n",
       "      <th>4</th>\n",
       "      <td>United Kingdom</td>\n",
       "      <td>2782709</td>\n",
       "      <td>76428</td>\n",
       "      <td>2721622</td>\n",
       "      <td>75547</td>\n",
       "      <td>61087</td>\n",
       "      <td>881</td>\n",
       "      <td>2.75</td>\n",
       "      <td>Europe</td>\n",
       "    </tr>\n",
       "  </tbody>\n",
       "</table>\n",
       "</div>"
      ],
      "text/plain": [
       "   Country/Region     Cases  Deaths    PCases  PDeaths  Cases (+)  Deaths (+)  \\\n",
       "0              US  21046195  357258  20817140   353483     229055        3775   \n",
       "1           India  10374932  150114  10356844   149850      18088         264   \n",
       "2          Brazil   7810400  197732   7753752   196561      56648        1171   \n",
       "3          Russia   3250713   58706   3226758    58203      23955         503   \n",
       "4  United Kingdom   2782709   76428   2721622    75547      61087         881   \n",
       "\n",
       "   Fatality Rate      Continent  \n",
       "0           1.70  North America  \n",
       "1           1.45           Asia  \n",
       "2           2.53  South America  \n",
       "3           1.81         Europe  \n",
       "4           2.75         Europe  "
      ]
     },
     "execution_count": 13,
     "metadata": {},
     "output_type": "execute_result"
    }
   ],
   "source": [
    "#hide\n",
    "for c in 'Cases, Deaths'.split(', '):\n",
    "    df_table[f'{c} (+)'] = (df_table[c] - df_table[f'P{c}']).clip(0)\n",
    "    #Clip ça veut dire, les chiffres negatif sont interdit\n",
    "df_table['Fatality Rate'] = (100* df_table['Deaths']/ df_table['Cases']).round(2)\n",
    "df_table['Continent'] = df_table['Country/Region'].map(mapping['map.continent'])\n",
    "df_table.head(5)"
   ]
  },
  {
   "cell_type": "code",
   "execution_count": 14,
   "metadata": {
    "execution": {
     "iopub.execute_input": "2021-01-06T12:10:55.523572Z",
     "iopub.status.busy": "2021-01-06T12:10:55.522944Z",
     "iopub.status.idle": "2021-01-06T12:10:55.540254Z",
     "shell.execute_reply": "2021-01-06T12:10:55.540749Z"
    },
    "papermill": {
     "duration": 0.058847,
     "end_time": "2021-01-06T12:10:55.540909",
     "exception": false,
     "start_time": "2021-01-06T12:10:55.482062",
     "status": "completed"
    },
    "tags": []
   },
   "outputs": [],
   "source": [
    "#hide\n",
    "#delete problematic countries from table\n",
    "df_table = df_table[~df_table['Country/Region'].isin(['Cape Verde', 'Cruise Ship', 'Kosovo'])]"
   ]
  },
  {
   "cell_type": "code",
   "execution_count": 15,
   "metadata": {
    "execution": {
     "iopub.execute_input": "2021-01-06T12:10:55.615280Z",
     "iopub.status.busy": "2021-01-06T12:10:55.614674Z",
     "iopub.status.idle": "2021-01-06T12:10:55.657570Z",
     "shell.execute_reply": "2021-01-06T12:10:55.658017Z"
    },
    "papermill": {
     "duration": 0.084746,
     "end_time": "2021-01-06T12:10:55.658203",
     "exception": false,
     "start_time": "2021-01-06T12:10:55.573457",
     "status": "completed"
    },
    "tags": []
   },
   "outputs": [
    {
     "data": {
      "text/html": [
       "<div>\n",
       "<style scoped>\n",
       "    .dataframe tbody tr th:only-of-type {\n",
       "        vertical-align: middle;\n",
       "    }\n",
       "\n",
       "    .dataframe tbody tr th {\n",
       "        vertical-align: top;\n",
       "    }\n",
       "\n",
       "    .dataframe thead th {\n",
       "        text-align: right;\n",
       "    }\n",
       "</style>\n",
       "<table border=\"1\" class=\"dataframe\">\n",
       "  <thead>\n",
       "    <tr style=\"text-align: right;\">\n",
       "      <th></th>\n",
       "      <th>Country/Region</th>\n",
       "      <th>Cases</th>\n",
       "      <th>Deaths</th>\n",
       "      <th>PCases</th>\n",
       "      <th>PDeaths</th>\n",
       "      <th>Cases (+)</th>\n",
       "      <th>Deaths (+)</th>\n",
       "      <th>Fatality Rate</th>\n",
       "      <th>Continent</th>\n",
       "    </tr>\n",
       "  </thead>\n",
       "  <tbody>\n",
       "    <tr>\n",
       "      <th>0</th>\n",
       "      <td>US</td>\n",
       "      <td>21046195</td>\n",
       "      <td>357258</td>\n",
       "      <td>20817140</td>\n",
       "      <td>353483</td>\n",
       "      <td>229055</td>\n",
       "      <td>3775</td>\n",
       "      <td>1.7</td>\n",
       "      <td>North America</td>\n",
       "    </tr>\n",
       "    <tr>\n",
       "      <th>1</th>\n",
       "      <td>India</td>\n",
       "      <td>10374932</td>\n",
       "      <td>150114</td>\n",
       "      <td>10356844</td>\n",
       "      <td>149850</td>\n",
       "      <td>18088</td>\n",
       "      <td>264</td>\n",
       "      <td>1.4</td>\n",
       "      <td>Asia</td>\n",
       "    </tr>\n",
       "    <tr>\n",
       "      <th>2</th>\n",
       "      <td>Brazil</td>\n",
       "      <td>7810400</td>\n",
       "      <td>197732</td>\n",
       "      <td>7753752</td>\n",
       "      <td>196561</td>\n",
       "      <td>56648</td>\n",
       "      <td>1171</td>\n",
       "      <td>2.5</td>\n",
       "      <td>South America</td>\n",
       "    </tr>\n",
       "    <tr>\n",
       "      <th>3</th>\n",
       "      <td>Russia</td>\n",
       "      <td>3250713</td>\n",
       "      <td>58706</td>\n",
       "      <td>3226758</td>\n",
       "      <td>58203</td>\n",
       "      <td>23955</td>\n",
       "      <td>503</td>\n",
       "      <td>1.8</td>\n",
       "      <td>Europe</td>\n",
       "    </tr>\n",
       "    <tr>\n",
       "      <th>4</th>\n",
       "      <td>United Kingdom</td>\n",
       "      <td>2782709</td>\n",
       "      <td>76428</td>\n",
       "      <td>2721622</td>\n",
       "      <td>75547</td>\n",
       "      <td>61087</td>\n",
       "      <td>881</td>\n",
       "      <td>2.7</td>\n",
       "      <td>Europe</td>\n",
       "    </tr>\n",
       "  </tbody>\n",
       "</table>\n",
       "</div>"
      ],
      "text/plain": [
       "   Country/Region     Cases  Deaths    PCases  PDeaths  Cases (+)  Deaths (+)  \\\n",
       "0              US  21046195  357258  20817140   353483     229055        3775   \n",
       "1           India  10374932  150114  10356844   149850      18088         264   \n",
       "2          Brazil   7810400  197732   7753752   196561      56648        1171   \n",
       "3          Russia   3250713   58706   3226758    58203      23955         503   \n",
       "4  United Kingdom   2782709   76428   2721622    75547      61087         881   \n",
       "\n",
       "   Fatality Rate      Continent  \n",
       "0            1.7  North America  \n",
       "1            1.4           Asia  \n",
       "2            2.5  South America  \n",
       "3            1.8         Europe  \n",
       "4            2.7         Europe  "
      ]
     },
     "execution_count": 15,
     "metadata": {},
     "output_type": "execute_result"
    }
   ],
   "source": [
    "#hide\n",
    "df_table = (pd.DataFrame(dict(Cases=dfc_cases, Deaths=dfc_deaths, PCases=dfp_cases, PDeaths=dfp_deaths))\n",
    "             .sort_values(by=['Cases', 'Deaths'], ascending=[False, False])\n",
    "             .reset_index())\n",
    "df_table.rename(columns={'index': 'Country/Region'}, inplace=True)\n",
    "for c in 'Cases, Deaths'.split(', '):\n",
    "    df_table[f'{c} (+)'] = (df_table[c] - df_table[f'P{c}']).clip(0)  # DATA BUG\n",
    "df_table['Fatality Rate'] = (100 * df_table['Deaths'] / df_table['Cases']).round(1)\n",
    "df_table['Continent'] = df_table['Country/Region'].map(mapping['map.continent'])\n",
    "df_table.head(5)"
   ]
  },
  {
   "cell_type": "code",
   "execution_count": 16,
   "metadata": {
    "execution": {
     "iopub.execute_input": "2021-01-06T12:10:55.737809Z",
     "iopub.status.busy": "2021-01-06T12:10:55.737209Z",
     "iopub.status.idle": "2021-01-06T12:10:55.739873Z",
     "shell.execute_reply": "2021-01-06T12:10:55.739377Z"
    },
    "papermill": {
     "duration": 0.043839,
     "end_time": "2021-01-06T12:10:55.740003",
     "exception": false,
     "start_time": "2021-01-06T12:10:55.696164",
     "status": "completed"
    },
    "tags": []
   },
   "outputs": [],
   "source": [
    "#hide\n",
    "#delete problematic countries from table\n",
    "df_table = df_table[~df_table['Country/Region'].isin(['Cape Verde', 'Cruise Ship', 'Kosovo'])]"
   ]
  },
  {
   "cell_type": "code",
   "execution_count": 17,
   "metadata": {
    "execution": {
     "iopub.execute_input": "2021-01-06T12:10:55.825861Z",
     "iopub.status.busy": "2021-01-06T12:10:55.825243Z",
     "iopub.status.idle": "2021-01-06T12:10:55.827892Z",
     "shell.execute_reply": "2021-01-06T12:10:55.827382Z"
    },
    "papermill": {
     "duration": 0.055548,
     "end_time": "2021-01-06T12:10:55.828030",
     "exception": false,
     "start_time": "2021-01-06T12:10:55.772482",
     "status": "completed"
    },
    "tags": []
   },
   "outputs": [],
   "source": [
    "#hide\n",
    "metrics = [df_table.columns[index] for index in [1,2,5,6]]\n",
    "# s_china = df_table[df_table['Country/Region'].eq('China')][metrics].sum().add_prefix('China ')\n",
    "s_us = df_table[df_table['Country/Region'].eq('US')][metrics].sum().add_prefix('US ')\n",
    "s_eu = df_table[df_table['Continent'].eq('Europe')][metrics].sum().add_prefix('EU ')\n",
    "s_ind = df_table[df_table['Country/Region'].eq('India')][metrics].sum().add_prefix('India ')\n",
    "summary = {'updated': pd.to_datetime(dt_today), 'since': pd.to_datetime(dt_yday)}\n",
    "summary = {'updated': pd.to_datetime(dt_today), 'since': pd.to_datetime(dt_yday)}\n",
    "summary = {**summary, **df_table[metrics].sum(), **s_ind, **s_us, **s_eu}"
   ]
  },
  {
   "cell_type": "code",
   "execution_count": 18,
   "metadata": {
    "execution": {
     "iopub.execute_input": "2021-01-06T12:10:55.900493Z",
     "iopub.status.busy": "2021-01-06T12:10:55.899913Z",
     "iopub.status.idle": "2021-01-06T12:10:55.910263Z",
     "shell.execute_reply": "2021-01-06T12:10:55.909753Z"
    },
    "papermill": {
     "duration": 0.049549,
     "end_time": "2021-01-06T12:10:55.910395",
     "exception": false,
     "start_time": "2021-01-06T12:10:55.860846",
     "status": "completed"
    },
    "tags": []
   },
   "outputs": [],
   "source": [
    "#hide\n",
    "dft_ct_new_cases = dft_cases.groupby(COL_REGION)[dt_cols].sum().diff(axis=1).fillna(0).astype(int)"
   ]
  },
  {
   "cell_type": "code",
   "execution_count": 19,
   "metadata": {
    "execution": {
     "iopub.execute_input": "2021-01-06T12:10:55.980262Z",
     "iopub.status.busy": "2021-01-06T12:10:55.979613Z",
     "iopub.status.idle": "2021-01-06T12:10:55.981935Z",
     "shell.execute_reply": "2021-01-06T12:10:55.982371Z"
    },
    "papermill": {
     "duration": 0.04055,
     "end_time": "2021-01-06T12:10:55.982521",
     "exception": false,
     "start_time": "2021-01-06T12:10:55.941971",
     "status": "completed"
    },
    "tags": []
   },
   "outputs": [],
   "source": [
    "#hide\n",
    "everydaycases = dft_ct_new_cases.cumsum(axis=1)"
   ]
  },
  {
   "cell_type": "code",
   "execution_count": 20,
   "metadata": {
    "execution": {
     "iopub.execute_input": "2021-01-06T12:10:56.051917Z",
     "iopub.status.busy": "2021-01-06T12:10:56.051322Z",
     "iopub.status.idle": "2021-01-06T12:10:58.018461Z",
     "shell.execute_reply": "2021-01-06T12:10:58.017714Z"
    },
    "papermill": {
     "duration": 2.003911,
     "end_time": "2021-01-06T12:10:58.018772",
     "exception": false,
     "start_time": "2021-01-06T12:10:56.014861",
     "status": "completed"
    },
    "tags": []
   },
   "outputs": [],
   "source": [
    "#hide\n",
    "import pandas as pd\n",
    "import matplotlib.pyplot as plt\n",
    "import matplotlib.ticker as ticker\n",
    "import matplotlib.animation as animation\n",
    "from IPython.display import HTML"
   ]
  },
  {
   "cell_type": "code",
   "execution_count": 21,
   "metadata": {
    "execution": {
     "iopub.execute_input": "2021-01-06T12:10:58.094000Z",
     "iopub.status.busy": "2021-01-06T12:10:58.092786Z",
     "iopub.status.idle": "2021-01-06T12:10:58.098287Z",
     "shell.execute_reply": "2021-01-06T12:10:58.097523Z"
    },
    "papermill": {
     "duration": 0.04765,
     "end_time": "2021-01-06T12:10:58.098432",
     "exception": false,
     "start_time": "2021-01-06T12:10:58.050782",
     "status": "completed"
    },
    "tags": []
   },
   "outputs": [],
   "source": [
    "#hide\n",
    "t = everydaycases.stack()"
   ]
  },
  {
   "cell_type": "code",
   "execution_count": 22,
   "metadata": {
    "execution": {
     "iopub.execute_input": "2021-01-06T12:10:58.172074Z",
     "iopub.status.busy": "2021-01-06T12:10:58.171479Z",
     "iopub.status.idle": "2021-01-06T12:10:58.177823Z",
     "shell.execute_reply": "2021-01-06T12:10:58.178367Z"
    },
    "papermill": {
     "duration": 0.043911,
     "end_time": "2021-01-06T12:10:58.178518",
     "exception": false,
     "start_time": "2021-01-06T12:10:58.134607",
     "status": "completed"
    },
    "tags": []
   },
   "outputs": [],
   "source": [
    "#hide\n",
    "g = t.reset_index(['Country/Region'])"
   ]
  },
  {
   "cell_type": "code",
   "execution_count": 23,
   "metadata": {
    "execution": {
     "iopub.execute_input": "2021-01-06T12:10:58.250345Z",
     "iopub.status.busy": "2021-01-06T12:10:58.249737Z",
     "iopub.status.idle": "2021-01-06T12:10:58.252117Z",
     "shell.execute_reply": "2021-01-06T12:10:58.251630Z"
    },
    "papermill": {
     "duration": 0.039918,
     "end_time": "2021-01-06T12:10:58.252244",
     "exception": false,
     "start_time": "2021-01-06T12:10:58.212326",
     "status": "completed"
    },
    "tags": []
   },
   "outputs": [],
   "source": [
    "#hide\n",
    "g.index.name = 'date'"
   ]
  },
  {
   "cell_type": "code",
   "execution_count": 24,
   "metadata": {
    "execution": {
     "iopub.execute_input": "2021-01-06T12:10:58.320236Z",
     "iopub.status.busy": "2021-01-06T12:10:58.319652Z",
     "iopub.status.idle": "2021-01-06T12:10:58.321813Z",
     "shell.execute_reply": "2021-01-06T12:10:58.322282Z"
    },
    "papermill": {
     "duration": 0.038345,
     "end_time": "2021-01-06T12:10:58.322425",
     "exception": false,
     "start_time": "2021-01-06T12:10:58.284080",
     "status": "completed"
    },
    "tags": []
   },
   "outputs": [],
   "source": [
    "# #hide\n",
    "# g = g.reset_index(['date'])"
   ]
  },
  {
   "cell_type": "code",
   "execution_count": 25,
   "metadata": {
    "execution": {
     "iopub.execute_input": "2021-01-06T12:10:58.392601Z",
     "iopub.status.busy": "2021-01-06T12:10:58.392019Z",
     "iopub.status.idle": "2021-01-06T12:10:58.394431Z",
     "shell.execute_reply": "2021-01-06T12:10:58.393932Z"
    },
    "papermill": {
     "duration": 0.038666,
     "end_time": "2021-01-06T12:10:58.394564",
     "exception": false,
     "start_time": "2021-01-06T12:10:58.355898",
     "status": "completed"
    },
    "tags": []
   },
   "outputs": [],
   "source": [
    "#hide\n",
    "# g.head()"
   ]
  },
  {
   "cell_type": "code",
   "execution_count": 26,
   "metadata": {
    "execution": {
     "iopub.execute_input": "2021-01-06T12:10:58.462759Z",
     "iopub.status.busy": "2021-01-06T12:10:58.462175Z",
     "iopub.status.idle": "2021-01-06T12:10:58.464376Z",
     "shell.execute_reply": "2021-01-06T12:10:58.463808Z"
    },
    "papermill": {
     "duration": 0.037633,
     "end_time": "2021-01-06T12:10:58.464503",
     "exception": false,
     "start_time": "2021-01-06T12:10:58.426870",
     "status": "completed"
    },
    "tags": []
   },
   "outputs": [],
   "source": [
    "#hide\n",
    "# g.columns = ['date','country','cases']"
   ]
  },
  {
   "cell_type": "code",
   "execution_count": 27,
   "metadata": {
    "execution": {
     "iopub.execute_input": "2021-01-06T12:10:58.531930Z",
     "iopub.status.busy": "2021-01-06T12:10:58.531349Z",
     "iopub.status.idle": "2021-01-06T12:10:58.533429Z",
     "shell.execute_reply": "2021-01-06T12:10:58.533875Z"
    },
    "papermill": {
     "duration": 0.037595,
     "end_time": "2021-01-06T12:10:58.534023",
     "exception": false,
     "start_time": "2021-01-06T12:10:58.496428",
     "status": "completed"
    },
    "tags": []
   },
   "outputs": [],
   "source": [
    "#hide\n",
    "# g['continent'] = g.country"
   ]
  },
  {
   "cell_type": "code",
   "execution_count": 28,
   "metadata": {
    "execution": {
     "iopub.execute_input": "2021-01-06T12:10:58.602374Z",
     "iopub.status.busy": "2021-01-06T12:10:58.601783Z",
     "iopub.status.idle": "2021-01-06T12:10:58.603492Z",
     "shell.execute_reply": "2021-01-06T12:10:58.603994Z"
    },
    "papermill": {
     "duration": 0.037358,
     "end_time": "2021-01-06T12:10:58.604137",
     "exception": false,
     "start_time": "2021-01-06T12:10:58.566779",
     "status": "completed"
    },
    "tags": []
   },
   "outputs": [],
   "source": [
    "#hide\n",
    "# cols = list(g.columns.values)"
   ]
  },
  {
   "cell_type": "code",
   "execution_count": 29,
   "metadata": {
    "execution": {
     "iopub.execute_input": "2021-01-06T12:10:58.673229Z",
     "iopub.status.busy": "2021-01-06T12:10:58.672606Z",
     "iopub.status.idle": "2021-01-06T12:10:58.674402Z",
     "shell.execute_reply": "2021-01-06T12:10:58.674956Z"
    },
    "papermill": {
     "duration": 0.038738,
     "end_time": "2021-01-06T12:10:58.675100",
     "exception": false,
     "start_time": "2021-01-06T12:10:58.636362",
     "status": "completed"
    },
    "tags": []
   },
   "outputs": [],
   "source": [
    "#hide\n",
    "# cols.insert(0, cols.pop())"
   ]
  },
  {
   "cell_type": "code",
   "execution_count": 30,
   "metadata": {
    "execution": {
     "iopub.execute_input": "2021-01-06T12:10:58.744688Z",
     "iopub.status.busy": "2021-01-06T12:10:58.744093Z",
     "iopub.status.idle": "2021-01-06T12:10:58.746299Z",
     "shell.execute_reply": "2021-01-06T12:10:58.746798Z"
    },
    "papermill": {
     "duration": 0.039739,
     "end_time": "2021-01-06T12:10:58.746948",
     "exception": false,
     "start_time": "2021-01-06T12:10:58.707209",
     "status": "completed"
    },
    "tags": []
   },
   "outputs": [],
   "source": [
    "#hide\n",
    "# g = g[cols]"
   ]
  },
  {
   "cell_type": "code",
   "execution_count": 31,
   "metadata": {
    "execution": {
     "iopub.execute_input": "2021-01-06T12:10:58.819684Z",
     "iopub.status.busy": "2021-01-06T12:10:58.819097Z",
     "iopub.status.idle": "2021-01-06T12:10:58.821400Z",
     "shell.execute_reply": "2021-01-06T12:10:58.820876Z"
    },
    "papermill": {
     "duration": 0.040122,
     "end_time": "2021-01-06T12:10:58.821530",
     "exception": false,
     "start_time": "2021-01-06T12:10:58.781408",
     "status": "completed"
    },
    "tags": []
   },
   "outputs": [],
   "source": [
    "#hide\n",
    "# g['continent'] = g['continent'].map(mapping['map.continent'])"
   ]
  },
  {
   "cell_type": "code",
   "execution_count": 32,
   "metadata": {
    "execution": {
     "iopub.execute_input": "2021-01-06T12:10:58.899645Z",
     "iopub.status.busy": "2021-01-06T12:10:58.898099Z",
     "iopub.status.idle": "2021-01-06T12:10:58.901675Z",
     "shell.execute_reply": "2021-01-06T12:10:58.902693Z"
    },
    "papermill": {
     "duration": 0.049651,
     "end_time": "2021-01-06T12:10:58.902936",
     "exception": false,
     "start_time": "2021-01-06T12:10:58.853285",
     "status": "completed"
    },
    "tags": []
   },
   "outputs": [],
   "source": [
    "#hide\n",
    "# g.head()"
   ]
  },
  {
   "cell_type": "code",
   "execution_count": 33,
   "metadata": {
    "execution": {
     "iopub.execute_input": "2021-01-06T12:10:59.415727Z",
     "iopub.status.busy": "2021-01-06T12:10:59.414786Z",
     "iopub.status.idle": "2021-01-06T12:10:59.416943Z",
     "shell.execute_reply": "2021-01-06T12:10:59.417610Z"
    },
    "papermill": {
     "duration": 0.217693,
     "end_time": "2021-01-06T12:10:59.417816",
     "exception": false,
     "start_time": "2021-01-06T12:10:59.200123",
     "status": "completed"
    },
    "tags": []
   },
   "outputs": [],
   "source": [
    "# hide\n",
    "# g['date'] = g['date'].astype('datetime64[ns]')"
   ]
  },
  {
   "cell_type": "code",
   "execution_count": 34,
   "metadata": {
    "execution": {
     "iopub.execute_input": "2021-01-06T12:10:59.490738Z",
     "iopub.status.busy": "2021-01-06T12:10:59.490149Z",
     "iopub.status.idle": "2021-01-06T12:10:59.491837Z",
     "shell.execute_reply": "2021-01-06T12:10:59.492375Z"
    },
    "papermill": {
     "duration": 0.038409,
     "end_time": "2021-01-06T12:10:59.492518",
     "exception": false,
     "start_time": "2021-01-06T12:10:59.454109",
     "status": "completed"
    },
    "tags": []
   },
   "outputs": [],
   "source": [
    "#hide\n",
    "# g['date'] = g.date.dt.dayofyear"
   ]
  },
  {
   "cell_type": "code",
   "execution_count": 35,
   "metadata": {
    "execution": {
     "iopub.execute_input": "2021-01-06T12:10:59.566863Z",
     "iopub.status.busy": "2021-01-06T12:10:59.565161Z",
     "iopub.status.idle": "2021-01-06T12:10:59.567942Z",
     "shell.execute_reply": "2021-01-06T12:10:59.567445Z"
    },
    "papermill": {
     "duration": 0.042389,
     "end_time": "2021-01-06T12:10:59.568069",
     "exception": false,
     "start_time": "2021-01-06T12:10:59.525680",
     "status": "completed"
    },
    "tags": []
   },
   "outputs": [],
   "source": [
    "#hide\n",
    "# g = g.rename(columns= {'continent':'group','country':'name','cases':'value'})"
   ]
  },
  {
   "cell_type": "code",
   "execution_count": 36,
   "metadata": {
    "execution": {
     "iopub.execute_input": "2021-01-06T12:10:59.643662Z",
     "iopub.status.busy": "2021-01-06T12:10:59.643074Z",
     "iopub.status.idle": "2021-01-06T12:10:59.645521Z",
     "shell.execute_reply": "2021-01-06T12:10:59.645017Z"
    },
    "papermill": {
     "duration": 0.038052,
     "end_time": "2021-01-06T12:10:59.645647",
     "exception": false,
     "start_time": "2021-01-06T12:10:59.607595",
     "status": "completed"
    },
    "tags": []
   },
   "outputs": [],
   "source": [
    "#hide\n",
    "# cols = ['name','group','day','value']"
   ]
  },
  {
   "cell_type": "code",
   "execution_count": 37,
   "metadata": {
    "execution": {
     "iopub.execute_input": "2021-01-06T12:10:59.718422Z",
     "iopub.status.busy": "2021-01-06T12:10:59.717839Z",
     "iopub.status.idle": "2021-01-06T12:10:59.720391Z",
     "shell.execute_reply": "2021-01-06T12:10:59.720945Z"
    },
    "papermill": {
     "duration": 0.038556,
     "end_time": "2021-01-06T12:10:59.721115",
     "exception": false,
     "start_time": "2021-01-06T12:10:59.682559",
     "status": "completed"
    },
    "tags": []
   },
   "outputs": [],
   "source": [
    "#hide\n",
    "# g.rename(columns= {'date':'day'},inplace = True)"
   ]
  },
  {
   "cell_type": "code",
   "execution_count": 38,
   "metadata": {
    "execution": {
     "iopub.execute_input": "2021-01-06T12:10:59.798207Z",
     "iopub.status.busy": "2021-01-06T12:10:59.797506Z",
     "iopub.status.idle": "2021-01-06T12:10:59.800290Z",
     "shell.execute_reply": "2021-01-06T12:10:59.799821Z"
    },
    "papermill": {
     "duration": 0.041228,
     "end_time": "2021-01-06T12:10:59.800422",
     "exception": false,
     "start_time": "2021-01-06T12:10:59.759194",
     "status": "completed"
    },
    "tags": []
   },
   "outputs": [],
   "source": [
    "#hide\n",
    "# g = g[cols]"
   ]
  },
  {
   "cell_type": "code",
   "execution_count": 39,
   "metadata": {
    "execution": {
     "iopub.execute_input": "2021-01-06T12:10:59.870092Z",
     "iopub.status.busy": "2021-01-06T12:10:59.869344Z",
     "iopub.status.idle": "2021-01-06T12:10:59.875435Z",
     "shell.execute_reply": "2021-01-06T12:10:59.874922Z"
    },
    "papermill": {
     "duration": 0.042409,
     "end_time": "2021-01-06T12:10:59.875567",
     "exception": false,
     "start_time": "2021-01-06T12:10:59.833158",
     "status": "completed"
    },
    "tags": []
   },
   "outputs": [],
   "source": [
    "# #hide\n",
    "# g = g[g.group.notna()]"
   ]
  },
  {
   "cell_type": "code",
   "execution_count": 40,
   "metadata": {
    "execution": {
     "iopub.execute_input": "2021-01-06T12:10:59.943058Z",
     "iopub.status.busy": "2021-01-06T12:10:59.942438Z",
     "iopub.status.idle": "2021-01-06T12:10:59.944045Z",
     "shell.execute_reply": "2021-01-06T12:10:59.944657Z"
    },
    "papermill": {
     "duration": 0.037173,
     "end_time": "2021-01-06T12:10:59.944809",
     "exception": false,
     "start_time": "2021-01-06T12:10:59.907636",
     "status": "completed"
    },
    "tags": []
   },
   "outputs": [],
   "source": [
    "# #hide\n",
    "# colors = dict(zip(\n",
    "#     [\"Oceania\", \"Europe\", \"Asia\", \"South America\", \"Middle East\", \"North America\", \"Africa\"],\n",
    "#     [\"#adb0ff\", \"#ffb3ff\", \"#90d595\", \"#e48381\", \"#aafbff\", \"#f7bb5f\", \"#eafb50\"]\n",
    "# ))\n",
    "# group_lk = g.set_index('name')['group'].to_dict()"
   ]
  },
  {
   "cell_type": "code",
   "execution_count": null,
   "metadata": {
    "papermill": {
     "duration": 0.033325,
     "end_time": "2021-01-06T12:11:00.010505",
     "exception": false,
     "start_time": "2021-01-06T12:10:59.977180",
     "status": "completed"
    },
    "tags": []
   },
   "outputs": [],
   "source": []
  },
  {
   "cell_type": "code",
   "execution_count": 41,
   "metadata": {
    "execution": {
     "iopub.execute_input": "2021-01-06T12:11:00.082527Z",
     "iopub.status.busy": "2021-01-06T12:11:00.081909Z",
     "iopub.status.idle": "2021-01-06T12:11:00.083604Z",
     "shell.execute_reply": "2021-01-06T12:11:00.084220Z"
    },
    "papermill": {
     "duration": 0.039878,
     "end_time": "2021-01-06T12:11:00.084368",
     "exception": false,
     "start_time": "2021-01-06T12:11:00.044490",
     "status": "completed"
    },
    "tags": []
   },
   "outputs": [],
   "source": [
    "# #hide\n",
    "# fig, ax = plt.subplots(figsize=(15, 8))\n",
    "\n",
    "# def draw_barchart(current_day):\n",
    "#     dff = g[g['day'].eq(current_day)].sort_values(by='value', ascending=True).tail(10)\n",
    "#     ax.clear()\n",
    "#     ax.barh(dff['name'], dff['value'], color=[colors[group_lk[x]] for x in dff['name']])\n",
    "#     dx = dff['value'].max() / 200\n",
    "    \n",
    "#     for i, (value, name) in enumerate(zip(dff['value'], dff['name'])):\n",
    "#         ax.text(value-dx, i,     name,           size=14, weight=600, ha='right', va='bottom')\n",
    "#         ax.text(value-dx, i-.25, group_lk[name], size=10, color='#444444', ha='right', va='baseline')\n",
    "#         ax.text(value+dx, i,     f'{value:,.0f}',  size=14, ha='left',  va='center')\n",
    "#     ax.text(1, 0.4, current_day, transform=ax.transAxes, color='#777777', size=46, ha='right', weight=800)\n",
    "#     ax.text(0, 1.06, 'Population (thousands)', transform=ax.transAxes, size=12, color='#777777')\n",
    "#     ax.xaxis.set_major_formatter(ticker.StrMethodFormatter('{x:,.0f}'))\n",
    "#     ax.xaxis.set_ticks_position('top')\n",
    "#     ax.tick_params(axis='x', colors='#777777', labelsize=12)\n",
    "#     ax.set_yticks([])\n",
    "#     ax.margins(0, 0.01)\n",
    "#     ax.grid(which='major', axis='x', linestyle='-')\n",
    "#     ax.set_axisbelow(True)\n",
    "    \n",
    "#     ax.text(0, 1.15, 'Coronavirus',\n",
    "#             transform=ax.transAxes, size=24, weight=600, ha='left', va='top')\n",
    "# #     ax.text(1, 0, 'by @pratapvardhan; credit @jburnmurdoch', transform=ax.transAxes, color='#777777', ha='right',\n",
    "# #             bbox=dict(facecolor='white', alpha=0.8, edgecolor='white'))\n",
    "#     plt.box(False)"
   ]
  },
  {
   "cell_type": "code",
   "execution_count": 42,
   "metadata": {
    "execution": {
     "iopub.execute_input": "2021-01-06T12:11:00.156944Z",
     "iopub.status.busy": "2021-01-06T12:11:00.156360Z",
     "iopub.status.idle": "2021-01-06T12:11:00.158624Z",
     "shell.execute_reply": "2021-01-06T12:11:00.158135Z"
    },
    "papermill": {
     "duration": 0.040374,
     "end_time": "2021-01-06T12:11:00.158750",
     "exception": false,
     "start_time": "2021-01-06T12:11:00.118376",
     "status": "completed"
    },
    "tags": []
   },
   "outputs": [],
   "source": [
    "# #hide_input\n",
    "# fig, ax = plt.subplots(figsize=(15, 8))\n",
    "# animator = animation.FuncAnimation(fig, draw_barchart, frames=range(g.day.values.min(), g.day.values.max()))\n",
    "# HTML(animator.to_jshtml())\n",
    "# # or use animator.to_html5_video() or animator.save() "
   ]
  },
  {
   "cell_type": "code",
   "execution_count": null,
   "metadata": {
    "papermill": {
     "duration": 0.03434,
     "end_time": "2021-01-06T12:11:00.226597",
     "exception": false,
     "start_time": "2021-01-06T12:11:00.192257",
     "status": "completed"
    },
    "tags": []
   },
   "outputs": [],
   "source": []
  },
  {
   "cell_type": "code",
   "execution_count": null,
   "metadata": {
    "papermill": {
     "duration": 0.032202,
     "end_time": "2021-01-06T12:11:00.290660",
     "exception": false,
     "start_time": "2021-01-06T12:11:00.258458",
     "status": "completed"
    },
    "tags": []
   },
   "outputs": [],
   "source": []
  },
  {
   "cell_type": "code",
   "execution_count": null,
   "metadata": {
    "papermill": {
     "duration": 0.033054,
     "end_time": "2021-01-06T12:11:00.356567",
     "exception": false,
     "start_time": "2021-01-06T12:11:00.323513",
     "status": "completed"
    },
    "tags": []
   },
   "outputs": [],
   "source": []
  }
 ],
 "metadata": {
  "kernelspec": {
   "display_name": "Python 3",
   "language": "python",
   "name": "python3"
  },
  "language_info": {
   "codemirror_mode": {
    "name": "ipython",
    "version": 3
   },
   "file_extension": ".py",
   "mimetype": "text/x-python",
   "name": "python",
   "nbconvert_exporter": "python",
   "pygments_lexer": "ipython3",
   "version": "3.6.12"
  },
  "papermill": {
   "duration": 8.33431,
   "end_time": "2021-01-06T12:11:00.798458",
   "environment_variables": {},
   "exception": null,
   "input_path": "2020-03-21-covid19exp.ipynb",
   "output_path": "2020-03-21-covid19exp.ipynb",
   "parameters": {},
   "start_time": "2021-01-06T12:10:52.464148",
   "version": "2.0.0"
  }
 },
 "nbformat": 4,
 "nbformat_minor": 4
}