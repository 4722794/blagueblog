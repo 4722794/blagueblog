{
 "cells": [
  {
   "cell_type": "markdown",
   "id": "muslim-click",
   "metadata": {
    "papermill": {
     "duration": 0.035146,
     "end_time": "2022-08-12T00:42:43.219668",
     "exception": false,
     "start_time": "2022-08-12T00:42:43.184522",
     "status": "completed"
    },
    "tags": []
   },
   "source": [
    "# COVID-19 Case Race\n",
    "> A race chart to see rising cases around the world\n",
    "\n",
    "- author: Hargun Oberoi\n",
    "- image: images/covid-overview.png\n",
    "- hide: false\n",
    "- badges: false"
   ]
  },
  {
   "cell_type": "code",
   "execution_count": 1,
   "id": "proof-material",
   "metadata": {
    "execution": {
     "iopub.execute_input": "2022-08-12T00:42:43.290054Z",
     "iopub.status.busy": "2022-08-12T00:42:43.289459Z",
     "iopub.status.idle": "2022-08-12T00:42:43.612186Z",
     "shell.execute_reply": "2022-08-12T00:42:43.611585Z"
    },
    "papermill": {
     "duration": 0.362475,
     "end_time": "2022-08-12T00:42:43.612337",
     "exception": false,
     "start_time": "2022-08-12T00:42:43.249862",
     "status": "completed"
    },
    "tags": []
   },
   "outputs": [],
   "source": [
    "#hide\n",
    "import numpy as np\n",
    "import pandas as pd\n",
    "from jinja2 import Template\n",
    "from IPython.display import HTML"
   ]
  },
  {
   "cell_type": "code",
   "execution_count": 2,
   "id": "developed-terminology",
   "metadata": {
    "execution": {
     "iopub.execute_input": "2022-08-12T00:42:43.677754Z",
     "iopub.status.busy": "2022-08-12T00:42:43.677128Z",
     "iopub.status.idle": "2022-08-12T00:42:43.679605Z",
     "shell.execute_reply": "2022-08-12T00:42:43.679121Z"
    },
    "papermill": {
     "duration": 0.037321,
     "end_time": "2022-08-12T00:42:43.679713",
     "exception": false,
     "start_time": "2022-08-12T00:42:43.642392",
     "status": "completed"
    },
    "tags": []
   },
   "outputs": [],
   "source": [
    "#hide\n",
    "\n",
    "# FETCH\n",
    "base_url = 'https://raw.githubusercontent.com/pratapvardhan/notebooks/master/covid19/'\n",
    "paths = {\n",
    "    'mapping': base_url + 'mapping_countries.csv',\n",
    "    'overview': base_url + 'overview.tpl'\n",
    "}"
   ]
  },
  {
   "cell_type": "code",
   "execution_count": 3,
   "id": "dynamic-saver",
   "metadata": {
    "execution": {
     "iopub.execute_input": "2022-08-12T00:42:43.750489Z",
     "iopub.status.busy": "2022-08-12T00:42:43.749893Z",
     "iopub.status.idle": "2022-08-12T00:42:43.752971Z",
     "shell.execute_reply": "2022-08-12T00:42:43.753446Z"
    },
    "papermill": {
     "duration": 0.043101,
     "end_time": "2022-08-12T00:42:43.753576",
     "exception": false,
     "start_time": "2022-08-12T00:42:43.710475",
     "status": "completed"
    },
    "tags": []
   },
   "outputs": [
    {
     "data": {
      "text/plain": [
       "'https://raw.githubusercontent.com/pratapvardhan/notebooks/master/covid19/mapping_countries.csv'"
      ]
     },
     "execution_count": 3,
     "metadata": {},
     "output_type": "execute_result"
    }
   ],
   "source": [
    "#hide\n",
    "paths['mapping']"
   ]
  },
  {
   "cell_type": "code",
   "execution_count": 4,
   "id": "urban-software",
   "metadata": {
    "execution": {
     "iopub.execute_input": "2022-08-12T00:42:43.819335Z",
     "iopub.status.busy": "2022-08-12T00:42:43.818654Z",
     "iopub.status.idle": "2022-08-12T00:42:43.820995Z",
     "shell.execute_reply": "2022-08-12T00:42:43.820421Z"
    },
    "papermill": {
     "duration": 0.037525,
     "end_time": "2022-08-12T00:42:43.821106",
     "exception": false,
     "start_time": "2022-08-12T00:42:43.783581",
     "status": "completed"
    },
    "tags": []
   },
   "outputs": [],
   "source": [
    "#hide\n",
    "def get_mappings(url):\n",
    "    df = pd.read_csv(url)\n",
    "    return {\n",
    "        'df': df,\n",
    "        'replace.country': dict(df.dropna(subset=['Name']).set_index('Country')['Name']),\n",
    "        'map.continent': dict(df.set_index('Name')['Continent'])\n",
    "    }"
   ]
  },
  {
   "cell_type": "code",
   "execution_count": 5,
   "id": "intimate-machinery",
   "metadata": {
    "execution": {
     "iopub.execute_input": "2022-08-12T00:42:43.886621Z",
     "iopub.status.busy": "2022-08-12T00:42:43.886031Z",
     "iopub.status.idle": "2022-08-12T00:42:43.947184Z",
     "shell.execute_reply": "2022-08-12T00:42:43.946604Z"
    },
    "papermill": {
     "duration": 0.096563,
     "end_time": "2022-08-12T00:42:43.947313",
     "exception": false,
     "start_time": "2022-08-12T00:42:43.850750",
     "status": "completed"
    },
    "tags": []
   },
   "outputs": [],
   "source": [
    "#hide\n",
    "mapping = get_mappings(paths['mapping'])"
   ]
  },
  {
   "cell_type": "code",
   "execution_count": 6,
   "id": "certified-tactics",
   "metadata": {
    "execution": {
     "iopub.execute_input": "2022-08-12T00:42:44.012560Z",
     "iopub.status.busy": "2022-08-12T00:42:44.011984Z",
     "iopub.status.idle": "2022-08-12T00:42:44.014337Z",
     "shell.execute_reply": "2022-08-12T00:42:44.014911Z"
    },
    "papermill": {
     "duration": 0.037308,
     "end_time": "2022-08-12T00:42:44.015037",
     "exception": false,
     "start_time": "2022-08-12T00:42:43.977729",
     "status": "completed"
    },
    "tags": []
   },
   "outputs": [],
   "source": [
    "#hide\n",
    "def get_template(path):\n",
    "    from urllib.parse import urlparse\n",
    "    if bool(urlparse(path).netloc):\n",
    "        from urllib.request import urlopen\n",
    "        return urlopen(path).read().decode('utf8')\n",
    "    return open(path).read()"
   ]
  },
  {
   "cell_type": "code",
   "execution_count": 7,
   "id": "realistic-blast",
   "metadata": {
    "execution": {
     "iopub.execute_input": "2022-08-12T00:42:44.079841Z",
     "iopub.status.busy": "2022-08-12T00:42:44.079144Z",
     "iopub.status.idle": "2022-08-12T00:42:44.080765Z",
     "shell.execute_reply": "2022-08-12T00:42:44.081303Z"
    },
    "papermill": {
     "duration": 0.036894,
     "end_time": "2022-08-12T00:42:44.081441",
     "exception": false,
     "start_time": "2022-08-12T00:42:44.044547",
     "status": "completed"
    },
    "tags": []
   },
   "outputs": [],
   "source": [
    "#hide\n",
    "def get_frame(name):\n",
    "    url = (\n",
    "        'https://raw.githubusercontent.com/CSSEGISandData/COVID-19/master/csse_covid_19_data/'\n",
    "        f'csse_covid_19_time_series/time_series_covid19_{name}_global.csv')\n",
    "    df = pd.read_csv(url)\n",
    "    # rename countries\n",
    "    df['Country/Region'] = df['Country/Region'].replace(mapping['replace.country'])\n",
    "    return df"
   ]
  },
  {
   "cell_type": "code",
   "execution_count": 8,
   "id": "affiliated-characterization",
   "metadata": {
    "execution": {
     "iopub.execute_input": "2022-08-12T00:42:44.147231Z",
     "iopub.status.busy": "2022-08-12T00:42:44.146608Z",
     "iopub.status.idle": "2022-08-12T00:42:44.149402Z",
     "shell.execute_reply": "2022-08-12T00:42:44.148930Z"
    },
    "papermill": {
     "duration": 0.037714,
     "end_time": "2022-08-12T00:42:44.149506",
     "exception": false,
     "start_time": "2022-08-12T00:42:44.111792",
     "status": "completed"
    },
    "tags": []
   },
   "outputs": [],
   "source": [
    "#hide\n",
    "def get_dates(df):\n",
    "    dt_cols = df.columns[~df.columns.isin(['Province/State', 'Country/Region', 'Lat', 'Long'])]\n",
    "    LAST_DATE_I = -1\n",
    "    # sometimes last column may be empty, then go backwards\n",
    "    for i in range(-1, -len(dt_cols), -1):\n",
    "        if not df[dt_cols[i]].fillna(0).eq(0).all():\n",
    "            LAST_DATE_I = i\n",
    "            break\n",
    "    return LAST_DATE_I, dt_cols"
   ]
  },
  {
   "cell_type": "code",
   "execution_count": 9,
   "id": "recent-optimization",
   "metadata": {
    "execution": {
     "iopub.execute_input": "2022-08-12T00:42:44.213865Z",
     "iopub.status.busy": "2022-08-12T00:42:44.213258Z",
     "iopub.status.idle": "2022-08-12T00:42:44.748286Z",
     "shell.execute_reply": "2022-08-12T00:42:44.747752Z"
    },
    "papermill": {
     "duration": 0.569295,
     "end_time": "2022-08-12T00:42:44.748419",
     "exception": false,
     "start_time": "2022-08-12T00:42:44.179124",
     "status": "completed"
    },
    "tags": []
   },
   "outputs": [],
   "source": [
    "#hide\n",
    "COL_REGION = 'Country/Region'\n",
    "# Confirmed, Recovered, Deaths\n",
    "df = get_frame('confirmed')\n",
    "# dft_: timeseries, dfc_: today country agg\n",
    "dft_cases = df\n",
    "dft_deaths = get_frame('deaths')\n",
    "dft_recovered = get_frame('recovered')\n",
    "LAST_DATE_I, dt_cols = get_dates(df)"
   ]
  },
  {
   "cell_type": "code",
   "execution_count": 10,
   "id": "absolute-copper",
   "metadata": {
    "execution": {
     "iopub.execute_input": "2022-08-12T00:42:44.813917Z",
     "iopub.status.busy": "2022-08-12T00:42:44.813238Z",
     "iopub.status.idle": "2022-08-12T00:42:44.815770Z",
     "shell.execute_reply": "2022-08-12T00:42:44.815138Z"
    },
    "papermill": {
     "duration": 0.037509,
     "end_time": "2022-08-12T00:42:44.815891",
     "exception": false,
     "start_time": "2022-08-12T00:42:44.778382",
     "status": "completed"
    },
    "tags": []
   },
   "outputs": [],
   "source": [
    "#hide\n",
    "LAST_DATE_I, dt_cols = get_dates(df)\n",
    "dt_today =dt_cols[LAST_DATE_I]\n",
    "# dt_5day = dt_cols[LAST_DATE_I - 5]\n",
    "dt_yday = dt_cols[LAST_DATE_I - 1]"
   ]
  },
  {
   "cell_type": "code",
   "execution_count": 11,
   "id": "restricted-sheriff",
   "metadata": {
    "execution": {
     "iopub.execute_input": "2022-08-12T00:42:44.880217Z",
     "iopub.status.busy": "2022-08-12T00:42:44.879642Z",
     "iopub.status.idle": "2022-08-12T00:42:44.887568Z",
     "shell.execute_reply": "2022-08-12T00:42:44.887089Z"
    },
    "papermill": {
     "duration": 0.042051,
     "end_time": "2022-08-12T00:42:44.887676",
     "exception": false,
     "start_time": "2022-08-12T00:42:44.845625",
     "status": "completed"
    },
    "tags": []
   },
   "outputs": [],
   "source": [
    "#hide\n",
    "dfc_cases = dft_cases.groupby(COL_REGION)[dt_today].sum()\n",
    "dfc_deaths = dft_deaths.groupby(COL_REGION)[dt_today].sum()\n",
    "# dfp_cases = dft_cases.groupby(COL_REGION)[dt_5day].sum()\n",
    "# dfp_deaths = dft_deaths.groupby(COL_REGION)[dt_5day].sum()\n",
    "dfp_cases = dft_cases.groupby(COL_REGION)[dt_yday].sum()\n",
    "dfp_deaths = dft_deaths.groupby(COL_REGION)[dt_yday].sum()"
   ]
  },
  {
   "cell_type": "code",
   "execution_count": 12,
   "id": "deluxe-hepatitis",
   "metadata": {
    "execution": {
     "iopub.execute_input": "2022-08-12T00:42:44.954173Z",
     "iopub.status.busy": "2022-08-12T00:42:44.953572Z",
     "iopub.status.idle": "2022-08-12T00:42:44.959726Z",
     "shell.execute_reply": "2022-08-12T00:42:44.959241Z"
    },
    "papermill": {
     "duration": 0.042328,
     "end_time": "2022-08-12T00:42:44.959836",
     "exception": false,
     "start_time": "2022-08-12T00:42:44.917508",
     "status": "completed"
    },
    "tags": []
   },
   "outputs": [],
   "source": [
    "#hide\n",
    "df_table = (pd.DataFrame(dict(Cases = dfc_cases, Deaths = dfc_deaths, PCases = dfp_cases, PDeaths = dfp_deaths))\n",
    "            .sort_values(by = ['Cases','Deaths'], ascending = [False, False])\n",
    "            .reset_index())"
   ]
  },
  {
   "cell_type": "code",
   "execution_count": 13,
   "id": "educational-chancellor",
   "metadata": {
    "execution": {
     "iopub.execute_input": "2022-08-12T00:42:45.037201Z",
     "iopub.status.busy": "2022-08-12T00:42:45.036599Z",
     "iopub.status.idle": "2022-08-12T00:42:45.044733Z",
     "shell.execute_reply": "2022-08-12T00:42:45.044250Z"
    },
    "papermill": {
     "duration": 0.055122,
     "end_time": "2022-08-12T00:42:45.044843",
     "exception": false,
     "start_time": "2022-08-12T00:42:44.989721",
     "status": "completed"
    },
    "tags": []
   },
   "outputs": [
    {
     "data": {
      "text/html": [
       "<div>\n",
       "<style scoped>\n",
       "    .dataframe tbody tr th:only-of-type {\n",
       "        vertical-align: middle;\n",
       "    }\n",
       "\n",
       "    .dataframe tbody tr th {\n",
       "        vertical-align: top;\n",
       "    }\n",
       "\n",
       "    .dataframe thead th {\n",
       "        text-align: right;\n",
       "    }\n",
       "</style>\n",
       "<table border=\"1\" class=\"dataframe\">\n",
       "  <thead>\n",
       "    <tr style=\"text-align: right;\">\n",
       "      <th></th>\n",
       "      <th>Country/Region</th>\n",
       "      <th>Cases</th>\n",
       "      <th>Deaths</th>\n",
       "      <th>PCases</th>\n",
       "      <th>PDeaths</th>\n",
       "      <th>Cases (+)</th>\n",
       "      <th>Deaths (+)</th>\n",
       "      <th>Fatality Rate</th>\n",
       "      <th>Continent</th>\n",
       "    </tr>\n",
       "  </thead>\n",
       "  <tbody>\n",
       "    <tr>\n",
       "      <th>0</th>\n",
       "      <td>US</td>\n",
       "      <td>92569245</td>\n",
       "      <td>1035619</td>\n",
       "      <td>92351595</td>\n",
       "      <td>1034704</td>\n",
       "      <td>217650</td>\n",
       "      <td>915</td>\n",
       "      <td>1.12</td>\n",
       "      <td>North America</td>\n",
       "    </tr>\n",
       "    <tr>\n",
       "      <th>1</th>\n",
       "      <td>India</td>\n",
       "      <td>44206996</td>\n",
       "      <td>526879</td>\n",
       "      <td>44190697</td>\n",
       "      <td>526826</td>\n",
       "      <td>16299</td>\n",
       "      <td>53</td>\n",
       "      <td>1.19</td>\n",
       "      <td>Asia</td>\n",
       "    </tr>\n",
       "    <tr>\n",
       "      <th>2</th>\n",
       "      <td>France</td>\n",
       "      <td>34359013</td>\n",
       "      <td>153950</td>\n",
       "      <td>34331725</td>\n",
       "      <td>153862</td>\n",
       "      <td>27288</td>\n",
       "      <td>88</td>\n",
       "      <td>0.45</td>\n",
       "      <td>Europe</td>\n",
       "    </tr>\n",
       "    <tr>\n",
       "      <th>3</th>\n",
       "      <td>Brazil</td>\n",
       "      <td>34066000</td>\n",
       "      <td>680531</td>\n",
       "      <td>34066000</td>\n",
       "      <td>680531</td>\n",
       "      <td>0</td>\n",
       "      <td>0</td>\n",
       "      <td>2.00</td>\n",
       "      <td>South America</td>\n",
       "    </tr>\n",
       "    <tr>\n",
       "      <th>4</th>\n",
       "      <td>Germany</td>\n",
       "      <td>31439645</td>\n",
       "      <td>145394</td>\n",
       "      <td>31379757</td>\n",
       "      <td>145241</td>\n",
       "      <td>59888</td>\n",
       "      <td>153</td>\n",
       "      <td>0.46</td>\n",
       "      <td>Europe</td>\n",
       "    </tr>\n",
       "  </tbody>\n",
       "</table>\n",
       "</div>"
      ],
      "text/plain": [
       "  Country/Region     Cases   Deaths    PCases  PDeaths  Cases (+)  Deaths (+)  \\\n",
       "0             US  92569245  1035619  92351595  1034704     217650         915   \n",
       "1          India  44206996   526879  44190697   526826      16299          53   \n",
       "2         France  34359013   153950  34331725   153862      27288          88   \n",
       "3         Brazil  34066000   680531  34066000   680531          0           0   \n",
       "4        Germany  31439645   145394  31379757   145241      59888         153   \n",
       "\n",
       "   Fatality Rate      Continent  \n",
       "0           1.12  North America  \n",
       "1           1.19           Asia  \n",
       "2           0.45         Europe  \n",
       "3           2.00  South America  \n",
       "4           0.46         Europe  "
      ]
     },
     "execution_count": 13,
     "metadata": {},
     "output_type": "execute_result"
    }
   ],
   "source": [
    "#hide\n",
    "for c in 'Cases, Deaths'.split(', '):\n",
    "    df_table[f'{c} (+)'] = (df_table[c] - df_table[f'P{c}']).clip(0)\n",
    "    #Clip ça veut dire, les chiffres negatif sont interdit\n",
    "df_table['Fatality Rate'] = (100* df_table['Deaths']/ df_table['Cases']).round(2)\n",
    "df_table['Continent'] = df_table['Country/Region'].map(mapping['map.continent'])\n",
    "df_table.head(5)"
   ]
  },
  {
   "cell_type": "code",
   "execution_count": 14,
   "id": "aboriginal-bulgaria",
   "metadata": {
    "execution": {
     "iopub.execute_input": "2022-08-12T00:42:45.111438Z",
     "iopub.status.busy": "2022-08-12T00:42:45.110837Z",
     "iopub.status.idle": "2022-08-12T00:42:45.114007Z",
     "shell.execute_reply": "2022-08-12T00:42:45.114458Z"
    },
    "papermill": {
     "duration": 0.039291,
     "end_time": "2022-08-12T00:42:45.114586",
     "exception": false,
     "start_time": "2022-08-12T00:42:45.075295",
     "status": "completed"
    },
    "tags": []
   },
   "outputs": [],
   "source": [
    "#hide\n",
    "#delete problematic countries from table\n",
    "df_table = df_table[~df_table['Country/Region'].isin(['Cape Verde', 'Cruise Ship', 'Kosovo'])]"
   ]
  },
  {
   "cell_type": "code",
   "execution_count": 15,
   "id": "fantastic-effect",
   "metadata": {
    "execution": {
     "iopub.execute_input": "2022-08-12T00:42:45.183245Z",
     "iopub.status.busy": "2022-08-12T00:42:45.182622Z",
     "iopub.status.idle": "2022-08-12T00:42:45.201064Z",
     "shell.execute_reply": "2022-08-12T00:42:45.200517Z"
    },
    "papermill": {
     "duration": 0.056394,
     "end_time": "2022-08-12T00:42:45.201187",
     "exception": false,
     "start_time": "2022-08-12T00:42:45.144793",
     "status": "completed"
    },
    "tags": []
   },
   "outputs": [
    {
     "data": {
      "text/html": [
       "<div>\n",
       "<style scoped>\n",
       "    .dataframe tbody tr th:only-of-type {\n",
       "        vertical-align: middle;\n",
       "    }\n",
       "\n",
       "    .dataframe tbody tr th {\n",
       "        vertical-align: top;\n",
       "    }\n",
       "\n",
       "    .dataframe thead th {\n",
       "        text-align: right;\n",
       "    }\n",
       "</style>\n",
       "<table border=\"1\" class=\"dataframe\">\n",
       "  <thead>\n",
       "    <tr style=\"text-align: right;\">\n",
       "      <th></th>\n",
       "      <th>Country/Region</th>\n",
       "      <th>Cases</th>\n",
       "      <th>Deaths</th>\n",
       "      <th>PCases</th>\n",
       "      <th>PDeaths</th>\n",
       "      <th>Cases (+)</th>\n",
       "      <th>Deaths (+)</th>\n",
       "      <th>Fatality Rate</th>\n",
       "      <th>Continent</th>\n",
       "    </tr>\n",
       "  </thead>\n",
       "  <tbody>\n",
       "    <tr>\n",
       "      <th>0</th>\n",
       "      <td>US</td>\n",
       "      <td>92569245</td>\n",
       "      <td>1035619</td>\n",
       "      <td>92351595</td>\n",
       "      <td>1034704</td>\n",
       "      <td>217650</td>\n",
       "      <td>915</td>\n",
       "      <td>1.1</td>\n",
       "      <td>North America</td>\n",
       "    </tr>\n",
       "    <tr>\n",
       "      <th>1</th>\n",
       "      <td>India</td>\n",
       "      <td>44206996</td>\n",
       "      <td>526879</td>\n",
       "      <td>44190697</td>\n",
       "      <td>526826</td>\n",
       "      <td>16299</td>\n",
       "      <td>53</td>\n",
       "      <td>1.2</td>\n",
       "      <td>Asia</td>\n",
       "    </tr>\n",
       "    <tr>\n",
       "      <th>2</th>\n",
       "      <td>France</td>\n",
       "      <td>34359013</td>\n",
       "      <td>153950</td>\n",
       "      <td>34331725</td>\n",
       "      <td>153862</td>\n",
       "      <td>27288</td>\n",
       "      <td>88</td>\n",
       "      <td>0.4</td>\n",
       "      <td>Europe</td>\n",
       "    </tr>\n",
       "    <tr>\n",
       "      <th>3</th>\n",
       "      <td>Brazil</td>\n",
       "      <td>34066000</td>\n",
       "      <td>680531</td>\n",
       "      <td>34066000</td>\n",
       "      <td>680531</td>\n",
       "      <td>0</td>\n",
       "      <td>0</td>\n",
       "      <td>2.0</td>\n",
       "      <td>South America</td>\n",
       "    </tr>\n",
       "    <tr>\n",
       "      <th>4</th>\n",
       "      <td>Germany</td>\n",
       "      <td>31439645</td>\n",
       "      <td>145394</td>\n",
       "      <td>31379757</td>\n",
       "      <td>145241</td>\n",
       "      <td>59888</td>\n",
       "      <td>153</td>\n",
       "      <td>0.5</td>\n",
       "      <td>Europe</td>\n",
       "    </tr>\n",
       "  </tbody>\n",
       "</table>\n",
       "</div>"
      ],
      "text/plain": [
       "  Country/Region     Cases   Deaths    PCases  PDeaths  Cases (+)  Deaths (+)  \\\n",
       "0             US  92569245  1035619  92351595  1034704     217650         915   \n",
       "1          India  44206996   526879  44190697   526826      16299          53   \n",
       "2         France  34359013   153950  34331725   153862      27288          88   \n",
       "3         Brazil  34066000   680531  34066000   680531          0           0   \n",
       "4        Germany  31439645   145394  31379757   145241      59888         153   \n",
       "\n",
       "   Fatality Rate      Continent  \n",
       "0            1.1  North America  \n",
       "1            1.2           Asia  \n",
       "2            0.4         Europe  \n",
       "3            2.0  South America  \n",
       "4            0.5         Europe  "
      ]
     },
     "execution_count": 15,
     "metadata": {},
     "output_type": "execute_result"
    }
   ],
   "source": [
    "#hide\n",
    "df_table = (pd.DataFrame(dict(Cases=dfc_cases, Deaths=dfc_deaths, PCases=dfp_cases, PDeaths=dfp_deaths))\n",
    "             .sort_values(by=['Cases', 'Deaths'], ascending=[False, False])\n",
    "             .reset_index())\n",
    "df_table.rename(columns={'index': 'Country/Region'}, inplace=True)\n",
    "for c in 'Cases, Deaths'.split(', '):\n",
    "    df_table[f'{c} (+)'] = (df_table[c] - df_table[f'P{c}']).clip(0)  # DATA BUG\n",
    "df_table['Fatality Rate'] = (100 * df_table['Deaths'] / df_table['Cases']).round(1)\n",
    "df_table['Continent'] = df_table['Country/Region'].map(mapping['map.continent'])\n",
    "df_table.head(5)"
   ]
  },
  {
   "cell_type": "code",
   "execution_count": 16,
   "id": "fewer-occasion",
   "metadata": {
    "execution": {
     "iopub.execute_input": "2022-08-12T00:42:45.268684Z",
     "iopub.status.busy": "2022-08-12T00:42:45.268106Z",
     "iopub.status.idle": "2022-08-12T00:42:45.270455Z",
     "shell.execute_reply": "2022-08-12T00:42:45.270962Z"
    },
    "papermill": {
     "duration": 0.03856,
     "end_time": "2022-08-12T00:42:45.271090",
     "exception": false,
     "start_time": "2022-08-12T00:42:45.232530",
     "status": "completed"
    },
    "tags": []
   },
   "outputs": [],
   "source": [
    "#hide\n",
    "#delete problematic countries from table\n",
    "df_table = df_table[~df_table['Country/Region'].isin(['Cape Verde', 'Cruise Ship', 'Kosovo'])]"
   ]
  },
  {
   "cell_type": "code",
   "execution_count": 17,
   "id": "related-center",
   "metadata": {
    "execution": {
     "iopub.execute_input": "2022-08-12T00:42:45.349873Z",
     "iopub.status.busy": "2022-08-12T00:42:45.349273Z",
     "iopub.status.idle": "2022-08-12T00:42:45.351873Z",
     "shell.execute_reply": "2022-08-12T00:42:45.351392Z"
    },
    "papermill": {
     "duration": 0.050292,
     "end_time": "2022-08-12T00:42:45.351980",
     "exception": false,
     "start_time": "2022-08-12T00:42:45.301688",
     "status": "completed"
    },
    "tags": []
   },
   "outputs": [],
   "source": [
    "#hide\n",
    "metrics = [df_table.columns[index] for index in [1,2,5,6]]\n",
    "# s_china = df_table[df_table['Country/Region'].eq('China')][metrics].sum().add_prefix('China ')\n",
    "s_us = df_table[df_table['Country/Region'].eq('US')][metrics].sum().add_prefix('US ')\n",
    "s_eu = df_table[df_table['Continent'].eq('Europe')][metrics].sum().add_prefix('EU ')\n",
    "s_ind = df_table[df_table['Country/Region'].eq('India')][metrics].sum().add_prefix('India ')\n",
    "summary = {'updated': pd.to_datetime(dt_today), 'since': pd.to_datetime(dt_yday)}\n",
    "summary = {'updated': pd.to_datetime(dt_today), 'since': pd.to_datetime(dt_yday)}\n",
    "summary = {**summary, **df_table[metrics].sum(), **s_ind, **s_us, **s_eu}"
   ]
  },
  {
   "cell_type": "code",
   "execution_count": 18,
   "id": "engaging-syndrome",
   "metadata": {
    "execution": {
     "iopub.execute_input": "2022-08-12T00:42:45.418394Z",
     "iopub.status.busy": "2022-08-12T00:42:45.417816Z",
     "iopub.status.idle": "2022-08-12T00:42:45.438112Z",
     "shell.execute_reply": "2022-08-12T00:42:45.437638Z"
    },
    "papermill": {
     "duration": 0.055561,
     "end_time": "2022-08-12T00:42:45.438229",
     "exception": false,
     "start_time": "2022-08-12T00:42:45.382668",
     "status": "completed"
    },
    "tags": []
   },
   "outputs": [],
   "source": [
    "#hide\n",
    "dft_ct_new_cases = dft_cases.groupby(COL_REGION)[dt_cols].sum().diff(axis=1).fillna(0).astype(int)"
   ]
  },
  {
   "cell_type": "code",
   "execution_count": 19,
   "id": "neutral-assignment",
   "metadata": {
    "execution": {
     "iopub.execute_input": "2022-08-12T00:42:45.504252Z",
     "iopub.status.busy": "2022-08-12T00:42:45.503660Z",
     "iopub.status.idle": "2022-08-12T00:42:45.509065Z",
     "shell.execute_reply": "2022-08-12T00:42:45.508590Z"
    },
    "papermill": {
     "duration": 0.040027,
     "end_time": "2022-08-12T00:42:45.509175",
     "exception": false,
     "start_time": "2022-08-12T00:42:45.469148",
     "status": "completed"
    },
    "tags": []
   },
   "outputs": [],
   "source": [
    "#hide\n",
    "everydaycases = dft_ct_new_cases.cumsum(axis=1)"
   ]
  },
  {
   "cell_type": "code",
   "execution_count": 20,
   "id": "parliamentary-calgary",
   "metadata": {
    "execution": {
     "iopub.execute_input": "2022-08-12T00:42:45.575596Z",
     "iopub.status.busy": "2022-08-12T00:42:45.575002Z",
     "iopub.status.idle": "2022-08-12T00:42:46.113072Z",
     "shell.execute_reply": "2022-08-12T00:42:46.112487Z"
    },
    "papermill": {
     "duration": 0.572739,
     "end_time": "2022-08-12T00:42:46.113214",
     "exception": false,
     "start_time": "2022-08-12T00:42:45.540475",
     "status": "completed"
    },
    "tags": []
   },
   "outputs": [],
   "source": [
    "#hide\n",
    "import pandas as pd\n",
    "import matplotlib.pyplot as plt\n",
    "import matplotlib.ticker as ticker\n",
    "import matplotlib.animation as animation\n",
    "from IPython.display import HTML"
   ]
  },
  {
   "cell_type": "code",
   "execution_count": 21,
   "id": "lasting-extraction",
   "metadata": {
    "execution": {
     "iopub.execute_input": "2022-08-12T00:42:46.182866Z",
     "iopub.status.busy": "2022-08-12T00:42:46.182236Z",
     "iopub.status.idle": "2022-08-12T00:42:46.189049Z",
     "shell.execute_reply": "2022-08-12T00:42:46.189496Z"
    },
    "papermill": {
     "duration": 0.044295,
     "end_time": "2022-08-12T00:42:46.189626",
     "exception": false,
     "start_time": "2022-08-12T00:42:46.145331",
     "status": "completed"
    },
    "tags": []
   },
   "outputs": [],
   "source": [
    "#hide\n",
    "t = everydaycases.stack()"
   ]
  },
  {
   "cell_type": "code",
   "execution_count": 22,
   "id": "premier-sleeve",
   "metadata": {
    "execution": {
     "iopub.execute_input": "2022-08-12T00:42:46.255444Z",
     "iopub.status.busy": "2022-08-12T00:42:46.254852Z",
     "iopub.status.idle": "2022-08-12T00:42:46.266492Z",
     "shell.execute_reply": "2022-08-12T00:42:46.267084Z"
    },
    "papermill": {
     "duration": 0.046759,
     "end_time": "2022-08-12T00:42:46.267215",
     "exception": false,
     "start_time": "2022-08-12T00:42:46.220456",
     "status": "completed"
    },
    "tags": []
   },
   "outputs": [],
   "source": [
    "#hide\n",
    "g = t.reset_index(['Country/Region'])"
   ]
  },
  {
   "cell_type": "code",
   "execution_count": 23,
   "id": "distributed-pittsburgh",
   "metadata": {
    "execution": {
     "iopub.execute_input": "2022-08-12T00:42:46.333353Z",
     "iopub.status.busy": "2022-08-12T00:42:46.332723Z",
     "iopub.status.idle": "2022-08-12T00:42:46.335237Z",
     "shell.execute_reply": "2022-08-12T00:42:46.334629Z"
    },
    "papermill": {
     "duration": 0.037527,
     "end_time": "2022-08-12T00:42:46.335350",
     "exception": false,
     "start_time": "2022-08-12T00:42:46.297823",
     "status": "completed"
    },
    "tags": []
   },
   "outputs": [],
   "source": [
    "#hide\n",
    "g.index.name = 'date'"
   ]
  },
  {
   "cell_type": "code",
   "execution_count": 24,
   "id": "naked-donor",
   "metadata": {
    "execution": {
     "iopub.execute_input": "2022-08-12T00:42:46.401498Z",
     "iopub.status.busy": "2022-08-12T00:42:46.400787Z",
     "iopub.status.idle": "2022-08-12T00:42:46.404880Z",
     "shell.execute_reply": "2022-08-12T00:42:46.405315Z"
    },
    "papermill": {
     "duration": 0.039208,
     "end_time": "2022-08-12T00:42:46.405454",
     "exception": false,
     "start_time": "2022-08-12T00:42:46.366246",
     "status": "completed"
    },
    "tags": []
   },
   "outputs": [],
   "source": [
    "# #hide\n",
    "# g = g.reset_index(['date'])"
   ]
  },
  {
   "cell_type": "code",
   "execution_count": 25,
   "id": "incomplete-mustang",
   "metadata": {
    "execution": {
     "iopub.execute_input": "2022-08-12T00:42:46.471307Z",
     "iopub.status.busy": "2022-08-12T00:42:46.470570Z",
     "iopub.status.idle": "2022-08-12T00:42:46.472933Z",
     "shell.execute_reply": "2022-08-12T00:42:46.472283Z"
    },
    "papermill": {
     "duration": 0.036691,
     "end_time": "2022-08-12T00:42:46.473056",
     "exception": false,
     "start_time": "2022-08-12T00:42:46.436365",
     "status": "completed"
    },
    "tags": []
   },
   "outputs": [],
   "source": [
    "#hide\n",
    "# g.head()"
   ]
  },
  {
   "cell_type": "code",
   "execution_count": 26,
   "id": "specific-kruger",
   "metadata": {
    "execution": {
     "iopub.execute_input": "2022-08-12T00:42:46.539553Z",
     "iopub.status.busy": "2022-08-12T00:42:46.538829Z",
     "iopub.status.idle": "2022-08-12T00:42:46.542239Z",
     "shell.execute_reply": "2022-08-12T00:42:46.541579Z"
    },
    "papermill": {
     "duration": 0.037754,
     "end_time": "2022-08-12T00:42:46.542369",
     "exception": false,
     "start_time": "2022-08-12T00:42:46.504615",
     "status": "completed"
    },
    "tags": []
   },
   "outputs": [],
   "source": [
    "#hide\n",
    "# g.columns = ['date','country','cases']"
   ]
  },
  {
   "cell_type": "code",
   "execution_count": 27,
   "id": "tender-conversion",
   "metadata": {
    "execution": {
     "iopub.execute_input": "2022-08-12T00:42:46.609233Z",
     "iopub.status.busy": "2022-08-12T00:42:46.608598Z",
     "iopub.status.idle": "2022-08-12T00:42:46.611114Z",
     "shell.execute_reply": "2022-08-12T00:42:46.610500Z"
    },
    "papermill": {
     "duration": 0.037147,
     "end_time": "2022-08-12T00:42:46.611230",
     "exception": false,
     "start_time": "2022-08-12T00:42:46.574083",
     "status": "completed"
    },
    "tags": []
   },
   "outputs": [],
   "source": [
    "#hide\n",
    "# g['continent'] = g.country"
   ]
  },
  {
   "cell_type": "code",
   "execution_count": 28,
   "id": "substantial-wilderness",
   "metadata": {
    "execution": {
     "iopub.execute_input": "2022-08-12T00:42:46.678004Z",
     "iopub.status.busy": "2022-08-12T00:42:46.677414Z",
     "iopub.status.idle": "2022-08-12T00:42:46.680243Z",
     "shell.execute_reply": "2022-08-12T00:42:46.679766Z"
    },
    "papermill": {
     "duration": 0.037997,
     "end_time": "2022-08-12T00:42:46.680354",
     "exception": false,
     "start_time": "2022-08-12T00:42:46.642357",
     "status": "completed"
    },
    "tags": []
   },
   "outputs": [],
   "source": [
    "#hide\n",
    "# cols = list(g.columns.values)"
   ]
  },
  {
   "cell_type": "code",
   "execution_count": 29,
   "id": "solved-farming",
   "metadata": {
    "execution": {
     "iopub.execute_input": "2022-08-12T00:42:46.746519Z",
     "iopub.status.busy": "2022-08-12T00:42:46.745873Z",
     "iopub.status.idle": "2022-08-12T00:42:46.748195Z",
     "shell.execute_reply": "2022-08-12T00:42:46.748672Z"
    },
    "papermill": {
     "duration": 0.037413,
     "end_time": "2022-08-12T00:42:46.748805",
     "exception": false,
     "start_time": "2022-08-12T00:42:46.711392",
     "status": "completed"
    },
    "tags": []
   },
   "outputs": [],
   "source": [
    "#hide\n",
    "# cols.insert(0, cols.pop())"
   ]
  },
  {
   "cell_type": "code",
   "execution_count": 30,
   "id": "executed-adoption",
   "metadata": {
    "execution": {
     "iopub.execute_input": "2022-08-12T00:42:46.815186Z",
     "iopub.status.busy": "2022-08-12T00:42:46.814555Z",
     "iopub.status.idle": "2022-08-12T00:42:46.816708Z",
     "shell.execute_reply": "2022-08-12T00:42:46.817182Z"
    },
    "papermill": {
     "duration": 0.037533,
     "end_time": "2022-08-12T00:42:46.817313",
     "exception": false,
     "start_time": "2022-08-12T00:42:46.779780",
     "status": "completed"
    },
    "tags": []
   },
   "outputs": [],
   "source": [
    "#hide\n",
    "# g = g[cols]"
   ]
  },
  {
   "cell_type": "code",
   "execution_count": 31,
   "id": "subject-dublin",
   "metadata": {
    "execution": {
     "iopub.execute_input": "2022-08-12T00:42:46.883531Z",
     "iopub.status.busy": "2022-08-12T00:42:46.882795Z",
     "iopub.status.idle": "2022-08-12T00:42:46.884585Z",
     "shell.execute_reply": "2022-08-12T00:42:46.885038Z"
    },
    "papermill": {
     "duration": 0.036966,
     "end_time": "2022-08-12T00:42:46.885170",
     "exception": false,
     "start_time": "2022-08-12T00:42:46.848204",
     "status": "completed"
    },
    "tags": []
   },
   "outputs": [],
   "source": [
    "#hide\n",
    "# g['continent'] = g['continent'].map(mapping['map.continent'])"
   ]
  },
  {
   "cell_type": "code",
   "execution_count": 32,
   "id": "freelance-scout",
   "metadata": {
    "execution": {
     "iopub.execute_input": "2022-08-12T00:42:46.952009Z",
     "iopub.status.busy": "2022-08-12T00:42:46.951423Z",
     "iopub.status.idle": "2022-08-12T00:42:46.953612Z",
     "shell.execute_reply": "2022-08-12T00:42:46.954172Z"
    },
    "papermill": {
     "duration": 0.037968,
     "end_time": "2022-08-12T00:42:46.954303",
     "exception": false,
     "start_time": "2022-08-12T00:42:46.916335",
     "status": "completed"
    },
    "tags": []
   },
   "outputs": [],
   "source": [
    "#hide\n",
    "# g.head()"
   ]
  },
  {
   "cell_type": "code",
   "execution_count": 33,
   "id": "limited-engine",
   "metadata": {
    "execution": {
     "iopub.execute_input": "2022-08-12T00:42:47.019846Z",
     "iopub.status.busy": "2022-08-12T00:42:47.019215Z",
     "iopub.status.idle": "2022-08-12T00:42:47.022135Z",
     "shell.execute_reply": "2022-08-12T00:42:47.021647Z"
    },
    "papermill": {
     "duration": 0.037255,
     "end_time": "2022-08-12T00:42:47.022245",
     "exception": false,
     "start_time": "2022-08-12T00:42:46.984990",
     "status": "completed"
    },
    "tags": []
   },
   "outputs": [],
   "source": [
    "# hide\n",
    "# g['date'] = g['date'].astype('datetime64[ns]')"
   ]
  },
  {
   "cell_type": "code",
   "execution_count": 34,
   "id": "sophisticated-supervisor",
   "metadata": {
    "execution": {
     "iopub.execute_input": "2022-08-12T00:42:47.088218Z",
     "iopub.status.busy": "2022-08-12T00:42:47.087639Z",
     "iopub.status.idle": "2022-08-12T00:42:47.090172Z",
     "shell.execute_reply": "2022-08-12T00:42:47.090745Z"
    },
    "papermill": {
     "duration": 0.037662,
     "end_time": "2022-08-12T00:42:47.090873",
     "exception": false,
     "start_time": "2022-08-12T00:42:47.053211",
     "status": "completed"
    },
    "tags": []
   },
   "outputs": [],
   "source": [
    "#hide\n",
    "# g['date'] = g.date.dt.dayofyear"
   ]
  },
  {
   "cell_type": "code",
   "execution_count": 35,
   "id": "inside-dubai",
   "metadata": {
    "execution": {
     "iopub.execute_input": "2022-08-12T00:42:47.156785Z",
     "iopub.status.busy": "2022-08-12T00:42:47.156201Z",
     "iopub.status.idle": "2022-08-12T00:42:47.158544Z",
     "shell.execute_reply": "2022-08-12T00:42:47.159046Z"
    },
    "papermill": {
     "duration": 0.037457,
     "end_time": "2022-08-12T00:42:47.159173",
     "exception": false,
     "start_time": "2022-08-12T00:42:47.121716",
     "status": "completed"
    },
    "tags": []
   },
   "outputs": [],
   "source": [
    "#hide\n",
    "# g = g.rename(columns= {'continent':'group','country':'name','cases':'value'})"
   ]
  },
  {
   "cell_type": "code",
   "execution_count": 36,
   "id": "fleet-motorcycle",
   "metadata": {
    "execution": {
     "iopub.execute_input": "2022-08-12T00:42:47.224447Z",
     "iopub.status.busy": "2022-08-12T00:42:47.223857Z",
     "iopub.status.idle": "2022-08-12T00:42:47.226473Z",
     "shell.execute_reply": "2022-08-12T00:42:47.225899Z"
    },
    "papermill": {
     "duration": 0.036716,
     "end_time": "2022-08-12T00:42:47.226584",
     "exception": false,
     "start_time": "2022-08-12T00:42:47.189868",
     "status": "completed"
    },
    "tags": []
   },
   "outputs": [],
   "source": [
    "#hide\n",
    "# cols = ['name','group','day','value']"
   ]
  },
  {
   "cell_type": "code",
   "execution_count": 37,
   "id": "continued-sleeping",
   "metadata": {
    "execution": {
     "iopub.execute_input": "2022-08-12T00:42:47.291967Z",
     "iopub.status.busy": "2022-08-12T00:42:47.291287Z",
     "iopub.status.idle": "2022-08-12T00:42:47.293818Z",
     "shell.execute_reply": "2022-08-12T00:42:47.293174Z"
    },
    "papermill": {
     "duration": 0.036639,
     "end_time": "2022-08-12T00:42:47.293936",
     "exception": false,
     "start_time": "2022-08-12T00:42:47.257297",
     "status": "completed"
    },
    "tags": []
   },
   "outputs": [],
   "source": [
    "#hide\n",
    "# g.rename(columns= {'date':'day'},inplace = True)"
   ]
  },
  {
   "cell_type": "code",
   "execution_count": 38,
   "id": "major-fight",
   "metadata": {
    "execution": {
     "iopub.execute_input": "2022-08-12T00:42:47.359264Z",
     "iopub.status.busy": "2022-08-12T00:42:47.358524Z",
     "iopub.status.idle": "2022-08-12T00:42:47.361137Z",
     "shell.execute_reply": "2022-08-12T00:42:47.360488Z"
    },
    "papermill": {
     "duration": 0.036574,
     "end_time": "2022-08-12T00:42:47.361260",
     "exception": false,
     "start_time": "2022-08-12T00:42:47.324686",
     "status": "completed"
    },
    "tags": []
   },
   "outputs": [],
   "source": [
    "#hide\n",
    "# g = g[cols]"
   ]
  },
  {
   "cell_type": "code",
   "execution_count": 39,
   "id": "structured-mobile",
   "metadata": {
    "execution": {
     "iopub.execute_input": "2022-08-12T00:42:47.426570Z",
     "iopub.status.busy": "2022-08-12T00:42:47.425966Z",
     "iopub.status.idle": "2022-08-12T00:42:47.428480Z",
     "shell.execute_reply": "2022-08-12T00:42:47.427911Z"
    },
    "papermill": {
     "duration": 0.036175,
     "end_time": "2022-08-12T00:42:47.428586",
     "exception": false,
     "start_time": "2022-08-12T00:42:47.392411",
     "status": "completed"
    },
    "tags": []
   },
   "outputs": [],
   "source": [
    "# #hide\n",
    "# g = g[g.group.notna()]"
   ]
  },
  {
   "cell_type": "code",
   "execution_count": 40,
   "id": "determined-closing",
   "metadata": {
    "execution": {
     "iopub.execute_input": "2022-08-12T00:42:47.493799Z",
     "iopub.status.busy": "2022-08-12T00:42:47.493103Z",
     "iopub.status.idle": "2022-08-12T00:42:47.495667Z",
     "shell.execute_reply": "2022-08-12T00:42:47.495016Z"
    },
    "papermill": {
     "duration": 0.036492,
     "end_time": "2022-08-12T00:42:47.495785",
     "exception": false,
     "start_time": "2022-08-12T00:42:47.459293",
     "status": "completed"
    },
    "tags": []
   },
   "outputs": [],
   "source": [
    "# #hide\n",
    "# colors = dict(zip(\n",
    "#     [\"Oceania\", \"Europe\", \"Asia\", \"South America\", \"Middle East\", \"North America\", \"Africa\"],\n",
    "#     [\"#adb0ff\", \"#ffb3ff\", \"#90d595\", \"#e48381\", \"#aafbff\", \"#f7bb5f\", \"#eafb50\"]\n",
    "# ))\n",
    "# group_lk = g.set_index('name')['group'].to_dict()"
   ]
  },
  {
   "cell_type": "code",
   "execution_count": null,
   "id": "gross-drinking",
   "metadata": {
    "papermill": {
     "duration": 0.03123,
     "end_time": "2022-08-12T00:42:47.559061",
     "exception": false,
     "start_time": "2022-08-12T00:42:47.527831",
     "status": "completed"
    },
    "tags": []
   },
   "outputs": [],
   "source": []
  },
  {
   "cell_type": "code",
   "execution_count": 41,
   "id": "subject-macintosh",
   "metadata": {
    "execution": {
     "iopub.execute_input": "2022-08-12T00:42:47.625462Z",
     "iopub.status.busy": "2022-08-12T00:42:47.624848Z",
     "iopub.status.idle": "2022-08-12T00:42:47.626988Z",
     "shell.execute_reply": "2022-08-12T00:42:47.627472Z"
    },
    "papermill": {
     "duration": 0.037795,
     "end_time": "2022-08-12T00:42:47.627598",
     "exception": false,
     "start_time": "2022-08-12T00:42:47.589803",
     "status": "completed"
    },
    "tags": []
   },
   "outputs": [],
   "source": [
    "# #hide\n",
    "# fig, ax = plt.subplots(figsize=(15, 8))\n",
    "\n",
    "# def draw_barchart(current_day):\n",
    "#     dff = g[g['day'].eq(current_day)].sort_values(by='value', ascending=True).tail(10)\n",
    "#     ax.clear()\n",
    "#     ax.barh(dff['name'], dff['value'], color=[colors[group_lk[x]] for x in dff['name']])\n",
    "#     dx = dff['value'].max() / 200\n",
    "    \n",
    "#     for i, (value, name) in enumerate(zip(dff['value'], dff['name'])):\n",
    "#         ax.text(value-dx, i,     name,           size=14, weight=600, ha='right', va='bottom')\n",
    "#         ax.text(value-dx, i-.25, group_lk[name], size=10, color='#444444', ha='right', va='baseline')\n",
    "#         ax.text(value+dx, i,     f'{value:,.0f}',  size=14, ha='left',  va='center')\n",
    "#     ax.text(1, 0.4, current_day, transform=ax.transAxes, color='#777777', size=46, ha='right', weight=800)\n",
    "#     ax.text(0, 1.06, 'Population (thousands)', transform=ax.transAxes, size=12, color='#777777')\n",
    "#     ax.xaxis.set_major_formatter(ticker.StrMethodFormatter('{x:,.0f}'))\n",
    "#     ax.xaxis.set_ticks_position('top')\n",
    "#     ax.tick_params(axis='x', colors='#777777', labelsize=12)\n",
    "#     ax.set_yticks([])\n",
    "#     ax.margins(0, 0.01)\n",
    "#     ax.grid(which='major', axis='x', linestyle='-')\n",
    "#     ax.set_axisbelow(True)\n",
    "    \n",
    "#     ax.text(0, 1.15, 'Coronavirus',\n",
    "#             transform=ax.transAxes, size=24, weight=600, ha='left', va='top')\n",
    "# #     ax.text(1, 0, 'by @pratapvardhan; credit @jburnmurdoch', transform=ax.transAxes, color='#777777', ha='right',\n",
    "# #             bbox=dict(facecolor='white', alpha=0.8, edgecolor='white'))\n",
    "#     plt.box(False)"
   ]
  },
  {
   "cell_type": "code",
   "execution_count": 42,
   "id": "sexual-wages",
   "metadata": {
    "execution": {
     "iopub.execute_input": "2022-08-12T00:42:47.692627Z",
     "iopub.status.busy": "2022-08-12T00:42:47.691955Z",
     "iopub.status.idle": "2022-08-12T00:42:47.694786Z",
     "shell.execute_reply": "2022-08-12T00:42:47.694117Z"
    },
    "papermill": {
     "duration": 0.036755,
     "end_time": "2022-08-12T00:42:47.694909",
     "exception": false,
     "start_time": "2022-08-12T00:42:47.658154",
     "status": "completed"
    },
    "tags": []
   },
   "outputs": [],
   "source": [
    "# #hide_input\n",
    "# fig, ax = plt.subplots(figsize=(15, 8))\n",
    "# animator = animation.FuncAnimation(fig, draw_barchart, frames=range(g.day.values.min(), g.day.values.max()))\n",
    "# HTML(animator.to_jshtml())\n",
    "# # or use animator.to_html5_video() or animator.save() "
   ]
  },
  {
   "cell_type": "code",
   "execution_count": null,
   "id": "australian-container",
   "metadata": {
    "papermill": {
     "duration": 0.030609,
     "end_time": "2022-08-12T00:42:47.756964",
     "exception": false,
     "start_time": "2022-08-12T00:42:47.726355",
     "status": "completed"
    },
    "tags": []
   },
   "outputs": [],
   "source": []
  },
  {
   "cell_type": "code",
   "execution_count": null,
   "id": "mediterranean-pontiac",
   "metadata": {
    "papermill": {
     "duration": 0.030424,
     "end_time": "2022-08-12T00:42:47.817874",
     "exception": false,
     "start_time": "2022-08-12T00:42:47.787450",
     "status": "completed"
    },
    "tags": []
   },
   "outputs": [],
   "source": []
  },
  {
   "cell_type": "code",
   "execution_count": null,
   "id": "aging-legislature",
   "metadata": {
    "papermill": {
     "duration": 0.030369,
     "end_time": "2022-08-12T00:42:47.878971",
     "exception": false,
     "start_time": "2022-08-12T00:42:47.848602",
     "status": "completed"
    },
    "tags": []
   },
   "outputs": [],
   "source": []
  }
 ],
 "metadata": {
  "kernelspec": {
   "display_name": "Python 3",
   "language": "python",
   "name": "python3"
  },
  "language_info": {
   "codemirror_mode": {
    "name": "ipython",
    "version": 3
   },
   "file_extension": ".py",
   "mimetype": "text/x-python",
   "name": "python",
   "nbconvert_exporter": "python",
   "pygments_lexer": "ipython3",
   "version": "3.6.15"
  },
  "papermill": {
   "duration": 5.993699,
   "end_time": "2022-08-12T00:42:48.227850",
   "environment_variables": {},
   "exception": null,
   "input_path": "2020-03-21-covid19exp.ipynb",
   "output_path": "2020-03-21-covid19exp.ipynb",
   "parameters": {},
   "start_time": "2022-08-12T00:42:42.234151",
   "version": "2.0.0"
  }
 },
 "nbformat": 4,
 "nbformat_minor": 5
}