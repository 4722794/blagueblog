{
 "cells": [
  {
   "cell_type": "markdown",
   "id": "muslim-click",
   "metadata": {
    "papermill": {
     "duration": 0.039136,
     "end_time": "2021-01-24T00:39:42.175595",
     "exception": false,
     "start_time": "2021-01-24T00:39:42.136459",
     "status": "completed"
    },
    "tags": []
   },
   "source": [
    "# COVID-19 Case Race\n",
    "> A race chart to see rising cases around the world\n",
    "\n",
    "- author: Hargun Oberoi\n",
    "- image: images/covid-overview.png\n",
    "- hide: false\n",
    "- badges: false"
   ]
  },
  {
   "cell_type": "code",
   "execution_count": 1,
   "id": "proof-material",
   "metadata": {
    "execution": {
     "iopub.execute_input": "2021-01-24T00:39:42.251840Z",
     "iopub.status.busy": "2021-01-24T00:39:42.251284Z",
     "iopub.status.idle": "2021-01-24T00:39:42.592569Z",
     "shell.execute_reply": "2021-01-24T00:39:42.592042Z"
    },
    "papermill": {
     "duration": 0.385059,
     "end_time": "2021-01-24T00:39:42.592723",
     "exception": false,
     "start_time": "2021-01-24T00:39:42.207664",
     "status": "completed"
    },
    "tags": []
   },
   "outputs": [],
   "source": [
    "#hide\n",
    "import numpy as np\n",
    "import pandas as pd\n",
    "from jinja2 import Template\n",
    "from IPython.display import HTML"
   ]
  },
  {
   "cell_type": "code",
   "execution_count": 2,
   "id": "developed-terminology",
   "metadata": {
    "execution": {
     "iopub.execute_input": "2021-01-24T00:39:42.664022Z",
     "iopub.status.busy": "2021-01-24T00:39:42.663387Z",
     "iopub.status.idle": "2021-01-24T00:39:42.665674Z",
     "shell.execute_reply": "2021-01-24T00:39:42.665149Z"
    },
    "papermill": {
     "duration": 0.040455,
     "end_time": "2021-01-24T00:39:42.665800",
     "exception": false,
     "start_time": "2021-01-24T00:39:42.625345",
     "status": "completed"
    },
    "tags": []
   },
   "outputs": [],
   "source": [
    "#hide\n",
    "\n",
    "# FETCH\n",
    "base_url = 'https://raw.githubusercontent.com/pratapvardhan/notebooks/master/covid19/'\n",
    "paths = {\n",
    "    'mapping': base_url + 'mapping_countries.csv',\n",
    "    'overview': base_url + 'overview.tpl'\n",
    "}"
   ]
  },
  {
   "cell_type": "code",
   "execution_count": 3,
   "id": "dynamic-saver",
   "metadata": {
    "execution": {
     "iopub.execute_input": "2021-01-24T00:39:42.734334Z",
     "iopub.status.busy": "2021-01-24T00:39:42.733742Z",
     "iopub.status.idle": "2021-01-24T00:39:42.745358Z",
     "shell.execute_reply": "2021-01-24T00:39:42.744887Z"
    },
    "papermill": {
     "duration": 0.047645,
     "end_time": "2021-01-24T00:39:42.745485",
     "exception": false,
     "start_time": "2021-01-24T00:39:42.697840",
     "status": "completed"
    },
    "tags": []
   },
   "outputs": [
    {
     "data": {
      "text/plain": [
       "'https://raw.githubusercontent.com/pratapvardhan/notebooks/master/covid19/mapping_countries.csv'"
      ]
     },
     "execution_count": 3,
     "metadata": {},
     "output_type": "execute_result"
    }
   ],
   "source": [
    "#hide\n",
    "paths['mapping']"
   ]
  },
  {
   "cell_type": "code",
   "execution_count": 4,
   "id": "urban-software",
   "metadata": {
    "execution": {
     "iopub.execute_input": "2021-01-24T00:39:42.816728Z",
     "iopub.status.busy": "2021-01-24T00:39:42.816132Z",
     "iopub.status.idle": "2021-01-24T00:39:42.818248Z",
     "shell.execute_reply": "2021-01-24T00:39:42.818791Z"
    },
    "papermill": {
     "duration": 0.041142,
     "end_time": "2021-01-24T00:39:42.818943",
     "exception": false,
     "start_time": "2021-01-24T00:39:42.777801",
     "status": "completed"
    },
    "tags": []
   },
   "outputs": [],
   "source": [
    "#hide\n",
    "def get_mappings(url):\n",
    "    df = pd.read_csv(url)\n",
    "    return {\n",
    "        'df': df,\n",
    "        'replace.country': dict(df.dropna(subset=['Name']).set_index('Country')['Name']),\n",
    "        'map.continent': dict(df.set_index('Name')['Continent'])\n",
    "    }"
   ]
  },
  {
   "cell_type": "code",
   "execution_count": 5,
   "id": "intimate-machinery",
   "metadata": {
    "execution": {
     "iopub.execute_input": "2021-01-24T00:39:42.890584Z",
     "iopub.status.busy": "2021-01-24T00:39:42.889992Z",
     "iopub.status.idle": "2021-01-24T00:39:42.919150Z",
     "shell.execute_reply": "2021-01-24T00:39:42.918266Z"
    },
    "papermill": {
     "duration": 0.068647,
     "end_time": "2021-01-24T00:39:42.919363",
     "exception": false,
     "start_time": "2021-01-24T00:39:42.850716",
     "status": "completed"
    },
    "tags": []
   },
   "outputs": [],
   "source": [
    "#hide\n",
    "mapping = get_mappings(paths['mapping'])"
   ]
  },
  {
   "cell_type": "code",
   "execution_count": 6,
   "id": "certified-tactics",
   "metadata": {
    "execution": {
     "iopub.execute_input": "2021-01-24T00:39:42.995121Z",
     "iopub.status.busy": "2021-01-24T00:39:42.994533Z",
     "iopub.status.idle": "2021-01-24T00:39:42.997193Z",
     "shell.execute_reply": "2021-01-24T00:39:42.997704Z"
    },
    "papermill": {
     "duration": 0.04284,
     "end_time": "2021-01-24T00:39:42.997853",
     "exception": false,
     "start_time": "2021-01-24T00:39:42.955013",
     "status": "completed"
    },
    "tags": []
   },
   "outputs": [],
   "source": [
    "#hide\n",
    "def get_template(path):\n",
    "    from urllib.parse import urlparse\n",
    "    if bool(urlparse(path).netloc):\n",
    "        from urllib.request import urlopen\n",
    "        return urlopen(path).read().decode('utf8')\n",
    "    return open(path).read()"
   ]
  },
  {
   "cell_type": "code",
   "execution_count": 7,
   "id": "realistic-blast",
   "metadata": {
    "execution": {
     "iopub.execute_input": "2021-01-24T00:39:43.069871Z",
     "iopub.status.busy": "2021-01-24T00:39:43.069272Z",
     "iopub.status.idle": "2021-01-24T00:39:43.070935Z",
     "shell.execute_reply": "2021-01-24T00:39:43.071402Z"
    },
    "papermill": {
     "duration": 0.040782,
     "end_time": "2021-01-24T00:39:43.071549",
     "exception": false,
     "start_time": "2021-01-24T00:39:43.030767",
     "status": "completed"
    },
    "tags": []
   },
   "outputs": [],
   "source": [
    "#hide\n",
    "def get_frame(name):\n",
    "    url = (\n",
    "        'https://raw.githubusercontent.com/CSSEGISandData/COVID-19/master/csse_covid_19_data/'\n",
    "        f'csse_covid_19_time_series/time_series_covid19_{name}_global.csv')\n",
    "    df = pd.read_csv(url)\n",
    "    # rename countries\n",
    "    df['Country/Region'] = df['Country/Region'].replace(mapping['replace.country'])\n",
    "    return df"
   ]
  },
  {
   "cell_type": "code",
   "execution_count": 8,
   "id": "affiliated-characterization",
   "metadata": {
    "execution": {
     "iopub.execute_input": "2021-01-24T00:39:43.142863Z",
     "iopub.status.busy": "2021-01-24T00:39:43.142273Z",
     "iopub.status.idle": "2021-01-24T00:39:43.143992Z",
     "shell.execute_reply": "2021-01-24T00:39:43.144431Z"
    },
    "papermill": {
     "duration": 0.04057,
     "end_time": "2021-01-24T00:39:43.144579",
     "exception": false,
     "start_time": "2021-01-24T00:39:43.104009",
     "status": "completed"
    },
    "tags": []
   },
   "outputs": [],
   "source": [
    "#hide\n",
    "def get_dates(df):\n",
    "    dt_cols = df.columns[~df.columns.isin(['Province/State', 'Country/Region', 'Lat', 'Long'])]\n",
    "    LAST_DATE_I = -1\n",
    "    # sometimes last column may be empty, then go backwards\n",
    "    for i in range(-1, -len(dt_cols), -1):\n",
    "        if not df[dt_cols[i]].fillna(0).eq(0).all():\n",
    "            LAST_DATE_I = i\n",
    "            break\n",
    "    return LAST_DATE_I, dt_cols"
   ]
  },
  {
   "cell_type": "code",
   "execution_count": 9,
   "id": "recent-optimization",
   "metadata": {
    "execution": {
     "iopub.execute_input": "2021-01-24T00:39:43.214954Z",
     "iopub.status.busy": "2021-01-24T00:39:43.213927Z",
     "iopub.status.idle": "2021-01-24T00:39:43.443969Z",
     "shell.execute_reply": "2021-01-24T00:39:43.443339Z"
    },
    "papermill": {
     "duration": 0.267968,
     "end_time": "2021-01-24T00:39:43.444138",
     "exception": false,
     "start_time": "2021-01-24T00:39:43.176170",
     "status": "completed"
    },
    "tags": []
   },
   "outputs": [],
   "source": [
    "#hide\n",
    "COL_REGION = 'Country/Region'\n",
    "# Confirmed, Recovered, Deaths\n",
    "df = get_frame('confirmed')\n",
    "# dft_: timeseries, dfc_: today country agg\n",
    "dft_cases = df\n",
    "dft_deaths = get_frame('deaths')\n",
    "dft_recovered = get_frame('recovered')\n",
    "LAST_DATE_I, dt_cols = get_dates(df)"
   ]
  },
  {
   "cell_type": "code",
   "execution_count": 10,
   "id": "absolute-copper",
   "metadata": {
    "execution": {
     "iopub.execute_input": "2021-01-24T00:39:43.517099Z",
     "iopub.status.busy": "2021-01-24T00:39:43.516496Z",
     "iopub.status.idle": "2021-01-24T00:39:43.518166Z",
     "shell.execute_reply": "2021-01-24T00:39:43.518727Z"
    },
    "papermill": {
     "duration": 0.040088,
     "end_time": "2021-01-24T00:39:43.518873",
     "exception": false,
     "start_time": "2021-01-24T00:39:43.478785",
     "status": "completed"
    },
    "tags": []
   },
   "outputs": [],
   "source": [
    "#hide\n",
    "LAST_DATE_I, dt_cols = get_dates(df)\n",
    "dt_today =dt_cols[LAST_DATE_I]\n",
    "# dt_5day = dt_cols[LAST_DATE_I - 5]\n",
    "dt_yday = dt_cols[LAST_DATE_I - 1]"
   ]
  },
  {
   "cell_type": "code",
   "execution_count": 11,
   "id": "restricted-sheriff",
   "metadata": {
    "execution": {
     "iopub.execute_input": "2021-01-24T00:39:43.591405Z",
     "iopub.status.busy": "2021-01-24T00:39:43.590820Z",
     "iopub.status.idle": "2021-01-24T00:39:43.600153Z",
     "shell.execute_reply": "2021-01-24T00:39:43.600654Z"
    },
    "papermill": {
     "duration": 0.049483,
     "end_time": "2021-01-24T00:39:43.600805",
     "exception": false,
     "start_time": "2021-01-24T00:39:43.551322",
     "status": "completed"
    },
    "tags": []
   },
   "outputs": [],
   "source": [
    "#hide\n",
    "dfc_cases = dft_cases.groupby(COL_REGION)[dt_today].sum()\n",
    "dfc_deaths = dft_deaths.groupby(COL_REGION)[dt_today].sum()\n",
    "# dfp_cases = dft_cases.groupby(COL_REGION)[dt_5day].sum()\n",
    "# dfp_deaths = dft_deaths.groupby(COL_REGION)[dt_5day].sum()\n",
    "dfp_cases = dft_cases.groupby(COL_REGION)[dt_yday].sum()\n",
    "dfp_deaths = dft_deaths.groupby(COL_REGION)[dt_yday].sum()"
   ]
  },
  {
   "cell_type": "code",
   "execution_count": 12,
   "id": "deluxe-hepatitis",
   "metadata": {
    "execution": {
     "iopub.execute_input": "2021-01-24T00:39:43.675373Z",
     "iopub.status.busy": "2021-01-24T00:39:43.674789Z",
     "iopub.status.idle": "2021-01-24T00:39:43.680022Z",
     "shell.execute_reply": "2021-01-24T00:39:43.679525Z"
    },
    "papermill": {
     "duration": 0.046364,
     "end_time": "2021-01-24T00:39:43.680142",
     "exception": false,
     "start_time": "2021-01-24T00:39:43.633778",
     "status": "completed"
    },
    "tags": []
   },
   "outputs": [],
   "source": [
    "#hide\n",
    "df_table = (pd.DataFrame(dict(Cases = dfc_cases, Deaths = dfc_deaths, PCases = dfp_cases, PDeaths = dfp_deaths))\n",
    "            .sort_values(by = ['Cases','Deaths'], ascending = [False, False])\n",
    "            .reset_index())"
   ]
  },
  {
   "cell_type": "code",
   "execution_count": 13,
   "id": "educational-chancellor",
   "metadata": {
    "execution": {
     "iopub.execute_input": "2021-01-24T00:39:43.763134Z",
     "iopub.status.busy": "2021-01-24T00:39:43.758446Z",
     "iopub.status.idle": "2021-01-24T00:39:43.771605Z",
     "shell.execute_reply": "2021-01-24T00:39:43.771101Z"
    },
    "papermill": {
     "duration": 0.05938,
     "end_time": "2021-01-24T00:39:43.771733",
     "exception": false,
     "start_time": "2021-01-24T00:39:43.712353",
     "status": "completed"
    },
    "tags": []
   },
   "outputs": [
    {
     "data": {
      "text/html": [
       "<div>\n",
       "<style scoped>\n",
       "    .dataframe tbody tr th:only-of-type {\n",
       "        vertical-align: middle;\n",
       "    }\n",
       "\n",
       "    .dataframe tbody tr th {\n",
       "        vertical-align: top;\n",
       "    }\n",
       "\n",
       "    .dataframe thead th {\n",
       "        text-align: right;\n",
       "    }\n",
       "</style>\n",
       "<table border=\"1\" class=\"dataframe\">\n",
       "  <thead>\n",
       "    <tr style=\"text-align: right;\">\n",
       "      <th></th>\n",
       "      <th>Country/Region</th>\n",
       "      <th>Cases</th>\n",
       "      <th>Deaths</th>\n",
       "      <th>PCases</th>\n",
       "      <th>PDeaths</th>\n",
       "      <th>Cases (+)</th>\n",
       "      <th>Deaths (+)</th>\n",
       "      <th>Fatality Rate</th>\n",
       "      <th>Continent</th>\n",
       "    </tr>\n",
       "  </thead>\n",
       "  <tbody>\n",
       "    <tr>\n",
       "      <th>0</th>\n",
       "      <td>US</td>\n",
       "      <td>24821813</td>\n",
       "      <td>414107</td>\n",
       "      <td>24631888</td>\n",
       "      <td>410349</td>\n",
       "      <td>189925</td>\n",
       "      <td>3758</td>\n",
       "      <td>1.67</td>\n",
       "      <td>North America</td>\n",
       "    </tr>\n",
       "    <tr>\n",
       "      <th>1</th>\n",
       "      <td>India</td>\n",
       "      <td>10639684</td>\n",
       "      <td>153184</td>\n",
       "      <td>10625428</td>\n",
       "      <td>153032</td>\n",
       "      <td>14256</td>\n",
       "      <td>152</td>\n",
       "      <td>1.44</td>\n",
       "      <td>Asia</td>\n",
       "    </tr>\n",
       "    <tr>\n",
       "      <th>2</th>\n",
       "      <td>Brazil</td>\n",
       "      <td>8753920</td>\n",
       "      <td>215243</td>\n",
       "      <td>8697368</td>\n",
       "      <td>214147</td>\n",
       "      <td>56552</td>\n",
       "      <td>1096</td>\n",
       "      <td>2.46</td>\n",
       "      <td>South America</td>\n",
       "    </tr>\n",
       "    <tr>\n",
       "      <th>3</th>\n",
       "      <td>Russia</td>\n",
       "      <td>3637862</td>\n",
       "      <td>67376</td>\n",
       "      <td>3616680</td>\n",
       "      <td>66810</td>\n",
       "      <td>21182</td>\n",
       "      <td>566</td>\n",
       "      <td>1.85</td>\n",
       "      <td>Europe</td>\n",
       "    </tr>\n",
       "    <tr>\n",
       "      <th>4</th>\n",
       "      <td>United Kingdom</td>\n",
       "      <td>3594094</td>\n",
       "      <td>96166</td>\n",
       "      <td>3553773</td>\n",
       "      <td>94765</td>\n",
       "      <td>40321</td>\n",
       "      <td>1401</td>\n",
       "      <td>2.68</td>\n",
       "      <td>Europe</td>\n",
       "    </tr>\n",
       "  </tbody>\n",
       "</table>\n",
       "</div>"
      ],
      "text/plain": [
       "   Country/Region     Cases  Deaths    PCases  PDeaths  Cases (+)  Deaths (+)  \\\n",
       "0              US  24821813  414107  24631888   410349     189925        3758   \n",
       "1           India  10639684  153184  10625428   153032      14256         152   \n",
       "2          Brazil   8753920  215243   8697368   214147      56552        1096   \n",
       "3          Russia   3637862   67376   3616680    66810      21182         566   \n",
       "4  United Kingdom   3594094   96166   3553773    94765      40321        1401   \n",
       "\n",
       "   Fatality Rate      Continent  \n",
       "0           1.67  North America  \n",
       "1           1.44           Asia  \n",
       "2           2.46  South America  \n",
       "3           1.85         Europe  \n",
       "4           2.68         Europe  "
      ]
     },
     "execution_count": 13,
     "metadata": {},
     "output_type": "execute_result"
    }
   ],
   "source": [
    "#hide\n",
    "for c in 'Cases, Deaths'.split(', '):\n",
    "    df_table[f'{c} (+)'] = (df_table[c] - df_table[f'P{c}']).clip(0)\n",
    "    #Clip ça veut dire, les chiffres negatif sont interdit\n",
    "df_table['Fatality Rate'] = (100* df_table['Deaths']/ df_table['Cases']).round(2)\n",
    "df_table['Continent'] = df_table['Country/Region'].map(mapping['map.continent'])\n",
    "df_table.head(5)"
   ]
  },
  {
   "cell_type": "code",
   "execution_count": 14,
   "id": "aboriginal-bulgaria",
   "metadata": {
    "execution": {
     "iopub.execute_input": "2021-01-24T00:39:43.842898Z",
     "iopub.status.busy": "2021-01-24T00:39:43.842226Z",
     "iopub.status.idle": "2021-01-24T00:39:43.843829Z",
     "shell.execute_reply": "2021-01-24T00:39:43.844325Z"
    },
    "papermill": {
     "duration": 0.040516,
     "end_time": "2021-01-24T00:39:43.844486",
     "exception": false,
     "start_time": "2021-01-24T00:39:43.803970",
     "status": "completed"
    },
    "tags": []
   },
   "outputs": [],
   "source": [
    "#hide\n",
    "#delete problematic countries from table\n",
    "df_table = df_table[~df_table['Country/Region'].isin(['Cape Verde', 'Cruise Ship', 'Kosovo'])]"
   ]
  },
  {
   "cell_type": "code",
   "execution_count": 15,
   "id": "fantastic-effect",
   "metadata": {
    "execution": {
     "iopub.execute_input": "2021-01-24T00:39:43.922413Z",
     "iopub.status.busy": "2021-01-24T00:39:43.919941Z",
     "iopub.status.idle": "2021-01-24T00:39:43.941044Z",
     "shell.execute_reply": "2021-01-24T00:39:43.940540Z"
    },
    "papermill": {
     "duration": 0.062934,
     "end_time": "2021-01-24T00:39:43.941199",
     "exception": false,
     "start_time": "2021-01-24T00:39:43.878265",
     "status": "completed"
    },
    "tags": []
   },
   "outputs": [
    {
     "data": {
      "text/html": [
       "<div>\n",
       "<style scoped>\n",
       "    .dataframe tbody tr th:only-of-type {\n",
       "        vertical-align: middle;\n",
       "    }\n",
       "\n",
       "    .dataframe tbody tr th {\n",
       "        vertical-align: top;\n",
       "    }\n",
       "\n",
       "    .dataframe thead th {\n",
       "        text-align: right;\n",
       "    }\n",
       "</style>\n",
       "<table border=\"1\" class=\"dataframe\">\n",
       "  <thead>\n",
       "    <tr style=\"text-align: right;\">\n",
       "      <th></th>\n",
       "      <th>Country/Region</th>\n",
       "      <th>Cases</th>\n",
       "      <th>Deaths</th>\n",
       "      <th>PCases</th>\n",
       "      <th>PDeaths</th>\n",
       "      <th>Cases (+)</th>\n",
       "      <th>Deaths (+)</th>\n",
       "      <th>Fatality Rate</th>\n",
       "      <th>Continent</th>\n",
       "    </tr>\n",
       "  </thead>\n",
       "  <tbody>\n",
       "    <tr>\n",
       "      <th>0</th>\n",
       "      <td>US</td>\n",
       "      <td>24821813</td>\n",
       "      <td>414107</td>\n",
       "      <td>24631888</td>\n",
       "      <td>410349</td>\n",
       "      <td>189925</td>\n",
       "      <td>3758</td>\n",
       "      <td>1.7</td>\n",
       "      <td>North America</td>\n",
       "    </tr>\n",
       "    <tr>\n",
       "      <th>1</th>\n",
       "      <td>India</td>\n",
       "      <td>10639684</td>\n",
       "      <td>153184</td>\n",
       "      <td>10625428</td>\n",
       "      <td>153032</td>\n",
       "      <td>14256</td>\n",
       "      <td>152</td>\n",
       "      <td>1.4</td>\n",
       "      <td>Asia</td>\n",
       "    </tr>\n",
       "    <tr>\n",
       "      <th>2</th>\n",
       "      <td>Brazil</td>\n",
       "      <td>8753920</td>\n",
       "      <td>215243</td>\n",
       "      <td>8697368</td>\n",
       "      <td>214147</td>\n",
       "      <td>56552</td>\n",
       "      <td>1096</td>\n",
       "      <td>2.5</td>\n",
       "      <td>South America</td>\n",
       "    </tr>\n",
       "    <tr>\n",
       "      <th>3</th>\n",
       "      <td>Russia</td>\n",
       "      <td>3637862</td>\n",
       "      <td>67376</td>\n",
       "      <td>3616680</td>\n",
       "      <td>66810</td>\n",
       "      <td>21182</td>\n",
       "      <td>566</td>\n",
       "      <td>1.9</td>\n",
       "      <td>Europe</td>\n",
       "    </tr>\n",
       "    <tr>\n",
       "      <th>4</th>\n",
       "      <td>United Kingdom</td>\n",
       "      <td>3594094</td>\n",
       "      <td>96166</td>\n",
       "      <td>3553773</td>\n",
       "      <td>94765</td>\n",
       "      <td>40321</td>\n",
       "      <td>1401</td>\n",
       "      <td>2.7</td>\n",
       "      <td>Europe</td>\n",
       "    </tr>\n",
       "  </tbody>\n",
       "</table>\n",
       "</div>"
      ],
      "text/plain": [
       "   Country/Region     Cases  Deaths    PCases  PDeaths  Cases (+)  Deaths (+)  \\\n",
       "0              US  24821813  414107  24631888   410349     189925        3758   \n",
       "1           India  10639684  153184  10625428   153032      14256         152   \n",
       "2          Brazil   8753920  215243   8697368   214147      56552        1096   \n",
       "3          Russia   3637862   67376   3616680    66810      21182         566   \n",
       "4  United Kingdom   3594094   96166   3553773    94765      40321        1401   \n",
       "\n",
       "   Fatality Rate      Continent  \n",
       "0            1.7  North America  \n",
       "1            1.4           Asia  \n",
       "2            2.5  South America  \n",
       "3            1.9         Europe  \n",
       "4            2.7         Europe  "
      ]
     },
     "execution_count": 15,
     "metadata": {},
     "output_type": "execute_result"
    }
   ],
   "source": [
    "#hide\n",
    "df_table = (pd.DataFrame(dict(Cases=dfc_cases, Deaths=dfc_deaths, PCases=dfp_cases, PDeaths=dfp_deaths))\n",
    "             .sort_values(by=['Cases', 'Deaths'], ascending=[False, False])\n",
    "             .reset_index())\n",
    "df_table.rename(columns={'index': 'Country/Region'}, inplace=True)\n",
    "for c in 'Cases, Deaths'.split(', '):\n",
    "    df_table[f'{c} (+)'] = (df_table[c] - df_table[f'P{c}']).clip(0)  # DATA BUG\n",
    "df_table['Fatality Rate'] = (100 * df_table['Deaths'] / df_table['Cases']).round(1)\n",
    "df_table['Continent'] = df_table['Country/Region'].map(mapping['map.continent'])\n",
    "df_table.head(5)"
   ]
  },
  {
   "cell_type": "code",
   "execution_count": 16,
   "id": "fewer-occasion",
   "metadata": {
    "execution": {
     "iopub.execute_input": "2021-01-24T00:39:44.017970Z",
     "iopub.status.busy": "2021-01-24T00:39:44.017368Z",
     "iopub.status.idle": "2021-01-24T00:39:44.020773Z",
     "shell.execute_reply": "2021-01-24T00:39:44.020293Z"
    },
    "papermill": {
     "duration": 0.045427,
     "end_time": "2021-01-24T00:39:44.020907",
     "exception": false,
     "start_time": "2021-01-24T00:39:43.975480",
     "status": "completed"
    },
    "tags": []
   },
   "outputs": [],
   "source": [
    "#hide\n",
    "#delete problematic countries from table\n",
    "df_table = df_table[~df_table['Country/Region'].isin(['Cape Verde', 'Cruise Ship', 'Kosovo'])]"
   ]
  },
  {
   "cell_type": "code",
   "execution_count": 17,
   "id": "related-center",
   "metadata": {
    "execution": {
     "iopub.execute_input": "2021-01-24T00:39:44.108421Z",
     "iopub.status.busy": "2021-01-24T00:39:44.107813Z",
     "iopub.status.idle": "2021-01-24T00:39:44.110215Z",
     "shell.execute_reply": "2021-01-24T00:39:44.110939Z"
    },
    "papermill": {
     "duration": 0.05625,
     "end_time": "2021-01-24T00:39:44.111096",
     "exception": false,
     "start_time": "2021-01-24T00:39:44.054846",
     "status": "completed"
    },
    "tags": []
   },
   "outputs": [],
   "source": [
    "#hide\n",
    "metrics = [df_table.columns[index] for index in [1,2,5,6]]\n",
    "# s_china = df_table[df_table['Country/Region'].eq('China')][metrics].sum().add_prefix('China ')\n",
    "s_us = df_table[df_table['Country/Region'].eq('US')][metrics].sum().add_prefix('US ')\n",
    "s_eu = df_table[df_table['Continent'].eq('Europe')][metrics].sum().add_prefix('EU ')\n",
    "s_ind = df_table[df_table['Country/Region'].eq('India')][metrics].sum().add_prefix('India ')\n",
    "summary = {'updated': pd.to_datetime(dt_today), 'since': pd.to_datetime(dt_yday)}\n",
    "summary = {'updated': pd.to_datetime(dt_today), 'since': pd.to_datetime(dt_yday)}\n",
    "summary = {**summary, **df_table[metrics].sum(), **s_ind, **s_us, **s_eu}"
   ]
  },
  {
   "cell_type": "code",
   "execution_count": 18,
   "id": "engaging-syndrome",
   "metadata": {
    "execution": {
     "iopub.execute_input": "2021-01-24T00:39:44.185625Z",
     "iopub.status.busy": "2021-01-24T00:39:44.185039Z",
     "iopub.status.idle": "2021-01-24T00:39:44.196612Z",
     "shell.execute_reply": "2021-01-24T00:39:44.196104Z"
    },
    "papermill": {
     "duration": 0.051977,
     "end_time": "2021-01-24T00:39:44.196742",
     "exception": false,
     "start_time": "2021-01-24T00:39:44.144765",
     "status": "completed"
    },
    "tags": []
   },
   "outputs": [],
   "source": [
    "#hide\n",
    "dft_ct_new_cases = dft_cases.groupby(COL_REGION)[dt_cols].sum().diff(axis=1).fillna(0).astype(int)"
   ]
  },
  {
   "cell_type": "code",
   "execution_count": 19,
   "id": "neutral-assignment",
   "metadata": {
    "execution": {
     "iopub.execute_input": "2021-01-24T00:39:44.272143Z",
     "iopub.status.busy": "2021-01-24T00:39:44.271548Z",
     "iopub.status.idle": "2021-01-24T00:39:44.274467Z",
     "shell.execute_reply": "2021-01-24T00:39:44.273994Z"
    },
    "papermill": {
     "duration": 0.044255,
     "end_time": "2021-01-24T00:39:44.274598",
     "exception": false,
     "start_time": "2021-01-24T00:39:44.230343",
     "status": "completed"
    },
    "tags": []
   },
   "outputs": [],
   "source": [
    "#hide\n",
    "everydaycases = dft_ct_new_cases.cumsum(axis=1)"
   ]
  },
  {
   "cell_type": "code",
   "execution_count": 20,
   "id": "parliamentary-calgary",
   "metadata": {
    "execution": {
     "iopub.execute_input": "2021-01-24T00:39:44.347970Z",
     "iopub.status.busy": "2021-01-24T00:39:44.347360Z",
     "iopub.status.idle": "2021-01-24T00:39:45.294084Z",
     "shell.execute_reply": "2021-01-24T00:39:45.293197Z"
    },
    "papermill": {
     "duration": 0.985403,
     "end_time": "2021-01-24T00:39:45.294313",
     "exception": false,
     "start_time": "2021-01-24T00:39:44.308910",
     "status": "completed"
    },
    "tags": []
   },
   "outputs": [],
   "source": [
    "#hide\n",
    "import pandas as pd\n",
    "import matplotlib.pyplot as plt\n",
    "import matplotlib.ticker as ticker\n",
    "import matplotlib.animation as animation\n",
    "from IPython.display import HTML"
   ]
  },
  {
   "cell_type": "code",
   "execution_count": 21,
   "id": "lasting-extraction",
   "metadata": {
    "execution": {
     "iopub.execute_input": "2021-01-24T00:39:45.364888Z",
     "iopub.status.busy": "2021-01-24T00:39:45.364299Z",
     "iopub.status.idle": "2021-01-24T00:39:45.369940Z",
     "shell.execute_reply": "2021-01-24T00:39:45.369462Z"
    },
    "papermill": {
     "duration": 0.042035,
     "end_time": "2021-01-24T00:39:45.370058",
     "exception": false,
     "start_time": "2021-01-24T00:39:45.328023",
     "status": "completed"
    },
    "tags": []
   },
   "outputs": [],
   "source": [
    "#hide\n",
    "t = everydaycases.stack()"
   ]
  },
  {
   "cell_type": "code",
   "execution_count": 22,
   "id": "premier-sleeve",
   "metadata": {
    "execution": {
     "iopub.execute_input": "2021-01-24T00:39:45.439457Z",
     "iopub.status.busy": "2021-01-24T00:39:45.438814Z",
     "iopub.status.idle": "2021-01-24T00:39:45.446569Z",
     "shell.execute_reply": "2021-01-24T00:39:45.447107Z"
    },
    "papermill": {
     "duration": 0.045108,
     "end_time": "2021-01-24T00:39:45.447244",
     "exception": false,
     "start_time": "2021-01-24T00:39:45.402136",
     "status": "completed"
    },
    "tags": []
   },
   "outputs": [],
   "source": [
    "#hide\n",
    "g = t.reset_index(['Country/Region'])"
   ]
  },
  {
   "cell_type": "code",
   "execution_count": 23,
   "id": "distributed-pittsburgh",
   "metadata": {
    "execution": {
     "iopub.execute_input": "2021-01-24T00:39:45.513482Z",
     "iopub.status.busy": "2021-01-24T00:39:45.512877Z",
     "iopub.status.idle": "2021-01-24T00:39:45.515144Z",
     "shell.execute_reply": "2021-01-24T00:39:45.515662Z"
    },
    "papermill": {
     "duration": 0.036623,
     "end_time": "2021-01-24T00:39:45.515787",
     "exception": false,
     "start_time": "2021-01-24T00:39:45.479164",
     "status": "completed"
    },
    "tags": []
   },
   "outputs": [],
   "source": [
    "#hide\n",
    "g.index.name = 'date'"
   ]
  },
  {
   "cell_type": "code",
   "execution_count": 24,
   "id": "naked-donor",
   "metadata": {
    "execution": {
     "iopub.execute_input": "2021-01-24T00:39:45.583692Z",
     "iopub.status.busy": "2021-01-24T00:39:45.583106Z",
     "iopub.status.idle": "2021-01-24T00:39:45.584288Z",
     "shell.execute_reply": "2021-01-24T00:39:45.584763Z"
    },
    "papermill": {
     "duration": 0.037754,
     "end_time": "2021-01-24T00:39:45.584883",
     "exception": false,
     "start_time": "2021-01-24T00:39:45.547129",
     "status": "completed"
    },
    "tags": []
   },
   "outputs": [],
   "source": [
    "# #hide\n",
    "# g = g.reset_index(['date'])"
   ]
  },
  {
   "cell_type": "code",
   "execution_count": 25,
   "id": "incomplete-mustang",
   "metadata": {
    "execution": {
     "iopub.execute_input": "2021-01-24T00:39:45.652913Z",
     "iopub.status.busy": "2021-01-24T00:39:45.652368Z",
     "iopub.status.idle": "2021-01-24T00:39:45.654692Z",
     "shell.execute_reply": "2021-01-24T00:39:45.655237Z"
    },
    "papermill": {
     "duration": 0.038558,
     "end_time": "2021-01-24T00:39:45.655370",
     "exception": false,
     "start_time": "2021-01-24T00:39:45.616812",
     "status": "completed"
    },
    "tags": []
   },
   "outputs": [],
   "source": [
    "#hide\n",
    "# g.head()"
   ]
  },
  {
   "cell_type": "code",
   "execution_count": 26,
   "id": "specific-kruger",
   "metadata": {
    "execution": {
     "iopub.execute_input": "2021-01-24T00:39:45.723413Z",
     "iopub.status.busy": "2021-01-24T00:39:45.722395Z",
     "iopub.status.idle": "2021-01-24T00:39:45.724491Z",
     "shell.execute_reply": "2021-01-24T00:39:45.725334Z"
    },
    "papermill": {
     "duration": 0.038633,
     "end_time": "2021-01-24T00:39:45.725540",
     "exception": false,
     "start_time": "2021-01-24T00:39:45.686907",
     "status": "completed"
    },
    "tags": []
   },
   "outputs": [],
   "source": [
    "#hide\n",
    "# g.columns = ['date','country','cases']"
   ]
  },
  {
   "cell_type": "code",
   "execution_count": 27,
   "id": "tender-conversion",
   "metadata": {
    "execution": {
     "iopub.execute_input": "2021-01-24T00:39:45.791800Z",
     "iopub.status.busy": "2021-01-24T00:39:45.791264Z",
     "iopub.status.idle": "2021-01-24T00:39:45.794275Z",
     "shell.execute_reply": "2021-01-24T00:39:45.793874Z"
    },
    "papermill": {
     "duration": 0.037224,
     "end_time": "2021-01-24T00:39:45.794378",
     "exception": false,
     "start_time": "2021-01-24T00:39:45.757154",
     "status": "completed"
    },
    "tags": []
   },
   "outputs": [],
   "source": [
    "#hide\n",
    "# g['continent'] = g.country"
   ]
  },
  {
   "cell_type": "code",
   "execution_count": 28,
   "id": "substantial-wilderness",
   "metadata": {
    "execution": {
     "iopub.execute_input": "2021-01-24T00:39:45.863447Z",
     "iopub.status.busy": "2021-01-24T00:39:45.862427Z",
     "iopub.status.idle": "2021-01-24T00:39:45.864510Z",
     "shell.execute_reply": "2021-01-24T00:39:45.865397Z"
    },
    "papermill": {
     "duration": 0.039292,
     "end_time": "2021-01-24T00:39:45.865627",
     "exception": false,
     "start_time": "2021-01-24T00:39:45.826335",
     "status": "completed"
    },
    "tags": []
   },
   "outputs": [],
   "source": [
    "#hide\n",
    "# cols = list(g.columns.values)"
   ]
  },
  {
   "cell_type": "code",
   "execution_count": 29,
   "id": "solved-farming",
   "metadata": {
    "execution": {
     "iopub.execute_input": "2021-01-24T00:39:45.935845Z",
     "iopub.status.busy": "2021-01-24T00:39:45.935268Z",
     "iopub.status.idle": "2021-01-24T00:39:45.937682Z",
     "shell.execute_reply": "2021-01-24T00:39:45.937186Z"
    },
    "papermill": {
     "duration": 0.038485,
     "end_time": "2021-01-24T00:39:45.937802",
     "exception": false,
     "start_time": "2021-01-24T00:39:45.899317",
     "status": "completed"
    },
    "tags": []
   },
   "outputs": [],
   "source": [
    "#hide\n",
    "# cols.insert(0, cols.pop())"
   ]
  },
  {
   "cell_type": "code",
   "execution_count": 30,
   "id": "executed-adoption",
   "metadata": {
    "execution": {
     "iopub.execute_input": "2021-01-24T00:39:46.007779Z",
     "iopub.status.busy": "2021-01-24T00:39:46.007245Z",
     "iopub.status.idle": "2021-01-24T00:39:46.010710Z",
     "shell.execute_reply": "2021-01-24T00:39:46.010232Z"
    },
    "papermill": {
     "duration": 0.04014,
     "end_time": "2021-01-24T00:39:46.010834",
     "exception": false,
     "start_time": "2021-01-24T00:39:45.970694",
     "status": "completed"
    },
    "tags": []
   },
   "outputs": [],
   "source": [
    "#hide\n",
    "# g = g[cols]"
   ]
  },
  {
   "cell_type": "code",
   "execution_count": 31,
   "id": "subject-dublin",
   "metadata": {
    "execution": {
     "iopub.execute_input": "2021-01-24T00:39:46.082090Z",
     "iopub.status.busy": "2021-01-24T00:39:46.081503Z",
     "iopub.status.idle": "2021-01-24T00:39:46.083802Z",
     "shell.execute_reply": "2021-01-24T00:39:46.083296Z"
    },
    "papermill": {
     "duration": 0.039951,
     "end_time": "2021-01-24T00:39:46.083918",
     "exception": false,
     "start_time": "2021-01-24T00:39:46.043967",
     "status": "completed"
    },
    "tags": []
   },
   "outputs": [],
   "source": [
    "#hide\n",
    "# g['continent'] = g['continent'].map(mapping['map.continent'])"
   ]
  },
  {
   "cell_type": "code",
   "execution_count": 32,
   "id": "freelance-scout",
   "metadata": {
    "execution": {
     "iopub.execute_input": "2021-01-24T00:39:46.155049Z",
     "iopub.status.busy": "2021-01-24T00:39:46.154462Z",
     "iopub.status.idle": "2021-01-24T00:39:46.157006Z",
     "shell.execute_reply": "2021-01-24T00:39:46.156533Z"
    },
    "papermill": {
     "duration": 0.040591,
     "end_time": "2021-01-24T00:39:46.157160",
     "exception": false,
     "start_time": "2021-01-24T00:39:46.116569",
     "status": "completed"
    },
    "tags": []
   },
   "outputs": [],
   "source": [
    "#hide\n",
    "# g.head()"
   ]
  },
  {
   "cell_type": "code",
   "execution_count": 33,
   "id": "limited-engine",
   "metadata": {
    "execution": {
     "iopub.execute_input": "2021-01-24T00:39:46.229408Z",
     "iopub.status.busy": "2021-01-24T00:39:46.228833Z",
     "iopub.status.idle": "2021-01-24T00:39:46.231824Z",
     "shell.execute_reply": "2021-01-24T00:39:46.231369Z"
    },
    "papermill": {
     "duration": 0.040822,
     "end_time": "2021-01-24T00:39:46.231946",
     "exception": false,
     "start_time": "2021-01-24T00:39:46.191124",
     "status": "completed"
    },
    "tags": []
   },
   "outputs": [],
   "source": [
    "# hide\n",
    "# g['date'] = g['date'].astype('datetime64[ns]')"
   ]
  },
  {
   "cell_type": "code",
   "execution_count": 34,
   "id": "sophisticated-supervisor",
   "metadata": {
    "execution": {
     "iopub.execute_input": "2021-01-24T00:39:46.303213Z",
     "iopub.status.busy": "2021-01-24T00:39:46.302624Z",
     "iopub.status.idle": "2021-01-24T00:39:46.304910Z",
     "shell.execute_reply": "2021-01-24T00:39:46.305497Z"
    },
    "papermill": {
     "duration": 0.040301,
     "end_time": "2021-01-24T00:39:46.305648",
     "exception": false,
     "start_time": "2021-01-24T00:39:46.265347",
     "status": "completed"
    },
    "tags": []
   },
   "outputs": [],
   "source": [
    "#hide\n",
    "# g['date'] = g.date.dt.dayofyear"
   ]
  },
  {
   "cell_type": "code",
   "execution_count": 35,
   "id": "inside-dubai",
   "metadata": {
    "execution": {
     "iopub.execute_input": "2021-01-24T00:39:46.378123Z",
     "iopub.status.busy": "2021-01-24T00:39:46.377527Z",
     "iopub.status.idle": "2021-01-24T00:39:46.379695Z",
     "shell.execute_reply": "2021-01-24T00:39:46.379194Z"
    },
    "papermill": {
     "duration": 0.04021,
     "end_time": "2021-01-24T00:39:46.379821",
     "exception": false,
     "start_time": "2021-01-24T00:39:46.339611",
     "status": "completed"
    },
    "tags": []
   },
   "outputs": [],
   "source": [
    "#hide\n",
    "# g = g.rename(columns= {'continent':'group','country':'name','cases':'value'})"
   ]
  },
  {
   "cell_type": "code",
   "execution_count": 36,
   "id": "fleet-motorcycle",
   "metadata": {
    "execution": {
     "iopub.execute_input": "2021-01-24T00:39:46.453508Z",
     "iopub.status.busy": "2021-01-24T00:39:46.452874Z",
     "iopub.status.idle": "2021-01-24T00:39:46.455194Z",
     "shell.execute_reply": "2021-01-24T00:39:46.455748Z"
    },
    "papermill": {
     "duration": 0.041515,
     "end_time": "2021-01-24T00:39:46.455896",
     "exception": false,
     "start_time": "2021-01-24T00:39:46.414381",
     "status": "completed"
    },
    "tags": []
   },
   "outputs": [],
   "source": [
    "#hide\n",
    "# cols = ['name','group','day','value']"
   ]
  },
  {
   "cell_type": "code",
   "execution_count": 37,
   "id": "continued-sleeping",
   "metadata": {
    "execution": {
     "iopub.execute_input": "2021-01-24T00:39:46.529126Z",
     "iopub.status.busy": "2021-01-24T00:39:46.528500Z",
     "iopub.status.idle": "2021-01-24T00:39:46.530204Z",
     "shell.execute_reply": "2021-01-24T00:39:46.530708Z"
    },
    "papermill": {
     "duration": 0.041071,
     "end_time": "2021-01-24T00:39:46.530857",
     "exception": false,
     "start_time": "2021-01-24T00:39:46.489786",
     "status": "completed"
    },
    "tags": []
   },
   "outputs": [],
   "source": [
    "#hide\n",
    "# g.rename(columns= {'date':'day'},inplace = True)"
   ]
  },
  {
   "cell_type": "code",
   "execution_count": 38,
   "id": "major-fight",
   "metadata": {
    "execution": {
     "iopub.execute_input": "2021-01-24T00:39:46.603512Z",
     "iopub.status.busy": "2021-01-24T00:39:46.602927Z",
     "iopub.status.idle": "2021-01-24T00:39:46.606276Z",
     "shell.execute_reply": "2021-01-24T00:39:46.605772Z"
    },
    "papermill": {
     "duration": 0.041565,
     "end_time": "2021-01-24T00:39:46.606406",
     "exception": false,
     "start_time": "2021-01-24T00:39:46.564841",
     "status": "completed"
    },
    "tags": []
   },
   "outputs": [],
   "source": [
    "#hide\n",
    "# g = g[cols]"
   ]
  },
  {
   "cell_type": "code",
   "execution_count": 39,
   "id": "structured-mobile",
   "metadata": {
    "execution": {
     "iopub.execute_input": "2021-01-24T00:39:46.678933Z",
     "iopub.status.busy": "2021-01-24T00:39:46.678335Z",
     "iopub.status.idle": "2021-01-24T00:39:46.681269Z",
     "shell.execute_reply": "2021-01-24T00:39:46.680768Z"
    },
    "papermill": {
     "duration": 0.041228,
     "end_time": "2021-01-24T00:39:46.681411",
     "exception": false,
     "start_time": "2021-01-24T00:39:46.640183",
     "status": "completed"
    },
    "tags": []
   },
   "outputs": [],
   "source": [
    "# #hide\n",
    "# g = g[g.group.notna()]"
   ]
  },
  {
   "cell_type": "code",
   "execution_count": 40,
   "id": "determined-closing",
   "metadata": {
    "execution": {
     "iopub.execute_input": "2021-01-24T00:39:46.753625Z",
     "iopub.status.busy": "2021-01-24T00:39:46.752990Z",
     "iopub.status.idle": "2021-01-24T00:39:46.755191Z",
     "shell.execute_reply": "2021-01-24T00:39:46.754696Z"
    },
    "papermill": {
     "duration": 0.040105,
     "end_time": "2021-01-24T00:39:46.755319",
     "exception": false,
     "start_time": "2021-01-24T00:39:46.715214",
     "status": "completed"
    },
    "tags": []
   },
   "outputs": [],
   "source": [
    "# #hide\n",
    "# colors = dict(zip(\n",
    "#     [\"Oceania\", \"Europe\", \"Asia\", \"South America\", \"Middle East\", \"North America\", \"Africa\"],\n",
    "#     [\"#adb0ff\", \"#ffb3ff\", \"#90d595\", \"#e48381\", \"#aafbff\", \"#f7bb5f\", \"#eafb50\"]\n",
    "# ))\n",
    "# group_lk = g.set_index('name')['group'].to_dict()"
   ]
  },
  {
   "cell_type": "code",
   "execution_count": null,
   "id": "gross-drinking",
   "metadata": {
    "papermill": {
     "duration": 0.03303,
     "end_time": "2021-01-24T00:39:46.821257",
     "exception": false,
     "start_time": "2021-01-24T00:39:46.788227",
     "status": "completed"
    },
    "tags": []
   },
   "outputs": [],
   "source": []
  },
  {
   "cell_type": "code",
   "execution_count": 41,
   "id": "subject-macintosh",
   "metadata": {
    "execution": {
     "iopub.execute_input": "2021-01-24T00:39:46.894119Z",
     "iopub.status.busy": "2021-01-24T00:39:46.893308Z",
     "iopub.status.idle": "2021-01-24T00:39:46.894733Z",
     "shell.execute_reply": "2021-01-24T00:39:46.895195Z"
    },
    "papermill": {
     "duration": 0.040559,
     "end_time": "2021-01-24T00:39:46.895344",
     "exception": false,
     "start_time": "2021-01-24T00:39:46.854785",
     "status": "completed"
    },
    "tags": []
   },
   "outputs": [],
   "source": [
    "# #hide\n",
    "# fig, ax = plt.subplots(figsize=(15, 8))\n",
    "\n",
    "# def draw_barchart(current_day):\n",
    "#     dff = g[g['day'].eq(current_day)].sort_values(by='value', ascending=True).tail(10)\n",
    "#     ax.clear()\n",
    "#     ax.barh(dff['name'], dff['value'], color=[colors[group_lk[x]] for x in dff['name']])\n",
    "#     dx = dff['value'].max() / 200\n",
    "    \n",
    "#     for i, (value, name) in enumerate(zip(dff['value'], dff['name'])):\n",
    "#         ax.text(value-dx, i,     name,           size=14, weight=600, ha='right', va='bottom')\n",
    "#         ax.text(value-dx, i-.25, group_lk[name], size=10, color='#444444', ha='right', va='baseline')\n",
    "#         ax.text(value+dx, i,     f'{value:,.0f}',  size=14, ha='left',  va='center')\n",
    "#     ax.text(1, 0.4, current_day, transform=ax.transAxes, color='#777777', size=46, ha='right', weight=800)\n",
    "#     ax.text(0, 1.06, 'Population (thousands)', transform=ax.transAxes, size=12, color='#777777')\n",
    "#     ax.xaxis.set_major_formatter(ticker.StrMethodFormatter('{x:,.0f}'))\n",
    "#     ax.xaxis.set_ticks_position('top')\n",
    "#     ax.tick_params(axis='x', colors='#777777', labelsize=12)\n",
    "#     ax.set_yticks([])\n",
    "#     ax.margins(0, 0.01)\n",
    "#     ax.grid(which='major', axis='x', linestyle='-')\n",
    "#     ax.set_axisbelow(True)\n",
    "    \n",
    "#     ax.text(0, 1.15, 'Coronavirus',\n",
    "#             transform=ax.transAxes, size=24, weight=600, ha='left', va='top')\n",
    "# #     ax.text(1, 0, 'by @pratapvardhan; credit @jburnmurdoch', transform=ax.transAxes, color='#777777', ha='right',\n",
    "# #             bbox=dict(facecolor='white', alpha=0.8, edgecolor='white'))\n",
    "#     plt.box(False)"
   ]
  },
  {
   "cell_type": "code",
   "execution_count": 42,
   "id": "sexual-wages",
   "metadata": {
    "execution": {
     "iopub.execute_input": "2021-01-24T00:39:46.965811Z",
     "iopub.status.busy": "2021-01-24T00:39:46.965214Z",
     "iopub.status.idle": "2021-01-24T00:39:46.966933Z",
     "shell.execute_reply": "2021-01-24T00:39:46.967342Z"
    },
    "papermill": {
     "duration": 0.039269,
     "end_time": "2021-01-24T00:39:46.967485",
     "exception": false,
     "start_time": "2021-01-24T00:39:46.928216",
     "status": "completed"
    },
    "tags": []
   },
   "outputs": [],
   "source": [
    "# #hide_input\n",
    "# fig, ax = plt.subplots(figsize=(15, 8))\n",
    "# animator = animation.FuncAnimation(fig, draw_barchart, frames=range(g.day.values.min(), g.day.values.max()))\n",
    "# HTML(animator.to_jshtml())\n",
    "# # or use animator.to_html5_video() or animator.save() "
   ]
  },
  {
   "cell_type": "code",
   "execution_count": null,
   "id": "australian-container",
   "metadata": {
    "papermill": {
     "duration": 0.033448,
     "end_time": "2021-01-24T00:39:47.034284",
     "exception": false,
     "start_time": "2021-01-24T00:39:47.000836",
     "status": "completed"
    },
    "tags": []
   },
   "outputs": [],
   "source": []
  },
  {
   "cell_type": "code",
   "execution_count": null,
   "id": "mediterranean-pontiac",
   "metadata": {
    "papermill": {
     "duration": 0.032098,
     "end_time": "2021-01-24T00:39:47.099410",
     "exception": false,
     "start_time": "2021-01-24T00:39:47.067312",
     "status": "completed"
    },
    "tags": []
   },
   "outputs": [],
   "source": []
  },
  {
   "cell_type": "code",
   "execution_count": null,
   "id": "aging-legislature",
   "metadata": {
    "papermill": {
     "duration": 0.033221,
     "end_time": "2021-01-24T00:39:47.165965",
     "exception": false,
     "start_time": "2021-01-24T00:39:47.132744",
     "status": "completed"
    },
    "tags": []
   },
   "outputs": [],
   "source": []
  }
 ],
 "metadata": {
  "kernelspec": {
   "display_name": "Python 3",
   "language": "python",
   "name": "python3"
  },
  "language_info": {
   "codemirror_mode": {
    "name": "ipython",
    "version": 3
   },
   "file_extension": ".py",
   "mimetype": "text/x-python",
   "name": "python",
   "nbconvert_exporter": "python",
   "pygments_lexer": "ipython3",
   "version": "3.6.12"
  },
  "papermill": {
   "duration": 7.335167,
   "end_time": "2021-01-24T00:39:48.396448",
   "environment_variables": {},
   "exception": null,
   "input_path": "2020-03-21-covid19exp.ipynb",
   "output_path": "2020-03-21-covid19exp.ipynb",
   "parameters": {},
   "start_time": "2021-01-24T00:39:41.061281",
   "version": "2.0.0"
  }
 },
 "nbformat": 4,
 "nbformat_minor": 5
}