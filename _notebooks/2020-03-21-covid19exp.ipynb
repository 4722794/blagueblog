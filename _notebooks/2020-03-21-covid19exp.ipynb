{
 "cells": [
  {
   "cell_type": "markdown",
   "id": "muslim-click",
   "metadata": {
    "papermill": {
     "duration": 0.035039,
     "end_time": "2022-09-13T12:20:39.390129",
     "exception": false,
     "start_time": "2022-09-13T12:20:39.355090",
     "status": "completed"
    },
    "tags": []
   },
   "source": [
    "# COVID-19 Case Race\n",
    "> A race chart to see rising cases around the world\n",
    "\n",
    "- author: Hargun Oberoi\n",
    "- image: images/covid-overview.png\n",
    "- hide: false\n",
    "- badges: false"
   ]
  },
  {
   "cell_type": "code",
   "execution_count": 1,
   "id": "proof-material",
   "metadata": {
    "execution": {
     "iopub.execute_input": "2022-09-13T12:20:39.459341Z",
     "iopub.status.busy": "2022-09-13T12:20:39.457895Z",
     "iopub.status.idle": "2022-09-13T12:20:39.763728Z",
     "shell.execute_reply": "2022-09-13T12:20:39.764198Z"
    },
    "papermill": {
     "duration": 0.343682,
     "end_time": "2022-09-13T12:20:39.764353",
     "exception": false,
     "start_time": "2022-09-13T12:20:39.420671",
     "status": "completed"
    },
    "tags": []
   },
   "outputs": [],
   "source": [
    "#hide\n",
    "import numpy as np\n",
    "import pandas as pd\n",
    "from jinja2 import Template\n",
    "from IPython.display import HTML"
   ]
  },
  {
   "cell_type": "code",
   "execution_count": 2,
   "id": "developed-terminology",
   "metadata": {
    "execution": {
     "iopub.execute_input": "2022-09-13T12:20:39.828800Z",
     "iopub.status.busy": "2022-09-13T12:20:39.828243Z",
     "iopub.status.idle": "2022-09-13T12:20:39.830527Z",
     "shell.execute_reply": "2022-09-13T12:20:39.830094Z"
    },
    "papermill": {
     "duration": 0.036127,
     "end_time": "2022-09-13T12:20:39.830622",
     "exception": false,
     "start_time": "2022-09-13T12:20:39.794495",
     "status": "completed"
    },
    "tags": []
   },
   "outputs": [],
   "source": [
    "#hide\n",
    "\n",
    "# FETCH\n",
    "base_url = 'https://raw.githubusercontent.com/pratapvardhan/notebooks/master/covid19/'\n",
    "paths = {\n",
    "    'mapping': base_url + 'mapping_countries.csv',\n",
    "    'overview': base_url + 'overview.tpl'\n",
    "}"
   ]
  },
  {
   "cell_type": "code",
   "execution_count": 3,
   "id": "dynamic-saver",
   "metadata": {
    "execution": {
     "iopub.execute_input": "2022-09-13T12:20:39.898345Z",
     "iopub.status.busy": "2022-09-13T12:20:39.897212Z",
     "iopub.status.idle": "2022-09-13T12:20:39.900940Z",
     "shell.execute_reply": "2022-09-13T12:20:39.901473Z"
    },
    "papermill": {
     "duration": 0.04125,
     "end_time": "2022-09-13T12:20:39.901585",
     "exception": false,
     "start_time": "2022-09-13T12:20:39.860335",
     "status": "completed"
    },
    "tags": []
   },
   "outputs": [
    {
     "data": {
      "text/plain": [
       "'https://raw.githubusercontent.com/pratapvardhan/notebooks/master/covid19/mapping_countries.csv'"
      ]
     },
     "execution_count": 3,
     "metadata": {},
     "output_type": "execute_result"
    }
   ],
   "source": [
    "#hide\n",
    "paths['mapping']"
   ]
  },
  {
   "cell_type": "code",
   "execution_count": 4,
   "id": "urban-software",
   "metadata": {
    "execution": {
     "iopub.execute_input": "2022-09-13T12:20:39.966370Z",
     "iopub.status.busy": "2022-09-13T12:20:39.965810Z",
     "iopub.status.idle": "2022-09-13T12:20:39.968275Z",
     "shell.execute_reply": "2022-09-13T12:20:39.967830Z"
    },
    "papermill": {
     "duration": 0.036625,
     "end_time": "2022-09-13T12:20:39.968372",
     "exception": false,
     "start_time": "2022-09-13T12:20:39.931747",
     "status": "completed"
    },
    "tags": []
   },
   "outputs": [],
   "source": [
    "#hide\n",
    "def get_mappings(url):\n",
    "    df = pd.read_csv(url)\n",
    "    return {\n",
    "        'df': df,\n",
    "        'replace.country': dict(df.dropna(subset=['Name']).set_index('Country')['Name']),\n",
    "        'map.continent': dict(df.set_index('Name')['Continent'])\n",
    "    }"
   ]
  },
  {
   "cell_type": "code",
   "execution_count": 5,
   "id": "intimate-machinery",
   "metadata": {
    "execution": {
     "iopub.execute_input": "2022-09-13T12:20:40.033087Z",
     "iopub.status.busy": "2022-09-13T12:20:40.032534Z",
     "iopub.status.idle": "2022-09-13T12:20:40.068779Z",
     "shell.execute_reply": "2022-09-13T12:20:40.069337Z"
    },
    "papermill": {
     "duration": 0.071041,
     "end_time": "2022-09-13T12:20:40.069454",
     "exception": false,
     "start_time": "2022-09-13T12:20:39.998413",
     "status": "completed"
    },
    "tags": []
   },
   "outputs": [],
   "source": [
    "#hide\n",
    "mapping = get_mappings(paths['mapping'])"
   ]
  },
  {
   "cell_type": "code",
   "execution_count": 6,
   "id": "certified-tactics",
   "metadata": {
    "execution": {
     "iopub.execute_input": "2022-09-13T12:20:40.134616Z",
     "iopub.status.busy": "2022-09-13T12:20:40.134052Z",
     "iopub.status.idle": "2022-09-13T12:20:40.136233Z",
     "shell.execute_reply": "2022-09-13T12:20:40.136673Z"
    },
    "papermill": {
     "duration": 0.037061,
     "end_time": "2022-09-13T12:20:40.136784",
     "exception": false,
     "start_time": "2022-09-13T12:20:40.099723",
     "status": "completed"
    },
    "tags": []
   },
   "outputs": [],
   "source": [
    "#hide\n",
    "def get_template(path):\n",
    "    from urllib.parse import urlparse\n",
    "    if bool(urlparse(path).netloc):\n",
    "        from urllib.request import urlopen\n",
    "        return urlopen(path).read().decode('utf8')\n",
    "    return open(path).read()"
   ]
  },
  {
   "cell_type": "code",
   "execution_count": 7,
   "id": "realistic-blast",
   "metadata": {
    "execution": {
     "iopub.execute_input": "2022-09-13T12:20:40.201219Z",
     "iopub.status.busy": "2022-09-13T12:20:40.200646Z",
     "iopub.status.idle": "2022-09-13T12:20:40.203127Z",
     "shell.execute_reply": "2022-09-13T12:20:40.202672Z"
    },
    "papermill": {
     "duration": 0.036379,
     "end_time": "2022-09-13T12:20:40.203224",
     "exception": false,
     "start_time": "2022-09-13T12:20:40.166845",
     "status": "completed"
    },
    "tags": []
   },
   "outputs": [],
   "source": [
    "#hide\n",
    "def get_frame(name):\n",
    "    url = (\n",
    "        'https://raw.githubusercontent.com/CSSEGISandData/COVID-19/master/csse_covid_19_data/'\n",
    "        f'csse_covid_19_time_series/time_series_covid19_{name}_global.csv')\n",
    "    df = pd.read_csv(url)\n",
    "    # rename countries\n",
    "    df['Country/Region'] = df['Country/Region'].replace(mapping['replace.country'])\n",
    "    return df"
   ]
  },
  {
   "cell_type": "code",
   "execution_count": 8,
   "id": "affiliated-characterization",
   "metadata": {
    "execution": {
     "iopub.execute_input": "2022-09-13T12:20:40.268823Z",
     "iopub.status.busy": "2022-09-13T12:20:40.268257Z",
     "iopub.status.idle": "2022-09-13T12:20:40.270487Z",
     "shell.execute_reply": "2022-09-13T12:20:40.270920Z"
    },
    "papermill": {
     "duration": 0.037758,
     "end_time": "2022-09-13T12:20:40.271029",
     "exception": false,
     "start_time": "2022-09-13T12:20:40.233271",
     "status": "completed"
    },
    "tags": []
   },
   "outputs": [],
   "source": [
    "#hide\n",
    "def get_dates(df):\n",
    "    dt_cols = df.columns[~df.columns.isin(['Province/State', 'Country/Region', 'Lat', 'Long'])]\n",
    "    LAST_DATE_I = -1\n",
    "    # sometimes last column may be empty, then go backwards\n",
    "    for i in range(-1, -len(dt_cols), -1):\n",
    "        if not df[dt_cols[i]].fillna(0).eq(0).all():\n",
    "            LAST_DATE_I = i\n",
    "            break\n",
    "    return LAST_DATE_I, dt_cols"
   ]
  },
  {
   "cell_type": "code",
   "execution_count": 9,
   "id": "recent-optimization",
   "metadata": {
    "execution": {
     "iopub.execute_input": "2022-09-13T12:20:40.335235Z",
     "iopub.status.busy": "2022-09-13T12:20:40.334679Z",
     "iopub.status.idle": "2022-09-13T12:20:40.786143Z",
     "shell.execute_reply": "2022-09-13T12:20:40.785660Z"
    },
    "papermill": {
     "duration": 0.485323,
     "end_time": "2022-09-13T12:20:40.786262",
     "exception": false,
     "start_time": "2022-09-13T12:20:40.300939",
     "status": "completed"
    },
    "tags": []
   },
   "outputs": [],
   "source": [
    "#hide\n",
    "COL_REGION = 'Country/Region'\n",
    "# Confirmed, Recovered, Deaths\n",
    "df = get_frame('confirmed')\n",
    "# dft_: timeseries, dfc_: today country agg\n",
    "dft_cases = df\n",
    "dft_deaths = get_frame('deaths')\n",
    "dft_recovered = get_frame('recovered')\n",
    "LAST_DATE_I, dt_cols = get_dates(df)"
   ]
  },
  {
   "cell_type": "code",
   "execution_count": 10,
   "id": "absolute-copper",
   "metadata": {
    "execution": {
     "iopub.execute_input": "2022-09-13T12:20:40.851879Z",
     "iopub.status.busy": "2022-09-13T12:20:40.851326Z",
     "iopub.status.idle": "2022-09-13T12:20:40.853722Z",
     "shell.execute_reply": "2022-09-13T12:20:40.853149Z"
    },
    "papermill": {
     "duration": 0.037137,
     "end_time": "2022-09-13T12:20:40.853823",
     "exception": false,
     "start_time": "2022-09-13T12:20:40.816686",
     "status": "completed"
    },
    "tags": []
   },
   "outputs": [],
   "source": [
    "#hide\n",
    "LAST_DATE_I, dt_cols = get_dates(df)\n",
    "dt_today =dt_cols[LAST_DATE_I]\n",
    "# dt_5day = dt_cols[LAST_DATE_I - 5]\n",
    "dt_yday = dt_cols[LAST_DATE_I - 1]"
   ]
  },
  {
   "cell_type": "code",
   "execution_count": 11,
   "id": "restricted-sheriff",
   "metadata": {
    "execution": {
     "iopub.execute_input": "2022-09-13T12:20:40.918682Z",
     "iopub.status.busy": "2022-09-13T12:20:40.918133Z",
     "iopub.status.idle": "2022-09-13T12:20:40.924746Z",
     "shell.execute_reply": "2022-09-13T12:20:40.925145Z"
    },
    "papermill": {
     "duration": 0.041552,
     "end_time": "2022-09-13T12:20:40.925258",
     "exception": false,
     "start_time": "2022-09-13T12:20:40.883706",
     "status": "completed"
    },
    "tags": []
   },
   "outputs": [],
   "source": [
    "#hide\n",
    "dfc_cases = dft_cases.groupby(COL_REGION)[dt_today].sum()\n",
    "dfc_deaths = dft_deaths.groupby(COL_REGION)[dt_today].sum()\n",
    "# dfp_cases = dft_cases.groupby(COL_REGION)[dt_5day].sum()\n",
    "# dfp_deaths = dft_deaths.groupby(COL_REGION)[dt_5day].sum()\n",
    "dfp_cases = dft_cases.groupby(COL_REGION)[dt_yday].sum()\n",
    "dfp_deaths = dft_deaths.groupby(COL_REGION)[dt_yday].sum()"
   ]
  },
  {
   "cell_type": "code",
   "execution_count": 12,
   "id": "deluxe-hepatitis",
   "metadata": {
    "execution": {
     "iopub.execute_input": "2022-09-13T12:20:40.989845Z",
     "iopub.status.busy": "2022-09-13T12:20:40.987213Z",
     "iopub.status.idle": "2022-09-13T12:20:40.994166Z",
     "shell.execute_reply": "2022-09-13T12:20:40.994621Z"
    },
    "papermill": {
     "duration": 0.039407,
     "end_time": "2022-09-13T12:20:40.994729",
     "exception": false,
     "start_time": "2022-09-13T12:20:40.955322",
     "status": "completed"
    },
    "tags": []
   },
   "outputs": [],
   "source": [
    "#hide\n",
    "df_table = (pd.DataFrame(dict(Cases = dfc_cases, Deaths = dfc_deaths, PCases = dfp_cases, PDeaths = dfp_deaths))\n",
    "            .sort_values(by = ['Cases','Deaths'], ascending = [False, False])\n",
    "            .reset_index())"
   ]
  },
  {
   "cell_type": "code",
   "execution_count": 13,
   "id": "educational-chancellor",
   "metadata": {
    "execution": {
     "iopub.execute_input": "2022-09-13T12:20:41.066928Z",
     "iopub.status.busy": "2022-09-13T12:20:41.066372Z",
     "iopub.status.idle": "2022-09-13T12:20:41.078211Z",
     "shell.execute_reply": "2022-09-13T12:20:41.078796Z"
    },
    "papermill": {
     "duration": 0.054128,
     "end_time": "2022-09-13T12:20:41.078935",
     "exception": false,
     "start_time": "2022-09-13T12:20:41.024807",
     "status": "completed"
    },
    "tags": []
   },
   "outputs": [
    {
     "data": {
      "text/html": [
       "<div>\n",
       "<style scoped>\n",
       "    .dataframe tbody tr th:only-of-type {\n",
       "        vertical-align: middle;\n",
       "    }\n",
       "\n",
       "    .dataframe tbody tr th {\n",
       "        vertical-align: top;\n",
       "    }\n",
       "\n",
       "    .dataframe thead th {\n",
       "        text-align: right;\n",
       "    }\n",
       "</style>\n",
       "<table border=\"1\" class=\"dataframe\">\n",
       "  <thead>\n",
       "    <tr style=\"text-align: right;\">\n",
       "      <th></th>\n",
       "      <th>Country/Region</th>\n",
       "      <th>Cases</th>\n",
       "      <th>Deaths</th>\n",
       "      <th>PCases</th>\n",
       "      <th>PDeaths</th>\n",
       "      <th>Cases (+)</th>\n",
       "      <th>Deaths (+)</th>\n",
       "      <th>Fatality Rate</th>\n",
       "      <th>Continent</th>\n",
       "    </tr>\n",
       "  </thead>\n",
       "  <tbody>\n",
       "    <tr>\n",
       "      <th>0</th>\n",
       "      <td>US</td>\n",
       "      <td>95320071</td>\n",
       "      <td>1050767</td>\n",
       "      <td>95250705</td>\n",
       "      <td>1050323</td>\n",
       "      <td>69366</td>\n",
       "      <td>444</td>\n",
       "      <td>1.10</td>\n",
       "      <td>North America</td>\n",
       "    </tr>\n",
       "    <tr>\n",
       "      <th>1</th>\n",
       "      <td>India</td>\n",
       "      <td>44502363</td>\n",
       "      <td>528185</td>\n",
       "      <td>44500580</td>\n",
       "      <td>528165</td>\n",
       "      <td>1783</td>\n",
       "      <td>20</td>\n",
       "      <td>1.19</td>\n",
       "      <td>Asia</td>\n",
       "    </tr>\n",
       "    <tr>\n",
       "      <th>2</th>\n",
       "      <td>France</td>\n",
       "      <td>34939449</td>\n",
       "      <td>155569</td>\n",
       "      <td>34898909</td>\n",
       "      <td>155508</td>\n",
       "      <td>40540</td>\n",
       "      <td>61</td>\n",
       "      <td>0.45</td>\n",
       "      <td>Europe</td>\n",
       "    </tr>\n",
       "    <tr>\n",
       "      <th>3</th>\n",
       "      <td>Brazil</td>\n",
       "      <td>34533957</td>\n",
       "      <td>684898</td>\n",
       "      <td>34516739</td>\n",
       "      <td>684813</td>\n",
       "      <td>17218</td>\n",
       "      <td>85</td>\n",
       "      <td>1.98</td>\n",
       "      <td>South America</td>\n",
       "    </tr>\n",
       "    <tr>\n",
       "      <th>4</th>\n",
       "      <td>Germany</td>\n",
       "      <td>32507180</td>\n",
       "      <td>148389</td>\n",
       "      <td>32452250</td>\n",
       "      <td>148299</td>\n",
       "      <td>54930</td>\n",
       "      <td>90</td>\n",
       "      <td>0.46</td>\n",
       "      <td>Europe</td>\n",
       "    </tr>\n",
       "  </tbody>\n",
       "</table>\n",
       "</div>"
      ],
      "text/plain": [
       "  Country/Region     Cases   Deaths    PCases  PDeaths  Cases (+)  Deaths (+)  \\\n",
       "0             US  95320071  1050767  95250705  1050323      69366         444   \n",
       "1          India  44502363   528185  44500580   528165       1783          20   \n",
       "2         France  34939449   155569  34898909   155508      40540          61   \n",
       "3         Brazil  34533957   684898  34516739   684813      17218          85   \n",
       "4        Germany  32507180   148389  32452250   148299      54930          90   \n",
       "\n",
       "   Fatality Rate      Continent  \n",
       "0           1.10  North America  \n",
       "1           1.19           Asia  \n",
       "2           0.45         Europe  \n",
       "3           1.98  South America  \n",
       "4           0.46         Europe  "
      ]
     },
     "execution_count": 13,
     "metadata": {},
     "output_type": "execute_result"
    }
   ],
   "source": [
    "#hide\n",
    "for c in 'Cases, Deaths'.split(', '):\n",
    "    df_table[f'{c} (+)'] = (df_table[c] - df_table[f'P{c}']).clip(0)\n",
    "    #Clip ça veut dire, les chiffres negatif sont interdit\n",
    "df_table['Fatality Rate'] = (100* df_table['Deaths']/ df_table['Cases']).round(2)\n",
    "df_table['Continent'] = df_table['Country/Region'].map(mapping['map.continent'])\n",
    "df_table.head(5)"
   ]
  },
  {
   "cell_type": "code",
   "execution_count": 14,
   "id": "aboriginal-bulgaria",
   "metadata": {
    "execution": {
     "iopub.execute_input": "2022-09-13T12:20:41.145253Z",
     "iopub.status.busy": "2022-09-13T12:20:41.144690Z",
     "iopub.status.idle": "2022-09-13T12:20:41.146781Z",
     "shell.execute_reply": "2022-09-13T12:20:41.147180Z"
    },
    "papermill": {
     "duration": 0.037705,
     "end_time": "2022-09-13T12:20:41.147293",
     "exception": false,
     "start_time": "2022-09-13T12:20:41.109588",
     "status": "completed"
    },
    "tags": []
   },
   "outputs": [],
   "source": [
    "#hide\n",
    "#delete problematic countries from table\n",
    "df_table = df_table[~df_table['Country/Region'].isin(['Cape Verde', 'Cruise Ship', 'Kosovo'])]"
   ]
  },
  {
   "cell_type": "code",
   "execution_count": 15,
   "id": "fantastic-effect",
   "metadata": {
    "execution": {
     "iopub.execute_input": "2022-09-13T12:20:41.215439Z",
     "iopub.status.busy": "2022-09-13T12:20:41.214873Z",
     "iopub.status.idle": "2022-09-13T12:20:41.231244Z",
     "shell.execute_reply": "2022-09-13T12:20:41.231699Z"
    },
    "papermill": {
     "duration": 0.054048,
     "end_time": "2022-09-13T12:20:41.231812",
     "exception": false,
     "start_time": "2022-09-13T12:20:41.177764",
     "status": "completed"
    },
    "tags": []
   },
   "outputs": [
    {
     "data": {
      "text/html": [
       "<div>\n",
       "<style scoped>\n",
       "    .dataframe tbody tr th:only-of-type {\n",
       "        vertical-align: middle;\n",
       "    }\n",
       "\n",
       "    .dataframe tbody tr th {\n",
       "        vertical-align: top;\n",
       "    }\n",
       "\n",
       "    .dataframe thead th {\n",
       "        text-align: right;\n",
       "    }\n",
       "</style>\n",
       "<table border=\"1\" class=\"dataframe\">\n",
       "  <thead>\n",
       "    <tr style=\"text-align: right;\">\n",
       "      <th></th>\n",
       "      <th>Country/Region</th>\n",
       "      <th>Cases</th>\n",
       "      <th>Deaths</th>\n",
       "      <th>PCases</th>\n",
       "      <th>PDeaths</th>\n",
       "      <th>Cases (+)</th>\n",
       "      <th>Deaths (+)</th>\n",
       "      <th>Fatality Rate</th>\n",
       "      <th>Continent</th>\n",
       "    </tr>\n",
       "  </thead>\n",
       "  <tbody>\n",
       "    <tr>\n",
       "      <th>0</th>\n",
       "      <td>US</td>\n",
       "      <td>95320071</td>\n",
       "      <td>1050767</td>\n",
       "      <td>95250705</td>\n",
       "      <td>1050323</td>\n",
       "      <td>69366</td>\n",
       "      <td>444</td>\n",
       "      <td>1.1</td>\n",
       "      <td>North America</td>\n",
       "    </tr>\n",
       "    <tr>\n",
       "      <th>1</th>\n",
       "      <td>India</td>\n",
       "      <td>44502363</td>\n",
       "      <td>528185</td>\n",
       "      <td>44500580</td>\n",
       "      <td>528165</td>\n",
       "      <td>1783</td>\n",
       "      <td>20</td>\n",
       "      <td>1.2</td>\n",
       "      <td>Asia</td>\n",
       "    </tr>\n",
       "    <tr>\n",
       "      <th>2</th>\n",
       "      <td>France</td>\n",
       "      <td>34939449</td>\n",
       "      <td>155569</td>\n",
       "      <td>34898909</td>\n",
       "      <td>155508</td>\n",
       "      <td>40540</td>\n",
       "      <td>61</td>\n",
       "      <td>0.4</td>\n",
       "      <td>Europe</td>\n",
       "    </tr>\n",
       "    <tr>\n",
       "      <th>3</th>\n",
       "      <td>Brazil</td>\n",
       "      <td>34533957</td>\n",
       "      <td>684898</td>\n",
       "      <td>34516739</td>\n",
       "      <td>684813</td>\n",
       "      <td>17218</td>\n",
       "      <td>85</td>\n",
       "      <td>2.0</td>\n",
       "      <td>South America</td>\n",
       "    </tr>\n",
       "    <tr>\n",
       "      <th>4</th>\n",
       "      <td>Germany</td>\n",
       "      <td>32507180</td>\n",
       "      <td>148389</td>\n",
       "      <td>32452250</td>\n",
       "      <td>148299</td>\n",
       "      <td>54930</td>\n",
       "      <td>90</td>\n",
       "      <td>0.5</td>\n",
       "      <td>Europe</td>\n",
       "    </tr>\n",
       "  </tbody>\n",
       "</table>\n",
       "</div>"
      ],
      "text/plain": [
       "  Country/Region     Cases   Deaths    PCases  PDeaths  Cases (+)  Deaths (+)  \\\n",
       "0             US  95320071  1050767  95250705  1050323      69366         444   \n",
       "1          India  44502363   528185  44500580   528165       1783          20   \n",
       "2         France  34939449   155569  34898909   155508      40540          61   \n",
       "3         Brazil  34533957   684898  34516739   684813      17218          85   \n",
       "4        Germany  32507180   148389  32452250   148299      54930          90   \n",
       "\n",
       "   Fatality Rate      Continent  \n",
       "0            1.1  North America  \n",
       "1            1.2           Asia  \n",
       "2            0.4         Europe  \n",
       "3            2.0  South America  \n",
       "4            0.5         Europe  "
      ]
     },
     "execution_count": 15,
     "metadata": {},
     "output_type": "execute_result"
    }
   ],
   "source": [
    "#hide\n",
    "df_table = (pd.DataFrame(dict(Cases=dfc_cases, Deaths=dfc_deaths, PCases=dfp_cases, PDeaths=dfp_deaths))\n",
    "             .sort_values(by=['Cases', 'Deaths'], ascending=[False, False])\n",
    "             .reset_index())\n",
    "df_table.rename(columns={'index': 'Country/Region'}, inplace=True)\n",
    "for c in 'Cases, Deaths'.split(', '):\n",
    "    df_table[f'{c} (+)'] = (df_table[c] - df_table[f'P{c}']).clip(0)  # DATA BUG\n",
    "df_table['Fatality Rate'] = (100 * df_table['Deaths'] / df_table['Cases']).round(1)\n",
    "df_table['Continent'] = df_table['Country/Region'].map(mapping['map.continent'])\n",
    "df_table.head(5)"
   ]
  },
  {
   "cell_type": "code",
   "execution_count": 16,
   "id": "fewer-occasion",
   "metadata": {
    "execution": {
     "iopub.execute_input": "2022-09-13T12:20:41.298850Z",
     "iopub.status.busy": "2022-09-13T12:20:41.298270Z",
     "iopub.status.idle": "2022-09-13T12:20:41.300687Z",
     "shell.execute_reply": "2022-09-13T12:20:41.300252Z"
    },
    "papermill": {
     "duration": 0.03783,
     "end_time": "2022-09-13T12:20:41.300783",
     "exception": false,
     "start_time": "2022-09-13T12:20:41.262953",
     "status": "completed"
    },
    "tags": []
   },
   "outputs": [],
   "source": [
    "#hide\n",
    "#delete problematic countries from table\n",
    "df_table = df_table[~df_table['Country/Region'].isin(['Cape Verde', 'Cruise Ship', 'Kosovo'])]"
   ]
  },
  {
   "cell_type": "code",
   "execution_count": 17,
   "id": "related-center",
   "metadata": {
    "execution": {
     "iopub.execute_input": "2022-09-13T12:20:41.372484Z",
     "iopub.status.busy": "2022-09-13T12:20:41.371935Z",
     "iopub.status.idle": "2022-09-13T12:20:41.381693Z",
     "shell.execute_reply": "2022-09-13T12:20:41.381222Z"
    },
    "papermill": {
     "duration": 0.050027,
     "end_time": "2022-09-13T12:20:41.381793",
     "exception": false,
     "start_time": "2022-09-13T12:20:41.331766",
     "status": "completed"
    },
    "tags": []
   },
   "outputs": [],
   "source": [
    "#hide\n",
    "metrics = [df_table.columns[index] for index in [1,2,5,6]]\n",
    "# s_china = df_table[df_table['Country/Region'].eq('China')][metrics].sum().add_prefix('China ')\n",
    "s_us = df_table[df_table['Country/Region'].eq('US')][metrics].sum().add_prefix('US ')\n",
    "s_eu = df_table[df_table['Continent'].eq('Europe')][metrics].sum().add_prefix('EU ')\n",
    "s_ind = df_table[df_table['Country/Region'].eq('India')][metrics].sum().add_prefix('India ')\n",
    "summary = {'updated': pd.to_datetime(dt_today), 'since': pd.to_datetime(dt_yday)}\n",
    "summary = {'updated': pd.to_datetime(dt_today), 'since': pd.to_datetime(dt_yday)}\n",
    "summary = {**summary, **df_table[metrics].sum(), **s_ind, **s_us, **s_eu}"
   ]
  },
  {
   "cell_type": "code",
   "execution_count": 18,
   "id": "engaging-syndrome",
   "metadata": {
    "execution": {
     "iopub.execute_input": "2022-09-13T12:20:41.448694Z",
     "iopub.status.busy": "2022-09-13T12:20:41.448139Z",
     "iopub.status.idle": "2022-09-13T12:20:41.466896Z",
     "shell.execute_reply": "2022-09-13T12:20:41.466364Z"
    },
    "papermill": {
     "duration": 0.053918,
     "end_time": "2022-09-13T12:20:41.466997",
     "exception": false,
     "start_time": "2022-09-13T12:20:41.413079",
     "status": "completed"
    },
    "tags": []
   },
   "outputs": [],
   "source": [
    "#hide\n",
    "dft_ct_new_cases = dft_cases.groupby(COL_REGION)[dt_cols].sum().diff(axis=1).fillna(0).astype(int)"
   ]
  },
  {
   "cell_type": "code",
   "execution_count": 19,
   "id": "neutral-assignment",
   "metadata": {
    "execution": {
     "iopub.execute_input": "2022-09-13T12:20:41.535061Z",
     "iopub.status.busy": "2022-09-13T12:20:41.534488Z",
     "iopub.status.idle": "2022-09-13T12:20:41.536808Z",
     "shell.execute_reply": "2022-09-13T12:20:41.536282Z"
    },
    "papermill": {
     "duration": 0.03891,
     "end_time": "2022-09-13T12:20:41.536906",
     "exception": false,
     "start_time": "2022-09-13T12:20:41.497996",
     "status": "completed"
    },
    "tags": []
   },
   "outputs": [],
   "source": [
    "#hide\n",
    "everydaycases = dft_ct_new_cases.cumsum(axis=1)"
   ]
  },
  {
   "cell_type": "code",
   "execution_count": 20,
   "id": "parliamentary-calgary",
   "metadata": {
    "execution": {
     "iopub.execute_input": "2022-09-13T12:20:41.602914Z",
     "iopub.status.busy": "2022-09-13T12:20:41.602360Z",
     "iopub.status.idle": "2022-09-13T12:20:42.145137Z",
     "shell.execute_reply": "2022-09-13T12:20:42.144642Z"
    },
    "papermill": {
     "duration": 0.577249,
     "end_time": "2022-09-13T12:20:42.145256",
     "exception": false,
     "start_time": "2022-09-13T12:20:41.568007",
     "status": "completed"
    },
    "tags": []
   },
   "outputs": [],
   "source": [
    "#hide\n",
    "import pandas as pd\n",
    "import matplotlib.pyplot as plt\n",
    "import matplotlib.ticker as ticker\n",
    "import matplotlib.animation as animation\n",
    "from IPython.display import HTML"
   ]
  },
  {
   "cell_type": "code",
   "execution_count": 21,
   "id": "lasting-extraction",
   "metadata": {
    "execution": {
     "iopub.execute_input": "2022-09-13T12:20:42.213451Z",
     "iopub.status.busy": "2022-09-13T12:20:42.212852Z",
     "iopub.status.idle": "2022-09-13T12:20:42.219222Z",
     "shell.execute_reply": "2022-09-13T12:20:42.219739Z"
    },
    "papermill": {
     "duration": 0.043401,
     "end_time": "2022-09-13T12:20:42.219854",
     "exception": false,
     "start_time": "2022-09-13T12:20:42.176453",
     "status": "completed"
    },
    "tags": []
   },
   "outputs": [],
   "source": [
    "#hide\n",
    "t = everydaycases.stack()"
   ]
  },
  {
   "cell_type": "code",
   "execution_count": 22,
   "id": "premier-sleeve",
   "metadata": {
    "execution": {
     "iopub.execute_input": "2022-09-13T12:20:42.286277Z",
     "iopub.status.busy": "2022-09-13T12:20:42.285722Z",
     "iopub.status.idle": "2022-09-13T12:20:42.297131Z",
     "shell.execute_reply": "2022-09-13T12:20:42.296587Z"
    },
    "papermill": {
     "duration": 0.046195,
     "end_time": "2022-09-13T12:20:42.297234",
     "exception": false,
     "start_time": "2022-09-13T12:20:42.251039",
     "status": "completed"
    },
    "tags": []
   },
   "outputs": [],
   "source": [
    "#hide\n",
    "g = t.reset_index(['Country/Region'])"
   ]
  },
  {
   "cell_type": "code",
   "execution_count": 23,
   "id": "distributed-pittsburgh",
   "metadata": {
    "execution": {
     "iopub.execute_input": "2022-09-13T12:20:42.363141Z",
     "iopub.status.busy": "2022-09-13T12:20:42.362580Z",
     "iopub.status.idle": "2022-09-13T12:20:42.365035Z",
     "shell.execute_reply": "2022-09-13T12:20:42.364513Z"
    },
    "papermill": {
     "duration": 0.03683,
     "end_time": "2022-09-13T12:20:42.365132",
     "exception": false,
     "start_time": "2022-09-13T12:20:42.328302",
     "status": "completed"
    },
    "tags": []
   },
   "outputs": [],
   "source": [
    "#hide\n",
    "g.index.name = 'date'"
   ]
  },
  {
   "cell_type": "code",
   "execution_count": 24,
   "id": "naked-donor",
   "metadata": {
    "execution": {
     "iopub.execute_input": "2022-09-13T12:20:42.430513Z",
     "iopub.status.busy": "2022-09-13T12:20:42.429946Z",
     "iopub.status.idle": "2022-09-13T12:20:42.432441Z",
     "shell.execute_reply": "2022-09-13T12:20:42.431999Z"
    },
    "papermill": {
     "duration": 0.036301,
     "end_time": "2022-09-13T12:20:42.432543",
     "exception": false,
     "start_time": "2022-09-13T12:20:42.396242",
     "status": "completed"
    },
    "tags": []
   },
   "outputs": [],
   "source": [
    "# #hide\n",
    "# g = g.reset_index(['date'])"
   ]
  },
  {
   "cell_type": "code",
   "execution_count": 25,
   "id": "incomplete-mustang",
   "metadata": {
    "execution": {
     "iopub.execute_input": "2022-09-13T12:20:42.497764Z",
     "iopub.status.busy": "2022-09-13T12:20:42.497174Z",
     "iopub.status.idle": "2022-09-13T12:20:42.499634Z",
     "shell.execute_reply": "2022-09-13T12:20:42.499196Z"
    },
    "papermill": {
     "duration": 0.036192,
     "end_time": "2022-09-13T12:20:42.499733",
     "exception": false,
     "start_time": "2022-09-13T12:20:42.463541",
     "status": "completed"
    },
    "tags": []
   },
   "outputs": [],
   "source": [
    "#hide\n",
    "# g.head()"
   ]
  },
  {
   "cell_type": "code",
   "execution_count": 26,
   "id": "specific-kruger",
   "metadata": {
    "execution": {
     "iopub.execute_input": "2022-09-13T12:20:42.565592Z",
     "iopub.status.busy": "2022-09-13T12:20:42.565016Z",
     "iopub.status.idle": "2022-09-13T12:20:42.566908Z",
     "shell.execute_reply": "2022-09-13T12:20:42.567303Z"
    },
    "papermill": {
     "duration": 0.036431,
     "end_time": "2022-09-13T12:20:42.567418",
     "exception": false,
     "start_time": "2022-09-13T12:20:42.530987",
     "status": "completed"
    },
    "tags": []
   },
   "outputs": [],
   "source": [
    "#hide\n",
    "# g.columns = ['date','country','cases']"
   ]
  },
  {
   "cell_type": "code",
   "execution_count": 27,
   "id": "tender-conversion",
   "metadata": {
    "execution": {
     "iopub.execute_input": "2022-09-13T12:20:42.632986Z",
     "iopub.status.busy": "2022-09-13T12:20:42.632416Z",
     "iopub.status.idle": "2022-09-13T12:20:42.634931Z",
     "shell.execute_reply": "2022-09-13T12:20:42.634408Z"
    },
    "papermill": {
     "duration": 0.036516,
     "end_time": "2022-09-13T12:20:42.635031",
     "exception": false,
     "start_time": "2022-09-13T12:20:42.598515",
     "status": "completed"
    },
    "tags": []
   },
   "outputs": [],
   "source": [
    "#hide\n",
    "# g['continent'] = g.country"
   ]
  },
  {
   "cell_type": "code",
   "execution_count": 28,
   "id": "substantial-wilderness",
   "metadata": {
    "execution": {
     "iopub.execute_input": "2022-09-13T12:20:42.700669Z",
     "iopub.status.busy": "2022-09-13T12:20:42.700104Z",
     "iopub.status.idle": "2022-09-13T12:20:42.702589Z",
     "shell.execute_reply": "2022-09-13T12:20:42.702151Z"
    },
    "papermill": {
     "duration": 0.03633,
     "end_time": "2022-09-13T12:20:42.702689",
     "exception": false,
     "start_time": "2022-09-13T12:20:42.666359",
     "status": "completed"
    },
    "tags": []
   },
   "outputs": [],
   "source": [
    "#hide\n",
    "# cols = list(g.columns.values)"
   ]
  },
  {
   "cell_type": "code",
   "execution_count": 29,
   "id": "solved-farming",
   "metadata": {
    "execution": {
     "iopub.execute_input": "2022-09-13T12:20:42.768451Z",
     "iopub.status.busy": "2022-09-13T12:20:42.767879Z",
     "iopub.status.idle": "2022-09-13T12:20:42.770316Z",
     "shell.execute_reply": "2022-09-13T12:20:42.769881Z"
    },
    "papermill": {
     "duration": 0.036368,
     "end_time": "2022-09-13T12:20:42.770413",
     "exception": false,
     "start_time": "2022-09-13T12:20:42.734045",
     "status": "completed"
    },
    "tags": []
   },
   "outputs": [],
   "source": [
    "#hide\n",
    "# cols.insert(0, cols.pop())"
   ]
  },
  {
   "cell_type": "code",
   "execution_count": 30,
   "id": "executed-adoption",
   "metadata": {
    "execution": {
     "iopub.execute_input": "2022-09-13T12:20:42.835703Z",
     "iopub.status.busy": "2022-09-13T12:20:42.835137Z",
     "iopub.status.idle": "2022-09-13T12:20:42.837490Z",
     "shell.execute_reply": "2022-09-13T12:20:42.836950Z"
    },
    "papermill": {
     "duration": 0.036125,
     "end_time": "2022-09-13T12:20:42.837586",
     "exception": false,
     "start_time": "2022-09-13T12:20:42.801461",
     "status": "completed"
    },
    "tags": []
   },
   "outputs": [],
   "source": [
    "#hide\n",
    "# g = g[cols]"
   ]
  },
  {
   "cell_type": "code",
   "execution_count": 31,
   "id": "subject-dublin",
   "metadata": {
    "execution": {
     "iopub.execute_input": "2022-09-13T12:20:42.902718Z",
     "iopub.status.busy": "2022-09-13T12:20:42.902165Z",
     "iopub.status.idle": "2022-09-13T12:20:42.904626Z",
     "shell.execute_reply": "2022-09-13T12:20:42.904196Z"
    },
    "papermill": {
     "duration": 0.036089,
     "end_time": "2022-09-13T12:20:42.904721",
     "exception": false,
     "start_time": "2022-09-13T12:20:42.868632",
     "status": "completed"
    },
    "tags": []
   },
   "outputs": [],
   "source": [
    "#hide\n",
    "# g['continent'] = g['continent'].map(mapping['map.continent'])"
   ]
  },
  {
   "cell_type": "code",
   "execution_count": 32,
   "id": "freelance-scout",
   "metadata": {
    "execution": {
     "iopub.execute_input": "2022-09-13T12:20:42.969906Z",
     "iopub.status.busy": "2022-09-13T12:20:42.969354Z",
     "iopub.status.idle": "2022-09-13T12:20:42.972191Z",
     "shell.execute_reply": "2022-09-13T12:20:42.971665Z"
    },
    "papermill": {
     "duration": 0.036489,
     "end_time": "2022-09-13T12:20:42.972287",
     "exception": false,
     "start_time": "2022-09-13T12:20:42.935798",
     "status": "completed"
    },
    "tags": []
   },
   "outputs": [],
   "source": [
    "#hide\n",
    "# g.head()"
   ]
  },
  {
   "cell_type": "code",
   "execution_count": 33,
   "id": "limited-engine",
   "metadata": {
    "execution": {
     "iopub.execute_input": "2022-09-13T12:20:43.037594Z",
     "iopub.status.busy": "2022-09-13T12:20:43.037004Z",
     "iopub.status.idle": "2022-09-13T12:20:43.039442Z",
     "shell.execute_reply": "2022-09-13T12:20:43.039002Z"
    },
    "papermill": {
     "duration": 0.036341,
     "end_time": "2022-09-13T12:20:43.039537",
     "exception": false,
     "start_time": "2022-09-13T12:20:43.003196",
     "status": "completed"
    },
    "tags": []
   },
   "outputs": [],
   "source": [
    "# hide\n",
    "# g['date'] = g['date'].astype('datetime64[ns]')"
   ]
  },
  {
   "cell_type": "code",
   "execution_count": 34,
   "id": "sophisticated-supervisor",
   "metadata": {
    "execution": {
     "iopub.execute_input": "2022-09-13T12:20:43.105538Z",
     "iopub.status.busy": "2022-09-13T12:20:43.104945Z",
     "iopub.status.idle": "2022-09-13T12:20:43.106986Z",
     "shell.execute_reply": "2022-09-13T12:20:43.107401Z"
    },
    "papermill": {
     "duration": 0.036551,
     "end_time": "2022-09-13T12:20:43.107512",
     "exception": false,
     "start_time": "2022-09-13T12:20:43.070961",
     "status": "completed"
    },
    "tags": []
   },
   "outputs": [],
   "source": [
    "#hide\n",
    "# g['date'] = g.date.dt.dayofyear"
   ]
  },
  {
   "cell_type": "code",
   "execution_count": 35,
   "id": "inside-dubai",
   "metadata": {
    "execution": {
     "iopub.execute_input": "2022-09-13T12:20:43.172985Z",
     "iopub.status.busy": "2022-09-13T12:20:43.172411Z",
     "iopub.status.idle": "2022-09-13T12:20:43.174875Z",
     "shell.execute_reply": "2022-09-13T12:20:43.174351Z"
    },
    "papermill": {
     "duration": 0.036436,
     "end_time": "2022-09-13T12:20:43.174972",
     "exception": false,
     "start_time": "2022-09-13T12:20:43.138536",
     "status": "completed"
    },
    "tags": []
   },
   "outputs": [],
   "source": [
    "#hide\n",
    "# g = g.rename(columns= {'continent':'group','country':'name','cases':'value'})"
   ]
  },
  {
   "cell_type": "code",
   "execution_count": 36,
   "id": "fleet-motorcycle",
   "metadata": {
    "execution": {
     "iopub.execute_input": "2022-09-13T12:20:43.240393Z",
     "iopub.status.busy": "2022-09-13T12:20:43.239824Z",
     "iopub.status.idle": "2022-09-13T12:20:43.242197Z",
     "shell.execute_reply": "2022-09-13T12:20:43.241673Z"
    },
    "papermill": {
     "duration": 0.036138,
     "end_time": "2022-09-13T12:20:43.242295",
     "exception": false,
     "start_time": "2022-09-13T12:20:43.206157",
     "status": "completed"
    },
    "tags": []
   },
   "outputs": [],
   "source": [
    "#hide\n",
    "# cols = ['name','group','day','value']"
   ]
  },
  {
   "cell_type": "code",
   "execution_count": 37,
   "id": "continued-sleeping",
   "metadata": {
    "execution": {
     "iopub.execute_input": "2022-09-13T12:20:43.307752Z",
     "iopub.status.busy": "2022-09-13T12:20:43.307184Z",
     "iopub.status.idle": "2022-09-13T12:20:43.309629Z",
     "shell.execute_reply": "2022-09-13T12:20:43.309175Z"
    },
    "papermill": {
     "duration": 0.036345,
     "end_time": "2022-09-13T12:20:43.309727",
     "exception": false,
     "start_time": "2022-09-13T12:20:43.273382",
     "status": "completed"
    },
    "tags": []
   },
   "outputs": [],
   "source": [
    "#hide\n",
    "# g.rename(columns= {'date':'day'},inplace = True)"
   ]
  },
  {
   "cell_type": "code",
   "execution_count": 38,
   "id": "major-fight",
   "metadata": {
    "execution": {
     "iopub.execute_input": "2022-09-13T12:20:43.375240Z",
     "iopub.status.busy": "2022-09-13T12:20:43.374657Z",
     "iopub.status.idle": "2022-09-13T12:20:43.377079Z",
     "shell.execute_reply": "2022-09-13T12:20:43.376634Z"
    },
    "papermill": {
     "duration": 0.036434,
     "end_time": "2022-09-13T12:20:43.377179",
     "exception": false,
     "start_time": "2022-09-13T12:20:43.340745",
     "status": "completed"
    },
    "tags": []
   },
   "outputs": [],
   "source": [
    "#hide\n",
    "# g = g[cols]"
   ]
  },
  {
   "cell_type": "code",
   "execution_count": 39,
   "id": "structured-mobile",
   "metadata": {
    "execution": {
     "iopub.execute_input": "2022-09-13T12:20:43.442707Z",
     "iopub.status.busy": "2022-09-13T12:20:43.442135Z",
     "iopub.status.idle": "2022-09-13T12:20:43.444158Z",
     "shell.execute_reply": "2022-09-13T12:20:43.444574Z"
    },
    "papermill": {
     "duration": 0.03647,
     "end_time": "2022-09-13T12:20:43.444682",
     "exception": false,
     "start_time": "2022-09-13T12:20:43.408212",
     "status": "completed"
    },
    "tags": []
   },
   "outputs": [],
   "source": [
    "# #hide\n",
    "# g = g[g.group.notna()]"
   ]
  },
  {
   "cell_type": "code",
   "execution_count": 40,
   "id": "determined-closing",
   "metadata": {
    "execution": {
     "iopub.execute_input": "2022-09-13T12:20:43.510571Z",
     "iopub.status.busy": "2022-09-13T12:20:43.510017Z",
     "iopub.status.idle": "2022-09-13T12:20:43.512515Z",
     "shell.execute_reply": "2022-09-13T12:20:43.512070Z"
    },
    "papermill": {
     "duration": 0.036707,
     "end_time": "2022-09-13T12:20:43.512613",
     "exception": false,
     "start_time": "2022-09-13T12:20:43.475906",
     "status": "completed"
    },
    "tags": []
   },
   "outputs": [],
   "source": [
    "# #hide\n",
    "# colors = dict(zip(\n",
    "#     [\"Oceania\", \"Europe\", \"Asia\", \"South America\", \"Middle East\", \"North America\", \"Africa\"],\n",
    "#     [\"#adb0ff\", \"#ffb3ff\", \"#90d595\", \"#e48381\", \"#aafbff\", \"#f7bb5f\", \"#eafb50\"]\n",
    "# ))\n",
    "# group_lk = g.set_index('name')['group'].to_dict()"
   ]
  },
  {
   "cell_type": "code",
   "execution_count": null,
   "id": "gross-drinking",
   "metadata": {
    "papermill": {
     "duration": 0.03098,
     "end_time": "2022-09-13T12:20:43.574603",
     "exception": false,
     "start_time": "2022-09-13T12:20:43.543623",
     "status": "completed"
    },
    "tags": []
   },
   "outputs": [],
   "source": []
  },
  {
   "cell_type": "code",
   "execution_count": 41,
   "id": "subject-macintosh",
   "metadata": {
    "execution": {
     "iopub.execute_input": "2022-09-13T12:20:43.641099Z",
     "iopub.status.busy": "2022-09-13T12:20:43.640527Z",
     "iopub.status.idle": "2022-09-13T12:20:43.642956Z",
     "shell.execute_reply": "2022-09-13T12:20:43.642432Z"
    },
    "papermill": {
     "duration": 0.037264,
     "end_time": "2022-09-13T12:20:43.643053",
     "exception": false,
     "start_time": "2022-09-13T12:20:43.605789",
     "status": "completed"
    },
    "tags": []
   },
   "outputs": [],
   "source": [
    "# #hide\n",
    "# fig, ax = plt.subplots(figsize=(15, 8))\n",
    "\n",
    "# def draw_barchart(current_day):\n",
    "#     dff = g[g['day'].eq(current_day)].sort_values(by='value', ascending=True).tail(10)\n",
    "#     ax.clear()\n",
    "#     ax.barh(dff['name'], dff['value'], color=[colors[group_lk[x]] for x in dff['name']])\n",
    "#     dx = dff['value'].max() / 200\n",
    "    \n",
    "#     for i, (value, name) in enumerate(zip(dff['value'], dff['name'])):\n",
    "#         ax.text(value-dx, i,     name,           size=14, weight=600, ha='right', va='bottom')\n",
    "#         ax.text(value-dx, i-.25, group_lk[name], size=10, color='#444444', ha='right', va='baseline')\n",
    "#         ax.text(value+dx, i,     f'{value:,.0f}',  size=14, ha='left',  va='center')\n",
    "#     ax.text(1, 0.4, current_day, transform=ax.transAxes, color='#777777', size=46, ha='right', weight=800)\n",
    "#     ax.text(0, 1.06, 'Population (thousands)', transform=ax.transAxes, size=12, color='#777777')\n",
    "#     ax.xaxis.set_major_formatter(ticker.StrMethodFormatter('{x:,.0f}'))\n",
    "#     ax.xaxis.set_ticks_position('top')\n",
    "#     ax.tick_params(axis='x', colors='#777777', labelsize=12)\n",
    "#     ax.set_yticks([])\n",
    "#     ax.margins(0, 0.01)\n",
    "#     ax.grid(which='major', axis='x', linestyle='-')\n",
    "#     ax.set_axisbelow(True)\n",
    "    \n",
    "#     ax.text(0, 1.15, 'Coronavirus',\n",
    "#             transform=ax.transAxes, size=24, weight=600, ha='left', va='top')\n",
    "# #     ax.text(1, 0, 'by @pratapvardhan; credit @jburnmurdoch', transform=ax.transAxes, color='#777777', ha='right',\n",
    "# #             bbox=dict(facecolor='white', alpha=0.8, edgecolor='white'))\n",
    "#     plt.box(False)"
   ]
  },
  {
   "cell_type": "code",
   "execution_count": 42,
   "id": "sexual-wages",
   "metadata": {
    "execution": {
     "iopub.execute_input": "2022-09-13T12:20:43.709096Z",
     "iopub.status.busy": "2022-09-13T12:20:43.708530Z",
     "iopub.status.idle": "2022-09-13T12:20:43.709886Z",
     "shell.execute_reply": "2022-09-13T12:20:43.710403Z"
    },
    "papermill": {
     "duration": 0.036365,
     "end_time": "2022-09-13T12:20:43.710517",
     "exception": false,
     "start_time": "2022-09-13T12:20:43.674152",
     "status": "completed"
    },
    "tags": []
   },
   "outputs": [],
   "source": [
    "# #hide_input\n",
    "# fig, ax = plt.subplots(figsize=(15, 8))\n",
    "# animator = animation.FuncAnimation(fig, draw_barchart, frames=range(g.day.values.min(), g.day.values.max()))\n",
    "# HTML(animator.to_jshtml())\n",
    "# # or use animator.to_html5_video() or animator.save() "
   ]
  },
  {
   "cell_type": "code",
   "execution_count": null,
   "id": "australian-container",
   "metadata": {
    "papermill": {
     "duration": 0.031253,
     "end_time": "2022-09-13T12:20:43.773500",
     "exception": false,
     "start_time": "2022-09-13T12:20:43.742247",
     "status": "completed"
    },
    "tags": []
   },
   "outputs": [],
   "source": []
  },
  {
   "cell_type": "code",
   "execution_count": null,
   "id": "mediterranean-pontiac",
   "metadata": {
    "papermill": {
     "duration": 0.030871,
     "end_time": "2022-09-13T12:20:43.835300",
     "exception": false,
     "start_time": "2022-09-13T12:20:43.804429",
     "status": "completed"
    },
    "tags": []
   },
   "outputs": [],
   "source": []
  },
  {
   "cell_type": "code",
   "execution_count": null,
   "id": "aging-legislature",
   "metadata": {
    "papermill": {
     "duration": 0.030927,
     "end_time": "2022-09-13T12:20:43.897355",
     "exception": false,
     "start_time": "2022-09-13T12:20:43.866428",
     "status": "completed"
    },
    "tags": []
   },
   "outputs": [],
   "source": []
  }
 ],
 "metadata": {
  "kernelspec": {
   "display_name": "Python 3",
   "language": "python",
   "name": "python3"
  },
  "language_info": {
   "codemirror_mode": {
    "name": "ipython",
    "version": 3
   },
   "file_extension": ".py",
   "mimetype": "text/x-python",
   "name": "python",
   "nbconvert_exporter": "python",
   "pygments_lexer": "ipython3",
   "version": "3.6.15"
  },
  "papermill": {
   "duration": 5.814962,
   "end_time": "2022-09-13T12:20:44.246730",
   "environment_variables": {},
   "exception": null,
   "input_path": "2020-03-21-covid19exp.ipynb",
   "output_path": "2020-03-21-covid19exp.ipynb",
   "parameters": {},
   "start_time": "2022-09-13T12:20:38.431768",
   "version": "2.0.0"
  }
 },
 "nbformat": 4,
 "nbformat_minor": 5
}