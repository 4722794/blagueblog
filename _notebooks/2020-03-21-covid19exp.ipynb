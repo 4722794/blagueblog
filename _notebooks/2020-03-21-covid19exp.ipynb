{
 "cells": [
  {
   "cell_type": "markdown",
   "id": "muslim-click",
   "metadata": {
    "papermill": {
     "duration": 0.051482,
     "end_time": "2021-10-26T00:24:08.769987",
     "exception": false,
     "start_time": "2021-10-26T00:24:08.718505",
     "status": "completed"
    },
    "tags": []
   },
   "source": [
    "# COVID-19 Case Race\n",
    "> A race chart to see rising cases around the world\n",
    "\n",
    "- author: Hargun Oberoi\n",
    "- image: images/covid-overview.png\n",
    "- hide: false\n",
    "- badges: false"
   ]
  },
  {
   "cell_type": "code",
   "execution_count": 1,
   "id": "proof-material",
   "metadata": {
    "execution": {
     "iopub.execute_input": "2021-10-26T00:24:08.870112Z",
     "iopub.status.busy": "2021-10-26T00:24:08.869348Z",
     "iopub.status.idle": "2021-10-26T00:24:09.393278Z",
     "shell.execute_reply": "2021-10-26T00:24:09.392648Z"
    },
    "papermill": {
     "duration": 0.581005,
     "end_time": "2021-10-26T00:24:09.393451",
     "exception": false,
     "start_time": "2021-10-26T00:24:08.812446",
     "status": "completed"
    },
    "tags": []
   },
   "outputs": [],
   "source": [
    "#hide\n",
    "import numpy as np\n",
    "import pandas as pd\n",
    "from jinja2 import Template\n",
    "from IPython.display import HTML"
   ]
  },
  {
   "cell_type": "code",
   "execution_count": 2,
   "id": "developed-terminology",
   "metadata": {
    "execution": {
     "iopub.execute_input": "2021-10-26T00:24:09.496908Z",
     "iopub.status.busy": "2021-10-26T00:24:09.496162Z",
     "iopub.status.idle": "2021-10-26T00:24:09.498010Z",
     "shell.execute_reply": "2021-10-26T00:24:09.498618Z"
    },
    "papermill": {
     "duration": 0.052522,
     "end_time": "2021-10-26T00:24:09.498797",
     "exception": false,
     "start_time": "2021-10-26T00:24:09.446275",
     "status": "completed"
    },
    "tags": []
   },
   "outputs": [],
   "source": [
    "#hide\n",
    "\n",
    "# FETCH\n",
    "base_url = 'https://raw.githubusercontent.com/pratapvardhan/notebooks/master/covid19/'\n",
    "paths = {\n",
    "    'mapping': base_url + 'mapping_countries.csv',\n",
    "    'overview': base_url + 'overview.tpl'\n",
    "}"
   ]
  },
  {
   "cell_type": "code",
   "execution_count": 3,
   "id": "dynamic-saver",
   "metadata": {
    "execution": {
     "iopub.execute_input": "2021-10-26T00:24:09.618774Z",
     "iopub.status.busy": "2021-10-26T00:24:09.614028Z",
     "iopub.status.idle": "2021-10-26T00:24:09.623007Z",
     "shell.execute_reply": "2021-10-26T00:24:09.622276Z"
    },
    "papermill": {
     "duration": 0.074486,
     "end_time": "2021-10-26T00:24:09.623190",
     "exception": false,
     "start_time": "2021-10-26T00:24:09.548704",
     "status": "completed"
    },
    "tags": []
   },
   "outputs": [
    {
     "data": {
      "text/plain": [
       "'https://raw.githubusercontent.com/pratapvardhan/notebooks/master/covid19/mapping_countries.csv'"
      ]
     },
     "execution_count": 3,
     "metadata": {},
     "output_type": "execute_result"
    }
   ],
   "source": [
    "#hide\n",
    "paths['mapping']"
   ]
  },
  {
   "cell_type": "code",
   "execution_count": 4,
   "id": "urban-software",
   "metadata": {
    "execution": {
     "iopub.execute_input": "2021-10-26T00:24:09.739687Z",
     "iopub.status.busy": "2021-10-26T00:24:09.738885Z",
     "iopub.status.idle": "2021-10-26T00:24:09.744914Z",
     "shell.execute_reply": "2021-10-26T00:24:09.746356Z"
    },
    "papermill": {
     "duration": 0.067591,
     "end_time": "2021-10-26T00:24:09.746669",
     "exception": false,
     "start_time": "2021-10-26T00:24:09.679078",
     "status": "completed"
    },
    "tags": []
   },
   "outputs": [],
   "source": [
    "#hide\n",
    "def get_mappings(url):\n",
    "    df = pd.read_csv(url)\n",
    "    return {\n",
    "        'df': df,\n",
    "        'replace.country': dict(df.dropna(subset=['Name']).set_index('Country')['Name']),\n",
    "        'map.continent': dict(df.set_index('Name')['Continent'])\n",
    "    }"
   ]
  },
  {
   "cell_type": "code",
   "execution_count": 5,
   "id": "intimate-machinery",
   "metadata": {
    "execution": {
     "iopub.execute_input": "2021-10-26T00:24:09.836888Z",
     "iopub.status.busy": "2021-10-26T00:24:09.835773Z",
     "iopub.status.idle": "2021-10-26T00:24:09.894028Z",
     "shell.execute_reply": "2021-10-26T00:24:09.891577Z"
    },
    "papermill": {
     "duration": 0.104691,
     "end_time": "2021-10-26T00:24:09.894344",
     "exception": false,
     "start_time": "2021-10-26T00:24:09.789653",
     "status": "completed"
    },
    "tags": []
   },
   "outputs": [],
   "source": [
    "#hide\n",
    "mapping = get_mappings(paths['mapping'])"
   ]
  },
  {
   "cell_type": "code",
   "execution_count": 6,
   "id": "certified-tactics",
   "metadata": {
    "execution": {
     "iopub.execute_input": "2021-10-26T00:24:09.994054Z",
     "iopub.status.busy": "2021-10-26T00:24:09.992816Z",
     "iopub.status.idle": "2021-10-26T00:24:09.994816Z",
     "shell.execute_reply": "2021-10-26T00:24:09.995565Z"
    },
    "papermill": {
     "duration": 0.051797,
     "end_time": "2021-10-26T00:24:09.995751",
     "exception": false,
     "start_time": "2021-10-26T00:24:09.943954",
     "status": "completed"
    },
    "tags": []
   },
   "outputs": [],
   "source": [
    "#hide\n",
    "def get_template(path):\n",
    "    from urllib.parse import urlparse\n",
    "    if bool(urlparse(path).netloc):\n",
    "        from urllib.request import urlopen\n",
    "        return urlopen(path).read().decode('utf8')\n",
    "    return open(path).read()"
   ]
  },
  {
   "cell_type": "code",
   "execution_count": 7,
   "id": "realistic-blast",
   "metadata": {
    "execution": {
     "iopub.execute_input": "2021-10-26T00:24:10.098825Z",
     "iopub.status.busy": "2021-10-26T00:24:10.097800Z",
     "iopub.status.idle": "2021-10-26T00:24:10.101848Z",
     "shell.execute_reply": "2021-10-26T00:24:10.101022Z"
    },
    "papermill": {
     "duration": 0.057759,
     "end_time": "2021-10-26T00:24:10.102006",
     "exception": false,
     "start_time": "2021-10-26T00:24:10.044247",
     "status": "completed"
    },
    "tags": []
   },
   "outputs": [],
   "source": [
    "#hide\n",
    "def get_frame(name):\n",
    "    url = (\n",
    "        'https://raw.githubusercontent.com/CSSEGISandData/COVID-19/master/csse_covid_19_data/'\n",
    "        f'csse_covid_19_time_series/time_series_covid19_{name}_global.csv')\n",
    "    df = pd.read_csv(url)\n",
    "    # rename countries\n",
    "    df['Country/Region'] = df['Country/Region'].replace(mapping['replace.country'])\n",
    "    return df"
   ]
  },
  {
   "cell_type": "code",
   "execution_count": 8,
   "id": "affiliated-characterization",
   "metadata": {
    "execution": {
     "iopub.execute_input": "2021-10-26T00:24:10.204711Z",
     "iopub.status.busy": "2021-10-26T00:24:10.204004Z",
     "iopub.status.idle": "2021-10-26T00:24:10.206689Z",
     "shell.execute_reply": "2021-10-26T00:24:10.206085Z"
    },
    "papermill": {
     "duration": 0.052436,
     "end_time": "2021-10-26T00:24:10.206837",
     "exception": false,
     "start_time": "2021-10-26T00:24:10.154401",
     "status": "completed"
    },
    "tags": []
   },
   "outputs": [],
   "source": [
    "#hide\n",
    "def get_dates(df):\n",
    "    dt_cols = df.columns[~df.columns.isin(['Province/State', 'Country/Region', 'Lat', 'Long'])]\n",
    "    LAST_DATE_I = -1\n",
    "    # sometimes last column may be empty, then go backwards\n",
    "    for i in range(-1, -len(dt_cols), -1):\n",
    "        if not df[dt_cols[i]].fillna(0).eq(0).all():\n",
    "            LAST_DATE_I = i\n",
    "            break\n",
    "    return LAST_DATE_I, dt_cols"
   ]
  },
  {
   "cell_type": "code",
   "execution_count": 9,
   "id": "recent-optimization",
   "metadata": {
    "execution": {
     "iopub.execute_input": "2021-10-26T00:24:10.291563Z",
     "iopub.status.busy": "2021-10-26T00:24:10.290707Z",
     "iopub.status.idle": "2021-10-26T00:24:10.839973Z",
     "shell.execute_reply": "2021-10-26T00:24:10.839325Z"
    },
    "papermill": {
     "duration": 0.593749,
     "end_time": "2021-10-26T00:24:10.840140",
     "exception": false,
     "start_time": "2021-10-26T00:24:10.246391",
     "status": "completed"
    },
    "tags": []
   },
   "outputs": [],
   "source": [
    "#hide\n",
    "COL_REGION = 'Country/Region'\n",
    "# Confirmed, Recovered, Deaths\n",
    "df = get_frame('confirmed')\n",
    "# dft_: timeseries, dfc_: today country agg\n",
    "dft_cases = df\n",
    "dft_deaths = get_frame('deaths')\n",
    "dft_recovered = get_frame('recovered')\n",
    "LAST_DATE_I, dt_cols = get_dates(df)"
   ]
  },
  {
   "cell_type": "code",
   "execution_count": 10,
   "id": "absolute-copper",
   "metadata": {
    "execution": {
     "iopub.execute_input": "2021-10-26T00:24:10.940198Z",
     "iopub.status.busy": "2021-10-26T00:24:10.939231Z",
     "iopub.status.idle": "2021-10-26T00:24:10.941467Z",
     "shell.execute_reply": "2021-10-26T00:24:10.940868Z"
    },
    "papermill": {
     "duration": 0.061191,
     "end_time": "2021-10-26T00:24:10.941624",
     "exception": false,
     "start_time": "2021-10-26T00:24:10.880433",
     "status": "completed"
    },
    "tags": []
   },
   "outputs": [],
   "source": [
    "#hide\n",
    "LAST_DATE_I, dt_cols = get_dates(df)\n",
    "dt_today =dt_cols[LAST_DATE_I]\n",
    "# dt_5day = dt_cols[LAST_DATE_I - 5]\n",
    "dt_yday = dt_cols[LAST_DATE_I - 1]"
   ]
  },
  {
   "cell_type": "code",
   "execution_count": 11,
   "id": "restricted-sheriff",
   "metadata": {
    "execution": {
     "iopub.execute_input": "2021-10-26T00:24:11.033693Z",
     "iopub.status.busy": "2021-10-26T00:24:11.032985Z",
     "iopub.status.idle": "2021-10-26T00:24:11.043381Z",
     "shell.execute_reply": "2021-10-26T00:24:11.044007Z"
    },
    "papermill": {
     "duration": 0.055946,
     "end_time": "2021-10-26T00:24:11.044184",
     "exception": false,
     "start_time": "2021-10-26T00:24:10.988238",
     "status": "completed"
    },
    "tags": []
   },
   "outputs": [],
   "source": [
    "#hide\n",
    "dfc_cases = dft_cases.groupby(COL_REGION)[dt_today].sum()\n",
    "dfc_deaths = dft_deaths.groupby(COL_REGION)[dt_today].sum()\n",
    "# dfp_cases = dft_cases.groupby(COL_REGION)[dt_5day].sum()\n",
    "# dfp_deaths = dft_deaths.groupby(COL_REGION)[dt_5day].sum()\n",
    "dfp_cases = dft_cases.groupby(COL_REGION)[dt_yday].sum()\n",
    "dfp_deaths = dft_deaths.groupby(COL_REGION)[dt_yday].sum()"
   ]
  },
  {
   "cell_type": "code",
   "execution_count": 12,
   "id": "deluxe-hepatitis",
   "metadata": {
    "execution": {
     "iopub.execute_input": "2021-10-26T00:24:11.131310Z",
     "iopub.status.busy": "2021-10-26T00:24:11.130333Z",
     "iopub.status.idle": "2021-10-26T00:24:11.147430Z",
     "shell.execute_reply": "2021-10-26T00:24:11.146690Z"
    },
    "papermill": {
     "duration": 0.063284,
     "end_time": "2021-10-26T00:24:11.147742",
     "exception": false,
     "start_time": "2021-10-26T00:24:11.084458",
     "status": "completed"
    },
    "tags": []
   },
   "outputs": [],
   "source": [
    "#hide\n",
    "df_table = (pd.DataFrame(dict(Cases = dfc_cases, Deaths = dfc_deaths, PCases = dfp_cases, PDeaths = dfp_deaths))\n",
    "            .sort_values(by = ['Cases','Deaths'], ascending = [False, False])\n",
    "            .reset_index())"
   ]
  },
  {
   "cell_type": "code",
   "execution_count": 13,
   "id": "educational-chancellor",
   "metadata": {
    "execution": {
     "iopub.execute_input": "2021-10-26T00:24:11.263033Z",
     "iopub.status.busy": "2021-10-26T00:24:11.249081Z",
     "iopub.status.idle": "2021-10-26T00:24:11.275750Z",
     "shell.execute_reply": "2021-10-26T00:24:11.276319Z"
    },
    "papermill": {
     "duration": 0.078724,
     "end_time": "2021-10-26T00:24:11.276515",
     "exception": false,
     "start_time": "2021-10-26T00:24:11.197791",
     "status": "completed"
    },
    "tags": []
   },
   "outputs": [
    {
     "data": {
      "text/html": [
       "<div>\n",
       "<style scoped>\n",
       "    .dataframe tbody tr th:only-of-type {\n",
       "        vertical-align: middle;\n",
       "    }\n",
       "\n",
       "    .dataframe tbody tr th {\n",
       "        vertical-align: top;\n",
       "    }\n",
       "\n",
       "    .dataframe thead th {\n",
       "        text-align: right;\n",
       "    }\n",
       "</style>\n",
       "<table border=\"1\" class=\"dataframe\">\n",
       "  <thead>\n",
       "    <tr style=\"text-align: right;\">\n",
       "      <th></th>\n",
       "      <th>Country/Region</th>\n",
       "      <th>Cases</th>\n",
       "      <th>Deaths</th>\n",
       "      <th>PCases</th>\n",
       "      <th>PDeaths</th>\n",
       "      <th>Cases (+)</th>\n",
       "      <th>Deaths (+)</th>\n",
       "      <th>Fatality Rate</th>\n",
       "      <th>Continent</th>\n",
       "    </tr>\n",
       "  </thead>\n",
       "  <tbody>\n",
       "    <tr>\n",
       "      <th>0</th>\n",
       "      <td>US</td>\n",
       "      <td>45444260</td>\n",
       "      <td>735941</td>\n",
       "      <td>45427464</td>\n",
       "      <td>735800</td>\n",
       "      <td>16796</td>\n",
       "      <td>141</td>\n",
       "      <td>1.62</td>\n",
       "      <td>North America</td>\n",
       "    </tr>\n",
       "    <tr>\n",
       "      <th>1</th>\n",
       "      <td>India</td>\n",
       "      <td>34189774</td>\n",
       "      <td>454712</td>\n",
       "      <td>34175468</td>\n",
       "      <td>454269</td>\n",
       "      <td>14306</td>\n",
       "      <td>443</td>\n",
       "      <td>1.33</td>\n",
       "      <td>Asia</td>\n",
       "    </tr>\n",
       "    <tr>\n",
       "      <th>2</th>\n",
       "      <td>Brazil</td>\n",
       "      <td>21729763</td>\n",
       "      <td>605644</td>\n",
       "      <td>21723559</td>\n",
       "      <td>605457</td>\n",
       "      <td>6204</td>\n",
       "      <td>187</td>\n",
       "      <td>2.79</td>\n",
       "      <td>South America</td>\n",
       "    </tr>\n",
       "    <tr>\n",
       "      <th>3</th>\n",
       "      <td>United Kingdom</td>\n",
       "      <td>8814735</td>\n",
       "      <td>139950</td>\n",
       "      <td>8775889</td>\n",
       "      <td>139878</td>\n",
       "      <td>38846</td>\n",
       "      <td>72</td>\n",
       "      <td>1.59</td>\n",
       "      <td>Europe</td>\n",
       "    </tr>\n",
       "    <tr>\n",
       "      <th>4</th>\n",
       "      <td>Russia</td>\n",
       "      <td>8112999</td>\n",
       "      <td>226464</td>\n",
       "      <td>8078309</td>\n",
       "      <td>225417</td>\n",
       "      <td>34690</td>\n",
       "      <td>1047</td>\n",
       "      <td>2.79</td>\n",
       "      <td>Europe</td>\n",
       "    </tr>\n",
       "  </tbody>\n",
       "</table>\n",
       "</div>"
      ],
      "text/plain": [
       "   Country/Region     Cases  Deaths    PCases  PDeaths  Cases (+)  Deaths (+)  \\\n",
       "0              US  45444260  735941  45427464   735800      16796         141   \n",
       "1           India  34189774  454712  34175468   454269      14306         443   \n",
       "2          Brazil  21729763  605644  21723559   605457       6204         187   \n",
       "3  United Kingdom   8814735  139950   8775889   139878      38846          72   \n",
       "4          Russia   8112999  226464   8078309   225417      34690        1047   \n",
       "\n",
       "   Fatality Rate      Continent  \n",
       "0           1.62  North America  \n",
       "1           1.33           Asia  \n",
       "2           2.79  South America  \n",
       "3           1.59         Europe  \n",
       "4           2.79         Europe  "
      ]
     },
     "execution_count": 13,
     "metadata": {},
     "output_type": "execute_result"
    }
   ],
   "source": [
    "#hide\n",
    "for c in 'Cases, Deaths'.split(', '):\n",
    "    df_table[f'{c} (+)'] = (df_table[c] - df_table[f'P{c}']).clip(0)\n",
    "    #Clip ça veut dire, les chiffres negatif sont interdit\n",
    "df_table['Fatality Rate'] = (100* df_table['Deaths']/ df_table['Cases']).round(2)\n",
    "df_table['Continent'] = df_table['Country/Region'].map(mapping['map.continent'])\n",
    "df_table.head(5)"
   ]
  },
  {
   "cell_type": "code",
   "execution_count": 14,
   "id": "aboriginal-bulgaria",
   "metadata": {
    "execution": {
     "iopub.execute_input": "2021-10-26T00:24:11.363126Z",
     "iopub.status.busy": "2021-10-26T00:24:11.362416Z",
     "iopub.status.idle": "2021-10-26T00:24:11.365346Z",
     "shell.execute_reply": "2021-10-26T00:24:11.366011Z"
    },
    "papermill": {
     "duration": 0.049668,
     "end_time": "2021-10-26T00:24:11.366184",
     "exception": false,
     "start_time": "2021-10-26T00:24:11.316516",
     "status": "completed"
    },
    "tags": []
   },
   "outputs": [],
   "source": [
    "#hide\n",
    "#delete problematic countries from table\n",
    "df_table = df_table[~df_table['Country/Region'].isin(['Cape Verde', 'Cruise Ship', 'Kosovo'])]"
   ]
  },
  {
   "cell_type": "code",
   "execution_count": 15,
   "id": "fantastic-effect",
   "metadata": {
    "execution": {
     "iopub.execute_input": "2021-10-26T00:24:11.455256Z",
     "iopub.status.busy": "2021-10-26T00:24:11.454423Z",
     "iopub.status.idle": "2021-10-26T00:24:11.489177Z",
     "shell.execute_reply": "2021-10-26T00:24:11.490096Z"
    },
    "papermill": {
     "duration": 0.084448,
     "end_time": "2021-10-26T00:24:11.490297",
     "exception": false,
     "start_time": "2021-10-26T00:24:11.405849",
     "status": "completed"
    },
    "tags": []
   },
   "outputs": [
    {
     "data": {
      "text/html": [
       "<div>\n",
       "<style scoped>\n",
       "    .dataframe tbody tr th:only-of-type {\n",
       "        vertical-align: middle;\n",
       "    }\n",
       "\n",
       "    .dataframe tbody tr th {\n",
       "        vertical-align: top;\n",
       "    }\n",
       "\n",
       "    .dataframe thead th {\n",
       "        text-align: right;\n",
       "    }\n",
       "</style>\n",
       "<table border=\"1\" class=\"dataframe\">\n",
       "  <thead>\n",
       "    <tr style=\"text-align: right;\">\n",
       "      <th></th>\n",
       "      <th>Country/Region</th>\n",
       "      <th>Cases</th>\n",
       "      <th>Deaths</th>\n",
       "      <th>PCases</th>\n",
       "      <th>PDeaths</th>\n",
       "      <th>Cases (+)</th>\n",
       "      <th>Deaths (+)</th>\n",
       "      <th>Fatality Rate</th>\n",
       "      <th>Continent</th>\n",
       "    </tr>\n",
       "  </thead>\n",
       "  <tbody>\n",
       "    <tr>\n",
       "      <th>0</th>\n",
       "      <td>US</td>\n",
       "      <td>45444260</td>\n",
       "      <td>735941</td>\n",
       "      <td>45427464</td>\n",
       "      <td>735800</td>\n",
       "      <td>16796</td>\n",
       "      <td>141</td>\n",
       "      <td>1.6</td>\n",
       "      <td>North America</td>\n",
       "    </tr>\n",
       "    <tr>\n",
       "      <th>1</th>\n",
       "      <td>India</td>\n",
       "      <td>34189774</td>\n",
       "      <td>454712</td>\n",
       "      <td>34175468</td>\n",
       "      <td>454269</td>\n",
       "      <td>14306</td>\n",
       "      <td>443</td>\n",
       "      <td>1.3</td>\n",
       "      <td>Asia</td>\n",
       "    </tr>\n",
       "    <tr>\n",
       "      <th>2</th>\n",
       "      <td>Brazil</td>\n",
       "      <td>21729763</td>\n",
       "      <td>605644</td>\n",
       "      <td>21723559</td>\n",
       "      <td>605457</td>\n",
       "      <td>6204</td>\n",
       "      <td>187</td>\n",
       "      <td>2.8</td>\n",
       "      <td>South America</td>\n",
       "    </tr>\n",
       "    <tr>\n",
       "      <th>3</th>\n",
       "      <td>United Kingdom</td>\n",
       "      <td>8814735</td>\n",
       "      <td>139950</td>\n",
       "      <td>8775889</td>\n",
       "      <td>139878</td>\n",
       "      <td>38846</td>\n",
       "      <td>72</td>\n",
       "      <td>1.6</td>\n",
       "      <td>Europe</td>\n",
       "    </tr>\n",
       "    <tr>\n",
       "      <th>4</th>\n",
       "      <td>Russia</td>\n",
       "      <td>8112999</td>\n",
       "      <td>226464</td>\n",
       "      <td>8078309</td>\n",
       "      <td>225417</td>\n",
       "      <td>34690</td>\n",
       "      <td>1047</td>\n",
       "      <td>2.8</td>\n",
       "      <td>Europe</td>\n",
       "    </tr>\n",
       "  </tbody>\n",
       "</table>\n",
       "</div>"
      ],
      "text/plain": [
       "   Country/Region     Cases  Deaths    PCases  PDeaths  Cases (+)  Deaths (+)  \\\n",
       "0              US  45444260  735941  45427464   735800      16796         141   \n",
       "1           India  34189774  454712  34175468   454269      14306         443   \n",
       "2          Brazil  21729763  605644  21723559   605457       6204         187   \n",
       "3  United Kingdom   8814735  139950   8775889   139878      38846          72   \n",
       "4          Russia   8112999  226464   8078309   225417      34690        1047   \n",
       "\n",
       "   Fatality Rate      Continent  \n",
       "0            1.6  North America  \n",
       "1            1.3           Asia  \n",
       "2            2.8  South America  \n",
       "3            1.6         Europe  \n",
       "4            2.8         Europe  "
      ]
     },
     "execution_count": 15,
     "metadata": {},
     "output_type": "execute_result"
    }
   ],
   "source": [
    "#hide\n",
    "df_table = (pd.DataFrame(dict(Cases=dfc_cases, Deaths=dfc_deaths, PCases=dfp_cases, PDeaths=dfp_deaths))\n",
    "             .sort_values(by=['Cases', 'Deaths'], ascending=[False, False])\n",
    "             .reset_index())\n",
    "df_table.rename(columns={'index': 'Country/Region'}, inplace=True)\n",
    "for c in 'Cases, Deaths'.split(', '):\n",
    "    df_table[f'{c} (+)'] = (df_table[c] - df_table[f'P{c}']).clip(0)  # DATA BUG\n",
    "df_table['Fatality Rate'] = (100 * df_table['Deaths'] / df_table['Cases']).round(1)\n",
    "df_table['Continent'] = df_table['Country/Region'].map(mapping['map.continent'])\n",
    "df_table.head(5)"
   ]
  },
  {
   "cell_type": "code",
   "execution_count": 16,
   "id": "fewer-occasion",
   "metadata": {
    "execution": {
     "iopub.execute_input": "2021-10-26T00:24:11.582609Z",
     "iopub.status.busy": "2021-10-26T00:24:11.581894Z",
     "iopub.status.idle": "2021-10-26T00:24:11.585781Z",
     "shell.execute_reply": "2021-10-26T00:24:11.584905Z"
    },
    "papermill": {
     "duration": 0.050634,
     "end_time": "2021-10-26T00:24:11.585990",
     "exception": false,
     "start_time": "2021-10-26T00:24:11.535356",
     "status": "completed"
    },
    "tags": []
   },
   "outputs": [],
   "source": [
    "#hide\n",
    "#delete problematic countries from table\n",
    "df_table = df_table[~df_table['Country/Region'].isin(['Cape Verde', 'Cruise Ship', 'Kosovo'])]"
   ]
  },
  {
   "cell_type": "code",
   "execution_count": 17,
   "id": "related-center",
   "metadata": {
    "execution": {
     "iopub.execute_input": "2021-10-26T00:24:11.688531Z",
     "iopub.status.busy": "2021-10-26T00:24:11.687754Z",
     "iopub.status.idle": "2021-10-26T00:24:11.704691Z",
     "shell.execute_reply": "2021-10-26T00:24:11.705283Z"
    },
    "papermill": {
     "duration": 0.079009,
     "end_time": "2021-10-26T00:24:11.705470",
     "exception": false,
     "start_time": "2021-10-26T00:24:11.626461",
     "status": "completed"
    },
    "tags": []
   },
   "outputs": [],
   "source": [
    "#hide\n",
    "metrics = [df_table.columns[index] for index in [1,2,5,6]]\n",
    "# s_china = df_table[df_table['Country/Region'].eq('China')][metrics].sum().add_prefix('China ')\n",
    "s_us = df_table[df_table['Country/Region'].eq('US')][metrics].sum().add_prefix('US ')\n",
    "s_eu = df_table[df_table['Continent'].eq('Europe')][metrics].sum().add_prefix('EU ')\n",
    "s_ind = df_table[df_table['Country/Region'].eq('India')][metrics].sum().add_prefix('India ')\n",
    "summary = {'updated': pd.to_datetime(dt_today), 'since': pd.to_datetime(dt_yday)}\n",
    "summary = {'updated': pd.to_datetime(dt_today), 'since': pd.to_datetime(dt_yday)}\n",
    "summary = {**summary, **df_table[metrics].sum(), **s_ind, **s_us, **s_eu}"
   ]
  },
  {
   "cell_type": "code",
   "execution_count": 18,
   "id": "engaging-syndrome",
   "metadata": {
    "execution": {
     "iopub.execute_input": "2021-10-26T00:24:11.795707Z",
     "iopub.status.busy": "2021-10-26T00:24:11.795002Z",
     "iopub.status.idle": "2021-10-26T00:24:11.813651Z",
     "shell.execute_reply": "2021-10-26T00:24:11.814253Z"
    },
    "papermill": {
     "duration": 0.06836,
     "end_time": "2021-10-26T00:24:11.814438",
     "exception": false,
     "start_time": "2021-10-26T00:24:11.746078",
     "status": "completed"
    },
    "tags": []
   },
   "outputs": [],
   "source": [
    "#hide\n",
    "dft_ct_new_cases = dft_cases.groupby(COL_REGION)[dt_cols].sum().diff(axis=1).fillna(0).astype(int)"
   ]
  },
  {
   "cell_type": "code",
   "execution_count": 19,
   "id": "neutral-assignment",
   "metadata": {
    "execution": {
     "iopub.execute_input": "2021-10-26T00:24:11.905338Z",
     "iopub.status.busy": "2021-10-26T00:24:11.904635Z",
     "iopub.status.idle": "2021-10-26T00:24:11.909300Z",
     "shell.execute_reply": "2021-10-26T00:24:11.909970Z"
    },
    "papermill": {
     "duration": 0.054797,
     "end_time": "2021-10-26T00:24:11.910144",
     "exception": false,
     "start_time": "2021-10-26T00:24:11.855347",
     "status": "completed"
    },
    "tags": []
   },
   "outputs": [],
   "source": [
    "#hide\n",
    "everydaycases = dft_ct_new_cases.cumsum(axis=1)"
   ]
  },
  {
   "cell_type": "code",
   "execution_count": 20,
   "id": "parliamentary-calgary",
   "metadata": {
    "execution": {
     "iopub.execute_input": "2021-10-26T00:24:12.014234Z",
     "iopub.status.busy": "2021-10-26T00:24:12.013519Z",
     "iopub.status.idle": "2021-10-26T00:24:13.028825Z",
     "shell.execute_reply": "2021-10-26T00:24:13.027269Z"
    },
    "papermill": {
     "duration": 1.069,
     "end_time": "2021-10-26T00:24:13.028993",
     "exception": false,
     "start_time": "2021-10-26T00:24:11.959993",
     "status": "completed"
    },
    "tags": []
   },
   "outputs": [],
   "source": [
    "#hide\n",
    "import pandas as pd\n",
    "import matplotlib.pyplot as plt\n",
    "import matplotlib.ticker as ticker\n",
    "import matplotlib.animation as animation\n",
    "from IPython.display import HTML"
   ]
  },
  {
   "cell_type": "code",
   "execution_count": 21,
   "id": "lasting-extraction",
   "metadata": {
    "execution": {
     "iopub.execute_input": "2021-10-26T00:24:13.117568Z",
     "iopub.status.busy": "2021-10-26T00:24:13.116660Z",
     "iopub.status.idle": "2021-10-26T00:24:13.122857Z",
     "shell.execute_reply": "2021-10-26T00:24:13.123408Z"
    },
    "papermill": {
     "duration": 0.053853,
     "end_time": "2021-10-26T00:24:13.123600",
     "exception": false,
     "start_time": "2021-10-26T00:24:13.069747",
     "status": "completed"
    },
    "tags": []
   },
   "outputs": [],
   "source": [
    "#hide\n",
    "t = everydaycases.stack()"
   ]
  },
  {
   "cell_type": "code",
   "execution_count": 22,
   "id": "premier-sleeve",
   "metadata": {
    "execution": {
     "iopub.execute_input": "2021-10-26T00:24:13.220977Z",
     "iopub.status.busy": "2021-10-26T00:24:13.220133Z",
     "iopub.status.idle": "2021-10-26T00:24:13.231887Z",
     "shell.execute_reply": "2021-10-26T00:24:13.232764Z"
    },
    "papermill": {
     "duration": 0.061575,
     "end_time": "2021-10-26T00:24:13.232956",
     "exception": false,
     "start_time": "2021-10-26T00:24:13.171381",
     "status": "completed"
    },
    "tags": []
   },
   "outputs": [],
   "source": [
    "#hide\n",
    "g = t.reset_index(['Country/Region'])"
   ]
  },
  {
   "cell_type": "code",
   "execution_count": 23,
   "id": "distributed-pittsburgh",
   "metadata": {
    "execution": {
     "iopub.execute_input": "2021-10-26T00:24:13.332425Z",
     "iopub.status.busy": "2021-10-26T00:24:13.331379Z",
     "iopub.status.idle": "2021-10-26T00:24:13.333210Z",
     "shell.execute_reply": "2021-10-26T00:24:13.333804Z"
    },
    "papermill": {
     "duration": 0.052596,
     "end_time": "2021-10-26T00:24:13.333974",
     "exception": false,
     "start_time": "2021-10-26T00:24:13.281378",
     "status": "completed"
    },
    "tags": []
   },
   "outputs": [],
   "source": [
    "#hide\n",
    "g.index.name = 'date'"
   ]
  },
  {
   "cell_type": "code",
   "execution_count": 24,
   "id": "naked-donor",
   "metadata": {
    "execution": {
     "iopub.execute_input": "2021-10-26T00:24:13.437140Z",
     "iopub.status.busy": "2021-10-26T00:24:13.436138Z",
     "iopub.status.idle": "2021-10-26T00:24:13.437893Z",
     "shell.execute_reply": "2021-10-26T00:24:13.438440Z"
    },
    "papermill": {
     "duration": 0.056268,
     "end_time": "2021-10-26T00:24:13.438607",
     "exception": false,
     "start_time": "2021-10-26T00:24:13.382339",
     "status": "completed"
    },
    "tags": []
   },
   "outputs": [],
   "source": [
    "# #hide\n",
    "# g = g.reset_index(['date'])"
   ]
  },
  {
   "cell_type": "code",
   "execution_count": 25,
   "id": "incomplete-mustang",
   "metadata": {
    "execution": {
     "iopub.execute_input": "2021-10-26T00:24:13.543947Z",
     "iopub.status.busy": "2021-10-26T00:24:13.543230Z",
     "iopub.status.idle": "2021-10-26T00:24:13.546385Z",
     "shell.execute_reply": "2021-10-26T00:24:13.545706Z"
    },
    "papermill": {
     "duration": 0.055903,
     "end_time": "2021-10-26T00:24:13.546710",
     "exception": false,
     "start_time": "2021-10-26T00:24:13.490807",
     "status": "completed"
    },
    "tags": []
   },
   "outputs": [],
   "source": [
    "#hide\n",
    "# g.head()"
   ]
  },
  {
   "cell_type": "code",
   "execution_count": 26,
   "id": "specific-kruger",
   "metadata": {
    "execution": {
     "iopub.execute_input": "2021-10-26T00:24:13.643237Z",
     "iopub.status.busy": "2021-10-26T00:24:13.642558Z",
     "iopub.status.idle": "2021-10-26T00:24:13.645108Z",
     "shell.execute_reply": "2021-10-26T00:24:13.644435Z"
    },
    "papermill": {
     "duration": 0.05226,
     "end_time": "2021-10-26T00:24:13.645343",
     "exception": false,
     "start_time": "2021-10-26T00:24:13.593083",
     "status": "completed"
    },
    "tags": []
   },
   "outputs": [],
   "source": [
    "#hide\n",
    "# g.columns = ['date','country','cases']"
   ]
  },
  {
   "cell_type": "code",
   "execution_count": 27,
   "id": "tender-conversion",
   "metadata": {
    "execution": {
     "iopub.execute_input": "2021-10-26T00:24:13.761502Z",
     "iopub.status.busy": "2021-10-26T00:24:13.760697Z",
     "iopub.status.idle": "2021-10-26T00:24:13.763027Z",
     "shell.execute_reply": "2021-10-26T00:24:13.763707Z"
    },
    "papermill": {
     "duration": 0.064164,
     "end_time": "2021-10-26T00:24:13.763925",
     "exception": false,
     "start_time": "2021-10-26T00:24:13.699761",
     "status": "completed"
    },
    "tags": []
   },
   "outputs": [],
   "source": [
    "#hide\n",
    "# g['continent'] = g.country"
   ]
  },
  {
   "cell_type": "code",
   "execution_count": 28,
   "id": "substantial-wilderness",
   "metadata": {
    "execution": {
     "iopub.execute_input": "2021-10-26T00:24:13.865817Z",
     "iopub.status.busy": "2021-10-26T00:24:13.865130Z",
     "iopub.status.idle": "2021-10-26T00:24:13.867679Z",
     "shell.execute_reply": "2021-10-26T00:24:13.868481Z"
    },
    "papermill": {
     "duration": 0.052826,
     "end_time": "2021-10-26T00:24:13.868659",
     "exception": false,
     "start_time": "2021-10-26T00:24:13.815833",
     "status": "completed"
    },
    "tags": []
   },
   "outputs": [],
   "source": [
    "#hide\n",
    "# cols = list(g.columns.values)"
   ]
  },
  {
   "cell_type": "code",
   "execution_count": 29,
   "id": "solved-farming",
   "metadata": {
    "execution": {
     "iopub.execute_input": "2021-10-26T00:24:13.968533Z",
     "iopub.status.busy": "2021-10-26T00:24:13.967836Z",
     "iopub.status.idle": "2021-10-26T00:24:13.970480Z",
     "shell.execute_reply": "2021-10-26T00:24:13.969907Z"
    },
    "papermill": {
     "duration": 0.055192,
     "end_time": "2021-10-26T00:24:13.970631",
     "exception": false,
     "start_time": "2021-10-26T00:24:13.915439",
     "status": "completed"
    },
    "tags": []
   },
   "outputs": [],
   "source": [
    "#hide\n",
    "# cols.insert(0, cols.pop())"
   ]
  },
  {
   "cell_type": "code",
   "execution_count": 30,
   "id": "executed-adoption",
   "metadata": {
    "execution": {
     "iopub.execute_input": "2021-10-26T00:24:14.059018Z",
     "iopub.status.busy": "2021-10-26T00:24:14.058317Z",
     "iopub.status.idle": "2021-10-26T00:24:14.060295Z",
     "shell.execute_reply": "2021-10-26T00:24:14.060916Z"
    },
    "papermill": {
     "duration": 0.048589,
     "end_time": "2021-10-26T00:24:14.061083",
     "exception": false,
     "start_time": "2021-10-26T00:24:14.012494",
     "status": "completed"
    },
    "tags": []
   },
   "outputs": [],
   "source": [
    "#hide\n",
    "# g = g[cols]"
   ]
  },
  {
   "cell_type": "code",
   "execution_count": 31,
   "id": "subject-dublin",
   "metadata": {
    "execution": {
     "iopub.execute_input": "2021-10-26T00:24:14.156229Z",
     "iopub.status.busy": "2021-10-26T00:24:14.155069Z",
     "iopub.status.idle": "2021-10-26T00:24:14.158084Z",
     "shell.execute_reply": "2021-10-26T00:24:14.157275Z"
    },
    "papermill": {
     "duration": 0.056269,
     "end_time": "2021-10-26T00:24:14.158289",
     "exception": false,
     "start_time": "2021-10-26T00:24:14.102020",
     "status": "completed"
    },
    "tags": []
   },
   "outputs": [],
   "source": [
    "#hide\n",
    "# g['continent'] = g['continent'].map(mapping['map.continent'])"
   ]
  },
  {
   "cell_type": "code",
   "execution_count": 32,
   "id": "freelance-scout",
   "metadata": {
    "execution": {
     "iopub.execute_input": "2021-10-26T00:24:14.256803Z",
     "iopub.status.busy": "2021-10-26T00:24:14.253266Z",
     "iopub.status.idle": "2021-10-26T00:24:14.259052Z",
     "shell.execute_reply": "2021-10-26T00:24:14.259759Z"
    },
    "papermill": {
     "duration": 0.054341,
     "end_time": "2021-10-26T00:24:14.259965",
     "exception": false,
     "start_time": "2021-10-26T00:24:14.205624",
     "status": "completed"
    },
    "tags": []
   },
   "outputs": [],
   "source": [
    "#hide\n",
    "# g.head()"
   ]
  },
  {
   "cell_type": "code",
   "execution_count": 33,
   "id": "limited-engine",
   "metadata": {
    "execution": {
     "iopub.execute_input": "2021-10-26T00:24:14.363096Z",
     "iopub.status.busy": "2021-10-26T00:24:14.362348Z",
     "iopub.status.idle": "2021-10-26T00:24:14.364877Z",
     "shell.execute_reply": "2021-10-26T00:24:14.365753Z"
    },
    "papermill": {
     "duration": 0.059975,
     "end_time": "2021-10-26T00:24:14.365937",
     "exception": false,
     "start_time": "2021-10-26T00:24:14.305962",
     "status": "completed"
    },
    "tags": []
   },
   "outputs": [],
   "source": [
    "# hide\n",
    "# g['date'] = g['date'].astype('datetime64[ns]')"
   ]
  },
  {
   "cell_type": "code",
   "execution_count": 34,
   "id": "sophisticated-supervisor",
   "metadata": {
    "execution": {
     "iopub.execute_input": "2021-10-26T00:24:14.466510Z",
     "iopub.status.busy": "2021-10-26T00:24:14.465640Z",
     "iopub.status.idle": "2021-10-26T00:24:14.467419Z",
     "shell.execute_reply": "2021-10-26T00:24:14.468197Z"
    },
    "papermill": {
     "duration": 0.055507,
     "end_time": "2021-10-26T00:24:14.468460",
     "exception": false,
     "start_time": "2021-10-26T00:24:14.412953",
     "status": "completed"
    },
    "tags": []
   },
   "outputs": [],
   "source": [
    "#hide\n",
    "# g['date'] = g.date.dt.dayofyear"
   ]
  },
  {
   "cell_type": "code",
   "execution_count": 35,
   "id": "inside-dubai",
   "metadata": {
    "execution": {
     "iopub.execute_input": "2021-10-26T00:24:14.561219Z",
     "iopub.status.busy": "2021-10-26T00:24:14.560490Z",
     "iopub.status.idle": "2021-10-26T00:24:14.563398Z",
     "shell.execute_reply": "2021-10-26T00:24:14.562749Z"
    },
    "papermill": {
     "duration": 0.049899,
     "end_time": "2021-10-26T00:24:14.563547",
     "exception": false,
     "start_time": "2021-10-26T00:24:14.513648",
     "status": "completed"
    },
    "tags": []
   },
   "outputs": [],
   "source": [
    "#hide\n",
    "# g = g.rename(columns= {'continent':'group','country':'name','cases':'value'})"
   ]
  },
  {
   "cell_type": "code",
   "execution_count": 36,
   "id": "fleet-motorcycle",
   "metadata": {
    "execution": {
     "iopub.execute_input": "2021-10-26T00:24:14.670005Z",
     "iopub.status.busy": "2021-10-26T00:24:14.669328Z",
     "iopub.status.idle": "2021-10-26T00:24:14.672594Z",
     "shell.execute_reply": "2021-10-26T00:24:14.671751Z"
    },
    "papermill": {
     "duration": 0.054672,
     "end_time": "2021-10-26T00:24:14.672796",
     "exception": false,
     "start_time": "2021-10-26T00:24:14.618124",
     "status": "completed"
    },
    "tags": []
   },
   "outputs": [],
   "source": [
    "#hide\n",
    "# cols = ['name','group','day','value']"
   ]
  },
  {
   "cell_type": "code",
   "execution_count": 37,
   "id": "continued-sleeping",
   "metadata": {
    "execution": {
     "iopub.execute_input": "2021-10-26T00:24:14.781570Z",
     "iopub.status.busy": "2021-10-26T00:24:14.780326Z",
     "iopub.status.idle": "2021-10-26T00:24:14.782873Z",
     "shell.execute_reply": "2021-10-26T00:24:14.780936Z"
    },
    "papermill": {
     "duration": 0.064518,
     "end_time": "2021-10-26T00:24:14.783025",
     "exception": false,
     "start_time": "2021-10-26T00:24:14.718507",
     "status": "completed"
    },
    "tags": []
   },
   "outputs": [],
   "source": [
    "#hide\n",
    "# g.rename(columns= {'date':'day'},inplace = True)"
   ]
  },
  {
   "cell_type": "code",
   "execution_count": 38,
   "id": "major-fight",
   "metadata": {
    "execution": {
     "iopub.execute_input": "2021-10-26T00:24:14.972827Z",
     "iopub.status.busy": "2021-10-26T00:24:14.971799Z",
     "iopub.status.idle": "2021-10-26T00:24:14.979746Z",
     "shell.execute_reply": "2021-10-26T00:24:14.980385Z"
    },
    "papermill": {
     "duration": 0.136274,
     "end_time": "2021-10-26T00:24:14.980568",
     "exception": false,
     "start_time": "2021-10-26T00:24:14.844294",
     "status": "completed"
    },
    "tags": []
   },
   "outputs": [],
   "source": [
    "#hide\n",
    "# g = g[cols]"
   ]
  },
  {
   "cell_type": "code",
   "execution_count": 39,
   "id": "structured-mobile",
   "metadata": {
    "execution": {
     "iopub.execute_input": "2021-10-26T00:24:15.071042Z",
     "iopub.status.busy": "2021-10-26T00:24:15.070356Z",
     "iopub.status.idle": "2021-10-26T00:24:15.072601Z",
     "shell.execute_reply": "2021-10-26T00:24:15.073194Z"
    },
    "papermill": {
     "duration": 0.049409,
     "end_time": "2021-10-26T00:24:15.073360",
     "exception": false,
     "start_time": "2021-10-26T00:24:15.023951",
     "status": "completed"
    },
    "tags": []
   },
   "outputs": [],
   "source": [
    "# #hide\n",
    "# g = g[g.group.notna()]"
   ]
  },
  {
   "cell_type": "code",
   "execution_count": 40,
   "id": "determined-closing",
   "metadata": {
    "execution": {
     "iopub.execute_input": "2021-10-26T00:24:15.173836Z",
     "iopub.status.busy": "2021-10-26T00:24:15.173133Z",
     "iopub.status.idle": "2021-10-26T00:24:15.175046Z",
     "shell.execute_reply": "2021-10-26T00:24:15.175888Z"
    },
    "papermill": {
     "duration": 0.057271,
     "end_time": "2021-10-26T00:24:15.176061",
     "exception": false,
     "start_time": "2021-10-26T00:24:15.118790",
     "status": "completed"
    },
    "tags": []
   },
   "outputs": [],
   "source": [
    "# #hide\n",
    "# colors = dict(zip(\n",
    "#     [\"Oceania\", \"Europe\", \"Asia\", \"South America\", \"Middle East\", \"North America\", \"Africa\"],\n",
    "#     [\"#adb0ff\", \"#ffb3ff\", \"#90d595\", \"#e48381\", \"#aafbff\", \"#f7bb5f\", \"#eafb50\"]\n",
    "# ))\n",
    "# group_lk = g.set_index('name')['group'].to_dict()"
   ]
  },
  {
   "cell_type": "code",
   "execution_count": null,
   "id": "gross-drinking",
   "metadata": {
    "papermill": {
     "duration": 0.040809,
     "end_time": "2021-10-26T00:24:15.259561",
     "exception": false,
     "start_time": "2021-10-26T00:24:15.218752",
     "status": "completed"
    },
    "tags": []
   },
   "outputs": [],
   "source": []
  },
  {
   "cell_type": "code",
   "execution_count": 41,
   "id": "subject-macintosh",
   "metadata": {
    "execution": {
     "iopub.execute_input": "2021-10-26T00:24:15.356399Z",
     "iopub.status.busy": "2021-10-26T00:24:15.355639Z",
     "iopub.status.idle": "2021-10-26T00:24:15.358086Z",
     "shell.execute_reply": "2021-10-26T00:24:15.358671Z"
    },
    "papermill": {
     "duration": 0.057736,
     "end_time": "2021-10-26T00:24:15.358841",
     "exception": false,
     "start_time": "2021-10-26T00:24:15.301105",
     "status": "completed"
    },
    "tags": []
   },
   "outputs": [],
   "source": [
    "# #hide\n",
    "# fig, ax = plt.subplots(figsize=(15, 8))\n",
    "\n",
    "# def draw_barchart(current_day):\n",
    "#     dff = g[g['day'].eq(current_day)].sort_values(by='value', ascending=True).tail(10)\n",
    "#     ax.clear()\n",
    "#     ax.barh(dff['name'], dff['value'], color=[colors[group_lk[x]] for x in dff['name']])\n",
    "#     dx = dff['value'].max() / 200\n",
    "    \n",
    "#     for i, (value, name) in enumerate(zip(dff['value'], dff['name'])):\n",
    "#         ax.text(value-dx, i,     name,           size=14, weight=600, ha='right', va='bottom')\n",
    "#         ax.text(value-dx, i-.25, group_lk[name], size=10, color='#444444', ha='right', va='baseline')\n",
    "#         ax.text(value+dx, i,     f'{value:,.0f}',  size=14, ha='left',  va='center')\n",
    "#     ax.text(1, 0.4, current_day, transform=ax.transAxes, color='#777777', size=46, ha='right', weight=800)\n",
    "#     ax.text(0, 1.06, 'Population (thousands)', transform=ax.transAxes, size=12, color='#777777')\n",
    "#     ax.xaxis.set_major_formatter(ticker.StrMethodFormatter('{x:,.0f}'))\n",
    "#     ax.xaxis.set_ticks_position('top')\n",
    "#     ax.tick_params(axis='x', colors='#777777', labelsize=12)\n",
    "#     ax.set_yticks([])\n",
    "#     ax.margins(0, 0.01)\n",
    "#     ax.grid(which='major', axis='x', linestyle='-')\n",
    "#     ax.set_axisbelow(True)\n",
    "    \n",
    "#     ax.text(0, 1.15, 'Coronavirus',\n",
    "#             transform=ax.transAxes, size=24, weight=600, ha='left', va='top')\n",
    "# #     ax.text(1, 0, 'by @pratapvardhan; credit @jburnmurdoch', transform=ax.transAxes, color='#777777', ha='right',\n",
    "# #             bbox=dict(facecolor='white', alpha=0.8, edgecolor='white'))\n",
    "#     plt.box(False)"
   ]
  },
  {
   "cell_type": "code",
   "execution_count": 42,
   "id": "sexual-wages",
   "metadata": {
    "execution": {
     "iopub.execute_input": "2021-10-26T00:24:15.445678Z",
     "iopub.status.busy": "2021-10-26T00:24:15.444974Z",
     "iopub.status.idle": "2021-10-26T00:24:15.448207Z",
     "shell.execute_reply": "2021-10-26T00:24:15.447576Z"
    },
    "papermill": {
     "duration": 0.048331,
     "end_time": "2021-10-26T00:24:15.448358",
     "exception": false,
     "start_time": "2021-10-26T00:24:15.400027",
     "status": "completed"
    },
    "tags": []
   },
   "outputs": [],
   "source": [
    "# #hide_input\n",
    "# fig, ax = plt.subplots(figsize=(15, 8))\n",
    "# animator = animation.FuncAnimation(fig, draw_barchart, frames=range(g.day.values.min(), g.day.values.max()))\n",
    "# HTML(animator.to_jshtml())\n",
    "# # or use animator.to_html5_video() or animator.save() "
   ]
  },
  {
   "cell_type": "code",
   "execution_count": null,
   "id": "australian-container",
   "metadata": {
    "papermill": {
     "duration": 0.0405,
     "end_time": "2021-10-26T00:24:15.529112",
     "exception": false,
     "start_time": "2021-10-26T00:24:15.488612",
     "status": "completed"
    },
    "tags": []
   },
   "outputs": [],
   "source": []
  },
  {
   "cell_type": "code",
   "execution_count": null,
   "id": "mediterranean-pontiac",
   "metadata": {
    "papermill": {
     "duration": 0.041848,
     "end_time": "2021-10-26T00:24:15.612504",
     "exception": false,
     "start_time": "2021-10-26T00:24:15.570656",
     "status": "completed"
    },
    "tags": []
   },
   "outputs": [],
   "source": []
  },
  {
   "cell_type": "code",
   "execution_count": null,
   "id": "aging-legislature",
   "metadata": {
    "papermill": {
     "duration": 0.0416,
     "end_time": "2021-10-26T00:24:15.694874",
     "exception": false,
     "start_time": "2021-10-26T00:24:15.653274",
     "status": "completed"
    },
    "tags": []
   },
   "outputs": [],
   "source": []
  }
 ],
 "metadata": {
  "kernelspec": {
   "display_name": "Python 3",
   "language": "python",
   "name": "python3"
  },
  "language_info": {
   "codemirror_mode": {
    "name": "ipython",
    "version": 3
   },
   "file_extension": ".py",
   "mimetype": "text/x-python",
   "name": "python",
   "nbconvert_exporter": "python",
   "pygments_lexer": "ipython3",
   "version": "3.6.15"
  },
  "papermill": {
   "duration": 9.100632,
   "end_time": "2021-10-26T00:24:16.145598",
   "environment_variables": {},
   "exception": null,
   "input_path": "2020-03-21-covid19exp.ipynb",
   "output_path": "2020-03-21-covid19exp.ipynb",
   "parameters": {},
   "start_time": "2021-10-26T00:24:07.044966",
   "version": "2.0.0"
  }
 },
 "nbformat": 4,
 "nbformat_minor": 5
}