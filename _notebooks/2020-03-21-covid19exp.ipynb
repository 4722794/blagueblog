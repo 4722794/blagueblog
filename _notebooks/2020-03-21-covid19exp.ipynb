{
 "cells": [
  {
   "cell_type": "markdown",
   "metadata": {
    "papermill": {
     "duration": 0.035857,
     "end_time": "2020-12-14T00:12:37.695301",
     "exception": false,
     "start_time": "2020-12-14T00:12:37.659444",
     "status": "completed"
    },
    "tags": []
   },
   "source": [
    "# COVID-19 Case Race\n",
    "> A race chart to see rising cases around the world\n",
    "\n",
    "- author: Hargun Oberoi\n",
    "- image: images/covid-overview.png\n",
    "- hide: false\n",
    "- badges: false"
   ]
  },
  {
   "cell_type": "code",
   "execution_count": 1,
   "metadata": {
    "execution": {
     "iopub.execute_input": "2020-12-14T00:12:37.770773Z",
     "iopub.status.busy": "2020-12-14T00:12:37.770108Z",
     "iopub.status.idle": "2020-12-14T00:12:38.135804Z",
     "shell.execute_reply": "2020-12-14T00:12:38.135217Z"
    },
    "papermill": {
     "duration": 0.408734,
     "end_time": "2020-12-14T00:12:38.135964",
     "exception": false,
     "start_time": "2020-12-14T00:12:37.727230",
     "status": "completed"
    },
    "tags": []
   },
   "outputs": [],
   "source": [
    "#hide\n",
    "import numpy as np\n",
    "import pandas as pd\n",
    "from jinja2 import Template\n",
    "from IPython.display import HTML"
   ]
  },
  {
   "cell_type": "code",
   "execution_count": 2,
   "metadata": {
    "execution": {
     "iopub.execute_input": "2020-12-14T00:12:38.219270Z",
     "iopub.status.busy": "2020-12-14T00:12:38.218642Z",
     "iopub.status.idle": "2020-12-14T00:12:38.220898Z",
     "shell.execute_reply": "2020-12-14T00:12:38.221352Z"
    },
    "papermill": {
     "duration": 0.041098,
     "end_time": "2020-12-14T00:12:38.221505",
     "exception": false,
     "start_time": "2020-12-14T00:12:38.180407",
     "status": "completed"
    },
    "tags": []
   },
   "outputs": [],
   "source": [
    "#hide\n",
    "\n",
    "# FETCH\n",
    "base_url = 'https://raw.githubusercontent.com/pratapvardhan/notebooks/master/covid19/'\n",
    "paths = {\n",
    "    'mapping': base_url + 'mapping_countries.csv',\n",
    "    'overview': base_url + 'overview.tpl'\n",
    "}"
   ]
  },
  {
   "cell_type": "code",
   "execution_count": 3,
   "metadata": {
    "execution": {
     "iopub.execute_input": "2020-12-14T00:12:38.299788Z",
     "iopub.status.busy": "2020-12-14T00:12:38.299185Z",
     "iopub.status.idle": "2020-12-14T00:12:38.301730Z",
     "shell.execute_reply": "2020-12-14T00:12:38.302202Z"
    },
    "papermill": {
     "duration": 0.04375,
     "end_time": "2020-12-14T00:12:38.302348",
     "exception": false,
     "start_time": "2020-12-14T00:12:38.258598",
     "status": "completed"
    },
    "tags": []
   },
   "outputs": [
    {
     "data": {
      "text/plain": [
       "'https://raw.githubusercontent.com/pratapvardhan/notebooks/master/covid19/mapping_countries.csv'"
      ]
     },
     "execution_count": 3,
     "metadata": {},
     "output_type": "execute_result"
    }
   ],
   "source": [
    "#hide\n",
    "paths['mapping']"
   ]
  },
  {
   "cell_type": "code",
   "execution_count": 4,
   "metadata": {
    "execution": {
     "iopub.execute_input": "2020-12-14T00:12:38.372611Z",
     "iopub.status.busy": "2020-12-14T00:12:38.372021Z",
     "iopub.status.idle": "2020-12-14T00:12:38.375731Z",
     "shell.execute_reply": "2020-12-14T00:12:38.375262Z"
    },
    "papermill": {
     "duration": 0.042747,
     "end_time": "2020-12-14T00:12:38.375858",
     "exception": false,
     "start_time": "2020-12-14T00:12:38.333111",
     "status": "completed"
    },
    "tags": []
   },
   "outputs": [],
   "source": [
    "#hide\n",
    "def get_mappings(url):\n",
    "    df = pd.read_csv(url)\n",
    "    return {\n",
    "        'df': df,\n",
    "        'replace.country': dict(df.dropna(subset=['Name']).set_index('Country')['Name']),\n",
    "        'map.continent': dict(df.set_index('Name')['Continent'])\n",
    "    }"
   ]
  },
  {
   "cell_type": "code",
   "execution_count": 5,
   "metadata": {
    "execution": {
     "iopub.execute_input": "2020-12-14T00:12:38.442375Z",
     "iopub.status.busy": "2020-12-14T00:12:38.441787Z",
     "iopub.status.idle": "2020-12-14T00:12:38.487721Z",
     "shell.execute_reply": "2020-12-14T00:12:38.486870Z"
    },
    "papermill": {
     "duration": 0.081689,
     "end_time": "2020-12-14T00:12:38.487936",
     "exception": false,
     "start_time": "2020-12-14T00:12:38.406247",
     "status": "completed"
    },
    "tags": []
   },
   "outputs": [],
   "source": [
    "#hide\n",
    "mapping = get_mappings(paths['mapping'])"
   ]
  },
  {
   "cell_type": "code",
   "execution_count": 6,
   "metadata": {
    "execution": {
     "iopub.execute_input": "2020-12-14T00:12:38.561009Z",
     "iopub.status.busy": "2020-12-14T00:12:38.560401Z",
     "iopub.status.idle": "2020-12-14T00:12:38.562729Z",
     "shell.execute_reply": "2020-12-14T00:12:38.563301Z"
    },
    "papermill": {
     "duration": 0.042935,
     "end_time": "2020-12-14T00:12:38.563446",
     "exception": false,
     "start_time": "2020-12-14T00:12:38.520511",
     "status": "completed"
    },
    "tags": []
   },
   "outputs": [],
   "source": [
    "#hide\n",
    "def get_template(path):\n",
    "    from urllib.parse import urlparse\n",
    "    if bool(urlparse(path).netloc):\n",
    "        from urllib.request import urlopen\n",
    "        return urlopen(path).read().decode('utf8')\n",
    "    return open(path).read()"
   ]
  },
  {
   "cell_type": "code",
   "execution_count": 7,
   "metadata": {
    "execution": {
     "iopub.execute_input": "2020-12-14T00:12:38.631441Z",
     "iopub.status.busy": "2020-12-14T00:12:38.630694Z",
     "iopub.status.idle": "2020-12-14T00:12:38.633664Z",
     "shell.execute_reply": "2020-12-14T00:12:38.633172Z"
    },
    "papermill": {
     "duration": 0.039876,
     "end_time": "2020-12-14T00:12:38.633786",
     "exception": false,
     "start_time": "2020-12-14T00:12:38.593910",
     "status": "completed"
    },
    "tags": []
   },
   "outputs": [],
   "source": [
    "#hide\n",
    "def get_frame(name):\n",
    "    url = (\n",
    "        'https://raw.githubusercontent.com/CSSEGISandData/COVID-19/master/csse_covid_19_data/'\n",
    "        f'csse_covid_19_time_series/time_series_covid19_{name}_global.csv')\n",
    "    df = pd.read_csv(url)\n",
    "    # rename countries\n",
    "    df['Country/Region'] = df['Country/Region'].replace(mapping['replace.country'])\n",
    "    return df"
   ]
  },
  {
   "cell_type": "code",
   "execution_count": 8,
   "metadata": {
    "execution": {
     "iopub.execute_input": "2020-12-14T00:12:38.704306Z",
     "iopub.status.busy": "2020-12-14T00:12:38.703714Z",
     "iopub.status.idle": "2020-12-14T00:12:38.707056Z",
     "shell.execute_reply": "2020-12-14T00:12:38.706540Z"
    },
    "papermill": {
     "duration": 0.041913,
     "end_time": "2020-12-14T00:12:38.707185",
     "exception": false,
     "start_time": "2020-12-14T00:12:38.665272",
     "status": "completed"
    },
    "tags": []
   },
   "outputs": [],
   "source": [
    "#hide\n",
    "def get_dates(df):\n",
    "    dt_cols = df.columns[~df.columns.isin(['Province/State', 'Country/Region', 'Lat', 'Long'])]\n",
    "    LAST_DATE_I = -1\n",
    "    # sometimes last column may be empty, then go backwards\n",
    "    for i in range(-1, -len(dt_cols), -1):\n",
    "        if not df[dt_cols[i]].fillna(0).eq(0).all():\n",
    "            LAST_DATE_I = i\n",
    "            break\n",
    "    return LAST_DATE_I, dt_cols"
   ]
  },
  {
   "cell_type": "code",
   "execution_count": 9,
   "metadata": {
    "execution": {
     "iopub.execute_input": "2020-12-14T00:12:38.775744Z",
     "iopub.status.busy": "2020-12-14T00:12:38.774537Z",
     "iopub.status.idle": "2020-12-14T00:12:39.074144Z",
     "shell.execute_reply": "2020-12-14T00:12:39.072868Z"
    },
    "papermill": {
     "duration": 0.336912,
     "end_time": "2020-12-14T00:12:39.074340",
     "exception": false,
     "start_time": "2020-12-14T00:12:38.737428",
     "status": "completed"
    },
    "tags": []
   },
   "outputs": [],
   "source": [
    "#hide\n",
    "COL_REGION = 'Country/Region'\n",
    "# Confirmed, Recovered, Deaths\n",
    "df = get_frame('confirmed')\n",
    "# dft_: timeseries, dfc_: today country agg\n",
    "dft_cases = df\n",
    "dft_deaths = get_frame('deaths')\n",
    "dft_recovered = get_frame('recovered')\n",
    "LAST_DATE_I, dt_cols = get_dates(df)"
   ]
  },
  {
   "cell_type": "code",
   "execution_count": 10,
   "metadata": {
    "execution": {
     "iopub.execute_input": "2020-12-14T00:12:39.142917Z",
     "iopub.status.busy": "2020-12-14T00:12:39.142244Z",
     "iopub.status.idle": "2020-12-14T00:12:39.144089Z",
     "shell.execute_reply": "2020-12-14T00:12:39.143526Z"
    },
    "papermill": {
     "duration": 0.038276,
     "end_time": "2020-12-14T00:12:39.144215",
     "exception": false,
     "start_time": "2020-12-14T00:12:39.105939",
     "status": "completed"
    },
    "tags": []
   },
   "outputs": [],
   "source": [
    "#hide\n",
    "LAST_DATE_I, dt_cols = get_dates(df)\n",
    "dt_today =dt_cols[LAST_DATE_I]\n",
    "# dt_5day = dt_cols[LAST_DATE_I - 5]\n",
    "dt_yday = dt_cols[LAST_DATE_I - 1]"
   ]
  },
  {
   "cell_type": "code",
   "execution_count": 11,
   "metadata": {
    "execution": {
     "iopub.execute_input": "2020-12-14T00:12:39.215991Z",
     "iopub.status.busy": "2020-12-14T00:12:39.215383Z",
     "iopub.status.idle": "2020-12-14T00:12:39.220757Z",
     "shell.execute_reply": "2020-12-14T00:12:39.221274Z"
    },
    "papermill": {
     "duration": 0.046195,
     "end_time": "2020-12-14T00:12:39.221418",
     "exception": false,
     "start_time": "2020-12-14T00:12:39.175223",
     "status": "completed"
    },
    "tags": []
   },
   "outputs": [],
   "source": [
    "#hide\n",
    "dfc_cases = dft_cases.groupby(COL_REGION)[dt_today].sum()\n",
    "dfc_deaths = dft_deaths.groupby(COL_REGION)[dt_today].sum()\n",
    "# dfp_cases = dft_cases.groupby(COL_REGION)[dt_5day].sum()\n",
    "# dfp_deaths = dft_deaths.groupby(COL_REGION)[dt_5day].sum()\n",
    "dfp_cases = dft_cases.groupby(COL_REGION)[dt_yday].sum()\n",
    "dfp_deaths = dft_deaths.groupby(COL_REGION)[dt_yday].sum()"
   ]
  },
  {
   "cell_type": "code",
   "execution_count": 12,
   "metadata": {
    "execution": {
     "iopub.execute_input": "2020-12-14T00:12:39.293946Z",
     "iopub.status.busy": "2020-12-14T00:12:39.293336Z",
     "iopub.status.idle": "2020-12-14T00:12:39.298718Z",
     "shell.execute_reply": "2020-12-14T00:12:39.298171Z"
    },
    "papermill": {
     "duration": 0.046305,
     "end_time": "2020-12-14T00:12:39.298909",
     "exception": false,
     "start_time": "2020-12-14T00:12:39.252604",
     "status": "completed"
    },
    "tags": []
   },
   "outputs": [],
   "source": [
    "#hide\n",
    "df_table = (pd.DataFrame(dict(Cases = dfc_cases, Deaths = dfc_deaths, PCases = dfp_cases, PDeaths = dfp_deaths))\n",
    "            .sort_values(by = ['Cases','Deaths'], ascending = [False, False])\n",
    "            .reset_index())"
   ]
  },
  {
   "cell_type": "code",
   "execution_count": 13,
   "metadata": {
    "execution": {
     "iopub.execute_input": "2020-12-14T00:12:39.370497Z",
     "iopub.status.busy": "2020-12-14T00:12:39.369890Z",
     "iopub.status.idle": "2020-12-14T00:12:39.388602Z",
     "shell.execute_reply": "2020-12-14T00:12:39.388117Z"
    },
    "papermill": {
     "duration": 0.057816,
     "end_time": "2020-12-14T00:12:39.388739",
     "exception": false,
     "start_time": "2020-12-14T00:12:39.330923",
     "status": "completed"
    },
    "tags": []
   },
   "outputs": [
    {
     "data": {
      "text/html": [
       "<div>\n",
       "<style scoped>\n",
       "    .dataframe tbody tr th:only-of-type {\n",
       "        vertical-align: middle;\n",
       "    }\n",
       "\n",
       "    .dataframe tbody tr th {\n",
       "        vertical-align: top;\n",
       "    }\n",
       "\n",
       "    .dataframe thead th {\n",
       "        text-align: right;\n",
       "    }\n",
       "</style>\n",
       "<table border=\"1\" class=\"dataframe\">\n",
       "  <thead>\n",
       "    <tr style=\"text-align: right;\">\n",
       "      <th></th>\n",
       "      <th>Country/Region</th>\n",
       "      <th>Cases</th>\n",
       "      <th>Deaths</th>\n",
       "      <th>PCases</th>\n",
       "      <th>PDeaths</th>\n",
       "      <th>Cases (+)</th>\n",
       "      <th>Deaths (+)</th>\n",
       "      <th>Fatality Rate</th>\n",
       "      <th>Continent</th>\n",
       "    </tr>\n",
       "  </thead>\n",
       "  <tbody>\n",
       "    <tr>\n",
       "      <th>0</th>\n",
       "      <td>US</td>\n",
       "      <td>16062299</td>\n",
       "      <td>297818</td>\n",
       "      <td>15842789</td>\n",
       "      <td>295450</td>\n",
       "      <td>219510</td>\n",
       "      <td>2368</td>\n",
       "      <td>1.85</td>\n",
       "      <td>North America</td>\n",
       "    </tr>\n",
       "    <tr>\n",
       "      <th>1</th>\n",
       "      <td>India</td>\n",
       "      <td>9857029</td>\n",
       "      <td>143019</td>\n",
       "      <td>9826775</td>\n",
       "      <td>142628</td>\n",
       "      <td>30254</td>\n",
       "      <td>391</td>\n",
       "      <td>1.45</td>\n",
       "      <td>Asia</td>\n",
       "    </tr>\n",
       "    <tr>\n",
       "      <th>2</th>\n",
       "      <td>Brazil</td>\n",
       "      <td>6880127</td>\n",
       "      <td>181123</td>\n",
       "      <td>6836227</td>\n",
       "      <td>180437</td>\n",
       "      <td>43900</td>\n",
       "      <td>686</td>\n",
       "      <td>2.63</td>\n",
       "      <td>South America</td>\n",
       "    </tr>\n",
       "    <tr>\n",
       "      <th>3</th>\n",
       "      <td>Russia</td>\n",
       "      <td>2602048</td>\n",
       "      <td>45923</td>\n",
       "      <td>2574319</td>\n",
       "      <td>45370</td>\n",
       "      <td>27729</td>\n",
       "      <td>553</td>\n",
       "      <td>1.76</td>\n",
       "      <td>Europe</td>\n",
       "    </tr>\n",
       "    <tr>\n",
       "      <th>4</th>\n",
       "      <td>France</td>\n",
       "      <td>2405255</td>\n",
       "      <td>57671</td>\n",
       "      <td>2405210</td>\n",
       "      <td>57671</td>\n",
       "      <td>45</td>\n",
       "      <td>0</td>\n",
       "      <td>2.40</td>\n",
       "      <td>Europe</td>\n",
       "    </tr>\n",
       "  </tbody>\n",
       "</table>\n",
       "</div>"
      ],
      "text/plain": [
       "  Country/Region     Cases  Deaths    PCases  PDeaths  Cases (+)  Deaths (+)  \\\n",
       "0             US  16062299  297818  15842789   295450     219510        2368   \n",
       "1          India   9857029  143019   9826775   142628      30254         391   \n",
       "2         Brazil   6880127  181123   6836227   180437      43900         686   \n",
       "3         Russia   2602048   45923   2574319    45370      27729         553   \n",
       "4         France   2405255   57671   2405210    57671         45           0   \n",
       "\n",
       "   Fatality Rate      Continent  \n",
       "0           1.85  North America  \n",
       "1           1.45           Asia  \n",
       "2           2.63  South America  \n",
       "3           1.76         Europe  \n",
       "4           2.40         Europe  "
      ]
     },
     "execution_count": 13,
     "metadata": {},
     "output_type": "execute_result"
    }
   ],
   "source": [
    "#hide\n",
    "for c in 'Cases, Deaths'.split(', '):\n",
    "    df_table[f'{c} (+)'] = (df_table[c] - df_table[f'P{c}']).clip(0)\n",
    "    #Clip ça veut dire, les chiffres negatif sont interdit\n",
    "df_table['Fatality Rate'] = (100* df_table['Deaths']/ df_table['Cases']).round(2)\n",
    "df_table['Continent'] = df_table['Country/Region'].map(mapping['map.continent'])\n",
    "df_table.head(5)"
   ]
  },
  {
   "cell_type": "code",
   "execution_count": 14,
   "metadata": {
    "execution": {
     "iopub.execute_input": "2020-12-14T00:12:39.459655Z",
     "iopub.status.busy": "2020-12-14T00:12:39.458998Z",
     "iopub.status.idle": "2020-12-14T00:12:39.460865Z",
     "shell.execute_reply": "2020-12-14T00:12:39.461323Z"
    },
    "papermill": {
     "duration": 0.041365,
     "end_time": "2020-12-14T00:12:39.461474",
     "exception": false,
     "start_time": "2020-12-14T00:12:39.420109",
     "status": "completed"
    },
    "tags": []
   },
   "outputs": [],
   "source": [
    "#hide\n",
    "#delete problematic countries from table\n",
    "df_table = df_table[~df_table['Country/Region'].isin(['Cape Verde', 'Cruise Ship', 'Kosovo'])]"
   ]
  },
  {
   "cell_type": "code",
   "execution_count": 15,
   "metadata": {
    "execution": {
     "iopub.execute_input": "2020-12-14T00:12:39.533395Z",
     "iopub.status.busy": "2020-12-14T00:12:39.532103Z",
     "iopub.status.idle": "2020-12-14T00:12:39.553665Z",
     "shell.execute_reply": "2020-12-14T00:12:39.552917Z"
    },
    "papermill": {
     "duration": 0.061493,
     "end_time": "2020-12-14T00:12:39.553809",
     "exception": false,
     "start_time": "2020-12-14T00:12:39.492316",
     "status": "completed"
    },
    "tags": []
   },
   "outputs": [
    {
     "data": {
      "text/html": [
       "<div>\n",
       "<style scoped>\n",
       "    .dataframe tbody tr th:only-of-type {\n",
       "        vertical-align: middle;\n",
       "    }\n",
       "\n",
       "    .dataframe tbody tr th {\n",
       "        vertical-align: top;\n",
       "    }\n",
       "\n",
       "    .dataframe thead th {\n",
       "        text-align: right;\n",
       "    }\n",
       "</style>\n",
       "<table border=\"1\" class=\"dataframe\">\n",
       "  <thead>\n",
       "    <tr style=\"text-align: right;\">\n",
       "      <th></th>\n",
       "      <th>Country/Region</th>\n",
       "      <th>Cases</th>\n",
       "      <th>Deaths</th>\n",
       "      <th>PCases</th>\n",
       "      <th>PDeaths</th>\n",
       "      <th>Cases (+)</th>\n",
       "      <th>Deaths (+)</th>\n",
       "      <th>Fatality Rate</th>\n",
       "      <th>Continent</th>\n",
       "    </tr>\n",
       "  </thead>\n",
       "  <tbody>\n",
       "    <tr>\n",
       "      <th>0</th>\n",
       "      <td>US</td>\n",
       "      <td>16062299</td>\n",
       "      <td>297818</td>\n",
       "      <td>15842789</td>\n",
       "      <td>295450</td>\n",
       "      <td>219510</td>\n",
       "      <td>2368</td>\n",
       "      <td>1.9</td>\n",
       "      <td>North America</td>\n",
       "    </tr>\n",
       "    <tr>\n",
       "      <th>1</th>\n",
       "      <td>India</td>\n",
       "      <td>9857029</td>\n",
       "      <td>143019</td>\n",
       "      <td>9826775</td>\n",
       "      <td>142628</td>\n",
       "      <td>30254</td>\n",
       "      <td>391</td>\n",
       "      <td>1.5</td>\n",
       "      <td>Asia</td>\n",
       "    </tr>\n",
       "    <tr>\n",
       "      <th>2</th>\n",
       "      <td>Brazil</td>\n",
       "      <td>6880127</td>\n",
       "      <td>181123</td>\n",
       "      <td>6836227</td>\n",
       "      <td>180437</td>\n",
       "      <td>43900</td>\n",
       "      <td>686</td>\n",
       "      <td>2.6</td>\n",
       "      <td>South America</td>\n",
       "    </tr>\n",
       "    <tr>\n",
       "      <th>3</th>\n",
       "      <td>Russia</td>\n",
       "      <td>2602048</td>\n",
       "      <td>45923</td>\n",
       "      <td>2574319</td>\n",
       "      <td>45370</td>\n",
       "      <td>27729</td>\n",
       "      <td>553</td>\n",
       "      <td>1.8</td>\n",
       "      <td>Europe</td>\n",
       "    </tr>\n",
       "    <tr>\n",
       "      <th>4</th>\n",
       "      <td>France</td>\n",
       "      <td>2405255</td>\n",
       "      <td>57671</td>\n",
       "      <td>2405210</td>\n",
       "      <td>57671</td>\n",
       "      <td>45</td>\n",
       "      <td>0</td>\n",
       "      <td>2.4</td>\n",
       "      <td>Europe</td>\n",
       "    </tr>\n",
       "  </tbody>\n",
       "</table>\n",
       "</div>"
      ],
      "text/plain": [
       "  Country/Region     Cases  Deaths    PCases  PDeaths  Cases (+)  Deaths (+)  \\\n",
       "0             US  16062299  297818  15842789   295450     219510        2368   \n",
       "1          India   9857029  143019   9826775   142628      30254         391   \n",
       "2         Brazil   6880127  181123   6836227   180437      43900         686   \n",
       "3         Russia   2602048   45923   2574319    45370      27729         553   \n",
       "4         France   2405255   57671   2405210    57671         45           0   \n",
       "\n",
       "   Fatality Rate      Continent  \n",
       "0            1.9  North America  \n",
       "1            1.5           Asia  \n",
       "2            2.6  South America  \n",
       "3            1.8         Europe  \n",
       "4            2.4         Europe  "
      ]
     },
     "execution_count": 15,
     "metadata": {},
     "output_type": "execute_result"
    }
   ],
   "source": [
    "#hide\n",
    "df_table = (pd.DataFrame(dict(Cases=dfc_cases, Deaths=dfc_deaths, PCases=dfp_cases, PDeaths=dfp_deaths))\n",
    "             .sort_values(by=['Cases', 'Deaths'], ascending=[False, False])\n",
    "             .reset_index())\n",
    "df_table.rename(columns={'index': 'Country/Region'}, inplace=True)\n",
    "for c in 'Cases, Deaths'.split(', '):\n",
    "    df_table[f'{c} (+)'] = (df_table[c] - df_table[f'P{c}']).clip(0)  # DATA BUG\n",
    "df_table['Fatality Rate'] = (100 * df_table['Deaths'] / df_table['Cases']).round(1)\n",
    "df_table['Continent'] = df_table['Country/Region'].map(mapping['map.continent'])\n",
    "df_table.head(5)"
   ]
  },
  {
   "cell_type": "code",
   "execution_count": 16,
   "metadata": {
    "execution": {
     "iopub.execute_input": "2020-12-14T00:12:39.624700Z",
     "iopub.status.busy": "2020-12-14T00:12:39.623885Z",
     "iopub.status.idle": "2020-12-14T00:12:39.625572Z",
     "shell.execute_reply": "2020-12-14T00:12:39.626079Z"
    },
    "papermill": {
     "duration": 0.040104,
     "end_time": "2020-12-14T00:12:39.626225",
     "exception": false,
     "start_time": "2020-12-14T00:12:39.586121",
     "status": "completed"
    },
    "tags": []
   },
   "outputs": [],
   "source": [
    "#hide\n",
    "#delete problematic countries from table\n",
    "df_table = df_table[~df_table['Country/Region'].isin(['Cape Verde', 'Cruise Ship', 'Kosovo'])]"
   ]
  },
  {
   "cell_type": "code",
   "execution_count": 17,
   "metadata": {
    "execution": {
     "iopub.execute_input": "2020-12-14T00:12:39.713788Z",
     "iopub.status.busy": "2020-12-14T00:12:39.713174Z",
     "iopub.status.idle": "2020-12-14T00:12:39.715303Z",
     "shell.execute_reply": "2020-12-14T00:12:39.715781Z"
    },
    "papermill": {
     "duration": 0.056589,
     "end_time": "2020-12-14T00:12:39.715927",
     "exception": false,
     "start_time": "2020-12-14T00:12:39.659338",
     "status": "completed"
    },
    "tags": []
   },
   "outputs": [],
   "source": [
    "#hide\n",
    "metrics = [df_table.columns[index] for index in [1,2,5,6]]\n",
    "# s_china = df_table[df_table['Country/Region'].eq('China')][metrics].sum().add_prefix('China ')\n",
    "s_us = df_table[df_table['Country/Region'].eq('US')][metrics].sum().add_prefix('US ')\n",
    "s_eu = df_table[df_table['Continent'].eq('Europe')][metrics].sum().add_prefix('EU ')\n",
    "s_ind = df_table[df_table['Country/Region'].eq('India')][metrics].sum().add_prefix('India ')\n",
    "summary = {'updated': pd.to_datetime(dt_today), 'since': pd.to_datetime(dt_yday)}\n",
    "summary = {'updated': pd.to_datetime(dt_today), 'since': pd.to_datetime(dt_yday)}\n",
    "summary = {**summary, **df_table[metrics].sum(), **s_ind, **s_us, **s_eu}"
   ]
  },
  {
   "cell_type": "code",
   "execution_count": 18,
   "metadata": {
    "execution": {
     "iopub.execute_input": "2020-12-14T00:12:39.785271Z",
     "iopub.status.busy": "2020-12-14T00:12:39.784681Z",
     "iopub.status.idle": "2020-12-14T00:12:39.795951Z",
     "shell.execute_reply": "2020-12-14T00:12:39.795474Z"
    },
    "papermill": {
     "duration": 0.047987,
     "end_time": "2020-12-14T00:12:39.796083",
     "exception": false,
     "start_time": "2020-12-14T00:12:39.748096",
     "status": "completed"
    },
    "tags": []
   },
   "outputs": [],
   "source": [
    "#hide\n",
    "dft_ct_new_cases = dft_cases.groupby(COL_REGION)[dt_cols].sum().diff(axis=1).fillna(0).astype(int)"
   ]
  },
  {
   "cell_type": "code",
   "execution_count": 19,
   "metadata": {
    "execution": {
     "iopub.execute_input": "2020-12-14T00:12:39.864084Z",
     "iopub.status.busy": "2020-12-14T00:12:39.863508Z",
     "iopub.status.idle": "2020-12-14T00:12:39.865759Z",
     "shell.execute_reply": "2020-12-14T00:12:39.865262Z"
    },
    "papermill": {
     "duration": 0.038525,
     "end_time": "2020-12-14T00:12:39.865882",
     "exception": false,
     "start_time": "2020-12-14T00:12:39.827357",
     "status": "completed"
    },
    "tags": []
   },
   "outputs": [],
   "source": [
    "#hide\n",
    "everydaycases = dft_ct_new_cases.cumsum(axis=1)"
   ]
  },
  {
   "cell_type": "code",
   "execution_count": 20,
   "metadata": {
    "execution": {
     "iopub.execute_input": "2020-12-14T00:12:39.933322Z",
     "iopub.status.busy": "2020-12-14T00:12:39.932739Z",
     "iopub.status.idle": "2020-12-14T00:12:42.393132Z",
     "shell.execute_reply": "2020-12-14T00:12:42.391907Z"
    },
    "papermill": {
     "duration": 2.496052,
     "end_time": "2020-12-14T00:12:42.393283",
     "exception": false,
     "start_time": "2020-12-14T00:12:39.897231",
     "status": "completed"
    },
    "tags": []
   },
   "outputs": [],
   "source": [
    "#hide\n",
    "import pandas as pd\n",
    "import matplotlib.pyplot as plt\n",
    "import matplotlib.ticker as ticker\n",
    "import matplotlib.animation as animation\n",
    "from IPython.display import HTML"
   ]
  },
  {
   "cell_type": "code",
   "execution_count": 21,
   "metadata": {
    "execution": {
     "iopub.execute_input": "2020-12-14T00:12:42.464531Z",
     "iopub.status.busy": "2020-12-14T00:12:42.462926Z",
     "iopub.status.idle": "2020-12-14T00:12:42.468461Z",
     "shell.execute_reply": "2020-12-14T00:12:42.467631Z"
    },
    "papermill": {
     "duration": 0.043199,
     "end_time": "2020-12-14T00:12:42.468675",
     "exception": false,
     "start_time": "2020-12-14T00:12:42.425476",
     "status": "completed"
    },
    "tags": []
   },
   "outputs": [],
   "source": [
    "#hide\n",
    "t = everydaycases.stack()"
   ]
  },
  {
   "cell_type": "code",
   "execution_count": 22,
   "metadata": {
    "execution": {
     "iopub.execute_input": "2020-12-14T00:12:42.538799Z",
     "iopub.status.busy": "2020-12-14T00:12:42.538176Z",
     "iopub.status.idle": "2020-12-14T00:12:42.544183Z",
     "shell.execute_reply": "2020-12-14T00:12:42.544684Z"
    },
    "papermill": {
     "duration": 0.042534,
     "end_time": "2020-12-14T00:12:42.544829",
     "exception": false,
     "start_time": "2020-12-14T00:12:42.502295",
     "status": "completed"
    },
    "tags": []
   },
   "outputs": [],
   "source": [
    "#hide\n",
    "g = t.reset_index(['Country/Region'])"
   ]
  },
  {
   "cell_type": "code",
   "execution_count": 23,
   "metadata": {
    "execution": {
     "iopub.execute_input": "2020-12-14T00:12:42.614787Z",
     "iopub.status.busy": "2020-12-14T00:12:42.614155Z",
     "iopub.status.idle": "2020-12-14T00:12:42.616652Z",
     "shell.execute_reply": "2020-12-14T00:12:42.615954Z"
    },
    "papermill": {
     "duration": 0.040778,
     "end_time": "2020-12-14T00:12:42.616783",
     "exception": false,
     "start_time": "2020-12-14T00:12:42.576005",
     "status": "completed"
    },
    "tags": []
   },
   "outputs": [],
   "source": [
    "#hide\n",
    "g.index.name = 'date'"
   ]
  },
  {
   "cell_type": "code",
   "execution_count": 24,
   "metadata": {
    "execution": {
     "iopub.execute_input": "2020-12-14T00:12:42.684456Z",
     "iopub.status.busy": "2020-12-14T00:12:42.683867Z",
     "iopub.status.idle": "2020-12-14T00:12:42.685614Z",
     "shell.execute_reply": "2020-12-14T00:12:42.686058Z"
    },
    "papermill": {
     "duration": 0.03747,
     "end_time": "2020-12-14T00:12:42.686204",
     "exception": false,
     "start_time": "2020-12-14T00:12:42.648734",
     "status": "completed"
    },
    "tags": []
   },
   "outputs": [],
   "source": [
    "# #hide\n",
    "# g = g.reset_index(['date'])"
   ]
  },
  {
   "cell_type": "code",
   "execution_count": 25,
   "metadata": {
    "execution": {
     "iopub.execute_input": "2020-12-14T00:12:42.754259Z",
     "iopub.status.busy": "2020-12-14T00:12:42.753663Z",
     "iopub.status.idle": "2020-12-14T00:12:42.756367Z",
     "shell.execute_reply": "2020-12-14T00:12:42.755686Z"
    },
    "papermill": {
     "duration": 0.038676,
     "end_time": "2020-12-14T00:12:42.756503",
     "exception": false,
     "start_time": "2020-12-14T00:12:42.717827",
     "status": "completed"
    },
    "tags": []
   },
   "outputs": [],
   "source": [
    "#hide\n",
    "# g.head()"
   ]
  },
  {
   "cell_type": "code",
   "execution_count": 26,
   "metadata": {
    "execution": {
     "iopub.execute_input": "2020-12-14T00:12:42.824499Z",
     "iopub.status.busy": "2020-12-14T00:12:42.823894Z",
     "iopub.status.idle": "2020-12-14T00:12:42.826887Z",
     "shell.execute_reply": "2020-12-14T00:12:42.827573Z"
    },
    "papermill": {
     "duration": 0.039558,
     "end_time": "2020-12-14T00:12:42.827730",
     "exception": false,
     "start_time": "2020-12-14T00:12:42.788172",
     "status": "completed"
    },
    "tags": []
   },
   "outputs": [],
   "source": [
    "#hide\n",
    "# g.columns = ['date','country','cases']"
   ]
  },
  {
   "cell_type": "code",
   "execution_count": 27,
   "metadata": {
    "execution": {
     "iopub.execute_input": "2020-12-14T00:12:42.897025Z",
     "iopub.status.busy": "2020-12-14T00:12:42.895939Z",
     "iopub.status.idle": "2020-12-14T00:12:42.897669Z",
     "shell.execute_reply": "2020-12-14T00:12:42.898385Z"
    },
    "papermill": {
     "duration": 0.039326,
     "end_time": "2020-12-14T00:12:42.898570",
     "exception": false,
     "start_time": "2020-12-14T00:12:42.859244",
     "status": "completed"
    },
    "tags": []
   },
   "outputs": [],
   "source": [
    "#hide\n",
    "# g['continent'] = g.country"
   ]
  },
  {
   "cell_type": "code",
   "execution_count": 28,
   "metadata": {
    "execution": {
     "iopub.execute_input": "2020-12-14T00:12:42.970323Z",
     "iopub.status.busy": "2020-12-14T00:12:42.969606Z",
     "iopub.status.idle": "2020-12-14T00:12:42.970984Z",
     "shell.execute_reply": "2020-12-14T00:12:42.971539Z"
    },
    "papermill": {
     "duration": 0.039748,
     "end_time": "2020-12-14T00:12:42.971685",
     "exception": false,
     "start_time": "2020-12-14T00:12:42.931937",
     "status": "completed"
    },
    "tags": []
   },
   "outputs": [],
   "source": [
    "#hide\n",
    "# cols = list(g.columns.values)"
   ]
  },
  {
   "cell_type": "code",
   "execution_count": 29,
   "metadata": {
    "execution": {
     "iopub.execute_input": "2020-12-14T00:12:43.040735Z",
     "iopub.status.busy": "2020-12-14T00:12:43.040129Z",
     "iopub.status.idle": "2020-12-14T00:12:43.043183Z",
     "shell.execute_reply": "2020-12-14T00:12:43.042705Z"
    },
    "papermill": {
     "duration": 0.039928,
     "end_time": "2020-12-14T00:12:43.043313",
     "exception": false,
     "start_time": "2020-12-14T00:12:43.003385",
     "status": "completed"
    },
    "tags": []
   },
   "outputs": [],
   "source": [
    "#hide\n",
    "# cols.insert(0, cols.pop())"
   ]
  },
  {
   "cell_type": "code",
   "execution_count": 30,
   "metadata": {
    "execution": {
     "iopub.execute_input": "2020-12-14T00:12:43.110168Z",
     "iopub.status.busy": "2020-12-14T00:12:43.109568Z",
     "iopub.status.idle": "2020-12-14T00:12:43.111992Z",
     "shell.execute_reply": "2020-12-14T00:12:43.111499Z"
    },
    "papermill": {
     "duration": 0.03784,
     "end_time": "2020-12-14T00:12:43.112118",
     "exception": false,
     "start_time": "2020-12-14T00:12:43.074278",
     "status": "completed"
    },
    "tags": []
   },
   "outputs": [],
   "source": [
    "#hide\n",
    "# g = g[cols]"
   ]
  },
  {
   "cell_type": "code",
   "execution_count": 31,
   "metadata": {
    "execution": {
     "iopub.execute_input": "2020-12-14T00:12:43.177977Z",
     "iopub.status.busy": "2020-12-14T00:12:43.177286Z",
     "iopub.status.idle": "2020-12-14T00:12:43.179591Z",
     "shell.execute_reply": "2020-12-14T00:12:43.179115Z"
    },
    "papermill": {
     "duration": 0.036647,
     "end_time": "2020-12-14T00:12:43.179721",
     "exception": false,
     "start_time": "2020-12-14T00:12:43.143074",
     "status": "completed"
    },
    "tags": []
   },
   "outputs": [],
   "source": [
    "#hide\n",
    "# g['continent'] = g['continent'].map(mapping['map.continent'])"
   ]
  },
  {
   "cell_type": "code",
   "execution_count": 32,
   "metadata": {
    "execution": {
     "iopub.execute_input": "2020-12-14T00:12:43.250352Z",
     "iopub.status.busy": "2020-12-14T00:12:43.249766Z",
     "iopub.status.idle": "2020-12-14T00:12:43.252189Z",
     "shell.execute_reply": "2020-12-14T00:12:43.252744Z"
    },
    "papermill": {
     "duration": 0.040801,
     "end_time": "2020-12-14T00:12:43.252886",
     "exception": false,
     "start_time": "2020-12-14T00:12:43.212085",
     "status": "completed"
    },
    "tags": []
   },
   "outputs": [],
   "source": [
    "#hide\n",
    "# g.head()"
   ]
  },
  {
   "cell_type": "code",
   "execution_count": 33,
   "metadata": {
    "execution": {
     "iopub.execute_input": "2020-12-14T00:12:43.320254Z",
     "iopub.status.busy": "2020-12-14T00:12:43.319642Z",
     "iopub.status.idle": "2020-12-14T00:12:43.321828Z",
     "shell.execute_reply": "2020-12-14T00:12:43.321253Z"
    },
    "papermill": {
     "duration": 0.036977,
     "end_time": "2020-12-14T00:12:43.321954",
     "exception": false,
     "start_time": "2020-12-14T00:12:43.284977",
     "status": "completed"
    },
    "tags": []
   },
   "outputs": [],
   "source": [
    "# hide\n",
    "# g['date'] = g['date'].astype('datetime64[ns]')"
   ]
  },
  {
   "cell_type": "code",
   "execution_count": 34,
   "metadata": {
    "execution": {
     "iopub.execute_input": "2020-12-14T00:12:43.387620Z",
     "iopub.status.busy": "2020-12-14T00:12:43.387029Z",
     "iopub.status.idle": "2020-12-14T00:12:43.389244Z",
     "shell.execute_reply": "2020-12-14T00:12:43.388749Z"
    },
    "papermill": {
     "duration": 0.036412,
     "end_time": "2020-12-14T00:12:43.389368",
     "exception": false,
     "start_time": "2020-12-14T00:12:43.352956",
     "status": "completed"
    },
    "tags": []
   },
   "outputs": [],
   "source": [
    "#hide\n",
    "# g['date'] = g.date.dt.dayofyear"
   ]
  },
  {
   "cell_type": "code",
   "execution_count": 35,
   "metadata": {
    "execution": {
     "iopub.execute_input": "2020-12-14T00:12:43.455605Z",
     "iopub.status.busy": "2020-12-14T00:12:43.455011Z",
     "iopub.status.idle": "2020-12-14T00:12:43.457185Z",
     "shell.execute_reply": "2020-12-14T00:12:43.456610Z"
    },
    "papermill": {
     "duration": 0.036878,
     "end_time": "2020-12-14T00:12:43.457310",
     "exception": false,
     "start_time": "2020-12-14T00:12:43.420432",
     "status": "completed"
    },
    "tags": []
   },
   "outputs": [],
   "source": [
    "#hide\n",
    "# g = g.rename(columns= {'continent':'group','country':'name','cases':'value'})"
   ]
  },
  {
   "cell_type": "code",
   "execution_count": 36,
   "metadata": {
    "execution": {
     "iopub.execute_input": "2020-12-14T00:12:43.524822Z",
     "iopub.status.busy": "2020-12-14T00:12:43.524231Z",
     "iopub.status.idle": "2020-12-14T00:12:43.527024Z",
     "shell.execute_reply": "2020-12-14T00:12:43.527584Z"
    },
    "papermill": {
     "duration": 0.039351,
     "end_time": "2020-12-14T00:12:43.527729",
     "exception": false,
     "start_time": "2020-12-14T00:12:43.488378",
     "status": "completed"
    },
    "tags": []
   },
   "outputs": [],
   "source": [
    "#hide\n",
    "# cols = ['name','group','day','value']"
   ]
  },
  {
   "cell_type": "code",
   "execution_count": 37,
   "metadata": {
    "execution": {
     "iopub.execute_input": "2020-12-14T00:12:43.595109Z",
     "iopub.status.busy": "2020-12-14T00:12:43.594194Z",
     "iopub.status.idle": "2020-12-14T00:12:43.596029Z",
     "shell.execute_reply": "2020-12-14T00:12:43.596701Z"
    },
    "papermill": {
     "duration": 0.03814,
     "end_time": "2020-12-14T00:12:43.596899",
     "exception": false,
     "start_time": "2020-12-14T00:12:43.558759",
     "status": "completed"
    },
    "tags": []
   },
   "outputs": [],
   "source": [
    "#hide\n",
    "# g.rename(columns= {'date':'day'},inplace = True)"
   ]
  },
  {
   "cell_type": "code",
   "execution_count": 38,
   "metadata": {
    "execution": {
     "iopub.execute_input": "2020-12-14T00:12:43.666863Z",
     "iopub.status.busy": "2020-12-14T00:12:43.665785Z",
     "iopub.status.idle": "2020-12-14T00:12:43.667970Z",
     "shell.execute_reply": "2020-12-14T00:12:43.668788Z"
    },
    "papermill": {
     "duration": 0.040101,
     "end_time": "2020-12-14T00:12:43.669023",
     "exception": false,
     "start_time": "2020-12-14T00:12:43.628922",
     "status": "completed"
    },
    "tags": []
   },
   "outputs": [],
   "source": [
    "#hide\n",
    "# g = g[cols]"
   ]
  },
  {
   "cell_type": "code",
   "execution_count": 39,
   "metadata": {
    "execution": {
     "iopub.execute_input": "2020-12-14T00:12:43.735165Z",
     "iopub.status.busy": "2020-12-14T00:12:43.734511Z",
     "iopub.status.idle": "2020-12-14T00:12:43.737805Z",
     "shell.execute_reply": "2020-12-14T00:12:43.738363Z"
    },
    "papermill": {
     "duration": 0.038578,
     "end_time": "2020-12-14T00:12:43.738506",
     "exception": false,
     "start_time": "2020-12-14T00:12:43.699928",
     "status": "completed"
    },
    "tags": []
   },
   "outputs": [],
   "source": [
    "# #hide\n",
    "# g = g[g.group.notna()]"
   ]
  },
  {
   "cell_type": "code",
   "execution_count": 40,
   "metadata": {
    "execution": {
     "iopub.execute_input": "2020-12-14T00:12:43.808092Z",
     "iopub.status.busy": "2020-12-14T00:12:43.807017Z",
     "iopub.status.idle": "2020-12-14T00:12:43.809184Z",
     "shell.execute_reply": "2020-12-14T00:12:43.809949Z"
    },
    "papermill": {
     "duration": 0.040392,
     "end_time": "2020-12-14T00:12:43.810098",
     "exception": false,
     "start_time": "2020-12-14T00:12:43.769706",
     "status": "completed"
    },
    "tags": []
   },
   "outputs": [],
   "source": [
    "# #hide\n",
    "# colors = dict(zip(\n",
    "#     [\"Oceania\", \"Europe\", \"Asia\", \"South America\", \"Middle East\", \"North America\", \"Africa\"],\n",
    "#     [\"#adb0ff\", \"#ffb3ff\", \"#90d595\", \"#e48381\", \"#aafbff\", \"#f7bb5f\", \"#eafb50\"]\n",
    "# ))\n",
    "# group_lk = g.set_index('name')['group'].to_dict()"
   ]
  },
  {
   "cell_type": "code",
   "execution_count": null,
   "metadata": {
    "papermill": {
     "duration": 0.031446,
     "end_time": "2020-12-14T00:12:43.873254",
     "exception": false,
     "start_time": "2020-12-14T00:12:43.841808",
     "status": "completed"
    },
    "tags": []
   },
   "outputs": [],
   "source": []
  },
  {
   "cell_type": "code",
   "execution_count": 41,
   "metadata": {
    "execution": {
     "iopub.execute_input": "2020-12-14T00:12:43.944134Z",
     "iopub.status.busy": "2020-12-14T00:12:43.943476Z",
     "iopub.status.idle": "2020-12-14T00:12:43.944981Z",
     "shell.execute_reply": "2020-12-14T00:12:43.945482Z"
    },
    "papermill": {
     "duration": 0.040353,
     "end_time": "2020-12-14T00:12:43.945630",
     "exception": false,
     "start_time": "2020-12-14T00:12:43.905277",
     "status": "completed"
    },
    "tags": []
   },
   "outputs": [],
   "source": [
    "# #hide\n",
    "# fig, ax = plt.subplots(figsize=(15, 8))\n",
    "\n",
    "# def draw_barchart(current_day):\n",
    "#     dff = g[g['day'].eq(current_day)].sort_values(by='value', ascending=True).tail(10)\n",
    "#     ax.clear()\n",
    "#     ax.barh(dff['name'], dff['value'], color=[colors[group_lk[x]] for x in dff['name']])\n",
    "#     dx = dff['value'].max() / 200\n",
    "    \n",
    "#     for i, (value, name) in enumerate(zip(dff['value'], dff['name'])):\n",
    "#         ax.text(value-dx, i,     name,           size=14, weight=600, ha='right', va='bottom')\n",
    "#         ax.text(value-dx, i-.25, group_lk[name], size=10, color='#444444', ha='right', va='baseline')\n",
    "#         ax.text(value+dx, i,     f'{value:,.0f}',  size=14, ha='left',  va='center')\n",
    "#     ax.text(1, 0.4, current_day, transform=ax.transAxes, color='#777777', size=46, ha='right', weight=800)\n",
    "#     ax.text(0, 1.06, 'Population (thousands)', transform=ax.transAxes, size=12, color='#777777')\n",
    "#     ax.xaxis.set_major_formatter(ticker.StrMethodFormatter('{x:,.0f}'))\n",
    "#     ax.xaxis.set_ticks_position('top')\n",
    "#     ax.tick_params(axis='x', colors='#777777', labelsize=12)\n",
    "#     ax.set_yticks([])\n",
    "#     ax.margins(0, 0.01)\n",
    "#     ax.grid(which='major', axis='x', linestyle='-')\n",
    "#     ax.set_axisbelow(True)\n",
    "    \n",
    "#     ax.text(0, 1.15, 'Coronavirus',\n",
    "#             transform=ax.transAxes, size=24, weight=600, ha='left', va='top')\n",
    "# #     ax.text(1, 0, 'by @pratapvardhan; credit @jburnmurdoch', transform=ax.transAxes, color='#777777', ha='right',\n",
    "# #             bbox=dict(facecolor='white', alpha=0.8, edgecolor='white'))\n",
    "#     plt.box(False)"
   ]
  },
  {
   "cell_type": "code",
   "execution_count": 42,
   "metadata": {
    "execution": {
     "iopub.execute_input": "2020-12-14T00:12:44.014014Z",
     "iopub.status.busy": "2020-12-14T00:12:44.013414Z",
     "iopub.status.idle": "2020-12-14T00:12:44.015351Z",
     "shell.execute_reply": "2020-12-14T00:12:44.015798Z"
    },
    "papermill": {
     "duration": 0.038489,
     "end_time": "2020-12-14T00:12:44.015944",
     "exception": false,
     "start_time": "2020-12-14T00:12:43.977455",
     "status": "completed"
    },
    "tags": []
   },
   "outputs": [],
   "source": [
    "# #hide_input\n",
    "# fig, ax = plt.subplots(figsize=(15, 8))\n",
    "# animator = animation.FuncAnimation(fig, draw_barchart, frames=range(g.day.values.min(), g.day.values.max()))\n",
    "# HTML(animator.to_jshtml())\n",
    "# # or use animator.to_html5_video() or animator.save() "
   ]
  },
  {
   "cell_type": "code",
   "execution_count": null,
   "metadata": {
    "papermill": {
     "duration": 0.031376,
     "end_time": "2020-12-14T00:12:44.079532",
     "exception": false,
     "start_time": "2020-12-14T00:12:44.048156",
     "status": "completed"
    },
    "tags": []
   },
   "outputs": [],
   "source": []
  },
  {
   "cell_type": "code",
   "execution_count": null,
   "metadata": {
    "papermill": {
     "duration": 0.034099,
     "end_time": "2020-12-14T00:12:44.146043",
     "exception": false,
     "start_time": "2020-12-14T00:12:44.111944",
     "status": "completed"
    },
    "tags": []
   },
   "outputs": [],
   "source": []
  },
  {
   "cell_type": "code",
   "execution_count": null,
   "metadata": {
    "papermill": {
     "duration": 0.031299,
     "end_time": "2020-12-14T00:12:44.209651",
     "exception": false,
     "start_time": "2020-12-14T00:12:44.178352",
     "status": "completed"
    },
    "tags": []
   },
   "outputs": [],
   "source": []
  }
 ],
 "metadata": {
  "kernelspec": {
   "display_name": "Python 3",
   "language": "python",
   "name": "python3"
  },
  "language_info": {
   "codemirror_mode": {
    "name": "ipython",
    "version": 3
   },
   "file_extension": ".py",
   "mimetype": "text/x-python",
   "name": "python",
   "nbconvert_exporter": "python",
   "pygments_lexer": "ipython3",
   "version": "3.6.12"
  },
  "papermill": {
   "duration": 8.006648,
   "end_time": "2020-12-14T00:12:44.549602",
   "environment_variables": {},
   "exception": null,
   "input_path": "2020-03-21-covid19exp.ipynb",
   "output_path": "2020-03-21-covid19exp.ipynb",
   "parameters": {},
   "start_time": "2020-12-14T00:12:36.542954",
   "version": "2.0.0"
  }
 },
 "nbformat": 4,
 "nbformat_minor": 4
}