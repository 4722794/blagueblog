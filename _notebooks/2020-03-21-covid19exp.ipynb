{
 "cells": [
  {
   "cell_type": "markdown",
   "id": "muslim-click",
   "metadata": {
    "papermill": {
     "duration": 0.040582,
     "end_time": "2021-12-15T12:13:11.331491",
     "exception": false,
     "start_time": "2021-12-15T12:13:11.290909",
     "status": "completed"
    },
    "tags": []
   },
   "source": [
    "# COVID-19 Case Race\n",
    "> A race chart to see rising cases around the world\n",
    "\n",
    "- author: Hargun Oberoi\n",
    "- image: images/covid-overview.png\n",
    "- hide: false\n",
    "- badges: false"
   ]
  },
  {
   "cell_type": "code",
   "execution_count": 1,
   "id": "proof-material",
   "metadata": {
    "execution": {
     "iopub.execute_input": "2021-12-15T12:13:11.416248Z",
     "iopub.status.busy": "2021-12-15T12:13:11.415569Z",
     "iopub.status.idle": "2021-12-15T12:13:11.806915Z",
     "shell.execute_reply": "2021-12-15T12:13:11.806278Z"
    },
    "papermill": {
     "duration": 0.439013,
     "end_time": "2021-12-15T12:13:11.807088",
     "exception": false,
     "start_time": "2021-12-15T12:13:11.368075",
     "status": "completed"
    },
    "tags": []
   },
   "outputs": [],
   "source": [
    "#hide\n",
    "import numpy as np\n",
    "import pandas as pd\n",
    "from jinja2 import Template\n",
    "from IPython.display import HTML"
   ]
  },
  {
   "cell_type": "code",
   "execution_count": 2,
   "id": "developed-terminology",
   "metadata": {
    "execution": {
     "iopub.execute_input": "2021-12-15T12:13:11.893129Z",
     "iopub.status.busy": "2021-12-15T12:13:11.892435Z",
     "iopub.status.idle": "2021-12-15T12:13:11.895288Z",
     "shell.execute_reply": "2021-12-15T12:13:11.894686Z"
    },
    "papermill": {
     "duration": 0.048433,
     "end_time": "2021-12-15T12:13:11.895436",
     "exception": false,
     "start_time": "2021-12-15T12:13:11.847003",
     "status": "completed"
    },
    "tags": []
   },
   "outputs": [],
   "source": [
    "#hide\n",
    "\n",
    "# FETCH\n",
    "base_url = 'https://raw.githubusercontent.com/pratapvardhan/notebooks/master/covid19/'\n",
    "paths = {\n",
    "    'mapping': base_url + 'mapping_countries.csv',\n",
    "    'overview': base_url + 'overview.tpl'\n",
    "}"
   ]
  },
  {
   "cell_type": "code",
   "execution_count": 3,
   "id": "dynamic-saver",
   "metadata": {
    "execution": {
     "iopub.execute_input": "2021-12-15T12:13:11.983372Z",
     "iopub.status.busy": "2021-12-15T12:13:11.982681Z",
     "iopub.status.idle": "2021-12-15T12:13:11.986099Z",
     "shell.execute_reply": "2021-12-15T12:13:11.985433Z"
    },
    "papermill": {
     "duration": 0.052546,
     "end_time": "2021-12-15T12:13:11.986243",
     "exception": false,
     "start_time": "2021-12-15T12:13:11.933697",
     "status": "completed"
    },
    "tags": []
   },
   "outputs": [
    {
     "data": {
      "text/plain": [
       "'https://raw.githubusercontent.com/pratapvardhan/notebooks/master/covid19/mapping_countries.csv'"
      ]
     },
     "execution_count": 3,
     "metadata": {},
     "output_type": "execute_result"
    }
   ],
   "source": [
    "#hide\n",
    "paths['mapping']"
   ]
  },
  {
   "cell_type": "code",
   "execution_count": 4,
   "id": "urban-software",
   "metadata": {
    "execution": {
     "iopub.execute_input": "2021-12-15T12:13:12.071880Z",
     "iopub.status.busy": "2021-12-15T12:13:12.071140Z",
     "iopub.status.idle": "2021-12-15T12:13:12.073577Z",
     "shell.execute_reply": "2021-12-15T12:13:12.072988Z"
    },
    "papermill": {
     "duration": 0.048972,
     "end_time": "2021-12-15T12:13:12.073727",
     "exception": false,
     "start_time": "2021-12-15T12:13:12.024755",
     "status": "completed"
    },
    "tags": []
   },
   "outputs": [],
   "source": [
    "#hide\n",
    "def get_mappings(url):\n",
    "    df = pd.read_csv(url)\n",
    "    return {\n",
    "        'df': df,\n",
    "        'replace.country': dict(df.dropna(subset=['Name']).set_index('Country')['Name']),\n",
    "        'map.continent': dict(df.set_index('Name')['Continent'])\n",
    "    }"
   ]
  },
  {
   "cell_type": "code",
   "execution_count": 5,
   "id": "intimate-machinery",
   "metadata": {
    "execution": {
     "iopub.execute_input": "2021-12-15T12:13:12.156456Z",
     "iopub.status.busy": "2021-12-15T12:13:12.155792Z",
     "iopub.status.idle": "2021-12-15T12:13:12.197746Z",
     "shell.execute_reply": "2021-12-15T12:13:12.198286Z"
    },
    "papermill": {
     "duration": 0.086785,
     "end_time": "2021-12-15T12:13:12.198464",
     "exception": false,
     "start_time": "2021-12-15T12:13:12.111679",
     "status": "completed"
    },
    "tags": []
   },
   "outputs": [],
   "source": [
    "#hide\n",
    "mapping = get_mappings(paths['mapping'])"
   ]
  },
  {
   "cell_type": "code",
   "execution_count": 6,
   "id": "certified-tactics",
   "metadata": {
    "execution": {
     "iopub.execute_input": "2021-12-15T12:13:12.283402Z",
     "iopub.status.busy": "2021-12-15T12:13:12.282697Z",
     "iopub.status.idle": "2021-12-15T12:13:12.284814Z",
     "shell.execute_reply": "2021-12-15T12:13:12.285334Z"
    },
    "papermill": {
     "duration": 0.04734,
     "end_time": "2021-12-15T12:13:12.285517",
     "exception": false,
     "start_time": "2021-12-15T12:13:12.238177",
     "status": "completed"
    },
    "tags": []
   },
   "outputs": [],
   "source": [
    "#hide\n",
    "def get_template(path):\n",
    "    from urllib.parse import urlparse\n",
    "    if bool(urlparse(path).netloc):\n",
    "        from urllib.request import urlopen\n",
    "        return urlopen(path).read().decode('utf8')\n",
    "    return open(path).read()"
   ]
  },
  {
   "cell_type": "code",
   "execution_count": 7,
   "id": "realistic-blast",
   "metadata": {
    "execution": {
     "iopub.execute_input": "2021-12-15T12:13:12.369255Z",
     "iopub.status.busy": "2021-12-15T12:13:12.368553Z",
     "iopub.status.idle": "2021-12-15T12:13:12.371157Z",
     "shell.execute_reply": "2021-12-15T12:13:12.370608Z"
    },
    "papermill": {
     "duration": 0.047768,
     "end_time": "2021-12-15T12:13:12.371306",
     "exception": false,
     "start_time": "2021-12-15T12:13:12.323538",
     "status": "completed"
    },
    "tags": []
   },
   "outputs": [],
   "source": [
    "#hide\n",
    "def get_frame(name):\n",
    "    url = (\n",
    "        'https://raw.githubusercontent.com/CSSEGISandData/COVID-19/master/csse_covid_19_data/'\n",
    "        f'csse_covid_19_time_series/time_series_covid19_{name}_global.csv')\n",
    "    df = pd.read_csv(url)\n",
    "    # rename countries\n",
    "    df['Country/Region'] = df['Country/Region'].replace(mapping['replace.country'])\n",
    "    return df"
   ]
  },
  {
   "cell_type": "code",
   "execution_count": 8,
   "id": "affiliated-characterization",
   "metadata": {
    "execution": {
     "iopub.execute_input": "2021-12-15T12:13:12.453946Z",
     "iopub.status.busy": "2021-12-15T12:13:12.453248Z",
     "iopub.status.idle": "2021-12-15T12:13:12.457208Z",
     "shell.execute_reply": "2021-12-15T12:13:12.457768Z"
    },
    "papermill": {
     "duration": 0.047335,
     "end_time": "2021-12-15T12:13:12.457916",
     "exception": false,
     "start_time": "2021-12-15T12:13:12.410581",
     "status": "completed"
    },
    "tags": []
   },
   "outputs": [],
   "source": [
    "#hide\n",
    "def get_dates(df):\n",
    "    dt_cols = df.columns[~df.columns.isin(['Province/State', 'Country/Region', 'Lat', 'Long'])]\n",
    "    LAST_DATE_I = -1\n",
    "    # sometimes last column may be empty, then go backwards\n",
    "    for i in range(-1, -len(dt_cols), -1):\n",
    "        if not df[dt_cols[i]].fillna(0).eq(0).all():\n",
    "            LAST_DATE_I = i\n",
    "            break\n",
    "    return LAST_DATE_I, dt_cols"
   ]
  },
  {
   "cell_type": "code",
   "execution_count": 9,
   "id": "recent-optimization",
   "metadata": {
    "execution": {
     "iopub.execute_input": "2021-12-15T12:13:12.538645Z",
     "iopub.status.busy": "2021-12-15T12:13:12.537916Z",
     "iopub.status.idle": "2021-12-15T12:13:13.012598Z",
     "shell.execute_reply": "2021-12-15T12:13:13.011995Z"
    },
    "papermill": {
     "duration": 0.516801,
     "end_time": "2021-12-15T12:13:13.012754",
     "exception": false,
     "start_time": "2021-12-15T12:13:12.495953",
     "status": "completed"
    },
    "tags": []
   },
   "outputs": [],
   "source": [
    "#hide\n",
    "COL_REGION = 'Country/Region'\n",
    "# Confirmed, Recovered, Deaths\n",
    "df = get_frame('confirmed')\n",
    "# dft_: timeseries, dfc_: today country agg\n",
    "dft_cases = df\n",
    "dft_deaths = get_frame('deaths')\n",
    "dft_recovered = get_frame('recovered')\n",
    "LAST_DATE_I, dt_cols = get_dates(df)"
   ]
  },
  {
   "cell_type": "code",
   "execution_count": 10,
   "id": "absolute-copper",
   "metadata": {
    "execution": {
     "iopub.execute_input": "2021-12-15T12:13:13.093367Z",
     "iopub.status.busy": "2021-12-15T12:13:13.092765Z",
     "iopub.status.idle": "2021-12-15T12:13:13.095277Z",
     "shell.execute_reply": "2021-12-15T12:13:13.094623Z"
    },
    "papermill": {
     "duration": 0.043627,
     "end_time": "2021-12-15T12:13:13.095408",
     "exception": false,
     "start_time": "2021-12-15T12:13:13.051781",
     "status": "completed"
    },
    "tags": []
   },
   "outputs": [],
   "source": [
    "#hide\n",
    "LAST_DATE_I, dt_cols = get_dates(df)\n",
    "dt_today =dt_cols[LAST_DATE_I]\n",
    "# dt_5day = dt_cols[LAST_DATE_I - 5]\n",
    "dt_yday = dt_cols[LAST_DATE_I - 1]"
   ]
  },
  {
   "cell_type": "code",
   "execution_count": 11,
   "id": "restricted-sheriff",
   "metadata": {
    "execution": {
     "iopub.execute_input": "2021-12-15T12:13:13.181250Z",
     "iopub.status.busy": "2021-12-15T12:13:13.180588Z",
     "iopub.status.idle": "2021-12-15T12:13:13.186250Z",
     "shell.execute_reply": "2021-12-15T12:13:13.185737Z"
    },
    "papermill": {
     "duration": 0.052465,
     "end_time": "2021-12-15T12:13:13.186365",
     "exception": false,
     "start_time": "2021-12-15T12:13:13.133900",
     "status": "completed"
    },
    "tags": []
   },
   "outputs": [],
   "source": [
    "#hide\n",
    "dfc_cases = dft_cases.groupby(COL_REGION)[dt_today].sum()\n",
    "dfc_deaths = dft_deaths.groupby(COL_REGION)[dt_today].sum()\n",
    "# dfp_cases = dft_cases.groupby(COL_REGION)[dt_5day].sum()\n",
    "# dfp_deaths = dft_deaths.groupby(COL_REGION)[dt_5day].sum()\n",
    "dfp_cases = dft_cases.groupby(COL_REGION)[dt_yday].sum()\n",
    "dfp_deaths = dft_deaths.groupby(COL_REGION)[dt_yday].sum()"
   ]
  },
  {
   "cell_type": "code",
   "execution_count": 12,
   "id": "deluxe-hepatitis",
   "metadata": {
    "execution": {
     "iopub.execute_input": "2021-12-15T12:13:13.275792Z",
     "iopub.status.busy": "2021-12-15T12:13:13.275092Z",
     "iopub.status.idle": "2021-12-15T12:13:13.279879Z",
     "shell.execute_reply": "2021-12-15T12:13:13.280906Z"
    },
    "papermill": {
     "duration": 0.055121,
     "end_time": "2021-12-15T12:13:13.281121",
     "exception": false,
     "start_time": "2021-12-15T12:13:13.226000",
     "status": "completed"
    },
    "tags": []
   },
   "outputs": [],
   "source": [
    "#hide\n",
    "df_table = (pd.DataFrame(dict(Cases = dfc_cases, Deaths = dfc_deaths, PCases = dfp_cases, PDeaths = dfp_deaths))\n",
    "            .sort_values(by = ['Cases','Deaths'], ascending = [False, False])\n",
    "            .reset_index())"
   ]
  },
  {
   "cell_type": "code",
   "execution_count": 13,
   "id": "educational-chancellor",
   "metadata": {
    "execution": {
     "iopub.execute_input": "2021-12-15T12:13:13.376235Z",
     "iopub.status.busy": "2021-12-15T12:13:13.375503Z",
     "iopub.status.idle": "2021-12-15T12:13:13.386004Z",
     "shell.execute_reply": "2021-12-15T12:13:13.385404Z"
    },
    "papermill": {
     "duration": 0.067916,
     "end_time": "2021-12-15T12:13:13.386146",
     "exception": false,
     "start_time": "2021-12-15T12:13:13.318230",
     "status": "completed"
    },
    "tags": []
   },
   "outputs": [
    {
     "data": {
      "text/html": [
       "<div>\n",
       "<style scoped>\n",
       "    .dataframe tbody tr th:only-of-type {\n",
       "        vertical-align: middle;\n",
       "    }\n",
       "\n",
       "    .dataframe tbody tr th {\n",
       "        vertical-align: top;\n",
       "    }\n",
       "\n",
       "    .dataframe thead th {\n",
       "        text-align: right;\n",
       "    }\n",
       "</style>\n",
       "<table border=\"1\" class=\"dataframe\">\n",
       "  <thead>\n",
       "    <tr style=\"text-align: right;\">\n",
       "      <th></th>\n",
       "      <th>Country/Region</th>\n",
       "      <th>Cases</th>\n",
       "      <th>Deaths</th>\n",
       "      <th>PCases</th>\n",
       "      <th>PDeaths</th>\n",
       "      <th>Cases (+)</th>\n",
       "      <th>Deaths (+)</th>\n",
       "      <th>Fatality Rate</th>\n",
       "      <th>Continent</th>\n",
       "    </tr>\n",
       "  </thead>\n",
       "  <tbody>\n",
       "    <tr>\n",
       "      <th>0</th>\n",
       "      <td>US</td>\n",
       "      <td>50233338</td>\n",
       "      <td>800343</td>\n",
       "      <td>50119589</td>\n",
       "      <td>798714</td>\n",
       "      <td>113749</td>\n",
       "      <td>1629</td>\n",
       "      <td>1.59</td>\n",
       "      <td>North America</td>\n",
       "    </tr>\n",
       "    <tr>\n",
       "      <th>1</th>\n",
       "      <td>India</td>\n",
       "      <td>34710628</td>\n",
       "      <td>476135</td>\n",
       "      <td>34703644</td>\n",
       "      <td>475888</td>\n",
       "      <td>6984</td>\n",
       "      <td>247</td>\n",
       "      <td>1.37</td>\n",
       "      <td>Asia</td>\n",
       "    </tr>\n",
       "    <tr>\n",
       "      <th>2</th>\n",
       "      <td>Brazil</td>\n",
       "      <td>22195775</td>\n",
       "      <td>616970</td>\n",
       "      <td>22177059</td>\n",
       "      <td>616457</td>\n",
       "      <td>18716</td>\n",
       "      <td>513</td>\n",
       "      <td>2.78</td>\n",
       "      <td>South America</td>\n",
       "    </tr>\n",
       "    <tr>\n",
       "      <th>3</th>\n",
       "      <td>United Kingdom</td>\n",
       "      <td>10995311</td>\n",
       "      <td>147085</td>\n",
       "      <td>10935244</td>\n",
       "      <td>146935</td>\n",
       "      <td>60067</td>\n",
       "      <td>150</td>\n",
       "      <td>1.34</td>\n",
       "      <td>Europe</td>\n",
       "    </tr>\n",
       "    <tr>\n",
       "      <th>4</th>\n",
       "      <td>Russia</td>\n",
       "      <td>9899139</td>\n",
       "      <td>286023</td>\n",
       "      <td>9871229</td>\n",
       "      <td>284909</td>\n",
       "      <td>27910</td>\n",
       "      <td>1114</td>\n",
       "      <td>2.89</td>\n",
       "      <td>Europe</td>\n",
       "    </tr>\n",
       "  </tbody>\n",
       "</table>\n",
       "</div>"
      ],
      "text/plain": [
       "   Country/Region     Cases  Deaths    PCases  PDeaths  Cases (+)  Deaths (+)  \\\n",
       "0              US  50233338  800343  50119589   798714     113749        1629   \n",
       "1           India  34710628  476135  34703644   475888       6984         247   \n",
       "2          Brazil  22195775  616970  22177059   616457      18716         513   \n",
       "3  United Kingdom  10995311  147085  10935244   146935      60067         150   \n",
       "4          Russia   9899139  286023   9871229   284909      27910        1114   \n",
       "\n",
       "   Fatality Rate      Continent  \n",
       "0           1.59  North America  \n",
       "1           1.37           Asia  \n",
       "2           2.78  South America  \n",
       "3           1.34         Europe  \n",
       "4           2.89         Europe  "
      ]
     },
     "execution_count": 13,
     "metadata": {},
     "output_type": "execute_result"
    }
   ],
   "source": [
    "#hide\n",
    "for c in 'Cases, Deaths'.split(', '):\n",
    "    df_table[f'{c} (+)'] = (df_table[c] - df_table[f'P{c}']).clip(0)\n",
    "    #Clip ça veut dire, les chiffres negatif sont interdit\n",
    "df_table['Fatality Rate'] = (100* df_table['Deaths']/ df_table['Cases']).round(2)\n",
    "df_table['Continent'] = df_table['Country/Region'].map(mapping['map.continent'])\n",
    "df_table.head(5)"
   ]
  },
  {
   "cell_type": "code",
   "execution_count": 14,
   "id": "aboriginal-bulgaria",
   "metadata": {
    "execution": {
     "iopub.execute_input": "2021-12-15T12:13:13.465805Z",
     "iopub.status.busy": "2021-12-15T12:13:13.465117Z",
     "iopub.status.idle": "2021-12-15T12:13:13.468196Z",
     "shell.execute_reply": "2021-12-15T12:13:13.468790Z"
    },
    "papermill": {
     "duration": 0.045058,
     "end_time": "2021-12-15T12:13:13.468917",
     "exception": false,
     "start_time": "2021-12-15T12:13:13.423859",
     "status": "completed"
    },
    "tags": []
   },
   "outputs": [],
   "source": [
    "#hide\n",
    "#delete problematic countries from table\n",
    "df_table = df_table[~df_table['Country/Region'].isin(['Cape Verde', 'Cruise Ship', 'Kosovo'])]"
   ]
  },
  {
   "cell_type": "code",
   "execution_count": 15,
   "id": "fantastic-effect",
   "metadata": {
    "execution": {
     "iopub.execute_input": "2021-12-15T12:13:13.557110Z",
     "iopub.status.busy": "2021-12-15T12:13:13.556419Z",
     "iopub.status.idle": "2021-12-15T12:13:13.580543Z",
     "shell.execute_reply": "2021-12-15T12:13:13.580012Z"
    },
    "papermill": {
     "duration": 0.069312,
     "end_time": "2021-12-15T12:13:13.580678",
     "exception": false,
     "start_time": "2021-12-15T12:13:13.511366",
     "status": "completed"
    },
    "tags": []
   },
   "outputs": [
    {
     "data": {
      "text/html": [
       "<div>\n",
       "<style scoped>\n",
       "    .dataframe tbody tr th:only-of-type {\n",
       "        vertical-align: middle;\n",
       "    }\n",
       "\n",
       "    .dataframe tbody tr th {\n",
       "        vertical-align: top;\n",
       "    }\n",
       "\n",
       "    .dataframe thead th {\n",
       "        text-align: right;\n",
       "    }\n",
       "</style>\n",
       "<table border=\"1\" class=\"dataframe\">\n",
       "  <thead>\n",
       "    <tr style=\"text-align: right;\">\n",
       "      <th></th>\n",
       "      <th>Country/Region</th>\n",
       "      <th>Cases</th>\n",
       "      <th>Deaths</th>\n",
       "      <th>PCases</th>\n",
       "      <th>PDeaths</th>\n",
       "      <th>Cases (+)</th>\n",
       "      <th>Deaths (+)</th>\n",
       "      <th>Fatality Rate</th>\n",
       "      <th>Continent</th>\n",
       "    </tr>\n",
       "  </thead>\n",
       "  <tbody>\n",
       "    <tr>\n",
       "      <th>0</th>\n",
       "      <td>US</td>\n",
       "      <td>50233338</td>\n",
       "      <td>800343</td>\n",
       "      <td>50119589</td>\n",
       "      <td>798714</td>\n",
       "      <td>113749</td>\n",
       "      <td>1629</td>\n",
       "      <td>1.6</td>\n",
       "      <td>North America</td>\n",
       "    </tr>\n",
       "    <tr>\n",
       "      <th>1</th>\n",
       "      <td>India</td>\n",
       "      <td>34710628</td>\n",
       "      <td>476135</td>\n",
       "      <td>34703644</td>\n",
       "      <td>475888</td>\n",
       "      <td>6984</td>\n",
       "      <td>247</td>\n",
       "      <td>1.4</td>\n",
       "      <td>Asia</td>\n",
       "    </tr>\n",
       "    <tr>\n",
       "      <th>2</th>\n",
       "      <td>Brazil</td>\n",
       "      <td>22195775</td>\n",
       "      <td>616970</td>\n",
       "      <td>22177059</td>\n",
       "      <td>616457</td>\n",
       "      <td>18716</td>\n",
       "      <td>513</td>\n",
       "      <td>2.8</td>\n",
       "      <td>South America</td>\n",
       "    </tr>\n",
       "    <tr>\n",
       "      <th>3</th>\n",
       "      <td>United Kingdom</td>\n",
       "      <td>10995311</td>\n",
       "      <td>147085</td>\n",
       "      <td>10935244</td>\n",
       "      <td>146935</td>\n",
       "      <td>60067</td>\n",
       "      <td>150</td>\n",
       "      <td>1.3</td>\n",
       "      <td>Europe</td>\n",
       "    </tr>\n",
       "    <tr>\n",
       "      <th>4</th>\n",
       "      <td>Russia</td>\n",
       "      <td>9899139</td>\n",
       "      <td>286023</td>\n",
       "      <td>9871229</td>\n",
       "      <td>284909</td>\n",
       "      <td>27910</td>\n",
       "      <td>1114</td>\n",
       "      <td>2.9</td>\n",
       "      <td>Europe</td>\n",
       "    </tr>\n",
       "  </tbody>\n",
       "</table>\n",
       "</div>"
      ],
      "text/plain": [
       "   Country/Region     Cases  Deaths    PCases  PDeaths  Cases (+)  Deaths (+)  \\\n",
       "0              US  50233338  800343  50119589   798714     113749        1629   \n",
       "1           India  34710628  476135  34703644   475888       6984         247   \n",
       "2          Brazil  22195775  616970  22177059   616457      18716         513   \n",
       "3  United Kingdom  10995311  147085  10935244   146935      60067         150   \n",
       "4          Russia   9899139  286023   9871229   284909      27910        1114   \n",
       "\n",
       "   Fatality Rate      Continent  \n",
       "0            1.6  North America  \n",
       "1            1.4           Asia  \n",
       "2            2.8  South America  \n",
       "3            1.3         Europe  \n",
       "4            2.9         Europe  "
      ]
     },
     "execution_count": 15,
     "metadata": {},
     "output_type": "execute_result"
    }
   ],
   "source": [
    "#hide\n",
    "df_table = (pd.DataFrame(dict(Cases=dfc_cases, Deaths=dfc_deaths, PCases=dfp_cases, PDeaths=dfp_deaths))\n",
    "             .sort_values(by=['Cases', 'Deaths'], ascending=[False, False])\n",
    "             .reset_index())\n",
    "df_table.rename(columns={'index': 'Country/Region'}, inplace=True)\n",
    "for c in 'Cases, Deaths'.split(', '):\n",
    "    df_table[f'{c} (+)'] = (df_table[c] - df_table[f'P{c}']).clip(0)  # DATA BUG\n",
    "df_table['Fatality Rate'] = (100 * df_table['Deaths'] / df_table['Cases']).round(1)\n",
    "df_table['Continent'] = df_table['Country/Region'].map(mapping['map.continent'])\n",
    "df_table.head(5)"
   ]
  },
  {
   "cell_type": "code",
   "execution_count": 16,
   "id": "fewer-occasion",
   "metadata": {
    "execution": {
     "iopub.execute_input": "2021-12-15T12:13:13.663256Z",
     "iopub.status.busy": "2021-12-15T12:13:13.662616Z",
     "iopub.status.idle": "2021-12-15T12:13:13.666364Z",
     "shell.execute_reply": "2021-12-15T12:13:13.665868Z"
    },
    "papermill": {
     "duration": 0.048118,
     "end_time": "2021-12-15T12:13:13.666519",
     "exception": false,
     "start_time": "2021-12-15T12:13:13.618401",
     "status": "completed"
    },
    "tags": []
   },
   "outputs": [],
   "source": [
    "#hide\n",
    "#delete problematic countries from table\n",
    "df_table = df_table[~df_table['Country/Region'].isin(['Cape Verde', 'Cruise Ship', 'Kosovo'])]"
   ]
  },
  {
   "cell_type": "code",
   "execution_count": 17,
   "id": "related-center",
   "metadata": {
    "execution": {
     "iopub.execute_input": "2021-12-15T12:13:13.769210Z",
     "iopub.status.busy": "2021-12-15T12:13:13.768604Z",
     "iopub.status.idle": "2021-12-15T12:13:13.771039Z",
     "shell.execute_reply": "2021-12-15T12:13:13.770558Z"
    },
    "papermill": {
     "duration": 0.067866,
     "end_time": "2021-12-15T12:13:13.771162",
     "exception": false,
     "start_time": "2021-12-15T12:13:13.703296",
     "status": "completed"
    },
    "tags": []
   },
   "outputs": [],
   "source": [
    "#hide\n",
    "metrics = [df_table.columns[index] for index in [1,2,5,6]]\n",
    "# s_china = df_table[df_table['Country/Region'].eq('China')][metrics].sum().add_prefix('China ')\n",
    "s_us = df_table[df_table['Country/Region'].eq('US')][metrics].sum().add_prefix('US ')\n",
    "s_eu = df_table[df_table['Continent'].eq('Europe')][metrics].sum().add_prefix('EU ')\n",
    "s_ind = df_table[df_table['Country/Region'].eq('India')][metrics].sum().add_prefix('India ')\n",
    "summary = {'updated': pd.to_datetime(dt_today), 'since': pd.to_datetime(dt_yday)}\n",
    "summary = {'updated': pd.to_datetime(dt_today), 'since': pd.to_datetime(dt_yday)}\n",
    "summary = {**summary, **df_table[metrics].sum(), **s_ind, **s_us, **s_eu}"
   ]
  },
  {
   "cell_type": "code",
   "execution_count": 18,
   "id": "engaging-syndrome",
   "metadata": {
    "execution": {
     "iopub.execute_input": "2021-12-15T12:13:13.857515Z",
     "iopub.status.busy": "2021-12-15T12:13:13.856814Z",
     "iopub.status.idle": "2021-12-15T12:13:13.871568Z",
     "shell.execute_reply": "2021-12-15T12:13:13.870985Z"
    },
    "papermill": {
     "duration": 0.062888,
     "end_time": "2021-12-15T12:13:13.871737",
     "exception": false,
     "start_time": "2021-12-15T12:13:13.808849",
     "status": "completed"
    },
    "tags": []
   },
   "outputs": [],
   "source": [
    "#hide\n",
    "dft_ct_new_cases = dft_cases.groupby(COL_REGION)[dt_cols].sum().diff(axis=1).fillna(0).astype(int)"
   ]
  },
  {
   "cell_type": "code",
   "execution_count": 19,
   "id": "neutral-assignment",
   "metadata": {
    "execution": {
     "iopub.execute_input": "2021-12-15T12:13:13.960493Z",
     "iopub.status.busy": "2021-12-15T12:13:13.959801Z",
     "iopub.status.idle": "2021-12-15T12:13:13.965236Z",
     "shell.execute_reply": "2021-12-15T12:13:13.964695Z"
    },
    "papermill": {
     "duration": 0.052417,
     "end_time": "2021-12-15T12:13:13.965371",
     "exception": false,
     "start_time": "2021-12-15T12:13:13.912954",
     "status": "completed"
    },
    "tags": []
   },
   "outputs": [],
   "source": [
    "#hide\n",
    "everydaycases = dft_ct_new_cases.cumsum(axis=1)"
   ]
  },
  {
   "cell_type": "code",
   "execution_count": 20,
   "id": "parliamentary-calgary",
   "metadata": {
    "execution": {
     "iopub.execute_input": "2021-12-15T12:13:14.048390Z",
     "iopub.status.busy": "2021-12-15T12:13:14.047648Z",
     "iopub.status.idle": "2021-12-15T12:13:14.751226Z",
     "shell.execute_reply": "2021-12-15T12:13:14.750631Z"
    },
    "papermill": {
     "duration": 0.747067,
     "end_time": "2021-12-15T12:13:14.751372",
     "exception": false,
     "start_time": "2021-12-15T12:13:14.004305",
     "status": "completed"
    },
    "tags": []
   },
   "outputs": [],
   "source": [
    "#hide\n",
    "import pandas as pd\n",
    "import matplotlib.pyplot as plt\n",
    "import matplotlib.ticker as ticker\n",
    "import matplotlib.animation as animation\n",
    "from IPython.display import HTML"
   ]
  },
  {
   "cell_type": "code",
   "execution_count": 21,
   "id": "lasting-extraction",
   "metadata": {
    "execution": {
     "iopub.execute_input": "2021-12-15T12:13:14.835822Z",
     "iopub.status.busy": "2021-12-15T12:13:14.835120Z",
     "iopub.status.idle": "2021-12-15T12:13:14.841147Z",
     "shell.execute_reply": "2021-12-15T12:13:14.841834Z"
    },
    "papermill": {
     "duration": 0.050876,
     "end_time": "2021-12-15T12:13:14.841983",
     "exception": false,
     "start_time": "2021-12-15T12:13:14.791107",
     "status": "completed"
    },
    "tags": []
   },
   "outputs": [],
   "source": [
    "#hide\n",
    "t = everydaycases.stack()"
   ]
  },
  {
   "cell_type": "code",
   "execution_count": 22,
   "id": "premier-sleeve",
   "metadata": {
    "execution": {
     "iopub.execute_input": "2021-12-15T12:13:14.921416Z",
     "iopub.status.busy": "2021-12-15T12:13:14.920796Z",
     "iopub.status.idle": "2021-12-15T12:13:14.931416Z",
     "shell.execute_reply": "2021-12-15T12:13:14.932097Z"
    },
    "papermill": {
     "duration": 0.05283,
     "end_time": "2021-12-15T12:13:14.932239",
     "exception": false,
     "start_time": "2021-12-15T12:13:14.879409",
     "status": "completed"
    },
    "tags": []
   },
   "outputs": [],
   "source": [
    "#hide\n",
    "g = t.reset_index(['Country/Region'])"
   ]
  },
  {
   "cell_type": "code",
   "execution_count": 23,
   "id": "distributed-pittsburgh",
   "metadata": {
    "execution": {
     "iopub.execute_input": "2021-12-15T12:13:15.018452Z",
     "iopub.status.busy": "2021-12-15T12:13:15.017757Z",
     "iopub.status.idle": "2021-12-15T12:13:15.020753Z",
     "shell.execute_reply": "2021-12-15T12:13:15.020083Z"
    },
    "papermill": {
     "duration": 0.047005,
     "end_time": "2021-12-15T12:13:15.020892",
     "exception": false,
     "start_time": "2021-12-15T12:13:14.973887",
     "status": "completed"
    },
    "tags": []
   },
   "outputs": [],
   "source": [
    "#hide\n",
    "g.index.name = 'date'"
   ]
  },
  {
   "cell_type": "code",
   "execution_count": 24,
   "id": "naked-donor",
   "metadata": {
    "execution": {
     "iopub.execute_input": "2021-12-15T12:13:15.108991Z",
     "iopub.status.busy": "2021-12-15T12:13:15.107462Z",
     "iopub.status.idle": "2021-12-15T12:13:15.109731Z",
     "shell.execute_reply": "2021-12-15T12:13:15.110306Z"
    },
    "papermill": {
     "duration": 0.046915,
     "end_time": "2021-12-15T12:13:15.110476",
     "exception": false,
     "start_time": "2021-12-15T12:13:15.063561",
     "status": "completed"
    },
    "tags": []
   },
   "outputs": [],
   "source": [
    "# #hide\n",
    "# g = g.reset_index(['date'])"
   ]
  },
  {
   "cell_type": "code",
   "execution_count": 25,
   "id": "incomplete-mustang",
   "metadata": {
    "execution": {
     "iopub.execute_input": "2021-12-15T12:13:15.195156Z",
     "iopub.status.busy": "2021-12-15T12:13:15.194482Z",
     "iopub.status.idle": "2021-12-15T12:13:15.198336Z",
     "shell.execute_reply": "2021-12-15T12:13:15.198892Z"
    },
    "papermill": {
     "duration": 0.04833,
     "end_time": "2021-12-15T12:13:15.199045",
     "exception": false,
     "start_time": "2021-12-15T12:13:15.150715",
     "status": "completed"
    },
    "tags": []
   },
   "outputs": [],
   "source": [
    "#hide\n",
    "# g.head()"
   ]
  },
  {
   "cell_type": "code",
   "execution_count": 26,
   "id": "specific-kruger",
   "metadata": {
    "execution": {
     "iopub.execute_input": "2021-12-15T12:13:15.281536Z",
     "iopub.status.busy": "2021-12-15T12:13:15.280846Z",
     "iopub.status.idle": "2021-12-15T12:13:15.285767Z",
     "shell.execute_reply": "2021-12-15T12:13:15.286338Z"
    },
    "papermill": {
     "duration": 0.048268,
     "end_time": "2021-12-15T12:13:15.286500",
     "exception": false,
     "start_time": "2021-12-15T12:13:15.238232",
     "status": "completed"
    },
    "tags": []
   },
   "outputs": [],
   "source": [
    "#hide\n",
    "# g.columns = ['date','country','cases']"
   ]
  },
  {
   "cell_type": "code",
   "execution_count": 27,
   "id": "tender-conversion",
   "metadata": {
    "execution": {
     "iopub.execute_input": "2021-12-15T12:13:15.370300Z",
     "iopub.status.busy": "2021-12-15T12:13:15.368860Z",
     "iopub.status.idle": "2021-12-15T12:13:15.371042Z",
     "shell.execute_reply": "2021-12-15T12:13:15.371579Z"
    },
    "papermill": {
     "duration": 0.045318,
     "end_time": "2021-12-15T12:13:15.371754",
     "exception": false,
     "start_time": "2021-12-15T12:13:15.326436",
     "status": "completed"
    },
    "tags": []
   },
   "outputs": [],
   "source": [
    "#hide\n",
    "# g['continent'] = g.country"
   ]
  },
  {
   "cell_type": "code",
   "execution_count": 28,
   "id": "substantial-wilderness",
   "metadata": {
    "execution": {
     "iopub.execute_input": "2021-12-15T12:13:15.469735Z",
     "iopub.status.busy": "2021-12-15T12:13:15.469057Z",
     "iopub.status.idle": "2021-12-15T12:13:15.473032Z",
     "shell.execute_reply": "2021-12-15T12:13:15.473534Z"
    },
    "papermill": {
     "duration": 0.058698,
     "end_time": "2021-12-15T12:13:15.473825",
     "exception": false,
     "start_time": "2021-12-15T12:13:15.415127",
     "status": "completed"
    },
    "tags": []
   },
   "outputs": [],
   "source": [
    "#hide\n",
    "# cols = list(g.columns.values)"
   ]
  },
  {
   "cell_type": "code",
   "execution_count": 29,
   "id": "solved-farming",
   "metadata": {
    "execution": {
     "iopub.execute_input": "2021-12-15T12:13:15.556299Z",
     "iopub.status.busy": "2021-12-15T12:13:15.555598Z",
     "iopub.status.idle": "2021-12-15T12:13:15.558296Z",
     "shell.execute_reply": "2021-12-15T12:13:15.557602Z"
    },
    "papermill": {
     "duration": 0.045251,
     "end_time": "2021-12-15T12:13:15.558425",
     "exception": false,
     "start_time": "2021-12-15T12:13:15.513174",
     "status": "completed"
    },
    "tags": []
   },
   "outputs": [],
   "source": [
    "#hide\n",
    "# cols.insert(0, cols.pop())"
   ]
  },
  {
   "cell_type": "code",
   "execution_count": 30,
   "id": "executed-adoption",
   "metadata": {
    "execution": {
     "iopub.execute_input": "2021-12-15T12:13:15.644060Z",
     "iopub.status.busy": "2021-12-15T12:13:15.643335Z",
     "iopub.status.idle": "2021-12-15T12:13:15.648002Z",
     "shell.execute_reply": "2021-12-15T12:13:15.647352Z"
    },
    "papermill": {
     "duration": 0.050032,
     "end_time": "2021-12-15T12:13:15.648138",
     "exception": false,
     "start_time": "2021-12-15T12:13:15.598106",
     "status": "completed"
    },
    "tags": []
   },
   "outputs": [],
   "source": [
    "#hide\n",
    "# g = g[cols]"
   ]
  },
  {
   "cell_type": "code",
   "execution_count": 31,
   "id": "subject-dublin",
   "metadata": {
    "execution": {
     "iopub.execute_input": "2021-12-15T12:13:15.731964Z",
     "iopub.status.busy": "2021-12-15T12:13:15.731222Z",
     "iopub.status.idle": "2021-12-15T12:13:15.733393Z",
     "shell.execute_reply": "2021-12-15T12:13:15.732725Z"
    },
    "papermill": {
     "duration": 0.045023,
     "end_time": "2021-12-15T12:13:15.733573",
     "exception": false,
     "start_time": "2021-12-15T12:13:15.688550",
     "status": "completed"
    },
    "tags": []
   },
   "outputs": [],
   "source": [
    "#hide\n",
    "# g['continent'] = g['continent'].map(mapping['map.continent'])"
   ]
  },
  {
   "cell_type": "code",
   "execution_count": 32,
   "id": "freelance-scout",
   "metadata": {
    "execution": {
     "iopub.execute_input": "2021-12-15T12:13:15.818614Z",
     "iopub.status.busy": "2021-12-15T12:13:15.817934Z",
     "iopub.status.idle": "2021-12-15T12:13:15.819855Z",
     "shell.execute_reply": "2021-12-15T12:13:15.820410Z"
    },
    "papermill": {
     "duration": 0.047299,
     "end_time": "2021-12-15T12:13:15.820571",
     "exception": false,
     "start_time": "2021-12-15T12:13:15.773272",
     "status": "completed"
    },
    "tags": []
   },
   "outputs": [],
   "source": [
    "#hide\n",
    "# g.head()"
   ]
  },
  {
   "cell_type": "code",
   "execution_count": 33,
   "id": "limited-engine",
   "metadata": {
    "execution": {
     "iopub.execute_input": "2021-12-15T12:13:15.901963Z",
     "iopub.status.busy": "2021-12-15T12:13:15.901227Z",
     "iopub.status.idle": "2021-12-15T12:13:15.905436Z",
     "shell.execute_reply": "2021-12-15T12:13:15.905990Z"
    },
    "papermill": {
     "duration": 0.046667,
     "end_time": "2021-12-15T12:13:15.906139",
     "exception": false,
     "start_time": "2021-12-15T12:13:15.859472",
     "status": "completed"
    },
    "tags": []
   },
   "outputs": [],
   "source": [
    "# hide\n",
    "# g['date'] = g['date'].astype('datetime64[ns]')"
   ]
  },
  {
   "cell_type": "code",
   "execution_count": 34,
   "id": "sophisticated-supervisor",
   "metadata": {
    "execution": {
     "iopub.execute_input": "2021-12-15T12:13:15.993402Z",
     "iopub.status.busy": "2021-12-15T12:13:15.992720Z",
     "iopub.status.idle": "2021-12-15T12:13:15.994890Z",
     "shell.execute_reply": "2021-12-15T12:13:15.994224Z"
    },
    "papermill": {
     "duration": 0.049902,
     "end_time": "2021-12-15T12:13:15.995041",
     "exception": false,
     "start_time": "2021-12-15T12:13:15.945139",
     "status": "completed"
    },
    "tags": []
   },
   "outputs": [],
   "source": [
    "#hide\n",
    "# g['date'] = g.date.dt.dayofyear"
   ]
  },
  {
   "cell_type": "code",
   "execution_count": 35,
   "id": "inside-dubai",
   "metadata": {
    "execution": {
     "iopub.execute_input": "2021-12-15T12:13:16.079947Z",
     "iopub.status.busy": "2021-12-15T12:13:16.079190Z",
     "iopub.status.idle": "2021-12-15T12:13:16.083959Z",
     "shell.execute_reply": "2021-12-15T12:13:16.083354Z"
    },
    "papermill": {
     "duration": 0.048675,
     "end_time": "2021-12-15T12:13:16.084116",
     "exception": false,
     "start_time": "2021-12-15T12:13:16.035441",
     "status": "completed"
    },
    "tags": []
   },
   "outputs": [],
   "source": [
    "#hide\n",
    "# g = g.rename(columns= {'continent':'group','country':'name','cases':'value'})"
   ]
  },
  {
   "cell_type": "code",
   "execution_count": 36,
   "id": "fleet-motorcycle",
   "metadata": {
    "execution": {
     "iopub.execute_input": "2021-12-15T12:13:16.172952Z",
     "iopub.status.busy": "2021-12-15T12:13:16.172258Z",
     "iopub.status.idle": "2021-12-15T12:13:16.176826Z",
     "shell.execute_reply": "2021-12-15T12:13:16.176268Z"
    },
    "papermill": {
     "duration": 0.04898,
     "end_time": "2021-12-15T12:13:16.176978",
     "exception": false,
     "start_time": "2021-12-15T12:13:16.127998",
     "status": "completed"
    },
    "tags": []
   },
   "outputs": [],
   "source": [
    "#hide\n",
    "# cols = ['name','group','day','value']"
   ]
  },
  {
   "cell_type": "code",
   "execution_count": 37,
   "id": "continued-sleeping",
   "metadata": {
    "execution": {
     "iopub.execute_input": "2021-12-15T12:13:16.262278Z",
     "iopub.status.busy": "2021-12-15T12:13:16.261578Z",
     "iopub.status.idle": "2021-12-15T12:13:16.264081Z",
     "shell.execute_reply": "2021-12-15T12:13:16.263377Z"
    },
    "papermill": {
     "duration": 0.047006,
     "end_time": "2021-12-15T12:13:16.264234",
     "exception": false,
     "start_time": "2021-12-15T12:13:16.217228",
     "status": "completed"
    },
    "tags": []
   },
   "outputs": [],
   "source": [
    "#hide\n",
    "# g.rename(columns= {'date':'day'},inplace = True)"
   ]
  },
  {
   "cell_type": "code",
   "execution_count": 38,
   "id": "major-fight",
   "metadata": {
    "execution": {
     "iopub.execute_input": "2021-12-15T12:13:16.349864Z",
     "iopub.status.busy": "2021-12-15T12:13:16.349162Z",
     "iopub.status.idle": "2021-12-15T12:13:16.351746Z",
     "shell.execute_reply": "2021-12-15T12:13:16.351103Z"
    },
    "papermill": {
     "duration": 0.046862,
     "end_time": "2021-12-15T12:13:16.351904",
     "exception": false,
     "start_time": "2021-12-15T12:13:16.305042",
     "status": "completed"
    },
    "tags": []
   },
   "outputs": [],
   "source": [
    "#hide\n",
    "# g = g[cols]"
   ]
  },
  {
   "cell_type": "code",
   "execution_count": 39,
   "id": "structured-mobile",
   "metadata": {
    "execution": {
     "iopub.execute_input": "2021-12-15T12:13:16.437971Z",
     "iopub.status.busy": "2021-12-15T12:13:16.437265Z",
     "iopub.status.idle": "2021-12-15T12:13:16.442274Z",
     "shell.execute_reply": "2021-12-15T12:13:16.441689Z"
    },
    "papermill": {
     "duration": 0.050191,
     "end_time": "2021-12-15T12:13:16.442438",
     "exception": false,
     "start_time": "2021-12-15T12:13:16.392247",
     "status": "completed"
    },
    "tags": []
   },
   "outputs": [],
   "source": [
    "# #hide\n",
    "# g = g[g.group.notna()]"
   ]
  },
  {
   "cell_type": "code",
   "execution_count": 40,
   "id": "determined-closing",
   "metadata": {
    "execution": {
     "iopub.execute_input": "2021-12-15T12:13:16.532554Z",
     "iopub.status.busy": "2021-12-15T12:13:16.531816Z",
     "iopub.status.idle": "2021-12-15T12:13:16.534045Z",
     "shell.execute_reply": "2021-12-15T12:13:16.533344Z"
    },
    "papermill": {
     "duration": 0.0498,
     "end_time": "2021-12-15T12:13:16.534203",
     "exception": false,
     "start_time": "2021-12-15T12:13:16.484403",
     "status": "completed"
    },
    "tags": []
   },
   "outputs": [],
   "source": [
    "# #hide\n",
    "# colors = dict(zip(\n",
    "#     [\"Oceania\", \"Europe\", \"Asia\", \"South America\", \"Middle East\", \"North America\", \"Africa\"],\n",
    "#     [\"#adb0ff\", \"#ffb3ff\", \"#90d595\", \"#e48381\", \"#aafbff\", \"#f7bb5f\", \"#eafb50\"]\n",
    "# ))\n",
    "# group_lk = g.set_index('name')['group'].to_dict()"
   ]
  },
  {
   "cell_type": "code",
   "execution_count": null,
   "id": "gross-drinking",
   "metadata": {
    "papermill": {
     "duration": 0.040303,
     "end_time": "2021-12-15T12:13:16.614965",
     "exception": false,
     "start_time": "2021-12-15T12:13:16.574662",
     "status": "completed"
    },
    "tags": []
   },
   "outputs": [],
   "source": []
  },
  {
   "cell_type": "code",
   "execution_count": 41,
   "id": "subject-macintosh",
   "metadata": {
    "execution": {
     "iopub.execute_input": "2021-12-15T12:13:16.700439Z",
     "iopub.status.busy": "2021-12-15T12:13:16.699721Z",
     "iopub.status.idle": "2021-12-15T12:13:16.702221Z",
     "shell.execute_reply": "2021-12-15T12:13:16.701646Z"
    },
    "papermill": {
     "duration": 0.047015,
     "end_time": "2021-12-15T12:13:16.702371",
     "exception": false,
     "start_time": "2021-12-15T12:13:16.655356",
     "status": "completed"
    },
    "tags": []
   },
   "outputs": [],
   "source": [
    "# #hide\n",
    "# fig, ax = plt.subplots(figsize=(15, 8))\n",
    "\n",
    "# def draw_barchart(current_day):\n",
    "#     dff = g[g['day'].eq(current_day)].sort_values(by='value', ascending=True).tail(10)\n",
    "#     ax.clear()\n",
    "#     ax.barh(dff['name'], dff['value'], color=[colors[group_lk[x]] for x in dff['name']])\n",
    "#     dx = dff['value'].max() / 200\n",
    "    \n",
    "#     for i, (value, name) in enumerate(zip(dff['value'], dff['name'])):\n",
    "#         ax.text(value-dx, i,     name,           size=14, weight=600, ha='right', va='bottom')\n",
    "#         ax.text(value-dx, i-.25, group_lk[name], size=10, color='#444444', ha='right', va='baseline')\n",
    "#         ax.text(value+dx, i,     f'{value:,.0f}',  size=14, ha='left',  va='center')\n",
    "#     ax.text(1, 0.4, current_day, transform=ax.transAxes, color='#777777', size=46, ha='right', weight=800)\n",
    "#     ax.text(0, 1.06, 'Population (thousands)', transform=ax.transAxes, size=12, color='#777777')\n",
    "#     ax.xaxis.set_major_formatter(ticker.StrMethodFormatter('{x:,.0f}'))\n",
    "#     ax.xaxis.set_ticks_position('top')\n",
    "#     ax.tick_params(axis='x', colors='#777777', labelsize=12)\n",
    "#     ax.set_yticks([])\n",
    "#     ax.margins(0, 0.01)\n",
    "#     ax.grid(which='major', axis='x', linestyle='-')\n",
    "#     ax.set_axisbelow(True)\n",
    "    \n",
    "#     ax.text(0, 1.15, 'Coronavirus',\n",
    "#             transform=ax.transAxes, size=24, weight=600, ha='left', va='top')\n",
    "# #     ax.text(1, 0, 'by @pratapvardhan; credit @jburnmurdoch', transform=ax.transAxes, color='#777777', ha='right',\n",
    "# #             bbox=dict(facecolor='white', alpha=0.8, edgecolor='white'))\n",
    "#     plt.box(False)"
   ]
  },
  {
   "cell_type": "code",
   "execution_count": 42,
   "id": "sexual-wages",
   "metadata": {
    "execution": {
     "iopub.execute_input": "2021-12-15T12:13:16.787344Z",
     "iopub.status.busy": "2021-12-15T12:13:16.786644Z",
     "iopub.status.idle": "2021-12-15T12:13:16.789375Z",
     "shell.execute_reply": "2021-12-15T12:13:16.788820Z"
    },
    "papermill": {
     "duration": 0.046951,
     "end_time": "2021-12-15T12:13:16.789525",
     "exception": false,
     "start_time": "2021-12-15T12:13:16.742574",
     "status": "completed"
    },
    "tags": []
   },
   "outputs": [],
   "source": [
    "# #hide_input\n",
    "# fig, ax = plt.subplots(figsize=(15, 8))\n",
    "# animator = animation.FuncAnimation(fig, draw_barchart, frames=range(g.day.values.min(), g.day.values.max()))\n",
    "# HTML(animator.to_jshtml())\n",
    "# # or use animator.to_html5_video() or animator.save() "
   ]
  },
  {
   "cell_type": "code",
   "execution_count": null,
   "id": "australian-container",
   "metadata": {
    "papermill": {
     "duration": 0.040159,
     "end_time": "2021-12-15T12:13:16.868552",
     "exception": false,
     "start_time": "2021-12-15T12:13:16.828393",
     "status": "completed"
    },
    "tags": []
   },
   "outputs": [],
   "source": []
  },
  {
   "cell_type": "code",
   "execution_count": null,
   "id": "mediterranean-pontiac",
   "metadata": {
    "papermill": {
     "duration": 0.039586,
     "end_time": "2021-12-15T12:13:16.948488",
     "exception": false,
     "start_time": "2021-12-15T12:13:16.908902",
     "status": "completed"
    },
    "tags": []
   },
   "outputs": [],
   "source": []
  },
  {
   "cell_type": "code",
   "execution_count": null,
   "id": "aging-legislature",
   "metadata": {
    "papermill": {
     "duration": 0.039746,
     "end_time": "2021-12-15T12:13:17.028791",
     "exception": false,
     "start_time": "2021-12-15T12:13:16.989045",
     "status": "completed"
    },
    "tags": []
   },
   "outputs": [],
   "source": []
  }
 ],
 "metadata": {
  "kernelspec": {
   "display_name": "Python 3",
   "language": "python",
   "name": "python3"
  },
  "language_info": {
   "codemirror_mode": {
    "name": "ipython",
    "version": 3
   },
   "file_extension": ".py",
   "mimetype": "text/x-python",
   "name": "python",
   "nbconvert_exporter": "python",
   "pygments_lexer": "ipython3",
   "version": "3.6.15"
  },
  "papermill": {
   "duration": 7.493945,
   "end_time": "2021-12-15T12:13:17.478744",
   "environment_variables": {},
   "exception": null,
   "input_path": "2020-03-21-covid19exp.ipynb",
   "output_path": "2020-03-21-covid19exp.ipynb",
   "parameters": {},
   "start_time": "2021-12-15T12:13:09.984799",
   "version": "2.0.0"
  }
 },
 "nbformat": 4,
 "nbformat_minor": 5
}