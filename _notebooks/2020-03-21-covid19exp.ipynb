{
 "cells": [
  {
   "cell_type": "markdown",
   "id": "muslim-click",
   "metadata": {
    "papermill": {
     "duration": 0.055093,
     "end_time": "2022-08-11T00:45:31.393250",
     "exception": false,
     "start_time": "2022-08-11T00:45:31.338157",
     "status": "completed"
    },
    "tags": []
   },
   "source": [
    "# COVID-19 Case Race\n",
    "> A race chart to see rising cases around the world\n",
    "\n",
    "- author: Hargun Oberoi\n",
    "- image: images/covid-overview.png\n",
    "- hide: false\n",
    "- badges: false"
   ]
  },
  {
   "cell_type": "code",
   "execution_count": 1,
   "id": "proof-material",
   "metadata": {
    "execution": {
     "iopub.execute_input": "2022-08-11T00:45:31.506597Z",
     "iopub.status.busy": "2022-08-11T00:45:31.505805Z",
     "iopub.status.idle": "2022-08-11T00:45:31.936444Z",
     "shell.execute_reply": "2022-08-11T00:45:31.935773Z"
    },
    "papermill": {
     "duration": 0.493214,
     "end_time": "2022-08-11T00:45:31.936624",
     "exception": false,
     "start_time": "2022-08-11T00:45:31.443410",
     "status": "completed"
    },
    "tags": []
   },
   "outputs": [],
   "source": [
    "#hide\n",
    "import numpy as np\n",
    "import pandas as pd\n",
    "from jinja2 import Template\n",
    "from IPython.display import HTML"
   ]
  },
  {
   "cell_type": "code",
   "execution_count": 2,
   "id": "developed-terminology",
   "metadata": {
    "execution": {
     "iopub.execute_input": "2022-08-11T00:45:32.040269Z",
     "iopub.status.busy": "2022-08-11T00:45:32.039240Z",
     "iopub.status.idle": "2022-08-11T00:45:32.044256Z",
     "shell.execute_reply": "2022-08-11T00:45:32.044903Z"
    },
    "papermill": {
     "duration": 0.059313,
     "end_time": "2022-08-11T00:45:32.045081",
     "exception": false,
     "start_time": "2022-08-11T00:45:31.985768",
     "status": "completed"
    },
    "tags": []
   },
   "outputs": [],
   "source": [
    "#hide\n",
    "\n",
    "# FETCH\n",
    "base_url = 'https://raw.githubusercontent.com/pratapvardhan/notebooks/master/covid19/'\n",
    "paths = {\n",
    "    'mapping': base_url + 'mapping_countries.csv',\n",
    "    'overview': base_url + 'overview.tpl'\n",
    "}"
   ]
  },
  {
   "cell_type": "code",
   "execution_count": 3,
   "id": "dynamic-saver",
   "metadata": {
    "execution": {
     "iopub.execute_input": "2022-08-11T00:45:32.139398Z",
     "iopub.status.busy": "2022-08-11T00:45:32.138638Z",
     "iopub.status.idle": "2022-08-11T00:45:32.145232Z",
     "shell.execute_reply": "2022-08-11T00:45:32.145845Z"
    },
    "papermill": {
     "duration": 0.059874,
     "end_time": "2022-08-11T00:45:32.145990",
     "exception": false,
     "start_time": "2022-08-11T00:45:32.086116",
     "status": "completed"
    },
    "tags": []
   },
   "outputs": [
    {
     "data": {
      "text/plain": [
       "'https://raw.githubusercontent.com/pratapvardhan/notebooks/master/covid19/mapping_countries.csv'"
      ]
     },
     "execution_count": 3,
     "metadata": {},
     "output_type": "execute_result"
    }
   ],
   "source": [
    "#hide\n",
    "paths['mapping']"
   ]
  },
  {
   "cell_type": "code",
   "execution_count": 4,
   "id": "urban-software",
   "metadata": {
    "execution": {
     "iopub.execute_input": "2022-08-11T00:45:32.233852Z",
     "iopub.status.busy": "2022-08-11T00:45:32.232932Z",
     "iopub.status.idle": "2022-08-11T00:45:32.236216Z",
     "shell.execute_reply": "2022-08-11T00:45:32.235463Z"
    },
    "papermill": {
     "duration": 0.050933,
     "end_time": "2022-08-11T00:45:32.236366",
     "exception": false,
     "start_time": "2022-08-11T00:45:32.185433",
     "status": "completed"
    },
    "tags": []
   },
   "outputs": [],
   "source": [
    "#hide\n",
    "def get_mappings(url):\n",
    "    df = pd.read_csv(url)\n",
    "    return {\n",
    "        'df': df,\n",
    "        'replace.country': dict(df.dropna(subset=['Name']).set_index('Country')['Name']),\n",
    "        'map.continent': dict(df.set_index('Name')['Continent'])\n",
    "    }"
   ]
  },
  {
   "cell_type": "code",
   "execution_count": 5,
   "id": "intimate-machinery",
   "metadata": {
    "execution": {
     "iopub.execute_input": "2022-08-11T00:45:32.322935Z",
     "iopub.status.busy": "2022-08-11T00:45:32.321897Z",
     "iopub.status.idle": "2022-08-11T00:45:32.362419Z",
     "shell.execute_reply": "2022-08-11T00:45:32.361799Z"
    },
    "papermill": {
     "duration": 0.085647,
     "end_time": "2022-08-11T00:45:32.362557",
     "exception": false,
     "start_time": "2022-08-11T00:45:32.276910",
     "status": "completed"
    },
    "tags": []
   },
   "outputs": [],
   "source": [
    "#hide\n",
    "mapping = get_mappings(paths['mapping'])"
   ]
  },
  {
   "cell_type": "code",
   "execution_count": 6,
   "id": "certified-tactics",
   "metadata": {
    "execution": {
     "iopub.execute_input": "2022-08-11T00:45:32.447621Z",
     "iopub.status.busy": "2022-08-11T00:45:32.446849Z",
     "iopub.status.idle": "2022-08-11T00:45:32.449984Z",
     "shell.execute_reply": "2022-08-11T00:45:32.449234Z"
    },
    "papermill": {
     "duration": 0.048536,
     "end_time": "2022-08-11T00:45:32.450109",
     "exception": false,
     "start_time": "2022-08-11T00:45:32.401573",
     "status": "completed"
    },
    "tags": []
   },
   "outputs": [],
   "source": [
    "#hide\n",
    "def get_template(path):\n",
    "    from urllib.parse import urlparse\n",
    "    if bool(urlparse(path).netloc):\n",
    "        from urllib.request import urlopen\n",
    "        return urlopen(path).read().decode('utf8')\n",
    "    return open(path).read()"
   ]
  },
  {
   "cell_type": "code",
   "execution_count": 7,
   "id": "realistic-blast",
   "metadata": {
    "execution": {
     "iopub.execute_input": "2022-08-11T00:45:32.534666Z",
     "iopub.status.busy": "2022-08-11T00:45:32.533753Z",
     "iopub.status.idle": "2022-08-11T00:45:32.537619Z",
     "shell.execute_reply": "2022-08-11T00:45:32.536863Z"
    },
    "papermill": {
     "duration": 0.048309,
     "end_time": "2022-08-11T00:45:32.537764",
     "exception": false,
     "start_time": "2022-08-11T00:45:32.489455",
     "status": "completed"
    },
    "tags": []
   },
   "outputs": [],
   "source": [
    "#hide\n",
    "def get_frame(name):\n",
    "    url = (\n",
    "        'https://raw.githubusercontent.com/CSSEGISandData/COVID-19/master/csse_covid_19_data/'\n",
    "        f'csse_covid_19_time_series/time_series_covid19_{name}_global.csv')\n",
    "    df = pd.read_csv(url)\n",
    "    # rename countries\n",
    "    df['Country/Region'] = df['Country/Region'].replace(mapping['replace.country'])\n",
    "    return df"
   ]
  },
  {
   "cell_type": "code",
   "execution_count": 8,
   "id": "affiliated-characterization",
   "metadata": {
    "execution": {
     "iopub.execute_input": "2022-08-11T00:45:32.624737Z",
     "iopub.status.busy": "2022-08-11T00:45:32.623922Z",
     "iopub.status.idle": "2022-08-11T00:45:32.627095Z",
     "shell.execute_reply": "2022-08-11T00:45:32.626477Z"
    },
    "papermill": {
     "duration": 0.049319,
     "end_time": "2022-08-11T00:45:32.627227",
     "exception": false,
     "start_time": "2022-08-11T00:45:32.577908",
     "status": "completed"
    },
    "tags": []
   },
   "outputs": [],
   "source": [
    "#hide\n",
    "def get_dates(df):\n",
    "    dt_cols = df.columns[~df.columns.isin(['Province/State', 'Country/Region', 'Lat', 'Long'])]\n",
    "    LAST_DATE_I = -1\n",
    "    # sometimes last column may be empty, then go backwards\n",
    "    for i in range(-1, -len(dt_cols), -1):\n",
    "        if not df[dt_cols[i]].fillna(0).eq(0).all():\n",
    "            LAST_DATE_I = i\n",
    "            break\n",
    "    return LAST_DATE_I, dt_cols"
   ]
  },
  {
   "cell_type": "code",
   "execution_count": 9,
   "id": "recent-optimization",
   "metadata": {
    "execution": {
     "iopub.execute_input": "2022-08-11T00:45:32.713085Z",
     "iopub.status.busy": "2022-08-11T00:45:32.712153Z",
     "iopub.status.idle": "2022-08-11T00:45:33.265718Z",
     "shell.execute_reply": "2022-08-11T00:45:33.264916Z"
    },
    "papermill": {
     "duration": 0.597744,
     "end_time": "2022-08-11T00:45:33.265862",
     "exception": false,
     "start_time": "2022-08-11T00:45:32.668118",
     "status": "completed"
    },
    "tags": []
   },
   "outputs": [],
   "source": [
    "#hide\n",
    "COL_REGION = 'Country/Region'\n",
    "# Confirmed, Recovered, Deaths\n",
    "df = get_frame('confirmed')\n",
    "# dft_: timeseries, dfc_: today country agg\n",
    "dft_cases = df\n",
    "dft_deaths = get_frame('deaths')\n",
    "dft_recovered = get_frame('recovered')\n",
    "LAST_DATE_I, dt_cols = get_dates(df)"
   ]
  },
  {
   "cell_type": "code",
   "execution_count": 10,
   "id": "absolute-copper",
   "metadata": {
    "execution": {
     "iopub.execute_input": "2022-08-11T00:45:33.354383Z",
     "iopub.status.busy": "2022-08-11T00:45:33.353639Z",
     "iopub.status.idle": "2022-08-11T00:45:33.358535Z",
     "shell.execute_reply": "2022-08-11T00:45:33.359086Z"
    },
    "papermill": {
     "duration": 0.052832,
     "end_time": "2022-08-11T00:45:33.359233",
     "exception": false,
     "start_time": "2022-08-11T00:45:33.306401",
     "status": "completed"
    },
    "tags": []
   },
   "outputs": [],
   "source": [
    "#hide\n",
    "LAST_DATE_I, dt_cols = get_dates(df)\n",
    "dt_today =dt_cols[LAST_DATE_I]\n",
    "# dt_5day = dt_cols[LAST_DATE_I - 5]\n",
    "dt_yday = dt_cols[LAST_DATE_I - 1]"
   ]
  },
  {
   "cell_type": "code",
   "execution_count": 11,
   "id": "restricted-sheriff",
   "metadata": {
    "execution": {
     "iopub.execute_input": "2022-08-11T00:45:33.451680Z",
     "iopub.status.busy": "2022-08-11T00:45:33.449748Z",
     "iopub.status.idle": "2022-08-11T00:45:33.460166Z",
     "shell.execute_reply": "2022-08-11T00:45:33.459449Z"
    },
    "papermill": {
     "duration": 0.057399,
     "end_time": "2022-08-11T00:45:33.460288",
     "exception": false,
     "start_time": "2022-08-11T00:45:33.402889",
     "status": "completed"
    },
    "tags": []
   },
   "outputs": [],
   "source": [
    "#hide\n",
    "dfc_cases = dft_cases.groupby(COL_REGION)[dt_today].sum()\n",
    "dfc_deaths = dft_deaths.groupby(COL_REGION)[dt_today].sum()\n",
    "# dfp_cases = dft_cases.groupby(COL_REGION)[dt_5day].sum()\n",
    "# dfp_deaths = dft_deaths.groupby(COL_REGION)[dt_5day].sum()\n",
    "dfp_cases = dft_cases.groupby(COL_REGION)[dt_yday].sum()\n",
    "dfp_deaths = dft_deaths.groupby(COL_REGION)[dt_yday].sum()"
   ]
  },
  {
   "cell_type": "code",
   "execution_count": 12,
   "id": "deluxe-hepatitis",
   "metadata": {
    "execution": {
     "iopub.execute_input": "2022-08-11T00:45:33.547779Z",
     "iopub.status.busy": "2022-08-11T00:45:33.547004Z",
     "iopub.status.idle": "2022-08-11T00:45:33.553030Z",
     "shell.execute_reply": "2022-08-11T00:45:33.552264Z"
    },
    "papermill": {
     "duration": 0.052024,
     "end_time": "2022-08-11T00:45:33.553155",
     "exception": false,
     "start_time": "2022-08-11T00:45:33.501131",
     "status": "completed"
    },
    "tags": []
   },
   "outputs": [],
   "source": [
    "#hide\n",
    "df_table = (pd.DataFrame(dict(Cases = dfc_cases, Deaths = dfc_deaths, PCases = dfp_cases, PDeaths = dfp_deaths))\n",
    "            .sort_values(by = ['Cases','Deaths'], ascending = [False, False])\n",
    "            .reset_index())"
   ]
  },
  {
   "cell_type": "code",
   "execution_count": 13,
   "id": "educational-chancellor",
   "metadata": {
    "execution": {
     "iopub.execute_input": "2022-08-11T00:45:33.654898Z",
     "iopub.status.busy": "2022-08-11T00:45:33.654135Z",
     "iopub.status.idle": "2022-08-11T00:45:33.666310Z",
     "shell.execute_reply": "2022-08-11T00:45:33.665702Z"
    },
    "papermill": {
     "duration": 0.07183,
     "end_time": "2022-08-11T00:45:33.666442",
     "exception": false,
     "start_time": "2022-08-11T00:45:33.594612",
     "status": "completed"
    },
    "tags": []
   },
   "outputs": [
    {
     "data": {
      "text/html": [
       "<div>\n",
       "<style scoped>\n",
       "    .dataframe tbody tr th:only-of-type {\n",
       "        vertical-align: middle;\n",
       "    }\n",
       "\n",
       "    .dataframe tbody tr th {\n",
       "        vertical-align: top;\n",
       "    }\n",
       "\n",
       "    .dataframe thead th {\n",
       "        text-align: right;\n",
       "    }\n",
       "</style>\n",
       "<table border=\"1\" class=\"dataframe\">\n",
       "  <thead>\n",
       "    <tr style=\"text-align: right;\">\n",
       "      <th></th>\n",
       "      <th>Country/Region</th>\n",
       "      <th>Cases</th>\n",
       "      <th>Deaths</th>\n",
       "      <th>PCases</th>\n",
       "      <th>PDeaths</th>\n",
       "      <th>Cases (+)</th>\n",
       "      <th>Deaths (+)</th>\n",
       "      <th>Fatality Rate</th>\n",
       "      <th>Continent</th>\n",
       "    </tr>\n",
       "  </thead>\n",
       "  <tbody>\n",
       "    <tr>\n",
       "      <th>0</th>\n",
       "      <td>US</td>\n",
       "      <td>92341611</td>\n",
       "      <td>1034621</td>\n",
       "      <td>92241199</td>\n",
       "      <td>1034020</td>\n",
       "      <td>100412</td>\n",
       "      <td>601</td>\n",
       "      <td>1.12</td>\n",
       "      <td>North America</td>\n",
       "    </tr>\n",
       "    <tr>\n",
       "      <th>1</th>\n",
       "      <td>India</td>\n",
       "      <td>44190697</td>\n",
       "      <td>526826</td>\n",
       "      <td>44174650</td>\n",
       "      <td>526772</td>\n",
       "      <td>16047</td>\n",
       "      <td>54</td>\n",
       "      <td>1.19</td>\n",
       "      <td>Asia</td>\n",
       "    </tr>\n",
       "    <tr>\n",
       "      <th>2</th>\n",
       "      <td>France</td>\n",
       "      <td>34331725</td>\n",
       "      <td>153862</td>\n",
       "      <td>34292342</td>\n",
       "      <td>153751</td>\n",
       "      <td>39383</td>\n",
       "      <td>111</td>\n",
       "      <td>0.45</td>\n",
       "      <td>Europe</td>\n",
       "    </tr>\n",
       "    <tr>\n",
       "      <th>3</th>\n",
       "      <td>Brazil</td>\n",
       "      <td>34066000</td>\n",
       "      <td>680531</td>\n",
       "      <td>34035780</td>\n",
       "      <td>680166</td>\n",
       "      <td>30220</td>\n",
       "      <td>365</td>\n",
       "      <td>2.00</td>\n",
       "      <td>South America</td>\n",
       "    </tr>\n",
       "    <tr>\n",
       "      <th>4</th>\n",
       "      <td>Germany</td>\n",
       "      <td>31379757</td>\n",
       "      <td>145241</td>\n",
       "      <td>31307020</td>\n",
       "      <td>145028</td>\n",
       "      <td>72737</td>\n",
       "      <td>213</td>\n",
       "      <td>0.46</td>\n",
       "      <td>Europe</td>\n",
       "    </tr>\n",
       "  </tbody>\n",
       "</table>\n",
       "</div>"
      ],
      "text/plain": [
       "  Country/Region     Cases   Deaths    PCases  PDeaths  Cases (+)  Deaths (+)  \\\n",
       "0             US  92341611  1034621  92241199  1034020     100412         601   \n",
       "1          India  44190697   526826  44174650   526772      16047          54   \n",
       "2         France  34331725   153862  34292342   153751      39383         111   \n",
       "3         Brazil  34066000   680531  34035780   680166      30220         365   \n",
       "4        Germany  31379757   145241  31307020   145028      72737         213   \n",
       "\n",
       "   Fatality Rate      Continent  \n",
       "0           1.12  North America  \n",
       "1           1.19           Asia  \n",
       "2           0.45         Europe  \n",
       "3           2.00  South America  \n",
       "4           0.46         Europe  "
      ]
     },
     "execution_count": 13,
     "metadata": {},
     "output_type": "execute_result"
    }
   ],
   "source": [
    "#hide\n",
    "for c in 'Cases, Deaths'.split(', '):\n",
    "    df_table[f'{c} (+)'] = (df_table[c] - df_table[f'P{c}']).clip(0)\n",
    "    #Clip ça veut dire, les chiffres negatif sont interdit\n",
    "df_table['Fatality Rate'] = (100* df_table['Deaths']/ df_table['Cases']).round(2)\n",
    "df_table['Continent'] = df_table['Country/Region'].map(mapping['map.continent'])\n",
    "df_table.head(5)"
   ]
  },
  {
   "cell_type": "code",
   "execution_count": 14,
   "id": "aboriginal-bulgaria",
   "metadata": {
    "execution": {
     "iopub.execute_input": "2022-08-11T00:45:33.753922Z",
     "iopub.status.busy": "2022-08-11T00:45:33.752537Z",
     "iopub.status.idle": "2022-08-11T00:45:33.756334Z",
     "shell.execute_reply": "2022-08-11T00:45:33.755489Z"
    },
    "papermill": {
     "duration": 0.049289,
     "end_time": "2022-08-11T00:45:33.756473",
     "exception": false,
     "start_time": "2022-08-11T00:45:33.707184",
     "status": "completed"
    },
    "tags": []
   },
   "outputs": [],
   "source": [
    "#hide\n",
    "#delete problematic countries from table\n",
    "df_table = df_table[~df_table['Country/Region'].isin(['Cape Verde', 'Cruise Ship', 'Kosovo'])]"
   ]
  },
  {
   "cell_type": "code",
   "execution_count": 15,
   "id": "fantastic-effect",
   "metadata": {
    "execution": {
     "iopub.execute_input": "2022-08-11T00:45:33.851346Z",
     "iopub.status.busy": "2022-08-11T00:45:33.850554Z",
     "iopub.status.idle": "2022-08-11T00:45:33.875891Z",
     "shell.execute_reply": "2022-08-11T00:45:33.875175Z"
    },
    "papermill": {
     "duration": 0.075387,
     "end_time": "2022-08-11T00:45:33.876024",
     "exception": false,
     "start_time": "2022-08-11T00:45:33.800637",
     "status": "completed"
    },
    "tags": []
   },
   "outputs": [
    {
     "data": {
      "text/html": [
       "<div>\n",
       "<style scoped>\n",
       "    .dataframe tbody tr th:only-of-type {\n",
       "        vertical-align: middle;\n",
       "    }\n",
       "\n",
       "    .dataframe tbody tr th {\n",
       "        vertical-align: top;\n",
       "    }\n",
       "\n",
       "    .dataframe thead th {\n",
       "        text-align: right;\n",
       "    }\n",
       "</style>\n",
       "<table border=\"1\" class=\"dataframe\">\n",
       "  <thead>\n",
       "    <tr style=\"text-align: right;\">\n",
       "      <th></th>\n",
       "      <th>Country/Region</th>\n",
       "      <th>Cases</th>\n",
       "      <th>Deaths</th>\n",
       "      <th>PCases</th>\n",
       "      <th>PDeaths</th>\n",
       "      <th>Cases (+)</th>\n",
       "      <th>Deaths (+)</th>\n",
       "      <th>Fatality Rate</th>\n",
       "      <th>Continent</th>\n",
       "    </tr>\n",
       "  </thead>\n",
       "  <tbody>\n",
       "    <tr>\n",
       "      <th>0</th>\n",
       "      <td>US</td>\n",
       "      <td>92341611</td>\n",
       "      <td>1034621</td>\n",
       "      <td>92241199</td>\n",
       "      <td>1034020</td>\n",
       "      <td>100412</td>\n",
       "      <td>601</td>\n",
       "      <td>1.1</td>\n",
       "      <td>North America</td>\n",
       "    </tr>\n",
       "    <tr>\n",
       "      <th>1</th>\n",
       "      <td>India</td>\n",
       "      <td>44190697</td>\n",
       "      <td>526826</td>\n",
       "      <td>44174650</td>\n",
       "      <td>526772</td>\n",
       "      <td>16047</td>\n",
       "      <td>54</td>\n",
       "      <td>1.2</td>\n",
       "      <td>Asia</td>\n",
       "    </tr>\n",
       "    <tr>\n",
       "      <th>2</th>\n",
       "      <td>France</td>\n",
       "      <td>34331725</td>\n",
       "      <td>153862</td>\n",
       "      <td>34292342</td>\n",
       "      <td>153751</td>\n",
       "      <td>39383</td>\n",
       "      <td>111</td>\n",
       "      <td>0.4</td>\n",
       "      <td>Europe</td>\n",
       "    </tr>\n",
       "    <tr>\n",
       "      <th>3</th>\n",
       "      <td>Brazil</td>\n",
       "      <td>34066000</td>\n",
       "      <td>680531</td>\n",
       "      <td>34035780</td>\n",
       "      <td>680166</td>\n",
       "      <td>30220</td>\n",
       "      <td>365</td>\n",
       "      <td>2.0</td>\n",
       "      <td>South America</td>\n",
       "    </tr>\n",
       "    <tr>\n",
       "      <th>4</th>\n",
       "      <td>Germany</td>\n",
       "      <td>31379757</td>\n",
       "      <td>145241</td>\n",
       "      <td>31307020</td>\n",
       "      <td>145028</td>\n",
       "      <td>72737</td>\n",
       "      <td>213</td>\n",
       "      <td>0.5</td>\n",
       "      <td>Europe</td>\n",
       "    </tr>\n",
       "  </tbody>\n",
       "</table>\n",
       "</div>"
      ],
      "text/plain": [
       "  Country/Region     Cases   Deaths    PCases  PDeaths  Cases (+)  Deaths (+)  \\\n",
       "0             US  92341611  1034621  92241199  1034020     100412         601   \n",
       "1          India  44190697   526826  44174650   526772      16047          54   \n",
       "2         France  34331725   153862  34292342   153751      39383         111   \n",
       "3         Brazil  34066000   680531  34035780   680166      30220         365   \n",
       "4        Germany  31379757   145241  31307020   145028      72737         213   \n",
       "\n",
       "   Fatality Rate      Continent  \n",
       "0            1.1  North America  \n",
       "1            1.2           Asia  \n",
       "2            0.4         Europe  \n",
       "3            2.0  South America  \n",
       "4            0.5         Europe  "
      ]
     },
     "execution_count": 15,
     "metadata": {},
     "output_type": "execute_result"
    }
   ],
   "source": [
    "#hide\n",
    "df_table = (pd.DataFrame(dict(Cases=dfc_cases, Deaths=dfc_deaths, PCases=dfp_cases, PDeaths=dfp_deaths))\n",
    "             .sort_values(by=['Cases', 'Deaths'], ascending=[False, False])\n",
    "             .reset_index())\n",
    "df_table.rename(columns={'index': 'Country/Region'}, inplace=True)\n",
    "for c in 'Cases, Deaths'.split(', '):\n",
    "    df_table[f'{c} (+)'] = (df_table[c] - df_table[f'P{c}']).clip(0)  # DATA BUG\n",
    "df_table['Fatality Rate'] = (100 * df_table['Deaths'] / df_table['Cases']).round(1)\n",
    "df_table['Continent'] = df_table['Country/Region'].map(mapping['map.continent'])\n",
    "df_table.head(5)"
   ]
  },
  {
   "cell_type": "code",
   "execution_count": 16,
   "id": "fewer-occasion",
   "metadata": {
    "execution": {
     "iopub.execute_input": "2022-08-11T00:45:33.966143Z",
     "iopub.status.busy": "2022-08-11T00:45:33.965252Z",
     "iopub.status.idle": "2022-08-11T00:45:33.969003Z",
     "shell.execute_reply": "2022-08-11T00:45:33.969891Z"
    },
    "papermill": {
     "duration": 0.051945,
     "end_time": "2022-08-11T00:45:33.970037",
     "exception": false,
     "start_time": "2022-08-11T00:45:33.918092",
     "status": "completed"
    },
    "tags": []
   },
   "outputs": [],
   "source": [
    "#hide\n",
    "#delete problematic countries from table\n",
    "df_table = df_table[~df_table['Country/Region'].isin(['Cape Verde', 'Cruise Ship', 'Kosovo'])]"
   ]
  },
  {
   "cell_type": "code",
   "execution_count": 17,
   "id": "related-center",
   "metadata": {
    "execution": {
     "iopub.execute_input": "2022-08-11T00:45:34.074723Z",
     "iopub.status.busy": "2022-08-11T00:45:34.073922Z",
     "iopub.status.idle": "2022-08-11T00:45:34.078910Z",
     "shell.execute_reply": "2022-08-11T00:45:34.079498Z"
    },
    "papermill": {
     "duration": 0.067661,
     "end_time": "2022-08-11T00:45:34.079647",
     "exception": false,
     "start_time": "2022-08-11T00:45:34.011986",
     "status": "completed"
    },
    "tags": []
   },
   "outputs": [],
   "source": [
    "#hide\n",
    "metrics = [df_table.columns[index] for index in [1,2,5,6]]\n",
    "# s_china = df_table[df_table['Country/Region'].eq('China')][metrics].sum().add_prefix('China ')\n",
    "s_us = df_table[df_table['Country/Region'].eq('US')][metrics].sum().add_prefix('US ')\n",
    "s_eu = df_table[df_table['Continent'].eq('Europe')][metrics].sum().add_prefix('EU ')\n",
    "s_ind = df_table[df_table['Country/Region'].eq('India')][metrics].sum().add_prefix('India ')\n",
    "summary = {'updated': pd.to_datetime(dt_today), 'since': pd.to_datetime(dt_yday)}\n",
    "summary = {'updated': pd.to_datetime(dt_today), 'since': pd.to_datetime(dt_yday)}\n",
    "summary = {**summary, **df_table[metrics].sum(), **s_ind, **s_us, **s_eu}"
   ]
  },
  {
   "cell_type": "code",
   "execution_count": 18,
   "id": "engaging-syndrome",
   "metadata": {
    "execution": {
     "iopub.execute_input": "2022-08-11T00:45:34.168414Z",
     "iopub.status.busy": "2022-08-11T00:45:34.167510Z",
     "iopub.status.idle": "2022-08-11T00:45:34.197538Z",
     "shell.execute_reply": "2022-08-11T00:45:34.198143Z"
    },
    "papermill": {
     "duration": 0.078056,
     "end_time": "2022-08-11T00:45:34.198312",
     "exception": false,
     "start_time": "2022-08-11T00:45:34.120256",
     "status": "completed"
    },
    "tags": []
   },
   "outputs": [],
   "source": [
    "#hide\n",
    "dft_ct_new_cases = dft_cases.groupby(COL_REGION)[dt_cols].sum().diff(axis=1).fillna(0).astype(int)"
   ]
  },
  {
   "cell_type": "code",
   "execution_count": 19,
   "id": "neutral-assignment",
   "metadata": {
    "execution": {
     "iopub.execute_input": "2022-08-11T00:45:34.290189Z",
     "iopub.status.busy": "2022-08-11T00:45:34.289397Z",
     "iopub.status.idle": "2022-08-11T00:45:34.291875Z",
     "shell.execute_reply": "2022-08-11T00:45:34.292471Z"
    },
    "papermill": {
     "duration": 0.051937,
     "end_time": "2022-08-11T00:45:34.292637",
     "exception": false,
     "start_time": "2022-08-11T00:45:34.240700",
     "status": "completed"
    },
    "tags": []
   },
   "outputs": [],
   "source": [
    "#hide\n",
    "everydaycases = dft_ct_new_cases.cumsum(axis=1)"
   ]
  },
  {
   "cell_type": "code",
   "execution_count": 20,
   "id": "parliamentary-calgary",
   "metadata": {
    "execution": {
     "iopub.execute_input": "2022-08-11T00:45:34.382150Z",
     "iopub.status.busy": "2022-08-11T00:45:34.377582Z",
     "iopub.status.idle": "2022-08-11T00:45:35.087937Z",
     "shell.execute_reply": "2022-08-11T00:45:35.088528Z"
    },
    "papermill": {
     "duration": 0.755607,
     "end_time": "2022-08-11T00:45:35.088740",
     "exception": false,
     "start_time": "2022-08-11T00:45:34.333133",
     "status": "completed"
    },
    "tags": []
   },
   "outputs": [],
   "source": [
    "#hide\n",
    "import pandas as pd\n",
    "import matplotlib.pyplot as plt\n",
    "import matplotlib.ticker as ticker\n",
    "import matplotlib.animation as animation\n",
    "from IPython.display import HTML"
   ]
  },
  {
   "cell_type": "code",
   "execution_count": 21,
   "id": "lasting-extraction",
   "metadata": {
    "execution": {
     "iopub.execute_input": "2022-08-11T00:45:35.178424Z",
     "iopub.status.busy": "2022-08-11T00:45:35.177678Z",
     "iopub.status.idle": "2022-08-11T00:45:35.185551Z",
     "shell.execute_reply": "2022-08-11T00:45:35.186180Z"
    },
    "papermill": {
     "duration": 0.056003,
     "end_time": "2022-08-11T00:45:35.186347",
     "exception": false,
     "start_time": "2022-08-11T00:45:35.130344",
     "status": "completed"
    },
    "tags": []
   },
   "outputs": [],
   "source": [
    "#hide\n",
    "t = everydaycases.stack()"
   ]
  },
  {
   "cell_type": "code",
   "execution_count": 22,
   "id": "premier-sleeve",
   "metadata": {
    "execution": {
     "iopub.execute_input": "2022-08-11T00:45:35.272454Z",
     "iopub.status.busy": "2022-08-11T00:45:35.271655Z",
     "iopub.status.idle": "2022-08-11T00:45:35.286308Z",
     "shell.execute_reply": "2022-08-11T00:45:35.285721Z"
    },
    "papermill": {
     "duration": 0.05951,
     "end_time": "2022-08-11T00:45:35.286456",
     "exception": false,
     "start_time": "2022-08-11T00:45:35.226946",
     "status": "completed"
    },
    "tags": []
   },
   "outputs": [],
   "source": [
    "#hide\n",
    "g = t.reset_index(['Country/Region'])"
   ]
  },
  {
   "cell_type": "code",
   "execution_count": 23,
   "id": "distributed-pittsburgh",
   "metadata": {
    "execution": {
     "iopub.execute_input": "2022-08-11T00:45:35.372349Z",
     "iopub.status.busy": "2022-08-11T00:45:35.371640Z",
     "iopub.status.idle": "2022-08-11T00:45:35.374912Z",
     "shell.execute_reply": "2022-08-11T00:45:35.374292Z"
    },
    "papermill": {
     "duration": 0.04826,
     "end_time": "2022-08-11T00:45:35.375037",
     "exception": false,
     "start_time": "2022-08-11T00:45:35.326777",
     "status": "completed"
    },
    "tags": []
   },
   "outputs": [],
   "source": [
    "#hide\n",
    "g.index.name = 'date'"
   ]
  },
  {
   "cell_type": "code",
   "execution_count": 24,
   "id": "naked-donor",
   "metadata": {
    "execution": {
     "iopub.execute_input": "2022-08-11T00:45:35.459121Z",
     "iopub.status.busy": "2022-08-11T00:45:35.458343Z",
     "iopub.status.idle": "2022-08-11T00:45:35.460903Z",
     "shell.execute_reply": "2022-08-11T00:45:35.461500Z"
    },
    "papermill": {
     "duration": 0.046549,
     "end_time": "2022-08-11T00:45:35.461655",
     "exception": false,
     "start_time": "2022-08-11T00:45:35.415106",
     "status": "completed"
    },
    "tags": []
   },
   "outputs": [],
   "source": [
    "# #hide\n",
    "# g = g.reset_index(['date'])"
   ]
  },
  {
   "cell_type": "code",
   "execution_count": 25,
   "id": "incomplete-mustang",
   "metadata": {
    "execution": {
     "iopub.execute_input": "2022-08-11T00:45:35.546242Z",
     "iopub.status.busy": "2022-08-11T00:45:35.545546Z",
     "iopub.status.idle": "2022-08-11T00:45:35.548611Z",
     "shell.execute_reply": "2022-08-11T00:45:35.547932Z"
    },
    "papermill": {
     "duration": 0.04674,
     "end_time": "2022-08-11T00:45:35.548741",
     "exception": false,
     "start_time": "2022-08-11T00:45:35.502001",
     "status": "completed"
    },
    "tags": []
   },
   "outputs": [],
   "source": [
    "#hide\n",
    "# g.head()"
   ]
  },
  {
   "cell_type": "code",
   "execution_count": 26,
   "id": "specific-kruger",
   "metadata": {
    "execution": {
     "iopub.execute_input": "2022-08-11T00:45:35.638753Z",
     "iopub.status.busy": "2022-08-11T00:45:35.637837Z",
     "iopub.status.idle": "2022-08-11T00:45:35.642680Z",
     "shell.execute_reply": "2022-08-11T00:45:35.643249Z"
    },
    "papermill": {
     "duration": 0.049906,
     "end_time": "2022-08-11T00:45:35.643446",
     "exception": false,
     "start_time": "2022-08-11T00:45:35.593540",
     "status": "completed"
    },
    "tags": []
   },
   "outputs": [],
   "source": [
    "#hide\n",
    "# g.columns = ['date','country','cases']"
   ]
  },
  {
   "cell_type": "code",
   "execution_count": 27,
   "id": "tender-conversion",
   "metadata": {
    "execution": {
     "iopub.execute_input": "2022-08-11T00:45:35.731654Z",
     "iopub.status.busy": "2022-08-11T00:45:35.730943Z",
     "iopub.status.idle": "2022-08-11T00:45:35.733369Z",
     "shell.execute_reply": "2022-08-11T00:45:35.733952Z"
    },
    "papermill": {
     "duration": 0.049005,
     "end_time": "2022-08-11T00:45:35.734080",
     "exception": false,
     "start_time": "2022-08-11T00:45:35.685075",
     "status": "completed"
    },
    "tags": []
   },
   "outputs": [],
   "source": [
    "#hide\n",
    "# g['continent'] = g.country"
   ]
  },
  {
   "cell_type": "code",
   "execution_count": 28,
   "id": "substantial-wilderness",
   "metadata": {
    "execution": {
     "iopub.execute_input": "2022-08-11T00:45:35.819024Z",
     "iopub.status.busy": "2022-08-11T00:45:35.818226Z",
     "iopub.status.idle": "2022-08-11T00:45:35.821476Z",
     "shell.execute_reply": "2022-08-11T00:45:35.820833Z"
    },
    "papermill": {
     "duration": 0.047226,
     "end_time": "2022-08-11T00:45:35.821612",
     "exception": false,
     "start_time": "2022-08-11T00:45:35.774386",
     "status": "completed"
    },
    "tags": []
   },
   "outputs": [],
   "source": [
    "#hide\n",
    "# cols = list(g.columns.values)"
   ]
  },
  {
   "cell_type": "code",
   "execution_count": 29,
   "id": "solved-farming",
   "metadata": {
    "execution": {
     "iopub.execute_input": "2022-08-11T00:45:35.909920Z",
     "iopub.status.busy": "2022-08-11T00:45:35.909161Z",
     "iopub.status.idle": "2022-08-11T00:45:35.912402Z",
     "shell.execute_reply": "2022-08-11T00:45:35.911834Z"
    },
    "papermill": {
     "duration": 0.049616,
     "end_time": "2022-08-11T00:45:35.912531",
     "exception": false,
     "start_time": "2022-08-11T00:45:35.862915",
     "status": "completed"
    },
    "tags": []
   },
   "outputs": [],
   "source": [
    "#hide\n",
    "# cols.insert(0, cols.pop())"
   ]
  },
  {
   "cell_type": "code",
   "execution_count": 30,
   "id": "executed-adoption",
   "metadata": {
    "execution": {
     "iopub.execute_input": "2022-08-11T00:45:35.995282Z",
     "iopub.status.busy": "2022-08-11T00:45:35.994630Z",
     "iopub.status.idle": "2022-08-11T00:45:35.997465Z",
     "shell.execute_reply": "2022-08-11T00:45:35.998152Z"
    },
    "papermill": {
     "duration": 0.046492,
     "end_time": "2022-08-11T00:45:35.998302",
     "exception": false,
     "start_time": "2022-08-11T00:45:35.951810",
     "status": "completed"
    },
    "tags": []
   },
   "outputs": [],
   "source": [
    "#hide\n",
    "# g = g[cols]"
   ]
  },
  {
   "cell_type": "code",
   "execution_count": 31,
   "id": "subject-dublin",
   "metadata": {
    "execution": {
     "iopub.execute_input": "2022-08-11T00:45:36.081197Z",
     "iopub.status.busy": "2022-08-11T00:45:36.080291Z",
     "iopub.status.idle": "2022-08-11T00:45:36.084929Z",
     "shell.execute_reply": "2022-08-11T00:45:36.084138Z"
    },
    "papermill": {
     "duration": 0.047121,
     "end_time": "2022-08-11T00:45:36.085084",
     "exception": false,
     "start_time": "2022-08-11T00:45:36.037963",
     "status": "completed"
    },
    "tags": []
   },
   "outputs": [],
   "source": [
    "#hide\n",
    "# g['continent'] = g['continent'].map(mapping['map.continent'])"
   ]
  },
  {
   "cell_type": "code",
   "execution_count": 32,
   "id": "freelance-scout",
   "metadata": {
    "execution": {
     "iopub.execute_input": "2022-08-11T00:45:36.175505Z",
     "iopub.status.busy": "2022-08-11T00:45:36.174786Z",
     "iopub.status.idle": "2022-08-11T00:45:36.178104Z",
     "shell.execute_reply": "2022-08-11T00:45:36.177317Z"
    },
    "papermill": {
     "duration": 0.050003,
     "end_time": "2022-08-11T00:45:36.178223",
     "exception": false,
     "start_time": "2022-08-11T00:45:36.128220",
     "status": "completed"
    },
    "tags": []
   },
   "outputs": [],
   "source": [
    "#hide\n",
    "# g.head()"
   ]
  },
  {
   "cell_type": "code",
   "execution_count": 33,
   "id": "limited-engine",
   "metadata": {
    "execution": {
     "iopub.execute_input": "2022-08-11T00:45:36.263949Z",
     "iopub.status.busy": "2022-08-11T00:45:36.263177Z",
     "iopub.status.idle": "2022-08-11T00:45:36.266827Z",
     "shell.execute_reply": "2022-08-11T00:45:36.266101Z"
    },
    "papermill": {
     "duration": 0.047862,
     "end_time": "2022-08-11T00:45:36.266960",
     "exception": false,
     "start_time": "2022-08-11T00:45:36.219098",
     "status": "completed"
    },
    "tags": []
   },
   "outputs": [],
   "source": [
    "# hide\n",
    "# g['date'] = g['date'].astype('datetime64[ns]')"
   ]
  },
  {
   "cell_type": "code",
   "execution_count": 34,
   "id": "sophisticated-supervisor",
   "metadata": {
    "execution": {
     "iopub.execute_input": "2022-08-11T00:45:36.354603Z",
     "iopub.status.busy": "2022-08-11T00:45:36.353859Z",
     "iopub.status.idle": "2022-08-11T00:45:36.357178Z",
     "shell.execute_reply": "2022-08-11T00:45:36.356406Z"
    },
    "papermill": {
     "duration": 0.047936,
     "end_time": "2022-08-11T00:45:36.357305",
     "exception": false,
     "start_time": "2022-08-11T00:45:36.309369",
     "status": "completed"
    },
    "tags": []
   },
   "outputs": [],
   "source": [
    "#hide\n",
    "# g['date'] = g.date.dt.dayofyear"
   ]
  },
  {
   "cell_type": "code",
   "execution_count": 35,
   "id": "inside-dubai",
   "metadata": {
    "execution": {
     "iopub.execute_input": "2022-08-11T00:45:36.442116Z",
     "iopub.status.busy": "2022-08-11T00:45:36.441257Z",
     "iopub.status.idle": "2022-08-11T00:45:36.444727Z",
     "shell.execute_reply": "2022-08-11T00:45:36.443981Z"
    },
    "papermill": {
     "duration": 0.046438,
     "end_time": "2022-08-11T00:45:36.444887",
     "exception": false,
     "start_time": "2022-08-11T00:45:36.398449",
     "status": "completed"
    },
    "tags": []
   },
   "outputs": [],
   "source": [
    "#hide\n",
    "# g = g.rename(columns= {'continent':'group','country':'name','cases':'value'})"
   ]
  },
  {
   "cell_type": "code",
   "execution_count": 36,
   "id": "fleet-motorcycle",
   "metadata": {
    "execution": {
     "iopub.execute_input": "2022-08-11T00:45:36.529204Z",
     "iopub.status.busy": "2022-08-11T00:45:36.528307Z",
     "iopub.status.idle": "2022-08-11T00:45:36.531647Z",
     "shell.execute_reply": "2022-08-11T00:45:36.530975Z"
    },
    "papermill": {
     "duration": 0.046539,
     "end_time": "2022-08-11T00:45:36.531808",
     "exception": false,
     "start_time": "2022-08-11T00:45:36.485269",
     "status": "completed"
    },
    "tags": []
   },
   "outputs": [],
   "source": [
    "#hide\n",
    "# cols = ['name','group','day','value']"
   ]
  },
  {
   "cell_type": "code",
   "execution_count": 37,
   "id": "continued-sleeping",
   "metadata": {
    "execution": {
     "iopub.execute_input": "2022-08-11T00:45:36.618617Z",
     "iopub.status.busy": "2022-08-11T00:45:36.617807Z",
     "iopub.status.idle": "2022-08-11T00:45:36.622537Z",
     "shell.execute_reply": "2022-08-11T00:45:36.623092Z"
    },
    "papermill": {
     "duration": 0.050776,
     "end_time": "2022-08-11T00:45:36.623244",
     "exception": false,
     "start_time": "2022-08-11T00:45:36.572468",
     "status": "completed"
    },
    "tags": []
   },
   "outputs": [],
   "source": [
    "#hide\n",
    "# g.rename(columns= {'date':'day'},inplace = True)"
   ]
  },
  {
   "cell_type": "code",
   "execution_count": 38,
   "id": "major-fight",
   "metadata": {
    "execution": {
     "iopub.execute_input": "2022-08-11T00:45:36.708435Z",
     "iopub.status.busy": "2022-08-11T00:45:36.707759Z",
     "iopub.status.idle": "2022-08-11T00:45:36.710938Z",
     "shell.execute_reply": "2022-08-11T00:45:36.710193Z"
    },
    "papermill": {
     "duration": 0.047313,
     "end_time": "2022-08-11T00:45:36.711068",
     "exception": false,
     "start_time": "2022-08-11T00:45:36.663755",
     "status": "completed"
    },
    "tags": []
   },
   "outputs": [],
   "source": [
    "#hide\n",
    "# g = g[cols]"
   ]
  },
  {
   "cell_type": "code",
   "execution_count": 39,
   "id": "structured-mobile",
   "metadata": {
    "execution": {
     "iopub.execute_input": "2022-08-11T00:45:36.803353Z",
     "iopub.status.busy": "2022-08-11T00:45:36.802641Z",
     "iopub.status.idle": "2022-08-11T00:45:36.807865Z",
     "shell.execute_reply": "2022-08-11T00:45:36.807169Z"
    },
    "papermill": {
     "duration": 0.051853,
     "end_time": "2022-08-11T00:45:36.807997",
     "exception": false,
     "start_time": "2022-08-11T00:45:36.756144",
     "status": "completed"
    },
    "tags": []
   },
   "outputs": [],
   "source": [
    "# #hide\n",
    "# g = g[g.group.notna()]"
   ]
  },
  {
   "cell_type": "code",
   "execution_count": 40,
   "id": "determined-closing",
   "metadata": {
    "execution": {
     "iopub.execute_input": "2022-08-11T00:45:36.893046Z",
     "iopub.status.busy": "2022-08-11T00:45:36.891933Z",
     "iopub.status.idle": "2022-08-11T00:45:36.894167Z",
     "shell.execute_reply": "2022-08-11T00:45:36.894959Z"
    },
    "papermill": {
     "duration": 0.048595,
     "end_time": "2022-08-11T00:45:36.895102",
     "exception": false,
     "start_time": "2022-08-11T00:45:36.846507",
     "status": "completed"
    },
    "tags": []
   },
   "outputs": [],
   "source": [
    "# #hide\n",
    "# colors = dict(zip(\n",
    "#     [\"Oceania\", \"Europe\", \"Asia\", \"South America\", \"Middle East\", \"North America\", \"Africa\"],\n",
    "#     [\"#adb0ff\", \"#ffb3ff\", \"#90d595\", \"#e48381\", \"#aafbff\", \"#f7bb5f\", \"#eafb50\"]\n",
    "# ))\n",
    "# group_lk = g.set_index('name')['group'].to_dict()"
   ]
  },
  {
   "cell_type": "code",
   "execution_count": null,
   "id": "gross-drinking",
   "metadata": {
    "papermill": {
     "duration": 0.040277,
     "end_time": "2022-08-11T00:45:36.977640",
     "exception": false,
     "start_time": "2022-08-11T00:45:36.937363",
     "status": "completed"
    },
    "tags": []
   },
   "outputs": [],
   "source": []
  },
  {
   "cell_type": "code",
   "execution_count": 41,
   "id": "subject-macintosh",
   "metadata": {
    "execution": {
     "iopub.execute_input": "2022-08-11T00:45:37.063463Z",
     "iopub.status.busy": "2022-08-11T00:45:37.062658Z",
     "iopub.status.idle": "2022-08-11T00:45:37.065905Z",
     "shell.execute_reply": "2022-08-11T00:45:37.065103Z"
    },
    "papermill": {
     "duration": 0.048602,
     "end_time": "2022-08-11T00:45:37.066027",
     "exception": false,
     "start_time": "2022-08-11T00:45:37.017425",
     "status": "completed"
    },
    "tags": []
   },
   "outputs": [],
   "source": [
    "# #hide\n",
    "# fig, ax = plt.subplots(figsize=(15, 8))\n",
    "\n",
    "# def draw_barchart(current_day):\n",
    "#     dff = g[g['day'].eq(current_day)].sort_values(by='value', ascending=True).tail(10)\n",
    "#     ax.clear()\n",
    "#     ax.barh(dff['name'], dff['value'], color=[colors[group_lk[x]] for x in dff['name']])\n",
    "#     dx = dff['value'].max() / 200\n",
    "    \n",
    "#     for i, (value, name) in enumerate(zip(dff['value'], dff['name'])):\n",
    "#         ax.text(value-dx, i,     name,           size=14, weight=600, ha='right', va='bottom')\n",
    "#         ax.text(value-dx, i-.25, group_lk[name], size=10, color='#444444', ha='right', va='baseline')\n",
    "#         ax.text(value+dx, i,     f'{value:,.0f}',  size=14, ha='left',  va='center')\n",
    "#     ax.text(1, 0.4, current_day, transform=ax.transAxes, color='#777777', size=46, ha='right', weight=800)\n",
    "#     ax.text(0, 1.06, 'Population (thousands)', transform=ax.transAxes, size=12, color='#777777')\n",
    "#     ax.xaxis.set_major_formatter(ticker.StrMethodFormatter('{x:,.0f}'))\n",
    "#     ax.xaxis.set_ticks_position('top')\n",
    "#     ax.tick_params(axis='x', colors='#777777', labelsize=12)\n",
    "#     ax.set_yticks([])\n",
    "#     ax.margins(0, 0.01)\n",
    "#     ax.grid(which='major', axis='x', linestyle='-')\n",
    "#     ax.set_axisbelow(True)\n",
    "    \n",
    "#     ax.text(0, 1.15, 'Coronavirus',\n",
    "#             transform=ax.transAxes, size=24, weight=600, ha='left', va='top')\n",
    "# #     ax.text(1, 0, 'by @pratapvardhan; credit @jburnmurdoch', transform=ax.transAxes, color='#777777', ha='right',\n",
    "# #             bbox=dict(facecolor='white', alpha=0.8, edgecolor='white'))\n",
    "#     plt.box(False)"
   ]
  },
  {
   "cell_type": "code",
   "execution_count": 42,
   "id": "sexual-wages",
   "metadata": {
    "execution": {
     "iopub.execute_input": "2022-08-11T00:45:37.158065Z",
     "iopub.status.busy": "2022-08-11T00:45:37.156544Z",
     "iopub.status.idle": "2022-08-11T00:45:37.159309Z",
     "shell.execute_reply": "2022-08-11T00:45:37.160199Z"
    },
    "papermill": {
     "duration": 0.051548,
     "end_time": "2022-08-11T00:45:37.160499",
     "exception": false,
     "start_time": "2022-08-11T00:45:37.108951",
     "status": "completed"
    },
    "tags": []
   },
   "outputs": [],
   "source": [
    "# #hide_input\n",
    "# fig, ax = plt.subplots(figsize=(15, 8))\n",
    "# animator = animation.FuncAnimation(fig, draw_barchart, frames=range(g.day.values.min(), g.day.values.max()))\n",
    "# HTML(animator.to_jshtml())\n",
    "# # or use animator.to_html5_video() or animator.save() "
   ]
  },
  {
   "cell_type": "code",
   "execution_count": null,
   "id": "australian-container",
   "metadata": {
    "papermill": {
     "duration": 0.050621,
     "end_time": "2022-08-11T00:45:37.265686",
     "exception": false,
     "start_time": "2022-08-11T00:45:37.215065",
     "status": "completed"
    },
    "tags": []
   },
   "outputs": [],
   "source": []
  },
  {
   "cell_type": "code",
   "execution_count": null,
   "id": "mediterranean-pontiac",
   "metadata": {
    "papermill": {
     "duration": 0.040821,
     "end_time": "2022-08-11T00:45:37.355231",
     "exception": false,
     "start_time": "2022-08-11T00:45:37.314410",
     "status": "completed"
    },
    "tags": []
   },
   "outputs": [],
   "source": []
  },
  {
   "cell_type": "code",
   "execution_count": null,
   "id": "aging-legislature",
   "metadata": {
    "papermill": {
     "duration": 0.041524,
     "end_time": "2022-08-11T00:45:37.435844",
     "exception": false,
     "start_time": "2022-08-11T00:45:37.394320",
     "status": "completed"
    },
    "tags": []
   },
   "outputs": [],
   "source": []
  }
 ],
 "metadata": {
  "kernelspec": {
   "display_name": "Python 3",
   "language": "python",
   "name": "python3"
  },
  "language_info": {
   "codemirror_mode": {
    "name": "ipython",
    "version": 3
   },
   "file_extension": ".py",
   "mimetype": "text/x-python",
   "name": "python",
   "nbconvert_exporter": "python",
   "pygments_lexer": "ipython3",
   "version": "3.6.15"
  },
  "papermill": {
   "duration": 7.955888,
   "end_time": "2022-08-11T00:45:37.898609",
   "environment_variables": {},
   "exception": null,
   "input_path": "2020-03-21-covid19exp.ipynb",
   "output_path": "2020-03-21-covid19exp.ipynb",
   "parameters": {},
   "start_time": "2022-08-11T00:45:29.942721",
   "version": "2.0.0"
  }
 },
 "nbformat": 4,
 "nbformat_minor": 5
}