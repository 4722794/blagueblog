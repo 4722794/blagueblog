{
 "cells": [
  {
   "cell_type": "markdown",
   "id": "muslim-click",
   "metadata": {
    "papermill": {
     "duration": 0.042001,
     "end_time": "2022-04-04T12:15:12.159990",
     "exception": false,
     "start_time": "2022-04-04T12:15:12.117989",
     "status": "completed"
    },
    "tags": []
   },
   "source": [
    "# COVID-19 Case Race\n",
    "> A race chart to see rising cases around the world\n",
    "\n",
    "- author: Hargun Oberoi\n",
    "- image: images/covid-overview.png\n",
    "- hide: false\n",
    "- badges: false"
   ]
  },
  {
   "cell_type": "code",
   "execution_count": 1,
   "id": "proof-material",
   "metadata": {
    "execution": {
     "iopub.execute_input": "2022-04-04T12:15:12.252701Z",
     "iopub.status.busy": "2022-04-04T12:15:12.251864Z",
     "iopub.status.idle": "2022-04-04T12:15:12.670017Z",
     "shell.execute_reply": "2022-04-04T12:15:12.670600Z"
    },
    "papermill": {
     "duration": 0.468238,
     "end_time": "2022-04-04T12:15:12.670822",
     "exception": false,
     "start_time": "2022-04-04T12:15:12.202584",
     "status": "completed"
    },
    "tags": []
   },
   "outputs": [],
   "source": [
    "#hide\n",
    "import numpy as np\n",
    "import pandas as pd\n",
    "from jinja2 import Template\n",
    "from IPython.display import HTML"
   ]
  },
  {
   "cell_type": "code",
   "execution_count": 2,
   "id": "developed-terminology",
   "metadata": {
    "execution": {
     "iopub.execute_input": "2022-04-04T12:15:12.758798Z",
     "iopub.status.busy": "2022-04-04T12:15:12.758119Z",
     "iopub.status.idle": "2022-04-04T12:15:12.760669Z",
     "shell.execute_reply": "2022-04-04T12:15:12.761299Z"
    },
    "papermill": {
     "duration": 0.048087,
     "end_time": "2022-04-04T12:15:12.761447",
     "exception": false,
     "start_time": "2022-04-04T12:15:12.713360",
     "status": "completed"
    },
    "tags": []
   },
   "outputs": [],
   "source": [
    "#hide\n",
    "\n",
    "# FETCH\n",
    "base_url = 'https://raw.githubusercontent.com/pratapvardhan/notebooks/master/covid19/'\n",
    "paths = {\n",
    "    'mapping': base_url + 'mapping_countries.csv',\n",
    "    'overview': base_url + 'overview.tpl'\n",
    "}"
   ]
  },
  {
   "cell_type": "code",
   "execution_count": 3,
   "id": "dynamic-saver",
   "metadata": {
    "execution": {
     "iopub.execute_input": "2022-04-04T12:15:12.852846Z",
     "iopub.status.busy": "2022-04-04T12:15:12.852152Z",
     "iopub.status.idle": "2022-04-04T12:15:12.855312Z",
     "shell.execute_reply": "2022-04-04T12:15:12.855854Z"
    },
    "papermill": {
     "duration": 0.056563,
     "end_time": "2022-04-04T12:15:12.856066",
     "exception": false,
     "start_time": "2022-04-04T12:15:12.799503",
     "status": "completed"
    },
    "tags": []
   },
   "outputs": [
    {
     "data": {
      "text/plain": [
       "'https://raw.githubusercontent.com/pratapvardhan/notebooks/master/covid19/mapping_countries.csv'"
      ]
     },
     "execution_count": 3,
     "metadata": {},
     "output_type": "execute_result"
    }
   ],
   "source": [
    "#hide\n",
    "paths['mapping']"
   ]
  },
  {
   "cell_type": "code",
   "execution_count": 4,
   "id": "urban-software",
   "metadata": {
    "execution": {
     "iopub.execute_input": "2022-04-04T12:15:12.943591Z",
     "iopub.status.busy": "2022-04-04T12:15:12.942756Z",
     "iopub.status.idle": "2022-04-04T12:15:12.944612Z",
     "shell.execute_reply": "2022-04-04T12:15:12.945349Z"
    },
    "papermill": {
     "duration": 0.049954,
     "end_time": "2022-04-04T12:15:12.945554",
     "exception": false,
     "start_time": "2022-04-04T12:15:12.895600",
     "status": "completed"
    },
    "tags": []
   },
   "outputs": [],
   "source": [
    "#hide\n",
    "def get_mappings(url):\n",
    "    df = pd.read_csv(url)\n",
    "    return {\n",
    "        'df': df,\n",
    "        'replace.country': dict(df.dropna(subset=['Name']).set_index('Country')['Name']),\n",
    "        'map.continent': dict(df.set_index('Name')['Continent'])\n",
    "    }"
   ]
  },
  {
   "cell_type": "code",
   "execution_count": 5,
   "id": "intimate-machinery",
   "metadata": {
    "execution": {
     "iopub.execute_input": "2022-04-04T12:15:13.031790Z",
     "iopub.status.busy": "2022-04-04T12:15:13.031005Z",
     "iopub.status.idle": "2022-04-04T12:15:13.064671Z",
     "shell.execute_reply": "2022-04-04T12:15:13.064075Z"
    },
    "papermill": {
     "duration": 0.079038,
     "end_time": "2022-04-04T12:15:13.064843",
     "exception": false,
     "start_time": "2022-04-04T12:15:12.985805",
     "status": "completed"
    },
    "tags": []
   },
   "outputs": [],
   "source": [
    "#hide\n",
    "mapping = get_mappings(paths['mapping'])"
   ]
  },
  {
   "cell_type": "code",
   "execution_count": 6,
   "id": "certified-tactics",
   "metadata": {
    "execution": {
     "iopub.execute_input": "2022-04-04T12:15:13.150200Z",
     "iopub.status.busy": "2022-04-04T12:15:13.149520Z",
     "iopub.status.idle": "2022-04-04T12:15:13.155153Z",
     "shell.execute_reply": "2022-04-04T12:15:13.154581Z"
    },
    "papermill": {
     "duration": 0.050326,
     "end_time": "2022-04-04T12:15:13.155306",
     "exception": false,
     "start_time": "2022-04-04T12:15:13.104980",
     "status": "completed"
    },
    "tags": []
   },
   "outputs": [],
   "source": [
    "#hide\n",
    "def get_template(path):\n",
    "    from urllib.parse import urlparse\n",
    "    if bool(urlparse(path).netloc):\n",
    "        from urllib.request import urlopen\n",
    "        return urlopen(path).read().decode('utf8')\n",
    "    return open(path).read()"
   ]
  },
  {
   "cell_type": "code",
   "execution_count": 7,
   "id": "realistic-blast",
   "metadata": {
    "execution": {
     "iopub.execute_input": "2022-04-04T12:15:13.243397Z",
     "iopub.status.busy": "2022-04-04T12:15:13.242683Z",
     "iopub.status.idle": "2022-04-04T12:15:13.246817Z",
     "shell.execute_reply": "2022-04-04T12:15:13.247416Z"
    },
    "papermill": {
     "duration": 0.050888,
     "end_time": "2022-04-04T12:15:13.247602",
     "exception": false,
     "start_time": "2022-04-04T12:15:13.196714",
     "status": "completed"
    },
    "tags": []
   },
   "outputs": [],
   "source": [
    "#hide\n",
    "def get_frame(name):\n",
    "    url = (\n",
    "        'https://raw.githubusercontent.com/CSSEGISandData/COVID-19/master/csse_covid_19_data/'\n",
    "        f'csse_covid_19_time_series/time_series_covid19_{name}_global.csv')\n",
    "    df = pd.read_csv(url)\n",
    "    # rename countries\n",
    "    df['Country/Region'] = df['Country/Region'].replace(mapping['replace.country'])\n",
    "    return df"
   ]
  },
  {
   "cell_type": "code",
   "execution_count": 8,
   "id": "affiliated-characterization",
   "metadata": {
    "execution": {
     "iopub.execute_input": "2022-04-04T12:15:13.334078Z",
     "iopub.status.busy": "2022-04-04T12:15:13.333306Z",
     "iopub.status.idle": "2022-04-04T12:15:13.336060Z",
     "shell.execute_reply": "2022-04-04T12:15:13.335281Z"
    },
    "papermill": {
     "duration": 0.047958,
     "end_time": "2022-04-04T12:15:13.336201",
     "exception": false,
     "start_time": "2022-04-04T12:15:13.288243",
     "status": "completed"
    },
    "tags": []
   },
   "outputs": [],
   "source": [
    "#hide\n",
    "def get_dates(df):\n",
    "    dt_cols = df.columns[~df.columns.isin(['Province/State', 'Country/Region', 'Lat', 'Long'])]\n",
    "    LAST_DATE_I = -1\n",
    "    # sometimes last column may be empty, then go backwards\n",
    "    for i in range(-1, -len(dt_cols), -1):\n",
    "        if not df[dt_cols[i]].fillna(0).eq(0).all():\n",
    "            LAST_DATE_I = i\n",
    "            break\n",
    "    return LAST_DATE_I, dt_cols"
   ]
  },
  {
   "cell_type": "code",
   "execution_count": 9,
   "id": "recent-optimization",
   "metadata": {
    "execution": {
     "iopub.execute_input": "2022-04-04T12:15:13.423904Z",
     "iopub.status.busy": "2022-04-04T12:15:13.423005Z",
     "iopub.status.idle": "2022-04-04T12:15:13.846226Z",
     "shell.execute_reply": "2022-04-04T12:15:13.846871Z"
    },
    "papermill": {
     "duration": 0.468241,
     "end_time": "2022-04-04T12:15:13.847079",
     "exception": false,
     "start_time": "2022-04-04T12:15:13.378838",
     "status": "completed"
    },
    "tags": []
   },
   "outputs": [],
   "source": [
    "#hide\n",
    "COL_REGION = 'Country/Region'\n",
    "# Confirmed, Recovered, Deaths\n",
    "df = get_frame('confirmed')\n",
    "# dft_: timeseries, dfc_: today country agg\n",
    "dft_cases = df\n",
    "dft_deaths = get_frame('deaths')\n",
    "dft_recovered = get_frame('recovered')\n",
    "LAST_DATE_I, dt_cols = get_dates(df)"
   ]
  },
  {
   "cell_type": "code",
   "execution_count": 10,
   "id": "absolute-copper",
   "metadata": {
    "execution": {
     "iopub.execute_input": "2022-04-04T12:15:13.929787Z",
     "iopub.status.busy": "2022-04-04T12:15:13.929093Z",
     "iopub.status.idle": "2022-04-04T12:15:13.930983Z",
     "shell.execute_reply": "2022-04-04T12:15:13.931517Z"
    },
    "papermill": {
     "duration": 0.048199,
     "end_time": "2022-04-04T12:15:13.931702",
     "exception": false,
     "start_time": "2022-04-04T12:15:13.883503",
     "status": "completed"
    },
    "tags": []
   },
   "outputs": [],
   "source": [
    "#hide\n",
    "LAST_DATE_I, dt_cols = get_dates(df)\n",
    "dt_today =dt_cols[LAST_DATE_I]\n",
    "# dt_5day = dt_cols[LAST_DATE_I - 5]\n",
    "dt_yday = dt_cols[LAST_DATE_I - 1]"
   ]
  },
  {
   "cell_type": "code",
   "execution_count": 11,
   "id": "restricted-sheriff",
   "metadata": {
    "execution": {
     "iopub.execute_input": "2022-04-04T12:15:14.015746Z",
     "iopub.status.busy": "2022-04-04T12:15:14.014968Z",
     "iopub.status.idle": "2022-04-04T12:15:14.024247Z",
     "shell.execute_reply": "2022-04-04T12:15:14.023731Z"
    },
    "papermill": {
     "duration": 0.053557,
     "end_time": "2022-04-04T12:15:14.024376",
     "exception": false,
     "start_time": "2022-04-04T12:15:13.970819",
     "status": "completed"
    },
    "tags": []
   },
   "outputs": [],
   "source": [
    "#hide\n",
    "dfc_cases = dft_cases.groupby(COL_REGION)[dt_today].sum()\n",
    "dfc_deaths = dft_deaths.groupby(COL_REGION)[dt_today].sum()\n",
    "# dfp_cases = dft_cases.groupby(COL_REGION)[dt_5day].sum()\n",
    "# dfp_deaths = dft_deaths.groupby(COL_REGION)[dt_5day].sum()\n",
    "dfp_cases = dft_cases.groupby(COL_REGION)[dt_yday].sum()\n",
    "dfp_deaths = dft_deaths.groupby(COL_REGION)[dt_yday].sum()"
   ]
  },
  {
   "cell_type": "code",
   "execution_count": 12,
   "id": "deluxe-hepatitis",
   "metadata": {
    "execution": {
     "iopub.execute_input": "2022-04-04T12:15:14.112930Z",
     "iopub.status.busy": "2022-04-04T12:15:14.112224Z",
     "iopub.status.idle": "2022-04-04T12:15:14.118332Z",
     "shell.execute_reply": "2022-04-04T12:15:14.117743Z"
    },
    "papermill": {
     "duration": 0.055323,
     "end_time": "2022-04-04T12:15:14.118480",
     "exception": false,
     "start_time": "2022-04-04T12:15:14.063157",
     "status": "completed"
    },
    "tags": []
   },
   "outputs": [],
   "source": [
    "#hide\n",
    "df_table = (pd.DataFrame(dict(Cases = dfc_cases, Deaths = dfc_deaths, PCases = dfp_cases, PDeaths = dfp_deaths))\n",
    "            .sort_values(by = ['Cases','Deaths'], ascending = [False, False])\n",
    "            .reset_index())"
   ]
  },
  {
   "cell_type": "code",
   "execution_count": 13,
   "id": "educational-chancellor",
   "metadata": {
    "execution": {
     "iopub.execute_input": "2022-04-04T12:15:14.230427Z",
     "iopub.status.busy": "2022-04-04T12:15:14.229792Z",
     "iopub.status.idle": "2022-04-04T12:15:14.239510Z",
     "shell.execute_reply": "2022-04-04T12:15:14.238988Z"
    },
    "papermill": {
     "duration": 0.074748,
     "end_time": "2022-04-04T12:15:14.239647",
     "exception": false,
     "start_time": "2022-04-04T12:15:14.164899",
     "status": "completed"
    },
    "tags": []
   },
   "outputs": [
    {
     "data": {
      "text/html": [
       "<div>\n",
       "<style scoped>\n",
       "    .dataframe tbody tr th:only-of-type {\n",
       "        vertical-align: middle;\n",
       "    }\n",
       "\n",
       "    .dataframe tbody tr th {\n",
       "        vertical-align: top;\n",
       "    }\n",
       "\n",
       "    .dataframe thead th {\n",
       "        text-align: right;\n",
       "    }\n",
       "</style>\n",
       "<table border=\"1\" class=\"dataframe\">\n",
       "  <thead>\n",
       "    <tr style=\"text-align: right;\">\n",
       "      <th></th>\n",
       "      <th>Country/Region</th>\n",
       "      <th>Cases</th>\n",
       "      <th>Deaths</th>\n",
       "      <th>PCases</th>\n",
       "      <th>PDeaths</th>\n",
       "      <th>Cases (+)</th>\n",
       "      <th>Deaths (+)</th>\n",
       "      <th>Fatality Rate</th>\n",
       "      <th>Continent</th>\n",
       "    </tr>\n",
       "  </thead>\n",
       "  <tbody>\n",
       "    <tr>\n",
       "      <th>0</th>\n",
       "      <td>US</td>\n",
       "      <td>80155397</td>\n",
       "      <td>982565</td>\n",
       "      <td>80150811</td>\n",
       "      <td>982533</td>\n",
       "      <td>4586</td>\n",
       "      <td>32</td>\n",
       "      <td>1.23</td>\n",
       "      <td>North America</td>\n",
       "    </tr>\n",
       "    <tr>\n",
       "      <th>1</th>\n",
       "      <td>India</td>\n",
       "      <td>43029044</td>\n",
       "      <td>521358</td>\n",
       "      <td>43028131</td>\n",
       "      <td>521345</td>\n",
       "      <td>913</td>\n",
       "      <td>13</td>\n",
       "      <td>1.21</td>\n",
       "      <td>Asia</td>\n",
       "    </tr>\n",
       "    <tr>\n",
       "      <th>2</th>\n",
       "      <td>Brazil</td>\n",
       "      <td>30002785</td>\n",
       "      <td>660410</td>\n",
       "      <td>29995575</td>\n",
       "      <td>660371</td>\n",
       "      <td>7210</td>\n",
       "      <td>39</td>\n",
       "      <td>2.20</td>\n",
       "      <td>South America</td>\n",
       "    </tr>\n",
       "    <tr>\n",
       "      <th>3</th>\n",
       "      <td>France</td>\n",
       "      <td>26186606</td>\n",
       "      <td>143540</td>\n",
       "      <td>26084340</td>\n",
       "      <td>143509</td>\n",
       "      <td>102266</td>\n",
       "      <td>31</td>\n",
       "      <td>0.55</td>\n",
       "      <td>Europe</td>\n",
       "    </tr>\n",
       "    <tr>\n",
       "      <th>4</th>\n",
       "      <td>Germany</td>\n",
       "      <td>21706329</td>\n",
       "      <td>130052</td>\n",
       "      <td>21591147</td>\n",
       "      <td>129987</td>\n",
       "      <td>115182</td>\n",
       "      <td>65</td>\n",
       "      <td>0.60</td>\n",
       "      <td>Europe</td>\n",
       "    </tr>\n",
       "  </tbody>\n",
       "</table>\n",
       "</div>"
      ],
      "text/plain": [
       "  Country/Region     Cases  Deaths    PCases  PDeaths  Cases (+)  Deaths (+)  \\\n",
       "0             US  80155397  982565  80150811   982533       4586          32   \n",
       "1          India  43029044  521358  43028131   521345        913          13   \n",
       "2         Brazil  30002785  660410  29995575   660371       7210          39   \n",
       "3         France  26186606  143540  26084340   143509     102266          31   \n",
       "4        Germany  21706329  130052  21591147   129987     115182          65   \n",
       "\n",
       "   Fatality Rate      Continent  \n",
       "0           1.23  North America  \n",
       "1           1.21           Asia  \n",
       "2           2.20  South America  \n",
       "3           0.55         Europe  \n",
       "4           0.60         Europe  "
      ]
     },
     "execution_count": 13,
     "metadata": {},
     "output_type": "execute_result"
    }
   ],
   "source": [
    "#hide\n",
    "for c in 'Cases, Deaths'.split(', '):\n",
    "    df_table[f'{c} (+)'] = (df_table[c] - df_table[f'P{c}']).clip(0)\n",
    "    #Clip ça veut dire, les chiffres negatif sont interdit\n",
    "df_table['Fatality Rate'] = (100* df_table['Deaths']/ df_table['Cases']).round(2)\n",
    "df_table['Continent'] = df_table['Country/Region'].map(mapping['map.continent'])\n",
    "df_table.head(5)"
   ]
  },
  {
   "cell_type": "code",
   "execution_count": 14,
   "id": "aboriginal-bulgaria",
   "metadata": {
    "execution": {
     "iopub.execute_input": "2022-04-04T12:15:14.328162Z",
     "iopub.status.busy": "2022-04-04T12:15:14.327364Z",
     "iopub.status.idle": "2022-04-04T12:15:14.329938Z",
     "shell.execute_reply": "2022-04-04T12:15:14.330603Z"
    },
    "papermill": {
     "duration": 0.050609,
     "end_time": "2022-04-04T12:15:14.330813",
     "exception": false,
     "start_time": "2022-04-04T12:15:14.280204",
     "status": "completed"
    },
    "tags": []
   },
   "outputs": [],
   "source": [
    "#hide\n",
    "#delete problematic countries from table\n",
    "df_table = df_table[~df_table['Country/Region'].isin(['Cape Verde', 'Cruise Ship', 'Kosovo'])]"
   ]
  },
  {
   "cell_type": "code",
   "execution_count": 15,
   "id": "fantastic-effect",
   "metadata": {
    "execution": {
     "iopub.execute_input": "2022-04-04T12:15:14.431019Z",
     "iopub.status.busy": "2022-04-04T12:15:14.430320Z",
     "iopub.status.idle": "2022-04-04T12:15:14.453215Z",
     "shell.execute_reply": "2022-04-04T12:15:14.453882Z"
    },
    "papermill": {
     "duration": 0.075343,
     "end_time": "2022-04-04T12:15:14.454061",
     "exception": false,
     "start_time": "2022-04-04T12:15:14.378718",
     "status": "completed"
    },
    "tags": []
   },
   "outputs": [
    {
     "data": {
      "text/html": [
       "<div>\n",
       "<style scoped>\n",
       "    .dataframe tbody tr th:only-of-type {\n",
       "        vertical-align: middle;\n",
       "    }\n",
       "\n",
       "    .dataframe tbody tr th {\n",
       "        vertical-align: top;\n",
       "    }\n",
       "\n",
       "    .dataframe thead th {\n",
       "        text-align: right;\n",
       "    }\n",
       "</style>\n",
       "<table border=\"1\" class=\"dataframe\">\n",
       "  <thead>\n",
       "    <tr style=\"text-align: right;\">\n",
       "      <th></th>\n",
       "      <th>Country/Region</th>\n",
       "      <th>Cases</th>\n",
       "      <th>Deaths</th>\n",
       "      <th>PCases</th>\n",
       "      <th>PDeaths</th>\n",
       "      <th>Cases (+)</th>\n",
       "      <th>Deaths (+)</th>\n",
       "      <th>Fatality Rate</th>\n",
       "      <th>Continent</th>\n",
       "    </tr>\n",
       "  </thead>\n",
       "  <tbody>\n",
       "    <tr>\n",
       "      <th>0</th>\n",
       "      <td>US</td>\n",
       "      <td>80155397</td>\n",
       "      <td>982565</td>\n",
       "      <td>80150811</td>\n",
       "      <td>982533</td>\n",
       "      <td>4586</td>\n",
       "      <td>32</td>\n",
       "      <td>1.2</td>\n",
       "      <td>North America</td>\n",
       "    </tr>\n",
       "    <tr>\n",
       "      <th>1</th>\n",
       "      <td>India</td>\n",
       "      <td>43029044</td>\n",
       "      <td>521358</td>\n",
       "      <td>43028131</td>\n",
       "      <td>521345</td>\n",
       "      <td>913</td>\n",
       "      <td>13</td>\n",
       "      <td>1.2</td>\n",
       "      <td>Asia</td>\n",
       "    </tr>\n",
       "    <tr>\n",
       "      <th>2</th>\n",
       "      <td>Brazil</td>\n",
       "      <td>30002785</td>\n",
       "      <td>660410</td>\n",
       "      <td>29995575</td>\n",
       "      <td>660371</td>\n",
       "      <td>7210</td>\n",
       "      <td>39</td>\n",
       "      <td>2.2</td>\n",
       "      <td>South America</td>\n",
       "    </tr>\n",
       "    <tr>\n",
       "      <th>3</th>\n",
       "      <td>France</td>\n",
       "      <td>26186606</td>\n",
       "      <td>143540</td>\n",
       "      <td>26084340</td>\n",
       "      <td>143509</td>\n",
       "      <td>102266</td>\n",
       "      <td>31</td>\n",
       "      <td>0.5</td>\n",
       "      <td>Europe</td>\n",
       "    </tr>\n",
       "    <tr>\n",
       "      <th>4</th>\n",
       "      <td>Germany</td>\n",
       "      <td>21706329</td>\n",
       "      <td>130052</td>\n",
       "      <td>21591147</td>\n",
       "      <td>129987</td>\n",
       "      <td>115182</td>\n",
       "      <td>65</td>\n",
       "      <td>0.6</td>\n",
       "      <td>Europe</td>\n",
       "    </tr>\n",
       "  </tbody>\n",
       "</table>\n",
       "</div>"
      ],
      "text/plain": [
       "  Country/Region     Cases  Deaths    PCases  PDeaths  Cases (+)  Deaths (+)  \\\n",
       "0             US  80155397  982565  80150811   982533       4586          32   \n",
       "1          India  43029044  521358  43028131   521345        913          13   \n",
       "2         Brazil  30002785  660410  29995575   660371       7210          39   \n",
       "3         France  26186606  143540  26084340   143509     102266          31   \n",
       "4        Germany  21706329  130052  21591147   129987     115182          65   \n",
       "\n",
       "   Fatality Rate      Continent  \n",
       "0            1.2  North America  \n",
       "1            1.2           Asia  \n",
       "2            2.2  South America  \n",
       "3            0.5         Europe  \n",
       "4            0.6         Europe  "
      ]
     },
     "execution_count": 15,
     "metadata": {},
     "output_type": "execute_result"
    }
   ],
   "source": [
    "#hide\n",
    "df_table = (pd.DataFrame(dict(Cases=dfc_cases, Deaths=dfc_deaths, PCases=dfp_cases, PDeaths=dfp_deaths))\n",
    "             .sort_values(by=['Cases', 'Deaths'], ascending=[False, False])\n",
    "             .reset_index())\n",
    "df_table.rename(columns={'index': 'Country/Region'}, inplace=True)\n",
    "for c in 'Cases, Deaths'.split(', '):\n",
    "    df_table[f'{c} (+)'] = (df_table[c] - df_table[f'P{c}']).clip(0)  # DATA BUG\n",
    "df_table['Fatality Rate'] = (100 * df_table['Deaths'] / df_table['Cases']).round(1)\n",
    "df_table['Continent'] = df_table['Country/Region'].map(mapping['map.continent'])\n",
    "df_table.head(5)"
   ]
  },
  {
   "cell_type": "code",
   "execution_count": 16,
   "id": "fewer-occasion",
   "metadata": {
    "execution": {
     "iopub.execute_input": "2022-04-04T12:15:14.545369Z",
     "iopub.status.busy": "2022-04-04T12:15:14.544680Z",
     "iopub.status.idle": "2022-04-04T12:15:14.548179Z",
     "shell.execute_reply": "2022-04-04T12:15:14.549152Z"
    },
    "papermill": {
     "duration": 0.052318,
     "end_time": "2022-04-04T12:15:14.549321",
     "exception": false,
     "start_time": "2022-04-04T12:15:14.497003",
     "status": "completed"
    },
    "tags": []
   },
   "outputs": [],
   "source": [
    "#hide\n",
    "#delete problematic countries from table\n",
    "df_table = df_table[~df_table['Country/Region'].isin(['Cape Verde', 'Cruise Ship', 'Kosovo'])]"
   ]
  },
  {
   "cell_type": "code",
   "execution_count": 17,
   "id": "related-center",
   "metadata": {
    "execution": {
     "iopub.execute_input": "2022-04-04T12:15:14.653399Z",
     "iopub.status.busy": "2022-04-04T12:15:14.652744Z",
     "iopub.status.idle": "2022-04-04T12:15:14.656840Z",
     "shell.execute_reply": "2022-04-04T12:15:14.657374Z"
    },
    "papermill": {
     "duration": 0.068095,
     "end_time": "2022-04-04T12:15:14.657567",
     "exception": false,
     "start_time": "2022-04-04T12:15:14.589472",
     "status": "completed"
    },
    "tags": []
   },
   "outputs": [],
   "source": [
    "#hide\n",
    "metrics = [df_table.columns[index] for index in [1,2,5,6]]\n",
    "# s_china = df_table[df_table['Country/Region'].eq('China')][metrics].sum().add_prefix('China ')\n",
    "s_us = df_table[df_table['Country/Region'].eq('US')][metrics].sum().add_prefix('US ')\n",
    "s_eu = df_table[df_table['Continent'].eq('Europe')][metrics].sum().add_prefix('EU ')\n",
    "s_ind = df_table[df_table['Country/Region'].eq('India')][metrics].sum().add_prefix('India ')\n",
    "summary = {'updated': pd.to_datetime(dt_today), 'since': pd.to_datetime(dt_yday)}\n",
    "summary = {'updated': pd.to_datetime(dt_today), 'since': pd.to_datetime(dt_yday)}\n",
    "summary = {**summary, **df_table[metrics].sum(), **s_ind, **s_us, **s_eu}"
   ]
  },
  {
   "cell_type": "code",
   "execution_count": 18,
   "id": "engaging-syndrome",
   "metadata": {
    "execution": {
     "iopub.execute_input": "2022-04-04T12:15:14.754526Z",
     "iopub.status.busy": "2022-04-04T12:15:14.753598Z",
     "iopub.status.idle": "2022-04-04T12:15:14.775106Z",
     "shell.execute_reply": "2022-04-04T12:15:14.774452Z"
    },
    "papermill": {
     "duration": 0.076263,
     "end_time": "2022-04-04T12:15:14.775251",
     "exception": false,
     "start_time": "2022-04-04T12:15:14.698988",
     "status": "completed"
    },
    "tags": []
   },
   "outputs": [],
   "source": [
    "#hide\n",
    "dft_ct_new_cases = dft_cases.groupby(COL_REGION)[dt_cols].sum().diff(axis=1).fillna(0).astype(int)"
   ]
  },
  {
   "cell_type": "code",
   "execution_count": 19,
   "id": "neutral-assignment",
   "metadata": {
    "execution": {
     "iopub.execute_input": "2022-04-04T12:15:14.872194Z",
     "iopub.status.busy": "2022-04-04T12:15:14.871427Z",
     "iopub.status.idle": "2022-04-04T12:15:14.874166Z",
     "shell.execute_reply": "2022-04-04T12:15:14.873487Z"
    },
    "papermill": {
     "duration": 0.054921,
     "end_time": "2022-04-04T12:15:14.874300",
     "exception": false,
     "start_time": "2022-04-04T12:15:14.819379",
     "status": "completed"
    },
    "tags": []
   },
   "outputs": [],
   "source": [
    "#hide\n",
    "everydaycases = dft_ct_new_cases.cumsum(axis=1)"
   ]
  },
  {
   "cell_type": "code",
   "execution_count": 20,
   "id": "parliamentary-calgary",
   "metadata": {
    "execution": {
     "iopub.execute_input": "2022-04-04T12:15:14.962435Z",
     "iopub.status.busy": "2022-04-04T12:15:14.961804Z",
     "iopub.status.idle": "2022-04-04T12:15:15.763274Z",
     "shell.execute_reply": "2022-04-04T12:15:15.762740Z"
    },
    "papermill": {
     "duration": 0.846704,
     "end_time": "2022-04-04T12:15:15.763427",
     "exception": false,
     "start_time": "2022-04-04T12:15:14.916723",
     "status": "completed"
    },
    "tags": []
   },
   "outputs": [],
   "source": [
    "#hide\n",
    "import pandas as pd\n",
    "import matplotlib.pyplot as plt\n",
    "import matplotlib.ticker as ticker\n",
    "import matplotlib.animation as animation\n",
    "from IPython.display import HTML"
   ]
  },
  {
   "cell_type": "code",
   "execution_count": 21,
   "id": "lasting-extraction",
   "metadata": {
    "execution": {
     "iopub.execute_input": "2022-04-04T12:15:15.853324Z",
     "iopub.status.busy": "2022-04-04T12:15:15.852645Z",
     "iopub.status.idle": "2022-04-04T12:15:15.859668Z",
     "shell.execute_reply": "2022-04-04T12:15:15.860464Z"
    },
    "papermill": {
     "duration": 0.055432,
     "end_time": "2022-04-04T12:15:15.860706",
     "exception": false,
     "start_time": "2022-04-04T12:15:15.805274",
     "status": "completed"
    },
    "tags": []
   },
   "outputs": [],
   "source": [
    "#hide\n",
    "t = everydaycases.stack()"
   ]
  },
  {
   "cell_type": "code",
   "execution_count": 22,
   "id": "premier-sleeve",
   "metadata": {
    "execution": {
     "iopub.execute_input": "2022-04-04T12:15:15.961553Z",
     "iopub.status.busy": "2022-04-04T12:15:15.960833Z",
     "iopub.status.idle": "2022-04-04T12:15:15.973188Z",
     "shell.execute_reply": "2022-04-04T12:15:15.973771Z"
    },
    "papermill": {
     "duration": 0.061351,
     "end_time": "2022-04-04T12:15:15.973997",
     "exception": false,
     "start_time": "2022-04-04T12:15:15.912646",
     "status": "completed"
    },
    "tags": []
   },
   "outputs": [],
   "source": [
    "#hide\n",
    "g = t.reset_index(['Country/Region'])"
   ]
  },
  {
   "cell_type": "code",
   "execution_count": 23,
   "id": "distributed-pittsburgh",
   "metadata": {
    "execution": {
     "iopub.execute_input": "2022-04-04T12:15:16.067661Z",
     "iopub.status.busy": "2022-04-04T12:15:16.066697Z",
     "iopub.status.idle": "2022-04-04T12:15:16.071416Z",
     "shell.execute_reply": "2022-04-04T12:15:16.070877Z"
    },
    "papermill": {
     "duration": 0.053387,
     "end_time": "2022-04-04T12:15:16.071561",
     "exception": false,
     "start_time": "2022-04-04T12:15:16.018174",
     "status": "completed"
    },
    "tags": []
   },
   "outputs": [],
   "source": [
    "#hide\n",
    "g.index.name = 'date'"
   ]
  },
  {
   "cell_type": "code",
   "execution_count": 24,
   "id": "naked-donor",
   "metadata": {
    "execution": {
     "iopub.execute_input": "2022-04-04T12:15:16.163050Z",
     "iopub.status.busy": "2022-04-04T12:15:16.162357Z",
     "iopub.status.idle": "2022-04-04T12:15:16.166842Z",
     "shell.execute_reply": "2022-04-04T12:15:16.166281Z"
    },
    "papermill": {
     "duration": 0.050338,
     "end_time": "2022-04-04T12:15:16.167031",
     "exception": false,
     "start_time": "2022-04-04T12:15:16.116693",
     "status": "completed"
    },
    "tags": []
   },
   "outputs": [],
   "source": [
    "# #hide\n",
    "# g = g.reset_index(['date'])"
   ]
  },
  {
   "cell_type": "code",
   "execution_count": 25,
   "id": "incomplete-mustang",
   "metadata": {
    "execution": {
     "iopub.execute_input": "2022-04-04T12:15:16.254358Z",
     "iopub.status.busy": "2022-04-04T12:15:16.253652Z",
     "iopub.status.idle": "2022-04-04T12:15:16.256703Z",
     "shell.execute_reply": "2022-04-04T12:15:16.256184Z"
    },
    "papermill": {
     "duration": 0.049831,
     "end_time": "2022-04-04T12:15:16.256837",
     "exception": false,
     "start_time": "2022-04-04T12:15:16.207006",
     "status": "completed"
    },
    "tags": []
   },
   "outputs": [],
   "source": [
    "#hide\n",
    "# g.head()"
   ]
  },
  {
   "cell_type": "code",
   "execution_count": 26,
   "id": "specific-kruger",
   "metadata": {
    "execution": {
     "iopub.execute_input": "2022-04-04T12:15:16.342001Z",
     "iopub.status.busy": "2022-04-04T12:15:16.341347Z",
     "iopub.status.idle": "2022-04-04T12:15:16.343142Z",
     "shell.execute_reply": "2022-04-04T12:15:16.343718Z"
    },
    "papermill": {
     "duration": 0.047456,
     "end_time": "2022-04-04T12:15:16.343883",
     "exception": false,
     "start_time": "2022-04-04T12:15:16.296427",
     "status": "completed"
    },
    "tags": []
   },
   "outputs": [],
   "source": [
    "#hide\n",
    "# g.columns = ['date','country','cases']"
   ]
  },
  {
   "cell_type": "code",
   "execution_count": 27,
   "id": "tender-conversion",
   "metadata": {
    "execution": {
     "iopub.execute_input": "2022-04-04T12:15:16.429570Z",
     "iopub.status.busy": "2022-04-04T12:15:16.428763Z",
     "iopub.status.idle": "2022-04-04T12:15:16.431005Z",
     "shell.execute_reply": "2022-04-04T12:15:16.431573Z"
    },
    "papermill": {
     "duration": 0.047184,
     "end_time": "2022-04-04T12:15:16.431764",
     "exception": false,
     "start_time": "2022-04-04T12:15:16.384580",
     "status": "completed"
    },
    "tags": []
   },
   "outputs": [],
   "source": [
    "#hide\n",
    "# g['continent'] = g.country"
   ]
  },
  {
   "cell_type": "code",
   "execution_count": 28,
   "id": "substantial-wilderness",
   "metadata": {
    "execution": {
     "iopub.execute_input": "2022-04-04T12:15:16.519289Z",
     "iopub.status.busy": "2022-04-04T12:15:16.518571Z",
     "iopub.status.idle": "2022-04-04T12:15:16.521337Z",
     "shell.execute_reply": "2022-04-04T12:15:16.520756Z"
    },
    "papermill": {
     "duration": 0.048232,
     "end_time": "2022-04-04T12:15:16.521485",
     "exception": false,
     "start_time": "2022-04-04T12:15:16.473253",
     "status": "completed"
    },
    "tags": []
   },
   "outputs": [],
   "source": [
    "#hide\n",
    "# cols = list(g.columns.values)"
   ]
  },
  {
   "cell_type": "code",
   "execution_count": 29,
   "id": "solved-farming",
   "metadata": {
    "execution": {
     "iopub.execute_input": "2022-04-04T12:15:16.610278Z",
     "iopub.status.busy": "2022-04-04T12:15:16.609606Z",
     "iopub.status.idle": "2022-04-04T12:15:16.612483Z",
     "shell.execute_reply": "2022-04-04T12:15:16.611799Z"
    },
    "papermill": {
     "duration": 0.048515,
     "end_time": "2022-04-04T12:15:16.612613",
     "exception": false,
     "start_time": "2022-04-04T12:15:16.564098",
     "status": "completed"
    },
    "tags": []
   },
   "outputs": [],
   "source": [
    "#hide\n",
    "# cols.insert(0, cols.pop())"
   ]
  },
  {
   "cell_type": "code",
   "execution_count": 30,
   "id": "executed-adoption",
   "metadata": {
    "execution": {
     "iopub.execute_input": "2022-04-04T12:15:16.700360Z",
     "iopub.status.busy": "2022-04-04T12:15:16.699616Z",
     "iopub.status.idle": "2022-04-04T12:15:16.703859Z",
     "shell.execute_reply": "2022-04-04T12:15:16.704475Z"
    },
    "papermill": {
     "duration": 0.050825,
     "end_time": "2022-04-04T12:15:16.704640",
     "exception": false,
     "start_time": "2022-04-04T12:15:16.653815",
     "status": "completed"
    },
    "tags": []
   },
   "outputs": [],
   "source": [
    "#hide\n",
    "# g = g[cols]"
   ]
  },
  {
   "cell_type": "code",
   "execution_count": 31,
   "id": "subject-dublin",
   "metadata": {
    "execution": {
     "iopub.execute_input": "2022-04-04T12:15:16.794784Z",
     "iopub.status.busy": "2022-04-04T12:15:16.794042Z",
     "iopub.status.idle": "2022-04-04T12:15:16.798296Z",
     "shell.execute_reply": "2022-04-04T12:15:16.798806Z"
    },
    "papermill": {
     "duration": 0.051207,
     "end_time": "2022-04-04T12:15:16.798988",
     "exception": false,
     "start_time": "2022-04-04T12:15:16.747781",
     "status": "completed"
    },
    "tags": []
   },
   "outputs": [],
   "source": [
    "#hide\n",
    "# g['continent'] = g['continent'].map(mapping['map.continent'])"
   ]
  },
  {
   "cell_type": "code",
   "execution_count": 32,
   "id": "freelance-scout",
   "metadata": {
    "execution": {
     "iopub.execute_input": "2022-04-04T12:15:16.881835Z",
     "iopub.status.busy": "2022-04-04T12:15:16.881204Z",
     "iopub.status.idle": "2022-04-04T12:15:16.883417Z",
     "shell.execute_reply": "2022-04-04T12:15:16.882597Z"
    },
    "papermill": {
     "duration": 0.045132,
     "end_time": "2022-04-04T12:15:16.883568",
     "exception": false,
     "start_time": "2022-04-04T12:15:16.838436",
     "status": "completed"
    },
    "tags": []
   },
   "outputs": [],
   "source": [
    "#hide\n",
    "# g.head()"
   ]
  },
  {
   "cell_type": "code",
   "execution_count": 33,
   "id": "limited-engine",
   "metadata": {
    "execution": {
     "iopub.execute_input": "2022-04-04T12:15:16.969499Z",
     "iopub.status.busy": "2022-04-04T12:15:16.968870Z",
     "iopub.status.idle": "2022-04-04T12:15:16.971403Z",
     "shell.execute_reply": "2022-04-04T12:15:16.970737Z"
    },
    "papermill": {
     "duration": 0.046503,
     "end_time": "2022-04-04T12:15:16.971556",
     "exception": false,
     "start_time": "2022-04-04T12:15:16.925053",
     "status": "completed"
    },
    "tags": []
   },
   "outputs": [],
   "source": [
    "# hide\n",
    "# g['date'] = g['date'].astype('datetime64[ns]')"
   ]
  },
  {
   "cell_type": "code",
   "execution_count": 34,
   "id": "sophisticated-supervisor",
   "metadata": {
    "execution": {
     "iopub.execute_input": "2022-04-04T12:15:17.056034Z",
     "iopub.status.busy": "2022-04-04T12:15:17.055197Z",
     "iopub.status.idle": "2022-04-04T12:15:17.059841Z",
     "shell.execute_reply": "2022-04-04T12:15:17.059216Z"
    },
    "papermill": {
     "duration": 0.047474,
     "end_time": "2022-04-04T12:15:17.060041",
     "exception": false,
     "start_time": "2022-04-04T12:15:17.012567",
     "status": "completed"
    },
    "tags": []
   },
   "outputs": [],
   "source": [
    "#hide\n",
    "# g['date'] = g.date.dt.dayofyear"
   ]
  },
  {
   "cell_type": "code",
   "execution_count": 35,
   "id": "inside-dubai",
   "metadata": {
    "execution": {
     "iopub.execute_input": "2022-04-04T12:15:17.147874Z",
     "iopub.status.busy": "2022-04-04T12:15:17.147155Z",
     "iopub.status.idle": "2022-04-04T12:15:17.149331Z",
     "shell.execute_reply": "2022-04-04T12:15:17.149838Z"
    },
    "papermill": {
     "duration": 0.049804,
     "end_time": "2022-04-04T12:15:17.149995",
     "exception": false,
     "start_time": "2022-04-04T12:15:17.100191",
     "status": "completed"
    },
    "tags": []
   },
   "outputs": [],
   "source": [
    "#hide\n",
    "# g = g.rename(columns= {'continent':'group','country':'name','cases':'value'})"
   ]
  },
  {
   "cell_type": "code",
   "execution_count": 36,
   "id": "fleet-motorcycle",
   "metadata": {
    "execution": {
     "iopub.execute_input": "2022-04-04T12:15:17.238244Z",
     "iopub.status.busy": "2022-04-04T12:15:17.237547Z",
     "iopub.status.idle": "2022-04-04T12:15:17.239773Z",
     "shell.execute_reply": "2022-04-04T12:15:17.240473Z"
    },
    "papermill": {
     "duration": 0.049989,
     "end_time": "2022-04-04T12:15:17.240734",
     "exception": false,
     "start_time": "2022-04-04T12:15:17.190745",
     "status": "completed"
    },
    "tags": []
   },
   "outputs": [],
   "source": [
    "#hide\n",
    "# cols = ['name','group','day','value']"
   ]
  },
  {
   "cell_type": "code",
   "execution_count": 37,
   "id": "continued-sleeping",
   "metadata": {
    "execution": {
     "iopub.execute_input": "2022-04-04T12:15:17.327811Z",
     "iopub.status.busy": "2022-04-04T12:15:17.327138Z",
     "iopub.status.idle": "2022-04-04T12:15:17.330294Z",
     "shell.execute_reply": "2022-04-04T12:15:17.330851Z"
    },
    "papermill": {
     "duration": 0.04919,
     "end_time": "2022-04-04T12:15:17.331611",
     "exception": false,
     "start_time": "2022-04-04T12:15:17.282421",
     "status": "completed"
    },
    "tags": []
   },
   "outputs": [],
   "source": [
    "#hide\n",
    "# g.rename(columns= {'date':'day'},inplace = True)"
   ]
  },
  {
   "cell_type": "code",
   "execution_count": 38,
   "id": "major-fight",
   "metadata": {
    "execution": {
     "iopub.execute_input": "2022-04-04T12:15:17.420968Z",
     "iopub.status.busy": "2022-04-04T12:15:17.420202Z",
     "iopub.status.idle": "2022-04-04T12:15:17.426693Z",
     "shell.execute_reply": "2022-04-04T12:15:17.426089Z"
    },
    "papermill": {
     "duration": 0.050583,
     "end_time": "2022-04-04T12:15:17.426832",
     "exception": false,
     "start_time": "2022-04-04T12:15:17.376249",
     "status": "completed"
    },
    "tags": []
   },
   "outputs": [],
   "source": [
    "#hide\n",
    "# g = g[cols]"
   ]
  },
  {
   "cell_type": "code",
   "execution_count": 39,
   "id": "structured-mobile",
   "metadata": {
    "execution": {
     "iopub.execute_input": "2022-04-04T12:15:17.519067Z",
     "iopub.status.busy": "2022-04-04T12:15:17.518332Z",
     "iopub.status.idle": "2022-04-04T12:15:17.520511Z",
     "shell.execute_reply": "2022-04-04T12:15:17.521036Z"
    },
    "papermill": {
     "duration": 0.050599,
     "end_time": "2022-04-04T12:15:17.521187",
     "exception": false,
     "start_time": "2022-04-04T12:15:17.470588",
     "status": "completed"
    },
    "tags": []
   },
   "outputs": [],
   "source": [
    "# #hide\n",
    "# g = g[g.group.notna()]"
   ]
  },
  {
   "cell_type": "code",
   "execution_count": 40,
   "id": "determined-closing",
   "metadata": {
    "execution": {
     "iopub.execute_input": "2022-04-04T12:15:17.607653Z",
     "iopub.status.busy": "2022-04-04T12:15:17.606917Z",
     "iopub.status.idle": "2022-04-04T12:15:17.610781Z",
     "shell.execute_reply": "2022-04-04T12:15:17.611294Z"
    },
    "papermill": {
     "duration": 0.049187,
     "end_time": "2022-04-04T12:15:17.611462",
     "exception": false,
     "start_time": "2022-04-04T12:15:17.562275",
     "status": "completed"
    },
    "tags": []
   },
   "outputs": [],
   "source": [
    "# #hide\n",
    "# colors = dict(zip(\n",
    "#     [\"Oceania\", \"Europe\", \"Asia\", \"South America\", \"Middle East\", \"North America\", \"Africa\"],\n",
    "#     [\"#adb0ff\", \"#ffb3ff\", \"#90d595\", \"#e48381\", \"#aafbff\", \"#f7bb5f\", \"#eafb50\"]\n",
    "# ))\n",
    "# group_lk = g.set_index('name')['group'].to_dict()"
   ]
  },
  {
   "cell_type": "code",
   "execution_count": null,
   "id": "gross-drinking",
   "metadata": {
    "papermill": {
     "duration": 0.03949,
     "end_time": "2022-04-04T12:15:17.690736",
     "exception": false,
     "start_time": "2022-04-04T12:15:17.651246",
     "status": "completed"
    },
    "tags": []
   },
   "outputs": [],
   "source": []
  },
  {
   "cell_type": "code",
   "execution_count": 41,
   "id": "subject-macintosh",
   "metadata": {
    "execution": {
     "iopub.execute_input": "2022-04-04T12:15:17.772496Z",
     "iopub.status.busy": "2022-04-04T12:15:17.771748Z",
     "iopub.status.idle": "2022-04-04T12:15:17.774318Z",
     "shell.execute_reply": "2022-04-04T12:15:17.773584Z"
    },
    "papermill": {
     "duration": 0.045067,
     "end_time": "2022-04-04T12:15:17.774475",
     "exception": false,
     "start_time": "2022-04-04T12:15:17.729408",
     "status": "completed"
    },
    "tags": []
   },
   "outputs": [],
   "source": [
    "# #hide\n",
    "# fig, ax = plt.subplots(figsize=(15, 8))\n",
    "\n",
    "# def draw_barchart(current_day):\n",
    "#     dff = g[g['day'].eq(current_day)].sort_values(by='value', ascending=True).tail(10)\n",
    "#     ax.clear()\n",
    "#     ax.barh(dff['name'], dff['value'], color=[colors[group_lk[x]] for x in dff['name']])\n",
    "#     dx = dff['value'].max() / 200\n",
    "    \n",
    "#     for i, (value, name) in enumerate(zip(dff['value'], dff['name'])):\n",
    "#         ax.text(value-dx, i,     name,           size=14, weight=600, ha='right', va='bottom')\n",
    "#         ax.text(value-dx, i-.25, group_lk[name], size=10, color='#444444', ha='right', va='baseline')\n",
    "#         ax.text(value+dx, i,     f'{value:,.0f}',  size=14, ha='left',  va='center')\n",
    "#     ax.text(1, 0.4, current_day, transform=ax.transAxes, color='#777777', size=46, ha='right', weight=800)\n",
    "#     ax.text(0, 1.06, 'Population (thousands)', transform=ax.transAxes, size=12, color='#777777')\n",
    "#     ax.xaxis.set_major_formatter(ticker.StrMethodFormatter('{x:,.0f}'))\n",
    "#     ax.xaxis.set_ticks_position('top')\n",
    "#     ax.tick_params(axis='x', colors='#777777', labelsize=12)\n",
    "#     ax.set_yticks([])\n",
    "#     ax.margins(0, 0.01)\n",
    "#     ax.grid(which='major', axis='x', linestyle='-')\n",
    "#     ax.set_axisbelow(True)\n",
    "    \n",
    "#     ax.text(0, 1.15, 'Coronavirus',\n",
    "#             transform=ax.transAxes, size=24, weight=600, ha='left', va='top')\n",
    "# #     ax.text(1, 0, 'by @pratapvardhan; credit @jburnmurdoch', transform=ax.transAxes, color='#777777', ha='right',\n",
    "# #             bbox=dict(facecolor='white', alpha=0.8, edgecolor='white'))\n",
    "#     plt.box(False)"
   ]
  },
  {
   "cell_type": "code",
   "execution_count": 42,
   "id": "sexual-wages",
   "metadata": {
    "execution": {
     "iopub.execute_input": "2022-04-04T12:15:17.856828Z",
     "iopub.status.busy": "2022-04-04T12:15:17.855866Z",
     "iopub.status.idle": "2022-04-04T12:15:17.858858Z",
     "shell.execute_reply": "2022-04-04T12:15:17.858183Z"
    },
    "papermill": {
     "duration": 0.044499,
     "end_time": "2022-04-04T12:15:17.858984",
     "exception": false,
     "start_time": "2022-04-04T12:15:17.814485",
     "status": "completed"
    },
    "tags": []
   },
   "outputs": [],
   "source": [
    "# #hide_input\n",
    "# fig, ax = plt.subplots(figsize=(15, 8))\n",
    "# animator = animation.FuncAnimation(fig, draw_barchart, frames=range(g.day.values.min(), g.day.values.max()))\n",
    "# HTML(animator.to_jshtml())\n",
    "# # or use animator.to_html5_video() or animator.save() "
   ]
  },
  {
   "cell_type": "code",
   "execution_count": null,
   "id": "australian-container",
   "metadata": {
    "papermill": {
     "duration": 0.039254,
     "end_time": "2022-04-04T12:15:17.942967",
     "exception": false,
     "start_time": "2022-04-04T12:15:17.903713",
     "status": "completed"
    },
    "tags": []
   },
   "outputs": [],
   "source": []
  },
  {
   "cell_type": "code",
   "execution_count": null,
   "id": "mediterranean-pontiac",
   "metadata": {
    "papermill": {
     "duration": 0.038613,
     "end_time": "2022-04-04T12:15:18.018732",
     "exception": false,
     "start_time": "2022-04-04T12:15:17.980119",
     "status": "completed"
    },
    "tags": []
   },
   "outputs": [],
   "source": []
  },
  {
   "cell_type": "code",
   "execution_count": null,
   "id": "aging-legislature",
   "metadata": {
    "papermill": {
     "duration": 0.037354,
     "end_time": "2022-04-04T12:15:18.093987",
     "exception": false,
     "start_time": "2022-04-04T12:15:18.056633",
     "status": "completed"
    },
    "tags": []
   },
   "outputs": [],
   "source": []
  }
 ],
 "metadata": {
  "kernelspec": {
   "display_name": "Python 3",
   "language": "python",
   "name": "python3"
  },
  "language_info": {
   "codemirror_mode": {
    "name": "ipython",
    "version": 3
   },
   "file_extension": ".py",
   "mimetype": "text/x-python",
   "name": "python",
   "nbconvert_exporter": "python",
   "pygments_lexer": "ipython3",
   "version": "3.6.15"
  },
  "papermill": {
   "duration": 7.804687,
   "end_time": "2022-04-04T12:15:18.553126",
   "environment_variables": {},
   "exception": null,
   "input_path": "2020-03-21-covid19exp.ipynb",
   "output_path": "2020-03-21-covid19exp.ipynb",
   "parameters": {},
   "start_time": "2022-04-04T12:15:10.748439",
   "version": "2.0.0"
  }
 },
 "nbformat": 4,
 "nbformat_minor": 5
}