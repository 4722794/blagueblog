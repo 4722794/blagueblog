{
 "cells": [
  {
   "cell_type": "markdown",
   "id": "muslim-click",
   "metadata": {
    "papermill": {
     "duration": 0.034586,
     "end_time": "2021-09-09T12:10:55.608723",
     "exception": false,
     "start_time": "2021-09-09T12:10:55.574137",
     "status": "completed"
    },
    "tags": []
   },
   "source": [
    "# COVID-19 Case Race\n",
    "> A race chart to see rising cases around the world\n",
    "\n",
    "- author: Hargun Oberoi\n",
    "- image: images/covid-overview.png\n",
    "- hide: false\n",
    "- badges: false"
   ]
  },
  {
   "cell_type": "code",
   "execution_count": 1,
   "id": "proof-material",
   "metadata": {
    "execution": {
     "iopub.execute_input": "2021-09-09T12:10:55.687134Z",
     "iopub.status.busy": "2021-09-09T12:10:55.686613Z",
     "iopub.status.idle": "2021-09-09T12:10:56.013895Z",
     "shell.execute_reply": "2021-09-09T12:10:56.013356Z"
    },
    "papermill": {
     "duration": 0.369878,
     "end_time": "2021-09-09T12:10:56.014044",
     "exception": false,
     "start_time": "2021-09-09T12:10:55.644166",
     "status": "completed"
    },
    "tags": []
   },
   "outputs": [],
   "source": [
    "#hide\n",
    "import numpy as np\n",
    "import pandas as pd\n",
    "from jinja2 import Template\n",
    "from IPython.display import HTML"
   ]
  },
  {
   "cell_type": "code",
   "execution_count": 2,
   "id": "developed-terminology",
   "metadata": {
    "execution": {
     "iopub.execute_input": "2021-09-09T12:10:56.074673Z",
     "iopub.status.busy": "2021-09-09T12:10:56.074118Z",
     "iopub.status.idle": "2021-09-09T12:10:56.075484Z",
     "shell.execute_reply": "2021-09-09T12:10:56.075925Z"
    },
    "papermill": {
     "duration": 0.034061,
     "end_time": "2021-09-09T12:10:56.076059",
     "exception": false,
     "start_time": "2021-09-09T12:10:56.041998",
     "status": "completed"
    },
    "tags": []
   },
   "outputs": [],
   "source": [
    "#hide\n",
    "\n",
    "# FETCH\n",
    "base_url = 'https://raw.githubusercontent.com/pratapvardhan/notebooks/master/covid19/'\n",
    "paths = {\n",
    "    'mapping': base_url + 'mapping_countries.csv',\n",
    "    'overview': base_url + 'overview.tpl'\n",
    "}"
   ]
  },
  {
   "cell_type": "code",
   "execution_count": 3,
   "id": "dynamic-saver",
   "metadata": {
    "execution": {
     "iopub.execute_input": "2021-09-09T12:10:56.148583Z",
     "iopub.status.busy": "2021-09-09T12:10:56.148107Z",
     "iopub.status.idle": "2021-09-09T12:10:56.150923Z",
     "shell.execute_reply": "2021-09-09T12:10:56.150281Z"
    },
    "papermill": {
     "duration": 0.042729,
     "end_time": "2021-09-09T12:10:56.151038",
     "exception": false,
     "start_time": "2021-09-09T12:10:56.108309",
     "status": "completed"
    },
    "tags": []
   },
   "outputs": [
    {
     "data": {
      "text/plain": [
       "'https://raw.githubusercontent.com/pratapvardhan/notebooks/master/covid19/mapping_countries.csv'"
      ]
     },
     "execution_count": 3,
     "metadata": {},
     "output_type": "execute_result"
    }
   ],
   "source": [
    "#hide\n",
    "paths['mapping']"
   ]
  },
  {
   "cell_type": "code",
   "execution_count": 4,
   "id": "urban-software",
   "metadata": {
    "execution": {
     "iopub.execute_input": "2021-09-09T12:10:56.215841Z",
     "iopub.status.busy": "2021-09-09T12:10:56.215342Z",
     "iopub.status.idle": "2021-09-09T12:10:56.217446Z",
     "shell.execute_reply": "2021-09-09T12:10:56.217025Z"
    },
    "papermill": {
     "duration": 0.036564,
     "end_time": "2021-09-09T12:10:56.217550",
     "exception": false,
     "start_time": "2021-09-09T12:10:56.180986",
     "status": "completed"
    },
    "tags": []
   },
   "outputs": [],
   "source": [
    "#hide\n",
    "def get_mappings(url):\n",
    "    df = pd.read_csv(url)\n",
    "    return {\n",
    "        'df': df,\n",
    "        'replace.country': dict(df.dropna(subset=['Name']).set_index('Country')['Name']),\n",
    "        'map.continent': dict(df.set_index('Name')['Continent'])\n",
    "    }"
   ]
  },
  {
   "cell_type": "code",
   "execution_count": 5,
   "id": "intimate-machinery",
   "metadata": {
    "execution": {
     "iopub.execute_input": "2021-09-09T12:10:56.282777Z",
     "iopub.status.busy": "2021-09-09T12:10:56.282261Z",
     "iopub.status.idle": "2021-09-09T12:10:56.342568Z",
     "shell.execute_reply": "2021-09-09T12:10:56.343036Z"
    },
    "papermill": {
     "duration": 0.09566,
     "end_time": "2021-09-09T12:10:56.343194",
     "exception": false,
     "start_time": "2021-09-09T12:10:56.247534",
     "status": "completed"
    },
    "tags": []
   },
   "outputs": [],
   "source": [
    "#hide\n",
    "mapping = get_mappings(paths['mapping'])"
   ]
  },
  {
   "cell_type": "code",
   "execution_count": 6,
   "id": "certified-tactics",
   "metadata": {
    "execution": {
     "iopub.execute_input": "2021-09-09T12:10:56.410088Z",
     "iopub.status.busy": "2021-09-09T12:10:56.409575Z",
     "iopub.status.idle": "2021-09-09T12:10:56.411255Z",
     "shell.execute_reply": "2021-09-09T12:10:56.411675Z"
    },
    "papermill": {
     "duration": 0.037743,
     "end_time": "2021-09-09T12:10:56.411805",
     "exception": false,
     "start_time": "2021-09-09T12:10:56.374062",
     "status": "completed"
    },
    "tags": []
   },
   "outputs": [],
   "source": [
    "#hide\n",
    "def get_template(path):\n",
    "    from urllib.parse import urlparse\n",
    "    if bool(urlparse(path).netloc):\n",
    "        from urllib.request import urlopen\n",
    "        return urlopen(path).read().decode('utf8')\n",
    "    return open(path).read()"
   ]
  },
  {
   "cell_type": "code",
   "execution_count": 7,
   "id": "realistic-blast",
   "metadata": {
    "execution": {
     "iopub.execute_input": "2021-09-09T12:10:56.476580Z",
     "iopub.status.busy": "2021-09-09T12:10:56.476075Z",
     "iopub.status.idle": "2021-09-09T12:10:56.477941Z",
     "shell.execute_reply": "2021-09-09T12:10:56.478319Z"
    },
    "papermill": {
     "duration": 0.036731,
     "end_time": "2021-09-09T12:10:56.478439",
     "exception": false,
     "start_time": "2021-09-09T12:10:56.441708",
     "status": "completed"
    },
    "tags": []
   },
   "outputs": [],
   "source": [
    "#hide\n",
    "def get_frame(name):\n",
    "    url = (\n",
    "        'https://raw.githubusercontent.com/CSSEGISandData/COVID-19/master/csse_covid_19_data/'\n",
    "        f'csse_covid_19_time_series/time_series_covid19_{name}_global.csv')\n",
    "    df = pd.read_csv(url)\n",
    "    # rename countries\n",
    "    df['Country/Region'] = df['Country/Region'].replace(mapping['replace.country'])\n",
    "    return df"
   ]
  },
  {
   "cell_type": "code",
   "execution_count": 8,
   "id": "affiliated-characterization",
   "metadata": {
    "execution": {
     "iopub.execute_input": "2021-09-09T12:10:56.536892Z",
     "iopub.status.busy": "2021-09-09T12:10:56.536441Z",
     "iopub.status.idle": "2021-09-09T12:10:56.538471Z",
     "shell.execute_reply": "2021-09-09T12:10:56.538884Z"
    },
    "papermill": {
     "duration": 0.034069,
     "end_time": "2021-09-09T12:10:56.538997",
     "exception": false,
     "start_time": "2021-09-09T12:10:56.504928",
     "status": "completed"
    },
    "tags": []
   },
   "outputs": [],
   "source": [
    "#hide\n",
    "def get_dates(df):\n",
    "    dt_cols = df.columns[~df.columns.isin(['Province/State', 'Country/Region', 'Lat', 'Long'])]\n",
    "    LAST_DATE_I = -1\n",
    "    # sometimes last column may be empty, then go backwards\n",
    "    for i in range(-1, -len(dt_cols), -1):\n",
    "        if not df[dt_cols[i]].fillna(0).eq(0).all():\n",
    "            LAST_DATE_I = i\n",
    "            break\n",
    "    return LAST_DATE_I, dt_cols"
   ]
  },
  {
   "cell_type": "code",
   "execution_count": 9,
   "id": "recent-optimization",
   "metadata": {
    "execution": {
     "iopub.execute_input": "2021-09-09T12:10:56.596656Z",
     "iopub.status.busy": "2021-09-09T12:10:56.596155Z",
     "iopub.status.idle": "2021-09-09T12:10:56.991037Z",
     "shell.execute_reply": "2021-09-09T12:10:56.990072Z"
    },
    "papermill": {
     "duration": 0.426001,
     "end_time": "2021-09-09T12:10:56.991185",
     "exception": false,
     "start_time": "2021-09-09T12:10:56.565184",
     "status": "completed"
    },
    "tags": []
   },
   "outputs": [],
   "source": [
    "#hide\n",
    "COL_REGION = 'Country/Region'\n",
    "# Confirmed, Recovered, Deaths\n",
    "df = get_frame('confirmed')\n",
    "# dft_: timeseries, dfc_: today country agg\n",
    "dft_cases = df\n",
    "dft_deaths = get_frame('deaths')\n",
    "dft_recovered = get_frame('recovered')\n",
    "LAST_DATE_I, dt_cols = get_dates(df)"
   ]
  },
  {
   "cell_type": "code",
   "execution_count": 10,
   "id": "absolute-copper",
   "metadata": {
    "execution": {
     "iopub.execute_input": "2021-09-09T12:10:57.058837Z",
     "iopub.status.busy": "2021-09-09T12:10:57.058226Z",
     "iopub.status.idle": "2021-09-09T12:10:57.059670Z",
     "shell.execute_reply": "2021-09-09T12:10:57.060027Z"
    },
    "papermill": {
     "duration": 0.037618,
     "end_time": "2021-09-09T12:10:57.060172",
     "exception": false,
     "start_time": "2021-09-09T12:10:57.022554",
     "status": "completed"
    },
    "tags": []
   },
   "outputs": [],
   "source": [
    "#hide\n",
    "LAST_DATE_I, dt_cols = get_dates(df)\n",
    "dt_today =dt_cols[LAST_DATE_I]\n",
    "# dt_5day = dt_cols[LAST_DATE_I - 5]\n",
    "dt_yday = dt_cols[LAST_DATE_I - 1]"
   ]
  },
  {
   "cell_type": "code",
   "execution_count": 11,
   "id": "restricted-sheriff",
   "metadata": {
    "execution": {
     "iopub.execute_input": "2021-09-09T12:10:57.120186Z",
     "iopub.status.busy": "2021-09-09T12:10:57.119709Z",
     "iopub.status.idle": "2021-09-09T12:10:57.125557Z",
     "shell.execute_reply": "2021-09-09T12:10:57.125174Z"
    },
    "papermill": {
     "duration": 0.039135,
     "end_time": "2021-09-09T12:10:57.125659",
     "exception": false,
     "start_time": "2021-09-09T12:10:57.086524",
     "status": "completed"
    },
    "tags": []
   },
   "outputs": [],
   "source": [
    "#hide\n",
    "dfc_cases = dft_cases.groupby(COL_REGION)[dt_today].sum()\n",
    "dfc_deaths = dft_deaths.groupby(COL_REGION)[dt_today].sum()\n",
    "# dfp_cases = dft_cases.groupby(COL_REGION)[dt_5day].sum()\n",
    "# dfp_deaths = dft_deaths.groupby(COL_REGION)[dt_5day].sum()\n",
    "dfp_cases = dft_cases.groupby(COL_REGION)[dt_yday].sum()\n",
    "dfp_deaths = dft_deaths.groupby(COL_REGION)[dt_yday].sum()"
   ]
  },
  {
   "cell_type": "code",
   "execution_count": 12,
   "id": "deluxe-hepatitis",
   "metadata": {
    "execution": {
     "iopub.execute_input": "2021-09-09T12:10:57.184783Z",
     "iopub.status.busy": "2021-09-09T12:10:57.184322Z",
     "iopub.status.idle": "2021-09-09T12:10:57.188276Z",
     "shell.execute_reply": "2021-09-09T12:10:57.188704Z"
    },
    "papermill": {
     "duration": 0.036615,
     "end_time": "2021-09-09T12:10:57.188824",
     "exception": false,
     "start_time": "2021-09-09T12:10:57.152209",
     "status": "completed"
    },
    "tags": []
   },
   "outputs": [],
   "source": [
    "#hide\n",
    "df_table = (pd.DataFrame(dict(Cases = dfc_cases, Deaths = dfc_deaths, PCases = dfp_cases, PDeaths = dfp_deaths))\n",
    "            .sort_values(by = ['Cases','Deaths'], ascending = [False, False])\n",
    "            .reset_index())"
   ]
  },
  {
   "cell_type": "code",
   "execution_count": 13,
   "id": "educational-chancellor",
   "metadata": {
    "execution": {
     "iopub.execute_input": "2021-09-09T12:10:57.257453Z",
     "iopub.status.busy": "2021-09-09T12:10:57.256990Z",
     "iopub.status.idle": "2021-09-09T12:10:57.264851Z",
     "shell.execute_reply": "2021-09-09T12:10:57.264485Z"
    },
    "papermill": {
     "duration": 0.049741,
     "end_time": "2021-09-09T12:10:57.264954",
     "exception": false,
     "start_time": "2021-09-09T12:10:57.215213",
     "status": "completed"
    },
    "tags": []
   },
   "outputs": [
    {
     "data": {
      "text/html": [
       "<div>\n",
       "<style scoped>\n",
       "    .dataframe tbody tr th:only-of-type {\n",
       "        vertical-align: middle;\n",
       "    }\n",
       "\n",
       "    .dataframe tbody tr th {\n",
       "        vertical-align: top;\n",
       "    }\n",
       "\n",
       "    .dataframe thead th {\n",
       "        text-align: right;\n",
       "    }\n",
       "</style>\n",
       "<table border=\"1\" class=\"dataframe\">\n",
       "  <thead>\n",
       "    <tr style=\"text-align: right;\">\n",
       "      <th></th>\n",
       "      <th>Country/Region</th>\n",
       "      <th>Cases</th>\n",
       "      <th>Deaths</th>\n",
       "      <th>PCases</th>\n",
       "      <th>PDeaths</th>\n",
       "      <th>Cases (+)</th>\n",
       "      <th>Deaths (+)</th>\n",
       "      <th>Fatality Rate</th>\n",
       "      <th>Continent</th>\n",
       "    </tr>\n",
       "  </thead>\n",
       "  <tbody>\n",
       "    <tr>\n",
       "      <th>0</th>\n",
       "      <td>US</td>\n",
       "      <td>40456711</td>\n",
       "      <td>652657</td>\n",
       "      <td>40280001</td>\n",
       "      <td>650511</td>\n",
       "      <td>176710</td>\n",
       "      <td>2146</td>\n",
       "      <td>1.61</td>\n",
       "      <td>North America</td>\n",
       "    </tr>\n",
       "    <tr>\n",
       "      <th>1</th>\n",
       "      <td>India</td>\n",
       "      <td>33139981</td>\n",
       "      <td>441749</td>\n",
       "      <td>33096718</td>\n",
       "      <td>441411</td>\n",
       "      <td>43263</td>\n",
       "      <td>338</td>\n",
       "      <td>1.33</td>\n",
       "      <td>Asia</td>\n",
       "    </tr>\n",
       "    <tr>\n",
       "      <th>2</th>\n",
       "      <td>Brazil</td>\n",
       "      <td>20928008</td>\n",
       "      <td>584421</td>\n",
       "      <td>20914237</td>\n",
       "      <td>584108</td>\n",
       "      <td>13771</td>\n",
       "      <td>313</td>\n",
       "      <td>2.79</td>\n",
       "      <td>South America</td>\n",
       "    </tr>\n",
       "    <tr>\n",
       "      <th>3</th>\n",
       "      <td>United Kingdom</td>\n",
       "      <td>7127630</td>\n",
       "      <td>133999</td>\n",
       "      <td>7089051</td>\n",
       "      <td>133808</td>\n",
       "      <td>38579</td>\n",
       "      <td>191</td>\n",
       "      <td>1.88</td>\n",
       "      <td>Europe</td>\n",
       "    </tr>\n",
       "    <tr>\n",
       "      <th>4</th>\n",
       "      <td>Russia</td>\n",
       "      <td>6964595</td>\n",
       "      <td>186224</td>\n",
       "      <td>6946922</td>\n",
       "      <td>185447</td>\n",
       "      <td>17673</td>\n",
       "      <td>777</td>\n",
       "      <td>2.67</td>\n",
       "      <td>Europe</td>\n",
       "    </tr>\n",
       "  </tbody>\n",
       "</table>\n",
       "</div>"
      ],
      "text/plain": [
       "   Country/Region     Cases  Deaths    PCases  PDeaths  Cases (+)  Deaths (+)  \\\n",
       "0              US  40456711  652657  40280001   650511     176710        2146   \n",
       "1           India  33139981  441749  33096718   441411      43263         338   \n",
       "2          Brazil  20928008  584421  20914237   584108      13771         313   \n",
       "3  United Kingdom   7127630  133999   7089051   133808      38579         191   \n",
       "4          Russia   6964595  186224   6946922   185447      17673         777   \n",
       "\n",
       "   Fatality Rate      Continent  \n",
       "0           1.61  North America  \n",
       "1           1.33           Asia  \n",
       "2           2.79  South America  \n",
       "3           1.88         Europe  \n",
       "4           2.67         Europe  "
      ]
     },
     "execution_count": 13,
     "metadata": {},
     "output_type": "execute_result"
    }
   ],
   "source": [
    "#hide\n",
    "for c in 'Cases, Deaths'.split(', '):\n",
    "    df_table[f'{c} (+)'] = (df_table[c] - df_table[f'P{c}']).clip(0)\n",
    "    #Clip ça veut dire, les chiffres negatif sont interdit\n",
    "df_table['Fatality Rate'] = (100* df_table['Deaths']/ df_table['Cases']).round(2)\n",
    "df_table['Continent'] = df_table['Country/Region'].map(mapping['map.continent'])\n",
    "df_table.head(5)"
   ]
  },
  {
   "cell_type": "code",
   "execution_count": 14,
   "id": "aboriginal-bulgaria",
   "metadata": {
    "execution": {
     "iopub.execute_input": "2021-09-09T12:10:57.324690Z",
     "iopub.status.busy": "2021-09-09T12:10:57.324222Z",
     "iopub.status.idle": "2021-09-09T12:10:57.326679Z",
     "shell.execute_reply": "2021-09-09T12:10:57.327094Z"
    },
    "papermill": {
     "duration": 0.034728,
     "end_time": "2021-09-09T12:10:57.327210",
     "exception": false,
     "start_time": "2021-09-09T12:10:57.292482",
     "status": "completed"
    },
    "tags": []
   },
   "outputs": [],
   "source": [
    "#hide\n",
    "#delete problematic countries from table\n",
    "df_table = df_table[~df_table['Country/Region'].isin(['Cape Verde', 'Cruise Ship', 'Kosovo'])]"
   ]
  },
  {
   "cell_type": "code",
   "execution_count": 15,
   "id": "fantastic-effect",
   "metadata": {
    "execution": {
     "iopub.execute_input": "2021-09-09T12:10:57.387991Z",
     "iopub.status.busy": "2021-09-09T12:10:57.387542Z",
     "iopub.status.idle": "2021-09-09T12:10:57.404504Z",
     "shell.execute_reply": "2021-09-09T12:10:57.404127Z"
    },
    "papermill": {
     "duration": 0.050658,
     "end_time": "2021-09-09T12:10:57.404612",
     "exception": false,
     "start_time": "2021-09-09T12:10:57.353954",
     "status": "completed"
    },
    "tags": []
   },
   "outputs": [
    {
     "data": {
      "text/html": [
       "<div>\n",
       "<style scoped>\n",
       "    .dataframe tbody tr th:only-of-type {\n",
       "        vertical-align: middle;\n",
       "    }\n",
       "\n",
       "    .dataframe tbody tr th {\n",
       "        vertical-align: top;\n",
       "    }\n",
       "\n",
       "    .dataframe thead th {\n",
       "        text-align: right;\n",
       "    }\n",
       "</style>\n",
       "<table border=\"1\" class=\"dataframe\">\n",
       "  <thead>\n",
       "    <tr style=\"text-align: right;\">\n",
       "      <th></th>\n",
       "      <th>Country/Region</th>\n",
       "      <th>Cases</th>\n",
       "      <th>Deaths</th>\n",
       "      <th>PCases</th>\n",
       "      <th>PDeaths</th>\n",
       "      <th>Cases (+)</th>\n",
       "      <th>Deaths (+)</th>\n",
       "      <th>Fatality Rate</th>\n",
       "      <th>Continent</th>\n",
       "    </tr>\n",
       "  </thead>\n",
       "  <tbody>\n",
       "    <tr>\n",
       "      <th>0</th>\n",
       "      <td>US</td>\n",
       "      <td>40456711</td>\n",
       "      <td>652657</td>\n",
       "      <td>40280001</td>\n",
       "      <td>650511</td>\n",
       "      <td>176710</td>\n",
       "      <td>2146</td>\n",
       "      <td>1.6</td>\n",
       "      <td>North America</td>\n",
       "    </tr>\n",
       "    <tr>\n",
       "      <th>1</th>\n",
       "      <td>India</td>\n",
       "      <td>33139981</td>\n",
       "      <td>441749</td>\n",
       "      <td>33096718</td>\n",
       "      <td>441411</td>\n",
       "      <td>43263</td>\n",
       "      <td>338</td>\n",
       "      <td>1.3</td>\n",
       "      <td>Asia</td>\n",
       "    </tr>\n",
       "    <tr>\n",
       "      <th>2</th>\n",
       "      <td>Brazil</td>\n",
       "      <td>20928008</td>\n",
       "      <td>584421</td>\n",
       "      <td>20914237</td>\n",
       "      <td>584108</td>\n",
       "      <td>13771</td>\n",
       "      <td>313</td>\n",
       "      <td>2.8</td>\n",
       "      <td>South America</td>\n",
       "    </tr>\n",
       "    <tr>\n",
       "      <th>3</th>\n",
       "      <td>United Kingdom</td>\n",
       "      <td>7127630</td>\n",
       "      <td>133999</td>\n",
       "      <td>7089051</td>\n",
       "      <td>133808</td>\n",
       "      <td>38579</td>\n",
       "      <td>191</td>\n",
       "      <td>1.9</td>\n",
       "      <td>Europe</td>\n",
       "    </tr>\n",
       "    <tr>\n",
       "      <th>4</th>\n",
       "      <td>Russia</td>\n",
       "      <td>6964595</td>\n",
       "      <td>186224</td>\n",
       "      <td>6946922</td>\n",
       "      <td>185447</td>\n",
       "      <td>17673</td>\n",
       "      <td>777</td>\n",
       "      <td>2.7</td>\n",
       "      <td>Europe</td>\n",
       "    </tr>\n",
       "  </tbody>\n",
       "</table>\n",
       "</div>"
      ],
      "text/plain": [
       "   Country/Region     Cases  Deaths    PCases  PDeaths  Cases (+)  Deaths (+)  \\\n",
       "0              US  40456711  652657  40280001   650511     176710        2146   \n",
       "1           India  33139981  441749  33096718   441411      43263         338   \n",
       "2          Brazil  20928008  584421  20914237   584108      13771         313   \n",
       "3  United Kingdom   7127630  133999   7089051   133808      38579         191   \n",
       "4          Russia   6964595  186224   6946922   185447      17673         777   \n",
       "\n",
       "   Fatality Rate      Continent  \n",
       "0            1.6  North America  \n",
       "1            1.3           Asia  \n",
       "2            2.8  South America  \n",
       "3            1.9         Europe  \n",
       "4            2.7         Europe  "
      ]
     },
     "execution_count": 15,
     "metadata": {},
     "output_type": "execute_result"
    }
   ],
   "source": [
    "#hide\n",
    "df_table = (pd.DataFrame(dict(Cases=dfc_cases, Deaths=dfc_deaths, PCases=dfp_cases, PDeaths=dfp_deaths))\n",
    "             .sort_values(by=['Cases', 'Deaths'], ascending=[False, False])\n",
    "             .reset_index())\n",
    "df_table.rename(columns={'index': 'Country/Region'}, inplace=True)\n",
    "for c in 'Cases, Deaths'.split(', '):\n",
    "    df_table[f'{c} (+)'] = (df_table[c] - df_table[f'P{c}']).clip(0)  # DATA BUG\n",
    "df_table['Fatality Rate'] = (100 * df_table['Deaths'] / df_table['Cases']).round(1)\n",
    "df_table['Continent'] = df_table['Country/Region'].map(mapping['map.continent'])\n",
    "df_table.head(5)"
   ]
  },
  {
   "cell_type": "code",
   "execution_count": 16,
   "id": "fewer-occasion",
   "metadata": {
    "execution": {
     "iopub.execute_input": "2021-09-09T12:10:57.464913Z",
     "iopub.status.busy": "2021-09-09T12:10:57.464461Z",
     "iopub.status.idle": "2021-09-09T12:10:57.466900Z",
     "shell.execute_reply": "2021-09-09T12:10:57.466543Z"
    },
    "papermill": {
     "duration": 0.034928,
     "end_time": "2021-09-09T12:10:57.466999",
     "exception": false,
     "start_time": "2021-09-09T12:10:57.432071",
     "status": "completed"
    },
    "tags": []
   },
   "outputs": [],
   "source": [
    "#hide\n",
    "#delete problematic countries from table\n",
    "df_table = df_table[~df_table['Country/Region'].isin(['Cape Verde', 'Cruise Ship', 'Kosovo'])]"
   ]
  },
  {
   "cell_type": "code",
   "execution_count": 17,
   "id": "related-center",
   "metadata": {
    "execution": {
     "iopub.execute_input": "2021-09-09T12:10:57.539240Z",
     "iopub.status.busy": "2021-09-09T12:10:57.538781Z",
     "iopub.status.idle": "2021-09-09T12:10:57.541091Z",
     "shell.execute_reply": "2021-09-09T12:10:57.540728Z"
    },
    "papermill": {
     "duration": 0.047079,
     "end_time": "2021-09-09T12:10:57.541193",
     "exception": false,
     "start_time": "2021-09-09T12:10:57.494114",
     "status": "completed"
    },
    "tags": []
   },
   "outputs": [],
   "source": [
    "#hide\n",
    "metrics = [df_table.columns[index] for index in [1,2,5,6]]\n",
    "# s_china = df_table[df_table['Country/Region'].eq('China')][metrics].sum().add_prefix('China ')\n",
    "s_us = df_table[df_table['Country/Region'].eq('US')][metrics].sum().add_prefix('US ')\n",
    "s_eu = df_table[df_table['Continent'].eq('Europe')][metrics].sum().add_prefix('EU ')\n",
    "s_ind = df_table[df_table['Country/Region'].eq('India')][metrics].sum().add_prefix('India ')\n",
    "summary = {'updated': pd.to_datetime(dt_today), 'since': pd.to_datetime(dt_yday)}\n",
    "summary = {'updated': pd.to_datetime(dt_today), 'since': pd.to_datetime(dt_yday)}\n",
    "summary = {**summary, **df_table[metrics].sum(), **s_ind, **s_us, **s_eu}"
   ]
  },
  {
   "cell_type": "code",
   "execution_count": 18,
   "id": "engaging-syndrome",
   "metadata": {
    "execution": {
     "iopub.execute_input": "2021-09-09T12:10:57.600855Z",
     "iopub.status.busy": "2021-09-09T12:10:57.600401Z",
     "iopub.status.idle": "2021-09-09T12:10:57.614349Z",
     "shell.execute_reply": "2021-09-09T12:10:57.613955Z"
    },
    "papermill": {
     "duration": 0.045879,
     "end_time": "2021-09-09T12:10:57.614453",
     "exception": false,
     "start_time": "2021-09-09T12:10:57.568574",
     "status": "completed"
    },
    "tags": []
   },
   "outputs": [],
   "source": [
    "#hide\n",
    "dft_ct_new_cases = dft_cases.groupby(COL_REGION)[dt_cols].sum().diff(axis=1).fillna(0).astype(int)"
   ]
  },
  {
   "cell_type": "code",
   "execution_count": 19,
   "id": "neutral-assignment",
   "metadata": {
    "execution": {
     "iopub.execute_input": "2021-09-09T12:10:57.675651Z",
     "iopub.status.busy": "2021-09-09T12:10:57.675190Z",
     "iopub.status.idle": "2021-09-09T12:10:57.677315Z",
     "shell.execute_reply": "2021-09-09T12:10:57.676950Z"
    },
    "papermill": {
     "duration": 0.035598,
     "end_time": "2021-09-09T12:10:57.677420",
     "exception": false,
     "start_time": "2021-09-09T12:10:57.641822",
     "status": "completed"
    },
    "tags": []
   },
   "outputs": [],
   "source": [
    "#hide\n",
    "everydaycases = dft_ct_new_cases.cumsum(axis=1)"
   ]
  },
  {
   "cell_type": "code",
   "execution_count": 20,
   "id": "parliamentary-calgary",
   "metadata": {
    "execution": {
     "iopub.execute_input": "2021-09-09T12:10:57.736967Z",
     "iopub.status.busy": "2021-09-09T12:10:57.736484Z",
     "iopub.status.idle": "2021-09-09T12:10:58.257732Z",
     "shell.execute_reply": "2021-09-09T12:10:58.257305Z"
    },
    "papermill": {
     "duration": 0.552922,
     "end_time": "2021-09-09T12:10:58.257850",
     "exception": false,
     "start_time": "2021-09-09T12:10:57.704928",
     "status": "completed"
    },
    "tags": []
   },
   "outputs": [],
   "source": [
    "#hide\n",
    "import pandas as pd\n",
    "import matplotlib.pyplot as plt\n",
    "import matplotlib.ticker as ticker\n",
    "import matplotlib.animation as animation\n",
    "from IPython.display import HTML"
   ]
  },
  {
   "cell_type": "code",
   "execution_count": 21,
   "id": "lasting-extraction",
   "metadata": {
    "execution": {
     "iopub.execute_input": "2021-09-09T12:10:58.318308Z",
     "iopub.status.busy": "2021-09-09T12:10:58.317851Z",
     "iopub.status.idle": "2021-09-09T12:10:58.323445Z",
     "shell.execute_reply": "2021-09-09T12:10:58.323872Z"
    },
    "papermill": {
     "duration": 0.038656,
     "end_time": "2021-09-09T12:10:58.323997",
     "exception": false,
     "start_time": "2021-09-09T12:10:58.285341",
     "status": "completed"
    },
    "tags": []
   },
   "outputs": [],
   "source": [
    "#hide\n",
    "t = everydaycases.stack()"
   ]
  },
  {
   "cell_type": "code",
   "execution_count": 22,
   "id": "premier-sleeve",
   "metadata": {
    "execution": {
     "iopub.execute_input": "2021-09-09T12:10:58.384187Z",
     "iopub.status.busy": "2021-09-09T12:10:58.383246Z",
     "iopub.status.idle": "2021-09-09T12:10:58.393868Z",
     "shell.execute_reply": "2021-09-09T12:10:58.394299Z"
    },
    "papermill": {
     "duration": 0.042794,
     "end_time": "2021-09-09T12:10:58.394426",
     "exception": false,
     "start_time": "2021-09-09T12:10:58.351632",
     "status": "completed"
    },
    "tags": []
   },
   "outputs": [],
   "source": [
    "#hide\n",
    "g = t.reset_index(['Country/Region'])"
   ]
  },
  {
   "cell_type": "code",
   "execution_count": 23,
   "id": "distributed-pittsburgh",
   "metadata": {
    "execution": {
     "iopub.execute_input": "2021-09-09T12:10:58.453117Z",
     "iopub.status.busy": "2021-09-09T12:10:58.452671Z",
     "iopub.status.idle": "2021-09-09T12:10:58.454861Z",
     "shell.execute_reply": "2021-09-09T12:10:58.455282Z"
    },
    "papermill": {
     "duration": 0.033596,
     "end_time": "2021-09-09T12:10:58.455396",
     "exception": false,
     "start_time": "2021-09-09T12:10:58.421800",
     "status": "completed"
    },
    "tags": []
   },
   "outputs": [],
   "source": [
    "#hide\n",
    "g.index.name = 'date'"
   ]
  },
  {
   "cell_type": "code",
   "execution_count": 24,
   "id": "naked-donor",
   "metadata": {
    "execution": {
     "iopub.execute_input": "2021-09-09T12:10:58.514020Z",
     "iopub.status.busy": "2021-09-09T12:10:58.513560Z",
     "iopub.status.idle": "2021-09-09T12:10:58.515457Z",
     "shell.execute_reply": "2021-09-09T12:10:58.515814Z"
    },
    "papermill": {
     "duration": 0.033065,
     "end_time": "2021-09-09T12:10:58.515935",
     "exception": false,
     "start_time": "2021-09-09T12:10:58.482870",
     "status": "completed"
    },
    "tags": []
   },
   "outputs": [],
   "source": [
    "# #hide\n",
    "# g = g.reset_index(['date'])"
   ]
  },
  {
   "cell_type": "code",
   "execution_count": 25,
   "id": "incomplete-mustang",
   "metadata": {
    "execution": {
     "iopub.execute_input": "2021-09-09T12:10:58.574067Z",
     "iopub.status.busy": "2021-09-09T12:10:58.573620Z",
     "iopub.status.idle": "2021-09-09T12:10:58.575398Z",
     "shell.execute_reply": "2021-09-09T12:10:58.575748Z"
    },
    "papermill": {
     "duration": 0.032669,
     "end_time": "2021-09-09T12:10:58.575858",
     "exception": false,
     "start_time": "2021-09-09T12:10:58.543189",
     "status": "completed"
    },
    "tags": []
   },
   "outputs": [],
   "source": [
    "#hide\n",
    "# g.head()"
   ]
  },
  {
   "cell_type": "code",
   "execution_count": 26,
   "id": "specific-kruger",
   "metadata": {
    "execution": {
     "iopub.execute_input": "2021-09-09T12:10:58.634188Z",
     "iopub.status.busy": "2021-09-09T12:10:58.633728Z",
     "iopub.status.idle": "2021-09-09T12:10:58.635481Z",
     "shell.execute_reply": "2021-09-09T12:10:58.635902Z"
    },
    "papermill": {
     "duration": 0.032819,
     "end_time": "2021-09-09T12:10:58.636021",
     "exception": false,
     "start_time": "2021-09-09T12:10:58.603202",
     "status": "completed"
    },
    "tags": []
   },
   "outputs": [],
   "source": [
    "#hide\n",
    "# g.columns = ['date','country','cases']"
   ]
  },
  {
   "cell_type": "code",
   "execution_count": 27,
   "id": "tender-conversion",
   "metadata": {
    "execution": {
     "iopub.execute_input": "2021-09-09T12:10:58.694337Z",
     "iopub.status.busy": "2021-09-09T12:10:58.693887Z",
     "iopub.status.idle": "2021-09-09T12:10:58.695829Z",
     "shell.execute_reply": "2021-09-09T12:10:58.695449Z"
    },
    "papermill": {
     "duration": 0.032548,
     "end_time": "2021-09-09T12:10:58.695929",
     "exception": false,
     "start_time": "2021-09-09T12:10:58.663381",
     "status": "completed"
    },
    "tags": []
   },
   "outputs": [],
   "source": [
    "#hide\n",
    "# g['continent'] = g.country"
   ]
  },
  {
   "cell_type": "code",
   "execution_count": 28,
   "id": "substantial-wilderness",
   "metadata": {
    "execution": {
     "iopub.execute_input": "2021-09-09T12:10:58.754505Z",
     "iopub.status.busy": "2021-09-09T12:10:58.754062Z",
     "iopub.status.idle": "2021-09-09T12:10:58.755835Z",
     "shell.execute_reply": "2021-09-09T12:10:58.756206Z"
    },
    "papermill": {
     "duration": 0.032914,
     "end_time": "2021-09-09T12:10:58.756324",
     "exception": false,
     "start_time": "2021-09-09T12:10:58.723410",
     "status": "completed"
    },
    "tags": []
   },
   "outputs": [],
   "source": [
    "#hide\n",
    "# cols = list(g.columns.values)"
   ]
  },
  {
   "cell_type": "code",
   "execution_count": 29,
   "id": "solved-farming",
   "metadata": {
    "execution": {
     "iopub.execute_input": "2021-09-09T12:10:58.814452Z",
     "iopub.status.busy": "2021-09-09T12:10:58.814001Z",
     "iopub.status.idle": "2021-09-09T12:10:58.816048Z",
     "shell.execute_reply": "2021-09-09T12:10:58.815671Z"
    },
    "papermill": {
     "duration": 0.032718,
     "end_time": "2021-09-09T12:10:58.816174",
     "exception": false,
     "start_time": "2021-09-09T12:10:58.783456",
     "status": "completed"
    },
    "tags": []
   },
   "outputs": [],
   "source": [
    "#hide\n",
    "# cols.insert(0, cols.pop())"
   ]
  },
  {
   "cell_type": "code",
   "execution_count": 30,
   "id": "executed-adoption",
   "metadata": {
    "execution": {
     "iopub.execute_input": "2021-09-09T12:10:58.874453Z",
     "iopub.status.busy": "2021-09-09T12:10:58.873996Z",
     "iopub.status.idle": "2021-09-09T12:10:58.876055Z",
     "shell.execute_reply": "2021-09-09T12:10:58.875700Z"
    },
    "papermill": {
     "duration": 0.032577,
     "end_time": "2021-09-09T12:10:58.876171",
     "exception": false,
     "start_time": "2021-09-09T12:10:58.843594",
     "status": "completed"
    },
    "tags": []
   },
   "outputs": [],
   "source": [
    "#hide\n",
    "# g = g[cols]"
   ]
  },
  {
   "cell_type": "code",
   "execution_count": 31,
   "id": "subject-dublin",
   "metadata": {
    "execution": {
     "iopub.execute_input": "2021-09-09T12:10:58.934156Z",
     "iopub.status.busy": "2021-09-09T12:10:58.933680Z",
     "iopub.status.idle": "2021-09-09T12:10:58.935812Z",
     "shell.execute_reply": "2021-09-09T12:10:58.935455Z"
    },
    "papermill": {
     "duration": 0.032455,
     "end_time": "2021-09-09T12:10:58.935911",
     "exception": false,
     "start_time": "2021-09-09T12:10:58.903456",
     "status": "completed"
    },
    "tags": []
   },
   "outputs": [],
   "source": [
    "#hide\n",
    "# g['continent'] = g['continent'].map(mapping['map.continent'])"
   ]
  },
  {
   "cell_type": "code",
   "execution_count": 32,
   "id": "freelance-scout",
   "metadata": {
    "execution": {
     "iopub.execute_input": "2021-09-09T12:10:58.993849Z",
     "iopub.status.busy": "2021-09-09T12:10:58.993345Z",
     "iopub.status.idle": "2021-09-09T12:10:58.995917Z",
     "shell.execute_reply": "2021-09-09T12:10:58.996353Z"
    },
    "papermill": {
     "duration": 0.033109,
     "end_time": "2021-09-09T12:10:58.996485",
     "exception": false,
     "start_time": "2021-09-09T12:10:58.963376",
     "status": "completed"
    },
    "tags": []
   },
   "outputs": [],
   "source": [
    "#hide\n",
    "# g.head()"
   ]
  },
  {
   "cell_type": "code",
   "execution_count": 33,
   "id": "limited-engine",
   "metadata": {
    "execution": {
     "iopub.execute_input": "2021-09-09T12:10:59.054767Z",
     "iopub.status.busy": "2021-09-09T12:10:59.054309Z",
     "iopub.status.idle": "2021-09-09T12:10:59.056471Z",
     "shell.execute_reply": "2021-09-09T12:10:59.056105Z"
    },
    "papermill": {
     "duration": 0.032678,
     "end_time": "2021-09-09T12:10:59.056574",
     "exception": false,
     "start_time": "2021-09-09T12:10:59.023896",
     "status": "completed"
    },
    "tags": []
   },
   "outputs": [],
   "source": [
    "# hide\n",
    "# g['date'] = g['date'].astype('datetime64[ns]')"
   ]
  },
  {
   "cell_type": "code",
   "execution_count": 34,
   "id": "sophisticated-supervisor",
   "metadata": {
    "execution": {
     "iopub.execute_input": "2021-09-09T12:10:59.115140Z",
     "iopub.status.busy": "2021-09-09T12:10:59.114694Z",
     "iopub.status.idle": "2021-09-09T12:10:59.116329Z",
     "shell.execute_reply": "2021-09-09T12:10:59.116685Z"
    },
    "papermill": {
     "duration": 0.032489,
     "end_time": "2021-09-09T12:10:59.116799",
     "exception": false,
     "start_time": "2021-09-09T12:10:59.084310",
     "status": "completed"
    },
    "tags": []
   },
   "outputs": [],
   "source": [
    "#hide\n",
    "# g['date'] = g.date.dt.dayofyear"
   ]
  },
  {
   "cell_type": "code",
   "execution_count": 35,
   "id": "inside-dubai",
   "metadata": {
    "execution": {
     "iopub.execute_input": "2021-09-09T12:10:59.174857Z",
     "iopub.status.busy": "2021-09-09T12:10:59.174392Z",
     "iopub.status.idle": "2021-09-09T12:10:59.176193Z",
     "shell.execute_reply": "2021-09-09T12:10:59.176611Z"
    },
    "papermill": {
     "duration": 0.032813,
     "end_time": "2021-09-09T12:10:59.176732",
     "exception": false,
     "start_time": "2021-09-09T12:10:59.143919",
     "status": "completed"
    },
    "tags": []
   },
   "outputs": [],
   "source": [
    "#hide\n",
    "# g = g.rename(columns= {'continent':'group','country':'name','cases':'value'})"
   ]
  },
  {
   "cell_type": "code",
   "execution_count": 36,
   "id": "fleet-motorcycle",
   "metadata": {
    "execution": {
     "iopub.execute_input": "2021-09-09T12:10:59.234960Z",
     "iopub.status.busy": "2021-09-09T12:10:59.234500Z",
     "iopub.status.idle": "2021-09-09T12:10:59.236113Z",
     "shell.execute_reply": "2021-09-09T12:10:59.236453Z"
    },
    "papermill": {
     "duration": 0.032461,
     "end_time": "2021-09-09T12:10:59.236571",
     "exception": false,
     "start_time": "2021-09-09T12:10:59.204110",
     "status": "completed"
    },
    "tags": []
   },
   "outputs": [],
   "source": [
    "#hide\n",
    "# cols = ['name','group','day','value']"
   ]
  },
  {
   "cell_type": "code",
   "execution_count": 37,
   "id": "continued-sleeping",
   "metadata": {
    "execution": {
     "iopub.execute_input": "2021-09-09T12:10:59.294569Z",
     "iopub.status.busy": "2021-09-09T12:10:59.294117Z",
     "iopub.status.idle": "2021-09-09T12:10:59.296070Z",
     "shell.execute_reply": "2021-09-09T12:10:59.295711Z"
    },
    "papermill": {
     "duration": 0.032454,
     "end_time": "2021-09-09T12:10:59.296195",
     "exception": false,
     "start_time": "2021-09-09T12:10:59.263741",
     "status": "completed"
    },
    "tags": []
   },
   "outputs": [],
   "source": [
    "#hide\n",
    "# g.rename(columns= {'date':'day'},inplace = True)"
   ]
  },
  {
   "cell_type": "code",
   "execution_count": 38,
   "id": "major-fight",
   "metadata": {
    "execution": {
     "iopub.execute_input": "2021-09-09T12:10:59.354794Z",
     "iopub.status.busy": "2021-09-09T12:10:59.354342Z",
     "iopub.status.idle": "2021-09-09T12:10:59.356397Z",
     "shell.execute_reply": "2021-09-09T12:10:59.356012Z"
    },
    "papermill": {
     "duration": 0.03287,
     "end_time": "2021-09-09T12:10:59.356501",
     "exception": false,
     "start_time": "2021-09-09T12:10:59.323631",
     "status": "completed"
    },
    "tags": []
   },
   "outputs": [],
   "source": [
    "#hide\n",
    "# g = g[cols]"
   ]
  },
  {
   "cell_type": "code",
   "execution_count": 39,
   "id": "structured-mobile",
   "metadata": {
    "execution": {
     "iopub.execute_input": "2021-09-09T12:10:59.414779Z",
     "iopub.status.busy": "2021-09-09T12:10:59.414325Z",
     "iopub.status.idle": "2021-09-09T12:10:59.416149Z",
     "shell.execute_reply": "2021-09-09T12:10:59.416508Z"
    },
    "papermill": {
     "duration": 0.03291,
     "end_time": "2021-09-09T12:10:59.416626",
     "exception": false,
     "start_time": "2021-09-09T12:10:59.383716",
     "status": "completed"
    },
    "tags": []
   },
   "outputs": [],
   "source": [
    "# #hide\n",
    "# g = g[g.group.notna()]"
   ]
  },
  {
   "cell_type": "code",
   "execution_count": 40,
   "id": "determined-closing",
   "metadata": {
    "execution": {
     "iopub.execute_input": "2021-09-09T12:10:59.475310Z",
     "iopub.status.busy": "2021-09-09T12:10:59.474857Z",
     "iopub.status.idle": "2021-09-09T12:10:59.476799Z",
     "shell.execute_reply": "2021-09-09T12:10:59.476417Z"
    },
    "papermill": {
     "duration": 0.032825,
     "end_time": "2021-09-09T12:10:59.476900",
     "exception": false,
     "start_time": "2021-09-09T12:10:59.444075",
     "status": "completed"
    },
    "tags": []
   },
   "outputs": [],
   "source": [
    "# #hide\n",
    "# colors = dict(zip(\n",
    "#     [\"Oceania\", \"Europe\", \"Asia\", \"South America\", \"Middle East\", \"North America\", \"Africa\"],\n",
    "#     [\"#adb0ff\", \"#ffb3ff\", \"#90d595\", \"#e48381\", \"#aafbff\", \"#f7bb5f\", \"#eafb50\"]\n",
    "# ))\n",
    "# group_lk = g.set_index('name')['group'].to_dict()"
   ]
  },
  {
   "cell_type": "code",
   "execution_count": null,
   "id": "gross-drinking",
   "metadata": {
    "papermill": {
     "duration": 0.027361,
     "end_time": "2021-09-09T12:10:59.531621",
     "exception": false,
     "start_time": "2021-09-09T12:10:59.504260",
     "status": "completed"
    },
    "tags": []
   },
   "outputs": [],
   "source": []
  },
  {
   "cell_type": "code",
   "execution_count": 41,
   "id": "subject-macintosh",
   "metadata": {
    "execution": {
     "iopub.execute_input": "2021-09-09T12:10:59.590610Z",
     "iopub.status.busy": "2021-09-09T12:10:59.590136Z",
     "iopub.status.idle": "2021-09-09T12:10:59.591894Z",
     "shell.execute_reply": "2021-09-09T12:10:59.592291Z"
    },
    "papermill": {
     "duration": 0.033369,
     "end_time": "2021-09-09T12:10:59.592413",
     "exception": false,
     "start_time": "2021-09-09T12:10:59.559044",
     "status": "completed"
    },
    "tags": []
   },
   "outputs": [],
   "source": [
    "# #hide\n",
    "# fig, ax = plt.subplots(figsize=(15, 8))\n",
    "\n",
    "# def draw_barchart(current_day):\n",
    "#     dff = g[g['day'].eq(current_day)].sort_values(by='value', ascending=True).tail(10)\n",
    "#     ax.clear()\n",
    "#     ax.barh(dff['name'], dff['value'], color=[colors[group_lk[x]] for x in dff['name']])\n",
    "#     dx = dff['value'].max() / 200\n",
    "    \n",
    "#     for i, (value, name) in enumerate(zip(dff['value'], dff['name'])):\n",
    "#         ax.text(value-dx, i,     name,           size=14, weight=600, ha='right', va='bottom')\n",
    "#         ax.text(value-dx, i-.25, group_lk[name], size=10, color='#444444', ha='right', va='baseline')\n",
    "#         ax.text(value+dx, i,     f'{value:,.0f}',  size=14, ha='left',  va='center')\n",
    "#     ax.text(1, 0.4, current_day, transform=ax.transAxes, color='#777777', size=46, ha='right', weight=800)\n",
    "#     ax.text(0, 1.06, 'Population (thousands)', transform=ax.transAxes, size=12, color='#777777')\n",
    "#     ax.xaxis.set_major_formatter(ticker.StrMethodFormatter('{x:,.0f}'))\n",
    "#     ax.xaxis.set_ticks_position('top')\n",
    "#     ax.tick_params(axis='x', colors='#777777', labelsize=12)\n",
    "#     ax.set_yticks([])\n",
    "#     ax.margins(0, 0.01)\n",
    "#     ax.grid(which='major', axis='x', linestyle='-')\n",
    "#     ax.set_axisbelow(True)\n",
    "    \n",
    "#     ax.text(0, 1.15, 'Coronavirus',\n",
    "#             transform=ax.transAxes, size=24, weight=600, ha='left', va='top')\n",
    "# #     ax.text(1, 0, 'by @pratapvardhan; credit @jburnmurdoch', transform=ax.transAxes, color='#777777', ha='right',\n",
    "# #             bbox=dict(facecolor='white', alpha=0.8, edgecolor='white'))\n",
    "#     plt.box(False)"
   ]
  },
  {
   "cell_type": "code",
   "execution_count": 42,
   "id": "sexual-wages",
   "metadata": {
    "execution": {
     "iopub.execute_input": "2021-09-09T12:10:59.650786Z",
     "iopub.status.busy": "2021-09-09T12:10:59.650329Z",
     "iopub.status.idle": "2021-09-09T12:10:59.652051Z",
     "shell.execute_reply": "2021-09-09T12:10:59.652450Z"
    },
    "papermill": {
     "duration": 0.032857,
     "end_time": "2021-09-09T12:10:59.652568",
     "exception": false,
     "start_time": "2021-09-09T12:10:59.619711",
     "status": "completed"
    },
    "tags": []
   },
   "outputs": [],
   "source": [
    "# #hide_input\n",
    "# fig, ax = plt.subplots(figsize=(15, 8))\n",
    "# animator = animation.FuncAnimation(fig, draw_barchart, frames=range(g.day.values.min(), g.day.values.max()))\n",
    "# HTML(animator.to_jshtml())\n",
    "# # or use animator.to_html5_video() or animator.save() "
   ]
  },
  {
   "cell_type": "code",
   "execution_count": null,
   "id": "australian-container",
   "metadata": {
    "papermill": {
     "duration": 0.027438,
     "end_time": "2021-09-09T12:10:59.707388",
     "exception": false,
     "start_time": "2021-09-09T12:10:59.679950",
     "status": "completed"
    },
    "tags": []
   },
   "outputs": [],
   "source": []
  },
  {
   "cell_type": "code",
   "execution_count": null,
   "id": "mediterranean-pontiac",
   "metadata": {
    "papermill": {
     "duration": 0.027198,
     "end_time": "2021-09-09T12:10:59.761746",
     "exception": false,
     "start_time": "2021-09-09T12:10:59.734548",
     "status": "completed"
    },
    "tags": []
   },
   "outputs": [],
   "source": []
  },
  {
   "cell_type": "code",
   "execution_count": null,
   "id": "aging-legislature",
   "metadata": {
    "papermill": {
     "duration": 0.027392,
     "end_time": "2021-09-09T12:10:59.816600",
     "exception": false,
     "start_time": "2021-09-09T12:10:59.789208",
     "status": "completed"
    },
    "tags": []
   },
   "outputs": [],
   "source": []
  }
 ],
 "metadata": {
  "kernelspec": {
   "display_name": "Python 3",
   "language": "python",
   "name": "python3"
  },
  "language_info": {
   "codemirror_mode": {
    "name": "ipython",
    "version": 3
   },
   "file_extension": ".py",
   "mimetype": "text/x-python",
   "name": "python",
   "nbconvert_exporter": "python",
   "pygments_lexer": "ipython3",
   "version": "3.6.14"
  },
  "papermill": {
   "duration": 5.590664,
   "end_time": "2021-09-09T12:11:00.251517",
   "environment_variables": {},
   "exception": null,
   "input_path": "2020-03-21-covid19exp.ipynb",
   "output_path": "2020-03-21-covid19exp.ipynb",
   "parameters": {},
   "start_time": "2021-09-09T12:10:54.660853",
   "version": "2.0.0"
  }
 },
 "nbformat": 4,
 "nbformat_minor": 5
}