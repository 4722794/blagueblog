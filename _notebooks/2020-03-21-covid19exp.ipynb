{
 "cells": [
  {
   "cell_type": "markdown",
   "id": "muslim-click",
   "metadata": {
    "papermill": {
     "duration": 0.037858,
     "end_time": "2021-10-23T00:24:17.470479",
     "exception": false,
     "start_time": "2021-10-23T00:24:17.432621",
     "status": "completed"
    },
    "tags": []
   },
   "source": [
    "# COVID-19 Case Race\n",
    "> A race chart to see rising cases around the world\n",
    "\n",
    "- author: Hargun Oberoi\n",
    "- image: images/covid-overview.png\n",
    "- hide: false\n",
    "- badges: false"
   ]
  },
  {
   "cell_type": "code",
   "execution_count": 1,
   "id": "proof-material",
   "metadata": {
    "execution": {
     "iopub.execute_input": "2021-10-23T00:24:17.551300Z",
     "iopub.status.busy": "2021-10-23T00:24:17.550638Z",
     "iopub.status.idle": "2021-10-23T00:24:17.934505Z",
     "shell.execute_reply": "2021-10-23T00:24:17.933464Z"
    },
    "papermill": {
     "duration": 0.427603,
     "end_time": "2021-10-23T00:24:17.934661",
     "exception": false,
     "start_time": "2021-10-23T00:24:17.507058",
     "status": "completed"
    },
    "tags": []
   },
   "outputs": [],
   "source": [
    "#hide\n",
    "import numpy as np\n",
    "import pandas as pd\n",
    "from jinja2 import Template\n",
    "from IPython.display import HTML"
   ]
  },
  {
   "cell_type": "code",
   "execution_count": 2,
   "id": "developed-terminology",
   "metadata": {
    "execution": {
     "iopub.execute_input": "2021-10-23T00:24:18.018056Z",
     "iopub.status.busy": "2021-10-23T00:24:18.017303Z",
     "iopub.status.idle": "2021-10-23T00:24:18.019370Z",
     "shell.execute_reply": "2021-10-23T00:24:18.019999Z"
    },
    "papermill": {
     "duration": 0.046577,
     "end_time": "2021-10-23T00:24:18.020178",
     "exception": false,
     "start_time": "2021-10-23T00:24:17.973601",
     "status": "completed"
    },
    "tags": []
   },
   "outputs": [],
   "source": [
    "#hide\n",
    "\n",
    "# FETCH\n",
    "base_url = 'https://raw.githubusercontent.com/pratapvardhan/notebooks/master/covid19/'\n",
    "paths = {\n",
    "    'mapping': base_url + 'mapping_countries.csv',\n",
    "    'overview': base_url + 'overview.tpl'\n",
    "}"
   ]
  },
  {
   "cell_type": "code",
   "execution_count": 3,
   "id": "dynamic-saver",
   "metadata": {
    "execution": {
     "iopub.execute_input": "2021-10-23T00:24:18.108436Z",
     "iopub.status.busy": "2021-10-23T00:24:18.105281Z",
     "iopub.status.idle": "2021-10-23T00:24:18.111416Z",
     "shell.execute_reply": "2021-10-23T00:24:18.111986Z"
    },
    "papermill": {
     "duration": 0.052874,
     "end_time": "2021-10-23T00:24:18.112122",
     "exception": false,
     "start_time": "2021-10-23T00:24:18.059248",
     "status": "completed"
    },
    "tags": []
   },
   "outputs": [
    {
     "data": {
      "text/plain": [
       "'https://raw.githubusercontent.com/pratapvardhan/notebooks/master/covid19/mapping_countries.csv'"
      ]
     },
     "execution_count": 3,
     "metadata": {},
     "output_type": "execute_result"
    }
   ],
   "source": [
    "#hide\n",
    "paths['mapping']"
   ]
  },
  {
   "cell_type": "code",
   "execution_count": 4,
   "id": "urban-software",
   "metadata": {
    "execution": {
     "iopub.execute_input": "2021-10-23T00:24:18.191416Z",
     "iopub.status.busy": "2021-10-23T00:24:18.190697Z",
     "iopub.status.idle": "2021-10-23T00:24:18.193680Z",
     "shell.execute_reply": "2021-10-23T00:24:18.193050Z"
    },
    "papermill": {
     "duration": 0.045276,
     "end_time": "2021-10-23T00:24:18.193819",
     "exception": false,
     "start_time": "2021-10-23T00:24:18.148543",
     "status": "completed"
    },
    "tags": []
   },
   "outputs": [],
   "source": [
    "#hide\n",
    "def get_mappings(url):\n",
    "    df = pd.read_csv(url)\n",
    "    return {\n",
    "        'df': df,\n",
    "        'replace.country': dict(df.dropna(subset=['Name']).set_index('Country')['Name']),\n",
    "        'map.continent': dict(df.set_index('Name')['Continent'])\n",
    "    }"
   ]
  },
  {
   "cell_type": "code",
   "execution_count": 5,
   "id": "intimate-machinery",
   "metadata": {
    "execution": {
     "iopub.execute_input": "2021-10-23T00:24:18.273556Z",
     "iopub.status.busy": "2021-10-23T00:24:18.272813Z",
     "iopub.status.idle": "2021-10-23T00:24:18.333854Z",
     "shell.execute_reply": "2021-10-23T00:24:18.334429Z"
    },
    "papermill": {
     "duration": 0.104863,
     "end_time": "2021-10-23T00:24:18.334558",
     "exception": false,
     "start_time": "2021-10-23T00:24:18.229695",
     "status": "completed"
    },
    "tags": []
   },
   "outputs": [],
   "source": [
    "#hide\n",
    "mapping = get_mappings(paths['mapping'])"
   ]
  },
  {
   "cell_type": "code",
   "execution_count": 6,
   "id": "certified-tactics",
   "metadata": {
    "execution": {
     "iopub.execute_input": "2021-10-23T00:24:18.416888Z",
     "iopub.status.busy": "2021-10-23T00:24:18.416267Z",
     "iopub.status.idle": "2021-10-23T00:24:18.418830Z",
     "shell.execute_reply": "2021-10-23T00:24:18.418218Z"
    },
    "papermill": {
     "duration": 0.046004,
     "end_time": "2021-10-23T00:24:18.418966",
     "exception": false,
     "start_time": "2021-10-23T00:24:18.372962",
     "status": "completed"
    },
    "tags": []
   },
   "outputs": [],
   "source": [
    "#hide\n",
    "def get_template(path):\n",
    "    from urllib.parse import urlparse\n",
    "    if bool(urlparse(path).netloc):\n",
    "        from urllib.request import urlopen\n",
    "        return urlopen(path).read().decode('utf8')\n",
    "    return open(path).read()"
   ]
  },
  {
   "cell_type": "code",
   "execution_count": 7,
   "id": "realistic-blast",
   "metadata": {
    "execution": {
     "iopub.execute_input": "2021-10-23T00:24:18.498980Z",
     "iopub.status.busy": "2021-10-23T00:24:18.498358Z",
     "iopub.status.idle": "2021-10-23T00:24:18.500530Z",
     "shell.execute_reply": "2021-10-23T00:24:18.501064Z"
    },
    "papermill": {
     "duration": 0.044125,
     "end_time": "2021-10-23T00:24:18.501198",
     "exception": false,
     "start_time": "2021-10-23T00:24:18.457073",
     "status": "completed"
    },
    "tags": []
   },
   "outputs": [],
   "source": [
    "#hide\n",
    "def get_frame(name):\n",
    "    url = (\n",
    "        'https://raw.githubusercontent.com/CSSEGISandData/COVID-19/master/csse_covid_19_data/'\n",
    "        f'csse_covid_19_time_series/time_series_covid19_{name}_global.csv')\n",
    "    df = pd.read_csv(url)\n",
    "    # rename countries\n",
    "    df['Country/Region'] = df['Country/Region'].replace(mapping['replace.country'])\n",
    "    return df"
   ]
  },
  {
   "cell_type": "code",
   "execution_count": 8,
   "id": "affiliated-characterization",
   "metadata": {
    "execution": {
     "iopub.execute_input": "2021-10-23T00:24:18.580886Z",
     "iopub.status.busy": "2021-10-23T00:24:18.580307Z",
     "iopub.status.idle": "2021-10-23T00:24:18.582552Z",
     "shell.execute_reply": "2021-10-23T00:24:18.583028Z"
    },
    "papermill": {
     "duration": 0.046082,
     "end_time": "2021-10-23T00:24:18.583159",
     "exception": false,
     "start_time": "2021-10-23T00:24:18.537077",
     "status": "completed"
    },
    "tags": []
   },
   "outputs": [],
   "source": [
    "#hide\n",
    "def get_dates(df):\n",
    "    dt_cols = df.columns[~df.columns.isin(['Province/State', 'Country/Region', 'Lat', 'Long'])]\n",
    "    LAST_DATE_I = -1\n",
    "    # sometimes last column may be empty, then go backwards\n",
    "    for i in range(-1, -len(dt_cols), -1):\n",
    "        if not df[dt_cols[i]].fillna(0).eq(0).all():\n",
    "            LAST_DATE_I = i\n",
    "            break\n",
    "    return LAST_DATE_I, dt_cols"
   ]
  },
  {
   "cell_type": "code",
   "execution_count": 9,
   "id": "recent-optimization",
   "metadata": {
    "execution": {
     "iopub.execute_input": "2021-10-23T00:24:18.663196Z",
     "iopub.status.busy": "2021-10-23T00:24:18.662575Z",
     "iopub.status.idle": "2021-10-23T00:24:19.302664Z",
     "shell.execute_reply": "2021-10-23T00:24:19.301717Z"
    },
    "papermill": {
     "duration": 0.681065,
     "end_time": "2021-10-23T00:24:19.302812",
     "exception": false,
     "start_time": "2021-10-23T00:24:18.621747",
     "status": "completed"
    },
    "tags": []
   },
   "outputs": [],
   "source": [
    "#hide\n",
    "COL_REGION = 'Country/Region'\n",
    "# Confirmed, Recovered, Deaths\n",
    "df = get_frame('confirmed')\n",
    "# dft_: timeseries, dfc_: today country agg\n",
    "dft_cases = df\n",
    "dft_deaths = get_frame('deaths')\n",
    "dft_recovered = get_frame('recovered')\n",
    "LAST_DATE_I, dt_cols = get_dates(df)"
   ]
  },
  {
   "cell_type": "code",
   "execution_count": 10,
   "id": "absolute-copper",
   "metadata": {
    "execution": {
     "iopub.execute_input": "2021-10-23T00:24:19.383837Z",
     "iopub.status.busy": "2021-10-23T00:24:19.382691Z",
     "iopub.status.idle": "2021-10-23T00:24:19.385390Z",
     "shell.execute_reply": "2021-10-23T00:24:19.385858Z"
    },
    "papermill": {
     "duration": 0.046333,
     "end_time": "2021-10-23T00:24:19.386007",
     "exception": false,
     "start_time": "2021-10-23T00:24:19.339674",
     "status": "completed"
    },
    "tags": []
   },
   "outputs": [],
   "source": [
    "#hide\n",
    "LAST_DATE_I, dt_cols = get_dates(df)\n",
    "dt_today =dt_cols[LAST_DATE_I]\n",
    "# dt_5day = dt_cols[LAST_DATE_I - 5]\n",
    "dt_yday = dt_cols[LAST_DATE_I - 1]"
   ]
  },
  {
   "cell_type": "code",
   "execution_count": 11,
   "id": "restricted-sheriff",
   "metadata": {
    "execution": {
     "iopub.execute_input": "2021-10-23T00:24:19.466546Z",
     "iopub.status.busy": "2021-10-23T00:24:19.465907Z",
     "iopub.status.idle": "2021-10-23T00:24:19.476230Z",
     "shell.execute_reply": "2021-10-23T00:24:19.475611Z"
    },
    "papermill": {
     "duration": 0.053678,
     "end_time": "2021-10-23T00:24:19.476343",
     "exception": false,
     "start_time": "2021-10-23T00:24:19.422665",
     "status": "completed"
    },
    "tags": []
   },
   "outputs": [],
   "source": [
    "#hide\n",
    "dfc_cases = dft_cases.groupby(COL_REGION)[dt_today].sum()\n",
    "dfc_deaths = dft_deaths.groupby(COL_REGION)[dt_today].sum()\n",
    "# dfp_cases = dft_cases.groupby(COL_REGION)[dt_5day].sum()\n",
    "# dfp_deaths = dft_deaths.groupby(COL_REGION)[dt_5day].sum()\n",
    "dfp_cases = dft_cases.groupby(COL_REGION)[dt_yday].sum()\n",
    "dfp_deaths = dft_deaths.groupby(COL_REGION)[dt_yday].sum()"
   ]
  },
  {
   "cell_type": "code",
   "execution_count": 12,
   "id": "deluxe-hepatitis",
   "metadata": {
    "execution": {
     "iopub.execute_input": "2021-10-23T00:24:19.546609Z",
     "iopub.status.busy": "2021-10-23T00:24:19.546006Z",
     "iopub.status.idle": "2021-10-23T00:24:19.551200Z",
     "shell.execute_reply": "2021-10-23T00:24:19.550710Z"
    },
    "papermill": {
     "duration": 0.042383,
     "end_time": "2021-10-23T00:24:19.551300",
     "exception": false,
     "start_time": "2021-10-23T00:24:19.508917",
     "status": "completed"
    },
    "tags": []
   },
   "outputs": [],
   "source": [
    "#hide\n",
    "df_table = (pd.DataFrame(dict(Cases = dfc_cases, Deaths = dfc_deaths, PCases = dfp_cases, PDeaths = dfp_deaths))\n",
    "            .sort_values(by = ['Cases','Deaths'], ascending = [False, False])\n",
    "            .reset_index())"
   ]
  },
  {
   "cell_type": "code",
   "execution_count": 13,
   "id": "educational-chancellor",
   "metadata": {
    "execution": {
     "iopub.execute_input": "2021-10-23T00:24:19.638536Z",
     "iopub.status.busy": "2021-10-23T00:24:19.637866Z",
     "iopub.status.idle": "2021-10-23T00:24:19.646699Z",
     "shell.execute_reply": "2021-10-23T00:24:19.647218Z"
    },
    "papermill": {
     "duration": 0.062233,
     "end_time": "2021-10-23T00:24:19.647330",
     "exception": false,
     "start_time": "2021-10-23T00:24:19.585097",
     "status": "completed"
    },
    "tags": []
   },
   "outputs": [
    {
     "data": {
      "text/html": [
       "<div>\n",
       "<style scoped>\n",
       "    .dataframe tbody tr th:only-of-type {\n",
       "        vertical-align: middle;\n",
       "    }\n",
       "\n",
       "    .dataframe tbody tr th {\n",
       "        vertical-align: top;\n",
       "    }\n",
       "\n",
       "    .dataframe thead th {\n",
       "        text-align: right;\n",
       "    }\n",
       "</style>\n",
       "<table border=\"1\" class=\"dataframe\">\n",
       "  <thead>\n",
       "    <tr style=\"text-align: right;\">\n",
       "      <th></th>\n",
       "      <th>Country/Region</th>\n",
       "      <th>Cases</th>\n",
       "      <th>Deaths</th>\n",
       "      <th>PCases</th>\n",
       "      <th>PDeaths</th>\n",
       "      <th>Cases (+)</th>\n",
       "      <th>Deaths (+)</th>\n",
       "      <th>Fatality Rate</th>\n",
       "      <th>Continent</th>\n",
       "    </tr>\n",
       "  </thead>\n",
       "  <tbody>\n",
       "    <tr>\n",
       "      <th>0</th>\n",
       "      <td>US</td>\n",
       "      <td>45300970</td>\n",
       "      <td>733213</td>\n",
       "      <td>45220898</td>\n",
       "      <td>731310</td>\n",
       "      <td>80072</td>\n",
       "      <td>1903</td>\n",
       "      <td>1.62</td>\n",
       "      <td>North America</td>\n",
       "    </tr>\n",
       "    <tr>\n",
       "      <th>1</th>\n",
       "      <td>India</td>\n",
       "      <td>34143236</td>\n",
       "      <td>453042</td>\n",
       "      <td>34127450</td>\n",
       "      <td>452811</td>\n",
       "      <td>15786</td>\n",
       "      <td>231</td>\n",
       "      <td>1.33</td>\n",
       "      <td>Asia</td>\n",
       "    </tr>\n",
       "    <tr>\n",
       "      <th>2</th>\n",
       "      <td>Brazil</td>\n",
       "      <td>21697341</td>\n",
       "      <td>604679</td>\n",
       "      <td>21680488</td>\n",
       "      <td>604228</td>\n",
       "      <td>16853</td>\n",
       "      <td>451</td>\n",
       "      <td>2.79</td>\n",
       "      <td>South America</td>\n",
       "    </tr>\n",
       "    <tr>\n",
       "      <th>3</th>\n",
       "      <td>United Kingdom</td>\n",
       "      <td>8681795</td>\n",
       "      <td>139562</td>\n",
       "      <td>8630076</td>\n",
       "      <td>139444</td>\n",
       "      <td>51719</td>\n",
       "      <td>118</td>\n",
       "      <td>1.61</td>\n",
       "      <td>Europe</td>\n",
       "    </tr>\n",
       "    <tr>\n",
       "      <th>4</th>\n",
       "      <td>Russia</td>\n",
       "      <td>8005376</td>\n",
       "      <td>223331</td>\n",
       "      <td>7969960</td>\n",
       "      <td>222320</td>\n",
       "      <td>35416</td>\n",
       "      <td>1011</td>\n",
       "      <td>2.79</td>\n",
       "      <td>Europe</td>\n",
       "    </tr>\n",
       "  </tbody>\n",
       "</table>\n",
       "</div>"
      ],
      "text/plain": [
       "   Country/Region     Cases  Deaths    PCases  PDeaths  Cases (+)  Deaths (+)  \\\n",
       "0              US  45300970  733213  45220898   731310      80072        1903   \n",
       "1           India  34143236  453042  34127450   452811      15786         231   \n",
       "2          Brazil  21697341  604679  21680488   604228      16853         451   \n",
       "3  United Kingdom   8681795  139562   8630076   139444      51719         118   \n",
       "4          Russia   8005376  223331   7969960   222320      35416        1011   \n",
       "\n",
       "   Fatality Rate      Continent  \n",
       "0           1.62  North America  \n",
       "1           1.33           Asia  \n",
       "2           2.79  South America  \n",
       "3           1.61         Europe  \n",
       "4           2.79         Europe  "
      ]
     },
     "execution_count": 13,
     "metadata": {},
     "output_type": "execute_result"
    }
   ],
   "source": [
    "#hide\n",
    "for c in 'Cases, Deaths'.split(', '):\n",
    "    df_table[f'{c} (+)'] = (df_table[c] - df_table[f'P{c}']).clip(0)\n",
    "    #Clip ça veut dire, les chiffres negatif sont interdit\n",
    "df_table['Fatality Rate'] = (100* df_table['Deaths']/ df_table['Cases']).round(2)\n",
    "df_table['Continent'] = df_table['Country/Region'].map(mapping['map.continent'])\n",
    "df_table.head(5)"
   ]
  },
  {
   "cell_type": "code",
   "execution_count": 14,
   "id": "aboriginal-bulgaria",
   "metadata": {
    "execution": {
     "iopub.execute_input": "2021-10-23T00:24:19.721220Z",
     "iopub.status.busy": "2021-10-23T00:24:19.720503Z",
     "iopub.status.idle": "2021-10-23T00:24:19.723959Z",
     "shell.execute_reply": "2021-10-23T00:24:19.723493Z"
    },
    "papermill": {
     "duration": 0.04214,
     "end_time": "2021-10-23T00:24:19.724063",
     "exception": false,
     "start_time": "2021-10-23T00:24:19.681923",
     "status": "completed"
    },
    "tags": []
   },
   "outputs": [],
   "source": [
    "#hide\n",
    "#delete problematic countries from table\n",
    "df_table = df_table[~df_table['Country/Region'].isin(['Cape Verde', 'Cruise Ship', 'Kosovo'])]"
   ]
  },
  {
   "cell_type": "code",
   "execution_count": 15,
   "id": "fantastic-effect",
   "metadata": {
    "execution": {
     "iopub.execute_input": "2021-10-23T00:24:19.807623Z",
     "iopub.status.busy": "2021-10-23T00:24:19.806684Z",
     "iopub.status.idle": "2021-10-23T00:24:19.829917Z",
     "shell.execute_reply": "2021-10-23T00:24:19.829451Z"
    },
    "papermill": {
     "duration": 0.068913,
     "end_time": "2021-10-23T00:24:19.830030",
     "exception": false,
     "start_time": "2021-10-23T00:24:19.761117",
     "status": "completed"
    },
    "tags": []
   },
   "outputs": [
    {
     "data": {
      "text/html": [
       "<div>\n",
       "<style scoped>\n",
       "    .dataframe tbody tr th:only-of-type {\n",
       "        vertical-align: middle;\n",
       "    }\n",
       "\n",
       "    .dataframe tbody tr th {\n",
       "        vertical-align: top;\n",
       "    }\n",
       "\n",
       "    .dataframe thead th {\n",
       "        text-align: right;\n",
       "    }\n",
       "</style>\n",
       "<table border=\"1\" class=\"dataframe\">\n",
       "  <thead>\n",
       "    <tr style=\"text-align: right;\">\n",
       "      <th></th>\n",
       "      <th>Country/Region</th>\n",
       "      <th>Cases</th>\n",
       "      <th>Deaths</th>\n",
       "      <th>PCases</th>\n",
       "      <th>PDeaths</th>\n",
       "      <th>Cases (+)</th>\n",
       "      <th>Deaths (+)</th>\n",
       "      <th>Fatality Rate</th>\n",
       "      <th>Continent</th>\n",
       "    </tr>\n",
       "  </thead>\n",
       "  <tbody>\n",
       "    <tr>\n",
       "      <th>0</th>\n",
       "      <td>US</td>\n",
       "      <td>45300970</td>\n",
       "      <td>733213</td>\n",
       "      <td>45220898</td>\n",
       "      <td>731310</td>\n",
       "      <td>80072</td>\n",
       "      <td>1903</td>\n",
       "      <td>1.6</td>\n",
       "      <td>North America</td>\n",
       "    </tr>\n",
       "    <tr>\n",
       "      <th>1</th>\n",
       "      <td>India</td>\n",
       "      <td>34143236</td>\n",
       "      <td>453042</td>\n",
       "      <td>34127450</td>\n",
       "      <td>452811</td>\n",
       "      <td>15786</td>\n",
       "      <td>231</td>\n",
       "      <td>1.3</td>\n",
       "      <td>Asia</td>\n",
       "    </tr>\n",
       "    <tr>\n",
       "      <th>2</th>\n",
       "      <td>Brazil</td>\n",
       "      <td>21697341</td>\n",
       "      <td>604679</td>\n",
       "      <td>21680488</td>\n",
       "      <td>604228</td>\n",
       "      <td>16853</td>\n",
       "      <td>451</td>\n",
       "      <td>2.8</td>\n",
       "      <td>South America</td>\n",
       "    </tr>\n",
       "    <tr>\n",
       "      <th>3</th>\n",
       "      <td>United Kingdom</td>\n",
       "      <td>8681795</td>\n",
       "      <td>139562</td>\n",
       "      <td>8630076</td>\n",
       "      <td>139444</td>\n",
       "      <td>51719</td>\n",
       "      <td>118</td>\n",
       "      <td>1.6</td>\n",
       "      <td>Europe</td>\n",
       "    </tr>\n",
       "    <tr>\n",
       "      <th>4</th>\n",
       "      <td>Russia</td>\n",
       "      <td>8005376</td>\n",
       "      <td>223331</td>\n",
       "      <td>7969960</td>\n",
       "      <td>222320</td>\n",
       "      <td>35416</td>\n",
       "      <td>1011</td>\n",
       "      <td>2.8</td>\n",
       "      <td>Europe</td>\n",
       "    </tr>\n",
       "  </tbody>\n",
       "</table>\n",
       "</div>"
      ],
      "text/plain": [
       "   Country/Region     Cases  Deaths    PCases  PDeaths  Cases (+)  Deaths (+)  \\\n",
       "0              US  45300970  733213  45220898   731310      80072        1903   \n",
       "1           India  34143236  453042  34127450   452811      15786         231   \n",
       "2          Brazil  21697341  604679  21680488   604228      16853         451   \n",
       "3  United Kingdom   8681795  139562   8630076   139444      51719         118   \n",
       "4          Russia   8005376  223331   7969960   222320      35416        1011   \n",
       "\n",
       "   Fatality Rate      Continent  \n",
       "0            1.6  North America  \n",
       "1            1.3           Asia  \n",
       "2            2.8  South America  \n",
       "3            1.6         Europe  \n",
       "4            2.8         Europe  "
      ]
     },
     "execution_count": 15,
     "metadata": {},
     "output_type": "execute_result"
    }
   ],
   "source": [
    "#hide\n",
    "df_table = (pd.DataFrame(dict(Cases=dfc_cases, Deaths=dfc_deaths, PCases=dfp_cases, PDeaths=dfp_deaths))\n",
    "             .sort_values(by=['Cases', 'Deaths'], ascending=[False, False])\n",
    "             .reset_index())\n",
    "df_table.rename(columns={'index': 'Country/Region'}, inplace=True)\n",
    "for c in 'Cases, Deaths'.split(', '):\n",
    "    df_table[f'{c} (+)'] = (df_table[c] - df_table[f'P{c}']).clip(0)  # DATA BUG\n",
    "df_table['Fatality Rate'] = (100 * df_table['Deaths'] / df_table['Cases']).round(1)\n",
    "df_table['Continent'] = df_table['Country/Region'].map(mapping['map.continent'])\n",
    "df_table.head(5)"
   ]
  },
  {
   "cell_type": "code",
   "execution_count": 16,
   "id": "fewer-occasion",
   "metadata": {
    "execution": {
     "iopub.execute_input": "2021-10-23T00:24:19.903508Z",
     "iopub.status.busy": "2021-10-23T00:24:19.902904Z",
     "iopub.status.idle": "2021-10-23T00:24:19.905058Z",
     "shell.execute_reply": "2021-10-23T00:24:19.905547Z"
    },
    "papermill": {
     "duration": 0.041246,
     "end_time": "2021-10-23T00:24:19.905664",
     "exception": false,
     "start_time": "2021-10-23T00:24:19.864418",
     "status": "completed"
    },
    "tags": []
   },
   "outputs": [],
   "source": [
    "#hide\n",
    "#delete problematic countries from table\n",
    "df_table = df_table[~df_table['Country/Region'].isin(['Cape Verde', 'Cruise Ship', 'Kosovo'])]"
   ]
  },
  {
   "cell_type": "code",
   "execution_count": 17,
   "id": "related-center",
   "metadata": {
    "execution": {
     "iopub.execute_input": "2021-10-23T00:24:19.987059Z",
     "iopub.status.busy": "2021-10-23T00:24:19.986477Z",
     "iopub.status.idle": "2021-10-23T00:24:19.995694Z",
     "shell.execute_reply": "2021-10-23T00:24:19.996165Z"
    },
    "papermill": {
     "duration": 0.056549,
     "end_time": "2021-10-23T00:24:19.996282",
     "exception": false,
     "start_time": "2021-10-23T00:24:19.939733",
     "status": "completed"
    },
    "tags": []
   },
   "outputs": [],
   "source": [
    "#hide\n",
    "metrics = [df_table.columns[index] for index in [1,2,5,6]]\n",
    "# s_china = df_table[df_table['Country/Region'].eq('China')][metrics].sum().add_prefix('China ')\n",
    "s_us = df_table[df_table['Country/Region'].eq('US')][metrics].sum().add_prefix('US ')\n",
    "s_eu = df_table[df_table['Continent'].eq('Europe')][metrics].sum().add_prefix('EU ')\n",
    "s_ind = df_table[df_table['Country/Region'].eq('India')][metrics].sum().add_prefix('India ')\n",
    "summary = {'updated': pd.to_datetime(dt_today), 'since': pd.to_datetime(dt_yday)}\n",
    "summary = {'updated': pd.to_datetime(dt_today), 'since': pd.to_datetime(dt_yday)}\n",
    "summary = {**summary, **df_table[metrics].sum(), **s_ind, **s_us, **s_eu}"
   ]
  },
  {
   "cell_type": "code",
   "execution_count": 18,
   "id": "engaging-syndrome",
   "metadata": {
    "execution": {
     "iopub.execute_input": "2021-10-23T00:24:20.079781Z",
     "iopub.status.busy": "2021-10-23T00:24:20.078990Z",
     "iopub.status.idle": "2021-10-23T00:24:20.095061Z",
     "shell.execute_reply": "2021-10-23T00:24:20.095578Z"
    },
    "papermill": {
     "duration": 0.063323,
     "end_time": "2021-10-23T00:24:20.095765",
     "exception": false,
     "start_time": "2021-10-23T00:24:20.032442",
     "status": "completed"
    },
    "tags": []
   },
   "outputs": [],
   "source": [
    "#hide\n",
    "dft_ct_new_cases = dft_cases.groupby(COL_REGION)[dt_cols].sum().diff(axis=1).fillna(0).astype(int)"
   ]
  },
  {
   "cell_type": "code",
   "execution_count": 19,
   "id": "neutral-assignment",
   "metadata": {
    "execution": {
     "iopub.execute_input": "2021-10-23T00:24:20.174429Z",
     "iopub.status.busy": "2021-10-23T00:24:20.172593Z",
     "iopub.status.idle": "2021-10-23T00:24:20.176585Z",
     "shell.execute_reply": "2021-10-23T00:24:20.177120Z"
    },
    "papermill": {
     "duration": 0.044336,
     "end_time": "2021-10-23T00:24:20.177264",
     "exception": false,
     "start_time": "2021-10-23T00:24:20.132928",
     "status": "completed"
    },
    "tags": []
   },
   "outputs": [],
   "source": [
    "#hide\n",
    "everydaycases = dft_ct_new_cases.cumsum(axis=1)"
   ]
  },
  {
   "cell_type": "code",
   "execution_count": 20,
   "id": "parliamentary-calgary",
   "metadata": {
    "execution": {
     "iopub.execute_input": "2021-10-23T00:24:20.255158Z",
     "iopub.status.busy": "2021-10-23T00:24:20.254499Z",
     "iopub.status.idle": "2021-10-23T00:24:20.871744Z",
     "shell.execute_reply": "2021-10-23T00:24:20.871222Z"
    },
    "papermill": {
     "duration": 0.65965,
     "end_time": "2021-10-23T00:24:20.871898",
     "exception": false,
     "start_time": "2021-10-23T00:24:20.212248",
     "status": "completed"
    },
    "tags": []
   },
   "outputs": [],
   "source": [
    "#hide\n",
    "import pandas as pd\n",
    "import matplotlib.pyplot as plt\n",
    "import matplotlib.ticker as ticker\n",
    "import matplotlib.animation as animation\n",
    "from IPython.display import HTML"
   ]
  },
  {
   "cell_type": "code",
   "execution_count": 21,
   "id": "lasting-extraction",
   "metadata": {
    "execution": {
     "iopub.execute_input": "2021-10-23T00:24:20.952160Z",
     "iopub.status.busy": "2021-10-23T00:24:20.951622Z",
     "iopub.status.idle": "2021-10-23T00:24:20.956866Z",
     "shell.execute_reply": "2021-10-23T00:24:20.957373Z"
    },
    "papermill": {
     "duration": 0.04809,
     "end_time": "2021-10-23T00:24:20.957527",
     "exception": false,
     "start_time": "2021-10-23T00:24:20.909437",
     "status": "completed"
    },
    "tags": []
   },
   "outputs": [],
   "source": [
    "#hide\n",
    "t = everydaycases.stack()"
   ]
  },
  {
   "cell_type": "code",
   "execution_count": 22,
   "id": "premier-sleeve",
   "metadata": {
    "execution": {
     "iopub.execute_input": "2021-10-23T00:24:21.031260Z",
     "iopub.status.busy": "2021-10-23T00:24:21.030698Z",
     "iopub.status.idle": "2021-10-23T00:24:21.039366Z",
     "shell.execute_reply": "2021-10-23T00:24:21.039974Z"
    },
    "papermill": {
     "duration": 0.046425,
     "end_time": "2021-10-23T00:24:21.040121",
     "exception": false,
     "start_time": "2021-10-23T00:24:20.993696",
     "status": "completed"
    },
    "tags": []
   },
   "outputs": [],
   "source": [
    "#hide\n",
    "g = t.reset_index(['Country/Region'])"
   ]
  },
  {
   "cell_type": "code",
   "execution_count": 23,
   "id": "distributed-pittsburgh",
   "metadata": {
    "execution": {
     "iopub.execute_input": "2021-10-23T00:24:21.123111Z",
     "iopub.status.busy": "2021-10-23T00:24:21.122384Z",
     "iopub.status.idle": "2021-10-23T00:24:21.125197Z",
     "shell.execute_reply": "2021-10-23T00:24:21.124272Z"
    },
    "papermill": {
     "duration": 0.045424,
     "end_time": "2021-10-23T00:24:21.125395",
     "exception": false,
     "start_time": "2021-10-23T00:24:21.079971",
     "status": "completed"
    },
    "tags": []
   },
   "outputs": [],
   "source": [
    "#hide\n",
    "g.index.name = 'date'"
   ]
  },
  {
   "cell_type": "code",
   "execution_count": 24,
   "id": "naked-donor",
   "metadata": {
    "execution": {
     "iopub.execute_input": "2021-10-23T00:24:21.203689Z",
     "iopub.status.busy": "2021-10-23T00:24:21.203065Z",
     "iopub.status.idle": "2021-10-23T00:24:21.205137Z",
     "shell.execute_reply": "2021-10-23T00:24:21.205702Z"
    },
    "papermill": {
     "duration": 0.042424,
     "end_time": "2021-10-23T00:24:21.205823",
     "exception": false,
     "start_time": "2021-10-23T00:24:21.163399",
     "status": "completed"
    },
    "tags": []
   },
   "outputs": [],
   "source": [
    "# #hide\n",
    "# g = g.reset_index(['date'])"
   ]
  },
  {
   "cell_type": "code",
   "execution_count": 25,
   "id": "incomplete-mustang",
   "metadata": {
    "execution": {
     "iopub.execute_input": "2021-10-23T00:24:21.289115Z",
     "iopub.status.busy": "2021-10-23T00:24:21.288377Z",
     "iopub.status.idle": "2021-10-23T00:24:21.291317Z",
     "shell.execute_reply": "2021-10-23T00:24:21.290575Z"
    },
    "papermill": {
     "duration": 0.046093,
     "end_time": "2021-10-23T00:24:21.291450",
     "exception": false,
     "start_time": "2021-10-23T00:24:21.245357",
     "status": "completed"
    },
    "tags": []
   },
   "outputs": [],
   "source": [
    "#hide\n",
    "# g.head()"
   ]
  },
  {
   "cell_type": "code",
   "execution_count": 26,
   "id": "specific-kruger",
   "metadata": {
    "execution": {
     "iopub.execute_input": "2021-10-23T00:24:21.370790Z",
     "iopub.status.busy": "2021-10-23T00:24:21.370232Z",
     "iopub.status.idle": "2021-10-23T00:24:21.372555Z",
     "shell.execute_reply": "2021-10-23T00:24:21.373055Z"
    },
    "papermill": {
     "duration": 0.044527,
     "end_time": "2021-10-23T00:24:21.373229",
     "exception": false,
     "start_time": "2021-10-23T00:24:21.328702",
     "status": "completed"
    },
    "tags": []
   },
   "outputs": [],
   "source": [
    "#hide\n",
    "# g.columns = ['date','country','cases']"
   ]
  },
  {
   "cell_type": "code",
   "execution_count": 27,
   "id": "tender-conversion",
   "metadata": {
    "execution": {
     "iopub.execute_input": "2021-10-23T00:24:21.447361Z",
     "iopub.status.busy": "2021-10-23T00:24:21.446764Z",
     "iopub.status.idle": "2021-10-23T00:24:21.449550Z",
     "shell.execute_reply": "2021-10-23T00:24:21.449085Z"
    },
    "papermill": {
     "duration": 0.041212,
     "end_time": "2021-10-23T00:24:21.449649",
     "exception": false,
     "start_time": "2021-10-23T00:24:21.408437",
     "status": "completed"
    },
    "tags": []
   },
   "outputs": [],
   "source": [
    "#hide\n",
    "# g['continent'] = g.country"
   ]
  },
  {
   "cell_type": "code",
   "execution_count": 28,
   "id": "substantial-wilderness",
   "metadata": {
    "execution": {
     "iopub.execute_input": "2021-10-23T00:24:21.525058Z",
     "iopub.status.busy": "2021-10-23T00:24:21.524476Z",
     "iopub.status.idle": "2021-10-23T00:24:21.526624Z",
     "shell.execute_reply": "2021-10-23T00:24:21.527343Z"
    },
    "papermill": {
     "duration": 0.041705,
     "end_time": "2021-10-23T00:24:21.527491",
     "exception": false,
     "start_time": "2021-10-23T00:24:21.485786",
     "status": "completed"
    },
    "tags": []
   },
   "outputs": [],
   "source": [
    "#hide\n",
    "# cols = list(g.columns.values)"
   ]
  },
  {
   "cell_type": "code",
   "execution_count": 29,
   "id": "solved-farming",
   "metadata": {
    "execution": {
     "iopub.execute_input": "2021-10-23T00:24:21.598940Z",
     "iopub.status.busy": "2021-10-23T00:24:21.598381Z",
     "iopub.status.idle": "2021-10-23T00:24:21.600468Z",
     "shell.execute_reply": "2021-10-23T00:24:21.600918Z"
    },
    "papermill": {
     "duration": 0.039949,
     "end_time": "2021-10-23T00:24:21.601058",
     "exception": false,
     "start_time": "2021-10-23T00:24:21.561109",
     "status": "completed"
    },
    "tags": []
   },
   "outputs": [],
   "source": [
    "#hide\n",
    "# cols.insert(0, cols.pop())"
   ]
  },
  {
   "cell_type": "code",
   "execution_count": 30,
   "id": "executed-adoption",
   "metadata": {
    "execution": {
     "iopub.execute_input": "2021-10-23T00:24:21.670983Z",
     "iopub.status.busy": "2021-10-23T00:24:21.670449Z",
     "iopub.status.idle": "2021-10-23T00:24:21.672754Z",
     "shell.execute_reply": "2021-10-23T00:24:21.672291Z"
    },
    "papermill": {
     "duration": 0.038259,
     "end_time": "2021-10-23T00:24:21.672852",
     "exception": false,
     "start_time": "2021-10-23T00:24:21.634593",
     "status": "completed"
    },
    "tags": []
   },
   "outputs": [],
   "source": [
    "#hide\n",
    "# g = g[cols]"
   ]
  },
  {
   "cell_type": "code",
   "execution_count": 31,
   "id": "subject-dublin",
   "metadata": {
    "execution": {
     "iopub.execute_input": "2021-10-23T00:24:21.758048Z",
     "iopub.status.busy": "2021-10-23T00:24:21.757484Z",
     "iopub.status.idle": "2021-10-23T00:24:21.759895Z",
     "shell.execute_reply": "2021-10-23T00:24:21.760575Z"
    },
    "papermill": {
     "duration": 0.043373,
     "end_time": "2021-10-23T00:24:21.760710",
     "exception": false,
     "start_time": "2021-10-23T00:24:21.717337",
     "status": "completed"
    },
    "tags": []
   },
   "outputs": [],
   "source": [
    "#hide\n",
    "# g['continent'] = g['continent'].map(mapping['map.continent'])"
   ]
  },
  {
   "cell_type": "code",
   "execution_count": 32,
   "id": "freelance-scout",
   "metadata": {
    "execution": {
     "iopub.execute_input": "2021-10-23T00:24:21.837873Z",
     "iopub.status.busy": "2021-10-23T00:24:21.837263Z",
     "iopub.status.idle": "2021-10-23T00:24:21.839051Z",
     "shell.execute_reply": "2021-10-23T00:24:21.839504Z"
    },
    "papermill": {
     "duration": 0.040956,
     "end_time": "2021-10-23T00:24:21.839623",
     "exception": false,
     "start_time": "2021-10-23T00:24:21.798667",
     "status": "completed"
    },
    "tags": []
   },
   "outputs": [],
   "source": [
    "#hide\n",
    "# g.head()"
   ]
  },
  {
   "cell_type": "code",
   "execution_count": 33,
   "id": "limited-engine",
   "metadata": {
    "execution": {
     "iopub.execute_input": "2021-10-23T00:24:21.911974Z",
     "iopub.status.busy": "2021-10-23T00:24:21.911389Z",
     "iopub.status.idle": "2021-10-23T00:24:21.913431Z",
     "shell.execute_reply": "2021-10-23T00:24:21.913895Z"
    },
    "papermill": {
     "duration": 0.039885,
     "end_time": "2021-10-23T00:24:21.914004",
     "exception": false,
     "start_time": "2021-10-23T00:24:21.874119",
     "status": "completed"
    },
    "tags": []
   },
   "outputs": [],
   "source": [
    "# hide\n",
    "# g['date'] = g['date'].astype('datetime64[ns]')"
   ]
  },
  {
   "cell_type": "code",
   "execution_count": 34,
   "id": "sophisticated-supervisor",
   "metadata": {
    "execution": {
     "iopub.execute_input": "2021-10-23T00:24:21.984220Z",
     "iopub.status.busy": "2021-10-23T00:24:21.983529Z",
     "iopub.status.idle": "2021-10-23T00:24:21.985660Z",
     "shell.execute_reply": "2021-10-23T00:24:21.986105Z"
    },
    "papermill": {
     "duration": 0.038649,
     "end_time": "2021-10-23T00:24:21.986249",
     "exception": false,
     "start_time": "2021-10-23T00:24:21.947600",
     "status": "completed"
    },
    "tags": []
   },
   "outputs": [],
   "source": [
    "#hide\n",
    "# g['date'] = g.date.dt.dayofyear"
   ]
  },
  {
   "cell_type": "code",
   "execution_count": 35,
   "id": "inside-dubai",
   "metadata": {
    "execution": {
     "iopub.execute_input": "2021-10-23T00:24:22.062986Z",
     "iopub.status.busy": "2021-10-23T00:24:22.062133Z",
     "iopub.status.idle": "2021-10-23T00:24:22.066529Z",
     "shell.execute_reply": "2021-10-23T00:24:22.066056Z"
    },
    "papermill": {
     "duration": 0.04543,
     "end_time": "2021-10-23T00:24:22.066658",
     "exception": false,
     "start_time": "2021-10-23T00:24:22.021228",
     "status": "completed"
    },
    "tags": []
   },
   "outputs": [],
   "source": [
    "#hide\n",
    "# g = g.rename(columns= {'continent':'group','country':'name','cases':'value'})"
   ]
  },
  {
   "cell_type": "code",
   "execution_count": 36,
   "id": "fleet-motorcycle",
   "metadata": {
    "execution": {
     "iopub.execute_input": "2021-10-23T00:24:22.141083Z",
     "iopub.status.busy": "2021-10-23T00:24:22.140543Z",
     "iopub.status.idle": "2021-10-23T00:24:22.142482Z",
     "shell.execute_reply": "2021-10-23T00:24:22.142937Z"
    },
    "papermill": {
     "duration": 0.039732,
     "end_time": "2021-10-23T00:24:22.143046",
     "exception": false,
     "start_time": "2021-10-23T00:24:22.103314",
     "status": "completed"
    },
    "tags": []
   },
   "outputs": [],
   "source": [
    "#hide\n",
    "# cols = ['name','group','day','value']"
   ]
  },
  {
   "cell_type": "code",
   "execution_count": 37,
   "id": "continued-sleeping",
   "metadata": {
    "execution": {
     "iopub.execute_input": "2021-10-23T00:24:22.215895Z",
     "iopub.status.busy": "2021-10-23T00:24:22.215272Z",
     "iopub.status.idle": "2021-10-23T00:24:22.217369Z",
     "shell.execute_reply": "2021-10-23T00:24:22.217919Z"
    },
    "papermill": {
     "duration": 0.042668,
     "end_time": "2021-10-23T00:24:22.218044",
     "exception": false,
     "start_time": "2021-10-23T00:24:22.175376",
     "status": "completed"
    },
    "tags": []
   },
   "outputs": [],
   "source": [
    "#hide\n",
    "# g.rename(columns= {'date':'day'},inplace = True)"
   ]
  },
  {
   "cell_type": "code",
   "execution_count": 38,
   "id": "major-fight",
   "metadata": {
    "execution": {
     "iopub.execute_input": "2021-10-23T00:24:22.297805Z",
     "iopub.status.busy": "2021-10-23T00:24:22.297174Z",
     "iopub.status.idle": "2021-10-23T00:24:22.299079Z",
     "shell.execute_reply": "2021-10-23T00:24:22.299602Z"
    },
    "papermill": {
     "duration": 0.044294,
     "end_time": "2021-10-23T00:24:22.299766",
     "exception": false,
     "start_time": "2021-10-23T00:24:22.255472",
     "status": "completed"
    },
    "tags": []
   },
   "outputs": [],
   "source": [
    "#hide\n",
    "# g = g[cols]"
   ]
  },
  {
   "cell_type": "code",
   "execution_count": 39,
   "id": "structured-mobile",
   "metadata": {
    "execution": {
     "iopub.execute_input": "2021-10-23T00:24:22.373387Z",
     "iopub.status.busy": "2021-10-23T00:24:22.372690Z",
     "iopub.status.idle": "2021-10-23T00:24:22.374756Z",
     "shell.execute_reply": "2021-10-23T00:24:22.375346Z"
    },
    "papermill": {
     "duration": 0.040085,
     "end_time": "2021-10-23T00:24:22.375493",
     "exception": false,
     "start_time": "2021-10-23T00:24:22.335408",
     "status": "completed"
    },
    "tags": []
   },
   "outputs": [],
   "source": [
    "# #hide\n",
    "# g = g[g.group.notna()]"
   ]
  },
  {
   "cell_type": "code",
   "execution_count": 40,
   "id": "determined-closing",
   "metadata": {
    "execution": {
     "iopub.execute_input": "2021-10-23T00:24:22.452721Z",
     "iopub.status.busy": "2021-10-23T00:24:22.451951Z",
     "iopub.status.idle": "2021-10-23T00:24:22.454653Z",
     "shell.execute_reply": "2021-10-23T00:24:22.453895Z"
    },
    "papermill": {
     "duration": 0.042018,
     "end_time": "2021-10-23T00:24:22.454798",
     "exception": false,
     "start_time": "2021-10-23T00:24:22.412780",
     "status": "completed"
    },
    "tags": []
   },
   "outputs": [],
   "source": [
    "# #hide\n",
    "# colors = dict(zip(\n",
    "#     [\"Oceania\", \"Europe\", \"Asia\", \"South America\", \"Middle East\", \"North America\", \"Africa\"],\n",
    "#     [\"#adb0ff\", \"#ffb3ff\", \"#90d595\", \"#e48381\", \"#aafbff\", \"#f7bb5f\", \"#eafb50\"]\n",
    "# ))\n",
    "# group_lk = g.set_index('name')['group'].to_dict()"
   ]
  },
  {
   "cell_type": "code",
   "execution_count": null,
   "id": "gross-drinking",
   "metadata": {
    "papermill": {
     "duration": 0.035567,
     "end_time": "2021-10-23T00:24:22.526225",
     "exception": false,
     "start_time": "2021-10-23T00:24:22.490658",
     "status": "completed"
    },
    "tags": []
   },
   "outputs": [],
   "source": []
  },
  {
   "cell_type": "code",
   "execution_count": 41,
   "id": "subject-macintosh",
   "metadata": {
    "execution": {
     "iopub.execute_input": "2021-10-23T00:24:22.599502Z",
     "iopub.status.busy": "2021-10-23T00:24:22.598942Z",
     "iopub.status.idle": "2021-10-23T00:24:22.601068Z",
     "shell.execute_reply": "2021-10-23T00:24:22.601562Z"
    },
    "papermill": {
     "duration": 0.040608,
     "end_time": "2021-10-23T00:24:22.601680",
     "exception": false,
     "start_time": "2021-10-23T00:24:22.561072",
     "status": "completed"
    },
    "tags": []
   },
   "outputs": [],
   "source": [
    "# #hide\n",
    "# fig, ax = plt.subplots(figsize=(15, 8))\n",
    "\n",
    "# def draw_barchart(current_day):\n",
    "#     dff = g[g['day'].eq(current_day)].sort_values(by='value', ascending=True).tail(10)\n",
    "#     ax.clear()\n",
    "#     ax.barh(dff['name'], dff['value'], color=[colors[group_lk[x]] for x in dff['name']])\n",
    "#     dx = dff['value'].max() / 200\n",
    "    \n",
    "#     for i, (value, name) in enumerate(zip(dff['value'], dff['name'])):\n",
    "#         ax.text(value-dx, i,     name,           size=14, weight=600, ha='right', va='bottom')\n",
    "#         ax.text(value-dx, i-.25, group_lk[name], size=10, color='#444444', ha='right', va='baseline')\n",
    "#         ax.text(value+dx, i,     f'{value:,.0f}',  size=14, ha='left',  va='center')\n",
    "#     ax.text(1, 0.4, current_day, transform=ax.transAxes, color='#777777', size=46, ha='right', weight=800)\n",
    "#     ax.text(0, 1.06, 'Population (thousands)', transform=ax.transAxes, size=12, color='#777777')\n",
    "#     ax.xaxis.set_major_formatter(ticker.StrMethodFormatter('{x:,.0f}'))\n",
    "#     ax.xaxis.set_ticks_position('top')\n",
    "#     ax.tick_params(axis='x', colors='#777777', labelsize=12)\n",
    "#     ax.set_yticks([])\n",
    "#     ax.margins(0, 0.01)\n",
    "#     ax.grid(which='major', axis='x', linestyle='-')\n",
    "#     ax.set_axisbelow(True)\n",
    "    \n",
    "#     ax.text(0, 1.15, 'Coronavirus',\n",
    "#             transform=ax.transAxes, size=24, weight=600, ha='left', va='top')\n",
    "# #     ax.text(1, 0, 'by @pratapvardhan; credit @jburnmurdoch', transform=ax.transAxes, color='#777777', ha='right',\n",
    "# #             bbox=dict(facecolor='white', alpha=0.8, edgecolor='white'))\n",
    "#     plt.box(False)"
   ]
  },
  {
   "cell_type": "code",
   "execution_count": 42,
   "id": "sexual-wages",
   "metadata": {
    "execution": {
     "iopub.execute_input": "2021-10-23T00:24:22.677419Z",
     "iopub.status.busy": "2021-10-23T00:24:22.676764Z",
     "iopub.status.idle": "2021-10-23T00:24:22.679084Z",
     "shell.execute_reply": "2021-10-23T00:24:22.679540Z"
    },
    "papermill": {
     "duration": 0.043021,
     "end_time": "2021-10-23T00:24:22.679660",
     "exception": false,
     "start_time": "2021-10-23T00:24:22.636639",
     "status": "completed"
    },
    "tags": []
   },
   "outputs": [],
   "source": [
    "# #hide_input\n",
    "# fig, ax = plt.subplots(figsize=(15, 8))\n",
    "# animator = animation.FuncAnimation(fig, draw_barchart, frames=range(g.day.values.min(), g.day.values.max()))\n",
    "# HTML(animator.to_jshtml())\n",
    "# # or use animator.to_html5_video() or animator.save() "
   ]
  },
  {
   "cell_type": "code",
   "execution_count": null,
   "id": "australian-container",
   "metadata": {
    "papermill": {
     "duration": 0.037395,
     "end_time": "2021-10-23T00:24:22.754189",
     "exception": false,
     "start_time": "2021-10-23T00:24:22.716794",
     "status": "completed"
    },
    "tags": []
   },
   "outputs": [],
   "source": []
  },
  {
   "cell_type": "code",
   "execution_count": null,
   "id": "mediterranean-pontiac",
   "metadata": {
    "papermill": {
     "duration": 0.034772,
     "end_time": "2021-10-23T00:24:22.828648",
     "exception": false,
     "start_time": "2021-10-23T00:24:22.793876",
     "status": "completed"
    },
    "tags": []
   },
   "outputs": [],
   "source": []
  },
  {
   "cell_type": "code",
   "execution_count": null,
   "id": "aging-legislature",
   "metadata": {
    "papermill": {
     "duration": 0.03659,
     "end_time": "2021-10-23T00:24:22.902271",
     "exception": false,
     "start_time": "2021-10-23T00:24:22.865681",
     "status": "completed"
    },
    "tags": []
   },
   "outputs": [],
   "source": []
  }
 ],
 "metadata": {
  "kernelspec": {
   "display_name": "Python 3",
   "language": "python",
   "name": "python3"
  },
  "language_info": {
   "codemirror_mode": {
    "name": "ipython",
    "version": 3
   },
   "file_extension": ".py",
   "mimetype": "text/x-python",
   "name": "python",
   "nbconvert_exporter": "python",
   "pygments_lexer": "ipython3",
   "version": "3.6.15"
  },
  "papermill": {
   "duration": 6.915851,
   "end_time": "2021-10-23T00:24:23.250125",
   "environment_variables": {},
   "exception": null,
   "input_path": "2020-03-21-covid19exp.ipynb",
   "output_path": "2020-03-21-covid19exp.ipynb",
   "parameters": {},
   "start_time": "2021-10-23T00:24:16.334274",
   "version": "2.0.0"
  }
 },
 "nbformat": 4,
 "nbformat_minor": 5
}