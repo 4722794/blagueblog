{
 "cells": [
  {
   "cell_type": "markdown",
   "id": "muslim-click",
   "metadata": {
    "papermill": {
     "duration": 0.042443,
     "end_time": "2021-06-17T12:11:10.521114",
     "exception": false,
     "start_time": "2021-06-17T12:11:10.478671",
     "status": "completed"
    },
    "tags": []
   },
   "source": [
    "# COVID-19 Case Race\n",
    "> A race chart to see rising cases around the world\n",
    "\n",
    "- author: Hargun Oberoi\n",
    "- image: images/covid-overview.png\n",
    "- hide: false\n",
    "- badges: false"
   ]
  },
  {
   "cell_type": "code",
   "execution_count": 1,
   "id": "proof-material",
   "metadata": {
    "execution": {
     "iopub.execute_input": "2021-06-17T12:11:10.602883Z",
     "iopub.status.busy": "2021-06-17T12:11:10.602176Z",
     "iopub.status.idle": "2021-06-17T12:11:10.972375Z",
     "shell.execute_reply": "2021-06-17T12:11:10.971615Z"
    },
    "papermill": {
     "duration": 0.415736,
     "end_time": "2021-06-17T12:11:10.972611",
     "exception": false,
     "start_time": "2021-06-17T12:11:10.556875",
     "status": "completed"
    },
    "tags": []
   },
   "outputs": [],
   "source": [
    "#hide\n",
    "import numpy as np\n",
    "import pandas as pd\n",
    "from jinja2 import Template\n",
    "from IPython.display import HTML"
   ]
  },
  {
   "cell_type": "code",
   "execution_count": 2,
   "id": "developed-terminology",
   "metadata": {
    "execution": {
     "iopub.execute_input": "2021-06-17T12:11:11.052521Z",
     "iopub.status.busy": "2021-06-17T12:11:11.051776Z",
     "iopub.status.idle": "2021-06-17T12:11:11.053773Z",
     "shell.execute_reply": "2021-06-17T12:11:11.054429Z"
    },
    "papermill": {
     "duration": 0.043561,
     "end_time": "2021-06-17T12:11:11.054558",
     "exception": false,
     "start_time": "2021-06-17T12:11:11.010997",
     "status": "completed"
    },
    "tags": []
   },
   "outputs": [],
   "source": [
    "#hide\n",
    "\n",
    "# FETCH\n",
    "base_url = 'https://raw.githubusercontent.com/pratapvardhan/notebooks/master/covid19/'\n",
    "paths = {\n",
    "    'mapping': base_url + 'mapping_countries.csv',\n",
    "    'overview': base_url + 'overview.tpl'\n",
    "}"
   ]
  },
  {
   "cell_type": "code",
   "execution_count": 3,
   "id": "dynamic-saver",
   "metadata": {
    "execution": {
     "iopub.execute_input": "2021-06-17T12:11:11.137789Z",
     "iopub.status.busy": "2021-06-17T12:11:11.137120Z",
     "iopub.status.idle": "2021-06-17T12:11:11.139990Z",
     "shell.execute_reply": "2021-06-17T12:11:11.140506Z"
    },
    "papermill": {
     "duration": 0.049067,
     "end_time": "2021-06-17T12:11:11.140644",
     "exception": false,
     "start_time": "2021-06-17T12:11:11.091577",
     "status": "completed"
    },
    "tags": []
   },
   "outputs": [
    {
     "data": {
      "text/plain": [
       "'https://raw.githubusercontent.com/pratapvardhan/notebooks/master/covid19/mapping_countries.csv'"
      ]
     },
     "execution_count": 3,
     "metadata": {},
     "output_type": "execute_result"
    }
   ],
   "source": [
    "#hide\n",
    "paths['mapping']"
   ]
  },
  {
   "cell_type": "code",
   "execution_count": 4,
   "id": "urban-software",
   "metadata": {
    "execution": {
     "iopub.execute_input": "2021-06-17T12:11:11.219004Z",
     "iopub.status.busy": "2021-06-17T12:11:11.218303Z",
     "iopub.status.idle": "2021-06-17T12:11:11.220777Z",
     "shell.execute_reply": "2021-06-17T12:11:11.220217Z"
    },
    "papermill": {
     "duration": 0.044384,
     "end_time": "2021-06-17T12:11:11.220900",
     "exception": false,
     "start_time": "2021-06-17T12:11:11.176516",
     "status": "completed"
    },
    "tags": []
   },
   "outputs": [],
   "source": [
    "#hide\n",
    "def get_mappings(url):\n",
    "    df = pd.read_csv(url)\n",
    "    return {\n",
    "        'df': df,\n",
    "        'replace.country': dict(df.dropna(subset=['Name']).set_index('Country')['Name']),\n",
    "        'map.continent': dict(df.set_index('Name')['Continent'])\n",
    "    }"
   ]
  },
  {
   "cell_type": "code",
   "execution_count": 5,
   "id": "intimate-machinery",
   "metadata": {
    "execution": {
     "iopub.execute_input": "2021-06-17T12:11:11.297421Z",
     "iopub.status.busy": "2021-06-17T12:11:11.296808Z",
     "iopub.status.idle": "2021-06-17T12:11:11.368949Z",
     "shell.execute_reply": "2021-06-17T12:11:11.368348Z"
    },
    "papermill": {
     "duration": 0.112988,
     "end_time": "2021-06-17T12:11:11.369080",
     "exception": false,
     "start_time": "2021-06-17T12:11:11.256092",
     "status": "completed"
    },
    "tags": []
   },
   "outputs": [],
   "source": [
    "#hide\n",
    "mapping = get_mappings(paths['mapping'])"
   ]
  },
  {
   "cell_type": "code",
   "execution_count": 6,
   "id": "certified-tactics",
   "metadata": {
    "execution": {
     "iopub.execute_input": "2021-06-17T12:11:11.445899Z",
     "iopub.status.busy": "2021-06-17T12:11:11.445238Z",
     "iopub.status.idle": "2021-06-17T12:11:11.448447Z",
     "shell.execute_reply": "2021-06-17T12:11:11.447922Z"
    },
    "papermill": {
     "duration": 0.04377,
     "end_time": "2021-06-17T12:11:11.448554",
     "exception": false,
     "start_time": "2021-06-17T12:11:11.404784",
     "status": "completed"
    },
    "tags": []
   },
   "outputs": [],
   "source": [
    "#hide\n",
    "def get_template(path):\n",
    "    from urllib.parse import urlparse\n",
    "    if bool(urlparse(path).netloc):\n",
    "        from urllib.request import urlopen\n",
    "        return urlopen(path).read().decode('utf8')\n",
    "    return open(path).read()"
   ]
  },
  {
   "cell_type": "code",
   "execution_count": 7,
   "id": "realistic-blast",
   "metadata": {
    "execution": {
     "iopub.execute_input": "2021-06-17T12:11:11.526423Z",
     "iopub.status.busy": "2021-06-17T12:11:11.525770Z",
     "iopub.status.idle": "2021-06-17T12:11:11.527987Z",
     "shell.execute_reply": "2021-06-17T12:11:11.528660Z"
    },
    "papermill": {
     "duration": 0.043797,
     "end_time": "2021-06-17T12:11:11.528781",
     "exception": false,
     "start_time": "2021-06-17T12:11:11.484984",
     "status": "completed"
    },
    "tags": []
   },
   "outputs": [],
   "source": [
    "#hide\n",
    "def get_frame(name):\n",
    "    url = (\n",
    "        'https://raw.githubusercontent.com/CSSEGISandData/COVID-19/master/csse_covid_19_data/'\n",
    "        f'csse_covid_19_time_series/time_series_covid19_{name}_global.csv')\n",
    "    df = pd.read_csv(url)\n",
    "    # rename countries\n",
    "    df['Country/Region'] = df['Country/Region'].replace(mapping['replace.country'])\n",
    "    return df"
   ]
  },
  {
   "cell_type": "code",
   "execution_count": 8,
   "id": "affiliated-characterization",
   "metadata": {
    "execution": {
     "iopub.execute_input": "2021-06-17T12:11:11.605871Z",
     "iopub.status.busy": "2021-06-17T12:11:11.605174Z",
     "iopub.status.idle": "2021-06-17T12:11:11.607055Z",
     "shell.execute_reply": "2021-06-17T12:11:11.607593Z"
    },
    "papermill": {
     "duration": 0.043338,
     "end_time": "2021-06-17T12:11:11.607712",
     "exception": false,
     "start_time": "2021-06-17T12:11:11.564374",
     "status": "completed"
    },
    "tags": []
   },
   "outputs": [],
   "source": [
    "#hide\n",
    "def get_dates(df):\n",
    "    dt_cols = df.columns[~df.columns.isin(['Province/State', 'Country/Region', 'Lat', 'Long'])]\n",
    "    LAST_DATE_I = -1\n",
    "    # sometimes last column may be empty, then go backwards\n",
    "    for i in range(-1, -len(dt_cols), -1):\n",
    "        if not df[dt_cols[i]].fillna(0).eq(0).all():\n",
    "            LAST_DATE_I = i\n",
    "            break\n",
    "    return LAST_DATE_I, dt_cols"
   ]
  },
  {
   "cell_type": "code",
   "execution_count": 9,
   "id": "recent-optimization",
   "metadata": {
    "execution": {
     "iopub.execute_input": "2021-06-17T12:11:11.691395Z",
     "iopub.status.busy": "2021-06-17T12:11:11.690690Z",
     "iopub.status.idle": "2021-06-17T12:11:12.259054Z",
     "shell.execute_reply": "2021-06-17T12:11:12.258477Z"
    },
    "papermill": {
     "duration": 0.615835,
     "end_time": "2021-06-17T12:11:12.259187",
     "exception": false,
     "start_time": "2021-06-17T12:11:11.643352",
     "status": "completed"
    },
    "tags": []
   },
   "outputs": [],
   "source": [
    "#hide\n",
    "COL_REGION = 'Country/Region'\n",
    "# Confirmed, Recovered, Deaths\n",
    "df = get_frame('confirmed')\n",
    "# dft_: timeseries, dfc_: today country agg\n",
    "dft_cases = df\n",
    "dft_deaths = get_frame('deaths')\n",
    "dft_recovered = get_frame('recovered')\n",
    "LAST_DATE_I, dt_cols = get_dates(df)"
   ]
  },
  {
   "cell_type": "code",
   "execution_count": 10,
   "id": "absolute-copper",
   "metadata": {
    "execution": {
     "iopub.execute_input": "2021-06-17T12:11:12.335168Z",
     "iopub.status.busy": "2021-06-17T12:11:12.334550Z",
     "iopub.status.idle": "2021-06-17T12:11:12.336888Z",
     "shell.execute_reply": "2021-06-17T12:11:12.337507Z"
    },
    "papermill": {
     "duration": 0.043471,
     "end_time": "2021-06-17T12:11:12.337647",
     "exception": false,
     "start_time": "2021-06-17T12:11:12.294176",
     "status": "completed"
    },
    "tags": []
   },
   "outputs": [],
   "source": [
    "#hide\n",
    "LAST_DATE_I, dt_cols = get_dates(df)\n",
    "dt_today =dt_cols[LAST_DATE_I]\n",
    "# dt_5day = dt_cols[LAST_DATE_I - 5]\n",
    "dt_yday = dt_cols[LAST_DATE_I - 1]"
   ]
  },
  {
   "cell_type": "code",
   "execution_count": 11,
   "id": "restricted-sheriff",
   "metadata": {
    "execution": {
     "iopub.execute_input": "2021-06-17T12:11:12.413187Z",
     "iopub.status.busy": "2021-06-17T12:11:12.412521Z",
     "iopub.status.idle": "2021-06-17T12:11:12.421120Z",
     "shell.execute_reply": "2021-06-17T12:11:12.421635Z"
    },
    "papermill": {
     "duration": 0.049017,
     "end_time": "2021-06-17T12:11:12.421770",
     "exception": false,
     "start_time": "2021-06-17T12:11:12.372753",
     "status": "completed"
    },
    "tags": []
   },
   "outputs": [],
   "source": [
    "#hide\n",
    "dfc_cases = dft_cases.groupby(COL_REGION)[dt_today].sum()\n",
    "dfc_deaths = dft_deaths.groupby(COL_REGION)[dt_today].sum()\n",
    "# dfp_cases = dft_cases.groupby(COL_REGION)[dt_5day].sum()\n",
    "# dfp_deaths = dft_deaths.groupby(COL_REGION)[dt_5day].sum()\n",
    "dfp_cases = dft_cases.groupby(COL_REGION)[dt_yday].sum()\n",
    "dfp_deaths = dft_deaths.groupby(COL_REGION)[dt_yday].sum()"
   ]
  },
  {
   "cell_type": "code",
   "execution_count": 12,
   "id": "deluxe-hepatitis",
   "metadata": {
    "execution": {
     "iopub.execute_input": "2021-06-17T12:11:12.501485Z",
     "iopub.status.busy": "2021-06-17T12:11:12.500846Z",
     "iopub.status.idle": "2021-06-17T12:11:12.505487Z",
     "shell.execute_reply": "2021-06-17T12:11:12.506114Z"
    },
    "papermill": {
     "duration": 0.045065,
     "end_time": "2021-06-17T12:11:12.506232",
     "exception": false,
     "start_time": "2021-06-17T12:11:12.461167",
     "status": "completed"
    },
    "tags": []
   },
   "outputs": [],
   "source": [
    "#hide\n",
    "df_table = (pd.DataFrame(dict(Cases = dfc_cases, Deaths = dfc_deaths, PCases = dfp_cases, PDeaths = dfp_deaths))\n",
    "            .sort_values(by = ['Cases','Deaths'], ascending = [False, False])\n",
    "            .reset_index())"
   ]
  },
  {
   "cell_type": "code",
   "execution_count": 13,
   "id": "educational-chancellor",
   "metadata": {
    "execution": {
     "iopub.execute_input": "2021-06-17T12:11:12.596212Z",
     "iopub.status.busy": "2021-06-17T12:11:12.595543Z",
     "iopub.status.idle": "2021-06-17T12:11:12.604425Z",
     "shell.execute_reply": "2021-06-17T12:11:12.604935Z"
    },
    "papermill": {
     "duration": 0.063661,
     "end_time": "2021-06-17T12:11:12.605078",
     "exception": false,
     "start_time": "2021-06-17T12:11:12.541417",
     "status": "completed"
    },
    "tags": []
   },
   "outputs": [
    {
     "data": {
      "text/html": [
       "<div>\n",
       "<style scoped>\n",
       "    .dataframe tbody tr th:only-of-type {\n",
       "        vertical-align: middle;\n",
       "    }\n",
       "\n",
       "    .dataframe tbody tr th {\n",
       "        vertical-align: top;\n",
       "    }\n",
       "\n",
       "    .dataframe thead th {\n",
       "        text-align: right;\n",
       "    }\n",
       "</style>\n",
       "<table border=\"1\" class=\"dataframe\">\n",
       "  <thead>\n",
       "    <tr style=\"text-align: right;\">\n",
       "      <th></th>\n",
       "      <th>Country/Region</th>\n",
       "      <th>Cases</th>\n",
       "      <th>Deaths</th>\n",
       "      <th>PCases</th>\n",
       "      <th>PDeaths</th>\n",
       "      <th>Cases (+)</th>\n",
       "      <th>Deaths (+)</th>\n",
       "      <th>Fatality Rate</th>\n",
       "      <th>Continent</th>\n",
       "    </tr>\n",
       "  </thead>\n",
       "  <tbody>\n",
       "    <tr>\n",
       "      <th>0</th>\n",
       "      <td>US</td>\n",
       "      <td>33498468</td>\n",
       "      <td>600653</td>\n",
       "      <td>33486038</td>\n",
       "      <td>600285</td>\n",
       "      <td>12430</td>\n",
       "      <td>368</td>\n",
       "      <td>1.79</td>\n",
       "      <td>North America</td>\n",
       "    </tr>\n",
       "    <tr>\n",
       "      <th>1</th>\n",
       "      <td>India</td>\n",
       "      <td>29700313</td>\n",
       "      <td>381903</td>\n",
       "      <td>29633105</td>\n",
       "      <td>379573</td>\n",
       "      <td>67208</td>\n",
       "      <td>2330</td>\n",
       "      <td>1.29</td>\n",
       "      <td>Asia</td>\n",
       "    </tr>\n",
       "    <tr>\n",
       "      <th>2</th>\n",
       "      <td>Brazil</td>\n",
       "      <td>17628588</td>\n",
       "      <td>493693</td>\n",
       "      <td>17533221</td>\n",
       "      <td>490696</td>\n",
       "      <td>95367</td>\n",
       "      <td>2997</td>\n",
       "      <td>2.80</td>\n",
       "      <td>South America</td>\n",
       "    </tr>\n",
       "    <tr>\n",
       "      <th>3</th>\n",
       "      <td>France</td>\n",
       "      <td>5809319</td>\n",
       "      <td>110740</td>\n",
       "      <td>5806255</td>\n",
       "      <td>110692</td>\n",
       "      <td>3064</td>\n",
       "      <td>48</td>\n",
       "      <td>1.91</td>\n",
       "      <td>Europe</td>\n",
       "    </tr>\n",
       "    <tr>\n",
       "      <th>4</th>\n",
       "      <td>Turkey</td>\n",
       "      <td>5348249</td>\n",
       "      <td>48950</td>\n",
       "      <td>5342028</td>\n",
       "      <td>48879</td>\n",
       "      <td>6221</td>\n",
       "      <td>71</td>\n",
       "      <td>0.92</td>\n",
       "      <td>Asia</td>\n",
       "    </tr>\n",
       "  </tbody>\n",
       "</table>\n",
       "</div>"
      ],
      "text/plain": [
       "  Country/Region     Cases  Deaths    PCases  PDeaths  Cases (+)  Deaths (+)  \\\n",
       "0             US  33498468  600653  33486038   600285      12430         368   \n",
       "1          India  29700313  381903  29633105   379573      67208        2330   \n",
       "2         Brazil  17628588  493693  17533221   490696      95367        2997   \n",
       "3         France   5809319  110740   5806255   110692       3064          48   \n",
       "4         Turkey   5348249   48950   5342028    48879       6221          71   \n",
       "\n",
       "   Fatality Rate      Continent  \n",
       "0           1.79  North America  \n",
       "1           1.29           Asia  \n",
       "2           2.80  South America  \n",
       "3           1.91         Europe  \n",
       "4           0.92           Asia  "
      ]
     },
     "execution_count": 13,
     "metadata": {},
     "output_type": "execute_result"
    }
   ],
   "source": [
    "#hide\n",
    "for c in 'Cases, Deaths'.split(', '):\n",
    "    df_table[f'{c} (+)'] = (df_table[c] - df_table[f'P{c}']).clip(0)\n",
    "    #Clip ça veut dire, les chiffres negatif sont interdit\n",
    "df_table['Fatality Rate'] = (100* df_table['Deaths']/ df_table['Cases']).round(2)\n",
    "df_table['Continent'] = df_table['Country/Region'].map(mapping['map.continent'])\n",
    "df_table.head(5)"
   ]
  },
  {
   "cell_type": "code",
   "execution_count": 14,
   "id": "aboriginal-bulgaria",
   "metadata": {
    "execution": {
     "iopub.execute_input": "2021-06-17T12:11:12.684962Z",
     "iopub.status.busy": "2021-06-17T12:11:12.684334Z",
     "iopub.status.idle": "2021-06-17T12:11:12.686204Z",
     "shell.execute_reply": "2021-06-17T12:11:12.686715Z"
    },
    "papermill": {
     "duration": 0.044594,
     "end_time": "2021-06-17T12:11:12.686841",
     "exception": false,
     "start_time": "2021-06-17T12:11:12.642247",
     "status": "completed"
    },
    "tags": []
   },
   "outputs": [],
   "source": [
    "#hide\n",
    "#delete problematic countries from table\n",
    "df_table = df_table[~df_table['Country/Region'].isin(['Cape Verde', 'Cruise Ship', 'Kosovo'])]"
   ]
  },
  {
   "cell_type": "code",
   "execution_count": 15,
   "id": "fantastic-effect",
   "metadata": {
    "execution": {
     "iopub.execute_input": "2021-06-17T12:11:12.771704Z",
     "iopub.status.busy": "2021-06-17T12:11:12.770874Z",
     "iopub.status.idle": "2021-06-17T12:11:12.801079Z",
     "shell.execute_reply": "2021-06-17T12:11:12.800437Z"
    },
    "papermill": {
     "duration": 0.078368,
     "end_time": "2021-06-17T12:11:12.801202",
     "exception": false,
     "start_time": "2021-06-17T12:11:12.722834",
     "status": "completed"
    },
    "tags": []
   },
   "outputs": [
    {
     "data": {
      "text/html": [
       "<div>\n",
       "<style scoped>\n",
       "    .dataframe tbody tr th:only-of-type {\n",
       "        vertical-align: middle;\n",
       "    }\n",
       "\n",
       "    .dataframe tbody tr th {\n",
       "        vertical-align: top;\n",
       "    }\n",
       "\n",
       "    .dataframe thead th {\n",
       "        text-align: right;\n",
       "    }\n",
       "</style>\n",
       "<table border=\"1\" class=\"dataframe\">\n",
       "  <thead>\n",
       "    <tr style=\"text-align: right;\">\n",
       "      <th></th>\n",
       "      <th>Country/Region</th>\n",
       "      <th>Cases</th>\n",
       "      <th>Deaths</th>\n",
       "      <th>PCases</th>\n",
       "      <th>PDeaths</th>\n",
       "      <th>Cases (+)</th>\n",
       "      <th>Deaths (+)</th>\n",
       "      <th>Fatality Rate</th>\n",
       "      <th>Continent</th>\n",
       "    </tr>\n",
       "  </thead>\n",
       "  <tbody>\n",
       "    <tr>\n",
       "      <th>0</th>\n",
       "      <td>US</td>\n",
       "      <td>33498468</td>\n",
       "      <td>600653</td>\n",
       "      <td>33486038</td>\n",
       "      <td>600285</td>\n",
       "      <td>12430</td>\n",
       "      <td>368</td>\n",
       "      <td>1.8</td>\n",
       "      <td>North America</td>\n",
       "    </tr>\n",
       "    <tr>\n",
       "      <th>1</th>\n",
       "      <td>India</td>\n",
       "      <td>29700313</td>\n",
       "      <td>381903</td>\n",
       "      <td>29633105</td>\n",
       "      <td>379573</td>\n",
       "      <td>67208</td>\n",
       "      <td>2330</td>\n",
       "      <td>1.3</td>\n",
       "      <td>Asia</td>\n",
       "    </tr>\n",
       "    <tr>\n",
       "      <th>2</th>\n",
       "      <td>Brazil</td>\n",
       "      <td>17628588</td>\n",
       "      <td>493693</td>\n",
       "      <td>17533221</td>\n",
       "      <td>490696</td>\n",
       "      <td>95367</td>\n",
       "      <td>2997</td>\n",
       "      <td>2.8</td>\n",
       "      <td>South America</td>\n",
       "    </tr>\n",
       "    <tr>\n",
       "      <th>3</th>\n",
       "      <td>France</td>\n",
       "      <td>5809319</td>\n",
       "      <td>110740</td>\n",
       "      <td>5806255</td>\n",
       "      <td>110692</td>\n",
       "      <td>3064</td>\n",
       "      <td>48</td>\n",
       "      <td>1.9</td>\n",
       "      <td>Europe</td>\n",
       "    </tr>\n",
       "    <tr>\n",
       "      <th>4</th>\n",
       "      <td>Turkey</td>\n",
       "      <td>5348249</td>\n",
       "      <td>48950</td>\n",
       "      <td>5342028</td>\n",
       "      <td>48879</td>\n",
       "      <td>6221</td>\n",
       "      <td>71</td>\n",
       "      <td>0.9</td>\n",
       "      <td>Asia</td>\n",
       "    </tr>\n",
       "  </tbody>\n",
       "</table>\n",
       "</div>"
      ],
      "text/plain": [
       "  Country/Region     Cases  Deaths    PCases  PDeaths  Cases (+)  Deaths (+)  \\\n",
       "0             US  33498468  600653  33486038   600285      12430         368   \n",
       "1          India  29700313  381903  29633105   379573      67208        2330   \n",
       "2         Brazil  17628588  493693  17533221   490696      95367        2997   \n",
       "3         France   5809319  110740   5806255   110692       3064          48   \n",
       "4         Turkey   5348249   48950   5342028    48879       6221          71   \n",
       "\n",
       "   Fatality Rate      Continent  \n",
       "0            1.8  North America  \n",
       "1            1.3           Asia  \n",
       "2            2.8  South America  \n",
       "3            1.9         Europe  \n",
       "4            0.9           Asia  "
      ]
     },
     "execution_count": 15,
     "metadata": {},
     "output_type": "execute_result"
    }
   ],
   "source": [
    "#hide\n",
    "df_table = (pd.DataFrame(dict(Cases=dfc_cases, Deaths=dfc_deaths, PCases=dfp_cases, PDeaths=dfp_deaths))\n",
    "             .sort_values(by=['Cases', 'Deaths'], ascending=[False, False])\n",
    "             .reset_index())\n",
    "df_table.rename(columns={'index': 'Country/Region'}, inplace=True)\n",
    "for c in 'Cases, Deaths'.split(', '):\n",
    "    df_table[f'{c} (+)'] = (df_table[c] - df_table[f'P{c}']).clip(0)  # DATA BUG\n",
    "df_table['Fatality Rate'] = (100 * df_table['Deaths'] / df_table['Cases']).round(1)\n",
    "df_table['Continent'] = df_table['Country/Region'].map(mapping['map.continent'])\n",
    "df_table.head(5)"
   ]
  },
  {
   "cell_type": "code",
   "execution_count": 16,
   "id": "fewer-occasion",
   "metadata": {
    "execution": {
     "iopub.execute_input": "2021-06-17T12:11:12.880530Z",
     "iopub.status.busy": "2021-06-17T12:11:12.879810Z",
     "iopub.status.idle": "2021-06-17T12:11:12.882748Z",
     "shell.execute_reply": "2021-06-17T12:11:12.882234Z"
    },
    "papermill": {
     "duration": 0.043717,
     "end_time": "2021-06-17T12:11:12.882858",
     "exception": false,
     "start_time": "2021-06-17T12:11:12.839141",
     "status": "completed"
    },
    "tags": []
   },
   "outputs": [],
   "source": [
    "#hide\n",
    "#delete problematic countries from table\n",
    "df_table = df_table[~df_table['Country/Region'].isin(['Cape Verde', 'Cruise Ship', 'Kosovo'])]"
   ]
  },
  {
   "cell_type": "code",
   "execution_count": 17,
   "id": "related-center",
   "metadata": {
    "execution": {
     "iopub.execute_input": "2021-06-17T12:11:12.960894Z",
     "iopub.status.busy": "2021-06-17T12:11:12.960270Z",
     "iopub.status.idle": "2021-06-17T12:11:12.975352Z",
     "shell.execute_reply": "2021-06-17T12:11:12.974867Z"
    },
    "papermill": {
     "duration": 0.057257,
     "end_time": "2021-06-17T12:11:12.975459",
     "exception": false,
     "start_time": "2021-06-17T12:11:12.918202",
     "status": "completed"
    },
    "tags": []
   },
   "outputs": [],
   "source": [
    "#hide\n",
    "metrics = [df_table.columns[index] for index in [1,2,5,6]]\n",
    "# s_china = df_table[df_table['Country/Region'].eq('China')][metrics].sum().add_prefix('China ')\n",
    "s_us = df_table[df_table['Country/Region'].eq('US')][metrics].sum().add_prefix('US ')\n",
    "s_eu = df_table[df_table['Continent'].eq('Europe')][metrics].sum().add_prefix('EU ')\n",
    "s_ind = df_table[df_table['Country/Region'].eq('India')][metrics].sum().add_prefix('India ')\n",
    "summary = {'updated': pd.to_datetime(dt_today), 'since': pd.to_datetime(dt_yday)}\n",
    "summary = {'updated': pd.to_datetime(dt_today), 'since': pd.to_datetime(dt_yday)}\n",
    "summary = {**summary, **df_table[metrics].sum(), **s_ind, **s_us, **s_eu}"
   ]
  },
  {
   "cell_type": "code",
   "execution_count": 18,
   "id": "engaging-syndrome",
   "metadata": {
    "execution": {
     "iopub.execute_input": "2021-06-17T12:11:13.052059Z",
     "iopub.status.busy": "2021-06-17T12:11:13.051360Z",
     "iopub.status.idle": "2021-06-17T12:11:13.065911Z",
     "shell.execute_reply": "2021-06-17T12:11:13.065310Z"
    },
    "papermill": {
     "duration": 0.054428,
     "end_time": "2021-06-17T12:11:13.066020",
     "exception": false,
     "start_time": "2021-06-17T12:11:13.011592",
     "status": "completed"
    },
    "tags": []
   },
   "outputs": [],
   "source": [
    "#hide\n",
    "dft_ct_new_cases = dft_cases.groupby(COL_REGION)[dt_cols].sum().diff(axis=1).fillna(0).astype(int)"
   ]
  },
  {
   "cell_type": "code",
   "execution_count": 19,
   "id": "neutral-assignment",
   "metadata": {
    "execution": {
     "iopub.execute_input": "2021-06-17T12:11:13.157478Z",
     "iopub.status.busy": "2021-06-17T12:11:13.156799Z",
     "iopub.status.idle": "2021-06-17T12:11:13.159239Z",
     "shell.execute_reply": "2021-06-17T12:11:13.158732Z"
    },
    "papermill": {
     "duration": 0.049504,
     "end_time": "2021-06-17T12:11:13.159383",
     "exception": false,
     "start_time": "2021-06-17T12:11:13.109879",
     "status": "completed"
    },
    "tags": []
   },
   "outputs": [],
   "source": [
    "#hide\n",
    "everydaycases = dft_ct_new_cases.cumsum(axis=1)"
   ]
  },
  {
   "cell_type": "code",
   "execution_count": 20,
   "id": "parliamentary-calgary",
   "metadata": {
    "execution": {
     "iopub.execute_input": "2021-06-17T12:11:13.237938Z",
     "iopub.status.busy": "2021-06-17T12:11:13.237262Z",
     "iopub.status.idle": "2021-06-17T12:11:13.854467Z",
     "shell.execute_reply": "2021-06-17T12:11:13.853876Z"
    },
    "papermill": {
     "duration": 0.657621,
     "end_time": "2021-06-17T12:11:13.854603",
     "exception": false,
     "start_time": "2021-06-17T12:11:13.196982",
     "status": "completed"
    },
    "tags": []
   },
   "outputs": [],
   "source": [
    "#hide\n",
    "import pandas as pd\n",
    "import matplotlib.pyplot as plt\n",
    "import matplotlib.ticker as ticker\n",
    "import matplotlib.animation as animation\n",
    "from IPython.display import HTML"
   ]
  },
  {
   "cell_type": "code",
   "execution_count": 21,
   "id": "lasting-extraction",
   "metadata": {
    "execution": {
     "iopub.execute_input": "2021-06-17T12:11:13.935124Z",
     "iopub.status.busy": "2021-06-17T12:11:13.934431Z",
     "iopub.status.idle": "2021-06-17T12:11:13.940234Z",
     "shell.execute_reply": "2021-06-17T12:11:13.940798Z"
    },
    "papermill": {
     "duration": 0.047932,
     "end_time": "2021-06-17T12:11:13.940923",
     "exception": false,
     "start_time": "2021-06-17T12:11:13.892991",
     "status": "completed"
    },
    "tags": []
   },
   "outputs": [],
   "source": [
    "#hide\n",
    "t = everydaycases.stack()"
   ]
  },
  {
   "cell_type": "code",
   "execution_count": 22,
   "id": "premier-sleeve",
   "metadata": {
    "execution": {
     "iopub.execute_input": "2021-06-17T12:11:14.017200Z",
     "iopub.status.busy": "2021-06-17T12:11:14.016573Z",
     "iopub.status.idle": "2021-06-17T12:11:14.024171Z",
     "shell.execute_reply": "2021-06-17T12:11:14.024701Z"
    },
    "papermill": {
     "duration": 0.047982,
     "end_time": "2021-06-17T12:11:14.024828",
     "exception": false,
     "start_time": "2021-06-17T12:11:13.976846",
     "status": "completed"
    },
    "tags": []
   },
   "outputs": [],
   "source": [
    "#hide\n",
    "g = t.reset_index(['Country/Region'])"
   ]
  },
  {
   "cell_type": "code",
   "execution_count": 23,
   "id": "distributed-pittsburgh",
   "metadata": {
    "execution": {
     "iopub.execute_input": "2021-06-17T12:11:14.106304Z",
     "iopub.status.busy": "2021-06-17T12:11:14.104982Z",
     "iopub.status.idle": "2021-06-17T12:11:14.107026Z",
     "shell.execute_reply": "2021-06-17T12:11:14.107559Z"
    },
    "papermill": {
     "duration": 0.046719,
     "end_time": "2021-06-17T12:11:14.107709",
     "exception": false,
     "start_time": "2021-06-17T12:11:14.060990",
     "status": "completed"
    },
    "tags": []
   },
   "outputs": [],
   "source": [
    "#hide\n",
    "g.index.name = 'date'"
   ]
  },
  {
   "cell_type": "code",
   "execution_count": 24,
   "id": "naked-donor",
   "metadata": {
    "execution": {
     "iopub.execute_input": "2021-06-17T12:11:14.183665Z",
     "iopub.status.busy": "2021-06-17T12:11:14.182921Z",
     "iopub.status.idle": "2021-06-17T12:11:14.185643Z",
     "shell.execute_reply": "2021-06-17T12:11:14.185135Z"
    },
    "papermill": {
     "duration": 0.041977,
     "end_time": "2021-06-17T12:11:14.185769",
     "exception": false,
     "start_time": "2021-06-17T12:11:14.143792",
     "status": "completed"
    },
    "tags": []
   },
   "outputs": [],
   "source": [
    "# #hide\n",
    "# g = g.reset_index(['date'])"
   ]
  },
  {
   "cell_type": "code",
   "execution_count": 25,
   "id": "incomplete-mustang",
   "metadata": {
    "execution": {
     "iopub.execute_input": "2021-06-17T12:11:14.260350Z",
     "iopub.status.busy": "2021-06-17T12:11:14.259678Z",
     "iopub.status.idle": "2021-06-17T12:11:14.262162Z",
     "shell.execute_reply": "2021-06-17T12:11:14.261591Z"
    },
    "papermill": {
     "duration": 0.040886,
     "end_time": "2021-06-17T12:11:14.262305",
     "exception": false,
     "start_time": "2021-06-17T12:11:14.221419",
     "status": "completed"
    },
    "tags": []
   },
   "outputs": [],
   "source": [
    "#hide\n",
    "# g.head()"
   ]
  },
  {
   "cell_type": "code",
   "execution_count": 26,
   "id": "specific-kruger",
   "metadata": {
    "execution": {
     "iopub.execute_input": "2021-06-17T12:11:14.336592Z",
     "iopub.status.busy": "2021-06-17T12:11:14.335947Z",
     "iopub.status.idle": "2021-06-17T12:11:14.338272Z",
     "shell.execute_reply": "2021-06-17T12:11:14.337676Z"
    },
    "papermill": {
     "duration": 0.041274,
     "end_time": "2021-06-17T12:11:14.338391",
     "exception": false,
     "start_time": "2021-06-17T12:11:14.297117",
     "status": "completed"
    },
    "tags": []
   },
   "outputs": [],
   "source": [
    "#hide\n",
    "# g.columns = ['date','country','cases']"
   ]
  },
  {
   "cell_type": "code",
   "execution_count": 27,
   "id": "tender-conversion",
   "metadata": {
    "execution": {
     "iopub.execute_input": "2021-06-17T12:11:14.414446Z",
     "iopub.status.busy": "2021-06-17T12:11:14.413869Z",
     "iopub.status.idle": "2021-06-17T12:11:14.415941Z",
     "shell.execute_reply": "2021-06-17T12:11:14.416476Z"
    },
    "papermill": {
     "duration": 0.04143,
     "end_time": "2021-06-17T12:11:14.416595",
     "exception": false,
     "start_time": "2021-06-17T12:11:14.375165",
     "status": "completed"
    },
    "tags": []
   },
   "outputs": [],
   "source": [
    "#hide\n",
    "# g['continent'] = g.country"
   ]
  },
  {
   "cell_type": "code",
   "execution_count": 28,
   "id": "substantial-wilderness",
   "metadata": {
    "execution": {
     "iopub.execute_input": "2021-06-17T12:11:14.498573Z",
     "iopub.status.busy": "2021-06-17T12:11:14.497904Z",
     "iopub.status.idle": "2021-06-17T12:11:14.499280Z",
     "shell.execute_reply": "2021-06-17T12:11:14.499854Z"
    },
    "papermill": {
     "duration": 0.04679,
     "end_time": "2021-06-17T12:11:14.500018",
     "exception": false,
     "start_time": "2021-06-17T12:11:14.453228",
     "status": "completed"
    },
    "tags": []
   },
   "outputs": [],
   "source": [
    "#hide\n",
    "# cols = list(g.columns.values)"
   ]
  },
  {
   "cell_type": "code",
   "execution_count": 29,
   "id": "solved-farming",
   "metadata": {
    "execution": {
     "iopub.execute_input": "2021-06-17T12:11:14.578430Z",
     "iopub.status.busy": "2021-06-17T12:11:14.577834Z",
     "iopub.status.idle": "2021-06-17T12:11:14.579838Z",
     "shell.execute_reply": "2021-06-17T12:11:14.580345Z"
    },
    "papermill": {
     "duration": 0.041954,
     "end_time": "2021-06-17T12:11:14.580462",
     "exception": false,
     "start_time": "2021-06-17T12:11:14.538508",
     "status": "completed"
    },
    "tags": []
   },
   "outputs": [],
   "source": [
    "#hide\n",
    "# cols.insert(0, cols.pop())"
   ]
  },
  {
   "cell_type": "code",
   "execution_count": 30,
   "id": "executed-adoption",
   "metadata": {
    "execution": {
     "iopub.execute_input": "2021-06-17T12:11:14.654980Z",
     "iopub.status.busy": "2021-06-17T12:11:14.654387Z",
     "iopub.status.idle": "2021-06-17T12:11:14.656742Z",
     "shell.execute_reply": "2021-06-17T12:11:14.656198Z"
    },
    "papermill": {
     "duration": 0.04059,
     "end_time": "2021-06-17T12:11:14.656848",
     "exception": false,
     "start_time": "2021-06-17T12:11:14.616258",
     "status": "completed"
    },
    "tags": []
   },
   "outputs": [],
   "source": [
    "#hide\n",
    "# g = g[cols]"
   ]
  },
  {
   "cell_type": "code",
   "execution_count": 31,
   "id": "subject-dublin",
   "metadata": {
    "execution": {
     "iopub.execute_input": "2021-06-17T12:11:14.732346Z",
     "iopub.status.busy": "2021-06-17T12:11:14.731731Z",
     "iopub.status.idle": "2021-06-17T12:11:14.734239Z",
     "shell.execute_reply": "2021-06-17T12:11:14.733736Z"
    },
    "papermill": {
     "duration": 0.041181,
     "end_time": "2021-06-17T12:11:14.734344",
     "exception": false,
     "start_time": "2021-06-17T12:11:14.693163",
     "status": "completed"
    },
    "tags": []
   },
   "outputs": [],
   "source": [
    "#hide\n",
    "# g['continent'] = g['continent'].map(mapping['map.continent'])"
   ]
  },
  {
   "cell_type": "code",
   "execution_count": 32,
   "id": "freelance-scout",
   "metadata": {
    "execution": {
     "iopub.execute_input": "2021-06-17T12:11:14.809560Z",
     "iopub.status.busy": "2021-06-17T12:11:14.808284Z",
     "iopub.status.idle": "2021-06-17T12:11:14.810869Z",
     "shell.execute_reply": "2021-06-17T12:11:14.811377Z"
    },
    "papermill": {
     "duration": 0.041244,
     "end_time": "2021-06-17T12:11:14.811527",
     "exception": false,
     "start_time": "2021-06-17T12:11:14.770283",
     "status": "completed"
    },
    "tags": []
   },
   "outputs": [],
   "source": [
    "#hide\n",
    "# g.head()"
   ]
  },
  {
   "cell_type": "code",
   "execution_count": 33,
   "id": "limited-engine",
   "metadata": {
    "execution": {
     "iopub.execute_input": "2021-06-17T12:11:14.888220Z",
     "iopub.status.busy": "2021-06-17T12:11:14.886928Z",
     "iopub.status.idle": "2021-06-17T12:11:14.888920Z",
     "shell.execute_reply": "2021-06-17T12:11:14.889602Z"
    },
    "papermill": {
     "duration": 0.04265,
     "end_time": "2021-06-17T12:11:14.889749",
     "exception": false,
     "start_time": "2021-06-17T12:11:14.847099",
     "status": "completed"
    },
    "tags": []
   },
   "outputs": [],
   "source": [
    "# hide\n",
    "# g['date'] = g['date'].astype('datetime64[ns]')"
   ]
  },
  {
   "cell_type": "code",
   "execution_count": 34,
   "id": "sophisticated-supervisor",
   "metadata": {
    "execution": {
     "iopub.execute_input": "2021-06-17T12:11:14.965433Z",
     "iopub.status.busy": "2021-06-17T12:11:14.964816Z",
     "iopub.status.idle": "2021-06-17T12:11:14.967246Z",
     "shell.execute_reply": "2021-06-17T12:11:14.966768Z"
    },
    "papermill": {
     "duration": 0.041826,
     "end_time": "2021-06-17T12:11:14.967352",
     "exception": false,
     "start_time": "2021-06-17T12:11:14.925526",
     "status": "completed"
    },
    "tags": []
   },
   "outputs": [],
   "source": [
    "#hide\n",
    "# g['date'] = g.date.dt.dayofyear"
   ]
  },
  {
   "cell_type": "code",
   "execution_count": 35,
   "id": "inside-dubai",
   "metadata": {
    "execution": {
     "iopub.execute_input": "2021-06-17T12:11:15.044926Z",
     "iopub.status.busy": "2021-06-17T12:11:15.044247Z",
     "iopub.status.idle": "2021-06-17T12:11:15.046140Z",
     "shell.execute_reply": "2021-06-17T12:11:15.046709Z"
    },
    "papermill": {
     "duration": 0.043148,
     "end_time": "2021-06-17T12:11:15.046867",
     "exception": false,
     "start_time": "2021-06-17T12:11:15.003719",
     "status": "completed"
    },
    "tags": []
   },
   "outputs": [],
   "source": [
    "#hide\n",
    "# g = g.rename(columns= {'continent':'group','country':'name','cases':'value'})"
   ]
  },
  {
   "cell_type": "code",
   "execution_count": 36,
   "id": "fleet-motorcycle",
   "metadata": {
    "execution": {
     "iopub.execute_input": "2021-06-17T12:11:15.123770Z",
     "iopub.status.busy": "2021-06-17T12:11:15.123139Z",
     "iopub.status.idle": "2021-06-17T12:11:15.125891Z",
     "shell.execute_reply": "2021-06-17T12:11:15.125305Z"
    },
    "papermill": {
     "duration": 0.042169,
     "end_time": "2021-06-17T12:11:15.125997",
     "exception": false,
     "start_time": "2021-06-17T12:11:15.083828",
     "status": "completed"
    },
    "tags": []
   },
   "outputs": [],
   "source": [
    "#hide\n",
    "# cols = ['name','group','day','value']"
   ]
  },
  {
   "cell_type": "code",
   "execution_count": 37,
   "id": "continued-sleeping",
   "metadata": {
    "execution": {
     "iopub.execute_input": "2021-06-17T12:11:15.201516Z",
     "iopub.status.busy": "2021-06-17T12:11:15.200840Z",
     "iopub.status.idle": "2021-06-17T12:11:15.203057Z",
     "shell.execute_reply": "2021-06-17T12:11:15.203605Z"
    },
    "papermill": {
     "duration": 0.042431,
     "end_time": "2021-06-17T12:11:15.203734",
     "exception": false,
     "start_time": "2021-06-17T12:11:15.161303",
     "status": "completed"
    },
    "tags": []
   },
   "outputs": [],
   "source": [
    "#hide\n",
    "# g.rename(columns= {'date':'day'},inplace = True)"
   ]
  },
  {
   "cell_type": "code",
   "execution_count": 38,
   "id": "major-fight",
   "metadata": {
    "execution": {
     "iopub.execute_input": "2021-06-17T12:11:15.280748Z",
     "iopub.status.busy": "2021-06-17T12:11:15.280174Z",
     "iopub.status.idle": "2021-06-17T12:11:15.282438Z",
     "shell.execute_reply": "2021-06-17T12:11:15.281882Z"
    },
    "papermill": {
     "duration": 0.042178,
     "end_time": "2021-06-17T12:11:15.282544",
     "exception": false,
     "start_time": "2021-06-17T12:11:15.240366",
     "status": "completed"
    },
    "tags": []
   },
   "outputs": [],
   "source": [
    "#hide\n",
    "# g = g[cols]"
   ]
  },
  {
   "cell_type": "code",
   "execution_count": 39,
   "id": "structured-mobile",
   "metadata": {
    "execution": {
     "iopub.execute_input": "2021-06-17T12:11:15.357581Z",
     "iopub.status.busy": "2021-06-17T12:11:15.356910Z",
     "iopub.status.idle": "2021-06-17T12:11:15.359427Z",
     "shell.execute_reply": "2021-06-17T12:11:15.358915Z"
    },
    "papermill": {
     "duration": 0.040609,
     "end_time": "2021-06-17T12:11:15.359563",
     "exception": false,
     "start_time": "2021-06-17T12:11:15.318954",
     "status": "completed"
    },
    "tags": []
   },
   "outputs": [],
   "source": [
    "# #hide\n",
    "# g = g[g.group.notna()]"
   ]
  },
  {
   "cell_type": "code",
   "execution_count": 40,
   "id": "determined-closing",
   "metadata": {
    "execution": {
     "iopub.execute_input": "2021-06-17T12:11:15.434870Z",
     "iopub.status.busy": "2021-06-17T12:11:15.434201Z",
     "iopub.status.idle": "2021-06-17T12:11:15.436603Z",
     "shell.execute_reply": "2021-06-17T12:11:15.436032Z"
    },
    "papermill": {
     "duration": 0.041952,
     "end_time": "2021-06-17T12:11:15.436723",
     "exception": false,
     "start_time": "2021-06-17T12:11:15.394771",
     "status": "completed"
    },
    "tags": []
   },
   "outputs": [],
   "source": [
    "# #hide\n",
    "# colors = dict(zip(\n",
    "#     [\"Oceania\", \"Europe\", \"Asia\", \"South America\", \"Middle East\", \"North America\", \"Africa\"],\n",
    "#     [\"#adb0ff\", \"#ffb3ff\", \"#90d595\", \"#e48381\", \"#aafbff\", \"#f7bb5f\", \"#eafb50\"]\n",
    "# ))\n",
    "# group_lk = g.set_index('name')['group'].to_dict()"
   ]
  },
  {
   "cell_type": "code",
   "execution_count": null,
   "id": "gross-drinking",
   "metadata": {
    "papermill": {
     "duration": 0.036439,
     "end_time": "2021-06-17T12:11:15.511100",
     "exception": false,
     "start_time": "2021-06-17T12:11:15.474661",
     "status": "completed"
    },
    "tags": []
   },
   "outputs": [],
   "source": []
  },
  {
   "cell_type": "code",
   "execution_count": 41,
   "id": "subject-macintosh",
   "metadata": {
    "execution": {
     "iopub.execute_input": "2021-06-17T12:11:15.587827Z",
     "iopub.status.busy": "2021-06-17T12:11:15.587154Z",
     "iopub.status.idle": "2021-06-17T12:11:15.589152Z",
     "shell.execute_reply": "2021-06-17T12:11:15.589628Z"
    },
    "papermill": {
     "duration": 0.04286,
     "end_time": "2021-06-17T12:11:15.589754",
     "exception": false,
     "start_time": "2021-06-17T12:11:15.546894",
     "status": "completed"
    },
    "tags": []
   },
   "outputs": [],
   "source": [
    "# #hide\n",
    "# fig, ax = plt.subplots(figsize=(15, 8))\n",
    "\n",
    "# def draw_barchart(current_day):\n",
    "#     dff = g[g['day'].eq(current_day)].sort_values(by='value', ascending=True).tail(10)\n",
    "#     ax.clear()\n",
    "#     ax.barh(dff['name'], dff['value'], color=[colors[group_lk[x]] for x in dff['name']])\n",
    "#     dx = dff['value'].max() / 200\n",
    "    \n",
    "#     for i, (value, name) in enumerate(zip(dff['value'], dff['name'])):\n",
    "#         ax.text(value-dx, i,     name,           size=14, weight=600, ha='right', va='bottom')\n",
    "#         ax.text(value-dx, i-.25, group_lk[name], size=10, color='#444444', ha='right', va='baseline')\n",
    "#         ax.text(value+dx, i,     f'{value:,.0f}',  size=14, ha='left',  va='center')\n",
    "#     ax.text(1, 0.4, current_day, transform=ax.transAxes, color='#777777', size=46, ha='right', weight=800)\n",
    "#     ax.text(0, 1.06, 'Population (thousands)', transform=ax.transAxes, size=12, color='#777777')\n",
    "#     ax.xaxis.set_major_formatter(ticker.StrMethodFormatter('{x:,.0f}'))\n",
    "#     ax.xaxis.set_ticks_position('top')\n",
    "#     ax.tick_params(axis='x', colors='#777777', labelsize=12)\n",
    "#     ax.set_yticks([])\n",
    "#     ax.margins(0, 0.01)\n",
    "#     ax.grid(which='major', axis='x', linestyle='-')\n",
    "#     ax.set_axisbelow(True)\n",
    "    \n",
    "#     ax.text(0, 1.15, 'Coronavirus',\n",
    "#             transform=ax.transAxes, size=24, weight=600, ha='left', va='top')\n",
    "# #     ax.text(1, 0, 'by @pratapvardhan; credit @jburnmurdoch', transform=ax.transAxes, color='#777777', ha='right',\n",
    "# #             bbox=dict(facecolor='white', alpha=0.8, edgecolor='white'))\n",
    "#     plt.box(False)"
   ]
  },
  {
   "cell_type": "code",
   "execution_count": 42,
   "id": "sexual-wages",
   "metadata": {
    "execution": {
     "iopub.execute_input": "2021-06-17T12:11:15.665775Z",
     "iopub.status.busy": "2021-06-17T12:11:15.665111Z",
     "iopub.status.idle": "2021-06-17T12:11:15.667217Z",
     "shell.execute_reply": "2021-06-17T12:11:15.667802Z"
    },
    "papermill": {
     "duration": 0.041998,
     "end_time": "2021-06-17T12:11:15.667962",
     "exception": false,
     "start_time": "2021-06-17T12:11:15.625964",
     "status": "completed"
    },
    "tags": []
   },
   "outputs": [],
   "source": [
    "# #hide_input\n",
    "# fig, ax = plt.subplots(figsize=(15, 8))\n",
    "# animator = animation.FuncAnimation(fig, draw_barchart, frames=range(g.day.values.min(), g.day.values.max()))\n",
    "# HTML(animator.to_jshtml())\n",
    "# # or use animator.to_html5_video() or animator.save() "
   ]
  },
  {
   "cell_type": "code",
   "execution_count": null,
   "id": "australian-container",
   "metadata": {
    "papermill": {
     "duration": 0.03695,
     "end_time": "2021-06-17T12:11:15.741455",
     "exception": false,
     "start_time": "2021-06-17T12:11:15.704505",
     "status": "completed"
    },
    "tags": []
   },
   "outputs": [],
   "source": []
  },
  {
   "cell_type": "code",
   "execution_count": null,
   "id": "mediterranean-pontiac",
   "metadata": {
    "papermill": {
     "duration": 0.03628,
     "end_time": "2021-06-17T12:11:15.813479",
     "exception": false,
     "start_time": "2021-06-17T12:11:15.777199",
     "status": "completed"
    },
    "tags": []
   },
   "outputs": [],
   "source": []
  },
  {
   "cell_type": "code",
   "execution_count": null,
   "id": "aging-legislature",
   "metadata": {
    "papermill": {
     "duration": 0.037219,
     "end_time": "2021-06-17T12:11:15.886880",
     "exception": false,
     "start_time": "2021-06-17T12:11:15.849661",
     "status": "completed"
    },
    "tags": []
   },
   "outputs": [],
   "source": []
  }
 ],
 "metadata": {
  "kernelspec": {
   "display_name": "Python 3",
   "language": "python",
   "name": "python3"
  },
  "language_info": {
   "codemirror_mode": {
    "name": "ipython",
    "version": 3
   },
   "file_extension": ".py",
   "mimetype": "text/x-python",
   "name": "python",
   "nbconvert_exporter": "python",
   "pygments_lexer": "ipython3",
   "version": "3.6.13"
  },
  "papermill": {
   "duration": 6.862411,
   "end_time": "2021-06-17T12:11:16.231543",
   "environment_variables": {},
   "exception": null,
   "input_path": "2020-03-21-covid19exp.ipynb",
   "output_path": "2020-03-21-covid19exp.ipynb",
   "parameters": {},
   "start_time": "2021-06-17T12:11:09.369132",
   "version": "2.0.0"
  }
 },
 "nbformat": 4,
 "nbformat_minor": 5
}