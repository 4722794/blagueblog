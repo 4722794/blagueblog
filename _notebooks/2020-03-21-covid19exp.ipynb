{
 "cells": [
  {
   "cell_type": "markdown",
   "id": "muslim-click",
   "metadata": {
    "papermill": {
     "duration": 0.034799,
     "end_time": "2022-02-19T00:32:18.588289",
     "exception": false,
     "start_time": "2022-02-19T00:32:18.553490",
     "status": "completed"
    },
    "tags": []
   },
   "source": [
    "# COVID-19 Case Race\n",
    "> A race chart to see rising cases around the world\n",
    "\n",
    "- author: Hargun Oberoi\n",
    "- image: images/covid-overview.png\n",
    "- hide: false\n",
    "- badges: false"
   ]
  },
  {
   "cell_type": "code",
   "execution_count": 1,
   "id": "proof-material",
   "metadata": {
    "execution": {
     "iopub.execute_input": "2022-02-19T00:32:18.659159Z",
     "iopub.status.busy": "2022-02-19T00:32:18.658630Z",
     "iopub.status.idle": "2022-02-19T00:32:19.003071Z",
     "shell.execute_reply": "2022-02-19T00:32:19.002507Z"
    },
    "papermill": {
     "duration": 0.383372,
     "end_time": "2022-02-19T00:32:19.003234",
     "exception": false,
     "start_time": "2022-02-19T00:32:18.619862",
     "status": "completed"
    },
    "tags": []
   },
   "outputs": [],
   "source": [
    "#hide\n",
    "import numpy as np\n",
    "import pandas as pd\n",
    "from jinja2 import Template\n",
    "from IPython.display import HTML"
   ]
  },
  {
   "cell_type": "code",
   "execution_count": 2,
   "id": "developed-terminology",
   "metadata": {
    "execution": {
     "iopub.execute_input": "2022-02-19T00:32:19.068977Z",
     "iopub.status.busy": "2022-02-19T00:32:19.068394Z",
     "iopub.status.idle": "2022-02-19T00:32:19.069767Z",
     "shell.execute_reply": "2022-02-19T00:32:19.070202Z"
    },
    "papermill": {
     "duration": 0.03664,
     "end_time": "2022-02-19T00:32:19.070334",
     "exception": false,
     "start_time": "2022-02-19T00:32:19.033694",
     "status": "completed"
    },
    "tags": []
   },
   "outputs": [],
   "source": [
    "#hide\n",
    "\n",
    "# FETCH\n",
    "base_url = 'https://raw.githubusercontent.com/pratapvardhan/notebooks/master/covid19/'\n",
    "paths = {\n",
    "    'mapping': base_url + 'mapping_countries.csv',\n",
    "    'overview': base_url + 'overview.tpl'\n",
    "}"
   ]
  },
  {
   "cell_type": "code",
   "execution_count": 3,
   "id": "dynamic-saver",
   "metadata": {
    "execution": {
     "iopub.execute_input": "2022-02-19T00:32:19.139340Z",
     "iopub.status.busy": "2022-02-19T00:32:19.138835Z",
     "iopub.status.idle": "2022-02-19T00:32:19.142545Z",
     "shell.execute_reply": "2022-02-19T00:32:19.142948Z"
    },
    "papermill": {
     "duration": 0.043347,
     "end_time": "2022-02-19T00:32:19.143072",
     "exception": false,
     "start_time": "2022-02-19T00:32:19.099725",
     "status": "completed"
    },
    "tags": []
   },
   "outputs": [
    {
     "data": {
      "text/plain": [
       "'https://raw.githubusercontent.com/pratapvardhan/notebooks/master/covid19/mapping_countries.csv'"
      ]
     },
     "execution_count": 3,
     "metadata": {},
     "output_type": "execute_result"
    }
   ],
   "source": [
    "#hide\n",
    "paths['mapping']"
   ]
  },
  {
   "cell_type": "code",
   "execution_count": 4,
   "id": "urban-software",
   "metadata": {
    "execution": {
     "iopub.execute_input": "2022-02-19T00:32:19.207953Z",
     "iopub.status.busy": "2022-02-19T00:32:19.207441Z",
     "iopub.status.idle": "2022-02-19T00:32:19.209685Z",
     "shell.execute_reply": "2022-02-19T00:32:19.209277Z"
    },
    "papermill": {
     "duration": 0.036846,
     "end_time": "2022-02-19T00:32:19.209793",
     "exception": false,
     "start_time": "2022-02-19T00:32:19.172947",
     "status": "completed"
    },
    "tags": []
   },
   "outputs": [],
   "source": [
    "#hide\n",
    "def get_mappings(url):\n",
    "    df = pd.read_csv(url)\n",
    "    return {\n",
    "        'df': df,\n",
    "        'replace.country': dict(df.dropna(subset=['Name']).set_index('Country')['Name']),\n",
    "        'map.continent': dict(df.set_index('Name')['Continent'])\n",
    "    }"
   ]
  },
  {
   "cell_type": "code",
   "execution_count": 5,
   "id": "intimate-machinery",
   "metadata": {
    "execution": {
     "iopub.execute_input": "2022-02-19T00:32:19.274125Z",
     "iopub.status.busy": "2022-02-19T00:32:19.273619Z",
     "iopub.status.idle": "2022-02-19T00:32:19.342461Z",
     "shell.execute_reply": "2022-02-19T00:32:19.342029Z"
    },
    "papermill": {
     "duration": 0.103245,
     "end_time": "2022-02-19T00:32:19.342569",
     "exception": false,
     "start_time": "2022-02-19T00:32:19.239324",
     "status": "completed"
    },
    "tags": []
   },
   "outputs": [],
   "source": [
    "#hide\n",
    "mapping = get_mappings(paths['mapping'])"
   ]
  },
  {
   "cell_type": "code",
   "execution_count": 6,
   "id": "certified-tactics",
   "metadata": {
    "execution": {
     "iopub.execute_input": "2022-02-19T00:32:19.407121Z",
     "iopub.status.busy": "2022-02-19T00:32:19.406538Z",
     "iopub.status.idle": "2022-02-19T00:32:19.408788Z",
     "shell.execute_reply": "2022-02-19T00:32:19.408353Z"
    },
    "papermill": {
     "duration": 0.036399,
     "end_time": "2022-02-19T00:32:19.408892",
     "exception": false,
     "start_time": "2022-02-19T00:32:19.372493",
     "status": "completed"
    },
    "tags": []
   },
   "outputs": [],
   "source": [
    "#hide\n",
    "def get_template(path):\n",
    "    from urllib.parse import urlparse\n",
    "    if bool(urlparse(path).netloc):\n",
    "        from urllib.request import urlopen\n",
    "        return urlopen(path).read().decode('utf8')\n",
    "    return open(path).read()"
   ]
  },
  {
   "cell_type": "code",
   "execution_count": 7,
   "id": "realistic-blast",
   "metadata": {
    "execution": {
     "iopub.execute_input": "2022-02-19T00:32:19.472596Z",
     "iopub.status.busy": "2022-02-19T00:32:19.472064Z",
     "iopub.status.idle": "2022-02-19T00:32:19.474161Z",
     "shell.execute_reply": "2022-02-19T00:32:19.474629Z"
    },
    "papermill": {
     "duration": 0.036233,
     "end_time": "2022-02-19T00:32:19.474745",
     "exception": false,
     "start_time": "2022-02-19T00:32:19.438512",
     "status": "completed"
    },
    "tags": []
   },
   "outputs": [],
   "source": [
    "#hide\n",
    "def get_frame(name):\n",
    "    url = (\n",
    "        'https://raw.githubusercontent.com/CSSEGISandData/COVID-19/master/csse_covid_19_data/'\n",
    "        f'csse_covid_19_time_series/time_series_covid19_{name}_global.csv')\n",
    "    df = pd.read_csv(url)\n",
    "    # rename countries\n",
    "    df['Country/Region'] = df['Country/Region'].replace(mapping['replace.country'])\n",
    "    return df"
   ]
  },
  {
   "cell_type": "code",
   "execution_count": 8,
   "id": "affiliated-characterization",
   "metadata": {
    "execution": {
     "iopub.execute_input": "2022-02-19T00:32:19.539631Z",
     "iopub.status.busy": "2022-02-19T00:32:19.539049Z",
     "iopub.status.idle": "2022-02-19T00:32:19.540790Z",
     "shell.execute_reply": "2022-02-19T00:32:19.541223Z"
    },
    "papermill": {
     "duration": 0.036848,
     "end_time": "2022-02-19T00:32:19.541354",
     "exception": false,
     "start_time": "2022-02-19T00:32:19.504506",
     "status": "completed"
    },
    "tags": []
   },
   "outputs": [],
   "source": [
    "#hide\n",
    "def get_dates(df):\n",
    "    dt_cols = df.columns[~df.columns.isin(['Province/State', 'Country/Region', 'Lat', 'Long'])]\n",
    "    LAST_DATE_I = -1\n",
    "    # sometimes last column may be empty, then go backwards\n",
    "    for i in range(-1, -len(dt_cols), -1):\n",
    "        if not df[dt_cols[i]].fillna(0).eq(0).all():\n",
    "            LAST_DATE_I = i\n",
    "            break\n",
    "    return LAST_DATE_I, dt_cols"
   ]
  },
  {
   "cell_type": "code",
   "execution_count": 9,
   "id": "recent-optimization",
   "metadata": {
    "execution": {
     "iopub.execute_input": "2022-02-19T00:32:19.606071Z",
     "iopub.status.busy": "2022-02-19T00:32:19.605554Z",
     "iopub.status.idle": "2022-02-19T00:32:20.195641Z",
     "shell.execute_reply": "2022-02-19T00:32:20.195091Z"
    },
    "papermill": {
     "duration": 0.624376,
     "end_time": "2022-02-19T00:32:20.195780",
     "exception": false,
     "start_time": "2022-02-19T00:32:19.571404",
     "status": "completed"
    },
    "tags": []
   },
   "outputs": [],
   "source": [
    "#hide\n",
    "COL_REGION = 'Country/Region'\n",
    "# Confirmed, Recovered, Deaths\n",
    "df = get_frame('confirmed')\n",
    "# dft_: timeseries, dfc_: today country agg\n",
    "dft_cases = df\n",
    "dft_deaths = get_frame('deaths')\n",
    "dft_recovered = get_frame('recovered')\n",
    "LAST_DATE_I, dt_cols = get_dates(df)"
   ]
  },
  {
   "cell_type": "code",
   "execution_count": 10,
   "id": "absolute-copper",
   "metadata": {
    "execution": {
     "iopub.execute_input": "2022-02-19T00:32:20.265613Z",
     "iopub.status.busy": "2022-02-19T00:32:20.265062Z",
     "iopub.status.idle": "2022-02-19T00:32:20.267056Z",
     "shell.execute_reply": "2022-02-19T00:32:20.266560Z"
    },
    "papermill": {
     "duration": 0.040137,
     "end_time": "2022-02-19T00:32:20.267162",
     "exception": false,
     "start_time": "2022-02-19T00:32:20.227025",
     "status": "completed"
    },
    "tags": []
   },
   "outputs": [],
   "source": [
    "#hide\n",
    "LAST_DATE_I, dt_cols = get_dates(df)\n",
    "dt_today =dt_cols[LAST_DATE_I]\n",
    "# dt_5day = dt_cols[LAST_DATE_I - 5]\n",
    "dt_yday = dt_cols[LAST_DATE_I - 1]"
   ]
  },
  {
   "cell_type": "code",
   "execution_count": 11,
   "id": "restricted-sheriff",
   "metadata": {
    "execution": {
     "iopub.execute_input": "2022-02-19T00:32:20.332509Z",
     "iopub.status.busy": "2022-02-19T00:32:20.331964Z",
     "iopub.status.idle": "2022-02-19T00:32:20.339412Z",
     "shell.execute_reply": "2022-02-19T00:32:20.339881Z"
    },
    "papermill": {
     "duration": 0.043255,
     "end_time": "2022-02-19T00:32:20.340004",
     "exception": false,
     "start_time": "2022-02-19T00:32:20.296749",
     "status": "completed"
    },
    "tags": []
   },
   "outputs": [],
   "source": [
    "#hide\n",
    "dfc_cases = dft_cases.groupby(COL_REGION)[dt_today].sum()\n",
    "dfc_deaths = dft_deaths.groupby(COL_REGION)[dt_today].sum()\n",
    "# dfp_cases = dft_cases.groupby(COL_REGION)[dt_5day].sum()\n",
    "# dfp_deaths = dft_deaths.groupby(COL_REGION)[dt_5day].sum()\n",
    "dfp_cases = dft_cases.groupby(COL_REGION)[dt_yday].sum()\n",
    "dfp_deaths = dft_deaths.groupby(COL_REGION)[dt_yday].sum()"
   ]
  },
  {
   "cell_type": "code",
   "execution_count": 12,
   "id": "deluxe-hepatitis",
   "metadata": {
    "execution": {
     "iopub.execute_input": "2022-02-19T00:32:20.406477Z",
     "iopub.status.busy": "2022-02-19T00:32:20.405969Z",
     "iopub.status.idle": "2022-02-19T00:32:20.409878Z",
     "shell.execute_reply": "2022-02-19T00:32:20.410303Z"
    },
    "papermill": {
     "duration": 0.040471,
     "end_time": "2022-02-19T00:32:20.410427",
     "exception": false,
     "start_time": "2022-02-19T00:32:20.369956",
     "status": "completed"
    },
    "tags": []
   },
   "outputs": [],
   "source": [
    "#hide\n",
    "df_table = (pd.DataFrame(dict(Cases = dfc_cases, Deaths = dfc_deaths, PCases = dfp_cases, PDeaths = dfp_deaths))\n",
    "            .sort_values(by = ['Cases','Deaths'], ascending = [False, False])\n",
    "            .reset_index())"
   ]
  },
  {
   "cell_type": "code",
   "execution_count": 13,
   "id": "educational-chancellor",
   "metadata": {
    "execution": {
     "iopub.execute_input": "2022-02-19T00:32:20.490937Z",
     "iopub.status.busy": "2022-02-19T00:32:20.485932Z",
     "iopub.status.idle": "2022-02-19T00:32:20.495816Z",
     "shell.execute_reply": "2022-02-19T00:32:20.495053Z"
    },
    "papermill": {
     "duration": 0.055954,
     "end_time": "2022-02-19T00:32:20.495931",
     "exception": false,
     "start_time": "2022-02-19T00:32:20.439977",
     "status": "completed"
    },
    "tags": []
   },
   "outputs": [
    {
     "data": {
      "text/html": [
       "<div>\n",
       "<style scoped>\n",
       "    .dataframe tbody tr th:only-of-type {\n",
       "        vertical-align: middle;\n",
       "    }\n",
       "\n",
       "    .dataframe tbody tr th {\n",
       "        vertical-align: top;\n",
       "    }\n",
       "\n",
       "    .dataframe thead th {\n",
       "        text-align: right;\n",
       "    }\n",
       "</style>\n",
       "<table border=\"1\" class=\"dataframe\">\n",
       "  <thead>\n",
       "    <tr style=\"text-align: right;\">\n",
       "      <th></th>\n",
       "      <th>Country/Region</th>\n",
       "      <th>Cases</th>\n",
       "      <th>Deaths</th>\n",
       "      <th>PCases</th>\n",
       "      <th>PDeaths</th>\n",
       "      <th>Cases (+)</th>\n",
       "      <th>Deaths (+)</th>\n",
       "      <th>Fatality Rate</th>\n",
       "      <th>Continent</th>\n",
       "    </tr>\n",
       "  </thead>\n",
       "  <tbody>\n",
       "    <tr>\n",
       "      <th>0</th>\n",
       "      <td>US</td>\n",
       "      <td>78275698</td>\n",
       "      <td>931862</td>\n",
       "      <td>78174363</td>\n",
       "      <td>928639</td>\n",
       "      <td>101335</td>\n",
       "      <td>3223</td>\n",
       "      <td>1.19</td>\n",
       "      <td>North America</td>\n",
       "    </tr>\n",
       "    <tr>\n",
       "      <th>1</th>\n",
       "      <td>India</td>\n",
       "      <td>42780235</td>\n",
       "      <td>510905</td>\n",
       "      <td>42754315</td>\n",
       "      <td>510413</td>\n",
       "      <td>25920</td>\n",
       "      <td>492</td>\n",
       "      <td>1.19</td>\n",
       "      <td>Asia</td>\n",
       "    </tr>\n",
       "    <tr>\n",
       "      <th>2</th>\n",
       "      <td>Brazil</td>\n",
       "      <td>27940119</td>\n",
       "      <td>642156</td>\n",
       "      <td>27819996</td>\n",
       "      <td>641096</td>\n",
       "      <td>120123</td>\n",
       "      <td>1060</td>\n",
       "      <td>2.30</td>\n",
       "      <td>South America</td>\n",
       "    </tr>\n",
       "    <tr>\n",
       "      <th>3</th>\n",
       "      <td>France</td>\n",
       "      <td>22223882</td>\n",
       "      <td>137143</td>\n",
       "      <td>22130264</td>\n",
       "      <td>136856</td>\n",
       "      <td>93618</td>\n",
       "      <td>287</td>\n",
       "      <td>0.62</td>\n",
       "      <td>Europe</td>\n",
       "    </tr>\n",
       "    <tr>\n",
       "      <th>4</th>\n",
       "      <td>United Kingdom</td>\n",
       "      <td>18628702</td>\n",
       "      <td>160785</td>\n",
       "      <td>18575733</td>\n",
       "      <td>160599</td>\n",
       "      <td>52969</td>\n",
       "      <td>186</td>\n",
       "      <td>0.86</td>\n",
       "      <td>Europe</td>\n",
       "    </tr>\n",
       "  </tbody>\n",
       "</table>\n",
       "</div>"
      ],
      "text/plain": [
       "   Country/Region     Cases  Deaths    PCases  PDeaths  Cases (+)  Deaths (+)  \\\n",
       "0              US  78275698  931862  78174363   928639     101335        3223   \n",
       "1           India  42780235  510905  42754315   510413      25920         492   \n",
       "2          Brazil  27940119  642156  27819996   641096     120123        1060   \n",
       "3          France  22223882  137143  22130264   136856      93618         287   \n",
       "4  United Kingdom  18628702  160785  18575733   160599      52969         186   \n",
       "\n",
       "   Fatality Rate      Continent  \n",
       "0           1.19  North America  \n",
       "1           1.19           Asia  \n",
       "2           2.30  South America  \n",
       "3           0.62         Europe  \n",
       "4           0.86         Europe  "
      ]
     },
     "execution_count": 13,
     "metadata": {},
     "output_type": "execute_result"
    }
   ],
   "source": [
    "#hide\n",
    "for c in 'Cases, Deaths'.split(', '):\n",
    "    df_table[f'{c} (+)'] = (df_table[c] - df_table[f'P{c}']).clip(0)\n",
    "    #Clip ça veut dire, les chiffres negatif sont interdit\n",
    "df_table['Fatality Rate'] = (100* df_table['Deaths']/ df_table['Cases']).round(2)\n",
    "df_table['Continent'] = df_table['Country/Region'].map(mapping['map.continent'])\n",
    "df_table.head(5)"
   ]
  },
  {
   "cell_type": "code",
   "execution_count": 14,
   "id": "aboriginal-bulgaria",
   "metadata": {
    "execution": {
     "iopub.execute_input": "2022-02-19T00:32:20.561549Z",
     "iopub.status.busy": "2022-02-19T00:32:20.561043Z",
     "iopub.status.idle": "2022-02-19T00:32:20.563013Z",
     "shell.execute_reply": "2022-02-19T00:32:20.563394Z"
    },
    "papermill": {
     "duration": 0.037198,
     "end_time": "2022-02-19T00:32:20.563513",
     "exception": false,
     "start_time": "2022-02-19T00:32:20.526315",
     "status": "completed"
    },
    "tags": []
   },
   "outputs": [],
   "source": [
    "#hide\n",
    "#delete problematic countries from table\n",
    "df_table = df_table[~df_table['Country/Region'].isin(['Cape Verde', 'Cruise Ship', 'Kosovo'])]"
   ]
  },
  {
   "cell_type": "code",
   "execution_count": 15,
   "id": "fantastic-effect",
   "metadata": {
    "execution": {
     "iopub.execute_input": "2022-02-19T00:32:20.645309Z",
     "iopub.status.busy": "2022-02-19T00:32:20.631578Z",
     "iopub.status.idle": "2022-02-19T00:32:20.647810Z",
     "shell.execute_reply": "2022-02-19T00:32:20.648218Z"
    },
    "papermill": {
     "duration": 0.05465,
     "end_time": "2022-02-19T00:32:20.648345",
     "exception": false,
     "start_time": "2022-02-19T00:32:20.593695",
     "status": "completed"
    },
    "tags": []
   },
   "outputs": [
    {
     "data": {
      "text/html": [
       "<div>\n",
       "<style scoped>\n",
       "    .dataframe tbody tr th:only-of-type {\n",
       "        vertical-align: middle;\n",
       "    }\n",
       "\n",
       "    .dataframe tbody tr th {\n",
       "        vertical-align: top;\n",
       "    }\n",
       "\n",
       "    .dataframe thead th {\n",
       "        text-align: right;\n",
       "    }\n",
       "</style>\n",
       "<table border=\"1\" class=\"dataframe\">\n",
       "  <thead>\n",
       "    <tr style=\"text-align: right;\">\n",
       "      <th></th>\n",
       "      <th>Country/Region</th>\n",
       "      <th>Cases</th>\n",
       "      <th>Deaths</th>\n",
       "      <th>PCases</th>\n",
       "      <th>PDeaths</th>\n",
       "      <th>Cases (+)</th>\n",
       "      <th>Deaths (+)</th>\n",
       "      <th>Fatality Rate</th>\n",
       "      <th>Continent</th>\n",
       "    </tr>\n",
       "  </thead>\n",
       "  <tbody>\n",
       "    <tr>\n",
       "      <th>0</th>\n",
       "      <td>US</td>\n",
       "      <td>78275698</td>\n",
       "      <td>931862</td>\n",
       "      <td>78174363</td>\n",
       "      <td>928639</td>\n",
       "      <td>101335</td>\n",
       "      <td>3223</td>\n",
       "      <td>1.2</td>\n",
       "      <td>North America</td>\n",
       "    </tr>\n",
       "    <tr>\n",
       "      <th>1</th>\n",
       "      <td>India</td>\n",
       "      <td>42780235</td>\n",
       "      <td>510905</td>\n",
       "      <td>42754315</td>\n",
       "      <td>510413</td>\n",
       "      <td>25920</td>\n",
       "      <td>492</td>\n",
       "      <td>1.2</td>\n",
       "      <td>Asia</td>\n",
       "    </tr>\n",
       "    <tr>\n",
       "      <th>2</th>\n",
       "      <td>Brazil</td>\n",
       "      <td>27940119</td>\n",
       "      <td>642156</td>\n",
       "      <td>27819996</td>\n",
       "      <td>641096</td>\n",
       "      <td>120123</td>\n",
       "      <td>1060</td>\n",
       "      <td>2.3</td>\n",
       "      <td>South America</td>\n",
       "    </tr>\n",
       "    <tr>\n",
       "      <th>3</th>\n",
       "      <td>France</td>\n",
       "      <td>22223882</td>\n",
       "      <td>137143</td>\n",
       "      <td>22130264</td>\n",
       "      <td>136856</td>\n",
       "      <td>93618</td>\n",
       "      <td>287</td>\n",
       "      <td>0.6</td>\n",
       "      <td>Europe</td>\n",
       "    </tr>\n",
       "    <tr>\n",
       "      <th>4</th>\n",
       "      <td>United Kingdom</td>\n",
       "      <td>18628702</td>\n",
       "      <td>160785</td>\n",
       "      <td>18575733</td>\n",
       "      <td>160599</td>\n",
       "      <td>52969</td>\n",
       "      <td>186</td>\n",
       "      <td>0.9</td>\n",
       "      <td>Europe</td>\n",
       "    </tr>\n",
       "  </tbody>\n",
       "</table>\n",
       "</div>"
      ],
      "text/plain": [
       "   Country/Region     Cases  Deaths    PCases  PDeaths  Cases (+)  Deaths (+)  \\\n",
       "0              US  78275698  931862  78174363   928639     101335        3223   \n",
       "1           India  42780235  510905  42754315   510413      25920         492   \n",
       "2          Brazil  27940119  642156  27819996   641096     120123        1060   \n",
       "3          France  22223882  137143  22130264   136856      93618         287   \n",
       "4  United Kingdom  18628702  160785  18575733   160599      52969         186   \n",
       "\n",
       "   Fatality Rate      Continent  \n",
       "0            1.2  North America  \n",
       "1            1.2           Asia  \n",
       "2            2.3  South America  \n",
       "3            0.6         Europe  \n",
       "4            0.9         Europe  "
      ]
     },
     "execution_count": 15,
     "metadata": {},
     "output_type": "execute_result"
    }
   ],
   "source": [
    "#hide\n",
    "df_table = (pd.DataFrame(dict(Cases=dfc_cases, Deaths=dfc_deaths, PCases=dfp_cases, PDeaths=dfp_deaths))\n",
    "             .sort_values(by=['Cases', 'Deaths'], ascending=[False, False])\n",
    "             .reset_index())\n",
    "df_table.rename(columns={'index': 'Country/Region'}, inplace=True)\n",
    "for c in 'Cases, Deaths'.split(', '):\n",
    "    df_table[f'{c} (+)'] = (df_table[c] - df_table[f'P{c}']).clip(0)  # DATA BUG\n",
    "df_table['Fatality Rate'] = (100 * df_table['Deaths'] / df_table['Cases']).round(1)\n",
    "df_table['Continent'] = df_table['Country/Region'].map(mapping['map.continent'])\n",
    "df_table.head(5)"
   ]
  },
  {
   "cell_type": "code",
   "execution_count": 16,
   "id": "fewer-occasion",
   "metadata": {
    "execution": {
     "iopub.execute_input": "2022-02-19T00:32:20.715591Z",
     "iopub.status.busy": "2022-02-19T00:32:20.715074Z",
     "iopub.status.idle": "2022-02-19T00:32:20.717187Z",
     "shell.execute_reply": "2022-02-19T00:32:20.717592Z"
    },
    "papermill": {
     "duration": 0.038439,
     "end_time": "2022-02-19T00:32:20.717714",
     "exception": false,
     "start_time": "2022-02-19T00:32:20.679275",
     "status": "completed"
    },
    "tags": []
   },
   "outputs": [],
   "source": [
    "#hide\n",
    "#delete problematic countries from table\n",
    "df_table = df_table[~df_table['Country/Region'].isin(['Cape Verde', 'Cruise Ship', 'Kosovo'])]"
   ]
  },
  {
   "cell_type": "code",
   "execution_count": 17,
   "id": "related-center",
   "metadata": {
    "execution": {
     "iopub.execute_input": "2022-02-19T00:32:20.790752Z",
     "iopub.status.busy": "2022-02-19T00:32:20.786498Z",
     "iopub.status.idle": "2022-02-19T00:32:20.798437Z",
     "shell.execute_reply": "2022-02-19T00:32:20.798012Z"
    },
    "papermill": {
     "duration": 0.050091,
     "end_time": "2022-02-19T00:32:20.798540",
     "exception": false,
     "start_time": "2022-02-19T00:32:20.748449",
     "status": "completed"
    },
    "tags": []
   },
   "outputs": [],
   "source": [
    "#hide\n",
    "metrics = [df_table.columns[index] for index in [1,2,5,6]]\n",
    "# s_china = df_table[df_table['Country/Region'].eq('China')][metrics].sum().add_prefix('China ')\n",
    "s_us = df_table[df_table['Country/Region'].eq('US')][metrics].sum().add_prefix('US ')\n",
    "s_eu = df_table[df_table['Continent'].eq('Europe')][metrics].sum().add_prefix('EU ')\n",
    "s_ind = df_table[df_table['Country/Region'].eq('India')][metrics].sum().add_prefix('India ')\n",
    "summary = {'updated': pd.to_datetime(dt_today), 'since': pd.to_datetime(dt_yday)}\n",
    "summary = {'updated': pd.to_datetime(dt_today), 'since': pd.to_datetime(dt_yday)}\n",
    "summary = {**summary, **df_table[metrics].sum(), **s_ind, **s_us, **s_eu}"
   ]
  },
  {
   "cell_type": "code",
   "execution_count": 18,
   "id": "engaging-syndrome",
   "metadata": {
    "execution": {
     "iopub.execute_input": "2022-02-19T00:32:20.864032Z",
     "iopub.status.busy": "2022-02-19T00:32:20.863537Z",
     "iopub.status.idle": "2022-02-19T00:32:20.879803Z",
     "shell.execute_reply": "2022-02-19T00:32:20.879385Z"
    },
    "papermill": {
     "duration": 0.050702,
     "end_time": "2022-02-19T00:32:20.879915",
     "exception": false,
     "start_time": "2022-02-19T00:32:20.829213",
     "status": "completed"
    },
    "tags": []
   },
   "outputs": [],
   "source": [
    "#hide\n",
    "dft_ct_new_cases = dft_cases.groupby(COL_REGION)[dt_cols].sum().diff(axis=1).fillna(0).astype(int)"
   ]
  },
  {
   "cell_type": "code",
   "execution_count": 19,
   "id": "neutral-assignment",
   "metadata": {
    "execution": {
     "iopub.execute_input": "2022-02-19T00:32:20.946399Z",
     "iopub.status.busy": "2022-02-19T00:32:20.945896Z",
     "iopub.status.idle": "2022-02-19T00:32:20.948324Z",
     "shell.execute_reply": "2022-02-19T00:32:20.947898Z"
    },
    "papermill": {
     "duration": 0.03781,
     "end_time": "2022-02-19T00:32:20.948434",
     "exception": false,
     "start_time": "2022-02-19T00:32:20.910624",
     "status": "completed"
    },
    "tags": []
   },
   "outputs": [],
   "source": [
    "#hide\n",
    "everydaycases = dft_ct_new_cases.cumsum(axis=1)"
   ]
  },
  {
   "cell_type": "code",
   "execution_count": 20,
   "id": "parliamentary-calgary",
   "metadata": {
    "execution": {
     "iopub.execute_input": "2022-02-19T00:32:21.014351Z",
     "iopub.status.busy": "2022-02-19T00:32:21.013836Z",
     "iopub.status.idle": "2022-02-19T00:32:21.601061Z",
     "shell.execute_reply": "2022-02-19T00:32:21.600506Z"
    },
    "papermill": {
     "duration": 0.621852,
     "end_time": "2022-02-19T00:32:21.601202",
     "exception": false,
     "start_time": "2022-02-19T00:32:20.979350",
     "status": "completed"
    },
    "tags": []
   },
   "outputs": [],
   "source": [
    "#hide\n",
    "import pandas as pd\n",
    "import matplotlib.pyplot as plt\n",
    "import matplotlib.ticker as ticker\n",
    "import matplotlib.animation as animation\n",
    "from IPython.display import HTML"
   ]
  },
  {
   "cell_type": "code",
   "execution_count": 21,
   "id": "lasting-extraction",
   "metadata": {
    "execution": {
     "iopub.execute_input": "2022-02-19T00:32:21.669680Z",
     "iopub.status.busy": "2022-02-19T00:32:21.669178Z",
     "iopub.status.idle": "2022-02-19T00:32:21.675470Z",
     "shell.execute_reply": "2022-02-19T00:32:21.675021Z"
    },
    "papermill": {
     "duration": 0.042335,
     "end_time": "2022-02-19T00:32:21.675580",
     "exception": false,
     "start_time": "2022-02-19T00:32:21.633245",
     "status": "completed"
    },
    "tags": []
   },
   "outputs": [],
   "source": [
    "#hide\n",
    "t = everydaycases.stack()"
   ]
  },
  {
   "cell_type": "code",
   "execution_count": 22,
   "id": "premier-sleeve",
   "metadata": {
    "execution": {
     "iopub.execute_input": "2022-02-19T00:32:21.741302Z",
     "iopub.status.busy": "2022-02-19T00:32:21.740779Z",
     "iopub.status.idle": "2022-02-19T00:32:21.751563Z",
     "shell.execute_reply": "2022-02-19T00:32:21.751154Z"
    },
    "papermill": {
     "duration": 0.04523,
     "end_time": "2022-02-19T00:32:21.751674",
     "exception": false,
     "start_time": "2022-02-19T00:32:21.706444",
     "status": "completed"
    },
    "tags": []
   },
   "outputs": [],
   "source": [
    "#hide\n",
    "g = t.reset_index(['Country/Region'])"
   ]
  },
  {
   "cell_type": "code",
   "execution_count": 23,
   "id": "distributed-pittsburgh",
   "metadata": {
    "execution": {
     "iopub.execute_input": "2022-02-19T00:32:21.817303Z",
     "iopub.status.busy": "2022-02-19T00:32:21.816704Z",
     "iopub.status.idle": "2022-02-19T00:32:21.818918Z",
     "shell.execute_reply": "2022-02-19T00:32:21.818415Z"
    },
    "papermill": {
     "duration": 0.03667,
     "end_time": "2022-02-19T00:32:21.819026",
     "exception": false,
     "start_time": "2022-02-19T00:32:21.782356",
     "status": "completed"
    },
    "tags": []
   },
   "outputs": [],
   "source": [
    "#hide\n",
    "g.index.name = 'date'"
   ]
  },
  {
   "cell_type": "code",
   "execution_count": 24,
   "id": "naked-donor",
   "metadata": {
    "execution": {
     "iopub.execute_input": "2022-02-19T00:32:21.884012Z",
     "iopub.status.busy": "2022-02-19T00:32:21.883429Z",
     "iopub.status.idle": "2022-02-19T00:32:21.888014Z",
     "shell.execute_reply": "2022-02-19T00:32:21.887533Z"
    },
    "papermill": {
     "duration": 0.03834,
     "end_time": "2022-02-19T00:32:21.888155",
     "exception": false,
     "start_time": "2022-02-19T00:32:21.849815",
     "status": "completed"
    },
    "tags": []
   },
   "outputs": [],
   "source": [
    "# #hide\n",
    "# g = g.reset_index(['date'])"
   ]
  },
  {
   "cell_type": "code",
   "execution_count": 25,
   "id": "incomplete-mustang",
   "metadata": {
    "execution": {
     "iopub.execute_input": "2022-02-19T00:32:21.952466Z",
     "iopub.status.busy": "2022-02-19T00:32:21.951865Z",
     "iopub.status.idle": "2022-02-19T00:32:21.953578Z",
     "shell.execute_reply": "2022-02-19T00:32:21.954010Z"
    },
    "papermill": {
     "duration": 0.035375,
     "end_time": "2022-02-19T00:32:21.954140",
     "exception": false,
     "start_time": "2022-02-19T00:32:21.918765",
     "status": "completed"
    },
    "tags": []
   },
   "outputs": [],
   "source": [
    "#hide\n",
    "# g.head()"
   ]
  },
  {
   "cell_type": "code",
   "execution_count": 26,
   "id": "specific-kruger",
   "metadata": {
    "execution": {
     "iopub.execute_input": "2022-02-19T00:32:22.019574Z",
     "iopub.status.busy": "2022-02-19T00:32:22.018992Z",
     "iopub.status.idle": "2022-02-19T00:32:22.022610Z",
     "shell.execute_reply": "2022-02-19T00:32:22.022205Z"
    },
    "papermill": {
     "duration": 0.03706,
     "end_time": "2022-02-19T00:32:22.022714",
     "exception": false,
     "start_time": "2022-02-19T00:32:21.985654",
     "status": "completed"
    },
    "tags": []
   },
   "outputs": [],
   "source": [
    "#hide\n",
    "# g.columns = ['date','country','cases']"
   ]
  },
  {
   "cell_type": "code",
   "execution_count": 27,
   "id": "tender-conversion",
   "metadata": {
    "execution": {
     "iopub.execute_input": "2022-02-19T00:32:22.087275Z",
     "iopub.status.busy": "2022-02-19T00:32:22.086752Z",
     "iopub.status.idle": "2022-02-19T00:32:22.088744Z",
     "shell.execute_reply": "2022-02-19T00:32:22.089171Z"
    },
    "papermill": {
     "duration": 0.036081,
     "end_time": "2022-02-19T00:32:22.089294",
     "exception": false,
     "start_time": "2022-02-19T00:32:22.053213",
     "status": "completed"
    },
    "tags": []
   },
   "outputs": [],
   "source": [
    "#hide\n",
    "# g['continent'] = g.country"
   ]
  },
  {
   "cell_type": "code",
   "execution_count": 28,
   "id": "substantial-wilderness",
   "metadata": {
    "execution": {
     "iopub.execute_input": "2022-02-19T00:32:22.156833Z",
     "iopub.status.busy": "2022-02-19T00:32:22.156240Z",
     "iopub.status.idle": "2022-02-19T00:32:22.158218Z",
     "shell.execute_reply": "2022-02-19T00:32:22.157652Z"
    },
    "papermill": {
     "duration": 0.037244,
     "end_time": "2022-02-19T00:32:22.158336",
     "exception": false,
     "start_time": "2022-02-19T00:32:22.121092",
     "status": "completed"
    },
    "tags": []
   },
   "outputs": [],
   "source": [
    "#hide\n",
    "# cols = list(g.columns.values)"
   ]
  },
  {
   "cell_type": "code",
   "execution_count": 29,
   "id": "solved-farming",
   "metadata": {
    "execution": {
     "iopub.execute_input": "2022-02-19T00:32:22.223683Z",
     "iopub.status.busy": "2022-02-19T00:32:22.223107Z",
     "iopub.status.idle": "2022-02-19T00:32:22.224788Z",
     "shell.execute_reply": "2022-02-19T00:32:22.225168Z"
    },
    "papermill": {
     "duration": 0.035731,
     "end_time": "2022-02-19T00:32:22.225291",
     "exception": false,
     "start_time": "2022-02-19T00:32:22.189560",
     "status": "completed"
    },
    "tags": []
   },
   "outputs": [],
   "source": [
    "#hide\n",
    "# cols.insert(0, cols.pop())"
   ]
  },
  {
   "cell_type": "code",
   "execution_count": 30,
   "id": "executed-adoption",
   "metadata": {
    "execution": {
     "iopub.execute_input": "2022-02-19T00:32:22.290045Z",
     "iopub.status.busy": "2022-02-19T00:32:22.289469Z",
     "iopub.status.idle": "2022-02-19T00:32:22.292701Z",
     "shell.execute_reply": "2022-02-19T00:32:22.293080Z"
    },
    "papermill": {
     "duration": 0.037266,
     "end_time": "2022-02-19T00:32:22.293201",
     "exception": false,
     "start_time": "2022-02-19T00:32:22.255935",
     "status": "completed"
    },
    "tags": []
   },
   "outputs": [],
   "source": [
    "#hide\n",
    "# g = g[cols]"
   ]
  },
  {
   "cell_type": "code",
   "execution_count": 31,
   "id": "subject-dublin",
   "metadata": {
    "execution": {
     "iopub.execute_input": "2022-02-19T00:32:22.357458Z",
     "iopub.status.busy": "2022-02-19T00:32:22.356948Z",
     "iopub.status.idle": "2022-02-19T00:32:22.359009Z",
     "shell.execute_reply": "2022-02-19T00:32:22.358584Z"
    },
    "papermill": {
     "duration": 0.035473,
     "end_time": "2022-02-19T00:32:22.359112",
     "exception": false,
     "start_time": "2022-02-19T00:32:22.323639",
     "status": "completed"
    },
    "tags": []
   },
   "outputs": [],
   "source": [
    "#hide\n",
    "# g['continent'] = g['continent'].map(mapping['map.continent'])"
   ]
  },
  {
   "cell_type": "code",
   "execution_count": 32,
   "id": "freelance-scout",
   "metadata": {
    "execution": {
     "iopub.execute_input": "2022-02-19T00:32:22.424034Z",
     "iopub.status.busy": "2022-02-19T00:32:22.423436Z",
     "iopub.status.idle": "2022-02-19T00:32:22.427102Z",
     "shell.execute_reply": "2022-02-19T00:32:22.426614Z"
    },
    "papermill": {
     "duration": 0.03729,
     "end_time": "2022-02-19T00:32:22.427216",
     "exception": false,
     "start_time": "2022-02-19T00:32:22.389926",
     "status": "completed"
    },
    "tags": []
   },
   "outputs": [],
   "source": [
    "#hide\n",
    "# g.head()"
   ]
  },
  {
   "cell_type": "code",
   "execution_count": 33,
   "id": "limited-engine",
   "metadata": {
    "execution": {
     "iopub.execute_input": "2022-02-19T00:32:22.491865Z",
     "iopub.status.busy": "2022-02-19T00:32:22.491265Z",
     "iopub.status.idle": "2022-02-19T00:32:22.493436Z",
     "shell.execute_reply": "2022-02-19T00:32:22.492972Z"
    },
    "papermill": {
     "duration": 0.035735,
     "end_time": "2022-02-19T00:32:22.493556",
     "exception": false,
     "start_time": "2022-02-19T00:32:22.457821",
     "status": "completed"
    },
    "tags": []
   },
   "outputs": [],
   "source": [
    "# hide\n",
    "# g['date'] = g['date'].astype('datetime64[ns]')"
   ]
  },
  {
   "cell_type": "code",
   "execution_count": 34,
   "id": "sophisticated-supervisor",
   "metadata": {
    "execution": {
     "iopub.execute_input": "2022-02-19T00:32:22.559266Z",
     "iopub.status.busy": "2022-02-19T00:32:22.558743Z",
     "iopub.status.idle": "2022-02-19T00:32:22.561754Z",
     "shell.execute_reply": "2022-02-19T00:32:22.562134Z"
    },
    "papermill": {
     "duration": 0.036613,
     "end_time": "2022-02-19T00:32:22.562251",
     "exception": false,
     "start_time": "2022-02-19T00:32:22.525638",
     "status": "completed"
    },
    "tags": []
   },
   "outputs": [],
   "source": [
    "#hide\n",
    "# g['date'] = g.date.dt.dayofyear"
   ]
  },
  {
   "cell_type": "code",
   "execution_count": 35,
   "id": "inside-dubai",
   "metadata": {
    "execution": {
     "iopub.execute_input": "2022-02-19T00:32:22.626549Z",
     "iopub.status.busy": "2022-02-19T00:32:22.625977Z",
     "iopub.status.idle": "2022-02-19T00:32:22.628064Z",
     "shell.execute_reply": "2022-02-19T00:32:22.627501Z"
    },
    "papermill": {
     "duration": 0.03547,
     "end_time": "2022-02-19T00:32:22.628203",
     "exception": false,
     "start_time": "2022-02-19T00:32:22.592733",
     "status": "completed"
    },
    "tags": []
   },
   "outputs": [],
   "source": [
    "#hide\n",
    "# g = g.rename(columns= {'continent':'group','country':'name','cases':'value'})"
   ]
  },
  {
   "cell_type": "code",
   "execution_count": 36,
   "id": "fleet-motorcycle",
   "metadata": {
    "execution": {
     "iopub.execute_input": "2022-02-19T00:32:22.693224Z",
     "iopub.status.busy": "2022-02-19T00:32:22.692654Z",
     "iopub.status.idle": "2022-02-19T00:32:22.694845Z",
     "shell.execute_reply": "2022-02-19T00:32:22.694275Z"
    },
    "papermill": {
     "duration": 0.035632,
     "end_time": "2022-02-19T00:32:22.694955",
     "exception": false,
     "start_time": "2022-02-19T00:32:22.659323",
     "status": "completed"
    },
    "tags": []
   },
   "outputs": [],
   "source": [
    "#hide\n",
    "# cols = ['name','group','day','value']"
   ]
  },
  {
   "cell_type": "code",
   "execution_count": 37,
   "id": "continued-sleeping",
   "metadata": {
    "execution": {
     "iopub.execute_input": "2022-02-19T00:32:22.759906Z",
     "iopub.status.busy": "2022-02-19T00:32:22.759327Z",
     "iopub.status.idle": "2022-02-19T00:32:22.762711Z",
     "shell.execute_reply": "2022-02-19T00:32:22.763089Z"
    },
    "papermill": {
     "duration": 0.036855,
     "end_time": "2022-02-19T00:32:22.763203",
     "exception": false,
     "start_time": "2022-02-19T00:32:22.726348",
     "status": "completed"
    },
    "tags": []
   },
   "outputs": [],
   "source": [
    "#hide\n",
    "# g.rename(columns= {'date':'day'},inplace = True)"
   ]
  },
  {
   "cell_type": "code",
   "execution_count": 38,
   "id": "major-fight",
   "metadata": {
    "execution": {
     "iopub.execute_input": "2022-02-19T00:32:22.827676Z",
     "iopub.status.busy": "2022-02-19T00:32:22.827097Z",
     "iopub.status.idle": "2022-02-19T00:32:22.829051Z",
     "shell.execute_reply": "2022-02-19T00:32:22.828482Z"
    },
    "papermill": {
     "duration": 0.035309,
     "end_time": "2022-02-19T00:32:22.829162",
     "exception": false,
     "start_time": "2022-02-19T00:32:22.793853",
     "status": "completed"
    },
    "tags": []
   },
   "outputs": [],
   "source": [
    "#hide\n",
    "# g = g[cols]"
   ]
  },
  {
   "cell_type": "code",
   "execution_count": 39,
   "id": "structured-mobile",
   "metadata": {
    "execution": {
     "iopub.execute_input": "2022-02-19T00:32:22.894045Z",
     "iopub.status.busy": "2022-02-19T00:32:22.893480Z",
     "iopub.status.idle": "2022-02-19T00:32:22.895055Z",
     "shell.execute_reply": "2022-02-19T00:32:22.895437Z"
    },
    "papermill": {
     "duration": 0.035274,
     "end_time": "2022-02-19T00:32:22.895551",
     "exception": false,
     "start_time": "2022-02-19T00:32:22.860277",
     "status": "completed"
    },
    "tags": []
   },
   "outputs": [],
   "source": [
    "# #hide\n",
    "# g = g[g.group.notna()]"
   ]
  },
  {
   "cell_type": "code",
   "execution_count": 40,
   "id": "determined-closing",
   "metadata": {
    "execution": {
     "iopub.execute_input": "2022-02-19T00:32:22.959942Z",
     "iopub.status.busy": "2022-02-19T00:32:22.959348Z",
     "iopub.status.idle": "2022-02-19T00:32:22.961063Z",
     "shell.execute_reply": "2022-02-19T00:32:22.961496Z"
    },
    "papermill": {
     "duration": 0.035359,
     "end_time": "2022-02-19T00:32:22.961624",
     "exception": false,
     "start_time": "2022-02-19T00:32:22.926265",
     "status": "completed"
    },
    "tags": []
   },
   "outputs": [],
   "source": [
    "# #hide\n",
    "# colors = dict(zip(\n",
    "#     [\"Oceania\", \"Europe\", \"Asia\", \"South America\", \"Middle East\", \"North America\", \"Africa\"],\n",
    "#     [\"#adb0ff\", \"#ffb3ff\", \"#90d595\", \"#e48381\", \"#aafbff\", \"#f7bb5f\", \"#eafb50\"]\n",
    "# ))\n",
    "# group_lk = g.set_index('name')['group'].to_dict()"
   ]
  },
  {
   "cell_type": "code",
   "execution_count": null,
   "id": "gross-drinking",
   "metadata": {
    "papermill": {
     "duration": 0.03042,
     "end_time": "2022-02-19T00:32:23.022837",
     "exception": false,
     "start_time": "2022-02-19T00:32:22.992417",
     "status": "completed"
    },
    "tags": []
   },
   "outputs": [],
   "source": []
  },
  {
   "cell_type": "code",
   "execution_count": 41,
   "id": "subject-macintosh",
   "metadata": {
    "execution": {
     "iopub.execute_input": "2022-02-19T00:32:23.087632Z",
     "iopub.status.busy": "2022-02-19T00:32:23.087117Z",
     "iopub.status.idle": "2022-02-19T00:32:23.089660Z",
     "shell.execute_reply": "2022-02-19T00:32:23.089254Z"
    },
    "papermill": {
     "duration": 0.036387,
     "end_time": "2022-02-19T00:32:23.089761",
     "exception": false,
     "start_time": "2022-02-19T00:32:23.053374",
     "status": "completed"
    },
    "tags": []
   },
   "outputs": [],
   "source": [
    "# #hide\n",
    "# fig, ax = plt.subplots(figsize=(15, 8))\n",
    "\n",
    "# def draw_barchart(current_day):\n",
    "#     dff = g[g['day'].eq(current_day)].sort_values(by='value', ascending=True).tail(10)\n",
    "#     ax.clear()\n",
    "#     ax.barh(dff['name'], dff['value'], color=[colors[group_lk[x]] for x in dff['name']])\n",
    "#     dx = dff['value'].max() / 200\n",
    "    \n",
    "#     for i, (value, name) in enumerate(zip(dff['value'], dff['name'])):\n",
    "#         ax.text(value-dx, i,     name,           size=14, weight=600, ha='right', va='bottom')\n",
    "#         ax.text(value-dx, i-.25, group_lk[name], size=10, color='#444444', ha='right', va='baseline')\n",
    "#         ax.text(value+dx, i,     f'{value:,.0f}',  size=14, ha='left',  va='center')\n",
    "#     ax.text(1, 0.4, current_day, transform=ax.transAxes, color='#777777', size=46, ha='right', weight=800)\n",
    "#     ax.text(0, 1.06, 'Population (thousands)', transform=ax.transAxes, size=12, color='#777777')\n",
    "#     ax.xaxis.set_major_formatter(ticker.StrMethodFormatter('{x:,.0f}'))\n",
    "#     ax.xaxis.set_ticks_position('top')\n",
    "#     ax.tick_params(axis='x', colors='#777777', labelsize=12)\n",
    "#     ax.set_yticks([])\n",
    "#     ax.margins(0, 0.01)\n",
    "#     ax.grid(which='major', axis='x', linestyle='-')\n",
    "#     ax.set_axisbelow(True)\n",
    "    \n",
    "#     ax.text(0, 1.15, 'Coronavirus',\n",
    "#             transform=ax.transAxes, size=24, weight=600, ha='left', va='top')\n",
    "# #     ax.text(1, 0, 'by @pratapvardhan; credit @jburnmurdoch', transform=ax.transAxes, color='#777777', ha='right',\n",
    "# #             bbox=dict(facecolor='white', alpha=0.8, edgecolor='white'))\n",
    "#     plt.box(False)"
   ]
  },
  {
   "cell_type": "code",
   "execution_count": 42,
   "id": "sexual-wages",
   "metadata": {
    "execution": {
     "iopub.execute_input": "2022-02-19T00:32:23.154157Z",
     "iopub.status.busy": "2022-02-19T00:32:23.153629Z",
     "iopub.status.idle": "2022-02-19T00:32:23.155459Z",
     "shell.execute_reply": "2022-02-19T00:32:23.154958Z"
    },
    "papermill": {
     "duration": 0.035187,
     "end_time": "2022-02-19T00:32:23.155559",
     "exception": false,
     "start_time": "2022-02-19T00:32:23.120372",
     "status": "completed"
    },
    "tags": []
   },
   "outputs": [],
   "source": [
    "# #hide_input\n",
    "# fig, ax = plt.subplots(figsize=(15, 8))\n",
    "# animator = animation.FuncAnimation(fig, draw_barchart, frames=range(g.day.values.min(), g.day.values.max()))\n",
    "# HTML(animator.to_jshtml())\n",
    "# # or use animator.to_html5_video() or animator.save() "
   ]
  },
  {
   "cell_type": "code",
   "execution_count": null,
   "id": "australian-container",
   "metadata": {
    "papermill": {
     "duration": 0.030632,
     "end_time": "2022-02-19T00:32:23.217266",
     "exception": false,
     "start_time": "2022-02-19T00:32:23.186634",
     "status": "completed"
    },
    "tags": []
   },
   "outputs": [],
   "source": []
  },
  {
   "cell_type": "code",
   "execution_count": null,
   "id": "mediterranean-pontiac",
   "metadata": {
    "papermill": {
     "duration": 0.030603,
     "end_time": "2022-02-19T00:32:23.278378",
     "exception": false,
     "start_time": "2022-02-19T00:32:23.247775",
     "status": "completed"
    },
    "tags": []
   },
   "outputs": [],
   "source": []
  },
  {
   "cell_type": "code",
   "execution_count": null,
   "id": "aging-legislature",
   "metadata": {
    "papermill": {
     "duration": 0.0305,
     "end_time": "2022-02-19T00:32:23.339613",
     "exception": false,
     "start_time": "2022-02-19T00:32:23.309113",
     "status": "completed"
    },
    "tags": []
   },
   "outputs": [],
   "source": []
  }
 ],
 "metadata": {
  "kernelspec": {
   "display_name": "Python 3",
   "language": "python",
   "name": "python3"
  },
  "language_info": {
   "codemirror_mode": {
    "name": "ipython",
    "version": 3
   },
   "file_extension": ".py",
   "mimetype": "text/x-python",
   "name": "python",
   "nbconvert_exporter": "python",
   "pygments_lexer": "ipython3",
   "version": "3.6.15"
  },
  "papermill": {
   "duration": 6.431541,
   "end_time": "2022-02-19T00:32:23.688449",
   "environment_variables": {},
   "exception": null,
   "input_path": "2020-03-21-covid19exp.ipynb",
   "output_path": "2020-03-21-covid19exp.ipynb",
   "parameters": {},
   "start_time": "2022-02-19T00:32:17.256908",
   "version": "2.0.0"
  }
 },
 "nbformat": 4,
 "nbformat_minor": 5
}