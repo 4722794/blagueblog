{
 "cells": [
  {
   "cell_type": "markdown",
   "id": "muslim-click",
   "metadata": {
    "papermill": {
     "duration": 0.040119,
     "end_time": "2021-11-20T12:11:31.145160",
     "exception": false,
     "start_time": "2021-11-20T12:11:31.105041",
     "status": "completed"
    },
    "tags": []
   },
   "source": [
    "# COVID-19 Case Race\n",
    "> A race chart to see rising cases around the world\n",
    "\n",
    "- author: Hargun Oberoi\n",
    "- image: images/covid-overview.png\n",
    "- hide: false\n",
    "- badges: false"
   ]
  },
  {
   "cell_type": "code",
   "execution_count": 1,
   "id": "proof-material",
   "metadata": {
    "execution": {
     "iopub.execute_input": "2021-11-20T12:11:31.221187Z",
     "iopub.status.busy": "2021-11-20T12:11:31.220260Z",
     "iopub.status.idle": "2021-11-20T12:11:31.569853Z",
     "shell.execute_reply": "2021-11-20T12:11:31.569012Z"
    },
    "papermill": {
     "duration": 0.389403,
     "end_time": "2021-11-20T12:11:31.570005",
     "exception": false,
     "start_time": "2021-11-20T12:11:31.180602",
     "status": "completed"
    },
    "tags": []
   },
   "outputs": [],
   "source": [
    "#hide\n",
    "import numpy as np\n",
    "import pandas as pd\n",
    "from jinja2 import Template\n",
    "from IPython.display import HTML"
   ]
  },
  {
   "cell_type": "code",
   "execution_count": 2,
   "id": "developed-terminology",
   "metadata": {
    "execution": {
     "iopub.execute_input": "2021-11-20T12:11:31.640828Z",
     "iopub.status.busy": "2021-11-20T12:11:31.640102Z",
     "iopub.status.idle": "2021-11-20T12:11:31.642450Z",
     "shell.execute_reply": "2021-11-20T12:11:31.641977Z"
    },
    "papermill": {
     "duration": 0.038814,
     "end_time": "2021-11-20T12:11:31.642557",
     "exception": false,
     "start_time": "2021-11-20T12:11:31.603743",
     "status": "completed"
    },
    "tags": []
   },
   "outputs": [],
   "source": [
    "#hide\n",
    "\n",
    "# FETCH\n",
    "base_url = 'https://raw.githubusercontent.com/pratapvardhan/notebooks/master/covid19/'\n",
    "paths = {\n",
    "    'mapping': base_url + 'mapping_countries.csv',\n",
    "    'overview': base_url + 'overview.tpl'\n",
    "}"
   ]
  },
  {
   "cell_type": "code",
   "execution_count": 3,
   "id": "dynamic-saver",
   "metadata": {
    "execution": {
     "iopub.execute_input": "2021-11-20T12:11:31.715619Z",
     "iopub.status.busy": "2021-11-20T12:11:31.713499Z",
     "iopub.status.idle": "2021-11-20T12:11:31.718420Z",
     "shell.execute_reply": "2021-11-20T12:11:31.718898Z"
    },
    "papermill": {
     "duration": 0.045085,
     "end_time": "2021-11-20T12:11:31.719020",
     "exception": false,
     "start_time": "2021-11-20T12:11:31.673935",
     "status": "completed"
    },
    "tags": []
   },
   "outputs": [
    {
     "data": {
      "text/plain": [
       "'https://raw.githubusercontent.com/pratapvardhan/notebooks/master/covid19/mapping_countries.csv'"
      ]
     },
     "execution_count": 3,
     "metadata": {},
     "output_type": "execute_result"
    }
   ],
   "source": [
    "#hide\n",
    "paths['mapping']"
   ]
  },
  {
   "cell_type": "code",
   "execution_count": 4,
   "id": "urban-software",
   "metadata": {
    "execution": {
     "iopub.execute_input": "2021-11-20T12:11:31.791158Z",
     "iopub.status.busy": "2021-11-20T12:11:31.790596Z",
     "iopub.status.idle": "2021-11-20T12:11:31.792902Z",
     "shell.execute_reply": "2021-11-20T12:11:31.792407Z"
    },
    "papermill": {
     "duration": 0.040244,
     "end_time": "2021-11-20T12:11:31.793046",
     "exception": false,
     "start_time": "2021-11-20T12:11:31.752802",
     "status": "completed"
    },
    "tags": []
   },
   "outputs": [],
   "source": [
    "#hide\n",
    "def get_mappings(url):\n",
    "    df = pd.read_csv(url)\n",
    "    return {\n",
    "        'df': df,\n",
    "        'replace.country': dict(df.dropna(subset=['Name']).set_index('Country')['Name']),\n",
    "        'map.continent': dict(df.set_index('Name')['Continent'])\n",
    "    }"
   ]
  },
  {
   "cell_type": "code",
   "execution_count": 5,
   "id": "intimate-machinery",
   "metadata": {
    "execution": {
     "iopub.execute_input": "2021-11-20T12:11:31.859687Z",
     "iopub.status.busy": "2021-11-20T12:11:31.859134Z",
     "iopub.status.idle": "2021-11-20T12:11:31.898791Z",
     "shell.execute_reply": "2021-11-20T12:11:31.899277Z"
    },
    "papermill": {
     "duration": 0.075098,
     "end_time": "2021-11-20T12:11:31.899476",
     "exception": false,
     "start_time": "2021-11-20T12:11:31.824378",
     "status": "completed"
    },
    "tags": []
   },
   "outputs": [],
   "source": [
    "#hide\n",
    "mapping = get_mappings(paths['mapping'])"
   ]
  },
  {
   "cell_type": "code",
   "execution_count": 6,
   "id": "certified-tactics",
   "metadata": {
    "execution": {
     "iopub.execute_input": "2021-11-20T12:11:31.967342Z",
     "iopub.status.busy": "2021-11-20T12:11:31.966716Z",
     "iopub.status.idle": "2021-11-20T12:11:31.968825Z",
     "shell.execute_reply": "2021-11-20T12:11:31.969348Z"
    },
    "papermill": {
     "duration": 0.038524,
     "end_time": "2021-11-20T12:11:31.969462",
     "exception": false,
     "start_time": "2021-11-20T12:11:31.930938",
     "status": "completed"
    },
    "tags": []
   },
   "outputs": [],
   "source": [
    "#hide\n",
    "def get_template(path):\n",
    "    from urllib.parse import urlparse\n",
    "    if bool(urlparse(path).netloc):\n",
    "        from urllib.request import urlopen\n",
    "        return urlopen(path).read().decode('utf8')\n",
    "    return open(path).read()"
   ]
  },
  {
   "cell_type": "code",
   "execution_count": 7,
   "id": "realistic-blast",
   "metadata": {
    "execution": {
     "iopub.execute_input": "2021-11-20T12:11:32.036940Z",
     "iopub.status.busy": "2021-11-20T12:11:32.036267Z",
     "iopub.status.idle": "2021-11-20T12:11:32.038262Z",
     "shell.execute_reply": "2021-11-20T12:11:32.038706Z"
    },
    "papermill": {
     "duration": 0.037862,
     "end_time": "2021-11-20T12:11:32.038824",
     "exception": false,
     "start_time": "2021-11-20T12:11:32.000962",
     "status": "completed"
    },
    "tags": []
   },
   "outputs": [],
   "source": [
    "#hide\n",
    "def get_frame(name):\n",
    "    url = (\n",
    "        'https://raw.githubusercontent.com/CSSEGISandData/COVID-19/master/csse_covid_19_data/'\n",
    "        f'csse_covid_19_time_series/time_series_covid19_{name}_global.csv')\n",
    "    df = pd.read_csv(url)\n",
    "    # rename countries\n",
    "    df['Country/Region'] = df['Country/Region'].replace(mapping['replace.country'])\n",
    "    return df"
   ]
  },
  {
   "cell_type": "code",
   "execution_count": 8,
   "id": "affiliated-characterization",
   "metadata": {
    "execution": {
     "iopub.execute_input": "2021-11-20T12:11:32.119185Z",
     "iopub.status.busy": "2021-11-20T12:11:32.118502Z",
     "iopub.status.idle": "2021-11-20T12:11:32.122276Z",
     "shell.execute_reply": "2021-11-20T12:11:32.122738Z"
    },
    "papermill": {
     "duration": 0.049175,
     "end_time": "2021-11-20T12:11:32.122862",
     "exception": false,
     "start_time": "2021-11-20T12:11:32.073687",
     "status": "completed"
    },
    "tags": []
   },
   "outputs": [],
   "source": [
    "#hide\n",
    "def get_dates(df):\n",
    "    dt_cols = df.columns[~df.columns.isin(['Province/State', 'Country/Region', 'Lat', 'Long'])]\n",
    "    LAST_DATE_I = -1\n",
    "    # sometimes last column may be empty, then go backwards\n",
    "    for i in range(-1, -len(dt_cols), -1):\n",
    "        if not df[dt_cols[i]].fillna(0).eq(0).all():\n",
    "            LAST_DATE_I = i\n",
    "            break\n",
    "    return LAST_DATE_I, dt_cols"
   ]
  },
  {
   "cell_type": "code",
   "execution_count": 9,
   "id": "recent-optimization",
   "metadata": {
    "execution": {
     "iopub.execute_input": "2021-11-20T12:11:32.197813Z",
     "iopub.status.busy": "2021-11-20T12:11:32.197029Z",
     "iopub.status.idle": "2021-11-20T12:11:32.581531Z",
     "shell.execute_reply": "2021-11-20T12:11:32.580970Z"
    },
    "papermill": {
     "duration": 0.421876,
     "end_time": "2021-11-20T12:11:32.581660",
     "exception": false,
     "start_time": "2021-11-20T12:11:32.159784",
     "status": "completed"
    },
    "tags": []
   },
   "outputs": [],
   "source": [
    "#hide\n",
    "COL_REGION = 'Country/Region'\n",
    "# Confirmed, Recovered, Deaths\n",
    "df = get_frame('confirmed')\n",
    "# dft_: timeseries, dfc_: today country agg\n",
    "dft_cases = df\n",
    "dft_deaths = get_frame('deaths')\n",
    "dft_recovered = get_frame('recovered')\n",
    "LAST_DATE_I, dt_cols = get_dates(df)"
   ]
  },
  {
   "cell_type": "code",
   "execution_count": 10,
   "id": "absolute-copper",
   "metadata": {
    "execution": {
     "iopub.execute_input": "2021-11-20T12:11:32.648127Z",
     "iopub.status.busy": "2021-11-20T12:11:32.647457Z",
     "iopub.status.idle": "2021-11-20T12:11:32.650273Z",
     "shell.execute_reply": "2021-11-20T12:11:32.649846Z"
    },
    "papermill": {
     "duration": 0.037693,
     "end_time": "2021-11-20T12:11:32.650406",
     "exception": false,
     "start_time": "2021-11-20T12:11:32.612713",
     "status": "completed"
    },
    "tags": []
   },
   "outputs": [],
   "source": [
    "#hide\n",
    "LAST_DATE_I, dt_cols = get_dates(df)\n",
    "dt_today =dt_cols[LAST_DATE_I]\n",
    "# dt_5day = dt_cols[LAST_DATE_I - 5]\n",
    "dt_yday = dt_cols[LAST_DATE_I - 1]"
   ]
  },
  {
   "cell_type": "code",
   "execution_count": 11,
   "id": "restricted-sheriff",
   "metadata": {
    "execution": {
     "iopub.execute_input": "2021-11-20T12:11:32.721503Z",
     "iopub.status.busy": "2021-11-20T12:11:32.720847Z",
     "iopub.status.idle": "2021-11-20T12:11:32.730120Z",
     "shell.execute_reply": "2021-11-20T12:11:32.729672Z"
    },
    "papermill": {
     "duration": 0.046748,
     "end_time": "2021-11-20T12:11:32.730222",
     "exception": false,
     "start_time": "2021-11-20T12:11:32.683474",
     "status": "completed"
    },
    "tags": []
   },
   "outputs": [],
   "source": [
    "#hide\n",
    "dfc_cases = dft_cases.groupby(COL_REGION)[dt_today].sum()\n",
    "dfc_deaths = dft_deaths.groupby(COL_REGION)[dt_today].sum()\n",
    "# dfp_cases = dft_cases.groupby(COL_REGION)[dt_5day].sum()\n",
    "# dfp_deaths = dft_deaths.groupby(COL_REGION)[dt_5day].sum()\n",
    "dfp_cases = dft_cases.groupby(COL_REGION)[dt_yday].sum()\n",
    "dfp_deaths = dft_deaths.groupby(COL_REGION)[dt_yday].sum()"
   ]
  },
  {
   "cell_type": "code",
   "execution_count": 12,
   "id": "deluxe-hepatitis",
   "metadata": {
    "execution": {
     "iopub.execute_input": "2021-11-20T12:11:32.805017Z",
     "iopub.status.busy": "2021-11-20T12:11:32.804356Z",
     "iopub.status.idle": "2021-11-20T12:11:32.809512Z",
     "shell.execute_reply": "2021-11-20T12:11:32.809026Z"
    },
    "papermill": {
     "duration": 0.042751,
     "end_time": "2021-11-20T12:11:32.809623",
     "exception": false,
     "start_time": "2021-11-20T12:11:32.766872",
     "status": "completed"
    },
    "tags": []
   },
   "outputs": [],
   "source": [
    "#hide\n",
    "df_table = (pd.DataFrame(dict(Cases = dfc_cases, Deaths = dfc_deaths, PCases = dfp_cases, PDeaths = dfp_deaths))\n",
    "            .sort_values(by = ['Cases','Deaths'], ascending = [False, False])\n",
    "            .reset_index())"
   ]
  },
  {
   "cell_type": "code",
   "execution_count": 13,
   "id": "educational-chancellor",
   "metadata": {
    "execution": {
     "iopub.execute_input": "2021-11-20T12:11:32.905534Z",
     "iopub.status.busy": "2021-11-20T12:11:32.904788Z",
     "iopub.status.idle": "2021-11-20T12:11:32.914540Z",
     "shell.execute_reply": "2021-11-20T12:11:32.915405Z"
    },
    "papermill": {
     "duration": 0.066629,
     "end_time": "2021-11-20T12:11:32.915613",
     "exception": false,
     "start_time": "2021-11-20T12:11:32.848984",
     "status": "completed"
    },
    "tags": []
   },
   "outputs": [
    {
     "data": {
      "text/html": [
       "<div>\n",
       "<style scoped>\n",
       "    .dataframe tbody tr th:only-of-type {\n",
       "        vertical-align: middle;\n",
       "    }\n",
       "\n",
       "    .dataframe tbody tr th {\n",
       "        vertical-align: top;\n",
       "    }\n",
       "\n",
       "    .dataframe thead th {\n",
       "        text-align: right;\n",
       "    }\n",
       "</style>\n",
       "<table border=\"1\" class=\"dataframe\">\n",
       "  <thead>\n",
       "    <tr style=\"text-align: right;\">\n",
       "      <th></th>\n",
       "      <th>Country/Region</th>\n",
       "      <th>Cases</th>\n",
       "      <th>Deaths</th>\n",
       "      <th>PCases</th>\n",
       "      <th>PDeaths</th>\n",
       "      <th>Cases (+)</th>\n",
       "      <th>Deaths (+)</th>\n",
       "      <th>Fatality Rate</th>\n",
       "      <th>Continent</th>\n",
       "    </tr>\n",
       "  </thead>\n",
       "  <tbody>\n",
       "    <tr>\n",
       "      <th>0</th>\n",
       "      <td>US</td>\n",
       "      <td>47660379</td>\n",
       "      <td>770691</td>\n",
       "      <td>47531319</td>\n",
       "      <td>768695</td>\n",
       "      <td>129060</td>\n",
       "      <td>1996</td>\n",
       "      <td>1.62</td>\n",
       "      <td>North America</td>\n",
       "    </tr>\n",
       "    <tr>\n",
       "      <th>1</th>\n",
       "      <td>India</td>\n",
       "      <td>34499925</td>\n",
       "      <td>465349</td>\n",
       "      <td>34489623</td>\n",
       "      <td>465082</td>\n",
       "      <td>10302</td>\n",
       "      <td>267</td>\n",
       "      <td>1.35</td>\n",
       "      <td>Asia</td>\n",
       "    </tr>\n",
       "    <tr>\n",
       "      <th>2</th>\n",
       "      <td>Brazil</td>\n",
       "      <td>22003317</td>\n",
       "      <td>612370</td>\n",
       "      <td>21989962</td>\n",
       "      <td>612144</td>\n",
       "      <td>13355</td>\n",
       "      <td>226</td>\n",
       "      <td>2.78</td>\n",
       "      <td>South America</td>\n",
       "    </tr>\n",
       "    <tr>\n",
       "      <th>3</th>\n",
       "      <td>United Kingdom</td>\n",
       "      <td>9817505</td>\n",
       "      <td>144158</td>\n",
       "      <td>9772670</td>\n",
       "      <td>143999</td>\n",
       "      <td>44835</td>\n",
       "      <td>159</td>\n",
       "      <td>1.47</td>\n",
       "      <td>Europe</td>\n",
       "    </tr>\n",
       "    <tr>\n",
       "      <th>4</th>\n",
       "      <td>Russia</td>\n",
       "      <td>9099253</td>\n",
       "      <td>256669</td>\n",
       "      <td>9063318</td>\n",
       "      <td>255448</td>\n",
       "      <td>35935</td>\n",
       "      <td>1221</td>\n",
       "      <td>2.82</td>\n",
       "      <td>Europe</td>\n",
       "    </tr>\n",
       "  </tbody>\n",
       "</table>\n",
       "</div>"
      ],
      "text/plain": [
       "   Country/Region     Cases  Deaths    PCases  PDeaths  Cases (+)  Deaths (+)  \\\n",
       "0              US  47660379  770691  47531319   768695     129060        1996   \n",
       "1           India  34499925  465349  34489623   465082      10302         267   \n",
       "2          Brazil  22003317  612370  21989962   612144      13355         226   \n",
       "3  United Kingdom   9817505  144158   9772670   143999      44835         159   \n",
       "4          Russia   9099253  256669   9063318   255448      35935        1221   \n",
       "\n",
       "   Fatality Rate      Continent  \n",
       "0           1.62  North America  \n",
       "1           1.35           Asia  \n",
       "2           2.78  South America  \n",
       "3           1.47         Europe  \n",
       "4           2.82         Europe  "
      ]
     },
     "execution_count": 13,
     "metadata": {},
     "output_type": "execute_result"
    }
   ],
   "source": [
    "#hide\n",
    "for c in 'Cases, Deaths'.split(', '):\n",
    "    df_table[f'{c} (+)'] = (df_table[c] - df_table[f'P{c}']).clip(0)\n",
    "    #Clip ça veut dire, les chiffres negatif sont interdit\n",
    "df_table['Fatality Rate'] = (100* df_table['Deaths']/ df_table['Cases']).round(2)\n",
    "df_table['Continent'] = df_table['Country/Region'].map(mapping['map.continent'])\n",
    "df_table.head(5)"
   ]
  },
  {
   "cell_type": "code",
   "execution_count": 14,
   "id": "aboriginal-bulgaria",
   "metadata": {
    "execution": {
     "iopub.execute_input": "2021-11-20T12:11:32.999727Z",
     "iopub.status.busy": "2021-11-20T12:11:32.999152Z",
     "iopub.status.idle": "2021-11-20T12:11:33.001242Z",
     "shell.execute_reply": "2021-11-20T12:11:33.001879Z"
    },
    "papermill": {
     "duration": 0.044306,
     "end_time": "2021-11-20T12:11:33.002057",
     "exception": false,
     "start_time": "2021-11-20T12:11:32.957751",
     "status": "completed"
    },
    "tags": []
   },
   "outputs": [],
   "source": [
    "#hide\n",
    "#delete problematic countries from table\n",
    "df_table = df_table[~df_table['Country/Region'].isin(['Cape Verde', 'Cruise Ship', 'Kosovo'])]"
   ]
  },
  {
   "cell_type": "code",
   "execution_count": 15,
   "id": "fantastic-effect",
   "metadata": {
    "execution": {
     "iopub.execute_input": "2021-11-20T12:11:33.089377Z",
     "iopub.status.busy": "2021-11-20T12:11:33.088744Z",
     "iopub.status.idle": "2021-11-20T12:11:33.118998Z",
     "shell.execute_reply": "2021-11-20T12:11:33.119836Z"
    },
    "papermill": {
     "duration": 0.078309,
     "end_time": "2021-11-20T12:11:33.120090",
     "exception": false,
     "start_time": "2021-11-20T12:11:33.041781",
     "status": "completed"
    },
    "tags": []
   },
   "outputs": [
    {
     "data": {
      "text/html": [
       "<div>\n",
       "<style scoped>\n",
       "    .dataframe tbody tr th:only-of-type {\n",
       "        vertical-align: middle;\n",
       "    }\n",
       "\n",
       "    .dataframe tbody tr th {\n",
       "        vertical-align: top;\n",
       "    }\n",
       "\n",
       "    .dataframe thead th {\n",
       "        text-align: right;\n",
       "    }\n",
       "</style>\n",
       "<table border=\"1\" class=\"dataframe\">\n",
       "  <thead>\n",
       "    <tr style=\"text-align: right;\">\n",
       "      <th></th>\n",
       "      <th>Country/Region</th>\n",
       "      <th>Cases</th>\n",
       "      <th>Deaths</th>\n",
       "      <th>PCases</th>\n",
       "      <th>PDeaths</th>\n",
       "      <th>Cases (+)</th>\n",
       "      <th>Deaths (+)</th>\n",
       "      <th>Fatality Rate</th>\n",
       "      <th>Continent</th>\n",
       "    </tr>\n",
       "  </thead>\n",
       "  <tbody>\n",
       "    <tr>\n",
       "      <th>0</th>\n",
       "      <td>US</td>\n",
       "      <td>47660379</td>\n",
       "      <td>770691</td>\n",
       "      <td>47531319</td>\n",
       "      <td>768695</td>\n",
       "      <td>129060</td>\n",
       "      <td>1996</td>\n",
       "      <td>1.6</td>\n",
       "      <td>North America</td>\n",
       "    </tr>\n",
       "    <tr>\n",
       "      <th>1</th>\n",
       "      <td>India</td>\n",
       "      <td>34499925</td>\n",
       "      <td>465349</td>\n",
       "      <td>34489623</td>\n",
       "      <td>465082</td>\n",
       "      <td>10302</td>\n",
       "      <td>267</td>\n",
       "      <td>1.3</td>\n",
       "      <td>Asia</td>\n",
       "    </tr>\n",
       "    <tr>\n",
       "      <th>2</th>\n",
       "      <td>Brazil</td>\n",
       "      <td>22003317</td>\n",
       "      <td>612370</td>\n",
       "      <td>21989962</td>\n",
       "      <td>612144</td>\n",
       "      <td>13355</td>\n",
       "      <td>226</td>\n",
       "      <td>2.8</td>\n",
       "      <td>South America</td>\n",
       "    </tr>\n",
       "    <tr>\n",
       "      <th>3</th>\n",
       "      <td>United Kingdom</td>\n",
       "      <td>9817505</td>\n",
       "      <td>144158</td>\n",
       "      <td>9772670</td>\n",
       "      <td>143999</td>\n",
       "      <td>44835</td>\n",
       "      <td>159</td>\n",
       "      <td>1.5</td>\n",
       "      <td>Europe</td>\n",
       "    </tr>\n",
       "    <tr>\n",
       "      <th>4</th>\n",
       "      <td>Russia</td>\n",
       "      <td>9099253</td>\n",
       "      <td>256669</td>\n",
       "      <td>9063318</td>\n",
       "      <td>255448</td>\n",
       "      <td>35935</td>\n",
       "      <td>1221</td>\n",
       "      <td>2.8</td>\n",
       "      <td>Europe</td>\n",
       "    </tr>\n",
       "  </tbody>\n",
       "</table>\n",
       "</div>"
      ],
      "text/plain": [
       "   Country/Region     Cases  Deaths    PCases  PDeaths  Cases (+)  Deaths (+)  \\\n",
       "0              US  47660379  770691  47531319   768695     129060        1996   \n",
       "1           India  34499925  465349  34489623   465082      10302         267   \n",
       "2          Brazil  22003317  612370  21989962   612144      13355         226   \n",
       "3  United Kingdom   9817505  144158   9772670   143999      44835         159   \n",
       "4          Russia   9099253  256669   9063318   255448      35935        1221   \n",
       "\n",
       "   Fatality Rate      Continent  \n",
       "0            1.6  North America  \n",
       "1            1.3           Asia  \n",
       "2            2.8  South America  \n",
       "3            1.5         Europe  \n",
       "4            2.8         Europe  "
      ]
     },
     "execution_count": 15,
     "metadata": {},
     "output_type": "execute_result"
    }
   ],
   "source": [
    "#hide\n",
    "df_table = (pd.DataFrame(dict(Cases=dfc_cases, Deaths=dfc_deaths, PCases=dfp_cases, PDeaths=dfp_deaths))\n",
    "             .sort_values(by=['Cases', 'Deaths'], ascending=[False, False])\n",
    "             .reset_index())\n",
    "df_table.rename(columns={'index': 'Country/Region'}, inplace=True)\n",
    "for c in 'Cases, Deaths'.split(', '):\n",
    "    df_table[f'{c} (+)'] = (df_table[c] - df_table[f'P{c}']).clip(0)  # DATA BUG\n",
    "df_table['Fatality Rate'] = (100 * df_table['Deaths'] / df_table['Cases']).round(1)\n",
    "df_table['Continent'] = df_table['Country/Region'].map(mapping['map.continent'])\n",
    "df_table.head(5)"
   ]
  },
  {
   "cell_type": "code",
   "execution_count": 16,
   "id": "fewer-occasion",
   "metadata": {
    "execution": {
     "iopub.execute_input": "2021-11-20T12:11:33.214362Z",
     "iopub.status.busy": "2021-11-20T12:11:33.213738Z",
     "iopub.status.idle": "2021-11-20T12:11:33.216411Z",
     "shell.execute_reply": "2021-11-20T12:11:33.216900Z"
    },
    "papermill": {
     "duration": 0.047827,
     "end_time": "2021-11-20T12:11:33.217061",
     "exception": false,
     "start_time": "2021-11-20T12:11:33.169234",
     "status": "completed"
    },
    "tags": []
   },
   "outputs": [],
   "source": [
    "#hide\n",
    "#delete problematic countries from table\n",
    "df_table = df_table[~df_table['Country/Region'].isin(['Cape Verde', 'Cruise Ship', 'Kosovo'])]"
   ]
  },
  {
   "cell_type": "code",
   "execution_count": 17,
   "id": "related-center",
   "metadata": {
    "execution": {
     "iopub.execute_input": "2021-11-20T12:11:33.295834Z",
     "iopub.status.busy": "2021-11-20T12:11:33.295251Z",
     "iopub.status.idle": "2021-11-20T12:11:33.308521Z",
     "shell.execute_reply": "2021-11-20T12:11:33.309448Z"
    },
    "papermill": {
     "duration": 0.056161,
     "end_time": "2021-11-20T12:11:33.309573",
     "exception": false,
     "start_time": "2021-11-20T12:11:33.253412",
     "status": "completed"
    },
    "tags": []
   },
   "outputs": [],
   "source": [
    "#hide\n",
    "metrics = [df_table.columns[index] for index in [1,2,5,6]]\n",
    "# s_china = df_table[df_table['Country/Region'].eq('China')][metrics].sum().add_prefix('China ')\n",
    "s_us = df_table[df_table['Country/Region'].eq('US')][metrics].sum().add_prefix('US ')\n",
    "s_eu = df_table[df_table['Continent'].eq('Europe')][metrics].sum().add_prefix('EU ')\n",
    "s_ind = df_table[df_table['Country/Region'].eq('India')][metrics].sum().add_prefix('India ')\n",
    "summary = {'updated': pd.to_datetime(dt_today), 'since': pd.to_datetime(dt_yday)}\n",
    "summary = {'updated': pd.to_datetime(dt_today), 'since': pd.to_datetime(dt_yday)}\n",
    "summary = {**summary, **df_table[metrics].sum(), **s_ind, **s_us, **s_eu}"
   ]
  },
  {
   "cell_type": "code",
   "execution_count": 18,
   "id": "engaging-syndrome",
   "metadata": {
    "execution": {
     "iopub.execute_input": "2021-11-20T12:11:33.377142Z",
     "iopub.status.busy": "2021-11-20T12:11:33.376581Z",
     "iopub.status.idle": "2021-11-20T12:11:33.391346Z",
     "shell.execute_reply": "2021-11-20T12:11:33.391931Z"
    },
    "papermill": {
     "duration": 0.051385,
     "end_time": "2021-11-20T12:11:33.392054",
     "exception": false,
     "start_time": "2021-11-20T12:11:33.340669",
     "status": "completed"
    },
    "tags": []
   },
   "outputs": [],
   "source": [
    "#hide\n",
    "dft_ct_new_cases = dft_cases.groupby(COL_REGION)[dt_cols].sum().diff(axis=1).fillna(0).astype(int)"
   ]
  },
  {
   "cell_type": "code",
   "execution_count": 19,
   "id": "neutral-assignment",
   "metadata": {
    "execution": {
     "iopub.execute_input": "2021-11-20T12:11:33.462979Z",
     "iopub.status.busy": "2021-11-20T12:11:33.462421Z",
     "iopub.status.idle": "2021-11-20T12:11:33.468747Z",
     "shell.execute_reply": "2021-11-20T12:11:33.468267Z"
    },
    "papermill": {
     "duration": 0.042874,
     "end_time": "2021-11-20T12:11:33.468859",
     "exception": false,
     "start_time": "2021-11-20T12:11:33.425985",
     "status": "completed"
    },
    "tags": []
   },
   "outputs": [],
   "source": [
    "#hide\n",
    "everydaycases = dft_ct_new_cases.cumsum(axis=1)"
   ]
  },
  {
   "cell_type": "code",
   "execution_count": 20,
   "id": "parliamentary-calgary",
   "metadata": {
    "execution": {
     "iopub.execute_input": "2021-11-20T12:11:33.544297Z",
     "iopub.status.busy": "2021-11-20T12:11:33.543655Z",
     "iopub.status.idle": "2021-11-20T12:11:34.230635Z",
     "shell.execute_reply": "2021-11-20T12:11:34.229005Z"
    },
    "papermill": {
     "duration": 0.72662,
     "end_time": "2021-11-20T12:11:34.230831",
     "exception": false,
     "start_time": "2021-11-20T12:11:33.504211",
     "status": "completed"
    },
    "tags": []
   },
   "outputs": [],
   "source": [
    "#hide\n",
    "import pandas as pd\n",
    "import matplotlib.pyplot as plt\n",
    "import matplotlib.ticker as ticker\n",
    "import matplotlib.animation as animation\n",
    "from IPython.display import HTML"
   ]
  },
  {
   "cell_type": "code",
   "execution_count": 21,
   "id": "lasting-extraction",
   "metadata": {
    "execution": {
     "iopub.execute_input": "2021-11-20T12:11:34.307078Z",
     "iopub.status.busy": "2021-11-20T12:11:34.306455Z",
     "iopub.status.idle": "2021-11-20T12:11:34.313135Z",
     "shell.execute_reply": "2021-11-20T12:11:34.312458Z"
    },
    "papermill": {
     "duration": 0.045124,
     "end_time": "2021-11-20T12:11:34.313263",
     "exception": false,
     "start_time": "2021-11-20T12:11:34.268139",
     "status": "completed"
    },
    "tags": []
   },
   "outputs": [],
   "source": [
    "#hide\n",
    "t = everydaycases.stack()"
   ]
  },
  {
   "cell_type": "code",
   "execution_count": 22,
   "id": "premier-sleeve",
   "metadata": {
    "execution": {
     "iopub.execute_input": "2021-11-20T12:11:34.385543Z",
     "iopub.status.busy": "2021-11-20T12:11:34.384691Z",
     "iopub.status.idle": "2021-11-20T12:11:34.395871Z",
     "shell.execute_reply": "2021-11-20T12:11:34.395032Z"
    },
    "papermill": {
     "duration": 0.04906,
     "end_time": "2021-11-20T12:11:34.396003",
     "exception": false,
     "start_time": "2021-11-20T12:11:34.346943",
     "status": "completed"
    },
    "tags": []
   },
   "outputs": [],
   "source": [
    "#hide\n",
    "g = t.reset_index(['Country/Region'])"
   ]
  },
  {
   "cell_type": "code",
   "execution_count": 23,
   "id": "distributed-pittsburgh",
   "metadata": {
    "execution": {
     "iopub.execute_input": "2021-11-20T12:11:34.466487Z",
     "iopub.status.busy": "2021-11-20T12:11:34.465964Z",
     "iopub.status.idle": "2021-11-20T12:11:34.469464Z",
     "shell.execute_reply": "2021-11-20T12:11:34.469915Z"
    },
    "papermill": {
     "duration": 0.039262,
     "end_time": "2021-11-20T12:11:34.470076",
     "exception": false,
     "start_time": "2021-11-20T12:11:34.430814",
     "status": "completed"
    },
    "tags": []
   },
   "outputs": [],
   "source": [
    "#hide\n",
    "g.index.name = 'date'"
   ]
  },
  {
   "cell_type": "code",
   "execution_count": 24,
   "id": "naked-donor",
   "metadata": {
    "execution": {
     "iopub.execute_input": "2021-11-20T12:11:34.539714Z",
     "iopub.status.busy": "2021-11-20T12:11:34.539028Z",
     "iopub.status.idle": "2021-11-20T12:11:34.540910Z",
     "shell.execute_reply": "2021-11-20T12:11:34.541404Z"
    },
    "papermill": {
     "duration": 0.037877,
     "end_time": "2021-11-20T12:11:34.541521",
     "exception": false,
     "start_time": "2021-11-20T12:11:34.503644",
     "status": "completed"
    },
    "tags": []
   },
   "outputs": [],
   "source": [
    "# #hide\n",
    "# g = g.reset_index(['date'])"
   ]
  },
  {
   "cell_type": "code",
   "execution_count": 25,
   "id": "incomplete-mustang",
   "metadata": {
    "execution": {
     "iopub.execute_input": "2021-11-20T12:11:34.610837Z",
     "iopub.status.busy": "2021-11-20T12:11:34.610224Z",
     "iopub.status.idle": "2021-11-20T12:11:34.612428Z",
     "shell.execute_reply": "2021-11-20T12:11:34.613064Z"
    },
    "papermill": {
     "duration": 0.037656,
     "end_time": "2021-11-20T12:11:34.613244",
     "exception": false,
     "start_time": "2021-11-20T12:11:34.575588",
     "status": "completed"
    },
    "tags": []
   },
   "outputs": [],
   "source": [
    "#hide\n",
    "# g.head()"
   ]
  },
  {
   "cell_type": "code",
   "execution_count": 26,
   "id": "specific-kruger",
   "metadata": {
    "execution": {
     "iopub.execute_input": "2021-11-20T12:11:34.681529Z",
     "iopub.status.busy": "2021-11-20T12:11:34.680963Z",
     "iopub.status.idle": "2021-11-20T12:11:34.682942Z",
     "shell.execute_reply": "2021-11-20T12:11:34.683608Z"
    },
    "papermill": {
     "duration": 0.037385,
     "end_time": "2021-11-20T12:11:34.683805",
     "exception": false,
     "start_time": "2021-11-20T12:11:34.646420",
     "status": "completed"
    },
    "tags": []
   },
   "outputs": [],
   "source": [
    "#hide\n",
    "# g.columns = ['date','country','cases']"
   ]
  },
  {
   "cell_type": "code",
   "execution_count": 27,
   "id": "tender-conversion",
   "metadata": {
    "execution": {
     "iopub.execute_input": "2021-11-20T12:11:34.751766Z",
     "iopub.status.busy": "2021-11-20T12:11:34.751153Z",
     "iopub.status.idle": "2021-11-20T12:11:34.753715Z",
     "shell.execute_reply": "2021-11-20T12:11:34.752981Z"
    },
    "papermill": {
     "duration": 0.038449,
     "end_time": "2021-11-20T12:11:34.753976",
     "exception": false,
     "start_time": "2021-11-20T12:11:34.715527",
     "status": "completed"
    },
    "tags": []
   },
   "outputs": [],
   "source": [
    "#hide\n",
    "# g['continent'] = g.country"
   ]
  },
  {
   "cell_type": "code",
   "execution_count": 28,
   "id": "substantial-wilderness",
   "metadata": {
    "execution": {
     "iopub.execute_input": "2021-11-20T12:11:34.823478Z",
     "iopub.status.busy": "2021-11-20T12:11:34.822798Z",
     "iopub.status.idle": "2021-11-20T12:11:34.824980Z",
     "shell.execute_reply": "2021-11-20T12:11:34.825480Z"
    },
    "papermill": {
     "duration": 0.039729,
     "end_time": "2021-11-20T12:11:34.825649",
     "exception": false,
     "start_time": "2021-11-20T12:11:34.785920",
     "status": "completed"
    },
    "tags": []
   },
   "outputs": [],
   "source": [
    "#hide\n",
    "# cols = list(g.columns.values)"
   ]
  },
  {
   "cell_type": "code",
   "execution_count": 29,
   "id": "solved-farming",
   "metadata": {
    "execution": {
     "iopub.execute_input": "2021-11-20T12:11:34.901141Z",
     "iopub.status.busy": "2021-11-20T12:11:34.900587Z",
     "iopub.status.idle": "2021-11-20T12:11:34.902501Z",
     "shell.execute_reply": "2021-11-20T12:11:34.902947Z"
    },
    "papermill": {
     "duration": 0.039432,
     "end_time": "2021-11-20T12:11:34.903072",
     "exception": false,
     "start_time": "2021-11-20T12:11:34.863640",
     "status": "completed"
    },
    "tags": []
   },
   "outputs": [],
   "source": [
    "#hide\n",
    "# cols.insert(0, cols.pop())"
   ]
  },
  {
   "cell_type": "code",
   "execution_count": 30,
   "id": "executed-adoption",
   "metadata": {
    "execution": {
     "iopub.execute_input": "2021-11-20T12:11:34.975478Z",
     "iopub.status.busy": "2021-11-20T12:11:34.974873Z",
     "iopub.status.idle": "2021-11-20T12:11:34.977582Z",
     "shell.execute_reply": "2021-11-20T12:11:34.977133Z"
    },
    "papermill": {
     "duration": 0.040806,
     "end_time": "2021-11-20T12:11:34.977685",
     "exception": false,
     "start_time": "2021-11-20T12:11:34.936879",
     "status": "completed"
    },
    "tags": []
   },
   "outputs": [],
   "source": [
    "#hide\n",
    "# g = g[cols]"
   ]
  },
  {
   "cell_type": "code",
   "execution_count": 31,
   "id": "subject-dublin",
   "metadata": {
    "execution": {
     "iopub.execute_input": "2021-11-20T12:11:35.051683Z",
     "iopub.status.busy": "2021-11-20T12:11:35.051087Z",
     "iopub.status.idle": "2021-11-20T12:11:35.053396Z",
     "shell.execute_reply": "2021-11-20T12:11:35.052828Z"
    },
    "papermill": {
     "duration": 0.043761,
     "end_time": "2021-11-20T12:11:35.053500",
     "exception": false,
     "start_time": "2021-11-20T12:11:35.009739",
     "status": "completed"
    },
    "tags": []
   },
   "outputs": [],
   "source": [
    "#hide\n",
    "# g['continent'] = g['continent'].map(mapping['map.continent'])"
   ]
  },
  {
   "cell_type": "code",
   "execution_count": 32,
   "id": "freelance-scout",
   "metadata": {
    "execution": {
     "iopub.execute_input": "2021-11-20T12:11:35.127367Z",
     "iopub.status.busy": "2021-11-20T12:11:35.126532Z",
     "iopub.status.idle": "2021-11-20T12:11:35.128553Z",
     "shell.execute_reply": "2021-11-20T12:11:35.129003Z"
    },
    "papermill": {
     "duration": 0.040002,
     "end_time": "2021-11-20T12:11:35.129129",
     "exception": false,
     "start_time": "2021-11-20T12:11:35.089127",
     "status": "completed"
    },
    "tags": []
   },
   "outputs": [],
   "source": [
    "#hide\n",
    "# g.head()"
   ]
  },
  {
   "cell_type": "code",
   "execution_count": 33,
   "id": "limited-engine",
   "metadata": {
    "execution": {
     "iopub.execute_input": "2021-11-20T12:11:35.197357Z",
     "iopub.status.busy": "2021-11-20T12:11:35.196075Z",
     "iopub.status.idle": "2021-11-20T12:11:35.201175Z",
     "shell.execute_reply": "2021-11-20T12:11:35.201626Z"
    },
    "papermill": {
     "duration": 0.040037,
     "end_time": "2021-11-20T12:11:35.201740",
     "exception": false,
     "start_time": "2021-11-20T12:11:35.161703",
     "status": "completed"
    },
    "tags": []
   },
   "outputs": [],
   "source": [
    "# hide\n",
    "# g['date'] = g['date'].astype('datetime64[ns]')"
   ]
  },
  {
   "cell_type": "code",
   "execution_count": 34,
   "id": "sophisticated-supervisor",
   "metadata": {
    "execution": {
     "iopub.execute_input": "2021-11-20T12:11:35.270291Z",
     "iopub.status.busy": "2021-11-20T12:11:35.269643Z",
     "iopub.status.idle": "2021-11-20T12:11:35.272050Z",
     "shell.execute_reply": "2021-11-20T12:11:35.271485Z"
    },
    "papermill": {
     "duration": 0.037848,
     "end_time": "2021-11-20T12:11:35.272156",
     "exception": false,
     "start_time": "2021-11-20T12:11:35.234308",
     "status": "completed"
    },
    "tags": []
   },
   "outputs": [],
   "source": [
    "#hide\n",
    "# g['date'] = g.date.dt.dayofyear"
   ]
  },
  {
   "cell_type": "code",
   "execution_count": 35,
   "id": "inside-dubai",
   "metadata": {
    "execution": {
     "iopub.execute_input": "2021-11-20T12:11:35.341623Z",
     "iopub.status.busy": "2021-11-20T12:11:35.340874Z",
     "iopub.status.idle": "2021-11-20T12:11:35.344833Z",
     "shell.execute_reply": "2021-11-20T12:11:35.344417Z"
    },
    "papermill": {
     "duration": 0.038239,
     "end_time": "2021-11-20T12:11:35.344954",
     "exception": false,
     "start_time": "2021-11-20T12:11:35.306715",
     "status": "completed"
    },
    "tags": []
   },
   "outputs": [],
   "source": [
    "#hide\n",
    "# g = g.rename(columns= {'continent':'group','country':'name','cases':'value'})"
   ]
  },
  {
   "cell_type": "code",
   "execution_count": 36,
   "id": "fleet-motorcycle",
   "metadata": {
    "execution": {
     "iopub.execute_input": "2021-11-20T12:11:35.412587Z",
     "iopub.status.busy": "2021-11-20T12:11:35.411950Z",
     "iopub.status.idle": "2021-11-20T12:11:35.413673Z",
     "shell.execute_reply": "2021-11-20T12:11:35.414094Z"
    },
    "papermill": {
     "duration": 0.036869,
     "end_time": "2021-11-20T12:11:35.414215",
     "exception": false,
     "start_time": "2021-11-20T12:11:35.377346",
     "status": "completed"
    },
    "tags": []
   },
   "outputs": [],
   "source": [
    "#hide\n",
    "# cols = ['name','group','day','value']"
   ]
  },
  {
   "cell_type": "code",
   "execution_count": 37,
   "id": "continued-sleeping",
   "metadata": {
    "execution": {
     "iopub.execute_input": "2021-11-20T12:11:35.483604Z",
     "iopub.status.busy": "2021-11-20T12:11:35.482857Z",
     "iopub.status.idle": "2021-11-20T12:11:35.485252Z",
     "shell.execute_reply": "2021-11-20T12:11:35.484716Z"
    },
    "papermill": {
     "duration": 0.039327,
     "end_time": "2021-11-20T12:11:35.485354",
     "exception": false,
     "start_time": "2021-11-20T12:11:35.446027",
     "status": "completed"
    },
    "tags": []
   },
   "outputs": [],
   "source": [
    "#hide\n",
    "# g.rename(columns= {'date':'day'},inplace = True)"
   ]
  },
  {
   "cell_type": "code",
   "execution_count": 38,
   "id": "major-fight",
   "metadata": {
    "execution": {
     "iopub.execute_input": "2021-11-20T12:11:35.557900Z",
     "iopub.status.busy": "2021-11-20T12:11:35.557356Z",
     "iopub.status.idle": "2021-11-20T12:11:35.561861Z",
     "shell.execute_reply": "2021-11-20T12:11:35.561278Z"
    },
    "papermill": {
     "duration": 0.043332,
     "end_time": "2021-11-20T12:11:35.561969",
     "exception": false,
     "start_time": "2021-11-20T12:11:35.518637",
     "status": "completed"
    },
    "tags": []
   },
   "outputs": [],
   "source": [
    "#hide\n",
    "# g = g[cols]"
   ]
  },
  {
   "cell_type": "code",
   "execution_count": 39,
   "id": "structured-mobile",
   "metadata": {
    "execution": {
     "iopub.execute_input": "2021-11-20T12:11:35.631345Z",
     "iopub.status.busy": "2021-11-20T12:11:35.630807Z",
     "iopub.status.idle": "2021-11-20T12:11:35.632867Z",
     "shell.execute_reply": "2021-11-20T12:11:35.633261Z"
    },
    "papermill": {
     "duration": 0.038454,
     "end_time": "2021-11-20T12:11:35.633377",
     "exception": false,
     "start_time": "2021-11-20T12:11:35.594923",
     "status": "completed"
    },
    "tags": []
   },
   "outputs": [],
   "source": [
    "# #hide\n",
    "# g = g[g.group.notna()]"
   ]
  },
  {
   "cell_type": "code",
   "execution_count": 40,
   "id": "determined-closing",
   "metadata": {
    "execution": {
     "iopub.execute_input": "2021-11-20T12:11:35.703013Z",
     "iopub.status.busy": "2021-11-20T12:11:35.702435Z",
     "iopub.status.idle": "2021-11-20T12:11:35.704951Z",
     "shell.execute_reply": "2021-11-20T12:11:35.704439Z"
    },
    "papermill": {
     "duration": 0.037755,
     "end_time": "2021-11-20T12:11:35.705049",
     "exception": false,
     "start_time": "2021-11-20T12:11:35.667294",
     "status": "completed"
    },
    "tags": []
   },
   "outputs": [],
   "source": [
    "# #hide\n",
    "# colors = dict(zip(\n",
    "#     [\"Oceania\", \"Europe\", \"Asia\", \"South America\", \"Middle East\", \"North America\", \"Africa\"],\n",
    "#     [\"#adb0ff\", \"#ffb3ff\", \"#90d595\", \"#e48381\", \"#aafbff\", \"#f7bb5f\", \"#eafb50\"]\n",
    "# ))\n",
    "# group_lk = g.set_index('name')['group'].to_dict()"
   ]
  },
  {
   "cell_type": "code",
   "execution_count": null,
   "id": "gross-drinking",
   "metadata": {
    "papermill": {
     "duration": 0.032793,
     "end_time": "2021-11-20T12:11:35.768325",
     "exception": false,
     "start_time": "2021-11-20T12:11:35.735532",
     "status": "completed"
    },
    "tags": []
   },
   "outputs": [],
   "source": []
  },
  {
   "cell_type": "code",
   "execution_count": 41,
   "id": "subject-macintosh",
   "metadata": {
    "execution": {
     "iopub.execute_input": "2021-11-20T12:11:35.835684Z",
     "iopub.status.busy": "2021-11-20T12:11:35.835129Z",
     "iopub.status.idle": "2021-11-20T12:11:35.837240Z",
     "shell.execute_reply": "2021-11-20T12:11:35.837637Z"
    },
    "papermill": {
     "duration": 0.037405,
     "end_time": "2021-11-20T12:11:35.837751",
     "exception": false,
     "start_time": "2021-11-20T12:11:35.800346",
     "status": "completed"
    },
    "tags": []
   },
   "outputs": [],
   "source": [
    "# #hide\n",
    "# fig, ax = plt.subplots(figsize=(15, 8))\n",
    "\n",
    "# def draw_barchart(current_day):\n",
    "#     dff = g[g['day'].eq(current_day)].sort_values(by='value', ascending=True).tail(10)\n",
    "#     ax.clear()\n",
    "#     ax.barh(dff['name'], dff['value'], color=[colors[group_lk[x]] for x in dff['name']])\n",
    "#     dx = dff['value'].max() / 200\n",
    "    \n",
    "#     for i, (value, name) in enumerate(zip(dff['value'], dff['name'])):\n",
    "#         ax.text(value-dx, i,     name,           size=14, weight=600, ha='right', va='bottom')\n",
    "#         ax.text(value-dx, i-.25, group_lk[name], size=10, color='#444444', ha='right', va='baseline')\n",
    "#         ax.text(value+dx, i,     f'{value:,.0f}',  size=14, ha='left',  va='center')\n",
    "#     ax.text(1, 0.4, current_day, transform=ax.transAxes, color='#777777', size=46, ha='right', weight=800)\n",
    "#     ax.text(0, 1.06, 'Population (thousands)', transform=ax.transAxes, size=12, color='#777777')\n",
    "#     ax.xaxis.set_major_formatter(ticker.StrMethodFormatter('{x:,.0f}'))\n",
    "#     ax.xaxis.set_ticks_position('top')\n",
    "#     ax.tick_params(axis='x', colors='#777777', labelsize=12)\n",
    "#     ax.set_yticks([])\n",
    "#     ax.margins(0, 0.01)\n",
    "#     ax.grid(which='major', axis='x', linestyle='-')\n",
    "#     ax.set_axisbelow(True)\n",
    "    \n",
    "#     ax.text(0, 1.15, 'Coronavirus',\n",
    "#             transform=ax.transAxes, size=24, weight=600, ha='left', va='top')\n",
    "# #     ax.text(1, 0, 'by @pratapvardhan; credit @jburnmurdoch', transform=ax.transAxes, color='#777777', ha='right',\n",
    "# #             bbox=dict(facecolor='white', alpha=0.8, edgecolor='white'))\n",
    "#     plt.box(False)"
   ]
  },
  {
   "cell_type": "code",
   "execution_count": 42,
   "id": "sexual-wages",
   "metadata": {
    "execution": {
     "iopub.execute_input": "2021-11-20T12:11:35.906551Z",
     "iopub.status.busy": "2021-11-20T12:11:35.905957Z",
     "iopub.status.idle": "2021-11-20T12:11:35.908381Z",
     "shell.execute_reply": "2021-11-20T12:11:35.907704Z"
    },
    "papermill": {
     "duration": 0.03887,
     "end_time": "2021-11-20T12:11:35.908510",
     "exception": false,
     "start_time": "2021-11-20T12:11:35.869640",
     "status": "completed"
    },
    "tags": []
   },
   "outputs": [],
   "source": [
    "# #hide_input\n",
    "# fig, ax = plt.subplots(figsize=(15, 8))\n",
    "# animator = animation.FuncAnimation(fig, draw_barchart, frames=range(g.day.values.min(), g.day.values.max()))\n",
    "# HTML(animator.to_jshtml())\n",
    "# # or use animator.to_html5_video() or animator.save() "
   ]
  },
  {
   "cell_type": "code",
   "execution_count": null,
   "id": "australian-container",
   "metadata": {
    "papermill": {
     "duration": 0.035923,
     "end_time": "2021-11-20T12:11:35.978797",
     "exception": false,
     "start_time": "2021-11-20T12:11:35.942874",
     "status": "completed"
    },
    "tags": []
   },
   "outputs": [],
   "source": []
  },
  {
   "cell_type": "code",
   "execution_count": null,
   "id": "mediterranean-pontiac",
   "metadata": {
    "papermill": {
     "duration": 0.035653,
     "end_time": "2021-11-20T12:11:36.051433",
     "exception": false,
     "start_time": "2021-11-20T12:11:36.015780",
     "status": "completed"
    },
    "tags": []
   },
   "outputs": [],
   "source": []
  },
  {
   "cell_type": "code",
   "execution_count": null,
   "id": "aging-legislature",
   "metadata": {
    "papermill": {
     "duration": 0.040909,
     "end_time": "2021-11-20T12:11:36.130480",
     "exception": false,
     "start_time": "2021-11-20T12:11:36.089571",
     "status": "completed"
    },
    "tags": []
   },
   "outputs": [],
   "source": []
  }
 ],
 "metadata": {
  "kernelspec": {
   "display_name": "Python 3",
   "language": "python",
   "name": "python3"
  },
  "language_info": {
   "codemirror_mode": {
    "name": "ipython",
    "version": 3
   },
   "file_extension": ".py",
   "mimetype": "text/x-python",
   "name": "python",
   "nbconvert_exporter": "python",
   "pygments_lexer": "ipython3",
   "version": "3.6.15"
  },
  "papermill": {
   "duration": 6.434385,
   "end_time": "2021-11-20T12:11:36.471984",
   "environment_variables": {},
   "exception": null,
   "input_path": "2020-03-21-covid19exp.ipynb",
   "output_path": "2020-03-21-covid19exp.ipynb",
   "parameters": {},
   "start_time": "2021-11-20T12:11:30.037599",
   "version": "2.0.0"
  }
 },
 "nbformat": 4,
 "nbformat_minor": 5
}