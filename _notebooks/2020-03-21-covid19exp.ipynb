{
 "cells": [
  {
   "cell_type": "markdown",
   "id": "muslim-click",
   "metadata": {
    "papermill": {
     "duration": 0.033444,
     "end_time": "2021-08-29T00:22:04.639644",
     "exception": false,
     "start_time": "2021-08-29T00:22:04.606200",
     "status": "completed"
    },
    "tags": []
   },
   "source": [
    "# COVID-19 Case Race\n",
    "> A race chart to see rising cases around the world\n",
    "\n",
    "- author: Hargun Oberoi\n",
    "- image: images/covid-overview.png\n",
    "- hide: false\n",
    "- badges: false"
   ]
  },
  {
   "cell_type": "code",
   "execution_count": 1,
   "id": "proof-material",
   "metadata": {
    "execution": {
     "iopub.execute_input": "2021-08-29T00:22:04.709681Z",
     "iopub.status.busy": "2021-08-29T00:22:04.709143Z",
     "iopub.status.idle": "2021-08-29T00:22:05.032370Z",
     "shell.execute_reply": "2021-08-29T00:22:05.031515Z"
    },
    "papermill": {
     "duration": 0.36285,
     "end_time": "2021-08-29T00:22:05.032521",
     "exception": false,
     "start_time": "2021-08-29T00:22:04.669671",
     "status": "completed"
    },
    "tags": []
   },
   "outputs": [],
   "source": [
    "#hide\n",
    "import numpy as np\n",
    "import pandas as pd\n",
    "from jinja2 import Template\n",
    "from IPython.display import HTML"
   ]
  },
  {
   "cell_type": "code",
   "execution_count": 2,
   "id": "developed-terminology",
   "metadata": {
    "execution": {
     "iopub.execute_input": "2021-08-29T00:22:05.098570Z",
     "iopub.status.busy": "2021-08-29T00:22:05.098014Z",
     "iopub.status.idle": "2021-08-29T00:22:05.100119Z",
     "shell.execute_reply": "2021-08-29T00:22:05.099678Z"
    },
    "papermill": {
     "duration": 0.037648,
     "end_time": "2021-08-29T00:22:05.100232",
     "exception": false,
     "start_time": "2021-08-29T00:22:05.062584",
     "status": "completed"
    },
    "tags": []
   },
   "outputs": [],
   "source": [
    "#hide\n",
    "\n",
    "# FETCH\n",
    "base_url = 'https://raw.githubusercontent.com/pratapvardhan/notebooks/master/covid19/'\n",
    "paths = {\n",
    "    'mapping': base_url + 'mapping_countries.csv',\n",
    "    'overview': base_url + 'overview.tpl'\n",
    "}"
   ]
  },
  {
   "cell_type": "code",
   "execution_count": 3,
   "id": "dynamic-saver",
   "metadata": {
    "execution": {
     "iopub.execute_input": "2021-08-29T00:22:05.168454Z",
     "iopub.status.busy": "2021-08-29T00:22:05.167931Z",
     "iopub.status.idle": "2021-08-29T00:22:05.170575Z",
     "shell.execute_reply": "2021-08-29T00:22:05.170141Z"
    },
    "papermill": {
     "duration": 0.040985,
     "end_time": "2021-08-29T00:22:05.170684",
     "exception": false,
     "start_time": "2021-08-29T00:22:05.129699",
     "status": "completed"
    },
    "tags": []
   },
   "outputs": [
    {
     "data": {
      "text/plain": [
       "'https://raw.githubusercontent.com/pratapvardhan/notebooks/master/covid19/mapping_countries.csv'"
      ]
     },
     "execution_count": 3,
     "metadata": {},
     "output_type": "execute_result"
    }
   ],
   "source": [
    "#hide\n",
    "paths['mapping']"
   ]
  },
  {
   "cell_type": "code",
   "execution_count": 4,
   "id": "urban-software",
   "metadata": {
    "execution": {
     "iopub.execute_input": "2021-08-29T00:22:05.235934Z",
     "iopub.status.busy": "2021-08-29T00:22:05.235418Z",
     "iopub.status.idle": "2021-08-29T00:22:05.237930Z",
     "shell.execute_reply": "2021-08-29T00:22:05.237516Z"
    },
    "papermill": {
     "duration": 0.037294,
     "end_time": "2021-08-29T00:22:05.238043",
     "exception": false,
     "start_time": "2021-08-29T00:22:05.200749",
     "status": "completed"
    },
    "tags": []
   },
   "outputs": [],
   "source": [
    "#hide\n",
    "def get_mappings(url):\n",
    "    df = pd.read_csv(url)\n",
    "    return {\n",
    "        'df': df,\n",
    "        'replace.country': dict(df.dropna(subset=['Name']).set_index('Country')['Name']),\n",
    "        'map.continent': dict(df.set_index('Name')['Continent'])\n",
    "    }"
   ]
  },
  {
   "cell_type": "code",
   "execution_count": 5,
   "id": "intimate-machinery",
   "metadata": {
    "execution": {
     "iopub.execute_input": "2021-08-29T00:22:05.303175Z",
     "iopub.status.busy": "2021-08-29T00:22:05.302614Z",
     "iopub.status.idle": "2021-08-29T00:22:05.328785Z",
     "shell.execute_reply": "2021-08-29T00:22:05.328293Z"
    },
    "papermill": {
     "duration": 0.06094,
     "end_time": "2021-08-29T00:22:05.328914",
     "exception": false,
     "start_time": "2021-08-29T00:22:05.267974",
     "status": "completed"
    },
    "tags": []
   },
   "outputs": [],
   "source": [
    "#hide\n",
    "mapping = get_mappings(paths['mapping'])"
   ]
  },
  {
   "cell_type": "code",
   "execution_count": 6,
   "id": "certified-tactics",
   "metadata": {
    "execution": {
     "iopub.execute_input": "2021-08-29T00:22:05.394096Z",
     "iopub.status.busy": "2021-08-29T00:22:05.393578Z",
     "iopub.status.idle": "2021-08-29T00:22:05.395290Z",
     "shell.execute_reply": "2021-08-29T00:22:05.395681Z"
    },
    "papermill": {
     "duration": 0.036855,
     "end_time": "2021-08-29T00:22:05.395807",
     "exception": false,
     "start_time": "2021-08-29T00:22:05.358952",
     "status": "completed"
    },
    "tags": []
   },
   "outputs": [],
   "source": [
    "#hide\n",
    "def get_template(path):\n",
    "    from urllib.parse import urlparse\n",
    "    if bool(urlparse(path).netloc):\n",
    "        from urllib.request import urlopen\n",
    "        return urlopen(path).read().decode('utf8')\n",
    "    return open(path).read()"
   ]
  },
  {
   "cell_type": "code",
   "execution_count": 7,
   "id": "realistic-blast",
   "metadata": {
    "execution": {
     "iopub.execute_input": "2021-08-29T00:22:05.459908Z",
     "iopub.status.busy": "2021-08-29T00:22:05.459395Z",
     "iopub.status.idle": "2021-08-29T00:22:05.461951Z",
     "shell.execute_reply": "2021-08-29T00:22:05.461513Z"
    },
    "papermill": {
     "duration": 0.036467,
     "end_time": "2021-08-29T00:22:05.462057",
     "exception": false,
     "start_time": "2021-08-29T00:22:05.425590",
     "status": "completed"
    },
    "tags": []
   },
   "outputs": [],
   "source": [
    "#hide\n",
    "def get_frame(name):\n",
    "    url = (\n",
    "        'https://raw.githubusercontent.com/CSSEGISandData/COVID-19/master/csse_covid_19_data/'\n",
    "        f'csse_covid_19_time_series/time_series_covid19_{name}_global.csv')\n",
    "    df = pd.read_csv(url)\n",
    "    # rename countries\n",
    "    df['Country/Region'] = df['Country/Region'].replace(mapping['replace.country'])\n",
    "    return df"
   ]
  },
  {
   "cell_type": "code",
   "execution_count": 8,
   "id": "affiliated-characterization",
   "metadata": {
    "execution": {
     "iopub.execute_input": "2021-08-29T00:22:05.527861Z",
     "iopub.status.busy": "2021-08-29T00:22:05.527325Z",
     "iopub.status.idle": "2021-08-29T00:22:05.529242Z",
     "shell.execute_reply": "2021-08-29T00:22:05.528740Z"
    },
    "papermill": {
     "duration": 0.037323,
     "end_time": "2021-08-29T00:22:05.529350",
     "exception": false,
     "start_time": "2021-08-29T00:22:05.492027",
     "status": "completed"
    },
    "tags": []
   },
   "outputs": [],
   "source": [
    "#hide\n",
    "def get_dates(df):\n",
    "    dt_cols = df.columns[~df.columns.isin(['Province/State', 'Country/Region', 'Lat', 'Long'])]\n",
    "    LAST_DATE_I = -1\n",
    "    # sometimes last column may be empty, then go backwards\n",
    "    for i in range(-1, -len(dt_cols), -1):\n",
    "        if not df[dt_cols[i]].fillna(0).eq(0).all():\n",
    "            LAST_DATE_I = i\n",
    "            break\n",
    "    return LAST_DATE_I, dt_cols"
   ]
  },
  {
   "cell_type": "code",
   "execution_count": 9,
   "id": "recent-optimization",
   "metadata": {
    "execution": {
     "iopub.execute_input": "2021-08-29T00:22:05.593682Z",
     "iopub.status.busy": "2021-08-29T00:22:05.593066Z",
     "iopub.status.idle": "2021-08-29T00:22:05.886206Z",
     "shell.execute_reply": "2021-08-29T00:22:05.885679Z"
    },
    "papermill": {
     "duration": 0.327357,
     "end_time": "2021-08-29T00:22:05.886355",
     "exception": false,
     "start_time": "2021-08-29T00:22:05.558998",
     "status": "completed"
    },
    "tags": []
   },
   "outputs": [],
   "source": [
    "#hide\n",
    "COL_REGION = 'Country/Region'\n",
    "# Confirmed, Recovered, Deaths\n",
    "df = get_frame('confirmed')\n",
    "# dft_: timeseries, dfc_: today country agg\n",
    "dft_cases = df\n",
    "dft_deaths = get_frame('deaths')\n",
    "dft_recovered = get_frame('recovered')\n",
    "LAST_DATE_I, dt_cols = get_dates(df)"
   ]
  },
  {
   "cell_type": "code",
   "execution_count": 10,
   "id": "absolute-copper",
   "metadata": {
    "execution": {
     "iopub.execute_input": "2021-08-29T00:22:05.953238Z",
     "iopub.status.busy": "2021-08-29T00:22:05.952716Z",
     "iopub.status.idle": "2021-08-29T00:22:05.954844Z",
     "shell.execute_reply": "2021-08-29T00:22:05.954406Z"
    },
    "papermill": {
     "duration": 0.037642,
     "end_time": "2021-08-29T00:22:05.954956",
     "exception": false,
     "start_time": "2021-08-29T00:22:05.917314",
     "status": "completed"
    },
    "tags": []
   },
   "outputs": [],
   "source": [
    "#hide\n",
    "LAST_DATE_I, dt_cols = get_dates(df)\n",
    "dt_today =dt_cols[LAST_DATE_I]\n",
    "# dt_5day = dt_cols[LAST_DATE_I - 5]\n",
    "dt_yday = dt_cols[LAST_DATE_I - 1]"
   ]
  },
  {
   "cell_type": "code",
   "execution_count": 11,
   "id": "restricted-sheriff",
   "metadata": {
    "execution": {
     "iopub.execute_input": "2021-08-29T00:22:06.020155Z",
     "iopub.status.busy": "2021-08-29T00:22:06.019618Z",
     "iopub.status.idle": "2021-08-29T00:22:06.027007Z",
     "shell.execute_reply": "2021-08-29T00:22:06.027437Z"
    },
    "papermill": {
     "duration": 0.042872,
     "end_time": "2021-08-29T00:22:06.027574",
     "exception": false,
     "start_time": "2021-08-29T00:22:05.984702",
     "status": "completed"
    },
    "tags": []
   },
   "outputs": [],
   "source": [
    "#hide\n",
    "dfc_cases = dft_cases.groupby(COL_REGION)[dt_today].sum()\n",
    "dfc_deaths = dft_deaths.groupby(COL_REGION)[dt_today].sum()\n",
    "# dfp_cases = dft_cases.groupby(COL_REGION)[dt_5day].sum()\n",
    "# dfp_deaths = dft_deaths.groupby(COL_REGION)[dt_5day].sum()\n",
    "dfp_cases = dft_cases.groupby(COL_REGION)[dt_yday].sum()\n",
    "dfp_deaths = dft_deaths.groupby(COL_REGION)[dt_yday].sum()"
   ]
  },
  {
   "cell_type": "code",
   "execution_count": 12,
   "id": "deluxe-hepatitis",
   "metadata": {
    "execution": {
     "iopub.execute_input": "2021-08-29T00:22:06.093379Z",
     "iopub.status.busy": "2021-08-29T00:22:06.092863Z",
     "iopub.status.idle": "2021-08-29T00:22:06.096999Z",
     "shell.execute_reply": "2021-08-29T00:22:06.097432Z"
    },
    "papermill": {
     "duration": 0.040146,
     "end_time": "2021-08-29T00:22:06.097556",
     "exception": false,
     "start_time": "2021-08-29T00:22:06.057410",
     "status": "completed"
    },
    "tags": []
   },
   "outputs": [],
   "source": [
    "#hide\n",
    "df_table = (pd.DataFrame(dict(Cases = dfc_cases, Deaths = dfc_deaths, PCases = dfp_cases, PDeaths = dfp_deaths))\n",
    "            .sort_values(by = ['Cases','Deaths'], ascending = [False, False])\n",
    "            .reset_index())"
   ]
  },
  {
   "cell_type": "code",
   "execution_count": 13,
   "id": "educational-chancellor",
   "metadata": {
    "execution": {
     "iopub.execute_input": "2021-08-29T00:22:06.174093Z",
     "iopub.status.busy": "2021-08-29T00:22:06.173572Z",
     "iopub.status.idle": "2021-08-29T00:22:06.180151Z",
     "shell.execute_reply": "2021-08-29T00:22:06.180627Z"
    },
    "papermill": {
     "duration": 0.053496,
     "end_time": "2021-08-29T00:22:06.180753",
     "exception": false,
     "start_time": "2021-08-29T00:22:06.127257",
     "status": "completed"
    },
    "tags": []
   },
   "outputs": [
    {
     "data": {
      "text/html": [
       "<div>\n",
       "<style scoped>\n",
       "    .dataframe tbody tr th:only-of-type {\n",
       "        vertical-align: middle;\n",
       "    }\n",
       "\n",
       "    .dataframe tbody tr th {\n",
       "        vertical-align: top;\n",
       "    }\n",
       "\n",
       "    .dataframe thead th {\n",
       "        text-align: right;\n",
       "    }\n",
       "</style>\n",
       "<table border=\"1\" class=\"dataframe\">\n",
       "  <thead>\n",
       "    <tr style=\"text-align: right;\">\n",
       "      <th></th>\n",
       "      <th>Country/Region</th>\n",
       "      <th>Cases</th>\n",
       "      <th>Deaths</th>\n",
       "      <th>PCases</th>\n",
       "      <th>PDeaths</th>\n",
       "      <th>Cases (+)</th>\n",
       "      <th>Deaths (+)</th>\n",
       "      <th>Fatality Rate</th>\n",
       "      <th>Continent</th>\n",
       "    </tr>\n",
       "  </thead>\n",
       "  <tbody>\n",
       "    <tr>\n",
       "      <th>0</th>\n",
       "      <td>US</td>\n",
       "      <td>38707294</td>\n",
       "      <td>636720</td>\n",
       "      <td>38384360</td>\n",
       "      <td>633564</td>\n",
       "      <td>322934</td>\n",
       "      <td>3156</td>\n",
       "      <td>1.64</td>\n",
       "      <td>North America</td>\n",
       "    </tr>\n",
       "    <tr>\n",
       "      <th>1</th>\n",
       "      <td>India</td>\n",
       "      <td>32649947</td>\n",
       "      <td>437370</td>\n",
       "      <td>32603188</td>\n",
       "      <td>436861</td>\n",
       "      <td>46759</td>\n",
       "      <td>509</td>\n",
       "      <td>1.34</td>\n",
       "      <td>Asia</td>\n",
       "    </tr>\n",
       "    <tr>\n",
       "      <th>2</th>\n",
       "      <td>Brazil</td>\n",
       "      <td>20703906</td>\n",
       "      <td>578326</td>\n",
       "      <td>20676561</td>\n",
       "      <td>577565</td>\n",
       "      <td>27345</td>\n",
       "      <td>761</td>\n",
       "      <td>2.79</td>\n",
       "      <td>South America</td>\n",
       "    </tr>\n",
       "    <tr>\n",
       "      <th>3</th>\n",
       "      <td>France</td>\n",
       "      <td>6778133</td>\n",
       "      <td>114291</td>\n",
       "      <td>6777676</td>\n",
       "      <td>114269</td>\n",
       "      <td>457</td>\n",
       "      <td>22</td>\n",
       "      <td>1.69</td>\n",
       "      <td>Europe</td>\n",
       "    </tr>\n",
       "    <tr>\n",
       "      <th>4</th>\n",
       "      <td>Russia</td>\n",
       "      <td>6747681</td>\n",
       "      <td>176904</td>\n",
       "      <td>6728699</td>\n",
       "      <td>176127</td>\n",
       "      <td>18982</td>\n",
       "      <td>777</td>\n",
       "      <td>2.62</td>\n",
       "      <td>Europe</td>\n",
       "    </tr>\n",
       "  </tbody>\n",
       "</table>\n",
       "</div>"
      ],
      "text/plain": [
       "  Country/Region     Cases  Deaths    PCases  PDeaths  Cases (+)  Deaths (+)  \\\n",
       "0             US  38707294  636720  38384360   633564     322934        3156   \n",
       "1          India  32649947  437370  32603188   436861      46759         509   \n",
       "2         Brazil  20703906  578326  20676561   577565      27345         761   \n",
       "3         France   6778133  114291   6777676   114269        457          22   \n",
       "4         Russia   6747681  176904   6728699   176127      18982         777   \n",
       "\n",
       "   Fatality Rate      Continent  \n",
       "0           1.64  North America  \n",
       "1           1.34           Asia  \n",
       "2           2.79  South America  \n",
       "3           1.69         Europe  \n",
       "4           2.62         Europe  "
      ]
     },
     "execution_count": 13,
     "metadata": {},
     "output_type": "execute_result"
    }
   ],
   "source": [
    "#hide\n",
    "for c in 'Cases, Deaths'.split(', '):\n",
    "    df_table[f'{c} (+)'] = (df_table[c] - df_table[f'P{c}']).clip(0)\n",
    "    #Clip ça veut dire, les chiffres negatif sont interdit\n",
    "df_table['Fatality Rate'] = (100* df_table['Deaths']/ df_table['Cases']).round(2)\n",
    "df_table['Continent'] = df_table['Country/Region'].map(mapping['map.continent'])\n",
    "df_table.head(5)"
   ]
  },
  {
   "cell_type": "code",
   "execution_count": 14,
   "id": "aboriginal-bulgaria",
   "metadata": {
    "execution": {
     "iopub.execute_input": "2021-08-29T00:22:06.246259Z",
     "iopub.status.busy": "2021-08-29T00:22:06.245744Z",
     "iopub.status.idle": "2021-08-29T00:22:06.248458Z",
     "shell.execute_reply": "2021-08-29T00:22:06.248846Z"
    },
    "papermill": {
     "duration": 0.037917,
     "end_time": "2021-08-29T00:22:06.248978",
     "exception": false,
     "start_time": "2021-08-29T00:22:06.211061",
     "status": "completed"
    },
    "tags": []
   },
   "outputs": [],
   "source": [
    "#hide\n",
    "#delete problematic countries from table\n",
    "df_table = df_table[~df_table['Country/Region'].isin(['Cape Verde', 'Cruise Ship', 'Kosovo'])]"
   ]
  },
  {
   "cell_type": "code",
   "execution_count": 15,
   "id": "fantastic-effect",
   "metadata": {
    "execution": {
     "iopub.execute_input": "2021-08-29T00:22:06.317814Z",
     "iopub.status.busy": "2021-08-29T00:22:06.316534Z",
     "iopub.status.idle": "2021-08-29T00:22:06.335494Z",
     "shell.execute_reply": "2021-08-29T00:22:06.334950Z"
    },
    "papermill": {
     "duration": 0.056526,
     "end_time": "2021-08-29T00:22:06.335614",
     "exception": false,
     "start_time": "2021-08-29T00:22:06.279088",
     "status": "completed"
    },
    "tags": []
   },
   "outputs": [
    {
     "data": {
      "text/html": [
       "<div>\n",
       "<style scoped>\n",
       "    .dataframe tbody tr th:only-of-type {\n",
       "        vertical-align: middle;\n",
       "    }\n",
       "\n",
       "    .dataframe tbody tr th {\n",
       "        vertical-align: top;\n",
       "    }\n",
       "\n",
       "    .dataframe thead th {\n",
       "        text-align: right;\n",
       "    }\n",
       "</style>\n",
       "<table border=\"1\" class=\"dataframe\">\n",
       "  <thead>\n",
       "    <tr style=\"text-align: right;\">\n",
       "      <th></th>\n",
       "      <th>Country/Region</th>\n",
       "      <th>Cases</th>\n",
       "      <th>Deaths</th>\n",
       "      <th>PCases</th>\n",
       "      <th>PDeaths</th>\n",
       "      <th>Cases (+)</th>\n",
       "      <th>Deaths (+)</th>\n",
       "      <th>Fatality Rate</th>\n",
       "      <th>Continent</th>\n",
       "    </tr>\n",
       "  </thead>\n",
       "  <tbody>\n",
       "    <tr>\n",
       "      <th>0</th>\n",
       "      <td>US</td>\n",
       "      <td>38707294</td>\n",
       "      <td>636720</td>\n",
       "      <td>38384360</td>\n",
       "      <td>633564</td>\n",
       "      <td>322934</td>\n",
       "      <td>3156</td>\n",
       "      <td>1.6</td>\n",
       "      <td>North America</td>\n",
       "    </tr>\n",
       "    <tr>\n",
       "      <th>1</th>\n",
       "      <td>India</td>\n",
       "      <td>32649947</td>\n",
       "      <td>437370</td>\n",
       "      <td>32603188</td>\n",
       "      <td>436861</td>\n",
       "      <td>46759</td>\n",
       "      <td>509</td>\n",
       "      <td>1.3</td>\n",
       "      <td>Asia</td>\n",
       "    </tr>\n",
       "    <tr>\n",
       "      <th>2</th>\n",
       "      <td>Brazil</td>\n",
       "      <td>20703906</td>\n",
       "      <td>578326</td>\n",
       "      <td>20676561</td>\n",
       "      <td>577565</td>\n",
       "      <td>27345</td>\n",
       "      <td>761</td>\n",
       "      <td>2.8</td>\n",
       "      <td>South America</td>\n",
       "    </tr>\n",
       "    <tr>\n",
       "      <th>3</th>\n",
       "      <td>France</td>\n",
       "      <td>6778133</td>\n",
       "      <td>114291</td>\n",
       "      <td>6777676</td>\n",
       "      <td>114269</td>\n",
       "      <td>457</td>\n",
       "      <td>22</td>\n",
       "      <td>1.7</td>\n",
       "      <td>Europe</td>\n",
       "    </tr>\n",
       "    <tr>\n",
       "      <th>4</th>\n",
       "      <td>Russia</td>\n",
       "      <td>6747681</td>\n",
       "      <td>176904</td>\n",
       "      <td>6728699</td>\n",
       "      <td>176127</td>\n",
       "      <td>18982</td>\n",
       "      <td>777</td>\n",
       "      <td>2.6</td>\n",
       "      <td>Europe</td>\n",
       "    </tr>\n",
       "  </tbody>\n",
       "</table>\n",
       "</div>"
      ],
      "text/plain": [
       "  Country/Region     Cases  Deaths    PCases  PDeaths  Cases (+)  Deaths (+)  \\\n",
       "0             US  38707294  636720  38384360   633564     322934        3156   \n",
       "1          India  32649947  437370  32603188   436861      46759         509   \n",
       "2         Brazil  20703906  578326  20676561   577565      27345         761   \n",
       "3         France   6778133  114291   6777676   114269        457          22   \n",
       "4         Russia   6747681  176904   6728699   176127      18982         777   \n",
       "\n",
       "   Fatality Rate      Continent  \n",
       "0            1.6  North America  \n",
       "1            1.3           Asia  \n",
       "2            2.8  South America  \n",
       "3            1.7         Europe  \n",
       "4            2.6         Europe  "
      ]
     },
     "execution_count": 15,
     "metadata": {},
     "output_type": "execute_result"
    }
   ],
   "source": [
    "#hide\n",
    "df_table = (pd.DataFrame(dict(Cases=dfc_cases, Deaths=dfc_deaths, PCases=dfp_cases, PDeaths=dfp_deaths))\n",
    "             .sort_values(by=['Cases', 'Deaths'], ascending=[False, False])\n",
    "             .reset_index())\n",
    "df_table.rename(columns={'index': 'Country/Region'}, inplace=True)\n",
    "for c in 'Cases, Deaths'.split(', '):\n",
    "    df_table[f'{c} (+)'] = (df_table[c] - df_table[f'P{c}']).clip(0)  # DATA BUG\n",
    "df_table['Fatality Rate'] = (100 * df_table['Deaths'] / df_table['Cases']).round(1)\n",
    "df_table['Continent'] = df_table['Country/Region'].map(mapping['map.continent'])\n",
    "df_table.head(5)"
   ]
  },
  {
   "cell_type": "code",
   "execution_count": 16,
   "id": "fewer-occasion",
   "metadata": {
    "execution": {
     "iopub.execute_input": "2021-08-29T00:22:06.402052Z",
     "iopub.status.busy": "2021-08-29T00:22:06.401550Z",
     "iopub.status.idle": "2021-08-29T00:22:06.403731Z",
     "shell.execute_reply": "2021-08-29T00:22:06.403320Z"
    },
    "papermill": {
     "duration": 0.037512,
     "end_time": "2021-08-29T00:22:06.403837",
     "exception": false,
     "start_time": "2021-08-29T00:22:06.366325",
     "status": "completed"
    },
    "tags": []
   },
   "outputs": [],
   "source": [
    "#hide\n",
    "#delete problematic countries from table\n",
    "df_table = df_table[~df_table['Country/Region'].isin(['Cape Verde', 'Cruise Ship', 'Kosovo'])]"
   ]
  },
  {
   "cell_type": "code",
   "execution_count": 17,
   "id": "related-center",
   "metadata": {
    "execution": {
     "iopub.execute_input": "2021-08-29T00:22:06.472676Z",
     "iopub.status.busy": "2021-08-29T00:22:06.472167Z",
     "iopub.status.idle": "2021-08-29T00:22:06.483398Z",
     "shell.execute_reply": "2021-08-29T00:22:06.483839Z"
    },
    "papermill": {
     "duration": 0.049626,
     "end_time": "2021-08-29T00:22:06.483959",
     "exception": false,
     "start_time": "2021-08-29T00:22:06.434333",
     "status": "completed"
    },
    "tags": []
   },
   "outputs": [],
   "source": [
    "#hide\n",
    "metrics = [df_table.columns[index] for index in [1,2,5,6]]\n",
    "# s_china = df_table[df_table['Country/Region'].eq('China')][metrics].sum().add_prefix('China ')\n",
    "s_us = df_table[df_table['Country/Region'].eq('US')][metrics].sum().add_prefix('US ')\n",
    "s_eu = df_table[df_table['Continent'].eq('Europe')][metrics].sum().add_prefix('EU ')\n",
    "s_ind = df_table[df_table['Country/Region'].eq('India')][metrics].sum().add_prefix('India ')\n",
    "summary = {'updated': pd.to_datetime(dt_today), 'since': pd.to_datetime(dt_yday)}\n",
    "summary = {'updated': pd.to_datetime(dt_today), 'since': pd.to_datetime(dt_yday)}\n",
    "summary = {**summary, **df_table[metrics].sum(), **s_ind, **s_us, **s_eu}"
   ]
  },
  {
   "cell_type": "code",
   "execution_count": 18,
   "id": "engaging-syndrome",
   "metadata": {
    "execution": {
     "iopub.execute_input": "2021-08-29T00:22:06.549735Z",
     "iopub.status.busy": "2021-08-29T00:22:06.549233Z",
     "iopub.status.idle": "2021-08-29T00:22:06.562747Z",
     "shell.execute_reply": "2021-08-29T00:22:06.563155Z"
    },
    "papermill": {
     "duration": 0.048703,
     "end_time": "2021-08-29T00:22:06.563281",
     "exception": false,
     "start_time": "2021-08-29T00:22:06.514578",
     "status": "completed"
    },
    "tags": []
   },
   "outputs": [],
   "source": [
    "#hide\n",
    "dft_ct_new_cases = dft_cases.groupby(COL_REGION)[dt_cols].sum().diff(axis=1).fillna(0).astype(int)"
   ]
  },
  {
   "cell_type": "code",
   "execution_count": 19,
   "id": "neutral-assignment",
   "metadata": {
    "execution": {
     "iopub.execute_input": "2021-08-29T00:22:06.630598Z",
     "iopub.status.busy": "2021-08-29T00:22:06.630085Z",
     "iopub.status.idle": "2021-08-29T00:22:06.632400Z",
     "shell.execute_reply": "2021-08-29T00:22:06.631981Z"
    },
    "papermill": {
     "duration": 0.038728,
     "end_time": "2021-08-29T00:22:06.632512",
     "exception": false,
     "start_time": "2021-08-29T00:22:06.593784",
     "status": "completed"
    },
    "tags": []
   },
   "outputs": [],
   "source": [
    "#hide\n",
    "everydaycases = dft_ct_new_cases.cumsum(axis=1)"
   ]
  },
  {
   "cell_type": "code",
   "execution_count": 20,
   "id": "parliamentary-calgary",
   "metadata": {
    "execution": {
     "iopub.execute_input": "2021-08-29T00:22:06.698622Z",
     "iopub.status.busy": "2021-08-29T00:22:06.698104Z",
     "iopub.status.idle": "2021-08-29T00:22:07.207150Z",
     "shell.execute_reply": "2021-08-29T00:22:07.206218Z"
    },
    "papermill": {
     "duration": 0.543836,
     "end_time": "2021-08-29T00:22:07.207286",
     "exception": false,
     "start_time": "2021-08-29T00:22:06.663450",
     "status": "completed"
    },
    "tags": []
   },
   "outputs": [],
   "source": [
    "#hide\n",
    "import pandas as pd\n",
    "import matplotlib.pyplot as plt\n",
    "import matplotlib.ticker as ticker\n",
    "import matplotlib.animation as animation\n",
    "from IPython.display import HTML"
   ]
  },
  {
   "cell_type": "code",
   "execution_count": 21,
   "id": "lasting-extraction",
   "metadata": {
    "execution": {
     "iopub.execute_input": "2021-08-29T00:22:07.275473Z",
     "iopub.status.busy": "2021-08-29T00:22:07.274925Z",
     "iopub.status.idle": "2021-08-29T00:22:07.280351Z",
     "shell.execute_reply": "2021-08-29T00:22:07.280741Z"
    },
    "papermill": {
     "duration": 0.041696,
     "end_time": "2021-08-29T00:22:07.280875",
     "exception": false,
     "start_time": "2021-08-29T00:22:07.239179",
     "status": "completed"
    },
    "tags": []
   },
   "outputs": [],
   "source": [
    "#hide\n",
    "t = everydaycases.stack()"
   ]
  },
  {
   "cell_type": "code",
   "execution_count": 22,
   "id": "premier-sleeve",
   "metadata": {
    "execution": {
     "iopub.execute_input": "2021-08-29T00:22:07.347643Z",
     "iopub.status.busy": "2021-08-29T00:22:07.347094Z",
     "iopub.status.idle": "2021-08-29T00:22:07.361683Z",
     "shell.execute_reply": "2021-08-29T00:22:07.362196Z"
    },
    "papermill": {
     "duration": 0.050441,
     "end_time": "2021-08-29T00:22:07.362333",
     "exception": false,
     "start_time": "2021-08-29T00:22:07.311892",
     "status": "completed"
    },
    "tags": []
   },
   "outputs": [],
   "source": [
    "#hide\n",
    "g = t.reset_index(['Country/Region'])"
   ]
  },
  {
   "cell_type": "code",
   "execution_count": 23,
   "id": "distributed-pittsburgh",
   "metadata": {
    "execution": {
     "iopub.execute_input": "2021-08-29T00:22:07.427560Z",
     "iopub.status.busy": "2021-08-29T00:22:07.427016Z",
     "iopub.status.idle": "2021-08-29T00:22:07.429266Z",
     "shell.execute_reply": "2021-08-29T00:22:07.428856Z"
    },
    "papermill": {
     "duration": 0.036287,
     "end_time": "2021-08-29T00:22:07.429378",
     "exception": false,
     "start_time": "2021-08-29T00:22:07.393091",
     "status": "completed"
    },
    "tags": []
   },
   "outputs": [],
   "source": [
    "#hide\n",
    "g.index.name = 'date'"
   ]
  },
  {
   "cell_type": "code",
   "execution_count": 24,
   "id": "naked-donor",
   "metadata": {
    "execution": {
     "iopub.execute_input": "2021-08-29T00:22:07.493541Z",
     "iopub.status.busy": "2021-08-29T00:22:07.493036Z",
     "iopub.status.idle": "2021-08-29T00:22:07.495291Z",
     "shell.execute_reply": "2021-08-29T00:22:07.494868Z"
    },
    "papermill": {
     "duration": 0.035464,
     "end_time": "2021-08-29T00:22:07.495398",
     "exception": false,
     "start_time": "2021-08-29T00:22:07.459934",
     "status": "completed"
    },
    "tags": []
   },
   "outputs": [],
   "source": [
    "# #hide\n",
    "# g = g.reset_index(['date'])"
   ]
  },
  {
   "cell_type": "code",
   "execution_count": 25,
   "id": "incomplete-mustang",
   "metadata": {
    "execution": {
     "iopub.execute_input": "2021-08-29T00:22:07.559665Z",
     "iopub.status.busy": "2021-08-29T00:22:07.559146Z",
     "iopub.status.idle": "2021-08-29T00:22:07.560897Z",
     "shell.execute_reply": "2021-08-29T00:22:07.561382Z"
    },
    "papermill": {
     "duration": 0.035692,
     "end_time": "2021-08-29T00:22:07.561501",
     "exception": false,
     "start_time": "2021-08-29T00:22:07.525809",
     "status": "completed"
    },
    "tags": []
   },
   "outputs": [],
   "source": [
    "#hide\n",
    "# g.head()"
   ]
  },
  {
   "cell_type": "code",
   "execution_count": 26,
   "id": "specific-kruger",
   "metadata": {
    "execution": {
     "iopub.execute_input": "2021-08-29T00:22:07.626338Z",
     "iopub.status.busy": "2021-08-29T00:22:07.625812Z",
     "iopub.status.idle": "2021-08-29T00:22:07.627549Z",
     "shell.execute_reply": "2021-08-29T00:22:07.628040Z"
    },
    "papermill": {
     "duration": 0.036068,
     "end_time": "2021-08-29T00:22:07.628166",
     "exception": false,
     "start_time": "2021-08-29T00:22:07.592098",
     "status": "completed"
    },
    "tags": []
   },
   "outputs": [],
   "source": [
    "#hide\n",
    "# g.columns = ['date','country','cases']"
   ]
  },
  {
   "cell_type": "code",
   "execution_count": 27,
   "id": "tender-conversion",
   "metadata": {
    "execution": {
     "iopub.execute_input": "2021-08-29T00:22:07.692504Z",
     "iopub.status.busy": "2021-08-29T00:22:07.692001Z",
     "iopub.status.idle": "2021-08-29T00:22:07.693725Z",
     "shell.execute_reply": "2021-08-29T00:22:07.694209Z"
    },
    "papermill": {
     "duration": 0.035571,
     "end_time": "2021-08-29T00:22:07.694330",
     "exception": false,
     "start_time": "2021-08-29T00:22:07.658759",
     "status": "completed"
    },
    "tags": []
   },
   "outputs": [],
   "source": [
    "#hide\n",
    "# g['continent'] = g.country"
   ]
  },
  {
   "cell_type": "code",
   "execution_count": 28,
   "id": "substantial-wilderness",
   "metadata": {
    "execution": {
     "iopub.execute_input": "2021-08-29T00:22:07.759513Z",
     "iopub.status.busy": "2021-08-29T00:22:07.758963Z",
     "iopub.status.idle": "2021-08-29T00:22:07.760874Z",
     "shell.execute_reply": "2021-08-29T00:22:07.761256Z"
    },
    "papermill": {
     "duration": 0.036438,
     "end_time": "2021-08-29T00:22:07.761384",
     "exception": false,
     "start_time": "2021-08-29T00:22:07.724946",
     "status": "completed"
    },
    "tags": []
   },
   "outputs": [],
   "source": [
    "#hide\n",
    "# cols = list(g.columns.values)"
   ]
  },
  {
   "cell_type": "code",
   "execution_count": 29,
   "id": "solved-farming",
   "metadata": {
    "execution": {
     "iopub.execute_input": "2021-08-29T00:22:07.826237Z",
     "iopub.status.busy": "2021-08-29T00:22:07.825728Z",
     "iopub.status.idle": "2021-08-29T00:22:07.827919Z",
     "shell.execute_reply": "2021-08-29T00:22:07.827507Z"
    },
    "papermill": {
     "duration": 0.035949,
     "end_time": "2021-08-29T00:22:07.828032",
     "exception": false,
     "start_time": "2021-08-29T00:22:07.792083",
     "status": "completed"
    },
    "tags": []
   },
   "outputs": [],
   "source": [
    "#hide\n",
    "# cols.insert(0, cols.pop())"
   ]
  },
  {
   "cell_type": "code",
   "execution_count": 30,
   "id": "executed-adoption",
   "metadata": {
    "execution": {
     "iopub.execute_input": "2021-08-29T00:22:07.892658Z",
     "iopub.status.busy": "2021-08-29T00:22:07.892139Z",
     "iopub.status.idle": "2021-08-29T00:22:07.894338Z",
     "shell.execute_reply": "2021-08-29T00:22:07.893926Z"
    },
    "papermill": {
     "duration": 0.035813,
     "end_time": "2021-08-29T00:22:07.894447",
     "exception": false,
     "start_time": "2021-08-29T00:22:07.858634",
     "status": "completed"
    },
    "tags": []
   },
   "outputs": [],
   "source": [
    "#hide\n",
    "# g = g[cols]"
   ]
  },
  {
   "cell_type": "code",
   "execution_count": 31,
   "id": "subject-dublin",
   "metadata": {
    "execution": {
     "iopub.execute_input": "2021-08-29T00:22:07.959913Z",
     "iopub.status.busy": "2021-08-29T00:22:07.959379Z",
     "iopub.status.idle": "2021-08-29T00:22:07.960987Z",
     "shell.execute_reply": "2021-08-29T00:22:07.961370Z"
    },
    "papermill": {
     "duration": 0.036269,
     "end_time": "2021-08-29T00:22:07.961502",
     "exception": false,
     "start_time": "2021-08-29T00:22:07.925233",
     "status": "completed"
    },
    "tags": []
   },
   "outputs": [],
   "source": [
    "#hide\n",
    "# g['continent'] = g['continent'].map(mapping['map.continent'])"
   ]
  },
  {
   "cell_type": "code",
   "execution_count": 32,
   "id": "freelance-scout",
   "metadata": {
    "execution": {
     "iopub.execute_input": "2021-08-29T00:22:08.026529Z",
     "iopub.status.busy": "2021-08-29T00:22:08.026014Z",
     "iopub.status.idle": "2021-08-29T00:22:08.027994Z",
     "shell.execute_reply": "2021-08-29T00:22:08.028380Z"
    },
    "papermill": {
     "duration": 0.036205,
     "end_time": "2021-08-29T00:22:08.028509",
     "exception": false,
     "start_time": "2021-08-29T00:22:07.992304",
     "status": "completed"
    },
    "tags": []
   },
   "outputs": [],
   "source": [
    "#hide\n",
    "# g.head()"
   ]
  },
  {
   "cell_type": "code",
   "execution_count": 33,
   "id": "limited-engine",
   "metadata": {
    "execution": {
     "iopub.execute_input": "2021-08-29T00:22:08.093045Z",
     "iopub.status.busy": "2021-08-29T00:22:08.092493Z",
     "iopub.status.idle": "2021-08-29T00:22:08.095383Z",
     "shell.execute_reply": "2021-08-29T00:22:08.095784Z"
    },
    "papermill": {
     "duration": 0.036835,
     "end_time": "2021-08-29T00:22:08.095925",
     "exception": false,
     "start_time": "2021-08-29T00:22:08.059090",
     "status": "completed"
    },
    "tags": []
   },
   "outputs": [],
   "source": [
    "# hide\n",
    "# g['date'] = g['date'].astype('datetime64[ns]')"
   ]
  },
  {
   "cell_type": "code",
   "execution_count": 34,
   "id": "sophisticated-supervisor",
   "metadata": {
    "execution": {
     "iopub.execute_input": "2021-08-29T00:22:08.161739Z",
     "iopub.status.busy": "2021-08-29T00:22:08.161211Z",
     "iopub.status.idle": "2021-08-29T00:22:08.163012Z",
     "shell.execute_reply": "2021-08-29T00:22:08.163447Z"
    },
    "papermill": {
     "duration": 0.036545,
     "end_time": "2021-08-29T00:22:08.163578",
     "exception": false,
     "start_time": "2021-08-29T00:22:08.127033",
     "status": "completed"
    },
    "tags": []
   },
   "outputs": [],
   "source": [
    "#hide\n",
    "# g['date'] = g.date.dt.dayofyear"
   ]
  },
  {
   "cell_type": "code",
   "execution_count": 35,
   "id": "inside-dubai",
   "metadata": {
    "execution": {
     "iopub.execute_input": "2021-08-29T00:22:08.228288Z",
     "iopub.status.busy": "2021-08-29T00:22:08.227769Z",
     "iopub.status.idle": "2021-08-29T00:22:08.229969Z",
     "shell.execute_reply": "2021-08-29T00:22:08.229533Z"
    },
    "papermill": {
     "duration": 0.03596,
     "end_time": "2021-08-29T00:22:08.230077",
     "exception": false,
     "start_time": "2021-08-29T00:22:08.194117",
     "status": "completed"
    },
    "tags": []
   },
   "outputs": [],
   "source": [
    "#hide\n",
    "# g = g.rename(columns= {'continent':'group','country':'name','cases':'value'})"
   ]
  },
  {
   "cell_type": "code",
   "execution_count": 36,
   "id": "fleet-motorcycle",
   "metadata": {
    "execution": {
     "iopub.execute_input": "2021-08-29T00:22:08.295081Z",
     "iopub.status.busy": "2021-08-29T00:22:08.294546Z",
     "iopub.status.idle": "2021-08-29T00:22:08.296776Z",
     "shell.execute_reply": "2021-08-29T00:22:08.296366Z"
    },
    "papermill": {
     "duration": 0.036064,
     "end_time": "2021-08-29T00:22:08.296884",
     "exception": false,
     "start_time": "2021-08-29T00:22:08.260820",
     "status": "completed"
    },
    "tags": []
   },
   "outputs": [],
   "source": [
    "#hide\n",
    "# cols = ['name','group','day','value']"
   ]
  },
  {
   "cell_type": "code",
   "execution_count": 37,
   "id": "continued-sleeping",
   "metadata": {
    "execution": {
     "iopub.execute_input": "2021-08-29T00:22:08.361794Z",
     "iopub.status.busy": "2021-08-29T00:22:08.361269Z",
     "iopub.status.idle": "2021-08-29T00:22:08.363069Z",
     "shell.execute_reply": "2021-08-29T00:22:08.363517Z"
    },
    "papermill": {
     "duration": 0.036362,
     "end_time": "2021-08-29T00:22:08.363643",
     "exception": false,
     "start_time": "2021-08-29T00:22:08.327281",
     "status": "completed"
    },
    "tags": []
   },
   "outputs": [],
   "source": [
    "#hide\n",
    "# g.rename(columns= {'date':'day'},inplace = True)"
   ]
  },
  {
   "cell_type": "code",
   "execution_count": 38,
   "id": "major-fight",
   "metadata": {
    "execution": {
     "iopub.execute_input": "2021-08-29T00:22:08.429076Z",
     "iopub.status.busy": "2021-08-29T00:22:08.428495Z",
     "iopub.status.idle": "2021-08-29T00:22:08.430361Z",
     "shell.execute_reply": "2021-08-29T00:22:08.430743Z"
    },
    "papermill": {
     "duration": 0.036439,
     "end_time": "2021-08-29T00:22:08.430876",
     "exception": false,
     "start_time": "2021-08-29T00:22:08.394437",
     "status": "completed"
    },
    "tags": []
   },
   "outputs": [],
   "source": [
    "#hide\n",
    "# g = g[cols]"
   ]
  },
  {
   "cell_type": "code",
   "execution_count": 39,
   "id": "structured-mobile",
   "metadata": {
    "execution": {
     "iopub.execute_input": "2021-08-29T00:22:08.495472Z",
     "iopub.status.busy": "2021-08-29T00:22:08.494936Z",
     "iopub.status.idle": "2021-08-29T00:22:08.496742Z",
     "shell.execute_reply": "2021-08-29T00:22:08.497174Z"
    },
    "papermill": {
     "duration": 0.035836,
     "end_time": "2021-08-29T00:22:08.497298",
     "exception": false,
     "start_time": "2021-08-29T00:22:08.461462",
     "status": "completed"
    },
    "tags": []
   },
   "outputs": [],
   "source": [
    "# #hide\n",
    "# g = g[g.group.notna()]"
   ]
  },
  {
   "cell_type": "code",
   "execution_count": 40,
   "id": "determined-closing",
   "metadata": {
    "execution": {
     "iopub.execute_input": "2021-08-29T00:22:08.562736Z",
     "iopub.status.busy": "2021-08-29T00:22:08.562213Z",
     "iopub.status.idle": "2021-08-29T00:22:08.564401Z",
     "shell.execute_reply": "2021-08-29T00:22:08.563992Z"
    },
    "papermill": {
     "duration": 0.036439,
     "end_time": "2021-08-29T00:22:08.564513",
     "exception": false,
     "start_time": "2021-08-29T00:22:08.528074",
     "status": "completed"
    },
    "tags": []
   },
   "outputs": [],
   "source": [
    "# #hide\n",
    "# colors = dict(zip(\n",
    "#     [\"Oceania\", \"Europe\", \"Asia\", \"South America\", \"Middle East\", \"North America\", \"Africa\"],\n",
    "#     [\"#adb0ff\", \"#ffb3ff\", \"#90d595\", \"#e48381\", \"#aafbff\", \"#f7bb5f\", \"#eafb50\"]\n",
    "# ))\n",
    "# group_lk = g.set_index('name')['group'].to_dict()"
   ]
  },
  {
   "cell_type": "code",
   "execution_count": null,
   "id": "gross-drinking",
   "metadata": {
    "papermill": {
     "duration": 0.030527,
     "end_time": "2021-08-29T00:22:08.625605",
     "exception": false,
     "start_time": "2021-08-29T00:22:08.595078",
     "status": "completed"
    },
    "tags": []
   },
   "outputs": [],
   "source": []
  },
  {
   "cell_type": "code",
   "execution_count": 41,
   "id": "subject-macintosh",
   "metadata": {
    "execution": {
     "iopub.execute_input": "2021-08-29T00:22:08.690955Z",
     "iopub.status.busy": "2021-08-29T00:22:08.690437Z",
     "iopub.status.idle": "2021-08-29T00:22:08.692556Z",
     "shell.execute_reply": "2021-08-29T00:22:08.692992Z"
    },
    "papermill": {
     "duration": 0.036775,
     "end_time": "2021-08-29T00:22:08.693113",
     "exception": false,
     "start_time": "2021-08-29T00:22:08.656338",
     "status": "completed"
    },
    "tags": []
   },
   "outputs": [],
   "source": [
    "# #hide\n",
    "# fig, ax = plt.subplots(figsize=(15, 8))\n",
    "\n",
    "# def draw_barchart(current_day):\n",
    "#     dff = g[g['day'].eq(current_day)].sort_values(by='value', ascending=True).tail(10)\n",
    "#     ax.clear()\n",
    "#     ax.barh(dff['name'], dff['value'], color=[colors[group_lk[x]] for x in dff['name']])\n",
    "#     dx = dff['value'].max() / 200\n",
    "    \n",
    "#     for i, (value, name) in enumerate(zip(dff['value'], dff['name'])):\n",
    "#         ax.text(value-dx, i,     name,           size=14, weight=600, ha='right', va='bottom')\n",
    "#         ax.text(value-dx, i-.25, group_lk[name], size=10, color='#444444', ha='right', va='baseline')\n",
    "#         ax.text(value+dx, i,     f'{value:,.0f}',  size=14, ha='left',  va='center')\n",
    "#     ax.text(1, 0.4, current_day, transform=ax.transAxes, color='#777777', size=46, ha='right', weight=800)\n",
    "#     ax.text(0, 1.06, 'Population (thousands)', transform=ax.transAxes, size=12, color='#777777')\n",
    "#     ax.xaxis.set_major_formatter(ticker.StrMethodFormatter('{x:,.0f}'))\n",
    "#     ax.xaxis.set_ticks_position('top')\n",
    "#     ax.tick_params(axis='x', colors='#777777', labelsize=12)\n",
    "#     ax.set_yticks([])\n",
    "#     ax.margins(0, 0.01)\n",
    "#     ax.grid(which='major', axis='x', linestyle='-')\n",
    "#     ax.set_axisbelow(True)\n",
    "    \n",
    "#     ax.text(0, 1.15, 'Coronavirus',\n",
    "#             transform=ax.transAxes, size=24, weight=600, ha='left', va='top')\n",
    "# #     ax.text(1, 0, 'by @pratapvardhan; credit @jburnmurdoch', transform=ax.transAxes, color='#777777', ha='right',\n",
    "# #             bbox=dict(facecolor='white', alpha=0.8, edgecolor='white'))\n",
    "#     plt.box(False)"
   ]
  },
  {
   "cell_type": "code",
   "execution_count": 42,
   "id": "sexual-wages",
   "metadata": {
    "execution": {
     "iopub.execute_input": "2021-08-29T00:22:08.758151Z",
     "iopub.status.busy": "2021-08-29T00:22:08.757621Z",
     "iopub.status.idle": "2021-08-29T00:22:08.759519Z",
     "shell.execute_reply": "2021-08-29T00:22:08.759934Z"
    },
    "papermill": {
     "duration": 0.03637,
     "end_time": "2021-08-29T00:22:08.760063",
     "exception": false,
     "start_time": "2021-08-29T00:22:08.723693",
     "status": "completed"
    },
    "tags": []
   },
   "outputs": [],
   "source": [
    "# #hide_input\n",
    "# fig, ax = plt.subplots(figsize=(15, 8))\n",
    "# animator = animation.FuncAnimation(fig, draw_barchart, frames=range(g.day.values.min(), g.day.values.max()))\n",
    "# HTML(animator.to_jshtml())\n",
    "# # or use animator.to_html5_video() or animator.save() "
   ]
  },
  {
   "cell_type": "code",
   "execution_count": null,
   "id": "australian-container",
   "metadata": {
    "papermill": {
     "duration": 0.03065,
     "end_time": "2021-08-29T00:22:08.821519",
     "exception": false,
     "start_time": "2021-08-29T00:22:08.790869",
     "status": "completed"
    },
    "tags": []
   },
   "outputs": [],
   "source": []
  },
  {
   "cell_type": "code",
   "execution_count": null,
   "id": "mediterranean-pontiac",
   "metadata": {
    "papermill": {
     "duration": 0.030529,
     "end_time": "2021-08-29T00:22:08.882636",
     "exception": false,
     "start_time": "2021-08-29T00:22:08.852107",
     "status": "completed"
    },
    "tags": []
   },
   "outputs": [],
   "source": []
  },
  {
   "cell_type": "code",
   "execution_count": null,
   "id": "aging-legislature",
   "metadata": {
    "papermill": {
     "duration": 0.177571,
     "end_time": "2021-08-29T00:22:09.091101",
     "exception": false,
     "start_time": "2021-08-29T00:22:08.913530",
     "status": "completed"
    },
    "tags": []
   },
   "outputs": [],
   "source": []
  }
 ],
 "metadata": {
  "kernelspec": {
   "display_name": "Python 3",
   "language": "python",
   "name": "python3"
  },
  "language_info": {
   "codemirror_mode": {
    "name": "ipython",
    "version": 3
   },
   "file_extension": ".py",
   "mimetype": "text/x-python",
   "name": "python",
   "nbconvert_exporter": "python",
   "pygments_lexer": "ipython3",
   "version": "3.6.14"
  },
  "papermill": {
   "duration": 6.01474,
   "end_time": "2021-08-29T00:22:09.448822",
   "environment_variables": {},
   "exception": null,
   "input_path": "2020-03-21-covid19exp.ipynb",
   "output_path": "2020-03-21-covid19exp.ipynb",
   "parameters": {},
   "start_time": "2021-08-29T00:22:03.434082",
   "version": "2.0.0"
  }
 },
 "nbformat": 4,
 "nbformat_minor": 5
}