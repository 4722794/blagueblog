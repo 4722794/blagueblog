{
 "cells": [
  {
   "cell_type": "markdown",
   "id": "muslim-click",
   "metadata": {
    "papermill": {
     "duration": 0.038632,
     "end_time": "2021-11-05T00:23:48.236717",
     "exception": false,
     "start_time": "2021-11-05T00:23:48.198085",
     "status": "completed"
    },
    "tags": []
   },
   "source": [
    "# COVID-19 Case Race\n",
    "> A race chart to see rising cases around the world\n",
    "\n",
    "- author: Hargun Oberoi\n",
    "- image: images/covid-overview.png\n",
    "- hide: false\n",
    "- badges: false"
   ]
  },
  {
   "cell_type": "code",
   "execution_count": 1,
   "id": "proof-material",
   "metadata": {
    "execution": {
     "iopub.execute_input": "2021-11-05T00:23:48.313650Z",
     "iopub.status.busy": "2021-11-05T00:23:48.312806Z",
     "iopub.status.idle": "2021-11-05T00:23:48.694869Z",
     "shell.execute_reply": "2021-11-05T00:23:48.694269Z"
    },
    "papermill": {
     "duration": 0.425641,
     "end_time": "2021-11-05T00:23:48.695022",
     "exception": false,
     "start_time": "2021-11-05T00:23:48.269381",
     "status": "completed"
    },
    "tags": []
   },
   "outputs": [],
   "source": [
    "#hide\n",
    "import numpy as np\n",
    "import pandas as pd\n",
    "from jinja2 import Template\n",
    "from IPython.display import HTML"
   ]
  },
  {
   "cell_type": "code",
   "execution_count": 2,
   "id": "developed-terminology",
   "metadata": {
    "execution": {
     "iopub.execute_input": "2021-11-05T00:23:48.767414Z",
     "iopub.status.busy": "2021-11-05T00:23:48.766776Z",
     "iopub.status.idle": "2021-11-05T00:23:48.769029Z",
     "shell.execute_reply": "2021-11-05T00:23:48.768557Z"
    },
    "papermill": {
     "duration": 0.042302,
     "end_time": "2021-11-05T00:23:48.769156",
     "exception": false,
     "start_time": "2021-11-05T00:23:48.726854",
     "status": "completed"
    },
    "tags": []
   },
   "outputs": [],
   "source": [
    "#hide\n",
    "\n",
    "# FETCH\n",
    "base_url = 'https://raw.githubusercontent.com/pratapvardhan/notebooks/master/covid19/'\n",
    "paths = {\n",
    "    'mapping': base_url + 'mapping_countries.csv',\n",
    "    'overview': base_url + 'overview.tpl'\n",
    "}"
   ]
  },
  {
   "cell_type": "code",
   "execution_count": 3,
   "id": "dynamic-saver",
   "metadata": {
    "execution": {
     "iopub.execute_input": "2021-11-05T00:23:48.844341Z",
     "iopub.status.busy": "2021-11-05T00:23:48.841599Z",
     "iopub.status.idle": "2021-11-05T00:23:48.846952Z",
     "shell.execute_reply": "2021-11-05T00:23:48.847420Z"
    },
    "papermill": {
     "duration": 0.046071,
     "end_time": "2021-11-05T00:23:48.847558",
     "exception": false,
     "start_time": "2021-11-05T00:23:48.801487",
     "status": "completed"
    },
    "tags": []
   },
   "outputs": [
    {
     "data": {
      "text/plain": [
       "'https://raw.githubusercontent.com/pratapvardhan/notebooks/master/covid19/mapping_countries.csv'"
      ]
     },
     "execution_count": 3,
     "metadata": {},
     "output_type": "execute_result"
    }
   ],
   "source": [
    "#hide\n",
    "paths['mapping']"
   ]
  },
  {
   "cell_type": "code",
   "execution_count": 4,
   "id": "urban-software",
   "metadata": {
    "execution": {
     "iopub.execute_input": "2021-11-05T00:23:48.915996Z",
     "iopub.status.busy": "2021-11-05T00:23:48.915290Z",
     "iopub.status.idle": "2021-11-05T00:23:48.916854Z",
     "shell.execute_reply": "2021-11-05T00:23:48.917490Z"
    },
    "papermill": {
     "duration": 0.03781,
     "end_time": "2021-11-05T00:23:48.917646",
     "exception": false,
     "start_time": "2021-11-05T00:23:48.879836",
     "status": "completed"
    },
    "tags": []
   },
   "outputs": [],
   "source": [
    "#hide\n",
    "def get_mappings(url):\n",
    "    df = pd.read_csv(url)\n",
    "    return {\n",
    "        'df': df,\n",
    "        'replace.country': dict(df.dropna(subset=['Name']).set_index('Country')['Name']),\n",
    "        'map.continent': dict(df.set_index('Name')['Continent'])\n",
    "    }"
   ]
  },
  {
   "cell_type": "code",
   "execution_count": 5,
   "id": "intimate-machinery",
   "metadata": {
    "execution": {
     "iopub.execute_input": "2021-11-05T00:23:48.985319Z",
     "iopub.status.busy": "2021-11-05T00:23:48.984833Z",
     "iopub.status.idle": "2021-11-05T00:23:49.027075Z",
     "shell.execute_reply": "2021-11-05T00:23:49.026507Z"
    },
    "papermill": {
     "duration": 0.077869,
     "end_time": "2021-11-05T00:23:49.027222",
     "exception": false,
     "start_time": "2021-11-05T00:23:48.949353",
     "status": "completed"
    },
    "tags": []
   },
   "outputs": [],
   "source": [
    "#hide\n",
    "mapping = get_mappings(paths['mapping'])"
   ]
  },
  {
   "cell_type": "code",
   "execution_count": 6,
   "id": "certified-tactics",
   "metadata": {
    "execution": {
     "iopub.execute_input": "2021-11-05T00:23:49.103428Z",
     "iopub.status.busy": "2021-11-05T00:23:49.102755Z",
     "iopub.status.idle": "2021-11-05T00:23:49.106410Z",
     "shell.execute_reply": "2021-11-05T00:23:49.106866Z"
    },
    "papermill": {
     "duration": 0.043635,
     "end_time": "2021-11-05T00:23:49.107010",
     "exception": false,
     "start_time": "2021-11-05T00:23:49.063375",
     "status": "completed"
    },
    "tags": []
   },
   "outputs": [],
   "source": [
    "#hide\n",
    "def get_template(path):\n",
    "    from urllib.parse import urlparse\n",
    "    if bool(urlparse(path).netloc):\n",
    "        from urllib.request import urlopen\n",
    "        return urlopen(path).read().decode('utf8')\n",
    "    return open(path).read()"
   ]
  },
  {
   "cell_type": "code",
   "execution_count": 7,
   "id": "realistic-blast",
   "metadata": {
    "execution": {
     "iopub.execute_input": "2021-11-05T00:23:49.180878Z",
     "iopub.status.busy": "2021-11-05T00:23:49.180162Z",
     "iopub.status.idle": "2021-11-05T00:23:49.182732Z",
     "shell.execute_reply": "2021-11-05T00:23:49.182167Z"
    },
    "papermill": {
     "duration": 0.041065,
     "end_time": "2021-11-05T00:23:49.182877",
     "exception": false,
     "start_time": "2021-11-05T00:23:49.141812",
     "status": "completed"
    },
    "tags": []
   },
   "outputs": [],
   "source": [
    "#hide\n",
    "def get_frame(name):\n",
    "    url = (\n",
    "        'https://raw.githubusercontent.com/CSSEGISandData/COVID-19/master/csse_covid_19_data/'\n",
    "        f'csse_covid_19_time_series/time_series_covid19_{name}_global.csv')\n",
    "    df = pd.read_csv(url)\n",
    "    # rename countries\n",
    "    df['Country/Region'] = df['Country/Region'].replace(mapping['replace.country'])\n",
    "    return df"
   ]
  },
  {
   "cell_type": "code",
   "execution_count": 8,
   "id": "affiliated-characterization",
   "metadata": {
    "execution": {
     "iopub.execute_input": "2021-11-05T00:23:49.256483Z",
     "iopub.status.busy": "2021-11-05T00:23:49.255851Z",
     "iopub.status.idle": "2021-11-05T00:23:49.259362Z",
     "shell.execute_reply": "2021-11-05T00:23:49.259806Z"
    },
    "papermill": {
     "duration": 0.042716,
     "end_time": "2021-11-05T00:23:49.259946",
     "exception": false,
     "start_time": "2021-11-05T00:23:49.217230",
     "status": "completed"
    },
    "tags": []
   },
   "outputs": [],
   "source": [
    "#hide\n",
    "def get_dates(df):\n",
    "    dt_cols = df.columns[~df.columns.isin(['Province/State', 'Country/Region', 'Lat', 'Long'])]\n",
    "    LAST_DATE_I = -1\n",
    "    # sometimes last column may be empty, then go backwards\n",
    "    for i in range(-1, -len(dt_cols), -1):\n",
    "        if not df[dt_cols[i]].fillna(0).eq(0).all():\n",
    "            LAST_DATE_I = i\n",
    "            break\n",
    "    return LAST_DATE_I, dt_cols"
   ]
  },
  {
   "cell_type": "code",
   "execution_count": 9,
   "id": "recent-optimization",
   "metadata": {
    "execution": {
     "iopub.execute_input": "2021-11-05T00:23:49.336167Z",
     "iopub.status.busy": "2021-11-05T00:23:49.335600Z",
     "iopub.status.idle": "2021-11-05T00:23:49.740440Z",
     "shell.execute_reply": "2021-11-05T00:23:49.739900Z"
    },
    "papermill": {
     "duration": 0.444757,
     "end_time": "2021-11-05T00:23:49.740572",
     "exception": false,
     "start_time": "2021-11-05T00:23:49.295815",
     "status": "completed"
    },
    "tags": []
   },
   "outputs": [],
   "source": [
    "#hide\n",
    "COL_REGION = 'Country/Region'\n",
    "# Confirmed, Recovered, Deaths\n",
    "df = get_frame('confirmed')\n",
    "# dft_: timeseries, dfc_: today country agg\n",
    "dft_cases = df\n",
    "dft_deaths = get_frame('deaths')\n",
    "dft_recovered = get_frame('recovered')\n",
    "LAST_DATE_I, dt_cols = get_dates(df)"
   ]
  },
  {
   "cell_type": "code",
   "execution_count": 10,
   "id": "absolute-copper",
   "metadata": {
    "execution": {
     "iopub.execute_input": "2021-11-05T00:23:49.811862Z",
     "iopub.status.busy": "2021-11-05T00:23:49.811308Z",
     "iopub.status.idle": "2021-11-05T00:23:49.814324Z",
     "shell.execute_reply": "2021-11-05T00:23:49.813799Z"
    },
    "papermill": {
     "duration": 0.040768,
     "end_time": "2021-11-05T00:23:49.814448",
     "exception": false,
     "start_time": "2021-11-05T00:23:49.773680",
     "status": "completed"
    },
    "tags": []
   },
   "outputs": [],
   "source": [
    "#hide\n",
    "LAST_DATE_I, dt_cols = get_dates(df)\n",
    "dt_today =dt_cols[LAST_DATE_I]\n",
    "# dt_5day = dt_cols[LAST_DATE_I - 5]\n",
    "dt_yday = dt_cols[LAST_DATE_I - 1]"
   ]
  },
  {
   "cell_type": "code",
   "execution_count": 11,
   "id": "restricted-sheriff",
   "metadata": {
    "execution": {
     "iopub.execute_input": "2021-11-05T00:23:49.888686Z",
     "iopub.status.busy": "2021-11-05T00:23:49.888021Z",
     "iopub.status.idle": "2021-11-05T00:23:49.895321Z",
     "shell.execute_reply": "2021-11-05T00:23:49.894841Z"
    },
    "papermill": {
     "duration": 0.047318,
     "end_time": "2021-11-05T00:23:49.895444",
     "exception": false,
     "start_time": "2021-11-05T00:23:49.848126",
     "status": "completed"
    },
    "tags": []
   },
   "outputs": [],
   "source": [
    "#hide\n",
    "dfc_cases = dft_cases.groupby(COL_REGION)[dt_today].sum()\n",
    "dfc_deaths = dft_deaths.groupby(COL_REGION)[dt_today].sum()\n",
    "# dfp_cases = dft_cases.groupby(COL_REGION)[dt_5day].sum()\n",
    "# dfp_deaths = dft_deaths.groupby(COL_REGION)[dt_5day].sum()\n",
    "dfp_cases = dft_cases.groupby(COL_REGION)[dt_yday].sum()\n",
    "dfp_deaths = dft_deaths.groupby(COL_REGION)[dt_yday].sum()"
   ]
  },
  {
   "cell_type": "code",
   "execution_count": 12,
   "id": "deluxe-hepatitis",
   "metadata": {
    "execution": {
     "iopub.execute_input": "2021-11-05T00:23:49.971440Z",
     "iopub.status.busy": "2021-11-05T00:23:49.970860Z",
     "iopub.status.idle": "2021-11-05T00:23:49.976168Z",
     "shell.execute_reply": "2021-11-05T00:23:49.976802Z"
    },
    "papermill": {
     "duration": 0.046847,
     "end_time": "2021-11-05T00:23:49.976942",
     "exception": false,
     "start_time": "2021-11-05T00:23:49.930095",
     "status": "completed"
    },
    "tags": []
   },
   "outputs": [],
   "source": [
    "#hide\n",
    "df_table = (pd.DataFrame(dict(Cases = dfc_cases, Deaths = dfc_deaths, PCases = dfp_cases, PDeaths = dfp_deaths))\n",
    "            .sort_values(by = ['Cases','Deaths'], ascending = [False, False])\n",
    "            .reset_index())"
   ]
  },
  {
   "cell_type": "code",
   "execution_count": 13,
   "id": "educational-chancellor",
   "metadata": {
    "execution": {
     "iopub.execute_input": "2021-11-05T00:23:50.059119Z",
     "iopub.status.busy": "2021-11-05T00:23:50.058507Z",
     "iopub.status.idle": "2021-11-05T00:23:50.084712Z",
     "shell.execute_reply": "2021-11-05T00:23:50.084202Z"
    },
    "papermill": {
     "duration": 0.075452,
     "end_time": "2021-11-05T00:23:50.084838",
     "exception": false,
     "start_time": "2021-11-05T00:23:50.009386",
     "status": "completed"
    },
    "tags": []
   },
   "outputs": [
    {
     "data": {
      "text/html": [
       "<div>\n",
       "<style scoped>\n",
       "    .dataframe tbody tr th:only-of-type {\n",
       "        vertical-align: middle;\n",
       "    }\n",
       "\n",
       "    .dataframe tbody tr th {\n",
       "        vertical-align: top;\n",
       "    }\n",
       "\n",
       "    .dataframe thead th {\n",
       "        text-align: right;\n",
       "    }\n",
       "</style>\n",
       "<table border=\"1\" class=\"dataframe\">\n",
       "  <thead>\n",
       "    <tr style=\"text-align: right;\">\n",
       "      <th></th>\n",
       "      <th>Country/Region</th>\n",
       "      <th>Cases</th>\n",
       "      <th>Deaths</th>\n",
       "      <th>PCases</th>\n",
       "      <th>PDeaths</th>\n",
       "      <th>Cases (+)</th>\n",
       "      <th>Deaths (+)</th>\n",
       "      <th>Fatality Rate</th>\n",
       "      <th>Continent</th>\n",
       "    </tr>\n",
       "  </thead>\n",
       "  <tbody>\n",
       "    <tr>\n",
       "      <th>0</th>\n",
       "      <td>US</td>\n",
       "      <td>46252795</td>\n",
       "      <td>750424</td>\n",
       "      <td>46169012</td>\n",
       "      <td>748518</td>\n",
       "      <td>83783</td>\n",
       "      <td>1906</td>\n",
       "      <td>1.62</td>\n",
       "      <td>North America</td>\n",
       "    </tr>\n",
       "    <tr>\n",
       "      <th>1</th>\n",
       "      <td>India</td>\n",
       "      <td>34321025</td>\n",
       "      <td>459652</td>\n",
       "      <td>34308140</td>\n",
       "      <td>459191</td>\n",
       "      <td>12885</td>\n",
       "      <td>461</td>\n",
       "      <td>1.34</td>\n",
       "      <td>Asia</td>\n",
       "    </tr>\n",
       "    <tr>\n",
       "      <th>2</th>\n",
       "      <td>Brazil</td>\n",
       "      <td>21835785</td>\n",
       "      <td>608235</td>\n",
       "      <td>21821124</td>\n",
       "      <td>608071</td>\n",
       "      <td>14661</td>\n",
       "      <td>164</td>\n",
       "      <td>2.79</td>\n",
       "      <td>South America</td>\n",
       "    </tr>\n",
       "    <tr>\n",
       "      <th>3</th>\n",
       "      <td>United Kingdom</td>\n",
       "      <td>9215683</td>\n",
       "      <td>141607</td>\n",
       "      <td>9174153</td>\n",
       "      <td>141390</td>\n",
       "      <td>41530</td>\n",
       "      <td>217</td>\n",
       "      <td>1.54</td>\n",
       "      <td>Europe</td>\n",
       "    </tr>\n",
       "    <tr>\n",
       "      <th>4</th>\n",
       "      <td>Russia</td>\n",
       "      <td>8494589</td>\n",
       "      <td>237619</td>\n",
       "      <td>8455232</td>\n",
       "      <td>236462</td>\n",
       "      <td>39357</td>\n",
       "      <td>1157</td>\n",
       "      <td>2.80</td>\n",
       "      <td>Europe</td>\n",
       "    </tr>\n",
       "  </tbody>\n",
       "</table>\n",
       "</div>"
      ],
      "text/plain": [
       "   Country/Region     Cases  Deaths    PCases  PDeaths  Cases (+)  Deaths (+)  \\\n",
       "0              US  46252795  750424  46169012   748518      83783        1906   \n",
       "1           India  34321025  459652  34308140   459191      12885         461   \n",
       "2          Brazil  21835785  608235  21821124   608071      14661         164   \n",
       "3  United Kingdom   9215683  141607   9174153   141390      41530         217   \n",
       "4          Russia   8494589  237619   8455232   236462      39357        1157   \n",
       "\n",
       "   Fatality Rate      Continent  \n",
       "0           1.62  North America  \n",
       "1           1.34           Asia  \n",
       "2           2.79  South America  \n",
       "3           1.54         Europe  \n",
       "4           2.80         Europe  "
      ]
     },
     "execution_count": 13,
     "metadata": {},
     "output_type": "execute_result"
    }
   ],
   "source": [
    "#hide\n",
    "for c in 'Cases, Deaths'.split(', '):\n",
    "    df_table[f'{c} (+)'] = (df_table[c] - df_table[f'P{c}']).clip(0)\n",
    "    #Clip ça veut dire, les chiffres negatif sont interdit\n",
    "df_table['Fatality Rate'] = (100* df_table['Deaths']/ df_table['Cases']).round(2)\n",
    "df_table['Continent'] = df_table['Country/Region'].map(mapping['map.continent'])\n",
    "df_table.head(5)"
   ]
  },
  {
   "cell_type": "code",
   "execution_count": 14,
   "id": "aboriginal-bulgaria",
   "metadata": {
    "execution": {
     "iopub.execute_input": "2021-11-05T00:23:50.162040Z",
     "iopub.status.busy": "2021-11-05T00:23:50.161448Z",
     "iopub.status.idle": "2021-11-05T00:23:50.164606Z",
     "shell.execute_reply": "2021-11-05T00:23:50.165111Z"
    },
    "papermill": {
     "duration": 0.044193,
     "end_time": "2021-11-05T00:23:50.165252",
     "exception": false,
     "start_time": "2021-11-05T00:23:50.121059",
     "status": "completed"
    },
    "tags": []
   },
   "outputs": [],
   "source": [
    "#hide\n",
    "#delete problematic countries from table\n",
    "df_table = df_table[~df_table['Country/Region'].isin(['Cape Verde', 'Cruise Ship', 'Kosovo'])]"
   ]
  },
  {
   "cell_type": "code",
   "execution_count": 15,
   "id": "fantastic-effect",
   "metadata": {
    "execution": {
     "iopub.execute_input": "2021-11-05T00:23:50.243060Z",
     "iopub.status.busy": "2021-11-05T00:23:50.242456Z",
     "iopub.status.idle": "2021-11-05T00:23:50.263683Z",
     "shell.execute_reply": "2021-11-05T00:23:50.263205Z"
    },
    "papermill": {
     "duration": 0.064681,
     "end_time": "2021-11-05T00:23:50.263814",
     "exception": false,
     "start_time": "2021-11-05T00:23:50.199133",
     "status": "completed"
    },
    "tags": []
   },
   "outputs": [
    {
     "data": {
      "text/html": [
       "<div>\n",
       "<style scoped>\n",
       "    .dataframe tbody tr th:only-of-type {\n",
       "        vertical-align: middle;\n",
       "    }\n",
       "\n",
       "    .dataframe tbody tr th {\n",
       "        vertical-align: top;\n",
       "    }\n",
       "\n",
       "    .dataframe thead th {\n",
       "        text-align: right;\n",
       "    }\n",
       "</style>\n",
       "<table border=\"1\" class=\"dataframe\">\n",
       "  <thead>\n",
       "    <tr style=\"text-align: right;\">\n",
       "      <th></th>\n",
       "      <th>Country/Region</th>\n",
       "      <th>Cases</th>\n",
       "      <th>Deaths</th>\n",
       "      <th>PCases</th>\n",
       "      <th>PDeaths</th>\n",
       "      <th>Cases (+)</th>\n",
       "      <th>Deaths (+)</th>\n",
       "      <th>Fatality Rate</th>\n",
       "      <th>Continent</th>\n",
       "    </tr>\n",
       "  </thead>\n",
       "  <tbody>\n",
       "    <tr>\n",
       "      <th>0</th>\n",
       "      <td>US</td>\n",
       "      <td>46252795</td>\n",
       "      <td>750424</td>\n",
       "      <td>46169012</td>\n",
       "      <td>748518</td>\n",
       "      <td>83783</td>\n",
       "      <td>1906</td>\n",
       "      <td>1.6</td>\n",
       "      <td>North America</td>\n",
       "    </tr>\n",
       "    <tr>\n",
       "      <th>1</th>\n",
       "      <td>India</td>\n",
       "      <td>34321025</td>\n",
       "      <td>459652</td>\n",
       "      <td>34308140</td>\n",
       "      <td>459191</td>\n",
       "      <td>12885</td>\n",
       "      <td>461</td>\n",
       "      <td>1.3</td>\n",
       "      <td>Asia</td>\n",
       "    </tr>\n",
       "    <tr>\n",
       "      <th>2</th>\n",
       "      <td>Brazil</td>\n",
       "      <td>21835785</td>\n",
       "      <td>608235</td>\n",
       "      <td>21821124</td>\n",
       "      <td>608071</td>\n",
       "      <td>14661</td>\n",
       "      <td>164</td>\n",
       "      <td>2.8</td>\n",
       "      <td>South America</td>\n",
       "    </tr>\n",
       "    <tr>\n",
       "      <th>3</th>\n",
       "      <td>United Kingdom</td>\n",
       "      <td>9215683</td>\n",
       "      <td>141607</td>\n",
       "      <td>9174153</td>\n",
       "      <td>141390</td>\n",
       "      <td>41530</td>\n",
       "      <td>217</td>\n",
       "      <td>1.5</td>\n",
       "      <td>Europe</td>\n",
       "    </tr>\n",
       "    <tr>\n",
       "      <th>4</th>\n",
       "      <td>Russia</td>\n",
       "      <td>8494589</td>\n",
       "      <td>237619</td>\n",
       "      <td>8455232</td>\n",
       "      <td>236462</td>\n",
       "      <td>39357</td>\n",
       "      <td>1157</td>\n",
       "      <td>2.8</td>\n",
       "      <td>Europe</td>\n",
       "    </tr>\n",
       "  </tbody>\n",
       "</table>\n",
       "</div>"
      ],
      "text/plain": [
       "   Country/Region     Cases  Deaths    PCases  PDeaths  Cases (+)  Deaths (+)  \\\n",
       "0              US  46252795  750424  46169012   748518      83783        1906   \n",
       "1           India  34321025  459652  34308140   459191      12885         461   \n",
       "2          Brazil  21835785  608235  21821124   608071      14661         164   \n",
       "3  United Kingdom   9215683  141607   9174153   141390      41530         217   \n",
       "4          Russia   8494589  237619   8455232   236462      39357        1157   \n",
       "\n",
       "   Fatality Rate      Continent  \n",
       "0            1.6  North America  \n",
       "1            1.3           Asia  \n",
       "2            2.8  South America  \n",
       "3            1.5         Europe  \n",
       "4            2.8         Europe  "
      ]
     },
     "execution_count": 15,
     "metadata": {},
     "output_type": "execute_result"
    }
   ],
   "source": [
    "#hide\n",
    "df_table = (pd.DataFrame(dict(Cases=dfc_cases, Deaths=dfc_deaths, PCases=dfp_cases, PDeaths=dfp_deaths))\n",
    "             .sort_values(by=['Cases', 'Deaths'], ascending=[False, False])\n",
    "             .reset_index())\n",
    "df_table.rename(columns={'index': 'Country/Region'}, inplace=True)\n",
    "for c in 'Cases, Deaths'.split(', '):\n",
    "    df_table[f'{c} (+)'] = (df_table[c] - df_table[f'P{c}']).clip(0)  # DATA BUG\n",
    "df_table['Fatality Rate'] = (100 * df_table['Deaths'] / df_table['Cases']).round(1)\n",
    "df_table['Continent'] = df_table['Country/Region'].map(mapping['map.continent'])\n",
    "df_table.head(5)"
   ]
  },
  {
   "cell_type": "code",
   "execution_count": 16,
   "id": "fewer-occasion",
   "metadata": {
    "execution": {
     "iopub.execute_input": "2021-11-05T00:23:50.338543Z",
     "iopub.status.busy": "2021-11-05T00:23:50.337919Z",
     "iopub.status.idle": "2021-11-05T00:23:50.340468Z",
     "shell.execute_reply": "2021-11-05T00:23:50.339893Z"
    },
    "papermill": {
     "duration": 0.042512,
     "end_time": "2021-11-05T00:23:50.340590",
     "exception": false,
     "start_time": "2021-11-05T00:23:50.298078",
     "status": "completed"
    },
    "tags": []
   },
   "outputs": [],
   "source": [
    "#hide\n",
    "#delete problematic countries from table\n",
    "df_table = df_table[~df_table['Country/Region'].isin(['Cape Verde', 'Cruise Ship', 'Kosovo'])]"
   ]
  },
  {
   "cell_type": "code",
   "execution_count": 17,
   "id": "related-center",
   "metadata": {
    "execution": {
     "iopub.execute_input": "2021-11-05T00:23:50.421552Z",
     "iopub.status.busy": "2021-11-05T00:23:50.420948Z",
     "iopub.status.idle": "2021-11-05T00:23:50.429842Z",
     "shell.execute_reply": "2021-11-05T00:23:50.429377Z"
    },
    "papermill": {
     "duration": 0.0569,
     "end_time": "2021-11-05T00:23:50.429957",
     "exception": false,
     "start_time": "2021-11-05T00:23:50.373057",
     "status": "completed"
    },
    "tags": []
   },
   "outputs": [],
   "source": [
    "#hide\n",
    "metrics = [df_table.columns[index] for index in [1,2,5,6]]\n",
    "# s_china = df_table[df_table['Country/Region'].eq('China')][metrics].sum().add_prefix('China ')\n",
    "s_us = df_table[df_table['Country/Region'].eq('US')][metrics].sum().add_prefix('US ')\n",
    "s_eu = df_table[df_table['Continent'].eq('Europe')][metrics].sum().add_prefix('EU ')\n",
    "s_ind = df_table[df_table['Country/Region'].eq('India')][metrics].sum().add_prefix('India ')\n",
    "summary = {'updated': pd.to_datetime(dt_today), 'since': pd.to_datetime(dt_yday)}\n",
    "summary = {'updated': pd.to_datetime(dt_today), 'since': pd.to_datetime(dt_yday)}\n",
    "summary = {**summary, **df_table[metrics].sum(), **s_ind, **s_us, **s_eu}"
   ]
  },
  {
   "cell_type": "code",
   "execution_count": 18,
   "id": "engaging-syndrome",
   "metadata": {
    "execution": {
     "iopub.execute_input": "2021-11-05T00:23:50.501370Z",
     "iopub.status.busy": "2021-11-05T00:23:50.500826Z",
     "iopub.status.idle": "2021-11-05T00:23:50.516761Z",
     "shell.execute_reply": "2021-11-05T00:23:50.517205Z"
    },
    "papermill": {
     "duration": 0.054083,
     "end_time": "2021-11-05T00:23:50.517348",
     "exception": false,
     "start_time": "2021-11-05T00:23:50.463265",
     "status": "completed"
    },
    "tags": []
   },
   "outputs": [],
   "source": [
    "#hide\n",
    "dft_ct_new_cases = dft_cases.groupby(COL_REGION)[dt_cols].sum().diff(axis=1).fillna(0).astype(int)"
   ]
  },
  {
   "cell_type": "code",
   "execution_count": 19,
   "id": "neutral-assignment",
   "metadata": {
    "execution": {
     "iopub.execute_input": "2021-11-05T00:23:50.590740Z",
     "iopub.status.busy": "2021-11-05T00:23:50.590112Z",
     "iopub.status.idle": "2021-11-05T00:23:50.592799Z",
     "shell.execute_reply": "2021-11-05T00:23:50.593273Z"
    },
    "papermill": {
     "duration": 0.041964,
     "end_time": "2021-11-05T00:23:50.593411",
     "exception": false,
     "start_time": "2021-11-05T00:23:50.551447",
     "status": "completed"
    },
    "tags": []
   },
   "outputs": [],
   "source": [
    "#hide\n",
    "everydaycases = dft_ct_new_cases.cumsum(axis=1)"
   ]
  },
  {
   "cell_type": "code",
   "execution_count": 20,
   "id": "parliamentary-calgary",
   "metadata": {
    "execution": {
     "iopub.execute_input": "2021-11-05T00:23:50.664053Z",
     "iopub.status.busy": "2021-11-05T00:23:50.663575Z",
     "iopub.status.idle": "2021-11-05T00:23:51.264616Z",
     "shell.execute_reply": "2021-11-05T00:23:51.263988Z"
    },
    "papermill": {
     "duration": 0.638106,
     "end_time": "2021-11-05T00:23:51.264781",
     "exception": false,
     "start_time": "2021-11-05T00:23:50.626675",
     "status": "completed"
    },
    "tags": []
   },
   "outputs": [],
   "source": [
    "#hide\n",
    "import pandas as pd\n",
    "import matplotlib.pyplot as plt\n",
    "import matplotlib.ticker as ticker\n",
    "import matplotlib.animation as animation\n",
    "from IPython.display import HTML"
   ]
  },
  {
   "cell_type": "code",
   "execution_count": 21,
   "id": "lasting-extraction",
   "metadata": {
    "execution": {
     "iopub.execute_input": "2021-11-05T00:23:51.347217Z",
     "iopub.status.busy": "2021-11-05T00:23:51.346599Z",
     "iopub.status.idle": "2021-11-05T00:23:51.353021Z",
     "shell.execute_reply": "2021-11-05T00:23:51.353502Z"
    },
    "papermill": {
     "duration": 0.053312,
     "end_time": "2021-11-05T00:23:51.353649",
     "exception": false,
     "start_time": "2021-11-05T00:23:51.300337",
     "status": "completed"
    },
    "tags": []
   },
   "outputs": [],
   "source": [
    "#hide\n",
    "t = everydaycases.stack()"
   ]
  },
  {
   "cell_type": "code",
   "execution_count": 22,
   "id": "premier-sleeve",
   "metadata": {
    "execution": {
     "iopub.execute_input": "2021-11-05T00:23:51.427848Z",
     "iopub.status.busy": "2021-11-05T00:23:51.427253Z",
     "iopub.status.idle": "2021-11-05T00:23:51.438626Z",
     "shell.execute_reply": "2021-11-05T00:23:51.438114Z"
    },
    "papermill": {
     "duration": 0.050518,
     "end_time": "2021-11-05T00:23:51.438757",
     "exception": false,
     "start_time": "2021-11-05T00:23:51.388239",
     "status": "completed"
    },
    "tags": []
   },
   "outputs": [],
   "source": [
    "#hide\n",
    "g = t.reset_index(['Country/Region'])"
   ]
  },
  {
   "cell_type": "code",
   "execution_count": 23,
   "id": "distributed-pittsburgh",
   "metadata": {
    "execution": {
     "iopub.execute_input": "2021-11-05T00:23:51.513433Z",
     "iopub.status.busy": "2021-11-05T00:23:51.512840Z",
     "iopub.status.idle": "2021-11-05T00:23:51.515136Z",
     "shell.execute_reply": "2021-11-05T00:23:51.515635Z"
    },
    "papermill": {
     "duration": 0.041904,
     "end_time": "2021-11-05T00:23:51.515778",
     "exception": false,
     "start_time": "2021-11-05T00:23:51.473874",
     "status": "completed"
    },
    "tags": []
   },
   "outputs": [],
   "source": [
    "#hide\n",
    "g.index.name = 'date'"
   ]
  },
  {
   "cell_type": "code",
   "execution_count": 24,
   "id": "naked-donor",
   "metadata": {
    "execution": {
     "iopub.execute_input": "2021-11-05T00:23:51.588198Z",
     "iopub.status.busy": "2021-11-05T00:23:51.587609Z",
     "iopub.status.idle": "2021-11-05T00:23:51.589482Z",
     "shell.execute_reply": "2021-11-05T00:23:51.590025Z"
    },
    "papermill": {
     "duration": 0.040078,
     "end_time": "2021-11-05T00:23:51.590191",
     "exception": false,
     "start_time": "2021-11-05T00:23:51.550113",
     "status": "completed"
    },
    "tags": []
   },
   "outputs": [],
   "source": [
    "# #hide\n",
    "# g = g.reset_index(['date'])"
   ]
  },
  {
   "cell_type": "code",
   "execution_count": 25,
   "id": "incomplete-mustang",
   "metadata": {
    "execution": {
     "iopub.execute_input": "2021-11-05T00:23:51.662348Z",
     "iopub.status.busy": "2021-11-05T00:23:51.661712Z",
     "iopub.status.idle": "2021-11-05T00:23:51.665274Z",
     "shell.execute_reply": "2021-11-05T00:23:51.664682Z"
    },
    "papermill": {
     "duration": 0.040899,
     "end_time": "2021-11-05T00:23:51.665394",
     "exception": false,
     "start_time": "2021-11-05T00:23:51.624495",
     "status": "completed"
    },
    "tags": []
   },
   "outputs": [],
   "source": [
    "#hide\n",
    "# g.head()"
   ]
  },
  {
   "cell_type": "code",
   "execution_count": 26,
   "id": "specific-kruger",
   "metadata": {
    "execution": {
     "iopub.execute_input": "2021-11-05T00:23:51.747333Z",
     "iopub.status.busy": "2021-11-05T00:23:51.746717Z",
     "iopub.status.idle": "2021-11-05T00:23:51.749238Z",
     "shell.execute_reply": "2021-11-05T00:23:51.748743Z"
    },
    "papermill": {
     "duration": 0.044959,
     "end_time": "2021-11-05T00:23:51.749454",
     "exception": false,
     "start_time": "2021-11-05T00:23:51.704495",
     "status": "completed"
    },
    "tags": []
   },
   "outputs": [],
   "source": [
    "#hide\n",
    "# g.columns = ['date','country','cases']"
   ]
  },
  {
   "cell_type": "code",
   "execution_count": 27,
   "id": "tender-conversion",
   "metadata": {
    "execution": {
     "iopub.execute_input": "2021-11-05T00:23:51.830512Z",
     "iopub.status.busy": "2021-11-05T00:23:51.829744Z",
     "iopub.status.idle": "2021-11-05T00:23:51.831245Z",
     "shell.execute_reply": "2021-11-05T00:23:51.831896Z"
    },
    "papermill": {
     "duration": 0.044094,
     "end_time": "2021-11-05T00:23:51.832057",
     "exception": false,
     "start_time": "2021-11-05T00:23:51.787963",
     "status": "completed"
    },
    "tags": []
   },
   "outputs": [],
   "source": [
    "#hide\n",
    "# g['continent'] = g.country"
   ]
  },
  {
   "cell_type": "code",
   "execution_count": 28,
   "id": "substantial-wilderness",
   "metadata": {
    "execution": {
     "iopub.execute_input": "2021-11-05T00:23:51.904585Z",
     "iopub.status.busy": "2021-11-05T00:23:51.903864Z",
     "iopub.status.idle": "2021-11-05T00:23:51.908345Z",
     "shell.execute_reply": "2021-11-05T00:23:51.907871Z"
    },
    "papermill": {
     "duration": 0.042407,
     "end_time": "2021-11-05T00:23:51.908477",
     "exception": false,
     "start_time": "2021-11-05T00:23:51.866070",
     "status": "completed"
    },
    "tags": []
   },
   "outputs": [],
   "source": [
    "#hide\n",
    "# cols = list(g.columns.values)"
   ]
  },
  {
   "cell_type": "code",
   "execution_count": 29,
   "id": "solved-farming",
   "metadata": {
    "execution": {
     "iopub.execute_input": "2021-11-05T00:23:51.982748Z",
     "iopub.status.busy": "2021-11-05T00:23:51.982109Z",
     "iopub.status.idle": "2021-11-05T00:23:51.984330Z",
     "shell.execute_reply": "2021-11-05T00:23:51.983754Z"
    },
    "papermill": {
     "duration": 0.04011,
     "end_time": "2021-11-05T00:23:51.984448",
     "exception": false,
     "start_time": "2021-11-05T00:23:51.944338",
     "status": "completed"
    },
    "tags": []
   },
   "outputs": [],
   "source": [
    "#hide\n",
    "# cols.insert(0, cols.pop())"
   ]
  },
  {
   "cell_type": "code",
   "execution_count": 30,
   "id": "executed-adoption",
   "metadata": {
    "execution": {
     "iopub.execute_input": "2021-11-05T00:23:52.058710Z",
     "iopub.status.busy": "2021-11-05T00:23:52.057930Z",
     "iopub.status.idle": "2021-11-05T00:23:52.061337Z",
     "shell.execute_reply": "2021-11-05T00:23:52.060826Z"
    },
    "papermill": {
     "duration": 0.042079,
     "end_time": "2021-11-05T00:23:52.061470",
     "exception": false,
     "start_time": "2021-11-05T00:23:52.019391",
     "status": "completed"
    },
    "tags": []
   },
   "outputs": [],
   "source": [
    "#hide\n",
    "# g = g[cols]"
   ]
  },
  {
   "cell_type": "code",
   "execution_count": 31,
   "id": "subject-dublin",
   "metadata": {
    "execution": {
     "iopub.execute_input": "2021-11-05T00:23:52.139621Z",
     "iopub.status.busy": "2021-11-05T00:23:52.138908Z",
     "iopub.status.idle": "2021-11-05T00:23:52.142611Z",
     "shell.execute_reply": "2021-11-05T00:23:52.143057Z"
    },
    "papermill": {
     "duration": 0.047221,
     "end_time": "2021-11-05T00:23:52.143199",
     "exception": false,
     "start_time": "2021-11-05T00:23:52.095978",
     "status": "completed"
    },
    "tags": []
   },
   "outputs": [],
   "source": [
    "#hide\n",
    "# g['continent'] = g['continent'].map(mapping['map.continent'])"
   ]
  },
  {
   "cell_type": "code",
   "execution_count": 32,
   "id": "freelance-scout",
   "metadata": {
    "execution": {
     "iopub.execute_input": "2021-11-05T00:23:52.221021Z",
     "iopub.status.busy": "2021-11-05T00:23:52.220475Z",
     "iopub.status.idle": "2021-11-05T00:23:52.222927Z",
     "shell.execute_reply": "2021-11-05T00:23:52.222482Z"
    },
    "papermill": {
     "duration": 0.044735,
     "end_time": "2021-11-05T00:23:52.223047",
     "exception": false,
     "start_time": "2021-11-05T00:23:52.178312",
     "status": "completed"
    },
    "tags": []
   },
   "outputs": [],
   "source": [
    "#hide\n",
    "# g.head()"
   ]
  },
  {
   "cell_type": "code",
   "execution_count": 33,
   "id": "limited-engine",
   "metadata": {
    "execution": {
     "iopub.execute_input": "2021-11-05T00:23:52.293852Z",
     "iopub.status.busy": "2021-11-05T00:23:52.293251Z",
     "iopub.status.idle": "2021-11-05T00:23:52.296373Z",
     "shell.execute_reply": "2021-11-05T00:23:52.296876Z"
    },
    "papermill": {
     "duration": 0.040404,
     "end_time": "2021-11-05T00:23:52.297016",
     "exception": false,
     "start_time": "2021-11-05T00:23:52.256612",
     "status": "completed"
    },
    "tags": []
   },
   "outputs": [],
   "source": [
    "# hide\n",
    "# g['date'] = g['date'].astype('datetime64[ns]')"
   ]
  },
  {
   "cell_type": "code",
   "execution_count": 34,
   "id": "sophisticated-supervisor",
   "metadata": {
    "execution": {
     "iopub.execute_input": "2021-11-05T00:23:52.366511Z",
     "iopub.status.busy": "2021-11-05T00:23:52.365886Z",
     "iopub.status.idle": "2021-11-05T00:23:52.369097Z",
     "shell.execute_reply": "2021-11-05T00:23:52.368626Z"
    },
    "papermill": {
     "duration": 0.039168,
     "end_time": "2021-11-05T00:23:52.369220",
     "exception": false,
     "start_time": "2021-11-05T00:23:52.330052",
     "status": "completed"
    },
    "tags": []
   },
   "outputs": [],
   "source": [
    "#hide\n",
    "# g['date'] = g.date.dt.dayofyear"
   ]
  },
  {
   "cell_type": "code",
   "execution_count": 35,
   "id": "inside-dubai",
   "metadata": {
    "execution": {
     "iopub.execute_input": "2021-11-05T00:23:52.442042Z",
     "iopub.status.busy": "2021-11-05T00:23:52.441330Z",
     "iopub.status.idle": "2021-11-05T00:23:52.442958Z",
     "shell.execute_reply": "2021-11-05T00:23:52.443613Z"
    },
    "papermill": {
     "duration": 0.039924,
     "end_time": "2021-11-05T00:23:52.443772",
     "exception": false,
     "start_time": "2021-11-05T00:23:52.403848",
     "status": "completed"
    },
    "tags": []
   },
   "outputs": [],
   "source": [
    "#hide\n",
    "# g = g.rename(columns= {'continent':'group','country':'name','cases':'value'})"
   ]
  },
  {
   "cell_type": "code",
   "execution_count": 36,
   "id": "fleet-motorcycle",
   "metadata": {
    "execution": {
     "iopub.execute_input": "2021-11-05T00:23:52.513927Z",
     "iopub.status.busy": "2021-11-05T00:23:52.513124Z",
     "iopub.status.idle": "2021-11-05T00:23:52.517704Z",
     "shell.execute_reply": "2021-11-05T00:23:52.517249Z"
    },
    "papermill": {
     "duration": 0.041247,
     "end_time": "2021-11-05T00:23:52.517829",
     "exception": false,
     "start_time": "2021-11-05T00:23:52.476582",
     "status": "completed"
    },
    "tags": []
   },
   "outputs": [],
   "source": [
    "#hide\n",
    "# cols = ['name','group','day','value']"
   ]
  },
  {
   "cell_type": "code",
   "execution_count": 37,
   "id": "continued-sleeping",
   "metadata": {
    "execution": {
     "iopub.execute_input": "2021-11-05T00:23:52.592947Z",
     "iopub.status.busy": "2021-11-05T00:23:52.592223Z",
     "iopub.status.idle": "2021-11-05T00:23:52.594558Z",
     "shell.execute_reply": "2021-11-05T00:23:52.593845Z"
    },
    "papermill": {
     "duration": 0.041645,
     "end_time": "2021-11-05T00:23:52.594704",
     "exception": false,
     "start_time": "2021-11-05T00:23:52.553059",
     "status": "completed"
    },
    "tags": []
   },
   "outputs": [],
   "source": [
    "#hide\n",
    "# g.rename(columns= {'date':'day'},inplace = True)"
   ]
  },
  {
   "cell_type": "code",
   "execution_count": 38,
   "id": "major-fight",
   "metadata": {
    "execution": {
     "iopub.execute_input": "2021-11-05T00:23:52.667476Z",
     "iopub.status.busy": "2021-11-05T00:23:52.666754Z",
     "iopub.status.idle": "2021-11-05T00:23:52.670693Z",
     "shell.execute_reply": "2021-11-05T00:23:52.670188Z"
    },
    "papermill": {
     "duration": 0.041029,
     "end_time": "2021-11-05T00:23:52.670815",
     "exception": false,
     "start_time": "2021-11-05T00:23:52.629786",
     "status": "completed"
    },
    "tags": []
   },
   "outputs": [],
   "source": [
    "#hide\n",
    "# g = g[cols]"
   ]
  },
  {
   "cell_type": "code",
   "execution_count": 39,
   "id": "structured-mobile",
   "metadata": {
    "execution": {
     "iopub.execute_input": "2021-11-05T00:23:52.739677Z",
     "iopub.status.busy": "2021-11-05T00:23:52.739131Z",
     "iopub.status.idle": "2021-11-05T00:23:52.741183Z",
     "shell.execute_reply": "2021-11-05T00:23:52.741755Z"
    },
    "papermill": {
     "duration": 0.039232,
     "end_time": "2021-11-05T00:23:52.741882",
     "exception": false,
     "start_time": "2021-11-05T00:23:52.702650",
     "status": "completed"
    },
    "tags": []
   },
   "outputs": [],
   "source": [
    "# #hide\n",
    "# g = g[g.group.notna()]"
   ]
  },
  {
   "cell_type": "code",
   "execution_count": 40,
   "id": "determined-closing",
   "metadata": {
    "execution": {
     "iopub.execute_input": "2021-11-05T00:23:52.810448Z",
     "iopub.status.busy": "2021-11-05T00:23:52.809817Z",
     "iopub.status.idle": "2021-11-05T00:23:52.811893Z",
     "shell.execute_reply": "2021-11-05T00:23:52.812360Z"
    },
    "papermill": {
     "duration": 0.038548,
     "end_time": "2021-11-05T00:23:52.812493",
     "exception": false,
     "start_time": "2021-11-05T00:23:52.773945",
     "status": "completed"
    },
    "tags": []
   },
   "outputs": [],
   "source": [
    "# #hide\n",
    "# colors = dict(zip(\n",
    "#     [\"Oceania\", \"Europe\", \"Asia\", \"South America\", \"Middle East\", \"North America\", \"Africa\"],\n",
    "#     [\"#adb0ff\", \"#ffb3ff\", \"#90d595\", \"#e48381\", \"#aafbff\", \"#f7bb5f\", \"#eafb50\"]\n",
    "# ))\n",
    "# group_lk = g.set_index('name')['group'].to_dict()"
   ]
  },
  {
   "cell_type": "code",
   "execution_count": null,
   "id": "gross-drinking",
   "metadata": {
    "papermill": {
     "duration": 0.032953,
     "end_time": "2021-11-05T00:23:52.877463",
     "exception": false,
     "start_time": "2021-11-05T00:23:52.844510",
     "status": "completed"
    },
    "tags": []
   },
   "outputs": [],
   "source": []
  },
  {
   "cell_type": "code",
   "execution_count": 41,
   "id": "subject-macintosh",
   "metadata": {
    "execution": {
     "iopub.execute_input": "2021-11-05T00:23:52.949426Z",
     "iopub.status.busy": "2021-11-05T00:23:52.948642Z",
     "iopub.status.idle": "2021-11-05T00:23:52.953841Z",
     "shell.execute_reply": "2021-11-05T00:23:52.953168Z"
    },
    "papermill": {
     "duration": 0.04259,
     "end_time": "2021-11-05T00:23:52.953980",
     "exception": false,
     "start_time": "2021-11-05T00:23:52.911390",
     "status": "completed"
    },
    "tags": []
   },
   "outputs": [],
   "source": [
    "# #hide\n",
    "# fig, ax = plt.subplots(figsize=(15, 8))\n",
    "\n",
    "# def draw_barchart(current_day):\n",
    "#     dff = g[g['day'].eq(current_day)].sort_values(by='value', ascending=True).tail(10)\n",
    "#     ax.clear()\n",
    "#     ax.barh(dff['name'], dff['value'], color=[colors[group_lk[x]] for x in dff['name']])\n",
    "#     dx = dff['value'].max() / 200\n",
    "    \n",
    "#     for i, (value, name) in enumerate(zip(dff['value'], dff['name'])):\n",
    "#         ax.text(value-dx, i,     name,           size=14, weight=600, ha='right', va='bottom')\n",
    "#         ax.text(value-dx, i-.25, group_lk[name], size=10, color='#444444', ha='right', va='baseline')\n",
    "#         ax.text(value+dx, i,     f'{value:,.0f}',  size=14, ha='left',  va='center')\n",
    "#     ax.text(1, 0.4, current_day, transform=ax.transAxes, color='#777777', size=46, ha='right', weight=800)\n",
    "#     ax.text(0, 1.06, 'Population (thousands)', transform=ax.transAxes, size=12, color='#777777')\n",
    "#     ax.xaxis.set_major_formatter(ticker.StrMethodFormatter('{x:,.0f}'))\n",
    "#     ax.xaxis.set_ticks_position('top')\n",
    "#     ax.tick_params(axis='x', colors='#777777', labelsize=12)\n",
    "#     ax.set_yticks([])\n",
    "#     ax.margins(0, 0.01)\n",
    "#     ax.grid(which='major', axis='x', linestyle='-')\n",
    "#     ax.set_axisbelow(True)\n",
    "    \n",
    "#     ax.text(0, 1.15, 'Coronavirus',\n",
    "#             transform=ax.transAxes, size=24, weight=600, ha='left', va='top')\n",
    "# #     ax.text(1, 0, 'by @pratapvardhan; credit @jburnmurdoch', transform=ax.transAxes, color='#777777', ha='right',\n",
    "# #             bbox=dict(facecolor='white', alpha=0.8, edgecolor='white'))\n",
    "#     plt.box(False)"
   ]
  },
  {
   "cell_type": "code",
   "execution_count": 42,
   "id": "sexual-wages",
   "metadata": {
    "execution": {
     "iopub.execute_input": "2021-11-05T00:23:53.024881Z",
     "iopub.status.busy": "2021-11-05T00:23:53.023892Z",
     "iopub.status.idle": "2021-11-05T00:23:53.027794Z",
     "shell.execute_reply": "2021-11-05T00:23:53.028209Z"
    },
    "papermill": {
     "duration": 0.041311,
     "end_time": "2021-11-05T00:23:53.028337",
     "exception": false,
     "start_time": "2021-11-05T00:23:52.987026",
     "status": "completed"
    },
    "tags": []
   },
   "outputs": [],
   "source": [
    "# #hide_input\n",
    "# fig, ax = plt.subplots(figsize=(15, 8))\n",
    "# animator = animation.FuncAnimation(fig, draw_barchart, frames=range(g.day.values.min(), g.day.values.max()))\n",
    "# HTML(animator.to_jshtml())\n",
    "# # or use animator.to_html5_video() or animator.save() "
   ]
  },
  {
   "cell_type": "code",
   "execution_count": null,
   "id": "australian-container",
   "metadata": {
    "papermill": {
     "duration": 0.033988,
     "end_time": "2021-11-05T00:23:53.095989",
     "exception": false,
     "start_time": "2021-11-05T00:23:53.062001",
     "status": "completed"
    },
    "tags": []
   },
   "outputs": [],
   "source": []
  },
  {
   "cell_type": "code",
   "execution_count": null,
   "id": "mediterranean-pontiac",
   "metadata": {
    "papermill": {
     "duration": 0.032733,
     "end_time": "2021-11-05T00:23:53.161188",
     "exception": false,
     "start_time": "2021-11-05T00:23:53.128455",
     "status": "completed"
    },
    "tags": []
   },
   "outputs": [],
   "source": []
  },
  {
   "cell_type": "code",
   "execution_count": null,
   "id": "aging-legislature",
   "metadata": {
    "papermill": {
     "duration": 0.032777,
     "end_time": "2021-11-05T00:23:53.227325",
     "exception": false,
     "start_time": "2021-11-05T00:23:53.194548",
     "status": "completed"
    },
    "tags": []
   },
   "outputs": [],
   "source": []
  }
 ],
 "metadata": {
  "kernelspec": {
   "display_name": "Python 3",
   "language": "python",
   "name": "python3"
  },
  "language_info": {
   "codemirror_mode": {
    "name": "ipython",
    "version": 3
   },
   "file_extension": ".py",
   "mimetype": "text/x-python",
   "name": "python",
   "nbconvert_exporter": "python",
   "pygments_lexer": "ipython3",
   "version": "3.6.15"
  },
  "papermill": {
   "duration": 6.442495,
   "end_time": "2021-11-05T00:23:53.567925",
   "environment_variables": {},
   "exception": null,
   "input_path": "2020-03-21-covid19exp.ipynb",
   "output_path": "2020-03-21-covid19exp.ipynb",
   "parameters": {},
   "start_time": "2021-11-05T00:23:47.125430",
   "version": "2.0.0"
  }
 },
 "nbformat": 4,
 "nbformat_minor": 5
}