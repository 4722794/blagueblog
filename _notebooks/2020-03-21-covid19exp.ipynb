{
 "cells": [
  {
   "cell_type": "markdown",
   "id": "muslim-click",
   "metadata": {
    "papermill": {
     "duration": 0.042869,
     "end_time": "2022-01-26T00:27:35.707847",
     "exception": false,
     "start_time": "2022-01-26T00:27:35.664978",
     "status": "completed"
    },
    "tags": []
   },
   "source": [
    "# COVID-19 Case Race\n",
    "> A race chart to see rising cases around the world\n",
    "\n",
    "- author: Hargun Oberoi\n",
    "- image: images/covid-overview.png\n",
    "- hide: false\n",
    "- badges: false"
   ]
  },
  {
   "cell_type": "code",
   "execution_count": 1,
   "id": "proof-material",
   "metadata": {
    "execution": {
     "iopub.execute_input": "2022-01-26T00:27:35.788337Z",
     "iopub.status.busy": "2022-01-26T00:27:35.787682Z",
     "iopub.status.idle": "2022-01-26T00:27:36.143391Z",
     "shell.execute_reply": "2022-01-26T00:27:36.142771Z"
    },
    "papermill": {
     "duration": 0.399955,
     "end_time": "2022-01-26T00:27:36.143604",
     "exception": false,
     "start_time": "2022-01-26T00:27:35.743649",
     "status": "completed"
    },
    "tags": []
   },
   "outputs": [],
   "source": [
    "#hide\n",
    "import numpy as np\n",
    "import pandas as pd\n",
    "from jinja2 import Template\n",
    "from IPython.display import HTML"
   ]
  },
  {
   "cell_type": "code",
   "execution_count": 2,
   "id": "developed-terminology",
   "metadata": {
    "execution": {
     "iopub.execute_input": "2022-01-26T00:27:36.218455Z",
     "iopub.status.busy": "2022-01-26T00:27:36.217867Z",
     "iopub.status.idle": "2022-01-26T00:27:36.220286Z",
     "shell.execute_reply": "2022-01-26T00:27:36.220767Z"
    },
    "papermill": {
     "duration": 0.041424,
     "end_time": "2022-01-26T00:27:36.220887",
     "exception": false,
     "start_time": "2022-01-26T00:27:36.179463",
     "status": "completed"
    },
    "tags": []
   },
   "outputs": [],
   "source": [
    "#hide\n",
    "\n",
    "# FETCH\n",
    "base_url = 'https://raw.githubusercontent.com/pratapvardhan/notebooks/master/covid19/'\n",
    "paths = {\n",
    "    'mapping': base_url + 'mapping_countries.csv',\n",
    "    'overview': base_url + 'overview.tpl'\n",
    "}"
   ]
  },
  {
   "cell_type": "code",
   "execution_count": 3,
   "id": "dynamic-saver",
   "metadata": {
    "execution": {
     "iopub.execute_input": "2022-01-26T00:27:36.296726Z",
     "iopub.status.busy": "2022-01-26T00:27:36.296036Z",
     "iopub.status.idle": "2022-01-26T00:27:36.299273Z",
     "shell.execute_reply": "2022-01-26T00:27:36.298799Z"
    },
    "papermill": {
     "duration": 0.04588,
     "end_time": "2022-01-26T00:27:36.299392",
     "exception": false,
     "start_time": "2022-01-26T00:27:36.253512",
     "status": "completed"
    },
    "tags": []
   },
   "outputs": [
    {
     "data": {
      "text/plain": [
       "'https://raw.githubusercontent.com/pratapvardhan/notebooks/master/covid19/mapping_countries.csv'"
      ]
     },
     "execution_count": 3,
     "metadata": {},
     "output_type": "execute_result"
    }
   ],
   "source": [
    "#hide\n",
    "paths['mapping']"
   ]
  },
  {
   "cell_type": "code",
   "execution_count": 4,
   "id": "urban-software",
   "metadata": {
    "execution": {
     "iopub.execute_input": "2022-01-26T00:27:36.371649Z",
     "iopub.status.busy": "2022-01-26T00:27:36.371057Z",
     "iopub.status.idle": "2022-01-26T00:27:36.373231Z",
     "shell.execute_reply": "2022-01-26T00:27:36.373797Z"
    },
    "papermill": {
     "duration": 0.040669,
     "end_time": "2022-01-26T00:27:36.373931",
     "exception": false,
     "start_time": "2022-01-26T00:27:36.333262",
     "status": "completed"
    },
    "tags": []
   },
   "outputs": [],
   "source": [
    "#hide\n",
    "def get_mappings(url):\n",
    "    df = pd.read_csv(url)\n",
    "    return {\n",
    "        'df': df,\n",
    "        'replace.country': dict(df.dropna(subset=['Name']).set_index('Country')['Name']),\n",
    "        'map.continent': dict(df.set_index('Name')['Continent'])\n",
    "    }"
   ]
  },
  {
   "cell_type": "code",
   "execution_count": 5,
   "id": "intimate-machinery",
   "metadata": {
    "execution": {
     "iopub.execute_input": "2022-01-26T00:27:36.445778Z",
     "iopub.status.busy": "2022-01-26T00:27:36.445184Z",
     "iopub.status.idle": "2022-01-26T00:27:36.483847Z",
     "shell.execute_reply": "2022-01-26T00:27:36.483345Z"
    },
    "papermill": {
     "duration": 0.077155,
     "end_time": "2022-01-26T00:27:36.483962",
     "exception": false,
     "start_time": "2022-01-26T00:27:36.406807",
     "status": "completed"
    },
    "tags": []
   },
   "outputs": [],
   "source": [
    "#hide\n",
    "mapping = get_mappings(paths['mapping'])"
   ]
  },
  {
   "cell_type": "code",
   "execution_count": 6,
   "id": "certified-tactics",
   "metadata": {
    "execution": {
     "iopub.execute_input": "2022-01-26T00:27:36.555940Z",
     "iopub.status.busy": "2022-01-26T00:27:36.555355Z",
     "iopub.status.idle": "2022-01-26T00:27:36.559167Z",
     "shell.execute_reply": "2022-01-26T00:27:36.559611Z"
    },
    "papermill": {
     "duration": 0.042481,
     "end_time": "2022-01-26T00:27:36.559739",
     "exception": false,
     "start_time": "2022-01-26T00:27:36.517258",
     "status": "completed"
    },
    "tags": []
   },
   "outputs": [],
   "source": [
    "#hide\n",
    "def get_template(path):\n",
    "    from urllib.parse import urlparse\n",
    "    if bool(urlparse(path).netloc):\n",
    "        from urllib.request import urlopen\n",
    "        return urlopen(path).read().decode('utf8')\n",
    "    return open(path).read()"
   ]
  },
  {
   "cell_type": "code",
   "execution_count": 7,
   "id": "realistic-blast",
   "metadata": {
    "execution": {
     "iopub.execute_input": "2022-01-26T00:27:36.630397Z",
     "iopub.status.busy": "2022-01-26T00:27:36.629789Z",
     "iopub.status.idle": "2022-01-26T00:27:36.631737Z",
     "shell.execute_reply": "2022-01-26T00:27:36.632182Z"
    },
    "papermill": {
     "duration": 0.03946,
     "end_time": "2022-01-26T00:27:36.632332",
     "exception": false,
     "start_time": "2022-01-26T00:27:36.592872",
     "status": "completed"
    },
    "tags": []
   },
   "outputs": [],
   "source": [
    "#hide\n",
    "def get_frame(name):\n",
    "    url = (\n",
    "        'https://raw.githubusercontent.com/CSSEGISandData/COVID-19/master/csse_covid_19_data/'\n",
    "        f'csse_covid_19_time_series/time_series_covid19_{name}_global.csv')\n",
    "    df = pd.read_csv(url)\n",
    "    # rename countries\n",
    "    df['Country/Region'] = df['Country/Region'].replace(mapping['replace.country'])\n",
    "    return df"
   ]
  },
  {
   "cell_type": "code",
   "execution_count": 8,
   "id": "affiliated-characterization",
   "metadata": {
    "execution": {
     "iopub.execute_input": "2022-01-26T00:27:36.704946Z",
     "iopub.status.busy": "2022-01-26T00:27:36.704328Z",
     "iopub.status.idle": "2022-01-26T00:27:36.706828Z",
     "shell.execute_reply": "2022-01-26T00:27:36.707282Z"
    },
    "papermill": {
     "duration": 0.041745,
     "end_time": "2022-01-26T00:27:36.707413",
     "exception": false,
     "start_time": "2022-01-26T00:27:36.665668",
     "status": "completed"
    },
    "tags": []
   },
   "outputs": [],
   "source": [
    "#hide\n",
    "def get_dates(df):\n",
    "    dt_cols = df.columns[~df.columns.isin(['Province/State', 'Country/Region', 'Lat', 'Long'])]\n",
    "    LAST_DATE_I = -1\n",
    "    # sometimes last column may be empty, then go backwards\n",
    "    for i in range(-1, -len(dt_cols), -1):\n",
    "        if not df[dt_cols[i]].fillna(0).eq(0).all():\n",
    "            LAST_DATE_I = i\n",
    "            break\n",
    "    return LAST_DATE_I, dt_cols"
   ]
  },
  {
   "cell_type": "code",
   "execution_count": 9,
   "id": "recent-optimization",
   "metadata": {
    "execution": {
     "iopub.execute_input": "2022-01-26T00:27:36.778364Z",
     "iopub.status.busy": "2022-01-26T00:27:36.777739Z",
     "iopub.status.idle": "2022-01-26T00:27:37.209584Z",
     "shell.execute_reply": "2022-01-26T00:27:37.210149Z"
    },
    "papermill": {
     "duration": 0.468605,
     "end_time": "2022-01-26T00:27:37.210322",
     "exception": false,
     "start_time": "2022-01-26T00:27:36.741717",
     "status": "completed"
    },
    "tags": []
   },
   "outputs": [],
   "source": [
    "#hide\n",
    "COL_REGION = 'Country/Region'\n",
    "# Confirmed, Recovered, Deaths\n",
    "df = get_frame('confirmed')\n",
    "# dft_: timeseries, dfc_: today country agg\n",
    "dft_cases = df\n",
    "dft_deaths = get_frame('deaths')\n",
    "dft_recovered = get_frame('recovered')\n",
    "LAST_DATE_I, dt_cols = get_dates(df)"
   ]
  },
  {
   "cell_type": "code",
   "execution_count": 10,
   "id": "absolute-copper",
   "metadata": {
    "execution": {
     "iopub.execute_input": "2022-01-26T00:27:37.289327Z",
     "iopub.status.busy": "2022-01-26T00:27:37.288661Z",
     "iopub.status.idle": "2022-01-26T00:27:37.290897Z",
     "shell.execute_reply": "2022-01-26T00:27:37.291411Z"
    },
    "papermill": {
     "duration": 0.044855,
     "end_time": "2022-01-26T00:27:37.291565",
     "exception": false,
     "start_time": "2022-01-26T00:27:37.246710",
     "status": "completed"
    },
    "tags": []
   },
   "outputs": [],
   "source": [
    "#hide\n",
    "LAST_DATE_I, dt_cols = get_dates(df)\n",
    "dt_today =dt_cols[LAST_DATE_I]\n",
    "# dt_5day = dt_cols[LAST_DATE_I - 5]\n",
    "dt_yday = dt_cols[LAST_DATE_I - 1]"
   ]
  },
  {
   "cell_type": "code",
   "execution_count": 11,
   "id": "restricted-sheriff",
   "metadata": {
    "execution": {
     "iopub.execute_input": "2022-01-26T00:27:37.364904Z",
     "iopub.status.busy": "2022-01-26T00:27:37.362322Z",
     "iopub.status.idle": "2022-01-26T00:27:37.373157Z",
     "shell.execute_reply": "2022-01-26T00:27:37.373701Z"
    },
    "papermill": {
     "duration": 0.047004,
     "end_time": "2022-01-26T00:27:37.373946",
     "exception": false,
     "start_time": "2022-01-26T00:27:37.326942",
     "status": "completed"
    },
    "tags": []
   },
   "outputs": [],
   "source": [
    "#hide\n",
    "dfc_cases = dft_cases.groupby(COL_REGION)[dt_today].sum()\n",
    "dfc_deaths = dft_deaths.groupby(COL_REGION)[dt_today].sum()\n",
    "# dfp_cases = dft_cases.groupby(COL_REGION)[dt_5day].sum()\n",
    "# dfp_deaths = dft_deaths.groupby(COL_REGION)[dt_5day].sum()\n",
    "dfp_cases = dft_cases.groupby(COL_REGION)[dt_yday].sum()\n",
    "dfp_deaths = dft_deaths.groupby(COL_REGION)[dt_yday].sum()"
   ]
  },
  {
   "cell_type": "code",
   "execution_count": 12,
   "id": "deluxe-hepatitis",
   "metadata": {
    "execution": {
     "iopub.execute_input": "2022-01-26T00:27:37.446066Z",
     "iopub.status.busy": "2022-01-26T00:27:37.445467Z",
     "iopub.status.idle": "2022-01-26T00:27:37.449978Z",
     "shell.execute_reply": "2022-01-26T00:27:37.450532Z"
    },
    "papermill": {
     "duration": 0.043992,
     "end_time": "2022-01-26T00:27:37.450655",
     "exception": false,
     "start_time": "2022-01-26T00:27:37.406663",
     "status": "completed"
    },
    "tags": []
   },
   "outputs": [],
   "source": [
    "#hide\n",
    "df_table = (pd.DataFrame(dict(Cases = dfc_cases, Deaths = dfc_deaths, PCases = dfp_cases, PDeaths = dfp_deaths))\n",
    "            .sort_values(by = ['Cases','Deaths'], ascending = [False, False])\n",
    "            .reset_index())"
   ]
  },
  {
   "cell_type": "code",
   "execution_count": 13,
   "id": "educational-chancellor",
   "metadata": {
    "execution": {
     "iopub.execute_input": "2022-01-26T00:27:37.535935Z",
     "iopub.status.busy": "2022-01-26T00:27:37.534601Z",
     "iopub.status.idle": "2022-01-26T00:27:37.544060Z",
     "shell.execute_reply": "2022-01-26T00:27:37.544702Z"
    },
    "papermill": {
     "duration": 0.062106,
     "end_time": "2022-01-26T00:27:37.544840",
     "exception": false,
     "start_time": "2022-01-26T00:27:37.482734",
     "status": "completed"
    },
    "tags": []
   },
   "outputs": [
    {
     "data": {
      "text/html": [
       "<div>\n",
       "<style scoped>\n",
       "    .dataframe tbody tr th:only-of-type {\n",
       "        vertical-align: middle;\n",
       "    }\n",
       "\n",
       "    .dataframe tbody tr th {\n",
       "        vertical-align: top;\n",
       "    }\n",
       "\n",
       "    .dataframe thead th {\n",
       "        text-align: right;\n",
       "    }\n",
       "</style>\n",
       "<table border=\"1\" class=\"dataframe\">\n",
       "  <thead>\n",
       "    <tr style=\"text-align: right;\">\n",
       "      <th></th>\n",
       "      <th>Country/Region</th>\n",
       "      <th>Cases</th>\n",
       "      <th>Deaths</th>\n",
       "      <th>PCases</th>\n",
       "      <th>PDeaths</th>\n",
       "      <th>Cases (+)</th>\n",
       "      <th>Deaths (+)</th>\n",
       "      <th>Fatality Rate</th>\n",
       "      <th>Continent</th>\n",
       "    </tr>\n",
       "  </thead>\n",
       "  <tbody>\n",
       "    <tr>\n",
       "      <th>0</th>\n",
       "      <td>US</td>\n",
       "      <td>71711432</td>\n",
       "      <td>869026</td>\n",
       "      <td>70700678</td>\n",
       "      <td>867042</td>\n",
       "      <td>1010754</td>\n",
       "      <td>1984</td>\n",
       "      <td>1.21</td>\n",
       "      <td>North America</td>\n",
       "    </tr>\n",
       "    <tr>\n",
       "      <th>1</th>\n",
       "      <td>India</td>\n",
       "      <td>39799202</td>\n",
       "      <td>490462</td>\n",
       "      <td>39543328</td>\n",
       "      <td>489848</td>\n",
       "      <td>255874</td>\n",
       "      <td>614</td>\n",
       "      <td>1.23</td>\n",
       "      <td>Asia</td>\n",
       "    </tr>\n",
       "    <tr>\n",
       "      <th>2</th>\n",
       "      <td>Brazil</td>\n",
       "      <td>24142032</td>\n",
       "      <td>623636</td>\n",
       "      <td>24054405</td>\n",
       "      <td>623370</td>\n",
       "      <td>87627</td>\n",
       "      <td>266</td>\n",
       "      <td>2.58</td>\n",
       "      <td>South America</td>\n",
       "    </tr>\n",
       "    <tr>\n",
       "      <th>3</th>\n",
       "      <td>France</td>\n",
       "      <td>16917220</td>\n",
       "      <td>130013</td>\n",
       "      <td>16807733</td>\n",
       "      <td>129620</td>\n",
       "      <td>109487</td>\n",
       "      <td>393</td>\n",
       "      <td>0.77</td>\n",
       "      <td>Europe</td>\n",
       "    </tr>\n",
       "    <tr>\n",
       "      <th>4</th>\n",
       "      <td>United Kingdom</td>\n",
       "      <td>16063010</td>\n",
       "      <td>154430</td>\n",
       "      <td>15966838</td>\n",
       "      <td>154374</td>\n",
       "      <td>96172</td>\n",
       "      <td>56</td>\n",
       "      <td>0.96</td>\n",
       "      <td>Europe</td>\n",
       "    </tr>\n",
       "  </tbody>\n",
       "</table>\n",
       "</div>"
      ],
      "text/plain": [
       "   Country/Region     Cases  Deaths    PCases  PDeaths  Cases (+)  Deaths (+)  \\\n",
       "0              US  71711432  869026  70700678   867042    1010754        1984   \n",
       "1           India  39799202  490462  39543328   489848     255874         614   \n",
       "2          Brazil  24142032  623636  24054405   623370      87627         266   \n",
       "3          France  16917220  130013  16807733   129620     109487         393   \n",
       "4  United Kingdom  16063010  154430  15966838   154374      96172          56   \n",
       "\n",
       "   Fatality Rate      Continent  \n",
       "0           1.21  North America  \n",
       "1           1.23           Asia  \n",
       "2           2.58  South America  \n",
       "3           0.77         Europe  \n",
       "4           0.96         Europe  "
      ]
     },
     "execution_count": 13,
     "metadata": {},
     "output_type": "execute_result"
    }
   ],
   "source": [
    "#hide\n",
    "for c in 'Cases, Deaths'.split(', '):\n",
    "    df_table[f'{c} (+)'] = (df_table[c] - df_table[f'P{c}']).clip(0)\n",
    "    #Clip ça veut dire, les chiffres negatif sont interdit\n",
    "df_table['Fatality Rate'] = (100* df_table['Deaths']/ df_table['Cases']).round(2)\n",
    "df_table['Continent'] = df_table['Country/Region'].map(mapping['map.continent'])\n",
    "df_table.head(5)"
   ]
  },
  {
   "cell_type": "code",
   "execution_count": 14,
   "id": "aboriginal-bulgaria",
   "metadata": {
    "execution": {
     "iopub.execute_input": "2022-01-26T00:27:37.618544Z",
     "iopub.status.busy": "2022-01-26T00:27:37.617964Z",
     "iopub.status.idle": "2022-01-26T00:27:37.620245Z",
     "shell.execute_reply": "2022-01-26T00:27:37.620715Z"
    },
    "papermill": {
     "duration": 0.04198,
     "end_time": "2022-01-26T00:27:37.620841",
     "exception": false,
     "start_time": "2022-01-26T00:27:37.578861",
     "status": "completed"
    },
    "tags": []
   },
   "outputs": [],
   "source": [
    "#hide\n",
    "#delete problematic countries from table\n",
    "df_table = df_table[~df_table['Country/Region'].isin(['Cape Verde', 'Cruise Ship', 'Kosovo'])]"
   ]
  },
  {
   "cell_type": "code",
   "execution_count": 15,
   "id": "fantastic-effect",
   "metadata": {
    "execution": {
     "iopub.execute_input": "2022-01-26T00:27:37.695796Z",
     "iopub.status.busy": "2022-01-26T00:27:37.695193Z",
     "iopub.status.idle": "2022-01-26T00:27:37.714799Z",
     "shell.execute_reply": "2022-01-26T00:27:37.714314Z"
    },
    "papermill": {
     "duration": 0.06099,
     "end_time": "2022-01-26T00:27:37.714908",
     "exception": false,
     "start_time": "2022-01-26T00:27:37.653918",
     "status": "completed"
    },
    "tags": []
   },
   "outputs": [
    {
     "data": {
      "text/html": [
       "<div>\n",
       "<style scoped>\n",
       "    .dataframe tbody tr th:only-of-type {\n",
       "        vertical-align: middle;\n",
       "    }\n",
       "\n",
       "    .dataframe tbody tr th {\n",
       "        vertical-align: top;\n",
       "    }\n",
       "\n",
       "    .dataframe thead th {\n",
       "        text-align: right;\n",
       "    }\n",
       "</style>\n",
       "<table border=\"1\" class=\"dataframe\">\n",
       "  <thead>\n",
       "    <tr style=\"text-align: right;\">\n",
       "      <th></th>\n",
       "      <th>Country/Region</th>\n",
       "      <th>Cases</th>\n",
       "      <th>Deaths</th>\n",
       "      <th>PCases</th>\n",
       "      <th>PDeaths</th>\n",
       "      <th>Cases (+)</th>\n",
       "      <th>Deaths (+)</th>\n",
       "      <th>Fatality Rate</th>\n",
       "      <th>Continent</th>\n",
       "    </tr>\n",
       "  </thead>\n",
       "  <tbody>\n",
       "    <tr>\n",
       "      <th>0</th>\n",
       "      <td>US</td>\n",
       "      <td>71711432</td>\n",
       "      <td>869026</td>\n",
       "      <td>70700678</td>\n",
       "      <td>867042</td>\n",
       "      <td>1010754</td>\n",
       "      <td>1984</td>\n",
       "      <td>1.2</td>\n",
       "      <td>North America</td>\n",
       "    </tr>\n",
       "    <tr>\n",
       "      <th>1</th>\n",
       "      <td>India</td>\n",
       "      <td>39799202</td>\n",
       "      <td>490462</td>\n",
       "      <td>39543328</td>\n",
       "      <td>489848</td>\n",
       "      <td>255874</td>\n",
       "      <td>614</td>\n",
       "      <td>1.2</td>\n",
       "      <td>Asia</td>\n",
       "    </tr>\n",
       "    <tr>\n",
       "      <th>2</th>\n",
       "      <td>Brazil</td>\n",
       "      <td>24142032</td>\n",
       "      <td>623636</td>\n",
       "      <td>24054405</td>\n",
       "      <td>623370</td>\n",
       "      <td>87627</td>\n",
       "      <td>266</td>\n",
       "      <td>2.6</td>\n",
       "      <td>South America</td>\n",
       "    </tr>\n",
       "    <tr>\n",
       "      <th>3</th>\n",
       "      <td>France</td>\n",
       "      <td>16917220</td>\n",
       "      <td>130013</td>\n",
       "      <td>16807733</td>\n",
       "      <td>129620</td>\n",
       "      <td>109487</td>\n",
       "      <td>393</td>\n",
       "      <td>0.8</td>\n",
       "      <td>Europe</td>\n",
       "    </tr>\n",
       "    <tr>\n",
       "      <th>4</th>\n",
       "      <td>United Kingdom</td>\n",
       "      <td>16063010</td>\n",
       "      <td>154430</td>\n",
       "      <td>15966838</td>\n",
       "      <td>154374</td>\n",
       "      <td>96172</td>\n",
       "      <td>56</td>\n",
       "      <td>1.0</td>\n",
       "      <td>Europe</td>\n",
       "    </tr>\n",
       "  </tbody>\n",
       "</table>\n",
       "</div>"
      ],
      "text/plain": [
       "   Country/Region     Cases  Deaths    PCases  PDeaths  Cases (+)  Deaths (+)  \\\n",
       "0              US  71711432  869026  70700678   867042    1010754        1984   \n",
       "1           India  39799202  490462  39543328   489848     255874         614   \n",
       "2          Brazil  24142032  623636  24054405   623370      87627         266   \n",
       "3          France  16917220  130013  16807733   129620     109487         393   \n",
       "4  United Kingdom  16063010  154430  15966838   154374      96172          56   \n",
       "\n",
       "   Fatality Rate      Continent  \n",
       "0            1.2  North America  \n",
       "1            1.2           Asia  \n",
       "2            2.6  South America  \n",
       "3            0.8         Europe  \n",
       "4            1.0         Europe  "
      ]
     },
     "execution_count": 15,
     "metadata": {},
     "output_type": "execute_result"
    }
   ],
   "source": [
    "#hide\n",
    "df_table = (pd.DataFrame(dict(Cases=dfc_cases, Deaths=dfc_deaths, PCases=dfp_cases, PDeaths=dfp_deaths))\n",
    "             .sort_values(by=['Cases', 'Deaths'], ascending=[False, False])\n",
    "             .reset_index())\n",
    "df_table.rename(columns={'index': 'Country/Region'}, inplace=True)\n",
    "for c in 'Cases, Deaths'.split(', '):\n",
    "    df_table[f'{c} (+)'] = (df_table[c] - df_table[f'P{c}']).clip(0)  # DATA BUG\n",
    "df_table['Fatality Rate'] = (100 * df_table['Deaths'] / df_table['Cases']).round(1)\n",
    "df_table['Continent'] = df_table['Country/Region'].map(mapping['map.continent'])\n",
    "df_table.head(5)"
   ]
  },
  {
   "cell_type": "code",
   "execution_count": 16,
   "id": "fewer-occasion",
   "metadata": {
    "execution": {
     "iopub.execute_input": "2022-01-26T00:27:37.787917Z",
     "iopub.status.busy": "2022-01-26T00:27:37.786677Z",
     "iopub.status.idle": "2022-01-26T00:27:37.790152Z",
     "shell.execute_reply": "2022-01-26T00:27:37.790649Z"
    },
    "papermill": {
     "duration": 0.041578,
     "end_time": "2022-01-26T00:27:37.790772",
     "exception": false,
     "start_time": "2022-01-26T00:27:37.749194",
     "status": "completed"
    },
    "tags": []
   },
   "outputs": [],
   "source": [
    "#hide\n",
    "#delete problematic countries from table\n",
    "df_table = df_table[~df_table['Country/Region'].isin(['Cape Verde', 'Cruise Ship', 'Kosovo'])]"
   ]
  },
  {
   "cell_type": "code",
   "execution_count": 17,
   "id": "related-center",
   "metadata": {
    "execution": {
     "iopub.execute_input": "2022-01-26T00:27:37.864171Z",
     "iopub.status.busy": "2022-01-26T00:27:37.863580Z",
     "iopub.status.idle": "2022-01-26T00:27:37.878156Z",
     "shell.execute_reply": "2022-01-26T00:27:37.877475Z"
    },
    "papermill": {
     "duration": 0.053971,
     "end_time": "2022-01-26T00:27:37.878267",
     "exception": false,
     "start_time": "2022-01-26T00:27:37.824296",
     "status": "completed"
    },
    "tags": []
   },
   "outputs": [],
   "source": [
    "#hide\n",
    "metrics = [df_table.columns[index] for index in [1,2,5,6]]\n",
    "# s_china = df_table[df_table['Country/Region'].eq('China')][metrics].sum().add_prefix('China ')\n",
    "s_us = df_table[df_table['Country/Region'].eq('US')][metrics].sum().add_prefix('US ')\n",
    "s_eu = df_table[df_table['Continent'].eq('Europe')][metrics].sum().add_prefix('EU ')\n",
    "s_ind = df_table[df_table['Country/Region'].eq('India')][metrics].sum().add_prefix('India ')\n",
    "summary = {'updated': pd.to_datetime(dt_today), 'since': pd.to_datetime(dt_yday)}\n",
    "summary = {'updated': pd.to_datetime(dt_today), 'since': pd.to_datetime(dt_yday)}\n",
    "summary = {**summary, **df_table[metrics].sum(), **s_ind, **s_us, **s_eu}"
   ]
  },
  {
   "cell_type": "code",
   "execution_count": 18,
   "id": "engaging-syndrome",
   "metadata": {
    "execution": {
     "iopub.execute_input": "2022-01-26T00:27:37.953991Z",
     "iopub.status.busy": "2022-01-26T00:27:37.953403Z",
     "iopub.status.idle": "2022-01-26T00:27:37.966943Z",
     "shell.execute_reply": "2022-01-26T00:27:37.967449Z"
    },
    "papermill": {
     "duration": 0.054153,
     "end_time": "2022-01-26T00:27:37.967584",
     "exception": false,
     "start_time": "2022-01-26T00:27:37.913431",
     "status": "completed"
    },
    "tags": []
   },
   "outputs": [],
   "source": [
    "#hide\n",
    "dft_ct_new_cases = dft_cases.groupby(COL_REGION)[dt_cols].sum().diff(axis=1).fillna(0).astype(int)"
   ]
  },
  {
   "cell_type": "code",
   "execution_count": 19,
   "id": "neutral-assignment",
   "metadata": {
    "execution": {
     "iopub.execute_input": "2022-01-26T00:27:38.042175Z",
     "iopub.status.busy": "2022-01-26T00:27:38.040909Z",
     "iopub.status.idle": "2022-01-26T00:27:38.042817Z",
     "shell.execute_reply": "2022-01-26T00:27:38.043292Z"
    },
    "papermill": {
     "duration": 0.041325,
     "end_time": "2022-01-26T00:27:38.043414",
     "exception": false,
     "start_time": "2022-01-26T00:27:38.002089",
     "status": "completed"
    },
    "tags": []
   },
   "outputs": [],
   "source": [
    "#hide\n",
    "everydaycases = dft_ct_new_cases.cumsum(axis=1)"
   ]
  },
  {
   "cell_type": "code",
   "execution_count": 20,
   "id": "parliamentary-calgary",
   "metadata": {
    "execution": {
     "iopub.execute_input": "2022-01-26T00:27:38.116901Z",
     "iopub.status.busy": "2022-01-26T00:27:38.116309Z",
     "iopub.status.idle": "2022-01-26T00:27:38.785956Z",
     "shell.execute_reply": "2022-01-26T00:27:38.785350Z"
    },
    "papermill": {
     "duration": 0.708474,
     "end_time": "2022-01-26T00:27:38.786115",
     "exception": false,
     "start_time": "2022-01-26T00:27:38.077641",
     "status": "completed"
    },
    "tags": []
   },
   "outputs": [],
   "source": [
    "#hide\n",
    "import pandas as pd\n",
    "import matplotlib.pyplot as plt\n",
    "import matplotlib.ticker as ticker\n",
    "import matplotlib.animation as animation\n",
    "from IPython.display import HTML"
   ]
  },
  {
   "cell_type": "code",
   "execution_count": 21,
   "id": "lasting-extraction",
   "metadata": {
    "execution": {
     "iopub.execute_input": "2022-01-26T00:27:38.865893Z",
     "iopub.status.busy": "2022-01-26T00:27:38.865255Z",
     "iopub.status.idle": "2022-01-26T00:27:38.871285Z",
     "shell.execute_reply": "2022-01-26T00:27:38.871889Z"
    },
    "papermill": {
     "duration": 0.049003,
     "end_time": "2022-01-26T00:27:38.872030",
     "exception": false,
     "start_time": "2022-01-26T00:27:38.823027",
     "status": "completed"
    },
    "tags": []
   },
   "outputs": [],
   "source": [
    "#hide\n",
    "t = everydaycases.stack()"
   ]
  },
  {
   "cell_type": "code",
   "execution_count": 22,
   "id": "premier-sleeve",
   "metadata": {
    "execution": {
     "iopub.execute_input": "2022-01-26T00:27:38.946630Z",
     "iopub.status.busy": "2022-01-26T00:27:38.945946Z",
     "iopub.status.idle": "2022-01-26T00:27:38.956407Z",
     "shell.execute_reply": "2022-01-26T00:27:38.956982Z"
    },
    "papermill": {
     "duration": 0.050581,
     "end_time": "2022-01-26T00:27:38.957123",
     "exception": false,
     "start_time": "2022-01-26T00:27:38.906542",
     "status": "completed"
    },
    "tags": []
   },
   "outputs": [],
   "source": [
    "#hide\n",
    "g = t.reset_index(['Country/Region'])"
   ]
  },
  {
   "cell_type": "code",
   "execution_count": 23,
   "id": "distributed-pittsburgh",
   "metadata": {
    "execution": {
     "iopub.execute_input": "2022-01-26T00:27:39.032174Z",
     "iopub.status.busy": "2022-01-26T00:27:39.031543Z",
     "iopub.status.idle": "2022-01-26T00:27:39.033948Z",
     "shell.execute_reply": "2022-01-26T00:27:39.033333Z"
    },
    "papermill": {
     "duration": 0.040184,
     "end_time": "2022-01-26T00:27:39.034076",
     "exception": false,
     "start_time": "2022-01-26T00:27:38.993892",
     "status": "completed"
    },
    "tags": []
   },
   "outputs": [],
   "source": [
    "#hide\n",
    "g.index.name = 'date'"
   ]
  },
  {
   "cell_type": "code",
   "execution_count": 24,
   "id": "naked-donor",
   "metadata": {
    "execution": {
     "iopub.execute_input": "2022-01-26T00:27:39.114876Z",
     "iopub.status.busy": "2022-01-26T00:27:39.114218Z",
     "iopub.status.idle": "2022-01-26T00:27:39.116342Z",
     "shell.execute_reply": "2022-01-26T00:27:39.116913Z"
    },
    "papermill": {
     "duration": 0.043452,
     "end_time": "2022-01-26T00:27:39.117067",
     "exception": false,
     "start_time": "2022-01-26T00:27:39.073615",
     "status": "completed"
    },
    "tags": []
   },
   "outputs": [],
   "source": [
    "# #hide\n",
    "# g = g.reset_index(['date'])"
   ]
  },
  {
   "cell_type": "code",
   "execution_count": 25,
   "id": "incomplete-mustang",
   "metadata": {
    "execution": {
     "iopub.execute_input": "2022-01-26T00:27:39.191676Z",
     "iopub.status.busy": "2022-01-26T00:27:39.191090Z",
     "iopub.status.idle": "2022-01-26T00:27:39.195297Z",
     "shell.execute_reply": "2022-01-26T00:27:39.194822Z"
    },
    "papermill": {
     "duration": 0.042355,
     "end_time": "2022-01-26T00:27:39.195415",
     "exception": false,
     "start_time": "2022-01-26T00:27:39.153060",
     "status": "completed"
    },
    "tags": []
   },
   "outputs": [],
   "source": [
    "#hide\n",
    "# g.head()"
   ]
  },
  {
   "cell_type": "code",
   "execution_count": 26,
   "id": "specific-kruger",
   "metadata": {
    "execution": {
     "iopub.execute_input": "2022-01-26T00:27:39.269194Z",
     "iopub.status.busy": "2022-01-26T00:27:39.268610Z",
     "iopub.status.idle": "2022-01-26T00:27:39.270877Z",
     "shell.execute_reply": "2022-01-26T00:27:39.271413Z"
    },
    "papermill": {
     "duration": 0.040311,
     "end_time": "2022-01-26T00:27:39.271536",
     "exception": false,
     "start_time": "2022-01-26T00:27:39.231225",
     "status": "completed"
    },
    "tags": []
   },
   "outputs": [],
   "source": [
    "#hide\n",
    "# g.columns = ['date','country','cases']"
   ]
  },
  {
   "cell_type": "code",
   "execution_count": 27,
   "id": "tender-conversion",
   "metadata": {
    "execution": {
     "iopub.execute_input": "2022-01-26T00:27:39.342522Z",
     "iopub.status.busy": "2022-01-26T00:27:39.341927Z",
     "iopub.status.idle": "2022-01-26T00:27:39.343919Z",
     "shell.execute_reply": "2022-01-26T00:27:39.344401Z"
    },
    "papermill": {
     "duration": 0.038992,
     "end_time": "2022-01-26T00:27:39.344533",
     "exception": false,
     "start_time": "2022-01-26T00:27:39.305541",
     "status": "completed"
    },
    "tags": []
   },
   "outputs": [],
   "source": [
    "#hide\n",
    "# g['continent'] = g.country"
   ]
  },
  {
   "cell_type": "code",
   "execution_count": 28,
   "id": "substantial-wilderness",
   "metadata": {
    "execution": {
     "iopub.execute_input": "2022-01-26T00:27:39.416188Z",
     "iopub.status.busy": "2022-01-26T00:27:39.415608Z",
     "iopub.status.idle": "2022-01-26T00:27:39.419159Z",
     "shell.execute_reply": "2022-01-26T00:27:39.419675Z"
    },
    "papermill": {
     "duration": 0.041798,
     "end_time": "2022-01-26T00:27:39.419807",
     "exception": false,
     "start_time": "2022-01-26T00:27:39.378009",
     "status": "completed"
    },
    "tags": []
   },
   "outputs": [],
   "source": [
    "#hide\n",
    "# cols = list(g.columns.values)"
   ]
  },
  {
   "cell_type": "code",
   "execution_count": 29,
   "id": "solved-farming",
   "metadata": {
    "execution": {
     "iopub.execute_input": "2022-01-26T00:27:39.493168Z",
     "iopub.status.busy": "2022-01-26T00:27:39.492530Z",
     "iopub.status.idle": "2022-01-26T00:27:39.495082Z",
     "shell.execute_reply": "2022-01-26T00:27:39.494541Z"
    },
    "papermill": {
     "duration": 0.041284,
     "end_time": "2022-01-26T00:27:39.495212",
     "exception": false,
     "start_time": "2022-01-26T00:27:39.453928",
     "status": "completed"
    },
    "tags": []
   },
   "outputs": [],
   "source": [
    "#hide\n",
    "# cols.insert(0, cols.pop())"
   ]
  },
  {
   "cell_type": "code",
   "execution_count": 30,
   "id": "executed-adoption",
   "metadata": {
    "execution": {
     "iopub.execute_input": "2022-01-26T00:27:39.567268Z",
     "iopub.status.busy": "2022-01-26T00:27:39.566675Z",
     "iopub.status.idle": "2022-01-26T00:27:39.570309Z",
     "shell.execute_reply": "2022-01-26T00:27:39.570837Z"
    },
    "papermill": {
     "duration": 0.04179,
     "end_time": "2022-01-26T00:27:39.570993",
     "exception": false,
     "start_time": "2022-01-26T00:27:39.529203",
     "status": "completed"
    },
    "tags": []
   },
   "outputs": [],
   "source": [
    "#hide\n",
    "# g = g[cols]"
   ]
  },
  {
   "cell_type": "code",
   "execution_count": 31,
   "id": "subject-dublin",
   "metadata": {
    "execution": {
     "iopub.execute_input": "2022-01-26T00:27:39.642846Z",
     "iopub.status.busy": "2022-01-26T00:27:39.642254Z",
     "iopub.status.idle": "2022-01-26T00:27:39.644335Z",
     "shell.execute_reply": "2022-01-26T00:27:39.644792Z"
    },
    "papermill": {
     "duration": 0.039956,
     "end_time": "2022-01-26T00:27:39.644921",
     "exception": false,
     "start_time": "2022-01-26T00:27:39.604965",
     "status": "completed"
    },
    "tags": []
   },
   "outputs": [],
   "source": [
    "#hide\n",
    "# g['continent'] = g['continent'].map(mapping['map.continent'])"
   ]
  },
  {
   "cell_type": "code",
   "execution_count": 32,
   "id": "freelance-scout",
   "metadata": {
    "execution": {
     "iopub.execute_input": "2022-01-26T00:27:39.717483Z",
     "iopub.status.busy": "2022-01-26T00:27:39.716855Z",
     "iopub.status.idle": "2022-01-26T00:27:39.719562Z",
     "shell.execute_reply": "2022-01-26T00:27:39.718985Z"
    },
    "papermill": {
     "duration": 0.040308,
     "end_time": "2022-01-26T00:27:39.719675",
     "exception": false,
     "start_time": "2022-01-26T00:27:39.679367",
     "status": "completed"
    },
    "tags": []
   },
   "outputs": [],
   "source": [
    "#hide\n",
    "# g.head()"
   ]
  },
  {
   "cell_type": "code",
   "execution_count": 33,
   "id": "limited-engine",
   "metadata": {
    "execution": {
     "iopub.execute_input": "2022-01-26T00:27:39.791084Z",
     "iopub.status.busy": "2022-01-26T00:27:39.790499Z",
     "iopub.status.idle": "2022-01-26T00:27:39.794905Z",
     "shell.execute_reply": "2022-01-26T00:27:39.794440Z"
    },
    "papermill": {
     "duration": 0.040886,
     "end_time": "2022-01-26T00:27:39.795019",
     "exception": false,
     "start_time": "2022-01-26T00:27:39.754133",
     "status": "completed"
    },
    "tags": []
   },
   "outputs": [],
   "source": [
    "# hide\n",
    "# g['date'] = g['date'].astype('datetime64[ns]')"
   ]
  },
  {
   "cell_type": "code",
   "execution_count": 34,
   "id": "sophisticated-supervisor",
   "metadata": {
    "execution": {
     "iopub.execute_input": "2022-01-26T00:27:39.870831Z",
     "iopub.status.busy": "2022-01-26T00:27:39.870206Z",
     "iopub.status.idle": "2022-01-26T00:27:39.872371Z",
     "shell.execute_reply": "2022-01-26T00:27:39.871752Z"
    },
    "papermill": {
     "duration": 0.043769,
     "end_time": "2022-01-26T00:27:39.872622",
     "exception": false,
     "start_time": "2022-01-26T00:27:39.828853",
     "status": "completed"
    },
    "tags": []
   },
   "outputs": [],
   "source": [
    "#hide\n",
    "# g['date'] = g.date.dt.dayofyear"
   ]
  },
  {
   "cell_type": "code",
   "execution_count": 35,
   "id": "inside-dubai",
   "metadata": {
    "execution": {
     "iopub.execute_input": "2022-01-26T00:27:39.945212Z",
     "iopub.status.busy": "2022-01-26T00:27:39.944555Z",
     "iopub.status.idle": "2022-01-26T00:27:39.947076Z",
     "shell.execute_reply": "2022-01-26T00:27:39.946590Z"
    },
    "papermill": {
     "duration": 0.039926,
     "end_time": "2022-01-26T00:27:39.947188",
     "exception": false,
     "start_time": "2022-01-26T00:27:39.907262",
     "status": "completed"
    },
    "tags": []
   },
   "outputs": [],
   "source": [
    "#hide\n",
    "# g = g.rename(columns= {'continent':'group','country':'name','cases':'value'})"
   ]
  },
  {
   "cell_type": "code",
   "execution_count": 36,
   "id": "fleet-motorcycle",
   "metadata": {
    "execution": {
     "iopub.execute_input": "2022-01-26T00:27:40.018275Z",
     "iopub.status.busy": "2022-01-26T00:27:40.017699Z",
     "iopub.status.idle": "2022-01-26T00:27:40.019702Z",
     "shell.execute_reply": "2022-01-26T00:27:40.020144Z"
    },
    "papermill": {
     "duration": 0.039245,
     "end_time": "2022-01-26T00:27:40.020290",
     "exception": false,
     "start_time": "2022-01-26T00:27:39.981045",
     "status": "completed"
    },
    "tags": []
   },
   "outputs": [],
   "source": [
    "#hide\n",
    "# cols = ['name','group','day','value']"
   ]
  },
  {
   "cell_type": "code",
   "execution_count": 37,
   "id": "continued-sleeping",
   "metadata": {
    "execution": {
     "iopub.execute_input": "2022-01-26T00:27:40.094123Z",
     "iopub.status.busy": "2022-01-26T00:27:40.093524Z",
     "iopub.status.idle": "2022-01-26T00:27:40.095755Z",
     "shell.execute_reply": "2022-01-26T00:27:40.096211Z"
    },
    "papermill": {
     "duration": 0.041185,
     "end_time": "2022-01-26T00:27:40.096373",
     "exception": false,
     "start_time": "2022-01-26T00:27:40.055188",
     "status": "completed"
    },
    "tags": []
   },
   "outputs": [],
   "source": [
    "#hide\n",
    "# g.rename(columns= {'date':'day'},inplace = True)"
   ]
  },
  {
   "cell_type": "code",
   "execution_count": 38,
   "id": "major-fight",
   "metadata": {
    "execution": {
     "iopub.execute_input": "2022-01-26T00:27:40.168697Z",
     "iopub.status.busy": "2022-01-26T00:27:40.168083Z",
     "iopub.status.idle": "2022-01-26T00:27:40.170174Z",
     "shell.execute_reply": "2022-01-26T00:27:40.169610Z"
    },
    "papermill": {
     "duration": 0.039283,
     "end_time": "2022-01-26T00:27:40.170284",
     "exception": false,
     "start_time": "2022-01-26T00:27:40.131001",
     "status": "completed"
    },
    "tags": []
   },
   "outputs": [],
   "source": [
    "#hide\n",
    "# g = g[cols]"
   ]
  },
  {
   "cell_type": "code",
   "execution_count": 39,
   "id": "structured-mobile",
   "metadata": {
    "execution": {
     "iopub.execute_input": "2022-01-26T00:27:40.241450Z",
     "iopub.status.busy": "2022-01-26T00:27:40.240861Z",
     "iopub.status.idle": "2022-01-26T00:27:40.242847Z",
     "shell.execute_reply": "2022-01-26T00:27:40.242274Z"
    },
    "papermill": {
     "duration": 0.038571,
     "end_time": "2022-01-26T00:27:40.242960",
     "exception": false,
     "start_time": "2022-01-26T00:27:40.204389",
     "status": "completed"
    },
    "tags": []
   },
   "outputs": [],
   "source": [
    "# #hide\n",
    "# g = g[g.group.notna()]"
   ]
  },
  {
   "cell_type": "code",
   "execution_count": 40,
   "id": "determined-closing",
   "metadata": {
    "execution": {
     "iopub.execute_input": "2022-01-26T00:27:40.316276Z",
     "iopub.status.busy": "2022-01-26T00:27:40.314523Z",
     "iopub.status.idle": "2022-01-26T00:27:40.319442Z",
     "shell.execute_reply": "2022-01-26T00:27:40.319891Z"
    },
    "papermill": {
     "duration": 0.043033,
     "end_time": "2022-01-26T00:27:40.320019",
     "exception": false,
     "start_time": "2022-01-26T00:27:40.276986",
     "status": "completed"
    },
    "tags": []
   },
   "outputs": [],
   "source": [
    "# #hide\n",
    "# colors = dict(zip(\n",
    "#     [\"Oceania\", \"Europe\", \"Asia\", \"South America\", \"Middle East\", \"North America\", \"Africa\"],\n",
    "#     [\"#adb0ff\", \"#ffb3ff\", \"#90d595\", \"#e48381\", \"#aafbff\", \"#f7bb5f\", \"#eafb50\"]\n",
    "# ))\n",
    "# group_lk = g.set_index('name')['group'].to_dict()"
   ]
  },
  {
   "cell_type": "code",
   "execution_count": null,
   "id": "gross-drinking",
   "metadata": {
    "papermill": {
     "duration": 0.035925,
     "end_time": "2022-01-26T00:27:40.397270",
     "exception": false,
     "start_time": "2022-01-26T00:27:40.361345",
     "status": "completed"
    },
    "tags": []
   },
   "outputs": [],
   "source": []
  },
  {
   "cell_type": "code",
   "execution_count": 41,
   "id": "subject-macintosh",
   "metadata": {
    "execution": {
     "iopub.execute_input": "2022-01-26T00:27:40.471722Z",
     "iopub.status.busy": "2022-01-26T00:27:40.470975Z",
     "iopub.status.idle": "2022-01-26T00:27:40.472950Z",
     "shell.execute_reply": "2022-01-26T00:27:40.473429Z"
    },
    "papermill": {
     "duration": 0.041044,
     "end_time": "2022-01-26T00:27:40.473572",
     "exception": false,
     "start_time": "2022-01-26T00:27:40.432528",
     "status": "completed"
    },
    "tags": []
   },
   "outputs": [],
   "source": [
    "# #hide\n",
    "# fig, ax = plt.subplots(figsize=(15, 8))\n",
    "\n",
    "# def draw_barchart(current_day):\n",
    "#     dff = g[g['day'].eq(current_day)].sort_values(by='value', ascending=True).tail(10)\n",
    "#     ax.clear()\n",
    "#     ax.barh(dff['name'], dff['value'], color=[colors[group_lk[x]] for x in dff['name']])\n",
    "#     dx = dff['value'].max() / 200\n",
    "    \n",
    "#     for i, (value, name) in enumerate(zip(dff['value'], dff['name'])):\n",
    "#         ax.text(value-dx, i,     name,           size=14, weight=600, ha='right', va='bottom')\n",
    "#         ax.text(value-dx, i-.25, group_lk[name], size=10, color='#444444', ha='right', va='baseline')\n",
    "#         ax.text(value+dx, i,     f'{value:,.0f}',  size=14, ha='left',  va='center')\n",
    "#     ax.text(1, 0.4, current_day, transform=ax.transAxes, color='#777777', size=46, ha='right', weight=800)\n",
    "#     ax.text(0, 1.06, 'Population (thousands)', transform=ax.transAxes, size=12, color='#777777')\n",
    "#     ax.xaxis.set_major_formatter(ticker.StrMethodFormatter('{x:,.0f}'))\n",
    "#     ax.xaxis.set_ticks_position('top')\n",
    "#     ax.tick_params(axis='x', colors='#777777', labelsize=12)\n",
    "#     ax.set_yticks([])\n",
    "#     ax.margins(0, 0.01)\n",
    "#     ax.grid(which='major', axis='x', linestyle='-')\n",
    "#     ax.set_axisbelow(True)\n",
    "    \n",
    "#     ax.text(0, 1.15, 'Coronavirus',\n",
    "#             transform=ax.transAxes, size=24, weight=600, ha='left', va='top')\n",
    "# #     ax.text(1, 0, 'by @pratapvardhan; credit @jburnmurdoch', transform=ax.transAxes, color='#777777', ha='right',\n",
    "# #             bbox=dict(facecolor='white', alpha=0.8, edgecolor='white'))\n",
    "#     plt.box(False)"
   ]
  },
  {
   "cell_type": "code",
   "execution_count": 42,
   "id": "sexual-wages",
   "metadata": {
    "execution": {
     "iopub.execute_input": "2022-01-26T00:27:40.557347Z",
     "iopub.status.busy": "2022-01-26T00:27:40.556737Z",
     "iopub.status.idle": "2022-01-26T00:27:40.560475Z",
     "shell.execute_reply": "2022-01-26T00:27:40.560932Z"
    },
    "papermill": {
     "duration": 0.05171,
     "end_time": "2022-01-26T00:27:40.561069",
     "exception": false,
     "start_time": "2022-01-26T00:27:40.509359",
     "status": "completed"
    },
    "tags": []
   },
   "outputs": [],
   "source": [
    "# #hide_input\n",
    "# fig, ax = plt.subplots(figsize=(15, 8))\n",
    "# animator = animation.FuncAnimation(fig, draw_barchart, frames=range(g.day.values.min(), g.day.values.max()))\n",
    "# HTML(animator.to_jshtml())\n",
    "# # or use animator.to_html5_video() or animator.save() "
   ]
  },
  {
   "cell_type": "code",
   "execution_count": null,
   "id": "australian-container",
   "metadata": {
    "papermill": {
     "duration": 0.03515,
     "end_time": "2022-01-26T00:27:40.630262",
     "exception": false,
     "start_time": "2022-01-26T00:27:40.595112",
     "status": "completed"
    },
    "tags": []
   },
   "outputs": [],
   "source": []
  },
  {
   "cell_type": "code",
   "execution_count": null,
   "id": "mediterranean-pontiac",
   "metadata": {
    "papermill": {
     "duration": 0.034515,
     "end_time": "2022-01-26T00:27:40.701074",
     "exception": false,
     "start_time": "2022-01-26T00:27:40.666559",
     "status": "completed"
    },
    "tags": []
   },
   "outputs": [],
   "source": []
  },
  {
   "cell_type": "code",
   "execution_count": null,
   "id": "aging-legislature",
   "metadata": {
    "papermill": {
     "duration": 0.035068,
     "end_time": "2022-01-26T00:27:40.769342",
     "exception": false,
     "start_time": "2022-01-26T00:27:40.734274",
     "status": "completed"
    },
    "tags": []
   },
   "outputs": [],
   "source": []
  }
 ],
 "metadata": {
  "kernelspec": {
   "display_name": "Python 3",
   "language": "python",
   "name": "python3"
  },
  "language_info": {
   "codemirror_mode": {
    "name": "ipython",
    "version": 3
   },
   "file_extension": ".py",
   "mimetype": "text/x-python",
   "name": "python",
   "nbconvert_exporter": "python",
   "pygments_lexer": "ipython3",
   "version": "3.6.15"
  },
  "papermill": {
   "duration": 6.732162,
   "end_time": "2022-01-26T00:27:41.121951",
   "environment_variables": {},
   "exception": null,
   "input_path": "2020-03-21-covid19exp.ipynb",
   "output_path": "2020-03-21-covid19exp.ipynb",
   "parameters": {},
   "start_time": "2022-01-26T00:27:34.389789",
   "version": "2.0.0"
  }
 },
 "nbformat": 4,
 "nbformat_minor": 5
}