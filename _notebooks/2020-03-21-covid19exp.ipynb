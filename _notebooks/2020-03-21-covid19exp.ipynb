{
 "cells": [
  {
   "cell_type": "markdown",
   "id": "muslim-click",
   "metadata": {
    "papermill": {
     "duration": 0.03835,
     "end_time": "2022-04-07T12:15:39.343155",
     "exception": false,
     "start_time": "2022-04-07T12:15:39.304805",
     "status": "completed"
    },
    "tags": []
   },
   "source": [
    "# COVID-19 Case Race\n",
    "> A race chart to see rising cases around the world\n",
    "\n",
    "- author: Hargun Oberoi\n",
    "- image: images/covid-overview.png\n",
    "- hide: false\n",
    "- badges: false"
   ]
  },
  {
   "cell_type": "code",
   "execution_count": 1,
   "id": "proof-material",
   "metadata": {
    "execution": {
     "iopub.execute_input": "2022-04-07T12:15:39.422798Z",
     "iopub.status.busy": "2022-04-07T12:15:39.422126Z",
     "iopub.status.idle": "2022-04-07T12:15:39.802403Z",
     "shell.execute_reply": "2022-04-07T12:15:39.801829Z"
    },
    "papermill": {
     "duration": 0.424092,
     "end_time": "2022-04-07T12:15:39.802565",
     "exception": false,
     "start_time": "2022-04-07T12:15:39.378473",
     "status": "completed"
    },
    "tags": []
   },
   "outputs": [],
   "source": [
    "#hide\n",
    "import numpy as np\n",
    "import pandas as pd\n",
    "from jinja2 import Template\n",
    "from IPython.display import HTML"
   ]
  },
  {
   "cell_type": "code",
   "execution_count": 2,
   "id": "developed-terminology",
   "metadata": {
    "execution": {
     "iopub.execute_input": "2022-04-07T12:15:39.875362Z",
     "iopub.status.busy": "2022-04-07T12:15:39.874724Z",
     "iopub.status.idle": "2022-04-07T12:15:39.876602Z",
     "shell.execute_reply": "2022-04-07T12:15:39.877088Z"
    },
    "papermill": {
     "duration": 0.041255,
     "end_time": "2022-04-07T12:15:39.877236",
     "exception": false,
     "start_time": "2022-04-07T12:15:39.835981",
     "status": "completed"
    },
    "tags": []
   },
   "outputs": [],
   "source": [
    "#hide\n",
    "\n",
    "# FETCH\n",
    "base_url = 'https://raw.githubusercontent.com/pratapvardhan/notebooks/master/covid19/'\n",
    "paths = {\n",
    "    'mapping': base_url + 'mapping_countries.csv',\n",
    "    'overview': base_url + 'overview.tpl'\n",
    "}"
   ]
  },
  {
   "cell_type": "code",
   "execution_count": 3,
   "id": "dynamic-saver",
   "metadata": {
    "execution": {
     "iopub.execute_input": "2022-04-07T12:15:39.955194Z",
     "iopub.status.busy": "2022-04-07T12:15:39.954580Z",
     "iopub.status.idle": "2022-04-07T12:15:39.957933Z",
     "shell.execute_reply": "2022-04-07T12:15:39.957419Z"
    },
    "papermill": {
     "duration": 0.047664,
     "end_time": "2022-04-07T12:15:39.958056",
     "exception": false,
     "start_time": "2022-04-07T12:15:39.910392",
     "status": "completed"
    },
    "tags": []
   },
   "outputs": [
    {
     "data": {
      "text/plain": [
       "'https://raw.githubusercontent.com/pratapvardhan/notebooks/master/covid19/mapping_countries.csv'"
      ]
     },
     "execution_count": 3,
     "metadata": {},
     "output_type": "execute_result"
    }
   ],
   "source": [
    "#hide\n",
    "paths['mapping']"
   ]
  },
  {
   "cell_type": "code",
   "execution_count": 4,
   "id": "urban-software",
   "metadata": {
    "execution": {
     "iopub.execute_input": "2022-04-07T12:15:40.032375Z",
     "iopub.status.busy": "2022-04-07T12:15:40.031559Z",
     "iopub.status.idle": "2022-04-07T12:15:40.033132Z",
     "shell.execute_reply": "2022-04-07T12:15:40.033669Z"
    },
    "papermill": {
     "duration": 0.041989,
     "end_time": "2022-04-07T12:15:40.033814",
     "exception": false,
     "start_time": "2022-04-07T12:15:39.991825",
     "status": "completed"
    },
    "tags": []
   },
   "outputs": [],
   "source": [
    "#hide\n",
    "def get_mappings(url):\n",
    "    df = pd.read_csv(url)\n",
    "    return {\n",
    "        'df': df,\n",
    "        'replace.country': dict(df.dropna(subset=['Name']).set_index('Country')['Name']),\n",
    "        'map.continent': dict(df.set_index('Name')['Continent'])\n",
    "    }"
   ]
  },
  {
   "cell_type": "code",
   "execution_count": 5,
   "id": "intimate-machinery",
   "metadata": {
    "execution": {
     "iopub.execute_input": "2022-04-07T12:15:40.109809Z",
     "iopub.status.busy": "2022-04-07T12:15:40.109171Z",
     "iopub.status.idle": "2022-04-07T12:15:40.141250Z",
     "shell.execute_reply": "2022-04-07T12:15:40.140703Z"
    },
    "papermill": {
     "duration": 0.073959,
     "end_time": "2022-04-07T12:15:40.141389",
     "exception": false,
     "start_time": "2022-04-07T12:15:40.067430",
     "status": "completed"
    },
    "tags": []
   },
   "outputs": [],
   "source": [
    "#hide\n",
    "mapping = get_mappings(paths['mapping'])"
   ]
  },
  {
   "cell_type": "code",
   "execution_count": 6,
   "id": "certified-tactics",
   "metadata": {
    "execution": {
     "iopub.execute_input": "2022-04-07T12:15:40.220950Z",
     "iopub.status.busy": "2022-04-07T12:15:40.220296Z",
     "iopub.status.idle": "2022-04-07T12:15:40.222537Z",
     "shell.execute_reply": "2022-04-07T12:15:40.221935Z"
    },
    "papermill": {
     "duration": 0.046069,
     "end_time": "2022-04-07T12:15:40.222663",
     "exception": false,
     "start_time": "2022-04-07T12:15:40.176594",
     "status": "completed"
    },
    "tags": []
   },
   "outputs": [],
   "source": [
    "#hide\n",
    "def get_template(path):\n",
    "    from urllib.parse import urlparse\n",
    "    if bool(urlparse(path).netloc):\n",
    "        from urllib.request import urlopen\n",
    "        return urlopen(path).read().decode('utf8')\n",
    "    return open(path).read()"
   ]
  },
  {
   "cell_type": "code",
   "execution_count": 7,
   "id": "realistic-blast",
   "metadata": {
    "execution": {
     "iopub.execute_input": "2022-04-07T12:15:40.295944Z",
     "iopub.status.busy": "2022-04-07T12:15:40.295290Z",
     "iopub.status.idle": "2022-04-07T12:15:40.298273Z",
     "shell.execute_reply": "2022-04-07T12:15:40.297783Z"
    },
    "papermill": {
     "duration": 0.041847,
     "end_time": "2022-04-07T12:15:40.298401",
     "exception": false,
     "start_time": "2022-04-07T12:15:40.256554",
     "status": "completed"
    },
    "tags": []
   },
   "outputs": [],
   "source": [
    "#hide\n",
    "def get_frame(name):\n",
    "    url = (\n",
    "        'https://raw.githubusercontent.com/CSSEGISandData/COVID-19/master/csse_covid_19_data/'\n",
    "        f'csse_covid_19_time_series/time_series_covid19_{name}_global.csv')\n",
    "    df = pd.read_csv(url)\n",
    "    # rename countries\n",
    "    df['Country/Region'] = df['Country/Region'].replace(mapping['replace.country'])\n",
    "    return df"
   ]
  },
  {
   "cell_type": "code",
   "execution_count": 8,
   "id": "affiliated-characterization",
   "metadata": {
    "execution": {
     "iopub.execute_input": "2022-04-07T12:15:40.372805Z",
     "iopub.status.busy": "2022-04-07T12:15:40.372150Z",
     "iopub.status.idle": "2022-04-07T12:15:40.374860Z",
     "shell.execute_reply": "2022-04-07T12:15:40.375319Z"
    },
    "papermill": {
     "duration": 0.043348,
     "end_time": "2022-04-07T12:15:40.375470",
     "exception": false,
     "start_time": "2022-04-07T12:15:40.332122",
     "status": "completed"
    },
    "tags": []
   },
   "outputs": [],
   "source": [
    "#hide\n",
    "def get_dates(df):\n",
    "    dt_cols = df.columns[~df.columns.isin(['Province/State', 'Country/Region', 'Lat', 'Long'])]\n",
    "    LAST_DATE_I = -1\n",
    "    # sometimes last column may be empty, then go backwards\n",
    "    for i in range(-1, -len(dt_cols), -1):\n",
    "        if not df[dt_cols[i]].fillna(0).eq(0).all():\n",
    "            LAST_DATE_I = i\n",
    "            break\n",
    "    return LAST_DATE_I, dt_cols"
   ]
  },
  {
   "cell_type": "code",
   "execution_count": 9,
   "id": "recent-optimization",
   "metadata": {
    "execution": {
     "iopub.execute_input": "2022-04-07T12:15:40.448319Z",
     "iopub.status.busy": "2022-04-07T12:15:40.447636Z",
     "iopub.status.idle": "2022-04-07T12:15:40.847124Z",
     "shell.execute_reply": "2022-04-07T12:15:40.846571Z"
    },
    "papermill": {
     "duration": 0.43827,
     "end_time": "2022-04-07T12:15:40.847268",
     "exception": false,
     "start_time": "2022-04-07T12:15:40.408998",
     "status": "completed"
    },
    "tags": []
   },
   "outputs": [],
   "source": [
    "#hide\n",
    "COL_REGION = 'Country/Region'\n",
    "# Confirmed, Recovered, Deaths\n",
    "df = get_frame('confirmed')\n",
    "# dft_: timeseries, dfc_: today country agg\n",
    "dft_cases = df\n",
    "dft_deaths = get_frame('deaths')\n",
    "dft_recovered = get_frame('recovered')\n",
    "LAST_DATE_I, dt_cols = get_dates(df)"
   ]
  },
  {
   "cell_type": "code",
   "execution_count": 10,
   "id": "absolute-copper",
   "metadata": {
    "execution": {
     "iopub.execute_input": "2022-04-07T12:15:40.926803Z",
     "iopub.status.busy": "2022-04-07T12:15:40.926135Z",
     "iopub.status.idle": "2022-04-07T12:15:40.931453Z",
     "shell.execute_reply": "2022-04-07T12:15:40.931987Z"
    },
    "papermill": {
     "duration": 0.047248,
     "end_time": "2022-04-07T12:15:40.932347",
     "exception": false,
     "start_time": "2022-04-07T12:15:40.885099",
     "status": "completed"
    },
    "tags": []
   },
   "outputs": [],
   "source": [
    "#hide\n",
    "LAST_DATE_I, dt_cols = get_dates(df)\n",
    "dt_today =dt_cols[LAST_DATE_I]\n",
    "# dt_5day = dt_cols[LAST_DATE_I - 5]\n",
    "dt_yday = dt_cols[LAST_DATE_I - 1]"
   ]
  },
  {
   "cell_type": "code",
   "execution_count": 11,
   "id": "restricted-sheriff",
   "metadata": {
    "execution": {
     "iopub.execute_input": "2022-04-07T12:15:41.010501Z",
     "iopub.status.busy": "2022-04-07T12:15:41.009864Z",
     "iopub.status.idle": "2022-04-07T12:15:41.016797Z",
     "shell.execute_reply": "2022-04-07T12:15:41.016283Z"
    },
    "papermill": {
     "duration": 0.048459,
     "end_time": "2022-04-07T12:15:41.016929",
     "exception": false,
     "start_time": "2022-04-07T12:15:40.968470",
     "status": "completed"
    },
    "tags": []
   },
   "outputs": [],
   "source": [
    "#hide\n",
    "dfc_cases = dft_cases.groupby(COL_REGION)[dt_today].sum()\n",
    "dfc_deaths = dft_deaths.groupby(COL_REGION)[dt_today].sum()\n",
    "# dfp_cases = dft_cases.groupby(COL_REGION)[dt_5day].sum()\n",
    "# dfp_deaths = dft_deaths.groupby(COL_REGION)[dt_5day].sum()\n",
    "dfp_cases = dft_cases.groupby(COL_REGION)[dt_yday].sum()\n",
    "dfp_deaths = dft_deaths.groupby(COL_REGION)[dt_yday].sum()"
   ]
  },
  {
   "cell_type": "code",
   "execution_count": 12,
   "id": "deluxe-hepatitis",
   "metadata": {
    "execution": {
     "iopub.execute_input": "2022-04-07T12:15:41.101215Z",
     "iopub.status.busy": "2022-04-07T12:15:41.100585Z",
     "iopub.status.idle": "2022-04-07T12:15:41.106499Z",
     "shell.execute_reply": "2022-04-07T12:15:41.105979Z"
    },
    "papermill": {
     "duration": 0.054278,
     "end_time": "2022-04-07T12:15:41.106626",
     "exception": false,
     "start_time": "2022-04-07T12:15:41.052348",
     "status": "completed"
    },
    "tags": []
   },
   "outputs": [],
   "source": [
    "#hide\n",
    "df_table = (pd.DataFrame(dict(Cases = dfc_cases, Deaths = dfc_deaths, PCases = dfp_cases, PDeaths = dfp_deaths))\n",
    "            .sort_values(by = ['Cases','Deaths'], ascending = [False, False])\n",
    "            .reset_index())"
   ]
  },
  {
   "cell_type": "code",
   "execution_count": 13,
   "id": "educational-chancellor",
   "metadata": {
    "execution": {
     "iopub.execute_input": "2022-04-07T12:15:41.183046Z",
     "iopub.status.busy": "2022-04-07T12:15:41.182399Z",
     "iopub.status.idle": "2022-04-07T12:15:41.203472Z",
     "shell.execute_reply": "2022-04-07T12:15:41.202850Z"
    },
    "papermill": {
     "duration": 0.063244,
     "end_time": "2022-04-07T12:15:41.203618",
     "exception": false,
     "start_time": "2022-04-07T12:15:41.140374",
     "status": "completed"
    },
    "tags": []
   },
   "outputs": [
    {
     "data": {
      "text/html": [
       "<div>\n",
       "<style scoped>\n",
       "    .dataframe tbody tr th:only-of-type {\n",
       "        vertical-align: middle;\n",
       "    }\n",
       "\n",
       "    .dataframe tbody tr th {\n",
       "        vertical-align: top;\n",
       "    }\n",
       "\n",
       "    .dataframe thead th {\n",
       "        text-align: right;\n",
       "    }\n",
       "</style>\n",
       "<table border=\"1\" class=\"dataframe\">\n",
       "  <thead>\n",
       "    <tr style=\"text-align: right;\">\n",
       "      <th></th>\n",
       "      <th>Country/Region</th>\n",
       "      <th>Cases</th>\n",
       "      <th>Deaths</th>\n",
       "      <th>PCases</th>\n",
       "      <th>PDeaths</th>\n",
       "      <th>Cases (+)</th>\n",
       "      <th>Deaths (+)</th>\n",
       "      <th>Fatality Rate</th>\n",
       "      <th>Continent</th>\n",
       "    </tr>\n",
       "  </thead>\n",
       "  <tbody>\n",
       "    <tr>\n",
       "      <th>0</th>\n",
       "      <td>US</td>\n",
       "      <td>80248986</td>\n",
       "      <td>983817</td>\n",
       "      <td>80208810</td>\n",
       "      <td>982576</td>\n",
       "      <td>40176</td>\n",
       "      <td>1241</td>\n",
       "      <td>1.23</td>\n",
       "      <td>North America</td>\n",
       "    </tr>\n",
       "    <tr>\n",
       "      <th>1</th>\n",
       "      <td>India</td>\n",
       "      <td>43031958</td>\n",
       "      <td>521530</td>\n",
       "      <td>43030925</td>\n",
       "      <td>521487</td>\n",
       "      <td>1033</td>\n",
       "      <td>43</td>\n",
       "      <td>1.21</td>\n",
       "      <td>Asia</td>\n",
       "    </tr>\n",
       "    <tr>\n",
       "      <th>2</th>\n",
       "      <td>Brazil</td>\n",
       "      <td>30069094</td>\n",
       "      <td>660980</td>\n",
       "      <td>30042272</td>\n",
       "      <td>660786</td>\n",
       "      <td>26822</td>\n",
       "      <td>194</td>\n",
       "      <td>2.20</td>\n",
       "      <td>South America</td>\n",
       "    </tr>\n",
       "    <tr>\n",
       "      <th>3</th>\n",
       "      <td>France</td>\n",
       "      <td>26579448</td>\n",
       "      <td>143949</td>\n",
       "      <td>26428476</td>\n",
       "      <td>143832</td>\n",
       "      <td>150972</td>\n",
       "      <td>117</td>\n",
       "      <td>0.54</td>\n",
       "      <td>Europe</td>\n",
       "    </tr>\n",
       "    <tr>\n",
       "      <th>4</th>\n",
       "      <td>Germany</td>\n",
       "      <td>22303440</td>\n",
       "      <td>131036</td>\n",
       "      <td>21886726</td>\n",
       "      <td>130368</td>\n",
       "      <td>416714</td>\n",
       "      <td>668</td>\n",
       "      <td>0.59</td>\n",
       "      <td>Europe</td>\n",
       "    </tr>\n",
       "  </tbody>\n",
       "</table>\n",
       "</div>"
      ],
      "text/plain": [
       "  Country/Region     Cases  Deaths    PCases  PDeaths  Cases (+)  Deaths (+)  \\\n",
       "0             US  80248986  983817  80208810   982576      40176        1241   \n",
       "1          India  43031958  521530  43030925   521487       1033          43   \n",
       "2         Brazil  30069094  660980  30042272   660786      26822         194   \n",
       "3         France  26579448  143949  26428476   143832     150972         117   \n",
       "4        Germany  22303440  131036  21886726   130368     416714         668   \n",
       "\n",
       "   Fatality Rate      Continent  \n",
       "0           1.23  North America  \n",
       "1           1.21           Asia  \n",
       "2           2.20  South America  \n",
       "3           0.54         Europe  \n",
       "4           0.59         Europe  "
      ]
     },
     "execution_count": 13,
     "metadata": {},
     "output_type": "execute_result"
    }
   ],
   "source": [
    "#hide\n",
    "for c in 'Cases, Deaths'.split(', '):\n",
    "    df_table[f'{c} (+)'] = (df_table[c] - df_table[f'P{c}']).clip(0)\n",
    "    #Clip ça veut dire, les chiffres negatif sont interdit\n",
    "df_table['Fatality Rate'] = (100* df_table['Deaths']/ df_table['Cases']).round(2)\n",
    "df_table['Continent'] = df_table['Country/Region'].map(mapping['map.continent'])\n",
    "df_table.head(5)"
   ]
  },
  {
   "cell_type": "code",
   "execution_count": 14,
   "id": "aboriginal-bulgaria",
   "metadata": {
    "execution": {
     "iopub.execute_input": "2022-04-07T12:15:41.278995Z",
     "iopub.status.busy": "2022-04-07T12:15:41.278334Z",
     "iopub.status.idle": "2022-04-07T12:15:41.280880Z",
     "shell.execute_reply": "2022-04-07T12:15:41.280343Z"
    },
    "papermill": {
     "duration": 0.042774,
     "end_time": "2022-04-07T12:15:41.281019",
     "exception": false,
     "start_time": "2022-04-07T12:15:41.238245",
     "status": "completed"
    },
    "tags": []
   },
   "outputs": [],
   "source": [
    "#hide\n",
    "#delete problematic countries from table\n",
    "df_table = df_table[~df_table['Country/Region'].isin(['Cape Verde', 'Cruise Ship', 'Kosovo'])]"
   ]
  },
  {
   "cell_type": "code",
   "execution_count": 15,
   "id": "fantastic-effect",
   "metadata": {
    "execution": {
     "iopub.execute_input": "2022-04-07T12:15:41.357954Z",
     "iopub.status.busy": "2022-04-07T12:15:41.357331Z",
     "iopub.status.idle": "2022-04-07T12:15:41.378271Z",
     "shell.execute_reply": "2022-04-07T12:15:41.377772Z"
    },
    "papermill": {
     "duration": 0.063179,
     "end_time": "2022-04-07T12:15:41.378403",
     "exception": false,
     "start_time": "2022-04-07T12:15:41.315224",
     "status": "completed"
    },
    "tags": []
   },
   "outputs": [
    {
     "data": {
      "text/html": [
       "<div>\n",
       "<style scoped>\n",
       "    .dataframe tbody tr th:only-of-type {\n",
       "        vertical-align: middle;\n",
       "    }\n",
       "\n",
       "    .dataframe tbody tr th {\n",
       "        vertical-align: top;\n",
       "    }\n",
       "\n",
       "    .dataframe thead th {\n",
       "        text-align: right;\n",
       "    }\n",
       "</style>\n",
       "<table border=\"1\" class=\"dataframe\">\n",
       "  <thead>\n",
       "    <tr style=\"text-align: right;\">\n",
       "      <th></th>\n",
       "      <th>Country/Region</th>\n",
       "      <th>Cases</th>\n",
       "      <th>Deaths</th>\n",
       "      <th>PCases</th>\n",
       "      <th>PDeaths</th>\n",
       "      <th>Cases (+)</th>\n",
       "      <th>Deaths (+)</th>\n",
       "      <th>Fatality Rate</th>\n",
       "      <th>Continent</th>\n",
       "    </tr>\n",
       "  </thead>\n",
       "  <tbody>\n",
       "    <tr>\n",
       "      <th>0</th>\n",
       "      <td>US</td>\n",
       "      <td>80248986</td>\n",
       "      <td>983817</td>\n",
       "      <td>80208810</td>\n",
       "      <td>982576</td>\n",
       "      <td>40176</td>\n",
       "      <td>1241</td>\n",
       "      <td>1.2</td>\n",
       "      <td>North America</td>\n",
       "    </tr>\n",
       "    <tr>\n",
       "      <th>1</th>\n",
       "      <td>India</td>\n",
       "      <td>43031958</td>\n",
       "      <td>521530</td>\n",
       "      <td>43030925</td>\n",
       "      <td>521487</td>\n",
       "      <td>1033</td>\n",
       "      <td>43</td>\n",
       "      <td>1.2</td>\n",
       "      <td>Asia</td>\n",
       "    </tr>\n",
       "    <tr>\n",
       "      <th>2</th>\n",
       "      <td>Brazil</td>\n",
       "      <td>30069094</td>\n",
       "      <td>660980</td>\n",
       "      <td>30042272</td>\n",
       "      <td>660786</td>\n",
       "      <td>26822</td>\n",
       "      <td>194</td>\n",
       "      <td>2.2</td>\n",
       "      <td>South America</td>\n",
       "    </tr>\n",
       "    <tr>\n",
       "      <th>3</th>\n",
       "      <td>France</td>\n",
       "      <td>26579448</td>\n",
       "      <td>143949</td>\n",
       "      <td>26428476</td>\n",
       "      <td>143832</td>\n",
       "      <td>150972</td>\n",
       "      <td>117</td>\n",
       "      <td>0.5</td>\n",
       "      <td>Europe</td>\n",
       "    </tr>\n",
       "    <tr>\n",
       "      <th>4</th>\n",
       "      <td>Germany</td>\n",
       "      <td>22303440</td>\n",
       "      <td>131036</td>\n",
       "      <td>21886726</td>\n",
       "      <td>130368</td>\n",
       "      <td>416714</td>\n",
       "      <td>668</td>\n",
       "      <td>0.6</td>\n",
       "      <td>Europe</td>\n",
       "    </tr>\n",
       "  </tbody>\n",
       "</table>\n",
       "</div>"
      ],
      "text/plain": [
       "  Country/Region     Cases  Deaths    PCases  PDeaths  Cases (+)  Deaths (+)  \\\n",
       "0             US  80248986  983817  80208810   982576      40176        1241   \n",
       "1          India  43031958  521530  43030925   521487       1033          43   \n",
       "2         Brazil  30069094  660980  30042272   660786      26822         194   \n",
       "3         France  26579448  143949  26428476   143832     150972         117   \n",
       "4        Germany  22303440  131036  21886726   130368     416714         668   \n",
       "\n",
       "   Fatality Rate      Continent  \n",
       "0            1.2  North America  \n",
       "1            1.2           Asia  \n",
       "2            2.2  South America  \n",
       "3            0.5         Europe  \n",
       "4            0.6         Europe  "
      ]
     },
     "execution_count": 15,
     "metadata": {},
     "output_type": "execute_result"
    }
   ],
   "source": [
    "#hide\n",
    "df_table = (pd.DataFrame(dict(Cases=dfc_cases, Deaths=dfc_deaths, PCases=dfp_cases, PDeaths=dfp_deaths))\n",
    "             .sort_values(by=['Cases', 'Deaths'], ascending=[False, False])\n",
    "             .reset_index())\n",
    "df_table.rename(columns={'index': 'Country/Region'}, inplace=True)\n",
    "for c in 'Cases, Deaths'.split(', '):\n",
    "    df_table[f'{c} (+)'] = (df_table[c] - df_table[f'P{c}']).clip(0)  # DATA BUG\n",
    "df_table['Fatality Rate'] = (100 * df_table['Deaths'] / df_table['Cases']).round(1)\n",
    "df_table['Continent'] = df_table['Country/Region'].map(mapping['map.continent'])\n",
    "df_table.head(5)"
   ]
  },
  {
   "cell_type": "code",
   "execution_count": 16,
   "id": "fewer-occasion",
   "metadata": {
    "execution": {
     "iopub.execute_input": "2022-04-07T12:15:41.454964Z",
     "iopub.status.busy": "2022-04-07T12:15:41.454340Z",
     "iopub.status.idle": "2022-04-07T12:15:41.456693Z",
     "shell.execute_reply": "2022-04-07T12:15:41.457288Z"
    },
    "papermill": {
     "duration": 0.04397,
     "end_time": "2022-04-07T12:15:41.457435",
     "exception": false,
     "start_time": "2022-04-07T12:15:41.413465",
     "status": "completed"
    },
    "tags": []
   },
   "outputs": [],
   "source": [
    "#hide\n",
    "#delete problematic countries from table\n",
    "df_table = df_table[~df_table['Country/Region'].isin(['Cape Verde', 'Cruise Ship', 'Kosovo'])]"
   ]
  },
  {
   "cell_type": "code",
   "execution_count": 17,
   "id": "related-center",
   "metadata": {
    "execution": {
     "iopub.execute_input": "2022-04-07T12:15:41.547211Z",
     "iopub.status.busy": "2022-04-07T12:15:41.546559Z",
     "iopub.status.idle": "2022-04-07T12:15:41.548825Z",
     "shell.execute_reply": "2022-04-07T12:15:41.549287Z"
    },
    "papermill": {
     "duration": 0.05744,
     "end_time": "2022-04-07T12:15:41.549443",
     "exception": false,
     "start_time": "2022-04-07T12:15:41.492003",
     "status": "completed"
    },
    "tags": []
   },
   "outputs": [],
   "source": [
    "#hide\n",
    "metrics = [df_table.columns[index] for index in [1,2,5,6]]\n",
    "# s_china = df_table[df_table['Country/Region'].eq('China')][metrics].sum().add_prefix('China ')\n",
    "s_us = df_table[df_table['Country/Region'].eq('US')][metrics].sum().add_prefix('US ')\n",
    "s_eu = df_table[df_table['Continent'].eq('Europe')][metrics].sum().add_prefix('EU ')\n",
    "s_ind = df_table[df_table['Country/Region'].eq('India')][metrics].sum().add_prefix('India ')\n",
    "summary = {'updated': pd.to_datetime(dt_today), 'since': pd.to_datetime(dt_yday)}\n",
    "summary = {'updated': pd.to_datetime(dt_today), 'since': pd.to_datetime(dt_yday)}\n",
    "summary = {**summary, **df_table[metrics].sum(), **s_ind, **s_us, **s_eu}"
   ]
  },
  {
   "cell_type": "code",
   "execution_count": 18,
   "id": "engaging-syndrome",
   "metadata": {
    "execution": {
     "iopub.execute_input": "2022-04-07T12:15:41.625045Z",
     "iopub.status.busy": "2022-04-07T12:15:41.624418Z",
     "iopub.status.idle": "2022-04-07T12:15:41.644408Z",
     "shell.execute_reply": "2022-04-07T12:15:41.644968Z"
    },
    "papermill": {
     "duration": 0.06066,
     "end_time": "2022-04-07T12:15:41.645152",
     "exception": false,
     "start_time": "2022-04-07T12:15:41.584492",
     "status": "completed"
    },
    "tags": []
   },
   "outputs": [],
   "source": [
    "#hide\n",
    "dft_ct_new_cases = dft_cases.groupby(COL_REGION)[dt_cols].sum().diff(axis=1).fillna(0).astype(int)"
   ]
  },
  {
   "cell_type": "code",
   "execution_count": 19,
   "id": "neutral-assignment",
   "metadata": {
    "execution": {
     "iopub.execute_input": "2022-04-07T12:15:41.723669Z",
     "iopub.status.busy": "2022-04-07T12:15:41.722922Z",
     "iopub.status.idle": "2022-04-07T12:15:41.726718Z",
     "shell.execute_reply": "2022-04-07T12:15:41.727191Z"
    },
    "papermill": {
     "duration": 0.046249,
     "end_time": "2022-04-07T12:15:41.727345",
     "exception": false,
     "start_time": "2022-04-07T12:15:41.681096",
     "status": "completed"
    },
    "tags": []
   },
   "outputs": [],
   "source": [
    "#hide\n",
    "everydaycases = dft_ct_new_cases.cumsum(axis=1)"
   ]
  },
  {
   "cell_type": "code",
   "execution_count": 20,
   "id": "parliamentary-calgary",
   "metadata": {
    "execution": {
     "iopub.execute_input": "2022-04-07T12:15:41.806083Z",
     "iopub.status.busy": "2022-04-07T12:15:41.802431Z",
     "iopub.status.idle": "2022-04-07T12:15:42.506911Z",
     "shell.execute_reply": "2022-04-07T12:15:42.506263Z"
    },
    "papermill": {
     "duration": 0.744817,
     "end_time": "2022-04-07T12:15:42.507070",
     "exception": false,
     "start_time": "2022-04-07T12:15:41.762253",
     "status": "completed"
    },
    "tags": []
   },
   "outputs": [],
   "source": [
    "#hide\n",
    "import pandas as pd\n",
    "import matplotlib.pyplot as plt\n",
    "import matplotlib.ticker as ticker\n",
    "import matplotlib.animation as animation\n",
    "from IPython.display import HTML"
   ]
  },
  {
   "cell_type": "code",
   "execution_count": 21,
   "id": "lasting-extraction",
   "metadata": {
    "execution": {
     "iopub.execute_input": "2022-04-07T12:15:42.584085Z",
     "iopub.status.busy": "2022-04-07T12:15:42.583427Z",
     "iopub.status.idle": "2022-04-07T12:15:42.590217Z",
     "shell.execute_reply": "2022-04-07T12:15:42.590734Z"
    },
    "papermill": {
     "duration": 0.048898,
     "end_time": "2022-04-07T12:15:42.590885",
     "exception": false,
     "start_time": "2022-04-07T12:15:42.541987",
     "status": "completed"
    },
    "tags": []
   },
   "outputs": [],
   "source": [
    "#hide\n",
    "t = everydaycases.stack()"
   ]
  },
  {
   "cell_type": "code",
   "execution_count": 22,
   "id": "premier-sleeve",
   "metadata": {
    "execution": {
     "iopub.execute_input": "2022-04-07T12:15:42.666027Z",
     "iopub.status.busy": "2022-04-07T12:15:42.665403Z",
     "iopub.status.idle": "2022-04-07T12:15:42.677486Z",
     "shell.execute_reply": "2022-04-07T12:15:42.678053Z"
    },
    "papermill": {
     "duration": 0.052389,
     "end_time": "2022-04-07T12:15:42.678208",
     "exception": false,
     "start_time": "2022-04-07T12:15:42.625819",
     "status": "completed"
    },
    "tags": []
   },
   "outputs": [],
   "source": [
    "#hide\n",
    "g = t.reset_index(['Country/Region'])"
   ]
  },
  {
   "cell_type": "code",
   "execution_count": 23,
   "id": "distributed-pittsburgh",
   "metadata": {
    "execution": {
     "iopub.execute_input": "2022-04-07T12:15:42.752463Z",
     "iopub.status.busy": "2022-04-07T12:15:42.751751Z",
     "iopub.status.idle": "2022-04-07T12:15:42.753201Z",
     "shell.execute_reply": "2022-04-07T12:15:42.753773Z"
    },
    "papermill": {
     "duration": 0.040956,
     "end_time": "2022-04-07T12:15:42.753918",
     "exception": false,
     "start_time": "2022-04-07T12:15:42.712962",
     "status": "completed"
    },
    "tags": []
   },
   "outputs": [],
   "source": [
    "#hide\n",
    "g.index.name = 'date'"
   ]
  },
  {
   "cell_type": "code",
   "execution_count": 24,
   "id": "naked-donor",
   "metadata": {
    "execution": {
     "iopub.execute_input": "2022-04-07T12:15:42.828261Z",
     "iopub.status.busy": "2022-04-07T12:15:42.827506Z",
     "iopub.status.idle": "2022-04-07T12:15:42.831111Z",
     "shell.execute_reply": "2022-04-07T12:15:42.830617Z"
    },
    "papermill": {
     "duration": 0.042226,
     "end_time": "2022-04-07T12:15:42.831236",
     "exception": false,
     "start_time": "2022-04-07T12:15:42.789010",
     "status": "completed"
    },
    "tags": []
   },
   "outputs": [],
   "source": [
    "# #hide\n",
    "# g = g.reset_index(['date'])"
   ]
  },
  {
   "cell_type": "code",
   "execution_count": 25,
   "id": "incomplete-mustang",
   "metadata": {
    "execution": {
     "iopub.execute_input": "2022-04-07T12:15:42.912018Z",
     "iopub.status.busy": "2022-04-07T12:15:42.911186Z",
     "iopub.status.idle": "2022-04-07T12:15:42.914580Z",
     "shell.execute_reply": "2022-04-07T12:15:42.913993Z"
    },
    "papermill": {
     "duration": 0.045818,
     "end_time": "2022-04-07T12:15:42.914735",
     "exception": false,
     "start_time": "2022-04-07T12:15:42.868917",
     "status": "completed"
    },
    "tags": []
   },
   "outputs": [],
   "source": [
    "#hide\n",
    "# g.head()"
   ]
  },
  {
   "cell_type": "code",
   "execution_count": 26,
   "id": "specific-kruger",
   "metadata": {
    "execution": {
     "iopub.execute_input": "2022-04-07T12:15:42.989380Z",
     "iopub.status.busy": "2022-04-07T12:15:42.988721Z",
     "iopub.status.idle": "2022-04-07T12:15:42.990915Z",
     "shell.execute_reply": "2022-04-07T12:15:42.991426Z"
    },
    "papermill": {
     "duration": 0.04177,
     "end_time": "2022-04-07T12:15:42.991572",
     "exception": false,
     "start_time": "2022-04-07T12:15:42.949802",
     "status": "completed"
    },
    "tags": []
   },
   "outputs": [],
   "source": [
    "#hide\n",
    "# g.columns = ['date','country','cases']"
   ]
  },
  {
   "cell_type": "code",
   "execution_count": 27,
   "id": "tender-conversion",
   "metadata": {
    "execution": {
     "iopub.execute_input": "2022-04-07T12:15:43.073288Z",
     "iopub.status.busy": "2022-04-07T12:15:43.072636Z",
     "iopub.status.idle": "2022-04-07T12:15:43.075589Z",
     "shell.execute_reply": "2022-04-07T12:15:43.075089Z"
    },
    "papermill": {
     "duration": 0.045453,
     "end_time": "2022-04-07T12:15:43.075719",
     "exception": false,
     "start_time": "2022-04-07T12:15:43.030266",
     "status": "completed"
    },
    "tags": []
   },
   "outputs": [],
   "source": [
    "#hide\n",
    "# g['continent'] = g.country"
   ]
  },
  {
   "cell_type": "code",
   "execution_count": 28,
   "id": "substantial-wilderness",
   "metadata": {
    "execution": {
     "iopub.execute_input": "2022-04-07T12:15:43.150963Z",
     "iopub.status.busy": "2022-04-07T12:15:43.150295Z",
     "iopub.status.idle": "2022-04-07T12:15:43.151611Z",
     "shell.execute_reply": "2022-04-07T12:15:43.152244Z"
    },
    "papermill": {
     "duration": 0.04158,
     "end_time": "2022-04-07T12:15:43.152402",
     "exception": false,
     "start_time": "2022-04-07T12:15:43.110822",
     "status": "completed"
    },
    "tags": []
   },
   "outputs": [],
   "source": [
    "#hide\n",
    "# cols = list(g.columns.values)"
   ]
  },
  {
   "cell_type": "code",
   "execution_count": 29,
   "id": "solved-farming",
   "metadata": {
    "execution": {
     "iopub.execute_input": "2022-04-07T12:15:43.227089Z",
     "iopub.status.busy": "2022-04-07T12:15:43.226331Z",
     "iopub.status.idle": "2022-04-07T12:15:43.231059Z",
     "shell.execute_reply": "2022-04-07T12:15:43.230459Z"
    },
    "papermill": {
     "duration": 0.043881,
     "end_time": "2022-04-07T12:15:43.231210",
     "exception": false,
     "start_time": "2022-04-07T12:15:43.187329",
     "status": "completed"
    },
    "tags": []
   },
   "outputs": [],
   "source": [
    "#hide\n",
    "# cols.insert(0, cols.pop())"
   ]
  },
  {
   "cell_type": "code",
   "execution_count": 30,
   "id": "executed-adoption",
   "metadata": {
    "execution": {
     "iopub.execute_input": "2022-04-07T12:15:43.306047Z",
     "iopub.status.busy": "2022-04-07T12:15:43.305377Z",
     "iopub.status.idle": "2022-04-07T12:15:43.307736Z",
     "shell.execute_reply": "2022-04-07T12:15:43.307179Z"
    },
    "papermill": {
     "duration": 0.041449,
     "end_time": "2022-04-07T12:15:43.307883",
     "exception": false,
     "start_time": "2022-04-07T12:15:43.266434",
     "status": "completed"
    },
    "tags": []
   },
   "outputs": [],
   "source": [
    "#hide\n",
    "# g = g[cols]"
   ]
  },
  {
   "cell_type": "code",
   "execution_count": 31,
   "id": "subject-dublin",
   "metadata": {
    "execution": {
     "iopub.execute_input": "2022-04-07T12:15:43.383038Z",
     "iopub.status.busy": "2022-04-07T12:15:43.382282Z",
     "iopub.status.idle": "2022-04-07T12:15:43.386118Z",
     "shell.execute_reply": "2022-04-07T12:15:43.386580Z"
    },
    "papermill": {
     "duration": 0.043726,
     "end_time": "2022-04-07T12:15:43.386730",
     "exception": false,
     "start_time": "2022-04-07T12:15:43.343004",
     "status": "completed"
    },
    "tags": []
   },
   "outputs": [],
   "source": [
    "#hide\n",
    "# g['continent'] = g['continent'].map(mapping['map.continent'])"
   ]
  },
  {
   "cell_type": "code",
   "execution_count": 32,
   "id": "freelance-scout",
   "metadata": {
    "execution": {
     "iopub.execute_input": "2022-04-07T12:15:43.461177Z",
     "iopub.status.busy": "2022-04-07T12:15:43.460427Z",
     "iopub.status.idle": "2022-04-07T12:15:43.461908Z",
     "shell.execute_reply": "2022-04-07T12:15:43.462580Z"
    },
    "papermill": {
     "duration": 0.041175,
     "end_time": "2022-04-07T12:15:43.462742",
     "exception": false,
     "start_time": "2022-04-07T12:15:43.421567",
     "status": "completed"
    },
    "tags": []
   },
   "outputs": [],
   "source": [
    "#hide\n",
    "# g.head()"
   ]
  },
  {
   "cell_type": "code",
   "execution_count": 33,
   "id": "limited-engine",
   "metadata": {
    "execution": {
     "iopub.execute_input": "2022-04-07T12:15:43.537324Z",
     "iopub.status.busy": "2022-04-07T12:15:43.536562Z",
     "iopub.status.idle": "2022-04-07T12:15:43.540914Z",
     "shell.execute_reply": "2022-04-07T12:15:43.540416Z"
    },
    "papermill": {
     "duration": 0.043061,
     "end_time": "2022-04-07T12:15:43.541040",
     "exception": false,
     "start_time": "2022-04-07T12:15:43.497979",
     "status": "completed"
    },
    "tags": []
   },
   "outputs": [],
   "source": [
    "# hide\n",
    "# g['date'] = g['date'].astype('datetime64[ns]')"
   ]
  },
  {
   "cell_type": "code",
   "execution_count": 34,
   "id": "sophisticated-supervisor",
   "metadata": {
    "execution": {
     "iopub.execute_input": "2022-04-07T12:15:43.615934Z",
     "iopub.status.busy": "2022-04-07T12:15:43.615129Z",
     "iopub.status.idle": "2022-04-07T12:15:43.617399Z",
     "shell.execute_reply": "2022-04-07T12:15:43.616705Z"
    },
    "papermill": {
     "duration": 0.041174,
     "end_time": "2022-04-07T12:15:43.617540",
     "exception": false,
     "start_time": "2022-04-07T12:15:43.576366",
     "status": "completed"
    },
    "tags": []
   },
   "outputs": [],
   "source": [
    "#hide\n",
    "# g['date'] = g.date.dt.dayofyear"
   ]
  },
  {
   "cell_type": "code",
   "execution_count": 35,
   "id": "inside-dubai",
   "metadata": {
    "execution": {
     "iopub.execute_input": "2022-04-07T12:15:43.691631Z",
     "iopub.status.busy": "2022-04-07T12:15:43.690967Z",
     "iopub.status.idle": "2022-04-07T12:15:43.692481Z",
     "shell.execute_reply": "2022-04-07T12:15:43.693046Z"
    },
    "papermill": {
     "duration": 0.040745,
     "end_time": "2022-04-07T12:15:43.693190",
     "exception": false,
     "start_time": "2022-04-07T12:15:43.652445",
     "status": "completed"
    },
    "tags": []
   },
   "outputs": [],
   "source": [
    "#hide\n",
    "# g = g.rename(columns= {'continent':'group','country':'name','cases':'value'})"
   ]
  },
  {
   "cell_type": "code",
   "execution_count": 36,
   "id": "fleet-motorcycle",
   "metadata": {
    "execution": {
     "iopub.execute_input": "2022-04-07T12:15:43.767006Z",
     "iopub.status.busy": "2022-04-07T12:15:43.766389Z",
     "iopub.status.idle": "2022-04-07T12:15:43.768549Z",
     "shell.execute_reply": "2022-04-07T12:15:43.769066Z"
    },
    "papermill": {
     "duration": 0.04117,
     "end_time": "2022-04-07T12:15:43.769208",
     "exception": false,
     "start_time": "2022-04-07T12:15:43.728038",
     "status": "completed"
    },
    "tags": []
   },
   "outputs": [],
   "source": [
    "#hide\n",
    "# cols = ['name','group','day','value']"
   ]
  },
  {
   "cell_type": "code",
   "execution_count": 37,
   "id": "continued-sleeping",
   "metadata": {
    "execution": {
     "iopub.execute_input": "2022-04-07T12:15:43.845707Z",
     "iopub.status.busy": "2022-04-07T12:15:43.845052Z",
     "iopub.status.idle": "2022-04-07T12:15:43.847354Z",
     "shell.execute_reply": "2022-04-07T12:15:43.846746Z"
    },
    "papermill": {
     "duration": 0.042987,
     "end_time": "2022-04-07T12:15:43.847481",
     "exception": false,
     "start_time": "2022-04-07T12:15:43.804494",
     "status": "completed"
    },
    "tags": []
   },
   "outputs": [],
   "source": [
    "#hide\n",
    "# g.rename(columns= {'date':'day'},inplace = True)"
   ]
  },
  {
   "cell_type": "code",
   "execution_count": 38,
   "id": "major-fight",
   "metadata": {
    "execution": {
     "iopub.execute_input": "2022-04-07T12:15:43.922165Z",
     "iopub.status.busy": "2022-04-07T12:15:43.921386Z",
     "iopub.status.idle": "2022-04-07T12:15:43.925376Z",
     "shell.execute_reply": "2022-04-07T12:15:43.925844Z"
    },
    "papermill": {
     "duration": 0.043536,
     "end_time": "2022-04-07T12:15:43.925996",
     "exception": false,
     "start_time": "2022-04-07T12:15:43.882460",
     "status": "completed"
    },
    "tags": []
   },
   "outputs": [],
   "source": [
    "#hide\n",
    "# g = g[cols]"
   ]
  },
  {
   "cell_type": "code",
   "execution_count": 39,
   "id": "structured-mobile",
   "metadata": {
    "execution": {
     "iopub.execute_input": "2022-04-07T12:15:44.000096Z",
     "iopub.status.busy": "2022-04-07T12:15:43.999301Z",
     "iopub.status.idle": "2022-04-07T12:15:44.001533Z",
     "shell.execute_reply": "2022-04-07T12:15:44.000860Z"
    },
    "papermill": {
     "duration": 0.040855,
     "end_time": "2022-04-07T12:15:44.001678",
     "exception": false,
     "start_time": "2022-04-07T12:15:43.960823",
     "status": "completed"
    },
    "tags": []
   },
   "outputs": [],
   "source": [
    "# #hide\n",
    "# g = g[g.group.notna()]"
   ]
  },
  {
   "cell_type": "code",
   "execution_count": 40,
   "id": "determined-closing",
   "metadata": {
    "execution": {
     "iopub.execute_input": "2022-04-07T12:15:44.076904Z",
     "iopub.status.busy": "2022-04-07T12:15:44.076104Z",
     "iopub.status.idle": "2022-04-07T12:15:44.078772Z",
     "shell.execute_reply": "2022-04-07T12:15:44.079247Z"
    },
    "papermill": {
     "duration": 0.042014,
     "end_time": "2022-04-07T12:15:44.079407",
     "exception": false,
     "start_time": "2022-04-07T12:15:44.037393",
     "status": "completed"
    },
    "tags": []
   },
   "outputs": [],
   "source": [
    "# #hide\n",
    "# colors = dict(zip(\n",
    "#     [\"Oceania\", \"Europe\", \"Asia\", \"South America\", \"Middle East\", \"North America\", \"Africa\"],\n",
    "#     [\"#adb0ff\", \"#ffb3ff\", \"#90d595\", \"#e48381\", \"#aafbff\", \"#f7bb5f\", \"#eafb50\"]\n",
    "# ))\n",
    "# group_lk = g.set_index('name')['group'].to_dict()"
   ]
  },
  {
   "cell_type": "code",
   "execution_count": null,
   "id": "gross-drinking",
   "metadata": {
    "papermill": {
     "duration": 0.034635,
     "end_time": "2022-04-07T12:15:44.148651",
     "exception": false,
     "start_time": "2022-04-07T12:15:44.114016",
     "status": "completed"
    },
    "tags": []
   },
   "outputs": [],
   "source": []
  },
  {
   "cell_type": "code",
   "execution_count": 41,
   "id": "subject-macintosh",
   "metadata": {
    "execution": {
     "iopub.execute_input": "2022-04-07T12:15:44.223786Z",
     "iopub.status.busy": "2022-04-07T12:15:44.223096Z",
     "iopub.status.idle": "2022-04-07T12:15:44.225073Z",
     "shell.execute_reply": "2022-04-07T12:15:44.225542Z"
    },
    "papermill": {
     "duration": 0.041978,
     "end_time": "2022-04-07T12:15:44.225695",
     "exception": false,
     "start_time": "2022-04-07T12:15:44.183717",
     "status": "completed"
    },
    "tags": []
   },
   "outputs": [],
   "source": [
    "# #hide\n",
    "# fig, ax = plt.subplots(figsize=(15, 8))\n",
    "\n",
    "# def draw_barchart(current_day):\n",
    "#     dff = g[g['day'].eq(current_day)].sort_values(by='value', ascending=True).tail(10)\n",
    "#     ax.clear()\n",
    "#     ax.barh(dff['name'], dff['value'], color=[colors[group_lk[x]] for x in dff['name']])\n",
    "#     dx = dff['value'].max() / 200\n",
    "    \n",
    "#     for i, (value, name) in enumerate(zip(dff['value'], dff['name'])):\n",
    "#         ax.text(value-dx, i,     name,           size=14, weight=600, ha='right', va='bottom')\n",
    "#         ax.text(value-dx, i-.25, group_lk[name], size=10, color='#444444', ha='right', va='baseline')\n",
    "#         ax.text(value+dx, i,     f'{value:,.0f}',  size=14, ha='left',  va='center')\n",
    "#     ax.text(1, 0.4, current_day, transform=ax.transAxes, color='#777777', size=46, ha='right', weight=800)\n",
    "#     ax.text(0, 1.06, 'Population (thousands)', transform=ax.transAxes, size=12, color='#777777')\n",
    "#     ax.xaxis.set_major_formatter(ticker.StrMethodFormatter('{x:,.0f}'))\n",
    "#     ax.xaxis.set_ticks_position('top')\n",
    "#     ax.tick_params(axis='x', colors='#777777', labelsize=12)\n",
    "#     ax.set_yticks([])\n",
    "#     ax.margins(0, 0.01)\n",
    "#     ax.grid(which='major', axis='x', linestyle='-')\n",
    "#     ax.set_axisbelow(True)\n",
    "    \n",
    "#     ax.text(0, 1.15, 'Coronavirus',\n",
    "#             transform=ax.transAxes, size=24, weight=600, ha='left', va='top')\n",
    "# #     ax.text(1, 0, 'by @pratapvardhan; credit @jburnmurdoch', transform=ax.transAxes, color='#777777', ha='right',\n",
    "# #             bbox=dict(facecolor='white', alpha=0.8, edgecolor='white'))\n",
    "#     plt.box(False)"
   ]
  },
  {
   "cell_type": "code",
   "execution_count": 42,
   "id": "sexual-wages",
   "metadata": {
    "execution": {
     "iopub.execute_input": "2022-04-07T12:15:44.300032Z",
     "iopub.status.busy": "2022-04-07T12:15:44.299209Z",
     "iopub.status.idle": "2022-04-07T12:15:44.303255Z",
     "shell.execute_reply": "2022-04-07T12:15:44.302716Z"
    },
    "papermill": {
     "duration": 0.042902,
     "end_time": "2022-04-07T12:15:44.303396",
     "exception": false,
     "start_time": "2022-04-07T12:15:44.260494",
     "status": "completed"
    },
    "tags": []
   },
   "outputs": [],
   "source": [
    "# #hide_input\n",
    "# fig, ax = plt.subplots(figsize=(15, 8))\n",
    "# animator = animation.FuncAnimation(fig, draw_barchart, frames=range(g.day.values.min(), g.day.values.max()))\n",
    "# HTML(animator.to_jshtml())\n",
    "# # or use animator.to_html5_video() or animator.save() "
   ]
  },
  {
   "cell_type": "code",
   "execution_count": null,
   "id": "australian-container",
   "metadata": {
    "papermill": {
     "duration": 0.035229,
     "end_time": "2022-04-07T12:15:44.373523",
     "exception": false,
     "start_time": "2022-04-07T12:15:44.338294",
     "status": "completed"
    },
    "tags": []
   },
   "outputs": [],
   "source": []
  },
  {
   "cell_type": "code",
   "execution_count": null,
   "id": "mediterranean-pontiac",
   "metadata": {
    "papermill": {
     "duration": 0.034788,
     "end_time": "2022-04-07T12:15:44.443780",
     "exception": false,
     "start_time": "2022-04-07T12:15:44.408992",
     "status": "completed"
    },
    "tags": []
   },
   "outputs": [],
   "source": []
  },
  {
   "cell_type": "code",
   "execution_count": null,
   "id": "aging-legislature",
   "metadata": {
    "papermill": {
     "duration": 0.034705,
     "end_time": "2022-04-07T12:15:44.513427",
     "exception": false,
     "start_time": "2022-04-07T12:15:44.478722",
     "status": "completed"
    },
    "tags": []
   },
   "outputs": [],
   "source": []
  }
 ],
 "metadata": {
  "kernelspec": {
   "display_name": "Python 3",
   "language": "python",
   "name": "python3"
  },
  "language_info": {
   "codemirror_mode": {
    "name": "ipython",
    "version": 3
   },
   "file_extension": ".py",
   "mimetype": "text/x-python",
   "name": "python",
   "nbconvert_exporter": "python",
   "pygments_lexer": "ipython3",
   "version": "3.6.15"
  },
  "papermill": {
   "duration": 6.96207,
   "end_time": "2022-04-07T12:15:44.967563",
   "environment_variables": {},
   "exception": null,
   "input_path": "2020-03-21-covid19exp.ipynb",
   "output_path": "2020-03-21-covid19exp.ipynb",
   "parameters": {},
   "start_time": "2022-04-07T12:15:38.005493",
   "version": "2.0.0"
  }
 },
 "nbformat": 4,
 "nbformat_minor": 5
}