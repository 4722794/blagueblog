{
 "cells": [
  {
   "cell_type": "markdown",
   "id": "muslim-click",
   "metadata": {
    "papermill": {
     "duration": 0.043756,
     "end_time": "2021-10-13T00:23:31.904590",
     "exception": false,
     "start_time": "2021-10-13T00:23:31.860834",
     "status": "completed"
    },
    "tags": []
   },
   "source": [
    "# COVID-19 Case Race\n",
    "> A race chart to see rising cases around the world\n",
    "\n",
    "- author: Hargun Oberoi\n",
    "- image: images/covid-overview.png\n",
    "- hide: false\n",
    "- badges: false"
   ]
  },
  {
   "cell_type": "code",
   "execution_count": 1,
   "id": "proof-material",
   "metadata": {
    "execution": {
     "iopub.execute_input": "2021-10-13T00:23:31.985282Z",
     "iopub.status.busy": "2021-10-13T00:23:31.984705Z",
     "iopub.status.idle": "2021-10-13T00:23:32.361873Z",
     "shell.execute_reply": "2021-10-13T00:23:32.360919Z"
    },
    "papermill": {
     "duration": 0.422995,
     "end_time": "2021-10-13T00:23:32.362132",
     "exception": false,
     "start_time": "2021-10-13T00:23:31.939137",
     "status": "completed"
    },
    "tags": []
   },
   "outputs": [],
   "source": [
    "#hide\n",
    "import numpy as np\n",
    "import pandas as pd\n",
    "from jinja2 import Template\n",
    "from IPython.display import HTML"
   ]
  },
  {
   "cell_type": "code",
   "execution_count": 2,
   "id": "developed-terminology",
   "metadata": {
    "execution": {
     "iopub.execute_input": "2021-10-13T00:23:32.438716Z",
     "iopub.status.busy": "2021-10-13T00:23:32.438134Z",
     "iopub.status.idle": "2021-10-13T00:23:32.440335Z",
     "shell.execute_reply": "2021-10-13T00:23:32.439826Z"
    },
    "papermill": {
     "duration": 0.042791,
     "end_time": "2021-10-13T00:23:32.440459",
     "exception": false,
     "start_time": "2021-10-13T00:23:32.397668",
     "status": "completed"
    },
    "tags": []
   },
   "outputs": [],
   "source": [
    "#hide\n",
    "\n",
    "# FETCH\n",
    "base_url = 'https://raw.githubusercontent.com/pratapvardhan/notebooks/master/covid19/'\n",
    "paths = {\n",
    "    'mapping': base_url + 'mapping_countries.csv',\n",
    "    'overview': base_url + 'overview.tpl'\n",
    "}"
   ]
  },
  {
   "cell_type": "code",
   "execution_count": 3,
   "id": "dynamic-saver",
   "metadata": {
    "execution": {
     "iopub.execute_input": "2021-10-13T00:23:32.522312Z",
     "iopub.status.busy": "2021-10-13T00:23:32.521725Z",
     "iopub.status.idle": "2021-10-13T00:23:32.524130Z",
     "shell.execute_reply": "2021-10-13T00:23:32.524586Z"
    },
    "papermill": {
     "duration": 0.047849,
     "end_time": "2021-10-13T00:23:32.524722",
     "exception": false,
     "start_time": "2021-10-13T00:23:32.476873",
     "status": "completed"
    },
    "tags": []
   },
   "outputs": [
    {
     "data": {
      "text/plain": [
       "'https://raw.githubusercontent.com/pratapvardhan/notebooks/master/covid19/mapping_countries.csv'"
      ]
     },
     "execution_count": 3,
     "metadata": {},
     "output_type": "execute_result"
    }
   ],
   "source": [
    "#hide\n",
    "paths['mapping']"
   ]
  },
  {
   "cell_type": "code",
   "execution_count": 4,
   "id": "urban-software",
   "metadata": {
    "execution": {
     "iopub.execute_input": "2021-10-13T00:23:32.606312Z",
     "iopub.status.busy": "2021-10-13T00:23:32.605696Z",
     "iopub.status.idle": "2021-10-13T00:23:32.608014Z",
     "shell.execute_reply": "2021-10-13T00:23:32.608495Z"
    },
    "papermill": {
     "duration": 0.04471,
     "end_time": "2021-10-13T00:23:32.608640",
     "exception": false,
     "start_time": "2021-10-13T00:23:32.563930",
     "status": "completed"
    },
    "tags": []
   },
   "outputs": [],
   "source": [
    "#hide\n",
    "def get_mappings(url):\n",
    "    df = pd.read_csv(url)\n",
    "    return {\n",
    "        'df': df,\n",
    "        'replace.country': dict(df.dropna(subset=['Name']).set_index('Country')['Name']),\n",
    "        'map.continent': dict(df.set_index('Name')['Continent'])\n",
    "    }"
   ]
  },
  {
   "cell_type": "code",
   "execution_count": 5,
   "id": "intimate-machinery",
   "metadata": {
    "execution": {
     "iopub.execute_input": "2021-10-13T00:23:32.682682Z",
     "iopub.status.busy": "2021-10-13T00:23:32.682038Z",
     "iopub.status.idle": "2021-10-13T00:23:32.724759Z",
     "shell.execute_reply": "2021-10-13T00:23:32.724241Z"
    },
    "papermill": {
     "duration": 0.082248,
     "end_time": "2021-10-13T00:23:32.724897",
     "exception": false,
     "start_time": "2021-10-13T00:23:32.642649",
     "status": "completed"
    },
    "tags": []
   },
   "outputs": [],
   "source": [
    "#hide\n",
    "mapping = get_mappings(paths['mapping'])"
   ]
  },
  {
   "cell_type": "code",
   "execution_count": 6,
   "id": "certified-tactics",
   "metadata": {
    "execution": {
     "iopub.execute_input": "2021-10-13T00:23:32.801023Z",
     "iopub.status.busy": "2021-10-13T00:23:32.800408Z",
     "iopub.status.idle": "2021-10-13T00:23:32.802718Z",
     "shell.execute_reply": "2021-10-13T00:23:32.802257Z"
    },
    "papermill": {
     "duration": 0.045379,
     "end_time": "2021-10-13T00:23:32.802831",
     "exception": false,
     "start_time": "2021-10-13T00:23:32.757452",
     "status": "completed"
    },
    "tags": []
   },
   "outputs": [],
   "source": [
    "#hide\n",
    "def get_template(path):\n",
    "    from urllib.parse import urlparse\n",
    "    if bool(urlparse(path).netloc):\n",
    "        from urllib.request import urlopen\n",
    "        return urlopen(path).read().decode('utf8')\n",
    "    return open(path).read()"
   ]
  },
  {
   "cell_type": "code",
   "execution_count": 7,
   "id": "realistic-blast",
   "metadata": {
    "execution": {
     "iopub.execute_input": "2021-10-13T00:23:32.875592Z",
     "iopub.status.busy": "2021-10-13T00:23:32.874994Z",
     "iopub.status.idle": "2021-10-13T00:23:32.877142Z",
     "shell.execute_reply": "2021-10-13T00:23:32.876674Z"
    },
    "papermill": {
     "duration": 0.04224,
     "end_time": "2021-10-13T00:23:32.877261",
     "exception": false,
     "start_time": "2021-10-13T00:23:32.835021",
     "status": "completed"
    },
    "tags": []
   },
   "outputs": [],
   "source": [
    "#hide\n",
    "def get_frame(name):\n",
    "    url = (\n",
    "        'https://raw.githubusercontent.com/CSSEGISandData/COVID-19/master/csse_covid_19_data/'\n",
    "        f'csse_covid_19_time_series/time_series_covid19_{name}_global.csv')\n",
    "    df = pd.read_csv(url)\n",
    "    # rename countries\n",
    "    df['Country/Region'] = df['Country/Region'].replace(mapping['replace.country'])\n",
    "    return df"
   ]
  },
  {
   "cell_type": "code",
   "execution_count": 8,
   "id": "affiliated-characterization",
   "metadata": {
    "execution": {
     "iopub.execute_input": "2021-10-13T00:23:32.949855Z",
     "iopub.status.busy": "2021-10-13T00:23:32.949224Z",
     "iopub.status.idle": "2021-10-13T00:23:32.952256Z",
     "shell.execute_reply": "2021-10-13T00:23:32.951752Z"
    },
    "papermill": {
     "duration": 0.04186,
     "end_time": "2021-10-13T00:23:32.952383",
     "exception": false,
     "start_time": "2021-10-13T00:23:32.910523",
     "status": "completed"
    },
    "tags": []
   },
   "outputs": [],
   "source": [
    "#hide\n",
    "def get_dates(df):\n",
    "    dt_cols = df.columns[~df.columns.isin(['Province/State', 'Country/Region', 'Lat', 'Long'])]\n",
    "    LAST_DATE_I = -1\n",
    "    # sometimes last column may be empty, then go backwards\n",
    "    for i in range(-1, -len(dt_cols), -1):\n",
    "        if not df[dt_cols[i]].fillna(0).eq(0).all():\n",
    "            LAST_DATE_I = i\n",
    "            break\n",
    "    return LAST_DATE_I, dt_cols"
   ]
  },
  {
   "cell_type": "code",
   "execution_count": 9,
   "id": "recent-optimization",
   "metadata": {
    "execution": {
     "iopub.execute_input": "2021-10-13T00:23:33.026928Z",
     "iopub.status.busy": "2021-10-13T00:23:33.026316Z",
     "iopub.status.idle": "2021-10-13T00:23:33.418328Z",
     "shell.execute_reply": "2021-10-13T00:23:33.416896Z"
    },
    "papermill": {
     "duration": 0.430845,
     "end_time": "2021-10-13T00:23:33.418487",
     "exception": false,
     "start_time": "2021-10-13T00:23:32.987642",
     "status": "completed"
    },
    "tags": []
   },
   "outputs": [],
   "source": [
    "#hide\n",
    "COL_REGION = 'Country/Region'\n",
    "# Confirmed, Recovered, Deaths\n",
    "df = get_frame('confirmed')\n",
    "# dft_: timeseries, dfc_: today country agg\n",
    "dft_cases = df\n",
    "dft_deaths = get_frame('deaths')\n",
    "dft_recovered = get_frame('recovered')\n",
    "LAST_DATE_I, dt_cols = get_dates(df)"
   ]
  },
  {
   "cell_type": "code",
   "execution_count": 10,
   "id": "absolute-copper",
   "metadata": {
    "execution": {
     "iopub.execute_input": "2021-10-13T00:23:33.494078Z",
     "iopub.status.busy": "2021-10-13T00:23:33.492964Z",
     "iopub.status.idle": "2021-10-13T00:23:33.495182Z",
     "shell.execute_reply": "2021-10-13T00:23:33.495988Z"
    },
    "papermill": {
     "duration": 0.043647,
     "end_time": "2021-10-13T00:23:33.496218",
     "exception": false,
     "start_time": "2021-10-13T00:23:33.452571",
     "status": "completed"
    },
    "tags": []
   },
   "outputs": [],
   "source": [
    "#hide\n",
    "LAST_DATE_I, dt_cols = get_dates(df)\n",
    "dt_today =dt_cols[LAST_DATE_I]\n",
    "# dt_5day = dt_cols[LAST_DATE_I - 5]\n",
    "dt_yday = dt_cols[LAST_DATE_I - 1]"
   ]
  },
  {
   "cell_type": "code",
   "execution_count": 11,
   "id": "restricted-sheriff",
   "metadata": {
    "execution": {
     "iopub.execute_input": "2021-10-13T00:23:33.575019Z",
     "iopub.status.busy": "2021-10-13T00:23:33.573517Z",
     "iopub.status.idle": "2021-10-13T00:23:33.579808Z",
     "shell.execute_reply": "2021-10-13T00:23:33.579220Z"
    },
    "papermill": {
     "duration": 0.047982,
     "end_time": "2021-10-13T00:23:33.579935",
     "exception": false,
     "start_time": "2021-10-13T00:23:33.531953",
     "status": "completed"
    },
    "tags": []
   },
   "outputs": [],
   "source": [
    "#hide\n",
    "dfc_cases = dft_cases.groupby(COL_REGION)[dt_today].sum()\n",
    "dfc_deaths = dft_deaths.groupby(COL_REGION)[dt_today].sum()\n",
    "# dfp_cases = dft_cases.groupby(COL_REGION)[dt_5day].sum()\n",
    "# dfp_deaths = dft_deaths.groupby(COL_REGION)[dt_5day].sum()\n",
    "dfp_cases = dft_cases.groupby(COL_REGION)[dt_yday].sum()\n",
    "dfp_deaths = dft_deaths.groupby(COL_REGION)[dt_yday].sum()"
   ]
  },
  {
   "cell_type": "code",
   "execution_count": 12,
   "id": "deluxe-hepatitis",
   "metadata": {
    "execution": {
     "iopub.execute_input": "2021-10-13T00:23:33.654607Z",
     "iopub.status.busy": "2021-10-13T00:23:33.654025Z",
     "iopub.status.idle": "2021-10-13T00:23:33.656697Z",
     "shell.execute_reply": "2021-10-13T00:23:33.656164Z"
    },
    "papermill": {
     "duration": 0.044095,
     "end_time": "2021-10-13T00:23:33.656823",
     "exception": false,
     "start_time": "2021-10-13T00:23:33.612728",
     "status": "completed"
    },
    "tags": []
   },
   "outputs": [],
   "source": [
    "#hide\n",
    "df_table = (pd.DataFrame(dict(Cases = dfc_cases, Deaths = dfc_deaths, PCases = dfp_cases, PDeaths = dfp_deaths))\n",
    "            .sort_values(by = ['Cases','Deaths'], ascending = [False, False])\n",
    "            .reset_index())"
   ]
  },
  {
   "cell_type": "code",
   "execution_count": 13,
   "id": "educational-chancellor",
   "metadata": {
    "execution": {
     "iopub.execute_input": "2021-10-13T00:23:33.741934Z",
     "iopub.status.busy": "2021-10-13T00:23:33.741269Z",
     "iopub.status.idle": "2021-10-13T00:23:33.750596Z",
     "shell.execute_reply": "2021-10-13T00:23:33.749838Z"
    },
    "papermill": {
     "duration": 0.062462,
     "end_time": "2021-10-13T00:23:33.750722",
     "exception": false,
     "start_time": "2021-10-13T00:23:33.688260",
     "status": "completed"
    },
    "tags": []
   },
   "outputs": [
    {
     "data": {
      "text/html": [
       "<div>\n",
       "<style scoped>\n",
       "    .dataframe tbody tr th:only-of-type {\n",
       "        vertical-align: middle;\n",
       "    }\n",
       "\n",
       "    .dataframe tbody tr th {\n",
       "        vertical-align: top;\n",
       "    }\n",
       "\n",
       "    .dataframe thead th {\n",
       "        text-align: right;\n",
       "    }\n",
       "</style>\n",
       "<table border=\"1\" class=\"dataframe\">\n",
       "  <thead>\n",
       "    <tr style=\"text-align: right;\">\n",
       "      <th></th>\n",
       "      <th>Country/Region</th>\n",
       "      <th>Cases</th>\n",
       "      <th>Deaths</th>\n",
       "      <th>PCases</th>\n",
       "      <th>PDeaths</th>\n",
       "      <th>Cases (+)</th>\n",
       "      <th>Deaths (+)</th>\n",
       "      <th>Fatality Rate</th>\n",
       "      <th>Continent</th>\n",
       "    </tr>\n",
       "  </thead>\n",
       "  <tbody>\n",
       "    <tr>\n",
       "      <th>0</th>\n",
       "      <td>US</td>\n",
       "      <td>44455949</td>\n",
       "      <td>714055</td>\n",
       "      <td>44339747</td>\n",
       "      <td>712873</td>\n",
       "      <td>116202</td>\n",
       "      <td>1182</td>\n",
       "      <td>1.61</td>\n",
       "      <td>North America</td>\n",
       "    </tr>\n",
       "    <tr>\n",
       "      <th>1</th>\n",
       "      <td>India</td>\n",
       "      <td>33985920</td>\n",
       "      <td>450963</td>\n",
       "      <td>33971607</td>\n",
       "      <td>450782</td>\n",
       "      <td>14313</td>\n",
       "      <td>181</td>\n",
       "      <td>1.33</td>\n",
       "      <td>Asia</td>\n",
       "    </tr>\n",
       "    <tr>\n",
       "      <th>2</th>\n",
       "      <td>Brazil</td>\n",
       "      <td>21582738</td>\n",
       "      <td>601213</td>\n",
       "      <td>21575820</td>\n",
       "      <td>601011</td>\n",
       "      <td>6918</td>\n",
       "      <td>202</td>\n",
       "      <td>2.79</td>\n",
       "      <td>South America</td>\n",
       "    </tr>\n",
       "    <tr>\n",
       "      <th>3</th>\n",
       "      <td>United Kingdom</td>\n",
       "      <td>8232327</td>\n",
       "      <td>138167</td>\n",
       "      <td>8192589</td>\n",
       "      <td>138139</td>\n",
       "      <td>39738</td>\n",
       "      <td>28</td>\n",
       "      <td>1.68</td>\n",
       "      <td>Europe</td>\n",
       "    </tr>\n",
       "    <tr>\n",
       "      <th>4</th>\n",
       "      <td>Russia</td>\n",
       "      <td>7687559</td>\n",
       "      <td>213522</td>\n",
       "      <td>7658923</td>\n",
       "      <td>212576</td>\n",
       "      <td>28636</td>\n",
       "      <td>946</td>\n",
       "      <td>2.78</td>\n",
       "      <td>Europe</td>\n",
       "    </tr>\n",
       "  </tbody>\n",
       "</table>\n",
       "</div>"
      ],
      "text/plain": [
       "   Country/Region     Cases  Deaths    PCases  PDeaths  Cases (+)  Deaths (+)  \\\n",
       "0              US  44455949  714055  44339747   712873     116202        1182   \n",
       "1           India  33985920  450963  33971607   450782      14313         181   \n",
       "2          Brazil  21582738  601213  21575820   601011       6918         202   \n",
       "3  United Kingdom   8232327  138167   8192589   138139      39738          28   \n",
       "4          Russia   7687559  213522   7658923   212576      28636         946   \n",
       "\n",
       "   Fatality Rate      Continent  \n",
       "0           1.61  North America  \n",
       "1           1.33           Asia  \n",
       "2           2.79  South America  \n",
       "3           1.68         Europe  \n",
       "4           2.78         Europe  "
      ]
     },
     "execution_count": 13,
     "metadata": {},
     "output_type": "execute_result"
    }
   ],
   "source": [
    "#hide\n",
    "for c in 'Cases, Deaths'.split(', '):\n",
    "    df_table[f'{c} (+)'] = (df_table[c] - df_table[f'P{c}']).clip(0)\n",
    "    #Clip ça veut dire, les chiffres negatif sont interdit\n",
    "df_table['Fatality Rate'] = (100* df_table['Deaths']/ df_table['Cases']).round(2)\n",
    "df_table['Continent'] = df_table['Country/Region'].map(mapping['map.continent'])\n",
    "df_table.head(5)"
   ]
  },
  {
   "cell_type": "code",
   "execution_count": 14,
   "id": "aboriginal-bulgaria",
   "metadata": {
    "execution": {
     "iopub.execute_input": "2021-10-13T00:23:33.828929Z",
     "iopub.status.busy": "2021-10-13T00:23:33.828317Z",
     "iopub.status.idle": "2021-10-13T00:23:33.830039Z",
     "shell.execute_reply": "2021-10-13T00:23:33.830488Z"
    },
    "papermill": {
     "duration": 0.043236,
     "end_time": "2021-10-13T00:23:33.830626",
     "exception": false,
     "start_time": "2021-10-13T00:23:33.787390",
     "status": "completed"
    },
    "tags": []
   },
   "outputs": [],
   "source": [
    "#hide\n",
    "#delete problematic countries from table\n",
    "df_table = df_table[~df_table['Country/Region'].isin(['Cape Verde', 'Cruise Ship', 'Kosovo'])]"
   ]
  },
  {
   "cell_type": "code",
   "execution_count": 15,
   "id": "fantastic-effect",
   "metadata": {
    "execution": {
     "iopub.execute_input": "2021-10-13T00:23:33.920049Z",
     "iopub.status.busy": "2021-10-13T00:23:33.919444Z",
     "iopub.status.idle": "2021-10-13T00:23:33.938852Z",
     "shell.execute_reply": "2021-10-13T00:23:33.939623Z"
    },
    "papermill": {
     "duration": 0.07483,
     "end_time": "2021-10-13T00:23:33.939773",
     "exception": false,
     "start_time": "2021-10-13T00:23:33.864943",
     "status": "completed"
    },
    "tags": []
   },
   "outputs": [
    {
     "data": {
      "text/html": [
       "<div>\n",
       "<style scoped>\n",
       "    .dataframe tbody tr th:only-of-type {\n",
       "        vertical-align: middle;\n",
       "    }\n",
       "\n",
       "    .dataframe tbody tr th {\n",
       "        vertical-align: top;\n",
       "    }\n",
       "\n",
       "    .dataframe thead th {\n",
       "        text-align: right;\n",
       "    }\n",
       "</style>\n",
       "<table border=\"1\" class=\"dataframe\">\n",
       "  <thead>\n",
       "    <tr style=\"text-align: right;\">\n",
       "      <th></th>\n",
       "      <th>Country/Region</th>\n",
       "      <th>Cases</th>\n",
       "      <th>Deaths</th>\n",
       "      <th>PCases</th>\n",
       "      <th>PDeaths</th>\n",
       "      <th>Cases (+)</th>\n",
       "      <th>Deaths (+)</th>\n",
       "      <th>Fatality Rate</th>\n",
       "      <th>Continent</th>\n",
       "    </tr>\n",
       "  </thead>\n",
       "  <tbody>\n",
       "    <tr>\n",
       "      <th>0</th>\n",
       "      <td>US</td>\n",
       "      <td>44455949</td>\n",
       "      <td>714055</td>\n",
       "      <td>44339747</td>\n",
       "      <td>712873</td>\n",
       "      <td>116202</td>\n",
       "      <td>1182</td>\n",
       "      <td>1.6</td>\n",
       "      <td>North America</td>\n",
       "    </tr>\n",
       "    <tr>\n",
       "      <th>1</th>\n",
       "      <td>India</td>\n",
       "      <td>33985920</td>\n",
       "      <td>450963</td>\n",
       "      <td>33971607</td>\n",
       "      <td>450782</td>\n",
       "      <td>14313</td>\n",
       "      <td>181</td>\n",
       "      <td>1.3</td>\n",
       "      <td>Asia</td>\n",
       "    </tr>\n",
       "    <tr>\n",
       "      <th>2</th>\n",
       "      <td>Brazil</td>\n",
       "      <td>21582738</td>\n",
       "      <td>601213</td>\n",
       "      <td>21575820</td>\n",
       "      <td>601011</td>\n",
       "      <td>6918</td>\n",
       "      <td>202</td>\n",
       "      <td>2.8</td>\n",
       "      <td>South America</td>\n",
       "    </tr>\n",
       "    <tr>\n",
       "      <th>3</th>\n",
       "      <td>United Kingdom</td>\n",
       "      <td>8232327</td>\n",
       "      <td>138167</td>\n",
       "      <td>8192589</td>\n",
       "      <td>138139</td>\n",
       "      <td>39738</td>\n",
       "      <td>28</td>\n",
       "      <td>1.7</td>\n",
       "      <td>Europe</td>\n",
       "    </tr>\n",
       "    <tr>\n",
       "      <th>4</th>\n",
       "      <td>Russia</td>\n",
       "      <td>7687559</td>\n",
       "      <td>213522</td>\n",
       "      <td>7658923</td>\n",
       "      <td>212576</td>\n",
       "      <td>28636</td>\n",
       "      <td>946</td>\n",
       "      <td>2.8</td>\n",
       "      <td>Europe</td>\n",
       "    </tr>\n",
       "  </tbody>\n",
       "</table>\n",
       "</div>"
      ],
      "text/plain": [
       "   Country/Region     Cases  Deaths    PCases  PDeaths  Cases (+)  Deaths (+)  \\\n",
       "0              US  44455949  714055  44339747   712873     116202        1182   \n",
       "1           India  33985920  450963  33971607   450782      14313         181   \n",
       "2          Brazil  21582738  601213  21575820   601011       6918         202   \n",
       "3  United Kingdom   8232327  138167   8192589   138139      39738          28   \n",
       "4          Russia   7687559  213522   7658923   212576      28636         946   \n",
       "\n",
       "   Fatality Rate      Continent  \n",
       "0            1.6  North America  \n",
       "1            1.3           Asia  \n",
       "2            2.8  South America  \n",
       "3            1.7         Europe  \n",
       "4            2.8         Europe  "
      ]
     },
     "execution_count": 15,
     "metadata": {},
     "output_type": "execute_result"
    }
   ],
   "source": [
    "#hide\n",
    "df_table = (pd.DataFrame(dict(Cases=dfc_cases, Deaths=dfc_deaths, PCases=dfp_cases, PDeaths=dfp_deaths))\n",
    "             .sort_values(by=['Cases', 'Deaths'], ascending=[False, False])\n",
    "             .reset_index())\n",
    "df_table.rename(columns={'index': 'Country/Region'}, inplace=True)\n",
    "for c in 'Cases, Deaths'.split(', '):\n",
    "    df_table[f'{c} (+)'] = (df_table[c] - df_table[f'P{c}']).clip(0)  # DATA BUG\n",
    "df_table['Fatality Rate'] = (100 * df_table['Deaths'] / df_table['Cases']).round(1)\n",
    "df_table['Continent'] = df_table['Country/Region'].map(mapping['map.continent'])\n",
    "df_table.head(5)"
   ]
  },
  {
   "cell_type": "code",
   "execution_count": 16,
   "id": "fewer-occasion",
   "metadata": {
    "execution": {
     "iopub.execute_input": "2021-10-13T00:23:34.018692Z",
     "iopub.status.busy": "2021-10-13T00:23:34.018101Z",
     "iopub.status.idle": "2021-10-13T00:23:34.019769Z",
     "shell.execute_reply": "2021-10-13T00:23:34.020209Z"
    },
    "papermill": {
     "duration": 0.04463,
     "end_time": "2021-10-13T00:23:34.020365",
     "exception": false,
     "start_time": "2021-10-13T00:23:33.975735",
     "status": "completed"
    },
    "tags": []
   },
   "outputs": [],
   "source": [
    "#hide\n",
    "#delete problematic countries from table\n",
    "df_table = df_table[~df_table['Country/Region'].isin(['Cape Verde', 'Cruise Ship', 'Kosovo'])]"
   ]
  },
  {
   "cell_type": "code",
   "execution_count": 17,
   "id": "related-center",
   "metadata": {
    "execution": {
     "iopub.execute_input": "2021-10-13T00:23:34.114988Z",
     "iopub.status.busy": "2021-10-13T00:23:34.113948Z",
     "iopub.status.idle": "2021-10-13T00:23:34.116006Z",
     "shell.execute_reply": "2021-10-13T00:23:34.116760Z"
    },
    "papermill": {
     "duration": 0.061427,
     "end_time": "2021-10-13T00:23:34.116983",
     "exception": false,
     "start_time": "2021-10-13T00:23:34.055556",
     "status": "completed"
    },
    "tags": []
   },
   "outputs": [],
   "source": [
    "#hide\n",
    "metrics = [df_table.columns[index] for index in [1,2,5,6]]\n",
    "# s_china = df_table[df_table['Country/Region'].eq('China')][metrics].sum().add_prefix('China ')\n",
    "s_us = df_table[df_table['Country/Region'].eq('US')][metrics].sum().add_prefix('US ')\n",
    "s_eu = df_table[df_table['Continent'].eq('Europe')][metrics].sum().add_prefix('EU ')\n",
    "s_ind = df_table[df_table['Country/Region'].eq('India')][metrics].sum().add_prefix('India ')\n",
    "summary = {'updated': pd.to_datetime(dt_today), 'since': pd.to_datetime(dt_yday)}\n",
    "summary = {'updated': pd.to_datetime(dt_today), 'since': pd.to_datetime(dt_yday)}\n",
    "summary = {**summary, **df_table[metrics].sum(), **s_ind, **s_us, **s_eu}"
   ]
  },
  {
   "cell_type": "code",
   "execution_count": 18,
   "id": "engaging-syndrome",
   "metadata": {
    "execution": {
     "iopub.execute_input": "2021-10-13T00:23:34.196967Z",
     "iopub.status.busy": "2021-10-13T00:23:34.196365Z",
     "iopub.status.idle": "2021-10-13T00:23:34.211888Z",
     "shell.execute_reply": "2021-10-13T00:23:34.211270Z"
    },
    "papermill": {
     "duration": 0.056481,
     "end_time": "2021-10-13T00:23:34.212020",
     "exception": false,
     "start_time": "2021-10-13T00:23:34.155539",
     "status": "completed"
    },
    "tags": []
   },
   "outputs": [],
   "source": [
    "#hide\n",
    "dft_ct_new_cases = dft_cases.groupby(COL_REGION)[dt_cols].sum().diff(axis=1).fillna(0).astype(int)"
   ]
  },
  {
   "cell_type": "code",
   "execution_count": 19,
   "id": "neutral-assignment",
   "metadata": {
    "execution": {
     "iopub.execute_input": "2021-10-13T00:23:34.288727Z",
     "iopub.status.busy": "2021-10-13T00:23:34.287776Z",
     "iopub.status.idle": "2021-10-13T00:23:34.289713Z",
     "shell.execute_reply": "2021-10-13T00:23:34.290443Z"
    },
    "papermill": {
     "duration": 0.044791,
     "end_time": "2021-10-13T00:23:34.290657",
     "exception": false,
     "start_time": "2021-10-13T00:23:34.245866",
     "status": "completed"
    },
    "tags": []
   },
   "outputs": [],
   "source": [
    "#hide\n",
    "everydaycases = dft_ct_new_cases.cumsum(axis=1)"
   ]
  },
  {
   "cell_type": "code",
   "execution_count": 20,
   "id": "parliamentary-calgary",
   "metadata": {
    "execution": {
     "iopub.execute_input": "2021-10-13T00:23:34.369096Z",
     "iopub.status.busy": "2021-10-13T00:23:34.368533Z",
     "iopub.status.idle": "2021-10-13T00:23:35.072993Z",
     "shell.execute_reply": "2021-10-13T00:23:35.072454Z"
    },
    "papermill": {
     "duration": 0.745547,
     "end_time": "2021-10-13T00:23:35.073138",
     "exception": false,
     "start_time": "2021-10-13T00:23:34.327591",
     "status": "completed"
    },
    "tags": []
   },
   "outputs": [],
   "source": [
    "#hide\n",
    "import pandas as pd\n",
    "import matplotlib.pyplot as plt\n",
    "import matplotlib.ticker as ticker\n",
    "import matplotlib.animation as animation\n",
    "from IPython.display import HTML"
   ]
  },
  {
   "cell_type": "code",
   "execution_count": 21,
   "id": "lasting-extraction",
   "metadata": {
    "execution": {
     "iopub.execute_input": "2021-10-13T00:23:35.151052Z",
     "iopub.status.busy": "2021-10-13T00:23:35.149996Z",
     "iopub.status.idle": "2021-10-13T00:23:35.160078Z",
     "shell.execute_reply": "2021-10-13T00:23:35.159264Z"
    },
    "papermill": {
     "duration": 0.051774,
     "end_time": "2021-10-13T00:23:35.160402",
     "exception": false,
     "start_time": "2021-10-13T00:23:35.108628",
     "status": "completed"
    },
    "tags": []
   },
   "outputs": [],
   "source": [
    "#hide\n",
    "t = everydaycases.stack()"
   ]
  },
  {
   "cell_type": "code",
   "execution_count": 22,
   "id": "premier-sleeve",
   "metadata": {
    "execution": {
     "iopub.execute_input": "2021-10-13T00:23:35.240686Z",
     "iopub.status.busy": "2021-10-13T00:23:35.240077Z",
     "iopub.status.idle": "2021-10-13T00:23:35.249922Z",
     "shell.execute_reply": "2021-10-13T00:23:35.249431Z"
    },
    "papermill": {
     "duration": 0.050062,
     "end_time": "2021-10-13T00:23:35.250052",
     "exception": false,
     "start_time": "2021-10-13T00:23:35.199990",
     "status": "completed"
    },
    "tags": []
   },
   "outputs": [],
   "source": [
    "#hide\n",
    "g = t.reset_index(['Country/Region'])"
   ]
  },
  {
   "cell_type": "code",
   "execution_count": 23,
   "id": "distributed-pittsburgh",
   "metadata": {
    "execution": {
     "iopub.execute_input": "2021-10-13T00:23:35.325377Z",
     "iopub.status.busy": "2021-10-13T00:23:35.324760Z",
     "iopub.status.idle": "2021-10-13T00:23:35.327058Z",
     "shell.execute_reply": "2021-10-13T00:23:35.327617Z"
    },
    "papermill": {
     "duration": 0.043642,
     "end_time": "2021-10-13T00:23:35.327761",
     "exception": false,
     "start_time": "2021-10-13T00:23:35.284119",
     "status": "completed"
    },
    "tags": []
   },
   "outputs": [],
   "source": [
    "#hide\n",
    "g.index.name = 'date'"
   ]
  },
  {
   "cell_type": "code",
   "execution_count": 24,
   "id": "naked-donor",
   "metadata": {
    "execution": {
     "iopub.execute_input": "2021-10-13T00:23:35.401274Z",
     "iopub.status.busy": "2021-10-13T00:23:35.400649Z",
     "iopub.status.idle": "2021-10-13T00:23:35.403217Z",
     "shell.execute_reply": "2021-10-13T00:23:35.402713Z"
    },
    "papermill": {
     "duration": 0.041081,
     "end_time": "2021-10-13T00:23:35.403343",
     "exception": false,
     "start_time": "2021-10-13T00:23:35.362262",
     "status": "completed"
    },
    "tags": []
   },
   "outputs": [],
   "source": [
    "# #hide\n",
    "# g = g.reset_index(['date'])"
   ]
  },
  {
   "cell_type": "code",
   "execution_count": 25,
   "id": "incomplete-mustang",
   "metadata": {
    "execution": {
     "iopub.execute_input": "2021-10-13T00:23:35.483994Z",
     "iopub.status.busy": "2021-10-13T00:23:35.483262Z",
     "iopub.status.idle": "2021-10-13T00:23:35.486142Z",
     "shell.execute_reply": "2021-10-13T00:23:35.485597Z"
    },
    "papermill": {
     "duration": 0.043895,
     "end_time": "2021-10-13T00:23:35.486271",
     "exception": false,
     "start_time": "2021-10-13T00:23:35.442376",
     "status": "completed"
    },
    "tags": []
   },
   "outputs": [],
   "source": [
    "#hide\n",
    "# g.head()"
   ]
  },
  {
   "cell_type": "code",
   "execution_count": 26,
   "id": "specific-kruger",
   "metadata": {
    "execution": {
     "iopub.execute_input": "2021-10-13T00:23:35.565946Z",
     "iopub.status.busy": "2021-10-13T00:23:35.565306Z",
     "iopub.status.idle": "2021-10-13T00:23:35.567881Z",
     "shell.execute_reply": "2021-10-13T00:23:35.567405Z"
    },
    "papermill": {
     "duration": 0.045042,
     "end_time": "2021-10-13T00:23:35.568009",
     "exception": false,
     "start_time": "2021-10-13T00:23:35.522967",
     "status": "completed"
    },
    "tags": []
   },
   "outputs": [],
   "source": [
    "#hide\n",
    "# g.columns = ['date','country','cases']"
   ]
  },
  {
   "cell_type": "code",
   "execution_count": 27,
   "id": "tender-conversion",
   "metadata": {
    "execution": {
     "iopub.execute_input": "2021-10-13T00:23:35.648630Z",
     "iopub.status.busy": "2021-10-13T00:23:35.647682Z",
     "iopub.status.idle": "2021-10-13T00:23:35.650541Z",
     "shell.execute_reply": "2021-10-13T00:23:35.649855Z"
    },
    "papermill": {
     "duration": 0.046844,
     "end_time": "2021-10-13T00:23:35.650684",
     "exception": false,
     "start_time": "2021-10-13T00:23:35.603840",
     "status": "completed"
    },
    "tags": []
   },
   "outputs": [],
   "source": [
    "#hide\n",
    "# g['continent'] = g.country"
   ]
  },
  {
   "cell_type": "code",
   "execution_count": 28,
   "id": "substantial-wilderness",
   "metadata": {
    "execution": {
     "iopub.execute_input": "2021-10-13T00:23:35.742072Z",
     "iopub.status.busy": "2021-10-13T00:23:35.741457Z",
     "iopub.status.idle": "2021-10-13T00:23:35.743703Z",
     "shell.execute_reply": "2021-10-13T00:23:35.743203Z"
    },
    "papermill": {
     "duration": 0.045977,
     "end_time": "2021-10-13T00:23:35.743821",
     "exception": false,
     "start_time": "2021-10-13T00:23:35.697844",
     "status": "completed"
    },
    "tags": []
   },
   "outputs": [],
   "source": [
    "#hide\n",
    "# cols = list(g.columns.values)"
   ]
  },
  {
   "cell_type": "code",
   "execution_count": 29,
   "id": "solved-farming",
   "metadata": {
    "execution": {
     "iopub.execute_input": "2021-10-13T00:23:35.820055Z",
     "iopub.status.busy": "2021-10-13T00:23:35.819429Z",
     "iopub.status.idle": "2021-10-13T00:23:35.821800Z",
     "shell.execute_reply": "2021-10-13T00:23:35.821286Z"
    },
    "papermill": {
     "duration": 0.042532,
     "end_time": "2021-10-13T00:23:35.821940",
     "exception": false,
     "start_time": "2021-10-13T00:23:35.779408",
     "status": "completed"
    },
    "tags": []
   },
   "outputs": [],
   "source": [
    "#hide\n",
    "# cols.insert(0, cols.pop())"
   ]
  },
  {
   "cell_type": "code",
   "execution_count": 30,
   "id": "executed-adoption",
   "metadata": {
    "execution": {
     "iopub.execute_input": "2021-10-13T00:23:35.897098Z",
     "iopub.status.busy": "2021-10-13T00:23:35.896489Z",
     "iopub.status.idle": "2021-10-13T00:23:35.898925Z",
     "shell.execute_reply": "2021-10-13T00:23:35.899460Z"
    },
    "papermill": {
     "duration": 0.041914,
     "end_time": "2021-10-13T00:23:35.899619",
     "exception": false,
     "start_time": "2021-10-13T00:23:35.857705",
     "status": "completed"
    },
    "tags": []
   },
   "outputs": [],
   "source": [
    "#hide\n",
    "# g = g[cols]"
   ]
  },
  {
   "cell_type": "code",
   "execution_count": 31,
   "id": "subject-dublin",
   "metadata": {
    "execution": {
     "iopub.execute_input": "2021-10-13T00:23:35.975798Z",
     "iopub.status.busy": "2021-10-13T00:23:35.975198Z",
     "iopub.status.idle": "2021-10-13T00:23:35.978037Z",
     "shell.execute_reply": "2021-10-13T00:23:35.978634Z"
    },
    "papermill": {
     "duration": 0.043626,
     "end_time": "2021-10-13T00:23:35.978912",
     "exception": false,
     "start_time": "2021-10-13T00:23:35.935286",
     "status": "completed"
    },
    "tags": []
   },
   "outputs": [],
   "source": [
    "#hide\n",
    "# g['continent'] = g['continent'].map(mapping['map.continent'])"
   ]
  },
  {
   "cell_type": "code",
   "execution_count": 32,
   "id": "freelance-scout",
   "metadata": {
    "execution": {
     "iopub.execute_input": "2021-10-13T00:23:36.054755Z",
     "iopub.status.busy": "2021-10-13T00:23:36.054145Z",
     "iopub.status.idle": "2021-10-13T00:23:36.055650Z",
     "shell.execute_reply": "2021-10-13T00:23:36.056192Z"
    },
    "papermill": {
     "duration": 0.04276,
     "end_time": "2021-10-13T00:23:36.056355",
     "exception": false,
     "start_time": "2021-10-13T00:23:36.013595",
     "status": "completed"
    },
    "tags": []
   },
   "outputs": [],
   "source": [
    "#hide\n",
    "# g.head()"
   ]
  },
  {
   "cell_type": "code",
   "execution_count": 33,
   "id": "limited-engine",
   "metadata": {
    "execution": {
     "iopub.execute_input": "2021-10-13T00:23:36.131729Z",
     "iopub.status.busy": "2021-10-13T00:23:36.131020Z",
     "iopub.status.idle": "2021-10-13T00:23:36.132835Z",
     "shell.execute_reply": "2021-10-13T00:23:36.133334Z"
    },
    "papermill": {
     "duration": 0.041581,
     "end_time": "2021-10-13T00:23:36.133477",
     "exception": false,
     "start_time": "2021-10-13T00:23:36.091896",
     "status": "completed"
    },
    "tags": []
   },
   "outputs": [],
   "source": [
    "# hide\n",
    "# g['date'] = g['date'].astype('datetime64[ns]')"
   ]
  },
  {
   "cell_type": "code",
   "execution_count": 34,
   "id": "sophisticated-supervisor",
   "metadata": {
    "execution": {
     "iopub.execute_input": "2021-10-13T00:23:36.209585Z",
     "iopub.status.busy": "2021-10-13T00:23:36.209027Z",
     "iopub.status.idle": "2021-10-13T00:23:36.210764Z",
     "shell.execute_reply": "2021-10-13T00:23:36.211178Z"
    },
    "papermill": {
     "duration": 0.042229,
     "end_time": "2021-10-13T00:23:36.211315",
     "exception": false,
     "start_time": "2021-10-13T00:23:36.169086",
     "status": "completed"
    },
    "tags": []
   },
   "outputs": [],
   "source": [
    "#hide\n",
    "# g['date'] = g.date.dt.dayofyear"
   ]
  },
  {
   "cell_type": "code",
   "execution_count": 35,
   "id": "inside-dubai",
   "metadata": {
    "execution": {
     "iopub.execute_input": "2021-10-13T00:23:36.295978Z",
     "iopub.status.busy": "2021-10-13T00:23:36.295389Z",
     "iopub.status.idle": "2021-10-13T00:23:36.298194Z",
     "shell.execute_reply": "2021-10-13T00:23:36.297567Z"
    },
    "papermill": {
     "duration": 0.047322,
     "end_time": "2021-10-13T00:23:36.298332",
     "exception": false,
     "start_time": "2021-10-13T00:23:36.251010",
     "status": "completed"
    },
    "tags": []
   },
   "outputs": [],
   "source": [
    "#hide\n",
    "# g = g.rename(columns= {'continent':'group','country':'name','cases':'value'})"
   ]
  },
  {
   "cell_type": "code",
   "execution_count": 36,
   "id": "fleet-motorcycle",
   "metadata": {
    "execution": {
     "iopub.execute_input": "2021-10-13T00:23:36.383746Z",
     "iopub.status.busy": "2021-10-13T00:23:36.383159Z",
     "iopub.status.idle": "2021-10-13T00:23:36.385844Z",
     "shell.execute_reply": "2021-10-13T00:23:36.386329Z"
    },
    "papermill": {
     "duration": 0.046825,
     "end_time": "2021-10-13T00:23:36.386473",
     "exception": false,
     "start_time": "2021-10-13T00:23:36.339648",
     "status": "completed"
    },
    "tags": []
   },
   "outputs": [],
   "source": [
    "#hide\n",
    "# cols = ['name','group','day','value']"
   ]
  },
  {
   "cell_type": "code",
   "execution_count": 37,
   "id": "continued-sleeping",
   "metadata": {
    "execution": {
     "iopub.execute_input": "2021-10-13T00:23:36.464983Z",
     "iopub.status.busy": "2021-10-13T00:23:36.464353Z",
     "iopub.status.idle": "2021-10-13T00:23:36.467527Z",
     "shell.execute_reply": "2021-10-13T00:23:36.466958Z"
    },
    "papermill": {
     "duration": 0.043842,
     "end_time": "2021-10-13T00:23:36.467664",
     "exception": false,
     "start_time": "2021-10-13T00:23:36.423822",
     "status": "completed"
    },
    "tags": []
   },
   "outputs": [],
   "source": [
    "#hide\n",
    "# g.rename(columns= {'date':'day'},inplace = True)"
   ]
  },
  {
   "cell_type": "code",
   "execution_count": 38,
   "id": "major-fight",
   "metadata": {
    "execution": {
     "iopub.execute_input": "2021-10-13T00:23:36.545815Z",
     "iopub.status.busy": "2021-10-13T00:23:36.545182Z",
     "iopub.status.idle": "2021-10-13T00:23:36.546956Z",
     "shell.execute_reply": "2021-10-13T00:23:36.547628Z"
    },
    "papermill": {
     "duration": 0.042029,
     "end_time": "2021-10-13T00:23:36.547783",
     "exception": false,
     "start_time": "2021-10-13T00:23:36.505754",
     "status": "completed"
    },
    "tags": []
   },
   "outputs": [],
   "source": [
    "#hide\n",
    "# g = g[cols]"
   ]
  },
  {
   "cell_type": "code",
   "execution_count": 39,
   "id": "structured-mobile",
   "metadata": {
    "execution": {
     "iopub.execute_input": "2021-10-13T00:23:36.625628Z",
     "iopub.status.busy": "2021-10-13T00:23:36.625035Z",
     "iopub.status.idle": "2021-10-13T00:23:36.627062Z",
     "shell.execute_reply": "2021-10-13T00:23:36.627558Z"
    },
    "papermill": {
     "duration": 0.043682,
     "end_time": "2021-10-13T00:23:36.627692",
     "exception": false,
     "start_time": "2021-10-13T00:23:36.584010",
     "status": "completed"
    },
    "tags": []
   },
   "outputs": [],
   "source": [
    "# #hide\n",
    "# g = g[g.group.notna()]"
   ]
  },
  {
   "cell_type": "code",
   "execution_count": 40,
   "id": "determined-closing",
   "metadata": {
    "execution": {
     "iopub.execute_input": "2021-10-13T00:23:36.705442Z",
     "iopub.status.busy": "2021-10-13T00:23:36.704832Z",
     "iopub.status.idle": "2021-10-13T00:23:36.707186Z",
     "shell.execute_reply": "2021-10-13T00:23:36.706683Z"
    },
    "papermill": {
     "duration": 0.043565,
     "end_time": "2021-10-13T00:23:36.707304",
     "exception": false,
     "start_time": "2021-10-13T00:23:36.663739",
     "status": "completed"
    },
    "tags": []
   },
   "outputs": [],
   "source": [
    "# #hide\n",
    "# colors = dict(zip(\n",
    "#     [\"Oceania\", \"Europe\", \"Asia\", \"South America\", \"Middle East\", \"North America\", \"Africa\"],\n",
    "#     [\"#adb0ff\", \"#ffb3ff\", \"#90d595\", \"#e48381\", \"#aafbff\", \"#f7bb5f\", \"#eafb50\"]\n",
    "# ))\n",
    "# group_lk = g.set_index('name')['group'].to_dict()"
   ]
  },
  {
   "cell_type": "code",
   "execution_count": null,
   "id": "gross-drinking",
   "metadata": {
    "papermill": {
     "duration": 0.037478,
     "end_time": "2021-10-13T00:23:36.780510",
     "exception": false,
     "start_time": "2021-10-13T00:23:36.743032",
     "status": "completed"
    },
    "tags": []
   },
   "outputs": [],
   "source": []
  },
  {
   "cell_type": "code",
   "execution_count": 41,
   "id": "subject-macintosh",
   "metadata": {
    "execution": {
     "iopub.execute_input": "2021-10-13T00:23:36.856272Z",
     "iopub.status.busy": "2021-10-13T00:23:36.855377Z",
     "iopub.status.idle": "2021-10-13T00:23:36.856929Z",
     "shell.execute_reply": "2021-10-13T00:23:36.857392Z"
    },
    "papermill": {
     "duration": 0.04297,
     "end_time": "2021-10-13T00:23:36.857537",
     "exception": false,
     "start_time": "2021-10-13T00:23:36.814567",
     "status": "completed"
    },
    "tags": []
   },
   "outputs": [],
   "source": [
    "# #hide\n",
    "# fig, ax = plt.subplots(figsize=(15, 8))\n",
    "\n",
    "# def draw_barchart(current_day):\n",
    "#     dff = g[g['day'].eq(current_day)].sort_values(by='value', ascending=True).tail(10)\n",
    "#     ax.clear()\n",
    "#     ax.barh(dff['name'], dff['value'], color=[colors[group_lk[x]] for x in dff['name']])\n",
    "#     dx = dff['value'].max() / 200\n",
    "    \n",
    "#     for i, (value, name) in enumerate(zip(dff['value'], dff['name'])):\n",
    "#         ax.text(value-dx, i,     name,           size=14, weight=600, ha='right', va='bottom')\n",
    "#         ax.text(value-dx, i-.25, group_lk[name], size=10, color='#444444', ha='right', va='baseline')\n",
    "#         ax.text(value+dx, i,     f'{value:,.0f}',  size=14, ha='left',  va='center')\n",
    "#     ax.text(1, 0.4, current_day, transform=ax.transAxes, color='#777777', size=46, ha='right', weight=800)\n",
    "#     ax.text(0, 1.06, 'Population (thousands)', transform=ax.transAxes, size=12, color='#777777')\n",
    "#     ax.xaxis.set_major_formatter(ticker.StrMethodFormatter('{x:,.0f}'))\n",
    "#     ax.xaxis.set_ticks_position('top')\n",
    "#     ax.tick_params(axis='x', colors='#777777', labelsize=12)\n",
    "#     ax.set_yticks([])\n",
    "#     ax.margins(0, 0.01)\n",
    "#     ax.grid(which='major', axis='x', linestyle='-')\n",
    "#     ax.set_axisbelow(True)\n",
    "    \n",
    "#     ax.text(0, 1.15, 'Coronavirus',\n",
    "#             transform=ax.transAxes, size=24, weight=600, ha='left', va='top')\n",
    "# #     ax.text(1, 0, 'by @pratapvardhan; credit @jburnmurdoch', transform=ax.transAxes, color='#777777', ha='right',\n",
    "# #             bbox=dict(facecolor='white', alpha=0.8, edgecolor='white'))\n",
    "#     plt.box(False)"
   ]
  },
  {
   "cell_type": "code",
   "execution_count": 42,
   "id": "sexual-wages",
   "metadata": {
    "execution": {
     "iopub.execute_input": "2021-10-13T00:23:36.942272Z",
     "iopub.status.busy": "2021-10-13T00:23:36.941602Z",
     "iopub.status.idle": "2021-10-13T00:23:36.943961Z",
     "shell.execute_reply": "2021-10-13T00:23:36.943247Z"
    },
    "papermill": {
     "duration": 0.050175,
     "end_time": "2021-10-13T00:23:36.944103",
     "exception": false,
     "start_time": "2021-10-13T00:23:36.893928",
     "status": "completed"
    },
    "tags": []
   },
   "outputs": [],
   "source": [
    "# #hide_input\n",
    "# fig, ax = plt.subplots(figsize=(15, 8))\n",
    "# animator = animation.FuncAnimation(fig, draw_barchart, frames=range(g.day.values.min(), g.day.values.max()))\n",
    "# HTML(animator.to_jshtml())\n",
    "# # or use animator.to_html5_video() or animator.save() "
   ]
  },
  {
   "cell_type": "code",
   "execution_count": null,
   "id": "australian-container",
   "metadata": {
    "papermill": {
     "duration": 0.036552,
     "end_time": "2021-10-13T00:23:37.018361",
     "exception": false,
     "start_time": "2021-10-13T00:23:36.981809",
     "status": "completed"
    },
    "tags": []
   },
   "outputs": [],
   "source": []
  },
  {
   "cell_type": "code",
   "execution_count": null,
   "id": "mediterranean-pontiac",
   "metadata": {
    "papermill": {
     "duration": 0.034902,
     "end_time": "2021-10-13T00:23:37.095013",
     "exception": false,
     "start_time": "2021-10-13T00:23:37.060111",
     "status": "completed"
    },
    "tags": []
   },
   "outputs": [],
   "source": []
  },
  {
   "cell_type": "code",
   "execution_count": null,
   "id": "aging-legislature",
   "metadata": {
    "papermill": {
     "duration": 0.042511,
     "end_time": "2021-10-13T00:23:37.177684",
     "exception": false,
     "start_time": "2021-10-13T00:23:37.135173",
     "status": "completed"
    },
    "tags": []
   },
   "outputs": [],
   "source": []
  }
 ],
 "metadata": {
  "kernelspec": {
   "display_name": "Python 3",
   "language": "python",
   "name": "python3"
  },
  "language_info": {
   "codemirror_mode": {
    "name": "ipython",
    "version": 3
   },
   "file_extension": ".py",
   "mimetype": "text/x-python",
   "name": "python",
   "nbconvert_exporter": "python",
   "pygments_lexer": "ipython3",
   "version": "3.6.15"
  },
  "papermill": {
   "duration": 6.750549,
   "end_time": "2021-10-13T00:23:37.524163",
   "environment_variables": {},
   "exception": null,
   "input_path": "2020-03-21-covid19exp.ipynb",
   "output_path": "2020-03-21-covid19exp.ipynb",
   "parameters": {},
   "start_time": "2021-10-13T00:23:30.773614",
   "version": "2.0.0"
  }
 },
 "nbformat": 4,
 "nbformat_minor": 5
}