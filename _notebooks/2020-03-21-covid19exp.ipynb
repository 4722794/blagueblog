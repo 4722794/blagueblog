{
 "cells": [
  {
   "cell_type": "markdown",
   "id": "muslim-click",
   "metadata": {
    "papermill": {
     "duration": 0.045433,
     "end_time": "2021-11-11T12:12:39.091330",
     "exception": false,
     "start_time": "2021-11-11T12:12:39.045897",
     "status": "completed"
    },
    "tags": []
   },
   "source": [
    "# COVID-19 Case Race\n",
    "> A race chart to see rising cases around the world\n",
    "\n",
    "- author: Hargun Oberoi\n",
    "- image: images/covid-overview.png\n",
    "- hide: false\n",
    "- badges: false"
   ]
  },
  {
   "cell_type": "code",
   "execution_count": 1,
   "id": "proof-material",
   "metadata": {
    "execution": {
     "iopub.execute_input": "2021-11-11T12:12:39.184965Z",
     "iopub.status.busy": "2021-11-11T12:12:39.184271Z",
     "iopub.status.idle": "2021-11-11T12:12:39.575902Z",
     "shell.execute_reply": "2021-11-11T12:12:39.575127Z"
    },
    "papermill": {
     "duration": 0.443362,
     "end_time": "2021-11-11T12:12:39.576079",
     "exception": false,
     "start_time": "2021-11-11T12:12:39.132717",
     "status": "completed"
    },
    "tags": []
   },
   "outputs": [],
   "source": [
    "#hide\n",
    "import numpy as np\n",
    "import pandas as pd\n",
    "from jinja2 import Template\n",
    "from IPython.display import HTML"
   ]
  },
  {
   "cell_type": "code",
   "execution_count": 2,
   "id": "developed-terminology",
   "metadata": {
    "execution": {
     "iopub.execute_input": "2021-11-11T12:12:39.664883Z",
     "iopub.status.busy": "2021-11-11T12:12:39.664039Z",
     "iopub.status.idle": "2021-11-11T12:12:39.668175Z",
     "shell.execute_reply": "2021-11-11T12:12:39.667491Z"
    },
    "papermill": {
     "duration": 0.052251,
     "end_time": "2021-11-11T12:12:39.668339",
     "exception": false,
     "start_time": "2021-11-11T12:12:39.616088",
     "status": "completed"
    },
    "tags": []
   },
   "outputs": [],
   "source": [
    "#hide\n",
    "\n",
    "# FETCH\n",
    "base_url = 'https://raw.githubusercontent.com/pratapvardhan/notebooks/master/covid19/'\n",
    "paths = {\n",
    "    'mapping': base_url + 'mapping_countries.csv',\n",
    "    'overview': base_url + 'overview.tpl'\n",
    "}"
   ]
  },
  {
   "cell_type": "code",
   "execution_count": 3,
   "id": "dynamic-saver",
   "metadata": {
    "execution": {
     "iopub.execute_input": "2021-11-11T12:12:39.770198Z",
     "iopub.status.busy": "2021-11-11T12:12:39.765931Z",
     "iopub.status.idle": "2021-11-11T12:12:39.772689Z",
     "shell.execute_reply": "2021-11-11T12:12:39.773411Z"
    },
    "papermill": {
     "duration": 0.064875,
     "end_time": "2021-11-11T12:12:39.773577",
     "exception": false,
     "start_time": "2021-11-11T12:12:39.708702",
     "status": "completed"
    },
    "tags": []
   },
   "outputs": [
    {
     "data": {
      "text/plain": [
       "'https://raw.githubusercontent.com/pratapvardhan/notebooks/master/covid19/mapping_countries.csv'"
      ]
     },
     "execution_count": 3,
     "metadata": {},
     "output_type": "execute_result"
    }
   ],
   "source": [
    "#hide\n",
    "paths['mapping']"
   ]
  },
  {
   "cell_type": "code",
   "execution_count": 4,
   "id": "urban-software",
   "metadata": {
    "execution": {
     "iopub.execute_input": "2021-11-11T12:12:39.861290Z",
     "iopub.status.busy": "2021-11-11T12:12:39.860529Z",
     "iopub.status.idle": "2021-11-11T12:12:39.864251Z",
     "shell.execute_reply": "2021-11-11T12:12:39.863611Z"
    },
    "papermill": {
     "duration": 0.050049,
     "end_time": "2021-11-11T12:12:39.864400",
     "exception": false,
     "start_time": "2021-11-11T12:12:39.814351",
     "status": "completed"
    },
    "tags": []
   },
   "outputs": [],
   "source": [
    "#hide\n",
    "def get_mappings(url):\n",
    "    df = pd.read_csv(url)\n",
    "    return {\n",
    "        'df': df,\n",
    "        'replace.country': dict(df.dropna(subset=['Name']).set_index('Country')['Name']),\n",
    "        'map.continent': dict(df.set_index('Name')['Continent'])\n",
    "    }"
   ]
  },
  {
   "cell_type": "code",
   "execution_count": 5,
   "id": "intimate-machinery",
   "metadata": {
    "execution": {
     "iopub.execute_input": "2021-11-11T12:12:39.948231Z",
     "iopub.status.busy": "2021-11-11T12:12:39.947589Z",
     "iopub.status.idle": "2021-11-11T12:12:39.995514Z",
     "shell.execute_reply": "2021-11-11T12:12:39.994078Z"
    },
    "papermill": {
     "duration": 0.092406,
     "end_time": "2021-11-11T12:12:39.995677",
     "exception": false,
     "start_time": "2021-11-11T12:12:39.903271",
     "status": "completed"
    },
    "tags": []
   },
   "outputs": [],
   "source": [
    "#hide\n",
    "mapping = get_mappings(paths['mapping'])"
   ]
  },
  {
   "cell_type": "code",
   "execution_count": 6,
   "id": "certified-tactics",
   "metadata": {
    "execution": {
     "iopub.execute_input": "2021-11-11T12:12:40.082945Z",
     "iopub.status.busy": "2021-11-11T12:12:40.082139Z",
     "iopub.status.idle": "2021-11-11T12:12:40.084140Z",
     "shell.execute_reply": "2021-11-11T12:12:40.083590Z"
    },
    "papermill": {
     "duration": 0.04847,
     "end_time": "2021-11-11T12:12:40.084270",
     "exception": false,
     "start_time": "2021-11-11T12:12:40.035800",
     "status": "completed"
    },
    "tags": []
   },
   "outputs": [],
   "source": [
    "#hide\n",
    "def get_template(path):\n",
    "    from urllib.parse import urlparse\n",
    "    if bool(urlparse(path).netloc):\n",
    "        from urllib.request import urlopen\n",
    "        return urlopen(path).read().decode('utf8')\n",
    "    return open(path).read()"
   ]
  },
  {
   "cell_type": "code",
   "execution_count": 7,
   "id": "realistic-blast",
   "metadata": {
    "execution": {
     "iopub.execute_input": "2021-11-11T12:12:40.170690Z",
     "iopub.status.busy": "2021-11-11T12:12:40.170030Z",
     "iopub.status.idle": "2021-11-11T12:12:40.172787Z",
     "shell.execute_reply": "2021-11-11T12:12:40.172176Z"
    },
    "papermill": {
     "duration": 0.048048,
     "end_time": "2021-11-11T12:12:40.172917",
     "exception": false,
     "start_time": "2021-11-11T12:12:40.124869",
     "status": "completed"
    },
    "tags": []
   },
   "outputs": [],
   "source": [
    "#hide\n",
    "def get_frame(name):\n",
    "    url = (\n",
    "        'https://raw.githubusercontent.com/CSSEGISandData/COVID-19/master/csse_covid_19_data/'\n",
    "        f'csse_covid_19_time_series/time_series_covid19_{name}_global.csv')\n",
    "    df = pd.read_csv(url)\n",
    "    # rename countries\n",
    "    df['Country/Region'] = df['Country/Region'].replace(mapping['replace.country'])\n",
    "    return df"
   ]
  },
  {
   "cell_type": "code",
   "execution_count": 8,
   "id": "affiliated-characterization",
   "metadata": {
    "execution": {
     "iopub.execute_input": "2021-11-11T12:12:40.259908Z",
     "iopub.status.busy": "2021-11-11T12:12:40.259217Z",
     "iopub.status.idle": "2021-11-11T12:12:40.261644Z",
     "shell.execute_reply": "2021-11-11T12:12:40.261129Z"
    },
    "papermill": {
     "duration": 0.050063,
     "end_time": "2021-11-11T12:12:40.261767",
     "exception": false,
     "start_time": "2021-11-11T12:12:40.211704",
     "status": "completed"
    },
    "tags": []
   },
   "outputs": [],
   "source": [
    "#hide\n",
    "def get_dates(df):\n",
    "    dt_cols = df.columns[~df.columns.isin(['Province/State', 'Country/Region', 'Lat', 'Long'])]\n",
    "    LAST_DATE_I = -1\n",
    "    # sometimes last column may be empty, then go backwards\n",
    "    for i in range(-1, -len(dt_cols), -1):\n",
    "        if not df[dt_cols[i]].fillna(0).eq(0).all():\n",
    "            LAST_DATE_I = i\n",
    "            break\n",
    "    return LAST_DATE_I, dt_cols"
   ]
  },
  {
   "cell_type": "code",
   "execution_count": 9,
   "id": "recent-optimization",
   "metadata": {
    "execution": {
     "iopub.execute_input": "2021-11-11T12:12:40.346932Z",
     "iopub.status.busy": "2021-11-11T12:12:40.346295Z",
     "iopub.status.idle": "2021-11-11T12:12:40.819091Z",
     "shell.execute_reply": "2021-11-11T12:12:40.818484Z"
    },
    "papermill": {
     "duration": 0.519689,
     "end_time": "2021-11-11T12:12:40.819239",
     "exception": false,
     "start_time": "2021-11-11T12:12:40.299550",
     "status": "completed"
    },
    "tags": []
   },
   "outputs": [],
   "source": [
    "#hide\n",
    "COL_REGION = 'Country/Region'\n",
    "# Confirmed, Recovered, Deaths\n",
    "df = get_frame('confirmed')\n",
    "# dft_: timeseries, dfc_: today country agg\n",
    "dft_cases = df\n",
    "dft_deaths = get_frame('deaths')\n",
    "dft_recovered = get_frame('recovered')\n",
    "LAST_DATE_I, dt_cols = get_dates(df)"
   ]
  },
  {
   "cell_type": "code",
   "execution_count": 10,
   "id": "absolute-copper",
   "metadata": {
    "execution": {
     "iopub.execute_input": "2021-11-11T12:12:40.906589Z",
     "iopub.status.busy": "2021-11-11T12:12:40.905908Z",
     "iopub.status.idle": "2021-11-11T12:12:40.910917Z",
     "shell.execute_reply": "2021-11-11T12:12:40.910036Z"
    },
    "papermill": {
     "duration": 0.050865,
     "end_time": "2021-11-11T12:12:40.911062",
     "exception": false,
     "start_time": "2021-11-11T12:12:40.860197",
     "status": "completed"
    },
    "tags": []
   },
   "outputs": [],
   "source": [
    "#hide\n",
    "LAST_DATE_I, dt_cols = get_dates(df)\n",
    "dt_today =dt_cols[LAST_DATE_I]\n",
    "# dt_5day = dt_cols[LAST_DATE_I - 5]\n",
    "dt_yday = dt_cols[LAST_DATE_I - 1]"
   ]
  },
  {
   "cell_type": "code",
   "execution_count": 11,
   "id": "restricted-sheriff",
   "metadata": {
    "execution": {
     "iopub.execute_input": "2021-11-11T12:12:41.001546Z",
     "iopub.status.busy": "2021-11-11T12:12:41.000585Z",
     "iopub.status.idle": "2021-11-11T12:12:41.010481Z",
     "shell.execute_reply": "2021-11-11T12:12:41.009784Z"
    },
    "papermill": {
     "duration": 0.059881,
     "end_time": "2021-11-11T12:12:41.010646",
     "exception": false,
     "start_time": "2021-11-11T12:12:40.950765",
     "status": "completed"
    },
    "tags": []
   },
   "outputs": [],
   "source": [
    "#hide\n",
    "dfc_cases = dft_cases.groupby(COL_REGION)[dt_today].sum()\n",
    "dfc_deaths = dft_deaths.groupby(COL_REGION)[dt_today].sum()\n",
    "# dfp_cases = dft_cases.groupby(COL_REGION)[dt_5day].sum()\n",
    "# dfp_deaths = dft_deaths.groupby(COL_REGION)[dt_5day].sum()\n",
    "dfp_cases = dft_cases.groupby(COL_REGION)[dt_yday].sum()\n",
    "dfp_deaths = dft_deaths.groupby(COL_REGION)[dt_yday].sum()"
   ]
  },
  {
   "cell_type": "code",
   "execution_count": 12,
   "id": "deluxe-hepatitis",
   "metadata": {
    "execution": {
     "iopub.execute_input": "2021-11-11T12:12:41.099198Z",
     "iopub.status.busy": "2021-11-11T12:12:41.098488Z",
     "iopub.status.idle": "2021-11-11T12:12:41.103665Z",
     "shell.execute_reply": "2021-11-11T12:12:41.104313Z"
    },
    "papermill": {
     "duration": 0.052912,
     "end_time": "2021-11-11T12:12:41.104495",
     "exception": false,
     "start_time": "2021-11-11T12:12:41.051583",
     "status": "completed"
    },
    "tags": []
   },
   "outputs": [],
   "source": [
    "#hide\n",
    "df_table = (pd.DataFrame(dict(Cases = dfc_cases, Deaths = dfc_deaths, PCases = dfp_cases, PDeaths = dfp_deaths))\n",
    "            .sort_values(by = ['Cases','Deaths'], ascending = [False, False])\n",
    "            .reset_index())"
   ]
  },
  {
   "cell_type": "code",
   "execution_count": 13,
   "id": "educational-chancellor",
   "metadata": {
    "execution": {
     "iopub.execute_input": "2021-11-11T12:12:41.206764Z",
     "iopub.status.busy": "2021-11-11T12:12:41.206089Z",
     "iopub.status.idle": "2021-11-11T12:12:41.215226Z",
     "shell.execute_reply": "2021-11-11T12:12:41.215733Z"
    },
    "papermill": {
     "duration": 0.07193,
     "end_time": "2021-11-11T12:12:41.215892",
     "exception": false,
     "start_time": "2021-11-11T12:12:41.143962",
     "status": "completed"
    },
    "tags": []
   },
   "outputs": [
    {
     "data": {
      "text/html": [
       "<div>\n",
       "<style scoped>\n",
       "    .dataframe tbody tr th:only-of-type {\n",
       "        vertical-align: middle;\n",
       "    }\n",
       "\n",
       "    .dataframe tbody tr th {\n",
       "        vertical-align: top;\n",
       "    }\n",
       "\n",
       "    .dataframe thead th {\n",
       "        text-align: right;\n",
       "    }\n",
       "</style>\n",
       "<table border=\"1\" class=\"dataframe\">\n",
       "  <thead>\n",
       "    <tr style=\"text-align: right;\">\n",
       "      <th></th>\n",
       "      <th>Country/Region</th>\n",
       "      <th>Cases</th>\n",
       "      <th>Deaths</th>\n",
       "      <th>PCases</th>\n",
       "      <th>PDeaths</th>\n",
       "      <th>Cases (+)</th>\n",
       "      <th>Deaths (+)</th>\n",
       "      <th>Fatality Rate</th>\n",
       "      <th>Continent</th>\n",
       "    </tr>\n",
       "  </thead>\n",
       "  <tbody>\n",
       "    <tr>\n",
       "      <th>0</th>\n",
       "      <td>US</td>\n",
       "      <td>46789031</td>\n",
       "      <td>758916</td>\n",
       "      <td>46693102</td>\n",
       "      <td>757291</td>\n",
       "      <td>95929</td>\n",
       "      <td>1625</td>\n",
       "      <td>1.62</td>\n",
       "      <td>North America</td>\n",
       "    </tr>\n",
       "    <tr>\n",
       "      <th>1</th>\n",
       "      <td>India</td>\n",
       "      <td>34401670</td>\n",
       "      <td>462189</td>\n",
       "      <td>34388579</td>\n",
       "      <td>461849</td>\n",
       "      <td>13091</td>\n",
       "      <td>340</td>\n",
       "      <td>1.34</td>\n",
       "      <td>Asia</td>\n",
       "    </tr>\n",
       "    <tr>\n",
       "      <th>2</th>\n",
       "      <td>Brazil</td>\n",
       "      <td>21909298</td>\n",
       "      <td>610036</td>\n",
       "      <td>21897025</td>\n",
       "      <td>609756</td>\n",
       "      <td>12273</td>\n",
       "      <td>280</td>\n",
       "      <td>2.78</td>\n",
       "      <td>South America</td>\n",
       "    </tr>\n",
       "    <tr>\n",
       "      <th>3</th>\n",
       "      <td>United Kingdom</td>\n",
       "      <td>9451884</td>\n",
       "      <td>142772</td>\n",
       "      <td>9412185</td>\n",
       "      <td>142556</td>\n",
       "      <td>39699</td>\n",
       "      <td>216</td>\n",
       "      <td>1.51</td>\n",
       "      <td>Europe</td>\n",
       "    </tr>\n",
       "    <tr>\n",
       "      <th>4</th>\n",
       "      <td>Russia</td>\n",
       "      <td>8764713</td>\n",
       "      <td>245794</td>\n",
       "      <td>8727817</td>\n",
       "      <td>244588</td>\n",
       "      <td>36896</td>\n",
       "      <td>1206</td>\n",
       "      <td>2.80</td>\n",
       "      <td>Europe</td>\n",
       "    </tr>\n",
       "  </tbody>\n",
       "</table>\n",
       "</div>"
      ],
      "text/plain": [
       "   Country/Region     Cases  Deaths    PCases  PDeaths  Cases (+)  Deaths (+)  \\\n",
       "0              US  46789031  758916  46693102   757291      95929        1625   \n",
       "1           India  34401670  462189  34388579   461849      13091         340   \n",
       "2          Brazil  21909298  610036  21897025   609756      12273         280   \n",
       "3  United Kingdom   9451884  142772   9412185   142556      39699         216   \n",
       "4          Russia   8764713  245794   8727817   244588      36896        1206   \n",
       "\n",
       "   Fatality Rate      Continent  \n",
       "0           1.62  North America  \n",
       "1           1.34           Asia  \n",
       "2           2.78  South America  \n",
       "3           1.51         Europe  \n",
       "4           2.80         Europe  "
      ]
     },
     "execution_count": 13,
     "metadata": {},
     "output_type": "execute_result"
    }
   ],
   "source": [
    "#hide\n",
    "for c in 'Cases, Deaths'.split(', '):\n",
    "    df_table[f'{c} (+)'] = (df_table[c] - df_table[f'P{c}']).clip(0)\n",
    "    #Clip ça veut dire, les chiffres negatif sont interdit\n",
    "df_table['Fatality Rate'] = (100* df_table['Deaths']/ df_table['Cases']).round(2)\n",
    "df_table['Continent'] = df_table['Country/Region'].map(mapping['map.continent'])\n",
    "df_table.head(5)"
   ]
  },
  {
   "cell_type": "code",
   "execution_count": 14,
   "id": "aboriginal-bulgaria",
   "metadata": {
    "execution": {
     "iopub.execute_input": "2021-11-11T12:12:41.300737Z",
     "iopub.status.busy": "2021-11-11T12:12:41.300087Z",
     "iopub.status.idle": "2021-11-11T12:12:41.303050Z",
     "shell.execute_reply": "2021-11-11T12:12:41.303638Z"
    },
    "papermill": {
     "duration": 0.048537,
     "end_time": "2021-11-11T12:12:41.303780",
     "exception": false,
     "start_time": "2021-11-11T12:12:41.255243",
     "status": "completed"
    },
    "tags": []
   },
   "outputs": [],
   "source": [
    "#hide\n",
    "#delete problematic countries from table\n",
    "df_table = df_table[~df_table['Country/Region'].isin(['Cape Verde', 'Cruise Ship', 'Kosovo'])]"
   ]
  },
  {
   "cell_type": "code",
   "execution_count": 15,
   "id": "fantastic-effect",
   "metadata": {
    "execution": {
     "iopub.execute_input": "2021-11-11T12:12:41.394561Z",
     "iopub.status.busy": "2021-11-11T12:12:41.393847Z",
     "iopub.status.idle": "2021-11-11T12:12:41.418236Z",
     "shell.execute_reply": "2021-11-11T12:12:41.419022Z"
    },
    "papermill": {
     "duration": 0.076349,
     "end_time": "2021-11-11T12:12:41.419208",
     "exception": false,
     "start_time": "2021-11-11T12:12:41.342859",
     "status": "completed"
    },
    "tags": []
   },
   "outputs": [
    {
     "data": {
      "text/html": [
       "<div>\n",
       "<style scoped>\n",
       "    .dataframe tbody tr th:only-of-type {\n",
       "        vertical-align: middle;\n",
       "    }\n",
       "\n",
       "    .dataframe tbody tr th {\n",
       "        vertical-align: top;\n",
       "    }\n",
       "\n",
       "    .dataframe thead th {\n",
       "        text-align: right;\n",
       "    }\n",
       "</style>\n",
       "<table border=\"1\" class=\"dataframe\">\n",
       "  <thead>\n",
       "    <tr style=\"text-align: right;\">\n",
       "      <th></th>\n",
       "      <th>Country/Region</th>\n",
       "      <th>Cases</th>\n",
       "      <th>Deaths</th>\n",
       "      <th>PCases</th>\n",
       "      <th>PDeaths</th>\n",
       "      <th>Cases (+)</th>\n",
       "      <th>Deaths (+)</th>\n",
       "      <th>Fatality Rate</th>\n",
       "      <th>Continent</th>\n",
       "    </tr>\n",
       "  </thead>\n",
       "  <tbody>\n",
       "    <tr>\n",
       "      <th>0</th>\n",
       "      <td>US</td>\n",
       "      <td>46789031</td>\n",
       "      <td>758916</td>\n",
       "      <td>46693102</td>\n",
       "      <td>757291</td>\n",
       "      <td>95929</td>\n",
       "      <td>1625</td>\n",
       "      <td>1.6</td>\n",
       "      <td>North America</td>\n",
       "    </tr>\n",
       "    <tr>\n",
       "      <th>1</th>\n",
       "      <td>India</td>\n",
       "      <td>34401670</td>\n",
       "      <td>462189</td>\n",
       "      <td>34388579</td>\n",
       "      <td>461849</td>\n",
       "      <td>13091</td>\n",
       "      <td>340</td>\n",
       "      <td>1.3</td>\n",
       "      <td>Asia</td>\n",
       "    </tr>\n",
       "    <tr>\n",
       "      <th>2</th>\n",
       "      <td>Brazil</td>\n",
       "      <td>21909298</td>\n",
       "      <td>610036</td>\n",
       "      <td>21897025</td>\n",
       "      <td>609756</td>\n",
       "      <td>12273</td>\n",
       "      <td>280</td>\n",
       "      <td>2.8</td>\n",
       "      <td>South America</td>\n",
       "    </tr>\n",
       "    <tr>\n",
       "      <th>3</th>\n",
       "      <td>United Kingdom</td>\n",
       "      <td>9451884</td>\n",
       "      <td>142772</td>\n",
       "      <td>9412185</td>\n",
       "      <td>142556</td>\n",
       "      <td>39699</td>\n",
       "      <td>216</td>\n",
       "      <td>1.5</td>\n",
       "      <td>Europe</td>\n",
       "    </tr>\n",
       "    <tr>\n",
       "      <th>4</th>\n",
       "      <td>Russia</td>\n",
       "      <td>8764713</td>\n",
       "      <td>245794</td>\n",
       "      <td>8727817</td>\n",
       "      <td>244588</td>\n",
       "      <td>36896</td>\n",
       "      <td>1206</td>\n",
       "      <td>2.8</td>\n",
       "      <td>Europe</td>\n",
       "    </tr>\n",
       "  </tbody>\n",
       "</table>\n",
       "</div>"
      ],
      "text/plain": [
       "   Country/Region     Cases  Deaths    PCases  PDeaths  Cases (+)  Deaths (+)  \\\n",
       "0              US  46789031  758916  46693102   757291      95929        1625   \n",
       "1           India  34401670  462189  34388579   461849      13091         340   \n",
       "2          Brazil  21909298  610036  21897025   609756      12273         280   \n",
       "3  United Kingdom   9451884  142772   9412185   142556      39699         216   \n",
       "4          Russia   8764713  245794   8727817   244588      36896        1206   \n",
       "\n",
       "   Fatality Rate      Continent  \n",
       "0            1.6  North America  \n",
       "1            1.3           Asia  \n",
       "2            2.8  South America  \n",
       "3            1.5         Europe  \n",
       "4            2.8         Europe  "
      ]
     },
     "execution_count": 15,
     "metadata": {},
     "output_type": "execute_result"
    }
   ],
   "source": [
    "#hide\n",
    "df_table = (pd.DataFrame(dict(Cases=dfc_cases, Deaths=dfc_deaths, PCases=dfp_cases, PDeaths=dfp_deaths))\n",
    "             .sort_values(by=['Cases', 'Deaths'], ascending=[False, False])\n",
    "             .reset_index())\n",
    "df_table.rename(columns={'index': 'Country/Region'}, inplace=True)\n",
    "for c in 'Cases, Deaths'.split(', '):\n",
    "    df_table[f'{c} (+)'] = (df_table[c] - df_table[f'P{c}']).clip(0)  # DATA BUG\n",
    "df_table['Fatality Rate'] = (100 * df_table['Deaths'] / df_table['Cases']).round(1)\n",
    "df_table['Continent'] = df_table['Country/Region'].map(mapping['map.continent'])\n",
    "df_table.head(5)"
   ]
  },
  {
   "cell_type": "code",
   "execution_count": 16,
   "id": "fewer-occasion",
   "metadata": {
    "execution": {
     "iopub.execute_input": "2021-11-11T12:12:41.508636Z",
     "iopub.status.busy": "2021-11-11T12:12:41.507983Z",
     "iopub.status.idle": "2021-11-11T12:12:41.511220Z",
     "shell.execute_reply": "2021-11-11T12:12:41.511810Z"
    },
    "papermill": {
     "duration": 0.054722,
     "end_time": "2021-11-11T12:12:41.511950",
     "exception": false,
     "start_time": "2021-11-11T12:12:41.457228",
     "status": "completed"
    },
    "tags": []
   },
   "outputs": [],
   "source": [
    "#hide\n",
    "#delete problematic countries from table\n",
    "df_table = df_table[~df_table['Country/Region'].isin(['Cape Verde', 'Cruise Ship', 'Kosovo'])]"
   ]
  },
  {
   "cell_type": "code",
   "execution_count": 17,
   "id": "related-center",
   "metadata": {
    "execution": {
     "iopub.execute_input": "2021-11-11T12:12:41.614195Z",
     "iopub.status.busy": "2021-11-11T12:12:41.613332Z",
     "iopub.status.idle": "2021-11-11T12:12:41.616395Z",
     "shell.execute_reply": "2021-11-11T12:12:41.615168Z"
    },
    "papermill": {
     "duration": 0.06536,
     "end_time": "2021-11-11T12:12:41.616556",
     "exception": false,
     "start_time": "2021-11-11T12:12:41.551196",
     "status": "completed"
    },
    "tags": []
   },
   "outputs": [],
   "source": [
    "#hide\n",
    "metrics = [df_table.columns[index] for index in [1,2,5,6]]\n",
    "# s_china = df_table[df_table['Country/Region'].eq('China')][metrics].sum().add_prefix('China ')\n",
    "s_us = df_table[df_table['Country/Region'].eq('US')][metrics].sum().add_prefix('US ')\n",
    "s_eu = df_table[df_table['Continent'].eq('Europe')][metrics].sum().add_prefix('EU ')\n",
    "s_ind = df_table[df_table['Country/Region'].eq('India')][metrics].sum().add_prefix('India ')\n",
    "summary = {'updated': pd.to_datetime(dt_today), 'since': pd.to_datetime(dt_yday)}\n",
    "summary = {'updated': pd.to_datetime(dt_today), 'since': pd.to_datetime(dt_yday)}\n",
    "summary = {**summary, **df_table[metrics].sum(), **s_ind, **s_us, **s_eu}"
   ]
  },
  {
   "cell_type": "code",
   "execution_count": 18,
   "id": "engaging-syndrome",
   "metadata": {
    "execution": {
     "iopub.execute_input": "2021-11-11T12:12:41.702081Z",
     "iopub.status.busy": "2021-11-11T12:12:41.701370Z",
     "iopub.status.idle": "2021-11-11T12:12:41.719292Z",
     "shell.execute_reply": "2021-11-11T12:12:41.718620Z"
    },
    "papermill": {
     "duration": 0.062628,
     "end_time": "2021-11-11T12:12:41.719484",
     "exception": false,
     "start_time": "2021-11-11T12:12:41.656856",
     "status": "completed"
    },
    "tags": []
   },
   "outputs": [],
   "source": [
    "#hide\n",
    "dft_ct_new_cases = dft_cases.groupby(COL_REGION)[dt_cols].sum().diff(axis=1).fillna(0).astype(int)"
   ]
  },
  {
   "cell_type": "code",
   "execution_count": 19,
   "id": "neutral-assignment",
   "metadata": {
    "execution": {
     "iopub.execute_input": "2021-11-11T12:12:41.812724Z",
     "iopub.status.busy": "2021-11-11T12:12:41.811621Z",
     "iopub.status.idle": "2021-11-11T12:12:41.815467Z",
     "shell.execute_reply": "2021-11-11T12:12:41.816115Z"
    },
    "papermill": {
     "duration": 0.056894,
     "end_time": "2021-11-11T12:12:41.816300",
     "exception": false,
     "start_time": "2021-11-11T12:12:41.759406",
     "status": "completed"
    },
    "tags": []
   },
   "outputs": [],
   "source": [
    "#hide\n",
    "everydaycases = dft_ct_new_cases.cumsum(axis=1)"
   ]
  },
  {
   "cell_type": "code",
   "execution_count": 20,
   "id": "parliamentary-calgary",
   "metadata": {
    "execution": {
     "iopub.execute_input": "2021-11-11T12:12:41.908524Z",
     "iopub.status.busy": "2021-11-11T12:12:41.907733Z",
     "iopub.status.idle": "2021-11-11T12:12:42.751987Z",
     "shell.execute_reply": "2021-11-11T12:12:42.751376Z"
    },
    "papermill": {
     "duration": 0.892229,
     "end_time": "2021-11-11T12:12:42.752138",
     "exception": false,
     "start_time": "2021-11-11T12:12:41.859909",
     "status": "completed"
    },
    "tags": []
   },
   "outputs": [],
   "source": [
    "#hide\n",
    "import pandas as pd\n",
    "import matplotlib.pyplot as plt\n",
    "import matplotlib.ticker as ticker\n",
    "import matplotlib.animation as animation\n",
    "from IPython.display import HTML"
   ]
  },
  {
   "cell_type": "code",
   "execution_count": 21,
   "id": "lasting-extraction",
   "metadata": {
    "execution": {
     "iopub.execute_input": "2021-11-11T12:12:42.844370Z",
     "iopub.status.busy": "2021-11-11T12:12:42.843651Z",
     "iopub.status.idle": "2021-11-11T12:12:42.850540Z",
     "shell.execute_reply": "2021-11-11T12:12:42.849938Z"
    },
    "papermill": {
     "duration": 0.057971,
     "end_time": "2021-11-11T12:12:42.850683",
     "exception": false,
     "start_time": "2021-11-11T12:12:42.792712",
     "status": "completed"
    },
    "tags": []
   },
   "outputs": [],
   "source": [
    "#hide\n",
    "t = everydaycases.stack()"
   ]
  },
  {
   "cell_type": "code",
   "execution_count": 22,
   "id": "premier-sleeve",
   "metadata": {
    "execution": {
     "iopub.execute_input": "2021-11-11T12:12:42.935225Z",
     "iopub.status.busy": "2021-11-11T12:12:42.934563Z",
     "iopub.status.idle": "2021-11-11T12:12:42.944201Z",
     "shell.execute_reply": "2021-11-11T12:12:42.944773Z"
    },
    "papermill": {
     "duration": 0.05449,
     "end_time": "2021-11-11T12:12:42.944917",
     "exception": false,
     "start_time": "2021-11-11T12:12:42.890427",
     "status": "completed"
    },
    "tags": []
   },
   "outputs": [],
   "source": [
    "#hide\n",
    "g = t.reset_index(['Country/Region'])"
   ]
  },
  {
   "cell_type": "code",
   "execution_count": 23,
   "id": "distributed-pittsburgh",
   "metadata": {
    "execution": {
     "iopub.execute_input": "2021-11-11T12:12:43.030232Z",
     "iopub.status.busy": "2021-11-11T12:12:43.029315Z",
     "iopub.status.idle": "2021-11-11T12:12:43.033861Z",
     "shell.execute_reply": "2021-11-11T12:12:43.034387Z"
    },
    "papermill": {
     "duration": 0.04869,
     "end_time": "2021-11-11T12:12:43.034533",
     "exception": false,
     "start_time": "2021-11-11T12:12:42.985843",
     "status": "completed"
    },
    "tags": []
   },
   "outputs": [],
   "source": [
    "#hide\n",
    "g.index.name = 'date'"
   ]
  },
  {
   "cell_type": "code",
   "execution_count": 24,
   "id": "naked-donor",
   "metadata": {
    "execution": {
     "iopub.execute_input": "2021-11-11T12:12:43.117566Z",
     "iopub.status.busy": "2021-11-11T12:12:43.115908Z",
     "iopub.status.idle": "2021-11-11T12:12:43.118380Z",
     "shell.execute_reply": "2021-11-11T12:12:43.118953Z"
    },
    "papermill": {
     "duration": 0.043084,
     "end_time": "2021-11-11T12:12:43.119092",
     "exception": false,
     "start_time": "2021-11-11T12:12:43.076008",
     "status": "completed"
    },
    "tags": []
   },
   "outputs": [],
   "source": [
    "# #hide\n",
    "# g = g.reset_index(['date'])"
   ]
  },
  {
   "cell_type": "code",
   "execution_count": 25,
   "id": "incomplete-mustang",
   "metadata": {
    "execution": {
     "iopub.execute_input": "2021-11-11T12:12:43.206367Z",
     "iopub.status.busy": "2021-11-11T12:12:43.205178Z",
     "iopub.status.idle": "2021-11-11T12:12:43.208645Z",
     "shell.execute_reply": "2021-11-11T12:12:43.208106Z"
    },
    "papermill": {
     "duration": 0.047981,
     "end_time": "2021-11-11T12:12:43.208775",
     "exception": false,
     "start_time": "2021-11-11T12:12:43.160794",
     "status": "completed"
    },
    "tags": []
   },
   "outputs": [],
   "source": [
    "#hide\n",
    "# g.head()"
   ]
  },
  {
   "cell_type": "code",
   "execution_count": 26,
   "id": "specific-kruger",
   "metadata": {
    "execution": {
     "iopub.execute_input": "2021-11-11T12:12:43.297463Z",
     "iopub.status.busy": "2021-11-11T12:12:43.296732Z",
     "iopub.status.idle": "2021-11-11T12:12:43.302388Z",
     "shell.execute_reply": "2021-11-11T12:12:43.301809Z"
    },
    "papermill": {
     "duration": 0.053378,
     "end_time": "2021-11-11T12:12:43.302562",
     "exception": false,
     "start_time": "2021-11-11T12:12:43.249184",
     "status": "completed"
    },
    "tags": []
   },
   "outputs": [],
   "source": [
    "#hide\n",
    "# g.columns = ['date','country','cases']"
   ]
  },
  {
   "cell_type": "code",
   "execution_count": 27,
   "id": "tender-conversion",
   "metadata": {
    "execution": {
     "iopub.execute_input": "2021-11-11T12:12:43.388174Z",
     "iopub.status.busy": "2021-11-11T12:12:43.387450Z",
     "iopub.status.idle": "2021-11-11T12:12:43.390239Z",
     "shell.execute_reply": "2021-11-11T12:12:43.389650Z"
    },
    "papermill": {
     "duration": 0.047066,
     "end_time": "2021-11-11T12:12:43.390392",
     "exception": false,
     "start_time": "2021-11-11T12:12:43.343326",
     "status": "completed"
    },
    "tags": []
   },
   "outputs": [],
   "source": [
    "#hide\n",
    "# g['continent'] = g.country"
   ]
  },
  {
   "cell_type": "code",
   "execution_count": 28,
   "id": "substantial-wilderness",
   "metadata": {
    "execution": {
     "iopub.execute_input": "2021-11-11T12:12:43.482067Z",
     "iopub.status.busy": "2021-11-11T12:12:43.481451Z",
     "iopub.status.idle": "2021-11-11T12:12:43.483419Z",
     "shell.execute_reply": "2021-11-11T12:12:43.484000Z"
    },
    "papermill": {
     "duration": 0.049752,
     "end_time": "2021-11-11T12:12:43.484177",
     "exception": false,
     "start_time": "2021-11-11T12:12:43.434425",
     "status": "completed"
    },
    "tags": []
   },
   "outputs": [],
   "source": [
    "#hide\n",
    "# cols = list(g.columns.values)"
   ]
  },
  {
   "cell_type": "code",
   "execution_count": 29,
   "id": "solved-farming",
   "metadata": {
    "execution": {
     "iopub.execute_input": "2021-11-11T12:12:43.572182Z",
     "iopub.status.busy": "2021-11-11T12:12:43.571503Z",
     "iopub.status.idle": "2021-11-11T12:12:43.574164Z",
     "shell.execute_reply": "2021-11-11T12:12:43.573659Z"
    },
    "papermill": {
     "duration": 0.047907,
     "end_time": "2021-11-11T12:12:43.574293",
     "exception": false,
     "start_time": "2021-11-11T12:12:43.526386",
     "status": "completed"
    },
    "tags": []
   },
   "outputs": [],
   "source": [
    "#hide\n",
    "# cols.insert(0, cols.pop())"
   ]
  },
  {
   "cell_type": "code",
   "execution_count": 30,
   "id": "executed-adoption",
   "metadata": {
    "execution": {
     "iopub.execute_input": "2021-11-11T12:12:43.658758Z",
     "iopub.status.busy": "2021-11-11T12:12:43.657861Z",
     "iopub.status.idle": "2021-11-11T12:12:43.662126Z",
     "shell.execute_reply": "2021-11-11T12:12:43.662617Z"
    },
    "papermill": {
     "duration": 0.04889,
     "end_time": "2021-11-11T12:12:43.662767",
     "exception": false,
     "start_time": "2021-11-11T12:12:43.613877",
     "status": "completed"
    },
    "tags": []
   },
   "outputs": [],
   "source": [
    "#hide\n",
    "# g = g[cols]"
   ]
  },
  {
   "cell_type": "code",
   "execution_count": 31,
   "id": "subject-dublin",
   "metadata": {
    "execution": {
     "iopub.execute_input": "2021-11-11T12:12:43.748154Z",
     "iopub.status.busy": "2021-11-11T12:12:43.747335Z",
     "iopub.status.idle": "2021-11-11T12:12:43.750795Z",
     "shell.execute_reply": "2021-11-11T12:12:43.750272Z"
    },
    "papermill": {
     "duration": 0.049572,
     "end_time": "2021-11-11T12:12:43.750926",
     "exception": false,
     "start_time": "2021-11-11T12:12:43.701354",
     "status": "completed"
    },
    "tags": []
   },
   "outputs": [],
   "source": [
    "#hide\n",
    "# g['continent'] = g['continent'].map(mapping['map.continent'])"
   ]
  },
  {
   "cell_type": "code",
   "execution_count": 32,
   "id": "freelance-scout",
   "metadata": {
    "execution": {
     "iopub.execute_input": "2021-11-11T12:12:43.833150Z",
     "iopub.status.busy": "2021-11-11T12:12:43.832256Z",
     "iopub.status.idle": "2021-11-11T12:12:43.834899Z",
     "shell.execute_reply": "2021-11-11T12:12:43.834303Z"
    },
    "papermill": {
     "duration": 0.044944,
     "end_time": "2021-11-11T12:12:43.835022",
     "exception": false,
     "start_time": "2021-11-11T12:12:43.790078",
     "status": "completed"
    },
    "tags": []
   },
   "outputs": [],
   "source": [
    "#hide\n",
    "# g.head()"
   ]
  },
  {
   "cell_type": "code",
   "execution_count": 33,
   "id": "limited-engine",
   "metadata": {
    "execution": {
     "iopub.execute_input": "2021-11-11T12:12:43.927121Z",
     "iopub.status.busy": "2021-11-11T12:12:43.926450Z",
     "iopub.status.idle": "2021-11-11T12:12:43.930854Z",
     "shell.execute_reply": "2021-11-11T12:12:43.930273Z"
    },
    "papermill": {
     "duration": 0.049268,
     "end_time": "2021-11-11T12:12:43.930991",
     "exception": false,
     "start_time": "2021-11-11T12:12:43.881723",
     "status": "completed"
    },
    "tags": []
   },
   "outputs": [],
   "source": [
    "# hide\n",
    "# g['date'] = g['date'].astype('datetime64[ns]')"
   ]
  },
  {
   "cell_type": "code",
   "execution_count": 34,
   "id": "sophisticated-supervisor",
   "metadata": {
    "execution": {
     "iopub.execute_input": "2021-11-11T12:12:44.019248Z",
     "iopub.status.busy": "2021-11-11T12:12:44.018373Z",
     "iopub.status.idle": "2021-11-11T12:12:44.020541Z",
     "shell.execute_reply": "2021-11-11T12:12:44.021095Z"
    },
    "papermill": {
     "duration": 0.047609,
     "end_time": "2021-11-11T12:12:44.021259",
     "exception": false,
     "start_time": "2021-11-11T12:12:43.973650",
     "status": "completed"
    },
    "tags": []
   },
   "outputs": [],
   "source": [
    "#hide\n",
    "# g['date'] = g.date.dt.dayofyear"
   ]
  },
  {
   "cell_type": "code",
   "execution_count": 35,
   "id": "inside-dubai",
   "metadata": {
    "execution": {
     "iopub.execute_input": "2021-11-11T12:12:44.106349Z",
     "iopub.status.busy": "2021-11-11T12:12:44.105748Z",
     "iopub.status.idle": "2021-11-11T12:12:44.110640Z",
     "shell.execute_reply": "2021-11-11T12:12:44.110061Z"
    },
    "papermill": {
     "duration": 0.047931,
     "end_time": "2021-11-11T12:12:44.110793",
     "exception": false,
     "start_time": "2021-11-11T12:12:44.062862",
     "status": "completed"
    },
    "tags": []
   },
   "outputs": [],
   "source": [
    "#hide\n",
    "# g = g.rename(columns= {'continent':'group','country':'name','cases':'value'})"
   ]
  },
  {
   "cell_type": "code",
   "execution_count": 36,
   "id": "fleet-motorcycle",
   "metadata": {
    "execution": {
     "iopub.execute_input": "2021-11-11T12:12:44.195317Z",
     "iopub.status.busy": "2021-11-11T12:12:44.194570Z",
     "iopub.status.idle": "2021-11-11T12:12:44.196929Z",
     "shell.execute_reply": "2021-11-11T12:12:44.196194Z"
    },
    "papermill": {
     "duration": 0.047829,
     "end_time": "2021-11-11T12:12:44.197065",
     "exception": false,
     "start_time": "2021-11-11T12:12:44.149236",
     "status": "completed"
    },
    "tags": []
   },
   "outputs": [],
   "source": [
    "#hide\n",
    "# cols = ['name','group','day','value']"
   ]
  },
  {
   "cell_type": "code",
   "execution_count": 37,
   "id": "continued-sleeping",
   "metadata": {
    "execution": {
     "iopub.execute_input": "2021-11-11T12:12:44.278402Z",
     "iopub.status.busy": "2021-11-11T12:12:44.277771Z",
     "iopub.status.idle": "2021-11-11T12:12:44.281175Z",
     "shell.execute_reply": "2021-11-11T12:12:44.281644Z"
    },
    "papermill": {
     "duration": 0.044044,
     "end_time": "2021-11-11T12:12:44.281774",
     "exception": false,
     "start_time": "2021-11-11T12:12:44.237730",
     "status": "completed"
    },
    "tags": []
   },
   "outputs": [],
   "source": [
    "#hide\n",
    "# g.rename(columns= {'date':'day'},inplace = True)"
   ]
  },
  {
   "cell_type": "code",
   "execution_count": 38,
   "id": "major-fight",
   "metadata": {
    "execution": {
     "iopub.execute_input": "2021-11-11T12:12:44.368033Z",
     "iopub.status.busy": "2021-11-11T12:12:44.367414Z",
     "iopub.status.idle": "2021-11-11T12:12:44.370137Z",
     "shell.execute_reply": "2021-11-11T12:12:44.369420Z"
    },
    "papermill": {
     "duration": 0.046525,
     "end_time": "2021-11-11T12:12:44.370265",
     "exception": false,
     "start_time": "2021-11-11T12:12:44.323740",
     "status": "completed"
    },
    "tags": []
   },
   "outputs": [],
   "source": [
    "#hide\n",
    "# g = g[cols]"
   ]
  },
  {
   "cell_type": "code",
   "execution_count": 39,
   "id": "structured-mobile",
   "metadata": {
    "execution": {
     "iopub.execute_input": "2021-11-11T12:12:44.452744Z",
     "iopub.status.busy": "2021-11-11T12:12:44.451923Z",
     "iopub.status.idle": "2021-11-11T12:12:44.456549Z",
     "shell.execute_reply": "2021-11-11T12:12:44.455967Z"
    },
    "papermill": {
     "duration": 0.048062,
     "end_time": "2021-11-11T12:12:44.456684",
     "exception": false,
     "start_time": "2021-11-11T12:12:44.408622",
     "status": "completed"
    },
    "tags": []
   },
   "outputs": [],
   "source": [
    "# #hide\n",
    "# g = g[g.group.notna()]"
   ]
  },
  {
   "cell_type": "code",
   "execution_count": 40,
   "id": "determined-closing",
   "metadata": {
    "execution": {
     "iopub.execute_input": "2021-11-11T12:12:44.548608Z",
     "iopub.status.busy": "2021-11-11T12:12:44.547936Z",
     "iopub.status.idle": "2021-11-11T12:12:44.550267Z",
     "shell.execute_reply": "2021-11-11T12:12:44.549669Z"
    },
    "papermill": {
     "duration": 0.055826,
     "end_time": "2021-11-11T12:12:44.550401",
     "exception": false,
     "start_time": "2021-11-11T12:12:44.494575",
     "status": "completed"
    },
    "tags": []
   },
   "outputs": [],
   "source": [
    "# #hide\n",
    "# colors = dict(zip(\n",
    "#     [\"Oceania\", \"Europe\", \"Asia\", \"South America\", \"Middle East\", \"North America\", \"Africa\"],\n",
    "#     [\"#adb0ff\", \"#ffb3ff\", \"#90d595\", \"#e48381\", \"#aafbff\", \"#f7bb5f\", \"#eafb50\"]\n",
    "# ))\n",
    "# group_lk = g.set_index('name')['group'].to_dict()"
   ]
  },
  {
   "cell_type": "code",
   "execution_count": null,
   "id": "gross-drinking",
   "metadata": {
    "papermill": {
     "duration": 0.038606,
     "end_time": "2021-11-11T12:12:44.626365",
     "exception": false,
     "start_time": "2021-11-11T12:12:44.587759",
     "status": "completed"
    },
    "tags": []
   },
   "outputs": [],
   "source": []
  },
  {
   "cell_type": "code",
   "execution_count": 41,
   "id": "subject-macintosh",
   "metadata": {
    "execution": {
     "iopub.execute_input": "2021-11-11T12:12:44.717189Z",
     "iopub.status.busy": "2021-11-11T12:12:44.716427Z",
     "iopub.status.idle": "2021-11-11T12:12:44.719323Z",
     "shell.execute_reply": "2021-11-11T12:12:44.718462Z"
    },
    "papermill": {
     "duration": 0.049787,
     "end_time": "2021-11-11T12:12:44.719503",
     "exception": false,
     "start_time": "2021-11-11T12:12:44.669716",
     "status": "completed"
    },
    "tags": []
   },
   "outputs": [],
   "source": [
    "# #hide\n",
    "# fig, ax = plt.subplots(figsize=(15, 8))\n",
    "\n",
    "# def draw_barchart(current_day):\n",
    "#     dff = g[g['day'].eq(current_day)].sort_values(by='value', ascending=True).tail(10)\n",
    "#     ax.clear()\n",
    "#     ax.barh(dff['name'], dff['value'], color=[colors[group_lk[x]] for x in dff['name']])\n",
    "#     dx = dff['value'].max() / 200\n",
    "    \n",
    "#     for i, (value, name) in enumerate(zip(dff['value'], dff['name'])):\n",
    "#         ax.text(value-dx, i,     name,           size=14, weight=600, ha='right', va='bottom')\n",
    "#         ax.text(value-dx, i-.25, group_lk[name], size=10, color='#444444', ha='right', va='baseline')\n",
    "#         ax.text(value+dx, i,     f'{value:,.0f}',  size=14, ha='left',  va='center')\n",
    "#     ax.text(1, 0.4, current_day, transform=ax.transAxes, color='#777777', size=46, ha='right', weight=800)\n",
    "#     ax.text(0, 1.06, 'Population (thousands)', transform=ax.transAxes, size=12, color='#777777')\n",
    "#     ax.xaxis.set_major_formatter(ticker.StrMethodFormatter('{x:,.0f}'))\n",
    "#     ax.xaxis.set_ticks_position('top')\n",
    "#     ax.tick_params(axis='x', colors='#777777', labelsize=12)\n",
    "#     ax.set_yticks([])\n",
    "#     ax.margins(0, 0.01)\n",
    "#     ax.grid(which='major', axis='x', linestyle='-')\n",
    "#     ax.set_axisbelow(True)\n",
    "    \n",
    "#     ax.text(0, 1.15, 'Coronavirus',\n",
    "#             transform=ax.transAxes, size=24, weight=600, ha='left', va='top')\n",
    "# #     ax.text(1, 0, 'by @pratapvardhan; credit @jburnmurdoch', transform=ax.transAxes, color='#777777', ha='right',\n",
    "# #             bbox=dict(facecolor='white', alpha=0.8, edgecolor='white'))\n",
    "#     plt.box(False)"
   ]
  },
  {
   "cell_type": "code",
   "execution_count": 42,
   "id": "sexual-wages",
   "metadata": {
    "execution": {
     "iopub.execute_input": "2021-11-11T12:12:44.811351Z",
     "iopub.status.busy": "2021-11-11T12:12:44.810658Z",
     "iopub.status.idle": "2021-11-11T12:12:44.814928Z",
     "shell.execute_reply": "2021-11-11T12:12:44.814373Z"
    },
    "papermill": {
     "duration": 0.050977,
     "end_time": "2021-11-11T12:12:44.815061",
     "exception": false,
     "start_time": "2021-11-11T12:12:44.764084",
     "status": "completed"
    },
    "tags": []
   },
   "outputs": [],
   "source": [
    "# #hide_input\n",
    "# fig, ax = plt.subplots(figsize=(15, 8))\n",
    "# animator = animation.FuncAnimation(fig, draw_barchart, frames=range(g.day.values.min(), g.day.values.max()))\n",
    "# HTML(animator.to_jshtml())\n",
    "# # or use animator.to_html5_video() or animator.save() "
   ]
  },
  {
   "cell_type": "code",
   "execution_count": null,
   "id": "australian-container",
   "metadata": {
    "papermill": {
     "duration": 0.042337,
     "end_time": "2021-11-11T12:12:44.898314",
     "exception": false,
     "start_time": "2021-11-11T12:12:44.855977",
     "status": "completed"
    },
    "tags": []
   },
   "outputs": [],
   "source": []
  },
  {
   "cell_type": "code",
   "execution_count": null,
   "id": "mediterranean-pontiac",
   "metadata": {
    "papermill": {
     "duration": 0.042207,
     "end_time": "2021-11-11T12:12:44.982395",
     "exception": false,
     "start_time": "2021-11-11T12:12:44.940188",
     "status": "completed"
    },
    "tags": []
   },
   "outputs": [],
   "source": []
  },
  {
   "cell_type": "code",
   "execution_count": null,
   "id": "aging-legislature",
   "metadata": {
    "papermill": {
     "duration": 0.040469,
     "end_time": "2021-11-11T12:12:45.063713",
     "exception": false,
     "start_time": "2021-11-11T12:12:45.023244",
     "status": "completed"
    },
    "tags": []
   },
   "outputs": [],
   "source": []
  }
 ],
 "metadata": {
  "kernelspec": {
   "display_name": "Python 3",
   "language": "python",
   "name": "python3"
  },
  "language_info": {
   "codemirror_mode": {
    "name": "ipython",
    "version": 3
   },
   "file_extension": ".py",
   "mimetype": "text/x-python",
   "name": "python",
   "nbconvert_exporter": "python",
   "pygments_lexer": "ipython3",
   "version": "3.6.15"
  },
  "papermill": {
   "duration": 7.912914,
   "end_time": "2021-11-11T12:12:45.517920",
   "environment_variables": {},
   "exception": null,
   "input_path": "2020-03-21-covid19exp.ipynb",
   "output_path": "2020-03-21-covid19exp.ipynb",
   "parameters": {},
   "start_time": "2021-11-11T12:12:37.605006",
   "version": "2.0.0"
  }
 },
 "nbformat": 4,
 "nbformat_minor": 5
}