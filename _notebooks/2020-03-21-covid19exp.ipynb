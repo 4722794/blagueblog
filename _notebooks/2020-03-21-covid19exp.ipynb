{
 "cells": [
  {
   "cell_type": "markdown",
   "id": "muslim-click",
   "metadata": {
    "papermill": {
     "duration": 0.044498,
     "end_time": "2021-12-01T12:13:08.478180",
     "exception": false,
     "start_time": "2021-12-01T12:13:08.433682",
     "status": "completed"
    },
    "tags": []
   },
   "source": [
    "# COVID-19 Case Race\n",
    "> A race chart to see rising cases around the world\n",
    "\n",
    "- author: Hargun Oberoi\n",
    "- image: images/covid-overview.png\n",
    "- hide: false\n",
    "- badges: false"
   ]
  },
  {
   "cell_type": "code",
   "execution_count": 1,
   "id": "proof-material",
   "metadata": {
    "execution": {
     "iopub.execute_input": "2021-12-01T12:13:08.566535Z",
     "iopub.status.busy": "2021-12-01T12:13:08.565843Z",
     "iopub.status.idle": "2021-12-01T12:13:08.990703Z",
     "shell.execute_reply": "2021-12-01T12:13:08.991239Z"
    },
    "papermill": {
     "duration": 0.475178,
     "end_time": "2021-12-01T12:13:08.991488",
     "exception": false,
     "start_time": "2021-12-01T12:13:08.516310",
     "status": "completed"
    },
    "tags": []
   },
   "outputs": [],
   "source": [
    "#hide\n",
    "import numpy as np\n",
    "import pandas as pd\n",
    "from jinja2 import Template\n",
    "from IPython.display import HTML"
   ]
  },
  {
   "cell_type": "code",
   "execution_count": 2,
   "id": "developed-terminology",
   "metadata": {
    "execution": {
     "iopub.execute_input": "2021-12-01T12:13:09.077262Z",
     "iopub.status.busy": "2021-12-01T12:13:09.076547Z",
     "iopub.status.idle": "2021-12-01T12:13:09.079450Z",
     "shell.execute_reply": "2021-12-01T12:13:09.078789Z"
    },
    "papermill": {
     "duration": 0.0484,
     "end_time": "2021-12-01T12:13:09.079603",
     "exception": false,
     "start_time": "2021-12-01T12:13:09.031203",
     "status": "completed"
    },
    "tags": []
   },
   "outputs": [],
   "source": [
    "#hide\n",
    "\n",
    "# FETCH\n",
    "base_url = 'https://raw.githubusercontent.com/pratapvardhan/notebooks/master/covid19/'\n",
    "paths = {\n",
    "    'mapping': base_url + 'mapping_countries.csv',\n",
    "    'overview': base_url + 'overview.tpl'\n",
    "}"
   ]
  },
  {
   "cell_type": "code",
   "execution_count": 3,
   "id": "dynamic-saver",
   "metadata": {
    "execution": {
     "iopub.execute_input": "2021-12-01T12:13:09.165620Z",
     "iopub.status.busy": "2021-12-01T12:13:09.162591Z",
     "iopub.status.idle": "2021-12-01T12:13:09.169742Z",
     "shell.execute_reply": "2021-12-01T12:13:09.168973Z"
    },
    "papermill": {
     "duration": 0.052153,
     "end_time": "2021-12-01T12:13:09.169955",
     "exception": false,
     "start_time": "2021-12-01T12:13:09.117802",
     "status": "completed"
    },
    "tags": []
   },
   "outputs": [
    {
     "data": {
      "text/plain": [
       "'https://raw.githubusercontent.com/pratapvardhan/notebooks/master/covid19/mapping_countries.csv'"
      ]
     },
     "execution_count": 3,
     "metadata": {},
     "output_type": "execute_result"
    }
   ],
   "source": [
    "#hide\n",
    "paths['mapping']"
   ]
  },
  {
   "cell_type": "code",
   "execution_count": 4,
   "id": "urban-software",
   "metadata": {
    "execution": {
     "iopub.execute_input": "2021-12-01T12:13:09.254639Z",
     "iopub.status.busy": "2021-12-01T12:13:09.254067Z",
     "iopub.status.idle": "2021-12-01T12:13:09.257709Z",
     "shell.execute_reply": "2021-12-01T12:13:09.257262Z"
    },
    "papermill": {
     "duration": 0.049034,
     "end_time": "2021-12-01T12:13:09.257828",
     "exception": false,
     "start_time": "2021-12-01T12:13:09.208794",
     "status": "completed"
    },
    "tags": []
   },
   "outputs": [],
   "source": [
    "#hide\n",
    "def get_mappings(url):\n",
    "    df = pd.read_csv(url)\n",
    "    return {\n",
    "        'df': df,\n",
    "        'replace.country': dict(df.dropna(subset=['Name']).set_index('Country')['Name']),\n",
    "        'map.continent': dict(df.set_index('Name')['Continent'])\n",
    "    }"
   ]
  },
  {
   "cell_type": "code",
   "execution_count": 5,
   "id": "intimate-machinery",
   "metadata": {
    "execution": {
     "iopub.execute_input": "2021-12-01T12:13:09.337933Z",
     "iopub.status.busy": "2021-12-01T12:13:09.337291Z",
     "iopub.status.idle": "2021-12-01T12:13:09.389658Z",
     "shell.execute_reply": "2021-12-01T12:13:09.382950Z"
    },
    "papermill": {
     "duration": 0.095139,
     "end_time": "2021-12-01T12:13:09.389810",
     "exception": false,
     "start_time": "2021-12-01T12:13:09.294671",
     "status": "completed"
    },
    "tags": []
   },
   "outputs": [],
   "source": [
    "#hide\n",
    "mapping = get_mappings(paths['mapping'])"
   ]
  },
  {
   "cell_type": "code",
   "execution_count": 6,
   "id": "certified-tactics",
   "metadata": {
    "execution": {
     "iopub.execute_input": "2021-12-01T12:13:09.479218Z",
     "iopub.status.busy": "2021-12-01T12:13:09.478469Z",
     "iopub.status.idle": "2021-12-01T12:13:09.482850Z",
     "shell.execute_reply": "2021-12-01T12:13:09.482239Z"
    },
    "papermill": {
     "duration": 0.050847,
     "end_time": "2021-12-01T12:13:09.482999",
     "exception": false,
     "start_time": "2021-12-01T12:13:09.432152",
     "status": "completed"
    },
    "tags": []
   },
   "outputs": [],
   "source": [
    "#hide\n",
    "def get_template(path):\n",
    "    from urllib.parse import urlparse\n",
    "    if bool(urlparse(path).netloc):\n",
    "        from urllib.request import urlopen\n",
    "        return urlopen(path).read().decode('utf8')\n",
    "    return open(path).read()"
   ]
  },
  {
   "cell_type": "code",
   "execution_count": 7,
   "id": "realistic-blast",
   "metadata": {
    "execution": {
     "iopub.execute_input": "2021-12-01T12:13:09.577260Z",
     "iopub.status.busy": "2021-12-01T12:13:09.575150Z",
     "iopub.status.idle": "2021-12-01T12:13:09.578131Z",
     "shell.execute_reply": "2021-12-01T12:13:09.578641Z"
    },
    "papermill": {
     "duration": 0.053194,
     "end_time": "2021-12-01T12:13:09.578789",
     "exception": false,
     "start_time": "2021-12-01T12:13:09.525595",
     "status": "completed"
    },
    "tags": []
   },
   "outputs": [],
   "source": [
    "#hide\n",
    "def get_frame(name):\n",
    "    url = (\n",
    "        'https://raw.githubusercontent.com/CSSEGISandData/COVID-19/master/csse_covid_19_data/'\n",
    "        f'csse_covid_19_time_series/time_series_covid19_{name}_global.csv')\n",
    "    df = pd.read_csv(url)\n",
    "    # rename countries\n",
    "    df['Country/Region'] = df['Country/Region'].replace(mapping['replace.country'])\n",
    "    return df"
   ]
  },
  {
   "cell_type": "code",
   "execution_count": 8,
   "id": "affiliated-characterization",
   "metadata": {
    "execution": {
     "iopub.execute_input": "2021-12-01T12:13:09.663799Z",
     "iopub.status.busy": "2021-12-01T12:13:09.663170Z",
     "iopub.status.idle": "2021-12-01T12:13:09.665668Z",
     "shell.execute_reply": "2021-12-01T12:13:09.665054Z"
    },
    "papermill": {
     "duration": 0.048682,
     "end_time": "2021-12-01T12:13:09.665802",
     "exception": false,
     "start_time": "2021-12-01T12:13:09.617120",
     "status": "completed"
    },
    "tags": []
   },
   "outputs": [],
   "source": [
    "#hide\n",
    "def get_dates(df):\n",
    "    dt_cols = df.columns[~df.columns.isin(['Province/State', 'Country/Region', 'Lat', 'Long'])]\n",
    "    LAST_DATE_I = -1\n",
    "    # sometimes last column may be empty, then go backwards\n",
    "    for i in range(-1, -len(dt_cols), -1):\n",
    "        if not df[dt_cols[i]].fillna(0).eq(0).all():\n",
    "            LAST_DATE_I = i\n",
    "            break\n",
    "    return LAST_DATE_I, dt_cols"
   ]
  },
  {
   "cell_type": "code",
   "execution_count": 9,
   "id": "recent-optimization",
   "metadata": {
    "execution": {
     "iopub.execute_input": "2021-12-01T12:13:09.750395Z",
     "iopub.status.busy": "2021-12-01T12:13:09.749509Z",
     "iopub.status.idle": "2021-12-01T12:13:10.213595Z",
     "shell.execute_reply": "2021-12-01T12:13:10.212933Z"
    },
    "papermill": {
     "duration": 0.508897,
     "end_time": "2021-12-01T12:13:10.213932",
     "exception": false,
     "start_time": "2021-12-01T12:13:09.705035",
     "status": "completed"
    },
    "tags": []
   },
   "outputs": [],
   "source": [
    "#hide\n",
    "COL_REGION = 'Country/Region'\n",
    "# Confirmed, Recovered, Deaths\n",
    "df = get_frame('confirmed')\n",
    "# dft_: timeseries, dfc_: today country agg\n",
    "dft_cases = df\n",
    "dft_deaths = get_frame('deaths')\n",
    "dft_recovered = get_frame('recovered')\n",
    "LAST_DATE_I, dt_cols = get_dates(df)"
   ]
  },
  {
   "cell_type": "code",
   "execution_count": 10,
   "id": "absolute-copper",
   "metadata": {
    "execution": {
     "iopub.execute_input": "2021-12-01T12:13:10.300426Z",
     "iopub.status.busy": "2021-12-01T12:13:10.299826Z",
     "iopub.status.idle": "2021-12-01T12:13:10.302345Z",
     "shell.execute_reply": "2021-12-01T12:13:10.301823Z"
    },
    "papermill": {
     "duration": 0.049189,
     "end_time": "2021-12-01T12:13:10.302472",
     "exception": false,
     "start_time": "2021-12-01T12:13:10.253283",
     "status": "completed"
    },
    "tags": []
   },
   "outputs": [],
   "source": [
    "#hide\n",
    "LAST_DATE_I, dt_cols = get_dates(df)\n",
    "dt_today =dt_cols[LAST_DATE_I]\n",
    "# dt_5day = dt_cols[LAST_DATE_I - 5]\n",
    "dt_yday = dt_cols[LAST_DATE_I - 1]"
   ]
  },
  {
   "cell_type": "code",
   "execution_count": 11,
   "id": "restricted-sheriff",
   "metadata": {
    "execution": {
     "iopub.execute_input": "2021-12-01T12:13:10.390051Z",
     "iopub.status.busy": "2021-12-01T12:13:10.389366Z",
     "iopub.status.idle": "2021-12-01T12:13:10.396383Z",
     "shell.execute_reply": "2021-12-01T12:13:10.396970Z"
    },
    "papermill": {
     "duration": 0.055796,
     "end_time": "2021-12-01T12:13:10.397108",
     "exception": false,
     "start_time": "2021-12-01T12:13:10.341312",
     "status": "completed"
    },
    "tags": []
   },
   "outputs": [],
   "source": [
    "#hide\n",
    "dfc_cases = dft_cases.groupby(COL_REGION)[dt_today].sum()\n",
    "dfc_deaths = dft_deaths.groupby(COL_REGION)[dt_today].sum()\n",
    "# dfp_cases = dft_cases.groupby(COL_REGION)[dt_5day].sum()\n",
    "# dfp_deaths = dft_deaths.groupby(COL_REGION)[dt_5day].sum()\n",
    "dfp_cases = dft_cases.groupby(COL_REGION)[dt_yday].sum()\n",
    "dfp_deaths = dft_deaths.groupby(COL_REGION)[dt_yday].sum()"
   ]
  },
  {
   "cell_type": "code",
   "execution_count": 12,
   "id": "deluxe-hepatitis",
   "metadata": {
    "execution": {
     "iopub.execute_input": "2021-12-01T12:13:10.483699Z",
     "iopub.status.busy": "2021-12-01T12:13:10.482925Z",
     "iopub.status.idle": "2021-12-01T12:13:10.487703Z",
     "shell.execute_reply": "2021-12-01T12:13:10.487176Z"
    },
    "papermill": {
     "duration": 0.055142,
     "end_time": "2021-12-01T12:13:10.487832",
     "exception": false,
     "start_time": "2021-12-01T12:13:10.432690",
     "status": "completed"
    },
    "tags": []
   },
   "outputs": [],
   "source": [
    "#hide\n",
    "df_table = (pd.DataFrame(dict(Cases = dfc_cases, Deaths = dfc_deaths, PCases = dfp_cases, PDeaths = dfp_deaths))\n",
    "            .sort_values(by = ['Cases','Deaths'], ascending = [False, False])\n",
    "            .reset_index())"
   ]
  },
  {
   "cell_type": "code",
   "execution_count": 13,
   "id": "educational-chancellor",
   "metadata": {
    "execution": {
     "iopub.execute_input": "2021-12-01T12:13:10.670765Z",
     "iopub.status.busy": "2021-12-01T12:13:10.669900Z",
     "iopub.status.idle": "2021-12-01T12:13:10.676476Z",
     "shell.execute_reply": "2021-12-01T12:13:10.677018Z"
    },
    "papermill": {
     "duration": 0.152621,
     "end_time": "2021-12-01T12:13:10.677203",
     "exception": false,
     "start_time": "2021-12-01T12:13:10.524582",
     "status": "completed"
    },
    "tags": []
   },
   "outputs": [
    {
     "data": {
      "text/html": [
       "<div>\n",
       "<style scoped>\n",
       "    .dataframe tbody tr th:only-of-type {\n",
       "        vertical-align: middle;\n",
       "    }\n",
       "\n",
       "    .dataframe tbody tr th {\n",
       "        vertical-align: top;\n",
       "    }\n",
       "\n",
       "    .dataframe thead th {\n",
       "        text-align: right;\n",
       "    }\n",
       "</style>\n",
       "<table border=\"1\" class=\"dataframe\">\n",
       "  <thead>\n",
       "    <tr style=\"text-align: right;\">\n",
       "      <th></th>\n",
       "      <th>Country/Region</th>\n",
       "      <th>Cases</th>\n",
       "      <th>Deaths</th>\n",
       "      <th>PCases</th>\n",
       "      <th>PDeaths</th>\n",
       "      <th>Cases (+)</th>\n",
       "      <th>Deaths (+)</th>\n",
       "      <th>Fatality Rate</th>\n",
       "      <th>Continent</th>\n",
       "    </tr>\n",
       "  </thead>\n",
       "  <tbody>\n",
       "    <tr>\n",
       "      <th>0</th>\n",
       "      <td>US</td>\n",
       "      <td>48554890</td>\n",
       "      <td>780140</td>\n",
       "      <td>48438302</td>\n",
       "      <td>778601</td>\n",
       "      <td>116588</td>\n",
       "      <td>1539</td>\n",
       "      <td>1.61</td>\n",
       "      <td>North America</td>\n",
       "    </tr>\n",
       "    <tr>\n",
       "      <th>1</th>\n",
       "      <td>India</td>\n",
       "      <td>34596776</td>\n",
       "      <td>469247</td>\n",
       "      <td>34587822</td>\n",
       "      <td>468980</td>\n",
       "      <td>8954</td>\n",
       "      <td>267</td>\n",
       "      <td>1.36</td>\n",
       "      <td>Asia</td>\n",
       "    </tr>\n",
       "    <tr>\n",
       "      <th>2</th>\n",
       "      <td>Brazil</td>\n",
       "      <td>22094459</td>\n",
       "      <td>614681</td>\n",
       "      <td>22084749</td>\n",
       "      <td>614376</td>\n",
       "      <td>9710</td>\n",
       "      <td>305</td>\n",
       "      <td>2.78</td>\n",
       "      <td>South America</td>\n",
       "    </tr>\n",
       "    <tr>\n",
       "      <th>3</th>\n",
       "      <td>United Kingdom</td>\n",
       "      <td>10285745</td>\n",
       "      <td>145414</td>\n",
       "      <td>10245244</td>\n",
       "      <td>145253</td>\n",
       "      <td>40501</td>\n",
       "      <td>161</td>\n",
       "      <td>1.41</td>\n",
       "      <td>Europe</td>\n",
       "    </tr>\n",
       "    <tr>\n",
       "      <th>4</th>\n",
       "      <td>Russia</td>\n",
       "      <td>9468640</td>\n",
       "      <td>269900</td>\n",
       "      <td>9436650</td>\n",
       "      <td>268705</td>\n",
       "      <td>31990</td>\n",
       "      <td>1195</td>\n",
       "      <td>2.85</td>\n",
       "      <td>Europe</td>\n",
       "    </tr>\n",
       "  </tbody>\n",
       "</table>\n",
       "</div>"
      ],
      "text/plain": [
       "   Country/Region     Cases  Deaths    PCases  PDeaths  Cases (+)  Deaths (+)  \\\n",
       "0              US  48554890  780140  48438302   778601     116588        1539   \n",
       "1           India  34596776  469247  34587822   468980       8954         267   \n",
       "2          Brazil  22094459  614681  22084749   614376       9710         305   \n",
       "3  United Kingdom  10285745  145414  10245244   145253      40501         161   \n",
       "4          Russia   9468640  269900   9436650   268705      31990        1195   \n",
       "\n",
       "   Fatality Rate      Continent  \n",
       "0           1.61  North America  \n",
       "1           1.36           Asia  \n",
       "2           2.78  South America  \n",
       "3           1.41         Europe  \n",
       "4           2.85         Europe  "
      ]
     },
     "execution_count": 13,
     "metadata": {},
     "output_type": "execute_result"
    }
   ],
   "source": [
    "#hide\n",
    "for c in 'Cases, Deaths'.split(', '):\n",
    "    df_table[f'{c} (+)'] = (df_table[c] - df_table[f'P{c}']).clip(0)\n",
    "    #Clip ça veut dire, les chiffres negatif sont interdit\n",
    "df_table['Fatality Rate'] = (100* df_table['Deaths']/ df_table['Cases']).round(2)\n",
    "df_table['Continent'] = df_table['Country/Region'].map(mapping['map.continent'])\n",
    "df_table.head(5)"
   ]
  },
  {
   "cell_type": "code",
   "execution_count": 14,
   "id": "aboriginal-bulgaria",
   "metadata": {
    "execution": {
     "iopub.execute_input": "2021-12-01T12:13:10.763463Z",
     "iopub.status.busy": "2021-12-01T12:13:10.762773Z",
     "iopub.status.idle": "2021-12-01T12:13:10.765085Z",
     "shell.execute_reply": "2021-12-01T12:13:10.765646Z"
    },
    "papermill": {
     "duration": 0.049256,
     "end_time": "2021-12-01T12:13:10.765788",
     "exception": false,
     "start_time": "2021-12-01T12:13:10.716532",
     "status": "completed"
    },
    "tags": []
   },
   "outputs": [],
   "source": [
    "#hide\n",
    "#delete problematic countries from table\n",
    "df_table = df_table[~df_table['Country/Region'].isin(['Cape Verde', 'Cruise Ship', 'Kosovo'])]"
   ]
  },
  {
   "cell_type": "code",
   "execution_count": 15,
   "id": "fantastic-effect",
   "metadata": {
    "execution": {
     "iopub.execute_input": "2021-12-01T12:13:10.854893Z",
     "iopub.status.busy": "2021-12-01T12:13:10.853314Z",
     "iopub.status.idle": "2021-12-01T12:13:10.877459Z",
     "shell.execute_reply": "2021-12-01T12:13:10.877991Z"
    },
    "papermill": {
     "duration": 0.072477,
     "end_time": "2021-12-01T12:13:10.878163",
     "exception": false,
     "start_time": "2021-12-01T12:13:10.805686",
     "status": "completed"
    },
    "tags": []
   },
   "outputs": [
    {
     "data": {
      "text/html": [
       "<div>\n",
       "<style scoped>\n",
       "    .dataframe tbody tr th:only-of-type {\n",
       "        vertical-align: middle;\n",
       "    }\n",
       "\n",
       "    .dataframe tbody tr th {\n",
       "        vertical-align: top;\n",
       "    }\n",
       "\n",
       "    .dataframe thead th {\n",
       "        text-align: right;\n",
       "    }\n",
       "</style>\n",
       "<table border=\"1\" class=\"dataframe\">\n",
       "  <thead>\n",
       "    <tr style=\"text-align: right;\">\n",
       "      <th></th>\n",
       "      <th>Country/Region</th>\n",
       "      <th>Cases</th>\n",
       "      <th>Deaths</th>\n",
       "      <th>PCases</th>\n",
       "      <th>PDeaths</th>\n",
       "      <th>Cases (+)</th>\n",
       "      <th>Deaths (+)</th>\n",
       "      <th>Fatality Rate</th>\n",
       "      <th>Continent</th>\n",
       "    </tr>\n",
       "  </thead>\n",
       "  <tbody>\n",
       "    <tr>\n",
       "      <th>0</th>\n",
       "      <td>US</td>\n",
       "      <td>48554890</td>\n",
       "      <td>780140</td>\n",
       "      <td>48438302</td>\n",
       "      <td>778601</td>\n",
       "      <td>116588</td>\n",
       "      <td>1539</td>\n",
       "      <td>1.6</td>\n",
       "      <td>North America</td>\n",
       "    </tr>\n",
       "    <tr>\n",
       "      <th>1</th>\n",
       "      <td>India</td>\n",
       "      <td>34596776</td>\n",
       "      <td>469247</td>\n",
       "      <td>34587822</td>\n",
       "      <td>468980</td>\n",
       "      <td>8954</td>\n",
       "      <td>267</td>\n",
       "      <td>1.4</td>\n",
       "      <td>Asia</td>\n",
       "    </tr>\n",
       "    <tr>\n",
       "      <th>2</th>\n",
       "      <td>Brazil</td>\n",
       "      <td>22094459</td>\n",
       "      <td>614681</td>\n",
       "      <td>22084749</td>\n",
       "      <td>614376</td>\n",
       "      <td>9710</td>\n",
       "      <td>305</td>\n",
       "      <td>2.8</td>\n",
       "      <td>South America</td>\n",
       "    </tr>\n",
       "    <tr>\n",
       "      <th>3</th>\n",
       "      <td>United Kingdom</td>\n",
       "      <td>10285745</td>\n",
       "      <td>145414</td>\n",
       "      <td>10245244</td>\n",
       "      <td>145253</td>\n",
       "      <td>40501</td>\n",
       "      <td>161</td>\n",
       "      <td>1.4</td>\n",
       "      <td>Europe</td>\n",
       "    </tr>\n",
       "    <tr>\n",
       "      <th>4</th>\n",
       "      <td>Russia</td>\n",
       "      <td>9468640</td>\n",
       "      <td>269900</td>\n",
       "      <td>9436650</td>\n",
       "      <td>268705</td>\n",
       "      <td>31990</td>\n",
       "      <td>1195</td>\n",
       "      <td>2.9</td>\n",
       "      <td>Europe</td>\n",
       "    </tr>\n",
       "  </tbody>\n",
       "</table>\n",
       "</div>"
      ],
      "text/plain": [
       "   Country/Region     Cases  Deaths    PCases  PDeaths  Cases (+)  Deaths (+)  \\\n",
       "0              US  48554890  780140  48438302   778601     116588        1539   \n",
       "1           India  34596776  469247  34587822   468980       8954         267   \n",
       "2          Brazil  22094459  614681  22084749   614376       9710         305   \n",
       "3  United Kingdom  10285745  145414  10245244   145253      40501         161   \n",
       "4          Russia   9468640  269900   9436650   268705      31990        1195   \n",
       "\n",
       "   Fatality Rate      Continent  \n",
       "0            1.6  North America  \n",
       "1            1.4           Asia  \n",
       "2            2.8  South America  \n",
       "3            1.4         Europe  \n",
       "4            2.9         Europe  "
      ]
     },
     "execution_count": 15,
     "metadata": {},
     "output_type": "execute_result"
    }
   ],
   "source": [
    "#hide\n",
    "df_table = (pd.DataFrame(dict(Cases=dfc_cases, Deaths=dfc_deaths, PCases=dfp_cases, PDeaths=dfp_deaths))\n",
    "             .sort_values(by=['Cases', 'Deaths'], ascending=[False, False])\n",
    "             .reset_index())\n",
    "df_table.rename(columns={'index': 'Country/Region'}, inplace=True)\n",
    "for c in 'Cases, Deaths'.split(', '):\n",
    "    df_table[f'{c} (+)'] = (df_table[c] - df_table[f'P{c}']).clip(0)  # DATA BUG\n",
    "df_table['Fatality Rate'] = (100 * df_table['Deaths'] / df_table['Cases']).round(1)\n",
    "df_table['Continent'] = df_table['Country/Region'].map(mapping['map.continent'])\n",
    "df_table.head(5)"
   ]
  },
  {
   "cell_type": "code",
   "execution_count": 16,
   "id": "fewer-occasion",
   "metadata": {
    "execution": {
     "iopub.execute_input": "2021-12-01T12:13:10.965192Z",
     "iopub.status.busy": "2021-12-01T12:13:10.964434Z",
     "iopub.status.idle": "2021-12-01T12:13:10.968204Z",
     "shell.execute_reply": "2021-12-01T12:13:10.967453Z"
    },
    "papermill": {
     "duration": 0.050414,
     "end_time": "2021-12-01T12:13:10.968420",
     "exception": false,
     "start_time": "2021-12-01T12:13:10.918006",
     "status": "completed"
    },
    "tags": []
   },
   "outputs": [],
   "source": [
    "#hide\n",
    "#delete problematic countries from table\n",
    "df_table = df_table[~df_table['Country/Region'].isin(['Cape Verde', 'Cruise Ship', 'Kosovo'])]"
   ]
  },
  {
   "cell_type": "code",
   "execution_count": 17,
   "id": "related-center",
   "metadata": {
    "execution": {
     "iopub.execute_input": "2021-12-01T12:13:11.066989Z",
     "iopub.status.busy": "2021-12-01T12:13:11.066299Z",
     "iopub.status.idle": "2021-12-01T12:13:11.068990Z",
     "shell.execute_reply": "2021-12-01T12:13:11.068345Z"
    },
    "papermill": {
     "duration": 0.060606,
     "end_time": "2021-12-01T12:13:11.069154",
     "exception": false,
     "start_time": "2021-12-01T12:13:11.008548",
     "status": "completed"
    },
    "tags": []
   },
   "outputs": [],
   "source": [
    "#hide\n",
    "metrics = [df_table.columns[index] for index in [1,2,5,6]]\n",
    "# s_china = df_table[df_table['Country/Region'].eq('China')][metrics].sum().add_prefix('China ')\n",
    "s_us = df_table[df_table['Country/Region'].eq('US')][metrics].sum().add_prefix('US ')\n",
    "s_eu = df_table[df_table['Continent'].eq('Europe')][metrics].sum().add_prefix('EU ')\n",
    "s_ind = df_table[df_table['Country/Region'].eq('India')][metrics].sum().add_prefix('India ')\n",
    "summary = {'updated': pd.to_datetime(dt_today), 'since': pd.to_datetime(dt_yday)}\n",
    "summary = {'updated': pd.to_datetime(dt_today), 'since': pd.to_datetime(dt_yday)}\n",
    "summary = {**summary, **df_table[metrics].sum(), **s_ind, **s_us, **s_eu}"
   ]
  },
  {
   "cell_type": "code",
   "execution_count": 18,
   "id": "engaging-syndrome",
   "metadata": {
    "execution": {
     "iopub.execute_input": "2021-12-01T12:13:11.156488Z",
     "iopub.status.busy": "2021-12-01T12:13:11.155821Z",
     "iopub.status.idle": "2021-12-01T12:13:11.172465Z",
     "shell.execute_reply": "2021-12-01T12:13:11.171879Z"
    },
    "papermill": {
     "duration": 0.062128,
     "end_time": "2021-12-01T12:13:11.172636",
     "exception": false,
     "start_time": "2021-12-01T12:13:11.110508",
     "status": "completed"
    },
    "tags": []
   },
   "outputs": [],
   "source": [
    "#hide\n",
    "dft_ct_new_cases = dft_cases.groupby(COL_REGION)[dt_cols].sum().diff(axis=1).fillna(0).astype(int)"
   ]
  },
  {
   "cell_type": "code",
   "execution_count": 19,
   "id": "neutral-assignment",
   "metadata": {
    "execution": {
     "iopub.execute_input": "2021-12-01T12:13:11.260925Z",
     "iopub.status.busy": "2021-12-01T12:13:11.260162Z",
     "iopub.status.idle": "2021-12-01T12:13:11.262728Z",
     "shell.execute_reply": "2021-12-01T12:13:11.261971Z"
    },
    "papermill": {
     "duration": 0.048866,
     "end_time": "2021-12-01T12:13:11.262912",
     "exception": false,
     "start_time": "2021-12-01T12:13:11.214046",
     "status": "completed"
    },
    "tags": []
   },
   "outputs": [],
   "source": [
    "#hide\n",
    "everydaycases = dft_ct_new_cases.cumsum(axis=1)"
   ]
  },
  {
   "cell_type": "code",
   "execution_count": 20,
   "id": "parliamentary-calgary",
   "metadata": {
    "execution": {
     "iopub.execute_input": "2021-12-01T12:13:11.344344Z",
     "iopub.status.busy": "2021-12-01T12:13:11.343655Z",
     "iopub.status.idle": "2021-12-01T12:13:12.115775Z",
     "shell.execute_reply": "2021-12-01T12:13:12.115179Z"
    },
    "papermill": {
     "duration": 0.813589,
     "end_time": "2021-12-01T12:13:12.115952",
     "exception": false,
     "start_time": "2021-12-01T12:13:11.302363",
     "status": "completed"
    },
    "tags": []
   },
   "outputs": [],
   "source": [
    "#hide\n",
    "import pandas as pd\n",
    "import matplotlib.pyplot as plt\n",
    "import matplotlib.ticker as ticker\n",
    "import matplotlib.animation as animation\n",
    "from IPython.display import HTML"
   ]
  },
  {
   "cell_type": "code",
   "execution_count": 21,
   "id": "lasting-extraction",
   "metadata": {
    "execution": {
     "iopub.execute_input": "2021-12-01T12:13:12.200806Z",
     "iopub.status.busy": "2021-12-01T12:13:12.200126Z",
     "iopub.status.idle": "2021-12-01T12:13:12.206390Z",
     "shell.execute_reply": "2021-12-01T12:13:12.207016Z"
    },
    "papermill": {
     "duration": 0.055597,
     "end_time": "2021-12-01T12:13:12.207193",
     "exception": false,
     "start_time": "2021-12-01T12:13:12.151596",
     "status": "completed"
    },
    "tags": []
   },
   "outputs": [],
   "source": [
    "#hide\n",
    "t = everydaycases.stack()"
   ]
  },
  {
   "cell_type": "code",
   "execution_count": 22,
   "id": "premier-sleeve",
   "metadata": {
    "execution": {
     "iopub.execute_input": "2021-12-01T12:13:12.286216Z",
     "iopub.status.busy": "2021-12-01T12:13:12.284480Z",
     "iopub.status.idle": "2021-12-01T12:13:12.296620Z",
     "shell.execute_reply": "2021-12-01T12:13:12.297207Z"
    },
    "papermill": {
     "duration": 0.052823,
     "end_time": "2021-12-01T12:13:12.297364",
     "exception": false,
     "start_time": "2021-12-01T12:13:12.244541",
     "status": "completed"
    },
    "tags": []
   },
   "outputs": [],
   "source": [
    "#hide\n",
    "g = t.reset_index(['Country/Region'])"
   ]
  },
  {
   "cell_type": "code",
   "execution_count": 23,
   "id": "distributed-pittsburgh",
   "metadata": {
    "execution": {
     "iopub.execute_input": "2021-12-01T12:13:12.372069Z",
     "iopub.status.busy": "2021-12-01T12:13:12.371257Z",
     "iopub.status.idle": "2021-12-01T12:13:12.375240Z",
     "shell.execute_reply": "2021-12-01T12:13:12.375923Z"
    },
    "papermill": {
     "duration": 0.045481,
     "end_time": "2021-12-01T12:13:12.376204",
     "exception": false,
     "start_time": "2021-12-01T12:13:12.330723",
     "status": "completed"
    },
    "tags": []
   },
   "outputs": [],
   "source": [
    "#hide\n",
    "g.index.name = 'date'"
   ]
  },
  {
   "cell_type": "code",
   "execution_count": 24,
   "id": "naked-donor",
   "metadata": {
    "execution": {
     "iopub.execute_input": "2021-12-01T12:13:12.457888Z",
     "iopub.status.busy": "2021-12-01T12:13:12.457114Z",
     "iopub.status.idle": "2021-12-01T12:13:12.459031Z",
     "shell.execute_reply": "2021-12-01T12:13:12.459606Z"
    },
    "papermill": {
     "duration": 0.045516,
     "end_time": "2021-12-01T12:13:12.459796",
     "exception": false,
     "start_time": "2021-12-01T12:13:12.414280",
     "status": "completed"
    },
    "tags": []
   },
   "outputs": [],
   "source": [
    "# #hide\n",
    "# g = g.reset_index(['date'])"
   ]
  },
  {
   "cell_type": "code",
   "execution_count": 25,
   "id": "incomplete-mustang",
   "metadata": {
    "execution": {
     "iopub.execute_input": "2021-12-01T12:13:12.538688Z",
     "iopub.status.busy": "2021-12-01T12:13:12.538132Z",
     "iopub.status.idle": "2021-12-01T12:13:12.539901Z",
     "shell.execute_reply": "2021-12-01T12:13:12.540315Z"
    },
    "papermill": {
     "duration": 0.041725,
     "end_time": "2021-12-01T12:13:12.540461",
     "exception": false,
     "start_time": "2021-12-01T12:13:12.498736",
     "status": "completed"
    },
    "tags": []
   },
   "outputs": [],
   "source": [
    "#hide\n",
    "# g.head()"
   ]
  },
  {
   "cell_type": "code",
   "execution_count": 26,
   "id": "specific-kruger",
   "metadata": {
    "execution": {
     "iopub.execute_input": "2021-12-01T12:13:12.615077Z",
     "iopub.status.busy": "2021-12-01T12:13:12.614499Z",
     "iopub.status.idle": "2021-12-01T12:13:12.617023Z",
     "shell.execute_reply": "2021-12-01T12:13:12.616561Z"
    },
    "papermill": {
     "duration": 0.041492,
     "end_time": "2021-12-01T12:13:12.617134",
     "exception": false,
     "start_time": "2021-12-01T12:13:12.575642",
     "status": "completed"
    },
    "tags": []
   },
   "outputs": [],
   "source": [
    "#hide\n",
    "# g.columns = ['date','country','cases']"
   ]
  },
  {
   "cell_type": "code",
   "execution_count": 27,
   "id": "tender-conversion",
   "metadata": {
    "execution": {
     "iopub.execute_input": "2021-12-01T12:13:12.695351Z",
     "iopub.status.busy": "2021-12-01T12:13:12.694756Z",
     "iopub.status.idle": "2021-12-01T12:13:12.696973Z",
     "shell.execute_reply": "2021-12-01T12:13:12.696387Z"
    },
    "papermill": {
     "duration": 0.042567,
     "end_time": "2021-12-01T12:13:12.697094",
     "exception": false,
     "start_time": "2021-12-01T12:13:12.654527",
     "status": "completed"
    },
    "tags": []
   },
   "outputs": [],
   "source": [
    "#hide\n",
    "# g['continent'] = g.country"
   ]
  },
  {
   "cell_type": "code",
   "execution_count": 28,
   "id": "substantial-wilderness",
   "metadata": {
    "execution": {
     "iopub.execute_input": "2021-12-01T12:13:12.775293Z",
     "iopub.status.busy": "2021-12-01T12:13:12.774488Z",
     "iopub.status.idle": "2021-12-01T12:13:12.779268Z",
     "shell.execute_reply": "2021-12-01T12:13:12.778580Z"
    },
    "papermill": {
     "duration": 0.045419,
     "end_time": "2021-12-01T12:13:12.779389",
     "exception": false,
     "start_time": "2021-12-01T12:13:12.733970",
     "status": "completed"
    },
    "tags": []
   },
   "outputs": [],
   "source": [
    "#hide\n",
    "# cols = list(g.columns.values)"
   ]
  },
  {
   "cell_type": "code",
   "execution_count": 29,
   "id": "solved-farming",
   "metadata": {
    "execution": {
     "iopub.execute_input": "2021-12-01T12:13:12.859971Z",
     "iopub.status.busy": "2021-12-01T12:13:12.859305Z",
     "iopub.status.idle": "2021-12-01T12:13:12.862089Z",
     "shell.execute_reply": "2021-12-01T12:13:12.861488Z"
    },
    "papermill": {
     "duration": 0.045986,
     "end_time": "2021-12-01T12:13:12.862230",
     "exception": false,
     "start_time": "2021-12-01T12:13:12.816244",
     "status": "completed"
    },
    "tags": []
   },
   "outputs": [],
   "source": [
    "#hide\n",
    "# cols.insert(0, cols.pop())"
   ]
  },
  {
   "cell_type": "code",
   "execution_count": 30,
   "id": "executed-adoption",
   "metadata": {
    "execution": {
     "iopub.execute_input": "2021-12-01T12:13:12.945404Z",
     "iopub.status.busy": "2021-12-01T12:13:12.944654Z",
     "iopub.status.idle": "2021-12-01T12:13:12.946773Z",
     "shell.execute_reply": "2021-12-01T12:13:12.947251Z"
    },
    "papermill": {
     "duration": 0.045757,
     "end_time": "2021-12-01T12:13:12.947404",
     "exception": false,
     "start_time": "2021-12-01T12:13:12.901647",
     "status": "completed"
    },
    "tags": []
   },
   "outputs": [],
   "source": [
    "#hide\n",
    "# g = g[cols]"
   ]
  },
  {
   "cell_type": "code",
   "execution_count": 31,
   "id": "subject-dublin",
   "metadata": {
    "execution": {
     "iopub.execute_input": "2021-12-01T12:13:13.029174Z",
     "iopub.status.busy": "2021-12-01T12:13:13.028459Z",
     "iopub.status.idle": "2021-12-01T12:13:13.032421Z",
     "shell.execute_reply": "2021-12-01T12:13:13.032901Z"
    },
    "papermill": {
     "duration": 0.047791,
     "end_time": "2021-12-01T12:13:13.033047",
     "exception": false,
     "start_time": "2021-12-01T12:13:12.985256",
     "status": "completed"
    },
    "tags": []
   },
   "outputs": [],
   "source": [
    "#hide\n",
    "# g['continent'] = g['continent'].map(mapping['map.continent'])"
   ]
  },
  {
   "cell_type": "code",
   "execution_count": 32,
   "id": "freelance-scout",
   "metadata": {
    "execution": {
     "iopub.execute_input": "2021-12-01T12:13:13.114757Z",
     "iopub.status.busy": "2021-12-01T12:13:13.114080Z",
     "iopub.status.idle": "2021-12-01T12:13:13.117028Z",
     "shell.execute_reply": "2021-12-01T12:13:13.116360Z"
    },
    "papermill": {
     "duration": 0.049038,
     "end_time": "2021-12-01T12:13:13.117171",
     "exception": false,
     "start_time": "2021-12-01T12:13:13.068133",
     "status": "completed"
    },
    "tags": []
   },
   "outputs": [],
   "source": [
    "#hide\n",
    "# g.head()"
   ]
  },
  {
   "cell_type": "code",
   "execution_count": 33,
   "id": "limited-engine",
   "metadata": {
    "execution": {
     "iopub.execute_input": "2021-12-01T12:13:13.203247Z",
     "iopub.status.busy": "2021-12-01T12:13:13.202628Z",
     "iopub.status.idle": "2021-12-01T12:13:13.206510Z",
     "shell.execute_reply": "2021-12-01T12:13:13.207160Z"
    },
    "papermill": {
     "duration": 0.047993,
     "end_time": "2021-12-01T12:13:13.207350",
     "exception": false,
     "start_time": "2021-12-01T12:13:13.159357",
     "status": "completed"
    },
    "tags": []
   },
   "outputs": [],
   "source": [
    "# hide\n",
    "# g['date'] = g['date'].astype('datetime64[ns]')"
   ]
  },
  {
   "cell_type": "code",
   "execution_count": 34,
   "id": "sophisticated-supervisor",
   "metadata": {
    "execution": {
     "iopub.execute_input": "2021-12-01T12:13:13.290106Z",
     "iopub.status.busy": "2021-12-01T12:13:13.289461Z",
     "iopub.status.idle": "2021-12-01T12:13:13.291779Z",
     "shell.execute_reply": "2021-12-01T12:13:13.291238Z"
    },
    "papermill": {
     "duration": 0.043872,
     "end_time": "2021-12-01T12:13:13.291941",
     "exception": false,
     "start_time": "2021-12-01T12:13:13.248069",
     "status": "completed"
    },
    "tags": []
   },
   "outputs": [],
   "source": [
    "#hide\n",
    "# g['date'] = g.date.dt.dayofyear"
   ]
  },
  {
   "cell_type": "code",
   "execution_count": 35,
   "id": "inside-dubai",
   "metadata": {
    "execution": {
     "iopub.execute_input": "2021-12-01T12:13:13.374446Z",
     "iopub.status.busy": "2021-12-01T12:13:13.373673Z",
     "iopub.status.idle": "2021-12-01T12:13:13.376572Z",
     "shell.execute_reply": "2021-12-01T12:13:13.376085Z"
    },
    "papermill": {
     "duration": 0.045593,
     "end_time": "2021-12-01T12:13:13.376732",
     "exception": false,
     "start_time": "2021-12-01T12:13:13.331139",
     "status": "completed"
    },
    "tags": []
   },
   "outputs": [],
   "source": [
    "#hide\n",
    "# g = g.rename(columns= {'continent':'group','country':'name','cases':'value'})"
   ]
  },
  {
   "cell_type": "code",
   "execution_count": 36,
   "id": "fleet-motorcycle",
   "metadata": {
    "execution": {
     "iopub.execute_input": "2021-12-01T12:13:13.459528Z",
     "iopub.status.busy": "2021-12-01T12:13:13.458904Z",
     "iopub.status.idle": "2021-12-01T12:13:13.461603Z",
     "shell.execute_reply": "2021-12-01T12:13:13.461094Z"
    },
    "papermill": {
     "duration": 0.044773,
     "end_time": "2021-12-01T12:13:13.461727",
     "exception": false,
     "start_time": "2021-12-01T12:13:13.416954",
     "status": "completed"
    },
    "tags": []
   },
   "outputs": [],
   "source": [
    "#hide\n",
    "# cols = ['name','group','day','value']"
   ]
  },
  {
   "cell_type": "code",
   "execution_count": 37,
   "id": "continued-sleeping",
   "metadata": {
    "execution": {
     "iopub.execute_input": "2021-12-01T12:13:13.546999Z",
     "iopub.status.busy": "2021-12-01T12:13:13.546325Z",
     "iopub.status.idle": "2021-12-01T12:13:13.548709Z",
     "shell.execute_reply": "2021-12-01T12:13:13.548001Z"
    },
    "papermill": {
     "duration": 0.043281,
     "end_time": "2021-12-01T12:13:13.548854",
     "exception": false,
     "start_time": "2021-12-01T12:13:13.505573",
     "status": "completed"
    },
    "tags": []
   },
   "outputs": [],
   "source": [
    "#hide\n",
    "# g.rename(columns= {'date':'day'},inplace = True)"
   ]
  },
  {
   "cell_type": "code",
   "execution_count": 38,
   "id": "major-fight",
   "metadata": {
    "execution": {
     "iopub.execute_input": "2021-12-01T12:13:13.624965Z",
     "iopub.status.busy": "2021-12-01T12:13:13.624406Z",
     "iopub.status.idle": "2021-12-01T12:13:13.626371Z",
     "shell.execute_reply": "2021-12-01T12:13:13.626861Z"
    },
    "papermill": {
     "duration": 0.04082,
     "end_time": "2021-12-01T12:13:13.627016",
     "exception": false,
     "start_time": "2021-12-01T12:13:13.586196",
     "status": "completed"
    },
    "tags": []
   },
   "outputs": [],
   "source": [
    "#hide\n",
    "# g = g[cols]"
   ]
  },
  {
   "cell_type": "code",
   "execution_count": 39,
   "id": "structured-mobile",
   "metadata": {
    "execution": {
     "iopub.execute_input": "2021-12-01T12:13:13.704123Z",
     "iopub.status.busy": "2021-12-01T12:13:13.701936Z",
     "iopub.status.idle": "2021-12-01T12:13:13.704838Z",
     "shell.execute_reply": "2021-12-01T12:13:13.705411Z"
    },
    "papermill": {
     "duration": 0.043601,
     "end_time": "2021-12-01T12:13:13.705574",
     "exception": false,
     "start_time": "2021-12-01T12:13:13.661973",
     "status": "completed"
    },
    "tags": []
   },
   "outputs": [],
   "source": [
    "# #hide\n",
    "# g = g[g.group.notna()]"
   ]
  },
  {
   "cell_type": "code",
   "execution_count": 40,
   "id": "determined-closing",
   "metadata": {
    "execution": {
     "iopub.execute_input": "2021-12-01T12:13:13.785486Z",
     "iopub.status.busy": "2021-12-01T12:13:13.784792Z",
     "iopub.status.idle": "2021-12-01T12:13:13.787014Z",
     "shell.execute_reply": "2021-12-01T12:13:13.787898Z"
    },
    "papermill": {
     "duration": 0.044784,
     "end_time": "2021-12-01T12:13:13.788121",
     "exception": false,
     "start_time": "2021-12-01T12:13:13.743337",
     "status": "completed"
    },
    "tags": []
   },
   "outputs": [],
   "source": [
    "# #hide\n",
    "# colors = dict(zip(\n",
    "#     [\"Oceania\", \"Europe\", \"Asia\", \"South America\", \"Middle East\", \"North America\", \"Africa\"],\n",
    "#     [\"#adb0ff\", \"#ffb3ff\", \"#90d595\", \"#e48381\", \"#aafbff\", \"#f7bb5f\", \"#eafb50\"]\n",
    "# ))\n",
    "# group_lk = g.set_index('name')['group'].to_dict()"
   ]
  },
  {
   "cell_type": "code",
   "execution_count": null,
   "id": "gross-drinking",
   "metadata": {
    "papermill": {
     "duration": 0.039081,
     "end_time": "2021-12-01T12:13:13.871775",
     "exception": false,
     "start_time": "2021-12-01T12:13:13.832694",
     "status": "completed"
    },
    "tags": []
   },
   "outputs": [],
   "source": []
  },
  {
   "cell_type": "code",
   "execution_count": 41,
   "id": "subject-macintosh",
   "metadata": {
    "execution": {
     "iopub.execute_input": "2021-12-01T12:13:13.955554Z",
     "iopub.status.busy": "2021-12-01T12:13:13.954884Z",
     "iopub.status.idle": "2021-12-01T12:13:13.958733Z",
     "shell.execute_reply": "2021-12-01T12:13:13.959334Z"
    },
    "papermill": {
     "duration": 0.047724,
     "end_time": "2021-12-01T12:13:13.959480",
     "exception": false,
     "start_time": "2021-12-01T12:13:13.911756",
     "status": "completed"
    },
    "tags": []
   },
   "outputs": [],
   "source": [
    "# #hide\n",
    "# fig, ax = plt.subplots(figsize=(15, 8))\n",
    "\n",
    "# def draw_barchart(current_day):\n",
    "#     dff = g[g['day'].eq(current_day)].sort_values(by='value', ascending=True).tail(10)\n",
    "#     ax.clear()\n",
    "#     ax.barh(dff['name'], dff['value'], color=[colors[group_lk[x]] for x in dff['name']])\n",
    "#     dx = dff['value'].max() / 200\n",
    "    \n",
    "#     for i, (value, name) in enumerate(zip(dff['value'], dff['name'])):\n",
    "#         ax.text(value-dx, i,     name,           size=14, weight=600, ha='right', va='bottom')\n",
    "#         ax.text(value-dx, i-.25, group_lk[name], size=10, color='#444444', ha='right', va='baseline')\n",
    "#         ax.text(value+dx, i,     f'{value:,.0f}',  size=14, ha='left',  va='center')\n",
    "#     ax.text(1, 0.4, current_day, transform=ax.transAxes, color='#777777', size=46, ha='right', weight=800)\n",
    "#     ax.text(0, 1.06, 'Population (thousands)', transform=ax.transAxes, size=12, color='#777777')\n",
    "#     ax.xaxis.set_major_formatter(ticker.StrMethodFormatter('{x:,.0f}'))\n",
    "#     ax.xaxis.set_ticks_position('top')\n",
    "#     ax.tick_params(axis='x', colors='#777777', labelsize=12)\n",
    "#     ax.set_yticks([])\n",
    "#     ax.margins(0, 0.01)\n",
    "#     ax.grid(which='major', axis='x', linestyle='-')\n",
    "#     ax.set_axisbelow(True)\n",
    "    \n",
    "#     ax.text(0, 1.15, 'Coronavirus',\n",
    "#             transform=ax.transAxes, size=24, weight=600, ha='left', va='top')\n",
    "# #     ax.text(1, 0, 'by @pratapvardhan; credit @jburnmurdoch', transform=ax.transAxes, color='#777777', ha='right',\n",
    "# #             bbox=dict(facecolor='white', alpha=0.8, edgecolor='white'))\n",
    "#     plt.box(False)"
   ]
  },
  {
   "cell_type": "code",
   "execution_count": 42,
   "id": "sexual-wages",
   "metadata": {
    "execution": {
     "iopub.execute_input": "2021-12-01T12:13:14.041195Z",
     "iopub.status.busy": "2021-12-01T12:13:14.040527Z",
     "iopub.status.idle": "2021-12-01T12:13:14.042992Z",
     "shell.execute_reply": "2021-12-01T12:13:14.042451Z"
    },
    "papermill": {
     "duration": 0.046615,
     "end_time": "2021-12-01T12:13:14.043128",
     "exception": false,
     "start_time": "2021-12-01T12:13:13.996513",
     "status": "completed"
    },
    "tags": []
   },
   "outputs": [],
   "source": [
    "# #hide_input\n",
    "# fig, ax = plt.subplots(figsize=(15, 8))\n",
    "# animator = animation.FuncAnimation(fig, draw_barchart, frames=range(g.day.values.min(), g.day.values.max()))\n",
    "# HTML(animator.to_jshtml())\n",
    "# # or use animator.to_html5_video() or animator.save() "
   ]
  },
  {
   "cell_type": "code",
   "execution_count": null,
   "id": "australian-container",
   "metadata": {
    "papermill": {
     "duration": 0.03925,
     "end_time": "2021-12-01T12:13:14.123635",
     "exception": false,
     "start_time": "2021-12-01T12:13:14.084385",
     "status": "completed"
    },
    "tags": []
   },
   "outputs": [],
   "source": []
  },
  {
   "cell_type": "code",
   "execution_count": null,
   "id": "mediterranean-pontiac",
   "metadata": {
    "papermill": {
     "duration": 0.041574,
     "end_time": "2021-12-01T12:13:14.217847",
     "exception": false,
     "start_time": "2021-12-01T12:13:14.176273",
     "status": "completed"
    },
    "tags": []
   },
   "outputs": [],
   "source": []
  },
  {
   "cell_type": "code",
   "execution_count": null,
   "id": "aging-legislature",
   "metadata": {
    "papermill": {
     "duration": 0.036259,
     "end_time": "2021-12-01T12:13:14.292716",
     "exception": false,
     "start_time": "2021-12-01T12:13:14.256457",
     "status": "completed"
    },
    "tags": []
   },
   "outputs": [],
   "source": []
  }
 ],
 "metadata": {
  "kernelspec": {
   "display_name": "Python 3",
   "language": "python",
   "name": "python3"
  },
  "language_info": {
   "codemirror_mode": {
    "name": "ipython",
    "version": 3
   },
   "file_extension": ".py",
   "mimetype": "text/x-python",
   "name": "python",
   "nbconvert_exporter": "python",
   "pygments_lexer": "ipython3",
   "version": "3.6.15"
  },
  "papermill": {
   "duration": 7.58481,
   "end_time": "2021-12-01T12:13:14.637843",
   "environment_variables": {},
   "exception": null,
   "input_path": "2020-03-21-covid19exp.ipynb",
   "output_path": "2020-03-21-covid19exp.ipynb",
   "parameters": {},
   "start_time": "2021-12-01T12:13:07.053033",
   "version": "2.0.0"
  }
 },
 "nbformat": 4,
 "nbformat_minor": 5
}