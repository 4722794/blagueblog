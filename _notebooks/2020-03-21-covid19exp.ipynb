{
 "cells": [
  {
   "cell_type": "markdown",
   "id": "muslim-click",
   "metadata": {
    "papermill": {
     "duration": 0.035725,
     "end_time": "2021-04-26T00:06:36.215433",
     "exception": false,
     "start_time": "2021-04-26T00:06:36.179708",
     "status": "completed"
    },
    "tags": []
   },
   "source": [
    "# COVID-19 Case Race\n",
    "> A race chart to see rising cases around the world\n",
    "\n",
    "- author: Hargun Oberoi\n",
    "- image: images/covid-overview.png\n",
    "- hide: false\n",
    "- badges: false"
   ]
  },
  {
   "cell_type": "code",
   "execution_count": 1,
   "id": "proof-material",
   "metadata": {
    "execution": {
     "iopub.execute_input": "2021-04-26T00:06:36.287572Z",
     "iopub.status.busy": "2021-04-26T00:06:36.287043Z",
     "iopub.status.idle": "2021-04-26T00:06:36.575974Z",
     "shell.execute_reply": "2021-04-26T00:06:36.575448Z"
    },
    "papermill": {
     "duration": 0.330042,
     "end_time": "2021-04-26T00:06:36.576118",
     "exception": false,
     "start_time": "2021-04-26T00:06:36.246076",
     "status": "completed"
    },
    "tags": []
   },
   "outputs": [],
   "source": [
    "#hide\n",
    "import numpy as np\n",
    "import pandas as pd\n",
    "from jinja2 import Template\n",
    "from IPython.display import HTML"
   ]
  },
  {
   "cell_type": "code",
   "execution_count": 2,
   "id": "developed-terminology",
   "metadata": {
    "execution": {
     "iopub.execute_input": "2021-04-26T00:06:36.642163Z",
     "iopub.status.busy": "2021-04-26T00:06:36.641576Z",
     "iopub.status.idle": "2021-04-26T00:06:36.643691Z",
     "shell.execute_reply": "2021-04-26T00:06:36.643229Z"
    },
    "papermill": {
     "duration": 0.036433,
     "end_time": "2021-04-26T00:06:36.643796",
     "exception": false,
     "start_time": "2021-04-26T00:06:36.607363",
     "status": "completed"
    },
    "tags": []
   },
   "outputs": [],
   "source": [
    "#hide\n",
    "\n",
    "# FETCH\n",
    "base_url = 'https://raw.githubusercontent.com/pratapvardhan/notebooks/master/covid19/'\n",
    "paths = {\n",
    "    'mapping': base_url + 'mapping_countries.csv',\n",
    "    'overview': base_url + 'overview.tpl'\n",
    "}"
   ]
  },
  {
   "cell_type": "code",
   "execution_count": 3,
   "id": "dynamic-saver",
   "metadata": {
    "execution": {
     "iopub.execute_input": "2021-04-26T00:06:36.713729Z",
     "iopub.status.busy": "2021-04-26T00:06:36.713229Z",
     "iopub.status.idle": "2021-04-26T00:06:36.716346Z",
     "shell.execute_reply": "2021-04-26T00:06:36.715949Z"
    },
    "papermill": {
     "duration": 0.042693,
     "end_time": "2021-04-26T00:06:36.716453",
     "exception": false,
     "start_time": "2021-04-26T00:06:36.673760",
     "status": "completed"
    },
    "tags": []
   },
   "outputs": [
    {
     "data": {
      "text/plain": [
       "'https://raw.githubusercontent.com/pratapvardhan/notebooks/master/covid19/mapping_countries.csv'"
      ]
     },
     "execution_count": 3,
     "metadata": {},
     "output_type": "execute_result"
    }
   ],
   "source": [
    "#hide\n",
    "paths['mapping']"
   ]
  },
  {
   "cell_type": "code",
   "execution_count": 4,
   "id": "urban-software",
   "metadata": {
    "execution": {
     "iopub.execute_input": "2021-04-26T00:06:36.781998Z",
     "iopub.status.busy": "2021-04-26T00:06:36.781501Z",
     "iopub.status.idle": "2021-04-26T00:06:36.783283Z",
     "shell.execute_reply": "2021-04-26T00:06:36.783764Z"
    },
    "papermill": {
     "duration": 0.037096,
     "end_time": "2021-04-26T00:06:36.783883",
     "exception": false,
     "start_time": "2021-04-26T00:06:36.746787",
     "status": "completed"
    },
    "tags": []
   },
   "outputs": [],
   "source": [
    "#hide\n",
    "def get_mappings(url):\n",
    "    df = pd.read_csv(url)\n",
    "    return {\n",
    "        'df': df,\n",
    "        'replace.country': dict(df.dropna(subset=['Name']).set_index('Country')['Name']),\n",
    "        'map.continent': dict(df.set_index('Name')['Continent'])\n",
    "    }"
   ]
  },
  {
   "cell_type": "code",
   "execution_count": 5,
   "id": "intimate-machinery",
   "metadata": {
    "execution": {
     "iopub.execute_input": "2021-04-26T00:06:36.848891Z",
     "iopub.status.busy": "2021-04-26T00:06:36.848399Z",
     "iopub.status.idle": "2021-04-26T00:06:36.891179Z",
     "shell.execute_reply": "2021-04-26T00:06:36.890661Z"
    },
    "papermill": {
     "duration": 0.077394,
     "end_time": "2021-04-26T00:06:36.891327",
     "exception": false,
     "start_time": "2021-04-26T00:06:36.813933",
     "status": "completed"
    },
    "tags": []
   },
   "outputs": [],
   "source": [
    "#hide\n",
    "mapping = get_mappings(paths['mapping'])"
   ]
  },
  {
   "cell_type": "code",
   "execution_count": 6,
   "id": "certified-tactics",
   "metadata": {
    "execution": {
     "iopub.execute_input": "2021-04-26T00:06:36.957470Z",
     "iopub.status.busy": "2021-04-26T00:06:36.956956Z",
     "iopub.status.idle": "2021-04-26T00:06:36.959107Z",
     "shell.execute_reply": "2021-04-26T00:06:36.958686Z"
    },
    "papermill": {
     "duration": 0.036858,
     "end_time": "2021-04-26T00:06:36.959210",
     "exception": false,
     "start_time": "2021-04-26T00:06:36.922352",
     "status": "completed"
    },
    "tags": []
   },
   "outputs": [],
   "source": [
    "#hide\n",
    "def get_template(path):\n",
    "    from urllib.parse import urlparse\n",
    "    if bool(urlparse(path).netloc):\n",
    "        from urllib.request import urlopen\n",
    "        return urlopen(path).read().decode('utf8')\n",
    "    return open(path).read()"
   ]
  },
  {
   "cell_type": "code",
   "execution_count": 7,
   "id": "realistic-blast",
   "metadata": {
    "execution": {
     "iopub.execute_input": "2021-04-26T00:06:37.024294Z",
     "iopub.status.busy": "2021-04-26T00:06:37.023794Z",
     "iopub.status.idle": "2021-04-26T00:06:37.025625Z",
     "shell.execute_reply": "2021-04-26T00:06:37.026045Z"
    },
    "papermill": {
     "duration": 0.036831,
     "end_time": "2021-04-26T00:06:37.026165",
     "exception": false,
     "start_time": "2021-04-26T00:06:36.989334",
     "status": "completed"
    },
    "tags": []
   },
   "outputs": [],
   "source": [
    "#hide\n",
    "def get_frame(name):\n",
    "    url = (\n",
    "        'https://raw.githubusercontent.com/CSSEGISandData/COVID-19/master/csse_covid_19_data/'\n",
    "        f'csse_covid_19_time_series/time_series_covid19_{name}_global.csv')\n",
    "    df = pd.read_csv(url)\n",
    "    # rename countries\n",
    "    df['Country/Region'] = df['Country/Region'].replace(mapping['replace.country'])\n",
    "    return df"
   ]
  },
  {
   "cell_type": "code",
   "execution_count": 8,
   "id": "affiliated-characterization",
   "metadata": {
    "execution": {
     "iopub.execute_input": "2021-04-26T00:06:37.092257Z",
     "iopub.status.busy": "2021-04-26T00:06:37.091755Z",
     "iopub.status.idle": "2021-04-26T00:06:37.093781Z",
     "shell.execute_reply": "2021-04-26T00:06:37.093361Z"
    },
    "papermill": {
     "duration": 0.037599,
     "end_time": "2021-04-26T00:06:37.093883",
     "exception": false,
     "start_time": "2021-04-26T00:06:37.056284",
     "status": "completed"
    },
    "tags": []
   },
   "outputs": [],
   "source": [
    "#hide\n",
    "def get_dates(df):\n",
    "    dt_cols = df.columns[~df.columns.isin(['Province/State', 'Country/Region', 'Lat', 'Long'])]\n",
    "    LAST_DATE_I = -1\n",
    "    # sometimes last column may be empty, then go backwards\n",
    "    for i in range(-1, -len(dt_cols), -1):\n",
    "        if not df[dt_cols[i]].fillna(0).eq(0).all():\n",
    "            LAST_DATE_I = i\n",
    "            break\n",
    "    return LAST_DATE_I, dt_cols"
   ]
  },
  {
   "cell_type": "code",
   "execution_count": 9,
   "id": "recent-optimization",
   "metadata": {
    "execution": {
     "iopub.execute_input": "2021-04-26T00:06:37.159005Z",
     "iopub.status.busy": "2021-04-26T00:06:37.158495Z",
     "iopub.status.idle": "2021-04-26T00:06:37.512743Z",
     "shell.execute_reply": "2021-04-26T00:06:37.511736Z"
    },
    "papermill": {
     "duration": 0.389014,
     "end_time": "2021-04-26T00:06:37.512872",
     "exception": false,
     "start_time": "2021-04-26T00:06:37.123858",
     "status": "completed"
    },
    "tags": []
   },
   "outputs": [],
   "source": [
    "#hide\n",
    "COL_REGION = 'Country/Region'\n",
    "# Confirmed, Recovered, Deaths\n",
    "df = get_frame('confirmed')\n",
    "# dft_: timeseries, dfc_: today country agg\n",
    "dft_cases = df\n",
    "dft_deaths = get_frame('deaths')\n",
    "dft_recovered = get_frame('recovered')\n",
    "LAST_DATE_I, dt_cols = get_dates(df)"
   ]
  },
  {
   "cell_type": "code",
   "execution_count": 10,
   "id": "absolute-copper",
   "metadata": {
    "execution": {
     "iopub.execute_input": "2021-04-26T00:06:37.578847Z",
     "iopub.status.busy": "2021-04-26T00:06:37.578259Z",
     "iopub.status.idle": "2021-04-26T00:06:37.580327Z",
     "shell.execute_reply": "2021-04-26T00:06:37.579866Z"
    },
    "papermill": {
     "duration": 0.037156,
     "end_time": "2021-04-26T00:06:37.580449",
     "exception": false,
     "start_time": "2021-04-26T00:06:37.543293",
     "status": "completed"
    },
    "tags": []
   },
   "outputs": [],
   "source": [
    "#hide\n",
    "LAST_DATE_I, dt_cols = get_dates(df)\n",
    "dt_today =dt_cols[LAST_DATE_I]\n",
    "# dt_5day = dt_cols[LAST_DATE_I - 5]\n",
    "dt_yday = dt_cols[LAST_DATE_I - 1]"
   ]
  },
  {
   "cell_type": "code",
   "execution_count": 11,
   "id": "restricted-sheriff",
   "metadata": {
    "execution": {
     "iopub.execute_input": "2021-04-26T00:06:37.646881Z",
     "iopub.status.busy": "2021-04-26T00:06:37.646373Z",
     "iopub.status.idle": "2021-04-26T00:06:37.653782Z",
     "shell.execute_reply": "2021-04-26T00:06:37.653377Z"
    },
    "papermill": {
     "duration": 0.043281,
     "end_time": "2021-04-26T00:06:37.653893",
     "exception": false,
     "start_time": "2021-04-26T00:06:37.610612",
     "status": "completed"
    },
    "tags": []
   },
   "outputs": [],
   "source": [
    "#hide\n",
    "dfc_cases = dft_cases.groupby(COL_REGION)[dt_today].sum()\n",
    "dfc_deaths = dft_deaths.groupby(COL_REGION)[dt_today].sum()\n",
    "# dfp_cases = dft_cases.groupby(COL_REGION)[dt_5day].sum()\n",
    "# dfp_deaths = dft_deaths.groupby(COL_REGION)[dt_5day].sum()\n",
    "dfp_cases = dft_cases.groupby(COL_REGION)[dt_yday].sum()\n",
    "dfp_deaths = dft_deaths.groupby(COL_REGION)[dt_yday].sum()"
   ]
  },
  {
   "cell_type": "code",
   "execution_count": 12,
   "id": "deluxe-hepatitis",
   "metadata": {
    "execution": {
     "iopub.execute_input": "2021-04-26T00:06:37.720391Z",
     "iopub.status.busy": "2021-04-26T00:06:37.719897Z",
     "iopub.status.idle": "2021-04-26T00:06:37.724034Z",
     "shell.execute_reply": "2021-04-26T00:06:37.724457Z"
    },
    "papermill": {
     "duration": 0.040383,
     "end_time": "2021-04-26T00:06:37.724580",
     "exception": false,
     "start_time": "2021-04-26T00:06:37.684197",
     "status": "completed"
    },
    "tags": []
   },
   "outputs": [],
   "source": [
    "#hide\n",
    "df_table = (pd.DataFrame(dict(Cases = dfc_cases, Deaths = dfc_deaths, PCases = dfp_cases, PDeaths = dfp_deaths))\n",
    "            .sort_values(by = ['Cases','Deaths'], ascending = [False, False])\n",
    "            .reset_index())"
   ]
  },
  {
   "cell_type": "code",
   "execution_count": 13,
   "id": "educational-chancellor",
   "metadata": {
    "execution": {
     "iopub.execute_input": "2021-04-26T00:06:37.802020Z",
     "iopub.status.busy": "2021-04-26T00:06:37.801516Z",
     "iopub.status.idle": "2021-04-26T00:06:37.808639Z",
     "shell.execute_reply": "2021-04-26T00:06:37.809100Z"
    },
    "papermill": {
     "duration": 0.054557,
     "end_time": "2021-04-26T00:06:37.809226",
     "exception": false,
     "start_time": "2021-04-26T00:06:37.754669",
     "status": "completed"
    },
    "tags": []
   },
   "outputs": [
    {
     "data": {
      "text/html": [
       "<div>\n",
       "<style scoped>\n",
       "    .dataframe tbody tr th:only-of-type {\n",
       "        vertical-align: middle;\n",
       "    }\n",
       "\n",
       "    .dataframe tbody tr th {\n",
       "        vertical-align: top;\n",
       "    }\n",
       "\n",
       "    .dataframe thead th {\n",
       "        text-align: right;\n",
       "    }\n",
       "</style>\n",
       "<table border=\"1\" class=\"dataframe\">\n",
       "  <thead>\n",
       "    <tr style=\"text-align: right;\">\n",
       "      <th></th>\n",
       "      <th>Country/Region</th>\n",
       "      <th>Cases</th>\n",
       "      <th>Deaths</th>\n",
       "      <th>PCases</th>\n",
       "      <th>PDeaths</th>\n",
       "      <th>Cases (+)</th>\n",
       "      <th>Deaths (+)</th>\n",
       "      <th>Fatality Rate</th>\n",
       "      <th>Continent</th>\n",
       "    </tr>\n",
       "  </thead>\n",
       "  <tbody>\n",
       "    <tr>\n",
       "      <th>0</th>\n",
       "      <td>US</td>\n",
       "      <td>32045113</td>\n",
       "      <td>571921</td>\n",
       "      <td>31991750</td>\n",
       "      <td>571197</td>\n",
       "      <td>53363</td>\n",
       "      <td>724</td>\n",
       "      <td>1.78</td>\n",
       "      <td>North America</td>\n",
       "    </tr>\n",
       "    <tr>\n",
       "      <th>1</th>\n",
       "      <td>India</td>\n",
       "      <td>16960172</td>\n",
       "      <td>192311</td>\n",
       "      <td>16610481</td>\n",
       "      <td>189544</td>\n",
       "      <td>349691</td>\n",
       "      <td>2767</td>\n",
       "      <td>1.13</td>\n",
       "      <td>Asia</td>\n",
       "    </tr>\n",
       "    <tr>\n",
       "      <th>2</th>\n",
       "      <td>Brazil</td>\n",
       "      <td>14308215</td>\n",
       "      <td>389492</td>\n",
       "      <td>14237078</td>\n",
       "      <td>386416</td>\n",
       "      <td>71137</td>\n",
       "      <td>3076</td>\n",
       "      <td>2.72</td>\n",
       "      <td>South America</td>\n",
       "    </tr>\n",
       "    <tr>\n",
       "      <th>3</th>\n",
       "      <td>France</td>\n",
       "      <td>5534656</td>\n",
       "      <td>102872</td>\n",
       "      <td>5502014</td>\n",
       "      <td>102655</td>\n",
       "      <td>32642</td>\n",
       "      <td>217</td>\n",
       "      <td>1.86</td>\n",
       "      <td>Europe</td>\n",
       "    </tr>\n",
       "    <tr>\n",
       "      <th>4</th>\n",
       "      <td>Russia</td>\n",
       "      <td>4699988</td>\n",
       "      <td>106108</td>\n",
       "      <td>4691290</td>\n",
       "      <td>105718</td>\n",
       "      <td>8698</td>\n",
       "      <td>390</td>\n",
       "      <td>2.26</td>\n",
       "      <td>Europe</td>\n",
       "    </tr>\n",
       "  </tbody>\n",
       "</table>\n",
       "</div>"
      ],
      "text/plain": [
       "  Country/Region     Cases  Deaths    PCases  PDeaths  Cases (+)  Deaths (+)  \\\n",
       "0             US  32045113  571921  31991750   571197      53363         724   \n",
       "1          India  16960172  192311  16610481   189544     349691        2767   \n",
       "2         Brazil  14308215  389492  14237078   386416      71137        3076   \n",
       "3         France   5534656  102872   5502014   102655      32642         217   \n",
       "4         Russia   4699988  106108   4691290   105718       8698         390   \n",
       "\n",
       "   Fatality Rate      Continent  \n",
       "0           1.78  North America  \n",
       "1           1.13           Asia  \n",
       "2           2.72  South America  \n",
       "3           1.86         Europe  \n",
       "4           2.26         Europe  "
      ]
     },
     "execution_count": 13,
     "metadata": {},
     "output_type": "execute_result"
    }
   ],
   "source": [
    "#hide\n",
    "for c in 'Cases, Deaths'.split(', '):\n",
    "    df_table[f'{c} (+)'] = (df_table[c] - df_table[f'P{c}']).clip(0)\n",
    "    #Clip ça veut dire, les chiffres negatif sont interdit\n",
    "df_table['Fatality Rate'] = (100* df_table['Deaths']/ df_table['Cases']).round(2)\n",
    "df_table['Continent'] = df_table['Country/Region'].map(mapping['map.continent'])\n",
    "df_table.head(5)"
   ]
  },
  {
   "cell_type": "code",
   "execution_count": 14,
   "id": "aboriginal-bulgaria",
   "metadata": {
    "execution": {
     "iopub.execute_input": "2021-04-26T00:06:37.875374Z",
     "iopub.status.busy": "2021-04-26T00:06:37.874852Z",
     "iopub.status.idle": "2021-04-26T00:06:37.877949Z",
     "shell.execute_reply": "2021-04-26T00:06:37.877548Z"
    },
    "papermill": {
     "duration": 0.038126,
     "end_time": "2021-04-26T00:06:37.878056",
     "exception": false,
     "start_time": "2021-04-26T00:06:37.839930",
     "status": "completed"
    },
    "tags": []
   },
   "outputs": [],
   "source": [
    "#hide\n",
    "#delete problematic countries from table\n",
    "df_table = df_table[~df_table['Country/Region'].isin(['Cape Verde', 'Cruise Ship', 'Kosovo'])]"
   ]
  },
  {
   "cell_type": "code",
   "execution_count": 15,
   "id": "fantastic-effect",
   "metadata": {
    "execution": {
     "iopub.execute_input": "2021-04-26T00:06:37.946870Z",
     "iopub.status.busy": "2021-04-26T00:06:37.946373Z",
     "iopub.status.idle": "2021-04-26T00:06:37.963155Z",
     "shell.execute_reply": "2021-04-26T00:06:37.962753Z"
    },
    "papermill": {
     "duration": 0.054817,
     "end_time": "2021-04-26T00:06:37.963267",
     "exception": false,
     "start_time": "2021-04-26T00:06:37.908450",
     "status": "completed"
    },
    "tags": []
   },
   "outputs": [
    {
     "data": {
      "text/html": [
       "<div>\n",
       "<style scoped>\n",
       "    .dataframe tbody tr th:only-of-type {\n",
       "        vertical-align: middle;\n",
       "    }\n",
       "\n",
       "    .dataframe tbody tr th {\n",
       "        vertical-align: top;\n",
       "    }\n",
       "\n",
       "    .dataframe thead th {\n",
       "        text-align: right;\n",
       "    }\n",
       "</style>\n",
       "<table border=\"1\" class=\"dataframe\">\n",
       "  <thead>\n",
       "    <tr style=\"text-align: right;\">\n",
       "      <th></th>\n",
       "      <th>Country/Region</th>\n",
       "      <th>Cases</th>\n",
       "      <th>Deaths</th>\n",
       "      <th>PCases</th>\n",
       "      <th>PDeaths</th>\n",
       "      <th>Cases (+)</th>\n",
       "      <th>Deaths (+)</th>\n",
       "      <th>Fatality Rate</th>\n",
       "      <th>Continent</th>\n",
       "    </tr>\n",
       "  </thead>\n",
       "  <tbody>\n",
       "    <tr>\n",
       "      <th>0</th>\n",
       "      <td>US</td>\n",
       "      <td>32045113</td>\n",
       "      <td>571921</td>\n",
       "      <td>31991750</td>\n",
       "      <td>571197</td>\n",
       "      <td>53363</td>\n",
       "      <td>724</td>\n",
       "      <td>1.8</td>\n",
       "      <td>North America</td>\n",
       "    </tr>\n",
       "    <tr>\n",
       "      <th>1</th>\n",
       "      <td>India</td>\n",
       "      <td>16960172</td>\n",
       "      <td>192311</td>\n",
       "      <td>16610481</td>\n",
       "      <td>189544</td>\n",
       "      <td>349691</td>\n",
       "      <td>2767</td>\n",
       "      <td>1.1</td>\n",
       "      <td>Asia</td>\n",
       "    </tr>\n",
       "    <tr>\n",
       "      <th>2</th>\n",
       "      <td>Brazil</td>\n",
       "      <td>14308215</td>\n",
       "      <td>389492</td>\n",
       "      <td>14237078</td>\n",
       "      <td>386416</td>\n",
       "      <td>71137</td>\n",
       "      <td>3076</td>\n",
       "      <td>2.7</td>\n",
       "      <td>South America</td>\n",
       "    </tr>\n",
       "    <tr>\n",
       "      <th>3</th>\n",
       "      <td>France</td>\n",
       "      <td>5534656</td>\n",
       "      <td>102872</td>\n",
       "      <td>5502014</td>\n",
       "      <td>102655</td>\n",
       "      <td>32642</td>\n",
       "      <td>217</td>\n",
       "      <td>1.9</td>\n",
       "      <td>Europe</td>\n",
       "    </tr>\n",
       "    <tr>\n",
       "      <th>4</th>\n",
       "      <td>Russia</td>\n",
       "      <td>4699988</td>\n",
       "      <td>106108</td>\n",
       "      <td>4691290</td>\n",
       "      <td>105718</td>\n",
       "      <td>8698</td>\n",
       "      <td>390</td>\n",
       "      <td>2.3</td>\n",
       "      <td>Europe</td>\n",
       "    </tr>\n",
       "  </tbody>\n",
       "</table>\n",
       "</div>"
      ],
      "text/plain": [
       "  Country/Region     Cases  Deaths    PCases  PDeaths  Cases (+)  Deaths (+)  \\\n",
       "0             US  32045113  571921  31991750   571197      53363         724   \n",
       "1          India  16960172  192311  16610481   189544     349691        2767   \n",
       "2         Brazil  14308215  389492  14237078   386416      71137        3076   \n",
       "3         France   5534656  102872   5502014   102655      32642         217   \n",
       "4         Russia   4699988  106108   4691290   105718       8698         390   \n",
       "\n",
       "   Fatality Rate      Continent  \n",
       "0            1.8  North America  \n",
       "1            1.1           Asia  \n",
       "2            2.7  South America  \n",
       "3            1.9         Europe  \n",
       "4            2.3         Europe  "
      ]
     },
     "execution_count": 15,
     "metadata": {},
     "output_type": "execute_result"
    }
   ],
   "source": [
    "#hide\n",
    "df_table = (pd.DataFrame(dict(Cases=dfc_cases, Deaths=dfc_deaths, PCases=dfp_cases, PDeaths=dfp_deaths))\n",
    "             .sort_values(by=['Cases', 'Deaths'], ascending=[False, False])\n",
    "             .reset_index())\n",
    "df_table.rename(columns={'index': 'Country/Region'}, inplace=True)\n",
    "for c in 'Cases, Deaths'.split(', '):\n",
    "    df_table[f'{c} (+)'] = (df_table[c] - df_table[f'P{c}']).clip(0)  # DATA BUG\n",
    "df_table['Fatality Rate'] = (100 * df_table['Deaths'] / df_table['Cases']).round(1)\n",
    "df_table['Continent'] = df_table['Country/Region'].map(mapping['map.continent'])\n",
    "df_table.head(5)"
   ]
  },
  {
   "cell_type": "code",
   "execution_count": 16,
   "id": "fewer-occasion",
   "metadata": {
    "execution": {
     "iopub.execute_input": "2021-04-26T00:06:38.030289Z",
     "iopub.status.busy": "2021-04-26T00:06:38.029797Z",
     "iopub.status.idle": "2021-04-26T00:06:38.032796Z",
     "shell.execute_reply": "2021-04-26T00:06:38.032396Z"
    },
    "papermill": {
     "duration": 0.038347,
     "end_time": "2021-04-26T00:06:38.032906",
     "exception": false,
     "start_time": "2021-04-26T00:06:37.994559",
     "status": "completed"
    },
    "tags": []
   },
   "outputs": [],
   "source": [
    "#hide\n",
    "#delete problematic countries from table\n",
    "df_table = df_table[~df_table['Country/Region'].isin(['Cape Verde', 'Cruise Ship', 'Kosovo'])]"
   ]
  },
  {
   "cell_type": "code",
   "execution_count": 17,
   "id": "related-center",
   "metadata": {
    "execution": {
     "iopub.execute_input": "2021-04-26T00:06:38.112815Z",
     "iopub.status.busy": "2021-04-26T00:06:38.112262Z",
     "iopub.status.idle": "2021-04-26T00:06:38.114284Z",
     "shell.execute_reply": "2021-04-26T00:06:38.114686Z"
    },
    "papermill": {
     "duration": 0.051002,
     "end_time": "2021-04-26T00:06:38.114816",
     "exception": false,
     "start_time": "2021-04-26T00:06:38.063814",
     "status": "completed"
    },
    "tags": []
   },
   "outputs": [],
   "source": [
    "#hide\n",
    "metrics = [df_table.columns[index] for index in [1,2,5,6]]\n",
    "# s_china = df_table[df_table['Country/Region'].eq('China')][metrics].sum().add_prefix('China ')\n",
    "s_us = df_table[df_table['Country/Region'].eq('US')][metrics].sum().add_prefix('US ')\n",
    "s_eu = df_table[df_table['Continent'].eq('Europe')][metrics].sum().add_prefix('EU ')\n",
    "s_ind = df_table[df_table['Country/Region'].eq('India')][metrics].sum().add_prefix('India ')\n",
    "summary = {'updated': pd.to_datetime(dt_today), 'since': pd.to_datetime(dt_yday)}\n",
    "summary = {'updated': pd.to_datetime(dt_today), 'since': pd.to_datetime(dt_yday)}\n",
    "summary = {**summary, **df_table[metrics].sum(), **s_ind, **s_us, **s_eu}"
   ]
  },
  {
   "cell_type": "code",
   "execution_count": 18,
   "id": "engaging-syndrome",
   "metadata": {
    "execution": {
     "iopub.execute_input": "2021-04-26T00:06:38.182283Z",
     "iopub.status.busy": "2021-04-26T00:06:38.181775Z",
     "iopub.status.idle": "2021-04-26T00:06:38.192279Z",
     "shell.execute_reply": "2021-04-26T00:06:38.191853Z"
    },
    "papermill": {
     "duration": 0.046229,
     "end_time": "2021-04-26T00:06:38.192386",
     "exception": false,
     "start_time": "2021-04-26T00:06:38.146157",
     "status": "completed"
    },
    "tags": []
   },
   "outputs": [],
   "source": [
    "#hide\n",
    "dft_ct_new_cases = dft_cases.groupby(COL_REGION)[dt_cols].sum().diff(axis=1).fillna(0).astype(int)"
   ]
  },
  {
   "cell_type": "code",
   "execution_count": 19,
   "id": "neutral-assignment",
   "metadata": {
    "execution": {
     "iopub.execute_input": "2021-04-26T00:06:38.260229Z",
     "iopub.status.busy": "2021-04-26T00:06:38.259733Z",
     "iopub.status.idle": "2021-04-26T00:06:38.261578Z",
     "shell.execute_reply": "2021-04-26T00:06:38.261952Z"
    },
    "papermill": {
     "duration": 0.038681,
     "end_time": "2021-04-26T00:06:38.262077",
     "exception": false,
     "start_time": "2021-04-26T00:06:38.223396",
     "status": "completed"
    },
    "tags": []
   },
   "outputs": [],
   "source": [
    "#hide\n",
    "everydaycases = dft_ct_new_cases.cumsum(axis=1)"
   ]
  },
  {
   "cell_type": "code",
   "execution_count": 20,
   "id": "parliamentary-calgary",
   "metadata": {
    "execution": {
     "iopub.execute_input": "2021-04-26T00:06:38.329468Z",
     "iopub.status.busy": "2021-04-26T00:06:38.328194Z",
     "iopub.status.idle": "2021-04-26T00:06:38.791025Z",
     "shell.execute_reply": "2021-04-26T00:06:38.791491Z"
    },
    "papermill": {
     "duration": 0.498481,
     "end_time": "2021-04-26T00:06:38.791635",
     "exception": false,
     "start_time": "2021-04-26T00:06:38.293154",
     "status": "completed"
    },
    "tags": []
   },
   "outputs": [],
   "source": [
    "#hide\n",
    "import pandas as pd\n",
    "import matplotlib.pyplot as plt\n",
    "import matplotlib.ticker as ticker\n",
    "import matplotlib.animation as animation\n",
    "from IPython.display import HTML"
   ]
  },
  {
   "cell_type": "code",
   "execution_count": 21,
   "id": "lasting-extraction",
   "metadata": {
    "execution": {
     "iopub.execute_input": "2021-04-26T00:06:38.859087Z",
     "iopub.status.busy": "2021-04-26T00:06:38.858585Z",
     "iopub.status.idle": "2021-04-26T00:06:38.864042Z",
     "shell.execute_reply": "2021-04-26T00:06:38.863617Z"
    },
    "papermill": {
     "duration": 0.041468,
     "end_time": "2021-04-26T00:06:38.864149",
     "exception": false,
     "start_time": "2021-04-26T00:06:38.822681",
     "status": "completed"
    },
    "tags": []
   },
   "outputs": [],
   "source": [
    "#hide\n",
    "t = everydaycases.stack()"
   ]
  },
  {
   "cell_type": "code",
   "execution_count": 22,
   "id": "premier-sleeve",
   "metadata": {
    "execution": {
     "iopub.execute_input": "2021-04-26T00:06:38.930368Z",
     "iopub.status.busy": "2021-04-26T00:06:38.929868Z",
     "iopub.status.idle": "2021-04-26T00:06:38.937681Z",
     "shell.execute_reply": "2021-04-26T00:06:38.937285Z"
    },
    "papermill": {
     "duration": 0.042577,
     "end_time": "2021-04-26T00:06:38.937791",
     "exception": false,
     "start_time": "2021-04-26T00:06:38.895214",
     "status": "completed"
    },
    "tags": []
   },
   "outputs": [],
   "source": [
    "#hide\n",
    "g = t.reset_index(['Country/Region'])"
   ]
  },
  {
   "cell_type": "code",
   "execution_count": 23,
   "id": "distributed-pittsburgh",
   "metadata": {
    "execution": {
     "iopub.execute_input": "2021-04-26T00:06:39.003684Z",
     "iopub.status.busy": "2021-04-26T00:06:39.003149Z",
     "iopub.status.idle": "2021-04-26T00:06:39.005374Z",
     "shell.execute_reply": "2021-04-26T00:06:39.004954Z"
    },
    "papermill": {
     "duration": 0.036782,
     "end_time": "2021-04-26T00:06:39.005480",
     "exception": false,
     "start_time": "2021-04-26T00:06:38.968698",
     "status": "completed"
    },
    "tags": []
   },
   "outputs": [],
   "source": [
    "#hide\n",
    "g.index.name = 'date'"
   ]
  },
  {
   "cell_type": "code",
   "execution_count": 24,
   "id": "naked-donor",
   "metadata": {
    "execution": {
     "iopub.execute_input": "2021-04-26T00:06:39.071258Z",
     "iopub.status.busy": "2021-04-26T00:06:39.070751Z",
     "iopub.status.idle": "2021-04-26T00:06:39.072507Z",
     "shell.execute_reply": "2021-04-26T00:06:39.072966Z"
    },
    "papermill": {
     "duration": 0.036527,
     "end_time": "2021-04-26T00:06:39.073088",
     "exception": false,
     "start_time": "2021-04-26T00:06:39.036561",
     "status": "completed"
    },
    "tags": []
   },
   "outputs": [],
   "source": [
    "# #hide\n",
    "# g = g.reset_index(['date'])"
   ]
  },
  {
   "cell_type": "code",
   "execution_count": 25,
   "id": "incomplete-mustang",
   "metadata": {
    "execution": {
     "iopub.execute_input": "2021-04-26T00:06:39.138667Z",
     "iopub.status.busy": "2021-04-26T00:06:39.138089Z",
     "iopub.status.idle": "2021-04-26T00:06:39.140181Z",
     "shell.execute_reply": "2021-04-26T00:06:39.139727Z"
    },
    "papermill": {
     "duration": 0.036257,
     "end_time": "2021-04-26T00:06:39.140303",
     "exception": false,
     "start_time": "2021-04-26T00:06:39.104046",
     "status": "completed"
    },
    "tags": []
   },
   "outputs": [],
   "source": [
    "#hide\n",
    "# g.head()"
   ]
  },
  {
   "cell_type": "code",
   "execution_count": 26,
   "id": "specific-kruger",
   "metadata": {
    "execution": {
     "iopub.execute_input": "2021-04-26T00:06:39.205883Z",
     "iopub.status.busy": "2021-04-26T00:06:39.205391Z",
     "iopub.status.idle": "2021-04-26T00:06:39.207198Z",
     "shell.execute_reply": "2021-04-26T00:06:39.207617Z"
    },
    "papermill": {
     "duration": 0.036371,
     "end_time": "2021-04-26T00:06:39.207740",
     "exception": false,
     "start_time": "2021-04-26T00:06:39.171369",
     "status": "completed"
    },
    "tags": []
   },
   "outputs": [],
   "source": [
    "#hide\n",
    "# g.columns = ['date','country','cases']"
   ]
  },
  {
   "cell_type": "code",
   "execution_count": 27,
   "id": "tender-conversion",
   "metadata": {
    "execution": {
     "iopub.execute_input": "2021-04-26T00:06:39.273320Z",
     "iopub.status.busy": "2021-04-26T00:06:39.272822Z",
     "iopub.status.idle": "2021-04-26T00:06:39.275072Z",
     "shell.execute_reply": "2021-04-26T00:06:39.274655Z"
    },
    "papermill": {
     "duration": 0.036416,
     "end_time": "2021-04-26T00:06:39.275176",
     "exception": false,
     "start_time": "2021-04-26T00:06:39.238760",
     "status": "completed"
    },
    "tags": []
   },
   "outputs": [],
   "source": [
    "#hide\n",
    "# g['continent'] = g.country"
   ]
  },
  {
   "cell_type": "code",
   "execution_count": 28,
   "id": "substantial-wilderness",
   "metadata": {
    "execution": {
     "iopub.execute_input": "2021-04-26T00:06:39.341399Z",
     "iopub.status.busy": "2021-04-26T00:06:39.340822Z",
     "iopub.status.idle": "2021-04-26T00:06:39.342548Z",
     "shell.execute_reply": "2021-04-26T00:06:39.342978Z"
    },
    "papermill": {
     "duration": 0.036785,
     "end_time": "2021-04-26T00:06:39.343117",
     "exception": false,
     "start_time": "2021-04-26T00:06:39.306332",
     "status": "completed"
    },
    "tags": []
   },
   "outputs": [],
   "source": [
    "#hide\n",
    "# cols = list(g.columns.values)"
   ]
  },
  {
   "cell_type": "code",
   "execution_count": 29,
   "id": "solved-farming",
   "metadata": {
    "execution": {
     "iopub.execute_input": "2021-04-26T00:06:39.408844Z",
     "iopub.status.busy": "2021-04-26T00:06:39.408350Z",
     "iopub.status.idle": "2021-04-26T00:06:39.410223Z",
     "shell.execute_reply": "2021-04-26T00:06:39.410641Z"
    },
    "papermill": {
     "duration": 0.03649,
     "end_time": "2021-04-26T00:06:39.410760",
     "exception": false,
     "start_time": "2021-04-26T00:06:39.374270",
     "status": "completed"
    },
    "tags": []
   },
   "outputs": [],
   "source": [
    "#hide\n",
    "# cols.insert(0, cols.pop())"
   ]
  },
  {
   "cell_type": "code",
   "execution_count": 30,
   "id": "executed-adoption",
   "metadata": {
    "execution": {
     "iopub.execute_input": "2021-04-26T00:06:39.476909Z",
     "iopub.status.busy": "2021-04-26T00:06:39.476410Z",
     "iopub.status.idle": "2021-04-26T00:06:39.478144Z",
     "shell.execute_reply": "2021-04-26T00:06:39.478539Z"
    },
    "papermill": {
     "duration": 0.036393,
     "end_time": "2021-04-26T00:06:39.478661",
     "exception": false,
     "start_time": "2021-04-26T00:06:39.442268",
     "status": "completed"
    },
    "tags": []
   },
   "outputs": [],
   "source": [
    "#hide\n",
    "# g = g[cols]"
   ]
  },
  {
   "cell_type": "code",
   "execution_count": 31,
   "id": "subject-dublin",
   "metadata": {
    "execution": {
     "iopub.execute_input": "2021-04-26T00:06:39.544338Z",
     "iopub.status.busy": "2021-04-26T00:06:39.543843Z",
     "iopub.status.idle": "2021-04-26T00:06:39.545632Z",
     "shell.execute_reply": "2021-04-26T00:06:39.546054Z"
    },
    "papermill": {
     "duration": 0.03653,
     "end_time": "2021-04-26T00:06:39.546177",
     "exception": false,
     "start_time": "2021-04-26T00:06:39.509647",
     "status": "completed"
    },
    "tags": []
   },
   "outputs": [],
   "source": [
    "#hide\n",
    "# g['continent'] = g['continent'].map(mapping['map.continent'])"
   ]
  },
  {
   "cell_type": "code",
   "execution_count": 32,
   "id": "freelance-scout",
   "metadata": {
    "execution": {
     "iopub.execute_input": "2021-04-26T00:06:39.611795Z",
     "iopub.status.busy": "2021-04-26T00:06:39.611246Z",
     "iopub.status.idle": "2021-04-26T00:06:39.613166Z",
     "shell.execute_reply": "2021-04-26T00:06:39.613562Z"
    },
    "papermill": {
     "duration": 0.036518,
     "end_time": "2021-04-26T00:06:39.613686",
     "exception": false,
     "start_time": "2021-04-26T00:06:39.577168",
     "status": "completed"
    },
    "tags": []
   },
   "outputs": [],
   "source": [
    "#hide\n",
    "# g.head()"
   ]
  },
  {
   "cell_type": "code",
   "execution_count": 33,
   "id": "limited-engine",
   "metadata": {
    "execution": {
     "iopub.execute_input": "2021-04-26T00:06:39.679317Z",
     "iopub.status.busy": "2021-04-26T00:06:39.678788Z",
     "iopub.status.idle": "2021-04-26T00:06:39.680604Z",
     "shell.execute_reply": "2021-04-26T00:06:39.680978Z"
    },
    "papermill": {
     "duration": 0.036476,
     "end_time": "2021-04-26T00:06:39.681102",
     "exception": false,
     "start_time": "2021-04-26T00:06:39.644626",
     "status": "completed"
    },
    "tags": []
   },
   "outputs": [],
   "source": [
    "# hide\n",
    "# g['date'] = g['date'].astype('datetime64[ns]')"
   ]
  },
  {
   "cell_type": "code",
   "execution_count": 34,
   "id": "sophisticated-supervisor",
   "metadata": {
    "execution": {
     "iopub.execute_input": "2021-04-26T00:06:39.746597Z",
     "iopub.status.busy": "2021-04-26T00:06:39.746104Z",
     "iopub.status.idle": "2021-04-26T00:06:39.747930Z",
     "shell.execute_reply": "2021-04-26T00:06:39.748350Z"
    },
    "papermill": {
     "duration": 0.036198,
     "end_time": "2021-04-26T00:06:39.748472",
     "exception": false,
     "start_time": "2021-04-26T00:06:39.712274",
     "status": "completed"
    },
    "tags": []
   },
   "outputs": [],
   "source": [
    "#hide\n",
    "# g['date'] = g.date.dt.dayofyear"
   ]
  },
  {
   "cell_type": "code",
   "execution_count": 35,
   "id": "inside-dubai",
   "metadata": {
    "execution": {
     "iopub.execute_input": "2021-04-26T00:06:39.813800Z",
     "iopub.status.busy": "2021-04-26T00:06:39.813302Z",
     "iopub.status.idle": "2021-04-26T00:06:39.815413Z",
     "shell.execute_reply": "2021-04-26T00:06:39.814997Z"
    },
    "papermill": {
     "duration": 0.036156,
     "end_time": "2021-04-26T00:06:39.815523",
     "exception": false,
     "start_time": "2021-04-26T00:06:39.779367",
     "status": "completed"
    },
    "tags": []
   },
   "outputs": [],
   "source": [
    "#hide\n",
    "# g = g.rename(columns= {'continent':'group','country':'name','cases':'value'})"
   ]
  },
  {
   "cell_type": "code",
   "execution_count": 36,
   "id": "fleet-motorcycle",
   "metadata": {
    "execution": {
     "iopub.execute_input": "2021-04-26T00:06:39.881068Z",
     "iopub.status.busy": "2021-04-26T00:06:39.880574Z",
     "iopub.status.idle": "2021-04-26T00:06:39.882487Z",
     "shell.execute_reply": "2021-04-26T00:06:39.882909Z"
    },
    "papermill": {
     "duration": 0.036417,
     "end_time": "2021-04-26T00:06:39.883030",
     "exception": false,
     "start_time": "2021-04-26T00:06:39.846613",
     "status": "completed"
    },
    "tags": []
   },
   "outputs": [],
   "source": [
    "#hide\n",
    "# cols = ['name','group','day','value']"
   ]
  },
  {
   "cell_type": "code",
   "execution_count": 37,
   "id": "continued-sleeping",
   "metadata": {
    "execution": {
     "iopub.execute_input": "2021-04-26T00:06:39.948169Z",
     "iopub.status.busy": "2021-04-26T00:06:39.947671Z",
     "iopub.status.idle": "2021-04-26T00:06:39.949982Z",
     "shell.execute_reply": "2021-04-26T00:06:39.949562Z"
    },
    "papermill": {
     "duration": 0.03615,
     "end_time": "2021-04-26T00:06:39.950084",
     "exception": false,
     "start_time": "2021-04-26T00:06:39.913934",
     "status": "completed"
    },
    "tags": []
   },
   "outputs": [],
   "source": [
    "#hide\n",
    "# g.rename(columns= {'date':'day'},inplace = True)"
   ]
  },
  {
   "cell_type": "code",
   "execution_count": 38,
   "id": "major-fight",
   "metadata": {
    "execution": {
     "iopub.execute_input": "2021-04-26T00:06:40.015520Z",
     "iopub.status.busy": "2021-04-26T00:06:40.014986Z",
     "iopub.status.idle": "2021-04-26T00:06:40.016788Z",
     "shell.execute_reply": "2021-04-26T00:06:40.017206Z"
    },
    "papermill": {
     "duration": 0.036265,
     "end_time": "2021-04-26T00:06:40.017327",
     "exception": false,
     "start_time": "2021-04-26T00:06:39.981062",
     "status": "completed"
    },
    "tags": []
   },
   "outputs": [],
   "source": [
    "#hide\n",
    "# g = g[cols]"
   ]
  },
  {
   "cell_type": "code",
   "execution_count": 39,
   "id": "structured-mobile",
   "metadata": {
    "execution": {
     "iopub.execute_input": "2021-04-26T00:06:40.082927Z",
     "iopub.status.busy": "2021-04-26T00:06:40.082422Z",
     "iopub.status.idle": "2021-04-26T00:06:40.084845Z",
     "shell.execute_reply": "2021-04-26T00:06:40.085290Z"
    },
    "papermill": {
     "duration": 0.037105,
     "end_time": "2021-04-26T00:06:40.085413",
     "exception": false,
     "start_time": "2021-04-26T00:06:40.048308",
     "status": "completed"
    },
    "tags": []
   },
   "outputs": [],
   "source": [
    "# #hide\n",
    "# g = g[g.group.notna()]"
   ]
  },
  {
   "cell_type": "code",
   "execution_count": 40,
   "id": "determined-closing",
   "metadata": {
    "execution": {
     "iopub.execute_input": "2021-04-26T00:06:40.151637Z",
     "iopub.status.busy": "2021-04-26T00:06:40.151092Z",
     "iopub.status.idle": "2021-04-26T00:06:40.152913Z",
     "shell.execute_reply": "2021-04-26T00:06:40.153311Z"
    },
    "papermill": {
     "duration": 0.036435,
     "end_time": "2021-04-26T00:06:40.153437",
     "exception": false,
     "start_time": "2021-04-26T00:06:40.117002",
     "status": "completed"
    },
    "tags": []
   },
   "outputs": [],
   "source": [
    "# #hide\n",
    "# colors = dict(zip(\n",
    "#     [\"Oceania\", \"Europe\", \"Asia\", \"South America\", \"Middle East\", \"North America\", \"Africa\"],\n",
    "#     [\"#adb0ff\", \"#ffb3ff\", \"#90d595\", \"#e48381\", \"#aafbff\", \"#f7bb5f\", \"#eafb50\"]\n",
    "# ))\n",
    "# group_lk = g.set_index('name')['group'].to_dict()"
   ]
  },
  {
   "cell_type": "code",
   "execution_count": null,
   "id": "gross-drinking",
   "metadata": {
    "papermill": {
     "duration": 0.030996,
     "end_time": "2021-04-26T00:06:40.215450",
     "exception": false,
     "start_time": "2021-04-26T00:06:40.184454",
     "status": "completed"
    },
    "tags": []
   },
   "outputs": [],
   "source": []
  },
  {
   "cell_type": "code",
   "execution_count": 41,
   "id": "subject-macintosh",
   "metadata": {
    "execution": {
     "iopub.execute_input": "2021-04-26T00:06:40.281681Z",
     "iopub.status.busy": "2021-04-26T00:06:40.281166Z",
     "iopub.status.idle": "2021-04-26T00:06:40.283332Z",
     "shell.execute_reply": "2021-04-26T00:06:40.282917Z"
    },
    "papermill": {
     "duration": 0.036911,
     "end_time": "2021-04-26T00:06:40.283442",
     "exception": false,
     "start_time": "2021-04-26T00:06:40.246531",
     "status": "completed"
    },
    "tags": []
   },
   "outputs": [],
   "source": [
    "# #hide\n",
    "# fig, ax = plt.subplots(figsize=(15, 8))\n",
    "\n",
    "# def draw_barchart(current_day):\n",
    "#     dff = g[g['day'].eq(current_day)].sort_values(by='value', ascending=True).tail(10)\n",
    "#     ax.clear()\n",
    "#     ax.barh(dff['name'], dff['value'], color=[colors[group_lk[x]] for x in dff['name']])\n",
    "#     dx = dff['value'].max() / 200\n",
    "    \n",
    "#     for i, (value, name) in enumerate(zip(dff['value'], dff['name'])):\n",
    "#         ax.text(value-dx, i,     name,           size=14, weight=600, ha='right', va='bottom')\n",
    "#         ax.text(value-dx, i-.25, group_lk[name], size=10, color='#444444', ha='right', va='baseline')\n",
    "#         ax.text(value+dx, i,     f'{value:,.0f}',  size=14, ha='left',  va='center')\n",
    "#     ax.text(1, 0.4, current_day, transform=ax.transAxes, color='#777777', size=46, ha='right', weight=800)\n",
    "#     ax.text(0, 1.06, 'Population (thousands)', transform=ax.transAxes, size=12, color='#777777')\n",
    "#     ax.xaxis.set_major_formatter(ticker.StrMethodFormatter('{x:,.0f}'))\n",
    "#     ax.xaxis.set_ticks_position('top')\n",
    "#     ax.tick_params(axis='x', colors='#777777', labelsize=12)\n",
    "#     ax.set_yticks([])\n",
    "#     ax.margins(0, 0.01)\n",
    "#     ax.grid(which='major', axis='x', linestyle='-')\n",
    "#     ax.set_axisbelow(True)\n",
    "    \n",
    "#     ax.text(0, 1.15, 'Coronavirus',\n",
    "#             transform=ax.transAxes, size=24, weight=600, ha='left', va='top')\n",
    "# #     ax.text(1, 0, 'by @pratapvardhan; credit @jburnmurdoch', transform=ax.transAxes, color='#777777', ha='right',\n",
    "# #             bbox=dict(facecolor='white', alpha=0.8, edgecolor='white'))\n",
    "#     plt.box(False)"
   ]
  },
  {
   "cell_type": "code",
   "execution_count": 42,
   "id": "sexual-wages",
   "metadata": {
    "execution": {
     "iopub.execute_input": "2021-04-26T00:06:40.348948Z",
     "iopub.status.busy": "2021-04-26T00:06:40.348429Z",
     "iopub.status.idle": "2021-04-26T00:06:40.350231Z",
     "shell.execute_reply": "2021-04-26T00:06:40.350625Z"
    },
    "papermill": {
     "duration": 0.036425,
     "end_time": "2021-04-26T00:06:40.350744",
     "exception": false,
     "start_time": "2021-04-26T00:06:40.314319",
     "status": "completed"
    },
    "tags": []
   },
   "outputs": [],
   "source": [
    "# #hide_input\n",
    "# fig, ax = plt.subplots(figsize=(15, 8))\n",
    "# animator = animation.FuncAnimation(fig, draw_barchart, frames=range(g.day.values.min(), g.day.values.max()))\n",
    "# HTML(animator.to_jshtml())\n",
    "# # or use animator.to_html5_video() or animator.save() "
   ]
  },
  {
   "cell_type": "code",
   "execution_count": null,
   "id": "australian-container",
   "metadata": {
    "papermill": {
     "duration": 0.030882,
     "end_time": "2021-04-26T00:06:40.412637",
     "exception": false,
     "start_time": "2021-04-26T00:06:40.381755",
     "status": "completed"
    },
    "tags": []
   },
   "outputs": [],
   "source": []
  },
  {
   "cell_type": "code",
   "execution_count": null,
   "id": "mediterranean-pontiac",
   "metadata": {
    "papermill": {
     "duration": 0.030845,
     "end_time": "2021-04-26T00:06:40.474734",
     "exception": false,
     "start_time": "2021-04-26T00:06:40.443889",
     "status": "completed"
    },
    "tags": []
   },
   "outputs": [],
   "source": []
  },
  {
   "cell_type": "code",
   "execution_count": null,
   "id": "aging-legislature",
   "metadata": {
    "papermill": {
     "duration": 0.030852,
     "end_time": "2021-04-26T00:06:40.536828",
     "exception": false,
     "start_time": "2021-04-26T00:06:40.505976",
     "status": "completed"
    },
    "tags": []
   },
   "outputs": [],
   "source": []
  }
 ],
 "metadata": {
  "kernelspec": {
   "display_name": "Python 3",
   "language": "python",
   "name": "python3"
  },
  "language_info": {
   "codemirror_mode": {
    "name": "ipython",
    "version": 3
   },
   "file_extension": ".py",
   "mimetype": "text/x-python",
   "name": "python",
   "nbconvert_exporter": "python",
   "pygments_lexer": "ipython3",
   "version": "3.6.13"
  },
  "papermill": {
   "duration": 5.740429,
   "end_time": "2021-04-26T00:06:40.874087",
   "environment_variables": {},
   "exception": null,
   "input_path": "2020-03-21-covid19exp.ipynb",
   "output_path": "2020-03-21-covid19exp.ipynb",
   "parameters": {},
   "start_time": "2021-04-26T00:06:35.133658",
   "version": "2.0.0"
  }
 },
 "nbformat": 4,
 "nbformat_minor": 5
}