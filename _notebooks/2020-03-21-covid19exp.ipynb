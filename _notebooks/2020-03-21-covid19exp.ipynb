{
 "cells": [
  {
   "cell_type": "markdown",
   "id": "muslim-click",
   "metadata": {
    "papermill": {
     "duration": 0.034684,
     "end_time": "2021-01-31T00:14:33.291015",
     "exception": false,
     "start_time": "2021-01-31T00:14:33.256331",
     "status": "completed"
    },
    "tags": []
   },
   "source": [
    "# COVID-19 Case Race\n",
    "> A race chart to see rising cases around the world\n",
    "\n",
    "- author: Hargun Oberoi\n",
    "- image: images/covid-overview.png\n",
    "- hide: false\n",
    "- badges: false"
   ]
  },
  {
   "cell_type": "code",
   "execution_count": 1,
   "id": "proof-material",
   "metadata": {
    "execution": {
     "iopub.execute_input": "2021-01-31T00:14:33.364564Z",
     "iopub.status.busy": "2021-01-31T00:14:33.363831Z",
     "iopub.status.idle": "2021-01-31T00:14:33.724098Z",
     "shell.execute_reply": "2021-01-31T00:14:33.723146Z"
    },
    "papermill": {
     "duration": 0.402709,
     "end_time": "2021-01-31T00:14:33.724248",
     "exception": false,
     "start_time": "2021-01-31T00:14:33.321539",
     "status": "completed"
    },
    "tags": []
   },
   "outputs": [],
   "source": [
    "#hide\n",
    "import numpy as np\n",
    "import pandas as pd\n",
    "from jinja2 import Template\n",
    "from IPython.display import HTML"
   ]
  },
  {
   "cell_type": "code",
   "execution_count": 2,
   "id": "developed-terminology",
   "metadata": {
    "execution": {
     "iopub.execute_input": "2021-01-31T00:14:33.792938Z",
     "iopub.status.busy": "2021-01-31T00:14:33.792393Z",
     "iopub.status.idle": "2021-01-31T00:14:33.794683Z",
     "shell.execute_reply": "2021-01-31T00:14:33.794223Z"
    },
    "papermill": {
     "duration": 0.038125,
     "end_time": "2021-01-31T00:14:33.794792",
     "exception": false,
     "start_time": "2021-01-31T00:14:33.756667",
     "status": "completed"
    },
    "tags": []
   },
   "outputs": [],
   "source": [
    "#hide\n",
    "\n",
    "# FETCH\n",
    "base_url = 'https://raw.githubusercontent.com/pratapvardhan/notebooks/master/covid19/'\n",
    "paths = {\n",
    "    'mapping': base_url + 'mapping_countries.csv',\n",
    "    'overview': base_url + 'overview.tpl'\n",
    "}"
   ]
  },
  {
   "cell_type": "code",
   "execution_count": 3,
   "id": "dynamic-saver",
   "metadata": {
    "execution": {
     "iopub.execute_input": "2021-01-31T00:14:33.871549Z",
     "iopub.status.busy": "2021-01-31T00:14:33.870908Z",
     "iopub.status.idle": "2021-01-31T00:14:33.873594Z",
     "shell.execute_reply": "2021-01-31T00:14:33.874112Z"
    },
    "papermill": {
     "duration": 0.047909,
     "end_time": "2021-01-31T00:14:33.874275",
     "exception": false,
     "start_time": "2021-01-31T00:14:33.826366",
     "status": "completed"
    },
    "tags": []
   },
   "outputs": [
    {
     "data": {
      "text/plain": [
       "'https://raw.githubusercontent.com/pratapvardhan/notebooks/master/covid19/mapping_countries.csv'"
      ]
     },
     "execution_count": 3,
     "metadata": {},
     "output_type": "execute_result"
    }
   ],
   "source": [
    "#hide\n",
    "paths['mapping']"
   ]
  },
  {
   "cell_type": "code",
   "execution_count": 4,
   "id": "urban-software",
   "metadata": {
    "execution": {
     "iopub.execute_input": "2021-01-31T00:14:33.954778Z",
     "iopub.status.busy": "2021-01-31T00:14:33.954032Z",
     "iopub.status.idle": "2021-01-31T00:14:33.956536Z",
     "shell.execute_reply": "2021-01-31T00:14:33.955732Z"
    },
    "papermill": {
     "duration": 0.045245,
     "end_time": "2021-01-31T00:14:33.956679",
     "exception": false,
     "start_time": "2021-01-31T00:14:33.911434",
     "status": "completed"
    },
    "tags": []
   },
   "outputs": [],
   "source": [
    "#hide\n",
    "def get_mappings(url):\n",
    "    df = pd.read_csv(url)\n",
    "    return {\n",
    "        'df': df,\n",
    "        'replace.country': dict(df.dropna(subset=['Name']).set_index('Country')['Name']),\n",
    "        'map.continent': dict(df.set_index('Name')['Continent'])\n",
    "    }"
   ]
  },
  {
   "cell_type": "code",
   "execution_count": 5,
   "id": "intimate-machinery",
   "metadata": {
    "execution": {
     "iopub.execute_input": "2021-01-31T00:14:34.035380Z",
     "iopub.status.busy": "2021-01-31T00:14:34.034802Z",
     "iopub.status.idle": "2021-01-31T00:14:34.073866Z",
     "shell.execute_reply": "2021-01-31T00:14:34.073277Z"
    },
    "papermill": {
     "duration": 0.081393,
     "end_time": "2021-01-31T00:14:34.074022",
     "exception": false,
     "start_time": "2021-01-31T00:14:33.992629",
     "status": "completed"
    },
    "tags": []
   },
   "outputs": [],
   "source": [
    "#hide\n",
    "mapping = get_mappings(paths['mapping'])"
   ]
  },
  {
   "cell_type": "code",
   "execution_count": 6,
   "id": "certified-tactics",
   "metadata": {
    "execution": {
     "iopub.execute_input": "2021-01-31T00:14:34.152400Z",
     "iopub.status.busy": "2021-01-31T00:14:34.151766Z",
     "iopub.status.idle": "2021-01-31T00:14:34.154553Z",
     "shell.execute_reply": "2021-01-31T00:14:34.153756Z"
    },
    "papermill": {
     "duration": 0.044576,
     "end_time": "2021-01-31T00:14:34.154697",
     "exception": false,
     "start_time": "2021-01-31T00:14:34.110121",
     "status": "completed"
    },
    "tags": []
   },
   "outputs": [],
   "source": [
    "#hide\n",
    "def get_template(path):\n",
    "    from urllib.parse import urlparse\n",
    "    if bool(urlparse(path).netloc):\n",
    "        from urllib.request import urlopen\n",
    "        return urlopen(path).read().decode('utf8')\n",
    "    return open(path).read()"
   ]
  },
  {
   "cell_type": "code",
   "execution_count": 7,
   "id": "realistic-blast",
   "metadata": {
    "execution": {
     "iopub.execute_input": "2021-01-31T00:14:34.235218Z",
     "iopub.status.busy": "2021-01-31T00:14:34.234561Z",
     "iopub.status.idle": "2021-01-31T00:14:34.236834Z",
     "shell.execute_reply": "2021-01-31T00:14:34.236336Z"
    },
    "papermill": {
     "duration": 0.043784,
     "end_time": "2021-01-31T00:14:34.236957",
     "exception": false,
     "start_time": "2021-01-31T00:14:34.193173",
     "status": "completed"
    },
    "tags": []
   },
   "outputs": [],
   "source": [
    "#hide\n",
    "def get_frame(name):\n",
    "    url = (\n",
    "        'https://raw.githubusercontent.com/CSSEGISandData/COVID-19/master/csse_covid_19_data/'\n",
    "        f'csse_covid_19_time_series/time_series_covid19_{name}_global.csv')\n",
    "    df = pd.read_csv(url)\n",
    "    # rename countries\n",
    "    df['Country/Region'] = df['Country/Region'].replace(mapping['replace.country'])\n",
    "    return df"
   ]
  },
  {
   "cell_type": "code",
   "execution_count": 8,
   "id": "affiliated-characterization",
   "metadata": {
    "execution": {
     "iopub.execute_input": "2021-01-31T00:14:34.316731Z",
     "iopub.status.busy": "2021-01-31T00:14:34.316136Z",
     "iopub.status.idle": "2021-01-31T00:14:34.318730Z",
     "shell.execute_reply": "2021-01-31T00:14:34.318111Z"
    },
    "papermill": {
     "duration": 0.047037,
     "end_time": "2021-01-31T00:14:34.318888",
     "exception": false,
     "start_time": "2021-01-31T00:14:34.271851",
     "status": "completed"
    },
    "tags": []
   },
   "outputs": [],
   "source": [
    "#hide\n",
    "def get_dates(df):\n",
    "    dt_cols = df.columns[~df.columns.isin(['Province/State', 'Country/Region', 'Lat', 'Long'])]\n",
    "    LAST_DATE_I = -1\n",
    "    # sometimes last column may be empty, then go backwards\n",
    "    for i in range(-1, -len(dt_cols), -1):\n",
    "        if not df[dt_cols[i]].fillna(0).eq(0).all():\n",
    "            LAST_DATE_I = i\n",
    "            break\n",
    "    return LAST_DATE_I, dt_cols"
   ]
  },
  {
   "cell_type": "code",
   "execution_count": 9,
   "id": "recent-optimization",
   "metadata": {
    "execution": {
     "iopub.execute_input": "2021-01-31T00:14:34.394846Z",
     "iopub.status.busy": "2021-01-31T00:14:34.394101Z",
     "iopub.status.idle": "2021-01-31T00:14:34.717700Z",
     "shell.execute_reply": "2021-01-31T00:14:34.717150Z"
    },
    "papermill": {
     "duration": 0.365218,
     "end_time": "2021-01-31T00:14:34.717842",
     "exception": false,
     "start_time": "2021-01-31T00:14:34.352624",
     "status": "completed"
    },
    "tags": []
   },
   "outputs": [],
   "source": [
    "#hide\n",
    "COL_REGION = 'Country/Region'\n",
    "# Confirmed, Recovered, Deaths\n",
    "df = get_frame('confirmed')\n",
    "# dft_: timeseries, dfc_: today country agg\n",
    "dft_cases = df\n",
    "dft_deaths = get_frame('deaths')\n",
    "dft_recovered = get_frame('recovered')\n",
    "LAST_DATE_I, dt_cols = get_dates(df)"
   ]
  },
  {
   "cell_type": "code",
   "execution_count": 10,
   "id": "absolute-copper",
   "metadata": {
    "execution": {
     "iopub.execute_input": "2021-01-31T00:14:34.799385Z",
     "iopub.status.busy": "2021-01-31T00:14:34.798790Z",
     "iopub.status.idle": "2021-01-31T00:14:34.801731Z",
     "shell.execute_reply": "2021-01-31T00:14:34.801207Z"
    },
    "papermill": {
     "duration": 0.045413,
     "end_time": "2021-01-31T00:14:34.801853",
     "exception": false,
     "start_time": "2021-01-31T00:14:34.756440",
     "status": "completed"
    },
    "tags": []
   },
   "outputs": [],
   "source": [
    "#hide\n",
    "LAST_DATE_I, dt_cols = get_dates(df)\n",
    "dt_today =dt_cols[LAST_DATE_I]\n",
    "# dt_5day = dt_cols[LAST_DATE_I - 5]\n",
    "dt_yday = dt_cols[LAST_DATE_I - 1]"
   ]
  },
  {
   "cell_type": "code",
   "execution_count": 11,
   "id": "restricted-sheriff",
   "metadata": {
    "execution": {
     "iopub.execute_input": "2021-01-31T00:14:34.880109Z",
     "iopub.status.busy": "2021-01-31T00:14:34.879330Z",
     "iopub.status.idle": "2021-01-31T00:14:34.889063Z",
     "shell.execute_reply": "2021-01-31T00:14:34.889722Z"
    },
    "papermill": {
     "duration": 0.053124,
     "end_time": "2021-01-31T00:14:34.889933",
     "exception": false,
     "start_time": "2021-01-31T00:14:34.836809",
     "status": "completed"
    },
    "tags": []
   },
   "outputs": [],
   "source": [
    "#hide\n",
    "dfc_cases = dft_cases.groupby(COL_REGION)[dt_today].sum()\n",
    "dfc_deaths = dft_deaths.groupby(COL_REGION)[dt_today].sum()\n",
    "# dfp_cases = dft_cases.groupby(COL_REGION)[dt_5day].sum()\n",
    "# dfp_deaths = dft_deaths.groupby(COL_REGION)[dt_5day].sum()\n",
    "dfp_cases = dft_cases.groupby(COL_REGION)[dt_yday].sum()\n",
    "dfp_deaths = dft_deaths.groupby(COL_REGION)[dt_yday].sum()"
   ]
  },
  {
   "cell_type": "code",
   "execution_count": 12,
   "id": "deluxe-hepatitis",
   "metadata": {
    "execution": {
     "iopub.execute_input": "2021-01-31T00:14:34.977521Z",
     "iopub.status.busy": "2021-01-31T00:14:34.976910Z",
     "iopub.status.idle": "2021-01-31T00:14:34.981815Z",
     "shell.execute_reply": "2021-01-31T00:14:34.982391Z"
    },
    "papermill": {
     "duration": 0.051432,
     "end_time": "2021-01-31T00:14:34.982526",
     "exception": false,
     "start_time": "2021-01-31T00:14:34.931094",
     "status": "completed"
    },
    "tags": []
   },
   "outputs": [],
   "source": [
    "#hide\n",
    "df_table = (pd.DataFrame(dict(Cases = dfc_cases, Deaths = dfc_deaths, PCases = dfp_cases, PDeaths = dfp_deaths))\n",
    "            .sort_values(by = ['Cases','Deaths'], ascending = [False, False])\n",
    "            .reset_index())"
   ]
  },
  {
   "cell_type": "code",
   "execution_count": 13,
   "id": "educational-chancellor",
   "metadata": {
    "execution": {
     "iopub.execute_input": "2021-01-31T00:14:35.077374Z",
     "iopub.status.busy": "2021-01-31T00:14:35.076624Z",
     "iopub.status.idle": "2021-01-31T00:14:35.084782Z",
     "shell.execute_reply": "2021-01-31T00:14:35.085521Z"
    },
    "papermill": {
     "duration": 0.065123,
     "end_time": "2021-01-31T00:14:35.085674",
     "exception": false,
     "start_time": "2021-01-31T00:14:35.020551",
     "status": "completed"
    },
    "tags": []
   },
   "outputs": [
    {
     "data": {
      "text/html": [
       "<div>\n",
       "<style scoped>\n",
       "    .dataframe tbody tr th:only-of-type {\n",
       "        vertical-align: middle;\n",
       "    }\n",
       "\n",
       "    .dataframe tbody tr th {\n",
       "        vertical-align: top;\n",
       "    }\n",
       "\n",
       "    .dataframe thead th {\n",
       "        text-align: right;\n",
       "    }\n",
       "</style>\n",
       "<table border=\"1\" class=\"dataframe\">\n",
       "  <thead>\n",
       "    <tr style=\"text-align: right;\">\n",
       "      <th></th>\n",
       "      <th>Country/Region</th>\n",
       "      <th>Cases</th>\n",
       "      <th>Deaths</th>\n",
       "      <th>PCases</th>\n",
       "      <th>PDeaths</th>\n",
       "      <th>Cases (+)</th>\n",
       "      <th>Deaths (+)</th>\n",
       "      <th>Fatality Rate</th>\n",
       "      <th>Continent</th>\n",
       "    </tr>\n",
       "  </thead>\n",
       "  <tbody>\n",
       "    <tr>\n",
       "      <th>0</th>\n",
       "      <td>US</td>\n",
       "      <td>25932794</td>\n",
       "      <td>436799</td>\n",
       "      <td>25766681</td>\n",
       "      <td>433195</td>\n",
       "      <td>166113</td>\n",
       "      <td>3604</td>\n",
       "      <td>1.68</td>\n",
       "      <td>North America</td>\n",
       "    </tr>\n",
       "    <tr>\n",
       "      <th>1</th>\n",
       "      <td>India</td>\n",
       "      <td>10733130</td>\n",
       "      <td>154147</td>\n",
       "      <td>10720048</td>\n",
       "      <td>154010</td>\n",
       "      <td>13082</td>\n",
       "      <td>137</td>\n",
       "      <td>1.44</td>\n",
       "      <td>Asia</td>\n",
       "    </tr>\n",
       "    <tr>\n",
       "      <th>2</th>\n",
       "      <td>Brazil</td>\n",
       "      <td>9118513</td>\n",
       "      <td>222666</td>\n",
       "      <td>9058687</td>\n",
       "      <td>221547</td>\n",
       "      <td>59826</td>\n",
       "      <td>1119</td>\n",
       "      <td>2.44</td>\n",
       "      <td>South America</td>\n",
       "    </tr>\n",
       "    <tr>\n",
       "      <th>3</th>\n",
       "      <td>United Kingdom</td>\n",
       "      <td>3783593</td>\n",
       "      <td>104572</td>\n",
       "      <td>3754448</td>\n",
       "      <td>103324</td>\n",
       "      <td>29145</td>\n",
       "      <td>1248</td>\n",
       "      <td>2.76</td>\n",
       "      <td>Europe</td>\n",
       "    </tr>\n",
       "    <tr>\n",
       "      <th>4</th>\n",
       "      <td>Russia</td>\n",
       "      <td>3771514</td>\n",
       "      <td>71054</td>\n",
       "      <td>3752548</td>\n",
       "      <td>70533</td>\n",
       "      <td>18966</td>\n",
       "      <td>521</td>\n",
       "      <td>1.88</td>\n",
       "      <td>Europe</td>\n",
       "    </tr>\n",
       "  </tbody>\n",
       "</table>\n",
       "</div>"
      ],
      "text/plain": [
       "   Country/Region     Cases  Deaths    PCases  PDeaths  Cases (+)  Deaths (+)  \\\n",
       "0              US  25932794  436799  25766681   433195     166113        3604   \n",
       "1           India  10733130  154147  10720048   154010      13082         137   \n",
       "2          Brazil   9118513  222666   9058687   221547      59826        1119   \n",
       "3  United Kingdom   3783593  104572   3754448   103324      29145        1248   \n",
       "4          Russia   3771514   71054   3752548    70533      18966         521   \n",
       "\n",
       "   Fatality Rate      Continent  \n",
       "0           1.68  North America  \n",
       "1           1.44           Asia  \n",
       "2           2.44  South America  \n",
       "3           2.76         Europe  \n",
       "4           1.88         Europe  "
      ]
     },
     "execution_count": 13,
     "metadata": {},
     "output_type": "execute_result"
    }
   ],
   "source": [
    "#hide\n",
    "for c in 'Cases, Deaths'.split(', '):\n",
    "    df_table[f'{c} (+)'] = (df_table[c] - df_table[f'P{c}']).clip(0)\n",
    "    #Clip ça veut dire, les chiffres negatif sont interdit\n",
    "df_table['Fatality Rate'] = (100* df_table['Deaths']/ df_table['Cases']).round(2)\n",
    "df_table['Continent'] = df_table['Country/Region'].map(mapping['map.continent'])\n",
    "df_table.head(5)"
   ]
  },
  {
   "cell_type": "code",
   "execution_count": 14,
   "id": "aboriginal-bulgaria",
   "metadata": {
    "execution": {
     "iopub.execute_input": "2021-01-31T00:14:35.165814Z",
     "iopub.status.busy": "2021-01-31T00:14:35.164975Z",
     "iopub.status.idle": "2021-01-31T00:14:35.167637Z",
     "shell.execute_reply": "2021-01-31T00:14:35.168130Z"
    },
    "papermill": {
     "duration": 0.045288,
     "end_time": "2021-01-31T00:14:35.168257",
     "exception": false,
     "start_time": "2021-01-31T00:14:35.122969",
     "status": "completed"
    },
    "tags": []
   },
   "outputs": [],
   "source": [
    "#hide\n",
    "#delete problematic countries from table\n",
    "df_table = df_table[~df_table['Country/Region'].isin(['Cape Verde', 'Cruise Ship', 'Kosovo'])]"
   ]
  },
  {
   "cell_type": "code",
   "execution_count": 15,
   "id": "fantastic-effect",
   "metadata": {
    "execution": {
     "iopub.execute_input": "2021-01-31T00:14:35.251491Z",
     "iopub.status.busy": "2021-01-31T00:14:35.250738Z",
     "iopub.status.idle": "2021-01-31T00:14:35.272927Z",
     "shell.execute_reply": "2021-01-31T00:14:35.272388Z"
    },
    "papermill": {
     "duration": 0.06795,
     "end_time": "2021-01-31T00:14:35.273055",
     "exception": false,
     "start_time": "2021-01-31T00:14:35.205105",
     "status": "completed"
    },
    "tags": []
   },
   "outputs": [
    {
     "data": {
      "text/html": [
       "<div>\n",
       "<style scoped>\n",
       "    .dataframe tbody tr th:only-of-type {\n",
       "        vertical-align: middle;\n",
       "    }\n",
       "\n",
       "    .dataframe tbody tr th {\n",
       "        vertical-align: top;\n",
       "    }\n",
       "\n",
       "    .dataframe thead th {\n",
       "        text-align: right;\n",
       "    }\n",
       "</style>\n",
       "<table border=\"1\" class=\"dataframe\">\n",
       "  <thead>\n",
       "    <tr style=\"text-align: right;\">\n",
       "      <th></th>\n",
       "      <th>Country/Region</th>\n",
       "      <th>Cases</th>\n",
       "      <th>Deaths</th>\n",
       "      <th>PCases</th>\n",
       "      <th>PDeaths</th>\n",
       "      <th>Cases (+)</th>\n",
       "      <th>Deaths (+)</th>\n",
       "      <th>Fatality Rate</th>\n",
       "      <th>Continent</th>\n",
       "    </tr>\n",
       "  </thead>\n",
       "  <tbody>\n",
       "    <tr>\n",
       "      <th>0</th>\n",
       "      <td>US</td>\n",
       "      <td>25932794</td>\n",
       "      <td>436799</td>\n",
       "      <td>25766681</td>\n",
       "      <td>433195</td>\n",
       "      <td>166113</td>\n",
       "      <td>3604</td>\n",
       "      <td>1.7</td>\n",
       "      <td>North America</td>\n",
       "    </tr>\n",
       "    <tr>\n",
       "      <th>1</th>\n",
       "      <td>India</td>\n",
       "      <td>10733130</td>\n",
       "      <td>154147</td>\n",
       "      <td>10720048</td>\n",
       "      <td>154010</td>\n",
       "      <td>13082</td>\n",
       "      <td>137</td>\n",
       "      <td>1.4</td>\n",
       "      <td>Asia</td>\n",
       "    </tr>\n",
       "    <tr>\n",
       "      <th>2</th>\n",
       "      <td>Brazil</td>\n",
       "      <td>9118513</td>\n",
       "      <td>222666</td>\n",
       "      <td>9058687</td>\n",
       "      <td>221547</td>\n",
       "      <td>59826</td>\n",
       "      <td>1119</td>\n",
       "      <td>2.4</td>\n",
       "      <td>South America</td>\n",
       "    </tr>\n",
       "    <tr>\n",
       "      <th>3</th>\n",
       "      <td>United Kingdom</td>\n",
       "      <td>3783593</td>\n",
       "      <td>104572</td>\n",
       "      <td>3754448</td>\n",
       "      <td>103324</td>\n",
       "      <td>29145</td>\n",
       "      <td>1248</td>\n",
       "      <td>2.8</td>\n",
       "      <td>Europe</td>\n",
       "    </tr>\n",
       "    <tr>\n",
       "      <th>4</th>\n",
       "      <td>Russia</td>\n",
       "      <td>3771514</td>\n",
       "      <td>71054</td>\n",
       "      <td>3752548</td>\n",
       "      <td>70533</td>\n",
       "      <td>18966</td>\n",
       "      <td>521</td>\n",
       "      <td>1.9</td>\n",
       "      <td>Europe</td>\n",
       "    </tr>\n",
       "  </tbody>\n",
       "</table>\n",
       "</div>"
      ],
      "text/plain": [
       "   Country/Region     Cases  Deaths    PCases  PDeaths  Cases (+)  Deaths (+)  \\\n",
       "0              US  25932794  436799  25766681   433195     166113        3604   \n",
       "1           India  10733130  154147  10720048   154010      13082         137   \n",
       "2          Brazil   9118513  222666   9058687   221547      59826        1119   \n",
       "3  United Kingdom   3783593  104572   3754448   103324      29145        1248   \n",
       "4          Russia   3771514   71054   3752548    70533      18966         521   \n",
       "\n",
       "   Fatality Rate      Continent  \n",
       "0            1.7  North America  \n",
       "1            1.4           Asia  \n",
       "2            2.4  South America  \n",
       "3            2.8         Europe  \n",
       "4            1.9         Europe  "
      ]
     },
     "execution_count": 15,
     "metadata": {},
     "output_type": "execute_result"
    }
   ],
   "source": [
    "#hide\n",
    "df_table = (pd.DataFrame(dict(Cases=dfc_cases, Deaths=dfc_deaths, PCases=dfp_cases, PDeaths=dfp_deaths))\n",
    "             .sort_values(by=['Cases', 'Deaths'], ascending=[False, False])\n",
    "             .reset_index())\n",
    "df_table.rename(columns={'index': 'Country/Region'}, inplace=True)\n",
    "for c in 'Cases, Deaths'.split(', '):\n",
    "    df_table[f'{c} (+)'] = (df_table[c] - df_table[f'P{c}']).clip(0)  # DATA BUG\n",
    "df_table['Fatality Rate'] = (100 * df_table['Deaths'] / df_table['Cases']).round(1)\n",
    "df_table['Continent'] = df_table['Country/Region'].map(mapping['map.continent'])\n",
    "df_table.head(5)"
   ]
  },
  {
   "cell_type": "code",
   "execution_count": 16,
   "id": "fewer-occasion",
   "metadata": {
    "execution": {
     "iopub.execute_input": "2021-01-31T00:14:35.353640Z",
     "iopub.status.busy": "2021-01-31T00:14:35.353010Z",
     "iopub.status.idle": "2021-01-31T00:14:35.355595Z",
     "shell.execute_reply": "2021-01-31T00:14:35.356172Z"
    },
    "papermill": {
     "duration": 0.04571,
     "end_time": "2021-01-31T00:14:35.356398",
     "exception": false,
     "start_time": "2021-01-31T00:14:35.310688",
     "status": "completed"
    },
    "tags": []
   },
   "outputs": [],
   "source": [
    "#hide\n",
    "#delete problematic countries from table\n",
    "df_table = df_table[~df_table['Country/Region'].isin(['Cape Verde', 'Cruise Ship', 'Kosovo'])]"
   ]
  },
  {
   "cell_type": "code",
   "execution_count": 17,
   "id": "related-center",
   "metadata": {
    "execution": {
     "iopub.execute_input": "2021-01-31T00:14:35.439685Z",
     "iopub.status.busy": "2021-01-31T00:14:35.438966Z",
     "iopub.status.idle": "2021-01-31T00:14:35.455731Z",
     "shell.execute_reply": "2021-01-31T00:14:35.455052Z"
    },
    "papermill": {
     "duration": 0.06014,
     "end_time": "2021-01-31T00:14:35.455859",
     "exception": false,
     "start_time": "2021-01-31T00:14:35.395719",
     "status": "completed"
    },
    "tags": []
   },
   "outputs": [],
   "source": [
    "#hide\n",
    "metrics = [df_table.columns[index] for index in [1,2,5,6]]\n",
    "# s_china = df_table[df_table['Country/Region'].eq('China')][metrics].sum().add_prefix('China ')\n",
    "s_us = df_table[df_table['Country/Region'].eq('US')][metrics].sum().add_prefix('US ')\n",
    "s_eu = df_table[df_table['Continent'].eq('Europe')][metrics].sum().add_prefix('EU ')\n",
    "s_ind = df_table[df_table['Country/Region'].eq('India')][metrics].sum().add_prefix('India ')\n",
    "summary = {'updated': pd.to_datetime(dt_today), 'since': pd.to_datetime(dt_yday)}\n",
    "summary = {'updated': pd.to_datetime(dt_today), 'since': pd.to_datetime(dt_yday)}\n",
    "summary = {**summary, **df_table[metrics].sum(), **s_ind, **s_us, **s_eu}"
   ]
  },
  {
   "cell_type": "code",
   "execution_count": 18,
   "id": "engaging-syndrome",
   "metadata": {
    "execution": {
     "iopub.execute_input": "2021-01-31T00:14:35.532331Z",
     "iopub.status.busy": "2021-01-31T00:14:35.531563Z",
     "iopub.status.idle": "2021-01-31T00:14:35.544824Z",
     "shell.execute_reply": "2021-01-31T00:14:35.544330Z"
    },
    "papermill": {
     "duration": 0.05192,
     "end_time": "2021-01-31T00:14:35.544979",
     "exception": false,
     "start_time": "2021-01-31T00:14:35.493059",
     "status": "completed"
    },
    "tags": []
   },
   "outputs": [],
   "source": [
    "#hide\n",
    "dft_ct_new_cases = dft_cases.groupby(COL_REGION)[dt_cols].sum().diff(axis=1).fillna(0).astype(int)"
   ]
  },
  {
   "cell_type": "code",
   "execution_count": 19,
   "id": "neutral-assignment",
   "metadata": {
    "execution": {
     "iopub.execute_input": "2021-01-31T00:14:35.630870Z",
     "iopub.status.busy": "2021-01-31T00:14:35.630122Z",
     "iopub.status.idle": "2021-01-31T00:14:35.632769Z",
     "shell.execute_reply": "2021-01-31T00:14:35.632228Z"
    },
    "papermill": {
     "duration": 0.047576,
     "end_time": "2021-01-31T00:14:35.632952",
     "exception": false,
     "start_time": "2021-01-31T00:14:35.585376",
     "status": "completed"
    },
    "tags": []
   },
   "outputs": [],
   "source": [
    "#hide\n",
    "everydaycases = dft_ct_new_cases.cumsum(axis=1)"
   ]
  },
  {
   "cell_type": "code",
   "execution_count": 20,
   "id": "parliamentary-calgary",
   "metadata": {
    "execution": {
     "iopub.execute_input": "2021-01-31T00:14:35.704632Z",
     "iopub.status.busy": "2021-01-31T00:14:35.703884Z",
     "iopub.status.idle": "2021-01-31T00:14:37.742656Z",
     "shell.execute_reply": "2021-01-31T00:14:37.742158Z"
    },
    "papermill": {
     "duration": 2.075527,
     "end_time": "2021-01-31T00:14:37.742791",
     "exception": false,
     "start_time": "2021-01-31T00:14:35.667264",
     "status": "completed"
    },
    "tags": []
   },
   "outputs": [],
   "source": [
    "#hide\n",
    "import pandas as pd\n",
    "import matplotlib.pyplot as plt\n",
    "import matplotlib.ticker as ticker\n",
    "import matplotlib.animation as animation\n",
    "from IPython.display import HTML"
   ]
  },
  {
   "cell_type": "code",
   "execution_count": 21,
   "id": "lasting-extraction",
   "metadata": {
    "execution": {
     "iopub.execute_input": "2021-01-31T00:14:37.825947Z",
     "iopub.status.busy": "2021-01-31T00:14:37.825187Z",
     "iopub.status.idle": "2021-01-31T00:14:37.830533Z",
     "shell.execute_reply": "2021-01-31T00:14:37.831836Z"
    },
    "papermill": {
     "duration": 0.050393,
     "end_time": "2021-01-31T00:14:37.831985",
     "exception": false,
     "start_time": "2021-01-31T00:14:37.781592",
     "status": "completed"
    },
    "tags": []
   },
   "outputs": [],
   "source": [
    "#hide\n",
    "t = everydaycases.stack()"
   ]
  },
  {
   "cell_type": "code",
   "execution_count": 22,
   "id": "premier-sleeve",
   "metadata": {
    "execution": {
     "iopub.execute_input": "2021-01-31T00:14:37.905958Z",
     "iopub.status.busy": "2021-01-31T00:14:37.905404Z",
     "iopub.status.idle": "2021-01-31T00:14:37.912728Z",
     "shell.execute_reply": "2021-01-31T00:14:37.912254Z"
    },
    "papermill": {
     "duration": 0.046104,
     "end_time": "2021-01-31T00:14:37.912842",
     "exception": false,
     "start_time": "2021-01-31T00:14:37.866738",
     "status": "completed"
    },
    "tags": []
   },
   "outputs": [],
   "source": [
    "#hide\n",
    "g = t.reset_index(['Country/Region'])"
   ]
  },
  {
   "cell_type": "code",
   "execution_count": 23,
   "id": "distributed-pittsburgh",
   "metadata": {
    "execution": {
     "iopub.execute_input": "2021-01-31T00:14:37.995227Z",
     "iopub.status.busy": "2021-01-31T00:14:37.993601Z",
     "iopub.status.idle": "2021-01-31T00:14:37.995924Z",
     "shell.execute_reply": "2021-01-31T00:14:37.996446Z"
    },
    "papermill": {
     "duration": 0.047284,
     "end_time": "2021-01-31T00:14:37.996601",
     "exception": false,
     "start_time": "2021-01-31T00:14:37.949317",
     "status": "completed"
    },
    "tags": []
   },
   "outputs": [],
   "source": [
    "#hide\n",
    "g.index.name = 'date'"
   ]
  },
  {
   "cell_type": "code",
   "execution_count": 24,
   "id": "naked-donor",
   "metadata": {
    "execution": {
     "iopub.execute_input": "2021-01-31T00:14:38.077785Z",
     "iopub.status.busy": "2021-01-31T00:14:38.077227Z",
     "iopub.status.idle": "2021-01-31T00:14:38.079163Z",
     "shell.execute_reply": "2021-01-31T00:14:38.079628Z"
    },
    "papermill": {
     "duration": 0.045832,
     "end_time": "2021-01-31T00:14:38.079758",
     "exception": false,
     "start_time": "2021-01-31T00:14:38.033926",
     "status": "completed"
    },
    "tags": []
   },
   "outputs": [],
   "source": [
    "# #hide\n",
    "# g = g.reset_index(['date'])"
   ]
  },
  {
   "cell_type": "code",
   "execution_count": 25,
   "id": "incomplete-mustang",
   "metadata": {
    "execution": {
     "iopub.execute_input": "2021-01-31T00:14:38.162930Z",
     "iopub.status.busy": "2021-01-31T00:14:38.162344Z",
     "iopub.status.idle": "2021-01-31T00:14:38.164759Z",
     "shell.execute_reply": "2021-01-31T00:14:38.164286Z"
    },
    "papermill": {
     "duration": 0.044446,
     "end_time": "2021-01-31T00:14:38.164877",
     "exception": false,
     "start_time": "2021-01-31T00:14:38.120431",
     "status": "completed"
    },
    "tags": []
   },
   "outputs": [],
   "source": [
    "#hide\n",
    "# g.head()"
   ]
  },
  {
   "cell_type": "code",
   "execution_count": 26,
   "id": "specific-kruger",
   "metadata": {
    "execution": {
     "iopub.execute_input": "2021-01-31T00:14:38.244259Z",
     "iopub.status.busy": "2021-01-31T00:14:38.243619Z",
     "iopub.status.idle": "2021-01-31T00:14:38.245721Z",
     "shell.execute_reply": "2021-01-31T00:14:38.245161Z"
    },
    "papermill": {
     "duration": 0.043544,
     "end_time": "2021-01-31T00:14:38.245844",
     "exception": false,
     "start_time": "2021-01-31T00:14:38.202300",
     "status": "completed"
    },
    "tags": []
   },
   "outputs": [],
   "source": [
    "#hide\n",
    "# g.columns = ['date','country','cases']"
   ]
  },
  {
   "cell_type": "code",
   "execution_count": 27,
   "id": "tender-conversion",
   "metadata": {
    "execution": {
     "iopub.execute_input": "2021-01-31T00:14:38.319483Z",
     "iopub.status.busy": "2021-01-31T00:14:38.318912Z",
     "iopub.status.idle": "2021-01-31T00:14:38.321376Z",
     "shell.execute_reply": "2021-01-31T00:14:38.320870Z"
    },
    "papermill": {
     "duration": 0.042588,
     "end_time": "2021-01-31T00:14:38.321488",
     "exception": false,
     "start_time": "2021-01-31T00:14:38.278900",
     "status": "completed"
    },
    "tags": []
   },
   "outputs": [],
   "source": [
    "#hide\n",
    "# g['continent'] = g.country"
   ]
  },
  {
   "cell_type": "code",
   "execution_count": 28,
   "id": "substantial-wilderness",
   "metadata": {
    "execution": {
     "iopub.execute_input": "2021-01-31T00:14:38.395738Z",
     "iopub.status.busy": "2021-01-31T00:14:38.394984Z",
     "iopub.status.idle": "2021-01-31T00:14:38.397605Z",
     "shell.execute_reply": "2021-01-31T00:14:38.397100Z"
    },
    "papermill": {
     "duration": 0.040415,
     "end_time": "2021-01-31T00:14:38.397721",
     "exception": false,
     "start_time": "2021-01-31T00:14:38.357306",
     "status": "completed"
    },
    "tags": []
   },
   "outputs": [],
   "source": [
    "#hide\n",
    "# cols = list(g.columns.values)"
   ]
  },
  {
   "cell_type": "code",
   "execution_count": 29,
   "id": "solved-farming",
   "metadata": {
    "execution": {
     "iopub.execute_input": "2021-01-31T00:14:38.469461Z",
     "iopub.status.busy": "2021-01-31T00:14:38.468765Z",
     "iopub.status.idle": "2021-01-31T00:14:38.470661Z",
     "shell.execute_reply": "2021-01-31T00:14:38.471094Z"
    },
    "papermill": {
     "duration": 0.039151,
     "end_time": "2021-01-31T00:14:38.471212",
     "exception": false,
     "start_time": "2021-01-31T00:14:38.432061",
     "status": "completed"
    },
    "tags": []
   },
   "outputs": [],
   "source": [
    "#hide\n",
    "# cols.insert(0, cols.pop())"
   ]
  },
  {
   "cell_type": "code",
   "execution_count": 30,
   "id": "executed-adoption",
   "metadata": {
    "execution": {
     "iopub.execute_input": "2021-01-31T00:14:38.552397Z",
     "iopub.status.busy": "2021-01-31T00:14:38.551647Z",
     "iopub.status.idle": "2021-01-31T00:14:38.554190Z",
     "shell.execute_reply": "2021-01-31T00:14:38.553708Z"
    },
    "papermill": {
     "duration": 0.04254,
     "end_time": "2021-01-31T00:14:38.554346",
     "exception": false,
     "start_time": "2021-01-31T00:14:38.511806",
     "status": "completed"
    },
    "tags": []
   },
   "outputs": [],
   "source": [
    "#hide\n",
    "# g = g[cols]"
   ]
  },
  {
   "cell_type": "code",
   "execution_count": 31,
   "id": "subject-dublin",
   "metadata": {
    "execution": {
     "iopub.execute_input": "2021-01-31T00:14:38.626278Z",
     "iopub.status.busy": "2021-01-31T00:14:38.625691Z",
     "iopub.status.idle": "2021-01-31T00:14:38.628633Z",
     "shell.execute_reply": "2021-01-31T00:14:38.628016Z"
    },
    "papermill": {
     "duration": 0.039795,
     "end_time": "2021-01-31T00:14:38.628749",
     "exception": false,
     "start_time": "2021-01-31T00:14:38.588954",
     "status": "completed"
    },
    "tags": []
   },
   "outputs": [],
   "source": [
    "#hide\n",
    "# g['continent'] = g['continent'].map(mapping['map.continent'])"
   ]
  },
  {
   "cell_type": "code",
   "execution_count": 32,
   "id": "freelance-scout",
   "metadata": {
    "execution": {
     "iopub.execute_input": "2021-01-31T00:14:38.706706Z",
     "iopub.status.busy": "2021-01-31T00:14:38.705884Z",
     "iopub.status.idle": "2021-01-31T00:14:38.708497Z",
     "shell.execute_reply": "2021-01-31T00:14:38.707915Z"
    },
    "papermill": {
     "duration": 0.045106,
     "end_time": "2021-01-31T00:14:38.708627",
     "exception": false,
     "start_time": "2021-01-31T00:14:38.663521",
     "status": "completed"
    },
    "tags": []
   },
   "outputs": [],
   "source": [
    "#hide\n",
    "# g.head()"
   ]
  },
  {
   "cell_type": "code",
   "execution_count": 33,
   "id": "limited-engine",
   "metadata": {
    "execution": {
     "iopub.execute_input": "2021-01-31T00:14:38.790188Z",
     "iopub.status.busy": "2021-01-31T00:14:38.789428Z",
     "iopub.status.idle": "2021-01-31T00:14:38.792029Z",
     "shell.execute_reply": "2021-01-31T00:14:38.791399Z"
    },
    "papermill": {
     "duration": 0.045004,
     "end_time": "2021-01-31T00:14:38.792171",
     "exception": false,
     "start_time": "2021-01-31T00:14:38.747167",
     "status": "completed"
    },
    "tags": []
   },
   "outputs": [],
   "source": [
    "# hide\n",
    "# g['date'] = g['date'].astype('datetime64[ns]')"
   ]
  },
  {
   "cell_type": "code",
   "execution_count": 34,
   "id": "sophisticated-supervisor",
   "metadata": {
    "execution": {
     "iopub.execute_input": "2021-01-31T00:14:38.867950Z",
     "iopub.status.busy": "2021-01-31T00:14:38.867166Z",
     "iopub.status.idle": "2021-01-31T00:14:38.868912Z",
     "shell.execute_reply": "2021-01-31T00:14:38.869503Z"
    },
    "papermill": {
     "duration": 0.04184,
     "end_time": "2021-01-31T00:14:38.869635",
     "exception": false,
     "start_time": "2021-01-31T00:14:38.827795",
     "status": "completed"
    },
    "tags": []
   },
   "outputs": [],
   "source": [
    "#hide\n",
    "# g['date'] = g.date.dt.dayofyear"
   ]
  },
  {
   "cell_type": "code",
   "execution_count": 35,
   "id": "inside-dubai",
   "metadata": {
    "execution": {
     "iopub.execute_input": "2021-01-31T00:14:38.943783Z",
     "iopub.status.busy": "2021-01-31T00:14:38.942994Z",
     "iopub.status.idle": "2021-01-31T00:14:38.945817Z",
     "shell.execute_reply": "2021-01-31T00:14:38.945274Z"
    },
    "papermill": {
     "duration": 0.04125,
     "end_time": "2021-01-31T00:14:38.945991",
     "exception": false,
     "start_time": "2021-01-31T00:14:38.904741",
     "status": "completed"
    },
    "tags": []
   },
   "outputs": [],
   "source": [
    "#hide\n",
    "# g = g.rename(columns= {'continent':'group','country':'name','cases':'value'})"
   ]
  },
  {
   "cell_type": "code",
   "execution_count": 36,
   "id": "fleet-motorcycle",
   "metadata": {
    "execution": {
     "iopub.execute_input": "2021-01-31T00:14:39.025404Z",
     "iopub.status.busy": "2021-01-31T00:14:39.024605Z",
     "iopub.status.idle": "2021-01-31T00:14:39.027574Z",
     "shell.execute_reply": "2021-01-31T00:14:39.026950Z"
    },
    "papermill": {
     "duration": 0.044212,
     "end_time": "2021-01-31T00:14:39.027696",
     "exception": false,
     "start_time": "2021-01-31T00:14:38.983484",
     "status": "completed"
    },
    "tags": []
   },
   "outputs": [],
   "source": [
    "#hide\n",
    "# cols = ['name','group','day','value']"
   ]
  },
  {
   "cell_type": "code",
   "execution_count": 37,
   "id": "continued-sleeping",
   "metadata": {
    "execution": {
     "iopub.execute_input": "2021-01-31T00:14:39.135758Z",
     "iopub.status.busy": "2021-01-31T00:14:39.135222Z",
     "iopub.status.idle": "2021-01-31T00:14:39.137386Z",
     "shell.execute_reply": "2021-01-31T00:14:39.136691Z"
    },
    "papermill": {
     "duration": 0.039685,
     "end_time": "2021-01-31T00:14:39.137498",
     "exception": false,
     "start_time": "2021-01-31T00:14:39.097813",
     "status": "completed"
    },
    "tags": []
   },
   "outputs": [],
   "source": [
    "#hide\n",
    "# g.rename(columns= {'date':'day'},inplace = True)"
   ]
  },
  {
   "cell_type": "code",
   "execution_count": 38,
   "id": "major-fight",
   "metadata": {
    "execution": {
     "iopub.execute_input": "2021-01-31T00:14:39.213758Z",
     "iopub.status.busy": "2021-01-31T00:14:39.213210Z",
     "iopub.status.idle": "2021-01-31T00:14:39.215909Z",
     "shell.execute_reply": "2021-01-31T00:14:39.215254Z"
    },
    "papermill": {
     "duration": 0.043102,
     "end_time": "2021-01-31T00:14:39.216022",
     "exception": false,
     "start_time": "2021-01-31T00:14:39.172920",
     "status": "completed"
    },
    "tags": []
   },
   "outputs": [],
   "source": [
    "#hide\n",
    "# g = g[cols]"
   ]
  },
  {
   "cell_type": "code",
   "execution_count": 39,
   "id": "structured-mobile",
   "metadata": {
    "execution": {
     "iopub.execute_input": "2021-01-31T00:14:39.287122Z",
     "iopub.status.busy": "2021-01-31T00:14:39.286322Z",
     "iopub.status.idle": "2021-01-31T00:14:39.288715Z",
     "shell.execute_reply": "2021-01-31T00:14:39.288260Z"
    },
    "papermill": {
     "duration": 0.039268,
     "end_time": "2021-01-31T00:14:39.288825",
     "exception": false,
     "start_time": "2021-01-31T00:14:39.249557",
     "status": "completed"
    },
    "tags": []
   },
   "outputs": [],
   "source": [
    "# #hide\n",
    "# g = g[g.group.notna()]"
   ]
  },
  {
   "cell_type": "code",
   "execution_count": 40,
   "id": "determined-closing",
   "metadata": {
    "execution": {
     "iopub.execute_input": "2021-01-31T00:14:39.359127Z",
     "iopub.status.busy": "2021-01-31T00:14:39.358560Z",
     "iopub.status.idle": "2021-01-31T00:14:39.360824Z",
     "shell.execute_reply": "2021-01-31T00:14:39.361313Z"
    },
    "papermill": {
     "duration": 0.038994,
     "end_time": "2021-01-31T00:14:39.361441",
     "exception": false,
     "start_time": "2021-01-31T00:14:39.322447",
     "status": "completed"
    },
    "tags": []
   },
   "outputs": [],
   "source": [
    "# #hide\n",
    "# colors = dict(zip(\n",
    "#     [\"Oceania\", \"Europe\", \"Asia\", \"South America\", \"Middle East\", \"North America\", \"Africa\"],\n",
    "#     [\"#adb0ff\", \"#ffb3ff\", \"#90d595\", \"#e48381\", \"#aafbff\", \"#f7bb5f\", \"#eafb50\"]\n",
    "# ))\n",
    "# group_lk = g.set_index('name')['group'].to_dict()"
   ]
  },
  {
   "cell_type": "code",
   "execution_count": null,
   "id": "gross-drinking",
   "metadata": {
    "papermill": {
     "duration": 0.032895,
     "end_time": "2021-01-31T00:14:39.427755",
     "exception": false,
     "start_time": "2021-01-31T00:14:39.394860",
     "status": "completed"
    },
    "tags": []
   },
   "outputs": [],
   "source": []
  },
  {
   "cell_type": "code",
   "execution_count": 41,
   "id": "subject-macintosh",
   "metadata": {
    "execution": {
     "iopub.execute_input": "2021-01-31T00:14:39.497889Z",
     "iopub.status.busy": "2021-01-31T00:14:39.497259Z",
     "iopub.status.idle": "2021-01-31T00:14:39.499548Z",
     "shell.execute_reply": "2021-01-31T00:14:39.499006Z"
    },
    "papermill": {
     "duration": 0.038934,
     "end_time": "2021-01-31T00:14:39.499657",
     "exception": false,
     "start_time": "2021-01-31T00:14:39.460723",
     "status": "completed"
    },
    "tags": []
   },
   "outputs": [],
   "source": [
    "# #hide\n",
    "# fig, ax = plt.subplots(figsize=(15, 8))\n",
    "\n",
    "# def draw_barchart(current_day):\n",
    "#     dff = g[g['day'].eq(current_day)].sort_values(by='value', ascending=True).tail(10)\n",
    "#     ax.clear()\n",
    "#     ax.barh(dff['name'], dff['value'], color=[colors[group_lk[x]] for x in dff['name']])\n",
    "#     dx = dff['value'].max() / 200\n",
    "    \n",
    "#     for i, (value, name) in enumerate(zip(dff['value'], dff['name'])):\n",
    "#         ax.text(value-dx, i,     name,           size=14, weight=600, ha='right', va='bottom')\n",
    "#         ax.text(value-dx, i-.25, group_lk[name], size=10, color='#444444', ha='right', va='baseline')\n",
    "#         ax.text(value+dx, i,     f'{value:,.0f}',  size=14, ha='left',  va='center')\n",
    "#     ax.text(1, 0.4, current_day, transform=ax.transAxes, color='#777777', size=46, ha='right', weight=800)\n",
    "#     ax.text(0, 1.06, 'Population (thousands)', transform=ax.transAxes, size=12, color='#777777')\n",
    "#     ax.xaxis.set_major_formatter(ticker.StrMethodFormatter('{x:,.0f}'))\n",
    "#     ax.xaxis.set_ticks_position('top')\n",
    "#     ax.tick_params(axis='x', colors='#777777', labelsize=12)\n",
    "#     ax.set_yticks([])\n",
    "#     ax.margins(0, 0.01)\n",
    "#     ax.grid(which='major', axis='x', linestyle='-')\n",
    "#     ax.set_axisbelow(True)\n",
    "    \n",
    "#     ax.text(0, 1.15, 'Coronavirus',\n",
    "#             transform=ax.transAxes, size=24, weight=600, ha='left', va='top')\n",
    "# #     ax.text(1, 0, 'by @pratapvardhan; credit @jburnmurdoch', transform=ax.transAxes, color='#777777', ha='right',\n",
    "# #             bbox=dict(facecolor='white', alpha=0.8, edgecolor='white'))\n",
    "#     plt.box(False)"
   ]
  },
  {
   "cell_type": "code",
   "execution_count": 42,
   "id": "sexual-wages",
   "metadata": {
    "execution": {
     "iopub.execute_input": "2021-01-31T00:14:39.576698Z",
     "iopub.status.busy": "2021-01-31T00:14:39.576025Z",
     "iopub.status.idle": "2021-01-31T00:14:39.577996Z",
     "shell.execute_reply": "2021-01-31T00:14:39.578607Z"
    },
    "papermill": {
     "duration": 0.042255,
     "end_time": "2021-01-31T00:14:39.578752",
     "exception": false,
     "start_time": "2021-01-31T00:14:39.536497",
     "status": "completed"
    },
    "tags": []
   },
   "outputs": [],
   "source": [
    "# #hide_input\n",
    "# fig, ax = plt.subplots(figsize=(15, 8))\n",
    "# animator = animation.FuncAnimation(fig, draw_barchart, frames=range(g.day.values.min(), g.day.values.max()))\n",
    "# HTML(animator.to_jshtml())\n",
    "# # or use animator.to_html5_video() or animator.save() "
   ]
  },
  {
   "cell_type": "code",
   "execution_count": null,
   "id": "australian-container",
   "metadata": {
    "papermill": {
     "duration": 0.038348,
     "end_time": "2021-01-31T00:14:39.654529",
     "exception": false,
     "start_time": "2021-01-31T00:14:39.616181",
     "status": "completed"
    },
    "tags": []
   },
   "outputs": [],
   "source": []
  },
  {
   "cell_type": "code",
   "execution_count": null,
   "id": "mediterranean-pontiac",
   "metadata": {
    "papermill": {
     "duration": 0.03952,
     "end_time": "2021-01-31T00:14:39.732896",
     "exception": false,
     "start_time": "2021-01-31T00:14:39.693376",
     "status": "completed"
    },
    "tags": []
   },
   "outputs": [],
   "source": []
  },
  {
   "cell_type": "code",
   "execution_count": null,
   "id": "aging-legislature",
   "metadata": {
    "papermill": {
     "duration": 0.03786,
     "end_time": "2021-01-31T00:14:39.807822",
     "exception": false,
     "start_time": "2021-01-31T00:14:39.769962",
     "status": "completed"
    },
    "tags": []
   },
   "outputs": [],
   "source": []
  }
 ],
 "metadata": {
  "kernelspec": {
   "display_name": "Python 3",
   "language": "python",
   "name": "python3"
  },
  "language_info": {
   "codemirror_mode": {
    "name": "ipython",
    "version": 3
   },
   "file_extension": ".py",
   "mimetype": "text/x-python",
   "name": "python",
   "nbconvert_exporter": "python",
   "pygments_lexer": "ipython3",
   "version": "3.6.12"
  },
  "papermill": {
   "duration": 8.065477,
   "end_time": "2021-01-31T00:14:40.153481",
   "environment_variables": {},
   "exception": null,
   "input_path": "2020-03-21-covid19exp.ipynb",
   "output_path": "2020-03-21-covid19exp.ipynb",
   "parameters": {},
   "start_time": "2021-01-31T00:14:32.088004",
   "version": "2.0.0"
  }
 },
 "nbformat": 4,
 "nbformat_minor": 5
}