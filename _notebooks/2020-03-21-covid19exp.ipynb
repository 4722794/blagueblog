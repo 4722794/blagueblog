{
 "cells": [
  {
   "cell_type": "markdown",
   "id": "muslim-click",
   "metadata": {
    "papermill": {
     "duration": 0.034738,
     "end_time": "2021-08-03T00:21:16.273785",
     "exception": false,
     "start_time": "2021-08-03T00:21:16.239047",
     "status": "completed"
    },
    "tags": []
   },
   "source": [
    "# COVID-19 Case Race\n",
    "> A race chart to see rising cases around the world\n",
    "\n",
    "- author: Hargun Oberoi\n",
    "- image: images/covid-overview.png\n",
    "- hide: false\n",
    "- badges: false"
   ]
  },
  {
   "cell_type": "code",
   "execution_count": 1,
   "id": "proof-material",
   "metadata": {
    "execution": {
     "iopub.execute_input": "2021-08-03T00:21:16.339398Z",
     "iopub.status.busy": "2021-08-03T00:21:16.335281Z",
     "iopub.status.idle": "2021-08-03T00:21:16.715988Z",
     "shell.execute_reply": "2021-08-03T00:21:16.714996Z"
    },
    "papermill": {
     "duration": 0.414772,
     "end_time": "2021-08-03T00:21:16.716144",
     "exception": false,
     "start_time": "2021-08-03T00:21:16.301372",
     "status": "completed"
    },
    "tags": []
   },
   "outputs": [],
   "source": [
    "#hide\n",
    "import numpy as np\n",
    "import pandas as pd\n",
    "from jinja2 import Template\n",
    "from IPython.display import HTML"
   ]
  },
  {
   "cell_type": "code",
   "execution_count": 2,
   "id": "developed-terminology",
   "metadata": {
    "execution": {
     "iopub.execute_input": "2021-08-03T00:21:16.780534Z",
     "iopub.status.busy": "2021-08-03T00:21:16.780010Z",
     "iopub.status.idle": "2021-08-03T00:21:16.783037Z",
     "shell.execute_reply": "2021-08-03T00:21:16.782543Z"
    },
    "papermill": {
     "duration": 0.037458,
     "end_time": "2021-08-03T00:21:16.783155",
     "exception": false,
     "start_time": "2021-08-03T00:21:16.745697",
     "status": "completed"
    },
    "tags": []
   },
   "outputs": [],
   "source": [
    "#hide\n",
    "\n",
    "# FETCH\n",
    "base_url = 'https://raw.githubusercontent.com/pratapvardhan/notebooks/master/covid19/'\n",
    "paths = {\n",
    "    'mapping': base_url + 'mapping_countries.csv',\n",
    "    'overview': base_url + 'overview.tpl'\n",
    "}"
   ]
  },
  {
   "cell_type": "code",
   "execution_count": 3,
   "id": "dynamic-saver",
   "metadata": {
    "execution": {
     "iopub.execute_input": "2021-08-03T00:21:16.848397Z",
     "iopub.status.busy": "2021-08-03T00:21:16.847842Z",
     "iopub.status.idle": "2021-08-03T00:21:16.851488Z",
     "shell.execute_reply": "2021-08-03T00:21:16.851095Z"
    },
    "papermill": {
     "duration": 0.038727,
     "end_time": "2021-08-03T00:21:16.851581",
     "exception": false,
     "start_time": "2021-08-03T00:21:16.812854",
     "status": "completed"
    },
    "tags": []
   },
   "outputs": [
    {
     "data": {
      "text/plain": [
       "'https://raw.githubusercontent.com/pratapvardhan/notebooks/master/covid19/mapping_countries.csv'"
      ]
     },
     "execution_count": 3,
     "metadata": {},
     "output_type": "execute_result"
    }
   ],
   "source": [
    "#hide\n",
    "paths['mapping']"
   ]
  },
  {
   "cell_type": "code",
   "execution_count": 4,
   "id": "urban-software",
   "metadata": {
    "execution": {
     "iopub.execute_input": "2021-08-03T00:21:16.910261Z",
     "iopub.status.busy": "2021-08-03T00:21:16.909846Z",
     "iopub.status.idle": "2021-08-03T00:21:16.911862Z",
     "shell.execute_reply": "2021-08-03T00:21:16.911537Z"
    },
    "papermill": {
     "duration": 0.032874,
     "end_time": "2021-08-03T00:21:16.911943",
     "exception": false,
     "start_time": "2021-08-03T00:21:16.879069",
     "status": "completed"
    },
    "tags": []
   },
   "outputs": [],
   "source": [
    "#hide\n",
    "def get_mappings(url):\n",
    "    df = pd.read_csv(url)\n",
    "    return {\n",
    "        'df': df,\n",
    "        'replace.country': dict(df.dropna(subset=['Name']).set_index('Country')['Name']),\n",
    "        'map.continent': dict(df.set_index('Name')['Continent'])\n",
    "    }"
   ]
  },
  {
   "cell_type": "code",
   "execution_count": 5,
   "id": "intimate-machinery",
   "metadata": {
    "execution": {
     "iopub.execute_input": "2021-08-03T00:21:16.977949Z",
     "iopub.status.busy": "2021-08-03T00:21:16.977484Z",
     "iopub.status.idle": "2021-08-03T00:21:17.006089Z",
     "shell.execute_reply": "2021-08-03T00:21:17.005233Z"
    },
    "papermill": {
     "duration": 0.064768,
     "end_time": "2021-08-03T00:21:17.006276",
     "exception": false,
     "start_time": "2021-08-03T00:21:16.941508",
     "status": "completed"
    },
    "tags": []
   },
   "outputs": [],
   "source": [
    "#hide\n",
    "mapping = get_mappings(paths['mapping'])"
   ]
  },
  {
   "cell_type": "code",
   "execution_count": 6,
   "id": "certified-tactics",
   "metadata": {
    "execution": {
     "iopub.execute_input": "2021-08-03T00:21:17.064634Z",
     "iopub.status.busy": "2021-08-03T00:21:17.064154Z",
     "iopub.status.idle": "2021-08-03T00:21:17.066195Z",
     "shell.execute_reply": "2021-08-03T00:21:17.065804Z"
    },
    "papermill": {
     "duration": 0.032541,
     "end_time": "2021-08-03T00:21:17.066283",
     "exception": false,
     "start_time": "2021-08-03T00:21:17.033742",
     "status": "completed"
    },
    "tags": []
   },
   "outputs": [],
   "source": [
    "#hide\n",
    "def get_template(path):\n",
    "    from urllib.parse import urlparse\n",
    "    if bool(urlparse(path).netloc):\n",
    "        from urllib.request import urlopen\n",
    "        return urlopen(path).read().decode('utf8')\n",
    "    return open(path).read()"
   ]
  },
  {
   "cell_type": "code",
   "execution_count": 7,
   "id": "realistic-blast",
   "metadata": {
    "execution": {
     "iopub.execute_input": "2021-08-03T00:21:17.120913Z",
     "iopub.status.busy": "2021-08-03T00:21:17.120440Z",
     "iopub.status.idle": "2021-08-03T00:21:17.122496Z",
     "shell.execute_reply": "2021-08-03T00:21:17.122891Z"
    },
    "papermill": {
     "duration": 0.031227,
     "end_time": "2021-08-03T00:21:17.122980",
     "exception": false,
     "start_time": "2021-08-03T00:21:17.091753",
     "status": "completed"
    },
    "tags": []
   },
   "outputs": [],
   "source": [
    "#hide\n",
    "def get_frame(name):\n",
    "    url = (\n",
    "        'https://raw.githubusercontent.com/CSSEGISandData/COVID-19/master/csse_covid_19_data/'\n",
    "        f'csse_covid_19_time_series/time_series_covid19_{name}_global.csv')\n",
    "    df = pd.read_csv(url)\n",
    "    # rename countries\n",
    "    df['Country/Region'] = df['Country/Region'].replace(mapping['replace.country'])\n",
    "    return df"
   ]
  },
  {
   "cell_type": "code",
   "execution_count": 8,
   "id": "affiliated-characterization",
   "metadata": {
    "execution": {
     "iopub.execute_input": "2021-08-03T00:21:17.180193Z",
     "iopub.status.busy": "2021-08-03T00:21:17.179704Z",
     "iopub.status.idle": "2021-08-03T00:21:17.182250Z",
     "shell.execute_reply": "2021-08-03T00:21:17.182637Z"
    },
    "papermill": {
     "duration": 0.034892,
     "end_time": "2021-08-03T00:21:17.182725",
     "exception": false,
     "start_time": "2021-08-03T00:21:17.147833",
     "status": "completed"
    },
    "tags": []
   },
   "outputs": [],
   "source": [
    "#hide\n",
    "def get_dates(df):\n",
    "    dt_cols = df.columns[~df.columns.isin(['Province/State', 'Country/Region', 'Lat', 'Long'])]\n",
    "    LAST_DATE_I = -1\n",
    "    # sometimes last column may be empty, then go backwards\n",
    "    for i in range(-1, -len(dt_cols), -1):\n",
    "        if not df[dt_cols[i]].fillna(0).eq(0).all():\n",
    "            LAST_DATE_I = i\n",
    "            break\n",
    "    return LAST_DATE_I, dt_cols"
   ]
  },
  {
   "cell_type": "code",
   "execution_count": 9,
   "id": "recent-optimization",
   "metadata": {
    "execution": {
     "iopub.execute_input": "2021-08-03T00:21:17.236727Z",
     "iopub.status.busy": "2021-08-03T00:21:17.235686Z",
     "iopub.status.idle": "2021-08-03T00:21:17.471966Z",
     "shell.execute_reply": "2021-08-03T00:21:17.471127Z"
    },
    "papermill": {
     "duration": 0.265515,
     "end_time": "2021-08-03T00:21:17.472224",
     "exception": false,
     "start_time": "2021-08-03T00:21:17.206709",
     "status": "completed"
    },
    "tags": []
   },
   "outputs": [],
   "source": [
    "#hide\n",
    "COL_REGION = 'Country/Region'\n",
    "# Confirmed, Recovered, Deaths\n",
    "df = get_frame('confirmed')\n",
    "# dft_: timeseries, dfc_: today country agg\n",
    "dft_cases = df\n",
    "dft_deaths = get_frame('deaths')\n",
    "dft_recovered = get_frame('recovered')\n",
    "LAST_DATE_I, dt_cols = get_dates(df)"
   ]
  },
  {
   "cell_type": "code",
   "execution_count": 10,
   "id": "absolute-copper",
   "metadata": {
    "execution": {
     "iopub.execute_input": "2021-08-03T00:21:17.533776Z",
     "iopub.status.busy": "2021-08-03T00:21:17.532755Z",
     "iopub.status.idle": "2021-08-03T00:21:17.534847Z",
     "shell.execute_reply": "2021-08-03T00:21:17.535660Z"
    },
    "papermill": {
     "duration": 0.034846,
     "end_time": "2021-08-03T00:21:17.535874",
     "exception": false,
     "start_time": "2021-08-03T00:21:17.501028",
     "status": "completed"
    },
    "tags": []
   },
   "outputs": [],
   "source": [
    "#hide\n",
    "LAST_DATE_I, dt_cols = get_dates(df)\n",
    "dt_today =dt_cols[LAST_DATE_I]\n",
    "# dt_5day = dt_cols[LAST_DATE_I - 5]\n",
    "dt_yday = dt_cols[LAST_DATE_I - 1]"
   ]
  },
  {
   "cell_type": "code",
   "execution_count": 11,
   "id": "restricted-sheriff",
   "metadata": {
    "execution": {
     "iopub.execute_input": "2021-08-03T00:21:17.596700Z",
     "iopub.status.busy": "2021-08-03T00:21:17.596274Z",
     "iopub.status.idle": "2021-08-03T00:21:17.603906Z",
     "shell.execute_reply": "2021-08-03T00:21:17.603530Z"
    },
    "papermill": {
     "duration": 0.042331,
     "end_time": "2021-08-03T00:21:17.603999",
     "exception": false,
     "start_time": "2021-08-03T00:21:17.561668",
     "status": "completed"
    },
    "tags": []
   },
   "outputs": [],
   "source": [
    "#hide\n",
    "dfc_cases = dft_cases.groupby(COL_REGION)[dt_today].sum()\n",
    "dfc_deaths = dft_deaths.groupby(COL_REGION)[dt_today].sum()\n",
    "# dfp_cases = dft_cases.groupby(COL_REGION)[dt_5day].sum()\n",
    "# dfp_deaths = dft_deaths.groupby(COL_REGION)[dt_5day].sum()\n",
    "dfp_cases = dft_cases.groupby(COL_REGION)[dt_yday].sum()\n",
    "dfp_deaths = dft_deaths.groupby(COL_REGION)[dt_yday].sum()"
   ]
  },
  {
   "cell_type": "code",
   "execution_count": 12,
   "id": "deluxe-hepatitis",
   "metadata": {
    "execution": {
     "iopub.execute_input": "2021-08-03T00:21:17.660073Z",
     "iopub.status.busy": "2021-08-03T00:21:17.659667Z",
     "iopub.status.idle": "2021-08-03T00:21:17.661742Z",
     "shell.execute_reply": "2021-08-03T00:21:17.662328Z"
    },
    "papermill": {
     "duration": 0.034082,
     "end_time": "2021-08-03T00:21:17.662431",
     "exception": false,
     "start_time": "2021-08-03T00:21:17.628349",
     "status": "completed"
    },
    "tags": []
   },
   "outputs": [],
   "source": [
    "#hide\n",
    "df_table = (pd.DataFrame(dict(Cases = dfc_cases, Deaths = dfc_deaths, PCases = dfp_cases, PDeaths = dfp_deaths))\n",
    "            .sort_values(by = ['Cases','Deaths'], ascending = [False, False])\n",
    "            .reset_index())"
   ]
  },
  {
   "cell_type": "code",
   "execution_count": 13,
   "id": "educational-chancellor",
   "metadata": {
    "execution": {
     "iopub.execute_input": "2021-08-03T00:21:17.735032Z",
     "iopub.status.busy": "2021-08-03T00:21:17.729887Z",
     "iopub.status.idle": "2021-08-03T00:21:17.738537Z",
     "shell.execute_reply": "2021-08-03T00:21:17.738162Z"
    },
    "papermill": {
     "duration": 0.049489,
     "end_time": "2021-08-03T00:21:17.738659",
     "exception": false,
     "start_time": "2021-08-03T00:21:17.689170",
     "status": "completed"
    },
    "tags": []
   },
   "outputs": [
    {
     "data": {
      "text/html": [
       "<div>\n",
       "<style scoped>\n",
       "    .dataframe tbody tr th:only-of-type {\n",
       "        vertical-align: middle;\n",
       "    }\n",
       "\n",
       "    .dataframe tbody tr th {\n",
       "        vertical-align: top;\n",
       "    }\n",
       "\n",
       "    .dataframe thead th {\n",
       "        text-align: right;\n",
       "    }\n",
       "</style>\n",
       "<table border=\"1\" class=\"dataframe\">\n",
       "  <thead>\n",
       "    <tr style=\"text-align: right;\">\n",
       "      <th></th>\n",
       "      <th>Country/Region</th>\n",
       "      <th>Cases</th>\n",
       "      <th>Deaths</th>\n",
       "      <th>PCases</th>\n",
       "      <th>PDeaths</th>\n",
       "      <th>Cases (+)</th>\n",
       "      <th>Deaths (+)</th>\n",
       "      <th>Fatality Rate</th>\n",
       "      <th>Continent</th>\n",
       "    </tr>\n",
       "  </thead>\n",
       "  <tbody>\n",
       "    <tr>\n",
       "      <th>0</th>\n",
       "      <td>US</td>\n",
       "      <td>35003417</td>\n",
       "      <td>613228</td>\n",
       "      <td>34978276</td>\n",
       "      <td>613157</td>\n",
       "      <td>25141</td>\n",
       "      <td>71</td>\n",
       "      <td>1.75</td>\n",
       "      <td>North America</td>\n",
       "    </tr>\n",
       "    <tr>\n",
       "      <th>1</th>\n",
       "      <td>India</td>\n",
       "      <td>31695958</td>\n",
       "      <td>424773</td>\n",
       "      <td>31655824</td>\n",
       "      <td>424351</td>\n",
       "      <td>40134</td>\n",
       "      <td>422</td>\n",
       "      <td>1.34</td>\n",
       "      <td>Asia</td>\n",
       "    </tr>\n",
       "    <tr>\n",
       "      <th>2</th>\n",
       "      <td>Brazil</td>\n",
       "      <td>19938358</td>\n",
       "      <td>556834</td>\n",
       "      <td>19917855</td>\n",
       "      <td>556370</td>\n",
       "      <td>20503</td>\n",
       "      <td>464</td>\n",
       "      <td>2.79</td>\n",
       "      <td>South America</td>\n",
       "    </tr>\n",
       "    <tr>\n",
       "      <th>3</th>\n",
       "      <td>France</td>\n",
       "      <td>6209934</td>\n",
       "      <td>112073</td>\n",
       "      <td>6190334</td>\n",
       "      <td>112055</td>\n",
       "      <td>19600</td>\n",
       "      <td>18</td>\n",
       "      <td>1.80</td>\n",
       "      <td>Europe</td>\n",
       "    </tr>\n",
       "    <tr>\n",
       "      <th>4</th>\n",
       "      <td>Russia</td>\n",
       "      <td>6207513</td>\n",
       "      <td>156726</td>\n",
       "      <td>6185249</td>\n",
       "      <td>155952</td>\n",
       "      <td>22264</td>\n",
       "      <td>774</td>\n",
       "      <td>2.52</td>\n",
       "      <td>Europe</td>\n",
       "    </tr>\n",
       "  </tbody>\n",
       "</table>\n",
       "</div>"
      ],
      "text/plain": [
       "  Country/Region     Cases  Deaths    PCases  PDeaths  Cases (+)  Deaths (+)  \\\n",
       "0             US  35003417  613228  34978276   613157      25141          71   \n",
       "1          India  31695958  424773  31655824   424351      40134         422   \n",
       "2         Brazil  19938358  556834  19917855   556370      20503         464   \n",
       "3         France   6209934  112073   6190334   112055      19600          18   \n",
       "4         Russia   6207513  156726   6185249   155952      22264         774   \n",
       "\n",
       "   Fatality Rate      Continent  \n",
       "0           1.75  North America  \n",
       "1           1.34           Asia  \n",
       "2           2.79  South America  \n",
       "3           1.80         Europe  \n",
       "4           2.52         Europe  "
      ]
     },
     "execution_count": 13,
     "metadata": {},
     "output_type": "execute_result"
    }
   ],
   "source": [
    "#hide\n",
    "for c in 'Cases, Deaths'.split(', '):\n",
    "    df_table[f'{c} (+)'] = (df_table[c] - df_table[f'P{c}']).clip(0)\n",
    "    #Clip ça veut dire, les chiffres negatif sont interdit\n",
    "df_table['Fatality Rate'] = (100* df_table['Deaths']/ df_table['Cases']).round(2)\n",
    "df_table['Continent'] = df_table['Country/Region'].map(mapping['map.continent'])\n",
    "df_table.head(5)"
   ]
  },
  {
   "cell_type": "code",
   "execution_count": 14,
   "id": "aboriginal-bulgaria",
   "metadata": {
    "execution": {
     "iopub.execute_input": "2021-08-03T00:21:17.796271Z",
     "iopub.status.busy": "2021-08-03T00:21:17.795845Z",
     "iopub.status.idle": "2021-08-03T00:21:17.797873Z",
     "shell.execute_reply": "2021-08-03T00:21:17.798366Z"
    },
    "papermill": {
     "duration": 0.032837,
     "end_time": "2021-08-03T00:21:17.798487",
     "exception": false,
     "start_time": "2021-08-03T00:21:17.765650",
     "status": "completed"
    },
    "tags": []
   },
   "outputs": [],
   "source": [
    "#hide\n",
    "#delete problematic countries from table\n",
    "df_table = df_table[~df_table['Country/Region'].isin(['Cape Verde', 'Cruise Ship', 'Kosovo'])]"
   ]
  },
  {
   "cell_type": "code",
   "execution_count": 15,
   "id": "fantastic-effect",
   "metadata": {
    "execution": {
     "iopub.execute_input": "2021-08-03T00:21:17.861304Z",
     "iopub.status.busy": "2021-08-03T00:21:17.857830Z",
     "iopub.status.idle": "2021-08-03T00:21:17.875583Z",
     "shell.execute_reply": "2021-08-03T00:21:17.875213Z"
    },
    "papermill": {
     "duration": 0.052416,
     "end_time": "2021-08-03T00:21:17.875674",
     "exception": false,
     "start_time": "2021-08-03T00:21:17.823258",
     "status": "completed"
    },
    "tags": []
   },
   "outputs": [
    {
     "data": {
      "text/html": [
       "<div>\n",
       "<style scoped>\n",
       "    .dataframe tbody tr th:only-of-type {\n",
       "        vertical-align: middle;\n",
       "    }\n",
       "\n",
       "    .dataframe tbody tr th {\n",
       "        vertical-align: top;\n",
       "    }\n",
       "\n",
       "    .dataframe thead th {\n",
       "        text-align: right;\n",
       "    }\n",
       "</style>\n",
       "<table border=\"1\" class=\"dataframe\">\n",
       "  <thead>\n",
       "    <tr style=\"text-align: right;\">\n",
       "      <th></th>\n",
       "      <th>Country/Region</th>\n",
       "      <th>Cases</th>\n",
       "      <th>Deaths</th>\n",
       "      <th>PCases</th>\n",
       "      <th>PDeaths</th>\n",
       "      <th>Cases (+)</th>\n",
       "      <th>Deaths (+)</th>\n",
       "      <th>Fatality Rate</th>\n",
       "      <th>Continent</th>\n",
       "    </tr>\n",
       "  </thead>\n",
       "  <tbody>\n",
       "    <tr>\n",
       "      <th>0</th>\n",
       "      <td>US</td>\n",
       "      <td>35003417</td>\n",
       "      <td>613228</td>\n",
       "      <td>34978276</td>\n",
       "      <td>613157</td>\n",
       "      <td>25141</td>\n",
       "      <td>71</td>\n",
       "      <td>1.8</td>\n",
       "      <td>North America</td>\n",
       "    </tr>\n",
       "    <tr>\n",
       "      <th>1</th>\n",
       "      <td>India</td>\n",
       "      <td>31695958</td>\n",
       "      <td>424773</td>\n",
       "      <td>31655824</td>\n",
       "      <td>424351</td>\n",
       "      <td>40134</td>\n",
       "      <td>422</td>\n",
       "      <td>1.3</td>\n",
       "      <td>Asia</td>\n",
       "    </tr>\n",
       "    <tr>\n",
       "      <th>2</th>\n",
       "      <td>Brazil</td>\n",
       "      <td>19938358</td>\n",
       "      <td>556834</td>\n",
       "      <td>19917855</td>\n",
       "      <td>556370</td>\n",
       "      <td>20503</td>\n",
       "      <td>464</td>\n",
       "      <td>2.8</td>\n",
       "      <td>South America</td>\n",
       "    </tr>\n",
       "    <tr>\n",
       "      <th>3</th>\n",
       "      <td>France</td>\n",
       "      <td>6209934</td>\n",
       "      <td>112073</td>\n",
       "      <td>6190334</td>\n",
       "      <td>112055</td>\n",
       "      <td>19600</td>\n",
       "      <td>18</td>\n",
       "      <td>1.8</td>\n",
       "      <td>Europe</td>\n",
       "    </tr>\n",
       "    <tr>\n",
       "      <th>4</th>\n",
       "      <td>Russia</td>\n",
       "      <td>6207513</td>\n",
       "      <td>156726</td>\n",
       "      <td>6185249</td>\n",
       "      <td>155952</td>\n",
       "      <td>22264</td>\n",
       "      <td>774</td>\n",
       "      <td>2.5</td>\n",
       "      <td>Europe</td>\n",
       "    </tr>\n",
       "  </tbody>\n",
       "</table>\n",
       "</div>"
      ],
      "text/plain": [
       "  Country/Region     Cases  Deaths    PCases  PDeaths  Cases (+)  Deaths (+)  \\\n",
       "0             US  35003417  613228  34978276   613157      25141          71   \n",
       "1          India  31695958  424773  31655824   424351      40134         422   \n",
       "2         Brazil  19938358  556834  19917855   556370      20503         464   \n",
       "3         France   6209934  112073   6190334   112055      19600          18   \n",
       "4         Russia   6207513  156726   6185249   155952      22264         774   \n",
       "\n",
       "   Fatality Rate      Continent  \n",
       "0            1.8  North America  \n",
       "1            1.3           Asia  \n",
       "2            2.8  South America  \n",
       "3            1.8         Europe  \n",
       "4            2.5         Europe  "
      ]
     },
     "execution_count": 15,
     "metadata": {},
     "output_type": "execute_result"
    }
   ],
   "source": [
    "#hide\n",
    "df_table = (pd.DataFrame(dict(Cases=dfc_cases, Deaths=dfc_deaths, PCases=dfp_cases, PDeaths=dfp_deaths))\n",
    "             .sort_values(by=['Cases', 'Deaths'], ascending=[False, False])\n",
    "             .reset_index())\n",
    "df_table.rename(columns={'index': 'Country/Region'}, inplace=True)\n",
    "for c in 'Cases, Deaths'.split(', '):\n",
    "    df_table[f'{c} (+)'] = (df_table[c] - df_table[f'P{c}']).clip(0)  # DATA BUG\n",
    "df_table['Fatality Rate'] = (100 * df_table['Deaths'] / df_table['Cases']).round(1)\n",
    "df_table['Continent'] = df_table['Country/Region'].map(mapping['map.continent'])\n",
    "df_table.head(5)"
   ]
  },
  {
   "cell_type": "code",
   "execution_count": 16,
   "id": "fewer-occasion",
   "metadata": {
    "execution": {
     "iopub.execute_input": "2021-08-03T00:21:17.932036Z",
     "iopub.status.busy": "2021-08-03T00:21:17.931632Z",
     "iopub.status.idle": "2021-08-03T00:21:17.933639Z",
     "shell.execute_reply": "2021-08-03T00:21:17.934041Z"
    },
    "papermill": {
     "duration": 0.033277,
     "end_time": "2021-08-03T00:21:17.934129",
     "exception": false,
     "start_time": "2021-08-03T00:21:17.900852",
     "status": "completed"
    },
    "tags": []
   },
   "outputs": [],
   "source": [
    "#hide\n",
    "#delete problematic countries from table\n",
    "df_table = df_table[~df_table['Country/Region'].isin(['Cape Verde', 'Cruise Ship', 'Kosovo'])]"
   ]
  },
  {
   "cell_type": "code",
   "execution_count": 17,
   "id": "related-center",
   "metadata": {
    "execution": {
     "iopub.execute_input": "2021-08-03T00:21:17.999527Z",
     "iopub.status.busy": "2021-08-03T00:21:17.998990Z",
     "iopub.status.idle": "2021-08-03T00:21:18.001288Z",
     "shell.execute_reply": "2021-08-03T00:21:18.001939Z"
    },
    "papermill": {
     "duration": 0.043248,
     "end_time": "2021-08-03T00:21:18.002041",
     "exception": false,
     "start_time": "2021-08-03T00:21:17.958793",
     "status": "completed"
    },
    "tags": []
   },
   "outputs": [],
   "source": [
    "#hide\n",
    "metrics = [df_table.columns[index] for index in [1,2,5,6]]\n",
    "# s_china = df_table[df_table['Country/Region'].eq('China')][metrics].sum().add_prefix('China ')\n",
    "s_us = df_table[df_table['Country/Region'].eq('US')][metrics].sum().add_prefix('US ')\n",
    "s_eu = df_table[df_table['Continent'].eq('Europe')][metrics].sum().add_prefix('EU ')\n",
    "s_ind = df_table[df_table['Country/Region'].eq('India')][metrics].sum().add_prefix('India ')\n",
    "summary = {'updated': pd.to_datetime(dt_today), 'since': pd.to_datetime(dt_yday)}\n",
    "summary = {'updated': pd.to_datetime(dt_today), 'since': pd.to_datetime(dt_yday)}\n",
    "summary = {**summary, **df_table[metrics].sum(), **s_ind, **s_us, **s_eu}"
   ]
  },
  {
   "cell_type": "code",
   "execution_count": 18,
   "id": "engaging-syndrome",
   "metadata": {
    "execution": {
     "iopub.execute_input": "2021-08-03T00:21:18.066500Z",
     "iopub.status.busy": "2021-08-03T00:21:18.065388Z",
     "iopub.status.idle": "2021-08-03T00:21:18.077675Z",
     "shell.execute_reply": "2021-08-03T00:21:18.076846Z"
    },
    "papermill": {
     "duration": 0.050452,
     "end_time": "2021-08-03T00:21:18.077772",
     "exception": false,
     "start_time": "2021-08-03T00:21:18.027320",
     "status": "completed"
    },
    "tags": []
   },
   "outputs": [],
   "source": [
    "#hide\n",
    "dft_ct_new_cases = dft_cases.groupby(COL_REGION)[dt_cols].sum().diff(axis=1).fillna(0).astype(int)"
   ]
  },
  {
   "cell_type": "code",
   "execution_count": 19,
   "id": "neutral-assignment",
   "metadata": {
    "execution": {
     "iopub.execute_input": "2021-08-03T00:21:18.144690Z",
     "iopub.status.busy": "2021-08-03T00:21:18.144138Z",
     "iopub.status.idle": "2021-08-03T00:21:18.146881Z",
     "shell.execute_reply": "2021-08-03T00:21:18.146430Z"
    },
    "papermill": {
     "duration": 0.039438,
     "end_time": "2021-08-03T00:21:18.146987",
     "exception": false,
     "start_time": "2021-08-03T00:21:18.107549",
     "status": "completed"
    },
    "tags": []
   },
   "outputs": [],
   "source": [
    "#hide\n",
    "everydaycases = dft_ct_new_cases.cumsum(axis=1)"
   ]
  },
  {
   "cell_type": "code",
   "execution_count": 20,
   "id": "parliamentary-calgary",
   "metadata": {
    "execution": {
     "iopub.execute_input": "2021-08-03T00:21:18.217216Z",
     "iopub.status.busy": "2021-08-03T00:21:18.214553Z",
     "iopub.status.idle": "2021-08-03T00:21:18.835368Z",
     "shell.execute_reply": "2021-08-03T00:21:18.834536Z"
    },
    "papermill": {
     "duration": 0.656755,
     "end_time": "2021-08-03T00:21:18.835496",
     "exception": false,
     "start_time": "2021-08-03T00:21:18.178741",
     "status": "completed"
    },
    "tags": []
   },
   "outputs": [],
   "source": [
    "#hide\n",
    "import pandas as pd\n",
    "import matplotlib.pyplot as plt\n",
    "import matplotlib.ticker as ticker\n",
    "import matplotlib.animation as animation\n",
    "from IPython.display import HTML"
   ]
  },
  {
   "cell_type": "code",
   "execution_count": 21,
   "id": "lasting-extraction",
   "metadata": {
    "execution": {
     "iopub.execute_input": "2021-08-03T00:21:18.901088Z",
     "iopub.status.busy": "2021-08-03T00:21:18.900009Z",
     "iopub.status.idle": "2021-08-03T00:21:18.905731Z",
     "shell.execute_reply": "2021-08-03T00:21:18.905295Z"
    },
    "papermill": {
     "duration": 0.041423,
     "end_time": "2021-08-03T00:21:18.905847",
     "exception": false,
     "start_time": "2021-08-03T00:21:18.864424",
     "status": "completed"
    },
    "tags": []
   },
   "outputs": [],
   "source": [
    "#hide\n",
    "t = everydaycases.stack()"
   ]
  },
  {
   "cell_type": "code",
   "execution_count": 22,
   "id": "premier-sleeve",
   "metadata": {
    "execution": {
     "iopub.execute_input": "2021-08-03T00:21:18.973058Z",
     "iopub.status.busy": "2021-08-03T00:21:18.972510Z",
     "iopub.status.idle": "2021-08-03T00:21:18.982088Z",
     "shell.execute_reply": "2021-08-03T00:21:18.981709Z"
    },
    "papermill": {
     "duration": 0.04434,
     "end_time": "2021-08-03T00:21:18.982188",
     "exception": false,
     "start_time": "2021-08-03T00:21:18.937848",
     "status": "completed"
    },
    "tags": []
   },
   "outputs": [],
   "source": [
    "#hide\n",
    "g = t.reset_index(['Country/Region'])"
   ]
  },
  {
   "cell_type": "code",
   "execution_count": 23,
   "id": "distributed-pittsburgh",
   "metadata": {
    "execution": {
     "iopub.execute_input": "2021-08-03T00:21:19.039914Z",
     "iopub.status.busy": "2021-08-03T00:21:19.039504Z",
     "iopub.status.idle": "2021-08-03T00:21:19.042339Z",
     "shell.execute_reply": "2021-08-03T00:21:19.042728Z"
    },
    "papermill": {
     "duration": 0.03317,
     "end_time": "2021-08-03T00:21:19.042818",
     "exception": false,
     "start_time": "2021-08-03T00:21:19.009648",
     "status": "completed"
    },
    "tags": []
   },
   "outputs": [],
   "source": [
    "#hide\n",
    "g.index.name = 'date'"
   ]
  },
  {
   "cell_type": "code",
   "execution_count": 24,
   "id": "naked-donor",
   "metadata": {
    "execution": {
     "iopub.execute_input": "2021-08-03T00:21:19.098790Z",
     "iopub.status.busy": "2021-08-03T00:21:19.098381Z",
     "iopub.status.idle": "2021-08-03T00:21:19.100469Z",
     "shell.execute_reply": "2021-08-03T00:21:19.100871Z"
    },
    "papermill": {
     "duration": 0.031419,
     "end_time": "2021-08-03T00:21:19.100961",
     "exception": false,
     "start_time": "2021-08-03T00:21:19.069542",
     "status": "completed"
    },
    "tags": []
   },
   "outputs": [],
   "source": [
    "# #hide\n",
    "# g = g.reset_index(['date'])"
   ]
  },
  {
   "cell_type": "code",
   "execution_count": 25,
   "id": "incomplete-mustang",
   "metadata": {
    "execution": {
     "iopub.execute_input": "2021-08-03T00:21:19.154652Z",
     "iopub.status.busy": "2021-08-03T00:21:19.154249Z",
     "iopub.status.idle": "2021-08-03T00:21:19.156363Z",
     "shell.execute_reply": "2021-08-03T00:21:19.156764Z"
    },
    "papermill": {
     "duration": 0.031306,
     "end_time": "2021-08-03T00:21:19.156851",
     "exception": false,
     "start_time": "2021-08-03T00:21:19.125545",
     "status": "completed"
    },
    "tags": []
   },
   "outputs": [],
   "source": [
    "#hide\n",
    "# g.head()"
   ]
  },
  {
   "cell_type": "code",
   "execution_count": 26,
   "id": "specific-kruger",
   "metadata": {
    "execution": {
     "iopub.execute_input": "2021-08-03T00:21:19.214511Z",
     "iopub.status.busy": "2021-08-03T00:21:19.214111Z",
     "iopub.status.idle": "2021-08-03T00:21:19.216358Z",
     "shell.execute_reply": "2021-08-03T00:21:19.216751Z"
    },
    "papermill": {
     "duration": 0.033033,
     "end_time": "2021-08-03T00:21:19.216839",
     "exception": false,
     "start_time": "2021-08-03T00:21:19.183806",
     "status": "completed"
    },
    "tags": []
   },
   "outputs": [],
   "source": [
    "#hide\n",
    "# g.columns = ['date','country','cases']"
   ]
  },
  {
   "cell_type": "code",
   "execution_count": 27,
   "id": "tender-conversion",
   "metadata": {
    "execution": {
     "iopub.execute_input": "2021-08-03T00:21:19.271557Z",
     "iopub.status.busy": "2021-08-03T00:21:19.271153Z",
     "iopub.status.idle": "2021-08-03T00:21:19.273115Z",
     "shell.execute_reply": "2021-08-03T00:21:19.273503Z"
    },
    "papermill": {
     "duration": 0.030501,
     "end_time": "2021-08-03T00:21:19.273591",
     "exception": false,
     "start_time": "2021-08-03T00:21:19.243090",
     "status": "completed"
    },
    "tags": []
   },
   "outputs": [],
   "source": [
    "#hide\n",
    "# g['continent'] = g.country"
   ]
  },
  {
   "cell_type": "code",
   "execution_count": 28,
   "id": "substantial-wilderness",
   "metadata": {
    "execution": {
     "iopub.execute_input": "2021-08-03T00:21:19.332627Z",
     "iopub.status.busy": "2021-08-03T00:21:19.332150Z",
     "iopub.status.idle": "2021-08-03T00:21:19.334399Z",
     "shell.execute_reply": "2021-08-03T00:21:19.334006Z"
    },
    "papermill": {
     "duration": 0.035518,
     "end_time": "2021-08-03T00:21:19.334487",
     "exception": false,
     "start_time": "2021-08-03T00:21:19.298969",
     "status": "completed"
    },
    "tags": []
   },
   "outputs": [],
   "source": [
    "#hide\n",
    "# cols = list(g.columns.values)"
   ]
  },
  {
   "cell_type": "code",
   "execution_count": 29,
   "id": "solved-farming",
   "metadata": {
    "execution": {
     "iopub.execute_input": "2021-08-03T00:21:19.391324Z",
     "iopub.status.busy": "2021-08-03T00:21:19.390645Z",
     "iopub.status.idle": "2021-08-03T00:21:19.392840Z",
     "shell.execute_reply": "2021-08-03T00:21:19.393167Z"
    },
    "papermill": {
     "duration": 0.03312,
     "end_time": "2021-08-03T00:21:19.393255",
     "exception": false,
     "start_time": "2021-08-03T00:21:19.360135",
     "status": "completed"
    },
    "tags": []
   },
   "outputs": [],
   "source": [
    "#hide\n",
    "# cols.insert(0, cols.pop())"
   ]
  },
  {
   "cell_type": "code",
   "execution_count": 30,
   "id": "executed-adoption",
   "metadata": {
    "execution": {
     "iopub.execute_input": "2021-08-03T00:21:19.446722Z",
     "iopub.status.busy": "2021-08-03T00:21:19.446312Z",
     "iopub.status.idle": "2021-08-03T00:21:19.448580Z",
     "shell.execute_reply": "2021-08-03T00:21:19.448928Z"
    },
    "papermill": {
     "duration": 0.031253,
     "end_time": "2021-08-03T00:21:19.449015",
     "exception": false,
     "start_time": "2021-08-03T00:21:19.417762",
     "status": "completed"
    },
    "tags": []
   },
   "outputs": [],
   "source": [
    "#hide\n",
    "# g = g[cols]"
   ]
  },
  {
   "cell_type": "code",
   "execution_count": 31,
   "id": "subject-dublin",
   "metadata": {
    "execution": {
     "iopub.execute_input": "2021-08-03T00:21:19.504206Z",
     "iopub.status.busy": "2021-08-03T00:21:19.503762Z",
     "iopub.status.idle": "2021-08-03T00:21:19.505629Z",
     "shell.execute_reply": "2021-08-03T00:21:19.505290Z"
    },
    "papermill": {
     "duration": 0.030989,
     "end_time": "2021-08-03T00:21:19.505705",
     "exception": false,
     "start_time": "2021-08-03T00:21:19.474716",
     "status": "completed"
    },
    "tags": []
   },
   "outputs": [],
   "source": [
    "#hide\n",
    "# g['continent'] = g['continent'].map(mapping['map.continent'])"
   ]
  },
  {
   "cell_type": "code",
   "execution_count": 32,
   "id": "freelance-scout",
   "metadata": {
    "execution": {
     "iopub.execute_input": "2021-08-03T00:21:19.560079Z",
     "iopub.status.busy": "2021-08-03T00:21:19.559673Z",
     "iopub.status.idle": "2021-08-03T00:21:19.561871Z",
     "shell.execute_reply": "2021-08-03T00:21:19.562258Z"
    },
    "papermill": {
     "duration": 0.031764,
     "end_time": "2021-08-03T00:21:19.562344",
     "exception": false,
     "start_time": "2021-08-03T00:21:19.530580",
     "status": "completed"
    },
    "tags": []
   },
   "outputs": [],
   "source": [
    "#hide\n",
    "# g.head()"
   ]
  },
  {
   "cell_type": "code",
   "execution_count": 33,
   "id": "limited-engine",
   "metadata": {
    "execution": {
     "iopub.execute_input": "2021-08-03T00:21:19.616145Z",
     "iopub.status.busy": "2021-08-03T00:21:19.615718Z",
     "iopub.status.idle": "2021-08-03T00:21:19.618019Z",
     "shell.execute_reply": "2021-08-03T00:21:19.618396Z"
    },
    "papermill": {
     "duration": 0.030394,
     "end_time": "2021-08-03T00:21:19.618496",
     "exception": false,
     "start_time": "2021-08-03T00:21:19.588102",
     "status": "completed"
    },
    "tags": []
   },
   "outputs": [],
   "source": [
    "# hide\n",
    "# g['date'] = g['date'].astype('datetime64[ns]')"
   ]
  },
  {
   "cell_type": "code",
   "execution_count": 34,
   "id": "sophisticated-supervisor",
   "metadata": {
    "execution": {
     "iopub.execute_input": "2021-08-03T00:21:19.672796Z",
     "iopub.status.busy": "2021-08-03T00:21:19.672313Z",
     "iopub.status.idle": "2021-08-03T00:21:19.674489Z",
     "shell.execute_reply": "2021-08-03T00:21:19.674150Z"
    },
    "papermill": {
     "duration": 0.030317,
     "end_time": "2021-08-03T00:21:19.674565",
     "exception": false,
     "start_time": "2021-08-03T00:21:19.644248",
     "status": "completed"
    },
    "tags": []
   },
   "outputs": [],
   "source": [
    "#hide\n",
    "# g['date'] = g.date.dt.dayofyear"
   ]
  },
  {
   "cell_type": "code",
   "execution_count": 35,
   "id": "inside-dubai",
   "metadata": {
    "execution": {
     "iopub.execute_input": "2021-08-03T00:21:19.728430Z",
     "iopub.status.busy": "2021-08-03T00:21:19.727990Z",
     "iopub.status.idle": "2021-08-03T00:21:19.730091Z",
     "shell.execute_reply": "2021-08-03T00:21:19.730491Z"
    },
    "papermill": {
     "duration": 0.030783,
     "end_time": "2021-08-03T00:21:19.730579",
     "exception": false,
     "start_time": "2021-08-03T00:21:19.699796",
     "status": "completed"
    },
    "tags": []
   },
   "outputs": [],
   "source": [
    "#hide\n",
    "# g = g.rename(columns= {'continent':'group','country':'name','cases':'value'})"
   ]
  },
  {
   "cell_type": "code",
   "execution_count": 36,
   "id": "fleet-motorcycle",
   "metadata": {
    "execution": {
     "iopub.execute_input": "2021-08-03T00:21:19.783604Z",
     "iopub.status.busy": "2021-08-03T00:21:19.783194Z",
     "iopub.status.idle": "2021-08-03T00:21:19.785206Z",
     "shell.execute_reply": "2021-08-03T00:21:19.785649Z"
    },
    "papermill": {
     "duration": 0.030625,
     "end_time": "2021-08-03T00:21:19.785749",
     "exception": false,
     "start_time": "2021-08-03T00:21:19.755124",
     "status": "completed"
    },
    "tags": []
   },
   "outputs": [],
   "source": [
    "#hide\n",
    "# cols = ['name','group','day','value']"
   ]
  },
  {
   "cell_type": "code",
   "execution_count": 37,
   "id": "continued-sleeping",
   "metadata": {
    "execution": {
     "iopub.execute_input": "2021-08-03T00:21:19.839239Z",
     "iopub.status.busy": "2021-08-03T00:21:19.838791Z",
     "iopub.status.idle": "2021-08-03T00:21:19.840518Z",
     "shell.execute_reply": "2021-08-03T00:21:19.840192Z"
    },
    "papermill": {
     "duration": 0.029691,
     "end_time": "2021-08-03T00:21:19.840598",
     "exception": false,
     "start_time": "2021-08-03T00:21:19.810907",
     "status": "completed"
    },
    "tags": []
   },
   "outputs": [],
   "source": [
    "#hide\n",
    "# g.rename(columns= {'date':'day'},inplace = True)"
   ]
  },
  {
   "cell_type": "code",
   "execution_count": 38,
   "id": "major-fight",
   "metadata": {
    "execution": {
     "iopub.execute_input": "2021-08-03T00:21:19.902659Z",
     "iopub.status.busy": "2021-08-03T00:21:19.902253Z",
     "iopub.status.idle": "2021-08-03T00:21:19.904544Z",
     "shell.execute_reply": "2021-08-03T00:21:19.904929Z"
    },
    "papermill": {
     "duration": 0.036373,
     "end_time": "2021-08-03T00:21:19.905016",
     "exception": false,
     "start_time": "2021-08-03T00:21:19.868643",
     "status": "completed"
    },
    "tags": []
   },
   "outputs": [],
   "source": [
    "#hide\n",
    "# g = g[cols]"
   ]
  },
  {
   "cell_type": "code",
   "execution_count": 39,
   "id": "structured-mobile",
   "metadata": {
    "execution": {
     "iopub.execute_input": "2021-08-03T00:21:19.960791Z",
     "iopub.status.busy": "2021-08-03T00:21:19.960211Z",
     "iopub.status.idle": "2021-08-03T00:21:19.961844Z",
     "shell.execute_reply": "2021-08-03T00:21:19.962231Z"
    },
    "papermill": {
     "duration": 0.032469,
     "end_time": "2021-08-03T00:21:19.962317",
     "exception": false,
     "start_time": "2021-08-03T00:21:19.929848",
     "status": "completed"
    },
    "tags": []
   },
   "outputs": [],
   "source": [
    "# #hide\n",
    "# g = g[g.group.notna()]"
   ]
  },
  {
   "cell_type": "code",
   "execution_count": 40,
   "id": "determined-closing",
   "metadata": {
    "execution": {
     "iopub.execute_input": "2021-08-03T00:21:20.016081Z",
     "iopub.status.busy": "2021-08-03T00:21:20.015674Z",
     "iopub.status.idle": "2021-08-03T00:21:20.018416Z",
     "shell.execute_reply": "2021-08-03T00:21:20.018804Z"
    },
    "papermill": {
     "duration": 0.032101,
     "end_time": "2021-08-03T00:21:20.018892",
     "exception": false,
     "start_time": "2021-08-03T00:21:19.986791",
     "status": "completed"
    },
    "tags": []
   },
   "outputs": [],
   "source": [
    "# #hide\n",
    "# colors = dict(zip(\n",
    "#     [\"Oceania\", \"Europe\", \"Asia\", \"South America\", \"Middle East\", \"North America\", \"Africa\"],\n",
    "#     [\"#adb0ff\", \"#ffb3ff\", \"#90d595\", \"#e48381\", \"#aafbff\", \"#f7bb5f\", \"#eafb50\"]\n",
    "# ))\n",
    "# group_lk = g.set_index('name')['group'].to_dict()"
   ]
  },
  {
   "cell_type": "code",
   "execution_count": null,
   "id": "gross-drinking",
   "metadata": {
    "papermill": {
     "duration": 0.027211,
     "end_time": "2021-08-03T00:21:20.071435",
     "exception": false,
     "start_time": "2021-08-03T00:21:20.044224",
     "status": "completed"
    },
    "tags": []
   },
   "outputs": [],
   "source": []
  },
  {
   "cell_type": "code",
   "execution_count": 41,
   "id": "subject-macintosh",
   "metadata": {
    "execution": {
     "iopub.execute_input": "2021-08-03T00:21:20.126767Z",
     "iopub.status.busy": "2021-08-03T00:21:20.126349Z",
     "iopub.status.idle": "2021-08-03T00:21:20.128508Z",
     "shell.execute_reply": "2021-08-03T00:21:20.128896Z"
    },
    "papermill": {
     "duration": 0.031208,
     "end_time": "2021-08-03T00:21:20.128984",
     "exception": false,
     "start_time": "2021-08-03T00:21:20.097776",
     "status": "completed"
    },
    "tags": []
   },
   "outputs": [],
   "source": [
    "# #hide\n",
    "# fig, ax = plt.subplots(figsize=(15, 8))\n",
    "\n",
    "# def draw_barchart(current_day):\n",
    "#     dff = g[g['day'].eq(current_day)].sort_values(by='value', ascending=True).tail(10)\n",
    "#     ax.clear()\n",
    "#     ax.barh(dff['name'], dff['value'], color=[colors[group_lk[x]] for x in dff['name']])\n",
    "#     dx = dff['value'].max() / 200\n",
    "    \n",
    "#     for i, (value, name) in enumerate(zip(dff['value'], dff['name'])):\n",
    "#         ax.text(value-dx, i,     name,           size=14, weight=600, ha='right', va='bottom')\n",
    "#         ax.text(value-dx, i-.25, group_lk[name], size=10, color='#444444', ha='right', va='baseline')\n",
    "#         ax.text(value+dx, i,     f'{value:,.0f}',  size=14, ha='left',  va='center')\n",
    "#     ax.text(1, 0.4, current_day, transform=ax.transAxes, color='#777777', size=46, ha='right', weight=800)\n",
    "#     ax.text(0, 1.06, 'Population (thousands)', transform=ax.transAxes, size=12, color='#777777')\n",
    "#     ax.xaxis.set_major_formatter(ticker.StrMethodFormatter('{x:,.0f}'))\n",
    "#     ax.xaxis.set_ticks_position('top')\n",
    "#     ax.tick_params(axis='x', colors='#777777', labelsize=12)\n",
    "#     ax.set_yticks([])\n",
    "#     ax.margins(0, 0.01)\n",
    "#     ax.grid(which='major', axis='x', linestyle='-')\n",
    "#     ax.set_axisbelow(True)\n",
    "    \n",
    "#     ax.text(0, 1.15, 'Coronavirus',\n",
    "#             transform=ax.transAxes, size=24, weight=600, ha='left', va='top')\n",
    "# #     ax.text(1, 0, 'by @pratapvardhan; credit @jburnmurdoch', transform=ax.transAxes, color='#777777', ha='right',\n",
    "# #             bbox=dict(facecolor='white', alpha=0.8, edgecolor='white'))\n",
    "#     plt.box(False)"
   ]
  },
  {
   "cell_type": "code",
   "execution_count": 42,
   "id": "sexual-wages",
   "metadata": {
    "execution": {
     "iopub.execute_input": "2021-08-03T00:21:20.184235Z",
     "iopub.status.busy": "2021-08-03T00:21:20.183730Z",
     "iopub.status.idle": "2021-08-03T00:21:20.185637Z",
     "shell.execute_reply": "2021-08-03T00:21:20.185297Z"
    },
    "papermill": {
     "duration": 0.030833,
     "end_time": "2021-08-03T00:21:20.185715",
     "exception": false,
     "start_time": "2021-08-03T00:21:20.154882",
     "status": "completed"
    },
    "tags": []
   },
   "outputs": [],
   "source": [
    "# #hide_input\n",
    "# fig, ax = plt.subplots(figsize=(15, 8))\n",
    "# animator = animation.FuncAnimation(fig, draw_barchart, frames=range(g.day.values.min(), g.day.values.max()))\n",
    "# HTML(animator.to_jshtml())\n",
    "# # or use animator.to_html5_video() or animator.save() "
   ]
  },
  {
   "cell_type": "code",
   "execution_count": null,
   "id": "australian-container",
   "metadata": {
    "papermill": {
     "duration": 0.025567,
     "end_time": "2021-08-03T00:21:20.237629",
     "exception": false,
     "start_time": "2021-08-03T00:21:20.212062",
     "status": "completed"
    },
    "tags": []
   },
   "outputs": [],
   "source": []
  },
  {
   "cell_type": "code",
   "execution_count": null,
   "id": "mediterranean-pontiac",
   "metadata": {
    "papermill": {
     "duration": 0.025596,
     "end_time": "2021-08-03T00:21:20.288322",
     "exception": false,
     "start_time": "2021-08-03T00:21:20.262726",
     "status": "completed"
    },
    "tags": []
   },
   "outputs": [],
   "source": []
  },
  {
   "cell_type": "code",
   "execution_count": null,
   "id": "aging-legislature",
   "metadata": {
    "papermill": {
     "duration": 0.025904,
     "end_time": "2021-08-03T00:21:20.339124",
     "exception": false,
     "start_time": "2021-08-03T00:21:20.313220",
     "status": "completed"
    },
    "tags": []
   },
   "outputs": [],
   "source": []
  }
 ],
 "metadata": {
  "kernelspec": {
   "display_name": "Python 3",
   "language": "python",
   "name": "python3"
  },
  "language_info": {
   "codemirror_mode": {
    "name": "ipython",
    "version": 3
   },
   "file_extension": ".py",
   "mimetype": "text/x-python",
   "name": "python",
   "nbconvert_exporter": "python",
   "pygments_lexer": "ipython3",
   "version": "3.6.14"
  },
  "papermill": {
   "duration": 5.447669,
   "end_time": "2021-08-03T00:21:20.671573",
   "environment_variables": {},
   "exception": null,
   "input_path": "2020-03-21-covid19exp.ipynb",
   "output_path": "2020-03-21-covid19exp.ipynb",
   "parameters": {},
   "start_time": "2021-08-03T00:21:15.223904",
   "version": "2.0.0"
  }
 },
 "nbformat": 4,
 "nbformat_minor": 5
}