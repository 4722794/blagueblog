{
 "cells": [
  {
   "cell_type": "markdown",
   "id": "muslim-click",
   "metadata": {
    "papermill": {
     "duration": 0.033943,
     "end_time": "2021-07-21T12:09:56.358554",
     "exception": false,
     "start_time": "2021-07-21T12:09:56.324611",
     "status": "completed"
    },
    "tags": []
   },
   "source": [
    "# COVID-19 Case Race\n",
    "> A race chart to see rising cases around the world\n",
    "\n",
    "- author: Hargun Oberoi\n",
    "- image: images/covid-overview.png\n",
    "- hide: false\n",
    "- badges: false"
   ]
  },
  {
   "cell_type": "code",
   "execution_count": 1,
   "id": "proof-material",
   "metadata": {
    "execution": {
     "iopub.execute_input": "2021-07-21T12:09:56.427110Z",
     "iopub.status.busy": "2021-07-21T12:09:56.426593Z",
     "iopub.status.idle": "2021-07-21T12:09:56.743552Z",
     "shell.execute_reply": "2021-07-21T12:09:56.743036Z"
    },
    "papermill": {
     "duration": 0.355266,
     "end_time": "2021-07-21T12:09:56.743700",
     "exception": false,
     "start_time": "2021-07-21T12:09:56.388434",
     "status": "completed"
    },
    "tags": []
   },
   "outputs": [],
   "source": [
    "#hide\n",
    "import numpy as np\n",
    "import pandas as pd\n",
    "from jinja2 import Template\n",
    "from IPython.display import HTML"
   ]
  },
  {
   "cell_type": "code",
   "execution_count": 2,
   "id": "developed-terminology",
   "metadata": {
    "execution": {
     "iopub.execute_input": "2021-07-21T12:09:56.807078Z",
     "iopub.status.busy": "2021-07-21T12:09:56.806561Z",
     "iopub.status.idle": "2021-07-21T12:09:56.808586Z",
     "shell.execute_reply": "2021-07-21T12:09:56.808171Z"
    },
    "papermill": {
     "duration": 0.035461,
     "end_time": "2021-07-21T12:09:56.808688",
     "exception": false,
     "start_time": "2021-07-21T12:09:56.773227",
     "status": "completed"
    },
    "tags": []
   },
   "outputs": [],
   "source": [
    "#hide\n",
    "\n",
    "# FETCH\n",
    "base_url = 'https://raw.githubusercontent.com/pratapvardhan/notebooks/master/covid19/'\n",
    "paths = {\n",
    "    'mapping': base_url + 'mapping_countries.csv',\n",
    "    'overview': base_url + 'overview.tpl'\n",
    "}"
   ]
  },
  {
   "cell_type": "code",
   "execution_count": 3,
   "id": "dynamic-saver",
   "metadata": {
    "execution": {
     "iopub.execute_input": "2021-07-21T12:09:56.877903Z",
     "iopub.status.busy": "2021-07-21T12:09:56.877409Z",
     "iopub.status.idle": "2021-07-21T12:09:56.879928Z",
     "shell.execute_reply": "2021-07-21T12:09:56.880389Z"
    },
    "papermill": {
     "duration": 0.042658,
     "end_time": "2021-07-21T12:09:56.880510",
     "exception": false,
     "start_time": "2021-07-21T12:09:56.837852",
     "status": "completed"
    },
    "tags": []
   },
   "outputs": [
    {
     "data": {
      "text/plain": [
       "'https://raw.githubusercontent.com/pratapvardhan/notebooks/master/covid19/mapping_countries.csv'"
      ]
     },
     "execution_count": 3,
     "metadata": {},
     "output_type": "execute_result"
    }
   ],
   "source": [
    "#hide\n",
    "paths['mapping']"
   ]
  },
  {
   "cell_type": "code",
   "execution_count": 4,
   "id": "urban-software",
   "metadata": {
    "execution": {
     "iopub.execute_input": "2021-07-21T12:09:56.945207Z",
     "iopub.status.busy": "2021-07-21T12:09:56.944716Z",
     "iopub.status.idle": "2021-07-21T12:09:56.946972Z",
     "shell.execute_reply": "2021-07-21T12:09:56.946570Z"
    },
    "papermill": {
     "duration": 0.037051,
     "end_time": "2021-07-21T12:09:56.947077",
     "exception": false,
     "start_time": "2021-07-21T12:09:56.910026",
     "status": "completed"
    },
    "tags": []
   },
   "outputs": [],
   "source": [
    "#hide\n",
    "def get_mappings(url):\n",
    "    df = pd.read_csv(url)\n",
    "    return {\n",
    "        'df': df,\n",
    "        'replace.country': dict(df.dropna(subset=['Name']).set_index('Country')['Name']),\n",
    "        'map.continent': dict(df.set_index('Name')['Continent'])\n",
    "    }"
   ]
  },
  {
   "cell_type": "code",
   "execution_count": 5,
   "id": "intimate-machinery",
   "metadata": {
    "execution": {
     "iopub.execute_input": "2021-07-21T12:09:57.011487Z",
     "iopub.status.busy": "2021-07-21T12:09:57.011000Z",
     "iopub.status.idle": "2021-07-21T12:09:57.069577Z",
     "shell.execute_reply": "2021-07-21T12:09:57.069001Z"
    },
    "papermill": {
     "duration": 0.093099,
     "end_time": "2021-07-21T12:09:57.069694",
     "exception": false,
     "start_time": "2021-07-21T12:09:56.976595",
     "status": "completed"
    },
    "tags": []
   },
   "outputs": [],
   "source": [
    "#hide\n",
    "mapping = get_mappings(paths['mapping'])"
   ]
  },
  {
   "cell_type": "code",
   "execution_count": 6,
   "id": "certified-tactics",
   "metadata": {
    "execution": {
     "iopub.execute_input": "2021-07-21T12:09:57.136078Z",
     "iopub.status.busy": "2021-07-21T12:09:57.135569Z",
     "iopub.status.idle": "2021-07-21T12:09:57.137318Z",
     "shell.execute_reply": "2021-07-21T12:09:57.137773Z"
    },
    "papermill": {
     "duration": 0.036757,
     "end_time": "2021-07-21T12:09:57.137899",
     "exception": false,
     "start_time": "2021-07-21T12:09:57.101142",
     "status": "completed"
    },
    "tags": []
   },
   "outputs": [],
   "source": [
    "#hide\n",
    "def get_template(path):\n",
    "    from urllib.parse import urlparse\n",
    "    if bool(urlparse(path).netloc):\n",
    "        from urllib.request import urlopen\n",
    "        return urlopen(path).read().decode('utf8')\n",
    "    return open(path).read()"
   ]
  },
  {
   "cell_type": "code",
   "execution_count": 7,
   "id": "realistic-blast",
   "metadata": {
    "execution": {
     "iopub.execute_input": "2021-07-21T12:09:57.202087Z",
     "iopub.status.busy": "2021-07-21T12:09:57.201585Z",
     "iopub.status.idle": "2021-07-21T12:09:57.203667Z",
     "shell.execute_reply": "2021-07-21T12:09:57.203252Z"
    },
    "papermill": {
     "duration": 0.036355,
     "end_time": "2021-07-21T12:09:57.203773",
     "exception": false,
     "start_time": "2021-07-21T12:09:57.167418",
     "status": "completed"
    },
    "tags": []
   },
   "outputs": [],
   "source": [
    "#hide\n",
    "def get_frame(name):\n",
    "    url = (\n",
    "        'https://raw.githubusercontent.com/CSSEGISandData/COVID-19/master/csse_covid_19_data/'\n",
    "        f'csse_covid_19_time_series/time_series_covid19_{name}_global.csv')\n",
    "    df = pd.read_csv(url)\n",
    "    # rename countries\n",
    "    df['Country/Region'] = df['Country/Region'].replace(mapping['replace.country'])\n",
    "    return df"
   ]
  },
  {
   "cell_type": "code",
   "execution_count": 8,
   "id": "affiliated-characterization",
   "metadata": {
    "execution": {
     "iopub.execute_input": "2021-07-21T12:09:57.269127Z",
     "iopub.status.busy": "2021-07-21T12:09:57.268622Z",
     "iopub.status.idle": "2021-07-21T12:09:57.270866Z",
     "shell.execute_reply": "2021-07-21T12:09:57.270443Z"
    },
    "papermill": {
     "duration": 0.037546,
     "end_time": "2021-07-21T12:09:57.270973",
     "exception": false,
     "start_time": "2021-07-21T12:09:57.233427",
     "status": "completed"
    },
    "tags": []
   },
   "outputs": [],
   "source": [
    "#hide\n",
    "def get_dates(df):\n",
    "    dt_cols = df.columns[~df.columns.isin(['Province/State', 'Country/Region', 'Lat', 'Long'])]\n",
    "    LAST_DATE_I = -1\n",
    "    # sometimes last column may be empty, then go backwards\n",
    "    for i in range(-1, -len(dt_cols), -1):\n",
    "        if not df[dt_cols[i]].fillna(0).eq(0).all():\n",
    "            LAST_DATE_I = i\n",
    "            break\n",
    "    return LAST_DATE_I, dt_cols"
   ]
  },
  {
   "cell_type": "code",
   "execution_count": 9,
   "id": "recent-optimization",
   "metadata": {
    "execution": {
     "iopub.execute_input": "2021-07-21T12:09:57.335982Z",
     "iopub.status.busy": "2021-07-21T12:09:57.335479Z",
     "iopub.status.idle": "2021-07-21T12:09:57.824664Z",
     "shell.execute_reply": "2021-07-21T12:09:57.824154Z"
    },
    "papermill": {
     "duration": 0.523997,
     "end_time": "2021-07-21T12:09:57.824797",
     "exception": false,
     "start_time": "2021-07-21T12:09:57.300800",
     "status": "completed"
    },
    "tags": []
   },
   "outputs": [],
   "source": [
    "#hide\n",
    "COL_REGION = 'Country/Region'\n",
    "# Confirmed, Recovered, Deaths\n",
    "df = get_frame('confirmed')\n",
    "# dft_: timeseries, dfc_: today country agg\n",
    "dft_cases = df\n",
    "dft_deaths = get_frame('deaths')\n",
    "dft_recovered = get_frame('recovered')\n",
    "LAST_DATE_I, dt_cols = get_dates(df)"
   ]
  },
  {
   "cell_type": "code",
   "execution_count": 10,
   "id": "absolute-copper",
   "metadata": {
    "execution": {
     "iopub.execute_input": "2021-07-21T12:09:57.891186Z",
     "iopub.status.busy": "2021-07-21T12:09:57.890678Z",
     "iopub.status.idle": "2021-07-21T12:09:57.892591Z",
     "shell.execute_reply": "2021-07-21T12:09:57.892106Z"
    },
    "papermill": {
     "duration": 0.037061,
     "end_time": "2021-07-21T12:09:57.892697",
     "exception": false,
     "start_time": "2021-07-21T12:09:57.855636",
     "status": "completed"
    },
    "tags": []
   },
   "outputs": [],
   "source": [
    "#hide\n",
    "LAST_DATE_I, dt_cols = get_dates(df)\n",
    "dt_today =dt_cols[LAST_DATE_I]\n",
    "# dt_5day = dt_cols[LAST_DATE_I - 5]\n",
    "dt_yday = dt_cols[LAST_DATE_I - 1]"
   ]
  },
  {
   "cell_type": "code",
   "execution_count": 11,
   "id": "restricted-sheriff",
   "metadata": {
    "execution": {
     "iopub.execute_input": "2021-07-21T12:09:57.958695Z",
     "iopub.status.busy": "2021-07-21T12:09:57.958161Z",
     "iopub.status.idle": "2021-07-21T12:09:57.965688Z",
     "shell.execute_reply": "2021-07-21T12:09:57.965281Z"
    },
    "papermill": {
     "duration": 0.043322,
     "end_time": "2021-07-21T12:09:57.965818",
     "exception": false,
     "start_time": "2021-07-21T12:09:57.922496",
     "status": "completed"
    },
    "tags": []
   },
   "outputs": [],
   "source": [
    "#hide\n",
    "dfc_cases = dft_cases.groupby(COL_REGION)[dt_today].sum()\n",
    "dfc_deaths = dft_deaths.groupby(COL_REGION)[dt_today].sum()\n",
    "# dfp_cases = dft_cases.groupby(COL_REGION)[dt_5day].sum()\n",
    "# dfp_deaths = dft_deaths.groupby(COL_REGION)[dt_5day].sum()\n",
    "dfp_cases = dft_cases.groupby(COL_REGION)[dt_yday].sum()\n",
    "dfp_deaths = dft_deaths.groupby(COL_REGION)[dt_yday].sum()"
   ]
  },
  {
   "cell_type": "code",
   "execution_count": 12,
   "id": "deluxe-hepatitis",
   "metadata": {
    "execution": {
     "iopub.execute_input": "2021-07-21T12:09:58.031041Z",
     "iopub.status.busy": "2021-07-21T12:09:58.030529Z",
     "iopub.status.idle": "2021-07-21T12:09:58.035747Z",
     "shell.execute_reply": "2021-07-21T12:09:58.035346Z"
    },
    "papermill": {
     "duration": 0.040052,
     "end_time": "2021-07-21T12:09:58.035856",
     "exception": false,
     "start_time": "2021-07-21T12:09:57.995804",
     "status": "completed"
    },
    "tags": []
   },
   "outputs": [],
   "source": [
    "#hide\n",
    "df_table = (pd.DataFrame(dict(Cases = dfc_cases, Deaths = dfc_deaths, PCases = dfp_cases, PDeaths = dfp_deaths))\n",
    "            .sort_values(by = ['Cases','Deaths'], ascending = [False, False])\n",
    "            .reset_index())"
   ]
  },
  {
   "cell_type": "code",
   "execution_count": 13,
   "id": "educational-chancellor",
   "metadata": {
    "execution": {
     "iopub.execute_input": "2021-07-21T12:09:58.113553Z",
     "iopub.status.busy": "2021-07-21T12:09:58.113039Z",
     "iopub.status.idle": "2021-07-21T12:09:58.120515Z",
     "shell.execute_reply": "2021-07-21T12:09:58.120113Z"
    },
    "papermill": {
     "duration": 0.055046,
     "end_time": "2021-07-21T12:09:58.120629",
     "exception": false,
     "start_time": "2021-07-21T12:09:58.065583",
     "status": "completed"
    },
    "tags": []
   },
   "outputs": [
    {
     "data": {
      "text/html": [
       "<div>\n",
       "<style scoped>\n",
       "    .dataframe tbody tr th:only-of-type {\n",
       "        vertical-align: middle;\n",
       "    }\n",
       "\n",
       "    .dataframe tbody tr th {\n",
       "        vertical-align: top;\n",
       "    }\n",
       "\n",
       "    .dataframe thead th {\n",
       "        text-align: right;\n",
       "    }\n",
       "</style>\n",
       "<table border=\"1\" class=\"dataframe\">\n",
       "  <thead>\n",
       "    <tr style=\"text-align: right;\">\n",
       "      <th></th>\n",
       "      <th>Country/Region</th>\n",
       "      <th>Cases</th>\n",
       "      <th>Deaths</th>\n",
       "      <th>PCases</th>\n",
       "      <th>PDeaths</th>\n",
       "      <th>Cases (+)</th>\n",
       "      <th>Deaths (+)</th>\n",
       "      <th>Fatality Rate</th>\n",
       "      <th>Continent</th>\n",
       "    </tr>\n",
       "  </thead>\n",
       "  <tbody>\n",
       "    <tr>\n",
       "      <th>0</th>\n",
       "      <td>US</td>\n",
       "      <td>34174774</td>\n",
       "      <td>609529</td>\n",
       "      <td>34132071</td>\n",
       "      <td>609231</td>\n",
       "      <td>42703</td>\n",
       "      <td>298</td>\n",
       "      <td>1.78</td>\n",
       "      <td>North America</td>\n",
       "    </tr>\n",
       "    <tr>\n",
       "      <th>1</th>\n",
       "      <td>India</td>\n",
       "      <td>31216337</td>\n",
       "      <td>418480</td>\n",
       "      <td>31174322</td>\n",
       "      <td>414482</td>\n",
       "      <td>42015</td>\n",
       "      <td>3998</td>\n",
       "      <td>1.34</td>\n",
       "      <td>Asia</td>\n",
       "    </tr>\n",
       "    <tr>\n",
       "      <th>2</th>\n",
       "      <td>Brazil</td>\n",
       "      <td>19419437</td>\n",
       "      <td>544180</td>\n",
       "      <td>19391845</td>\n",
       "      <td>542756</td>\n",
       "      <td>27592</td>\n",
       "      <td>1424</td>\n",
       "      <td>2.80</td>\n",
       "      <td>South America</td>\n",
       "    </tr>\n",
       "    <tr>\n",
       "      <th>3</th>\n",
       "      <td>France</td>\n",
       "      <td>5952339</td>\n",
       "      <td>111715</td>\n",
       "      <td>5934122</td>\n",
       "      <td>111682</td>\n",
       "      <td>18217</td>\n",
       "      <td>33</td>\n",
       "      <td>1.88</td>\n",
       "      <td>Europe</td>\n",
       "    </tr>\n",
       "    <tr>\n",
       "      <th>4</th>\n",
       "      <td>Russia</td>\n",
       "      <td>5931925</td>\n",
       "      <td>147457</td>\n",
       "      <td>5908691</td>\n",
       "      <td>146686</td>\n",
       "      <td>23234</td>\n",
       "      <td>771</td>\n",
       "      <td>2.49</td>\n",
       "      <td>Europe</td>\n",
       "    </tr>\n",
       "  </tbody>\n",
       "</table>\n",
       "</div>"
      ],
      "text/plain": [
       "  Country/Region     Cases  Deaths    PCases  PDeaths  Cases (+)  Deaths (+)  \\\n",
       "0             US  34174774  609529  34132071   609231      42703         298   \n",
       "1          India  31216337  418480  31174322   414482      42015        3998   \n",
       "2         Brazil  19419437  544180  19391845   542756      27592        1424   \n",
       "3         France   5952339  111715   5934122   111682      18217          33   \n",
       "4         Russia   5931925  147457   5908691   146686      23234         771   \n",
       "\n",
       "   Fatality Rate      Continent  \n",
       "0           1.78  North America  \n",
       "1           1.34           Asia  \n",
       "2           2.80  South America  \n",
       "3           1.88         Europe  \n",
       "4           2.49         Europe  "
      ]
     },
     "execution_count": 13,
     "metadata": {},
     "output_type": "execute_result"
    }
   ],
   "source": [
    "#hide\n",
    "for c in 'Cases, Deaths'.split(', '):\n",
    "    df_table[f'{c} (+)'] = (df_table[c] - df_table[f'P{c}']).clip(0)\n",
    "    #Clip ça veut dire, les chiffres negatif sont interdit\n",
    "df_table['Fatality Rate'] = (100* df_table['Deaths']/ df_table['Cases']).round(2)\n",
    "df_table['Continent'] = df_table['Country/Region'].map(mapping['map.continent'])\n",
    "df_table.head(5)"
   ]
  },
  {
   "cell_type": "code",
   "execution_count": 14,
   "id": "aboriginal-bulgaria",
   "metadata": {
    "execution": {
     "iopub.execute_input": "2021-07-21T12:09:58.186045Z",
     "iopub.status.busy": "2021-07-21T12:09:58.185537Z",
     "iopub.status.idle": "2021-07-21T12:09:58.188370Z",
     "shell.execute_reply": "2021-07-21T12:09:58.187974Z"
    },
    "papermill": {
     "duration": 0.037605,
     "end_time": "2021-07-21T12:09:58.188477",
     "exception": false,
     "start_time": "2021-07-21T12:09:58.150872",
     "status": "completed"
    },
    "tags": []
   },
   "outputs": [],
   "source": [
    "#hide\n",
    "#delete problematic countries from table\n",
    "df_table = df_table[~df_table['Country/Region'].isin(['Cape Verde', 'Cruise Ship', 'Kosovo'])]"
   ]
  },
  {
   "cell_type": "code",
   "execution_count": 15,
   "id": "fantastic-effect",
   "metadata": {
    "execution": {
     "iopub.execute_input": "2021-07-21T12:09:58.256911Z",
     "iopub.status.busy": "2021-07-21T12:09:58.256412Z",
     "iopub.status.idle": "2021-07-21T12:09:58.273822Z",
     "shell.execute_reply": "2021-07-21T12:09:58.273421Z"
    },
    "papermill": {
     "duration": 0.055377,
     "end_time": "2021-07-21T12:09:58.273935",
     "exception": false,
     "start_time": "2021-07-21T12:09:58.218558",
     "status": "completed"
    },
    "tags": []
   },
   "outputs": [
    {
     "data": {
      "text/html": [
       "<div>\n",
       "<style scoped>\n",
       "    .dataframe tbody tr th:only-of-type {\n",
       "        vertical-align: middle;\n",
       "    }\n",
       "\n",
       "    .dataframe tbody tr th {\n",
       "        vertical-align: top;\n",
       "    }\n",
       "\n",
       "    .dataframe thead th {\n",
       "        text-align: right;\n",
       "    }\n",
       "</style>\n",
       "<table border=\"1\" class=\"dataframe\">\n",
       "  <thead>\n",
       "    <tr style=\"text-align: right;\">\n",
       "      <th></th>\n",
       "      <th>Country/Region</th>\n",
       "      <th>Cases</th>\n",
       "      <th>Deaths</th>\n",
       "      <th>PCases</th>\n",
       "      <th>PDeaths</th>\n",
       "      <th>Cases (+)</th>\n",
       "      <th>Deaths (+)</th>\n",
       "      <th>Fatality Rate</th>\n",
       "      <th>Continent</th>\n",
       "    </tr>\n",
       "  </thead>\n",
       "  <tbody>\n",
       "    <tr>\n",
       "      <th>0</th>\n",
       "      <td>US</td>\n",
       "      <td>34174774</td>\n",
       "      <td>609529</td>\n",
       "      <td>34132071</td>\n",
       "      <td>609231</td>\n",
       "      <td>42703</td>\n",
       "      <td>298</td>\n",
       "      <td>1.8</td>\n",
       "      <td>North America</td>\n",
       "    </tr>\n",
       "    <tr>\n",
       "      <th>1</th>\n",
       "      <td>India</td>\n",
       "      <td>31216337</td>\n",
       "      <td>418480</td>\n",
       "      <td>31174322</td>\n",
       "      <td>414482</td>\n",
       "      <td>42015</td>\n",
       "      <td>3998</td>\n",
       "      <td>1.3</td>\n",
       "      <td>Asia</td>\n",
       "    </tr>\n",
       "    <tr>\n",
       "      <th>2</th>\n",
       "      <td>Brazil</td>\n",
       "      <td>19419437</td>\n",
       "      <td>544180</td>\n",
       "      <td>19391845</td>\n",
       "      <td>542756</td>\n",
       "      <td>27592</td>\n",
       "      <td>1424</td>\n",
       "      <td>2.8</td>\n",
       "      <td>South America</td>\n",
       "    </tr>\n",
       "    <tr>\n",
       "      <th>3</th>\n",
       "      <td>France</td>\n",
       "      <td>5952339</td>\n",
       "      <td>111715</td>\n",
       "      <td>5934122</td>\n",
       "      <td>111682</td>\n",
       "      <td>18217</td>\n",
       "      <td>33</td>\n",
       "      <td>1.9</td>\n",
       "      <td>Europe</td>\n",
       "    </tr>\n",
       "    <tr>\n",
       "      <th>4</th>\n",
       "      <td>Russia</td>\n",
       "      <td>5931925</td>\n",
       "      <td>147457</td>\n",
       "      <td>5908691</td>\n",
       "      <td>146686</td>\n",
       "      <td>23234</td>\n",
       "      <td>771</td>\n",
       "      <td>2.5</td>\n",
       "      <td>Europe</td>\n",
       "    </tr>\n",
       "  </tbody>\n",
       "</table>\n",
       "</div>"
      ],
      "text/plain": [
       "  Country/Region     Cases  Deaths    PCases  PDeaths  Cases (+)  Deaths (+)  \\\n",
       "0             US  34174774  609529  34132071   609231      42703         298   \n",
       "1          India  31216337  418480  31174322   414482      42015        3998   \n",
       "2         Brazil  19419437  544180  19391845   542756      27592        1424   \n",
       "3         France   5952339  111715   5934122   111682      18217          33   \n",
       "4         Russia   5931925  147457   5908691   146686      23234         771   \n",
       "\n",
       "   Fatality Rate      Continent  \n",
       "0            1.8  North America  \n",
       "1            1.3           Asia  \n",
       "2            2.8  South America  \n",
       "3            1.9         Europe  \n",
       "4            2.5         Europe  "
      ]
     },
     "execution_count": 15,
     "metadata": {},
     "output_type": "execute_result"
    }
   ],
   "source": [
    "#hide\n",
    "df_table = (pd.DataFrame(dict(Cases=dfc_cases, Deaths=dfc_deaths, PCases=dfp_cases, PDeaths=dfp_deaths))\n",
    "             .sort_values(by=['Cases', 'Deaths'], ascending=[False, False])\n",
    "             .reset_index())\n",
    "df_table.rename(columns={'index': 'Country/Region'}, inplace=True)\n",
    "for c in 'Cases, Deaths'.split(', '):\n",
    "    df_table[f'{c} (+)'] = (df_table[c] - df_table[f'P{c}']).clip(0)  # DATA BUG\n",
    "df_table['Fatality Rate'] = (100 * df_table['Deaths'] / df_table['Cases']).round(1)\n",
    "df_table['Continent'] = df_table['Country/Region'].map(mapping['map.continent'])\n",
    "df_table.head(5)"
   ]
  },
  {
   "cell_type": "code",
   "execution_count": 16,
   "id": "fewer-occasion",
   "metadata": {
    "execution": {
     "iopub.execute_input": "2021-07-21T12:09:58.340559Z",
     "iopub.status.busy": "2021-07-21T12:09:58.340061Z",
     "iopub.status.idle": "2021-07-21T12:09:58.343043Z",
     "shell.execute_reply": "2021-07-21T12:09:58.343466Z"
    },
    "papermill": {
     "duration": 0.038662,
     "end_time": "2021-07-21T12:09:58.343593",
     "exception": false,
     "start_time": "2021-07-21T12:09:58.304931",
     "status": "completed"
    },
    "tags": []
   },
   "outputs": [],
   "source": [
    "#hide\n",
    "#delete problematic countries from table\n",
    "df_table = df_table[~df_table['Country/Region'].isin(['Cape Verde', 'Cruise Ship', 'Kosovo'])]"
   ]
  },
  {
   "cell_type": "code",
   "execution_count": 17,
   "id": "related-center",
   "metadata": {
    "execution": {
     "iopub.execute_input": "2021-07-21T12:09:58.417147Z",
     "iopub.status.busy": "2021-07-21T12:09:58.416628Z",
     "iopub.status.idle": "2021-07-21T12:09:58.424346Z",
     "shell.execute_reply": "2021-07-21T12:09:58.423944Z"
    },
    "papermill": {
     "duration": 0.050358,
     "end_time": "2021-07-21T12:09:58.424457",
     "exception": false,
     "start_time": "2021-07-21T12:09:58.374099",
     "status": "completed"
    },
    "tags": []
   },
   "outputs": [],
   "source": [
    "#hide\n",
    "metrics = [df_table.columns[index] for index in [1,2,5,6]]\n",
    "# s_china = df_table[df_table['Country/Region'].eq('China')][metrics].sum().add_prefix('China ')\n",
    "s_us = df_table[df_table['Country/Region'].eq('US')][metrics].sum().add_prefix('US ')\n",
    "s_eu = df_table[df_table['Continent'].eq('Europe')][metrics].sum().add_prefix('EU ')\n",
    "s_ind = df_table[df_table['Country/Region'].eq('India')][metrics].sum().add_prefix('India ')\n",
    "summary = {'updated': pd.to_datetime(dt_today), 'since': pd.to_datetime(dt_yday)}\n",
    "summary = {'updated': pd.to_datetime(dt_today), 'since': pd.to_datetime(dt_yday)}\n",
    "summary = {**summary, **df_table[metrics].sum(), **s_ind, **s_us, **s_eu}"
   ]
  },
  {
   "cell_type": "code",
   "execution_count": 18,
   "id": "engaging-syndrome",
   "metadata": {
    "execution": {
     "iopub.execute_input": "2021-07-21T12:09:58.490924Z",
     "iopub.status.busy": "2021-07-21T12:09:58.490401Z",
     "iopub.status.idle": "2021-07-21T12:09:58.502205Z",
     "shell.execute_reply": "2021-07-21T12:09:58.501796Z"
    },
    "papermill": {
     "duration": 0.047033,
     "end_time": "2021-07-21T12:09:58.502321",
     "exception": false,
     "start_time": "2021-07-21T12:09:58.455288",
     "status": "completed"
    },
    "tags": []
   },
   "outputs": [],
   "source": [
    "#hide\n",
    "dft_ct_new_cases = dft_cases.groupby(COL_REGION)[dt_cols].sum().diff(axis=1).fillna(0).astype(int)"
   ]
  },
  {
   "cell_type": "code",
   "execution_count": 19,
   "id": "neutral-assignment",
   "metadata": {
    "execution": {
     "iopub.execute_input": "2021-07-21T12:09:58.570167Z",
     "iopub.status.busy": "2021-07-21T12:09:58.569673Z",
     "iopub.status.idle": "2021-07-21T12:09:58.571780Z",
     "shell.execute_reply": "2021-07-21T12:09:58.572177Z"
    },
    "papermill": {
     "duration": 0.039231,
     "end_time": "2021-07-21T12:09:58.572300",
     "exception": false,
     "start_time": "2021-07-21T12:09:58.533069",
     "status": "completed"
    },
    "tags": []
   },
   "outputs": [],
   "source": [
    "#hide\n",
    "everydaycases = dft_ct_new_cases.cumsum(axis=1)"
   ]
  },
  {
   "cell_type": "code",
   "execution_count": 20,
   "id": "parliamentary-calgary",
   "metadata": {
    "execution": {
     "iopub.execute_input": "2021-07-21T12:09:58.637663Z",
     "iopub.status.busy": "2021-07-21T12:09:58.637165Z",
     "iopub.status.idle": "2021-07-21T12:09:59.156333Z",
     "shell.execute_reply": "2021-07-21T12:09:59.155832Z"
    },
    "papermill": {
     "duration": 0.553588,
     "end_time": "2021-07-21T12:09:59.156468",
     "exception": false,
     "start_time": "2021-07-21T12:09:58.602880",
     "status": "completed"
    },
    "tags": []
   },
   "outputs": [],
   "source": [
    "#hide\n",
    "import pandas as pd\n",
    "import matplotlib.pyplot as plt\n",
    "import matplotlib.ticker as ticker\n",
    "import matplotlib.animation as animation\n",
    "from IPython.display import HTML"
   ]
  },
  {
   "cell_type": "code",
   "execution_count": 21,
   "id": "lasting-extraction",
   "metadata": {
    "execution": {
     "iopub.execute_input": "2021-07-21T12:09:59.223786Z",
     "iopub.status.busy": "2021-07-21T12:09:59.223285Z",
     "iopub.status.idle": "2021-07-21T12:09:59.228254Z",
     "shell.execute_reply": "2021-07-21T12:09:59.228689Z"
    },
    "papermill": {
     "duration": 0.041485,
     "end_time": "2021-07-21T12:09:59.228818",
     "exception": false,
     "start_time": "2021-07-21T12:09:59.187333",
     "status": "completed"
    },
    "tags": []
   },
   "outputs": [],
   "source": [
    "#hide\n",
    "t = everydaycases.stack()"
   ]
  },
  {
   "cell_type": "code",
   "execution_count": 22,
   "id": "premier-sleeve",
   "metadata": {
    "execution": {
     "iopub.execute_input": "2021-07-21T12:09:59.294696Z",
     "iopub.status.busy": "2021-07-21T12:09:59.294169Z",
     "iopub.status.idle": "2021-07-21T12:09:59.302564Z",
     "shell.execute_reply": "2021-07-21T12:09:59.302148Z"
    },
    "papermill": {
     "duration": 0.042831,
     "end_time": "2021-07-21T12:09:59.302674",
     "exception": false,
     "start_time": "2021-07-21T12:09:59.259843",
     "status": "completed"
    },
    "tags": []
   },
   "outputs": [],
   "source": [
    "#hide\n",
    "g = t.reset_index(['Country/Region'])"
   ]
  },
  {
   "cell_type": "code",
   "execution_count": 23,
   "id": "distributed-pittsburgh",
   "metadata": {
    "execution": {
     "iopub.execute_input": "2021-07-21T12:09:59.368049Z",
     "iopub.status.busy": "2021-07-21T12:09:59.367551Z",
     "iopub.status.idle": "2021-07-21T12:09:59.369309Z",
     "shell.execute_reply": "2021-07-21T12:09:59.369780Z"
    },
    "papermill": {
     "duration": 0.036684,
     "end_time": "2021-07-21T12:09:59.369904",
     "exception": false,
     "start_time": "2021-07-21T12:09:59.333220",
     "status": "completed"
    },
    "tags": []
   },
   "outputs": [],
   "source": [
    "#hide\n",
    "g.index.name = 'date'"
   ]
  },
  {
   "cell_type": "code",
   "execution_count": 24,
   "id": "naked-donor",
   "metadata": {
    "execution": {
     "iopub.execute_input": "2021-07-21T12:09:59.435149Z",
     "iopub.status.busy": "2021-07-21T12:09:59.434646Z",
     "iopub.status.idle": "2021-07-21T12:09:59.436350Z",
     "shell.execute_reply": "2021-07-21T12:09:59.436818Z"
    },
    "papermill": {
     "duration": 0.036381,
     "end_time": "2021-07-21T12:09:59.436944",
     "exception": false,
     "start_time": "2021-07-21T12:09:59.400563",
     "status": "completed"
    },
    "tags": []
   },
   "outputs": [],
   "source": [
    "# #hide\n",
    "# g = g.reset_index(['date'])"
   ]
  },
  {
   "cell_type": "code",
   "execution_count": 25,
   "id": "incomplete-mustang",
   "metadata": {
    "execution": {
     "iopub.execute_input": "2021-07-21T12:09:59.501636Z",
     "iopub.status.busy": "2021-07-21T12:09:59.501142Z",
     "iopub.status.idle": "2021-07-21T12:09:59.503366Z",
     "shell.execute_reply": "2021-07-21T12:09:59.502972Z"
    },
    "papermill": {
     "duration": 0.03601,
     "end_time": "2021-07-21T12:09:59.503470",
     "exception": false,
     "start_time": "2021-07-21T12:09:59.467460",
     "status": "completed"
    },
    "tags": []
   },
   "outputs": [],
   "source": [
    "#hide\n",
    "# g.head()"
   ]
  },
  {
   "cell_type": "code",
   "execution_count": 26,
   "id": "specific-kruger",
   "metadata": {
    "execution": {
     "iopub.execute_input": "2021-07-21T12:09:59.568442Z",
     "iopub.status.busy": "2021-07-21T12:09:59.567942Z",
     "iopub.status.idle": "2021-07-21T12:09:59.570211Z",
     "shell.execute_reply": "2021-07-21T12:09:59.569792Z"
    },
    "papermill": {
     "duration": 0.036259,
     "end_time": "2021-07-21T12:09:59.570314",
     "exception": false,
     "start_time": "2021-07-21T12:09:59.534055",
     "status": "completed"
    },
    "tags": []
   },
   "outputs": [],
   "source": [
    "#hide\n",
    "# g.columns = ['date','country','cases']"
   ]
  },
  {
   "cell_type": "code",
   "execution_count": 27,
   "id": "tender-conversion",
   "metadata": {
    "execution": {
     "iopub.execute_input": "2021-07-21T12:09:59.635323Z",
     "iopub.status.busy": "2021-07-21T12:09:59.634817Z",
     "iopub.status.idle": "2021-07-21T12:09:59.636928Z",
     "shell.execute_reply": "2021-07-21T12:09:59.636529Z"
    },
    "papermill": {
     "duration": 0.03624,
     "end_time": "2021-07-21T12:09:59.637035",
     "exception": false,
     "start_time": "2021-07-21T12:09:59.600795",
     "status": "completed"
    },
    "tags": []
   },
   "outputs": [],
   "source": [
    "#hide\n",
    "# g['continent'] = g.country"
   ]
  },
  {
   "cell_type": "code",
   "execution_count": 28,
   "id": "substantial-wilderness",
   "metadata": {
    "execution": {
     "iopub.execute_input": "2021-07-21T12:09:59.701998Z",
     "iopub.status.busy": "2021-07-21T12:09:59.701497Z",
     "iopub.status.idle": "2021-07-21T12:09:59.703775Z",
     "shell.execute_reply": "2021-07-21T12:09:59.703379Z"
    },
    "papermill": {
     "duration": 0.03625,
     "end_time": "2021-07-21T12:09:59.703883",
     "exception": false,
     "start_time": "2021-07-21T12:09:59.667633",
     "status": "completed"
    },
    "tags": []
   },
   "outputs": [],
   "source": [
    "#hide\n",
    "# cols = list(g.columns.values)"
   ]
  },
  {
   "cell_type": "code",
   "execution_count": 29,
   "id": "solved-farming",
   "metadata": {
    "execution": {
     "iopub.execute_input": "2021-07-21T12:09:59.770389Z",
     "iopub.status.busy": "2021-07-21T12:09:59.769889Z",
     "iopub.status.idle": "2021-07-21T12:09:59.771709Z",
     "shell.execute_reply": "2021-07-21T12:09:59.772128Z"
    },
    "papermill": {
     "duration": 0.037646,
     "end_time": "2021-07-21T12:09:59.772255",
     "exception": false,
     "start_time": "2021-07-21T12:09:59.734609",
     "status": "completed"
    },
    "tags": []
   },
   "outputs": [],
   "source": [
    "#hide\n",
    "# cols.insert(0, cols.pop())"
   ]
  },
  {
   "cell_type": "code",
   "execution_count": 30,
   "id": "executed-adoption",
   "metadata": {
    "execution": {
     "iopub.execute_input": "2021-07-21T12:09:59.837513Z",
     "iopub.status.busy": "2021-07-21T12:09:59.837004Z",
     "iopub.status.idle": "2021-07-21T12:09:59.839243Z",
     "shell.execute_reply": "2021-07-21T12:09:59.838842Z"
    },
    "papermill": {
     "duration": 0.036557,
     "end_time": "2021-07-21T12:09:59.839353",
     "exception": false,
     "start_time": "2021-07-21T12:09:59.802796",
     "status": "completed"
    },
    "tags": []
   },
   "outputs": [],
   "source": [
    "#hide\n",
    "# g = g[cols]"
   ]
  },
  {
   "cell_type": "code",
   "execution_count": 31,
   "id": "subject-dublin",
   "metadata": {
    "execution": {
     "iopub.execute_input": "2021-07-21T12:09:59.904175Z",
     "iopub.status.busy": "2021-07-21T12:09:59.903675Z",
     "iopub.status.idle": "2021-07-21T12:09:59.905906Z",
     "shell.execute_reply": "2021-07-21T12:09:59.905510Z"
    },
    "papermill": {
     "duration": 0.036077,
     "end_time": "2021-07-21T12:09:59.906013",
     "exception": false,
     "start_time": "2021-07-21T12:09:59.869936",
     "status": "completed"
    },
    "tags": []
   },
   "outputs": [],
   "source": [
    "#hide\n",
    "# g['continent'] = g['continent'].map(mapping['map.continent'])"
   ]
  },
  {
   "cell_type": "code",
   "execution_count": 32,
   "id": "freelance-scout",
   "metadata": {
    "execution": {
     "iopub.execute_input": "2021-07-21T12:09:59.971188Z",
     "iopub.status.busy": "2021-07-21T12:09:59.970681Z",
     "iopub.status.idle": "2021-07-21T12:09:59.972724Z",
     "shell.execute_reply": "2021-07-21T12:09:59.972311Z"
    },
    "papermill": {
     "duration": 0.036153,
     "end_time": "2021-07-21T12:09:59.972829",
     "exception": false,
     "start_time": "2021-07-21T12:09:59.936676",
     "status": "completed"
    },
    "tags": []
   },
   "outputs": [],
   "source": [
    "#hide\n",
    "# g.head()"
   ]
  },
  {
   "cell_type": "code",
   "execution_count": 33,
   "id": "limited-engine",
   "metadata": {
    "execution": {
     "iopub.execute_input": "2021-07-21T12:10:00.038024Z",
     "iopub.status.busy": "2021-07-21T12:10:00.037505Z",
     "iopub.status.idle": "2021-07-21T12:10:00.039369Z",
     "shell.execute_reply": "2021-07-21T12:10:00.039836Z"
    },
    "papermill": {
     "duration": 0.036725,
     "end_time": "2021-07-21T12:10:00.039966",
     "exception": false,
     "start_time": "2021-07-21T12:10:00.003241",
     "status": "completed"
    },
    "tags": []
   },
   "outputs": [],
   "source": [
    "# hide\n",
    "# g['date'] = g['date'].astype('datetime64[ns]')"
   ]
  },
  {
   "cell_type": "code",
   "execution_count": 34,
   "id": "sophisticated-supervisor",
   "metadata": {
    "execution": {
     "iopub.execute_input": "2021-07-21T12:10:00.105344Z",
     "iopub.status.busy": "2021-07-21T12:10:00.104835Z",
     "iopub.status.idle": "2021-07-21T12:10:00.107071Z",
     "shell.execute_reply": "2021-07-21T12:10:00.106667Z"
    },
    "papermill": {
     "duration": 0.036433,
     "end_time": "2021-07-21T12:10:00.107180",
     "exception": false,
     "start_time": "2021-07-21T12:10:00.070747",
     "status": "completed"
    },
    "tags": []
   },
   "outputs": [],
   "source": [
    "#hide\n",
    "# g['date'] = g.date.dt.dayofyear"
   ]
  },
  {
   "cell_type": "code",
   "execution_count": 35,
   "id": "inside-dubai",
   "metadata": {
    "execution": {
     "iopub.execute_input": "2021-07-21T12:10:00.172637Z",
     "iopub.status.busy": "2021-07-21T12:10:00.172134Z",
     "iopub.status.idle": "2021-07-21T12:10:00.173970Z",
     "shell.execute_reply": "2021-07-21T12:10:00.174364Z"
    },
    "papermill": {
     "duration": 0.036663,
     "end_time": "2021-07-21T12:10:00.174506",
     "exception": false,
     "start_time": "2021-07-21T12:10:00.137843",
     "status": "completed"
    },
    "tags": []
   },
   "outputs": [],
   "source": [
    "#hide\n",
    "# g = g.rename(columns= {'continent':'group','country':'name','cases':'value'})"
   ]
  },
  {
   "cell_type": "code",
   "execution_count": 36,
   "id": "fleet-motorcycle",
   "metadata": {
    "execution": {
     "iopub.execute_input": "2021-07-21T12:10:00.239304Z",
     "iopub.status.busy": "2021-07-21T12:10:00.238792Z",
     "iopub.status.idle": "2021-07-21T12:10:00.240599Z",
     "shell.execute_reply": "2021-07-21T12:10:00.240994Z"
    },
    "papermill": {
     "duration": 0.036043,
     "end_time": "2021-07-21T12:10:00.241115",
     "exception": false,
     "start_time": "2021-07-21T12:10:00.205072",
     "status": "completed"
    },
    "tags": []
   },
   "outputs": [],
   "source": [
    "#hide\n",
    "# cols = ['name','group','day','value']"
   ]
  },
  {
   "cell_type": "code",
   "execution_count": 37,
   "id": "continued-sleeping",
   "metadata": {
    "execution": {
     "iopub.execute_input": "2021-07-21T12:10:00.306370Z",
     "iopub.status.busy": "2021-07-21T12:10:00.305866Z",
     "iopub.status.idle": "2021-07-21T12:10:00.307619Z",
     "shell.execute_reply": "2021-07-21T12:10:00.307992Z"
    },
    "papermill": {
     "duration": 0.036708,
     "end_time": "2021-07-21T12:10:00.308120",
     "exception": false,
     "start_time": "2021-07-21T12:10:00.271412",
     "status": "completed"
    },
    "tags": []
   },
   "outputs": [],
   "source": [
    "#hide\n",
    "# g.rename(columns= {'date':'day'},inplace = True)"
   ]
  },
  {
   "cell_type": "code",
   "execution_count": 38,
   "id": "major-fight",
   "metadata": {
    "execution": {
     "iopub.execute_input": "2021-07-21T12:10:00.387277Z",
     "iopub.status.busy": "2021-07-21T12:10:00.386747Z",
     "iopub.status.idle": "2021-07-21T12:10:00.387800Z",
     "shell.execute_reply": "2021-07-21T12:10:00.388188Z"
    },
    "papermill": {
     "duration": 0.049342,
     "end_time": "2021-07-21T12:10:00.388316",
     "exception": false,
     "start_time": "2021-07-21T12:10:00.338974",
     "status": "completed"
    },
    "tags": []
   },
   "outputs": [],
   "source": [
    "#hide\n",
    "# g = g[cols]"
   ]
  },
  {
   "cell_type": "code",
   "execution_count": 39,
   "id": "structured-mobile",
   "metadata": {
    "execution": {
     "iopub.execute_input": "2021-07-21T12:10:00.568851Z",
     "iopub.status.busy": "2021-07-21T12:10:00.568193Z",
     "iopub.status.idle": "2021-07-21T12:10:00.570835Z",
     "shell.execute_reply": "2021-07-21T12:10:00.571403Z"
    },
    "papermill": {
     "duration": 0.149044,
     "end_time": "2021-07-21T12:10:00.571536",
     "exception": false,
     "start_time": "2021-07-21T12:10:00.422492",
     "status": "completed"
    },
    "tags": []
   },
   "outputs": [],
   "source": [
    "# #hide\n",
    "# g = g[g.group.notna()]"
   ]
  },
  {
   "cell_type": "code",
   "execution_count": 40,
   "id": "determined-closing",
   "metadata": {
    "execution": {
     "iopub.execute_input": "2021-07-21T12:10:00.736003Z",
     "iopub.status.busy": "2021-07-21T12:10:00.735459Z",
     "iopub.status.idle": "2021-07-21T12:10:00.737562Z",
     "shell.execute_reply": "2021-07-21T12:10:00.737132Z"
    },
    "papermill": {
     "duration": 0.135396,
     "end_time": "2021-07-21T12:10:00.737678",
     "exception": false,
     "start_time": "2021-07-21T12:10:00.602282",
     "status": "completed"
    },
    "tags": []
   },
   "outputs": [],
   "source": [
    "# #hide\n",
    "# colors = dict(zip(\n",
    "#     [\"Oceania\", \"Europe\", \"Asia\", \"South America\", \"Middle East\", \"North America\", \"Africa\"],\n",
    "#     [\"#adb0ff\", \"#ffb3ff\", \"#90d595\", \"#e48381\", \"#aafbff\", \"#f7bb5f\", \"#eafb50\"]\n",
    "# ))\n",
    "# group_lk = g.set_index('name')['group'].to_dict()"
   ]
  },
  {
   "cell_type": "code",
   "execution_count": null,
   "id": "gross-drinking",
   "metadata": {
    "papermill": {
     "duration": 0.058926,
     "end_time": "2021-07-21T12:10:00.827632",
     "exception": false,
     "start_time": "2021-07-21T12:10:00.768706",
     "status": "completed"
    },
    "tags": []
   },
   "outputs": [],
   "source": []
  },
  {
   "cell_type": "code",
   "execution_count": 41,
   "id": "subject-macintosh",
   "metadata": {
    "execution": {
     "iopub.execute_input": "2021-07-21T12:10:00.894481Z",
     "iopub.status.busy": "2021-07-21T12:10:00.893913Z",
     "iopub.status.idle": "2021-07-21T12:10:00.895609Z",
     "shell.execute_reply": "2021-07-21T12:10:00.896007Z"
    },
    "papermill": {
     "duration": 0.036772,
     "end_time": "2021-07-21T12:10:00.896133",
     "exception": false,
     "start_time": "2021-07-21T12:10:00.859361",
     "status": "completed"
    },
    "tags": []
   },
   "outputs": [],
   "source": [
    "# #hide\n",
    "# fig, ax = plt.subplots(figsize=(15, 8))\n",
    "\n",
    "# def draw_barchart(current_day):\n",
    "#     dff = g[g['day'].eq(current_day)].sort_values(by='value', ascending=True).tail(10)\n",
    "#     ax.clear()\n",
    "#     ax.barh(dff['name'], dff['value'], color=[colors[group_lk[x]] for x in dff['name']])\n",
    "#     dx = dff['value'].max() / 200\n",
    "    \n",
    "#     for i, (value, name) in enumerate(zip(dff['value'], dff['name'])):\n",
    "#         ax.text(value-dx, i,     name,           size=14, weight=600, ha='right', va='bottom')\n",
    "#         ax.text(value-dx, i-.25, group_lk[name], size=10, color='#444444', ha='right', va='baseline')\n",
    "#         ax.text(value+dx, i,     f'{value:,.0f}',  size=14, ha='left',  va='center')\n",
    "#     ax.text(1, 0.4, current_day, transform=ax.transAxes, color='#777777', size=46, ha='right', weight=800)\n",
    "#     ax.text(0, 1.06, 'Population (thousands)', transform=ax.transAxes, size=12, color='#777777')\n",
    "#     ax.xaxis.set_major_formatter(ticker.StrMethodFormatter('{x:,.0f}'))\n",
    "#     ax.xaxis.set_ticks_position('top')\n",
    "#     ax.tick_params(axis='x', colors='#777777', labelsize=12)\n",
    "#     ax.set_yticks([])\n",
    "#     ax.margins(0, 0.01)\n",
    "#     ax.grid(which='major', axis='x', linestyle='-')\n",
    "#     ax.set_axisbelow(True)\n",
    "    \n",
    "#     ax.text(0, 1.15, 'Coronavirus',\n",
    "#             transform=ax.transAxes, size=24, weight=600, ha='left', va='top')\n",
    "# #     ax.text(1, 0, 'by @pratapvardhan; credit @jburnmurdoch', transform=ax.transAxes, color='#777777', ha='right',\n",
    "# #             bbox=dict(facecolor='white', alpha=0.8, edgecolor='white'))\n",
    "#     plt.box(False)"
   ]
  },
  {
   "cell_type": "code",
   "execution_count": 42,
   "id": "sexual-wages",
   "metadata": {
    "execution": {
     "iopub.execute_input": "2021-07-21T12:10:00.961512Z",
     "iopub.status.busy": "2021-07-21T12:10:00.961011Z",
     "iopub.status.idle": "2021-07-21T12:10:00.962710Z",
     "shell.execute_reply": "2021-07-21T12:10:00.963181Z"
    },
    "papermill": {
     "duration": 0.036572,
     "end_time": "2021-07-21T12:10:00.963302",
     "exception": false,
     "start_time": "2021-07-21T12:10:00.926730",
     "status": "completed"
    },
    "tags": []
   },
   "outputs": [],
   "source": [
    "# #hide_input\n",
    "# fig, ax = plt.subplots(figsize=(15, 8))\n",
    "# animator = animation.FuncAnimation(fig, draw_barchart, frames=range(g.day.values.min(), g.day.values.max()))\n",
    "# HTML(animator.to_jshtml())\n",
    "# # or use animator.to_html5_video() or animator.save() "
   ]
  },
  {
   "cell_type": "code",
   "execution_count": null,
   "id": "australian-container",
   "metadata": {
    "papermill": {
     "duration": 0.030662,
     "end_time": "2021-07-21T12:10:01.024742",
     "exception": false,
     "start_time": "2021-07-21T12:10:00.994080",
     "status": "completed"
    },
    "tags": []
   },
   "outputs": [],
   "source": []
  },
  {
   "cell_type": "code",
   "execution_count": null,
   "id": "mediterranean-pontiac",
   "metadata": {
    "papermill": {
     "duration": 0.030608,
     "end_time": "2021-07-21T12:10:01.085890",
     "exception": false,
     "start_time": "2021-07-21T12:10:01.055282",
     "status": "completed"
    },
    "tags": []
   },
   "outputs": [],
   "source": []
  },
  {
   "cell_type": "code",
   "execution_count": null,
   "id": "aging-legislature",
   "metadata": {
    "papermill": {
     "duration": 0.030675,
     "end_time": "2021-07-21T12:10:01.147351",
     "exception": false,
     "start_time": "2021-07-21T12:10:01.116676",
     "status": "completed"
    },
    "tags": []
   },
   "outputs": [],
   "source": []
  }
 ],
 "metadata": {
  "kernelspec": {
   "display_name": "Python 3",
   "language": "python",
   "name": "python3"
  },
  "language_info": {
   "codemirror_mode": {
    "name": "ipython",
    "version": 3
   },
   "file_extension": ".py",
   "mimetype": "text/x-python",
   "name": "python",
   "nbconvert_exporter": "python",
   "pygments_lexer": "ipython3",
   "version": "3.6.14"
  },
  "papermill": {
   "duration": 7.291346,
   "end_time": "2021-07-21T12:10:02.567461",
   "environment_variables": {},
   "exception": null,
   "input_path": "2020-03-21-covid19exp.ipynb",
   "output_path": "2020-03-21-covid19exp.ipynb",
   "parameters": {},
   "start_time": "2021-07-21T12:09:55.276115",
   "version": "2.0.0"
  }
 },
 "nbformat": 4,
 "nbformat_minor": 5
}