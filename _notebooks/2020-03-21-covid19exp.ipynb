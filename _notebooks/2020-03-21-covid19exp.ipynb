{
 "cells": [
  {
   "cell_type": "markdown",
   "id": "muslim-click",
   "metadata": {
    "papermill": {
     "duration": 0.034701,
     "end_time": "2021-07-28T12:10:42.160527",
     "exception": false,
     "start_time": "2021-07-28T12:10:42.125826",
     "status": "completed"
    },
    "tags": []
   },
   "source": [
    "# COVID-19 Case Race\n",
    "> A race chart to see rising cases around the world\n",
    "\n",
    "- author: Hargun Oberoi\n",
    "- image: images/covid-overview.png\n",
    "- hide: false\n",
    "- badges: false"
   ]
  },
  {
   "cell_type": "code",
   "execution_count": 1,
   "id": "proof-material",
   "metadata": {
    "execution": {
     "iopub.execute_input": "2021-07-28T12:10:42.236233Z",
     "iopub.status.busy": "2021-07-28T12:10:42.235491Z",
     "iopub.status.idle": "2021-07-28T12:10:42.571776Z",
     "shell.execute_reply": "2021-07-28T12:10:42.571014Z"
    },
    "papermill": {
     "duration": 0.378485,
     "end_time": "2021-07-28T12:10:42.571929",
     "exception": false,
     "start_time": "2021-07-28T12:10:42.193444",
     "status": "completed"
    },
    "tags": []
   },
   "outputs": [],
   "source": [
    "#hide\n",
    "import numpy as np\n",
    "import pandas as pd\n",
    "from jinja2 import Template\n",
    "from IPython.display import HTML"
   ]
  },
  {
   "cell_type": "code",
   "execution_count": 2,
   "id": "developed-terminology",
   "metadata": {
    "execution": {
     "iopub.execute_input": "2021-07-28T12:10:42.639839Z",
     "iopub.status.busy": "2021-07-28T12:10:42.639283Z",
     "iopub.status.idle": "2021-07-28T12:10:42.641876Z",
     "shell.execute_reply": "2021-07-28T12:10:42.641385Z"
    },
    "papermill": {
     "duration": 0.038738,
     "end_time": "2021-07-28T12:10:42.641974",
     "exception": false,
     "start_time": "2021-07-28T12:10:42.603236",
     "status": "completed"
    },
    "tags": []
   },
   "outputs": [],
   "source": [
    "#hide\n",
    "\n",
    "# FETCH\n",
    "base_url = 'https://raw.githubusercontent.com/pratapvardhan/notebooks/master/covid19/'\n",
    "paths = {\n",
    "    'mapping': base_url + 'mapping_countries.csv',\n",
    "    'overview': base_url + 'overview.tpl'\n",
    "}"
   ]
  },
  {
   "cell_type": "code",
   "execution_count": 3,
   "id": "dynamic-saver",
   "metadata": {
    "execution": {
     "iopub.execute_input": "2021-07-28T12:10:42.717842Z",
     "iopub.status.busy": "2021-07-28T12:10:42.716128Z",
     "iopub.status.idle": "2021-07-28T12:10:42.720920Z",
     "shell.execute_reply": "2021-07-28T12:10:42.720368Z"
    },
    "papermill": {
     "duration": 0.047252,
     "end_time": "2021-07-28T12:10:42.721047",
     "exception": false,
     "start_time": "2021-07-28T12:10:42.673795",
     "status": "completed"
    },
    "tags": []
   },
   "outputs": [
    {
     "data": {
      "text/plain": [
       "'https://raw.githubusercontent.com/pratapvardhan/notebooks/master/covid19/mapping_countries.csv'"
      ]
     },
     "execution_count": 3,
     "metadata": {},
     "output_type": "execute_result"
    }
   ],
   "source": [
    "#hide\n",
    "paths['mapping']"
   ]
  },
  {
   "cell_type": "code",
   "execution_count": 4,
   "id": "urban-software",
   "metadata": {
    "execution": {
     "iopub.execute_input": "2021-07-28T12:10:42.789343Z",
     "iopub.status.busy": "2021-07-28T12:10:42.788770Z",
     "iopub.status.idle": "2021-07-28T12:10:42.791164Z",
     "shell.execute_reply": "2021-07-28T12:10:42.790702Z"
    },
    "papermill": {
     "duration": 0.038265,
     "end_time": "2021-07-28T12:10:42.791264",
     "exception": false,
     "start_time": "2021-07-28T12:10:42.752999",
     "status": "completed"
    },
    "tags": []
   },
   "outputs": [],
   "source": [
    "#hide\n",
    "def get_mappings(url):\n",
    "    df = pd.read_csv(url)\n",
    "    return {\n",
    "        'df': df,\n",
    "        'replace.country': dict(df.dropna(subset=['Name']).set_index('Country')['Name']),\n",
    "        'map.continent': dict(df.set_index('Name')['Continent'])\n",
    "    }"
   ]
  },
  {
   "cell_type": "code",
   "execution_count": 5,
   "id": "intimate-machinery",
   "metadata": {
    "execution": {
     "iopub.execute_input": "2021-07-28T12:10:42.858672Z",
     "iopub.status.busy": "2021-07-28T12:10:42.858121Z",
     "iopub.status.idle": "2021-07-28T12:10:42.895488Z",
     "shell.execute_reply": "2021-07-28T12:10:42.894949Z"
    },
    "papermill": {
     "duration": 0.072283,
     "end_time": "2021-07-28T12:10:42.895585",
     "exception": false,
     "start_time": "2021-07-28T12:10:42.823302",
     "status": "completed"
    },
    "tags": []
   },
   "outputs": [],
   "source": [
    "#hide\n",
    "mapping = get_mappings(paths['mapping'])"
   ]
  },
  {
   "cell_type": "code",
   "execution_count": 6,
   "id": "certified-tactics",
   "metadata": {
    "execution": {
     "iopub.execute_input": "2021-07-28T12:10:42.961961Z",
     "iopub.status.busy": "2021-07-28T12:10:42.959977Z",
     "iopub.status.idle": "2021-07-28T12:10:42.964463Z",
     "shell.execute_reply": "2021-07-28T12:10:42.964053Z"
    },
    "papermill": {
     "duration": 0.037711,
     "end_time": "2021-07-28T12:10:42.964582",
     "exception": false,
     "start_time": "2021-07-28T12:10:42.926871",
     "status": "completed"
    },
    "tags": []
   },
   "outputs": [],
   "source": [
    "#hide\n",
    "def get_template(path):\n",
    "    from urllib.parse import urlparse\n",
    "    if bool(urlparse(path).netloc):\n",
    "        from urllib.request import urlopen\n",
    "        return urlopen(path).read().decode('utf8')\n",
    "    return open(path).read()"
   ]
  },
  {
   "cell_type": "code",
   "execution_count": 7,
   "id": "realistic-blast",
   "metadata": {
    "execution": {
     "iopub.execute_input": "2021-07-28T12:10:43.030148Z",
     "iopub.status.busy": "2021-07-28T12:10:43.029622Z",
     "iopub.status.idle": "2021-07-28T12:10:43.031828Z",
     "shell.execute_reply": "2021-07-28T12:10:43.032293Z"
    },
    "papermill": {
     "duration": 0.036756,
     "end_time": "2021-07-28T12:10:43.032425",
     "exception": false,
     "start_time": "2021-07-28T12:10:42.995669",
     "status": "completed"
    },
    "tags": []
   },
   "outputs": [],
   "source": [
    "#hide\n",
    "def get_frame(name):\n",
    "    url = (\n",
    "        'https://raw.githubusercontent.com/CSSEGISandData/COVID-19/master/csse_covid_19_data/'\n",
    "        f'csse_covid_19_time_series/time_series_covid19_{name}_global.csv')\n",
    "    df = pd.read_csv(url)\n",
    "    # rename countries\n",
    "    df['Country/Region'] = df['Country/Region'].replace(mapping['replace.country'])\n",
    "    return df"
   ]
  },
  {
   "cell_type": "code",
   "execution_count": 8,
   "id": "affiliated-characterization",
   "metadata": {
    "execution": {
     "iopub.execute_input": "2021-07-28T12:10:43.101272Z",
     "iopub.status.busy": "2021-07-28T12:10:43.100737Z",
     "iopub.status.idle": "2021-07-28T12:10:43.102607Z",
     "shell.execute_reply": "2021-07-28T12:10:43.103078Z"
    },
    "papermill": {
     "duration": 0.038208,
     "end_time": "2021-07-28T12:10:43.103188",
     "exception": false,
     "start_time": "2021-07-28T12:10:43.064980",
     "status": "completed"
    },
    "tags": []
   },
   "outputs": [],
   "source": [
    "#hide\n",
    "def get_dates(df):\n",
    "    dt_cols = df.columns[~df.columns.isin(['Province/State', 'Country/Region', 'Lat', 'Long'])]\n",
    "    LAST_DATE_I = -1\n",
    "    # sometimes last column may be empty, then go backwards\n",
    "    for i in range(-1, -len(dt_cols), -1):\n",
    "        if not df[dt_cols[i]].fillna(0).eq(0).all():\n",
    "            LAST_DATE_I = i\n",
    "            break\n",
    "    return LAST_DATE_I, dt_cols"
   ]
  },
  {
   "cell_type": "code",
   "execution_count": 9,
   "id": "recent-optimization",
   "metadata": {
    "execution": {
     "iopub.execute_input": "2021-07-28T12:10:43.172075Z",
     "iopub.status.busy": "2021-07-28T12:10:43.171505Z",
     "iopub.status.idle": "2021-07-28T12:10:43.533452Z",
     "shell.execute_reply": "2021-07-28T12:10:43.532973Z"
    },
    "papermill": {
     "duration": 0.399284,
     "end_time": "2021-07-28T12:10:43.533571",
     "exception": false,
     "start_time": "2021-07-28T12:10:43.134287",
     "status": "completed"
    },
    "tags": []
   },
   "outputs": [],
   "source": [
    "#hide\n",
    "COL_REGION = 'Country/Region'\n",
    "# Confirmed, Recovered, Deaths\n",
    "df = get_frame('confirmed')\n",
    "# dft_: timeseries, dfc_: today country agg\n",
    "dft_cases = df\n",
    "dft_deaths = get_frame('deaths')\n",
    "dft_recovered = get_frame('recovered')\n",
    "LAST_DATE_I, dt_cols = get_dates(df)"
   ]
  },
  {
   "cell_type": "code",
   "execution_count": 10,
   "id": "absolute-copper",
   "metadata": {
    "execution": {
     "iopub.execute_input": "2021-07-28T12:10:43.602136Z",
     "iopub.status.busy": "2021-07-28T12:10:43.601529Z",
     "iopub.status.idle": "2021-07-28T12:10:43.603785Z",
     "shell.execute_reply": "2021-07-28T12:10:43.604182Z"
    },
    "papermill": {
     "duration": 0.038139,
     "end_time": "2021-07-28T12:10:43.604292",
     "exception": false,
     "start_time": "2021-07-28T12:10:43.566153",
     "status": "completed"
    },
    "tags": []
   },
   "outputs": [],
   "source": [
    "#hide\n",
    "LAST_DATE_I, dt_cols = get_dates(df)\n",
    "dt_today =dt_cols[LAST_DATE_I]\n",
    "# dt_5day = dt_cols[LAST_DATE_I - 5]\n",
    "dt_yday = dt_cols[LAST_DATE_I - 1]"
   ]
  },
  {
   "cell_type": "code",
   "execution_count": 11,
   "id": "restricted-sheriff",
   "metadata": {
    "execution": {
     "iopub.execute_input": "2021-07-28T12:10:43.677858Z",
     "iopub.status.busy": "2021-07-28T12:10:43.670801Z",
     "iopub.status.idle": "2021-07-28T12:10:43.680369Z",
     "shell.execute_reply": "2021-07-28T12:10:43.679937Z"
    },
    "papermill": {
     "duration": 0.045489,
     "end_time": "2021-07-28T12:10:43.680466",
     "exception": false,
     "start_time": "2021-07-28T12:10:43.634977",
     "status": "completed"
    },
    "tags": []
   },
   "outputs": [],
   "source": [
    "#hide\n",
    "dfc_cases = dft_cases.groupby(COL_REGION)[dt_today].sum()\n",
    "dfc_deaths = dft_deaths.groupby(COL_REGION)[dt_today].sum()\n",
    "# dfp_cases = dft_cases.groupby(COL_REGION)[dt_5day].sum()\n",
    "# dfp_deaths = dft_deaths.groupby(COL_REGION)[dt_5day].sum()\n",
    "dfp_cases = dft_cases.groupby(COL_REGION)[dt_yday].sum()\n",
    "dfp_deaths = dft_deaths.groupby(COL_REGION)[dt_yday].sum()"
   ]
  },
  {
   "cell_type": "code",
   "execution_count": 12,
   "id": "deluxe-hepatitis",
   "metadata": {
    "execution": {
     "iopub.execute_input": "2021-07-28T12:10:43.747631Z",
     "iopub.status.busy": "2021-07-28T12:10:43.746950Z",
     "iopub.status.idle": "2021-07-28T12:10:43.752225Z",
     "shell.execute_reply": "2021-07-28T12:10:43.751766Z"
    },
    "papermill": {
     "duration": 0.040801,
     "end_time": "2021-07-28T12:10:43.752412",
     "exception": false,
     "start_time": "2021-07-28T12:10:43.711611",
     "status": "completed"
    },
    "tags": []
   },
   "outputs": [],
   "source": [
    "#hide\n",
    "df_table = (pd.DataFrame(dict(Cases = dfc_cases, Deaths = dfc_deaths, PCases = dfp_cases, PDeaths = dfp_deaths))\n",
    "            .sort_values(by = ['Cases','Deaths'], ascending = [False, False])\n",
    "            .reset_index())"
   ]
  },
  {
   "cell_type": "code",
   "execution_count": 13,
   "id": "educational-chancellor",
   "metadata": {
    "execution": {
     "iopub.execute_input": "2021-07-28T12:10:43.829441Z",
     "iopub.status.busy": "2021-07-28T12:10:43.828884Z",
     "iopub.status.idle": "2021-07-28T12:10:43.841952Z",
     "shell.execute_reply": "2021-07-28T12:10:43.842492Z"
    },
    "papermill": {
     "duration": 0.059236,
     "end_time": "2021-07-28T12:10:43.842608",
     "exception": false,
     "start_time": "2021-07-28T12:10:43.783372",
     "status": "completed"
    },
    "tags": []
   },
   "outputs": [
    {
     "data": {
      "text/html": [
       "<div>\n",
       "<style scoped>\n",
       "    .dataframe tbody tr th:only-of-type {\n",
       "        vertical-align: middle;\n",
       "    }\n",
       "\n",
       "    .dataframe tbody tr th {\n",
       "        vertical-align: top;\n",
       "    }\n",
       "\n",
       "    .dataframe thead th {\n",
       "        text-align: right;\n",
       "    }\n",
       "</style>\n",
       "<table border=\"1\" class=\"dataframe\">\n",
       "  <thead>\n",
       "    <tr style=\"text-align: right;\">\n",
       "      <th></th>\n",
       "      <th>Country/Region</th>\n",
       "      <th>Cases</th>\n",
       "      <th>Deaths</th>\n",
       "      <th>PCases</th>\n",
       "      <th>PDeaths</th>\n",
       "      <th>Cases (+)</th>\n",
       "      <th>Deaths (+)</th>\n",
       "      <th>Fatality Rate</th>\n",
       "      <th>Continent</th>\n",
       "    </tr>\n",
       "  </thead>\n",
       "  <tbody>\n",
       "    <tr>\n",
       "      <th>0</th>\n",
       "      <td>US</td>\n",
       "      <td>34603919</td>\n",
       "      <td>611414</td>\n",
       "      <td>34533179</td>\n",
       "      <td>610952</td>\n",
       "      <td>70740</td>\n",
       "      <td>462</td>\n",
       "      <td>1.77</td>\n",
       "      <td>North America</td>\n",
       "    </tr>\n",
       "    <tr>\n",
       "      <th>1</th>\n",
       "      <td>India</td>\n",
       "      <td>31484605</td>\n",
       "      <td>422022</td>\n",
       "      <td>31440951</td>\n",
       "      <td>421382</td>\n",
       "      <td>43654</td>\n",
       "      <td>640</td>\n",
       "      <td>1.34</td>\n",
       "      <td>Asia</td>\n",
       "    </tr>\n",
       "    <tr>\n",
       "      <th>2</th>\n",
       "      <td>Brazil</td>\n",
       "      <td>19749073</td>\n",
       "      <td>551835</td>\n",
       "      <td>19707662</td>\n",
       "      <td>550502</td>\n",
       "      <td>41411</td>\n",
       "      <td>1333</td>\n",
       "      <td>2.79</td>\n",
       "      <td>South America</td>\n",
       "    </tr>\n",
       "    <tr>\n",
       "      <th>3</th>\n",
       "      <td>Russia</td>\n",
       "      <td>6094379</td>\n",
       "      <td>152836</td>\n",
       "      <td>6071893</td>\n",
       "      <td>152069</td>\n",
       "      <td>22486</td>\n",
       "      <td>767</td>\n",
       "      <td>2.51</td>\n",
       "      <td>Europe</td>\n",
       "    </tr>\n",
       "    <tr>\n",
       "      <th>4</th>\n",
       "      <td>France</td>\n",
       "      <td>6088930</td>\n",
       "      <td>111883</td>\n",
       "      <td>6061802</td>\n",
       "      <td>111851</td>\n",
       "      <td>27128</td>\n",
       "      <td>32</td>\n",
       "      <td>1.84</td>\n",
       "      <td>Europe</td>\n",
       "    </tr>\n",
       "  </tbody>\n",
       "</table>\n",
       "</div>"
      ],
      "text/plain": [
       "  Country/Region     Cases  Deaths    PCases  PDeaths  Cases (+)  Deaths (+)  \\\n",
       "0             US  34603919  611414  34533179   610952      70740         462   \n",
       "1          India  31484605  422022  31440951   421382      43654         640   \n",
       "2         Brazil  19749073  551835  19707662   550502      41411        1333   \n",
       "3         Russia   6094379  152836   6071893   152069      22486         767   \n",
       "4         France   6088930  111883   6061802   111851      27128          32   \n",
       "\n",
       "   Fatality Rate      Continent  \n",
       "0           1.77  North America  \n",
       "1           1.34           Asia  \n",
       "2           2.79  South America  \n",
       "3           2.51         Europe  \n",
       "4           1.84         Europe  "
      ]
     },
     "execution_count": 13,
     "metadata": {},
     "output_type": "execute_result"
    }
   ],
   "source": [
    "#hide\n",
    "for c in 'Cases, Deaths'.split(', '):\n",
    "    df_table[f'{c} (+)'] = (df_table[c] - df_table[f'P{c}']).clip(0)\n",
    "    #Clip ça veut dire, les chiffres negatif sont interdit\n",
    "df_table['Fatality Rate'] = (100* df_table['Deaths']/ df_table['Cases']).round(2)\n",
    "df_table['Continent'] = df_table['Country/Region'].map(mapping['map.continent'])\n",
    "df_table.head(5)"
   ]
  },
  {
   "cell_type": "code",
   "execution_count": 14,
   "id": "aboriginal-bulgaria",
   "metadata": {
    "execution": {
     "iopub.execute_input": "2021-07-28T12:10:43.911412Z",
     "iopub.status.busy": "2021-07-28T12:10:43.910881Z",
     "iopub.status.idle": "2021-07-28T12:10:43.913342Z",
     "shell.execute_reply": "2021-07-28T12:10:43.913781Z"
    },
    "papermill": {
     "duration": 0.03857,
     "end_time": "2021-07-28T12:10:43.913889",
     "exception": false,
     "start_time": "2021-07-28T12:10:43.875319",
     "status": "completed"
    },
    "tags": []
   },
   "outputs": [],
   "source": [
    "#hide\n",
    "#delete problematic countries from table\n",
    "df_table = df_table[~df_table['Country/Region'].isin(['Cape Verde', 'Cruise Ship', 'Kosovo'])]"
   ]
  },
  {
   "cell_type": "code",
   "execution_count": 15,
   "id": "fantastic-effect",
   "metadata": {
    "execution": {
     "iopub.execute_input": "2021-07-28T12:10:43.982767Z",
     "iopub.status.busy": "2021-07-28T12:10:43.982183Z",
     "iopub.status.idle": "2021-07-28T12:10:44.002309Z",
     "shell.execute_reply": "2021-07-28T12:10:44.001830Z"
    },
    "papermill": {
     "duration": 0.057604,
     "end_time": "2021-07-28T12:10:44.002407",
     "exception": false,
     "start_time": "2021-07-28T12:10:43.944803",
     "status": "completed"
    },
    "tags": []
   },
   "outputs": [
    {
     "data": {
      "text/html": [
       "<div>\n",
       "<style scoped>\n",
       "    .dataframe tbody tr th:only-of-type {\n",
       "        vertical-align: middle;\n",
       "    }\n",
       "\n",
       "    .dataframe tbody tr th {\n",
       "        vertical-align: top;\n",
       "    }\n",
       "\n",
       "    .dataframe thead th {\n",
       "        text-align: right;\n",
       "    }\n",
       "</style>\n",
       "<table border=\"1\" class=\"dataframe\">\n",
       "  <thead>\n",
       "    <tr style=\"text-align: right;\">\n",
       "      <th></th>\n",
       "      <th>Country/Region</th>\n",
       "      <th>Cases</th>\n",
       "      <th>Deaths</th>\n",
       "      <th>PCases</th>\n",
       "      <th>PDeaths</th>\n",
       "      <th>Cases (+)</th>\n",
       "      <th>Deaths (+)</th>\n",
       "      <th>Fatality Rate</th>\n",
       "      <th>Continent</th>\n",
       "    </tr>\n",
       "  </thead>\n",
       "  <tbody>\n",
       "    <tr>\n",
       "      <th>0</th>\n",
       "      <td>US</td>\n",
       "      <td>34603919</td>\n",
       "      <td>611414</td>\n",
       "      <td>34533179</td>\n",
       "      <td>610952</td>\n",
       "      <td>70740</td>\n",
       "      <td>462</td>\n",
       "      <td>1.8</td>\n",
       "      <td>North America</td>\n",
       "    </tr>\n",
       "    <tr>\n",
       "      <th>1</th>\n",
       "      <td>India</td>\n",
       "      <td>31484605</td>\n",
       "      <td>422022</td>\n",
       "      <td>31440951</td>\n",
       "      <td>421382</td>\n",
       "      <td>43654</td>\n",
       "      <td>640</td>\n",
       "      <td>1.3</td>\n",
       "      <td>Asia</td>\n",
       "    </tr>\n",
       "    <tr>\n",
       "      <th>2</th>\n",
       "      <td>Brazil</td>\n",
       "      <td>19749073</td>\n",
       "      <td>551835</td>\n",
       "      <td>19707662</td>\n",
       "      <td>550502</td>\n",
       "      <td>41411</td>\n",
       "      <td>1333</td>\n",
       "      <td>2.8</td>\n",
       "      <td>South America</td>\n",
       "    </tr>\n",
       "    <tr>\n",
       "      <th>3</th>\n",
       "      <td>Russia</td>\n",
       "      <td>6094379</td>\n",
       "      <td>152836</td>\n",
       "      <td>6071893</td>\n",
       "      <td>152069</td>\n",
       "      <td>22486</td>\n",
       "      <td>767</td>\n",
       "      <td>2.5</td>\n",
       "      <td>Europe</td>\n",
       "    </tr>\n",
       "    <tr>\n",
       "      <th>4</th>\n",
       "      <td>France</td>\n",
       "      <td>6088930</td>\n",
       "      <td>111883</td>\n",
       "      <td>6061802</td>\n",
       "      <td>111851</td>\n",
       "      <td>27128</td>\n",
       "      <td>32</td>\n",
       "      <td>1.8</td>\n",
       "      <td>Europe</td>\n",
       "    </tr>\n",
       "  </tbody>\n",
       "</table>\n",
       "</div>"
      ],
      "text/plain": [
       "  Country/Region     Cases  Deaths    PCases  PDeaths  Cases (+)  Deaths (+)  \\\n",
       "0             US  34603919  611414  34533179   610952      70740         462   \n",
       "1          India  31484605  422022  31440951   421382      43654         640   \n",
       "2         Brazil  19749073  551835  19707662   550502      41411        1333   \n",
       "3         Russia   6094379  152836   6071893   152069      22486         767   \n",
       "4         France   6088930  111883   6061802   111851      27128          32   \n",
       "\n",
       "   Fatality Rate      Continent  \n",
       "0            1.8  North America  \n",
       "1            1.3           Asia  \n",
       "2            2.8  South America  \n",
       "3            2.5         Europe  \n",
       "4            1.8         Europe  "
      ]
     },
     "execution_count": 15,
     "metadata": {},
     "output_type": "execute_result"
    }
   ],
   "source": [
    "#hide\n",
    "df_table = (pd.DataFrame(dict(Cases=dfc_cases, Deaths=dfc_deaths, PCases=dfp_cases, PDeaths=dfp_deaths))\n",
    "             .sort_values(by=['Cases', 'Deaths'], ascending=[False, False])\n",
    "             .reset_index())\n",
    "df_table.rename(columns={'index': 'Country/Region'}, inplace=True)\n",
    "for c in 'Cases, Deaths'.split(', '):\n",
    "    df_table[f'{c} (+)'] = (df_table[c] - df_table[f'P{c}']).clip(0)  # DATA BUG\n",
    "df_table['Fatality Rate'] = (100 * df_table['Deaths'] / df_table['Cases']).round(1)\n",
    "df_table['Continent'] = df_table['Country/Region'].map(mapping['map.continent'])\n",
    "df_table.head(5)"
   ]
  },
  {
   "cell_type": "code",
   "execution_count": 16,
   "id": "fewer-occasion",
   "metadata": {
    "execution": {
     "iopub.execute_input": "2021-07-28T12:10:44.072613Z",
     "iopub.status.busy": "2021-07-28T12:10:44.072052Z",
     "iopub.status.idle": "2021-07-28T12:10:44.074700Z",
     "shell.execute_reply": "2021-07-28T12:10:44.074241Z"
    },
    "papermill": {
     "duration": 0.039199,
     "end_time": "2021-07-28T12:10:44.074850",
     "exception": false,
     "start_time": "2021-07-28T12:10:44.035651",
     "status": "completed"
    },
    "tags": []
   },
   "outputs": [],
   "source": [
    "#hide\n",
    "#delete problematic countries from table\n",
    "df_table = df_table[~df_table['Country/Region'].isin(['Cape Verde', 'Cruise Ship', 'Kosovo'])]"
   ]
  },
  {
   "cell_type": "code",
   "execution_count": 17,
   "id": "related-center",
   "metadata": {
    "execution": {
     "iopub.execute_input": "2021-07-28T12:10:44.146479Z",
     "iopub.status.busy": "2021-07-28T12:10:44.145730Z",
     "iopub.status.idle": "2021-07-28T12:10:44.160711Z",
     "shell.execute_reply": "2021-07-28T12:10:44.161159Z"
    },
    "papermill": {
     "duration": 0.052749,
     "end_time": "2021-07-28T12:10:44.161270",
     "exception": false,
     "start_time": "2021-07-28T12:10:44.108521",
     "status": "completed"
    },
    "tags": []
   },
   "outputs": [],
   "source": [
    "#hide\n",
    "metrics = [df_table.columns[index] for index in [1,2,5,6]]\n",
    "# s_china = df_table[df_table['Country/Region'].eq('China')][metrics].sum().add_prefix('China ')\n",
    "s_us = df_table[df_table['Country/Region'].eq('US')][metrics].sum().add_prefix('US ')\n",
    "s_eu = df_table[df_table['Continent'].eq('Europe')][metrics].sum().add_prefix('EU ')\n",
    "s_ind = df_table[df_table['Country/Region'].eq('India')][metrics].sum().add_prefix('India ')\n",
    "summary = {'updated': pd.to_datetime(dt_today), 'since': pd.to_datetime(dt_yday)}\n",
    "summary = {'updated': pd.to_datetime(dt_today), 'since': pd.to_datetime(dt_yday)}\n",
    "summary = {**summary, **df_table[metrics].sum(), **s_ind, **s_us, **s_eu}"
   ]
  },
  {
   "cell_type": "code",
   "execution_count": 18,
   "id": "engaging-syndrome",
   "metadata": {
    "execution": {
     "iopub.execute_input": "2021-07-28T12:10:44.229925Z",
     "iopub.status.busy": "2021-07-28T12:10:44.229415Z",
     "iopub.status.idle": "2021-07-28T12:10:44.241023Z",
     "shell.execute_reply": "2021-07-28T12:10:44.240612Z"
    },
    "papermill": {
     "duration": 0.047073,
     "end_time": "2021-07-28T12:10:44.241149",
     "exception": false,
     "start_time": "2021-07-28T12:10:44.194076",
     "status": "completed"
    },
    "tags": []
   },
   "outputs": [],
   "source": [
    "#hide\n",
    "dft_ct_new_cases = dft_cases.groupby(COL_REGION)[dt_cols].sum().diff(axis=1).fillna(0).astype(int)"
   ]
  },
  {
   "cell_type": "code",
   "execution_count": 19,
   "id": "neutral-assignment",
   "metadata": {
    "execution": {
     "iopub.execute_input": "2021-07-28T12:10:44.312923Z",
     "iopub.status.busy": "2021-07-28T12:10:44.312341Z",
     "iopub.status.idle": "2021-07-28T12:10:44.314654Z",
     "shell.execute_reply": "2021-07-28T12:10:44.314190Z"
    },
    "papermill": {
     "duration": 0.039837,
     "end_time": "2021-07-28T12:10:44.314771",
     "exception": false,
     "start_time": "2021-07-28T12:10:44.274934",
     "status": "completed"
    },
    "tags": []
   },
   "outputs": [],
   "source": [
    "#hide\n",
    "everydaycases = dft_ct_new_cases.cumsum(axis=1)"
   ]
  },
  {
   "cell_type": "code",
   "execution_count": 20,
   "id": "parliamentary-calgary",
   "metadata": {
    "execution": {
     "iopub.execute_input": "2021-07-28T12:10:44.384687Z",
     "iopub.status.busy": "2021-07-28T12:10:44.384175Z",
     "iopub.status.idle": "2021-07-28T12:10:45.036777Z",
     "shell.execute_reply": "2021-07-28T12:10:45.036205Z"
    },
    "papermill": {
     "duration": 0.688292,
     "end_time": "2021-07-28T12:10:45.036897",
     "exception": false,
     "start_time": "2021-07-28T12:10:44.348605",
     "status": "completed"
    },
    "tags": []
   },
   "outputs": [],
   "source": [
    "#hide\n",
    "import pandas as pd\n",
    "import matplotlib.pyplot as plt\n",
    "import matplotlib.ticker as ticker\n",
    "import matplotlib.animation as animation\n",
    "from IPython.display import HTML"
   ]
  },
  {
   "cell_type": "code",
   "execution_count": 21,
   "id": "lasting-extraction",
   "metadata": {
    "execution": {
     "iopub.execute_input": "2021-07-28T12:10:45.109731Z",
     "iopub.status.busy": "2021-07-28T12:10:45.109177Z",
     "iopub.status.idle": "2021-07-28T12:10:45.115861Z",
     "shell.execute_reply": "2021-07-28T12:10:45.115427Z"
    },
    "papermill": {
     "duration": 0.043416,
     "end_time": "2021-07-28T12:10:45.115965",
     "exception": false,
     "start_time": "2021-07-28T12:10:45.072549",
     "status": "completed"
    },
    "tags": []
   },
   "outputs": [],
   "source": [
    "#hide\n",
    "t = everydaycases.stack()"
   ]
  },
  {
   "cell_type": "code",
   "execution_count": 22,
   "id": "premier-sleeve",
   "metadata": {
    "execution": {
     "iopub.execute_input": "2021-07-28T12:10:45.184014Z",
     "iopub.status.busy": "2021-07-28T12:10:45.183455Z",
     "iopub.status.idle": "2021-07-28T12:10:45.190518Z",
     "shell.execute_reply": "2021-07-28T12:10:45.190057Z"
    },
    "papermill": {
     "duration": 0.042818,
     "end_time": "2021-07-28T12:10:45.190616",
     "exception": false,
     "start_time": "2021-07-28T12:10:45.147798",
     "status": "completed"
    },
    "tags": []
   },
   "outputs": [],
   "source": [
    "#hide\n",
    "g = t.reset_index(['Country/Region'])"
   ]
  },
  {
   "cell_type": "code",
   "execution_count": 23,
   "id": "distributed-pittsburgh",
   "metadata": {
    "execution": {
     "iopub.execute_input": "2021-07-28T12:10:45.256868Z",
     "iopub.status.busy": "2021-07-28T12:10:45.256330Z",
     "iopub.status.idle": "2021-07-28T12:10:45.258660Z",
     "shell.execute_reply": "2021-07-28T12:10:45.258204Z"
    },
    "papermill": {
     "duration": 0.037825,
     "end_time": "2021-07-28T12:10:45.258756",
     "exception": false,
     "start_time": "2021-07-28T12:10:45.220931",
     "status": "completed"
    },
    "tags": []
   },
   "outputs": [],
   "source": [
    "#hide\n",
    "g.index.name = 'date'"
   ]
  },
  {
   "cell_type": "code",
   "execution_count": 24,
   "id": "naked-donor",
   "metadata": {
    "execution": {
     "iopub.execute_input": "2021-07-28T12:10:45.325842Z",
     "iopub.status.busy": "2021-07-28T12:10:45.325288Z",
     "iopub.status.idle": "2021-07-28T12:10:45.327753Z",
     "shell.execute_reply": "2021-07-28T12:10:45.327305Z"
    },
    "papermill": {
     "duration": 0.036576,
     "end_time": "2021-07-28T12:10:45.327849",
     "exception": false,
     "start_time": "2021-07-28T12:10:45.291273",
     "status": "completed"
    },
    "tags": []
   },
   "outputs": [],
   "source": [
    "# #hide\n",
    "# g = g.reset_index(['date'])"
   ]
  },
  {
   "cell_type": "code",
   "execution_count": 25,
   "id": "incomplete-mustang",
   "metadata": {
    "execution": {
     "iopub.execute_input": "2021-07-28T12:10:45.395310Z",
     "iopub.status.busy": "2021-07-28T12:10:45.394804Z",
     "iopub.status.idle": "2021-07-28T12:10:45.396598Z",
     "shell.execute_reply": "2021-07-28T12:10:45.397059Z"
    },
    "papermill": {
     "duration": 0.037039,
     "end_time": "2021-07-28T12:10:45.397166",
     "exception": false,
     "start_time": "2021-07-28T12:10:45.360127",
     "status": "completed"
    },
    "tags": []
   },
   "outputs": [],
   "source": [
    "#hide\n",
    "# g.head()"
   ]
  },
  {
   "cell_type": "code",
   "execution_count": 26,
   "id": "specific-kruger",
   "metadata": {
    "execution": {
     "iopub.execute_input": "2021-07-28T12:10:45.463391Z",
     "iopub.status.busy": "2021-07-28T12:10:45.462884Z",
     "iopub.status.idle": "2021-07-28T12:10:45.465265Z",
     "shell.execute_reply": "2021-07-28T12:10:45.464591Z"
    },
    "papermill": {
     "duration": 0.036608,
     "end_time": "2021-07-28T12:10:45.465365",
     "exception": false,
     "start_time": "2021-07-28T12:10:45.428757",
     "status": "completed"
    },
    "tags": []
   },
   "outputs": [],
   "source": [
    "#hide\n",
    "# g.columns = ['date','country','cases']"
   ]
  },
  {
   "cell_type": "code",
   "execution_count": 27,
   "id": "tender-conversion",
   "metadata": {
    "execution": {
     "iopub.execute_input": "2021-07-28T12:10:45.541281Z",
     "iopub.status.busy": "2021-07-28T12:10:45.540729Z",
     "iopub.status.idle": "2021-07-28T12:10:45.543811Z",
     "shell.execute_reply": "2021-07-28T12:10:45.544246Z"
    },
    "papermill": {
     "duration": 0.047735,
     "end_time": "2021-07-28T12:10:45.544362",
     "exception": false,
     "start_time": "2021-07-28T12:10:45.496627",
     "status": "completed"
    },
    "tags": []
   },
   "outputs": [],
   "source": [
    "#hide\n",
    "# g['continent'] = g.country"
   ]
  },
  {
   "cell_type": "code",
   "execution_count": 28,
   "id": "substantial-wilderness",
   "metadata": {
    "execution": {
     "iopub.execute_input": "2021-07-28T12:10:45.693855Z",
     "iopub.status.busy": "2021-07-28T12:10:45.693316Z",
     "iopub.status.idle": "2021-07-28T12:10:45.698791Z",
     "shell.execute_reply": "2021-07-28T12:10:45.698242Z"
    },
    "papermill": {
     "duration": 0.10973,
     "end_time": "2021-07-28T12:10:45.698910",
     "exception": false,
     "start_time": "2021-07-28T12:10:45.589180",
     "status": "completed"
    },
    "tags": []
   },
   "outputs": [],
   "source": [
    "#hide\n",
    "# cols = list(g.columns.values)"
   ]
  },
  {
   "cell_type": "code",
   "execution_count": 29,
   "id": "solved-farming",
   "metadata": {
    "execution": {
     "iopub.execute_input": "2021-07-28T12:10:45.795797Z",
     "iopub.status.busy": "2021-07-28T12:10:45.794704Z",
     "iopub.status.idle": "2021-07-28T12:10:45.797797Z",
     "shell.execute_reply": "2021-07-28T12:10:45.797318Z"
    },
    "papermill": {
     "duration": 0.048986,
     "end_time": "2021-07-28T12:10:45.797910",
     "exception": false,
     "start_time": "2021-07-28T12:10:45.748924",
     "status": "completed"
    },
    "tags": []
   },
   "outputs": [],
   "source": [
    "#hide\n",
    "# cols.insert(0, cols.pop())"
   ]
  },
  {
   "cell_type": "code",
   "execution_count": 30,
   "id": "executed-adoption",
   "metadata": {
    "execution": {
     "iopub.execute_input": "2021-07-28T12:10:45.963496Z",
     "iopub.status.busy": "2021-07-28T12:10:45.962232Z",
     "iopub.status.idle": "2021-07-28T12:10:45.965335Z",
     "shell.execute_reply": "2021-07-28T12:10:45.966309Z"
    },
    "papermill": {
     "duration": 0.068172,
     "end_time": "2021-07-28T12:10:45.966510",
     "exception": false,
     "start_time": "2021-07-28T12:10:45.898338",
     "status": "completed"
    },
    "tags": []
   },
   "outputs": [],
   "source": [
    "#hide\n",
    "# g = g[cols]"
   ]
  },
  {
   "cell_type": "code",
   "execution_count": 31,
   "id": "subject-dublin",
   "metadata": {
    "execution": {
     "iopub.execute_input": "2021-07-28T12:10:46.097313Z",
     "iopub.status.busy": "2021-07-28T12:10:46.095892Z",
     "iopub.status.idle": "2021-07-28T12:10:46.099958Z",
     "shell.execute_reply": "2021-07-28T12:10:46.100732Z"
    },
    "papermill": {
     "duration": 0.06839,
     "end_time": "2021-07-28T12:10:46.100868",
     "exception": false,
     "start_time": "2021-07-28T12:10:46.032478",
     "status": "completed"
    },
    "tags": []
   },
   "outputs": [],
   "source": [
    "#hide\n",
    "# g['continent'] = g['continent'].map(mapping['map.continent'])"
   ]
  },
  {
   "cell_type": "code",
   "execution_count": 32,
   "id": "freelance-scout",
   "metadata": {
    "execution": {
     "iopub.execute_input": "2021-07-28T12:10:46.178379Z",
     "iopub.status.busy": "2021-07-28T12:10:46.177785Z",
     "iopub.status.idle": "2021-07-28T12:10:46.179772Z",
     "shell.execute_reply": "2021-07-28T12:10:46.180348Z"
    },
    "papermill": {
     "duration": 0.043196,
     "end_time": "2021-07-28T12:10:46.180485",
     "exception": false,
     "start_time": "2021-07-28T12:10:46.137289",
     "status": "completed"
    },
    "tags": []
   },
   "outputs": [],
   "source": [
    "#hide\n",
    "# g.head()"
   ]
  },
  {
   "cell_type": "code",
   "execution_count": 33,
   "id": "limited-engine",
   "metadata": {
    "execution": {
     "iopub.execute_input": "2021-07-28T12:10:46.250305Z",
     "iopub.status.busy": "2021-07-28T12:10:46.249770Z",
     "iopub.status.idle": "2021-07-28T12:10:46.252024Z",
     "shell.execute_reply": "2021-07-28T12:10:46.251536Z"
    },
    "papermill": {
     "duration": 0.038475,
     "end_time": "2021-07-28T12:10:46.252121",
     "exception": false,
     "start_time": "2021-07-28T12:10:46.213646",
     "status": "completed"
    },
    "tags": []
   },
   "outputs": [],
   "source": [
    "# hide\n",
    "# g['date'] = g['date'].astype('datetime64[ns]')"
   ]
  },
  {
   "cell_type": "code",
   "execution_count": 34,
   "id": "sophisticated-supervisor",
   "metadata": {
    "execution": {
     "iopub.execute_input": "2021-07-28T12:10:46.321623Z",
     "iopub.status.busy": "2021-07-28T12:10:46.321025Z",
     "iopub.status.idle": "2021-07-28T12:10:46.323415Z",
     "shell.execute_reply": "2021-07-28T12:10:46.322948Z"
    },
    "papermill": {
     "duration": 0.037147,
     "end_time": "2021-07-28T12:10:46.323533",
     "exception": false,
     "start_time": "2021-07-28T12:10:46.286386",
     "status": "completed"
    },
    "tags": []
   },
   "outputs": [],
   "source": [
    "#hide\n",
    "# g['date'] = g.date.dt.dayofyear"
   ]
  },
  {
   "cell_type": "code",
   "execution_count": 35,
   "id": "inside-dubai",
   "metadata": {
    "execution": {
     "iopub.execute_input": "2021-07-28T12:10:46.391106Z",
     "iopub.status.busy": "2021-07-28T12:10:46.390593Z",
     "iopub.status.idle": "2021-07-28T12:10:46.392837Z",
     "shell.execute_reply": "2021-07-28T12:10:46.392424Z"
    },
    "papermill": {
     "duration": 0.037127,
     "end_time": "2021-07-28T12:10:46.392936",
     "exception": false,
     "start_time": "2021-07-28T12:10:46.355809",
     "status": "completed"
    },
    "tags": []
   },
   "outputs": [],
   "source": [
    "#hide\n",
    "# g = g.rename(columns= {'continent':'group','country':'name','cases':'value'})"
   ]
  },
  {
   "cell_type": "code",
   "execution_count": 36,
   "id": "fleet-motorcycle",
   "metadata": {
    "execution": {
     "iopub.execute_input": "2021-07-28T12:10:46.460572Z",
     "iopub.status.busy": "2021-07-28T12:10:46.459998Z",
     "iopub.status.idle": "2021-07-28T12:10:46.462544Z",
     "shell.execute_reply": "2021-07-28T12:10:46.462052Z"
    },
    "papermill": {
     "duration": 0.038386,
     "end_time": "2021-07-28T12:10:46.462661",
     "exception": false,
     "start_time": "2021-07-28T12:10:46.424275",
     "status": "completed"
    },
    "tags": []
   },
   "outputs": [],
   "source": [
    "#hide\n",
    "# cols = ['name','group','day','value']"
   ]
  },
  {
   "cell_type": "code",
   "execution_count": 37,
   "id": "continued-sleeping",
   "metadata": {
    "execution": {
     "iopub.execute_input": "2021-07-28T12:10:46.529598Z",
     "iopub.status.busy": "2021-07-28T12:10:46.529061Z",
     "iopub.status.idle": "2021-07-28T12:10:46.531089Z",
     "shell.execute_reply": "2021-07-28T12:10:46.531623Z"
    },
    "papermill": {
     "duration": 0.036936,
     "end_time": "2021-07-28T12:10:46.531733",
     "exception": false,
     "start_time": "2021-07-28T12:10:46.494797",
     "status": "completed"
    },
    "tags": []
   },
   "outputs": [],
   "source": [
    "#hide\n",
    "# g.rename(columns= {'date':'day'},inplace = True)"
   ]
  },
  {
   "cell_type": "code",
   "execution_count": 38,
   "id": "major-fight",
   "metadata": {
    "execution": {
     "iopub.execute_input": "2021-07-28T12:10:46.600106Z",
     "iopub.status.busy": "2021-07-28T12:10:46.599483Z",
     "iopub.status.idle": "2021-07-28T12:10:46.601327Z",
     "shell.execute_reply": "2021-07-28T12:10:46.601722Z"
    },
    "papermill": {
     "duration": 0.036933,
     "end_time": "2021-07-28T12:10:46.601841",
     "exception": false,
     "start_time": "2021-07-28T12:10:46.564908",
     "status": "completed"
    },
    "tags": []
   },
   "outputs": [],
   "source": [
    "#hide\n",
    "# g = g[cols]"
   ]
  },
  {
   "cell_type": "code",
   "execution_count": 39,
   "id": "structured-mobile",
   "metadata": {
    "execution": {
     "iopub.execute_input": "2021-07-28T12:10:46.670938Z",
     "iopub.status.busy": "2021-07-28T12:10:46.670346Z",
     "iopub.status.idle": "2021-07-28T12:10:46.672676Z",
     "shell.execute_reply": "2021-07-28T12:10:46.672232Z"
    },
    "papermill": {
     "duration": 0.03859,
     "end_time": "2021-07-28T12:10:46.672774",
     "exception": false,
     "start_time": "2021-07-28T12:10:46.634184",
     "status": "completed"
    },
    "tags": []
   },
   "outputs": [],
   "source": [
    "# #hide\n",
    "# g = g[g.group.notna()]"
   ]
  },
  {
   "cell_type": "code",
   "execution_count": 40,
   "id": "determined-closing",
   "metadata": {
    "execution": {
     "iopub.execute_input": "2021-07-28T12:10:46.741087Z",
     "iopub.status.busy": "2021-07-28T12:10:46.740529Z",
     "iopub.status.idle": "2021-07-28T12:10:46.742640Z",
     "shell.execute_reply": "2021-07-28T12:10:46.743062Z"
    },
    "papermill": {
     "duration": 0.038529,
     "end_time": "2021-07-28T12:10:46.743178",
     "exception": false,
     "start_time": "2021-07-28T12:10:46.704649",
     "status": "completed"
    },
    "tags": []
   },
   "outputs": [],
   "source": [
    "# #hide\n",
    "# colors = dict(zip(\n",
    "#     [\"Oceania\", \"Europe\", \"Asia\", \"South America\", \"Middle East\", \"North America\", \"Africa\"],\n",
    "#     [\"#adb0ff\", \"#ffb3ff\", \"#90d595\", \"#e48381\", \"#aafbff\", \"#f7bb5f\", \"#eafb50\"]\n",
    "# ))\n",
    "# group_lk = g.set_index('name')['group'].to_dict()"
   ]
  },
  {
   "cell_type": "code",
   "execution_count": null,
   "id": "gross-drinking",
   "metadata": {
    "papermill": {
     "duration": 0.032233,
     "end_time": "2021-07-28T12:10:46.808546",
     "exception": false,
     "start_time": "2021-07-28T12:10:46.776313",
     "status": "completed"
    },
    "tags": []
   },
   "outputs": [],
   "source": []
  },
  {
   "cell_type": "code",
   "execution_count": 41,
   "id": "subject-macintosh",
   "metadata": {
    "execution": {
     "iopub.execute_input": "2021-07-28T12:10:46.879753Z",
     "iopub.status.busy": "2021-07-28T12:10:46.879145Z",
     "iopub.status.idle": "2021-07-28T12:10:46.881184Z",
     "shell.execute_reply": "2021-07-28T12:10:46.881860Z"
    },
    "papermill": {
     "duration": 0.042043,
     "end_time": "2021-07-28T12:10:46.881977",
     "exception": false,
     "start_time": "2021-07-28T12:10:46.839934",
     "status": "completed"
    },
    "tags": []
   },
   "outputs": [],
   "source": [
    "# #hide\n",
    "# fig, ax = plt.subplots(figsize=(15, 8))\n",
    "\n",
    "# def draw_barchart(current_day):\n",
    "#     dff = g[g['day'].eq(current_day)].sort_values(by='value', ascending=True).tail(10)\n",
    "#     ax.clear()\n",
    "#     ax.barh(dff['name'], dff['value'], color=[colors[group_lk[x]] for x in dff['name']])\n",
    "#     dx = dff['value'].max() / 200\n",
    "    \n",
    "#     for i, (value, name) in enumerate(zip(dff['value'], dff['name'])):\n",
    "#         ax.text(value-dx, i,     name,           size=14, weight=600, ha='right', va='bottom')\n",
    "#         ax.text(value-dx, i-.25, group_lk[name], size=10, color='#444444', ha='right', va='baseline')\n",
    "#         ax.text(value+dx, i,     f'{value:,.0f}',  size=14, ha='left',  va='center')\n",
    "#     ax.text(1, 0.4, current_day, transform=ax.transAxes, color='#777777', size=46, ha='right', weight=800)\n",
    "#     ax.text(0, 1.06, 'Population (thousands)', transform=ax.transAxes, size=12, color='#777777')\n",
    "#     ax.xaxis.set_major_formatter(ticker.StrMethodFormatter('{x:,.0f}'))\n",
    "#     ax.xaxis.set_ticks_position('top')\n",
    "#     ax.tick_params(axis='x', colors='#777777', labelsize=12)\n",
    "#     ax.set_yticks([])\n",
    "#     ax.margins(0, 0.01)\n",
    "#     ax.grid(which='major', axis='x', linestyle='-')\n",
    "#     ax.set_axisbelow(True)\n",
    "    \n",
    "#     ax.text(0, 1.15, 'Coronavirus',\n",
    "#             transform=ax.transAxes, size=24, weight=600, ha='left', va='top')\n",
    "# #     ax.text(1, 0, 'by @pratapvardhan; credit @jburnmurdoch', transform=ax.transAxes, color='#777777', ha='right',\n",
    "# #             bbox=dict(facecolor='white', alpha=0.8, edgecolor='white'))\n",
    "#     plt.box(False)"
   ]
  },
  {
   "cell_type": "code",
   "execution_count": 42,
   "id": "sexual-wages",
   "metadata": {
    "execution": {
     "iopub.execute_input": "2021-07-28T12:10:46.954849Z",
     "iopub.status.busy": "2021-07-28T12:10:46.954200Z",
     "iopub.status.idle": "2021-07-28T12:10:46.956247Z",
     "shell.execute_reply": "2021-07-28T12:10:46.956945Z"
    },
    "papermill": {
     "duration": 0.041914,
     "end_time": "2021-07-28T12:10:46.957065",
     "exception": false,
     "start_time": "2021-07-28T12:10:46.915151",
     "status": "completed"
    },
    "tags": []
   },
   "outputs": [],
   "source": [
    "# #hide_input\n",
    "# fig, ax = plt.subplots(figsize=(15, 8))\n",
    "# animator = animation.FuncAnimation(fig, draw_barchart, frames=range(g.day.values.min(), g.day.values.max()))\n",
    "# HTML(animator.to_jshtml())\n",
    "# # or use animator.to_html5_video() or animator.save() "
   ]
  },
  {
   "cell_type": "code",
   "execution_count": null,
   "id": "australian-container",
   "metadata": {
    "papermill": {
     "duration": 0.03162,
     "end_time": "2021-07-28T12:10:47.021883",
     "exception": false,
     "start_time": "2021-07-28T12:10:46.990263",
     "status": "completed"
    },
    "tags": []
   },
   "outputs": [],
   "source": []
  },
  {
   "cell_type": "code",
   "execution_count": null,
   "id": "mediterranean-pontiac",
   "metadata": {
    "papermill": {
     "duration": 0.032178,
     "end_time": "2021-07-28T12:10:47.085392",
     "exception": false,
     "start_time": "2021-07-28T12:10:47.053214",
     "status": "completed"
    },
    "tags": []
   },
   "outputs": [],
   "source": []
  },
  {
   "cell_type": "code",
   "execution_count": null,
   "id": "aging-legislature",
   "metadata": {
    "papermill": {
     "duration": 0.031503,
     "end_time": "2021-07-28T12:10:47.148678",
     "exception": false,
     "start_time": "2021-07-28T12:10:47.117175",
     "status": "completed"
    },
    "tags": []
   },
   "outputs": [],
   "source": []
  }
 ],
 "metadata": {
  "kernelspec": {
   "display_name": "Python 3",
   "language": "python",
   "name": "python3"
  },
  "language_info": {
   "codemirror_mode": {
    "name": "ipython",
    "version": 3
   },
   "file_extension": ".py",
   "mimetype": "text/x-python",
   "name": "python",
   "nbconvert_exporter": "python",
   "pygments_lexer": "ipython3",
   "version": "3.6.14"
  },
  "papermill": {
   "duration": 6.552175,
   "end_time": "2021-07-28T12:10:47.487109",
   "environment_variables": {},
   "exception": null,
   "input_path": "2020-03-21-covid19exp.ipynb",
   "output_path": "2020-03-21-covid19exp.ipynb",
   "parameters": {},
   "start_time": "2021-07-28T12:10:40.934934",
   "version": "2.0.0"
  }
 },
 "nbformat": 4,
 "nbformat_minor": 5
}