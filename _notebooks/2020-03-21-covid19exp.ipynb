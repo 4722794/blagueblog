{
 "cells": [
  {
   "cell_type": "markdown",
   "id": "muslim-click",
   "metadata": {
    "papermill": {
     "duration": 0.039111,
     "end_time": "2021-10-18T12:12:27.321107",
     "exception": false,
     "start_time": "2021-10-18T12:12:27.281996",
     "status": "completed"
    },
    "tags": []
   },
   "source": [
    "# COVID-19 Case Race\n",
    "> A race chart to see rising cases around the world\n",
    "\n",
    "- author: Hargun Oberoi\n",
    "- image: images/covid-overview.png\n",
    "- hide: false\n",
    "- badges: false"
   ]
  },
  {
   "cell_type": "code",
   "execution_count": 1,
   "id": "proof-material",
   "metadata": {
    "execution": {
     "iopub.execute_input": "2021-10-18T12:12:27.398646Z",
     "iopub.status.busy": "2021-10-18T12:12:27.398053Z",
     "iopub.status.idle": "2021-10-18T12:12:27.743138Z",
     "shell.execute_reply": "2021-10-18T12:12:27.742614Z"
    },
    "papermill": {
     "duration": 0.387302,
     "end_time": "2021-10-18T12:12:27.743302",
     "exception": false,
     "start_time": "2021-10-18T12:12:27.356000",
     "status": "completed"
    },
    "tags": []
   },
   "outputs": [],
   "source": [
    "#hide\n",
    "import numpy as np\n",
    "import pandas as pd\n",
    "from jinja2 import Template\n",
    "from IPython.display import HTML"
   ]
  },
  {
   "cell_type": "code",
   "execution_count": 2,
   "id": "developed-terminology",
   "metadata": {
    "execution": {
     "iopub.execute_input": "2021-10-18T12:12:27.813057Z",
     "iopub.status.busy": "2021-10-18T12:12:27.812517Z",
     "iopub.status.idle": "2021-10-18T12:12:27.814843Z",
     "shell.execute_reply": "2021-10-18T12:12:27.814348Z"
    },
    "papermill": {
     "duration": 0.039432,
     "end_time": "2021-10-18T12:12:27.814943",
     "exception": false,
     "start_time": "2021-10-18T12:12:27.775511",
     "status": "completed"
    },
    "tags": []
   },
   "outputs": [],
   "source": [
    "#hide\n",
    "\n",
    "# FETCH\n",
    "base_url = 'https://raw.githubusercontent.com/pratapvardhan/notebooks/master/covid19/'\n",
    "paths = {\n",
    "    'mapping': base_url + 'mapping_countries.csv',\n",
    "    'overview': base_url + 'overview.tpl'\n",
    "}"
   ]
  },
  {
   "cell_type": "code",
   "execution_count": 3,
   "id": "dynamic-saver",
   "metadata": {
    "execution": {
     "iopub.execute_input": "2021-10-18T12:12:27.885776Z",
     "iopub.status.busy": "2021-10-18T12:12:27.884073Z",
     "iopub.status.idle": "2021-10-18T12:12:27.889219Z",
     "shell.execute_reply": "2021-10-18T12:12:27.888772Z"
    },
    "papermill": {
     "duration": 0.043826,
     "end_time": "2021-10-18T12:12:27.889323",
     "exception": false,
     "start_time": "2021-10-18T12:12:27.845497",
     "status": "completed"
    },
    "tags": []
   },
   "outputs": [
    {
     "data": {
      "text/plain": [
       "'https://raw.githubusercontent.com/pratapvardhan/notebooks/master/covid19/mapping_countries.csv'"
      ]
     },
     "execution_count": 3,
     "metadata": {},
     "output_type": "execute_result"
    }
   ],
   "source": [
    "#hide\n",
    "paths['mapping']"
   ]
  },
  {
   "cell_type": "code",
   "execution_count": 4,
   "id": "urban-software",
   "metadata": {
    "execution": {
     "iopub.execute_input": "2021-10-18T12:12:27.959141Z",
     "iopub.status.busy": "2021-10-18T12:12:27.958578Z",
     "iopub.status.idle": "2021-10-18T12:12:27.961234Z",
     "shell.execute_reply": "2021-10-18T12:12:27.960787Z"
    },
    "papermill": {
     "duration": 0.040965,
     "end_time": "2021-10-18T12:12:27.961338",
     "exception": false,
     "start_time": "2021-10-18T12:12:27.920373",
     "status": "completed"
    },
    "tags": []
   },
   "outputs": [],
   "source": [
    "#hide\n",
    "def get_mappings(url):\n",
    "    df = pd.read_csv(url)\n",
    "    return {\n",
    "        'df': df,\n",
    "        'replace.country': dict(df.dropna(subset=['Name']).set_index('Country')['Name']),\n",
    "        'map.continent': dict(df.set_index('Name')['Continent'])\n",
    "    }"
   ]
  },
  {
   "cell_type": "code",
   "execution_count": 5,
   "id": "intimate-machinery",
   "metadata": {
    "execution": {
     "iopub.execute_input": "2021-10-18T12:12:28.032202Z",
     "iopub.status.busy": "2021-10-18T12:12:28.031576Z",
     "iopub.status.idle": "2021-10-18T12:12:28.076448Z",
     "shell.execute_reply": "2021-10-18T12:12:28.075919Z"
    },
    "papermill": {
     "duration": 0.084268,
     "end_time": "2021-10-18T12:12:28.076580",
     "exception": false,
     "start_time": "2021-10-18T12:12:27.992312",
     "status": "completed"
    },
    "tags": []
   },
   "outputs": [],
   "source": [
    "#hide\n",
    "mapping = get_mappings(paths['mapping'])"
   ]
  },
  {
   "cell_type": "code",
   "execution_count": 6,
   "id": "certified-tactics",
   "metadata": {
    "execution": {
     "iopub.execute_input": "2021-10-18T12:12:28.145468Z",
     "iopub.status.busy": "2021-10-18T12:12:28.144860Z",
     "iopub.status.idle": "2021-10-18T12:12:28.146158Z",
     "shell.execute_reply": "2021-10-18T12:12:28.146653Z"
    },
    "papermill": {
     "duration": 0.036636,
     "end_time": "2021-10-18T12:12:28.146773",
     "exception": false,
     "start_time": "2021-10-18T12:12:28.110137",
     "status": "completed"
    },
    "tags": []
   },
   "outputs": [],
   "source": [
    "#hide\n",
    "def get_template(path):\n",
    "    from urllib.parse import urlparse\n",
    "    if bool(urlparse(path).netloc):\n",
    "        from urllib.request import urlopen\n",
    "        return urlopen(path).read().decode('utf8')\n",
    "    return open(path).read()"
   ]
  },
  {
   "cell_type": "code",
   "execution_count": 7,
   "id": "realistic-blast",
   "metadata": {
    "execution": {
     "iopub.execute_input": "2021-10-18T12:12:28.213277Z",
     "iopub.status.busy": "2021-10-18T12:12:28.212725Z",
     "iopub.status.idle": "2021-10-18T12:12:28.215094Z",
     "shell.execute_reply": "2021-10-18T12:12:28.215692Z"
    },
    "papermill": {
     "duration": 0.037484,
     "end_time": "2021-10-18T12:12:28.215823",
     "exception": false,
     "start_time": "2021-10-18T12:12:28.178339",
     "status": "completed"
    },
    "tags": []
   },
   "outputs": [],
   "source": [
    "#hide\n",
    "def get_frame(name):\n",
    "    url = (\n",
    "        'https://raw.githubusercontent.com/CSSEGISandData/COVID-19/master/csse_covid_19_data/'\n",
    "        f'csse_covid_19_time_series/time_series_covid19_{name}_global.csv')\n",
    "    df = pd.read_csv(url)\n",
    "    # rename countries\n",
    "    df['Country/Region'] = df['Country/Region'].replace(mapping['replace.country'])\n",
    "    return df"
   ]
  },
  {
   "cell_type": "code",
   "execution_count": 8,
   "id": "affiliated-characterization",
   "metadata": {
    "execution": {
     "iopub.execute_input": "2021-10-18T12:12:28.280784Z",
     "iopub.status.busy": "2021-10-18T12:12:28.280270Z",
     "iopub.status.idle": "2021-10-18T12:12:28.282599Z",
     "shell.execute_reply": "2021-10-18T12:12:28.282165Z"
    },
    "papermill": {
     "duration": 0.036843,
     "end_time": "2021-10-18T12:12:28.282696",
     "exception": false,
     "start_time": "2021-10-18T12:12:28.245853",
     "status": "completed"
    },
    "tags": []
   },
   "outputs": [],
   "source": [
    "#hide\n",
    "def get_dates(df):\n",
    "    dt_cols = df.columns[~df.columns.isin(['Province/State', 'Country/Region', 'Lat', 'Long'])]\n",
    "    LAST_DATE_I = -1\n",
    "    # sometimes last column may be empty, then go backwards\n",
    "    for i in range(-1, -len(dt_cols), -1):\n",
    "        if not df[dt_cols[i]].fillna(0).eq(0).all():\n",
    "            LAST_DATE_I = i\n",
    "            break\n",
    "    return LAST_DATE_I, dt_cols"
   ]
  },
  {
   "cell_type": "code",
   "execution_count": 9,
   "id": "recent-optimization",
   "metadata": {
    "execution": {
     "iopub.execute_input": "2021-10-18T12:12:28.348834Z",
     "iopub.status.busy": "2021-10-18T12:12:28.345521Z",
     "iopub.status.idle": "2021-10-18T12:12:28.732980Z",
     "shell.execute_reply": "2021-10-18T12:12:28.732523Z"
    },
    "papermill": {
     "duration": 0.420836,
     "end_time": "2021-10-18T12:12:28.733104",
     "exception": false,
     "start_time": "2021-10-18T12:12:28.312268",
     "status": "completed"
    },
    "tags": []
   },
   "outputs": [],
   "source": [
    "#hide\n",
    "COL_REGION = 'Country/Region'\n",
    "# Confirmed, Recovered, Deaths\n",
    "df = get_frame('confirmed')\n",
    "# dft_: timeseries, dfc_: today country agg\n",
    "dft_cases = df\n",
    "dft_deaths = get_frame('deaths')\n",
    "dft_recovered = get_frame('recovered')\n",
    "LAST_DATE_I, dt_cols = get_dates(df)"
   ]
  },
  {
   "cell_type": "code",
   "execution_count": 10,
   "id": "absolute-copper",
   "metadata": {
    "execution": {
     "iopub.execute_input": "2021-10-18T12:12:28.801070Z",
     "iopub.status.busy": "2021-10-18T12:12:28.800544Z",
     "iopub.status.idle": "2021-10-18T12:12:28.802582Z",
     "shell.execute_reply": "2021-10-18T12:12:28.802981Z"
    },
    "papermill": {
     "duration": 0.037895,
     "end_time": "2021-10-18T12:12:28.803101",
     "exception": false,
     "start_time": "2021-10-18T12:12:28.765206",
     "status": "completed"
    },
    "tags": []
   },
   "outputs": [],
   "source": [
    "#hide\n",
    "LAST_DATE_I, dt_cols = get_dates(df)\n",
    "dt_today =dt_cols[LAST_DATE_I]\n",
    "# dt_5day = dt_cols[LAST_DATE_I - 5]\n",
    "dt_yday = dt_cols[LAST_DATE_I - 1]"
   ]
  },
  {
   "cell_type": "code",
   "execution_count": 11,
   "id": "restricted-sheriff",
   "metadata": {
    "execution": {
     "iopub.execute_input": "2021-10-18T12:12:28.875613Z",
     "iopub.status.busy": "2021-10-18T12:12:28.874987Z",
     "iopub.status.idle": "2021-10-18T12:12:28.883996Z",
     "shell.execute_reply": "2021-10-18T12:12:28.884486Z"
    },
    "papermill": {
     "duration": 0.050136,
     "end_time": "2021-10-18T12:12:28.884604",
     "exception": false,
     "start_time": "2021-10-18T12:12:28.834468",
     "status": "completed"
    },
    "tags": []
   },
   "outputs": [],
   "source": [
    "#hide\n",
    "dfc_cases = dft_cases.groupby(COL_REGION)[dt_today].sum()\n",
    "dfc_deaths = dft_deaths.groupby(COL_REGION)[dt_today].sum()\n",
    "# dfp_cases = dft_cases.groupby(COL_REGION)[dt_5day].sum()\n",
    "# dfp_deaths = dft_deaths.groupby(COL_REGION)[dt_5day].sum()\n",
    "dfp_cases = dft_cases.groupby(COL_REGION)[dt_yday].sum()\n",
    "dfp_deaths = dft_deaths.groupby(COL_REGION)[dt_yday].sum()"
   ]
  },
  {
   "cell_type": "code",
   "execution_count": 12,
   "id": "deluxe-hepatitis",
   "metadata": {
    "execution": {
     "iopub.execute_input": "2021-10-18T12:12:28.955407Z",
     "iopub.status.busy": "2021-10-18T12:12:28.954823Z",
     "iopub.status.idle": "2021-10-18T12:12:28.958900Z",
     "shell.execute_reply": "2021-10-18T12:12:28.959420Z"
    },
    "papermill": {
     "duration": 0.043467,
     "end_time": "2021-10-18T12:12:28.959538",
     "exception": false,
     "start_time": "2021-10-18T12:12:28.916071",
     "status": "completed"
    },
    "tags": []
   },
   "outputs": [],
   "source": [
    "#hide\n",
    "df_table = (pd.DataFrame(dict(Cases = dfc_cases, Deaths = dfc_deaths, PCases = dfp_cases, PDeaths = dfp_deaths))\n",
    "            .sort_values(by = ['Cases','Deaths'], ascending = [False, False])\n",
    "            .reset_index())"
   ]
  },
  {
   "cell_type": "code",
   "execution_count": 13,
   "id": "educational-chancellor",
   "metadata": {
    "execution": {
     "iopub.execute_input": "2021-10-18T12:12:29.033012Z",
     "iopub.status.busy": "2021-10-18T12:12:29.032464Z",
     "iopub.status.idle": "2021-10-18T12:12:29.046247Z",
     "shell.execute_reply": "2021-10-18T12:12:29.045776Z"
    },
    "papermill": {
     "duration": 0.05701,
     "end_time": "2021-10-18T12:12:29.046349",
     "exception": false,
     "start_time": "2021-10-18T12:12:28.989339",
     "status": "completed"
    },
    "tags": []
   },
   "outputs": [
    {
     "data": {
      "text/html": [
       "<div>\n",
       "<style scoped>\n",
       "    .dataframe tbody tr th:only-of-type {\n",
       "        vertical-align: middle;\n",
       "    }\n",
       "\n",
       "    .dataframe tbody tr th {\n",
       "        vertical-align: top;\n",
       "    }\n",
       "\n",
       "    .dataframe thead th {\n",
       "        text-align: right;\n",
       "    }\n",
       "</style>\n",
       "<table border=\"1\" class=\"dataframe\">\n",
       "  <thead>\n",
       "    <tr style=\"text-align: right;\">\n",
       "      <th></th>\n",
       "      <th>Country/Region</th>\n",
       "      <th>Cases</th>\n",
       "      <th>Deaths</th>\n",
       "      <th>PCases</th>\n",
       "      <th>PDeaths</th>\n",
       "      <th>Cases (+)</th>\n",
       "      <th>Deaths (+)</th>\n",
       "      <th>Fatality Rate</th>\n",
       "      <th>Continent</th>\n",
       "    </tr>\n",
       "  </thead>\n",
       "  <tbody>\n",
       "    <tr>\n",
       "      <th>0</th>\n",
       "      <td>US</td>\n",
       "      <td>44933336</td>\n",
       "      <td>724317</td>\n",
       "      <td>44916423</td>\n",
       "      <td>724153</td>\n",
       "      <td>16913</td>\n",
       "      <td>164</td>\n",
       "      <td>1.61</td>\n",
       "      <td>North America</td>\n",
       "    </tr>\n",
       "    <tr>\n",
       "      <th>1</th>\n",
       "      <td>India</td>\n",
       "      <td>34081315</td>\n",
       "      <td>452290</td>\n",
       "      <td>34067719</td>\n",
       "      <td>452124</td>\n",
       "      <td>13596</td>\n",
       "      <td>166</td>\n",
       "      <td>1.33</td>\n",
       "      <td>Asia</td>\n",
       "    </tr>\n",
       "    <tr>\n",
       "      <th>2</th>\n",
       "      <td>Brazil</td>\n",
       "      <td>21644464</td>\n",
       "      <td>603282</td>\n",
       "      <td>21638726</td>\n",
       "      <td>603152</td>\n",
       "      <td>5738</td>\n",
       "      <td>130</td>\n",
       "      <td>2.79</td>\n",
       "      <td>South America</td>\n",
       "    </tr>\n",
       "    <tr>\n",
       "      <th>3</th>\n",
       "      <td>United Kingdom</td>\n",
       "      <td>8488685</td>\n",
       "      <td>138997</td>\n",
       "      <td>8443882</td>\n",
       "      <td>138940</td>\n",
       "      <td>44803</td>\n",
       "      <td>57</td>\n",
       "      <td>1.64</td>\n",
       "      <td>Europe</td>\n",
       "    </tr>\n",
       "    <tr>\n",
       "      <th>4</th>\n",
       "      <td>Russia</td>\n",
       "      <td>7870529</td>\n",
       "      <td>219342</td>\n",
       "      <td>7837101</td>\n",
       "      <td>218362</td>\n",
       "      <td>33428</td>\n",
       "      <td>980</td>\n",
       "      <td>2.79</td>\n",
       "      <td>Europe</td>\n",
       "    </tr>\n",
       "  </tbody>\n",
       "</table>\n",
       "</div>"
      ],
      "text/plain": [
       "   Country/Region     Cases  Deaths    PCases  PDeaths  Cases (+)  Deaths (+)  \\\n",
       "0              US  44933336  724317  44916423   724153      16913         164   \n",
       "1           India  34081315  452290  34067719   452124      13596         166   \n",
       "2          Brazil  21644464  603282  21638726   603152       5738         130   \n",
       "3  United Kingdom   8488685  138997   8443882   138940      44803          57   \n",
       "4          Russia   7870529  219342   7837101   218362      33428         980   \n",
       "\n",
       "   Fatality Rate      Continent  \n",
       "0           1.61  North America  \n",
       "1           1.33           Asia  \n",
       "2           2.79  South America  \n",
       "3           1.64         Europe  \n",
       "4           2.79         Europe  "
      ]
     },
     "execution_count": 13,
     "metadata": {},
     "output_type": "execute_result"
    }
   ],
   "source": [
    "#hide\n",
    "for c in 'Cases, Deaths'.split(', '):\n",
    "    df_table[f'{c} (+)'] = (df_table[c] - df_table[f'P{c}']).clip(0)\n",
    "    #Clip ça veut dire, les chiffres negatif sont interdit\n",
    "df_table['Fatality Rate'] = (100* df_table['Deaths']/ df_table['Cases']).round(2)\n",
    "df_table['Continent'] = df_table['Country/Region'].map(mapping['map.continent'])\n",
    "df_table.head(5)"
   ]
  },
  {
   "cell_type": "code",
   "execution_count": 14,
   "id": "aboriginal-bulgaria",
   "metadata": {
    "execution": {
     "iopub.execute_input": "2021-10-18T12:12:29.128711Z",
     "iopub.status.busy": "2021-10-18T12:12:29.128101Z",
     "iopub.status.idle": "2021-10-18T12:12:29.130889Z",
     "shell.execute_reply": "2021-10-18T12:12:29.130449Z"
    },
    "papermill": {
     "duration": 0.043579,
     "end_time": "2021-10-18T12:12:29.130994",
     "exception": false,
     "start_time": "2021-10-18T12:12:29.087415",
     "status": "completed"
    },
    "tags": []
   },
   "outputs": [],
   "source": [
    "#hide\n",
    "#delete problematic countries from table\n",
    "df_table = df_table[~df_table['Country/Region'].isin(['Cape Verde', 'Cruise Ship', 'Kosovo'])]"
   ]
  },
  {
   "cell_type": "code",
   "execution_count": 15,
   "id": "fantastic-effect",
   "metadata": {
    "execution": {
     "iopub.execute_input": "2021-10-18T12:12:29.200208Z",
     "iopub.status.busy": "2021-10-18T12:12:29.199389Z",
     "iopub.status.idle": "2021-10-18T12:12:29.219894Z",
     "shell.execute_reply": "2021-10-18T12:12:29.219410Z"
    },
    "papermill": {
     "duration": 0.057353,
     "end_time": "2021-10-18T12:12:29.220002",
     "exception": false,
     "start_time": "2021-10-18T12:12:29.162649",
     "status": "completed"
    },
    "tags": []
   },
   "outputs": [
    {
     "data": {
      "text/html": [
       "<div>\n",
       "<style scoped>\n",
       "    .dataframe tbody tr th:only-of-type {\n",
       "        vertical-align: middle;\n",
       "    }\n",
       "\n",
       "    .dataframe tbody tr th {\n",
       "        vertical-align: top;\n",
       "    }\n",
       "\n",
       "    .dataframe thead th {\n",
       "        text-align: right;\n",
       "    }\n",
       "</style>\n",
       "<table border=\"1\" class=\"dataframe\">\n",
       "  <thead>\n",
       "    <tr style=\"text-align: right;\">\n",
       "      <th></th>\n",
       "      <th>Country/Region</th>\n",
       "      <th>Cases</th>\n",
       "      <th>Deaths</th>\n",
       "      <th>PCases</th>\n",
       "      <th>PDeaths</th>\n",
       "      <th>Cases (+)</th>\n",
       "      <th>Deaths (+)</th>\n",
       "      <th>Fatality Rate</th>\n",
       "      <th>Continent</th>\n",
       "    </tr>\n",
       "  </thead>\n",
       "  <tbody>\n",
       "    <tr>\n",
       "      <th>0</th>\n",
       "      <td>US</td>\n",
       "      <td>44933336</td>\n",
       "      <td>724317</td>\n",
       "      <td>44916423</td>\n",
       "      <td>724153</td>\n",
       "      <td>16913</td>\n",
       "      <td>164</td>\n",
       "      <td>1.6</td>\n",
       "      <td>North America</td>\n",
       "    </tr>\n",
       "    <tr>\n",
       "      <th>1</th>\n",
       "      <td>India</td>\n",
       "      <td>34081315</td>\n",
       "      <td>452290</td>\n",
       "      <td>34067719</td>\n",
       "      <td>452124</td>\n",
       "      <td>13596</td>\n",
       "      <td>166</td>\n",
       "      <td>1.3</td>\n",
       "      <td>Asia</td>\n",
       "    </tr>\n",
       "    <tr>\n",
       "      <th>2</th>\n",
       "      <td>Brazil</td>\n",
       "      <td>21644464</td>\n",
       "      <td>603282</td>\n",
       "      <td>21638726</td>\n",
       "      <td>603152</td>\n",
       "      <td>5738</td>\n",
       "      <td>130</td>\n",
       "      <td>2.8</td>\n",
       "      <td>South America</td>\n",
       "    </tr>\n",
       "    <tr>\n",
       "      <th>3</th>\n",
       "      <td>United Kingdom</td>\n",
       "      <td>8488685</td>\n",
       "      <td>138997</td>\n",
       "      <td>8443882</td>\n",
       "      <td>138940</td>\n",
       "      <td>44803</td>\n",
       "      <td>57</td>\n",
       "      <td>1.6</td>\n",
       "      <td>Europe</td>\n",
       "    </tr>\n",
       "    <tr>\n",
       "      <th>4</th>\n",
       "      <td>Russia</td>\n",
       "      <td>7870529</td>\n",
       "      <td>219342</td>\n",
       "      <td>7837101</td>\n",
       "      <td>218362</td>\n",
       "      <td>33428</td>\n",
       "      <td>980</td>\n",
       "      <td>2.8</td>\n",
       "      <td>Europe</td>\n",
       "    </tr>\n",
       "  </tbody>\n",
       "</table>\n",
       "</div>"
      ],
      "text/plain": [
       "   Country/Region     Cases  Deaths    PCases  PDeaths  Cases (+)  Deaths (+)  \\\n",
       "0              US  44933336  724317  44916423   724153      16913         164   \n",
       "1           India  34081315  452290  34067719   452124      13596         166   \n",
       "2          Brazil  21644464  603282  21638726   603152       5738         130   \n",
       "3  United Kingdom   8488685  138997   8443882   138940      44803          57   \n",
       "4          Russia   7870529  219342   7837101   218362      33428         980   \n",
       "\n",
       "   Fatality Rate      Continent  \n",
       "0            1.6  North America  \n",
       "1            1.3           Asia  \n",
       "2            2.8  South America  \n",
       "3            1.6         Europe  \n",
       "4            2.8         Europe  "
      ]
     },
     "execution_count": 15,
     "metadata": {},
     "output_type": "execute_result"
    }
   ],
   "source": [
    "#hide\n",
    "df_table = (pd.DataFrame(dict(Cases=dfc_cases, Deaths=dfc_deaths, PCases=dfp_cases, PDeaths=dfp_deaths))\n",
    "             .sort_values(by=['Cases', 'Deaths'], ascending=[False, False])\n",
    "             .reset_index())\n",
    "df_table.rename(columns={'index': 'Country/Region'}, inplace=True)\n",
    "for c in 'Cases, Deaths'.split(', '):\n",
    "    df_table[f'{c} (+)'] = (df_table[c] - df_table[f'P{c}']).clip(0)  # DATA BUG\n",
    "df_table['Fatality Rate'] = (100 * df_table['Deaths'] / df_table['Cases']).round(1)\n",
    "df_table['Continent'] = df_table['Country/Region'].map(mapping['map.continent'])\n",
    "df_table.head(5)"
   ]
  },
  {
   "cell_type": "code",
   "execution_count": 16,
   "id": "fewer-occasion",
   "metadata": {
    "execution": {
     "iopub.execute_input": "2021-10-18T12:12:29.287196Z",
     "iopub.status.busy": "2021-10-18T12:12:29.286465Z",
     "iopub.status.idle": "2021-10-18T12:12:29.289522Z",
     "shell.execute_reply": "2021-10-18T12:12:29.289080Z"
    },
    "papermill": {
     "duration": 0.03874,
     "end_time": "2021-10-18T12:12:29.289622",
     "exception": false,
     "start_time": "2021-10-18T12:12:29.250882",
     "status": "completed"
    },
    "tags": []
   },
   "outputs": [],
   "source": [
    "#hide\n",
    "#delete problematic countries from table\n",
    "df_table = df_table[~df_table['Country/Region'].isin(['Cape Verde', 'Cruise Ship', 'Kosovo'])]"
   ]
  },
  {
   "cell_type": "code",
   "execution_count": 17,
   "id": "related-center",
   "metadata": {
    "execution": {
     "iopub.execute_input": "2021-10-18T12:12:29.356861Z",
     "iopub.status.busy": "2021-10-18T12:12:29.356317Z",
     "iopub.status.idle": "2021-10-18T12:12:29.369696Z",
     "shell.execute_reply": "2021-10-18T12:12:29.370162Z"
    },
    "papermill": {
     "duration": 0.050453,
     "end_time": "2021-10-18T12:12:29.370281",
     "exception": false,
     "start_time": "2021-10-18T12:12:29.319828",
     "status": "completed"
    },
    "tags": []
   },
   "outputs": [],
   "source": [
    "#hide\n",
    "metrics = [df_table.columns[index] for index in [1,2,5,6]]\n",
    "# s_china = df_table[df_table['Country/Region'].eq('China')][metrics].sum().add_prefix('China ')\n",
    "s_us = df_table[df_table['Country/Region'].eq('US')][metrics].sum().add_prefix('US ')\n",
    "s_eu = df_table[df_table['Continent'].eq('Europe')][metrics].sum().add_prefix('EU ')\n",
    "s_ind = df_table[df_table['Country/Region'].eq('India')][metrics].sum().add_prefix('India ')\n",
    "summary = {'updated': pd.to_datetime(dt_today), 'since': pd.to_datetime(dt_yday)}\n",
    "summary = {'updated': pd.to_datetime(dt_today), 'since': pd.to_datetime(dt_yday)}\n",
    "summary = {**summary, **df_table[metrics].sum(), **s_ind, **s_us, **s_eu}"
   ]
  },
  {
   "cell_type": "code",
   "execution_count": 18,
   "id": "engaging-syndrome",
   "metadata": {
    "execution": {
     "iopub.execute_input": "2021-10-18T12:12:29.435706Z",
     "iopub.status.busy": "2021-10-18T12:12:29.435175Z",
     "iopub.status.idle": "2021-10-18T12:12:29.449278Z",
     "shell.execute_reply": "2021-10-18T12:12:29.449917Z"
    },
    "papermill": {
     "duration": 0.04911,
     "end_time": "2021-10-18T12:12:29.450078",
     "exception": false,
     "start_time": "2021-10-18T12:12:29.400968",
     "status": "completed"
    },
    "tags": []
   },
   "outputs": [],
   "source": [
    "#hide\n",
    "dft_ct_new_cases = dft_cases.groupby(COL_REGION)[dt_cols].sum().diff(axis=1).fillna(0).astype(int)"
   ]
  },
  {
   "cell_type": "code",
   "execution_count": 19,
   "id": "neutral-assignment",
   "metadata": {
    "execution": {
     "iopub.execute_input": "2021-10-18T12:12:29.524899Z",
     "iopub.status.busy": "2021-10-18T12:12:29.524306Z",
     "iopub.status.idle": "2021-10-18T12:12:29.526421Z",
     "shell.execute_reply": "2021-10-18T12:12:29.526940Z"
    },
    "papermill": {
     "duration": 0.042036,
     "end_time": "2021-10-18T12:12:29.527060",
     "exception": false,
     "start_time": "2021-10-18T12:12:29.485024",
     "status": "completed"
    },
    "tags": []
   },
   "outputs": [],
   "source": [
    "#hide\n",
    "everydaycases = dft_ct_new_cases.cumsum(axis=1)"
   ]
  },
  {
   "cell_type": "code",
   "execution_count": 20,
   "id": "parliamentary-calgary",
   "metadata": {
    "execution": {
     "iopub.execute_input": "2021-10-18T12:12:29.593267Z",
     "iopub.status.busy": "2021-10-18T12:12:29.592700Z",
     "iopub.status.idle": "2021-10-18T12:12:30.156055Z",
     "shell.execute_reply": "2021-10-18T12:12:30.155508Z"
    },
    "papermill": {
     "duration": 0.598083,
     "end_time": "2021-10-18T12:12:30.156191",
     "exception": false,
     "start_time": "2021-10-18T12:12:29.558108",
     "status": "completed"
    },
    "tags": []
   },
   "outputs": [],
   "source": [
    "#hide\n",
    "import pandas as pd\n",
    "import matplotlib.pyplot as plt\n",
    "import matplotlib.ticker as ticker\n",
    "import matplotlib.animation as animation\n",
    "from IPython.display import HTML"
   ]
  },
  {
   "cell_type": "code",
   "execution_count": 21,
   "id": "lasting-extraction",
   "metadata": {
    "execution": {
     "iopub.execute_input": "2021-10-18T12:12:30.235351Z",
     "iopub.status.busy": "2021-10-18T12:12:30.234691Z",
     "iopub.status.idle": "2021-10-18T12:12:30.240861Z",
     "shell.execute_reply": "2021-10-18T12:12:30.241443Z"
    },
    "papermill": {
     "duration": 0.050843,
     "end_time": "2021-10-18T12:12:30.241651",
     "exception": false,
     "start_time": "2021-10-18T12:12:30.190808",
     "status": "completed"
    },
    "tags": []
   },
   "outputs": [],
   "source": [
    "#hide\n",
    "t = everydaycases.stack()"
   ]
  },
  {
   "cell_type": "code",
   "execution_count": 22,
   "id": "premier-sleeve",
   "metadata": {
    "execution": {
     "iopub.execute_input": "2021-10-18T12:12:30.311136Z",
     "iopub.status.busy": "2021-10-18T12:12:30.310586Z",
     "iopub.status.idle": "2021-10-18T12:12:30.318296Z",
     "shell.execute_reply": "2021-10-18T12:12:30.318786Z"
    },
    "papermill": {
     "duration": 0.04254,
     "end_time": "2021-10-18T12:12:30.318903",
     "exception": false,
     "start_time": "2021-10-18T12:12:30.276363",
     "status": "completed"
    },
    "tags": []
   },
   "outputs": [],
   "source": [
    "#hide\n",
    "g = t.reset_index(['Country/Region'])"
   ]
  },
  {
   "cell_type": "code",
   "execution_count": 23,
   "id": "distributed-pittsburgh",
   "metadata": {
    "execution": {
     "iopub.execute_input": "2021-10-18T12:12:30.387299Z",
     "iopub.status.busy": "2021-10-18T12:12:30.386616Z",
     "iopub.status.idle": "2021-10-18T12:12:30.388737Z",
     "shell.execute_reply": "2021-10-18T12:12:30.389236Z"
    },
    "papermill": {
     "duration": 0.038863,
     "end_time": "2021-10-18T12:12:30.389353",
     "exception": false,
     "start_time": "2021-10-18T12:12:30.350490",
     "status": "completed"
    },
    "tags": []
   },
   "outputs": [],
   "source": [
    "#hide\n",
    "g.index.name = 'date'"
   ]
  },
  {
   "cell_type": "code",
   "execution_count": 24,
   "id": "naked-donor",
   "metadata": {
    "execution": {
     "iopub.execute_input": "2021-10-18T12:12:30.456577Z",
     "iopub.status.busy": "2021-10-18T12:12:30.455962Z",
     "iopub.status.idle": "2021-10-18T12:12:30.458710Z",
     "shell.execute_reply": "2021-10-18T12:12:30.458247Z"
    },
    "papermill": {
     "duration": 0.036771,
     "end_time": "2021-10-18T12:12:30.458809",
     "exception": false,
     "start_time": "2021-10-18T12:12:30.422038",
     "status": "completed"
    },
    "tags": []
   },
   "outputs": [],
   "source": [
    "# #hide\n",
    "# g = g.reset_index(['date'])"
   ]
  },
  {
   "cell_type": "code",
   "execution_count": 25,
   "id": "incomplete-mustang",
   "metadata": {
    "execution": {
     "iopub.execute_input": "2021-10-18T12:12:30.528957Z",
     "iopub.status.busy": "2021-10-18T12:12:30.528379Z",
     "iopub.status.idle": "2021-10-18T12:12:30.530546Z",
     "shell.execute_reply": "2021-10-18T12:12:30.529977Z"
    },
    "papermill": {
     "duration": 0.038687,
     "end_time": "2021-10-18T12:12:30.530652",
     "exception": false,
     "start_time": "2021-10-18T12:12:30.491965",
     "status": "completed"
    },
    "tags": []
   },
   "outputs": [],
   "source": [
    "#hide\n",
    "# g.head()"
   ]
  },
  {
   "cell_type": "code",
   "execution_count": 26,
   "id": "specific-kruger",
   "metadata": {
    "execution": {
     "iopub.execute_input": "2021-10-18T12:12:30.601047Z",
     "iopub.status.busy": "2021-10-18T12:12:30.600477Z",
     "iopub.status.idle": "2021-10-18T12:12:30.602891Z",
     "shell.execute_reply": "2021-10-18T12:12:30.602364Z"
    },
    "papermill": {
     "duration": 0.039369,
     "end_time": "2021-10-18T12:12:30.602994",
     "exception": false,
     "start_time": "2021-10-18T12:12:30.563625",
     "status": "completed"
    },
    "tags": []
   },
   "outputs": [],
   "source": [
    "#hide\n",
    "# g.columns = ['date','country','cases']"
   ]
  },
  {
   "cell_type": "code",
   "execution_count": 27,
   "id": "tender-conversion",
   "metadata": {
    "execution": {
     "iopub.execute_input": "2021-10-18T12:12:30.670050Z",
     "iopub.status.busy": "2021-10-18T12:12:30.669502Z",
     "iopub.status.idle": "2021-10-18T12:12:30.671837Z",
     "shell.execute_reply": "2021-10-18T12:12:30.671358Z"
    },
    "papermill": {
     "duration": 0.036377,
     "end_time": "2021-10-18T12:12:30.671955",
     "exception": false,
     "start_time": "2021-10-18T12:12:30.635578",
     "status": "completed"
    },
    "tags": []
   },
   "outputs": [],
   "source": [
    "#hide\n",
    "# g['continent'] = g.country"
   ]
  },
  {
   "cell_type": "code",
   "execution_count": 28,
   "id": "substantial-wilderness",
   "metadata": {
    "execution": {
     "iopub.execute_input": "2021-10-18T12:12:30.738824Z",
     "iopub.status.busy": "2021-10-18T12:12:30.738249Z",
     "iopub.status.idle": "2021-10-18T12:12:30.740647Z",
     "shell.execute_reply": "2021-10-18T12:12:30.740214Z"
    },
    "papermill": {
     "duration": 0.036663,
     "end_time": "2021-10-18T12:12:30.740762",
     "exception": false,
     "start_time": "2021-10-18T12:12:30.704099",
     "status": "completed"
    },
    "tags": []
   },
   "outputs": [],
   "source": [
    "#hide\n",
    "# cols = list(g.columns.values)"
   ]
  },
  {
   "cell_type": "code",
   "execution_count": 29,
   "id": "solved-farming",
   "metadata": {
    "execution": {
     "iopub.execute_input": "2021-10-18T12:12:30.806563Z",
     "iopub.status.busy": "2021-10-18T12:12:30.805998Z",
     "iopub.status.idle": "2021-10-18T12:12:30.808254Z",
     "shell.execute_reply": "2021-10-18T12:12:30.807816Z"
    },
    "papermill": {
     "duration": 0.036792,
     "end_time": "2021-10-18T12:12:30.808353",
     "exception": false,
     "start_time": "2021-10-18T12:12:30.771561",
     "status": "completed"
    },
    "tags": []
   },
   "outputs": [],
   "source": [
    "#hide\n",
    "# cols.insert(0, cols.pop())"
   ]
  },
  {
   "cell_type": "code",
   "execution_count": 30,
   "id": "executed-adoption",
   "metadata": {
    "execution": {
     "iopub.execute_input": "2021-10-18T12:12:30.874718Z",
     "iopub.status.busy": "2021-10-18T12:12:30.874115Z",
     "iopub.status.idle": "2021-10-18T12:12:30.878122Z",
     "shell.execute_reply": "2021-10-18T12:12:30.877582Z"
    },
    "papermill": {
     "duration": 0.039682,
     "end_time": "2021-10-18T12:12:30.878231",
     "exception": false,
     "start_time": "2021-10-18T12:12:30.838549",
     "status": "completed"
    },
    "tags": []
   },
   "outputs": [],
   "source": [
    "#hide\n",
    "# g = g[cols]"
   ]
  },
  {
   "cell_type": "code",
   "execution_count": 31,
   "id": "subject-dublin",
   "metadata": {
    "execution": {
     "iopub.execute_input": "2021-10-18T12:12:30.953053Z",
     "iopub.status.busy": "2021-10-18T12:12:30.952437Z",
     "iopub.status.idle": "2021-10-18T12:12:30.954725Z",
     "shell.execute_reply": "2021-10-18T12:12:30.955210Z"
    },
    "papermill": {
     "duration": 0.044428,
     "end_time": "2021-10-18T12:12:30.955484",
     "exception": false,
     "start_time": "2021-10-18T12:12:30.911056",
     "status": "completed"
    },
    "tags": []
   },
   "outputs": [],
   "source": [
    "#hide\n",
    "# g['continent'] = g['continent'].map(mapping['map.continent'])"
   ]
  },
  {
   "cell_type": "code",
   "execution_count": 32,
   "id": "freelance-scout",
   "metadata": {
    "execution": {
     "iopub.execute_input": "2021-10-18T12:12:31.040858Z",
     "iopub.status.busy": "2021-10-18T12:12:31.040264Z",
     "iopub.status.idle": "2021-10-18T12:12:31.042259Z",
     "shell.execute_reply": "2021-10-18T12:12:31.042870Z"
    },
    "papermill": {
     "duration": 0.046126,
     "end_time": "2021-10-18T12:12:31.043018",
     "exception": false,
     "start_time": "2021-10-18T12:12:30.996892",
     "status": "completed"
    },
    "tags": []
   },
   "outputs": [],
   "source": [
    "#hide\n",
    "# g.head()"
   ]
  },
  {
   "cell_type": "code",
   "execution_count": 33,
   "id": "limited-engine",
   "metadata": {
    "execution": {
     "iopub.execute_input": "2021-10-18T12:12:31.135901Z",
     "iopub.status.busy": "2021-10-18T12:12:31.135294Z",
     "iopub.status.idle": "2021-10-18T12:12:31.137802Z",
     "shell.execute_reply": "2021-10-18T12:12:31.137212Z"
    },
    "papermill": {
     "duration": 0.051716,
     "end_time": "2021-10-18T12:12:31.137928",
     "exception": false,
     "start_time": "2021-10-18T12:12:31.086212",
     "status": "completed"
    },
    "tags": []
   },
   "outputs": [],
   "source": [
    "# hide\n",
    "# g['date'] = g['date'].astype('datetime64[ns]')"
   ]
  },
  {
   "cell_type": "code",
   "execution_count": 34,
   "id": "sophisticated-supervisor",
   "metadata": {
    "execution": {
     "iopub.execute_input": "2021-10-18T12:12:31.210861Z",
     "iopub.status.busy": "2021-10-18T12:12:31.210109Z",
     "iopub.status.idle": "2021-10-18T12:12:31.212513Z",
     "shell.execute_reply": "2021-10-18T12:12:31.212065Z"
    },
    "papermill": {
     "duration": 0.038051,
     "end_time": "2021-10-18T12:12:31.212616",
     "exception": false,
     "start_time": "2021-10-18T12:12:31.174565",
     "status": "completed"
    },
    "tags": []
   },
   "outputs": [],
   "source": [
    "#hide\n",
    "# g['date'] = g.date.dt.dayofyear"
   ]
  },
  {
   "cell_type": "code",
   "execution_count": 35,
   "id": "inside-dubai",
   "metadata": {
    "execution": {
     "iopub.execute_input": "2021-10-18T12:12:31.278530Z",
     "iopub.status.busy": "2021-10-18T12:12:31.277915Z",
     "iopub.status.idle": "2021-10-18T12:12:31.279661Z",
     "shell.execute_reply": "2021-10-18T12:12:31.280221Z"
    },
    "papermill": {
     "duration": 0.035709,
     "end_time": "2021-10-18T12:12:31.280333",
     "exception": false,
     "start_time": "2021-10-18T12:12:31.244624",
     "status": "completed"
    },
    "tags": []
   },
   "outputs": [],
   "source": [
    "#hide\n",
    "# g = g.rename(columns= {'continent':'group','country':'name','cases':'value'})"
   ]
  },
  {
   "cell_type": "code",
   "execution_count": 36,
   "id": "fleet-motorcycle",
   "metadata": {
    "execution": {
     "iopub.execute_input": "2021-10-18T12:12:31.346491Z",
     "iopub.status.busy": "2021-10-18T12:12:31.345960Z",
     "iopub.status.idle": "2021-10-18T12:12:31.348254Z",
     "shell.execute_reply": "2021-10-18T12:12:31.347807Z"
    },
    "papermill": {
     "duration": 0.036003,
     "end_time": "2021-10-18T12:12:31.348355",
     "exception": false,
     "start_time": "2021-10-18T12:12:31.312352",
     "status": "completed"
    },
    "tags": []
   },
   "outputs": [],
   "source": [
    "#hide\n",
    "# cols = ['name','group','day','value']"
   ]
  },
  {
   "cell_type": "code",
   "execution_count": 37,
   "id": "continued-sleeping",
   "metadata": {
    "execution": {
     "iopub.execute_input": "2021-10-18T12:12:31.413301Z",
     "iopub.status.busy": "2021-10-18T12:12:31.412686Z",
     "iopub.status.idle": "2021-10-18T12:12:31.414805Z",
     "shell.execute_reply": "2021-10-18T12:12:31.414362Z"
    },
    "papermill": {
     "duration": 0.035931,
     "end_time": "2021-10-18T12:12:31.414904",
     "exception": false,
     "start_time": "2021-10-18T12:12:31.378973",
     "status": "completed"
    },
    "tags": []
   },
   "outputs": [],
   "source": [
    "#hide\n",
    "# g.rename(columns= {'date':'day'},inplace = True)"
   ]
  },
  {
   "cell_type": "code",
   "execution_count": 38,
   "id": "major-fight",
   "metadata": {
    "execution": {
     "iopub.execute_input": "2021-10-18T12:12:31.480027Z",
     "iopub.status.busy": "2021-10-18T12:12:31.479431Z",
     "iopub.status.idle": "2021-10-18T12:12:31.482077Z",
     "shell.execute_reply": "2021-10-18T12:12:31.481635Z"
    },
    "papermill": {
     "duration": 0.036382,
     "end_time": "2021-10-18T12:12:31.482175",
     "exception": false,
     "start_time": "2021-10-18T12:12:31.445793",
     "status": "completed"
    },
    "tags": []
   },
   "outputs": [],
   "source": [
    "#hide\n",
    "# g = g[cols]"
   ]
  },
  {
   "cell_type": "code",
   "execution_count": 39,
   "id": "structured-mobile",
   "metadata": {
    "execution": {
     "iopub.execute_input": "2021-10-18T12:12:31.552771Z",
     "iopub.status.busy": "2021-10-18T12:12:31.552249Z",
     "iopub.status.idle": "2021-10-18T12:12:31.554111Z",
     "shell.execute_reply": "2021-10-18T12:12:31.554559Z"
    },
    "papermill": {
     "duration": 0.037576,
     "end_time": "2021-10-18T12:12:31.554676",
     "exception": false,
     "start_time": "2021-10-18T12:12:31.517100",
     "status": "completed"
    },
    "tags": []
   },
   "outputs": [],
   "source": [
    "# #hide\n",
    "# g = g[g.group.notna()]"
   ]
  },
  {
   "cell_type": "code",
   "execution_count": 40,
   "id": "determined-closing",
   "metadata": {
    "execution": {
     "iopub.execute_input": "2021-10-18T12:12:31.623400Z",
     "iopub.status.busy": "2021-10-18T12:12:31.622812Z",
     "iopub.status.idle": "2021-10-18T12:12:31.624777Z",
     "shell.execute_reply": "2021-10-18T12:12:31.625174Z"
    },
    "papermill": {
     "duration": 0.039376,
     "end_time": "2021-10-18T12:12:31.625309",
     "exception": false,
     "start_time": "2021-10-18T12:12:31.585933",
     "status": "completed"
    },
    "tags": []
   },
   "outputs": [],
   "source": [
    "# #hide\n",
    "# colors = dict(zip(\n",
    "#     [\"Oceania\", \"Europe\", \"Asia\", \"South America\", \"Middle East\", \"North America\", \"Africa\"],\n",
    "#     [\"#adb0ff\", \"#ffb3ff\", \"#90d595\", \"#e48381\", \"#aafbff\", \"#f7bb5f\", \"#eafb50\"]\n",
    "# ))\n",
    "# group_lk = g.set_index('name')['group'].to_dict()"
   ]
  },
  {
   "cell_type": "code",
   "execution_count": null,
   "id": "gross-drinking",
   "metadata": {
    "papermill": {
     "duration": 0.030617,
     "end_time": "2021-10-18T12:12:31.687762",
     "exception": false,
     "start_time": "2021-10-18T12:12:31.657145",
     "status": "completed"
    },
    "tags": []
   },
   "outputs": [],
   "source": []
  },
  {
   "cell_type": "code",
   "execution_count": 41,
   "id": "subject-macintosh",
   "metadata": {
    "execution": {
     "iopub.execute_input": "2021-10-18T12:12:31.765836Z",
     "iopub.status.busy": "2021-10-18T12:12:31.765240Z",
     "iopub.status.idle": "2021-10-18T12:12:31.768590Z",
     "shell.execute_reply": "2021-10-18T12:12:31.768147Z"
    },
    "papermill": {
     "duration": 0.042903,
     "end_time": "2021-10-18T12:12:31.768695",
     "exception": false,
     "start_time": "2021-10-18T12:12:31.725792",
     "status": "completed"
    },
    "tags": []
   },
   "outputs": [],
   "source": [
    "# #hide\n",
    "# fig, ax = plt.subplots(figsize=(15, 8))\n",
    "\n",
    "# def draw_barchart(current_day):\n",
    "#     dff = g[g['day'].eq(current_day)].sort_values(by='value', ascending=True).tail(10)\n",
    "#     ax.clear()\n",
    "#     ax.barh(dff['name'], dff['value'], color=[colors[group_lk[x]] for x in dff['name']])\n",
    "#     dx = dff['value'].max() / 200\n",
    "    \n",
    "#     for i, (value, name) in enumerate(zip(dff['value'], dff['name'])):\n",
    "#         ax.text(value-dx, i,     name,           size=14, weight=600, ha='right', va='bottom')\n",
    "#         ax.text(value-dx, i-.25, group_lk[name], size=10, color='#444444', ha='right', va='baseline')\n",
    "#         ax.text(value+dx, i,     f'{value:,.0f}',  size=14, ha='left',  va='center')\n",
    "#     ax.text(1, 0.4, current_day, transform=ax.transAxes, color='#777777', size=46, ha='right', weight=800)\n",
    "#     ax.text(0, 1.06, 'Population (thousands)', transform=ax.transAxes, size=12, color='#777777')\n",
    "#     ax.xaxis.set_major_formatter(ticker.StrMethodFormatter('{x:,.0f}'))\n",
    "#     ax.xaxis.set_ticks_position('top')\n",
    "#     ax.tick_params(axis='x', colors='#777777', labelsize=12)\n",
    "#     ax.set_yticks([])\n",
    "#     ax.margins(0, 0.01)\n",
    "#     ax.grid(which='major', axis='x', linestyle='-')\n",
    "#     ax.set_axisbelow(True)\n",
    "    \n",
    "#     ax.text(0, 1.15, 'Coronavirus',\n",
    "#             transform=ax.transAxes, size=24, weight=600, ha='left', va='top')\n",
    "# #     ax.text(1, 0, 'by @pratapvardhan; credit @jburnmurdoch', transform=ax.transAxes, color='#777777', ha='right',\n",
    "# #             bbox=dict(facecolor='white', alpha=0.8, edgecolor='white'))\n",
    "#     plt.box(False)"
   ]
  },
  {
   "cell_type": "code",
   "execution_count": 42,
   "id": "sexual-wages",
   "metadata": {
    "execution": {
     "iopub.execute_input": "2021-10-18T12:12:31.838515Z",
     "iopub.status.busy": "2021-10-18T12:12:31.837961Z",
     "iopub.status.idle": "2021-10-18T12:12:31.841377Z",
     "shell.execute_reply": "2021-10-18T12:12:31.840939Z"
    },
    "papermill": {
     "duration": 0.038289,
     "end_time": "2021-10-18T12:12:31.841478",
     "exception": false,
     "start_time": "2021-10-18T12:12:31.803189",
     "status": "completed"
    },
    "tags": []
   },
   "outputs": [],
   "source": [
    "# #hide_input\n",
    "# fig, ax = plt.subplots(figsize=(15, 8))\n",
    "# animator = animation.FuncAnimation(fig, draw_barchart, frames=range(g.day.values.min(), g.day.values.max()))\n",
    "# HTML(animator.to_jshtml())\n",
    "# # or use animator.to_html5_video() or animator.save() "
   ]
  },
  {
   "cell_type": "code",
   "execution_count": null,
   "id": "australian-container",
   "metadata": {
    "papermill": {
     "duration": 0.0341,
     "end_time": "2021-10-18T12:12:31.907259",
     "exception": false,
     "start_time": "2021-10-18T12:12:31.873159",
     "status": "completed"
    },
    "tags": []
   },
   "outputs": [],
   "source": []
  },
  {
   "cell_type": "code",
   "execution_count": null,
   "id": "mediterranean-pontiac",
   "metadata": {
    "papermill": {
     "duration": 0.033008,
     "end_time": "2021-10-18T12:12:31.973181",
     "exception": false,
     "start_time": "2021-10-18T12:12:31.940173",
     "status": "completed"
    },
    "tags": []
   },
   "outputs": [],
   "source": []
  },
  {
   "cell_type": "code",
   "execution_count": null,
   "id": "aging-legislature",
   "metadata": {
    "papermill": {
     "duration": 0.03132,
     "end_time": "2021-10-18T12:12:32.036432",
     "exception": false,
     "start_time": "2021-10-18T12:12:32.005112",
     "status": "completed"
    },
    "tags": []
   },
   "outputs": [],
   "source": []
  }
 ],
 "metadata": {
  "kernelspec": {
   "display_name": "Python 3",
   "language": "python",
   "name": "python3"
  },
  "language_info": {
   "codemirror_mode": {
    "name": "ipython",
    "version": 3
   },
   "file_extension": ".py",
   "mimetype": "text/x-python",
   "name": "python",
   "nbconvert_exporter": "python",
   "pygments_lexer": "ipython3",
   "version": "3.6.15"
  },
  "papermill": {
   "duration": 6.147222,
   "end_time": "2021-10-18T12:12:32.380094",
   "environment_variables": {},
   "exception": null,
   "input_path": "2020-03-21-covid19exp.ipynb",
   "output_path": "2020-03-21-covid19exp.ipynb",
   "parameters": {},
   "start_time": "2021-10-18T12:12:26.232872",
   "version": "2.0.0"
  }
 },
 "nbformat": 4,
 "nbformat_minor": 5
}