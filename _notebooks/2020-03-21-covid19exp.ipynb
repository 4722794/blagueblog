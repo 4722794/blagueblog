{
 "cells": [
  {
   "cell_type": "markdown",
   "id": "muslim-click",
   "metadata": {
    "papermill": {
     "duration": 0.035875,
     "end_time": "2022-09-29T01:03:08.463443",
     "exception": false,
     "start_time": "2022-09-29T01:03:08.427568",
     "status": "completed"
    },
    "tags": []
   },
   "source": [
    "# COVID-19 Case Race\n",
    "> A race chart to see rising cases around the world\n",
    "\n",
    "- author: Hargun Oberoi\n",
    "- image: images/covid-overview.png\n",
    "- hide: false\n",
    "- badges: false"
   ]
  },
  {
   "cell_type": "code",
   "execution_count": 1,
   "id": "proof-material",
   "metadata": {
    "execution": {
     "iopub.execute_input": "2022-09-29T01:03:08.532686Z",
     "iopub.status.busy": "2022-09-29T01:03:08.532106Z",
     "iopub.status.idle": "2022-09-29T01:03:08.859221Z",
     "shell.execute_reply": "2022-09-29T01:03:08.858639Z"
    },
    "papermill": {
     "duration": 0.365865,
     "end_time": "2022-09-29T01:03:08.859374",
     "exception": false,
     "start_time": "2022-09-29T01:03:08.493509",
     "status": "completed"
    },
    "tags": []
   },
   "outputs": [],
   "source": [
    "#hide\n",
    "import numpy as np\n",
    "import pandas as pd\n",
    "from jinja2 import Template\n",
    "from IPython.display import HTML"
   ]
  },
  {
   "cell_type": "code",
   "execution_count": 2,
   "id": "developed-terminology",
   "metadata": {
    "execution": {
     "iopub.execute_input": "2022-09-29T01:03:08.923829Z",
     "iopub.status.busy": "2022-09-29T01:03:08.923238Z",
     "iopub.status.idle": "2022-09-29T01:03:08.925517Z",
     "shell.execute_reply": "2022-09-29T01:03:08.926068Z"
    },
    "papermill": {
     "duration": 0.03668,
     "end_time": "2022-09-29T01:03:08.926190",
     "exception": false,
     "start_time": "2022-09-29T01:03:08.889510",
     "status": "completed"
    },
    "tags": []
   },
   "outputs": [],
   "source": [
    "#hide\n",
    "\n",
    "# FETCH\n",
    "base_url = 'https://raw.githubusercontent.com/pratapvardhan/notebooks/master/covid19/'\n",
    "paths = {\n",
    "    'mapping': base_url + 'mapping_countries.csv',\n",
    "    'overview': base_url + 'overview.tpl'\n",
    "}"
   ]
  },
  {
   "cell_type": "code",
   "execution_count": 3,
   "id": "dynamic-saver",
   "metadata": {
    "execution": {
     "iopub.execute_input": "2022-09-29T01:03:08.994804Z",
     "iopub.status.busy": "2022-09-29T01:03:08.994221Z",
     "iopub.status.idle": "2022-09-29T01:03:08.997395Z",
     "shell.execute_reply": "2022-09-29T01:03:08.997947Z"
    },
    "papermill": {
     "duration": 0.042696,
     "end_time": "2022-09-29T01:03:08.998068",
     "exception": false,
     "start_time": "2022-09-29T01:03:08.955372",
     "status": "completed"
    },
    "tags": []
   },
   "outputs": [
    {
     "data": {
      "text/plain": [
       "'https://raw.githubusercontent.com/pratapvardhan/notebooks/master/covid19/mapping_countries.csv'"
      ]
     },
     "execution_count": 3,
     "metadata": {},
     "output_type": "execute_result"
    }
   ],
   "source": [
    "#hide\n",
    "paths['mapping']"
   ]
  },
  {
   "cell_type": "code",
   "execution_count": 4,
   "id": "urban-software",
   "metadata": {
    "execution": {
     "iopub.execute_input": "2022-09-29T01:03:09.061959Z",
     "iopub.status.busy": "2022-09-29T01:03:09.061383Z",
     "iopub.status.idle": "2022-09-29T01:03:09.063928Z",
     "shell.execute_reply": "2022-09-29T01:03:09.063466Z"
    },
    "papermill": {
     "duration": 0.036606,
     "end_time": "2022-09-29T01:03:09.064030",
     "exception": false,
     "start_time": "2022-09-29T01:03:09.027424",
     "status": "completed"
    },
    "tags": []
   },
   "outputs": [],
   "source": [
    "#hide\n",
    "def get_mappings(url):\n",
    "    df = pd.read_csv(url)\n",
    "    return {\n",
    "        'df': df,\n",
    "        'replace.country': dict(df.dropna(subset=['Name']).set_index('Country')['Name']),\n",
    "        'map.continent': dict(df.set_index('Name')['Continent'])\n",
    "    }"
   ]
  },
  {
   "cell_type": "code",
   "execution_count": 5,
   "id": "intimate-machinery",
   "metadata": {
    "execution": {
     "iopub.execute_input": "2022-09-29T01:03:09.127910Z",
     "iopub.status.busy": "2022-09-29T01:03:09.127331Z",
     "iopub.status.idle": "2022-09-29T01:03:09.166758Z",
     "shell.execute_reply": "2022-09-29T01:03:09.166217Z"
    },
    "papermill": {
     "duration": 0.073515,
     "end_time": "2022-09-29T01:03:09.166874",
     "exception": false,
     "start_time": "2022-09-29T01:03:09.093359",
     "status": "completed"
    },
    "tags": []
   },
   "outputs": [],
   "source": [
    "#hide\n",
    "mapping = get_mappings(paths['mapping'])"
   ]
  },
  {
   "cell_type": "code",
   "execution_count": 6,
   "id": "certified-tactics",
   "metadata": {
    "execution": {
     "iopub.execute_input": "2022-09-29T01:03:09.231217Z",
     "iopub.status.busy": "2022-09-29T01:03:09.230618Z",
     "iopub.status.idle": "2022-09-29T01:03:09.233161Z",
     "shell.execute_reply": "2022-09-29T01:03:09.232565Z"
    },
    "papermill": {
     "duration": 0.036813,
     "end_time": "2022-09-29T01:03:09.233269",
     "exception": false,
     "start_time": "2022-09-29T01:03:09.196456",
     "status": "completed"
    },
    "tags": []
   },
   "outputs": [],
   "source": [
    "#hide\n",
    "def get_template(path):\n",
    "    from urllib.parse import urlparse\n",
    "    if bool(urlparse(path).netloc):\n",
    "        from urllib.request import urlopen\n",
    "        return urlopen(path).read().decode('utf8')\n",
    "    return open(path).read()"
   ]
  },
  {
   "cell_type": "code",
   "execution_count": 7,
   "id": "realistic-blast",
   "metadata": {
    "execution": {
     "iopub.execute_input": "2022-09-29T01:03:09.297399Z",
     "iopub.status.busy": "2022-09-29T01:03:09.296792Z",
     "iopub.status.idle": "2022-09-29T01:03:09.298878Z",
     "shell.execute_reply": "2022-09-29T01:03:09.299350Z"
    },
    "papermill": {
     "duration": 0.036815,
     "end_time": "2022-09-29T01:03:09.299470",
     "exception": false,
     "start_time": "2022-09-29T01:03:09.262655",
     "status": "completed"
    },
    "tags": []
   },
   "outputs": [],
   "source": [
    "#hide\n",
    "def get_frame(name):\n",
    "    url = (\n",
    "        'https://raw.githubusercontent.com/CSSEGISandData/COVID-19/master/csse_covid_19_data/'\n",
    "        f'csse_covid_19_time_series/time_series_covid19_{name}_global.csv')\n",
    "    df = pd.read_csv(url)\n",
    "    # rename countries\n",
    "    df['Country/Region'] = df['Country/Region'].replace(mapping['replace.country'])\n",
    "    return df"
   ]
  },
  {
   "cell_type": "code",
   "execution_count": 8,
   "id": "affiliated-characterization",
   "metadata": {
    "execution": {
     "iopub.execute_input": "2022-09-29T01:03:09.364156Z",
     "iopub.status.busy": "2022-09-29T01:03:09.363579Z",
     "iopub.status.idle": "2022-09-29T01:03:09.366182Z",
     "shell.execute_reply": "2022-09-29T01:03:09.365716Z"
    },
    "papermill": {
     "duration": 0.037301,
     "end_time": "2022-09-29T01:03:09.366284",
     "exception": false,
     "start_time": "2022-09-29T01:03:09.328983",
     "status": "completed"
    },
    "tags": []
   },
   "outputs": [],
   "source": [
    "#hide\n",
    "def get_dates(df):\n",
    "    dt_cols = df.columns[~df.columns.isin(['Province/State', 'Country/Region', 'Lat', 'Long'])]\n",
    "    LAST_DATE_I = -1\n",
    "    # sometimes last column may be empty, then go backwards\n",
    "    for i in range(-1, -len(dt_cols), -1):\n",
    "        if not df[dt_cols[i]].fillna(0).eq(0).all():\n",
    "            LAST_DATE_I = i\n",
    "            break\n",
    "    return LAST_DATE_I, dt_cols"
   ]
  },
  {
   "cell_type": "code",
   "execution_count": 9,
   "id": "recent-optimization",
   "metadata": {
    "execution": {
     "iopub.execute_input": "2022-09-29T01:03:09.429315Z",
     "iopub.status.busy": "2022-09-29T01:03:09.428703Z",
     "iopub.status.idle": "2022-09-29T01:03:10.000206Z",
     "shell.execute_reply": "2022-09-29T01:03:09.999634Z"
    },
    "papermill": {
     "duration": 0.604813,
     "end_time": "2022-09-29T01:03:10.000343",
     "exception": false,
     "start_time": "2022-09-29T01:03:09.395530",
     "status": "completed"
    },
    "tags": []
   },
   "outputs": [],
   "source": [
    "#hide\n",
    "COL_REGION = 'Country/Region'\n",
    "# Confirmed, Recovered, Deaths\n",
    "df = get_frame('confirmed')\n",
    "# dft_: timeseries, dfc_: today country agg\n",
    "dft_cases = df\n",
    "dft_deaths = get_frame('deaths')\n",
    "dft_recovered = get_frame('recovered')\n",
    "LAST_DATE_I, dt_cols = get_dates(df)"
   ]
  },
  {
   "cell_type": "code",
   "execution_count": 10,
   "id": "absolute-copper",
   "metadata": {
    "execution": {
     "iopub.execute_input": "2022-09-29T01:03:10.065859Z",
     "iopub.status.busy": "2022-09-29T01:03:10.065281Z",
     "iopub.status.idle": "2022-09-29T01:03:10.067708Z",
     "shell.execute_reply": "2022-09-29T01:03:10.068258Z"
    },
    "papermill": {
     "duration": 0.038108,
     "end_time": "2022-09-29T01:03:10.068380",
     "exception": false,
     "start_time": "2022-09-29T01:03:10.030272",
     "status": "completed"
    },
    "tags": []
   },
   "outputs": [],
   "source": [
    "#hide\n",
    "LAST_DATE_I, dt_cols = get_dates(df)\n",
    "dt_today =dt_cols[LAST_DATE_I]\n",
    "# dt_5day = dt_cols[LAST_DATE_I - 5]\n",
    "dt_yday = dt_cols[LAST_DATE_I - 1]"
   ]
  },
  {
   "cell_type": "code",
   "execution_count": 11,
   "id": "restricted-sheriff",
   "metadata": {
    "execution": {
     "iopub.execute_input": "2022-09-29T01:03:10.133028Z",
     "iopub.status.busy": "2022-09-29T01:03:10.132412Z",
     "iopub.status.idle": "2022-09-29T01:03:10.140352Z",
     "shell.execute_reply": "2022-09-29T01:03:10.139885Z"
    },
    "papermill": {
     "duration": 0.042724,
     "end_time": "2022-09-29T01:03:10.140458",
     "exception": false,
     "start_time": "2022-09-29T01:03:10.097734",
     "status": "completed"
    },
    "tags": []
   },
   "outputs": [],
   "source": [
    "#hide\n",
    "dfc_cases = dft_cases.groupby(COL_REGION)[dt_today].sum()\n",
    "dfc_deaths = dft_deaths.groupby(COL_REGION)[dt_today].sum()\n",
    "# dfp_cases = dft_cases.groupby(COL_REGION)[dt_5day].sum()\n",
    "# dfp_deaths = dft_deaths.groupby(COL_REGION)[dt_5day].sum()\n",
    "dfp_cases = dft_cases.groupby(COL_REGION)[dt_yday].sum()\n",
    "dfp_deaths = dft_deaths.groupby(COL_REGION)[dt_yday].sum()"
   ]
  },
  {
   "cell_type": "code",
   "execution_count": 12,
   "id": "deluxe-hepatitis",
   "metadata": {
    "execution": {
     "iopub.execute_input": "2022-09-29T01:03:10.205809Z",
     "iopub.status.busy": "2022-09-29T01:03:10.205218Z",
     "iopub.status.idle": "2022-09-29T01:03:10.210133Z",
     "shell.execute_reply": "2022-09-29T01:03:10.210683Z"
    },
    "papermill": {
     "duration": 0.04076,
     "end_time": "2022-09-29T01:03:10.210808",
     "exception": false,
     "start_time": "2022-09-29T01:03:10.170048",
     "status": "completed"
    },
    "tags": []
   },
   "outputs": [],
   "source": [
    "#hide\n",
    "df_table = (pd.DataFrame(dict(Cases = dfc_cases, Deaths = dfc_deaths, PCases = dfp_cases, PDeaths = dfp_deaths))\n",
    "            .sort_values(by = ['Cases','Deaths'], ascending = [False, False])\n",
    "            .reset_index())"
   ]
  },
  {
   "cell_type": "code",
   "execution_count": 13,
   "id": "educational-chancellor",
   "metadata": {
    "execution": {
     "iopub.execute_input": "2022-09-29T01:03:10.287293Z",
     "iopub.status.busy": "2022-09-29T01:03:10.286707Z",
     "iopub.status.idle": "2022-09-29T01:03:10.294842Z",
     "shell.execute_reply": "2022-09-29T01:03:10.294373Z"
    },
    "papermill": {
     "duration": 0.054746,
     "end_time": "2022-09-29T01:03:10.294947",
     "exception": false,
     "start_time": "2022-09-29T01:03:10.240201",
     "status": "completed"
    },
    "tags": []
   },
   "outputs": [
    {
     "data": {
      "text/html": [
       "<div>\n",
       "<style scoped>\n",
       "    .dataframe tbody tr th:only-of-type {\n",
       "        vertical-align: middle;\n",
       "    }\n",
       "\n",
       "    .dataframe tbody tr th {\n",
       "        vertical-align: top;\n",
       "    }\n",
       "\n",
       "    .dataframe thead th {\n",
       "        text-align: right;\n",
       "    }\n",
       "</style>\n",
       "<table border=\"1\" class=\"dataframe\">\n",
       "  <thead>\n",
       "    <tr style=\"text-align: right;\">\n",
       "      <th></th>\n",
       "      <th>Country/Region</th>\n",
       "      <th>Cases</th>\n",
       "      <th>Deaths</th>\n",
       "      <th>PCases</th>\n",
       "      <th>PDeaths</th>\n",
       "      <th>Cases (+)</th>\n",
       "      <th>Deaths (+)</th>\n",
       "      <th>Fatality Rate</th>\n",
       "      <th>Continent</th>\n",
       "    </tr>\n",
       "  </thead>\n",
       "  <tbody>\n",
       "    <tr>\n",
       "      <th>0</th>\n",
       "      <td>US</td>\n",
       "      <td>96162670</td>\n",
       "      <td>1057246</td>\n",
       "      <td>96118300</td>\n",
       "      <td>1056816</td>\n",
       "      <td>44370</td>\n",
       "      <td>430</td>\n",
       "      <td>1.10</td>\n",
       "      <td>North America</td>\n",
       "    </tr>\n",
       "    <tr>\n",
       "      <th>1</th>\n",
       "      <td>India</td>\n",
       "      <td>44579088</td>\n",
       "      <td>528584</td>\n",
       "      <td>44575473</td>\n",
       "      <td>528562</td>\n",
       "      <td>3615</td>\n",
       "      <td>22</td>\n",
       "      <td>1.19</td>\n",
       "      <td>Asia</td>\n",
       "    </tr>\n",
       "    <tr>\n",
       "      <th>2</th>\n",
       "      <td>France</td>\n",
       "      <td>35456751</td>\n",
       "      <td>156049</td>\n",
       "      <td>35381526</td>\n",
       "      <td>156000</td>\n",
       "      <td>75225</td>\n",
       "      <td>49</td>\n",
       "      <td>0.44</td>\n",
       "      <td>Europe</td>\n",
       "    </tr>\n",
       "    <tr>\n",
       "      <th>3</th>\n",
       "      <td>Brazil</td>\n",
       "      <td>34638288</td>\n",
       "      <td>685835</td>\n",
       "      <td>34638288</td>\n",
       "      <td>685835</td>\n",
       "      <td>0</td>\n",
       "      <td>0</td>\n",
       "      <td>1.98</td>\n",
       "      <td>South America</td>\n",
       "    </tr>\n",
       "    <tr>\n",
       "      <th>4</th>\n",
       "      <td>Germany</td>\n",
       "      <td>33137143</td>\n",
       "      <td>149714</td>\n",
       "      <td>33041332</td>\n",
       "      <td>149576</td>\n",
       "      <td>95811</td>\n",
       "      <td>138</td>\n",
       "      <td>0.45</td>\n",
       "      <td>Europe</td>\n",
       "    </tr>\n",
       "  </tbody>\n",
       "</table>\n",
       "</div>"
      ],
      "text/plain": [
       "  Country/Region     Cases   Deaths    PCases  PDeaths  Cases (+)  Deaths (+)  \\\n",
       "0             US  96162670  1057246  96118300  1056816      44370         430   \n",
       "1          India  44579088   528584  44575473   528562       3615          22   \n",
       "2         France  35456751   156049  35381526   156000      75225          49   \n",
       "3         Brazil  34638288   685835  34638288   685835          0           0   \n",
       "4        Germany  33137143   149714  33041332   149576      95811         138   \n",
       "\n",
       "   Fatality Rate      Continent  \n",
       "0           1.10  North America  \n",
       "1           1.19           Asia  \n",
       "2           0.44         Europe  \n",
       "3           1.98  South America  \n",
       "4           0.45         Europe  "
      ]
     },
     "execution_count": 13,
     "metadata": {},
     "output_type": "execute_result"
    }
   ],
   "source": [
    "#hide\n",
    "for c in 'Cases, Deaths'.split(', '):\n",
    "    df_table[f'{c} (+)'] = (df_table[c] - df_table[f'P{c}']).clip(0)\n",
    "    #Clip ça veut dire, les chiffres negatif sont interdit\n",
    "df_table['Fatality Rate'] = (100* df_table['Deaths']/ df_table['Cases']).round(2)\n",
    "df_table['Continent'] = df_table['Country/Region'].map(mapping['map.continent'])\n",
    "df_table.head(5)"
   ]
  },
  {
   "cell_type": "code",
   "execution_count": 14,
   "id": "aboriginal-bulgaria",
   "metadata": {
    "execution": {
     "iopub.execute_input": "2022-09-29T01:03:10.359613Z",
     "iopub.status.busy": "2022-09-29T01:03:10.359034Z",
     "iopub.status.idle": "2022-09-29T01:03:10.362085Z",
     "shell.execute_reply": "2022-09-29T01:03:10.362557Z"
    },
    "papermill": {
     "duration": 0.037756,
     "end_time": "2022-09-29T01:03:10.362675",
     "exception": false,
     "start_time": "2022-09-29T01:03:10.324919",
     "status": "completed"
    },
    "tags": []
   },
   "outputs": [],
   "source": [
    "#hide\n",
    "#delete problematic countries from table\n",
    "df_table = df_table[~df_table['Country/Region'].isin(['Cape Verde', 'Cruise Ship', 'Kosovo'])]"
   ]
  },
  {
   "cell_type": "code",
   "execution_count": 15,
   "id": "fantastic-effect",
   "metadata": {
    "execution": {
     "iopub.execute_input": "2022-09-29T01:03:10.430604Z",
     "iopub.status.busy": "2022-09-29T01:03:10.430029Z",
     "iopub.status.idle": "2022-09-29T01:03:10.447373Z",
     "shell.execute_reply": "2022-09-29T01:03:10.447793Z"
    },
    "papermill": {
     "duration": 0.055383,
     "end_time": "2022-09-29T01:03:10.447918",
     "exception": false,
     "start_time": "2022-09-29T01:03:10.392535",
     "status": "completed"
    },
    "tags": []
   },
   "outputs": [
    {
     "data": {
      "text/html": [
       "<div>\n",
       "<style scoped>\n",
       "    .dataframe tbody tr th:only-of-type {\n",
       "        vertical-align: middle;\n",
       "    }\n",
       "\n",
       "    .dataframe tbody tr th {\n",
       "        vertical-align: top;\n",
       "    }\n",
       "\n",
       "    .dataframe thead th {\n",
       "        text-align: right;\n",
       "    }\n",
       "</style>\n",
       "<table border=\"1\" class=\"dataframe\">\n",
       "  <thead>\n",
       "    <tr style=\"text-align: right;\">\n",
       "      <th></th>\n",
       "      <th>Country/Region</th>\n",
       "      <th>Cases</th>\n",
       "      <th>Deaths</th>\n",
       "      <th>PCases</th>\n",
       "      <th>PDeaths</th>\n",
       "      <th>Cases (+)</th>\n",
       "      <th>Deaths (+)</th>\n",
       "      <th>Fatality Rate</th>\n",
       "      <th>Continent</th>\n",
       "    </tr>\n",
       "  </thead>\n",
       "  <tbody>\n",
       "    <tr>\n",
       "      <th>0</th>\n",
       "      <td>US</td>\n",
       "      <td>96162670</td>\n",
       "      <td>1057246</td>\n",
       "      <td>96118300</td>\n",
       "      <td>1056816</td>\n",
       "      <td>44370</td>\n",
       "      <td>430</td>\n",
       "      <td>1.1</td>\n",
       "      <td>North America</td>\n",
       "    </tr>\n",
       "    <tr>\n",
       "      <th>1</th>\n",
       "      <td>India</td>\n",
       "      <td>44579088</td>\n",
       "      <td>528584</td>\n",
       "      <td>44575473</td>\n",
       "      <td>528562</td>\n",
       "      <td>3615</td>\n",
       "      <td>22</td>\n",
       "      <td>1.2</td>\n",
       "      <td>Asia</td>\n",
       "    </tr>\n",
       "    <tr>\n",
       "      <th>2</th>\n",
       "      <td>France</td>\n",
       "      <td>35456751</td>\n",
       "      <td>156049</td>\n",
       "      <td>35381526</td>\n",
       "      <td>156000</td>\n",
       "      <td>75225</td>\n",
       "      <td>49</td>\n",
       "      <td>0.4</td>\n",
       "      <td>Europe</td>\n",
       "    </tr>\n",
       "    <tr>\n",
       "      <th>3</th>\n",
       "      <td>Brazil</td>\n",
       "      <td>34638288</td>\n",
       "      <td>685835</td>\n",
       "      <td>34638288</td>\n",
       "      <td>685835</td>\n",
       "      <td>0</td>\n",
       "      <td>0</td>\n",
       "      <td>2.0</td>\n",
       "      <td>South America</td>\n",
       "    </tr>\n",
       "    <tr>\n",
       "      <th>4</th>\n",
       "      <td>Germany</td>\n",
       "      <td>33137143</td>\n",
       "      <td>149714</td>\n",
       "      <td>33041332</td>\n",
       "      <td>149576</td>\n",
       "      <td>95811</td>\n",
       "      <td>138</td>\n",
       "      <td>0.5</td>\n",
       "      <td>Europe</td>\n",
       "    </tr>\n",
       "  </tbody>\n",
       "</table>\n",
       "</div>"
      ],
      "text/plain": [
       "  Country/Region     Cases   Deaths    PCases  PDeaths  Cases (+)  Deaths (+)  \\\n",
       "0             US  96162670  1057246  96118300  1056816      44370         430   \n",
       "1          India  44579088   528584  44575473   528562       3615          22   \n",
       "2         France  35456751   156049  35381526   156000      75225          49   \n",
       "3         Brazil  34638288   685835  34638288   685835          0           0   \n",
       "4        Germany  33137143   149714  33041332   149576      95811         138   \n",
       "\n",
       "   Fatality Rate      Continent  \n",
       "0            1.1  North America  \n",
       "1            1.2           Asia  \n",
       "2            0.4         Europe  \n",
       "3            2.0  South America  \n",
       "4            0.5         Europe  "
      ]
     },
     "execution_count": 15,
     "metadata": {},
     "output_type": "execute_result"
    }
   ],
   "source": [
    "#hide\n",
    "df_table = (pd.DataFrame(dict(Cases=dfc_cases, Deaths=dfc_deaths, PCases=dfp_cases, PDeaths=dfp_deaths))\n",
    "             .sort_values(by=['Cases', 'Deaths'], ascending=[False, False])\n",
    "             .reset_index())\n",
    "df_table.rename(columns={'index': 'Country/Region'}, inplace=True)\n",
    "for c in 'Cases, Deaths'.split(', '):\n",
    "    df_table[f'{c} (+)'] = (df_table[c] - df_table[f'P{c}']).clip(0)  # DATA BUG\n",
    "df_table['Fatality Rate'] = (100 * df_table['Deaths'] / df_table['Cases']).round(1)\n",
    "df_table['Continent'] = df_table['Country/Region'].map(mapping['map.continent'])\n",
    "df_table.head(5)"
   ]
  },
  {
   "cell_type": "code",
   "execution_count": 16,
   "id": "fewer-occasion",
   "metadata": {
    "execution": {
     "iopub.execute_input": "2022-09-29T01:03:10.515126Z",
     "iopub.status.busy": "2022-09-29T01:03:10.514550Z",
     "iopub.status.idle": "2022-09-29T01:03:10.516819Z",
     "shell.execute_reply": "2022-09-29T01:03:10.517383Z"
    },
    "papermill": {
     "duration": 0.038847,
     "end_time": "2022-09-29T01:03:10.517510",
     "exception": false,
     "start_time": "2022-09-29T01:03:10.478663",
     "status": "completed"
    },
    "tags": []
   },
   "outputs": [],
   "source": [
    "#hide\n",
    "#delete problematic countries from table\n",
    "df_table = df_table[~df_table['Country/Region'].isin(['Cape Verde', 'Cruise Ship', 'Kosovo'])]"
   ]
  },
  {
   "cell_type": "code",
   "execution_count": 17,
   "id": "related-center",
   "metadata": {
    "execution": {
     "iopub.execute_input": "2022-09-29T01:03:10.586639Z",
     "iopub.status.busy": "2022-09-29T01:03:10.586050Z",
     "iopub.status.idle": "2022-09-29T01:03:10.598405Z",
     "shell.execute_reply": "2022-09-29T01:03:10.597926Z"
    },
    "papermill": {
     "duration": 0.050593,
     "end_time": "2022-09-29T01:03:10.598514",
     "exception": false,
     "start_time": "2022-09-29T01:03:10.547921",
     "status": "completed"
    },
    "tags": []
   },
   "outputs": [],
   "source": [
    "#hide\n",
    "metrics = [df_table.columns[index] for index in [1,2,5,6]]\n",
    "# s_china = df_table[df_table['Country/Region'].eq('China')][metrics].sum().add_prefix('China ')\n",
    "s_us = df_table[df_table['Country/Region'].eq('US')][metrics].sum().add_prefix('US ')\n",
    "s_eu = df_table[df_table['Continent'].eq('Europe')][metrics].sum().add_prefix('EU ')\n",
    "s_ind = df_table[df_table['Country/Region'].eq('India')][metrics].sum().add_prefix('India ')\n",
    "summary = {'updated': pd.to_datetime(dt_today), 'since': pd.to_datetime(dt_yday)}\n",
    "summary = {'updated': pd.to_datetime(dt_today), 'since': pd.to_datetime(dt_yday)}\n",
    "summary = {**summary, **df_table[metrics].sum(), **s_ind, **s_us, **s_eu}"
   ]
  },
  {
   "cell_type": "code",
   "execution_count": 18,
   "id": "engaging-syndrome",
   "metadata": {
    "execution": {
     "iopub.execute_input": "2022-09-29T01:03:10.664624Z",
     "iopub.status.busy": "2022-09-29T01:03:10.664038Z",
     "iopub.status.idle": "2022-09-29T01:03:10.684508Z",
     "shell.execute_reply": "2022-09-29T01:03:10.684052Z"
    },
    "papermill": {
     "duration": 0.055555,
     "end_time": "2022-09-29T01:03:10.684620",
     "exception": false,
     "start_time": "2022-09-29T01:03:10.629065",
     "status": "completed"
    },
    "tags": []
   },
   "outputs": [],
   "source": [
    "#hide\n",
    "dft_ct_new_cases = dft_cases.groupby(COL_REGION)[dt_cols].sum().diff(axis=1).fillna(0).astype(int)"
   ]
  },
  {
   "cell_type": "code",
   "execution_count": 19,
   "id": "neutral-assignment",
   "metadata": {
    "execution": {
     "iopub.execute_input": "2022-09-29T01:03:10.751870Z",
     "iopub.status.busy": "2022-09-29T01:03:10.751297Z",
     "iopub.status.idle": "2022-09-29T01:03:10.753734Z",
     "shell.execute_reply": "2022-09-29T01:03:10.754282Z"
    },
    "papermill": {
     "duration": 0.039351,
     "end_time": "2022-09-29T01:03:10.754404",
     "exception": false,
     "start_time": "2022-09-29T01:03:10.715053",
     "status": "completed"
    },
    "tags": []
   },
   "outputs": [],
   "source": [
    "#hide\n",
    "everydaycases = dft_ct_new_cases.cumsum(axis=1)"
   ]
  },
  {
   "cell_type": "code",
   "execution_count": 20,
   "id": "parliamentary-calgary",
   "metadata": {
    "execution": {
     "iopub.execute_input": "2022-09-29T01:03:10.819999Z",
     "iopub.status.busy": "2022-09-29T01:03:10.819421Z",
     "iopub.status.idle": "2022-09-29T01:03:11.356000Z",
     "shell.execute_reply": "2022-09-29T01:03:11.355449Z"
    },
    "papermill": {
     "duration": 0.570827,
     "end_time": "2022-09-29T01:03:11.356122",
     "exception": false,
     "start_time": "2022-09-29T01:03:10.785295",
     "status": "completed"
    },
    "tags": []
   },
   "outputs": [],
   "source": [
    "#hide\n",
    "import pandas as pd\n",
    "import matplotlib.pyplot as plt\n",
    "import matplotlib.ticker as ticker\n",
    "import matplotlib.animation as animation\n",
    "from IPython.display import HTML"
   ]
  },
  {
   "cell_type": "code",
   "execution_count": 21,
   "id": "lasting-extraction",
   "metadata": {
    "execution": {
     "iopub.execute_input": "2022-09-29T01:03:11.424727Z",
     "iopub.status.busy": "2022-09-29T01:03:11.424134Z",
     "iopub.status.idle": "2022-09-29T01:03:11.431212Z",
     "shell.execute_reply": "2022-09-29T01:03:11.431763Z"
    },
    "papermill": {
     "duration": 0.045098,
     "end_time": "2022-09-29T01:03:11.431891",
     "exception": false,
     "start_time": "2022-09-29T01:03:11.386793",
     "status": "completed"
    },
    "tags": []
   },
   "outputs": [],
   "source": [
    "#hide\n",
    "t = everydaycases.stack()"
   ]
  },
  {
   "cell_type": "code",
   "execution_count": 22,
   "id": "premier-sleeve",
   "metadata": {
    "execution": {
     "iopub.execute_input": "2022-09-29T01:03:11.498047Z",
     "iopub.status.busy": "2022-09-29T01:03:11.497460Z",
     "iopub.status.idle": "2022-09-29T01:03:11.509628Z",
     "shell.execute_reply": "2022-09-29T01:03:11.510049Z"
    },
    "papermill": {
     "duration": 0.047545,
     "end_time": "2022-09-29T01:03:11.510180",
     "exception": false,
     "start_time": "2022-09-29T01:03:11.462635",
     "status": "completed"
    },
    "tags": []
   },
   "outputs": [],
   "source": [
    "#hide\n",
    "g = t.reset_index(['Country/Region'])"
   ]
  },
  {
   "cell_type": "code",
   "execution_count": 23,
   "id": "distributed-pittsburgh",
   "metadata": {
    "execution": {
     "iopub.execute_input": "2022-09-29T01:03:11.575403Z",
     "iopub.status.busy": "2022-09-29T01:03:11.574829Z",
     "iopub.status.idle": "2022-09-29T01:03:11.577231Z",
     "shell.execute_reply": "2022-09-29T01:03:11.577777Z"
    },
    "papermill": {
     "duration": 0.037393,
     "end_time": "2022-09-29T01:03:11.577898",
     "exception": false,
     "start_time": "2022-09-29T01:03:11.540505",
     "status": "completed"
    },
    "tags": []
   },
   "outputs": [],
   "source": [
    "#hide\n",
    "g.index.name = 'date'"
   ]
  },
  {
   "cell_type": "code",
   "execution_count": 24,
   "id": "naked-donor",
   "metadata": {
    "execution": {
     "iopub.execute_input": "2022-09-29T01:03:11.642432Z",
     "iopub.status.busy": "2022-09-29T01:03:11.641811Z",
     "iopub.status.idle": "2022-09-29T01:03:11.645587Z",
     "shell.execute_reply": "2022-09-29T01:03:11.645110Z"
    },
    "papermill": {
     "duration": 0.037399,
     "end_time": "2022-09-29T01:03:11.645691",
     "exception": false,
     "start_time": "2022-09-29T01:03:11.608292",
     "status": "completed"
    },
    "tags": []
   },
   "outputs": [],
   "source": [
    "# #hide\n",
    "# g = g.reset_index(['date'])"
   ]
  },
  {
   "cell_type": "code",
   "execution_count": 25,
   "id": "incomplete-mustang",
   "metadata": {
    "execution": {
     "iopub.execute_input": "2022-09-29T01:03:11.710217Z",
     "iopub.status.busy": "2022-09-29T01:03:11.709557Z",
     "iopub.status.idle": "2022-09-29T01:03:11.712114Z",
     "shell.execute_reply": "2022-09-29T01:03:11.711479Z"
    },
    "papermill": {
     "duration": 0.036129,
     "end_time": "2022-09-29T01:03:11.712228",
     "exception": false,
     "start_time": "2022-09-29T01:03:11.676099",
     "status": "completed"
    },
    "tags": []
   },
   "outputs": [],
   "source": [
    "#hide\n",
    "# g.head()"
   ]
  },
  {
   "cell_type": "code",
   "execution_count": 26,
   "id": "specific-kruger",
   "metadata": {
    "execution": {
     "iopub.execute_input": "2022-09-29T01:03:11.776830Z",
     "iopub.status.busy": "2022-09-29T01:03:11.776151Z",
     "iopub.status.idle": "2022-09-29T01:03:11.778762Z",
     "shell.execute_reply": "2022-09-29T01:03:11.778127Z"
    },
    "papermill": {
     "duration": 0.035923,
     "end_time": "2022-09-29T01:03:11.778877",
     "exception": false,
     "start_time": "2022-09-29T01:03:11.742954",
     "status": "completed"
    },
    "tags": []
   },
   "outputs": [],
   "source": [
    "#hide\n",
    "# g.columns = ['date','country','cases']"
   ]
  },
  {
   "cell_type": "code",
   "execution_count": 27,
   "id": "tender-conversion",
   "metadata": {
    "execution": {
     "iopub.execute_input": "2022-09-29T01:03:11.844832Z",
     "iopub.status.busy": "2022-09-29T01:03:11.844135Z",
     "iopub.status.idle": "2022-09-29T01:03:11.848018Z",
     "shell.execute_reply": "2022-09-29T01:03:11.847546Z"
    },
    "papermill": {
     "duration": 0.037698,
     "end_time": "2022-09-29T01:03:11.848121",
     "exception": false,
     "start_time": "2022-09-29T01:03:11.810423",
     "status": "completed"
    },
    "tags": []
   },
   "outputs": [],
   "source": [
    "#hide\n",
    "# g['continent'] = g.country"
   ]
  },
  {
   "cell_type": "code",
   "execution_count": 28,
   "id": "substantial-wilderness",
   "metadata": {
    "execution": {
     "iopub.execute_input": "2022-09-29T01:03:11.913641Z",
     "iopub.status.busy": "2022-09-29T01:03:11.912958Z",
     "iopub.status.idle": "2022-09-29T01:03:11.915465Z",
     "shell.execute_reply": "2022-09-29T01:03:11.914825Z"
    },
    "papermill": {
     "duration": 0.03685,
     "end_time": "2022-09-29T01:03:11.915581",
     "exception": false,
     "start_time": "2022-09-29T01:03:11.878731",
     "status": "completed"
    },
    "tags": []
   },
   "outputs": [],
   "source": [
    "#hide\n",
    "# cols = list(g.columns.values)"
   ]
  },
  {
   "cell_type": "code",
   "execution_count": 29,
   "id": "solved-farming",
   "metadata": {
    "execution": {
     "iopub.execute_input": "2022-09-29T01:03:11.979760Z",
     "iopub.status.busy": "2022-09-29T01:03:11.979191Z",
     "iopub.status.idle": "2022-09-29T01:03:11.981425Z",
     "shell.execute_reply": "2022-09-29T01:03:11.981901Z"
    },
    "papermill": {
     "duration": 0.035975,
     "end_time": "2022-09-29T01:03:11.982017",
     "exception": false,
     "start_time": "2022-09-29T01:03:11.946042",
     "status": "completed"
    },
    "tags": []
   },
   "outputs": [],
   "source": [
    "#hide\n",
    "# cols.insert(0, cols.pop())"
   ]
  },
  {
   "cell_type": "code",
   "execution_count": 30,
   "id": "executed-adoption",
   "metadata": {
    "execution": {
     "iopub.execute_input": "2022-09-29T01:03:12.047188Z",
     "iopub.status.busy": "2022-09-29T01:03:12.046514Z",
     "iopub.status.idle": "2022-09-29T01:03:12.050185Z",
     "shell.execute_reply": "2022-09-29T01:03:12.050636Z"
    },
    "papermill": {
     "duration": 0.038333,
     "end_time": "2022-09-29T01:03:12.050760",
     "exception": false,
     "start_time": "2022-09-29T01:03:12.012427",
     "status": "completed"
    },
    "tags": []
   },
   "outputs": [],
   "source": [
    "#hide\n",
    "# g = g[cols]"
   ]
  },
  {
   "cell_type": "code",
   "execution_count": 31,
   "id": "subject-dublin",
   "metadata": {
    "execution": {
     "iopub.execute_input": "2022-09-29T01:03:12.114772Z",
     "iopub.status.busy": "2022-09-29T01:03:12.114207Z",
     "iopub.status.idle": "2022-09-29T01:03:12.116637Z",
     "shell.execute_reply": "2022-09-29T01:03:12.116086Z"
    },
    "papermill": {
     "duration": 0.035663,
     "end_time": "2022-09-29T01:03:12.116738",
     "exception": false,
     "start_time": "2022-09-29T01:03:12.081075",
     "status": "completed"
    },
    "tags": []
   },
   "outputs": [],
   "source": [
    "#hide\n",
    "# g['continent'] = g['continent'].map(mapping['map.continent'])"
   ]
  },
  {
   "cell_type": "code",
   "execution_count": 32,
   "id": "freelance-scout",
   "metadata": {
    "execution": {
     "iopub.execute_input": "2022-09-29T01:03:12.181379Z",
     "iopub.status.busy": "2022-09-29T01:03:12.180756Z",
     "iopub.status.idle": "2022-09-29T01:03:12.183855Z",
     "shell.execute_reply": "2022-09-29T01:03:12.183385Z"
    },
    "papermill": {
     "duration": 0.036674,
     "end_time": "2022-09-29T01:03:12.183957",
     "exception": false,
     "start_time": "2022-09-29T01:03:12.147283",
     "status": "completed"
    },
    "tags": []
   },
   "outputs": [],
   "source": [
    "#hide\n",
    "# g.head()"
   ]
  },
  {
   "cell_type": "code",
   "execution_count": 33,
   "id": "limited-engine",
   "metadata": {
    "execution": {
     "iopub.execute_input": "2022-09-29T01:03:12.248510Z",
     "iopub.status.busy": "2022-09-29T01:03:12.247936Z",
     "iopub.status.idle": "2022-09-29T01:03:12.250737Z",
     "shell.execute_reply": "2022-09-29T01:03:12.250275Z"
    },
    "papermill": {
     "duration": 0.03649,
     "end_time": "2022-09-29T01:03:12.250838",
     "exception": false,
     "start_time": "2022-09-29T01:03:12.214348",
     "status": "completed"
    },
    "tags": []
   },
   "outputs": [],
   "source": [
    "# hide\n",
    "# g['date'] = g['date'].astype('datetime64[ns]')"
   ]
  },
  {
   "cell_type": "code",
   "execution_count": 34,
   "id": "sophisticated-supervisor",
   "metadata": {
    "execution": {
     "iopub.execute_input": "2022-09-29T01:03:12.315230Z",
     "iopub.status.busy": "2022-09-29T01:03:12.314570Z",
     "iopub.status.idle": "2022-09-29T01:03:12.317092Z",
     "shell.execute_reply": "2022-09-29T01:03:12.316428Z"
    },
    "papermill": {
     "duration": 0.035933,
     "end_time": "2022-09-29T01:03:12.317208",
     "exception": false,
     "start_time": "2022-09-29T01:03:12.281275",
     "status": "completed"
    },
    "tags": []
   },
   "outputs": [],
   "source": [
    "#hide\n",
    "# g['date'] = g.date.dt.dayofyear"
   ]
  },
  {
   "cell_type": "code",
   "execution_count": 35,
   "id": "inside-dubai",
   "metadata": {
    "execution": {
     "iopub.execute_input": "2022-09-29T01:03:12.382244Z",
     "iopub.status.busy": "2022-09-29T01:03:12.381605Z",
     "iopub.status.idle": "2022-09-29T01:03:12.385396Z",
     "shell.execute_reply": "2022-09-29T01:03:12.384893Z"
    },
    "papermill": {
     "duration": 0.037393,
     "end_time": "2022-09-29T01:03:12.385501",
     "exception": false,
     "start_time": "2022-09-29T01:03:12.348108",
     "status": "completed"
    },
    "tags": []
   },
   "outputs": [],
   "source": [
    "#hide\n",
    "# g = g.rename(columns= {'continent':'group','country':'name','cases':'value'})"
   ]
  },
  {
   "cell_type": "code",
   "execution_count": 36,
   "id": "fleet-motorcycle",
   "metadata": {
    "execution": {
     "iopub.execute_input": "2022-09-29T01:03:12.450036Z",
     "iopub.status.busy": "2022-09-29T01:03:12.449382Z",
     "iopub.status.idle": "2022-09-29T01:03:12.451858Z",
     "shell.execute_reply": "2022-09-29T01:03:12.451224Z"
    },
    "papermill": {
     "duration": 0.035955,
     "end_time": "2022-09-29T01:03:12.451972",
     "exception": false,
     "start_time": "2022-09-29T01:03:12.416017",
     "status": "completed"
    },
    "tags": []
   },
   "outputs": [],
   "source": [
    "#hide\n",
    "# cols = ['name','group','day','value']"
   ]
  },
  {
   "cell_type": "code",
   "execution_count": 37,
   "id": "continued-sleeping",
   "metadata": {
    "execution": {
     "iopub.execute_input": "2022-09-29T01:03:12.516645Z",
     "iopub.status.busy": "2022-09-29T01:03:12.516077Z",
     "iopub.status.idle": "2022-09-29T01:03:12.518165Z",
     "shell.execute_reply": "2022-09-29T01:03:12.518608Z"
    },
    "papermill": {
     "duration": 0.036236,
     "end_time": "2022-09-29T01:03:12.518722",
     "exception": false,
     "start_time": "2022-09-29T01:03:12.482486",
     "status": "completed"
    },
    "tags": []
   },
   "outputs": [],
   "source": [
    "#hide\n",
    "# g.rename(columns= {'date':'day'},inplace = True)"
   ]
  },
  {
   "cell_type": "code",
   "execution_count": 38,
   "id": "major-fight",
   "metadata": {
    "execution": {
     "iopub.execute_input": "2022-09-29T01:03:12.583153Z",
     "iopub.status.busy": "2022-09-29T01:03:12.582578Z",
     "iopub.status.idle": "2022-09-29T01:03:12.584736Z",
     "shell.execute_reply": "2022-09-29T01:03:12.585309Z"
    },
    "papermill": {
     "duration": 0.036099,
     "end_time": "2022-09-29T01:03:12.585422",
     "exception": false,
     "start_time": "2022-09-29T01:03:12.549323",
     "status": "completed"
    },
    "tags": []
   },
   "outputs": [],
   "source": [
    "#hide\n",
    "# g = g[cols]"
   ]
  },
  {
   "cell_type": "code",
   "execution_count": 39,
   "id": "structured-mobile",
   "metadata": {
    "execution": {
     "iopub.execute_input": "2022-09-29T01:03:12.649387Z",
     "iopub.status.busy": "2022-09-29T01:03:12.648698Z",
     "iopub.status.idle": "2022-09-29T01:03:12.651218Z",
     "shell.execute_reply": "2022-09-29T01:03:12.650689Z"
    },
    "papermill": {
     "duration": 0.035801,
     "end_time": "2022-09-29T01:03:12.651329",
     "exception": false,
     "start_time": "2022-09-29T01:03:12.615528",
     "status": "completed"
    },
    "tags": []
   },
   "outputs": [],
   "source": [
    "# #hide\n",
    "# g = g[g.group.notna()]"
   ]
  },
  {
   "cell_type": "code",
   "execution_count": 40,
   "id": "determined-closing",
   "metadata": {
    "execution": {
     "iopub.execute_input": "2022-09-29T01:03:12.717457Z",
     "iopub.status.busy": "2022-09-29T01:03:12.716744Z",
     "iopub.status.idle": "2022-09-29T01:03:12.719088Z",
     "shell.execute_reply": "2022-09-29T01:03:12.718623Z"
    },
    "papermill": {
     "duration": 0.03667,
     "end_time": "2022-09-29T01:03:12.719191",
     "exception": false,
     "start_time": "2022-09-29T01:03:12.682521",
     "status": "completed"
    },
    "tags": []
   },
   "outputs": [],
   "source": [
    "# #hide\n",
    "# colors = dict(zip(\n",
    "#     [\"Oceania\", \"Europe\", \"Asia\", \"South America\", \"Middle East\", \"North America\", \"Africa\"],\n",
    "#     [\"#adb0ff\", \"#ffb3ff\", \"#90d595\", \"#e48381\", \"#aafbff\", \"#f7bb5f\", \"#eafb50\"]\n",
    "# ))\n",
    "# group_lk = g.set_index('name')['group'].to_dict()"
   ]
  },
  {
   "cell_type": "code",
   "execution_count": null,
   "id": "gross-drinking",
   "metadata": {
    "papermill": {
     "duration": 0.030344,
     "end_time": "2022-09-29T01:03:12.779861",
     "exception": false,
     "start_time": "2022-09-29T01:03:12.749517",
     "status": "completed"
    },
    "tags": []
   },
   "outputs": [],
   "source": []
  },
  {
   "cell_type": "code",
   "execution_count": 41,
   "id": "subject-macintosh",
   "metadata": {
    "execution": {
     "iopub.execute_input": "2022-09-29T01:03:12.845873Z",
     "iopub.status.busy": "2022-09-29T01:03:12.845259Z",
     "iopub.status.idle": "2022-09-29T01:03:12.848280Z",
     "shell.execute_reply": "2022-09-29T01:03:12.847809Z"
    },
    "papermill": {
     "duration": 0.037603,
     "end_time": "2022-09-29T01:03:12.848384",
     "exception": false,
     "start_time": "2022-09-29T01:03:12.810781",
     "status": "completed"
    },
    "tags": []
   },
   "outputs": [],
   "source": [
    "# #hide\n",
    "# fig, ax = plt.subplots(figsize=(15, 8))\n",
    "\n",
    "# def draw_barchart(current_day):\n",
    "#     dff = g[g['day'].eq(current_day)].sort_values(by='value', ascending=True).tail(10)\n",
    "#     ax.clear()\n",
    "#     ax.barh(dff['name'], dff['value'], color=[colors[group_lk[x]] for x in dff['name']])\n",
    "#     dx = dff['value'].max() / 200\n",
    "    \n",
    "#     for i, (value, name) in enumerate(zip(dff['value'], dff['name'])):\n",
    "#         ax.text(value-dx, i,     name,           size=14, weight=600, ha='right', va='bottom')\n",
    "#         ax.text(value-dx, i-.25, group_lk[name], size=10, color='#444444', ha='right', va='baseline')\n",
    "#         ax.text(value+dx, i,     f'{value:,.0f}',  size=14, ha='left',  va='center')\n",
    "#     ax.text(1, 0.4, current_day, transform=ax.transAxes, color='#777777', size=46, ha='right', weight=800)\n",
    "#     ax.text(0, 1.06, 'Population (thousands)', transform=ax.transAxes, size=12, color='#777777')\n",
    "#     ax.xaxis.set_major_formatter(ticker.StrMethodFormatter('{x:,.0f}'))\n",
    "#     ax.xaxis.set_ticks_position('top')\n",
    "#     ax.tick_params(axis='x', colors='#777777', labelsize=12)\n",
    "#     ax.set_yticks([])\n",
    "#     ax.margins(0, 0.01)\n",
    "#     ax.grid(which='major', axis='x', linestyle='-')\n",
    "#     ax.set_axisbelow(True)\n",
    "    \n",
    "#     ax.text(0, 1.15, 'Coronavirus',\n",
    "#             transform=ax.transAxes, size=24, weight=600, ha='left', va='top')\n",
    "# #     ax.text(1, 0, 'by @pratapvardhan; credit @jburnmurdoch', transform=ax.transAxes, color='#777777', ha='right',\n",
    "# #             bbox=dict(facecolor='white', alpha=0.8, edgecolor='white'))\n",
    "#     plt.box(False)"
   ]
  },
  {
   "cell_type": "code",
   "execution_count": 42,
   "id": "sexual-wages",
   "metadata": {
    "execution": {
     "iopub.execute_input": "2022-09-29T01:03:12.912813Z",
     "iopub.status.busy": "2022-09-29T01:03:12.912212Z",
     "iopub.status.idle": "2022-09-29T01:03:12.914460Z",
     "shell.execute_reply": "2022-09-29T01:03:12.915010Z"
    },
    "papermill": {
     "duration": 0.036362,
     "end_time": "2022-09-29T01:03:12.915128",
     "exception": false,
     "start_time": "2022-09-29T01:03:12.878766",
     "status": "completed"
    },
    "tags": []
   },
   "outputs": [],
   "source": [
    "# #hide_input\n",
    "# fig, ax = plt.subplots(figsize=(15, 8))\n",
    "# animator = animation.FuncAnimation(fig, draw_barchart, frames=range(g.day.values.min(), g.day.values.max()))\n",
    "# HTML(animator.to_jshtml())\n",
    "# # or use animator.to_html5_video() or animator.save() "
   ]
  },
  {
   "cell_type": "code",
   "execution_count": null,
   "id": "australian-container",
   "metadata": {
    "papermill": {
     "duration": 0.030371,
     "end_time": "2022-09-29T01:03:12.975955",
     "exception": false,
     "start_time": "2022-09-29T01:03:12.945584",
     "status": "completed"
    },
    "tags": []
   },
   "outputs": [],
   "source": []
  },
  {
   "cell_type": "code",
   "execution_count": null,
   "id": "mediterranean-pontiac",
   "metadata": {
    "papermill": {
     "duration": 0.030324,
     "end_time": "2022-09-29T01:03:13.036710",
     "exception": false,
     "start_time": "2022-09-29T01:03:13.006386",
     "status": "completed"
    },
    "tags": []
   },
   "outputs": [],
   "source": []
  },
  {
   "cell_type": "code",
   "execution_count": null,
   "id": "aging-legislature",
   "metadata": {
    "papermill": {
     "duration": 0.030403,
     "end_time": "2022-09-29T01:03:13.097658",
     "exception": false,
     "start_time": "2022-09-29T01:03:13.067255",
     "status": "completed"
    },
    "tags": []
   },
   "outputs": [],
   "source": []
  }
 ],
 "metadata": {
  "kernelspec": {
   "display_name": "Python 3",
   "language": "python",
   "name": "python3"
  },
  "language_info": {
   "codemirror_mode": {
    "name": "ipython",
    "version": 3
   },
   "file_extension": ".py",
   "mimetype": "text/x-python",
   "name": "python",
   "nbconvert_exporter": "python",
   "pygments_lexer": "ipython3",
   "version": "3.6.15"
  },
  "papermill": {
   "duration": 5.961009,
   "end_time": "2022-09-29T01:03:13.446477",
   "environment_variables": {},
   "exception": null,
   "input_path": "2020-03-21-covid19exp.ipynb",
   "output_path": "2020-03-21-covid19exp.ipynb",
   "parameters": {},
   "start_time": "2022-09-29T01:03:07.485468",
   "version": "2.0.0"
  }
 },
 "nbformat": 4,
 "nbformat_minor": 5
}