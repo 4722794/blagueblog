{
 "cells": [
  {
   "cell_type": "markdown",
   "id": "muslim-click",
   "metadata": {
    "papermill": {
     "duration": 0.045014,
     "end_time": "2021-02-03T12:07:25.521059",
     "exception": false,
     "start_time": "2021-02-03T12:07:25.476045",
     "status": "completed"
    },
    "tags": []
   },
   "source": [
    "# COVID-19 Case Race\n",
    "> A race chart to see rising cases around the world\n",
    "\n",
    "- author: Hargun Oberoi\n",
    "- image: images/covid-overview.png\n",
    "- hide: false\n",
    "- badges: false"
   ]
  },
  {
   "cell_type": "code",
   "execution_count": 1,
   "id": "proof-material",
   "metadata": {
    "execution": {
     "iopub.execute_input": "2021-02-03T12:07:25.605384Z",
     "iopub.status.busy": "2021-02-03T12:07:25.604606Z",
     "iopub.status.idle": "2021-02-03T12:07:25.945105Z",
     "shell.execute_reply": "2021-02-03T12:07:25.944490Z"
    },
    "papermill": {
     "duration": 0.387352,
     "end_time": "2021-02-03T12:07:25.945260",
     "exception": false,
     "start_time": "2021-02-03T12:07:25.557908",
     "status": "completed"
    },
    "tags": []
   },
   "outputs": [],
   "source": [
    "#hide\n",
    "import numpy as np\n",
    "import pandas as pd\n",
    "from jinja2 import Template\n",
    "from IPython.display import HTML"
   ]
  },
  {
   "cell_type": "code",
   "execution_count": 2,
   "id": "developed-terminology",
   "metadata": {
    "execution": {
     "iopub.execute_input": "2021-02-03T12:07:26.028469Z",
     "iopub.status.busy": "2021-02-03T12:07:26.027619Z",
     "iopub.status.idle": "2021-02-03T12:07:26.030189Z",
     "shell.execute_reply": "2021-02-03T12:07:26.029639Z"
    },
    "papermill": {
     "duration": 0.045404,
     "end_time": "2021-02-03T12:07:26.030325",
     "exception": false,
     "start_time": "2021-02-03T12:07:25.984921",
     "status": "completed"
    },
    "tags": []
   },
   "outputs": [],
   "source": [
    "#hide\n",
    "\n",
    "# FETCH\n",
    "base_url = 'https://raw.githubusercontent.com/pratapvardhan/notebooks/master/covid19/'\n",
    "paths = {\n",
    "    'mapping': base_url + 'mapping_countries.csv',\n",
    "    'overview': base_url + 'overview.tpl'\n",
    "}"
   ]
  },
  {
   "cell_type": "code",
   "execution_count": 3,
   "id": "dynamic-saver",
   "metadata": {
    "execution": {
     "iopub.execute_input": "2021-02-03T12:07:26.118326Z",
     "iopub.status.busy": "2021-02-03T12:07:26.117631Z",
     "iopub.status.idle": "2021-02-03T12:07:26.120590Z",
     "shell.execute_reply": "2021-02-03T12:07:26.121194Z"
    },
    "papermill": {
     "duration": 0.05335,
     "end_time": "2021-02-03T12:07:26.121349",
     "exception": false,
     "start_time": "2021-02-03T12:07:26.067999",
     "status": "completed"
    },
    "tags": []
   },
   "outputs": [
    {
     "data": {
      "text/plain": [
       "'https://raw.githubusercontent.com/pratapvardhan/notebooks/master/covid19/mapping_countries.csv'"
      ]
     },
     "execution_count": 3,
     "metadata": {},
     "output_type": "execute_result"
    }
   ],
   "source": [
    "#hide\n",
    "paths['mapping']"
   ]
  },
  {
   "cell_type": "code",
   "execution_count": 4,
   "id": "urban-software",
   "metadata": {
    "execution": {
     "iopub.execute_input": "2021-02-03T12:07:26.199004Z",
     "iopub.status.busy": "2021-02-03T12:07:26.198328Z",
     "iopub.status.idle": "2021-02-03T12:07:26.201047Z",
     "shell.execute_reply": "2021-02-03T12:07:26.200223Z"
    },
    "papermill": {
     "duration": 0.04324,
     "end_time": "2021-02-03T12:07:26.201209",
     "exception": false,
     "start_time": "2021-02-03T12:07:26.157969",
     "status": "completed"
    },
    "tags": []
   },
   "outputs": [],
   "source": [
    "#hide\n",
    "def get_mappings(url):\n",
    "    df = pd.read_csv(url)\n",
    "    return {\n",
    "        'df': df,\n",
    "        'replace.country': dict(df.dropna(subset=['Name']).set_index('Country')['Name']),\n",
    "        'map.continent': dict(df.set_index('Name')['Continent'])\n",
    "    }"
   ]
  },
  {
   "cell_type": "code",
   "execution_count": 5,
   "id": "intimate-machinery",
   "metadata": {
    "execution": {
     "iopub.execute_input": "2021-02-03T12:07:26.283236Z",
     "iopub.status.busy": "2021-02-03T12:07:26.282344Z",
     "iopub.status.idle": "2021-02-03T12:07:26.310707Z",
     "shell.execute_reply": "2021-02-03T12:07:26.311231Z"
    },
    "papermill": {
     "duration": 0.074329,
     "end_time": "2021-02-03T12:07:26.311380",
     "exception": false,
     "start_time": "2021-02-03T12:07:26.237051",
     "status": "completed"
    },
    "tags": []
   },
   "outputs": [],
   "source": [
    "#hide\n",
    "mapping = get_mappings(paths['mapping'])"
   ]
  },
  {
   "cell_type": "code",
   "execution_count": 6,
   "id": "certified-tactics",
   "metadata": {
    "execution": {
     "iopub.execute_input": "2021-02-03T12:07:26.391409Z",
     "iopub.status.busy": "2021-02-03T12:07:26.390790Z",
     "iopub.status.idle": "2021-02-03T12:07:26.392167Z",
     "shell.execute_reply": "2021-02-03T12:07:26.392734Z"
    },
    "papermill": {
     "duration": 0.043795,
     "end_time": "2021-02-03T12:07:26.392866",
     "exception": false,
     "start_time": "2021-02-03T12:07:26.349071",
     "status": "completed"
    },
    "tags": []
   },
   "outputs": [],
   "source": [
    "#hide\n",
    "def get_template(path):\n",
    "    from urllib.parse import urlparse\n",
    "    if bool(urlparse(path).netloc):\n",
    "        from urllib.request import urlopen\n",
    "        return urlopen(path).read().decode('utf8')\n",
    "    return open(path).read()"
   ]
  },
  {
   "cell_type": "code",
   "execution_count": 7,
   "id": "realistic-blast",
   "metadata": {
    "execution": {
     "iopub.execute_input": "2021-02-03T12:07:26.469312Z",
     "iopub.status.busy": "2021-02-03T12:07:26.468660Z",
     "iopub.status.idle": "2021-02-03T12:07:26.470712Z",
     "shell.execute_reply": "2021-02-03T12:07:26.471300Z"
    },
    "papermill": {
     "duration": 0.043849,
     "end_time": "2021-02-03T12:07:26.471490",
     "exception": false,
     "start_time": "2021-02-03T12:07:26.427641",
     "status": "completed"
    },
    "tags": []
   },
   "outputs": [],
   "source": [
    "#hide\n",
    "def get_frame(name):\n",
    "    url = (\n",
    "        'https://raw.githubusercontent.com/CSSEGISandData/COVID-19/master/csse_covid_19_data/'\n",
    "        f'csse_covid_19_time_series/time_series_covid19_{name}_global.csv')\n",
    "    df = pd.read_csv(url)\n",
    "    # rename countries\n",
    "    df['Country/Region'] = df['Country/Region'].replace(mapping['replace.country'])\n",
    "    return df"
   ]
  },
  {
   "cell_type": "code",
   "execution_count": 8,
   "id": "affiliated-characterization",
   "metadata": {
    "execution": {
     "iopub.execute_input": "2021-02-03T12:07:26.554350Z",
     "iopub.status.busy": "2021-02-03T12:07:26.553736Z",
     "iopub.status.idle": "2021-02-03T12:07:26.555810Z",
     "shell.execute_reply": "2021-02-03T12:07:26.556381Z"
    },
    "papermill": {
     "duration": 0.045317,
     "end_time": "2021-02-03T12:07:26.556532",
     "exception": false,
     "start_time": "2021-02-03T12:07:26.511215",
     "status": "completed"
    },
    "tags": []
   },
   "outputs": [],
   "source": [
    "#hide\n",
    "def get_dates(df):\n",
    "    dt_cols = df.columns[~df.columns.isin(['Province/State', 'Country/Region', 'Lat', 'Long'])]\n",
    "    LAST_DATE_I = -1\n",
    "    # sometimes last column may be empty, then go backwards\n",
    "    for i in range(-1, -len(dt_cols), -1):\n",
    "        if not df[dt_cols[i]].fillna(0).eq(0).all():\n",
    "            LAST_DATE_I = i\n",
    "            break\n",
    "    return LAST_DATE_I, dt_cols"
   ]
  },
  {
   "cell_type": "code",
   "execution_count": 9,
   "id": "recent-optimization",
   "metadata": {
    "execution": {
     "iopub.execute_input": "2021-02-03T12:07:26.630034Z",
     "iopub.status.busy": "2021-02-03T12:07:26.629316Z",
     "iopub.status.idle": "2021-02-03T12:07:26.881784Z",
     "shell.execute_reply": "2021-02-03T12:07:26.881264Z"
    },
    "papermill": {
     "duration": 0.290821,
     "end_time": "2021-02-03T12:07:26.881955",
     "exception": false,
     "start_time": "2021-02-03T12:07:26.591134",
     "status": "completed"
    },
    "tags": []
   },
   "outputs": [],
   "source": [
    "#hide\n",
    "COL_REGION = 'Country/Region'\n",
    "# Confirmed, Recovered, Deaths\n",
    "df = get_frame('confirmed')\n",
    "# dft_: timeseries, dfc_: today country agg\n",
    "dft_cases = df\n",
    "dft_deaths = get_frame('deaths')\n",
    "dft_recovered = get_frame('recovered')\n",
    "LAST_DATE_I, dt_cols = get_dates(df)"
   ]
  },
  {
   "cell_type": "code",
   "execution_count": 10,
   "id": "absolute-copper",
   "metadata": {
    "execution": {
     "iopub.execute_input": "2021-02-03T12:07:26.967140Z",
     "iopub.status.busy": "2021-02-03T12:07:26.965491Z",
     "iopub.status.idle": "2021-02-03T12:07:26.967904Z",
     "shell.execute_reply": "2021-02-03T12:07:26.968507Z"
    },
    "papermill": {
     "duration": 0.049232,
     "end_time": "2021-02-03T12:07:26.968648",
     "exception": false,
     "start_time": "2021-02-03T12:07:26.919416",
     "status": "completed"
    },
    "tags": []
   },
   "outputs": [],
   "source": [
    "#hide\n",
    "LAST_DATE_I, dt_cols = get_dates(df)\n",
    "dt_today =dt_cols[LAST_DATE_I]\n",
    "# dt_5day = dt_cols[LAST_DATE_I - 5]\n",
    "dt_yday = dt_cols[LAST_DATE_I - 1]"
   ]
  },
  {
   "cell_type": "code",
   "execution_count": 11,
   "id": "restricted-sheriff",
   "metadata": {
    "execution": {
     "iopub.execute_input": "2021-02-03T12:07:27.060520Z",
     "iopub.status.busy": "2021-02-03T12:07:27.054523Z",
     "iopub.status.idle": "2021-02-03T12:07:27.063018Z",
     "shell.execute_reply": "2021-02-03T12:07:27.063496Z"
    },
    "papermill": {
     "duration": 0.057738,
     "end_time": "2021-02-03T12:07:27.063658",
     "exception": false,
     "start_time": "2021-02-03T12:07:27.005920",
     "status": "completed"
    },
    "tags": []
   },
   "outputs": [],
   "source": [
    "#hide\n",
    "dfc_cases = dft_cases.groupby(COL_REGION)[dt_today].sum()\n",
    "dfc_deaths = dft_deaths.groupby(COL_REGION)[dt_today].sum()\n",
    "# dfp_cases = dft_cases.groupby(COL_REGION)[dt_5day].sum()\n",
    "# dfp_deaths = dft_deaths.groupby(COL_REGION)[dt_5day].sum()\n",
    "dfp_cases = dft_cases.groupby(COL_REGION)[dt_yday].sum()\n",
    "dfp_deaths = dft_deaths.groupby(COL_REGION)[dt_yday].sum()"
   ]
  },
  {
   "cell_type": "code",
   "execution_count": 12,
   "id": "deluxe-hepatitis",
   "metadata": {
    "execution": {
     "iopub.execute_input": "2021-02-03T12:07:27.139225Z",
     "iopub.status.busy": "2021-02-03T12:07:27.138621Z",
     "iopub.status.idle": "2021-02-03T12:07:27.143309Z",
     "shell.execute_reply": "2021-02-03T12:07:27.143863Z"
    },
    "papermill": {
     "duration": 0.047328,
     "end_time": "2021-02-03T12:07:27.144005",
     "exception": false,
     "start_time": "2021-02-03T12:07:27.096677",
     "status": "completed"
    },
    "tags": []
   },
   "outputs": [],
   "source": [
    "#hide\n",
    "df_table = (pd.DataFrame(dict(Cases = dfc_cases, Deaths = dfc_deaths, PCases = dfp_cases, PDeaths = dfp_deaths))\n",
    "            .sort_values(by = ['Cases','Deaths'], ascending = [False, False])\n",
    "            .reset_index())"
   ]
  },
  {
   "cell_type": "code",
   "execution_count": 13,
   "id": "educational-chancellor",
   "metadata": {
    "execution": {
     "iopub.execute_input": "2021-02-03T12:07:27.235840Z",
     "iopub.status.busy": "2021-02-03T12:07:27.235248Z",
     "iopub.status.idle": "2021-02-03T12:07:27.247481Z",
     "shell.execute_reply": "2021-02-03T12:07:27.248018Z"
    },
    "papermill": {
     "duration": 0.070423,
     "end_time": "2021-02-03T12:07:27.248153",
     "exception": false,
     "start_time": "2021-02-03T12:07:27.177730",
     "status": "completed"
    },
    "tags": []
   },
   "outputs": [
    {
     "data": {
      "text/html": [
       "<div>\n",
       "<style scoped>\n",
       "    .dataframe tbody tr th:only-of-type {\n",
       "        vertical-align: middle;\n",
       "    }\n",
       "\n",
       "    .dataframe tbody tr th {\n",
       "        vertical-align: top;\n",
       "    }\n",
       "\n",
       "    .dataframe thead th {\n",
       "        text-align: right;\n",
       "    }\n",
       "</style>\n",
       "<table border=\"1\" class=\"dataframe\">\n",
       "  <thead>\n",
       "    <tr style=\"text-align: right;\">\n",
       "      <th></th>\n",
       "      <th>Country/Region</th>\n",
       "      <th>Cases</th>\n",
       "      <th>Deaths</th>\n",
       "      <th>PCases</th>\n",
       "      <th>PDeaths</th>\n",
       "      <th>Cases (+)</th>\n",
       "      <th>Deaths (+)</th>\n",
       "      <th>Fatality Rate</th>\n",
       "      <th>Continent</th>\n",
       "    </tr>\n",
       "  </thead>\n",
       "  <tbody>\n",
       "    <tr>\n",
       "      <th>0</th>\n",
       "      <td>US</td>\n",
       "      <td>26435557</td>\n",
       "      <td>446885</td>\n",
       "      <td>26321120</td>\n",
       "      <td>443355</td>\n",
       "      <td>114437</td>\n",
       "      <td>3530</td>\n",
       "      <td>1.69</td>\n",
       "      <td>North America</td>\n",
       "    </tr>\n",
       "    <tr>\n",
       "      <th>1</th>\n",
       "      <td>India</td>\n",
       "      <td>10777284</td>\n",
       "      <td>154596</td>\n",
       "      <td>10766245</td>\n",
       "      <td>154486</td>\n",
       "      <td>11039</td>\n",
       "      <td>110</td>\n",
       "      <td>1.43</td>\n",
       "      <td>Asia</td>\n",
       "    </tr>\n",
       "    <tr>\n",
       "      <th>2</th>\n",
       "      <td>Brazil</td>\n",
       "      <td>9283418</td>\n",
       "      <td>226309</td>\n",
       "      <td>9229322</td>\n",
       "      <td>225099</td>\n",
       "      <td>54096</td>\n",
       "      <td>1210</td>\n",
       "      <td>2.44</td>\n",
       "      <td>South America</td>\n",
       "    </tr>\n",
       "    <tr>\n",
       "      <th>3</th>\n",
       "      <td>United Kingdom</td>\n",
       "      <td>3863757</td>\n",
       "      <td>108225</td>\n",
       "      <td>3846851</td>\n",
       "      <td>106774</td>\n",
       "      <td>16906</td>\n",
       "      <td>1451</td>\n",
       "      <td>2.80</td>\n",
       "      <td>Europe</td>\n",
       "    </tr>\n",
       "    <tr>\n",
       "      <th>4</th>\n",
       "      <td>Russia</td>\n",
       "      <td>3842145</td>\n",
       "      <td>72982</td>\n",
       "      <td>3825739</td>\n",
       "      <td>72456</td>\n",
       "      <td>16406</td>\n",
       "      <td>526</td>\n",
       "      <td>1.90</td>\n",
       "      <td>Europe</td>\n",
       "    </tr>\n",
       "  </tbody>\n",
       "</table>\n",
       "</div>"
      ],
      "text/plain": [
       "   Country/Region     Cases  Deaths    PCases  PDeaths  Cases (+)  Deaths (+)  \\\n",
       "0              US  26435557  446885  26321120   443355     114437        3530   \n",
       "1           India  10777284  154596  10766245   154486      11039         110   \n",
       "2          Brazil   9283418  226309   9229322   225099      54096        1210   \n",
       "3  United Kingdom   3863757  108225   3846851   106774      16906        1451   \n",
       "4          Russia   3842145   72982   3825739    72456      16406         526   \n",
       "\n",
       "   Fatality Rate      Continent  \n",
       "0           1.69  North America  \n",
       "1           1.43           Asia  \n",
       "2           2.44  South America  \n",
       "3           2.80         Europe  \n",
       "4           1.90         Europe  "
      ]
     },
     "execution_count": 13,
     "metadata": {},
     "output_type": "execute_result"
    }
   ],
   "source": [
    "#hide\n",
    "for c in 'Cases, Deaths'.split(', '):\n",
    "    df_table[f'{c} (+)'] = (df_table[c] - df_table[f'P{c}']).clip(0)\n",
    "    #Clip ça veut dire, les chiffres negatif sont interdit\n",
    "df_table['Fatality Rate'] = (100* df_table['Deaths']/ df_table['Cases']).round(2)\n",
    "df_table['Continent'] = df_table['Country/Region'].map(mapping['map.continent'])\n",
    "df_table.head(5)"
   ]
  },
  {
   "cell_type": "code",
   "execution_count": 14,
   "id": "aboriginal-bulgaria",
   "metadata": {
    "execution": {
     "iopub.execute_input": "2021-02-03T12:07:27.321158Z",
     "iopub.status.busy": "2021-02-03T12:07:27.320456Z",
     "iopub.status.idle": "2021-02-03T12:07:27.323324Z",
     "shell.execute_reply": "2021-02-03T12:07:27.324062Z"
    },
    "papermill": {
     "duration": 0.042216,
     "end_time": "2021-02-03T12:07:27.324220",
     "exception": false,
     "start_time": "2021-02-03T12:07:27.282004",
     "status": "completed"
    },
    "tags": []
   },
   "outputs": [],
   "source": [
    "#hide\n",
    "#delete problematic countries from table\n",
    "df_table = df_table[~df_table['Country/Region'].isin(['Cape Verde', 'Cruise Ship', 'Kosovo'])]"
   ]
  },
  {
   "cell_type": "code",
   "execution_count": 15,
   "id": "fantastic-effect",
   "metadata": {
    "execution": {
     "iopub.execute_input": "2021-02-03T12:07:27.404010Z",
     "iopub.status.busy": "2021-02-03T12:07:27.403346Z",
     "iopub.status.idle": "2021-02-03T12:07:27.424108Z",
     "shell.execute_reply": "2021-02-03T12:07:27.424558Z"
    },
    "papermill": {
     "duration": 0.064309,
     "end_time": "2021-02-03T12:07:27.424688",
     "exception": false,
     "start_time": "2021-02-03T12:07:27.360379",
     "status": "completed"
    },
    "tags": []
   },
   "outputs": [
    {
     "data": {
      "text/html": [
       "<div>\n",
       "<style scoped>\n",
       "    .dataframe tbody tr th:only-of-type {\n",
       "        vertical-align: middle;\n",
       "    }\n",
       "\n",
       "    .dataframe tbody tr th {\n",
       "        vertical-align: top;\n",
       "    }\n",
       "\n",
       "    .dataframe thead th {\n",
       "        text-align: right;\n",
       "    }\n",
       "</style>\n",
       "<table border=\"1\" class=\"dataframe\">\n",
       "  <thead>\n",
       "    <tr style=\"text-align: right;\">\n",
       "      <th></th>\n",
       "      <th>Country/Region</th>\n",
       "      <th>Cases</th>\n",
       "      <th>Deaths</th>\n",
       "      <th>PCases</th>\n",
       "      <th>PDeaths</th>\n",
       "      <th>Cases (+)</th>\n",
       "      <th>Deaths (+)</th>\n",
       "      <th>Fatality Rate</th>\n",
       "      <th>Continent</th>\n",
       "    </tr>\n",
       "  </thead>\n",
       "  <tbody>\n",
       "    <tr>\n",
       "      <th>0</th>\n",
       "      <td>US</td>\n",
       "      <td>26435557</td>\n",
       "      <td>446885</td>\n",
       "      <td>26321120</td>\n",
       "      <td>443355</td>\n",
       "      <td>114437</td>\n",
       "      <td>3530</td>\n",
       "      <td>1.7</td>\n",
       "      <td>North America</td>\n",
       "    </tr>\n",
       "    <tr>\n",
       "      <th>1</th>\n",
       "      <td>India</td>\n",
       "      <td>10777284</td>\n",
       "      <td>154596</td>\n",
       "      <td>10766245</td>\n",
       "      <td>154486</td>\n",
       "      <td>11039</td>\n",
       "      <td>110</td>\n",
       "      <td>1.4</td>\n",
       "      <td>Asia</td>\n",
       "    </tr>\n",
       "    <tr>\n",
       "      <th>2</th>\n",
       "      <td>Brazil</td>\n",
       "      <td>9283418</td>\n",
       "      <td>226309</td>\n",
       "      <td>9229322</td>\n",
       "      <td>225099</td>\n",
       "      <td>54096</td>\n",
       "      <td>1210</td>\n",
       "      <td>2.4</td>\n",
       "      <td>South America</td>\n",
       "    </tr>\n",
       "    <tr>\n",
       "      <th>3</th>\n",
       "      <td>United Kingdom</td>\n",
       "      <td>3863757</td>\n",
       "      <td>108225</td>\n",
       "      <td>3846851</td>\n",
       "      <td>106774</td>\n",
       "      <td>16906</td>\n",
       "      <td>1451</td>\n",
       "      <td>2.8</td>\n",
       "      <td>Europe</td>\n",
       "    </tr>\n",
       "    <tr>\n",
       "      <th>4</th>\n",
       "      <td>Russia</td>\n",
       "      <td>3842145</td>\n",
       "      <td>72982</td>\n",
       "      <td>3825739</td>\n",
       "      <td>72456</td>\n",
       "      <td>16406</td>\n",
       "      <td>526</td>\n",
       "      <td>1.9</td>\n",
       "      <td>Europe</td>\n",
       "    </tr>\n",
       "  </tbody>\n",
       "</table>\n",
       "</div>"
      ],
      "text/plain": [
       "   Country/Region     Cases  Deaths    PCases  PDeaths  Cases (+)  Deaths (+)  \\\n",
       "0              US  26435557  446885  26321120   443355     114437        3530   \n",
       "1           India  10777284  154596  10766245   154486      11039         110   \n",
       "2          Brazil   9283418  226309   9229322   225099      54096        1210   \n",
       "3  United Kingdom   3863757  108225   3846851   106774      16906        1451   \n",
       "4          Russia   3842145   72982   3825739    72456      16406         526   \n",
       "\n",
       "   Fatality Rate      Continent  \n",
       "0            1.7  North America  \n",
       "1            1.4           Asia  \n",
       "2            2.4  South America  \n",
       "3            2.8         Europe  \n",
       "4            1.9         Europe  "
      ]
     },
     "execution_count": 15,
     "metadata": {},
     "output_type": "execute_result"
    }
   ],
   "source": [
    "#hide\n",
    "df_table = (pd.DataFrame(dict(Cases=dfc_cases, Deaths=dfc_deaths, PCases=dfp_cases, PDeaths=dfp_deaths))\n",
    "             .sort_values(by=['Cases', 'Deaths'], ascending=[False, False])\n",
    "             .reset_index())\n",
    "df_table.rename(columns={'index': 'Country/Region'}, inplace=True)\n",
    "for c in 'Cases, Deaths'.split(', '):\n",
    "    df_table[f'{c} (+)'] = (df_table[c] - df_table[f'P{c}']).clip(0)  # DATA BUG\n",
    "df_table['Fatality Rate'] = (100 * df_table['Deaths'] / df_table['Cases']).round(1)\n",
    "df_table['Continent'] = df_table['Country/Region'].map(mapping['map.continent'])\n",
    "df_table.head(5)"
   ]
  },
  {
   "cell_type": "code",
   "execution_count": 16,
   "id": "fewer-occasion",
   "metadata": {
    "execution": {
     "iopub.execute_input": "2021-02-03T12:07:27.499022Z",
     "iopub.status.busy": "2021-02-03T12:07:27.498243Z",
     "iopub.status.idle": "2021-02-03T12:07:27.501619Z",
     "shell.execute_reply": "2021-02-03T12:07:27.501168Z"
    },
    "papermill": {
     "duration": 0.043457,
     "end_time": "2021-02-03T12:07:27.501736",
     "exception": false,
     "start_time": "2021-02-03T12:07:27.458279",
     "status": "completed"
    },
    "tags": []
   },
   "outputs": [],
   "source": [
    "#hide\n",
    "#delete problematic countries from table\n",
    "df_table = df_table[~df_table['Country/Region'].isin(['Cape Verde', 'Cruise Ship', 'Kosovo'])]"
   ]
  },
  {
   "cell_type": "code",
   "execution_count": 17,
   "id": "related-center",
   "metadata": {
    "execution": {
     "iopub.execute_input": "2021-02-03T12:07:27.599920Z",
     "iopub.status.busy": "2021-02-03T12:07:27.599314Z",
     "iopub.status.idle": "2021-02-03T12:07:27.608288Z",
     "shell.execute_reply": "2021-02-03T12:07:27.608821Z"
    },
    "papermill": {
     "duration": 0.065691,
     "end_time": "2021-02-03T12:07:27.608969",
     "exception": false,
     "start_time": "2021-02-03T12:07:27.543278",
     "status": "completed"
    },
    "tags": []
   },
   "outputs": [],
   "source": [
    "#hide\n",
    "metrics = [df_table.columns[index] for index in [1,2,5,6]]\n",
    "# s_china = df_table[df_table['Country/Region'].eq('China')][metrics].sum().add_prefix('China ')\n",
    "s_us = df_table[df_table['Country/Region'].eq('US')][metrics].sum().add_prefix('US ')\n",
    "s_eu = df_table[df_table['Continent'].eq('Europe')][metrics].sum().add_prefix('EU ')\n",
    "s_ind = df_table[df_table['Country/Region'].eq('India')][metrics].sum().add_prefix('India ')\n",
    "summary = {'updated': pd.to_datetime(dt_today), 'since': pd.to_datetime(dt_yday)}\n",
    "summary = {'updated': pd.to_datetime(dt_today), 'since': pd.to_datetime(dt_yday)}\n",
    "summary = {**summary, **df_table[metrics].sum(), **s_ind, **s_us, **s_eu}"
   ]
  },
  {
   "cell_type": "code",
   "execution_count": 18,
   "id": "engaging-syndrome",
   "metadata": {
    "execution": {
     "iopub.execute_input": "2021-02-03T12:07:27.691596Z",
     "iopub.status.busy": "2021-02-03T12:07:27.690984Z",
     "iopub.status.idle": "2021-02-03T12:07:27.700667Z",
     "shell.execute_reply": "2021-02-03T12:07:27.700159Z"
    },
    "papermill": {
     "duration": 0.052512,
     "end_time": "2021-02-03T12:07:27.700798",
     "exception": false,
     "start_time": "2021-02-03T12:07:27.648286",
     "status": "completed"
    },
    "tags": []
   },
   "outputs": [],
   "source": [
    "#hide\n",
    "dft_ct_new_cases = dft_cases.groupby(COL_REGION)[dt_cols].sum().diff(axis=1).fillna(0).astype(int)"
   ]
  },
  {
   "cell_type": "code",
   "execution_count": 19,
   "id": "neutral-assignment",
   "metadata": {
    "execution": {
     "iopub.execute_input": "2021-02-03T12:07:27.778876Z",
     "iopub.status.busy": "2021-02-03T12:07:27.778258Z",
     "iopub.status.idle": "2021-02-03T12:07:27.783250Z",
     "shell.execute_reply": "2021-02-03T12:07:27.784202Z"
    },
    "papermill": {
     "duration": 0.047854,
     "end_time": "2021-02-03T12:07:27.784340",
     "exception": false,
     "start_time": "2021-02-03T12:07:27.736486",
     "status": "completed"
    },
    "tags": []
   },
   "outputs": [],
   "source": [
    "#hide\n",
    "everydaycases = dft_ct_new_cases.cumsum(axis=1)"
   ]
  },
  {
   "cell_type": "code",
   "execution_count": 20,
   "id": "parliamentary-calgary",
   "metadata": {
    "execution": {
     "iopub.execute_input": "2021-02-03T12:07:27.861020Z",
     "iopub.status.busy": "2021-02-03T12:07:27.860463Z",
     "iopub.status.idle": "2021-02-03T12:07:28.548514Z",
     "shell.execute_reply": "2021-02-03T12:07:28.547094Z"
    },
    "papermill": {
     "duration": 0.7279,
     "end_time": "2021-02-03T12:07:28.548640",
     "exception": false,
     "start_time": "2021-02-03T12:07:27.820740",
     "status": "completed"
    },
    "tags": []
   },
   "outputs": [],
   "source": [
    "#hide\n",
    "import pandas as pd\n",
    "import matplotlib.pyplot as plt\n",
    "import matplotlib.ticker as ticker\n",
    "import matplotlib.animation as animation\n",
    "from IPython.display import HTML"
   ]
  },
  {
   "cell_type": "code",
   "execution_count": 21,
   "id": "lasting-extraction",
   "metadata": {
    "execution": {
     "iopub.execute_input": "2021-02-03T12:07:28.639056Z",
     "iopub.status.busy": "2021-02-03T12:07:28.638441Z",
     "iopub.status.idle": "2021-02-03T12:07:28.643723Z",
     "shell.execute_reply": "2021-02-03T12:07:28.643129Z"
    },
    "papermill": {
     "duration": 0.04962,
     "end_time": "2021-02-03T12:07:28.643883",
     "exception": false,
     "start_time": "2021-02-03T12:07:28.594263",
     "status": "completed"
    },
    "tags": []
   },
   "outputs": [],
   "source": [
    "#hide\n",
    "t = everydaycases.stack()"
   ]
  },
  {
   "cell_type": "code",
   "execution_count": 22,
   "id": "premier-sleeve",
   "metadata": {
    "execution": {
     "iopub.execute_input": "2021-02-03T12:07:28.722290Z",
     "iopub.status.busy": "2021-02-03T12:07:28.721612Z",
     "iopub.status.idle": "2021-02-03T12:07:28.730429Z",
     "shell.execute_reply": "2021-02-03T12:07:28.729942Z"
    },
    "papermill": {
     "duration": 0.049582,
     "end_time": "2021-02-03T12:07:28.730574",
     "exception": false,
     "start_time": "2021-02-03T12:07:28.680992",
     "status": "completed"
    },
    "tags": []
   },
   "outputs": [],
   "source": [
    "#hide\n",
    "g = t.reset_index(['Country/Region'])"
   ]
  },
  {
   "cell_type": "code",
   "execution_count": 23,
   "id": "distributed-pittsburgh",
   "metadata": {
    "execution": {
     "iopub.execute_input": "2021-02-03T12:07:28.803969Z",
     "iopub.status.busy": "2021-02-03T12:07:28.803345Z",
     "iopub.status.idle": "2021-02-03T12:07:28.806839Z",
     "shell.execute_reply": "2021-02-03T12:07:28.806163Z"
    },
    "papermill": {
     "duration": 0.043336,
     "end_time": "2021-02-03T12:07:28.807017",
     "exception": false,
     "start_time": "2021-02-03T12:07:28.763681",
     "status": "completed"
    },
    "tags": []
   },
   "outputs": [],
   "source": [
    "#hide\n",
    "g.index.name = 'date'"
   ]
  },
  {
   "cell_type": "code",
   "execution_count": 24,
   "id": "naked-donor",
   "metadata": {
    "execution": {
     "iopub.execute_input": "2021-02-03T12:07:28.886860Z",
     "iopub.status.busy": "2021-02-03T12:07:28.886207Z",
     "iopub.status.idle": "2021-02-03T12:07:28.888056Z",
     "shell.execute_reply": "2021-02-03T12:07:28.888713Z"
    },
    "papermill": {
     "duration": 0.044309,
     "end_time": "2021-02-03T12:07:28.888856",
     "exception": false,
     "start_time": "2021-02-03T12:07:28.844547",
     "status": "completed"
    },
    "tags": []
   },
   "outputs": [],
   "source": [
    "# #hide\n",
    "# g = g.reset_index(['date'])"
   ]
  },
  {
   "cell_type": "code",
   "execution_count": 25,
   "id": "incomplete-mustang",
   "metadata": {
    "execution": {
     "iopub.execute_input": "2021-02-03T12:07:28.968145Z",
     "iopub.status.busy": "2021-02-03T12:07:28.967376Z",
     "iopub.status.idle": "2021-02-03T12:07:28.969892Z",
     "shell.execute_reply": "2021-02-03T12:07:28.969388Z"
    },
    "papermill": {
     "duration": 0.04224,
     "end_time": "2021-02-03T12:07:28.970009",
     "exception": false,
     "start_time": "2021-02-03T12:07:28.927769",
     "status": "completed"
    },
    "tags": []
   },
   "outputs": [],
   "source": [
    "#hide\n",
    "# g.head()"
   ]
  },
  {
   "cell_type": "code",
   "execution_count": 26,
   "id": "specific-kruger",
   "metadata": {
    "execution": {
     "iopub.execute_input": "2021-02-03T12:07:29.044766Z",
     "iopub.status.busy": "2021-02-03T12:07:29.044180Z",
     "iopub.status.idle": "2021-02-03T12:07:29.046359Z",
     "shell.execute_reply": "2021-02-03T12:07:29.046863Z"
    },
    "papermill": {
     "duration": 0.040151,
     "end_time": "2021-02-03T12:07:29.046983",
     "exception": false,
     "start_time": "2021-02-03T12:07:29.006832",
     "status": "completed"
    },
    "tags": []
   },
   "outputs": [],
   "source": [
    "#hide\n",
    "# g.columns = ['date','country','cases']"
   ]
  },
  {
   "cell_type": "code",
   "execution_count": 27,
   "id": "tender-conversion",
   "metadata": {
    "execution": {
     "iopub.execute_input": "2021-02-03T12:07:29.133386Z",
     "iopub.status.busy": "2021-02-03T12:07:29.132408Z",
     "iopub.status.idle": "2021-02-03T12:07:29.135272Z",
     "shell.execute_reply": "2021-02-03T12:07:29.134700Z"
    },
    "papermill": {
     "duration": 0.042611,
     "end_time": "2021-02-03T12:07:29.135428",
     "exception": false,
     "start_time": "2021-02-03T12:07:29.092817",
     "status": "completed"
    },
    "tags": []
   },
   "outputs": [],
   "source": [
    "#hide\n",
    "# g['continent'] = g.country"
   ]
  },
  {
   "cell_type": "code",
   "execution_count": 28,
   "id": "substantial-wilderness",
   "metadata": {
    "execution": {
     "iopub.execute_input": "2021-02-03T12:07:29.210883Z",
     "iopub.status.busy": "2021-02-03T12:07:29.210195Z",
     "iopub.status.idle": "2021-02-03T12:07:29.212707Z",
     "shell.execute_reply": "2021-02-03T12:07:29.212212Z"
    },
    "papermill": {
     "duration": 0.042123,
     "end_time": "2021-02-03T12:07:29.212824",
     "exception": false,
     "start_time": "2021-02-03T12:07:29.170701",
     "status": "completed"
    },
    "tags": []
   },
   "outputs": [],
   "source": [
    "#hide\n",
    "# cols = list(g.columns.values)"
   ]
  },
  {
   "cell_type": "code",
   "execution_count": 29,
   "id": "solved-farming",
   "metadata": {
    "execution": {
     "iopub.execute_input": "2021-02-03T12:07:29.284672Z",
     "iopub.status.busy": "2021-02-03T12:07:29.284050Z",
     "iopub.status.idle": "2021-02-03T12:07:29.286202Z",
     "shell.execute_reply": "2021-02-03T12:07:29.286666Z"
    },
    "papermill": {
     "duration": 0.040266,
     "end_time": "2021-02-03T12:07:29.286830",
     "exception": false,
     "start_time": "2021-02-03T12:07:29.246564",
     "status": "completed"
    },
    "tags": []
   },
   "outputs": [],
   "source": [
    "#hide\n",
    "# cols.insert(0, cols.pop())"
   ]
  },
  {
   "cell_type": "code",
   "execution_count": 30,
   "id": "executed-adoption",
   "metadata": {
    "execution": {
     "iopub.execute_input": "2021-02-03T12:07:29.362021Z",
     "iopub.status.busy": "2021-02-03T12:07:29.361439Z",
     "iopub.status.idle": "2021-02-03T12:07:29.363273Z",
     "shell.execute_reply": "2021-02-03T12:07:29.363848Z"
    },
    "papermill": {
     "duration": 0.040348,
     "end_time": "2021-02-03T12:07:29.363979",
     "exception": false,
     "start_time": "2021-02-03T12:07:29.323631",
     "status": "completed"
    },
    "tags": []
   },
   "outputs": [],
   "source": [
    "#hide\n",
    "# g = g[cols]"
   ]
  },
  {
   "cell_type": "code",
   "execution_count": 31,
   "id": "subject-dublin",
   "metadata": {
    "execution": {
     "iopub.execute_input": "2021-02-03T12:07:29.437477Z",
     "iopub.status.busy": "2021-02-03T12:07:29.436875Z",
     "iopub.status.idle": "2021-02-03T12:07:29.439360Z",
     "shell.execute_reply": "2021-02-03T12:07:29.438869Z"
    },
    "papermill": {
     "duration": 0.041449,
     "end_time": "2021-02-03T12:07:29.439494",
     "exception": false,
     "start_time": "2021-02-03T12:07:29.398045",
     "status": "completed"
    },
    "tags": []
   },
   "outputs": [],
   "source": [
    "#hide\n",
    "# g['continent'] = g['continent'].map(mapping['map.continent'])"
   ]
  },
  {
   "cell_type": "code",
   "execution_count": 32,
   "id": "freelance-scout",
   "metadata": {
    "execution": {
     "iopub.execute_input": "2021-02-03T12:07:29.515784Z",
     "iopub.status.busy": "2021-02-03T12:07:29.515188Z",
     "iopub.status.idle": "2021-02-03T12:07:29.519184Z",
     "shell.execute_reply": "2021-02-03T12:07:29.518632Z"
    },
    "papermill": {
     "duration": 0.046019,
     "end_time": "2021-02-03T12:07:29.519302",
     "exception": false,
     "start_time": "2021-02-03T12:07:29.473283",
     "status": "completed"
    },
    "tags": []
   },
   "outputs": [],
   "source": [
    "#hide\n",
    "# g.head()"
   ]
  },
  {
   "cell_type": "code",
   "execution_count": 33,
   "id": "limited-engine",
   "metadata": {
    "execution": {
     "iopub.execute_input": "2021-02-03T12:07:29.601180Z",
     "iopub.status.busy": "2021-02-03T12:07:29.600498Z",
     "iopub.status.idle": "2021-02-03T12:07:29.602461Z",
     "shell.execute_reply": "2021-02-03T12:07:29.603034Z"
    },
    "papermill": {
     "duration": 0.046395,
     "end_time": "2021-02-03T12:07:29.603222",
     "exception": false,
     "start_time": "2021-02-03T12:07:29.556827",
     "status": "completed"
    },
    "tags": []
   },
   "outputs": [],
   "source": [
    "# hide\n",
    "# g['date'] = g['date'].astype('datetime64[ns]')"
   ]
  },
  {
   "cell_type": "code",
   "execution_count": 34,
   "id": "sophisticated-supervisor",
   "metadata": {
    "execution": {
     "iopub.execute_input": "2021-02-03T12:07:29.689780Z",
     "iopub.status.busy": "2021-02-03T12:07:29.689120Z",
     "iopub.status.idle": "2021-02-03T12:07:29.695264Z",
     "shell.execute_reply": "2021-02-03T12:07:29.694739Z"
    },
    "papermill": {
     "duration": 0.052262,
     "end_time": "2021-02-03T12:07:29.695543",
     "exception": false,
     "start_time": "2021-02-03T12:07:29.643281",
     "status": "completed"
    },
    "tags": []
   },
   "outputs": [],
   "source": [
    "#hide\n",
    "# g['date'] = g.date.dt.dayofyear"
   ]
  },
  {
   "cell_type": "code",
   "execution_count": 35,
   "id": "inside-dubai",
   "metadata": {
    "execution": {
     "iopub.execute_input": "2021-02-03T12:07:29.769727Z",
     "iopub.status.busy": "2021-02-03T12:07:29.769053Z",
     "iopub.status.idle": "2021-02-03T12:07:29.771771Z",
     "shell.execute_reply": "2021-02-03T12:07:29.771095Z"
    },
    "papermill": {
     "duration": 0.040203,
     "end_time": "2021-02-03T12:07:29.771891",
     "exception": false,
     "start_time": "2021-02-03T12:07:29.731688",
     "status": "completed"
    },
    "tags": []
   },
   "outputs": [],
   "source": [
    "#hide\n",
    "# g = g.rename(columns= {'continent':'group','country':'name','cases':'value'})"
   ]
  },
  {
   "cell_type": "code",
   "execution_count": 36,
   "id": "fleet-motorcycle",
   "metadata": {
    "execution": {
     "iopub.execute_input": "2021-02-03T12:07:29.845094Z",
     "iopub.status.busy": "2021-02-03T12:07:29.844503Z",
     "iopub.status.idle": "2021-02-03T12:07:29.846263Z",
     "shell.execute_reply": "2021-02-03T12:07:29.846784Z"
    },
    "papermill": {
     "duration": 0.040436,
     "end_time": "2021-02-03T12:07:29.846933",
     "exception": false,
     "start_time": "2021-02-03T12:07:29.806497",
     "status": "completed"
    },
    "tags": []
   },
   "outputs": [],
   "source": [
    "#hide\n",
    "# cols = ['name','group','day','value']"
   ]
  },
  {
   "cell_type": "code",
   "execution_count": 37,
   "id": "continued-sleeping",
   "metadata": {
    "execution": {
     "iopub.execute_input": "2021-02-03T12:07:29.918301Z",
     "iopub.status.busy": "2021-02-03T12:07:29.917717Z",
     "iopub.status.idle": "2021-02-03T12:07:29.919474Z",
     "shell.execute_reply": "2021-02-03T12:07:29.919957Z"
    },
    "papermill": {
     "duration": 0.03939,
     "end_time": "2021-02-03T12:07:29.920091",
     "exception": false,
     "start_time": "2021-02-03T12:07:29.880701",
     "status": "completed"
    },
    "tags": []
   },
   "outputs": [],
   "source": [
    "#hide\n",
    "# g.rename(columns= {'date':'day'},inplace = True)"
   ]
  },
  {
   "cell_type": "code",
   "execution_count": 38,
   "id": "major-fight",
   "metadata": {
    "execution": {
     "iopub.execute_input": "2021-02-03T12:07:29.994049Z",
     "iopub.status.busy": "2021-02-03T12:07:29.993452Z",
     "iopub.status.idle": "2021-02-03T12:07:29.995983Z",
     "shell.execute_reply": "2021-02-03T12:07:29.995439Z"
    },
    "papermill": {
     "duration": 0.040946,
     "end_time": "2021-02-03T12:07:29.996129",
     "exception": false,
     "start_time": "2021-02-03T12:07:29.955183",
     "status": "completed"
    },
    "tags": []
   },
   "outputs": [],
   "source": [
    "#hide\n",
    "# g = g[cols]"
   ]
  },
  {
   "cell_type": "code",
   "execution_count": 39,
   "id": "structured-mobile",
   "metadata": {
    "execution": {
     "iopub.execute_input": "2021-02-03T12:07:30.075044Z",
     "iopub.status.busy": "2021-02-03T12:07:30.074203Z",
     "iopub.status.idle": "2021-02-03T12:07:30.077970Z",
     "shell.execute_reply": "2021-02-03T12:07:30.077010Z"
    },
    "papermill": {
     "duration": 0.046623,
     "end_time": "2021-02-03T12:07:30.078143",
     "exception": false,
     "start_time": "2021-02-03T12:07:30.031520",
     "status": "completed"
    },
    "tags": []
   },
   "outputs": [],
   "source": [
    "# #hide\n",
    "# g = g[g.group.notna()]"
   ]
  },
  {
   "cell_type": "code",
   "execution_count": 40,
   "id": "determined-closing",
   "metadata": {
    "execution": {
     "iopub.execute_input": "2021-02-03T12:07:30.155511Z",
     "iopub.status.busy": "2021-02-03T12:07:30.154905Z",
     "iopub.status.idle": "2021-02-03T12:07:30.157326Z",
     "shell.execute_reply": "2021-02-03T12:07:30.156756Z"
    },
    "papermill": {
     "duration": 0.040942,
     "end_time": "2021-02-03T12:07:30.157439",
     "exception": false,
     "start_time": "2021-02-03T12:07:30.116497",
     "status": "completed"
    },
    "tags": []
   },
   "outputs": [],
   "source": [
    "# #hide\n",
    "# colors = dict(zip(\n",
    "#     [\"Oceania\", \"Europe\", \"Asia\", \"South America\", \"Middle East\", \"North America\", \"Africa\"],\n",
    "#     [\"#adb0ff\", \"#ffb3ff\", \"#90d595\", \"#e48381\", \"#aafbff\", \"#f7bb5f\", \"#eafb50\"]\n",
    "# ))\n",
    "# group_lk = g.set_index('name')['group'].to_dict()"
   ]
  },
  {
   "cell_type": "code",
   "execution_count": null,
   "id": "gross-drinking",
   "metadata": {
    "papermill": {
     "duration": 0.035958,
     "end_time": "2021-02-03T12:07:30.229644",
     "exception": false,
     "start_time": "2021-02-03T12:07:30.193686",
     "status": "completed"
    },
    "tags": []
   },
   "outputs": [],
   "source": []
  },
  {
   "cell_type": "code",
   "execution_count": 41,
   "id": "subject-macintosh",
   "metadata": {
    "execution": {
     "iopub.execute_input": "2021-02-03T12:07:30.307542Z",
     "iopub.status.busy": "2021-02-03T12:07:30.306879Z",
     "iopub.status.idle": "2021-02-03T12:07:30.308765Z",
     "shell.execute_reply": "2021-02-03T12:07:30.309290Z"
    },
    "papermill": {
     "duration": 0.042469,
     "end_time": "2021-02-03T12:07:30.309418",
     "exception": false,
     "start_time": "2021-02-03T12:07:30.266949",
     "status": "completed"
    },
    "tags": []
   },
   "outputs": [],
   "source": [
    "# #hide\n",
    "# fig, ax = plt.subplots(figsize=(15, 8))\n",
    "\n",
    "# def draw_barchart(current_day):\n",
    "#     dff = g[g['day'].eq(current_day)].sort_values(by='value', ascending=True).tail(10)\n",
    "#     ax.clear()\n",
    "#     ax.barh(dff['name'], dff['value'], color=[colors[group_lk[x]] for x in dff['name']])\n",
    "#     dx = dff['value'].max() / 200\n",
    "    \n",
    "#     for i, (value, name) in enumerate(zip(dff['value'], dff['name'])):\n",
    "#         ax.text(value-dx, i,     name,           size=14, weight=600, ha='right', va='bottom')\n",
    "#         ax.text(value-dx, i-.25, group_lk[name], size=10, color='#444444', ha='right', va='baseline')\n",
    "#         ax.text(value+dx, i,     f'{value:,.0f}',  size=14, ha='left',  va='center')\n",
    "#     ax.text(1, 0.4, current_day, transform=ax.transAxes, color='#777777', size=46, ha='right', weight=800)\n",
    "#     ax.text(0, 1.06, 'Population (thousands)', transform=ax.transAxes, size=12, color='#777777')\n",
    "#     ax.xaxis.set_major_formatter(ticker.StrMethodFormatter('{x:,.0f}'))\n",
    "#     ax.xaxis.set_ticks_position('top')\n",
    "#     ax.tick_params(axis='x', colors='#777777', labelsize=12)\n",
    "#     ax.set_yticks([])\n",
    "#     ax.margins(0, 0.01)\n",
    "#     ax.grid(which='major', axis='x', linestyle='-')\n",
    "#     ax.set_axisbelow(True)\n",
    "    \n",
    "#     ax.text(0, 1.15, 'Coronavirus',\n",
    "#             transform=ax.transAxes, size=24, weight=600, ha='left', va='top')\n",
    "# #     ax.text(1, 0, 'by @pratapvardhan; credit @jburnmurdoch', transform=ax.transAxes, color='#777777', ha='right',\n",
    "# #             bbox=dict(facecolor='white', alpha=0.8, edgecolor='white'))\n",
    "#     plt.box(False)"
   ]
  },
  {
   "cell_type": "code",
   "execution_count": 42,
   "id": "sexual-wages",
   "metadata": {
    "execution": {
     "iopub.execute_input": "2021-02-03T12:07:30.384093Z",
     "iopub.status.busy": "2021-02-03T12:07:30.383419Z",
     "iopub.status.idle": "2021-02-03T12:07:30.385571Z",
     "shell.execute_reply": "2021-02-03T12:07:30.384973Z"
    },
    "papermill": {
     "duration": 0.040394,
     "end_time": "2021-02-03T12:07:30.385737",
     "exception": false,
     "start_time": "2021-02-03T12:07:30.345343",
     "status": "completed"
    },
    "tags": []
   },
   "outputs": [],
   "source": [
    "# #hide_input\n",
    "# fig, ax = plt.subplots(figsize=(15, 8))\n",
    "# animator = animation.FuncAnimation(fig, draw_barchart, frames=range(g.day.values.min(), g.day.values.max()))\n",
    "# HTML(animator.to_jshtml())\n",
    "# # or use animator.to_html5_video() or animator.save() "
   ]
  },
  {
   "cell_type": "code",
   "execution_count": null,
   "id": "australian-container",
   "metadata": {
    "papermill": {
     "duration": 0.03431,
     "end_time": "2021-02-03T12:07:30.455878",
     "exception": false,
     "start_time": "2021-02-03T12:07:30.421568",
     "status": "completed"
    },
    "tags": []
   },
   "outputs": [],
   "source": []
  },
  {
   "cell_type": "code",
   "execution_count": null,
   "id": "mediterranean-pontiac",
   "metadata": {
    "papermill": {
     "duration": 0.036079,
     "end_time": "2021-02-03T12:07:30.524915",
     "exception": false,
     "start_time": "2021-02-03T12:07:30.488836",
     "status": "completed"
    },
    "tags": []
   },
   "outputs": [],
   "source": []
  },
  {
   "cell_type": "code",
   "execution_count": null,
   "id": "aging-legislature",
   "metadata": {
    "papermill": {
     "duration": 0.038841,
     "end_time": "2021-02-03T12:07:30.598800",
     "exception": false,
     "start_time": "2021-02-03T12:07:30.559959",
     "status": "completed"
    },
    "tags": []
   },
   "outputs": [],
   "source": []
  }
 ],
 "metadata": {
  "kernelspec": {
   "display_name": "Python 3",
   "language": "python",
   "name": "python3"
  },
  "language_info": {
   "codemirror_mode": {
    "name": "ipython",
    "version": 3
   },
   "file_extension": ".py",
   "mimetype": "text/x-python",
   "name": "python",
   "nbconvert_exporter": "python",
   "pygments_lexer": "ipython3",
   "version": "3.6.12"
  },
  "papermill": {
   "duration": 6.780943,
   "end_time": "2021-02-03T12:07:30.946193",
   "environment_variables": {},
   "exception": null,
   "input_path": "2020-03-21-covid19exp.ipynb",
   "output_path": "2020-03-21-covid19exp.ipynb",
   "parameters": {},
   "start_time": "2021-02-03T12:07:24.165250",
   "version": "2.0.0"
  }
 },
 "nbformat": 4,
 "nbformat_minor": 5
}