{
 "cells": [
  {
   "cell_type": "markdown",
   "id": "muslim-click",
   "metadata": {
    "papermill": {
     "duration": 0.03858,
     "end_time": "2022-07-10T00:51:38.246399",
     "exception": false,
     "start_time": "2022-07-10T00:51:38.207819",
     "status": "completed"
    },
    "tags": []
   },
   "source": [
    "# COVID-19 Case Race\n",
    "> A race chart to see rising cases around the world\n",
    "\n",
    "- author: Hargun Oberoi\n",
    "- image: images/covid-overview.png\n",
    "- hide: false\n",
    "- badges: false"
   ]
  },
  {
   "cell_type": "code",
   "execution_count": 1,
   "id": "proof-material",
   "metadata": {
    "execution": {
     "iopub.execute_input": "2022-07-10T00:51:38.328515Z",
     "iopub.status.busy": "2022-07-10T00:51:38.327683Z",
     "iopub.status.idle": "2022-07-10T00:51:38.695185Z",
     "shell.execute_reply": "2022-07-10T00:51:38.694428Z"
    },
    "papermill": {
     "duration": 0.413474,
     "end_time": "2022-07-10T00:51:38.695339",
     "exception": false,
     "start_time": "2022-07-10T00:51:38.281865",
     "status": "completed"
    },
    "tags": []
   },
   "outputs": [],
   "source": [
    "#hide\n",
    "import numpy as np\n",
    "import pandas as pd\n",
    "from jinja2 import Template\n",
    "from IPython.display import HTML"
   ]
  },
  {
   "cell_type": "code",
   "execution_count": 2,
   "id": "developed-terminology",
   "metadata": {
    "execution": {
     "iopub.execute_input": "2022-07-10T00:51:38.769861Z",
     "iopub.status.busy": "2022-07-10T00:51:38.769162Z",
     "iopub.status.idle": "2022-07-10T00:51:38.773460Z",
     "shell.execute_reply": "2022-07-10T00:51:38.773951Z"
    },
    "papermill": {
     "duration": 0.04301,
     "end_time": "2022-07-10T00:51:38.774103",
     "exception": false,
     "start_time": "2022-07-10T00:51:38.731093",
     "status": "completed"
    },
    "tags": []
   },
   "outputs": [],
   "source": [
    "#hide\n",
    "\n",
    "# FETCH\n",
    "base_url = 'https://raw.githubusercontent.com/pratapvardhan/notebooks/master/covid19/'\n",
    "paths = {\n",
    "    'mapping': base_url + 'mapping_countries.csv',\n",
    "    'overview': base_url + 'overview.tpl'\n",
    "}"
   ]
  },
  {
   "cell_type": "code",
   "execution_count": 3,
   "id": "dynamic-saver",
   "metadata": {
    "execution": {
     "iopub.execute_input": "2022-07-10T00:51:38.849128Z",
     "iopub.status.busy": "2022-07-10T00:51:38.848316Z",
     "iopub.status.idle": "2022-07-10T00:51:38.850913Z",
     "shell.execute_reply": "2022-07-10T00:51:38.851511Z"
    },
    "papermill": {
     "duration": 0.046255,
     "end_time": "2022-07-10T00:51:38.851659",
     "exception": false,
     "start_time": "2022-07-10T00:51:38.805404",
     "status": "completed"
    },
    "tags": []
   },
   "outputs": [
    {
     "data": {
      "text/plain": [
       "'https://raw.githubusercontent.com/pratapvardhan/notebooks/master/covid19/mapping_countries.csv'"
      ]
     },
     "execution_count": 3,
     "metadata": {},
     "output_type": "execute_result"
    }
   ],
   "source": [
    "#hide\n",
    "paths['mapping']"
   ]
  },
  {
   "cell_type": "code",
   "execution_count": 4,
   "id": "urban-software",
   "metadata": {
    "execution": {
     "iopub.execute_input": "2022-07-10T00:51:38.923655Z",
     "iopub.status.busy": "2022-07-10T00:51:38.922929Z",
     "iopub.status.idle": "2022-07-10T00:51:38.925730Z",
     "shell.execute_reply": "2022-07-10T00:51:38.925193Z"
    },
    "papermill": {
     "duration": 0.041542,
     "end_time": "2022-07-10T00:51:38.925873",
     "exception": false,
     "start_time": "2022-07-10T00:51:38.884331",
     "status": "completed"
    },
    "tags": []
   },
   "outputs": [],
   "source": [
    "#hide\n",
    "def get_mappings(url):\n",
    "    df = pd.read_csv(url)\n",
    "    return {\n",
    "        'df': df,\n",
    "        'replace.country': dict(df.dropna(subset=['Name']).set_index('Country')['Name']),\n",
    "        'map.continent': dict(df.set_index('Name')['Continent'])\n",
    "    }"
   ]
  },
  {
   "cell_type": "code",
   "execution_count": 5,
   "id": "intimate-machinery",
   "metadata": {
    "execution": {
     "iopub.execute_input": "2022-07-10T00:51:38.998040Z",
     "iopub.status.busy": "2022-07-10T00:51:38.997323Z",
     "iopub.status.idle": "2022-07-10T00:51:39.037147Z",
     "shell.execute_reply": "2022-07-10T00:51:39.036056Z"
    },
    "papermill": {
     "duration": 0.078992,
     "end_time": "2022-07-10T00:51:39.037359",
     "exception": false,
     "start_time": "2022-07-10T00:51:38.958367",
     "status": "completed"
    },
    "tags": []
   },
   "outputs": [],
   "source": [
    "#hide\n",
    "mapping = get_mappings(paths['mapping'])"
   ]
  },
  {
   "cell_type": "code",
   "execution_count": 6,
   "id": "certified-tactics",
   "metadata": {
    "execution": {
     "iopub.execute_input": "2022-07-10T00:51:39.110550Z",
     "iopub.status.busy": "2022-07-10T00:51:39.109858Z",
     "iopub.status.idle": "2022-07-10T00:51:39.111682Z",
     "shell.execute_reply": "2022-07-10T00:51:39.112326Z"
    },
    "papermill": {
     "duration": 0.040602,
     "end_time": "2022-07-10T00:51:39.112471",
     "exception": false,
     "start_time": "2022-07-10T00:51:39.071869",
     "status": "completed"
    },
    "tags": []
   },
   "outputs": [],
   "source": [
    "#hide\n",
    "def get_template(path):\n",
    "    from urllib.parse import urlparse\n",
    "    if bool(urlparse(path).netloc):\n",
    "        from urllib.request import urlopen\n",
    "        return urlopen(path).read().decode('utf8')\n",
    "    return open(path).read()"
   ]
  },
  {
   "cell_type": "code",
   "execution_count": 7,
   "id": "realistic-blast",
   "metadata": {
    "execution": {
     "iopub.execute_input": "2022-07-10T00:51:39.180514Z",
     "iopub.status.busy": "2022-07-10T00:51:39.179744Z",
     "iopub.status.idle": "2022-07-10T00:51:39.185003Z",
     "shell.execute_reply": "2022-07-10T00:51:39.185654Z"
    },
    "papermill": {
     "duration": 0.041881,
     "end_time": "2022-07-10T00:51:39.185815",
     "exception": false,
     "start_time": "2022-07-10T00:51:39.143934",
     "status": "completed"
    },
    "tags": []
   },
   "outputs": [],
   "source": [
    "#hide\n",
    "def get_frame(name):\n",
    "    url = (\n",
    "        'https://raw.githubusercontent.com/CSSEGISandData/COVID-19/master/csse_covid_19_data/'\n",
    "        f'csse_covid_19_time_series/time_series_covid19_{name}_global.csv')\n",
    "    df = pd.read_csv(url)\n",
    "    # rename countries\n",
    "    df['Country/Region'] = df['Country/Region'].replace(mapping['replace.country'])\n",
    "    return df"
   ]
  },
  {
   "cell_type": "code",
   "execution_count": 8,
   "id": "affiliated-characterization",
   "metadata": {
    "execution": {
     "iopub.execute_input": "2022-07-10T00:51:39.259360Z",
     "iopub.status.busy": "2022-07-10T00:51:39.258664Z",
     "iopub.status.idle": "2022-07-10T00:51:39.261463Z",
     "shell.execute_reply": "2022-07-10T00:51:39.260910Z"
    },
    "papermill": {
     "duration": 0.042889,
     "end_time": "2022-07-10T00:51:39.261586",
     "exception": false,
     "start_time": "2022-07-10T00:51:39.218697",
     "status": "completed"
    },
    "tags": []
   },
   "outputs": [],
   "source": [
    "#hide\n",
    "def get_dates(df):\n",
    "    dt_cols = df.columns[~df.columns.isin(['Province/State', 'Country/Region', 'Lat', 'Long'])]\n",
    "    LAST_DATE_I = -1\n",
    "    # sometimes last column may be empty, then go backwards\n",
    "    for i in range(-1, -len(dt_cols), -1):\n",
    "        if not df[dt_cols[i]].fillna(0).eq(0).all():\n",
    "            LAST_DATE_I = i\n",
    "            break\n",
    "    return LAST_DATE_I, dt_cols"
   ]
  },
  {
   "cell_type": "code",
   "execution_count": 9,
   "id": "recent-optimization",
   "metadata": {
    "execution": {
     "iopub.execute_input": "2022-07-10T00:51:39.332743Z",
     "iopub.status.busy": "2022-07-10T00:51:39.331899Z",
     "iopub.status.idle": "2022-07-10T00:51:39.740064Z",
     "shell.execute_reply": "2022-07-10T00:51:39.739051Z"
    },
    "papermill": {
     "duration": 0.445549,
     "end_time": "2022-07-10T00:51:39.740302",
     "exception": false,
     "start_time": "2022-07-10T00:51:39.294753",
     "status": "completed"
    },
    "tags": []
   },
   "outputs": [],
   "source": [
    "#hide\n",
    "COL_REGION = 'Country/Region'\n",
    "# Confirmed, Recovered, Deaths\n",
    "df = get_frame('confirmed')\n",
    "# dft_: timeseries, dfc_: today country agg\n",
    "dft_cases = df\n",
    "dft_deaths = get_frame('deaths')\n",
    "dft_recovered = get_frame('recovered')\n",
    "LAST_DATE_I, dt_cols = get_dates(df)"
   ]
  },
  {
   "cell_type": "code",
   "execution_count": 10,
   "id": "absolute-copper",
   "metadata": {
    "execution": {
     "iopub.execute_input": "2022-07-10T00:51:39.817676Z",
     "iopub.status.busy": "2022-07-10T00:51:39.815976Z",
     "iopub.status.idle": "2022-07-10T00:51:39.818464Z",
     "shell.execute_reply": "2022-07-10T00:51:39.818980Z"
    },
    "papermill": {
     "duration": 0.044102,
     "end_time": "2022-07-10T00:51:39.819124",
     "exception": false,
     "start_time": "2022-07-10T00:51:39.775022",
     "status": "completed"
    },
    "tags": []
   },
   "outputs": [],
   "source": [
    "#hide\n",
    "LAST_DATE_I, dt_cols = get_dates(df)\n",
    "dt_today =dt_cols[LAST_DATE_I]\n",
    "# dt_5day = dt_cols[LAST_DATE_I - 5]\n",
    "dt_yday = dt_cols[LAST_DATE_I - 1]"
   ]
  },
  {
   "cell_type": "code",
   "execution_count": 11,
   "id": "restricted-sheriff",
   "metadata": {
    "execution": {
     "iopub.execute_input": "2022-07-10T00:51:39.891079Z",
     "iopub.status.busy": "2022-07-10T00:51:39.890329Z",
     "iopub.status.idle": "2022-07-10T00:51:39.898903Z",
     "shell.execute_reply": "2022-07-10T00:51:39.898385Z"
    },
    "papermill": {
     "duration": 0.047006,
     "end_time": "2022-07-10T00:51:39.899020",
     "exception": false,
     "start_time": "2022-07-10T00:51:39.852014",
     "status": "completed"
    },
    "tags": []
   },
   "outputs": [],
   "source": [
    "#hide\n",
    "dfc_cases = dft_cases.groupby(COL_REGION)[dt_today].sum()\n",
    "dfc_deaths = dft_deaths.groupby(COL_REGION)[dt_today].sum()\n",
    "# dfp_cases = dft_cases.groupby(COL_REGION)[dt_5day].sum()\n",
    "# dfp_deaths = dft_deaths.groupby(COL_REGION)[dt_5day].sum()\n",
    "dfp_cases = dft_cases.groupby(COL_REGION)[dt_yday].sum()\n",
    "dfp_deaths = dft_deaths.groupby(COL_REGION)[dt_yday].sum()"
   ]
  },
  {
   "cell_type": "code",
   "execution_count": 12,
   "id": "deluxe-hepatitis",
   "metadata": {
    "execution": {
     "iopub.execute_input": "2022-07-10T00:51:39.972622Z",
     "iopub.status.busy": "2022-07-10T00:51:39.971899Z",
     "iopub.status.idle": "2022-07-10T00:51:39.976893Z",
     "shell.execute_reply": "2022-07-10T00:51:39.977379Z"
    },
    "papermill": {
     "duration": 0.045975,
     "end_time": "2022-07-10T00:51:39.977503",
     "exception": false,
     "start_time": "2022-07-10T00:51:39.931528",
     "status": "completed"
    },
    "tags": []
   },
   "outputs": [],
   "source": [
    "#hide\n",
    "df_table = (pd.DataFrame(dict(Cases = dfc_cases, Deaths = dfc_deaths, PCases = dfp_cases, PDeaths = dfp_deaths))\n",
    "            .sort_values(by = ['Cases','Deaths'], ascending = [False, False])\n",
    "            .reset_index())"
   ]
  },
  {
   "cell_type": "code",
   "execution_count": 13,
   "id": "educational-chancellor",
   "metadata": {
    "execution": {
     "iopub.execute_input": "2022-07-10T00:51:40.064011Z",
     "iopub.status.busy": "2022-07-10T00:51:40.051039Z",
     "iopub.status.idle": "2022-07-10T00:51:40.072743Z",
     "shell.execute_reply": "2022-07-10T00:51:40.073377Z"
    },
    "papermill": {
     "duration": 0.064237,
     "end_time": "2022-07-10T00:51:40.073525",
     "exception": false,
     "start_time": "2022-07-10T00:51:40.009288",
     "status": "completed"
    },
    "tags": []
   },
   "outputs": [
    {
     "data": {
      "text/html": [
       "<div>\n",
       "<style scoped>\n",
       "    .dataframe tbody tr th:only-of-type {\n",
       "        vertical-align: middle;\n",
       "    }\n",
       "\n",
       "    .dataframe tbody tr th {\n",
       "        vertical-align: top;\n",
       "    }\n",
       "\n",
       "    .dataframe thead th {\n",
       "        text-align: right;\n",
       "    }\n",
       "</style>\n",
       "<table border=\"1\" class=\"dataframe\">\n",
       "  <thead>\n",
       "    <tr style=\"text-align: right;\">\n",
       "      <th></th>\n",
       "      <th>Country/Region</th>\n",
       "      <th>Cases</th>\n",
       "      <th>Deaths</th>\n",
       "      <th>PCases</th>\n",
       "      <th>PDeaths</th>\n",
       "      <th>Cases (+)</th>\n",
       "      <th>Deaths (+)</th>\n",
       "      <th>Fatality Rate</th>\n",
       "      <th>Continent</th>\n",
       "    </tr>\n",
       "  </thead>\n",
       "  <tbody>\n",
       "    <tr>\n",
       "      <th>0</th>\n",
       "      <td>US</td>\n",
       "      <td>88547882</td>\n",
       "      <td>1020816</td>\n",
       "      <td>88381589</td>\n",
       "      <td>1020262</td>\n",
       "      <td>166293</td>\n",
       "      <td>554</td>\n",
       "      <td>1.15</td>\n",
       "      <td>North America</td>\n",
       "    </tr>\n",
       "    <tr>\n",
       "      <th>1</th>\n",
       "      <td>India</td>\n",
       "      <td>43604394</td>\n",
       "      <td>525386</td>\n",
       "      <td>43585554</td>\n",
       "      <td>525343</td>\n",
       "      <td>18840</td>\n",
       "      <td>43</td>\n",
       "      <td>1.20</td>\n",
       "      <td>Asia</td>\n",
       "    </tr>\n",
       "    <tr>\n",
       "      <th>2</th>\n",
       "      <td>Brazil</td>\n",
       "      <td>32830844</td>\n",
       "      <td>673339</td>\n",
       "      <td>32759730</td>\n",
       "      <td>673073</td>\n",
       "      <td>71114</td>\n",
       "      <td>266</td>\n",
       "      <td>2.05</td>\n",
       "      <td>South America</td>\n",
       "    </tr>\n",
       "    <tr>\n",
       "      <th>3</th>\n",
       "      <td>France</td>\n",
       "      <td>32318670</td>\n",
       "      <td>151056</td>\n",
       "      <td>32177472</td>\n",
       "      <td>150982</td>\n",
       "      <td>141198</td>\n",
       "      <td>74</td>\n",
       "      <td>0.47</td>\n",
       "      <td>Europe</td>\n",
       "    </tr>\n",
       "    <tr>\n",
       "      <th>4</th>\n",
       "      <td>Germany</td>\n",
       "      <td>29022265</td>\n",
       "      <td>141862</td>\n",
       "      <td>28926346</td>\n",
       "      <td>141758</td>\n",
       "      <td>95919</td>\n",
       "      <td>104</td>\n",
       "      <td>0.49</td>\n",
       "      <td>Europe</td>\n",
       "    </tr>\n",
       "  </tbody>\n",
       "</table>\n",
       "</div>"
      ],
      "text/plain": [
       "  Country/Region     Cases   Deaths    PCases  PDeaths  Cases (+)  Deaths (+)  \\\n",
       "0             US  88547882  1020816  88381589  1020262     166293         554   \n",
       "1          India  43604394   525386  43585554   525343      18840          43   \n",
       "2         Brazil  32830844   673339  32759730   673073      71114         266   \n",
       "3         France  32318670   151056  32177472   150982     141198          74   \n",
       "4        Germany  29022265   141862  28926346   141758      95919         104   \n",
       "\n",
       "   Fatality Rate      Continent  \n",
       "0           1.15  North America  \n",
       "1           1.20           Asia  \n",
       "2           2.05  South America  \n",
       "3           0.47         Europe  \n",
       "4           0.49         Europe  "
      ]
     },
     "execution_count": 13,
     "metadata": {},
     "output_type": "execute_result"
    }
   ],
   "source": [
    "#hide\n",
    "for c in 'Cases, Deaths'.split(', '):\n",
    "    df_table[f'{c} (+)'] = (df_table[c] - df_table[f'P{c}']).clip(0)\n",
    "    #Clip ça veut dire, les chiffres negatif sont interdit\n",
    "df_table['Fatality Rate'] = (100* df_table['Deaths']/ df_table['Cases']).round(2)\n",
    "df_table['Continent'] = df_table['Country/Region'].map(mapping['map.continent'])\n",
    "df_table.head(5)"
   ]
  },
  {
   "cell_type": "code",
   "execution_count": 14,
   "id": "aboriginal-bulgaria",
   "metadata": {
    "execution": {
     "iopub.execute_input": "2022-07-10T00:51:40.149642Z",
     "iopub.status.busy": "2022-07-10T00:51:40.148953Z",
     "iopub.status.idle": "2022-07-10T00:51:40.152914Z",
     "shell.execute_reply": "2022-07-10T00:51:40.152349Z"
    },
    "papermill": {
     "duration": 0.04638,
     "end_time": "2022-07-10T00:51:40.153052",
     "exception": false,
     "start_time": "2022-07-10T00:51:40.106672",
     "status": "completed"
    },
    "tags": []
   },
   "outputs": [],
   "source": [
    "#hide\n",
    "#delete problematic countries from table\n",
    "df_table = df_table[~df_table['Country/Region'].isin(['Cape Verde', 'Cruise Ship', 'Kosovo'])]"
   ]
  },
  {
   "cell_type": "code",
   "execution_count": 15,
   "id": "fantastic-effect",
   "metadata": {
    "execution": {
     "iopub.execute_input": "2022-07-10T00:51:40.229206Z",
     "iopub.status.busy": "2022-07-10T00:51:40.228512Z",
     "iopub.status.idle": "2022-07-10T00:51:40.248674Z",
     "shell.execute_reply": "2022-07-10T00:51:40.249400Z"
    },
    "papermill": {
     "duration": 0.063827,
     "end_time": "2022-07-10T00:51:40.249592",
     "exception": false,
     "start_time": "2022-07-10T00:51:40.185765",
     "status": "completed"
    },
    "tags": []
   },
   "outputs": [
    {
     "data": {
      "text/html": [
       "<div>\n",
       "<style scoped>\n",
       "    .dataframe tbody tr th:only-of-type {\n",
       "        vertical-align: middle;\n",
       "    }\n",
       "\n",
       "    .dataframe tbody tr th {\n",
       "        vertical-align: top;\n",
       "    }\n",
       "\n",
       "    .dataframe thead th {\n",
       "        text-align: right;\n",
       "    }\n",
       "</style>\n",
       "<table border=\"1\" class=\"dataframe\">\n",
       "  <thead>\n",
       "    <tr style=\"text-align: right;\">\n",
       "      <th></th>\n",
       "      <th>Country/Region</th>\n",
       "      <th>Cases</th>\n",
       "      <th>Deaths</th>\n",
       "      <th>PCases</th>\n",
       "      <th>PDeaths</th>\n",
       "      <th>Cases (+)</th>\n",
       "      <th>Deaths (+)</th>\n",
       "      <th>Fatality Rate</th>\n",
       "      <th>Continent</th>\n",
       "    </tr>\n",
       "  </thead>\n",
       "  <tbody>\n",
       "    <tr>\n",
       "      <th>0</th>\n",
       "      <td>US</td>\n",
       "      <td>88547882</td>\n",
       "      <td>1020816</td>\n",
       "      <td>88381589</td>\n",
       "      <td>1020262</td>\n",
       "      <td>166293</td>\n",
       "      <td>554</td>\n",
       "      <td>1.2</td>\n",
       "      <td>North America</td>\n",
       "    </tr>\n",
       "    <tr>\n",
       "      <th>1</th>\n",
       "      <td>India</td>\n",
       "      <td>43604394</td>\n",
       "      <td>525386</td>\n",
       "      <td>43585554</td>\n",
       "      <td>525343</td>\n",
       "      <td>18840</td>\n",
       "      <td>43</td>\n",
       "      <td>1.2</td>\n",
       "      <td>Asia</td>\n",
       "    </tr>\n",
       "    <tr>\n",
       "      <th>2</th>\n",
       "      <td>Brazil</td>\n",
       "      <td>32830844</td>\n",
       "      <td>673339</td>\n",
       "      <td>32759730</td>\n",
       "      <td>673073</td>\n",
       "      <td>71114</td>\n",
       "      <td>266</td>\n",
       "      <td>2.1</td>\n",
       "      <td>South America</td>\n",
       "    </tr>\n",
       "    <tr>\n",
       "      <th>3</th>\n",
       "      <td>France</td>\n",
       "      <td>32318670</td>\n",
       "      <td>151056</td>\n",
       "      <td>32177472</td>\n",
       "      <td>150982</td>\n",
       "      <td>141198</td>\n",
       "      <td>74</td>\n",
       "      <td>0.5</td>\n",
       "      <td>Europe</td>\n",
       "    </tr>\n",
       "    <tr>\n",
       "      <th>4</th>\n",
       "      <td>Germany</td>\n",
       "      <td>29022265</td>\n",
       "      <td>141862</td>\n",
       "      <td>28926346</td>\n",
       "      <td>141758</td>\n",
       "      <td>95919</td>\n",
       "      <td>104</td>\n",
       "      <td>0.5</td>\n",
       "      <td>Europe</td>\n",
       "    </tr>\n",
       "  </tbody>\n",
       "</table>\n",
       "</div>"
      ],
      "text/plain": [
       "  Country/Region     Cases   Deaths    PCases  PDeaths  Cases (+)  Deaths (+)  \\\n",
       "0             US  88547882  1020816  88381589  1020262     166293         554   \n",
       "1          India  43604394   525386  43585554   525343      18840          43   \n",
       "2         Brazil  32830844   673339  32759730   673073      71114         266   \n",
       "3         France  32318670   151056  32177472   150982     141198          74   \n",
       "4        Germany  29022265   141862  28926346   141758      95919         104   \n",
       "\n",
       "   Fatality Rate      Continent  \n",
       "0            1.2  North America  \n",
       "1            1.2           Asia  \n",
       "2            2.1  South America  \n",
       "3            0.5         Europe  \n",
       "4            0.5         Europe  "
      ]
     },
     "execution_count": 15,
     "metadata": {},
     "output_type": "execute_result"
    }
   ],
   "source": [
    "#hide\n",
    "df_table = (pd.DataFrame(dict(Cases=dfc_cases, Deaths=dfc_deaths, PCases=dfp_cases, PDeaths=dfp_deaths))\n",
    "             .sort_values(by=['Cases', 'Deaths'], ascending=[False, False])\n",
    "             .reset_index())\n",
    "df_table.rename(columns={'index': 'Country/Region'}, inplace=True)\n",
    "for c in 'Cases, Deaths'.split(', '):\n",
    "    df_table[f'{c} (+)'] = (df_table[c] - df_table[f'P{c}']).clip(0)  # DATA BUG\n",
    "df_table['Fatality Rate'] = (100 * df_table['Deaths'] / df_table['Cases']).round(1)\n",
    "df_table['Continent'] = df_table['Country/Region'].map(mapping['map.continent'])\n",
    "df_table.head(5)"
   ]
  },
  {
   "cell_type": "code",
   "execution_count": 16,
   "id": "fewer-occasion",
   "metadata": {
    "execution": {
     "iopub.execute_input": "2022-07-10T00:51:40.324810Z",
     "iopub.status.busy": "2022-07-10T00:51:40.320924Z",
     "iopub.status.idle": "2022-07-10T00:51:40.327989Z",
     "shell.execute_reply": "2022-07-10T00:51:40.327302Z"
    },
    "papermill": {
     "duration": 0.044382,
     "end_time": "2022-07-10T00:51:40.328149",
     "exception": false,
     "start_time": "2022-07-10T00:51:40.283767",
     "status": "completed"
    },
    "tags": []
   },
   "outputs": [],
   "source": [
    "#hide\n",
    "#delete problematic countries from table\n",
    "df_table = df_table[~df_table['Country/Region'].isin(['Cape Verde', 'Cruise Ship', 'Kosovo'])]"
   ]
  },
  {
   "cell_type": "code",
   "execution_count": 17,
   "id": "related-center",
   "metadata": {
    "execution": {
     "iopub.execute_input": "2022-07-10T00:51:40.401125Z",
     "iopub.status.busy": "2022-07-10T00:51:40.400482Z",
     "iopub.status.idle": "2022-07-10T00:51:40.414864Z",
     "shell.execute_reply": "2022-07-10T00:51:40.415361Z"
    },
    "papermill": {
     "duration": 0.055849,
     "end_time": "2022-07-10T00:51:40.415509",
     "exception": false,
     "start_time": "2022-07-10T00:51:40.359660",
     "status": "completed"
    },
    "tags": []
   },
   "outputs": [],
   "source": [
    "#hide\n",
    "metrics = [df_table.columns[index] for index in [1,2,5,6]]\n",
    "# s_china = df_table[df_table['Country/Region'].eq('China')][metrics].sum().add_prefix('China ')\n",
    "s_us = df_table[df_table['Country/Region'].eq('US')][metrics].sum().add_prefix('US ')\n",
    "s_eu = df_table[df_table['Continent'].eq('Europe')][metrics].sum().add_prefix('EU ')\n",
    "s_ind = df_table[df_table['Country/Region'].eq('India')][metrics].sum().add_prefix('India ')\n",
    "summary = {'updated': pd.to_datetime(dt_today), 'since': pd.to_datetime(dt_yday)}\n",
    "summary = {'updated': pd.to_datetime(dt_today), 'since': pd.to_datetime(dt_yday)}\n",
    "summary = {**summary, **df_table[metrics].sum(), **s_ind, **s_us, **s_eu}"
   ]
  },
  {
   "cell_type": "code",
   "execution_count": 18,
   "id": "engaging-syndrome",
   "metadata": {
    "execution": {
     "iopub.execute_input": "2022-07-10T00:51:40.483178Z",
     "iopub.status.busy": "2022-07-10T00:51:40.482552Z",
     "iopub.status.idle": "2022-07-10T00:51:40.505064Z",
     "shell.execute_reply": "2022-07-10T00:51:40.505717Z"
    },
    "papermill": {
     "duration": 0.059911,
     "end_time": "2022-07-10T00:51:40.505895",
     "exception": false,
     "start_time": "2022-07-10T00:51:40.445984",
     "status": "completed"
    },
    "tags": []
   },
   "outputs": [],
   "source": [
    "#hide\n",
    "dft_ct_new_cases = dft_cases.groupby(COL_REGION)[dt_cols].sum().diff(axis=1).fillna(0).astype(int)"
   ]
  },
  {
   "cell_type": "code",
   "execution_count": 19,
   "id": "neutral-assignment",
   "metadata": {
    "execution": {
     "iopub.execute_input": "2022-07-10T00:51:40.578385Z",
     "iopub.status.busy": "2022-07-10T00:51:40.577770Z",
     "iopub.status.idle": "2022-07-10T00:51:40.583353Z",
     "shell.execute_reply": "2022-07-10T00:51:40.583857Z"
    },
    "papermill": {
     "duration": 0.045016,
     "end_time": "2022-07-10T00:51:40.584007",
     "exception": false,
     "start_time": "2022-07-10T00:51:40.538991",
     "status": "completed"
    },
    "tags": []
   },
   "outputs": [],
   "source": [
    "#hide\n",
    "everydaycases = dft_ct_new_cases.cumsum(axis=1)"
   ]
  },
  {
   "cell_type": "code",
   "execution_count": 20,
   "id": "parliamentary-calgary",
   "metadata": {
    "execution": {
     "iopub.execute_input": "2022-07-10T00:51:40.654687Z",
     "iopub.status.busy": "2022-07-10T00:51:40.653988Z",
     "iopub.status.idle": "2022-07-10T00:51:41.270520Z",
     "shell.execute_reply": "2022-07-10T00:51:41.269783Z"
    },
    "papermill": {
     "duration": 0.653568,
     "end_time": "2022-07-10T00:51:41.270661",
     "exception": false,
     "start_time": "2022-07-10T00:51:40.617093",
     "status": "completed"
    },
    "tags": []
   },
   "outputs": [],
   "source": [
    "#hide\n",
    "import pandas as pd\n",
    "import matplotlib.pyplot as plt\n",
    "import matplotlib.ticker as ticker\n",
    "import matplotlib.animation as animation\n",
    "from IPython.display import HTML"
   ]
  },
  {
   "cell_type": "code",
   "execution_count": 21,
   "id": "lasting-extraction",
   "metadata": {
    "execution": {
     "iopub.execute_input": "2022-07-10T00:51:41.345337Z",
     "iopub.status.busy": "2022-07-10T00:51:41.344639Z",
     "iopub.status.idle": "2022-07-10T00:51:41.352653Z",
     "shell.execute_reply": "2022-07-10T00:51:41.352114Z"
    },
    "papermill": {
     "duration": 0.04832,
     "end_time": "2022-07-10T00:51:41.352774",
     "exception": false,
     "start_time": "2022-07-10T00:51:41.304454",
     "status": "completed"
    },
    "tags": []
   },
   "outputs": [],
   "source": [
    "#hide\n",
    "t = everydaycases.stack()"
   ]
  },
  {
   "cell_type": "code",
   "execution_count": 22,
   "id": "premier-sleeve",
   "metadata": {
    "execution": {
     "iopub.execute_input": "2022-07-10T00:51:41.429060Z",
     "iopub.status.busy": "2022-07-10T00:51:41.428232Z",
     "iopub.status.idle": "2022-07-10T00:51:41.448620Z",
     "shell.execute_reply": "2022-07-10T00:51:41.448044Z"
    },
    "papermill": {
     "duration": 0.061901,
     "end_time": "2022-07-10T00:51:41.448742",
     "exception": false,
     "start_time": "2022-07-10T00:51:41.386841",
     "status": "completed"
    },
    "tags": []
   },
   "outputs": [],
   "source": [
    "#hide\n",
    "g = t.reset_index(['Country/Region'])"
   ]
  },
  {
   "cell_type": "code",
   "execution_count": 23,
   "id": "distributed-pittsburgh",
   "metadata": {
    "execution": {
     "iopub.execute_input": "2022-07-10T00:51:41.525404Z",
     "iopub.status.busy": "2022-07-10T00:51:41.524707Z",
     "iopub.status.idle": "2022-07-10T00:51:41.526379Z",
     "shell.execute_reply": "2022-07-10T00:51:41.527004Z"
    },
    "papermill": {
     "duration": 0.043546,
     "end_time": "2022-07-10T00:51:41.527148",
     "exception": false,
     "start_time": "2022-07-10T00:51:41.483602",
     "status": "completed"
    },
    "tags": []
   },
   "outputs": [],
   "source": [
    "#hide\n",
    "g.index.name = 'date'"
   ]
  },
  {
   "cell_type": "code",
   "execution_count": 24,
   "id": "naked-donor",
   "metadata": {
    "execution": {
     "iopub.execute_input": "2022-07-10T00:51:41.599027Z",
     "iopub.status.busy": "2022-07-10T00:51:41.598318Z",
     "iopub.status.idle": "2022-07-10T00:51:41.601109Z",
     "shell.execute_reply": "2022-07-10T00:51:41.600533Z"
    },
    "papermill": {
     "duration": 0.040902,
     "end_time": "2022-07-10T00:51:41.601234",
     "exception": false,
     "start_time": "2022-07-10T00:51:41.560332",
     "status": "completed"
    },
    "tags": []
   },
   "outputs": [],
   "source": [
    "# #hide\n",
    "# g = g.reset_index(['date'])"
   ]
  },
  {
   "cell_type": "code",
   "execution_count": 25,
   "id": "incomplete-mustang",
   "metadata": {
    "execution": {
     "iopub.execute_input": "2022-07-10T00:51:41.675899Z",
     "iopub.status.busy": "2022-07-10T00:51:41.674673Z",
     "iopub.status.idle": "2022-07-10T00:51:41.679699Z",
     "shell.execute_reply": "2022-07-10T00:51:41.679149Z"
    },
    "papermill": {
     "duration": 0.043693,
     "end_time": "2022-07-10T00:51:41.679820",
     "exception": false,
     "start_time": "2022-07-10T00:51:41.636127",
     "status": "completed"
    },
    "tags": []
   },
   "outputs": [],
   "source": [
    "#hide\n",
    "# g.head()"
   ]
  },
  {
   "cell_type": "code",
   "execution_count": 26,
   "id": "specific-kruger",
   "metadata": {
    "execution": {
     "iopub.execute_input": "2022-07-10T00:51:41.754538Z",
     "iopub.status.busy": "2022-07-10T00:51:41.753330Z",
     "iopub.status.idle": "2022-07-10T00:51:41.755827Z",
     "shell.execute_reply": "2022-07-10T00:51:41.756760Z"
    },
    "papermill": {
     "duration": 0.04359,
     "end_time": "2022-07-10T00:51:41.756998",
     "exception": false,
     "start_time": "2022-07-10T00:51:41.713408",
     "status": "completed"
    },
    "tags": []
   },
   "outputs": [],
   "source": [
    "#hide\n",
    "# g.columns = ['date','country','cases']"
   ]
  },
  {
   "cell_type": "code",
   "execution_count": 27,
   "id": "tender-conversion",
   "metadata": {
    "execution": {
     "iopub.execute_input": "2022-07-10T00:51:41.830008Z",
     "iopub.status.busy": "2022-07-10T00:51:41.829093Z",
     "iopub.status.idle": "2022-07-10T00:51:41.833439Z",
     "shell.execute_reply": "2022-07-10T00:51:41.833935Z"
    },
    "papermill": {
     "duration": 0.043071,
     "end_time": "2022-07-10T00:51:41.834082",
     "exception": false,
     "start_time": "2022-07-10T00:51:41.791011",
     "status": "completed"
    },
    "tags": []
   },
   "outputs": [],
   "source": [
    "#hide\n",
    "# g['continent'] = g.country"
   ]
  },
  {
   "cell_type": "code",
   "execution_count": 28,
   "id": "substantial-wilderness",
   "metadata": {
    "execution": {
     "iopub.execute_input": "2022-07-10T00:51:41.912594Z",
     "iopub.status.busy": "2022-07-10T00:51:41.911826Z",
     "iopub.status.idle": "2022-07-10T00:51:41.914901Z",
     "shell.execute_reply": "2022-07-10T00:51:41.914381Z"
    },
    "papermill": {
     "duration": 0.044463,
     "end_time": "2022-07-10T00:51:41.915021",
     "exception": false,
     "start_time": "2022-07-10T00:51:41.870558",
     "status": "completed"
    },
    "tags": []
   },
   "outputs": [],
   "source": [
    "#hide\n",
    "# cols = list(g.columns.values)"
   ]
  },
  {
   "cell_type": "code",
   "execution_count": 29,
   "id": "solved-farming",
   "metadata": {
    "execution": {
     "iopub.execute_input": "2022-07-10T00:51:41.989797Z",
     "iopub.status.busy": "2022-07-10T00:51:41.988574Z",
     "iopub.status.idle": "2022-07-10T00:51:41.991157Z",
     "shell.execute_reply": "2022-07-10T00:51:41.992020Z"
    },
    "papermill": {
     "duration": 0.043221,
     "end_time": "2022-07-10T00:51:41.992192",
     "exception": false,
     "start_time": "2022-07-10T00:51:41.948971",
     "status": "completed"
    },
    "tags": []
   },
   "outputs": [],
   "source": [
    "#hide\n",
    "# cols.insert(0, cols.pop())"
   ]
  },
  {
   "cell_type": "code",
   "execution_count": 30,
   "id": "executed-adoption",
   "metadata": {
    "execution": {
     "iopub.execute_input": "2022-07-10T00:51:42.073759Z",
     "iopub.status.busy": "2022-07-10T00:51:42.072761Z",
     "iopub.status.idle": "2022-07-10T00:51:42.074517Z",
     "shell.execute_reply": "2022-07-10T00:51:42.075028Z"
    },
    "papermill": {
     "duration": 0.046826,
     "end_time": "2022-07-10T00:51:42.075177",
     "exception": false,
     "start_time": "2022-07-10T00:51:42.028351",
     "status": "completed"
    },
    "tags": []
   },
   "outputs": [],
   "source": [
    "#hide\n",
    "# g = g[cols]"
   ]
  },
  {
   "cell_type": "code",
   "execution_count": 31,
   "id": "subject-dublin",
   "metadata": {
    "execution": {
     "iopub.execute_input": "2022-07-10T00:51:42.145785Z",
     "iopub.status.busy": "2022-07-10T00:51:42.144971Z",
     "iopub.status.idle": "2022-07-10T00:51:42.149330Z",
     "shell.execute_reply": "2022-07-10T00:51:42.148708Z"
    },
    "papermill": {
     "duration": 0.041178,
     "end_time": "2022-07-10T00:51:42.149449",
     "exception": false,
     "start_time": "2022-07-10T00:51:42.108271",
     "status": "completed"
    },
    "tags": []
   },
   "outputs": [],
   "source": [
    "#hide\n",
    "# g['continent'] = g['continent'].map(mapping['map.continent'])"
   ]
  },
  {
   "cell_type": "code",
   "execution_count": 32,
   "id": "freelance-scout",
   "metadata": {
    "execution": {
     "iopub.execute_input": "2022-07-10T00:51:42.222221Z",
     "iopub.status.busy": "2022-07-10T00:51:42.221259Z",
     "iopub.status.idle": "2022-07-10T00:51:42.227103Z",
     "shell.execute_reply": "2022-07-10T00:51:42.226560Z"
    },
    "papermill": {
     "duration": 0.044726,
     "end_time": "2022-07-10T00:51:42.227233",
     "exception": false,
     "start_time": "2022-07-10T00:51:42.182507",
     "status": "completed"
    },
    "tags": []
   },
   "outputs": [],
   "source": [
    "#hide\n",
    "# g.head()"
   ]
  },
  {
   "cell_type": "code",
   "execution_count": 33,
   "id": "limited-engine",
   "metadata": {
    "execution": {
     "iopub.execute_input": "2022-07-10T00:51:42.304534Z",
     "iopub.status.busy": "2022-07-10T00:51:42.303313Z",
     "iopub.status.idle": "2022-07-10T00:51:42.305826Z",
     "shell.execute_reply": "2022-07-10T00:51:42.306719Z"
    },
    "papermill": {
     "duration": 0.044118,
     "end_time": "2022-07-10T00:51:42.306949",
     "exception": false,
     "start_time": "2022-07-10T00:51:42.262831",
     "status": "completed"
    },
    "tags": []
   },
   "outputs": [],
   "source": [
    "# hide\n",
    "# g['date'] = g['date'].astype('datetime64[ns]')"
   ]
  },
  {
   "cell_type": "code",
   "execution_count": 34,
   "id": "sophisticated-supervisor",
   "metadata": {
    "execution": {
     "iopub.execute_input": "2022-07-10T00:51:42.381021Z",
     "iopub.status.busy": "2022-07-10T00:51:42.380310Z",
     "iopub.status.idle": "2022-07-10T00:51:42.383200Z",
     "shell.execute_reply": "2022-07-10T00:51:42.382683Z"
    },
    "papermill": {
     "duration": 0.041826,
     "end_time": "2022-07-10T00:51:42.383317",
     "exception": false,
     "start_time": "2022-07-10T00:51:42.341491",
     "status": "completed"
    },
    "tags": []
   },
   "outputs": [],
   "source": [
    "#hide\n",
    "# g['date'] = g.date.dt.dayofyear"
   ]
  },
  {
   "cell_type": "code",
   "execution_count": 35,
   "id": "inside-dubai",
   "metadata": {
    "execution": {
     "iopub.execute_input": "2022-07-10T00:51:42.458547Z",
     "iopub.status.busy": "2022-07-10T00:51:42.457821Z",
     "iopub.status.idle": "2022-07-10T00:51:42.460806Z",
     "shell.execute_reply": "2022-07-10T00:51:42.460115Z"
    },
    "papermill": {
     "duration": 0.042389,
     "end_time": "2022-07-10T00:51:42.460929",
     "exception": false,
     "start_time": "2022-07-10T00:51:42.418540",
     "status": "completed"
    },
    "tags": []
   },
   "outputs": [],
   "source": [
    "#hide\n",
    "# g = g.rename(columns= {'continent':'group','country':'name','cases':'value'})"
   ]
  },
  {
   "cell_type": "code",
   "execution_count": 36,
   "id": "fleet-motorcycle",
   "metadata": {
    "execution": {
     "iopub.execute_input": "2022-07-10T00:51:42.536353Z",
     "iopub.status.busy": "2022-07-10T00:51:42.535612Z",
     "iopub.status.idle": "2022-07-10T00:51:42.538331Z",
     "shell.execute_reply": "2022-07-10T00:51:42.537784Z"
    },
    "papermill": {
     "duration": 0.042475,
     "end_time": "2022-07-10T00:51:42.538465",
     "exception": false,
     "start_time": "2022-07-10T00:51:42.495990",
     "status": "completed"
    },
    "tags": []
   },
   "outputs": [],
   "source": [
    "#hide\n",
    "# cols = ['name','group','day','value']"
   ]
  },
  {
   "cell_type": "code",
   "execution_count": 37,
   "id": "continued-sleeping",
   "metadata": {
    "execution": {
     "iopub.execute_input": "2022-07-10T00:51:42.613061Z",
     "iopub.status.busy": "2022-07-10T00:51:42.612138Z",
     "iopub.status.idle": "2022-07-10T00:51:42.614378Z",
     "shell.execute_reply": "2022-07-10T00:51:42.615008Z"
    },
    "papermill": {
     "duration": 0.04163,
     "end_time": "2022-07-10T00:51:42.615150",
     "exception": false,
     "start_time": "2022-07-10T00:51:42.573520",
     "status": "completed"
    },
    "tags": []
   },
   "outputs": [],
   "source": [
    "#hide\n",
    "# g.rename(columns= {'date':'day'},inplace = True)"
   ]
  },
  {
   "cell_type": "code",
   "execution_count": 38,
   "id": "major-fight",
   "metadata": {
    "execution": {
     "iopub.execute_input": "2022-07-10T00:51:42.690077Z",
     "iopub.status.busy": "2022-07-10T00:51:42.689218Z",
     "iopub.status.idle": "2022-07-10T00:51:42.690959Z",
     "shell.execute_reply": "2022-07-10T00:51:42.691624Z"
    },
    "papermill": {
     "duration": 0.040948,
     "end_time": "2022-07-10T00:51:42.691793",
     "exception": false,
     "start_time": "2022-07-10T00:51:42.650845",
     "status": "completed"
    },
    "tags": []
   },
   "outputs": [],
   "source": [
    "#hide\n",
    "# g = g[cols]"
   ]
  },
  {
   "cell_type": "code",
   "execution_count": 39,
   "id": "structured-mobile",
   "metadata": {
    "execution": {
     "iopub.execute_input": "2022-07-10T00:51:42.766253Z",
     "iopub.status.busy": "2022-07-10T00:51:42.765576Z",
     "iopub.status.idle": "2022-07-10T00:51:42.768601Z",
     "shell.execute_reply": "2022-07-10T00:51:42.768079Z"
    },
    "papermill": {
     "duration": 0.041725,
     "end_time": "2022-07-10T00:51:42.768719",
     "exception": false,
     "start_time": "2022-07-10T00:51:42.726994",
     "status": "completed"
    },
    "tags": []
   },
   "outputs": [],
   "source": [
    "# #hide\n",
    "# g = g[g.group.notna()]"
   ]
  },
  {
   "cell_type": "code",
   "execution_count": 40,
   "id": "determined-closing",
   "metadata": {
    "execution": {
     "iopub.execute_input": "2022-07-10T00:51:42.844889Z",
     "iopub.status.busy": "2022-07-10T00:51:42.844229Z",
     "iopub.status.idle": "2022-07-10T00:51:42.847214Z",
     "shell.execute_reply": "2022-07-10T00:51:42.848046Z"
    },
    "papermill": {
     "duration": 0.043952,
     "end_time": "2022-07-10T00:51:42.848213",
     "exception": false,
     "start_time": "2022-07-10T00:51:42.804261",
     "status": "completed"
    },
    "tags": []
   },
   "outputs": [],
   "source": [
    "# #hide\n",
    "# colors = dict(zip(\n",
    "#     [\"Oceania\", \"Europe\", \"Asia\", \"South America\", \"Middle East\", \"North America\", \"Africa\"],\n",
    "#     [\"#adb0ff\", \"#ffb3ff\", \"#90d595\", \"#e48381\", \"#aafbff\", \"#f7bb5f\", \"#eafb50\"]\n",
    "# ))\n",
    "# group_lk = g.set_index('name')['group'].to_dict()"
   ]
  },
  {
   "cell_type": "code",
   "execution_count": null,
   "id": "gross-drinking",
   "metadata": {
    "papermill": {
     "duration": 0.033828,
     "end_time": "2022-07-10T00:51:42.918857",
     "exception": false,
     "start_time": "2022-07-10T00:51:42.885029",
     "status": "completed"
    },
    "tags": []
   },
   "outputs": [],
   "source": []
  },
  {
   "cell_type": "code",
   "execution_count": 41,
   "id": "subject-macintosh",
   "metadata": {
    "execution": {
     "iopub.execute_input": "2022-07-10T00:51:42.992536Z",
     "iopub.status.busy": "2022-07-10T00:51:42.991802Z",
     "iopub.status.idle": "2022-07-10T00:51:42.994579Z",
     "shell.execute_reply": "2022-07-10T00:51:42.995225Z"
    },
    "papermill": {
     "duration": 0.043103,
     "end_time": "2022-07-10T00:51:42.995373",
     "exception": false,
     "start_time": "2022-07-10T00:51:42.952270",
     "status": "completed"
    },
    "tags": []
   },
   "outputs": [],
   "source": [
    "# #hide\n",
    "# fig, ax = plt.subplots(figsize=(15, 8))\n",
    "\n",
    "# def draw_barchart(current_day):\n",
    "#     dff = g[g['day'].eq(current_day)].sort_values(by='value', ascending=True).tail(10)\n",
    "#     ax.clear()\n",
    "#     ax.barh(dff['name'], dff['value'], color=[colors[group_lk[x]] for x in dff['name']])\n",
    "#     dx = dff['value'].max() / 200\n",
    "    \n",
    "#     for i, (value, name) in enumerate(zip(dff['value'], dff['name'])):\n",
    "#         ax.text(value-dx, i,     name,           size=14, weight=600, ha='right', va='bottom')\n",
    "#         ax.text(value-dx, i-.25, group_lk[name], size=10, color='#444444', ha='right', va='baseline')\n",
    "#         ax.text(value+dx, i,     f'{value:,.0f}',  size=14, ha='left',  va='center')\n",
    "#     ax.text(1, 0.4, current_day, transform=ax.transAxes, color='#777777', size=46, ha='right', weight=800)\n",
    "#     ax.text(0, 1.06, 'Population (thousands)', transform=ax.transAxes, size=12, color='#777777')\n",
    "#     ax.xaxis.set_major_formatter(ticker.StrMethodFormatter('{x:,.0f}'))\n",
    "#     ax.xaxis.set_ticks_position('top')\n",
    "#     ax.tick_params(axis='x', colors='#777777', labelsize=12)\n",
    "#     ax.set_yticks([])\n",
    "#     ax.margins(0, 0.01)\n",
    "#     ax.grid(which='major', axis='x', linestyle='-')\n",
    "#     ax.set_axisbelow(True)\n",
    "    \n",
    "#     ax.text(0, 1.15, 'Coronavirus',\n",
    "#             transform=ax.transAxes, size=24, weight=600, ha='left', va='top')\n",
    "# #     ax.text(1, 0, 'by @pratapvardhan; credit @jburnmurdoch', transform=ax.transAxes, color='#777777', ha='right',\n",
    "# #             bbox=dict(facecolor='white', alpha=0.8, edgecolor='white'))\n",
    "#     plt.box(False)"
   ]
  },
  {
   "cell_type": "code",
   "execution_count": 42,
   "id": "sexual-wages",
   "metadata": {
    "execution": {
     "iopub.execute_input": "2022-07-10T00:51:43.069416Z",
     "iopub.status.busy": "2022-07-10T00:51:43.068385Z",
     "iopub.status.idle": "2022-07-10T00:51:43.071005Z",
     "shell.execute_reply": "2022-07-10T00:51:43.071878Z"
    },
    "papermill": {
     "duration": 0.043702,
     "end_time": "2022-07-10T00:51:43.073443",
     "exception": false,
     "start_time": "2022-07-10T00:51:43.029741",
     "status": "completed"
    },
    "tags": []
   },
   "outputs": [],
   "source": [
    "# #hide_input\n",
    "# fig, ax = plt.subplots(figsize=(15, 8))\n",
    "# animator = animation.FuncAnimation(fig, draw_barchart, frames=range(g.day.values.min(), g.day.values.max()))\n",
    "# HTML(animator.to_jshtml())\n",
    "# # or use animator.to_html5_video() or animator.save() "
   ]
  },
  {
   "cell_type": "code",
   "execution_count": null,
   "id": "australian-container",
   "metadata": {
    "papermill": {
     "duration": 0.031775,
     "end_time": "2022-07-10T00:51:43.140381",
     "exception": false,
     "start_time": "2022-07-10T00:51:43.108606",
     "status": "completed"
    },
    "tags": []
   },
   "outputs": [],
   "source": []
  },
  {
   "cell_type": "code",
   "execution_count": null,
   "id": "mediterranean-pontiac",
   "metadata": {
    "papermill": {
     "duration": 0.03755,
     "end_time": "2022-07-10T00:51:43.213881",
     "exception": false,
     "start_time": "2022-07-10T00:51:43.176331",
     "status": "completed"
    },
    "tags": []
   },
   "outputs": [],
   "source": []
  },
  {
   "cell_type": "code",
   "execution_count": null,
   "id": "aging-legislature",
   "metadata": {
    "papermill": {
     "duration": 0.035731,
     "end_time": "2022-07-10T00:51:43.284420",
     "exception": false,
     "start_time": "2022-07-10T00:51:43.248689",
     "status": "completed"
    },
    "tags": []
   },
   "outputs": [],
   "source": []
  }
 ],
 "metadata": {
  "kernelspec": {
   "display_name": "Python 3",
   "language": "python",
   "name": "python3"
  },
  "language_info": {
   "codemirror_mode": {
    "name": "ipython",
    "version": 3
   },
   "file_extension": ".py",
   "mimetype": "text/x-python",
   "name": "python",
   "nbconvert_exporter": "python",
   "pygments_lexer": "ipython3",
   "version": "3.6.15"
  },
  "papermill": {
   "duration": 6.828262,
   "end_time": "2022-07-10T00:51:43.739143",
   "environment_variables": {},
   "exception": null,
   "input_path": "2020-03-21-covid19exp.ipynb",
   "output_path": "2020-03-21-covid19exp.ipynb",
   "parameters": {},
   "start_time": "2022-07-10T00:51:36.910881",
   "version": "2.0.0"
  }
 },
 "nbformat": 4,
 "nbformat_minor": 5
}