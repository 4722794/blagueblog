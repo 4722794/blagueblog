{
 "cells": [
  {
   "cell_type": "markdown",
   "id": "muslim-click",
   "metadata": {
    "papermill": {
     "duration": 0.04367,
     "end_time": "2021-08-24T12:48:22.271067",
     "exception": false,
     "start_time": "2021-08-24T12:48:22.227397",
     "status": "completed"
    },
    "tags": []
   },
   "source": [
    "# COVID-19 Case Race\n",
    "> A race chart to see rising cases around the world\n",
    "\n",
    "- author: Hargun Oberoi\n",
    "- image: images/covid-overview.png\n",
    "- hide: false\n",
    "- badges: false"
   ]
  },
  {
   "cell_type": "code",
   "execution_count": 1,
   "id": "proof-material",
   "metadata": {
    "execution": {
     "iopub.execute_input": "2021-08-24T12:48:22.360509Z",
     "iopub.status.busy": "2021-08-24T12:48:22.359828Z",
     "iopub.status.idle": "2021-08-24T12:48:22.755660Z",
     "shell.execute_reply": "2021-08-24T12:48:22.756186Z"
    },
    "papermill": {
     "duration": 0.445505,
     "end_time": "2021-08-24T12:48:22.756385",
     "exception": false,
     "start_time": "2021-08-24T12:48:22.310880",
     "status": "completed"
    },
    "tags": []
   },
   "outputs": [],
   "source": [
    "#hide\n",
    "import numpy as np\n",
    "import pandas as pd\n",
    "from jinja2 import Template\n",
    "from IPython.display import HTML"
   ]
  },
  {
   "cell_type": "code",
   "execution_count": 2,
   "id": "developed-terminology",
   "metadata": {
    "execution": {
     "iopub.execute_input": "2021-08-24T12:48:22.841422Z",
     "iopub.status.busy": "2021-08-24T12:48:22.840724Z",
     "iopub.status.idle": "2021-08-24T12:48:22.842696Z",
     "shell.execute_reply": "2021-08-24T12:48:22.843308Z"
    },
    "papermill": {
     "duration": 0.047927,
     "end_time": "2021-08-24T12:48:22.843493",
     "exception": false,
     "start_time": "2021-08-24T12:48:22.795566",
     "status": "completed"
    },
    "tags": []
   },
   "outputs": [],
   "source": [
    "#hide\n",
    "\n",
    "# FETCH\n",
    "base_url = 'https://raw.githubusercontent.com/pratapvardhan/notebooks/master/covid19/'\n",
    "paths = {\n",
    "    'mapping': base_url + 'mapping_countries.csv',\n",
    "    'overview': base_url + 'overview.tpl'\n",
    "}"
   ]
  },
  {
   "cell_type": "code",
   "execution_count": 3,
   "id": "dynamic-saver",
   "metadata": {
    "execution": {
     "iopub.execute_input": "2021-08-24T12:48:22.931803Z",
     "iopub.status.busy": "2021-08-24T12:48:22.931121Z",
     "iopub.status.idle": "2021-08-24T12:48:22.934827Z",
     "shell.execute_reply": "2021-08-24T12:48:22.934251Z"
    },
    "papermill": {
     "duration": 0.052805,
     "end_time": "2021-08-24T12:48:22.934963",
     "exception": false,
     "start_time": "2021-08-24T12:48:22.882158",
     "status": "completed"
    },
    "tags": []
   },
   "outputs": [
    {
     "data": {
      "text/plain": [
       "'https://raw.githubusercontent.com/pratapvardhan/notebooks/master/covid19/mapping_countries.csv'"
      ]
     },
     "execution_count": 3,
     "metadata": {},
     "output_type": "execute_result"
    }
   ],
   "source": [
    "#hide\n",
    "paths['mapping']"
   ]
  },
  {
   "cell_type": "code",
   "execution_count": 4,
   "id": "urban-software",
   "metadata": {
    "execution": {
     "iopub.execute_input": "2021-08-24T12:48:23.019796Z",
     "iopub.status.busy": "2021-08-24T12:48:23.019148Z",
     "iopub.status.idle": "2021-08-24T12:48:23.021526Z",
     "shell.execute_reply": "2021-08-24T12:48:23.020980Z"
    },
    "papermill": {
     "duration": 0.048701,
     "end_time": "2021-08-24T12:48:23.021656",
     "exception": false,
     "start_time": "2021-08-24T12:48:22.972955",
     "status": "completed"
    },
    "tags": []
   },
   "outputs": [],
   "source": [
    "#hide\n",
    "def get_mappings(url):\n",
    "    df = pd.read_csv(url)\n",
    "    return {\n",
    "        'df': df,\n",
    "        'replace.country': dict(df.dropna(subset=['Name']).set_index('Country')['Name']),\n",
    "        'map.continent': dict(df.set_index('Name')['Continent'])\n",
    "    }"
   ]
  },
  {
   "cell_type": "code",
   "execution_count": 5,
   "id": "intimate-machinery",
   "metadata": {
    "execution": {
     "iopub.execute_input": "2021-08-24T12:48:23.106820Z",
     "iopub.status.busy": "2021-08-24T12:48:23.106167Z",
     "iopub.status.idle": "2021-08-24T12:48:23.146611Z",
     "shell.execute_reply": "2021-08-24T12:48:23.147149Z"
    },
    "papermill": {
     "duration": 0.086807,
     "end_time": "2021-08-24T12:48:23.147297",
     "exception": false,
     "start_time": "2021-08-24T12:48:23.060490",
     "status": "completed"
    },
    "tags": []
   },
   "outputs": [],
   "source": [
    "#hide\n",
    "mapping = get_mappings(paths['mapping'])"
   ]
  },
  {
   "cell_type": "code",
   "execution_count": 6,
   "id": "certified-tactics",
   "metadata": {
    "execution": {
     "iopub.execute_input": "2021-08-24T12:48:23.229212Z",
     "iopub.status.busy": "2021-08-24T12:48:23.228549Z",
     "iopub.status.idle": "2021-08-24T12:48:23.230619Z",
     "shell.execute_reply": "2021-08-24T12:48:23.231129Z"
    },
    "papermill": {
     "duration": 0.046334,
     "end_time": "2021-08-24T12:48:23.231269",
     "exception": false,
     "start_time": "2021-08-24T12:48:23.184935",
     "status": "completed"
    },
    "tags": []
   },
   "outputs": [],
   "source": [
    "#hide\n",
    "def get_template(path):\n",
    "    from urllib.parse import urlparse\n",
    "    if bool(urlparse(path).netloc):\n",
    "        from urllib.request import urlopen\n",
    "        return urlopen(path).read().decode('utf8')\n",
    "    return open(path).read()"
   ]
  },
  {
   "cell_type": "code",
   "execution_count": 7,
   "id": "realistic-blast",
   "metadata": {
    "execution": {
     "iopub.execute_input": "2021-08-24T12:48:23.312969Z",
     "iopub.status.busy": "2021-08-24T12:48:23.312303Z",
     "iopub.status.idle": "2021-08-24T12:48:23.314899Z",
     "shell.execute_reply": "2021-08-24T12:48:23.314334Z"
    },
    "papermill": {
     "duration": 0.044869,
     "end_time": "2021-08-24T12:48:23.315021",
     "exception": false,
     "start_time": "2021-08-24T12:48:23.270152",
     "status": "completed"
    },
    "tags": []
   },
   "outputs": [],
   "source": [
    "#hide\n",
    "def get_frame(name):\n",
    "    url = (\n",
    "        'https://raw.githubusercontent.com/CSSEGISandData/COVID-19/master/csse_covid_19_data/'\n",
    "        f'csse_covid_19_time_series/time_series_covid19_{name}_global.csv')\n",
    "    df = pd.read_csv(url)\n",
    "    # rename countries\n",
    "    df['Country/Region'] = df['Country/Region'].replace(mapping['replace.country'])\n",
    "    return df"
   ]
  },
  {
   "cell_type": "code",
   "execution_count": 8,
   "id": "affiliated-characterization",
   "metadata": {
    "execution": {
     "iopub.execute_input": "2021-08-24T12:48:23.398898Z",
     "iopub.status.busy": "2021-08-24T12:48:23.398093Z",
     "iopub.status.idle": "2021-08-24T12:48:23.400741Z",
     "shell.execute_reply": "2021-08-24T12:48:23.400074Z"
    },
    "papermill": {
     "duration": 0.04755,
     "end_time": "2021-08-24T12:48:23.400889",
     "exception": false,
     "start_time": "2021-08-24T12:48:23.353339",
     "status": "completed"
    },
    "tags": []
   },
   "outputs": [],
   "source": [
    "#hide\n",
    "def get_dates(df):\n",
    "    dt_cols = df.columns[~df.columns.isin(['Province/State', 'Country/Region', 'Lat', 'Long'])]\n",
    "    LAST_DATE_I = -1\n",
    "    # sometimes last column may be empty, then go backwards\n",
    "    for i in range(-1, -len(dt_cols), -1):\n",
    "        if not df[dt_cols[i]].fillna(0).eq(0).all():\n",
    "            LAST_DATE_I = i\n",
    "            break\n",
    "    return LAST_DATE_I, dt_cols"
   ]
  },
  {
   "cell_type": "code",
   "execution_count": 9,
   "id": "recent-optimization",
   "metadata": {
    "execution": {
     "iopub.execute_input": "2021-08-24T12:48:23.485258Z",
     "iopub.status.busy": "2021-08-24T12:48:23.484602Z",
     "iopub.status.idle": "2021-08-24T12:48:23.921246Z",
     "shell.execute_reply": "2021-08-24T12:48:23.920635Z"
    },
    "papermill": {
     "duration": 0.480773,
     "end_time": "2021-08-24T12:48:23.921394",
     "exception": false,
     "start_time": "2021-08-24T12:48:23.440621",
     "status": "completed"
    },
    "tags": []
   },
   "outputs": [],
   "source": [
    "#hide\n",
    "COL_REGION = 'Country/Region'\n",
    "# Confirmed, Recovered, Deaths\n",
    "df = get_frame('confirmed')\n",
    "# dft_: timeseries, dfc_: today country agg\n",
    "dft_cases = df\n",
    "dft_deaths = get_frame('deaths')\n",
    "dft_recovered = get_frame('recovered')\n",
    "LAST_DATE_I, dt_cols = get_dates(df)"
   ]
  },
  {
   "cell_type": "code",
   "execution_count": 10,
   "id": "absolute-copper",
   "metadata": {
    "execution": {
     "iopub.execute_input": "2021-08-24T12:48:24.007474Z",
     "iopub.status.busy": "2021-08-24T12:48:24.006052Z",
     "iopub.status.idle": "2021-08-24T12:48:24.008102Z",
     "shell.execute_reply": "2021-08-24T12:48:24.008717Z"
    },
    "papermill": {
     "duration": 0.047943,
     "end_time": "2021-08-24T12:48:24.008870",
     "exception": false,
     "start_time": "2021-08-24T12:48:23.960927",
     "status": "completed"
    },
    "tags": []
   },
   "outputs": [],
   "source": [
    "#hide\n",
    "LAST_DATE_I, dt_cols = get_dates(df)\n",
    "dt_today =dt_cols[LAST_DATE_I]\n",
    "# dt_5day = dt_cols[LAST_DATE_I - 5]\n",
    "dt_yday = dt_cols[LAST_DATE_I - 1]"
   ]
  },
  {
   "cell_type": "code",
   "execution_count": 11,
   "id": "restricted-sheriff",
   "metadata": {
    "execution": {
     "iopub.execute_input": "2021-08-24T12:48:24.096878Z",
     "iopub.status.busy": "2021-08-24T12:48:24.096227Z",
     "iopub.status.idle": "2021-08-24T12:48:24.101150Z",
     "shell.execute_reply": "2021-08-24T12:48:24.101667Z"
    },
    "papermill": {
     "duration": 0.053702,
     "end_time": "2021-08-24T12:48:24.101818",
     "exception": false,
     "start_time": "2021-08-24T12:48:24.048116",
     "status": "completed"
    },
    "tags": []
   },
   "outputs": [],
   "source": [
    "#hide\n",
    "dfc_cases = dft_cases.groupby(COL_REGION)[dt_today].sum()\n",
    "dfc_deaths = dft_deaths.groupby(COL_REGION)[dt_today].sum()\n",
    "# dfp_cases = dft_cases.groupby(COL_REGION)[dt_5day].sum()\n",
    "# dfp_deaths = dft_deaths.groupby(COL_REGION)[dt_5day].sum()\n",
    "dfp_cases = dft_cases.groupby(COL_REGION)[dt_yday].sum()\n",
    "dfp_deaths = dft_deaths.groupby(COL_REGION)[dt_yday].sum()"
   ]
  },
  {
   "cell_type": "code",
   "execution_count": 12,
   "id": "deluxe-hepatitis",
   "metadata": {
    "execution": {
     "iopub.execute_input": "2021-08-24T12:48:24.188715Z",
     "iopub.status.busy": "2021-08-24T12:48:24.187784Z",
     "iopub.status.idle": "2021-08-24T12:48:24.193317Z",
     "shell.execute_reply": "2021-08-24T12:48:24.194013Z"
    },
    "papermill": {
     "duration": 0.050213,
     "end_time": "2021-08-24T12:48:24.194179",
     "exception": false,
     "start_time": "2021-08-24T12:48:24.143966",
     "status": "completed"
    },
    "tags": []
   },
   "outputs": [],
   "source": [
    "#hide\n",
    "df_table = (pd.DataFrame(dict(Cases = dfc_cases, Deaths = dfc_deaths, PCases = dfp_cases, PDeaths = dfp_deaths))\n",
    "            .sort_values(by = ['Cases','Deaths'], ascending = [False, False])\n",
    "            .reset_index())"
   ]
  },
  {
   "cell_type": "code",
   "execution_count": 13,
   "id": "educational-chancellor",
   "metadata": {
    "execution": {
     "iopub.execute_input": "2021-08-24T12:48:24.297450Z",
     "iopub.status.busy": "2021-08-24T12:48:24.296795Z",
     "iopub.status.idle": "2021-08-24T12:48:24.305610Z",
     "shell.execute_reply": "2021-08-24T12:48:24.306175Z"
    },
    "papermill": {
     "duration": 0.073449,
     "end_time": "2021-08-24T12:48:24.306321",
     "exception": false,
     "start_time": "2021-08-24T12:48:24.232872",
     "status": "completed"
    },
    "tags": []
   },
   "outputs": [
    {
     "data": {
      "text/html": [
       "<div>\n",
       "<style scoped>\n",
       "    .dataframe tbody tr th:only-of-type {\n",
       "        vertical-align: middle;\n",
       "    }\n",
       "\n",
       "    .dataframe tbody tr th {\n",
       "        vertical-align: top;\n",
       "    }\n",
       "\n",
       "    .dataframe thead th {\n",
       "        text-align: right;\n",
       "    }\n",
       "</style>\n",
       "<table border=\"1\" class=\"dataframe\">\n",
       "  <thead>\n",
       "    <tr style=\"text-align: right;\">\n",
       "      <th></th>\n",
       "      <th>Country/Region</th>\n",
       "      <th>Cases</th>\n",
       "      <th>Deaths</th>\n",
       "      <th>PCases</th>\n",
       "      <th>PDeaths</th>\n",
       "      <th>Cases (+)</th>\n",
       "      <th>Deaths (+)</th>\n",
       "      <th>Fatality Rate</th>\n",
       "      <th>Continent</th>\n",
       "    </tr>\n",
       "  </thead>\n",
       "  <tbody>\n",
       "    <tr>\n",
       "      <th>0</th>\n",
       "      <td>US</td>\n",
       "      <td>37939641</td>\n",
       "      <td>629411</td>\n",
       "      <td>37709810</td>\n",
       "      <td>628503</td>\n",
       "      <td>229831</td>\n",
       "      <td>908</td>\n",
       "      <td>1.66</td>\n",
       "      <td>North America</td>\n",
       "    </tr>\n",
       "    <tr>\n",
       "      <th>1</th>\n",
       "      <td>India</td>\n",
       "      <td>32474773</td>\n",
       "      <td>435110</td>\n",
       "      <td>32449306</td>\n",
       "      <td>434756</td>\n",
       "      <td>25467</td>\n",
       "      <td>354</td>\n",
       "      <td>1.34</td>\n",
       "      <td>Asia</td>\n",
       "    </tr>\n",
       "    <tr>\n",
       "      <th>2</th>\n",
       "      <td>Brazil</td>\n",
       "      <td>20583994</td>\n",
       "      <td>574848</td>\n",
       "      <td>20570891</td>\n",
       "      <td>574527</td>\n",
       "      <td>13103</td>\n",
       "      <td>321</td>\n",
       "      <td>2.79</td>\n",
       "      <td>South America</td>\n",
       "    </tr>\n",
       "    <tr>\n",
       "      <th>3</th>\n",
       "      <td>France</td>\n",
       "      <td>6708163</td>\n",
       "      <td>113857</td>\n",
       "      <td>6700252</td>\n",
       "      <td>113472</td>\n",
       "      <td>7911</td>\n",
       "      <td>385</td>\n",
       "      <td>1.70</td>\n",
       "      <td>Europe</td>\n",
       "    </tr>\n",
       "    <tr>\n",
       "      <th>4</th>\n",
       "      <td>Russia</td>\n",
       "      <td>6672373</td>\n",
       "      <td>173768</td>\n",
       "      <td>6653498</td>\n",
       "      <td>173003</td>\n",
       "      <td>18875</td>\n",
       "      <td>765</td>\n",
       "      <td>2.60</td>\n",
       "      <td>Europe</td>\n",
       "    </tr>\n",
       "  </tbody>\n",
       "</table>\n",
       "</div>"
      ],
      "text/plain": [
       "  Country/Region     Cases  Deaths    PCases  PDeaths  Cases (+)  Deaths (+)  \\\n",
       "0             US  37939641  629411  37709810   628503     229831         908   \n",
       "1          India  32474773  435110  32449306   434756      25467         354   \n",
       "2         Brazil  20583994  574848  20570891   574527      13103         321   \n",
       "3         France   6708163  113857   6700252   113472       7911         385   \n",
       "4         Russia   6672373  173768   6653498   173003      18875         765   \n",
       "\n",
       "   Fatality Rate      Continent  \n",
       "0           1.66  North America  \n",
       "1           1.34           Asia  \n",
       "2           2.79  South America  \n",
       "3           1.70         Europe  \n",
       "4           2.60         Europe  "
      ]
     },
     "execution_count": 13,
     "metadata": {},
     "output_type": "execute_result"
    }
   ],
   "source": [
    "#hide\n",
    "for c in 'Cases, Deaths'.split(', '):\n",
    "    df_table[f'{c} (+)'] = (df_table[c] - df_table[f'P{c}']).clip(0)\n",
    "    #Clip ça veut dire, les chiffres negatif sont interdit\n",
    "df_table['Fatality Rate'] = (100* df_table['Deaths']/ df_table['Cases']).round(2)\n",
    "df_table['Continent'] = df_table['Country/Region'].map(mapping['map.continent'])\n",
    "df_table.head(5)"
   ]
  },
  {
   "cell_type": "code",
   "execution_count": 14,
   "id": "aboriginal-bulgaria",
   "metadata": {
    "execution": {
     "iopub.execute_input": "2021-08-24T12:48:24.392978Z",
     "iopub.status.busy": "2021-08-24T12:48:24.392328Z",
     "iopub.status.idle": "2021-08-24T12:48:24.394226Z",
     "shell.execute_reply": "2021-08-24T12:48:24.394849Z"
    },
    "papermill": {
     "duration": 0.048879,
     "end_time": "2021-08-24T12:48:24.394996",
     "exception": false,
     "start_time": "2021-08-24T12:48:24.346117",
     "status": "completed"
    },
    "tags": []
   },
   "outputs": [],
   "source": [
    "#hide\n",
    "#delete problematic countries from table\n",
    "df_table = df_table[~df_table['Country/Region'].isin(['Cape Verde', 'Cruise Ship', 'Kosovo'])]"
   ]
  },
  {
   "cell_type": "code",
   "execution_count": 15,
   "id": "fantastic-effect",
   "metadata": {
    "execution": {
     "iopub.execute_input": "2021-08-24T12:48:24.487528Z",
     "iopub.status.busy": "2021-08-24T12:48:24.486828Z",
     "iopub.status.idle": "2021-08-24T12:48:24.516748Z",
     "shell.execute_reply": "2021-08-24T12:48:24.517273Z"
    },
    "papermill": {
     "duration": 0.082623,
     "end_time": "2021-08-24T12:48:24.517430",
     "exception": false,
     "start_time": "2021-08-24T12:48:24.434807",
     "status": "completed"
    },
    "tags": []
   },
   "outputs": [
    {
     "data": {
      "text/html": [
       "<div>\n",
       "<style scoped>\n",
       "    .dataframe tbody tr th:only-of-type {\n",
       "        vertical-align: middle;\n",
       "    }\n",
       "\n",
       "    .dataframe tbody tr th {\n",
       "        vertical-align: top;\n",
       "    }\n",
       "\n",
       "    .dataframe thead th {\n",
       "        text-align: right;\n",
       "    }\n",
       "</style>\n",
       "<table border=\"1\" class=\"dataframe\">\n",
       "  <thead>\n",
       "    <tr style=\"text-align: right;\">\n",
       "      <th></th>\n",
       "      <th>Country/Region</th>\n",
       "      <th>Cases</th>\n",
       "      <th>Deaths</th>\n",
       "      <th>PCases</th>\n",
       "      <th>PDeaths</th>\n",
       "      <th>Cases (+)</th>\n",
       "      <th>Deaths (+)</th>\n",
       "      <th>Fatality Rate</th>\n",
       "      <th>Continent</th>\n",
       "    </tr>\n",
       "  </thead>\n",
       "  <tbody>\n",
       "    <tr>\n",
       "      <th>0</th>\n",
       "      <td>US</td>\n",
       "      <td>37939641</td>\n",
       "      <td>629411</td>\n",
       "      <td>37709810</td>\n",
       "      <td>628503</td>\n",
       "      <td>229831</td>\n",
       "      <td>908</td>\n",
       "      <td>1.7</td>\n",
       "      <td>North America</td>\n",
       "    </tr>\n",
       "    <tr>\n",
       "      <th>1</th>\n",
       "      <td>India</td>\n",
       "      <td>32474773</td>\n",
       "      <td>435110</td>\n",
       "      <td>32449306</td>\n",
       "      <td>434756</td>\n",
       "      <td>25467</td>\n",
       "      <td>354</td>\n",
       "      <td>1.3</td>\n",
       "      <td>Asia</td>\n",
       "    </tr>\n",
       "    <tr>\n",
       "      <th>2</th>\n",
       "      <td>Brazil</td>\n",
       "      <td>20583994</td>\n",
       "      <td>574848</td>\n",
       "      <td>20570891</td>\n",
       "      <td>574527</td>\n",
       "      <td>13103</td>\n",
       "      <td>321</td>\n",
       "      <td>2.8</td>\n",
       "      <td>South America</td>\n",
       "    </tr>\n",
       "    <tr>\n",
       "      <th>3</th>\n",
       "      <td>France</td>\n",
       "      <td>6708163</td>\n",
       "      <td>113857</td>\n",
       "      <td>6700252</td>\n",
       "      <td>113472</td>\n",
       "      <td>7911</td>\n",
       "      <td>385</td>\n",
       "      <td>1.7</td>\n",
       "      <td>Europe</td>\n",
       "    </tr>\n",
       "    <tr>\n",
       "      <th>4</th>\n",
       "      <td>Russia</td>\n",
       "      <td>6672373</td>\n",
       "      <td>173768</td>\n",
       "      <td>6653498</td>\n",
       "      <td>173003</td>\n",
       "      <td>18875</td>\n",
       "      <td>765</td>\n",
       "      <td>2.6</td>\n",
       "      <td>Europe</td>\n",
       "    </tr>\n",
       "  </tbody>\n",
       "</table>\n",
       "</div>"
      ],
      "text/plain": [
       "  Country/Region     Cases  Deaths    PCases  PDeaths  Cases (+)  Deaths (+)  \\\n",
       "0             US  37939641  629411  37709810   628503     229831         908   \n",
       "1          India  32474773  435110  32449306   434756      25467         354   \n",
       "2         Brazil  20583994  574848  20570891   574527      13103         321   \n",
       "3         France   6708163  113857   6700252   113472       7911         385   \n",
       "4         Russia   6672373  173768   6653498   173003      18875         765   \n",
       "\n",
       "   Fatality Rate      Continent  \n",
       "0            1.7  North America  \n",
       "1            1.3           Asia  \n",
       "2            2.8  South America  \n",
       "3            1.7         Europe  \n",
       "4            2.6         Europe  "
      ]
     },
     "execution_count": 15,
     "metadata": {},
     "output_type": "execute_result"
    }
   ],
   "source": [
    "#hide\n",
    "df_table = (pd.DataFrame(dict(Cases=dfc_cases, Deaths=dfc_deaths, PCases=dfp_cases, PDeaths=dfp_deaths))\n",
    "             .sort_values(by=['Cases', 'Deaths'], ascending=[False, False])\n",
    "             .reset_index())\n",
    "df_table.rename(columns={'index': 'Country/Region'}, inplace=True)\n",
    "for c in 'Cases, Deaths'.split(', '):\n",
    "    df_table[f'{c} (+)'] = (df_table[c] - df_table[f'P{c}']).clip(0)  # DATA BUG\n",
    "df_table['Fatality Rate'] = (100 * df_table['Deaths'] / df_table['Cases']).round(1)\n",
    "df_table['Continent'] = df_table['Country/Region'].map(mapping['map.continent'])\n",
    "df_table.head(5)"
   ]
  },
  {
   "cell_type": "code",
   "execution_count": 16,
   "id": "fewer-occasion",
   "metadata": {
    "execution": {
     "iopub.execute_input": "2021-08-24T12:48:24.603696Z",
     "iopub.status.busy": "2021-08-24T12:48:24.603034Z",
     "iopub.status.idle": "2021-08-24T12:48:24.606056Z",
     "shell.execute_reply": "2021-08-24T12:48:24.605441Z"
    },
    "papermill": {
     "duration": 0.048771,
     "end_time": "2021-08-24T12:48:24.606192",
     "exception": false,
     "start_time": "2021-08-24T12:48:24.557421",
     "status": "completed"
    },
    "tags": []
   },
   "outputs": [],
   "source": [
    "#hide\n",
    "#delete problematic countries from table\n",
    "df_table = df_table[~df_table['Country/Region'].isin(['Cape Verde', 'Cruise Ship', 'Kosovo'])]"
   ]
  },
  {
   "cell_type": "code",
   "execution_count": 17,
   "id": "related-center",
   "metadata": {
    "execution": {
     "iopub.execute_input": "2021-08-24T12:48:24.701432Z",
     "iopub.status.busy": "2021-08-24T12:48:24.700763Z",
     "iopub.status.idle": "2021-08-24T12:48:24.709974Z",
     "shell.execute_reply": "2021-08-24T12:48:24.710516Z"
    },
    "papermill": {
     "duration": 0.064039,
     "end_time": "2021-08-24T12:48:24.710674",
     "exception": false,
     "start_time": "2021-08-24T12:48:24.646635",
     "status": "completed"
    },
    "tags": []
   },
   "outputs": [],
   "source": [
    "#hide\n",
    "metrics = [df_table.columns[index] for index in [1,2,5,6]]\n",
    "# s_china = df_table[df_table['Country/Region'].eq('China')][metrics].sum().add_prefix('China ')\n",
    "s_us = df_table[df_table['Country/Region'].eq('US')][metrics].sum().add_prefix('US ')\n",
    "s_eu = df_table[df_table['Continent'].eq('Europe')][metrics].sum().add_prefix('EU ')\n",
    "s_ind = df_table[df_table['Country/Region'].eq('India')][metrics].sum().add_prefix('India ')\n",
    "summary = {'updated': pd.to_datetime(dt_today), 'since': pd.to_datetime(dt_yday)}\n",
    "summary = {'updated': pd.to_datetime(dt_today), 'since': pd.to_datetime(dt_yday)}\n",
    "summary = {**summary, **df_table[metrics].sum(), **s_ind, **s_us, **s_eu}"
   ]
  },
  {
   "cell_type": "code",
   "execution_count": 18,
   "id": "engaging-syndrome",
   "metadata": {
    "execution": {
     "iopub.execute_input": "2021-08-24T12:48:24.797532Z",
     "iopub.status.busy": "2021-08-24T12:48:24.796873Z",
     "iopub.status.idle": "2021-08-24T12:48:24.811862Z",
     "shell.execute_reply": "2021-08-24T12:48:24.811331Z"
    },
    "papermill": {
     "duration": 0.060543,
     "end_time": "2021-08-24T12:48:24.811997",
     "exception": false,
     "start_time": "2021-08-24T12:48:24.751454",
     "status": "completed"
    },
    "tags": []
   },
   "outputs": [],
   "source": [
    "#hide\n",
    "dft_ct_new_cases = dft_cases.groupby(COL_REGION)[dt_cols].sum().diff(axis=1).fillna(0).astype(int)"
   ]
  },
  {
   "cell_type": "code",
   "execution_count": 19,
   "id": "neutral-assignment",
   "metadata": {
    "execution": {
     "iopub.execute_input": "2021-08-24T12:48:24.899827Z",
     "iopub.status.busy": "2021-08-24T12:48:24.899169Z",
     "iopub.status.idle": "2021-08-24T12:48:24.901673Z",
     "shell.execute_reply": "2021-08-24T12:48:24.901079Z"
    },
    "papermill": {
     "duration": 0.049958,
     "end_time": "2021-08-24T12:48:24.901801",
     "exception": false,
     "start_time": "2021-08-24T12:48:24.851843",
     "status": "completed"
    },
    "tags": []
   },
   "outputs": [],
   "source": [
    "#hide\n",
    "everydaycases = dft_ct_new_cases.cumsum(axis=1)"
   ]
  },
  {
   "cell_type": "code",
   "execution_count": 20,
   "id": "parliamentary-calgary",
   "metadata": {
    "execution": {
     "iopub.execute_input": "2021-08-24T12:48:24.987650Z",
     "iopub.status.busy": "2021-08-24T12:48:24.986921Z",
     "iopub.status.idle": "2021-08-24T12:48:25.629361Z",
     "shell.execute_reply": "2021-08-24T12:48:25.629943Z"
    },
    "papermill": {
     "duration": 0.688251,
     "end_time": "2021-08-24T12:48:25.630122",
     "exception": false,
     "start_time": "2021-08-24T12:48:24.941871",
     "status": "completed"
    },
    "tags": []
   },
   "outputs": [],
   "source": [
    "#hide\n",
    "import pandas as pd\n",
    "import matplotlib.pyplot as plt\n",
    "import matplotlib.ticker as ticker\n",
    "import matplotlib.animation as animation\n",
    "from IPython.display import HTML"
   ]
  },
  {
   "cell_type": "code",
   "execution_count": 21,
   "id": "lasting-extraction",
   "metadata": {
    "execution": {
     "iopub.execute_input": "2021-08-24T12:48:25.718310Z",
     "iopub.status.busy": "2021-08-24T12:48:25.717593Z",
     "iopub.status.idle": "2021-08-24T12:48:25.723069Z",
     "shell.execute_reply": "2021-08-24T12:48:25.723698Z"
    },
    "papermill": {
     "duration": 0.052853,
     "end_time": "2021-08-24T12:48:25.723842",
     "exception": false,
     "start_time": "2021-08-24T12:48:25.670989",
     "status": "completed"
    },
    "tags": []
   },
   "outputs": [],
   "source": [
    "#hide\n",
    "t = everydaycases.stack()"
   ]
  },
  {
   "cell_type": "code",
   "execution_count": 22,
   "id": "premier-sleeve",
   "metadata": {
    "execution": {
     "iopub.execute_input": "2021-08-24T12:48:25.808825Z",
     "iopub.status.busy": "2021-08-24T12:48:25.808177Z",
     "iopub.status.idle": "2021-08-24T12:48:25.817953Z",
     "shell.execute_reply": "2021-08-24T12:48:25.817398Z"
    },
    "papermill": {
     "duration": 0.054095,
     "end_time": "2021-08-24T12:48:25.818115",
     "exception": false,
     "start_time": "2021-08-24T12:48:25.764020",
     "status": "completed"
    },
    "tags": []
   },
   "outputs": [],
   "source": [
    "#hide\n",
    "g = t.reset_index(['Country/Region'])"
   ]
  },
  {
   "cell_type": "code",
   "execution_count": 23,
   "id": "distributed-pittsburgh",
   "metadata": {
    "execution": {
     "iopub.execute_input": "2021-08-24T12:48:25.904517Z",
     "iopub.status.busy": "2021-08-24T12:48:25.903840Z",
     "iopub.status.idle": "2021-08-24T12:48:25.906322Z",
     "shell.execute_reply": "2021-08-24T12:48:25.906884Z"
    },
    "papermill": {
     "duration": 0.048237,
     "end_time": "2021-08-24T12:48:25.907025",
     "exception": false,
     "start_time": "2021-08-24T12:48:25.858788",
     "status": "completed"
    },
    "tags": []
   },
   "outputs": [],
   "source": [
    "#hide\n",
    "g.index.name = 'date'"
   ]
  },
  {
   "cell_type": "code",
   "execution_count": 24,
   "id": "naked-donor",
   "metadata": {
    "execution": {
     "iopub.execute_input": "2021-08-24T12:48:25.990931Z",
     "iopub.status.busy": "2021-08-24T12:48:25.989491Z",
     "iopub.status.idle": "2021-08-24T12:48:25.991672Z",
     "shell.execute_reply": "2021-08-24T12:48:25.992190Z"
    },
    "papermill": {
     "duration": 0.045738,
     "end_time": "2021-08-24T12:48:25.992329",
     "exception": false,
     "start_time": "2021-08-24T12:48:25.946591",
     "status": "completed"
    },
    "tags": []
   },
   "outputs": [],
   "source": [
    "# #hide\n",
    "# g = g.reset_index(['date'])"
   ]
  },
  {
   "cell_type": "code",
   "execution_count": 25,
   "id": "incomplete-mustang",
   "metadata": {
    "execution": {
     "iopub.execute_input": "2021-08-24T12:48:26.075627Z",
     "iopub.status.busy": "2021-08-24T12:48:26.074992Z",
     "iopub.status.idle": "2021-08-24T12:48:26.076844Z",
     "shell.execute_reply": "2021-08-24T12:48:26.077451Z"
    },
    "papermill": {
     "duration": 0.045982,
     "end_time": "2021-08-24T12:48:26.077626",
     "exception": false,
     "start_time": "2021-08-24T12:48:26.031644",
     "status": "completed"
    },
    "tags": []
   },
   "outputs": [],
   "source": [
    "#hide\n",
    "# g.head()"
   ]
  },
  {
   "cell_type": "code",
   "execution_count": 26,
   "id": "specific-kruger",
   "metadata": {
    "execution": {
     "iopub.execute_input": "2021-08-24T12:48:26.169335Z",
     "iopub.status.busy": "2021-08-24T12:48:26.168585Z",
     "iopub.status.idle": "2021-08-24T12:48:26.170487Z",
     "shell.execute_reply": "2021-08-24T12:48:26.171085Z"
    },
    "papermill": {
     "duration": 0.054627,
     "end_time": "2021-08-24T12:48:26.171344",
     "exception": false,
     "start_time": "2021-08-24T12:48:26.116717",
     "status": "completed"
    },
    "tags": []
   },
   "outputs": [],
   "source": [
    "#hide\n",
    "# g.columns = ['date','country','cases']"
   ]
  },
  {
   "cell_type": "code",
   "execution_count": 27,
   "id": "tender-conversion",
   "metadata": {
    "execution": {
     "iopub.execute_input": "2021-08-24T12:48:26.254903Z",
     "iopub.status.busy": "2021-08-24T12:48:26.254223Z",
     "iopub.status.idle": "2021-08-24T12:48:26.256062Z",
     "shell.execute_reply": "2021-08-24T12:48:26.256727Z"
    },
    "papermill": {
     "duration": 0.046031,
     "end_time": "2021-08-24T12:48:26.256857",
     "exception": false,
     "start_time": "2021-08-24T12:48:26.210826",
     "status": "completed"
    },
    "tags": []
   },
   "outputs": [],
   "source": [
    "#hide\n",
    "# g['continent'] = g.country"
   ]
  },
  {
   "cell_type": "code",
   "execution_count": 28,
   "id": "substantial-wilderness",
   "metadata": {
    "execution": {
     "iopub.execute_input": "2021-08-24T12:48:26.340320Z",
     "iopub.status.busy": "2021-08-24T12:48:26.339606Z",
     "iopub.status.idle": "2021-08-24T12:48:26.341783Z",
     "shell.execute_reply": "2021-08-24T12:48:26.342386Z"
    },
    "papermill": {
     "duration": 0.046871,
     "end_time": "2021-08-24T12:48:26.342550",
     "exception": false,
     "start_time": "2021-08-24T12:48:26.295679",
     "status": "completed"
    },
    "tags": []
   },
   "outputs": [],
   "source": [
    "#hide\n",
    "# cols = list(g.columns.values)"
   ]
  },
  {
   "cell_type": "code",
   "execution_count": 29,
   "id": "solved-farming",
   "metadata": {
    "execution": {
     "iopub.execute_input": "2021-08-24T12:48:26.423785Z",
     "iopub.status.busy": "2021-08-24T12:48:26.423127Z",
     "iopub.status.idle": "2021-08-24T12:48:26.426320Z",
     "shell.execute_reply": "2021-08-24T12:48:26.425605Z"
    },
    "papermill": {
     "duration": 0.044835,
     "end_time": "2021-08-24T12:48:26.426443",
     "exception": false,
     "start_time": "2021-08-24T12:48:26.381608",
     "status": "completed"
    },
    "tags": []
   },
   "outputs": [],
   "source": [
    "#hide\n",
    "# cols.insert(0, cols.pop())"
   ]
  },
  {
   "cell_type": "code",
   "execution_count": 30,
   "id": "executed-adoption",
   "metadata": {
    "execution": {
     "iopub.execute_input": "2021-08-24T12:48:26.509064Z",
     "iopub.status.busy": "2021-08-24T12:48:26.507846Z",
     "iopub.status.idle": "2021-08-24T12:48:26.510981Z",
     "shell.execute_reply": "2021-08-24T12:48:26.510362Z"
    },
    "papermill": {
     "duration": 0.046435,
     "end_time": "2021-08-24T12:48:26.511092",
     "exception": false,
     "start_time": "2021-08-24T12:48:26.464657",
     "status": "completed"
    },
    "tags": []
   },
   "outputs": [],
   "source": [
    "#hide\n",
    "# g = g[cols]"
   ]
  },
  {
   "cell_type": "code",
   "execution_count": 31,
   "id": "subject-dublin",
   "metadata": {
    "execution": {
     "iopub.execute_input": "2021-08-24T12:48:26.596357Z",
     "iopub.status.busy": "2021-08-24T12:48:26.595698Z",
     "iopub.status.idle": "2021-08-24T12:48:26.598491Z",
     "shell.execute_reply": "2021-08-24T12:48:26.597950Z"
    },
    "papermill": {
     "duration": 0.045701,
     "end_time": "2021-08-24T12:48:26.598604",
     "exception": false,
     "start_time": "2021-08-24T12:48:26.552903",
     "status": "completed"
    },
    "tags": []
   },
   "outputs": [],
   "source": [
    "#hide\n",
    "# g['continent'] = g['continent'].map(mapping['map.continent'])"
   ]
  },
  {
   "cell_type": "code",
   "execution_count": 32,
   "id": "freelance-scout",
   "metadata": {
    "execution": {
     "iopub.execute_input": "2021-08-24T12:48:26.680562Z",
     "iopub.status.busy": "2021-08-24T12:48:26.679886Z",
     "iopub.status.idle": "2021-08-24T12:48:26.682514Z",
     "shell.execute_reply": "2021-08-24T12:48:26.681942Z"
    },
    "papermill": {
     "duration": 0.045047,
     "end_time": "2021-08-24T12:48:26.682641",
     "exception": false,
     "start_time": "2021-08-24T12:48:26.637594",
     "status": "completed"
    },
    "tags": []
   },
   "outputs": [],
   "source": [
    "#hide\n",
    "# g.head()"
   ]
  },
  {
   "cell_type": "code",
   "execution_count": 33,
   "id": "limited-engine",
   "metadata": {
    "execution": {
     "iopub.execute_input": "2021-08-24T12:48:26.765304Z",
     "iopub.status.busy": "2021-08-24T12:48:26.764624Z",
     "iopub.status.idle": "2021-08-24T12:48:26.767241Z",
     "shell.execute_reply": "2021-08-24T12:48:26.766747Z"
    },
    "papermill": {
     "duration": 0.045146,
     "end_time": "2021-08-24T12:48:26.767365",
     "exception": false,
     "start_time": "2021-08-24T12:48:26.722219",
     "status": "completed"
    },
    "tags": []
   },
   "outputs": [],
   "source": [
    "# hide\n",
    "# g['date'] = g['date'].astype('datetime64[ns]')"
   ]
  },
  {
   "cell_type": "code",
   "execution_count": 34,
   "id": "sophisticated-supervisor",
   "metadata": {
    "execution": {
     "iopub.execute_input": "2021-08-24T12:48:26.847665Z",
     "iopub.status.busy": "2021-08-24T12:48:26.847001Z",
     "iopub.status.idle": "2021-08-24T12:48:26.849552Z",
     "shell.execute_reply": "2021-08-24T12:48:26.848995Z"
    },
    "papermill": {
     "duration": 0.043968,
     "end_time": "2021-08-24T12:48:26.849704",
     "exception": false,
     "start_time": "2021-08-24T12:48:26.805736",
     "status": "completed"
    },
    "tags": []
   },
   "outputs": [],
   "source": [
    "#hide\n",
    "# g['date'] = g.date.dt.dayofyear"
   ]
  },
  {
   "cell_type": "code",
   "execution_count": 35,
   "id": "inside-dubai",
   "metadata": {
    "execution": {
     "iopub.execute_input": "2021-08-24T12:48:26.930814Z",
     "iopub.status.busy": "2021-08-24T12:48:26.930134Z",
     "iopub.status.idle": "2021-08-24T12:48:26.932817Z",
     "shell.execute_reply": "2021-08-24T12:48:26.932163Z"
    },
    "papermill": {
     "duration": 0.044002,
     "end_time": "2021-08-24T12:48:26.932926",
     "exception": false,
     "start_time": "2021-08-24T12:48:26.888924",
     "status": "completed"
    },
    "tags": []
   },
   "outputs": [],
   "source": [
    "#hide\n",
    "# g = g.rename(columns= {'continent':'group','country':'name','cases':'value'})"
   ]
  },
  {
   "cell_type": "code",
   "execution_count": 36,
   "id": "fleet-motorcycle",
   "metadata": {
    "execution": {
     "iopub.execute_input": "2021-08-24T12:48:27.013058Z",
     "iopub.status.busy": "2021-08-24T12:48:27.012298Z",
     "iopub.status.idle": "2021-08-24T12:48:27.014915Z",
     "shell.execute_reply": "2021-08-24T12:48:27.014259Z"
    },
    "papermill": {
     "duration": 0.045269,
     "end_time": "2021-08-24T12:48:27.015034",
     "exception": false,
     "start_time": "2021-08-24T12:48:26.969765",
     "status": "completed"
    },
    "tags": []
   },
   "outputs": [],
   "source": [
    "#hide\n",
    "# cols = ['name','group','day','value']"
   ]
  },
  {
   "cell_type": "code",
   "execution_count": 37,
   "id": "continued-sleeping",
   "metadata": {
    "execution": {
     "iopub.execute_input": "2021-08-24T12:48:27.095914Z",
     "iopub.status.busy": "2021-08-24T12:48:27.095249Z",
     "iopub.status.idle": "2021-08-24T12:48:27.097902Z",
     "shell.execute_reply": "2021-08-24T12:48:27.097305Z"
    },
    "papermill": {
     "duration": 0.043893,
     "end_time": "2021-08-24T12:48:27.098060",
     "exception": false,
     "start_time": "2021-08-24T12:48:27.054167",
     "status": "completed"
    },
    "tags": []
   },
   "outputs": [],
   "source": [
    "#hide\n",
    "# g.rename(columns= {'date':'day'},inplace = True)"
   ]
  },
  {
   "cell_type": "code",
   "execution_count": 38,
   "id": "major-fight",
   "metadata": {
    "execution": {
     "iopub.execute_input": "2021-08-24T12:48:27.180068Z",
     "iopub.status.busy": "2021-08-24T12:48:27.179451Z",
     "iopub.status.idle": "2021-08-24T12:48:27.181531Z",
     "shell.execute_reply": "2021-08-24T12:48:27.182122Z"
    },
    "papermill": {
     "duration": 0.043945,
     "end_time": "2021-08-24T12:48:27.182246",
     "exception": false,
     "start_time": "2021-08-24T12:48:27.138301",
     "status": "completed"
    },
    "tags": []
   },
   "outputs": [],
   "source": [
    "#hide\n",
    "# g = g[cols]"
   ]
  },
  {
   "cell_type": "code",
   "execution_count": 39,
   "id": "structured-mobile",
   "metadata": {
    "execution": {
     "iopub.execute_input": "2021-08-24T12:48:27.263257Z",
     "iopub.status.busy": "2021-08-24T12:48:27.262604Z",
     "iopub.status.idle": "2021-08-24T12:48:27.265062Z",
     "shell.execute_reply": "2021-08-24T12:48:27.264509Z"
    },
    "papermill": {
     "duration": 0.04438,
     "end_time": "2021-08-24T12:48:27.265169",
     "exception": false,
     "start_time": "2021-08-24T12:48:27.220789",
     "status": "completed"
    },
    "tags": []
   },
   "outputs": [],
   "source": [
    "# #hide\n",
    "# g = g[g.group.notna()]"
   ]
  },
  {
   "cell_type": "code",
   "execution_count": 40,
   "id": "determined-closing",
   "metadata": {
    "execution": {
     "iopub.execute_input": "2021-08-24T12:48:27.345482Z",
     "iopub.status.busy": "2021-08-24T12:48:27.344802Z",
     "iopub.status.idle": "2021-08-24T12:48:27.346986Z",
     "shell.execute_reply": "2021-08-24T12:48:27.347698Z"
    },
    "papermill": {
     "duration": 0.045211,
     "end_time": "2021-08-24T12:48:27.347864",
     "exception": false,
     "start_time": "2021-08-24T12:48:27.302653",
     "status": "completed"
    },
    "tags": []
   },
   "outputs": [],
   "source": [
    "# #hide\n",
    "# colors = dict(zip(\n",
    "#     [\"Oceania\", \"Europe\", \"Asia\", \"South America\", \"Middle East\", \"North America\", \"Africa\"],\n",
    "#     [\"#adb0ff\", \"#ffb3ff\", \"#90d595\", \"#e48381\", \"#aafbff\", \"#f7bb5f\", \"#eafb50\"]\n",
    "# ))\n",
    "# group_lk = g.set_index('name')['group'].to_dict()"
   ]
  },
  {
   "cell_type": "code",
   "execution_count": null,
   "id": "gross-drinking",
   "metadata": {
    "papermill": {
     "duration": 0.038952,
     "end_time": "2021-08-24T12:48:27.427488",
     "exception": false,
     "start_time": "2021-08-24T12:48:27.388536",
     "status": "completed"
    },
    "tags": []
   },
   "outputs": [],
   "source": []
  },
  {
   "cell_type": "code",
   "execution_count": 41,
   "id": "subject-macintosh",
   "metadata": {
    "execution": {
     "iopub.execute_input": "2021-08-24T12:48:27.509328Z",
     "iopub.status.busy": "2021-08-24T12:48:27.508671Z",
     "iopub.status.idle": "2021-08-24T12:48:27.510919Z",
     "shell.execute_reply": "2021-08-24T12:48:27.511480Z"
    },
    "papermill": {
     "duration": 0.046106,
     "end_time": "2021-08-24T12:48:27.511604",
     "exception": false,
     "start_time": "2021-08-24T12:48:27.465498",
     "status": "completed"
    },
    "tags": []
   },
   "outputs": [],
   "source": [
    "# #hide\n",
    "# fig, ax = plt.subplots(figsize=(15, 8))\n",
    "\n",
    "# def draw_barchart(current_day):\n",
    "#     dff = g[g['day'].eq(current_day)].sort_values(by='value', ascending=True).tail(10)\n",
    "#     ax.clear()\n",
    "#     ax.barh(dff['name'], dff['value'], color=[colors[group_lk[x]] for x in dff['name']])\n",
    "#     dx = dff['value'].max() / 200\n",
    "    \n",
    "#     for i, (value, name) in enumerate(zip(dff['value'], dff['name'])):\n",
    "#         ax.text(value-dx, i,     name,           size=14, weight=600, ha='right', va='bottom')\n",
    "#         ax.text(value-dx, i-.25, group_lk[name], size=10, color='#444444', ha='right', va='baseline')\n",
    "#         ax.text(value+dx, i,     f'{value:,.0f}',  size=14, ha='left',  va='center')\n",
    "#     ax.text(1, 0.4, current_day, transform=ax.transAxes, color='#777777', size=46, ha='right', weight=800)\n",
    "#     ax.text(0, 1.06, 'Population (thousands)', transform=ax.transAxes, size=12, color='#777777')\n",
    "#     ax.xaxis.set_major_formatter(ticker.StrMethodFormatter('{x:,.0f}'))\n",
    "#     ax.xaxis.set_ticks_position('top')\n",
    "#     ax.tick_params(axis='x', colors='#777777', labelsize=12)\n",
    "#     ax.set_yticks([])\n",
    "#     ax.margins(0, 0.01)\n",
    "#     ax.grid(which='major', axis='x', linestyle='-')\n",
    "#     ax.set_axisbelow(True)\n",
    "    \n",
    "#     ax.text(0, 1.15, 'Coronavirus',\n",
    "#             transform=ax.transAxes, size=24, weight=600, ha='left', va='top')\n",
    "# #     ax.text(1, 0, 'by @pratapvardhan; credit @jburnmurdoch', transform=ax.transAxes, color='#777777', ha='right',\n",
    "# #             bbox=dict(facecolor='white', alpha=0.8, edgecolor='white'))\n",
    "#     plt.box(False)"
   ]
  },
  {
   "cell_type": "code",
   "execution_count": 42,
   "id": "sexual-wages",
   "metadata": {
    "execution": {
     "iopub.execute_input": "2021-08-24T12:48:27.591944Z",
     "iopub.status.busy": "2021-08-24T12:48:27.591314Z",
     "iopub.status.idle": "2021-08-24T12:48:27.593350Z",
     "shell.execute_reply": "2021-08-24T12:48:27.593969Z"
    },
    "papermill": {
     "duration": 0.044431,
     "end_time": "2021-08-24T12:48:27.594103",
     "exception": false,
     "start_time": "2021-08-24T12:48:27.549672",
     "status": "completed"
    },
    "tags": []
   },
   "outputs": [],
   "source": [
    "# #hide_input\n",
    "# fig, ax = plt.subplots(figsize=(15, 8))\n",
    "# animator = animation.FuncAnimation(fig, draw_barchart, frames=range(g.day.values.min(), g.day.values.max()))\n",
    "# HTML(animator.to_jshtml())\n",
    "# # or use animator.to_html5_video() or animator.save() "
   ]
  },
  {
   "cell_type": "code",
   "execution_count": null,
   "id": "australian-container",
   "metadata": {
    "papermill": {
     "duration": 0.037197,
     "end_time": "2021-08-24T12:48:27.670069",
     "exception": false,
     "start_time": "2021-08-24T12:48:27.632872",
     "status": "completed"
    },
    "tags": []
   },
   "outputs": [],
   "source": []
  },
  {
   "cell_type": "code",
   "execution_count": null,
   "id": "mediterranean-pontiac",
   "metadata": {
    "papermill": {
     "duration": 0.040275,
     "end_time": "2021-08-24T12:48:27.749908",
     "exception": false,
     "start_time": "2021-08-24T12:48:27.709633",
     "status": "completed"
    },
    "tags": []
   },
   "outputs": [],
   "source": []
  },
  {
   "cell_type": "code",
   "execution_count": null,
   "id": "aging-legislature",
   "metadata": {
    "papermill": {
     "duration": 0.038662,
     "end_time": "2021-08-24T12:48:27.827903",
     "exception": false,
     "start_time": "2021-08-24T12:48:27.789241",
     "status": "completed"
    },
    "tags": []
   },
   "outputs": [],
   "source": []
  }
 ],
 "metadata": {
  "kernelspec": {
   "display_name": "Python 3",
   "language": "python",
   "name": "python3"
  },
  "language_info": {
   "codemirror_mode": {
    "name": "ipython",
    "version": 3
   },
   "file_extension": ".py",
   "mimetype": "text/x-python",
   "name": "python",
   "nbconvert_exporter": "python",
   "pygments_lexer": "ipython3",
   "version": "3.6.14"
  },
  "papermill": {
   "duration": 7.175375,
   "end_time": "2021-08-24T12:48:28.275955",
   "environment_variables": {},
   "exception": null,
   "input_path": "2020-03-21-covid19exp.ipynb",
   "output_path": "2020-03-21-covid19exp.ipynb",
   "parameters": {},
   "start_time": "2021-08-24T12:48:21.100580",
   "version": "2.0.0"
  }
 },
 "nbformat": 4,
 "nbformat_minor": 5
}