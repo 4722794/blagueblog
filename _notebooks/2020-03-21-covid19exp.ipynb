{
 "cells": [
  {
   "cell_type": "markdown",
   "id": "muslim-click",
   "metadata": {
    "papermill": {
     "duration": 0.044039,
     "end_time": "2021-03-20T00:11:22.185760",
     "exception": false,
     "start_time": "2021-03-20T00:11:22.141721",
     "status": "completed"
    },
    "tags": []
   },
   "source": [
    "# COVID-19 Case Race\n",
    "> A race chart to see rising cases around the world\n",
    "\n",
    "- author: Hargun Oberoi\n",
    "- image: images/covid-overview.png\n",
    "- hide: false\n",
    "- badges: false"
   ]
  },
  {
   "cell_type": "code",
   "execution_count": 1,
   "id": "proof-material",
   "metadata": {
    "execution": {
     "iopub.execute_input": "2021-03-20T00:11:22.267931Z",
     "iopub.status.busy": "2021-03-20T00:11:22.267388Z",
     "iopub.status.idle": "2021-03-20T00:11:22.622727Z",
     "shell.execute_reply": "2021-03-20T00:11:22.622072Z"
    },
    "papermill": {
     "duration": 0.400203,
     "end_time": "2021-03-20T00:11:22.622917",
     "exception": false,
     "start_time": "2021-03-20T00:11:22.222714",
     "status": "completed"
    },
    "tags": []
   },
   "outputs": [],
   "source": [
    "#hide\n",
    "import numpy as np\n",
    "import pandas as pd\n",
    "from jinja2 import Template\n",
    "from IPython.display import HTML"
   ]
  },
  {
   "cell_type": "code",
   "execution_count": 2,
   "id": "developed-terminology",
   "metadata": {
    "execution": {
     "iopub.execute_input": "2021-03-20T00:11:22.703842Z",
     "iopub.status.busy": "2021-03-20T00:11:22.703259Z",
     "iopub.status.idle": "2021-03-20T00:11:22.705061Z",
     "shell.execute_reply": "2021-03-20T00:11:22.705583Z"
    },
    "papermill": {
     "duration": 0.043668,
     "end_time": "2021-03-20T00:11:22.705711",
     "exception": false,
     "start_time": "2021-03-20T00:11:22.662043",
     "status": "completed"
    },
    "tags": []
   },
   "outputs": [],
   "source": [
    "#hide\n",
    "\n",
    "# FETCH\n",
    "base_url = 'https://raw.githubusercontent.com/pratapvardhan/notebooks/master/covid19/'\n",
    "paths = {\n",
    "    'mapping': base_url + 'mapping_countries.csv',\n",
    "    'overview': base_url + 'overview.tpl'\n",
    "}"
   ]
  },
  {
   "cell_type": "code",
   "execution_count": 3,
   "id": "dynamic-saver",
   "metadata": {
    "execution": {
     "iopub.execute_input": "2021-03-20T00:11:22.785439Z",
     "iopub.status.busy": "2021-03-20T00:11:22.784878Z",
     "iopub.status.idle": "2021-03-20T00:11:22.787687Z",
     "shell.execute_reply": "2021-03-20T00:11:22.788149Z"
    },
    "papermill": {
     "duration": 0.048699,
     "end_time": "2021-03-20T00:11:22.788287",
     "exception": false,
     "start_time": "2021-03-20T00:11:22.739588",
     "status": "completed"
    },
    "tags": []
   },
   "outputs": [
    {
     "data": {
      "text/plain": [
       "'https://raw.githubusercontent.com/pratapvardhan/notebooks/master/covid19/mapping_countries.csv'"
      ]
     },
     "execution_count": 3,
     "metadata": {},
     "output_type": "execute_result"
    }
   ],
   "source": [
    "#hide\n",
    "paths['mapping']"
   ]
  },
  {
   "cell_type": "code",
   "execution_count": 4,
   "id": "urban-software",
   "metadata": {
    "execution": {
     "iopub.execute_input": "2021-03-20T00:11:22.864243Z",
     "iopub.status.busy": "2021-03-20T00:11:22.863652Z",
     "iopub.status.idle": "2021-03-20T00:11:22.865768Z",
     "shell.execute_reply": "2021-03-20T00:11:22.865281Z"
    },
    "papermill": {
     "duration": 0.04352,
     "end_time": "2021-03-20T00:11:22.865886",
     "exception": false,
     "start_time": "2021-03-20T00:11:22.822366",
     "status": "completed"
    },
    "tags": []
   },
   "outputs": [],
   "source": [
    "#hide\n",
    "def get_mappings(url):\n",
    "    df = pd.read_csv(url)\n",
    "    return {\n",
    "        'df': df,\n",
    "        'replace.country': dict(df.dropna(subset=['Name']).set_index('Country')['Name']),\n",
    "        'map.continent': dict(df.set_index('Name')['Continent'])\n",
    "    }"
   ]
  },
  {
   "cell_type": "code",
   "execution_count": 5,
   "id": "intimate-machinery",
   "metadata": {
    "execution": {
     "iopub.execute_input": "2021-03-20T00:11:22.945226Z",
     "iopub.status.busy": "2021-03-20T00:11:22.944535Z",
     "iopub.status.idle": "2021-03-20T00:11:22.976377Z",
     "shell.execute_reply": "2021-03-20T00:11:22.975454Z"
    },
    "papermill": {
     "duration": 0.071688,
     "end_time": "2021-03-20T00:11:22.976498",
     "exception": false,
     "start_time": "2021-03-20T00:11:22.904810",
     "status": "completed"
    },
    "tags": []
   },
   "outputs": [],
   "source": [
    "#hide\n",
    "mapping = get_mappings(paths['mapping'])"
   ]
  },
  {
   "cell_type": "code",
   "execution_count": 6,
   "id": "certified-tactics",
   "metadata": {
    "execution": {
     "iopub.execute_input": "2021-03-20T00:11:23.055283Z",
     "iopub.status.busy": "2021-03-20T00:11:23.054616Z",
     "iopub.status.idle": "2021-03-20T00:11:23.057246Z",
     "shell.execute_reply": "2021-03-20T00:11:23.056579Z"
    },
    "papermill": {
     "duration": 0.045532,
     "end_time": "2021-03-20T00:11:23.057392",
     "exception": false,
     "start_time": "2021-03-20T00:11:23.011860",
     "status": "completed"
    },
    "tags": []
   },
   "outputs": [],
   "source": [
    "#hide\n",
    "def get_template(path):\n",
    "    from urllib.parse import urlparse\n",
    "    if bool(urlparse(path).netloc):\n",
    "        from urllib.request import urlopen\n",
    "        return urlopen(path).read().decode('utf8')\n",
    "    return open(path).read()"
   ]
  },
  {
   "cell_type": "code",
   "execution_count": 7,
   "id": "realistic-blast",
   "metadata": {
    "execution": {
     "iopub.execute_input": "2021-03-20T00:11:23.142236Z",
     "iopub.status.busy": "2021-03-20T00:11:23.141665Z",
     "iopub.status.idle": "2021-03-20T00:11:23.143729Z",
     "shell.execute_reply": "2021-03-20T00:11:23.144294Z"
    },
    "papermill": {
     "duration": 0.046442,
     "end_time": "2021-03-20T00:11:23.144424",
     "exception": false,
     "start_time": "2021-03-20T00:11:23.097982",
     "status": "completed"
    },
    "tags": []
   },
   "outputs": [],
   "source": [
    "#hide\n",
    "def get_frame(name):\n",
    "    url = (\n",
    "        'https://raw.githubusercontent.com/CSSEGISandData/COVID-19/master/csse_covid_19_data/'\n",
    "        f'csse_covid_19_time_series/time_series_covid19_{name}_global.csv')\n",
    "    df = pd.read_csv(url)\n",
    "    # rename countries\n",
    "    df['Country/Region'] = df['Country/Region'].replace(mapping['replace.country'])\n",
    "    return df"
   ]
  },
  {
   "cell_type": "code",
   "execution_count": 8,
   "id": "affiliated-characterization",
   "metadata": {
    "execution": {
     "iopub.execute_input": "2021-03-20T00:11:23.229428Z",
     "iopub.status.busy": "2021-03-20T00:11:23.228730Z",
     "iopub.status.idle": "2021-03-20T00:11:23.231431Z",
     "shell.execute_reply": "2021-03-20T00:11:23.232316Z"
    },
    "papermill": {
     "duration": 0.047663,
     "end_time": "2021-03-20T00:11:23.232486",
     "exception": false,
     "start_time": "2021-03-20T00:11:23.184823",
     "status": "completed"
    },
    "tags": []
   },
   "outputs": [],
   "source": [
    "#hide\n",
    "def get_dates(df):\n",
    "    dt_cols = df.columns[~df.columns.isin(['Province/State', 'Country/Region', 'Lat', 'Long'])]\n",
    "    LAST_DATE_I = -1\n",
    "    # sometimes last column may be empty, then go backwards\n",
    "    for i in range(-1, -len(dt_cols), -1):\n",
    "        if not df[dt_cols[i]].fillna(0).eq(0).all():\n",
    "            LAST_DATE_I = i\n",
    "            break\n",
    "    return LAST_DATE_I, dt_cols"
   ]
  },
  {
   "cell_type": "code",
   "execution_count": 9,
   "id": "recent-optimization",
   "metadata": {
    "execution": {
     "iopub.execute_input": "2021-03-20T00:11:23.313264Z",
     "iopub.status.busy": "2021-03-20T00:11:23.312663Z",
     "iopub.status.idle": "2021-03-20T00:11:23.616087Z",
     "shell.execute_reply": "2021-03-20T00:11:23.615442Z"
    },
    "papermill": {
     "duration": 0.347702,
     "end_time": "2021-03-20T00:11:23.616237",
     "exception": false,
     "start_time": "2021-03-20T00:11:23.268535",
     "status": "completed"
    },
    "tags": []
   },
   "outputs": [],
   "source": [
    "#hide\n",
    "COL_REGION = 'Country/Region'\n",
    "# Confirmed, Recovered, Deaths\n",
    "df = get_frame('confirmed')\n",
    "# dft_: timeseries, dfc_: today country agg\n",
    "dft_cases = df\n",
    "dft_deaths = get_frame('deaths')\n",
    "dft_recovered = get_frame('recovered')\n",
    "LAST_DATE_I, dt_cols = get_dates(df)"
   ]
  },
  {
   "cell_type": "code",
   "execution_count": 10,
   "id": "absolute-copper",
   "metadata": {
    "execution": {
     "iopub.execute_input": "2021-03-20T00:11:23.710893Z",
     "iopub.status.busy": "2021-03-20T00:11:23.710177Z",
     "iopub.status.idle": "2021-03-20T00:11:23.711969Z",
     "shell.execute_reply": "2021-03-20T00:11:23.712677Z"
    },
    "papermill": {
     "duration": 0.048861,
     "end_time": "2021-03-20T00:11:23.712859",
     "exception": false,
     "start_time": "2021-03-20T00:11:23.663998",
     "status": "completed"
    },
    "tags": []
   },
   "outputs": [],
   "source": [
    "#hide\n",
    "LAST_DATE_I, dt_cols = get_dates(df)\n",
    "dt_today =dt_cols[LAST_DATE_I]\n",
    "# dt_5day = dt_cols[LAST_DATE_I - 5]\n",
    "dt_yday = dt_cols[LAST_DATE_I - 1]"
   ]
  },
  {
   "cell_type": "code",
   "execution_count": 11,
   "id": "restricted-sheriff",
   "metadata": {
    "execution": {
     "iopub.execute_input": "2021-03-20T00:11:23.800147Z",
     "iopub.status.busy": "2021-03-20T00:11:23.799523Z",
     "iopub.status.idle": "2021-03-20T00:11:23.806773Z",
     "shell.execute_reply": "2021-03-20T00:11:23.807358Z"
    },
    "papermill": {
     "duration": 0.055935,
     "end_time": "2021-03-20T00:11:23.807495",
     "exception": false,
     "start_time": "2021-03-20T00:11:23.751560",
     "status": "completed"
    },
    "tags": []
   },
   "outputs": [],
   "source": [
    "#hide\n",
    "dfc_cases = dft_cases.groupby(COL_REGION)[dt_today].sum()\n",
    "dfc_deaths = dft_deaths.groupby(COL_REGION)[dt_today].sum()\n",
    "# dfp_cases = dft_cases.groupby(COL_REGION)[dt_5day].sum()\n",
    "# dfp_deaths = dft_deaths.groupby(COL_REGION)[dt_5day].sum()\n",
    "dfp_cases = dft_cases.groupby(COL_REGION)[dt_yday].sum()\n",
    "dfp_deaths = dft_deaths.groupby(COL_REGION)[dt_yday].sum()"
   ]
  },
  {
   "cell_type": "code",
   "execution_count": 12,
   "id": "deluxe-hepatitis",
   "metadata": {
    "execution": {
     "iopub.execute_input": "2021-03-20T00:11:23.896904Z",
     "iopub.status.busy": "2021-03-20T00:11:23.896170Z",
     "iopub.status.idle": "2021-03-20T00:11:23.902124Z",
     "shell.execute_reply": "2021-03-20T00:11:23.901606Z"
    },
    "papermill": {
     "duration": 0.054393,
     "end_time": "2021-03-20T00:11:23.902249",
     "exception": false,
     "start_time": "2021-03-20T00:11:23.847856",
     "status": "completed"
    },
    "tags": []
   },
   "outputs": [],
   "source": [
    "#hide\n",
    "df_table = (pd.DataFrame(dict(Cases = dfc_cases, Deaths = dfc_deaths, PCases = dfp_cases, PDeaths = dfp_deaths))\n",
    "            .sort_values(by = ['Cases','Deaths'], ascending = [False, False])\n",
    "            .reset_index())"
   ]
  },
  {
   "cell_type": "code",
   "execution_count": 13,
   "id": "educational-chancellor",
   "metadata": {
    "execution": {
     "iopub.execute_input": "2021-03-20T00:11:24.003013Z",
     "iopub.status.busy": "2021-03-20T00:11:24.002301Z",
     "iopub.status.idle": "2021-03-20T00:11:24.011785Z",
     "shell.execute_reply": "2021-03-20T00:11:24.011167Z"
    },
    "papermill": {
     "duration": 0.070696,
     "end_time": "2021-03-20T00:11:24.012072",
     "exception": false,
     "start_time": "2021-03-20T00:11:23.941376",
     "status": "completed"
    },
    "tags": []
   },
   "outputs": [
    {
     "data": {
      "text/html": [
       "<div>\n",
       "<style scoped>\n",
       "    .dataframe tbody tr th:only-of-type {\n",
       "        vertical-align: middle;\n",
       "    }\n",
       "\n",
       "    .dataframe tbody tr th {\n",
       "        vertical-align: top;\n",
       "    }\n",
       "\n",
       "    .dataframe thead th {\n",
       "        text-align: right;\n",
       "    }\n",
       "</style>\n",
       "<table border=\"1\" class=\"dataframe\">\n",
       "  <thead>\n",
       "    <tr style=\"text-align: right;\">\n",
       "      <th></th>\n",
       "      <th>Country/Region</th>\n",
       "      <th>Cases</th>\n",
       "      <th>Deaths</th>\n",
       "      <th>PCases</th>\n",
       "      <th>PDeaths</th>\n",
       "      <th>Cases (+)</th>\n",
       "      <th>Deaths (+)</th>\n",
       "      <th>Fatality Rate</th>\n",
       "      <th>Continent</th>\n",
       "    </tr>\n",
       "  </thead>\n",
       "  <tbody>\n",
       "    <tr>\n",
       "      <th>0</th>\n",
       "      <td>US</td>\n",
       "      <td>29668587</td>\n",
       "      <td>539698</td>\n",
       "      <td>29608206</td>\n",
       "      <td>538087</td>\n",
       "      <td>60381</td>\n",
       "      <td>1611</td>\n",
       "      <td>1.82</td>\n",
       "      <td>North America</td>\n",
       "    </tr>\n",
       "    <tr>\n",
       "      <th>1</th>\n",
       "      <td>Brazil</td>\n",
       "      <td>11780820</td>\n",
       "      <td>287499</td>\n",
       "      <td>11693838</td>\n",
       "      <td>284775</td>\n",
       "      <td>86982</td>\n",
       "      <td>2724</td>\n",
       "      <td>2.44</td>\n",
       "      <td>South America</td>\n",
       "    </tr>\n",
       "    <tr>\n",
       "      <th>2</th>\n",
       "      <td>India</td>\n",
       "      <td>11514331</td>\n",
       "      <td>159370</td>\n",
       "      <td>11474605</td>\n",
       "      <td>159216</td>\n",
       "      <td>39726</td>\n",
       "      <td>154</td>\n",
       "      <td>1.38</td>\n",
       "      <td>Asia</td>\n",
       "    </tr>\n",
       "    <tr>\n",
       "      <th>3</th>\n",
       "      <td>Russia</td>\n",
       "      <td>4378656</td>\n",
       "      <td>92266</td>\n",
       "      <td>4368943</td>\n",
       "      <td>91815</td>\n",
       "      <td>9713</td>\n",
       "      <td>451</td>\n",
       "      <td>2.11</td>\n",
       "      <td>Europe</td>\n",
       "    </tr>\n",
       "    <tr>\n",
       "      <th>4</th>\n",
       "      <td>United Kingdom</td>\n",
       "      <td>4294328</td>\n",
       "      <td>126163</td>\n",
       "      <td>4287996</td>\n",
       "      <td>126068</td>\n",
       "      <td>6332</td>\n",
       "      <td>95</td>\n",
       "      <td>2.94</td>\n",
       "      <td>Europe</td>\n",
       "    </tr>\n",
       "  </tbody>\n",
       "</table>\n",
       "</div>"
      ],
      "text/plain": [
       "   Country/Region     Cases  Deaths    PCases  PDeaths  Cases (+)  Deaths (+)  \\\n",
       "0              US  29668587  539698  29608206   538087      60381        1611   \n",
       "1          Brazil  11780820  287499  11693838   284775      86982        2724   \n",
       "2           India  11514331  159370  11474605   159216      39726         154   \n",
       "3          Russia   4378656   92266   4368943    91815       9713         451   \n",
       "4  United Kingdom   4294328  126163   4287996   126068       6332          95   \n",
       "\n",
       "   Fatality Rate      Continent  \n",
       "0           1.82  North America  \n",
       "1           2.44  South America  \n",
       "2           1.38           Asia  \n",
       "3           2.11         Europe  \n",
       "4           2.94         Europe  "
      ]
     },
     "execution_count": 13,
     "metadata": {},
     "output_type": "execute_result"
    }
   ],
   "source": [
    "#hide\n",
    "for c in 'Cases, Deaths'.split(', '):\n",
    "    df_table[f'{c} (+)'] = (df_table[c] - df_table[f'P{c}']).clip(0)\n",
    "    #Clip ça veut dire, les chiffres negatif sont interdit\n",
    "df_table['Fatality Rate'] = (100* df_table['Deaths']/ df_table['Cases']).round(2)\n",
    "df_table['Continent'] = df_table['Country/Region'].map(mapping['map.continent'])\n",
    "df_table.head(5)"
   ]
  },
  {
   "cell_type": "code",
   "execution_count": 14,
   "id": "aboriginal-bulgaria",
   "metadata": {
    "execution": {
     "iopub.execute_input": "2021-03-20T00:11:24.100959Z",
     "iopub.status.busy": "2021-03-20T00:11:24.100259Z",
     "iopub.status.idle": "2021-03-20T00:11:24.102567Z",
     "shell.execute_reply": "2021-03-20T00:11:24.103316Z"
    },
    "papermill": {
     "duration": 0.05071,
     "end_time": "2021-03-20T00:11:24.103456",
     "exception": false,
     "start_time": "2021-03-20T00:11:24.052746",
     "status": "completed"
    },
    "tags": []
   },
   "outputs": [],
   "source": [
    "#hide\n",
    "#delete problematic countries from table\n",
    "df_table = df_table[~df_table['Country/Region'].isin(['Cape Verde', 'Cruise Ship', 'Kosovo'])]"
   ]
  },
  {
   "cell_type": "code",
   "execution_count": 15,
   "id": "fantastic-effect",
   "metadata": {
    "execution": {
     "iopub.execute_input": "2021-03-20T00:11:24.194625Z",
     "iopub.status.busy": "2021-03-20T00:11:24.194013Z",
     "iopub.status.idle": "2021-03-20T00:11:24.216575Z",
     "shell.execute_reply": "2021-03-20T00:11:24.216067Z"
    },
    "papermill": {
     "duration": 0.0753,
     "end_time": "2021-03-20T00:11:24.216763",
     "exception": false,
     "start_time": "2021-03-20T00:11:24.141463",
     "status": "completed"
    },
    "tags": []
   },
   "outputs": [
    {
     "data": {
      "text/html": [
       "<div>\n",
       "<style scoped>\n",
       "    .dataframe tbody tr th:only-of-type {\n",
       "        vertical-align: middle;\n",
       "    }\n",
       "\n",
       "    .dataframe tbody tr th {\n",
       "        vertical-align: top;\n",
       "    }\n",
       "\n",
       "    .dataframe thead th {\n",
       "        text-align: right;\n",
       "    }\n",
       "</style>\n",
       "<table border=\"1\" class=\"dataframe\">\n",
       "  <thead>\n",
       "    <tr style=\"text-align: right;\">\n",
       "      <th></th>\n",
       "      <th>Country/Region</th>\n",
       "      <th>Cases</th>\n",
       "      <th>Deaths</th>\n",
       "      <th>PCases</th>\n",
       "      <th>PDeaths</th>\n",
       "      <th>Cases (+)</th>\n",
       "      <th>Deaths (+)</th>\n",
       "      <th>Fatality Rate</th>\n",
       "      <th>Continent</th>\n",
       "    </tr>\n",
       "  </thead>\n",
       "  <tbody>\n",
       "    <tr>\n",
       "      <th>0</th>\n",
       "      <td>US</td>\n",
       "      <td>29668587</td>\n",
       "      <td>539698</td>\n",
       "      <td>29608206</td>\n",
       "      <td>538087</td>\n",
       "      <td>60381</td>\n",
       "      <td>1611</td>\n",
       "      <td>1.8</td>\n",
       "      <td>North America</td>\n",
       "    </tr>\n",
       "    <tr>\n",
       "      <th>1</th>\n",
       "      <td>Brazil</td>\n",
       "      <td>11780820</td>\n",
       "      <td>287499</td>\n",
       "      <td>11693838</td>\n",
       "      <td>284775</td>\n",
       "      <td>86982</td>\n",
       "      <td>2724</td>\n",
       "      <td>2.4</td>\n",
       "      <td>South America</td>\n",
       "    </tr>\n",
       "    <tr>\n",
       "      <th>2</th>\n",
       "      <td>India</td>\n",
       "      <td>11514331</td>\n",
       "      <td>159370</td>\n",
       "      <td>11474605</td>\n",
       "      <td>159216</td>\n",
       "      <td>39726</td>\n",
       "      <td>154</td>\n",
       "      <td>1.4</td>\n",
       "      <td>Asia</td>\n",
       "    </tr>\n",
       "    <tr>\n",
       "      <th>3</th>\n",
       "      <td>Russia</td>\n",
       "      <td>4378656</td>\n",
       "      <td>92266</td>\n",
       "      <td>4368943</td>\n",
       "      <td>91815</td>\n",
       "      <td>9713</td>\n",
       "      <td>451</td>\n",
       "      <td>2.1</td>\n",
       "      <td>Europe</td>\n",
       "    </tr>\n",
       "    <tr>\n",
       "      <th>4</th>\n",
       "      <td>United Kingdom</td>\n",
       "      <td>4294328</td>\n",
       "      <td>126163</td>\n",
       "      <td>4287996</td>\n",
       "      <td>126068</td>\n",
       "      <td>6332</td>\n",
       "      <td>95</td>\n",
       "      <td>2.9</td>\n",
       "      <td>Europe</td>\n",
       "    </tr>\n",
       "  </tbody>\n",
       "</table>\n",
       "</div>"
      ],
      "text/plain": [
       "   Country/Region     Cases  Deaths    PCases  PDeaths  Cases (+)  Deaths (+)  \\\n",
       "0              US  29668587  539698  29608206   538087      60381        1611   \n",
       "1          Brazil  11780820  287499  11693838   284775      86982        2724   \n",
       "2           India  11514331  159370  11474605   159216      39726         154   \n",
       "3          Russia   4378656   92266   4368943    91815       9713         451   \n",
       "4  United Kingdom   4294328  126163   4287996   126068       6332          95   \n",
       "\n",
       "   Fatality Rate      Continent  \n",
       "0            1.8  North America  \n",
       "1            2.4  South America  \n",
       "2            1.4           Asia  \n",
       "3            2.1         Europe  \n",
       "4            2.9         Europe  "
      ]
     },
     "execution_count": 15,
     "metadata": {},
     "output_type": "execute_result"
    }
   ],
   "source": [
    "#hide\n",
    "df_table = (pd.DataFrame(dict(Cases=dfc_cases, Deaths=dfc_deaths, PCases=dfp_cases, PDeaths=dfp_deaths))\n",
    "             .sort_values(by=['Cases', 'Deaths'], ascending=[False, False])\n",
    "             .reset_index())\n",
    "df_table.rename(columns={'index': 'Country/Region'}, inplace=True)\n",
    "for c in 'Cases, Deaths'.split(', '):\n",
    "    df_table[f'{c} (+)'] = (df_table[c] - df_table[f'P{c}']).clip(0)  # DATA BUG\n",
    "df_table['Fatality Rate'] = (100 * df_table['Deaths'] / df_table['Cases']).round(1)\n",
    "df_table['Continent'] = df_table['Country/Region'].map(mapping['map.continent'])\n",
    "df_table.head(5)"
   ]
  },
  {
   "cell_type": "code",
   "execution_count": 16,
   "id": "fewer-occasion",
   "metadata": {
    "execution": {
     "iopub.execute_input": "2021-03-20T00:11:24.304339Z",
     "iopub.status.busy": "2021-03-20T00:11:24.303711Z",
     "iopub.status.idle": "2021-03-20T00:11:24.306720Z",
     "shell.execute_reply": "2021-03-20T00:11:24.307447Z"
    },
    "papermill": {
     "duration": 0.050529,
     "end_time": "2021-03-20T00:11:24.307603",
     "exception": false,
     "start_time": "2021-03-20T00:11:24.257074",
     "status": "completed"
    },
    "tags": []
   },
   "outputs": [],
   "source": [
    "#hide\n",
    "#delete problematic countries from table\n",
    "df_table = df_table[~df_table['Country/Region'].isin(['Cape Verde', 'Cruise Ship', 'Kosovo'])]"
   ]
  },
  {
   "cell_type": "code",
   "execution_count": 17,
   "id": "related-center",
   "metadata": {
    "execution": {
     "iopub.execute_input": "2021-03-20T00:11:24.409381Z",
     "iopub.status.busy": "2021-03-20T00:11:24.408759Z",
     "iopub.status.idle": "2021-03-20T00:11:24.412870Z",
     "shell.execute_reply": "2021-03-20T00:11:24.412308Z"
    },
    "papermill": {
     "duration": 0.064113,
     "end_time": "2021-03-20T00:11:24.413019",
     "exception": false,
     "start_time": "2021-03-20T00:11:24.348906",
     "status": "completed"
    },
    "tags": []
   },
   "outputs": [],
   "source": [
    "#hide\n",
    "metrics = [df_table.columns[index] for index in [1,2,5,6]]\n",
    "# s_china = df_table[df_table['Country/Region'].eq('China')][metrics].sum().add_prefix('China ')\n",
    "s_us = df_table[df_table['Country/Region'].eq('US')][metrics].sum().add_prefix('US ')\n",
    "s_eu = df_table[df_table['Continent'].eq('Europe')][metrics].sum().add_prefix('EU ')\n",
    "s_ind = df_table[df_table['Country/Region'].eq('India')][metrics].sum().add_prefix('India ')\n",
    "summary = {'updated': pd.to_datetime(dt_today), 'since': pd.to_datetime(dt_yday)}\n",
    "summary = {'updated': pd.to_datetime(dt_today), 'since': pd.to_datetime(dt_yday)}\n",
    "summary = {**summary, **df_table[metrics].sum(), **s_ind, **s_us, **s_eu}"
   ]
  },
  {
   "cell_type": "code",
   "execution_count": 18,
   "id": "engaging-syndrome",
   "metadata": {
    "execution": {
     "iopub.execute_input": "2021-03-20T00:11:24.499720Z",
     "iopub.status.busy": "2021-03-20T00:11:24.499029Z",
     "iopub.status.idle": "2021-03-20T00:11:24.512077Z",
     "shell.execute_reply": "2021-03-20T00:11:24.512693Z"
    },
    "papermill": {
     "duration": 0.059358,
     "end_time": "2021-03-20T00:11:24.512911",
     "exception": false,
     "start_time": "2021-03-20T00:11:24.453553",
     "status": "completed"
    },
    "tags": []
   },
   "outputs": [],
   "source": [
    "#hide\n",
    "dft_ct_new_cases = dft_cases.groupby(COL_REGION)[dt_cols].sum().diff(axis=1).fillna(0).astype(int)"
   ]
  },
  {
   "cell_type": "code",
   "execution_count": 19,
   "id": "neutral-assignment",
   "metadata": {
    "execution": {
     "iopub.execute_input": "2021-03-20T00:11:24.603292Z",
     "iopub.status.busy": "2021-03-20T00:11:24.602419Z",
     "iopub.status.idle": "2021-03-20T00:11:24.604970Z",
     "shell.execute_reply": "2021-03-20T00:11:24.604465Z"
    },
    "papermill": {
     "duration": 0.04997,
     "end_time": "2021-03-20T00:11:24.605104",
     "exception": false,
     "start_time": "2021-03-20T00:11:24.555134",
     "status": "completed"
    },
    "tags": []
   },
   "outputs": [],
   "source": [
    "#hide\n",
    "everydaycases = dft_ct_new_cases.cumsum(axis=1)"
   ]
  },
  {
   "cell_type": "code",
   "execution_count": 20,
   "id": "parliamentary-calgary",
   "metadata": {
    "execution": {
     "iopub.execute_input": "2021-03-20T00:11:24.693782Z",
     "iopub.status.busy": "2021-03-20T00:11:24.693140Z",
     "iopub.status.idle": "2021-03-20T00:11:25.414938Z",
     "shell.execute_reply": "2021-03-20T00:11:25.414399Z"
    },
    "papermill": {
     "duration": 0.770727,
     "end_time": "2021-03-20T00:11:25.415076",
     "exception": false,
     "start_time": "2021-03-20T00:11:24.644349",
     "status": "completed"
    },
    "tags": []
   },
   "outputs": [],
   "source": [
    "#hide\n",
    "import pandas as pd\n",
    "import matplotlib.pyplot as plt\n",
    "import matplotlib.ticker as ticker\n",
    "import matplotlib.animation as animation\n",
    "from IPython.display import HTML"
   ]
  },
  {
   "cell_type": "code",
   "execution_count": 21,
   "id": "lasting-extraction",
   "metadata": {
    "execution": {
     "iopub.execute_input": "2021-03-20T00:11:25.498384Z",
     "iopub.status.busy": "2021-03-20T00:11:25.497738Z",
     "iopub.status.idle": "2021-03-20T00:11:25.502969Z",
     "shell.execute_reply": "2021-03-20T00:11:25.503490Z"
    },
    "papermill": {
     "duration": 0.049506,
     "end_time": "2021-03-20T00:11:25.503659",
     "exception": false,
     "start_time": "2021-03-20T00:11:25.454153",
     "status": "completed"
    },
    "tags": []
   },
   "outputs": [],
   "source": [
    "#hide\n",
    "t = everydaycases.stack()"
   ]
  },
  {
   "cell_type": "code",
   "execution_count": 22,
   "id": "premier-sleeve",
   "metadata": {
    "execution": {
     "iopub.execute_input": "2021-03-20T00:11:25.582731Z",
     "iopub.status.busy": "2021-03-20T00:11:25.582073Z",
     "iopub.status.idle": "2021-03-20T00:11:25.589747Z",
     "shell.execute_reply": "2021-03-20T00:11:25.590286Z"
    },
    "papermill": {
     "duration": 0.050468,
     "end_time": "2021-03-20T00:11:25.590473",
     "exception": false,
     "start_time": "2021-03-20T00:11:25.540005",
     "status": "completed"
    },
    "tags": []
   },
   "outputs": [],
   "source": [
    "#hide\n",
    "g = t.reset_index(['Country/Region'])"
   ]
  },
  {
   "cell_type": "code",
   "execution_count": 23,
   "id": "distributed-pittsburgh",
   "metadata": {
    "execution": {
     "iopub.execute_input": "2021-03-20T00:11:25.668203Z",
     "iopub.status.busy": "2021-03-20T00:11:25.667538Z",
     "iopub.status.idle": "2021-03-20T00:11:25.671335Z",
     "shell.execute_reply": "2021-03-20T00:11:25.670609Z"
    },
    "papermill": {
     "duration": 0.043885,
     "end_time": "2021-03-20T00:11:25.671868",
     "exception": false,
     "start_time": "2021-03-20T00:11:25.627983",
     "status": "completed"
    },
    "tags": []
   },
   "outputs": [],
   "source": [
    "#hide\n",
    "g.index.name = 'date'"
   ]
  },
  {
   "cell_type": "code",
   "execution_count": 24,
   "id": "naked-donor",
   "metadata": {
    "execution": {
     "iopub.execute_input": "2021-03-20T00:11:25.756117Z",
     "iopub.status.busy": "2021-03-20T00:11:25.755319Z",
     "iopub.status.idle": "2021-03-20T00:11:25.757803Z",
     "shell.execute_reply": "2021-03-20T00:11:25.757203Z"
    },
    "papermill": {
     "duration": 0.044844,
     "end_time": "2021-03-20T00:11:25.757926",
     "exception": false,
     "start_time": "2021-03-20T00:11:25.713082",
     "status": "completed"
    },
    "tags": []
   },
   "outputs": [],
   "source": [
    "# #hide\n",
    "# g = g.reset_index(['date'])"
   ]
  },
  {
   "cell_type": "code",
   "execution_count": 25,
   "id": "incomplete-mustang",
   "metadata": {
    "execution": {
     "iopub.execute_input": "2021-03-20T00:11:25.838091Z",
     "iopub.status.busy": "2021-03-20T00:11:25.837485Z",
     "iopub.status.idle": "2021-03-20T00:11:25.839147Z",
     "shell.execute_reply": "2021-03-20T00:11:25.839644Z"
    },
    "papermill": {
     "duration": 0.043627,
     "end_time": "2021-03-20T00:11:25.839770",
     "exception": false,
     "start_time": "2021-03-20T00:11:25.796143",
     "status": "completed"
    },
    "tags": []
   },
   "outputs": [],
   "source": [
    "#hide\n",
    "# g.head()"
   ]
  },
  {
   "cell_type": "code",
   "execution_count": 26,
   "id": "specific-kruger",
   "metadata": {
    "execution": {
     "iopub.execute_input": "2021-03-20T00:11:25.919018Z",
     "iopub.status.busy": "2021-03-20T00:11:25.918219Z",
     "iopub.status.idle": "2021-03-20T00:11:25.920260Z",
     "shell.execute_reply": "2021-03-20T00:11:25.920751Z"
    },
    "papermill": {
     "duration": 0.043247,
     "end_time": "2021-03-20T00:11:25.920875",
     "exception": false,
     "start_time": "2021-03-20T00:11:25.877628",
     "status": "completed"
    },
    "tags": []
   },
   "outputs": [],
   "source": [
    "#hide\n",
    "# g.columns = ['date','country','cases']"
   ]
  },
  {
   "cell_type": "code",
   "execution_count": 27,
   "id": "tender-conversion",
   "metadata": {
    "execution": {
     "iopub.execute_input": "2021-03-20T00:11:25.997263Z",
     "iopub.status.busy": "2021-03-20T00:11:25.996722Z",
     "iopub.status.idle": "2021-03-20T00:11:25.999261Z",
     "shell.execute_reply": "2021-03-20T00:11:25.998829Z"
    },
    "papermill": {
     "duration": 0.042159,
     "end_time": "2021-03-20T00:11:25.999389",
     "exception": false,
     "start_time": "2021-03-20T00:11:25.957230",
     "status": "completed"
    },
    "tags": []
   },
   "outputs": [],
   "source": [
    "#hide\n",
    "# g['continent'] = g.country"
   ]
  },
  {
   "cell_type": "code",
   "execution_count": 28,
   "id": "substantial-wilderness",
   "metadata": {
    "execution": {
     "iopub.execute_input": "2021-03-20T00:11:26.079320Z",
     "iopub.status.busy": "2021-03-20T00:11:26.078460Z",
     "iopub.status.idle": "2021-03-20T00:11:26.081429Z",
     "shell.execute_reply": "2021-03-20T00:11:26.080885Z"
    },
    "papermill": {
     "duration": 0.044177,
     "end_time": "2021-03-20T00:11:26.081554",
     "exception": false,
     "start_time": "2021-03-20T00:11:26.037377",
     "status": "completed"
    },
    "tags": []
   },
   "outputs": [],
   "source": [
    "#hide\n",
    "# cols = list(g.columns.values)"
   ]
  },
  {
   "cell_type": "code",
   "execution_count": 29,
   "id": "solved-farming",
   "metadata": {
    "execution": {
     "iopub.execute_input": "2021-03-20T00:11:26.161900Z",
     "iopub.status.busy": "2021-03-20T00:11:26.161346Z",
     "iopub.status.idle": "2021-03-20T00:11:26.163702Z",
     "shell.execute_reply": "2021-03-20T00:11:26.163221Z"
    },
    "papermill": {
     "duration": 0.043557,
     "end_time": "2021-03-20T00:11:26.163818",
     "exception": false,
     "start_time": "2021-03-20T00:11:26.120261",
     "status": "completed"
    },
    "tags": []
   },
   "outputs": [],
   "source": [
    "#hide\n",
    "# cols.insert(0, cols.pop())"
   ]
  },
  {
   "cell_type": "code",
   "execution_count": 30,
   "id": "executed-adoption",
   "metadata": {
    "execution": {
     "iopub.execute_input": "2021-03-20T00:11:26.244254Z",
     "iopub.status.busy": "2021-03-20T00:11:26.243696Z",
     "iopub.status.idle": "2021-03-20T00:11:26.245702Z",
     "shell.execute_reply": "2021-03-20T00:11:26.245231Z"
    },
    "papermill": {
     "duration": 0.042341,
     "end_time": "2021-03-20T00:11:26.245808",
     "exception": false,
     "start_time": "2021-03-20T00:11:26.203467",
     "status": "completed"
    },
    "tags": []
   },
   "outputs": [],
   "source": [
    "#hide\n",
    "# g = g[cols]"
   ]
  },
  {
   "cell_type": "code",
   "execution_count": 31,
   "id": "subject-dublin",
   "metadata": {
    "execution": {
     "iopub.execute_input": "2021-03-20T00:11:26.320458Z",
     "iopub.status.busy": "2021-03-20T00:11:26.319834Z",
     "iopub.status.idle": "2021-03-20T00:11:26.321916Z",
     "shell.execute_reply": "2021-03-20T00:11:26.322463Z"
    },
    "papermill": {
     "duration": 0.041961,
     "end_time": "2021-03-20T00:11:26.322598",
     "exception": false,
     "start_time": "2021-03-20T00:11:26.280637",
     "status": "completed"
    },
    "tags": []
   },
   "outputs": [],
   "source": [
    "#hide\n",
    "# g['continent'] = g['continent'].map(mapping['map.continent'])"
   ]
  },
  {
   "cell_type": "code",
   "execution_count": 32,
   "id": "freelance-scout",
   "metadata": {
    "execution": {
     "iopub.execute_input": "2021-03-20T00:11:26.410332Z",
     "iopub.status.busy": "2021-03-20T00:11:26.409641Z",
     "iopub.status.idle": "2021-03-20T00:11:26.411153Z",
     "shell.execute_reply": "2021-03-20T00:11:26.411722Z"
    },
    "papermill": {
     "duration": 0.050484,
     "end_time": "2021-03-20T00:11:26.411854",
     "exception": false,
     "start_time": "2021-03-20T00:11:26.361370",
     "status": "completed"
    },
    "tags": []
   },
   "outputs": [],
   "source": [
    "#hide\n",
    "# g.head()"
   ]
  },
  {
   "cell_type": "code",
   "execution_count": 33,
   "id": "limited-engine",
   "metadata": {
    "execution": {
     "iopub.execute_input": "2021-03-20T00:11:26.491995Z",
     "iopub.status.busy": "2021-03-20T00:11:26.491443Z",
     "iopub.status.idle": "2021-03-20T00:11:26.493563Z",
     "shell.execute_reply": "2021-03-20T00:11:26.494120Z"
    },
    "papermill": {
     "duration": 0.043792,
     "end_time": "2021-03-20T00:11:26.494277",
     "exception": false,
     "start_time": "2021-03-20T00:11:26.450485",
     "status": "completed"
    },
    "tags": []
   },
   "outputs": [],
   "source": [
    "# hide\n",
    "# g['date'] = g['date'].astype('datetime64[ns]')"
   ]
  },
  {
   "cell_type": "code",
   "execution_count": 34,
   "id": "sophisticated-supervisor",
   "metadata": {
    "execution": {
     "iopub.execute_input": "2021-03-20T00:11:26.585492Z",
     "iopub.status.busy": "2021-03-20T00:11:26.584755Z",
     "iopub.status.idle": "2021-03-20T00:11:26.587235Z",
     "shell.execute_reply": "2021-03-20T00:11:26.586629Z"
    },
    "papermill": {
     "duration": 0.05253,
     "end_time": "2021-03-20T00:11:26.587460",
     "exception": false,
     "start_time": "2021-03-20T00:11:26.534930",
     "status": "completed"
    },
    "tags": []
   },
   "outputs": [],
   "source": [
    "#hide\n",
    "# g['date'] = g.date.dt.dayofyear"
   ]
  },
  {
   "cell_type": "code",
   "execution_count": 35,
   "id": "inside-dubai",
   "metadata": {
    "execution": {
     "iopub.execute_input": "2021-03-20T00:11:26.676341Z",
     "iopub.status.busy": "2021-03-20T00:11:26.675604Z",
     "iopub.status.idle": "2021-03-20T00:11:26.678239Z",
     "shell.execute_reply": "2021-03-20T00:11:26.677667Z"
    },
    "papermill": {
     "duration": 0.053313,
     "end_time": "2021-03-20T00:11:26.678386",
     "exception": false,
     "start_time": "2021-03-20T00:11:26.625073",
     "status": "completed"
    },
    "tags": []
   },
   "outputs": [],
   "source": [
    "#hide\n",
    "# g = g.rename(columns= {'continent':'group','country':'name','cases':'value'})"
   ]
  },
  {
   "cell_type": "code",
   "execution_count": 36,
   "id": "fleet-motorcycle",
   "metadata": {
    "execution": {
     "iopub.execute_input": "2021-03-20T00:11:26.767057Z",
     "iopub.status.busy": "2021-03-20T00:11:26.766334Z",
     "iopub.status.idle": "2021-03-20T00:11:26.768386Z",
     "shell.execute_reply": "2021-03-20T00:11:26.769022Z"
    },
    "papermill": {
     "duration": 0.045667,
     "end_time": "2021-03-20T00:11:26.769184",
     "exception": false,
     "start_time": "2021-03-20T00:11:26.723517",
     "status": "completed"
    },
    "tags": []
   },
   "outputs": [],
   "source": [
    "#hide\n",
    "# cols = ['name','group','day','value']"
   ]
  },
  {
   "cell_type": "code",
   "execution_count": 37,
   "id": "continued-sleeping",
   "metadata": {
    "execution": {
     "iopub.execute_input": "2021-03-20T00:11:26.849912Z",
     "iopub.status.busy": "2021-03-20T00:11:26.849082Z",
     "iopub.status.idle": "2021-03-20T00:11:26.851539Z",
     "shell.execute_reply": "2021-03-20T00:11:26.850956Z"
    },
    "papermill": {
     "duration": 0.044094,
     "end_time": "2021-03-20T00:11:26.851657",
     "exception": false,
     "start_time": "2021-03-20T00:11:26.807563",
     "status": "completed"
    },
    "tags": []
   },
   "outputs": [],
   "source": [
    "#hide\n",
    "# g.rename(columns= {'date':'day'},inplace = True)"
   ]
  },
  {
   "cell_type": "code",
   "execution_count": 38,
   "id": "major-fight",
   "metadata": {
    "execution": {
     "iopub.execute_input": "2021-03-20T00:11:26.928759Z",
     "iopub.status.busy": "2021-03-20T00:11:26.928128Z",
     "iopub.status.idle": "2021-03-20T00:11:26.930647Z",
     "shell.execute_reply": "2021-03-20T00:11:26.931197Z"
    },
    "papermill": {
     "duration": 0.042401,
     "end_time": "2021-03-20T00:11:26.931485",
     "exception": false,
     "start_time": "2021-03-20T00:11:26.889084",
     "status": "completed"
    },
    "tags": []
   },
   "outputs": [],
   "source": [
    "#hide\n",
    "# g = g[cols]"
   ]
  },
  {
   "cell_type": "code",
   "execution_count": 39,
   "id": "structured-mobile",
   "metadata": {
    "execution": {
     "iopub.execute_input": "2021-03-20T00:11:27.006730Z",
     "iopub.status.busy": "2021-03-20T00:11:27.006166Z",
     "iopub.status.idle": "2021-03-20T00:11:27.009284Z",
     "shell.execute_reply": "2021-03-20T00:11:27.008424Z"
    },
    "papermill": {
     "duration": 0.043074,
     "end_time": "2021-03-20T00:11:27.009470",
     "exception": false,
     "start_time": "2021-03-20T00:11:26.966396",
     "status": "completed"
    },
    "tags": []
   },
   "outputs": [],
   "source": [
    "# #hide\n",
    "# g = g[g.group.notna()]"
   ]
  },
  {
   "cell_type": "code",
   "execution_count": 40,
   "id": "determined-closing",
   "metadata": {
    "execution": {
     "iopub.execute_input": "2021-03-20T00:11:27.089547Z",
     "iopub.status.busy": "2021-03-20T00:11:27.088629Z",
     "iopub.status.idle": "2021-03-20T00:11:27.090513Z",
     "shell.execute_reply": "2021-03-20T00:11:27.091031Z"
    },
    "papermill": {
     "duration": 0.044179,
     "end_time": "2021-03-20T00:11:27.091200",
     "exception": false,
     "start_time": "2021-03-20T00:11:27.047021",
     "status": "completed"
    },
    "tags": []
   },
   "outputs": [],
   "source": [
    "# #hide\n",
    "# colors = dict(zip(\n",
    "#     [\"Oceania\", \"Europe\", \"Asia\", \"South America\", \"Middle East\", \"North America\", \"Africa\"],\n",
    "#     [\"#adb0ff\", \"#ffb3ff\", \"#90d595\", \"#e48381\", \"#aafbff\", \"#f7bb5f\", \"#eafb50\"]\n",
    "# ))\n",
    "# group_lk = g.set_index('name')['group'].to_dict()"
   ]
  },
  {
   "cell_type": "code",
   "execution_count": null,
   "id": "gross-drinking",
   "metadata": {
    "papermill": {
     "duration": 0.034388,
     "end_time": "2021-03-20T00:11:27.160464",
     "exception": false,
     "start_time": "2021-03-20T00:11:27.126076",
     "status": "completed"
    },
    "tags": []
   },
   "outputs": [],
   "source": []
  },
  {
   "cell_type": "code",
   "execution_count": 41,
   "id": "subject-macintosh",
   "metadata": {
    "execution": {
     "iopub.execute_input": "2021-03-20T00:11:27.235684Z",
     "iopub.status.busy": "2021-03-20T00:11:27.235170Z",
     "iopub.status.idle": "2021-03-20T00:11:27.237513Z",
     "shell.execute_reply": "2021-03-20T00:11:27.237040Z"
    },
    "papermill": {
     "duration": 0.041771,
     "end_time": "2021-03-20T00:11:27.237614",
     "exception": false,
     "start_time": "2021-03-20T00:11:27.195843",
     "status": "completed"
    },
    "tags": []
   },
   "outputs": [],
   "source": [
    "# #hide\n",
    "# fig, ax = plt.subplots(figsize=(15, 8))\n",
    "\n",
    "# def draw_barchart(current_day):\n",
    "#     dff = g[g['day'].eq(current_day)].sort_values(by='value', ascending=True).tail(10)\n",
    "#     ax.clear()\n",
    "#     ax.barh(dff['name'], dff['value'], color=[colors[group_lk[x]] for x in dff['name']])\n",
    "#     dx = dff['value'].max() / 200\n",
    "    \n",
    "#     for i, (value, name) in enumerate(zip(dff['value'], dff['name'])):\n",
    "#         ax.text(value-dx, i,     name,           size=14, weight=600, ha='right', va='bottom')\n",
    "#         ax.text(value-dx, i-.25, group_lk[name], size=10, color='#444444', ha='right', va='baseline')\n",
    "#         ax.text(value+dx, i,     f'{value:,.0f}',  size=14, ha='left',  va='center')\n",
    "#     ax.text(1, 0.4, current_day, transform=ax.transAxes, color='#777777', size=46, ha='right', weight=800)\n",
    "#     ax.text(0, 1.06, 'Population (thousands)', transform=ax.transAxes, size=12, color='#777777')\n",
    "#     ax.xaxis.set_major_formatter(ticker.StrMethodFormatter('{x:,.0f}'))\n",
    "#     ax.xaxis.set_ticks_position('top')\n",
    "#     ax.tick_params(axis='x', colors='#777777', labelsize=12)\n",
    "#     ax.set_yticks([])\n",
    "#     ax.margins(0, 0.01)\n",
    "#     ax.grid(which='major', axis='x', linestyle='-')\n",
    "#     ax.set_axisbelow(True)\n",
    "    \n",
    "#     ax.text(0, 1.15, 'Coronavirus',\n",
    "#             transform=ax.transAxes, size=24, weight=600, ha='left', va='top')\n",
    "# #     ax.text(1, 0, 'by @pratapvardhan; credit @jburnmurdoch', transform=ax.transAxes, color='#777777', ha='right',\n",
    "# #             bbox=dict(facecolor='white', alpha=0.8, edgecolor='white'))\n",
    "#     plt.box(False)"
   ]
  },
  {
   "cell_type": "code",
   "execution_count": 42,
   "id": "sexual-wages",
   "metadata": {
    "execution": {
     "iopub.execute_input": "2021-03-20T00:11:27.314716Z",
     "iopub.status.busy": "2021-03-20T00:11:27.314157Z",
     "iopub.status.idle": "2021-03-20T00:11:27.315756Z",
     "shell.execute_reply": "2021-03-20T00:11:27.316194Z"
    },
    "papermill": {
     "duration": 0.042596,
     "end_time": "2021-03-20T00:11:27.316307",
     "exception": false,
     "start_time": "2021-03-20T00:11:27.273711",
     "status": "completed"
    },
    "tags": []
   },
   "outputs": [],
   "source": [
    "# #hide_input\n",
    "# fig, ax = plt.subplots(figsize=(15, 8))\n",
    "# animator = animation.FuncAnimation(fig, draw_barchart, frames=range(g.day.values.min(), g.day.values.max()))\n",
    "# HTML(animator.to_jshtml())\n",
    "# # or use animator.to_html5_video() or animator.save() "
   ]
  },
  {
   "cell_type": "code",
   "execution_count": null,
   "id": "australian-container",
   "metadata": {
    "papermill": {
     "duration": 0.036626,
     "end_time": "2021-03-20T00:11:27.387457",
     "exception": false,
     "start_time": "2021-03-20T00:11:27.350831",
     "status": "completed"
    },
    "tags": []
   },
   "outputs": [],
   "source": []
  },
  {
   "cell_type": "code",
   "execution_count": null,
   "id": "mediterranean-pontiac",
   "metadata": {
    "papermill": {
     "duration": 0.034315,
     "end_time": "2021-03-20T00:11:27.456319",
     "exception": false,
     "start_time": "2021-03-20T00:11:27.422004",
     "status": "completed"
    },
    "tags": []
   },
   "outputs": [],
   "source": []
  },
  {
   "cell_type": "code",
   "execution_count": null,
   "id": "aging-legislature",
   "metadata": {
    "papermill": {
     "duration": 0.034239,
     "end_time": "2021-03-20T00:11:27.525682",
     "exception": false,
     "start_time": "2021-03-20T00:11:27.491443",
     "status": "completed"
    },
    "tags": []
   },
   "outputs": [],
   "source": []
  }
 ],
 "metadata": {
  "kernelspec": {
   "display_name": "Python 3",
   "language": "python",
   "name": "python3"
  },
  "language_info": {
   "codemirror_mode": {
    "name": "ipython",
    "version": 3
   },
   "file_extension": ".py",
   "mimetype": "text/x-python",
   "name": "python",
   "nbconvert_exporter": "python",
   "pygments_lexer": "ipython3",
   "version": "3.6.13"
  },
  "papermill": {
   "duration": 6.884196,
   "end_time": "2021-03-20T00:11:27.868204",
   "environment_variables": {},
   "exception": null,
   "input_path": "2020-03-21-covid19exp.ipynb",
   "output_path": "2020-03-21-covid19exp.ipynb",
   "parameters": {},
   "start_time": "2021-03-20T00:11:20.984008",
   "version": "2.0.0"
  }
 },
 "nbformat": 4,
 "nbformat_minor": 5
}