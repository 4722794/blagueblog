{
 "cells": [
  {
   "cell_type": "markdown",
   "id": "muslim-click",
   "metadata": {
    "papermill": {
     "duration": 0.035781,
     "end_time": "2022-11-30T00:42:12.819080",
     "exception": false,
     "start_time": "2022-11-30T00:42:12.783299",
     "status": "completed"
    },
    "tags": []
   },
   "source": [
    "# COVID-19 Case Race\n",
    "> A race chart to see rising cases around the world\n",
    "\n",
    "- author: Hargun Oberoi\n",
    "- image: images/covid-overview.png\n",
    "- hide: false\n",
    "- badges: false"
   ]
  },
  {
   "cell_type": "code",
   "execution_count": 1,
   "id": "proof-material",
   "metadata": {
    "execution": {
     "iopub.execute_input": "2022-11-30T00:42:12.891061Z",
     "iopub.status.busy": "2022-11-30T00:42:12.889701Z",
     "iopub.status.idle": "2022-11-30T00:42:13.245163Z",
     "shell.execute_reply": "2022-11-30T00:42:13.243758Z"
    },
    "papermill": {
     "duration": 0.39534,
     "end_time": "2022-11-30T00:42:13.245325",
     "exception": false,
     "start_time": "2022-11-30T00:42:12.849985",
     "status": "completed"
    },
    "tags": []
   },
   "outputs": [],
   "source": [
    "#hide\n",
    "import numpy as np\n",
    "import pandas as pd\n",
    "from jinja2 import Template\n",
    "from IPython.display import HTML"
   ]
  },
  {
   "cell_type": "code",
   "execution_count": 2,
   "id": "developed-terminology",
   "metadata": {
    "execution": {
     "iopub.execute_input": "2022-11-30T00:42:13.310527Z",
     "iopub.status.busy": "2022-11-30T00:42:13.309905Z",
     "iopub.status.idle": "2022-11-30T00:42:13.312150Z",
     "shell.execute_reply": "2022-11-30T00:42:13.311674Z"
    },
    "papermill": {
     "duration": 0.036888,
     "end_time": "2022-11-30T00:42:13.312266",
     "exception": false,
     "start_time": "2022-11-30T00:42:13.275378",
     "status": "completed"
    },
    "tags": []
   },
   "outputs": [],
   "source": [
    "#hide\n",
    "\n",
    "# FETCH\n",
    "base_url = 'https://raw.githubusercontent.com/pratapvardhan/notebooks/master/covid19/'\n",
    "paths = {\n",
    "    'mapping': base_url + 'mapping_countries.csv',\n",
    "    'overview': base_url + 'overview.tpl'\n",
    "}"
   ]
  },
  {
   "cell_type": "code",
   "execution_count": 3,
   "id": "dynamic-saver",
   "metadata": {
    "execution": {
     "iopub.execute_input": "2022-11-30T00:42:13.382653Z",
     "iopub.status.busy": "2022-11-30T00:42:13.382003Z",
     "iopub.status.idle": "2022-11-30T00:42:13.384755Z",
     "shell.execute_reply": "2022-11-30T00:42:13.385355Z"
    },
    "papermill": {
     "duration": 0.043406,
     "end_time": "2022-11-30T00:42:13.385498",
     "exception": false,
     "start_time": "2022-11-30T00:42:13.342092",
     "status": "completed"
    },
    "tags": []
   },
   "outputs": [
    {
     "data": {
      "text/plain": [
       "'https://raw.githubusercontent.com/pratapvardhan/notebooks/master/covid19/mapping_countries.csv'"
      ]
     },
     "execution_count": 3,
     "metadata": {},
     "output_type": "execute_result"
    }
   ],
   "source": [
    "#hide\n",
    "paths['mapping']"
   ]
  },
  {
   "cell_type": "code",
   "execution_count": 4,
   "id": "urban-software",
   "metadata": {
    "execution": {
     "iopub.execute_input": "2022-11-30T00:42:13.453208Z",
     "iopub.status.busy": "2022-11-30T00:42:13.452571Z",
     "iopub.status.idle": "2022-11-30T00:42:13.454218Z",
     "shell.execute_reply": "2022-11-30T00:42:13.454767Z"
    },
    "papermill": {
     "duration": 0.039121,
     "end_time": "2022-11-30T00:42:13.454906",
     "exception": false,
     "start_time": "2022-11-30T00:42:13.415785",
     "status": "completed"
    },
    "tags": []
   },
   "outputs": [],
   "source": [
    "#hide\n",
    "def get_mappings(url):\n",
    "    df = pd.read_csv(url)\n",
    "    return {\n",
    "        'df': df,\n",
    "        'replace.country': dict(df.dropna(subset=['Name']).set_index('Country')['Name']),\n",
    "        'map.continent': dict(df.set_index('Name')['Continent'])\n",
    "    }"
   ]
  },
  {
   "cell_type": "code",
   "execution_count": 5,
   "id": "intimate-machinery",
   "metadata": {
    "execution": {
     "iopub.execute_input": "2022-11-30T00:42:13.518622Z",
     "iopub.status.busy": "2022-11-30T00:42:13.518023Z",
     "iopub.status.idle": "2022-11-30T00:42:13.553042Z",
     "shell.execute_reply": "2022-11-30T00:42:13.552391Z"
    },
    "papermill": {
     "duration": 0.068173,
     "end_time": "2022-11-30T00:42:13.553188",
     "exception": false,
     "start_time": "2022-11-30T00:42:13.485015",
     "status": "completed"
    },
    "tags": []
   },
   "outputs": [],
   "source": [
    "#hide\n",
    "mapping = get_mappings(paths['mapping'])"
   ]
  },
  {
   "cell_type": "code",
   "execution_count": 6,
   "id": "certified-tactics",
   "metadata": {
    "execution": {
     "iopub.execute_input": "2022-11-30T00:42:13.619843Z",
     "iopub.status.busy": "2022-11-30T00:42:13.619205Z",
     "iopub.status.idle": "2022-11-30T00:42:13.621697Z",
     "shell.execute_reply": "2022-11-30T00:42:13.622281Z"
    },
    "papermill": {
     "duration": 0.038787,
     "end_time": "2022-11-30T00:42:13.622423",
     "exception": false,
     "start_time": "2022-11-30T00:42:13.583636",
     "status": "completed"
    },
    "tags": []
   },
   "outputs": [],
   "source": [
    "#hide\n",
    "def get_template(path):\n",
    "    from urllib.parse import urlparse\n",
    "    if bool(urlparse(path).netloc):\n",
    "        from urllib.request import urlopen\n",
    "        return urlopen(path).read().decode('utf8')\n",
    "    return open(path).read()"
   ]
  },
  {
   "cell_type": "code",
   "execution_count": 7,
   "id": "realistic-blast",
   "metadata": {
    "execution": {
     "iopub.execute_input": "2022-11-30T00:42:13.688538Z",
     "iopub.status.busy": "2022-11-30T00:42:13.687865Z",
     "iopub.status.idle": "2022-11-30T00:42:13.690487Z",
     "shell.execute_reply": "2022-11-30T00:42:13.689987Z"
    },
    "papermill": {
     "duration": 0.037983,
     "end_time": "2022-11-30T00:42:13.690612",
     "exception": false,
     "start_time": "2022-11-30T00:42:13.652629",
     "status": "completed"
    },
    "tags": []
   },
   "outputs": [],
   "source": [
    "#hide\n",
    "def get_frame(name):\n",
    "    url = (\n",
    "        'https://raw.githubusercontent.com/CSSEGISandData/COVID-19/master/csse_covid_19_data/'\n",
    "        f'csse_covid_19_time_series/time_series_covid19_{name}_global.csv')\n",
    "    df = pd.read_csv(url)\n",
    "    # rename countries\n",
    "    df['Country/Region'] = df['Country/Region'].replace(mapping['replace.country'])\n",
    "    return df"
   ]
  },
  {
   "cell_type": "code",
   "execution_count": 8,
   "id": "affiliated-characterization",
   "metadata": {
    "execution": {
     "iopub.execute_input": "2022-11-30T00:42:13.757478Z",
     "iopub.status.busy": "2022-11-30T00:42:13.756805Z",
     "iopub.status.idle": "2022-11-30T00:42:13.759896Z",
     "shell.execute_reply": "2022-11-30T00:42:13.759405Z"
    },
    "papermill": {
     "duration": 0.039129,
     "end_time": "2022-11-30T00:42:13.760019",
     "exception": false,
     "start_time": "2022-11-30T00:42:13.720890",
     "status": "completed"
    },
    "tags": []
   },
   "outputs": [],
   "source": [
    "#hide\n",
    "def get_dates(df):\n",
    "    dt_cols = df.columns[~df.columns.isin(['Province/State', 'Country/Region', 'Lat', 'Long'])]\n",
    "    LAST_DATE_I = -1\n",
    "    # sometimes last column may be empty, then go backwards\n",
    "    for i in range(-1, -len(dt_cols), -1):\n",
    "        if not df[dt_cols[i]].fillna(0).eq(0).all():\n",
    "            LAST_DATE_I = i\n",
    "            break\n",
    "    return LAST_DATE_I, dt_cols"
   ]
  },
  {
   "cell_type": "code",
   "execution_count": 9,
   "id": "recent-optimization",
   "metadata": {
    "execution": {
     "iopub.execute_input": "2022-11-30T00:42:13.825404Z",
     "iopub.status.busy": "2022-11-30T00:42:13.824653Z",
     "iopub.status.idle": "2022-11-30T00:42:14.228111Z",
     "shell.execute_reply": "2022-11-30T00:42:14.227545Z"
    },
    "papermill": {
     "duration": 0.438214,
     "end_time": "2022-11-30T00:42:14.228243",
     "exception": false,
     "start_time": "2022-11-30T00:42:13.790029",
     "status": "completed"
    },
    "tags": []
   },
   "outputs": [],
   "source": [
    "#hide\n",
    "COL_REGION = 'Country/Region'\n",
    "# Confirmed, Recovered, Deaths\n",
    "df = get_frame('confirmed')\n",
    "# dft_: timeseries, dfc_: today country agg\n",
    "dft_cases = df\n",
    "dft_deaths = get_frame('deaths')\n",
    "dft_recovered = get_frame('recovered')\n",
    "LAST_DATE_I, dt_cols = get_dates(df)"
   ]
  },
  {
   "cell_type": "code",
   "execution_count": 10,
   "id": "absolute-copper",
   "metadata": {
    "execution": {
     "iopub.execute_input": "2022-11-30T00:42:14.295223Z",
     "iopub.status.busy": "2022-11-30T00:42:14.294504Z",
     "iopub.status.idle": "2022-11-30T00:42:14.296318Z",
     "shell.execute_reply": "2022-11-30T00:42:14.296867Z"
    },
    "papermill": {
     "duration": 0.038543,
     "end_time": "2022-11-30T00:42:14.297047",
     "exception": false,
     "start_time": "2022-11-30T00:42:14.258504",
     "status": "completed"
    },
    "tags": []
   },
   "outputs": [],
   "source": [
    "#hide\n",
    "LAST_DATE_I, dt_cols = get_dates(df)\n",
    "dt_today =dt_cols[LAST_DATE_I]\n",
    "# dt_5day = dt_cols[LAST_DATE_I - 5]\n",
    "dt_yday = dt_cols[LAST_DATE_I - 1]"
   ]
  },
  {
   "cell_type": "code",
   "execution_count": 11,
   "id": "restricted-sheriff",
   "metadata": {
    "execution": {
     "iopub.execute_input": "2022-11-30T00:42:14.365508Z",
     "iopub.status.busy": "2022-11-30T00:42:14.364808Z",
     "iopub.status.idle": "2022-11-30T00:42:14.370593Z",
     "shell.execute_reply": "2022-11-30T00:42:14.371161Z"
    },
    "papermill": {
     "duration": 0.043821,
     "end_time": "2022-11-30T00:42:14.371306",
     "exception": false,
     "start_time": "2022-11-30T00:42:14.327485",
     "status": "completed"
    },
    "tags": []
   },
   "outputs": [],
   "source": [
    "#hide\n",
    "dfc_cases = dft_cases.groupby(COL_REGION)[dt_today].sum()\n",
    "dfc_deaths = dft_deaths.groupby(COL_REGION)[dt_today].sum()\n",
    "# dfp_cases = dft_cases.groupby(COL_REGION)[dt_5day].sum()\n",
    "# dfp_deaths = dft_deaths.groupby(COL_REGION)[dt_5day].sum()\n",
    "dfp_cases = dft_cases.groupby(COL_REGION)[dt_yday].sum()\n",
    "dfp_deaths = dft_deaths.groupby(COL_REGION)[dt_yday].sum()"
   ]
  },
  {
   "cell_type": "code",
   "execution_count": 12,
   "id": "deluxe-hepatitis",
   "metadata": {
    "execution": {
     "iopub.execute_input": "2022-11-30T00:42:14.435106Z",
     "iopub.status.busy": "2022-11-30T00:42:14.434505Z",
     "iopub.status.idle": "2022-11-30T00:42:14.442713Z",
     "shell.execute_reply": "2022-11-30T00:42:14.442220Z"
    },
    "papermill": {
     "duration": 0.041276,
     "end_time": "2022-11-30T00:42:14.442834",
     "exception": false,
     "start_time": "2022-11-30T00:42:14.401558",
     "status": "completed"
    },
    "tags": []
   },
   "outputs": [],
   "source": [
    "#hide\n",
    "df_table = (pd.DataFrame(dict(Cases = dfc_cases, Deaths = dfc_deaths, PCases = dfp_cases, PDeaths = dfp_deaths))\n",
    "            .sort_values(by = ['Cases','Deaths'], ascending = [False, False])\n",
    "            .reset_index())"
   ]
  },
  {
   "cell_type": "code",
   "execution_count": 13,
   "id": "educational-chancellor",
   "metadata": {
    "execution": {
     "iopub.execute_input": "2022-11-30T00:42:14.522627Z",
     "iopub.status.busy": "2022-11-30T00:42:14.521978Z",
     "iopub.status.idle": "2022-11-30T00:42:14.530072Z",
     "shell.execute_reply": "2022-11-30T00:42:14.529578Z"
    },
    "papermill": {
     "duration": 0.057007,
     "end_time": "2022-11-30T00:42:14.530191",
     "exception": false,
     "start_time": "2022-11-30T00:42:14.473184",
     "status": "completed"
    },
    "tags": []
   },
   "outputs": [
    {
     "data": {
      "text/html": [
       "<div>\n",
       "<style scoped>\n",
       "    .dataframe tbody tr th:only-of-type {\n",
       "        vertical-align: middle;\n",
       "    }\n",
       "\n",
       "    .dataframe tbody tr th {\n",
       "        vertical-align: top;\n",
       "    }\n",
       "\n",
       "    .dataframe thead th {\n",
       "        text-align: right;\n",
       "    }\n",
       "</style>\n",
       "<table border=\"1\" class=\"dataframe\">\n",
       "  <thead>\n",
       "    <tr style=\"text-align: right;\">\n",
       "      <th></th>\n",
       "      <th>Country/Region</th>\n",
       "      <th>Cases</th>\n",
       "      <th>Deaths</th>\n",
       "      <th>PCases</th>\n",
       "      <th>PDeaths</th>\n",
       "      <th>Cases (+)</th>\n",
       "      <th>Deaths (+)</th>\n",
       "      <th>Fatality Rate</th>\n",
       "      <th>Continent</th>\n",
       "    </tr>\n",
       "  </thead>\n",
       "  <tbody>\n",
       "    <tr>\n",
       "      <th>0</th>\n",
       "      <td>US</td>\n",
       "      <td>98628566</td>\n",
       "      <td>1079477</td>\n",
       "      <td>98568849</td>\n",
       "      <td>1079197</td>\n",
       "      <td>59717</td>\n",
       "      <td>280</td>\n",
       "      <td>1.09</td>\n",
       "      <td>North America</td>\n",
       "    </tr>\n",
       "    <tr>\n",
       "      <th>1</th>\n",
       "      <td>India</td>\n",
       "      <td>44673293</td>\n",
       "      <td>530615</td>\n",
       "      <td>44673078</td>\n",
       "      <td>530614</td>\n",
       "      <td>215</td>\n",
       "      <td>1</td>\n",
       "      <td>1.19</td>\n",
       "      <td>Asia</td>\n",
       "    </tr>\n",
       "    <tr>\n",
       "      <th>2</th>\n",
       "      <td>France</td>\n",
       "      <td>37885199</td>\n",
       "      <td>159811</td>\n",
       "      <td>37789817</td>\n",
       "      <td>159679</td>\n",
       "      <td>95382</td>\n",
       "      <td>132</td>\n",
       "      <td>0.42</td>\n",
       "      <td>Europe</td>\n",
       "    </tr>\n",
       "    <tr>\n",
       "      <th>3</th>\n",
       "      <td>Germany</td>\n",
       "      <td>36419717</td>\n",
       "      <td>157657</td>\n",
       "      <td>36373165</td>\n",
       "      <td>157495</td>\n",
       "      <td>46552</td>\n",
       "      <td>162</td>\n",
       "      <td>0.43</td>\n",
       "      <td>Europe</td>\n",
       "    </tr>\n",
       "    <tr>\n",
       "      <th>4</th>\n",
       "      <td>Brazil</td>\n",
       "      <td>35149503</td>\n",
       "      <td>689442</td>\n",
       "      <td>35149503</td>\n",
       "      <td>689442</td>\n",
       "      <td>0</td>\n",
       "      <td>0</td>\n",
       "      <td>1.96</td>\n",
       "      <td>South America</td>\n",
       "    </tr>\n",
       "  </tbody>\n",
       "</table>\n",
       "</div>"
      ],
      "text/plain": [
       "  Country/Region     Cases   Deaths    PCases  PDeaths  Cases (+)  Deaths (+)  \\\n",
       "0             US  98628566  1079477  98568849  1079197      59717         280   \n",
       "1          India  44673293   530615  44673078   530614        215           1   \n",
       "2         France  37885199   159811  37789817   159679      95382         132   \n",
       "3        Germany  36419717   157657  36373165   157495      46552         162   \n",
       "4         Brazil  35149503   689442  35149503   689442          0           0   \n",
       "\n",
       "   Fatality Rate      Continent  \n",
       "0           1.09  North America  \n",
       "1           1.19           Asia  \n",
       "2           0.42         Europe  \n",
       "3           0.43         Europe  \n",
       "4           1.96  South America  "
      ]
     },
     "execution_count": 13,
     "metadata": {},
     "output_type": "execute_result"
    }
   ],
   "source": [
    "#hide\n",
    "for c in 'Cases, Deaths'.split(', '):\n",
    "    df_table[f'{c} (+)'] = (df_table[c] - df_table[f'P{c}']).clip(0)\n",
    "    #Clip ça veut dire, les chiffres negatif sont interdit\n",
    "df_table['Fatality Rate'] = (100* df_table['Deaths']/ df_table['Cases']).round(2)\n",
    "df_table['Continent'] = df_table['Country/Region'].map(mapping['map.continent'])\n",
    "df_table.head(5)"
   ]
  },
  {
   "cell_type": "code",
   "execution_count": 14,
   "id": "aboriginal-bulgaria",
   "metadata": {
    "execution": {
     "iopub.execute_input": "2022-11-30T00:42:14.597933Z",
     "iopub.status.busy": "2022-11-30T00:42:14.597288Z",
     "iopub.status.idle": "2022-11-30T00:42:14.599256Z",
     "shell.execute_reply": "2022-11-30T00:42:14.599706Z"
    },
    "papermill": {
     "duration": 0.038869,
     "end_time": "2022-11-30T00:42:14.599845",
     "exception": false,
     "start_time": "2022-11-30T00:42:14.560976",
     "status": "completed"
    },
    "tags": []
   },
   "outputs": [],
   "source": [
    "#hide\n",
    "#delete problematic countries from table\n",
    "df_table = df_table[~df_table['Country/Region'].isin(['Cape Verde', 'Cruise Ship', 'Kosovo'])]"
   ]
  },
  {
   "cell_type": "code",
   "execution_count": 15,
   "id": "fantastic-effect",
   "metadata": {
    "execution": {
     "iopub.execute_input": "2022-11-30T00:42:14.669774Z",
     "iopub.status.busy": "2022-11-30T00:42:14.669127Z",
     "iopub.status.idle": "2022-11-30T00:42:14.686664Z",
     "shell.execute_reply": "2022-11-30T00:42:14.687122Z"
    },
    "papermill": {
     "duration": 0.056828,
     "end_time": "2022-11-30T00:42:14.687264",
     "exception": false,
     "start_time": "2022-11-30T00:42:14.630436",
     "status": "completed"
    },
    "tags": []
   },
   "outputs": [
    {
     "data": {
      "text/html": [
       "<div>\n",
       "<style scoped>\n",
       "    .dataframe tbody tr th:only-of-type {\n",
       "        vertical-align: middle;\n",
       "    }\n",
       "\n",
       "    .dataframe tbody tr th {\n",
       "        vertical-align: top;\n",
       "    }\n",
       "\n",
       "    .dataframe thead th {\n",
       "        text-align: right;\n",
       "    }\n",
       "</style>\n",
       "<table border=\"1\" class=\"dataframe\">\n",
       "  <thead>\n",
       "    <tr style=\"text-align: right;\">\n",
       "      <th></th>\n",
       "      <th>Country/Region</th>\n",
       "      <th>Cases</th>\n",
       "      <th>Deaths</th>\n",
       "      <th>PCases</th>\n",
       "      <th>PDeaths</th>\n",
       "      <th>Cases (+)</th>\n",
       "      <th>Deaths (+)</th>\n",
       "      <th>Fatality Rate</th>\n",
       "      <th>Continent</th>\n",
       "    </tr>\n",
       "  </thead>\n",
       "  <tbody>\n",
       "    <tr>\n",
       "      <th>0</th>\n",
       "      <td>US</td>\n",
       "      <td>98628566</td>\n",
       "      <td>1079477</td>\n",
       "      <td>98568849</td>\n",
       "      <td>1079197</td>\n",
       "      <td>59717</td>\n",
       "      <td>280</td>\n",
       "      <td>1.1</td>\n",
       "      <td>North America</td>\n",
       "    </tr>\n",
       "    <tr>\n",
       "      <th>1</th>\n",
       "      <td>India</td>\n",
       "      <td>44673293</td>\n",
       "      <td>530615</td>\n",
       "      <td>44673078</td>\n",
       "      <td>530614</td>\n",
       "      <td>215</td>\n",
       "      <td>1</td>\n",
       "      <td>1.2</td>\n",
       "      <td>Asia</td>\n",
       "    </tr>\n",
       "    <tr>\n",
       "      <th>2</th>\n",
       "      <td>France</td>\n",
       "      <td>37885199</td>\n",
       "      <td>159811</td>\n",
       "      <td>37789817</td>\n",
       "      <td>159679</td>\n",
       "      <td>95382</td>\n",
       "      <td>132</td>\n",
       "      <td>0.4</td>\n",
       "      <td>Europe</td>\n",
       "    </tr>\n",
       "    <tr>\n",
       "      <th>3</th>\n",
       "      <td>Germany</td>\n",
       "      <td>36419717</td>\n",
       "      <td>157657</td>\n",
       "      <td>36373165</td>\n",
       "      <td>157495</td>\n",
       "      <td>46552</td>\n",
       "      <td>162</td>\n",
       "      <td>0.4</td>\n",
       "      <td>Europe</td>\n",
       "    </tr>\n",
       "    <tr>\n",
       "      <th>4</th>\n",
       "      <td>Brazil</td>\n",
       "      <td>35149503</td>\n",
       "      <td>689442</td>\n",
       "      <td>35149503</td>\n",
       "      <td>689442</td>\n",
       "      <td>0</td>\n",
       "      <td>0</td>\n",
       "      <td>2.0</td>\n",
       "      <td>South America</td>\n",
       "    </tr>\n",
       "  </tbody>\n",
       "</table>\n",
       "</div>"
      ],
      "text/plain": [
       "  Country/Region     Cases   Deaths    PCases  PDeaths  Cases (+)  Deaths (+)  \\\n",
       "0             US  98628566  1079477  98568849  1079197      59717         280   \n",
       "1          India  44673293   530615  44673078   530614        215           1   \n",
       "2         France  37885199   159811  37789817   159679      95382         132   \n",
       "3        Germany  36419717   157657  36373165   157495      46552         162   \n",
       "4         Brazil  35149503   689442  35149503   689442          0           0   \n",
       "\n",
       "   Fatality Rate      Continent  \n",
       "0            1.1  North America  \n",
       "1            1.2           Asia  \n",
       "2            0.4         Europe  \n",
       "3            0.4         Europe  \n",
       "4            2.0  South America  "
      ]
     },
     "execution_count": 15,
     "metadata": {},
     "output_type": "execute_result"
    }
   ],
   "source": [
    "#hide\n",
    "df_table = (pd.DataFrame(dict(Cases=dfc_cases, Deaths=dfc_deaths, PCases=dfp_cases, PDeaths=dfp_deaths))\n",
    "             .sort_values(by=['Cases', 'Deaths'], ascending=[False, False])\n",
    "             .reset_index())\n",
    "df_table.rename(columns={'index': 'Country/Region'}, inplace=True)\n",
    "for c in 'Cases, Deaths'.split(', '):\n",
    "    df_table[f'{c} (+)'] = (df_table[c] - df_table[f'P{c}']).clip(0)  # DATA BUG\n",
    "df_table['Fatality Rate'] = (100 * df_table['Deaths'] / df_table['Cases']).round(1)\n",
    "df_table['Continent'] = df_table['Country/Region'].map(mapping['map.continent'])\n",
    "df_table.head(5)"
   ]
  },
  {
   "cell_type": "code",
   "execution_count": 16,
   "id": "fewer-occasion",
   "metadata": {
    "execution": {
     "iopub.execute_input": "2022-11-30T00:42:14.756757Z",
     "iopub.status.busy": "2022-11-30T00:42:14.756119Z",
     "iopub.status.idle": "2022-11-30T00:42:14.758609Z",
     "shell.execute_reply": "2022-11-30T00:42:14.758030Z"
    },
    "papermill": {
     "duration": 0.040065,
     "end_time": "2022-11-30T00:42:14.758727",
     "exception": false,
     "start_time": "2022-11-30T00:42:14.718662",
     "status": "completed"
    },
    "tags": []
   },
   "outputs": [],
   "source": [
    "#hide\n",
    "#delete problematic countries from table\n",
    "df_table = df_table[~df_table['Country/Region'].isin(['Cape Verde', 'Cruise Ship', 'Kosovo'])]"
   ]
  },
  {
   "cell_type": "code",
   "execution_count": 17,
   "id": "related-center",
   "metadata": {
    "execution": {
     "iopub.execute_input": "2022-11-30T00:42:14.834691Z",
     "iopub.status.busy": "2022-11-30T00:42:14.834042Z",
     "iopub.status.idle": "2022-11-30T00:42:14.842822Z",
     "shell.execute_reply": "2022-11-30T00:42:14.842302Z"
    },
    "papermill": {
     "duration": 0.053258,
     "end_time": "2022-11-30T00:42:14.842949",
     "exception": false,
     "start_time": "2022-11-30T00:42:14.789691",
     "status": "completed"
    },
    "tags": []
   },
   "outputs": [],
   "source": [
    "#hide\n",
    "metrics = [df_table.columns[index] for index in [1,2,5,6]]\n",
    "# s_china = df_table[df_table['Country/Region'].eq('China')][metrics].sum().add_prefix('China ')\n",
    "s_us = df_table[df_table['Country/Region'].eq('US')][metrics].sum().add_prefix('US ')\n",
    "s_eu = df_table[df_table['Continent'].eq('Europe')][metrics].sum().add_prefix('EU ')\n",
    "s_ind = df_table[df_table['Country/Region'].eq('India')][metrics].sum().add_prefix('India ')\n",
    "summary = {'updated': pd.to_datetime(dt_today), 'since': pd.to_datetime(dt_yday)}\n",
    "summary = {'updated': pd.to_datetime(dt_today), 'since': pd.to_datetime(dt_yday)}\n",
    "summary = {**summary, **df_table[metrics].sum(), **s_ind, **s_us, **s_eu}"
   ]
  },
  {
   "cell_type": "code",
   "execution_count": 18,
   "id": "engaging-syndrome",
   "metadata": {
    "execution": {
     "iopub.execute_input": "2022-11-30T00:42:14.911054Z",
     "iopub.status.busy": "2022-11-30T00:42:14.910419Z",
     "iopub.status.idle": "2022-11-30T00:42:14.934452Z",
     "shell.execute_reply": "2022-11-30T00:42:14.934939Z"
    },
    "papermill": {
     "duration": 0.06093,
     "end_time": "2022-11-30T00:42:14.935090",
     "exception": false,
     "start_time": "2022-11-30T00:42:14.874160",
     "status": "completed"
    },
    "tags": []
   },
   "outputs": [],
   "source": [
    "#hide\n",
    "dft_ct_new_cases = dft_cases.groupby(COL_REGION)[dt_cols].sum().diff(axis=1).fillna(0).astype(int)"
   ]
  },
  {
   "cell_type": "code",
   "execution_count": 19,
   "id": "neutral-assignment",
   "metadata": {
    "execution": {
     "iopub.execute_input": "2022-11-30T00:42:15.004776Z",
     "iopub.status.busy": "2022-11-30T00:42:15.004127Z",
     "iopub.status.idle": "2022-11-30T00:42:15.006549Z",
     "shell.execute_reply": "2022-11-30T00:42:15.005963Z"
    },
    "papermill": {
     "duration": 0.040243,
     "end_time": "2022-11-30T00:42:15.006672",
     "exception": false,
     "start_time": "2022-11-30T00:42:14.966429",
     "status": "completed"
    },
    "tags": []
   },
   "outputs": [],
   "source": [
    "#hide\n",
    "everydaycases = dft_ct_new_cases.cumsum(axis=1)"
   ]
  },
  {
   "cell_type": "code",
   "execution_count": 20,
   "id": "parliamentary-calgary",
   "metadata": {
    "execution": {
     "iopub.execute_input": "2022-11-30T00:42:15.074374Z",
     "iopub.status.busy": "2022-11-30T00:42:15.073747Z",
     "iopub.status.idle": "2022-11-30T00:42:15.628891Z",
     "shell.execute_reply": "2022-11-30T00:42:15.628384Z"
    },
    "papermill": {
     "duration": 0.591123,
     "end_time": "2022-11-30T00:42:15.629057",
     "exception": false,
     "start_time": "2022-11-30T00:42:15.037934",
     "status": "completed"
    },
    "tags": []
   },
   "outputs": [],
   "source": [
    "#hide\n",
    "import pandas as pd\n",
    "import matplotlib.pyplot as plt\n",
    "import matplotlib.ticker as ticker\n",
    "import matplotlib.animation as animation\n",
    "from IPython.display import HTML"
   ]
  },
  {
   "cell_type": "code",
   "execution_count": 21,
   "id": "lasting-extraction",
   "metadata": {
    "execution": {
     "iopub.execute_input": "2022-11-30T00:42:15.698821Z",
     "iopub.status.busy": "2022-11-30T00:42:15.698187Z",
     "iopub.status.idle": "2022-11-30T00:42:15.706634Z",
     "shell.execute_reply": "2022-11-30T00:42:15.706130Z"
    },
    "papermill": {
     "duration": 0.046734,
     "end_time": "2022-11-30T00:42:15.706755",
     "exception": false,
     "start_time": "2022-11-30T00:42:15.660021",
     "status": "completed"
    },
    "tags": []
   },
   "outputs": [],
   "source": [
    "#hide\n",
    "t = everydaycases.stack()"
   ]
  },
  {
   "cell_type": "code",
   "execution_count": 22,
   "id": "premier-sleeve",
   "metadata": {
    "execution": {
     "iopub.execute_input": "2022-11-30T00:42:15.774113Z",
     "iopub.status.busy": "2022-11-30T00:42:15.773512Z",
     "iopub.status.idle": "2022-11-30T00:42:15.786414Z",
     "shell.execute_reply": "2022-11-30T00:42:15.785918Z"
    },
    "papermill": {
     "duration": 0.048409,
     "end_time": "2022-11-30T00:42:15.786533",
     "exception": false,
     "start_time": "2022-11-30T00:42:15.738124",
     "status": "completed"
    },
    "tags": []
   },
   "outputs": [],
   "source": [
    "#hide\n",
    "g = t.reset_index(['Country/Region'])"
   ]
  },
  {
   "cell_type": "code",
   "execution_count": 23,
   "id": "distributed-pittsburgh",
   "metadata": {
    "execution": {
     "iopub.execute_input": "2022-11-30T00:42:15.853828Z",
     "iopub.status.busy": "2022-11-30T00:42:15.853207Z",
     "iopub.status.idle": "2022-11-30T00:42:15.855662Z",
     "shell.execute_reply": "2022-11-30T00:42:15.855185Z"
    },
    "papermill": {
     "duration": 0.038269,
     "end_time": "2022-11-30T00:42:15.855780",
     "exception": false,
     "start_time": "2022-11-30T00:42:15.817511",
     "status": "completed"
    },
    "tags": []
   },
   "outputs": [],
   "source": [
    "#hide\n",
    "g.index.name = 'date'"
   ]
  },
  {
   "cell_type": "code",
   "execution_count": 24,
   "id": "naked-donor",
   "metadata": {
    "execution": {
     "iopub.execute_input": "2022-11-30T00:42:15.922791Z",
     "iopub.status.busy": "2022-11-30T00:42:15.922025Z",
     "iopub.status.idle": "2022-11-30T00:42:15.923845Z",
     "shell.execute_reply": "2022-11-30T00:42:15.924351Z"
    },
    "papermill": {
     "duration": 0.03761,
     "end_time": "2022-11-30T00:42:15.924501",
     "exception": false,
     "start_time": "2022-11-30T00:42:15.886891",
     "status": "completed"
    },
    "tags": []
   },
   "outputs": [],
   "source": [
    "# #hide\n",
    "# g = g.reset_index(['date'])"
   ]
  },
  {
   "cell_type": "code",
   "execution_count": 25,
   "id": "incomplete-mustang",
   "metadata": {
    "execution": {
     "iopub.execute_input": "2022-11-30T00:42:15.990900Z",
     "iopub.status.busy": "2022-11-30T00:42:15.990190Z",
     "iopub.status.idle": "2022-11-30T00:42:15.994048Z",
     "shell.execute_reply": "2022-11-30T00:42:15.994571Z"
    },
    "papermill": {
     "duration": 0.039069,
     "end_time": "2022-11-30T00:42:15.994730",
     "exception": false,
     "start_time": "2022-11-30T00:42:15.955661",
     "status": "completed"
    },
    "tags": []
   },
   "outputs": [],
   "source": [
    "#hide\n",
    "# g.head()"
   ]
  },
  {
   "cell_type": "code",
   "execution_count": 26,
   "id": "specific-kruger",
   "metadata": {
    "execution": {
     "iopub.execute_input": "2022-11-30T00:42:16.062158Z",
     "iopub.status.busy": "2022-11-30T00:42:16.061419Z",
     "iopub.status.idle": "2022-11-30T00:42:16.063309Z",
     "shell.execute_reply": "2022-11-30T00:42:16.063825Z"
    },
    "papermill": {
     "duration": 0.037756,
     "end_time": "2022-11-30T00:42:16.063980",
     "exception": false,
     "start_time": "2022-11-30T00:42:16.026224",
     "status": "completed"
    },
    "tags": []
   },
   "outputs": [],
   "source": [
    "#hide\n",
    "# g.columns = ['date','country','cases']"
   ]
  },
  {
   "cell_type": "code",
   "execution_count": 27,
   "id": "tender-conversion",
   "metadata": {
    "execution": {
     "iopub.execute_input": "2022-11-30T00:42:16.131249Z",
     "iopub.status.busy": "2022-11-30T00:42:16.130529Z",
     "iopub.status.idle": "2022-11-30T00:42:16.134545Z",
     "shell.execute_reply": "2022-11-30T00:42:16.134993Z"
    },
    "papermill": {
     "duration": 0.039461,
     "end_time": "2022-11-30T00:42:16.135141",
     "exception": false,
     "start_time": "2022-11-30T00:42:16.095680",
     "status": "completed"
    },
    "tags": []
   },
   "outputs": [],
   "source": [
    "#hide\n",
    "# g['continent'] = g.country"
   ]
  },
  {
   "cell_type": "code",
   "execution_count": 28,
   "id": "substantial-wilderness",
   "metadata": {
    "execution": {
     "iopub.execute_input": "2022-11-30T00:42:16.202071Z",
     "iopub.status.busy": "2022-11-30T00:42:16.201358Z",
     "iopub.status.idle": "2022-11-30T00:42:16.203553Z",
     "shell.execute_reply": "2022-11-30T00:42:16.202976Z"
    },
    "papermill": {
     "duration": 0.037349,
     "end_time": "2022-11-30T00:42:16.203674",
     "exception": false,
     "start_time": "2022-11-30T00:42:16.166325",
     "status": "completed"
    },
    "tags": []
   },
   "outputs": [],
   "source": [
    "#hide\n",
    "# cols = list(g.columns.values)"
   ]
  },
  {
   "cell_type": "code",
   "execution_count": 29,
   "id": "solved-farming",
   "metadata": {
    "execution": {
     "iopub.execute_input": "2022-11-30T00:42:16.270273Z",
     "iopub.status.busy": "2022-11-30T00:42:16.269530Z",
     "iopub.status.idle": "2022-11-30T00:42:16.271969Z",
     "shell.execute_reply": "2022-11-30T00:42:16.271308Z"
    },
    "papermill": {
     "duration": 0.037327,
     "end_time": "2022-11-30T00:42:16.272103",
     "exception": false,
     "start_time": "2022-11-30T00:42:16.234776",
     "status": "completed"
    },
    "tags": []
   },
   "outputs": [],
   "source": [
    "#hide\n",
    "# cols.insert(0, cols.pop())"
   ]
  },
  {
   "cell_type": "code",
   "execution_count": 30,
   "id": "executed-adoption",
   "metadata": {
    "execution": {
     "iopub.execute_input": "2022-11-30T00:42:16.339318Z",
     "iopub.status.busy": "2022-11-30T00:42:16.338702Z",
     "iopub.status.idle": "2022-11-30T00:42:16.341442Z",
     "shell.execute_reply": "2022-11-30T00:42:16.340932Z"
    },
    "papermill": {
     "duration": 0.038013,
     "end_time": "2022-11-30T00:42:16.341558",
     "exception": false,
     "start_time": "2022-11-30T00:42:16.303545",
     "status": "completed"
    },
    "tags": []
   },
   "outputs": [],
   "source": [
    "#hide\n",
    "# g = g[cols]"
   ]
  },
  {
   "cell_type": "code",
   "execution_count": 31,
   "id": "subject-dublin",
   "metadata": {
    "execution": {
     "iopub.execute_input": "2022-11-30T00:42:16.408014Z",
     "iopub.status.busy": "2022-11-30T00:42:16.407375Z",
     "iopub.status.idle": "2022-11-30T00:42:16.411378Z",
     "shell.execute_reply": "2022-11-30T00:42:16.410857Z"
    },
    "papermill": {
     "duration": 0.038948,
     "end_time": "2022-11-30T00:42:16.411498",
     "exception": false,
     "start_time": "2022-11-30T00:42:16.372550",
     "status": "completed"
    },
    "tags": []
   },
   "outputs": [],
   "source": [
    "#hide\n",
    "# g['continent'] = g['continent'].map(mapping['map.continent'])"
   ]
  },
  {
   "cell_type": "code",
   "execution_count": 32,
   "id": "freelance-scout",
   "metadata": {
    "execution": {
     "iopub.execute_input": "2022-11-30T00:42:16.480285Z",
     "iopub.status.busy": "2022-11-30T00:42:16.479690Z",
     "iopub.status.idle": "2022-11-30T00:42:16.482317Z",
     "shell.execute_reply": "2022-11-30T00:42:16.481844Z"
    },
    "papermill": {
     "duration": 0.039103,
     "end_time": "2022-11-30T00:42:16.482432",
     "exception": false,
     "start_time": "2022-11-30T00:42:16.443329",
     "status": "completed"
    },
    "tags": []
   },
   "outputs": [],
   "source": [
    "#hide\n",
    "# g.head()"
   ]
  },
  {
   "cell_type": "code",
   "execution_count": 33,
   "id": "limited-engine",
   "metadata": {
    "execution": {
     "iopub.execute_input": "2022-11-30T00:42:16.549011Z",
     "iopub.status.busy": "2022-11-30T00:42:16.548253Z",
     "iopub.status.idle": "2022-11-30T00:42:16.550039Z",
     "shell.execute_reply": "2022-11-30T00:42:16.550517Z"
    },
    "papermill": {
     "duration": 0.037206,
     "end_time": "2022-11-30T00:42:16.550654",
     "exception": false,
     "start_time": "2022-11-30T00:42:16.513448",
     "status": "completed"
    },
    "tags": []
   },
   "outputs": [],
   "source": [
    "# hide\n",
    "# g['date'] = g['date'].astype('datetime64[ns]')"
   ]
  },
  {
   "cell_type": "code",
   "execution_count": 34,
   "id": "sophisticated-supervisor",
   "metadata": {
    "execution": {
     "iopub.execute_input": "2022-11-30T00:42:16.617834Z",
     "iopub.status.busy": "2022-11-30T00:42:16.617198Z",
     "iopub.status.idle": "2022-11-30T00:42:16.619405Z",
     "shell.execute_reply": "2022-11-30T00:42:16.619963Z"
    },
    "papermill": {
     "duration": 0.038085,
     "end_time": "2022-11-30T00:42:16.620104",
     "exception": false,
     "start_time": "2022-11-30T00:42:16.582019",
     "status": "completed"
    },
    "tags": []
   },
   "outputs": [],
   "source": [
    "#hide\n",
    "# g['date'] = g.date.dt.dayofyear"
   ]
  },
  {
   "cell_type": "code",
   "execution_count": 35,
   "id": "inside-dubai",
   "metadata": {
    "execution": {
     "iopub.execute_input": "2022-11-30T00:42:16.686696Z",
     "iopub.status.busy": "2022-11-30T00:42:16.685973Z",
     "iopub.status.idle": "2022-11-30T00:42:16.687858Z",
     "shell.execute_reply": "2022-11-30T00:42:16.688371Z"
    },
    "papermill": {
     "duration": 0.037416,
     "end_time": "2022-11-30T00:42:16.688524",
     "exception": false,
     "start_time": "2022-11-30T00:42:16.651108",
     "status": "completed"
    },
    "tags": []
   },
   "outputs": [],
   "source": [
    "#hide\n",
    "# g = g.rename(columns= {'continent':'group','country':'name','cases':'value'})"
   ]
  },
  {
   "cell_type": "code",
   "execution_count": 36,
   "id": "fleet-motorcycle",
   "metadata": {
    "execution": {
     "iopub.execute_input": "2022-11-30T00:42:16.754815Z",
     "iopub.status.busy": "2022-11-30T00:42:16.754219Z",
     "iopub.status.idle": "2022-11-30T00:42:16.757209Z",
     "shell.execute_reply": "2022-11-30T00:42:16.757689Z"
    },
    "papermill": {
     "duration": 0.037377,
     "end_time": "2022-11-30T00:42:16.757828",
     "exception": false,
     "start_time": "2022-11-30T00:42:16.720451",
     "status": "completed"
    },
    "tags": []
   },
   "outputs": [],
   "source": [
    "#hide\n",
    "# cols = ['name','group','day','value']"
   ]
  },
  {
   "cell_type": "code",
   "execution_count": 37,
   "id": "continued-sleeping",
   "metadata": {
    "execution": {
     "iopub.execute_input": "2022-11-30T00:42:16.824482Z",
     "iopub.status.busy": "2022-11-30T00:42:16.823857Z",
     "iopub.status.idle": "2022-11-30T00:42:16.826284Z",
     "shell.execute_reply": "2022-11-30T00:42:16.826739Z"
    },
    "papermill": {
     "duration": 0.038068,
     "end_time": "2022-11-30T00:42:16.826879",
     "exception": false,
     "start_time": "2022-11-30T00:42:16.788811",
     "status": "completed"
    },
    "tags": []
   },
   "outputs": [],
   "source": [
    "#hide\n",
    "# g.rename(columns= {'date':'day'},inplace = True)"
   ]
  },
  {
   "cell_type": "code",
   "execution_count": 38,
   "id": "major-fight",
   "metadata": {
    "execution": {
     "iopub.execute_input": "2022-11-30T00:42:16.894400Z",
     "iopub.status.busy": "2022-11-30T00:42:16.893647Z",
     "iopub.status.idle": "2022-11-30T00:42:16.895432Z",
     "shell.execute_reply": "2022-11-30T00:42:16.895944Z"
    },
    "papermill": {
     "duration": 0.037492,
     "end_time": "2022-11-30T00:42:16.896098",
     "exception": false,
     "start_time": "2022-11-30T00:42:16.858606",
     "status": "completed"
    },
    "tags": []
   },
   "outputs": [],
   "source": [
    "#hide\n",
    "# g = g[cols]"
   ]
  },
  {
   "cell_type": "code",
   "execution_count": 39,
   "id": "structured-mobile",
   "metadata": {
    "execution": {
     "iopub.execute_input": "2022-11-30T00:42:16.963236Z",
     "iopub.status.busy": "2022-11-30T00:42:16.962490Z",
     "iopub.status.idle": "2022-11-30T00:42:16.964338Z",
     "shell.execute_reply": "2022-11-30T00:42:16.964856Z"
    },
    "papermill": {
     "duration": 0.037464,
     "end_time": "2022-11-30T00:42:16.965040",
     "exception": false,
     "start_time": "2022-11-30T00:42:16.927576",
     "status": "completed"
    },
    "tags": []
   },
   "outputs": [],
   "source": [
    "# #hide\n",
    "# g = g[g.group.notna()]"
   ]
  },
  {
   "cell_type": "code",
   "execution_count": 40,
   "id": "determined-closing",
   "metadata": {
    "execution": {
     "iopub.execute_input": "2022-11-30T00:42:17.032568Z",
     "iopub.status.busy": "2022-11-30T00:42:17.031923Z",
     "iopub.status.idle": "2022-11-30T00:42:17.034354Z",
     "shell.execute_reply": "2022-11-30T00:42:17.033766Z"
    },
    "papermill": {
     "duration": 0.037491,
     "end_time": "2022-11-30T00:42:17.034475",
     "exception": false,
     "start_time": "2022-11-30T00:42:16.996984",
     "status": "completed"
    },
    "tags": []
   },
   "outputs": [],
   "source": [
    "# #hide\n",
    "# colors = dict(zip(\n",
    "#     [\"Oceania\", \"Europe\", \"Asia\", \"South America\", \"Middle East\", \"North America\", \"Africa\"],\n",
    "#     [\"#adb0ff\", \"#ffb3ff\", \"#90d595\", \"#e48381\", \"#aafbff\", \"#f7bb5f\", \"#eafb50\"]\n",
    "# ))\n",
    "# group_lk = g.set_index('name')['group'].to_dict()"
   ]
  },
  {
   "cell_type": "code",
   "execution_count": null,
   "id": "gross-drinking",
   "metadata": {
    "papermill": {
     "duration": 0.03089,
     "end_time": "2022-11-30T00:42:17.096462",
     "exception": false,
     "start_time": "2022-11-30T00:42:17.065572",
     "status": "completed"
    },
    "tags": []
   },
   "outputs": [],
   "source": []
  },
  {
   "cell_type": "code",
   "execution_count": 41,
   "id": "subject-macintosh",
   "metadata": {
    "execution": {
     "iopub.execute_input": "2022-11-30T00:42:17.164067Z",
     "iopub.status.busy": "2022-11-30T00:42:17.163319Z",
     "iopub.status.idle": "2022-11-30T00:42:17.167716Z",
     "shell.execute_reply": "2022-11-30T00:42:17.167237Z"
    },
    "papermill": {
     "duration": 0.040149,
     "end_time": "2022-11-30T00:42:17.167839",
     "exception": false,
     "start_time": "2022-11-30T00:42:17.127690",
     "status": "completed"
    },
    "tags": []
   },
   "outputs": [],
   "source": [
    "# #hide\n",
    "# fig, ax = plt.subplots(figsize=(15, 8))\n",
    "\n",
    "# def draw_barchart(current_day):\n",
    "#     dff = g[g['day'].eq(current_day)].sort_values(by='value', ascending=True).tail(10)\n",
    "#     ax.clear()\n",
    "#     ax.barh(dff['name'], dff['value'], color=[colors[group_lk[x]] for x in dff['name']])\n",
    "#     dx = dff['value'].max() / 200\n",
    "    \n",
    "#     for i, (value, name) in enumerate(zip(dff['value'], dff['name'])):\n",
    "#         ax.text(value-dx, i,     name,           size=14, weight=600, ha='right', va='bottom')\n",
    "#         ax.text(value-dx, i-.25, group_lk[name], size=10, color='#444444', ha='right', va='baseline')\n",
    "#         ax.text(value+dx, i,     f'{value:,.0f}',  size=14, ha='left',  va='center')\n",
    "#     ax.text(1, 0.4, current_day, transform=ax.transAxes, color='#777777', size=46, ha='right', weight=800)\n",
    "#     ax.text(0, 1.06, 'Population (thousands)', transform=ax.transAxes, size=12, color='#777777')\n",
    "#     ax.xaxis.set_major_formatter(ticker.StrMethodFormatter('{x:,.0f}'))\n",
    "#     ax.xaxis.set_ticks_position('top')\n",
    "#     ax.tick_params(axis='x', colors='#777777', labelsize=12)\n",
    "#     ax.set_yticks([])\n",
    "#     ax.margins(0, 0.01)\n",
    "#     ax.grid(which='major', axis='x', linestyle='-')\n",
    "#     ax.set_axisbelow(True)\n",
    "    \n",
    "#     ax.text(0, 1.15, 'Coronavirus',\n",
    "#             transform=ax.transAxes, size=24, weight=600, ha='left', va='top')\n",
    "# #     ax.text(1, 0, 'by @pratapvardhan; credit @jburnmurdoch', transform=ax.transAxes, color='#777777', ha='right',\n",
    "# #             bbox=dict(facecolor='white', alpha=0.8, edgecolor='white'))\n",
    "#     plt.box(False)"
   ]
  },
  {
   "cell_type": "code",
   "execution_count": 42,
   "id": "sexual-wages",
   "metadata": {
    "execution": {
     "iopub.execute_input": "2022-11-30T00:42:17.234350Z",
     "iopub.status.busy": "2022-11-30T00:42:17.233614Z",
     "iopub.status.idle": "2022-11-30T00:42:17.235977Z",
     "shell.execute_reply": "2022-11-30T00:42:17.235312Z"
    },
    "papermill": {
     "duration": 0.037195,
     "end_time": "2022-11-30T00:42:17.236097",
     "exception": false,
     "start_time": "2022-11-30T00:42:17.198902",
     "status": "completed"
    },
    "tags": []
   },
   "outputs": [],
   "source": [
    "# #hide_input\n",
    "# fig, ax = plt.subplots(figsize=(15, 8))\n",
    "# animator = animation.FuncAnimation(fig, draw_barchart, frames=range(g.day.values.min(), g.day.values.max()))\n",
    "# HTML(animator.to_jshtml())\n",
    "# # or use animator.to_html5_video() or animator.save() "
   ]
  },
  {
   "cell_type": "code",
   "execution_count": null,
   "id": "australian-container",
   "metadata": {
    "papermill": {
     "duration": 0.031327,
     "end_time": "2022-11-30T00:42:17.298697",
     "exception": false,
     "start_time": "2022-11-30T00:42:17.267370",
     "status": "completed"
    },
    "tags": []
   },
   "outputs": [],
   "source": []
  },
  {
   "cell_type": "code",
   "execution_count": null,
   "id": "mediterranean-pontiac",
   "metadata": {
    "papermill": {
     "duration": 0.030878,
     "end_time": "2022-11-30T00:42:17.360529",
     "exception": false,
     "start_time": "2022-11-30T00:42:17.329651",
     "status": "completed"
    },
    "tags": []
   },
   "outputs": [],
   "source": []
  },
  {
   "cell_type": "code",
   "execution_count": null,
   "id": "aging-legislature",
   "metadata": {
    "papermill": {
     "duration": 0.031478,
     "end_time": "2022-11-30T00:42:17.423155",
     "exception": false,
     "start_time": "2022-11-30T00:42:17.391677",
     "status": "completed"
    },
    "tags": []
   },
   "outputs": [],
   "source": []
  }
 ],
 "metadata": {
  "kernelspec": {
   "display_name": "Python 3",
   "language": "python",
   "name": "python3"
  },
  "language_info": {
   "codemirror_mode": {
    "name": "ipython",
    "version": 3
   },
   "file_extension": ".py",
   "mimetype": "text/x-python",
   "name": "python",
   "nbconvert_exporter": "python",
   "pygments_lexer": "ipython3",
   "version": "3.6.15"
  },
  "papermill": {
   "duration": 6.359089,
   "end_time": "2022-11-30T00:42:17.873594",
   "environment_variables": {},
   "exception": null,
   "input_path": "2020-03-21-covid19exp.ipynb",
   "output_path": "2020-03-21-covid19exp.ipynb",
   "parameters": {},
   "start_time": "2022-11-30T00:42:11.514505",
   "version": "2.0.0"
  }
 },
 "nbformat": 4,
 "nbformat_minor": 5
}