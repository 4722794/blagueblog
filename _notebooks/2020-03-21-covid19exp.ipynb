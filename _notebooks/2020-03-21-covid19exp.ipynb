{
 "cells": [
  {
   "cell_type": "markdown",
   "id": "muslim-click",
   "metadata": {
    "papermill": {
     "duration": 0.040116,
     "end_time": "2022-03-05T00:33:47.189749",
     "exception": false,
     "start_time": "2022-03-05T00:33:47.149633",
     "status": "completed"
    },
    "tags": []
   },
   "source": [
    "# COVID-19 Case Race\n",
    "> A race chart to see rising cases around the world\n",
    "\n",
    "- author: Hargun Oberoi\n",
    "- image: images/covid-overview.png\n",
    "- hide: false\n",
    "- badges: false"
   ]
  },
  {
   "cell_type": "code",
   "execution_count": 1,
   "id": "proof-material",
   "metadata": {
    "execution": {
     "iopub.execute_input": "2022-03-05T00:33:47.280697Z",
     "iopub.status.busy": "2022-03-05T00:33:47.279887Z",
     "iopub.status.idle": "2022-03-05T00:33:47.711331Z",
     "shell.execute_reply": "2022-03-05T00:33:47.710334Z"
    },
    "papermill": {
     "duration": 0.482302,
     "end_time": "2022-03-05T00:33:47.711499",
     "exception": false,
     "start_time": "2022-03-05T00:33:47.229197",
     "status": "completed"
    },
    "tags": []
   },
   "outputs": [],
   "source": [
    "#hide\n",
    "import numpy as np\n",
    "import pandas as pd\n",
    "from jinja2 import Template\n",
    "from IPython.display import HTML"
   ]
  },
  {
   "cell_type": "code",
   "execution_count": 2,
   "id": "developed-terminology",
   "metadata": {
    "execution": {
     "iopub.execute_input": "2022-03-05T00:33:47.797524Z",
     "iopub.status.busy": "2022-03-05T00:33:47.796841Z",
     "iopub.status.idle": "2022-03-05T00:33:47.799302Z",
     "shell.execute_reply": "2022-03-05T00:33:47.798680Z"
    },
    "papermill": {
     "duration": 0.04495,
     "end_time": "2022-03-05T00:33:47.799422",
     "exception": false,
     "start_time": "2022-03-05T00:33:47.754472",
     "status": "completed"
    },
    "tags": []
   },
   "outputs": [],
   "source": [
    "#hide\n",
    "\n",
    "# FETCH\n",
    "base_url = 'https://raw.githubusercontent.com/pratapvardhan/notebooks/master/covid19/'\n",
    "paths = {\n",
    "    'mapping': base_url + 'mapping_countries.csv',\n",
    "    'overview': base_url + 'overview.tpl'\n",
    "}"
   ]
  },
  {
   "cell_type": "code",
   "execution_count": 3,
   "id": "dynamic-saver",
   "metadata": {
    "execution": {
     "iopub.execute_input": "2022-03-05T00:33:47.888515Z",
     "iopub.status.busy": "2022-03-05T00:33:47.887861Z",
     "iopub.status.idle": "2022-03-05T00:33:47.891087Z",
     "shell.execute_reply": "2022-03-05T00:33:47.891659Z"
    },
    "papermill": {
     "duration": 0.055143,
     "end_time": "2022-03-05T00:33:47.891863",
     "exception": false,
     "start_time": "2022-03-05T00:33:47.836720",
     "status": "completed"
    },
    "tags": []
   },
   "outputs": [
    {
     "data": {
      "text/plain": [
       "'https://raw.githubusercontent.com/pratapvardhan/notebooks/master/covid19/mapping_countries.csv'"
      ]
     },
     "execution_count": 3,
     "metadata": {},
     "output_type": "execute_result"
    }
   ],
   "source": [
    "#hide\n",
    "paths['mapping']"
   ]
  },
  {
   "cell_type": "code",
   "execution_count": 4,
   "id": "urban-software",
   "metadata": {
    "execution": {
     "iopub.execute_input": "2022-03-05T00:33:47.971728Z",
     "iopub.status.busy": "2022-03-05T00:33:47.971095Z",
     "iopub.status.idle": "2022-03-05T00:33:47.973978Z",
     "shell.execute_reply": "2022-03-05T00:33:47.972900Z"
    },
    "papermill": {
     "duration": 0.04557,
     "end_time": "2022-03-05T00:33:47.974203",
     "exception": false,
     "start_time": "2022-03-05T00:33:47.928633",
     "status": "completed"
    },
    "tags": []
   },
   "outputs": [],
   "source": [
    "#hide\n",
    "def get_mappings(url):\n",
    "    df = pd.read_csv(url)\n",
    "    return {\n",
    "        'df': df,\n",
    "        'replace.country': dict(df.dropna(subset=['Name']).set_index('Country')['Name']),\n",
    "        'map.continent': dict(df.set_index('Name')['Continent'])\n",
    "    }"
   ]
  },
  {
   "cell_type": "code",
   "execution_count": 5,
   "id": "intimate-machinery",
   "metadata": {
    "execution": {
     "iopub.execute_input": "2022-03-05T00:33:48.066393Z",
     "iopub.status.busy": "2022-03-05T00:33:48.065734Z",
     "iopub.status.idle": "2022-03-05T00:33:48.095135Z",
     "shell.execute_reply": "2022-03-05T00:33:48.095887Z"
    },
    "papermill": {
     "duration": 0.077402,
     "end_time": "2022-03-05T00:33:48.096041",
     "exception": false,
     "start_time": "2022-03-05T00:33:48.018639",
     "status": "completed"
    },
    "tags": []
   },
   "outputs": [],
   "source": [
    "#hide\n",
    "mapping = get_mappings(paths['mapping'])"
   ]
  },
  {
   "cell_type": "code",
   "execution_count": 6,
   "id": "certified-tactics",
   "metadata": {
    "execution": {
     "iopub.execute_input": "2022-03-05T00:33:48.181178Z",
     "iopub.status.busy": "2022-03-05T00:33:48.180539Z",
     "iopub.status.idle": "2022-03-05T00:33:48.184341Z",
     "shell.execute_reply": "2022-03-05T00:33:48.184817Z"
    },
    "papermill": {
     "duration": 0.049705,
     "end_time": "2022-03-05T00:33:48.184961",
     "exception": false,
     "start_time": "2022-03-05T00:33:48.135256",
     "status": "completed"
    },
    "tags": []
   },
   "outputs": [],
   "source": [
    "#hide\n",
    "def get_template(path):\n",
    "    from urllib.parse import urlparse\n",
    "    if bool(urlparse(path).netloc):\n",
    "        from urllib.request import urlopen\n",
    "        return urlopen(path).read().decode('utf8')\n",
    "    return open(path).read()"
   ]
  },
  {
   "cell_type": "code",
   "execution_count": 7,
   "id": "realistic-blast",
   "metadata": {
    "execution": {
     "iopub.execute_input": "2022-03-05T00:33:48.270658Z",
     "iopub.status.busy": "2022-03-05T00:33:48.269754Z",
     "iopub.status.idle": "2022-03-05T00:33:48.271644Z",
     "shell.execute_reply": "2022-03-05T00:33:48.272237Z"
    },
    "papermill": {
     "duration": 0.050321,
     "end_time": "2022-03-05T00:33:48.272415",
     "exception": false,
     "start_time": "2022-03-05T00:33:48.222094",
     "status": "completed"
    },
    "tags": []
   },
   "outputs": [],
   "source": [
    "#hide\n",
    "def get_frame(name):\n",
    "    url = (\n",
    "        'https://raw.githubusercontent.com/CSSEGISandData/COVID-19/master/csse_covid_19_data/'\n",
    "        f'csse_covid_19_time_series/time_series_covid19_{name}_global.csv')\n",
    "    df = pd.read_csv(url)\n",
    "    # rename countries\n",
    "    df['Country/Region'] = df['Country/Region'].replace(mapping['replace.country'])\n",
    "    return df"
   ]
  },
  {
   "cell_type": "code",
   "execution_count": 8,
   "id": "affiliated-characterization",
   "metadata": {
    "execution": {
     "iopub.execute_input": "2022-03-05T00:33:48.366059Z",
     "iopub.status.busy": "2022-03-05T00:33:48.365449Z",
     "iopub.status.idle": "2022-03-05T00:33:48.367769Z",
     "shell.execute_reply": "2022-03-05T00:33:48.367303Z"
    },
    "papermill": {
     "duration": 0.055122,
     "end_time": "2022-03-05T00:33:48.367889",
     "exception": false,
     "start_time": "2022-03-05T00:33:48.312767",
     "status": "completed"
    },
    "tags": []
   },
   "outputs": [],
   "source": [
    "#hide\n",
    "def get_dates(df):\n",
    "    dt_cols = df.columns[~df.columns.isin(['Province/State', 'Country/Region', 'Lat', 'Long'])]\n",
    "    LAST_DATE_I = -1\n",
    "    # sometimes last column may be empty, then go backwards\n",
    "    for i in range(-1, -len(dt_cols), -1):\n",
    "        if not df[dt_cols[i]].fillna(0).eq(0).all():\n",
    "            LAST_DATE_I = i\n",
    "            break\n",
    "    return LAST_DATE_I, dt_cols"
   ]
  },
  {
   "cell_type": "code",
   "execution_count": 9,
   "id": "recent-optimization",
   "metadata": {
    "execution": {
     "iopub.execute_input": "2022-03-05T00:33:48.444860Z",
     "iopub.status.busy": "2022-03-05T00:33:48.444144Z",
     "iopub.status.idle": "2022-03-05T00:33:48.846958Z",
     "shell.execute_reply": "2022-03-05T00:33:48.846141Z"
    },
    "papermill": {
     "duration": 0.443067,
     "end_time": "2022-03-05T00:33:48.847155",
     "exception": false,
     "start_time": "2022-03-05T00:33:48.404088",
     "status": "completed"
    },
    "tags": []
   },
   "outputs": [],
   "source": [
    "#hide\n",
    "COL_REGION = 'Country/Region'\n",
    "# Confirmed, Recovered, Deaths\n",
    "df = get_frame('confirmed')\n",
    "# dft_: timeseries, dfc_: today country agg\n",
    "dft_cases = df\n",
    "dft_deaths = get_frame('deaths')\n",
    "dft_recovered = get_frame('recovered')\n",
    "LAST_DATE_I, dt_cols = get_dates(df)"
   ]
  },
  {
   "cell_type": "code",
   "execution_count": 10,
   "id": "absolute-copper",
   "metadata": {
    "execution": {
     "iopub.execute_input": "2022-03-05T00:33:48.929687Z",
     "iopub.status.busy": "2022-03-05T00:33:48.928971Z",
     "iopub.status.idle": "2022-03-05T00:33:48.932922Z",
     "shell.execute_reply": "2022-03-05T00:33:48.932271Z"
    },
    "papermill": {
     "duration": 0.046892,
     "end_time": "2022-03-05T00:33:48.933039",
     "exception": false,
     "start_time": "2022-03-05T00:33:48.886147",
     "status": "completed"
    },
    "tags": []
   },
   "outputs": [],
   "source": [
    "#hide\n",
    "LAST_DATE_I, dt_cols = get_dates(df)\n",
    "dt_today =dt_cols[LAST_DATE_I]\n",
    "# dt_5day = dt_cols[LAST_DATE_I - 5]\n",
    "dt_yday = dt_cols[LAST_DATE_I - 1]"
   ]
  },
  {
   "cell_type": "code",
   "execution_count": 11,
   "id": "restricted-sheriff",
   "metadata": {
    "execution": {
     "iopub.execute_input": "2022-03-05T00:33:49.013476Z",
     "iopub.status.busy": "2022-03-05T00:33:49.012853Z",
     "iopub.status.idle": "2022-03-05T00:33:49.023223Z",
     "shell.execute_reply": "2022-03-05T00:33:49.022688Z"
    },
    "papermill": {
     "duration": 0.05355,
     "end_time": "2022-03-05T00:33:49.023341",
     "exception": false,
     "start_time": "2022-03-05T00:33:48.969791",
     "status": "completed"
    },
    "tags": []
   },
   "outputs": [],
   "source": [
    "#hide\n",
    "dfc_cases = dft_cases.groupby(COL_REGION)[dt_today].sum()\n",
    "dfc_deaths = dft_deaths.groupby(COL_REGION)[dt_today].sum()\n",
    "# dfp_cases = dft_cases.groupby(COL_REGION)[dt_5day].sum()\n",
    "# dfp_deaths = dft_deaths.groupby(COL_REGION)[dt_5day].sum()\n",
    "dfp_cases = dft_cases.groupby(COL_REGION)[dt_yday].sum()\n",
    "dfp_deaths = dft_deaths.groupby(COL_REGION)[dt_yday].sum()"
   ]
  },
  {
   "cell_type": "code",
   "execution_count": 12,
   "id": "deluxe-hepatitis",
   "metadata": {
    "execution": {
     "iopub.execute_input": "2022-03-05T00:33:49.109598Z",
     "iopub.status.busy": "2022-03-05T00:33:49.108930Z",
     "iopub.status.idle": "2022-03-05T00:33:49.114006Z",
     "shell.execute_reply": "2022-03-05T00:33:49.114557Z"
    },
    "papermill": {
     "duration": 0.052683,
     "end_time": "2022-03-05T00:33:49.114695",
     "exception": false,
     "start_time": "2022-03-05T00:33:49.062012",
     "status": "completed"
    },
    "tags": []
   },
   "outputs": [],
   "source": [
    "#hide\n",
    "df_table = (pd.DataFrame(dict(Cases = dfc_cases, Deaths = dfc_deaths, PCases = dfp_cases, PDeaths = dfp_deaths))\n",
    "            .sort_values(by = ['Cases','Deaths'], ascending = [False, False])\n",
    "            .reset_index())"
   ]
  },
  {
   "cell_type": "code",
   "execution_count": 13,
   "id": "educational-chancellor",
   "metadata": {
    "execution": {
     "iopub.execute_input": "2022-03-05T00:33:49.224785Z",
     "iopub.status.busy": "2022-03-05T00:33:49.224138Z",
     "iopub.status.idle": "2022-03-05T00:33:49.234089Z",
     "shell.execute_reply": "2022-03-05T00:33:49.233489Z"
    },
    "papermill": {
     "duration": 0.078019,
     "end_time": "2022-03-05T00:33:49.234258",
     "exception": false,
     "start_time": "2022-03-05T00:33:49.156239",
     "status": "completed"
    },
    "tags": []
   },
   "outputs": [
    {
     "data": {
      "text/html": [
       "<div>\n",
       "<style scoped>\n",
       "    .dataframe tbody tr th:only-of-type {\n",
       "        vertical-align: middle;\n",
       "    }\n",
       "\n",
       "    .dataframe tbody tr th {\n",
       "        vertical-align: top;\n",
       "    }\n",
       "\n",
       "    .dataframe thead th {\n",
       "        text-align: right;\n",
       "    }\n",
       "</style>\n",
       "<table border=\"1\" class=\"dataframe\">\n",
       "  <thead>\n",
       "    <tr style=\"text-align: right;\">\n",
       "      <th></th>\n",
       "      <th>Country/Region</th>\n",
       "      <th>Cases</th>\n",
       "      <th>Deaths</th>\n",
       "      <th>PCases</th>\n",
       "      <th>PDeaths</th>\n",
       "      <th>Cases (+)</th>\n",
       "      <th>Deaths (+)</th>\n",
       "      <th>Fatality Rate</th>\n",
       "      <th>Continent</th>\n",
       "    </tr>\n",
       "  </thead>\n",
       "  <tbody>\n",
       "    <tr>\n",
       "      <th>0</th>\n",
       "      <td>US</td>\n",
       "      <td>79196008</td>\n",
       "      <td>956261</td>\n",
       "      <td>79143716</td>\n",
       "      <td>954518</td>\n",
       "      <td>52292</td>\n",
       "      <td>1743</td>\n",
       "      <td>1.21</td>\n",
       "      <td>North America</td>\n",
       "    </tr>\n",
       "    <tr>\n",
       "      <th>1</th>\n",
       "      <td>India</td>\n",
       "      <td>42951556</td>\n",
       "      <td>514589</td>\n",
       "      <td>42945160</td>\n",
       "      <td>514388</td>\n",
       "      <td>6396</td>\n",
       "      <td>201</td>\n",
       "      <td>1.20</td>\n",
       "      <td>Asia</td>\n",
       "    </tr>\n",
       "    <tr>\n",
       "      <th>2</th>\n",
       "      <td>Brazil</td>\n",
       "      <td>28906672</td>\n",
       "      <td>650824</td>\n",
       "      <td>28846495</td>\n",
       "      <td>650254</td>\n",
       "      <td>60177</td>\n",
       "      <td>570</td>\n",
       "      <td>2.25</td>\n",
       "      <td>South America</td>\n",
       "    </tr>\n",
       "    <tr>\n",
       "      <th>3</th>\n",
       "      <td>France</td>\n",
       "      <td>23079453</td>\n",
       "      <td>139962</td>\n",
       "      <td>23017711</td>\n",
       "      <td>139781</td>\n",
       "      <td>61742</td>\n",
       "      <td>181</td>\n",
       "      <td>0.61</td>\n",
       "      <td>Europe</td>\n",
       "    </tr>\n",
       "    <tr>\n",
       "      <th>4</th>\n",
       "      <td>United Kingdom</td>\n",
       "      <td>19211944</td>\n",
       "      <td>162472</td>\n",
       "      <td>19166049</td>\n",
       "      <td>162278</td>\n",
       "      <td>45895</td>\n",
       "      <td>194</td>\n",
       "      <td>0.85</td>\n",
       "      <td>Europe</td>\n",
       "    </tr>\n",
       "  </tbody>\n",
       "</table>\n",
       "</div>"
      ],
      "text/plain": [
       "   Country/Region     Cases  Deaths    PCases  PDeaths  Cases (+)  Deaths (+)  \\\n",
       "0              US  79196008  956261  79143716   954518      52292        1743   \n",
       "1           India  42951556  514589  42945160   514388       6396         201   \n",
       "2          Brazil  28906672  650824  28846495   650254      60177         570   \n",
       "3          France  23079453  139962  23017711   139781      61742         181   \n",
       "4  United Kingdom  19211944  162472  19166049   162278      45895         194   \n",
       "\n",
       "   Fatality Rate      Continent  \n",
       "0           1.21  North America  \n",
       "1           1.20           Asia  \n",
       "2           2.25  South America  \n",
       "3           0.61         Europe  \n",
       "4           0.85         Europe  "
      ]
     },
     "execution_count": 13,
     "metadata": {},
     "output_type": "execute_result"
    }
   ],
   "source": [
    "#hide\n",
    "for c in 'Cases, Deaths'.split(', '):\n",
    "    df_table[f'{c} (+)'] = (df_table[c] - df_table[f'P{c}']).clip(0)\n",
    "    #Clip ça veut dire, les chiffres negatif sont interdit\n",
    "df_table['Fatality Rate'] = (100* df_table['Deaths']/ df_table['Cases']).round(2)\n",
    "df_table['Continent'] = df_table['Country/Region'].map(mapping['map.continent'])\n",
    "df_table.head(5)"
   ]
  },
  {
   "cell_type": "code",
   "execution_count": 14,
   "id": "aboriginal-bulgaria",
   "metadata": {
    "execution": {
     "iopub.execute_input": "2022-03-05T00:33:49.319195Z",
     "iopub.status.busy": "2022-03-05T00:33:49.318444Z",
     "iopub.status.idle": "2022-03-05T00:33:49.320943Z",
     "shell.execute_reply": "2022-03-05T00:33:49.320322Z"
    },
    "papermill": {
     "duration": 0.045995,
     "end_time": "2022-03-05T00:33:49.321067",
     "exception": false,
     "start_time": "2022-03-05T00:33:49.275072",
     "status": "completed"
    },
    "tags": []
   },
   "outputs": [],
   "source": [
    "#hide\n",
    "#delete problematic countries from table\n",
    "df_table = df_table[~df_table['Country/Region'].isin(['Cape Verde', 'Cruise Ship', 'Kosovo'])]"
   ]
  },
  {
   "cell_type": "code",
   "execution_count": 15,
   "id": "fantastic-effect",
   "metadata": {
    "execution": {
     "iopub.execute_input": "2022-03-05T00:33:49.443024Z",
     "iopub.status.busy": "2022-03-05T00:33:49.420820Z",
     "iopub.status.idle": "2022-03-05T00:33:49.450312Z",
     "shell.execute_reply": "2022-03-05T00:33:49.450844Z"
    },
    "papermill": {
     "duration": 0.090574,
     "end_time": "2022-03-05T00:33:49.450998",
     "exception": false,
     "start_time": "2022-03-05T00:33:49.360424",
     "status": "completed"
    },
    "tags": []
   },
   "outputs": [
    {
     "data": {
      "text/html": [
       "<div>\n",
       "<style scoped>\n",
       "    .dataframe tbody tr th:only-of-type {\n",
       "        vertical-align: middle;\n",
       "    }\n",
       "\n",
       "    .dataframe tbody tr th {\n",
       "        vertical-align: top;\n",
       "    }\n",
       "\n",
       "    .dataframe thead th {\n",
       "        text-align: right;\n",
       "    }\n",
       "</style>\n",
       "<table border=\"1\" class=\"dataframe\">\n",
       "  <thead>\n",
       "    <tr style=\"text-align: right;\">\n",
       "      <th></th>\n",
       "      <th>Country/Region</th>\n",
       "      <th>Cases</th>\n",
       "      <th>Deaths</th>\n",
       "      <th>PCases</th>\n",
       "      <th>PDeaths</th>\n",
       "      <th>Cases (+)</th>\n",
       "      <th>Deaths (+)</th>\n",
       "      <th>Fatality Rate</th>\n",
       "      <th>Continent</th>\n",
       "    </tr>\n",
       "  </thead>\n",
       "  <tbody>\n",
       "    <tr>\n",
       "      <th>0</th>\n",
       "      <td>US</td>\n",
       "      <td>79196008</td>\n",
       "      <td>956261</td>\n",
       "      <td>79143716</td>\n",
       "      <td>954518</td>\n",
       "      <td>52292</td>\n",
       "      <td>1743</td>\n",
       "      <td>1.2</td>\n",
       "      <td>North America</td>\n",
       "    </tr>\n",
       "    <tr>\n",
       "      <th>1</th>\n",
       "      <td>India</td>\n",
       "      <td>42951556</td>\n",
       "      <td>514589</td>\n",
       "      <td>42945160</td>\n",
       "      <td>514388</td>\n",
       "      <td>6396</td>\n",
       "      <td>201</td>\n",
       "      <td>1.2</td>\n",
       "      <td>Asia</td>\n",
       "    </tr>\n",
       "    <tr>\n",
       "      <th>2</th>\n",
       "      <td>Brazil</td>\n",
       "      <td>28906672</td>\n",
       "      <td>650824</td>\n",
       "      <td>28846495</td>\n",
       "      <td>650254</td>\n",
       "      <td>60177</td>\n",
       "      <td>570</td>\n",
       "      <td>2.3</td>\n",
       "      <td>South America</td>\n",
       "    </tr>\n",
       "    <tr>\n",
       "      <th>3</th>\n",
       "      <td>France</td>\n",
       "      <td>23079453</td>\n",
       "      <td>139962</td>\n",
       "      <td>23017711</td>\n",
       "      <td>139781</td>\n",
       "      <td>61742</td>\n",
       "      <td>181</td>\n",
       "      <td>0.6</td>\n",
       "      <td>Europe</td>\n",
       "    </tr>\n",
       "    <tr>\n",
       "      <th>4</th>\n",
       "      <td>United Kingdom</td>\n",
       "      <td>19211944</td>\n",
       "      <td>162472</td>\n",
       "      <td>19166049</td>\n",
       "      <td>162278</td>\n",
       "      <td>45895</td>\n",
       "      <td>194</td>\n",
       "      <td>0.8</td>\n",
       "      <td>Europe</td>\n",
       "    </tr>\n",
       "  </tbody>\n",
       "</table>\n",
       "</div>"
      ],
      "text/plain": [
       "   Country/Region     Cases  Deaths    PCases  PDeaths  Cases (+)  Deaths (+)  \\\n",
       "0              US  79196008  956261  79143716   954518      52292        1743   \n",
       "1           India  42951556  514589  42945160   514388       6396         201   \n",
       "2          Brazil  28906672  650824  28846495   650254      60177         570   \n",
       "3          France  23079453  139962  23017711   139781      61742         181   \n",
       "4  United Kingdom  19211944  162472  19166049   162278      45895         194   \n",
       "\n",
       "   Fatality Rate      Continent  \n",
       "0            1.2  North America  \n",
       "1            1.2           Asia  \n",
       "2            2.3  South America  \n",
       "3            0.6         Europe  \n",
       "4            0.8         Europe  "
      ]
     },
     "execution_count": 15,
     "metadata": {},
     "output_type": "execute_result"
    }
   ],
   "source": [
    "#hide\n",
    "df_table = (pd.DataFrame(dict(Cases=dfc_cases, Deaths=dfc_deaths, PCases=dfp_cases, PDeaths=dfp_deaths))\n",
    "             .sort_values(by=['Cases', 'Deaths'], ascending=[False, False])\n",
    "             .reset_index())\n",
    "df_table.rename(columns={'index': 'Country/Region'}, inplace=True)\n",
    "for c in 'Cases, Deaths'.split(', '):\n",
    "    df_table[f'{c} (+)'] = (df_table[c] - df_table[f'P{c}']).clip(0)  # DATA BUG\n",
    "df_table['Fatality Rate'] = (100 * df_table['Deaths'] / df_table['Cases']).round(1)\n",
    "df_table['Continent'] = df_table['Country/Region'].map(mapping['map.continent'])\n",
    "df_table.head(5)"
   ]
  },
  {
   "cell_type": "code",
   "execution_count": 16,
   "id": "fewer-occasion",
   "metadata": {
    "execution": {
     "iopub.execute_input": "2022-03-05T00:33:49.540368Z",
     "iopub.status.busy": "2022-03-05T00:33:49.539699Z",
     "iopub.status.idle": "2022-03-05T00:33:49.542763Z",
     "shell.execute_reply": "2022-03-05T00:33:49.543369Z"
    },
    "papermill": {
     "duration": 0.049724,
     "end_time": "2022-03-05T00:33:49.543511",
     "exception": false,
     "start_time": "2022-03-05T00:33:49.493787",
     "status": "completed"
    },
    "tags": []
   },
   "outputs": [],
   "source": [
    "#hide\n",
    "#delete problematic countries from table\n",
    "df_table = df_table[~df_table['Country/Region'].isin(['Cape Verde', 'Cruise Ship', 'Kosovo'])]"
   ]
  },
  {
   "cell_type": "code",
   "execution_count": 17,
   "id": "related-center",
   "metadata": {
    "execution": {
     "iopub.execute_input": "2022-03-05T00:33:49.631371Z",
     "iopub.status.busy": "2022-03-05T00:33:49.630647Z",
     "iopub.status.idle": "2022-03-05T00:33:49.647411Z",
     "shell.execute_reply": "2022-03-05T00:33:49.648120Z"
    },
    "papermill": {
     "duration": 0.06469,
     "end_time": "2022-03-05T00:33:49.648271",
     "exception": false,
     "start_time": "2022-03-05T00:33:49.583581",
     "status": "completed"
    },
    "tags": []
   },
   "outputs": [],
   "source": [
    "#hide\n",
    "metrics = [df_table.columns[index] for index in [1,2,5,6]]\n",
    "# s_china = df_table[df_table['Country/Region'].eq('China')][metrics].sum().add_prefix('China ')\n",
    "s_us = df_table[df_table['Country/Region'].eq('US')][metrics].sum().add_prefix('US ')\n",
    "s_eu = df_table[df_table['Continent'].eq('Europe')][metrics].sum().add_prefix('EU ')\n",
    "s_ind = df_table[df_table['Country/Region'].eq('India')][metrics].sum().add_prefix('India ')\n",
    "summary = {'updated': pd.to_datetime(dt_today), 'since': pd.to_datetime(dt_yday)}\n",
    "summary = {'updated': pd.to_datetime(dt_today), 'since': pd.to_datetime(dt_yday)}\n",
    "summary = {**summary, **df_table[metrics].sum(), **s_ind, **s_us, **s_eu}"
   ]
  },
  {
   "cell_type": "code",
   "execution_count": 18,
   "id": "engaging-syndrome",
   "metadata": {
    "execution": {
     "iopub.execute_input": "2022-03-05T00:33:49.754241Z",
     "iopub.status.busy": "2022-03-05T00:33:49.753565Z",
     "iopub.status.idle": "2022-03-05T00:33:49.778301Z",
     "shell.execute_reply": "2022-03-05T00:33:49.779131Z"
    },
    "papermill": {
     "duration": 0.085559,
     "end_time": "2022-03-05T00:33:49.779418",
     "exception": false,
     "start_time": "2022-03-05T00:33:49.693859",
     "status": "completed"
    },
    "tags": []
   },
   "outputs": [],
   "source": [
    "#hide\n",
    "dft_ct_new_cases = dft_cases.groupby(COL_REGION)[dt_cols].sum().diff(axis=1).fillna(0).astype(int)"
   ]
  },
  {
   "cell_type": "code",
   "execution_count": 19,
   "id": "neutral-assignment",
   "metadata": {
    "execution": {
     "iopub.execute_input": "2022-03-05T00:33:49.879203Z",
     "iopub.status.busy": "2022-03-05T00:33:49.878501Z",
     "iopub.status.idle": "2022-03-05T00:33:49.881175Z",
     "shell.execute_reply": "2022-03-05T00:33:49.880453Z"
    },
    "papermill": {
     "duration": 0.055011,
     "end_time": "2022-03-05T00:33:49.881331",
     "exception": false,
     "start_time": "2022-03-05T00:33:49.826320",
     "status": "completed"
    },
    "tags": []
   },
   "outputs": [],
   "source": [
    "#hide\n",
    "everydaycases = dft_ct_new_cases.cumsum(axis=1)"
   ]
  },
  {
   "cell_type": "code",
   "execution_count": 20,
   "id": "parliamentary-calgary",
   "metadata": {
    "execution": {
     "iopub.execute_input": "2022-03-05T00:33:49.967035Z",
     "iopub.status.busy": "2022-03-05T00:33:49.966387Z",
     "iopub.status.idle": "2022-03-05T00:33:50.717795Z",
     "shell.execute_reply": "2022-03-05T00:33:50.717144Z"
    },
    "papermill": {
     "duration": 0.795445,
     "end_time": "2022-03-05T00:33:50.717943",
     "exception": false,
     "start_time": "2022-03-05T00:33:49.922498",
     "status": "completed"
    },
    "tags": []
   },
   "outputs": [],
   "source": [
    "#hide\n",
    "import pandas as pd\n",
    "import matplotlib.pyplot as plt\n",
    "import matplotlib.ticker as ticker\n",
    "import matplotlib.animation as animation\n",
    "from IPython.display import HTML"
   ]
  },
  {
   "cell_type": "code",
   "execution_count": 21,
   "id": "lasting-extraction",
   "metadata": {
    "execution": {
     "iopub.execute_input": "2022-03-05T00:33:50.810747Z",
     "iopub.status.busy": "2022-03-05T00:33:50.810043Z",
     "iopub.status.idle": "2022-03-05T00:33:50.817272Z",
     "shell.execute_reply": "2022-03-05T00:33:50.818051Z"
    },
    "papermill": {
     "duration": 0.059085,
     "end_time": "2022-03-05T00:33:50.818201",
     "exception": false,
     "start_time": "2022-03-05T00:33:50.759116",
     "status": "completed"
    },
    "tags": []
   },
   "outputs": [],
   "source": [
    "#hide\n",
    "t = everydaycases.stack()"
   ]
  },
  {
   "cell_type": "code",
   "execution_count": 22,
   "id": "premier-sleeve",
   "metadata": {
    "execution": {
     "iopub.execute_input": "2022-03-05T00:33:50.912451Z",
     "iopub.status.busy": "2022-03-05T00:33:50.911774Z",
     "iopub.status.idle": "2022-03-05T00:33:50.923962Z",
     "shell.execute_reply": "2022-03-05T00:33:50.923304Z"
    },
    "papermill": {
     "duration": 0.06021,
     "end_time": "2022-03-05T00:33:50.924089",
     "exception": false,
     "start_time": "2022-03-05T00:33:50.863879",
     "status": "completed"
    },
    "tags": []
   },
   "outputs": [],
   "source": [
    "#hide\n",
    "g = t.reset_index(['Country/Region'])"
   ]
  },
  {
   "cell_type": "code",
   "execution_count": 23,
   "id": "distributed-pittsburgh",
   "metadata": {
    "execution": {
     "iopub.execute_input": "2022-03-05T00:33:51.012294Z",
     "iopub.status.busy": "2022-03-05T00:33:51.011642Z",
     "iopub.status.idle": "2022-03-05T00:33:51.015072Z",
     "shell.execute_reply": "2022-03-05T00:33:51.014079Z"
    },
    "papermill": {
     "duration": 0.050068,
     "end_time": "2022-03-05T00:33:51.015221",
     "exception": false,
     "start_time": "2022-03-05T00:33:50.965153",
     "status": "completed"
    },
    "tags": []
   },
   "outputs": [],
   "source": [
    "#hide\n",
    "g.index.name = 'date'"
   ]
  },
  {
   "cell_type": "code",
   "execution_count": 24,
   "id": "naked-donor",
   "metadata": {
    "execution": {
     "iopub.execute_input": "2022-03-05T00:33:51.117969Z",
     "iopub.status.busy": "2022-03-05T00:33:51.116934Z",
     "iopub.status.idle": "2022-03-05T00:33:51.121926Z",
     "shell.execute_reply": "2022-03-05T00:33:51.121029Z"
    },
    "papermill": {
     "duration": 0.055803,
     "end_time": "2022-03-05T00:33:51.122074",
     "exception": false,
     "start_time": "2022-03-05T00:33:51.066271",
     "status": "completed"
    },
    "tags": []
   },
   "outputs": [],
   "source": [
    "# #hide\n",
    "# g = g.reset_index(['date'])"
   ]
  },
  {
   "cell_type": "code",
   "execution_count": 25,
   "id": "incomplete-mustang",
   "metadata": {
    "execution": {
     "iopub.execute_input": "2022-03-05T00:33:51.226907Z",
     "iopub.status.busy": "2022-03-05T00:33:51.226050Z",
     "iopub.status.idle": "2022-03-05T00:33:51.229375Z",
     "shell.execute_reply": "2022-03-05T00:33:51.228567Z"
    },
    "papermill": {
     "duration": 0.055352,
     "end_time": "2022-03-05T00:33:51.229513",
     "exception": false,
     "start_time": "2022-03-05T00:33:51.174161",
     "status": "completed"
    },
    "tags": []
   },
   "outputs": [],
   "source": [
    "#hide\n",
    "# g.head()"
   ]
  },
  {
   "cell_type": "code",
   "execution_count": 26,
   "id": "specific-kruger",
   "metadata": {
    "execution": {
     "iopub.execute_input": "2022-03-05T00:33:51.318725Z",
     "iopub.status.busy": "2022-03-05T00:33:51.317491Z",
     "iopub.status.idle": "2022-03-05T00:33:51.319718Z",
     "shell.execute_reply": "2022-03-05T00:33:51.320295Z"
    },
    "papermill": {
     "duration": 0.049118,
     "end_time": "2022-03-05T00:33:51.320439",
     "exception": false,
     "start_time": "2022-03-05T00:33:51.271321",
     "status": "completed"
    },
    "tags": []
   },
   "outputs": [],
   "source": [
    "#hide\n",
    "# g.columns = ['date','country','cases']"
   ]
  },
  {
   "cell_type": "code",
   "execution_count": 27,
   "id": "tender-conversion",
   "metadata": {
    "execution": {
     "iopub.execute_input": "2022-03-05T00:33:51.409792Z",
     "iopub.status.busy": "2022-03-05T00:33:51.409075Z",
     "iopub.status.idle": "2022-03-05T00:33:51.415429Z",
     "shell.execute_reply": "2022-03-05T00:33:51.414710Z"
    },
    "papermill": {
     "duration": 0.052767,
     "end_time": "2022-03-05T00:33:51.415567",
     "exception": false,
     "start_time": "2022-03-05T00:33:51.362800",
     "status": "completed"
    },
    "tags": []
   },
   "outputs": [],
   "source": [
    "#hide\n",
    "# g['continent'] = g.country"
   ]
  },
  {
   "cell_type": "code",
   "execution_count": 28,
   "id": "substantial-wilderness",
   "metadata": {
    "execution": {
     "iopub.execute_input": "2022-03-05T00:33:51.503498Z",
     "iopub.status.busy": "2022-03-05T00:33:51.502832Z",
     "iopub.status.idle": "2022-03-05T00:33:51.506620Z",
     "shell.execute_reply": "2022-03-05T00:33:51.507281Z"
    },
    "papermill": {
     "duration": 0.050997,
     "end_time": "2022-03-05T00:33:51.507431",
     "exception": false,
     "start_time": "2022-03-05T00:33:51.456434",
     "status": "completed"
    },
    "tags": []
   },
   "outputs": [],
   "source": [
    "#hide\n",
    "# cols = list(g.columns.values)"
   ]
  },
  {
   "cell_type": "code",
   "execution_count": 29,
   "id": "solved-farming",
   "metadata": {
    "execution": {
     "iopub.execute_input": "2022-03-05T00:33:51.603620Z",
     "iopub.status.busy": "2022-03-05T00:33:51.602933Z",
     "iopub.status.idle": "2022-03-05T00:33:51.607575Z",
     "shell.execute_reply": "2022-03-05T00:33:51.606999Z"
    },
    "papermill": {
     "duration": 0.052777,
     "end_time": "2022-03-05T00:33:51.607715",
     "exception": false,
     "start_time": "2022-03-05T00:33:51.554938",
     "status": "completed"
    },
    "tags": []
   },
   "outputs": [],
   "source": [
    "#hide\n",
    "# cols.insert(0, cols.pop())"
   ]
  },
  {
   "cell_type": "code",
   "execution_count": 30,
   "id": "executed-adoption",
   "metadata": {
    "execution": {
     "iopub.execute_input": "2022-03-05T00:33:51.694012Z",
     "iopub.status.busy": "2022-03-05T00:33:51.693375Z",
     "iopub.status.idle": "2022-03-05T00:33:51.695998Z",
     "shell.execute_reply": "2022-03-05T00:33:51.695224Z"
    },
    "papermill": {
     "duration": 0.048773,
     "end_time": "2022-03-05T00:33:51.696150",
     "exception": false,
     "start_time": "2022-03-05T00:33:51.647377",
     "status": "completed"
    },
    "tags": []
   },
   "outputs": [],
   "source": [
    "#hide\n",
    "# g = g[cols]"
   ]
  },
  {
   "cell_type": "code",
   "execution_count": 31,
   "id": "subject-dublin",
   "metadata": {
    "execution": {
     "iopub.execute_input": "2022-03-05T00:33:51.783828Z",
     "iopub.status.busy": "2022-03-05T00:33:51.783016Z",
     "iopub.status.idle": "2022-03-05T00:33:51.786987Z",
     "shell.execute_reply": "2022-03-05T00:33:51.787461Z"
    },
    "papermill": {
     "duration": 0.047358,
     "end_time": "2022-03-05T00:33:51.787616",
     "exception": false,
     "start_time": "2022-03-05T00:33:51.740258",
     "status": "completed"
    },
    "tags": []
   },
   "outputs": [],
   "source": [
    "#hide\n",
    "# g['continent'] = g['continent'].map(mapping['map.continent'])"
   ]
  },
  {
   "cell_type": "code",
   "execution_count": 32,
   "id": "freelance-scout",
   "metadata": {
    "execution": {
     "iopub.execute_input": "2022-03-05T00:33:51.877223Z",
     "iopub.status.busy": "2022-03-05T00:33:51.876403Z",
     "iopub.status.idle": "2022-03-05T00:33:51.878464Z",
     "shell.execute_reply": "2022-03-05T00:33:51.877891Z"
    },
    "papermill": {
     "duration": 0.049909,
     "end_time": "2022-03-05T00:33:51.878596",
     "exception": false,
     "start_time": "2022-03-05T00:33:51.828687",
     "status": "completed"
    },
    "tags": []
   },
   "outputs": [],
   "source": [
    "#hide\n",
    "# g.head()"
   ]
  },
  {
   "cell_type": "code",
   "execution_count": 33,
   "id": "limited-engine",
   "metadata": {
    "execution": {
     "iopub.execute_input": "2022-03-05T00:33:51.968148Z",
     "iopub.status.busy": "2022-03-05T00:33:51.967390Z",
     "iopub.status.idle": "2022-03-05T00:33:51.970116Z",
     "shell.execute_reply": "2022-03-05T00:33:51.970931Z"
    },
    "papermill": {
     "duration": 0.04931,
     "end_time": "2022-03-05T00:33:51.971074",
     "exception": false,
     "start_time": "2022-03-05T00:33:51.921764",
     "status": "completed"
    },
    "tags": []
   },
   "outputs": [],
   "source": [
    "# hide\n",
    "# g['date'] = g['date'].astype('datetime64[ns]')"
   ]
  },
  {
   "cell_type": "code",
   "execution_count": 34,
   "id": "sophisticated-supervisor",
   "metadata": {
    "execution": {
     "iopub.execute_input": "2022-03-05T00:33:52.061478Z",
     "iopub.status.busy": "2022-03-05T00:33:52.060668Z",
     "iopub.status.idle": "2022-03-05T00:33:52.062964Z",
     "shell.execute_reply": "2022-03-05T00:33:52.063546Z"
    },
    "papermill": {
     "duration": 0.049629,
     "end_time": "2022-03-05T00:33:52.063705",
     "exception": false,
     "start_time": "2022-03-05T00:33:52.014076",
     "status": "completed"
    },
    "tags": []
   },
   "outputs": [],
   "source": [
    "#hide\n",
    "# g['date'] = g.date.dt.dayofyear"
   ]
  },
  {
   "cell_type": "code",
   "execution_count": 35,
   "id": "inside-dubai",
   "metadata": {
    "execution": {
     "iopub.execute_input": "2022-03-05T00:33:52.158772Z",
     "iopub.status.busy": "2022-03-05T00:33:52.158025Z",
     "iopub.status.idle": "2022-03-05T00:33:52.163582Z",
     "shell.execute_reply": "2022-03-05T00:33:52.162968Z"
    },
    "papermill": {
     "duration": 0.053803,
     "end_time": "2022-03-05T00:33:52.163864",
     "exception": false,
     "start_time": "2022-03-05T00:33:52.110061",
     "status": "completed"
    },
    "tags": []
   },
   "outputs": [],
   "source": [
    "#hide\n",
    "# g = g.rename(columns= {'continent':'group','country':'name','cases':'value'})"
   ]
  },
  {
   "cell_type": "code",
   "execution_count": 36,
   "id": "fleet-motorcycle",
   "metadata": {
    "execution": {
     "iopub.execute_input": "2022-03-05T00:33:52.254769Z",
     "iopub.status.busy": "2022-03-05T00:33:52.254147Z",
     "iopub.status.idle": "2022-03-05T00:33:52.256562Z",
     "shell.execute_reply": "2022-03-05T00:33:52.255918Z"
    },
    "papermill": {
     "duration": 0.045934,
     "end_time": "2022-03-05T00:33:52.256687",
     "exception": false,
     "start_time": "2022-03-05T00:33:52.210753",
     "status": "completed"
    },
    "tags": []
   },
   "outputs": [],
   "source": [
    "#hide\n",
    "# cols = ['name','group','day','value']"
   ]
  },
  {
   "cell_type": "code",
   "execution_count": 37,
   "id": "continued-sleeping",
   "metadata": {
    "execution": {
     "iopub.execute_input": "2022-03-05T00:33:52.344239Z",
     "iopub.status.busy": "2022-03-05T00:33:52.343569Z",
     "iopub.status.idle": "2022-03-05T00:33:52.346310Z",
     "shell.execute_reply": "2022-03-05T00:33:52.345784Z"
    },
    "papermill": {
     "duration": 0.046382,
     "end_time": "2022-03-05T00:33:52.346442",
     "exception": false,
     "start_time": "2022-03-05T00:33:52.300060",
     "status": "completed"
    },
    "tags": []
   },
   "outputs": [],
   "source": [
    "#hide\n",
    "# g.rename(columns= {'date':'day'},inplace = True)"
   ]
  },
  {
   "cell_type": "code",
   "execution_count": 38,
   "id": "major-fight",
   "metadata": {
    "execution": {
     "iopub.execute_input": "2022-03-05T00:33:52.432535Z",
     "iopub.status.busy": "2022-03-05T00:33:52.431756Z",
     "iopub.status.idle": "2022-03-05T00:33:52.435995Z",
     "shell.execute_reply": "2022-03-05T00:33:52.436625Z"
    },
    "papermill": {
     "duration": 0.048364,
     "end_time": "2022-03-05T00:33:52.436784",
     "exception": false,
     "start_time": "2022-03-05T00:33:52.388420",
     "status": "completed"
    },
    "tags": []
   },
   "outputs": [],
   "source": [
    "#hide\n",
    "# g = g[cols]"
   ]
  },
  {
   "cell_type": "code",
   "execution_count": 39,
   "id": "structured-mobile",
   "metadata": {
    "execution": {
     "iopub.execute_input": "2022-03-05T00:33:52.521516Z",
     "iopub.status.busy": "2022-03-05T00:33:52.520834Z",
     "iopub.status.idle": "2022-03-05T00:33:52.523045Z",
     "shell.execute_reply": "2022-03-05T00:33:52.522329Z"
    },
    "papermill": {
     "duration": 0.04825,
     "end_time": "2022-03-05T00:33:52.523187",
     "exception": false,
     "start_time": "2022-03-05T00:33:52.474937",
     "status": "completed"
    },
    "tags": []
   },
   "outputs": [],
   "source": [
    "# #hide\n",
    "# g = g[g.group.notna()]"
   ]
  },
  {
   "cell_type": "code",
   "execution_count": 40,
   "id": "determined-closing",
   "metadata": {
    "execution": {
     "iopub.execute_input": "2022-03-05T00:33:52.605889Z",
     "iopub.status.busy": "2022-03-05T00:33:52.605145Z",
     "iopub.status.idle": "2022-03-05T00:33:52.608754Z",
     "shell.execute_reply": "2022-03-05T00:33:52.608216Z"
    },
    "papermill": {
     "duration": 0.046997,
     "end_time": "2022-03-05T00:33:52.608894",
     "exception": false,
     "start_time": "2022-03-05T00:33:52.561897",
     "status": "completed"
    },
    "tags": []
   },
   "outputs": [],
   "source": [
    "# #hide\n",
    "# colors = dict(zip(\n",
    "#     [\"Oceania\", \"Europe\", \"Asia\", \"South America\", \"Middle East\", \"North America\", \"Africa\"],\n",
    "#     [\"#adb0ff\", \"#ffb3ff\", \"#90d595\", \"#e48381\", \"#aafbff\", \"#f7bb5f\", \"#eafb50\"]\n",
    "# ))\n",
    "# group_lk = g.set_index('name')['group'].to_dict()"
   ]
  },
  {
   "cell_type": "code",
   "execution_count": null,
   "id": "gross-drinking",
   "metadata": {
    "papermill": {
     "duration": 0.037284,
     "end_time": "2022-03-05T00:33:52.684187",
     "exception": false,
     "start_time": "2022-03-05T00:33:52.646903",
     "status": "completed"
    },
    "tags": []
   },
   "outputs": [],
   "source": []
  },
  {
   "cell_type": "code",
   "execution_count": 41,
   "id": "subject-macintosh",
   "metadata": {
    "execution": {
     "iopub.execute_input": "2022-03-05T00:33:52.777092Z",
     "iopub.status.busy": "2022-03-05T00:33:52.776454Z",
     "iopub.status.idle": "2022-03-05T00:33:52.778798Z",
     "shell.execute_reply": "2022-03-05T00:33:52.778124Z"
    },
    "papermill": {
     "duration": 0.0523,
     "end_time": "2022-03-05T00:33:52.778926",
     "exception": false,
     "start_time": "2022-03-05T00:33:52.726626",
     "status": "completed"
    },
    "tags": []
   },
   "outputs": [],
   "source": [
    "# #hide\n",
    "# fig, ax = plt.subplots(figsize=(15, 8))\n",
    "\n",
    "# def draw_barchart(current_day):\n",
    "#     dff = g[g['day'].eq(current_day)].sort_values(by='value', ascending=True).tail(10)\n",
    "#     ax.clear()\n",
    "#     ax.barh(dff['name'], dff['value'], color=[colors[group_lk[x]] for x in dff['name']])\n",
    "#     dx = dff['value'].max() / 200\n",
    "    \n",
    "#     for i, (value, name) in enumerate(zip(dff['value'], dff['name'])):\n",
    "#         ax.text(value-dx, i,     name,           size=14, weight=600, ha='right', va='bottom')\n",
    "#         ax.text(value-dx, i-.25, group_lk[name], size=10, color='#444444', ha='right', va='baseline')\n",
    "#         ax.text(value+dx, i,     f'{value:,.0f}',  size=14, ha='left',  va='center')\n",
    "#     ax.text(1, 0.4, current_day, transform=ax.transAxes, color='#777777', size=46, ha='right', weight=800)\n",
    "#     ax.text(0, 1.06, 'Population (thousands)', transform=ax.transAxes, size=12, color='#777777')\n",
    "#     ax.xaxis.set_major_formatter(ticker.StrMethodFormatter('{x:,.0f}'))\n",
    "#     ax.xaxis.set_ticks_position('top')\n",
    "#     ax.tick_params(axis='x', colors='#777777', labelsize=12)\n",
    "#     ax.set_yticks([])\n",
    "#     ax.margins(0, 0.01)\n",
    "#     ax.grid(which='major', axis='x', linestyle='-')\n",
    "#     ax.set_axisbelow(True)\n",
    "    \n",
    "#     ax.text(0, 1.15, 'Coronavirus',\n",
    "#             transform=ax.transAxes, size=24, weight=600, ha='left', va='top')\n",
    "# #     ax.text(1, 0, 'by @pratapvardhan; credit @jburnmurdoch', transform=ax.transAxes, color='#777777', ha='right',\n",
    "# #             bbox=dict(facecolor='white', alpha=0.8, edgecolor='white'))\n",
    "#     plt.box(False)"
   ]
  },
  {
   "cell_type": "code",
   "execution_count": 42,
   "id": "sexual-wages",
   "metadata": {
    "execution": {
     "iopub.execute_input": "2022-03-05T00:33:52.867971Z",
     "iopub.status.busy": "2022-03-05T00:33:52.867154Z",
     "iopub.status.idle": "2022-03-05T00:33:52.871361Z",
     "shell.execute_reply": "2022-03-05T00:33:52.871860Z"
    },
    "papermill": {
     "duration": 0.048303,
     "end_time": "2022-03-05T00:33:52.871998",
     "exception": false,
     "start_time": "2022-03-05T00:33:52.823695",
     "status": "completed"
    },
    "tags": []
   },
   "outputs": [],
   "source": [
    "# #hide_input\n",
    "# fig, ax = plt.subplots(figsize=(15, 8))\n",
    "# animator = animation.FuncAnimation(fig, draw_barchart, frames=range(g.day.values.min(), g.day.values.max()))\n",
    "# HTML(animator.to_jshtml())\n",
    "# # or use animator.to_html5_video() or animator.save() "
   ]
  },
  {
   "cell_type": "code",
   "execution_count": null,
   "id": "australian-container",
   "metadata": {
    "papermill": {
     "duration": 0.039373,
     "end_time": "2022-03-05T00:33:52.951057",
     "exception": false,
     "start_time": "2022-03-05T00:33:52.911684",
     "status": "completed"
    },
    "tags": []
   },
   "outputs": [],
   "source": []
  },
  {
   "cell_type": "code",
   "execution_count": null,
   "id": "mediterranean-pontiac",
   "metadata": {
    "papermill": {
     "duration": 0.041249,
     "end_time": "2022-03-05T00:33:53.031262",
     "exception": false,
     "start_time": "2022-03-05T00:33:52.990013",
     "status": "completed"
    },
    "tags": []
   },
   "outputs": [],
   "source": []
  },
  {
   "cell_type": "code",
   "execution_count": null,
   "id": "aging-legislature",
   "metadata": {
    "papermill": {
     "duration": 0.040296,
     "end_time": "2022-03-05T00:33:53.111118",
     "exception": false,
     "start_time": "2022-03-05T00:33:53.070822",
     "status": "completed"
    },
    "tags": []
   },
   "outputs": [],
   "source": []
  }
 ],
 "metadata": {
  "kernelspec": {
   "display_name": "Python 3",
   "language": "python",
   "name": "python3"
  },
  "language_info": {
   "codemirror_mode": {
    "name": "ipython",
    "version": 3
   },
   "file_extension": ".py",
   "mimetype": "text/x-python",
   "name": "python",
   "nbconvert_exporter": "python",
   "pygments_lexer": "ipython3",
   "version": "3.6.15"
  },
  "papermill": {
   "duration": 7.690097,
   "end_time": "2022-03-05T00:33:53.470270",
   "environment_variables": {},
   "exception": null,
   "input_path": "2020-03-21-covid19exp.ipynb",
   "output_path": "2020-03-21-covid19exp.ipynb",
   "parameters": {},
   "start_time": "2022-03-05T00:33:45.780173",
   "version": "2.0.0"
  }
 },
 "nbformat": 4,
 "nbformat_minor": 5
}