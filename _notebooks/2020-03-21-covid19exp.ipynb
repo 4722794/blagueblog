{
 "cells": [
  {
   "cell_type": "markdown",
   "id": "muslim-click",
   "metadata": {
    "papermill": {
     "duration": 0.03758,
     "end_time": "2021-12-02T12:12:53.462891",
     "exception": false,
     "start_time": "2021-12-02T12:12:53.425311",
     "status": "completed"
    },
    "tags": []
   },
   "source": [
    "# COVID-19 Case Race\n",
    "> A race chart to see rising cases around the world\n",
    "\n",
    "- author: Hargun Oberoi\n",
    "- image: images/covid-overview.png\n",
    "- hide: false\n",
    "- badges: false"
   ]
  },
  {
   "cell_type": "code",
   "execution_count": 1,
   "id": "proof-material",
   "metadata": {
    "execution": {
     "iopub.execute_input": "2021-12-02T12:12:53.541930Z",
     "iopub.status.busy": "2021-12-02T12:12:53.541292Z",
     "iopub.status.idle": "2021-12-02T12:12:53.904714Z",
     "shell.execute_reply": "2021-12-02T12:12:53.904097Z"
    },
    "papermill": {
     "duration": 0.406425,
     "end_time": "2021-12-02T12:12:53.904884",
     "exception": false,
     "start_time": "2021-12-02T12:12:53.498459",
     "status": "completed"
    },
    "tags": []
   },
   "outputs": [],
   "source": [
    "#hide\n",
    "import numpy as np\n",
    "import pandas as pd\n",
    "from jinja2 import Template\n",
    "from IPython.display import HTML"
   ]
  },
  {
   "cell_type": "code",
   "execution_count": 2,
   "id": "developed-terminology",
   "metadata": {
    "execution": {
     "iopub.execute_input": "2021-12-02T12:12:53.978624Z",
     "iopub.status.busy": "2021-12-02T12:12:53.977824Z",
     "iopub.status.idle": "2021-12-02T12:12:53.980454Z",
     "shell.execute_reply": "2021-12-02T12:12:53.980905Z"
    },
    "papermill": {
     "duration": 0.042758,
     "end_time": "2021-12-02T12:12:53.981042",
     "exception": false,
     "start_time": "2021-12-02T12:12:53.938284",
     "status": "completed"
    },
    "tags": []
   },
   "outputs": [],
   "source": [
    "#hide\n",
    "\n",
    "# FETCH\n",
    "base_url = 'https://raw.githubusercontent.com/pratapvardhan/notebooks/master/covid19/'\n",
    "paths = {\n",
    "    'mapping': base_url + 'mapping_countries.csv',\n",
    "    'overview': base_url + 'overview.tpl'\n",
    "}"
   ]
  },
  {
   "cell_type": "code",
   "execution_count": 3,
   "id": "dynamic-saver",
   "metadata": {
    "execution": {
     "iopub.execute_input": "2021-12-02T12:12:54.062006Z",
     "iopub.status.busy": "2021-12-02T12:12:54.061346Z",
     "iopub.status.idle": "2021-12-02T12:12:54.065732Z",
     "shell.execute_reply": "2021-12-02T12:12:54.066328Z"
    },
    "papermill": {
     "duration": 0.052815,
     "end_time": "2021-12-02T12:12:54.066475",
     "exception": false,
     "start_time": "2021-12-02T12:12:54.013660",
     "status": "completed"
    },
    "tags": []
   },
   "outputs": [
    {
     "data": {
      "text/plain": [
       "'https://raw.githubusercontent.com/pratapvardhan/notebooks/master/covid19/mapping_countries.csv'"
      ]
     },
     "execution_count": 3,
     "metadata": {},
     "output_type": "execute_result"
    }
   ],
   "source": [
    "#hide\n",
    "paths['mapping']"
   ]
  },
  {
   "cell_type": "code",
   "execution_count": 4,
   "id": "urban-software",
   "metadata": {
    "execution": {
     "iopub.execute_input": "2021-12-02T12:12:54.137807Z",
     "iopub.status.busy": "2021-12-02T12:12:54.137066Z",
     "iopub.status.idle": "2021-12-02T12:12:54.141256Z",
     "shell.execute_reply": "2021-12-02T12:12:54.140624Z"
    },
    "papermill": {
     "duration": 0.042224,
     "end_time": "2021-12-02T12:12:54.141379",
     "exception": false,
     "start_time": "2021-12-02T12:12:54.099155",
     "status": "completed"
    },
    "tags": []
   },
   "outputs": [],
   "source": [
    "#hide\n",
    "def get_mappings(url):\n",
    "    df = pd.read_csv(url)\n",
    "    return {\n",
    "        'df': df,\n",
    "        'replace.country': dict(df.dropna(subset=['Name']).set_index('Country')['Name']),\n",
    "        'map.continent': dict(df.set_index('Name')['Continent'])\n",
    "    }"
   ]
  },
  {
   "cell_type": "code",
   "execution_count": 5,
   "id": "intimate-machinery",
   "metadata": {
    "execution": {
     "iopub.execute_input": "2021-12-02T12:12:54.214147Z",
     "iopub.status.busy": "2021-12-02T12:12:54.213493Z",
     "iopub.status.idle": "2021-12-02T12:12:54.284645Z",
     "shell.execute_reply": "2021-12-02T12:12:54.284109Z"
    },
    "papermill": {
     "duration": 0.110768,
     "end_time": "2021-12-02T12:12:54.284786",
     "exception": false,
     "start_time": "2021-12-02T12:12:54.174018",
     "status": "completed"
    },
    "tags": []
   },
   "outputs": [],
   "source": [
    "#hide\n",
    "mapping = get_mappings(paths['mapping'])"
   ]
  },
  {
   "cell_type": "code",
   "execution_count": 6,
   "id": "certified-tactics",
   "metadata": {
    "execution": {
     "iopub.execute_input": "2021-12-02T12:12:54.365727Z",
     "iopub.status.busy": "2021-12-02T12:12:54.365065Z",
     "iopub.status.idle": "2021-12-02T12:12:54.366428Z",
     "shell.execute_reply": "2021-12-02T12:12:54.366980Z"
    },
    "papermill": {
     "duration": 0.047163,
     "end_time": "2021-12-02T12:12:54.367117",
     "exception": false,
     "start_time": "2021-12-02T12:12:54.319954",
     "status": "completed"
    },
    "tags": []
   },
   "outputs": [],
   "source": [
    "#hide\n",
    "def get_template(path):\n",
    "    from urllib.parse import urlparse\n",
    "    if bool(urlparse(path).netloc):\n",
    "        from urllib.request import urlopen\n",
    "        return urlopen(path).read().decode('utf8')\n",
    "    return open(path).read()"
   ]
  },
  {
   "cell_type": "code",
   "execution_count": 7,
   "id": "realistic-blast",
   "metadata": {
    "execution": {
     "iopub.execute_input": "2021-12-02T12:12:54.441675Z",
     "iopub.status.busy": "2021-12-02T12:12:54.441096Z",
     "iopub.status.idle": "2021-12-02T12:12:54.443906Z",
     "shell.execute_reply": "2021-12-02T12:12:54.443304Z"
    },
    "papermill": {
     "duration": 0.04288,
     "end_time": "2021-12-02T12:12:54.444028",
     "exception": false,
     "start_time": "2021-12-02T12:12:54.401148",
     "status": "completed"
    },
    "tags": []
   },
   "outputs": [],
   "source": [
    "#hide\n",
    "def get_frame(name):\n",
    "    url = (\n",
    "        'https://raw.githubusercontent.com/CSSEGISandData/COVID-19/master/csse_covid_19_data/'\n",
    "        f'csse_covid_19_time_series/time_series_covid19_{name}_global.csv')\n",
    "    df = pd.read_csv(url)\n",
    "    # rename countries\n",
    "    df['Country/Region'] = df['Country/Region'].replace(mapping['replace.country'])\n",
    "    return df"
   ]
  },
  {
   "cell_type": "code",
   "execution_count": 8,
   "id": "affiliated-characterization",
   "metadata": {
    "execution": {
     "iopub.execute_input": "2021-12-02T12:12:54.515928Z",
     "iopub.status.busy": "2021-12-02T12:12:54.515358Z",
     "iopub.status.idle": "2021-12-02T12:12:54.516846Z",
     "shell.execute_reply": "2021-12-02T12:12:54.517303Z"
    },
    "papermill": {
     "duration": 0.040439,
     "end_time": "2021-12-02T12:12:54.517441",
     "exception": false,
     "start_time": "2021-12-02T12:12:54.477002",
     "status": "completed"
    },
    "tags": []
   },
   "outputs": [],
   "source": [
    "#hide\n",
    "def get_dates(df):\n",
    "    dt_cols = df.columns[~df.columns.isin(['Province/State', 'Country/Region', 'Lat', 'Long'])]\n",
    "    LAST_DATE_I = -1\n",
    "    # sometimes last column may be empty, then go backwards\n",
    "    for i in range(-1, -len(dt_cols), -1):\n",
    "        if not df[dt_cols[i]].fillna(0).eq(0).all():\n",
    "            LAST_DATE_I = i\n",
    "            break\n",
    "    return LAST_DATE_I, dt_cols"
   ]
  },
  {
   "cell_type": "code",
   "execution_count": 9,
   "id": "recent-optimization",
   "metadata": {
    "execution": {
     "iopub.execute_input": "2021-12-02T12:12:54.586478Z",
     "iopub.status.busy": "2021-12-02T12:12:54.585847Z",
     "iopub.status.idle": "2021-12-02T12:12:55.183290Z",
     "shell.execute_reply": "2021-12-02T12:12:55.182664Z"
    },
    "papermill": {
     "duration": 0.634254,
     "end_time": "2021-12-02T12:12:55.183445",
     "exception": false,
     "start_time": "2021-12-02T12:12:54.549191",
     "status": "completed"
    },
    "tags": []
   },
   "outputs": [],
   "source": [
    "#hide\n",
    "COL_REGION = 'Country/Region'\n",
    "# Confirmed, Recovered, Deaths\n",
    "df = get_frame('confirmed')\n",
    "# dft_: timeseries, dfc_: today country agg\n",
    "dft_cases = df\n",
    "dft_deaths = get_frame('deaths')\n",
    "dft_recovered = get_frame('recovered')\n",
    "LAST_DATE_I, dt_cols = get_dates(df)"
   ]
  },
  {
   "cell_type": "code",
   "execution_count": 10,
   "id": "absolute-copper",
   "metadata": {
    "execution": {
     "iopub.execute_input": "2021-12-02T12:12:55.252981Z",
     "iopub.status.busy": "2021-12-02T12:12:55.252269Z",
     "iopub.status.idle": "2021-12-02T12:12:55.256376Z",
     "shell.execute_reply": "2021-12-02T12:12:55.255849Z"
    },
    "papermill": {
     "duration": 0.040279,
     "end_time": "2021-12-02T12:12:55.256497",
     "exception": false,
     "start_time": "2021-12-02T12:12:55.216218",
     "status": "completed"
    },
    "tags": []
   },
   "outputs": [],
   "source": [
    "#hide\n",
    "LAST_DATE_I, dt_cols = get_dates(df)\n",
    "dt_today =dt_cols[LAST_DATE_I]\n",
    "# dt_5day = dt_cols[LAST_DATE_I - 5]\n",
    "dt_yday = dt_cols[LAST_DATE_I - 1]"
   ]
  },
  {
   "cell_type": "code",
   "execution_count": 11,
   "id": "restricted-sheriff",
   "metadata": {
    "execution": {
     "iopub.execute_input": "2021-12-02T12:12:55.327248Z",
     "iopub.status.busy": "2021-12-02T12:12:55.326701Z",
     "iopub.status.idle": "2021-12-02T12:12:55.334934Z",
     "shell.execute_reply": "2021-12-02T12:12:55.334473Z"
    },
    "papermill": {
     "duration": 0.046956,
     "end_time": "2021-12-02T12:12:55.335043",
     "exception": false,
     "start_time": "2021-12-02T12:12:55.288087",
     "status": "completed"
    },
    "tags": []
   },
   "outputs": [],
   "source": [
    "#hide\n",
    "dfc_cases = dft_cases.groupby(COL_REGION)[dt_today].sum()\n",
    "dfc_deaths = dft_deaths.groupby(COL_REGION)[dt_today].sum()\n",
    "# dfp_cases = dft_cases.groupby(COL_REGION)[dt_5day].sum()\n",
    "# dfp_deaths = dft_deaths.groupby(COL_REGION)[dt_5day].sum()\n",
    "dfp_cases = dft_cases.groupby(COL_REGION)[dt_yday].sum()\n",
    "dfp_deaths = dft_deaths.groupby(COL_REGION)[dt_yday].sum()"
   ]
  },
  {
   "cell_type": "code",
   "execution_count": 12,
   "id": "deluxe-hepatitis",
   "metadata": {
    "execution": {
     "iopub.execute_input": "2021-12-02T12:12:55.408420Z",
     "iopub.status.busy": "2021-12-02T12:12:55.407799Z",
     "iopub.status.idle": "2021-12-02T12:12:55.412219Z",
     "shell.execute_reply": "2021-12-02T12:12:55.412663Z"
    },
    "papermill": {
     "duration": 0.045021,
     "end_time": "2021-12-02T12:12:55.413201",
     "exception": false,
     "start_time": "2021-12-02T12:12:55.368180",
     "status": "completed"
    },
    "tags": []
   },
   "outputs": [],
   "source": [
    "#hide\n",
    "df_table = (pd.DataFrame(dict(Cases = dfc_cases, Deaths = dfc_deaths, PCases = dfp_cases, PDeaths = dfp_deaths))\n",
    "            .sort_values(by = ['Cases','Deaths'], ascending = [False, False])\n",
    "            .reset_index())"
   ]
  },
  {
   "cell_type": "code",
   "execution_count": 13,
   "id": "educational-chancellor",
   "metadata": {
    "execution": {
     "iopub.execute_input": "2021-12-02T12:12:55.504384Z",
     "iopub.status.busy": "2021-12-02T12:12:55.503756Z",
     "iopub.status.idle": "2021-12-02T12:12:55.511904Z",
     "shell.execute_reply": "2021-12-02T12:12:55.511513Z"
    },
    "papermill": {
     "duration": 0.060447,
     "end_time": "2021-12-02T12:12:55.512009",
     "exception": false,
     "start_time": "2021-12-02T12:12:55.451562",
     "status": "completed"
    },
    "tags": []
   },
   "outputs": [
    {
     "data": {
      "text/html": [
       "<div>\n",
       "<style scoped>\n",
       "    .dataframe tbody tr th:only-of-type {\n",
       "        vertical-align: middle;\n",
       "    }\n",
       "\n",
       "    .dataframe tbody tr th {\n",
       "        vertical-align: top;\n",
       "    }\n",
       "\n",
       "    .dataframe thead th {\n",
       "        text-align: right;\n",
       "    }\n",
       "</style>\n",
       "<table border=\"1\" class=\"dataframe\">\n",
       "  <thead>\n",
       "    <tr style=\"text-align: right;\">\n",
       "      <th></th>\n",
       "      <th>Country/Region</th>\n",
       "      <th>Cases</th>\n",
       "      <th>Deaths</th>\n",
       "      <th>PCases</th>\n",
       "      <th>PDeaths</th>\n",
       "      <th>Cases (+)</th>\n",
       "      <th>Deaths (+)</th>\n",
       "      <th>Fatality Rate</th>\n",
       "      <th>Continent</th>\n",
       "    </tr>\n",
       "  </thead>\n",
       "  <tbody>\n",
       "    <tr>\n",
       "      <th>0</th>\n",
       "      <td>US</td>\n",
       "      <td>48692492</td>\n",
       "      <td>782100</td>\n",
       "      <td>48554890</td>\n",
       "      <td>780140</td>\n",
       "      <td>137602</td>\n",
       "      <td>1960</td>\n",
       "      <td>1.61</td>\n",
       "      <td>North America</td>\n",
       "    </tr>\n",
       "    <tr>\n",
       "      <th>1</th>\n",
       "      <td>India</td>\n",
       "      <td>34606541</td>\n",
       "      <td>469724</td>\n",
       "      <td>34596776</td>\n",
       "      <td>469247</td>\n",
       "      <td>9765</td>\n",
       "      <td>477</td>\n",
       "      <td>1.36</td>\n",
       "      <td>Asia</td>\n",
       "    </tr>\n",
       "    <tr>\n",
       "      <th>2</th>\n",
       "      <td>Brazil</td>\n",
       "      <td>22105872</td>\n",
       "      <td>614964</td>\n",
       "      <td>22094459</td>\n",
       "      <td>614681</td>\n",
       "      <td>11413</td>\n",
       "      <td>283</td>\n",
       "      <td>2.78</td>\n",
       "      <td>South America</td>\n",
       "    </tr>\n",
       "    <tr>\n",
       "      <th>3</th>\n",
       "      <td>United Kingdom</td>\n",
       "      <td>10333672</td>\n",
       "      <td>145586</td>\n",
       "      <td>10285745</td>\n",
       "      <td>145414</td>\n",
       "      <td>47927</td>\n",
       "      <td>172</td>\n",
       "      <td>1.41</td>\n",
       "      <td>Europe</td>\n",
       "    </tr>\n",
       "    <tr>\n",
       "      <th>4</th>\n",
       "      <td>Russia</td>\n",
       "      <td>9500836</td>\n",
       "      <td>271091</td>\n",
       "      <td>9468640</td>\n",
       "      <td>269900</td>\n",
       "      <td>32196</td>\n",
       "      <td>1191</td>\n",
       "      <td>2.85</td>\n",
       "      <td>Europe</td>\n",
       "    </tr>\n",
       "  </tbody>\n",
       "</table>\n",
       "</div>"
      ],
      "text/plain": [
       "   Country/Region     Cases  Deaths    PCases  PDeaths  Cases (+)  Deaths (+)  \\\n",
       "0              US  48692492  782100  48554890   780140     137602        1960   \n",
       "1           India  34606541  469724  34596776   469247       9765         477   \n",
       "2          Brazil  22105872  614964  22094459   614681      11413         283   \n",
       "3  United Kingdom  10333672  145586  10285745   145414      47927         172   \n",
       "4          Russia   9500836  271091   9468640   269900      32196        1191   \n",
       "\n",
       "   Fatality Rate      Continent  \n",
       "0           1.61  North America  \n",
       "1           1.36           Asia  \n",
       "2           2.78  South America  \n",
       "3           1.41         Europe  \n",
       "4           2.85         Europe  "
      ]
     },
     "execution_count": 13,
     "metadata": {},
     "output_type": "execute_result"
    }
   ],
   "source": [
    "#hide\n",
    "for c in 'Cases, Deaths'.split(', '):\n",
    "    df_table[f'{c} (+)'] = (df_table[c] - df_table[f'P{c}']).clip(0)\n",
    "    #Clip ça veut dire, les chiffres negatif sont interdit\n",
    "df_table['Fatality Rate'] = (100* df_table['Deaths']/ df_table['Cases']).round(2)\n",
    "df_table['Continent'] = df_table['Country/Region'].map(mapping['map.continent'])\n",
    "df_table.head(5)"
   ]
  },
  {
   "cell_type": "code",
   "execution_count": 14,
   "id": "aboriginal-bulgaria",
   "metadata": {
    "execution": {
     "iopub.execute_input": "2021-12-02T12:12:55.585587Z",
     "iopub.status.busy": "2021-12-02T12:12:55.585003Z",
     "iopub.status.idle": "2021-12-02T12:12:55.587798Z",
     "shell.execute_reply": "2021-12-02T12:12:55.587362Z"
    },
    "papermill": {
     "duration": 0.041376,
     "end_time": "2021-12-02T12:12:55.587911",
     "exception": false,
     "start_time": "2021-12-02T12:12:55.546535",
     "status": "completed"
    },
    "tags": []
   },
   "outputs": [],
   "source": [
    "#hide\n",
    "#delete problematic countries from table\n",
    "df_table = df_table[~df_table['Country/Region'].isin(['Cape Verde', 'Cruise Ship', 'Kosovo'])]"
   ]
  },
  {
   "cell_type": "code",
   "execution_count": 15,
   "id": "fantastic-effect",
   "metadata": {
    "execution": {
     "iopub.execute_input": "2021-12-02T12:12:55.660891Z",
     "iopub.status.busy": "2021-12-02T12:12:55.660402Z",
     "iopub.status.idle": "2021-12-02T12:12:55.680673Z",
     "shell.execute_reply": "2021-12-02T12:12:55.680124Z"
    },
    "papermill": {
     "duration": 0.060439,
     "end_time": "2021-12-02T12:12:55.680795",
     "exception": false,
     "start_time": "2021-12-02T12:12:55.620356",
     "status": "completed"
    },
    "tags": []
   },
   "outputs": [
    {
     "data": {
      "text/html": [
       "<div>\n",
       "<style scoped>\n",
       "    .dataframe tbody tr th:only-of-type {\n",
       "        vertical-align: middle;\n",
       "    }\n",
       "\n",
       "    .dataframe tbody tr th {\n",
       "        vertical-align: top;\n",
       "    }\n",
       "\n",
       "    .dataframe thead th {\n",
       "        text-align: right;\n",
       "    }\n",
       "</style>\n",
       "<table border=\"1\" class=\"dataframe\">\n",
       "  <thead>\n",
       "    <tr style=\"text-align: right;\">\n",
       "      <th></th>\n",
       "      <th>Country/Region</th>\n",
       "      <th>Cases</th>\n",
       "      <th>Deaths</th>\n",
       "      <th>PCases</th>\n",
       "      <th>PDeaths</th>\n",
       "      <th>Cases (+)</th>\n",
       "      <th>Deaths (+)</th>\n",
       "      <th>Fatality Rate</th>\n",
       "      <th>Continent</th>\n",
       "    </tr>\n",
       "  </thead>\n",
       "  <tbody>\n",
       "    <tr>\n",
       "      <th>0</th>\n",
       "      <td>US</td>\n",
       "      <td>48692492</td>\n",
       "      <td>782100</td>\n",
       "      <td>48554890</td>\n",
       "      <td>780140</td>\n",
       "      <td>137602</td>\n",
       "      <td>1960</td>\n",
       "      <td>1.6</td>\n",
       "      <td>North America</td>\n",
       "    </tr>\n",
       "    <tr>\n",
       "      <th>1</th>\n",
       "      <td>India</td>\n",
       "      <td>34606541</td>\n",
       "      <td>469724</td>\n",
       "      <td>34596776</td>\n",
       "      <td>469247</td>\n",
       "      <td>9765</td>\n",
       "      <td>477</td>\n",
       "      <td>1.4</td>\n",
       "      <td>Asia</td>\n",
       "    </tr>\n",
       "    <tr>\n",
       "      <th>2</th>\n",
       "      <td>Brazil</td>\n",
       "      <td>22105872</td>\n",
       "      <td>614964</td>\n",
       "      <td>22094459</td>\n",
       "      <td>614681</td>\n",
       "      <td>11413</td>\n",
       "      <td>283</td>\n",
       "      <td>2.8</td>\n",
       "      <td>South America</td>\n",
       "    </tr>\n",
       "    <tr>\n",
       "      <th>3</th>\n",
       "      <td>United Kingdom</td>\n",
       "      <td>10333672</td>\n",
       "      <td>145586</td>\n",
       "      <td>10285745</td>\n",
       "      <td>145414</td>\n",
       "      <td>47927</td>\n",
       "      <td>172</td>\n",
       "      <td>1.4</td>\n",
       "      <td>Europe</td>\n",
       "    </tr>\n",
       "    <tr>\n",
       "      <th>4</th>\n",
       "      <td>Russia</td>\n",
       "      <td>9500836</td>\n",
       "      <td>271091</td>\n",
       "      <td>9468640</td>\n",
       "      <td>269900</td>\n",
       "      <td>32196</td>\n",
       "      <td>1191</td>\n",
       "      <td>2.9</td>\n",
       "      <td>Europe</td>\n",
       "    </tr>\n",
       "  </tbody>\n",
       "</table>\n",
       "</div>"
      ],
      "text/plain": [
       "   Country/Region     Cases  Deaths    PCases  PDeaths  Cases (+)  Deaths (+)  \\\n",
       "0              US  48692492  782100  48554890   780140     137602        1960   \n",
       "1           India  34606541  469724  34596776   469247       9765         477   \n",
       "2          Brazil  22105872  614964  22094459   614681      11413         283   \n",
       "3  United Kingdom  10333672  145586  10285745   145414      47927         172   \n",
       "4          Russia   9500836  271091   9468640   269900      32196        1191   \n",
       "\n",
       "   Fatality Rate      Continent  \n",
       "0            1.6  North America  \n",
       "1            1.4           Asia  \n",
       "2            2.8  South America  \n",
       "3            1.4         Europe  \n",
       "4            2.9         Europe  "
      ]
     },
     "execution_count": 15,
     "metadata": {},
     "output_type": "execute_result"
    }
   ],
   "source": [
    "#hide\n",
    "df_table = (pd.DataFrame(dict(Cases=dfc_cases, Deaths=dfc_deaths, PCases=dfp_cases, PDeaths=dfp_deaths))\n",
    "             .sort_values(by=['Cases', 'Deaths'], ascending=[False, False])\n",
    "             .reset_index())\n",
    "df_table.rename(columns={'index': 'Country/Region'}, inplace=True)\n",
    "for c in 'Cases, Deaths'.split(', '):\n",
    "    df_table[f'{c} (+)'] = (df_table[c] - df_table[f'P{c}']).clip(0)  # DATA BUG\n",
    "df_table['Fatality Rate'] = (100 * df_table['Deaths'] / df_table['Cases']).round(1)\n",
    "df_table['Continent'] = df_table['Country/Region'].map(mapping['map.continent'])\n",
    "df_table.head(5)"
   ]
  },
  {
   "cell_type": "code",
   "execution_count": 16,
   "id": "fewer-occasion",
   "metadata": {
    "execution": {
     "iopub.execute_input": "2021-12-02T12:12:55.749982Z",
     "iopub.status.busy": "2021-12-02T12:12:55.749448Z",
     "iopub.status.idle": "2021-12-02T12:12:55.753027Z",
     "shell.execute_reply": "2021-12-02T12:12:55.752625Z"
    },
    "papermill": {
     "duration": 0.041195,
     "end_time": "2021-12-02T12:12:55.753141",
     "exception": false,
     "start_time": "2021-12-02T12:12:55.711946",
     "status": "completed"
    },
    "tags": []
   },
   "outputs": [],
   "source": [
    "#hide\n",
    "#delete problematic countries from table\n",
    "df_table = df_table[~df_table['Country/Region'].isin(['Cape Verde', 'Cruise Ship', 'Kosovo'])]"
   ]
  },
  {
   "cell_type": "code",
   "execution_count": 17,
   "id": "related-center",
   "metadata": {
    "execution": {
     "iopub.execute_input": "2021-12-02T12:12:55.824312Z",
     "iopub.status.busy": "2021-12-02T12:12:55.823770Z",
     "iopub.status.idle": "2021-12-02T12:12:55.835967Z",
     "shell.execute_reply": "2021-12-02T12:12:55.836408Z"
    },
    "papermill": {
     "duration": 0.052349,
     "end_time": "2021-12-02T12:12:55.836532",
     "exception": false,
     "start_time": "2021-12-02T12:12:55.784183",
     "status": "completed"
    },
    "tags": []
   },
   "outputs": [],
   "source": [
    "#hide\n",
    "metrics = [df_table.columns[index] for index in [1,2,5,6]]\n",
    "# s_china = df_table[df_table['Country/Region'].eq('China')][metrics].sum().add_prefix('China ')\n",
    "s_us = df_table[df_table['Country/Region'].eq('US')][metrics].sum().add_prefix('US ')\n",
    "s_eu = df_table[df_table['Continent'].eq('Europe')][metrics].sum().add_prefix('EU ')\n",
    "s_ind = df_table[df_table['Country/Region'].eq('India')][metrics].sum().add_prefix('India ')\n",
    "summary = {'updated': pd.to_datetime(dt_today), 'since': pd.to_datetime(dt_yday)}\n",
    "summary = {'updated': pd.to_datetime(dt_today), 'since': pd.to_datetime(dt_yday)}\n",
    "summary = {**summary, **df_table[metrics].sum(), **s_ind, **s_us, **s_eu}"
   ]
  },
  {
   "cell_type": "code",
   "execution_count": 18,
   "id": "engaging-syndrome",
   "metadata": {
    "execution": {
     "iopub.execute_input": "2021-12-02T12:12:55.906071Z",
     "iopub.status.busy": "2021-12-02T12:12:55.905454Z",
     "iopub.status.idle": "2021-12-02T12:12:55.921445Z",
     "shell.execute_reply": "2021-12-02T12:12:55.921000Z"
    },
    "papermill": {
     "duration": 0.053238,
     "end_time": "2021-12-02T12:12:55.921557",
     "exception": false,
     "start_time": "2021-12-02T12:12:55.868319",
     "status": "completed"
    },
    "tags": []
   },
   "outputs": [],
   "source": [
    "#hide\n",
    "dft_ct_new_cases = dft_cases.groupby(COL_REGION)[dt_cols].sum().diff(axis=1).fillna(0).astype(int)"
   ]
  },
  {
   "cell_type": "code",
   "execution_count": 19,
   "id": "neutral-assignment",
   "metadata": {
    "execution": {
     "iopub.execute_input": "2021-12-02T12:12:55.992471Z",
     "iopub.status.busy": "2021-12-02T12:12:55.991995Z",
     "iopub.status.idle": "2021-12-02T12:12:55.994316Z",
     "shell.execute_reply": "2021-12-02T12:12:55.994839Z"
    },
    "papermill": {
     "duration": 0.03957,
     "end_time": "2021-12-02T12:12:55.994964",
     "exception": false,
     "start_time": "2021-12-02T12:12:55.955394",
     "status": "completed"
    },
    "tags": []
   },
   "outputs": [],
   "source": [
    "#hide\n",
    "everydaycases = dft_ct_new_cases.cumsum(axis=1)"
   ]
  },
  {
   "cell_type": "code",
   "execution_count": 20,
   "id": "parliamentary-calgary",
   "metadata": {
    "execution": {
     "iopub.execute_input": "2021-12-02T12:12:56.065429Z",
     "iopub.status.busy": "2021-12-02T12:12:56.064840Z",
     "iopub.status.idle": "2021-12-02T12:12:56.788734Z",
     "shell.execute_reply": "2021-12-02T12:12:56.788137Z"
    },
    "papermill": {
     "duration": 0.762076,
     "end_time": "2021-12-02T12:12:56.788879",
     "exception": false,
     "start_time": "2021-12-02T12:12:56.026803",
     "status": "completed"
    },
    "tags": []
   },
   "outputs": [],
   "source": [
    "#hide\n",
    "import pandas as pd\n",
    "import matplotlib.pyplot as plt\n",
    "import matplotlib.ticker as ticker\n",
    "import matplotlib.animation as animation\n",
    "from IPython.display import HTML"
   ]
  },
  {
   "cell_type": "code",
   "execution_count": 21,
   "id": "lasting-extraction",
   "metadata": {
    "execution": {
     "iopub.execute_input": "2021-12-02T12:12:56.866222Z",
     "iopub.status.busy": "2021-12-02T12:12:56.865636Z",
     "iopub.status.idle": "2021-12-02T12:12:56.884801Z",
     "shell.execute_reply": "2021-12-02T12:12:56.885249Z"
    },
    "papermill": {
     "duration": 0.060175,
     "end_time": "2021-12-02T12:12:56.885390",
     "exception": false,
     "start_time": "2021-12-02T12:12:56.825215",
     "status": "completed"
    },
    "tags": []
   },
   "outputs": [],
   "source": [
    "#hide\n",
    "t = everydaycases.stack()"
   ]
  },
  {
   "cell_type": "code",
   "execution_count": 22,
   "id": "premier-sleeve",
   "metadata": {
    "execution": {
     "iopub.execute_input": "2021-12-02T12:12:56.958851Z",
     "iopub.status.busy": "2021-12-02T12:12:56.958228Z",
     "iopub.status.idle": "2021-12-02T12:12:56.967746Z",
     "shell.execute_reply": "2021-12-02T12:12:56.968460Z"
    },
    "papermill": {
     "duration": 0.047377,
     "end_time": "2021-12-02T12:12:56.968613",
     "exception": false,
     "start_time": "2021-12-02T12:12:56.921236",
     "status": "completed"
    },
    "tags": []
   },
   "outputs": [],
   "source": [
    "#hide\n",
    "g = t.reset_index(['Country/Region'])"
   ]
  },
  {
   "cell_type": "code",
   "execution_count": 23,
   "id": "distributed-pittsburgh",
   "metadata": {
    "execution": {
     "iopub.execute_input": "2021-12-02T12:12:57.042187Z",
     "iopub.status.busy": "2021-12-02T12:12:57.041546Z",
     "iopub.status.idle": "2021-12-02T12:12:57.044894Z",
     "shell.execute_reply": "2021-12-02T12:12:57.044427Z"
    },
    "papermill": {
     "duration": 0.042704,
     "end_time": "2021-12-02T12:12:57.045017",
     "exception": false,
     "start_time": "2021-12-02T12:12:57.002313",
     "status": "completed"
    },
    "tags": []
   },
   "outputs": [],
   "source": [
    "#hide\n",
    "g.index.name = 'date'"
   ]
  },
  {
   "cell_type": "code",
   "execution_count": 24,
   "id": "naked-donor",
   "metadata": {
    "execution": {
     "iopub.execute_input": "2021-12-02T12:12:57.117560Z",
     "iopub.status.busy": "2021-12-02T12:12:57.116845Z",
     "iopub.status.idle": "2021-12-02T12:12:57.121137Z",
     "shell.execute_reply": "2021-12-02T12:12:57.120692Z"
    },
    "papermill": {
     "duration": 0.041054,
     "end_time": "2021-12-02T12:12:57.121252",
     "exception": false,
     "start_time": "2021-12-02T12:12:57.080198",
     "status": "completed"
    },
    "tags": []
   },
   "outputs": [],
   "source": [
    "# #hide\n",
    "# g = g.reset_index(['date'])"
   ]
  },
  {
   "cell_type": "code",
   "execution_count": 25,
   "id": "incomplete-mustang",
   "metadata": {
    "execution": {
     "iopub.execute_input": "2021-12-02T12:12:57.191340Z",
     "iopub.status.busy": "2021-12-02T12:12:57.190730Z",
     "iopub.status.idle": "2021-12-02T12:12:57.192401Z",
     "shell.execute_reply": "2021-12-02T12:12:57.192859Z"
    },
    "papermill": {
     "duration": 0.039889,
     "end_time": "2021-12-02T12:12:57.193002",
     "exception": false,
     "start_time": "2021-12-02T12:12:57.153113",
     "status": "completed"
    },
    "tags": []
   },
   "outputs": [],
   "source": [
    "#hide\n",
    "# g.head()"
   ]
  },
  {
   "cell_type": "code",
   "execution_count": 26,
   "id": "specific-kruger",
   "metadata": {
    "execution": {
     "iopub.execute_input": "2021-12-02T12:12:57.261941Z",
     "iopub.status.busy": "2021-12-02T12:12:57.261292Z",
     "iopub.status.idle": "2021-12-02T12:12:57.264836Z",
     "shell.execute_reply": "2021-12-02T12:12:57.264401Z"
    },
    "papermill": {
     "duration": 0.039069,
     "end_time": "2021-12-02T12:12:57.264948",
     "exception": false,
     "start_time": "2021-12-02T12:12:57.225879",
     "status": "completed"
    },
    "tags": []
   },
   "outputs": [],
   "source": [
    "#hide\n",
    "# g.columns = ['date','country','cases']"
   ]
  },
  {
   "cell_type": "code",
   "execution_count": 27,
   "id": "tender-conversion",
   "metadata": {
    "execution": {
     "iopub.execute_input": "2021-12-02T12:12:57.334980Z",
     "iopub.status.busy": "2021-12-02T12:12:57.334321Z",
     "iopub.status.idle": "2021-12-02T12:12:57.335735Z",
     "shell.execute_reply": "2021-12-02T12:12:57.336350Z"
    },
    "papermill": {
     "duration": 0.038277,
     "end_time": "2021-12-02T12:12:57.336497",
     "exception": false,
     "start_time": "2021-12-02T12:12:57.298220",
     "status": "completed"
    },
    "tags": []
   },
   "outputs": [],
   "source": [
    "#hide\n",
    "# g['continent'] = g.country"
   ]
  },
  {
   "cell_type": "code",
   "execution_count": 28,
   "id": "substantial-wilderness",
   "metadata": {
    "execution": {
     "iopub.execute_input": "2021-12-02T12:12:57.408121Z",
     "iopub.status.busy": "2021-12-02T12:12:57.407423Z",
     "iopub.status.idle": "2021-12-02T12:12:57.411545Z",
     "shell.execute_reply": "2021-12-02T12:12:57.412071Z"
    },
    "papermill": {
     "duration": 0.041964,
     "end_time": "2021-12-02T12:12:57.412230",
     "exception": false,
     "start_time": "2021-12-02T12:12:57.370266",
     "status": "completed"
    },
    "tags": []
   },
   "outputs": [],
   "source": [
    "#hide\n",
    "# cols = list(g.columns.values)"
   ]
  },
  {
   "cell_type": "code",
   "execution_count": 29,
   "id": "solved-farming",
   "metadata": {
    "execution": {
     "iopub.execute_input": "2021-12-02T12:12:57.480444Z",
     "iopub.status.busy": "2021-12-02T12:12:57.479900Z",
     "iopub.status.idle": "2021-12-02T12:12:57.482660Z",
     "shell.execute_reply": "2021-12-02T12:12:57.482213Z"
    },
    "papermill": {
     "duration": 0.037183,
     "end_time": "2021-12-02T12:12:57.482774",
     "exception": false,
     "start_time": "2021-12-02T12:12:57.445591",
     "status": "completed"
    },
    "tags": []
   },
   "outputs": [],
   "source": [
    "#hide\n",
    "# cols.insert(0, cols.pop())"
   ]
  },
  {
   "cell_type": "code",
   "execution_count": 30,
   "id": "executed-adoption",
   "metadata": {
    "execution": {
     "iopub.execute_input": "2021-12-02T12:12:57.550703Z",
     "iopub.status.busy": "2021-12-02T12:12:57.550001Z",
     "iopub.status.idle": "2021-12-02T12:12:57.552065Z",
     "shell.execute_reply": "2021-12-02T12:12:57.551411Z"
    },
    "papermill": {
     "duration": 0.037194,
     "end_time": "2021-12-02T12:12:57.552193",
     "exception": false,
     "start_time": "2021-12-02T12:12:57.514999",
     "status": "completed"
    },
    "tags": []
   },
   "outputs": [],
   "source": [
    "#hide\n",
    "# g = g[cols]"
   ]
  },
  {
   "cell_type": "code",
   "execution_count": 31,
   "id": "subject-dublin",
   "metadata": {
    "execution": {
     "iopub.execute_input": "2021-12-02T12:12:57.622700Z",
     "iopub.status.busy": "2021-12-02T12:12:57.622000Z",
     "iopub.status.idle": "2021-12-02T12:12:57.625034Z",
     "shell.execute_reply": "2021-12-02T12:12:57.624332Z"
    },
    "papermill": {
     "duration": 0.039515,
     "end_time": "2021-12-02T12:12:57.625178",
     "exception": false,
     "start_time": "2021-12-02T12:12:57.585663",
     "status": "completed"
    },
    "tags": []
   },
   "outputs": [],
   "source": [
    "#hide\n",
    "# g['continent'] = g['continent'].map(mapping['map.continent'])"
   ]
  },
  {
   "cell_type": "code",
   "execution_count": 32,
   "id": "freelance-scout",
   "metadata": {
    "execution": {
     "iopub.execute_input": "2021-12-02T12:12:57.698387Z",
     "iopub.status.busy": "2021-12-02T12:12:57.697713Z",
     "iopub.status.idle": "2021-12-02T12:12:57.700772Z",
     "shell.execute_reply": "2021-12-02T12:12:57.700296Z"
    },
    "papermill": {
     "duration": 0.039275,
     "end_time": "2021-12-02T12:12:57.700881",
     "exception": false,
     "start_time": "2021-12-02T12:12:57.661606",
     "status": "completed"
    },
    "tags": []
   },
   "outputs": [],
   "source": [
    "#hide\n",
    "# g.head()"
   ]
  },
  {
   "cell_type": "code",
   "execution_count": 33,
   "id": "limited-engine",
   "metadata": {
    "execution": {
     "iopub.execute_input": "2021-12-02T12:12:57.771696Z",
     "iopub.status.busy": "2021-12-02T12:12:57.771035Z",
     "iopub.status.idle": "2021-12-02T12:12:57.772927Z",
     "shell.execute_reply": "2021-12-02T12:12:57.773401Z"
    },
    "papermill": {
     "duration": 0.040104,
     "end_time": "2021-12-02T12:12:57.773549",
     "exception": false,
     "start_time": "2021-12-02T12:12:57.733445",
     "status": "completed"
    },
    "tags": []
   },
   "outputs": [],
   "source": [
    "# hide\n",
    "# g['date'] = g['date'].astype('datetime64[ns]')"
   ]
  },
  {
   "cell_type": "code",
   "execution_count": 34,
   "id": "sophisticated-supervisor",
   "metadata": {
    "execution": {
     "iopub.execute_input": "2021-12-02T12:12:57.846260Z",
     "iopub.status.busy": "2021-12-02T12:12:57.845514Z",
     "iopub.status.idle": "2021-12-02T12:12:57.848679Z",
     "shell.execute_reply": "2021-12-02T12:12:57.849199Z"
    },
    "papermill": {
     "duration": 0.0416,
     "end_time": "2021-12-02T12:12:57.849359",
     "exception": false,
     "start_time": "2021-12-02T12:12:57.807759",
     "status": "completed"
    },
    "tags": []
   },
   "outputs": [],
   "source": [
    "#hide\n",
    "# g['date'] = g.date.dt.dayofyear"
   ]
  },
  {
   "cell_type": "code",
   "execution_count": 35,
   "id": "inside-dubai",
   "metadata": {
    "execution": {
     "iopub.execute_input": "2021-12-02T12:12:57.920010Z",
     "iopub.status.busy": "2021-12-02T12:12:57.919311Z",
     "iopub.status.idle": "2021-12-02T12:12:57.920905Z",
     "shell.execute_reply": "2021-12-02T12:12:57.921405Z"
    },
    "papermill": {
     "duration": 0.037713,
     "end_time": "2021-12-02T12:12:57.921540",
     "exception": false,
     "start_time": "2021-12-02T12:12:57.883827",
     "status": "completed"
    },
    "tags": []
   },
   "outputs": [],
   "source": [
    "#hide\n",
    "# g = g.rename(columns= {'continent':'group','country':'name','cases':'value'})"
   ]
  },
  {
   "cell_type": "code",
   "execution_count": 36,
   "id": "fleet-motorcycle",
   "metadata": {
    "execution": {
     "iopub.execute_input": "2021-12-02T12:12:57.990617Z",
     "iopub.status.busy": "2021-12-02T12:12:57.989915Z",
     "iopub.status.idle": "2021-12-02T12:12:57.992508Z",
     "shell.execute_reply": "2021-12-02T12:12:57.992102Z"
    },
    "papermill": {
     "duration": 0.039166,
     "end_time": "2021-12-02T12:12:57.992625",
     "exception": false,
     "start_time": "2021-12-02T12:12:57.953459",
     "status": "completed"
    },
    "tags": []
   },
   "outputs": [],
   "source": [
    "#hide\n",
    "# cols = ['name','group','day','value']"
   ]
  },
  {
   "cell_type": "code",
   "execution_count": 37,
   "id": "continued-sleeping",
   "metadata": {
    "execution": {
     "iopub.execute_input": "2021-12-02T12:12:58.058290Z",
     "iopub.status.busy": "2021-12-02T12:12:58.057551Z",
     "iopub.status.idle": "2021-12-02T12:12:58.061117Z",
     "shell.execute_reply": "2021-12-02T12:12:58.060531Z"
    },
    "papermill": {
     "duration": 0.03645,
     "end_time": "2021-12-02T12:12:58.061249",
     "exception": false,
     "start_time": "2021-12-02T12:12:58.024799",
     "status": "completed"
    },
    "tags": []
   },
   "outputs": [],
   "source": [
    "#hide\n",
    "# g.rename(columns= {'date':'day'},inplace = True)"
   ]
  },
  {
   "cell_type": "code",
   "execution_count": 38,
   "id": "major-fight",
   "metadata": {
    "execution": {
     "iopub.execute_input": "2021-12-02T12:12:58.132651Z",
     "iopub.status.busy": "2021-12-02T12:12:58.132108Z",
     "iopub.status.idle": "2021-12-02T12:12:58.134255Z",
     "shell.execute_reply": "2021-12-02T12:12:58.134687Z"
    },
    "papermill": {
     "duration": 0.039433,
     "end_time": "2021-12-02T12:12:58.134809",
     "exception": false,
     "start_time": "2021-12-02T12:12:58.095376",
     "status": "completed"
    },
    "tags": []
   },
   "outputs": [],
   "source": [
    "#hide\n",
    "# g = g[cols]"
   ]
  },
  {
   "cell_type": "code",
   "execution_count": 39,
   "id": "structured-mobile",
   "metadata": {
    "execution": {
     "iopub.execute_input": "2021-12-02T12:12:58.198891Z",
     "iopub.status.busy": "2021-12-02T12:12:58.198234Z",
     "iopub.status.idle": "2021-12-02T12:12:58.203175Z",
     "shell.execute_reply": "2021-12-02T12:12:58.202500Z"
    },
    "papermill": {
     "duration": 0.038495,
     "end_time": "2021-12-02T12:12:58.203301",
     "exception": false,
     "start_time": "2021-12-02T12:12:58.164806",
     "status": "completed"
    },
    "tags": []
   },
   "outputs": [],
   "source": [
    "# #hide\n",
    "# g = g[g.group.notna()]"
   ]
  },
  {
   "cell_type": "code",
   "execution_count": 40,
   "id": "determined-closing",
   "metadata": {
    "execution": {
     "iopub.execute_input": "2021-12-02T12:12:58.271552Z",
     "iopub.status.busy": "2021-12-02T12:12:58.270776Z",
     "iopub.status.idle": "2021-12-02T12:12:58.274967Z",
     "shell.execute_reply": "2021-12-02T12:12:58.275380Z"
    },
    "papermill": {
     "duration": 0.03999,
     "end_time": "2021-12-02T12:12:58.275503",
     "exception": false,
     "start_time": "2021-12-02T12:12:58.235513",
     "status": "completed"
    },
    "tags": []
   },
   "outputs": [],
   "source": [
    "# #hide\n",
    "# colors = dict(zip(\n",
    "#     [\"Oceania\", \"Europe\", \"Asia\", \"South America\", \"Middle East\", \"North America\", \"Africa\"],\n",
    "#     [\"#adb0ff\", \"#ffb3ff\", \"#90d595\", \"#e48381\", \"#aafbff\", \"#f7bb5f\", \"#eafb50\"]\n",
    "# ))\n",
    "# group_lk = g.set_index('name')['group'].to_dict()"
   ]
  },
  {
   "cell_type": "code",
   "execution_count": null,
   "id": "gross-drinking",
   "metadata": {
    "papermill": {
     "duration": 0.030571,
     "end_time": "2021-12-02T12:12:58.337630",
     "exception": false,
     "start_time": "2021-12-02T12:12:58.307059",
     "status": "completed"
    },
    "tags": []
   },
   "outputs": [],
   "source": []
  },
  {
   "cell_type": "code",
   "execution_count": 41,
   "id": "subject-macintosh",
   "metadata": {
    "execution": {
     "iopub.execute_input": "2021-12-02T12:12:58.406495Z",
     "iopub.status.busy": "2021-12-02T12:12:58.405704Z",
     "iopub.status.idle": "2021-12-02T12:12:58.407847Z",
     "shell.execute_reply": "2021-12-02T12:12:58.407271Z"
    },
    "papermill": {
     "duration": 0.039096,
     "end_time": "2021-12-02T12:12:58.407991",
     "exception": false,
     "start_time": "2021-12-02T12:12:58.368895",
     "status": "completed"
    },
    "tags": []
   },
   "outputs": [],
   "source": [
    "# #hide\n",
    "# fig, ax = plt.subplots(figsize=(15, 8))\n",
    "\n",
    "# def draw_barchart(current_day):\n",
    "#     dff = g[g['day'].eq(current_day)].sort_values(by='value', ascending=True).tail(10)\n",
    "#     ax.clear()\n",
    "#     ax.barh(dff['name'], dff['value'], color=[colors[group_lk[x]] for x in dff['name']])\n",
    "#     dx = dff['value'].max() / 200\n",
    "    \n",
    "#     for i, (value, name) in enumerate(zip(dff['value'], dff['name'])):\n",
    "#         ax.text(value-dx, i,     name,           size=14, weight=600, ha='right', va='bottom')\n",
    "#         ax.text(value-dx, i-.25, group_lk[name], size=10, color='#444444', ha='right', va='baseline')\n",
    "#         ax.text(value+dx, i,     f'{value:,.0f}',  size=14, ha='left',  va='center')\n",
    "#     ax.text(1, 0.4, current_day, transform=ax.transAxes, color='#777777', size=46, ha='right', weight=800)\n",
    "#     ax.text(0, 1.06, 'Population (thousands)', transform=ax.transAxes, size=12, color='#777777')\n",
    "#     ax.xaxis.set_major_formatter(ticker.StrMethodFormatter('{x:,.0f}'))\n",
    "#     ax.xaxis.set_ticks_position('top')\n",
    "#     ax.tick_params(axis='x', colors='#777777', labelsize=12)\n",
    "#     ax.set_yticks([])\n",
    "#     ax.margins(0, 0.01)\n",
    "#     ax.grid(which='major', axis='x', linestyle='-')\n",
    "#     ax.set_axisbelow(True)\n",
    "    \n",
    "#     ax.text(0, 1.15, 'Coronavirus',\n",
    "#             transform=ax.transAxes, size=24, weight=600, ha='left', va='top')\n",
    "# #     ax.text(1, 0, 'by @pratapvardhan; credit @jburnmurdoch', transform=ax.transAxes, color='#777777', ha='right',\n",
    "# #             bbox=dict(facecolor='white', alpha=0.8, edgecolor='white'))\n",
    "#     plt.box(False)"
   ]
  },
  {
   "cell_type": "code",
   "execution_count": 42,
   "id": "sexual-wages",
   "metadata": {
    "execution": {
     "iopub.execute_input": "2021-12-02T12:12:58.474676Z",
     "iopub.status.busy": "2021-12-02T12:12:58.473965Z",
     "iopub.status.idle": "2021-12-02T12:12:58.477091Z",
     "shell.execute_reply": "2021-12-02T12:12:58.476539Z"
    },
    "papermill": {
     "duration": 0.037965,
     "end_time": "2021-12-02T12:12:58.477232",
     "exception": false,
     "start_time": "2021-12-02T12:12:58.439267",
     "status": "completed"
    },
    "tags": []
   },
   "outputs": [],
   "source": [
    "# #hide_input\n",
    "# fig, ax = plt.subplots(figsize=(15, 8))\n",
    "# animator = animation.FuncAnimation(fig, draw_barchart, frames=range(g.day.values.min(), g.day.values.max()))\n",
    "# HTML(animator.to_jshtml())\n",
    "# # or use animator.to_html5_video() or animator.save() "
   ]
  },
  {
   "cell_type": "code",
   "execution_count": null,
   "id": "australian-container",
   "metadata": {
    "papermill": {
     "duration": 0.03141,
     "end_time": "2021-12-02T12:12:58.542891",
     "exception": false,
     "start_time": "2021-12-02T12:12:58.511481",
     "status": "completed"
    },
    "tags": []
   },
   "outputs": [],
   "source": []
  },
  {
   "cell_type": "code",
   "execution_count": null,
   "id": "mediterranean-pontiac",
   "metadata": {
    "papermill": {
     "duration": 0.032446,
     "end_time": "2021-12-02T12:12:58.606382",
     "exception": false,
     "start_time": "2021-12-02T12:12:58.573936",
     "status": "completed"
    },
    "tags": []
   },
   "outputs": [],
   "source": []
  },
  {
   "cell_type": "code",
   "execution_count": null,
   "id": "aging-legislature",
   "metadata": {
    "papermill": {
     "duration": 0.031707,
     "end_time": "2021-12-02T12:12:58.670697",
     "exception": false,
     "start_time": "2021-12-02T12:12:58.638990",
     "status": "completed"
    },
    "tags": []
   },
   "outputs": [],
   "source": []
  }
 ],
 "metadata": {
  "kernelspec": {
   "display_name": "Python 3",
   "language": "python",
   "name": "python3"
  },
  "language_info": {
   "codemirror_mode": {
    "name": "ipython",
    "version": 3
   },
   "file_extension": ".py",
   "mimetype": "text/x-python",
   "name": "python",
   "nbconvert_exporter": "python",
   "pygments_lexer": "ipython3",
   "version": "3.6.15"
  },
  "papermill": {
   "duration": 6.883244,
   "end_time": "2021-12-02T12:12:59.011269",
   "environment_variables": {},
   "exception": null,
   "input_path": "2020-03-21-covid19exp.ipynb",
   "output_path": "2020-03-21-covid19exp.ipynb",
   "parameters": {},
   "start_time": "2021-12-02T12:12:52.128025",
   "version": "2.0.0"
  }
 },
 "nbformat": 4,
 "nbformat_minor": 5
}