{
 "cells": [
  {
   "cell_type": "markdown",
   "id": "muslim-click",
   "metadata": {
    "papermill": {
     "duration": 0.035597,
     "end_time": "2021-12-26T12:12:39.647796",
     "exception": false,
     "start_time": "2021-12-26T12:12:39.612199",
     "status": "completed"
    },
    "tags": []
   },
   "source": [
    "# COVID-19 Case Race\n",
    "> A race chart to see rising cases around the world\n",
    "\n",
    "- author: Hargun Oberoi\n",
    "- image: images/covid-overview.png\n",
    "- hide: false\n",
    "- badges: false"
   ]
  },
  {
   "cell_type": "code",
   "execution_count": 1,
   "id": "proof-material",
   "metadata": {
    "execution": {
     "iopub.execute_input": "2021-12-26T12:12:39.725051Z",
     "iopub.status.busy": "2021-12-26T12:12:39.724402Z",
     "iopub.status.idle": "2021-12-26T12:12:40.081393Z",
     "shell.execute_reply": "2021-12-26T12:12:40.081993Z"
    },
    "papermill": {
     "duration": 0.402546,
     "end_time": "2021-12-26T12:12:40.082195",
     "exception": false,
     "start_time": "2021-12-26T12:12:39.679649",
     "status": "completed"
    },
    "tags": []
   },
   "outputs": [],
   "source": [
    "#hide\n",
    "import numpy as np\n",
    "import pandas as pd\n",
    "from jinja2 import Template\n",
    "from IPython.display import HTML"
   ]
  },
  {
   "cell_type": "code",
   "execution_count": 2,
   "id": "developed-terminology",
   "metadata": {
    "execution": {
     "iopub.execute_input": "2021-12-26T12:12:40.156684Z",
     "iopub.status.busy": "2021-12-26T12:12:40.155985Z",
     "iopub.status.idle": "2021-12-26T12:12:40.158665Z",
     "shell.execute_reply": "2021-12-26T12:12:40.158200Z"
    },
    "papermill": {
     "duration": 0.042119,
     "end_time": "2021-12-26T12:12:40.158796",
     "exception": false,
     "start_time": "2021-12-26T12:12:40.116677",
     "status": "completed"
    },
    "tags": []
   },
   "outputs": [],
   "source": [
    "#hide\n",
    "\n",
    "# FETCH\n",
    "base_url = 'https://raw.githubusercontent.com/pratapvardhan/notebooks/master/covid19/'\n",
    "paths = {\n",
    "    'mapping': base_url + 'mapping_countries.csv',\n",
    "    'overview': base_url + 'overview.tpl'\n",
    "}"
   ]
  },
  {
   "cell_type": "code",
   "execution_count": 3,
   "id": "dynamic-saver",
   "metadata": {
    "execution": {
     "iopub.execute_input": "2021-12-26T12:12:40.236048Z",
     "iopub.status.busy": "2021-12-26T12:12:40.234004Z",
     "iopub.status.idle": "2021-12-26T12:12:40.239572Z",
     "shell.execute_reply": "2021-12-26T12:12:40.239016Z"
    },
    "papermill": {
     "duration": 0.046538,
     "end_time": "2021-12-26T12:12:40.239700",
     "exception": false,
     "start_time": "2021-12-26T12:12:40.193162",
     "status": "completed"
    },
    "tags": []
   },
   "outputs": [
    {
     "data": {
      "text/plain": [
       "'https://raw.githubusercontent.com/pratapvardhan/notebooks/master/covid19/mapping_countries.csv'"
      ]
     },
     "execution_count": 3,
     "metadata": {},
     "output_type": "execute_result"
    }
   ],
   "source": [
    "#hide\n",
    "paths['mapping']"
   ]
  },
  {
   "cell_type": "code",
   "execution_count": 4,
   "id": "urban-software",
   "metadata": {
    "execution": {
     "iopub.execute_input": "2021-12-26T12:12:40.314734Z",
     "iopub.status.busy": "2021-12-26T12:12:40.314097Z",
     "iopub.status.idle": "2021-12-26T12:12:40.317168Z",
     "shell.execute_reply": "2021-12-26T12:12:40.316637Z"
    },
    "papermill": {
     "duration": 0.0426,
     "end_time": "2021-12-26T12:12:40.317269",
     "exception": false,
     "start_time": "2021-12-26T12:12:40.274669",
     "status": "completed"
    },
    "tags": []
   },
   "outputs": [],
   "source": [
    "#hide\n",
    "def get_mappings(url):\n",
    "    df = pd.read_csv(url)\n",
    "    return {\n",
    "        'df': df,\n",
    "        'replace.country': dict(df.dropna(subset=['Name']).set_index('Country')['Name']),\n",
    "        'map.continent': dict(df.set_index('Name')['Continent'])\n",
    "    }"
   ]
  },
  {
   "cell_type": "code",
   "execution_count": 5,
   "id": "intimate-machinery",
   "metadata": {
    "execution": {
     "iopub.execute_input": "2021-12-26T12:12:40.394819Z",
     "iopub.status.busy": "2021-12-26T12:12:40.394181Z",
     "iopub.status.idle": "2021-12-26T12:12:40.438625Z",
     "shell.execute_reply": "2021-12-26T12:12:40.438162Z"
    },
    "papermill": {
     "duration": 0.087689,
     "end_time": "2021-12-26T12:12:40.438745",
     "exception": false,
     "start_time": "2021-12-26T12:12:40.351056",
     "status": "completed"
    },
    "tags": []
   },
   "outputs": [],
   "source": [
    "#hide\n",
    "mapping = get_mappings(paths['mapping'])"
   ]
  },
  {
   "cell_type": "code",
   "execution_count": 6,
   "id": "certified-tactics",
   "metadata": {
    "execution": {
     "iopub.execute_input": "2021-12-26T12:12:40.515738Z",
     "iopub.status.busy": "2021-12-26T12:12:40.515018Z",
     "iopub.status.idle": "2021-12-26T12:12:40.519126Z",
     "shell.execute_reply": "2021-12-26T12:12:40.519623Z"
    },
    "papermill": {
     "duration": 0.046389,
     "end_time": "2021-12-26T12:12:40.519808",
     "exception": false,
     "start_time": "2021-12-26T12:12:40.473419",
     "status": "completed"
    },
    "tags": []
   },
   "outputs": [],
   "source": [
    "#hide\n",
    "def get_template(path):\n",
    "    from urllib.parse import urlparse\n",
    "    if bool(urlparse(path).netloc):\n",
    "        from urllib.request import urlopen\n",
    "        return urlopen(path).read().decode('utf8')\n",
    "    return open(path).read()"
   ]
  },
  {
   "cell_type": "code",
   "execution_count": 7,
   "id": "realistic-blast",
   "metadata": {
    "execution": {
     "iopub.execute_input": "2021-12-26T12:12:40.591970Z",
     "iopub.status.busy": "2021-12-26T12:12:40.591248Z",
     "iopub.status.idle": "2021-12-26T12:12:40.595218Z",
     "shell.execute_reply": "2021-12-26T12:12:40.595626Z"
    },
    "papermill": {
     "duration": 0.042667,
     "end_time": "2021-12-26T12:12:40.595748",
     "exception": false,
     "start_time": "2021-12-26T12:12:40.553081",
     "status": "completed"
    },
    "tags": []
   },
   "outputs": [],
   "source": [
    "#hide\n",
    "def get_frame(name):\n",
    "    url = (\n",
    "        'https://raw.githubusercontent.com/CSSEGISandData/COVID-19/master/csse_covid_19_data/'\n",
    "        f'csse_covid_19_time_series/time_series_covid19_{name}_global.csv')\n",
    "    df = pd.read_csv(url)\n",
    "    # rename countries\n",
    "    df['Country/Region'] = df['Country/Region'].replace(mapping['replace.country'])\n",
    "    return df"
   ]
  },
  {
   "cell_type": "code",
   "execution_count": 8,
   "id": "affiliated-characterization",
   "metadata": {
    "execution": {
     "iopub.execute_input": "2021-12-26T12:12:40.666889Z",
     "iopub.status.busy": "2021-12-26T12:12:40.666349Z",
     "iopub.status.idle": "2021-12-26T12:12:40.668504Z",
     "shell.execute_reply": "2021-12-26T12:12:40.669070Z"
    },
    "papermill": {
     "duration": 0.041967,
     "end_time": "2021-12-26T12:12:40.669260",
     "exception": false,
     "start_time": "2021-12-26T12:12:40.627293",
     "status": "completed"
    },
    "tags": []
   },
   "outputs": [],
   "source": [
    "#hide\n",
    "def get_dates(df):\n",
    "    dt_cols = df.columns[~df.columns.isin(['Province/State', 'Country/Region', 'Lat', 'Long'])]\n",
    "    LAST_DATE_I = -1\n",
    "    # sometimes last column may be empty, then go backwards\n",
    "    for i in range(-1, -len(dt_cols), -1):\n",
    "        if not df[dt_cols[i]].fillna(0).eq(0).all():\n",
    "            LAST_DATE_I = i\n",
    "            break\n",
    "    return LAST_DATE_I, dt_cols"
   ]
  },
  {
   "cell_type": "code",
   "execution_count": 9,
   "id": "recent-optimization",
   "metadata": {
    "execution": {
     "iopub.execute_input": "2021-12-26T12:12:40.742056Z",
     "iopub.status.busy": "2021-12-26T12:12:40.741176Z",
     "iopub.status.idle": "2021-12-26T12:12:41.159055Z",
     "shell.execute_reply": "2021-12-26T12:12:41.159632Z"
    },
    "papermill": {
     "duration": 0.456002,
     "end_time": "2021-12-26T12:12:41.159779",
     "exception": false,
     "start_time": "2021-12-26T12:12:40.703777",
     "status": "completed"
    },
    "tags": []
   },
   "outputs": [],
   "source": [
    "#hide\n",
    "COL_REGION = 'Country/Region'\n",
    "# Confirmed, Recovered, Deaths\n",
    "df = get_frame('confirmed')\n",
    "# dft_: timeseries, dfc_: today country agg\n",
    "dft_cases = df\n",
    "dft_deaths = get_frame('deaths')\n",
    "dft_recovered = get_frame('recovered')\n",
    "LAST_DATE_I, dt_cols = get_dates(df)"
   ]
  },
  {
   "cell_type": "code",
   "execution_count": 10,
   "id": "absolute-copper",
   "metadata": {
    "execution": {
     "iopub.execute_input": "2021-12-26T12:12:41.231252Z",
     "iopub.status.busy": "2021-12-26T12:12:41.230583Z",
     "iopub.status.idle": "2021-12-26T12:12:41.232948Z",
     "shell.execute_reply": "2021-12-26T12:12:41.233434Z"
    },
    "papermill": {
     "duration": 0.038801,
     "end_time": "2021-12-26T12:12:41.233545",
     "exception": false,
     "start_time": "2021-12-26T12:12:41.194744",
     "status": "completed"
    },
    "tags": []
   },
   "outputs": [],
   "source": [
    "#hide\n",
    "LAST_DATE_I, dt_cols = get_dates(df)\n",
    "dt_today =dt_cols[LAST_DATE_I]\n",
    "# dt_5day = dt_cols[LAST_DATE_I - 5]\n",
    "dt_yday = dt_cols[LAST_DATE_I - 1]"
   ]
  },
  {
   "cell_type": "code",
   "execution_count": 11,
   "id": "restricted-sheriff",
   "metadata": {
    "execution": {
     "iopub.execute_input": "2021-12-26T12:12:41.307782Z",
     "iopub.status.busy": "2021-12-26T12:12:41.307220Z",
     "iopub.status.idle": "2021-12-26T12:12:41.312382Z",
     "shell.execute_reply": "2021-12-26T12:12:41.312927Z"
    },
    "papermill": {
     "duration": 0.046791,
     "end_time": "2021-12-26T12:12:41.313039",
     "exception": false,
     "start_time": "2021-12-26T12:12:41.266248",
     "status": "completed"
    },
    "tags": []
   },
   "outputs": [],
   "source": [
    "#hide\n",
    "dfc_cases = dft_cases.groupby(COL_REGION)[dt_today].sum()\n",
    "dfc_deaths = dft_deaths.groupby(COL_REGION)[dt_today].sum()\n",
    "# dfp_cases = dft_cases.groupby(COL_REGION)[dt_5day].sum()\n",
    "# dfp_deaths = dft_deaths.groupby(COL_REGION)[dt_5day].sum()\n",
    "dfp_cases = dft_cases.groupby(COL_REGION)[dt_yday].sum()\n",
    "dfp_deaths = dft_deaths.groupby(COL_REGION)[dt_yday].sum()"
   ]
  },
  {
   "cell_type": "code",
   "execution_count": 12,
   "id": "deluxe-hepatitis",
   "metadata": {
    "execution": {
     "iopub.execute_input": "2021-12-26T12:12:41.386493Z",
     "iopub.status.busy": "2021-12-26T12:12:41.385610Z",
     "iopub.status.idle": "2021-12-26T12:12:41.390206Z",
     "shell.execute_reply": "2021-12-26T12:12:41.390735Z"
    },
    "papermill": {
     "duration": 0.044965,
     "end_time": "2021-12-26T12:12:41.390849",
     "exception": false,
     "start_time": "2021-12-26T12:12:41.345884",
     "status": "completed"
    },
    "tags": []
   },
   "outputs": [],
   "source": [
    "#hide\n",
    "df_table = (pd.DataFrame(dict(Cases = dfc_cases, Deaths = dfc_deaths, PCases = dfp_cases, PDeaths = dfp_deaths))\n",
    "            .sort_values(by = ['Cases','Deaths'], ascending = [False, False])\n",
    "            .reset_index())"
   ]
  },
  {
   "cell_type": "code",
   "execution_count": 13,
   "id": "educational-chancellor",
   "metadata": {
    "execution": {
     "iopub.execute_input": "2021-12-26T12:12:41.486361Z",
     "iopub.status.busy": "2021-12-26T12:12:41.481200Z",
     "iopub.status.idle": "2021-12-26T12:12:41.489401Z",
     "shell.execute_reply": "2021-12-26T12:12:41.489825Z"
    },
    "papermill": {
     "duration": 0.065469,
     "end_time": "2021-12-26T12:12:41.489939",
     "exception": false,
     "start_time": "2021-12-26T12:12:41.424470",
     "status": "completed"
    },
    "tags": []
   },
   "outputs": [
    {
     "data": {
      "text/html": [
       "<div>\n",
       "<style scoped>\n",
       "    .dataframe tbody tr th:only-of-type {\n",
       "        vertical-align: middle;\n",
       "    }\n",
       "\n",
       "    .dataframe tbody tr th {\n",
       "        vertical-align: top;\n",
       "    }\n",
       "\n",
       "    .dataframe thead th {\n",
       "        text-align: right;\n",
       "    }\n",
       "</style>\n",
       "<table border=\"1\" class=\"dataframe\">\n",
       "  <thead>\n",
       "    <tr style=\"text-align: right;\">\n",
       "      <th></th>\n",
       "      <th>Country/Region</th>\n",
       "      <th>Cases</th>\n",
       "      <th>Deaths</th>\n",
       "      <th>PCases</th>\n",
       "      <th>PDeaths</th>\n",
       "      <th>Cases (+)</th>\n",
       "      <th>Deaths (+)</th>\n",
       "      <th>Fatality Rate</th>\n",
       "      <th>Continent</th>\n",
       "    </tr>\n",
       "  </thead>\n",
       "  <tbody>\n",
       "    <tr>\n",
       "      <th>0</th>\n",
       "      <td>US</td>\n",
       "      <td>52095411</td>\n",
       "      <td>816463</td>\n",
       "      <td>51966735</td>\n",
       "      <td>816436</td>\n",
       "      <td>128676</td>\n",
       "      <td>27</td>\n",
       "      <td>1.57</td>\n",
       "      <td>North America</td>\n",
       "    </tr>\n",
       "    <tr>\n",
       "      <th>1</th>\n",
       "      <td>India</td>\n",
       "      <td>34786802</td>\n",
       "      <td>479682</td>\n",
       "      <td>34779815</td>\n",
       "      <td>479520</td>\n",
       "      <td>6987</td>\n",
       "      <td>162</td>\n",
       "      <td>1.38</td>\n",
       "      <td>Asia</td>\n",
       "    </tr>\n",
       "    <tr>\n",
       "      <th>2</th>\n",
       "      <td>Brazil</td>\n",
       "      <td>22238369</td>\n",
       "      <td>618686</td>\n",
       "      <td>22234623</td>\n",
       "      <td>618655</td>\n",
       "      <td>3746</td>\n",
       "      <td>31</td>\n",
       "      <td>2.78</td>\n",
       "      <td>South America</td>\n",
       "    </tr>\n",
       "    <tr>\n",
       "      <th>3</th>\n",
       "      <td>United Kingdom</td>\n",
       "      <td>11958928</td>\n",
       "      <td>148324</td>\n",
       "      <td>11958841</td>\n",
       "      <td>148324</td>\n",
       "      <td>87</td>\n",
       "      <td>0</td>\n",
       "      <td>1.24</td>\n",
       "      <td>Europe</td>\n",
       "    </tr>\n",
       "    <tr>\n",
       "      <th>4</th>\n",
       "      <td>Russia</td>\n",
       "      <td>10189722</td>\n",
       "      <td>297223</td>\n",
       "      <td>10164951</td>\n",
       "      <td>296268</td>\n",
       "      <td>24771</td>\n",
       "      <td>955</td>\n",
       "      <td>2.92</td>\n",
       "      <td>Europe</td>\n",
       "    </tr>\n",
       "  </tbody>\n",
       "</table>\n",
       "</div>"
      ],
      "text/plain": [
       "   Country/Region     Cases  Deaths    PCases  PDeaths  Cases (+)  Deaths (+)  \\\n",
       "0              US  52095411  816463  51966735   816436     128676          27   \n",
       "1           India  34786802  479682  34779815   479520       6987         162   \n",
       "2          Brazil  22238369  618686  22234623   618655       3746          31   \n",
       "3  United Kingdom  11958928  148324  11958841   148324         87           0   \n",
       "4          Russia  10189722  297223  10164951   296268      24771         955   \n",
       "\n",
       "   Fatality Rate      Continent  \n",
       "0           1.57  North America  \n",
       "1           1.38           Asia  \n",
       "2           2.78  South America  \n",
       "3           1.24         Europe  \n",
       "4           2.92         Europe  "
      ]
     },
     "execution_count": 13,
     "metadata": {},
     "output_type": "execute_result"
    }
   ],
   "source": [
    "#hide\n",
    "for c in 'Cases, Deaths'.split(', '):\n",
    "    df_table[f'{c} (+)'] = (df_table[c] - df_table[f'P{c}']).clip(0)\n",
    "    #Clip ça veut dire, les chiffres negatif sont interdit\n",
    "df_table['Fatality Rate'] = (100* df_table['Deaths']/ df_table['Cases']).round(2)\n",
    "df_table['Continent'] = df_table['Country/Region'].map(mapping['map.continent'])\n",
    "df_table.head(5)"
   ]
  },
  {
   "cell_type": "code",
   "execution_count": 14,
   "id": "aboriginal-bulgaria",
   "metadata": {
    "execution": {
     "iopub.execute_input": "2021-12-26T12:12:41.575195Z",
     "iopub.status.busy": "2021-12-26T12:12:41.574628Z",
     "iopub.status.idle": "2021-12-26T12:12:41.577844Z",
     "shell.execute_reply": "2021-12-26T12:12:41.578961Z"
    },
    "papermill": {
     "duration": 0.052743,
     "end_time": "2021-12-26T12:12:41.579387",
     "exception": false,
     "start_time": "2021-12-26T12:12:41.526644",
     "status": "completed"
    },
    "tags": []
   },
   "outputs": [],
   "source": [
    "#hide\n",
    "#delete problematic countries from table\n",
    "df_table = df_table[~df_table['Country/Region'].isin(['Cape Verde', 'Cruise Ship', 'Kosovo'])]"
   ]
  },
  {
   "cell_type": "code",
   "execution_count": 15,
   "id": "fantastic-effect",
   "metadata": {
    "execution": {
     "iopub.execute_input": "2021-12-26T12:12:41.661658Z",
     "iopub.status.busy": "2021-12-26T12:12:41.658945Z",
     "iopub.status.idle": "2021-12-26T12:12:41.681647Z",
     "shell.execute_reply": "2021-12-26T12:12:41.682131Z"
    },
    "papermill": {
     "duration": 0.066826,
     "end_time": "2021-12-26T12:12:41.682253",
     "exception": false,
     "start_time": "2021-12-26T12:12:41.615427",
     "status": "completed"
    },
    "tags": []
   },
   "outputs": [
    {
     "data": {
      "text/html": [
       "<div>\n",
       "<style scoped>\n",
       "    .dataframe tbody tr th:only-of-type {\n",
       "        vertical-align: middle;\n",
       "    }\n",
       "\n",
       "    .dataframe tbody tr th {\n",
       "        vertical-align: top;\n",
       "    }\n",
       "\n",
       "    .dataframe thead th {\n",
       "        text-align: right;\n",
       "    }\n",
       "</style>\n",
       "<table border=\"1\" class=\"dataframe\">\n",
       "  <thead>\n",
       "    <tr style=\"text-align: right;\">\n",
       "      <th></th>\n",
       "      <th>Country/Region</th>\n",
       "      <th>Cases</th>\n",
       "      <th>Deaths</th>\n",
       "      <th>PCases</th>\n",
       "      <th>PDeaths</th>\n",
       "      <th>Cases (+)</th>\n",
       "      <th>Deaths (+)</th>\n",
       "      <th>Fatality Rate</th>\n",
       "      <th>Continent</th>\n",
       "    </tr>\n",
       "  </thead>\n",
       "  <tbody>\n",
       "    <tr>\n",
       "      <th>0</th>\n",
       "      <td>US</td>\n",
       "      <td>52095411</td>\n",
       "      <td>816463</td>\n",
       "      <td>51966735</td>\n",
       "      <td>816436</td>\n",
       "      <td>128676</td>\n",
       "      <td>27</td>\n",
       "      <td>1.6</td>\n",
       "      <td>North America</td>\n",
       "    </tr>\n",
       "    <tr>\n",
       "      <th>1</th>\n",
       "      <td>India</td>\n",
       "      <td>34786802</td>\n",
       "      <td>479682</td>\n",
       "      <td>34779815</td>\n",
       "      <td>479520</td>\n",
       "      <td>6987</td>\n",
       "      <td>162</td>\n",
       "      <td>1.4</td>\n",
       "      <td>Asia</td>\n",
       "    </tr>\n",
       "    <tr>\n",
       "      <th>2</th>\n",
       "      <td>Brazil</td>\n",
       "      <td>22238369</td>\n",
       "      <td>618686</td>\n",
       "      <td>22234623</td>\n",
       "      <td>618655</td>\n",
       "      <td>3746</td>\n",
       "      <td>31</td>\n",
       "      <td>2.8</td>\n",
       "      <td>South America</td>\n",
       "    </tr>\n",
       "    <tr>\n",
       "      <th>3</th>\n",
       "      <td>United Kingdom</td>\n",
       "      <td>11958928</td>\n",
       "      <td>148324</td>\n",
       "      <td>11958841</td>\n",
       "      <td>148324</td>\n",
       "      <td>87</td>\n",
       "      <td>0</td>\n",
       "      <td>1.2</td>\n",
       "      <td>Europe</td>\n",
       "    </tr>\n",
       "    <tr>\n",
       "      <th>4</th>\n",
       "      <td>Russia</td>\n",
       "      <td>10189722</td>\n",
       "      <td>297223</td>\n",
       "      <td>10164951</td>\n",
       "      <td>296268</td>\n",
       "      <td>24771</td>\n",
       "      <td>955</td>\n",
       "      <td>2.9</td>\n",
       "      <td>Europe</td>\n",
       "    </tr>\n",
       "  </tbody>\n",
       "</table>\n",
       "</div>"
      ],
      "text/plain": [
       "   Country/Region     Cases  Deaths    PCases  PDeaths  Cases (+)  Deaths (+)  \\\n",
       "0              US  52095411  816463  51966735   816436     128676          27   \n",
       "1           India  34786802  479682  34779815   479520       6987         162   \n",
       "2          Brazil  22238369  618686  22234623   618655       3746          31   \n",
       "3  United Kingdom  11958928  148324  11958841   148324         87           0   \n",
       "4          Russia  10189722  297223  10164951   296268      24771         955   \n",
       "\n",
       "   Fatality Rate      Continent  \n",
       "0            1.6  North America  \n",
       "1            1.4           Asia  \n",
       "2            2.8  South America  \n",
       "3            1.2         Europe  \n",
       "4            2.9         Europe  "
      ]
     },
     "execution_count": 15,
     "metadata": {},
     "output_type": "execute_result"
    }
   ],
   "source": [
    "#hide\n",
    "df_table = (pd.DataFrame(dict(Cases=dfc_cases, Deaths=dfc_deaths, PCases=dfp_cases, PDeaths=dfp_deaths))\n",
    "             .sort_values(by=['Cases', 'Deaths'], ascending=[False, False])\n",
    "             .reset_index())\n",
    "df_table.rename(columns={'index': 'Country/Region'}, inplace=True)\n",
    "for c in 'Cases, Deaths'.split(', '):\n",
    "    df_table[f'{c} (+)'] = (df_table[c] - df_table[f'P{c}']).clip(0)  # DATA BUG\n",
    "df_table['Fatality Rate'] = (100 * df_table['Deaths'] / df_table['Cases']).round(1)\n",
    "df_table['Continent'] = df_table['Country/Region'].map(mapping['map.continent'])\n",
    "df_table.head(5)"
   ]
  },
  {
   "cell_type": "code",
   "execution_count": 16,
   "id": "fewer-occasion",
   "metadata": {
    "execution": {
     "iopub.execute_input": "2021-12-26T12:12:41.758077Z",
     "iopub.status.busy": "2021-12-26T12:12:41.757531Z",
     "iopub.status.idle": "2021-12-26T12:12:41.760599Z",
     "shell.execute_reply": "2021-12-26T12:12:41.761093Z"
    },
    "papermill": {
     "duration": 0.044253,
     "end_time": "2021-12-26T12:12:41.761255",
     "exception": false,
     "start_time": "2021-12-26T12:12:41.717002",
     "status": "completed"
    },
    "tags": []
   },
   "outputs": [],
   "source": [
    "#hide\n",
    "#delete problematic countries from table\n",
    "df_table = df_table[~df_table['Country/Region'].isin(['Cape Verde', 'Cruise Ship', 'Kosovo'])]"
   ]
  },
  {
   "cell_type": "code",
   "execution_count": 17,
   "id": "related-center",
   "metadata": {
    "execution": {
     "iopub.execute_input": "2021-12-26T12:12:41.835205Z",
     "iopub.status.busy": "2021-12-26T12:12:41.834624Z",
     "iopub.status.idle": "2021-12-26T12:12:41.848844Z",
     "shell.execute_reply": "2021-12-26T12:12:41.849279Z"
    },
    "papermill": {
     "duration": 0.054809,
     "end_time": "2021-12-26T12:12:41.849394",
     "exception": false,
     "start_time": "2021-12-26T12:12:41.794585",
     "status": "completed"
    },
    "tags": []
   },
   "outputs": [],
   "source": [
    "#hide\n",
    "metrics = [df_table.columns[index] for index in [1,2,5,6]]\n",
    "# s_china = df_table[df_table['Country/Region'].eq('China')][metrics].sum().add_prefix('China ')\n",
    "s_us = df_table[df_table['Country/Region'].eq('US')][metrics].sum().add_prefix('US ')\n",
    "s_eu = df_table[df_table['Continent'].eq('Europe')][metrics].sum().add_prefix('EU ')\n",
    "s_ind = df_table[df_table['Country/Region'].eq('India')][metrics].sum().add_prefix('India ')\n",
    "summary = {'updated': pd.to_datetime(dt_today), 'since': pd.to_datetime(dt_yday)}\n",
    "summary = {'updated': pd.to_datetime(dt_today), 'since': pd.to_datetime(dt_yday)}\n",
    "summary = {**summary, **df_table[metrics].sum(), **s_ind, **s_us, **s_eu}"
   ]
  },
  {
   "cell_type": "code",
   "execution_count": 18,
   "id": "engaging-syndrome",
   "metadata": {
    "execution": {
     "iopub.execute_input": "2021-12-26T12:12:41.925060Z",
     "iopub.status.busy": "2021-12-26T12:12:41.924423Z",
     "iopub.status.idle": "2021-12-26T12:12:41.937656Z",
     "shell.execute_reply": "2021-12-26T12:12:41.938065Z"
    },
    "papermill": {
     "duration": 0.053928,
     "end_time": "2021-12-26T12:12:41.938233",
     "exception": false,
     "start_time": "2021-12-26T12:12:41.884305",
     "status": "completed"
    },
    "tags": []
   },
   "outputs": [],
   "source": [
    "#hide\n",
    "dft_ct_new_cases = dft_cases.groupby(COL_REGION)[dt_cols].sum().diff(axis=1).fillna(0).astype(int)"
   ]
  },
  {
   "cell_type": "code",
   "execution_count": 19,
   "id": "neutral-assignment",
   "metadata": {
    "execution": {
     "iopub.execute_input": "2021-12-26T12:12:42.010931Z",
     "iopub.status.busy": "2021-12-26T12:12:42.010252Z",
     "iopub.status.idle": "2021-12-26T12:12:42.014323Z",
     "shell.execute_reply": "2021-12-26T12:12:42.013864Z"
    },
    "papermill": {
     "duration": 0.042004,
     "end_time": "2021-12-26T12:12:42.014426",
     "exception": false,
     "start_time": "2021-12-26T12:12:41.972422",
     "status": "completed"
    },
    "tags": []
   },
   "outputs": [],
   "source": [
    "#hide\n",
    "everydaycases = dft_ct_new_cases.cumsum(axis=1)"
   ]
  },
  {
   "cell_type": "code",
   "execution_count": 20,
   "id": "parliamentary-calgary",
   "metadata": {
    "execution": {
     "iopub.execute_input": "2021-12-26T12:12:42.095054Z",
     "iopub.status.busy": "2021-12-26T12:12:42.094449Z",
     "iopub.status.idle": "2021-12-26T12:12:42.814773Z",
     "shell.execute_reply": "2021-12-26T12:12:42.815275Z"
    },
    "papermill": {
     "duration": 0.76623,
     "end_time": "2021-12-26T12:12:42.815451",
     "exception": false,
     "start_time": "2021-12-26T12:12:42.049221",
     "status": "completed"
    },
    "tags": []
   },
   "outputs": [],
   "source": [
    "#hide\n",
    "import pandas as pd\n",
    "import matplotlib.pyplot as plt\n",
    "import matplotlib.ticker as ticker\n",
    "import matplotlib.animation as animation\n",
    "from IPython.display import HTML"
   ]
  },
  {
   "cell_type": "code",
   "execution_count": 21,
   "id": "lasting-extraction",
   "metadata": {
    "execution": {
     "iopub.execute_input": "2021-12-26T12:12:42.892080Z",
     "iopub.status.busy": "2021-12-26T12:12:42.891545Z",
     "iopub.status.idle": "2021-12-26T12:12:42.897439Z",
     "shell.execute_reply": "2021-12-26T12:12:42.897982Z"
    },
    "papermill": {
     "duration": 0.048307,
     "end_time": "2021-12-26T12:12:42.898124",
     "exception": false,
     "start_time": "2021-12-26T12:12:42.849817",
     "status": "completed"
    },
    "tags": []
   },
   "outputs": [],
   "source": [
    "#hide\n",
    "t = everydaycases.stack()"
   ]
  },
  {
   "cell_type": "code",
   "execution_count": 22,
   "id": "premier-sleeve",
   "metadata": {
    "execution": {
     "iopub.execute_input": "2021-12-26T12:12:42.973925Z",
     "iopub.status.busy": "2021-12-26T12:12:42.973132Z",
     "iopub.status.idle": "2021-12-26T12:12:42.982514Z",
     "shell.execute_reply": "2021-12-26T12:12:42.982965Z"
    },
    "papermill": {
     "duration": 0.049015,
     "end_time": "2021-12-26T12:12:42.983083",
     "exception": false,
     "start_time": "2021-12-26T12:12:42.934068",
     "status": "completed"
    },
    "tags": []
   },
   "outputs": [],
   "source": [
    "#hide\n",
    "g = t.reset_index(['Country/Region'])"
   ]
  },
  {
   "cell_type": "code",
   "execution_count": 23,
   "id": "distributed-pittsburgh",
   "metadata": {
    "execution": {
     "iopub.execute_input": "2021-12-26T12:12:43.055506Z",
     "iopub.status.busy": "2021-12-26T12:12:43.054704Z",
     "iopub.status.idle": "2021-12-26T12:12:43.057922Z",
     "shell.execute_reply": "2021-12-26T12:12:43.058488Z"
    },
    "papermill": {
     "duration": 0.042141,
     "end_time": "2021-12-26T12:12:43.058604",
     "exception": false,
     "start_time": "2021-12-26T12:12:43.016463",
     "status": "completed"
    },
    "tags": []
   },
   "outputs": [],
   "source": [
    "#hide\n",
    "g.index.name = 'date'"
   ]
  },
  {
   "cell_type": "code",
   "execution_count": 24,
   "id": "naked-donor",
   "metadata": {
    "execution": {
     "iopub.execute_input": "2021-12-26T12:12:43.132880Z",
     "iopub.status.busy": "2021-12-26T12:12:43.132244Z",
     "iopub.status.idle": "2021-12-26T12:12:43.136310Z",
     "shell.execute_reply": "2021-12-26T12:12:43.135759Z"
    },
    "papermill": {
     "duration": 0.04211,
     "end_time": "2021-12-26T12:12:43.136463",
     "exception": false,
     "start_time": "2021-12-26T12:12:43.094353",
     "status": "completed"
    },
    "tags": []
   },
   "outputs": [],
   "source": [
    "# #hide\n",
    "# g = g.reset_index(['date'])"
   ]
  },
  {
   "cell_type": "code",
   "execution_count": 25,
   "id": "incomplete-mustang",
   "metadata": {
    "execution": {
     "iopub.execute_input": "2021-12-26T12:12:43.213906Z",
     "iopub.status.busy": "2021-12-26T12:12:43.213223Z",
     "iopub.status.idle": "2021-12-26T12:12:43.215821Z",
     "shell.execute_reply": "2021-12-26T12:12:43.215359Z"
    },
    "papermill": {
     "duration": 0.041742,
     "end_time": "2021-12-26T12:12:43.215927",
     "exception": false,
     "start_time": "2021-12-26T12:12:43.174185",
     "status": "completed"
    },
    "tags": []
   },
   "outputs": [],
   "source": [
    "#hide\n",
    "# g.head()"
   ]
  },
  {
   "cell_type": "code",
   "execution_count": 26,
   "id": "specific-kruger",
   "metadata": {
    "execution": {
     "iopub.execute_input": "2021-12-26T12:12:43.298918Z",
     "iopub.status.busy": "2021-12-26T12:12:43.298276Z",
     "iopub.status.idle": "2021-12-26T12:12:43.300471Z",
     "shell.execute_reply": "2021-12-26T12:12:43.300969Z"
    },
    "papermill": {
     "duration": 0.050222,
     "end_time": "2021-12-26T12:12:43.301095",
     "exception": false,
     "start_time": "2021-12-26T12:12:43.250873",
     "status": "completed"
    },
    "tags": []
   },
   "outputs": [],
   "source": [
    "#hide\n",
    "# g.columns = ['date','country','cases']"
   ]
  },
  {
   "cell_type": "code",
   "execution_count": 27,
   "id": "tender-conversion",
   "metadata": {
    "execution": {
     "iopub.execute_input": "2021-12-26T12:12:43.372402Z",
     "iopub.status.busy": "2021-12-26T12:12:43.371842Z",
     "iopub.status.idle": "2021-12-26T12:12:43.374642Z",
     "shell.execute_reply": "2021-12-26T12:12:43.373927Z"
    },
    "papermill": {
     "duration": 0.039576,
     "end_time": "2021-12-26T12:12:43.374769",
     "exception": false,
     "start_time": "2021-12-26T12:12:43.335193",
     "status": "completed"
    },
    "tags": []
   },
   "outputs": [],
   "source": [
    "#hide\n",
    "# g['continent'] = g.country"
   ]
  },
  {
   "cell_type": "code",
   "execution_count": 28,
   "id": "substantial-wilderness",
   "metadata": {
    "execution": {
     "iopub.execute_input": "2021-12-26T12:12:43.450122Z",
     "iopub.status.busy": "2021-12-26T12:12:43.449503Z",
     "iopub.status.idle": "2021-12-26T12:12:43.452354Z",
     "shell.execute_reply": "2021-12-26T12:12:43.451893Z"
    },
    "papermill": {
     "duration": 0.040869,
     "end_time": "2021-12-26T12:12:43.452518",
     "exception": false,
     "start_time": "2021-12-26T12:12:43.411649",
     "status": "completed"
    },
    "tags": []
   },
   "outputs": [],
   "source": [
    "#hide\n",
    "# cols = list(g.columns.values)"
   ]
  },
  {
   "cell_type": "code",
   "execution_count": 29,
   "id": "solved-farming",
   "metadata": {
    "execution": {
     "iopub.execute_input": "2021-12-26T12:12:43.525255Z",
     "iopub.status.busy": "2021-12-26T12:12:43.524601Z",
     "iopub.status.idle": "2021-12-26T12:12:43.527457Z",
     "shell.execute_reply": "2021-12-26T12:12:43.526581Z"
    },
    "papermill": {
     "duration": 0.039582,
     "end_time": "2021-12-26T12:12:43.527668",
     "exception": false,
     "start_time": "2021-12-26T12:12:43.488086",
     "status": "completed"
    },
    "tags": []
   },
   "outputs": [],
   "source": [
    "#hide\n",
    "# cols.insert(0, cols.pop())"
   ]
  },
  {
   "cell_type": "code",
   "execution_count": 30,
   "id": "executed-adoption",
   "metadata": {
    "execution": {
     "iopub.execute_input": "2021-12-26T12:12:43.600688Z",
     "iopub.status.busy": "2021-12-26T12:12:43.600046Z",
     "iopub.status.idle": "2021-12-26T12:12:43.604128Z",
     "shell.execute_reply": "2021-12-26T12:12:43.603607Z"
    },
    "papermill": {
     "duration": 0.043134,
     "end_time": "2021-12-26T12:12:43.604252",
     "exception": false,
     "start_time": "2021-12-26T12:12:43.561118",
     "status": "completed"
    },
    "tags": []
   },
   "outputs": [],
   "source": [
    "#hide\n",
    "# g = g[cols]"
   ]
  },
  {
   "cell_type": "code",
   "execution_count": 31,
   "id": "subject-dublin",
   "metadata": {
    "execution": {
     "iopub.execute_input": "2021-12-26T12:12:43.683435Z",
     "iopub.status.busy": "2021-12-26T12:12:43.682662Z",
     "iopub.status.idle": "2021-12-26T12:12:43.686667Z",
     "shell.execute_reply": "2021-12-26T12:12:43.687122Z"
    },
    "papermill": {
     "duration": 0.0463,
     "end_time": "2021-12-26T12:12:43.687268",
     "exception": false,
     "start_time": "2021-12-26T12:12:43.640968",
     "status": "completed"
    },
    "tags": []
   },
   "outputs": [],
   "source": [
    "#hide\n",
    "# g['continent'] = g['continent'].map(mapping['map.continent'])"
   ]
  },
  {
   "cell_type": "code",
   "execution_count": 32,
   "id": "freelance-scout",
   "metadata": {
    "execution": {
     "iopub.execute_input": "2021-12-26T12:12:43.761279Z",
     "iopub.status.busy": "2021-12-26T12:12:43.760441Z",
     "iopub.status.idle": "2021-12-26T12:12:43.762756Z",
     "shell.execute_reply": "2021-12-26T12:12:43.763188Z"
    },
    "papermill": {
     "duration": 0.041553,
     "end_time": "2021-12-26T12:12:43.763312",
     "exception": false,
     "start_time": "2021-12-26T12:12:43.721759",
     "status": "completed"
    },
    "tags": []
   },
   "outputs": [],
   "source": [
    "#hide\n",
    "# g.head()"
   ]
  },
  {
   "cell_type": "code",
   "execution_count": 33,
   "id": "limited-engine",
   "metadata": {
    "execution": {
     "iopub.execute_input": "2021-12-26T12:12:43.838471Z",
     "iopub.status.busy": "2021-12-26T12:12:43.837884Z",
     "iopub.status.idle": "2021-12-26T12:12:43.839978Z",
     "shell.execute_reply": "2021-12-26T12:12:43.840406Z"
    },
    "papermill": {
     "duration": 0.041262,
     "end_time": "2021-12-26T12:12:43.840535",
     "exception": false,
     "start_time": "2021-12-26T12:12:43.799273",
     "status": "completed"
    },
    "tags": []
   },
   "outputs": [],
   "source": [
    "# hide\n",
    "# g['date'] = g['date'].astype('datetime64[ns]')"
   ]
  },
  {
   "cell_type": "code",
   "execution_count": 34,
   "id": "sophisticated-supervisor",
   "metadata": {
    "execution": {
     "iopub.execute_input": "2021-12-26T12:12:43.911787Z",
     "iopub.status.busy": "2021-12-26T12:12:43.911251Z",
     "iopub.status.idle": "2021-12-26T12:12:43.913982Z",
     "shell.execute_reply": "2021-12-26T12:12:43.913213Z"
    },
    "papermill": {
     "duration": 0.038746,
     "end_time": "2021-12-26T12:12:43.914120",
     "exception": false,
     "start_time": "2021-12-26T12:12:43.875374",
     "status": "completed"
    },
    "tags": []
   },
   "outputs": [],
   "source": [
    "#hide\n",
    "# g['date'] = g.date.dt.dayofyear"
   ]
  },
  {
   "cell_type": "code",
   "execution_count": 35,
   "id": "inside-dubai",
   "metadata": {
    "execution": {
     "iopub.execute_input": "2021-12-26T12:12:43.985465Z",
     "iopub.status.busy": "2021-12-26T12:12:43.984882Z",
     "iopub.status.idle": "2021-12-26T12:12:43.987036Z",
     "shell.execute_reply": "2021-12-26T12:12:43.987517Z"
    },
    "papermill": {
     "duration": 0.039171,
     "end_time": "2021-12-26T12:12:43.987633",
     "exception": false,
     "start_time": "2021-12-26T12:12:43.948462",
     "status": "completed"
    },
    "tags": []
   },
   "outputs": [],
   "source": [
    "#hide\n",
    "# g = g.rename(columns= {'continent':'group','country':'name','cases':'value'})"
   ]
  },
  {
   "cell_type": "code",
   "execution_count": 36,
   "id": "fleet-motorcycle",
   "metadata": {
    "execution": {
     "iopub.execute_input": "2021-12-26T12:12:44.063870Z",
     "iopub.status.busy": "2021-12-26T12:12:44.063221Z",
     "iopub.status.idle": "2021-12-26T12:12:44.068439Z",
     "shell.execute_reply": "2021-12-26T12:12:44.069083Z"
    },
    "papermill": {
     "duration": 0.045606,
     "end_time": "2021-12-26T12:12:44.069207",
     "exception": false,
     "start_time": "2021-12-26T12:12:44.023601",
     "status": "completed"
    },
    "tags": []
   },
   "outputs": [],
   "source": [
    "#hide\n",
    "# cols = ['name','group','day','value']"
   ]
  },
  {
   "cell_type": "code",
   "execution_count": 37,
   "id": "continued-sleeping",
   "metadata": {
    "execution": {
     "iopub.execute_input": "2021-12-26T12:12:44.147718Z",
     "iopub.status.busy": "2021-12-26T12:12:44.147062Z",
     "iopub.status.idle": "2021-12-26T12:12:44.149244Z",
     "shell.execute_reply": "2021-12-26T12:12:44.148644Z"
    },
    "papermill": {
     "duration": 0.041259,
     "end_time": "2021-12-26T12:12:44.149356",
     "exception": false,
     "start_time": "2021-12-26T12:12:44.108097",
     "status": "completed"
    },
    "tags": []
   },
   "outputs": [],
   "source": [
    "#hide\n",
    "# g.rename(columns= {'date':'day'},inplace = True)"
   ]
  },
  {
   "cell_type": "code",
   "execution_count": 38,
   "id": "major-fight",
   "metadata": {
    "execution": {
     "iopub.execute_input": "2021-12-26T12:12:44.227898Z",
     "iopub.status.busy": "2021-12-26T12:12:44.227346Z",
     "iopub.status.idle": "2021-12-26T12:12:44.230991Z",
     "shell.execute_reply": "2021-12-26T12:12:44.231514Z"
    },
    "papermill": {
     "duration": 0.045301,
     "end_time": "2021-12-26T12:12:44.231643",
     "exception": false,
     "start_time": "2021-12-26T12:12:44.186342",
     "status": "completed"
    },
    "tags": []
   },
   "outputs": [],
   "source": [
    "#hide\n",
    "# g = g[cols]"
   ]
  },
  {
   "cell_type": "code",
   "execution_count": 39,
   "id": "structured-mobile",
   "metadata": {
    "execution": {
     "iopub.execute_input": "2021-12-26T12:12:44.307640Z",
     "iopub.status.busy": "2021-12-26T12:12:44.307096Z",
     "iopub.status.idle": "2021-12-26T12:12:44.311000Z",
     "shell.execute_reply": "2021-12-26T12:12:44.311462Z"
    },
    "papermill": {
     "duration": 0.042352,
     "end_time": "2021-12-26T12:12:44.311582",
     "exception": false,
     "start_time": "2021-12-26T12:12:44.269230",
     "status": "completed"
    },
    "tags": []
   },
   "outputs": [],
   "source": [
    "# #hide\n",
    "# g = g[g.group.notna()]"
   ]
  },
  {
   "cell_type": "code",
   "execution_count": 40,
   "id": "determined-closing",
   "metadata": {
    "execution": {
     "iopub.execute_input": "2021-12-26T12:12:44.391703Z",
     "iopub.status.busy": "2021-12-26T12:12:44.391032Z",
     "iopub.status.idle": "2021-12-26T12:12:44.393377Z",
     "shell.execute_reply": "2021-12-26T12:12:44.392782Z"
    },
    "papermill": {
     "duration": 0.045971,
     "end_time": "2021-12-26T12:12:44.393505",
     "exception": false,
     "start_time": "2021-12-26T12:12:44.347534",
     "status": "completed"
    },
    "tags": []
   },
   "outputs": [],
   "source": [
    "# #hide\n",
    "# colors = dict(zip(\n",
    "#     [\"Oceania\", \"Europe\", \"Asia\", \"South America\", \"Middle East\", \"North America\", \"Africa\"],\n",
    "#     [\"#adb0ff\", \"#ffb3ff\", \"#90d595\", \"#e48381\", \"#aafbff\", \"#f7bb5f\", \"#eafb50\"]\n",
    "# ))\n",
    "# group_lk = g.set_index('name')['group'].to_dict()"
   ]
  },
  {
   "cell_type": "code",
   "execution_count": null,
   "id": "gross-drinking",
   "metadata": {
    "papermill": {
     "duration": 0.03859,
     "end_time": "2021-12-26T12:12:44.469058",
     "exception": false,
     "start_time": "2021-12-26T12:12:44.430468",
     "status": "completed"
    },
    "tags": []
   },
   "outputs": [],
   "source": []
  },
  {
   "cell_type": "code",
   "execution_count": 41,
   "id": "subject-macintosh",
   "metadata": {
    "execution": {
     "iopub.execute_input": "2021-12-26T12:12:44.542623Z",
     "iopub.status.busy": "2021-12-26T12:12:44.542059Z",
     "iopub.status.idle": "2021-12-26T12:12:44.545624Z",
     "shell.execute_reply": "2021-12-26T12:12:44.546046Z"
    },
    "papermill": {
     "duration": 0.042856,
     "end_time": "2021-12-26T12:12:44.546212",
     "exception": false,
     "start_time": "2021-12-26T12:12:44.503356",
     "status": "completed"
    },
    "tags": []
   },
   "outputs": [],
   "source": [
    "# #hide\n",
    "# fig, ax = plt.subplots(figsize=(15, 8))\n",
    "\n",
    "# def draw_barchart(current_day):\n",
    "#     dff = g[g['day'].eq(current_day)].sort_values(by='value', ascending=True).tail(10)\n",
    "#     ax.clear()\n",
    "#     ax.barh(dff['name'], dff['value'], color=[colors[group_lk[x]] for x in dff['name']])\n",
    "#     dx = dff['value'].max() / 200\n",
    "    \n",
    "#     for i, (value, name) in enumerate(zip(dff['value'], dff['name'])):\n",
    "#         ax.text(value-dx, i,     name,           size=14, weight=600, ha='right', va='bottom')\n",
    "#         ax.text(value-dx, i-.25, group_lk[name], size=10, color='#444444', ha='right', va='baseline')\n",
    "#         ax.text(value+dx, i,     f'{value:,.0f}',  size=14, ha='left',  va='center')\n",
    "#     ax.text(1, 0.4, current_day, transform=ax.transAxes, color='#777777', size=46, ha='right', weight=800)\n",
    "#     ax.text(0, 1.06, 'Population (thousands)', transform=ax.transAxes, size=12, color='#777777')\n",
    "#     ax.xaxis.set_major_formatter(ticker.StrMethodFormatter('{x:,.0f}'))\n",
    "#     ax.xaxis.set_ticks_position('top')\n",
    "#     ax.tick_params(axis='x', colors='#777777', labelsize=12)\n",
    "#     ax.set_yticks([])\n",
    "#     ax.margins(0, 0.01)\n",
    "#     ax.grid(which='major', axis='x', linestyle='-')\n",
    "#     ax.set_axisbelow(True)\n",
    "    \n",
    "#     ax.text(0, 1.15, 'Coronavirus',\n",
    "#             transform=ax.transAxes, size=24, weight=600, ha='left', va='top')\n",
    "# #     ax.text(1, 0, 'by @pratapvardhan; credit @jburnmurdoch', transform=ax.transAxes, color='#777777', ha='right',\n",
    "# #             bbox=dict(facecolor='white', alpha=0.8, edgecolor='white'))\n",
    "#     plt.box(False)"
   ]
  },
  {
   "cell_type": "code",
   "execution_count": 42,
   "id": "sexual-wages",
   "metadata": {
    "execution": {
     "iopub.execute_input": "2021-12-26T12:12:44.625777Z",
     "iopub.status.busy": "2021-12-26T12:12:44.625115Z",
     "iopub.status.idle": "2021-12-26T12:12:44.627275Z",
     "shell.execute_reply": "2021-12-26T12:12:44.626707Z"
    },
    "papermill": {
     "duration": 0.041603,
     "end_time": "2021-12-26T12:12:44.627377",
     "exception": false,
     "start_time": "2021-12-26T12:12:44.585774",
     "status": "completed"
    },
    "tags": []
   },
   "outputs": [],
   "source": [
    "# #hide_input\n",
    "# fig, ax = plt.subplots(figsize=(15, 8))\n",
    "# animator = animation.FuncAnimation(fig, draw_barchart, frames=range(g.day.values.min(), g.day.values.max()))\n",
    "# HTML(animator.to_jshtml())\n",
    "# # or use animator.to_html5_video() or animator.save() "
   ]
  },
  {
   "cell_type": "code",
   "execution_count": null,
   "id": "australian-container",
   "metadata": {
    "papermill": {
     "duration": 0.069929,
     "end_time": "2021-12-26T12:12:44.730809",
     "exception": false,
     "start_time": "2021-12-26T12:12:44.660880",
     "status": "completed"
    },
    "tags": []
   },
   "outputs": [],
   "source": []
  },
  {
   "cell_type": "code",
   "execution_count": null,
   "id": "mediterranean-pontiac",
   "metadata": {
    "papermill": {
     "duration": 0.060981,
     "end_time": "2021-12-26T12:12:44.841841",
     "exception": false,
     "start_time": "2021-12-26T12:12:44.780860",
     "status": "completed"
    },
    "tags": []
   },
   "outputs": [],
   "source": []
  },
  {
   "cell_type": "code",
   "execution_count": null,
   "id": "aging-legislature",
   "metadata": {
    "papermill": {
     "duration": 0.040733,
     "end_time": "2021-12-26T12:12:44.927807",
     "exception": false,
     "start_time": "2021-12-26T12:12:44.887074",
     "status": "completed"
    },
    "tags": []
   },
   "outputs": [],
   "source": []
  }
 ],
 "metadata": {
  "kernelspec": {
   "display_name": "Python 3",
   "language": "python",
   "name": "python3"
  },
  "language_info": {
   "codemirror_mode": {
    "name": "ipython",
    "version": 3
   },
   "file_extension": ".py",
   "mimetype": "text/x-python",
   "name": "python",
   "nbconvert_exporter": "python",
   "pygments_lexer": "ipython3",
   "version": "3.6.15"
  },
  "papermill": {
   "duration": 6.951534,
   "end_time": "2021-12-26T12:12:45.273322",
   "environment_variables": {},
   "exception": null,
   "input_path": "2020-03-21-covid19exp.ipynb",
   "output_path": "2020-03-21-covid19exp.ipynb",
   "parameters": {},
   "start_time": "2021-12-26T12:12:38.321788",
   "version": "2.0.0"
  }
 },
 "nbformat": 4,
 "nbformat_minor": 5
}