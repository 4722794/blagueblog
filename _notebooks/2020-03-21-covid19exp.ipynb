{
 "cells": [
  {
   "cell_type": "markdown",
   "id": "muslim-click",
   "metadata": {
    "papermill": {
     "duration": 0.034285,
     "end_time": "2022-05-25T12:17:37.050817",
     "exception": false,
     "start_time": "2022-05-25T12:17:37.016532",
     "status": "completed"
    },
    "tags": []
   },
   "source": [
    "# COVID-19 Case Race\n",
    "> A race chart to see rising cases around the world\n",
    "\n",
    "- author: Hargun Oberoi\n",
    "- image: images/covid-overview.png\n",
    "- hide: false\n",
    "- badges: false"
   ]
  },
  {
   "cell_type": "code",
   "execution_count": 1,
   "id": "proof-material",
   "metadata": {
    "execution": {
     "iopub.execute_input": "2022-05-25T12:17:37.123280Z",
     "iopub.status.busy": "2022-05-25T12:17:37.122707Z",
     "iopub.status.idle": "2022-05-25T12:17:37.428772Z",
     "shell.execute_reply": "2022-05-25T12:17:37.428279Z"
    },
    "papermill": {
     "duration": 0.345868,
     "end_time": "2022-05-25T12:17:37.428896",
     "exception": false,
     "start_time": "2022-05-25T12:17:37.083028",
     "status": "completed"
    },
    "tags": []
   },
   "outputs": [],
   "source": [
    "#hide\n",
    "import numpy as np\n",
    "import pandas as pd\n",
    "from jinja2 import Template\n",
    "from IPython.display import HTML"
   ]
  },
  {
   "cell_type": "code",
   "execution_count": 2,
   "id": "developed-terminology",
   "metadata": {
    "execution": {
     "iopub.execute_input": "2022-05-25T12:17:37.494811Z",
     "iopub.status.busy": "2022-05-25T12:17:37.494252Z",
     "iopub.status.idle": "2022-05-25T12:17:37.496382Z",
     "shell.execute_reply": "2022-05-25T12:17:37.496829Z"
    },
    "papermill": {
     "duration": 0.037121,
     "end_time": "2022-05-25T12:17:37.496940",
     "exception": false,
     "start_time": "2022-05-25T12:17:37.459819",
     "status": "completed"
    },
    "tags": []
   },
   "outputs": [],
   "source": [
    "#hide\n",
    "\n",
    "# FETCH\n",
    "base_url = 'https://raw.githubusercontent.com/pratapvardhan/notebooks/master/covid19/'\n",
    "paths = {\n",
    "    'mapping': base_url + 'mapping_countries.csv',\n",
    "    'overview': base_url + 'overview.tpl'\n",
    "}"
   ]
  },
  {
   "cell_type": "code",
   "execution_count": 3,
   "id": "dynamic-saver",
   "metadata": {
    "execution": {
     "iopub.execute_input": "2022-05-25T12:17:37.566185Z",
     "iopub.status.busy": "2022-05-25T12:17:37.564983Z",
     "iopub.status.idle": "2022-05-25T12:17:37.569220Z",
     "shell.execute_reply": "2022-05-25T12:17:37.568773Z"
    },
    "papermill": {
     "duration": 0.041951,
     "end_time": "2022-05-25T12:17:37.569311",
     "exception": false,
     "start_time": "2022-05-25T12:17:37.527360",
     "status": "completed"
    },
    "tags": []
   },
   "outputs": [
    {
     "data": {
      "text/plain": [
       "'https://raw.githubusercontent.com/pratapvardhan/notebooks/master/covid19/mapping_countries.csv'"
      ]
     },
     "execution_count": 3,
     "metadata": {},
     "output_type": "execute_result"
    }
   ],
   "source": [
    "#hide\n",
    "paths['mapping']"
   ]
  },
  {
   "cell_type": "code",
   "execution_count": 4,
   "id": "urban-software",
   "metadata": {
    "execution": {
     "iopub.execute_input": "2022-05-25T12:17:37.635660Z",
     "iopub.status.busy": "2022-05-25T12:17:37.635078Z",
     "iopub.status.idle": "2022-05-25T12:17:37.637503Z",
     "shell.execute_reply": "2022-05-25T12:17:37.637051Z"
    },
    "papermill": {
     "duration": 0.037293,
     "end_time": "2022-05-25T12:17:37.637616",
     "exception": false,
     "start_time": "2022-05-25T12:17:37.600323",
     "status": "completed"
    },
    "tags": []
   },
   "outputs": [],
   "source": [
    "#hide\n",
    "def get_mappings(url):\n",
    "    df = pd.read_csv(url)\n",
    "    return {\n",
    "        'df': df,\n",
    "        'replace.country': dict(df.dropna(subset=['Name']).set_index('Country')['Name']),\n",
    "        'map.continent': dict(df.set_index('Name')['Continent'])\n",
    "    }"
   ]
  },
  {
   "cell_type": "code",
   "execution_count": 5,
   "id": "intimate-machinery",
   "metadata": {
    "execution": {
     "iopub.execute_input": "2022-05-25T12:17:37.701675Z",
     "iopub.status.busy": "2022-05-25T12:17:37.701095Z",
     "iopub.status.idle": "2022-05-25T12:17:37.740865Z",
     "shell.execute_reply": "2022-05-25T12:17:37.740313Z"
    },
    "papermill": {
     "duration": 0.072428,
     "end_time": "2022-05-25T12:17:37.740965",
     "exception": false,
     "start_time": "2022-05-25T12:17:37.668537",
     "status": "completed"
    },
    "tags": []
   },
   "outputs": [],
   "source": [
    "#hide\n",
    "mapping = get_mappings(paths['mapping'])"
   ]
  },
  {
   "cell_type": "code",
   "execution_count": 6,
   "id": "certified-tactics",
   "metadata": {
    "execution": {
     "iopub.execute_input": "2022-05-25T12:17:37.807623Z",
     "iopub.status.busy": "2022-05-25T12:17:37.807061Z",
     "iopub.status.idle": "2022-05-25T12:17:37.809509Z",
     "shell.execute_reply": "2022-05-25T12:17:37.809068Z"
    },
    "papermill": {
     "duration": 0.037848,
     "end_time": "2022-05-25T12:17:37.809629",
     "exception": false,
     "start_time": "2022-05-25T12:17:37.771781",
     "status": "completed"
    },
    "tags": []
   },
   "outputs": [],
   "source": [
    "#hide\n",
    "def get_template(path):\n",
    "    from urllib.parse import urlparse\n",
    "    if bool(urlparse(path).netloc):\n",
    "        from urllib.request import urlopen\n",
    "        return urlopen(path).read().decode('utf8')\n",
    "    return open(path).read()"
   ]
  },
  {
   "cell_type": "code",
   "execution_count": 7,
   "id": "realistic-blast",
   "metadata": {
    "execution": {
     "iopub.execute_input": "2022-05-25T12:17:37.875494Z",
     "iopub.status.busy": "2022-05-25T12:17:37.874928Z",
     "iopub.status.idle": "2022-05-25T12:17:37.877672Z",
     "shell.execute_reply": "2022-05-25T12:17:37.877179Z"
    },
    "papermill": {
     "duration": 0.037355,
     "end_time": "2022-05-25T12:17:37.877772",
     "exception": false,
     "start_time": "2022-05-25T12:17:37.840417",
     "status": "completed"
    },
    "tags": []
   },
   "outputs": [],
   "source": [
    "#hide\n",
    "def get_frame(name):\n",
    "    url = (\n",
    "        'https://raw.githubusercontent.com/CSSEGISandData/COVID-19/master/csse_covid_19_data/'\n",
    "        f'csse_covid_19_time_series/time_series_covid19_{name}_global.csv')\n",
    "    df = pd.read_csv(url)\n",
    "    # rename countries\n",
    "    df['Country/Region'] = df['Country/Region'].replace(mapping['replace.country'])\n",
    "    return df"
   ]
  },
  {
   "cell_type": "code",
   "execution_count": 8,
   "id": "affiliated-characterization",
   "metadata": {
    "execution": {
     "iopub.execute_input": "2022-05-25T12:17:37.944763Z",
     "iopub.status.busy": "2022-05-25T12:17:37.944190Z",
     "iopub.status.idle": "2022-05-25T12:17:37.946649Z",
     "shell.execute_reply": "2022-05-25T12:17:37.946111Z"
    },
    "papermill": {
     "duration": 0.038125,
     "end_time": "2022-05-25T12:17:37.946747",
     "exception": false,
     "start_time": "2022-05-25T12:17:37.908622",
     "status": "completed"
    },
    "tags": []
   },
   "outputs": [],
   "source": [
    "#hide\n",
    "def get_dates(df):\n",
    "    dt_cols = df.columns[~df.columns.isin(['Province/State', 'Country/Region', 'Lat', 'Long'])]\n",
    "    LAST_DATE_I = -1\n",
    "    # sometimes last column may be empty, then go backwards\n",
    "    for i in range(-1, -len(dt_cols), -1):\n",
    "        if not df[dt_cols[i]].fillna(0).eq(0).all():\n",
    "            LAST_DATE_I = i\n",
    "            break\n",
    "    return LAST_DATE_I, dt_cols"
   ]
  },
  {
   "cell_type": "code",
   "execution_count": 9,
   "id": "recent-optimization",
   "metadata": {
    "execution": {
     "iopub.execute_input": "2022-05-25T12:17:38.012672Z",
     "iopub.status.busy": "2022-05-25T12:17:38.012095Z",
     "iopub.status.idle": "2022-05-25T12:17:38.453853Z",
     "shell.execute_reply": "2022-05-25T12:17:38.453326Z"
    },
    "papermill": {
     "duration": 0.476502,
     "end_time": "2022-05-25T12:17:38.453968",
     "exception": false,
     "start_time": "2022-05-25T12:17:37.977466",
     "status": "completed"
    },
    "tags": []
   },
   "outputs": [],
   "source": [
    "#hide\n",
    "COL_REGION = 'Country/Region'\n",
    "# Confirmed, Recovered, Deaths\n",
    "df = get_frame('confirmed')\n",
    "# dft_: timeseries, dfc_: today country agg\n",
    "dft_cases = df\n",
    "dft_deaths = get_frame('deaths')\n",
    "dft_recovered = get_frame('recovered')\n",
    "LAST_DATE_I, dt_cols = get_dates(df)"
   ]
  },
  {
   "cell_type": "code",
   "execution_count": 10,
   "id": "absolute-copper",
   "metadata": {
    "execution": {
     "iopub.execute_input": "2022-05-25T12:17:38.520945Z",
     "iopub.status.busy": "2022-05-25T12:17:38.520383Z",
     "iopub.status.idle": "2022-05-25T12:17:38.523017Z",
     "shell.execute_reply": "2022-05-25T12:17:38.522568Z"
    },
    "papermill": {
     "duration": 0.038124,
     "end_time": "2022-05-25T12:17:38.523116",
     "exception": false,
     "start_time": "2022-05-25T12:17:38.484992",
     "status": "completed"
    },
    "tags": []
   },
   "outputs": [],
   "source": [
    "#hide\n",
    "LAST_DATE_I, dt_cols = get_dates(df)\n",
    "dt_today =dt_cols[LAST_DATE_I]\n",
    "# dt_5day = dt_cols[LAST_DATE_I - 5]\n",
    "dt_yday = dt_cols[LAST_DATE_I - 1]"
   ]
  },
  {
   "cell_type": "code",
   "execution_count": 11,
   "id": "restricted-sheriff",
   "metadata": {
    "execution": {
     "iopub.execute_input": "2022-05-25T12:17:38.589294Z",
     "iopub.status.busy": "2022-05-25T12:17:38.588738Z",
     "iopub.status.idle": "2022-05-25T12:17:38.595508Z",
     "shell.execute_reply": "2022-05-25T12:17:38.595943Z"
    },
    "papermill": {
     "duration": 0.042216,
     "end_time": "2022-05-25T12:17:38.596056",
     "exception": false,
     "start_time": "2022-05-25T12:17:38.553840",
     "status": "completed"
    },
    "tags": []
   },
   "outputs": [],
   "source": [
    "#hide\n",
    "dfc_cases = dft_cases.groupby(COL_REGION)[dt_today].sum()\n",
    "dfc_deaths = dft_deaths.groupby(COL_REGION)[dt_today].sum()\n",
    "# dfp_cases = dft_cases.groupby(COL_REGION)[dt_5day].sum()\n",
    "# dfp_deaths = dft_deaths.groupby(COL_REGION)[dt_5day].sum()\n",
    "dfp_cases = dft_cases.groupby(COL_REGION)[dt_yday].sum()\n",
    "dfp_deaths = dft_deaths.groupby(COL_REGION)[dt_yday].sum()"
   ]
  },
  {
   "cell_type": "code",
   "execution_count": 12,
   "id": "deluxe-hepatitis",
   "metadata": {
    "execution": {
     "iopub.execute_input": "2022-05-25T12:17:38.664151Z",
     "iopub.status.busy": "2022-05-25T12:17:38.662305Z",
     "iopub.status.idle": "2022-05-25T12:17:38.666254Z",
     "shell.execute_reply": "2022-05-25T12:17:38.666652Z"
    },
    "papermill": {
     "duration": 0.039894,
     "end_time": "2022-05-25T12:17:38.666764",
     "exception": false,
     "start_time": "2022-05-25T12:17:38.626870",
     "status": "completed"
    },
    "tags": []
   },
   "outputs": [],
   "source": [
    "#hide\n",
    "df_table = (pd.DataFrame(dict(Cases = dfc_cases, Deaths = dfc_deaths, PCases = dfp_cases, PDeaths = dfp_deaths))\n",
    "            .sort_values(by = ['Cases','Deaths'], ascending = [False, False])\n",
    "            .reset_index())"
   ]
  },
  {
   "cell_type": "code",
   "execution_count": 13,
   "id": "educational-chancellor",
   "metadata": {
    "execution": {
     "iopub.execute_input": "2022-05-25T12:17:38.741253Z",
     "iopub.status.busy": "2022-05-25T12:17:38.740700Z",
     "iopub.status.idle": "2022-05-25T12:17:38.752619Z",
     "shell.execute_reply": "2022-05-25T12:17:38.752069Z"
    },
    "papermill": {
     "duration": 0.055134,
     "end_time": "2022-05-25T12:17:38.752719",
     "exception": false,
     "start_time": "2022-05-25T12:17:38.697585",
     "status": "completed"
    },
    "tags": []
   },
   "outputs": [
    {
     "data": {
      "text/html": [
       "<div>\n",
       "<style scoped>\n",
       "    .dataframe tbody tr th:only-of-type {\n",
       "        vertical-align: middle;\n",
       "    }\n",
       "\n",
       "    .dataframe tbody tr th {\n",
       "        vertical-align: top;\n",
       "    }\n",
       "\n",
       "    .dataframe thead th {\n",
       "        text-align: right;\n",
       "    }\n",
       "</style>\n",
       "<table border=\"1\" class=\"dataframe\">\n",
       "  <thead>\n",
       "    <tr style=\"text-align: right;\">\n",
       "      <th></th>\n",
       "      <th>Country/Region</th>\n",
       "      <th>Cases</th>\n",
       "      <th>Deaths</th>\n",
       "      <th>PCases</th>\n",
       "      <th>PDeaths</th>\n",
       "      <th>Cases (+)</th>\n",
       "      <th>Deaths (+)</th>\n",
       "      <th>Fatality Rate</th>\n",
       "      <th>Continent</th>\n",
       "    </tr>\n",
       "  </thead>\n",
       "  <tbody>\n",
       "    <tr>\n",
       "      <th>0</th>\n",
       "      <td>US</td>\n",
       "      <td>83501457</td>\n",
       "      <td>1002726</td>\n",
       "      <td>83390587</td>\n",
       "      <td>1002377</td>\n",
       "      <td>110870</td>\n",
       "      <td>349</td>\n",
       "      <td>1.20</td>\n",
       "      <td>North America</td>\n",
       "    </tr>\n",
       "    <tr>\n",
       "      <th>1</th>\n",
       "      <td>India</td>\n",
       "      <td>43142192</td>\n",
       "      <td>524507</td>\n",
       "      <td>43140068</td>\n",
       "      <td>524490</td>\n",
       "      <td>2124</td>\n",
       "      <td>17</td>\n",
       "      <td>1.22</td>\n",
       "      <td>Asia</td>\n",
       "    </tr>\n",
       "    <tr>\n",
       "      <th>2</th>\n",
       "      <td>Brazil</td>\n",
       "      <td>30836815</td>\n",
       "      <td>666129</td>\n",
       "      <td>30803995</td>\n",
       "      <td>665891</td>\n",
       "      <td>32820</td>\n",
       "      <td>238</td>\n",
       "      <td>2.16</td>\n",
       "      <td>South America</td>\n",
       "    </tr>\n",
       "    <tr>\n",
       "      <th>3</th>\n",
       "      <td>France</td>\n",
       "      <td>29583616</td>\n",
       "      <td>149044</td>\n",
       "      <td>29551335</td>\n",
       "      <td>148955</td>\n",
       "      <td>32281</td>\n",
       "      <td>89</td>\n",
       "      <td>0.50</td>\n",
       "      <td>Europe</td>\n",
       "    </tr>\n",
       "    <tr>\n",
       "      <th>4</th>\n",
       "      <td>Germany</td>\n",
       "      <td>26159106</td>\n",
       "      <td>138643</td>\n",
       "      <td>26109965</td>\n",
       "      <td>138485</td>\n",
       "      <td>49141</td>\n",
       "      <td>158</td>\n",
       "      <td>0.53</td>\n",
       "      <td>Europe</td>\n",
       "    </tr>\n",
       "  </tbody>\n",
       "</table>\n",
       "</div>"
      ],
      "text/plain": [
       "  Country/Region     Cases   Deaths    PCases  PDeaths  Cases (+)  Deaths (+)  \\\n",
       "0             US  83501457  1002726  83390587  1002377     110870         349   \n",
       "1          India  43142192   524507  43140068   524490       2124          17   \n",
       "2         Brazil  30836815   666129  30803995   665891      32820         238   \n",
       "3         France  29583616   149044  29551335   148955      32281          89   \n",
       "4        Germany  26159106   138643  26109965   138485      49141         158   \n",
       "\n",
       "   Fatality Rate      Continent  \n",
       "0           1.20  North America  \n",
       "1           1.22           Asia  \n",
       "2           2.16  South America  \n",
       "3           0.50         Europe  \n",
       "4           0.53         Europe  "
      ]
     },
     "execution_count": 13,
     "metadata": {},
     "output_type": "execute_result"
    }
   ],
   "source": [
    "#hide\n",
    "for c in 'Cases, Deaths'.split(', '):\n",
    "    df_table[f'{c} (+)'] = (df_table[c] - df_table[f'P{c}']).clip(0)\n",
    "    #Clip ça veut dire, les chiffres negatif sont interdit\n",
    "df_table['Fatality Rate'] = (100* df_table['Deaths']/ df_table['Cases']).round(2)\n",
    "df_table['Continent'] = df_table['Country/Region'].map(mapping['map.continent'])\n",
    "df_table.head(5)"
   ]
  },
  {
   "cell_type": "code",
   "execution_count": 14,
   "id": "aboriginal-bulgaria",
   "metadata": {
    "execution": {
     "iopub.execute_input": "2022-05-25T12:17:38.820554Z",
     "iopub.status.busy": "2022-05-25T12:17:38.820007Z",
     "iopub.status.idle": "2022-05-25T12:17:38.823194Z",
     "shell.execute_reply": "2022-05-25T12:17:38.822746Z"
    },
    "papermill": {
     "duration": 0.039251,
     "end_time": "2022-05-25T12:17:38.823292",
     "exception": false,
     "start_time": "2022-05-25T12:17:38.784041",
     "status": "completed"
    },
    "tags": []
   },
   "outputs": [],
   "source": [
    "#hide\n",
    "#delete problematic countries from table\n",
    "df_table = df_table[~df_table['Country/Region'].isin(['Cape Verde', 'Cruise Ship', 'Kosovo'])]"
   ]
  },
  {
   "cell_type": "code",
   "execution_count": 15,
   "id": "fantastic-effect",
   "metadata": {
    "execution": {
     "iopub.execute_input": "2022-05-25T12:17:38.900596Z",
     "iopub.status.busy": "2022-05-25T12:17:38.892168Z",
     "iopub.status.idle": "2022-05-25T12:17:38.909720Z",
     "shell.execute_reply": "2022-05-25T12:17:38.909255Z"
    },
    "papermill": {
     "duration": 0.055384,
     "end_time": "2022-05-25T12:17:38.909818",
     "exception": false,
     "start_time": "2022-05-25T12:17:38.854434",
     "status": "completed"
    },
    "tags": []
   },
   "outputs": [
    {
     "data": {
      "text/html": [
       "<div>\n",
       "<style scoped>\n",
       "    .dataframe tbody tr th:only-of-type {\n",
       "        vertical-align: middle;\n",
       "    }\n",
       "\n",
       "    .dataframe tbody tr th {\n",
       "        vertical-align: top;\n",
       "    }\n",
       "\n",
       "    .dataframe thead th {\n",
       "        text-align: right;\n",
       "    }\n",
       "</style>\n",
       "<table border=\"1\" class=\"dataframe\">\n",
       "  <thead>\n",
       "    <tr style=\"text-align: right;\">\n",
       "      <th></th>\n",
       "      <th>Country/Region</th>\n",
       "      <th>Cases</th>\n",
       "      <th>Deaths</th>\n",
       "      <th>PCases</th>\n",
       "      <th>PDeaths</th>\n",
       "      <th>Cases (+)</th>\n",
       "      <th>Deaths (+)</th>\n",
       "      <th>Fatality Rate</th>\n",
       "      <th>Continent</th>\n",
       "    </tr>\n",
       "  </thead>\n",
       "  <tbody>\n",
       "    <tr>\n",
       "      <th>0</th>\n",
       "      <td>US</td>\n",
       "      <td>83501457</td>\n",
       "      <td>1002726</td>\n",
       "      <td>83390587</td>\n",
       "      <td>1002377</td>\n",
       "      <td>110870</td>\n",
       "      <td>349</td>\n",
       "      <td>1.2</td>\n",
       "      <td>North America</td>\n",
       "    </tr>\n",
       "    <tr>\n",
       "      <th>1</th>\n",
       "      <td>India</td>\n",
       "      <td>43142192</td>\n",
       "      <td>524507</td>\n",
       "      <td>43140068</td>\n",
       "      <td>524490</td>\n",
       "      <td>2124</td>\n",
       "      <td>17</td>\n",
       "      <td>1.2</td>\n",
       "      <td>Asia</td>\n",
       "    </tr>\n",
       "    <tr>\n",
       "      <th>2</th>\n",
       "      <td>Brazil</td>\n",
       "      <td>30836815</td>\n",
       "      <td>666129</td>\n",
       "      <td>30803995</td>\n",
       "      <td>665891</td>\n",
       "      <td>32820</td>\n",
       "      <td>238</td>\n",
       "      <td>2.2</td>\n",
       "      <td>South America</td>\n",
       "    </tr>\n",
       "    <tr>\n",
       "      <th>3</th>\n",
       "      <td>France</td>\n",
       "      <td>29583616</td>\n",
       "      <td>149044</td>\n",
       "      <td>29551335</td>\n",
       "      <td>148955</td>\n",
       "      <td>32281</td>\n",
       "      <td>89</td>\n",
       "      <td>0.5</td>\n",
       "      <td>Europe</td>\n",
       "    </tr>\n",
       "    <tr>\n",
       "      <th>4</th>\n",
       "      <td>Germany</td>\n",
       "      <td>26159106</td>\n",
       "      <td>138643</td>\n",
       "      <td>26109965</td>\n",
       "      <td>138485</td>\n",
       "      <td>49141</td>\n",
       "      <td>158</td>\n",
       "      <td>0.5</td>\n",
       "      <td>Europe</td>\n",
       "    </tr>\n",
       "  </tbody>\n",
       "</table>\n",
       "</div>"
      ],
      "text/plain": [
       "  Country/Region     Cases   Deaths    PCases  PDeaths  Cases (+)  Deaths (+)  \\\n",
       "0             US  83501457  1002726  83390587  1002377     110870         349   \n",
       "1          India  43142192   524507  43140068   524490       2124          17   \n",
       "2         Brazil  30836815   666129  30803995   665891      32820         238   \n",
       "3         France  29583616   149044  29551335   148955      32281          89   \n",
       "4        Germany  26159106   138643  26109965   138485      49141         158   \n",
       "\n",
       "   Fatality Rate      Continent  \n",
       "0            1.2  North America  \n",
       "1            1.2           Asia  \n",
       "2            2.2  South America  \n",
       "3            0.5         Europe  \n",
       "4            0.5         Europe  "
      ]
     },
     "execution_count": 15,
     "metadata": {},
     "output_type": "execute_result"
    }
   ],
   "source": [
    "#hide\n",
    "df_table = (pd.DataFrame(dict(Cases=dfc_cases, Deaths=dfc_deaths, PCases=dfp_cases, PDeaths=dfp_deaths))\n",
    "             .sort_values(by=['Cases', 'Deaths'], ascending=[False, False])\n",
    "             .reset_index())\n",
    "df_table.rename(columns={'index': 'Country/Region'}, inplace=True)\n",
    "for c in 'Cases, Deaths'.split(', '):\n",
    "    df_table[f'{c} (+)'] = (df_table[c] - df_table[f'P{c}']).clip(0)  # DATA BUG\n",
    "df_table['Fatality Rate'] = (100 * df_table['Deaths'] / df_table['Cases']).round(1)\n",
    "df_table['Continent'] = df_table['Country/Region'].map(mapping['map.continent'])\n",
    "df_table.head(5)"
   ]
  },
  {
   "cell_type": "code",
   "execution_count": 16,
   "id": "fewer-occasion",
   "metadata": {
    "execution": {
     "iopub.execute_input": "2022-05-25T12:17:38.979011Z",
     "iopub.status.busy": "2022-05-25T12:17:38.978466Z",
     "iopub.status.idle": "2022-05-25T12:17:38.981060Z",
     "shell.execute_reply": "2022-05-25T12:17:38.980591Z"
    },
    "papermill": {
     "duration": 0.039282,
     "end_time": "2022-05-25T12:17:38.981158",
     "exception": false,
     "start_time": "2022-05-25T12:17:38.941876",
     "status": "completed"
    },
    "tags": []
   },
   "outputs": [],
   "source": [
    "#hide\n",
    "#delete problematic countries from table\n",
    "df_table = df_table[~df_table['Country/Region'].isin(['Cape Verde', 'Cruise Ship', 'Kosovo'])]"
   ]
  },
  {
   "cell_type": "code",
   "execution_count": 17,
   "id": "related-center",
   "metadata": {
    "execution": {
     "iopub.execute_input": "2022-05-25T12:17:39.060724Z",
     "iopub.status.busy": "2022-05-25T12:17:39.051255Z",
     "iopub.status.idle": "2022-05-25T12:17:39.063082Z",
     "shell.execute_reply": "2022-05-25T12:17:39.062639Z"
    },
    "papermill": {
     "duration": 0.05026,
     "end_time": "2022-05-25T12:17:39.063179",
     "exception": false,
     "start_time": "2022-05-25T12:17:39.012919",
     "status": "completed"
    },
    "tags": []
   },
   "outputs": [],
   "source": [
    "#hide\n",
    "metrics = [df_table.columns[index] for index in [1,2,5,6]]\n",
    "# s_china = df_table[df_table['Country/Region'].eq('China')][metrics].sum().add_prefix('China ')\n",
    "s_us = df_table[df_table['Country/Region'].eq('US')][metrics].sum().add_prefix('US ')\n",
    "s_eu = df_table[df_table['Continent'].eq('Europe')][metrics].sum().add_prefix('EU ')\n",
    "s_ind = df_table[df_table['Country/Region'].eq('India')][metrics].sum().add_prefix('India ')\n",
    "summary = {'updated': pd.to_datetime(dt_today), 'since': pd.to_datetime(dt_yday)}\n",
    "summary = {'updated': pd.to_datetime(dt_today), 'since': pd.to_datetime(dt_yday)}\n",
    "summary = {**summary, **df_table[metrics].sum(), **s_ind, **s_us, **s_eu}"
   ]
  },
  {
   "cell_type": "code",
   "execution_count": 18,
   "id": "engaging-syndrome",
   "metadata": {
    "execution": {
     "iopub.execute_input": "2022-05-25T12:17:39.131546Z",
     "iopub.status.busy": "2022-05-25T12:17:39.130976Z",
     "iopub.status.idle": "2022-05-25T12:17:39.147258Z",
     "shell.execute_reply": "2022-05-25T12:17:39.146793Z"
    },
    "papermill": {
     "duration": 0.052242,
     "end_time": "2022-05-25T12:17:39.147354",
     "exception": false,
     "start_time": "2022-05-25T12:17:39.095112",
     "status": "completed"
    },
    "tags": []
   },
   "outputs": [],
   "source": [
    "#hide\n",
    "dft_ct_new_cases = dft_cases.groupby(COL_REGION)[dt_cols].sum().diff(axis=1).fillna(0).astype(int)"
   ]
  },
  {
   "cell_type": "code",
   "execution_count": 19,
   "id": "neutral-assignment",
   "metadata": {
    "execution": {
     "iopub.execute_input": "2022-05-25T12:17:39.215972Z",
     "iopub.status.busy": "2022-05-25T12:17:39.215417Z",
     "iopub.status.idle": "2022-05-25T12:17:39.217633Z",
     "shell.execute_reply": "2022-05-25T12:17:39.218069Z"
    },
    "papermill": {
     "duration": 0.038935,
     "end_time": "2022-05-25T12:17:39.218184",
     "exception": false,
     "start_time": "2022-05-25T12:17:39.179249",
     "status": "completed"
    },
    "tags": []
   },
   "outputs": [],
   "source": [
    "#hide\n",
    "everydaycases = dft_ct_new_cases.cumsum(axis=1)"
   ]
  },
  {
   "cell_type": "code",
   "execution_count": 20,
   "id": "parliamentary-calgary",
   "metadata": {
    "execution": {
     "iopub.execute_input": "2022-05-25T12:17:39.285568Z",
     "iopub.status.busy": "2022-05-25T12:17:39.284996Z",
     "iopub.status.idle": "2022-05-25T12:17:39.819468Z",
     "shell.execute_reply": "2022-05-25T12:17:39.818983Z"
    },
    "papermill": {
     "duration": 0.569562,
     "end_time": "2022-05-25T12:17:39.819585",
     "exception": false,
     "start_time": "2022-05-25T12:17:39.250023",
     "status": "completed"
    },
    "tags": []
   },
   "outputs": [],
   "source": [
    "#hide\n",
    "import pandas as pd\n",
    "import matplotlib.pyplot as plt\n",
    "import matplotlib.ticker as ticker\n",
    "import matplotlib.animation as animation\n",
    "from IPython.display import HTML"
   ]
  },
  {
   "cell_type": "code",
   "execution_count": 21,
   "id": "lasting-extraction",
   "metadata": {
    "execution": {
     "iopub.execute_input": "2022-05-25T12:17:39.889352Z",
     "iopub.status.busy": "2022-05-25T12:17:39.888797Z",
     "iopub.status.idle": "2022-05-25T12:17:39.895824Z",
     "shell.execute_reply": "2022-05-25T12:17:39.896268Z"
    },
    "papermill": {
     "duration": 0.04464,
     "end_time": "2022-05-25T12:17:39.896385",
     "exception": false,
     "start_time": "2022-05-25T12:17:39.851745",
     "status": "completed"
    },
    "tags": []
   },
   "outputs": [],
   "source": [
    "#hide\n",
    "t = everydaycases.stack()"
   ]
  },
  {
   "cell_type": "code",
   "execution_count": 22,
   "id": "premier-sleeve",
   "metadata": {
    "execution": {
     "iopub.execute_input": "2022-05-25T12:17:39.964203Z",
     "iopub.status.busy": "2022-05-25T12:17:39.963643Z",
     "iopub.status.idle": "2022-05-25T12:17:39.975964Z",
     "shell.execute_reply": "2022-05-25T12:17:39.975481Z"
    },
    "papermill": {
     "duration": 0.047652,
     "end_time": "2022-05-25T12:17:39.976067",
     "exception": false,
     "start_time": "2022-05-25T12:17:39.928415",
     "status": "completed"
    },
    "tags": []
   },
   "outputs": [],
   "source": [
    "#hide\n",
    "g = t.reset_index(['Country/Region'])"
   ]
  },
  {
   "cell_type": "code",
   "execution_count": 23,
   "id": "distributed-pittsburgh",
   "metadata": {
    "execution": {
     "iopub.execute_input": "2022-05-25T12:17:40.043434Z",
     "iopub.status.busy": "2022-05-25T12:17:40.042878Z",
     "iopub.status.idle": "2022-05-25T12:17:40.045229Z",
     "shell.execute_reply": "2022-05-25T12:17:40.044704Z"
    },
    "papermill": {
     "duration": 0.037392,
     "end_time": "2022-05-25T12:17:40.045327",
     "exception": false,
     "start_time": "2022-05-25T12:17:40.007935",
     "status": "completed"
    },
    "tags": []
   },
   "outputs": [],
   "source": [
    "#hide\n",
    "g.index.name = 'date'"
   ]
  },
  {
   "cell_type": "code",
   "execution_count": 24,
   "id": "naked-donor",
   "metadata": {
    "execution": {
     "iopub.execute_input": "2022-05-25T12:17:40.112547Z",
     "iopub.status.busy": "2022-05-25T12:17:40.111971Z",
     "iopub.status.idle": "2022-05-25T12:17:40.114145Z",
     "shell.execute_reply": "2022-05-25T12:17:40.114554Z"
    },
    "papermill": {
     "duration": 0.037494,
     "end_time": "2022-05-25T12:17:40.114672",
     "exception": false,
     "start_time": "2022-05-25T12:17:40.077178",
     "status": "completed"
    },
    "tags": []
   },
   "outputs": [],
   "source": [
    "# #hide\n",
    "# g = g.reset_index(['date'])"
   ]
  },
  {
   "cell_type": "code",
   "execution_count": 25,
   "id": "incomplete-mustang",
   "metadata": {
    "execution": {
     "iopub.execute_input": "2022-05-25T12:17:40.182052Z",
     "iopub.status.busy": "2022-05-25T12:17:40.181458Z",
     "iopub.status.idle": "2022-05-25T12:17:40.183707Z",
     "shell.execute_reply": "2022-05-25T12:17:40.184123Z"
    },
    "papermill": {
     "duration": 0.037554,
     "end_time": "2022-05-25T12:17:40.184242",
     "exception": false,
     "start_time": "2022-05-25T12:17:40.146688",
     "status": "completed"
    },
    "tags": []
   },
   "outputs": [],
   "source": [
    "#hide\n",
    "# g.head()"
   ]
  },
  {
   "cell_type": "code",
   "execution_count": 26,
   "id": "specific-kruger",
   "metadata": {
    "execution": {
     "iopub.execute_input": "2022-05-25T12:17:40.251272Z",
     "iopub.status.busy": "2022-05-25T12:17:40.250687Z",
     "iopub.status.idle": "2022-05-25T12:17:40.253331Z",
     "shell.execute_reply": "2022-05-25T12:17:40.252889Z"
    },
    "papermill": {
     "duration": 0.037313,
     "end_time": "2022-05-25T12:17:40.253428",
     "exception": false,
     "start_time": "2022-05-25T12:17:40.216115",
     "status": "completed"
    },
    "tags": []
   },
   "outputs": [],
   "source": [
    "#hide\n",
    "# g.columns = ['date','country','cases']"
   ]
  },
  {
   "cell_type": "code",
   "execution_count": 27,
   "id": "tender-conversion",
   "metadata": {
    "execution": {
     "iopub.execute_input": "2022-05-25T12:17:40.320532Z",
     "iopub.status.busy": "2022-05-25T12:17:40.319959Z",
     "iopub.status.idle": "2022-05-25T12:17:40.322609Z",
     "shell.execute_reply": "2022-05-25T12:17:40.322127Z"
    },
    "papermill": {
     "duration": 0.037448,
     "end_time": "2022-05-25T12:17:40.322707",
     "exception": false,
     "start_time": "2022-05-25T12:17:40.285259",
     "status": "completed"
    },
    "tags": []
   },
   "outputs": [],
   "source": [
    "#hide\n",
    "# g['continent'] = g.country"
   ]
  },
  {
   "cell_type": "code",
   "execution_count": 28,
   "id": "substantial-wilderness",
   "metadata": {
    "execution": {
     "iopub.execute_input": "2022-05-25T12:17:40.391332Z",
     "iopub.status.busy": "2022-05-25T12:17:40.390776Z",
     "iopub.status.idle": "2022-05-25T12:17:40.392925Z",
     "shell.execute_reply": "2022-05-25T12:17:40.393346Z"
    },
    "papermill": {
     "duration": 0.037788,
     "end_time": "2022-05-25T12:17:40.393464",
     "exception": false,
     "start_time": "2022-05-25T12:17:40.355676",
     "status": "completed"
    },
    "tags": []
   },
   "outputs": [],
   "source": [
    "#hide\n",
    "# cols = list(g.columns.values)"
   ]
  },
  {
   "cell_type": "code",
   "execution_count": 29,
   "id": "solved-farming",
   "metadata": {
    "execution": {
     "iopub.execute_input": "2022-05-25T12:17:40.460609Z",
     "iopub.status.busy": "2022-05-25T12:17:40.460043Z",
     "iopub.status.idle": "2022-05-25T12:17:40.462539Z",
     "shell.execute_reply": "2022-05-25T12:17:40.462072Z"
    },
    "papermill": {
     "duration": 0.037209,
     "end_time": "2022-05-25T12:17:40.462639",
     "exception": false,
     "start_time": "2022-05-25T12:17:40.425430",
     "status": "completed"
    },
    "tags": []
   },
   "outputs": [],
   "source": [
    "#hide\n",
    "# cols.insert(0, cols.pop())"
   ]
  },
  {
   "cell_type": "code",
   "execution_count": 30,
   "id": "executed-adoption",
   "metadata": {
    "execution": {
     "iopub.execute_input": "2022-05-25T12:17:40.538648Z",
     "iopub.status.busy": "2022-05-25T12:17:40.537925Z",
     "iopub.status.idle": "2022-05-25T12:17:40.539621Z",
     "shell.execute_reply": "2022-05-25T12:17:40.539168Z"
    },
    "papermill": {
     "duration": 0.045062,
     "end_time": "2022-05-25T12:17:40.539722",
     "exception": false,
     "start_time": "2022-05-25T12:17:40.494660",
     "status": "completed"
    },
    "tags": []
   },
   "outputs": [],
   "source": [
    "#hide\n",
    "# g = g[cols]"
   ]
  },
  {
   "cell_type": "code",
   "execution_count": 31,
   "id": "subject-dublin",
   "metadata": {
    "execution": {
     "iopub.execute_input": "2022-05-25T12:17:40.629875Z",
     "iopub.status.busy": "2022-05-25T12:17:40.628879Z",
     "iopub.status.idle": "2022-05-25T12:17:40.630916Z",
     "shell.execute_reply": "2022-05-25T12:17:40.630438Z"
    },
    "papermill": {
     "duration": 0.039786,
     "end_time": "2022-05-25T12:17:40.631017",
     "exception": false,
     "start_time": "2022-05-25T12:17:40.591231",
     "status": "completed"
    },
    "tags": []
   },
   "outputs": [],
   "source": [
    "#hide\n",
    "# g['continent'] = g['continent'].map(mapping['map.continent'])"
   ]
  },
  {
   "cell_type": "code",
   "execution_count": 32,
   "id": "freelance-scout",
   "metadata": {
    "execution": {
     "iopub.execute_input": "2022-05-25T12:17:40.729688Z",
     "iopub.status.busy": "2022-05-25T12:17:40.729111Z",
     "iopub.status.idle": "2022-05-25T12:17:40.732420Z",
     "shell.execute_reply": "2022-05-25T12:17:40.731974Z"
    },
    "papermill": {
     "duration": 0.046701,
     "end_time": "2022-05-25T12:17:40.732526",
     "exception": false,
     "start_time": "2022-05-25T12:17:40.685825",
     "status": "completed"
    },
    "tags": []
   },
   "outputs": [],
   "source": [
    "#hide\n",
    "# g.head()"
   ]
  },
  {
   "cell_type": "code",
   "execution_count": 33,
   "id": "limited-engine",
   "metadata": {
    "execution": {
     "iopub.execute_input": "2022-05-25T12:17:40.835219Z",
     "iopub.status.busy": "2022-05-25T12:17:40.834651Z",
     "iopub.status.idle": "2022-05-25T12:17:40.837116Z",
     "shell.execute_reply": "2022-05-25T12:17:40.836656Z"
    },
    "papermill": {
     "duration": 0.055939,
     "end_time": "2022-05-25T12:17:40.837215",
     "exception": false,
     "start_time": "2022-05-25T12:17:40.781276",
     "status": "completed"
    },
    "tags": []
   },
   "outputs": [],
   "source": [
    "# hide\n",
    "# g['date'] = g['date'].astype('datetime64[ns]')"
   ]
  },
  {
   "cell_type": "code",
   "execution_count": 34,
   "id": "sophisticated-supervisor",
   "metadata": {
    "execution": {
     "iopub.execute_input": "2022-05-25T12:17:41.088965Z",
     "iopub.status.busy": "2022-05-25T12:17:41.088044Z",
     "iopub.status.idle": "2022-05-25T12:17:41.090217Z",
     "shell.execute_reply": "2022-05-25T12:17:41.089680Z"
    },
    "papermill": {
     "duration": 0.093298,
     "end_time": "2022-05-25T12:17:41.090321",
     "exception": false,
     "start_time": "2022-05-25T12:17:40.997023",
     "status": "completed"
    },
    "tags": []
   },
   "outputs": [],
   "source": [
    "#hide\n",
    "# g['date'] = g.date.dt.dayofyear"
   ]
  },
  {
   "cell_type": "code",
   "execution_count": 35,
   "id": "inside-dubai",
   "metadata": {
    "execution": {
     "iopub.execute_input": "2022-05-25T12:17:41.230443Z",
     "iopub.status.busy": "2022-05-25T12:17:41.229881Z",
     "iopub.status.idle": "2022-05-25T12:17:41.232210Z",
     "shell.execute_reply": "2022-05-25T12:17:41.231740Z"
    },
    "papermill": {
     "duration": 0.05334,
     "end_time": "2022-05-25T12:17:41.232311",
     "exception": false,
     "start_time": "2022-05-25T12:17:41.178971",
     "status": "completed"
    },
    "tags": []
   },
   "outputs": [],
   "source": [
    "#hide\n",
    "# g = g.rename(columns= {'continent':'group','country':'name','cases':'value'})"
   ]
  },
  {
   "cell_type": "code",
   "execution_count": 36,
   "id": "fleet-motorcycle",
   "metadata": {
    "execution": {
     "iopub.execute_input": "2022-05-25T12:17:41.299592Z",
     "iopub.status.busy": "2022-05-25T12:17:41.299026Z",
     "iopub.status.idle": "2022-05-25T12:17:41.301403Z",
     "shell.execute_reply": "2022-05-25T12:17:41.300980Z"
    },
    "papermill": {
     "duration": 0.037158,
     "end_time": "2022-05-25T12:17:41.301502",
     "exception": false,
     "start_time": "2022-05-25T12:17:41.264344",
     "status": "completed"
    },
    "tags": []
   },
   "outputs": [],
   "source": [
    "#hide\n",
    "# cols = ['name','group','day','value']"
   ]
  },
  {
   "cell_type": "code",
   "execution_count": 37,
   "id": "continued-sleeping",
   "metadata": {
    "execution": {
     "iopub.execute_input": "2022-05-25T12:17:41.368422Z",
     "iopub.status.busy": "2022-05-25T12:17:41.367865Z",
     "iopub.status.idle": "2022-05-25T12:17:41.370230Z",
     "shell.execute_reply": "2022-05-25T12:17:41.369700Z"
    },
    "papermill": {
     "duration": 0.03694,
     "end_time": "2022-05-25T12:17:41.370327",
     "exception": false,
     "start_time": "2022-05-25T12:17:41.333387",
     "status": "completed"
    },
    "tags": []
   },
   "outputs": [],
   "source": [
    "#hide\n",
    "# g.rename(columns= {'date':'day'},inplace = True)"
   ]
  },
  {
   "cell_type": "code",
   "execution_count": 38,
   "id": "major-fight",
   "metadata": {
    "execution": {
     "iopub.execute_input": "2022-05-25T12:17:41.437729Z",
     "iopub.status.busy": "2022-05-25T12:17:41.437139Z",
     "iopub.status.idle": "2022-05-25T12:17:41.439192Z",
     "shell.execute_reply": "2022-05-25T12:17:41.439607Z"
    },
    "papermill": {
     "duration": 0.037089,
     "end_time": "2022-05-25T12:17:41.439725",
     "exception": false,
     "start_time": "2022-05-25T12:17:41.402636",
     "status": "completed"
    },
    "tags": []
   },
   "outputs": [],
   "source": [
    "#hide\n",
    "# g = g[cols]"
   ]
  },
  {
   "cell_type": "code",
   "execution_count": 39,
   "id": "structured-mobile",
   "metadata": {
    "execution": {
     "iopub.execute_input": "2022-05-25T12:17:41.506910Z",
     "iopub.status.busy": "2022-05-25T12:17:41.506345Z",
     "iopub.status.idle": "2022-05-25T12:17:41.508701Z",
     "shell.execute_reply": "2022-05-25T12:17:41.508261Z"
    },
    "papermill": {
     "duration": 0.037238,
     "end_time": "2022-05-25T12:17:41.508798",
     "exception": false,
     "start_time": "2022-05-25T12:17:41.471560",
     "status": "completed"
    },
    "tags": []
   },
   "outputs": [],
   "source": [
    "# #hide\n",
    "# g = g[g.group.notna()]"
   ]
  },
  {
   "cell_type": "code",
   "execution_count": 40,
   "id": "determined-closing",
   "metadata": {
    "execution": {
     "iopub.execute_input": "2022-05-25T12:17:41.576335Z",
     "iopub.status.busy": "2022-05-25T12:17:41.575767Z",
     "iopub.status.idle": "2022-05-25T12:17:41.577478Z",
     "shell.execute_reply": "2022-05-25T12:17:41.577914Z"
    },
    "papermill": {
     "duration": 0.037226,
     "end_time": "2022-05-25T12:17:41.578028",
     "exception": false,
     "start_time": "2022-05-25T12:17:41.540802",
     "status": "completed"
    },
    "tags": []
   },
   "outputs": [],
   "source": [
    "# #hide\n",
    "# colors = dict(zip(\n",
    "#     [\"Oceania\", \"Europe\", \"Asia\", \"South America\", \"Middle East\", \"North America\", \"Africa\"],\n",
    "#     [\"#adb0ff\", \"#ffb3ff\", \"#90d595\", \"#e48381\", \"#aafbff\", \"#f7bb5f\", \"#eafb50\"]\n",
    "# ))\n",
    "# group_lk = g.set_index('name')['group'].to_dict()"
   ]
  },
  {
   "cell_type": "code",
   "execution_count": null,
   "id": "gross-drinking",
   "metadata": {
    "papermill": {
     "duration": 0.031631,
     "end_time": "2022-05-25T12:17:41.641448",
     "exception": false,
     "start_time": "2022-05-25T12:17:41.609817",
     "status": "completed"
    },
    "tags": []
   },
   "outputs": [],
   "source": []
  },
  {
   "cell_type": "code",
   "execution_count": 41,
   "id": "subject-macintosh",
   "metadata": {
    "execution": {
     "iopub.execute_input": "2022-05-25T12:17:41.709207Z",
     "iopub.status.busy": "2022-05-25T12:17:41.708638Z",
     "iopub.status.idle": "2022-05-25T12:17:41.710599Z",
     "shell.execute_reply": "2022-05-25T12:17:41.711035Z"
    },
    "papermill": {
     "duration": 0.037746,
     "end_time": "2022-05-25T12:17:41.711148",
     "exception": false,
     "start_time": "2022-05-25T12:17:41.673402",
     "status": "completed"
    },
    "tags": []
   },
   "outputs": [],
   "source": [
    "# #hide\n",
    "# fig, ax = plt.subplots(figsize=(15, 8))\n",
    "\n",
    "# def draw_barchart(current_day):\n",
    "#     dff = g[g['day'].eq(current_day)].sort_values(by='value', ascending=True).tail(10)\n",
    "#     ax.clear()\n",
    "#     ax.barh(dff['name'], dff['value'], color=[colors[group_lk[x]] for x in dff['name']])\n",
    "#     dx = dff['value'].max() / 200\n",
    "    \n",
    "#     for i, (value, name) in enumerate(zip(dff['value'], dff['name'])):\n",
    "#         ax.text(value-dx, i,     name,           size=14, weight=600, ha='right', va='bottom')\n",
    "#         ax.text(value-dx, i-.25, group_lk[name], size=10, color='#444444', ha='right', va='baseline')\n",
    "#         ax.text(value+dx, i,     f'{value:,.0f}',  size=14, ha='left',  va='center')\n",
    "#     ax.text(1, 0.4, current_day, transform=ax.transAxes, color='#777777', size=46, ha='right', weight=800)\n",
    "#     ax.text(0, 1.06, 'Population (thousands)', transform=ax.transAxes, size=12, color='#777777')\n",
    "#     ax.xaxis.set_major_formatter(ticker.StrMethodFormatter('{x:,.0f}'))\n",
    "#     ax.xaxis.set_ticks_position('top')\n",
    "#     ax.tick_params(axis='x', colors='#777777', labelsize=12)\n",
    "#     ax.set_yticks([])\n",
    "#     ax.margins(0, 0.01)\n",
    "#     ax.grid(which='major', axis='x', linestyle='-')\n",
    "#     ax.set_axisbelow(True)\n",
    "    \n",
    "#     ax.text(0, 1.15, 'Coronavirus',\n",
    "#             transform=ax.transAxes, size=24, weight=600, ha='left', va='top')\n",
    "# #     ax.text(1, 0, 'by @pratapvardhan; credit @jburnmurdoch', transform=ax.transAxes, color='#777777', ha='right',\n",
    "# #             bbox=dict(facecolor='white', alpha=0.8, edgecolor='white'))\n",
    "#     plt.box(False)"
   ]
  },
  {
   "cell_type": "code",
   "execution_count": 42,
   "id": "sexual-wages",
   "metadata": {
    "execution": {
     "iopub.execute_input": "2022-05-25T12:17:41.778434Z",
     "iopub.status.busy": "2022-05-25T12:17:41.777870Z",
     "iopub.status.idle": "2022-05-25T12:17:41.780002Z",
     "shell.execute_reply": "2022-05-25T12:17:41.779474Z"
    },
    "papermill": {
     "duration": 0.037045,
     "end_time": "2022-05-25T12:17:41.780099",
     "exception": false,
     "start_time": "2022-05-25T12:17:41.743054",
     "status": "completed"
    },
    "tags": []
   },
   "outputs": [],
   "source": [
    "# #hide_input\n",
    "# fig, ax = plt.subplots(figsize=(15, 8))\n",
    "# animator = animation.FuncAnimation(fig, draw_barchart, frames=range(g.day.values.min(), g.day.values.max()))\n",
    "# HTML(animator.to_jshtml())\n",
    "# # or use animator.to_html5_video() or animator.save() "
   ]
  },
  {
   "cell_type": "code",
   "execution_count": null,
   "id": "australian-container",
   "metadata": {
    "papermill": {
     "duration": 0.031752,
     "end_time": "2022-05-25T12:17:41.843869",
     "exception": false,
     "start_time": "2022-05-25T12:17:41.812117",
     "status": "completed"
    },
    "tags": []
   },
   "outputs": [],
   "source": []
  },
  {
   "cell_type": "code",
   "execution_count": null,
   "id": "mediterranean-pontiac",
   "metadata": {
    "papermill": {
     "duration": 0.031776,
     "end_time": "2022-05-25T12:17:41.907493",
     "exception": false,
     "start_time": "2022-05-25T12:17:41.875717",
     "status": "completed"
    },
    "tags": []
   },
   "outputs": [],
   "source": []
  },
  {
   "cell_type": "code",
   "execution_count": null,
   "id": "aging-legislature",
   "metadata": {
    "papermill": {
     "duration": 0.031745,
     "end_time": "2022-05-25T12:17:41.971106",
     "exception": false,
     "start_time": "2022-05-25T12:17:41.939361",
     "status": "completed"
    },
    "tags": []
   },
   "outputs": [],
   "source": []
  }
 ],
 "metadata": {
  "kernelspec": {
   "display_name": "Python 3",
   "language": "python",
   "name": "python3"
  },
  "language_info": {
   "codemirror_mode": {
    "name": "ipython",
    "version": 3
   },
   "file_extension": ".py",
   "mimetype": "text/x-python",
   "name": "python",
   "nbconvert_exporter": "python",
   "pygments_lexer": "ipython3",
   "version": "3.6.15"
  },
  "papermill": {
   "duration": 6.229077,
   "end_time": "2022-05-25T12:17:42.320876",
   "environment_variables": {},
   "exception": null,
   "input_path": "2020-03-21-covid19exp.ipynb",
   "output_path": "2020-03-21-covid19exp.ipynb",
   "parameters": {},
   "start_time": "2022-05-25T12:17:36.091799",
   "version": "2.0.0"
  }
 },
 "nbformat": 4,
 "nbformat_minor": 5
}