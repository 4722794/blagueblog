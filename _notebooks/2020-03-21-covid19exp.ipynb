{
 "cells": [
  {
   "cell_type": "markdown",
   "id": "muslim-click",
   "metadata": {
    "papermill": {
     "duration": 0.040719,
     "end_time": "2021-05-30T00:52:45.607181",
     "exception": false,
     "start_time": "2021-05-30T00:52:45.566462",
     "status": "completed"
    },
    "tags": []
   },
   "source": [
    "# COVID-19 Case Race\n",
    "> A race chart to see rising cases around the world\n",
    "\n",
    "- author: Hargun Oberoi\n",
    "- image: images/covid-overview.png\n",
    "- hide: false\n",
    "- badges: false"
   ]
  },
  {
   "cell_type": "code",
   "execution_count": 1,
   "id": "proof-material",
   "metadata": {
    "execution": {
     "iopub.execute_input": "2021-05-30T00:52:45.692627Z",
     "iopub.status.busy": "2021-05-30T00:52:45.692010Z",
     "iopub.status.idle": "2021-05-30T00:52:46.085251Z",
     "shell.execute_reply": "2021-05-30T00:52:46.084487Z"
    },
    "papermill": {
     "duration": 0.438636,
     "end_time": "2021-05-30T00:52:46.085450",
     "exception": false,
     "start_time": "2021-05-30T00:52:45.646814",
     "status": "completed"
    },
    "tags": []
   },
   "outputs": [],
   "source": [
    "#hide\n",
    "import numpy as np\n",
    "import pandas as pd\n",
    "from jinja2 import Template\n",
    "from IPython.display import HTML"
   ]
  },
  {
   "cell_type": "code",
   "execution_count": 2,
   "id": "developed-terminology",
   "metadata": {
    "execution": {
     "iopub.execute_input": "2021-05-30T00:52:46.165754Z",
     "iopub.status.busy": "2021-05-30T00:52:46.165021Z",
     "iopub.status.idle": "2021-05-30T00:52:46.167571Z",
     "shell.execute_reply": "2021-05-30T00:52:46.167112Z"
    },
    "papermill": {
     "duration": 0.044054,
     "end_time": "2021-05-30T00:52:46.167722",
     "exception": false,
     "start_time": "2021-05-30T00:52:46.123668",
     "status": "completed"
    },
    "tags": []
   },
   "outputs": [],
   "source": [
    "#hide\n",
    "\n",
    "# FETCH\n",
    "base_url = 'https://raw.githubusercontent.com/pratapvardhan/notebooks/master/covid19/'\n",
    "paths = {\n",
    "    'mapping': base_url + 'mapping_countries.csv',\n",
    "    'overview': base_url + 'overview.tpl'\n",
    "}"
   ]
  },
  {
   "cell_type": "code",
   "execution_count": 3,
   "id": "dynamic-saver",
   "metadata": {
    "execution": {
     "iopub.execute_input": "2021-05-30T00:52:46.250521Z",
     "iopub.status.busy": "2021-05-30T00:52:46.249931Z",
     "iopub.status.idle": "2021-05-30T00:52:46.253770Z",
     "shell.execute_reply": "2021-05-30T00:52:46.253129Z"
    },
    "papermill": {
     "duration": 0.050991,
     "end_time": "2021-05-30T00:52:46.253925",
     "exception": false,
     "start_time": "2021-05-30T00:52:46.202934",
     "status": "completed"
    },
    "tags": []
   },
   "outputs": [
    {
     "data": {
      "text/plain": [
       "'https://raw.githubusercontent.com/pratapvardhan/notebooks/master/covid19/mapping_countries.csv'"
      ]
     },
     "execution_count": 3,
     "metadata": {},
     "output_type": "execute_result"
    }
   ],
   "source": [
    "#hide\n",
    "paths['mapping']"
   ]
  },
  {
   "cell_type": "code",
   "execution_count": 4,
   "id": "urban-software",
   "metadata": {
    "execution": {
     "iopub.execute_input": "2021-05-30T00:52:46.327824Z",
     "iopub.status.busy": "2021-05-30T00:52:46.327062Z",
     "iopub.status.idle": "2021-05-30T00:52:46.329809Z",
     "shell.execute_reply": "2021-05-30T00:52:46.329219Z"
    },
    "papermill": {
     "duration": 0.043663,
     "end_time": "2021-05-30T00:52:46.329953",
     "exception": false,
     "start_time": "2021-05-30T00:52:46.286290",
     "status": "completed"
    },
    "tags": []
   },
   "outputs": [],
   "source": [
    "#hide\n",
    "def get_mappings(url):\n",
    "    df = pd.read_csv(url)\n",
    "    return {\n",
    "        'df': df,\n",
    "        'replace.country': dict(df.dropna(subset=['Name']).set_index('Country')['Name']),\n",
    "        'map.continent': dict(df.set_index('Name')['Continent'])\n",
    "    }"
   ]
  },
  {
   "cell_type": "code",
   "execution_count": 5,
   "id": "intimate-machinery",
   "metadata": {
    "execution": {
     "iopub.execute_input": "2021-05-30T00:52:46.407052Z",
     "iopub.status.busy": "2021-05-30T00:52:46.406395Z",
     "iopub.status.idle": "2021-05-30T00:52:46.443020Z",
     "shell.execute_reply": "2021-05-30T00:52:46.442526Z"
    },
    "papermill": {
     "duration": 0.078072,
     "end_time": "2021-05-30T00:52:46.443235",
     "exception": false,
     "start_time": "2021-05-30T00:52:46.365163",
     "status": "completed"
    },
    "tags": []
   },
   "outputs": [],
   "source": [
    "#hide\n",
    "mapping = get_mappings(paths['mapping'])"
   ]
  },
  {
   "cell_type": "code",
   "execution_count": 6,
   "id": "certified-tactics",
   "metadata": {
    "execution": {
     "iopub.execute_input": "2021-05-30T00:52:46.521952Z",
     "iopub.status.busy": "2021-05-30T00:52:46.521161Z",
     "iopub.status.idle": "2021-05-30T00:52:46.523674Z",
     "shell.execute_reply": "2021-05-30T00:52:46.523244Z"
    },
    "papermill": {
     "duration": 0.044682,
     "end_time": "2021-05-30T00:52:46.523841",
     "exception": false,
     "start_time": "2021-05-30T00:52:46.479159",
     "status": "completed"
    },
    "tags": []
   },
   "outputs": [],
   "source": [
    "#hide\n",
    "def get_template(path):\n",
    "    from urllib.parse import urlparse\n",
    "    if bool(urlparse(path).netloc):\n",
    "        from urllib.request import urlopen\n",
    "        return urlopen(path).read().decode('utf8')\n",
    "    return open(path).read()"
   ]
  },
  {
   "cell_type": "code",
   "execution_count": 7,
   "id": "realistic-blast",
   "metadata": {
    "execution": {
     "iopub.execute_input": "2021-05-30T00:52:46.601663Z",
     "iopub.status.busy": "2021-05-30T00:52:46.601016Z",
     "iopub.status.idle": "2021-05-30T00:52:46.604713Z",
     "shell.execute_reply": "2021-05-30T00:52:46.604136Z"
    },
    "papermill": {
     "duration": 0.044111,
     "end_time": "2021-05-30T00:52:46.604860",
     "exception": false,
     "start_time": "2021-05-30T00:52:46.560749",
     "status": "completed"
    },
    "tags": []
   },
   "outputs": [],
   "source": [
    "#hide\n",
    "def get_frame(name):\n",
    "    url = (\n",
    "        'https://raw.githubusercontent.com/CSSEGISandData/COVID-19/master/csse_covid_19_data/'\n",
    "        f'csse_covid_19_time_series/time_series_covid19_{name}_global.csv')\n",
    "    df = pd.read_csv(url)\n",
    "    # rename countries\n",
    "    df['Country/Region'] = df['Country/Region'].replace(mapping['replace.country'])\n",
    "    return df"
   ]
  },
  {
   "cell_type": "code",
   "execution_count": 8,
   "id": "affiliated-characterization",
   "metadata": {
    "execution": {
     "iopub.execute_input": "2021-05-30T00:52:46.691012Z",
     "iopub.status.busy": "2021-05-30T00:52:46.690282Z",
     "iopub.status.idle": "2021-05-30T00:52:46.692293Z",
     "shell.execute_reply": "2021-05-30T00:52:46.692772Z"
    },
    "papermill": {
     "duration": 0.049836,
     "end_time": "2021-05-30T00:52:46.692899",
     "exception": false,
     "start_time": "2021-05-30T00:52:46.643063",
     "status": "completed"
    },
    "tags": []
   },
   "outputs": [],
   "source": [
    "#hide\n",
    "def get_dates(df):\n",
    "    dt_cols = df.columns[~df.columns.isin(['Province/State', 'Country/Region', 'Lat', 'Long'])]\n",
    "    LAST_DATE_I = -1\n",
    "    # sometimes last column may be empty, then go backwards\n",
    "    for i in range(-1, -len(dt_cols), -1):\n",
    "        if not df[dt_cols[i]].fillna(0).eq(0).all():\n",
    "            LAST_DATE_I = i\n",
    "            break\n",
    "    return LAST_DATE_I, dt_cols"
   ]
  },
  {
   "cell_type": "code",
   "execution_count": 9,
   "id": "recent-optimization",
   "metadata": {
    "execution": {
     "iopub.execute_input": "2021-05-30T00:52:46.771498Z",
     "iopub.status.busy": "2021-05-30T00:52:46.770892Z",
     "iopub.status.idle": "2021-05-30T00:52:47.087886Z",
     "shell.execute_reply": "2021-05-30T00:52:47.087200Z"
    },
    "papermill": {
     "duration": 0.358237,
     "end_time": "2021-05-30T00:52:47.088018",
     "exception": false,
     "start_time": "2021-05-30T00:52:46.729781",
     "status": "completed"
    },
    "tags": []
   },
   "outputs": [],
   "source": [
    "#hide\n",
    "COL_REGION = 'Country/Region'\n",
    "# Confirmed, Recovered, Deaths\n",
    "df = get_frame('confirmed')\n",
    "# dft_: timeseries, dfc_: today country agg\n",
    "dft_cases = df\n",
    "dft_deaths = get_frame('deaths')\n",
    "dft_recovered = get_frame('recovered')\n",
    "LAST_DATE_I, dt_cols = get_dates(df)"
   ]
  },
  {
   "cell_type": "code",
   "execution_count": 10,
   "id": "absolute-copper",
   "metadata": {
    "execution": {
     "iopub.execute_input": "2021-05-30T00:52:47.171901Z",
     "iopub.status.busy": "2021-05-30T00:52:47.171245Z",
     "iopub.status.idle": "2021-05-30T00:52:47.173003Z",
     "shell.execute_reply": "2021-05-30T00:52:47.173593Z"
    },
    "papermill": {
     "duration": 0.048826,
     "end_time": "2021-05-30T00:52:47.173712",
     "exception": false,
     "start_time": "2021-05-30T00:52:47.124886",
     "status": "completed"
    },
    "tags": []
   },
   "outputs": [],
   "source": [
    "#hide\n",
    "LAST_DATE_I, dt_cols = get_dates(df)\n",
    "dt_today =dt_cols[LAST_DATE_I]\n",
    "# dt_5day = dt_cols[LAST_DATE_I - 5]\n",
    "dt_yday = dt_cols[LAST_DATE_I - 1]"
   ]
  },
  {
   "cell_type": "code",
   "execution_count": 11,
   "id": "restricted-sheriff",
   "metadata": {
    "execution": {
     "iopub.execute_input": "2021-05-30T00:52:47.253457Z",
     "iopub.status.busy": "2021-05-30T00:52:47.252844Z",
     "iopub.status.idle": "2021-05-30T00:52:47.262807Z",
     "shell.execute_reply": "2021-05-30T00:52:47.263273Z"
    },
    "papermill": {
     "duration": 0.053221,
     "end_time": "2021-05-30T00:52:47.263403",
     "exception": false,
     "start_time": "2021-05-30T00:52:47.210182",
     "status": "completed"
    },
    "tags": []
   },
   "outputs": [],
   "source": [
    "#hide\n",
    "dfc_cases = dft_cases.groupby(COL_REGION)[dt_today].sum()\n",
    "dfc_deaths = dft_deaths.groupby(COL_REGION)[dt_today].sum()\n",
    "# dfp_cases = dft_cases.groupby(COL_REGION)[dt_5day].sum()\n",
    "# dfp_deaths = dft_deaths.groupby(COL_REGION)[dt_5day].sum()\n",
    "dfp_cases = dft_cases.groupby(COL_REGION)[dt_yday].sum()\n",
    "dfp_deaths = dft_deaths.groupby(COL_REGION)[dt_yday].sum()"
   ]
  },
  {
   "cell_type": "code",
   "execution_count": 12,
   "id": "deluxe-hepatitis",
   "metadata": {
    "execution": {
     "iopub.execute_input": "2021-05-30T00:52:47.342455Z",
     "iopub.status.busy": "2021-05-30T00:52:47.341838Z",
     "iopub.status.idle": "2021-05-30T00:52:47.346403Z",
     "shell.execute_reply": "2021-05-30T00:52:47.346928Z"
    },
    "papermill": {
     "duration": 0.049046,
     "end_time": "2021-05-30T00:52:47.347047",
     "exception": false,
     "start_time": "2021-05-30T00:52:47.298001",
     "status": "completed"
    },
    "tags": []
   },
   "outputs": [],
   "source": [
    "#hide\n",
    "df_table = (pd.DataFrame(dict(Cases = dfc_cases, Deaths = dfc_deaths, PCases = dfp_cases, PDeaths = dfp_deaths))\n",
    "            .sort_values(by = ['Cases','Deaths'], ascending = [False, False])\n",
    "            .reset_index())"
   ]
  },
  {
   "cell_type": "code",
   "execution_count": 13,
   "id": "educational-chancellor",
   "metadata": {
    "execution": {
     "iopub.execute_input": "2021-05-30T00:52:47.442740Z",
     "iopub.status.busy": "2021-05-30T00:52:47.442068Z",
     "iopub.status.idle": "2021-05-30T00:52:47.453031Z",
     "shell.execute_reply": "2021-05-30T00:52:47.452482Z"
    },
    "papermill": {
     "duration": 0.068829,
     "end_time": "2021-05-30T00:52:47.453229",
     "exception": false,
     "start_time": "2021-05-30T00:52:47.384400",
     "status": "completed"
    },
    "tags": []
   },
   "outputs": [
    {
     "data": {
      "text/html": [
       "<div>\n",
       "<style scoped>\n",
       "    .dataframe tbody tr th:only-of-type {\n",
       "        vertical-align: middle;\n",
       "    }\n",
       "\n",
       "    .dataframe tbody tr th {\n",
       "        vertical-align: top;\n",
       "    }\n",
       "\n",
       "    .dataframe thead th {\n",
       "        text-align: right;\n",
       "    }\n",
       "</style>\n",
       "<table border=\"1\" class=\"dataframe\">\n",
       "  <thead>\n",
       "    <tr style=\"text-align: right;\">\n",
       "      <th></th>\n",
       "      <th>Country/Region</th>\n",
       "      <th>Cases</th>\n",
       "      <th>Deaths</th>\n",
       "      <th>PCases</th>\n",
       "      <th>PDeaths</th>\n",
       "      <th>Cases (+)</th>\n",
       "      <th>Deaths (+)</th>\n",
       "      <th>Fatality Rate</th>\n",
       "      <th>Continent</th>\n",
       "    </tr>\n",
       "  </thead>\n",
       "  <tbody>\n",
       "    <tr>\n",
       "      <th>0</th>\n",
       "      <td>US</td>\n",
       "      <td>33239963</td>\n",
       "      <td>593963</td>\n",
       "      <td>33217995</td>\n",
       "      <td>593288</td>\n",
       "      <td>21968</td>\n",
       "      <td>675</td>\n",
       "      <td>1.79</td>\n",
       "      <td>North America</td>\n",
       "    </tr>\n",
       "    <tr>\n",
       "      <th>1</th>\n",
       "      <td>India</td>\n",
       "      <td>27729247</td>\n",
       "      <td>322512</td>\n",
       "      <td>27555457</td>\n",
       "      <td>318895</td>\n",
       "      <td>173790</td>\n",
       "      <td>3617</td>\n",
       "      <td>1.16</td>\n",
       "      <td>Asia</td>\n",
       "    </tr>\n",
       "    <tr>\n",
       "      <th>2</th>\n",
       "      <td>Brazil</td>\n",
       "      <td>16391930</td>\n",
       "      <td>459045</td>\n",
       "      <td>16342162</td>\n",
       "      <td>456674</td>\n",
       "      <td>49768</td>\n",
       "      <td>2371</td>\n",
       "      <td>2.80</td>\n",
       "      <td>South America</td>\n",
       "    </tr>\n",
       "    <tr>\n",
       "      <th>3</th>\n",
       "      <td>France</td>\n",
       "      <td>5708350</td>\n",
       "      <td>109452</td>\n",
       "      <td>5697076</td>\n",
       "      <td>109327</td>\n",
       "      <td>11274</td>\n",
       "      <td>125</td>\n",
       "      <td>1.92</td>\n",
       "      <td>Europe</td>\n",
       "    </tr>\n",
       "    <tr>\n",
       "      <th>4</th>\n",
       "      <td>Turkey</td>\n",
       "      <td>5228322</td>\n",
       "      <td>47134</td>\n",
       "      <td>5220549</td>\n",
       "      <td>46970</td>\n",
       "      <td>7773</td>\n",
       "      <td>164</td>\n",
       "      <td>0.90</td>\n",
       "      <td>Asia</td>\n",
       "    </tr>\n",
       "  </tbody>\n",
       "</table>\n",
       "</div>"
      ],
      "text/plain": [
       "  Country/Region     Cases  Deaths    PCases  PDeaths  Cases (+)  Deaths (+)  \\\n",
       "0             US  33239963  593963  33217995   593288      21968         675   \n",
       "1          India  27729247  322512  27555457   318895     173790        3617   \n",
       "2         Brazil  16391930  459045  16342162   456674      49768        2371   \n",
       "3         France   5708350  109452   5697076   109327      11274         125   \n",
       "4         Turkey   5228322   47134   5220549    46970       7773         164   \n",
       "\n",
       "   Fatality Rate      Continent  \n",
       "0           1.79  North America  \n",
       "1           1.16           Asia  \n",
       "2           2.80  South America  \n",
       "3           1.92         Europe  \n",
       "4           0.90           Asia  "
      ]
     },
     "execution_count": 13,
     "metadata": {},
     "output_type": "execute_result"
    }
   ],
   "source": [
    "#hide\n",
    "for c in 'Cases, Deaths'.split(', '):\n",
    "    df_table[f'{c} (+)'] = (df_table[c] - df_table[f'P{c}']).clip(0)\n",
    "    #Clip ça veut dire, les chiffres negatif sont interdit\n",
    "df_table['Fatality Rate'] = (100* df_table['Deaths']/ df_table['Cases']).round(2)\n",
    "df_table['Continent'] = df_table['Country/Region'].map(mapping['map.continent'])\n",
    "df_table.head(5)"
   ]
  },
  {
   "cell_type": "code",
   "execution_count": 14,
   "id": "aboriginal-bulgaria",
   "metadata": {
    "execution": {
     "iopub.execute_input": "2021-05-30T00:52:47.539499Z",
     "iopub.status.busy": "2021-05-30T00:52:47.538914Z",
     "iopub.status.idle": "2021-05-30T00:52:47.542293Z",
     "shell.execute_reply": "2021-05-30T00:52:47.541791Z"
    },
    "papermill": {
     "duration": 0.046887,
     "end_time": "2021-05-30T00:52:47.542497",
     "exception": false,
     "start_time": "2021-05-30T00:52:47.495610",
     "status": "completed"
    },
    "tags": []
   },
   "outputs": [],
   "source": [
    "#hide\n",
    "#delete problematic countries from table\n",
    "df_table = df_table[~df_table['Country/Region'].isin(['Cape Verde', 'Cruise Ship', 'Kosovo'])]"
   ]
  },
  {
   "cell_type": "code",
   "execution_count": 15,
   "id": "fantastic-effect",
   "metadata": {
    "execution": {
     "iopub.execute_input": "2021-05-30T00:52:47.626621Z",
     "iopub.status.busy": "2021-05-30T00:52:47.626040Z",
     "iopub.status.idle": "2021-05-30T00:52:47.655874Z",
     "shell.execute_reply": "2021-05-30T00:52:47.656668Z"
    },
    "papermill": {
     "duration": 0.076134,
     "end_time": "2021-05-30T00:52:47.656833",
     "exception": false,
     "start_time": "2021-05-30T00:52:47.580699",
     "status": "completed"
    },
    "tags": []
   },
   "outputs": [
    {
     "data": {
      "text/html": [
       "<div>\n",
       "<style scoped>\n",
       "    .dataframe tbody tr th:only-of-type {\n",
       "        vertical-align: middle;\n",
       "    }\n",
       "\n",
       "    .dataframe tbody tr th {\n",
       "        vertical-align: top;\n",
       "    }\n",
       "\n",
       "    .dataframe thead th {\n",
       "        text-align: right;\n",
       "    }\n",
       "</style>\n",
       "<table border=\"1\" class=\"dataframe\">\n",
       "  <thead>\n",
       "    <tr style=\"text-align: right;\">\n",
       "      <th></th>\n",
       "      <th>Country/Region</th>\n",
       "      <th>Cases</th>\n",
       "      <th>Deaths</th>\n",
       "      <th>PCases</th>\n",
       "      <th>PDeaths</th>\n",
       "      <th>Cases (+)</th>\n",
       "      <th>Deaths (+)</th>\n",
       "      <th>Fatality Rate</th>\n",
       "      <th>Continent</th>\n",
       "    </tr>\n",
       "  </thead>\n",
       "  <tbody>\n",
       "    <tr>\n",
       "      <th>0</th>\n",
       "      <td>US</td>\n",
       "      <td>33239963</td>\n",
       "      <td>593963</td>\n",
       "      <td>33217995</td>\n",
       "      <td>593288</td>\n",
       "      <td>21968</td>\n",
       "      <td>675</td>\n",
       "      <td>1.8</td>\n",
       "      <td>North America</td>\n",
       "    </tr>\n",
       "    <tr>\n",
       "      <th>1</th>\n",
       "      <td>India</td>\n",
       "      <td>27729247</td>\n",
       "      <td>322512</td>\n",
       "      <td>27555457</td>\n",
       "      <td>318895</td>\n",
       "      <td>173790</td>\n",
       "      <td>3617</td>\n",
       "      <td>1.2</td>\n",
       "      <td>Asia</td>\n",
       "    </tr>\n",
       "    <tr>\n",
       "      <th>2</th>\n",
       "      <td>Brazil</td>\n",
       "      <td>16391930</td>\n",
       "      <td>459045</td>\n",
       "      <td>16342162</td>\n",
       "      <td>456674</td>\n",
       "      <td>49768</td>\n",
       "      <td>2371</td>\n",
       "      <td>2.8</td>\n",
       "      <td>South America</td>\n",
       "    </tr>\n",
       "    <tr>\n",
       "      <th>3</th>\n",
       "      <td>France</td>\n",
       "      <td>5708350</td>\n",
       "      <td>109452</td>\n",
       "      <td>5697076</td>\n",
       "      <td>109327</td>\n",
       "      <td>11274</td>\n",
       "      <td>125</td>\n",
       "      <td>1.9</td>\n",
       "      <td>Europe</td>\n",
       "    </tr>\n",
       "    <tr>\n",
       "      <th>4</th>\n",
       "      <td>Turkey</td>\n",
       "      <td>5228322</td>\n",
       "      <td>47134</td>\n",
       "      <td>5220549</td>\n",
       "      <td>46970</td>\n",
       "      <td>7773</td>\n",
       "      <td>164</td>\n",
       "      <td>0.9</td>\n",
       "      <td>Asia</td>\n",
       "    </tr>\n",
       "  </tbody>\n",
       "</table>\n",
       "</div>"
      ],
      "text/plain": [
       "  Country/Region     Cases  Deaths    PCases  PDeaths  Cases (+)  Deaths (+)  \\\n",
       "0             US  33239963  593963  33217995   593288      21968         675   \n",
       "1          India  27729247  322512  27555457   318895     173790        3617   \n",
       "2         Brazil  16391930  459045  16342162   456674      49768        2371   \n",
       "3         France   5708350  109452   5697076   109327      11274         125   \n",
       "4         Turkey   5228322   47134   5220549    46970       7773         164   \n",
       "\n",
       "   Fatality Rate      Continent  \n",
       "0            1.8  North America  \n",
       "1            1.2           Asia  \n",
       "2            2.8  South America  \n",
       "3            1.9         Europe  \n",
       "4            0.9           Asia  "
      ]
     },
     "execution_count": 15,
     "metadata": {},
     "output_type": "execute_result"
    }
   ],
   "source": [
    "#hide\n",
    "df_table = (pd.DataFrame(dict(Cases=dfc_cases, Deaths=dfc_deaths, PCases=dfp_cases, PDeaths=dfp_deaths))\n",
    "             .sort_values(by=['Cases', 'Deaths'], ascending=[False, False])\n",
    "             .reset_index())\n",
    "df_table.rename(columns={'index': 'Country/Region'}, inplace=True)\n",
    "for c in 'Cases, Deaths'.split(', '):\n",
    "    df_table[f'{c} (+)'] = (df_table[c] - df_table[f'P{c}']).clip(0)  # DATA BUG\n",
    "df_table['Fatality Rate'] = (100 * df_table['Deaths'] / df_table['Cases']).round(1)\n",
    "df_table['Continent'] = df_table['Country/Region'].map(mapping['map.continent'])\n",
    "df_table.head(5)"
   ]
  },
  {
   "cell_type": "code",
   "execution_count": 16,
   "id": "fewer-occasion",
   "metadata": {
    "execution": {
     "iopub.execute_input": "2021-05-30T00:52:47.738638Z",
     "iopub.status.busy": "2021-05-30T00:52:47.738071Z",
     "iopub.status.idle": "2021-05-30T00:52:47.740505Z",
     "shell.execute_reply": "2021-05-30T00:52:47.739996Z"
    },
    "papermill": {
     "duration": 0.044912,
     "end_time": "2021-05-30T00:52:47.740630",
     "exception": false,
     "start_time": "2021-05-30T00:52:47.695718",
     "status": "completed"
    },
    "tags": []
   },
   "outputs": [],
   "source": [
    "#hide\n",
    "#delete problematic countries from table\n",
    "df_table = df_table[~df_table['Country/Region'].isin(['Cape Verde', 'Cruise Ship', 'Kosovo'])]"
   ]
  },
  {
   "cell_type": "code",
   "execution_count": 17,
   "id": "related-center",
   "metadata": {
    "execution": {
     "iopub.execute_input": "2021-05-30T00:52:47.827291Z",
     "iopub.status.busy": "2021-05-30T00:52:47.826638Z",
     "iopub.status.idle": "2021-05-30T00:52:47.842139Z",
     "shell.execute_reply": "2021-05-30T00:52:47.841533Z"
    },
    "papermill": {
     "duration": 0.063005,
     "end_time": "2021-05-30T00:52:47.842266",
     "exception": false,
     "start_time": "2021-05-30T00:52:47.779261",
     "status": "completed"
    },
    "tags": []
   },
   "outputs": [],
   "source": [
    "#hide\n",
    "metrics = [df_table.columns[index] for index in [1,2,5,6]]\n",
    "# s_china = df_table[df_table['Country/Region'].eq('China')][metrics].sum().add_prefix('China ')\n",
    "s_us = df_table[df_table['Country/Region'].eq('US')][metrics].sum().add_prefix('US ')\n",
    "s_eu = df_table[df_table['Continent'].eq('Europe')][metrics].sum().add_prefix('EU ')\n",
    "s_ind = df_table[df_table['Country/Region'].eq('India')][metrics].sum().add_prefix('India ')\n",
    "summary = {'updated': pd.to_datetime(dt_today), 'since': pd.to_datetime(dt_yday)}\n",
    "summary = {'updated': pd.to_datetime(dt_today), 'since': pd.to_datetime(dt_yday)}\n",
    "summary = {**summary, **df_table[metrics].sum(), **s_ind, **s_us, **s_eu}"
   ]
  },
  {
   "cell_type": "code",
   "execution_count": 18,
   "id": "engaging-syndrome",
   "metadata": {
    "execution": {
     "iopub.execute_input": "2021-05-30T00:52:47.924300Z",
     "iopub.status.busy": "2021-05-30T00:52:47.923527Z",
     "iopub.status.idle": "2021-05-30T00:52:47.936094Z",
     "shell.execute_reply": "2021-05-30T00:52:47.936857Z"
    },
    "papermill": {
     "duration": 0.056832,
     "end_time": "2021-05-30T00:52:47.937019",
     "exception": false,
     "start_time": "2021-05-30T00:52:47.880187",
     "status": "completed"
    },
    "tags": []
   },
   "outputs": [],
   "source": [
    "#hide\n",
    "dft_ct_new_cases = dft_cases.groupby(COL_REGION)[dt_cols].sum().diff(axis=1).fillna(0).astype(int)"
   ]
  },
  {
   "cell_type": "code",
   "execution_count": 19,
   "id": "neutral-assignment",
   "metadata": {
    "execution": {
     "iopub.execute_input": "2021-05-30T00:52:48.017153Z",
     "iopub.status.busy": "2021-05-30T00:52:48.016379Z",
     "iopub.status.idle": "2021-05-30T00:52:48.018288Z",
     "shell.execute_reply": "2021-05-30T00:52:48.018781Z"
    },
    "papermill": {
     "duration": 0.04616,
     "end_time": "2021-05-30T00:52:48.018907",
     "exception": false,
     "start_time": "2021-05-30T00:52:47.972747",
     "status": "completed"
    },
    "tags": []
   },
   "outputs": [],
   "source": [
    "#hide\n",
    "everydaycases = dft_ct_new_cases.cumsum(axis=1)"
   ]
  },
  {
   "cell_type": "code",
   "execution_count": 20,
   "id": "parliamentary-calgary",
   "metadata": {
    "execution": {
     "iopub.execute_input": "2021-05-30T00:52:48.101297Z",
     "iopub.status.busy": "2021-05-30T00:52:48.100718Z",
     "iopub.status.idle": "2021-05-30T00:52:48.767234Z",
     "shell.execute_reply": "2021-05-30T00:52:48.767902Z"
    },
    "papermill": {
     "duration": 0.7113,
     "end_time": "2021-05-30T00:52:48.768235",
     "exception": false,
     "start_time": "2021-05-30T00:52:48.056935",
     "status": "completed"
    },
    "tags": []
   },
   "outputs": [],
   "source": [
    "#hide\n",
    "import pandas as pd\n",
    "import matplotlib.pyplot as plt\n",
    "import matplotlib.ticker as ticker\n",
    "import matplotlib.animation as animation\n",
    "from IPython.display import HTML"
   ]
  },
  {
   "cell_type": "code",
   "execution_count": 21,
   "id": "lasting-extraction",
   "metadata": {
    "execution": {
     "iopub.execute_input": "2021-05-30T00:52:48.850338Z",
     "iopub.status.busy": "2021-05-30T00:52:48.848785Z",
     "iopub.status.idle": "2021-05-30T00:52:48.850946Z",
     "shell.execute_reply": "2021-05-30T00:52:48.851382Z"
    },
    "papermill": {
     "duration": 0.046936,
     "end_time": "2021-05-30T00:52:48.851493",
     "exception": false,
     "start_time": "2021-05-30T00:52:48.804557",
     "status": "completed"
    },
    "tags": []
   },
   "outputs": [],
   "source": [
    "#hide\n",
    "t = everydaycases.stack()"
   ]
  },
  {
   "cell_type": "code",
   "execution_count": 22,
   "id": "premier-sleeve",
   "metadata": {
    "execution": {
     "iopub.execute_input": "2021-05-30T00:52:48.929487Z",
     "iopub.status.busy": "2021-05-30T00:52:48.928853Z",
     "iopub.status.idle": "2021-05-30T00:52:48.937553Z",
     "shell.execute_reply": "2021-05-30T00:52:48.938204Z"
    },
    "papermill": {
     "duration": 0.049912,
     "end_time": "2021-05-30T00:52:48.938358",
     "exception": false,
     "start_time": "2021-05-30T00:52:48.888446",
     "status": "completed"
    },
    "tags": []
   },
   "outputs": [],
   "source": [
    "#hide\n",
    "g = t.reset_index(['Country/Region'])"
   ]
  },
  {
   "cell_type": "code",
   "execution_count": 23,
   "id": "distributed-pittsburgh",
   "metadata": {
    "execution": {
     "iopub.execute_input": "2021-05-30T00:52:49.021145Z",
     "iopub.status.busy": "2021-05-30T00:52:49.020474Z",
     "iopub.status.idle": "2021-05-30T00:52:49.022275Z",
     "shell.execute_reply": "2021-05-30T00:52:49.022833Z"
    },
    "papermill": {
     "duration": 0.046646,
     "end_time": "2021-05-30T00:52:49.022970",
     "exception": false,
     "start_time": "2021-05-30T00:52:48.976324",
     "status": "completed"
    },
    "tags": []
   },
   "outputs": [],
   "source": [
    "#hide\n",
    "g.index.name = 'date'"
   ]
  },
  {
   "cell_type": "code",
   "execution_count": 24,
   "id": "naked-donor",
   "metadata": {
    "execution": {
     "iopub.execute_input": "2021-05-30T00:52:49.110849Z",
     "iopub.status.busy": "2021-05-30T00:52:49.109487Z",
     "iopub.status.idle": "2021-05-30T00:52:49.111438Z",
     "shell.execute_reply": "2021-05-30T00:52:49.111918Z"
    },
    "papermill": {
     "duration": 0.048146,
     "end_time": "2021-05-30T00:52:49.112070",
     "exception": false,
     "start_time": "2021-05-30T00:52:49.063924",
     "status": "completed"
    },
    "tags": []
   },
   "outputs": [],
   "source": [
    "# #hide\n",
    "# g = g.reset_index(['date'])"
   ]
  },
  {
   "cell_type": "code",
   "execution_count": 25,
   "id": "incomplete-mustang",
   "metadata": {
    "execution": {
     "iopub.execute_input": "2021-05-30T00:52:49.197055Z",
     "iopub.status.busy": "2021-05-30T00:52:49.196418Z",
     "iopub.status.idle": "2021-05-30T00:52:49.199410Z",
     "shell.execute_reply": "2021-05-30T00:52:49.198921Z"
    },
    "papermill": {
     "duration": 0.044212,
     "end_time": "2021-05-30T00:52:49.199517",
     "exception": false,
     "start_time": "2021-05-30T00:52:49.155305",
     "status": "completed"
    },
    "tags": []
   },
   "outputs": [],
   "source": [
    "#hide\n",
    "# g.head()"
   ]
  },
  {
   "cell_type": "code",
   "execution_count": 26,
   "id": "specific-kruger",
   "metadata": {
    "execution": {
     "iopub.execute_input": "2021-05-30T00:52:49.277608Z",
     "iopub.status.busy": "2021-05-30T00:52:49.277004Z",
     "iopub.status.idle": "2021-05-30T00:52:49.279023Z",
     "shell.execute_reply": "2021-05-30T00:52:49.279470Z"
    },
    "papermill": {
     "duration": 0.043263,
     "end_time": "2021-05-30T00:52:49.279598",
     "exception": false,
     "start_time": "2021-05-30T00:52:49.236335",
     "status": "completed"
    },
    "tags": []
   },
   "outputs": [],
   "source": [
    "#hide\n",
    "# g.columns = ['date','country','cases']"
   ]
  },
  {
   "cell_type": "code",
   "execution_count": 27,
   "id": "tender-conversion",
   "metadata": {
    "execution": {
     "iopub.execute_input": "2021-05-30T00:52:49.356961Z",
     "iopub.status.busy": "2021-05-30T00:52:49.356266Z",
     "iopub.status.idle": "2021-05-30T00:52:49.357834Z",
     "shell.execute_reply": "2021-05-30T00:52:49.358280Z"
    },
    "papermill": {
     "duration": 0.042857,
     "end_time": "2021-05-30T00:52:49.358429",
     "exception": false,
     "start_time": "2021-05-30T00:52:49.315572",
     "status": "completed"
    },
    "tags": []
   },
   "outputs": [],
   "source": [
    "#hide\n",
    "# g['continent'] = g.country"
   ]
  },
  {
   "cell_type": "code",
   "execution_count": 28,
   "id": "substantial-wilderness",
   "metadata": {
    "execution": {
     "iopub.execute_input": "2021-05-30T00:52:49.434942Z",
     "iopub.status.busy": "2021-05-30T00:52:49.434352Z",
     "iopub.status.idle": "2021-05-30T00:52:49.436825Z",
     "shell.execute_reply": "2021-05-30T00:52:49.436326Z"
    },
    "papermill": {
     "duration": 0.041367,
     "end_time": "2021-05-30T00:52:49.436928",
     "exception": false,
     "start_time": "2021-05-30T00:52:49.395561",
     "status": "completed"
    },
    "tags": []
   },
   "outputs": [],
   "source": [
    "#hide\n",
    "# cols = list(g.columns.values)"
   ]
  },
  {
   "cell_type": "code",
   "execution_count": 29,
   "id": "solved-farming",
   "metadata": {
    "execution": {
     "iopub.execute_input": "2021-05-30T00:52:49.513073Z",
     "iopub.status.busy": "2021-05-30T00:52:49.512402Z",
     "iopub.status.idle": "2021-05-30T00:52:49.515101Z",
     "shell.execute_reply": "2021-05-30T00:52:49.514401Z"
    },
    "papermill": {
     "duration": 0.042174,
     "end_time": "2021-05-30T00:52:49.515254",
     "exception": false,
     "start_time": "2021-05-30T00:52:49.473080",
     "status": "completed"
    },
    "tags": []
   },
   "outputs": [],
   "source": [
    "#hide\n",
    "# cols.insert(0, cols.pop())"
   ]
  },
  {
   "cell_type": "code",
   "execution_count": 30,
   "id": "executed-adoption",
   "metadata": {
    "execution": {
     "iopub.execute_input": "2021-05-30T00:52:49.598408Z",
     "iopub.status.busy": "2021-05-30T00:52:49.597752Z",
     "iopub.status.idle": "2021-05-30T00:52:49.600119Z",
     "shell.execute_reply": "2021-05-30T00:52:49.599480Z"
    },
    "papermill": {
     "duration": 0.046174,
     "end_time": "2021-05-30T00:52:49.600243",
     "exception": false,
     "start_time": "2021-05-30T00:52:49.554069",
     "status": "completed"
    },
    "tags": []
   },
   "outputs": [],
   "source": [
    "#hide\n",
    "# g = g[cols]"
   ]
  },
  {
   "cell_type": "code",
   "execution_count": 31,
   "id": "subject-dublin",
   "metadata": {
    "execution": {
     "iopub.execute_input": "2021-05-30T00:52:49.676957Z",
     "iopub.status.busy": "2021-05-30T00:52:49.676312Z",
     "iopub.status.idle": "2021-05-30T00:52:49.678434Z",
     "shell.execute_reply": "2021-05-30T00:52:49.679332Z"
    },
    "papermill": {
     "duration": 0.042892,
     "end_time": "2021-05-30T00:52:49.679476",
     "exception": false,
     "start_time": "2021-05-30T00:52:49.636584",
     "status": "completed"
    },
    "tags": []
   },
   "outputs": [],
   "source": [
    "#hide\n",
    "# g['continent'] = g['continent'].map(mapping['map.continent'])"
   ]
  },
  {
   "cell_type": "code",
   "execution_count": 32,
   "id": "freelance-scout",
   "metadata": {
    "execution": {
     "iopub.execute_input": "2021-05-30T00:52:49.761399Z",
     "iopub.status.busy": "2021-05-30T00:52:49.760598Z",
     "iopub.status.idle": "2021-05-30T00:52:49.762857Z",
     "shell.execute_reply": "2021-05-30T00:52:49.763317Z"
    },
    "papermill": {
     "duration": 0.043743,
     "end_time": "2021-05-30T00:52:49.763483",
     "exception": false,
     "start_time": "2021-05-30T00:52:49.719740",
     "status": "completed"
    },
    "tags": []
   },
   "outputs": [],
   "source": [
    "#hide\n",
    "# g.head()"
   ]
  },
  {
   "cell_type": "code",
   "execution_count": 33,
   "id": "limited-engine",
   "metadata": {
    "execution": {
     "iopub.execute_input": "2021-05-30T00:52:49.847147Z",
     "iopub.status.busy": "2021-05-30T00:52:49.846581Z",
     "iopub.status.idle": "2021-05-30T00:52:49.849237Z",
     "shell.execute_reply": "2021-05-30T00:52:49.848597Z"
    },
    "papermill": {
     "duration": 0.042872,
     "end_time": "2021-05-30T00:52:49.849399",
     "exception": false,
     "start_time": "2021-05-30T00:52:49.806527",
     "status": "completed"
    },
    "tags": []
   },
   "outputs": [],
   "source": [
    "# hide\n",
    "# g['date'] = g['date'].astype('datetime64[ns]')"
   ]
  },
  {
   "cell_type": "code",
   "execution_count": 34,
   "id": "sophisticated-supervisor",
   "metadata": {
    "execution": {
     "iopub.execute_input": "2021-05-30T00:52:49.928500Z",
     "iopub.status.busy": "2021-05-30T00:52:49.927849Z",
     "iopub.status.idle": "2021-05-30T00:52:49.929829Z",
     "shell.execute_reply": "2021-05-30T00:52:49.930361Z"
    },
    "papermill": {
     "duration": 0.043582,
     "end_time": "2021-05-30T00:52:49.930499",
     "exception": false,
     "start_time": "2021-05-30T00:52:49.886917",
     "status": "completed"
    },
    "tags": []
   },
   "outputs": [],
   "source": [
    "#hide\n",
    "# g['date'] = g.date.dt.dayofyear"
   ]
  },
  {
   "cell_type": "code",
   "execution_count": 35,
   "id": "inside-dubai",
   "metadata": {
    "execution": {
     "iopub.execute_input": "2021-05-30T00:52:50.007952Z",
     "iopub.status.busy": "2021-05-30T00:52:50.007138Z",
     "iopub.status.idle": "2021-05-30T00:52:50.010092Z",
     "shell.execute_reply": "2021-05-30T00:52:50.009277Z"
    },
    "papermill": {
     "duration": 0.043147,
     "end_time": "2021-05-30T00:52:50.010271",
     "exception": false,
     "start_time": "2021-05-30T00:52:49.967124",
     "status": "completed"
    },
    "tags": []
   },
   "outputs": [],
   "source": [
    "#hide\n",
    "# g = g.rename(columns= {'continent':'group','country':'name','cases':'value'})"
   ]
  },
  {
   "cell_type": "code",
   "execution_count": 36,
   "id": "fleet-motorcycle",
   "metadata": {
    "execution": {
     "iopub.execute_input": "2021-05-30T00:52:50.093353Z",
     "iopub.status.busy": "2021-05-30T00:52:50.092745Z",
     "iopub.status.idle": "2021-05-30T00:52:50.094953Z",
     "shell.execute_reply": "2021-05-30T00:52:50.094376Z"
    },
    "papermill": {
     "duration": 0.046781,
     "end_time": "2021-05-30T00:52:50.095085",
     "exception": false,
     "start_time": "2021-05-30T00:52:50.048304",
     "status": "completed"
    },
    "tags": []
   },
   "outputs": [],
   "source": [
    "#hide\n",
    "# cols = ['name','group','day','value']"
   ]
  },
  {
   "cell_type": "code",
   "execution_count": 37,
   "id": "continued-sleeping",
   "metadata": {
    "execution": {
     "iopub.execute_input": "2021-05-30T00:52:50.172119Z",
     "iopub.status.busy": "2021-05-30T00:52:50.171474Z",
     "iopub.status.idle": "2021-05-30T00:52:50.173343Z",
     "shell.execute_reply": "2021-05-30T00:52:50.173976Z"
    },
    "papermill": {
     "duration": 0.041951,
     "end_time": "2021-05-30T00:52:50.174101",
     "exception": false,
     "start_time": "2021-05-30T00:52:50.132150",
     "status": "completed"
    },
    "tags": []
   },
   "outputs": [],
   "source": [
    "#hide\n",
    "# g.rename(columns= {'date':'day'},inplace = True)"
   ]
  },
  {
   "cell_type": "code",
   "execution_count": 38,
   "id": "major-fight",
   "metadata": {
    "execution": {
     "iopub.execute_input": "2021-05-30T00:52:50.258324Z",
     "iopub.status.busy": "2021-05-30T00:52:50.257714Z",
     "iopub.status.idle": "2021-05-30T00:52:50.260126Z",
     "shell.execute_reply": "2021-05-30T00:52:50.260677Z"
    },
    "papermill": {
     "duration": 0.046607,
     "end_time": "2021-05-30T00:52:50.260805",
     "exception": false,
     "start_time": "2021-05-30T00:52:50.214198",
     "status": "completed"
    },
    "tags": []
   },
   "outputs": [],
   "source": [
    "#hide\n",
    "# g = g[cols]"
   ]
  },
  {
   "cell_type": "code",
   "execution_count": 39,
   "id": "structured-mobile",
   "metadata": {
    "execution": {
     "iopub.execute_input": "2021-05-30T00:52:50.341050Z",
     "iopub.status.busy": "2021-05-30T00:52:50.340148Z",
     "iopub.status.idle": "2021-05-30T00:52:50.342600Z",
     "shell.execute_reply": "2021-05-30T00:52:50.342144Z"
    },
    "papermill": {
     "duration": 0.041105,
     "end_time": "2021-05-30T00:52:50.342763",
     "exception": false,
     "start_time": "2021-05-30T00:52:50.301658",
     "status": "completed"
    },
    "tags": []
   },
   "outputs": [],
   "source": [
    "# #hide\n",
    "# g = g[g.group.notna()]"
   ]
  },
  {
   "cell_type": "code",
   "execution_count": 40,
   "id": "determined-closing",
   "metadata": {
    "execution": {
     "iopub.execute_input": "2021-05-30T00:52:50.423381Z",
     "iopub.status.busy": "2021-05-30T00:52:50.422653Z",
     "iopub.status.idle": "2021-05-30T00:52:50.424799Z",
     "shell.execute_reply": "2021-05-30T00:52:50.425266Z"
    },
    "papermill": {
     "duration": 0.045767,
     "end_time": "2021-05-30T00:52:50.425387",
     "exception": false,
     "start_time": "2021-05-30T00:52:50.379620",
     "status": "completed"
    },
    "tags": []
   },
   "outputs": [],
   "source": [
    "# #hide\n",
    "# colors = dict(zip(\n",
    "#     [\"Oceania\", \"Europe\", \"Asia\", \"South America\", \"Middle East\", \"North America\", \"Africa\"],\n",
    "#     [\"#adb0ff\", \"#ffb3ff\", \"#90d595\", \"#e48381\", \"#aafbff\", \"#f7bb5f\", \"#eafb50\"]\n",
    "# ))\n",
    "# group_lk = g.set_index('name')['group'].to_dict()"
   ]
  },
  {
   "cell_type": "code",
   "execution_count": null,
   "id": "gross-drinking",
   "metadata": {
    "papermill": {
     "duration": 0.037387,
     "end_time": "2021-05-30T00:52:50.500651",
     "exception": false,
     "start_time": "2021-05-30T00:52:50.463264",
     "status": "completed"
    },
    "tags": []
   },
   "outputs": [],
   "source": []
  },
  {
   "cell_type": "code",
   "execution_count": 41,
   "id": "subject-macintosh",
   "metadata": {
    "execution": {
     "iopub.execute_input": "2021-05-30T00:52:50.582981Z",
     "iopub.status.busy": "2021-05-30T00:52:50.582125Z",
     "iopub.status.idle": "2021-05-30T00:52:50.584108Z",
     "shell.execute_reply": "2021-05-30T00:52:50.584627Z"
    },
    "papermill": {
     "duration": 0.046836,
     "end_time": "2021-05-30T00:52:50.584773",
     "exception": false,
     "start_time": "2021-05-30T00:52:50.537937",
     "status": "completed"
    },
    "tags": []
   },
   "outputs": [],
   "source": [
    "# #hide\n",
    "# fig, ax = plt.subplots(figsize=(15, 8))\n",
    "\n",
    "# def draw_barchart(current_day):\n",
    "#     dff = g[g['day'].eq(current_day)].sort_values(by='value', ascending=True).tail(10)\n",
    "#     ax.clear()\n",
    "#     ax.barh(dff['name'], dff['value'], color=[colors[group_lk[x]] for x in dff['name']])\n",
    "#     dx = dff['value'].max() / 200\n",
    "    \n",
    "#     for i, (value, name) in enumerate(zip(dff['value'], dff['name'])):\n",
    "#         ax.text(value-dx, i,     name,           size=14, weight=600, ha='right', va='bottom')\n",
    "#         ax.text(value-dx, i-.25, group_lk[name], size=10, color='#444444', ha='right', va='baseline')\n",
    "#         ax.text(value+dx, i,     f'{value:,.0f}',  size=14, ha='left',  va='center')\n",
    "#     ax.text(1, 0.4, current_day, transform=ax.transAxes, color='#777777', size=46, ha='right', weight=800)\n",
    "#     ax.text(0, 1.06, 'Population (thousands)', transform=ax.transAxes, size=12, color='#777777')\n",
    "#     ax.xaxis.set_major_formatter(ticker.StrMethodFormatter('{x:,.0f}'))\n",
    "#     ax.xaxis.set_ticks_position('top')\n",
    "#     ax.tick_params(axis='x', colors='#777777', labelsize=12)\n",
    "#     ax.set_yticks([])\n",
    "#     ax.margins(0, 0.01)\n",
    "#     ax.grid(which='major', axis='x', linestyle='-')\n",
    "#     ax.set_axisbelow(True)\n",
    "    \n",
    "#     ax.text(0, 1.15, 'Coronavirus',\n",
    "#             transform=ax.transAxes, size=24, weight=600, ha='left', va='top')\n",
    "# #     ax.text(1, 0, 'by @pratapvardhan; credit @jburnmurdoch', transform=ax.transAxes, color='#777777', ha='right',\n",
    "# #             bbox=dict(facecolor='white', alpha=0.8, edgecolor='white'))\n",
    "#     plt.box(False)"
   ]
  },
  {
   "cell_type": "code",
   "execution_count": 42,
   "id": "sexual-wages",
   "metadata": {
    "execution": {
     "iopub.execute_input": "2021-05-30T00:52:50.663937Z",
     "iopub.status.busy": "2021-05-30T00:52:50.663112Z",
     "iopub.status.idle": "2021-05-30T00:52:50.665738Z",
     "shell.execute_reply": "2021-05-30T00:52:50.665216Z"
    },
    "papermill": {
     "duration": 0.041972,
     "end_time": "2021-05-30T00:52:50.665884",
     "exception": false,
     "start_time": "2021-05-30T00:52:50.623912",
     "status": "completed"
    },
    "tags": []
   },
   "outputs": [],
   "source": [
    "# #hide_input\n",
    "# fig, ax = plt.subplots(figsize=(15, 8))\n",
    "# animator = animation.FuncAnimation(fig, draw_barchart, frames=range(g.day.values.min(), g.day.values.max()))\n",
    "# HTML(animator.to_jshtml())\n",
    "# # or use animator.to_html5_video() or animator.save() "
   ]
  },
  {
   "cell_type": "code",
   "execution_count": null,
   "id": "australian-container",
   "metadata": {
    "papermill": {
     "duration": 0.043681,
     "end_time": "2021-05-30T00:52:50.747364",
     "exception": false,
     "start_time": "2021-05-30T00:52:50.703683",
     "status": "completed"
    },
    "tags": []
   },
   "outputs": [],
   "source": []
  },
  {
   "cell_type": "code",
   "execution_count": null,
   "id": "mediterranean-pontiac",
   "metadata": {
    "papermill": {
     "duration": 0.041243,
     "end_time": "2021-05-30T00:52:50.826963",
     "exception": false,
     "start_time": "2021-05-30T00:52:50.785720",
     "status": "completed"
    },
    "tags": []
   },
   "outputs": [],
   "source": []
  },
  {
   "cell_type": "code",
   "execution_count": null,
   "id": "aging-legislature",
   "metadata": {
    "papermill": {
     "duration": 0.040466,
     "end_time": "2021-05-30T00:52:50.906370",
     "exception": false,
     "start_time": "2021-05-30T00:52:50.865904",
     "status": "completed"
    },
    "tags": []
   },
   "outputs": [],
   "source": []
  }
 ],
 "metadata": {
  "kernelspec": {
   "display_name": "Python 3",
   "language": "python",
   "name": "python3"
  },
  "language_info": {
   "codemirror_mode": {
    "name": "ipython",
    "version": 3
   },
   "file_extension": ".py",
   "mimetype": "text/x-python",
   "name": "python",
   "nbconvert_exporter": "python",
   "pygments_lexer": "ipython3",
   "version": "3.6.13"
  },
  "papermill": {
   "duration": 6.792653,
   "end_time": "2021-05-30T00:52:51.252912",
   "environment_variables": {},
   "exception": null,
   "input_path": "2020-03-21-covid19exp.ipynb",
   "output_path": "2020-03-21-covid19exp.ipynb",
   "parameters": {},
   "start_time": "2021-05-30T00:52:44.460259",
   "version": "2.0.0"
  }
 },
 "nbformat": 4,
 "nbformat_minor": 5
}