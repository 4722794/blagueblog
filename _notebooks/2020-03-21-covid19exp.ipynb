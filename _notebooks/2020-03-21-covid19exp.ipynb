{
 "cells": [
  {
   "cell_type": "markdown",
   "id": "muslim-click",
   "metadata": {
    "papermill": {
     "duration": 0.044567,
     "end_time": "2022-09-12T12:22:18.994832",
     "exception": false,
     "start_time": "2022-09-12T12:22:18.950265",
     "status": "completed"
    },
    "tags": []
   },
   "source": [
    "# COVID-19 Case Race\n",
    "> A race chart to see rising cases around the world\n",
    "\n",
    "- author: Hargun Oberoi\n",
    "- image: images/covid-overview.png\n",
    "- hide: false\n",
    "- badges: false"
   ]
  },
  {
   "cell_type": "code",
   "execution_count": 1,
   "id": "proof-material",
   "metadata": {
    "execution": {
     "iopub.execute_input": "2022-09-12T12:22:19.077096Z",
     "iopub.status.busy": "2022-09-12T12:22:19.073732Z",
     "iopub.status.idle": "2022-09-12T12:22:19.480729Z",
     "shell.execute_reply": "2022-09-12T12:22:19.480092Z"
    },
    "papermill": {
     "duration": 0.45147,
     "end_time": "2022-09-12T12:22:19.480900",
     "exception": false,
     "start_time": "2022-09-12T12:22:19.029430",
     "status": "completed"
    },
    "tags": []
   },
   "outputs": [],
   "source": [
    "#hide\n",
    "import numpy as np\n",
    "import pandas as pd\n",
    "from jinja2 import Template\n",
    "from IPython.display import HTML"
   ]
  },
  {
   "cell_type": "code",
   "execution_count": 2,
   "id": "developed-terminology",
   "metadata": {
    "execution": {
     "iopub.execute_input": "2022-09-12T12:22:19.556504Z",
     "iopub.status.busy": "2022-09-12T12:22:19.555520Z",
     "iopub.status.idle": "2022-09-12T12:22:19.557363Z",
     "shell.execute_reply": "2022-09-12T12:22:19.557896Z"
    },
    "papermill": {
     "duration": 0.043721,
     "end_time": "2022-09-12T12:22:19.558048",
     "exception": false,
     "start_time": "2022-09-12T12:22:19.514327",
     "status": "completed"
    },
    "tags": []
   },
   "outputs": [],
   "source": [
    "#hide\n",
    "\n",
    "# FETCH\n",
    "base_url = 'https://raw.githubusercontent.com/pratapvardhan/notebooks/master/covid19/'\n",
    "paths = {\n",
    "    'mapping': base_url + 'mapping_countries.csv',\n",
    "    'overview': base_url + 'overview.tpl'\n",
    "}"
   ]
  },
  {
   "cell_type": "code",
   "execution_count": 3,
   "id": "dynamic-saver",
   "metadata": {
    "execution": {
     "iopub.execute_input": "2022-09-12T12:22:19.638779Z",
     "iopub.status.busy": "2022-09-12T12:22:19.638043Z",
     "iopub.status.idle": "2022-09-12T12:22:19.641966Z",
     "shell.execute_reply": "2022-09-12T12:22:19.641231Z"
    },
    "papermill": {
     "duration": 0.050572,
     "end_time": "2022-09-12T12:22:19.642102",
     "exception": false,
     "start_time": "2022-09-12T12:22:19.591530",
     "status": "completed"
    },
    "tags": []
   },
   "outputs": [
    {
     "data": {
      "text/plain": [
       "'https://raw.githubusercontent.com/pratapvardhan/notebooks/master/covid19/mapping_countries.csv'"
      ]
     },
     "execution_count": 3,
     "metadata": {},
     "output_type": "execute_result"
    }
   ],
   "source": [
    "#hide\n",
    "paths['mapping']"
   ]
  },
  {
   "cell_type": "code",
   "execution_count": 4,
   "id": "urban-software",
   "metadata": {
    "execution": {
     "iopub.execute_input": "2022-09-12T12:22:19.722301Z",
     "iopub.status.busy": "2022-09-12T12:22:19.721574Z",
     "iopub.status.idle": "2022-09-12T12:22:19.724556Z",
     "shell.execute_reply": "2022-09-12T12:22:19.723980Z"
    },
    "papermill": {
     "duration": 0.047666,
     "end_time": "2022-09-12T12:22:19.724709",
     "exception": false,
     "start_time": "2022-09-12T12:22:19.677043",
     "status": "completed"
    },
    "tags": []
   },
   "outputs": [],
   "source": [
    "#hide\n",
    "def get_mappings(url):\n",
    "    df = pd.read_csv(url)\n",
    "    return {\n",
    "        'df': df,\n",
    "        'replace.country': dict(df.dropna(subset=['Name']).set_index('Country')['Name']),\n",
    "        'map.continent': dict(df.set_index('Name')['Continent'])\n",
    "    }"
   ]
  },
  {
   "cell_type": "code",
   "execution_count": 5,
   "id": "intimate-machinery",
   "metadata": {
    "execution": {
     "iopub.execute_input": "2022-09-12T12:22:19.800273Z",
     "iopub.status.busy": "2022-09-12T12:22:19.799411Z",
     "iopub.status.idle": "2022-09-12T12:22:19.853610Z",
     "shell.execute_reply": "2022-09-12T12:22:19.854143Z"
    },
    "papermill": {
     "duration": 0.096016,
     "end_time": "2022-09-12T12:22:19.854319",
     "exception": false,
     "start_time": "2022-09-12T12:22:19.758303",
     "status": "completed"
    },
    "tags": []
   },
   "outputs": [],
   "source": [
    "#hide\n",
    "mapping = get_mappings(paths['mapping'])"
   ]
  },
  {
   "cell_type": "code",
   "execution_count": 6,
   "id": "certified-tactics",
   "metadata": {
    "execution": {
     "iopub.execute_input": "2022-09-12T12:22:19.933099Z",
     "iopub.status.busy": "2022-09-12T12:22:19.931752Z",
     "iopub.status.idle": "2022-09-12T12:22:19.933753Z",
     "shell.execute_reply": "2022-09-12T12:22:19.932498Z"
    },
    "papermill": {
     "duration": 0.045076,
     "end_time": "2022-09-12T12:22:19.933887",
     "exception": false,
     "start_time": "2022-09-12T12:22:19.888811",
     "status": "completed"
    },
    "tags": []
   },
   "outputs": [],
   "source": [
    "#hide\n",
    "def get_template(path):\n",
    "    from urllib.parse import urlparse\n",
    "    if bool(urlparse(path).netloc):\n",
    "        from urllib.request import urlopen\n",
    "        return urlopen(path).read().decode('utf8')\n",
    "    return open(path).read()"
   ]
  },
  {
   "cell_type": "code",
   "execution_count": 7,
   "id": "realistic-blast",
   "metadata": {
    "execution": {
     "iopub.execute_input": "2022-09-12T12:22:20.015695Z",
     "iopub.status.busy": "2022-09-12T12:22:20.014975Z",
     "iopub.status.idle": "2022-09-12T12:22:20.017844Z",
     "shell.execute_reply": "2022-09-12T12:22:20.017286Z"
    },
    "papermill": {
     "duration": 0.048523,
     "end_time": "2022-09-12T12:22:20.017976",
     "exception": false,
     "start_time": "2022-09-12T12:22:19.969453",
     "status": "completed"
    },
    "tags": []
   },
   "outputs": [],
   "source": [
    "#hide\n",
    "def get_frame(name):\n",
    "    url = (\n",
    "        'https://raw.githubusercontent.com/CSSEGISandData/COVID-19/master/csse_covid_19_data/'\n",
    "        f'csse_covid_19_time_series/time_series_covid19_{name}_global.csv')\n",
    "    df = pd.read_csv(url)\n",
    "    # rename countries\n",
    "    df['Country/Region'] = df['Country/Region'].replace(mapping['replace.country'])\n",
    "    return df"
   ]
  },
  {
   "cell_type": "code",
   "execution_count": 8,
   "id": "affiliated-characterization",
   "metadata": {
    "execution": {
     "iopub.execute_input": "2022-09-12T12:22:20.092013Z",
     "iopub.status.busy": "2022-09-12T12:22:20.091269Z",
     "iopub.status.idle": "2022-09-12T12:22:20.093637Z",
     "shell.execute_reply": "2022-09-12T12:22:20.094197Z"
    },
    "papermill": {
     "duration": 0.042768,
     "end_time": "2022-09-12T12:22:20.094350",
     "exception": false,
     "start_time": "2022-09-12T12:22:20.051582",
     "status": "completed"
    },
    "tags": []
   },
   "outputs": [],
   "source": [
    "#hide\n",
    "def get_dates(df):\n",
    "    dt_cols = df.columns[~df.columns.isin(['Province/State', 'Country/Region', 'Lat', 'Long'])]\n",
    "    LAST_DATE_I = -1\n",
    "    # sometimes last column may be empty, then go backwards\n",
    "    for i in range(-1, -len(dt_cols), -1):\n",
    "        if not df[dt_cols[i]].fillna(0).eq(0).all():\n",
    "            LAST_DATE_I = i\n",
    "            break\n",
    "    return LAST_DATE_I, dt_cols"
   ]
  },
  {
   "cell_type": "code",
   "execution_count": 9,
   "id": "recent-optimization",
   "metadata": {
    "execution": {
     "iopub.execute_input": "2022-09-12T12:22:20.166853Z",
     "iopub.status.busy": "2022-09-12T12:22:20.166152Z",
     "iopub.status.idle": "2022-09-12T12:22:20.754692Z",
     "shell.execute_reply": "2022-09-12T12:22:20.754112Z"
    },
    "papermill": {
     "duration": 0.627072,
     "end_time": "2022-09-12T12:22:20.754840",
     "exception": false,
     "start_time": "2022-09-12T12:22:20.127768",
     "status": "completed"
    },
    "tags": []
   },
   "outputs": [],
   "source": [
    "#hide\n",
    "COL_REGION = 'Country/Region'\n",
    "# Confirmed, Recovered, Deaths\n",
    "df = get_frame('confirmed')\n",
    "# dft_: timeseries, dfc_: today country agg\n",
    "dft_cases = df\n",
    "dft_deaths = get_frame('deaths')\n",
    "dft_recovered = get_frame('recovered')\n",
    "LAST_DATE_I, dt_cols = get_dates(df)"
   ]
  },
  {
   "cell_type": "code",
   "execution_count": 10,
   "id": "absolute-copper",
   "metadata": {
    "execution": {
     "iopub.execute_input": "2022-09-12T12:22:20.832485Z",
     "iopub.status.busy": "2022-09-12T12:22:20.830870Z",
     "iopub.status.idle": "2022-09-12T12:22:20.833703Z",
     "shell.execute_reply": "2022-09-12T12:22:20.834282Z"
    },
    "papermill": {
     "duration": 0.04469,
     "end_time": "2022-09-12T12:22:20.834438",
     "exception": false,
     "start_time": "2022-09-12T12:22:20.789748",
     "status": "completed"
    },
    "tags": []
   },
   "outputs": [],
   "source": [
    "#hide\n",
    "LAST_DATE_I, dt_cols = get_dates(df)\n",
    "dt_today =dt_cols[LAST_DATE_I]\n",
    "# dt_5day = dt_cols[LAST_DATE_I - 5]\n",
    "dt_yday = dt_cols[LAST_DATE_I - 1]"
   ]
  },
  {
   "cell_type": "code",
   "execution_count": 11,
   "id": "restricted-sheriff",
   "metadata": {
    "execution": {
     "iopub.execute_input": "2022-09-12T12:22:20.924069Z",
     "iopub.status.busy": "2022-09-12T12:22:20.923353Z",
     "iopub.status.idle": "2022-09-12T12:22:20.936653Z",
     "shell.execute_reply": "2022-09-12T12:22:20.937343Z"
    },
    "papermill": {
     "duration": 0.054688,
     "end_time": "2022-09-12T12:22:20.937495",
     "exception": false,
     "start_time": "2022-09-12T12:22:20.882807",
     "status": "completed"
    },
    "tags": []
   },
   "outputs": [],
   "source": [
    "#hide\n",
    "dfc_cases = dft_cases.groupby(COL_REGION)[dt_today].sum()\n",
    "dfc_deaths = dft_deaths.groupby(COL_REGION)[dt_today].sum()\n",
    "# dfp_cases = dft_cases.groupby(COL_REGION)[dt_5day].sum()\n",
    "# dfp_deaths = dft_deaths.groupby(COL_REGION)[dt_5day].sum()\n",
    "dfp_cases = dft_cases.groupby(COL_REGION)[dt_yday].sum()\n",
    "dfp_deaths = dft_deaths.groupby(COL_REGION)[dt_yday].sum()"
   ]
  },
  {
   "cell_type": "code",
   "execution_count": 12,
   "id": "deluxe-hepatitis",
   "metadata": {
    "execution": {
     "iopub.execute_input": "2022-09-12T12:22:21.011353Z",
     "iopub.status.busy": "2022-09-12T12:22:21.010665Z",
     "iopub.status.idle": "2022-09-12T12:22:21.016373Z",
     "shell.execute_reply": "2022-09-12T12:22:21.017104Z"
    },
    "papermill": {
     "duration": 0.045981,
     "end_time": "2022-09-12T12:22:21.017264",
     "exception": false,
     "start_time": "2022-09-12T12:22:20.971283",
     "status": "completed"
    },
    "tags": []
   },
   "outputs": [],
   "source": [
    "#hide\n",
    "df_table = (pd.DataFrame(dict(Cases = dfc_cases, Deaths = dfc_deaths, PCases = dfp_cases, PDeaths = dfp_deaths))\n",
    "            .sort_values(by = ['Cases','Deaths'], ascending = [False, False])\n",
    "            .reset_index())"
   ]
  },
  {
   "cell_type": "code",
   "execution_count": 13,
   "id": "educational-chancellor",
   "metadata": {
    "execution": {
     "iopub.execute_input": "2022-09-12T12:22:21.104684Z",
     "iopub.status.busy": "2022-09-12T12:22:21.103948Z",
     "iopub.status.idle": "2022-09-12T12:22:21.113492Z",
     "shell.execute_reply": "2022-09-12T12:22:21.112822Z"
    },
    "papermill": {
     "duration": 0.062951,
     "end_time": "2022-09-12T12:22:21.113621",
     "exception": false,
     "start_time": "2022-09-12T12:22:21.050670",
     "status": "completed"
    },
    "tags": []
   },
   "outputs": [
    {
     "data": {
      "text/html": [
       "<div>\n",
       "<style scoped>\n",
       "    .dataframe tbody tr th:only-of-type {\n",
       "        vertical-align: middle;\n",
       "    }\n",
       "\n",
       "    .dataframe tbody tr th {\n",
       "        vertical-align: top;\n",
       "    }\n",
       "\n",
       "    .dataframe thead th {\n",
       "        text-align: right;\n",
       "    }\n",
       "</style>\n",
       "<table border=\"1\" class=\"dataframe\">\n",
       "  <thead>\n",
       "    <tr style=\"text-align: right;\">\n",
       "      <th></th>\n",
       "      <th>Country/Region</th>\n",
       "      <th>Cases</th>\n",
       "      <th>Deaths</th>\n",
       "      <th>PCases</th>\n",
       "      <th>PDeaths</th>\n",
       "      <th>Cases (+)</th>\n",
       "      <th>Deaths (+)</th>\n",
       "      <th>Fatality Rate</th>\n",
       "      <th>Continent</th>\n",
       "    </tr>\n",
       "  </thead>\n",
       "  <tbody>\n",
       "    <tr>\n",
       "      <th>0</th>\n",
       "      <td>US</td>\n",
       "      <td>95250705</td>\n",
       "      <td>1050323</td>\n",
       "      <td>95242750</td>\n",
       "      <td>1050318</td>\n",
       "      <td>7955</td>\n",
       "      <td>5</td>\n",
       "      <td>1.10</td>\n",
       "      <td>North America</td>\n",
       "    </tr>\n",
       "    <tr>\n",
       "      <th>1</th>\n",
       "      <td>India</td>\n",
       "      <td>44500580</td>\n",
       "      <td>528165</td>\n",
       "      <td>44495359</td>\n",
       "      <td>528150</td>\n",
       "      <td>5221</td>\n",
       "      <td>15</td>\n",
       "      <td>1.19</td>\n",
       "      <td>Asia</td>\n",
       "    </tr>\n",
       "    <tr>\n",
       "      <th>2</th>\n",
       "      <td>France</td>\n",
       "      <td>34898909</td>\n",
       "      <td>155508</td>\n",
       "      <td>34898909</td>\n",
       "      <td>155508</td>\n",
       "      <td>0</td>\n",
       "      <td>0</td>\n",
       "      <td>0.45</td>\n",
       "      <td>Europe</td>\n",
       "    </tr>\n",
       "    <tr>\n",
       "      <th>3</th>\n",
       "      <td>Brazil</td>\n",
       "      <td>34516739</td>\n",
       "      <td>684813</td>\n",
       "      <td>34516739</td>\n",
       "      <td>684813</td>\n",
       "      <td>0</td>\n",
       "      <td>0</td>\n",
       "      <td>1.98</td>\n",
       "      <td>South America</td>\n",
       "    </tr>\n",
       "    <tr>\n",
       "      <th>4</th>\n",
       "      <td>Germany</td>\n",
       "      <td>32452250</td>\n",
       "      <td>148299</td>\n",
       "      <td>32452250</td>\n",
       "      <td>148299</td>\n",
       "      <td>0</td>\n",
       "      <td>0</td>\n",
       "      <td>0.46</td>\n",
       "      <td>Europe</td>\n",
       "    </tr>\n",
       "  </tbody>\n",
       "</table>\n",
       "</div>"
      ],
      "text/plain": [
       "  Country/Region     Cases   Deaths    PCases  PDeaths  Cases (+)  Deaths (+)  \\\n",
       "0             US  95250705  1050323  95242750  1050318       7955           5   \n",
       "1          India  44500580   528165  44495359   528150       5221          15   \n",
       "2         France  34898909   155508  34898909   155508          0           0   \n",
       "3         Brazil  34516739   684813  34516739   684813          0           0   \n",
       "4        Germany  32452250   148299  32452250   148299          0           0   \n",
       "\n",
       "   Fatality Rate      Continent  \n",
       "0           1.10  North America  \n",
       "1           1.19           Asia  \n",
       "2           0.45         Europe  \n",
       "3           1.98  South America  \n",
       "4           0.46         Europe  "
      ]
     },
     "execution_count": 13,
     "metadata": {},
     "output_type": "execute_result"
    }
   ],
   "source": [
    "#hide\n",
    "for c in 'Cases, Deaths'.split(', '):\n",
    "    df_table[f'{c} (+)'] = (df_table[c] - df_table[f'P{c}']).clip(0)\n",
    "    #Clip ça veut dire, les chiffres negatif sont interdit\n",
    "df_table['Fatality Rate'] = (100* df_table['Deaths']/ df_table['Cases']).round(2)\n",
    "df_table['Continent'] = df_table['Country/Region'].map(mapping['map.continent'])\n",
    "df_table.head(5)"
   ]
  },
  {
   "cell_type": "code",
   "execution_count": 14,
   "id": "aboriginal-bulgaria",
   "metadata": {
    "execution": {
     "iopub.execute_input": "2022-09-12T12:22:21.188289Z",
     "iopub.status.busy": "2022-09-12T12:22:21.187601Z",
     "iopub.status.idle": "2022-09-12T12:22:21.191033Z",
     "shell.execute_reply": "2022-09-12T12:22:21.190472Z"
    },
    "papermill": {
     "duration": 0.043244,
     "end_time": "2022-09-12T12:22:21.191162",
     "exception": false,
     "start_time": "2022-09-12T12:22:21.147918",
     "status": "completed"
    },
    "tags": []
   },
   "outputs": [],
   "source": [
    "#hide\n",
    "#delete problematic countries from table\n",
    "df_table = df_table[~df_table['Country/Region'].isin(['Cape Verde', 'Cruise Ship', 'Kosovo'])]"
   ]
  },
  {
   "cell_type": "code",
   "execution_count": 15,
   "id": "fantastic-effect",
   "metadata": {
    "execution": {
     "iopub.execute_input": "2022-09-12T12:22:21.273507Z",
     "iopub.status.busy": "2022-09-12T12:22:21.272801Z",
     "iopub.status.idle": "2022-09-12T12:22:21.292971Z",
     "shell.execute_reply": "2022-09-12T12:22:21.293508Z"
    },
    "papermill": {
     "duration": 0.06858,
     "end_time": "2022-09-12T12:22:21.293663",
     "exception": false,
     "start_time": "2022-09-12T12:22:21.225083",
     "status": "completed"
    },
    "tags": []
   },
   "outputs": [
    {
     "data": {
      "text/html": [
       "<div>\n",
       "<style scoped>\n",
       "    .dataframe tbody tr th:only-of-type {\n",
       "        vertical-align: middle;\n",
       "    }\n",
       "\n",
       "    .dataframe tbody tr th {\n",
       "        vertical-align: top;\n",
       "    }\n",
       "\n",
       "    .dataframe thead th {\n",
       "        text-align: right;\n",
       "    }\n",
       "</style>\n",
       "<table border=\"1\" class=\"dataframe\">\n",
       "  <thead>\n",
       "    <tr style=\"text-align: right;\">\n",
       "      <th></th>\n",
       "      <th>Country/Region</th>\n",
       "      <th>Cases</th>\n",
       "      <th>Deaths</th>\n",
       "      <th>PCases</th>\n",
       "      <th>PDeaths</th>\n",
       "      <th>Cases (+)</th>\n",
       "      <th>Deaths (+)</th>\n",
       "      <th>Fatality Rate</th>\n",
       "      <th>Continent</th>\n",
       "    </tr>\n",
       "  </thead>\n",
       "  <tbody>\n",
       "    <tr>\n",
       "      <th>0</th>\n",
       "      <td>US</td>\n",
       "      <td>95250705</td>\n",
       "      <td>1050323</td>\n",
       "      <td>95242750</td>\n",
       "      <td>1050318</td>\n",
       "      <td>7955</td>\n",
       "      <td>5</td>\n",
       "      <td>1.1</td>\n",
       "      <td>North America</td>\n",
       "    </tr>\n",
       "    <tr>\n",
       "      <th>1</th>\n",
       "      <td>India</td>\n",
       "      <td>44500580</td>\n",
       "      <td>528165</td>\n",
       "      <td>44495359</td>\n",
       "      <td>528150</td>\n",
       "      <td>5221</td>\n",
       "      <td>15</td>\n",
       "      <td>1.2</td>\n",
       "      <td>Asia</td>\n",
       "    </tr>\n",
       "    <tr>\n",
       "      <th>2</th>\n",
       "      <td>France</td>\n",
       "      <td>34898909</td>\n",
       "      <td>155508</td>\n",
       "      <td>34898909</td>\n",
       "      <td>155508</td>\n",
       "      <td>0</td>\n",
       "      <td>0</td>\n",
       "      <td>0.4</td>\n",
       "      <td>Europe</td>\n",
       "    </tr>\n",
       "    <tr>\n",
       "      <th>3</th>\n",
       "      <td>Brazil</td>\n",
       "      <td>34516739</td>\n",
       "      <td>684813</td>\n",
       "      <td>34516739</td>\n",
       "      <td>684813</td>\n",
       "      <td>0</td>\n",
       "      <td>0</td>\n",
       "      <td>2.0</td>\n",
       "      <td>South America</td>\n",
       "    </tr>\n",
       "    <tr>\n",
       "      <th>4</th>\n",
       "      <td>Germany</td>\n",
       "      <td>32452250</td>\n",
       "      <td>148299</td>\n",
       "      <td>32452250</td>\n",
       "      <td>148299</td>\n",
       "      <td>0</td>\n",
       "      <td>0</td>\n",
       "      <td>0.5</td>\n",
       "      <td>Europe</td>\n",
       "    </tr>\n",
       "  </tbody>\n",
       "</table>\n",
       "</div>"
      ],
      "text/plain": [
       "  Country/Region     Cases   Deaths    PCases  PDeaths  Cases (+)  Deaths (+)  \\\n",
       "0             US  95250705  1050323  95242750  1050318       7955           5   \n",
       "1          India  44500580   528165  44495359   528150       5221          15   \n",
       "2         France  34898909   155508  34898909   155508          0           0   \n",
       "3         Brazil  34516739   684813  34516739   684813          0           0   \n",
       "4        Germany  32452250   148299  32452250   148299          0           0   \n",
       "\n",
       "   Fatality Rate      Continent  \n",
       "0            1.1  North America  \n",
       "1            1.2           Asia  \n",
       "2            0.4         Europe  \n",
       "3            2.0  South America  \n",
       "4            0.5         Europe  "
      ]
     },
     "execution_count": 15,
     "metadata": {},
     "output_type": "execute_result"
    }
   ],
   "source": [
    "#hide\n",
    "df_table = (pd.DataFrame(dict(Cases=dfc_cases, Deaths=dfc_deaths, PCases=dfp_cases, PDeaths=dfp_deaths))\n",
    "             .sort_values(by=['Cases', 'Deaths'], ascending=[False, False])\n",
    "             .reset_index())\n",
    "df_table.rename(columns={'index': 'Country/Region'}, inplace=True)\n",
    "for c in 'Cases, Deaths'.split(', '):\n",
    "    df_table[f'{c} (+)'] = (df_table[c] - df_table[f'P{c}']).clip(0)  # DATA BUG\n",
    "df_table['Fatality Rate'] = (100 * df_table['Deaths'] / df_table['Cases']).round(1)\n",
    "df_table['Continent'] = df_table['Country/Region'].map(mapping['map.continent'])\n",
    "df_table.head(5)"
   ]
  },
  {
   "cell_type": "code",
   "execution_count": 16,
   "id": "fewer-occasion",
   "metadata": {
    "execution": {
     "iopub.execute_input": "2022-09-12T12:22:21.370158Z",
     "iopub.status.busy": "2022-09-12T12:22:21.369476Z",
     "iopub.status.idle": "2022-09-12T12:22:21.374763Z",
     "shell.execute_reply": "2022-09-12T12:22:21.375409Z"
    },
    "papermill": {
     "duration": 0.047254,
     "end_time": "2022-09-12T12:22:21.375560",
     "exception": false,
     "start_time": "2022-09-12T12:22:21.328306",
     "status": "completed"
    },
    "tags": []
   },
   "outputs": [],
   "source": [
    "#hide\n",
    "#delete problematic countries from table\n",
    "df_table = df_table[~df_table['Country/Region'].isin(['Cape Verde', 'Cruise Ship', 'Kosovo'])]"
   ]
  },
  {
   "cell_type": "code",
   "execution_count": 17,
   "id": "related-center",
   "metadata": {
    "execution": {
     "iopub.execute_input": "2022-09-12T12:22:21.468986Z",
     "iopub.status.busy": "2022-09-12T12:22:21.453671Z",
     "iopub.status.idle": "2022-09-12T12:22:21.472149Z",
     "shell.execute_reply": "2022-09-12T12:22:21.471389Z"
    },
    "papermill": {
     "duration": 0.062346,
     "end_time": "2022-09-12T12:22:21.472295",
     "exception": false,
     "start_time": "2022-09-12T12:22:21.409949",
     "status": "completed"
    },
    "tags": []
   },
   "outputs": [],
   "source": [
    "#hide\n",
    "metrics = [df_table.columns[index] for index in [1,2,5,6]]\n",
    "# s_china = df_table[df_table['Country/Region'].eq('China')][metrics].sum().add_prefix('China ')\n",
    "s_us = df_table[df_table['Country/Region'].eq('US')][metrics].sum().add_prefix('US ')\n",
    "s_eu = df_table[df_table['Continent'].eq('Europe')][metrics].sum().add_prefix('EU ')\n",
    "s_ind = df_table[df_table['Country/Region'].eq('India')][metrics].sum().add_prefix('India ')\n",
    "summary = {'updated': pd.to_datetime(dt_today), 'since': pd.to_datetime(dt_yday)}\n",
    "summary = {'updated': pd.to_datetime(dt_today), 'since': pd.to_datetime(dt_yday)}\n",
    "summary = {**summary, **df_table[metrics].sum(), **s_ind, **s_us, **s_eu}"
   ]
  },
  {
   "cell_type": "code",
   "execution_count": 18,
   "id": "engaging-syndrome",
   "metadata": {
    "execution": {
     "iopub.execute_input": "2022-09-12T12:22:21.545456Z",
     "iopub.status.busy": "2022-09-12T12:22:21.544756Z",
     "iopub.status.idle": "2022-09-12T12:22:21.571638Z",
     "shell.execute_reply": "2022-09-12T12:22:21.570865Z"
    },
    "papermill": {
     "duration": 0.064336,
     "end_time": "2022-09-12T12:22:21.571809",
     "exception": false,
     "start_time": "2022-09-12T12:22:21.507473",
     "status": "completed"
    },
    "tags": []
   },
   "outputs": [],
   "source": [
    "#hide\n",
    "dft_ct_new_cases = dft_cases.groupby(COL_REGION)[dt_cols].sum().diff(axis=1).fillna(0).astype(int)"
   ]
  },
  {
   "cell_type": "code",
   "execution_count": 19,
   "id": "neutral-assignment",
   "metadata": {
    "execution": {
     "iopub.execute_input": "2022-09-12T12:22:21.652364Z",
     "iopub.status.busy": "2022-09-12T12:22:21.651590Z",
     "iopub.status.idle": "2022-09-12T12:22:21.654552Z",
     "shell.execute_reply": "2022-09-12T12:22:21.653980Z"
    },
    "papermill": {
     "duration": 0.046756,
     "end_time": "2022-09-12T12:22:21.654689",
     "exception": false,
     "start_time": "2022-09-12T12:22:21.607933",
     "status": "completed"
    },
    "tags": []
   },
   "outputs": [],
   "source": [
    "#hide\n",
    "everydaycases = dft_ct_new_cases.cumsum(axis=1)"
   ]
  },
  {
   "cell_type": "code",
   "execution_count": 20,
   "id": "parliamentary-calgary",
   "metadata": {
    "execution": {
     "iopub.execute_input": "2022-09-12T12:22:21.729867Z",
     "iopub.status.busy": "2022-09-12T12:22:21.729176Z",
     "iopub.status.idle": "2022-09-12T12:22:22.389606Z",
     "shell.execute_reply": "2022-09-12T12:22:22.388985Z"
    },
    "papermill": {
     "duration": 0.699871,
     "end_time": "2022-09-12T12:22:22.389746",
     "exception": false,
     "start_time": "2022-09-12T12:22:21.689875",
     "status": "completed"
    },
    "tags": []
   },
   "outputs": [],
   "source": [
    "#hide\n",
    "import pandas as pd\n",
    "import matplotlib.pyplot as plt\n",
    "import matplotlib.ticker as ticker\n",
    "import matplotlib.animation as animation\n",
    "from IPython.display import HTML"
   ]
  },
  {
   "cell_type": "code",
   "execution_count": 21,
   "id": "lasting-extraction",
   "metadata": {
    "execution": {
     "iopub.execute_input": "2022-09-12T12:22:22.467100Z",
     "iopub.status.busy": "2022-09-12T12:22:22.466396Z",
     "iopub.status.idle": "2022-09-12T12:22:22.474711Z",
     "shell.execute_reply": "2022-09-12T12:22:22.474151Z"
    },
    "papermill": {
     "duration": 0.05043,
     "end_time": "2022-09-12T12:22:22.474839",
     "exception": false,
     "start_time": "2022-09-12T12:22:22.424409",
     "status": "completed"
    },
    "tags": []
   },
   "outputs": [],
   "source": [
    "#hide\n",
    "t = everydaycases.stack()"
   ]
  },
  {
   "cell_type": "code",
   "execution_count": 22,
   "id": "premier-sleeve",
   "metadata": {
    "execution": {
     "iopub.execute_input": "2022-09-12T12:22:22.552219Z",
     "iopub.status.busy": "2022-09-12T12:22:22.551520Z",
     "iopub.status.idle": "2022-09-12T12:22:22.569798Z",
     "shell.execute_reply": "2022-09-12T12:22:22.569081Z"
    },
    "papermill": {
     "duration": 0.060508,
     "end_time": "2022-09-12T12:22:22.570019",
     "exception": false,
     "start_time": "2022-09-12T12:22:22.509511",
     "status": "completed"
    },
    "tags": []
   },
   "outputs": [],
   "source": [
    "#hide\n",
    "g = t.reset_index(['Country/Region'])"
   ]
  },
  {
   "cell_type": "code",
   "execution_count": 23,
   "id": "distributed-pittsburgh",
   "metadata": {
    "execution": {
     "iopub.execute_input": "2022-09-12T12:22:22.646787Z",
     "iopub.status.busy": "2022-09-12T12:22:22.646061Z",
     "iopub.status.idle": "2022-09-12T12:22:22.647530Z",
     "shell.execute_reply": "2022-09-12T12:22:22.648039Z"
    },
    "papermill": {
     "duration": 0.042262,
     "end_time": "2022-09-12T12:22:22.648186",
     "exception": false,
     "start_time": "2022-09-12T12:22:22.605924",
     "status": "completed"
    },
    "tags": []
   },
   "outputs": [],
   "source": [
    "#hide\n",
    "g.index.name = 'date'"
   ]
  },
  {
   "cell_type": "code",
   "execution_count": 24,
   "id": "naked-donor",
   "metadata": {
    "execution": {
     "iopub.execute_input": "2022-09-12T12:22:22.722239Z",
     "iopub.status.busy": "2022-09-12T12:22:22.721522Z",
     "iopub.status.idle": "2022-09-12T12:22:22.724393Z",
     "shell.execute_reply": "2022-09-12T12:22:22.723863Z"
    },
    "papermill": {
     "duration": 0.041357,
     "end_time": "2022-09-12T12:22:22.724525",
     "exception": false,
     "start_time": "2022-09-12T12:22:22.683168",
     "status": "completed"
    },
    "tags": []
   },
   "outputs": [],
   "source": [
    "# #hide\n",
    "# g = g.reset_index(['date'])"
   ]
  },
  {
   "cell_type": "code",
   "execution_count": 25,
   "id": "incomplete-mustang",
   "metadata": {
    "execution": {
     "iopub.execute_input": "2022-09-12T12:22:22.803092Z",
     "iopub.status.busy": "2022-09-12T12:22:22.802409Z",
     "iopub.status.idle": "2022-09-12T12:22:22.807133Z",
     "shell.execute_reply": "2022-09-12T12:22:22.806468Z"
    },
    "papermill": {
     "duration": 0.045665,
     "end_time": "2022-09-12T12:22:22.807262",
     "exception": false,
     "start_time": "2022-09-12T12:22:22.761597",
     "status": "completed"
    },
    "tags": []
   },
   "outputs": [],
   "source": [
    "#hide\n",
    "# g.head()"
   ]
  },
  {
   "cell_type": "code",
   "execution_count": 26,
   "id": "specific-kruger",
   "metadata": {
    "execution": {
     "iopub.execute_input": "2022-09-12T12:22:22.886140Z",
     "iopub.status.busy": "2022-09-12T12:22:22.885462Z",
     "iopub.status.idle": "2022-09-12T12:22:22.890141Z",
     "shell.execute_reply": "2022-09-12T12:22:22.889405Z"
    },
    "papermill": {
     "duration": 0.045274,
     "end_time": "2022-09-12T12:22:22.890281",
     "exception": false,
     "start_time": "2022-09-12T12:22:22.845007",
     "status": "completed"
    },
    "tags": []
   },
   "outputs": [],
   "source": [
    "#hide\n",
    "# g.columns = ['date','country','cases']"
   ]
  },
  {
   "cell_type": "code",
   "execution_count": 27,
   "id": "tender-conversion",
   "metadata": {
    "execution": {
     "iopub.execute_input": "2022-09-12T12:22:22.967618Z",
     "iopub.status.busy": "2022-09-12T12:22:22.966919Z",
     "iopub.status.idle": "2022-09-12T12:22:22.969914Z",
     "shell.execute_reply": "2022-09-12T12:22:22.969351Z"
    },
    "papermill": {
     "duration": 0.044213,
     "end_time": "2022-09-12T12:22:22.970040",
     "exception": false,
     "start_time": "2022-09-12T12:22:22.925827",
     "status": "completed"
    },
    "tags": []
   },
   "outputs": [],
   "source": [
    "#hide\n",
    "# g['continent'] = g.country"
   ]
  },
  {
   "cell_type": "code",
   "execution_count": 28,
   "id": "substantial-wilderness",
   "metadata": {
    "execution": {
     "iopub.execute_input": "2022-09-12T12:22:23.057422Z",
     "iopub.status.busy": "2022-09-12T12:22:23.056616Z",
     "iopub.status.idle": "2022-09-12T12:22:23.059218Z",
     "shell.execute_reply": "2022-09-12T12:22:23.058538Z"
    },
    "papermill": {
     "duration": 0.053271,
     "end_time": "2022-09-12T12:22:23.059348",
     "exception": false,
     "start_time": "2022-09-12T12:22:23.006077",
     "status": "completed"
    },
    "tags": []
   },
   "outputs": [],
   "source": [
    "#hide\n",
    "# cols = list(g.columns.values)"
   ]
  },
  {
   "cell_type": "code",
   "execution_count": 29,
   "id": "solved-farming",
   "metadata": {
    "execution": {
     "iopub.execute_input": "2022-09-12T12:22:23.133347Z",
     "iopub.status.busy": "2022-09-12T12:22:23.132576Z",
     "iopub.status.idle": "2022-09-12T12:22:23.136926Z",
     "shell.execute_reply": "2022-09-12T12:22:23.136323Z"
    },
    "papermill": {
     "duration": 0.043167,
     "end_time": "2022-09-12T12:22:23.137065",
     "exception": false,
     "start_time": "2022-09-12T12:22:23.093898",
     "status": "completed"
    },
    "tags": []
   },
   "outputs": [],
   "source": [
    "#hide\n",
    "# cols.insert(0, cols.pop())"
   ]
  },
  {
   "cell_type": "code",
   "execution_count": 30,
   "id": "executed-adoption",
   "metadata": {
    "execution": {
     "iopub.execute_input": "2022-09-12T12:22:23.213965Z",
     "iopub.status.busy": "2022-09-12T12:22:23.212748Z",
     "iopub.status.idle": "2022-09-12T12:22:23.217320Z",
     "shell.execute_reply": "2022-09-12T12:22:23.216316Z"
    },
    "papermill": {
     "duration": 0.045235,
     "end_time": "2022-09-12T12:22:23.217543",
     "exception": false,
     "start_time": "2022-09-12T12:22:23.172308",
     "status": "completed"
    },
    "tags": []
   },
   "outputs": [],
   "source": [
    "#hide\n",
    "# g = g[cols]"
   ]
  },
  {
   "cell_type": "code",
   "execution_count": 31,
   "id": "subject-dublin",
   "metadata": {
    "execution": {
     "iopub.execute_input": "2022-09-12T12:22:23.291847Z",
     "iopub.status.busy": "2022-09-12T12:22:23.291110Z",
     "iopub.status.idle": "2022-09-12T12:22:23.295244Z",
     "shell.execute_reply": "2022-09-12T12:22:23.295852Z"
    },
    "papermill": {
     "duration": 0.043309,
     "end_time": "2022-09-12T12:22:23.296003",
     "exception": false,
     "start_time": "2022-09-12T12:22:23.252694",
     "status": "completed"
    },
    "tags": []
   },
   "outputs": [],
   "source": [
    "#hide\n",
    "# g['continent'] = g['continent'].map(mapping['map.continent'])"
   ]
  },
  {
   "cell_type": "code",
   "execution_count": 32,
   "id": "freelance-scout",
   "metadata": {
    "execution": {
     "iopub.execute_input": "2022-09-12T12:22:23.369761Z",
     "iopub.status.busy": "2022-09-12T12:22:23.369022Z",
     "iopub.status.idle": "2022-09-12T12:22:23.371241Z",
     "shell.execute_reply": "2022-09-12T12:22:23.371742Z"
    },
    "papermill": {
     "duration": 0.041271,
     "end_time": "2022-09-12T12:22:23.371897",
     "exception": false,
     "start_time": "2022-09-12T12:22:23.330626",
     "status": "completed"
    },
    "tags": []
   },
   "outputs": [],
   "source": [
    "#hide\n",
    "# g.head()"
   ]
  },
  {
   "cell_type": "code",
   "execution_count": 33,
   "id": "limited-engine",
   "metadata": {
    "execution": {
     "iopub.execute_input": "2022-09-12T12:22:23.448636Z",
     "iopub.status.busy": "2022-09-12T12:22:23.447905Z",
     "iopub.status.idle": "2022-09-12T12:22:23.451320Z",
     "shell.execute_reply": "2022-09-12T12:22:23.450656Z"
    },
    "papermill": {
     "duration": 0.044126,
     "end_time": "2022-09-12T12:22:23.451450",
     "exception": false,
     "start_time": "2022-09-12T12:22:23.407324",
     "status": "completed"
    },
    "tags": []
   },
   "outputs": [],
   "source": [
    "# hide\n",
    "# g['date'] = g['date'].astype('datetime64[ns]')"
   ]
  },
  {
   "cell_type": "code",
   "execution_count": 34,
   "id": "sophisticated-supervisor",
   "metadata": {
    "execution": {
     "iopub.execute_input": "2022-09-12T12:22:23.525850Z",
     "iopub.status.busy": "2022-09-12T12:22:23.525131Z",
     "iopub.status.idle": "2022-09-12T12:22:23.527912Z",
     "shell.execute_reply": "2022-09-12T12:22:23.527246Z"
    },
    "papermill": {
     "duration": 0.041417,
     "end_time": "2022-09-12T12:22:23.528041",
     "exception": false,
     "start_time": "2022-09-12T12:22:23.486624",
     "status": "completed"
    },
    "tags": []
   },
   "outputs": [],
   "source": [
    "#hide\n",
    "# g['date'] = g.date.dt.dayofyear"
   ]
  },
  {
   "cell_type": "code",
   "execution_count": 35,
   "id": "inside-dubai",
   "metadata": {
    "execution": {
     "iopub.execute_input": "2022-09-12T12:22:23.602244Z",
     "iopub.status.busy": "2022-09-12T12:22:23.601511Z",
     "iopub.status.idle": "2022-09-12T12:22:23.604286Z",
     "shell.execute_reply": "2022-09-12T12:22:23.603605Z"
    },
    "papermill": {
     "duration": 0.041878,
     "end_time": "2022-09-12T12:22:23.604418",
     "exception": false,
     "start_time": "2022-09-12T12:22:23.562540",
     "status": "completed"
    },
    "tags": []
   },
   "outputs": [],
   "source": [
    "#hide\n",
    "# g = g.rename(columns= {'continent':'group','country':'name','cases':'value'})"
   ]
  },
  {
   "cell_type": "code",
   "execution_count": 36,
   "id": "fleet-motorcycle",
   "metadata": {
    "execution": {
     "iopub.execute_input": "2022-09-12T12:22:23.678452Z",
     "iopub.status.busy": "2022-09-12T12:22:23.677733Z",
     "iopub.status.idle": "2022-09-12T12:22:23.680845Z",
     "shell.execute_reply": "2022-09-12T12:22:23.680246Z"
    },
    "papermill": {
     "duration": 0.04163,
     "end_time": "2022-09-12T12:22:23.680981",
     "exception": false,
     "start_time": "2022-09-12T12:22:23.639351",
     "status": "completed"
    },
    "tags": []
   },
   "outputs": [],
   "source": [
    "#hide\n",
    "# cols = ['name','group','day','value']"
   ]
  },
  {
   "cell_type": "code",
   "execution_count": 37,
   "id": "continued-sleeping",
   "metadata": {
    "execution": {
     "iopub.execute_input": "2022-09-12T12:22:23.754499Z",
     "iopub.status.busy": "2022-09-12T12:22:23.753785Z",
     "iopub.status.idle": "2022-09-12T12:22:23.756811Z",
     "shell.execute_reply": "2022-09-12T12:22:23.756192Z"
    },
    "papermill": {
     "duration": 0.04148,
     "end_time": "2022-09-12T12:22:23.756945",
     "exception": false,
     "start_time": "2022-09-12T12:22:23.715465",
     "status": "completed"
    },
    "tags": []
   },
   "outputs": [],
   "source": [
    "#hide\n",
    "# g.rename(columns= {'date':'day'},inplace = True)"
   ]
  },
  {
   "cell_type": "code",
   "execution_count": 38,
   "id": "major-fight",
   "metadata": {
    "execution": {
     "iopub.execute_input": "2022-09-12T12:22:23.830701Z",
     "iopub.status.busy": "2022-09-12T12:22:23.829968Z",
     "iopub.status.idle": "2022-09-12T12:22:23.832097Z",
     "shell.execute_reply": "2022-09-12T12:22:23.831444Z"
    },
    "papermill": {
     "duration": 0.040502,
     "end_time": "2022-09-12T12:22:23.832226",
     "exception": false,
     "start_time": "2022-09-12T12:22:23.791724",
     "status": "completed"
    },
    "tags": []
   },
   "outputs": [],
   "source": [
    "#hide\n",
    "# g = g[cols]"
   ]
  },
  {
   "cell_type": "code",
   "execution_count": 39,
   "id": "structured-mobile",
   "metadata": {
    "execution": {
     "iopub.execute_input": "2022-09-12T12:22:23.906410Z",
     "iopub.status.busy": "2022-09-12T12:22:23.905679Z",
     "iopub.status.idle": "2022-09-12T12:22:23.907974Z",
     "shell.execute_reply": "2022-09-12T12:22:23.908471Z"
    },
    "papermill": {
     "duration": 0.0414,
     "end_time": "2022-09-12T12:22:23.908628",
     "exception": false,
     "start_time": "2022-09-12T12:22:23.867228",
     "status": "completed"
    },
    "tags": []
   },
   "outputs": [],
   "source": [
    "# #hide\n",
    "# g = g[g.group.notna()]"
   ]
  },
  {
   "cell_type": "code",
   "execution_count": 40,
   "id": "determined-closing",
   "metadata": {
    "execution": {
     "iopub.execute_input": "2022-09-12T12:22:23.982971Z",
     "iopub.status.busy": "2022-09-12T12:22:23.982242Z",
     "iopub.status.idle": "2022-09-12T12:22:23.984889Z",
     "shell.execute_reply": "2022-09-12T12:22:23.984195Z"
    },
    "papermill": {
     "duration": 0.041185,
     "end_time": "2022-09-12T12:22:23.985020",
     "exception": false,
     "start_time": "2022-09-12T12:22:23.943835",
     "status": "completed"
    },
    "tags": []
   },
   "outputs": [],
   "source": [
    "# #hide\n",
    "# colors = dict(zip(\n",
    "#     [\"Oceania\", \"Europe\", \"Asia\", \"South America\", \"Middle East\", \"North America\", \"Africa\"],\n",
    "#     [\"#adb0ff\", \"#ffb3ff\", \"#90d595\", \"#e48381\", \"#aafbff\", \"#f7bb5f\", \"#eafb50\"]\n",
    "# ))\n",
    "# group_lk = g.set_index('name')['group'].to_dict()"
   ]
  },
  {
   "cell_type": "code",
   "execution_count": null,
   "id": "gross-drinking",
   "metadata": {
    "papermill": {
     "duration": 0.035492,
     "end_time": "2022-09-12T12:22:24.055177",
     "exception": false,
     "start_time": "2022-09-12T12:22:24.019685",
     "status": "completed"
    },
    "tags": []
   },
   "outputs": [],
   "source": []
  },
  {
   "cell_type": "code",
   "execution_count": 41,
   "id": "subject-macintosh",
   "metadata": {
    "execution": {
     "iopub.execute_input": "2022-09-12T12:22:24.129533Z",
     "iopub.status.busy": "2022-09-12T12:22:24.128747Z",
     "iopub.status.idle": "2022-09-12T12:22:24.132211Z",
     "shell.execute_reply": "2022-09-12T12:22:24.132741Z"
    },
    "papermill": {
     "duration": 0.043096,
     "end_time": "2022-09-12T12:22:24.132903",
     "exception": false,
     "start_time": "2022-09-12T12:22:24.089807",
     "status": "completed"
    },
    "tags": []
   },
   "outputs": [],
   "source": [
    "# #hide\n",
    "# fig, ax = plt.subplots(figsize=(15, 8))\n",
    "\n",
    "# def draw_barchart(current_day):\n",
    "#     dff = g[g['day'].eq(current_day)].sort_values(by='value', ascending=True).tail(10)\n",
    "#     ax.clear()\n",
    "#     ax.barh(dff['name'], dff['value'], color=[colors[group_lk[x]] for x in dff['name']])\n",
    "#     dx = dff['value'].max() / 200\n",
    "    \n",
    "#     for i, (value, name) in enumerate(zip(dff['value'], dff['name'])):\n",
    "#         ax.text(value-dx, i,     name,           size=14, weight=600, ha='right', va='bottom')\n",
    "#         ax.text(value-dx, i-.25, group_lk[name], size=10, color='#444444', ha='right', va='baseline')\n",
    "#         ax.text(value+dx, i,     f'{value:,.0f}',  size=14, ha='left',  va='center')\n",
    "#     ax.text(1, 0.4, current_day, transform=ax.transAxes, color='#777777', size=46, ha='right', weight=800)\n",
    "#     ax.text(0, 1.06, 'Population (thousands)', transform=ax.transAxes, size=12, color='#777777')\n",
    "#     ax.xaxis.set_major_formatter(ticker.StrMethodFormatter('{x:,.0f}'))\n",
    "#     ax.xaxis.set_ticks_position('top')\n",
    "#     ax.tick_params(axis='x', colors='#777777', labelsize=12)\n",
    "#     ax.set_yticks([])\n",
    "#     ax.margins(0, 0.01)\n",
    "#     ax.grid(which='major', axis='x', linestyle='-')\n",
    "#     ax.set_axisbelow(True)\n",
    "    \n",
    "#     ax.text(0, 1.15, 'Coronavirus',\n",
    "#             transform=ax.transAxes, size=24, weight=600, ha='left', va='top')\n",
    "# #     ax.text(1, 0, 'by @pratapvardhan; credit @jburnmurdoch', transform=ax.transAxes, color='#777777', ha='right',\n",
    "# #             bbox=dict(facecolor='white', alpha=0.8, edgecolor='white'))\n",
    "#     plt.box(False)"
   ]
  },
  {
   "cell_type": "code",
   "execution_count": 42,
   "id": "sexual-wages",
   "metadata": {
    "execution": {
     "iopub.execute_input": "2022-09-12T12:22:24.212621Z",
     "iopub.status.busy": "2022-09-12T12:22:24.211375Z",
     "iopub.status.idle": "2022-09-12T12:22:24.216830Z",
     "shell.execute_reply": "2022-09-12T12:22:24.216221Z"
    },
    "papermill": {
     "duration": 0.047275,
     "end_time": "2022-09-12T12:22:24.216971",
     "exception": false,
     "start_time": "2022-09-12T12:22:24.169696",
     "status": "completed"
    },
    "tags": []
   },
   "outputs": [],
   "source": [
    "# #hide_input\n",
    "# fig, ax = plt.subplots(figsize=(15, 8))\n",
    "# animator = animation.FuncAnimation(fig, draw_barchart, frames=range(g.day.values.min(), g.day.values.max()))\n",
    "# HTML(animator.to_jshtml())\n",
    "# # or use animator.to_html5_video() or animator.save() "
   ]
  },
  {
   "cell_type": "code",
   "execution_count": null,
   "id": "australian-container",
   "metadata": {
    "papermill": {
     "duration": 0.03648,
     "end_time": "2022-09-12T12:22:24.292095",
     "exception": false,
     "start_time": "2022-09-12T12:22:24.255615",
     "status": "completed"
    },
    "tags": []
   },
   "outputs": [],
   "source": []
  },
  {
   "cell_type": "code",
   "execution_count": null,
   "id": "mediterranean-pontiac",
   "metadata": {
    "papermill": {
     "duration": 0.041678,
     "end_time": "2022-09-12T12:22:24.371890",
     "exception": false,
     "start_time": "2022-09-12T12:22:24.330212",
     "status": "completed"
    },
    "tags": []
   },
   "outputs": [],
   "source": []
  },
  {
   "cell_type": "code",
   "execution_count": null,
   "id": "aging-legislature",
   "metadata": {
    "papermill": {
     "duration": 0.034486,
     "end_time": "2022-09-12T12:22:24.441096",
     "exception": false,
     "start_time": "2022-09-12T12:22:24.406610",
     "status": "completed"
    },
    "tags": []
   },
   "outputs": [],
   "source": []
  }
 ],
 "metadata": {
  "kernelspec": {
   "display_name": "Python 3",
   "language": "python",
   "name": "python3"
  },
  "language_info": {
   "codemirror_mode": {
    "name": "ipython",
    "version": 3
   },
   "file_extension": ".py",
   "mimetype": "text/x-python",
   "name": "python",
   "nbconvert_exporter": "python",
   "pygments_lexer": "ipython3",
   "version": "3.6.15"
  },
  "papermill": {
   "duration": 7.261864,
   "end_time": "2022-09-12T12:22:24.896297",
   "environment_variables": {},
   "exception": null,
   "input_path": "2020-03-21-covid19exp.ipynb",
   "output_path": "2020-03-21-covid19exp.ipynb",
   "parameters": {},
   "start_time": "2022-09-12T12:22:17.634433",
   "version": "2.0.0"
  }
 },
 "nbformat": 4,
 "nbformat_minor": 5
}