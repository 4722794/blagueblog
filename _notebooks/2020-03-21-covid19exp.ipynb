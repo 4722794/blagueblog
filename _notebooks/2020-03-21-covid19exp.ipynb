{
 "cells": [
  {
   "cell_type": "markdown",
   "metadata": {
    "papermill": {
     "duration": 0.033736,
     "end_time": "2021-01-09T12:13:12.575371",
     "exception": false,
     "start_time": "2021-01-09T12:13:12.541635",
     "status": "completed"
    },
    "tags": []
   },
   "source": [
    "# COVID-19 Case Race\n",
    "> A race chart to see rising cases around the world\n",
    "\n",
    "- author: Hargun Oberoi\n",
    "- image: images/covid-overview.png\n",
    "- hide: false\n",
    "- badges: false"
   ]
  },
  {
   "cell_type": "code",
   "execution_count": 1,
   "metadata": {
    "execution": {
     "iopub.execute_input": "2021-01-09T12:13:12.646978Z",
     "iopub.status.busy": "2021-01-09T12:13:12.646375Z",
     "iopub.status.idle": "2021-01-09T12:13:13.006269Z",
     "shell.execute_reply": "2021-01-09T12:13:13.005644Z"
    },
    "papermill": {
     "duration": 0.401347,
     "end_time": "2021-01-09T12:13:13.006441",
     "exception": false,
     "start_time": "2021-01-09T12:13:12.605094",
     "status": "completed"
    },
    "tags": []
   },
   "outputs": [],
   "source": [
    "#hide\n",
    "import numpy as np\n",
    "import pandas as pd\n",
    "from jinja2 import Template\n",
    "from IPython.display import HTML"
   ]
  },
  {
   "cell_type": "code",
   "execution_count": 2,
   "metadata": {
    "execution": {
     "iopub.execute_input": "2021-01-09T12:13:13.071966Z",
     "iopub.status.busy": "2021-01-09T12:13:13.071102Z",
     "iopub.status.idle": "2021-01-09T12:13:13.072842Z",
     "shell.execute_reply": "2021-01-09T12:13:13.073428Z"
    },
    "papermill": {
     "duration": 0.036723,
     "end_time": "2021-01-09T12:13:13.073574",
     "exception": false,
     "start_time": "2021-01-09T12:13:13.036851",
     "status": "completed"
    },
    "tags": []
   },
   "outputs": [],
   "source": [
    "#hide\n",
    "\n",
    "# FETCH\n",
    "base_url = 'https://raw.githubusercontent.com/pratapvardhan/notebooks/master/covid19/'\n",
    "paths = {\n",
    "    'mapping': base_url + 'mapping_countries.csv',\n",
    "    'overview': base_url + 'overview.tpl'\n",
    "}"
   ]
  },
  {
   "cell_type": "code",
   "execution_count": 3,
   "metadata": {
    "execution": {
     "iopub.execute_input": "2021-01-09T12:13:13.144505Z",
     "iopub.status.busy": "2021-01-09T12:13:13.143874Z",
     "iopub.status.idle": "2021-01-09T12:13:13.148347Z",
     "shell.execute_reply": "2021-01-09T12:13:13.148851Z"
    },
    "papermill": {
     "duration": 0.04574,
     "end_time": "2021-01-09T12:13:13.148994",
     "exception": false,
     "start_time": "2021-01-09T12:13:13.103254",
     "status": "completed"
    },
    "tags": []
   },
   "outputs": [
    {
     "data": {
      "text/plain": [
       "'https://raw.githubusercontent.com/pratapvardhan/notebooks/master/covid19/mapping_countries.csv'"
      ]
     },
     "execution_count": 3,
     "metadata": {},
     "output_type": "execute_result"
    }
   ],
   "source": [
    "#hide\n",
    "paths['mapping']"
   ]
  },
  {
   "cell_type": "code",
   "execution_count": 4,
   "metadata": {
    "execution": {
     "iopub.execute_input": "2021-01-09T12:13:13.215059Z",
     "iopub.status.busy": "2021-01-09T12:13:13.214404Z",
     "iopub.status.idle": "2021-01-09T12:13:13.219450Z",
     "shell.execute_reply": "2021-01-09T12:13:13.218975Z"
    },
    "papermill": {
     "duration": 0.041387,
     "end_time": "2021-01-09T12:13:13.219569",
     "exception": false,
     "start_time": "2021-01-09T12:13:13.178182",
     "status": "completed"
    },
    "tags": []
   },
   "outputs": [],
   "source": [
    "#hide\n",
    "def get_mappings(url):\n",
    "    df = pd.read_csv(url)\n",
    "    return {\n",
    "        'df': df,\n",
    "        'replace.country': dict(df.dropna(subset=['Name']).set_index('Country')['Name']),\n",
    "        'map.continent': dict(df.set_index('Name')['Continent'])\n",
    "    }"
   ]
  },
  {
   "cell_type": "code",
   "execution_count": 5,
   "metadata": {
    "execution": {
     "iopub.execute_input": "2021-01-09T12:13:13.281189Z",
     "iopub.status.busy": "2021-01-09T12:13:13.280558Z",
     "iopub.status.idle": "2021-01-09T12:13:13.334670Z",
     "shell.execute_reply": "2021-01-09T12:13:13.334182Z"
    },
    "papermill": {
     "duration": 0.086348,
     "end_time": "2021-01-09T12:13:13.334822",
     "exception": false,
     "start_time": "2021-01-09T12:13:13.248474",
     "status": "completed"
    },
    "tags": []
   },
   "outputs": [],
   "source": [
    "#hide\n",
    "mapping = get_mappings(paths['mapping'])"
   ]
  },
  {
   "cell_type": "code",
   "execution_count": 6,
   "metadata": {
    "execution": {
     "iopub.execute_input": "2021-01-09T12:13:13.399151Z",
     "iopub.status.busy": "2021-01-09T12:13:13.398600Z",
     "iopub.status.idle": "2021-01-09T12:13:13.401263Z",
     "shell.execute_reply": "2021-01-09T12:13:13.400514Z"
    },
    "papermill": {
     "duration": 0.037937,
     "end_time": "2021-01-09T12:13:13.401399",
     "exception": false,
     "start_time": "2021-01-09T12:13:13.363462",
     "status": "completed"
    },
    "tags": []
   },
   "outputs": [],
   "source": [
    "#hide\n",
    "def get_template(path):\n",
    "    from urllib.parse import urlparse\n",
    "    if bool(urlparse(path).netloc):\n",
    "        from urllib.request import urlopen\n",
    "        return urlopen(path).read().decode('utf8')\n",
    "    return open(path).read()"
   ]
  },
  {
   "cell_type": "code",
   "execution_count": 7,
   "metadata": {
    "execution": {
     "iopub.execute_input": "2021-01-09T12:13:13.468321Z",
     "iopub.status.busy": "2021-01-09T12:13:13.467723Z",
     "iopub.status.idle": "2021-01-09T12:13:13.470026Z",
     "shell.execute_reply": "2021-01-09T12:13:13.469524Z"
    },
    "papermill": {
     "duration": 0.038914,
     "end_time": "2021-01-09T12:13:13.470151",
     "exception": false,
     "start_time": "2021-01-09T12:13:13.431237",
     "status": "completed"
    },
    "tags": []
   },
   "outputs": [],
   "source": [
    "#hide\n",
    "def get_frame(name):\n",
    "    url = (\n",
    "        'https://raw.githubusercontent.com/CSSEGISandData/COVID-19/master/csse_covid_19_data/'\n",
    "        f'csse_covid_19_time_series/time_series_covid19_{name}_global.csv')\n",
    "    df = pd.read_csv(url)\n",
    "    # rename countries\n",
    "    df['Country/Region'] = df['Country/Region'].replace(mapping['replace.country'])\n",
    "    return df"
   ]
  },
  {
   "cell_type": "code",
   "execution_count": 8,
   "metadata": {
    "execution": {
     "iopub.execute_input": "2021-01-09T12:13:13.540822Z",
     "iopub.status.busy": "2021-01-09T12:13:13.540191Z",
     "iopub.status.idle": "2021-01-09T12:13:13.542479Z",
     "shell.execute_reply": "2021-01-09T12:13:13.542925Z"
    },
    "papermill": {
     "duration": 0.038008,
     "end_time": "2021-01-09T12:13:13.543077",
     "exception": false,
     "start_time": "2021-01-09T12:13:13.505069",
     "status": "completed"
    },
    "tags": []
   },
   "outputs": [],
   "source": [
    "#hide\n",
    "def get_dates(df):\n",
    "    dt_cols = df.columns[~df.columns.isin(['Province/State', 'Country/Region', 'Lat', 'Long'])]\n",
    "    LAST_DATE_I = -1\n",
    "    # sometimes last column may be empty, then go backwards\n",
    "    for i in range(-1, -len(dt_cols), -1):\n",
    "        if not df[dt_cols[i]].fillna(0).eq(0).all():\n",
    "            LAST_DATE_I = i\n",
    "            break\n",
    "    return LAST_DATE_I, dt_cols"
   ]
  },
  {
   "cell_type": "code",
   "execution_count": 9,
   "metadata": {
    "execution": {
     "iopub.execute_input": "2021-01-09T12:13:13.606376Z",
     "iopub.status.busy": "2021-01-09T12:13:13.605837Z",
     "iopub.status.idle": "2021-01-09T12:13:13.953864Z",
     "shell.execute_reply": "2021-01-09T12:13:13.954315Z"
    },
    "papermill": {
     "duration": 0.382593,
     "end_time": "2021-01-09T12:13:13.954471",
     "exception": false,
     "start_time": "2021-01-09T12:13:13.571878",
     "status": "completed"
    },
    "tags": []
   },
   "outputs": [],
   "source": [
    "#hide\n",
    "COL_REGION = 'Country/Region'\n",
    "# Confirmed, Recovered, Deaths\n",
    "df = get_frame('confirmed')\n",
    "# dft_: timeseries, dfc_: today country agg\n",
    "dft_cases = df\n",
    "dft_deaths = get_frame('deaths')\n",
    "dft_recovered = get_frame('recovered')\n",
    "LAST_DATE_I, dt_cols = get_dates(df)"
   ]
  },
  {
   "cell_type": "code",
   "execution_count": 10,
   "metadata": {
    "execution": {
     "iopub.execute_input": "2021-01-09T12:13:14.016737Z",
     "iopub.status.busy": "2021-01-09T12:13:14.016158Z",
     "iopub.status.idle": "2021-01-09T12:13:14.018755Z",
     "shell.execute_reply": "2021-01-09T12:13:14.018297Z"
    },
    "papermill": {
     "duration": 0.035625,
     "end_time": "2021-01-09T12:13:14.018869",
     "exception": false,
     "start_time": "2021-01-09T12:13:13.983244",
     "status": "completed"
    },
    "tags": []
   },
   "outputs": [],
   "source": [
    "#hide\n",
    "LAST_DATE_I, dt_cols = get_dates(df)\n",
    "dt_today =dt_cols[LAST_DATE_I]\n",
    "# dt_5day = dt_cols[LAST_DATE_I - 5]\n",
    "dt_yday = dt_cols[LAST_DATE_I - 1]"
   ]
  },
  {
   "cell_type": "code",
   "execution_count": 11,
   "metadata": {
    "execution": {
     "iopub.execute_input": "2021-01-09T12:13:14.083213Z",
     "iopub.status.busy": "2021-01-09T12:13:14.082661Z",
     "iopub.status.idle": "2021-01-09T12:13:14.091664Z",
     "shell.execute_reply": "2021-01-09T12:13:14.091155Z"
    },
    "papermill": {
     "duration": 0.044949,
     "end_time": "2021-01-09T12:13:14.091792",
     "exception": false,
     "start_time": "2021-01-09T12:13:14.046843",
     "status": "completed"
    },
    "tags": []
   },
   "outputs": [],
   "source": [
    "#hide\n",
    "dfc_cases = dft_cases.groupby(COL_REGION)[dt_today].sum()\n",
    "dfc_deaths = dft_deaths.groupby(COL_REGION)[dt_today].sum()\n",
    "# dfp_cases = dft_cases.groupby(COL_REGION)[dt_5day].sum()\n",
    "# dfp_deaths = dft_deaths.groupby(COL_REGION)[dt_5day].sum()\n",
    "dfp_cases = dft_cases.groupby(COL_REGION)[dt_yday].sum()\n",
    "dfp_deaths = dft_deaths.groupby(COL_REGION)[dt_yday].sum()"
   ]
  },
  {
   "cell_type": "code",
   "execution_count": 12,
   "metadata": {
    "execution": {
     "iopub.execute_input": "2021-01-09T12:13:14.156021Z",
     "iopub.status.busy": "2021-01-09T12:13:14.155443Z",
     "iopub.status.idle": "2021-01-09T12:13:14.160391Z",
     "shell.execute_reply": "2021-01-09T12:13:14.159890Z"
    },
    "papermill": {
     "duration": 0.039899,
     "end_time": "2021-01-09T12:13:14.160514",
     "exception": false,
     "start_time": "2021-01-09T12:13:14.120615",
     "status": "completed"
    },
    "tags": []
   },
   "outputs": [],
   "source": [
    "#hide\n",
    "df_table = (pd.DataFrame(dict(Cases = dfc_cases, Deaths = dfc_deaths, PCases = dfp_cases, PDeaths = dfp_deaths))\n",
    "            .sort_values(by = ['Cases','Deaths'], ascending = [False, False])\n",
    "            .reset_index())"
   ]
  },
  {
   "cell_type": "code",
   "execution_count": 13,
   "metadata": {
    "execution": {
     "iopub.execute_input": "2021-01-09T12:13:14.236968Z",
     "iopub.status.busy": "2021-01-09T12:13:14.236391Z",
     "iopub.status.idle": "2021-01-09T12:13:14.243480Z",
     "shell.execute_reply": "2021-01-09T12:13:14.244033Z"
    },
    "papermill": {
     "duration": 0.055629,
     "end_time": "2021-01-09T12:13:14.244182",
     "exception": false,
     "start_time": "2021-01-09T12:13:14.188553",
     "status": "completed"
    },
    "tags": []
   },
   "outputs": [
    {
     "data": {
      "text/html": [
       "<div>\n",
       "<style scoped>\n",
       "    .dataframe tbody tr th:only-of-type {\n",
       "        vertical-align: middle;\n",
       "    }\n",
       "\n",
       "    .dataframe tbody tr th {\n",
       "        vertical-align: top;\n",
       "    }\n",
       "\n",
       "    .dataframe thead th {\n",
       "        text-align: right;\n",
       "    }\n",
       "</style>\n",
       "<table border=\"1\" class=\"dataframe\">\n",
       "  <thead>\n",
       "    <tr style=\"text-align: right;\">\n",
       "      <th></th>\n",
       "      <th>Country/Region</th>\n",
       "      <th>Cases</th>\n",
       "      <th>Deaths</th>\n",
       "      <th>PCases</th>\n",
       "      <th>PDeaths</th>\n",
       "      <th>Cases (+)</th>\n",
       "      <th>Deaths (+)</th>\n",
       "      <th>Fatality Rate</th>\n",
       "      <th>Continent</th>\n",
       "    </tr>\n",
       "  </thead>\n",
       "  <tbody>\n",
       "    <tr>\n",
       "      <th>0</th>\n",
       "      <td>US</td>\n",
       "      <td>21862773</td>\n",
       "      <td>368773</td>\n",
       "      <td>21579569</td>\n",
       "      <td>365317</td>\n",
       "      <td>283204</td>\n",
       "      <td>3456</td>\n",
       "      <td>1.69</td>\n",
       "      <td>North America</td>\n",
       "    </tr>\n",
       "    <tr>\n",
       "      <th>1</th>\n",
       "      <td>India</td>\n",
       "      <td>10413417</td>\n",
       "      <td>150570</td>\n",
       "      <td>10413417</td>\n",
       "      <td>150570</td>\n",
       "      <td>0</td>\n",
       "      <td>0</td>\n",
       "      <td>1.45</td>\n",
       "      <td>Asia</td>\n",
       "    </tr>\n",
       "    <tr>\n",
       "      <th>2</th>\n",
       "      <td>Brazil</td>\n",
       "      <td>8013708</td>\n",
       "      <td>201460</td>\n",
       "      <td>7961673</td>\n",
       "      <td>200498</td>\n",
       "      <td>52035</td>\n",
       "      <td>962</td>\n",
       "      <td>2.51</td>\n",
       "      <td>South America</td>\n",
       "    </tr>\n",
       "    <tr>\n",
       "      <th>3</th>\n",
       "      <td>Russia</td>\n",
       "      <td>3321163</td>\n",
       "      <td>60067</td>\n",
       "      <td>3297833</td>\n",
       "      <td>59628</td>\n",
       "      <td>23330</td>\n",
       "      <td>439</td>\n",
       "      <td>1.81</td>\n",
       "      <td>Europe</td>\n",
       "    </tr>\n",
       "    <tr>\n",
       "      <th>4</th>\n",
       "      <td>United Kingdom</td>\n",
       "      <td>2966244</td>\n",
       "      <td>79965</td>\n",
       "      <td>2898052</td>\n",
       "      <td>78632</td>\n",
       "      <td>68192</td>\n",
       "      <td>1333</td>\n",
       "      <td>2.70</td>\n",
       "      <td>Europe</td>\n",
       "    </tr>\n",
       "  </tbody>\n",
       "</table>\n",
       "</div>"
      ],
      "text/plain": [
       "   Country/Region     Cases  Deaths    PCases  PDeaths  Cases (+)  Deaths (+)  \\\n",
       "0              US  21862773  368773  21579569   365317     283204        3456   \n",
       "1           India  10413417  150570  10413417   150570          0           0   \n",
       "2          Brazil   8013708  201460   7961673   200498      52035         962   \n",
       "3          Russia   3321163   60067   3297833    59628      23330         439   \n",
       "4  United Kingdom   2966244   79965   2898052    78632      68192        1333   \n",
       "\n",
       "   Fatality Rate      Continent  \n",
       "0           1.69  North America  \n",
       "1           1.45           Asia  \n",
       "2           2.51  South America  \n",
       "3           1.81         Europe  \n",
       "4           2.70         Europe  "
      ]
     },
     "execution_count": 13,
     "metadata": {},
     "output_type": "execute_result"
    }
   ],
   "source": [
    "#hide\n",
    "for c in 'Cases, Deaths'.split(', '):\n",
    "    df_table[f'{c} (+)'] = (df_table[c] - df_table[f'P{c}']).clip(0)\n",
    "    #Clip ça veut dire, les chiffres negatif sont interdit\n",
    "df_table['Fatality Rate'] = (100* df_table['Deaths']/ df_table['Cases']).round(2)\n",
    "df_table['Continent'] = df_table['Country/Region'].map(mapping['map.continent'])\n",
    "df_table.head(5)"
   ]
  },
  {
   "cell_type": "code",
   "execution_count": 14,
   "metadata": {
    "execution": {
     "iopub.execute_input": "2021-01-09T12:13:14.308574Z",
     "iopub.status.busy": "2021-01-09T12:13:14.307596Z",
     "iopub.status.idle": "2021-01-09T12:13:14.311084Z",
     "shell.execute_reply": "2021-01-09T12:13:14.310612Z"
    },
    "papermill": {
     "duration": 0.037436,
     "end_time": "2021-01-09T12:13:14.311210",
     "exception": false,
     "start_time": "2021-01-09T12:13:14.273774",
     "status": "completed"
    },
    "tags": []
   },
   "outputs": [],
   "source": [
    "#hide\n",
    "#delete problematic countries from table\n",
    "df_table = df_table[~df_table['Country/Region'].isin(['Cape Verde', 'Cruise Ship', 'Kosovo'])]"
   ]
  },
  {
   "cell_type": "code",
   "execution_count": 15,
   "metadata": {
    "execution": {
     "iopub.execute_input": "2021-01-09T12:13:14.375325Z",
     "iopub.status.busy": "2021-01-09T12:13:14.374736Z",
     "iopub.status.idle": "2021-01-09T12:13:14.394165Z",
     "shell.execute_reply": "2021-01-09T12:13:14.394721Z"
    },
    "papermill": {
     "duration": 0.055968,
     "end_time": "2021-01-09T12:13:14.394885",
     "exception": false,
     "start_time": "2021-01-09T12:13:14.338917",
     "status": "completed"
    },
    "tags": []
   },
   "outputs": [
    {
     "data": {
      "text/html": [
       "<div>\n",
       "<style scoped>\n",
       "    .dataframe tbody tr th:only-of-type {\n",
       "        vertical-align: middle;\n",
       "    }\n",
       "\n",
       "    .dataframe tbody tr th {\n",
       "        vertical-align: top;\n",
       "    }\n",
       "\n",
       "    .dataframe thead th {\n",
       "        text-align: right;\n",
       "    }\n",
       "</style>\n",
       "<table border=\"1\" class=\"dataframe\">\n",
       "  <thead>\n",
       "    <tr style=\"text-align: right;\">\n",
       "      <th></th>\n",
       "      <th>Country/Region</th>\n",
       "      <th>Cases</th>\n",
       "      <th>Deaths</th>\n",
       "      <th>PCases</th>\n",
       "      <th>PDeaths</th>\n",
       "      <th>Cases (+)</th>\n",
       "      <th>Deaths (+)</th>\n",
       "      <th>Fatality Rate</th>\n",
       "      <th>Continent</th>\n",
       "    </tr>\n",
       "  </thead>\n",
       "  <tbody>\n",
       "    <tr>\n",
       "      <th>0</th>\n",
       "      <td>US</td>\n",
       "      <td>21862773</td>\n",
       "      <td>368773</td>\n",
       "      <td>21579569</td>\n",
       "      <td>365317</td>\n",
       "      <td>283204</td>\n",
       "      <td>3456</td>\n",
       "      <td>1.7</td>\n",
       "      <td>North America</td>\n",
       "    </tr>\n",
       "    <tr>\n",
       "      <th>1</th>\n",
       "      <td>India</td>\n",
       "      <td>10413417</td>\n",
       "      <td>150570</td>\n",
       "      <td>10413417</td>\n",
       "      <td>150570</td>\n",
       "      <td>0</td>\n",
       "      <td>0</td>\n",
       "      <td>1.4</td>\n",
       "      <td>Asia</td>\n",
       "    </tr>\n",
       "    <tr>\n",
       "      <th>2</th>\n",
       "      <td>Brazil</td>\n",
       "      <td>8013708</td>\n",
       "      <td>201460</td>\n",
       "      <td>7961673</td>\n",
       "      <td>200498</td>\n",
       "      <td>52035</td>\n",
       "      <td>962</td>\n",
       "      <td>2.5</td>\n",
       "      <td>South America</td>\n",
       "    </tr>\n",
       "    <tr>\n",
       "      <th>3</th>\n",
       "      <td>Russia</td>\n",
       "      <td>3321163</td>\n",
       "      <td>60067</td>\n",
       "      <td>3297833</td>\n",
       "      <td>59628</td>\n",
       "      <td>23330</td>\n",
       "      <td>439</td>\n",
       "      <td>1.8</td>\n",
       "      <td>Europe</td>\n",
       "    </tr>\n",
       "    <tr>\n",
       "      <th>4</th>\n",
       "      <td>United Kingdom</td>\n",
       "      <td>2966244</td>\n",
       "      <td>79965</td>\n",
       "      <td>2898052</td>\n",
       "      <td>78632</td>\n",
       "      <td>68192</td>\n",
       "      <td>1333</td>\n",
       "      <td>2.7</td>\n",
       "      <td>Europe</td>\n",
       "    </tr>\n",
       "  </tbody>\n",
       "</table>\n",
       "</div>"
      ],
      "text/plain": [
       "   Country/Region     Cases  Deaths    PCases  PDeaths  Cases (+)  Deaths (+)  \\\n",
       "0              US  21862773  368773  21579569   365317     283204        3456   \n",
       "1           India  10413417  150570  10413417   150570          0           0   \n",
       "2          Brazil   8013708  201460   7961673   200498      52035         962   \n",
       "3          Russia   3321163   60067   3297833    59628      23330         439   \n",
       "4  United Kingdom   2966244   79965   2898052    78632      68192        1333   \n",
       "\n",
       "   Fatality Rate      Continent  \n",
       "0            1.7  North America  \n",
       "1            1.4           Asia  \n",
       "2            2.5  South America  \n",
       "3            1.8         Europe  \n",
       "4            2.7         Europe  "
      ]
     },
     "execution_count": 15,
     "metadata": {},
     "output_type": "execute_result"
    }
   ],
   "source": [
    "#hide\n",
    "df_table = (pd.DataFrame(dict(Cases=dfc_cases, Deaths=dfc_deaths, PCases=dfp_cases, PDeaths=dfp_deaths))\n",
    "             .sort_values(by=['Cases', 'Deaths'], ascending=[False, False])\n",
    "             .reset_index())\n",
    "df_table.rename(columns={'index': 'Country/Region'}, inplace=True)\n",
    "for c in 'Cases, Deaths'.split(', '):\n",
    "    df_table[f'{c} (+)'] = (df_table[c] - df_table[f'P{c}']).clip(0)  # DATA BUG\n",
    "df_table['Fatality Rate'] = (100 * df_table['Deaths'] / df_table['Cases']).round(1)\n",
    "df_table['Continent'] = df_table['Country/Region'].map(mapping['map.continent'])\n",
    "df_table.head(5)"
   ]
  },
  {
   "cell_type": "code",
   "execution_count": 16,
   "metadata": {
    "execution": {
     "iopub.execute_input": "2021-01-09T12:13:14.460578Z",
     "iopub.status.busy": "2021-01-09T12:13:14.459997Z",
     "iopub.status.idle": "2021-01-09T12:13:14.463056Z",
     "shell.execute_reply": "2021-01-09T12:13:14.462555Z"
    },
    "papermill": {
     "duration": 0.037519,
     "end_time": "2021-01-09T12:13:14.463179",
     "exception": false,
     "start_time": "2021-01-09T12:13:14.425660",
     "status": "completed"
    },
    "tags": []
   },
   "outputs": [],
   "source": [
    "#hide\n",
    "#delete problematic countries from table\n",
    "df_table = df_table[~df_table['Country/Region'].isin(['Cape Verde', 'Cruise Ship', 'Kosovo'])]"
   ]
  },
  {
   "cell_type": "code",
   "execution_count": 17,
   "metadata": {
    "execution": {
     "iopub.execute_input": "2021-01-09T12:13:14.528074Z",
     "iopub.status.busy": "2021-01-09T12:13:14.527482Z",
     "iopub.status.idle": "2021-01-09T12:13:14.542250Z",
     "shell.execute_reply": "2021-01-09T12:13:14.541772Z"
    },
    "papermill": {
     "duration": 0.050829,
     "end_time": "2021-01-09T12:13:14.542378",
     "exception": false,
     "start_time": "2021-01-09T12:13:14.491549",
     "status": "completed"
    },
    "tags": []
   },
   "outputs": [],
   "source": [
    "#hide\n",
    "metrics = [df_table.columns[index] for index in [1,2,5,6]]\n",
    "# s_china = df_table[df_table['Country/Region'].eq('China')][metrics].sum().add_prefix('China ')\n",
    "s_us = df_table[df_table['Country/Region'].eq('US')][metrics].sum().add_prefix('US ')\n",
    "s_eu = df_table[df_table['Continent'].eq('Europe')][metrics].sum().add_prefix('EU ')\n",
    "s_ind = df_table[df_table['Country/Region'].eq('India')][metrics].sum().add_prefix('India ')\n",
    "summary = {'updated': pd.to_datetime(dt_today), 'since': pd.to_datetime(dt_yday)}\n",
    "summary = {'updated': pd.to_datetime(dt_today), 'since': pd.to_datetime(dt_yday)}\n",
    "summary = {**summary, **df_table[metrics].sum(), **s_ind, **s_us, **s_eu}"
   ]
  },
  {
   "cell_type": "code",
   "execution_count": 18,
   "metadata": {
    "execution": {
     "iopub.execute_input": "2021-01-09T12:13:14.605951Z",
     "iopub.status.busy": "2021-01-09T12:13:14.605369Z",
     "iopub.status.idle": "2021-01-09T12:13:14.616971Z",
     "shell.execute_reply": "2021-01-09T12:13:14.617480Z"
    },
    "papermill": {
     "duration": 0.046998,
     "end_time": "2021-01-09T12:13:14.617627",
     "exception": false,
     "start_time": "2021-01-09T12:13:14.570629",
     "status": "completed"
    },
    "tags": []
   },
   "outputs": [],
   "source": [
    "#hide\n",
    "dft_ct_new_cases = dft_cases.groupby(COL_REGION)[dt_cols].sum().diff(axis=1).fillna(0).astype(int)"
   ]
  },
  {
   "cell_type": "code",
   "execution_count": 19,
   "metadata": {
    "execution": {
     "iopub.execute_input": "2021-01-09T12:13:14.681047Z",
     "iopub.status.busy": "2021-01-09T12:13:14.680501Z",
     "iopub.status.idle": "2021-01-09T12:13:14.682794Z",
     "shell.execute_reply": "2021-01-09T12:13:14.682299Z"
    },
    "papermill": {
     "duration": 0.03591,
     "end_time": "2021-01-09T12:13:14.682916",
     "exception": false,
     "start_time": "2021-01-09T12:13:14.647006",
     "status": "completed"
    },
    "tags": []
   },
   "outputs": [],
   "source": [
    "#hide\n",
    "everydaycases = dft_ct_new_cases.cumsum(axis=1)"
   ]
  },
  {
   "cell_type": "code",
   "execution_count": 20,
   "metadata": {
    "execution": {
     "iopub.execute_input": "2021-01-09T12:13:14.742847Z",
     "iopub.status.busy": "2021-01-09T12:13:14.742370Z",
     "iopub.status.idle": "2021-01-09T12:13:16.724796Z",
     "shell.execute_reply": "2021-01-09T12:13:16.724164Z"
    },
    "papermill": {
     "duration": 2.014363,
     "end_time": "2021-01-09T12:13:16.724958",
     "exception": false,
     "start_time": "2021-01-09T12:13:14.710595",
     "status": "completed"
    },
    "tags": []
   },
   "outputs": [],
   "source": [
    "#hide\n",
    "import pandas as pd\n",
    "import matplotlib.pyplot as plt\n",
    "import matplotlib.ticker as ticker\n",
    "import matplotlib.animation as animation\n",
    "from IPython.display import HTML"
   ]
  },
  {
   "cell_type": "code",
   "execution_count": 21,
   "metadata": {
    "execution": {
     "iopub.execute_input": "2021-01-09T12:13:16.790662Z",
     "iopub.status.busy": "2021-01-09T12:13:16.790116Z",
     "iopub.status.idle": "2021-01-09T12:13:16.794918Z",
     "shell.execute_reply": "2021-01-09T12:13:16.795372Z"
    },
    "papermill": {
     "duration": 0.040173,
     "end_time": "2021-01-09T12:13:16.795519",
     "exception": false,
     "start_time": "2021-01-09T12:13:16.755346",
     "status": "completed"
    },
    "tags": []
   },
   "outputs": [],
   "source": [
    "#hide\n",
    "t = everydaycases.stack()"
   ]
  },
  {
   "cell_type": "code",
   "execution_count": 22,
   "metadata": {
    "execution": {
     "iopub.execute_input": "2021-01-09T12:13:16.859337Z",
     "iopub.status.busy": "2021-01-09T12:13:16.858799Z",
     "iopub.status.idle": "2021-01-09T12:13:16.866443Z",
     "shell.execute_reply": "2021-01-09T12:13:16.865968Z"
    },
    "papermill": {
     "duration": 0.04112,
     "end_time": "2021-01-09T12:13:16.866569",
     "exception": false,
     "start_time": "2021-01-09T12:13:16.825449",
     "status": "completed"
    },
    "tags": []
   },
   "outputs": [],
   "source": [
    "#hide\n",
    "g = t.reset_index(['Country/Region'])"
   ]
  },
  {
   "cell_type": "code",
   "execution_count": 23,
   "metadata": {
    "execution": {
     "iopub.execute_input": "2021-01-09T12:13:16.929659Z",
     "iopub.status.busy": "2021-01-09T12:13:16.929108Z",
     "iopub.status.idle": "2021-01-09T12:13:16.931115Z",
     "shell.execute_reply": "2021-01-09T12:13:16.931693Z"
    },
    "papermill": {
     "duration": 0.035439,
     "end_time": "2021-01-09T12:13:16.931834",
     "exception": false,
     "start_time": "2021-01-09T12:13:16.896395",
     "status": "completed"
    },
    "tags": []
   },
   "outputs": [],
   "source": [
    "#hide\n",
    "g.index.name = 'date'"
   ]
  },
  {
   "cell_type": "code",
   "execution_count": 24,
   "metadata": {
    "execution": {
     "iopub.execute_input": "2021-01-09T12:13:16.994041Z",
     "iopub.status.busy": "2021-01-09T12:13:16.993432Z",
     "iopub.status.idle": "2021-01-09T12:13:16.995716Z",
     "shell.execute_reply": "2021-01-09T12:13:16.995203Z"
    },
    "papermill": {
     "duration": 0.035027,
     "end_time": "2021-01-09T12:13:16.995846",
     "exception": false,
     "start_time": "2021-01-09T12:13:16.960819",
     "status": "completed"
    },
    "tags": []
   },
   "outputs": [],
   "source": [
    "# #hide\n",
    "# g = g.reset_index(['date'])"
   ]
  },
  {
   "cell_type": "code",
   "execution_count": 25,
   "metadata": {
    "execution": {
     "iopub.execute_input": "2021-01-09T12:13:17.062823Z",
     "iopub.status.busy": "2021-01-09T12:13:17.062225Z",
     "iopub.status.idle": "2021-01-09T12:13:17.064690Z",
     "shell.execute_reply": "2021-01-09T12:13:17.064190Z"
    },
    "papermill": {
     "duration": 0.037125,
     "end_time": "2021-01-09T12:13:17.064824",
     "exception": false,
     "start_time": "2021-01-09T12:13:17.027699",
     "status": "completed"
    },
    "tags": []
   },
   "outputs": [],
   "source": [
    "#hide\n",
    "# g.head()"
   ]
  },
  {
   "cell_type": "code",
   "execution_count": 26,
   "metadata": {
    "execution": {
     "iopub.execute_input": "2021-01-09T12:13:17.130789Z",
     "iopub.status.busy": "2021-01-09T12:13:17.130190Z",
     "iopub.status.idle": "2021-01-09T12:13:17.132647Z",
     "shell.execute_reply": "2021-01-09T12:13:17.132170Z"
    },
    "papermill": {
     "duration": 0.037171,
     "end_time": "2021-01-09T12:13:17.132805",
     "exception": false,
     "start_time": "2021-01-09T12:13:17.095634",
     "status": "completed"
    },
    "tags": []
   },
   "outputs": [],
   "source": [
    "#hide\n",
    "# g.columns = ['date','country','cases']"
   ]
  },
  {
   "cell_type": "code",
   "execution_count": 27,
   "metadata": {
    "execution": {
     "iopub.execute_input": "2021-01-09T12:13:17.196858Z",
     "iopub.status.busy": "2021-01-09T12:13:17.196277Z",
     "iopub.status.idle": "2021-01-09T12:13:17.198722Z",
     "shell.execute_reply": "2021-01-09T12:13:17.198216Z"
    },
    "papermill": {
     "duration": 0.035587,
     "end_time": "2021-01-09T12:13:17.198845",
     "exception": false,
     "start_time": "2021-01-09T12:13:17.163258",
     "status": "completed"
    },
    "tags": []
   },
   "outputs": [],
   "source": [
    "#hide\n",
    "# g['continent'] = g.country"
   ]
  },
  {
   "cell_type": "code",
   "execution_count": 28,
   "metadata": {
    "execution": {
     "iopub.execute_input": "2021-01-09T12:13:17.259819Z",
     "iopub.status.busy": "2021-01-09T12:13:17.259239Z",
     "iopub.status.idle": "2021-01-09T12:13:17.261074Z",
     "shell.execute_reply": "2021-01-09T12:13:17.261558Z"
    },
    "papermill": {
     "duration": 0.034168,
     "end_time": "2021-01-09T12:13:17.261705",
     "exception": false,
     "start_time": "2021-01-09T12:13:17.227537",
     "status": "completed"
    },
    "tags": []
   },
   "outputs": [],
   "source": [
    "#hide\n",
    "# cols = list(g.columns.values)"
   ]
  },
  {
   "cell_type": "code",
   "execution_count": 29,
   "metadata": {
    "execution": {
     "iopub.execute_input": "2021-01-09T12:13:17.324876Z",
     "iopub.status.busy": "2021-01-09T12:13:17.324260Z",
     "iopub.status.idle": "2021-01-09T12:13:17.326787Z",
     "shell.execute_reply": "2021-01-09T12:13:17.326285Z"
    },
    "papermill": {
     "duration": 0.035846,
     "end_time": "2021-01-09T12:13:17.326916",
     "exception": false,
     "start_time": "2021-01-09T12:13:17.291070",
     "status": "completed"
    },
    "tags": []
   },
   "outputs": [],
   "source": [
    "#hide\n",
    "# cols.insert(0, cols.pop())"
   ]
  },
  {
   "cell_type": "code",
   "execution_count": 30,
   "metadata": {
    "execution": {
     "iopub.execute_input": "2021-01-09T12:13:17.389412Z",
     "iopub.status.busy": "2021-01-09T12:13:17.388859Z",
     "iopub.status.idle": "2021-01-09T12:13:17.390694Z",
     "shell.execute_reply": "2021-01-09T12:13:17.391104Z"
    },
    "papermill": {
     "duration": 0.03502,
     "end_time": "2021-01-09T12:13:17.391240",
     "exception": false,
     "start_time": "2021-01-09T12:13:17.356220",
     "status": "completed"
    },
    "tags": []
   },
   "outputs": [],
   "source": [
    "#hide\n",
    "# g = g[cols]"
   ]
  },
  {
   "cell_type": "code",
   "execution_count": 31,
   "metadata": {
    "execution": {
     "iopub.execute_input": "2021-01-09T12:13:17.452795Z",
     "iopub.status.busy": "2021-01-09T12:13:17.452190Z",
     "iopub.status.idle": "2021-01-09T12:13:17.454327Z",
     "shell.execute_reply": "2021-01-09T12:13:17.453798Z"
    },
    "papermill": {
     "duration": 0.034733,
     "end_time": "2021-01-09T12:13:17.454444",
     "exception": false,
     "start_time": "2021-01-09T12:13:17.419711",
     "status": "completed"
    },
    "tags": []
   },
   "outputs": [],
   "source": [
    "#hide\n",
    "# g['continent'] = g['continent'].map(mapping['map.continent'])"
   ]
  },
  {
   "cell_type": "code",
   "execution_count": 32,
   "metadata": {
    "execution": {
     "iopub.execute_input": "2021-01-09T12:13:17.517699Z",
     "iopub.status.busy": "2021-01-09T12:13:17.517152Z",
     "iopub.status.idle": "2021-01-09T12:13:17.518935Z",
     "shell.execute_reply": "2021-01-09T12:13:17.519342Z"
    },
    "papermill": {
     "duration": 0.035362,
     "end_time": "2021-01-09T12:13:17.519499",
     "exception": false,
     "start_time": "2021-01-09T12:13:17.484137",
     "status": "completed"
    },
    "tags": []
   },
   "outputs": [],
   "source": [
    "#hide\n",
    "# g.head()"
   ]
  },
  {
   "cell_type": "code",
   "execution_count": 33,
   "metadata": {
    "execution": {
     "iopub.execute_input": "2021-01-09T12:13:17.582949Z",
     "iopub.status.busy": "2021-01-09T12:13:17.582385Z",
     "iopub.status.idle": "2021-01-09T12:13:17.585762Z",
     "shell.execute_reply": "2021-01-09T12:13:17.586216Z"
    },
    "papermill": {
     "duration": 0.037314,
     "end_time": "2021-01-09T12:13:17.586366",
     "exception": false,
     "start_time": "2021-01-09T12:13:17.549052",
     "status": "completed"
    },
    "tags": []
   },
   "outputs": [],
   "source": [
    "# hide\n",
    "# g['date'] = g['date'].astype('datetime64[ns]')"
   ]
  },
  {
   "cell_type": "code",
   "execution_count": 34,
   "metadata": {
    "execution": {
     "iopub.execute_input": "2021-01-09T12:13:17.651828Z",
     "iopub.status.busy": "2021-01-09T12:13:17.651099Z",
     "iopub.status.idle": "2021-01-09T12:13:17.653211Z",
     "shell.execute_reply": "2021-01-09T12:13:17.652534Z"
    },
    "papermill": {
     "duration": 0.036445,
     "end_time": "2021-01-09T12:13:17.653338",
     "exception": false,
     "start_time": "2021-01-09T12:13:17.616893",
     "status": "completed"
    },
    "tags": []
   },
   "outputs": [],
   "source": [
    "#hide\n",
    "# g['date'] = g.date.dt.dayofyear"
   ]
  },
  {
   "cell_type": "code",
   "execution_count": 35,
   "metadata": {
    "execution": {
     "iopub.execute_input": "2021-01-09T12:13:17.714968Z",
     "iopub.status.busy": "2021-01-09T12:13:17.714364Z",
     "iopub.status.idle": "2021-01-09T12:13:17.718128Z",
     "shell.execute_reply": "2021-01-09T12:13:17.717683Z"
    },
    "papermill": {
     "duration": 0.035542,
     "end_time": "2021-01-09T12:13:17.718248",
     "exception": false,
     "start_time": "2021-01-09T12:13:17.682706",
     "status": "completed"
    },
    "tags": []
   },
   "outputs": [],
   "source": [
    "#hide\n",
    "# g = g.rename(columns= {'continent':'group','country':'name','cases':'value'})"
   ]
  },
  {
   "cell_type": "code",
   "execution_count": 36,
   "metadata": {
    "execution": {
     "iopub.execute_input": "2021-01-09T12:13:17.780768Z",
     "iopub.status.busy": "2021-01-09T12:13:17.780153Z",
     "iopub.status.idle": "2021-01-09T12:13:17.782330Z",
     "shell.execute_reply": "2021-01-09T12:13:17.782771Z"
    },
    "papermill": {
     "duration": 0.035648,
     "end_time": "2021-01-09T12:13:17.782908",
     "exception": false,
     "start_time": "2021-01-09T12:13:17.747260",
     "status": "completed"
    },
    "tags": []
   },
   "outputs": [],
   "source": [
    "#hide\n",
    "# cols = ['name','group','day','value']"
   ]
  },
  {
   "cell_type": "code",
   "execution_count": 37,
   "metadata": {
    "execution": {
     "iopub.execute_input": "2021-01-09T12:13:17.847212Z",
     "iopub.status.busy": "2021-01-09T12:13:17.846639Z",
     "iopub.status.idle": "2021-01-09T12:13:17.848388Z",
     "shell.execute_reply": "2021-01-09T12:13:17.847860Z"
    },
    "papermill": {
     "duration": 0.035339,
     "end_time": "2021-01-09T12:13:17.848507",
     "exception": false,
     "start_time": "2021-01-09T12:13:17.813168",
     "status": "completed"
    },
    "tags": []
   },
   "outputs": [],
   "source": [
    "#hide\n",
    "# g.rename(columns= {'date':'day'},inplace = True)"
   ]
  },
  {
   "cell_type": "code",
   "execution_count": 38,
   "metadata": {
    "execution": {
     "iopub.execute_input": "2021-01-09T12:13:17.911937Z",
     "iopub.status.busy": "2021-01-09T12:13:17.911393Z",
     "iopub.status.idle": "2021-01-09T12:13:17.913352Z",
     "shell.execute_reply": "2021-01-09T12:13:17.913787Z"
    },
    "papermill": {
     "duration": 0.035701,
     "end_time": "2021-01-09T12:13:17.913920",
     "exception": false,
     "start_time": "2021-01-09T12:13:17.878219",
     "status": "completed"
    },
    "tags": []
   },
   "outputs": [],
   "source": [
    "#hide\n",
    "# g = g[cols]"
   ]
  },
  {
   "cell_type": "code",
   "execution_count": 39,
   "metadata": {
    "execution": {
     "iopub.execute_input": "2021-01-09T12:13:17.978795Z",
     "iopub.status.busy": "2021-01-09T12:13:17.978211Z",
     "iopub.status.idle": "2021-01-09T12:13:17.980410Z",
     "shell.execute_reply": "2021-01-09T12:13:17.979839Z"
    },
    "papermill": {
     "duration": 0.036336,
     "end_time": "2021-01-09T12:13:17.980538",
     "exception": false,
     "start_time": "2021-01-09T12:13:17.944202",
     "status": "completed"
    },
    "tags": []
   },
   "outputs": [],
   "source": [
    "# #hide\n",
    "# g = g[g.group.notna()]"
   ]
  },
  {
   "cell_type": "code",
   "execution_count": 40,
   "metadata": {
    "execution": {
     "iopub.execute_input": "2021-01-09T12:13:18.045336Z",
     "iopub.status.busy": "2021-01-09T12:13:18.044768Z",
     "iopub.status.idle": "2021-01-09T12:13:18.046964Z",
     "shell.execute_reply": "2021-01-09T12:13:18.046468Z"
    },
    "papermill": {
     "duration": 0.036086,
     "end_time": "2021-01-09T12:13:18.047091",
     "exception": false,
     "start_time": "2021-01-09T12:13:18.011005",
     "status": "completed"
    },
    "tags": []
   },
   "outputs": [],
   "source": [
    "# #hide\n",
    "# colors = dict(zip(\n",
    "#     [\"Oceania\", \"Europe\", \"Asia\", \"South America\", \"Middle East\", \"North America\", \"Africa\"],\n",
    "#     [\"#adb0ff\", \"#ffb3ff\", \"#90d595\", \"#e48381\", \"#aafbff\", \"#f7bb5f\", \"#eafb50\"]\n",
    "# ))\n",
    "# group_lk = g.set_index('name')['group'].to_dict()"
   ]
  },
  {
   "cell_type": "code",
   "execution_count": null,
   "metadata": {
    "papermill": {
     "duration": 0.03141,
     "end_time": "2021-01-09T12:13:18.109881",
     "exception": false,
     "start_time": "2021-01-09T12:13:18.078471",
     "status": "completed"
    },
    "tags": []
   },
   "outputs": [],
   "source": []
  },
  {
   "cell_type": "code",
   "execution_count": 41,
   "metadata": {
    "execution": {
     "iopub.execute_input": "2021-01-09T12:13:18.896217Z",
     "iopub.status.busy": "2021-01-09T12:13:18.895530Z",
     "iopub.status.idle": "2021-01-09T12:13:18.897060Z",
     "shell.execute_reply": "2021-01-09T12:13:18.897670Z"
    },
    "papermill": {
     "duration": 0.550922,
     "end_time": "2021-01-09T12:13:18.897826",
     "exception": false,
     "start_time": "2021-01-09T12:13:18.346904",
     "status": "completed"
    },
    "tags": []
   },
   "outputs": [],
   "source": [
    "# #hide\n",
    "# fig, ax = plt.subplots(figsize=(15, 8))\n",
    "\n",
    "# def draw_barchart(current_day):\n",
    "#     dff = g[g['day'].eq(current_day)].sort_values(by='value', ascending=True).tail(10)\n",
    "#     ax.clear()\n",
    "#     ax.barh(dff['name'], dff['value'], color=[colors[group_lk[x]] for x in dff['name']])\n",
    "#     dx = dff['value'].max() / 200\n",
    "    \n",
    "#     for i, (value, name) in enumerate(zip(dff['value'], dff['name'])):\n",
    "#         ax.text(value-dx, i,     name,           size=14, weight=600, ha='right', va='bottom')\n",
    "#         ax.text(value-dx, i-.25, group_lk[name], size=10, color='#444444', ha='right', va='baseline')\n",
    "#         ax.text(value+dx, i,     f'{value:,.0f}',  size=14, ha='left',  va='center')\n",
    "#     ax.text(1, 0.4, current_day, transform=ax.transAxes, color='#777777', size=46, ha='right', weight=800)\n",
    "#     ax.text(0, 1.06, 'Population (thousands)', transform=ax.transAxes, size=12, color='#777777')\n",
    "#     ax.xaxis.set_major_formatter(ticker.StrMethodFormatter('{x:,.0f}'))\n",
    "#     ax.xaxis.set_ticks_position('top')\n",
    "#     ax.tick_params(axis='x', colors='#777777', labelsize=12)\n",
    "#     ax.set_yticks([])\n",
    "#     ax.margins(0, 0.01)\n",
    "#     ax.grid(which='major', axis='x', linestyle='-')\n",
    "#     ax.set_axisbelow(True)\n",
    "    \n",
    "#     ax.text(0, 1.15, 'Coronavirus',\n",
    "#             transform=ax.transAxes, size=24, weight=600, ha='left', va='top')\n",
    "# #     ax.text(1, 0, 'by @pratapvardhan; credit @jburnmurdoch', transform=ax.transAxes, color='#777777', ha='right',\n",
    "# #             bbox=dict(facecolor='white', alpha=0.8, edgecolor='white'))\n",
    "#     plt.box(False)"
   ]
  },
  {
   "cell_type": "code",
   "execution_count": 42,
   "metadata": {
    "execution": {
     "iopub.execute_input": "2021-01-09T12:13:19.083014Z",
     "iopub.status.busy": "2021-01-09T12:13:19.082460Z",
     "iopub.status.idle": "2021-01-09T12:13:19.084407Z",
     "shell.execute_reply": "2021-01-09T12:13:19.084929Z"
    },
    "papermill": {
     "duration": 0.03728,
     "end_time": "2021-01-09T12:13:19.085079",
     "exception": false,
     "start_time": "2021-01-09T12:13:19.047799",
     "status": "completed"
    },
    "tags": []
   },
   "outputs": [],
   "source": [
    "# #hide_input\n",
    "# fig, ax = plt.subplots(figsize=(15, 8))\n",
    "# animator = animation.FuncAnimation(fig, draw_barchart, frames=range(g.day.values.min(), g.day.values.max()))\n",
    "# HTML(animator.to_jshtml())\n",
    "# # or use animator.to_html5_video() or animator.save() "
   ]
  },
  {
   "cell_type": "code",
   "execution_count": null,
   "metadata": {
    "papermill": {
     "duration": 0.029409,
     "end_time": "2021-01-09T12:13:19.144505",
     "exception": false,
     "start_time": "2021-01-09T12:13:19.115096",
     "status": "completed"
    },
    "tags": []
   },
   "outputs": [],
   "source": []
  },
  {
   "cell_type": "code",
   "execution_count": null,
   "metadata": {
    "papermill": {
     "duration": 0.028992,
     "end_time": "2021-01-09T12:13:19.203551",
     "exception": false,
     "start_time": "2021-01-09T12:13:19.174559",
     "status": "completed"
    },
    "tags": []
   },
   "outputs": [],
   "source": []
  },
  {
   "cell_type": "code",
   "execution_count": null,
   "metadata": {
    "papermill": {
     "duration": 0.029237,
     "end_time": "2021-01-09T12:13:19.263416",
     "exception": false,
     "start_time": "2021-01-09T12:13:19.234179",
     "status": "completed"
    },
    "tags": []
   },
   "outputs": [],
   "source": []
  }
 ],
 "metadata": {
  "kernelspec": {
   "display_name": "Python 3",
   "language": "python",
   "name": "python3"
  },
  "language_info": {
   "codemirror_mode": {
    "name": "ipython",
    "version": 3
   },
   "file_extension": ".py",
   "mimetype": "text/x-python",
   "name": "python",
   "nbconvert_exporter": "python",
   "pygments_lexer": "ipython3",
   "version": "3.6.12"
  },
  "papermill": {
   "duration": 8.147604,
   "end_time": "2021-01-09T12:13:19.600060",
   "environment_variables": {},
   "exception": null,
   "input_path": "2020-03-21-covid19exp.ipynb",
   "output_path": "2020-03-21-covid19exp.ipynb",
   "parameters": {},
   "start_time": "2021-01-09T12:13:11.452456",
   "version": "2.0.0"
  }
 },
 "nbformat": 4,
 "nbformat_minor": 4
}