{
 "cells": [
  {
   "cell_type": "markdown",
   "id": "muslim-click",
   "metadata": {
    "papermill": {
     "duration": 0.037085,
     "end_time": "2022-06-21T00:42:51.090970",
     "exception": false,
     "start_time": "2022-06-21T00:42:51.053885",
     "status": "completed"
    },
    "tags": []
   },
   "source": [
    "# COVID-19 Case Race\n",
    "> A race chart to see rising cases around the world\n",
    "\n",
    "- author: Hargun Oberoi\n",
    "- image: images/covid-overview.png\n",
    "- hide: false\n",
    "- badges: false"
   ]
  },
  {
   "cell_type": "code",
   "execution_count": 1,
   "id": "proof-material",
   "metadata": {
    "execution": {
     "iopub.execute_input": "2022-06-21T00:42:51.162034Z",
     "iopub.status.busy": "2022-06-21T00:42:51.161349Z",
     "iopub.status.idle": "2022-06-21T00:42:51.490313Z",
     "shell.execute_reply": "2022-06-21T00:42:51.489312Z"
    },
    "papermill": {
     "duration": 0.368107,
     "end_time": "2022-06-21T00:42:51.490490",
     "exception": false,
     "start_time": "2022-06-21T00:42:51.122383",
     "status": "completed"
    },
    "tags": []
   },
   "outputs": [],
   "source": [
    "#hide\n",
    "import numpy as np\n",
    "import pandas as pd\n",
    "from jinja2 import Template\n",
    "from IPython.display import HTML"
   ]
  },
  {
   "cell_type": "code",
   "execution_count": 2,
   "id": "developed-terminology",
   "metadata": {
    "execution": {
     "iopub.execute_input": "2022-06-21T00:42:51.557599Z",
     "iopub.status.busy": "2022-06-21T00:42:51.556389Z",
     "iopub.status.idle": "2022-06-21T00:42:51.558961Z",
     "shell.execute_reply": "2022-06-21T00:42:51.559707Z"
    },
    "papermill": {
     "duration": 0.040255,
     "end_time": "2022-06-21T00:42:51.559839",
     "exception": false,
     "start_time": "2022-06-21T00:42:51.519584",
     "status": "completed"
    },
    "tags": []
   },
   "outputs": [],
   "source": [
    "#hide\n",
    "\n",
    "# FETCH\n",
    "base_url = 'https://raw.githubusercontent.com/pratapvardhan/notebooks/master/covid19/'\n",
    "paths = {\n",
    "    'mapping': base_url + 'mapping_countries.csv',\n",
    "    'overview': base_url + 'overview.tpl'\n",
    "}"
   ]
  },
  {
   "cell_type": "code",
   "execution_count": 3,
   "id": "dynamic-saver",
   "metadata": {
    "execution": {
     "iopub.execute_input": "2022-06-21T00:42:51.633273Z",
     "iopub.status.busy": "2022-06-21T00:42:51.628801Z",
     "iopub.status.idle": "2022-06-21T00:42:51.636463Z",
     "shell.execute_reply": "2022-06-21T00:42:51.636981Z"
    },
    "papermill": {
     "duration": 0.047102,
     "end_time": "2022-06-21T00:42:51.637119",
     "exception": false,
     "start_time": "2022-06-21T00:42:51.590017",
     "status": "completed"
    },
    "tags": []
   },
   "outputs": [
    {
     "data": {
      "text/plain": [
       "'https://raw.githubusercontent.com/pratapvardhan/notebooks/master/covid19/mapping_countries.csv'"
      ]
     },
     "execution_count": 3,
     "metadata": {},
     "output_type": "execute_result"
    }
   ],
   "source": [
    "#hide\n",
    "paths['mapping']"
   ]
  },
  {
   "cell_type": "code",
   "execution_count": 4,
   "id": "urban-software",
   "metadata": {
    "execution": {
     "iopub.execute_input": "2022-06-21T00:42:51.708049Z",
     "iopub.status.busy": "2022-06-21T00:42:51.707381Z",
     "iopub.status.idle": "2022-06-21T00:42:51.710864Z",
     "shell.execute_reply": "2022-06-21T00:42:51.711510Z"
    },
    "papermill": {
     "duration": 0.042593,
     "end_time": "2022-06-21T00:42:51.711646",
     "exception": false,
     "start_time": "2022-06-21T00:42:51.669053",
     "status": "completed"
    },
    "tags": []
   },
   "outputs": [],
   "source": [
    "#hide\n",
    "def get_mappings(url):\n",
    "    df = pd.read_csv(url)\n",
    "    return {\n",
    "        'df': df,\n",
    "        'replace.country': dict(df.dropna(subset=['Name']).set_index('Country')['Name']),\n",
    "        'map.continent': dict(df.set_index('Name')['Continent'])\n",
    "    }"
   ]
  },
  {
   "cell_type": "code",
   "execution_count": 5,
   "id": "intimate-machinery",
   "metadata": {
    "execution": {
     "iopub.execute_input": "2022-06-21T00:42:51.776321Z",
     "iopub.status.busy": "2022-06-21T00:42:51.775717Z",
     "iopub.status.idle": "2022-06-21T00:42:51.808863Z",
     "shell.execute_reply": "2022-06-21T00:42:51.807919Z"
    },
    "papermill": {
     "duration": 0.06726,
     "end_time": "2022-06-21T00:42:51.809042",
     "exception": false,
     "start_time": "2022-06-21T00:42:51.741782",
     "status": "completed"
    },
    "tags": []
   },
   "outputs": [],
   "source": [
    "#hide\n",
    "mapping = get_mappings(paths['mapping'])"
   ]
  },
  {
   "cell_type": "code",
   "execution_count": 6,
   "id": "certified-tactics",
   "metadata": {
    "execution": {
     "iopub.execute_input": "2022-06-21T00:42:51.878055Z",
     "iopub.status.busy": "2022-06-21T00:42:51.877500Z",
     "iopub.status.idle": "2022-06-21T00:42:51.879999Z",
     "shell.execute_reply": "2022-06-21T00:42:51.880512Z"
    },
    "papermill": {
     "duration": 0.039861,
     "end_time": "2022-06-21T00:42:51.880644",
     "exception": false,
     "start_time": "2022-06-21T00:42:51.840783",
     "status": "completed"
    },
    "tags": []
   },
   "outputs": [],
   "source": [
    "#hide\n",
    "def get_template(path):\n",
    "    from urllib.parse import urlparse\n",
    "    if bool(urlparse(path).netloc):\n",
    "        from urllib.request import urlopen\n",
    "        return urlopen(path).read().decode('utf8')\n",
    "    return open(path).read()"
   ]
  },
  {
   "cell_type": "code",
   "execution_count": 7,
   "id": "realistic-blast",
   "metadata": {
    "execution": {
     "iopub.execute_input": "2022-06-21T00:42:51.957892Z",
     "iopub.status.busy": "2022-06-21T00:42:51.957241Z",
     "iopub.status.idle": "2022-06-21T00:42:51.962143Z",
     "shell.execute_reply": "2022-06-21T00:42:51.961592Z"
    },
    "papermill": {
     "duration": 0.048837,
     "end_time": "2022-06-21T00:42:51.962256",
     "exception": false,
     "start_time": "2022-06-21T00:42:51.913419",
     "status": "completed"
    },
    "tags": []
   },
   "outputs": [],
   "source": [
    "#hide\n",
    "def get_frame(name):\n",
    "    url = (\n",
    "        'https://raw.githubusercontent.com/CSSEGISandData/COVID-19/master/csse_covid_19_data/'\n",
    "        f'csse_covid_19_time_series/time_series_covid19_{name}_global.csv')\n",
    "    df = pd.read_csv(url)\n",
    "    # rename countries\n",
    "    df['Country/Region'] = df['Country/Region'].replace(mapping['replace.country'])\n",
    "    return df"
   ]
  },
  {
   "cell_type": "code",
   "execution_count": 8,
   "id": "affiliated-characterization",
   "metadata": {
    "execution": {
     "iopub.execute_input": "2022-06-21T00:42:52.031402Z",
     "iopub.status.busy": "2022-06-21T00:42:52.030695Z",
     "iopub.status.idle": "2022-06-21T00:42:52.033286Z",
     "shell.execute_reply": "2022-06-21T00:42:52.032801Z"
    },
    "papermill": {
     "duration": 0.039524,
     "end_time": "2022-06-21T00:42:52.033400",
     "exception": false,
     "start_time": "2022-06-21T00:42:51.993876",
     "status": "completed"
    },
    "tags": []
   },
   "outputs": [],
   "source": [
    "#hide\n",
    "def get_dates(df):\n",
    "    dt_cols = df.columns[~df.columns.isin(['Province/State', 'Country/Region', 'Lat', 'Long'])]\n",
    "    LAST_DATE_I = -1\n",
    "    # sometimes last column may be empty, then go backwards\n",
    "    for i in range(-1, -len(dt_cols), -1):\n",
    "        if not df[dt_cols[i]].fillna(0).eq(0).all():\n",
    "            LAST_DATE_I = i\n",
    "            break\n",
    "    return LAST_DATE_I, dt_cols"
   ]
  },
  {
   "cell_type": "code",
   "execution_count": 9,
   "id": "recent-optimization",
   "metadata": {
    "execution": {
     "iopub.execute_input": "2022-06-21T00:42:52.103666Z",
     "iopub.status.busy": "2022-06-21T00:42:52.103010Z",
     "iopub.status.idle": "2022-06-21T00:42:52.492700Z",
     "shell.execute_reply": "2022-06-21T00:42:52.491849Z"
    },
    "papermill": {
     "duration": 0.427795,
     "end_time": "2022-06-21T00:42:52.492891",
     "exception": false,
     "start_time": "2022-06-21T00:42:52.065096",
     "status": "completed"
    },
    "tags": []
   },
   "outputs": [],
   "source": [
    "#hide\n",
    "COL_REGION = 'Country/Region'\n",
    "# Confirmed, Recovered, Deaths\n",
    "df = get_frame('confirmed')\n",
    "# dft_: timeseries, dfc_: today country agg\n",
    "dft_cases = df\n",
    "dft_deaths = get_frame('deaths')\n",
    "dft_recovered = get_frame('recovered')\n",
    "LAST_DATE_I, dt_cols = get_dates(df)"
   ]
  },
  {
   "cell_type": "code",
   "execution_count": 10,
   "id": "absolute-copper",
   "metadata": {
    "execution": {
     "iopub.execute_input": "2022-06-21T00:42:52.560439Z",
     "iopub.status.busy": "2022-06-21T00:42:52.559582Z",
     "iopub.status.idle": "2022-06-21T00:42:52.566052Z",
     "shell.execute_reply": "2022-06-21T00:42:52.565442Z"
    },
    "papermill": {
     "duration": 0.041826,
     "end_time": "2022-06-21T00:42:52.566172",
     "exception": false,
     "start_time": "2022-06-21T00:42:52.524346",
     "status": "completed"
    },
    "tags": []
   },
   "outputs": [],
   "source": [
    "#hide\n",
    "LAST_DATE_I, dt_cols = get_dates(df)\n",
    "dt_today =dt_cols[LAST_DATE_I]\n",
    "# dt_5day = dt_cols[LAST_DATE_I - 5]\n",
    "dt_yday = dt_cols[LAST_DATE_I - 1]"
   ]
  },
  {
   "cell_type": "code",
   "execution_count": 11,
   "id": "restricted-sheriff",
   "metadata": {
    "execution": {
     "iopub.execute_input": "2022-06-21T00:42:52.638175Z",
     "iopub.status.busy": "2022-06-21T00:42:52.637470Z",
     "iopub.status.idle": "2022-06-21T00:42:52.646024Z",
     "shell.execute_reply": "2022-06-21T00:42:52.645570Z"
    },
    "papermill": {
     "duration": 0.048497,
     "end_time": "2022-06-21T00:42:52.646138",
     "exception": false,
     "start_time": "2022-06-21T00:42:52.597641",
     "status": "completed"
    },
    "tags": []
   },
   "outputs": [],
   "source": [
    "#hide\n",
    "dfc_cases = dft_cases.groupby(COL_REGION)[dt_today].sum()\n",
    "dfc_deaths = dft_deaths.groupby(COL_REGION)[dt_today].sum()\n",
    "# dfp_cases = dft_cases.groupby(COL_REGION)[dt_5day].sum()\n",
    "# dfp_deaths = dft_deaths.groupby(COL_REGION)[dt_5day].sum()\n",
    "dfp_cases = dft_cases.groupby(COL_REGION)[dt_yday].sum()\n",
    "dfp_deaths = dft_deaths.groupby(COL_REGION)[dt_yday].sum()"
   ]
  },
  {
   "cell_type": "code",
   "execution_count": 12,
   "id": "deluxe-hepatitis",
   "metadata": {
    "execution": {
     "iopub.execute_input": "2022-06-21T00:42:52.717093Z",
     "iopub.status.busy": "2022-06-21T00:42:52.716464Z",
     "iopub.status.idle": "2022-06-21T00:42:52.722512Z",
     "shell.execute_reply": "2022-06-21T00:42:52.721976Z"
    },
    "papermill": {
     "duration": 0.045884,
     "end_time": "2022-06-21T00:42:52.722661",
     "exception": false,
     "start_time": "2022-06-21T00:42:52.676777",
     "status": "completed"
    },
    "tags": []
   },
   "outputs": [],
   "source": [
    "#hide\n",
    "df_table = (pd.DataFrame(dict(Cases = dfc_cases, Deaths = dfc_deaths, PCases = dfp_cases, PDeaths = dfp_deaths))\n",
    "            .sort_values(by = ['Cases','Deaths'], ascending = [False, False])\n",
    "            .reset_index())"
   ]
  },
  {
   "cell_type": "code",
   "execution_count": 13,
   "id": "educational-chancellor",
   "metadata": {
    "execution": {
     "iopub.execute_input": "2022-06-21T00:42:52.802168Z",
     "iopub.status.busy": "2022-06-21T00:42:52.797417Z",
     "iopub.status.idle": "2022-06-21T00:42:52.810189Z",
     "shell.execute_reply": "2022-06-21T00:42:52.809641Z"
    },
    "papermill": {
     "duration": 0.056703,
     "end_time": "2022-06-21T00:42:52.810308",
     "exception": false,
     "start_time": "2022-06-21T00:42:52.753605",
     "status": "completed"
    },
    "tags": []
   },
   "outputs": [
    {
     "data": {
      "text/html": [
       "<div>\n",
       "<style scoped>\n",
       "    .dataframe tbody tr th:only-of-type {\n",
       "        vertical-align: middle;\n",
       "    }\n",
       "\n",
       "    .dataframe tbody tr th {\n",
       "        vertical-align: top;\n",
       "    }\n",
       "\n",
       "    .dataframe thead th {\n",
       "        text-align: right;\n",
       "    }\n",
       "</style>\n",
       "<table border=\"1\" class=\"dataframe\">\n",
       "  <thead>\n",
       "    <tr style=\"text-align: right;\">\n",
       "      <th></th>\n",
       "      <th>Country/Region</th>\n",
       "      <th>Cases</th>\n",
       "      <th>Deaths</th>\n",
       "      <th>PCases</th>\n",
       "      <th>PDeaths</th>\n",
       "      <th>Cases (+)</th>\n",
       "      <th>Deaths (+)</th>\n",
       "      <th>Fatality Rate</th>\n",
       "      <th>Continent</th>\n",
       "    </tr>\n",
       "  </thead>\n",
       "  <tbody>\n",
       "    <tr>\n",
       "      <th>0</th>\n",
       "      <td>US</td>\n",
       "      <td>86246101</td>\n",
       "      <td>1013413</td>\n",
       "      <td>86230982</td>\n",
       "      <td>1013377</td>\n",
       "      <td>15119</td>\n",
       "      <td>36</td>\n",
       "      <td>1.18</td>\n",
       "      <td>North America</td>\n",
       "    </tr>\n",
       "    <tr>\n",
       "      <th>1</th>\n",
       "      <td>India</td>\n",
       "      <td>43309473</td>\n",
       "      <td>524873</td>\n",
       "      <td>43296692</td>\n",
       "      <td>524855</td>\n",
       "      <td>12781</td>\n",
       "      <td>18</td>\n",
       "      <td>1.21</td>\n",
       "      <td>Asia</td>\n",
       "    </tr>\n",
       "    <tr>\n",
       "      <th>2</th>\n",
       "      <td>Brazil</td>\n",
       "      <td>31611769</td>\n",
       "      <td>668693</td>\n",
       "      <td>31611769</td>\n",
       "      <td>668693</td>\n",
       "      <td>0</td>\n",
       "      <td>0</td>\n",
       "      <td>2.12</td>\n",
       "      <td>South America</td>\n",
       "    </tr>\n",
       "    <tr>\n",
       "      <th>3</th>\n",
       "      <td>France</td>\n",
       "      <td>30279240</td>\n",
       "      <td>150078</td>\n",
       "      <td>30279240</td>\n",
       "      <td>150078</td>\n",
       "      <td>0</td>\n",
       "      <td>0</td>\n",
       "      <td>0.50</td>\n",
       "      <td>Europe</td>\n",
       "    </tr>\n",
       "    <tr>\n",
       "      <th>4</th>\n",
       "      <td>Germany</td>\n",
       "      <td>27211896</td>\n",
       "      <td>140176</td>\n",
       "      <td>27204955</td>\n",
       "      <td>140176</td>\n",
       "      <td>6941</td>\n",
       "      <td>0</td>\n",
       "      <td>0.52</td>\n",
       "      <td>Europe</td>\n",
       "    </tr>\n",
       "  </tbody>\n",
       "</table>\n",
       "</div>"
      ],
      "text/plain": [
       "  Country/Region     Cases   Deaths    PCases  PDeaths  Cases (+)  Deaths (+)  \\\n",
       "0             US  86246101  1013413  86230982  1013377      15119          36   \n",
       "1          India  43309473   524873  43296692   524855      12781          18   \n",
       "2         Brazil  31611769   668693  31611769   668693          0           0   \n",
       "3         France  30279240   150078  30279240   150078          0           0   \n",
       "4        Germany  27211896   140176  27204955   140176       6941           0   \n",
       "\n",
       "   Fatality Rate      Continent  \n",
       "0           1.18  North America  \n",
       "1           1.21           Asia  \n",
       "2           2.12  South America  \n",
       "3           0.50         Europe  \n",
       "4           0.52         Europe  "
      ]
     },
     "execution_count": 13,
     "metadata": {},
     "output_type": "execute_result"
    }
   ],
   "source": [
    "#hide\n",
    "for c in 'Cases, Deaths'.split(', '):\n",
    "    df_table[f'{c} (+)'] = (df_table[c] - df_table[f'P{c}']).clip(0)\n",
    "    #Clip ça veut dire, les chiffres negatif sont interdit\n",
    "df_table['Fatality Rate'] = (100* df_table['Deaths']/ df_table['Cases']).round(2)\n",
    "df_table['Continent'] = df_table['Country/Region'].map(mapping['map.continent'])\n",
    "df_table.head(5)"
   ]
  },
  {
   "cell_type": "code",
   "execution_count": 14,
   "id": "aboriginal-bulgaria",
   "metadata": {
    "execution": {
     "iopub.execute_input": "2022-06-21T00:42:52.879777Z",
     "iopub.status.busy": "2022-06-21T00:42:52.874702Z",
     "iopub.status.idle": "2022-06-21T00:42:52.884269Z",
     "shell.execute_reply": "2022-06-21T00:42:52.883655Z"
    },
    "papermill": {
     "duration": 0.042771,
     "end_time": "2022-06-21T00:42:52.884382",
     "exception": false,
     "start_time": "2022-06-21T00:42:52.841611",
     "status": "completed"
    },
    "tags": []
   },
   "outputs": [],
   "source": [
    "#hide\n",
    "#delete problematic countries from table\n",
    "df_table = df_table[~df_table['Country/Region'].isin(['Cape Verde', 'Cruise Ship', 'Kosovo'])]"
   ]
  },
  {
   "cell_type": "code",
   "execution_count": 15,
   "id": "fantastic-effect",
   "metadata": {
    "execution": {
     "iopub.execute_input": "2022-06-21T00:42:52.953489Z",
     "iopub.status.busy": "2022-06-21T00:42:52.952929Z",
     "iopub.status.idle": "2022-06-21T00:42:52.973110Z",
     "shell.execute_reply": "2022-06-21T00:42:52.972494Z"
    },
    "papermill": {
     "duration": 0.058995,
     "end_time": "2022-06-21T00:42:52.973225",
     "exception": false,
     "start_time": "2022-06-21T00:42:52.914230",
     "status": "completed"
    },
    "tags": []
   },
   "outputs": [
    {
     "data": {
      "text/html": [
       "<div>\n",
       "<style scoped>\n",
       "    .dataframe tbody tr th:only-of-type {\n",
       "        vertical-align: middle;\n",
       "    }\n",
       "\n",
       "    .dataframe tbody tr th {\n",
       "        vertical-align: top;\n",
       "    }\n",
       "\n",
       "    .dataframe thead th {\n",
       "        text-align: right;\n",
       "    }\n",
       "</style>\n",
       "<table border=\"1\" class=\"dataframe\">\n",
       "  <thead>\n",
       "    <tr style=\"text-align: right;\">\n",
       "      <th></th>\n",
       "      <th>Country/Region</th>\n",
       "      <th>Cases</th>\n",
       "      <th>Deaths</th>\n",
       "      <th>PCases</th>\n",
       "      <th>PDeaths</th>\n",
       "      <th>Cases (+)</th>\n",
       "      <th>Deaths (+)</th>\n",
       "      <th>Fatality Rate</th>\n",
       "      <th>Continent</th>\n",
       "    </tr>\n",
       "  </thead>\n",
       "  <tbody>\n",
       "    <tr>\n",
       "      <th>0</th>\n",
       "      <td>US</td>\n",
       "      <td>86246101</td>\n",
       "      <td>1013413</td>\n",
       "      <td>86230982</td>\n",
       "      <td>1013377</td>\n",
       "      <td>15119</td>\n",
       "      <td>36</td>\n",
       "      <td>1.2</td>\n",
       "      <td>North America</td>\n",
       "    </tr>\n",
       "    <tr>\n",
       "      <th>1</th>\n",
       "      <td>India</td>\n",
       "      <td>43309473</td>\n",
       "      <td>524873</td>\n",
       "      <td>43296692</td>\n",
       "      <td>524855</td>\n",
       "      <td>12781</td>\n",
       "      <td>18</td>\n",
       "      <td>1.2</td>\n",
       "      <td>Asia</td>\n",
       "    </tr>\n",
       "    <tr>\n",
       "      <th>2</th>\n",
       "      <td>Brazil</td>\n",
       "      <td>31611769</td>\n",
       "      <td>668693</td>\n",
       "      <td>31611769</td>\n",
       "      <td>668693</td>\n",
       "      <td>0</td>\n",
       "      <td>0</td>\n",
       "      <td>2.1</td>\n",
       "      <td>South America</td>\n",
       "    </tr>\n",
       "    <tr>\n",
       "      <th>3</th>\n",
       "      <td>France</td>\n",
       "      <td>30279240</td>\n",
       "      <td>150078</td>\n",
       "      <td>30279240</td>\n",
       "      <td>150078</td>\n",
       "      <td>0</td>\n",
       "      <td>0</td>\n",
       "      <td>0.5</td>\n",
       "      <td>Europe</td>\n",
       "    </tr>\n",
       "    <tr>\n",
       "      <th>4</th>\n",
       "      <td>Germany</td>\n",
       "      <td>27211896</td>\n",
       "      <td>140176</td>\n",
       "      <td>27204955</td>\n",
       "      <td>140176</td>\n",
       "      <td>6941</td>\n",
       "      <td>0</td>\n",
       "      <td>0.5</td>\n",
       "      <td>Europe</td>\n",
       "    </tr>\n",
       "  </tbody>\n",
       "</table>\n",
       "</div>"
      ],
      "text/plain": [
       "  Country/Region     Cases   Deaths    PCases  PDeaths  Cases (+)  Deaths (+)  \\\n",
       "0             US  86246101  1013413  86230982  1013377      15119          36   \n",
       "1          India  43309473   524873  43296692   524855      12781          18   \n",
       "2         Brazil  31611769   668693  31611769   668693          0           0   \n",
       "3         France  30279240   150078  30279240   150078          0           0   \n",
       "4        Germany  27211896   140176  27204955   140176       6941           0   \n",
       "\n",
       "   Fatality Rate      Continent  \n",
       "0            1.2  North America  \n",
       "1            1.2           Asia  \n",
       "2            2.1  South America  \n",
       "3            0.5         Europe  \n",
       "4            0.5         Europe  "
      ]
     },
     "execution_count": 15,
     "metadata": {},
     "output_type": "execute_result"
    }
   ],
   "source": [
    "#hide\n",
    "df_table = (pd.DataFrame(dict(Cases=dfc_cases, Deaths=dfc_deaths, PCases=dfp_cases, PDeaths=dfp_deaths))\n",
    "             .sort_values(by=['Cases', 'Deaths'], ascending=[False, False])\n",
    "             .reset_index())\n",
    "df_table.rename(columns={'index': 'Country/Region'}, inplace=True)\n",
    "for c in 'Cases, Deaths'.split(', '):\n",
    "    df_table[f'{c} (+)'] = (df_table[c] - df_table[f'P{c}']).clip(0)  # DATA BUG\n",
    "df_table['Fatality Rate'] = (100 * df_table['Deaths'] / df_table['Cases']).round(1)\n",
    "df_table['Continent'] = df_table['Country/Region'].map(mapping['map.continent'])\n",
    "df_table.head(5)"
   ]
  },
  {
   "cell_type": "code",
   "execution_count": 16,
   "id": "fewer-occasion",
   "metadata": {
    "execution": {
     "iopub.execute_input": "2022-06-21T00:42:53.047043Z",
     "iopub.status.busy": "2022-06-21T00:42:53.046330Z",
     "iopub.status.idle": "2022-06-21T00:42:53.048585Z",
     "shell.execute_reply": "2022-06-21T00:42:53.049282Z"
    },
    "papermill": {
     "duration": 0.042566,
     "end_time": "2022-06-21T00:42:53.049436",
     "exception": false,
     "start_time": "2022-06-21T00:42:53.006870",
     "status": "completed"
    },
    "tags": []
   },
   "outputs": [],
   "source": [
    "#hide\n",
    "#delete problematic countries from table\n",
    "df_table = df_table[~df_table['Country/Region'].isin(['Cape Verde', 'Cruise Ship', 'Kosovo'])]"
   ]
  },
  {
   "cell_type": "code",
   "execution_count": 17,
   "id": "related-center",
   "metadata": {
    "execution": {
     "iopub.execute_input": "2022-06-21T00:42:53.123365Z",
     "iopub.status.busy": "2022-06-21T00:42:53.122723Z",
     "iopub.status.idle": "2022-06-21T00:42:53.136908Z",
     "shell.execute_reply": "2022-06-21T00:42:53.137395Z"
    },
    "papermill": {
     "duration": 0.054888,
     "end_time": "2022-06-21T00:42:53.137531",
     "exception": false,
     "start_time": "2022-06-21T00:42:53.082643",
     "status": "completed"
    },
    "tags": []
   },
   "outputs": [],
   "source": [
    "#hide\n",
    "metrics = [df_table.columns[index] for index in [1,2,5,6]]\n",
    "# s_china = df_table[df_table['Country/Region'].eq('China')][metrics].sum().add_prefix('China ')\n",
    "s_us = df_table[df_table['Country/Region'].eq('US')][metrics].sum().add_prefix('US ')\n",
    "s_eu = df_table[df_table['Continent'].eq('Europe')][metrics].sum().add_prefix('EU ')\n",
    "s_ind = df_table[df_table['Country/Region'].eq('India')][metrics].sum().add_prefix('India ')\n",
    "summary = {'updated': pd.to_datetime(dt_today), 'since': pd.to_datetime(dt_yday)}\n",
    "summary = {'updated': pd.to_datetime(dt_today), 'since': pd.to_datetime(dt_yday)}\n",
    "summary = {**summary, **df_table[metrics].sum(), **s_ind, **s_us, **s_eu}"
   ]
  },
  {
   "cell_type": "code",
   "execution_count": 18,
   "id": "engaging-syndrome",
   "metadata": {
    "execution": {
     "iopub.execute_input": "2022-06-21T00:42:53.207322Z",
     "iopub.status.busy": "2022-06-21T00:42:53.206742Z",
     "iopub.status.idle": "2022-06-21T00:42:53.229288Z",
     "shell.execute_reply": "2022-06-21T00:42:53.230014Z"
    },
    "papermill": {
     "duration": 0.060286,
     "end_time": "2022-06-21T00:42:53.230209",
     "exception": false,
     "start_time": "2022-06-21T00:42:53.169923",
     "status": "completed"
    },
    "tags": []
   },
   "outputs": [],
   "source": [
    "#hide\n",
    "dft_ct_new_cases = dft_cases.groupby(COL_REGION)[dt_cols].sum().diff(axis=1).fillna(0).astype(int)"
   ]
  },
  {
   "cell_type": "code",
   "execution_count": 19,
   "id": "neutral-assignment",
   "metadata": {
    "execution": {
     "iopub.execute_input": "2022-06-21T00:42:53.298814Z",
     "iopub.status.busy": "2022-06-21T00:42:53.298100Z",
     "iopub.status.idle": "2022-06-21T00:42:53.301199Z",
     "shell.execute_reply": "2022-06-21T00:42:53.300711Z"
    },
    "papermill": {
     "duration": 0.040512,
     "end_time": "2022-06-21T00:42:53.301305",
     "exception": false,
     "start_time": "2022-06-21T00:42:53.260793",
     "status": "completed"
    },
    "tags": []
   },
   "outputs": [],
   "source": [
    "#hide\n",
    "everydaycases = dft_ct_new_cases.cumsum(axis=1)"
   ]
  },
  {
   "cell_type": "code",
   "execution_count": 20,
   "id": "parliamentary-calgary",
   "metadata": {
    "execution": {
     "iopub.execute_input": "2022-06-21T00:42:53.371946Z",
     "iopub.status.busy": "2022-06-21T00:42:53.371249Z",
     "iopub.status.idle": "2022-06-21T00:42:53.996995Z",
     "shell.execute_reply": "2022-06-21T00:42:53.996426Z"
    },
    "papermill": {
     "duration": 0.663509,
     "end_time": "2022-06-21T00:42:53.997130",
     "exception": false,
     "start_time": "2022-06-21T00:42:53.333621",
     "status": "completed"
    },
    "tags": []
   },
   "outputs": [],
   "source": [
    "#hide\n",
    "import pandas as pd\n",
    "import matplotlib.pyplot as plt\n",
    "import matplotlib.ticker as ticker\n",
    "import matplotlib.animation as animation\n",
    "from IPython.display import HTML"
   ]
  },
  {
   "cell_type": "code",
   "execution_count": 21,
   "id": "lasting-extraction",
   "metadata": {
    "execution": {
     "iopub.execute_input": "2022-06-21T00:42:54.070921Z",
     "iopub.status.busy": "2022-06-21T00:42:54.070231Z",
     "iopub.status.idle": "2022-06-21T00:42:54.077585Z",
     "shell.execute_reply": "2022-06-21T00:42:54.078042Z"
    },
    "papermill": {
     "duration": 0.048459,
     "end_time": "2022-06-21T00:42:54.078211",
     "exception": false,
     "start_time": "2022-06-21T00:42:54.029752",
     "status": "completed"
    },
    "tags": []
   },
   "outputs": [],
   "source": [
    "#hide\n",
    "t = everydaycases.stack()"
   ]
  },
  {
   "cell_type": "code",
   "execution_count": 22,
   "id": "premier-sleeve",
   "metadata": {
    "execution": {
     "iopub.execute_input": "2022-06-21T00:42:54.149620Z",
     "iopub.status.busy": "2022-06-21T00:42:54.149001Z",
     "iopub.status.idle": "2022-06-21T00:42:54.165489Z",
     "shell.execute_reply": "2022-06-21T00:42:54.165013Z"
    },
    "papermill": {
     "duration": 0.052869,
     "end_time": "2022-06-21T00:42:54.165618",
     "exception": false,
     "start_time": "2022-06-21T00:42:54.112749",
     "status": "completed"
    },
    "tags": []
   },
   "outputs": [],
   "source": [
    "#hide\n",
    "g = t.reset_index(['Country/Region'])"
   ]
  },
  {
   "cell_type": "code",
   "execution_count": 23,
   "id": "distributed-pittsburgh",
   "metadata": {
    "execution": {
     "iopub.execute_input": "2022-06-21T00:42:54.235644Z",
     "iopub.status.busy": "2022-06-21T00:42:54.234970Z",
     "iopub.status.idle": "2022-06-21T00:42:54.239245Z",
     "shell.execute_reply": "2022-06-21T00:42:54.239850Z"
    },
    "papermill": {
     "duration": 0.041923,
     "end_time": "2022-06-21T00:42:54.239983",
     "exception": false,
     "start_time": "2022-06-21T00:42:54.198060",
     "status": "completed"
    },
    "tags": []
   },
   "outputs": [],
   "source": [
    "#hide\n",
    "g.index.name = 'date'"
   ]
  },
  {
   "cell_type": "code",
   "execution_count": 24,
   "id": "naked-donor",
   "metadata": {
    "execution": {
     "iopub.execute_input": "2022-06-21T00:42:54.306812Z",
     "iopub.status.busy": "2022-06-21T00:42:54.305582Z",
     "iopub.status.idle": "2022-06-21T00:42:54.308108Z",
     "shell.execute_reply": "2022-06-21T00:42:54.309126Z"
    },
    "papermill": {
     "duration": 0.039246,
     "end_time": "2022-06-21T00:42:54.309363",
     "exception": false,
     "start_time": "2022-06-21T00:42:54.270117",
     "status": "completed"
    },
    "tags": []
   },
   "outputs": [],
   "source": [
    "# #hide\n",
    "# g = g.reset_index(['date'])"
   ]
  },
  {
   "cell_type": "code",
   "execution_count": 25,
   "id": "incomplete-mustang",
   "metadata": {
    "execution": {
     "iopub.execute_input": "2022-06-21T00:42:54.377471Z",
     "iopub.status.busy": "2022-06-21T00:42:54.376598Z",
     "iopub.status.idle": "2022-06-21T00:42:54.381963Z",
     "shell.execute_reply": "2022-06-21T00:42:54.382372Z"
    },
    "papermill": {
     "duration": 0.04074,
     "end_time": "2022-06-21T00:42:54.382476",
     "exception": false,
     "start_time": "2022-06-21T00:42:54.341736",
     "status": "completed"
    },
    "tags": []
   },
   "outputs": [],
   "source": [
    "#hide\n",
    "# g.head()"
   ]
  },
  {
   "cell_type": "code",
   "execution_count": 26,
   "id": "specific-kruger",
   "metadata": {
    "execution": {
     "iopub.execute_input": "2022-06-21T00:42:54.453860Z",
     "iopub.status.busy": "2022-06-21T00:42:54.453188Z",
     "iopub.status.idle": "2022-06-21T00:42:54.454474Z",
     "shell.execute_reply": "2022-06-21T00:42:54.454987Z"
    },
    "papermill": {
     "duration": 0.040217,
     "end_time": "2022-06-21T00:42:54.455138",
     "exception": false,
     "start_time": "2022-06-21T00:42:54.414921",
     "status": "completed"
    },
    "tags": []
   },
   "outputs": [],
   "source": [
    "#hide\n",
    "# g.columns = ['date','country','cases']"
   ]
  },
  {
   "cell_type": "code",
   "execution_count": 27,
   "id": "tender-conversion",
   "metadata": {
    "execution": {
     "iopub.execute_input": "2022-06-21T00:42:54.527277Z",
     "iopub.status.busy": "2022-06-21T00:42:54.526585Z",
     "iopub.status.idle": "2022-06-21T00:42:54.529987Z",
     "shell.execute_reply": "2022-06-21T00:42:54.529460Z"
    },
    "papermill": {
     "duration": 0.040762,
     "end_time": "2022-06-21T00:42:54.530109",
     "exception": false,
     "start_time": "2022-06-21T00:42:54.489347",
     "status": "completed"
    },
    "tags": []
   },
   "outputs": [],
   "source": [
    "#hide\n",
    "# g['continent'] = g.country"
   ]
  },
  {
   "cell_type": "code",
   "execution_count": 28,
   "id": "substantial-wilderness",
   "metadata": {
    "execution": {
     "iopub.execute_input": "2022-06-21T00:42:54.601393Z",
     "iopub.status.busy": "2022-06-21T00:42:54.600214Z",
     "iopub.status.idle": "2022-06-21T00:42:54.605719Z",
     "shell.execute_reply": "2022-06-21T00:42:54.604708Z"
    },
    "papermill": {
     "duration": 0.042595,
     "end_time": "2022-06-21T00:42:54.605862",
     "exception": false,
     "start_time": "2022-06-21T00:42:54.563267",
     "status": "completed"
    },
    "tags": []
   },
   "outputs": [],
   "source": [
    "#hide\n",
    "# cols = list(g.columns.values)"
   ]
  },
  {
   "cell_type": "code",
   "execution_count": 29,
   "id": "solved-farming",
   "metadata": {
    "execution": {
     "iopub.execute_input": "2022-06-21T00:42:54.678756Z",
     "iopub.status.busy": "2022-06-21T00:42:54.678162Z",
     "iopub.status.idle": "2022-06-21T00:42:54.681640Z",
     "shell.execute_reply": "2022-06-21T00:42:54.681032Z"
    },
    "papermill": {
     "duration": 0.03868,
     "end_time": "2022-06-21T00:42:54.681756",
     "exception": false,
     "start_time": "2022-06-21T00:42:54.643076",
     "status": "completed"
    },
    "tags": []
   },
   "outputs": [],
   "source": [
    "#hide\n",
    "# cols.insert(0, cols.pop())"
   ]
  },
  {
   "cell_type": "code",
   "execution_count": 30,
   "id": "executed-adoption",
   "metadata": {
    "execution": {
     "iopub.execute_input": "2022-06-21T00:42:54.750126Z",
     "iopub.status.busy": "2022-06-21T00:42:54.749456Z",
     "iopub.status.idle": "2022-06-21T00:42:54.753271Z",
     "shell.execute_reply": "2022-06-21T00:42:54.753755Z"
    },
    "papermill": {
     "duration": 0.040266,
     "end_time": "2022-06-21T00:42:54.753896",
     "exception": false,
     "start_time": "2022-06-21T00:42:54.713630",
     "status": "completed"
    },
    "tags": []
   },
   "outputs": [],
   "source": [
    "#hide\n",
    "# g = g[cols]"
   ]
  },
  {
   "cell_type": "code",
   "execution_count": 31,
   "id": "subject-dublin",
   "metadata": {
    "execution": {
     "iopub.execute_input": "2022-06-21T00:42:54.824347Z",
     "iopub.status.busy": "2022-06-21T00:42:54.823176Z",
     "iopub.status.idle": "2022-06-21T00:42:54.825623Z",
     "shell.execute_reply": "2022-06-21T00:42:54.826508Z"
    },
    "papermill": {
     "duration": 0.039934,
     "end_time": "2022-06-21T00:42:54.826773",
     "exception": false,
     "start_time": "2022-06-21T00:42:54.786839",
     "status": "completed"
    },
    "tags": []
   },
   "outputs": [],
   "source": [
    "#hide\n",
    "# g['continent'] = g['continent'].map(mapping['map.continent'])"
   ]
  },
  {
   "cell_type": "code",
   "execution_count": 32,
   "id": "freelance-scout",
   "metadata": {
    "execution": {
     "iopub.execute_input": "2022-06-21T00:42:54.894768Z",
     "iopub.status.busy": "2022-06-21T00:42:54.893748Z",
     "iopub.status.idle": "2022-06-21T00:42:54.899146Z",
     "shell.execute_reply": "2022-06-21T00:42:54.898287Z"
    },
    "papermill": {
     "duration": 0.040807,
     "end_time": "2022-06-21T00:42:54.899327",
     "exception": false,
     "start_time": "2022-06-21T00:42:54.858520",
     "status": "completed"
    },
    "tags": []
   },
   "outputs": [],
   "source": [
    "#hide\n",
    "# g.head()"
   ]
  },
  {
   "cell_type": "code",
   "execution_count": 33,
   "id": "limited-engine",
   "metadata": {
    "execution": {
     "iopub.execute_input": "2022-06-21T00:42:54.968490Z",
     "iopub.status.busy": "2022-06-21T00:42:54.967316Z",
     "iopub.status.idle": "2022-06-21T00:42:54.969767Z",
     "shell.execute_reply": "2022-06-21T00:42:54.970695Z"
    },
    "papermill": {
     "duration": 0.03948,
     "end_time": "2022-06-21T00:42:54.970919",
     "exception": false,
     "start_time": "2022-06-21T00:42:54.931439",
     "status": "completed"
    },
    "tags": []
   },
   "outputs": [],
   "source": [
    "# hide\n",
    "# g['date'] = g['date'].astype('datetime64[ns]')"
   ]
  },
  {
   "cell_type": "code",
   "execution_count": 34,
   "id": "sophisticated-supervisor",
   "metadata": {
    "execution": {
     "iopub.execute_input": "2022-06-21T00:42:55.037985Z",
     "iopub.status.busy": "2022-06-21T00:42:55.037328Z",
     "iopub.status.idle": "2022-06-21T00:42:55.042075Z",
     "shell.execute_reply": "2022-06-21T00:42:55.041545Z"
    },
    "papermill": {
     "duration": 0.039883,
     "end_time": "2022-06-21T00:42:55.042188",
     "exception": false,
     "start_time": "2022-06-21T00:42:55.002305",
     "status": "completed"
    },
    "tags": []
   },
   "outputs": [],
   "source": [
    "#hide\n",
    "# g['date'] = g.date.dt.dayofyear"
   ]
  },
  {
   "cell_type": "code",
   "execution_count": 35,
   "id": "inside-dubai",
   "metadata": {
    "execution": {
     "iopub.execute_input": "2022-06-21T00:42:55.121545Z",
     "iopub.status.busy": "2022-06-21T00:42:55.119949Z",
     "iopub.status.idle": "2022-06-21T00:42:55.123678Z",
     "shell.execute_reply": "2022-06-21T00:42:55.122747Z"
    },
    "papermill": {
     "duration": 0.045072,
     "end_time": "2022-06-21T00:42:55.123890",
     "exception": false,
     "start_time": "2022-06-21T00:42:55.078818",
     "status": "completed"
    },
    "tags": []
   },
   "outputs": [],
   "source": [
    "#hide\n",
    "# g = g.rename(columns= {'continent':'group','country':'name','cases':'value'})"
   ]
  },
  {
   "cell_type": "code",
   "execution_count": 36,
   "id": "fleet-motorcycle",
   "metadata": {
    "execution": {
     "iopub.execute_input": "2022-06-21T00:42:55.196019Z",
     "iopub.status.busy": "2022-06-21T00:42:55.195387Z",
     "iopub.status.idle": "2022-06-21T00:42:55.198332Z",
     "shell.execute_reply": "2022-06-21T00:42:55.197777Z"
    },
    "papermill": {
     "duration": 0.039767,
     "end_time": "2022-06-21T00:42:55.198440",
     "exception": false,
     "start_time": "2022-06-21T00:42:55.158673",
     "status": "completed"
    },
    "tags": []
   },
   "outputs": [],
   "source": [
    "#hide\n",
    "# cols = ['name','group','day','value']"
   ]
  },
  {
   "cell_type": "code",
   "execution_count": 37,
   "id": "continued-sleeping",
   "metadata": {
    "execution": {
     "iopub.execute_input": "2022-06-21T00:42:55.267571Z",
     "iopub.status.busy": "2022-06-21T00:42:55.266886Z",
     "iopub.status.idle": "2022-06-21T00:42:55.268955Z",
     "shell.execute_reply": "2022-06-21T00:42:55.268358Z"
    },
    "papermill": {
     "duration": 0.038083,
     "end_time": "2022-06-21T00:42:55.269069",
     "exception": false,
     "start_time": "2022-06-21T00:42:55.230986",
     "status": "completed"
    },
    "tags": []
   },
   "outputs": [],
   "source": [
    "#hide\n",
    "# g.rename(columns= {'date':'day'},inplace = True)"
   ]
  },
  {
   "cell_type": "code",
   "execution_count": 38,
   "id": "major-fight",
   "metadata": {
    "execution": {
     "iopub.execute_input": "2022-06-21T00:42:55.344693Z",
     "iopub.status.busy": "2022-06-21T00:42:55.343484Z",
     "iopub.status.idle": "2022-06-21T00:42:55.346037Z",
     "shell.execute_reply": "2022-06-21T00:42:55.346975Z"
    },
    "papermill": {
     "duration": 0.043517,
     "end_time": "2022-06-21T00:42:55.347210",
     "exception": false,
     "start_time": "2022-06-21T00:42:55.303693",
     "status": "completed"
    },
    "tags": []
   },
   "outputs": [],
   "source": [
    "#hide\n",
    "# g = g[cols]"
   ]
  },
  {
   "cell_type": "code",
   "execution_count": 39,
   "id": "structured-mobile",
   "metadata": {
    "execution": {
     "iopub.execute_input": "2022-06-21T00:42:55.416545Z",
     "iopub.status.busy": "2022-06-21T00:42:55.415334Z",
     "iopub.status.idle": "2022-06-21T00:42:55.417846Z",
     "shell.execute_reply": "2022-06-21T00:42:55.418677Z"
    },
    "papermill": {
     "duration": 0.040323,
     "end_time": "2022-06-21T00:42:55.418813",
     "exception": false,
     "start_time": "2022-06-21T00:42:55.378490",
     "status": "completed"
    },
    "tags": []
   },
   "outputs": [],
   "source": [
    "# #hide\n",
    "# g = g[g.group.notna()]"
   ]
  },
  {
   "cell_type": "code",
   "execution_count": 40,
   "id": "determined-closing",
   "metadata": {
    "execution": {
     "iopub.execute_input": "2022-06-21T00:42:55.490000Z",
     "iopub.status.busy": "2022-06-21T00:42:55.489355Z",
     "iopub.status.idle": "2022-06-21T00:42:55.491263Z",
     "shell.execute_reply": "2022-06-21T00:42:55.490744Z"
    },
    "papermill": {
     "duration": 0.040524,
     "end_time": "2022-06-21T00:42:55.491387",
     "exception": false,
     "start_time": "2022-06-21T00:42:55.450863",
     "status": "completed"
    },
    "tags": []
   },
   "outputs": [],
   "source": [
    "# #hide\n",
    "# colors = dict(zip(\n",
    "#     [\"Oceania\", \"Europe\", \"Asia\", \"South America\", \"Middle East\", \"North America\", \"Africa\"],\n",
    "#     [\"#adb0ff\", \"#ffb3ff\", \"#90d595\", \"#e48381\", \"#aafbff\", \"#f7bb5f\", \"#eafb50\"]\n",
    "# ))\n",
    "# group_lk = g.set_index('name')['group'].to_dict()"
   ]
  },
  {
   "cell_type": "code",
   "execution_count": null,
   "id": "gross-drinking",
   "metadata": {
    "papermill": {
     "duration": 0.031929,
     "end_time": "2022-06-21T00:42:55.554807",
     "exception": false,
     "start_time": "2022-06-21T00:42:55.522878",
     "status": "completed"
    },
    "tags": []
   },
   "outputs": [],
   "source": []
  },
  {
   "cell_type": "code",
   "execution_count": 41,
   "id": "subject-macintosh",
   "metadata": {
    "execution": {
     "iopub.execute_input": "2022-06-21T00:42:55.624536Z",
     "iopub.status.busy": "2022-06-21T00:42:55.623861Z",
     "iopub.status.idle": "2022-06-21T00:42:55.628908Z",
     "shell.execute_reply": "2022-06-21T00:42:55.628355Z"
    },
    "papermill": {
     "duration": 0.041475,
     "end_time": "2022-06-21T00:42:55.629023",
     "exception": false,
     "start_time": "2022-06-21T00:42:55.587548",
     "status": "completed"
    },
    "tags": []
   },
   "outputs": [],
   "source": [
    "# #hide\n",
    "# fig, ax = plt.subplots(figsize=(15, 8))\n",
    "\n",
    "# def draw_barchart(current_day):\n",
    "#     dff = g[g['day'].eq(current_day)].sort_values(by='value', ascending=True).tail(10)\n",
    "#     ax.clear()\n",
    "#     ax.barh(dff['name'], dff['value'], color=[colors[group_lk[x]] for x in dff['name']])\n",
    "#     dx = dff['value'].max() / 200\n",
    "    \n",
    "#     for i, (value, name) in enumerate(zip(dff['value'], dff['name'])):\n",
    "#         ax.text(value-dx, i,     name,           size=14, weight=600, ha='right', va='bottom')\n",
    "#         ax.text(value-dx, i-.25, group_lk[name], size=10, color='#444444', ha='right', va='baseline')\n",
    "#         ax.text(value+dx, i,     f'{value:,.0f}',  size=14, ha='left',  va='center')\n",
    "#     ax.text(1, 0.4, current_day, transform=ax.transAxes, color='#777777', size=46, ha='right', weight=800)\n",
    "#     ax.text(0, 1.06, 'Population (thousands)', transform=ax.transAxes, size=12, color='#777777')\n",
    "#     ax.xaxis.set_major_formatter(ticker.StrMethodFormatter('{x:,.0f}'))\n",
    "#     ax.xaxis.set_ticks_position('top')\n",
    "#     ax.tick_params(axis='x', colors='#777777', labelsize=12)\n",
    "#     ax.set_yticks([])\n",
    "#     ax.margins(0, 0.01)\n",
    "#     ax.grid(which='major', axis='x', linestyle='-')\n",
    "#     ax.set_axisbelow(True)\n",
    "    \n",
    "#     ax.text(0, 1.15, 'Coronavirus',\n",
    "#             transform=ax.transAxes, size=24, weight=600, ha='left', va='top')\n",
    "# #     ax.text(1, 0, 'by @pratapvardhan; credit @jburnmurdoch', transform=ax.transAxes, color='#777777', ha='right',\n",
    "# #             bbox=dict(facecolor='white', alpha=0.8, edgecolor='white'))\n",
    "#     plt.box(False)"
   ]
  },
  {
   "cell_type": "code",
   "execution_count": 42,
   "id": "sexual-wages",
   "metadata": {
    "execution": {
     "iopub.execute_input": "2022-06-21T00:42:55.699403Z",
     "iopub.status.busy": "2022-06-21T00:42:55.698163Z",
     "iopub.status.idle": "2022-06-21T00:42:55.700715Z",
     "shell.execute_reply": "2022-06-21T00:42:55.701612Z"
    },
    "papermill": {
     "duration": 0.04014,
     "end_time": "2022-06-21T00:42:55.701835",
     "exception": false,
     "start_time": "2022-06-21T00:42:55.661695",
     "status": "completed"
    },
    "tags": []
   },
   "outputs": [],
   "source": [
    "# #hide_input\n",
    "# fig, ax = plt.subplots(figsize=(15, 8))\n",
    "# animator = animation.FuncAnimation(fig, draw_barchart, frames=range(g.day.values.min(), g.day.values.max()))\n",
    "# HTML(animator.to_jshtml())\n",
    "# # or use animator.to_html5_video() or animator.save() "
   ]
  },
  {
   "cell_type": "code",
   "execution_count": null,
   "id": "australian-container",
   "metadata": {
    "papermill": {
     "duration": 0.032169,
     "end_time": "2022-06-21T00:42:55.765701",
     "exception": false,
     "start_time": "2022-06-21T00:42:55.733532",
     "status": "completed"
    },
    "tags": []
   },
   "outputs": [],
   "source": []
  },
  {
   "cell_type": "code",
   "execution_count": null,
   "id": "mediterranean-pontiac",
   "metadata": {
    "papermill": {
     "duration": 0.03227,
     "end_time": "2022-06-21T00:42:55.828847",
     "exception": false,
     "start_time": "2022-06-21T00:42:55.796577",
     "status": "completed"
    },
    "tags": []
   },
   "outputs": [],
   "source": []
  },
  {
   "cell_type": "code",
   "execution_count": null,
   "id": "aging-legislature",
   "metadata": {
    "papermill": {
     "duration": 0.032177,
     "end_time": "2022-06-21T00:42:55.892629",
     "exception": false,
     "start_time": "2022-06-21T00:42:55.860452",
     "status": "completed"
    },
    "tags": []
   },
   "outputs": [],
   "source": []
  }
 ],
 "metadata": {
  "kernelspec": {
   "display_name": "Python 3",
   "language": "python",
   "name": "python3"
  },
  "language_info": {
   "codemirror_mode": {
    "name": "ipython",
    "version": 3
   },
   "file_extension": ".py",
   "mimetype": "text/x-python",
   "name": "python",
   "nbconvert_exporter": "python",
   "pygments_lexer": "ipython3",
   "version": "3.6.15"
  },
  "papermill": {
   "duration": 6.464374,
   "end_time": "2022-06-21T00:42:56.242417",
   "environment_variables": {},
   "exception": null,
   "input_path": "2020-03-21-covid19exp.ipynb",
   "output_path": "2020-03-21-covid19exp.ipynb",
   "parameters": {},
   "start_time": "2022-06-21T00:42:49.778043",
   "version": "2.0.0"
  }
 },
 "nbformat": 4,
 "nbformat_minor": 5
}