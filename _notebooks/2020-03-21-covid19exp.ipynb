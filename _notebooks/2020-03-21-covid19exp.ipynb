{
 "cells": [
  {
   "cell_type": "markdown",
   "metadata": {
    "papermill": {
     "duration": 0.036363,
     "end_time": "2020-12-23T12:10:27.434094",
     "exception": false,
     "start_time": "2020-12-23T12:10:27.397731",
     "status": "completed"
    },
    "tags": []
   },
   "source": [
    "# COVID-19 Case Race\n",
    "> A race chart to see rising cases around the world\n",
    "\n",
    "- author: Hargun Oberoi\n",
    "- image: images/covid-overview.png\n",
    "- hide: false\n",
    "- badges: false"
   ]
  },
  {
   "cell_type": "code",
   "execution_count": 1,
   "metadata": {
    "execution": {
     "iopub.execute_input": "2020-12-23T12:10:27.512914Z",
     "iopub.status.busy": "2020-12-23T12:10:27.512116Z",
     "iopub.status.idle": "2020-12-23T12:10:27.852476Z",
     "shell.execute_reply": "2020-12-23T12:10:27.851834Z"
    },
    "papermill": {
     "duration": 0.386049,
     "end_time": "2020-12-23T12:10:27.852708",
     "exception": false,
     "start_time": "2020-12-23T12:10:27.466659",
     "status": "completed"
    },
    "tags": []
   },
   "outputs": [],
   "source": [
    "#hide\n",
    "import numpy as np\n",
    "import pandas as pd\n",
    "from jinja2 import Template\n",
    "from IPython.display import HTML"
   ]
  },
  {
   "cell_type": "code",
   "execution_count": 2,
   "metadata": {
    "execution": {
     "iopub.execute_input": "2020-12-23T12:10:27.925174Z",
     "iopub.status.busy": "2020-12-23T12:10:27.924513Z",
     "iopub.status.idle": "2020-12-23T12:10:27.926968Z",
     "shell.execute_reply": "2020-12-23T12:10:27.926411Z"
    },
    "papermill": {
     "duration": 0.04222,
     "end_time": "2020-12-23T12:10:27.927257",
     "exception": false,
     "start_time": "2020-12-23T12:10:27.885037",
     "status": "completed"
    },
    "tags": []
   },
   "outputs": [],
   "source": [
    "#hide\n",
    "\n",
    "# FETCH\n",
    "base_url = 'https://raw.githubusercontent.com/pratapvardhan/notebooks/master/covid19/'\n",
    "paths = {\n",
    "    'mapping': base_url + 'mapping_countries.csv',\n",
    "    'overview': base_url + 'overview.tpl'\n",
    "}"
   ]
  },
  {
   "cell_type": "code",
   "execution_count": 3,
   "metadata": {
    "execution": {
     "iopub.execute_input": "2020-12-23T12:10:28.000900Z",
     "iopub.status.busy": "2020-12-23T12:10:27.998547Z",
     "iopub.status.idle": "2020-12-23T12:10:28.004380Z",
     "shell.execute_reply": "2020-12-23T12:10:28.003897Z"
    },
    "papermill": {
     "duration": 0.045014,
     "end_time": "2020-12-23T12:10:28.004493",
     "exception": false,
     "start_time": "2020-12-23T12:10:27.959479",
     "status": "completed"
    },
    "tags": []
   },
   "outputs": [
    {
     "data": {
      "text/plain": [
       "'https://raw.githubusercontent.com/pratapvardhan/notebooks/master/covid19/mapping_countries.csv'"
      ]
     },
     "execution_count": 3,
     "metadata": {},
     "output_type": "execute_result"
    }
   ],
   "source": [
    "#hide\n",
    "paths['mapping']"
   ]
  },
  {
   "cell_type": "code",
   "execution_count": 4,
   "metadata": {
    "execution": {
     "iopub.execute_input": "2020-12-23T12:10:28.084911Z",
     "iopub.status.busy": "2020-12-23T12:10:28.083725Z",
     "iopub.status.idle": "2020-12-23T12:10:28.085659Z",
     "shell.execute_reply": "2020-12-23T12:10:28.086511Z"
    },
    "papermill": {
     "duration": 0.050372,
     "end_time": "2020-12-23T12:10:28.086728",
     "exception": false,
     "start_time": "2020-12-23T12:10:28.036356",
     "status": "completed"
    },
    "tags": []
   },
   "outputs": [],
   "source": [
    "#hide\n",
    "def get_mappings(url):\n",
    "    df = pd.read_csv(url)\n",
    "    return {\n",
    "        'df': df,\n",
    "        'replace.country': dict(df.dropna(subset=['Name']).set_index('Country')['Name']),\n",
    "        'map.continent': dict(df.set_index('Name')['Continent'])\n",
    "    }"
   ]
  },
  {
   "cell_type": "code",
   "execution_count": 5,
   "metadata": {
    "execution": {
     "iopub.execute_input": "2020-12-23T12:10:28.163423Z",
     "iopub.status.busy": "2020-12-23T12:10:28.162771Z",
     "iopub.status.idle": "2020-12-23T12:10:28.202346Z",
     "shell.execute_reply": "2020-12-23T12:10:28.201743Z"
    },
    "papermill": {
     "duration": 0.079163,
     "end_time": "2020-12-23T12:10:28.202487",
     "exception": false,
     "start_time": "2020-12-23T12:10:28.123324",
     "status": "completed"
    },
    "tags": []
   },
   "outputs": [],
   "source": [
    "#hide\n",
    "mapping = get_mappings(paths['mapping'])"
   ]
  },
  {
   "cell_type": "code",
   "execution_count": 6,
   "metadata": {
    "execution": {
     "iopub.execute_input": "2020-12-23T12:10:28.274777Z",
     "iopub.status.busy": "2020-12-23T12:10:28.274147Z",
     "iopub.status.idle": "2020-12-23T12:10:28.276832Z",
     "shell.execute_reply": "2020-12-23T12:10:28.276214Z"
    },
    "papermill": {
     "duration": 0.040622,
     "end_time": "2020-12-23T12:10:28.276986",
     "exception": false,
     "start_time": "2020-12-23T12:10:28.236364",
     "status": "completed"
    },
    "tags": []
   },
   "outputs": [],
   "source": [
    "#hide\n",
    "def get_template(path):\n",
    "    from urllib.parse import urlparse\n",
    "    if bool(urlparse(path).netloc):\n",
    "        from urllib.request import urlopen\n",
    "        return urlopen(path).read().decode('utf8')\n",
    "    return open(path).read()"
   ]
  },
  {
   "cell_type": "code",
   "execution_count": 7,
   "metadata": {
    "execution": {
     "iopub.execute_input": "2020-12-23T12:10:28.344131Z",
     "iopub.status.busy": "2020-12-23T12:10:28.343455Z",
     "iopub.status.idle": "2020-12-23T12:10:28.346522Z",
     "shell.execute_reply": "2020-12-23T12:10:28.345966Z"
    },
    "papermill": {
     "duration": 0.038916,
     "end_time": "2020-12-23T12:10:28.346629",
     "exception": false,
     "start_time": "2020-12-23T12:10:28.307713",
     "status": "completed"
    },
    "tags": []
   },
   "outputs": [],
   "source": [
    "#hide\n",
    "def get_frame(name):\n",
    "    url = (\n",
    "        'https://raw.githubusercontent.com/CSSEGISandData/COVID-19/master/csse_covid_19_data/'\n",
    "        f'csse_covid_19_time_series/time_series_covid19_{name}_global.csv')\n",
    "    df = pd.read_csv(url)\n",
    "    # rename countries\n",
    "    df['Country/Region'] = df['Country/Region'].replace(mapping['replace.country'])\n",
    "    return df"
   ]
  },
  {
   "cell_type": "code",
   "execution_count": 8,
   "metadata": {
    "execution": {
     "iopub.execute_input": "2020-12-23T12:10:28.419868Z",
     "iopub.status.busy": "2020-12-23T12:10:28.419084Z",
     "iopub.status.idle": "2020-12-23T12:10:28.421448Z",
     "shell.execute_reply": "2020-12-23T12:10:28.420808Z"
    },
    "papermill": {
     "duration": 0.042936,
     "end_time": "2020-12-23T12:10:28.421560",
     "exception": false,
     "start_time": "2020-12-23T12:10:28.378624",
     "status": "completed"
    },
    "tags": []
   },
   "outputs": [],
   "source": [
    "#hide\n",
    "def get_dates(df):\n",
    "    dt_cols = df.columns[~df.columns.isin(['Province/State', 'Country/Region', 'Lat', 'Long'])]\n",
    "    LAST_DATE_I = -1\n",
    "    # sometimes last column may be empty, then go backwards\n",
    "    for i in range(-1, -len(dt_cols), -1):\n",
    "        if not df[dt_cols[i]].fillna(0).eq(0).all():\n",
    "            LAST_DATE_I = i\n",
    "            break\n",
    "    return LAST_DATE_I, dt_cols"
   ]
  },
  {
   "cell_type": "code",
   "execution_count": 9,
   "metadata": {
    "execution": {
     "iopub.execute_input": "2020-12-23T12:10:28.492611Z",
     "iopub.status.busy": "2020-12-23T12:10:28.491905Z",
     "iopub.status.idle": "2020-12-23T12:10:28.732679Z",
     "shell.execute_reply": "2020-12-23T12:10:28.732148Z"
    },
    "papermill": {
     "duration": 0.276715,
     "end_time": "2020-12-23T12:10:28.732822",
     "exception": false,
     "start_time": "2020-12-23T12:10:28.456107",
     "status": "completed"
    },
    "tags": []
   },
   "outputs": [],
   "source": [
    "#hide\n",
    "COL_REGION = 'Country/Region'\n",
    "# Confirmed, Recovered, Deaths\n",
    "df = get_frame('confirmed')\n",
    "# dft_: timeseries, dfc_: today country agg\n",
    "dft_cases = df\n",
    "dft_deaths = get_frame('deaths')\n",
    "dft_recovered = get_frame('recovered')\n",
    "LAST_DATE_I, dt_cols = get_dates(df)"
   ]
  },
  {
   "cell_type": "code",
   "execution_count": 10,
   "metadata": {
    "execution": {
     "iopub.execute_input": "2020-12-23T12:10:28.799259Z",
     "iopub.status.busy": "2020-12-23T12:10:28.798650Z",
     "iopub.status.idle": "2020-12-23T12:10:28.801942Z",
     "shell.execute_reply": "2020-12-23T12:10:28.801471Z"
    },
    "papermill": {
     "duration": 0.037739,
     "end_time": "2020-12-23T12:10:28.802044",
     "exception": false,
     "start_time": "2020-12-23T12:10:28.764305",
     "status": "completed"
    },
    "tags": []
   },
   "outputs": [],
   "source": [
    "#hide\n",
    "LAST_DATE_I, dt_cols = get_dates(df)\n",
    "dt_today =dt_cols[LAST_DATE_I]\n",
    "# dt_5day = dt_cols[LAST_DATE_I - 5]\n",
    "dt_yday = dt_cols[LAST_DATE_I - 1]"
   ]
  },
  {
   "cell_type": "code",
   "execution_count": 11,
   "metadata": {
    "execution": {
     "iopub.execute_input": "2020-12-23T12:10:28.872670Z",
     "iopub.status.busy": "2020-12-23T12:10:28.872150Z",
     "iopub.status.idle": "2020-12-23T12:10:28.879260Z",
     "shell.execute_reply": "2020-12-23T12:10:28.878658Z"
    },
    "papermill": {
     "duration": 0.047664,
     "end_time": "2020-12-23T12:10:28.879426",
     "exception": false,
     "start_time": "2020-12-23T12:10:28.831762",
     "status": "completed"
    },
    "tags": []
   },
   "outputs": [],
   "source": [
    "#hide\n",
    "dfc_cases = dft_cases.groupby(COL_REGION)[dt_today].sum()\n",
    "dfc_deaths = dft_deaths.groupby(COL_REGION)[dt_today].sum()\n",
    "# dfp_cases = dft_cases.groupby(COL_REGION)[dt_5day].sum()\n",
    "# dfp_deaths = dft_deaths.groupby(COL_REGION)[dt_5day].sum()\n",
    "dfp_cases = dft_cases.groupby(COL_REGION)[dt_yday].sum()\n",
    "dfp_deaths = dft_deaths.groupby(COL_REGION)[dt_yday].sum()"
   ]
  },
  {
   "cell_type": "code",
   "execution_count": 12,
   "metadata": {
    "execution": {
     "iopub.execute_input": "2020-12-23T12:10:28.951909Z",
     "iopub.status.busy": "2020-12-23T12:10:28.951253Z",
     "iopub.status.idle": "2020-12-23T12:10:28.955729Z",
     "shell.execute_reply": "2020-12-23T12:10:28.956357Z"
    },
    "papermill": {
     "duration": 0.045531,
     "end_time": "2020-12-23T12:10:28.956502",
     "exception": false,
     "start_time": "2020-12-23T12:10:28.910971",
     "status": "completed"
    },
    "tags": []
   },
   "outputs": [],
   "source": [
    "#hide\n",
    "df_table = (pd.DataFrame(dict(Cases = dfc_cases, Deaths = dfc_deaths, PCases = dfp_cases, PDeaths = dfp_deaths))\n",
    "            .sort_values(by = ['Cases','Deaths'], ascending = [False, False])\n",
    "            .reset_index())"
   ]
  },
  {
   "cell_type": "code",
   "execution_count": 13,
   "metadata": {
    "execution": {
     "iopub.execute_input": "2020-12-23T12:10:29.026746Z",
     "iopub.status.busy": "2020-12-23T12:10:29.026081Z",
     "iopub.status.idle": "2020-12-23T12:10:29.045903Z",
     "shell.execute_reply": "2020-12-23T12:10:29.046517Z"
    },
    "papermill": {
     "duration": 0.057922,
     "end_time": "2020-12-23T12:10:29.046651",
     "exception": false,
     "start_time": "2020-12-23T12:10:28.988729",
     "status": "completed"
    },
    "tags": []
   },
   "outputs": [
    {
     "data": {
      "text/html": [
       "<div>\n",
       "<style scoped>\n",
       "    .dataframe tbody tr th:only-of-type {\n",
       "        vertical-align: middle;\n",
       "    }\n",
       "\n",
       "    .dataframe tbody tr th {\n",
       "        vertical-align: top;\n",
       "    }\n",
       "\n",
       "    .dataframe thead th {\n",
       "        text-align: right;\n",
       "    }\n",
       "</style>\n",
       "<table border=\"1\" class=\"dataframe\">\n",
       "  <thead>\n",
       "    <tr style=\"text-align: right;\">\n",
       "      <th></th>\n",
       "      <th>Country/Region</th>\n",
       "      <th>Cases</th>\n",
       "      <th>Deaths</th>\n",
       "      <th>PCases</th>\n",
       "      <th>PDeaths</th>\n",
       "      <th>Cases (+)</th>\n",
       "      <th>Deaths (+)</th>\n",
       "      <th>Fatality Rate</th>\n",
       "      <th>Continent</th>\n",
       "    </tr>\n",
       "  </thead>\n",
       "  <tbody>\n",
       "    <tr>\n",
       "      <th>0</th>\n",
       "      <td>US</td>\n",
       "      <td>18230242</td>\n",
       "      <td>322765</td>\n",
       "      <td>18035209</td>\n",
       "      <td>319364</td>\n",
       "      <td>195033</td>\n",
       "      <td>3401</td>\n",
       "      <td>1.77</td>\n",
       "      <td>North America</td>\n",
       "    </tr>\n",
       "    <tr>\n",
       "      <th>1</th>\n",
       "      <td>India</td>\n",
       "      <td>10099066</td>\n",
       "      <td>146444</td>\n",
       "      <td>10075116</td>\n",
       "      <td>146111</td>\n",
       "      <td>23950</td>\n",
       "      <td>333</td>\n",
       "      <td>1.45</td>\n",
       "      <td>Asia</td>\n",
       "    </tr>\n",
       "    <tr>\n",
       "      <th>2</th>\n",
       "      <td>Brazil</td>\n",
       "      <td>7318821</td>\n",
       "      <td>188259</td>\n",
       "      <td>7263619</td>\n",
       "      <td>187291</td>\n",
       "      <td>55202</td>\n",
       "      <td>968</td>\n",
       "      <td>2.57</td>\n",
       "      <td>South America</td>\n",
       "    </tr>\n",
       "    <tr>\n",
       "      <th>3</th>\n",
       "      <td>Russia</td>\n",
       "      <td>2878382</td>\n",
       "      <td>51274</td>\n",
       "      <td>2850042</td>\n",
       "      <td>50723</td>\n",
       "      <td>28340</td>\n",
       "      <td>551</td>\n",
       "      <td>1.78</td>\n",
       "      <td>Europe</td>\n",
       "    </tr>\n",
       "    <tr>\n",
       "      <th>4</th>\n",
       "      <td>France</td>\n",
       "      <td>2547577</td>\n",
       "      <td>61821</td>\n",
       "      <td>2535716</td>\n",
       "      <td>61019</td>\n",
       "      <td>11861</td>\n",
       "      <td>802</td>\n",
       "      <td>2.43</td>\n",
       "      <td>Europe</td>\n",
       "    </tr>\n",
       "  </tbody>\n",
       "</table>\n",
       "</div>"
      ],
      "text/plain": [
       "  Country/Region     Cases  Deaths    PCases  PDeaths  Cases (+)  Deaths (+)  \\\n",
       "0             US  18230242  322765  18035209   319364     195033        3401   \n",
       "1          India  10099066  146444  10075116   146111      23950         333   \n",
       "2         Brazil   7318821  188259   7263619   187291      55202         968   \n",
       "3         Russia   2878382   51274   2850042    50723      28340         551   \n",
       "4         France   2547577   61821   2535716    61019      11861         802   \n",
       "\n",
       "   Fatality Rate      Continent  \n",
       "0           1.77  North America  \n",
       "1           1.45           Asia  \n",
       "2           2.57  South America  \n",
       "3           1.78         Europe  \n",
       "4           2.43         Europe  "
      ]
     },
     "execution_count": 13,
     "metadata": {},
     "output_type": "execute_result"
    }
   ],
   "source": [
    "#hide\n",
    "for c in 'Cases, Deaths'.split(', '):\n",
    "    df_table[f'{c} (+)'] = (df_table[c] - df_table[f'P{c}']).clip(0)\n",
    "    #Clip ça veut dire, les chiffres negatif sont interdit\n",
    "df_table['Fatality Rate'] = (100* df_table['Deaths']/ df_table['Cases']).round(2)\n",
    "df_table['Continent'] = df_table['Country/Region'].map(mapping['map.continent'])\n",
    "df_table.head(5)"
   ]
  },
  {
   "cell_type": "code",
   "execution_count": 14,
   "metadata": {
    "execution": {
     "iopub.execute_input": "2020-12-23T12:10:29.127384Z",
     "iopub.status.busy": "2020-12-23T12:10:29.126831Z",
     "iopub.status.idle": "2020-12-23T12:10:29.128433Z",
     "shell.execute_reply": "2020-12-23T12:10:29.128952Z"
    },
    "papermill": {
     "duration": 0.040202,
     "end_time": "2020-12-23T12:10:29.129079",
     "exception": false,
     "start_time": "2020-12-23T12:10:29.088877",
     "status": "completed"
    },
    "tags": []
   },
   "outputs": [],
   "source": [
    "#hide\n",
    "#delete problematic countries from table\n",
    "df_table = df_table[~df_table['Country/Region'].isin(['Cape Verde', 'Cruise Ship', 'Kosovo'])]"
   ]
  },
  {
   "cell_type": "code",
   "execution_count": 15,
   "metadata": {
    "execution": {
     "iopub.execute_input": "2020-12-23T12:10:29.200898Z",
     "iopub.status.busy": "2020-12-23T12:10:29.200353Z",
     "iopub.status.idle": "2020-12-23T12:10:29.222419Z",
     "shell.execute_reply": "2020-12-23T12:10:29.221926Z"
    },
    "papermill": {
     "duration": 0.061174,
     "end_time": "2020-12-23T12:10:29.222530",
     "exception": false,
     "start_time": "2020-12-23T12:10:29.161356",
     "status": "completed"
    },
    "tags": []
   },
   "outputs": [
    {
     "data": {
      "text/html": [
       "<div>\n",
       "<style scoped>\n",
       "    .dataframe tbody tr th:only-of-type {\n",
       "        vertical-align: middle;\n",
       "    }\n",
       "\n",
       "    .dataframe tbody tr th {\n",
       "        vertical-align: top;\n",
       "    }\n",
       "\n",
       "    .dataframe thead th {\n",
       "        text-align: right;\n",
       "    }\n",
       "</style>\n",
       "<table border=\"1\" class=\"dataframe\">\n",
       "  <thead>\n",
       "    <tr style=\"text-align: right;\">\n",
       "      <th></th>\n",
       "      <th>Country/Region</th>\n",
       "      <th>Cases</th>\n",
       "      <th>Deaths</th>\n",
       "      <th>PCases</th>\n",
       "      <th>PDeaths</th>\n",
       "      <th>Cases (+)</th>\n",
       "      <th>Deaths (+)</th>\n",
       "      <th>Fatality Rate</th>\n",
       "      <th>Continent</th>\n",
       "    </tr>\n",
       "  </thead>\n",
       "  <tbody>\n",
       "    <tr>\n",
       "      <th>0</th>\n",
       "      <td>US</td>\n",
       "      <td>18230242</td>\n",
       "      <td>322765</td>\n",
       "      <td>18035209</td>\n",
       "      <td>319364</td>\n",
       "      <td>195033</td>\n",
       "      <td>3401</td>\n",
       "      <td>1.8</td>\n",
       "      <td>North America</td>\n",
       "    </tr>\n",
       "    <tr>\n",
       "      <th>1</th>\n",
       "      <td>India</td>\n",
       "      <td>10099066</td>\n",
       "      <td>146444</td>\n",
       "      <td>10075116</td>\n",
       "      <td>146111</td>\n",
       "      <td>23950</td>\n",
       "      <td>333</td>\n",
       "      <td>1.5</td>\n",
       "      <td>Asia</td>\n",
       "    </tr>\n",
       "    <tr>\n",
       "      <th>2</th>\n",
       "      <td>Brazil</td>\n",
       "      <td>7318821</td>\n",
       "      <td>188259</td>\n",
       "      <td>7263619</td>\n",
       "      <td>187291</td>\n",
       "      <td>55202</td>\n",
       "      <td>968</td>\n",
       "      <td>2.6</td>\n",
       "      <td>South America</td>\n",
       "    </tr>\n",
       "    <tr>\n",
       "      <th>3</th>\n",
       "      <td>Russia</td>\n",
       "      <td>2878382</td>\n",
       "      <td>51274</td>\n",
       "      <td>2850042</td>\n",
       "      <td>50723</td>\n",
       "      <td>28340</td>\n",
       "      <td>551</td>\n",
       "      <td>1.8</td>\n",
       "      <td>Europe</td>\n",
       "    </tr>\n",
       "    <tr>\n",
       "      <th>4</th>\n",
       "      <td>France</td>\n",
       "      <td>2547577</td>\n",
       "      <td>61821</td>\n",
       "      <td>2535716</td>\n",
       "      <td>61019</td>\n",
       "      <td>11861</td>\n",
       "      <td>802</td>\n",
       "      <td>2.4</td>\n",
       "      <td>Europe</td>\n",
       "    </tr>\n",
       "  </tbody>\n",
       "</table>\n",
       "</div>"
      ],
      "text/plain": [
       "  Country/Region     Cases  Deaths    PCases  PDeaths  Cases (+)  Deaths (+)  \\\n",
       "0             US  18230242  322765  18035209   319364     195033        3401   \n",
       "1          India  10099066  146444  10075116   146111      23950         333   \n",
       "2         Brazil   7318821  188259   7263619   187291      55202         968   \n",
       "3         Russia   2878382   51274   2850042    50723      28340         551   \n",
       "4         France   2547577   61821   2535716    61019      11861         802   \n",
       "\n",
       "   Fatality Rate      Continent  \n",
       "0            1.8  North America  \n",
       "1            1.5           Asia  \n",
       "2            2.6  South America  \n",
       "3            1.8         Europe  \n",
       "4            2.4         Europe  "
      ]
     },
     "execution_count": 15,
     "metadata": {},
     "output_type": "execute_result"
    }
   ],
   "source": [
    "#hide\n",
    "df_table = (pd.DataFrame(dict(Cases=dfc_cases, Deaths=dfc_deaths, PCases=dfp_cases, PDeaths=dfp_deaths))\n",
    "             .sort_values(by=['Cases', 'Deaths'], ascending=[False, False])\n",
    "             .reset_index())\n",
    "df_table.rename(columns={'index': 'Country/Region'}, inplace=True)\n",
    "for c in 'Cases, Deaths'.split(', '):\n",
    "    df_table[f'{c} (+)'] = (df_table[c] - df_table[f'P{c}']).clip(0)  # DATA BUG\n",
    "df_table['Fatality Rate'] = (100 * df_table['Deaths'] / df_table['Cases']).round(1)\n",
    "df_table['Continent'] = df_table['Country/Region'].map(mapping['map.continent'])\n",
    "df_table.head(5)"
   ]
  },
  {
   "cell_type": "code",
   "execution_count": 16,
   "metadata": {
    "execution": {
     "iopub.execute_input": "2020-12-23T12:10:29.290507Z",
     "iopub.status.busy": "2020-12-23T12:10:29.289970Z",
     "iopub.status.idle": "2020-12-23T12:10:29.293428Z",
     "shell.execute_reply": "2020-12-23T12:10:29.292875Z"
    },
    "papermill": {
     "duration": 0.040351,
     "end_time": "2020-12-23T12:10:29.293640",
     "exception": false,
     "start_time": "2020-12-23T12:10:29.253289",
     "status": "completed"
    },
    "tags": []
   },
   "outputs": [],
   "source": [
    "#hide\n",
    "#delete problematic countries from table\n",
    "df_table = df_table[~df_table['Country/Region'].isin(['Cape Verde', 'Cruise Ship', 'Kosovo'])]"
   ]
  },
  {
   "cell_type": "code",
   "execution_count": 17,
   "metadata": {
    "execution": {
     "iopub.execute_input": "2020-12-23T12:10:29.373902Z",
     "iopub.status.busy": "2020-12-23T12:10:29.373157Z",
     "iopub.status.idle": "2020-12-23T12:10:29.375719Z",
     "shell.execute_reply": "2020-12-23T12:10:29.375009Z"
    },
    "papermill": {
     "duration": 0.052743,
     "end_time": "2020-12-23T12:10:29.375835",
     "exception": false,
     "start_time": "2020-12-23T12:10:29.323092",
     "status": "completed"
    },
    "tags": []
   },
   "outputs": [],
   "source": [
    "#hide\n",
    "metrics = [df_table.columns[index] for index in [1,2,5,6]]\n",
    "# s_china = df_table[df_table['Country/Region'].eq('China')][metrics].sum().add_prefix('China ')\n",
    "s_us = df_table[df_table['Country/Region'].eq('US')][metrics].sum().add_prefix('US ')\n",
    "s_eu = df_table[df_table['Continent'].eq('Europe')][metrics].sum().add_prefix('EU ')\n",
    "s_ind = df_table[df_table['Country/Region'].eq('India')][metrics].sum().add_prefix('India ')\n",
    "summary = {'updated': pd.to_datetime(dt_today), 'since': pd.to_datetime(dt_yday)}\n",
    "summary = {'updated': pd.to_datetime(dt_today), 'since': pd.to_datetime(dt_yday)}\n",
    "summary = {**summary, **df_table[metrics].sum(), **s_ind, **s_us, **s_eu}"
   ]
  },
  {
   "cell_type": "code",
   "execution_count": 18,
   "metadata": {
    "execution": {
     "iopub.execute_input": "2020-12-23T12:10:29.442379Z",
     "iopub.status.busy": "2020-12-23T12:10:29.441740Z",
     "iopub.status.idle": "2020-12-23T12:10:29.453785Z",
     "shell.execute_reply": "2020-12-23T12:10:29.453155Z"
    },
    "papermill": {
     "duration": 0.047306,
     "end_time": "2020-12-23T12:10:29.453922",
     "exception": false,
     "start_time": "2020-12-23T12:10:29.406616",
     "status": "completed"
    },
    "tags": []
   },
   "outputs": [],
   "source": [
    "#hide\n",
    "dft_ct_new_cases = dft_cases.groupby(COL_REGION)[dt_cols].sum().diff(axis=1).fillna(0).astype(int)"
   ]
  },
  {
   "cell_type": "code",
   "execution_count": 19,
   "metadata": {
    "execution": {
     "iopub.execute_input": "2020-12-23T12:10:29.526593Z",
     "iopub.status.busy": "2020-12-23T12:10:29.526033Z",
     "iopub.status.idle": "2020-12-23T12:10:29.528943Z",
     "shell.execute_reply": "2020-12-23T12:10:29.528356Z"
    },
    "papermill": {
     "duration": 0.040677,
     "end_time": "2020-12-23T12:10:29.529077",
     "exception": false,
     "start_time": "2020-12-23T12:10:29.488400",
     "status": "completed"
    },
    "tags": []
   },
   "outputs": [],
   "source": [
    "#hide\n",
    "everydaycases = dft_ct_new_cases.cumsum(axis=1)"
   ]
  },
  {
   "cell_type": "code",
   "execution_count": 20,
   "metadata": {
    "execution": {
     "iopub.execute_input": "2020-12-23T12:10:29.594490Z",
     "iopub.status.busy": "2020-12-23T12:10:29.593793Z",
     "iopub.status.idle": "2020-12-23T12:10:31.621608Z",
     "shell.execute_reply": "2020-12-23T12:10:31.620453Z"
    },
    "papermill": {
     "duration": 2.061304,
     "end_time": "2020-12-23T12:10:31.621766",
     "exception": false,
     "start_time": "2020-12-23T12:10:29.560462",
     "status": "completed"
    },
    "tags": []
   },
   "outputs": [],
   "source": [
    "#hide\n",
    "import pandas as pd\n",
    "import matplotlib.pyplot as plt\n",
    "import matplotlib.ticker as ticker\n",
    "import matplotlib.animation as animation\n",
    "from IPython.display import HTML"
   ]
  },
  {
   "cell_type": "code",
   "execution_count": 21,
   "metadata": {
    "execution": {
     "iopub.execute_input": "2020-12-23T12:10:31.687352Z",
     "iopub.status.busy": "2020-12-23T12:10:31.686632Z",
     "iopub.status.idle": "2020-12-23T12:10:31.691649Z",
     "shell.execute_reply": "2020-12-23T12:10:31.691021Z"
    },
    "papermill": {
     "duration": 0.038625,
     "end_time": "2020-12-23T12:10:31.691783",
     "exception": false,
     "start_time": "2020-12-23T12:10:31.653158",
     "status": "completed"
    },
    "tags": []
   },
   "outputs": [],
   "source": [
    "#hide\n",
    "t = everydaycases.stack()"
   ]
  },
  {
   "cell_type": "code",
   "execution_count": 22,
   "metadata": {
    "execution": {
     "iopub.execute_input": "2020-12-23T12:10:31.761025Z",
     "iopub.status.busy": "2020-12-23T12:10:31.760508Z",
     "iopub.status.idle": "2020-12-23T12:10:31.766299Z",
     "shell.execute_reply": "2020-12-23T12:10:31.766835Z"
    },
    "papermill": {
     "duration": 0.040061,
     "end_time": "2020-12-23T12:10:31.766954",
     "exception": false,
     "start_time": "2020-12-23T12:10:31.726893",
     "status": "completed"
    },
    "tags": []
   },
   "outputs": [],
   "source": [
    "#hide\n",
    "g = t.reset_index(['Country/Region'])"
   ]
  },
  {
   "cell_type": "code",
   "execution_count": 23,
   "metadata": {
    "execution": {
     "iopub.execute_input": "2020-12-23T12:10:31.831475Z",
     "iopub.status.busy": "2020-12-23T12:10:31.830753Z",
     "iopub.status.idle": "2020-12-23T12:10:31.832925Z",
     "shell.execute_reply": "2020-12-23T12:10:31.833659Z"
    },
    "papermill": {
     "duration": 0.037269,
     "end_time": "2020-12-23T12:10:31.833850",
     "exception": false,
     "start_time": "2020-12-23T12:10:31.796581",
     "status": "completed"
    },
    "tags": []
   },
   "outputs": [],
   "source": [
    "#hide\n",
    "g.index.name = 'date'"
   ]
  },
  {
   "cell_type": "code",
   "execution_count": 24,
   "metadata": {
    "execution": {
     "iopub.execute_input": "2020-12-23T12:10:31.903223Z",
     "iopub.status.busy": "2020-12-23T12:10:31.902448Z",
     "iopub.status.idle": "2020-12-23T12:10:31.904646Z",
     "shell.execute_reply": "2020-12-23T12:10:31.905170Z"
    },
    "papermill": {
     "duration": 0.037704,
     "end_time": "2020-12-23T12:10:31.905294",
     "exception": false,
     "start_time": "2020-12-23T12:10:31.867590",
     "status": "completed"
    },
    "tags": []
   },
   "outputs": [],
   "source": [
    "# #hide\n",
    "# g = g.reset_index(['date'])"
   ]
  },
  {
   "cell_type": "code",
   "execution_count": 25,
   "metadata": {
    "execution": {
     "iopub.execute_input": "2020-12-23T12:10:31.972143Z",
     "iopub.status.busy": "2020-12-23T12:10:31.971379Z",
     "iopub.status.idle": "2020-12-23T12:10:31.975662Z",
     "shell.execute_reply": "2020-12-23T12:10:31.975146Z"
    },
    "papermill": {
     "duration": 0.039549,
     "end_time": "2020-12-23T12:10:31.975778",
     "exception": false,
     "start_time": "2020-12-23T12:10:31.936229",
     "status": "completed"
    },
    "tags": []
   },
   "outputs": [],
   "source": [
    "#hide\n",
    "# g.head()"
   ]
  },
  {
   "cell_type": "code",
   "execution_count": 26,
   "metadata": {
    "execution": {
     "iopub.execute_input": "2020-12-23T12:10:32.042046Z",
     "iopub.status.busy": "2020-12-23T12:10:32.041423Z",
     "iopub.status.idle": "2020-12-23T12:10:32.044140Z",
     "shell.execute_reply": "2020-12-23T12:10:32.043659Z"
    },
    "papermill": {
     "duration": 0.036504,
     "end_time": "2020-12-23T12:10:32.044249",
     "exception": false,
     "start_time": "2020-12-23T12:10:32.007745",
     "status": "completed"
    },
    "tags": []
   },
   "outputs": [],
   "source": [
    "#hide\n",
    "# g.columns = ['date','country','cases']"
   ]
  },
  {
   "cell_type": "code",
   "execution_count": 27,
   "metadata": {
    "execution": {
     "iopub.execute_input": "2020-12-23T12:10:32.112821Z",
     "iopub.status.busy": "2020-12-23T12:10:32.112198Z",
     "iopub.status.idle": "2020-12-23T12:10:32.115010Z",
     "shell.execute_reply": "2020-12-23T12:10:32.114276Z"
    },
    "papermill": {
     "duration": 0.038028,
     "end_time": "2020-12-23T12:10:32.115232",
     "exception": false,
     "start_time": "2020-12-23T12:10:32.077204",
     "status": "completed"
    },
    "tags": []
   },
   "outputs": [],
   "source": [
    "#hide\n",
    "# g['continent'] = g.country"
   ]
  },
  {
   "cell_type": "code",
   "execution_count": 28,
   "metadata": {
    "execution": {
     "iopub.execute_input": "2020-12-23T12:10:32.181704Z",
     "iopub.status.busy": "2020-12-23T12:10:32.181054Z",
     "iopub.status.idle": "2020-12-23T12:10:32.183694Z",
     "shell.execute_reply": "2020-12-23T12:10:32.183060Z"
    },
    "papermill": {
     "duration": 0.0358,
     "end_time": "2020-12-23T12:10:32.183873",
     "exception": false,
     "start_time": "2020-12-23T12:10:32.148073",
     "status": "completed"
    },
    "tags": []
   },
   "outputs": [],
   "source": [
    "#hide\n",
    "# cols = list(g.columns.values)"
   ]
  },
  {
   "cell_type": "code",
   "execution_count": 29,
   "metadata": {
    "execution": {
     "iopub.execute_input": "2020-12-23T12:10:32.255185Z",
     "iopub.status.busy": "2020-12-23T12:10:32.254601Z",
     "iopub.status.idle": "2020-12-23T12:10:32.257105Z",
     "shell.execute_reply": "2020-12-23T12:10:32.256658Z"
    },
    "papermill": {
     "duration": 0.036936,
     "end_time": "2020-12-23T12:10:32.257214",
     "exception": false,
     "start_time": "2020-12-23T12:10:32.220278",
     "status": "completed"
    },
    "tags": []
   },
   "outputs": [],
   "source": [
    "#hide\n",
    "# cols.insert(0, cols.pop())"
   ]
  },
  {
   "cell_type": "code",
   "execution_count": 30,
   "metadata": {
    "execution": {
     "iopub.execute_input": "2020-12-23T12:10:32.318769Z",
     "iopub.status.busy": "2020-12-23T12:10:32.318063Z",
     "iopub.status.idle": "2020-12-23T12:10:32.320541Z",
     "shell.execute_reply": "2020-12-23T12:10:32.320008Z"
    },
    "papermill": {
     "duration": 0.035628,
     "end_time": "2020-12-23T12:10:32.320728",
     "exception": false,
     "start_time": "2020-12-23T12:10:32.285100",
     "status": "completed"
    },
    "tags": []
   },
   "outputs": [],
   "source": [
    "#hide\n",
    "# g = g[cols]"
   ]
  },
  {
   "cell_type": "code",
   "execution_count": 31,
   "metadata": {
    "execution": {
     "iopub.execute_input": "2020-12-23T12:10:32.385982Z",
     "iopub.status.busy": "2020-12-23T12:10:32.385413Z",
     "iopub.status.idle": "2020-12-23T12:10:32.388051Z",
     "shell.execute_reply": "2020-12-23T12:10:32.387474Z"
    },
    "papermill": {
     "duration": 0.037379,
     "end_time": "2020-12-23T12:10:32.388199",
     "exception": false,
     "start_time": "2020-12-23T12:10:32.350820",
     "status": "completed"
    },
    "tags": []
   },
   "outputs": [],
   "source": [
    "#hide\n",
    "# g['continent'] = g['continent'].map(mapping['map.continent'])"
   ]
  },
  {
   "cell_type": "code",
   "execution_count": 32,
   "metadata": {
    "execution": {
     "iopub.execute_input": "2020-12-23T12:10:32.459020Z",
     "iopub.status.busy": "2020-12-23T12:10:32.458246Z",
     "iopub.status.idle": "2020-12-23T12:10:32.460375Z",
     "shell.execute_reply": "2020-12-23T12:10:32.461027Z"
    },
    "papermill": {
     "duration": 0.041769,
     "end_time": "2020-12-23T12:10:32.461177",
     "exception": false,
     "start_time": "2020-12-23T12:10:32.419408",
     "status": "completed"
    },
    "tags": []
   },
   "outputs": [],
   "source": [
    "#hide\n",
    "# g.head()"
   ]
  },
  {
   "cell_type": "code",
   "execution_count": 33,
   "metadata": {
    "execution": {
     "iopub.execute_input": "2020-12-23T12:10:32.536186Z",
     "iopub.status.busy": "2020-12-23T12:10:32.535484Z",
     "iopub.status.idle": "2020-12-23T12:10:32.538230Z",
     "shell.execute_reply": "2020-12-23T12:10:32.537710Z"
    },
    "papermill": {
     "duration": 0.041308,
     "end_time": "2020-12-23T12:10:32.538372",
     "exception": false,
     "start_time": "2020-12-23T12:10:32.497064",
     "status": "completed"
    },
    "tags": []
   },
   "outputs": [],
   "source": [
    "# hide\n",
    "# g['date'] = g['date'].astype('datetime64[ns]')"
   ]
  },
  {
   "cell_type": "code",
   "execution_count": 34,
   "metadata": {
    "execution": {
     "iopub.execute_input": "2020-12-23T12:10:32.601413Z",
     "iopub.status.busy": "2020-12-23T12:10:32.600860Z",
     "iopub.status.idle": "2020-12-23T12:10:32.603112Z",
     "shell.execute_reply": "2020-12-23T12:10:32.602659Z"
    },
    "papermill": {
     "duration": 0.035322,
     "end_time": "2020-12-23T12:10:32.603221",
     "exception": false,
     "start_time": "2020-12-23T12:10:32.567899",
     "status": "completed"
    },
    "tags": []
   },
   "outputs": [],
   "source": [
    "#hide\n",
    "# g['date'] = g.date.dt.dayofyear"
   ]
  },
  {
   "cell_type": "code",
   "execution_count": 35,
   "metadata": {
    "execution": {
     "iopub.execute_input": "2020-12-23T12:10:32.670225Z",
     "iopub.status.busy": "2020-12-23T12:10:32.669640Z",
     "iopub.status.idle": "2020-12-23T12:10:32.672468Z",
     "shell.execute_reply": "2020-12-23T12:10:32.671953Z"
    },
    "papermill": {
     "duration": 0.038896,
     "end_time": "2020-12-23T12:10:32.672581",
     "exception": false,
     "start_time": "2020-12-23T12:10:32.633685",
     "status": "completed"
    },
    "tags": []
   },
   "outputs": [],
   "source": [
    "#hide\n",
    "# g = g.rename(columns= {'continent':'group','country':'name','cases':'value'})"
   ]
  },
  {
   "cell_type": "code",
   "execution_count": 36,
   "metadata": {
    "execution": {
     "iopub.execute_input": "2020-12-23T12:10:32.741473Z",
     "iopub.status.busy": "2020-12-23T12:10:32.740650Z",
     "iopub.status.idle": "2020-12-23T12:10:32.742301Z",
     "shell.execute_reply": "2020-12-23T12:10:32.742926Z"
    },
    "papermill": {
     "duration": 0.038929,
     "end_time": "2020-12-23T12:10:32.743083",
     "exception": false,
     "start_time": "2020-12-23T12:10:32.704154",
     "status": "completed"
    },
    "tags": []
   },
   "outputs": [],
   "source": [
    "#hide\n",
    "# cols = ['name','group','day','value']"
   ]
  },
  {
   "cell_type": "code",
   "execution_count": 37,
   "metadata": {
    "execution": {
     "iopub.execute_input": "2020-12-23T12:10:32.812715Z",
     "iopub.status.busy": "2020-12-23T12:10:32.812145Z",
     "iopub.status.idle": "2020-12-23T12:10:32.814040Z",
     "shell.execute_reply": "2020-12-23T12:10:32.814508Z"
    },
    "papermill": {
     "duration": 0.038891,
     "end_time": "2020-12-23T12:10:32.814636",
     "exception": false,
     "start_time": "2020-12-23T12:10:32.775745",
     "status": "completed"
    },
    "tags": []
   },
   "outputs": [],
   "source": [
    "#hide\n",
    "# g.rename(columns= {'date':'day'},inplace = True)"
   ]
  },
  {
   "cell_type": "code",
   "execution_count": 38,
   "metadata": {
    "execution": {
     "iopub.execute_input": "2020-12-23T12:10:32.885460Z",
     "iopub.status.busy": "2020-12-23T12:10:32.884675Z",
     "iopub.status.idle": "2020-12-23T12:10:32.887154Z",
     "shell.execute_reply": "2020-12-23T12:10:32.887725Z"
    },
    "papermill": {
     "duration": 0.039065,
     "end_time": "2020-12-23T12:10:32.887881",
     "exception": false,
     "start_time": "2020-12-23T12:10:32.848816",
     "status": "completed"
    },
    "tags": []
   },
   "outputs": [],
   "source": [
    "#hide\n",
    "# g = g[cols]"
   ]
  },
  {
   "cell_type": "code",
   "execution_count": 39,
   "metadata": {
    "execution": {
     "iopub.execute_input": "2020-12-23T12:10:32.959494Z",
     "iopub.status.busy": "2020-12-23T12:10:32.958925Z",
     "iopub.status.idle": "2020-12-23T12:10:32.964771Z",
     "shell.execute_reply": "2020-12-23T12:10:32.965389Z"
    },
    "papermill": {
     "duration": 0.04298,
     "end_time": "2020-12-23T12:10:32.965611",
     "exception": false,
     "start_time": "2020-12-23T12:10:32.922631",
     "status": "completed"
    },
    "tags": []
   },
   "outputs": [],
   "source": [
    "# #hide\n",
    "# g = g[g.group.notna()]"
   ]
  },
  {
   "cell_type": "code",
   "execution_count": 40,
   "metadata": {
    "execution": {
     "iopub.execute_input": "2020-12-23T12:10:33.171974Z",
     "iopub.status.busy": "2020-12-23T12:10:33.171316Z",
     "iopub.status.idle": "2020-12-23T12:10:33.173467Z",
     "shell.execute_reply": "2020-12-23T12:10:33.173949Z"
    },
    "papermill": {
     "duration": 0.172092,
     "end_time": "2020-12-23T12:10:33.174099",
     "exception": false,
     "start_time": "2020-12-23T12:10:33.002007",
     "status": "completed"
    },
    "tags": []
   },
   "outputs": [],
   "source": [
    "# #hide\n",
    "# colors = dict(zip(\n",
    "#     [\"Oceania\", \"Europe\", \"Asia\", \"South America\", \"Middle East\", \"North America\", \"Africa\"],\n",
    "#     [\"#adb0ff\", \"#ffb3ff\", \"#90d595\", \"#e48381\", \"#aafbff\", \"#f7bb5f\", \"#eafb50\"]\n",
    "# ))\n",
    "# group_lk = g.set_index('name')['group'].to_dict()"
   ]
  },
  {
   "cell_type": "code",
   "execution_count": null,
   "metadata": {
    "papermill": {
     "duration": 0.045957,
     "end_time": "2020-12-23T12:10:33.506569",
     "exception": false,
     "start_time": "2020-12-23T12:10:33.460612",
     "status": "completed"
    },
    "tags": []
   },
   "outputs": [],
   "source": []
  },
  {
   "cell_type": "code",
   "execution_count": 41,
   "metadata": {
    "execution": {
     "iopub.execute_input": "2020-12-23T12:10:33.586060Z",
     "iopub.status.busy": "2020-12-23T12:10:33.585358Z",
     "iopub.status.idle": "2020-12-23T12:10:33.587317Z",
     "shell.execute_reply": "2020-12-23T12:10:33.587849Z"
    },
    "papermill": {
     "duration": 0.042315,
     "end_time": "2020-12-23T12:10:33.587988",
     "exception": false,
     "start_time": "2020-12-23T12:10:33.545673",
     "status": "completed"
    },
    "tags": []
   },
   "outputs": [],
   "source": [
    "# #hide\n",
    "# fig, ax = plt.subplots(figsize=(15, 8))\n",
    "\n",
    "# def draw_barchart(current_day):\n",
    "#     dff = g[g['day'].eq(current_day)].sort_values(by='value', ascending=True).tail(10)\n",
    "#     ax.clear()\n",
    "#     ax.barh(dff['name'], dff['value'], color=[colors[group_lk[x]] for x in dff['name']])\n",
    "#     dx = dff['value'].max() / 200\n",
    "    \n",
    "#     for i, (value, name) in enumerate(zip(dff['value'], dff['name'])):\n",
    "#         ax.text(value-dx, i,     name,           size=14, weight=600, ha='right', va='bottom')\n",
    "#         ax.text(value-dx, i-.25, group_lk[name], size=10, color='#444444', ha='right', va='baseline')\n",
    "#         ax.text(value+dx, i,     f'{value:,.0f}',  size=14, ha='left',  va='center')\n",
    "#     ax.text(1, 0.4, current_day, transform=ax.transAxes, color='#777777', size=46, ha='right', weight=800)\n",
    "#     ax.text(0, 1.06, 'Population (thousands)', transform=ax.transAxes, size=12, color='#777777')\n",
    "#     ax.xaxis.set_major_formatter(ticker.StrMethodFormatter('{x:,.0f}'))\n",
    "#     ax.xaxis.set_ticks_position('top')\n",
    "#     ax.tick_params(axis='x', colors='#777777', labelsize=12)\n",
    "#     ax.set_yticks([])\n",
    "#     ax.margins(0, 0.01)\n",
    "#     ax.grid(which='major', axis='x', linestyle='-')\n",
    "#     ax.set_axisbelow(True)\n",
    "    \n",
    "#     ax.text(0, 1.15, 'Coronavirus',\n",
    "#             transform=ax.transAxes, size=24, weight=600, ha='left', va='top')\n",
    "# #     ax.text(1, 0, 'by @pratapvardhan; credit @jburnmurdoch', transform=ax.transAxes, color='#777777', ha='right',\n",
    "# #             bbox=dict(facecolor='white', alpha=0.8, edgecolor='white'))\n",
    "#     plt.box(False)"
   ]
  },
  {
   "cell_type": "code",
   "execution_count": 42,
   "metadata": {
    "execution": {
     "iopub.execute_input": "2020-12-23T12:10:33.652150Z",
     "iopub.status.busy": "2020-12-23T12:10:33.651579Z",
     "iopub.status.idle": "2020-12-23T12:10:33.654062Z",
     "shell.execute_reply": "2020-12-23T12:10:33.653609Z"
    },
    "papermill": {
     "duration": 0.036071,
     "end_time": "2020-12-23T12:10:33.654167",
     "exception": false,
     "start_time": "2020-12-23T12:10:33.618096",
     "status": "completed"
    },
    "tags": []
   },
   "outputs": [],
   "source": [
    "# #hide_input\n",
    "# fig, ax = plt.subplots(figsize=(15, 8))\n",
    "# animator = animation.FuncAnimation(fig, draw_barchart, frames=range(g.day.values.min(), g.day.values.max()))\n",
    "# HTML(animator.to_jshtml())\n",
    "# # or use animator.to_html5_video() or animator.save() "
   ]
  },
  {
   "cell_type": "code",
   "execution_count": null,
   "metadata": {
    "papermill": {
     "duration": 0.030589,
     "end_time": "2020-12-23T12:10:33.715708",
     "exception": false,
     "start_time": "2020-12-23T12:10:33.685119",
     "status": "completed"
    },
    "tags": []
   },
   "outputs": [],
   "source": []
  },
  {
   "cell_type": "code",
   "execution_count": null,
   "metadata": {
    "papermill": {
     "duration": 0.028571,
     "end_time": "2020-12-23T12:10:33.775289",
     "exception": false,
     "start_time": "2020-12-23T12:10:33.746718",
     "status": "completed"
    },
    "tags": []
   },
   "outputs": [],
   "source": []
  },
  {
   "cell_type": "code",
   "execution_count": null,
   "metadata": {
    "papermill": {
     "duration": 0.030812,
     "end_time": "2020-12-23T12:10:33.836952",
     "exception": false,
     "start_time": "2020-12-23T12:10:33.806140",
     "status": "completed"
    },
    "tags": []
   },
   "outputs": [],
   "source": []
  }
 ],
 "metadata": {
  "kernelspec": {
   "display_name": "Python 3",
   "language": "python",
   "name": "python3"
  },
  "language_info": {
   "codemirror_mode": {
    "name": "ipython",
    "version": 3
   },
   "file_extension": ".py",
   "mimetype": "text/x-python",
   "name": "python",
   "nbconvert_exporter": "python",
   "pygments_lexer": "ipython3",
   "version": "3.6.12"
  },
  "papermill": {
   "duration": 7.864846,
   "end_time": "2020-12-23T12:10:34.175926",
   "environment_variables": {},
   "exception": null,
   "input_path": "2020-03-21-covid19exp.ipynb",
   "output_path": "2020-03-21-covid19exp.ipynb",
   "parameters": {},
   "start_time": "2020-12-23T12:10:26.311080",
   "version": "2.0.0"
  }
 },
 "nbformat": 4,
 "nbformat_minor": 4
}