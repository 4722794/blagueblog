{
 "cells": [
  {
   "cell_type": "markdown",
   "id": "muslim-click",
   "metadata": {
    "papermill": {
     "duration": 0.043313,
     "end_time": "2021-11-15T12:12:39.764335",
     "exception": false,
     "start_time": "2021-11-15T12:12:39.721022",
     "status": "completed"
    },
    "tags": []
   },
   "source": [
    "# COVID-19 Case Race\n",
    "> A race chart to see rising cases around the world\n",
    "\n",
    "- author: Hargun Oberoi\n",
    "- image: images/covid-overview.png\n",
    "- hide: false\n",
    "- badges: false"
   ]
  },
  {
   "cell_type": "code",
   "execution_count": 1,
   "id": "proof-material",
   "metadata": {
    "execution": {
     "iopub.execute_input": "2021-11-15T12:12:39.846361Z",
     "iopub.status.busy": "2021-11-15T12:12:39.845681Z",
     "iopub.status.idle": "2021-11-15T12:12:40.231044Z",
     "shell.execute_reply": "2021-11-15T12:12:40.231475Z"
    },
    "papermill": {
     "duration": 0.431476,
     "end_time": "2021-11-15T12:12:40.231711",
     "exception": false,
     "start_time": "2021-11-15T12:12:39.800235",
     "status": "completed"
    },
    "tags": []
   },
   "outputs": [],
   "source": [
    "#hide\n",
    "import numpy as np\n",
    "import pandas as pd\n",
    "from jinja2 import Template\n",
    "from IPython.display import HTML"
   ]
  },
  {
   "cell_type": "code",
   "execution_count": 2,
   "id": "developed-terminology",
   "metadata": {
    "execution": {
     "iopub.execute_input": "2021-11-15T12:12:40.312398Z",
     "iopub.status.busy": "2021-11-15T12:12:40.311622Z",
     "iopub.status.idle": "2021-11-15T12:12:40.314206Z",
     "shell.execute_reply": "2021-11-15T12:12:40.313599Z"
    },
    "papermill": {
     "duration": 0.044574,
     "end_time": "2021-11-15T12:12:40.314323",
     "exception": false,
     "start_time": "2021-11-15T12:12:40.269749",
     "status": "completed"
    },
    "tags": []
   },
   "outputs": [],
   "source": [
    "#hide\n",
    "\n",
    "# FETCH\n",
    "base_url = 'https://raw.githubusercontent.com/pratapvardhan/notebooks/master/covid19/'\n",
    "paths = {\n",
    "    'mapping': base_url + 'mapping_countries.csv',\n",
    "    'overview': base_url + 'overview.tpl'\n",
    "}"
   ]
  },
  {
   "cell_type": "code",
   "execution_count": 3,
   "id": "dynamic-saver",
   "metadata": {
    "execution": {
     "iopub.execute_input": "2021-11-15T12:12:40.398388Z",
     "iopub.status.busy": "2021-11-15T12:12:40.397678Z",
     "iopub.status.idle": "2021-11-15T12:12:40.401475Z",
     "shell.execute_reply": "2021-11-15T12:12:40.400906Z"
    },
    "papermill": {
     "duration": 0.050928,
     "end_time": "2021-11-15T12:12:40.401592",
     "exception": false,
     "start_time": "2021-11-15T12:12:40.350664",
     "status": "completed"
    },
    "tags": []
   },
   "outputs": [
    {
     "data": {
      "text/plain": [
       "'https://raw.githubusercontent.com/pratapvardhan/notebooks/master/covid19/mapping_countries.csv'"
      ]
     },
     "execution_count": 3,
     "metadata": {},
     "output_type": "execute_result"
    }
   ],
   "source": [
    "#hide\n",
    "paths['mapping']"
   ]
  },
  {
   "cell_type": "code",
   "execution_count": 4,
   "id": "urban-software",
   "metadata": {
    "execution": {
     "iopub.execute_input": "2021-11-15T12:12:40.479517Z",
     "iopub.status.busy": "2021-11-15T12:12:40.478867Z",
     "iopub.status.idle": "2021-11-15T12:12:40.481371Z",
     "shell.execute_reply": "2021-11-15T12:12:40.480661Z"
    },
    "papermill": {
     "duration": 0.042645,
     "end_time": "2021-11-15T12:12:40.481487",
     "exception": false,
     "start_time": "2021-11-15T12:12:40.438842",
     "status": "completed"
    },
    "tags": []
   },
   "outputs": [],
   "source": [
    "#hide\n",
    "def get_mappings(url):\n",
    "    df = pd.read_csv(url)\n",
    "    return {\n",
    "        'df': df,\n",
    "        'replace.country': dict(df.dropna(subset=['Name']).set_index('Country')['Name']),\n",
    "        'map.continent': dict(df.set_index('Name')['Continent'])\n",
    "    }"
   ]
  },
  {
   "cell_type": "code",
   "execution_count": 5,
   "id": "intimate-machinery",
   "metadata": {
    "execution": {
     "iopub.execute_input": "2021-11-15T12:12:40.562004Z",
     "iopub.status.busy": "2021-11-15T12:12:40.561294Z",
     "iopub.status.idle": "2021-11-15T12:12:40.601530Z",
     "shell.execute_reply": "2021-11-15T12:12:40.602157Z"
    },
    "papermill": {
     "duration": 0.083656,
     "end_time": "2021-11-15T12:12:40.602302",
     "exception": false,
     "start_time": "2021-11-15T12:12:40.518646",
     "status": "completed"
    },
    "tags": []
   },
   "outputs": [],
   "source": [
    "#hide\n",
    "mapping = get_mappings(paths['mapping'])"
   ]
  },
  {
   "cell_type": "code",
   "execution_count": 6,
   "id": "certified-tactics",
   "metadata": {
    "execution": {
     "iopub.execute_input": "2021-11-15T12:12:40.680519Z",
     "iopub.status.busy": "2021-11-15T12:12:40.679623Z",
     "iopub.status.idle": "2021-11-15T12:12:40.684952Z",
     "shell.execute_reply": "2021-11-15T12:12:40.685416Z"
    },
    "papermill": {
     "duration": 0.045132,
     "end_time": "2021-11-15T12:12:40.685537",
     "exception": false,
     "start_time": "2021-11-15T12:12:40.640405",
     "status": "completed"
    },
    "tags": []
   },
   "outputs": [],
   "source": [
    "#hide\n",
    "def get_template(path):\n",
    "    from urllib.parse import urlparse\n",
    "    if bool(urlparse(path).netloc):\n",
    "        from urllib.request import urlopen\n",
    "        return urlopen(path).read().decode('utf8')\n",
    "    return open(path).read()"
   ]
  },
  {
   "cell_type": "code",
   "execution_count": 7,
   "id": "realistic-blast",
   "metadata": {
    "execution": {
     "iopub.execute_input": "2021-11-15T12:12:40.764053Z",
     "iopub.status.busy": "2021-11-15T12:12:40.763367Z",
     "iopub.status.idle": "2021-11-15T12:12:40.765909Z",
     "shell.execute_reply": "2021-11-15T12:12:40.765359Z"
    },
    "papermill": {
     "duration": 0.042929,
     "end_time": "2021-11-15T12:12:40.766047",
     "exception": false,
     "start_time": "2021-11-15T12:12:40.723118",
     "status": "completed"
    },
    "tags": []
   },
   "outputs": [],
   "source": [
    "#hide\n",
    "def get_frame(name):\n",
    "    url = (\n",
    "        'https://raw.githubusercontent.com/CSSEGISandData/COVID-19/master/csse_covid_19_data/'\n",
    "        f'csse_covid_19_time_series/time_series_covid19_{name}_global.csv')\n",
    "    df = pd.read_csv(url)\n",
    "    # rename countries\n",
    "    df['Country/Region'] = df['Country/Region'].replace(mapping['replace.country'])\n",
    "    return df"
   ]
  },
  {
   "cell_type": "code",
   "execution_count": 8,
   "id": "affiliated-characterization",
   "metadata": {
    "execution": {
     "iopub.execute_input": "2021-11-15T12:12:40.848255Z",
     "iopub.status.busy": "2021-11-15T12:12:40.847527Z",
     "iopub.status.idle": "2021-11-15T12:12:40.849210Z",
     "shell.execute_reply": "2021-11-15T12:12:40.849797Z"
    },
    "papermill": {
     "duration": 0.046769,
     "end_time": "2021-11-15T12:12:40.849944",
     "exception": false,
     "start_time": "2021-11-15T12:12:40.803175",
     "status": "completed"
    },
    "tags": []
   },
   "outputs": [],
   "source": [
    "#hide\n",
    "def get_dates(df):\n",
    "    dt_cols = df.columns[~df.columns.isin(['Province/State', 'Country/Region', 'Lat', 'Long'])]\n",
    "    LAST_DATE_I = -1\n",
    "    # sometimes last column may be empty, then go backwards\n",
    "    for i in range(-1, -len(dt_cols), -1):\n",
    "        if not df[dt_cols[i]].fillna(0).eq(0).all():\n",
    "            LAST_DATE_I = i\n",
    "            break\n",
    "    return LAST_DATE_I, dt_cols"
   ]
  },
  {
   "cell_type": "code",
   "execution_count": 9,
   "id": "recent-optimization",
   "metadata": {
    "execution": {
     "iopub.execute_input": "2021-11-15T12:12:40.933004Z",
     "iopub.status.busy": "2021-11-15T12:12:40.932216Z",
     "iopub.status.idle": "2021-11-15T12:12:41.360333Z",
     "shell.execute_reply": "2021-11-15T12:12:41.359857Z"
    },
    "papermill": {
     "duration": 0.47041,
     "end_time": "2021-11-15T12:12:41.360515",
     "exception": false,
     "start_time": "2021-11-15T12:12:40.890105",
     "status": "completed"
    },
    "tags": []
   },
   "outputs": [],
   "source": [
    "#hide\n",
    "COL_REGION = 'Country/Region'\n",
    "# Confirmed, Recovered, Deaths\n",
    "df = get_frame('confirmed')\n",
    "# dft_: timeseries, dfc_: today country agg\n",
    "dft_cases = df\n",
    "dft_deaths = get_frame('deaths')\n",
    "dft_recovered = get_frame('recovered')\n",
    "LAST_DATE_I, dt_cols = get_dates(df)"
   ]
  },
  {
   "cell_type": "code",
   "execution_count": 10,
   "id": "absolute-copper",
   "metadata": {
    "execution": {
     "iopub.execute_input": "2021-11-15T12:12:41.441057Z",
     "iopub.status.busy": "2021-11-15T12:12:41.440334Z",
     "iopub.status.idle": "2021-11-15T12:12:41.444803Z",
     "shell.execute_reply": "2021-11-15T12:12:41.444295Z"
    },
    "papermill": {
     "duration": 0.045282,
     "end_time": "2021-11-15T12:12:41.444941",
     "exception": false,
     "start_time": "2021-11-15T12:12:41.399659",
     "status": "completed"
    },
    "tags": []
   },
   "outputs": [],
   "source": [
    "#hide\n",
    "LAST_DATE_I, dt_cols = get_dates(df)\n",
    "dt_today =dt_cols[LAST_DATE_I]\n",
    "# dt_5day = dt_cols[LAST_DATE_I - 5]\n",
    "dt_yday = dt_cols[LAST_DATE_I - 1]"
   ]
  },
  {
   "cell_type": "code",
   "execution_count": 11,
   "id": "restricted-sheriff",
   "metadata": {
    "execution": {
     "iopub.execute_input": "2021-11-15T12:12:41.524596Z",
     "iopub.status.busy": "2021-11-15T12:12:41.523959Z",
     "iopub.status.idle": "2021-11-15T12:12:41.533271Z",
     "shell.execute_reply": "2021-11-15T12:12:41.532780Z"
    },
    "papermill": {
     "duration": 0.051578,
     "end_time": "2021-11-15T12:12:41.533406",
     "exception": false,
     "start_time": "2021-11-15T12:12:41.481828",
     "status": "completed"
    },
    "tags": []
   },
   "outputs": [],
   "source": [
    "#hide\n",
    "dfc_cases = dft_cases.groupby(COL_REGION)[dt_today].sum()\n",
    "dfc_deaths = dft_deaths.groupby(COL_REGION)[dt_today].sum()\n",
    "# dfp_cases = dft_cases.groupby(COL_REGION)[dt_5day].sum()\n",
    "# dfp_deaths = dft_deaths.groupby(COL_REGION)[dt_5day].sum()\n",
    "dfp_cases = dft_cases.groupby(COL_REGION)[dt_yday].sum()\n",
    "dfp_deaths = dft_deaths.groupby(COL_REGION)[dt_yday].sum()"
   ]
  },
  {
   "cell_type": "code",
   "execution_count": 12,
   "id": "deluxe-hepatitis",
   "metadata": {
    "execution": {
     "iopub.execute_input": "2021-11-15T12:12:41.614204Z",
     "iopub.status.busy": "2021-11-15T12:12:41.613541Z",
     "iopub.status.idle": "2021-11-15T12:12:41.621369Z",
     "shell.execute_reply": "2021-11-15T12:12:41.620784Z"
    },
    "papermill": {
     "duration": 0.050469,
     "end_time": "2021-11-15T12:12:41.621488",
     "exception": false,
     "start_time": "2021-11-15T12:12:41.571019",
     "status": "completed"
    },
    "tags": []
   },
   "outputs": [],
   "source": [
    "#hide\n",
    "df_table = (pd.DataFrame(dict(Cases = dfc_cases, Deaths = dfc_deaths, PCases = dfp_cases, PDeaths = dfp_deaths))\n",
    "            .sort_values(by = ['Cases','Deaths'], ascending = [False, False])\n",
    "            .reset_index())"
   ]
  },
  {
   "cell_type": "code",
   "execution_count": 13,
   "id": "educational-chancellor",
   "metadata": {
    "execution": {
     "iopub.execute_input": "2021-11-15T12:12:41.714639Z",
     "iopub.status.busy": "2021-11-15T12:12:41.713814Z",
     "iopub.status.idle": "2021-11-15T12:12:41.722953Z",
     "shell.execute_reply": "2021-11-15T12:12:41.723552Z"
    },
    "papermill": {
     "duration": 0.066757,
     "end_time": "2021-11-15T12:12:41.723677",
     "exception": false,
     "start_time": "2021-11-15T12:12:41.656920",
     "status": "completed"
    },
    "tags": []
   },
   "outputs": [
    {
     "data": {
      "text/html": [
       "<div>\n",
       "<style scoped>\n",
       "    .dataframe tbody tr th:only-of-type {\n",
       "        vertical-align: middle;\n",
       "    }\n",
       "\n",
       "    .dataframe tbody tr th {\n",
       "        vertical-align: top;\n",
       "    }\n",
       "\n",
       "    .dataframe thead th {\n",
       "        text-align: right;\n",
       "    }\n",
       "</style>\n",
       "<table border=\"1\" class=\"dataframe\">\n",
       "  <thead>\n",
       "    <tr style=\"text-align: right;\">\n",
       "      <th></th>\n",
       "      <th>Country/Region</th>\n",
       "      <th>Cases</th>\n",
       "      <th>Deaths</th>\n",
       "      <th>PCases</th>\n",
       "      <th>PDeaths</th>\n",
       "      <th>Cases (+)</th>\n",
       "      <th>Deaths (+)</th>\n",
       "      <th>Fatality Rate</th>\n",
       "      <th>Continent</th>\n",
       "    </tr>\n",
       "  </thead>\n",
       "  <tbody>\n",
       "    <tr>\n",
       "      <th>0</th>\n",
       "      <td>US</td>\n",
       "      <td>47074080</td>\n",
       "      <td>763092</td>\n",
       "      <td>47050502</td>\n",
       "      <td>762972</td>\n",
       "      <td>23578</td>\n",
       "      <td>120</td>\n",
       "      <td>1.62</td>\n",
       "      <td>North America</td>\n",
       "    </tr>\n",
       "    <tr>\n",
       "      <th>1</th>\n",
       "      <td>India</td>\n",
       "      <td>34447536</td>\n",
       "      <td>463655</td>\n",
       "      <td>34437307</td>\n",
       "      <td>463530</td>\n",
       "      <td>10229</td>\n",
       "      <td>125</td>\n",
       "      <td>1.35</td>\n",
       "      <td>Asia</td>\n",
       "    </tr>\n",
       "    <tr>\n",
       "      <th>2</th>\n",
       "      <td>Brazil</td>\n",
       "      <td>21957967</td>\n",
       "      <td>611283</td>\n",
       "      <td>21953838</td>\n",
       "      <td>611222</td>\n",
       "      <td>4129</td>\n",
       "      <td>61</td>\n",
       "      <td>2.78</td>\n",
       "      <td>South America</td>\n",
       "    </tr>\n",
       "    <tr>\n",
       "      <th>3</th>\n",
       "      <td>United Kingdom</td>\n",
       "      <td>9608568</td>\n",
       "      <td>143337</td>\n",
       "      <td>9572351</td>\n",
       "      <td>143274</td>\n",
       "      <td>36217</td>\n",
       "      <td>63</td>\n",
       "      <td>1.49</td>\n",
       "      <td>Europe</td>\n",
       "    </tr>\n",
       "    <tr>\n",
       "      <th>4</th>\n",
       "      <td>Russia</td>\n",
       "      <td>8918926</td>\n",
       "      <td>250609</td>\n",
       "      <td>8881306</td>\n",
       "      <td>249415</td>\n",
       "      <td>37620</td>\n",
       "      <td>1194</td>\n",
       "      <td>2.81</td>\n",
       "      <td>Europe</td>\n",
       "    </tr>\n",
       "  </tbody>\n",
       "</table>\n",
       "</div>"
      ],
      "text/plain": [
       "   Country/Region     Cases  Deaths    PCases  PDeaths  Cases (+)  Deaths (+)  \\\n",
       "0              US  47074080  763092  47050502   762972      23578         120   \n",
       "1           India  34447536  463655  34437307   463530      10229         125   \n",
       "2          Brazil  21957967  611283  21953838   611222       4129          61   \n",
       "3  United Kingdom   9608568  143337   9572351   143274      36217          63   \n",
       "4          Russia   8918926  250609   8881306   249415      37620        1194   \n",
       "\n",
       "   Fatality Rate      Continent  \n",
       "0           1.62  North America  \n",
       "1           1.35           Asia  \n",
       "2           2.78  South America  \n",
       "3           1.49         Europe  \n",
       "4           2.81         Europe  "
      ]
     },
     "execution_count": 13,
     "metadata": {},
     "output_type": "execute_result"
    }
   ],
   "source": [
    "#hide\n",
    "for c in 'Cases, Deaths'.split(', '):\n",
    "    df_table[f'{c} (+)'] = (df_table[c] - df_table[f'P{c}']).clip(0)\n",
    "    #Clip ça veut dire, les chiffres negatif sont interdit\n",
    "df_table['Fatality Rate'] = (100* df_table['Deaths']/ df_table['Cases']).round(2)\n",
    "df_table['Continent'] = df_table['Country/Region'].map(mapping['map.continent'])\n",
    "df_table.head(5)"
   ]
  },
  {
   "cell_type": "code",
   "execution_count": 14,
   "id": "aboriginal-bulgaria",
   "metadata": {
    "execution": {
     "iopub.execute_input": "2021-11-15T12:12:41.806277Z",
     "iopub.status.busy": "2021-11-15T12:12:41.805602Z",
     "iopub.status.idle": "2021-11-15T12:12:41.809203Z",
     "shell.execute_reply": "2021-11-15T12:12:41.808757Z"
    },
    "papermill": {
     "duration": 0.045295,
     "end_time": "2021-11-15T12:12:41.809359",
     "exception": false,
     "start_time": "2021-11-15T12:12:41.764064",
     "status": "completed"
    },
    "tags": []
   },
   "outputs": [],
   "source": [
    "#hide\n",
    "#delete problematic countries from table\n",
    "df_table = df_table[~df_table['Country/Region'].isin(['Cape Verde', 'Cruise Ship', 'Kosovo'])]"
   ]
  },
  {
   "cell_type": "code",
   "execution_count": 15,
   "id": "fantastic-effect",
   "metadata": {
    "execution": {
     "iopub.execute_input": "2021-11-15T12:12:41.892125Z",
     "iopub.status.busy": "2021-11-15T12:12:41.891487Z",
     "iopub.status.idle": "2021-11-15T12:12:41.916221Z",
     "shell.execute_reply": "2021-11-15T12:12:41.915743Z"
    },
    "papermill": {
     "duration": 0.06932,
     "end_time": "2021-11-15T12:12:41.916399",
     "exception": false,
     "start_time": "2021-11-15T12:12:41.847079",
     "status": "completed"
    },
    "tags": []
   },
   "outputs": [
    {
     "data": {
      "text/html": [
       "<div>\n",
       "<style scoped>\n",
       "    .dataframe tbody tr th:only-of-type {\n",
       "        vertical-align: middle;\n",
       "    }\n",
       "\n",
       "    .dataframe tbody tr th {\n",
       "        vertical-align: top;\n",
       "    }\n",
       "\n",
       "    .dataframe thead th {\n",
       "        text-align: right;\n",
       "    }\n",
       "</style>\n",
       "<table border=\"1\" class=\"dataframe\">\n",
       "  <thead>\n",
       "    <tr style=\"text-align: right;\">\n",
       "      <th></th>\n",
       "      <th>Country/Region</th>\n",
       "      <th>Cases</th>\n",
       "      <th>Deaths</th>\n",
       "      <th>PCases</th>\n",
       "      <th>PDeaths</th>\n",
       "      <th>Cases (+)</th>\n",
       "      <th>Deaths (+)</th>\n",
       "      <th>Fatality Rate</th>\n",
       "      <th>Continent</th>\n",
       "    </tr>\n",
       "  </thead>\n",
       "  <tbody>\n",
       "    <tr>\n",
       "      <th>0</th>\n",
       "      <td>US</td>\n",
       "      <td>47074080</td>\n",
       "      <td>763092</td>\n",
       "      <td>47050502</td>\n",
       "      <td>762972</td>\n",
       "      <td>23578</td>\n",
       "      <td>120</td>\n",
       "      <td>1.6</td>\n",
       "      <td>North America</td>\n",
       "    </tr>\n",
       "    <tr>\n",
       "      <th>1</th>\n",
       "      <td>India</td>\n",
       "      <td>34447536</td>\n",
       "      <td>463655</td>\n",
       "      <td>34437307</td>\n",
       "      <td>463530</td>\n",
       "      <td>10229</td>\n",
       "      <td>125</td>\n",
       "      <td>1.3</td>\n",
       "      <td>Asia</td>\n",
       "    </tr>\n",
       "    <tr>\n",
       "      <th>2</th>\n",
       "      <td>Brazil</td>\n",
       "      <td>21957967</td>\n",
       "      <td>611283</td>\n",
       "      <td>21953838</td>\n",
       "      <td>611222</td>\n",
       "      <td>4129</td>\n",
       "      <td>61</td>\n",
       "      <td>2.8</td>\n",
       "      <td>South America</td>\n",
       "    </tr>\n",
       "    <tr>\n",
       "      <th>3</th>\n",
       "      <td>United Kingdom</td>\n",
       "      <td>9608568</td>\n",
       "      <td>143337</td>\n",
       "      <td>9572351</td>\n",
       "      <td>143274</td>\n",
       "      <td>36217</td>\n",
       "      <td>63</td>\n",
       "      <td>1.5</td>\n",
       "      <td>Europe</td>\n",
       "    </tr>\n",
       "    <tr>\n",
       "      <th>4</th>\n",
       "      <td>Russia</td>\n",
       "      <td>8918926</td>\n",
       "      <td>250609</td>\n",
       "      <td>8881306</td>\n",
       "      <td>249415</td>\n",
       "      <td>37620</td>\n",
       "      <td>1194</td>\n",
       "      <td>2.8</td>\n",
       "      <td>Europe</td>\n",
       "    </tr>\n",
       "  </tbody>\n",
       "</table>\n",
       "</div>"
      ],
      "text/plain": [
       "   Country/Region     Cases  Deaths    PCases  PDeaths  Cases (+)  Deaths (+)  \\\n",
       "0              US  47074080  763092  47050502   762972      23578         120   \n",
       "1           India  34447536  463655  34437307   463530      10229         125   \n",
       "2          Brazil  21957967  611283  21953838   611222       4129          61   \n",
       "3  United Kingdom   9608568  143337   9572351   143274      36217          63   \n",
       "4          Russia   8918926  250609   8881306   249415      37620        1194   \n",
       "\n",
       "   Fatality Rate      Continent  \n",
       "0            1.6  North America  \n",
       "1            1.3           Asia  \n",
       "2            2.8  South America  \n",
       "3            1.5         Europe  \n",
       "4            2.8         Europe  "
      ]
     },
     "execution_count": 15,
     "metadata": {},
     "output_type": "execute_result"
    }
   ],
   "source": [
    "#hide\n",
    "df_table = (pd.DataFrame(dict(Cases=dfc_cases, Deaths=dfc_deaths, PCases=dfp_cases, PDeaths=dfp_deaths))\n",
    "             .sort_values(by=['Cases', 'Deaths'], ascending=[False, False])\n",
    "             .reset_index())\n",
    "df_table.rename(columns={'index': 'Country/Region'}, inplace=True)\n",
    "for c in 'Cases, Deaths'.split(', '):\n",
    "    df_table[f'{c} (+)'] = (df_table[c] - df_table[f'P{c}']).clip(0)  # DATA BUG\n",
    "df_table['Fatality Rate'] = (100 * df_table['Deaths'] / df_table['Cases']).round(1)\n",
    "df_table['Continent'] = df_table['Country/Region'].map(mapping['map.continent'])\n",
    "df_table.head(5)"
   ]
  },
  {
   "cell_type": "code",
   "execution_count": 16,
   "id": "fewer-occasion",
   "metadata": {
    "execution": {
     "iopub.execute_input": "2021-11-15T12:12:41.997466Z",
     "iopub.status.busy": "2021-11-15T12:12:41.996815Z",
     "iopub.status.idle": "2021-11-15T12:12:42.000126Z",
     "shell.execute_reply": "2021-11-15T12:12:42.000701Z"
    },
    "papermill": {
     "duration": 0.046443,
     "end_time": "2021-11-15T12:12:42.000828",
     "exception": false,
     "start_time": "2021-11-15T12:12:41.954385",
     "status": "completed"
    },
    "tags": []
   },
   "outputs": [],
   "source": [
    "#hide\n",
    "#delete problematic countries from table\n",
    "df_table = df_table[~df_table['Country/Region'].isin(['Cape Verde', 'Cruise Ship', 'Kosovo'])]"
   ]
  },
  {
   "cell_type": "code",
   "execution_count": 17,
   "id": "related-center",
   "metadata": {
    "execution": {
     "iopub.execute_input": "2021-11-15T12:12:42.101358Z",
     "iopub.status.busy": "2021-11-15T12:12:42.100650Z",
     "iopub.status.idle": "2021-11-15T12:12:42.103595Z",
     "shell.execute_reply": "2021-11-15T12:12:42.103089Z"
    },
    "papermill": {
     "duration": 0.064207,
     "end_time": "2021-11-15T12:12:42.103754",
     "exception": false,
     "start_time": "2021-11-15T12:12:42.039547",
     "status": "completed"
    },
    "tags": []
   },
   "outputs": [],
   "source": [
    "#hide\n",
    "metrics = [df_table.columns[index] for index in [1,2,5,6]]\n",
    "# s_china = df_table[df_table['Country/Region'].eq('China')][metrics].sum().add_prefix('China ')\n",
    "s_us = df_table[df_table['Country/Region'].eq('US')][metrics].sum().add_prefix('US ')\n",
    "s_eu = df_table[df_table['Continent'].eq('Europe')][metrics].sum().add_prefix('EU ')\n",
    "s_ind = df_table[df_table['Country/Region'].eq('India')][metrics].sum().add_prefix('India ')\n",
    "summary = {'updated': pd.to_datetime(dt_today), 'since': pd.to_datetime(dt_yday)}\n",
    "summary = {'updated': pd.to_datetime(dt_today), 'since': pd.to_datetime(dt_yday)}\n",
    "summary = {**summary, **df_table[metrics].sum(), **s_ind, **s_us, **s_eu}"
   ]
  },
  {
   "cell_type": "code",
   "execution_count": 18,
   "id": "engaging-syndrome",
   "metadata": {
    "execution": {
     "iopub.execute_input": "2021-11-15T12:12:42.189781Z",
     "iopub.status.busy": "2021-11-15T12:12:42.189143Z",
     "iopub.status.idle": "2021-11-15T12:12:42.206743Z",
     "shell.execute_reply": "2021-11-15T12:12:42.207370Z"
    },
    "papermill": {
     "duration": 0.062986,
     "end_time": "2021-11-15T12:12:42.207508",
     "exception": false,
     "start_time": "2021-11-15T12:12:42.144522",
     "status": "completed"
    },
    "tags": []
   },
   "outputs": [],
   "source": [
    "#hide\n",
    "dft_ct_new_cases = dft_cases.groupby(COL_REGION)[dt_cols].sum().diff(axis=1).fillna(0).astype(int)"
   ]
  },
  {
   "cell_type": "code",
   "execution_count": 19,
   "id": "neutral-assignment",
   "metadata": {
    "execution": {
     "iopub.execute_input": "2021-11-15T12:12:42.287086Z",
     "iopub.status.busy": "2021-11-15T12:12:42.286324Z",
     "iopub.status.idle": "2021-11-15T12:12:42.288852Z",
     "shell.execute_reply": "2021-11-15T12:12:42.288324Z"
    },
    "papermill": {
     "duration": 0.044309,
     "end_time": "2021-11-15T12:12:42.289025",
     "exception": false,
     "start_time": "2021-11-15T12:12:42.244716",
     "status": "completed"
    },
    "tags": []
   },
   "outputs": [],
   "source": [
    "#hide\n",
    "everydaycases = dft_ct_new_cases.cumsum(axis=1)"
   ]
  },
  {
   "cell_type": "code",
   "execution_count": 20,
   "id": "parliamentary-calgary",
   "metadata": {
    "execution": {
     "iopub.execute_input": "2021-11-15T12:12:42.369531Z",
     "iopub.status.busy": "2021-11-15T12:12:42.368902Z",
     "iopub.status.idle": "2021-11-15T12:12:42.992874Z",
     "shell.execute_reply": "2021-11-15T12:12:42.993571Z"
    },
    "papermill": {
     "duration": 0.6663,
     "end_time": "2021-11-15T12:12:42.993751",
     "exception": false,
     "start_time": "2021-11-15T12:12:42.327451",
     "status": "completed"
    },
    "tags": []
   },
   "outputs": [],
   "source": [
    "#hide\n",
    "import pandas as pd\n",
    "import matplotlib.pyplot as plt\n",
    "import matplotlib.ticker as ticker\n",
    "import matplotlib.animation as animation\n",
    "from IPython.display import HTML"
   ]
  },
  {
   "cell_type": "code",
   "execution_count": 21,
   "id": "lasting-extraction",
   "metadata": {
    "execution": {
     "iopub.execute_input": "2021-11-15T12:12:43.073866Z",
     "iopub.status.busy": "2021-11-15T12:12:43.073247Z",
     "iopub.status.idle": "2021-11-15T12:12:43.079149Z",
     "shell.execute_reply": "2021-11-15T12:12:43.080017Z"
    },
    "papermill": {
     "duration": 0.049295,
     "end_time": "2021-11-15T12:12:43.080196",
     "exception": false,
     "start_time": "2021-11-15T12:12:43.030901",
     "status": "completed"
    },
    "tags": []
   },
   "outputs": [],
   "source": [
    "#hide\n",
    "t = everydaycases.stack()"
   ]
  },
  {
   "cell_type": "code",
   "execution_count": 22,
   "id": "premier-sleeve",
   "metadata": {
    "execution": {
     "iopub.execute_input": "2021-11-15T12:12:43.163134Z",
     "iopub.status.busy": "2021-11-15T12:12:43.162418Z",
     "iopub.status.idle": "2021-11-15T12:12:43.173078Z",
     "shell.execute_reply": "2021-11-15T12:12:43.172501Z"
    },
    "papermill": {
     "duration": 0.055391,
     "end_time": "2021-11-15T12:12:43.173245",
     "exception": false,
     "start_time": "2021-11-15T12:12:43.117854",
     "status": "completed"
    },
    "tags": []
   },
   "outputs": [],
   "source": [
    "#hide\n",
    "g = t.reset_index(['Country/Region'])"
   ]
  },
  {
   "cell_type": "code",
   "execution_count": 23,
   "id": "distributed-pittsburgh",
   "metadata": {
    "execution": {
     "iopub.execute_input": "2021-11-15T12:12:43.254825Z",
     "iopub.status.busy": "2021-11-15T12:12:43.254159Z",
     "iopub.status.idle": "2021-11-15T12:12:43.256240Z",
     "shell.execute_reply": "2021-11-15T12:12:43.256763Z"
    },
    "papermill": {
     "duration": 0.042799,
     "end_time": "2021-11-15T12:12:43.256966",
     "exception": false,
     "start_time": "2021-11-15T12:12:43.214167",
     "status": "completed"
    },
    "tags": []
   },
   "outputs": [],
   "source": [
    "#hide\n",
    "g.index.name = 'date'"
   ]
  },
  {
   "cell_type": "code",
   "execution_count": 24,
   "id": "naked-donor",
   "metadata": {
    "execution": {
     "iopub.execute_input": "2021-11-15T12:12:43.339889Z",
     "iopub.status.busy": "2021-11-15T12:12:43.339133Z",
     "iopub.status.idle": "2021-11-15T12:12:43.343232Z",
     "shell.execute_reply": "2021-11-15T12:12:43.343825Z"
    },
    "papermill": {
     "duration": 0.048976,
     "end_time": "2021-11-15T12:12:43.343967",
     "exception": false,
     "start_time": "2021-11-15T12:12:43.294991",
     "status": "completed"
    },
    "tags": []
   },
   "outputs": [],
   "source": [
    "# #hide\n",
    "# g = g.reset_index(['date'])"
   ]
  },
  {
   "cell_type": "code",
   "execution_count": 25,
   "id": "incomplete-mustang",
   "metadata": {
    "execution": {
     "iopub.execute_input": "2021-11-15T12:12:43.423645Z",
     "iopub.status.busy": "2021-11-15T12:12:43.422815Z",
     "iopub.status.idle": "2021-11-15T12:12:43.425579Z",
     "shell.execute_reply": "2021-11-15T12:12:43.424970Z"
    },
    "papermill": {
     "duration": 0.043491,
     "end_time": "2021-11-15T12:12:43.425692",
     "exception": false,
     "start_time": "2021-11-15T12:12:43.382201",
     "status": "completed"
    },
    "tags": []
   },
   "outputs": [],
   "source": [
    "#hide\n",
    "# g.head()"
   ]
  },
  {
   "cell_type": "code",
   "execution_count": 26,
   "id": "specific-kruger",
   "metadata": {
    "execution": {
     "iopub.execute_input": "2021-11-15T12:12:43.507804Z",
     "iopub.status.busy": "2021-11-15T12:12:43.507135Z",
     "iopub.status.idle": "2021-11-15T12:12:43.510015Z",
     "shell.execute_reply": "2021-11-15T12:12:43.509432Z"
    },
    "papermill": {
     "duration": 0.04475,
     "end_time": "2021-11-15T12:12:43.510185",
     "exception": false,
     "start_time": "2021-11-15T12:12:43.465435",
     "status": "completed"
    },
    "tags": []
   },
   "outputs": [],
   "source": [
    "#hide\n",
    "# g.columns = ['date','country','cases']"
   ]
  },
  {
   "cell_type": "code",
   "execution_count": 27,
   "id": "tender-conversion",
   "metadata": {
    "execution": {
     "iopub.execute_input": "2021-11-15T12:12:43.590708Z",
     "iopub.status.busy": "2021-11-15T12:12:43.590009Z",
     "iopub.status.idle": "2021-11-15T12:12:43.592702Z",
     "shell.execute_reply": "2021-11-15T12:12:43.591937Z"
    },
    "papermill": {
     "duration": 0.04408,
     "end_time": "2021-11-15T12:12:43.592820",
     "exception": false,
     "start_time": "2021-11-15T12:12:43.548740",
     "status": "completed"
    },
    "tags": []
   },
   "outputs": [],
   "source": [
    "#hide\n",
    "# g['continent'] = g.country"
   ]
  },
  {
   "cell_type": "code",
   "execution_count": 28,
   "id": "substantial-wilderness",
   "metadata": {
    "execution": {
     "iopub.execute_input": "2021-11-15T12:12:43.676780Z",
     "iopub.status.busy": "2021-11-15T12:12:43.676139Z",
     "iopub.status.idle": "2021-11-15T12:12:43.681821Z",
     "shell.execute_reply": "2021-11-15T12:12:43.681198Z"
    },
    "papermill": {
     "duration": 0.049019,
     "end_time": "2021-11-15T12:12:43.681936",
     "exception": false,
     "start_time": "2021-11-15T12:12:43.632917",
     "status": "completed"
    },
    "tags": []
   },
   "outputs": [],
   "source": [
    "#hide\n",
    "# cols = list(g.columns.values)"
   ]
  },
  {
   "cell_type": "code",
   "execution_count": 29,
   "id": "solved-farming",
   "metadata": {
    "execution": {
     "iopub.execute_input": "2021-11-15T12:12:43.758810Z",
     "iopub.status.busy": "2021-11-15T12:12:43.758129Z",
     "iopub.status.idle": "2021-11-15T12:12:43.760260Z",
     "shell.execute_reply": "2021-11-15T12:12:43.759616Z"
    },
    "papermill": {
     "duration": 0.041825,
     "end_time": "2021-11-15T12:12:43.760422",
     "exception": false,
     "start_time": "2021-11-15T12:12:43.718597",
     "status": "completed"
    },
    "tags": []
   },
   "outputs": [],
   "source": [
    "#hide\n",
    "# cols.insert(0, cols.pop())"
   ]
  },
  {
   "cell_type": "code",
   "execution_count": 30,
   "id": "executed-adoption",
   "metadata": {
    "execution": {
     "iopub.execute_input": "2021-11-15T12:12:43.837937Z",
     "iopub.status.busy": "2021-11-15T12:12:43.837099Z",
     "iopub.status.idle": "2021-11-15T12:12:43.841492Z",
     "shell.execute_reply": "2021-11-15T12:12:43.841996Z"
    },
    "papermill": {
     "duration": 0.045163,
     "end_time": "2021-11-15T12:12:43.842121",
     "exception": false,
     "start_time": "2021-11-15T12:12:43.796958",
     "status": "completed"
    },
    "tags": []
   },
   "outputs": [],
   "source": [
    "#hide\n",
    "# g = g[cols]"
   ]
  },
  {
   "cell_type": "code",
   "execution_count": 31,
   "id": "subject-dublin",
   "metadata": {
    "execution": {
     "iopub.execute_input": "2021-11-15T12:12:43.920212Z",
     "iopub.status.busy": "2021-11-15T12:12:43.919458Z",
     "iopub.status.idle": "2021-11-15T12:12:43.921982Z",
     "shell.execute_reply": "2021-11-15T12:12:43.921386Z"
    },
    "papermill": {
     "duration": 0.041788,
     "end_time": "2021-11-15T12:12:43.922092",
     "exception": false,
     "start_time": "2021-11-15T12:12:43.880304",
     "status": "completed"
    },
    "tags": []
   },
   "outputs": [],
   "source": [
    "#hide\n",
    "# g['continent'] = g['continent'].map(mapping['map.continent'])"
   ]
  },
  {
   "cell_type": "code",
   "execution_count": 32,
   "id": "freelance-scout",
   "metadata": {
    "execution": {
     "iopub.execute_input": "2021-11-15T12:12:44.003672Z",
     "iopub.status.busy": "2021-11-15T12:12:44.003069Z",
     "iopub.status.idle": "2021-11-15T12:12:44.005076Z",
     "shell.execute_reply": "2021-11-15T12:12:44.004475Z"
    },
    "papermill": {
     "duration": 0.044625,
     "end_time": "2021-11-15T12:12:44.005193",
     "exception": false,
     "start_time": "2021-11-15T12:12:43.960568",
     "status": "completed"
    },
    "tags": []
   },
   "outputs": [],
   "source": [
    "#hide\n",
    "# g.head()"
   ]
  },
  {
   "cell_type": "code",
   "execution_count": 33,
   "id": "limited-engine",
   "metadata": {
    "execution": {
     "iopub.execute_input": "2021-11-15T12:12:44.084969Z",
     "iopub.status.busy": "2021-11-15T12:12:44.084304Z",
     "iopub.status.idle": "2021-11-15T12:12:44.086307Z",
     "shell.execute_reply": "2021-11-15T12:12:44.087020Z"
    },
    "papermill": {
     "duration": 0.04554,
     "end_time": "2021-11-15T12:12:44.087397",
     "exception": false,
     "start_time": "2021-11-15T12:12:44.041857",
     "status": "completed"
    },
    "tags": []
   },
   "outputs": [],
   "source": [
    "# hide\n",
    "# g['date'] = g['date'].astype('datetime64[ns]')"
   ]
  },
  {
   "cell_type": "code",
   "execution_count": 34,
   "id": "sophisticated-supervisor",
   "metadata": {
    "execution": {
     "iopub.execute_input": "2021-11-15T12:12:44.169995Z",
     "iopub.status.busy": "2021-11-15T12:12:44.169349Z",
     "iopub.status.idle": "2021-11-15T12:12:44.171538Z",
     "shell.execute_reply": "2021-11-15T12:12:44.172060Z"
    },
    "papermill": {
     "duration": 0.044808,
     "end_time": "2021-11-15T12:12:44.172214",
     "exception": false,
     "start_time": "2021-11-15T12:12:44.127406",
     "status": "completed"
    },
    "tags": []
   },
   "outputs": [],
   "source": [
    "#hide\n",
    "# g['date'] = g.date.dt.dayofyear"
   ]
  },
  {
   "cell_type": "code",
   "execution_count": 35,
   "id": "inside-dubai",
   "metadata": {
    "execution": {
     "iopub.execute_input": "2021-11-15T12:12:44.251259Z",
     "iopub.status.busy": "2021-11-15T12:12:44.250496Z",
     "iopub.status.idle": "2021-11-15T12:12:44.254287Z",
     "shell.execute_reply": "2021-11-15T12:12:44.253739Z"
    },
    "papermill": {
     "duration": 0.044973,
     "end_time": "2021-11-15T12:12:44.254402",
     "exception": false,
     "start_time": "2021-11-15T12:12:44.209429",
     "status": "completed"
    },
    "tags": []
   },
   "outputs": [],
   "source": [
    "#hide\n",
    "# g = g.rename(columns= {'continent':'group','country':'name','cases':'value'})"
   ]
  },
  {
   "cell_type": "code",
   "execution_count": 36,
   "id": "fleet-motorcycle",
   "metadata": {
    "execution": {
     "iopub.execute_input": "2021-11-15T12:12:44.337011Z",
     "iopub.status.busy": "2021-11-15T12:12:44.336336Z",
     "iopub.status.idle": "2021-11-15T12:12:44.340270Z",
     "shell.execute_reply": "2021-11-15T12:12:44.340808Z"
    },
    "papermill": {
     "duration": 0.047115,
     "end_time": "2021-11-15T12:12:44.340932",
     "exception": false,
     "start_time": "2021-11-15T12:12:44.293817",
     "status": "completed"
    },
    "tags": []
   },
   "outputs": [],
   "source": [
    "#hide\n",
    "# cols = ['name','group','day','value']"
   ]
  },
  {
   "cell_type": "code",
   "execution_count": 37,
   "id": "continued-sleeping",
   "metadata": {
    "execution": {
     "iopub.execute_input": "2021-11-15T12:12:44.421690Z",
     "iopub.status.busy": "2021-11-15T12:12:44.421062Z",
     "iopub.status.idle": "2021-11-15T12:12:44.423528Z",
     "shell.execute_reply": "2021-11-15T12:12:44.422752Z"
    },
    "papermill": {
     "duration": 0.045659,
     "end_time": "2021-11-15T12:12:44.423700",
     "exception": false,
     "start_time": "2021-11-15T12:12:44.378041",
     "status": "completed"
    },
    "tags": []
   },
   "outputs": [],
   "source": [
    "#hide\n",
    "# g.rename(columns= {'date':'day'},inplace = True)"
   ]
  },
  {
   "cell_type": "code",
   "execution_count": 38,
   "id": "major-fight",
   "metadata": {
    "execution": {
     "iopub.execute_input": "2021-11-15T12:12:44.505538Z",
     "iopub.status.busy": "2021-11-15T12:12:44.504604Z",
     "iopub.status.idle": "2021-11-15T12:12:44.507022Z",
     "shell.execute_reply": "2021-11-15T12:12:44.507576Z"
    },
    "papermill": {
     "duration": 0.044571,
     "end_time": "2021-11-15T12:12:44.507751",
     "exception": false,
     "start_time": "2021-11-15T12:12:44.463180",
     "status": "completed"
    },
    "tags": []
   },
   "outputs": [],
   "source": [
    "#hide\n",
    "# g = g[cols]"
   ]
  },
  {
   "cell_type": "code",
   "execution_count": 39,
   "id": "structured-mobile",
   "metadata": {
    "execution": {
     "iopub.execute_input": "2021-11-15T12:12:44.588291Z",
     "iopub.status.busy": "2021-11-15T12:12:44.587690Z",
     "iopub.status.idle": "2021-11-15T12:12:44.591976Z",
     "shell.execute_reply": "2021-11-15T12:12:44.591443Z"
    },
    "papermill": {
     "duration": 0.044704,
     "end_time": "2021-11-15T12:12:44.592084",
     "exception": false,
     "start_time": "2021-11-15T12:12:44.547380",
     "status": "completed"
    },
    "tags": []
   },
   "outputs": [],
   "source": [
    "# #hide\n",
    "# g = g[g.group.notna()]"
   ]
  },
  {
   "cell_type": "code",
   "execution_count": 40,
   "id": "determined-closing",
   "metadata": {
    "execution": {
     "iopub.execute_input": "2021-11-15T12:12:44.668997Z",
     "iopub.status.busy": "2021-11-15T12:12:44.668424Z",
     "iopub.status.idle": "2021-11-15T12:12:44.670907Z",
     "shell.execute_reply": "2021-11-15T12:12:44.670383Z"
    },
    "papermill": {
     "duration": 0.042512,
     "end_time": "2021-11-15T12:12:44.671017",
     "exception": false,
     "start_time": "2021-11-15T12:12:44.628505",
     "status": "completed"
    },
    "tags": []
   },
   "outputs": [],
   "source": [
    "# #hide\n",
    "# colors = dict(zip(\n",
    "#     [\"Oceania\", \"Europe\", \"Asia\", \"South America\", \"Middle East\", \"North America\", \"Africa\"],\n",
    "#     [\"#adb0ff\", \"#ffb3ff\", \"#90d595\", \"#e48381\", \"#aafbff\", \"#f7bb5f\", \"#eafb50\"]\n",
    "# ))\n",
    "# group_lk = g.set_index('name')['group'].to_dict()"
   ]
  },
  {
   "cell_type": "code",
   "execution_count": null,
   "id": "gross-drinking",
   "metadata": {
    "papermill": {
     "duration": 0.036538,
     "end_time": "2021-11-15T12:12:44.743240",
     "exception": false,
     "start_time": "2021-11-15T12:12:44.706702",
     "status": "completed"
    },
    "tags": []
   },
   "outputs": [],
   "source": []
  },
  {
   "cell_type": "code",
   "execution_count": 41,
   "id": "subject-macintosh",
   "metadata": {
    "execution": {
     "iopub.execute_input": "2021-11-15T12:12:44.825923Z",
     "iopub.status.busy": "2021-11-15T12:12:44.825203Z",
     "iopub.status.idle": "2021-11-15T12:12:44.827245Z",
     "shell.execute_reply": "2021-11-15T12:12:44.827780Z"
    },
    "papermill": {
     "duration": 0.046526,
     "end_time": "2021-11-15T12:12:44.827935",
     "exception": false,
     "start_time": "2021-11-15T12:12:44.781409",
     "status": "completed"
    },
    "tags": []
   },
   "outputs": [],
   "source": [
    "# #hide\n",
    "# fig, ax = plt.subplots(figsize=(15, 8))\n",
    "\n",
    "# def draw_barchart(current_day):\n",
    "#     dff = g[g['day'].eq(current_day)].sort_values(by='value', ascending=True).tail(10)\n",
    "#     ax.clear()\n",
    "#     ax.barh(dff['name'], dff['value'], color=[colors[group_lk[x]] for x in dff['name']])\n",
    "#     dx = dff['value'].max() / 200\n",
    "    \n",
    "#     for i, (value, name) in enumerate(zip(dff['value'], dff['name'])):\n",
    "#         ax.text(value-dx, i,     name,           size=14, weight=600, ha='right', va='bottom')\n",
    "#         ax.text(value-dx, i-.25, group_lk[name], size=10, color='#444444', ha='right', va='baseline')\n",
    "#         ax.text(value+dx, i,     f'{value:,.0f}',  size=14, ha='left',  va='center')\n",
    "#     ax.text(1, 0.4, current_day, transform=ax.transAxes, color='#777777', size=46, ha='right', weight=800)\n",
    "#     ax.text(0, 1.06, 'Population (thousands)', transform=ax.transAxes, size=12, color='#777777')\n",
    "#     ax.xaxis.set_major_formatter(ticker.StrMethodFormatter('{x:,.0f}'))\n",
    "#     ax.xaxis.set_ticks_position('top')\n",
    "#     ax.tick_params(axis='x', colors='#777777', labelsize=12)\n",
    "#     ax.set_yticks([])\n",
    "#     ax.margins(0, 0.01)\n",
    "#     ax.grid(which='major', axis='x', linestyle='-')\n",
    "#     ax.set_axisbelow(True)\n",
    "    \n",
    "#     ax.text(0, 1.15, 'Coronavirus',\n",
    "#             transform=ax.transAxes, size=24, weight=600, ha='left', va='top')\n",
    "# #     ax.text(1, 0, 'by @pratapvardhan; credit @jburnmurdoch', transform=ax.transAxes, color='#777777', ha='right',\n",
    "# #             bbox=dict(facecolor='white', alpha=0.8, edgecolor='white'))\n",
    "#     plt.box(False)"
   ]
  },
  {
   "cell_type": "code",
   "execution_count": 42,
   "id": "sexual-wages",
   "metadata": {
    "execution": {
     "iopub.execute_input": "2021-11-15T12:12:44.907376Z",
     "iopub.status.busy": "2021-11-15T12:12:44.906575Z",
     "iopub.status.idle": "2021-11-15T12:12:44.909648Z",
     "shell.execute_reply": "2021-11-15T12:12:44.908876Z"
    },
    "papermill": {
     "duration": 0.044487,
     "end_time": "2021-11-15T12:12:44.909778",
     "exception": false,
     "start_time": "2021-11-15T12:12:44.865291",
     "status": "completed"
    },
    "tags": []
   },
   "outputs": [],
   "source": [
    "# #hide_input\n",
    "# fig, ax = plt.subplots(figsize=(15, 8))\n",
    "# animator = animation.FuncAnimation(fig, draw_barchart, frames=range(g.day.values.min(), g.day.values.max()))\n",
    "# HTML(animator.to_jshtml())\n",
    "# # or use animator.to_html5_video() or animator.save() "
   ]
  },
  {
   "cell_type": "code",
   "execution_count": null,
   "id": "australian-container",
   "metadata": {
    "papermill": {
     "duration": 0.038511,
     "end_time": "2021-11-15T12:12:44.988565",
     "exception": false,
     "start_time": "2021-11-15T12:12:44.950054",
     "status": "completed"
    },
    "tags": []
   },
   "outputs": [],
   "source": []
  },
  {
   "cell_type": "code",
   "execution_count": null,
   "id": "mediterranean-pontiac",
   "metadata": {
    "papermill": {
     "duration": 0.038734,
     "end_time": "2021-11-15T12:12:45.064197",
     "exception": false,
     "start_time": "2021-11-15T12:12:45.025463",
     "status": "completed"
    },
    "tags": []
   },
   "outputs": [],
   "source": []
  },
  {
   "cell_type": "code",
   "execution_count": null,
   "id": "aging-legislature",
   "metadata": {
    "papermill": {
     "duration": 0.036582,
     "end_time": "2021-11-15T12:12:45.137945",
     "exception": false,
     "start_time": "2021-11-15T12:12:45.101363",
     "status": "completed"
    },
    "tags": []
   },
   "outputs": [],
   "source": []
  }
 ],
 "metadata": {
  "kernelspec": {
   "display_name": "Python 3",
   "language": "python",
   "name": "python3"
  },
  "language_info": {
   "codemirror_mode": {
    "name": "ipython",
    "version": 3
   },
   "file_extension": ".py",
   "mimetype": "text/x-python",
   "name": "python",
   "nbconvert_exporter": "python",
   "pygments_lexer": "ipython3",
   "version": "3.6.15"
  },
  "papermill": {
   "duration": 6.889811,
   "end_time": "2021-11-15T12:12:45.487932",
   "environment_variables": {},
   "exception": null,
   "input_path": "2020-03-21-covid19exp.ipynb",
   "output_path": "2020-03-21-covid19exp.ipynb",
   "parameters": {},
   "start_time": "2021-11-15T12:12:38.598121",
   "version": "2.0.0"
  }
 },
 "nbformat": 4,
 "nbformat_minor": 5
}