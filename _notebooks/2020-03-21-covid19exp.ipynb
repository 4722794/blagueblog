{
 "cells": [
  {
   "cell_type": "markdown",
   "metadata": {
    "papermill": {
     "duration": 0.036148,
     "end_time": "2020-12-09T00:11:51.132357",
     "exception": false,
     "start_time": "2020-12-09T00:11:51.096209",
     "status": "completed"
    },
    "tags": []
   },
   "source": [
    "# COVID-19 Case Race\n",
    "> A race chart to see rising cases around the world\n",
    "\n",
    "- author: Hargun Oberoi\n",
    "- image: images/covid-overview.png\n",
    "- hide: false\n",
    "- badges: false"
   ]
  },
  {
   "cell_type": "code",
   "execution_count": 1,
   "metadata": {
    "execution": {
     "iopub.execute_input": "2020-12-09T00:11:51.197581Z",
     "iopub.status.busy": "2020-12-09T00:11:51.196949Z",
     "iopub.status.idle": "2020-12-09T00:11:51.579215Z",
     "shell.execute_reply": "2020-12-09T00:11:51.578608Z"
    },
    "papermill": {
     "duration": 0.416536,
     "end_time": "2020-12-09T00:11:51.579393",
     "exception": false,
     "start_time": "2020-12-09T00:11:51.162857",
     "status": "completed"
    },
    "tags": []
   },
   "outputs": [],
   "source": [
    "#hide\n",
    "import numpy as np\n",
    "import pandas as pd\n",
    "from jinja2 import Template\n",
    "from IPython.display import HTML"
   ]
  },
  {
   "cell_type": "code",
   "execution_count": 2,
   "metadata": {
    "execution": {
     "iopub.execute_input": "2020-12-09T00:11:51.650482Z",
     "iopub.status.busy": "2020-12-09T00:11:51.649760Z",
     "iopub.status.idle": "2020-12-09T00:11:51.651230Z",
     "shell.execute_reply": "2020-12-09T00:11:51.651830Z"
    },
    "papermill": {
     "duration": 0.037604,
     "end_time": "2020-12-09T00:11:51.651990",
     "exception": false,
     "start_time": "2020-12-09T00:11:51.614386",
     "status": "completed"
    },
    "tags": []
   },
   "outputs": [],
   "source": [
    "#hide\n",
    "\n",
    "# FETCH\n",
    "base_url = 'https://raw.githubusercontent.com/pratapvardhan/notebooks/master/covid19/'\n",
    "paths = {\n",
    "    'mapping': base_url + 'mapping_countries.csv',\n",
    "    'overview': base_url + 'overview.tpl'\n",
    "}"
   ]
  },
  {
   "cell_type": "code",
   "execution_count": 3,
   "metadata": {
    "execution": {
     "iopub.execute_input": "2020-12-09T00:11:51.720499Z",
     "iopub.status.busy": "2020-12-09T00:11:51.719868Z",
     "iopub.status.idle": "2020-12-09T00:11:51.725232Z",
     "shell.execute_reply": "2020-12-09T00:11:51.725721Z"
    },
    "papermill": {
     "duration": 0.044423,
     "end_time": "2020-12-09T00:11:51.725874",
     "exception": false,
     "start_time": "2020-12-09T00:11:51.681451",
     "status": "completed"
    },
    "tags": []
   },
   "outputs": [
    {
     "data": {
      "text/plain": [
       "'https://raw.githubusercontent.com/pratapvardhan/notebooks/master/covid19/mapping_countries.csv'"
      ]
     },
     "execution_count": 3,
     "metadata": {},
     "output_type": "execute_result"
    }
   ],
   "source": [
    "#hide\n",
    "paths['mapping']"
   ]
  },
  {
   "cell_type": "code",
   "execution_count": 4,
   "metadata": {
    "execution": {
     "iopub.execute_input": "2020-12-09T00:11:51.791497Z",
     "iopub.status.busy": "2020-12-09T00:11:51.790835Z",
     "iopub.status.idle": "2020-12-09T00:11:51.793139Z",
     "shell.execute_reply": "2020-12-09T00:11:51.792623Z"
    },
    "papermill": {
     "duration": 0.03752,
     "end_time": "2020-12-09T00:11:51.793270",
     "exception": false,
     "start_time": "2020-12-09T00:11:51.755750",
     "status": "completed"
    },
    "tags": []
   },
   "outputs": [],
   "source": [
    "#hide\n",
    "def get_mappings(url):\n",
    "    df = pd.read_csv(url)\n",
    "    return {\n",
    "        'df': df,\n",
    "        'replace.country': dict(df.dropna(subset=['Name']).set_index('Country')['Name']),\n",
    "        'map.continent': dict(df.set_index('Name')['Continent'])\n",
    "    }"
   ]
  },
  {
   "cell_type": "code",
   "execution_count": 5,
   "metadata": {
    "execution": {
     "iopub.execute_input": "2020-12-09T00:11:51.859708Z",
     "iopub.status.busy": "2020-12-09T00:11:51.859020Z",
     "iopub.status.idle": "2020-12-09T00:11:51.907106Z",
     "shell.execute_reply": "2020-12-09T00:11:51.906477Z"
    },
    "papermill": {
     "duration": 0.084352,
     "end_time": "2020-12-09T00:11:51.907316",
     "exception": false,
     "start_time": "2020-12-09T00:11:51.822964",
     "status": "completed"
    },
    "tags": []
   },
   "outputs": [],
   "source": [
    "#hide\n",
    "mapping = get_mappings(paths['mapping'])"
   ]
  },
  {
   "cell_type": "code",
   "execution_count": 6,
   "metadata": {
    "execution": {
     "iopub.execute_input": "2020-12-09T00:11:51.973173Z",
     "iopub.status.busy": "2020-12-09T00:11:51.972493Z",
     "iopub.status.idle": "2020-12-09T00:11:51.976919Z",
     "shell.execute_reply": "2020-12-09T00:11:51.976407Z"
    },
    "papermill": {
     "duration": 0.039716,
     "end_time": "2020-12-09T00:11:51.977065",
     "exception": false,
     "start_time": "2020-12-09T00:11:51.937349",
     "status": "completed"
    },
    "tags": []
   },
   "outputs": [],
   "source": [
    "#hide\n",
    "def get_template(path):\n",
    "    from urllib.parse import urlparse\n",
    "    if bool(urlparse(path).netloc):\n",
    "        from urllib.request import urlopen\n",
    "        return urlopen(path).read().decode('utf8')\n",
    "    return open(path).read()"
   ]
  },
  {
   "cell_type": "code",
   "execution_count": 7,
   "metadata": {
    "execution": {
     "iopub.execute_input": "2020-12-09T00:11:52.044701Z",
     "iopub.status.busy": "2020-12-09T00:11:52.044059Z",
     "iopub.status.idle": "2020-12-09T00:11:52.046823Z",
     "shell.execute_reply": "2020-12-09T00:11:52.046204Z"
    },
    "papermill": {
     "duration": 0.038878,
     "end_time": "2020-12-09T00:11:52.046967",
     "exception": false,
     "start_time": "2020-12-09T00:11:52.008089",
     "status": "completed"
    },
    "tags": []
   },
   "outputs": [],
   "source": [
    "#hide\n",
    "def get_frame(name):\n",
    "    url = (\n",
    "        'https://raw.githubusercontent.com/CSSEGISandData/COVID-19/master/csse_covid_19_data/'\n",
    "        f'csse_covid_19_time_series/time_series_covid19_{name}_global.csv')\n",
    "    df = pd.read_csv(url)\n",
    "    # rename countries\n",
    "    df['Country/Region'] = df['Country/Region'].replace(mapping['replace.country'])\n",
    "    return df"
   ]
  },
  {
   "cell_type": "code",
   "execution_count": 8,
   "metadata": {
    "execution": {
     "iopub.execute_input": "2020-12-09T00:11:52.120610Z",
     "iopub.status.busy": "2020-12-09T00:11:52.119988Z",
     "iopub.status.idle": "2020-12-09T00:11:52.122638Z",
     "shell.execute_reply": "2020-12-09T00:11:52.122111Z"
    },
    "papermill": {
     "duration": 0.042773,
     "end_time": "2020-12-09T00:11:52.122777",
     "exception": false,
     "start_time": "2020-12-09T00:11:52.080004",
     "status": "completed"
    },
    "tags": []
   },
   "outputs": [],
   "source": [
    "#hide\n",
    "def get_dates(df):\n",
    "    dt_cols = df.columns[~df.columns.isin(['Province/State', 'Country/Region', 'Lat', 'Long'])]\n",
    "    LAST_DATE_I = -1\n",
    "    # sometimes last column may be empty, then go backwards\n",
    "    for i in range(-1, -len(dt_cols), -1):\n",
    "        if not df[dt_cols[i]].fillna(0).eq(0).all():\n",
    "            LAST_DATE_I = i\n",
    "            break\n",
    "    return LAST_DATE_I, dt_cols"
   ]
  },
  {
   "cell_type": "code",
   "execution_count": 9,
   "metadata": {
    "execution": {
     "iopub.execute_input": "2020-12-09T00:11:52.208470Z",
     "iopub.status.busy": "2020-12-09T00:11:52.207568Z",
     "iopub.status.idle": "2020-12-09T00:11:52.524880Z",
     "shell.execute_reply": "2020-12-09T00:11:52.524323Z"
    },
    "papermill": {
     "duration": 0.360618,
     "end_time": "2020-12-09T00:11:52.525032",
     "exception": false,
     "start_time": "2020-12-09T00:11:52.164414",
     "status": "completed"
    },
    "tags": []
   },
   "outputs": [],
   "source": [
    "#hide\n",
    "COL_REGION = 'Country/Region'\n",
    "# Confirmed, Recovered, Deaths\n",
    "df = get_frame('confirmed')\n",
    "# dft_: timeseries, dfc_: today country agg\n",
    "dft_cases = df\n",
    "dft_deaths = get_frame('deaths')\n",
    "dft_recovered = get_frame('recovered')\n",
    "LAST_DATE_I, dt_cols = get_dates(df)"
   ]
  },
  {
   "cell_type": "code",
   "execution_count": 10,
   "metadata": {
    "execution": {
     "iopub.execute_input": "2020-12-09T00:11:52.593190Z",
     "iopub.status.busy": "2020-12-09T00:11:52.592304Z",
     "iopub.status.idle": "2020-12-09T00:11:52.594068Z",
     "shell.execute_reply": "2020-12-09T00:11:52.594714Z"
    },
    "papermill": {
     "duration": 0.03924,
     "end_time": "2020-12-09T00:11:52.594913",
     "exception": false,
     "start_time": "2020-12-09T00:11:52.555673",
     "status": "completed"
    },
    "tags": []
   },
   "outputs": [],
   "source": [
    "#hide\n",
    "LAST_DATE_I, dt_cols = get_dates(df)\n",
    "dt_today =dt_cols[LAST_DATE_I]\n",
    "# dt_5day = dt_cols[LAST_DATE_I - 5]\n",
    "dt_yday = dt_cols[LAST_DATE_I - 1]"
   ]
  },
  {
   "cell_type": "code",
   "execution_count": 11,
   "metadata": {
    "execution": {
     "iopub.execute_input": "2020-12-09T00:11:52.674598Z",
     "iopub.status.busy": "2020-12-09T00:11:52.673904Z",
     "iopub.status.idle": "2020-12-09T00:11:52.684467Z",
     "shell.execute_reply": "2020-12-09T00:11:52.683958Z"
    },
    "papermill": {
     "duration": 0.050587,
     "end_time": "2020-12-09T00:11:52.684659",
     "exception": false,
     "start_time": "2020-12-09T00:11:52.634072",
     "status": "completed"
    },
    "tags": []
   },
   "outputs": [],
   "source": [
    "#hide\n",
    "dfc_cases = dft_cases.groupby(COL_REGION)[dt_today].sum()\n",
    "dfc_deaths = dft_deaths.groupby(COL_REGION)[dt_today].sum()\n",
    "# dfp_cases = dft_cases.groupby(COL_REGION)[dt_5day].sum()\n",
    "# dfp_deaths = dft_deaths.groupby(COL_REGION)[dt_5day].sum()\n",
    "dfp_cases = dft_cases.groupby(COL_REGION)[dt_yday].sum()\n",
    "dfp_deaths = dft_deaths.groupby(COL_REGION)[dt_yday].sum()"
   ]
  },
  {
   "cell_type": "code",
   "execution_count": 12,
   "metadata": {
    "execution": {
     "iopub.execute_input": "2020-12-09T00:11:52.757149Z",
     "iopub.status.busy": "2020-12-09T00:11:52.756469Z",
     "iopub.status.idle": "2020-12-09T00:11:52.761005Z",
     "shell.execute_reply": "2020-12-09T00:11:52.760490Z"
    },
    "papermill": {
     "duration": 0.044288,
     "end_time": "2020-12-09T00:11:52.761189",
     "exception": false,
     "start_time": "2020-12-09T00:11:52.716901",
     "status": "completed"
    },
    "tags": []
   },
   "outputs": [],
   "source": [
    "#hide\n",
    "df_table = (pd.DataFrame(dict(Cases = dfc_cases, Deaths = dfc_deaths, PCases = dfp_cases, PDeaths = dfp_deaths))\n",
    "            .sort_values(by = ['Cases','Deaths'], ascending = [False, False])\n",
    "            .reset_index())"
   ]
  },
  {
   "cell_type": "code",
   "execution_count": 13,
   "metadata": {
    "execution": {
     "iopub.execute_input": "2020-12-09T00:11:52.848576Z",
     "iopub.status.busy": "2020-12-09T00:11:52.847912Z",
     "iopub.status.idle": "2020-12-09T00:11:52.850256Z",
     "shell.execute_reply": "2020-12-09T00:11:52.850826Z"
    },
    "papermill": {
     "duration": 0.058784,
     "end_time": "2020-12-09T00:11:52.850984",
     "exception": false,
     "start_time": "2020-12-09T00:11:52.792200",
     "status": "completed"
    },
    "tags": []
   },
   "outputs": [
    {
     "data": {
      "text/html": [
       "<div>\n",
       "<style scoped>\n",
       "    .dataframe tbody tr th:only-of-type {\n",
       "        vertical-align: middle;\n",
       "    }\n",
       "\n",
       "    .dataframe tbody tr th {\n",
       "        vertical-align: top;\n",
       "    }\n",
       "\n",
       "    .dataframe thead th {\n",
       "        text-align: right;\n",
       "    }\n",
       "</style>\n",
       "<table border=\"1\" class=\"dataframe\">\n",
       "  <thead>\n",
       "    <tr style=\"text-align: right;\">\n",
       "      <th></th>\n",
       "      <th>Country/Region</th>\n",
       "      <th>Cases</th>\n",
       "      <th>Deaths</th>\n",
       "      <th>PCases</th>\n",
       "      <th>PDeaths</th>\n",
       "      <th>Cases (+)</th>\n",
       "      <th>Deaths (+)</th>\n",
       "      <th>Fatality Rate</th>\n",
       "      <th>Continent</th>\n",
       "    </tr>\n",
       "  </thead>\n",
       "  <tbody>\n",
       "    <tr>\n",
       "      <th>0</th>\n",
       "      <td>US</td>\n",
       "      <td>14949299</td>\n",
       "      <td>283703</td>\n",
       "      <td>14756883</td>\n",
       "      <td>282299</td>\n",
       "      <td>192416</td>\n",
       "      <td>1404</td>\n",
       "      <td>1.90</td>\n",
       "      <td>North America</td>\n",
       "    </tr>\n",
       "    <tr>\n",
       "      <th>1</th>\n",
       "      <td>India</td>\n",
       "      <td>9703770</td>\n",
       "      <td>140958</td>\n",
       "      <td>9677203</td>\n",
       "      <td>140573</td>\n",
       "      <td>26567</td>\n",
       "      <td>385</td>\n",
       "      <td>1.45</td>\n",
       "      <td>Asia</td>\n",
       "    </tr>\n",
       "    <tr>\n",
       "      <th>2</th>\n",
       "      <td>Brazil</td>\n",
       "      <td>6623911</td>\n",
       "      <td>177317</td>\n",
       "      <td>6603540</td>\n",
       "      <td>176941</td>\n",
       "      <td>20371</td>\n",
       "      <td>376</td>\n",
       "      <td>2.68</td>\n",
       "      <td>South America</td>\n",
       "    </tr>\n",
       "    <tr>\n",
       "      <th>3</th>\n",
       "      <td>Russia</td>\n",
       "      <td>2466961</td>\n",
       "      <td>43122</td>\n",
       "      <td>2439163</td>\n",
       "      <td>42675</td>\n",
       "      <td>27798</td>\n",
       "      <td>447</td>\n",
       "      <td>1.75</td>\n",
       "      <td>Europe</td>\n",
       "    </tr>\n",
       "    <tr>\n",
       "      <th>4</th>\n",
       "      <td>France</td>\n",
       "      <td>2349059</td>\n",
       "      <td>55613</td>\n",
       "      <td>2345648</td>\n",
       "      <td>55247</td>\n",
       "      <td>3411</td>\n",
       "      <td>366</td>\n",
       "      <td>2.37</td>\n",
       "      <td>Europe</td>\n",
       "    </tr>\n",
       "  </tbody>\n",
       "</table>\n",
       "</div>"
      ],
      "text/plain": [
       "  Country/Region     Cases  Deaths    PCases  PDeaths  Cases (+)  Deaths (+)  \\\n",
       "0             US  14949299  283703  14756883   282299     192416        1404   \n",
       "1          India   9703770  140958   9677203   140573      26567         385   \n",
       "2         Brazil   6623911  177317   6603540   176941      20371         376   \n",
       "3         Russia   2466961   43122   2439163    42675      27798         447   \n",
       "4         France   2349059   55613   2345648    55247       3411         366   \n",
       "\n",
       "   Fatality Rate      Continent  \n",
       "0           1.90  North America  \n",
       "1           1.45           Asia  \n",
       "2           2.68  South America  \n",
       "3           1.75         Europe  \n",
       "4           2.37         Europe  "
      ]
     },
     "execution_count": 13,
     "metadata": {},
     "output_type": "execute_result"
    }
   ],
   "source": [
    "#hide\n",
    "for c in 'Cases, Deaths'.split(', '):\n",
    "    df_table[f'{c} (+)'] = (df_table[c] - df_table[f'P{c}']).clip(0)\n",
    "    #Clip ça veut dire, les chiffres negatif sont interdit\n",
    "df_table['Fatality Rate'] = (100* df_table['Deaths']/ df_table['Cases']).round(2)\n",
    "df_table['Continent'] = df_table['Country/Region'].map(mapping['map.continent'])\n",
    "df_table.head(5)"
   ]
  },
  {
   "cell_type": "code",
   "execution_count": 14,
   "metadata": {
    "execution": {
     "iopub.execute_input": "2020-12-09T00:11:52.921559Z",
     "iopub.status.busy": "2020-12-09T00:11:52.920945Z",
     "iopub.status.idle": "2020-12-09T00:11:52.923818Z",
     "shell.execute_reply": "2020-12-09T00:11:52.923305Z"
    },
    "papermill": {
     "duration": 0.040129,
     "end_time": "2020-12-09T00:11:52.924017",
     "exception": false,
     "start_time": "2020-12-09T00:11:52.883888",
     "status": "completed"
    },
    "tags": []
   },
   "outputs": [],
   "source": [
    "#hide\n",
    "#delete problematic countries from table\n",
    "df_table = df_table[~df_table['Country/Region'].isin(['Cape Verde', 'Cruise Ship', 'Kosovo'])]"
   ]
  },
  {
   "cell_type": "code",
   "execution_count": 15,
   "metadata": {
    "execution": {
     "iopub.execute_input": "2020-12-09T00:11:52.993160Z",
     "iopub.status.busy": "2020-12-09T00:11:52.992539Z",
     "iopub.status.idle": "2020-12-09T00:11:53.019098Z",
     "shell.execute_reply": "2020-12-09T00:11:53.018592Z"
    },
    "papermill": {
     "duration": 0.0652,
     "end_time": "2020-12-09T00:11:53.019267",
     "exception": false,
     "start_time": "2020-12-09T00:11:52.954067",
     "status": "completed"
    },
    "tags": []
   },
   "outputs": [
    {
     "data": {
      "text/html": [
       "<div>\n",
       "<style scoped>\n",
       "    .dataframe tbody tr th:only-of-type {\n",
       "        vertical-align: middle;\n",
       "    }\n",
       "\n",
       "    .dataframe tbody tr th {\n",
       "        vertical-align: top;\n",
       "    }\n",
       "\n",
       "    .dataframe thead th {\n",
       "        text-align: right;\n",
       "    }\n",
       "</style>\n",
       "<table border=\"1\" class=\"dataframe\">\n",
       "  <thead>\n",
       "    <tr style=\"text-align: right;\">\n",
       "      <th></th>\n",
       "      <th>Country/Region</th>\n",
       "      <th>Cases</th>\n",
       "      <th>Deaths</th>\n",
       "      <th>PCases</th>\n",
       "      <th>PDeaths</th>\n",
       "      <th>Cases (+)</th>\n",
       "      <th>Deaths (+)</th>\n",
       "      <th>Fatality Rate</th>\n",
       "      <th>Continent</th>\n",
       "    </tr>\n",
       "  </thead>\n",
       "  <tbody>\n",
       "    <tr>\n",
       "      <th>0</th>\n",
       "      <td>US</td>\n",
       "      <td>14949299</td>\n",
       "      <td>283703</td>\n",
       "      <td>14756883</td>\n",
       "      <td>282299</td>\n",
       "      <td>192416</td>\n",
       "      <td>1404</td>\n",
       "      <td>1.9</td>\n",
       "      <td>North America</td>\n",
       "    </tr>\n",
       "    <tr>\n",
       "      <th>1</th>\n",
       "      <td>India</td>\n",
       "      <td>9703770</td>\n",
       "      <td>140958</td>\n",
       "      <td>9677203</td>\n",
       "      <td>140573</td>\n",
       "      <td>26567</td>\n",
       "      <td>385</td>\n",
       "      <td>1.5</td>\n",
       "      <td>Asia</td>\n",
       "    </tr>\n",
       "    <tr>\n",
       "      <th>2</th>\n",
       "      <td>Brazil</td>\n",
       "      <td>6623911</td>\n",
       "      <td>177317</td>\n",
       "      <td>6603540</td>\n",
       "      <td>176941</td>\n",
       "      <td>20371</td>\n",
       "      <td>376</td>\n",
       "      <td>2.7</td>\n",
       "      <td>South America</td>\n",
       "    </tr>\n",
       "    <tr>\n",
       "      <th>3</th>\n",
       "      <td>Russia</td>\n",
       "      <td>2466961</td>\n",
       "      <td>43122</td>\n",
       "      <td>2439163</td>\n",
       "      <td>42675</td>\n",
       "      <td>27798</td>\n",
       "      <td>447</td>\n",
       "      <td>1.7</td>\n",
       "      <td>Europe</td>\n",
       "    </tr>\n",
       "    <tr>\n",
       "      <th>4</th>\n",
       "      <td>France</td>\n",
       "      <td>2349059</td>\n",
       "      <td>55613</td>\n",
       "      <td>2345648</td>\n",
       "      <td>55247</td>\n",
       "      <td>3411</td>\n",
       "      <td>366</td>\n",
       "      <td>2.4</td>\n",
       "      <td>Europe</td>\n",
       "    </tr>\n",
       "  </tbody>\n",
       "</table>\n",
       "</div>"
      ],
      "text/plain": [
       "  Country/Region     Cases  Deaths    PCases  PDeaths  Cases (+)  Deaths (+)  \\\n",
       "0             US  14949299  283703  14756883   282299     192416        1404   \n",
       "1          India   9703770  140958   9677203   140573      26567         385   \n",
       "2         Brazil   6623911  177317   6603540   176941      20371         376   \n",
       "3         Russia   2466961   43122   2439163    42675      27798         447   \n",
       "4         France   2349059   55613   2345648    55247       3411         366   \n",
       "\n",
       "   Fatality Rate      Continent  \n",
       "0            1.9  North America  \n",
       "1            1.5           Asia  \n",
       "2            2.7  South America  \n",
       "3            1.7         Europe  \n",
       "4            2.4         Europe  "
      ]
     },
     "execution_count": 15,
     "metadata": {},
     "output_type": "execute_result"
    }
   ],
   "source": [
    "#hide\n",
    "df_table = (pd.DataFrame(dict(Cases=dfc_cases, Deaths=dfc_deaths, PCases=dfp_cases, PDeaths=dfp_deaths))\n",
    "             .sort_values(by=['Cases', 'Deaths'], ascending=[False, False])\n",
    "             .reset_index())\n",
    "df_table.rename(columns={'index': 'Country/Region'}, inplace=True)\n",
    "for c in 'Cases, Deaths'.split(', '):\n",
    "    df_table[f'{c} (+)'] = (df_table[c] - df_table[f'P{c}']).clip(0)  # DATA BUG\n",
    "df_table['Fatality Rate'] = (100 * df_table['Deaths'] / df_table['Cases']).round(1)\n",
    "df_table['Continent'] = df_table['Country/Region'].map(mapping['map.continent'])\n",
    "df_table.head(5)"
   ]
  },
  {
   "cell_type": "code",
   "execution_count": 16,
   "metadata": {
    "execution": {
     "iopub.execute_input": "2020-12-09T00:11:53.087794Z",
     "iopub.status.busy": "2020-12-09T00:11:53.087135Z",
     "iopub.status.idle": "2020-12-09T00:11:53.089953Z",
     "shell.execute_reply": "2020-12-09T00:11:53.089458Z"
    },
    "papermill": {
     "duration": 0.039755,
     "end_time": "2020-12-09T00:11:53.090092",
     "exception": false,
     "start_time": "2020-12-09T00:11:53.050337",
     "status": "completed"
    },
    "tags": []
   },
   "outputs": [],
   "source": [
    "#hide\n",
    "#delete problematic countries from table\n",
    "df_table = df_table[~df_table['Country/Region'].isin(['Cape Verde', 'Cruise Ship', 'Kosovo'])]"
   ]
  },
  {
   "cell_type": "code",
   "execution_count": 17,
   "metadata": {
    "execution": {
     "iopub.execute_input": "2020-12-09T00:11:53.178289Z",
     "iopub.status.busy": "2020-12-09T00:11:53.177629Z",
     "iopub.status.idle": "2020-12-09T00:11:53.179761Z",
     "shell.execute_reply": "2020-12-09T00:11:53.180224Z"
    },
    "papermill": {
     "duration": 0.059745,
     "end_time": "2020-12-09T00:11:53.180386",
     "exception": false,
     "start_time": "2020-12-09T00:11:53.120641",
     "status": "completed"
    },
    "tags": []
   },
   "outputs": [],
   "source": [
    "#hide\n",
    "metrics = [df_table.columns[index] for index in [1,2,5,6]]\n",
    "# s_china = df_table[df_table['Country/Region'].eq('China')][metrics].sum().add_prefix('China ')\n",
    "s_us = df_table[df_table['Country/Region'].eq('US')][metrics].sum().add_prefix('US ')\n",
    "s_eu = df_table[df_table['Continent'].eq('Europe')][metrics].sum().add_prefix('EU ')\n",
    "s_ind = df_table[df_table['Country/Region'].eq('India')][metrics].sum().add_prefix('India ')\n",
    "summary = {'updated': pd.to_datetime(dt_today), 'since': pd.to_datetime(dt_yday)}\n",
    "summary = {'updated': pd.to_datetime(dt_today), 'since': pd.to_datetime(dt_yday)}\n",
    "summary = {**summary, **df_table[metrics].sum(), **s_ind, **s_us, **s_eu}"
   ]
  },
  {
   "cell_type": "code",
   "execution_count": 18,
   "metadata": {
    "execution": {
     "iopub.execute_input": "2020-12-09T00:11:53.252372Z",
     "iopub.status.busy": "2020-12-09T00:11:53.251744Z",
     "iopub.status.idle": "2020-12-09T00:11:53.267806Z",
     "shell.execute_reply": "2020-12-09T00:11:53.267251Z"
    },
    "papermill": {
     "duration": 0.055874,
     "end_time": "2020-12-09T00:11:53.267949",
     "exception": false,
     "start_time": "2020-12-09T00:11:53.212075",
     "status": "completed"
    },
    "tags": []
   },
   "outputs": [],
   "source": [
    "#hide\n",
    "dft_ct_new_cases = dft_cases.groupby(COL_REGION)[dt_cols].sum().diff(axis=1).fillna(0).astype(int)"
   ]
  },
  {
   "cell_type": "code",
   "execution_count": 19,
   "metadata": {
    "execution": {
     "iopub.execute_input": "2020-12-09T00:11:53.358639Z",
     "iopub.status.busy": "2020-12-09T00:11:53.358024Z",
     "iopub.status.idle": "2020-12-09T00:11:53.360370Z",
     "shell.execute_reply": "2020-12-09T00:11:53.359771Z"
    },
    "papermill": {
     "duration": 0.060709,
     "end_time": "2020-12-09T00:11:53.360503",
     "exception": false,
     "start_time": "2020-12-09T00:11:53.299794",
     "status": "completed"
    },
    "tags": []
   },
   "outputs": [],
   "source": [
    "#hide\n",
    "everydaycases = dft_ct_new_cases.cumsum(axis=1)"
   ]
  },
  {
   "cell_type": "code",
   "execution_count": 20,
   "metadata": {
    "execution": {
     "iopub.execute_input": "2020-12-09T00:11:53.430114Z",
     "iopub.status.busy": "2020-12-09T00:11:53.429499Z",
     "iopub.status.idle": "2020-12-09T00:11:54.484707Z",
     "shell.execute_reply": "2020-12-09T00:11:54.484160Z"
    },
    "papermill": {
     "duration": 1.091917,
     "end_time": "2020-12-09T00:11:54.484858",
     "exception": false,
     "start_time": "2020-12-09T00:11:53.392941",
     "status": "completed"
    },
    "tags": []
   },
   "outputs": [],
   "source": [
    "#hide\n",
    "import pandas as pd\n",
    "import matplotlib.pyplot as plt\n",
    "import matplotlib.ticker as ticker\n",
    "import matplotlib.animation as animation\n",
    "from IPython.display import HTML"
   ]
  },
  {
   "cell_type": "code",
   "execution_count": 21,
   "metadata": {
    "execution": {
     "iopub.execute_input": "2020-12-09T00:11:54.557108Z",
     "iopub.status.busy": "2020-12-09T00:11:54.556476Z",
     "iopub.status.idle": "2020-12-09T00:11:54.562279Z",
     "shell.execute_reply": "2020-12-09T00:11:54.562876Z"
    },
    "papermill": {
     "duration": 0.042324,
     "end_time": "2020-12-09T00:11:54.563035",
     "exception": false,
     "start_time": "2020-12-09T00:11:54.520711",
     "status": "completed"
    },
    "tags": []
   },
   "outputs": [],
   "source": [
    "#hide\n",
    "t = everydaycases.stack()"
   ]
  },
  {
   "cell_type": "code",
   "execution_count": 22,
   "metadata": {
    "execution": {
     "iopub.execute_input": "2020-12-09T00:11:54.630294Z",
     "iopub.status.busy": "2020-12-09T00:11:54.629582Z",
     "iopub.status.idle": "2020-12-09T00:11:54.636731Z",
     "shell.execute_reply": "2020-12-09T00:11:54.636204Z"
    },
    "papermill": {
     "duration": 0.042932,
     "end_time": "2020-12-09T00:11:54.636865",
     "exception": false,
     "start_time": "2020-12-09T00:11:54.593933",
     "status": "completed"
    },
    "tags": []
   },
   "outputs": [],
   "source": [
    "#hide\n",
    "g = t.reset_index(['Country/Region'])"
   ]
  },
  {
   "cell_type": "code",
   "execution_count": 23,
   "metadata": {
    "execution": {
     "iopub.execute_input": "2020-12-09T00:11:54.709733Z",
     "iopub.status.busy": "2020-12-09T00:11:54.709011Z",
     "iopub.status.idle": "2020-12-09T00:11:54.710337Z",
     "shell.execute_reply": "2020-12-09T00:11:54.710908Z"
    },
    "papermill": {
     "duration": 0.037084,
     "end_time": "2020-12-09T00:11:54.711063",
     "exception": false,
     "start_time": "2020-12-09T00:11:54.673979",
     "status": "completed"
    },
    "tags": []
   },
   "outputs": [],
   "source": [
    "#hide\n",
    "g.index.name = 'date'"
   ]
  },
  {
   "cell_type": "code",
   "execution_count": 24,
   "metadata": {
    "execution": {
     "iopub.execute_input": "2020-12-09T00:11:54.777245Z",
     "iopub.status.busy": "2020-12-09T00:11:54.776577Z",
     "iopub.status.idle": "2020-12-09T00:11:54.777813Z",
     "shell.execute_reply": "2020-12-09T00:11:54.778386Z"
    },
    "papermill": {
     "duration": 0.036726,
     "end_time": "2020-12-09T00:11:54.778597",
     "exception": false,
     "start_time": "2020-12-09T00:11:54.741871",
     "status": "completed"
    },
    "tags": []
   },
   "outputs": [],
   "source": [
    "# #hide\n",
    "# g = g.reset_index(['date'])"
   ]
  },
  {
   "cell_type": "code",
   "execution_count": 25,
   "metadata": {
    "execution": {
     "iopub.execute_input": "2020-12-09T00:11:54.847343Z",
     "iopub.status.busy": "2020-12-09T00:11:54.846639Z",
     "iopub.status.idle": "2020-12-09T00:11:54.849424Z",
     "shell.execute_reply": "2020-12-09T00:11:54.849945Z"
    },
    "papermill": {
     "duration": 0.039077,
     "end_time": "2020-12-09T00:11:54.850099",
     "exception": false,
     "start_time": "2020-12-09T00:11:54.811022",
     "status": "completed"
    },
    "tags": []
   },
   "outputs": [],
   "source": [
    "#hide\n",
    "# g.head()"
   ]
  },
  {
   "cell_type": "code",
   "execution_count": 26,
   "metadata": {
    "execution": {
     "iopub.execute_input": "2020-12-09T00:11:54.920550Z",
     "iopub.status.busy": "2020-12-09T00:11:54.919939Z",
     "iopub.status.idle": "2020-12-09T00:11:54.922254Z",
     "shell.execute_reply": "2020-12-09T00:11:54.921758Z"
    },
    "papermill": {
     "duration": 0.038113,
     "end_time": "2020-12-09T00:11:54.922392",
     "exception": false,
     "start_time": "2020-12-09T00:11:54.884279",
     "status": "completed"
    },
    "tags": []
   },
   "outputs": [],
   "source": [
    "#hide\n",
    "# g.columns = ['date','country','cases']"
   ]
  },
  {
   "cell_type": "code",
   "execution_count": 27,
   "metadata": {
    "execution": {
     "iopub.execute_input": "2020-12-09T00:11:55.030295Z",
     "iopub.status.busy": "2020-12-09T00:11:55.029679Z",
     "iopub.status.idle": "2020-12-09T00:11:55.032072Z",
     "shell.execute_reply": "2020-12-09T00:11:55.031475Z"
    },
    "papermill": {
     "duration": 0.037189,
     "end_time": "2020-12-09T00:11:55.032203",
     "exception": false,
     "start_time": "2020-12-09T00:11:54.995014",
     "status": "completed"
    },
    "tags": []
   },
   "outputs": [],
   "source": [
    "#hide\n",
    "# g['continent'] = g.country"
   ]
  },
  {
   "cell_type": "code",
   "execution_count": 28,
   "metadata": {
    "execution": {
     "iopub.execute_input": "2020-12-09T00:11:55.097578Z",
     "iopub.status.busy": "2020-12-09T00:11:55.096972Z",
     "iopub.status.idle": "2020-12-09T00:11:55.098895Z",
     "shell.execute_reply": "2020-12-09T00:11:55.099437Z"
    },
    "papermill": {
     "duration": 0.036838,
     "end_time": "2020-12-09T00:11:55.099591",
     "exception": false,
     "start_time": "2020-12-09T00:11:55.062753",
     "status": "completed"
    },
    "tags": []
   },
   "outputs": [],
   "source": [
    "#hide\n",
    "# cols = list(g.columns.values)"
   ]
  },
  {
   "cell_type": "code",
   "execution_count": 29,
   "metadata": {
    "execution": {
     "iopub.execute_input": "2020-12-09T00:11:55.165401Z",
     "iopub.status.busy": "2020-12-09T00:11:55.164793Z",
     "iopub.status.idle": "2020-12-09T00:11:55.167805Z",
     "shell.execute_reply": "2020-12-09T00:11:55.167281Z"
    },
    "papermill": {
     "duration": 0.037496,
     "end_time": "2020-12-09T00:11:55.167938",
     "exception": false,
     "start_time": "2020-12-09T00:11:55.130442",
     "status": "completed"
    },
    "tags": []
   },
   "outputs": [],
   "source": [
    "#hide\n",
    "# cols.insert(0, cols.pop())"
   ]
  },
  {
   "cell_type": "code",
   "execution_count": 30,
   "metadata": {
    "execution": {
     "iopub.execute_input": "2020-12-09T00:11:55.233646Z",
     "iopub.status.busy": "2020-12-09T00:11:55.233029Z",
     "iopub.status.idle": "2020-12-09T00:11:55.235474Z",
     "shell.execute_reply": "2020-12-09T00:11:55.234953Z"
    },
    "papermill": {
     "duration": 0.037068,
     "end_time": "2020-12-09T00:11:55.235616",
     "exception": false,
     "start_time": "2020-12-09T00:11:55.198548",
     "status": "completed"
    },
    "tags": []
   },
   "outputs": [],
   "source": [
    "#hide\n",
    "# g = g[cols]"
   ]
  },
  {
   "cell_type": "code",
   "execution_count": 31,
   "metadata": {
    "execution": {
     "iopub.execute_input": "2020-12-09T00:11:55.300990Z",
     "iopub.status.busy": "2020-12-09T00:11:55.300384Z",
     "iopub.status.idle": "2020-12-09T00:11:55.303022Z",
     "shell.execute_reply": "2020-12-09T00:11:55.302538Z"
    },
    "papermill": {
     "duration": 0.037005,
     "end_time": "2020-12-09T00:11:55.303184",
     "exception": false,
     "start_time": "2020-12-09T00:11:55.266179",
     "status": "completed"
    },
    "tags": []
   },
   "outputs": [],
   "source": [
    "#hide\n",
    "# g['continent'] = g['continent'].map(mapping['map.continent'])"
   ]
  },
  {
   "cell_type": "code",
   "execution_count": 32,
   "metadata": {
    "execution": {
     "iopub.execute_input": "2020-12-09T00:11:55.369444Z",
     "iopub.status.busy": "2020-12-09T00:11:55.368835Z",
     "iopub.status.idle": "2020-12-09T00:11:55.371170Z",
     "shell.execute_reply": "2020-12-09T00:11:55.370558Z"
    },
    "papermill": {
     "duration": 0.03739,
     "end_time": "2020-12-09T00:11:55.371311",
     "exception": false,
     "start_time": "2020-12-09T00:11:55.333921",
     "status": "completed"
    },
    "tags": []
   },
   "outputs": [],
   "source": [
    "#hide\n",
    "# g.head()"
   ]
  },
  {
   "cell_type": "code",
   "execution_count": 33,
   "metadata": {
    "execution": {
     "iopub.execute_input": "2020-12-09T00:11:55.441322Z",
     "iopub.status.busy": "2020-12-09T00:11:55.440679Z",
     "iopub.status.idle": "2020-12-09T00:11:55.444850Z",
     "shell.execute_reply": "2020-12-09T00:11:55.444330Z"
    },
    "papermill": {
     "duration": 0.043362,
     "end_time": "2020-12-09T00:11:55.444984",
     "exception": false,
     "start_time": "2020-12-09T00:11:55.401622",
     "status": "completed"
    },
    "tags": []
   },
   "outputs": [],
   "source": [
    "# hide\n",
    "# g['date'] = g['date'].astype('datetime64[ns]')"
   ]
  },
  {
   "cell_type": "code",
   "execution_count": 34,
   "metadata": {
    "execution": {
     "iopub.execute_input": "2020-12-09T00:11:55.510537Z",
     "iopub.status.busy": "2020-12-09T00:11:55.509844Z",
     "iopub.status.idle": "2020-12-09T00:11:55.511572Z",
     "shell.execute_reply": "2020-12-09T00:11:55.512032Z"
    },
    "papermill": {
     "duration": 0.03655,
     "end_time": "2020-12-09T00:11:55.512191",
     "exception": false,
     "start_time": "2020-12-09T00:11:55.475641",
     "status": "completed"
    },
    "tags": []
   },
   "outputs": [],
   "source": [
    "#hide\n",
    "# g['date'] = g.date.dt.dayofyear"
   ]
  },
  {
   "cell_type": "code",
   "execution_count": 35,
   "metadata": {
    "execution": {
     "iopub.execute_input": "2020-12-09T00:11:55.577442Z",
     "iopub.status.busy": "2020-12-09T00:11:55.576800Z",
     "iopub.status.idle": "2020-12-09T00:11:55.579214Z",
     "shell.execute_reply": "2020-12-09T00:11:55.578582Z"
    },
    "papermill": {
     "duration": 0.036837,
     "end_time": "2020-12-09T00:11:55.579352",
     "exception": false,
     "start_time": "2020-12-09T00:11:55.542515",
     "status": "completed"
    },
    "tags": []
   },
   "outputs": [],
   "source": [
    "#hide\n",
    "# g = g.rename(columns= {'continent':'group','country':'name','cases':'value'})"
   ]
  },
  {
   "cell_type": "code",
   "execution_count": 36,
   "metadata": {
    "execution": {
     "iopub.execute_input": "2020-12-09T00:11:55.655534Z",
     "iopub.status.busy": "2020-12-09T00:11:55.654384Z",
     "iopub.status.idle": "2020-12-09T00:11:55.656655Z",
     "shell.execute_reply": "2020-12-09T00:11:55.657215Z"
    },
    "papermill": {
     "duration": 0.0464,
     "end_time": "2020-12-09T00:11:55.657367",
     "exception": false,
     "start_time": "2020-12-09T00:11:55.610967",
     "status": "completed"
    },
    "tags": []
   },
   "outputs": [],
   "source": [
    "#hide\n",
    "# cols = ['name','group','day','value']"
   ]
  },
  {
   "cell_type": "code",
   "execution_count": 37,
   "metadata": {
    "execution": {
     "iopub.execute_input": "2020-12-09T00:11:55.737398Z",
     "iopub.status.busy": "2020-12-09T00:11:55.736753Z",
     "iopub.status.idle": "2020-12-09T00:11:55.739221Z",
     "shell.execute_reply": "2020-12-09T00:11:55.738660Z"
    },
    "papermill": {
     "duration": 0.036836,
     "end_time": "2020-12-09T00:11:55.739362",
     "exception": false,
     "start_time": "2020-12-09T00:11:55.702526",
     "status": "completed"
    },
    "tags": []
   },
   "outputs": [],
   "source": [
    "#hide\n",
    "# g.rename(columns= {'date':'day'},inplace = True)"
   ]
  },
  {
   "cell_type": "code",
   "execution_count": 38,
   "metadata": {
    "execution": {
     "iopub.execute_input": "2020-12-09T00:11:55.811755Z",
     "iopub.status.busy": "2020-12-09T00:11:55.811106Z",
     "iopub.status.idle": "2020-12-09T00:11:55.814170Z",
     "shell.execute_reply": "2020-12-09T00:11:55.813659Z"
    },
    "papermill": {
     "duration": 0.043785,
     "end_time": "2020-12-09T00:11:55.814300",
     "exception": false,
     "start_time": "2020-12-09T00:11:55.770515",
     "status": "completed"
    },
    "tags": []
   },
   "outputs": [],
   "source": [
    "#hide\n",
    "# g = g[cols]"
   ]
  },
  {
   "cell_type": "code",
   "execution_count": 39,
   "metadata": {
    "execution": {
     "iopub.execute_input": "2020-12-09T00:11:55.881378Z",
     "iopub.status.busy": "2020-12-09T00:11:55.880742Z",
     "iopub.status.idle": "2020-12-09T00:11:55.882545Z",
     "shell.execute_reply": "2020-12-09T00:11:55.883273Z"
    },
    "papermill": {
     "duration": 0.037805,
     "end_time": "2020-12-09T00:11:55.883437",
     "exception": false,
     "start_time": "2020-12-09T00:11:55.845632",
     "status": "completed"
    },
    "tags": []
   },
   "outputs": [],
   "source": [
    "# #hide\n",
    "# g = g[g.group.notna()]"
   ]
  },
  {
   "cell_type": "code",
   "execution_count": 40,
   "metadata": {
    "execution": {
     "iopub.execute_input": "2020-12-09T00:11:55.949327Z",
     "iopub.status.busy": "2020-12-09T00:11:55.948701Z",
     "iopub.status.idle": "2020-12-09T00:11:55.951244Z",
     "shell.execute_reply": "2020-12-09T00:11:55.950698Z"
    },
    "papermill": {
     "duration": 0.037039,
     "end_time": "2020-12-09T00:11:55.951383",
     "exception": false,
     "start_time": "2020-12-09T00:11:55.914344",
     "status": "completed"
    },
    "tags": []
   },
   "outputs": [],
   "source": [
    "# #hide\n",
    "# colors = dict(zip(\n",
    "#     [\"Oceania\", \"Europe\", \"Asia\", \"South America\", \"Middle East\", \"North America\", \"Africa\"],\n",
    "#     [\"#adb0ff\", \"#ffb3ff\", \"#90d595\", \"#e48381\", \"#aafbff\", \"#f7bb5f\", \"#eafb50\"]\n",
    "# ))\n",
    "# group_lk = g.set_index('name')['group'].to_dict()"
   ]
  },
  {
   "cell_type": "code",
   "execution_count": null,
   "metadata": {
    "papermill": {
     "duration": 0.030432,
     "end_time": "2020-12-09T00:11:56.012060",
     "exception": false,
     "start_time": "2020-12-09T00:11:55.981628",
     "status": "completed"
    },
    "tags": []
   },
   "outputs": [],
   "source": []
  },
  {
   "cell_type": "code",
   "execution_count": 41,
   "metadata": {
    "execution": {
     "iopub.execute_input": "2020-12-09T00:11:56.079476Z",
     "iopub.status.busy": "2020-12-09T00:11:56.078296Z",
     "iopub.status.idle": "2020-12-09T00:11:56.080601Z",
     "shell.execute_reply": "2020-12-09T00:11:56.081427Z"
    },
    "papermill": {
     "duration": 0.039203,
     "end_time": "2020-12-09T00:11:56.081672",
     "exception": false,
     "start_time": "2020-12-09T00:11:56.042469",
     "status": "completed"
    },
    "tags": []
   },
   "outputs": [],
   "source": [
    "# #hide\n",
    "# fig, ax = plt.subplots(figsize=(15, 8))\n",
    "\n",
    "# def draw_barchart(current_day):\n",
    "#     dff = g[g['day'].eq(current_day)].sort_values(by='value', ascending=True).tail(10)\n",
    "#     ax.clear()\n",
    "#     ax.barh(dff['name'], dff['value'], color=[colors[group_lk[x]] for x in dff['name']])\n",
    "#     dx = dff['value'].max() / 200\n",
    "    \n",
    "#     for i, (value, name) in enumerate(zip(dff['value'], dff['name'])):\n",
    "#         ax.text(value-dx, i,     name,           size=14, weight=600, ha='right', va='bottom')\n",
    "#         ax.text(value-dx, i-.25, group_lk[name], size=10, color='#444444', ha='right', va='baseline')\n",
    "#         ax.text(value+dx, i,     f'{value:,.0f}',  size=14, ha='left',  va='center')\n",
    "#     ax.text(1, 0.4, current_day, transform=ax.transAxes, color='#777777', size=46, ha='right', weight=800)\n",
    "#     ax.text(0, 1.06, 'Population (thousands)', transform=ax.transAxes, size=12, color='#777777')\n",
    "#     ax.xaxis.set_major_formatter(ticker.StrMethodFormatter('{x:,.0f}'))\n",
    "#     ax.xaxis.set_ticks_position('top')\n",
    "#     ax.tick_params(axis='x', colors='#777777', labelsize=12)\n",
    "#     ax.set_yticks([])\n",
    "#     ax.margins(0, 0.01)\n",
    "#     ax.grid(which='major', axis='x', linestyle='-')\n",
    "#     ax.set_axisbelow(True)\n",
    "    \n",
    "#     ax.text(0, 1.15, 'Coronavirus',\n",
    "#             transform=ax.transAxes, size=24, weight=600, ha='left', va='top')\n",
    "# #     ax.text(1, 0, 'by @pratapvardhan; credit @jburnmurdoch', transform=ax.transAxes, color='#777777', ha='right',\n",
    "# #             bbox=dict(facecolor='white', alpha=0.8, edgecolor='white'))\n",
    "#     plt.box(False)"
   ]
  },
  {
   "cell_type": "code",
   "execution_count": 42,
   "metadata": {
    "execution": {
     "iopub.execute_input": "2020-12-09T00:11:56.156965Z",
     "iopub.status.busy": "2020-12-09T00:11:56.156199Z",
     "iopub.status.idle": "2020-12-09T00:11:56.158185Z",
     "shell.execute_reply": "2020-12-09T00:11:56.158640Z"
    },
    "papermill": {
     "duration": 0.042522,
     "end_time": "2020-12-09T00:11:56.158790",
     "exception": false,
     "start_time": "2020-12-09T00:11:56.116268",
     "status": "completed"
    },
    "tags": []
   },
   "outputs": [],
   "source": [
    "# #hide_input\n",
    "# fig, ax = plt.subplots(figsize=(15, 8))\n",
    "# animator = animation.FuncAnimation(fig, draw_barchart, frames=range(g.day.values.min(), g.day.values.max()))\n",
    "# HTML(animator.to_jshtml())\n",
    "# # or use animator.to_html5_video() or animator.save() "
   ]
  },
  {
   "cell_type": "code",
   "execution_count": null,
   "metadata": {
    "papermill": {
     "duration": 0.0306,
     "end_time": "2020-12-09T00:11:56.220895",
     "exception": false,
     "start_time": "2020-12-09T00:11:56.190295",
     "status": "completed"
    },
    "tags": []
   },
   "outputs": [],
   "source": []
  },
  {
   "cell_type": "code",
   "execution_count": null,
   "metadata": {
    "papermill": {
     "duration": 0.030349,
     "end_time": "2020-12-09T00:11:56.281553",
     "exception": false,
     "start_time": "2020-12-09T00:11:56.251204",
     "status": "completed"
    },
    "tags": []
   },
   "outputs": [],
   "source": []
  },
  {
   "cell_type": "code",
   "execution_count": null,
   "metadata": {
    "papermill": {
     "duration": 0.030274,
     "end_time": "2020-12-09T00:11:56.342405",
     "exception": false,
     "start_time": "2020-12-09T00:11:56.312131",
     "status": "completed"
    },
    "tags": []
   },
   "outputs": [],
   "source": []
  }
 ],
 "metadata": {
  "kernelspec": {
   "display_name": "Python 3",
   "language": "python",
   "name": "python3"
  },
  "language_info": {
   "codemirror_mode": {
    "name": "ipython",
    "version": 3
   },
   "file_extension": ".py",
   "mimetype": "text/x-python",
   "name": "python",
   "nbconvert_exporter": "python",
   "pygments_lexer": "ipython3",
   "version": "3.6.12"
  },
  "papermill": {
   "duration": 6.700643,
   "end_time": "2020-12-09T00:11:56.683299",
   "environment_variables": {},
   "exception": null,
   "input_path": "2020-03-21-covid19exp.ipynb",
   "output_path": "2020-03-21-covid19exp.ipynb",
   "parameters": {},
   "start_time": "2020-12-09T00:11:49.982656",
   "version": "2.0.0"
  }
 },
 "nbformat": 4,
 "nbformat_minor": 4
}