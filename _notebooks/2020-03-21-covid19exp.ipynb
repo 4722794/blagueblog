{
 "cells": [
  {
   "cell_type": "markdown",
   "id": "muslim-click",
   "metadata": {
    "papermill": {
     "duration": 0.034661,
     "end_time": "2022-01-22T00:23:34.159678",
     "exception": false,
     "start_time": "2022-01-22T00:23:34.125017",
     "status": "completed"
    },
    "tags": []
   },
   "source": [
    "# COVID-19 Case Race\n",
    "> A race chart to see rising cases around the world\n",
    "\n",
    "- author: Hargun Oberoi\n",
    "- image: images/covid-overview.png\n",
    "- hide: false\n",
    "- badges: false"
   ]
  },
  {
   "cell_type": "code",
   "execution_count": 1,
   "id": "proof-material",
   "metadata": {
    "execution": {
     "iopub.execute_input": "2022-01-22T00:23:34.230826Z",
     "iopub.status.busy": "2022-01-22T00:23:34.230245Z",
     "iopub.status.idle": "2022-01-22T00:23:34.558103Z",
     "shell.execute_reply": "2022-01-22T00:23:34.557636Z"
    },
    "papermill": {
     "duration": 0.368143,
     "end_time": "2022-01-22T00:23:34.558242",
     "exception": false,
     "start_time": "2022-01-22T00:23:34.190099",
     "status": "completed"
    },
    "tags": []
   },
   "outputs": [],
   "source": [
    "#hide\n",
    "import numpy as np\n",
    "import pandas as pd\n",
    "from jinja2 import Template\n",
    "from IPython.display import HTML"
   ]
  },
  {
   "cell_type": "code",
   "execution_count": 2,
   "id": "developed-terminology",
   "metadata": {
    "execution": {
     "iopub.execute_input": "2022-01-22T00:23:34.624093Z",
     "iopub.status.busy": "2022-01-22T00:23:34.623553Z",
     "iopub.status.idle": "2022-01-22T00:23:34.625590Z",
     "shell.execute_reply": "2022-01-22T00:23:34.625995Z"
    },
    "papermill": {
     "duration": 0.03767,
     "end_time": "2022-01-22T00:23:34.626137",
     "exception": false,
     "start_time": "2022-01-22T00:23:34.588467",
     "status": "completed"
    },
    "tags": []
   },
   "outputs": [],
   "source": [
    "#hide\n",
    "\n",
    "# FETCH\n",
    "base_url = 'https://raw.githubusercontent.com/pratapvardhan/notebooks/master/covid19/'\n",
    "paths = {\n",
    "    'mapping': base_url + 'mapping_countries.csv',\n",
    "    'overview': base_url + 'overview.tpl'\n",
    "}"
   ]
  },
  {
   "cell_type": "code",
   "execution_count": 3,
   "id": "dynamic-saver",
   "metadata": {
    "execution": {
     "iopub.execute_input": "2022-01-22T00:23:34.695688Z",
     "iopub.status.busy": "2022-01-22T00:23:34.695159Z",
     "iopub.status.idle": "2022-01-22T00:23:34.697889Z",
     "shell.execute_reply": "2022-01-22T00:23:34.697381Z"
    },
    "papermill": {
     "duration": 0.041964,
     "end_time": "2022-01-22T00:23:34.698001",
     "exception": false,
     "start_time": "2022-01-22T00:23:34.656037",
     "status": "completed"
    },
    "tags": []
   },
   "outputs": [
    {
     "data": {
      "text/plain": [
       "'https://raw.githubusercontent.com/pratapvardhan/notebooks/master/covid19/mapping_countries.csv'"
      ]
     },
     "execution_count": 3,
     "metadata": {},
     "output_type": "execute_result"
    }
   ],
   "source": [
    "#hide\n",
    "paths['mapping']"
   ]
  },
  {
   "cell_type": "code",
   "execution_count": 4,
   "id": "urban-software",
   "metadata": {
    "execution": {
     "iopub.execute_input": "2022-01-22T00:23:34.763633Z",
     "iopub.status.busy": "2022-01-22T00:23:34.763083Z",
     "iopub.status.idle": "2022-01-22T00:23:34.766789Z",
     "shell.execute_reply": "2022-01-22T00:23:34.766328Z"
    },
    "papermill": {
     "duration": 0.038714,
     "end_time": "2022-01-22T00:23:34.766910",
     "exception": false,
     "start_time": "2022-01-22T00:23:34.728196",
     "status": "completed"
    },
    "tags": []
   },
   "outputs": [],
   "source": [
    "#hide\n",
    "def get_mappings(url):\n",
    "    df = pd.read_csv(url)\n",
    "    return {\n",
    "        'df': df,\n",
    "        'replace.country': dict(df.dropna(subset=['Name']).set_index('Country')['Name']),\n",
    "        'map.continent': dict(df.set_index('Name')['Continent'])\n",
    "    }"
   ]
  },
  {
   "cell_type": "code",
   "execution_count": 5,
   "id": "intimate-machinery",
   "metadata": {
    "execution": {
     "iopub.execute_input": "2022-01-22T00:23:34.832501Z",
     "iopub.status.busy": "2022-01-22T00:23:34.831947Z",
     "iopub.status.idle": "2022-01-22T00:23:34.857693Z",
     "shell.execute_reply": "2022-01-22T00:23:34.857193Z"
    },
    "papermill": {
     "duration": 0.060804,
     "end_time": "2022-01-22T00:23:34.857826",
     "exception": false,
     "start_time": "2022-01-22T00:23:34.797022",
     "status": "completed"
    },
    "tags": []
   },
   "outputs": [],
   "source": [
    "#hide\n",
    "mapping = get_mappings(paths['mapping'])"
   ]
  },
  {
   "cell_type": "code",
   "execution_count": 6,
   "id": "certified-tactics",
   "metadata": {
    "execution": {
     "iopub.execute_input": "2022-01-22T00:23:34.924137Z",
     "iopub.status.busy": "2022-01-22T00:23:34.923610Z",
     "iopub.status.idle": "2022-01-22T00:23:34.925534Z",
     "shell.execute_reply": "2022-01-22T00:23:34.926023Z"
    },
    "papermill": {
     "duration": 0.037496,
     "end_time": "2022-01-22T00:23:34.926153",
     "exception": false,
     "start_time": "2022-01-22T00:23:34.888657",
     "status": "completed"
    },
    "tags": []
   },
   "outputs": [],
   "source": [
    "#hide\n",
    "def get_template(path):\n",
    "    from urllib.parse import urlparse\n",
    "    if bool(urlparse(path).netloc):\n",
    "        from urllib.request import urlopen\n",
    "        return urlopen(path).read().decode('utf8')\n",
    "    return open(path).read()"
   ]
  },
  {
   "cell_type": "code",
   "execution_count": 7,
   "id": "realistic-blast",
   "metadata": {
    "execution": {
     "iopub.execute_input": "2022-01-22T00:23:34.992238Z",
     "iopub.status.busy": "2022-01-22T00:23:34.991598Z",
     "iopub.status.idle": "2022-01-22T00:23:34.995419Z",
     "shell.execute_reply": "2022-01-22T00:23:34.994991Z"
    },
    "papermill": {
     "duration": 0.039129,
     "end_time": "2022-01-22T00:23:34.995538",
     "exception": false,
     "start_time": "2022-01-22T00:23:34.956409",
     "status": "completed"
    },
    "tags": []
   },
   "outputs": [],
   "source": [
    "#hide\n",
    "def get_frame(name):\n",
    "    url = (\n",
    "        'https://raw.githubusercontent.com/CSSEGISandData/COVID-19/master/csse_covid_19_data/'\n",
    "        f'csse_covid_19_time_series/time_series_covid19_{name}_global.csv')\n",
    "    df = pd.read_csv(url)\n",
    "    # rename countries\n",
    "    df['Country/Region'] = df['Country/Region'].replace(mapping['replace.country'])\n",
    "    return df"
   ]
  },
  {
   "cell_type": "code",
   "execution_count": 8,
   "id": "affiliated-characterization",
   "metadata": {
    "execution": {
     "iopub.execute_input": "2022-01-22T00:23:35.062570Z",
     "iopub.status.busy": "2022-01-22T00:23:35.061907Z",
     "iopub.status.idle": "2022-01-22T00:23:35.063466Z",
     "shell.execute_reply": "2022-01-22T00:23:35.063903Z"
    },
    "papermill": {
     "duration": 0.038265,
     "end_time": "2022-01-22T00:23:35.064055",
     "exception": false,
     "start_time": "2022-01-22T00:23:35.025790",
     "status": "completed"
    },
    "tags": []
   },
   "outputs": [],
   "source": [
    "#hide\n",
    "def get_dates(df):\n",
    "    dt_cols = df.columns[~df.columns.isin(['Province/State', 'Country/Region', 'Lat', 'Long'])]\n",
    "    LAST_DATE_I = -1\n",
    "    # sometimes last column may be empty, then go backwards\n",
    "    for i in range(-1, -len(dt_cols), -1):\n",
    "        if not df[dt_cols[i]].fillna(0).eq(0).all():\n",
    "            LAST_DATE_I = i\n",
    "            break\n",
    "    return LAST_DATE_I, dt_cols"
   ]
  },
  {
   "cell_type": "code",
   "execution_count": 9,
   "id": "recent-optimization",
   "metadata": {
    "execution": {
     "iopub.execute_input": "2022-01-22T00:23:35.129609Z",
     "iopub.status.busy": "2022-01-22T00:23:35.129053Z",
     "iopub.status.idle": "2022-01-22T00:23:35.438935Z",
     "shell.execute_reply": "2022-01-22T00:23:35.438377Z"
    },
    "papermill": {
     "duration": 0.344439,
     "end_time": "2022-01-22T00:23:35.439077",
     "exception": false,
     "start_time": "2022-01-22T00:23:35.094638",
     "status": "completed"
    },
    "tags": []
   },
   "outputs": [],
   "source": [
    "#hide\n",
    "COL_REGION = 'Country/Region'\n",
    "# Confirmed, Recovered, Deaths\n",
    "df = get_frame('confirmed')\n",
    "# dft_: timeseries, dfc_: today country agg\n",
    "dft_cases = df\n",
    "dft_deaths = get_frame('deaths')\n",
    "dft_recovered = get_frame('recovered')\n",
    "LAST_DATE_I, dt_cols = get_dates(df)"
   ]
  },
  {
   "cell_type": "code",
   "execution_count": 10,
   "id": "absolute-copper",
   "metadata": {
    "execution": {
     "iopub.execute_input": "2022-01-22T00:23:35.506237Z",
     "iopub.status.busy": "2022-01-22T00:23:35.505704Z",
     "iopub.status.idle": "2022-01-22T00:23:35.507786Z",
     "shell.execute_reply": "2022-01-22T00:23:35.507378Z"
    },
    "papermill": {
     "duration": 0.037137,
     "end_time": "2022-01-22T00:23:35.507898",
     "exception": false,
     "start_time": "2022-01-22T00:23:35.470761",
     "status": "completed"
    },
    "tags": []
   },
   "outputs": [],
   "source": [
    "#hide\n",
    "LAST_DATE_I, dt_cols = get_dates(df)\n",
    "dt_today =dt_cols[LAST_DATE_I]\n",
    "# dt_5day = dt_cols[LAST_DATE_I - 5]\n",
    "dt_yday = dt_cols[LAST_DATE_I - 1]"
   ]
  },
  {
   "cell_type": "code",
   "execution_count": 11,
   "id": "restricted-sheriff",
   "metadata": {
    "execution": {
     "iopub.execute_input": "2022-01-22T00:23:35.574358Z",
     "iopub.status.busy": "2022-01-22T00:23:35.573833Z",
     "iopub.status.idle": "2022-01-22T00:23:35.580915Z",
     "shell.execute_reply": "2022-01-22T00:23:35.580502Z"
    },
    "papermill": {
     "duration": 0.043084,
     "end_time": "2022-01-22T00:23:35.581029",
     "exception": false,
     "start_time": "2022-01-22T00:23:35.537945",
     "status": "completed"
    },
    "tags": []
   },
   "outputs": [],
   "source": [
    "#hide\n",
    "dfc_cases = dft_cases.groupby(COL_REGION)[dt_today].sum()\n",
    "dfc_deaths = dft_deaths.groupby(COL_REGION)[dt_today].sum()\n",
    "# dfp_cases = dft_cases.groupby(COL_REGION)[dt_5day].sum()\n",
    "# dfp_deaths = dft_deaths.groupby(COL_REGION)[dt_5day].sum()\n",
    "dfp_cases = dft_cases.groupby(COL_REGION)[dt_yday].sum()\n",
    "dfp_deaths = dft_deaths.groupby(COL_REGION)[dt_yday].sum()"
   ]
  },
  {
   "cell_type": "code",
   "execution_count": 12,
   "id": "deluxe-hepatitis",
   "metadata": {
    "execution": {
     "iopub.execute_input": "2022-01-22T00:23:35.647742Z",
     "iopub.status.busy": "2022-01-22T00:23:35.647213Z",
     "iopub.status.idle": "2022-01-22T00:23:35.651669Z",
     "shell.execute_reply": "2022-01-22T00:23:35.651254Z"
    },
    "papermill": {
     "duration": 0.040581,
     "end_time": "2022-01-22T00:23:35.651783",
     "exception": false,
     "start_time": "2022-01-22T00:23:35.611202",
     "status": "completed"
    },
    "tags": []
   },
   "outputs": [],
   "source": [
    "#hide\n",
    "df_table = (pd.DataFrame(dict(Cases = dfc_cases, Deaths = dfc_deaths, PCases = dfp_cases, PDeaths = dfp_deaths))\n",
    "            .sort_values(by = ['Cases','Deaths'], ascending = [False, False])\n",
    "            .reset_index())"
   ]
  },
  {
   "cell_type": "code",
   "execution_count": 13,
   "id": "educational-chancellor",
   "metadata": {
    "execution": {
     "iopub.execute_input": "2022-01-22T00:23:35.730471Z",
     "iopub.status.busy": "2022-01-22T00:23:35.729892Z",
     "iopub.status.idle": "2022-01-22T00:23:35.737537Z",
     "shell.execute_reply": "2022-01-22T00:23:35.737118Z"
    },
    "papermill": {
     "duration": 0.05571,
     "end_time": "2022-01-22T00:23:35.737653",
     "exception": false,
     "start_time": "2022-01-22T00:23:35.681943",
     "status": "completed"
    },
    "tags": []
   },
   "outputs": [
    {
     "data": {
      "text/html": [
       "<div>\n",
       "<style scoped>\n",
       "    .dataframe tbody tr th:only-of-type {\n",
       "        vertical-align: middle;\n",
       "    }\n",
       "\n",
       "    .dataframe tbody tr th {\n",
       "        vertical-align: top;\n",
       "    }\n",
       "\n",
       "    .dataframe thead th {\n",
       "        text-align: right;\n",
       "    }\n",
       "</style>\n",
       "<table border=\"1\" class=\"dataframe\">\n",
       "  <thead>\n",
       "    <tr style=\"text-align: right;\">\n",
       "      <th></th>\n",
       "      <th>Country/Region</th>\n",
       "      <th>Cases</th>\n",
       "      <th>Deaths</th>\n",
       "      <th>PCases</th>\n",
       "      <th>PDeaths</th>\n",
       "      <th>Cases (+)</th>\n",
       "      <th>Deaths (+)</th>\n",
       "      <th>Fatality Rate</th>\n",
       "      <th>Continent</th>\n",
       "    </tr>\n",
       "  </thead>\n",
       "  <tbody>\n",
       "    <tr>\n",
       "      <th>0</th>\n",
       "      <td>US</td>\n",
       "      <td>69329860</td>\n",
       "      <td>860989</td>\n",
       "      <td>68684431</td>\n",
       "      <td>858510</td>\n",
       "      <td>645429</td>\n",
       "      <td>2479</td>\n",
       "      <td>1.24</td>\n",
       "      <td>North America</td>\n",
       "    </tr>\n",
       "    <tr>\n",
       "      <th>1</th>\n",
       "      <td>India</td>\n",
       "      <td>38566027</td>\n",
       "      <td>488396</td>\n",
       "      <td>38218773</td>\n",
       "      <td>487693</td>\n",
       "      <td>347254</td>\n",
       "      <td>703</td>\n",
       "      <td>1.27</td>\n",
       "      <td>Asia</td>\n",
       "    </tr>\n",
       "    <tr>\n",
       "      <th>2</th>\n",
       "      <td>Brazil</td>\n",
       "      <td>23595178</td>\n",
       "      <td>622476</td>\n",
       "      <td>23425392</td>\n",
       "      <td>622125</td>\n",
       "      <td>169786</td>\n",
       "      <td>351</td>\n",
       "      <td>2.64</td>\n",
       "      <td>South America</td>\n",
       "    </tr>\n",
       "    <tr>\n",
       "      <th>3</th>\n",
       "      <td>United Kingdom</td>\n",
       "      <td>15718193</td>\n",
       "      <td>153710</td>\n",
       "      <td>15610069</td>\n",
       "      <td>153378</td>\n",
       "      <td>108124</td>\n",
       "      <td>332</td>\n",
       "      <td>0.98</td>\n",
       "      <td>Europe</td>\n",
       "    </tr>\n",
       "    <tr>\n",
       "      <th>4</th>\n",
       "      <td>France</td>\n",
       "      <td>15715329</td>\n",
       "      <td>129105</td>\n",
       "      <td>15288014</td>\n",
       "      <td>128641</td>\n",
       "      <td>427315</td>\n",
       "      <td>464</td>\n",
       "      <td>0.82</td>\n",
       "      <td>Europe</td>\n",
       "    </tr>\n",
       "  </tbody>\n",
       "</table>\n",
       "</div>"
      ],
      "text/plain": [
       "   Country/Region     Cases  Deaths    PCases  PDeaths  Cases (+)  Deaths (+)  \\\n",
       "0              US  69329860  860989  68684431   858510     645429        2479   \n",
       "1           India  38566027  488396  38218773   487693     347254         703   \n",
       "2          Brazil  23595178  622476  23425392   622125     169786         351   \n",
       "3  United Kingdom  15718193  153710  15610069   153378     108124         332   \n",
       "4          France  15715329  129105  15288014   128641     427315         464   \n",
       "\n",
       "   Fatality Rate      Continent  \n",
       "0           1.24  North America  \n",
       "1           1.27           Asia  \n",
       "2           2.64  South America  \n",
       "3           0.98         Europe  \n",
       "4           0.82         Europe  "
      ]
     },
     "execution_count": 13,
     "metadata": {},
     "output_type": "execute_result"
    }
   ],
   "source": [
    "#hide\n",
    "for c in 'Cases, Deaths'.split(', '):\n",
    "    df_table[f'{c} (+)'] = (df_table[c] - df_table[f'P{c}']).clip(0)\n",
    "    #Clip ça veut dire, les chiffres negatif sont interdit\n",
    "df_table['Fatality Rate'] = (100* df_table['Deaths']/ df_table['Cases']).round(2)\n",
    "df_table['Continent'] = df_table['Country/Region'].map(mapping['map.continent'])\n",
    "df_table.head(5)"
   ]
  },
  {
   "cell_type": "code",
   "execution_count": 14,
   "id": "aboriginal-bulgaria",
   "metadata": {
    "execution": {
     "iopub.execute_input": "2022-01-22T00:23:35.805278Z",
     "iopub.status.busy": "2022-01-22T00:23:35.804741Z",
     "iopub.status.idle": "2022-01-22T00:23:35.807512Z",
     "shell.execute_reply": "2022-01-22T00:23:35.807981Z"
    },
    "papermill": {
     "duration": 0.039718,
     "end_time": "2022-01-22T00:23:35.808109",
     "exception": false,
     "start_time": "2022-01-22T00:23:35.768391",
     "status": "completed"
    },
    "tags": []
   },
   "outputs": [],
   "source": [
    "#hide\n",
    "#delete problematic countries from table\n",
    "df_table = df_table[~df_table['Country/Region'].isin(['Cape Verde', 'Cruise Ship', 'Kosovo'])]"
   ]
  },
  {
   "cell_type": "code",
   "execution_count": 15,
   "id": "fantastic-effect",
   "metadata": {
    "execution": {
     "iopub.execute_input": "2022-01-22T00:23:35.877588Z",
     "iopub.status.busy": "2022-01-22T00:23:35.877061Z",
     "iopub.status.idle": "2022-01-22T00:23:35.894732Z",
     "shell.execute_reply": "2022-01-22T00:23:35.894205Z"
    },
    "papermill": {
     "duration": 0.056414,
     "end_time": "2022-01-22T00:23:35.894861",
     "exception": false,
     "start_time": "2022-01-22T00:23:35.838447",
     "status": "completed"
    },
    "tags": []
   },
   "outputs": [
    {
     "data": {
      "text/html": [
       "<div>\n",
       "<style scoped>\n",
       "    .dataframe tbody tr th:only-of-type {\n",
       "        vertical-align: middle;\n",
       "    }\n",
       "\n",
       "    .dataframe tbody tr th {\n",
       "        vertical-align: top;\n",
       "    }\n",
       "\n",
       "    .dataframe thead th {\n",
       "        text-align: right;\n",
       "    }\n",
       "</style>\n",
       "<table border=\"1\" class=\"dataframe\">\n",
       "  <thead>\n",
       "    <tr style=\"text-align: right;\">\n",
       "      <th></th>\n",
       "      <th>Country/Region</th>\n",
       "      <th>Cases</th>\n",
       "      <th>Deaths</th>\n",
       "      <th>PCases</th>\n",
       "      <th>PDeaths</th>\n",
       "      <th>Cases (+)</th>\n",
       "      <th>Deaths (+)</th>\n",
       "      <th>Fatality Rate</th>\n",
       "      <th>Continent</th>\n",
       "    </tr>\n",
       "  </thead>\n",
       "  <tbody>\n",
       "    <tr>\n",
       "      <th>0</th>\n",
       "      <td>US</td>\n",
       "      <td>69329860</td>\n",
       "      <td>860989</td>\n",
       "      <td>68684431</td>\n",
       "      <td>858510</td>\n",
       "      <td>645429</td>\n",
       "      <td>2479</td>\n",
       "      <td>1.2</td>\n",
       "      <td>North America</td>\n",
       "    </tr>\n",
       "    <tr>\n",
       "      <th>1</th>\n",
       "      <td>India</td>\n",
       "      <td>38566027</td>\n",
       "      <td>488396</td>\n",
       "      <td>38218773</td>\n",
       "      <td>487693</td>\n",
       "      <td>347254</td>\n",
       "      <td>703</td>\n",
       "      <td>1.3</td>\n",
       "      <td>Asia</td>\n",
       "    </tr>\n",
       "    <tr>\n",
       "      <th>2</th>\n",
       "      <td>Brazil</td>\n",
       "      <td>23595178</td>\n",
       "      <td>622476</td>\n",
       "      <td>23425392</td>\n",
       "      <td>622125</td>\n",
       "      <td>169786</td>\n",
       "      <td>351</td>\n",
       "      <td>2.6</td>\n",
       "      <td>South America</td>\n",
       "    </tr>\n",
       "    <tr>\n",
       "      <th>3</th>\n",
       "      <td>United Kingdom</td>\n",
       "      <td>15718193</td>\n",
       "      <td>153710</td>\n",
       "      <td>15610069</td>\n",
       "      <td>153378</td>\n",
       "      <td>108124</td>\n",
       "      <td>332</td>\n",
       "      <td>1.0</td>\n",
       "      <td>Europe</td>\n",
       "    </tr>\n",
       "    <tr>\n",
       "      <th>4</th>\n",
       "      <td>France</td>\n",
       "      <td>15715329</td>\n",
       "      <td>129105</td>\n",
       "      <td>15288014</td>\n",
       "      <td>128641</td>\n",
       "      <td>427315</td>\n",
       "      <td>464</td>\n",
       "      <td>0.8</td>\n",
       "      <td>Europe</td>\n",
       "    </tr>\n",
       "  </tbody>\n",
       "</table>\n",
       "</div>"
      ],
      "text/plain": [
       "   Country/Region     Cases  Deaths    PCases  PDeaths  Cases (+)  Deaths (+)  \\\n",
       "0              US  69329860  860989  68684431   858510     645429        2479   \n",
       "1           India  38566027  488396  38218773   487693     347254         703   \n",
       "2          Brazil  23595178  622476  23425392   622125     169786         351   \n",
       "3  United Kingdom  15718193  153710  15610069   153378     108124         332   \n",
       "4          France  15715329  129105  15288014   128641     427315         464   \n",
       "\n",
       "   Fatality Rate      Continent  \n",
       "0            1.2  North America  \n",
       "1            1.3           Asia  \n",
       "2            2.6  South America  \n",
       "3            1.0         Europe  \n",
       "4            0.8         Europe  "
      ]
     },
     "execution_count": 15,
     "metadata": {},
     "output_type": "execute_result"
    }
   ],
   "source": [
    "#hide\n",
    "df_table = (pd.DataFrame(dict(Cases=dfc_cases, Deaths=dfc_deaths, PCases=dfp_cases, PDeaths=dfp_deaths))\n",
    "             .sort_values(by=['Cases', 'Deaths'], ascending=[False, False])\n",
    "             .reset_index())\n",
    "df_table.rename(columns={'index': 'Country/Region'}, inplace=True)\n",
    "for c in 'Cases, Deaths'.split(', '):\n",
    "    df_table[f'{c} (+)'] = (df_table[c] - df_table[f'P{c}']).clip(0)  # DATA BUG\n",
    "df_table['Fatality Rate'] = (100 * df_table['Deaths'] / df_table['Cases']).round(1)\n",
    "df_table['Continent'] = df_table['Country/Region'].map(mapping['map.continent'])\n",
    "df_table.head(5)"
   ]
  },
  {
   "cell_type": "code",
   "execution_count": 16,
   "id": "fewer-occasion",
   "metadata": {
    "execution": {
     "iopub.execute_input": "2022-01-22T00:23:35.962492Z",
     "iopub.status.busy": "2022-01-22T00:23:35.961946Z",
     "iopub.status.idle": "2022-01-22T00:23:35.965167Z",
     "shell.execute_reply": "2022-01-22T00:23:35.964662Z"
    },
    "papermill": {
     "duration": 0.038639,
     "end_time": "2022-01-22T00:23:35.965277",
     "exception": false,
     "start_time": "2022-01-22T00:23:35.926638",
     "status": "completed"
    },
    "tags": []
   },
   "outputs": [],
   "source": [
    "#hide\n",
    "#delete problematic countries from table\n",
    "df_table = df_table[~df_table['Country/Region'].isin(['Cape Verde', 'Cruise Ship', 'Kosovo'])]"
   ]
  },
  {
   "cell_type": "code",
   "execution_count": 17,
   "id": "related-center",
   "metadata": {
    "execution": {
     "iopub.execute_input": "2022-01-22T00:23:36.038160Z",
     "iopub.status.busy": "2022-01-22T00:23:36.037621Z",
     "iopub.status.idle": "2022-01-22T00:23:36.047419Z",
     "shell.execute_reply": "2022-01-22T00:23:36.046992Z"
    },
    "papermill": {
     "duration": 0.05141,
     "end_time": "2022-01-22T00:23:36.047537",
     "exception": false,
     "start_time": "2022-01-22T00:23:35.996127",
     "status": "completed"
    },
    "tags": []
   },
   "outputs": [],
   "source": [
    "#hide\n",
    "metrics = [df_table.columns[index] for index in [1,2,5,6]]\n",
    "# s_china = df_table[df_table['Country/Region'].eq('China')][metrics].sum().add_prefix('China ')\n",
    "s_us = df_table[df_table['Country/Region'].eq('US')][metrics].sum().add_prefix('US ')\n",
    "s_eu = df_table[df_table['Continent'].eq('Europe')][metrics].sum().add_prefix('EU ')\n",
    "s_ind = df_table[df_table['Country/Region'].eq('India')][metrics].sum().add_prefix('India ')\n",
    "summary = {'updated': pd.to_datetime(dt_today), 'since': pd.to_datetime(dt_yday)}\n",
    "summary = {'updated': pd.to_datetime(dt_today), 'since': pd.to_datetime(dt_yday)}\n",
    "summary = {**summary, **df_table[metrics].sum(), **s_ind, **s_us, **s_eu}"
   ]
  },
  {
   "cell_type": "code",
   "execution_count": 18,
   "id": "engaging-syndrome",
   "metadata": {
    "execution": {
     "iopub.execute_input": "2022-01-22T00:23:36.114931Z",
     "iopub.status.busy": "2022-01-22T00:23:36.114373Z",
     "iopub.status.idle": "2022-01-22T00:23:36.128162Z",
     "shell.execute_reply": "2022-01-22T00:23:36.128556Z"
    },
    "papermill": {
     "duration": 0.049989,
     "end_time": "2022-01-22T00:23:36.128700",
     "exception": false,
     "start_time": "2022-01-22T00:23:36.078711",
     "status": "completed"
    },
    "tags": []
   },
   "outputs": [],
   "source": [
    "#hide\n",
    "dft_ct_new_cases = dft_cases.groupby(COL_REGION)[dt_cols].sum().diff(axis=1).fillna(0).astype(int)"
   ]
  },
  {
   "cell_type": "code",
   "execution_count": 19,
   "id": "neutral-assignment",
   "metadata": {
    "execution": {
     "iopub.execute_input": "2022-01-22T00:23:36.197369Z",
     "iopub.status.busy": "2022-01-22T00:23:36.196820Z",
     "iopub.status.idle": "2022-01-22T00:23:36.198484Z",
     "shell.execute_reply": "2022-01-22T00:23:36.198876Z"
    },
    "papermill": {
     "duration": 0.039048,
     "end_time": "2022-01-22T00:23:36.199010",
     "exception": false,
     "start_time": "2022-01-22T00:23:36.159962",
     "status": "completed"
    },
    "tags": []
   },
   "outputs": [],
   "source": [
    "#hide\n",
    "everydaycases = dft_ct_new_cases.cumsum(axis=1)"
   ]
  },
  {
   "cell_type": "code",
   "execution_count": 20,
   "id": "parliamentary-calgary",
   "metadata": {
    "execution": {
     "iopub.execute_input": "2022-01-22T00:23:36.265554Z",
     "iopub.status.busy": "2022-01-22T00:23:36.265024Z",
     "iopub.status.idle": "2022-01-22T00:23:36.845111Z",
     "shell.execute_reply": "2022-01-22T00:23:36.845585Z"
    },
    "papermill": {
     "duration": 0.615814,
     "end_time": "2022-01-22T00:23:36.845748",
     "exception": false,
     "start_time": "2022-01-22T00:23:36.229934",
     "status": "completed"
    },
    "tags": []
   },
   "outputs": [],
   "source": [
    "#hide\n",
    "import pandas as pd\n",
    "import matplotlib.pyplot as plt\n",
    "import matplotlib.ticker as ticker\n",
    "import matplotlib.animation as animation\n",
    "from IPython.display import HTML"
   ]
  },
  {
   "cell_type": "code",
   "execution_count": 21,
   "id": "lasting-extraction",
   "metadata": {
    "execution": {
     "iopub.execute_input": "2022-01-22T00:23:36.915587Z",
     "iopub.status.busy": "2022-01-22T00:23:36.915053Z",
     "iopub.status.idle": "2022-01-22T00:23:36.921133Z",
     "shell.execute_reply": "2022-01-22T00:23:36.920703Z"
    },
    "papermill": {
     "duration": 0.043022,
     "end_time": "2022-01-22T00:23:36.921254",
     "exception": false,
     "start_time": "2022-01-22T00:23:36.878232",
     "status": "completed"
    },
    "tags": []
   },
   "outputs": [],
   "source": [
    "#hide\n",
    "t = everydaycases.stack()"
   ]
  },
  {
   "cell_type": "code",
   "execution_count": 22,
   "id": "premier-sleeve",
   "metadata": {
    "execution": {
     "iopub.execute_input": "2022-01-22T00:23:36.987787Z",
     "iopub.status.busy": "2022-01-22T00:23:36.987258Z",
     "iopub.status.idle": "2022-01-22T00:23:36.997216Z",
     "shell.execute_reply": "2022-01-22T00:23:36.996786Z"
    },
    "papermill": {
     "duration": 0.0448,
     "end_time": "2022-01-22T00:23:36.997336",
     "exception": false,
     "start_time": "2022-01-22T00:23:36.952536",
     "status": "completed"
    },
    "tags": []
   },
   "outputs": [],
   "source": [
    "#hide\n",
    "g = t.reset_index(['Country/Region'])"
   ]
  },
  {
   "cell_type": "code",
   "execution_count": 23,
   "id": "distributed-pittsburgh",
   "metadata": {
    "execution": {
     "iopub.execute_input": "2022-01-22T00:23:37.063888Z",
     "iopub.status.busy": "2022-01-22T00:23:37.063276Z",
     "iopub.status.idle": "2022-01-22T00:23:37.064866Z",
     "shell.execute_reply": "2022-01-22T00:23:37.065328Z"
    },
    "papermill": {
     "duration": 0.037111,
     "end_time": "2022-01-22T00:23:37.065472",
     "exception": false,
     "start_time": "2022-01-22T00:23:37.028361",
     "status": "completed"
    },
    "tags": []
   },
   "outputs": [],
   "source": [
    "#hide\n",
    "g.index.name = 'date'"
   ]
  },
  {
   "cell_type": "code",
   "execution_count": 24,
   "id": "naked-donor",
   "metadata": {
    "execution": {
     "iopub.execute_input": "2022-01-22T00:23:37.131824Z",
     "iopub.status.busy": "2022-01-22T00:23:37.131197Z",
     "iopub.status.idle": "2022-01-22T00:23:37.132745Z",
     "shell.execute_reply": "2022-01-22T00:23:37.133177Z"
    },
    "papermill": {
     "duration": 0.036442,
     "end_time": "2022-01-22T00:23:37.133332",
     "exception": false,
     "start_time": "2022-01-22T00:23:37.096890",
     "status": "completed"
    },
    "tags": []
   },
   "outputs": [],
   "source": [
    "# #hide\n",
    "# g = g.reset_index(['date'])"
   ]
  },
  {
   "cell_type": "code",
   "execution_count": 25,
   "id": "incomplete-mustang",
   "metadata": {
    "execution": {
     "iopub.execute_input": "2022-01-22T00:23:37.199986Z",
     "iopub.status.busy": "2022-01-22T00:23:37.199454Z",
     "iopub.status.idle": "2022-01-22T00:23:37.201408Z",
     "shell.execute_reply": "2022-01-22T00:23:37.201000Z"
    },
    "papermill": {
     "duration": 0.036562,
     "end_time": "2022-01-22T00:23:37.201519",
     "exception": false,
     "start_time": "2022-01-22T00:23:37.164957",
     "status": "completed"
    },
    "tags": []
   },
   "outputs": [],
   "source": [
    "#hide\n",
    "# g.head()"
   ]
  },
  {
   "cell_type": "code",
   "execution_count": 26,
   "id": "specific-kruger",
   "metadata": {
    "execution": {
     "iopub.execute_input": "2022-01-22T00:23:37.267710Z",
     "iopub.status.busy": "2022-01-22T00:23:37.267173Z",
     "iopub.status.idle": "2022-01-22T00:23:37.269025Z",
     "shell.execute_reply": "2022-01-22T00:23:37.269461Z"
    },
    "papermill": {
     "duration": 0.036945,
     "end_time": "2022-01-22T00:23:37.269597",
     "exception": false,
     "start_time": "2022-01-22T00:23:37.232652",
     "status": "completed"
    },
    "tags": []
   },
   "outputs": [],
   "source": [
    "#hide\n",
    "# g.columns = ['date','country','cases']"
   ]
  },
  {
   "cell_type": "code",
   "execution_count": 27,
   "id": "tender-conversion",
   "metadata": {
    "execution": {
     "iopub.execute_input": "2022-01-22T00:23:37.335606Z",
     "iopub.status.busy": "2022-01-22T00:23:37.334977Z",
     "iopub.status.idle": "2022-01-22T00:23:37.338456Z",
     "shell.execute_reply": "2022-01-22T00:23:37.338905Z"
    },
    "papermill": {
     "duration": 0.038548,
     "end_time": "2022-01-22T00:23:37.339057",
     "exception": false,
     "start_time": "2022-01-22T00:23:37.300509",
     "status": "completed"
    },
    "tags": []
   },
   "outputs": [],
   "source": [
    "#hide\n",
    "# g['continent'] = g.country"
   ]
  },
  {
   "cell_type": "code",
   "execution_count": 28,
   "id": "substantial-wilderness",
   "metadata": {
    "execution": {
     "iopub.execute_input": "2022-01-22T00:23:37.405609Z",
     "iopub.status.busy": "2022-01-22T00:23:37.405003Z",
     "iopub.status.idle": "2022-01-22T00:23:37.406512Z",
     "shell.execute_reply": "2022-01-22T00:23:37.406984Z"
    },
    "papermill": {
     "duration": 0.036425,
     "end_time": "2022-01-22T00:23:37.407129",
     "exception": false,
     "start_time": "2022-01-22T00:23:37.370704",
     "status": "completed"
    },
    "tags": []
   },
   "outputs": [],
   "source": [
    "#hide\n",
    "# cols = list(g.columns.values)"
   ]
  },
  {
   "cell_type": "code",
   "execution_count": 29,
   "id": "solved-farming",
   "metadata": {
    "execution": {
     "iopub.execute_input": "2022-01-22T00:23:37.474283Z",
     "iopub.status.busy": "2022-01-22T00:23:37.473693Z",
     "iopub.status.idle": "2022-01-22T00:23:37.475106Z",
     "shell.execute_reply": "2022-01-22T00:23:37.475515Z"
    },
    "papermill": {
     "duration": 0.036776,
     "end_time": "2022-01-22T00:23:37.475653",
     "exception": false,
     "start_time": "2022-01-22T00:23:37.438877",
     "status": "completed"
    },
    "tags": []
   },
   "outputs": [],
   "source": [
    "#hide\n",
    "# cols.insert(0, cols.pop())"
   ]
  },
  {
   "cell_type": "code",
   "execution_count": 30,
   "id": "executed-adoption",
   "metadata": {
    "execution": {
     "iopub.execute_input": "2022-01-22T00:23:37.541709Z",
     "iopub.status.busy": "2022-01-22T00:23:37.541098Z",
     "iopub.status.idle": "2022-01-22T00:23:37.542608Z",
     "shell.execute_reply": "2022-01-22T00:23:37.543075Z"
    },
    "papermill": {
     "duration": 0.036343,
     "end_time": "2022-01-22T00:23:37.543215",
     "exception": false,
     "start_time": "2022-01-22T00:23:37.506872",
     "status": "completed"
    },
    "tags": []
   },
   "outputs": [],
   "source": [
    "#hide\n",
    "# g = g[cols]"
   ]
  },
  {
   "cell_type": "code",
   "execution_count": 31,
   "id": "subject-dublin",
   "metadata": {
    "execution": {
     "iopub.execute_input": "2022-01-22T00:23:37.608985Z",
     "iopub.status.busy": "2022-01-22T00:23:37.608448Z",
     "iopub.status.idle": "2022-01-22T00:23:37.610775Z",
     "shell.execute_reply": "2022-01-22T00:23:37.610334Z"
    },
    "papermill": {
     "duration": 0.036644,
     "end_time": "2022-01-22T00:23:37.610891",
     "exception": false,
     "start_time": "2022-01-22T00:23:37.574247",
     "status": "completed"
    },
    "tags": []
   },
   "outputs": [],
   "source": [
    "#hide\n",
    "# g['continent'] = g['continent'].map(mapping['map.continent'])"
   ]
  },
  {
   "cell_type": "code",
   "execution_count": 32,
   "id": "freelance-scout",
   "metadata": {
    "execution": {
     "iopub.execute_input": "2022-01-22T00:23:37.677121Z",
     "iopub.status.busy": "2022-01-22T00:23:37.676497Z",
     "iopub.status.idle": "2022-01-22T00:23:37.680363Z",
     "shell.execute_reply": "2022-01-22T00:23:37.679943Z"
    },
    "papermill": {
     "duration": 0.038464,
     "end_time": "2022-01-22T00:23:37.680479",
     "exception": false,
     "start_time": "2022-01-22T00:23:37.642015",
     "status": "completed"
    },
    "tags": []
   },
   "outputs": [],
   "source": [
    "#hide\n",
    "# g.head()"
   ]
  },
  {
   "cell_type": "code",
   "execution_count": 33,
   "id": "limited-engine",
   "metadata": {
    "execution": {
     "iopub.execute_input": "2022-01-22T00:23:37.746414Z",
     "iopub.status.busy": "2022-01-22T00:23:37.745788Z",
     "iopub.status.idle": "2022-01-22T00:23:37.747819Z",
     "shell.execute_reply": "2022-01-22T00:23:37.747253Z"
    },
    "papermill": {
     "duration": 0.036426,
     "end_time": "2022-01-22T00:23:37.747942",
     "exception": false,
     "start_time": "2022-01-22T00:23:37.711516",
     "status": "completed"
    },
    "tags": []
   },
   "outputs": [],
   "source": [
    "# hide\n",
    "# g['date'] = g['date'].astype('datetime64[ns]')"
   ]
  },
  {
   "cell_type": "code",
   "execution_count": 34,
   "id": "sophisticated-supervisor",
   "metadata": {
    "execution": {
     "iopub.execute_input": "2022-01-22T00:23:37.814091Z",
     "iopub.status.busy": "2022-01-22T00:23:37.813488Z",
     "iopub.status.idle": "2022-01-22T00:23:37.817406Z",
     "shell.execute_reply": "2022-01-22T00:23:37.816936Z"
    },
    "papermill": {
     "duration": 0.038479,
     "end_time": "2022-01-22T00:23:37.817538",
     "exception": false,
     "start_time": "2022-01-22T00:23:37.779059",
     "status": "completed"
    },
    "tags": []
   },
   "outputs": [],
   "source": [
    "#hide\n",
    "# g['date'] = g.date.dt.dayofyear"
   ]
  },
  {
   "cell_type": "code",
   "execution_count": 35,
   "id": "inside-dubai",
   "metadata": {
    "execution": {
     "iopub.execute_input": "2022-01-22T00:23:37.883887Z",
     "iopub.status.busy": "2022-01-22T00:23:37.883352Z",
     "iopub.status.idle": "2022-01-22T00:23:37.885357Z",
     "shell.execute_reply": "2022-01-22T00:23:37.884923Z"
    },
    "papermill": {
     "duration": 0.036602,
     "end_time": "2022-01-22T00:23:37.885465",
     "exception": false,
     "start_time": "2022-01-22T00:23:37.848863",
     "status": "completed"
    },
    "tags": []
   },
   "outputs": [],
   "source": [
    "#hide\n",
    "# g = g.rename(columns= {'continent':'group','country':'name','cases':'value'})"
   ]
  },
  {
   "cell_type": "code",
   "execution_count": 36,
   "id": "fleet-motorcycle",
   "metadata": {
    "execution": {
     "iopub.execute_input": "2022-01-22T00:23:37.951801Z",
     "iopub.status.busy": "2022-01-22T00:23:37.951179Z",
     "iopub.status.idle": "2022-01-22T00:23:37.953052Z",
     "shell.execute_reply": "2022-01-22T00:23:37.952614Z"
    },
    "papermill": {
     "duration": 0.036299,
     "end_time": "2022-01-22T00:23:37.953163",
     "exception": false,
     "start_time": "2022-01-22T00:23:37.916864",
     "status": "completed"
    },
    "tags": []
   },
   "outputs": [],
   "source": [
    "#hide\n",
    "# cols = ['name','group','day','value']"
   ]
  },
  {
   "cell_type": "code",
   "execution_count": 37,
   "id": "continued-sleeping",
   "metadata": {
    "execution": {
     "iopub.execute_input": "2022-01-22T00:23:38.018730Z",
     "iopub.status.busy": "2022-01-22T00:23:38.018082Z",
     "iopub.status.idle": "2022-01-22T00:23:38.021361Z",
     "shell.execute_reply": "2022-01-22T00:23:38.020888Z"
    },
    "papermill": {
     "duration": 0.037461,
     "end_time": "2022-01-22T00:23:38.021488",
     "exception": false,
     "start_time": "2022-01-22T00:23:37.984027",
     "status": "completed"
    },
    "tags": []
   },
   "outputs": [],
   "source": [
    "#hide\n",
    "# g.rename(columns= {'date':'day'},inplace = True)"
   ]
  },
  {
   "cell_type": "code",
   "execution_count": 38,
   "id": "major-fight",
   "metadata": {
    "execution": {
     "iopub.execute_input": "2022-01-22T00:23:38.087727Z",
     "iopub.status.busy": "2022-01-22T00:23:38.087119Z",
     "iopub.status.idle": "2022-01-22T00:23:38.088594Z",
     "shell.execute_reply": "2022-01-22T00:23:38.089058Z"
    },
    "papermill": {
     "duration": 0.03644,
     "end_time": "2022-01-22T00:23:38.089204",
     "exception": false,
     "start_time": "2022-01-22T00:23:38.052764",
     "status": "completed"
    },
    "tags": []
   },
   "outputs": [],
   "source": [
    "#hide\n",
    "# g = g[cols]"
   ]
  },
  {
   "cell_type": "code",
   "execution_count": 39,
   "id": "structured-mobile",
   "metadata": {
    "execution": {
     "iopub.execute_input": "2022-01-22T00:23:38.155046Z",
     "iopub.status.busy": "2022-01-22T00:23:38.154422Z",
     "iopub.status.idle": "2022-01-22T00:23:38.156796Z",
     "shell.execute_reply": "2022-01-22T00:23:38.157176Z"
    },
    "papermill": {
     "duration": 0.036746,
     "end_time": "2022-01-22T00:23:38.157304",
     "exception": false,
     "start_time": "2022-01-22T00:23:38.120558",
     "status": "completed"
    },
    "tags": []
   },
   "outputs": [],
   "source": [
    "# #hide\n",
    "# g = g[g.group.notna()]"
   ]
  },
  {
   "cell_type": "code",
   "execution_count": 40,
   "id": "determined-closing",
   "metadata": {
    "execution": {
     "iopub.execute_input": "2022-01-22T00:23:38.222905Z",
     "iopub.status.busy": "2022-01-22T00:23:38.222303Z",
     "iopub.status.idle": "2022-01-22T00:23:38.224799Z",
     "shell.execute_reply": "2022-01-22T00:23:38.225211Z"
    },
    "papermill": {
     "duration": 0.037088,
     "end_time": "2022-01-22T00:23:38.225344",
     "exception": false,
     "start_time": "2022-01-22T00:23:38.188256",
     "status": "completed"
    },
    "tags": []
   },
   "outputs": [],
   "source": [
    "# #hide\n",
    "# colors = dict(zip(\n",
    "#     [\"Oceania\", \"Europe\", \"Asia\", \"South America\", \"Middle East\", \"North America\", \"Africa\"],\n",
    "#     [\"#adb0ff\", \"#ffb3ff\", \"#90d595\", \"#e48381\", \"#aafbff\", \"#f7bb5f\", \"#eafb50\"]\n",
    "# ))\n",
    "# group_lk = g.set_index('name')['group'].to_dict()"
   ]
  },
  {
   "cell_type": "code",
   "execution_count": null,
   "id": "gross-drinking",
   "metadata": {
    "papermill": {
     "duration": 0.030775,
     "end_time": "2022-01-22T00:23:38.286988",
     "exception": false,
     "start_time": "2022-01-22T00:23:38.256213",
     "status": "completed"
    },
    "tags": []
   },
   "outputs": [],
   "source": []
  },
  {
   "cell_type": "code",
   "execution_count": 41,
   "id": "subject-macintosh",
   "metadata": {
    "execution": {
     "iopub.execute_input": "2022-01-22T00:23:38.352687Z",
     "iopub.status.busy": "2022-01-22T00:23:38.352150Z",
     "iopub.status.idle": "2022-01-22T00:23:38.354268Z",
     "shell.execute_reply": "2022-01-22T00:23:38.354733Z"
    },
    "papermill": {
     "duration": 0.037081,
     "end_time": "2022-01-22T00:23:38.354863",
     "exception": false,
     "start_time": "2022-01-22T00:23:38.317782",
     "status": "completed"
    },
    "tags": []
   },
   "outputs": [],
   "source": [
    "# #hide\n",
    "# fig, ax = plt.subplots(figsize=(15, 8))\n",
    "\n",
    "# def draw_barchart(current_day):\n",
    "#     dff = g[g['day'].eq(current_day)].sort_values(by='value', ascending=True).tail(10)\n",
    "#     ax.clear()\n",
    "#     ax.barh(dff['name'], dff['value'], color=[colors[group_lk[x]] for x in dff['name']])\n",
    "#     dx = dff['value'].max() / 200\n",
    "    \n",
    "#     for i, (value, name) in enumerate(zip(dff['value'], dff['name'])):\n",
    "#         ax.text(value-dx, i,     name,           size=14, weight=600, ha='right', va='bottom')\n",
    "#         ax.text(value-dx, i-.25, group_lk[name], size=10, color='#444444', ha='right', va='baseline')\n",
    "#         ax.text(value+dx, i,     f'{value:,.0f}',  size=14, ha='left',  va='center')\n",
    "#     ax.text(1, 0.4, current_day, transform=ax.transAxes, color='#777777', size=46, ha='right', weight=800)\n",
    "#     ax.text(0, 1.06, 'Population (thousands)', transform=ax.transAxes, size=12, color='#777777')\n",
    "#     ax.xaxis.set_major_formatter(ticker.StrMethodFormatter('{x:,.0f}'))\n",
    "#     ax.xaxis.set_ticks_position('top')\n",
    "#     ax.tick_params(axis='x', colors='#777777', labelsize=12)\n",
    "#     ax.set_yticks([])\n",
    "#     ax.margins(0, 0.01)\n",
    "#     ax.grid(which='major', axis='x', linestyle='-')\n",
    "#     ax.set_axisbelow(True)\n",
    "    \n",
    "#     ax.text(0, 1.15, 'Coronavirus',\n",
    "#             transform=ax.transAxes, size=24, weight=600, ha='left', va='top')\n",
    "# #     ax.text(1, 0, 'by @pratapvardhan; credit @jburnmurdoch', transform=ax.transAxes, color='#777777', ha='right',\n",
    "# #             bbox=dict(facecolor='white', alpha=0.8, edgecolor='white'))\n",
    "#     plt.box(False)"
   ]
  },
  {
   "cell_type": "code",
   "execution_count": 42,
   "id": "sexual-wages",
   "metadata": {
    "execution": {
     "iopub.execute_input": "2022-01-22T00:23:38.420392Z",
     "iopub.status.busy": "2022-01-22T00:23:38.419855Z",
     "iopub.status.idle": "2022-01-22T00:23:38.421842Z",
     "shell.execute_reply": "2022-01-22T00:23:38.421326Z"
    },
    "papermill": {
     "duration": 0.036271,
     "end_time": "2022-01-22T00:23:38.421952",
     "exception": false,
     "start_time": "2022-01-22T00:23:38.385681",
     "status": "completed"
    },
    "tags": []
   },
   "outputs": [],
   "source": [
    "# #hide_input\n",
    "# fig, ax = plt.subplots(figsize=(15, 8))\n",
    "# animator = animation.FuncAnimation(fig, draw_barchart, frames=range(g.day.values.min(), g.day.values.max()))\n",
    "# HTML(animator.to_jshtml())\n",
    "# # or use animator.to_html5_video() or animator.save() "
   ]
  },
  {
   "cell_type": "code",
   "execution_count": null,
   "id": "australian-container",
   "metadata": {
    "papermill": {
     "duration": 0.031555,
     "end_time": "2022-01-22T00:23:38.484379",
     "exception": false,
     "start_time": "2022-01-22T00:23:38.452824",
     "status": "completed"
    },
    "tags": []
   },
   "outputs": [],
   "source": []
  },
  {
   "cell_type": "code",
   "execution_count": null,
   "id": "mediterranean-pontiac",
   "metadata": {
    "papermill": {
     "duration": 0.030753,
     "end_time": "2022-01-22T00:23:38.545965",
     "exception": false,
     "start_time": "2022-01-22T00:23:38.515212",
     "status": "completed"
    },
    "tags": []
   },
   "outputs": [],
   "source": []
  },
  {
   "cell_type": "code",
   "execution_count": null,
   "id": "aging-legislature",
   "metadata": {
    "papermill": {
     "duration": 0.03074,
     "end_time": "2022-01-22T00:23:38.607755",
     "exception": false,
     "start_time": "2022-01-22T00:23:38.577015",
     "status": "completed"
    },
    "tags": []
   },
   "outputs": [],
   "source": []
  }
 ],
 "metadata": {
  "kernelspec": {
   "display_name": "Python 3",
   "language": "python",
   "name": "python3"
  },
  "language_info": {
   "codemirror_mode": {
    "name": "ipython",
    "version": 3
   },
   "file_extension": ".py",
   "mimetype": "text/x-python",
   "name": "python",
   "nbconvert_exporter": "python",
   "pygments_lexer": "ipython3",
   "version": "3.6.15"
  },
  "papermill": {
   "duration": 5.781196,
   "end_time": "2022-01-22T00:23:38.956213",
   "environment_variables": {},
   "exception": null,
   "input_path": "2020-03-21-covid19exp.ipynb",
   "output_path": "2020-03-21-covid19exp.ipynb",
   "parameters": {},
   "start_time": "2022-01-22T00:23:33.175017",
   "version": "2.0.0"
  }
 },
 "nbformat": 4,
 "nbformat_minor": 5
}