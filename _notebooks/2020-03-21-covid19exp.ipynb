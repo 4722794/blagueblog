{
 "cells": [
  {
   "cell_type": "markdown",
   "id": "muslim-click",
   "metadata": {
    "papermill": {
     "duration": 0.04094,
     "end_time": "2021-09-03T00:21:15.492977",
     "exception": false,
     "start_time": "2021-09-03T00:21:15.452037",
     "status": "completed"
    },
    "tags": []
   },
   "source": [
    "# COVID-19 Case Race\n",
    "> A race chart to see rising cases around the world\n",
    "\n",
    "- author: Hargun Oberoi\n",
    "- image: images/covid-overview.png\n",
    "- hide: false\n",
    "- badges: false"
   ]
  },
  {
   "cell_type": "code",
   "execution_count": 1,
   "id": "proof-material",
   "metadata": {
    "execution": {
     "iopub.execute_input": "2021-09-03T00:21:15.577877Z",
     "iopub.status.busy": "2021-09-03T00:21:15.577202Z",
     "iopub.status.idle": "2021-09-03T00:21:15.970977Z",
     "shell.execute_reply": "2021-09-03T00:21:15.970360Z"
    },
    "papermill": {
     "duration": 0.440706,
     "end_time": "2021-09-03T00:21:15.971150",
     "exception": false,
     "start_time": "2021-09-03T00:21:15.530444",
     "status": "completed"
    },
    "tags": []
   },
   "outputs": [],
   "source": [
    "#hide\n",
    "import numpy as np\n",
    "import pandas as pd\n",
    "from jinja2 import Template\n",
    "from IPython.display import HTML"
   ]
  },
  {
   "cell_type": "code",
   "execution_count": 2,
   "id": "developed-terminology",
   "metadata": {
    "execution": {
     "iopub.execute_input": "2021-09-03T00:21:16.052230Z",
     "iopub.status.busy": "2021-09-03T00:21:16.051531Z",
     "iopub.status.idle": "2021-09-03T00:21:16.054114Z",
     "shell.execute_reply": "2021-09-03T00:21:16.053531Z"
    },
    "papermill": {
     "duration": 0.046223,
     "end_time": "2021-09-03T00:21:16.054246",
     "exception": false,
     "start_time": "2021-09-03T00:21:16.008023",
     "status": "completed"
    },
    "tags": []
   },
   "outputs": [],
   "source": [
    "#hide\n",
    "\n",
    "# FETCH\n",
    "base_url = 'https://raw.githubusercontent.com/pratapvardhan/notebooks/master/covid19/'\n",
    "paths = {\n",
    "    'mapping': base_url + 'mapping_countries.csv',\n",
    "    'overview': base_url + 'overview.tpl'\n",
    "}"
   ]
  },
  {
   "cell_type": "code",
   "execution_count": 3,
   "id": "dynamic-saver",
   "metadata": {
    "execution": {
     "iopub.execute_input": "2021-09-03T00:21:16.140949Z",
     "iopub.status.busy": "2021-09-03T00:21:16.140227Z",
     "iopub.status.idle": "2021-09-03T00:21:16.144320Z",
     "shell.execute_reply": "2021-09-03T00:21:16.143603Z"
    },
    "papermill": {
     "duration": 0.053128,
     "end_time": "2021-09-03T00:21:16.144466",
     "exception": false,
     "start_time": "2021-09-03T00:21:16.091338",
     "status": "completed"
    },
    "tags": []
   },
   "outputs": [
    {
     "data": {
      "text/plain": [
       "'https://raw.githubusercontent.com/pratapvardhan/notebooks/master/covid19/mapping_countries.csv'"
      ]
     },
     "execution_count": 3,
     "metadata": {},
     "output_type": "execute_result"
    }
   ],
   "source": [
    "#hide\n",
    "paths['mapping']"
   ]
  },
  {
   "cell_type": "code",
   "execution_count": 4,
   "id": "urban-software",
   "metadata": {
    "execution": {
     "iopub.execute_input": "2021-09-03T00:21:16.225463Z",
     "iopub.status.busy": "2021-09-03T00:21:16.224781Z",
     "iopub.status.idle": "2021-09-03T00:21:16.227441Z",
     "shell.execute_reply": "2021-09-03T00:21:16.226873Z"
    },
    "papermill": {
     "duration": 0.045689,
     "end_time": "2021-09-03T00:21:16.227568",
     "exception": false,
     "start_time": "2021-09-03T00:21:16.181879",
     "status": "completed"
    },
    "tags": []
   },
   "outputs": [],
   "source": [
    "#hide\n",
    "def get_mappings(url):\n",
    "    df = pd.read_csv(url)\n",
    "    return {\n",
    "        'df': df,\n",
    "        'replace.country': dict(df.dropna(subset=['Name']).set_index('Country')['Name']),\n",
    "        'map.continent': dict(df.set_index('Name')['Continent'])\n",
    "    }"
   ]
  },
  {
   "cell_type": "code",
   "execution_count": 5,
   "id": "intimate-machinery",
   "metadata": {
    "execution": {
     "iopub.execute_input": "2021-09-03T00:21:16.311228Z",
     "iopub.status.busy": "2021-09-03T00:21:16.310544Z",
     "iopub.status.idle": "2021-09-03T00:21:16.383335Z",
     "shell.execute_reply": "2021-09-03T00:21:16.383918Z"
    },
    "papermill": {
     "duration": 0.116809,
     "end_time": "2021-09-03T00:21:16.384103",
     "exception": false,
     "start_time": "2021-09-03T00:21:16.267294",
     "status": "completed"
    },
    "tags": []
   },
   "outputs": [],
   "source": [
    "#hide\n",
    "mapping = get_mappings(paths['mapping'])"
   ]
  },
  {
   "cell_type": "code",
   "execution_count": 6,
   "id": "certified-tactics",
   "metadata": {
    "execution": {
     "iopub.execute_input": "2021-09-03T00:21:16.465510Z",
     "iopub.status.busy": "2021-09-03T00:21:16.464834Z",
     "iopub.status.idle": "2021-09-03T00:21:16.466786Z",
     "shell.execute_reply": "2021-09-03T00:21:16.467363Z"
    },
    "papermill": {
     "duration": 0.046272,
     "end_time": "2021-09-03T00:21:16.467554",
     "exception": false,
     "start_time": "2021-09-03T00:21:16.421282",
     "status": "completed"
    },
    "tags": []
   },
   "outputs": [],
   "source": [
    "#hide\n",
    "def get_template(path):\n",
    "    from urllib.parse import urlparse\n",
    "    if bool(urlparse(path).netloc):\n",
    "        from urllib.request import urlopen\n",
    "        return urlopen(path).read().decode('utf8')\n",
    "    return open(path).read()"
   ]
  },
  {
   "cell_type": "code",
   "execution_count": 7,
   "id": "realistic-blast",
   "metadata": {
    "execution": {
     "iopub.execute_input": "2021-09-03T00:21:16.547361Z",
     "iopub.status.busy": "2021-09-03T00:21:16.546684Z",
     "iopub.status.idle": "2021-09-03T00:21:16.548745Z",
     "shell.execute_reply": "2021-09-03T00:21:16.549326Z"
    },
    "papermill": {
     "duration": 0.044976,
     "end_time": "2021-09-03T00:21:16.549476",
     "exception": false,
     "start_time": "2021-09-03T00:21:16.504500",
     "status": "completed"
    },
    "tags": []
   },
   "outputs": [],
   "source": [
    "#hide\n",
    "def get_frame(name):\n",
    "    url = (\n",
    "        'https://raw.githubusercontent.com/CSSEGISandData/COVID-19/master/csse_covid_19_data/'\n",
    "        f'csse_covid_19_time_series/time_series_covid19_{name}_global.csv')\n",
    "    df = pd.read_csv(url)\n",
    "    # rename countries\n",
    "    df['Country/Region'] = df['Country/Region'].replace(mapping['replace.country'])\n",
    "    return df"
   ]
  },
  {
   "cell_type": "code",
   "execution_count": 8,
   "id": "affiliated-characterization",
   "metadata": {
    "execution": {
     "iopub.execute_input": "2021-09-03T00:21:16.629402Z",
     "iopub.status.busy": "2021-09-03T00:21:16.628720Z",
     "iopub.status.idle": "2021-09-03T00:21:16.632243Z",
     "shell.execute_reply": "2021-09-03T00:21:16.632877Z"
    },
    "papermill": {
     "duration": 0.04656,
     "end_time": "2021-09-03T00:21:16.633026",
     "exception": false,
     "start_time": "2021-09-03T00:21:16.586466",
     "status": "completed"
    },
    "tags": []
   },
   "outputs": [],
   "source": [
    "#hide\n",
    "def get_dates(df):\n",
    "    dt_cols = df.columns[~df.columns.isin(['Province/State', 'Country/Region', 'Lat', 'Long'])]\n",
    "    LAST_DATE_I = -1\n",
    "    # sometimes last column may be empty, then go backwards\n",
    "    for i in range(-1, -len(dt_cols), -1):\n",
    "        if not df[dt_cols[i]].fillna(0).eq(0).all():\n",
    "            LAST_DATE_I = i\n",
    "            break\n",
    "    return LAST_DATE_I, dt_cols"
   ]
  },
  {
   "cell_type": "code",
   "execution_count": 9,
   "id": "recent-optimization",
   "metadata": {
    "execution": {
     "iopub.execute_input": "2021-09-03T00:21:16.716370Z",
     "iopub.status.busy": "2021-09-03T00:21:16.715655Z",
     "iopub.status.idle": "2021-09-03T00:21:17.321032Z",
     "shell.execute_reply": "2021-09-03T00:21:17.321576Z"
    },
    "papermill": {
     "duration": 0.648321,
     "end_time": "2021-09-03T00:21:17.321758",
     "exception": false,
     "start_time": "2021-09-03T00:21:16.673437",
     "status": "completed"
    },
    "tags": []
   },
   "outputs": [],
   "source": [
    "#hide\n",
    "COL_REGION = 'Country/Region'\n",
    "# Confirmed, Recovered, Deaths\n",
    "df = get_frame('confirmed')\n",
    "# dft_: timeseries, dfc_: today country agg\n",
    "dft_cases = df\n",
    "dft_deaths = get_frame('deaths')\n",
    "dft_recovered = get_frame('recovered')\n",
    "LAST_DATE_I, dt_cols = get_dates(df)"
   ]
  },
  {
   "cell_type": "code",
   "execution_count": 10,
   "id": "absolute-copper",
   "metadata": {
    "execution": {
     "iopub.execute_input": "2021-09-03T00:21:17.403023Z",
     "iopub.status.busy": "2021-09-03T00:21:17.402349Z",
     "iopub.status.idle": "2021-09-03T00:21:17.404997Z",
     "shell.execute_reply": "2021-09-03T00:21:17.405509Z"
    },
    "papermill": {
     "duration": 0.045837,
     "end_time": "2021-09-03T00:21:17.405666",
     "exception": false,
     "start_time": "2021-09-03T00:21:17.359829",
     "status": "completed"
    },
    "tags": []
   },
   "outputs": [],
   "source": [
    "#hide\n",
    "LAST_DATE_I, dt_cols = get_dates(df)\n",
    "dt_today =dt_cols[LAST_DATE_I]\n",
    "# dt_5day = dt_cols[LAST_DATE_I - 5]\n",
    "dt_yday = dt_cols[LAST_DATE_I - 1]"
   ]
  },
  {
   "cell_type": "code",
   "execution_count": 11,
   "id": "restricted-sheriff",
   "metadata": {
    "execution": {
     "iopub.execute_input": "2021-09-03T00:21:17.492862Z",
     "iopub.status.busy": "2021-09-03T00:21:17.492182Z",
     "iopub.status.idle": "2021-09-03T00:21:17.496128Z",
     "shell.execute_reply": "2021-09-03T00:21:17.496648Z"
    },
    "papermill": {
     "duration": 0.054095,
     "end_time": "2021-09-03T00:21:17.496802",
     "exception": false,
     "start_time": "2021-09-03T00:21:17.442707",
     "status": "completed"
    },
    "tags": []
   },
   "outputs": [],
   "source": [
    "#hide\n",
    "dfc_cases = dft_cases.groupby(COL_REGION)[dt_today].sum()\n",
    "dfc_deaths = dft_deaths.groupby(COL_REGION)[dt_today].sum()\n",
    "# dfp_cases = dft_cases.groupby(COL_REGION)[dt_5day].sum()\n",
    "# dfp_deaths = dft_deaths.groupby(COL_REGION)[dt_5day].sum()\n",
    "dfp_cases = dft_cases.groupby(COL_REGION)[dt_yday].sum()\n",
    "dfp_deaths = dft_deaths.groupby(COL_REGION)[dt_yday].sum()"
   ]
  },
  {
   "cell_type": "code",
   "execution_count": 12,
   "id": "deluxe-hepatitis",
   "metadata": {
    "execution": {
     "iopub.execute_input": "2021-09-03T00:21:17.580190Z",
     "iopub.status.busy": "2021-09-03T00:21:17.579366Z",
     "iopub.status.idle": "2021-09-03T00:21:17.585140Z",
     "shell.execute_reply": "2021-09-03T00:21:17.584567Z"
    },
    "papermill": {
     "duration": 0.050327,
     "end_time": "2021-09-03T00:21:17.585275",
     "exception": false,
     "start_time": "2021-09-03T00:21:17.534948",
     "status": "completed"
    },
    "tags": []
   },
   "outputs": [],
   "source": [
    "#hide\n",
    "df_table = (pd.DataFrame(dict(Cases = dfc_cases, Deaths = dfc_deaths, PCases = dfp_cases, PDeaths = dfp_deaths))\n",
    "            .sort_values(by = ['Cases','Deaths'], ascending = [False, False])\n",
    "            .reset_index())"
   ]
  },
  {
   "cell_type": "code",
   "execution_count": 13,
   "id": "educational-chancellor",
   "metadata": {
    "execution": {
     "iopub.execute_input": "2021-09-03T00:21:17.681564Z",
     "iopub.status.busy": "2021-09-03T00:21:17.680858Z",
     "iopub.status.idle": "2021-09-03T00:21:17.690156Z",
     "shell.execute_reply": "2021-09-03T00:21:17.689576Z"
    },
    "papermill": {
     "duration": 0.068422,
     "end_time": "2021-09-03T00:21:17.690300",
     "exception": false,
     "start_time": "2021-09-03T00:21:17.621878",
     "status": "completed"
    },
    "tags": []
   },
   "outputs": [
    {
     "data": {
      "text/html": [
       "<div>\n",
       "<style scoped>\n",
       "    .dataframe tbody tr th:only-of-type {\n",
       "        vertical-align: middle;\n",
       "    }\n",
       "\n",
       "    .dataframe tbody tr th {\n",
       "        vertical-align: top;\n",
       "    }\n",
       "\n",
       "    .dataframe thead th {\n",
       "        text-align: right;\n",
       "    }\n",
       "</style>\n",
       "<table border=\"1\" class=\"dataframe\">\n",
       "  <thead>\n",
       "    <tr style=\"text-align: right;\">\n",
       "      <th></th>\n",
       "      <th>Country/Region</th>\n",
       "      <th>Cases</th>\n",
       "      <th>Deaths</th>\n",
       "      <th>PCases</th>\n",
       "      <th>PDeaths</th>\n",
       "      <th>Cases (+)</th>\n",
       "      <th>Deaths (+)</th>\n",
       "      <th>Fatality Rate</th>\n",
       "      <th>Continent</th>\n",
       "    </tr>\n",
       "  </thead>\n",
       "  <tbody>\n",
       "    <tr>\n",
       "      <th>0</th>\n",
       "      <td>US</td>\n",
       "      <td>39396156</td>\n",
       "      <td>642081</td>\n",
       "      <td>39198131</td>\n",
       "      <td>640108</td>\n",
       "      <td>198025</td>\n",
       "      <td>1973</td>\n",
       "      <td>1.63</td>\n",
       "      <td>North America</td>\n",
       "    </tr>\n",
       "    <tr>\n",
       "      <th>1</th>\n",
       "      <td>India</td>\n",
       "      <td>32857937</td>\n",
       "      <td>439529</td>\n",
       "      <td>32810845</td>\n",
       "      <td>439020</td>\n",
       "      <td>47092</td>\n",
       "      <td>509</td>\n",
       "      <td>1.34</td>\n",
       "      <td>Asia</td>\n",
       "    </tr>\n",
       "    <tr>\n",
       "      <th>2</th>\n",
       "      <td>Brazil</td>\n",
       "      <td>20804215</td>\n",
       "      <td>581150</td>\n",
       "      <td>20776870</td>\n",
       "      <td>580413</td>\n",
       "      <td>27345</td>\n",
       "      <td>737</td>\n",
       "      <td>2.79</td>\n",
       "      <td>South America</td>\n",
       "    </tr>\n",
       "    <tr>\n",
       "      <th>3</th>\n",
       "      <td>France</td>\n",
       "      <td>6868151</td>\n",
       "      <td>126310</td>\n",
       "      <td>6835022</td>\n",
       "      <td>126202</td>\n",
       "      <td>33129</td>\n",
       "      <td>108</td>\n",
       "      <td>1.84</td>\n",
       "      <td>Europe</td>\n",
       "    </tr>\n",
       "    <tr>\n",
       "      <th>4</th>\n",
       "      <td>United Kingdom</td>\n",
       "      <td>6856933</td>\n",
       "      <td>133066</td>\n",
       "      <td>6821356</td>\n",
       "      <td>132859</td>\n",
       "      <td>35577</td>\n",
       "      <td>207</td>\n",
       "      <td>1.94</td>\n",
       "      <td>Europe</td>\n",
       "    </tr>\n",
       "  </tbody>\n",
       "</table>\n",
       "</div>"
      ],
      "text/plain": [
       "   Country/Region     Cases  Deaths    PCases  PDeaths  Cases (+)  Deaths (+)  \\\n",
       "0              US  39396156  642081  39198131   640108     198025        1973   \n",
       "1           India  32857937  439529  32810845   439020      47092         509   \n",
       "2          Brazil  20804215  581150  20776870   580413      27345         737   \n",
       "3          France   6868151  126310   6835022   126202      33129         108   \n",
       "4  United Kingdom   6856933  133066   6821356   132859      35577         207   \n",
       "\n",
       "   Fatality Rate      Continent  \n",
       "0           1.63  North America  \n",
       "1           1.34           Asia  \n",
       "2           2.79  South America  \n",
       "3           1.84         Europe  \n",
       "4           1.94         Europe  "
      ]
     },
     "execution_count": 13,
     "metadata": {},
     "output_type": "execute_result"
    }
   ],
   "source": [
    "#hide\n",
    "for c in 'Cases, Deaths'.split(', '):\n",
    "    df_table[f'{c} (+)'] = (df_table[c] - df_table[f'P{c}']).clip(0)\n",
    "    #Clip ça veut dire, les chiffres negatif sont interdit\n",
    "df_table['Fatality Rate'] = (100* df_table['Deaths']/ df_table['Cases']).round(2)\n",
    "df_table['Continent'] = df_table['Country/Region'].map(mapping['map.continent'])\n",
    "df_table.head(5)"
   ]
  },
  {
   "cell_type": "code",
   "execution_count": 14,
   "id": "aboriginal-bulgaria",
   "metadata": {
    "execution": {
     "iopub.execute_input": "2021-09-03T00:21:17.779107Z",
     "iopub.status.busy": "2021-09-03T00:21:17.778432Z",
     "iopub.status.idle": "2021-09-03T00:21:17.781026Z",
     "shell.execute_reply": "2021-09-03T00:21:17.780450Z"
    },
    "papermill": {
     "duration": 0.052285,
     "end_time": "2021-09-03T00:21:17.781161",
     "exception": false,
     "start_time": "2021-09-03T00:21:17.728876",
     "status": "completed"
    },
    "tags": []
   },
   "outputs": [],
   "source": [
    "#hide\n",
    "#delete problematic countries from table\n",
    "df_table = df_table[~df_table['Country/Region'].isin(['Cape Verde', 'Cruise Ship', 'Kosovo'])]"
   ]
  },
  {
   "cell_type": "code",
   "execution_count": 15,
   "id": "fantastic-effect",
   "metadata": {
    "execution": {
     "iopub.execute_input": "2021-09-03T00:21:17.867029Z",
     "iopub.status.busy": "2021-09-03T00:21:17.866324Z",
     "iopub.status.idle": "2021-09-03T00:21:17.887891Z",
     "shell.execute_reply": "2021-09-03T00:21:17.888478Z"
    },
    "papermill": {
     "duration": 0.069018,
     "end_time": "2021-09-03T00:21:17.888645",
     "exception": false,
     "start_time": "2021-09-03T00:21:17.819627",
     "status": "completed"
    },
    "tags": []
   },
   "outputs": [
    {
     "data": {
      "text/html": [
       "<div>\n",
       "<style scoped>\n",
       "    .dataframe tbody tr th:only-of-type {\n",
       "        vertical-align: middle;\n",
       "    }\n",
       "\n",
       "    .dataframe tbody tr th {\n",
       "        vertical-align: top;\n",
       "    }\n",
       "\n",
       "    .dataframe thead th {\n",
       "        text-align: right;\n",
       "    }\n",
       "</style>\n",
       "<table border=\"1\" class=\"dataframe\">\n",
       "  <thead>\n",
       "    <tr style=\"text-align: right;\">\n",
       "      <th></th>\n",
       "      <th>Country/Region</th>\n",
       "      <th>Cases</th>\n",
       "      <th>Deaths</th>\n",
       "      <th>PCases</th>\n",
       "      <th>PDeaths</th>\n",
       "      <th>Cases (+)</th>\n",
       "      <th>Deaths (+)</th>\n",
       "      <th>Fatality Rate</th>\n",
       "      <th>Continent</th>\n",
       "    </tr>\n",
       "  </thead>\n",
       "  <tbody>\n",
       "    <tr>\n",
       "      <th>0</th>\n",
       "      <td>US</td>\n",
       "      <td>39396156</td>\n",
       "      <td>642081</td>\n",
       "      <td>39198131</td>\n",
       "      <td>640108</td>\n",
       "      <td>198025</td>\n",
       "      <td>1973</td>\n",
       "      <td>1.6</td>\n",
       "      <td>North America</td>\n",
       "    </tr>\n",
       "    <tr>\n",
       "      <th>1</th>\n",
       "      <td>India</td>\n",
       "      <td>32857937</td>\n",
       "      <td>439529</td>\n",
       "      <td>32810845</td>\n",
       "      <td>439020</td>\n",
       "      <td>47092</td>\n",
       "      <td>509</td>\n",
       "      <td>1.3</td>\n",
       "      <td>Asia</td>\n",
       "    </tr>\n",
       "    <tr>\n",
       "      <th>2</th>\n",
       "      <td>Brazil</td>\n",
       "      <td>20804215</td>\n",
       "      <td>581150</td>\n",
       "      <td>20776870</td>\n",
       "      <td>580413</td>\n",
       "      <td>27345</td>\n",
       "      <td>737</td>\n",
       "      <td>2.8</td>\n",
       "      <td>South America</td>\n",
       "    </tr>\n",
       "    <tr>\n",
       "      <th>3</th>\n",
       "      <td>France</td>\n",
       "      <td>6868151</td>\n",
       "      <td>126310</td>\n",
       "      <td>6835022</td>\n",
       "      <td>126202</td>\n",
       "      <td>33129</td>\n",
       "      <td>108</td>\n",
       "      <td>1.8</td>\n",
       "      <td>Europe</td>\n",
       "    </tr>\n",
       "    <tr>\n",
       "      <th>4</th>\n",
       "      <td>United Kingdom</td>\n",
       "      <td>6856933</td>\n",
       "      <td>133066</td>\n",
       "      <td>6821356</td>\n",
       "      <td>132859</td>\n",
       "      <td>35577</td>\n",
       "      <td>207</td>\n",
       "      <td>1.9</td>\n",
       "      <td>Europe</td>\n",
       "    </tr>\n",
       "  </tbody>\n",
       "</table>\n",
       "</div>"
      ],
      "text/plain": [
       "   Country/Region     Cases  Deaths    PCases  PDeaths  Cases (+)  Deaths (+)  \\\n",
       "0              US  39396156  642081  39198131   640108     198025        1973   \n",
       "1           India  32857937  439529  32810845   439020      47092         509   \n",
       "2          Brazil  20804215  581150  20776870   580413      27345         737   \n",
       "3          France   6868151  126310   6835022   126202      33129         108   \n",
       "4  United Kingdom   6856933  133066   6821356   132859      35577         207   \n",
       "\n",
       "   Fatality Rate      Continent  \n",
       "0            1.6  North America  \n",
       "1            1.3           Asia  \n",
       "2            2.8  South America  \n",
       "3            1.8         Europe  \n",
       "4            1.9         Europe  "
      ]
     },
     "execution_count": 15,
     "metadata": {},
     "output_type": "execute_result"
    }
   ],
   "source": [
    "#hide\n",
    "df_table = (pd.DataFrame(dict(Cases=dfc_cases, Deaths=dfc_deaths, PCases=dfp_cases, PDeaths=dfp_deaths))\n",
    "             .sort_values(by=['Cases', 'Deaths'], ascending=[False, False])\n",
    "             .reset_index())\n",
    "df_table.rename(columns={'index': 'Country/Region'}, inplace=True)\n",
    "for c in 'Cases, Deaths'.split(', '):\n",
    "    df_table[f'{c} (+)'] = (df_table[c] - df_table[f'P{c}']).clip(0)  # DATA BUG\n",
    "df_table['Fatality Rate'] = (100 * df_table['Deaths'] / df_table['Cases']).round(1)\n",
    "df_table['Continent'] = df_table['Country/Region'].map(mapping['map.continent'])\n",
    "df_table.head(5)"
   ]
  },
  {
   "cell_type": "code",
   "execution_count": 16,
   "id": "fewer-occasion",
   "metadata": {
    "execution": {
     "iopub.execute_input": "2021-09-03T00:21:17.975074Z",
     "iopub.status.busy": "2021-09-03T00:21:17.974403Z",
     "iopub.status.idle": "2021-09-03T00:21:17.977382Z",
     "shell.execute_reply": "2021-09-03T00:21:17.978030Z"
    },
    "papermill": {
     "duration": 0.050694,
     "end_time": "2021-09-03T00:21:17.978185",
     "exception": false,
     "start_time": "2021-09-03T00:21:17.927491",
     "status": "completed"
    },
    "tags": []
   },
   "outputs": [],
   "source": [
    "#hide\n",
    "#delete problematic countries from table\n",
    "df_table = df_table[~df_table['Country/Region'].isin(['Cape Verde', 'Cruise Ship', 'Kosovo'])]"
   ]
  },
  {
   "cell_type": "code",
   "execution_count": 17,
   "id": "related-center",
   "metadata": {
    "execution": {
     "iopub.execute_input": "2021-09-03T00:21:18.079528Z",
     "iopub.status.busy": "2021-09-03T00:21:18.078822Z",
     "iopub.status.idle": "2021-09-03T00:21:18.081309Z",
     "shell.execute_reply": "2021-09-03T00:21:18.080732Z"
    },
    "papermill": {
     "duration": 0.065166,
     "end_time": "2021-09-03T00:21:18.081454",
     "exception": false,
     "start_time": "2021-09-03T00:21:18.016288",
     "status": "completed"
    },
    "tags": []
   },
   "outputs": [],
   "source": [
    "#hide\n",
    "metrics = [df_table.columns[index] for index in [1,2,5,6]]\n",
    "# s_china = df_table[df_table['Country/Region'].eq('China')][metrics].sum().add_prefix('China ')\n",
    "s_us = df_table[df_table['Country/Region'].eq('US')][metrics].sum().add_prefix('US ')\n",
    "s_eu = df_table[df_table['Continent'].eq('Europe')][metrics].sum().add_prefix('EU ')\n",
    "s_ind = df_table[df_table['Country/Region'].eq('India')][metrics].sum().add_prefix('India ')\n",
    "summary = {'updated': pd.to_datetime(dt_today), 'since': pd.to_datetime(dt_yday)}\n",
    "summary = {'updated': pd.to_datetime(dt_today), 'since': pd.to_datetime(dt_yday)}\n",
    "summary = {**summary, **df_table[metrics].sum(), **s_ind, **s_us, **s_eu}"
   ]
  },
  {
   "cell_type": "code",
   "execution_count": 18,
   "id": "engaging-syndrome",
   "metadata": {
    "execution": {
     "iopub.execute_input": "2021-09-03T00:21:18.161995Z",
     "iopub.status.busy": "2021-09-03T00:21:18.161340Z",
     "iopub.status.idle": "2021-09-03T00:21:18.178019Z",
     "shell.execute_reply": "2021-09-03T00:21:18.177448Z"
    },
    "papermill": {
     "duration": 0.05878,
     "end_time": "2021-09-03T00:21:18.178168",
     "exception": false,
     "start_time": "2021-09-03T00:21:18.119388",
     "status": "completed"
    },
    "tags": []
   },
   "outputs": [],
   "source": [
    "#hide\n",
    "dft_ct_new_cases = dft_cases.groupby(COL_REGION)[dt_cols].sum().diff(axis=1).fillna(0).astype(int)"
   ]
  },
  {
   "cell_type": "code",
   "execution_count": 19,
   "id": "neutral-assignment",
   "metadata": {
    "execution": {
     "iopub.execute_input": "2021-09-03T00:21:18.258093Z",
     "iopub.status.busy": "2021-09-03T00:21:18.257437Z",
     "iopub.status.idle": "2021-09-03T00:21:18.263446Z",
     "shell.execute_reply": "2021-09-03T00:21:18.264050Z"
    },
    "papermill": {
     "duration": 0.047332,
     "end_time": "2021-09-03T00:21:18.264200",
     "exception": false,
     "start_time": "2021-09-03T00:21:18.216868",
     "status": "completed"
    },
    "tags": []
   },
   "outputs": [],
   "source": [
    "#hide\n",
    "everydaycases = dft_ct_new_cases.cumsum(axis=1)"
   ]
  },
  {
   "cell_type": "code",
   "execution_count": 20,
   "id": "parliamentary-calgary",
   "metadata": {
    "execution": {
     "iopub.execute_input": "2021-09-03T00:21:18.347092Z",
     "iopub.status.busy": "2021-09-03T00:21:18.346420Z",
     "iopub.status.idle": "2021-09-03T00:21:19.069503Z",
     "shell.execute_reply": "2021-09-03T00:21:19.070047Z"
    },
    "papermill": {
     "duration": 0.76617,
     "end_time": "2021-09-03T00:21:19.070231",
     "exception": false,
     "start_time": "2021-09-03T00:21:18.304061",
     "status": "completed"
    },
    "tags": []
   },
   "outputs": [],
   "source": [
    "#hide\n",
    "import pandas as pd\n",
    "import matplotlib.pyplot as plt\n",
    "import matplotlib.ticker as ticker\n",
    "import matplotlib.animation as animation\n",
    "from IPython.display import HTML"
   ]
  },
  {
   "cell_type": "code",
   "execution_count": 21,
   "id": "lasting-extraction",
   "metadata": {
    "execution": {
     "iopub.execute_input": "2021-09-03T00:21:19.154467Z",
     "iopub.status.busy": "2021-09-03T00:21:19.153796Z",
     "iopub.status.idle": "2021-09-03T00:21:19.159661Z",
     "shell.execute_reply": "2021-09-03T00:21:19.160217Z"
    },
    "papermill": {
     "duration": 0.051048,
     "end_time": "2021-09-03T00:21:19.160386",
     "exception": false,
     "start_time": "2021-09-03T00:21:19.109338",
     "status": "completed"
    },
    "tags": []
   },
   "outputs": [],
   "source": [
    "#hide\n",
    "t = everydaycases.stack()"
   ]
  },
  {
   "cell_type": "code",
   "execution_count": 22,
   "id": "premier-sleeve",
   "metadata": {
    "execution": {
     "iopub.execute_input": "2021-09-03T00:21:19.248606Z",
     "iopub.status.busy": "2021-09-03T00:21:19.247701Z",
     "iopub.status.idle": "2021-09-03T00:21:19.257381Z",
     "shell.execute_reply": "2021-09-03T00:21:19.257932Z"
    },
    "papermill": {
     "duration": 0.053471,
     "end_time": "2021-09-03T00:21:19.258106",
     "exception": false,
     "start_time": "2021-09-03T00:21:19.204635",
     "status": "completed"
    },
    "tags": []
   },
   "outputs": [],
   "source": [
    "#hide\n",
    "g = t.reset_index(['Country/Region'])"
   ]
  },
  {
   "cell_type": "code",
   "execution_count": 23,
   "id": "distributed-pittsburgh",
   "metadata": {
    "execution": {
     "iopub.execute_input": "2021-09-03T00:21:19.340966Z",
     "iopub.status.busy": "2021-09-03T00:21:19.340307Z",
     "iopub.status.idle": "2021-09-03T00:21:19.342833Z",
     "shell.execute_reply": "2021-09-03T00:21:19.343350Z"
    },
    "papermill": {
     "duration": 0.045031,
     "end_time": "2021-09-03T00:21:19.343502",
     "exception": false,
     "start_time": "2021-09-03T00:21:19.298471",
     "status": "completed"
    },
    "tags": []
   },
   "outputs": [],
   "source": [
    "#hide\n",
    "g.index.name = 'date'"
   ]
  },
  {
   "cell_type": "code",
   "execution_count": 24,
   "id": "naked-donor",
   "metadata": {
    "execution": {
     "iopub.execute_input": "2021-09-03T00:21:19.430859Z",
     "iopub.status.busy": "2021-09-03T00:21:19.430196Z",
     "iopub.status.idle": "2021-09-03T00:21:19.432765Z",
     "shell.execute_reply": "2021-09-03T00:21:19.432203Z"
    },
    "papermill": {
     "duration": 0.044543,
     "end_time": "2021-09-03T00:21:19.432897",
     "exception": false,
     "start_time": "2021-09-03T00:21:19.388354",
     "status": "completed"
    },
    "tags": []
   },
   "outputs": [],
   "source": [
    "# #hide\n",
    "# g = g.reset_index(['date'])"
   ]
  },
  {
   "cell_type": "code",
   "execution_count": 25,
   "id": "incomplete-mustang",
   "metadata": {
    "execution": {
     "iopub.execute_input": "2021-09-03T00:21:19.515565Z",
     "iopub.status.busy": "2021-09-03T00:21:19.514891Z",
     "iopub.status.idle": "2021-09-03T00:21:19.516307Z",
     "shell.execute_reply": "2021-09-03T00:21:19.516843Z"
    },
    "papermill": {
     "duration": 0.046502,
     "end_time": "2021-09-03T00:21:19.516990",
     "exception": false,
     "start_time": "2021-09-03T00:21:19.470488",
     "status": "completed"
    },
    "tags": []
   },
   "outputs": [],
   "source": [
    "#hide\n",
    "# g.head()"
   ]
  },
  {
   "cell_type": "code",
   "execution_count": 26,
   "id": "specific-kruger",
   "metadata": {
    "execution": {
     "iopub.execute_input": "2021-09-03T00:21:19.597827Z",
     "iopub.status.busy": "2021-09-03T00:21:19.597162Z",
     "iopub.status.idle": "2021-09-03T00:21:19.599033Z",
     "shell.execute_reply": "2021-09-03T00:21:19.599662Z"
    },
    "papermill": {
     "duration": 0.045262,
     "end_time": "2021-09-03T00:21:19.599840",
     "exception": false,
     "start_time": "2021-09-03T00:21:19.554578",
     "status": "completed"
    },
    "tags": []
   },
   "outputs": [],
   "source": [
    "#hide\n",
    "# g.columns = ['date','country','cases']"
   ]
  },
  {
   "cell_type": "code",
   "execution_count": 27,
   "id": "tender-conversion",
   "metadata": {
    "execution": {
     "iopub.execute_input": "2021-09-03T00:21:19.684387Z",
     "iopub.status.busy": "2021-09-03T00:21:19.683702Z",
     "iopub.status.idle": "2021-09-03T00:21:19.686150Z",
     "shell.execute_reply": "2021-09-03T00:21:19.685501Z"
    },
    "papermill": {
     "duration": 0.048588,
     "end_time": "2021-09-03T00:21:19.686282",
     "exception": false,
     "start_time": "2021-09-03T00:21:19.637694",
     "status": "completed"
    },
    "tags": []
   },
   "outputs": [],
   "source": [
    "#hide\n",
    "# g['continent'] = g.country"
   ]
  },
  {
   "cell_type": "code",
   "execution_count": 28,
   "id": "substantial-wilderness",
   "metadata": {
    "execution": {
     "iopub.execute_input": "2021-09-03T00:21:19.767439Z",
     "iopub.status.busy": "2021-09-03T00:21:19.766769Z",
     "iopub.status.idle": "2021-09-03T00:21:19.768722Z",
     "shell.execute_reply": "2021-09-03T00:21:19.769365Z"
    },
    "papermill": {
     "duration": 0.045143,
     "end_time": "2021-09-03T00:21:19.769513",
     "exception": false,
     "start_time": "2021-09-03T00:21:19.724370",
     "status": "completed"
    },
    "tags": []
   },
   "outputs": [],
   "source": [
    "#hide\n",
    "# cols = list(g.columns.values)"
   ]
  },
  {
   "cell_type": "code",
   "execution_count": 29,
   "id": "solved-farming",
   "metadata": {
    "execution": {
     "iopub.execute_input": "2021-09-03T00:21:19.850589Z",
     "iopub.status.busy": "2021-09-03T00:21:19.849924Z",
     "iopub.status.idle": "2021-09-03T00:21:19.851960Z",
     "shell.execute_reply": "2021-09-03T00:21:19.852510Z"
    },
    "papermill": {
     "duration": 0.043914,
     "end_time": "2021-09-03T00:21:19.852663",
     "exception": false,
     "start_time": "2021-09-03T00:21:19.808749",
     "status": "completed"
    },
    "tags": []
   },
   "outputs": [],
   "source": [
    "#hide\n",
    "# cols.insert(0, cols.pop())"
   ]
  },
  {
   "cell_type": "code",
   "execution_count": 30,
   "id": "executed-adoption",
   "metadata": {
    "execution": {
     "iopub.execute_input": "2021-09-03T00:21:19.934086Z",
     "iopub.status.busy": "2021-09-03T00:21:19.933406Z",
     "iopub.status.idle": "2021-09-03T00:21:19.935421Z",
     "shell.execute_reply": "2021-09-03T00:21:19.936036Z"
    },
    "papermill": {
     "duration": 0.043807,
     "end_time": "2021-09-03T00:21:19.936189",
     "exception": false,
     "start_time": "2021-09-03T00:21:19.892382",
     "status": "completed"
    },
    "tags": []
   },
   "outputs": [],
   "source": [
    "#hide\n",
    "# g = g[cols]"
   ]
  },
  {
   "cell_type": "code",
   "execution_count": 31,
   "id": "subject-dublin",
   "metadata": {
    "execution": {
     "iopub.execute_input": "2021-09-03T00:21:20.021743Z",
     "iopub.status.busy": "2021-09-03T00:21:20.021056Z",
     "iopub.status.idle": "2021-09-03T00:21:20.023617Z",
     "shell.execute_reply": "2021-09-03T00:21:20.023043Z"
    },
    "papermill": {
     "duration": 0.049709,
     "end_time": "2021-09-03T00:21:20.023780",
     "exception": false,
     "start_time": "2021-09-03T00:21:19.974071",
     "status": "completed"
    },
    "tags": []
   },
   "outputs": [],
   "source": [
    "#hide\n",
    "# g['continent'] = g['continent'].map(mapping['map.continent'])"
   ]
  },
  {
   "cell_type": "code",
   "execution_count": 32,
   "id": "freelance-scout",
   "metadata": {
    "execution": {
     "iopub.execute_input": "2021-09-03T00:21:20.115771Z",
     "iopub.status.busy": "2021-09-03T00:21:20.115088Z",
     "iopub.status.idle": "2021-09-03T00:21:20.117633Z",
     "shell.execute_reply": "2021-09-03T00:21:20.117060Z"
    },
    "papermill": {
     "duration": 0.051498,
     "end_time": "2021-09-03T00:21:20.117864",
     "exception": false,
     "start_time": "2021-09-03T00:21:20.066366",
     "status": "completed"
    },
    "tags": []
   },
   "outputs": [],
   "source": [
    "#hide\n",
    "# g.head()"
   ]
  },
  {
   "cell_type": "code",
   "execution_count": 33,
   "id": "limited-engine",
   "metadata": {
    "execution": {
     "iopub.execute_input": "2021-09-03T00:21:20.198186Z",
     "iopub.status.busy": "2021-09-03T00:21:20.197532Z",
     "iopub.status.idle": "2021-09-03T00:21:20.200318Z",
     "shell.execute_reply": "2021-09-03T00:21:20.199726Z"
    },
    "papermill": {
     "duration": 0.044614,
     "end_time": "2021-09-03T00:21:20.200451",
     "exception": false,
     "start_time": "2021-09-03T00:21:20.155837",
     "status": "completed"
    },
    "tags": []
   },
   "outputs": [],
   "source": [
    "# hide\n",
    "# g['date'] = g['date'].astype('datetime64[ns]')"
   ]
  },
  {
   "cell_type": "code",
   "execution_count": 34,
   "id": "sophisticated-supervisor",
   "metadata": {
    "execution": {
     "iopub.execute_input": "2021-09-03T00:21:20.284596Z",
     "iopub.status.busy": "2021-09-03T00:21:20.283672Z",
     "iopub.status.idle": "2021-09-03T00:21:20.285795Z",
     "shell.execute_reply": "2021-09-03T00:21:20.285217Z"
    },
    "papermill": {
     "duration": 0.04798,
     "end_time": "2021-09-03T00:21:20.285942",
     "exception": false,
     "start_time": "2021-09-03T00:21:20.237962",
     "status": "completed"
    },
    "tags": []
   },
   "outputs": [],
   "source": [
    "#hide\n",
    "# g['date'] = g.date.dt.dayofyear"
   ]
  },
  {
   "cell_type": "code",
   "execution_count": 35,
   "id": "inside-dubai",
   "metadata": {
    "execution": {
     "iopub.execute_input": "2021-09-03T00:21:20.367170Z",
     "iopub.status.busy": "2021-09-03T00:21:20.366488Z",
     "iopub.status.idle": "2021-09-03T00:21:20.368419Z",
     "shell.execute_reply": "2021-09-03T00:21:20.369054Z"
    },
    "papermill": {
     "duration": 0.043946,
     "end_time": "2021-09-03T00:21:20.369217",
     "exception": false,
     "start_time": "2021-09-03T00:21:20.325271",
     "status": "completed"
    },
    "tags": []
   },
   "outputs": [],
   "source": [
    "#hide\n",
    "# g = g.rename(columns= {'continent':'group','country':'name','cases':'value'})"
   ]
  },
  {
   "cell_type": "code",
   "execution_count": 36,
   "id": "fleet-motorcycle",
   "metadata": {
    "execution": {
     "iopub.execute_input": "2021-09-03T00:21:20.450674Z",
     "iopub.status.busy": "2021-09-03T00:21:20.449999Z",
     "iopub.status.idle": "2021-09-03T00:21:20.452575Z",
     "shell.execute_reply": "2021-09-03T00:21:20.452000Z"
    },
    "papermill": {
     "duration": 0.044502,
     "end_time": "2021-09-03T00:21:20.452711",
     "exception": false,
     "start_time": "2021-09-03T00:21:20.408209",
     "status": "completed"
    },
    "tags": []
   },
   "outputs": [],
   "source": [
    "#hide\n",
    "# cols = ['name','group','day','value']"
   ]
  },
  {
   "cell_type": "code",
   "execution_count": 37,
   "id": "continued-sleeping",
   "metadata": {
    "execution": {
     "iopub.execute_input": "2021-09-03T00:21:20.542858Z",
     "iopub.status.busy": "2021-09-03T00:21:20.542184Z",
     "iopub.status.idle": "2021-09-03T00:21:20.544245Z",
     "shell.execute_reply": "2021-09-03T00:21:20.544824Z"
    },
    "papermill": {
     "duration": 0.046739,
     "end_time": "2021-09-03T00:21:20.544978",
     "exception": false,
     "start_time": "2021-09-03T00:21:20.498239",
     "status": "completed"
    },
    "tags": []
   },
   "outputs": [],
   "source": [
    "#hide\n",
    "# g.rename(columns= {'date':'day'},inplace = True)"
   ]
  },
  {
   "cell_type": "code",
   "execution_count": 38,
   "id": "major-fight",
   "metadata": {
    "execution": {
     "iopub.execute_input": "2021-09-03T00:21:20.625088Z",
     "iopub.status.busy": "2021-09-03T00:21:20.624420Z",
     "iopub.status.idle": "2021-09-03T00:21:20.626573Z",
     "shell.execute_reply": "2021-09-03T00:21:20.627217Z"
    },
    "papermill": {
     "duration": 0.04471,
     "end_time": "2021-09-03T00:21:20.627370",
     "exception": false,
     "start_time": "2021-09-03T00:21:20.582660",
     "status": "completed"
    },
    "tags": []
   },
   "outputs": [],
   "source": [
    "#hide\n",
    "# g = g[cols]"
   ]
  },
  {
   "cell_type": "code",
   "execution_count": 39,
   "id": "structured-mobile",
   "metadata": {
    "execution": {
     "iopub.execute_input": "2021-09-03T00:21:20.710772Z",
     "iopub.status.busy": "2021-09-03T00:21:20.710102Z",
     "iopub.status.idle": "2021-09-03T00:21:20.712283Z",
     "shell.execute_reply": "2021-09-03T00:21:20.712916Z"
    },
    "papermill": {
     "duration": 0.046494,
     "end_time": "2021-09-03T00:21:20.713067",
     "exception": false,
     "start_time": "2021-09-03T00:21:20.666573",
     "status": "completed"
    },
    "tags": []
   },
   "outputs": [],
   "source": [
    "# #hide\n",
    "# g = g[g.group.notna()]"
   ]
  },
  {
   "cell_type": "code",
   "execution_count": 40,
   "id": "determined-closing",
   "metadata": {
    "execution": {
     "iopub.execute_input": "2021-09-03T00:21:20.792926Z",
     "iopub.status.busy": "2021-09-03T00:21:20.792242Z",
     "iopub.status.idle": "2021-09-03T00:21:20.794428Z",
     "shell.execute_reply": "2021-09-03T00:21:20.795078Z"
    },
    "papermill": {
     "duration": 0.043714,
     "end_time": "2021-09-03T00:21:20.795222",
     "exception": false,
     "start_time": "2021-09-03T00:21:20.751508",
     "status": "completed"
    },
    "tags": []
   },
   "outputs": [],
   "source": [
    "# #hide\n",
    "# colors = dict(zip(\n",
    "#     [\"Oceania\", \"Europe\", \"Asia\", \"South America\", \"Middle East\", \"North America\", \"Africa\"],\n",
    "#     [\"#adb0ff\", \"#ffb3ff\", \"#90d595\", \"#e48381\", \"#aafbff\", \"#f7bb5f\", \"#eafb50\"]\n",
    "# ))\n",
    "# group_lk = g.set_index('name')['group'].to_dict()"
   ]
  },
  {
   "cell_type": "code",
   "execution_count": null,
   "id": "gross-drinking",
   "metadata": {
    "papermill": {
     "duration": 0.037986,
     "end_time": "2021-09-03T00:21:20.872016",
     "exception": false,
     "start_time": "2021-09-03T00:21:20.834030",
     "status": "completed"
    },
    "tags": []
   },
   "outputs": [],
   "source": []
  },
  {
   "cell_type": "code",
   "execution_count": 41,
   "id": "subject-macintosh",
   "metadata": {
    "execution": {
     "iopub.execute_input": "2021-09-03T00:21:20.955829Z",
     "iopub.status.busy": "2021-09-03T00:21:20.955116Z",
     "iopub.status.idle": "2021-09-03T00:21:20.957126Z",
     "shell.execute_reply": "2021-09-03T00:21:20.957675Z"
    },
    "papermill": {
     "duration": 0.045853,
     "end_time": "2021-09-03T00:21:20.957830",
     "exception": false,
     "start_time": "2021-09-03T00:21:20.911977",
     "status": "completed"
    },
    "tags": []
   },
   "outputs": [],
   "source": [
    "# #hide\n",
    "# fig, ax = plt.subplots(figsize=(15, 8))\n",
    "\n",
    "# def draw_barchart(current_day):\n",
    "#     dff = g[g['day'].eq(current_day)].sort_values(by='value', ascending=True).tail(10)\n",
    "#     ax.clear()\n",
    "#     ax.barh(dff['name'], dff['value'], color=[colors[group_lk[x]] for x in dff['name']])\n",
    "#     dx = dff['value'].max() / 200\n",
    "    \n",
    "#     for i, (value, name) in enumerate(zip(dff['value'], dff['name'])):\n",
    "#         ax.text(value-dx, i,     name,           size=14, weight=600, ha='right', va='bottom')\n",
    "#         ax.text(value-dx, i-.25, group_lk[name], size=10, color='#444444', ha='right', va='baseline')\n",
    "#         ax.text(value+dx, i,     f'{value:,.0f}',  size=14, ha='left',  va='center')\n",
    "#     ax.text(1, 0.4, current_day, transform=ax.transAxes, color='#777777', size=46, ha='right', weight=800)\n",
    "#     ax.text(0, 1.06, 'Population (thousands)', transform=ax.transAxes, size=12, color='#777777')\n",
    "#     ax.xaxis.set_major_formatter(ticker.StrMethodFormatter('{x:,.0f}'))\n",
    "#     ax.xaxis.set_ticks_position('top')\n",
    "#     ax.tick_params(axis='x', colors='#777777', labelsize=12)\n",
    "#     ax.set_yticks([])\n",
    "#     ax.margins(0, 0.01)\n",
    "#     ax.grid(which='major', axis='x', linestyle='-')\n",
    "#     ax.set_axisbelow(True)\n",
    "    \n",
    "#     ax.text(0, 1.15, 'Coronavirus',\n",
    "#             transform=ax.transAxes, size=24, weight=600, ha='left', va='top')\n",
    "# #     ax.text(1, 0, 'by @pratapvardhan; credit @jburnmurdoch', transform=ax.transAxes, color='#777777', ha='right',\n",
    "# #             bbox=dict(facecolor='white', alpha=0.8, edgecolor='white'))\n",
    "#     plt.box(False)"
   ]
  },
  {
   "cell_type": "code",
   "execution_count": 42,
   "id": "sexual-wages",
   "metadata": {
    "execution": {
     "iopub.execute_input": "2021-09-03T00:21:21.040561Z",
     "iopub.status.busy": "2021-09-03T00:21:21.039872Z",
     "iopub.status.idle": "2021-09-03T00:21:21.042399Z",
     "shell.execute_reply": "2021-09-03T00:21:21.041828Z"
    },
    "papermill": {
     "duration": 0.045919,
     "end_time": "2021-09-03T00:21:21.042536",
     "exception": false,
     "start_time": "2021-09-03T00:21:20.996617",
     "status": "completed"
    },
    "tags": []
   },
   "outputs": [],
   "source": [
    "# #hide_input\n",
    "# fig, ax = plt.subplots(figsize=(15, 8))\n",
    "# animator = animation.FuncAnimation(fig, draw_barchart, frames=range(g.day.values.min(), g.day.values.max()))\n",
    "# HTML(animator.to_jshtml())\n",
    "# # or use animator.to_html5_video() or animator.save() "
   ]
  },
  {
   "cell_type": "code",
   "execution_count": null,
   "id": "australian-container",
   "metadata": {
    "papermill": {
     "duration": 0.039278,
     "end_time": "2021-09-03T00:21:21.120019",
     "exception": false,
     "start_time": "2021-09-03T00:21:21.080741",
     "status": "completed"
    },
    "tags": []
   },
   "outputs": [],
   "source": []
  },
  {
   "cell_type": "code",
   "execution_count": null,
   "id": "mediterranean-pontiac",
   "metadata": {
    "papermill": {
     "duration": 0.038521,
     "end_time": "2021-09-03T00:21:21.196427",
     "exception": false,
     "start_time": "2021-09-03T00:21:21.157906",
     "status": "completed"
    },
    "tags": []
   },
   "outputs": [],
   "source": []
  },
  {
   "cell_type": "code",
   "execution_count": null,
   "id": "aging-legislature",
   "metadata": {
    "papermill": {
     "duration": 0.039415,
     "end_time": "2021-09-03T00:21:21.277215",
     "exception": false,
     "start_time": "2021-09-03T00:21:21.237800",
     "status": "completed"
    },
    "tags": []
   },
   "outputs": [],
   "source": []
  }
 ],
 "metadata": {
  "kernelspec": {
   "display_name": "Python 3",
   "language": "python",
   "name": "python3"
  },
  "language_info": {
   "codemirror_mode": {
    "name": "ipython",
    "version": 3
   },
   "file_extension": ".py",
   "mimetype": "text/x-python",
   "name": "python",
   "nbconvert_exporter": "python",
   "pygments_lexer": "ipython3",
   "version": "3.6.14"
  },
  "papermill": {
   "duration": 7.317186,
   "end_time": "2021-09-03T00:21:21.625582",
   "environment_variables": {},
   "exception": null,
   "input_path": "2020-03-21-covid19exp.ipynb",
   "output_path": "2020-03-21-covid19exp.ipynb",
   "parameters": {},
   "start_time": "2021-09-03T00:21:14.308396",
   "version": "2.0.0"
  }
 },
 "nbformat": 4,
 "nbformat_minor": 5
}