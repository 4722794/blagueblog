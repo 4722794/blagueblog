{
 "cells": [
  {
   "cell_type": "markdown",
   "id": "muslim-click",
   "metadata": {
    "papermill": {
     "duration": 0.034607,
     "end_time": "2022-05-03T00:39:35.636437",
     "exception": false,
     "start_time": "2022-05-03T00:39:35.601830",
     "status": "completed"
    },
    "tags": []
   },
   "source": [
    "# COVID-19 Case Race\n",
    "> A race chart to see rising cases around the world\n",
    "\n",
    "- author: Hargun Oberoi\n",
    "- image: images/covid-overview.png\n",
    "- hide: false\n",
    "- badges: false"
   ]
  },
  {
   "cell_type": "code",
   "execution_count": 1,
   "id": "proof-material",
   "metadata": {
    "execution": {
     "iopub.execute_input": "2022-05-03T00:39:35.707430Z",
     "iopub.status.busy": "2022-05-03T00:39:35.706907Z",
     "iopub.status.idle": "2022-05-03T00:39:36.039912Z",
     "shell.execute_reply": "2022-05-03T00:39:36.039360Z"
    },
    "papermill": {
     "duration": 0.371871,
     "end_time": "2022-05-03T00:39:36.040071",
     "exception": false,
     "start_time": "2022-05-03T00:39:35.668200",
     "status": "completed"
    },
    "tags": []
   },
   "outputs": [],
   "source": [
    "#hide\n",
    "import numpy as np\n",
    "import pandas as pd\n",
    "from jinja2 import Template\n",
    "from IPython.display import HTML"
   ]
  },
  {
   "cell_type": "code",
   "execution_count": 2,
   "id": "developed-terminology",
   "metadata": {
    "execution": {
     "iopub.execute_input": "2022-05-03T00:39:36.104696Z",
     "iopub.status.busy": "2022-05-03T00:39:36.104059Z",
     "iopub.status.idle": "2022-05-03T00:39:36.107185Z",
     "shell.execute_reply": "2022-05-03T00:39:36.106767Z"
    },
    "papermill": {
     "duration": 0.036829,
     "end_time": "2022-05-03T00:39:36.107293",
     "exception": false,
     "start_time": "2022-05-03T00:39:36.070464",
     "status": "completed"
    },
    "tags": []
   },
   "outputs": [],
   "source": [
    "#hide\n",
    "\n",
    "# FETCH\n",
    "base_url = 'https://raw.githubusercontent.com/pratapvardhan/notebooks/master/covid19/'\n",
    "paths = {\n",
    "    'mapping': base_url + 'mapping_countries.csv',\n",
    "    'overview': base_url + 'overview.tpl'\n",
    "}"
   ]
  },
  {
   "cell_type": "code",
   "execution_count": 3,
   "id": "dynamic-saver",
   "metadata": {
    "execution": {
     "iopub.execute_input": "2022-05-03T00:39:36.174443Z",
     "iopub.status.busy": "2022-05-03T00:39:36.173945Z",
     "iopub.status.idle": "2022-05-03T00:39:36.177009Z",
     "shell.execute_reply": "2022-05-03T00:39:36.176598Z"
    },
    "papermill": {
     "duration": 0.040608,
     "end_time": "2022-05-03T00:39:36.177113",
     "exception": false,
     "start_time": "2022-05-03T00:39:36.136505",
     "status": "completed"
    },
    "tags": []
   },
   "outputs": [
    {
     "data": {
      "text/plain": [
       "'https://raw.githubusercontent.com/pratapvardhan/notebooks/master/covid19/mapping_countries.csv'"
      ]
     },
     "execution_count": 3,
     "metadata": {},
     "output_type": "execute_result"
    }
   ],
   "source": [
    "#hide\n",
    "paths['mapping']"
   ]
  },
  {
   "cell_type": "code",
   "execution_count": 4,
   "id": "urban-software",
   "metadata": {
    "execution": {
     "iopub.execute_input": "2022-05-03T00:39:36.241259Z",
     "iopub.status.busy": "2022-05-03T00:39:36.240738Z",
     "iopub.status.idle": "2022-05-03T00:39:36.244081Z",
     "shell.execute_reply": "2022-05-03T00:39:36.244489Z"
    },
    "papermill": {
     "duration": 0.037833,
     "end_time": "2022-05-03T00:39:36.244611",
     "exception": false,
     "start_time": "2022-05-03T00:39:36.206778",
     "status": "completed"
    },
    "tags": []
   },
   "outputs": [],
   "source": [
    "#hide\n",
    "def get_mappings(url):\n",
    "    df = pd.read_csv(url)\n",
    "    return {\n",
    "        'df': df,\n",
    "        'replace.country': dict(df.dropna(subset=['Name']).set_index('Country')['Name']),\n",
    "        'map.continent': dict(df.set_index('Name')['Continent'])\n",
    "    }"
   ]
  },
  {
   "cell_type": "code",
   "execution_count": 5,
   "id": "intimate-machinery",
   "metadata": {
    "execution": {
     "iopub.execute_input": "2022-05-03T00:39:36.308471Z",
     "iopub.status.busy": "2022-05-03T00:39:36.307866Z",
     "iopub.status.idle": "2022-05-03T00:39:36.334972Z",
     "shell.execute_reply": "2022-05-03T00:39:36.334476Z"
    },
    "papermill": {
     "duration": 0.06095,
     "end_time": "2022-05-03T00:39:36.335089",
     "exception": false,
     "start_time": "2022-05-03T00:39:36.274139",
     "status": "completed"
    },
    "tags": []
   },
   "outputs": [],
   "source": [
    "#hide\n",
    "mapping = get_mappings(paths['mapping'])"
   ]
  },
  {
   "cell_type": "code",
   "execution_count": 6,
   "id": "certified-tactics",
   "metadata": {
    "execution": {
     "iopub.execute_input": "2022-05-03T00:39:36.400087Z",
     "iopub.status.busy": "2022-05-03T00:39:36.399503Z",
     "iopub.status.idle": "2022-05-03T00:39:36.400861Z",
     "shell.execute_reply": "2022-05-03T00:39:36.401392Z"
    },
    "papermill": {
     "duration": 0.036084,
     "end_time": "2022-05-03T00:39:36.401524",
     "exception": false,
     "start_time": "2022-05-03T00:39:36.365440",
     "status": "completed"
    },
    "tags": []
   },
   "outputs": [],
   "source": [
    "#hide\n",
    "def get_template(path):\n",
    "    from urllib.parse import urlparse\n",
    "    if bool(urlparse(path).netloc):\n",
    "        from urllib.request import urlopen\n",
    "        return urlopen(path).read().decode('utf8')\n",
    "    return open(path).read()"
   ]
  },
  {
   "cell_type": "code",
   "execution_count": 7,
   "id": "realistic-blast",
   "metadata": {
    "execution": {
     "iopub.execute_input": "2022-05-03T00:39:36.464793Z",
     "iopub.status.busy": "2022-05-03T00:39:36.464254Z",
     "iopub.status.idle": "2022-05-03T00:39:36.465961Z",
     "shell.execute_reply": "2022-05-03T00:39:36.466340Z"
    },
    "papermill": {
     "duration": 0.035388,
     "end_time": "2022-05-03T00:39:36.466451",
     "exception": false,
     "start_time": "2022-05-03T00:39:36.431063",
     "status": "completed"
    },
    "tags": []
   },
   "outputs": [],
   "source": [
    "#hide\n",
    "def get_frame(name):\n",
    "    url = (\n",
    "        'https://raw.githubusercontent.com/CSSEGISandData/COVID-19/master/csse_covid_19_data/'\n",
    "        f'csse_covid_19_time_series/time_series_covid19_{name}_global.csv')\n",
    "    df = pd.read_csv(url)\n",
    "    # rename countries\n",
    "    df['Country/Region'] = df['Country/Region'].replace(mapping['replace.country'])\n",
    "    return df"
   ]
  },
  {
   "cell_type": "code",
   "execution_count": 8,
   "id": "affiliated-characterization",
   "metadata": {
    "execution": {
     "iopub.execute_input": "2022-05-03T00:39:36.531292Z",
     "iopub.status.busy": "2022-05-03T00:39:36.530704Z",
     "iopub.status.idle": "2022-05-03T00:39:36.534590Z",
     "shell.execute_reply": "2022-05-03T00:39:36.534969Z"
    },
    "papermill": {
     "duration": 0.038928,
     "end_time": "2022-05-03T00:39:36.535083",
     "exception": false,
     "start_time": "2022-05-03T00:39:36.496155",
     "status": "completed"
    },
    "tags": []
   },
   "outputs": [],
   "source": [
    "#hide\n",
    "def get_dates(df):\n",
    "    dt_cols = df.columns[~df.columns.isin(['Province/State', 'Country/Region', 'Lat', 'Long'])]\n",
    "    LAST_DATE_I = -1\n",
    "    # sometimes last column may be empty, then go backwards\n",
    "    for i in range(-1, -len(dt_cols), -1):\n",
    "        if not df[dt_cols[i]].fillna(0).eq(0).all():\n",
    "            LAST_DATE_I = i\n",
    "            break\n",
    "    return LAST_DATE_I, dt_cols"
   ]
  },
  {
   "cell_type": "code",
   "execution_count": 9,
   "id": "recent-optimization",
   "metadata": {
    "execution": {
     "iopub.execute_input": "2022-05-03T00:39:36.598461Z",
     "iopub.status.busy": "2022-05-03T00:39:36.597908Z",
     "iopub.status.idle": "2022-05-03T00:39:36.922559Z",
     "shell.execute_reply": "2022-05-03T00:39:36.923054Z"
    },
    "papermill": {
     "duration": 0.358635,
     "end_time": "2022-05-03T00:39:36.923228",
     "exception": false,
     "start_time": "2022-05-03T00:39:36.564593",
     "status": "completed"
    },
    "tags": []
   },
   "outputs": [],
   "source": [
    "#hide\n",
    "COL_REGION = 'Country/Region'\n",
    "# Confirmed, Recovered, Deaths\n",
    "df = get_frame('confirmed')\n",
    "# dft_: timeseries, dfc_: today country agg\n",
    "dft_cases = df\n",
    "dft_deaths = get_frame('deaths')\n",
    "dft_recovered = get_frame('recovered')\n",
    "LAST_DATE_I, dt_cols = get_dates(df)"
   ]
  },
  {
   "cell_type": "code",
   "execution_count": 10,
   "id": "absolute-copper",
   "metadata": {
    "execution": {
     "iopub.execute_input": "2022-05-03T00:39:36.989333Z",
     "iopub.status.busy": "2022-05-03T00:39:36.988822Z",
     "iopub.status.idle": "2022-05-03T00:39:36.990912Z",
     "shell.execute_reply": "2022-05-03T00:39:36.991292Z"
    },
    "papermill": {
     "duration": 0.037178,
     "end_time": "2022-05-03T00:39:36.991421",
     "exception": false,
     "start_time": "2022-05-03T00:39:36.954243",
     "status": "completed"
    },
    "tags": []
   },
   "outputs": [],
   "source": [
    "#hide\n",
    "LAST_DATE_I, dt_cols = get_dates(df)\n",
    "dt_today =dt_cols[LAST_DATE_I]\n",
    "# dt_5day = dt_cols[LAST_DATE_I - 5]\n",
    "dt_yday = dt_cols[LAST_DATE_I - 1]"
   ]
  },
  {
   "cell_type": "code",
   "execution_count": 11,
   "id": "restricted-sheriff",
   "metadata": {
    "execution": {
     "iopub.execute_input": "2022-05-03T00:39:37.056326Z",
     "iopub.status.busy": "2022-05-03T00:39:37.055814Z",
     "iopub.status.idle": "2022-05-03T00:39:37.063585Z",
     "shell.execute_reply": "2022-05-03T00:39:37.063157Z"
    },
    "papermill": {
     "duration": 0.042682,
     "end_time": "2022-05-03T00:39:37.063689",
     "exception": false,
     "start_time": "2022-05-03T00:39:37.021007",
     "status": "completed"
    },
    "tags": []
   },
   "outputs": [],
   "source": [
    "#hide\n",
    "dfc_cases = dft_cases.groupby(COL_REGION)[dt_today].sum()\n",
    "dfc_deaths = dft_deaths.groupby(COL_REGION)[dt_today].sum()\n",
    "# dfp_cases = dft_cases.groupby(COL_REGION)[dt_5day].sum()\n",
    "# dfp_deaths = dft_deaths.groupby(COL_REGION)[dt_5day].sum()\n",
    "dfp_cases = dft_cases.groupby(COL_REGION)[dt_yday].sum()\n",
    "dfp_deaths = dft_deaths.groupby(COL_REGION)[dt_yday].sum()"
   ]
  },
  {
   "cell_type": "code",
   "execution_count": 12,
   "id": "deluxe-hepatitis",
   "metadata": {
    "execution": {
     "iopub.execute_input": "2022-05-03T00:39:37.127684Z",
     "iopub.status.busy": "2022-05-03T00:39:37.127180Z",
     "iopub.status.idle": "2022-05-03T00:39:37.131325Z",
     "shell.execute_reply": "2022-05-03T00:39:37.131757Z"
    },
    "papermill": {
     "duration": 0.03844,
     "end_time": "2022-05-03T00:39:37.131879",
     "exception": false,
     "start_time": "2022-05-03T00:39:37.093439",
     "status": "completed"
    },
    "tags": []
   },
   "outputs": [],
   "source": [
    "#hide\n",
    "df_table = (pd.DataFrame(dict(Cases = dfc_cases, Deaths = dfc_deaths, PCases = dfp_cases, PDeaths = dfp_deaths))\n",
    "            .sort_values(by = ['Cases','Deaths'], ascending = [False, False])\n",
    "            .reset_index())"
   ]
  },
  {
   "cell_type": "code",
   "execution_count": 13,
   "id": "educational-chancellor",
   "metadata": {
    "execution": {
     "iopub.execute_input": "2022-05-03T00:39:37.198979Z",
     "iopub.status.busy": "2022-05-03T00:39:37.198473Z",
     "iopub.status.idle": "2022-05-03T00:39:37.213984Z",
     "shell.execute_reply": "2022-05-03T00:39:37.214363Z"
    },
    "papermill": {
     "duration": 0.052894,
     "end_time": "2022-05-03T00:39:37.214483",
     "exception": false,
     "start_time": "2022-05-03T00:39:37.161589",
     "status": "completed"
    },
    "tags": []
   },
   "outputs": [
    {
     "data": {
      "text/html": [
       "<div>\n",
       "<style scoped>\n",
       "    .dataframe tbody tr th:only-of-type {\n",
       "        vertical-align: middle;\n",
       "    }\n",
       "\n",
       "    .dataframe tbody tr th {\n",
       "        vertical-align: top;\n",
       "    }\n",
       "\n",
       "    .dataframe thead th {\n",
       "        text-align: right;\n",
       "    }\n",
       "</style>\n",
       "<table border=\"1\" class=\"dataframe\">\n",
       "  <thead>\n",
       "    <tr style=\"text-align: right;\">\n",
       "      <th></th>\n",
       "      <th>Country/Region</th>\n",
       "      <th>Cases</th>\n",
       "      <th>Deaths</th>\n",
       "      <th>PCases</th>\n",
       "      <th>PDeaths</th>\n",
       "      <th>Cases (+)</th>\n",
       "      <th>Deaths (+)</th>\n",
       "      <th>Fatality Rate</th>\n",
       "      <th>Continent</th>\n",
       "    </tr>\n",
       "  </thead>\n",
       "  <tbody>\n",
       "    <tr>\n",
       "      <th>0</th>\n",
       "      <td>US</td>\n",
       "      <td>81362688</td>\n",
       "      <td>993733</td>\n",
       "      <td>81346535</td>\n",
       "      <td>993712</td>\n",
       "      <td>16153</td>\n",
       "      <td>21</td>\n",
       "      <td>1.22</td>\n",
       "      <td>North America</td>\n",
       "    </tr>\n",
       "    <tr>\n",
       "      <th>1</th>\n",
       "      <td>India</td>\n",
       "      <td>43082345</td>\n",
       "      <td>523869</td>\n",
       "      <td>43079188</td>\n",
       "      <td>523843</td>\n",
       "      <td>3157</td>\n",
       "      <td>26</td>\n",
       "      <td>1.22</td>\n",
       "      <td>Asia</td>\n",
       "    </tr>\n",
       "    <tr>\n",
       "      <th>2</th>\n",
       "      <td>Brazil</td>\n",
       "      <td>30454499</td>\n",
       "      <td>663752</td>\n",
       "      <td>30448236</td>\n",
       "      <td>663736</td>\n",
       "      <td>6263</td>\n",
       "      <td>16</td>\n",
       "      <td>2.18</td>\n",
       "      <td>South America</td>\n",
       "    </tr>\n",
       "    <tr>\n",
       "      <th>3</th>\n",
       "      <td>France</td>\n",
       "      <td>28872621</td>\n",
       "      <td>146999</td>\n",
       "      <td>28835895</td>\n",
       "      <td>146967</td>\n",
       "      <td>36726</td>\n",
       "      <td>32</td>\n",
       "      <td>0.51</td>\n",
       "      <td>Europe</td>\n",
       "    </tr>\n",
       "    <tr>\n",
       "      <th>4</th>\n",
       "      <td>Germany</td>\n",
       "      <td>24813817</td>\n",
       "      <td>135461</td>\n",
       "      <td>24809785</td>\n",
       "      <td>135461</td>\n",
       "      <td>4032</td>\n",
       "      <td>0</td>\n",
       "      <td>0.55</td>\n",
       "      <td>Europe</td>\n",
       "    </tr>\n",
       "  </tbody>\n",
       "</table>\n",
       "</div>"
      ],
      "text/plain": [
       "  Country/Region     Cases  Deaths    PCases  PDeaths  Cases (+)  Deaths (+)  \\\n",
       "0             US  81362688  993733  81346535   993712      16153          21   \n",
       "1          India  43082345  523869  43079188   523843       3157          26   \n",
       "2         Brazil  30454499  663752  30448236   663736       6263          16   \n",
       "3         France  28872621  146999  28835895   146967      36726          32   \n",
       "4        Germany  24813817  135461  24809785   135461       4032           0   \n",
       "\n",
       "   Fatality Rate      Continent  \n",
       "0           1.22  North America  \n",
       "1           1.22           Asia  \n",
       "2           2.18  South America  \n",
       "3           0.51         Europe  \n",
       "4           0.55         Europe  "
      ]
     },
     "execution_count": 13,
     "metadata": {},
     "output_type": "execute_result"
    }
   ],
   "source": [
    "#hide\n",
    "for c in 'Cases, Deaths'.split(', '):\n",
    "    df_table[f'{c} (+)'] = (df_table[c] - df_table[f'P{c}']).clip(0)\n",
    "    #Clip ça veut dire, les chiffres negatif sont interdit\n",
    "df_table['Fatality Rate'] = (100* df_table['Deaths']/ df_table['Cases']).round(2)\n",
    "df_table['Continent'] = df_table['Country/Region'].map(mapping['map.continent'])\n",
    "df_table.head(5)"
   ]
  },
  {
   "cell_type": "code",
   "execution_count": 14,
   "id": "aboriginal-bulgaria",
   "metadata": {
    "execution": {
     "iopub.execute_input": "2022-05-03T00:39:37.279330Z",
     "iopub.status.busy": "2022-05-03T00:39:37.278832Z",
     "iopub.status.idle": "2022-05-03T00:39:37.280927Z",
     "shell.execute_reply": "2022-05-03T00:39:37.281402Z"
    },
    "papermill": {
     "duration": 0.036874,
     "end_time": "2022-05-03T00:39:37.281518",
     "exception": false,
     "start_time": "2022-05-03T00:39:37.244644",
     "status": "completed"
    },
    "tags": []
   },
   "outputs": [],
   "source": [
    "#hide\n",
    "#delete problematic countries from table\n",
    "df_table = df_table[~df_table['Country/Region'].isin(['Cape Verde', 'Cruise Ship', 'Kosovo'])]"
   ]
  },
  {
   "cell_type": "code",
   "execution_count": 15,
   "id": "fantastic-effect",
   "metadata": {
    "execution": {
     "iopub.execute_input": "2022-05-03T00:39:37.347994Z",
     "iopub.status.busy": "2022-05-03T00:39:37.347493Z",
     "iopub.status.idle": "2022-05-03T00:39:37.364263Z",
     "shell.execute_reply": "2022-05-03T00:39:37.364666Z"
    },
    "papermill": {
     "duration": 0.053461,
     "end_time": "2022-05-03T00:39:37.364785",
     "exception": false,
     "start_time": "2022-05-03T00:39:37.311324",
     "status": "completed"
    },
    "tags": []
   },
   "outputs": [
    {
     "data": {
      "text/html": [
       "<div>\n",
       "<style scoped>\n",
       "    .dataframe tbody tr th:only-of-type {\n",
       "        vertical-align: middle;\n",
       "    }\n",
       "\n",
       "    .dataframe tbody tr th {\n",
       "        vertical-align: top;\n",
       "    }\n",
       "\n",
       "    .dataframe thead th {\n",
       "        text-align: right;\n",
       "    }\n",
       "</style>\n",
       "<table border=\"1\" class=\"dataframe\">\n",
       "  <thead>\n",
       "    <tr style=\"text-align: right;\">\n",
       "      <th></th>\n",
       "      <th>Country/Region</th>\n",
       "      <th>Cases</th>\n",
       "      <th>Deaths</th>\n",
       "      <th>PCases</th>\n",
       "      <th>PDeaths</th>\n",
       "      <th>Cases (+)</th>\n",
       "      <th>Deaths (+)</th>\n",
       "      <th>Fatality Rate</th>\n",
       "      <th>Continent</th>\n",
       "    </tr>\n",
       "  </thead>\n",
       "  <tbody>\n",
       "    <tr>\n",
       "      <th>0</th>\n",
       "      <td>US</td>\n",
       "      <td>81362688</td>\n",
       "      <td>993733</td>\n",
       "      <td>81346535</td>\n",
       "      <td>993712</td>\n",
       "      <td>16153</td>\n",
       "      <td>21</td>\n",
       "      <td>1.2</td>\n",
       "      <td>North America</td>\n",
       "    </tr>\n",
       "    <tr>\n",
       "      <th>1</th>\n",
       "      <td>India</td>\n",
       "      <td>43082345</td>\n",
       "      <td>523869</td>\n",
       "      <td>43079188</td>\n",
       "      <td>523843</td>\n",
       "      <td>3157</td>\n",
       "      <td>26</td>\n",
       "      <td>1.2</td>\n",
       "      <td>Asia</td>\n",
       "    </tr>\n",
       "    <tr>\n",
       "      <th>2</th>\n",
       "      <td>Brazil</td>\n",
       "      <td>30454499</td>\n",
       "      <td>663752</td>\n",
       "      <td>30448236</td>\n",
       "      <td>663736</td>\n",
       "      <td>6263</td>\n",
       "      <td>16</td>\n",
       "      <td>2.2</td>\n",
       "      <td>South America</td>\n",
       "    </tr>\n",
       "    <tr>\n",
       "      <th>3</th>\n",
       "      <td>France</td>\n",
       "      <td>28872621</td>\n",
       "      <td>146999</td>\n",
       "      <td>28835895</td>\n",
       "      <td>146967</td>\n",
       "      <td>36726</td>\n",
       "      <td>32</td>\n",
       "      <td>0.5</td>\n",
       "      <td>Europe</td>\n",
       "    </tr>\n",
       "    <tr>\n",
       "      <th>4</th>\n",
       "      <td>Germany</td>\n",
       "      <td>24813817</td>\n",
       "      <td>135461</td>\n",
       "      <td>24809785</td>\n",
       "      <td>135461</td>\n",
       "      <td>4032</td>\n",
       "      <td>0</td>\n",
       "      <td>0.5</td>\n",
       "      <td>Europe</td>\n",
       "    </tr>\n",
       "  </tbody>\n",
       "</table>\n",
       "</div>"
      ],
      "text/plain": [
       "  Country/Region     Cases  Deaths    PCases  PDeaths  Cases (+)  Deaths (+)  \\\n",
       "0             US  81362688  993733  81346535   993712      16153          21   \n",
       "1          India  43082345  523869  43079188   523843       3157          26   \n",
       "2         Brazil  30454499  663752  30448236   663736       6263          16   \n",
       "3         France  28872621  146999  28835895   146967      36726          32   \n",
       "4        Germany  24813817  135461  24809785   135461       4032           0   \n",
       "\n",
       "   Fatality Rate      Continent  \n",
       "0            1.2  North America  \n",
       "1            1.2           Asia  \n",
       "2            2.2  South America  \n",
       "3            0.5         Europe  \n",
       "4            0.5         Europe  "
      ]
     },
     "execution_count": 15,
     "metadata": {},
     "output_type": "execute_result"
    }
   ],
   "source": [
    "#hide\n",
    "df_table = (pd.DataFrame(dict(Cases=dfc_cases, Deaths=dfc_deaths, PCases=dfp_cases, PDeaths=dfp_deaths))\n",
    "             .sort_values(by=['Cases', 'Deaths'], ascending=[False, False])\n",
    "             .reset_index())\n",
    "df_table.rename(columns={'index': 'Country/Region'}, inplace=True)\n",
    "for c in 'Cases, Deaths'.split(', '):\n",
    "    df_table[f'{c} (+)'] = (df_table[c] - df_table[f'P{c}']).clip(0)  # DATA BUG\n",
    "df_table['Fatality Rate'] = (100 * df_table['Deaths'] / df_table['Cases']).round(1)\n",
    "df_table['Continent'] = df_table['Country/Region'].map(mapping['map.continent'])\n",
    "df_table.head(5)"
   ]
  },
  {
   "cell_type": "code",
   "execution_count": 16,
   "id": "fewer-occasion",
   "metadata": {
    "execution": {
     "iopub.execute_input": "2022-05-03T00:39:37.430321Z",
     "iopub.status.busy": "2022-05-03T00:39:37.429810Z",
     "iopub.status.idle": "2022-05-03T00:39:37.431978Z",
     "shell.execute_reply": "2022-05-03T00:39:37.431575Z"
    },
    "papermill": {
     "duration": 0.036831,
     "end_time": "2022-05-03T00:39:37.432078",
     "exception": false,
     "start_time": "2022-05-03T00:39:37.395247",
     "status": "completed"
    },
    "tags": []
   },
   "outputs": [],
   "source": [
    "#hide\n",
    "#delete problematic countries from table\n",
    "df_table = df_table[~df_table['Country/Region'].isin(['Cape Verde', 'Cruise Ship', 'Kosovo'])]"
   ]
  },
  {
   "cell_type": "code",
   "execution_count": 17,
   "id": "related-center",
   "metadata": {
    "execution": {
     "iopub.execute_input": "2022-05-03T00:39:37.500097Z",
     "iopub.status.busy": "2022-05-03T00:39:37.499591Z",
     "iopub.status.idle": "2022-05-03T00:39:37.511292Z",
     "shell.execute_reply": "2022-05-03T00:39:37.510892Z"
    },
    "papermill": {
     "duration": 0.048929,
     "end_time": "2022-05-03T00:39:37.511392",
     "exception": false,
     "start_time": "2022-05-03T00:39:37.462463",
     "status": "completed"
    },
    "tags": []
   },
   "outputs": [],
   "source": [
    "#hide\n",
    "metrics = [df_table.columns[index] for index in [1,2,5,6]]\n",
    "# s_china = df_table[df_table['Country/Region'].eq('China')][metrics].sum().add_prefix('China ')\n",
    "s_us = df_table[df_table['Country/Region'].eq('US')][metrics].sum().add_prefix('US ')\n",
    "s_eu = df_table[df_table['Continent'].eq('Europe')][metrics].sum().add_prefix('EU ')\n",
    "s_ind = df_table[df_table['Country/Region'].eq('India')][metrics].sum().add_prefix('India ')\n",
    "summary = {'updated': pd.to_datetime(dt_today), 'since': pd.to_datetime(dt_yday)}\n",
    "summary = {'updated': pd.to_datetime(dt_today), 'since': pd.to_datetime(dt_yday)}\n",
    "summary = {**summary, **df_table[metrics].sum(), **s_ind, **s_us, **s_eu}"
   ]
  },
  {
   "cell_type": "code",
   "execution_count": 18,
   "id": "engaging-syndrome",
   "metadata": {
    "execution": {
     "iopub.execute_input": "2022-05-03T00:39:37.577001Z",
     "iopub.status.busy": "2022-05-03T00:39:37.576497Z",
     "iopub.status.idle": "2022-05-03T00:39:37.594701Z",
     "shell.execute_reply": "2022-05-03T00:39:37.594238Z"
    },
    "papermill": {
     "duration": 0.052858,
     "end_time": "2022-05-03T00:39:37.594819",
     "exception": false,
     "start_time": "2022-05-03T00:39:37.541961",
     "status": "completed"
    },
    "tags": []
   },
   "outputs": [],
   "source": [
    "#hide\n",
    "dft_ct_new_cases = dft_cases.groupby(COL_REGION)[dt_cols].sum().diff(axis=1).fillna(0).astype(int)"
   ]
  },
  {
   "cell_type": "code",
   "execution_count": 19,
   "id": "neutral-assignment",
   "metadata": {
    "execution": {
     "iopub.execute_input": "2022-05-03T00:39:37.661897Z",
     "iopub.status.busy": "2022-05-03T00:39:37.661362Z",
     "iopub.status.idle": "2022-05-03T00:39:37.663414Z",
     "shell.execute_reply": "2022-05-03T00:39:37.663008Z"
    },
    "papermill": {
     "duration": 0.037264,
     "end_time": "2022-05-03T00:39:37.663518",
     "exception": false,
     "start_time": "2022-05-03T00:39:37.626254",
     "status": "completed"
    },
    "tags": []
   },
   "outputs": [],
   "source": [
    "#hide\n",
    "everydaycases = dft_ct_new_cases.cumsum(axis=1)"
   ]
  },
  {
   "cell_type": "code",
   "execution_count": 20,
   "id": "parliamentary-calgary",
   "metadata": {
    "execution": {
     "iopub.execute_input": "2022-05-03T00:39:37.728596Z",
     "iopub.status.busy": "2022-05-03T00:39:37.728050Z",
     "iopub.status.idle": "2022-05-03T00:39:38.317384Z",
     "shell.execute_reply": "2022-05-03T00:39:38.316842Z"
    },
    "papermill": {
     "duration": 0.623464,
     "end_time": "2022-05-03T00:39:38.317532",
     "exception": false,
     "start_time": "2022-05-03T00:39:37.694068",
     "status": "completed"
    },
    "tags": []
   },
   "outputs": [],
   "source": [
    "#hide\n",
    "import pandas as pd\n",
    "import matplotlib.pyplot as plt\n",
    "import matplotlib.ticker as ticker\n",
    "import matplotlib.animation as animation\n",
    "from IPython.display import HTML"
   ]
  },
  {
   "cell_type": "code",
   "execution_count": 21,
   "id": "lasting-extraction",
   "metadata": {
    "execution": {
     "iopub.execute_input": "2022-05-03T00:39:38.388646Z",
     "iopub.status.busy": "2022-05-03T00:39:38.388023Z",
     "iopub.status.idle": "2022-05-03T00:39:38.395292Z",
     "shell.execute_reply": "2022-05-03T00:39:38.394846Z"
    },
    "papermill": {
     "duration": 0.043975,
     "end_time": "2022-05-03T00:39:38.395401",
     "exception": false,
     "start_time": "2022-05-03T00:39:38.351426",
     "status": "completed"
    },
    "tags": []
   },
   "outputs": [],
   "source": [
    "#hide\n",
    "t = everydaycases.stack()"
   ]
  },
  {
   "cell_type": "code",
   "execution_count": 22,
   "id": "premier-sleeve",
   "metadata": {
    "execution": {
     "iopub.execute_input": "2022-05-03T00:39:38.460617Z",
     "iopub.status.busy": "2022-05-03T00:39:38.460083Z",
     "iopub.status.idle": "2022-05-03T00:39:38.470767Z",
     "shell.execute_reply": "2022-05-03T00:39:38.470363Z"
    },
    "papermill": {
     "duration": 0.044698,
     "end_time": "2022-05-03T00:39:38.470876",
     "exception": false,
     "start_time": "2022-05-03T00:39:38.426178",
     "status": "completed"
    },
    "tags": []
   },
   "outputs": [],
   "source": [
    "#hide\n",
    "g = t.reset_index(['Country/Region'])"
   ]
  },
  {
   "cell_type": "code",
   "execution_count": 23,
   "id": "distributed-pittsburgh",
   "metadata": {
    "execution": {
     "iopub.execute_input": "2022-05-03T00:39:38.535258Z",
     "iopub.status.busy": "2022-05-03T00:39:38.534680Z",
     "iopub.status.idle": "2022-05-03T00:39:38.538383Z",
     "shell.execute_reply": "2022-05-03T00:39:38.538821Z"
    },
    "papermill": {
     "duration": 0.037667,
     "end_time": "2022-05-03T00:39:38.538953",
     "exception": false,
     "start_time": "2022-05-03T00:39:38.501286",
     "status": "completed"
    },
    "tags": []
   },
   "outputs": [],
   "source": [
    "#hide\n",
    "g.index.name = 'date'"
   ]
  },
  {
   "cell_type": "code",
   "execution_count": 24,
   "id": "naked-donor",
   "metadata": {
    "execution": {
     "iopub.execute_input": "2022-05-03T00:39:38.605147Z",
     "iopub.status.busy": "2022-05-03T00:39:38.603338Z",
     "iopub.status.idle": "2022-05-03T00:39:38.605724Z",
     "shell.execute_reply": "2022-05-03T00:39:38.606122Z"
    },
    "papermill": {
     "duration": 0.036163,
     "end_time": "2022-05-03T00:39:38.606236",
     "exception": false,
     "start_time": "2022-05-03T00:39:38.570073",
     "status": "completed"
    },
    "tags": []
   },
   "outputs": [],
   "source": [
    "# #hide\n",
    "# g = g.reset_index(['date'])"
   ]
  },
  {
   "cell_type": "code",
   "execution_count": 25,
   "id": "incomplete-mustang",
   "metadata": {
    "execution": {
     "iopub.execute_input": "2022-05-03T00:39:38.670480Z",
     "iopub.status.busy": "2022-05-03T00:39:38.669900Z",
     "iopub.status.idle": "2022-05-03T00:39:38.673268Z",
     "shell.execute_reply": "2022-05-03T00:39:38.673740Z"
    },
    "papermill": {
     "duration": 0.037055,
     "end_time": "2022-05-03T00:39:38.673880",
     "exception": false,
     "start_time": "2022-05-03T00:39:38.636825",
     "status": "completed"
    },
    "tags": []
   },
   "outputs": [],
   "source": [
    "#hide\n",
    "# g.head()"
   ]
  },
  {
   "cell_type": "code",
   "execution_count": 26,
   "id": "specific-kruger",
   "metadata": {
    "execution": {
     "iopub.execute_input": "2022-05-03T00:39:38.739357Z",
     "iopub.status.busy": "2022-05-03T00:39:38.738122Z",
     "iopub.status.idle": "2022-05-03T00:39:38.740000Z",
     "shell.execute_reply": "2022-05-03T00:39:38.740477Z"
    },
    "papermill": {
     "duration": 0.035655,
     "end_time": "2022-05-03T00:39:38.740610",
     "exception": false,
     "start_time": "2022-05-03T00:39:38.704955",
     "status": "completed"
    },
    "tags": []
   },
   "outputs": [],
   "source": [
    "#hide\n",
    "# g.columns = ['date','country','cases']"
   ]
  },
  {
   "cell_type": "code",
   "execution_count": 27,
   "id": "tender-conversion",
   "metadata": {
    "execution": {
     "iopub.execute_input": "2022-05-03T00:39:38.805839Z",
     "iopub.status.busy": "2022-05-03T00:39:38.805245Z",
     "iopub.status.idle": "2022-05-03T00:39:38.808447Z",
     "shell.execute_reply": "2022-05-03T00:39:38.808838Z"
    },
    "papermill": {
     "duration": 0.037227,
     "end_time": "2022-05-03T00:39:38.808969",
     "exception": false,
     "start_time": "2022-05-03T00:39:38.771742",
     "status": "completed"
    },
    "tags": []
   },
   "outputs": [],
   "source": [
    "#hide\n",
    "# g['continent'] = g.country"
   ]
  },
  {
   "cell_type": "code",
   "execution_count": 28,
   "id": "substantial-wilderness",
   "metadata": {
    "execution": {
     "iopub.execute_input": "2022-05-03T00:39:38.875496Z",
     "iopub.status.busy": "2022-05-03T00:39:38.874147Z",
     "iopub.status.idle": "2022-05-03T00:39:38.876149Z",
     "shell.execute_reply": "2022-05-03T00:39:38.876635Z"
    },
    "papermill": {
     "duration": 0.03697,
     "end_time": "2022-05-03T00:39:38.876783",
     "exception": false,
     "start_time": "2022-05-03T00:39:38.839813",
     "status": "completed"
    },
    "tags": []
   },
   "outputs": [],
   "source": [
    "#hide\n",
    "# cols = list(g.columns.values)"
   ]
  },
  {
   "cell_type": "code",
   "execution_count": 29,
   "id": "solved-farming",
   "metadata": {
    "execution": {
     "iopub.execute_input": "2022-05-03T00:39:38.942446Z",
     "iopub.status.busy": "2022-05-03T00:39:38.941844Z",
     "iopub.status.idle": "2022-05-03T00:39:38.943244Z",
     "shell.execute_reply": "2022-05-03T00:39:38.943735Z"
    },
    "papermill": {
     "duration": 0.036317,
     "end_time": "2022-05-03T00:39:38.943873",
     "exception": false,
     "start_time": "2022-05-03T00:39:38.907556",
     "status": "completed"
    },
    "tags": []
   },
   "outputs": [],
   "source": [
    "#hide\n",
    "# cols.insert(0, cols.pop())"
   ]
  },
  {
   "cell_type": "code",
   "execution_count": 30,
   "id": "executed-adoption",
   "metadata": {
    "execution": {
     "iopub.execute_input": "2022-05-03T00:39:39.009539Z",
     "iopub.status.busy": "2022-05-03T00:39:39.008990Z",
     "iopub.status.idle": "2022-05-03T00:39:39.011032Z",
     "shell.execute_reply": "2022-05-03T00:39:39.010532Z"
    },
    "papermill": {
     "duration": 0.035817,
     "end_time": "2022-05-03T00:39:39.011137",
     "exception": false,
     "start_time": "2022-05-03T00:39:38.975320",
     "status": "completed"
    },
    "tags": []
   },
   "outputs": [],
   "source": [
    "#hide\n",
    "# g = g[cols]"
   ]
  },
  {
   "cell_type": "code",
   "execution_count": 31,
   "id": "subject-dublin",
   "metadata": {
    "execution": {
     "iopub.execute_input": "2022-05-03T00:39:39.076219Z",
     "iopub.status.busy": "2022-05-03T00:39:39.075616Z",
     "iopub.status.idle": "2022-05-03T00:39:39.077184Z",
     "shell.execute_reply": "2022-05-03T00:39:39.077624Z"
    },
    "papermill": {
     "duration": 0.036121,
     "end_time": "2022-05-03T00:39:39.077770",
     "exception": false,
     "start_time": "2022-05-03T00:39:39.041649",
     "status": "completed"
    },
    "tags": []
   },
   "outputs": [],
   "source": [
    "#hide\n",
    "# g['continent'] = g['continent'].map(mapping['map.continent'])"
   ]
  },
  {
   "cell_type": "code",
   "execution_count": 32,
   "id": "freelance-scout",
   "metadata": {
    "execution": {
     "iopub.execute_input": "2022-05-03T00:39:39.142496Z",
     "iopub.status.busy": "2022-05-03T00:39:39.141995Z",
     "iopub.status.idle": "2022-05-03T00:39:39.144176Z",
     "shell.execute_reply": "2022-05-03T00:39:39.143674Z"
    },
    "papermill": {
     "duration": 0.035455,
     "end_time": "2022-05-03T00:39:39.144280",
     "exception": false,
     "start_time": "2022-05-03T00:39:39.108825",
     "status": "completed"
    },
    "tags": []
   },
   "outputs": [],
   "source": [
    "#hide\n",
    "# g.head()"
   ]
  },
  {
   "cell_type": "code",
   "execution_count": 33,
   "id": "limited-engine",
   "metadata": {
    "execution": {
     "iopub.execute_input": "2022-05-03T00:39:39.208686Z",
     "iopub.status.busy": "2022-05-03T00:39:39.208066Z",
     "iopub.status.idle": "2022-05-03T00:39:39.209755Z",
     "shell.execute_reply": "2022-05-03T00:39:39.210191Z"
    },
    "papermill": {
     "duration": 0.035565,
     "end_time": "2022-05-03T00:39:39.210330",
     "exception": false,
     "start_time": "2022-05-03T00:39:39.174765",
     "status": "completed"
    },
    "tags": []
   },
   "outputs": [],
   "source": [
    "# hide\n",
    "# g['date'] = g['date'].astype('datetime64[ns]')"
   ]
  },
  {
   "cell_type": "code",
   "execution_count": 34,
   "id": "sophisticated-supervisor",
   "metadata": {
    "execution": {
     "iopub.execute_input": "2022-05-03T00:39:39.275286Z",
     "iopub.status.busy": "2022-05-03T00:39:39.274762Z",
     "iopub.status.idle": "2022-05-03T00:39:39.277790Z",
     "shell.execute_reply": "2022-05-03T00:39:39.278170Z"
    },
    "papermill": {
     "duration": 0.037033,
     "end_time": "2022-05-03T00:39:39.278293",
     "exception": false,
     "start_time": "2022-05-03T00:39:39.241260",
     "status": "completed"
    },
    "tags": []
   },
   "outputs": [],
   "source": [
    "#hide\n",
    "# g['date'] = g.date.dt.dayofyear"
   ]
  },
  {
   "cell_type": "code",
   "execution_count": 35,
   "id": "inside-dubai",
   "metadata": {
    "execution": {
     "iopub.execute_input": "2022-05-03T00:39:39.342716Z",
     "iopub.status.busy": "2022-05-03T00:39:39.342131Z",
     "iopub.status.idle": "2022-05-03T00:39:39.344276Z",
     "shell.execute_reply": "2022-05-03T00:39:39.343784Z"
    },
    "papermill": {
     "duration": 0.035642,
     "end_time": "2022-05-03T00:39:39.344417",
     "exception": false,
     "start_time": "2022-05-03T00:39:39.308775",
     "status": "completed"
    },
    "tags": []
   },
   "outputs": [],
   "source": [
    "#hide\n",
    "# g = g.rename(columns= {'continent':'group','country':'name','cases':'value'})"
   ]
  },
  {
   "cell_type": "code",
   "execution_count": 36,
   "id": "fleet-motorcycle",
   "metadata": {
    "execution": {
     "iopub.execute_input": "2022-05-03T00:39:39.408860Z",
     "iopub.status.busy": "2022-05-03T00:39:39.408250Z",
     "iopub.status.idle": "2022-05-03T00:39:39.412471Z",
     "shell.execute_reply": "2022-05-03T00:39:39.411974Z"
    },
    "papermill": {
     "duration": 0.037498,
     "end_time": "2022-05-03T00:39:39.412593",
     "exception": false,
     "start_time": "2022-05-03T00:39:39.375095",
     "status": "completed"
    },
    "tags": []
   },
   "outputs": [],
   "source": [
    "#hide\n",
    "# cols = ['name','group','day','value']"
   ]
  },
  {
   "cell_type": "code",
   "execution_count": 37,
   "id": "continued-sleeping",
   "metadata": {
    "execution": {
     "iopub.execute_input": "2022-05-03T00:39:39.477536Z",
     "iopub.status.busy": "2022-05-03T00:39:39.476960Z",
     "iopub.status.idle": "2022-05-03T00:39:39.478537Z",
     "shell.execute_reply": "2022-05-03T00:39:39.479084Z"
    },
    "papermill": {
     "duration": 0.035296,
     "end_time": "2022-05-03T00:39:39.479212",
     "exception": false,
     "start_time": "2022-05-03T00:39:39.443916",
     "status": "completed"
    },
    "tags": []
   },
   "outputs": [],
   "source": [
    "#hide\n",
    "# g.rename(columns= {'date':'day'},inplace = True)"
   ]
  },
  {
   "cell_type": "code",
   "execution_count": 38,
   "id": "major-fight",
   "metadata": {
    "execution": {
     "iopub.execute_input": "2022-05-03T00:39:39.544612Z",
     "iopub.status.busy": "2022-05-03T00:39:39.544002Z",
     "iopub.status.idle": "2022-05-03T00:39:39.546201Z",
     "shell.execute_reply": "2022-05-03T00:39:39.545716Z"
    },
    "papermill": {
     "duration": 0.035574,
     "end_time": "2022-05-03T00:39:39.546312",
     "exception": false,
     "start_time": "2022-05-03T00:39:39.510738",
     "status": "completed"
    },
    "tags": []
   },
   "outputs": [],
   "source": [
    "#hide\n",
    "# g = g[cols]"
   ]
  },
  {
   "cell_type": "code",
   "execution_count": 39,
   "id": "structured-mobile",
   "metadata": {
    "execution": {
     "iopub.execute_input": "2022-05-03T00:39:39.610770Z",
     "iopub.status.busy": "2022-05-03T00:39:39.610188Z",
     "iopub.status.idle": "2022-05-03T00:39:39.613342Z",
     "shell.execute_reply": "2022-05-03T00:39:39.613778Z"
    },
    "papermill": {
     "duration": 0.037028,
     "end_time": "2022-05-03T00:39:39.613912",
     "exception": false,
     "start_time": "2022-05-03T00:39:39.576884",
     "status": "completed"
    },
    "tags": []
   },
   "outputs": [],
   "source": [
    "# #hide\n",
    "# g = g[g.group.notna()]"
   ]
  },
  {
   "cell_type": "code",
   "execution_count": 40,
   "id": "determined-closing",
   "metadata": {
    "execution": {
     "iopub.execute_input": "2022-05-03T00:39:39.678742Z",
     "iopub.status.busy": "2022-05-03T00:39:39.678137Z",
     "iopub.status.idle": "2022-05-03T00:39:39.681437Z",
     "shell.execute_reply": "2022-05-03T00:39:39.681819Z"
    },
    "papermill": {
     "duration": 0.036819,
     "end_time": "2022-05-03T00:39:39.681935",
     "exception": false,
     "start_time": "2022-05-03T00:39:39.645116",
     "status": "completed"
    },
    "tags": []
   },
   "outputs": [],
   "source": [
    "# #hide\n",
    "# colors = dict(zip(\n",
    "#     [\"Oceania\", \"Europe\", \"Asia\", \"South America\", \"Middle East\", \"North America\", \"Africa\"],\n",
    "#     [\"#adb0ff\", \"#ffb3ff\", \"#90d595\", \"#e48381\", \"#aafbff\", \"#f7bb5f\", \"#eafb50\"]\n",
    "# ))\n",
    "# group_lk = g.set_index('name')['group'].to_dict()"
   ]
  },
  {
   "cell_type": "code",
   "execution_count": null,
   "id": "gross-drinking",
   "metadata": {
    "papermill": {
     "duration": 0.030428,
     "end_time": "2022-05-03T00:39:39.742648",
     "exception": false,
     "start_time": "2022-05-03T00:39:39.712220",
     "status": "completed"
    },
    "tags": []
   },
   "outputs": [],
   "source": []
  },
  {
   "cell_type": "code",
   "execution_count": 41,
   "id": "subject-macintosh",
   "metadata": {
    "execution": {
     "iopub.execute_input": "2022-05-03T00:39:39.808041Z",
     "iopub.status.busy": "2022-05-03T00:39:39.807520Z",
     "iopub.status.idle": "2022-05-03T00:39:39.809967Z",
     "shell.execute_reply": "2022-05-03T00:39:39.809555Z"
    },
    "papermill": {
     "duration": 0.036817,
     "end_time": "2022-05-03T00:39:39.810076",
     "exception": false,
     "start_time": "2022-05-03T00:39:39.773259",
     "status": "completed"
    },
    "tags": []
   },
   "outputs": [],
   "source": [
    "# #hide\n",
    "# fig, ax = plt.subplots(figsize=(15, 8))\n",
    "\n",
    "# def draw_barchart(current_day):\n",
    "#     dff = g[g['day'].eq(current_day)].sort_values(by='value', ascending=True).tail(10)\n",
    "#     ax.clear()\n",
    "#     ax.barh(dff['name'], dff['value'], color=[colors[group_lk[x]] for x in dff['name']])\n",
    "#     dx = dff['value'].max() / 200\n",
    "    \n",
    "#     for i, (value, name) in enumerate(zip(dff['value'], dff['name'])):\n",
    "#         ax.text(value-dx, i,     name,           size=14, weight=600, ha='right', va='bottom')\n",
    "#         ax.text(value-dx, i-.25, group_lk[name], size=10, color='#444444', ha='right', va='baseline')\n",
    "#         ax.text(value+dx, i,     f'{value:,.0f}',  size=14, ha='left',  va='center')\n",
    "#     ax.text(1, 0.4, current_day, transform=ax.transAxes, color='#777777', size=46, ha='right', weight=800)\n",
    "#     ax.text(0, 1.06, 'Population (thousands)', transform=ax.transAxes, size=12, color='#777777')\n",
    "#     ax.xaxis.set_major_formatter(ticker.StrMethodFormatter('{x:,.0f}'))\n",
    "#     ax.xaxis.set_ticks_position('top')\n",
    "#     ax.tick_params(axis='x', colors='#777777', labelsize=12)\n",
    "#     ax.set_yticks([])\n",
    "#     ax.margins(0, 0.01)\n",
    "#     ax.grid(which='major', axis='x', linestyle='-')\n",
    "#     ax.set_axisbelow(True)\n",
    "    \n",
    "#     ax.text(0, 1.15, 'Coronavirus',\n",
    "#             transform=ax.transAxes, size=24, weight=600, ha='left', va='top')\n",
    "# #     ax.text(1, 0, 'by @pratapvardhan; credit @jburnmurdoch', transform=ax.transAxes, color='#777777', ha='right',\n",
    "# #             bbox=dict(facecolor='white', alpha=0.8, edgecolor='white'))\n",
    "#     plt.box(False)"
   ]
  },
  {
   "cell_type": "code",
   "execution_count": 42,
   "id": "sexual-wages",
   "metadata": {
    "execution": {
     "iopub.execute_input": "2022-05-03T00:39:39.874816Z",
     "iopub.status.busy": "2022-05-03T00:39:39.874287Z",
     "iopub.status.idle": "2022-05-03T00:39:39.876086Z",
     "shell.execute_reply": "2022-05-03T00:39:39.875579Z"
    },
    "papermill": {
     "duration": 0.035529,
     "end_time": "2022-05-03T00:39:39.876194",
     "exception": false,
     "start_time": "2022-05-03T00:39:39.840665",
     "status": "completed"
    },
    "tags": []
   },
   "outputs": [],
   "source": [
    "# #hide_input\n",
    "# fig, ax = plt.subplots(figsize=(15, 8))\n",
    "# animator = animation.FuncAnimation(fig, draw_barchart, frames=range(g.day.values.min(), g.day.values.max()))\n",
    "# HTML(animator.to_jshtml())\n",
    "# # or use animator.to_html5_video() or animator.save() "
   ]
  },
  {
   "cell_type": "code",
   "execution_count": null,
   "id": "australian-container",
   "metadata": {
    "papermill": {
     "duration": 0.030664,
     "end_time": "2022-05-03T00:39:39.937358",
     "exception": false,
     "start_time": "2022-05-03T00:39:39.906694",
     "status": "completed"
    },
    "tags": []
   },
   "outputs": [],
   "source": []
  },
  {
   "cell_type": "code",
   "execution_count": null,
   "id": "mediterranean-pontiac",
   "metadata": {
    "papermill": {
     "duration": 0.033927,
     "end_time": "2022-05-03T00:39:40.001784",
     "exception": false,
     "start_time": "2022-05-03T00:39:39.967857",
     "status": "completed"
    },
    "tags": []
   },
   "outputs": [],
   "source": []
  },
  {
   "cell_type": "code",
   "execution_count": null,
   "id": "aging-legislature",
   "metadata": {
    "papermill": {
     "duration": 0.03041,
     "end_time": "2022-05-03T00:39:40.062591",
     "exception": false,
     "start_time": "2022-05-03T00:39:40.032181",
     "status": "completed"
    },
    "tags": []
   },
   "outputs": [],
   "source": []
  }
 ],
 "metadata": {
  "kernelspec": {
   "display_name": "Python 3",
   "language": "python",
   "name": "python3"
  },
  "language_info": {
   "codemirror_mode": {
    "name": "ipython",
    "version": 3
   },
   "file_extension": ".py",
   "mimetype": "text/x-python",
   "name": "python",
   "nbconvert_exporter": "python",
   "pygments_lexer": "ipython3",
   "version": "3.6.15"
  },
  "papermill": {
   "duration": 5.731387,
   "end_time": "2022-05-03T00:39:40.411260",
   "environment_variables": {},
   "exception": null,
   "input_path": "2020-03-21-covid19exp.ipynb",
   "output_path": "2020-03-21-covid19exp.ipynb",
   "parameters": {},
   "start_time": "2022-05-03T00:39:34.679873",
   "version": "2.0.0"
  }
 },
 "nbformat": 4,
 "nbformat_minor": 5
}