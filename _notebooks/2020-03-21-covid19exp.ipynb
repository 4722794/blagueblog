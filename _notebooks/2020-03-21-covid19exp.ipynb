{
 "cells": [
  {
   "cell_type": "markdown",
   "id": "muslim-click",
   "metadata": {
    "papermill": {
     "duration": 0.046701,
     "end_time": "2022-02-11T00:27:46.462035",
     "exception": false,
     "start_time": "2022-02-11T00:27:46.415334",
     "status": "completed"
    },
    "tags": []
   },
   "source": [
    "# COVID-19 Case Race\n",
    "> A race chart to see rising cases around the world\n",
    "\n",
    "- author: Hargun Oberoi\n",
    "- image: images/covid-overview.png\n",
    "- hide: false\n",
    "- badges: false"
   ]
  },
  {
   "cell_type": "code",
   "execution_count": 1,
   "id": "proof-material",
   "metadata": {
    "execution": {
     "iopub.execute_input": "2022-02-11T00:27:46.559886Z",
     "iopub.status.busy": "2022-02-11T00:27:46.559256Z",
     "iopub.status.idle": "2022-02-11T00:27:46.981500Z",
     "shell.execute_reply": "2022-02-11T00:27:46.979950Z"
    },
    "papermill": {
     "duration": 0.475393,
     "end_time": "2022-02-11T00:27:46.981680",
     "exception": false,
     "start_time": "2022-02-11T00:27:46.506287",
     "status": "completed"
    },
    "tags": []
   },
   "outputs": [],
   "source": [
    "#hide\n",
    "import numpy as np\n",
    "import pandas as pd\n",
    "from jinja2 import Template\n",
    "from IPython.display import HTML"
   ]
  },
  {
   "cell_type": "code",
   "execution_count": 2,
   "id": "developed-terminology",
   "metadata": {
    "execution": {
     "iopub.execute_input": "2022-02-11T00:27:47.071594Z",
     "iopub.status.busy": "2022-02-11T00:27:47.070915Z",
     "iopub.status.idle": "2022-02-11T00:27:47.073570Z",
     "shell.execute_reply": "2022-02-11T00:27:47.072862Z"
    },
    "papermill": {
     "duration": 0.051375,
     "end_time": "2022-02-11T00:27:47.073703",
     "exception": false,
     "start_time": "2022-02-11T00:27:47.022328",
     "status": "completed"
    },
    "tags": []
   },
   "outputs": [],
   "source": [
    "#hide\n",
    "\n",
    "# FETCH\n",
    "base_url = 'https://raw.githubusercontent.com/pratapvardhan/notebooks/master/covid19/'\n",
    "paths = {\n",
    "    'mapping': base_url + 'mapping_countries.csv',\n",
    "    'overview': base_url + 'overview.tpl'\n",
    "}"
   ]
  },
  {
   "cell_type": "code",
   "execution_count": 3,
   "id": "dynamic-saver",
   "metadata": {
    "execution": {
     "iopub.execute_input": "2022-02-11T00:27:47.175217Z",
     "iopub.status.busy": "2022-02-11T00:27:47.174460Z",
     "iopub.status.idle": "2022-02-11T00:27:47.178466Z",
     "shell.execute_reply": "2022-02-11T00:27:47.177734Z"
    },
    "papermill": {
     "duration": 0.063081,
     "end_time": "2022-02-11T00:27:47.179140",
     "exception": false,
     "start_time": "2022-02-11T00:27:47.116059",
     "status": "completed"
    },
    "tags": []
   },
   "outputs": [
    {
     "data": {
      "text/plain": [
       "'https://raw.githubusercontent.com/pratapvardhan/notebooks/master/covid19/mapping_countries.csv'"
      ]
     },
     "execution_count": 3,
     "metadata": {},
     "output_type": "execute_result"
    }
   ],
   "source": [
    "#hide\n",
    "paths['mapping']"
   ]
  },
  {
   "cell_type": "code",
   "execution_count": 4,
   "id": "urban-software",
   "metadata": {
    "execution": {
     "iopub.execute_input": "2022-02-11T00:27:47.264947Z",
     "iopub.status.busy": "2022-02-11T00:27:47.264188Z",
     "iopub.status.idle": "2022-02-11T00:27:47.267063Z",
     "shell.execute_reply": "2022-02-11T00:27:47.266427Z"
    },
    "papermill": {
     "duration": 0.047716,
     "end_time": "2022-02-11T00:27:47.267196",
     "exception": false,
     "start_time": "2022-02-11T00:27:47.219480",
     "status": "completed"
    },
    "tags": []
   },
   "outputs": [],
   "source": [
    "#hide\n",
    "def get_mappings(url):\n",
    "    df = pd.read_csv(url)\n",
    "    return {\n",
    "        'df': df,\n",
    "        'replace.country': dict(df.dropna(subset=['Name']).set_index('Country')['Name']),\n",
    "        'map.continent': dict(df.set_index('Name')['Continent'])\n",
    "    }"
   ]
  },
  {
   "cell_type": "code",
   "execution_count": 5,
   "id": "intimate-machinery",
   "metadata": {
    "execution": {
     "iopub.execute_input": "2022-02-11T00:27:47.355958Z",
     "iopub.status.busy": "2022-02-11T00:27:47.355271Z",
     "iopub.status.idle": "2022-02-11T00:27:47.394675Z",
     "shell.execute_reply": "2022-02-11T00:27:47.393994Z"
    },
    "papermill": {
     "duration": 0.084824,
     "end_time": "2022-02-11T00:27:47.394863",
     "exception": false,
     "start_time": "2022-02-11T00:27:47.310039",
     "status": "completed"
    },
    "tags": []
   },
   "outputs": [],
   "source": [
    "#hide\n",
    "mapping = get_mappings(paths['mapping'])"
   ]
  },
  {
   "cell_type": "code",
   "execution_count": 6,
   "id": "certified-tactics",
   "metadata": {
    "execution": {
     "iopub.execute_input": "2022-02-11T00:27:47.485543Z",
     "iopub.status.busy": "2022-02-11T00:27:47.484789Z",
     "iopub.status.idle": "2022-02-11T00:27:47.490164Z",
     "shell.execute_reply": "2022-02-11T00:27:47.489577Z"
    },
    "papermill": {
     "duration": 0.053199,
     "end_time": "2022-02-11T00:27:47.490299",
     "exception": false,
     "start_time": "2022-02-11T00:27:47.437100",
     "status": "completed"
    },
    "tags": []
   },
   "outputs": [],
   "source": [
    "#hide\n",
    "def get_template(path):\n",
    "    from urllib.parse import urlparse\n",
    "    if bool(urlparse(path).netloc):\n",
    "        from urllib.request import urlopen\n",
    "        return urlopen(path).read().decode('utf8')\n",
    "    return open(path).read()"
   ]
  },
  {
   "cell_type": "code",
   "execution_count": 7,
   "id": "realistic-blast",
   "metadata": {
    "execution": {
     "iopub.execute_input": "2022-02-11T00:27:47.588118Z",
     "iopub.status.busy": "2022-02-11T00:27:47.587381Z",
     "iopub.status.idle": "2022-02-11T00:27:47.590136Z",
     "shell.execute_reply": "2022-02-11T00:27:47.589505Z"
    },
    "papermill": {
     "duration": 0.060114,
     "end_time": "2022-02-11T00:27:47.590280",
     "exception": false,
     "start_time": "2022-02-11T00:27:47.530166",
     "status": "completed"
    },
    "tags": []
   },
   "outputs": [],
   "source": [
    "#hide\n",
    "def get_frame(name):\n",
    "    url = (\n",
    "        'https://raw.githubusercontent.com/CSSEGISandData/COVID-19/master/csse_covid_19_data/'\n",
    "        f'csse_covid_19_time_series/time_series_covid19_{name}_global.csv')\n",
    "    df = pd.read_csv(url)\n",
    "    # rename countries\n",
    "    df['Country/Region'] = df['Country/Region'].replace(mapping['replace.country'])\n",
    "    return df"
   ]
  },
  {
   "cell_type": "code",
   "execution_count": 8,
   "id": "affiliated-characterization",
   "metadata": {
    "execution": {
     "iopub.execute_input": "2022-02-11T00:27:47.676697Z",
     "iopub.status.busy": "2022-02-11T00:27:47.672837Z",
     "iopub.status.idle": "2022-02-11T00:27:47.678300Z",
     "shell.execute_reply": "2022-02-11T00:27:47.678920Z"
    },
    "papermill": {
     "duration": 0.051178,
     "end_time": "2022-02-11T00:27:47.679118",
     "exception": false,
     "start_time": "2022-02-11T00:27:47.627940",
     "status": "completed"
    },
    "tags": []
   },
   "outputs": [],
   "source": [
    "#hide\n",
    "def get_dates(df):\n",
    "    dt_cols = df.columns[~df.columns.isin(['Province/State', 'Country/Region', 'Lat', 'Long'])]\n",
    "    LAST_DATE_I = -1\n",
    "    # sometimes last column may be empty, then go backwards\n",
    "    for i in range(-1, -len(dt_cols), -1):\n",
    "        if not df[dt_cols[i]].fillna(0).eq(0).all():\n",
    "            LAST_DATE_I = i\n",
    "            break\n",
    "    return LAST_DATE_I, dt_cols"
   ]
  },
  {
   "cell_type": "code",
   "execution_count": 9,
   "id": "recent-optimization",
   "metadata": {
    "execution": {
     "iopub.execute_input": "2022-02-11T00:27:47.758588Z",
     "iopub.status.busy": "2022-02-11T00:27:47.757935Z",
     "iopub.status.idle": "2022-02-11T00:27:48.147777Z",
     "shell.execute_reply": "2022-02-11T00:27:48.147157Z"
    },
    "papermill": {
     "duration": 0.431044,
     "end_time": "2022-02-11T00:27:48.147921",
     "exception": false,
     "start_time": "2022-02-11T00:27:47.716877",
     "status": "completed"
    },
    "tags": []
   },
   "outputs": [],
   "source": [
    "#hide\n",
    "COL_REGION = 'Country/Region'\n",
    "# Confirmed, Recovered, Deaths\n",
    "df = get_frame('confirmed')\n",
    "# dft_: timeseries, dfc_: today country agg\n",
    "dft_cases = df\n",
    "dft_deaths = get_frame('deaths')\n",
    "dft_recovered = get_frame('recovered')\n",
    "LAST_DATE_I, dt_cols = get_dates(df)"
   ]
  },
  {
   "cell_type": "code",
   "execution_count": 10,
   "id": "absolute-copper",
   "metadata": {
    "execution": {
     "iopub.execute_input": "2022-02-11T00:27:48.229146Z",
     "iopub.status.busy": "2022-02-11T00:27:48.228539Z",
     "iopub.status.idle": "2022-02-11T00:27:48.232515Z",
     "shell.execute_reply": "2022-02-11T00:27:48.231965Z"
    },
    "papermill": {
     "duration": 0.045195,
     "end_time": "2022-02-11T00:27:48.232628",
     "exception": false,
     "start_time": "2022-02-11T00:27:48.187433",
     "status": "completed"
    },
    "tags": []
   },
   "outputs": [],
   "source": [
    "#hide\n",
    "LAST_DATE_I, dt_cols = get_dates(df)\n",
    "dt_today =dt_cols[LAST_DATE_I]\n",
    "# dt_5day = dt_cols[LAST_DATE_I - 5]\n",
    "dt_yday = dt_cols[LAST_DATE_I - 1]"
   ]
  },
  {
   "cell_type": "code",
   "execution_count": 11,
   "id": "restricted-sheriff",
   "metadata": {
    "execution": {
     "iopub.execute_input": "2022-02-11T00:27:48.318039Z",
     "iopub.status.busy": "2022-02-11T00:27:48.316214Z",
     "iopub.status.idle": "2022-02-11T00:27:48.320212Z",
     "shell.execute_reply": "2022-02-11T00:27:48.320897Z"
    },
    "papermill": {
     "duration": 0.054587,
     "end_time": "2022-02-11T00:27:48.321071",
     "exception": false,
     "start_time": "2022-02-11T00:27:48.266484",
     "status": "completed"
    },
    "tags": []
   },
   "outputs": [],
   "source": [
    "#hide\n",
    "dfc_cases = dft_cases.groupby(COL_REGION)[dt_today].sum()\n",
    "dfc_deaths = dft_deaths.groupby(COL_REGION)[dt_today].sum()\n",
    "# dfp_cases = dft_cases.groupby(COL_REGION)[dt_5day].sum()\n",
    "# dfp_deaths = dft_deaths.groupby(COL_REGION)[dt_5day].sum()\n",
    "dfp_cases = dft_cases.groupby(COL_REGION)[dt_yday].sum()\n",
    "dfp_deaths = dft_deaths.groupby(COL_REGION)[dt_yday].sum()"
   ]
  },
  {
   "cell_type": "code",
   "execution_count": 12,
   "id": "deluxe-hepatitis",
   "metadata": {
    "execution": {
     "iopub.execute_input": "2022-02-11T00:27:48.406750Z",
     "iopub.status.busy": "2022-02-11T00:27:48.405926Z",
     "iopub.status.idle": "2022-02-11T00:27:48.410971Z",
     "shell.execute_reply": "2022-02-11T00:27:48.410414Z"
    },
    "papermill": {
     "duration": 0.052306,
     "end_time": "2022-02-11T00:27:48.411094",
     "exception": false,
     "start_time": "2022-02-11T00:27:48.358788",
     "status": "completed"
    },
    "tags": []
   },
   "outputs": [],
   "source": [
    "#hide\n",
    "df_table = (pd.DataFrame(dict(Cases = dfc_cases, Deaths = dfc_deaths, PCases = dfp_cases, PDeaths = dfp_deaths))\n",
    "            .sort_values(by = ['Cases','Deaths'], ascending = [False, False])\n",
    "            .reset_index())"
   ]
  },
  {
   "cell_type": "code",
   "execution_count": 13,
   "id": "educational-chancellor",
   "metadata": {
    "execution": {
     "iopub.execute_input": "2022-02-11T00:27:48.502003Z",
     "iopub.status.busy": "2022-02-11T00:27:48.501255Z",
     "iopub.status.idle": "2022-02-11T00:27:48.511259Z",
     "shell.execute_reply": "2022-02-11T00:27:48.511836Z"
    },
    "papermill": {
     "duration": 0.065346,
     "end_time": "2022-02-11T00:27:48.511977",
     "exception": false,
     "start_time": "2022-02-11T00:27:48.446631",
     "status": "completed"
    },
    "tags": []
   },
   "outputs": [
    {
     "data": {
      "text/html": [
       "<div>\n",
       "<style scoped>\n",
       "    .dataframe tbody tr th:only-of-type {\n",
       "        vertical-align: middle;\n",
       "    }\n",
       "\n",
       "    .dataframe tbody tr th {\n",
       "        vertical-align: top;\n",
       "    }\n",
       "\n",
       "    .dataframe thead th {\n",
       "        text-align: right;\n",
       "    }\n",
       "</style>\n",
       "<table border=\"1\" class=\"dataframe\">\n",
       "  <thead>\n",
       "    <tr style=\"text-align: right;\">\n",
       "      <th></th>\n",
       "      <th>Country/Region</th>\n",
       "      <th>Cases</th>\n",
       "      <th>Deaths</th>\n",
       "      <th>PCases</th>\n",
       "      <th>PDeaths</th>\n",
       "      <th>Cases (+)</th>\n",
       "      <th>Deaths (+)</th>\n",
       "      <th>Fatality Rate</th>\n",
       "      <th>Continent</th>\n",
       "    </tr>\n",
       "  </thead>\n",
       "  <tbody>\n",
       "    <tr>\n",
       "      <th>0</th>\n",
       "      <td>US</td>\n",
       "      <td>77281158</td>\n",
       "      <td>912255</td>\n",
       "      <td>77093859</td>\n",
       "      <td>908820</td>\n",
       "      <td>187299</td>\n",
       "      <td>3435</td>\n",
       "      <td>1.18</td>\n",
       "      <td>North America</td>\n",
       "    </tr>\n",
       "    <tr>\n",
       "      <th>1</th>\n",
       "      <td>India</td>\n",
       "      <td>42478060</td>\n",
       "      <td>506520</td>\n",
       "      <td>42410976</td>\n",
       "      <td>505279</td>\n",
       "      <td>67084</td>\n",
       "      <td>1241</td>\n",
       "      <td>1.19</td>\n",
       "      <td>Asia</td>\n",
       "    </tr>\n",
       "    <tr>\n",
       "      <th>2</th>\n",
       "      <td>Brazil</td>\n",
       "      <td>26972914</td>\n",
       "      <td>635421</td>\n",
       "      <td>26793497</td>\n",
       "      <td>634118</td>\n",
       "      <td>179417</td>\n",
       "      <td>1303</td>\n",
       "      <td>2.36</td>\n",
       "      <td>South America</td>\n",
       "    </tr>\n",
       "    <tr>\n",
       "      <th>3</th>\n",
       "      <td>France</td>\n",
       "      <td>21177663</td>\n",
       "      <td>134609</td>\n",
       "      <td>21174600</td>\n",
       "      <td>134609</td>\n",
       "      <td>3063</td>\n",
       "      <td>0</td>\n",
       "      <td>0.64</td>\n",
       "      <td>Europe</td>\n",
       "    </tr>\n",
       "    <tr>\n",
       "      <th>4</th>\n",
       "      <td>United Kingdom</td>\n",
       "      <td>18123192</td>\n",
       "      <td>159503</td>\n",
       "      <td>18055318</td>\n",
       "      <td>159220</td>\n",
       "      <td>67874</td>\n",
       "      <td>283</td>\n",
       "      <td>0.88</td>\n",
       "      <td>Europe</td>\n",
       "    </tr>\n",
       "  </tbody>\n",
       "</table>\n",
       "</div>"
      ],
      "text/plain": [
       "   Country/Region     Cases  Deaths    PCases  PDeaths  Cases (+)  Deaths (+)  \\\n",
       "0              US  77281158  912255  77093859   908820     187299        3435   \n",
       "1           India  42478060  506520  42410976   505279      67084        1241   \n",
       "2          Brazil  26972914  635421  26793497   634118     179417        1303   \n",
       "3          France  21177663  134609  21174600   134609       3063           0   \n",
       "4  United Kingdom  18123192  159503  18055318   159220      67874         283   \n",
       "\n",
       "   Fatality Rate      Continent  \n",
       "0           1.18  North America  \n",
       "1           1.19           Asia  \n",
       "2           2.36  South America  \n",
       "3           0.64         Europe  \n",
       "4           0.88         Europe  "
      ]
     },
     "execution_count": 13,
     "metadata": {},
     "output_type": "execute_result"
    }
   ],
   "source": [
    "#hide\n",
    "for c in 'Cases, Deaths'.split(', '):\n",
    "    df_table[f'{c} (+)'] = (df_table[c] - df_table[f'P{c}']).clip(0)\n",
    "    #Clip ça veut dire, les chiffres negatif sont interdit\n",
    "df_table['Fatality Rate'] = (100* df_table['Deaths']/ df_table['Cases']).round(2)\n",
    "df_table['Continent'] = df_table['Country/Region'].map(mapping['map.continent'])\n",
    "df_table.head(5)"
   ]
  },
  {
   "cell_type": "code",
   "execution_count": 14,
   "id": "aboriginal-bulgaria",
   "metadata": {
    "execution": {
     "iopub.execute_input": "2022-02-11T00:27:48.590486Z",
     "iopub.status.busy": "2022-02-11T00:27:48.589889Z",
     "iopub.status.idle": "2022-02-11T00:27:48.592961Z",
     "shell.execute_reply": "2022-02-11T00:27:48.593424Z"
    },
    "papermill": {
     "duration": 0.045539,
     "end_time": "2022-02-11T00:27:48.593550",
     "exception": false,
     "start_time": "2022-02-11T00:27:48.548011",
     "status": "completed"
    },
    "tags": []
   },
   "outputs": [],
   "source": [
    "#hide\n",
    "#delete problematic countries from table\n",
    "df_table = df_table[~df_table['Country/Region'].isin(['Cape Verde', 'Cruise Ship', 'Kosovo'])]"
   ]
  },
  {
   "cell_type": "code",
   "execution_count": 15,
   "id": "fantastic-effect",
   "metadata": {
    "execution": {
     "iopub.execute_input": "2022-02-11T00:27:48.697045Z",
     "iopub.status.busy": "2022-02-11T00:27:48.696400Z",
     "iopub.status.idle": "2022-02-11T00:27:48.699066Z",
     "shell.execute_reply": "2022-02-11T00:27:48.699797Z"
    },
    "papermill": {
     "duration": 0.070259,
     "end_time": "2022-02-11T00:27:48.699980",
     "exception": false,
     "start_time": "2022-02-11T00:27:48.629721",
     "status": "completed"
    },
    "tags": []
   },
   "outputs": [
    {
     "data": {
      "text/html": [
       "<div>\n",
       "<style scoped>\n",
       "    .dataframe tbody tr th:only-of-type {\n",
       "        vertical-align: middle;\n",
       "    }\n",
       "\n",
       "    .dataframe tbody tr th {\n",
       "        vertical-align: top;\n",
       "    }\n",
       "\n",
       "    .dataframe thead th {\n",
       "        text-align: right;\n",
       "    }\n",
       "</style>\n",
       "<table border=\"1\" class=\"dataframe\">\n",
       "  <thead>\n",
       "    <tr style=\"text-align: right;\">\n",
       "      <th></th>\n",
       "      <th>Country/Region</th>\n",
       "      <th>Cases</th>\n",
       "      <th>Deaths</th>\n",
       "      <th>PCases</th>\n",
       "      <th>PDeaths</th>\n",
       "      <th>Cases (+)</th>\n",
       "      <th>Deaths (+)</th>\n",
       "      <th>Fatality Rate</th>\n",
       "      <th>Continent</th>\n",
       "    </tr>\n",
       "  </thead>\n",
       "  <tbody>\n",
       "    <tr>\n",
       "      <th>0</th>\n",
       "      <td>US</td>\n",
       "      <td>77281158</td>\n",
       "      <td>912255</td>\n",
       "      <td>77093859</td>\n",
       "      <td>908820</td>\n",
       "      <td>187299</td>\n",
       "      <td>3435</td>\n",
       "      <td>1.2</td>\n",
       "      <td>North America</td>\n",
       "    </tr>\n",
       "    <tr>\n",
       "      <th>1</th>\n",
       "      <td>India</td>\n",
       "      <td>42478060</td>\n",
       "      <td>506520</td>\n",
       "      <td>42410976</td>\n",
       "      <td>505279</td>\n",
       "      <td>67084</td>\n",
       "      <td>1241</td>\n",
       "      <td>1.2</td>\n",
       "      <td>Asia</td>\n",
       "    </tr>\n",
       "    <tr>\n",
       "      <th>2</th>\n",
       "      <td>Brazil</td>\n",
       "      <td>26972914</td>\n",
       "      <td>635421</td>\n",
       "      <td>26793497</td>\n",
       "      <td>634118</td>\n",
       "      <td>179417</td>\n",
       "      <td>1303</td>\n",
       "      <td>2.4</td>\n",
       "      <td>South America</td>\n",
       "    </tr>\n",
       "    <tr>\n",
       "      <th>3</th>\n",
       "      <td>France</td>\n",
       "      <td>21177663</td>\n",
       "      <td>134609</td>\n",
       "      <td>21174600</td>\n",
       "      <td>134609</td>\n",
       "      <td>3063</td>\n",
       "      <td>0</td>\n",
       "      <td>0.6</td>\n",
       "      <td>Europe</td>\n",
       "    </tr>\n",
       "    <tr>\n",
       "      <th>4</th>\n",
       "      <td>United Kingdom</td>\n",
       "      <td>18123192</td>\n",
       "      <td>159503</td>\n",
       "      <td>18055318</td>\n",
       "      <td>159220</td>\n",
       "      <td>67874</td>\n",
       "      <td>283</td>\n",
       "      <td>0.9</td>\n",
       "      <td>Europe</td>\n",
       "    </tr>\n",
       "  </tbody>\n",
       "</table>\n",
       "</div>"
      ],
      "text/plain": [
       "   Country/Region     Cases  Deaths    PCases  PDeaths  Cases (+)  Deaths (+)  \\\n",
       "0              US  77281158  912255  77093859   908820     187299        3435   \n",
       "1           India  42478060  506520  42410976   505279      67084        1241   \n",
       "2          Brazil  26972914  635421  26793497   634118     179417        1303   \n",
       "3          France  21177663  134609  21174600   134609       3063           0   \n",
       "4  United Kingdom  18123192  159503  18055318   159220      67874         283   \n",
       "\n",
       "   Fatality Rate      Continent  \n",
       "0            1.2  North America  \n",
       "1            1.2           Asia  \n",
       "2            2.4  South America  \n",
       "3            0.6         Europe  \n",
       "4            0.9         Europe  "
      ]
     },
     "execution_count": 15,
     "metadata": {},
     "output_type": "execute_result"
    }
   ],
   "source": [
    "#hide\n",
    "df_table = (pd.DataFrame(dict(Cases=dfc_cases, Deaths=dfc_deaths, PCases=dfp_cases, PDeaths=dfp_deaths))\n",
    "             .sort_values(by=['Cases', 'Deaths'], ascending=[False, False])\n",
    "             .reset_index())\n",
    "df_table.rename(columns={'index': 'Country/Region'}, inplace=True)\n",
    "for c in 'Cases, Deaths'.split(', '):\n",
    "    df_table[f'{c} (+)'] = (df_table[c] - df_table[f'P{c}']).clip(0)  # DATA BUG\n",
    "df_table['Fatality Rate'] = (100 * df_table['Deaths'] / df_table['Cases']).round(1)\n",
    "df_table['Continent'] = df_table['Country/Region'].map(mapping['map.continent'])\n",
    "df_table.head(5)"
   ]
  },
  {
   "cell_type": "code",
   "execution_count": 16,
   "id": "fewer-occasion",
   "metadata": {
    "execution": {
     "iopub.execute_input": "2022-02-11T00:27:48.790695Z",
     "iopub.status.busy": "2022-02-11T00:27:48.790060Z",
     "iopub.status.idle": "2022-02-11T00:27:48.793715Z",
     "shell.execute_reply": "2022-02-11T00:27:48.794232Z"
    },
    "papermill": {
     "duration": 0.051788,
     "end_time": "2022-02-11T00:27:48.794389",
     "exception": false,
     "start_time": "2022-02-11T00:27:48.742601",
     "status": "completed"
    },
    "tags": []
   },
   "outputs": [],
   "source": [
    "#hide\n",
    "#delete problematic countries from table\n",
    "df_table = df_table[~df_table['Country/Region'].isin(['Cape Verde', 'Cruise Ship', 'Kosovo'])]"
   ]
  },
  {
   "cell_type": "code",
   "execution_count": 17,
   "id": "related-center",
   "metadata": {
    "execution": {
     "iopub.execute_input": "2022-02-11T00:27:48.899022Z",
     "iopub.status.busy": "2022-02-11T00:27:48.898367Z",
     "iopub.status.idle": "2022-02-11T00:27:48.900831Z",
     "shell.execute_reply": "2022-02-11T00:27:48.900321Z"
    },
    "papermill": {
     "duration": 0.063856,
     "end_time": "2022-02-11T00:27:48.900951",
     "exception": false,
     "start_time": "2022-02-11T00:27:48.837095",
     "status": "completed"
    },
    "tags": []
   },
   "outputs": [],
   "source": [
    "#hide\n",
    "metrics = [df_table.columns[index] for index in [1,2,5,6]]\n",
    "# s_china = df_table[df_table['Country/Region'].eq('China')][metrics].sum().add_prefix('China ')\n",
    "s_us = df_table[df_table['Country/Region'].eq('US')][metrics].sum().add_prefix('US ')\n",
    "s_eu = df_table[df_table['Continent'].eq('Europe')][metrics].sum().add_prefix('EU ')\n",
    "s_ind = df_table[df_table['Country/Region'].eq('India')][metrics].sum().add_prefix('India ')\n",
    "summary = {'updated': pd.to_datetime(dt_today), 'since': pd.to_datetime(dt_yday)}\n",
    "summary = {'updated': pd.to_datetime(dt_today), 'since': pd.to_datetime(dt_yday)}\n",
    "summary = {**summary, **df_table[metrics].sum(), **s_ind, **s_us, **s_eu}"
   ]
  },
  {
   "cell_type": "code",
   "execution_count": 18,
   "id": "engaging-syndrome",
   "metadata": {
    "execution": {
     "iopub.execute_input": "2022-02-11T00:27:48.988422Z",
     "iopub.status.busy": "2022-02-11T00:27:48.987772Z",
     "iopub.status.idle": "2022-02-11T00:27:49.004726Z",
     "shell.execute_reply": "2022-02-11T00:27:49.005256Z"
    },
    "papermill": {
     "duration": 0.064193,
     "end_time": "2022-02-11T00:27:49.005412",
     "exception": false,
     "start_time": "2022-02-11T00:27:48.941219",
     "status": "completed"
    },
    "tags": []
   },
   "outputs": [],
   "source": [
    "#hide\n",
    "dft_ct_new_cases = dft_cases.groupby(COL_REGION)[dt_cols].sum().diff(axis=1).fillna(0).astype(int)"
   ]
  },
  {
   "cell_type": "code",
   "execution_count": 19,
   "id": "neutral-assignment",
   "metadata": {
    "execution": {
     "iopub.execute_input": "2022-02-11T00:27:49.098194Z",
     "iopub.status.busy": "2022-02-11T00:27:49.097493Z",
     "iopub.status.idle": "2022-02-11T00:27:49.099165Z",
     "shell.execute_reply": "2022-02-11T00:27:49.099839Z"
    },
    "papermill": {
     "duration": 0.051876,
     "end_time": "2022-02-11T00:27:49.100021",
     "exception": false,
     "start_time": "2022-02-11T00:27:49.048145",
     "status": "completed"
    },
    "tags": []
   },
   "outputs": [],
   "source": [
    "#hide\n",
    "everydaycases = dft_ct_new_cases.cumsum(axis=1)"
   ]
  },
  {
   "cell_type": "code",
   "execution_count": 20,
   "id": "parliamentary-calgary",
   "metadata": {
    "execution": {
     "iopub.execute_input": "2022-02-11T00:27:49.186622Z",
     "iopub.status.busy": "2022-02-11T00:27:49.185993Z",
     "iopub.status.idle": "2022-02-11T00:27:49.866785Z",
     "shell.execute_reply": "2022-02-11T00:27:49.866218Z"
    },
    "papermill": {
     "duration": 0.726576,
     "end_time": "2022-02-11T00:27:49.866919",
     "exception": false,
     "start_time": "2022-02-11T00:27:49.140343",
     "status": "completed"
    },
    "tags": []
   },
   "outputs": [],
   "source": [
    "#hide\n",
    "import pandas as pd\n",
    "import matplotlib.pyplot as plt\n",
    "import matplotlib.ticker as ticker\n",
    "import matplotlib.animation as animation\n",
    "from IPython.display import HTML"
   ]
  },
  {
   "cell_type": "code",
   "execution_count": 21,
   "id": "lasting-extraction",
   "metadata": {
    "execution": {
     "iopub.execute_input": "2022-02-11T00:27:49.946438Z",
     "iopub.status.busy": "2022-02-11T00:27:49.945841Z",
     "iopub.status.idle": "2022-02-11T00:27:49.952437Z",
     "shell.execute_reply": "2022-02-11T00:27:49.951936Z"
    },
    "papermill": {
     "duration": 0.049373,
     "end_time": "2022-02-11T00:27:49.952568",
     "exception": false,
     "start_time": "2022-02-11T00:27:49.903195",
     "status": "completed"
    },
    "tags": []
   },
   "outputs": [],
   "source": [
    "#hide\n",
    "t = everydaycases.stack()"
   ]
  },
  {
   "cell_type": "code",
   "execution_count": 22,
   "id": "premier-sleeve",
   "metadata": {
    "execution": {
     "iopub.execute_input": "2022-02-11T00:27:50.031170Z",
     "iopub.status.busy": "2022-02-11T00:27:50.030381Z",
     "iopub.status.idle": "2022-02-11T00:27:50.044391Z",
     "shell.execute_reply": "2022-02-11T00:27:50.043795Z"
    },
    "papermill": {
     "duration": 0.055478,
     "end_time": "2022-02-11T00:27:50.044541",
     "exception": false,
     "start_time": "2022-02-11T00:27:49.989063",
     "status": "completed"
    },
    "tags": []
   },
   "outputs": [],
   "source": [
    "#hide\n",
    "g = t.reset_index(['Country/Region'])"
   ]
  },
  {
   "cell_type": "code",
   "execution_count": 23,
   "id": "distributed-pittsburgh",
   "metadata": {
    "execution": {
     "iopub.execute_input": "2022-02-11T00:27:50.125608Z",
     "iopub.status.busy": "2022-02-11T00:27:50.124945Z",
     "iopub.status.idle": "2022-02-11T00:27:50.127650Z",
     "shell.execute_reply": "2022-02-11T00:27:50.127164Z"
    },
    "papermill": {
     "duration": 0.043477,
     "end_time": "2022-02-11T00:27:50.127774",
     "exception": false,
     "start_time": "2022-02-11T00:27:50.084297",
     "status": "completed"
    },
    "tags": []
   },
   "outputs": [],
   "source": [
    "#hide\n",
    "g.index.name = 'date'"
   ]
  },
  {
   "cell_type": "code",
   "execution_count": 24,
   "id": "naked-donor",
   "metadata": {
    "execution": {
     "iopub.execute_input": "2022-02-11T00:27:50.210515Z",
     "iopub.status.busy": "2022-02-11T00:27:50.209891Z",
     "iopub.status.idle": "2022-02-11T00:27:50.213489Z",
     "shell.execute_reply": "2022-02-11T00:27:50.214039Z"
    },
    "papermill": {
     "duration": 0.047213,
     "end_time": "2022-02-11T00:27:50.214180",
     "exception": false,
     "start_time": "2022-02-11T00:27:50.166967",
     "status": "completed"
    },
    "tags": []
   },
   "outputs": [],
   "source": [
    "# #hide\n",
    "# g = g.reset_index(['date'])"
   ]
  },
  {
   "cell_type": "code",
   "execution_count": 25,
   "id": "incomplete-mustang",
   "metadata": {
    "execution": {
     "iopub.execute_input": "2022-02-11T00:27:50.296056Z",
     "iopub.status.busy": "2022-02-11T00:27:50.294559Z",
     "iopub.status.idle": "2022-02-11T00:27:50.296751Z",
     "shell.execute_reply": "2022-02-11T00:27:50.297284Z"
    },
    "papermill": {
     "duration": 0.044619,
     "end_time": "2022-02-11T00:27:50.297469",
     "exception": false,
     "start_time": "2022-02-11T00:27:50.252850",
     "status": "completed"
    },
    "tags": []
   },
   "outputs": [],
   "source": [
    "#hide\n",
    "# g.head()"
   ]
  },
  {
   "cell_type": "code",
   "execution_count": 26,
   "id": "specific-kruger",
   "metadata": {
    "execution": {
     "iopub.execute_input": "2022-02-11T00:27:50.376245Z",
     "iopub.status.busy": "2022-02-11T00:27:50.375610Z",
     "iopub.status.idle": "2022-02-11T00:27:50.380595Z",
     "shell.execute_reply": "2022-02-11T00:27:50.381116Z"
    },
    "papermill": {
     "duration": 0.046389,
     "end_time": "2022-02-11T00:27:50.381248",
     "exception": false,
     "start_time": "2022-02-11T00:27:50.334859",
     "status": "completed"
    },
    "tags": []
   },
   "outputs": [],
   "source": [
    "#hide\n",
    "# g.columns = ['date','country','cases']"
   ]
  },
  {
   "cell_type": "code",
   "execution_count": 27,
   "id": "tender-conversion",
   "metadata": {
    "execution": {
     "iopub.execute_input": "2022-02-11T00:27:50.459733Z",
     "iopub.status.busy": "2022-02-11T00:27:50.459149Z",
     "iopub.status.idle": "2022-02-11T00:27:50.461417Z",
     "shell.execute_reply": "2022-02-11T00:27:50.460928Z"
    },
    "papermill": {
     "duration": 0.044014,
     "end_time": "2022-02-11T00:27:50.461537",
     "exception": false,
     "start_time": "2022-02-11T00:27:50.417523",
     "status": "completed"
    },
    "tags": []
   },
   "outputs": [],
   "source": [
    "#hide\n",
    "# g['continent'] = g.country"
   ]
  },
  {
   "cell_type": "code",
   "execution_count": 28,
   "id": "substantial-wilderness",
   "metadata": {
    "execution": {
     "iopub.execute_input": "2022-02-11T00:27:50.541128Z",
     "iopub.status.busy": "2022-02-11T00:27:50.540499Z",
     "iopub.status.idle": "2022-02-11T00:27:50.542464Z",
     "shell.execute_reply": "2022-02-11T00:27:50.542968Z"
    },
    "papermill": {
     "duration": 0.042664,
     "end_time": "2022-02-11T00:27:50.543139",
     "exception": false,
     "start_time": "2022-02-11T00:27:50.500475",
     "status": "completed"
    },
    "tags": []
   },
   "outputs": [],
   "source": [
    "#hide\n",
    "# cols = list(g.columns.values)"
   ]
  },
  {
   "cell_type": "code",
   "execution_count": 29,
   "id": "solved-farming",
   "metadata": {
    "execution": {
     "iopub.execute_input": "2022-02-11T00:27:50.623889Z",
     "iopub.status.busy": "2022-02-11T00:27:50.623229Z",
     "iopub.status.idle": "2022-02-11T00:27:50.627043Z",
     "shell.execute_reply": "2022-02-11T00:27:50.627494Z"
    },
    "papermill": {
     "duration": 0.045846,
     "end_time": "2022-02-11T00:27:50.627635",
     "exception": false,
     "start_time": "2022-02-11T00:27:50.581789",
     "status": "completed"
    },
    "tags": []
   },
   "outputs": [],
   "source": [
    "#hide\n",
    "# cols.insert(0, cols.pop())"
   ]
  },
  {
   "cell_type": "code",
   "execution_count": 30,
   "id": "executed-adoption",
   "metadata": {
    "execution": {
     "iopub.execute_input": "2022-02-11T00:27:50.706309Z",
     "iopub.status.busy": "2022-02-11T00:27:50.705689Z",
     "iopub.status.idle": "2022-02-11T00:27:50.709758Z",
     "shell.execute_reply": "2022-02-11T00:27:50.711058Z"
    },
    "papermill": {
     "duration": 0.048154,
     "end_time": "2022-02-11T00:27:50.711224",
     "exception": false,
     "start_time": "2022-02-11T00:27:50.663070",
     "status": "completed"
    },
    "tags": []
   },
   "outputs": [],
   "source": [
    "#hide\n",
    "# g = g[cols]"
   ]
  },
  {
   "cell_type": "code",
   "execution_count": 31,
   "id": "subject-dublin",
   "metadata": {
    "execution": {
     "iopub.execute_input": "2022-02-11T00:27:50.796806Z",
     "iopub.status.busy": "2022-02-11T00:27:50.796190Z",
     "iopub.status.idle": "2022-02-11T00:27:50.798576Z",
     "shell.execute_reply": "2022-02-11T00:27:50.797780Z"
    },
    "papermill": {
     "duration": 0.049991,
     "end_time": "2022-02-11T00:27:50.798696",
     "exception": false,
     "start_time": "2022-02-11T00:27:50.748705",
     "status": "completed"
    },
    "tags": []
   },
   "outputs": [],
   "source": [
    "#hide\n",
    "# g['continent'] = g['continent'].map(mapping['map.continent'])"
   ]
  },
  {
   "cell_type": "code",
   "execution_count": 32,
   "id": "freelance-scout",
   "metadata": {
    "execution": {
     "iopub.execute_input": "2022-02-11T00:27:50.883479Z",
     "iopub.status.busy": "2022-02-11T00:27:50.882850Z",
     "iopub.status.idle": "2022-02-11T00:27:50.885092Z",
     "shell.execute_reply": "2022-02-11T00:27:50.884604Z"
    },
    "papermill": {
     "duration": 0.050036,
     "end_time": "2022-02-11T00:27:50.885206",
     "exception": false,
     "start_time": "2022-02-11T00:27:50.835170",
     "status": "completed"
    },
    "tags": []
   },
   "outputs": [],
   "source": [
    "#hide\n",
    "# g.head()"
   ]
  },
  {
   "cell_type": "code",
   "execution_count": 33,
   "id": "limited-engine",
   "metadata": {
    "execution": {
     "iopub.execute_input": "2022-02-11T00:27:50.961583Z",
     "iopub.status.busy": "2022-02-11T00:27:50.961018Z",
     "iopub.status.idle": "2022-02-11T00:27:50.962999Z",
     "shell.execute_reply": "2022-02-11T00:27:50.963538Z"
    },
    "papermill": {
     "duration": 0.042466,
     "end_time": "2022-02-11T00:27:50.963678",
     "exception": false,
     "start_time": "2022-02-11T00:27:50.921212",
     "status": "completed"
    },
    "tags": []
   },
   "outputs": [],
   "source": [
    "# hide\n",
    "# g['date'] = g['date'].astype('datetime64[ns]')"
   ]
  },
  {
   "cell_type": "code",
   "execution_count": 34,
   "id": "sophisticated-supervisor",
   "metadata": {
    "execution": {
     "iopub.execute_input": "2022-02-11T00:27:51.050498Z",
     "iopub.status.busy": "2022-02-11T00:27:51.049706Z",
     "iopub.status.idle": "2022-02-11T00:27:51.054127Z",
     "shell.execute_reply": "2022-02-11T00:27:51.054652Z"
    },
    "papermill": {
     "duration": 0.052731,
     "end_time": "2022-02-11T00:27:51.054846",
     "exception": false,
     "start_time": "2022-02-11T00:27:51.002115",
     "status": "completed"
    },
    "tags": []
   },
   "outputs": [],
   "source": [
    "#hide\n",
    "# g['date'] = g.date.dt.dayofyear"
   ]
  },
  {
   "cell_type": "code",
   "execution_count": 35,
   "id": "inside-dubai",
   "metadata": {
    "execution": {
     "iopub.execute_input": "2022-02-11T00:27:51.143885Z",
     "iopub.status.busy": "2022-02-11T00:27:51.143246Z",
     "iopub.status.idle": "2022-02-11T00:27:51.146034Z",
     "shell.execute_reply": "2022-02-11T00:27:51.145419Z"
    },
    "papermill": {
     "duration": 0.046492,
     "end_time": "2022-02-11T00:27:51.146156",
     "exception": false,
     "start_time": "2022-02-11T00:27:51.099664",
     "status": "completed"
    },
    "tags": []
   },
   "outputs": [],
   "source": [
    "#hide\n",
    "# g = g.rename(columns= {'continent':'group','country':'name','cases':'value'})"
   ]
  },
  {
   "cell_type": "code",
   "execution_count": 36,
   "id": "fleet-motorcycle",
   "metadata": {
    "execution": {
     "iopub.execute_input": "2022-02-11T00:27:51.233865Z",
     "iopub.status.busy": "2022-02-11T00:27:51.233083Z",
     "iopub.status.idle": "2022-02-11T00:27:51.235308Z",
     "shell.execute_reply": "2022-02-11T00:27:51.236184Z"
    },
    "papermill": {
     "duration": 0.048447,
     "end_time": "2022-02-11T00:27:51.236329",
     "exception": false,
     "start_time": "2022-02-11T00:27:51.187882",
     "status": "completed"
    },
    "tags": []
   },
   "outputs": [],
   "source": [
    "#hide\n",
    "# cols = ['name','group','day','value']"
   ]
  },
  {
   "cell_type": "code",
   "execution_count": 37,
   "id": "continued-sleeping",
   "metadata": {
    "execution": {
     "iopub.execute_input": "2022-02-11T00:27:51.320373Z",
     "iopub.status.busy": "2022-02-11T00:27:51.319716Z",
     "iopub.status.idle": "2022-02-11T00:27:51.323657Z",
     "shell.execute_reply": "2022-02-11T00:27:51.324152Z"
    },
    "papermill": {
     "duration": 0.046862,
     "end_time": "2022-02-11T00:27:51.324312",
     "exception": false,
     "start_time": "2022-02-11T00:27:51.277450",
     "status": "completed"
    },
    "tags": []
   },
   "outputs": [],
   "source": [
    "#hide\n",
    "# g.rename(columns= {'date':'day'},inplace = True)"
   ]
  },
  {
   "cell_type": "code",
   "execution_count": 38,
   "id": "major-fight",
   "metadata": {
    "execution": {
     "iopub.execute_input": "2022-02-11T00:27:51.418059Z",
     "iopub.status.busy": "2022-02-11T00:27:51.417266Z",
     "iopub.status.idle": "2022-02-11T00:27:51.420109Z",
     "shell.execute_reply": "2022-02-11T00:27:51.420609Z"
    },
    "papermill": {
     "duration": 0.0528,
     "end_time": "2022-02-11T00:27:51.420794",
     "exception": false,
     "start_time": "2022-02-11T00:27:51.367994",
     "status": "completed"
    },
    "tags": []
   },
   "outputs": [],
   "source": [
    "#hide\n",
    "# g = g[cols]"
   ]
  },
  {
   "cell_type": "code",
   "execution_count": 39,
   "id": "structured-mobile",
   "metadata": {
    "execution": {
     "iopub.execute_input": "2022-02-11T00:27:51.500590Z",
     "iopub.status.busy": "2022-02-11T00:27:51.499951Z",
     "iopub.status.idle": "2022-02-11T00:27:51.503523Z",
     "shell.execute_reply": "2022-02-11T00:27:51.503975Z"
    },
    "papermill": {
     "duration": 0.047224,
     "end_time": "2022-02-11T00:27:51.504111",
     "exception": false,
     "start_time": "2022-02-11T00:27:51.456887",
     "status": "completed"
    },
    "tags": []
   },
   "outputs": [],
   "source": [
    "# #hide\n",
    "# g = g[g.group.notna()]"
   ]
  },
  {
   "cell_type": "code",
   "execution_count": 40,
   "id": "determined-closing",
   "metadata": {
    "execution": {
     "iopub.execute_input": "2022-02-11T00:27:51.590651Z",
     "iopub.status.busy": "2022-02-11T00:27:51.589905Z",
     "iopub.status.idle": "2022-02-11T00:27:51.591641Z",
     "shell.execute_reply": "2022-02-11T00:27:51.592181Z"
    },
    "papermill": {
     "duration": 0.050625,
     "end_time": "2022-02-11T00:27:51.592325",
     "exception": false,
     "start_time": "2022-02-11T00:27:51.541700",
     "status": "completed"
    },
    "tags": []
   },
   "outputs": [],
   "source": [
    "# #hide\n",
    "# colors = dict(zip(\n",
    "#     [\"Oceania\", \"Europe\", \"Asia\", \"South America\", \"Middle East\", \"North America\", \"Africa\"],\n",
    "#     [\"#adb0ff\", \"#ffb3ff\", \"#90d595\", \"#e48381\", \"#aafbff\", \"#f7bb5f\", \"#eafb50\"]\n",
    "# ))\n",
    "# group_lk = g.set_index('name')['group'].to_dict()"
   ]
  },
  {
   "cell_type": "code",
   "execution_count": null,
   "id": "gross-drinking",
   "metadata": {
    "papermill": {
     "duration": 0.039281,
     "end_time": "2022-02-11T00:27:51.672370",
     "exception": false,
     "start_time": "2022-02-11T00:27:51.633089",
     "status": "completed"
    },
    "tags": []
   },
   "outputs": [],
   "source": []
  },
  {
   "cell_type": "code",
   "execution_count": 41,
   "id": "subject-macintosh",
   "metadata": {
    "execution": {
     "iopub.execute_input": "2022-02-11T00:27:51.756867Z",
     "iopub.status.busy": "2022-02-11T00:27:51.756164Z",
     "iopub.status.idle": "2022-02-11T00:27:51.759011Z",
     "shell.execute_reply": "2022-02-11T00:27:51.758457Z"
    },
    "papermill": {
     "duration": 0.044899,
     "end_time": "2022-02-11T00:27:51.759126",
     "exception": false,
     "start_time": "2022-02-11T00:27:51.714227",
     "status": "completed"
    },
    "tags": []
   },
   "outputs": [],
   "source": [
    "# #hide\n",
    "# fig, ax = plt.subplots(figsize=(15, 8))\n",
    "\n",
    "# def draw_barchart(current_day):\n",
    "#     dff = g[g['day'].eq(current_day)].sort_values(by='value', ascending=True).tail(10)\n",
    "#     ax.clear()\n",
    "#     ax.barh(dff['name'], dff['value'], color=[colors[group_lk[x]] for x in dff['name']])\n",
    "#     dx = dff['value'].max() / 200\n",
    "    \n",
    "#     for i, (value, name) in enumerate(zip(dff['value'], dff['name'])):\n",
    "#         ax.text(value-dx, i,     name,           size=14, weight=600, ha='right', va='bottom')\n",
    "#         ax.text(value-dx, i-.25, group_lk[name], size=10, color='#444444', ha='right', va='baseline')\n",
    "#         ax.text(value+dx, i,     f'{value:,.0f}',  size=14, ha='left',  va='center')\n",
    "#     ax.text(1, 0.4, current_day, transform=ax.transAxes, color='#777777', size=46, ha='right', weight=800)\n",
    "#     ax.text(0, 1.06, 'Population (thousands)', transform=ax.transAxes, size=12, color='#777777')\n",
    "#     ax.xaxis.set_major_formatter(ticker.StrMethodFormatter('{x:,.0f}'))\n",
    "#     ax.xaxis.set_ticks_position('top')\n",
    "#     ax.tick_params(axis='x', colors='#777777', labelsize=12)\n",
    "#     ax.set_yticks([])\n",
    "#     ax.margins(0, 0.01)\n",
    "#     ax.grid(which='major', axis='x', linestyle='-')\n",
    "#     ax.set_axisbelow(True)\n",
    "    \n",
    "#     ax.text(0, 1.15, 'Coronavirus',\n",
    "#             transform=ax.transAxes, size=24, weight=600, ha='left', va='top')\n",
    "# #     ax.text(1, 0, 'by @pratapvardhan; credit @jburnmurdoch', transform=ax.transAxes, color='#777777', ha='right',\n",
    "# #             bbox=dict(facecolor='white', alpha=0.8, edgecolor='white'))\n",
    "#     plt.box(False)"
   ]
  },
  {
   "cell_type": "code",
   "execution_count": 42,
   "id": "sexual-wages",
   "metadata": {
    "execution": {
     "iopub.execute_input": "2022-02-11T00:27:51.841506Z",
     "iopub.status.busy": "2022-02-11T00:27:51.840823Z",
     "iopub.status.idle": "2022-02-11T00:27:51.843366Z",
     "shell.execute_reply": "2022-02-11T00:27:51.842832Z"
    },
    "papermill": {
     "duration": 0.044527,
     "end_time": "2022-02-11T00:27:51.843487",
     "exception": false,
     "start_time": "2022-02-11T00:27:51.798960",
     "status": "completed"
    },
    "tags": []
   },
   "outputs": [],
   "source": [
    "# #hide_input\n",
    "# fig, ax = plt.subplots(figsize=(15, 8))\n",
    "# animator = animation.FuncAnimation(fig, draw_barchart, frames=range(g.day.values.min(), g.day.values.max()))\n",
    "# HTML(animator.to_jshtml())\n",
    "# # or use animator.to_html5_video() or animator.save() "
   ]
  },
  {
   "cell_type": "code",
   "execution_count": null,
   "id": "australian-container",
   "metadata": {
    "papermill": {
     "duration": 0.037494,
     "end_time": "2022-02-11T00:27:51.918276",
     "exception": false,
     "start_time": "2022-02-11T00:27:51.880782",
     "status": "completed"
    },
    "tags": []
   },
   "outputs": [],
   "source": []
  },
  {
   "cell_type": "code",
   "execution_count": null,
   "id": "mediterranean-pontiac",
   "metadata": {
    "papermill": {
     "duration": 0.040609,
     "end_time": "2022-02-11T00:27:51.997747",
     "exception": false,
     "start_time": "2022-02-11T00:27:51.957138",
     "status": "completed"
    },
    "tags": []
   },
   "outputs": [],
   "source": []
  },
  {
   "cell_type": "code",
   "execution_count": null,
   "id": "aging-legislature",
   "metadata": {
    "papermill": {
     "duration": 0.037324,
     "end_time": "2022-02-11T00:27:52.071629",
     "exception": false,
     "start_time": "2022-02-11T00:27:52.034305",
     "status": "completed"
    },
    "tags": []
   },
   "outputs": [],
   "source": []
  }
 ],
 "metadata": {
  "kernelspec": {
   "display_name": "Python 3",
   "language": "python",
   "name": "python3"
  },
  "language_info": {
   "codemirror_mode": {
    "name": "ipython",
    "version": 3
   },
   "file_extension": ".py",
   "mimetype": "text/x-python",
   "name": "python",
   "nbconvert_exporter": "python",
   "pygments_lexer": "ipython3",
   "version": "3.6.15"
  },
  "papermill": {
   "duration": 7.327978,
   "end_time": "2022-02-11T00:27:52.432689",
   "environment_variables": {},
   "exception": null,
   "input_path": "2020-03-21-covid19exp.ipynb",
   "output_path": "2020-03-21-covid19exp.ipynb",
   "parameters": {},
   "start_time": "2022-02-11T00:27:45.104711",
   "version": "2.0.0"
  }
 },
 "nbformat": 4,
 "nbformat_minor": 5
}