{
 "cells": [
  {
   "cell_type": "markdown",
   "id": "muslim-click",
   "metadata": {
    "papermill": {
     "duration": 0.030855,
     "end_time": "2022-07-04T00:47:45.414600",
     "exception": false,
     "start_time": "2022-07-04T00:47:45.383745",
     "status": "completed"
    },
    "tags": []
   },
   "source": [
    "# COVID-19 Case Race\n",
    "> A race chart to see rising cases around the world\n",
    "\n",
    "- author: Hargun Oberoi\n",
    "- image: images/covid-overview.png\n",
    "- hide: false\n",
    "- badges: false"
   ]
  },
  {
   "cell_type": "code",
   "execution_count": 1,
   "id": "proof-material",
   "metadata": {
    "execution": {
     "iopub.execute_input": "2022-07-04T00:47:45.477631Z",
     "iopub.status.busy": "2022-07-04T00:47:45.477051Z",
     "iopub.status.idle": "2022-07-04T00:47:45.800210Z",
     "shell.execute_reply": "2022-07-04T00:47:45.799722Z"
    },
    "papermill": {
     "duration": 0.358314,
     "end_time": "2022-07-04T00:47:45.800341",
     "exception": false,
     "start_time": "2022-07-04T00:47:45.442027",
     "status": "completed"
    },
    "tags": []
   },
   "outputs": [],
   "source": [
    "#hide\n",
    "import numpy as np\n",
    "import pandas as pd\n",
    "from jinja2 import Template\n",
    "from IPython.display import HTML"
   ]
  },
  {
   "cell_type": "code",
   "execution_count": 2,
   "id": "developed-terminology",
   "metadata": {
    "execution": {
     "iopub.execute_input": "2022-07-04T00:47:45.856028Z",
     "iopub.status.busy": "2022-07-04T00:47:45.855487Z",
     "iopub.status.idle": "2022-07-04T00:47:45.857774Z",
     "shell.execute_reply": "2022-07-04T00:47:45.858268Z"
    },
    "papermill": {
     "duration": 0.032341,
     "end_time": "2022-07-04T00:47:45.858384",
     "exception": false,
     "start_time": "2022-07-04T00:47:45.826043",
     "status": "completed"
    },
    "tags": []
   },
   "outputs": [],
   "source": [
    "#hide\n",
    "\n",
    "# FETCH\n",
    "base_url = 'https://raw.githubusercontent.com/pratapvardhan/notebooks/master/covid19/'\n",
    "paths = {\n",
    "    'mapping': base_url + 'mapping_countries.csv',\n",
    "    'overview': base_url + 'overview.tpl'\n",
    "}"
   ]
  },
  {
   "cell_type": "code",
   "execution_count": 3,
   "id": "dynamic-saver",
   "metadata": {
    "execution": {
     "iopub.execute_input": "2022-07-04T00:47:45.918228Z",
     "iopub.status.busy": "2022-07-04T00:47:45.916600Z",
     "iopub.status.idle": "2022-07-04T00:47:45.920933Z",
     "shell.execute_reply": "2022-07-04T00:47:45.921448Z"
    },
    "papermill": {
     "duration": 0.037925,
     "end_time": "2022-07-04T00:47:45.921566",
     "exception": false,
     "start_time": "2022-07-04T00:47:45.883641",
     "status": "completed"
    },
    "tags": []
   },
   "outputs": [
    {
     "data": {
      "text/plain": [
       "'https://raw.githubusercontent.com/pratapvardhan/notebooks/master/covid19/mapping_countries.csv'"
      ]
     },
     "execution_count": 3,
     "metadata": {},
     "output_type": "execute_result"
    }
   ],
   "source": [
    "#hide\n",
    "paths['mapping']"
   ]
  },
  {
   "cell_type": "code",
   "execution_count": 4,
   "id": "urban-software",
   "metadata": {
    "execution": {
     "iopub.execute_input": "2022-07-04T00:47:45.978004Z",
     "iopub.status.busy": "2022-07-04T00:47:45.977480Z",
     "iopub.status.idle": "2022-07-04T00:47:45.979812Z",
     "shell.execute_reply": "2022-07-04T00:47:45.980302Z"
    },
    "papermill": {
     "duration": 0.033251,
     "end_time": "2022-07-04T00:47:45.980413",
     "exception": false,
     "start_time": "2022-07-04T00:47:45.947162",
     "status": "completed"
    },
    "tags": []
   },
   "outputs": [],
   "source": [
    "#hide\n",
    "def get_mappings(url):\n",
    "    df = pd.read_csv(url)\n",
    "    return {\n",
    "        'df': df,\n",
    "        'replace.country': dict(df.dropna(subset=['Name']).set_index('Country')['Name']),\n",
    "        'map.continent': dict(df.set_index('Name')['Continent'])\n",
    "    }"
   ]
  },
  {
   "cell_type": "code",
   "execution_count": 5,
   "id": "intimate-machinery",
   "metadata": {
    "execution": {
     "iopub.execute_input": "2022-07-04T00:47:46.036498Z",
     "iopub.status.busy": "2022-07-04T00:47:46.035982Z",
     "iopub.status.idle": "2022-07-04T00:47:46.064304Z",
     "shell.execute_reply": "2022-07-04T00:47:46.063755Z"
    },
    "papermill": {
     "duration": 0.058488,
     "end_time": "2022-07-04T00:47:46.064405",
     "exception": false,
     "start_time": "2022-07-04T00:47:46.005917",
     "status": "completed"
    },
    "tags": []
   },
   "outputs": [],
   "source": [
    "#hide\n",
    "mapping = get_mappings(paths['mapping'])"
   ]
  },
  {
   "cell_type": "code",
   "execution_count": 6,
   "id": "certified-tactics",
   "metadata": {
    "execution": {
     "iopub.execute_input": "2022-07-04T00:47:46.120793Z",
     "iopub.status.busy": "2022-07-04T00:47:46.120277Z",
     "iopub.status.idle": "2022-07-04T00:47:46.122696Z",
     "shell.execute_reply": "2022-07-04T00:47:46.123202Z"
    },
    "papermill": {
     "duration": 0.033208,
     "end_time": "2022-07-04T00:47:46.123318",
     "exception": false,
     "start_time": "2022-07-04T00:47:46.090110",
     "status": "completed"
    },
    "tags": []
   },
   "outputs": [],
   "source": [
    "#hide\n",
    "def get_template(path):\n",
    "    from urllib.parse import urlparse\n",
    "    if bool(urlparse(path).netloc):\n",
    "        from urllib.request import urlopen\n",
    "        return urlopen(path).read().decode('utf8')\n",
    "    return open(path).read()"
   ]
  },
  {
   "cell_type": "code",
   "execution_count": 7,
   "id": "realistic-blast",
   "metadata": {
    "execution": {
     "iopub.execute_input": "2022-07-04T00:47:46.178701Z",
     "iopub.status.busy": "2022-07-04T00:47:46.178178Z",
     "iopub.status.idle": "2022-07-04T00:47:46.180362Z",
     "shell.execute_reply": "2022-07-04T00:47:46.180855Z"
    },
    "papermill": {
     "duration": 0.032231,
     "end_time": "2022-07-04T00:47:46.180966",
     "exception": false,
     "start_time": "2022-07-04T00:47:46.148735",
     "status": "completed"
    },
    "tags": []
   },
   "outputs": [],
   "source": [
    "#hide\n",
    "def get_frame(name):\n",
    "    url = (\n",
    "        'https://raw.githubusercontent.com/CSSEGISandData/COVID-19/master/csse_covid_19_data/'\n",
    "        f'csse_covid_19_time_series/time_series_covid19_{name}_global.csv')\n",
    "    df = pd.read_csv(url)\n",
    "    # rename countries\n",
    "    df['Country/Region'] = df['Country/Region'].replace(mapping['replace.country'])\n",
    "    return df"
   ]
  },
  {
   "cell_type": "code",
   "execution_count": 8,
   "id": "affiliated-characterization",
   "metadata": {
    "execution": {
     "iopub.execute_input": "2022-07-04T00:47:46.238157Z",
     "iopub.status.busy": "2022-07-04T00:47:46.237507Z",
     "iopub.status.idle": "2022-07-04T00:47:46.239057Z",
     "shell.execute_reply": "2022-07-04T00:47:46.239524Z"
    },
    "papermill": {
     "duration": 0.033101,
     "end_time": "2022-07-04T00:47:46.239646",
     "exception": false,
     "start_time": "2022-07-04T00:47:46.206545",
     "status": "completed"
    },
    "tags": []
   },
   "outputs": [],
   "source": [
    "#hide\n",
    "def get_dates(df):\n",
    "    dt_cols = df.columns[~df.columns.isin(['Province/State', 'Country/Region', 'Lat', 'Long'])]\n",
    "    LAST_DATE_I = -1\n",
    "    # sometimes last column may be empty, then go backwards\n",
    "    for i in range(-1, -len(dt_cols), -1):\n",
    "        if not df[dt_cols[i]].fillna(0).eq(0).all():\n",
    "            LAST_DATE_I = i\n",
    "            break\n",
    "    return LAST_DATE_I, dt_cols"
   ]
  },
  {
   "cell_type": "code",
   "execution_count": 9,
   "id": "recent-optimization",
   "metadata": {
    "execution": {
     "iopub.execute_input": "2022-07-04T00:47:46.302313Z",
     "iopub.status.busy": "2022-07-04T00:47:46.301729Z",
     "iopub.status.idle": "2022-07-04T00:47:46.631438Z",
     "shell.execute_reply": "2022-07-04T00:47:46.630855Z"
    },
    "papermill": {
     "duration": 0.363091,
     "end_time": "2022-07-04T00:47:46.631582",
     "exception": false,
     "start_time": "2022-07-04T00:47:46.268491",
     "status": "completed"
    },
    "tags": []
   },
   "outputs": [],
   "source": [
    "#hide\n",
    "COL_REGION = 'Country/Region'\n",
    "# Confirmed, Recovered, Deaths\n",
    "df = get_frame('confirmed')\n",
    "# dft_: timeseries, dfc_: today country agg\n",
    "dft_cases = df\n",
    "dft_deaths = get_frame('deaths')\n",
    "dft_recovered = get_frame('recovered')\n",
    "LAST_DATE_I, dt_cols = get_dates(df)"
   ]
  },
  {
   "cell_type": "code",
   "execution_count": 10,
   "id": "absolute-copper",
   "metadata": {
    "execution": {
     "iopub.execute_input": "2022-07-04T00:47:46.696734Z",
     "iopub.status.busy": "2022-07-04T00:47:46.696039Z",
     "iopub.status.idle": "2022-07-04T00:47:46.698561Z",
     "shell.execute_reply": "2022-07-04T00:47:46.698010Z"
    },
    "papermill": {
     "duration": 0.037167,
     "end_time": "2022-07-04T00:47:46.698664",
     "exception": false,
     "start_time": "2022-07-04T00:47:46.661497",
     "status": "completed"
    },
    "tags": []
   },
   "outputs": [],
   "source": [
    "#hide\n",
    "LAST_DATE_I, dt_cols = get_dates(df)\n",
    "dt_today =dt_cols[LAST_DATE_I]\n",
    "# dt_5day = dt_cols[LAST_DATE_I - 5]\n",
    "dt_yday = dt_cols[LAST_DATE_I - 1]"
   ]
  },
  {
   "cell_type": "code",
   "execution_count": 11,
   "id": "restricted-sheriff",
   "metadata": {
    "execution": {
     "iopub.execute_input": "2022-07-04T00:47:46.756343Z",
     "iopub.status.busy": "2022-07-04T00:47:46.755808Z",
     "iopub.status.idle": "2022-07-04T00:47:46.764061Z",
     "shell.execute_reply": "2022-07-04T00:47:46.763628Z"
    },
    "papermill": {
     "duration": 0.039784,
     "end_time": "2022-07-04T00:47:46.764164",
     "exception": false,
     "start_time": "2022-07-04T00:47:46.724380",
     "status": "completed"
    },
    "tags": []
   },
   "outputs": [],
   "source": [
    "#hide\n",
    "dfc_cases = dft_cases.groupby(COL_REGION)[dt_today].sum()\n",
    "dfc_deaths = dft_deaths.groupby(COL_REGION)[dt_today].sum()\n",
    "# dfp_cases = dft_cases.groupby(COL_REGION)[dt_5day].sum()\n",
    "# dfp_deaths = dft_deaths.groupby(COL_REGION)[dt_5day].sum()\n",
    "dfp_cases = dft_cases.groupby(COL_REGION)[dt_yday].sum()\n",
    "dfp_deaths = dft_deaths.groupby(COL_REGION)[dt_yday].sum()"
   ]
  },
  {
   "cell_type": "code",
   "execution_count": 12,
   "id": "deluxe-hepatitis",
   "metadata": {
    "execution": {
     "iopub.execute_input": "2022-07-04T00:47:46.818792Z",
     "iopub.status.busy": "2022-07-04T00:47:46.818267Z",
     "iopub.status.idle": "2022-07-04T00:47:46.826257Z",
     "shell.execute_reply": "2022-07-04T00:47:46.827409Z"
    },
    "papermill": {
     "duration": 0.037514,
     "end_time": "2022-07-04T00:47:46.827542",
     "exception": false,
     "start_time": "2022-07-04T00:47:46.790028",
     "status": "completed"
    },
    "tags": []
   },
   "outputs": [],
   "source": [
    "#hide\n",
    "df_table = (pd.DataFrame(dict(Cases = dfc_cases, Deaths = dfc_deaths, PCases = dfp_cases, PDeaths = dfp_deaths))\n",
    "            .sort_values(by = ['Cases','Deaths'], ascending = [False, False])\n",
    "            .reset_index())"
   ]
  },
  {
   "cell_type": "code",
   "execution_count": 13,
   "id": "educational-chancellor",
   "metadata": {
    "execution": {
     "iopub.execute_input": "2022-07-04T00:47:46.897284Z",
     "iopub.status.busy": "2022-07-04T00:47:46.896707Z",
     "iopub.status.idle": "2022-07-04T00:47:46.904303Z",
     "shell.execute_reply": "2022-07-04T00:47:46.903873Z"
    },
    "papermill": {
     "duration": 0.051044,
     "end_time": "2022-07-04T00:47:46.904407",
     "exception": false,
     "start_time": "2022-07-04T00:47:46.853363",
     "status": "completed"
    },
    "tags": []
   },
   "outputs": [
    {
     "data": {
      "text/html": [
       "<div>\n",
       "<style scoped>\n",
       "    .dataframe tbody tr th:only-of-type {\n",
       "        vertical-align: middle;\n",
       "    }\n",
       "\n",
       "    .dataframe tbody tr th {\n",
       "        vertical-align: top;\n",
       "    }\n",
       "\n",
       "    .dataframe thead th {\n",
       "        text-align: right;\n",
       "    }\n",
       "</style>\n",
       "<table border=\"1\" class=\"dataframe\">\n",
       "  <thead>\n",
       "    <tr style=\"text-align: right;\">\n",
       "      <th></th>\n",
       "      <th>Country/Region</th>\n",
       "      <th>Cases</th>\n",
       "      <th>Deaths</th>\n",
       "      <th>PCases</th>\n",
       "      <th>PDeaths</th>\n",
       "      <th>Cases (+)</th>\n",
       "      <th>Deaths (+)</th>\n",
       "      <th>Fatality Rate</th>\n",
       "      <th>Continent</th>\n",
       "    </tr>\n",
       "  </thead>\n",
       "  <tbody>\n",
       "    <tr>\n",
       "      <th>0</th>\n",
       "      <td>US</td>\n",
       "      <td>87838623</td>\n",
       "      <td>1017846</td>\n",
       "      <td>87821971</td>\n",
       "      <td>1017817</td>\n",
       "      <td>16652</td>\n",
       "      <td>29</td>\n",
       "      <td>1.16</td>\n",
       "      <td>North America</td>\n",
       "    </tr>\n",
       "    <tr>\n",
       "      <th>1</th>\n",
       "      <td>India</td>\n",
       "      <td>43502429</td>\n",
       "      <td>525199</td>\n",
       "      <td>43486326</td>\n",
       "      <td>525168</td>\n",
       "      <td>16103</td>\n",
       "      <td>31</td>\n",
       "      <td>1.21</td>\n",
       "      <td>Asia</td>\n",
       "    </tr>\n",
       "    <tr>\n",
       "      <th>2</th>\n",
       "      <td>Brazil</td>\n",
       "      <td>32471847</td>\n",
       "      <td>671858</td>\n",
       "      <td>32434063</td>\n",
       "      <td>671700</td>\n",
       "      <td>37784</td>\n",
       "      <td>158</td>\n",
       "      <td>2.07</td>\n",
       "      <td>South America</td>\n",
       "    </tr>\n",
       "    <tr>\n",
       "      <th>3</th>\n",
       "      <td>France</td>\n",
       "      <td>31410383</td>\n",
       "      <td>150624</td>\n",
       "      <td>31410383</td>\n",
       "      <td>150624</td>\n",
       "      <td>0</td>\n",
       "      <td>0</td>\n",
       "      <td>0.48</td>\n",
       "      <td>Europe</td>\n",
       "    </tr>\n",
       "    <tr>\n",
       "      <th>4</th>\n",
       "      <td>Germany</td>\n",
       "      <td>28392630</td>\n",
       "      <td>141292</td>\n",
       "      <td>28392629</td>\n",
       "      <td>141292</td>\n",
       "      <td>1</td>\n",
       "      <td>0</td>\n",
       "      <td>0.50</td>\n",
       "      <td>Europe</td>\n",
       "    </tr>\n",
       "  </tbody>\n",
       "</table>\n",
       "</div>"
      ],
      "text/plain": [
       "  Country/Region     Cases   Deaths    PCases  PDeaths  Cases (+)  Deaths (+)  \\\n",
       "0             US  87838623  1017846  87821971  1017817      16652          29   \n",
       "1          India  43502429   525199  43486326   525168      16103          31   \n",
       "2         Brazil  32471847   671858  32434063   671700      37784         158   \n",
       "3         France  31410383   150624  31410383   150624          0           0   \n",
       "4        Germany  28392630   141292  28392629   141292          1           0   \n",
       "\n",
       "   Fatality Rate      Continent  \n",
       "0           1.16  North America  \n",
       "1           1.21           Asia  \n",
       "2           2.07  South America  \n",
       "3           0.48         Europe  \n",
       "4           0.50         Europe  "
      ]
     },
     "execution_count": 13,
     "metadata": {},
     "output_type": "execute_result"
    }
   ],
   "source": [
    "#hide\n",
    "for c in 'Cases, Deaths'.split(', '):\n",
    "    df_table[f'{c} (+)'] = (df_table[c] - df_table[f'P{c}']).clip(0)\n",
    "    #Clip ça veut dire, les chiffres negatif sont interdit\n",
    "df_table['Fatality Rate'] = (100* df_table['Deaths']/ df_table['Cases']).round(2)\n",
    "df_table['Continent'] = df_table['Country/Region'].map(mapping['map.continent'])\n",
    "df_table.head(5)"
   ]
  },
  {
   "cell_type": "code",
   "execution_count": 14,
   "id": "aboriginal-bulgaria",
   "metadata": {
    "execution": {
     "iopub.execute_input": "2022-07-04T00:47:46.962538Z",
     "iopub.status.busy": "2022-07-04T00:47:46.962020Z",
     "iopub.status.idle": "2022-07-04T00:47:46.964337Z",
     "shell.execute_reply": "2022-07-04T00:47:46.964830Z"
    },
    "papermill": {
     "duration": 0.034207,
     "end_time": "2022-07-04T00:47:46.964948",
     "exception": false,
     "start_time": "2022-07-04T00:47:46.930741",
     "status": "completed"
    },
    "tags": []
   },
   "outputs": [],
   "source": [
    "#hide\n",
    "#delete problematic countries from table\n",
    "df_table = df_table[~df_table['Country/Region'].isin(['Cape Verde', 'Cruise Ship', 'Kosovo'])]"
   ]
  },
  {
   "cell_type": "code",
   "execution_count": 15,
   "id": "fantastic-effect",
   "metadata": {
    "execution": {
     "iopub.execute_input": "2022-07-04T00:47:47.025742Z",
     "iopub.status.busy": "2022-07-04T00:47:47.025165Z",
     "iopub.status.idle": "2022-07-04T00:47:47.043239Z",
     "shell.execute_reply": "2022-07-04T00:47:47.042794Z"
    },
    "papermill": {
     "duration": 0.052527,
     "end_time": "2022-07-04T00:47:47.043347",
     "exception": false,
     "start_time": "2022-07-04T00:47:46.990820",
     "status": "completed"
    },
    "tags": []
   },
   "outputs": [
    {
     "data": {
      "text/html": [
       "<div>\n",
       "<style scoped>\n",
       "    .dataframe tbody tr th:only-of-type {\n",
       "        vertical-align: middle;\n",
       "    }\n",
       "\n",
       "    .dataframe tbody tr th {\n",
       "        vertical-align: top;\n",
       "    }\n",
       "\n",
       "    .dataframe thead th {\n",
       "        text-align: right;\n",
       "    }\n",
       "</style>\n",
       "<table border=\"1\" class=\"dataframe\">\n",
       "  <thead>\n",
       "    <tr style=\"text-align: right;\">\n",
       "      <th></th>\n",
       "      <th>Country/Region</th>\n",
       "      <th>Cases</th>\n",
       "      <th>Deaths</th>\n",
       "      <th>PCases</th>\n",
       "      <th>PDeaths</th>\n",
       "      <th>Cases (+)</th>\n",
       "      <th>Deaths (+)</th>\n",
       "      <th>Fatality Rate</th>\n",
       "      <th>Continent</th>\n",
       "    </tr>\n",
       "  </thead>\n",
       "  <tbody>\n",
       "    <tr>\n",
       "      <th>0</th>\n",
       "      <td>US</td>\n",
       "      <td>87838623</td>\n",
       "      <td>1017846</td>\n",
       "      <td>87821971</td>\n",
       "      <td>1017817</td>\n",
       "      <td>16652</td>\n",
       "      <td>29</td>\n",
       "      <td>1.2</td>\n",
       "      <td>North America</td>\n",
       "    </tr>\n",
       "    <tr>\n",
       "      <th>1</th>\n",
       "      <td>India</td>\n",
       "      <td>43502429</td>\n",
       "      <td>525199</td>\n",
       "      <td>43486326</td>\n",
       "      <td>525168</td>\n",
       "      <td>16103</td>\n",
       "      <td>31</td>\n",
       "      <td>1.2</td>\n",
       "      <td>Asia</td>\n",
       "    </tr>\n",
       "    <tr>\n",
       "      <th>2</th>\n",
       "      <td>Brazil</td>\n",
       "      <td>32471847</td>\n",
       "      <td>671858</td>\n",
       "      <td>32434063</td>\n",
       "      <td>671700</td>\n",
       "      <td>37784</td>\n",
       "      <td>158</td>\n",
       "      <td>2.1</td>\n",
       "      <td>South America</td>\n",
       "    </tr>\n",
       "    <tr>\n",
       "      <th>3</th>\n",
       "      <td>France</td>\n",
       "      <td>31410383</td>\n",
       "      <td>150624</td>\n",
       "      <td>31410383</td>\n",
       "      <td>150624</td>\n",
       "      <td>0</td>\n",
       "      <td>0</td>\n",
       "      <td>0.5</td>\n",
       "      <td>Europe</td>\n",
       "    </tr>\n",
       "    <tr>\n",
       "      <th>4</th>\n",
       "      <td>Germany</td>\n",
       "      <td>28392630</td>\n",
       "      <td>141292</td>\n",
       "      <td>28392629</td>\n",
       "      <td>141292</td>\n",
       "      <td>1</td>\n",
       "      <td>0</td>\n",
       "      <td>0.5</td>\n",
       "      <td>Europe</td>\n",
       "    </tr>\n",
       "  </tbody>\n",
       "</table>\n",
       "</div>"
      ],
      "text/plain": [
       "  Country/Region     Cases   Deaths    PCases  PDeaths  Cases (+)  Deaths (+)  \\\n",
       "0             US  87838623  1017846  87821971  1017817      16652          29   \n",
       "1          India  43502429   525199  43486326   525168      16103          31   \n",
       "2         Brazil  32471847   671858  32434063   671700      37784         158   \n",
       "3         France  31410383   150624  31410383   150624          0           0   \n",
       "4        Germany  28392630   141292  28392629   141292          1           0   \n",
       "\n",
       "   Fatality Rate      Continent  \n",
       "0            1.2  North America  \n",
       "1            1.2           Asia  \n",
       "2            2.1  South America  \n",
       "3            0.5         Europe  \n",
       "4            0.5         Europe  "
      ]
     },
     "execution_count": 15,
     "metadata": {},
     "output_type": "execute_result"
    }
   ],
   "source": [
    "#hide\n",
    "df_table = (pd.DataFrame(dict(Cases=dfc_cases, Deaths=dfc_deaths, PCases=dfp_cases, PDeaths=dfp_deaths))\n",
    "             .sort_values(by=['Cases', 'Deaths'], ascending=[False, False])\n",
    "             .reset_index())\n",
    "df_table.rename(columns={'index': 'Country/Region'}, inplace=True)\n",
    "for c in 'Cases, Deaths'.split(', '):\n",
    "    df_table[f'{c} (+)'] = (df_table[c] - df_table[f'P{c}']).clip(0)  # DATA BUG\n",
    "df_table['Fatality Rate'] = (100 * df_table['Deaths'] / df_table['Cases']).round(1)\n",
    "df_table['Continent'] = df_table['Country/Region'].map(mapping['map.continent'])\n",
    "df_table.head(5)"
   ]
  },
  {
   "cell_type": "code",
   "execution_count": 16,
   "id": "fewer-occasion",
   "metadata": {
    "execution": {
     "iopub.execute_input": "2022-07-04T00:47:47.101921Z",
     "iopub.status.busy": "2022-07-04T00:47:47.101377Z",
     "iopub.status.idle": "2022-07-04T00:47:47.104577Z",
     "shell.execute_reply": "2022-07-04T00:47:47.105090Z"
    },
    "papermill": {
     "duration": 0.035068,
     "end_time": "2022-07-04T00:47:47.105208",
     "exception": false,
     "start_time": "2022-07-04T00:47:47.070140",
     "status": "completed"
    },
    "tags": []
   },
   "outputs": [],
   "source": [
    "#hide\n",
    "#delete problematic countries from table\n",
    "df_table = df_table[~df_table['Country/Region'].isin(['Cape Verde', 'Cruise Ship', 'Kosovo'])]"
   ]
  },
  {
   "cell_type": "code",
   "execution_count": 17,
   "id": "related-center",
   "metadata": {
    "execution": {
     "iopub.execute_input": "2022-07-04T00:47:47.168959Z",
     "iopub.status.busy": "2022-07-04T00:47:47.168437Z",
     "iopub.status.idle": "2022-07-04T00:47:47.177888Z",
     "shell.execute_reply": "2022-07-04T00:47:47.180113Z"
    },
    "papermill": {
     "duration": 0.048942,
     "end_time": "2022-07-04T00:47:47.180239",
     "exception": false,
     "start_time": "2022-07-04T00:47:47.131297",
     "status": "completed"
    },
    "tags": []
   },
   "outputs": [],
   "source": [
    "#hide\n",
    "metrics = [df_table.columns[index] for index in [1,2,5,6]]\n",
    "# s_china = df_table[df_table['Country/Region'].eq('China')][metrics].sum().add_prefix('China ')\n",
    "s_us = df_table[df_table['Country/Region'].eq('US')][metrics].sum().add_prefix('US ')\n",
    "s_eu = df_table[df_table['Continent'].eq('Europe')][metrics].sum().add_prefix('EU ')\n",
    "s_ind = df_table[df_table['Country/Region'].eq('India')][metrics].sum().add_prefix('India ')\n",
    "summary = {'updated': pd.to_datetime(dt_today), 'since': pd.to_datetime(dt_yday)}\n",
    "summary = {'updated': pd.to_datetime(dt_today), 'since': pd.to_datetime(dt_yday)}\n",
    "summary = {**summary, **df_table[metrics].sum(), **s_ind, **s_us, **s_eu}"
   ]
  },
  {
   "cell_type": "code",
   "execution_count": 18,
   "id": "engaging-syndrome",
   "metadata": {
    "execution": {
     "iopub.execute_input": "2022-07-04T00:47:47.239127Z",
     "iopub.status.busy": "2022-07-04T00:47:47.238587Z",
     "iopub.status.idle": "2022-07-04T00:47:47.257856Z",
     "shell.execute_reply": "2022-07-04T00:47:47.257407Z"
    },
    "papermill": {
     "duration": 0.051146,
     "end_time": "2022-07-04T00:47:47.257970",
     "exception": false,
     "start_time": "2022-07-04T00:47:47.206824",
     "status": "completed"
    },
    "tags": []
   },
   "outputs": [],
   "source": [
    "#hide\n",
    "dft_ct_new_cases = dft_cases.groupby(COL_REGION)[dt_cols].sum().diff(axis=1).fillna(0).astype(int)"
   ]
  },
  {
   "cell_type": "code",
   "execution_count": 19,
   "id": "neutral-assignment",
   "metadata": {
    "execution": {
     "iopub.execute_input": "2022-07-04T00:47:47.318401Z",
     "iopub.status.busy": "2022-07-04T00:47:47.317861Z",
     "iopub.status.idle": "2022-07-04T00:47:47.320305Z",
     "shell.execute_reply": "2022-07-04T00:47:47.320786Z"
    },
    "papermill": {
     "duration": 0.036226,
     "end_time": "2022-07-04T00:47:47.320909",
     "exception": false,
     "start_time": "2022-07-04T00:47:47.284683",
     "status": "completed"
    },
    "tags": []
   },
   "outputs": [],
   "source": [
    "#hide\n",
    "everydaycases = dft_ct_new_cases.cumsum(axis=1)"
   ]
  },
  {
   "cell_type": "code",
   "execution_count": 20,
   "id": "parliamentary-calgary",
   "metadata": {
    "execution": {
     "iopub.execute_input": "2022-07-04T00:47:47.378610Z",
     "iopub.status.busy": "2022-07-04T00:47:47.378081Z",
     "iopub.status.idle": "2022-07-04T00:47:47.986989Z",
     "shell.execute_reply": "2022-07-04T00:47:47.986406Z"
    },
    "papermill": {
     "duration": 0.639805,
     "end_time": "2022-07-04T00:47:47.987129",
     "exception": false,
     "start_time": "2022-07-04T00:47:47.347324",
     "status": "completed"
    },
    "tags": []
   },
   "outputs": [],
   "source": [
    "#hide\n",
    "import pandas as pd\n",
    "import matplotlib.pyplot as plt\n",
    "import matplotlib.ticker as ticker\n",
    "import matplotlib.animation as animation\n",
    "from IPython.display import HTML"
   ]
  },
  {
   "cell_type": "code",
   "execution_count": 21,
   "id": "lasting-extraction",
   "metadata": {
    "execution": {
     "iopub.execute_input": "2022-07-04T00:47:48.048080Z",
     "iopub.status.busy": "2022-07-04T00:47:48.047546Z",
     "iopub.status.idle": "2022-07-04T00:47:48.054229Z",
     "shell.execute_reply": "2022-07-04T00:47:48.054725Z"
    },
    "papermill": {
     "duration": 0.039779,
     "end_time": "2022-07-04T00:47:48.054851",
     "exception": false,
     "start_time": "2022-07-04T00:47:48.015072",
     "status": "completed"
    },
    "tags": []
   },
   "outputs": [],
   "source": [
    "#hide\n",
    "t = everydaycases.stack()"
   ]
  },
  {
   "cell_type": "code",
   "execution_count": 22,
   "id": "premier-sleeve",
   "metadata": {
    "execution": {
     "iopub.execute_input": "2022-07-04T00:47:48.112299Z",
     "iopub.status.busy": "2022-07-04T00:47:48.111771Z",
     "iopub.status.idle": "2022-07-04T00:47:48.123230Z",
     "shell.execute_reply": "2022-07-04T00:47:48.123727Z"
    },
    "papermill": {
     "duration": 0.042455,
     "end_time": "2022-07-04T00:47:48.123849",
     "exception": false,
     "start_time": "2022-07-04T00:47:48.081394",
     "status": "completed"
    },
    "tags": []
   },
   "outputs": [],
   "source": [
    "#hide\n",
    "g = t.reset_index(['Country/Region'])"
   ]
  },
  {
   "cell_type": "code",
   "execution_count": 23,
   "id": "distributed-pittsburgh",
   "metadata": {
    "execution": {
     "iopub.execute_input": "2022-07-04T00:47:48.181674Z",
     "iopub.status.busy": "2022-07-04T00:47:48.180945Z",
     "iopub.status.idle": "2022-07-04T00:47:48.182403Z",
     "shell.execute_reply": "2022-07-04T00:47:48.183029Z"
    },
    "papermill": {
     "duration": 0.032952,
     "end_time": "2022-07-04T00:47:48.183184",
     "exception": false,
     "start_time": "2022-07-04T00:47:48.150232",
     "status": "completed"
    },
    "tags": []
   },
   "outputs": [],
   "source": [
    "#hide\n",
    "g.index.name = 'date'"
   ]
  },
  {
   "cell_type": "code",
   "execution_count": 24,
   "id": "naked-donor",
   "metadata": {
    "execution": {
     "iopub.execute_input": "2022-07-04T00:47:48.247674Z",
     "iopub.status.busy": "2022-07-04T00:47:48.246989Z",
     "iopub.status.idle": "2022-07-04T00:47:48.249359Z",
     "shell.execute_reply": "2022-07-04T00:47:48.248889Z"
    },
    "papermill": {
     "duration": 0.035788,
     "end_time": "2022-07-04T00:47:48.249465",
     "exception": false,
     "start_time": "2022-07-04T00:47:48.213677",
     "status": "completed"
    },
    "tags": []
   },
   "outputs": [],
   "source": [
    "# #hide\n",
    "# g = g.reset_index(['date'])"
   ]
  },
  {
   "cell_type": "code",
   "execution_count": 25,
   "id": "incomplete-mustang",
   "metadata": {
    "execution": {
     "iopub.execute_input": "2022-07-04T00:47:48.306453Z",
     "iopub.status.busy": "2022-07-04T00:47:48.305757Z",
     "iopub.status.idle": "2022-07-04T00:47:48.308270Z",
     "shell.execute_reply": "2022-07-04T00:47:48.307627Z"
    },
    "papermill": {
     "duration": 0.032506,
     "end_time": "2022-07-04T00:47:48.308393",
     "exception": false,
     "start_time": "2022-07-04T00:47:48.275887",
     "status": "completed"
    },
    "tags": []
   },
   "outputs": [],
   "source": [
    "#hide\n",
    "# g.head()"
   ]
  },
  {
   "cell_type": "code",
   "execution_count": 26,
   "id": "specific-kruger",
   "metadata": {
    "execution": {
     "iopub.execute_input": "2022-07-04T00:47:48.371891Z",
     "iopub.status.busy": "2022-07-04T00:47:48.371352Z",
     "iopub.status.idle": "2022-07-04T00:47:48.373491Z",
     "shell.execute_reply": "2022-07-04T00:47:48.373872Z"
    },
    "papermill": {
     "duration": 0.035576,
     "end_time": "2022-07-04T00:47:48.373989",
     "exception": false,
     "start_time": "2022-07-04T00:47:48.338413",
     "status": "completed"
    },
    "tags": []
   },
   "outputs": [],
   "source": [
    "#hide\n",
    "# g.columns = ['date','country','cases']"
   ]
  },
  {
   "cell_type": "code",
   "execution_count": 27,
   "id": "tender-conversion",
   "metadata": {
    "execution": {
     "iopub.execute_input": "2022-07-04T00:47:48.430649Z",
     "iopub.status.busy": "2022-07-04T00:47:48.429965Z",
     "iopub.status.idle": "2022-07-04T00:47:48.431708Z",
     "shell.execute_reply": "2022-07-04T00:47:48.432155Z"
    },
    "papermill": {
     "duration": 0.031993,
     "end_time": "2022-07-04T00:47:48.432284",
     "exception": false,
     "start_time": "2022-07-04T00:47:48.400291",
     "status": "completed"
    },
    "tags": []
   },
   "outputs": [],
   "source": [
    "#hide\n",
    "# g['continent'] = g.country"
   ]
  },
  {
   "cell_type": "code",
   "execution_count": 28,
   "id": "substantial-wilderness",
   "metadata": {
    "execution": {
     "iopub.execute_input": "2022-07-04T00:47:48.495923Z",
     "iopub.status.busy": "2022-07-04T00:47:48.495346Z",
     "iopub.status.idle": "2022-07-04T00:47:48.497585Z",
     "shell.execute_reply": "2022-07-04T00:47:48.498148Z"
    },
    "papermill": {
     "duration": 0.035996,
     "end_time": "2022-07-04T00:47:48.498274",
     "exception": false,
     "start_time": "2022-07-04T00:47:48.462278",
     "status": "completed"
    },
    "tags": []
   },
   "outputs": [],
   "source": [
    "#hide\n",
    "# cols = list(g.columns.values)"
   ]
  },
  {
   "cell_type": "code",
   "execution_count": 29,
   "id": "solved-farming",
   "metadata": {
    "execution": {
     "iopub.execute_input": "2022-07-04T00:47:48.561795Z",
     "iopub.status.busy": "2022-07-04T00:47:48.561074Z",
     "iopub.status.idle": "2022-07-04T00:47:48.564440Z",
     "shell.execute_reply": "2022-07-04T00:47:48.563944Z"
    },
    "papermill": {
     "duration": 0.036677,
     "end_time": "2022-07-04T00:47:48.564539",
     "exception": false,
     "start_time": "2022-07-04T00:47:48.527862",
     "status": "completed"
    },
    "tags": []
   },
   "outputs": [],
   "source": [
    "#hide\n",
    "# cols.insert(0, cols.pop())"
   ]
  },
  {
   "cell_type": "code",
   "execution_count": 30,
   "id": "executed-adoption",
   "metadata": {
    "execution": {
     "iopub.execute_input": "2022-07-04T00:47:48.621449Z",
     "iopub.status.busy": "2022-07-04T00:47:48.620736Z",
     "iopub.status.idle": "2022-07-04T00:47:48.624528Z",
     "shell.execute_reply": "2022-07-04T00:47:48.623909Z"
    },
    "papermill": {
     "duration": 0.033654,
     "end_time": "2022-07-04T00:47:48.624639",
     "exception": false,
     "start_time": "2022-07-04T00:47:48.590985",
     "status": "completed"
    },
    "tags": []
   },
   "outputs": [],
   "source": [
    "#hide\n",
    "# g = g[cols]"
   ]
  },
  {
   "cell_type": "code",
   "execution_count": 31,
   "id": "subject-dublin",
   "metadata": {
    "execution": {
     "iopub.execute_input": "2022-07-04T00:47:48.688996Z",
     "iopub.status.busy": "2022-07-04T00:47:48.688408Z",
     "iopub.status.idle": "2022-07-04T00:47:48.690821Z",
     "shell.execute_reply": "2022-07-04T00:47:48.691269Z"
    },
    "papermill": {
     "duration": 0.036776,
     "end_time": "2022-07-04T00:47:48.691401",
     "exception": false,
     "start_time": "2022-07-04T00:47:48.654625",
     "status": "completed"
    },
    "tags": []
   },
   "outputs": [],
   "source": [
    "#hide\n",
    "# g['continent'] = g['continent'].map(mapping['map.continent'])"
   ]
  },
  {
   "cell_type": "code",
   "execution_count": 32,
   "id": "freelance-scout",
   "metadata": {
    "execution": {
     "iopub.execute_input": "2022-07-04T00:47:48.756237Z",
     "iopub.status.busy": "2022-07-04T00:47:48.755542Z",
     "iopub.status.idle": "2022-07-04T00:47:48.759538Z",
     "shell.execute_reply": "2022-07-04T00:47:48.759056Z"
    },
    "papermill": {
     "duration": 0.038082,
     "end_time": "2022-07-04T00:47:48.759650",
     "exception": false,
     "start_time": "2022-07-04T00:47:48.721568",
     "status": "completed"
    },
    "tags": []
   },
   "outputs": [],
   "source": [
    "#hide\n",
    "# g.head()"
   ]
  },
  {
   "cell_type": "code",
   "execution_count": 33,
   "id": "limited-engine",
   "metadata": {
    "execution": {
     "iopub.execute_input": "2022-07-04T00:47:48.823358Z",
     "iopub.status.busy": "2022-07-04T00:47:48.822681Z",
     "iopub.status.idle": "2022-07-04T00:47:48.826541Z",
     "shell.execute_reply": "2022-07-04T00:47:48.827032Z"
    },
    "papermill": {
     "duration": 0.037705,
     "end_time": "2022-07-04T00:47:48.827178",
     "exception": false,
     "start_time": "2022-07-04T00:47:48.789473",
     "status": "completed"
    },
    "tags": []
   },
   "outputs": [],
   "source": [
    "# hide\n",
    "# g['date'] = g['date'].astype('datetime64[ns]')"
   ]
  },
  {
   "cell_type": "code",
   "execution_count": 34,
   "id": "sophisticated-supervisor",
   "metadata": {
    "execution": {
     "iopub.execute_input": "2022-07-04T00:47:48.884476Z",
     "iopub.status.busy": "2022-07-04T00:47:48.883787Z",
     "iopub.status.idle": "2022-07-04T00:47:48.887504Z",
     "shell.execute_reply": "2022-07-04T00:47:48.888012Z"
    },
    "papermill": {
     "duration": 0.034309,
     "end_time": "2022-07-04T00:47:48.888157",
     "exception": false,
     "start_time": "2022-07-04T00:47:48.853848",
     "status": "completed"
    },
    "tags": []
   },
   "outputs": [],
   "source": [
    "#hide\n",
    "# g['date'] = g.date.dt.dayofyear"
   ]
  },
  {
   "cell_type": "code",
   "execution_count": 35,
   "id": "inside-dubai",
   "metadata": {
    "execution": {
     "iopub.execute_input": "2022-07-04T00:47:48.952182Z",
     "iopub.status.busy": "2022-07-04T00:47:48.951594Z",
     "iopub.status.idle": "2022-07-04T00:47:48.953859Z",
     "shell.execute_reply": "2022-07-04T00:47:48.954232Z"
    },
    "papermill": {
     "duration": 0.036041,
     "end_time": "2022-07-04T00:47:48.954355",
     "exception": false,
     "start_time": "2022-07-04T00:47:48.918314",
     "status": "completed"
    },
    "tags": []
   },
   "outputs": [],
   "source": [
    "#hide\n",
    "# g = g.rename(columns= {'continent':'group','country':'name','cases':'value'})"
   ]
  },
  {
   "cell_type": "code",
   "execution_count": 36,
   "id": "fleet-motorcycle",
   "metadata": {
    "execution": {
     "iopub.execute_input": "2022-07-04T00:47:49.011330Z",
     "iopub.status.busy": "2022-07-04T00:47:49.010599Z",
     "iopub.status.idle": "2022-07-04T00:47:49.014614Z",
     "shell.execute_reply": "2022-07-04T00:47:49.015053Z"
    },
    "papermill": {
     "duration": 0.034542,
     "end_time": "2022-07-04T00:47:49.015207",
     "exception": false,
     "start_time": "2022-07-04T00:47:48.980665",
     "status": "completed"
    },
    "tags": []
   },
   "outputs": [],
   "source": [
    "#hide\n",
    "# cols = ['name','group','day','value']"
   ]
  },
  {
   "cell_type": "code",
   "execution_count": 37,
   "id": "continued-sleeping",
   "metadata": {
    "execution": {
     "iopub.execute_input": "2022-07-04T00:47:49.080259Z",
     "iopub.status.busy": "2022-07-04T00:47:49.079546Z",
     "iopub.status.idle": "2022-07-04T00:47:49.081692Z",
     "shell.execute_reply": "2022-07-04T00:47:49.081007Z"
    },
    "papermill": {
     "duration": 0.036198,
     "end_time": "2022-07-04T00:47:49.081820",
     "exception": false,
     "start_time": "2022-07-04T00:47:49.045622",
     "status": "completed"
    },
    "tags": []
   },
   "outputs": [],
   "source": [
    "#hide\n",
    "# g.rename(columns= {'date':'day'},inplace = True)"
   ]
  },
  {
   "cell_type": "code",
   "execution_count": 38,
   "id": "major-fight",
   "metadata": {
    "execution": {
     "iopub.execute_input": "2022-07-04T00:47:49.139309Z",
     "iopub.status.busy": "2022-07-04T00:47:49.138627Z",
     "iopub.status.idle": "2022-07-04T00:47:49.142243Z",
     "shell.execute_reply": "2022-07-04T00:47:49.142756Z"
    },
    "papermill": {
     "duration": 0.034149,
     "end_time": "2022-07-04T00:47:49.142906",
     "exception": false,
     "start_time": "2022-07-04T00:47:49.108757",
     "status": "completed"
    },
    "tags": []
   },
   "outputs": [],
   "source": [
    "#hide\n",
    "# g = g[cols]"
   ]
  },
  {
   "cell_type": "code",
   "execution_count": 39,
   "id": "structured-mobile",
   "metadata": {
    "execution": {
     "iopub.execute_input": "2022-07-04T00:47:49.206620Z",
     "iopub.status.busy": "2022-07-04T00:47:49.205953Z",
     "iopub.status.idle": "2022-07-04T00:47:49.209888Z",
     "shell.execute_reply": "2022-07-04T00:47:49.209434Z"
    },
    "papermill": {
     "duration": 0.037067,
     "end_time": "2022-07-04T00:47:49.209986",
     "exception": false,
     "start_time": "2022-07-04T00:47:49.172919",
     "status": "completed"
    },
    "tags": []
   },
   "outputs": [],
   "source": [
    "# #hide\n",
    "# g = g[g.group.notna()]"
   ]
  },
  {
   "cell_type": "code",
   "execution_count": 40,
   "id": "determined-closing",
   "metadata": {
    "execution": {
     "iopub.execute_input": "2022-07-04T00:47:49.267155Z",
     "iopub.status.busy": "2022-07-04T00:47:49.266460Z",
     "iopub.status.idle": "2022-07-04T00:47:49.268499Z",
     "shell.execute_reply": "2022-07-04T00:47:49.267863Z"
    },
    "papermill": {
     "duration": 0.032184,
     "end_time": "2022-07-04T00:47:49.268619",
     "exception": false,
     "start_time": "2022-07-04T00:47:49.236435",
     "status": "completed"
    },
    "tags": []
   },
   "outputs": [],
   "source": [
    "# #hide\n",
    "# colors = dict(zip(\n",
    "#     [\"Oceania\", \"Europe\", \"Asia\", \"South America\", \"Middle East\", \"North America\", \"Africa\"],\n",
    "#     [\"#adb0ff\", \"#ffb3ff\", \"#90d595\", \"#e48381\", \"#aafbff\", \"#f7bb5f\", \"#eafb50\"]\n",
    "# ))\n",
    "# group_lk = g.set_index('name')['group'].to_dict()"
   ]
  },
  {
   "cell_type": "code",
   "execution_count": null,
   "id": "gross-drinking",
   "metadata": {
    "papermill": {
     "duration": 0.029842,
     "end_time": "2022-07-04T00:47:49.328085",
     "exception": false,
     "start_time": "2022-07-04T00:47:49.298243",
     "status": "completed"
    },
    "tags": []
   },
   "outputs": [],
   "source": []
  },
  {
   "cell_type": "code",
   "execution_count": 41,
   "id": "subject-macintosh",
   "metadata": {
    "execution": {
     "iopub.execute_input": "2022-07-04T00:47:49.392291Z",
     "iopub.status.busy": "2022-07-04T00:47:49.391727Z",
     "iopub.status.idle": "2022-07-04T00:47:49.393837Z",
     "shell.execute_reply": "2022-07-04T00:47:49.394215Z"
    },
    "papermill": {
     "duration": 0.036275,
     "end_time": "2022-07-04T00:47:49.394337",
     "exception": false,
     "start_time": "2022-07-04T00:47:49.358062",
     "status": "completed"
    },
    "tags": []
   },
   "outputs": [],
   "source": [
    "# #hide\n",
    "# fig, ax = plt.subplots(figsize=(15, 8))\n",
    "\n",
    "# def draw_barchart(current_day):\n",
    "#     dff = g[g['day'].eq(current_day)].sort_values(by='value', ascending=True).tail(10)\n",
    "#     ax.clear()\n",
    "#     ax.barh(dff['name'], dff['value'], color=[colors[group_lk[x]] for x in dff['name']])\n",
    "#     dx = dff['value'].max() / 200\n",
    "    \n",
    "#     for i, (value, name) in enumerate(zip(dff['value'], dff['name'])):\n",
    "#         ax.text(value-dx, i,     name,           size=14, weight=600, ha='right', va='bottom')\n",
    "#         ax.text(value-dx, i-.25, group_lk[name], size=10, color='#444444', ha='right', va='baseline')\n",
    "#         ax.text(value+dx, i,     f'{value:,.0f}',  size=14, ha='left',  va='center')\n",
    "#     ax.text(1, 0.4, current_day, transform=ax.transAxes, color='#777777', size=46, ha='right', weight=800)\n",
    "#     ax.text(0, 1.06, 'Population (thousands)', transform=ax.transAxes, size=12, color='#777777')\n",
    "#     ax.xaxis.set_major_formatter(ticker.StrMethodFormatter('{x:,.0f}'))\n",
    "#     ax.xaxis.set_ticks_position('top')\n",
    "#     ax.tick_params(axis='x', colors='#777777', labelsize=12)\n",
    "#     ax.set_yticks([])\n",
    "#     ax.margins(0, 0.01)\n",
    "#     ax.grid(which='major', axis='x', linestyle='-')\n",
    "#     ax.set_axisbelow(True)\n",
    "    \n",
    "#     ax.text(0, 1.15, 'Coronavirus',\n",
    "#             transform=ax.transAxes, size=24, weight=600, ha='left', va='top')\n",
    "# #     ax.text(1, 0, 'by @pratapvardhan; credit @jburnmurdoch', transform=ax.transAxes, color='#777777', ha='right',\n",
    "# #             bbox=dict(facecolor='white', alpha=0.8, edgecolor='white'))\n",
    "#     plt.box(False)"
   ]
  },
  {
   "cell_type": "code",
   "execution_count": 42,
   "id": "sexual-wages",
   "metadata": {
    "execution": {
     "iopub.execute_input": "2022-07-04T00:47:49.451000Z",
     "iopub.status.busy": "2022-07-04T00:47:49.450318Z",
     "iopub.status.idle": "2022-07-04T00:47:49.452528Z",
     "shell.execute_reply": "2022-07-04T00:47:49.451942Z"
    },
    "papermill": {
     "duration": 0.032011,
     "end_time": "2022-07-04T00:47:49.452638",
     "exception": false,
     "start_time": "2022-07-04T00:47:49.420627",
     "status": "completed"
    },
    "tags": []
   },
   "outputs": [],
   "source": [
    "# #hide_input\n",
    "# fig, ax = plt.subplots(figsize=(15, 8))\n",
    "# animator = animation.FuncAnimation(fig, draw_barchart, frames=range(g.day.values.min(), g.day.values.max()))\n",
    "# HTML(animator.to_jshtml())\n",
    "# # or use animator.to_html5_video() or animator.save() "
   ]
  },
  {
   "cell_type": "code",
   "execution_count": null,
   "id": "australian-container",
   "metadata": {
    "papermill": {
     "duration": 0.029811,
     "end_time": "2022-07-04T00:47:49.512255",
     "exception": false,
     "start_time": "2022-07-04T00:47:49.482444",
     "status": "completed"
    },
    "tags": []
   },
   "outputs": [],
   "source": []
  },
  {
   "cell_type": "code",
   "execution_count": null,
   "id": "mediterranean-pontiac",
   "metadata": {
    "papermill": {
     "duration": 0.02968,
     "end_time": "2022-07-04T00:47:49.571649",
     "exception": false,
     "start_time": "2022-07-04T00:47:49.541969",
     "status": "completed"
    },
    "tags": []
   },
   "outputs": [],
   "source": []
  },
  {
   "cell_type": "code",
   "execution_count": null,
   "id": "aging-legislature",
   "metadata": {
    "papermill": {
     "duration": 0.029783,
     "end_time": "2022-07-04T00:47:49.631355",
     "exception": false,
     "start_time": "2022-07-04T00:47:49.601572",
     "status": "completed"
    },
    "tags": []
   },
   "outputs": [],
   "source": []
  }
 ],
 "metadata": {
  "kernelspec": {
   "display_name": "Python 3",
   "language": "python",
   "name": "python3"
  },
  "language_info": {
   "codemirror_mode": {
    "name": "ipython",
    "version": 3
   },
   "file_extension": ".py",
   "mimetype": "text/x-python",
   "name": "python",
   "nbconvert_exporter": "python",
   "pygments_lexer": "ipython3",
   "version": "3.6.15"
  },
  "papermill": {
   "duration": 5.512947,
   "end_time": "2022-07-04T00:47:49.982148",
   "environment_variables": {},
   "exception": null,
   "input_path": "2020-03-21-covid19exp.ipynb",
   "output_path": "2020-03-21-covid19exp.ipynb",
   "parameters": {},
   "start_time": "2022-07-04T00:47:44.469201",
   "version": "2.0.0"
  }
 },
 "nbformat": 4,
 "nbformat_minor": 5
}