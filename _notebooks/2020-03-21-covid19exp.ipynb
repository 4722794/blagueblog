{
 "cells": [
  {
   "cell_type": "markdown",
   "metadata": {
    "papermill": {
     "duration": 0.036378,
     "end_time": "2021-01-20T12:25:21.244619",
     "exception": false,
     "start_time": "2021-01-20T12:25:21.208241",
     "status": "completed"
    },
    "tags": []
   },
   "source": [
    "# COVID-19 Case Race\n",
    "> A race chart to see rising cases around the world\n",
    "\n",
    "- author: Hargun Oberoi\n",
    "- image: images/covid-overview.png\n",
    "- hide: false\n",
    "- badges: false"
   ]
  },
  {
   "cell_type": "code",
   "execution_count": 1,
   "metadata": {
    "execution": {
     "iopub.execute_input": "2021-01-20T12:25:21.314986Z",
     "iopub.status.busy": "2021-01-20T12:25:21.314376Z",
     "iopub.status.idle": "2021-01-20T12:25:21.651098Z",
     "shell.execute_reply": "2021-01-20T12:25:21.650167Z"
    },
    "papermill": {
     "duration": 0.375248,
     "end_time": "2021-01-20T12:25:21.651286",
     "exception": false,
     "start_time": "2021-01-20T12:25:21.276038",
     "status": "completed"
    },
    "tags": []
   },
   "outputs": [],
   "source": [
    "#hide\n",
    "import numpy as np\n",
    "import pandas as pd\n",
    "from jinja2 import Template\n",
    "from IPython.display import HTML"
   ]
  },
  {
   "cell_type": "code",
   "execution_count": 2,
   "metadata": {
    "execution": {
     "iopub.execute_input": "2021-01-20T12:25:21.717140Z",
     "iopub.status.busy": "2021-01-20T12:25:21.716555Z",
     "iopub.status.idle": "2021-01-20T12:25:21.721047Z",
     "shell.execute_reply": "2021-01-20T12:25:21.720571Z"
    },
    "papermill": {
     "duration": 0.039519,
     "end_time": "2021-01-20T12:25:21.721178",
     "exception": false,
     "start_time": "2021-01-20T12:25:21.681659",
     "status": "completed"
    },
    "tags": []
   },
   "outputs": [],
   "source": [
    "#hide\n",
    "\n",
    "# FETCH\n",
    "base_url = 'https://raw.githubusercontent.com/pratapvardhan/notebooks/master/covid19/'\n",
    "paths = {\n",
    "    'mapping': base_url + 'mapping_countries.csv',\n",
    "    'overview': base_url + 'overview.tpl'\n",
    "}"
   ]
  },
  {
   "cell_type": "code",
   "execution_count": 3,
   "metadata": {
    "execution": {
     "iopub.execute_input": "2021-01-20T12:25:21.790933Z",
     "iopub.status.busy": "2021-01-20T12:25:21.790331Z",
     "iopub.status.idle": "2021-01-20T12:25:21.795241Z",
     "shell.execute_reply": "2021-01-20T12:25:21.795705Z"
    },
    "papermill": {
     "duration": 0.047007,
     "end_time": "2021-01-20T12:25:21.795844",
     "exception": false,
     "start_time": "2021-01-20T12:25:21.748837",
     "status": "completed"
    },
    "tags": []
   },
   "outputs": [
    {
     "data": {
      "text/plain": [
       "'https://raw.githubusercontent.com/pratapvardhan/notebooks/master/covid19/mapping_countries.csv'"
      ]
     },
     "execution_count": 3,
     "metadata": {},
     "output_type": "execute_result"
    }
   ],
   "source": [
    "#hide\n",
    "paths['mapping']"
   ]
  },
  {
   "cell_type": "code",
   "execution_count": 4,
   "metadata": {
    "execution": {
     "iopub.execute_input": "2021-01-20T12:25:21.858527Z",
     "iopub.status.busy": "2021-01-20T12:25:21.857980Z",
     "iopub.status.idle": "2021-01-20T12:25:21.860275Z",
     "shell.execute_reply": "2021-01-20T12:25:21.860871Z"
    },
    "papermill": {
     "duration": 0.036564,
     "end_time": "2021-01-20T12:25:21.861011",
     "exception": false,
     "start_time": "2021-01-20T12:25:21.824447",
     "status": "completed"
    },
    "tags": []
   },
   "outputs": [],
   "source": [
    "#hide\n",
    "def get_mappings(url):\n",
    "    df = pd.read_csv(url)\n",
    "    return {\n",
    "        'df': df,\n",
    "        'replace.country': dict(df.dropna(subset=['Name']).set_index('Country')['Name']),\n",
    "        'map.continent': dict(df.set_index('Name')['Continent'])\n",
    "    }"
   ]
  },
  {
   "cell_type": "code",
   "execution_count": 5,
   "metadata": {
    "execution": {
     "iopub.execute_input": "2021-01-20T12:25:21.921904Z",
     "iopub.status.busy": "2021-01-20T12:25:21.921276Z",
     "iopub.status.idle": "2021-01-20T12:25:22.082318Z",
     "shell.execute_reply": "2021-01-20T12:25:22.081771Z"
    },
    "papermill": {
     "duration": 0.194571,
     "end_time": "2021-01-20T12:25:22.082460",
     "exception": false,
     "start_time": "2021-01-20T12:25:21.887889",
     "status": "completed"
    },
    "tags": []
   },
   "outputs": [],
   "source": [
    "#hide\n",
    "mapping = get_mappings(paths['mapping'])"
   ]
  },
  {
   "cell_type": "code",
   "execution_count": 6,
   "metadata": {
    "execution": {
     "iopub.execute_input": "2021-01-20T12:25:22.145716Z",
     "iopub.status.busy": "2021-01-20T12:25:22.144641Z",
     "iopub.status.idle": "2021-01-20T12:25:22.146295Z",
     "shell.execute_reply": "2021-01-20T12:25:22.146772Z"
    },
    "papermill": {
     "duration": 0.035328,
     "end_time": "2021-01-20T12:25:22.146925",
     "exception": false,
     "start_time": "2021-01-20T12:25:22.111597",
     "status": "completed"
    },
    "tags": []
   },
   "outputs": [],
   "source": [
    "#hide\n",
    "def get_template(path):\n",
    "    from urllib.parse import urlparse\n",
    "    if bool(urlparse(path).netloc):\n",
    "        from urllib.request import urlopen\n",
    "        return urlopen(path).read().decode('utf8')\n",
    "    return open(path).read()"
   ]
  },
  {
   "cell_type": "code",
   "execution_count": 7,
   "metadata": {
    "execution": {
     "iopub.execute_input": "2021-01-20T12:25:22.209984Z",
     "iopub.status.busy": "2021-01-20T12:25:22.209438Z",
     "iopub.status.idle": "2021-01-20T12:25:22.212085Z",
     "shell.execute_reply": "2021-01-20T12:25:22.212642Z"
    },
    "papermill": {
     "duration": 0.037483,
     "end_time": "2021-01-20T12:25:22.212780",
     "exception": false,
     "start_time": "2021-01-20T12:25:22.175297",
     "status": "completed"
    },
    "tags": []
   },
   "outputs": [],
   "source": [
    "#hide\n",
    "def get_frame(name):\n",
    "    url = (\n",
    "        'https://raw.githubusercontent.com/CSSEGISandData/COVID-19/master/csse_covid_19_data/'\n",
    "        f'csse_covid_19_time_series/time_series_covid19_{name}_global.csv')\n",
    "    df = pd.read_csv(url)\n",
    "    # rename countries\n",
    "    df['Country/Region'] = df['Country/Region'].replace(mapping['replace.country'])\n",
    "    return df"
   ]
  },
  {
   "cell_type": "code",
   "execution_count": 8,
   "metadata": {
    "execution": {
     "iopub.execute_input": "2021-01-20T12:25:22.277502Z",
     "iopub.status.busy": "2021-01-20T12:25:22.276904Z",
     "iopub.status.idle": "2021-01-20T12:25:22.279141Z",
     "shell.execute_reply": "2021-01-20T12:25:22.278614Z"
    },
    "papermill": {
     "duration": 0.037691,
     "end_time": "2021-01-20T12:25:22.279271",
     "exception": false,
     "start_time": "2021-01-20T12:25:22.241580",
     "status": "completed"
    },
    "tags": []
   },
   "outputs": [],
   "source": [
    "#hide\n",
    "def get_dates(df):\n",
    "    dt_cols = df.columns[~df.columns.isin(['Province/State', 'Country/Region', 'Lat', 'Long'])]\n",
    "    LAST_DATE_I = -1\n",
    "    # sometimes last column may be empty, then go backwards\n",
    "    for i in range(-1, -len(dt_cols), -1):\n",
    "        if not df[dt_cols[i]].fillna(0).eq(0).all():\n",
    "            LAST_DATE_I = i\n",
    "            break\n",
    "    return LAST_DATE_I, dt_cols"
   ]
  },
  {
   "cell_type": "code",
   "execution_count": 9,
   "metadata": {
    "execution": {
     "iopub.execute_input": "2021-01-20T12:25:22.341034Z",
     "iopub.status.busy": "2021-01-20T12:25:22.340018Z",
     "iopub.status.idle": "2021-01-20T12:25:22.670516Z",
     "shell.execute_reply": "2021-01-20T12:25:22.669622Z"
    },
    "papermill": {
     "duration": 0.364764,
     "end_time": "2021-01-20T12:25:22.670745",
     "exception": false,
     "start_time": "2021-01-20T12:25:22.305981",
     "status": "completed"
    },
    "tags": []
   },
   "outputs": [],
   "source": [
    "#hide\n",
    "COL_REGION = 'Country/Region'\n",
    "# Confirmed, Recovered, Deaths\n",
    "df = get_frame('confirmed')\n",
    "# dft_: timeseries, dfc_: today country agg\n",
    "dft_cases = df\n",
    "dft_deaths = get_frame('deaths')\n",
    "dft_recovered = get_frame('recovered')\n",
    "LAST_DATE_I, dt_cols = get_dates(df)"
   ]
  },
  {
   "cell_type": "code",
   "execution_count": 10,
   "metadata": {
    "execution": {
     "iopub.execute_input": "2021-01-20T12:25:22.739311Z",
     "iopub.status.busy": "2021-01-20T12:25:22.738683Z",
     "iopub.status.idle": "2021-01-20T12:25:22.748447Z",
     "shell.execute_reply": "2021-01-20T12:25:22.748893Z"
    },
    "papermill": {
     "duration": 0.046723,
     "end_time": "2021-01-20T12:25:22.749042",
     "exception": false,
     "start_time": "2021-01-20T12:25:22.702319",
     "status": "completed"
    },
    "tags": []
   },
   "outputs": [],
   "source": [
    "#hide\n",
    "LAST_DATE_I, dt_cols = get_dates(df)\n",
    "dt_today =dt_cols[LAST_DATE_I]\n",
    "# dt_5day = dt_cols[LAST_DATE_I - 5]\n",
    "dt_yday = dt_cols[LAST_DATE_I - 1]"
   ]
  },
  {
   "cell_type": "code",
   "execution_count": 11,
   "metadata": {
    "execution": {
     "iopub.execute_input": "2021-01-20T12:25:22.812108Z",
     "iopub.status.busy": "2021-01-20T12:25:22.811388Z",
     "iopub.status.idle": "2021-01-20T12:25:22.818909Z",
     "shell.execute_reply": "2021-01-20T12:25:22.818434Z"
    },
    "papermill": {
     "duration": 0.039911,
     "end_time": "2021-01-20T12:25:22.819028",
     "exception": false,
     "start_time": "2021-01-20T12:25:22.779117",
     "status": "completed"
    },
    "tags": []
   },
   "outputs": [],
   "source": [
    "#hide\n",
    "dfc_cases = dft_cases.groupby(COL_REGION)[dt_today].sum()\n",
    "dfc_deaths = dft_deaths.groupby(COL_REGION)[dt_today].sum()\n",
    "# dfp_cases = dft_cases.groupby(COL_REGION)[dt_5day].sum()\n",
    "# dfp_deaths = dft_deaths.groupby(COL_REGION)[dt_5day].sum()\n",
    "dfp_cases = dft_cases.groupby(COL_REGION)[dt_yday].sum()\n",
    "dfp_deaths = dft_deaths.groupby(COL_REGION)[dt_yday].sum()"
   ]
  },
  {
   "cell_type": "code",
   "execution_count": 12,
   "metadata": {
    "execution": {
     "iopub.execute_input": "2021-01-20T12:25:22.885827Z",
     "iopub.status.busy": "2021-01-20T12:25:22.885256Z",
     "iopub.status.idle": "2021-01-20T12:25:22.889850Z",
     "shell.execute_reply": "2021-01-20T12:25:22.890308Z"
    },
    "papermill": {
     "duration": 0.041724,
     "end_time": "2021-01-20T12:25:22.890441",
     "exception": false,
     "start_time": "2021-01-20T12:25:22.848717",
     "status": "completed"
    },
    "tags": []
   },
   "outputs": [],
   "source": [
    "#hide\n",
    "df_table = (pd.DataFrame(dict(Cases = dfc_cases, Deaths = dfc_deaths, PCases = dfp_cases, PDeaths = dfp_deaths))\n",
    "            .sort_values(by = ['Cases','Deaths'], ascending = [False, False])\n",
    "            .reset_index())"
   ]
  },
  {
   "cell_type": "code",
   "execution_count": 13,
   "metadata": {
    "execution": {
     "iopub.execute_input": "2021-01-20T12:25:22.979407Z",
     "iopub.status.busy": "2021-01-20T12:25:22.974354Z",
     "iopub.status.idle": "2021-01-20T12:25:22.981796Z",
     "shell.execute_reply": "2021-01-20T12:25:22.982269Z"
    },
    "papermill": {
     "duration": 0.063147,
     "end_time": "2021-01-20T12:25:22.982410",
     "exception": false,
     "start_time": "2021-01-20T12:25:22.919263",
     "status": "completed"
    },
    "tags": []
   },
   "outputs": [
    {
     "data": {
      "text/html": [
       "<div>\n",
       "<style scoped>\n",
       "    .dataframe tbody tr th:only-of-type {\n",
       "        vertical-align: middle;\n",
       "    }\n",
       "\n",
       "    .dataframe tbody tr th {\n",
       "        vertical-align: top;\n",
       "    }\n",
       "\n",
       "    .dataframe thead th {\n",
       "        text-align: right;\n",
       "    }\n",
       "</style>\n",
       "<table border=\"1\" class=\"dataframe\">\n",
       "  <thead>\n",
       "    <tr style=\"text-align: right;\">\n",
       "      <th></th>\n",
       "      <th>Country/Region</th>\n",
       "      <th>Cases</th>\n",
       "      <th>Deaths</th>\n",
       "      <th>PCases</th>\n",
       "      <th>PDeaths</th>\n",
       "      <th>Cases (+)</th>\n",
       "      <th>Deaths (+)</th>\n",
       "      <th>Fatality Rate</th>\n",
       "      <th>Continent</th>\n",
       "    </tr>\n",
       "  </thead>\n",
       "  <tbody>\n",
       "    <tr>\n",
       "      <th>0</th>\n",
       "      <td>US</td>\n",
       "      <td>24253361</td>\n",
       "      <td>401730</td>\n",
       "      <td>24078772</td>\n",
       "      <td>399003</td>\n",
       "      <td>174589</td>\n",
       "      <td>2727</td>\n",
       "      <td>1.66</td>\n",
       "      <td>North America</td>\n",
       "    </tr>\n",
       "    <tr>\n",
       "      <th>1</th>\n",
       "      <td>India</td>\n",
       "      <td>10595639</td>\n",
       "      <td>152718</td>\n",
       "      <td>10581823</td>\n",
       "      <td>152556</td>\n",
       "      <td>13816</td>\n",
       "      <td>162</td>\n",
       "      <td>1.44</td>\n",
       "      <td>Asia</td>\n",
       "    </tr>\n",
       "    <tr>\n",
       "      <th>2</th>\n",
       "      <td>Brazil</td>\n",
       "      <td>8573864</td>\n",
       "      <td>211491</td>\n",
       "      <td>8511770</td>\n",
       "      <td>210299</td>\n",
       "      <td>62094</td>\n",
       "      <td>1192</td>\n",
       "      <td>2.47</td>\n",
       "      <td>South America</td>\n",
       "    </tr>\n",
       "    <tr>\n",
       "      <th>3</th>\n",
       "      <td>Russia</td>\n",
       "      <td>3574330</td>\n",
       "      <td>65632</td>\n",
       "      <td>3552888</td>\n",
       "      <td>65059</td>\n",
       "      <td>21442</td>\n",
       "      <td>573</td>\n",
       "      <td>1.84</td>\n",
       "      <td>Europe</td>\n",
       "    </tr>\n",
       "    <tr>\n",
       "      <th>4</th>\n",
       "      <td>United Kingdom</td>\n",
       "      <td>3476804</td>\n",
       "      <td>91643</td>\n",
       "      <td>3443350</td>\n",
       "      <td>90031</td>\n",
       "      <td>33454</td>\n",
       "      <td>1612</td>\n",
       "      <td>2.64</td>\n",
       "      <td>Europe</td>\n",
       "    </tr>\n",
       "  </tbody>\n",
       "</table>\n",
       "</div>"
      ],
      "text/plain": [
       "   Country/Region     Cases  Deaths    PCases  PDeaths  Cases (+)  Deaths (+)  \\\n",
       "0              US  24253361  401730  24078772   399003     174589        2727   \n",
       "1           India  10595639  152718  10581823   152556      13816         162   \n",
       "2          Brazil   8573864  211491   8511770   210299      62094        1192   \n",
       "3          Russia   3574330   65632   3552888    65059      21442         573   \n",
       "4  United Kingdom   3476804   91643   3443350    90031      33454        1612   \n",
       "\n",
       "   Fatality Rate      Continent  \n",
       "0           1.66  North America  \n",
       "1           1.44           Asia  \n",
       "2           2.47  South America  \n",
       "3           1.84         Europe  \n",
       "4           2.64         Europe  "
      ]
     },
     "execution_count": 13,
     "metadata": {},
     "output_type": "execute_result"
    }
   ],
   "source": [
    "#hide\n",
    "for c in 'Cases, Deaths'.split(', '):\n",
    "    df_table[f'{c} (+)'] = (df_table[c] - df_table[f'P{c}']).clip(0)\n",
    "    #Clip ça veut dire, les chiffres negatif sont interdit\n",
    "df_table['Fatality Rate'] = (100* df_table['Deaths']/ df_table['Cases']).round(2)\n",
    "df_table['Continent'] = df_table['Country/Region'].map(mapping['map.continent'])\n",
    "df_table.head(5)"
   ]
  },
  {
   "cell_type": "code",
   "execution_count": 14,
   "metadata": {
    "execution": {
     "iopub.execute_input": "2021-01-20T12:25:23.049478Z",
     "iopub.status.busy": "2021-01-20T12:25:23.048887Z",
     "iopub.status.idle": "2021-01-20T12:25:23.053585Z",
     "shell.execute_reply": "2021-01-20T12:25:23.053126Z"
    },
    "papermill": {
     "duration": 0.039991,
     "end_time": "2021-01-20T12:25:23.053705",
     "exception": false,
     "start_time": "2021-01-20T12:25:23.013714",
     "status": "completed"
    },
    "tags": []
   },
   "outputs": [],
   "source": [
    "#hide\n",
    "#delete problematic countries from table\n",
    "df_table = df_table[~df_table['Country/Region'].isin(['Cape Verde', 'Cruise Ship', 'Kosovo'])]"
   ]
  },
  {
   "cell_type": "code",
   "execution_count": 15,
   "metadata": {
    "execution": {
     "iopub.execute_input": "2021-01-20T12:25:23.123728Z",
     "iopub.status.busy": "2021-01-20T12:25:23.123077Z",
     "iopub.status.idle": "2021-01-20T12:25:23.142392Z",
     "shell.execute_reply": "2021-01-20T12:25:23.141885Z"
    },
    "papermill": {
     "duration": 0.057828,
     "end_time": "2021-01-20T12:25:23.142525",
     "exception": false,
     "start_time": "2021-01-20T12:25:23.084697",
     "status": "completed"
    },
    "tags": []
   },
   "outputs": [
    {
     "data": {
      "text/html": [
       "<div>\n",
       "<style scoped>\n",
       "    .dataframe tbody tr th:only-of-type {\n",
       "        vertical-align: middle;\n",
       "    }\n",
       "\n",
       "    .dataframe tbody tr th {\n",
       "        vertical-align: top;\n",
       "    }\n",
       "\n",
       "    .dataframe thead th {\n",
       "        text-align: right;\n",
       "    }\n",
       "</style>\n",
       "<table border=\"1\" class=\"dataframe\">\n",
       "  <thead>\n",
       "    <tr style=\"text-align: right;\">\n",
       "      <th></th>\n",
       "      <th>Country/Region</th>\n",
       "      <th>Cases</th>\n",
       "      <th>Deaths</th>\n",
       "      <th>PCases</th>\n",
       "      <th>PDeaths</th>\n",
       "      <th>Cases (+)</th>\n",
       "      <th>Deaths (+)</th>\n",
       "      <th>Fatality Rate</th>\n",
       "      <th>Continent</th>\n",
       "    </tr>\n",
       "  </thead>\n",
       "  <tbody>\n",
       "    <tr>\n",
       "      <th>0</th>\n",
       "      <td>US</td>\n",
       "      <td>24253361</td>\n",
       "      <td>401730</td>\n",
       "      <td>24078772</td>\n",
       "      <td>399003</td>\n",
       "      <td>174589</td>\n",
       "      <td>2727</td>\n",
       "      <td>1.7</td>\n",
       "      <td>North America</td>\n",
       "    </tr>\n",
       "    <tr>\n",
       "      <th>1</th>\n",
       "      <td>India</td>\n",
       "      <td>10595639</td>\n",
       "      <td>152718</td>\n",
       "      <td>10581823</td>\n",
       "      <td>152556</td>\n",
       "      <td>13816</td>\n",
       "      <td>162</td>\n",
       "      <td>1.4</td>\n",
       "      <td>Asia</td>\n",
       "    </tr>\n",
       "    <tr>\n",
       "      <th>2</th>\n",
       "      <td>Brazil</td>\n",
       "      <td>8573864</td>\n",
       "      <td>211491</td>\n",
       "      <td>8511770</td>\n",
       "      <td>210299</td>\n",
       "      <td>62094</td>\n",
       "      <td>1192</td>\n",
       "      <td>2.5</td>\n",
       "      <td>South America</td>\n",
       "    </tr>\n",
       "    <tr>\n",
       "      <th>3</th>\n",
       "      <td>Russia</td>\n",
       "      <td>3574330</td>\n",
       "      <td>65632</td>\n",
       "      <td>3552888</td>\n",
       "      <td>65059</td>\n",
       "      <td>21442</td>\n",
       "      <td>573</td>\n",
       "      <td>1.8</td>\n",
       "      <td>Europe</td>\n",
       "    </tr>\n",
       "    <tr>\n",
       "      <th>4</th>\n",
       "      <td>United Kingdom</td>\n",
       "      <td>3476804</td>\n",
       "      <td>91643</td>\n",
       "      <td>3443350</td>\n",
       "      <td>90031</td>\n",
       "      <td>33454</td>\n",
       "      <td>1612</td>\n",
       "      <td>2.6</td>\n",
       "      <td>Europe</td>\n",
       "    </tr>\n",
       "  </tbody>\n",
       "</table>\n",
       "</div>"
      ],
      "text/plain": [
       "   Country/Region     Cases  Deaths    PCases  PDeaths  Cases (+)  Deaths (+)  \\\n",
       "0              US  24253361  401730  24078772   399003     174589        2727   \n",
       "1           India  10595639  152718  10581823   152556      13816         162   \n",
       "2          Brazil   8573864  211491   8511770   210299      62094        1192   \n",
       "3          Russia   3574330   65632   3552888    65059      21442         573   \n",
       "4  United Kingdom   3476804   91643   3443350    90031      33454        1612   \n",
       "\n",
       "   Fatality Rate      Continent  \n",
       "0            1.7  North America  \n",
       "1            1.4           Asia  \n",
       "2            2.5  South America  \n",
       "3            1.8         Europe  \n",
       "4            2.6         Europe  "
      ]
     },
     "execution_count": 15,
     "metadata": {},
     "output_type": "execute_result"
    }
   ],
   "source": [
    "#hide\n",
    "df_table = (pd.DataFrame(dict(Cases=dfc_cases, Deaths=dfc_deaths, PCases=dfp_cases, PDeaths=dfp_deaths))\n",
    "             .sort_values(by=['Cases', 'Deaths'], ascending=[False, False])\n",
    "             .reset_index())\n",
    "df_table.rename(columns={'index': 'Country/Region'}, inplace=True)\n",
    "for c in 'Cases, Deaths'.split(', '):\n",
    "    df_table[f'{c} (+)'] = (df_table[c] - df_table[f'P{c}']).clip(0)  # DATA BUG\n",
    "df_table['Fatality Rate'] = (100 * df_table['Deaths'] / df_table['Cases']).round(1)\n",
    "df_table['Continent'] = df_table['Country/Region'].map(mapping['map.continent'])\n",
    "df_table.head(5)"
   ]
  },
  {
   "cell_type": "code",
   "execution_count": 16,
   "metadata": {
    "execution": {
     "iopub.execute_input": "2021-01-20T12:25:23.210928Z",
     "iopub.status.busy": "2021-01-20T12:25:23.210342Z",
     "iopub.status.idle": "2021-01-20T12:25:23.212540Z",
     "shell.execute_reply": "2021-01-20T12:25:23.213014Z"
    },
    "papermill": {
     "duration": 0.039458,
     "end_time": "2021-01-20T12:25:23.213157",
     "exception": false,
     "start_time": "2021-01-20T12:25:23.173699",
     "status": "completed"
    },
    "tags": []
   },
   "outputs": [],
   "source": [
    "#hide\n",
    "#delete problematic countries from table\n",
    "df_table = df_table[~df_table['Country/Region'].isin(['Cape Verde', 'Cruise Ship', 'Kosovo'])]"
   ]
  },
  {
   "cell_type": "code",
   "execution_count": 17,
   "metadata": {
    "execution": {
     "iopub.execute_input": "2021-01-20T12:25:23.296720Z",
     "iopub.status.busy": "2021-01-20T12:25:23.296152Z",
     "iopub.status.idle": "2021-01-20T12:25:23.298248Z",
     "shell.execute_reply": "2021-01-20T12:25:23.298724Z"
    },
    "papermill": {
     "duration": 0.054719,
     "end_time": "2021-01-20T12:25:23.298867",
     "exception": false,
     "start_time": "2021-01-20T12:25:23.244148",
     "status": "completed"
    },
    "tags": []
   },
   "outputs": [],
   "source": [
    "#hide\n",
    "metrics = [df_table.columns[index] for index in [1,2,5,6]]\n",
    "# s_china = df_table[df_table['Country/Region'].eq('China')][metrics].sum().add_prefix('China ')\n",
    "s_us = df_table[df_table['Country/Region'].eq('US')][metrics].sum().add_prefix('US ')\n",
    "s_eu = df_table[df_table['Continent'].eq('Europe')][metrics].sum().add_prefix('EU ')\n",
    "s_ind = df_table[df_table['Country/Region'].eq('India')][metrics].sum().add_prefix('India ')\n",
    "summary = {'updated': pd.to_datetime(dt_today), 'since': pd.to_datetime(dt_yday)}\n",
    "summary = {'updated': pd.to_datetime(dt_today), 'since': pd.to_datetime(dt_yday)}\n",
    "summary = {**summary, **df_table[metrics].sum(), **s_ind, **s_us, **s_eu}"
   ]
  },
  {
   "cell_type": "code",
   "execution_count": 18,
   "metadata": {
    "execution": {
     "iopub.execute_input": "2021-01-20T12:25:23.364444Z",
     "iopub.status.busy": "2021-01-20T12:25:23.363891Z",
     "iopub.status.idle": "2021-01-20T12:25:23.376325Z",
     "shell.execute_reply": "2021-01-20T12:25:23.375403Z"
    },
    "papermill": {
     "duration": 0.047461,
     "end_time": "2021-01-20T12:25:23.376534",
     "exception": false,
     "start_time": "2021-01-20T12:25:23.329073",
     "status": "completed"
    },
    "tags": []
   },
   "outputs": [],
   "source": [
    "#hide\n",
    "dft_ct_new_cases = dft_cases.groupby(COL_REGION)[dt_cols].sum().diff(axis=1).fillna(0).astype(int)"
   ]
  },
  {
   "cell_type": "code",
   "execution_count": 19,
   "metadata": {
    "execution": {
     "iopub.execute_input": "2021-01-20T12:25:23.447919Z",
     "iopub.status.busy": "2021-01-20T12:25:23.447086Z",
     "iopub.status.idle": "2021-01-20T12:25:23.449964Z",
     "shell.execute_reply": "2021-01-20T12:25:23.450529Z"
    },
    "papermill": {
     "duration": 0.043402,
     "end_time": "2021-01-20T12:25:23.450672",
     "exception": false,
     "start_time": "2021-01-20T12:25:23.407270",
     "status": "completed"
    },
    "tags": []
   },
   "outputs": [],
   "source": [
    "#hide\n",
    "everydaycases = dft_ct_new_cases.cumsum(axis=1)"
   ]
  },
  {
   "cell_type": "code",
   "execution_count": 20,
   "metadata": {
    "execution": {
     "iopub.execute_input": "2021-01-20T12:25:23.518929Z",
     "iopub.status.busy": "2021-01-20T12:25:23.517973Z",
     "iopub.status.idle": "2021-01-20T12:25:24.511772Z",
     "shell.execute_reply": "2021-01-20T12:25:24.511154Z"
    },
    "papermill": {
     "duration": 1.025359,
     "end_time": "2021-01-20T12:25:24.511924",
     "exception": false,
     "start_time": "2021-01-20T12:25:23.486565",
     "status": "completed"
    },
    "tags": []
   },
   "outputs": [],
   "source": [
    "#hide\n",
    "import pandas as pd\n",
    "import matplotlib.pyplot as plt\n",
    "import matplotlib.ticker as ticker\n",
    "import matplotlib.animation as animation\n",
    "from IPython.display import HTML"
   ]
  },
  {
   "cell_type": "code",
   "execution_count": 21,
   "metadata": {
    "execution": {
     "iopub.execute_input": "2021-01-20T12:25:24.577857Z",
     "iopub.status.busy": "2021-01-20T12:25:24.577320Z",
     "iopub.status.idle": "2021-01-20T12:25:24.583936Z",
     "shell.execute_reply": "2021-01-20T12:25:24.583465Z"
    },
    "papermill": {
     "duration": 0.041755,
     "end_time": "2021-01-20T12:25:24.584061",
     "exception": false,
     "start_time": "2021-01-20T12:25:24.542306",
     "status": "completed"
    },
    "tags": []
   },
   "outputs": [],
   "source": [
    "#hide\n",
    "t = everydaycases.stack()"
   ]
  },
  {
   "cell_type": "code",
   "execution_count": 22,
   "metadata": {
    "execution": {
     "iopub.execute_input": "2021-01-20T12:25:24.651262Z",
     "iopub.status.busy": "2021-01-20T12:25:24.650548Z",
     "iopub.status.idle": "2021-01-20T12:25:24.658117Z",
     "shell.execute_reply": "2021-01-20T12:25:24.658590Z"
    },
    "papermill": {
     "duration": 0.046203,
     "end_time": "2021-01-20T12:25:24.658742",
     "exception": false,
     "start_time": "2021-01-20T12:25:24.612539",
     "status": "completed"
    },
    "tags": []
   },
   "outputs": [],
   "source": [
    "#hide\n",
    "g = t.reset_index(['Country/Region'])"
   ]
  },
  {
   "cell_type": "code",
   "execution_count": 23,
   "metadata": {
    "execution": {
     "iopub.execute_input": "2021-01-20T12:25:24.719049Z",
     "iopub.status.busy": "2021-01-20T12:25:24.718505Z",
     "iopub.status.idle": "2021-01-20T12:25:24.721418Z",
     "shell.execute_reply": "2021-01-20T12:25:24.720929Z"
    },
    "papermill": {
     "duration": 0.035809,
     "end_time": "2021-01-20T12:25:24.721537",
     "exception": false,
     "start_time": "2021-01-20T12:25:24.685728",
     "status": "completed"
    },
    "tags": []
   },
   "outputs": [],
   "source": [
    "#hide\n",
    "g.index.name = 'date'"
   ]
  },
  {
   "cell_type": "code",
   "execution_count": 24,
   "metadata": {
    "execution": {
     "iopub.execute_input": "2021-01-20T12:25:24.791078Z",
     "iopub.status.busy": "2021-01-20T12:25:24.790493Z",
     "iopub.status.idle": "2021-01-20T12:25:24.793027Z",
     "shell.execute_reply": "2021-01-20T12:25:24.793585Z"
    },
    "papermill": {
     "duration": 0.038504,
     "end_time": "2021-01-20T12:25:24.793722",
     "exception": false,
     "start_time": "2021-01-20T12:25:24.755218",
     "status": "completed"
    },
    "tags": []
   },
   "outputs": [],
   "source": [
    "# #hide\n",
    "# g = g.reset_index(['date'])"
   ]
  },
  {
   "cell_type": "code",
   "execution_count": 25,
   "metadata": {
    "execution": {
     "iopub.execute_input": "2021-01-20T12:25:24.855065Z",
     "iopub.status.busy": "2021-01-20T12:25:24.854329Z",
     "iopub.status.idle": "2021-01-20T12:25:24.857205Z",
     "shell.execute_reply": "2021-01-20T12:25:24.857675Z"
    },
    "papermill": {
     "duration": 0.03516,
     "end_time": "2021-01-20T12:25:24.857808",
     "exception": false,
     "start_time": "2021-01-20T12:25:24.822648",
     "status": "completed"
    },
    "tags": []
   },
   "outputs": [],
   "source": [
    "#hide\n",
    "# g.head()"
   ]
  },
  {
   "cell_type": "code",
   "execution_count": 26,
   "metadata": {
    "execution": {
     "iopub.execute_input": "2021-01-20T12:25:24.923210Z",
     "iopub.status.busy": "2021-01-20T12:25:24.922654Z",
     "iopub.status.idle": "2021-01-20T12:25:24.925394Z",
     "shell.execute_reply": "2021-01-20T12:25:24.925957Z"
    },
    "papermill": {
     "duration": 0.037374,
     "end_time": "2021-01-20T12:25:24.926097",
     "exception": false,
     "start_time": "2021-01-20T12:25:24.888723",
     "status": "completed"
    },
    "tags": []
   },
   "outputs": [],
   "source": [
    "#hide\n",
    "# g.columns = ['date','country','cases']"
   ]
  },
  {
   "cell_type": "code",
   "execution_count": 27,
   "metadata": {
    "execution": {
     "iopub.execute_input": "2021-01-20T12:25:24.996531Z",
     "iopub.status.busy": "2021-01-20T12:25:24.995922Z",
     "iopub.status.idle": "2021-01-20T12:25:24.999952Z",
     "shell.execute_reply": "2021-01-20T12:25:24.999330Z"
    },
    "papermill": {
     "duration": 0.04161,
     "end_time": "2021-01-20T12:25:25.000086",
     "exception": false,
     "start_time": "2021-01-20T12:25:24.958476",
     "status": "completed"
    },
    "tags": []
   },
   "outputs": [],
   "source": [
    "#hide\n",
    "# g['continent'] = g.country"
   ]
  },
  {
   "cell_type": "code",
   "execution_count": 28,
   "metadata": {
    "execution": {
     "iopub.execute_input": "2021-01-20T12:25:25.065759Z",
     "iopub.status.busy": "2021-01-20T12:25:25.065171Z",
     "iopub.status.idle": "2021-01-20T12:25:25.067337Z",
     "shell.execute_reply": "2021-01-20T12:25:25.067877Z"
    },
    "papermill": {
     "duration": 0.036509,
     "end_time": "2021-01-20T12:25:25.068021",
     "exception": false,
     "start_time": "2021-01-20T12:25:25.031512",
     "status": "completed"
    },
    "tags": []
   },
   "outputs": [],
   "source": [
    "#hide\n",
    "# cols = list(g.columns.values)"
   ]
  },
  {
   "cell_type": "code",
   "execution_count": 29,
   "metadata": {
    "execution": {
     "iopub.execute_input": "2021-01-20T12:25:25.132662Z",
     "iopub.status.busy": "2021-01-20T12:25:25.131940Z",
     "iopub.status.idle": "2021-01-20T12:25:25.133894Z",
     "shell.execute_reply": "2021-01-20T12:25:25.134367Z"
    },
    "papermill": {
     "duration": 0.03605,
     "end_time": "2021-01-20T12:25:25.134575",
     "exception": false,
     "start_time": "2021-01-20T12:25:25.098525",
     "status": "completed"
    },
    "tags": []
   },
   "outputs": [],
   "source": [
    "#hide\n",
    "# cols.insert(0, cols.pop())"
   ]
  },
  {
   "cell_type": "code",
   "execution_count": 30,
   "metadata": {
    "execution": {
     "iopub.execute_input": "2021-01-20T12:25:25.203057Z",
     "iopub.status.busy": "2021-01-20T12:25:25.202386Z",
     "iopub.status.idle": "2021-01-20T12:25:25.204124Z",
     "shell.execute_reply": "2021-01-20T12:25:25.204490Z"
    },
    "papermill": {
     "duration": 0.037843,
     "end_time": "2021-01-20T12:25:25.204610",
     "exception": false,
     "start_time": "2021-01-20T12:25:25.166767",
     "status": "completed"
    },
    "tags": []
   },
   "outputs": [],
   "source": [
    "#hide\n",
    "# g = g[cols]"
   ]
  },
  {
   "cell_type": "code",
   "execution_count": 31,
   "metadata": {
    "execution": {
     "iopub.execute_input": "2021-01-20T12:25:25.267466Z",
     "iopub.status.busy": "2021-01-20T12:25:25.266901Z",
     "iopub.status.idle": "2021-01-20T12:25:25.269198Z",
     "shell.execute_reply": "2021-01-20T12:25:25.268677Z"
    },
    "papermill": {
     "duration": 0.035418,
     "end_time": "2021-01-20T12:25:25.269314",
     "exception": false,
     "start_time": "2021-01-20T12:25:25.233896",
     "status": "completed"
    },
    "tags": []
   },
   "outputs": [],
   "source": [
    "#hide\n",
    "# g['continent'] = g['continent'].map(mapping['map.continent'])"
   ]
  },
  {
   "cell_type": "code",
   "execution_count": 32,
   "metadata": {
    "execution": {
     "iopub.execute_input": "2021-01-20T12:25:25.333858Z",
     "iopub.status.busy": "2021-01-20T12:25:25.333282Z",
     "iopub.status.idle": "2021-01-20T12:25:25.334982Z",
     "shell.execute_reply": "2021-01-20T12:25:25.335537Z"
    },
    "papermill": {
     "duration": 0.035619,
     "end_time": "2021-01-20T12:25:25.335698",
     "exception": false,
     "start_time": "2021-01-20T12:25:25.300079",
     "status": "completed"
    },
    "tags": []
   },
   "outputs": [],
   "source": [
    "#hide\n",
    "# g.head()"
   ]
  },
  {
   "cell_type": "code",
   "execution_count": 33,
   "metadata": {
    "execution": {
     "iopub.execute_input": "2021-01-20T12:25:25.398979Z",
     "iopub.status.busy": "2021-01-20T12:25:25.398393Z",
     "iopub.status.idle": "2021-01-20T12:25:25.400189Z",
     "shell.execute_reply": "2021-01-20T12:25:25.400662Z"
    },
    "papermill": {
     "duration": 0.035646,
     "end_time": "2021-01-20T12:25:25.400805",
     "exception": false,
     "start_time": "2021-01-20T12:25:25.365159",
     "status": "completed"
    },
    "tags": []
   },
   "outputs": [],
   "source": [
    "# hide\n",
    "# g['date'] = g['date'].astype('datetime64[ns]')"
   ]
  },
  {
   "cell_type": "code",
   "execution_count": 34,
   "metadata": {
    "execution": {
     "iopub.execute_input": "2021-01-20T12:25:25.478383Z",
     "iopub.status.busy": "2021-01-20T12:25:25.477717Z",
     "iopub.status.idle": "2021-01-20T12:25:25.481764Z",
     "shell.execute_reply": "2021-01-20T12:25:25.481239Z"
    },
    "papermill": {
     "duration": 0.04428,
     "end_time": "2021-01-20T12:25:25.481887",
     "exception": false,
     "start_time": "2021-01-20T12:25:25.437607",
     "status": "completed"
    },
    "tags": []
   },
   "outputs": [],
   "source": [
    "#hide\n",
    "# g['date'] = g.date.dt.dayofyear"
   ]
  },
  {
   "cell_type": "code",
   "execution_count": 35,
   "metadata": {
    "execution": {
     "iopub.execute_input": "2021-01-20T12:25:25.547469Z",
     "iopub.status.busy": "2021-01-20T12:25:25.546697Z",
     "iopub.status.idle": "2021-01-20T12:25:25.550300Z",
     "shell.execute_reply": "2021-01-20T12:25:25.550817Z"
    },
    "papermill": {
     "duration": 0.038302,
     "end_time": "2021-01-20T12:25:25.550968",
     "exception": false,
     "start_time": "2021-01-20T12:25:25.512666",
     "status": "completed"
    },
    "tags": []
   },
   "outputs": [],
   "source": [
    "#hide\n",
    "# g = g.rename(columns= {'continent':'group','country':'name','cases':'value'})"
   ]
  },
  {
   "cell_type": "code",
   "execution_count": 36,
   "metadata": {
    "execution": {
     "iopub.execute_input": "2021-01-20T12:25:25.618776Z",
     "iopub.status.busy": "2021-01-20T12:25:25.617620Z",
     "iopub.status.idle": "2021-01-20T12:25:25.619399Z",
     "shell.execute_reply": "2021-01-20T12:25:25.619859Z"
    },
    "papermill": {
     "duration": 0.036989,
     "end_time": "2021-01-20T12:25:25.619992",
     "exception": false,
     "start_time": "2021-01-20T12:25:25.583003",
     "status": "completed"
    },
    "tags": []
   },
   "outputs": [],
   "source": [
    "#hide\n",
    "# cols = ['name','group','day','value']"
   ]
  },
  {
   "cell_type": "code",
   "execution_count": 37,
   "metadata": {
    "execution": {
     "iopub.execute_input": "2021-01-20T12:25:25.683899Z",
     "iopub.status.busy": "2021-01-20T12:25:25.683273Z",
     "iopub.status.idle": "2021-01-20T12:25:25.686745Z",
     "shell.execute_reply": "2021-01-20T12:25:25.686050Z"
    },
    "papermill": {
     "duration": 0.036327,
     "end_time": "2021-01-20T12:25:25.686882",
     "exception": false,
     "start_time": "2021-01-20T12:25:25.650555",
     "status": "completed"
    },
    "tags": []
   },
   "outputs": [],
   "source": [
    "#hide\n",
    "# g.rename(columns= {'date':'day'},inplace = True)"
   ]
  },
  {
   "cell_type": "code",
   "execution_count": 38,
   "metadata": {
    "execution": {
     "iopub.execute_input": "2021-01-20T12:25:25.750094Z",
     "iopub.status.busy": "2021-01-20T12:25:25.748785Z",
     "iopub.status.idle": "2021-01-20T12:25:25.750912Z",
     "shell.execute_reply": "2021-01-20T12:25:25.751558Z"
    },
    "papermill": {
     "duration": 0.03587,
     "end_time": "2021-01-20T12:25:25.751775",
     "exception": false,
     "start_time": "2021-01-20T12:25:25.715905",
     "status": "completed"
    },
    "tags": []
   },
   "outputs": [],
   "source": [
    "#hide\n",
    "# g = g[cols]"
   ]
  },
  {
   "cell_type": "code",
   "execution_count": 39,
   "metadata": {
    "execution": {
     "iopub.execute_input": "2021-01-20T12:25:25.819881Z",
     "iopub.status.busy": "2021-01-20T12:25:25.819268Z",
     "iopub.status.idle": "2021-01-20T12:25:25.821746Z",
     "shell.execute_reply": "2021-01-20T12:25:25.821269Z"
    },
    "papermill": {
     "duration": 0.037822,
     "end_time": "2021-01-20T12:25:25.821885",
     "exception": false,
     "start_time": "2021-01-20T12:25:25.784063",
     "status": "completed"
    },
    "tags": []
   },
   "outputs": [],
   "source": [
    "# #hide\n",
    "# g = g[g.group.notna()]"
   ]
  },
  {
   "cell_type": "code",
   "execution_count": 40,
   "metadata": {
    "execution": {
     "iopub.execute_input": "2021-01-20T12:25:25.892871Z",
     "iopub.status.busy": "2021-01-20T12:25:25.892008Z",
     "iopub.status.idle": "2021-01-20T12:25:25.893690Z",
     "shell.execute_reply": "2021-01-20T12:25:25.894302Z"
    },
    "papermill": {
     "duration": 0.038601,
     "end_time": "2021-01-20T12:25:25.894450",
     "exception": false,
     "start_time": "2021-01-20T12:25:25.855849",
     "status": "completed"
    },
    "tags": []
   },
   "outputs": [],
   "source": [
    "# #hide\n",
    "# colors = dict(zip(\n",
    "#     [\"Oceania\", \"Europe\", \"Asia\", \"South America\", \"Middle East\", \"North America\", \"Africa\"],\n",
    "#     [\"#adb0ff\", \"#ffb3ff\", \"#90d595\", \"#e48381\", \"#aafbff\", \"#f7bb5f\", \"#eafb50\"]\n",
    "# ))\n",
    "# group_lk = g.set_index('name')['group'].to_dict()"
   ]
  },
  {
   "cell_type": "code",
   "execution_count": null,
   "metadata": {
    "papermill": {
     "duration": 0.032469,
     "end_time": "2021-01-20T12:25:25.957226",
     "exception": false,
     "start_time": "2021-01-20T12:25:25.924757",
     "status": "completed"
    },
    "tags": []
   },
   "outputs": [],
   "source": []
  },
  {
   "cell_type": "code",
   "execution_count": 41,
   "metadata": {
    "execution": {
     "iopub.execute_input": "2021-01-20T12:25:26.024765Z",
     "iopub.status.busy": "2021-01-20T12:25:26.024090Z",
     "iopub.status.idle": "2021-01-20T12:25:26.025467Z",
     "shell.execute_reply": "2021-01-20T12:25:26.025873Z"
    },
    "papermill": {
     "duration": 0.036387,
     "end_time": "2021-01-20T12:25:26.025979",
     "exception": false,
     "start_time": "2021-01-20T12:25:25.989592",
     "status": "completed"
    },
    "tags": []
   },
   "outputs": [],
   "source": [
    "# #hide\n",
    "# fig, ax = plt.subplots(figsize=(15, 8))\n",
    "\n",
    "# def draw_barchart(current_day):\n",
    "#     dff = g[g['day'].eq(current_day)].sort_values(by='value', ascending=True).tail(10)\n",
    "#     ax.clear()\n",
    "#     ax.barh(dff['name'], dff['value'], color=[colors[group_lk[x]] for x in dff['name']])\n",
    "#     dx = dff['value'].max() / 200\n",
    "    \n",
    "#     for i, (value, name) in enumerate(zip(dff['value'], dff['name'])):\n",
    "#         ax.text(value-dx, i,     name,           size=14, weight=600, ha='right', va='bottom')\n",
    "#         ax.text(value-dx, i-.25, group_lk[name], size=10, color='#444444', ha='right', va='baseline')\n",
    "#         ax.text(value+dx, i,     f'{value:,.0f}',  size=14, ha='left',  va='center')\n",
    "#     ax.text(1, 0.4, current_day, transform=ax.transAxes, color='#777777', size=46, ha='right', weight=800)\n",
    "#     ax.text(0, 1.06, 'Population (thousands)', transform=ax.transAxes, size=12, color='#777777')\n",
    "#     ax.xaxis.set_major_formatter(ticker.StrMethodFormatter('{x:,.0f}'))\n",
    "#     ax.xaxis.set_ticks_position('top')\n",
    "#     ax.tick_params(axis='x', colors='#777777', labelsize=12)\n",
    "#     ax.set_yticks([])\n",
    "#     ax.margins(0, 0.01)\n",
    "#     ax.grid(which='major', axis='x', linestyle='-')\n",
    "#     ax.set_axisbelow(True)\n",
    "    \n",
    "#     ax.text(0, 1.15, 'Coronavirus',\n",
    "#             transform=ax.transAxes, size=24, weight=600, ha='left', va='top')\n",
    "# #     ax.text(1, 0, 'by @pratapvardhan; credit @jburnmurdoch', transform=ax.transAxes, color='#777777', ha='right',\n",
    "# #             bbox=dict(facecolor='white', alpha=0.8, edgecolor='white'))\n",
    "#     plt.box(False)"
   ]
  },
  {
   "cell_type": "code",
   "execution_count": 42,
   "metadata": {
    "execution": {
     "iopub.execute_input": "2021-01-20T12:25:26.092075Z",
     "iopub.status.busy": "2021-01-20T12:25:26.091531Z",
     "iopub.status.idle": "2021-01-20T12:25:26.093372Z",
     "shell.execute_reply": "2021-01-20T12:25:26.093823Z"
    },
    "papermill": {
     "duration": 0.036709,
     "end_time": "2021-01-20T12:25:26.093956",
     "exception": false,
     "start_time": "2021-01-20T12:25:26.057247",
     "status": "completed"
    },
    "tags": []
   },
   "outputs": [],
   "source": [
    "# #hide_input\n",
    "# fig, ax = plt.subplots(figsize=(15, 8))\n",
    "# animator = animation.FuncAnimation(fig, draw_barchart, frames=range(g.day.values.min(), g.day.values.max()))\n",
    "# HTML(animator.to_jshtml())\n",
    "# # or use animator.to_html5_video() or animator.save() "
   ]
  },
  {
   "cell_type": "code",
   "execution_count": null,
   "metadata": {
    "papermill": {
     "duration": 0.031341,
     "end_time": "2021-01-20T12:25:26.153938",
     "exception": false,
     "start_time": "2021-01-20T12:25:26.122597",
     "status": "completed"
    },
    "tags": []
   },
   "outputs": [],
   "source": []
  },
  {
   "cell_type": "code",
   "execution_count": null,
   "metadata": {
    "papermill": {
     "duration": 0.032954,
     "end_time": "2021-01-20T12:25:26.220001",
     "exception": false,
     "start_time": "2021-01-20T12:25:26.187047",
     "status": "completed"
    },
    "tags": []
   },
   "outputs": [],
   "source": []
  },
  {
   "cell_type": "code",
   "execution_count": null,
   "metadata": {
    "papermill": {
     "duration": 0.032432,
     "end_time": "2021-01-20T12:25:26.283245",
     "exception": false,
     "start_time": "2021-01-20T12:25:26.250813",
     "status": "completed"
    },
    "tags": []
   },
   "outputs": [],
   "source": []
  }
 ],
 "metadata": {
  "kernelspec": {
   "display_name": "Python 3",
   "language": "python",
   "name": "python3"
  },
  "language_info": {
   "codemirror_mode": {
    "name": "ipython",
    "version": 3
   },
   "file_extension": ".py",
   "mimetype": "text/x-python",
   "name": "python",
   "nbconvert_exporter": "python",
   "pygments_lexer": "ipython3",
   "version": "3.6.12"
  },
  "papermill": {
   "duration": 6.518013,
   "end_time": "2021-01-20T12:25:26.622443",
   "environment_variables": {},
   "exception": null,
   "input_path": "2020-03-21-covid19exp.ipynb",
   "output_path": "2020-03-21-covid19exp.ipynb",
   "parameters": {},
   "start_time": "2021-01-20T12:25:20.104430",
   "version": "2.0.0"
  }
 },
 "nbformat": 4,
 "nbformat_minor": 4
}