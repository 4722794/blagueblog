{
 "cells": [
  {
   "cell_type": "markdown",
   "id": "muslim-click",
   "metadata": {
    "papermill": {
     "duration": 0.034348,
     "end_time": "2022-05-25T00:43:47.350264",
     "exception": false,
     "start_time": "2022-05-25T00:43:47.315916",
     "status": "completed"
    },
    "tags": []
   },
   "source": [
    "# COVID-19 Case Race\n",
    "> A race chart to see rising cases around the world\n",
    "\n",
    "- author: Hargun Oberoi\n",
    "- image: images/covid-overview.png\n",
    "- hide: false\n",
    "- badges: false"
   ]
  },
  {
   "cell_type": "code",
   "execution_count": 1,
   "id": "proof-material",
   "metadata": {
    "execution": {
     "iopub.execute_input": "2022-05-25T00:43:47.421396Z",
     "iopub.status.busy": "2022-05-25T00:43:47.420774Z",
     "iopub.status.idle": "2022-05-25T00:43:47.763145Z",
     "shell.execute_reply": "2022-05-25T00:43:47.763641Z"
    },
    "papermill": {
     "duration": 0.382246,
     "end_time": "2022-05-25T00:43:47.763825",
     "exception": false,
     "start_time": "2022-05-25T00:43:47.381579",
     "status": "completed"
    },
    "tags": []
   },
   "outputs": [],
   "source": [
    "#hide\n",
    "import numpy as np\n",
    "import pandas as pd\n",
    "from jinja2 import Template\n",
    "from IPython.display import HTML"
   ]
  },
  {
   "cell_type": "code",
   "execution_count": 2,
   "id": "developed-terminology",
   "metadata": {
    "execution": {
     "iopub.execute_input": "2022-05-25T00:43:47.828717Z",
     "iopub.status.busy": "2022-05-25T00:43:47.827973Z",
     "iopub.status.idle": "2022-05-25T00:43:47.829525Z",
     "shell.execute_reply": "2022-05-25T00:43:47.830201Z"
    },
    "papermill": {
     "duration": 0.037016,
     "end_time": "2022-05-25T00:43:47.830353",
     "exception": false,
     "start_time": "2022-05-25T00:43:47.793337",
     "status": "completed"
    },
    "tags": []
   },
   "outputs": [],
   "source": [
    "#hide\n",
    "\n",
    "# FETCH\n",
    "base_url = 'https://raw.githubusercontent.com/pratapvardhan/notebooks/master/covid19/'\n",
    "paths = {\n",
    "    'mapping': base_url + 'mapping_countries.csv',\n",
    "    'overview': base_url + 'overview.tpl'\n",
    "}"
   ]
  },
  {
   "cell_type": "code",
   "execution_count": 3,
   "id": "dynamic-saver",
   "metadata": {
    "execution": {
     "iopub.execute_input": "2022-05-25T00:43:47.899953Z",
     "iopub.status.busy": "2022-05-25T00:43:47.899348Z",
     "iopub.status.idle": "2022-05-25T00:43:47.902074Z",
     "shell.execute_reply": "2022-05-25T00:43:47.902556Z"
    },
    "papermill": {
     "duration": 0.042636,
     "end_time": "2022-05-25T00:43:47.902692",
     "exception": false,
     "start_time": "2022-05-25T00:43:47.860056",
     "status": "completed"
    },
    "tags": []
   },
   "outputs": [
    {
     "data": {
      "text/plain": [
       "'https://raw.githubusercontent.com/pratapvardhan/notebooks/master/covid19/mapping_countries.csv'"
      ]
     },
     "execution_count": 3,
     "metadata": {},
     "output_type": "execute_result"
    }
   ],
   "source": [
    "#hide\n",
    "paths['mapping']"
   ]
  },
  {
   "cell_type": "code",
   "execution_count": 4,
   "id": "urban-software",
   "metadata": {
    "execution": {
     "iopub.execute_input": "2022-05-25T00:43:47.967945Z",
     "iopub.status.busy": "2022-05-25T00:43:47.967273Z",
     "iopub.status.idle": "2022-05-25T00:43:47.969799Z",
     "shell.execute_reply": "2022-05-25T00:43:47.969271Z"
    },
    "papermill": {
     "duration": 0.037712,
     "end_time": "2022-05-25T00:43:47.969925",
     "exception": false,
     "start_time": "2022-05-25T00:43:47.932213",
     "status": "completed"
    },
    "tags": []
   },
   "outputs": [],
   "source": [
    "#hide\n",
    "def get_mappings(url):\n",
    "    df = pd.read_csv(url)\n",
    "    return {\n",
    "        'df': df,\n",
    "        'replace.country': dict(df.dropna(subset=['Name']).set_index('Country')['Name']),\n",
    "        'map.continent': dict(df.set_index('Name')['Continent'])\n",
    "    }"
   ]
  },
  {
   "cell_type": "code",
   "execution_count": 5,
   "id": "intimate-machinery",
   "metadata": {
    "execution": {
     "iopub.execute_input": "2022-05-25T00:43:48.035066Z",
     "iopub.status.busy": "2022-05-25T00:43:48.034426Z",
     "iopub.status.idle": "2022-05-25T00:43:48.064336Z",
     "shell.execute_reply": "2022-05-25T00:43:48.063715Z"
    },
    "papermill": {
     "duration": 0.064979,
     "end_time": "2022-05-25T00:43:48.064473",
     "exception": false,
     "start_time": "2022-05-25T00:43:47.999494",
     "status": "completed"
    },
    "tags": []
   },
   "outputs": [],
   "source": [
    "#hide\n",
    "mapping = get_mappings(paths['mapping'])"
   ]
  },
  {
   "cell_type": "code",
   "execution_count": 6,
   "id": "certified-tactics",
   "metadata": {
    "execution": {
     "iopub.execute_input": "2022-05-25T00:43:48.129861Z",
     "iopub.status.busy": "2022-05-25T00:43:48.129220Z",
     "iopub.status.idle": "2022-05-25T00:43:48.131681Z",
     "shell.execute_reply": "2022-05-25T00:43:48.132134Z"
    },
    "papermill": {
     "duration": 0.03759,
     "end_time": "2022-05-25T00:43:48.132274",
     "exception": false,
     "start_time": "2022-05-25T00:43:48.094684",
     "status": "completed"
    },
    "tags": []
   },
   "outputs": [],
   "source": [
    "#hide\n",
    "def get_template(path):\n",
    "    from urllib.parse import urlparse\n",
    "    if bool(urlparse(path).netloc):\n",
    "        from urllib.request import urlopen\n",
    "        return urlopen(path).read().decode('utf8')\n",
    "    return open(path).read()"
   ]
  },
  {
   "cell_type": "code",
   "execution_count": 7,
   "id": "realistic-blast",
   "metadata": {
    "execution": {
     "iopub.execute_input": "2022-05-25T00:43:48.196883Z",
     "iopub.status.busy": "2022-05-25T00:43:48.196184Z",
     "iopub.status.idle": "2022-05-25T00:43:48.197847Z",
     "shell.execute_reply": "2022-05-25T00:43:48.198395Z"
    },
    "papermill": {
     "duration": 0.036745,
     "end_time": "2022-05-25T00:43:48.198543",
     "exception": false,
     "start_time": "2022-05-25T00:43:48.161798",
     "status": "completed"
    },
    "tags": []
   },
   "outputs": [],
   "source": [
    "#hide\n",
    "def get_frame(name):\n",
    "    url = (\n",
    "        'https://raw.githubusercontent.com/CSSEGISandData/COVID-19/master/csse_covid_19_data/'\n",
    "        f'csse_covid_19_time_series/time_series_covid19_{name}_global.csv')\n",
    "    df = pd.read_csv(url)\n",
    "    # rename countries\n",
    "    df['Country/Region'] = df['Country/Region'].replace(mapping['replace.country'])\n",
    "    return df"
   ]
  },
  {
   "cell_type": "code",
   "execution_count": 8,
   "id": "affiliated-characterization",
   "metadata": {
    "execution": {
     "iopub.execute_input": "2022-05-25T00:43:48.264728Z",
     "iopub.status.busy": "2022-05-25T00:43:48.264091Z",
     "iopub.status.idle": "2022-05-25T00:43:48.266153Z",
     "shell.execute_reply": "2022-05-25T00:43:48.266583Z"
    },
    "papermill": {
     "duration": 0.03824,
     "end_time": "2022-05-25T00:43:48.266725",
     "exception": false,
     "start_time": "2022-05-25T00:43:48.228485",
     "status": "completed"
    },
    "tags": []
   },
   "outputs": [],
   "source": [
    "#hide\n",
    "def get_dates(df):\n",
    "    dt_cols = df.columns[~df.columns.isin(['Province/State', 'Country/Region', 'Lat', 'Long'])]\n",
    "    LAST_DATE_I = -1\n",
    "    # sometimes last column may be empty, then go backwards\n",
    "    for i in range(-1, -len(dt_cols), -1):\n",
    "        if not df[dt_cols[i]].fillna(0).eq(0).all():\n",
    "            LAST_DATE_I = i\n",
    "            break\n",
    "    return LAST_DATE_I, dt_cols"
   ]
  },
  {
   "cell_type": "code",
   "execution_count": 9,
   "id": "recent-optimization",
   "metadata": {
    "execution": {
     "iopub.execute_input": "2022-05-25T00:43:48.331310Z",
     "iopub.status.busy": "2022-05-25T00:43:48.330653Z",
     "iopub.status.idle": "2022-05-25T00:43:48.689821Z",
     "shell.execute_reply": "2022-05-25T00:43:48.688539Z"
    },
    "papermill": {
     "duration": 0.393869,
     "end_time": "2022-05-25T00:43:48.689962",
     "exception": false,
     "start_time": "2022-05-25T00:43:48.296093",
     "status": "completed"
    },
    "tags": []
   },
   "outputs": [],
   "source": [
    "#hide\n",
    "COL_REGION = 'Country/Region'\n",
    "# Confirmed, Recovered, Deaths\n",
    "df = get_frame('confirmed')\n",
    "# dft_: timeseries, dfc_: today country agg\n",
    "dft_cases = df\n",
    "dft_deaths = get_frame('deaths')\n",
    "dft_recovered = get_frame('recovered')\n",
    "LAST_DATE_I, dt_cols = get_dates(df)"
   ]
  },
  {
   "cell_type": "code",
   "execution_count": 10,
   "id": "absolute-copper",
   "metadata": {
    "execution": {
     "iopub.execute_input": "2022-05-25T00:43:48.755033Z",
     "iopub.status.busy": "2022-05-25T00:43:48.754400Z",
     "iopub.status.idle": "2022-05-25T00:43:48.756518Z",
     "shell.execute_reply": "2022-05-25T00:43:48.756941Z"
    },
    "papermill": {
     "duration": 0.037502,
     "end_time": "2022-05-25T00:43:48.757083",
     "exception": false,
     "start_time": "2022-05-25T00:43:48.719581",
     "status": "completed"
    },
    "tags": []
   },
   "outputs": [],
   "source": [
    "#hide\n",
    "LAST_DATE_I, dt_cols = get_dates(df)\n",
    "dt_today =dt_cols[LAST_DATE_I]\n",
    "# dt_5day = dt_cols[LAST_DATE_I - 5]\n",
    "dt_yday = dt_cols[LAST_DATE_I - 1]"
   ]
  },
  {
   "cell_type": "code",
   "execution_count": 11,
   "id": "restricted-sheriff",
   "metadata": {
    "execution": {
     "iopub.execute_input": "2022-05-25T00:43:48.822144Z",
     "iopub.status.busy": "2022-05-25T00:43:48.821492Z",
     "iopub.status.idle": "2022-05-25T00:43:48.829764Z",
     "shell.execute_reply": "2022-05-25T00:43:48.830279Z"
    },
    "papermill": {
     "duration": 0.043879,
     "end_time": "2022-05-25T00:43:48.830451",
     "exception": false,
     "start_time": "2022-05-25T00:43:48.786572",
     "status": "completed"
    },
    "tags": []
   },
   "outputs": [],
   "source": [
    "#hide\n",
    "dfc_cases = dft_cases.groupby(COL_REGION)[dt_today].sum()\n",
    "dfc_deaths = dft_deaths.groupby(COL_REGION)[dt_today].sum()\n",
    "# dfp_cases = dft_cases.groupby(COL_REGION)[dt_5day].sum()\n",
    "# dfp_deaths = dft_deaths.groupby(COL_REGION)[dt_5day].sum()\n",
    "dfp_cases = dft_cases.groupby(COL_REGION)[dt_yday].sum()\n",
    "dfp_deaths = dft_deaths.groupby(COL_REGION)[dt_yday].sum()"
   ]
  },
  {
   "cell_type": "code",
   "execution_count": 12,
   "id": "deluxe-hepatitis",
   "metadata": {
    "execution": {
     "iopub.execute_input": "2022-05-25T00:43:48.902793Z",
     "iopub.status.busy": "2022-05-25T00:43:48.902067Z",
     "iopub.status.idle": "2022-05-25T00:43:48.907692Z",
     "shell.execute_reply": "2022-05-25T00:43:48.907181Z"
    },
    "papermill": {
     "duration": 0.043922,
     "end_time": "2022-05-25T00:43:48.907844",
     "exception": false,
     "start_time": "2022-05-25T00:43:48.863922",
     "status": "completed"
    },
    "tags": []
   },
   "outputs": [],
   "source": [
    "#hide\n",
    "df_table = (pd.DataFrame(dict(Cases = dfc_cases, Deaths = dfc_deaths, PCases = dfp_cases, PDeaths = dfp_deaths))\n",
    "            .sort_values(by = ['Cases','Deaths'], ascending = [False, False])\n",
    "            .reset_index())"
   ]
  },
  {
   "cell_type": "code",
   "execution_count": 13,
   "id": "educational-chancellor",
   "metadata": {
    "execution": {
     "iopub.execute_input": "2022-05-25T00:43:48.987781Z",
     "iopub.status.busy": "2022-05-25T00:43:48.987122Z",
     "iopub.status.idle": "2022-05-25T00:43:48.994562Z",
     "shell.execute_reply": "2022-05-25T00:43:48.995041Z"
    },
    "papermill": {
     "duration": 0.057382,
     "end_time": "2022-05-25T00:43:48.995183",
     "exception": false,
     "start_time": "2022-05-25T00:43:48.937801",
     "status": "completed"
    },
    "tags": []
   },
   "outputs": [
    {
     "data": {
      "text/html": [
       "<div>\n",
       "<style scoped>\n",
       "    .dataframe tbody tr th:only-of-type {\n",
       "        vertical-align: middle;\n",
       "    }\n",
       "\n",
       "    .dataframe tbody tr th {\n",
       "        vertical-align: top;\n",
       "    }\n",
       "\n",
       "    .dataframe thead th {\n",
       "        text-align: right;\n",
       "    }\n",
       "</style>\n",
       "<table border=\"1\" class=\"dataframe\">\n",
       "  <thead>\n",
       "    <tr style=\"text-align: right;\">\n",
       "      <th></th>\n",
       "      <th>Country/Region</th>\n",
       "      <th>Cases</th>\n",
       "      <th>Deaths</th>\n",
       "      <th>PCases</th>\n",
       "      <th>PDeaths</th>\n",
       "      <th>Cases (+)</th>\n",
       "      <th>Deaths (+)</th>\n",
       "      <th>Fatality Rate</th>\n",
       "      <th>Continent</th>\n",
       "    </tr>\n",
       "  </thead>\n",
       "  <tbody>\n",
       "    <tr>\n",
       "      <th>0</th>\n",
       "      <td>US</td>\n",
       "      <td>83390587</td>\n",
       "      <td>1002377</td>\n",
       "      <td>83281329</td>\n",
       "      <td>1002173</td>\n",
       "      <td>109258</td>\n",
       "      <td>204</td>\n",
       "      <td>1.20</td>\n",
       "      <td>North America</td>\n",
       "    </tr>\n",
       "    <tr>\n",
       "      <th>1</th>\n",
       "      <td>India</td>\n",
       "      <td>43140068</td>\n",
       "      <td>524490</td>\n",
       "      <td>43138393</td>\n",
       "      <td>524459</td>\n",
       "      <td>1675</td>\n",
       "      <td>31</td>\n",
       "      <td>1.22</td>\n",
       "      <td>Asia</td>\n",
       "    </tr>\n",
       "    <tr>\n",
       "      <th>2</th>\n",
       "      <td>Brazil</td>\n",
       "      <td>30803995</td>\n",
       "      <td>665891</td>\n",
       "      <td>30791220</td>\n",
       "      <td>665854</td>\n",
       "      <td>12775</td>\n",
       "      <td>37</td>\n",
       "      <td>2.16</td>\n",
       "      <td>South America</td>\n",
       "    </tr>\n",
       "    <tr>\n",
       "      <th>3</th>\n",
       "      <td>France</td>\n",
       "      <td>29551335</td>\n",
       "      <td>148955</td>\n",
       "      <td>29580970</td>\n",
       "      <td>148823</td>\n",
       "      <td>0</td>\n",
       "      <td>132</td>\n",
       "      <td>0.50</td>\n",
       "      <td>Europe</td>\n",
       "    </tr>\n",
       "    <tr>\n",
       "      <th>4</th>\n",
       "      <td>Germany</td>\n",
       "      <td>26109965</td>\n",
       "      <td>138485</td>\n",
       "      <td>26045528</td>\n",
       "      <td>138326</td>\n",
       "      <td>64437</td>\n",
       "      <td>159</td>\n",
       "      <td>0.53</td>\n",
       "      <td>Europe</td>\n",
       "    </tr>\n",
       "  </tbody>\n",
       "</table>\n",
       "</div>"
      ],
      "text/plain": [
       "  Country/Region     Cases   Deaths    PCases  PDeaths  Cases (+)  Deaths (+)  \\\n",
       "0             US  83390587  1002377  83281329  1002173     109258         204   \n",
       "1          India  43140068   524490  43138393   524459       1675          31   \n",
       "2         Brazil  30803995   665891  30791220   665854      12775          37   \n",
       "3         France  29551335   148955  29580970   148823          0         132   \n",
       "4        Germany  26109965   138485  26045528   138326      64437         159   \n",
       "\n",
       "   Fatality Rate      Continent  \n",
       "0           1.20  North America  \n",
       "1           1.22           Asia  \n",
       "2           2.16  South America  \n",
       "3           0.50         Europe  \n",
       "4           0.53         Europe  "
      ]
     },
     "execution_count": 13,
     "metadata": {},
     "output_type": "execute_result"
    }
   ],
   "source": [
    "#hide\n",
    "for c in 'Cases, Deaths'.split(', '):\n",
    "    df_table[f'{c} (+)'] = (df_table[c] - df_table[f'P{c}']).clip(0)\n",
    "    #Clip ça veut dire, les chiffres negatif sont interdit\n",
    "df_table['Fatality Rate'] = (100* df_table['Deaths']/ df_table['Cases']).round(2)\n",
    "df_table['Continent'] = df_table['Country/Region'].map(mapping['map.continent'])\n",
    "df_table.head(5)"
   ]
  },
  {
   "cell_type": "code",
   "execution_count": 14,
   "id": "aboriginal-bulgaria",
   "metadata": {
    "execution": {
     "iopub.execute_input": "2022-05-25T00:43:49.061485Z",
     "iopub.status.busy": "2022-05-25T00:43:49.060874Z",
     "iopub.status.idle": "2022-05-25T00:43:49.063295Z",
     "shell.execute_reply": "2022-05-25T00:43:49.063744Z"
    },
    "papermill": {
     "duration": 0.038811,
     "end_time": "2022-05-25T00:43:49.063885",
     "exception": false,
     "start_time": "2022-05-25T00:43:49.025074",
     "status": "completed"
    },
    "tags": []
   },
   "outputs": [],
   "source": [
    "#hide\n",
    "#delete problematic countries from table\n",
    "df_table = df_table[~df_table['Country/Region'].isin(['Cape Verde', 'Cruise Ship', 'Kosovo'])]"
   ]
  },
  {
   "cell_type": "code",
   "execution_count": 15,
   "id": "fantastic-effect",
   "metadata": {
    "execution": {
     "iopub.execute_input": "2022-05-25T00:43:49.132291Z",
     "iopub.status.busy": "2022-05-25T00:43:49.131684Z",
     "iopub.status.idle": "2022-05-25T00:43:49.150020Z",
     "shell.execute_reply": "2022-05-25T00:43:49.149503Z"
    },
    "papermill": {
     "duration": 0.056458,
     "end_time": "2022-05-25T00:43:49.150143",
     "exception": false,
     "start_time": "2022-05-25T00:43:49.093685",
     "status": "completed"
    },
    "tags": []
   },
   "outputs": [
    {
     "data": {
      "text/html": [
       "<div>\n",
       "<style scoped>\n",
       "    .dataframe tbody tr th:only-of-type {\n",
       "        vertical-align: middle;\n",
       "    }\n",
       "\n",
       "    .dataframe tbody tr th {\n",
       "        vertical-align: top;\n",
       "    }\n",
       "\n",
       "    .dataframe thead th {\n",
       "        text-align: right;\n",
       "    }\n",
       "</style>\n",
       "<table border=\"1\" class=\"dataframe\">\n",
       "  <thead>\n",
       "    <tr style=\"text-align: right;\">\n",
       "      <th></th>\n",
       "      <th>Country/Region</th>\n",
       "      <th>Cases</th>\n",
       "      <th>Deaths</th>\n",
       "      <th>PCases</th>\n",
       "      <th>PDeaths</th>\n",
       "      <th>Cases (+)</th>\n",
       "      <th>Deaths (+)</th>\n",
       "      <th>Fatality Rate</th>\n",
       "      <th>Continent</th>\n",
       "    </tr>\n",
       "  </thead>\n",
       "  <tbody>\n",
       "    <tr>\n",
       "      <th>0</th>\n",
       "      <td>US</td>\n",
       "      <td>83390587</td>\n",
       "      <td>1002377</td>\n",
       "      <td>83281329</td>\n",
       "      <td>1002173</td>\n",
       "      <td>109258</td>\n",
       "      <td>204</td>\n",
       "      <td>1.2</td>\n",
       "      <td>North America</td>\n",
       "    </tr>\n",
       "    <tr>\n",
       "      <th>1</th>\n",
       "      <td>India</td>\n",
       "      <td>43140068</td>\n",
       "      <td>524490</td>\n",
       "      <td>43138393</td>\n",
       "      <td>524459</td>\n",
       "      <td>1675</td>\n",
       "      <td>31</td>\n",
       "      <td>1.2</td>\n",
       "      <td>Asia</td>\n",
       "    </tr>\n",
       "    <tr>\n",
       "      <th>2</th>\n",
       "      <td>Brazil</td>\n",
       "      <td>30803995</td>\n",
       "      <td>665891</td>\n",
       "      <td>30791220</td>\n",
       "      <td>665854</td>\n",
       "      <td>12775</td>\n",
       "      <td>37</td>\n",
       "      <td>2.2</td>\n",
       "      <td>South America</td>\n",
       "    </tr>\n",
       "    <tr>\n",
       "      <th>3</th>\n",
       "      <td>France</td>\n",
       "      <td>29551335</td>\n",
       "      <td>148955</td>\n",
       "      <td>29580970</td>\n",
       "      <td>148823</td>\n",
       "      <td>0</td>\n",
       "      <td>132</td>\n",
       "      <td>0.5</td>\n",
       "      <td>Europe</td>\n",
       "    </tr>\n",
       "    <tr>\n",
       "      <th>4</th>\n",
       "      <td>Germany</td>\n",
       "      <td>26109965</td>\n",
       "      <td>138485</td>\n",
       "      <td>26045528</td>\n",
       "      <td>138326</td>\n",
       "      <td>64437</td>\n",
       "      <td>159</td>\n",
       "      <td>0.5</td>\n",
       "      <td>Europe</td>\n",
       "    </tr>\n",
       "  </tbody>\n",
       "</table>\n",
       "</div>"
      ],
      "text/plain": [
       "  Country/Region     Cases   Deaths    PCases  PDeaths  Cases (+)  Deaths (+)  \\\n",
       "0             US  83390587  1002377  83281329  1002173     109258         204   \n",
       "1          India  43140068   524490  43138393   524459       1675          31   \n",
       "2         Brazil  30803995   665891  30791220   665854      12775          37   \n",
       "3         France  29551335   148955  29580970   148823          0         132   \n",
       "4        Germany  26109965   138485  26045528   138326      64437         159   \n",
       "\n",
       "   Fatality Rate      Continent  \n",
       "0            1.2  North America  \n",
       "1            1.2           Asia  \n",
       "2            2.2  South America  \n",
       "3            0.5         Europe  \n",
       "4            0.5         Europe  "
      ]
     },
     "execution_count": 15,
     "metadata": {},
     "output_type": "execute_result"
    }
   ],
   "source": [
    "#hide\n",
    "df_table = (pd.DataFrame(dict(Cases=dfc_cases, Deaths=dfc_deaths, PCases=dfp_cases, PDeaths=dfp_deaths))\n",
    "             .sort_values(by=['Cases', 'Deaths'], ascending=[False, False])\n",
    "             .reset_index())\n",
    "df_table.rename(columns={'index': 'Country/Region'}, inplace=True)\n",
    "for c in 'Cases, Deaths'.split(', '):\n",
    "    df_table[f'{c} (+)'] = (df_table[c] - df_table[f'P{c}']).clip(0)  # DATA BUG\n",
    "df_table['Fatality Rate'] = (100 * df_table['Deaths'] / df_table['Cases']).round(1)\n",
    "df_table['Continent'] = df_table['Country/Region'].map(mapping['map.continent'])\n",
    "df_table.head(5)"
   ]
  },
  {
   "cell_type": "code",
   "execution_count": 16,
   "id": "fewer-occasion",
   "metadata": {
    "execution": {
     "iopub.execute_input": "2022-05-25T00:43:49.217547Z",
     "iopub.status.busy": "2022-05-25T00:43:49.216937Z",
     "iopub.status.idle": "2022-05-25T00:43:49.219455Z",
     "shell.execute_reply": "2022-05-25T00:43:49.219932Z"
    },
    "papermill": {
     "duration": 0.039286,
     "end_time": "2022-05-25T00:43:49.220068",
     "exception": false,
     "start_time": "2022-05-25T00:43:49.180782",
     "status": "completed"
    },
    "tags": []
   },
   "outputs": [],
   "source": [
    "#hide\n",
    "#delete problematic countries from table\n",
    "df_table = df_table[~df_table['Country/Region'].isin(['Cape Verde', 'Cruise Ship', 'Kosovo'])]"
   ]
  },
  {
   "cell_type": "code",
   "execution_count": 17,
   "id": "related-center",
   "metadata": {
    "execution": {
     "iopub.execute_input": "2022-05-25T00:43:49.289491Z",
     "iopub.status.busy": "2022-05-25T00:43:49.288858Z",
     "iopub.status.idle": "2022-05-25T00:43:49.301521Z",
     "shell.execute_reply": "2022-05-25T00:43:49.301029Z"
    },
    "papermill": {
     "duration": 0.051331,
     "end_time": "2022-05-25T00:43:49.301666",
     "exception": false,
     "start_time": "2022-05-25T00:43:49.250335",
     "status": "completed"
    },
    "tags": []
   },
   "outputs": [],
   "source": [
    "#hide\n",
    "metrics = [df_table.columns[index] for index in [1,2,5,6]]\n",
    "# s_china = df_table[df_table['Country/Region'].eq('China')][metrics].sum().add_prefix('China ')\n",
    "s_us = df_table[df_table['Country/Region'].eq('US')][metrics].sum().add_prefix('US ')\n",
    "s_eu = df_table[df_table['Continent'].eq('Europe')][metrics].sum().add_prefix('EU ')\n",
    "s_ind = df_table[df_table['Country/Region'].eq('India')][metrics].sum().add_prefix('India ')\n",
    "summary = {'updated': pd.to_datetime(dt_today), 'since': pd.to_datetime(dt_yday)}\n",
    "summary = {'updated': pd.to_datetime(dt_today), 'since': pd.to_datetime(dt_yday)}\n",
    "summary = {**summary, **df_table[metrics].sum(), **s_ind, **s_us, **s_eu}"
   ]
  },
  {
   "cell_type": "code",
   "execution_count": 18,
   "id": "engaging-syndrome",
   "metadata": {
    "execution": {
     "iopub.execute_input": "2022-05-25T00:43:49.368572Z",
     "iopub.status.busy": "2022-05-25T00:43:49.367950Z",
     "iopub.status.idle": "2022-05-25T00:43:49.388058Z",
     "shell.execute_reply": "2022-05-25T00:43:49.388582Z"
    },
    "papermill": {
     "duration": 0.056669,
     "end_time": "2022-05-25T00:43:49.388732",
     "exception": false,
     "start_time": "2022-05-25T00:43:49.332063",
     "status": "completed"
    },
    "tags": []
   },
   "outputs": [],
   "source": [
    "#hide\n",
    "dft_ct_new_cases = dft_cases.groupby(COL_REGION)[dt_cols].sum().diff(axis=1).fillna(0).astype(int)"
   ]
  },
  {
   "cell_type": "code",
   "execution_count": 19,
   "id": "neutral-assignment",
   "metadata": {
    "execution": {
     "iopub.execute_input": "2022-05-25T00:43:49.456801Z",
     "iopub.status.busy": "2022-05-25T00:43:49.456072Z",
     "iopub.status.idle": "2022-05-25T00:43:49.457794Z",
     "shell.execute_reply": "2022-05-25T00:43:49.458286Z"
    },
    "papermill": {
     "duration": 0.03932,
     "end_time": "2022-05-25T00:43:49.458427",
     "exception": false,
     "start_time": "2022-05-25T00:43:49.419107",
     "status": "completed"
    },
    "tags": []
   },
   "outputs": [],
   "source": [
    "#hide\n",
    "everydaycases = dft_ct_new_cases.cumsum(axis=1)"
   ]
  },
  {
   "cell_type": "code",
   "execution_count": 20,
   "id": "parliamentary-calgary",
   "metadata": {
    "execution": {
     "iopub.execute_input": "2022-05-25T00:43:49.524001Z",
     "iopub.status.busy": "2022-05-25T00:43:49.523389Z",
     "iopub.status.idle": "2022-05-25T00:43:50.113758Z",
     "shell.execute_reply": "2022-05-25T00:43:50.114305Z"
    },
    "papermill": {
     "duration": 0.625567,
     "end_time": "2022-05-25T00:43:50.114481",
     "exception": false,
     "start_time": "2022-05-25T00:43:49.488914",
     "status": "completed"
    },
    "tags": []
   },
   "outputs": [],
   "source": [
    "#hide\n",
    "import pandas as pd\n",
    "import matplotlib.pyplot as plt\n",
    "import matplotlib.ticker as ticker\n",
    "import matplotlib.animation as animation\n",
    "from IPython.display import HTML"
   ]
  },
  {
   "cell_type": "code",
   "execution_count": 21,
   "id": "lasting-extraction",
   "metadata": {
    "execution": {
     "iopub.execute_input": "2022-05-25T00:43:50.182844Z",
     "iopub.status.busy": "2022-05-25T00:43:50.182229Z",
     "iopub.status.idle": "2022-05-25T00:43:50.190003Z",
     "shell.execute_reply": "2022-05-25T00:43:50.190517Z"
    },
    "papermill": {
     "duration": 0.045533,
     "end_time": "2022-05-25T00:43:50.190666",
     "exception": false,
     "start_time": "2022-05-25T00:43:50.145133",
     "status": "completed"
    },
    "tags": []
   },
   "outputs": [],
   "source": [
    "#hide\n",
    "t = everydaycases.stack()"
   ]
  },
  {
   "cell_type": "code",
   "execution_count": 22,
   "id": "premier-sleeve",
   "metadata": {
    "execution": {
     "iopub.execute_input": "2022-05-25T00:43:50.256744Z",
     "iopub.status.busy": "2022-05-25T00:43:50.256143Z",
     "iopub.status.idle": "2022-05-25T00:43:50.267978Z",
     "shell.execute_reply": "2022-05-25T00:43:50.267481Z"
    },
    "papermill": {
     "duration": 0.046789,
     "end_time": "2022-05-25T00:43:50.268100",
     "exception": false,
     "start_time": "2022-05-25T00:43:50.221311",
     "status": "completed"
    },
    "tags": []
   },
   "outputs": [],
   "source": [
    "#hide\n",
    "g = t.reset_index(['Country/Region'])"
   ]
  },
  {
   "cell_type": "code",
   "execution_count": 23,
   "id": "distributed-pittsburgh",
   "metadata": {
    "execution": {
     "iopub.execute_input": "2022-05-25T00:43:50.333283Z",
     "iopub.status.busy": "2022-05-25T00:43:50.332679Z",
     "iopub.status.idle": "2022-05-25T00:43:50.335062Z",
     "shell.execute_reply": "2022-05-25T00:43:50.335633Z"
    },
    "papermill": {
     "duration": 0.037295,
     "end_time": "2022-05-25T00:43:50.335775",
     "exception": false,
     "start_time": "2022-05-25T00:43:50.298480",
     "status": "completed"
    },
    "tags": []
   },
   "outputs": [],
   "source": [
    "#hide\n",
    "g.index.name = 'date'"
   ]
  },
  {
   "cell_type": "code",
   "execution_count": 24,
   "id": "naked-donor",
   "metadata": {
    "execution": {
     "iopub.execute_input": "2022-05-25T00:43:50.402049Z",
     "iopub.status.busy": "2022-05-25T00:43:50.401301Z",
     "iopub.status.idle": "2022-05-25T00:43:50.404867Z",
     "shell.execute_reply": "2022-05-25T00:43:50.404389Z"
    },
    "papermill": {
     "duration": 0.038187,
     "end_time": "2022-05-25T00:43:50.404983",
     "exception": false,
     "start_time": "2022-05-25T00:43:50.366796",
     "status": "completed"
    },
    "tags": []
   },
   "outputs": [],
   "source": [
    "# #hide\n",
    "# g = g.reset_index(['date'])"
   ]
  },
  {
   "cell_type": "code",
   "execution_count": 25,
   "id": "incomplete-mustang",
   "metadata": {
    "execution": {
     "iopub.execute_input": "2022-05-25T00:43:50.470143Z",
     "iopub.status.busy": "2022-05-25T00:43:50.469392Z",
     "iopub.status.idle": "2022-05-25T00:43:50.471225Z",
     "shell.execute_reply": "2022-05-25T00:43:50.471738Z"
    },
    "papermill": {
     "duration": 0.036496,
     "end_time": "2022-05-25T00:43:50.471889",
     "exception": false,
     "start_time": "2022-05-25T00:43:50.435393",
     "status": "completed"
    },
    "tags": []
   },
   "outputs": [],
   "source": [
    "#hide\n",
    "# g.head()"
   ]
  },
  {
   "cell_type": "code",
   "execution_count": 26,
   "id": "specific-kruger",
   "metadata": {
    "execution": {
     "iopub.execute_input": "2022-05-25T00:43:50.537459Z",
     "iopub.status.busy": "2022-05-25T00:43:50.536817Z",
     "iopub.status.idle": "2022-05-25T00:43:50.539376Z",
     "shell.execute_reply": "2022-05-25T00:43:50.538894Z"
    },
    "papermill": {
     "duration": 0.036768,
     "end_time": "2022-05-25T00:43:50.539494",
     "exception": false,
     "start_time": "2022-05-25T00:43:50.502726",
     "status": "completed"
    },
    "tags": []
   },
   "outputs": [],
   "source": [
    "#hide\n",
    "# g.columns = ['date','country','cases']"
   ]
  },
  {
   "cell_type": "code",
   "execution_count": 27,
   "id": "tender-conversion",
   "metadata": {
    "execution": {
     "iopub.execute_input": "2022-05-25T00:43:50.604604Z",
     "iopub.status.busy": "2022-05-25T00:43:50.603891Z",
     "iopub.status.idle": "2022-05-25T00:43:50.605640Z",
     "shell.execute_reply": "2022-05-25T00:43:50.606198Z"
    },
    "papermill": {
     "duration": 0.036531,
     "end_time": "2022-05-25T00:43:50.606349",
     "exception": false,
     "start_time": "2022-05-25T00:43:50.569818",
     "status": "completed"
    },
    "tags": []
   },
   "outputs": [],
   "source": [
    "#hide\n",
    "# g['continent'] = g.country"
   ]
  },
  {
   "cell_type": "code",
   "execution_count": 28,
   "id": "substantial-wilderness",
   "metadata": {
    "execution": {
     "iopub.execute_input": "2022-05-25T00:43:50.672136Z",
     "iopub.status.busy": "2022-05-25T00:43:50.671434Z",
     "iopub.status.idle": "2022-05-25T00:43:50.675205Z",
     "shell.execute_reply": "2022-05-25T00:43:50.675723Z"
    },
    "papermill": {
     "duration": 0.038582,
     "end_time": "2022-05-25T00:43:50.675875",
     "exception": false,
     "start_time": "2022-05-25T00:43:50.637293",
     "status": "completed"
    },
    "tags": []
   },
   "outputs": [],
   "source": [
    "#hide\n",
    "# cols = list(g.columns.values)"
   ]
  },
  {
   "cell_type": "code",
   "execution_count": 29,
   "id": "solved-farming",
   "metadata": {
    "execution": {
     "iopub.execute_input": "2022-05-25T00:43:50.741245Z",
     "iopub.status.busy": "2022-05-25T00:43:50.740533Z",
     "iopub.status.idle": "2022-05-25T00:43:50.742166Z",
     "shell.execute_reply": "2022-05-25T00:43:50.742644Z"
    },
    "papermill": {
     "duration": 0.036152,
     "end_time": "2022-05-25T00:43:50.742777",
     "exception": false,
     "start_time": "2022-05-25T00:43:50.706625",
     "status": "completed"
    },
    "tags": []
   },
   "outputs": [],
   "source": [
    "#hide\n",
    "# cols.insert(0, cols.pop())"
   ]
  },
  {
   "cell_type": "code",
   "execution_count": 30,
   "id": "executed-adoption",
   "metadata": {
    "execution": {
     "iopub.execute_input": "2022-05-25T00:43:50.808232Z",
     "iopub.status.busy": "2022-05-25T00:43:50.807505Z",
     "iopub.status.idle": "2022-05-25T00:43:50.809236Z",
     "shell.execute_reply": "2022-05-25T00:43:50.809813Z"
    },
    "papermill": {
     "duration": 0.036765,
     "end_time": "2022-05-25T00:43:50.809970",
     "exception": false,
     "start_time": "2022-05-25T00:43:50.773205",
     "status": "completed"
    },
    "tags": []
   },
   "outputs": [],
   "source": [
    "#hide\n",
    "# g = g[cols]"
   ]
  },
  {
   "cell_type": "code",
   "execution_count": 31,
   "id": "subject-dublin",
   "metadata": {
    "execution": {
     "iopub.execute_input": "2022-05-25T00:43:50.875259Z",
     "iopub.status.busy": "2022-05-25T00:43:50.874651Z",
     "iopub.status.idle": "2022-05-25T00:43:50.876918Z",
     "shell.execute_reply": "2022-05-25T00:43:50.877372Z"
    },
    "papermill": {
     "duration": 0.036705,
     "end_time": "2022-05-25T00:43:50.877510",
     "exception": false,
     "start_time": "2022-05-25T00:43:50.840805",
     "status": "completed"
    },
    "tags": []
   },
   "outputs": [],
   "source": [
    "#hide\n",
    "# g['continent'] = g['continent'].map(mapping['map.continent'])"
   ]
  },
  {
   "cell_type": "code",
   "execution_count": 32,
   "id": "freelance-scout",
   "metadata": {
    "execution": {
     "iopub.execute_input": "2022-05-25T00:43:50.943121Z",
     "iopub.status.busy": "2022-05-25T00:43:50.942415Z",
     "iopub.status.idle": "2022-05-25T00:43:50.944764Z",
     "shell.execute_reply": "2022-05-25T00:43:50.944099Z"
    },
    "papermill": {
     "duration": 0.036843,
     "end_time": "2022-05-25T00:43:50.944895",
     "exception": false,
     "start_time": "2022-05-25T00:43:50.908052",
     "status": "completed"
    },
    "tags": []
   },
   "outputs": [],
   "source": [
    "#hide\n",
    "# g.head()"
   ]
  },
  {
   "cell_type": "code",
   "execution_count": 33,
   "id": "limited-engine",
   "metadata": {
    "execution": {
     "iopub.execute_input": "2022-05-25T00:43:51.010155Z",
     "iopub.status.busy": "2022-05-25T00:43:51.009512Z",
     "iopub.status.idle": "2022-05-25T00:43:51.012351Z",
     "shell.execute_reply": "2022-05-25T00:43:51.011866Z"
    },
    "papermill": {
     "duration": 0.037023,
     "end_time": "2022-05-25T00:43:51.012478",
     "exception": false,
     "start_time": "2022-05-25T00:43:50.975455",
     "status": "completed"
    },
    "tags": []
   },
   "outputs": [],
   "source": [
    "# hide\n",
    "# g['date'] = g['date'].astype('datetime64[ns]')"
   ]
  },
  {
   "cell_type": "code",
   "execution_count": 34,
   "id": "sophisticated-supervisor",
   "metadata": {
    "execution": {
     "iopub.execute_input": "2022-05-25T00:43:51.078257Z",
     "iopub.status.busy": "2022-05-25T00:43:51.077476Z",
     "iopub.status.idle": "2022-05-25T00:43:51.079922Z",
     "shell.execute_reply": "2022-05-25T00:43:51.079247Z"
    },
    "papermill": {
     "duration": 0.036932,
     "end_time": "2022-05-25T00:43:51.080059",
     "exception": false,
     "start_time": "2022-05-25T00:43:51.043127",
     "status": "completed"
    },
    "tags": []
   },
   "outputs": [],
   "source": [
    "#hide\n",
    "# g['date'] = g.date.dt.dayofyear"
   ]
  },
  {
   "cell_type": "code",
   "execution_count": 35,
   "id": "inside-dubai",
   "metadata": {
    "execution": {
     "iopub.execute_input": "2022-05-25T00:43:51.145156Z",
     "iopub.status.busy": "2022-05-25T00:43:51.144533Z",
     "iopub.status.idle": "2022-05-25T00:43:51.146984Z",
     "shell.execute_reply": "2022-05-25T00:43:51.146395Z"
    },
    "papermill": {
     "duration": 0.036627,
     "end_time": "2022-05-25T00:43:51.147101",
     "exception": false,
     "start_time": "2022-05-25T00:43:51.110474",
     "status": "completed"
    },
    "tags": []
   },
   "outputs": [],
   "source": [
    "#hide\n",
    "# g = g.rename(columns= {'continent':'group','country':'name','cases':'value'})"
   ]
  },
  {
   "cell_type": "code",
   "execution_count": 36,
   "id": "fleet-motorcycle",
   "metadata": {
    "execution": {
     "iopub.execute_input": "2022-05-25T00:43:51.212138Z",
     "iopub.status.busy": "2022-05-25T00:43:51.211445Z",
     "iopub.status.idle": "2022-05-25T00:43:51.215321Z",
     "shell.execute_reply": "2022-05-25T00:43:51.215761Z"
    },
    "papermill": {
     "duration": 0.038384,
     "end_time": "2022-05-25T00:43:51.215906",
     "exception": false,
     "start_time": "2022-05-25T00:43:51.177522",
     "status": "completed"
    },
    "tags": []
   },
   "outputs": [],
   "source": [
    "#hide\n",
    "# cols = ['name','group','day','value']"
   ]
  },
  {
   "cell_type": "code",
   "execution_count": 37,
   "id": "continued-sleeping",
   "metadata": {
    "execution": {
     "iopub.execute_input": "2022-05-25T00:43:51.280929Z",
     "iopub.status.busy": "2022-05-25T00:43:51.280323Z",
     "iopub.status.idle": "2022-05-25T00:43:51.282574Z",
     "shell.execute_reply": "2022-05-25T00:43:51.281990Z"
    },
    "papermill": {
     "duration": 0.036344,
     "end_time": "2022-05-25T00:43:51.282695",
     "exception": false,
     "start_time": "2022-05-25T00:43:51.246351",
     "status": "completed"
    },
    "tags": []
   },
   "outputs": [],
   "source": [
    "#hide\n",
    "# g.rename(columns= {'date':'day'},inplace = True)"
   ]
  },
  {
   "cell_type": "code",
   "execution_count": 38,
   "id": "major-fight",
   "metadata": {
    "execution": {
     "iopub.execute_input": "2022-05-25T00:43:51.347997Z",
     "iopub.status.busy": "2022-05-25T00:43:51.347358Z",
     "iopub.status.idle": "2022-05-25T00:43:51.351414Z",
     "shell.execute_reply": "2022-05-25T00:43:51.350930Z"
    },
    "papermill": {
     "duration": 0.038351,
     "end_time": "2022-05-25T00:43:51.351534",
     "exception": false,
     "start_time": "2022-05-25T00:43:51.313183",
     "status": "completed"
    },
    "tags": []
   },
   "outputs": [],
   "source": [
    "#hide\n",
    "# g = g[cols]"
   ]
  },
  {
   "cell_type": "code",
   "execution_count": 39,
   "id": "structured-mobile",
   "metadata": {
    "execution": {
     "iopub.execute_input": "2022-05-25T00:43:51.417038Z",
     "iopub.status.busy": "2022-05-25T00:43:51.416412Z",
     "iopub.status.idle": "2022-05-25T00:43:51.420100Z",
     "shell.execute_reply": "2022-05-25T00:43:51.420525Z"
    },
    "papermill": {
     "duration": 0.038339,
     "end_time": "2022-05-25T00:43:51.420662",
     "exception": false,
     "start_time": "2022-05-25T00:43:51.382323",
     "status": "completed"
    },
    "tags": []
   },
   "outputs": [],
   "source": [
    "# #hide\n",
    "# g = g[g.group.notna()]"
   ]
  },
  {
   "cell_type": "code",
   "execution_count": 40,
   "id": "determined-closing",
   "metadata": {
    "execution": {
     "iopub.execute_input": "2022-05-25T00:43:51.486344Z",
     "iopub.status.busy": "2022-05-25T00:43:51.485550Z",
     "iopub.status.idle": "2022-05-25T00:43:51.487814Z",
     "shell.execute_reply": "2022-05-25T00:43:51.488243Z"
    },
    "papermill": {
     "duration": 0.037203,
     "end_time": "2022-05-25T00:43:51.488389",
     "exception": false,
     "start_time": "2022-05-25T00:43:51.451186",
     "status": "completed"
    },
    "tags": []
   },
   "outputs": [],
   "source": [
    "# #hide\n",
    "# colors = dict(zip(\n",
    "#     [\"Oceania\", \"Europe\", \"Asia\", \"South America\", \"Middle East\", \"North America\", \"Africa\"],\n",
    "#     [\"#adb0ff\", \"#ffb3ff\", \"#90d595\", \"#e48381\", \"#aafbff\", \"#f7bb5f\", \"#eafb50\"]\n",
    "# ))\n",
    "# group_lk = g.set_index('name')['group'].to_dict()"
   ]
  },
  {
   "cell_type": "code",
   "execution_count": null,
   "id": "gross-drinking",
   "metadata": {
    "papermill": {
     "duration": 0.030091,
     "end_time": "2022-05-25T00:43:51.548732",
     "exception": false,
     "start_time": "2022-05-25T00:43:51.518641",
     "status": "completed"
    },
    "tags": []
   },
   "outputs": [],
   "source": []
  },
  {
   "cell_type": "code",
   "execution_count": 41,
   "id": "subject-macintosh",
   "metadata": {
    "execution": {
     "iopub.execute_input": "2022-05-25T00:43:51.615154Z",
     "iopub.status.busy": "2022-05-25T00:43:51.614427Z",
     "iopub.status.idle": "2022-05-25T00:43:51.618436Z",
     "shell.execute_reply": "2022-05-25T00:43:51.618926Z"
    },
    "papermill": {
     "duration": 0.039796,
     "end_time": "2022-05-25T00:43:51.619083",
     "exception": false,
     "start_time": "2022-05-25T00:43:51.579287",
     "status": "completed"
    },
    "tags": []
   },
   "outputs": [],
   "source": [
    "# #hide\n",
    "# fig, ax = plt.subplots(figsize=(15, 8))\n",
    "\n",
    "# def draw_barchart(current_day):\n",
    "#     dff = g[g['day'].eq(current_day)].sort_values(by='value', ascending=True).tail(10)\n",
    "#     ax.clear()\n",
    "#     ax.barh(dff['name'], dff['value'], color=[colors[group_lk[x]] for x in dff['name']])\n",
    "#     dx = dff['value'].max() / 200\n",
    "    \n",
    "#     for i, (value, name) in enumerate(zip(dff['value'], dff['name'])):\n",
    "#         ax.text(value-dx, i,     name,           size=14, weight=600, ha='right', va='bottom')\n",
    "#         ax.text(value-dx, i-.25, group_lk[name], size=10, color='#444444', ha='right', va='baseline')\n",
    "#         ax.text(value+dx, i,     f'{value:,.0f}',  size=14, ha='left',  va='center')\n",
    "#     ax.text(1, 0.4, current_day, transform=ax.transAxes, color='#777777', size=46, ha='right', weight=800)\n",
    "#     ax.text(0, 1.06, 'Population (thousands)', transform=ax.transAxes, size=12, color='#777777')\n",
    "#     ax.xaxis.set_major_formatter(ticker.StrMethodFormatter('{x:,.0f}'))\n",
    "#     ax.xaxis.set_ticks_position('top')\n",
    "#     ax.tick_params(axis='x', colors='#777777', labelsize=12)\n",
    "#     ax.set_yticks([])\n",
    "#     ax.margins(0, 0.01)\n",
    "#     ax.grid(which='major', axis='x', linestyle='-')\n",
    "#     ax.set_axisbelow(True)\n",
    "    \n",
    "#     ax.text(0, 1.15, 'Coronavirus',\n",
    "#             transform=ax.transAxes, size=24, weight=600, ha='left', va='top')\n",
    "# #     ax.text(1, 0, 'by @pratapvardhan; credit @jburnmurdoch', transform=ax.transAxes, color='#777777', ha='right',\n",
    "# #             bbox=dict(facecolor='white', alpha=0.8, edgecolor='white'))\n",
    "#     plt.box(False)"
   ]
  },
  {
   "cell_type": "code",
   "execution_count": 42,
   "id": "sexual-wages",
   "metadata": {
    "execution": {
     "iopub.execute_input": "2022-05-25T00:43:51.684369Z",
     "iopub.status.busy": "2022-05-25T00:43:51.683726Z",
     "iopub.status.idle": "2022-05-25T00:43:51.687597Z",
     "shell.execute_reply": "2022-05-25T00:43:51.688032Z"
    },
    "papermill": {
     "duration": 0.038755,
     "end_time": "2022-05-25T00:43:51.688174",
     "exception": false,
     "start_time": "2022-05-25T00:43:51.649419",
     "status": "completed"
    },
    "tags": []
   },
   "outputs": [],
   "source": [
    "# #hide_input\n",
    "# fig, ax = plt.subplots(figsize=(15, 8))\n",
    "# animator = animation.FuncAnimation(fig, draw_barchart, frames=range(g.day.values.min(), g.day.values.max()))\n",
    "# HTML(animator.to_jshtml())\n",
    "# # or use animator.to_html5_video() or animator.save() "
   ]
  },
  {
   "cell_type": "code",
   "execution_count": null,
   "id": "australian-container",
   "metadata": {
    "papermill": {
     "duration": 0.030485,
     "end_time": "2022-05-25T00:43:51.749218",
     "exception": false,
     "start_time": "2022-05-25T00:43:51.718733",
     "status": "completed"
    },
    "tags": []
   },
   "outputs": [],
   "source": []
  },
  {
   "cell_type": "code",
   "execution_count": null,
   "id": "mediterranean-pontiac",
   "metadata": {
    "papermill": {
     "duration": 0.030149,
     "end_time": "2022-05-25T00:43:51.809699",
     "exception": false,
     "start_time": "2022-05-25T00:43:51.779550",
     "status": "completed"
    },
    "tags": []
   },
   "outputs": [],
   "source": []
  },
  {
   "cell_type": "code",
   "execution_count": null,
   "id": "aging-legislature",
   "metadata": {
    "papermill": {
     "duration": 0.030415,
     "end_time": "2022-05-25T00:43:51.870646",
     "exception": false,
     "start_time": "2022-05-25T00:43:51.840231",
     "status": "completed"
    },
    "tags": []
   },
   "outputs": [],
   "source": []
  }
 ],
 "metadata": {
  "kernelspec": {
   "display_name": "Python 3",
   "language": "python",
   "name": "python3"
  },
  "language_info": {
   "codemirror_mode": {
    "name": "ipython",
    "version": 3
   },
   "file_extension": ".py",
   "mimetype": "text/x-python",
   "name": "python",
   "nbconvert_exporter": "python",
   "pygments_lexer": "ipython3",
   "version": "3.6.15"
  },
  "papermill": {
   "duration": 6.272713,
   "end_time": "2022-05-25T00:43:52.320996",
   "environment_variables": {},
   "exception": null,
   "input_path": "2020-03-21-covid19exp.ipynb",
   "output_path": "2020-03-21-covid19exp.ipynb",
   "parameters": {},
   "start_time": "2022-05-25T00:43:46.048283",
   "version": "2.0.0"
  }
 },
 "nbformat": 4,
 "nbformat_minor": 5
}