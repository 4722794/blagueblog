{
 "cells": [
  {
   "cell_type": "markdown",
   "metadata": {
    "papermill": {
     "duration": 0.040293,
     "end_time": "2020-12-19T12:08:05.072783",
     "exception": false,
     "start_time": "2020-12-19T12:08:05.032490",
     "status": "completed"
    },
    "tags": []
   },
   "source": [
    "# COVID-19 Case Race\n",
    "> A race chart to see rising cases around the world\n",
    "\n",
    "- author: Hargun Oberoi\n",
    "- image: images/covid-overview.png\n",
    "- hide: false\n",
    "- badges: false"
   ]
  },
  {
   "cell_type": "code",
   "execution_count": 1,
   "metadata": {
    "execution": {
     "iopub.execute_input": "2020-12-19T12:08:05.147548Z",
     "iopub.status.busy": "2020-12-19T12:08:05.146862Z",
     "iopub.status.idle": "2020-12-19T12:08:05.495250Z",
     "shell.execute_reply": "2020-12-19T12:08:05.494059Z"
    },
    "papermill": {
     "duration": 0.391664,
     "end_time": "2020-12-19T12:08:05.495464",
     "exception": false,
     "start_time": "2020-12-19T12:08:05.103800",
     "status": "completed"
    },
    "tags": []
   },
   "outputs": [],
   "source": [
    "#hide\n",
    "import numpy as np\n",
    "import pandas as pd\n",
    "from jinja2 import Template\n",
    "from IPython.display import HTML"
   ]
  },
  {
   "cell_type": "code",
   "execution_count": 2,
   "metadata": {
    "execution": {
     "iopub.execute_input": "2020-12-19T12:08:05.561327Z",
     "iopub.status.busy": "2020-12-19T12:08:05.560738Z",
     "iopub.status.idle": "2020-12-19T12:08:05.563222Z",
     "shell.execute_reply": "2020-12-19T12:08:05.562717Z"
    },
    "papermill": {
     "duration": 0.036825,
     "end_time": "2020-12-19T12:08:05.563343",
     "exception": false,
     "start_time": "2020-12-19T12:08:05.526518",
     "status": "completed"
    },
    "tags": []
   },
   "outputs": [],
   "source": [
    "#hide\n",
    "\n",
    "# FETCH\n",
    "base_url = 'https://raw.githubusercontent.com/pratapvardhan/notebooks/master/covid19/'\n",
    "paths = {\n",
    "    'mapping': base_url + 'mapping_countries.csv',\n",
    "    'overview': base_url + 'overview.tpl'\n",
    "}"
   ]
  },
  {
   "cell_type": "code",
   "execution_count": 3,
   "metadata": {
    "execution": {
     "iopub.execute_input": "2020-12-19T12:08:05.634950Z",
     "iopub.status.busy": "2020-12-19T12:08:05.634354Z",
     "iopub.status.idle": "2020-12-19T12:08:05.637737Z",
     "shell.execute_reply": "2020-12-19T12:08:05.637279Z"
    },
    "papermill": {
     "duration": 0.045581,
     "end_time": "2020-12-19T12:08:05.637851",
     "exception": false,
     "start_time": "2020-12-19T12:08:05.592270",
     "status": "completed"
    },
    "tags": []
   },
   "outputs": [
    {
     "data": {
      "text/plain": [
       "'https://raw.githubusercontent.com/pratapvardhan/notebooks/master/covid19/mapping_countries.csv'"
      ]
     },
     "execution_count": 3,
     "metadata": {},
     "output_type": "execute_result"
    }
   ],
   "source": [
    "#hide\n",
    "paths['mapping']"
   ]
  },
  {
   "cell_type": "code",
   "execution_count": 4,
   "metadata": {
    "execution": {
     "iopub.execute_input": "2020-12-19T12:08:05.704055Z",
     "iopub.status.busy": "2020-12-19T12:08:05.703424Z",
     "iopub.status.idle": "2020-12-19T12:08:05.705807Z",
     "shell.execute_reply": "2020-12-19T12:08:05.705279Z"
    },
    "papermill": {
     "duration": 0.038914,
     "end_time": "2020-12-19T12:08:05.705936",
     "exception": false,
     "start_time": "2020-12-19T12:08:05.667022",
     "status": "completed"
    },
    "tags": []
   },
   "outputs": [],
   "source": [
    "#hide\n",
    "def get_mappings(url):\n",
    "    df = pd.read_csv(url)\n",
    "    return {\n",
    "        'df': df,\n",
    "        'replace.country': dict(df.dropna(subset=['Name']).set_index('Country')['Name']),\n",
    "        'map.continent': dict(df.set_index('Name')['Continent'])\n",
    "    }"
   ]
  },
  {
   "cell_type": "code",
   "execution_count": 5,
   "metadata": {
    "execution": {
     "iopub.execute_input": "2020-12-19T12:08:05.774618Z",
     "iopub.status.busy": "2020-12-19T12:08:05.773849Z",
     "iopub.status.idle": "2020-12-19T12:08:05.802818Z",
     "shell.execute_reply": "2020-12-19T12:08:05.801700Z"
    },
    "papermill": {
     "duration": 0.066052,
     "end_time": "2020-12-19T12:08:05.802955",
     "exception": false,
     "start_time": "2020-12-19T12:08:05.736903",
     "status": "completed"
    },
    "tags": []
   },
   "outputs": [],
   "source": [
    "#hide\n",
    "mapping = get_mappings(paths['mapping'])"
   ]
  },
  {
   "cell_type": "code",
   "execution_count": 6,
   "metadata": {
    "execution": {
     "iopub.execute_input": "2020-12-19T12:08:05.876808Z",
     "iopub.status.busy": "2020-12-19T12:08:05.876208Z",
     "iopub.status.idle": "2020-12-19T12:08:05.878570Z",
     "shell.execute_reply": "2020-12-19T12:08:05.879037Z"
    },
    "papermill": {
     "duration": 0.039581,
     "end_time": "2020-12-19T12:08:05.879177",
     "exception": false,
     "start_time": "2020-12-19T12:08:05.839596",
     "status": "completed"
    },
    "tags": []
   },
   "outputs": [],
   "source": [
    "#hide\n",
    "def get_template(path):\n",
    "    from urllib.parse import urlparse\n",
    "    if bool(urlparse(path).netloc):\n",
    "        from urllib.request import urlopen\n",
    "        return urlopen(path).read().decode('utf8')\n",
    "    return open(path).read()"
   ]
  },
  {
   "cell_type": "code",
   "execution_count": 7,
   "metadata": {
    "execution": {
     "iopub.execute_input": "2020-12-19T12:08:05.945458Z",
     "iopub.status.busy": "2020-12-19T12:08:05.944850Z",
     "iopub.status.idle": "2020-12-19T12:08:05.947929Z",
     "shell.execute_reply": "2020-12-19T12:08:05.948641Z"
    },
    "papermill": {
     "duration": 0.040183,
     "end_time": "2020-12-19T12:08:05.949182",
     "exception": false,
     "start_time": "2020-12-19T12:08:05.908999",
     "status": "completed"
    },
    "tags": []
   },
   "outputs": [],
   "source": [
    "#hide\n",
    "def get_frame(name):\n",
    "    url = (\n",
    "        'https://raw.githubusercontent.com/CSSEGISandData/COVID-19/master/csse_covid_19_data/'\n",
    "        f'csse_covid_19_time_series/time_series_covid19_{name}_global.csv')\n",
    "    df = pd.read_csv(url)\n",
    "    # rename countries\n",
    "    df['Country/Region'] = df['Country/Region'].replace(mapping['replace.country'])\n",
    "    return df"
   ]
  },
  {
   "cell_type": "code",
   "execution_count": 8,
   "metadata": {
    "execution": {
     "iopub.execute_input": "2020-12-19T12:08:06.015134Z",
     "iopub.status.busy": "2020-12-19T12:08:06.014587Z",
     "iopub.status.idle": "2020-12-19T12:08:06.016472Z",
     "shell.execute_reply": "2020-12-19T12:08:06.016910Z"
    },
    "papermill": {
     "duration": 0.038698,
     "end_time": "2020-12-19T12:08:06.017041",
     "exception": false,
     "start_time": "2020-12-19T12:08:05.978343",
     "status": "completed"
    },
    "tags": []
   },
   "outputs": [],
   "source": [
    "#hide\n",
    "def get_dates(df):\n",
    "    dt_cols = df.columns[~df.columns.isin(['Province/State', 'Country/Region', 'Lat', 'Long'])]\n",
    "    LAST_DATE_I = -1\n",
    "    # sometimes last column may be empty, then go backwards\n",
    "    for i in range(-1, -len(dt_cols), -1):\n",
    "        if not df[dt_cols[i]].fillna(0).eq(0).all():\n",
    "            LAST_DATE_I = i\n",
    "            break\n",
    "    return LAST_DATE_I, dt_cols"
   ]
  },
  {
   "cell_type": "code",
   "execution_count": 9,
   "metadata": {
    "execution": {
     "iopub.execute_input": "2020-12-19T12:08:06.089757Z",
     "iopub.status.busy": "2020-12-19T12:08:06.089149Z",
     "iopub.status.idle": "2020-12-19T12:08:06.310354Z",
     "shell.execute_reply": "2020-12-19T12:08:06.309202Z"
    },
    "papermill": {
     "duration": 0.258646,
     "end_time": "2020-12-19T12:08:06.310499",
     "exception": false,
     "start_time": "2020-12-19T12:08:06.051853",
     "status": "completed"
    },
    "tags": []
   },
   "outputs": [],
   "source": [
    "#hide\n",
    "COL_REGION = 'Country/Region'\n",
    "# Confirmed, Recovered, Deaths\n",
    "df = get_frame('confirmed')\n",
    "# dft_: timeseries, dfc_: today country agg\n",
    "dft_cases = df\n",
    "dft_deaths = get_frame('deaths')\n",
    "dft_recovered = get_frame('recovered')\n",
    "LAST_DATE_I, dt_cols = get_dates(df)"
   ]
  },
  {
   "cell_type": "code",
   "execution_count": 10,
   "metadata": {
    "execution": {
     "iopub.execute_input": "2020-12-19T12:08:06.377172Z",
     "iopub.status.busy": "2020-12-19T12:08:06.376580Z",
     "iopub.status.idle": "2020-12-19T12:08:06.379020Z",
     "shell.execute_reply": "2020-12-19T12:08:06.379464Z"
    },
    "papermill": {
     "duration": 0.038724,
     "end_time": "2020-12-19T12:08:06.379611",
     "exception": false,
     "start_time": "2020-12-19T12:08:06.340887",
     "status": "completed"
    },
    "tags": []
   },
   "outputs": [],
   "source": [
    "#hide\n",
    "LAST_DATE_I, dt_cols = get_dates(df)\n",
    "dt_today =dt_cols[LAST_DATE_I]\n",
    "# dt_5day = dt_cols[LAST_DATE_I - 5]\n",
    "dt_yday = dt_cols[LAST_DATE_I - 1]"
   ]
  },
  {
   "cell_type": "code",
   "execution_count": 11,
   "metadata": {
    "execution": {
     "iopub.execute_input": "2020-12-19T12:08:06.450292Z",
     "iopub.status.busy": "2020-12-19T12:08:06.449718Z",
     "iopub.status.idle": "2020-12-19T12:08:06.458072Z",
     "shell.execute_reply": "2020-12-19T12:08:06.457587Z"
    },
    "papermill": {
     "duration": 0.046639,
     "end_time": "2020-12-19T12:08:06.458209",
     "exception": false,
     "start_time": "2020-12-19T12:08:06.411570",
     "status": "completed"
    },
    "tags": []
   },
   "outputs": [],
   "source": [
    "#hide\n",
    "dfc_cases = dft_cases.groupby(COL_REGION)[dt_today].sum()\n",
    "dfc_deaths = dft_deaths.groupby(COL_REGION)[dt_today].sum()\n",
    "# dfp_cases = dft_cases.groupby(COL_REGION)[dt_5day].sum()\n",
    "# dfp_deaths = dft_deaths.groupby(COL_REGION)[dt_5day].sum()\n",
    "dfp_cases = dft_cases.groupby(COL_REGION)[dt_yday].sum()\n",
    "dfp_deaths = dft_deaths.groupby(COL_REGION)[dt_yday].sum()"
   ]
  },
  {
   "cell_type": "code",
   "execution_count": 12,
   "metadata": {
    "execution": {
     "iopub.execute_input": "2020-12-19T12:08:06.526121Z",
     "iopub.status.busy": "2020-12-19T12:08:06.522487Z",
     "iopub.status.idle": "2020-12-19T12:08:06.529706Z",
     "shell.execute_reply": "2020-12-19T12:08:06.529195Z"
    },
    "papermill": {
     "duration": 0.042217,
     "end_time": "2020-12-19T12:08:06.529830",
     "exception": false,
     "start_time": "2020-12-19T12:08:06.487613",
     "status": "completed"
    },
    "tags": []
   },
   "outputs": [],
   "source": [
    "#hide\n",
    "df_table = (pd.DataFrame(dict(Cases = dfc_cases, Deaths = dfc_deaths, PCases = dfp_cases, PDeaths = dfp_deaths))\n",
    "            .sort_values(by = ['Cases','Deaths'], ascending = [False, False])\n",
    "            .reset_index())"
   ]
  },
  {
   "cell_type": "code",
   "execution_count": 13,
   "metadata": {
    "execution": {
     "iopub.execute_input": "2020-12-19T12:08:06.612092Z",
     "iopub.status.busy": "2020-12-19T12:08:06.606962Z",
     "iopub.status.idle": "2020-12-19T12:08:06.615334Z",
     "shell.execute_reply": "2020-12-19T12:08:06.614868Z"
    },
    "papermill": {
     "duration": 0.056913,
     "end_time": "2020-12-19T12:08:06.615463",
     "exception": false,
     "start_time": "2020-12-19T12:08:06.558550",
     "status": "completed"
    },
    "tags": []
   },
   "outputs": [
    {
     "data": {
      "text/html": [
       "<div>\n",
       "<style scoped>\n",
       "    .dataframe tbody tr th:only-of-type {\n",
       "        vertical-align: middle;\n",
       "    }\n",
       "\n",
       "    .dataframe tbody tr th {\n",
       "        vertical-align: top;\n",
       "    }\n",
       "\n",
       "    .dataframe thead th {\n",
       "        text-align: right;\n",
       "    }\n",
       "</style>\n",
       "<table border=\"1\" class=\"dataframe\">\n",
       "  <thead>\n",
       "    <tr style=\"text-align: right;\">\n",
       "      <th></th>\n",
       "      <th>Country/Region</th>\n",
       "      <th>Cases</th>\n",
       "      <th>Deaths</th>\n",
       "      <th>PCases</th>\n",
       "      <th>PDeaths</th>\n",
       "      <th>Cases (+)</th>\n",
       "      <th>Deaths (+)</th>\n",
       "      <th>Fatality Rate</th>\n",
       "      <th>Continent</th>\n",
       "    </tr>\n",
       "  </thead>\n",
       "  <tbody>\n",
       "    <tr>\n",
       "      <th>0</th>\n",
       "      <td>US</td>\n",
       "      <td>17459296</td>\n",
       "      <td>313588</td>\n",
       "      <td>17209587</td>\n",
       "      <td>310774</td>\n",
       "      <td>249709</td>\n",
       "      <td>2814</td>\n",
       "      <td>1.80</td>\n",
       "      <td>North America</td>\n",
       "    </tr>\n",
       "    <tr>\n",
       "      <th>1</th>\n",
       "      <td>India</td>\n",
       "      <td>10004599</td>\n",
       "      <td>145136</td>\n",
       "      <td>9979447</td>\n",
       "      <td>144789</td>\n",
       "      <td>25152</td>\n",
       "      <td>347</td>\n",
       "      <td>1.45</td>\n",
       "      <td>Asia</td>\n",
       "    </tr>\n",
       "    <tr>\n",
       "      <th>2</th>\n",
       "      <td>Brazil</td>\n",
       "      <td>7162978</td>\n",
       "      <td>185650</td>\n",
       "      <td>7110434</td>\n",
       "      <td>184827</td>\n",
       "      <td>52544</td>\n",
       "      <td>823</td>\n",
       "      <td>2.59</td>\n",
       "      <td>South America</td>\n",
       "    </tr>\n",
       "    <tr>\n",
       "      <th>3</th>\n",
       "      <td>Russia</td>\n",
       "      <td>2764843</td>\n",
       "      <td>49170</td>\n",
       "      <td>2736727</td>\n",
       "      <td>48568</td>\n",
       "      <td>28116</td>\n",
       "      <td>602</td>\n",
       "      <td>1.78</td>\n",
       "      <td>Europe</td>\n",
       "    </tr>\n",
       "    <tr>\n",
       "      <th>4</th>\n",
       "      <td>France</td>\n",
       "      <td>2499529</td>\n",
       "      <td>60345</td>\n",
       "      <td>2483524</td>\n",
       "      <td>59733</td>\n",
       "      <td>16005</td>\n",
       "      <td>612</td>\n",
       "      <td>2.41</td>\n",
       "      <td>Europe</td>\n",
       "    </tr>\n",
       "  </tbody>\n",
       "</table>\n",
       "</div>"
      ],
      "text/plain": [
       "  Country/Region     Cases  Deaths    PCases  PDeaths  Cases (+)  Deaths (+)  \\\n",
       "0             US  17459296  313588  17209587   310774     249709        2814   \n",
       "1          India  10004599  145136   9979447   144789      25152         347   \n",
       "2         Brazil   7162978  185650   7110434   184827      52544         823   \n",
       "3         Russia   2764843   49170   2736727    48568      28116         602   \n",
       "4         France   2499529   60345   2483524    59733      16005         612   \n",
       "\n",
       "   Fatality Rate      Continent  \n",
       "0           1.80  North America  \n",
       "1           1.45           Asia  \n",
       "2           2.59  South America  \n",
       "3           1.78         Europe  \n",
       "4           2.41         Europe  "
      ]
     },
     "execution_count": 13,
     "metadata": {},
     "output_type": "execute_result"
    }
   ],
   "source": [
    "#hide\n",
    "for c in 'Cases, Deaths'.split(', '):\n",
    "    df_table[f'{c} (+)'] = (df_table[c] - df_table[f'P{c}']).clip(0)\n",
    "    #Clip ça veut dire, les chiffres negatif sont interdit\n",
    "df_table['Fatality Rate'] = (100* df_table['Deaths']/ df_table['Cases']).round(2)\n",
    "df_table['Continent'] = df_table['Country/Region'].map(mapping['map.continent'])\n",
    "df_table.head(5)"
   ]
  },
  {
   "cell_type": "code",
   "execution_count": 14,
   "metadata": {
    "execution": {
     "iopub.execute_input": "2020-12-19T12:08:06.690444Z",
     "iopub.status.busy": "2020-12-19T12:08:06.689482Z",
     "iopub.status.idle": "2020-12-19T12:08:06.691448Z",
     "shell.execute_reply": "2020-12-19T12:08:06.692254Z"
    },
    "papermill": {
     "duration": 0.041606,
     "end_time": "2020-12-19T12:08:06.692473",
     "exception": false,
     "start_time": "2020-12-19T12:08:06.650867",
     "status": "completed"
    },
    "tags": []
   },
   "outputs": [],
   "source": [
    "#hide\n",
    "#delete problematic countries from table\n",
    "df_table = df_table[~df_table['Country/Region'].isin(['Cape Verde', 'Cruise Ship', 'Kosovo'])]"
   ]
  },
  {
   "cell_type": "code",
   "execution_count": 15,
   "metadata": {
    "execution": {
     "iopub.execute_input": "2020-12-19T12:08:06.768041Z",
     "iopub.status.busy": "2020-12-19T12:08:06.767491Z",
     "iopub.status.idle": "2020-12-19T12:08:06.785963Z",
     "shell.execute_reply": "2020-12-19T12:08:06.785432Z"
    },
    "papermill": {
     "duration": 0.061191,
     "end_time": "2020-12-19T12:08:06.786106",
     "exception": false,
     "start_time": "2020-12-19T12:08:06.724915",
     "status": "completed"
    },
    "tags": []
   },
   "outputs": [
    {
     "data": {
      "text/html": [
       "<div>\n",
       "<style scoped>\n",
       "    .dataframe tbody tr th:only-of-type {\n",
       "        vertical-align: middle;\n",
       "    }\n",
       "\n",
       "    .dataframe tbody tr th {\n",
       "        vertical-align: top;\n",
       "    }\n",
       "\n",
       "    .dataframe thead th {\n",
       "        text-align: right;\n",
       "    }\n",
       "</style>\n",
       "<table border=\"1\" class=\"dataframe\">\n",
       "  <thead>\n",
       "    <tr style=\"text-align: right;\">\n",
       "      <th></th>\n",
       "      <th>Country/Region</th>\n",
       "      <th>Cases</th>\n",
       "      <th>Deaths</th>\n",
       "      <th>PCases</th>\n",
       "      <th>PDeaths</th>\n",
       "      <th>Cases (+)</th>\n",
       "      <th>Deaths (+)</th>\n",
       "      <th>Fatality Rate</th>\n",
       "      <th>Continent</th>\n",
       "    </tr>\n",
       "  </thead>\n",
       "  <tbody>\n",
       "    <tr>\n",
       "      <th>0</th>\n",
       "      <td>US</td>\n",
       "      <td>17459296</td>\n",
       "      <td>313588</td>\n",
       "      <td>17209587</td>\n",
       "      <td>310774</td>\n",
       "      <td>249709</td>\n",
       "      <td>2814</td>\n",
       "      <td>1.8</td>\n",
       "      <td>North America</td>\n",
       "    </tr>\n",
       "    <tr>\n",
       "      <th>1</th>\n",
       "      <td>India</td>\n",
       "      <td>10004599</td>\n",
       "      <td>145136</td>\n",
       "      <td>9979447</td>\n",
       "      <td>144789</td>\n",
       "      <td>25152</td>\n",
       "      <td>347</td>\n",
       "      <td>1.5</td>\n",
       "      <td>Asia</td>\n",
       "    </tr>\n",
       "    <tr>\n",
       "      <th>2</th>\n",
       "      <td>Brazil</td>\n",
       "      <td>7162978</td>\n",
       "      <td>185650</td>\n",
       "      <td>7110434</td>\n",
       "      <td>184827</td>\n",
       "      <td>52544</td>\n",
       "      <td>823</td>\n",
       "      <td>2.6</td>\n",
       "      <td>South America</td>\n",
       "    </tr>\n",
       "    <tr>\n",
       "      <th>3</th>\n",
       "      <td>Russia</td>\n",
       "      <td>2764843</td>\n",
       "      <td>49170</td>\n",
       "      <td>2736727</td>\n",
       "      <td>48568</td>\n",
       "      <td>28116</td>\n",
       "      <td>602</td>\n",
       "      <td>1.8</td>\n",
       "      <td>Europe</td>\n",
       "    </tr>\n",
       "    <tr>\n",
       "      <th>4</th>\n",
       "      <td>France</td>\n",
       "      <td>2499529</td>\n",
       "      <td>60345</td>\n",
       "      <td>2483524</td>\n",
       "      <td>59733</td>\n",
       "      <td>16005</td>\n",
       "      <td>612</td>\n",
       "      <td>2.4</td>\n",
       "      <td>Europe</td>\n",
       "    </tr>\n",
       "  </tbody>\n",
       "</table>\n",
       "</div>"
      ],
      "text/plain": [
       "  Country/Region     Cases  Deaths    PCases  PDeaths  Cases (+)  Deaths (+)  \\\n",
       "0             US  17459296  313588  17209587   310774     249709        2814   \n",
       "1          India  10004599  145136   9979447   144789      25152         347   \n",
       "2         Brazil   7162978  185650   7110434   184827      52544         823   \n",
       "3         Russia   2764843   49170   2736727    48568      28116         602   \n",
       "4         France   2499529   60345   2483524    59733      16005         612   \n",
       "\n",
       "   Fatality Rate      Continent  \n",
       "0            1.8  North America  \n",
       "1            1.5           Asia  \n",
       "2            2.6  South America  \n",
       "3            1.8         Europe  \n",
       "4            2.4         Europe  "
      ]
     },
     "execution_count": 15,
     "metadata": {},
     "output_type": "execute_result"
    }
   ],
   "source": [
    "#hide\n",
    "df_table = (pd.DataFrame(dict(Cases=dfc_cases, Deaths=dfc_deaths, PCases=dfp_cases, PDeaths=dfp_deaths))\n",
    "             .sort_values(by=['Cases', 'Deaths'], ascending=[False, False])\n",
    "             .reset_index())\n",
    "df_table.rename(columns={'index': 'Country/Region'}, inplace=True)\n",
    "for c in 'Cases, Deaths'.split(', '):\n",
    "    df_table[f'{c} (+)'] = (df_table[c] - df_table[f'P{c}']).clip(0)  # DATA BUG\n",
    "df_table['Fatality Rate'] = (100 * df_table['Deaths'] / df_table['Cases']).round(1)\n",
    "df_table['Continent'] = df_table['Country/Region'].map(mapping['map.continent'])\n",
    "df_table.head(5)"
   ]
  },
  {
   "cell_type": "code",
   "execution_count": 16,
   "metadata": {
    "execution": {
     "iopub.execute_input": "2020-12-19T12:08:06.858505Z",
     "iopub.status.busy": "2020-12-19T12:08:06.857769Z",
     "iopub.status.idle": "2020-12-19T12:08:06.860250Z",
     "shell.execute_reply": "2020-12-19T12:08:06.860815Z"
    },
    "papermill": {
     "duration": 0.042762,
     "end_time": "2020-12-19T12:08:06.860961",
     "exception": false,
     "start_time": "2020-12-19T12:08:06.818199",
     "status": "completed"
    },
    "tags": []
   },
   "outputs": [],
   "source": [
    "#hide\n",
    "#delete problematic countries from table\n",
    "df_table = df_table[~df_table['Country/Region'].isin(['Cape Verde', 'Cruise Ship', 'Kosovo'])]"
   ]
  },
  {
   "cell_type": "code",
   "execution_count": 17,
   "metadata": {
    "execution": {
     "iopub.execute_input": "2020-12-19T12:08:06.952135Z",
     "iopub.status.busy": "2020-12-19T12:08:06.951440Z",
     "iopub.status.idle": "2020-12-19T12:08:06.954887Z",
     "shell.execute_reply": "2020-12-19T12:08:06.955366Z"
    },
    "papermill": {
     "duration": 0.062732,
     "end_time": "2020-12-19T12:08:06.955518",
     "exception": false,
     "start_time": "2020-12-19T12:08:06.892786",
     "status": "completed"
    },
    "tags": []
   },
   "outputs": [],
   "source": [
    "#hide\n",
    "metrics = [df_table.columns[index] for index in [1,2,5,6]]\n",
    "# s_china = df_table[df_table['Country/Region'].eq('China')][metrics].sum().add_prefix('China ')\n",
    "s_us = df_table[df_table['Country/Region'].eq('US')][metrics].sum().add_prefix('US ')\n",
    "s_eu = df_table[df_table['Continent'].eq('Europe')][metrics].sum().add_prefix('EU ')\n",
    "s_ind = df_table[df_table['Country/Region'].eq('India')][metrics].sum().add_prefix('India ')\n",
    "summary = {'updated': pd.to_datetime(dt_today), 'since': pd.to_datetime(dt_yday)}\n",
    "summary = {'updated': pd.to_datetime(dt_today), 'since': pd.to_datetime(dt_yday)}\n",
    "summary = {**summary, **df_table[metrics].sum(), **s_ind, **s_us, **s_eu}"
   ]
  },
  {
   "cell_type": "code",
   "execution_count": 18,
   "metadata": {
    "execution": {
     "iopub.execute_input": "2020-12-19T12:08:07.033364Z",
     "iopub.status.busy": "2020-12-19T12:08:07.032764Z",
     "iopub.status.idle": "2020-12-19T12:08:07.042584Z",
     "shell.execute_reply": "2020-12-19T12:08:07.043033Z"
    },
    "papermill": {
     "duration": 0.049472,
     "end_time": "2020-12-19T12:08:07.043188",
     "exception": false,
     "start_time": "2020-12-19T12:08:06.993716",
     "status": "completed"
    },
    "tags": []
   },
   "outputs": [],
   "source": [
    "#hide\n",
    "dft_ct_new_cases = dft_cases.groupby(COL_REGION)[dt_cols].sum().diff(axis=1).fillna(0).astype(int)"
   ]
  },
  {
   "cell_type": "code",
   "execution_count": 19,
   "metadata": {
    "execution": {
     "iopub.execute_input": "2020-12-19T12:08:07.113615Z",
     "iopub.status.busy": "2020-12-19T12:08:07.113025Z",
     "iopub.status.idle": "2020-12-19T12:08:07.114779Z",
     "shell.execute_reply": "2020-12-19T12:08:07.115246Z"
    },
    "papermill": {
     "duration": 0.039451,
     "end_time": "2020-12-19T12:08:07.115392",
     "exception": false,
     "start_time": "2020-12-19T12:08:07.075941",
     "status": "completed"
    },
    "tags": []
   },
   "outputs": [],
   "source": [
    "#hide\n",
    "everydaycases = dft_ct_new_cases.cumsum(axis=1)"
   ]
  },
  {
   "cell_type": "code",
   "execution_count": 20,
   "metadata": {
    "execution": {
     "iopub.execute_input": "2020-12-19T12:08:07.184135Z",
     "iopub.status.busy": "2020-12-19T12:08:07.183524Z",
     "iopub.status.idle": "2020-12-19T12:08:09.621961Z",
     "shell.execute_reply": "2020-12-19T12:08:09.621405Z"
    },
    "papermill": {
     "duration": 2.47547,
     "end_time": "2020-12-19T12:08:09.622116",
     "exception": false,
     "start_time": "2020-12-19T12:08:07.146646",
     "status": "completed"
    },
    "tags": []
   },
   "outputs": [],
   "source": [
    "#hide\n",
    "import pandas as pd\n",
    "import matplotlib.pyplot as plt\n",
    "import matplotlib.ticker as ticker\n",
    "import matplotlib.animation as animation\n",
    "from IPython.display import HTML"
   ]
  },
  {
   "cell_type": "code",
   "execution_count": 21,
   "metadata": {
    "execution": {
     "iopub.execute_input": "2020-12-19T12:08:09.689832Z",
     "iopub.status.busy": "2020-12-19T12:08:09.689232Z",
     "iopub.status.idle": "2020-12-19T12:08:09.695591Z",
     "shell.execute_reply": "2020-12-19T12:08:09.695099Z"
    },
    "papermill": {
     "duration": 0.042748,
     "end_time": "2020-12-19T12:08:09.695722",
     "exception": false,
     "start_time": "2020-12-19T12:08:09.652974",
     "status": "completed"
    },
    "tags": []
   },
   "outputs": [],
   "source": [
    "#hide\n",
    "t = everydaycases.stack()"
   ]
  },
  {
   "cell_type": "code",
   "execution_count": 22,
   "metadata": {
    "execution": {
     "iopub.execute_input": "2020-12-19T12:08:09.761914Z",
     "iopub.status.busy": "2020-12-19T12:08:09.761384Z",
     "iopub.status.idle": "2020-12-19T12:08:09.767435Z",
     "shell.execute_reply": "2020-12-19T12:08:09.767890Z"
    },
    "papermill": {
     "duration": 0.041058,
     "end_time": "2020-12-19T12:08:09.768018",
     "exception": false,
     "start_time": "2020-12-19T12:08:09.726960",
     "status": "completed"
    },
    "tags": []
   },
   "outputs": [],
   "source": [
    "#hide\n",
    "g = t.reset_index(['Country/Region'])"
   ]
  },
  {
   "cell_type": "code",
   "execution_count": 23,
   "metadata": {
    "execution": {
     "iopub.execute_input": "2020-12-19T12:08:09.833670Z",
     "iopub.status.busy": "2020-12-19T12:08:09.833086Z",
     "iopub.status.idle": "2020-12-19T12:08:09.835514Z",
     "shell.execute_reply": "2020-12-19T12:08:09.834863Z"
    },
    "papermill": {
     "duration": 0.038156,
     "end_time": "2020-12-19T12:08:09.835647",
     "exception": false,
     "start_time": "2020-12-19T12:08:09.797491",
     "status": "completed"
    },
    "tags": []
   },
   "outputs": [],
   "source": [
    "#hide\n",
    "g.index.name = 'date'"
   ]
  },
  {
   "cell_type": "code",
   "execution_count": 24,
   "metadata": {
    "execution": {
     "iopub.execute_input": "2020-12-19T12:08:09.901652Z",
     "iopub.status.busy": "2020-12-19T12:08:09.901070Z",
     "iopub.status.idle": "2020-12-19T12:08:09.902990Z",
     "shell.execute_reply": "2020-12-19T12:08:09.903484Z"
    },
    "papermill": {
     "duration": 0.036858,
     "end_time": "2020-12-19T12:08:09.903626",
     "exception": false,
     "start_time": "2020-12-19T12:08:09.866768",
     "status": "completed"
    },
    "tags": []
   },
   "outputs": [],
   "source": [
    "# #hide\n",
    "# g = g.reset_index(['date'])"
   ]
  },
  {
   "cell_type": "code",
   "execution_count": 25,
   "metadata": {
    "execution": {
     "iopub.execute_input": "2020-12-19T12:08:09.973639Z",
     "iopub.status.busy": "2020-12-19T12:08:09.973052Z",
     "iopub.status.idle": "2020-12-19T12:08:09.975388Z",
     "shell.execute_reply": "2020-12-19T12:08:09.974909Z"
    },
    "papermill": {
     "duration": 0.038089,
     "end_time": "2020-12-19T12:08:09.975509",
     "exception": false,
     "start_time": "2020-12-19T12:08:09.937420",
     "status": "completed"
    },
    "tags": []
   },
   "outputs": [],
   "source": [
    "#hide\n",
    "# g.head()"
   ]
  },
  {
   "cell_type": "code",
   "execution_count": 26,
   "metadata": {
    "execution": {
     "iopub.execute_input": "2020-12-19T12:08:10.042456Z",
     "iopub.status.busy": "2020-12-19T12:08:10.041861Z",
     "iopub.status.idle": "2020-12-19T12:08:10.044630Z",
     "shell.execute_reply": "2020-12-19T12:08:10.044155Z"
    },
    "papermill": {
     "duration": 0.038053,
     "end_time": "2020-12-19T12:08:10.044758",
     "exception": false,
     "start_time": "2020-12-19T12:08:10.006705",
     "status": "completed"
    },
    "tags": []
   },
   "outputs": [],
   "source": [
    "#hide\n",
    "# g.columns = ['date','country','cases']"
   ]
  },
  {
   "cell_type": "code",
   "execution_count": 27,
   "metadata": {
    "execution": {
     "iopub.execute_input": "2020-12-19T12:08:10.113078Z",
     "iopub.status.busy": "2020-12-19T12:08:10.112487Z",
     "iopub.status.idle": "2020-12-19T12:08:10.114767Z",
     "shell.execute_reply": "2020-12-19T12:08:10.115300Z"
    },
    "papermill": {
     "duration": 0.038312,
     "end_time": "2020-12-19T12:08:10.115438",
     "exception": false,
     "start_time": "2020-12-19T12:08:10.077126",
     "status": "completed"
    },
    "tags": []
   },
   "outputs": [],
   "source": [
    "#hide\n",
    "# g['continent'] = g.country"
   ]
  },
  {
   "cell_type": "code",
   "execution_count": 28,
   "metadata": {
    "execution": {
     "iopub.execute_input": "2020-12-19T12:08:10.181380Z",
     "iopub.status.busy": "2020-12-19T12:08:10.180788Z",
     "iopub.status.idle": "2020-12-19T12:08:10.183202Z",
     "shell.execute_reply": "2020-12-19T12:08:10.183775Z"
    },
    "papermill": {
     "duration": 0.037346,
     "end_time": "2020-12-19T12:08:10.183915",
     "exception": false,
     "start_time": "2020-12-19T12:08:10.146569",
     "status": "completed"
    },
    "tags": []
   },
   "outputs": [],
   "source": [
    "#hide\n",
    "# cols = list(g.columns.values)"
   ]
  },
  {
   "cell_type": "code",
   "execution_count": 29,
   "metadata": {
    "execution": {
     "iopub.execute_input": "2020-12-19T12:08:10.247872Z",
     "iopub.status.busy": "2020-12-19T12:08:10.247321Z",
     "iopub.status.idle": "2020-12-19T12:08:10.249643Z",
     "shell.execute_reply": "2020-12-19T12:08:10.249217Z"
    },
    "papermill": {
     "duration": 0.035564,
     "end_time": "2020-12-19T12:08:10.249757",
     "exception": false,
     "start_time": "2020-12-19T12:08:10.214193",
     "status": "completed"
    },
    "tags": []
   },
   "outputs": [],
   "source": [
    "#hide\n",
    "# cols.insert(0, cols.pop())"
   ]
  },
  {
   "cell_type": "code",
   "execution_count": 30,
   "metadata": {
    "execution": {
     "iopub.execute_input": "2020-12-19T12:08:10.315284Z",
     "iopub.status.busy": "2020-12-19T12:08:10.314754Z",
     "iopub.status.idle": "2020-12-19T12:08:10.317533Z",
     "shell.execute_reply": "2020-12-19T12:08:10.317990Z"
    },
    "papermill": {
     "duration": 0.038203,
     "end_time": "2020-12-19T12:08:10.318120",
     "exception": false,
     "start_time": "2020-12-19T12:08:10.279917",
     "status": "completed"
    },
    "tags": []
   },
   "outputs": [],
   "source": [
    "#hide\n",
    "# g = g[cols]"
   ]
  },
  {
   "cell_type": "code",
   "execution_count": 31,
   "metadata": {
    "execution": {
     "iopub.execute_input": "2020-12-19T12:08:10.382853Z",
     "iopub.status.busy": "2020-12-19T12:08:10.382099Z",
     "iopub.status.idle": "2020-12-19T12:08:10.384411Z",
     "shell.execute_reply": "2020-12-19T12:08:10.383935Z"
    },
    "papermill": {
     "duration": 0.036617,
     "end_time": "2020-12-19T12:08:10.384525",
     "exception": false,
     "start_time": "2020-12-19T12:08:10.347908",
     "status": "completed"
    },
    "tags": []
   },
   "outputs": [],
   "source": [
    "#hide\n",
    "# g['continent'] = g['continent'].map(mapping['map.continent'])"
   ]
  },
  {
   "cell_type": "code",
   "execution_count": 32,
   "metadata": {
    "execution": {
     "iopub.execute_input": "2020-12-19T12:08:10.451425Z",
     "iopub.status.busy": "2020-12-19T12:08:10.450845Z",
     "iopub.status.idle": "2020-12-19T12:08:10.453069Z",
     "shell.execute_reply": "2020-12-19T12:08:10.453569Z"
    },
    "papermill": {
     "duration": 0.037951,
     "end_time": "2020-12-19T12:08:10.453706",
     "exception": false,
     "start_time": "2020-12-19T12:08:10.415755",
     "status": "completed"
    },
    "tags": []
   },
   "outputs": [],
   "source": [
    "#hide\n",
    "# g.head()"
   ]
  },
  {
   "cell_type": "code",
   "execution_count": 33,
   "metadata": {
    "execution": {
     "iopub.execute_input": "2020-12-19T12:08:10.520370Z",
     "iopub.status.busy": "2020-12-19T12:08:10.519765Z",
     "iopub.status.idle": "2020-12-19T12:08:10.522040Z",
     "shell.execute_reply": "2020-12-19T12:08:10.521483Z"
    },
    "papermill": {
     "duration": 0.036443,
     "end_time": "2020-12-19T12:08:10.522152",
     "exception": false,
     "start_time": "2020-12-19T12:08:10.485709",
     "status": "completed"
    },
    "tags": []
   },
   "outputs": [],
   "source": [
    "# hide\n",
    "# g['date'] = g['date'].astype('datetime64[ns]')"
   ]
  },
  {
   "cell_type": "code",
   "execution_count": 34,
   "metadata": {
    "execution": {
     "iopub.execute_input": "2020-12-19T12:08:10.591107Z",
     "iopub.status.busy": "2020-12-19T12:08:10.590499Z",
     "iopub.status.idle": "2020-12-19T12:08:10.592398Z",
     "shell.execute_reply": "2020-12-19T12:08:10.592877Z"
    },
    "papermill": {
     "duration": 0.040537,
     "end_time": "2020-12-19T12:08:10.593020",
     "exception": false,
     "start_time": "2020-12-19T12:08:10.552483",
     "status": "completed"
    },
    "tags": []
   },
   "outputs": [],
   "source": [
    "#hide\n",
    "# g['date'] = g.date.dt.dayofyear"
   ]
  },
  {
   "cell_type": "code",
   "execution_count": 35,
   "metadata": {
    "execution": {
     "iopub.execute_input": "2020-12-19T12:08:10.662763Z",
     "iopub.status.busy": "2020-12-19T12:08:10.662157Z",
     "iopub.status.idle": "2020-12-19T12:08:10.664225Z",
     "shell.execute_reply": "2020-12-19T12:08:10.664711Z"
    },
    "papermill": {
     "duration": 0.03918,
     "end_time": "2020-12-19T12:08:10.664859",
     "exception": false,
     "start_time": "2020-12-19T12:08:10.625679",
     "status": "completed"
    },
    "tags": []
   },
   "outputs": [],
   "source": [
    "#hide\n",
    "# g = g.rename(columns= {'continent':'group','country':'name','cases':'value'})"
   ]
  },
  {
   "cell_type": "code",
   "execution_count": 36,
   "metadata": {
    "execution": {
     "iopub.execute_input": "2020-12-19T12:08:10.729193Z",
     "iopub.status.busy": "2020-12-19T12:08:10.728621Z",
     "iopub.status.idle": "2020-12-19T12:08:10.731024Z",
     "shell.execute_reply": "2020-12-19T12:08:10.731537Z"
    },
    "papermill": {
     "duration": 0.03718,
     "end_time": "2020-12-19T12:08:10.731670",
     "exception": false,
     "start_time": "2020-12-19T12:08:10.694490",
     "status": "completed"
    },
    "tags": []
   },
   "outputs": [],
   "source": [
    "#hide\n",
    "# cols = ['name','group','day','value']"
   ]
  },
  {
   "cell_type": "code",
   "execution_count": 37,
   "metadata": {
    "execution": {
     "iopub.execute_input": "2020-12-19T12:08:10.801908Z",
     "iopub.status.busy": "2020-12-19T12:08:10.801353Z",
     "iopub.status.idle": "2020-12-19T12:08:10.804747Z",
     "shell.execute_reply": "2020-12-19T12:08:10.803960Z"
    },
    "papermill": {
     "duration": 0.038569,
     "end_time": "2020-12-19T12:08:10.804881",
     "exception": false,
     "start_time": "2020-12-19T12:08:10.766312",
     "status": "completed"
    },
    "tags": []
   },
   "outputs": [],
   "source": [
    "#hide\n",
    "# g.rename(columns= {'date':'day'},inplace = True)"
   ]
  },
  {
   "cell_type": "code",
   "execution_count": 38,
   "metadata": {
    "execution": {
     "iopub.execute_input": "2020-12-19T12:08:10.870620Z",
     "iopub.status.busy": "2020-12-19T12:08:10.869990Z",
     "iopub.status.idle": "2020-12-19T12:08:10.872399Z",
     "shell.execute_reply": "2020-12-19T12:08:10.871639Z"
    },
    "papermill": {
     "duration": 0.0362,
     "end_time": "2020-12-19T12:08:10.872523",
     "exception": false,
     "start_time": "2020-12-19T12:08:10.836323",
     "status": "completed"
    },
    "tags": []
   },
   "outputs": [],
   "source": [
    "#hide\n",
    "# g = g[cols]"
   ]
  },
  {
   "cell_type": "code",
   "execution_count": 39,
   "metadata": {
    "execution": {
     "iopub.execute_input": "2020-12-19T12:08:10.940390Z",
     "iopub.status.busy": "2020-12-19T12:08:10.939375Z",
     "iopub.status.idle": "2020-12-19T12:08:10.942619Z",
     "shell.execute_reply": "2020-12-19T12:08:10.943058Z"
    },
    "papermill": {
     "duration": 0.039452,
     "end_time": "2020-12-19T12:08:10.943208",
     "exception": false,
     "start_time": "2020-12-19T12:08:10.903756",
     "status": "completed"
    },
    "tags": []
   },
   "outputs": [],
   "source": [
    "# #hide\n",
    "# g = g[g.group.notna()]"
   ]
  },
  {
   "cell_type": "code",
   "execution_count": 40,
   "metadata": {
    "execution": {
     "iopub.execute_input": "2020-12-19T12:08:11.011715Z",
     "iopub.status.busy": "2020-12-19T12:08:11.011154Z",
     "iopub.status.idle": "2020-12-19T12:08:11.013835Z",
     "shell.execute_reply": "2020-12-19T12:08:11.014353Z"
    },
    "papermill": {
     "duration": 0.038046,
     "end_time": "2020-12-19T12:08:11.014487",
     "exception": false,
     "start_time": "2020-12-19T12:08:10.976441",
     "status": "completed"
    },
    "tags": []
   },
   "outputs": [],
   "source": [
    "# #hide\n",
    "# colors = dict(zip(\n",
    "#     [\"Oceania\", \"Europe\", \"Asia\", \"South America\", \"Middle East\", \"North America\", \"Africa\"],\n",
    "#     [\"#adb0ff\", \"#ffb3ff\", \"#90d595\", \"#e48381\", \"#aafbff\", \"#f7bb5f\", \"#eafb50\"]\n",
    "# ))\n",
    "# group_lk = g.set_index('name')['group'].to_dict()"
   ]
  },
  {
   "cell_type": "code",
   "execution_count": null,
   "metadata": {
    "papermill": {
     "duration": 0.030408,
     "end_time": "2020-12-19T12:08:11.075270",
     "exception": false,
     "start_time": "2020-12-19T12:08:11.044862",
     "status": "completed"
    },
    "tags": []
   },
   "outputs": [],
   "source": []
  },
  {
   "cell_type": "code",
   "execution_count": 41,
   "metadata": {
    "execution": {
     "iopub.execute_input": "2020-12-19T12:08:11.147412Z",
     "iopub.status.busy": "2020-12-19T12:08:11.146837Z",
     "iopub.status.idle": "2020-12-19T12:08:11.149228Z",
     "shell.execute_reply": "2020-12-19T12:08:11.148732Z"
    },
    "papermill": {
     "duration": 0.042887,
     "end_time": "2020-12-19T12:08:11.149349",
     "exception": false,
     "start_time": "2020-12-19T12:08:11.106462",
     "status": "completed"
    },
    "tags": []
   },
   "outputs": [],
   "source": [
    "# #hide\n",
    "# fig, ax = plt.subplots(figsize=(15, 8))\n",
    "\n",
    "# def draw_barchart(current_day):\n",
    "#     dff = g[g['day'].eq(current_day)].sort_values(by='value', ascending=True).tail(10)\n",
    "#     ax.clear()\n",
    "#     ax.barh(dff['name'], dff['value'], color=[colors[group_lk[x]] for x in dff['name']])\n",
    "#     dx = dff['value'].max() / 200\n",
    "    \n",
    "#     for i, (value, name) in enumerate(zip(dff['value'], dff['name'])):\n",
    "#         ax.text(value-dx, i,     name,           size=14, weight=600, ha='right', va='bottom')\n",
    "#         ax.text(value-dx, i-.25, group_lk[name], size=10, color='#444444', ha='right', va='baseline')\n",
    "#         ax.text(value+dx, i,     f'{value:,.0f}',  size=14, ha='left',  va='center')\n",
    "#     ax.text(1, 0.4, current_day, transform=ax.transAxes, color='#777777', size=46, ha='right', weight=800)\n",
    "#     ax.text(0, 1.06, 'Population (thousands)', transform=ax.transAxes, size=12, color='#777777')\n",
    "#     ax.xaxis.set_major_formatter(ticker.StrMethodFormatter('{x:,.0f}'))\n",
    "#     ax.xaxis.set_ticks_position('top')\n",
    "#     ax.tick_params(axis='x', colors='#777777', labelsize=12)\n",
    "#     ax.set_yticks([])\n",
    "#     ax.margins(0, 0.01)\n",
    "#     ax.grid(which='major', axis='x', linestyle='-')\n",
    "#     ax.set_axisbelow(True)\n",
    "    \n",
    "#     ax.text(0, 1.15, 'Coronavirus',\n",
    "#             transform=ax.transAxes, size=24, weight=600, ha='left', va='top')\n",
    "# #     ax.text(1, 0, 'by @pratapvardhan; credit @jburnmurdoch', transform=ax.transAxes, color='#777777', ha='right',\n",
    "# #             bbox=dict(facecolor='white', alpha=0.8, edgecolor='white'))\n",
    "#     plt.box(False)"
   ]
  },
  {
   "cell_type": "code",
   "execution_count": 42,
   "metadata": {
    "execution": {
     "iopub.execute_input": "2020-12-19T12:08:11.216993Z",
     "iopub.status.busy": "2020-12-19T12:08:11.216391Z",
     "iopub.status.idle": "2020-12-19T12:08:11.218716Z",
     "shell.execute_reply": "2020-12-19T12:08:11.219278Z"
    },
    "papermill": {
     "duration": 0.039377,
     "end_time": "2020-12-19T12:08:11.219422",
     "exception": false,
     "start_time": "2020-12-19T12:08:11.180045",
     "status": "completed"
    },
    "tags": []
   },
   "outputs": [],
   "source": [
    "# #hide_input\n",
    "# fig, ax = plt.subplots(figsize=(15, 8))\n",
    "# animator = animation.FuncAnimation(fig, draw_barchart, frames=range(g.day.values.min(), g.day.values.max()))\n",
    "# HTML(animator.to_jshtml())\n",
    "# # or use animator.to_html5_video() or animator.save() "
   ]
  },
  {
   "cell_type": "code",
   "execution_count": null,
   "metadata": {
    "papermill": {
     "duration": 0.039597,
     "end_time": "2020-12-19T12:08:11.291306",
     "exception": false,
     "start_time": "2020-12-19T12:08:11.251709",
     "status": "completed"
    },
    "tags": []
   },
   "outputs": [],
   "source": []
  },
  {
   "cell_type": "code",
   "execution_count": null,
   "metadata": {
    "papermill": {
     "duration": 0.029242,
     "end_time": "2020-12-19T12:08:11.350708",
     "exception": false,
     "start_time": "2020-12-19T12:08:11.321466",
     "status": "completed"
    },
    "tags": []
   },
   "outputs": [],
   "source": []
  },
  {
   "cell_type": "code",
   "execution_count": null,
   "metadata": {
    "papermill": {
     "duration": 0.030741,
     "end_time": "2020-12-19T12:08:11.411851",
     "exception": false,
     "start_time": "2020-12-19T12:08:11.381110",
     "status": "completed"
    },
    "tags": []
   },
   "outputs": [],
   "source": []
  }
 ],
 "metadata": {
  "kernelspec": {
   "display_name": "Python 3",
   "language": "python",
   "name": "python3"
  },
  "language_info": {
   "codemirror_mode": {
    "name": "ipython",
    "version": 3
   },
   "file_extension": ".py",
   "mimetype": "text/x-python",
   "name": "python",
   "nbconvert_exporter": "python",
   "pygments_lexer": "ipython3",
   "version": "3.6.12"
  },
  "papermill": {
   "duration": 7.817354,
   "end_time": "2020-12-19T12:08:11.750610",
   "environment_variables": {},
   "exception": null,
   "input_path": "2020-03-21-covid19exp.ipynb",
   "output_path": "2020-03-21-covid19exp.ipynb",
   "parameters": {},
   "start_time": "2020-12-19T12:08:03.933256",
   "version": "2.0.0"
  }
 },
 "nbformat": 4,
 "nbformat_minor": 4
}