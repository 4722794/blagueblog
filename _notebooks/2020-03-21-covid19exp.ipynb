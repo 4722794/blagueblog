{
 "cells": [
  {
   "cell_type": "markdown",
   "id": "muslim-click",
   "metadata": {
    "papermill": {
     "duration": 0.038751,
     "end_time": "2022-06-25T00:43:24.055321",
     "exception": false,
     "start_time": "2022-06-25T00:43:24.016570",
     "status": "completed"
    },
    "tags": []
   },
   "source": [
    "# COVID-19 Case Race\n",
    "> A race chart to see rising cases around the world\n",
    "\n",
    "- author: Hargun Oberoi\n",
    "- image: images/covid-overview.png\n",
    "- hide: false\n",
    "- badges: false"
   ]
  },
  {
   "cell_type": "code",
   "execution_count": 1,
   "id": "proof-material",
   "metadata": {
    "execution": {
     "iopub.execute_input": "2022-06-25T00:43:24.136727Z",
     "iopub.status.busy": "2022-06-25T00:43:24.136021Z",
     "iopub.status.idle": "2022-06-25T00:43:24.505057Z",
     "shell.execute_reply": "2022-06-25T00:43:24.504406Z"
    },
    "papermill": {
     "duration": 0.414967,
     "end_time": "2022-06-25T00:43:24.505208",
     "exception": false,
     "start_time": "2022-06-25T00:43:24.090241",
     "status": "completed"
    },
    "tags": []
   },
   "outputs": [],
   "source": [
    "#hide\n",
    "import numpy as np\n",
    "import pandas as pd\n",
    "from jinja2 import Template\n",
    "from IPython.display import HTML"
   ]
  },
  {
   "cell_type": "code",
   "execution_count": 2,
   "id": "developed-terminology",
   "metadata": {
    "execution": {
     "iopub.execute_input": "2022-06-25T00:43:24.588433Z",
     "iopub.status.busy": "2022-06-25T00:43:24.587722Z",
     "iopub.status.idle": "2022-06-25T00:43:24.590501Z",
     "shell.execute_reply": "2022-06-25T00:43:24.589837Z"
    },
    "papermill": {
     "duration": 0.04518,
     "end_time": "2022-06-25T00:43:24.590623",
     "exception": false,
     "start_time": "2022-06-25T00:43:24.545443",
     "status": "completed"
    },
    "tags": []
   },
   "outputs": [],
   "source": [
    "#hide\n",
    "\n",
    "# FETCH\n",
    "base_url = 'https://raw.githubusercontent.com/pratapvardhan/notebooks/master/covid19/'\n",
    "paths = {\n",
    "    'mapping': base_url + 'mapping_countries.csv',\n",
    "    'overview': base_url + 'overview.tpl'\n",
    "}"
   ]
  },
  {
   "cell_type": "code",
   "execution_count": 3,
   "id": "dynamic-saver",
   "metadata": {
    "execution": {
     "iopub.execute_input": "2022-06-25T00:43:24.670962Z",
     "iopub.status.busy": "2022-06-25T00:43:24.664695Z",
     "iopub.status.idle": "2022-06-25T00:43:24.674691Z",
     "shell.execute_reply": "2022-06-25T00:43:24.674137Z"
    },
    "papermill": {
     "duration": 0.051085,
     "end_time": "2022-06-25T00:43:24.674813",
     "exception": false,
     "start_time": "2022-06-25T00:43:24.623728",
     "status": "completed"
    },
    "tags": []
   },
   "outputs": [
    {
     "data": {
      "text/plain": [
       "'https://raw.githubusercontent.com/pratapvardhan/notebooks/master/covid19/mapping_countries.csv'"
      ]
     },
     "execution_count": 3,
     "metadata": {},
     "output_type": "execute_result"
    }
   ],
   "source": [
    "#hide\n",
    "paths['mapping']"
   ]
  },
  {
   "cell_type": "code",
   "execution_count": 4,
   "id": "urban-software",
   "metadata": {
    "execution": {
     "iopub.execute_input": "2022-06-25T00:43:24.750271Z",
     "iopub.status.busy": "2022-06-25T00:43:24.749583Z",
     "iopub.status.idle": "2022-06-25T00:43:24.752823Z",
     "shell.execute_reply": "2022-06-25T00:43:24.752160Z"
    },
    "papermill": {
     "duration": 0.044276,
     "end_time": "2022-06-25T00:43:24.752944",
     "exception": false,
     "start_time": "2022-06-25T00:43:24.708668",
     "status": "completed"
    },
    "tags": []
   },
   "outputs": [],
   "source": [
    "#hide\n",
    "def get_mappings(url):\n",
    "    df = pd.read_csv(url)\n",
    "    return {\n",
    "        'df': df,\n",
    "        'replace.country': dict(df.dropna(subset=['Name']).set_index('Country')['Name']),\n",
    "        'map.continent': dict(df.set_index('Name')['Continent'])\n",
    "    }"
   ]
  },
  {
   "cell_type": "code",
   "execution_count": 5,
   "id": "intimate-machinery",
   "metadata": {
    "execution": {
     "iopub.execute_input": "2022-06-25T00:43:24.828624Z",
     "iopub.status.busy": "2022-06-25T00:43:24.827945Z",
     "iopub.status.idle": "2022-06-25T00:43:24.881378Z",
     "shell.execute_reply": "2022-06-25T00:43:24.880799Z"
    },
    "papermill": {
     "duration": 0.094996,
     "end_time": "2022-06-25T00:43:24.881517",
     "exception": false,
     "start_time": "2022-06-25T00:43:24.786521",
     "status": "completed"
    },
    "tags": []
   },
   "outputs": [],
   "source": [
    "#hide\n",
    "mapping = get_mappings(paths['mapping'])"
   ]
  },
  {
   "cell_type": "code",
   "execution_count": 6,
   "id": "certified-tactics",
   "metadata": {
    "execution": {
     "iopub.execute_input": "2022-06-25T00:43:24.955377Z",
     "iopub.status.busy": "2022-06-25T00:43:24.954701Z",
     "iopub.status.idle": "2022-06-25T00:43:24.957419Z",
     "shell.execute_reply": "2022-06-25T00:43:24.957916Z"
    },
    "papermill": {
     "duration": 0.042914,
     "end_time": "2022-06-25T00:43:24.958060",
     "exception": false,
     "start_time": "2022-06-25T00:43:24.915146",
     "status": "completed"
    },
    "tags": []
   },
   "outputs": [],
   "source": [
    "#hide\n",
    "def get_template(path):\n",
    "    from urllib.parse import urlparse\n",
    "    if bool(urlparse(path).netloc):\n",
    "        from urllib.request import urlopen\n",
    "        return urlopen(path).read().decode('utf8')\n",
    "    return open(path).read()"
   ]
  },
  {
   "cell_type": "code",
   "execution_count": 7,
   "id": "realistic-blast",
   "metadata": {
    "execution": {
     "iopub.execute_input": "2022-06-25T00:43:25.032575Z",
     "iopub.status.busy": "2022-06-25T00:43:25.031879Z",
     "iopub.status.idle": "2022-06-25T00:43:25.035329Z",
     "shell.execute_reply": "2022-06-25T00:43:25.035919Z"
    },
    "papermill": {
     "duration": 0.044521,
     "end_time": "2022-06-25T00:43:25.036067",
     "exception": false,
     "start_time": "2022-06-25T00:43:24.991546",
     "status": "completed"
    },
    "tags": []
   },
   "outputs": [],
   "source": [
    "#hide\n",
    "def get_frame(name):\n",
    "    url = (\n",
    "        'https://raw.githubusercontent.com/CSSEGISandData/COVID-19/master/csse_covid_19_data/'\n",
    "        f'csse_covid_19_time_series/time_series_covid19_{name}_global.csv')\n",
    "    df = pd.read_csv(url)\n",
    "    # rename countries\n",
    "    df['Country/Region'] = df['Country/Region'].replace(mapping['replace.country'])\n",
    "    return df"
   ]
  },
  {
   "cell_type": "code",
   "execution_count": 8,
   "id": "affiliated-characterization",
   "metadata": {
    "execution": {
     "iopub.execute_input": "2022-06-25T00:43:25.113362Z",
     "iopub.status.busy": "2022-06-25T00:43:25.112681Z",
     "iopub.status.idle": "2022-06-25T00:43:25.115896Z",
     "shell.execute_reply": "2022-06-25T00:43:25.116426Z"
    },
    "papermill": {
     "duration": 0.046229,
     "end_time": "2022-06-25T00:43:25.116573",
     "exception": false,
     "start_time": "2022-06-25T00:43:25.070344",
     "status": "completed"
    },
    "tags": []
   },
   "outputs": [],
   "source": [
    "#hide\n",
    "def get_dates(df):\n",
    "    dt_cols = df.columns[~df.columns.isin(['Province/State', 'Country/Region', 'Lat', 'Long'])]\n",
    "    LAST_DATE_I = -1\n",
    "    # sometimes last column may be empty, then go backwards\n",
    "    for i in range(-1, -len(dt_cols), -1):\n",
    "        if not df[dt_cols[i]].fillna(0).eq(0).all():\n",
    "            LAST_DATE_I = i\n",
    "            break\n",
    "    return LAST_DATE_I, dt_cols"
   ]
  },
  {
   "cell_type": "code",
   "execution_count": 9,
   "id": "recent-optimization",
   "metadata": {
    "execution": {
     "iopub.execute_input": "2022-06-25T00:43:25.191101Z",
     "iopub.status.busy": "2022-06-25T00:43:25.190067Z",
     "iopub.status.idle": "2022-06-25T00:43:25.742542Z",
     "shell.execute_reply": "2022-06-25T00:43:25.741916Z"
    },
    "papermill": {
     "duration": 0.592784,
     "end_time": "2022-06-25T00:43:25.742692",
     "exception": false,
     "start_time": "2022-06-25T00:43:25.149908",
     "status": "completed"
    },
    "tags": []
   },
   "outputs": [],
   "source": [
    "#hide\n",
    "COL_REGION = 'Country/Region'\n",
    "# Confirmed, Recovered, Deaths\n",
    "df = get_frame('confirmed')\n",
    "# dft_: timeseries, dfc_: today country agg\n",
    "dft_cases = df\n",
    "dft_deaths = get_frame('deaths')\n",
    "dft_recovered = get_frame('recovered')\n",
    "LAST_DATE_I, dt_cols = get_dates(df)"
   ]
  },
  {
   "cell_type": "code",
   "execution_count": 10,
   "id": "absolute-copper",
   "metadata": {
    "execution": {
     "iopub.execute_input": "2022-06-25T00:43:25.815975Z",
     "iopub.status.busy": "2022-06-25T00:43:25.815259Z",
     "iopub.status.idle": "2022-06-25T00:43:25.818103Z",
     "shell.execute_reply": "2022-06-25T00:43:25.818753Z"
    },
    "papermill": {
     "duration": 0.042467,
     "end_time": "2022-06-25T00:43:25.818897",
     "exception": false,
     "start_time": "2022-06-25T00:43:25.776430",
     "status": "completed"
    },
    "tags": []
   },
   "outputs": [],
   "source": [
    "#hide\n",
    "LAST_DATE_I, dt_cols = get_dates(df)\n",
    "dt_today =dt_cols[LAST_DATE_I]\n",
    "# dt_5day = dt_cols[LAST_DATE_I - 5]\n",
    "dt_yday = dt_cols[LAST_DATE_I - 1]"
   ]
  },
  {
   "cell_type": "code",
   "execution_count": 11,
   "id": "restricted-sheriff",
   "metadata": {
    "execution": {
     "iopub.execute_input": "2022-06-25T00:43:25.895950Z",
     "iopub.status.busy": "2022-06-25T00:43:25.895214Z",
     "iopub.status.idle": "2022-06-25T00:43:25.901788Z",
     "shell.execute_reply": "2022-06-25T00:43:25.902417Z"
    },
    "papermill": {
     "duration": 0.049979,
     "end_time": "2022-06-25T00:43:25.902557",
     "exception": false,
     "start_time": "2022-06-25T00:43:25.852578",
     "status": "completed"
    },
    "tags": []
   },
   "outputs": [],
   "source": [
    "#hide\n",
    "dfc_cases = dft_cases.groupby(COL_REGION)[dt_today].sum()\n",
    "dfc_deaths = dft_deaths.groupby(COL_REGION)[dt_today].sum()\n",
    "# dfp_cases = dft_cases.groupby(COL_REGION)[dt_5day].sum()\n",
    "# dfp_deaths = dft_deaths.groupby(COL_REGION)[dt_5day].sum()\n",
    "dfp_cases = dft_cases.groupby(COL_REGION)[dt_yday].sum()\n",
    "dfp_deaths = dft_deaths.groupby(COL_REGION)[dt_yday].sum()"
   ]
  },
  {
   "cell_type": "code",
   "execution_count": 12,
   "id": "deluxe-hepatitis",
   "metadata": {
    "execution": {
     "iopub.execute_input": "2022-06-25T00:43:25.977612Z",
     "iopub.status.busy": "2022-06-25T00:43:25.976980Z",
     "iopub.status.idle": "2022-06-25T00:43:25.982385Z",
     "shell.execute_reply": "2022-06-25T00:43:25.981713Z"
    },
    "papermill": {
     "duration": 0.046354,
     "end_time": "2022-06-25T00:43:25.982510",
     "exception": false,
     "start_time": "2022-06-25T00:43:25.936156",
     "status": "completed"
    },
    "tags": []
   },
   "outputs": [],
   "source": [
    "#hide\n",
    "df_table = (pd.DataFrame(dict(Cases = dfc_cases, Deaths = dfc_deaths, PCases = dfp_cases, PDeaths = dfp_deaths))\n",
    "            .sort_values(by = ['Cases','Deaths'], ascending = [False, False])\n",
    "            .reset_index())"
   ]
  },
  {
   "cell_type": "code",
   "execution_count": 13,
   "id": "educational-chancellor",
   "metadata": {
    "execution": {
     "iopub.execute_input": "2022-06-25T00:43:26.068617Z",
     "iopub.status.busy": "2022-06-25T00:43:26.064253Z",
     "iopub.status.idle": "2022-06-25T00:43:26.078296Z",
     "shell.execute_reply": "2022-06-25T00:43:26.078947Z"
    },
    "papermill": {
     "duration": 0.062917,
     "end_time": "2022-06-25T00:43:26.079095",
     "exception": false,
     "start_time": "2022-06-25T00:43:26.016178",
     "status": "completed"
    },
    "tags": []
   },
   "outputs": [
    {
     "data": {
      "text/html": [
       "<div>\n",
       "<style scoped>\n",
       "    .dataframe tbody tr th:only-of-type {\n",
       "        vertical-align: middle;\n",
       "    }\n",
       "\n",
       "    .dataframe tbody tr th {\n",
       "        vertical-align: top;\n",
       "    }\n",
       "\n",
       "    .dataframe thead th {\n",
       "        text-align: right;\n",
       "    }\n",
       "</style>\n",
       "<table border=\"1\" class=\"dataframe\">\n",
       "  <thead>\n",
       "    <tr style=\"text-align: right;\">\n",
       "      <th></th>\n",
       "      <th>Country/Region</th>\n",
       "      <th>Cases</th>\n",
       "      <th>Deaths</th>\n",
       "      <th>PCases</th>\n",
       "      <th>PDeaths</th>\n",
       "      <th>Cases (+)</th>\n",
       "      <th>Deaths (+)</th>\n",
       "      <th>Fatality Rate</th>\n",
       "      <th>Continent</th>\n",
       "    </tr>\n",
       "  </thead>\n",
       "  <tbody>\n",
       "    <tr>\n",
       "      <th>0</th>\n",
       "      <td>US</td>\n",
       "      <td>86757621</td>\n",
       "      <td>1015342</td>\n",
       "      <td>86636306</td>\n",
       "      <td>1014835</td>\n",
       "      <td>121315</td>\n",
       "      <td>507</td>\n",
       "      <td>1.17</td>\n",
       "      <td>North America</td>\n",
       "    </tr>\n",
       "    <tr>\n",
       "      <th>1</th>\n",
       "      <td>India</td>\n",
       "      <td>43362294</td>\n",
       "      <td>524954</td>\n",
       "      <td>43344958</td>\n",
       "      <td>524941</td>\n",
       "      <td>17336</td>\n",
       "      <td>13</td>\n",
       "      <td>1.21</td>\n",
       "      <td>Asia</td>\n",
       "    </tr>\n",
       "    <tr>\n",
       "      <th>2</th>\n",
       "      <td>Brazil</td>\n",
       "      <td>31962782</td>\n",
       "      <td>669895</td>\n",
       "      <td>31890733</td>\n",
       "      <td>669530</td>\n",
       "      <td>72049</td>\n",
       "      <td>365</td>\n",
       "      <td>2.10</td>\n",
       "      <td>South America</td>\n",
       "    </tr>\n",
       "    <tr>\n",
       "      <th>3</th>\n",
       "      <td>France</td>\n",
       "      <td>30634890</td>\n",
       "      <td>150307</td>\n",
       "      <td>30555038</td>\n",
       "      <td>150267</td>\n",
       "      <td>79852</td>\n",
       "      <td>40</td>\n",
       "      <td>0.49</td>\n",
       "      <td>Europe</td>\n",
       "    </tr>\n",
       "    <tr>\n",
       "      <th>4</th>\n",
       "      <td>Germany</td>\n",
       "      <td>27681775</td>\n",
       "      <td>140650</td>\n",
       "      <td>27573585</td>\n",
       "      <td>140560</td>\n",
       "      <td>108190</td>\n",
       "      <td>90</td>\n",
       "      <td>0.51</td>\n",
       "      <td>Europe</td>\n",
       "    </tr>\n",
       "  </tbody>\n",
       "</table>\n",
       "</div>"
      ],
      "text/plain": [
       "  Country/Region     Cases   Deaths    PCases  PDeaths  Cases (+)  Deaths (+)  \\\n",
       "0             US  86757621  1015342  86636306  1014835     121315         507   \n",
       "1          India  43362294   524954  43344958   524941      17336          13   \n",
       "2         Brazil  31962782   669895  31890733   669530      72049         365   \n",
       "3         France  30634890   150307  30555038   150267      79852          40   \n",
       "4        Germany  27681775   140650  27573585   140560     108190          90   \n",
       "\n",
       "   Fatality Rate      Continent  \n",
       "0           1.17  North America  \n",
       "1           1.21           Asia  \n",
       "2           2.10  South America  \n",
       "3           0.49         Europe  \n",
       "4           0.51         Europe  "
      ]
     },
     "execution_count": 13,
     "metadata": {},
     "output_type": "execute_result"
    }
   ],
   "source": [
    "#hide\n",
    "for c in 'Cases, Deaths'.split(', '):\n",
    "    df_table[f'{c} (+)'] = (df_table[c] - df_table[f'P{c}']).clip(0)\n",
    "    #Clip ça veut dire, les chiffres negatif sont interdit\n",
    "df_table['Fatality Rate'] = (100* df_table['Deaths']/ df_table['Cases']).round(2)\n",
    "df_table['Continent'] = df_table['Country/Region'].map(mapping['map.continent'])\n",
    "df_table.head(5)"
   ]
  },
  {
   "cell_type": "code",
   "execution_count": 14,
   "id": "aboriginal-bulgaria",
   "metadata": {
    "execution": {
     "iopub.execute_input": "2022-06-25T00:43:26.152697Z",
     "iopub.status.busy": "2022-06-25T00:43:26.152068Z",
     "iopub.status.idle": "2022-06-25T00:43:26.155716Z",
     "shell.execute_reply": "2022-06-25T00:43:26.156367Z"
    },
    "papermill": {
     "duration": 0.045173,
     "end_time": "2022-06-25T00:43:26.156507",
     "exception": false,
     "start_time": "2022-06-25T00:43:26.111334",
     "status": "completed"
    },
    "tags": []
   },
   "outputs": [],
   "source": [
    "#hide\n",
    "#delete problematic countries from table\n",
    "df_table = df_table[~df_table['Country/Region'].isin(['Cape Verde', 'Cruise Ship', 'Kosovo'])]"
   ]
  },
  {
   "cell_type": "code",
   "execution_count": 15,
   "id": "fantastic-effect",
   "metadata": {
    "execution": {
     "iopub.execute_input": "2022-06-25T00:43:26.233624Z",
     "iopub.status.busy": "2022-06-25T00:43:26.232949Z",
     "iopub.status.idle": "2022-06-25T00:43:26.253109Z",
     "shell.execute_reply": "2022-06-25T00:43:26.253830Z"
    },
    "papermill": {
     "duration": 0.064123,
     "end_time": "2022-06-25T00:43:26.254016",
     "exception": false,
     "start_time": "2022-06-25T00:43:26.189893",
     "status": "completed"
    },
    "tags": []
   },
   "outputs": [
    {
     "data": {
      "text/html": [
       "<div>\n",
       "<style scoped>\n",
       "    .dataframe tbody tr th:only-of-type {\n",
       "        vertical-align: middle;\n",
       "    }\n",
       "\n",
       "    .dataframe tbody tr th {\n",
       "        vertical-align: top;\n",
       "    }\n",
       "\n",
       "    .dataframe thead th {\n",
       "        text-align: right;\n",
       "    }\n",
       "</style>\n",
       "<table border=\"1\" class=\"dataframe\">\n",
       "  <thead>\n",
       "    <tr style=\"text-align: right;\">\n",
       "      <th></th>\n",
       "      <th>Country/Region</th>\n",
       "      <th>Cases</th>\n",
       "      <th>Deaths</th>\n",
       "      <th>PCases</th>\n",
       "      <th>PDeaths</th>\n",
       "      <th>Cases (+)</th>\n",
       "      <th>Deaths (+)</th>\n",
       "      <th>Fatality Rate</th>\n",
       "      <th>Continent</th>\n",
       "    </tr>\n",
       "  </thead>\n",
       "  <tbody>\n",
       "    <tr>\n",
       "      <th>0</th>\n",
       "      <td>US</td>\n",
       "      <td>86757621</td>\n",
       "      <td>1015342</td>\n",
       "      <td>86636306</td>\n",
       "      <td>1014835</td>\n",
       "      <td>121315</td>\n",
       "      <td>507</td>\n",
       "      <td>1.2</td>\n",
       "      <td>North America</td>\n",
       "    </tr>\n",
       "    <tr>\n",
       "      <th>1</th>\n",
       "      <td>India</td>\n",
       "      <td>43362294</td>\n",
       "      <td>524954</td>\n",
       "      <td>43344958</td>\n",
       "      <td>524941</td>\n",
       "      <td>17336</td>\n",
       "      <td>13</td>\n",
       "      <td>1.2</td>\n",
       "      <td>Asia</td>\n",
       "    </tr>\n",
       "    <tr>\n",
       "      <th>2</th>\n",
       "      <td>Brazil</td>\n",
       "      <td>31962782</td>\n",
       "      <td>669895</td>\n",
       "      <td>31890733</td>\n",
       "      <td>669530</td>\n",
       "      <td>72049</td>\n",
       "      <td>365</td>\n",
       "      <td>2.1</td>\n",
       "      <td>South America</td>\n",
       "    </tr>\n",
       "    <tr>\n",
       "      <th>3</th>\n",
       "      <td>France</td>\n",
       "      <td>30634890</td>\n",
       "      <td>150307</td>\n",
       "      <td>30555038</td>\n",
       "      <td>150267</td>\n",
       "      <td>79852</td>\n",
       "      <td>40</td>\n",
       "      <td>0.5</td>\n",
       "      <td>Europe</td>\n",
       "    </tr>\n",
       "    <tr>\n",
       "      <th>4</th>\n",
       "      <td>Germany</td>\n",
       "      <td>27681775</td>\n",
       "      <td>140650</td>\n",
       "      <td>27573585</td>\n",
       "      <td>140560</td>\n",
       "      <td>108190</td>\n",
       "      <td>90</td>\n",
       "      <td>0.5</td>\n",
       "      <td>Europe</td>\n",
       "    </tr>\n",
       "  </tbody>\n",
       "</table>\n",
       "</div>"
      ],
      "text/plain": [
       "  Country/Region     Cases   Deaths    PCases  PDeaths  Cases (+)  Deaths (+)  \\\n",
       "0             US  86757621  1015342  86636306  1014835     121315         507   \n",
       "1          India  43362294   524954  43344958   524941      17336          13   \n",
       "2         Brazil  31962782   669895  31890733   669530      72049         365   \n",
       "3         France  30634890   150307  30555038   150267      79852          40   \n",
       "4        Germany  27681775   140650  27573585   140560     108190          90   \n",
       "\n",
       "   Fatality Rate      Continent  \n",
       "0            1.2  North America  \n",
       "1            1.2           Asia  \n",
       "2            2.1  South America  \n",
       "3            0.5         Europe  \n",
       "4            0.5         Europe  "
      ]
     },
     "execution_count": 15,
     "metadata": {},
     "output_type": "execute_result"
    }
   ],
   "source": [
    "#hide\n",
    "df_table = (pd.DataFrame(dict(Cases=dfc_cases, Deaths=dfc_deaths, PCases=dfp_cases, PDeaths=dfp_deaths))\n",
    "             .sort_values(by=['Cases', 'Deaths'], ascending=[False, False])\n",
    "             .reset_index())\n",
    "df_table.rename(columns={'index': 'Country/Region'}, inplace=True)\n",
    "for c in 'Cases, Deaths'.split(', '):\n",
    "    df_table[f'{c} (+)'] = (df_table[c] - df_table[f'P{c}']).clip(0)  # DATA BUG\n",
    "df_table['Fatality Rate'] = (100 * df_table['Deaths'] / df_table['Cases']).round(1)\n",
    "df_table['Continent'] = df_table['Country/Region'].map(mapping['map.continent'])\n",
    "df_table.head(5)"
   ]
  },
  {
   "cell_type": "code",
   "execution_count": 16,
   "id": "fewer-occasion",
   "metadata": {
    "execution": {
     "iopub.execute_input": "2022-06-25T00:43:26.331883Z",
     "iopub.status.busy": "2022-06-25T00:43:26.331209Z",
     "iopub.status.idle": "2022-06-25T00:43:26.334321Z",
     "shell.execute_reply": "2022-06-25T00:43:26.333661Z"
    },
    "papermill": {
     "duration": 0.044292,
     "end_time": "2022-06-25T00:43:26.334443",
     "exception": false,
     "start_time": "2022-06-25T00:43:26.290151",
     "status": "completed"
    },
    "tags": []
   },
   "outputs": [],
   "source": [
    "#hide\n",
    "#delete problematic countries from table\n",
    "df_table = df_table[~df_table['Country/Region'].isin(['Cape Verde', 'Cruise Ship', 'Kosovo'])]"
   ]
  },
  {
   "cell_type": "code",
   "execution_count": 17,
   "id": "related-center",
   "metadata": {
    "execution": {
     "iopub.execute_input": "2022-06-25T00:43:26.419597Z",
     "iopub.status.busy": "2022-06-25T00:43:26.411459Z",
     "iopub.status.idle": "2022-06-25T00:43:26.428754Z",
     "shell.execute_reply": "2022-06-25T00:43:26.428207Z"
    },
    "papermill": {
     "duration": 0.060114,
     "end_time": "2022-06-25T00:43:26.428881",
     "exception": false,
     "start_time": "2022-06-25T00:43:26.368767",
     "status": "completed"
    },
    "tags": []
   },
   "outputs": [],
   "source": [
    "#hide\n",
    "metrics = [df_table.columns[index] for index in [1,2,5,6]]\n",
    "# s_china = df_table[df_table['Country/Region'].eq('China')][metrics].sum().add_prefix('China ')\n",
    "s_us = df_table[df_table['Country/Region'].eq('US')][metrics].sum().add_prefix('US ')\n",
    "s_eu = df_table[df_table['Continent'].eq('Europe')][metrics].sum().add_prefix('EU ')\n",
    "s_ind = df_table[df_table['Country/Region'].eq('India')][metrics].sum().add_prefix('India ')\n",
    "summary = {'updated': pd.to_datetime(dt_today), 'since': pd.to_datetime(dt_yday)}\n",
    "summary = {'updated': pd.to_datetime(dt_today), 'since': pd.to_datetime(dt_yday)}\n",
    "summary = {**summary, **df_table[metrics].sum(), **s_ind, **s_us, **s_eu}"
   ]
  },
  {
   "cell_type": "code",
   "execution_count": 18,
   "id": "engaging-syndrome",
   "metadata": {
    "execution": {
     "iopub.execute_input": "2022-06-25T00:43:26.502649Z",
     "iopub.status.busy": "2022-06-25T00:43:26.501948Z",
     "iopub.status.idle": "2022-06-25T00:43:26.523844Z",
     "shell.execute_reply": "2022-06-25T00:43:26.523251Z"
    },
    "papermill": {
     "duration": 0.061462,
     "end_time": "2022-06-25T00:43:26.523975",
     "exception": false,
     "start_time": "2022-06-25T00:43:26.462513",
     "status": "completed"
    },
    "tags": []
   },
   "outputs": [],
   "source": [
    "#hide\n",
    "dft_ct_new_cases = dft_cases.groupby(COL_REGION)[dt_cols].sum().diff(axis=1).fillna(0).astype(int)"
   ]
  },
  {
   "cell_type": "code",
   "execution_count": 19,
   "id": "neutral-assignment",
   "metadata": {
    "execution": {
     "iopub.execute_input": "2022-06-25T00:43:26.599828Z",
     "iopub.status.busy": "2022-06-25T00:43:26.599108Z",
     "iopub.status.idle": "2022-06-25T00:43:26.602041Z",
     "shell.execute_reply": "2022-06-25T00:43:26.601493Z"
    },
    "papermill": {
     "duration": 0.043633,
     "end_time": "2022-06-25T00:43:26.602159",
     "exception": false,
     "start_time": "2022-06-25T00:43:26.558526",
     "status": "completed"
    },
    "tags": []
   },
   "outputs": [],
   "source": [
    "#hide\n",
    "everydaycases = dft_ct_new_cases.cumsum(axis=1)"
   ]
  },
  {
   "cell_type": "code",
   "execution_count": 20,
   "id": "parliamentary-calgary",
   "metadata": {
    "execution": {
     "iopub.execute_input": "2022-06-25T00:43:26.678508Z",
     "iopub.status.busy": "2022-06-25T00:43:26.677822Z",
     "iopub.status.idle": "2022-06-25T00:43:27.306050Z",
     "shell.execute_reply": "2022-06-25T00:43:27.305441Z"
    },
    "papermill": {
     "duration": 0.668942,
     "end_time": "2022-06-25T00:43:27.306194",
     "exception": false,
     "start_time": "2022-06-25T00:43:26.637252",
     "status": "completed"
    },
    "tags": []
   },
   "outputs": [],
   "source": [
    "#hide\n",
    "import pandas as pd\n",
    "import matplotlib.pyplot as plt\n",
    "import matplotlib.ticker as ticker\n",
    "import matplotlib.animation as animation\n",
    "from IPython.display import HTML"
   ]
  },
  {
   "cell_type": "code",
   "execution_count": 21,
   "id": "lasting-extraction",
   "metadata": {
    "execution": {
     "iopub.execute_input": "2022-06-25T00:43:27.390762Z",
     "iopub.status.busy": "2022-06-25T00:43:27.390083Z",
     "iopub.status.idle": "2022-06-25T00:43:27.397939Z",
     "shell.execute_reply": "2022-06-25T00:43:27.397385Z"
    },
    "papermill": {
     "duration": 0.051473,
     "end_time": "2022-06-25T00:43:27.398065",
     "exception": false,
     "start_time": "2022-06-25T00:43:27.346592",
     "status": "completed"
    },
    "tags": []
   },
   "outputs": [],
   "source": [
    "#hide\n",
    "t = everydaycases.stack()"
   ]
  },
  {
   "cell_type": "code",
   "execution_count": 22,
   "id": "premier-sleeve",
   "metadata": {
    "execution": {
     "iopub.execute_input": "2022-06-25T00:43:27.474999Z",
     "iopub.status.busy": "2022-06-25T00:43:27.474312Z",
     "iopub.status.idle": "2022-06-25T00:43:27.489112Z",
     "shell.execute_reply": "2022-06-25T00:43:27.488595Z"
    },
    "papermill": {
     "duration": 0.055432,
     "end_time": "2022-06-25T00:43:27.489228",
     "exception": false,
     "start_time": "2022-06-25T00:43:27.433796",
     "status": "completed"
    },
    "tags": []
   },
   "outputs": [],
   "source": [
    "#hide\n",
    "g = t.reset_index(['Country/Region'])"
   ]
  },
  {
   "cell_type": "code",
   "execution_count": 23,
   "id": "distributed-pittsburgh",
   "metadata": {
    "execution": {
     "iopub.execute_input": "2022-06-25T00:43:27.563076Z",
     "iopub.status.busy": "2022-06-25T00:43:27.562298Z",
     "iopub.status.idle": "2022-06-25T00:43:27.567610Z",
     "shell.execute_reply": "2022-06-25T00:43:27.566987Z"
    },
    "papermill": {
     "duration": 0.04411,
     "end_time": "2022-06-25T00:43:27.567752",
     "exception": false,
     "start_time": "2022-06-25T00:43:27.523642",
     "status": "completed"
    },
    "tags": []
   },
   "outputs": [],
   "source": [
    "#hide\n",
    "g.index.name = 'date'"
   ]
  },
  {
   "cell_type": "code",
   "execution_count": 24,
   "id": "naked-donor",
   "metadata": {
    "execution": {
     "iopub.execute_input": "2022-06-25T00:43:27.642301Z",
     "iopub.status.busy": "2022-06-25T00:43:27.641625Z",
     "iopub.status.idle": "2022-06-25T00:43:27.644711Z",
     "shell.execute_reply": "2022-06-25T00:43:27.644133Z"
    },
    "papermill": {
     "duration": 0.042131,
     "end_time": "2022-06-25T00:43:27.644830",
     "exception": false,
     "start_time": "2022-06-25T00:43:27.602699",
     "status": "completed"
    },
    "tags": []
   },
   "outputs": [],
   "source": [
    "# #hide\n",
    "# g = g.reset_index(['date'])"
   ]
  },
  {
   "cell_type": "code",
   "execution_count": 25,
   "id": "incomplete-mustang",
   "metadata": {
    "execution": {
     "iopub.execute_input": "2022-06-25T00:43:27.718516Z",
     "iopub.status.busy": "2022-06-25T00:43:27.717585Z",
     "iopub.status.idle": "2022-06-25T00:43:27.719535Z",
     "shell.execute_reply": "2022-06-25T00:43:27.720293Z"
    },
    "papermill": {
     "duration": 0.040995,
     "end_time": "2022-06-25T00:43:27.720473",
     "exception": false,
     "start_time": "2022-06-25T00:43:27.679478",
     "status": "completed"
    },
    "tags": []
   },
   "outputs": [],
   "source": [
    "#hide\n",
    "# g.head()"
   ]
  },
  {
   "cell_type": "code",
   "execution_count": 26,
   "id": "specific-kruger",
   "metadata": {
    "execution": {
     "iopub.execute_input": "2022-06-25T00:43:27.794636Z",
     "iopub.status.busy": "2022-06-25T00:43:27.793958Z",
     "iopub.status.idle": "2022-06-25T00:43:27.796552Z",
     "shell.execute_reply": "2022-06-25T00:43:27.797038Z"
    },
    "papermill": {
     "duration": 0.041781,
     "end_time": "2022-06-25T00:43:27.797167",
     "exception": false,
     "start_time": "2022-06-25T00:43:27.755386",
     "status": "completed"
    },
    "tags": []
   },
   "outputs": [],
   "source": [
    "#hide\n",
    "# g.columns = ['date','country','cases']"
   ]
  },
  {
   "cell_type": "code",
   "execution_count": 27,
   "id": "tender-conversion",
   "metadata": {
    "execution": {
     "iopub.execute_input": "2022-06-25T00:43:27.870468Z",
     "iopub.status.busy": "2022-06-25T00:43:27.869299Z",
     "iopub.status.idle": "2022-06-25T00:43:27.871797Z",
     "shell.execute_reply": "2022-06-25T00:43:27.872705Z"
    },
    "papermill": {
     "duration": 0.042328,
     "end_time": "2022-06-25T00:43:27.872923",
     "exception": false,
     "start_time": "2022-06-25T00:43:27.830595",
     "status": "completed"
    },
    "tags": []
   },
   "outputs": [],
   "source": [
    "#hide\n",
    "# g['continent'] = g.country"
   ]
  },
  {
   "cell_type": "code",
   "execution_count": 28,
   "id": "substantial-wilderness",
   "metadata": {
    "execution": {
     "iopub.execute_input": "2022-06-25T00:43:27.944126Z",
     "iopub.status.busy": "2022-06-25T00:43:27.942908Z",
     "iopub.status.idle": "2022-06-25T00:43:27.944996Z",
     "shell.execute_reply": "2022-06-25T00:43:27.945472Z"
    },
    "papermill": {
     "duration": 0.040209,
     "end_time": "2022-06-25T00:43:27.945594",
     "exception": false,
     "start_time": "2022-06-25T00:43:27.905385",
     "status": "completed"
    },
    "tags": []
   },
   "outputs": [],
   "source": [
    "#hide\n",
    "# cols = list(g.columns.values)"
   ]
  },
  {
   "cell_type": "code",
   "execution_count": 29,
   "id": "solved-farming",
   "metadata": {
    "execution": {
     "iopub.execute_input": "2022-06-25T00:43:28.034237Z",
     "iopub.status.busy": "2022-06-25T00:43:28.033053Z",
     "iopub.status.idle": "2022-06-25T00:43:28.035302Z",
     "shell.execute_reply": "2022-06-25T00:43:28.035863Z"
    },
    "papermill": {
     "duration": 0.043733,
     "end_time": "2022-06-25T00:43:28.036004",
     "exception": false,
     "start_time": "2022-06-25T00:43:27.992271",
     "status": "completed"
    },
    "tags": []
   },
   "outputs": [],
   "source": [
    "#hide\n",
    "# cols.insert(0, cols.pop())"
   ]
  },
  {
   "cell_type": "code",
   "execution_count": 30,
   "id": "executed-adoption",
   "metadata": {
    "execution": {
     "iopub.execute_input": "2022-06-25T00:43:28.109092Z",
     "iopub.status.busy": "2022-06-25T00:43:28.108423Z",
     "iopub.status.idle": "2022-06-25T00:43:28.111926Z",
     "shell.execute_reply": "2022-06-25T00:43:28.111342Z"
    },
    "papermill": {
     "duration": 0.041351,
     "end_time": "2022-06-25T00:43:28.112045",
     "exception": false,
     "start_time": "2022-06-25T00:43:28.070694",
     "status": "completed"
    },
    "tags": []
   },
   "outputs": [],
   "source": [
    "#hide\n",
    "# g = g[cols]"
   ]
  },
  {
   "cell_type": "code",
   "execution_count": 31,
   "id": "subject-dublin",
   "metadata": {
    "execution": {
     "iopub.execute_input": "2022-06-25T00:43:28.186062Z",
     "iopub.status.busy": "2022-06-25T00:43:28.184746Z",
     "iopub.status.idle": "2022-06-25T00:43:28.187358Z",
     "shell.execute_reply": "2022-06-25T00:43:28.188090Z"
    },
    "papermill": {
     "duration": 0.041994,
     "end_time": "2022-06-25T00:43:28.188223",
     "exception": false,
     "start_time": "2022-06-25T00:43:28.146229",
     "status": "completed"
    },
    "tags": []
   },
   "outputs": [],
   "source": [
    "#hide\n",
    "# g['continent'] = g['continent'].map(mapping['map.continent'])"
   ]
  },
  {
   "cell_type": "code",
   "execution_count": 32,
   "id": "freelance-scout",
   "metadata": {
    "execution": {
     "iopub.execute_input": "2022-06-25T00:43:28.264196Z",
     "iopub.status.busy": "2022-06-25T00:43:28.262959Z",
     "iopub.status.idle": "2022-06-25T00:43:28.265492Z",
     "shell.execute_reply": "2022-06-25T00:43:28.266387Z"
    },
    "papermill": {
     "duration": 0.043486,
     "end_time": "2022-06-25T00:43:28.266608",
     "exception": false,
     "start_time": "2022-06-25T00:43:28.223122",
     "status": "completed"
    },
    "tags": []
   },
   "outputs": [],
   "source": [
    "#hide\n",
    "# g.head()"
   ]
  },
  {
   "cell_type": "code",
   "execution_count": 33,
   "id": "limited-engine",
   "metadata": {
    "execution": {
     "iopub.execute_input": "2022-06-25T00:43:28.342350Z",
     "iopub.status.busy": "2022-06-25T00:43:28.341619Z",
     "iopub.status.idle": "2022-06-25T00:43:28.348041Z",
     "shell.execute_reply": "2022-06-25T00:43:28.348534Z"
    },
    "papermill": {
     "duration": 0.045935,
     "end_time": "2022-06-25T00:43:28.348687",
     "exception": false,
     "start_time": "2022-06-25T00:43:28.302752",
     "status": "completed"
    },
    "tags": []
   },
   "outputs": [],
   "source": [
    "# hide\n",
    "# g['date'] = g['date'].astype('datetime64[ns]')"
   ]
  },
  {
   "cell_type": "code",
   "execution_count": 34,
   "id": "sophisticated-supervisor",
   "metadata": {
    "execution": {
     "iopub.execute_input": "2022-06-25T00:43:28.426202Z",
     "iopub.status.busy": "2022-06-25T00:43:28.425009Z",
     "iopub.status.idle": "2022-06-25T00:43:28.428565Z",
     "shell.execute_reply": "2022-06-25T00:43:28.427614Z"
    },
    "papermill": {
     "duration": 0.04376,
     "end_time": "2022-06-25T00:43:28.428764",
     "exception": false,
     "start_time": "2022-06-25T00:43:28.385004",
     "status": "completed"
    },
    "tags": []
   },
   "outputs": [],
   "source": [
    "#hide\n",
    "# g['date'] = g.date.dt.dayofyear"
   ]
  },
  {
   "cell_type": "code",
   "execution_count": 35,
   "id": "inside-dubai",
   "metadata": {
    "execution": {
     "iopub.execute_input": "2022-06-25T00:43:28.498497Z",
     "iopub.status.busy": "2022-06-25T00:43:28.497874Z",
     "iopub.status.idle": "2022-06-25T00:43:28.501988Z",
     "shell.execute_reply": "2022-06-25T00:43:28.501424Z"
    },
    "papermill": {
     "duration": 0.037894,
     "end_time": "2022-06-25T00:43:28.502106",
     "exception": false,
     "start_time": "2022-06-25T00:43:28.464212",
     "status": "completed"
    },
    "tags": []
   },
   "outputs": [],
   "source": [
    "#hide\n",
    "# g = g.rename(columns= {'continent':'group','country':'name','cases':'value'})"
   ]
  },
  {
   "cell_type": "code",
   "execution_count": 36,
   "id": "fleet-motorcycle",
   "metadata": {
    "execution": {
     "iopub.execute_input": "2022-06-25T00:43:28.574450Z",
     "iopub.status.busy": "2022-06-25T00:43:28.573762Z",
     "iopub.status.idle": "2022-06-25T00:43:28.577906Z",
     "shell.execute_reply": "2022-06-25T00:43:28.578409Z"
    },
    "papermill": {
     "duration": 0.042584,
     "end_time": "2022-06-25T00:43:28.578541",
     "exception": false,
     "start_time": "2022-06-25T00:43:28.535957",
     "status": "completed"
    },
    "tags": []
   },
   "outputs": [],
   "source": [
    "#hide\n",
    "# cols = ['name','group','day','value']"
   ]
  },
  {
   "cell_type": "code",
   "execution_count": 37,
   "id": "continued-sleeping",
   "metadata": {
    "execution": {
     "iopub.execute_input": "2022-06-25T00:43:28.654929Z",
     "iopub.status.busy": "2022-06-25T00:43:28.654163Z",
     "iopub.status.idle": "2022-06-25T00:43:28.656346Z",
     "shell.execute_reply": "2022-06-25T00:43:28.655693Z"
    },
    "papermill": {
     "duration": 0.042018,
     "end_time": "2022-06-25T00:43:28.656465",
     "exception": false,
     "start_time": "2022-06-25T00:43:28.614447",
     "status": "completed"
    },
    "tags": []
   },
   "outputs": [],
   "source": [
    "#hide\n",
    "# g.rename(columns= {'date':'day'},inplace = True)"
   ]
  },
  {
   "cell_type": "code",
   "execution_count": 38,
   "id": "major-fight",
   "metadata": {
    "execution": {
     "iopub.execute_input": "2022-06-25T00:43:28.730023Z",
     "iopub.status.busy": "2022-06-25T00:43:28.729335Z",
     "iopub.status.idle": "2022-06-25T00:43:28.734121Z",
     "shell.execute_reply": "2022-06-25T00:43:28.733572Z"
    },
    "papermill": {
     "duration": 0.043079,
     "end_time": "2022-06-25T00:43:28.734243",
     "exception": false,
     "start_time": "2022-06-25T00:43:28.691164",
     "status": "completed"
    },
    "tags": []
   },
   "outputs": [],
   "source": [
    "#hide\n",
    "# g = g[cols]"
   ]
  },
  {
   "cell_type": "code",
   "execution_count": 39,
   "id": "structured-mobile",
   "metadata": {
    "execution": {
     "iopub.execute_input": "2022-06-25T00:43:28.812277Z",
     "iopub.status.busy": "2022-06-25T00:43:28.811311Z",
     "iopub.status.idle": "2022-06-25T00:43:28.814134Z",
     "shell.execute_reply": "2022-06-25T00:43:28.813262Z"
    },
    "papermill": {
     "duration": 0.044652,
     "end_time": "2022-06-25T00:43:28.814292",
     "exception": false,
     "start_time": "2022-06-25T00:43:28.769640",
     "status": "completed"
    },
    "tags": []
   },
   "outputs": [],
   "source": [
    "# #hide\n",
    "# g = g[g.group.notna()]"
   ]
  },
  {
   "cell_type": "code",
   "execution_count": 40,
   "id": "determined-closing",
   "metadata": {
    "execution": {
     "iopub.execute_input": "2022-06-25T00:43:28.887989Z",
     "iopub.status.busy": "2022-06-25T00:43:28.887252Z",
     "iopub.status.idle": "2022-06-25T00:43:28.889885Z",
     "shell.execute_reply": "2022-06-25T00:43:28.889225Z"
    },
    "papermill": {
     "duration": 0.041954,
     "end_time": "2022-06-25T00:43:28.890004",
     "exception": false,
     "start_time": "2022-06-25T00:43:28.848050",
     "status": "completed"
    },
    "tags": []
   },
   "outputs": [],
   "source": [
    "# #hide\n",
    "# colors = dict(zip(\n",
    "#     [\"Oceania\", \"Europe\", \"Asia\", \"South America\", \"Middle East\", \"North America\", \"Africa\"],\n",
    "#     [\"#adb0ff\", \"#ffb3ff\", \"#90d595\", \"#e48381\", \"#aafbff\", \"#f7bb5f\", \"#eafb50\"]\n",
    "# ))\n",
    "# group_lk = g.set_index('name')['group'].to_dict()"
   ]
  },
  {
   "cell_type": "code",
   "execution_count": null,
   "id": "gross-drinking",
   "metadata": {
    "papermill": {
     "duration": 0.035345,
     "end_time": "2022-06-25T00:43:28.961781",
     "exception": false,
     "start_time": "2022-06-25T00:43:28.926436",
     "status": "completed"
    },
    "tags": []
   },
   "outputs": [],
   "source": []
  },
  {
   "cell_type": "code",
   "execution_count": 41,
   "id": "subject-macintosh",
   "metadata": {
    "execution": {
     "iopub.execute_input": "2022-06-25T00:43:29.042274Z",
     "iopub.status.busy": "2022-06-25T00:43:29.041562Z",
     "iopub.status.idle": "2022-06-25T00:43:29.046244Z",
     "shell.execute_reply": "2022-06-25T00:43:29.046900Z"
    },
    "papermill": {
     "duration": 0.046399,
     "end_time": "2022-06-25T00:43:29.047045",
     "exception": false,
     "start_time": "2022-06-25T00:43:29.000646",
     "status": "completed"
    },
    "tags": []
   },
   "outputs": [],
   "source": [
    "# #hide\n",
    "# fig, ax = plt.subplots(figsize=(15, 8))\n",
    "\n",
    "# def draw_barchart(current_day):\n",
    "#     dff = g[g['day'].eq(current_day)].sort_values(by='value', ascending=True).tail(10)\n",
    "#     ax.clear()\n",
    "#     ax.barh(dff['name'], dff['value'], color=[colors[group_lk[x]] for x in dff['name']])\n",
    "#     dx = dff['value'].max() / 200\n",
    "    \n",
    "#     for i, (value, name) in enumerate(zip(dff['value'], dff['name'])):\n",
    "#         ax.text(value-dx, i,     name,           size=14, weight=600, ha='right', va='bottom')\n",
    "#         ax.text(value-dx, i-.25, group_lk[name], size=10, color='#444444', ha='right', va='baseline')\n",
    "#         ax.text(value+dx, i,     f'{value:,.0f}',  size=14, ha='left',  va='center')\n",
    "#     ax.text(1, 0.4, current_day, transform=ax.transAxes, color='#777777', size=46, ha='right', weight=800)\n",
    "#     ax.text(0, 1.06, 'Population (thousands)', transform=ax.transAxes, size=12, color='#777777')\n",
    "#     ax.xaxis.set_major_formatter(ticker.StrMethodFormatter('{x:,.0f}'))\n",
    "#     ax.xaxis.set_ticks_position('top')\n",
    "#     ax.tick_params(axis='x', colors='#777777', labelsize=12)\n",
    "#     ax.set_yticks([])\n",
    "#     ax.margins(0, 0.01)\n",
    "#     ax.grid(which='major', axis='x', linestyle='-')\n",
    "#     ax.set_axisbelow(True)\n",
    "    \n",
    "#     ax.text(0, 1.15, 'Coronavirus',\n",
    "#             transform=ax.transAxes, size=24, weight=600, ha='left', va='top')\n",
    "# #     ax.text(1, 0, 'by @pratapvardhan; credit @jburnmurdoch', transform=ax.transAxes, color='#777777', ha='right',\n",
    "# #             bbox=dict(facecolor='white', alpha=0.8, edgecolor='white'))\n",
    "#     plt.box(False)"
   ]
  },
  {
   "cell_type": "code",
   "execution_count": 42,
   "id": "sexual-wages",
   "metadata": {
    "execution": {
     "iopub.execute_input": "2022-06-25T00:43:29.122190Z",
     "iopub.status.busy": "2022-06-25T00:43:29.121375Z",
     "iopub.status.idle": "2022-06-25T00:43:29.125607Z",
     "shell.execute_reply": "2022-06-25T00:43:29.126105Z"
    },
    "papermill": {
     "duration": 0.044458,
     "end_time": "2022-06-25T00:43:29.126251",
     "exception": false,
     "start_time": "2022-06-25T00:43:29.081793",
     "status": "completed"
    },
    "tags": []
   },
   "outputs": [],
   "source": [
    "# #hide_input\n",
    "# fig, ax = plt.subplots(figsize=(15, 8))\n",
    "# animator = animation.FuncAnimation(fig, draw_barchart, frames=range(g.day.values.min(), g.day.values.max()))\n",
    "# HTML(animator.to_jshtml())\n",
    "# # or use animator.to_html5_video() or animator.save() "
   ]
  },
  {
   "cell_type": "code",
   "execution_count": null,
   "id": "australian-container",
   "metadata": {
    "papermill": {
     "duration": 0.035826,
     "end_time": "2022-06-25T00:43:29.198747",
     "exception": false,
     "start_time": "2022-06-25T00:43:29.162921",
     "status": "completed"
    },
    "tags": []
   },
   "outputs": [],
   "source": []
  },
  {
   "cell_type": "code",
   "execution_count": null,
   "id": "mediterranean-pontiac",
   "metadata": {
    "papermill": {
     "duration": 0.037752,
     "end_time": "2022-06-25T00:43:29.272045",
     "exception": false,
     "start_time": "2022-06-25T00:43:29.234293",
     "status": "completed"
    },
    "tags": []
   },
   "outputs": [],
   "source": []
  },
  {
   "cell_type": "code",
   "execution_count": null,
   "id": "aging-legislature",
   "metadata": {
    "papermill": {
     "duration": 0.036032,
     "end_time": "2022-06-25T00:43:29.344590",
     "exception": false,
     "start_time": "2022-06-25T00:43:29.308558",
     "status": "completed"
    },
    "tags": []
   },
   "outputs": [],
   "source": []
  }
 ],
 "metadata": {
  "kernelspec": {
   "display_name": "Python 3",
   "language": "python",
   "name": "python3"
  },
  "language_info": {
   "codemirror_mode": {
    "name": "ipython",
    "version": 3
   },
   "file_extension": ".py",
   "mimetype": "text/x-python",
   "name": "python",
   "nbconvert_exporter": "python",
   "pygments_lexer": "ipython3",
   "version": "3.6.15"
  },
  "papermill": {
   "duration": 7.077813,
   "end_time": "2022-06-25T00:43:29.802855",
   "environment_variables": {},
   "exception": null,
   "input_path": "2020-03-21-covid19exp.ipynb",
   "output_path": "2020-03-21-covid19exp.ipynb",
   "parameters": {},
   "start_time": "2022-06-25T00:43:22.725042",
   "version": "2.0.0"
  }
 },
 "nbformat": 4,
 "nbformat_minor": 5
}