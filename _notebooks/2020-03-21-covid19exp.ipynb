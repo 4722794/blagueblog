{
 "cells": [
  {
   "cell_type": "markdown",
   "metadata": {
    "papermill": {
     "duration": 0.034888,
     "end_time": "2021-01-11T00:27:29.836826",
     "exception": false,
     "start_time": "2021-01-11T00:27:29.801938",
     "status": "completed"
    },
    "tags": []
   },
   "source": [
    "# COVID-19 Case Race\n",
    "> A race chart to see rising cases around the world\n",
    "\n",
    "- author: Hargun Oberoi\n",
    "- image: images/covid-overview.png\n",
    "- hide: false\n",
    "- badges: false"
   ]
  },
  {
   "cell_type": "code",
   "execution_count": 1,
   "metadata": {
    "execution": {
     "iopub.execute_input": "2021-01-11T00:27:29.914381Z",
     "iopub.status.busy": "2021-01-11T00:27:29.913669Z",
     "iopub.status.idle": "2021-01-11T00:27:30.264805Z",
     "shell.execute_reply": "2021-01-11T00:27:30.263242Z"
    },
    "papermill": {
     "duration": 0.39737,
     "end_time": "2021-01-11T00:27:30.265077",
     "exception": false,
     "start_time": "2021-01-11T00:27:29.867707",
     "status": "completed"
    },
    "tags": []
   },
   "outputs": [],
   "source": [
    "#hide\n",
    "import numpy as np\n",
    "import pandas as pd\n",
    "from jinja2 import Template\n",
    "from IPython.display import HTML"
   ]
  },
  {
   "cell_type": "code",
   "execution_count": 2,
   "metadata": {
    "execution": {
     "iopub.execute_input": "2021-01-11T00:27:30.333892Z",
     "iopub.status.busy": "2021-01-11T00:27:30.332745Z",
     "iopub.status.idle": "2021-01-11T00:27:30.335045Z",
     "shell.execute_reply": "2021-01-11T00:27:30.335756Z"
    },
    "papermill": {
     "duration": 0.0404,
     "end_time": "2021-01-11T00:27:30.335918",
     "exception": false,
     "start_time": "2021-01-11T00:27:30.295518",
     "status": "completed"
    },
    "tags": []
   },
   "outputs": [],
   "source": [
    "#hide\n",
    "\n",
    "# FETCH\n",
    "base_url = 'https://raw.githubusercontent.com/pratapvardhan/notebooks/master/covid19/'\n",
    "paths = {\n",
    "    'mapping': base_url + 'mapping_countries.csv',\n",
    "    'overview': base_url + 'overview.tpl'\n",
    "}"
   ]
  },
  {
   "cell_type": "code",
   "execution_count": 3,
   "metadata": {
    "execution": {
     "iopub.execute_input": "2021-01-11T00:27:30.409534Z",
     "iopub.status.busy": "2021-01-11T00:27:30.408906Z",
     "iopub.status.idle": "2021-01-11T00:27:30.411869Z",
     "shell.execute_reply": "2021-01-11T00:27:30.412330Z"
    },
    "papermill": {
     "duration": 0.046505,
     "end_time": "2021-01-11T00:27:30.412486",
     "exception": false,
     "start_time": "2021-01-11T00:27:30.365981",
     "status": "completed"
    },
    "tags": []
   },
   "outputs": [
    {
     "data": {
      "text/plain": [
       "'https://raw.githubusercontent.com/pratapvardhan/notebooks/master/covid19/mapping_countries.csv'"
      ]
     },
     "execution_count": 3,
     "metadata": {},
     "output_type": "execute_result"
    }
   ],
   "source": [
    "#hide\n",
    "paths['mapping']"
   ]
  },
  {
   "cell_type": "code",
   "execution_count": 4,
   "metadata": {
    "execution": {
     "iopub.execute_input": "2021-01-11T00:27:30.479101Z",
     "iopub.status.busy": "2021-01-11T00:27:30.478468Z",
     "iopub.status.idle": "2021-01-11T00:27:30.480774Z",
     "shell.execute_reply": "2021-01-11T00:27:30.480280Z"
    },
    "papermill": {
     "duration": 0.039033,
     "end_time": "2021-01-11T00:27:30.480910",
     "exception": false,
     "start_time": "2021-01-11T00:27:30.441877",
     "status": "completed"
    },
    "tags": []
   },
   "outputs": [],
   "source": [
    "#hide\n",
    "def get_mappings(url):\n",
    "    df = pd.read_csv(url)\n",
    "    return {\n",
    "        'df': df,\n",
    "        'replace.country': dict(df.dropna(subset=['Name']).set_index('Country')['Name']),\n",
    "        'map.continent': dict(df.set_index('Name')['Continent'])\n",
    "    }"
   ]
  },
  {
   "cell_type": "code",
   "execution_count": 5,
   "metadata": {
    "execution": {
     "iopub.execute_input": "2021-01-11T00:27:30.546629Z",
     "iopub.status.busy": "2021-01-11T00:27:30.545999Z",
     "iopub.status.idle": "2021-01-11T00:27:30.584467Z",
     "shell.execute_reply": "2021-01-11T00:27:30.583636Z"
    },
    "papermill": {
     "duration": 0.073787,
     "end_time": "2021-01-11T00:27:30.584682",
     "exception": false,
     "start_time": "2021-01-11T00:27:30.510895",
     "status": "completed"
    },
    "tags": []
   },
   "outputs": [],
   "source": [
    "#hide\n",
    "mapping = get_mappings(paths['mapping'])"
   ]
  },
  {
   "cell_type": "code",
   "execution_count": 6,
   "metadata": {
    "execution": {
     "iopub.execute_input": "2021-01-11T00:27:30.652700Z",
     "iopub.status.busy": "2021-01-11T00:27:30.652094Z",
     "iopub.status.idle": "2021-01-11T00:27:30.654336Z",
     "shell.execute_reply": "2021-01-11T00:27:30.653820Z"
    },
    "papermill": {
     "duration": 0.038748,
     "end_time": "2021-01-11T00:27:30.654467",
     "exception": false,
     "start_time": "2021-01-11T00:27:30.615719",
     "status": "completed"
    },
    "tags": []
   },
   "outputs": [],
   "source": [
    "#hide\n",
    "def get_template(path):\n",
    "    from urllib.parse import urlparse\n",
    "    if bool(urlparse(path).netloc):\n",
    "        from urllib.request import urlopen\n",
    "        return urlopen(path).read().decode('utf8')\n",
    "    return open(path).read()"
   ]
  },
  {
   "cell_type": "code",
   "execution_count": 7,
   "metadata": {
    "execution": {
     "iopub.execute_input": "2021-01-11T00:27:30.720217Z",
     "iopub.status.busy": "2021-01-11T00:27:30.719603Z",
     "iopub.status.idle": "2021-01-11T00:27:30.721461Z",
     "shell.execute_reply": "2021-01-11T00:27:30.721984Z"
    },
    "papermill": {
     "duration": 0.037508,
     "end_time": "2021-01-11T00:27:30.722180",
     "exception": false,
     "start_time": "2021-01-11T00:27:30.684672",
     "status": "completed"
    },
    "tags": []
   },
   "outputs": [],
   "source": [
    "#hide\n",
    "def get_frame(name):\n",
    "    url = (\n",
    "        'https://raw.githubusercontent.com/CSSEGISandData/COVID-19/master/csse_covid_19_data/'\n",
    "        f'csse_covid_19_time_series/time_series_covid19_{name}_global.csv')\n",
    "    df = pd.read_csv(url)\n",
    "    # rename countries\n",
    "    df['Country/Region'] = df['Country/Region'].replace(mapping['replace.country'])\n",
    "    return df"
   ]
  },
  {
   "cell_type": "code",
   "execution_count": 8,
   "metadata": {
    "execution": {
     "iopub.execute_input": "2021-01-11T00:27:30.793178Z",
     "iopub.status.busy": "2021-01-11T00:27:30.792536Z",
     "iopub.status.idle": "2021-01-11T00:27:30.794518Z",
     "shell.execute_reply": "2021-01-11T00:27:30.794991Z"
    },
    "papermill": {
     "duration": 0.042482,
     "end_time": "2021-01-11T00:27:30.795155",
     "exception": false,
     "start_time": "2021-01-11T00:27:30.752673",
     "status": "completed"
    },
    "tags": []
   },
   "outputs": [],
   "source": [
    "#hide\n",
    "def get_dates(df):\n",
    "    dt_cols = df.columns[~df.columns.isin(['Province/State', 'Country/Region', 'Lat', 'Long'])]\n",
    "    LAST_DATE_I = -1\n",
    "    # sometimes last column may be empty, then go backwards\n",
    "    for i in range(-1, -len(dt_cols), -1):\n",
    "        if not df[dt_cols[i]].fillna(0).eq(0).all():\n",
    "            LAST_DATE_I = i\n",
    "            break\n",
    "    return LAST_DATE_I, dt_cols"
   ]
  },
  {
   "cell_type": "code",
   "execution_count": 9,
   "metadata": {
    "execution": {
     "iopub.execute_input": "2021-01-11T00:27:30.862225Z",
     "iopub.status.busy": "2021-01-11T00:27:30.861596Z",
     "iopub.status.idle": "2021-01-11T00:27:31.109860Z",
     "shell.execute_reply": "2021-01-11T00:27:31.108623Z"
    },
    "papermill": {
     "duration": 0.284985,
     "end_time": "2021-01-11T00:27:31.110011",
     "exception": false,
     "start_time": "2021-01-11T00:27:30.825026",
     "status": "completed"
    },
    "tags": []
   },
   "outputs": [],
   "source": [
    "#hide\n",
    "COL_REGION = 'Country/Region'\n",
    "# Confirmed, Recovered, Deaths\n",
    "df = get_frame('confirmed')\n",
    "# dft_: timeseries, dfc_: today country agg\n",
    "dft_cases = df\n",
    "dft_deaths = get_frame('deaths')\n",
    "dft_recovered = get_frame('recovered')\n",
    "LAST_DATE_I, dt_cols = get_dates(df)"
   ]
  },
  {
   "cell_type": "code",
   "execution_count": 10,
   "metadata": {
    "execution": {
     "iopub.execute_input": "2021-01-11T00:27:31.174852Z",
     "iopub.status.busy": "2021-01-11T00:27:31.174010Z",
     "iopub.status.idle": "2021-01-11T00:27:31.175907Z",
     "shell.execute_reply": "2021-01-11T00:27:31.176573Z"
    },
    "papermill": {
     "duration": 0.037877,
     "end_time": "2021-01-11T00:27:31.176772",
     "exception": false,
     "start_time": "2021-01-11T00:27:31.138895",
     "status": "completed"
    },
    "tags": []
   },
   "outputs": [],
   "source": [
    "#hide\n",
    "LAST_DATE_I, dt_cols = get_dates(df)\n",
    "dt_today =dt_cols[LAST_DATE_I]\n",
    "# dt_5day = dt_cols[LAST_DATE_I - 5]\n",
    "dt_yday = dt_cols[LAST_DATE_I - 1]"
   ]
  },
  {
   "cell_type": "code",
   "execution_count": 11,
   "metadata": {
    "execution": {
     "iopub.execute_input": "2021-01-11T00:27:31.248031Z",
     "iopub.status.busy": "2021-01-11T00:27:31.247281Z",
     "iopub.status.idle": "2021-01-11T00:27:31.252633Z",
     "shell.execute_reply": "2021-01-11T00:27:31.253099Z"
    },
    "papermill": {
     "duration": 0.046288,
     "end_time": "2021-01-11T00:27:31.253309",
     "exception": false,
     "start_time": "2021-01-11T00:27:31.207021",
     "status": "completed"
    },
    "tags": []
   },
   "outputs": [],
   "source": [
    "#hide\n",
    "dfc_cases = dft_cases.groupby(COL_REGION)[dt_today].sum()\n",
    "dfc_deaths = dft_deaths.groupby(COL_REGION)[dt_today].sum()\n",
    "# dfp_cases = dft_cases.groupby(COL_REGION)[dt_5day].sum()\n",
    "# dfp_deaths = dft_deaths.groupby(COL_REGION)[dt_5day].sum()\n",
    "dfp_cases = dft_cases.groupby(COL_REGION)[dt_yday].sum()\n",
    "dfp_deaths = dft_deaths.groupby(COL_REGION)[dt_yday].sum()"
   ]
  },
  {
   "cell_type": "code",
   "execution_count": 12,
   "metadata": {
    "execution": {
     "iopub.execute_input": "2021-01-11T00:27:31.323038Z",
     "iopub.status.busy": "2021-01-11T00:27:31.320651Z",
     "iopub.status.idle": "2021-01-11T00:27:31.325412Z",
     "shell.execute_reply": "2021-01-11T00:27:31.326193Z"
    },
    "papermill": {
     "duration": 0.042215,
     "end_time": "2021-01-11T00:27:31.326438",
     "exception": false,
     "start_time": "2021-01-11T00:27:31.284223",
     "status": "completed"
    },
    "tags": []
   },
   "outputs": [],
   "source": [
    "#hide\n",
    "df_table = (pd.DataFrame(dict(Cases = dfc_cases, Deaths = dfc_deaths, PCases = dfp_cases, PDeaths = dfp_deaths))\n",
    "            .sort_values(by = ['Cases','Deaths'], ascending = [False, False])\n",
    "            .reset_index())"
   ]
  },
  {
   "cell_type": "code",
   "execution_count": 13,
   "metadata": {
    "execution": {
     "iopub.execute_input": "2021-01-11T00:27:31.409745Z",
     "iopub.status.busy": "2021-01-11T00:27:31.405253Z",
     "iopub.status.idle": "2021-01-11T00:27:31.413154Z",
     "shell.execute_reply": "2021-01-11T00:27:31.412667Z"
    },
    "papermill": {
     "duration": 0.056837,
     "end_time": "2021-01-11T00:27:31.413281",
     "exception": false,
     "start_time": "2021-01-11T00:27:31.356444",
     "status": "completed"
    },
    "tags": []
   },
   "outputs": [
    {
     "data": {
      "text/html": [
       "<div>\n",
       "<style scoped>\n",
       "    .dataframe tbody tr th:only-of-type {\n",
       "        vertical-align: middle;\n",
       "    }\n",
       "\n",
       "    .dataframe tbody tr th {\n",
       "        vertical-align: top;\n",
       "    }\n",
       "\n",
       "    .dataframe thead th {\n",
       "        text-align: right;\n",
       "    }\n",
       "</style>\n",
       "<table border=\"1\" class=\"dataframe\">\n",
       "  <thead>\n",
       "    <tr style=\"text-align: right;\">\n",
       "      <th></th>\n",
       "      <th>Country/Region</th>\n",
       "      <th>Cases</th>\n",
       "      <th>Deaths</th>\n",
       "      <th>PCases</th>\n",
       "      <th>PDeaths</th>\n",
       "      <th>Cases (+)</th>\n",
       "      <th>Deaths (+)</th>\n",
       "      <th>Fatality Rate</th>\n",
       "      <th>Continent</th>\n",
       "    </tr>\n",
       "  </thead>\n",
       "  <tbody>\n",
       "    <tr>\n",
       "      <th>0</th>\n",
       "      <td>US</td>\n",
       "      <td>22192842</td>\n",
       "      <td>372508</td>\n",
       "      <td>21928012</td>\n",
       "      <td>369256</td>\n",
       "      <td>264830</td>\n",
       "      <td>3252</td>\n",
       "      <td>1.68</td>\n",
       "      <td>North America</td>\n",
       "    </tr>\n",
       "    <tr>\n",
       "      <th>1</th>\n",
       "      <td>India</td>\n",
       "      <td>10450284</td>\n",
       "      <td>150999</td>\n",
       "      <td>10413417</td>\n",
       "      <td>150570</td>\n",
       "      <td>36867</td>\n",
       "      <td>429</td>\n",
       "      <td>1.44</td>\n",
       "      <td>Asia</td>\n",
       "    </tr>\n",
       "    <tr>\n",
       "      <th>2</th>\n",
       "      <td>Brazil</td>\n",
       "      <td>8075998</td>\n",
       "      <td>202631</td>\n",
       "      <td>8013708</td>\n",
       "      <td>201460</td>\n",
       "      <td>62290</td>\n",
       "      <td>1171</td>\n",
       "      <td>2.51</td>\n",
       "      <td>South America</td>\n",
       "    </tr>\n",
       "    <tr>\n",
       "      <th>3</th>\n",
       "      <td>Russia</td>\n",
       "      <td>3344175</td>\n",
       "      <td>60523</td>\n",
       "      <td>3321163</td>\n",
       "      <td>60067</td>\n",
       "      <td>23012</td>\n",
       "      <td>456</td>\n",
       "      <td>1.81</td>\n",
       "      <td>Europe</td>\n",
       "    </tr>\n",
       "    <tr>\n",
       "      <th>4</th>\n",
       "      <td>United Kingdom</td>\n",
       "      <td>3026342</td>\n",
       "      <td>81000</td>\n",
       "      <td>2966244</td>\n",
       "      <td>79965</td>\n",
       "      <td>60098</td>\n",
       "      <td>1035</td>\n",
       "      <td>2.68</td>\n",
       "      <td>Europe</td>\n",
       "    </tr>\n",
       "  </tbody>\n",
       "</table>\n",
       "</div>"
      ],
      "text/plain": [
       "   Country/Region     Cases  Deaths    PCases  PDeaths  Cases (+)  Deaths (+)  \\\n",
       "0              US  22192842  372508  21928012   369256     264830        3252   \n",
       "1           India  10450284  150999  10413417   150570      36867         429   \n",
       "2          Brazil   8075998  202631   8013708   201460      62290        1171   \n",
       "3          Russia   3344175   60523   3321163    60067      23012         456   \n",
       "4  United Kingdom   3026342   81000   2966244    79965      60098        1035   \n",
       "\n",
       "   Fatality Rate      Continent  \n",
       "0           1.68  North America  \n",
       "1           1.44           Asia  \n",
       "2           2.51  South America  \n",
       "3           1.81         Europe  \n",
       "4           2.68         Europe  "
      ]
     },
     "execution_count": 13,
     "metadata": {},
     "output_type": "execute_result"
    }
   ],
   "source": [
    "#hide\n",
    "for c in 'Cases, Deaths'.split(', '):\n",
    "    df_table[f'{c} (+)'] = (df_table[c] - df_table[f'P{c}']).clip(0)\n",
    "    #Clip ça veut dire, les chiffres negatif sont interdit\n",
    "df_table['Fatality Rate'] = (100* df_table['Deaths']/ df_table['Cases']).round(2)\n",
    "df_table['Continent'] = df_table['Country/Region'].map(mapping['map.continent'])\n",
    "df_table.head(5)"
   ]
  },
  {
   "cell_type": "code",
   "execution_count": 14,
   "metadata": {
    "execution": {
     "iopub.execute_input": "2021-01-11T00:27:31.481283Z",
     "iopub.status.busy": "2021-01-11T00:27:31.480704Z",
     "iopub.status.idle": "2021-01-11T00:27:31.482702Z",
     "shell.execute_reply": "2021-01-11T00:27:31.483270Z"
    },
    "papermill": {
     "duration": 0.040534,
     "end_time": "2021-01-11T00:27:31.483429",
     "exception": false,
     "start_time": "2021-01-11T00:27:31.442895",
     "status": "completed"
    },
    "tags": []
   },
   "outputs": [],
   "source": [
    "#hide\n",
    "#delete problematic countries from table\n",
    "df_table = df_table[~df_table['Country/Region'].isin(['Cape Verde', 'Cruise Ship', 'Kosovo'])]"
   ]
  },
  {
   "cell_type": "code",
   "execution_count": 15,
   "metadata": {
    "execution": {
     "iopub.execute_input": "2021-01-11T00:27:31.567129Z",
     "iopub.status.busy": "2021-01-11T00:27:31.550660Z",
     "iopub.status.idle": "2021-01-11T00:27:31.570569Z",
     "shell.execute_reply": "2021-01-11T00:27:31.570080Z"
    },
    "papermill": {
     "duration": 0.058297,
     "end_time": "2021-01-11T00:27:31.570709",
     "exception": false,
     "start_time": "2021-01-11T00:27:31.512412",
     "status": "completed"
    },
    "tags": []
   },
   "outputs": [
    {
     "data": {
      "text/html": [
       "<div>\n",
       "<style scoped>\n",
       "    .dataframe tbody tr th:only-of-type {\n",
       "        vertical-align: middle;\n",
       "    }\n",
       "\n",
       "    .dataframe tbody tr th {\n",
       "        vertical-align: top;\n",
       "    }\n",
       "\n",
       "    .dataframe thead th {\n",
       "        text-align: right;\n",
       "    }\n",
       "</style>\n",
       "<table border=\"1\" class=\"dataframe\">\n",
       "  <thead>\n",
       "    <tr style=\"text-align: right;\">\n",
       "      <th></th>\n",
       "      <th>Country/Region</th>\n",
       "      <th>Cases</th>\n",
       "      <th>Deaths</th>\n",
       "      <th>PCases</th>\n",
       "      <th>PDeaths</th>\n",
       "      <th>Cases (+)</th>\n",
       "      <th>Deaths (+)</th>\n",
       "      <th>Fatality Rate</th>\n",
       "      <th>Continent</th>\n",
       "    </tr>\n",
       "  </thead>\n",
       "  <tbody>\n",
       "    <tr>\n",
       "      <th>0</th>\n",
       "      <td>US</td>\n",
       "      <td>22192842</td>\n",
       "      <td>372508</td>\n",
       "      <td>21928012</td>\n",
       "      <td>369256</td>\n",
       "      <td>264830</td>\n",
       "      <td>3252</td>\n",
       "      <td>1.7</td>\n",
       "      <td>North America</td>\n",
       "    </tr>\n",
       "    <tr>\n",
       "      <th>1</th>\n",
       "      <td>India</td>\n",
       "      <td>10450284</td>\n",
       "      <td>150999</td>\n",
       "      <td>10413417</td>\n",
       "      <td>150570</td>\n",
       "      <td>36867</td>\n",
       "      <td>429</td>\n",
       "      <td>1.4</td>\n",
       "      <td>Asia</td>\n",
       "    </tr>\n",
       "    <tr>\n",
       "      <th>2</th>\n",
       "      <td>Brazil</td>\n",
       "      <td>8075998</td>\n",
       "      <td>202631</td>\n",
       "      <td>8013708</td>\n",
       "      <td>201460</td>\n",
       "      <td>62290</td>\n",
       "      <td>1171</td>\n",
       "      <td>2.5</td>\n",
       "      <td>South America</td>\n",
       "    </tr>\n",
       "    <tr>\n",
       "      <th>3</th>\n",
       "      <td>Russia</td>\n",
       "      <td>3344175</td>\n",
       "      <td>60523</td>\n",
       "      <td>3321163</td>\n",
       "      <td>60067</td>\n",
       "      <td>23012</td>\n",
       "      <td>456</td>\n",
       "      <td>1.8</td>\n",
       "      <td>Europe</td>\n",
       "    </tr>\n",
       "    <tr>\n",
       "      <th>4</th>\n",
       "      <td>United Kingdom</td>\n",
       "      <td>3026342</td>\n",
       "      <td>81000</td>\n",
       "      <td>2966244</td>\n",
       "      <td>79965</td>\n",
       "      <td>60098</td>\n",
       "      <td>1035</td>\n",
       "      <td>2.7</td>\n",
       "      <td>Europe</td>\n",
       "    </tr>\n",
       "  </tbody>\n",
       "</table>\n",
       "</div>"
      ],
      "text/plain": [
       "   Country/Region     Cases  Deaths    PCases  PDeaths  Cases (+)  Deaths (+)  \\\n",
       "0              US  22192842  372508  21928012   369256     264830        3252   \n",
       "1           India  10450284  150999  10413417   150570      36867         429   \n",
       "2          Brazil   8075998  202631   8013708   201460      62290        1171   \n",
       "3          Russia   3344175   60523   3321163    60067      23012         456   \n",
       "4  United Kingdom   3026342   81000   2966244    79965      60098        1035   \n",
       "\n",
       "   Fatality Rate      Continent  \n",
       "0            1.7  North America  \n",
       "1            1.4           Asia  \n",
       "2            2.5  South America  \n",
       "3            1.8         Europe  \n",
       "4            2.7         Europe  "
      ]
     },
     "execution_count": 15,
     "metadata": {},
     "output_type": "execute_result"
    }
   ],
   "source": [
    "#hide\n",
    "df_table = (pd.DataFrame(dict(Cases=dfc_cases, Deaths=dfc_deaths, PCases=dfp_cases, PDeaths=dfp_deaths))\n",
    "             .sort_values(by=['Cases', 'Deaths'], ascending=[False, False])\n",
    "             .reset_index())\n",
    "df_table.rename(columns={'index': 'Country/Region'}, inplace=True)\n",
    "for c in 'Cases, Deaths'.split(', '):\n",
    "    df_table[f'{c} (+)'] = (df_table[c] - df_table[f'P{c}']).clip(0)  # DATA BUG\n",
    "df_table['Fatality Rate'] = (100 * df_table['Deaths'] / df_table['Cases']).round(1)\n",
    "df_table['Continent'] = df_table['Country/Region'].map(mapping['map.continent'])\n",
    "df_table.head(5)"
   ]
  },
  {
   "cell_type": "code",
   "execution_count": 16,
   "metadata": {
    "execution": {
     "iopub.execute_input": "2021-01-11T00:27:31.638417Z",
     "iopub.status.busy": "2021-01-11T00:27:31.637842Z",
     "iopub.status.idle": "2021-01-11T00:27:31.640427Z",
     "shell.execute_reply": "2021-01-11T00:27:31.640961Z"
    },
    "papermill": {
     "duration": 0.039447,
     "end_time": "2021-01-11T00:27:31.641113",
     "exception": false,
     "start_time": "2021-01-11T00:27:31.601666",
     "status": "completed"
    },
    "tags": []
   },
   "outputs": [],
   "source": [
    "#hide\n",
    "#delete problematic countries from table\n",
    "df_table = df_table[~df_table['Country/Region'].isin(['Cape Verde', 'Cruise Ship', 'Kosovo'])]"
   ]
  },
  {
   "cell_type": "code",
   "execution_count": 17,
   "metadata": {
    "execution": {
     "iopub.execute_input": "2021-01-11T00:27:31.714326Z",
     "iopub.status.busy": "2021-01-11T00:27:31.713647Z",
     "iopub.status.idle": "2021-01-11T00:27:31.723313Z",
     "shell.execute_reply": "2021-01-11T00:27:31.723796Z"
    },
    "papermill": {
     "duration": 0.05299,
     "end_time": "2021-01-11T00:27:31.723964",
     "exception": false,
     "start_time": "2021-01-11T00:27:31.670974",
     "status": "completed"
    },
    "tags": []
   },
   "outputs": [],
   "source": [
    "#hide\n",
    "metrics = [df_table.columns[index] for index in [1,2,5,6]]\n",
    "# s_china = df_table[df_table['Country/Region'].eq('China')][metrics].sum().add_prefix('China ')\n",
    "s_us = df_table[df_table['Country/Region'].eq('US')][metrics].sum().add_prefix('US ')\n",
    "s_eu = df_table[df_table['Continent'].eq('Europe')][metrics].sum().add_prefix('EU ')\n",
    "s_ind = df_table[df_table['Country/Region'].eq('India')][metrics].sum().add_prefix('India ')\n",
    "summary = {'updated': pd.to_datetime(dt_today), 'since': pd.to_datetime(dt_yday)}\n",
    "summary = {'updated': pd.to_datetime(dt_today), 'since': pd.to_datetime(dt_yday)}\n",
    "summary = {**summary, **df_table[metrics].sum(), **s_ind, **s_us, **s_eu}"
   ]
  },
  {
   "cell_type": "code",
   "execution_count": 18,
   "metadata": {
    "execution": {
     "iopub.execute_input": "2021-01-11T00:27:31.791932Z",
     "iopub.status.busy": "2021-01-11T00:27:31.791314Z",
     "iopub.status.idle": "2021-01-11T00:27:31.803741Z",
     "shell.execute_reply": "2021-01-11T00:27:31.803253Z"
    },
    "papermill": {
     "duration": 0.049555,
     "end_time": "2021-01-11T00:27:31.803866",
     "exception": false,
     "start_time": "2021-01-11T00:27:31.754311",
     "status": "completed"
    },
    "tags": []
   },
   "outputs": [],
   "source": [
    "#hide\n",
    "dft_ct_new_cases = dft_cases.groupby(COL_REGION)[dt_cols].sum().diff(axis=1).fillna(0).astype(int)"
   ]
  },
  {
   "cell_type": "code",
   "execution_count": 19,
   "metadata": {
    "execution": {
     "iopub.execute_input": "2021-01-11T00:27:31.868182Z",
     "iopub.status.busy": "2021-01-11T00:27:31.867574Z",
     "iopub.status.idle": "2021-01-11T00:27:31.874486Z",
     "shell.execute_reply": "2021-01-11T00:27:31.874934Z"
    },
    "papermill": {
     "duration": 0.041013,
     "end_time": "2021-01-11T00:27:31.875080",
     "exception": false,
     "start_time": "2021-01-11T00:27:31.834067",
     "status": "completed"
    },
    "tags": []
   },
   "outputs": [],
   "source": [
    "#hide\n",
    "everydaycases = dft_ct_new_cases.cumsum(axis=1)"
   ]
  },
  {
   "cell_type": "code",
   "execution_count": 20,
   "metadata": {
    "execution": {
     "iopub.execute_input": "2021-01-11T00:27:31.939322Z",
     "iopub.status.busy": "2021-01-11T00:27:31.938714Z",
     "iopub.status.idle": "2021-01-11T00:27:34.511149Z",
     "shell.execute_reply": "2021-01-11T00:27:34.510597Z"
    },
    "papermill": {
     "duration": 2.606902,
     "end_time": "2021-01-11T00:27:34.511299",
     "exception": false,
     "start_time": "2021-01-11T00:27:31.904397",
     "status": "completed"
    },
    "tags": []
   },
   "outputs": [],
   "source": [
    "#hide\n",
    "import pandas as pd\n",
    "import matplotlib.pyplot as plt\n",
    "import matplotlib.ticker as ticker\n",
    "import matplotlib.animation as animation\n",
    "from IPython.display import HTML"
   ]
  },
  {
   "cell_type": "code",
   "execution_count": 21,
   "metadata": {
    "execution": {
     "iopub.execute_input": "2021-01-11T00:27:34.581095Z",
     "iopub.status.busy": "2021-01-11T00:27:34.580486Z",
     "iopub.status.idle": "2021-01-11T00:27:34.586462Z",
     "shell.execute_reply": "2021-01-11T00:27:34.585963Z"
    },
    "papermill": {
     "duration": 0.044199,
     "end_time": "2021-01-11T00:27:34.586600",
     "exception": false,
     "start_time": "2021-01-11T00:27:34.542401",
     "status": "completed"
    },
    "tags": []
   },
   "outputs": [],
   "source": [
    "#hide\n",
    "t = everydaycases.stack()"
   ]
  },
  {
   "cell_type": "code",
   "execution_count": 22,
   "metadata": {
    "execution": {
     "iopub.execute_input": "2021-01-11T00:27:34.656107Z",
     "iopub.status.busy": "2021-01-11T00:27:34.655488Z",
     "iopub.status.idle": "2021-01-11T00:27:34.668391Z",
     "shell.execute_reply": "2021-01-11T00:27:34.667522Z"
    },
    "papermill": {
     "duration": 0.051103,
     "end_time": "2021-01-11T00:27:34.668774",
     "exception": false,
     "start_time": "2021-01-11T00:27:34.617671",
     "status": "completed"
    },
    "tags": []
   },
   "outputs": [],
   "source": [
    "#hide\n",
    "g = t.reset_index(['Country/Region'])"
   ]
  },
  {
   "cell_type": "code",
   "execution_count": 23,
   "metadata": {
    "execution": {
     "iopub.execute_input": "2021-01-11T00:27:34.750352Z",
     "iopub.status.busy": "2021-01-11T00:27:34.748314Z",
     "iopub.status.idle": "2021-01-11T00:27:34.759926Z",
     "shell.execute_reply": "2021-01-11T00:27:34.758476Z"
    },
    "papermill": {
     "duration": 0.056776,
     "end_time": "2021-01-11T00:27:34.760321",
     "exception": false,
     "start_time": "2021-01-11T00:27:34.703545",
     "status": "completed"
    },
    "tags": []
   },
   "outputs": [],
   "source": [
    "#hide\n",
    "g.index.name = 'date'"
   ]
  },
  {
   "cell_type": "code",
   "execution_count": 24,
   "metadata": {
    "execution": {
     "iopub.execute_input": "2021-01-11T00:27:34.830791Z",
     "iopub.status.busy": "2021-01-11T00:27:34.830179Z",
     "iopub.status.idle": "2021-01-11T00:27:34.833371Z",
     "shell.execute_reply": "2021-01-11T00:27:34.834600Z"
    },
    "papermill": {
     "duration": 0.043897,
     "end_time": "2021-01-11T00:27:34.834761",
     "exception": false,
     "start_time": "2021-01-11T00:27:34.790864",
     "status": "completed"
    },
    "tags": []
   },
   "outputs": [],
   "source": [
    "# #hide\n",
    "# g = g.reset_index(['date'])"
   ]
  },
  {
   "cell_type": "code",
   "execution_count": 25,
   "metadata": {
    "execution": {
     "iopub.execute_input": "2021-01-11T00:27:34.906065Z",
     "iopub.status.busy": "2021-01-11T00:27:34.905370Z",
     "iopub.status.idle": "2021-01-11T00:27:34.906965Z",
     "shell.execute_reply": "2021-01-11T00:27:34.907475Z"
    },
    "papermill": {
     "duration": 0.037553,
     "end_time": "2021-01-11T00:27:34.907634",
     "exception": false,
     "start_time": "2021-01-11T00:27:34.870081",
     "status": "completed"
    },
    "tags": []
   },
   "outputs": [],
   "source": [
    "#hide\n",
    "# g.head()"
   ]
  },
  {
   "cell_type": "code",
   "execution_count": 26,
   "metadata": {
    "execution": {
     "iopub.execute_input": "2021-01-11T00:27:34.976885Z",
     "iopub.status.busy": "2021-01-11T00:27:34.976258Z",
     "iopub.status.idle": "2021-01-11T00:27:34.978641Z",
     "shell.execute_reply": "2021-01-11T00:27:34.978121Z"
    },
    "papermill": {
     "duration": 0.039045,
     "end_time": "2021-01-11T00:27:34.978779",
     "exception": false,
     "start_time": "2021-01-11T00:27:34.939734",
     "status": "completed"
    },
    "tags": []
   },
   "outputs": [],
   "source": [
    "#hide\n",
    "# g.columns = ['date','country','cases']"
   ]
  },
  {
   "cell_type": "code",
   "execution_count": 27,
   "metadata": {
    "execution": {
     "iopub.execute_input": "2021-01-11T00:27:35.048433Z",
     "iopub.status.busy": "2021-01-11T00:27:35.047352Z",
     "iopub.status.idle": "2021-01-11T00:27:35.052082Z",
     "shell.execute_reply": "2021-01-11T00:27:35.051561Z"
    },
    "papermill": {
     "duration": 0.042574,
     "end_time": "2021-01-11T00:27:35.052382",
     "exception": false,
     "start_time": "2021-01-11T00:27:35.009808",
     "status": "completed"
    },
    "tags": []
   },
   "outputs": [],
   "source": [
    "#hide\n",
    "# g['continent'] = g.country"
   ]
  },
  {
   "cell_type": "code",
   "execution_count": 28,
   "metadata": {
    "execution": {
     "iopub.execute_input": "2021-01-11T00:27:35.117728Z",
     "iopub.status.busy": "2021-01-11T00:27:35.117079Z",
     "iopub.status.idle": "2021-01-11T00:27:35.119665Z",
     "shell.execute_reply": "2021-01-11T00:27:35.119163Z"
    },
    "papermill": {
     "duration": 0.037486,
     "end_time": "2021-01-11T00:27:35.119791",
     "exception": false,
     "start_time": "2021-01-11T00:27:35.082305",
     "status": "completed"
    },
    "tags": []
   },
   "outputs": [],
   "source": [
    "#hide\n",
    "# cols = list(g.columns.values)"
   ]
  },
  {
   "cell_type": "code",
   "execution_count": 29,
   "metadata": {
    "execution": {
     "iopub.execute_input": "2021-01-11T00:27:35.186547Z",
     "iopub.status.busy": "2021-01-11T00:27:35.185908Z",
     "iopub.status.idle": "2021-01-11T00:27:35.188332Z",
     "shell.execute_reply": "2021-01-11T00:27:35.188868Z"
    },
    "papermill": {
     "duration": 0.039336,
     "end_time": "2021-01-11T00:27:35.189016",
     "exception": false,
     "start_time": "2021-01-11T00:27:35.149680",
     "status": "completed"
    },
    "tags": []
   },
   "outputs": [],
   "source": [
    "#hide\n",
    "# cols.insert(0, cols.pop())"
   ]
  },
  {
   "cell_type": "code",
   "execution_count": 30,
   "metadata": {
    "execution": {
     "iopub.execute_input": "2021-01-11T00:27:35.255716Z",
     "iopub.status.busy": "2021-01-11T00:27:35.255083Z",
     "iopub.status.idle": "2021-01-11T00:27:35.257605Z",
     "shell.execute_reply": "2021-01-11T00:27:35.258192Z"
    },
    "papermill": {
     "duration": 0.039635,
     "end_time": "2021-01-11T00:27:35.258354",
     "exception": false,
     "start_time": "2021-01-11T00:27:35.218719",
     "status": "completed"
    },
    "tags": []
   },
   "outputs": [],
   "source": [
    "#hide\n",
    "# g = g[cols]"
   ]
  },
  {
   "cell_type": "code",
   "execution_count": 31,
   "metadata": {
    "execution": {
     "iopub.execute_input": "2021-01-11T00:27:35.325708Z",
     "iopub.status.busy": "2021-01-11T00:27:35.324476Z",
     "iopub.status.idle": "2021-01-11T00:27:35.326900Z",
     "shell.execute_reply": "2021-01-11T00:27:35.327800Z"
    },
    "papermill": {
     "duration": 0.039683,
     "end_time": "2021-01-11T00:27:35.328064",
     "exception": false,
     "start_time": "2021-01-11T00:27:35.288381",
     "status": "completed"
    },
    "tags": []
   },
   "outputs": [],
   "source": [
    "#hide\n",
    "# g['continent'] = g['continent'].map(mapping['map.continent'])"
   ]
  },
  {
   "cell_type": "code",
   "execution_count": 32,
   "metadata": {
    "execution": {
     "iopub.execute_input": "2021-01-11T00:27:35.397847Z",
     "iopub.status.busy": "2021-01-11T00:27:35.397182Z",
     "iopub.status.idle": "2021-01-11T00:27:35.399936Z",
     "shell.execute_reply": "2021-01-11T00:27:35.400512Z"
    },
    "papermill": {
     "duration": 0.039573,
     "end_time": "2021-01-11T00:27:35.400670",
     "exception": false,
     "start_time": "2021-01-11T00:27:35.361097",
     "status": "completed"
    },
    "tags": []
   },
   "outputs": [],
   "source": [
    "#hide\n",
    "# g.head()"
   ]
  },
  {
   "cell_type": "code",
   "execution_count": 33,
   "metadata": {
    "execution": {
     "iopub.execute_input": "2021-01-11T00:27:35.466591Z",
     "iopub.status.busy": "2021-01-11T00:27:35.466026Z",
     "iopub.status.idle": "2021-01-11T00:27:35.469005Z",
     "shell.execute_reply": "2021-01-11T00:27:35.469489Z"
    },
    "papermill": {
     "duration": 0.037941,
     "end_time": "2021-01-11T00:27:35.469640",
     "exception": false,
     "start_time": "2021-01-11T00:27:35.431699",
     "status": "completed"
    },
    "tags": []
   },
   "outputs": [],
   "source": [
    "# hide\n",
    "# g['date'] = g['date'].astype('datetime64[ns]')"
   ]
  },
  {
   "cell_type": "code",
   "execution_count": 34,
   "metadata": {
    "execution": {
     "iopub.execute_input": "2021-01-11T00:27:35.535480Z",
     "iopub.status.busy": "2021-01-11T00:27:35.534860Z",
     "iopub.status.idle": "2021-01-11T00:27:35.536717Z",
     "shell.execute_reply": "2021-01-11T00:27:35.537173Z"
    },
    "papermill": {
     "duration": 0.036818,
     "end_time": "2021-01-11T00:27:35.537345",
     "exception": false,
     "start_time": "2021-01-11T00:27:35.500527",
     "status": "completed"
    },
    "tags": []
   },
   "outputs": [],
   "source": [
    "#hide\n",
    "# g['date'] = g.date.dt.dayofyear"
   ]
  },
  {
   "cell_type": "code",
   "execution_count": 35,
   "metadata": {
    "execution": {
     "iopub.execute_input": "2021-01-11T00:27:35.603892Z",
     "iopub.status.busy": "2021-01-11T00:27:35.602803Z",
     "iopub.status.idle": "2021-01-11T00:27:35.604982Z",
     "shell.execute_reply": "2021-01-11T00:27:35.605483Z"
    },
    "papermill": {
     "duration": 0.037956,
     "end_time": "2021-01-11T00:27:35.605648",
     "exception": false,
     "start_time": "2021-01-11T00:27:35.567692",
     "status": "completed"
    },
    "tags": []
   },
   "outputs": [],
   "source": [
    "#hide\n",
    "# g = g.rename(columns= {'continent':'group','country':'name','cases':'value'})"
   ]
  },
  {
   "cell_type": "code",
   "execution_count": 36,
   "metadata": {
    "execution": {
     "iopub.execute_input": "2021-01-11T00:27:35.673759Z",
     "iopub.status.busy": "2021-01-11T00:27:35.673106Z",
     "iopub.status.idle": "2021-01-11T00:27:35.675698Z",
     "shell.execute_reply": "2021-01-11T00:27:35.676276Z"
    },
    "papermill": {
     "duration": 0.039402,
     "end_time": "2021-01-11T00:27:35.676432",
     "exception": false,
     "start_time": "2021-01-11T00:27:35.637030",
     "status": "completed"
    },
    "tags": []
   },
   "outputs": [],
   "source": [
    "#hide\n",
    "# cols = ['name','group','day','value']"
   ]
  },
  {
   "cell_type": "code",
   "execution_count": 37,
   "metadata": {
    "execution": {
     "iopub.execute_input": "2021-01-11T00:27:35.741501Z",
     "iopub.status.busy": "2021-01-11T00:27:35.740857Z",
     "iopub.status.idle": "2021-01-11T00:27:35.743327Z",
     "shell.execute_reply": "2021-01-11T00:27:35.743902Z"
    },
    "papermill": {
     "duration": 0.038017,
     "end_time": "2021-01-11T00:27:35.744058",
     "exception": false,
     "start_time": "2021-01-11T00:27:35.706041",
     "status": "completed"
    },
    "tags": []
   },
   "outputs": [],
   "source": [
    "#hide\n",
    "# g.rename(columns= {'date':'day'},inplace = True)"
   ]
  },
  {
   "cell_type": "code",
   "execution_count": 38,
   "metadata": {
    "execution": {
     "iopub.execute_input": "2021-01-11T00:27:35.808561Z",
     "iopub.status.busy": "2021-01-11T00:27:35.807942Z",
     "iopub.status.idle": "2021-01-11T00:27:35.810358Z",
     "shell.execute_reply": "2021-01-11T00:27:35.809837Z"
    },
    "papermill": {
     "duration": 0.036285,
     "end_time": "2021-01-11T00:27:35.810490",
     "exception": false,
     "start_time": "2021-01-11T00:27:35.774205",
     "status": "completed"
    },
    "tags": []
   },
   "outputs": [],
   "source": [
    "#hide\n",
    "# g = g[cols]"
   ]
  },
  {
   "cell_type": "code",
   "execution_count": 39,
   "metadata": {
    "execution": {
     "iopub.execute_input": "2021-01-11T00:27:35.876257Z",
     "iopub.status.busy": "2021-01-11T00:27:35.875692Z",
     "iopub.status.idle": "2021-01-11T00:27:35.878252Z",
     "shell.execute_reply": "2021-01-11T00:27:35.878827Z"
    },
    "papermill": {
     "duration": 0.038188,
     "end_time": "2021-01-11T00:27:35.878978",
     "exception": false,
     "start_time": "2021-01-11T00:27:35.840790",
     "status": "completed"
    },
    "tags": []
   },
   "outputs": [],
   "source": [
    "# #hide\n",
    "# g = g[g.group.notna()]"
   ]
  },
  {
   "cell_type": "code",
   "execution_count": 40,
   "metadata": {
    "execution": {
     "iopub.execute_input": "2021-01-11T00:27:35.946147Z",
     "iopub.status.busy": "2021-01-11T00:27:35.945001Z",
     "iopub.status.idle": "2021-01-11T00:27:35.947263Z",
     "shell.execute_reply": "2021-01-11T00:27:35.948088Z"
    },
    "papermill": {
     "duration": 0.039488,
     "end_time": "2021-01-11T00:27:35.948337",
     "exception": false,
     "start_time": "2021-01-11T00:27:35.908849",
     "status": "completed"
    },
    "tags": []
   },
   "outputs": [],
   "source": [
    "# #hide\n",
    "# colors = dict(zip(\n",
    "#     [\"Oceania\", \"Europe\", \"Asia\", \"South America\", \"Middle East\", \"North America\", \"Africa\"],\n",
    "#     [\"#adb0ff\", \"#ffb3ff\", \"#90d595\", \"#e48381\", \"#aafbff\", \"#f7bb5f\", \"#eafb50\"]\n",
    "# ))\n",
    "# group_lk = g.set_index('name')['group'].to_dict()"
   ]
  },
  {
   "cell_type": "code",
   "execution_count": null,
   "metadata": {
    "papermill": {
     "duration": 0.030629,
     "end_time": "2021-01-11T00:27:36.009748",
     "exception": false,
     "start_time": "2021-01-11T00:27:35.979119",
     "status": "completed"
    },
    "tags": []
   },
   "outputs": [],
   "source": []
  },
  {
   "cell_type": "code",
   "execution_count": 41,
   "metadata": {
    "execution": {
     "iopub.execute_input": "2021-01-11T00:27:36.075700Z",
     "iopub.status.busy": "2021-01-11T00:27:36.075070Z",
     "iopub.status.idle": "2021-01-11T00:27:36.077662Z",
     "shell.execute_reply": "2021-01-11T00:27:36.078247Z"
    },
    "papermill": {
     "duration": 0.038562,
     "end_time": "2021-01-11T00:27:36.078401",
     "exception": false,
     "start_time": "2021-01-11T00:27:36.039839",
     "status": "completed"
    },
    "tags": []
   },
   "outputs": [],
   "source": [
    "# #hide\n",
    "# fig, ax = plt.subplots(figsize=(15, 8))\n",
    "\n",
    "# def draw_barchart(current_day):\n",
    "#     dff = g[g['day'].eq(current_day)].sort_values(by='value', ascending=True).tail(10)\n",
    "#     ax.clear()\n",
    "#     ax.barh(dff['name'], dff['value'], color=[colors[group_lk[x]] for x in dff['name']])\n",
    "#     dx = dff['value'].max() / 200\n",
    "    \n",
    "#     for i, (value, name) in enumerate(zip(dff['value'], dff['name'])):\n",
    "#         ax.text(value-dx, i,     name,           size=14, weight=600, ha='right', va='bottom')\n",
    "#         ax.text(value-dx, i-.25, group_lk[name], size=10, color='#444444', ha='right', va='baseline')\n",
    "#         ax.text(value+dx, i,     f'{value:,.0f}',  size=14, ha='left',  va='center')\n",
    "#     ax.text(1, 0.4, current_day, transform=ax.transAxes, color='#777777', size=46, ha='right', weight=800)\n",
    "#     ax.text(0, 1.06, 'Population (thousands)', transform=ax.transAxes, size=12, color='#777777')\n",
    "#     ax.xaxis.set_major_formatter(ticker.StrMethodFormatter('{x:,.0f}'))\n",
    "#     ax.xaxis.set_ticks_position('top')\n",
    "#     ax.tick_params(axis='x', colors='#777777', labelsize=12)\n",
    "#     ax.set_yticks([])\n",
    "#     ax.margins(0, 0.01)\n",
    "#     ax.grid(which='major', axis='x', linestyle='-')\n",
    "#     ax.set_axisbelow(True)\n",
    "    \n",
    "#     ax.text(0, 1.15, 'Coronavirus',\n",
    "#             transform=ax.transAxes, size=24, weight=600, ha='left', va='top')\n",
    "# #     ax.text(1, 0, 'by @pratapvardhan; credit @jburnmurdoch', transform=ax.transAxes, color='#777777', ha='right',\n",
    "# #             bbox=dict(facecolor='white', alpha=0.8, edgecolor='white'))\n",
    "#     plt.box(False)"
   ]
  },
  {
   "cell_type": "code",
   "execution_count": 42,
   "metadata": {
    "execution": {
     "iopub.execute_input": "2021-01-11T00:27:36.143584Z",
     "iopub.status.busy": "2021-01-11T00:27:36.142974Z",
     "iopub.status.idle": "2021-01-11T00:27:36.145106Z",
     "shell.execute_reply": "2021-01-11T00:27:36.145592Z"
    },
    "papermill": {
     "duration": 0.037159,
     "end_time": "2021-01-11T00:27:36.145762",
     "exception": false,
     "start_time": "2021-01-11T00:27:36.108603",
     "status": "completed"
    },
    "tags": []
   },
   "outputs": [],
   "source": [
    "# #hide_input\n",
    "# fig, ax = plt.subplots(figsize=(15, 8))\n",
    "# animator = animation.FuncAnimation(fig, draw_barchart, frames=range(g.day.values.min(), g.day.values.max()))\n",
    "# HTML(animator.to_jshtml())\n",
    "# # or use animator.to_html5_video() or animator.save() "
   ]
  },
  {
   "cell_type": "code",
   "execution_count": null,
   "metadata": {
    "papermill": {
     "duration": 0.031135,
     "end_time": "2021-01-11T00:27:36.207075",
     "exception": false,
     "start_time": "2021-01-11T00:27:36.175940",
     "status": "completed"
    },
    "tags": []
   },
   "outputs": [],
   "source": []
  },
  {
   "cell_type": "code",
   "execution_count": null,
   "metadata": {
    "papermill": {
     "duration": 0.029867,
     "end_time": "2021-01-11T00:27:36.266966",
     "exception": false,
     "start_time": "2021-01-11T00:27:36.237099",
     "status": "completed"
    },
    "tags": []
   },
   "outputs": [],
   "source": []
  },
  {
   "cell_type": "code",
   "execution_count": null,
   "metadata": {
    "papermill": {
     "duration": 0.0305,
     "end_time": "2021-01-11T00:27:36.328238",
     "exception": false,
     "start_time": "2021-01-11T00:27:36.297738",
     "status": "completed"
    },
    "tags": []
   },
   "outputs": [],
   "source": []
  }
 ],
 "metadata": {
  "kernelspec": {
   "display_name": "Python 3",
   "language": "python",
   "name": "python3"
  },
  "language_info": {
   "codemirror_mode": {
    "name": "ipython",
    "version": 3
   },
   "file_extension": ".py",
   "mimetype": "text/x-python",
   "name": "python",
   "nbconvert_exporter": "python",
   "pygments_lexer": "ipython3",
   "version": "3.6.12"
  },
  "papermill": {
   "duration": 8.176422,
   "end_time": "2021-01-11T00:27:36.667122",
   "environment_variables": {},
   "exception": null,
   "input_path": "2020-03-21-covid19exp.ipynb",
   "output_path": "2020-03-21-covid19exp.ipynb",
   "parameters": {},
   "start_time": "2021-01-11T00:27:28.490700",
   "version": "2.0.0"
  }
 },
 "nbformat": 4,
 "nbformat_minor": 4
}