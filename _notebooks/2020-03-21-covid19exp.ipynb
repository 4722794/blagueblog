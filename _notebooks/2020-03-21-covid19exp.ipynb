{
 "cells": [
  {
   "cell_type": "markdown",
   "id": "muslim-click",
   "metadata": {
    "papermill": {
     "duration": 0.044414,
     "end_time": "2022-04-10T00:37:17.285345",
     "exception": false,
     "start_time": "2022-04-10T00:37:17.240931",
     "status": "completed"
    },
    "tags": []
   },
   "source": [
    "# COVID-19 Case Race\n",
    "> A race chart to see rising cases around the world\n",
    "\n",
    "- author: Hargun Oberoi\n",
    "- image: images/covid-overview.png\n",
    "- hide: false\n",
    "- badges: false"
   ]
  },
  {
   "cell_type": "code",
   "execution_count": 1,
   "id": "proof-material",
   "metadata": {
    "execution": {
     "iopub.execute_input": "2022-04-10T00:37:17.380158Z",
     "iopub.status.busy": "2022-04-10T00:37:17.379439Z",
     "iopub.status.idle": "2022-04-10T00:37:17.805302Z",
     "shell.execute_reply": "2022-04-10T00:37:17.804683Z"
    },
    "papermill": {
     "duration": 0.479614,
     "end_time": "2022-04-10T00:37:17.805479",
     "exception": false,
     "start_time": "2022-04-10T00:37:17.325865",
     "status": "completed"
    },
    "tags": []
   },
   "outputs": [],
   "source": [
    "#hide\n",
    "import numpy as np\n",
    "import pandas as pd\n",
    "from jinja2 import Template\n",
    "from IPython.display import HTML"
   ]
  },
  {
   "cell_type": "code",
   "execution_count": 2,
   "id": "developed-terminology",
   "metadata": {
    "execution": {
     "iopub.execute_input": "2022-04-10T00:37:17.889607Z",
     "iopub.status.busy": "2022-04-10T00:37:17.888891Z",
     "iopub.status.idle": "2022-04-10T00:37:17.890738Z",
     "shell.execute_reply": "2022-04-10T00:37:17.891660Z"
    },
    "papermill": {
     "duration": 0.048651,
     "end_time": "2022-04-10T00:37:17.891825",
     "exception": false,
     "start_time": "2022-04-10T00:37:17.843174",
     "status": "completed"
    },
    "tags": []
   },
   "outputs": [],
   "source": [
    "#hide\n",
    "\n",
    "# FETCH\n",
    "base_url = 'https://raw.githubusercontent.com/pratapvardhan/notebooks/master/covid19/'\n",
    "paths = {\n",
    "    'mapping': base_url + 'mapping_countries.csv',\n",
    "    'overview': base_url + 'overview.tpl'\n",
    "}"
   ]
  },
  {
   "cell_type": "code",
   "execution_count": 3,
   "id": "dynamic-saver",
   "metadata": {
    "execution": {
     "iopub.execute_input": "2022-04-10T00:37:17.980322Z",
     "iopub.status.busy": "2022-04-10T00:37:17.979646Z",
     "iopub.status.idle": "2022-04-10T00:37:17.983119Z",
     "shell.execute_reply": "2022-04-10T00:37:17.982581Z"
    },
    "papermill": {
     "duration": 0.053356,
     "end_time": "2022-04-10T00:37:17.983262",
     "exception": false,
     "start_time": "2022-04-10T00:37:17.929906",
     "status": "completed"
    },
    "tags": []
   },
   "outputs": [
    {
     "data": {
      "text/plain": [
       "'https://raw.githubusercontent.com/pratapvardhan/notebooks/master/covid19/mapping_countries.csv'"
      ]
     },
     "execution_count": 3,
     "metadata": {},
     "output_type": "execute_result"
    }
   ],
   "source": [
    "#hide\n",
    "paths['mapping']"
   ]
  },
  {
   "cell_type": "code",
   "execution_count": 4,
   "id": "urban-software",
   "metadata": {
    "execution": {
     "iopub.execute_input": "2022-04-10T00:37:18.068787Z",
     "iopub.status.busy": "2022-04-10T00:37:18.068077Z",
     "iopub.status.idle": "2022-04-10T00:37:18.070580Z",
     "shell.execute_reply": "2022-04-10T00:37:18.069928Z"
    },
    "papermill": {
     "duration": 0.049321,
     "end_time": "2022-04-10T00:37:18.070741",
     "exception": false,
     "start_time": "2022-04-10T00:37:18.021420",
     "status": "completed"
    },
    "tags": []
   },
   "outputs": [],
   "source": [
    "#hide\n",
    "def get_mappings(url):\n",
    "    df = pd.read_csv(url)\n",
    "    return {\n",
    "        'df': df,\n",
    "        'replace.country': dict(df.dropna(subset=['Name']).set_index('Country')['Name']),\n",
    "        'map.continent': dict(df.set_index('Name')['Continent'])\n",
    "    }"
   ]
  },
  {
   "cell_type": "code",
   "execution_count": 5,
   "id": "intimate-machinery",
   "metadata": {
    "execution": {
     "iopub.execute_input": "2022-04-10T00:37:18.156850Z",
     "iopub.status.busy": "2022-04-10T00:37:18.156154Z",
     "iopub.status.idle": "2022-04-10T00:37:18.184091Z",
     "shell.execute_reply": "2022-04-10T00:37:18.183536Z"
    },
    "papermill": {
     "duration": 0.073192,
     "end_time": "2022-04-10T00:37:18.184238",
     "exception": false,
     "start_time": "2022-04-10T00:37:18.111046",
     "status": "completed"
    },
    "tags": []
   },
   "outputs": [],
   "source": [
    "#hide\n",
    "mapping = get_mappings(paths['mapping'])"
   ]
  },
  {
   "cell_type": "code",
   "execution_count": 6,
   "id": "certified-tactics",
   "metadata": {
    "execution": {
     "iopub.execute_input": "2022-04-10T00:37:18.266790Z",
     "iopub.status.busy": "2022-04-10T00:37:18.266041Z",
     "iopub.status.idle": "2022-04-10T00:37:18.268833Z",
     "shell.execute_reply": "2022-04-10T00:37:18.268116Z"
    },
    "papermill": {
     "duration": 0.046712,
     "end_time": "2022-04-10T00:37:18.269005",
     "exception": false,
     "start_time": "2022-04-10T00:37:18.222293",
     "status": "completed"
    },
    "tags": []
   },
   "outputs": [],
   "source": [
    "#hide\n",
    "def get_template(path):\n",
    "    from urllib.parse import urlparse\n",
    "    if bool(urlparse(path).netloc):\n",
    "        from urllib.request import urlopen\n",
    "        return urlopen(path).read().decode('utf8')\n",
    "    return open(path).read()"
   ]
  },
  {
   "cell_type": "code",
   "execution_count": 7,
   "id": "realistic-blast",
   "metadata": {
    "execution": {
     "iopub.execute_input": "2022-04-10T00:37:18.351245Z",
     "iopub.status.busy": "2022-04-10T00:37:18.350578Z",
     "iopub.status.idle": "2022-04-10T00:37:18.353129Z",
     "shell.execute_reply": "2022-04-10T00:37:18.352575Z"
    },
    "papermill": {
     "duration": 0.045732,
     "end_time": "2022-04-10T00:37:18.353288",
     "exception": false,
     "start_time": "2022-04-10T00:37:18.307556",
     "status": "completed"
    },
    "tags": []
   },
   "outputs": [],
   "source": [
    "#hide\n",
    "def get_frame(name):\n",
    "    url = (\n",
    "        'https://raw.githubusercontent.com/CSSEGISandData/COVID-19/master/csse_covid_19_data/'\n",
    "        f'csse_covid_19_time_series/time_series_covid19_{name}_global.csv')\n",
    "    df = pd.read_csv(url)\n",
    "    # rename countries\n",
    "    df['Country/Region'] = df['Country/Region'].replace(mapping['replace.country'])\n",
    "    return df"
   ]
  },
  {
   "cell_type": "code",
   "execution_count": 8,
   "id": "affiliated-characterization",
   "metadata": {
    "execution": {
     "iopub.execute_input": "2022-04-10T00:37:18.437761Z",
     "iopub.status.busy": "2022-04-10T00:37:18.436861Z",
     "iopub.status.idle": "2022-04-10T00:37:18.439881Z",
     "shell.execute_reply": "2022-04-10T00:37:18.439215Z"
    },
    "papermill": {
     "duration": 0.047813,
     "end_time": "2022-04-10T00:37:18.440027",
     "exception": false,
     "start_time": "2022-04-10T00:37:18.392214",
     "status": "completed"
    },
    "tags": []
   },
   "outputs": [],
   "source": [
    "#hide\n",
    "def get_dates(df):\n",
    "    dt_cols = df.columns[~df.columns.isin(['Province/State', 'Country/Region', 'Lat', 'Long'])]\n",
    "    LAST_DATE_I = -1\n",
    "    # sometimes last column may be empty, then go backwards\n",
    "    for i in range(-1, -len(dt_cols), -1):\n",
    "        if not df[dt_cols[i]].fillna(0).eq(0).all():\n",
    "            LAST_DATE_I = i\n",
    "            break\n",
    "    return LAST_DATE_I, dt_cols"
   ]
  },
  {
   "cell_type": "code",
   "execution_count": 9,
   "id": "recent-optimization",
   "metadata": {
    "execution": {
     "iopub.execute_input": "2022-04-10T00:37:18.526378Z",
     "iopub.status.busy": "2022-04-10T00:37:18.525687Z",
     "iopub.status.idle": "2022-04-10T00:37:18.938237Z",
     "shell.execute_reply": "2022-04-10T00:37:18.937655Z"
    },
    "papermill": {
     "duration": 0.456025,
     "end_time": "2022-04-10T00:37:18.938388",
     "exception": false,
     "start_time": "2022-04-10T00:37:18.482363",
     "status": "completed"
    },
    "tags": []
   },
   "outputs": [],
   "source": [
    "#hide\n",
    "COL_REGION = 'Country/Region'\n",
    "# Confirmed, Recovered, Deaths\n",
    "df = get_frame('confirmed')\n",
    "# dft_: timeseries, dfc_: today country agg\n",
    "dft_cases = df\n",
    "dft_deaths = get_frame('deaths')\n",
    "dft_recovered = get_frame('recovered')\n",
    "LAST_DATE_I, dt_cols = get_dates(df)"
   ]
  },
  {
   "cell_type": "code",
   "execution_count": 10,
   "id": "absolute-copper",
   "metadata": {
    "execution": {
     "iopub.execute_input": "2022-04-10T00:37:19.025480Z",
     "iopub.status.busy": "2022-04-10T00:37:19.024670Z",
     "iopub.status.idle": "2022-04-10T00:37:19.027513Z",
     "shell.execute_reply": "2022-04-10T00:37:19.026984Z"
    },
    "papermill": {
     "duration": 0.047612,
     "end_time": "2022-04-10T00:37:19.027649",
     "exception": false,
     "start_time": "2022-04-10T00:37:18.980037",
     "status": "completed"
    },
    "tags": []
   },
   "outputs": [],
   "source": [
    "#hide\n",
    "LAST_DATE_I, dt_cols = get_dates(df)\n",
    "dt_today =dt_cols[LAST_DATE_I]\n",
    "# dt_5day = dt_cols[LAST_DATE_I - 5]\n",
    "dt_yday = dt_cols[LAST_DATE_I - 1]"
   ]
  },
  {
   "cell_type": "code",
   "execution_count": 11,
   "id": "restricted-sheriff",
   "metadata": {
    "execution": {
     "iopub.execute_input": "2022-04-10T00:37:19.112954Z",
     "iopub.status.busy": "2022-04-10T00:37:19.112294Z",
     "iopub.status.idle": "2022-04-10T00:37:19.118525Z",
     "shell.execute_reply": "2022-04-10T00:37:19.119158Z"
    },
    "papermill": {
     "duration": 0.054171,
     "end_time": "2022-04-10T00:37:19.119305",
     "exception": false,
     "start_time": "2022-04-10T00:37:19.065134",
     "status": "completed"
    },
    "tags": []
   },
   "outputs": [],
   "source": [
    "#hide\n",
    "dfc_cases = dft_cases.groupby(COL_REGION)[dt_today].sum()\n",
    "dfc_deaths = dft_deaths.groupby(COL_REGION)[dt_today].sum()\n",
    "# dfp_cases = dft_cases.groupby(COL_REGION)[dt_5day].sum()\n",
    "# dfp_deaths = dft_deaths.groupby(COL_REGION)[dt_5day].sum()\n",
    "dfp_cases = dft_cases.groupby(COL_REGION)[dt_yday].sum()\n",
    "dfp_deaths = dft_deaths.groupby(COL_REGION)[dt_yday].sum()"
   ]
  },
  {
   "cell_type": "code",
   "execution_count": 12,
   "id": "deluxe-hepatitis",
   "metadata": {
    "execution": {
     "iopub.execute_input": "2022-04-10T00:37:19.204285Z",
     "iopub.status.busy": "2022-04-10T00:37:19.203630Z",
     "iopub.status.idle": "2022-04-10T00:37:19.209374Z",
     "shell.execute_reply": "2022-04-10T00:37:19.210010Z"
    },
    "papermill": {
     "duration": 0.052828,
     "end_time": "2022-04-10T00:37:19.210179",
     "exception": false,
     "start_time": "2022-04-10T00:37:19.157351",
     "status": "completed"
    },
    "tags": []
   },
   "outputs": [],
   "source": [
    "#hide\n",
    "df_table = (pd.DataFrame(dict(Cases = dfc_cases, Deaths = dfc_deaths, PCases = dfp_cases, PDeaths = dfp_deaths))\n",
    "            .sort_values(by = ['Cases','Deaths'], ascending = [False, False])\n",
    "            .reset_index())"
   ]
  },
  {
   "cell_type": "code",
   "execution_count": 13,
   "id": "educational-chancellor",
   "metadata": {
    "execution": {
     "iopub.execute_input": "2022-04-10T00:37:19.315133Z",
     "iopub.status.busy": "2022-04-10T00:37:19.314445Z",
     "iopub.status.idle": "2022-04-10T00:37:19.323623Z",
     "shell.execute_reply": "2022-04-10T00:37:19.323067Z"
    },
    "papermill": {
     "duration": 0.075688,
     "end_time": "2022-04-10T00:37:19.323763",
     "exception": false,
     "start_time": "2022-04-10T00:37:19.248075",
     "status": "completed"
    },
    "tags": []
   },
   "outputs": [
    {
     "data": {
      "text/html": [
       "<div>\n",
       "<style scoped>\n",
       "    .dataframe tbody tr th:only-of-type {\n",
       "        vertical-align: middle;\n",
       "    }\n",
       "\n",
       "    .dataframe tbody tr th {\n",
       "        vertical-align: top;\n",
       "    }\n",
       "\n",
       "    .dataframe thead th {\n",
       "        text-align: right;\n",
       "    }\n",
       "</style>\n",
       "<table border=\"1\" class=\"dataframe\">\n",
       "  <thead>\n",
       "    <tr style=\"text-align: right;\">\n",
       "      <th></th>\n",
       "      <th>Country/Region</th>\n",
       "      <th>Cases</th>\n",
       "      <th>Deaths</th>\n",
       "      <th>PCases</th>\n",
       "      <th>PDeaths</th>\n",
       "      <th>Cases (+)</th>\n",
       "      <th>Deaths (+)</th>\n",
       "      <th>Fatality Rate</th>\n",
       "      <th>Continent</th>\n",
       "    </tr>\n",
       "  </thead>\n",
       "  <tbody>\n",
       "    <tr>\n",
       "      <th>0</th>\n",
       "      <td>US</td>\n",
       "      <td>80386635</td>\n",
       "      <td>985205</td>\n",
       "      <td>80292483</td>\n",
       "      <td>984571</td>\n",
       "      <td>94152</td>\n",
       "      <td>634</td>\n",
       "      <td>1.23</td>\n",
       "      <td>North America</td>\n",
       "    </tr>\n",
       "    <tr>\n",
       "      <th>1</th>\n",
       "      <td>India</td>\n",
       "      <td>43034217</td>\n",
       "      <td>521656</td>\n",
       "      <td>43033067</td>\n",
       "      <td>521573</td>\n",
       "      <td>1150</td>\n",
       "      <td>83</td>\n",
       "      <td>1.21</td>\n",
       "      <td>Asia</td>\n",
       "    </tr>\n",
       "    <tr>\n",
       "      <th>2</th>\n",
       "      <td>Brazil</td>\n",
       "      <td>30125540</td>\n",
       "      <td>661377</td>\n",
       "      <td>30095328</td>\n",
       "      <td>661228</td>\n",
       "      <td>30212</td>\n",
       "      <td>149</td>\n",
       "      <td>2.20</td>\n",
       "      <td>South America</td>\n",
       "    </tr>\n",
       "    <tr>\n",
       "      <th>3</th>\n",
       "      <td>France</td>\n",
       "      <td>26887490</td>\n",
       "      <td>144193</td>\n",
       "      <td>26738483</td>\n",
       "      <td>144054</td>\n",
       "      <td>149007</td>\n",
       "      <td>139</td>\n",
       "      <td>0.54</td>\n",
       "      <td>Europe</td>\n",
       "    </tr>\n",
       "    <tr>\n",
       "      <th>4</th>\n",
       "      <td>Germany</td>\n",
       "      <td>22629378</td>\n",
       "      <td>131679</td>\n",
       "      <td>22478703</td>\n",
       "      <td>131370</td>\n",
       "      <td>150675</td>\n",
       "      <td>309</td>\n",
       "      <td>0.58</td>\n",
       "      <td>Europe</td>\n",
       "    </tr>\n",
       "  </tbody>\n",
       "</table>\n",
       "</div>"
      ],
      "text/plain": [
       "  Country/Region     Cases  Deaths    PCases  PDeaths  Cases (+)  Deaths (+)  \\\n",
       "0             US  80386635  985205  80292483   984571      94152         634   \n",
       "1          India  43034217  521656  43033067   521573       1150          83   \n",
       "2         Brazil  30125540  661377  30095328   661228      30212         149   \n",
       "3         France  26887490  144193  26738483   144054     149007         139   \n",
       "4        Germany  22629378  131679  22478703   131370     150675         309   \n",
       "\n",
       "   Fatality Rate      Continent  \n",
       "0           1.23  North America  \n",
       "1           1.21           Asia  \n",
       "2           2.20  South America  \n",
       "3           0.54         Europe  \n",
       "4           0.58         Europe  "
      ]
     },
     "execution_count": 13,
     "metadata": {},
     "output_type": "execute_result"
    }
   ],
   "source": [
    "#hide\n",
    "for c in 'Cases, Deaths'.split(', '):\n",
    "    df_table[f'{c} (+)'] = (df_table[c] - df_table[f'P{c}']).clip(0)\n",
    "    #Clip ça veut dire, les chiffres negatif sont interdit\n",
    "df_table['Fatality Rate'] = (100* df_table['Deaths']/ df_table['Cases']).round(2)\n",
    "df_table['Continent'] = df_table['Country/Region'].map(mapping['map.continent'])\n",
    "df_table.head(5)"
   ]
  },
  {
   "cell_type": "code",
   "execution_count": 14,
   "id": "aboriginal-bulgaria",
   "metadata": {
    "execution": {
     "iopub.execute_input": "2022-04-10T00:37:19.410669Z",
     "iopub.status.busy": "2022-04-10T00:37:19.409983Z",
     "iopub.status.idle": "2022-04-10T00:37:19.412563Z",
     "shell.execute_reply": "2022-04-10T00:37:19.413233Z"
    },
    "papermill": {
     "duration": 0.050337,
     "end_time": "2022-04-10T00:37:19.413394",
     "exception": false,
     "start_time": "2022-04-10T00:37:19.363057",
     "status": "completed"
    },
    "tags": []
   },
   "outputs": [],
   "source": [
    "#hide\n",
    "#delete problematic countries from table\n",
    "df_table = df_table[~df_table['Country/Region'].isin(['Cape Verde', 'Cruise Ship', 'Kosovo'])]"
   ]
  },
  {
   "cell_type": "code",
   "execution_count": 15,
   "id": "fantastic-effect",
   "metadata": {
    "execution": {
     "iopub.execute_input": "2022-04-10T00:37:19.502872Z",
     "iopub.status.busy": "2022-04-10T00:37:19.502207Z",
     "iopub.status.idle": "2022-04-10T00:37:19.524993Z",
     "shell.execute_reply": "2022-04-10T00:37:19.524451Z"
    },
    "papermill": {
     "duration": 0.073652,
     "end_time": "2022-04-10T00:37:19.525136",
     "exception": false,
     "start_time": "2022-04-10T00:37:19.451484",
     "status": "completed"
    },
    "tags": []
   },
   "outputs": [
    {
     "data": {
      "text/html": [
       "<div>\n",
       "<style scoped>\n",
       "    .dataframe tbody tr th:only-of-type {\n",
       "        vertical-align: middle;\n",
       "    }\n",
       "\n",
       "    .dataframe tbody tr th {\n",
       "        vertical-align: top;\n",
       "    }\n",
       "\n",
       "    .dataframe thead th {\n",
       "        text-align: right;\n",
       "    }\n",
       "</style>\n",
       "<table border=\"1\" class=\"dataframe\">\n",
       "  <thead>\n",
       "    <tr style=\"text-align: right;\">\n",
       "      <th></th>\n",
       "      <th>Country/Region</th>\n",
       "      <th>Cases</th>\n",
       "      <th>Deaths</th>\n",
       "      <th>PCases</th>\n",
       "      <th>PDeaths</th>\n",
       "      <th>Cases (+)</th>\n",
       "      <th>Deaths (+)</th>\n",
       "      <th>Fatality Rate</th>\n",
       "      <th>Continent</th>\n",
       "    </tr>\n",
       "  </thead>\n",
       "  <tbody>\n",
       "    <tr>\n",
       "      <th>0</th>\n",
       "      <td>US</td>\n",
       "      <td>80386635</td>\n",
       "      <td>985205</td>\n",
       "      <td>80292483</td>\n",
       "      <td>984571</td>\n",
       "      <td>94152</td>\n",
       "      <td>634</td>\n",
       "      <td>1.2</td>\n",
       "      <td>North America</td>\n",
       "    </tr>\n",
       "    <tr>\n",
       "      <th>1</th>\n",
       "      <td>India</td>\n",
       "      <td>43034217</td>\n",
       "      <td>521656</td>\n",
       "      <td>43033067</td>\n",
       "      <td>521573</td>\n",
       "      <td>1150</td>\n",
       "      <td>83</td>\n",
       "      <td>1.2</td>\n",
       "      <td>Asia</td>\n",
       "    </tr>\n",
       "    <tr>\n",
       "      <th>2</th>\n",
       "      <td>Brazil</td>\n",
       "      <td>30125540</td>\n",
       "      <td>661377</td>\n",
       "      <td>30095328</td>\n",
       "      <td>661228</td>\n",
       "      <td>30212</td>\n",
       "      <td>149</td>\n",
       "      <td>2.2</td>\n",
       "      <td>South America</td>\n",
       "    </tr>\n",
       "    <tr>\n",
       "      <th>3</th>\n",
       "      <td>France</td>\n",
       "      <td>26887490</td>\n",
       "      <td>144193</td>\n",
       "      <td>26738483</td>\n",
       "      <td>144054</td>\n",
       "      <td>149007</td>\n",
       "      <td>139</td>\n",
       "      <td>0.5</td>\n",
       "      <td>Europe</td>\n",
       "    </tr>\n",
       "    <tr>\n",
       "      <th>4</th>\n",
       "      <td>Germany</td>\n",
       "      <td>22629378</td>\n",
       "      <td>131679</td>\n",
       "      <td>22478703</td>\n",
       "      <td>131370</td>\n",
       "      <td>150675</td>\n",
       "      <td>309</td>\n",
       "      <td>0.6</td>\n",
       "      <td>Europe</td>\n",
       "    </tr>\n",
       "  </tbody>\n",
       "</table>\n",
       "</div>"
      ],
      "text/plain": [
       "  Country/Region     Cases  Deaths    PCases  PDeaths  Cases (+)  Deaths (+)  \\\n",
       "0             US  80386635  985205  80292483   984571      94152         634   \n",
       "1          India  43034217  521656  43033067   521573       1150          83   \n",
       "2         Brazil  30125540  661377  30095328   661228      30212         149   \n",
       "3         France  26887490  144193  26738483   144054     149007         139   \n",
       "4        Germany  22629378  131679  22478703   131370     150675         309   \n",
       "\n",
       "   Fatality Rate      Continent  \n",
       "0            1.2  North America  \n",
       "1            1.2           Asia  \n",
       "2            2.2  South America  \n",
       "3            0.5         Europe  \n",
       "4            0.6         Europe  "
      ]
     },
     "execution_count": 15,
     "metadata": {},
     "output_type": "execute_result"
    }
   ],
   "source": [
    "#hide\n",
    "df_table = (pd.DataFrame(dict(Cases=dfc_cases, Deaths=dfc_deaths, PCases=dfp_cases, PDeaths=dfp_deaths))\n",
    "             .sort_values(by=['Cases', 'Deaths'], ascending=[False, False])\n",
    "             .reset_index())\n",
    "df_table.rename(columns={'index': 'Country/Region'}, inplace=True)\n",
    "for c in 'Cases, Deaths'.split(', '):\n",
    "    df_table[f'{c} (+)'] = (df_table[c] - df_table[f'P{c}']).clip(0)  # DATA BUG\n",
    "df_table['Fatality Rate'] = (100 * df_table['Deaths'] / df_table['Cases']).round(1)\n",
    "df_table['Continent'] = df_table['Country/Region'].map(mapping['map.continent'])\n",
    "df_table.head(5)"
   ]
  },
  {
   "cell_type": "code",
   "execution_count": 16,
   "id": "fewer-occasion",
   "metadata": {
    "execution": {
     "iopub.execute_input": "2022-04-10T00:37:19.611955Z",
     "iopub.status.busy": "2022-04-10T00:37:19.611169Z",
     "iopub.status.idle": "2022-04-10T00:37:19.623558Z",
     "shell.execute_reply": "2022-04-10T00:37:19.622994Z"
    },
    "papermill": {
     "duration": 0.05844,
     "end_time": "2022-04-10T00:37:19.623706",
     "exception": false,
     "start_time": "2022-04-10T00:37:19.565266",
     "status": "completed"
    },
    "tags": []
   },
   "outputs": [],
   "source": [
    "#hide\n",
    "#delete problematic countries from table\n",
    "df_table = df_table[~df_table['Country/Region'].isin(['Cape Verde', 'Cruise Ship', 'Kosovo'])]"
   ]
  },
  {
   "cell_type": "code",
   "execution_count": 17,
   "id": "related-center",
   "metadata": {
    "execution": {
     "iopub.execute_input": "2022-04-10T00:37:19.739410Z",
     "iopub.status.busy": "2022-04-10T00:37:19.738566Z",
     "iopub.status.idle": "2022-04-10T00:37:19.740345Z",
     "shell.execute_reply": "2022-04-10T00:37:19.740948Z"
    },
    "papermill": {
     "duration": 0.067719,
     "end_time": "2022-04-10T00:37:19.741116",
     "exception": false,
     "start_time": "2022-04-10T00:37:19.673397",
     "status": "completed"
    },
    "tags": []
   },
   "outputs": [],
   "source": [
    "#hide\n",
    "metrics = [df_table.columns[index] for index in [1,2,5,6]]\n",
    "# s_china = df_table[df_table['Country/Region'].eq('China')][metrics].sum().add_prefix('China ')\n",
    "s_us = df_table[df_table['Country/Region'].eq('US')][metrics].sum().add_prefix('US ')\n",
    "s_eu = df_table[df_table['Continent'].eq('Europe')][metrics].sum().add_prefix('EU ')\n",
    "s_ind = df_table[df_table['Country/Region'].eq('India')][metrics].sum().add_prefix('India ')\n",
    "summary = {'updated': pd.to_datetime(dt_today), 'since': pd.to_datetime(dt_yday)}\n",
    "summary = {'updated': pd.to_datetime(dt_today), 'since': pd.to_datetime(dt_yday)}\n",
    "summary = {**summary, **df_table[metrics].sum(), **s_ind, **s_us, **s_eu}"
   ]
  },
  {
   "cell_type": "code",
   "execution_count": 18,
   "id": "engaging-syndrome",
   "metadata": {
    "execution": {
     "iopub.execute_input": "2022-04-10T00:37:19.828666Z",
     "iopub.status.busy": "2022-04-10T00:37:19.827910Z",
     "iopub.status.idle": "2022-04-10T00:37:19.846894Z",
     "shell.execute_reply": "2022-04-10T00:37:19.846282Z"
    },
    "papermill": {
     "duration": 0.064332,
     "end_time": "2022-04-10T00:37:19.847042",
     "exception": false,
     "start_time": "2022-04-10T00:37:19.782710",
     "status": "completed"
    },
    "tags": []
   },
   "outputs": [],
   "source": [
    "#hide\n",
    "dft_ct_new_cases = dft_cases.groupby(COL_REGION)[dt_cols].sum().diff(axis=1).fillna(0).astype(int)"
   ]
  },
  {
   "cell_type": "code",
   "execution_count": 19,
   "id": "neutral-assignment",
   "metadata": {
    "execution": {
     "iopub.execute_input": "2022-04-10T00:37:19.949653Z",
     "iopub.status.busy": "2022-04-10T00:37:19.948523Z",
     "iopub.status.idle": "2022-04-10T00:37:19.956364Z",
     "shell.execute_reply": "2022-04-10T00:37:19.957799Z"
    },
    "papermill": {
     "duration": 0.067879,
     "end_time": "2022-04-10T00:37:19.957968",
     "exception": false,
     "start_time": "2022-04-10T00:37:19.890089",
     "status": "completed"
    },
    "tags": []
   },
   "outputs": [],
   "source": [
    "#hide\n",
    "everydaycases = dft_ct_new_cases.cumsum(axis=1)"
   ]
  },
  {
   "cell_type": "code",
   "execution_count": 20,
   "id": "parliamentary-calgary",
   "metadata": {
    "execution": {
     "iopub.execute_input": "2022-04-10T00:37:20.048247Z",
     "iopub.status.busy": "2022-04-10T00:37:20.047440Z",
     "iopub.status.idle": "2022-04-10T00:37:20.892591Z",
     "shell.execute_reply": "2022-04-10T00:37:20.893118Z"
    },
    "papermill": {
     "duration": 0.891929,
     "end_time": "2022-04-10T00:37:20.893331",
     "exception": false,
     "start_time": "2022-04-10T00:37:20.001402",
     "status": "completed"
    },
    "tags": []
   },
   "outputs": [],
   "source": [
    "#hide\n",
    "import pandas as pd\n",
    "import matplotlib.pyplot as plt\n",
    "import matplotlib.ticker as ticker\n",
    "import matplotlib.animation as animation\n",
    "from IPython.display import HTML"
   ]
  },
  {
   "cell_type": "code",
   "execution_count": 21,
   "id": "lasting-extraction",
   "metadata": {
    "execution": {
     "iopub.execute_input": "2022-04-10T00:37:20.980253Z",
     "iopub.status.busy": "2022-04-10T00:37:20.979558Z",
     "iopub.status.idle": "2022-04-10T00:37:20.986629Z",
     "shell.execute_reply": "2022-04-10T00:37:20.986062Z"
    },
    "papermill": {
     "duration": 0.053599,
     "end_time": "2022-04-10T00:37:20.986778",
     "exception": false,
     "start_time": "2022-04-10T00:37:20.933179",
     "status": "completed"
    },
    "tags": []
   },
   "outputs": [],
   "source": [
    "#hide\n",
    "t = everydaycases.stack()"
   ]
  },
  {
   "cell_type": "code",
   "execution_count": 22,
   "id": "premier-sleeve",
   "metadata": {
    "execution": {
     "iopub.execute_input": "2022-04-10T00:37:21.073864Z",
     "iopub.status.busy": "2022-04-10T00:37:21.073137Z",
     "iopub.status.idle": "2022-04-10T00:37:21.085484Z",
     "shell.execute_reply": "2022-04-10T00:37:21.084395Z"
    },
    "papermill": {
     "duration": 0.058849,
     "end_time": "2022-04-10T00:37:21.086027",
     "exception": false,
     "start_time": "2022-04-10T00:37:21.027178",
     "status": "completed"
    },
    "tags": []
   },
   "outputs": [],
   "source": [
    "#hide\n",
    "g = t.reset_index(['Country/Region'])"
   ]
  },
  {
   "cell_type": "code",
   "execution_count": 23,
   "id": "distributed-pittsburgh",
   "metadata": {
    "execution": {
     "iopub.execute_input": "2022-04-10T00:37:21.171813Z",
     "iopub.status.busy": "2022-04-10T00:37:21.171149Z",
     "iopub.status.idle": "2022-04-10T00:37:21.173786Z",
     "shell.execute_reply": "2022-04-10T00:37:21.173112Z"
    },
    "papermill": {
     "duration": 0.046366,
     "end_time": "2022-04-10T00:37:21.173922",
     "exception": false,
     "start_time": "2022-04-10T00:37:21.127556",
     "status": "completed"
    },
    "tags": []
   },
   "outputs": [],
   "source": [
    "#hide\n",
    "g.index.name = 'date'"
   ]
  },
  {
   "cell_type": "code",
   "execution_count": 24,
   "id": "naked-donor",
   "metadata": {
    "execution": {
     "iopub.execute_input": "2022-04-10T00:37:21.258611Z",
     "iopub.status.busy": "2022-04-10T00:37:21.257906Z",
     "iopub.status.idle": "2022-04-10T00:37:21.262517Z",
     "shell.execute_reply": "2022-04-10T00:37:21.261962Z"
    },
    "papermill": {
     "duration": 0.048775,
     "end_time": "2022-04-10T00:37:21.262666",
     "exception": false,
     "start_time": "2022-04-10T00:37:21.213891",
     "status": "completed"
    },
    "tags": []
   },
   "outputs": [],
   "source": [
    "# #hide\n",
    "# g = g.reset_index(['date'])"
   ]
  },
  {
   "cell_type": "code",
   "execution_count": 25,
   "id": "incomplete-mustang",
   "metadata": {
    "execution": {
     "iopub.execute_input": "2022-04-10T00:37:21.349086Z",
     "iopub.status.busy": "2022-04-10T00:37:21.348410Z",
     "iopub.status.idle": "2022-04-10T00:37:21.352903Z",
     "shell.execute_reply": "2022-04-10T00:37:21.352260Z"
    },
    "papermill": {
     "duration": 0.049889,
     "end_time": "2022-04-10T00:37:21.353050",
     "exception": false,
     "start_time": "2022-04-10T00:37:21.303161",
     "status": "completed"
    },
    "tags": []
   },
   "outputs": [],
   "source": [
    "#hide\n",
    "# g.head()"
   ]
  },
  {
   "cell_type": "code",
   "execution_count": 26,
   "id": "specific-kruger",
   "metadata": {
    "execution": {
     "iopub.execute_input": "2022-04-10T00:37:21.442651Z",
     "iopub.status.busy": "2022-04-10T00:37:21.441945Z",
     "iopub.status.idle": "2022-04-10T00:37:21.444761Z",
     "shell.execute_reply": "2022-04-10T00:37:21.444113Z"
    },
    "papermill": {
     "duration": 0.051032,
     "end_time": "2022-04-10T00:37:21.444896",
     "exception": false,
     "start_time": "2022-04-10T00:37:21.393864",
     "status": "completed"
    },
    "tags": []
   },
   "outputs": [],
   "source": [
    "#hide\n",
    "# g.columns = ['date','country','cases']"
   ]
  },
  {
   "cell_type": "code",
   "execution_count": 27,
   "id": "tender-conversion",
   "metadata": {
    "execution": {
     "iopub.execute_input": "2022-04-10T00:37:21.529801Z",
     "iopub.status.busy": "2022-04-10T00:37:21.529093Z",
     "iopub.status.idle": "2022-04-10T00:37:21.531644Z",
     "shell.execute_reply": "2022-04-10T00:37:21.531077Z"
    },
    "papermill": {
     "duration": 0.048006,
     "end_time": "2022-04-10T00:37:21.531779",
     "exception": false,
     "start_time": "2022-04-10T00:37:21.483773",
     "status": "completed"
    },
    "tags": []
   },
   "outputs": [],
   "source": [
    "#hide\n",
    "# g['continent'] = g.country"
   ]
  },
  {
   "cell_type": "code",
   "execution_count": 28,
   "id": "substantial-wilderness",
   "metadata": {
    "execution": {
     "iopub.execute_input": "2022-04-10T00:37:21.615838Z",
     "iopub.status.busy": "2022-04-10T00:37:21.615157Z",
     "iopub.status.idle": "2022-04-10T00:37:21.619014Z",
     "shell.execute_reply": "2022-04-10T00:37:21.619527Z"
    },
    "papermill": {
     "duration": 0.048553,
     "end_time": "2022-04-10T00:37:21.619688",
     "exception": false,
     "start_time": "2022-04-10T00:37:21.571135",
     "status": "completed"
    },
    "tags": []
   },
   "outputs": [],
   "source": [
    "#hide\n",
    "# cols = list(g.columns.values)"
   ]
  },
  {
   "cell_type": "code",
   "execution_count": 29,
   "id": "solved-farming",
   "metadata": {
    "execution": {
     "iopub.execute_input": "2022-04-10T00:37:21.705983Z",
     "iopub.status.busy": "2022-04-10T00:37:21.705297Z",
     "iopub.status.idle": "2022-04-10T00:37:21.707553Z",
     "shell.execute_reply": "2022-04-10T00:37:21.706897Z"
    },
    "papermill": {
     "duration": 0.046537,
     "end_time": "2022-04-10T00:37:21.707689",
     "exception": false,
     "start_time": "2022-04-10T00:37:21.661152",
     "status": "completed"
    },
    "tags": []
   },
   "outputs": [],
   "source": [
    "#hide\n",
    "# cols.insert(0, cols.pop())"
   ]
  },
  {
   "cell_type": "code",
   "execution_count": 30,
   "id": "executed-adoption",
   "metadata": {
    "execution": {
     "iopub.execute_input": "2022-04-10T00:37:21.791758Z",
     "iopub.status.busy": "2022-04-10T00:37:21.791090Z",
     "iopub.status.idle": "2022-04-10T00:37:21.793666Z",
     "shell.execute_reply": "2022-04-10T00:37:21.793081Z"
    },
    "papermill": {
     "duration": 0.046023,
     "end_time": "2022-04-10T00:37:21.793803",
     "exception": false,
     "start_time": "2022-04-10T00:37:21.747780",
     "status": "completed"
    },
    "tags": []
   },
   "outputs": [],
   "source": [
    "#hide\n",
    "# g = g[cols]"
   ]
  },
  {
   "cell_type": "code",
   "execution_count": 31,
   "id": "subject-dublin",
   "metadata": {
    "execution": {
     "iopub.execute_input": "2022-04-10T00:37:21.879053Z",
     "iopub.status.busy": "2022-04-10T00:37:21.878375Z",
     "iopub.status.idle": "2022-04-10T00:37:21.880822Z",
     "shell.execute_reply": "2022-04-10T00:37:21.880160Z"
    },
    "papermill": {
     "duration": 0.046832,
     "end_time": "2022-04-10T00:37:21.880963",
     "exception": false,
     "start_time": "2022-04-10T00:37:21.834131",
     "status": "completed"
    },
    "tags": []
   },
   "outputs": [],
   "source": [
    "#hide\n",
    "# g['continent'] = g['continent'].map(mapping['map.continent'])"
   ]
  },
  {
   "cell_type": "code",
   "execution_count": 32,
   "id": "freelance-scout",
   "metadata": {
    "execution": {
     "iopub.execute_input": "2022-04-10T00:37:21.965707Z",
     "iopub.status.busy": "2022-04-10T00:37:21.965002Z",
     "iopub.status.idle": "2022-04-10T00:37:21.967653Z",
     "shell.execute_reply": "2022-04-10T00:37:21.967123Z"
    },
    "papermill": {
     "duration": 0.047068,
     "end_time": "2022-04-10T00:37:21.967789",
     "exception": false,
     "start_time": "2022-04-10T00:37:21.920721",
     "status": "completed"
    },
    "tags": []
   },
   "outputs": [],
   "source": [
    "#hide\n",
    "# g.head()"
   ]
  },
  {
   "cell_type": "code",
   "execution_count": 33,
   "id": "limited-engine",
   "metadata": {
    "execution": {
     "iopub.execute_input": "2022-04-10T00:37:22.057075Z",
     "iopub.status.busy": "2022-04-10T00:37:22.056404Z",
     "iopub.status.idle": "2022-04-10T00:37:22.060985Z",
     "shell.execute_reply": "2022-04-10T00:37:22.060382Z"
    },
    "papermill": {
     "duration": 0.050043,
     "end_time": "2022-04-10T00:37:22.061129",
     "exception": false,
     "start_time": "2022-04-10T00:37:22.011086",
     "status": "completed"
    },
    "tags": []
   },
   "outputs": [],
   "source": [
    "# hide\n",
    "# g['date'] = g['date'].astype('datetime64[ns]')"
   ]
  },
  {
   "cell_type": "code",
   "execution_count": 34,
   "id": "sophisticated-supervisor",
   "metadata": {
    "execution": {
     "iopub.execute_input": "2022-04-10T00:37:22.147764Z",
     "iopub.status.busy": "2022-04-10T00:37:22.147106Z",
     "iopub.status.idle": "2022-04-10T00:37:22.149831Z",
     "shell.execute_reply": "2022-04-10T00:37:22.149152Z"
    },
    "papermill": {
     "duration": 0.046162,
     "end_time": "2022-04-10T00:37:22.149975",
     "exception": false,
     "start_time": "2022-04-10T00:37:22.103813",
     "status": "completed"
    },
    "tags": []
   },
   "outputs": [],
   "source": [
    "#hide\n",
    "# g['date'] = g.date.dt.dayofyear"
   ]
  },
  {
   "cell_type": "code",
   "execution_count": 35,
   "id": "inside-dubai",
   "metadata": {
    "execution": {
     "iopub.execute_input": "2022-04-10T00:37:22.236478Z",
     "iopub.status.busy": "2022-04-10T00:37:22.235801Z",
     "iopub.status.idle": "2022-04-10T00:37:22.238569Z",
     "shell.execute_reply": "2022-04-10T00:37:22.237996Z"
    },
    "papermill": {
     "duration": 0.04814,
     "end_time": "2022-04-10T00:37:22.238706",
     "exception": false,
     "start_time": "2022-04-10T00:37:22.190566",
     "status": "completed"
    },
    "tags": []
   },
   "outputs": [],
   "source": [
    "#hide\n",
    "# g = g.rename(columns= {'continent':'group','country':'name','cases':'value'})"
   ]
  },
  {
   "cell_type": "code",
   "execution_count": 36,
   "id": "fleet-motorcycle",
   "metadata": {
    "execution": {
     "iopub.execute_input": "2022-04-10T00:37:22.324211Z",
     "iopub.status.busy": "2022-04-10T00:37:22.323541Z",
     "iopub.status.idle": "2022-04-10T00:37:22.326152Z",
     "shell.execute_reply": "2022-04-10T00:37:22.325586Z"
    },
    "papermill": {
     "duration": 0.048189,
     "end_time": "2022-04-10T00:37:22.326290",
     "exception": false,
     "start_time": "2022-04-10T00:37:22.278101",
     "status": "completed"
    },
    "tags": []
   },
   "outputs": [],
   "source": [
    "#hide\n",
    "# cols = ['name','group','day','value']"
   ]
  },
  {
   "cell_type": "code",
   "execution_count": 37,
   "id": "continued-sleeping",
   "metadata": {
    "execution": {
     "iopub.execute_input": "2022-04-10T00:37:22.414349Z",
     "iopub.status.busy": "2022-04-10T00:37:22.413672Z",
     "iopub.status.idle": "2022-04-10T00:37:22.416257Z",
     "shell.execute_reply": "2022-04-10T00:37:22.415561Z"
    },
    "papermill": {
     "duration": 0.048721,
     "end_time": "2022-04-10T00:37:22.416393",
     "exception": false,
     "start_time": "2022-04-10T00:37:22.367672",
     "status": "completed"
    },
    "tags": []
   },
   "outputs": [],
   "source": [
    "#hide\n",
    "# g.rename(columns= {'date':'day'},inplace = True)"
   ]
  },
  {
   "cell_type": "code",
   "execution_count": 38,
   "id": "major-fight",
   "metadata": {
    "execution": {
     "iopub.execute_input": "2022-04-10T00:37:22.500797Z",
     "iopub.status.busy": "2022-04-10T00:37:22.500114Z",
     "iopub.status.idle": "2022-04-10T00:37:22.503674Z",
     "shell.execute_reply": "2022-04-10T00:37:22.502441Z"
    },
    "papermill": {
     "duration": 0.047074,
     "end_time": "2022-04-10T00:37:22.503825",
     "exception": false,
     "start_time": "2022-04-10T00:37:22.456751",
     "status": "completed"
    },
    "tags": []
   },
   "outputs": [],
   "source": [
    "#hide\n",
    "# g = g[cols]"
   ]
  },
  {
   "cell_type": "code",
   "execution_count": 39,
   "id": "structured-mobile",
   "metadata": {
    "execution": {
     "iopub.execute_input": "2022-04-10T00:37:22.597347Z",
     "iopub.status.busy": "2022-04-10T00:37:22.596653Z",
     "iopub.status.idle": "2022-04-10T00:37:22.599221Z",
     "shell.execute_reply": "2022-04-10T00:37:22.598659Z"
    },
    "papermill": {
     "duration": 0.046266,
     "end_time": "2022-04-10T00:37:22.599354",
     "exception": false,
     "start_time": "2022-04-10T00:37:22.553088",
     "status": "completed"
    },
    "tags": []
   },
   "outputs": [],
   "source": [
    "# #hide\n",
    "# g = g[g.group.notna()]"
   ]
  },
  {
   "cell_type": "code",
   "execution_count": 40,
   "id": "determined-closing",
   "metadata": {
    "execution": {
     "iopub.execute_input": "2022-04-10T00:37:22.695223Z",
     "iopub.status.busy": "2022-04-10T00:37:22.694543Z",
     "iopub.status.idle": "2022-04-10T00:37:22.698488Z",
     "shell.execute_reply": "2022-04-10T00:37:22.698993Z"
    },
    "papermill": {
     "duration": 0.050227,
     "end_time": "2022-04-10T00:37:22.699157",
     "exception": false,
     "start_time": "2022-04-10T00:37:22.648930",
     "status": "completed"
    },
    "tags": []
   },
   "outputs": [],
   "source": [
    "# #hide\n",
    "# colors = dict(zip(\n",
    "#     [\"Oceania\", \"Europe\", \"Asia\", \"South America\", \"Middle East\", \"North America\", \"Africa\"],\n",
    "#     [\"#adb0ff\", \"#ffb3ff\", \"#90d595\", \"#e48381\", \"#aafbff\", \"#f7bb5f\", \"#eafb50\"]\n",
    "# ))\n",
    "# group_lk = g.set_index('name')['group'].to_dict()"
   ]
  },
  {
   "cell_type": "code",
   "execution_count": null,
   "id": "gross-drinking",
   "metadata": {
    "papermill": {
     "duration": 0.043474,
     "end_time": "2022-04-10T00:37:22.782901",
     "exception": false,
     "start_time": "2022-04-10T00:37:22.739427",
     "status": "completed"
    },
    "tags": []
   },
   "outputs": [],
   "source": []
  },
  {
   "cell_type": "code",
   "execution_count": 41,
   "id": "subject-macintosh",
   "metadata": {
    "execution": {
     "iopub.execute_input": "2022-04-10T00:37:22.868545Z",
     "iopub.status.busy": "2022-04-10T00:37:22.867859Z",
     "iopub.status.idle": "2022-04-10T00:37:22.871754Z",
     "shell.execute_reply": "2022-04-10T00:37:22.871029Z"
    },
    "papermill": {
     "duration": 0.048825,
     "end_time": "2022-04-10T00:37:22.871896",
     "exception": false,
     "start_time": "2022-04-10T00:37:22.823071",
     "status": "completed"
    },
    "tags": []
   },
   "outputs": [],
   "source": [
    "# #hide\n",
    "# fig, ax = plt.subplots(figsize=(15, 8))\n",
    "\n",
    "# def draw_barchart(current_day):\n",
    "#     dff = g[g['day'].eq(current_day)].sort_values(by='value', ascending=True).tail(10)\n",
    "#     ax.clear()\n",
    "#     ax.barh(dff['name'], dff['value'], color=[colors[group_lk[x]] for x in dff['name']])\n",
    "#     dx = dff['value'].max() / 200\n",
    "    \n",
    "#     for i, (value, name) in enumerate(zip(dff['value'], dff['name'])):\n",
    "#         ax.text(value-dx, i,     name,           size=14, weight=600, ha='right', va='bottom')\n",
    "#         ax.text(value-dx, i-.25, group_lk[name], size=10, color='#444444', ha='right', va='baseline')\n",
    "#         ax.text(value+dx, i,     f'{value:,.0f}',  size=14, ha='left',  va='center')\n",
    "#     ax.text(1, 0.4, current_day, transform=ax.transAxes, color='#777777', size=46, ha='right', weight=800)\n",
    "#     ax.text(0, 1.06, 'Population (thousands)', transform=ax.transAxes, size=12, color='#777777')\n",
    "#     ax.xaxis.set_major_formatter(ticker.StrMethodFormatter('{x:,.0f}'))\n",
    "#     ax.xaxis.set_ticks_position('top')\n",
    "#     ax.tick_params(axis='x', colors='#777777', labelsize=12)\n",
    "#     ax.set_yticks([])\n",
    "#     ax.margins(0, 0.01)\n",
    "#     ax.grid(which='major', axis='x', linestyle='-')\n",
    "#     ax.set_axisbelow(True)\n",
    "    \n",
    "#     ax.text(0, 1.15, 'Coronavirus',\n",
    "#             transform=ax.transAxes, size=24, weight=600, ha='left', va='top')\n",
    "# #     ax.text(1, 0, 'by @pratapvardhan; credit @jburnmurdoch', transform=ax.transAxes, color='#777777', ha='right',\n",
    "# #             bbox=dict(facecolor='white', alpha=0.8, edgecolor='white'))\n",
    "#     plt.box(False)"
   ]
  },
  {
   "cell_type": "code",
   "execution_count": 42,
   "id": "sexual-wages",
   "metadata": {
    "execution": {
     "iopub.execute_input": "2022-04-10T00:37:22.961326Z",
     "iopub.status.busy": "2022-04-10T00:37:22.960624Z",
     "iopub.status.idle": "2022-04-10T00:37:22.963993Z",
     "shell.execute_reply": "2022-04-10T00:37:22.964499Z"
    },
    "papermill": {
     "duration": 0.047219,
     "end_time": "2022-04-10T00:37:22.964656",
     "exception": false,
     "start_time": "2022-04-10T00:37:22.917437",
     "status": "completed"
    },
    "tags": []
   },
   "outputs": [],
   "source": [
    "# #hide_input\n",
    "# fig, ax = plt.subplots(figsize=(15, 8))\n",
    "# animator = animation.FuncAnimation(fig, draw_barchart, frames=range(g.day.values.min(), g.day.values.max()))\n",
    "# HTML(animator.to_jshtml())\n",
    "# # or use animator.to_html5_video() or animator.save() "
   ]
  },
  {
   "cell_type": "code",
   "execution_count": null,
   "id": "australian-container",
   "metadata": {
    "papermill": {
     "duration": 0.047098,
     "end_time": "2022-04-10T00:37:23.051072",
     "exception": false,
     "start_time": "2022-04-10T00:37:23.003974",
     "status": "completed"
    },
    "tags": []
   },
   "outputs": [],
   "source": []
  },
  {
   "cell_type": "code",
   "execution_count": null,
   "id": "mediterranean-pontiac",
   "metadata": {
    "papermill": {
     "duration": 0.043335,
     "end_time": "2022-04-10T00:37:23.135304",
     "exception": false,
     "start_time": "2022-04-10T00:37:23.091969",
     "status": "completed"
    },
    "tags": []
   },
   "outputs": [],
   "source": []
  },
  {
   "cell_type": "code",
   "execution_count": null,
   "id": "aging-legislature",
   "metadata": {
    "papermill": {
     "duration": 0.04095,
     "end_time": "2022-04-10T00:37:23.215504",
     "exception": false,
     "start_time": "2022-04-10T00:37:23.174554",
     "status": "completed"
    },
    "tags": []
   },
   "outputs": [],
   "source": []
  }
 ],
 "metadata": {
  "kernelspec": {
   "display_name": "Python 3",
   "language": "python",
   "name": "python3"
  },
  "language_info": {
   "codemirror_mode": {
    "name": "ipython",
    "version": 3
   },
   "file_extension": ".py",
   "mimetype": "text/x-python",
   "name": "python",
   "nbconvert_exporter": "python",
   "pygments_lexer": "ipython3",
   "version": "3.6.15"
  },
  "papermill": {
   "duration": 7.792764,
   "end_time": "2022-04-10T00:37:23.675242",
   "environment_variables": {},
   "exception": null,
   "input_path": "2020-03-21-covid19exp.ipynb",
   "output_path": "2020-03-21-covid19exp.ipynb",
   "parameters": {},
   "start_time": "2022-04-10T00:37:15.882478",
   "version": "2.0.0"
  }
 },
 "nbformat": 4,
 "nbformat_minor": 5
}