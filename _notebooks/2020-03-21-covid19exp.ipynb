{
 "cells": [
  {
   "cell_type": "markdown",
   "id": "muslim-click",
   "metadata": {
    "papermill": {
     "duration": 0.048314,
     "end_time": "2021-07-06T12:10:26.762320",
     "exception": false,
     "start_time": "2021-07-06T12:10:26.714006",
     "status": "completed"
    },
    "tags": []
   },
   "source": [
    "# COVID-19 Case Race\n",
    "> A race chart to see rising cases around the world\n",
    "\n",
    "- author: Hargun Oberoi\n",
    "- image: images/covid-overview.png\n",
    "- hide: false\n",
    "- badges: false"
   ]
  },
  {
   "cell_type": "code",
   "execution_count": 1,
   "id": "proof-material",
   "metadata": {
    "execution": {
     "iopub.execute_input": "2021-07-06T12:10:26.848762Z",
     "iopub.status.busy": "2021-07-06T12:10:26.848167Z",
     "iopub.status.idle": "2021-07-06T12:10:27.224101Z",
     "shell.execute_reply": "2021-07-06T12:10:27.223340Z"
    },
    "papermill": {
     "duration": 0.421475,
     "end_time": "2021-07-06T12:10:27.224268",
     "exception": false,
     "start_time": "2021-07-06T12:10:26.802793",
     "status": "completed"
    },
    "tags": []
   },
   "outputs": [],
   "source": [
    "#hide\n",
    "import numpy as np\n",
    "import pandas as pd\n",
    "from jinja2 import Template\n",
    "from IPython.display import HTML"
   ]
  },
  {
   "cell_type": "code",
   "execution_count": 2,
   "id": "developed-terminology",
   "metadata": {
    "execution": {
     "iopub.execute_input": "2021-07-06T12:10:27.301898Z",
     "iopub.status.busy": "2021-07-06T12:10:27.300280Z",
     "iopub.status.idle": "2021-07-06T12:10:27.304006Z",
     "shell.execute_reply": "2021-07-06T12:10:27.304708Z"
    },
    "papermill": {
     "duration": 0.04336,
     "end_time": "2021-07-06T12:10:27.304834",
     "exception": false,
     "start_time": "2021-07-06T12:10:27.261474",
     "status": "completed"
    },
    "tags": []
   },
   "outputs": [],
   "source": [
    "#hide\n",
    "\n",
    "# FETCH\n",
    "base_url = 'https://raw.githubusercontent.com/pratapvardhan/notebooks/master/covid19/'\n",
    "paths = {\n",
    "    'mapping': base_url + 'mapping_countries.csv',\n",
    "    'overview': base_url + 'overview.tpl'\n",
    "}"
   ]
  },
  {
   "cell_type": "code",
   "execution_count": 3,
   "id": "dynamic-saver",
   "metadata": {
    "execution": {
     "iopub.execute_input": "2021-07-06T12:10:27.387619Z",
     "iopub.status.busy": "2021-07-06T12:10:27.386884Z",
     "iopub.status.idle": "2021-07-06T12:10:27.390338Z",
     "shell.execute_reply": "2021-07-06T12:10:27.389797Z"
    },
    "papermill": {
     "duration": 0.050538,
     "end_time": "2021-07-06T12:10:27.390504",
     "exception": false,
     "start_time": "2021-07-06T12:10:27.339966",
     "status": "completed"
    },
    "tags": []
   },
   "outputs": [
    {
     "data": {
      "text/plain": [
       "'https://raw.githubusercontent.com/pratapvardhan/notebooks/master/covid19/mapping_countries.csv'"
      ]
     },
     "execution_count": 3,
     "metadata": {},
     "output_type": "execute_result"
    }
   ],
   "source": [
    "#hide\n",
    "paths['mapping']"
   ]
  },
  {
   "cell_type": "code",
   "execution_count": 4,
   "id": "urban-software",
   "metadata": {
    "execution": {
     "iopub.execute_input": "2021-07-06T12:10:27.469320Z",
     "iopub.status.busy": "2021-07-06T12:10:27.468694Z",
     "iopub.status.idle": "2021-07-06T12:10:27.470681Z",
     "shell.execute_reply": "2021-07-06T12:10:27.471228Z"
    },
    "papermill": {
     "duration": 0.045324,
     "end_time": "2021-07-06T12:10:27.471377",
     "exception": false,
     "start_time": "2021-07-06T12:10:27.426053",
     "status": "completed"
    },
    "tags": []
   },
   "outputs": [],
   "source": [
    "#hide\n",
    "def get_mappings(url):\n",
    "    df = pd.read_csv(url)\n",
    "    return {\n",
    "        'df': df,\n",
    "        'replace.country': dict(df.dropna(subset=['Name']).set_index('Country')['Name']),\n",
    "        'map.continent': dict(df.set_index('Name')['Continent'])\n",
    "    }"
   ]
  },
  {
   "cell_type": "code",
   "execution_count": 5,
   "id": "intimate-machinery",
   "metadata": {
    "execution": {
     "iopub.execute_input": "2021-07-06T12:10:27.553849Z",
     "iopub.status.busy": "2021-07-06T12:10:27.553224Z",
     "iopub.status.idle": "2021-07-06T12:10:27.593037Z",
     "shell.execute_reply": "2021-07-06T12:10:27.592551Z"
    },
    "papermill": {
     "duration": 0.085787,
     "end_time": "2021-07-06T12:10:27.593210",
     "exception": false,
     "start_time": "2021-07-06T12:10:27.507423",
     "status": "completed"
    },
    "tags": []
   },
   "outputs": [],
   "source": [
    "#hide\n",
    "mapping = get_mappings(paths['mapping'])"
   ]
  },
  {
   "cell_type": "code",
   "execution_count": 6,
   "id": "certified-tactics",
   "metadata": {
    "execution": {
     "iopub.execute_input": "2021-07-06T12:10:27.677506Z",
     "iopub.status.busy": "2021-07-06T12:10:27.676901Z",
     "iopub.status.idle": "2021-07-06T12:10:27.679338Z",
     "shell.execute_reply": "2021-07-06T12:10:27.678762Z"
    },
    "papermill": {
     "duration": 0.045491,
     "end_time": "2021-07-06T12:10:27.679513",
     "exception": false,
     "start_time": "2021-07-06T12:10:27.634022",
     "status": "completed"
    },
    "tags": []
   },
   "outputs": [],
   "source": [
    "#hide\n",
    "def get_template(path):\n",
    "    from urllib.parse import urlparse\n",
    "    if bool(urlparse(path).netloc):\n",
    "        from urllib.request import urlopen\n",
    "        return urlopen(path).read().decode('utf8')\n",
    "    return open(path).read()"
   ]
  },
  {
   "cell_type": "code",
   "execution_count": 7,
   "id": "realistic-blast",
   "metadata": {
    "execution": {
     "iopub.execute_input": "2021-07-06T12:10:27.759398Z",
     "iopub.status.busy": "2021-07-06T12:10:27.758599Z",
     "iopub.status.idle": "2021-07-06T12:10:27.761316Z",
     "shell.execute_reply": "2021-07-06T12:10:27.760747Z"
    },
    "papermill": {
     "duration": 0.04528,
     "end_time": "2021-07-06T12:10:27.761477",
     "exception": false,
     "start_time": "2021-07-06T12:10:27.716197",
     "status": "completed"
    },
    "tags": []
   },
   "outputs": [],
   "source": [
    "#hide\n",
    "def get_frame(name):\n",
    "    url = (\n",
    "        'https://raw.githubusercontent.com/CSSEGISandData/COVID-19/master/csse_covid_19_data/'\n",
    "        f'csse_covid_19_time_series/time_series_covid19_{name}_global.csv')\n",
    "    df = pd.read_csv(url)\n",
    "    # rename countries\n",
    "    df['Country/Region'] = df['Country/Region'].replace(mapping['replace.country'])\n",
    "    return df"
   ]
  },
  {
   "cell_type": "code",
   "execution_count": 8,
   "id": "affiliated-characterization",
   "metadata": {
    "execution": {
     "iopub.execute_input": "2021-07-06T12:10:27.844446Z",
     "iopub.status.busy": "2021-07-06T12:10:27.843662Z",
     "iopub.status.idle": "2021-07-06T12:10:27.846354Z",
     "shell.execute_reply": "2021-07-06T12:10:27.845610Z"
    },
    "papermill": {
     "duration": 0.045575,
     "end_time": "2021-07-06T12:10:27.846478",
     "exception": false,
     "start_time": "2021-07-06T12:10:27.800903",
     "status": "completed"
    },
    "tags": []
   },
   "outputs": [],
   "source": [
    "#hide\n",
    "def get_dates(df):\n",
    "    dt_cols = df.columns[~df.columns.isin(['Province/State', 'Country/Region', 'Lat', 'Long'])]\n",
    "    LAST_DATE_I = -1\n",
    "    # sometimes last column may be empty, then go backwards\n",
    "    for i in range(-1, -len(dt_cols), -1):\n",
    "        if not df[dt_cols[i]].fillna(0).eq(0).all():\n",
    "            LAST_DATE_I = i\n",
    "            break\n",
    "    return LAST_DATE_I, dt_cols"
   ]
  },
  {
   "cell_type": "code",
   "execution_count": 9,
   "id": "recent-optimization",
   "metadata": {
    "execution": {
     "iopub.execute_input": "2021-07-06T12:10:27.929424Z",
     "iopub.status.busy": "2021-07-06T12:10:27.928627Z",
     "iopub.status.idle": "2021-07-06T12:10:28.311275Z",
     "shell.execute_reply": "2021-07-06T12:10:28.310060Z"
    },
    "papermill": {
     "duration": 0.42605,
     "end_time": "2021-07-06T12:10:28.311443",
     "exception": false,
     "start_time": "2021-07-06T12:10:27.885393",
     "status": "completed"
    },
    "tags": []
   },
   "outputs": [],
   "source": [
    "#hide\n",
    "COL_REGION = 'Country/Region'\n",
    "# Confirmed, Recovered, Deaths\n",
    "df = get_frame('confirmed')\n",
    "# dft_: timeseries, dfc_: today country agg\n",
    "dft_cases = df\n",
    "dft_deaths = get_frame('deaths')\n",
    "dft_recovered = get_frame('recovered')\n",
    "LAST_DATE_I, dt_cols = get_dates(df)"
   ]
  },
  {
   "cell_type": "code",
   "execution_count": 10,
   "id": "absolute-copper",
   "metadata": {
    "execution": {
     "iopub.execute_input": "2021-07-06T12:10:28.387473Z",
     "iopub.status.busy": "2021-07-06T12:10:28.386764Z",
     "iopub.status.idle": "2021-07-06T12:10:28.389406Z",
     "shell.execute_reply": "2021-07-06T12:10:28.388709Z"
    },
    "papermill": {
     "duration": 0.042161,
     "end_time": "2021-07-06T12:10:28.389537",
     "exception": false,
     "start_time": "2021-07-06T12:10:28.347376",
     "status": "completed"
    },
    "tags": []
   },
   "outputs": [],
   "source": [
    "#hide\n",
    "LAST_DATE_I, dt_cols = get_dates(df)\n",
    "dt_today =dt_cols[LAST_DATE_I]\n",
    "# dt_5day = dt_cols[LAST_DATE_I - 5]\n",
    "dt_yday = dt_cols[LAST_DATE_I - 1]"
   ]
  },
  {
   "cell_type": "code",
   "execution_count": 11,
   "id": "restricted-sheriff",
   "metadata": {
    "execution": {
     "iopub.execute_input": "2021-07-06T12:10:28.469322Z",
     "iopub.status.busy": "2021-07-06T12:10:28.468673Z",
     "iopub.status.idle": "2021-07-06T12:10:28.475111Z",
     "shell.execute_reply": "2021-07-06T12:10:28.475641Z"
    },
    "papermill": {
     "duration": 0.0499,
     "end_time": "2021-07-06T12:10:28.475770",
     "exception": false,
     "start_time": "2021-07-06T12:10:28.425870",
     "status": "completed"
    },
    "tags": []
   },
   "outputs": [],
   "source": [
    "#hide\n",
    "dfc_cases = dft_cases.groupby(COL_REGION)[dt_today].sum()\n",
    "dfc_deaths = dft_deaths.groupby(COL_REGION)[dt_today].sum()\n",
    "# dfp_cases = dft_cases.groupby(COL_REGION)[dt_5day].sum()\n",
    "# dfp_deaths = dft_deaths.groupby(COL_REGION)[dt_5day].sum()\n",
    "dfp_cases = dft_cases.groupby(COL_REGION)[dt_yday].sum()\n",
    "dfp_deaths = dft_deaths.groupby(COL_REGION)[dt_yday].sum()"
   ]
  },
  {
   "cell_type": "code",
   "execution_count": 12,
   "id": "deluxe-hepatitis",
   "metadata": {
    "execution": {
     "iopub.execute_input": "2021-07-06T12:10:28.553221Z",
     "iopub.status.busy": "2021-07-06T12:10:28.552571Z",
     "iopub.status.idle": "2021-07-06T12:10:28.557920Z",
     "shell.execute_reply": "2021-07-06T12:10:28.557433Z"
    },
    "papermill": {
     "duration": 0.046688,
     "end_time": "2021-07-06T12:10:28.558133",
     "exception": false,
     "start_time": "2021-07-06T12:10:28.511445",
     "status": "completed"
    },
    "tags": []
   },
   "outputs": [],
   "source": [
    "#hide\n",
    "df_table = (pd.DataFrame(dict(Cases = dfc_cases, Deaths = dfc_deaths, PCases = dfp_cases, PDeaths = dfp_deaths))\n",
    "            .sort_values(by = ['Cases','Deaths'], ascending = [False, False])\n",
    "            .reset_index())"
   ]
  },
  {
   "cell_type": "code",
   "execution_count": 13,
   "id": "educational-chancellor",
   "metadata": {
    "execution": {
     "iopub.execute_input": "2021-07-06T12:10:28.651090Z",
     "iopub.status.busy": "2021-07-06T12:10:28.650455Z",
     "iopub.status.idle": "2021-07-06T12:10:28.659847Z",
     "shell.execute_reply": "2021-07-06T12:10:28.659054Z"
    },
    "papermill": {
     "duration": 0.065955,
     "end_time": "2021-07-06T12:10:28.659972",
     "exception": false,
     "start_time": "2021-07-06T12:10:28.594017",
     "status": "completed"
    },
    "tags": []
   },
   "outputs": [
    {
     "data": {
      "text/html": [
       "<div>\n",
       "<style scoped>\n",
       "    .dataframe tbody tr th:only-of-type {\n",
       "        vertical-align: middle;\n",
       "    }\n",
       "\n",
       "    .dataframe tbody tr th {\n",
       "        vertical-align: top;\n",
       "    }\n",
       "\n",
       "    .dataframe thead th {\n",
       "        text-align: right;\n",
       "    }\n",
       "</style>\n",
       "<table border=\"1\" class=\"dataframe\">\n",
       "  <thead>\n",
       "    <tr style=\"text-align: right;\">\n",
       "      <th></th>\n",
       "      <th>Country/Region</th>\n",
       "      <th>Cases</th>\n",
       "      <th>Deaths</th>\n",
       "      <th>PCases</th>\n",
       "      <th>PDeaths</th>\n",
       "      <th>Cases (+)</th>\n",
       "      <th>Deaths (+)</th>\n",
       "      <th>Fatality Rate</th>\n",
       "      <th>Continent</th>\n",
       "    </tr>\n",
       "  </thead>\n",
       "  <tbody>\n",
       "    <tr>\n",
       "      <th>0</th>\n",
       "      <td>US</td>\n",
       "      <td>33723095</td>\n",
       "      <td>605567</td>\n",
       "      <td>33717567</td>\n",
       "      <td>605526</td>\n",
       "      <td>5528</td>\n",
       "      <td>41</td>\n",
       "      <td>1.80</td>\n",
       "      <td>North America</td>\n",
       "    </tr>\n",
       "    <tr>\n",
       "      <th>1</th>\n",
       "      <td>India</td>\n",
       "      <td>30619932</td>\n",
       "      <td>403281</td>\n",
       "      <td>30585229</td>\n",
       "      <td>402728</td>\n",
       "      <td>34703</td>\n",
       "      <td>553</td>\n",
       "      <td>1.32</td>\n",
       "      <td>Asia</td>\n",
       "    </tr>\n",
       "    <tr>\n",
       "      <th>2</th>\n",
       "      <td>Brazil</td>\n",
       "      <td>18792511</td>\n",
       "      <td>525112</td>\n",
       "      <td>18769808</td>\n",
       "      <td>524417</td>\n",
       "      <td>22703</td>\n",
       "      <td>695</td>\n",
       "      <td>2.79</td>\n",
       "      <td>South America</td>\n",
       "    </tr>\n",
       "    <tr>\n",
       "      <th>3</th>\n",
       "      <td>France</td>\n",
       "      <td>5848973</td>\n",
       "      <td>111360</td>\n",
       "      <td>5848171</td>\n",
       "      <td>111323</td>\n",
       "      <td>802</td>\n",
       "      <td>37</td>\n",
       "      <td>1.90</td>\n",
       "      <td>Europe</td>\n",
       "    </tr>\n",
       "    <tr>\n",
       "      <th>4</th>\n",
       "      <td>Russia</td>\n",
       "      <td>5568104</td>\n",
       "      <td>136279</td>\n",
       "      <td>5544209</td>\n",
       "      <td>135637</td>\n",
       "      <td>23895</td>\n",
       "      <td>642</td>\n",
       "      <td>2.45</td>\n",
       "      <td>Europe</td>\n",
       "    </tr>\n",
       "  </tbody>\n",
       "</table>\n",
       "</div>"
      ],
      "text/plain": [
       "  Country/Region     Cases  Deaths    PCases  PDeaths  Cases (+)  Deaths (+)  \\\n",
       "0             US  33723095  605567  33717567   605526       5528          41   \n",
       "1          India  30619932  403281  30585229   402728      34703         553   \n",
       "2         Brazil  18792511  525112  18769808   524417      22703         695   \n",
       "3         France   5848973  111360   5848171   111323        802          37   \n",
       "4         Russia   5568104  136279   5544209   135637      23895         642   \n",
       "\n",
       "   Fatality Rate      Continent  \n",
       "0           1.80  North America  \n",
       "1           1.32           Asia  \n",
       "2           2.79  South America  \n",
       "3           1.90         Europe  \n",
       "4           2.45         Europe  "
      ]
     },
     "execution_count": 13,
     "metadata": {},
     "output_type": "execute_result"
    }
   ],
   "source": [
    "#hide\n",
    "for c in 'Cases, Deaths'.split(', '):\n",
    "    df_table[f'{c} (+)'] = (df_table[c] - df_table[f'P{c}']).clip(0)\n",
    "    #Clip ça veut dire, les chiffres negatif sont interdit\n",
    "df_table['Fatality Rate'] = (100* df_table['Deaths']/ df_table['Cases']).round(2)\n",
    "df_table['Continent'] = df_table['Country/Region'].map(mapping['map.continent'])\n",
    "df_table.head(5)"
   ]
  },
  {
   "cell_type": "code",
   "execution_count": 14,
   "id": "aboriginal-bulgaria",
   "metadata": {
    "execution": {
     "iopub.execute_input": "2021-07-06T12:10:28.741116Z",
     "iopub.status.busy": "2021-07-06T12:10:28.740230Z",
     "iopub.status.idle": "2021-07-06T12:10:28.743613Z",
     "shell.execute_reply": "2021-07-06T12:10:28.744227Z"
    },
    "papermill": {
     "duration": 0.048272,
     "end_time": "2021-07-06T12:10:28.744373",
     "exception": false,
     "start_time": "2021-07-06T12:10:28.696101",
     "status": "completed"
    },
    "tags": []
   },
   "outputs": [],
   "source": [
    "#hide\n",
    "#delete problematic countries from table\n",
    "df_table = df_table[~df_table['Country/Region'].isin(['Cape Verde', 'Cruise Ship', 'Kosovo'])]"
   ]
  },
  {
   "cell_type": "code",
   "execution_count": 15,
   "id": "fantastic-effect",
   "metadata": {
    "execution": {
     "iopub.execute_input": "2021-07-06T12:10:28.824897Z",
     "iopub.status.busy": "2021-07-06T12:10:28.824261Z",
     "iopub.status.idle": "2021-07-06T12:10:28.846260Z",
     "shell.execute_reply": "2021-07-06T12:10:28.845813Z"
    },
    "papermill": {
     "duration": 0.067385,
     "end_time": "2021-07-06T12:10:28.846451",
     "exception": false,
     "start_time": "2021-07-06T12:10:28.779066",
     "status": "completed"
    },
    "tags": []
   },
   "outputs": [
    {
     "data": {
      "text/html": [
       "<div>\n",
       "<style scoped>\n",
       "    .dataframe tbody tr th:only-of-type {\n",
       "        vertical-align: middle;\n",
       "    }\n",
       "\n",
       "    .dataframe tbody tr th {\n",
       "        vertical-align: top;\n",
       "    }\n",
       "\n",
       "    .dataframe thead th {\n",
       "        text-align: right;\n",
       "    }\n",
       "</style>\n",
       "<table border=\"1\" class=\"dataframe\">\n",
       "  <thead>\n",
       "    <tr style=\"text-align: right;\">\n",
       "      <th></th>\n",
       "      <th>Country/Region</th>\n",
       "      <th>Cases</th>\n",
       "      <th>Deaths</th>\n",
       "      <th>PCases</th>\n",
       "      <th>PDeaths</th>\n",
       "      <th>Cases (+)</th>\n",
       "      <th>Deaths (+)</th>\n",
       "      <th>Fatality Rate</th>\n",
       "      <th>Continent</th>\n",
       "    </tr>\n",
       "  </thead>\n",
       "  <tbody>\n",
       "    <tr>\n",
       "      <th>0</th>\n",
       "      <td>US</td>\n",
       "      <td>33723095</td>\n",
       "      <td>605567</td>\n",
       "      <td>33717567</td>\n",
       "      <td>605526</td>\n",
       "      <td>5528</td>\n",
       "      <td>41</td>\n",
       "      <td>1.8</td>\n",
       "      <td>North America</td>\n",
       "    </tr>\n",
       "    <tr>\n",
       "      <th>1</th>\n",
       "      <td>India</td>\n",
       "      <td>30619932</td>\n",
       "      <td>403281</td>\n",
       "      <td>30585229</td>\n",
       "      <td>402728</td>\n",
       "      <td>34703</td>\n",
       "      <td>553</td>\n",
       "      <td>1.3</td>\n",
       "      <td>Asia</td>\n",
       "    </tr>\n",
       "    <tr>\n",
       "      <th>2</th>\n",
       "      <td>Brazil</td>\n",
       "      <td>18792511</td>\n",
       "      <td>525112</td>\n",
       "      <td>18769808</td>\n",
       "      <td>524417</td>\n",
       "      <td>22703</td>\n",
       "      <td>695</td>\n",
       "      <td>2.8</td>\n",
       "      <td>South America</td>\n",
       "    </tr>\n",
       "    <tr>\n",
       "      <th>3</th>\n",
       "      <td>France</td>\n",
       "      <td>5848973</td>\n",
       "      <td>111360</td>\n",
       "      <td>5848171</td>\n",
       "      <td>111323</td>\n",
       "      <td>802</td>\n",
       "      <td>37</td>\n",
       "      <td>1.9</td>\n",
       "      <td>Europe</td>\n",
       "    </tr>\n",
       "    <tr>\n",
       "      <th>4</th>\n",
       "      <td>Russia</td>\n",
       "      <td>5568104</td>\n",
       "      <td>136279</td>\n",
       "      <td>5544209</td>\n",
       "      <td>135637</td>\n",
       "      <td>23895</td>\n",
       "      <td>642</td>\n",
       "      <td>2.4</td>\n",
       "      <td>Europe</td>\n",
       "    </tr>\n",
       "  </tbody>\n",
       "</table>\n",
       "</div>"
      ],
      "text/plain": [
       "  Country/Region     Cases  Deaths    PCases  PDeaths  Cases (+)  Deaths (+)  \\\n",
       "0             US  33723095  605567  33717567   605526       5528          41   \n",
       "1          India  30619932  403281  30585229   402728      34703         553   \n",
       "2         Brazil  18792511  525112  18769808   524417      22703         695   \n",
       "3         France   5848973  111360   5848171   111323        802          37   \n",
       "4         Russia   5568104  136279   5544209   135637      23895         642   \n",
       "\n",
       "   Fatality Rate      Continent  \n",
       "0            1.8  North America  \n",
       "1            1.3           Asia  \n",
       "2            2.8  South America  \n",
       "3            1.9         Europe  \n",
       "4            2.4         Europe  "
      ]
     },
     "execution_count": 15,
     "metadata": {},
     "output_type": "execute_result"
    }
   ],
   "source": [
    "#hide\n",
    "df_table = (pd.DataFrame(dict(Cases=dfc_cases, Deaths=dfc_deaths, PCases=dfp_cases, PDeaths=dfp_deaths))\n",
    "             .sort_values(by=['Cases', 'Deaths'], ascending=[False, False])\n",
    "             .reset_index())\n",
    "df_table.rename(columns={'index': 'Country/Region'}, inplace=True)\n",
    "for c in 'Cases, Deaths'.split(', '):\n",
    "    df_table[f'{c} (+)'] = (df_table[c] - df_table[f'P{c}']).clip(0)  # DATA BUG\n",
    "df_table['Fatality Rate'] = (100 * df_table['Deaths'] / df_table['Cases']).round(1)\n",
    "df_table['Continent'] = df_table['Country/Region'].map(mapping['map.continent'])\n",
    "df_table.head(5)"
   ]
  },
  {
   "cell_type": "code",
   "execution_count": 16,
   "id": "fewer-occasion",
   "metadata": {
    "execution": {
     "iopub.execute_input": "2021-07-06T12:10:28.931799Z",
     "iopub.status.busy": "2021-07-06T12:10:28.931093Z",
     "iopub.status.idle": "2021-07-06T12:10:28.934452Z",
     "shell.execute_reply": "2021-07-06T12:10:28.935137Z"
    },
    "papermill": {
     "duration": 0.046057,
     "end_time": "2021-07-06T12:10:28.935283",
     "exception": false,
     "start_time": "2021-07-06T12:10:28.889226",
     "status": "completed"
    },
    "tags": []
   },
   "outputs": [],
   "source": [
    "#hide\n",
    "#delete problematic countries from table\n",
    "df_table = df_table[~df_table['Country/Region'].isin(['Cape Verde', 'Cruise Ship', 'Kosovo'])]"
   ]
  },
  {
   "cell_type": "code",
   "execution_count": 17,
   "id": "related-center",
   "metadata": {
    "execution": {
     "iopub.execute_input": "2021-07-06T12:10:29.023133Z",
     "iopub.status.busy": "2021-07-06T12:10:29.022535Z",
     "iopub.status.idle": "2021-07-06T12:10:29.031960Z",
     "shell.execute_reply": "2021-07-06T12:10:29.031437Z"
    },
    "papermill": {
     "duration": 0.060082,
     "end_time": "2021-07-06T12:10:29.032064",
     "exception": false,
     "start_time": "2021-07-06T12:10:28.971982",
     "status": "completed"
    },
    "tags": []
   },
   "outputs": [],
   "source": [
    "#hide\n",
    "metrics = [df_table.columns[index] for index in [1,2,5,6]]\n",
    "# s_china = df_table[df_table['Country/Region'].eq('China')][metrics].sum().add_prefix('China ')\n",
    "s_us = df_table[df_table['Country/Region'].eq('US')][metrics].sum().add_prefix('US ')\n",
    "s_eu = df_table[df_table['Continent'].eq('Europe')][metrics].sum().add_prefix('EU ')\n",
    "s_ind = df_table[df_table['Country/Region'].eq('India')][metrics].sum().add_prefix('India ')\n",
    "summary = {'updated': pd.to_datetime(dt_today), 'since': pd.to_datetime(dt_yday)}\n",
    "summary = {'updated': pd.to_datetime(dt_today), 'since': pd.to_datetime(dt_yday)}\n",
    "summary = {**summary, **df_table[metrics].sum(), **s_ind, **s_us, **s_eu}"
   ]
  },
  {
   "cell_type": "code",
   "execution_count": 18,
   "id": "engaging-syndrome",
   "metadata": {
    "execution": {
     "iopub.execute_input": "2021-07-06T12:10:29.113384Z",
     "iopub.status.busy": "2021-07-06T12:10:29.112779Z",
     "iopub.status.idle": "2021-07-06T12:10:29.126890Z",
     "shell.execute_reply": "2021-07-06T12:10:29.127439Z"
    },
    "papermill": {
     "duration": 0.0579,
     "end_time": "2021-07-06T12:10:29.127622",
     "exception": false,
     "start_time": "2021-07-06T12:10:29.069722",
     "status": "completed"
    },
    "tags": []
   },
   "outputs": [],
   "source": [
    "#hide\n",
    "dft_ct_new_cases = dft_cases.groupby(COL_REGION)[dt_cols].sum().diff(axis=1).fillna(0).astype(int)"
   ]
  },
  {
   "cell_type": "code",
   "execution_count": 19,
   "id": "neutral-assignment",
   "metadata": {
    "execution": {
     "iopub.execute_input": "2021-07-06T12:10:29.209929Z",
     "iopub.status.busy": "2021-07-06T12:10:29.209253Z",
     "iopub.status.idle": "2021-07-06T12:10:29.211933Z",
     "shell.execute_reply": "2021-07-06T12:10:29.212454Z"
    },
    "papermill": {
     "duration": 0.048412,
     "end_time": "2021-07-06T12:10:29.212608",
     "exception": false,
     "start_time": "2021-07-06T12:10:29.164196",
     "status": "completed"
    },
    "tags": []
   },
   "outputs": [],
   "source": [
    "#hide\n",
    "everydaycases = dft_ct_new_cases.cumsum(axis=1)"
   ]
  },
  {
   "cell_type": "code",
   "execution_count": 20,
   "id": "parliamentary-calgary",
   "metadata": {
    "execution": {
     "iopub.execute_input": "2021-07-06T12:10:29.302167Z",
     "iopub.status.busy": "2021-07-06T12:10:29.301128Z",
     "iopub.status.idle": "2021-07-06T12:10:29.903994Z",
     "shell.execute_reply": "2021-07-06T12:10:29.903462Z"
    },
    "papermill": {
     "duration": 0.643504,
     "end_time": "2021-07-06T12:10:29.904136",
     "exception": false,
     "start_time": "2021-07-06T12:10:29.260632",
     "status": "completed"
    },
    "tags": []
   },
   "outputs": [],
   "source": [
    "#hide\n",
    "import pandas as pd\n",
    "import matplotlib.pyplot as plt\n",
    "import matplotlib.ticker as ticker\n",
    "import matplotlib.animation as animation\n",
    "from IPython.display import HTML"
   ]
  },
  {
   "cell_type": "code",
   "execution_count": 21,
   "id": "lasting-extraction",
   "metadata": {
    "execution": {
     "iopub.execute_input": "2021-07-06T12:10:29.984360Z",
     "iopub.status.busy": "2021-07-06T12:10:29.983630Z",
     "iopub.status.idle": "2021-07-06T12:10:29.989620Z",
     "shell.execute_reply": "2021-07-06T12:10:29.990306Z"
    },
    "papermill": {
     "duration": 0.047653,
     "end_time": "2021-07-06T12:10:29.990418",
     "exception": false,
     "start_time": "2021-07-06T12:10:29.942765",
     "status": "completed"
    },
    "tags": []
   },
   "outputs": [],
   "source": [
    "#hide\n",
    "t = everydaycases.stack()"
   ]
  },
  {
   "cell_type": "code",
   "execution_count": 22,
   "id": "premier-sleeve",
   "metadata": {
    "execution": {
     "iopub.execute_input": "2021-07-06T12:10:30.068251Z",
     "iopub.status.busy": "2021-07-06T12:10:30.067516Z",
     "iopub.status.idle": "2021-07-06T12:10:30.076391Z",
     "shell.execute_reply": "2021-07-06T12:10:30.075756Z"
    },
    "papermill": {
     "duration": 0.05054,
     "end_time": "2021-07-06T12:10:30.076500",
     "exception": false,
     "start_time": "2021-07-06T12:10:30.025960",
     "status": "completed"
    },
    "tags": []
   },
   "outputs": [],
   "source": [
    "#hide\n",
    "g = t.reset_index(['Country/Region'])"
   ]
  },
  {
   "cell_type": "code",
   "execution_count": 23,
   "id": "distributed-pittsburgh",
   "metadata": {
    "execution": {
     "iopub.execute_input": "2021-07-06T12:10:30.152636Z",
     "iopub.status.busy": "2021-07-06T12:10:30.152043Z",
     "iopub.status.idle": "2021-07-06T12:10:30.154587Z",
     "shell.execute_reply": "2021-07-06T12:10:30.154071Z"
    },
    "papermill": {
     "duration": 0.042883,
     "end_time": "2021-07-06T12:10:30.154690",
     "exception": false,
     "start_time": "2021-07-06T12:10:30.111807",
     "status": "completed"
    },
    "tags": []
   },
   "outputs": [],
   "source": [
    "#hide\n",
    "g.index.name = 'date'"
   ]
  },
  {
   "cell_type": "code",
   "execution_count": 24,
   "id": "naked-donor",
   "metadata": {
    "execution": {
     "iopub.execute_input": "2021-07-06T12:10:30.232639Z",
     "iopub.status.busy": "2021-07-06T12:10:30.231996Z",
     "iopub.status.idle": "2021-07-06T12:10:30.234615Z",
     "shell.execute_reply": "2021-07-06T12:10:30.234102Z"
    },
    "papermill": {
     "duration": 0.043258,
     "end_time": "2021-07-06T12:10:30.234723",
     "exception": false,
     "start_time": "2021-07-06T12:10:30.191465",
     "status": "completed"
    },
    "tags": []
   },
   "outputs": [],
   "source": [
    "# #hide\n",
    "# g = g.reset_index(['date'])"
   ]
  },
  {
   "cell_type": "code",
   "execution_count": 25,
   "id": "incomplete-mustang",
   "metadata": {
    "execution": {
     "iopub.execute_input": "2021-07-06T12:10:30.315182Z",
     "iopub.status.busy": "2021-07-06T12:10:30.314500Z",
     "iopub.status.idle": "2021-07-06T12:10:30.317123Z",
     "shell.execute_reply": "2021-07-06T12:10:30.316544Z"
    },
    "papermill": {
     "duration": 0.04576,
     "end_time": "2021-07-06T12:10:30.317250",
     "exception": false,
     "start_time": "2021-07-06T12:10:30.271490",
     "status": "completed"
    },
    "tags": []
   },
   "outputs": [],
   "source": [
    "#hide\n",
    "# g.head()"
   ]
  },
  {
   "cell_type": "code",
   "execution_count": 26,
   "id": "specific-kruger",
   "metadata": {
    "execution": {
     "iopub.execute_input": "2021-07-06T12:10:30.399974Z",
     "iopub.status.busy": "2021-07-06T12:10:30.399353Z",
     "iopub.status.idle": "2021-07-06T12:10:30.401046Z",
     "shell.execute_reply": "2021-07-06T12:10:30.401668Z"
    },
    "papermill": {
     "duration": 0.0432,
     "end_time": "2021-07-06T12:10:30.401784",
     "exception": false,
     "start_time": "2021-07-06T12:10:30.358584",
     "status": "completed"
    },
    "tags": []
   },
   "outputs": [],
   "source": [
    "#hide\n",
    "# g.columns = ['date','country','cases']"
   ]
  },
  {
   "cell_type": "code",
   "execution_count": 27,
   "id": "tender-conversion",
   "metadata": {
    "execution": {
     "iopub.execute_input": "2021-07-06T12:10:30.482077Z",
     "iopub.status.busy": "2021-07-06T12:10:30.481553Z",
     "iopub.status.idle": "2021-07-06T12:10:30.484065Z",
     "shell.execute_reply": "2021-07-06T12:10:30.483586Z"
    },
    "papermill": {
     "duration": 0.043444,
     "end_time": "2021-07-06T12:10:30.484169",
     "exception": false,
     "start_time": "2021-07-06T12:10:30.440725",
     "status": "completed"
    },
    "tags": []
   },
   "outputs": [],
   "source": [
    "#hide\n",
    "# g['continent'] = g.country"
   ]
  },
  {
   "cell_type": "code",
   "execution_count": 28,
   "id": "substantial-wilderness",
   "metadata": {
    "execution": {
     "iopub.execute_input": "2021-07-06T12:10:30.566128Z",
     "iopub.status.busy": "2021-07-06T12:10:30.565570Z",
     "iopub.status.idle": "2021-07-06T12:10:30.568095Z",
     "shell.execute_reply": "2021-07-06T12:10:30.567634Z"
    },
    "papermill": {
     "duration": 0.044825,
     "end_time": "2021-07-06T12:10:30.568224",
     "exception": false,
     "start_time": "2021-07-06T12:10:30.523399",
     "status": "completed"
    },
    "tags": []
   },
   "outputs": [],
   "source": [
    "#hide\n",
    "# cols = list(g.columns.values)"
   ]
  },
  {
   "cell_type": "code",
   "execution_count": 29,
   "id": "solved-farming",
   "metadata": {
    "execution": {
     "iopub.execute_input": "2021-07-06T12:10:30.644878Z",
     "iopub.status.busy": "2021-07-06T12:10:30.644257Z",
     "iopub.status.idle": "2021-07-06T12:10:30.646334Z",
     "shell.execute_reply": "2021-07-06T12:10:30.646841Z"
    },
    "papermill": {
     "duration": 0.042582,
     "end_time": "2021-07-06T12:10:30.646958",
     "exception": false,
     "start_time": "2021-07-06T12:10:30.604376",
     "status": "completed"
    },
    "tags": []
   },
   "outputs": [],
   "source": [
    "#hide\n",
    "# cols.insert(0, cols.pop())"
   ]
  },
  {
   "cell_type": "code",
   "execution_count": 30,
   "id": "executed-adoption",
   "metadata": {
    "execution": {
     "iopub.execute_input": "2021-07-06T12:10:30.724768Z",
     "iopub.status.busy": "2021-07-06T12:10:30.723928Z",
     "iopub.status.idle": "2021-07-06T12:10:30.725427Z",
     "shell.execute_reply": "2021-07-06T12:10:30.725917Z"
    },
    "papermill": {
     "duration": 0.043172,
     "end_time": "2021-07-06T12:10:30.726032",
     "exception": false,
     "start_time": "2021-07-06T12:10:30.682860",
     "status": "completed"
    },
    "tags": []
   },
   "outputs": [],
   "source": [
    "#hide\n",
    "# g = g[cols]"
   ]
  },
  {
   "cell_type": "code",
   "execution_count": 31,
   "id": "subject-dublin",
   "metadata": {
    "execution": {
     "iopub.execute_input": "2021-07-06T12:10:30.807054Z",
     "iopub.status.busy": "2021-07-06T12:10:30.806376Z",
     "iopub.status.idle": "2021-07-06T12:10:30.808475Z",
     "shell.execute_reply": "2021-07-06T12:10:30.809023Z"
    },
    "papermill": {
     "duration": 0.043405,
     "end_time": "2021-07-06T12:10:30.809140",
     "exception": false,
     "start_time": "2021-07-06T12:10:30.765735",
     "status": "completed"
    },
    "tags": []
   },
   "outputs": [],
   "source": [
    "#hide\n",
    "# g['continent'] = g['continent'].map(mapping['map.continent'])"
   ]
  },
  {
   "cell_type": "code",
   "execution_count": 32,
   "id": "freelance-scout",
   "metadata": {
    "execution": {
     "iopub.execute_input": "2021-07-06T12:10:30.886733Z",
     "iopub.status.busy": "2021-07-06T12:10:30.886090Z",
     "iopub.status.idle": "2021-07-06T12:10:30.888587Z",
     "shell.execute_reply": "2021-07-06T12:10:30.888084Z"
    },
    "papermill": {
     "duration": 0.042201,
     "end_time": "2021-07-06T12:10:30.888710",
     "exception": false,
     "start_time": "2021-07-06T12:10:30.846509",
     "status": "completed"
    },
    "tags": []
   },
   "outputs": [],
   "source": [
    "#hide\n",
    "# g.head()"
   ]
  },
  {
   "cell_type": "code",
   "execution_count": 33,
   "id": "limited-engine",
   "metadata": {
    "execution": {
     "iopub.execute_input": "2021-07-06T12:10:30.975672Z",
     "iopub.status.busy": "2021-07-06T12:10:30.974992Z",
     "iopub.status.idle": "2021-07-06T12:10:30.976869Z",
     "shell.execute_reply": "2021-07-06T12:10:30.977298Z"
    },
    "papermill": {
     "duration": 0.043547,
     "end_time": "2021-07-06T12:10:30.977442",
     "exception": false,
     "start_time": "2021-07-06T12:10:30.933895",
     "status": "completed"
    },
    "tags": []
   },
   "outputs": [],
   "source": [
    "# hide\n",
    "# g['date'] = g['date'].astype('datetime64[ns]')"
   ]
  },
  {
   "cell_type": "code",
   "execution_count": 34,
   "id": "sophisticated-supervisor",
   "metadata": {
    "execution": {
     "iopub.execute_input": "2021-07-06T12:10:31.061079Z",
     "iopub.status.busy": "2021-07-06T12:10:31.060321Z",
     "iopub.status.idle": "2021-07-06T12:10:31.063221Z",
     "shell.execute_reply": "2021-07-06T12:10:31.062625Z"
    },
    "papermill": {
     "duration": 0.045068,
     "end_time": "2021-07-06T12:10:31.063350",
     "exception": false,
     "start_time": "2021-07-06T12:10:31.018282",
     "status": "completed"
    },
    "tags": []
   },
   "outputs": [],
   "source": [
    "#hide\n",
    "# g['date'] = g.date.dt.dayofyear"
   ]
  },
  {
   "cell_type": "code",
   "execution_count": 35,
   "id": "inside-dubai",
   "metadata": {
    "execution": {
     "iopub.execute_input": "2021-07-06T12:10:31.141589Z",
     "iopub.status.busy": "2021-07-06T12:10:31.141000Z",
     "iopub.status.idle": "2021-07-06T12:10:31.143726Z",
     "shell.execute_reply": "2021-07-06T12:10:31.143101Z"
    },
    "papermill": {
     "duration": 0.042757,
     "end_time": "2021-07-06T12:10:31.143891",
     "exception": false,
     "start_time": "2021-07-06T12:10:31.101134",
     "status": "completed"
    },
    "tags": []
   },
   "outputs": [],
   "source": [
    "#hide\n",
    "# g = g.rename(columns= {'continent':'group','country':'name','cases':'value'})"
   ]
  },
  {
   "cell_type": "code",
   "execution_count": 36,
   "id": "fleet-motorcycle",
   "metadata": {
    "execution": {
     "iopub.execute_input": "2021-07-06T12:10:31.221001Z",
     "iopub.status.busy": "2021-07-06T12:10:31.220337Z",
     "iopub.status.idle": "2021-07-06T12:10:31.222726Z",
     "shell.execute_reply": "2021-07-06T12:10:31.223400Z"
    },
    "papermill": {
     "duration": 0.043064,
     "end_time": "2021-07-06T12:10:31.223555",
     "exception": false,
     "start_time": "2021-07-06T12:10:31.180491",
     "status": "completed"
    },
    "tags": []
   },
   "outputs": [],
   "source": [
    "#hide\n",
    "# cols = ['name','group','day','value']"
   ]
  },
  {
   "cell_type": "code",
   "execution_count": 37,
   "id": "continued-sleeping",
   "metadata": {
    "execution": {
     "iopub.execute_input": "2021-07-06T12:10:31.299233Z",
     "iopub.status.busy": "2021-07-06T12:10:31.298622Z",
     "iopub.status.idle": "2021-07-06T12:10:31.300631Z",
     "shell.execute_reply": "2021-07-06T12:10:31.301116Z"
    },
    "papermill": {
     "duration": 0.041172,
     "end_time": "2021-07-06T12:10:31.301232",
     "exception": false,
     "start_time": "2021-07-06T12:10:31.260060",
     "status": "completed"
    },
    "tags": []
   },
   "outputs": [],
   "source": [
    "#hide\n",
    "# g.rename(columns= {'date':'day'},inplace = True)"
   ]
  },
  {
   "cell_type": "code",
   "execution_count": 38,
   "id": "major-fight",
   "metadata": {
    "execution": {
     "iopub.execute_input": "2021-07-06T12:10:31.376345Z",
     "iopub.status.busy": "2021-07-06T12:10:31.375845Z",
     "iopub.status.idle": "2021-07-06T12:10:31.378306Z",
     "shell.execute_reply": "2021-07-06T12:10:31.377723Z"
    },
    "papermill": {
     "duration": 0.040923,
     "end_time": "2021-07-06T12:10:31.378405",
     "exception": false,
     "start_time": "2021-07-06T12:10:31.337482",
     "status": "completed"
    },
    "tags": []
   },
   "outputs": [],
   "source": [
    "#hide\n",
    "# g = g[cols]"
   ]
  },
  {
   "cell_type": "code",
   "execution_count": 39,
   "id": "structured-mobile",
   "metadata": {
    "execution": {
     "iopub.execute_input": "2021-07-06T12:10:31.453145Z",
     "iopub.status.busy": "2021-07-06T12:10:31.452539Z",
     "iopub.status.idle": "2021-07-06T12:10:31.455054Z",
     "shell.execute_reply": "2021-07-06T12:10:31.454359Z"
    },
    "papermill": {
     "duration": 0.041241,
     "end_time": "2021-07-06T12:10:31.455157",
     "exception": false,
     "start_time": "2021-07-06T12:10:31.413916",
     "status": "completed"
    },
    "tags": []
   },
   "outputs": [],
   "source": [
    "# #hide\n",
    "# g = g[g.group.notna()]"
   ]
  },
  {
   "cell_type": "code",
   "execution_count": 40,
   "id": "determined-closing",
   "metadata": {
    "execution": {
     "iopub.execute_input": "2021-07-06T12:10:31.532350Z",
     "iopub.status.busy": "2021-07-06T12:10:31.531694Z",
     "iopub.status.idle": "2021-07-06T12:10:31.534295Z",
     "shell.execute_reply": "2021-07-06T12:10:31.533601Z"
    },
    "papermill": {
     "duration": 0.043029,
     "end_time": "2021-07-06T12:10:31.534499",
     "exception": false,
     "start_time": "2021-07-06T12:10:31.491470",
     "status": "completed"
    },
    "tags": []
   },
   "outputs": [],
   "source": [
    "# #hide\n",
    "# colors = dict(zip(\n",
    "#     [\"Oceania\", \"Europe\", \"Asia\", \"South America\", \"Middle East\", \"North America\", \"Africa\"],\n",
    "#     [\"#adb0ff\", \"#ffb3ff\", \"#90d595\", \"#e48381\", \"#aafbff\", \"#f7bb5f\", \"#eafb50\"]\n",
    "# ))\n",
    "# group_lk = g.set_index('name')['group'].to_dict()"
   ]
  },
  {
   "cell_type": "code",
   "execution_count": null,
   "id": "gross-drinking",
   "metadata": {
    "papermill": {
     "duration": 0.035785,
     "end_time": "2021-07-06T12:10:31.607931",
     "exception": false,
     "start_time": "2021-07-06T12:10:31.572146",
     "status": "completed"
    },
    "tags": []
   },
   "outputs": [],
   "source": []
  },
  {
   "cell_type": "code",
   "execution_count": 41,
   "id": "subject-macintosh",
   "metadata": {
    "execution": {
     "iopub.execute_input": "2021-07-06T12:10:31.687913Z",
     "iopub.status.busy": "2021-07-06T12:10:31.687149Z",
     "iopub.status.idle": "2021-07-06T12:10:31.690127Z",
     "shell.execute_reply": "2021-07-06T12:10:31.689555Z"
    },
    "papermill": {
     "duration": 0.043135,
     "end_time": "2021-07-06T12:10:31.690240",
     "exception": false,
     "start_time": "2021-07-06T12:10:31.647105",
     "status": "completed"
    },
    "tags": []
   },
   "outputs": [],
   "source": [
    "# #hide\n",
    "# fig, ax = plt.subplots(figsize=(15, 8))\n",
    "\n",
    "# def draw_barchart(current_day):\n",
    "#     dff = g[g['day'].eq(current_day)].sort_values(by='value', ascending=True).tail(10)\n",
    "#     ax.clear()\n",
    "#     ax.barh(dff['name'], dff['value'], color=[colors[group_lk[x]] for x in dff['name']])\n",
    "#     dx = dff['value'].max() / 200\n",
    "    \n",
    "#     for i, (value, name) in enumerate(zip(dff['value'], dff['name'])):\n",
    "#         ax.text(value-dx, i,     name,           size=14, weight=600, ha='right', va='bottom')\n",
    "#         ax.text(value-dx, i-.25, group_lk[name], size=10, color='#444444', ha='right', va='baseline')\n",
    "#         ax.text(value+dx, i,     f'{value:,.0f}',  size=14, ha='left',  va='center')\n",
    "#     ax.text(1, 0.4, current_day, transform=ax.transAxes, color='#777777', size=46, ha='right', weight=800)\n",
    "#     ax.text(0, 1.06, 'Population (thousands)', transform=ax.transAxes, size=12, color='#777777')\n",
    "#     ax.xaxis.set_major_formatter(ticker.StrMethodFormatter('{x:,.0f}'))\n",
    "#     ax.xaxis.set_ticks_position('top')\n",
    "#     ax.tick_params(axis='x', colors='#777777', labelsize=12)\n",
    "#     ax.set_yticks([])\n",
    "#     ax.margins(0, 0.01)\n",
    "#     ax.grid(which='major', axis='x', linestyle='-')\n",
    "#     ax.set_axisbelow(True)\n",
    "    \n",
    "#     ax.text(0, 1.15, 'Coronavirus',\n",
    "#             transform=ax.transAxes, size=24, weight=600, ha='left', va='top')\n",
    "# #     ax.text(1, 0, 'by @pratapvardhan; credit @jburnmurdoch', transform=ax.transAxes, color='#777777', ha='right',\n",
    "# #             bbox=dict(facecolor='white', alpha=0.8, edgecolor='white'))\n",
    "#     plt.box(False)"
   ]
  },
  {
   "cell_type": "code",
   "execution_count": 42,
   "id": "sexual-wages",
   "metadata": {
    "execution": {
     "iopub.execute_input": "2021-07-06T12:10:31.772700Z",
     "iopub.status.busy": "2021-07-06T12:10:31.772076Z",
     "iopub.status.idle": "2021-07-06T12:10:31.774246Z",
     "shell.execute_reply": "2021-07-06T12:10:31.774830Z"
    },
    "papermill": {
     "duration": 0.045888,
     "end_time": "2021-07-06T12:10:31.774947",
     "exception": false,
     "start_time": "2021-07-06T12:10:31.729059",
     "status": "completed"
    },
    "tags": []
   },
   "outputs": [],
   "source": [
    "# #hide_input\n",
    "# fig, ax = plt.subplots(figsize=(15, 8))\n",
    "# animator = animation.FuncAnimation(fig, draw_barchart, frames=range(g.day.values.min(), g.day.values.max()))\n",
    "# HTML(animator.to_jshtml())\n",
    "# # or use animator.to_html5_video() or animator.save() "
   ]
  },
  {
   "cell_type": "code",
   "execution_count": null,
   "id": "australian-container",
   "metadata": {
    "papermill": {
     "duration": 0.037171,
     "end_time": "2021-07-06T12:10:31.848263",
     "exception": false,
     "start_time": "2021-07-06T12:10:31.811092",
     "status": "completed"
    },
    "tags": []
   },
   "outputs": [],
   "source": []
  },
  {
   "cell_type": "code",
   "execution_count": null,
   "id": "mediterranean-pontiac",
   "metadata": {
    "papermill": {
     "duration": 0.037781,
     "end_time": "2021-07-06T12:10:31.922859",
     "exception": false,
     "start_time": "2021-07-06T12:10:31.885078",
     "status": "completed"
    },
    "tags": []
   },
   "outputs": [],
   "source": []
  },
  {
   "cell_type": "code",
   "execution_count": null,
   "id": "aging-legislature",
   "metadata": {
    "papermill": {
     "duration": 0.03988,
     "end_time": "2021-07-06T12:10:32.001470",
     "exception": false,
     "start_time": "2021-07-06T12:10:31.961590",
     "status": "completed"
    },
    "tags": []
   },
   "outputs": [],
   "source": []
  }
 ],
 "metadata": {
  "kernelspec": {
   "display_name": "Python 3",
   "language": "python",
   "name": "python3"
  },
  "language_info": {
   "codemirror_mode": {
    "name": "ipython",
    "version": 3
   },
   "file_extension": ".py",
   "mimetype": "text/x-python",
   "name": "python",
   "nbconvert_exporter": "python",
   "pygments_lexer": "ipython3",
   "version": "3.6.13"
  },
  "papermill": {
   "duration": 6.918725,
   "end_time": "2021-07-06T12:10:32.350128",
   "environment_variables": {},
   "exception": null,
   "input_path": "2020-03-21-covid19exp.ipynb",
   "output_path": "2020-03-21-covid19exp.ipynb",
   "parameters": {},
   "start_time": "2021-07-06T12:10:25.431403",
   "version": "2.0.0"
  }
 },
 "nbformat": 4,
 "nbformat_minor": 5
}