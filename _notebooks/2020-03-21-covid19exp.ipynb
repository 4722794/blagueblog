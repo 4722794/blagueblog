{
 "cells": [
  {
   "cell_type": "markdown",
   "id": "muslim-click",
   "metadata": {
    "papermill": {
     "duration": 0.037317,
     "end_time": "2021-10-19T00:24:34.529397",
     "exception": false,
     "start_time": "2021-10-19T00:24:34.492080",
     "status": "completed"
    },
    "tags": []
   },
   "source": [
    "# COVID-19 Case Race\n",
    "> A race chart to see rising cases around the world\n",
    "\n",
    "- author: Hargun Oberoi\n",
    "- image: images/covid-overview.png\n",
    "- hide: false\n",
    "- badges: false"
   ]
  },
  {
   "cell_type": "code",
   "execution_count": 1,
   "id": "proof-material",
   "metadata": {
    "execution": {
     "iopub.execute_input": "2021-10-19T00:24:34.604039Z",
     "iopub.status.busy": "2021-10-19T00:24:34.602281Z",
     "iopub.status.idle": "2021-10-19T00:24:34.951431Z",
     "shell.execute_reply": "2021-10-19T00:24:34.950935Z"
    },
    "papermill": {
     "duration": 0.387538,
     "end_time": "2021-10-19T00:24:34.951572",
     "exception": false,
     "start_time": "2021-10-19T00:24:34.564034",
     "status": "completed"
    },
    "tags": []
   },
   "outputs": [],
   "source": [
    "#hide\n",
    "import numpy as np\n",
    "import pandas as pd\n",
    "from jinja2 import Template\n",
    "from IPython.display import HTML"
   ]
  },
  {
   "cell_type": "code",
   "execution_count": 2,
   "id": "developed-terminology",
   "metadata": {
    "execution": {
     "iopub.execute_input": "2021-10-19T00:24:35.028590Z",
     "iopub.status.busy": "2021-10-19T00:24:35.027922Z",
     "iopub.status.idle": "2021-10-19T00:24:35.031946Z",
     "shell.execute_reply": "2021-10-19T00:24:35.031342Z"
    },
    "papermill": {
     "duration": 0.043189,
     "end_time": "2021-10-19T00:24:35.032090",
     "exception": false,
     "start_time": "2021-10-19T00:24:34.988901",
     "status": "completed"
    },
    "tags": []
   },
   "outputs": [],
   "source": [
    "#hide\n",
    "\n",
    "# FETCH\n",
    "base_url = 'https://raw.githubusercontent.com/pratapvardhan/notebooks/master/covid19/'\n",
    "paths = {\n",
    "    'mapping': base_url + 'mapping_countries.csv',\n",
    "    'overview': base_url + 'overview.tpl'\n",
    "}"
   ]
  },
  {
   "cell_type": "code",
   "execution_count": 3,
   "id": "dynamic-saver",
   "metadata": {
    "execution": {
     "iopub.execute_input": "2021-10-19T00:24:35.114848Z",
     "iopub.status.busy": "2021-10-19T00:24:35.110718Z",
     "iopub.status.idle": "2021-10-19T00:24:35.120501Z",
     "shell.execute_reply": "2021-10-19T00:24:35.120967Z"
    },
    "papermill": {
     "duration": 0.054708,
     "end_time": "2021-10-19T00:24:35.121111",
     "exception": false,
     "start_time": "2021-10-19T00:24:35.066403",
     "status": "completed"
    },
    "tags": []
   },
   "outputs": [
    {
     "data": {
      "text/plain": [
       "'https://raw.githubusercontent.com/pratapvardhan/notebooks/master/covid19/mapping_countries.csv'"
      ]
     },
     "execution_count": 3,
     "metadata": {},
     "output_type": "execute_result"
    }
   ],
   "source": [
    "#hide\n",
    "paths['mapping']"
   ]
  },
  {
   "cell_type": "code",
   "execution_count": 4,
   "id": "urban-software",
   "metadata": {
    "execution": {
     "iopub.execute_input": "2021-10-19T00:24:35.193305Z",
     "iopub.status.busy": "2021-10-19T00:24:35.192732Z",
     "iopub.status.idle": "2021-10-19T00:24:35.195587Z",
     "shell.execute_reply": "2021-10-19T00:24:35.195148Z"
    },
    "papermill": {
     "duration": 0.04008,
     "end_time": "2021-10-19T00:24:35.195684",
     "exception": false,
     "start_time": "2021-10-19T00:24:35.155604",
     "status": "completed"
    },
    "tags": []
   },
   "outputs": [],
   "source": [
    "#hide\n",
    "def get_mappings(url):\n",
    "    df = pd.read_csv(url)\n",
    "    return {\n",
    "        'df': df,\n",
    "        'replace.country': dict(df.dropna(subset=['Name']).set_index('Country')['Name']),\n",
    "        'map.continent': dict(df.set_index('Name')['Continent'])\n",
    "    }"
   ]
  },
  {
   "cell_type": "code",
   "execution_count": 5,
   "id": "intimate-machinery",
   "metadata": {
    "execution": {
     "iopub.execute_input": "2021-10-19T00:24:35.265320Z",
     "iopub.status.busy": "2021-10-19T00:24:35.264779Z",
     "iopub.status.idle": "2021-10-19T00:24:35.299224Z",
     "shell.execute_reply": "2021-10-19T00:24:35.299674Z"
    },
    "papermill": {
     "duration": 0.072861,
     "end_time": "2021-10-19T00:24:35.299798",
     "exception": false,
     "start_time": "2021-10-19T00:24:35.226937",
     "status": "completed"
    },
    "tags": []
   },
   "outputs": [],
   "source": [
    "#hide\n",
    "mapping = get_mappings(paths['mapping'])"
   ]
  },
  {
   "cell_type": "code",
   "execution_count": 6,
   "id": "certified-tactics",
   "metadata": {
    "execution": {
     "iopub.execute_input": "2021-10-19T00:24:35.402641Z",
     "iopub.status.busy": "2021-10-19T00:24:35.401878Z",
     "iopub.status.idle": "2021-10-19T00:24:35.408510Z",
     "shell.execute_reply": "2021-10-19T00:24:35.408008Z"
    },
    "papermill": {
     "duration": 0.075219,
     "end_time": "2021-10-19T00:24:35.408641",
     "exception": false,
     "start_time": "2021-10-19T00:24:35.333422",
     "status": "completed"
    },
    "tags": []
   },
   "outputs": [],
   "source": [
    "#hide\n",
    "def get_template(path):\n",
    "    from urllib.parse import urlparse\n",
    "    if bool(urlparse(path).netloc):\n",
    "        from urllib.request import urlopen\n",
    "        return urlopen(path).read().decode('utf8')\n",
    "    return open(path).read()"
   ]
  },
  {
   "cell_type": "code",
   "execution_count": 7,
   "id": "realistic-blast",
   "metadata": {
    "execution": {
     "iopub.execute_input": "2021-10-19T00:24:35.543949Z",
     "iopub.status.busy": "2021-10-19T00:24:35.543298Z",
     "iopub.status.idle": "2021-10-19T00:24:35.546241Z",
     "shell.execute_reply": "2021-10-19T00:24:35.545678Z"
    },
    "papermill": {
     "duration": 0.050571,
     "end_time": "2021-10-19T00:24:35.546373",
     "exception": false,
     "start_time": "2021-10-19T00:24:35.495802",
     "status": "completed"
    },
    "tags": []
   },
   "outputs": [],
   "source": [
    "#hide\n",
    "def get_frame(name):\n",
    "    url = (\n",
    "        'https://raw.githubusercontent.com/CSSEGISandData/COVID-19/master/csse_covid_19_data/'\n",
    "        f'csse_covid_19_time_series/time_series_covid19_{name}_global.csv')\n",
    "    df = pd.read_csv(url)\n",
    "    # rename countries\n",
    "    df['Country/Region'] = df['Country/Region'].replace(mapping['replace.country'])\n",
    "    return df"
   ]
  },
  {
   "cell_type": "code",
   "execution_count": 8,
   "id": "affiliated-characterization",
   "metadata": {
    "execution": {
     "iopub.execute_input": "2021-10-19T00:24:35.639253Z",
     "iopub.status.busy": "2021-10-19T00:24:35.638701Z",
     "iopub.status.idle": "2021-10-19T00:24:35.641124Z",
     "shell.execute_reply": "2021-10-19T00:24:35.640634Z"
    },
    "papermill": {
     "duration": 0.047677,
     "end_time": "2021-10-19T00:24:35.641241",
     "exception": false,
     "start_time": "2021-10-19T00:24:35.593564",
     "status": "completed"
    },
    "tags": []
   },
   "outputs": [],
   "source": [
    "#hide\n",
    "def get_dates(df):\n",
    "    dt_cols = df.columns[~df.columns.isin(['Province/State', 'Country/Region', 'Lat', 'Long'])]\n",
    "    LAST_DATE_I = -1\n",
    "    # sometimes last column may be empty, then go backwards\n",
    "    for i in range(-1, -len(dt_cols), -1):\n",
    "        if not df[dt_cols[i]].fillna(0).eq(0).all():\n",
    "            LAST_DATE_I = i\n",
    "            break\n",
    "    return LAST_DATE_I, dt_cols"
   ]
  },
  {
   "cell_type": "code",
   "execution_count": 9,
   "id": "recent-optimization",
   "metadata": {
    "execution": {
     "iopub.execute_input": "2021-10-19T00:24:35.947499Z",
     "iopub.status.busy": "2021-10-19T00:24:35.946766Z",
     "iopub.status.idle": "2021-10-19T00:24:36.293349Z",
     "shell.execute_reply": "2021-10-19T00:24:36.293889Z"
    },
    "papermill": {
     "duration": 0.415745,
     "end_time": "2021-10-19T00:24:36.294190",
     "exception": false,
     "start_time": "2021-10-19T00:24:35.878445",
     "status": "completed"
    },
    "tags": []
   },
   "outputs": [],
   "source": [
    "#hide\n",
    "COL_REGION = 'Country/Region'\n",
    "# Confirmed, Recovered, Deaths\n",
    "df = get_frame('confirmed')\n",
    "# dft_: timeseries, dfc_: today country agg\n",
    "dft_cases = df\n",
    "dft_deaths = get_frame('deaths')\n",
    "dft_recovered = get_frame('recovered')\n",
    "LAST_DATE_I, dt_cols = get_dates(df)"
   ]
  },
  {
   "cell_type": "code",
   "execution_count": 10,
   "id": "absolute-copper",
   "metadata": {
    "execution": {
     "iopub.execute_input": "2021-10-19T00:24:36.391179Z",
     "iopub.status.busy": "2021-10-19T00:24:36.390388Z",
     "iopub.status.idle": "2021-10-19T00:24:36.392879Z",
     "shell.execute_reply": "2021-10-19T00:24:36.392353Z"
    },
    "papermill": {
     "duration": 0.048677,
     "end_time": "2021-10-19T00:24:36.393042",
     "exception": false,
     "start_time": "2021-10-19T00:24:36.344365",
     "status": "completed"
    },
    "tags": []
   },
   "outputs": [],
   "source": [
    "#hide\n",
    "LAST_DATE_I, dt_cols = get_dates(df)\n",
    "dt_today =dt_cols[LAST_DATE_I]\n",
    "# dt_5day = dt_cols[LAST_DATE_I - 5]\n",
    "dt_yday = dt_cols[LAST_DATE_I - 1]"
   ]
  },
  {
   "cell_type": "code",
   "execution_count": 11,
   "id": "restricted-sheriff",
   "metadata": {
    "execution": {
     "iopub.execute_input": "2021-10-19T00:24:36.557094Z",
     "iopub.status.busy": "2021-10-19T00:24:36.556331Z",
     "iopub.status.idle": "2021-10-19T00:24:36.559599Z",
     "shell.execute_reply": "2021-10-19T00:24:36.559145Z"
    },
    "papermill": {
     "duration": 0.073469,
     "end_time": "2021-10-19T00:24:36.559708",
     "exception": false,
     "start_time": "2021-10-19T00:24:36.486239",
     "status": "completed"
    },
    "tags": []
   },
   "outputs": [],
   "source": [
    "#hide\n",
    "dfc_cases = dft_cases.groupby(COL_REGION)[dt_today].sum()\n",
    "dfc_deaths = dft_deaths.groupby(COL_REGION)[dt_today].sum()\n",
    "# dfp_cases = dft_cases.groupby(COL_REGION)[dt_5day].sum()\n",
    "# dfp_deaths = dft_deaths.groupby(COL_REGION)[dt_5day].sum()\n",
    "dfp_cases = dft_cases.groupby(COL_REGION)[dt_yday].sum()\n",
    "dfp_deaths = dft_deaths.groupby(COL_REGION)[dt_yday].sum()"
   ]
  },
  {
   "cell_type": "code",
   "execution_count": 12,
   "id": "deluxe-hepatitis",
   "metadata": {
    "execution": {
     "iopub.execute_input": "2021-10-19T00:24:36.629295Z",
     "iopub.status.busy": "2021-10-19T00:24:36.628711Z",
     "iopub.status.idle": "2021-10-19T00:24:36.633958Z",
     "shell.execute_reply": "2021-10-19T00:24:36.633492Z"
    },
    "papermill": {
     "duration": 0.042815,
     "end_time": "2021-10-19T00:24:36.634065",
     "exception": false,
     "start_time": "2021-10-19T00:24:36.591250",
     "status": "completed"
    },
    "tags": []
   },
   "outputs": [],
   "source": [
    "#hide\n",
    "df_table = (pd.DataFrame(dict(Cases = dfc_cases, Deaths = dfc_deaths, PCases = dfp_cases, PDeaths = dfp_deaths))\n",
    "            .sort_values(by = ['Cases','Deaths'], ascending = [False, False])\n",
    "            .reset_index())"
   ]
  },
  {
   "cell_type": "code",
   "execution_count": 13,
   "id": "educational-chancellor",
   "metadata": {
    "execution": {
     "iopub.execute_input": "2021-10-19T00:24:36.712570Z",
     "iopub.status.busy": "2021-10-19T00:24:36.711992Z",
     "iopub.status.idle": "2021-10-19T00:24:36.719541Z",
     "shell.execute_reply": "2021-10-19T00:24:36.720032Z"
    },
    "papermill": {
     "duration": 0.055879,
     "end_time": "2021-10-19T00:24:36.720148",
     "exception": false,
     "start_time": "2021-10-19T00:24:36.664269",
     "status": "completed"
    },
    "tags": []
   },
   "outputs": [
    {
     "data": {
      "text/html": [
       "<div>\n",
       "<style scoped>\n",
       "    .dataframe tbody tr th:only-of-type {\n",
       "        vertical-align: middle;\n",
       "    }\n",
       "\n",
       "    .dataframe tbody tr th {\n",
       "        vertical-align: top;\n",
       "    }\n",
       "\n",
       "    .dataframe thead th {\n",
       "        text-align: right;\n",
       "    }\n",
       "</style>\n",
       "<table border=\"1\" class=\"dataframe\">\n",
       "  <thead>\n",
       "    <tr style=\"text-align: right;\">\n",
       "      <th></th>\n",
       "      <th>Country/Region</th>\n",
       "      <th>Cases</th>\n",
       "      <th>Deaths</th>\n",
       "      <th>PCases</th>\n",
       "      <th>PDeaths</th>\n",
       "      <th>Cases (+)</th>\n",
       "      <th>Deaths (+)</th>\n",
       "      <th>Fatality Rate</th>\n",
       "      <th>Continent</th>\n",
       "    </tr>\n",
       "  </thead>\n",
       "  <tbody>\n",
       "    <tr>\n",
       "      <th>0</th>\n",
       "      <td>US</td>\n",
       "      <td>44933336</td>\n",
       "      <td>724317</td>\n",
       "      <td>44916423</td>\n",
       "      <td>724153</td>\n",
       "      <td>16913</td>\n",
       "      <td>164</td>\n",
       "      <td>1.61</td>\n",
       "      <td>North America</td>\n",
       "    </tr>\n",
       "    <tr>\n",
       "      <th>1</th>\n",
       "      <td>India</td>\n",
       "      <td>34081315</td>\n",
       "      <td>452290</td>\n",
       "      <td>34067719</td>\n",
       "      <td>452124</td>\n",
       "      <td>13596</td>\n",
       "      <td>166</td>\n",
       "      <td>1.33</td>\n",
       "      <td>Asia</td>\n",
       "    </tr>\n",
       "    <tr>\n",
       "      <th>2</th>\n",
       "      <td>Brazil</td>\n",
       "      <td>21644464</td>\n",
       "      <td>603282</td>\n",
       "      <td>21638726</td>\n",
       "      <td>603152</td>\n",
       "      <td>5738</td>\n",
       "      <td>130</td>\n",
       "      <td>2.79</td>\n",
       "      <td>South America</td>\n",
       "    </tr>\n",
       "    <tr>\n",
       "      <th>3</th>\n",
       "      <td>United Kingdom</td>\n",
       "      <td>8488685</td>\n",
       "      <td>138997</td>\n",
       "      <td>8443882</td>\n",
       "      <td>138940</td>\n",
       "      <td>44803</td>\n",
       "      <td>57</td>\n",
       "      <td>1.64</td>\n",
       "      <td>Europe</td>\n",
       "    </tr>\n",
       "    <tr>\n",
       "      <th>4</th>\n",
       "      <td>Russia</td>\n",
       "      <td>7870529</td>\n",
       "      <td>219342</td>\n",
       "      <td>7837101</td>\n",
       "      <td>218362</td>\n",
       "      <td>33428</td>\n",
       "      <td>980</td>\n",
       "      <td>2.79</td>\n",
       "      <td>Europe</td>\n",
       "    </tr>\n",
       "  </tbody>\n",
       "</table>\n",
       "</div>"
      ],
      "text/plain": [
       "   Country/Region     Cases  Deaths    PCases  PDeaths  Cases (+)  Deaths (+)  \\\n",
       "0              US  44933336  724317  44916423   724153      16913         164   \n",
       "1           India  34081315  452290  34067719   452124      13596         166   \n",
       "2          Brazil  21644464  603282  21638726   603152       5738         130   \n",
       "3  United Kingdom   8488685  138997   8443882   138940      44803          57   \n",
       "4          Russia   7870529  219342   7837101   218362      33428         980   \n",
       "\n",
       "   Fatality Rate      Continent  \n",
       "0           1.61  North America  \n",
       "1           1.33           Asia  \n",
       "2           2.79  South America  \n",
       "3           1.64         Europe  \n",
       "4           2.79         Europe  "
      ]
     },
     "execution_count": 13,
     "metadata": {},
     "output_type": "execute_result"
    }
   ],
   "source": [
    "#hide\n",
    "for c in 'Cases, Deaths'.split(', '):\n",
    "    df_table[f'{c} (+)'] = (df_table[c] - df_table[f'P{c}']).clip(0)\n",
    "    #Clip ça veut dire, les chiffres negatif sont interdit\n",
    "df_table['Fatality Rate'] = (100* df_table['Deaths']/ df_table['Cases']).round(2)\n",
    "df_table['Continent'] = df_table['Country/Region'].map(mapping['map.continent'])\n",
    "df_table.head(5)"
   ]
  },
  {
   "cell_type": "code",
   "execution_count": 14,
   "id": "aboriginal-bulgaria",
   "metadata": {
    "execution": {
     "iopub.execute_input": "2021-10-19T00:24:36.793970Z",
     "iopub.status.busy": "2021-10-19T00:24:36.793422Z",
     "iopub.status.idle": "2021-10-19T00:24:36.796334Z",
     "shell.execute_reply": "2021-10-19T00:24:36.796763Z"
    },
    "papermill": {
     "duration": 0.040816,
     "end_time": "2021-10-19T00:24:36.796885",
     "exception": false,
     "start_time": "2021-10-19T00:24:36.756069",
     "status": "completed"
    },
    "tags": []
   },
   "outputs": [],
   "source": [
    "#hide\n",
    "#delete problematic countries from table\n",
    "df_table = df_table[~df_table['Country/Region'].isin(['Cape Verde', 'Cruise Ship', 'Kosovo'])]"
   ]
  },
  {
   "cell_type": "code",
   "execution_count": 15,
   "id": "fantastic-effect",
   "metadata": {
    "execution": {
     "iopub.execute_input": "2021-10-19T00:24:36.865762Z",
     "iopub.status.busy": "2021-10-19T00:24:36.865138Z",
     "iopub.status.idle": "2021-10-19T00:24:36.883808Z",
     "shell.execute_reply": "2021-10-19T00:24:36.884249Z"
    },
    "papermill": {
     "duration": 0.056788,
     "end_time": "2021-10-19T00:24:36.884363",
     "exception": false,
     "start_time": "2021-10-19T00:24:36.827575",
     "status": "completed"
    },
    "tags": []
   },
   "outputs": [
    {
     "data": {
      "text/html": [
       "<div>\n",
       "<style scoped>\n",
       "    .dataframe tbody tr th:only-of-type {\n",
       "        vertical-align: middle;\n",
       "    }\n",
       "\n",
       "    .dataframe tbody tr th {\n",
       "        vertical-align: top;\n",
       "    }\n",
       "\n",
       "    .dataframe thead th {\n",
       "        text-align: right;\n",
       "    }\n",
       "</style>\n",
       "<table border=\"1\" class=\"dataframe\">\n",
       "  <thead>\n",
       "    <tr style=\"text-align: right;\">\n",
       "      <th></th>\n",
       "      <th>Country/Region</th>\n",
       "      <th>Cases</th>\n",
       "      <th>Deaths</th>\n",
       "      <th>PCases</th>\n",
       "      <th>PDeaths</th>\n",
       "      <th>Cases (+)</th>\n",
       "      <th>Deaths (+)</th>\n",
       "      <th>Fatality Rate</th>\n",
       "      <th>Continent</th>\n",
       "    </tr>\n",
       "  </thead>\n",
       "  <tbody>\n",
       "    <tr>\n",
       "      <th>0</th>\n",
       "      <td>US</td>\n",
       "      <td>44933336</td>\n",
       "      <td>724317</td>\n",
       "      <td>44916423</td>\n",
       "      <td>724153</td>\n",
       "      <td>16913</td>\n",
       "      <td>164</td>\n",
       "      <td>1.6</td>\n",
       "      <td>North America</td>\n",
       "    </tr>\n",
       "    <tr>\n",
       "      <th>1</th>\n",
       "      <td>India</td>\n",
       "      <td>34081315</td>\n",
       "      <td>452290</td>\n",
       "      <td>34067719</td>\n",
       "      <td>452124</td>\n",
       "      <td>13596</td>\n",
       "      <td>166</td>\n",
       "      <td>1.3</td>\n",
       "      <td>Asia</td>\n",
       "    </tr>\n",
       "    <tr>\n",
       "      <th>2</th>\n",
       "      <td>Brazil</td>\n",
       "      <td>21644464</td>\n",
       "      <td>603282</td>\n",
       "      <td>21638726</td>\n",
       "      <td>603152</td>\n",
       "      <td>5738</td>\n",
       "      <td>130</td>\n",
       "      <td>2.8</td>\n",
       "      <td>South America</td>\n",
       "    </tr>\n",
       "    <tr>\n",
       "      <th>3</th>\n",
       "      <td>United Kingdom</td>\n",
       "      <td>8488685</td>\n",
       "      <td>138997</td>\n",
       "      <td>8443882</td>\n",
       "      <td>138940</td>\n",
       "      <td>44803</td>\n",
       "      <td>57</td>\n",
       "      <td>1.6</td>\n",
       "      <td>Europe</td>\n",
       "    </tr>\n",
       "    <tr>\n",
       "      <th>4</th>\n",
       "      <td>Russia</td>\n",
       "      <td>7870529</td>\n",
       "      <td>219342</td>\n",
       "      <td>7837101</td>\n",
       "      <td>218362</td>\n",
       "      <td>33428</td>\n",
       "      <td>980</td>\n",
       "      <td>2.8</td>\n",
       "      <td>Europe</td>\n",
       "    </tr>\n",
       "  </tbody>\n",
       "</table>\n",
       "</div>"
      ],
      "text/plain": [
       "   Country/Region     Cases  Deaths    PCases  PDeaths  Cases (+)  Deaths (+)  \\\n",
       "0              US  44933336  724317  44916423   724153      16913         164   \n",
       "1           India  34081315  452290  34067719   452124      13596         166   \n",
       "2          Brazil  21644464  603282  21638726   603152       5738         130   \n",
       "3  United Kingdom   8488685  138997   8443882   138940      44803          57   \n",
       "4          Russia   7870529  219342   7837101   218362      33428         980   \n",
       "\n",
       "   Fatality Rate      Continent  \n",
       "0            1.6  North America  \n",
       "1            1.3           Asia  \n",
       "2            2.8  South America  \n",
       "3            1.6         Europe  \n",
       "4            2.8         Europe  "
      ]
     },
     "execution_count": 15,
     "metadata": {},
     "output_type": "execute_result"
    }
   ],
   "source": [
    "#hide\n",
    "df_table = (pd.DataFrame(dict(Cases=dfc_cases, Deaths=dfc_deaths, PCases=dfp_cases, PDeaths=dfp_deaths))\n",
    "             .sort_values(by=['Cases', 'Deaths'], ascending=[False, False])\n",
    "             .reset_index())\n",
    "df_table.rename(columns={'index': 'Country/Region'}, inplace=True)\n",
    "for c in 'Cases, Deaths'.split(', '):\n",
    "    df_table[f'{c} (+)'] = (df_table[c] - df_table[f'P{c}']).clip(0)  # DATA BUG\n",
    "df_table['Fatality Rate'] = (100 * df_table['Deaths'] / df_table['Cases']).round(1)\n",
    "df_table['Continent'] = df_table['Country/Region'].map(mapping['map.continent'])\n",
    "df_table.head(5)"
   ]
  },
  {
   "cell_type": "code",
   "execution_count": 16,
   "id": "fewer-occasion",
   "metadata": {
    "execution": {
     "iopub.execute_input": "2021-10-19T00:24:36.955261Z",
     "iopub.status.busy": "2021-10-19T00:24:36.954719Z",
     "iopub.status.idle": "2021-10-19T00:24:36.957492Z",
     "shell.execute_reply": "2021-10-19T00:24:36.957992Z"
    },
    "papermill": {
     "duration": 0.039718,
     "end_time": "2021-10-19T00:24:36.958147",
     "exception": false,
     "start_time": "2021-10-19T00:24:36.918429",
     "status": "completed"
    },
    "tags": []
   },
   "outputs": [],
   "source": [
    "#hide\n",
    "#delete problematic countries from table\n",
    "df_table = df_table[~df_table['Country/Region'].isin(['Cape Verde', 'Cruise Ship', 'Kosovo'])]"
   ]
  },
  {
   "cell_type": "code",
   "execution_count": 17,
   "id": "related-center",
   "metadata": {
    "execution": {
     "iopub.execute_input": "2021-10-19T00:24:37.047783Z",
     "iopub.status.busy": "2021-10-19T00:24:37.046911Z",
     "iopub.status.idle": "2021-10-19T00:24:37.048569Z",
     "shell.execute_reply": "2021-10-19T00:24:37.049080Z"
    },
    "papermill": {
     "duration": 0.055992,
     "end_time": "2021-10-19T00:24:37.049201",
     "exception": false,
     "start_time": "2021-10-19T00:24:36.993209",
     "status": "completed"
    },
    "tags": []
   },
   "outputs": [],
   "source": [
    "#hide\n",
    "metrics = [df_table.columns[index] for index in [1,2,5,6]]\n",
    "# s_china = df_table[df_table['Country/Region'].eq('China')][metrics].sum().add_prefix('China ')\n",
    "s_us = df_table[df_table['Country/Region'].eq('US')][metrics].sum().add_prefix('US ')\n",
    "s_eu = df_table[df_table['Continent'].eq('Europe')][metrics].sum().add_prefix('EU ')\n",
    "s_ind = df_table[df_table['Country/Region'].eq('India')][metrics].sum().add_prefix('India ')\n",
    "summary = {'updated': pd.to_datetime(dt_today), 'since': pd.to_datetime(dt_yday)}\n",
    "summary = {'updated': pd.to_datetime(dt_today), 'since': pd.to_datetime(dt_yday)}\n",
    "summary = {**summary, **df_table[metrics].sum(), **s_ind, **s_us, **s_eu}"
   ]
  },
  {
   "cell_type": "code",
   "execution_count": 18,
   "id": "engaging-syndrome",
   "metadata": {
    "execution": {
     "iopub.execute_input": "2021-10-19T00:24:37.121101Z",
     "iopub.status.busy": "2021-10-19T00:24:37.120376Z",
     "iopub.status.idle": "2021-10-19T00:24:37.134776Z",
     "shell.execute_reply": "2021-10-19T00:24:37.135360Z"
    },
    "papermill": {
     "duration": 0.053664,
     "end_time": "2021-10-19T00:24:37.135525",
     "exception": false,
     "start_time": "2021-10-19T00:24:37.081861",
     "status": "completed"
    },
    "tags": []
   },
   "outputs": [],
   "source": [
    "#hide\n",
    "dft_ct_new_cases = dft_cases.groupby(COL_REGION)[dt_cols].sum().diff(axis=1).fillna(0).astype(int)"
   ]
  },
  {
   "cell_type": "code",
   "execution_count": 19,
   "id": "neutral-assignment",
   "metadata": {
    "execution": {
     "iopub.execute_input": "2021-10-19T00:24:37.208106Z",
     "iopub.status.busy": "2021-10-19T00:24:37.207439Z",
     "iopub.status.idle": "2021-10-19T00:24:37.210414Z",
     "shell.execute_reply": "2021-10-19T00:24:37.209715Z"
    },
    "papermill": {
     "duration": 0.041561,
     "end_time": "2021-10-19T00:24:37.210602",
     "exception": false,
     "start_time": "2021-10-19T00:24:37.169041",
     "status": "completed"
    },
    "tags": []
   },
   "outputs": [],
   "source": [
    "#hide\n",
    "everydaycases = dft_ct_new_cases.cumsum(axis=1)"
   ]
  },
  {
   "cell_type": "code",
   "execution_count": 20,
   "id": "parliamentary-calgary",
   "metadata": {
    "execution": {
     "iopub.execute_input": "2021-10-19T00:24:37.279674Z",
     "iopub.status.busy": "2021-10-19T00:24:37.278999Z",
     "iopub.status.idle": "2021-10-19T00:24:37.804704Z",
     "shell.execute_reply": "2021-10-19T00:24:37.805132Z"
    },
    "papermill": {
     "duration": 0.562828,
     "end_time": "2021-10-19T00:24:37.805282",
     "exception": false,
     "start_time": "2021-10-19T00:24:37.242454",
     "status": "completed"
    },
    "tags": []
   },
   "outputs": [],
   "source": [
    "#hide\n",
    "import pandas as pd\n",
    "import matplotlib.pyplot as plt\n",
    "import matplotlib.ticker as ticker\n",
    "import matplotlib.animation as animation\n",
    "from IPython.display import HTML"
   ]
  },
  {
   "cell_type": "code",
   "execution_count": 21,
   "id": "lasting-extraction",
   "metadata": {
    "execution": {
     "iopub.execute_input": "2021-10-19T00:24:37.882976Z",
     "iopub.status.busy": "2021-10-19T00:24:37.882218Z",
     "iopub.status.idle": "2021-10-19T00:24:37.888582Z",
     "shell.execute_reply": "2021-10-19T00:24:37.888109Z"
    },
    "papermill": {
     "duration": 0.047979,
     "end_time": "2021-10-19T00:24:37.888691",
     "exception": false,
     "start_time": "2021-10-19T00:24:37.840712",
     "status": "completed"
    },
    "tags": []
   },
   "outputs": [],
   "source": [
    "#hide\n",
    "t = everydaycases.stack()"
   ]
  },
  {
   "cell_type": "code",
   "execution_count": 22,
   "id": "premier-sleeve",
   "metadata": {
    "execution": {
     "iopub.execute_input": "2021-10-19T00:24:37.961858Z",
     "iopub.status.busy": "2021-10-19T00:24:37.961335Z",
     "iopub.status.idle": "2021-10-19T00:24:37.969731Z",
     "shell.execute_reply": "2021-10-19T00:24:37.969291Z"
    },
    "papermill": {
     "duration": 0.045495,
     "end_time": "2021-10-19T00:24:37.969833",
     "exception": false,
     "start_time": "2021-10-19T00:24:37.924338",
     "status": "completed"
    },
    "tags": []
   },
   "outputs": [],
   "source": [
    "#hide\n",
    "g = t.reset_index(['Country/Region'])"
   ]
  },
  {
   "cell_type": "code",
   "execution_count": 23,
   "id": "distributed-pittsburgh",
   "metadata": {
    "execution": {
     "iopub.execute_input": "2021-10-19T00:24:38.037989Z",
     "iopub.status.busy": "2021-10-19T00:24:38.037423Z",
     "iopub.status.idle": "2021-10-19T00:24:38.039764Z",
     "shell.execute_reply": "2021-10-19T00:24:38.039306Z"
    },
    "papermill": {
     "duration": 0.037959,
     "end_time": "2021-10-19T00:24:38.039871",
     "exception": false,
     "start_time": "2021-10-19T00:24:38.001912",
     "status": "completed"
    },
    "tags": []
   },
   "outputs": [],
   "source": [
    "#hide\n",
    "g.index.name = 'date'"
   ]
  },
  {
   "cell_type": "code",
   "execution_count": 24,
   "id": "naked-donor",
   "metadata": {
    "execution": {
     "iopub.execute_input": "2021-10-19T00:24:38.110875Z",
     "iopub.status.busy": "2021-10-19T00:24:38.110311Z",
     "iopub.status.idle": "2021-10-19T00:24:38.111993Z",
     "shell.execute_reply": "2021-10-19T00:24:38.112404Z"
    },
    "papermill": {
     "duration": 0.039267,
     "end_time": "2021-10-19T00:24:38.112528",
     "exception": false,
     "start_time": "2021-10-19T00:24:38.073261",
     "status": "completed"
    },
    "tags": []
   },
   "outputs": [],
   "source": [
    "# #hide\n",
    "# g = g.reset_index(['date'])"
   ]
  },
  {
   "cell_type": "code",
   "execution_count": 25,
   "id": "incomplete-mustang",
   "metadata": {
    "execution": {
     "iopub.execute_input": "2021-10-19T00:24:38.182488Z",
     "iopub.status.busy": "2021-10-19T00:24:38.181598Z",
     "iopub.status.idle": "2021-10-19T00:24:38.186297Z",
     "shell.execute_reply": "2021-10-19T00:24:38.186860Z"
    },
    "papermill": {
     "duration": 0.042585,
     "end_time": "2021-10-19T00:24:38.187042",
     "exception": false,
     "start_time": "2021-10-19T00:24:38.144457",
     "status": "completed"
    },
    "tags": []
   },
   "outputs": [],
   "source": [
    "#hide\n",
    "# g.head()"
   ]
  },
  {
   "cell_type": "code",
   "execution_count": 26,
   "id": "specific-kruger",
   "metadata": {
    "execution": {
     "iopub.execute_input": "2021-10-19T00:24:38.256329Z",
     "iopub.status.busy": "2021-10-19T00:24:38.255765Z",
     "iopub.status.idle": "2021-10-19T00:24:38.258481Z",
     "shell.execute_reply": "2021-10-19T00:24:38.258028Z"
    },
    "papermill": {
     "duration": 0.037172,
     "end_time": "2021-10-19T00:24:38.258588",
     "exception": false,
     "start_time": "2021-10-19T00:24:38.221416",
     "status": "completed"
    },
    "tags": []
   },
   "outputs": [],
   "source": [
    "#hide\n",
    "# g.columns = ['date','country','cases']"
   ]
  },
  {
   "cell_type": "code",
   "execution_count": 27,
   "id": "tender-conversion",
   "metadata": {
    "execution": {
     "iopub.execute_input": "2021-10-19T00:24:38.324925Z",
     "iopub.status.busy": "2021-10-19T00:24:38.324401Z",
     "iopub.status.idle": "2021-10-19T00:24:38.326327Z",
     "shell.execute_reply": "2021-10-19T00:24:38.326821Z"
    },
    "papermill": {
     "duration": 0.037667,
     "end_time": "2021-10-19T00:24:38.326937",
     "exception": false,
     "start_time": "2021-10-19T00:24:38.289270",
     "status": "completed"
    },
    "tags": []
   },
   "outputs": [],
   "source": [
    "#hide\n",
    "# g['continent'] = g.country"
   ]
  },
  {
   "cell_type": "code",
   "execution_count": 28,
   "id": "substantial-wilderness",
   "metadata": {
    "execution": {
     "iopub.execute_input": "2021-10-19T00:24:38.392500Z",
     "iopub.status.busy": "2021-10-19T00:24:38.391915Z",
     "iopub.status.idle": "2021-10-19T00:24:38.394645Z",
     "shell.execute_reply": "2021-10-19T00:24:38.394195Z"
    },
    "papermill": {
     "duration": 0.036177,
     "end_time": "2021-10-19T00:24:38.394745",
     "exception": false,
     "start_time": "2021-10-19T00:24:38.358568",
     "status": "completed"
    },
    "tags": []
   },
   "outputs": [],
   "source": [
    "#hide\n",
    "# cols = list(g.columns.values)"
   ]
  },
  {
   "cell_type": "code",
   "execution_count": 29,
   "id": "solved-farming",
   "metadata": {
    "execution": {
     "iopub.execute_input": "2021-10-19T00:24:38.462686Z",
     "iopub.status.busy": "2021-10-19T00:24:38.462156Z",
     "iopub.status.idle": "2021-10-19T00:24:38.464274Z",
     "shell.execute_reply": "2021-10-19T00:24:38.463824Z"
    },
    "papermill": {
     "duration": 0.036699,
     "end_time": "2021-10-19T00:24:38.464377",
     "exception": false,
     "start_time": "2021-10-19T00:24:38.427678",
     "status": "completed"
    },
    "tags": []
   },
   "outputs": [],
   "source": [
    "#hide\n",
    "# cols.insert(0, cols.pop())"
   ]
  },
  {
   "cell_type": "code",
   "execution_count": 30,
   "id": "executed-adoption",
   "metadata": {
    "execution": {
     "iopub.execute_input": "2021-10-19T00:24:38.531971Z",
     "iopub.status.busy": "2021-10-19T00:24:38.531442Z",
     "iopub.status.idle": "2021-10-19T00:24:38.533661Z",
     "shell.execute_reply": "2021-10-19T00:24:38.533214Z"
    },
    "papermill": {
     "duration": 0.037156,
     "end_time": "2021-10-19T00:24:38.533763",
     "exception": false,
     "start_time": "2021-10-19T00:24:38.496607",
     "status": "completed"
    },
    "tags": []
   },
   "outputs": [],
   "source": [
    "#hide\n",
    "# g = g[cols]"
   ]
  },
  {
   "cell_type": "code",
   "execution_count": 31,
   "id": "subject-dublin",
   "metadata": {
    "execution": {
     "iopub.execute_input": "2021-10-19T00:24:38.598616Z",
     "iopub.status.busy": "2021-10-19T00:24:38.598033Z",
     "iopub.status.idle": "2021-10-19T00:24:38.600505Z",
     "shell.execute_reply": "2021-10-19T00:24:38.599805Z"
    },
    "papermill": {
     "duration": 0.035984,
     "end_time": "2021-10-19T00:24:38.600653",
     "exception": false,
     "start_time": "2021-10-19T00:24:38.564669",
     "status": "completed"
    },
    "tags": []
   },
   "outputs": [],
   "source": [
    "#hide\n",
    "# g['continent'] = g['continent'].map(mapping['map.continent'])"
   ]
  },
  {
   "cell_type": "code",
   "execution_count": 32,
   "id": "freelance-scout",
   "metadata": {
    "execution": {
     "iopub.execute_input": "2021-10-19T00:24:38.669612Z",
     "iopub.status.busy": "2021-10-19T00:24:38.669075Z",
     "iopub.status.idle": "2021-10-19T00:24:38.671108Z",
     "shell.execute_reply": "2021-10-19T00:24:38.671515Z"
    },
    "papermill": {
     "duration": 0.037211,
     "end_time": "2021-10-19T00:24:38.671634",
     "exception": false,
     "start_time": "2021-10-19T00:24:38.634423",
     "status": "completed"
    },
    "tags": []
   },
   "outputs": [],
   "source": [
    "#hide\n",
    "# g.head()"
   ]
  },
  {
   "cell_type": "code",
   "execution_count": 33,
   "id": "limited-engine",
   "metadata": {
    "execution": {
     "iopub.execute_input": "2021-10-19T00:24:38.739202Z",
     "iopub.status.busy": "2021-10-19T00:24:38.738680Z",
     "iopub.status.idle": "2021-10-19T00:24:38.740474Z",
     "shell.execute_reply": "2021-10-19T00:24:38.740931Z"
    },
    "papermill": {
     "duration": 0.037449,
     "end_time": "2021-10-19T00:24:38.741044",
     "exception": false,
     "start_time": "2021-10-19T00:24:38.703595",
     "status": "completed"
    },
    "tags": []
   },
   "outputs": [],
   "source": [
    "# hide\n",
    "# g['date'] = g['date'].astype('datetime64[ns]')"
   ]
  },
  {
   "cell_type": "code",
   "execution_count": 34,
   "id": "sophisticated-supervisor",
   "metadata": {
    "execution": {
     "iopub.execute_input": "2021-10-19T00:24:38.807432Z",
     "iopub.status.busy": "2021-10-19T00:24:38.806904Z",
     "iopub.status.idle": "2021-10-19T00:24:38.809097Z",
     "shell.execute_reply": "2021-10-19T00:24:38.808647Z"
    },
    "papermill": {
     "duration": 0.036659,
     "end_time": "2021-10-19T00:24:38.809197",
     "exception": false,
     "start_time": "2021-10-19T00:24:38.772538",
     "status": "completed"
    },
    "tags": []
   },
   "outputs": [],
   "source": [
    "#hide\n",
    "# g['date'] = g.date.dt.dayofyear"
   ]
  },
  {
   "cell_type": "code",
   "execution_count": 35,
   "id": "inside-dubai",
   "metadata": {
    "execution": {
     "iopub.execute_input": "2021-10-19T00:24:38.874435Z",
     "iopub.status.busy": "2021-10-19T00:24:38.873833Z",
     "iopub.status.idle": "2021-10-19T00:24:38.876219Z",
     "shell.execute_reply": "2021-10-19T00:24:38.875770Z"
    },
    "papermill": {
     "duration": 0.036259,
     "end_time": "2021-10-19T00:24:38.876319",
     "exception": false,
     "start_time": "2021-10-19T00:24:38.840060",
     "status": "completed"
    },
    "tags": []
   },
   "outputs": [],
   "source": [
    "#hide\n",
    "# g = g.rename(columns= {'continent':'group','country':'name','cases':'value'})"
   ]
  },
  {
   "cell_type": "code",
   "execution_count": 36,
   "id": "fleet-motorcycle",
   "metadata": {
    "execution": {
     "iopub.execute_input": "2021-10-19T00:24:38.942817Z",
     "iopub.status.busy": "2021-10-19T00:24:38.942286Z",
     "iopub.status.idle": "2021-10-19T00:24:38.944238Z",
     "shell.execute_reply": "2021-10-19T00:24:38.944705Z"
    },
    "papermill": {
     "duration": 0.036657,
     "end_time": "2021-10-19T00:24:38.944834",
     "exception": false,
     "start_time": "2021-10-19T00:24:38.908177",
     "status": "completed"
    },
    "tags": []
   },
   "outputs": [],
   "source": [
    "#hide\n",
    "# cols = ['name','group','day','value']"
   ]
  },
  {
   "cell_type": "code",
   "execution_count": 37,
   "id": "continued-sleeping",
   "metadata": {
    "execution": {
     "iopub.execute_input": "2021-10-19T00:24:39.011352Z",
     "iopub.status.busy": "2021-10-19T00:24:39.010793Z",
     "iopub.status.idle": "2021-10-19T00:24:39.014170Z",
     "shell.execute_reply": "2021-10-19T00:24:39.013489Z"
    },
    "papermill": {
     "duration": 0.038908,
     "end_time": "2021-10-19T00:24:39.014296",
     "exception": false,
     "start_time": "2021-10-19T00:24:38.975388",
     "status": "completed"
    },
    "tags": []
   },
   "outputs": [],
   "source": [
    "#hide\n",
    "# g.rename(columns= {'date':'day'},inplace = True)"
   ]
  },
  {
   "cell_type": "code",
   "execution_count": 38,
   "id": "major-fight",
   "metadata": {
    "execution": {
     "iopub.execute_input": "2021-10-19T00:24:39.080059Z",
     "iopub.status.busy": "2021-10-19T00:24:39.079535Z",
     "iopub.status.idle": "2021-10-19T00:24:39.081957Z",
     "shell.execute_reply": "2021-10-19T00:24:39.081505Z"
    },
    "papermill": {
     "duration": 0.036396,
     "end_time": "2021-10-19T00:24:39.082058",
     "exception": false,
     "start_time": "2021-10-19T00:24:39.045662",
     "status": "completed"
    },
    "tags": []
   },
   "outputs": [],
   "source": [
    "#hide\n",
    "# g = g[cols]"
   ]
  },
  {
   "cell_type": "code",
   "execution_count": 39,
   "id": "structured-mobile",
   "metadata": {
    "execution": {
     "iopub.execute_input": "2021-10-19T00:24:39.153050Z",
     "iopub.status.busy": "2021-10-19T00:24:39.152484Z",
     "iopub.status.idle": "2021-10-19T00:24:39.154906Z",
     "shell.execute_reply": "2021-10-19T00:24:39.154453Z"
    },
    "papermill": {
     "duration": 0.041205,
     "end_time": "2021-10-19T00:24:39.155009",
     "exception": false,
     "start_time": "2021-10-19T00:24:39.113804",
     "status": "completed"
    },
    "tags": []
   },
   "outputs": [],
   "source": [
    "# #hide\n",
    "# g = g[g.group.notna()]"
   ]
  },
  {
   "cell_type": "code",
   "execution_count": 40,
   "id": "determined-closing",
   "metadata": {
    "execution": {
     "iopub.execute_input": "2021-10-19T00:24:39.227278Z",
     "iopub.status.busy": "2021-10-19T00:24:39.226704Z",
     "iopub.status.idle": "2021-10-19T00:24:39.228360Z",
     "shell.execute_reply": "2021-10-19T00:24:39.228786Z"
    },
    "papermill": {
     "duration": 0.040022,
     "end_time": "2021-10-19T00:24:39.228904",
     "exception": false,
     "start_time": "2021-10-19T00:24:39.188882",
     "status": "completed"
    },
    "tags": []
   },
   "outputs": [],
   "source": [
    "# #hide\n",
    "# colors = dict(zip(\n",
    "#     [\"Oceania\", \"Europe\", \"Asia\", \"South America\", \"Middle East\", \"North America\", \"Africa\"],\n",
    "#     [\"#adb0ff\", \"#ffb3ff\", \"#90d595\", \"#e48381\", \"#aafbff\", \"#f7bb5f\", \"#eafb50\"]\n",
    "# ))\n",
    "# group_lk = g.set_index('name')['group'].to_dict()"
   ]
  },
  {
   "cell_type": "code",
   "execution_count": null,
   "id": "gross-drinking",
   "metadata": {
    "papermill": {
     "duration": 0.033548,
     "end_time": "2021-10-19T00:24:39.293425",
     "exception": false,
     "start_time": "2021-10-19T00:24:39.259877",
     "status": "completed"
    },
    "tags": []
   },
   "outputs": [],
   "source": []
  },
  {
   "cell_type": "code",
   "execution_count": 41,
   "id": "subject-macintosh",
   "metadata": {
    "execution": {
     "iopub.execute_input": "2021-10-19T00:24:39.369048Z",
     "iopub.status.busy": "2021-10-19T00:24:39.368459Z",
     "iopub.status.idle": "2021-10-19T00:24:39.370406Z",
     "shell.execute_reply": "2021-10-19T00:24:39.370865Z"
    },
    "papermill": {
     "duration": 0.039711,
     "end_time": "2021-10-19T00:24:39.370986",
     "exception": false,
     "start_time": "2021-10-19T00:24:39.331275",
     "status": "completed"
    },
    "tags": []
   },
   "outputs": [],
   "source": [
    "# #hide\n",
    "# fig, ax = plt.subplots(figsize=(15, 8))\n",
    "\n",
    "# def draw_barchart(current_day):\n",
    "#     dff = g[g['day'].eq(current_day)].sort_values(by='value', ascending=True).tail(10)\n",
    "#     ax.clear()\n",
    "#     ax.barh(dff['name'], dff['value'], color=[colors[group_lk[x]] for x in dff['name']])\n",
    "#     dx = dff['value'].max() / 200\n",
    "    \n",
    "#     for i, (value, name) in enumerate(zip(dff['value'], dff['name'])):\n",
    "#         ax.text(value-dx, i,     name,           size=14, weight=600, ha='right', va='bottom')\n",
    "#         ax.text(value-dx, i-.25, group_lk[name], size=10, color='#444444', ha='right', va='baseline')\n",
    "#         ax.text(value+dx, i,     f'{value:,.0f}',  size=14, ha='left',  va='center')\n",
    "#     ax.text(1, 0.4, current_day, transform=ax.transAxes, color='#777777', size=46, ha='right', weight=800)\n",
    "#     ax.text(0, 1.06, 'Population (thousands)', transform=ax.transAxes, size=12, color='#777777')\n",
    "#     ax.xaxis.set_major_formatter(ticker.StrMethodFormatter('{x:,.0f}'))\n",
    "#     ax.xaxis.set_ticks_position('top')\n",
    "#     ax.tick_params(axis='x', colors='#777777', labelsize=12)\n",
    "#     ax.set_yticks([])\n",
    "#     ax.margins(0, 0.01)\n",
    "#     ax.grid(which='major', axis='x', linestyle='-')\n",
    "#     ax.set_axisbelow(True)\n",
    "    \n",
    "#     ax.text(0, 1.15, 'Coronavirus',\n",
    "#             transform=ax.transAxes, size=24, weight=600, ha='left', va='top')\n",
    "# #     ax.text(1, 0, 'by @pratapvardhan; credit @jburnmurdoch', transform=ax.transAxes, color='#777777', ha='right',\n",
    "# #             bbox=dict(facecolor='white', alpha=0.8, edgecolor='white'))\n",
    "#     plt.box(False)"
   ]
  },
  {
   "cell_type": "code",
   "execution_count": 42,
   "id": "sexual-wages",
   "metadata": {
    "execution": {
     "iopub.execute_input": "2021-10-19T00:24:39.437888Z",
     "iopub.status.busy": "2021-10-19T00:24:39.437335Z",
     "iopub.status.idle": "2021-10-19T00:24:39.439507Z",
     "shell.execute_reply": "2021-10-19T00:24:39.439960Z"
    },
    "papermill": {
     "duration": 0.037757,
     "end_time": "2021-10-19T00:24:39.440077",
     "exception": false,
     "start_time": "2021-10-19T00:24:39.402320",
     "status": "completed"
    },
    "tags": []
   },
   "outputs": [],
   "source": [
    "# #hide_input\n",
    "# fig, ax = plt.subplots(figsize=(15, 8))\n",
    "# animator = animation.FuncAnimation(fig, draw_barchart, frames=range(g.day.values.min(), g.day.values.max()))\n",
    "# HTML(animator.to_jshtml())\n",
    "# # or use animator.to_html5_video() or animator.save() "
   ]
  },
  {
   "cell_type": "code",
   "execution_count": null,
   "id": "australian-container",
   "metadata": {
    "papermill": {
     "duration": 0.031365,
     "end_time": "2021-10-19T00:24:39.502967",
     "exception": false,
     "start_time": "2021-10-19T00:24:39.471602",
     "status": "completed"
    },
    "tags": []
   },
   "outputs": [],
   "source": []
  },
  {
   "cell_type": "code",
   "execution_count": null,
   "id": "mediterranean-pontiac",
   "metadata": {
    "papermill": {
     "duration": 0.031089,
     "end_time": "2021-10-19T00:24:39.565856",
     "exception": false,
     "start_time": "2021-10-19T00:24:39.534767",
     "status": "completed"
    },
    "tags": []
   },
   "outputs": [],
   "source": []
  },
  {
   "cell_type": "code",
   "execution_count": null,
   "id": "aging-legislature",
   "metadata": {
    "papermill": {
     "duration": 0.032001,
     "end_time": "2021-10-19T00:24:39.631936",
     "exception": false,
     "start_time": "2021-10-19T00:24:39.599935",
     "status": "completed"
    },
    "tags": []
   },
   "outputs": [],
   "source": []
  }
 ],
 "metadata": {
  "kernelspec": {
   "display_name": "Python 3",
   "language": "python",
   "name": "python3"
  },
  "language_info": {
   "codemirror_mode": {
    "name": "ipython",
    "version": 3
   },
   "file_extension": ".py",
   "mimetype": "text/x-python",
   "name": "python",
   "nbconvert_exporter": "python",
   "pygments_lexer": "ipython3",
   "version": "3.6.15"
  },
  "papermill": {
   "duration": 6.5369,
   "end_time": "2021-10-19T00:24:39.972700",
   "environment_variables": {},
   "exception": null,
   "input_path": "2020-03-21-covid19exp.ipynb",
   "output_path": "2020-03-21-covid19exp.ipynb",
   "parameters": {},
   "start_time": "2021-10-19T00:24:33.435800",
   "version": "2.0.0"
  }
 },
 "nbformat": 4,
 "nbformat_minor": 5
}