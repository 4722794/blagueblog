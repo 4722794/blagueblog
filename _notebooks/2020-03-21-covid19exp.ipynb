{
 "cells": [
  {
   "cell_type": "markdown",
   "id": "muslim-click",
   "metadata": {
    "papermill": {
     "duration": 0.039834,
     "end_time": "2021-04-03T00:06:18.109280",
     "exception": false,
     "start_time": "2021-04-03T00:06:18.069446",
     "status": "completed"
    },
    "tags": []
   },
   "source": [
    "# COVID-19 Case Race\n",
    "> A race chart to see rising cases around the world\n",
    "\n",
    "- author: Hargun Oberoi\n",
    "- image: images/covid-overview.png\n",
    "- hide: false\n",
    "- badges: false"
   ]
  },
  {
   "cell_type": "code",
   "execution_count": 1,
   "id": "proof-material",
   "metadata": {
    "execution": {
     "iopub.execute_input": "2021-04-03T00:06:18.190569Z",
     "iopub.status.busy": "2021-04-03T00:06:18.189979Z",
     "iopub.status.idle": "2021-04-03T00:06:18.524040Z",
     "shell.execute_reply": "2021-04-03T00:06:18.523484Z"
    },
    "papermill": {
     "duration": 0.380441,
     "end_time": "2021-04-03T00:06:18.524277",
     "exception": false,
     "start_time": "2021-04-03T00:06:18.143836",
     "status": "completed"
    },
    "tags": []
   },
   "outputs": [],
   "source": [
    "#hide\n",
    "import numpy as np\n",
    "import pandas as pd\n",
    "from jinja2 import Template\n",
    "from IPython.display import HTML"
   ]
  },
  {
   "cell_type": "code",
   "execution_count": 2,
   "id": "developed-terminology",
   "metadata": {
    "execution": {
     "iopub.execute_input": "2021-04-03T00:06:18.595482Z",
     "iopub.status.busy": "2021-04-03T00:06:18.594871Z",
     "iopub.status.idle": "2021-04-03T00:06:18.597053Z",
     "shell.execute_reply": "2021-04-03T00:06:18.596541Z"
    },
    "papermill": {
     "duration": 0.040111,
     "end_time": "2021-04-03T00:06:18.597254",
     "exception": false,
     "start_time": "2021-04-03T00:06:18.557143",
     "status": "completed"
    },
    "tags": []
   },
   "outputs": [],
   "source": [
    "#hide\n",
    "\n",
    "# FETCH\n",
    "base_url = 'https://raw.githubusercontent.com/pratapvardhan/notebooks/master/covid19/'\n",
    "paths = {\n",
    "    'mapping': base_url + 'mapping_countries.csv',\n",
    "    'overview': base_url + 'overview.tpl'\n",
    "}"
   ]
  },
  {
   "cell_type": "code",
   "execution_count": 3,
   "id": "dynamic-saver",
   "metadata": {
    "execution": {
     "iopub.execute_input": "2021-04-03T00:06:18.673310Z",
     "iopub.status.busy": "2021-04-03T00:06:18.672758Z",
     "iopub.status.idle": "2021-04-03T00:06:18.675295Z",
     "shell.execute_reply": "2021-04-03T00:06:18.675736Z"
    },
    "papermill": {
     "duration": 0.045918,
     "end_time": "2021-04-03T00:06:18.675877",
     "exception": false,
     "start_time": "2021-04-03T00:06:18.629959",
     "status": "completed"
    },
    "tags": []
   },
   "outputs": [
    {
     "data": {
      "text/plain": [
       "'https://raw.githubusercontent.com/pratapvardhan/notebooks/master/covid19/mapping_countries.csv'"
      ]
     },
     "execution_count": 3,
     "metadata": {},
     "output_type": "execute_result"
    }
   ],
   "source": [
    "#hide\n",
    "paths['mapping']"
   ]
  },
  {
   "cell_type": "code",
   "execution_count": 4,
   "id": "urban-software",
   "metadata": {
    "execution": {
     "iopub.execute_input": "2021-04-03T00:06:18.748230Z",
     "iopub.status.busy": "2021-04-03T00:06:18.747666Z",
     "iopub.status.idle": "2021-04-03T00:06:18.749550Z",
     "shell.execute_reply": "2021-04-03T00:06:18.750005Z"
    },
    "papermill": {
     "duration": 0.039225,
     "end_time": "2021-04-03T00:06:18.750128",
     "exception": false,
     "start_time": "2021-04-03T00:06:18.710903",
     "status": "completed"
    },
    "tags": []
   },
   "outputs": [],
   "source": [
    "#hide\n",
    "def get_mappings(url):\n",
    "    df = pd.read_csv(url)\n",
    "    return {\n",
    "        'df': df,\n",
    "        'replace.country': dict(df.dropna(subset=['Name']).set_index('Country')['Name']),\n",
    "        'map.continent': dict(df.set_index('Name')['Continent'])\n",
    "    }"
   ]
  },
  {
   "cell_type": "code",
   "execution_count": 5,
   "id": "intimate-machinery",
   "metadata": {
    "execution": {
     "iopub.execute_input": "2021-04-03T00:06:18.827473Z",
     "iopub.status.busy": "2021-04-03T00:06:18.826926Z",
     "iopub.status.idle": "2021-04-03T00:06:18.871711Z",
     "shell.execute_reply": "2021-04-03T00:06:18.872395Z"
    },
    "papermill": {
     "duration": 0.089536,
     "end_time": "2021-04-03T00:06:18.872685",
     "exception": false,
     "start_time": "2021-04-03T00:06:18.783149",
     "status": "completed"
    },
    "tags": []
   },
   "outputs": [],
   "source": [
    "#hide\n",
    "mapping = get_mappings(paths['mapping'])"
   ]
  },
  {
   "cell_type": "code",
   "execution_count": 6,
   "id": "certified-tactics",
   "metadata": {
    "execution": {
     "iopub.execute_input": "2021-04-03T00:06:18.947702Z",
     "iopub.status.busy": "2021-04-03T00:06:18.947155Z",
     "iopub.status.idle": "2021-04-03T00:06:18.949220Z",
     "shell.execute_reply": "2021-04-03T00:06:18.949898Z"
    },
    "papermill": {
     "duration": 0.043093,
     "end_time": "2021-04-03T00:06:18.950110",
     "exception": false,
     "start_time": "2021-04-03T00:06:18.907017",
     "status": "completed"
    },
    "tags": []
   },
   "outputs": [],
   "source": [
    "#hide\n",
    "def get_template(path):\n",
    "    from urllib.parse import urlparse\n",
    "    if bool(urlparse(path).netloc):\n",
    "        from urllib.request import urlopen\n",
    "        return urlopen(path).read().decode('utf8')\n",
    "    return open(path).read()"
   ]
  },
  {
   "cell_type": "code",
   "execution_count": 7,
   "id": "realistic-blast",
   "metadata": {
    "execution": {
     "iopub.execute_input": "2021-04-03T00:06:19.022587Z",
     "iopub.status.busy": "2021-04-03T00:06:19.021915Z",
     "iopub.status.idle": "2021-04-03T00:06:19.024443Z",
     "shell.execute_reply": "2021-04-03T00:06:19.025358Z"
    },
    "papermill": {
     "duration": 0.041939,
     "end_time": "2021-04-03T00:06:19.025537",
     "exception": false,
     "start_time": "2021-04-03T00:06:18.983598",
     "status": "completed"
    },
    "tags": []
   },
   "outputs": [],
   "source": [
    "#hide\n",
    "def get_frame(name):\n",
    "    url = (\n",
    "        'https://raw.githubusercontent.com/CSSEGISandData/COVID-19/master/csse_covid_19_data/'\n",
    "        f'csse_covid_19_time_series/time_series_covid19_{name}_global.csv')\n",
    "    df = pd.read_csv(url)\n",
    "    # rename countries\n",
    "    df['Country/Region'] = df['Country/Region'].replace(mapping['replace.country'])\n",
    "    return df"
   ]
  },
  {
   "cell_type": "code",
   "execution_count": 8,
   "id": "affiliated-characterization",
   "metadata": {
    "execution": {
     "iopub.execute_input": "2021-04-03T00:06:19.104767Z",
     "iopub.status.busy": "2021-04-03T00:06:19.104210Z",
     "iopub.status.idle": "2021-04-03T00:06:19.107462Z",
     "shell.execute_reply": "2021-04-03T00:06:19.107034Z"
    },
    "papermill": {
     "duration": 0.042407,
     "end_time": "2021-04-03T00:06:19.107571",
     "exception": false,
     "start_time": "2021-04-03T00:06:19.065164",
     "status": "completed"
    },
    "tags": []
   },
   "outputs": [],
   "source": [
    "#hide\n",
    "def get_dates(df):\n",
    "    dt_cols = df.columns[~df.columns.isin(['Province/State', 'Country/Region', 'Lat', 'Long'])]\n",
    "    LAST_DATE_I = -1\n",
    "    # sometimes last column may be empty, then go backwards\n",
    "    for i in range(-1, -len(dt_cols), -1):\n",
    "        if not df[dt_cols[i]].fillna(0).eq(0).all():\n",
    "            LAST_DATE_I = i\n",
    "            break\n",
    "    return LAST_DATE_I, dt_cols"
   ]
  },
  {
   "cell_type": "code",
   "execution_count": 9,
   "id": "recent-optimization",
   "metadata": {
    "execution": {
     "iopub.execute_input": "2021-04-03T00:06:19.183196Z",
     "iopub.status.busy": "2021-04-03T00:06:19.182603Z",
     "iopub.status.idle": "2021-04-03T00:06:19.536180Z",
     "shell.execute_reply": "2021-04-03T00:06:19.535151Z"
    },
    "papermill": {
     "duration": 0.391079,
     "end_time": "2021-04-03T00:06:19.536309",
     "exception": false,
     "start_time": "2021-04-03T00:06:19.145230",
     "status": "completed"
    },
    "tags": []
   },
   "outputs": [],
   "source": [
    "#hide\n",
    "COL_REGION = 'Country/Region'\n",
    "# Confirmed, Recovered, Deaths\n",
    "df = get_frame('confirmed')\n",
    "# dft_: timeseries, dfc_: today country agg\n",
    "dft_cases = df\n",
    "dft_deaths = get_frame('deaths')\n",
    "dft_recovered = get_frame('recovered')\n",
    "LAST_DATE_I, dt_cols = get_dates(df)"
   ]
  },
  {
   "cell_type": "code",
   "execution_count": 10,
   "id": "absolute-copper",
   "metadata": {
    "execution": {
     "iopub.execute_input": "2021-04-03T00:06:19.616964Z",
     "iopub.status.busy": "2021-04-03T00:06:19.616302Z",
     "iopub.status.idle": "2021-04-03T00:06:19.618833Z",
     "shell.execute_reply": "2021-04-03T00:06:19.618184Z"
    },
    "papermill": {
     "duration": 0.04697,
     "end_time": "2021-04-03T00:06:19.618952",
     "exception": false,
     "start_time": "2021-04-03T00:06:19.571982",
     "status": "completed"
    },
    "tags": []
   },
   "outputs": [],
   "source": [
    "#hide\n",
    "LAST_DATE_I, dt_cols = get_dates(df)\n",
    "dt_today =dt_cols[LAST_DATE_I]\n",
    "# dt_5day = dt_cols[LAST_DATE_I - 5]\n",
    "dt_yday = dt_cols[LAST_DATE_I - 1]"
   ]
  },
  {
   "cell_type": "code",
   "execution_count": 11,
   "id": "restricted-sheriff",
   "metadata": {
    "execution": {
     "iopub.execute_input": "2021-04-03T00:06:19.706620Z",
     "iopub.status.busy": "2021-04-03T00:06:19.705751Z",
     "iopub.status.idle": "2021-04-03T00:06:19.713235Z",
     "shell.execute_reply": "2021-04-03T00:06:19.713816Z"
    },
    "papermill": {
     "duration": 0.057898,
     "end_time": "2021-04-03T00:06:19.713943",
     "exception": false,
     "start_time": "2021-04-03T00:06:19.656045",
     "status": "completed"
    },
    "tags": []
   },
   "outputs": [],
   "source": [
    "#hide\n",
    "dfc_cases = dft_cases.groupby(COL_REGION)[dt_today].sum()\n",
    "dfc_deaths = dft_deaths.groupby(COL_REGION)[dt_today].sum()\n",
    "# dfp_cases = dft_cases.groupby(COL_REGION)[dt_5day].sum()\n",
    "# dfp_deaths = dft_deaths.groupby(COL_REGION)[dt_5day].sum()\n",
    "dfp_cases = dft_cases.groupby(COL_REGION)[dt_yday].sum()\n",
    "dfp_deaths = dft_deaths.groupby(COL_REGION)[dt_yday].sum()"
   ]
  },
  {
   "cell_type": "code",
   "execution_count": 12,
   "id": "deluxe-hepatitis",
   "metadata": {
    "execution": {
     "iopub.execute_input": "2021-04-03T00:06:19.791575Z",
     "iopub.status.busy": "2021-04-03T00:06:19.791004Z",
     "iopub.status.idle": "2021-04-03T00:06:19.797156Z",
     "shell.execute_reply": "2021-04-03T00:06:19.797670Z"
    },
    "papermill": {
     "duration": 0.047672,
     "end_time": "2021-04-03T00:06:19.797795",
     "exception": false,
     "start_time": "2021-04-03T00:06:19.750123",
     "status": "completed"
    },
    "tags": []
   },
   "outputs": [],
   "source": [
    "#hide\n",
    "df_table = (pd.DataFrame(dict(Cases = dfc_cases, Deaths = dfc_deaths, PCases = dfp_cases, PDeaths = dfp_deaths))\n",
    "            .sort_values(by = ['Cases','Deaths'], ascending = [False, False])\n",
    "            .reset_index())"
   ]
  },
  {
   "cell_type": "code",
   "execution_count": 13,
   "id": "educational-chancellor",
   "metadata": {
    "execution": {
     "iopub.execute_input": "2021-04-03T00:06:19.885529Z",
     "iopub.status.busy": "2021-04-03T00:06:19.884963Z",
     "iopub.status.idle": "2021-04-03T00:06:19.892958Z",
     "shell.execute_reply": "2021-04-03T00:06:19.893459Z"
    },
    "papermill": {
     "duration": 0.06252,
     "end_time": "2021-04-03T00:06:19.893575",
     "exception": false,
     "start_time": "2021-04-03T00:06:19.831055",
     "status": "completed"
    },
    "tags": []
   },
   "outputs": [
    {
     "data": {
      "text/html": [
       "<div>\n",
       "<style scoped>\n",
       "    .dataframe tbody tr th:only-of-type {\n",
       "        vertical-align: middle;\n",
       "    }\n",
       "\n",
       "    .dataframe tbody tr th {\n",
       "        vertical-align: top;\n",
       "    }\n",
       "\n",
       "    .dataframe thead th {\n",
       "        text-align: right;\n",
       "    }\n",
       "</style>\n",
       "<table border=\"1\" class=\"dataframe\">\n",
       "  <thead>\n",
       "    <tr style=\"text-align: right;\">\n",
       "      <th></th>\n",
       "      <th>Country/Region</th>\n",
       "      <th>Cases</th>\n",
       "      <th>Deaths</th>\n",
       "      <th>PCases</th>\n",
       "      <th>PDeaths</th>\n",
       "      <th>Cases (+)</th>\n",
       "      <th>Deaths (+)</th>\n",
       "      <th>Fatality Rate</th>\n",
       "      <th>Continent</th>\n",
       "    </tr>\n",
       "  </thead>\n",
       "  <tbody>\n",
       "    <tr>\n",
       "      <th>0</th>\n",
       "      <td>US</td>\n",
       "      <td>30539868</td>\n",
       "      <td>553136</td>\n",
       "      <td>30460834</td>\n",
       "      <td>552072</td>\n",
       "      <td>79034</td>\n",
       "      <td>1064</td>\n",
       "      <td>1.81</td>\n",
       "      <td>North America</td>\n",
       "    </tr>\n",
       "    <tr>\n",
       "      <th>1</th>\n",
       "      <td>Brazil</td>\n",
       "      <td>12839844</td>\n",
       "      <td>325284</td>\n",
       "      <td>12748747</td>\n",
       "      <td>321515</td>\n",
       "      <td>91097</td>\n",
       "      <td>3769</td>\n",
       "      <td>2.53</td>\n",
       "      <td>South America</td>\n",
       "    </tr>\n",
       "    <tr>\n",
       "      <th>2</th>\n",
       "      <td>India</td>\n",
       "      <td>12303131</td>\n",
       "      <td>163396</td>\n",
       "      <td>12221665</td>\n",
       "      <td>162927</td>\n",
       "      <td>81466</td>\n",
       "      <td>469</td>\n",
       "      <td>1.33</td>\n",
       "      <td>Asia</td>\n",
       "    </tr>\n",
       "    <tr>\n",
       "      <th>3</th>\n",
       "      <td>France</td>\n",
       "      <td>4755779</td>\n",
       "      <td>96106</td>\n",
       "      <td>4705068</td>\n",
       "      <td>95798</td>\n",
       "      <td>50711</td>\n",
       "      <td>308</td>\n",
       "      <td>2.02</td>\n",
       "      <td>Europe</td>\n",
       "    </tr>\n",
       "    <tr>\n",
       "      <th>4</th>\n",
       "      <td>Russia</td>\n",
       "      <td>4503291</td>\n",
       "      <td>97594</td>\n",
       "      <td>4494234</td>\n",
       "      <td>97219</td>\n",
       "      <td>9057</td>\n",
       "      <td>375</td>\n",
       "      <td>2.17</td>\n",
       "      <td>Europe</td>\n",
       "    </tr>\n",
       "  </tbody>\n",
       "</table>\n",
       "</div>"
      ],
      "text/plain": [
       "  Country/Region     Cases  Deaths    PCases  PDeaths  Cases (+)  Deaths (+)  \\\n",
       "0             US  30539868  553136  30460834   552072      79034        1064   \n",
       "1         Brazil  12839844  325284  12748747   321515      91097        3769   \n",
       "2          India  12303131  163396  12221665   162927      81466         469   \n",
       "3         France   4755779   96106   4705068    95798      50711         308   \n",
       "4         Russia   4503291   97594   4494234    97219       9057         375   \n",
       "\n",
       "   Fatality Rate      Continent  \n",
       "0           1.81  North America  \n",
       "1           2.53  South America  \n",
       "2           1.33           Asia  \n",
       "3           2.02         Europe  \n",
       "4           2.17         Europe  "
      ]
     },
     "execution_count": 13,
     "metadata": {},
     "output_type": "execute_result"
    }
   ],
   "source": [
    "#hide\n",
    "for c in 'Cases, Deaths'.split(', '):\n",
    "    df_table[f'{c} (+)'] = (df_table[c] - df_table[f'P{c}']).clip(0)\n",
    "    #Clip ça veut dire, les chiffres negatif sont interdit\n",
    "df_table['Fatality Rate'] = (100* df_table['Deaths']/ df_table['Cases']).round(2)\n",
    "df_table['Continent'] = df_table['Country/Region'].map(mapping['map.continent'])\n",
    "df_table.head(5)"
   ]
  },
  {
   "cell_type": "code",
   "execution_count": 14,
   "id": "aboriginal-bulgaria",
   "metadata": {
    "execution": {
     "iopub.execute_input": "2021-04-03T00:06:19.963874Z",
     "iopub.status.busy": "2021-04-03T00:06:19.963374Z",
     "iopub.status.idle": "2021-04-03T00:06:19.967040Z",
     "shell.execute_reply": "2021-04-03T00:06:19.966631Z"
    },
    "papermill": {
     "duration": 0.040007,
     "end_time": "2021-04-03T00:06:19.967143",
     "exception": false,
     "start_time": "2021-04-03T00:06:19.927136",
     "status": "completed"
    },
    "tags": []
   },
   "outputs": [],
   "source": [
    "#hide\n",
    "#delete problematic countries from table\n",
    "df_table = df_table[~df_table['Country/Region'].isin(['Cape Verde', 'Cruise Ship', 'Kosovo'])]"
   ]
  },
  {
   "cell_type": "code",
   "execution_count": 15,
   "id": "fantastic-effect",
   "metadata": {
    "execution": {
     "iopub.execute_input": "2021-04-03T00:06:20.040486Z",
     "iopub.status.busy": "2021-04-03T00:06:20.039769Z",
     "iopub.status.idle": "2021-04-03T00:06:20.059834Z",
     "shell.execute_reply": "2021-04-03T00:06:20.060263Z"
    },
    "papermill": {
     "duration": 0.061767,
     "end_time": "2021-04-03T00:06:20.060394",
     "exception": false,
     "start_time": "2021-04-03T00:06:19.998627",
     "status": "completed"
    },
    "tags": []
   },
   "outputs": [
    {
     "data": {
      "text/html": [
       "<div>\n",
       "<style scoped>\n",
       "    .dataframe tbody tr th:only-of-type {\n",
       "        vertical-align: middle;\n",
       "    }\n",
       "\n",
       "    .dataframe tbody tr th {\n",
       "        vertical-align: top;\n",
       "    }\n",
       "\n",
       "    .dataframe thead th {\n",
       "        text-align: right;\n",
       "    }\n",
       "</style>\n",
       "<table border=\"1\" class=\"dataframe\">\n",
       "  <thead>\n",
       "    <tr style=\"text-align: right;\">\n",
       "      <th></th>\n",
       "      <th>Country/Region</th>\n",
       "      <th>Cases</th>\n",
       "      <th>Deaths</th>\n",
       "      <th>PCases</th>\n",
       "      <th>PDeaths</th>\n",
       "      <th>Cases (+)</th>\n",
       "      <th>Deaths (+)</th>\n",
       "      <th>Fatality Rate</th>\n",
       "      <th>Continent</th>\n",
       "    </tr>\n",
       "  </thead>\n",
       "  <tbody>\n",
       "    <tr>\n",
       "      <th>0</th>\n",
       "      <td>US</td>\n",
       "      <td>30539868</td>\n",
       "      <td>553136</td>\n",
       "      <td>30460834</td>\n",
       "      <td>552072</td>\n",
       "      <td>79034</td>\n",
       "      <td>1064</td>\n",
       "      <td>1.8</td>\n",
       "      <td>North America</td>\n",
       "    </tr>\n",
       "    <tr>\n",
       "      <th>1</th>\n",
       "      <td>Brazil</td>\n",
       "      <td>12839844</td>\n",
       "      <td>325284</td>\n",
       "      <td>12748747</td>\n",
       "      <td>321515</td>\n",
       "      <td>91097</td>\n",
       "      <td>3769</td>\n",
       "      <td>2.5</td>\n",
       "      <td>South America</td>\n",
       "    </tr>\n",
       "    <tr>\n",
       "      <th>2</th>\n",
       "      <td>India</td>\n",
       "      <td>12303131</td>\n",
       "      <td>163396</td>\n",
       "      <td>12221665</td>\n",
       "      <td>162927</td>\n",
       "      <td>81466</td>\n",
       "      <td>469</td>\n",
       "      <td>1.3</td>\n",
       "      <td>Asia</td>\n",
       "    </tr>\n",
       "    <tr>\n",
       "      <th>3</th>\n",
       "      <td>France</td>\n",
       "      <td>4755779</td>\n",
       "      <td>96106</td>\n",
       "      <td>4705068</td>\n",
       "      <td>95798</td>\n",
       "      <td>50711</td>\n",
       "      <td>308</td>\n",
       "      <td>2.0</td>\n",
       "      <td>Europe</td>\n",
       "    </tr>\n",
       "    <tr>\n",
       "      <th>4</th>\n",
       "      <td>Russia</td>\n",
       "      <td>4503291</td>\n",
       "      <td>97594</td>\n",
       "      <td>4494234</td>\n",
       "      <td>97219</td>\n",
       "      <td>9057</td>\n",
       "      <td>375</td>\n",
       "      <td>2.2</td>\n",
       "      <td>Europe</td>\n",
       "    </tr>\n",
       "  </tbody>\n",
       "</table>\n",
       "</div>"
      ],
      "text/plain": [
       "  Country/Region     Cases  Deaths    PCases  PDeaths  Cases (+)  Deaths (+)  \\\n",
       "0             US  30539868  553136  30460834   552072      79034        1064   \n",
       "1         Brazil  12839844  325284  12748747   321515      91097        3769   \n",
       "2          India  12303131  163396  12221665   162927      81466         469   \n",
       "3         France   4755779   96106   4705068    95798      50711         308   \n",
       "4         Russia   4503291   97594   4494234    97219       9057         375   \n",
       "\n",
       "   Fatality Rate      Continent  \n",
       "0            1.8  North America  \n",
       "1            2.5  South America  \n",
       "2            1.3           Asia  \n",
       "3            2.0         Europe  \n",
       "4            2.2         Europe  "
      ]
     },
     "execution_count": 15,
     "metadata": {},
     "output_type": "execute_result"
    }
   ],
   "source": [
    "#hide\n",
    "df_table = (pd.DataFrame(dict(Cases=dfc_cases, Deaths=dfc_deaths, PCases=dfp_cases, PDeaths=dfp_deaths))\n",
    "             .sort_values(by=['Cases', 'Deaths'], ascending=[False, False])\n",
    "             .reset_index())\n",
    "df_table.rename(columns={'index': 'Country/Region'}, inplace=True)\n",
    "for c in 'Cases, Deaths'.split(', '):\n",
    "    df_table[f'{c} (+)'] = (df_table[c] - df_table[f'P{c}']).clip(0)  # DATA BUG\n",
    "df_table['Fatality Rate'] = (100 * df_table['Deaths'] / df_table['Cases']).round(1)\n",
    "df_table['Continent'] = df_table['Country/Region'].map(mapping['map.continent'])\n",
    "df_table.head(5)"
   ]
  },
  {
   "cell_type": "code",
   "execution_count": 16,
   "id": "fewer-occasion",
   "metadata": {
    "execution": {
     "iopub.execute_input": "2021-04-03T00:06:20.138315Z",
     "iopub.status.busy": "2021-04-03T00:06:20.137677Z",
     "iopub.status.idle": "2021-04-03T00:06:20.139493Z",
     "shell.execute_reply": "2021-04-03T00:06:20.140016Z"
    },
    "papermill": {
     "duration": 0.046465,
     "end_time": "2021-04-03T00:06:20.140138",
     "exception": false,
     "start_time": "2021-04-03T00:06:20.093673",
     "status": "completed"
    },
    "tags": []
   },
   "outputs": [],
   "source": [
    "#hide\n",
    "#delete problematic countries from table\n",
    "df_table = df_table[~df_table['Country/Region'].isin(['Cape Verde', 'Cruise Ship', 'Kosovo'])]"
   ]
  },
  {
   "cell_type": "code",
   "execution_count": 17,
   "id": "related-center",
   "metadata": {
    "execution": {
     "iopub.execute_input": "2021-04-03T00:06:20.219003Z",
     "iopub.status.busy": "2021-04-03T00:06:20.218289Z",
     "iopub.status.idle": "2021-04-03T00:06:20.228453Z",
     "shell.execute_reply": "2021-04-03T00:06:20.227931Z"
    },
    "papermill": {
     "duration": 0.054148,
     "end_time": "2021-04-03T00:06:20.228588",
     "exception": false,
     "start_time": "2021-04-03T00:06:20.174440",
     "status": "completed"
    },
    "tags": []
   },
   "outputs": [],
   "source": [
    "#hide\n",
    "metrics = [df_table.columns[index] for index in [1,2,5,6]]\n",
    "# s_china = df_table[df_table['Country/Region'].eq('China')][metrics].sum().add_prefix('China ')\n",
    "s_us = df_table[df_table['Country/Region'].eq('US')][metrics].sum().add_prefix('US ')\n",
    "s_eu = df_table[df_table['Continent'].eq('Europe')][metrics].sum().add_prefix('EU ')\n",
    "s_ind = df_table[df_table['Country/Region'].eq('India')][metrics].sum().add_prefix('India ')\n",
    "summary = {'updated': pd.to_datetime(dt_today), 'since': pd.to_datetime(dt_yday)}\n",
    "summary = {'updated': pd.to_datetime(dt_today), 'since': pd.to_datetime(dt_yday)}\n",
    "summary = {**summary, **df_table[metrics].sum(), **s_ind, **s_us, **s_eu}"
   ]
  },
  {
   "cell_type": "code",
   "execution_count": 18,
   "id": "engaging-syndrome",
   "metadata": {
    "execution": {
     "iopub.execute_input": "2021-04-03T00:06:20.303481Z",
     "iopub.status.busy": "2021-04-03T00:06:20.302935Z",
     "iopub.status.idle": "2021-04-03T00:06:20.313773Z",
     "shell.execute_reply": "2021-04-03T00:06:20.314298Z"
    },
    "papermill": {
     "duration": 0.050391,
     "end_time": "2021-04-03T00:06:20.314420",
     "exception": false,
     "start_time": "2021-04-03T00:06:20.264029",
     "status": "completed"
    },
    "tags": []
   },
   "outputs": [],
   "source": [
    "#hide\n",
    "dft_ct_new_cases = dft_cases.groupby(COL_REGION)[dt_cols].sum().diff(axis=1).fillna(0).astype(int)"
   ]
  },
  {
   "cell_type": "code",
   "execution_count": 19,
   "id": "neutral-assignment",
   "metadata": {
    "execution": {
     "iopub.execute_input": "2021-04-03T00:06:20.390178Z",
     "iopub.status.busy": "2021-04-03T00:06:20.389452Z",
     "iopub.status.idle": "2021-04-03T00:06:20.391938Z",
     "shell.execute_reply": "2021-04-03T00:06:20.391419Z"
    },
    "papermill": {
     "duration": 0.042401,
     "end_time": "2021-04-03T00:06:20.392048",
     "exception": false,
     "start_time": "2021-04-03T00:06:20.349647",
     "status": "completed"
    },
    "tags": []
   },
   "outputs": [],
   "source": [
    "#hide\n",
    "everydaycases = dft_ct_new_cases.cumsum(axis=1)"
   ]
  },
  {
   "cell_type": "code",
   "execution_count": 20,
   "id": "parliamentary-calgary",
   "metadata": {
    "execution": {
     "iopub.execute_input": "2021-04-03T00:06:20.464464Z",
     "iopub.status.busy": "2021-04-03T00:06:20.463810Z",
     "iopub.status.idle": "2021-04-03T00:06:21.169890Z",
     "shell.execute_reply": "2021-04-03T00:06:21.168825Z"
    },
    "papermill": {
     "duration": 0.744049,
     "end_time": "2021-04-03T00:06:21.170016",
     "exception": false,
     "start_time": "2021-04-03T00:06:20.425967",
     "status": "completed"
    },
    "tags": []
   },
   "outputs": [],
   "source": [
    "#hide\n",
    "import pandas as pd\n",
    "import matplotlib.pyplot as plt\n",
    "import matplotlib.ticker as ticker\n",
    "import matplotlib.animation as animation\n",
    "from IPython.display import HTML"
   ]
  },
  {
   "cell_type": "code",
   "execution_count": 21,
   "id": "lasting-extraction",
   "metadata": {
    "execution": {
     "iopub.execute_input": "2021-04-03T00:06:21.248362Z",
     "iopub.status.busy": "2021-04-03T00:06:21.247806Z",
     "iopub.status.idle": "2021-04-03T00:06:21.253316Z",
     "shell.execute_reply": "2021-04-03T00:06:21.252766Z"
    },
    "papermill": {
     "duration": 0.048063,
     "end_time": "2021-04-03T00:06:21.253430",
     "exception": false,
     "start_time": "2021-04-03T00:06:21.205367",
     "status": "completed"
    },
    "tags": []
   },
   "outputs": [],
   "source": [
    "#hide\n",
    "t = everydaycases.stack()"
   ]
  },
  {
   "cell_type": "code",
   "execution_count": 22,
   "id": "premier-sleeve",
   "metadata": {
    "execution": {
     "iopub.execute_input": "2021-04-03T00:06:21.326213Z",
     "iopub.status.busy": "2021-04-03T00:06:21.324453Z",
     "iopub.status.idle": "2021-04-03T00:06:21.331927Z",
     "shell.execute_reply": "2021-04-03T00:06:21.332464Z"
    },
    "papermill": {
     "duration": 0.044963,
     "end_time": "2021-04-03T00:06:21.332593",
     "exception": false,
     "start_time": "2021-04-03T00:06:21.287630",
     "status": "completed"
    },
    "tags": []
   },
   "outputs": [],
   "source": [
    "#hide\n",
    "g = t.reset_index(['Country/Region'])"
   ]
  },
  {
   "cell_type": "code",
   "execution_count": 23,
   "id": "distributed-pittsburgh",
   "metadata": {
    "execution": {
     "iopub.execute_input": "2021-04-03T00:06:21.411866Z",
     "iopub.status.busy": "2021-04-03T00:06:21.411301Z",
     "iopub.status.idle": "2021-04-03T00:06:21.414058Z",
     "shell.execute_reply": "2021-04-03T00:06:21.413414Z"
    },
    "papermill": {
     "duration": 0.04717,
     "end_time": "2021-04-03T00:06:21.414171",
     "exception": false,
     "start_time": "2021-04-03T00:06:21.367001",
     "status": "completed"
    },
    "tags": []
   },
   "outputs": [],
   "source": [
    "#hide\n",
    "g.index.name = 'date'"
   ]
  },
  {
   "cell_type": "code",
   "execution_count": 24,
   "id": "naked-donor",
   "metadata": {
    "execution": {
     "iopub.execute_input": "2021-04-03T00:06:21.490214Z",
     "iopub.status.busy": "2021-04-03T00:06:21.489640Z",
     "iopub.status.idle": "2021-04-03T00:06:21.491559Z",
     "shell.execute_reply": "2021-04-03T00:06:21.492009Z"
    },
    "papermill": {
     "duration": 0.040691,
     "end_time": "2021-04-03T00:06:21.492157",
     "exception": false,
     "start_time": "2021-04-03T00:06:21.451466",
     "status": "completed"
    },
    "tags": []
   },
   "outputs": [],
   "source": [
    "# #hide\n",
    "# g = g.reset_index(['date'])"
   ]
  },
  {
   "cell_type": "code",
   "execution_count": 25,
   "id": "incomplete-mustang",
   "metadata": {
    "execution": {
     "iopub.execute_input": "2021-04-03T00:06:21.564486Z",
     "iopub.status.busy": "2021-04-03T00:06:21.563903Z",
     "iopub.status.idle": "2021-04-03T00:06:21.566302Z",
     "shell.execute_reply": "2021-04-03T00:06:21.565813Z"
    },
    "papermill": {
     "duration": 0.040584,
     "end_time": "2021-04-03T00:06:21.566411",
     "exception": false,
     "start_time": "2021-04-03T00:06:21.525827",
     "status": "completed"
    },
    "tags": []
   },
   "outputs": [],
   "source": [
    "#hide\n",
    "# g.head()"
   ]
  },
  {
   "cell_type": "code",
   "execution_count": 26,
   "id": "specific-kruger",
   "metadata": {
    "execution": {
     "iopub.execute_input": "2021-04-03T00:06:21.643523Z",
     "iopub.status.busy": "2021-04-03T00:06:21.643001Z",
     "iopub.status.idle": "2021-04-03T00:06:21.645325Z",
     "shell.execute_reply": "2021-04-03T00:06:21.644884Z"
    },
    "papermill": {
     "duration": 0.045125,
     "end_time": "2021-04-03T00:06:21.645431",
     "exception": false,
     "start_time": "2021-04-03T00:06:21.600306",
     "status": "completed"
    },
    "tags": []
   },
   "outputs": [],
   "source": [
    "#hide\n",
    "# g.columns = ['date','country','cases']"
   ]
  },
  {
   "cell_type": "code",
   "execution_count": 27,
   "id": "tender-conversion",
   "metadata": {
    "execution": {
     "iopub.execute_input": "2021-04-03T00:06:21.715631Z",
     "iopub.status.busy": "2021-04-03T00:06:21.714895Z",
     "iopub.status.idle": "2021-04-03T00:06:21.716828Z",
     "shell.execute_reply": "2021-04-03T00:06:21.717581Z"
    },
    "papermill": {
     "duration": 0.038369,
     "end_time": "2021-04-03T00:06:21.718022",
     "exception": false,
     "start_time": "2021-04-03T00:06:21.679653",
     "status": "completed"
    },
    "tags": []
   },
   "outputs": [],
   "source": [
    "#hide\n",
    "# g['continent'] = g.country"
   ]
  },
  {
   "cell_type": "code",
   "execution_count": 28,
   "id": "substantial-wilderness",
   "metadata": {
    "execution": {
     "iopub.execute_input": "2021-04-03T00:06:21.788657Z",
     "iopub.status.busy": "2021-04-03T00:06:21.788095Z",
     "iopub.status.idle": "2021-04-03T00:06:21.790462Z",
     "shell.execute_reply": "2021-04-03T00:06:21.789843Z"
    },
    "papermill": {
     "duration": 0.03936,
     "end_time": "2021-04-03T00:06:21.790616",
     "exception": false,
     "start_time": "2021-04-03T00:06:21.751256",
     "status": "completed"
    },
    "tags": []
   },
   "outputs": [],
   "source": [
    "#hide\n",
    "# cols = list(g.columns.values)"
   ]
  },
  {
   "cell_type": "code",
   "execution_count": 29,
   "id": "solved-farming",
   "metadata": {
    "execution": {
     "iopub.execute_input": "2021-04-03T00:06:21.863101Z",
     "iopub.status.busy": "2021-04-03T00:06:21.862449Z",
     "iopub.status.idle": "2021-04-03T00:06:21.864864Z",
     "shell.execute_reply": "2021-04-03T00:06:21.864400Z"
    },
    "papermill": {
     "duration": 0.04008,
     "end_time": "2021-04-03T00:06:21.864974",
     "exception": false,
     "start_time": "2021-04-03T00:06:21.824894",
     "status": "completed"
    },
    "tags": []
   },
   "outputs": [],
   "source": [
    "#hide\n",
    "# cols.insert(0, cols.pop())"
   ]
  },
  {
   "cell_type": "code",
   "execution_count": 30,
   "id": "executed-adoption",
   "metadata": {
    "execution": {
     "iopub.execute_input": "2021-04-03T00:06:21.944343Z",
     "iopub.status.busy": "2021-04-03T00:06:21.943719Z",
     "iopub.status.idle": "2021-04-03T00:06:21.945905Z",
     "shell.execute_reply": "2021-04-03T00:06:21.946505Z"
    },
    "papermill": {
     "duration": 0.044599,
     "end_time": "2021-04-03T00:06:21.946786",
     "exception": false,
     "start_time": "2021-04-03T00:06:21.902187",
     "status": "completed"
    },
    "tags": []
   },
   "outputs": [],
   "source": [
    "#hide\n",
    "# g = g[cols]"
   ]
  },
  {
   "cell_type": "code",
   "execution_count": 31,
   "id": "subject-dublin",
   "metadata": {
    "execution": {
     "iopub.execute_input": "2021-04-03T00:06:22.021135Z",
     "iopub.status.busy": "2021-04-03T00:06:22.020525Z",
     "iopub.status.idle": "2021-04-03T00:06:22.023294Z",
     "shell.execute_reply": "2021-04-03T00:06:22.022848Z"
    },
    "papermill": {
     "duration": 0.039502,
     "end_time": "2021-04-03T00:06:22.023463",
     "exception": false,
     "start_time": "2021-04-03T00:06:21.983961",
     "status": "completed"
    },
    "tags": []
   },
   "outputs": [],
   "source": [
    "#hide\n",
    "# g['continent'] = g['continent'].map(mapping['map.continent'])"
   ]
  },
  {
   "cell_type": "code",
   "execution_count": 32,
   "id": "freelance-scout",
   "metadata": {
    "execution": {
     "iopub.execute_input": "2021-04-03T00:06:22.096381Z",
     "iopub.status.busy": "2021-04-03T00:06:22.095629Z",
     "iopub.status.idle": "2021-04-03T00:06:22.098051Z",
     "shell.execute_reply": "2021-04-03T00:06:22.097449Z"
    },
    "papermill": {
     "duration": 0.040225,
     "end_time": "2021-04-03T00:06:22.098165",
     "exception": false,
     "start_time": "2021-04-03T00:06:22.057940",
     "status": "completed"
    },
    "tags": []
   },
   "outputs": [],
   "source": [
    "#hide\n",
    "# g.head()"
   ]
  },
  {
   "cell_type": "code",
   "execution_count": 33,
   "id": "limited-engine",
   "metadata": {
    "execution": {
     "iopub.execute_input": "2021-04-03T00:06:22.167351Z",
     "iopub.status.busy": "2021-04-03T00:06:22.166832Z",
     "iopub.status.idle": "2021-04-03T00:06:22.169401Z",
     "shell.execute_reply": "2021-04-03T00:06:22.168782Z"
    },
    "papermill": {
     "duration": 0.037549,
     "end_time": "2021-04-03T00:06:22.169544",
     "exception": false,
     "start_time": "2021-04-03T00:06:22.131995",
     "status": "completed"
    },
    "tags": []
   },
   "outputs": [],
   "source": [
    "# hide\n",
    "# g['date'] = g['date'].astype('datetime64[ns]')"
   ]
  },
  {
   "cell_type": "code",
   "execution_count": 34,
   "id": "sophisticated-supervisor",
   "metadata": {
    "execution": {
     "iopub.execute_input": "2021-04-03T00:06:22.242645Z",
     "iopub.status.busy": "2021-04-03T00:06:22.242089Z",
     "iopub.status.idle": "2021-04-03T00:06:22.244432Z",
     "shell.execute_reply": "2021-04-03T00:06:22.245028Z"
    },
    "papermill": {
     "duration": 0.042373,
     "end_time": "2021-04-03T00:06:22.245145",
     "exception": false,
     "start_time": "2021-04-03T00:06:22.202772",
     "status": "completed"
    },
    "tags": []
   },
   "outputs": [],
   "source": [
    "#hide\n",
    "# g['date'] = g.date.dt.dayofyear"
   ]
  },
  {
   "cell_type": "code",
   "execution_count": 35,
   "id": "inside-dubai",
   "metadata": {
    "execution": {
     "iopub.execute_input": "2021-04-03T00:06:22.313037Z",
     "iopub.status.busy": "2021-04-03T00:06:22.312507Z",
     "iopub.status.idle": "2021-04-03T00:06:22.314993Z",
     "shell.execute_reply": "2021-04-03T00:06:22.314465Z"
    },
    "papermill": {
     "duration": 0.037233,
     "end_time": "2021-04-03T00:06:22.315098",
     "exception": false,
     "start_time": "2021-04-03T00:06:22.277865",
     "status": "completed"
    },
    "tags": []
   },
   "outputs": [],
   "source": [
    "#hide\n",
    "# g = g.rename(columns= {'continent':'group','country':'name','cases':'value'})"
   ]
  },
  {
   "cell_type": "code",
   "execution_count": 36,
   "id": "fleet-motorcycle",
   "metadata": {
    "execution": {
     "iopub.execute_input": "2021-04-03T00:06:22.385515Z",
     "iopub.status.busy": "2021-04-03T00:06:22.385019Z",
     "iopub.status.idle": "2021-04-03T00:06:22.386825Z",
     "shell.execute_reply": "2021-04-03T00:06:22.387476Z"
    },
    "papermill": {
     "duration": 0.03822,
     "end_time": "2021-04-03T00:06:22.387625",
     "exception": false,
     "start_time": "2021-04-03T00:06:22.349405",
     "status": "completed"
    },
    "tags": []
   },
   "outputs": [],
   "source": [
    "#hide\n",
    "# cols = ['name','group','day','value']"
   ]
  },
  {
   "cell_type": "code",
   "execution_count": 37,
   "id": "continued-sleeping",
   "metadata": {
    "execution": {
     "iopub.execute_input": "2021-04-03T00:06:22.457745Z",
     "iopub.status.busy": "2021-04-03T00:06:22.457245Z",
     "iopub.status.idle": "2021-04-03T00:06:22.459363Z",
     "shell.execute_reply": "2021-04-03T00:06:22.459865Z"
    },
    "papermill": {
     "duration": 0.037558,
     "end_time": "2021-04-03T00:06:22.459983",
     "exception": false,
     "start_time": "2021-04-03T00:06:22.422425",
     "status": "completed"
    },
    "tags": []
   },
   "outputs": [],
   "source": [
    "#hide\n",
    "# g.rename(columns= {'date':'day'},inplace = True)"
   ]
  },
  {
   "cell_type": "code",
   "execution_count": 38,
   "id": "major-fight",
   "metadata": {
    "execution": {
     "iopub.execute_input": "2021-04-03T00:06:22.526005Z",
     "iopub.status.busy": "2021-04-03T00:06:22.525441Z",
     "iopub.status.idle": "2021-04-03T00:06:22.529019Z",
     "shell.execute_reply": "2021-04-03T00:06:22.527315Z"
    },
    "papermill": {
     "duration": 0.037574,
     "end_time": "2021-04-03T00:06:22.529190",
     "exception": false,
     "start_time": "2021-04-03T00:06:22.491616",
     "status": "completed"
    },
    "tags": []
   },
   "outputs": [],
   "source": [
    "#hide\n",
    "# g = g[cols]"
   ]
  },
  {
   "cell_type": "code",
   "execution_count": 39,
   "id": "structured-mobile",
   "metadata": {
    "execution": {
     "iopub.execute_input": "2021-04-03T00:06:22.606740Z",
     "iopub.status.busy": "2021-04-03T00:06:22.605616Z",
     "iopub.status.idle": "2021-04-03T00:06:22.607458Z",
     "shell.execute_reply": "2021-04-03T00:06:22.608084Z"
    },
    "papermill": {
     "duration": 0.043483,
     "end_time": "2021-04-03T00:06:22.608225",
     "exception": false,
     "start_time": "2021-04-03T00:06:22.564742",
     "status": "completed"
    },
    "tags": []
   },
   "outputs": [],
   "source": [
    "# #hide\n",
    "# g = g[g.group.notna()]"
   ]
  },
  {
   "cell_type": "code",
   "execution_count": 40,
   "id": "determined-closing",
   "metadata": {
    "execution": {
     "iopub.execute_input": "2021-04-03T00:06:22.681695Z",
     "iopub.status.busy": "2021-04-03T00:06:22.681046Z",
     "iopub.status.idle": "2021-04-03T00:06:22.683240Z",
     "shell.execute_reply": "2021-04-03T00:06:22.682726Z"
    },
    "papermill": {
     "duration": 0.038605,
     "end_time": "2021-04-03T00:06:22.683350",
     "exception": false,
     "start_time": "2021-04-03T00:06:22.644745",
     "status": "completed"
    },
    "tags": []
   },
   "outputs": [],
   "source": [
    "# #hide\n",
    "# colors = dict(zip(\n",
    "#     [\"Oceania\", \"Europe\", \"Asia\", \"South America\", \"Middle East\", \"North America\", \"Africa\"],\n",
    "#     [\"#adb0ff\", \"#ffb3ff\", \"#90d595\", \"#e48381\", \"#aafbff\", \"#f7bb5f\", \"#eafb50\"]\n",
    "# ))\n",
    "# group_lk = g.set_index('name')['group'].to_dict()"
   ]
  },
  {
   "cell_type": "code",
   "execution_count": null,
   "id": "gross-drinking",
   "metadata": {
    "papermill": {
     "duration": 0.035368,
     "end_time": "2021-04-03T00:06:22.752808",
     "exception": false,
     "start_time": "2021-04-03T00:06:22.717440",
     "status": "completed"
    },
    "tags": []
   },
   "outputs": [],
   "source": []
  },
  {
   "cell_type": "code",
   "execution_count": 41,
   "id": "subject-macintosh",
   "metadata": {
    "execution": {
     "iopub.execute_input": "2021-04-03T00:06:22.833029Z",
     "iopub.status.busy": "2021-04-03T00:06:22.832415Z",
     "iopub.status.idle": "2021-04-03T00:06:22.834899Z",
     "shell.execute_reply": "2021-04-03T00:06:22.834376Z"
    },
    "papermill": {
     "duration": 0.044262,
     "end_time": "2021-04-03T00:06:22.835018",
     "exception": false,
     "start_time": "2021-04-03T00:06:22.790756",
     "status": "completed"
    },
    "tags": []
   },
   "outputs": [],
   "source": [
    "# #hide\n",
    "# fig, ax = plt.subplots(figsize=(15, 8))\n",
    "\n",
    "# def draw_barchart(current_day):\n",
    "#     dff = g[g['day'].eq(current_day)].sort_values(by='value', ascending=True).tail(10)\n",
    "#     ax.clear()\n",
    "#     ax.barh(dff['name'], dff['value'], color=[colors[group_lk[x]] for x in dff['name']])\n",
    "#     dx = dff['value'].max() / 200\n",
    "    \n",
    "#     for i, (value, name) in enumerate(zip(dff['value'], dff['name'])):\n",
    "#         ax.text(value-dx, i,     name,           size=14, weight=600, ha='right', va='bottom')\n",
    "#         ax.text(value-dx, i-.25, group_lk[name], size=10, color='#444444', ha='right', va='baseline')\n",
    "#         ax.text(value+dx, i,     f'{value:,.0f}',  size=14, ha='left',  va='center')\n",
    "#     ax.text(1, 0.4, current_day, transform=ax.transAxes, color='#777777', size=46, ha='right', weight=800)\n",
    "#     ax.text(0, 1.06, 'Population (thousands)', transform=ax.transAxes, size=12, color='#777777')\n",
    "#     ax.xaxis.set_major_formatter(ticker.StrMethodFormatter('{x:,.0f}'))\n",
    "#     ax.xaxis.set_ticks_position('top')\n",
    "#     ax.tick_params(axis='x', colors='#777777', labelsize=12)\n",
    "#     ax.set_yticks([])\n",
    "#     ax.margins(0, 0.01)\n",
    "#     ax.grid(which='major', axis='x', linestyle='-')\n",
    "#     ax.set_axisbelow(True)\n",
    "    \n",
    "#     ax.text(0, 1.15, 'Coronavirus',\n",
    "#             transform=ax.transAxes, size=24, weight=600, ha='left', va='top')\n",
    "# #     ax.text(1, 0, 'by @pratapvardhan; credit @jburnmurdoch', transform=ax.transAxes, color='#777777', ha='right',\n",
    "# #             bbox=dict(facecolor='white', alpha=0.8, edgecolor='white'))\n",
    "#     plt.box(False)"
   ]
  },
  {
   "cell_type": "code",
   "execution_count": 42,
   "id": "sexual-wages",
   "metadata": {
    "execution": {
     "iopub.execute_input": "2021-04-03T00:06:22.917930Z",
     "iopub.status.busy": "2021-04-03T00:06:22.917352Z",
     "iopub.status.idle": "2021-04-03T00:06:22.920169Z",
     "shell.execute_reply": "2021-04-03T00:06:22.920852Z"
    },
    "papermill": {
     "duration": 0.044527,
     "end_time": "2021-04-03T00:06:22.921046",
     "exception": false,
     "start_time": "2021-04-03T00:06:22.876519",
     "status": "completed"
    },
    "tags": []
   },
   "outputs": [],
   "source": [
    "# #hide_input\n",
    "# fig, ax = plt.subplots(figsize=(15, 8))\n",
    "# animator = animation.FuncAnimation(fig, draw_barchart, frames=range(g.day.values.min(), g.day.values.max()))\n",
    "# HTML(animator.to_jshtml())\n",
    "# # or use animator.to_html5_video() or animator.save() "
   ]
  },
  {
   "cell_type": "code",
   "execution_count": null,
   "id": "australian-container",
   "metadata": {
    "papermill": {
     "duration": 0.037285,
     "end_time": "2021-04-03T00:06:22.994293",
     "exception": false,
     "start_time": "2021-04-03T00:06:22.957008",
     "status": "completed"
    },
    "tags": []
   },
   "outputs": [],
   "source": []
  },
  {
   "cell_type": "code",
   "execution_count": null,
   "id": "mediterranean-pontiac",
   "metadata": {
    "papermill": {
     "duration": 0.033711,
     "end_time": "2021-04-03T00:06:23.066657",
     "exception": false,
     "start_time": "2021-04-03T00:06:23.032946",
     "status": "completed"
    },
    "tags": []
   },
   "outputs": [],
   "source": []
  },
  {
   "cell_type": "code",
   "execution_count": null,
   "id": "aging-legislature",
   "metadata": {
    "papermill": {
     "duration": 0.035038,
     "end_time": "2021-04-03T00:06:23.140044",
     "exception": false,
     "start_time": "2021-04-03T00:06:23.105006",
     "status": "completed"
    },
    "tags": []
   },
   "outputs": [],
   "source": []
  }
 ],
 "metadata": {
  "kernelspec": {
   "display_name": "Python 3",
   "language": "python",
   "name": "python3"
  },
  "language_info": {
   "codemirror_mode": {
    "name": "ipython",
    "version": 3
   },
   "file_extension": ".py",
   "mimetype": "text/x-python",
   "name": "python",
   "nbconvert_exporter": "python",
   "pygments_lexer": "ipython3",
   "version": "3.6.13"
  },
  "papermill": {
   "duration": 6.796281,
   "end_time": "2021-04-03T00:06:23.581953",
   "environment_variables": {},
   "exception": null,
   "input_path": "2020-03-21-covid19exp.ipynb",
   "output_path": "2020-03-21-covid19exp.ipynb",
   "parameters": {},
   "start_time": "2021-04-03T00:06:16.785672",
   "version": "2.0.0"
  }
 },
 "nbformat": 4,
 "nbformat_minor": 5
}