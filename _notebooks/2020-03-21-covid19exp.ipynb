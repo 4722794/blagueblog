{
 "cells": [
  {
   "cell_type": "markdown",
   "id": "muslim-click",
   "metadata": {
    "papermill": {
     "duration": 0.039976,
     "end_time": "2022-06-05T00:46:26.592558",
     "exception": false,
     "start_time": "2022-06-05T00:46:26.552582",
     "status": "completed"
    },
    "tags": []
   },
   "source": [
    "# COVID-19 Case Race\n",
    "> A race chart to see rising cases around the world\n",
    "\n",
    "- author: Hargun Oberoi\n",
    "- image: images/covid-overview.png\n",
    "- hide: false\n",
    "- badges: false"
   ]
  },
  {
   "cell_type": "code",
   "execution_count": 1,
   "id": "proof-material",
   "metadata": {
    "execution": {
     "iopub.execute_input": "2022-06-05T00:46:26.670453Z",
     "iopub.status.busy": "2022-06-05T00:46:26.666754Z",
     "iopub.status.idle": "2022-06-05T00:46:27.077924Z",
     "shell.execute_reply": "2022-06-05T00:46:27.078988Z"
    },
    "papermill": {
     "duration": 0.45301,
     "end_time": "2022-06-05T00:46:27.079289",
     "exception": false,
     "start_time": "2022-06-05T00:46:26.626279",
     "status": "completed"
    },
    "tags": []
   },
   "outputs": [],
   "source": [
    "#hide\n",
    "import numpy as np\n",
    "import pandas as pd\n",
    "from jinja2 import Template\n",
    "from IPython.display import HTML"
   ]
  },
  {
   "cell_type": "code",
   "execution_count": 2,
   "id": "developed-terminology",
   "metadata": {
    "execution": {
     "iopub.execute_input": "2022-06-05T00:46:27.152982Z",
     "iopub.status.busy": "2022-06-05T00:46:27.152254Z",
     "iopub.status.idle": "2022-06-05T00:46:27.154996Z",
     "shell.execute_reply": "2022-06-05T00:46:27.154319Z"
    },
    "papermill": {
     "duration": 0.040424,
     "end_time": "2022-06-05T00:46:27.155125",
     "exception": false,
     "start_time": "2022-06-05T00:46:27.114701",
     "status": "completed"
    },
    "tags": []
   },
   "outputs": [],
   "source": [
    "#hide\n",
    "\n",
    "# FETCH\n",
    "base_url = 'https://raw.githubusercontent.com/pratapvardhan/notebooks/master/covid19/'\n",
    "paths = {\n",
    "    'mapping': base_url + 'mapping_countries.csv',\n",
    "    'overview': base_url + 'overview.tpl'\n",
    "}"
   ]
  },
  {
   "cell_type": "code",
   "execution_count": 3,
   "id": "dynamic-saver",
   "metadata": {
    "execution": {
     "iopub.execute_input": "2022-06-05T00:46:27.232633Z",
     "iopub.status.busy": "2022-06-05T00:46:27.231977Z",
     "iopub.status.idle": "2022-06-05T00:46:27.237198Z",
     "shell.execute_reply": "2022-06-05T00:46:27.236684Z"
    },
    "papermill": {
     "duration": 0.048977,
     "end_time": "2022-06-05T00:46:27.237318",
     "exception": false,
     "start_time": "2022-06-05T00:46:27.188341",
     "status": "completed"
    },
    "tags": []
   },
   "outputs": [
    {
     "data": {
      "text/plain": [
       "'https://raw.githubusercontent.com/pratapvardhan/notebooks/master/covid19/mapping_countries.csv'"
      ]
     },
     "execution_count": 3,
     "metadata": {},
     "output_type": "execute_result"
    }
   ],
   "source": [
    "#hide\n",
    "paths['mapping']"
   ]
  },
  {
   "cell_type": "code",
   "execution_count": 4,
   "id": "urban-software",
   "metadata": {
    "execution": {
     "iopub.execute_input": "2022-06-05T00:46:27.310668Z",
     "iopub.status.busy": "2022-06-05T00:46:27.309943Z",
     "iopub.status.idle": "2022-06-05T00:46:27.312785Z",
     "shell.execute_reply": "2022-06-05T00:46:27.312229Z"
    },
    "papermill": {
     "duration": 0.043137,
     "end_time": "2022-06-05T00:46:27.312916",
     "exception": false,
     "start_time": "2022-06-05T00:46:27.269779",
     "status": "completed"
    },
    "tags": []
   },
   "outputs": [],
   "source": [
    "#hide\n",
    "def get_mappings(url):\n",
    "    df = pd.read_csv(url)\n",
    "    return {\n",
    "        'df': df,\n",
    "        'replace.country': dict(df.dropna(subset=['Name']).set_index('Country')['Name']),\n",
    "        'map.continent': dict(df.set_index('Name')['Continent'])\n",
    "    }"
   ]
  },
  {
   "cell_type": "code",
   "execution_count": 5,
   "id": "intimate-machinery",
   "metadata": {
    "execution": {
     "iopub.execute_input": "2022-06-05T00:46:27.385669Z",
     "iopub.status.busy": "2022-06-05T00:46:27.384987Z",
     "iopub.status.idle": "2022-06-05T00:46:27.433665Z",
     "shell.execute_reply": "2022-06-05T00:46:27.434639Z"
    },
    "papermill": {
     "duration": 0.088947,
     "end_time": "2022-06-05T00:46:27.434904",
     "exception": false,
     "start_time": "2022-06-05T00:46:27.345957",
     "status": "completed"
    },
    "tags": []
   },
   "outputs": [],
   "source": [
    "#hide\n",
    "mapping = get_mappings(paths['mapping'])"
   ]
  },
  {
   "cell_type": "code",
   "execution_count": 6,
   "id": "certified-tactics",
   "metadata": {
    "execution": {
     "iopub.execute_input": "2022-06-05T00:46:27.509656Z",
     "iopub.status.busy": "2022-06-05T00:46:27.508787Z",
     "iopub.status.idle": "2022-06-05T00:46:27.510510Z",
     "shell.execute_reply": "2022-06-05T00:46:27.511114Z"
    },
    "papermill": {
     "duration": 0.04188,
     "end_time": "2022-06-05T00:46:27.511251",
     "exception": false,
     "start_time": "2022-06-05T00:46:27.469371",
     "status": "completed"
    },
    "tags": []
   },
   "outputs": [],
   "source": [
    "#hide\n",
    "def get_template(path):\n",
    "    from urllib.parse import urlparse\n",
    "    if bool(urlparse(path).netloc):\n",
    "        from urllib.request import urlopen\n",
    "        return urlopen(path).read().decode('utf8')\n",
    "    return open(path).read()"
   ]
  },
  {
   "cell_type": "code",
   "execution_count": 7,
   "id": "realistic-blast",
   "metadata": {
    "execution": {
     "iopub.execute_input": "2022-06-05T00:46:27.594061Z",
     "iopub.status.busy": "2022-06-05T00:46:27.593353Z",
     "iopub.status.idle": "2022-06-05T00:46:27.596980Z",
     "shell.execute_reply": "2022-06-05T00:46:27.596454Z"
    },
    "papermill": {
     "duration": 0.047845,
     "end_time": "2022-06-05T00:46:27.597110",
     "exception": false,
     "start_time": "2022-06-05T00:46:27.549265",
     "status": "completed"
    },
    "tags": []
   },
   "outputs": [],
   "source": [
    "#hide\n",
    "def get_frame(name):\n",
    "    url = (\n",
    "        'https://raw.githubusercontent.com/CSSEGISandData/COVID-19/master/csse_covid_19_data/'\n",
    "        f'csse_covid_19_time_series/time_series_covid19_{name}_global.csv')\n",
    "    df = pd.read_csv(url)\n",
    "    # rename countries\n",
    "    df['Country/Region'] = df['Country/Region'].replace(mapping['replace.country'])\n",
    "    return df"
   ]
  },
  {
   "cell_type": "code",
   "execution_count": 8,
   "id": "affiliated-characterization",
   "metadata": {
    "execution": {
     "iopub.execute_input": "2022-06-05T00:46:27.676513Z",
     "iopub.status.busy": "2022-06-05T00:46:27.675784Z",
     "iopub.status.idle": "2022-06-05T00:46:27.680395Z",
     "shell.execute_reply": "2022-06-05T00:46:27.679725Z"
    },
    "papermill": {
     "duration": 0.048135,
     "end_time": "2022-06-05T00:46:27.680525",
     "exception": false,
     "start_time": "2022-06-05T00:46:27.632390",
     "status": "completed"
    },
    "tags": []
   },
   "outputs": [],
   "source": [
    "#hide\n",
    "def get_dates(df):\n",
    "    dt_cols = df.columns[~df.columns.isin(['Province/State', 'Country/Region', 'Lat', 'Long'])]\n",
    "    LAST_DATE_I = -1\n",
    "    # sometimes last column may be empty, then go backwards\n",
    "    for i in range(-1, -len(dt_cols), -1):\n",
    "        if not df[dt_cols[i]].fillna(0).eq(0).all():\n",
    "            LAST_DATE_I = i\n",
    "            break\n",
    "    return LAST_DATE_I, dt_cols"
   ]
  },
  {
   "cell_type": "code",
   "execution_count": 9,
   "id": "recent-optimization",
   "metadata": {
    "execution": {
     "iopub.execute_input": "2022-06-05T00:46:27.753131Z",
     "iopub.status.busy": "2022-06-05T00:46:27.752447Z",
     "iopub.status.idle": "2022-06-05T00:46:28.366316Z",
     "shell.execute_reply": "2022-06-05T00:46:28.365682Z"
    },
    "papermill": {
     "duration": 0.652809,
     "end_time": "2022-06-05T00:46:28.366462",
     "exception": false,
     "start_time": "2022-06-05T00:46:27.713653",
     "status": "completed"
    },
    "tags": []
   },
   "outputs": [],
   "source": [
    "#hide\n",
    "COL_REGION = 'Country/Region'\n",
    "# Confirmed, Recovered, Deaths\n",
    "df = get_frame('confirmed')\n",
    "# dft_: timeseries, dfc_: today country agg\n",
    "dft_cases = df\n",
    "dft_deaths = get_frame('deaths')\n",
    "dft_recovered = get_frame('recovered')\n",
    "LAST_DATE_I, dt_cols = get_dates(df)"
   ]
  },
  {
   "cell_type": "code",
   "execution_count": 10,
   "id": "absolute-copper",
   "metadata": {
    "execution": {
     "iopub.execute_input": "2022-06-05T00:46:28.439858Z",
     "iopub.status.busy": "2022-06-05T00:46:28.439179Z",
     "iopub.status.idle": "2022-06-05T00:46:28.441366Z",
     "shell.execute_reply": "2022-06-05T00:46:28.441878Z"
    },
    "papermill": {
     "duration": 0.042209,
     "end_time": "2022-06-05T00:46:28.442027",
     "exception": false,
     "start_time": "2022-06-05T00:46:28.399818",
     "status": "completed"
    },
    "tags": []
   },
   "outputs": [],
   "source": [
    "#hide\n",
    "LAST_DATE_I, dt_cols = get_dates(df)\n",
    "dt_today =dt_cols[LAST_DATE_I]\n",
    "# dt_5day = dt_cols[LAST_DATE_I - 5]\n",
    "dt_yday = dt_cols[LAST_DATE_I - 1]"
   ]
  },
  {
   "cell_type": "code",
   "execution_count": 11,
   "id": "restricted-sheriff",
   "metadata": {
    "execution": {
     "iopub.execute_input": "2022-06-05T00:46:28.514325Z",
     "iopub.status.busy": "2022-06-05T00:46:28.513606Z",
     "iopub.status.idle": "2022-06-05T00:46:28.521796Z",
     "shell.execute_reply": "2022-06-05T00:46:28.522455Z"
    },
    "papermill": {
     "duration": 0.048319,
     "end_time": "2022-06-05T00:46:28.522617",
     "exception": false,
     "start_time": "2022-06-05T00:46:28.474298",
     "status": "completed"
    },
    "tags": []
   },
   "outputs": [],
   "source": [
    "#hide\n",
    "dfc_cases = dft_cases.groupby(COL_REGION)[dt_today].sum()\n",
    "dfc_deaths = dft_deaths.groupby(COL_REGION)[dt_today].sum()\n",
    "# dfp_cases = dft_cases.groupby(COL_REGION)[dt_5day].sum()\n",
    "# dfp_deaths = dft_deaths.groupby(COL_REGION)[dt_5day].sum()\n",
    "dfp_cases = dft_cases.groupby(COL_REGION)[dt_yday].sum()\n",
    "dfp_deaths = dft_deaths.groupby(COL_REGION)[dt_yday].sum()"
   ]
  },
  {
   "cell_type": "code",
   "execution_count": 12,
   "id": "deluxe-hepatitis",
   "metadata": {
    "execution": {
     "iopub.execute_input": "2022-06-05T00:46:28.595799Z",
     "iopub.status.busy": "2022-06-05T00:46:28.595174Z",
     "iopub.status.idle": "2022-06-05T00:46:28.600999Z",
     "shell.execute_reply": "2022-06-05T00:46:28.600458Z"
    },
    "papermill": {
     "duration": 0.046064,
     "end_time": "2022-06-05T00:46:28.601118",
     "exception": false,
     "start_time": "2022-06-05T00:46:28.555054",
     "status": "completed"
    },
    "tags": []
   },
   "outputs": [],
   "source": [
    "#hide\n",
    "df_table = (pd.DataFrame(dict(Cases = dfc_cases, Deaths = dfc_deaths, PCases = dfp_cases, PDeaths = dfp_deaths))\n",
    "            .sort_values(by = ['Cases','Deaths'], ascending = [False, False])\n",
    "            .reset_index())"
   ]
  },
  {
   "cell_type": "code",
   "execution_count": 13,
   "id": "educational-chancellor",
   "metadata": {
    "execution": {
     "iopub.execute_input": "2022-06-05T00:46:28.685671Z",
     "iopub.status.busy": "2022-06-05T00:46:28.685012Z",
     "iopub.status.idle": "2022-06-05T00:46:28.693603Z",
     "shell.execute_reply": "2022-06-05T00:46:28.694261Z"
    },
    "papermill": {
     "duration": 0.060968,
     "end_time": "2022-06-05T00:46:28.694414",
     "exception": false,
     "start_time": "2022-06-05T00:46:28.633446",
     "status": "completed"
    },
    "tags": []
   },
   "outputs": [
    {
     "data": {
      "text/html": [
       "<div>\n",
       "<style scoped>\n",
       "    .dataframe tbody tr th:only-of-type {\n",
       "        vertical-align: middle;\n",
       "    }\n",
       "\n",
       "    .dataframe tbody tr th {\n",
       "        vertical-align: top;\n",
       "    }\n",
       "\n",
       "    .dataframe thead th {\n",
       "        text-align: right;\n",
       "    }\n",
       "</style>\n",
       "<table border=\"1\" class=\"dataframe\">\n",
       "  <thead>\n",
       "    <tr style=\"text-align: right;\">\n",
       "      <th></th>\n",
       "      <th>Country/Region</th>\n",
       "      <th>Cases</th>\n",
       "      <th>Deaths</th>\n",
       "      <th>PCases</th>\n",
       "      <th>PDeaths</th>\n",
       "      <th>Cases (+)</th>\n",
       "      <th>Deaths (+)</th>\n",
       "      <th>Fatality Rate</th>\n",
       "      <th>Continent</th>\n",
       "    </tr>\n",
       "  </thead>\n",
       "  <tbody>\n",
       "    <tr>\n",
       "      <th>0</th>\n",
       "      <td>US</td>\n",
       "      <td>84724329</td>\n",
       "      <td>1008422</td>\n",
       "      <td>84570325</td>\n",
       "      <td>1008031</td>\n",
       "      <td>154004</td>\n",
       "      <td>391</td>\n",
       "      <td>1.19</td>\n",
       "      <td>North America</td>\n",
       "    </tr>\n",
       "    <tr>\n",
       "      <th>1</th>\n",
       "      <td>India</td>\n",
       "      <td>43172547</td>\n",
       "      <td>524677</td>\n",
       "      <td>43168585</td>\n",
       "      <td>524651</td>\n",
       "      <td>3962</td>\n",
       "      <td>26</td>\n",
       "      <td>1.22</td>\n",
       "      <td>Asia</td>\n",
       "    </tr>\n",
       "    <tr>\n",
       "      <th>2</th>\n",
       "      <td>Brazil</td>\n",
       "      <td>31137479</td>\n",
       "      <td>666971</td>\n",
       "      <td>31101290</td>\n",
       "      <td>666930</td>\n",
       "      <td>36189</td>\n",
       "      <td>41</td>\n",
       "      <td>2.14</td>\n",
       "      <td>South America</td>\n",
       "    </tr>\n",
       "    <tr>\n",
       "      <th>3</th>\n",
       "      <td>France</td>\n",
       "      <td>29788676</td>\n",
       "      <td>149503</td>\n",
       "      <td>29763546</td>\n",
       "      <td>149465</td>\n",
       "      <td>25130</td>\n",
       "      <td>38</td>\n",
       "      <td>0.50</td>\n",
       "      <td>Europe</td>\n",
       "    </tr>\n",
       "    <tr>\n",
       "      <th>4</th>\n",
       "      <td>Germany</td>\n",
       "      <td>26493235</td>\n",
       "      <td>139386</td>\n",
       "      <td>26452148</td>\n",
       "      <td>139313</td>\n",
       "      <td>41087</td>\n",
       "      <td>73</td>\n",
       "      <td>0.53</td>\n",
       "      <td>Europe</td>\n",
       "    </tr>\n",
       "  </tbody>\n",
       "</table>\n",
       "</div>"
      ],
      "text/plain": [
       "  Country/Region     Cases   Deaths    PCases  PDeaths  Cases (+)  Deaths (+)  \\\n",
       "0             US  84724329  1008422  84570325  1008031     154004         391   \n",
       "1          India  43172547   524677  43168585   524651       3962          26   \n",
       "2         Brazil  31137479   666971  31101290   666930      36189          41   \n",
       "3         France  29788676   149503  29763546   149465      25130          38   \n",
       "4        Germany  26493235   139386  26452148   139313      41087          73   \n",
       "\n",
       "   Fatality Rate      Continent  \n",
       "0           1.19  North America  \n",
       "1           1.22           Asia  \n",
       "2           2.14  South America  \n",
       "3           0.50         Europe  \n",
       "4           0.53         Europe  "
      ]
     },
     "execution_count": 13,
     "metadata": {},
     "output_type": "execute_result"
    }
   ],
   "source": [
    "#hide\n",
    "for c in 'Cases, Deaths'.split(', '):\n",
    "    df_table[f'{c} (+)'] = (df_table[c] - df_table[f'P{c}']).clip(0)\n",
    "    #Clip ça veut dire, les chiffres negatif sont interdit\n",
    "df_table['Fatality Rate'] = (100* df_table['Deaths']/ df_table['Cases']).round(2)\n",
    "df_table['Continent'] = df_table['Country/Region'].map(mapping['map.continent'])\n",
    "df_table.head(5)"
   ]
  },
  {
   "cell_type": "code",
   "execution_count": 14,
   "id": "aboriginal-bulgaria",
   "metadata": {
    "execution": {
     "iopub.execute_input": "2022-06-05T00:46:28.768058Z",
     "iopub.status.busy": "2022-06-05T00:46:28.767432Z",
     "iopub.status.idle": "2022-06-05T00:46:28.770220Z",
     "shell.execute_reply": "2022-06-05T00:46:28.770873Z"
    },
    "papermill": {
     "duration": 0.043121,
     "end_time": "2022-06-05T00:46:28.771024",
     "exception": false,
     "start_time": "2022-06-05T00:46:28.727903",
     "status": "completed"
    },
    "tags": []
   },
   "outputs": [],
   "source": [
    "#hide\n",
    "#delete problematic countries from table\n",
    "df_table = df_table[~df_table['Country/Region'].isin(['Cape Verde', 'Cruise Ship', 'Kosovo'])]"
   ]
  },
  {
   "cell_type": "code",
   "execution_count": 15,
   "id": "fantastic-effect",
   "metadata": {
    "execution": {
     "iopub.execute_input": "2022-06-05T00:46:28.847363Z",
     "iopub.status.busy": "2022-06-05T00:46:28.846682Z",
     "iopub.status.idle": "2022-06-05T00:46:28.867558Z",
     "shell.execute_reply": "2022-06-05T00:46:28.866809Z"
    },
    "papermill": {
     "duration": 0.063687,
     "end_time": "2022-06-05T00:46:28.867724",
     "exception": false,
     "start_time": "2022-06-05T00:46:28.804037",
     "status": "completed"
    },
    "tags": []
   },
   "outputs": [
    {
     "data": {
      "text/html": [
       "<div>\n",
       "<style scoped>\n",
       "    .dataframe tbody tr th:only-of-type {\n",
       "        vertical-align: middle;\n",
       "    }\n",
       "\n",
       "    .dataframe tbody tr th {\n",
       "        vertical-align: top;\n",
       "    }\n",
       "\n",
       "    .dataframe thead th {\n",
       "        text-align: right;\n",
       "    }\n",
       "</style>\n",
       "<table border=\"1\" class=\"dataframe\">\n",
       "  <thead>\n",
       "    <tr style=\"text-align: right;\">\n",
       "      <th></th>\n",
       "      <th>Country/Region</th>\n",
       "      <th>Cases</th>\n",
       "      <th>Deaths</th>\n",
       "      <th>PCases</th>\n",
       "      <th>PDeaths</th>\n",
       "      <th>Cases (+)</th>\n",
       "      <th>Deaths (+)</th>\n",
       "      <th>Fatality Rate</th>\n",
       "      <th>Continent</th>\n",
       "    </tr>\n",
       "  </thead>\n",
       "  <tbody>\n",
       "    <tr>\n",
       "      <th>0</th>\n",
       "      <td>US</td>\n",
       "      <td>84724329</td>\n",
       "      <td>1008422</td>\n",
       "      <td>84570325</td>\n",
       "      <td>1008031</td>\n",
       "      <td>154004</td>\n",
       "      <td>391</td>\n",
       "      <td>1.2</td>\n",
       "      <td>North America</td>\n",
       "    </tr>\n",
       "    <tr>\n",
       "      <th>1</th>\n",
       "      <td>India</td>\n",
       "      <td>43172547</td>\n",
       "      <td>524677</td>\n",
       "      <td>43168585</td>\n",
       "      <td>524651</td>\n",
       "      <td>3962</td>\n",
       "      <td>26</td>\n",
       "      <td>1.2</td>\n",
       "      <td>Asia</td>\n",
       "    </tr>\n",
       "    <tr>\n",
       "      <th>2</th>\n",
       "      <td>Brazil</td>\n",
       "      <td>31137479</td>\n",
       "      <td>666971</td>\n",
       "      <td>31101290</td>\n",
       "      <td>666930</td>\n",
       "      <td>36189</td>\n",
       "      <td>41</td>\n",
       "      <td>2.1</td>\n",
       "      <td>South America</td>\n",
       "    </tr>\n",
       "    <tr>\n",
       "      <th>3</th>\n",
       "      <td>France</td>\n",
       "      <td>29788676</td>\n",
       "      <td>149503</td>\n",
       "      <td>29763546</td>\n",
       "      <td>149465</td>\n",
       "      <td>25130</td>\n",
       "      <td>38</td>\n",
       "      <td>0.5</td>\n",
       "      <td>Europe</td>\n",
       "    </tr>\n",
       "    <tr>\n",
       "      <th>4</th>\n",
       "      <td>Germany</td>\n",
       "      <td>26493235</td>\n",
       "      <td>139386</td>\n",
       "      <td>26452148</td>\n",
       "      <td>139313</td>\n",
       "      <td>41087</td>\n",
       "      <td>73</td>\n",
       "      <td>0.5</td>\n",
       "      <td>Europe</td>\n",
       "    </tr>\n",
       "  </tbody>\n",
       "</table>\n",
       "</div>"
      ],
      "text/plain": [
       "  Country/Region     Cases   Deaths    PCases  PDeaths  Cases (+)  Deaths (+)  \\\n",
       "0             US  84724329  1008422  84570325  1008031     154004         391   \n",
       "1          India  43172547   524677  43168585   524651       3962          26   \n",
       "2         Brazil  31137479   666971  31101290   666930      36189          41   \n",
       "3         France  29788676   149503  29763546   149465      25130          38   \n",
       "4        Germany  26493235   139386  26452148   139313      41087          73   \n",
       "\n",
       "   Fatality Rate      Continent  \n",
       "0            1.2  North America  \n",
       "1            1.2           Asia  \n",
       "2            2.1  South America  \n",
       "3            0.5         Europe  \n",
       "4            0.5         Europe  "
      ]
     },
     "execution_count": 15,
     "metadata": {},
     "output_type": "execute_result"
    }
   ],
   "source": [
    "#hide\n",
    "df_table = (pd.DataFrame(dict(Cases=dfc_cases, Deaths=dfc_deaths, PCases=dfp_cases, PDeaths=dfp_deaths))\n",
    "             .sort_values(by=['Cases', 'Deaths'], ascending=[False, False])\n",
    "             .reset_index())\n",
    "df_table.rename(columns={'index': 'Country/Region'}, inplace=True)\n",
    "for c in 'Cases, Deaths'.split(', '):\n",
    "    df_table[f'{c} (+)'] = (df_table[c] - df_table[f'P{c}']).clip(0)  # DATA BUG\n",
    "df_table['Fatality Rate'] = (100 * df_table['Deaths'] / df_table['Cases']).round(1)\n",
    "df_table['Continent'] = df_table['Country/Region'].map(mapping['map.continent'])\n",
    "df_table.head(5)"
   ]
  },
  {
   "cell_type": "code",
   "execution_count": 16,
   "id": "fewer-occasion",
   "metadata": {
    "execution": {
     "iopub.execute_input": "2022-06-05T00:46:28.944044Z",
     "iopub.status.busy": "2022-06-05T00:46:28.943327Z",
     "iopub.status.idle": "2022-06-05T00:46:28.946025Z",
     "shell.execute_reply": "2022-06-05T00:46:28.945469Z"
    },
    "papermill": {
     "duration": 0.043155,
     "end_time": "2022-06-05T00:46:28.946175",
     "exception": false,
     "start_time": "2022-06-05T00:46:28.903020",
     "status": "completed"
    },
    "tags": []
   },
   "outputs": [],
   "source": [
    "#hide\n",
    "#delete problematic countries from table\n",
    "df_table = df_table[~df_table['Country/Region'].isin(['Cape Verde', 'Cruise Ship', 'Kosovo'])]"
   ]
  },
  {
   "cell_type": "code",
   "execution_count": 17,
   "id": "related-center",
   "metadata": {
    "execution": {
     "iopub.execute_input": "2022-06-05T00:46:29.026551Z",
     "iopub.status.busy": "2022-06-05T00:46:29.025829Z",
     "iopub.status.idle": "2022-06-05T00:46:29.041710Z",
     "shell.execute_reply": "2022-06-05T00:46:29.042290Z"
    },
    "papermill": {
     "duration": 0.061045,
     "end_time": "2022-06-05T00:46:29.042450",
     "exception": false,
     "start_time": "2022-06-05T00:46:28.981405",
     "status": "completed"
    },
    "tags": []
   },
   "outputs": [],
   "source": [
    "#hide\n",
    "metrics = [df_table.columns[index] for index in [1,2,5,6]]\n",
    "# s_china = df_table[df_table['Country/Region'].eq('China')][metrics].sum().add_prefix('China ')\n",
    "s_us = df_table[df_table['Country/Region'].eq('US')][metrics].sum().add_prefix('US ')\n",
    "s_eu = df_table[df_table['Continent'].eq('Europe')][metrics].sum().add_prefix('EU ')\n",
    "s_ind = df_table[df_table['Country/Region'].eq('India')][metrics].sum().add_prefix('India ')\n",
    "summary = {'updated': pd.to_datetime(dt_today), 'since': pd.to_datetime(dt_yday)}\n",
    "summary = {'updated': pd.to_datetime(dt_today), 'since': pd.to_datetime(dt_yday)}\n",
    "summary = {**summary, **df_table[metrics].sum(), **s_ind, **s_us, **s_eu}"
   ]
  },
  {
   "cell_type": "code",
   "execution_count": 18,
   "id": "engaging-syndrome",
   "metadata": {
    "execution": {
     "iopub.execute_input": "2022-06-05T00:46:29.122997Z",
     "iopub.status.busy": "2022-06-05T00:46:29.121731Z",
     "iopub.status.idle": "2022-06-05T00:46:29.145705Z",
     "shell.execute_reply": "2022-06-05T00:46:29.145070Z"
    },
    "papermill": {
     "duration": 0.066971,
     "end_time": "2022-06-05T00:46:29.145840",
     "exception": false,
     "start_time": "2022-06-05T00:46:29.078869",
     "status": "completed"
    },
    "tags": []
   },
   "outputs": [],
   "source": [
    "#hide\n",
    "dft_ct_new_cases = dft_cases.groupby(COL_REGION)[dt_cols].sum().diff(axis=1).fillna(0).astype(int)"
   ]
  },
  {
   "cell_type": "code",
   "execution_count": 19,
   "id": "neutral-assignment",
   "metadata": {
    "execution": {
     "iopub.execute_input": "2022-06-05T00:46:29.223274Z",
     "iopub.status.busy": "2022-06-05T00:46:29.222429Z",
     "iopub.status.idle": "2022-06-05T00:46:29.224382Z",
     "shell.execute_reply": "2022-06-05T00:46:29.224926Z"
    },
    "papermill": {
     "duration": 0.044601,
     "end_time": "2022-06-05T00:46:29.225076",
     "exception": false,
     "start_time": "2022-06-05T00:46:29.180475",
     "status": "completed"
    },
    "tags": []
   },
   "outputs": [],
   "source": [
    "#hide\n",
    "everydaycases = dft_ct_new_cases.cumsum(axis=1)"
   ]
  },
  {
   "cell_type": "code",
   "execution_count": 20,
   "id": "parliamentary-calgary",
   "metadata": {
    "execution": {
     "iopub.execute_input": "2022-06-05T00:46:29.302884Z",
     "iopub.status.busy": "2022-06-05T00:46:29.302189Z",
     "iopub.status.idle": "2022-06-05T00:46:29.937352Z",
     "shell.execute_reply": "2022-06-05T00:46:29.936191Z"
    },
    "papermill": {
     "duration": 0.676278,
     "end_time": "2022-06-05T00:46:29.937511",
     "exception": false,
     "start_time": "2022-06-05T00:46:29.261233",
     "status": "completed"
    },
    "tags": []
   },
   "outputs": [],
   "source": [
    "#hide\n",
    "import pandas as pd\n",
    "import matplotlib.pyplot as plt\n",
    "import matplotlib.ticker as ticker\n",
    "import matplotlib.animation as animation\n",
    "from IPython.display import HTML"
   ]
  },
  {
   "cell_type": "code",
   "execution_count": 21,
   "id": "lasting-extraction",
   "metadata": {
    "execution": {
     "iopub.execute_input": "2022-06-05T00:46:30.015060Z",
     "iopub.status.busy": "2022-06-05T00:46:30.014195Z",
     "iopub.status.idle": "2022-06-05T00:46:30.021790Z",
     "shell.execute_reply": "2022-06-05T00:46:30.021212Z"
    },
    "papermill": {
     "duration": 0.049621,
     "end_time": "2022-06-05T00:46:30.021921",
     "exception": false,
     "start_time": "2022-06-05T00:46:29.972300",
     "status": "completed"
    },
    "tags": []
   },
   "outputs": [],
   "source": [
    "#hide\n",
    "t = everydaycases.stack()"
   ]
  },
  {
   "cell_type": "code",
   "execution_count": 22,
   "id": "premier-sleeve",
   "metadata": {
    "execution": {
     "iopub.execute_input": "2022-06-05T00:46:30.102206Z",
     "iopub.status.busy": "2022-06-05T00:46:30.101482Z",
     "iopub.status.idle": "2022-06-05T00:46:30.114537Z",
     "shell.execute_reply": "2022-06-05T00:46:30.113843Z"
    },
    "papermill": {
     "duration": 0.055495,
     "end_time": "2022-06-05T00:46:30.114851",
     "exception": false,
     "start_time": "2022-06-05T00:46:30.059356",
     "status": "completed"
    },
    "tags": []
   },
   "outputs": [],
   "source": [
    "#hide\n",
    "g = t.reset_index(['Country/Region'])"
   ]
  },
  {
   "cell_type": "code",
   "execution_count": 23,
   "id": "distributed-pittsburgh",
   "metadata": {
    "execution": {
     "iopub.execute_input": "2022-06-05T00:46:30.197417Z",
     "iopub.status.busy": "2022-06-05T00:46:30.195808Z",
     "iopub.status.idle": "2022-06-05T00:46:30.198778Z",
     "shell.execute_reply": "2022-06-05T00:46:30.199681Z"
    },
    "papermill": {
     "duration": 0.048,
     "end_time": "2022-06-05T00:46:30.199946",
     "exception": false,
     "start_time": "2022-06-05T00:46:30.151946",
     "status": "completed"
    },
    "tags": []
   },
   "outputs": [],
   "source": [
    "#hide\n",
    "g.index.name = 'date'"
   ]
  },
  {
   "cell_type": "code",
   "execution_count": 24,
   "id": "naked-donor",
   "metadata": {
    "execution": {
     "iopub.execute_input": "2022-06-05T00:46:30.273654Z",
     "iopub.status.busy": "2022-06-05T00:46:30.272945Z",
     "iopub.status.idle": "2022-06-05T00:46:30.277168Z",
     "shell.execute_reply": "2022-06-05T00:46:30.277665Z"
    },
    "papermill": {
     "duration": 0.043028,
     "end_time": "2022-06-05T00:46:30.277815",
     "exception": false,
     "start_time": "2022-06-05T00:46:30.234787",
     "status": "completed"
    },
    "tags": []
   },
   "outputs": [],
   "source": [
    "# #hide\n",
    "# g = g.reset_index(['date'])"
   ]
  },
  {
   "cell_type": "code",
   "execution_count": 25,
   "id": "incomplete-mustang",
   "metadata": {
    "execution": {
     "iopub.execute_input": "2022-06-05T00:46:30.358593Z",
     "iopub.status.busy": "2022-06-05T00:46:30.357589Z",
     "iopub.status.idle": "2022-06-05T00:46:30.362155Z",
     "shell.execute_reply": "2022-06-05T00:46:30.361402Z"
    },
    "papermill": {
     "duration": 0.049349,
     "end_time": "2022-06-05T00:46:30.362338",
     "exception": false,
     "start_time": "2022-06-05T00:46:30.312989",
     "status": "completed"
    },
    "tags": []
   },
   "outputs": [],
   "source": [
    "#hide\n",
    "# g.head()"
   ]
  },
  {
   "cell_type": "code",
   "execution_count": 26,
   "id": "specific-kruger",
   "metadata": {
    "execution": {
     "iopub.execute_input": "2022-06-05T00:46:30.436308Z",
     "iopub.status.busy": "2022-06-05T00:46:30.435616Z",
     "iopub.status.idle": "2022-06-05T00:46:30.438361Z",
     "shell.execute_reply": "2022-06-05T00:46:30.437768Z"
    },
    "papermill": {
     "duration": 0.041214,
     "end_time": "2022-06-05T00:46:30.438493",
     "exception": false,
     "start_time": "2022-06-05T00:46:30.397279",
     "status": "completed"
    },
    "tags": []
   },
   "outputs": [],
   "source": [
    "#hide\n",
    "# g.columns = ['date','country','cases']"
   ]
  },
  {
   "cell_type": "code",
   "execution_count": 27,
   "id": "tender-conversion",
   "metadata": {
    "execution": {
     "iopub.execute_input": "2022-06-05T00:46:30.520534Z",
     "iopub.status.busy": "2022-06-05T00:46:30.519858Z",
     "iopub.status.idle": "2022-06-05T00:46:30.523021Z",
     "shell.execute_reply": "2022-06-05T00:46:30.523665Z"
    },
    "papermill": {
     "duration": 0.042405,
     "end_time": "2022-06-05T00:46:30.523811",
     "exception": false,
     "start_time": "2022-06-05T00:46:30.481406",
     "status": "completed"
    },
    "tags": []
   },
   "outputs": [],
   "source": [
    "#hide\n",
    "# g['continent'] = g.country"
   ]
  },
  {
   "cell_type": "code",
   "execution_count": 28,
   "id": "substantial-wilderness",
   "metadata": {
    "execution": {
     "iopub.execute_input": "2022-06-05T00:46:30.598370Z",
     "iopub.status.busy": "2022-06-05T00:46:30.597616Z",
     "iopub.status.idle": "2022-06-05T00:46:30.600571Z",
     "shell.execute_reply": "2022-06-05T00:46:30.599657Z"
    },
    "papermill": {
     "duration": 0.042276,
     "end_time": "2022-06-05T00:46:30.600717",
     "exception": false,
     "start_time": "2022-06-05T00:46:30.558441",
     "status": "completed"
    },
    "tags": []
   },
   "outputs": [],
   "source": [
    "#hide\n",
    "# cols = list(g.columns.values)"
   ]
  },
  {
   "cell_type": "code",
   "execution_count": 29,
   "id": "solved-farming",
   "metadata": {
    "execution": {
     "iopub.execute_input": "2022-06-05T00:46:30.678577Z",
     "iopub.status.busy": "2022-06-05T00:46:30.677664Z",
     "iopub.status.idle": "2022-06-05T00:46:30.681905Z",
     "shell.execute_reply": "2022-06-05T00:46:30.681343Z"
    },
    "papermill": {
     "duration": 0.045898,
     "end_time": "2022-06-05T00:46:30.682034",
     "exception": false,
     "start_time": "2022-06-05T00:46:30.636136",
     "status": "completed"
    },
    "tags": []
   },
   "outputs": [],
   "source": [
    "#hide\n",
    "# cols.insert(0, cols.pop())"
   ]
  },
  {
   "cell_type": "code",
   "execution_count": 30,
   "id": "executed-adoption",
   "metadata": {
    "execution": {
     "iopub.execute_input": "2022-06-05T00:46:30.756027Z",
     "iopub.status.busy": "2022-06-05T00:46:30.755217Z",
     "iopub.status.idle": "2022-06-05T00:46:30.759658Z",
     "shell.execute_reply": "2022-06-05T00:46:30.760176Z"
    },
    "papermill": {
     "duration": 0.043864,
     "end_time": "2022-06-05T00:46:30.760327",
     "exception": false,
     "start_time": "2022-06-05T00:46:30.716463",
     "status": "completed"
    },
    "tags": []
   },
   "outputs": [],
   "source": [
    "#hide\n",
    "# g = g[cols]"
   ]
  },
  {
   "cell_type": "code",
   "execution_count": 31,
   "id": "subject-dublin",
   "metadata": {
    "execution": {
     "iopub.execute_input": "2022-06-05T00:46:30.839175Z",
     "iopub.status.busy": "2022-06-05T00:46:30.837908Z",
     "iopub.status.idle": "2022-06-05T00:46:30.840467Z",
     "shell.execute_reply": "2022-06-05T00:46:30.841004Z"
    },
    "papermill": {
     "duration": 0.04435,
     "end_time": "2022-06-05T00:46:30.841153",
     "exception": false,
     "start_time": "2022-06-05T00:46:30.796803",
     "status": "completed"
    },
    "tags": []
   },
   "outputs": [],
   "source": [
    "#hide\n",
    "# g['continent'] = g['continent'].map(mapping['map.continent'])"
   ]
  },
  {
   "cell_type": "code",
   "execution_count": 32,
   "id": "freelance-scout",
   "metadata": {
    "execution": {
     "iopub.execute_input": "2022-06-05T00:46:30.914653Z",
     "iopub.status.busy": "2022-06-05T00:46:30.913909Z",
     "iopub.status.idle": "2022-06-05T00:46:30.917637Z",
     "shell.execute_reply": "2022-06-05T00:46:30.917063Z"
    },
    "papermill": {
     "duration": 0.041979,
     "end_time": "2022-06-05T00:46:30.917761",
     "exception": false,
     "start_time": "2022-06-05T00:46:30.875782",
     "status": "completed"
    },
    "tags": []
   },
   "outputs": [],
   "source": [
    "#hide\n",
    "# g.head()"
   ]
  },
  {
   "cell_type": "code",
   "execution_count": 33,
   "id": "limited-engine",
   "metadata": {
    "execution": {
     "iopub.execute_input": "2022-06-05T00:46:30.995443Z",
     "iopub.status.busy": "2022-06-05T00:46:30.994755Z",
     "iopub.status.idle": "2022-06-05T00:46:30.998983Z",
     "shell.execute_reply": "2022-06-05T00:46:30.998308Z"
    },
    "papermill": {
     "duration": 0.046352,
     "end_time": "2022-06-05T00:46:30.999108",
     "exception": false,
     "start_time": "2022-06-05T00:46:30.952756",
     "status": "completed"
    },
    "tags": []
   },
   "outputs": [],
   "source": [
    "# hide\n",
    "# g['date'] = g['date'].astype('datetime64[ns]')"
   ]
  },
  {
   "cell_type": "code",
   "execution_count": 34,
   "id": "sophisticated-supervisor",
   "metadata": {
    "execution": {
     "iopub.execute_input": "2022-06-05T00:46:31.079533Z",
     "iopub.status.busy": "2022-06-05T00:46:31.078825Z",
     "iopub.status.idle": "2022-06-05T00:46:31.085611Z",
     "shell.execute_reply": "2022-06-05T00:46:31.085030Z"
    },
    "papermill": {
     "duration": 0.047491,
     "end_time": "2022-06-05T00:46:31.085739",
     "exception": false,
     "start_time": "2022-06-05T00:46:31.038248",
     "status": "completed"
    },
    "tags": []
   },
   "outputs": [],
   "source": [
    "#hide\n",
    "# g['date'] = g.date.dt.dayofyear"
   ]
  },
  {
   "cell_type": "code",
   "execution_count": 35,
   "id": "inside-dubai",
   "metadata": {
    "execution": {
     "iopub.execute_input": "2022-06-05T00:46:31.161508Z",
     "iopub.status.busy": "2022-06-05T00:46:31.160682Z",
     "iopub.status.idle": "2022-06-05T00:46:31.163300Z",
     "shell.execute_reply": "2022-06-05T00:46:31.162537Z"
    },
    "papermill": {
     "duration": 0.041604,
     "end_time": "2022-06-05T00:46:31.163446",
     "exception": false,
     "start_time": "2022-06-05T00:46:31.121842",
     "status": "completed"
    },
    "tags": []
   },
   "outputs": [],
   "source": [
    "#hide\n",
    "# g = g.rename(columns= {'continent':'group','country':'name','cases':'value'})"
   ]
  },
  {
   "cell_type": "code",
   "execution_count": 36,
   "id": "fleet-motorcycle",
   "metadata": {
    "execution": {
     "iopub.execute_input": "2022-06-05T00:46:31.241328Z",
     "iopub.status.busy": "2022-06-05T00:46:31.240634Z",
     "iopub.status.idle": "2022-06-05T00:46:31.244158Z",
     "shell.execute_reply": "2022-06-05T00:46:31.244682Z"
    },
    "papermill": {
     "duration": 0.044711,
     "end_time": "2022-06-05T00:46:31.244829",
     "exception": false,
     "start_time": "2022-06-05T00:46:31.200118",
     "status": "completed"
    },
    "tags": []
   },
   "outputs": [],
   "source": [
    "#hide\n",
    "# cols = ['name','group','day','value']"
   ]
  },
  {
   "cell_type": "code",
   "execution_count": 37,
   "id": "continued-sleeping",
   "metadata": {
    "execution": {
     "iopub.execute_input": "2022-06-05T00:46:31.320694Z",
     "iopub.status.busy": "2022-06-05T00:46:31.319992Z",
     "iopub.status.idle": "2022-06-05T00:46:31.322870Z",
     "shell.execute_reply": "2022-06-05T00:46:31.322191Z"
    },
    "papermill": {
     "duration": 0.041447,
     "end_time": "2022-06-05T00:46:31.322985",
     "exception": false,
     "start_time": "2022-06-05T00:46:31.281538",
     "status": "completed"
    },
    "tags": []
   },
   "outputs": [],
   "source": [
    "#hide\n",
    "# g.rename(columns= {'date':'day'},inplace = True)"
   ]
  },
  {
   "cell_type": "code",
   "execution_count": 38,
   "id": "major-fight",
   "metadata": {
    "execution": {
     "iopub.execute_input": "2022-06-05T00:46:31.400226Z",
     "iopub.status.busy": "2022-06-05T00:46:31.399568Z",
     "iopub.status.idle": "2022-06-05T00:46:31.404055Z",
     "shell.execute_reply": "2022-06-05T00:46:31.403400Z"
    },
    "papermill": {
     "duration": 0.045263,
     "end_time": "2022-06-05T00:46:31.404172",
     "exception": false,
     "start_time": "2022-06-05T00:46:31.358909",
     "status": "completed"
    },
    "tags": []
   },
   "outputs": [],
   "source": [
    "#hide\n",
    "# g = g[cols]"
   ]
  },
  {
   "cell_type": "code",
   "execution_count": 39,
   "id": "structured-mobile",
   "metadata": {
    "execution": {
     "iopub.execute_input": "2022-06-05T00:46:31.477290Z",
     "iopub.status.busy": "2022-06-05T00:46:31.476590Z",
     "iopub.status.idle": "2022-06-05T00:46:31.481597Z",
     "shell.execute_reply": "2022-06-05T00:46:31.482068Z"
    },
    "papermill": {
     "duration": 0.043701,
     "end_time": "2022-06-05T00:46:31.482235",
     "exception": false,
     "start_time": "2022-06-05T00:46:31.438534",
     "status": "completed"
    },
    "tags": []
   },
   "outputs": [],
   "source": [
    "# #hide\n",
    "# g = g[g.group.notna()]"
   ]
  },
  {
   "cell_type": "code",
   "execution_count": 40,
   "id": "determined-closing",
   "metadata": {
    "execution": {
     "iopub.execute_input": "2022-06-05T00:46:31.556927Z",
     "iopub.status.busy": "2022-06-05T00:46:31.556095Z",
     "iopub.status.idle": "2022-06-05T00:46:31.559163Z",
     "shell.execute_reply": "2022-06-05T00:46:31.558017Z"
    },
    "papermill": {
     "duration": 0.04237,
     "end_time": "2022-06-05T00:46:31.559314",
     "exception": false,
     "start_time": "2022-06-05T00:46:31.516944",
     "status": "completed"
    },
    "tags": []
   },
   "outputs": [],
   "source": [
    "# #hide\n",
    "# colors = dict(zip(\n",
    "#     [\"Oceania\", \"Europe\", \"Asia\", \"South America\", \"Middle East\", \"North America\", \"Africa\"],\n",
    "#     [\"#adb0ff\", \"#ffb3ff\", \"#90d595\", \"#e48381\", \"#aafbff\", \"#f7bb5f\", \"#eafb50\"]\n",
    "# ))\n",
    "# group_lk = g.set_index('name')['group'].to_dict()"
   ]
  },
  {
   "cell_type": "code",
   "execution_count": null,
   "id": "gross-drinking",
   "metadata": {
    "papermill": {
     "duration": 0.03431,
     "end_time": "2022-06-05T00:46:31.631567",
     "exception": false,
     "start_time": "2022-06-05T00:46:31.597257",
     "status": "completed"
    },
    "tags": []
   },
   "outputs": [],
   "source": []
  },
  {
   "cell_type": "code",
   "execution_count": 41,
   "id": "subject-macintosh",
   "metadata": {
    "execution": {
     "iopub.execute_input": "2022-06-05T00:46:31.709381Z",
     "iopub.status.busy": "2022-06-05T00:46:31.708694Z",
     "iopub.status.idle": "2022-06-05T00:46:31.712113Z",
     "shell.execute_reply": "2022-06-05T00:46:31.712764Z"
    },
    "papermill": {
     "duration": 0.046327,
     "end_time": "2022-06-05T00:46:31.712910",
     "exception": false,
     "start_time": "2022-06-05T00:46:31.666583",
     "status": "completed"
    },
    "tags": []
   },
   "outputs": [],
   "source": [
    "# #hide\n",
    "# fig, ax = plt.subplots(figsize=(15, 8))\n",
    "\n",
    "# def draw_barchart(current_day):\n",
    "#     dff = g[g['day'].eq(current_day)].sort_values(by='value', ascending=True).tail(10)\n",
    "#     ax.clear()\n",
    "#     ax.barh(dff['name'], dff['value'], color=[colors[group_lk[x]] for x in dff['name']])\n",
    "#     dx = dff['value'].max() / 200\n",
    "    \n",
    "#     for i, (value, name) in enumerate(zip(dff['value'], dff['name'])):\n",
    "#         ax.text(value-dx, i,     name,           size=14, weight=600, ha='right', va='bottom')\n",
    "#         ax.text(value-dx, i-.25, group_lk[name], size=10, color='#444444', ha='right', va='baseline')\n",
    "#         ax.text(value+dx, i,     f'{value:,.0f}',  size=14, ha='left',  va='center')\n",
    "#     ax.text(1, 0.4, current_day, transform=ax.transAxes, color='#777777', size=46, ha='right', weight=800)\n",
    "#     ax.text(0, 1.06, 'Population (thousands)', transform=ax.transAxes, size=12, color='#777777')\n",
    "#     ax.xaxis.set_major_formatter(ticker.StrMethodFormatter('{x:,.0f}'))\n",
    "#     ax.xaxis.set_ticks_position('top')\n",
    "#     ax.tick_params(axis='x', colors='#777777', labelsize=12)\n",
    "#     ax.set_yticks([])\n",
    "#     ax.margins(0, 0.01)\n",
    "#     ax.grid(which='major', axis='x', linestyle='-')\n",
    "#     ax.set_axisbelow(True)\n",
    "    \n",
    "#     ax.text(0, 1.15, 'Coronavirus',\n",
    "#             transform=ax.transAxes, size=24, weight=600, ha='left', va='top')\n",
    "# #     ax.text(1, 0, 'by @pratapvardhan; credit @jburnmurdoch', transform=ax.transAxes, color='#777777', ha='right',\n",
    "# #             bbox=dict(facecolor='white', alpha=0.8, edgecolor='white'))\n",
    "#     plt.box(False)"
   ]
  },
  {
   "cell_type": "code",
   "execution_count": 42,
   "id": "sexual-wages",
   "metadata": {
    "execution": {
     "iopub.execute_input": "2022-06-05T00:46:31.791167Z",
     "iopub.status.busy": "2022-06-05T00:46:31.789913Z",
     "iopub.status.idle": "2022-06-05T00:46:31.792456Z",
     "shell.execute_reply": "2022-06-05T00:46:31.793347Z"
    },
    "papermill": {
     "duration": 0.045735,
     "end_time": "2022-06-05T00:46:31.793580",
     "exception": false,
     "start_time": "2022-06-05T00:46:31.747845",
     "status": "completed"
    },
    "tags": []
   },
   "outputs": [],
   "source": [
    "# #hide_input\n",
    "# fig, ax = plt.subplots(figsize=(15, 8))\n",
    "# animator = animation.FuncAnimation(fig, draw_barchart, frames=range(g.day.values.min(), g.day.values.max()))\n",
    "# HTML(animator.to_jshtml())\n",
    "# # or use animator.to_html5_video() or animator.save() "
   ]
  },
  {
   "cell_type": "code",
   "execution_count": null,
   "id": "australian-container",
   "metadata": {
    "papermill": {
     "duration": 0.034472,
     "end_time": "2022-06-05T00:46:31.862898",
     "exception": false,
     "start_time": "2022-06-05T00:46:31.828426",
     "status": "completed"
    },
    "tags": []
   },
   "outputs": [],
   "source": []
  },
  {
   "cell_type": "code",
   "execution_count": null,
   "id": "mediterranean-pontiac",
   "metadata": {
    "papermill": {
     "duration": 0.033501,
     "end_time": "2022-06-05T00:46:31.930716",
     "exception": false,
     "start_time": "2022-06-05T00:46:31.897215",
     "status": "completed"
    },
    "tags": []
   },
   "outputs": [],
   "source": []
  },
  {
   "cell_type": "code",
   "execution_count": null,
   "id": "aging-legislature",
   "metadata": {
    "papermill": {
     "duration": 0.033896,
     "end_time": "2022-06-05T00:46:31.998205",
     "exception": false,
     "start_time": "2022-06-05T00:46:31.964309",
     "status": "completed"
    },
    "tags": []
   },
   "outputs": [],
   "source": []
  }
 ],
 "metadata": {
  "kernelspec": {
   "display_name": "Python 3",
   "language": "python",
   "name": "python3"
  },
  "language_info": {
   "codemirror_mode": {
    "name": "ipython",
    "version": 3
   },
   "file_extension": ".py",
   "mimetype": "text/x-python",
   "name": "python",
   "nbconvert_exporter": "python",
   "pygments_lexer": "ipython3",
   "version": "3.6.15"
  },
  "papermill": {
   "duration": 7.196762,
   "end_time": "2022-06-05T00:46:32.453501",
   "environment_variables": {},
   "exception": null,
   "input_path": "2020-03-21-covid19exp.ipynb",
   "output_path": "2020-03-21-covid19exp.ipynb",
   "parameters": {},
   "start_time": "2022-06-05T00:46:25.256739",
   "version": "2.0.0"
  }
 },
 "nbformat": 4,
 "nbformat_minor": 5
}