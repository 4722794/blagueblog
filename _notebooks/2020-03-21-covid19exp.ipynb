{
 "cells": [
  {
   "cell_type": "markdown",
   "id": "muslim-click",
   "metadata": {
    "papermill": {
     "duration": 0.034695,
     "end_time": "2022-11-16T12:26:38.907323",
     "exception": false,
     "start_time": "2022-11-16T12:26:38.872628",
     "status": "completed"
    },
    "tags": []
   },
   "source": [
    "# COVID-19 Case Race\n",
    "> A race chart to see rising cases around the world\n",
    "\n",
    "- author: Hargun Oberoi\n",
    "- image: images/covid-overview.png\n",
    "- hide: false\n",
    "- badges: false"
   ]
  },
  {
   "cell_type": "code",
   "execution_count": 1,
   "id": "proof-material",
   "metadata": {
    "execution": {
     "iopub.execute_input": "2022-11-16T12:26:38.976771Z",
     "iopub.status.busy": "2022-11-16T12:26:38.976198Z",
     "iopub.status.idle": "2022-11-16T12:26:39.279801Z",
     "shell.execute_reply": "2022-11-16T12:26:39.278831Z"
    },
    "papermill": {
     "duration": 0.342172,
     "end_time": "2022-11-16T12:26:39.279936",
     "exception": false,
     "start_time": "2022-11-16T12:26:38.937764",
     "status": "completed"
    },
    "tags": []
   },
   "outputs": [],
   "source": [
    "#hide\n",
    "import numpy as np\n",
    "import pandas as pd\n",
    "from jinja2 import Template\n",
    "from IPython.display import HTML"
   ]
  },
  {
   "cell_type": "code",
   "execution_count": 2,
   "id": "developed-terminology",
   "metadata": {
    "execution": {
     "iopub.execute_input": "2022-11-16T12:26:39.343950Z",
     "iopub.status.busy": "2022-11-16T12:26:39.343372Z",
     "iopub.status.idle": "2022-11-16T12:26:39.345226Z",
     "shell.execute_reply": "2022-11-16T12:26:39.345615Z"
    },
    "papermill": {
     "duration": 0.035916,
     "end_time": "2022-11-16T12:26:39.345727",
     "exception": false,
     "start_time": "2022-11-16T12:26:39.309811",
     "status": "completed"
    },
    "tags": []
   },
   "outputs": [],
   "source": [
    "#hide\n",
    "\n",
    "# FETCH\n",
    "base_url = 'https://raw.githubusercontent.com/pratapvardhan/notebooks/master/covid19/'\n",
    "paths = {\n",
    "    'mapping': base_url + 'mapping_countries.csv',\n",
    "    'overview': base_url + 'overview.tpl'\n",
    "}"
   ]
  },
  {
   "cell_type": "code",
   "execution_count": 3,
   "id": "dynamic-saver",
   "metadata": {
    "execution": {
     "iopub.execute_input": "2022-11-16T12:26:39.412915Z",
     "iopub.status.busy": "2022-11-16T12:26:39.412127Z",
     "iopub.status.idle": "2022-11-16T12:26:39.415850Z",
     "shell.execute_reply": "2022-11-16T12:26:39.416269Z"
    },
    "papermill": {
     "duration": 0.041068,
     "end_time": "2022-11-16T12:26:39.416377",
     "exception": false,
     "start_time": "2022-11-16T12:26:39.375309",
     "status": "completed"
    },
    "tags": []
   },
   "outputs": [
    {
     "data": {
      "text/plain": [
       "'https://raw.githubusercontent.com/pratapvardhan/notebooks/master/covid19/mapping_countries.csv'"
      ]
     },
     "execution_count": 3,
     "metadata": {},
     "output_type": "execute_result"
    }
   ],
   "source": [
    "#hide\n",
    "paths['mapping']"
   ]
  },
  {
   "cell_type": "code",
   "execution_count": 4,
   "id": "urban-software",
   "metadata": {
    "execution": {
     "iopub.execute_input": "2022-11-16T12:26:39.481015Z",
     "iopub.status.busy": "2022-11-16T12:26:39.480449Z",
     "iopub.status.idle": "2022-11-16T12:26:39.482928Z",
     "shell.execute_reply": "2022-11-16T12:26:39.482482Z"
    },
    "papermill": {
     "duration": 0.036706,
     "end_time": "2022-11-16T12:26:39.483022",
     "exception": false,
     "start_time": "2022-11-16T12:26:39.446316",
     "status": "completed"
    },
    "tags": []
   },
   "outputs": [],
   "source": [
    "#hide\n",
    "def get_mappings(url):\n",
    "    df = pd.read_csv(url)\n",
    "    return {\n",
    "        'df': df,\n",
    "        'replace.country': dict(df.dropna(subset=['Name']).set_index('Country')['Name']),\n",
    "        'map.continent': dict(df.set_index('Name')['Continent'])\n",
    "    }"
   ]
  },
  {
   "cell_type": "code",
   "execution_count": 5,
   "id": "intimate-machinery",
   "metadata": {
    "execution": {
     "iopub.execute_input": "2022-11-16T12:26:39.547629Z",
     "iopub.status.busy": "2022-11-16T12:26:39.547053Z",
     "iopub.status.idle": "2022-11-16T12:26:39.584546Z",
     "shell.execute_reply": "2022-11-16T12:26:39.584071Z"
    },
    "papermill": {
     "duration": 0.071755,
     "end_time": "2022-11-16T12:26:39.584646",
     "exception": false,
     "start_time": "2022-11-16T12:26:39.512891",
     "status": "completed"
    },
    "tags": []
   },
   "outputs": [],
   "source": [
    "#hide\n",
    "mapping = get_mappings(paths['mapping'])"
   ]
  },
  {
   "cell_type": "code",
   "execution_count": 6,
   "id": "certified-tactics",
   "metadata": {
    "execution": {
     "iopub.execute_input": "2022-11-16T12:26:39.649408Z",
     "iopub.status.busy": "2022-11-16T12:26:39.648844Z",
     "iopub.status.idle": "2022-11-16T12:26:39.652290Z",
     "shell.execute_reply": "2022-11-16T12:26:39.652700Z"
    },
    "papermill": {
     "duration": 0.038039,
     "end_time": "2022-11-16T12:26:39.652815",
     "exception": false,
     "start_time": "2022-11-16T12:26:39.614776",
     "status": "completed"
    },
    "tags": []
   },
   "outputs": [],
   "source": [
    "#hide\n",
    "def get_template(path):\n",
    "    from urllib.parse import urlparse\n",
    "    if bool(urlparse(path).netloc):\n",
    "        from urllib.request import urlopen\n",
    "        return urlopen(path).read().decode('utf8')\n",
    "    return open(path).read()"
   ]
  },
  {
   "cell_type": "code",
   "execution_count": 7,
   "id": "realistic-blast",
   "metadata": {
    "execution": {
     "iopub.execute_input": "2022-11-16T12:26:39.717604Z",
     "iopub.status.busy": "2022-11-16T12:26:39.717040Z",
     "iopub.status.idle": "2022-11-16T12:26:39.719512Z",
     "shell.execute_reply": "2022-11-16T12:26:39.718968Z"
    },
    "papermill": {
     "duration": 0.036849,
     "end_time": "2022-11-16T12:26:39.719612",
     "exception": false,
     "start_time": "2022-11-16T12:26:39.682763",
     "status": "completed"
    },
    "tags": []
   },
   "outputs": [],
   "source": [
    "#hide\n",
    "def get_frame(name):\n",
    "    url = (\n",
    "        'https://raw.githubusercontent.com/CSSEGISandData/COVID-19/master/csse_covid_19_data/'\n",
    "        f'csse_covid_19_time_series/time_series_covid19_{name}_global.csv')\n",
    "    df = pd.read_csv(url)\n",
    "    # rename countries\n",
    "    df['Country/Region'] = df['Country/Region'].replace(mapping['replace.country'])\n",
    "    return df"
   ]
  },
  {
   "cell_type": "code",
   "execution_count": 8,
   "id": "affiliated-characterization",
   "metadata": {
    "execution": {
     "iopub.execute_input": "2022-11-16T12:26:39.785284Z",
     "iopub.status.busy": "2022-11-16T12:26:39.784706Z",
     "iopub.status.idle": "2022-11-16T12:26:39.787505Z",
     "shell.execute_reply": "2022-11-16T12:26:39.787011Z"
    },
    "papermill": {
     "duration": 0.037802,
     "end_time": "2022-11-16T12:26:39.787607",
     "exception": false,
     "start_time": "2022-11-16T12:26:39.749805",
     "status": "completed"
    },
    "tags": []
   },
   "outputs": [],
   "source": [
    "#hide\n",
    "def get_dates(df):\n",
    "    dt_cols = df.columns[~df.columns.isin(['Province/State', 'Country/Region', 'Lat', 'Long'])]\n",
    "    LAST_DATE_I = -1\n",
    "    # sometimes last column may be empty, then go backwards\n",
    "    for i in range(-1, -len(dt_cols), -1):\n",
    "        if not df[dt_cols[i]].fillna(0).eq(0).all():\n",
    "            LAST_DATE_I = i\n",
    "            break\n",
    "    return LAST_DATE_I, dt_cols"
   ]
  },
  {
   "cell_type": "code",
   "execution_count": 9,
   "id": "recent-optimization",
   "metadata": {
    "execution": {
     "iopub.execute_input": "2022-11-16T12:26:39.852011Z",
     "iopub.status.busy": "2022-11-16T12:26:39.851398Z",
     "iopub.status.idle": "2022-11-16T12:26:40.337024Z",
     "shell.execute_reply": "2022-11-16T12:26:40.336549Z"
    },
    "papermill": {
     "duration": 0.519683,
     "end_time": "2022-11-16T12:26:40.337140",
     "exception": false,
     "start_time": "2022-11-16T12:26:39.817457",
     "status": "completed"
    },
    "tags": []
   },
   "outputs": [],
   "source": [
    "#hide\n",
    "COL_REGION = 'Country/Region'\n",
    "# Confirmed, Recovered, Deaths\n",
    "df = get_frame('confirmed')\n",
    "# dft_: timeseries, dfc_: today country agg\n",
    "dft_cases = df\n",
    "dft_deaths = get_frame('deaths')\n",
    "dft_recovered = get_frame('recovered')\n",
    "LAST_DATE_I, dt_cols = get_dates(df)"
   ]
  },
  {
   "cell_type": "code",
   "execution_count": 10,
   "id": "absolute-copper",
   "metadata": {
    "execution": {
     "iopub.execute_input": "2022-11-16T12:26:40.402921Z",
     "iopub.status.busy": "2022-11-16T12:26:40.402371Z",
     "iopub.status.idle": "2022-11-16T12:26:40.404647Z",
     "shell.execute_reply": "2022-11-16T12:26:40.405074Z"
    },
    "papermill": {
     "duration": 0.03767,
     "end_time": "2022-11-16T12:26:40.405187",
     "exception": false,
     "start_time": "2022-11-16T12:26:40.367517",
     "status": "completed"
    },
    "tags": []
   },
   "outputs": [],
   "source": [
    "#hide\n",
    "LAST_DATE_I, dt_cols = get_dates(df)\n",
    "dt_today =dt_cols[LAST_DATE_I]\n",
    "# dt_5day = dt_cols[LAST_DATE_I - 5]\n",
    "dt_yday = dt_cols[LAST_DATE_I - 1]"
   ]
  },
  {
   "cell_type": "code",
   "execution_count": 11,
   "id": "restricted-sheriff",
   "metadata": {
    "execution": {
     "iopub.execute_input": "2022-11-16T12:26:40.470677Z",
     "iopub.status.busy": "2022-11-16T12:26:40.470111Z",
     "iopub.status.idle": "2022-11-16T12:26:40.477292Z",
     "shell.execute_reply": "2022-11-16T12:26:40.476836Z"
    },
    "papermill": {
     "duration": 0.042216,
     "end_time": "2022-11-16T12:26:40.477391",
     "exception": false,
     "start_time": "2022-11-16T12:26:40.435175",
     "status": "completed"
    },
    "tags": []
   },
   "outputs": [],
   "source": [
    "#hide\n",
    "dfc_cases = dft_cases.groupby(COL_REGION)[dt_today].sum()\n",
    "dfc_deaths = dft_deaths.groupby(COL_REGION)[dt_today].sum()\n",
    "# dfp_cases = dft_cases.groupby(COL_REGION)[dt_5day].sum()\n",
    "# dfp_deaths = dft_deaths.groupby(COL_REGION)[dt_5day].sum()\n",
    "dfp_cases = dft_cases.groupby(COL_REGION)[dt_yday].sum()\n",
    "dfp_deaths = dft_deaths.groupby(COL_REGION)[dt_yday].sum()"
   ]
  },
  {
   "cell_type": "code",
   "execution_count": 12,
   "id": "deluxe-hepatitis",
   "metadata": {
    "execution": {
     "iopub.execute_input": "2022-11-16T12:26:40.553283Z",
     "iopub.status.busy": "2022-11-16T12:26:40.552722Z",
     "iopub.status.idle": "2022-11-16T12:26:40.557004Z",
     "shell.execute_reply": "2022-11-16T12:26:40.557439Z"
    },
    "papermill": {
     "duration": 0.050011,
     "end_time": "2022-11-16T12:26:40.557552",
     "exception": false,
     "start_time": "2022-11-16T12:26:40.507541",
     "status": "completed"
    },
    "tags": []
   },
   "outputs": [],
   "source": [
    "#hide\n",
    "df_table = (pd.DataFrame(dict(Cases = dfc_cases, Deaths = dfc_deaths, PCases = dfp_cases, PDeaths = dfp_deaths))\n",
    "            .sort_values(by = ['Cases','Deaths'], ascending = [False, False])\n",
    "            .reset_index())"
   ]
  },
  {
   "cell_type": "code",
   "execution_count": 13,
   "id": "educational-chancellor",
   "metadata": {
    "execution": {
     "iopub.execute_input": "2022-11-16T12:26:40.633099Z",
     "iopub.status.busy": "2022-11-16T12:26:40.632545Z",
     "iopub.status.idle": "2022-11-16T12:26:40.640756Z",
     "shell.execute_reply": "2022-11-16T12:26:40.640320Z"
    },
    "papermill": {
     "duration": 0.053399,
     "end_time": "2022-11-16T12:26:40.640854",
     "exception": false,
     "start_time": "2022-11-16T12:26:40.587455",
     "status": "completed"
    },
    "tags": []
   },
   "outputs": [
    {
     "data": {
      "text/html": [
       "<div>\n",
       "<style scoped>\n",
       "    .dataframe tbody tr th:only-of-type {\n",
       "        vertical-align: middle;\n",
       "    }\n",
       "\n",
       "    .dataframe tbody tr th {\n",
       "        vertical-align: top;\n",
       "    }\n",
       "\n",
       "    .dataframe thead th {\n",
       "        text-align: right;\n",
       "    }\n",
       "</style>\n",
       "<table border=\"1\" class=\"dataframe\">\n",
       "  <thead>\n",
       "    <tr style=\"text-align: right;\">\n",
       "      <th></th>\n",
       "      <th>Country/Region</th>\n",
       "      <th>Cases</th>\n",
       "      <th>Deaths</th>\n",
       "      <th>PCases</th>\n",
       "      <th>PDeaths</th>\n",
       "      <th>Cases (+)</th>\n",
       "      <th>Deaths (+)</th>\n",
       "      <th>Fatality Rate</th>\n",
       "      <th>Continent</th>\n",
       "    </tr>\n",
       "  </thead>\n",
       "  <tbody>\n",
       "    <tr>\n",
       "      <th>0</th>\n",
       "      <td>US</td>\n",
       "      <td>98086072</td>\n",
       "      <td>1075088</td>\n",
       "      <td>98045793</td>\n",
       "      <td>1074701</td>\n",
       "      <td>40279</td>\n",
       "      <td>387</td>\n",
       "      <td>1.10</td>\n",
       "      <td>North America</td>\n",
       "    </tr>\n",
       "    <tr>\n",
       "      <th>1</th>\n",
       "      <td>India</td>\n",
       "      <td>44667900</td>\n",
       "      <td>530535</td>\n",
       "      <td>44667390</td>\n",
       "      <td>530533</td>\n",
       "      <td>510</td>\n",
       "      <td>2</td>\n",
       "      <td>1.19</td>\n",
       "      <td>Asia</td>\n",
       "    </tr>\n",
       "    <tr>\n",
       "      <th>2</th>\n",
       "      <td>France</td>\n",
       "      <td>37403757</td>\n",
       "      <td>158981</td>\n",
       "      <td>37354169</td>\n",
       "      <td>158861</td>\n",
       "      <td>49588</td>\n",
       "      <td>120</td>\n",
       "      <td>0.43</td>\n",
       "      <td>Europe</td>\n",
       "    </tr>\n",
       "    <tr>\n",
       "      <th>3</th>\n",
       "      <td>Germany</td>\n",
       "      <td>36119184</td>\n",
       "      <td>156030</td>\n",
       "      <td>36080574</td>\n",
       "      <td>155807</td>\n",
       "      <td>38610</td>\n",
       "      <td>223</td>\n",
       "      <td>0.43</td>\n",
       "      <td>Europe</td>\n",
       "    </tr>\n",
       "    <tr>\n",
       "      <th>4</th>\n",
       "      <td>Brazil</td>\n",
       "      <td>34908198</td>\n",
       "      <td>688656</td>\n",
       "      <td>34908198</td>\n",
       "      <td>688656</td>\n",
       "      <td>0</td>\n",
       "      <td>0</td>\n",
       "      <td>1.97</td>\n",
       "      <td>South America</td>\n",
       "    </tr>\n",
       "  </tbody>\n",
       "</table>\n",
       "</div>"
      ],
      "text/plain": [
       "  Country/Region     Cases   Deaths    PCases  PDeaths  Cases (+)  Deaths (+)  \\\n",
       "0             US  98086072  1075088  98045793  1074701      40279         387   \n",
       "1          India  44667900   530535  44667390   530533        510           2   \n",
       "2         France  37403757   158981  37354169   158861      49588         120   \n",
       "3        Germany  36119184   156030  36080574   155807      38610         223   \n",
       "4         Brazil  34908198   688656  34908198   688656          0           0   \n",
       "\n",
       "   Fatality Rate      Continent  \n",
       "0           1.10  North America  \n",
       "1           1.19           Asia  \n",
       "2           0.43         Europe  \n",
       "3           0.43         Europe  \n",
       "4           1.97  South America  "
      ]
     },
     "execution_count": 13,
     "metadata": {},
     "output_type": "execute_result"
    }
   ],
   "source": [
    "#hide\n",
    "for c in 'Cases, Deaths'.split(', '):\n",
    "    df_table[f'{c} (+)'] = (df_table[c] - df_table[f'P{c}']).clip(0)\n",
    "    #Clip ça veut dire, les chiffres negatif sont interdit\n",
    "df_table['Fatality Rate'] = (100* df_table['Deaths']/ df_table['Cases']).round(2)\n",
    "df_table['Continent'] = df_table['Country/Region'].map(mapping['map.continent'])\n",
    "df_table.head(5)"
   ]
  },
  {
   "cell_type": "code",
   "execution_count": 14,
   "id": "aboriginal-bulgaria",
   "metadata": {
    "execution": {
     "iopub.execute_input": "2022-11-16T12:26:40.707421Z",
     "iopub.status.busy": "2022-11-16T12:26:40.705725Z",
     "iopub.status.idle": "2022-11-16T12:26:40.710507Z",
     "shell.execute_reply": "2022-11-16T12:26:40.710052Z"
    },
    "papermill": {
     "duration": 0.039147,
     "end_time": "2022-11-16T12:26:40.710605",
     "exception": false,
     "start_time": "2022-11-16T12:26:40.671458",
     "status": "completed"
    },
    "tags": []
   },
   "outputs": [],
   "source": [
    "#hide\n",
    "#delete problematic countries from table\n",
    "df_table = df_table[~df_table['Country/Region'].isin(['Cape Verde', 'Cruise Ship', 'Kosovo'])]"
   ]
  },
  {
   "cell_type": "code",
   "execution_count": 15,
   "id": "fantastic-effect",
   "metadata": {
    "execution": {
     "iopub.execute_input": "2022-11-16T12:26:40.777957Z",
     "iopub.status.busy": "2022-11-16T12:26:40.777399Z",
     "iopub.status.idle": "2022-11-16T12:26:40.794295Z",
     "shell.execute_reply": "2022-11-16T12:26:40.794744Z"
    },
    "papermill": {
     "duration": 0.053694,
     "end_time": "2022-11-16T12:26:40.794852",
     "exception": false,
     "start_time": "2022-11-16T12:26:40.741158",
     "status": "completed"
    },
    "tags": []
   },
   "outputs": [
    {
     "data": {
      "text/html": [
       "<div>\n",
       "<style scoped>\n",
       "    .dataframe tbody tr th:only-of-type {\n",
       "        vertical-align: middle;\n",
       "    }\n",
       "\n",
       "    .dataframe tbody tr th {\n",
       "        vertical-align: top;\n",
       "    }\n",
       "\n",
       "    .dataframe thead th {\n",
       "        text-align: right;\n",
       "    }\n",
       "</style>\n",
       "<table border=\"1\" class=\"dataframe\">\n",
       "  <thead>\n",
       "    <tr style=\"text-align: right;\">\n",
       "      <th></th>\n",
       "      <th>Country/Region</th>\n",
       "      <th>Cases</th>\n",
       "      <th>Deaths</th>\n",
       "      <th>PCases</th>\n",
       "      <th>PDeaths</th>\n",
       "      <th>Cases (+)</th>\n",
       "      <th>Deaths (+)</th>\n",
       "      <th>Fatality Rate</th>\n",
       "      <th>Continent</th>\n",
       "    </tr>\n",
       "  </thead>\n",
       "  <tbody>\n",
       "    <tr>\n",
       "      <th>0</th>\n",
       "      <td>US</td>\n",
       "      <td>98086072</td>\n",
       "      <td>1075088</td>\n",
       "      <td>98045793</td>\n",
       "      <td>1074701</td>\n",
       "      <td>40279</td>\n",
       "      <td>387</td>\n",
       "      <td>1.1</td>\n",
       "      <td>North America</td>\n",
       "    </tr>\n",
       "    <tr>\n",
       "      <th>1</th>\n",
       "      <td>India</td>\n",
       "      <td>44667900</td>\n",
       "      <td>530535</td>\n",
       "      <td>44667390</td>\n",
       "      <td>530533</td>\n",
       "      <td>510</td>\n",
       "      <td>2</td>\n",
       "      <td>1.2</td>\n",
       "      <td>Asia</td>\n",
       "    </tr>\n",
       "    <tr>\n",
       "      <th>2</th>\n",
       "      <td>France</td>\n",
       "      <td>37403757</td>\n",
       "      <td>158981</td>\n",
       "      <td>37354169</td>\n",
       "      <td>158861</td>\n",
       "      <td>49588</td>\n",
       "      <td>120</td>\n",
       "      <td>0.4</td>\n",
       "      <td>Europe</td>\n",
       "    </tr>\n",
       "    <tr>\n",
       "      <th>3</th>\n",
       "      <td>Germany</td>\n",
       "      <td>36119184</td>\n",
       "      <td>156030</td>\n",
       "      <td>36080574</td>\n",
       "      <td>155807</td>\n",
       "      <td>38610</td>\n",
       "      <td>223</td>\n",
       "      <td>0.4</td>\n",
       "      <td>Europe</td>\n",
       "    </tr>\n",
       "    <tr>\n",
       "      <th>4</th>\n",
       "      <td>Brazil</td>\n",
       "      <td>34908198</td>\n",
       "      <td>688656</td>\n",
       "      <td>34908198</td>\n",
       "      <td>688656</td>\n",
       "      <td>0</td>\n",
       "      <td>0</td>\n",
       "      <td>2.0</td>\n",
       "      <td>South America</td>\n",
       "    </tr>\n",
       "  </tbody>\n",
       "</table>\n",
       "</div>"
      ],
      "text/plain": [
       "  Country/Region     Cases   Deaths    PCases  PDeaths  Cases (+)  Deaths (+)  \\\n",
       "0             US  98086072  1075088  98045793  1074701      40279         387   \n",
       "1          India  44667900   530535  44667390   530533        510           2   \n",
       "2         France  37403757   158981  37354169   158861      49588         120   \n",
       "3        Germany  36119184   156030  36080574   155807      38610         223   \n",
       "4         Brazil  34908198   688656  34908198   688656          0           0   \n",
       "\n",
       "   Fatality Rate      Continent  \n",
       "0            1.1  North America  \n",
       "1            1.2           Asia  \n",
       "2            0.4         Europe  \n",
       "3            0.4         Europe  \n",
       "4            2.0  South America  "
      ]
     },
     "execution_count": 15,
     "metadata": {},
     "output_type": "execute_result"
    }
   ],
   "source": [
    "#hide\n",
    "df_table = (pd.DataFrame(dict(Cases=dfc_cases, Deaths=dfc_deaths, PCases=dfp_cases, PDeaths=dfp_deaths))\n",
    "             .sort_values(by=['Cases', 'Deaths'], ascending=[False, False])\n",
    "             .reset_index())\n",
    "df_table.rename(columns={'index': 'Country/Region'}, inplace=True)\n",
    "for c in 'Cases, Deaths'.split(', '):\n",
    "    df_table[f'{c} (+)'] = (df_table[c] - df_table[f'P{c}']).clip(0)  # DATA BUG\n",
    "df_table['Fatality Rate'] = (100 * df_table['Deaths'] / df_table['Cases']).round(1)\n",
    "df_table['Continent'] = df_table['Country/Region'].map(mapping['map.continent'])\n",
    "df_table.head(5)"
   ]
  },
  {
   "cell_type": "code",
   "execution_count": 16,
   "id": "fewer-occasion",
   "metadata": {
    "execution": {
     "iopub.execute_input": "2022-11-16T12:26:40.861776Z",
     "iopub.status.busy": "2022-11-16T12:26:40.861211Z",
     "iopub.status.idle": "2022-11-16T12:26:40.863580Z",
     "shell.execute_reply": "2022-11-16T12:26:40.863039Z"
    },
    "papermill": {
     "duration": 0.037653,
     "end_time": "2022-11-16T12:26:40.863674",
     "exception": false,
     "start_time": "2022-11-16T12:26:40.826021",
     "status": "completed"
    },
    "tags": []
   },
   "outputs": [],
   "source": [
    "#hide\n",
    "#delete problematic countries from table\n",
    "df_table = df_table[~df_table['Country/Region'].isin(['Cape Verde', 'Cruise Ship', 'Kosovo'])]"
   ]
  },
  {
   "cell_type": "code",
   "execution_count": 17,
   "id": "related-center",
   "metadata": {
    "execution": {
     "iopub.execute_input": "2022-11-16T12:26:40.931571Z",
     "iopub.status.busy": "2022-11-16T12:26:40.931003Z",
     "iopub.status.idle": "2022-11-16T12:26:40.943631Z",
     "shell.execute_reply": "2022-11-16T12:26:40.943084Z"
    },
    "papermill": {
     "duration": 0.049191,
     "end_time": "2022-11-16T12:26:40.943726",
     "exception": false,
     "start_time": "2022-11-16T12:26:40.894535",
     "status": "completed"
    },
    "tags": []
   },
   "outputs": [],
   "source": [
    "#hide\n",
    "metrics = [df_table.columns[index] for index in [1,2,5,6]]\n",
    "# s_china = df_table[df_table['Country/Region'].eq('China')][metrics].sum().add_prefix('China ')\n",
    "s_us = df_table[df_table['Country/Region'].eq('US')][metrics].sum().add_prefix('US ')\n",
    "s_eu = df_table[df_table['Continent'].eq('Europe')][metrics].sum().add_prefix('EU ')\n",
    "s_ind = df_table[df_table['Country/Region'].eq('India')][metrics].sum().add_prefix('India ')\n",
    "summary = {'updated': pd.to_datetime(dt_today), 'since': pd.to_datetime(dt_yday)}\n",
    "summary = {'updated': pd.to_datetime(dt_today), 'since': pd.to_datetime(dt_yday)}\n",
    "summary = {**summary, **df_table[metrics].sum(), **s_ind, **s_us, **s_eu}"
   ]
  },
  {
   "cell_type": "code",
   "execution_count": 18,
   "id": "engaging-syndrome",
   "metadata": {
    "execution": {
     "iopub.execute_input": "2022-11-16T12:26:41.010333Z",
     "iopub.status.busy": "2022-11-16T12:26:41.009780Z",
     "iopub.status.idle": "2022-11-16T12:26:41.028758Z",
     "shell.execute_reply": "2022-11-16T12:26:41.028333Z"
    },
    "papermill": {
     "duration": 0.054166,
     "end_time": "2022-11-16T12:26:41.028858",
     "exception": false,
     "start_time": "2022-11-16T12:26:40.974692",
     "status": "completed"
    },
    "tags": []
   },
   "outputs": [],
   "source": [
    "#hide\n",
    "dft_ct_new_cases = dft_cases.groupby(COL_REGION)[dt_cols].sum().diff(axis=1).fillna(0).astype(int)"
   ]
  },
  {
   "cell_type": "code",
   "execution_count": 19,
   "id": "neutral-assignment",
   "metadata": {
    "execution": {
     "iopub.execute_input": "2022-11-16T12:26:41.096361Z",
     "iopub.status.busy": "2022-11-16T12:26:41.095808Z",
     "iopub.status.idle": "2022-11-16T12:26:41.098469Z",
     "shell.execute_reply": "2022-11-16T12:26:41.098035Z"
    },
    "papermill": {
     "duration": 0.038721,
     "end_time": "2022-11-16T12:26:41.098563",
     "exception": false,
     "start_time": "2022-11-16T12:26:41.059842",
     "status": "completed"
    },
    "tags": []
   },
   "outputs": [],
   "source": [
    "#hide\n",
    "everydaycases = dft_ct_new_cases.cumsum(axis=1)"
   ]
  },
  {
   "cell_type": "code",
   "execution_count": 20,
   "id": "parliamentary-calgary",
   "metadata": {
    "execution": {
     "iopub.execute_input": "2022-11-16T12:26:41.164465Z",
     "iopub.status.busy": "2022-11-16T12:26:41.163912Z",
     "iopub.status.idle": "2022-11-16T12:26:41.701041Z",
     "shell.execute_reply": "2022-11-16T12:26:41.700229Z"
    },
    "papermill": {
     "duration": 0.5715,
     "end_time": "2022-11-16T12:26:41.701158",
     "exception": false,
     "start_time": "2022-11-16T12:26:41.129658",
     "status": "completed"
    },
    "tags": []
   },
   "outputs": [],
   "source": [
    "#hide\n",
    "import pandas as pd\n",
    "import matplotlib.pyplot as plt\n",
    "import matplotlib.ticker as ticker\n",
    "import matplotlib.animation as animation\n",
    "from IPython.display import HTML"
   ]
  },
  {
   "cell_type": "code",
   "execution_count": 21,
   "id": "lasting-extraction",
   "metadata": {
    "execution": {
     "iopub.execute_input": "2022-11-16T12:26:41.769585Z",
     "iopub.status.busy": "2022-11-16T12:26:41.769026Z",
     "iopub.status.idle": "2022-11-16T12:26:41.775628Z",
     "shell.execute_reply": "2022-11-16T12:26:41.776127Z"
    },
    "papermill": {
     "duration": 0.043694,
     "end_time": "2022-11-16T12:26:41.776239",
     "exception": false,
     "start_time": "2022-11-16T12:26:41.732545",
     "status": "completed"
    },
    "tags": []
   },
   "outputs": [],
   "source": [
    "#hide\n",
    "t = everydaycases.stack()"
   ]
  },
  {
   "cell_type": "code",
   "execution_count": 22,
   "id": "premier-sleeve",
   "metadata": {
    "execution": {
     "iopub.execute_input": "2022-11-16T12:26:41.842008Z",
     "iopub.status.busy": "2022-11-16T12:26:41.841454Z",
     "iopub.status.idle": "2022-11-16T12:26:41.853121Z",
     "shell.execute_reply": "2022-11-16T12:26:41.852641Z"
    },
    "papermill": {
     "duration": 0.045826,
     "end_time": "2022-11-16T12:26:41.853218",
     "exception": false,
     "start_time": "2022-11-16T12:26:41.807392",
     "status": "completed"
    },
    "tags": []
   },
   "outputs": [],
   "source": [
    "#hide\n",
    "g = t.reset_index(['Country/Region'])"
   ]
  },
  {
   "cell_type": "code",
   "execution_count": 23,
   "id": "distributed-pittsburgh",
   "metadata": {
    "execution": {
     "iopub.execute_input": "2022-11-16T12:26:41.918557Z",
     "iopub.status.busy": "2022-11-16T12:26:41.918004Z",
     "iopub.status.idle": "2022-11-16T12:26:41.920461Z",
     "shell.execute_reply": "2022-11-16T12:26:41.919946Z"
    },
    "papermill": {
     "duration": 0.036331,
     "end_time": "2022-11-16T12:26:41.920556",
     "exception": false,
     "start_time": "2022-11-16T12:26:41.884225",
     "status": "completed"
    },
    "tags": []
   },
   "outputs": [],
   "source": [
    "#hide\n",
    "g.index.name = 'date'"
   ]
  },
  {
   "cell_type": "code",
   "execution_count": 24,
   "id": "naked-donor",
   "metadata": {
    "execution": {
     "iopub.execute_input": "2022-11-16T12:26:41.985786Z",
     "iopub.status.busy": "2022-11-16T12:26:41.985214Z",
     "iopub.status.idle": "2022-11-16T12:26:41.987717Z",
     "shell.execute_reply": "2022-11-16T12:26:41.987285Z"
    },
    "papermill": {
     "duration": 0.036232,
     "end_time": "2022-11-16T12:26:41.987816",
     "exception": false,
     "start_time": "2022-11-16T12:26:41.951584",
     "status": "completed"
    },
    "tags": []
   },
   "outputs": [],
   "source": [
    "# #hide\n",
    "# g = g.reset_index(['date'])"
   ]
  },
  {
   "cell_type": "code",
   "execution_count": 25,
   "id": "incomplete-mustang",
   "metadata": {
    "execution": {
     "iopub.execute_input": "2022-11-16T12:26:42.053050Z",
     "iopub.status.busy": "2022-11-16T12:26:42.052478Z",
     "iopub.status.idle": "2022-11-16T12:26:42.054935Z",
     "shell.execute_reply": "2022-11-16T12:26:42.054522Z"
    },
    "papermill": {
     "duration": 0.036199,
     "end_time": "2022-11-16T12:26:42.055031",
     "exception": false,
     "start_time": "2022-11-16T12:26:42.018832",
     "status": "completed"
    },
    "tags": []
   },
   "outputs": [],
   "source": [
    "#hide\n",
    "# g.head()"
   ]
  },
  {
   "cell_type": "code",
   "execution_count": 26,
   "id": "specific-kruger",
   "metadata": {
    "execution": {
     "iopub.execute_input": "2022-11-16T12:26:42.120437Z",
     "iopub.status.busy": "2022-11-16T12:26:42.119869Z",
     "iopub.status.idle": "2022-11-16T12:26:42.121848Z",
     "shell.execute_reply": "2022-11-16T12:26:42.122268Z"
    },
    "papermill": {
     "duration": 0.036189,
     "end_time": "2022-11-16T12:26:42.122375",
     "exception": false,
     "start_time": "2022-11-16T12:26:42.086186",
     "status": "completed"
    },
    "tags": []
   },
   "outputs": [],
   "source": [
    "#hide\n",
    "# g.columns = ['date','country','cases']"
   ]
  },
  {
   "cell_type": "code",
   "execution_count": 27,
   "id": "tender-conversion",
   "metadata": {
    "execution": {
     "iopub.execute_input": "2022-11-16T12:26:42.187696Z",
     "iopub.status.busy": "2022-11-16T12:26:42.187112Z",
     "iopub.status.idle": "2022-11-16T12:26:42.189581Z",
     "shell.execute_reply": "2022-11-16T12:26:42.189060Z"
    },
    "papermill": {
     "duration": 0.036382,
     "end_time": "2022-11-16T12:26:42.189677",
     "exception": false,
     "start_time": "2022-11-16T12:26:42.153295",
     "status": "completed"
    },
    "tags": []
   },
   "outputs": [],
   "source": [
    "#hide\n",
    "# g['continent'] = g.country"
   ]
  },
  {
   "cell_type": "code",
   "execution_count": 28,
   "id": "substantial-wilderness",
   "metadata": {
    "execution": {
     "iopub.execute_input": "2022-11-16T12:26:42.255543Z",
     "iopub.status.busy": "2022-11-16T12:26:42.254944Z",
     "iopub.status.idle": "2022-11-16T12:26:42.257433Z",
     "shell.execute_reply": "2022-11-16T12:26:42.256923Z"
    },
    "papermill": {
     "duration": 0.036648,
     "end_time": "2022-11-16T12:26:42.257528",
     "exception": false,
     "start_time": "2022-11-16T12:26:42.220880",
     "status": "completed"
    },
    "tags": []
   },
   "outputs": [],
   "source": [
    "#hide\n",
    "# cols = list(g.columns.values)"
   ]
  },
  {
   "cell_type": "code",
   "execution_count": 29,
   "id": "solved-farming",
   "metadata": {
    "execution": {
     "iopub.execute_input": "2022-11-16T12:26:42.322702Z",
     "iopub.status.busy": "2022-11-16T12:26:42.322131Z",
     "iopub.status.idle": "2022-11-16T12:26:42.324598Z",
     "shell.execute_reply": "2022-11-16T12:26:42.324080Z"
    },
    "papermill": {
     "duration": 0.036297,
     "end_time": "2022-11-16T12:26:42.324694",
     "exception": false,
     "start_time": "2022-11-16T12:26:42.288397",
     "status": "completed"
    },
    "tags": []
   },
   "outputs": [],
   "source": [
    "#hide\n",
    "# cols.insert(0, cols.pop())"
   ]
  },
  {
   "cell_type": "code",
   "execution_count": 30,
   "id": "executed-adoption",
   "metadata": {
    "execution": {
     "iopub.execute_input": "2022-11-16T12:26:42.390065Z",
     "iopub.status.busy": "2022-11-16T12:26:42.389495Z",
     "iopub.status.idle": "2022-11-16T12:26:42.391873Z",
     "shell.execute_reply": "2022-11-16T12:26:42.391341Z"
    },
    "papermill": {
     "duration": 0.036291,
     "end_time": "2022-11-16T12:26:42.391968",
     "exception": false,
     "start_time": "2022-11-16T12:26:42.355677",
     "status": "completed"
    },
    "tags": []
   },
   "outputs": [],
   "source": [
    "#hide\n",
    "# g = g[cols]"
   ]
  },
  {
   "cell_type": "code",
   "execution_count": 31,
   "id": "subject-dublin",
   "metadata": {
    "execution": {
     "iopub.execute_input": "2022-11-16T12:26:42.457137Z",
     "iopub.status.busy": "2022-11-16T12:26:42.456577Z",
     "iopub.status.idle": "2022-11-16T12:26:42.458938Z",
     "shell.execute_reply": "2022-11-16T12:26:42.458419Z"
    },
    "papermill": {
     "duration": 0.036112,
     "end_time": "2022-11-16T12:26:42.459032",
     "exception": false,
     "start_time": "2022-11-16T12:26:42.422920",
     "status": "completed"
    },
    "tags": []
   },
   "outputs": [],
   "source": [
    "#hide\n",
    "# g['continent'] = g['continent'].map(mapping['map.continent'])"
   ]
  },
  {
   "cell_type": "code",
   "execution_count": 32,
   "id": "freelance-scout",
   "metadata": {
    "execution": {
     "iopub.execute_input": "2022-11-16T12:26:42.524552Z",
     "iopub.status.busy": "2022-11-16T12:26:42.523978Z",
     "iopub.status.idle": "2022-11-16T12:26:42.526319Z",
     "shell.execute_reply": "2022-11-16T12:26:42.525799Z"
    },
    "papermill": {
     "duration": 0.036286,
     "end_time": "2022-11-16T12:26:42.526414",
     "exception": false,
     "start_time": "2022-11-16T12:26:42.490128",
     "status": "completed"
    },
    "tags": []
   },
   "outputs": [],
   "source": [
    "#hide\n",
    "# g.head()"
   ]
  },
  {
   "cell_type": "code",
   "execution_count": 33,
   "id": "limited-engine",
   "metadata": {
    "execution": {
     "iopub.execute_input": "2022-11-16T12:26:42.591575Z",
     "iopub.status.busy": "2022-11-16T12:26:42.591000Z",
     "iopub.status.idle": "2022-11-16T12:26:42.593446Z",
     "shell.execute_reply": "2022-11-16T12:26:42.592906Z"
    },
    "papermill": {
     "duration": 0.03621,
     "end_time": "2022-11-16T12:26:42.593540",
     "exception": false,
     "start_time": "2022-11-16T12:26:42.557330",
     "status": "completed"
    },
    "tags": []
   },
   "outputs": [],
   "source": [
    "# hide\n",
    "# g['date'] = g['date'].astype('datetime64[ns]')"
   ]
  },
  {
   "cell_type": "code",
   "execution_count": 34,
   "id": "sophisticated-supervisor",
   "metadata": {
    "execution": {
     "iopub.execute_input": "2022-11-16T12:26:42.659557Z",
     "iopub.status.busy": "2022-11-16T12:26:42.658955Z",
     "iopub.status.idle": "2022-11-16T12:26:42.661346Z",
     "shell.execute_reply": "2022-11-16T12:26:42.660824Z"
    },
    "papermill": {
     "duration": 0.036668,
     "end_time": "2022-11-16T12:26:42.661443",
     "exception": false,
     "start_time": "2022-11-16T12:26:42.624775",
     "status": "completed"
    },
    "tags": []
   },
   "outputs": [],
   "source": [
    "#hide\n",
    "# g['date'] = g.date.dt.dayofyear"
   ]
  },
  {
   "cell_type": "code",
   "execution_count": 35,
   "id": "inside-dubai",
   "metadata": {
    "execution": {
     "iopub.execute_input": "2022-11-16T12:26:42.727122Z",
     "iopub.status.busy": "2022-11-16T12:26:42.726555Z",
     "iopub.status.idle": "2022-11-16T12:26:42.729037Z",
     "shell.execute_reply": "2022-11-16T12:26:42.728542Z"
    },
    "papermill": {
     "duration": 0.036623,
     "end_time": "2022-11-16T12:26:42.729134",
     "exception": false,
     "start_time": "2022-11-16T12:26:42.692511",
     "status": "completed"
    },
    "tags": []
   },
   "outputs": [],
   "source": [
    "#hide\n",
    "# g = g.rename(columns= {'continent':'group','country':'name','cases':'value'})"
   ]
  },
  {
   "cell_type": "code",
   "execution_count": 36,
   "id": "fleet-motorcycle",
   "metadata": {
    "execution": {
     "iopub.execute_input": "2022-11-16T12:26:42.794422Z",
     "iopub.status.busy": "2022-11-16T12:26:42.793869Z",
     "iopub.status.idle": "2022-11-16T12:26:42.796322Z",
     "shell.execute_reply": "2022-11-16T12:26:42.795883Z"
    },
    "papermill": {
     "duration": 0.036203,
     "end_time": "2022-11-16T12:26:42.796417",
     "exception": false,
     "start_time": "2022-11-16T12:26:42.760214",
     "status": "completed"
    },
    "tags": []
   },
   "outputs": [],
   "source": [
    "#hide\n",
    "# cols = ['name','group','day','value']"
   ]
  },
  {
   "cell_type": "code",
   "execution_count": 37,
   "id": "continued-sleeping",
   "metadata": {
    "execution": {
     "iopub.execute_input": "2022-11-16T12:26:42.861894Z",
     "iopub.status.busy": "2022-11-16T12:26:42.861330Z",
     "iopub.status.idle": "2022-11-16T12:26:42.863390Z",
     "shell.execute_reply": "2022-11-16T12:26:42.863789Z"
    },
    "papermill": {
     "duration": 0.036446,
     "end_time": "2022-11-16T12:26:42.863901",
     "exception": false,
     "start_time": "2022-11-16T12:26:42.827455",
     "status": "completed"
    },
    "tags": []
   },
   "outputs": [],
   "source": [
    "#hide\n",
    "# g.rename(columns= {'date':'day'},inplace = True)"
   ]
  },
  {
   "cell_type": "code",
   "execution_count": 38,
   "id": "major-fight",
   "metadata": {
    "execution": {
     "iopub.execute_input": "2022-11-16T12:26:42.929238Z",
     "iopub.status.busy": "2022-11-16T12:26:42.928685Z",
     "iopub.status.idle": "2022-11-16T12:26:42.932272Z",
     "shell.execute_reply": "2022-11-16T12:26:42.931798Z"
    },
    "papermill": {
     "duration": 0.037413,
     "end_time": "2022-11-16T12:26:42.932368",
     "exception": false,
     "start_time": "2022-11-16T12:26:42.894955",
     "status": "completed"
    },
    "tags": []
   },
   "outputs": [],
   "source": [
    "#hide\n",
    "# g = g[cols]"
   ]
  },
  {
   "cell_type": "code",
   "execution_count": 39,
   "id": "structured-mobile",
   "metadata": {
    "execution": {
     "iopub.execute_input": "2022-11-16T12:26:42.997522Z",
     "iopub.status.busy": "2022-11-16T12:26:42.996967Z",
     "iopub.status.idle": "2022-11-16T12:26:42.999341Z",
     "shell.execute_reply": "2022-11-16T12:26:42.998802Z"
    },
    "papermill": {
     "duration": 0.036156,
     "end_time": "2022-11-16T12:26:42.999436",
     "exception": false,
     "start_time": "2022-11-16T12:26:42.963280",
     "status": "completed"
    },
    "tags": []
   },
   "outputs": [],
   "source": [
    "# #hide\n",
    "# g = g[g.group.notna()]"
   ]
  },
  {
   "cell_type": "code",
   "execution_count": 40,
   "id": "determined-closing",
   "metadata": {
    "execution": {
     "iopub.execute_input": "2022-11-16T12:26:43.065909Z",
     "iopub.status.busy": "2022-11-16T12:26:43.065345Z",
     "iopub.status.idle": "2022-11-16T12:26:43.067495Z",
     "shell.execute_reply": "2022-11-16T12:26:43.066934Z"
    },
    "papermill": {
     "duration": 0.03695,
     "end_time": "2022-11-16T12:26:43.067595",
     "exception": false,
     "start_time": "2022-11-16T12:26:43.030645",
     "status": "completed"
    },
    "tags": []
   },
   "outputs": [],
   "source": [
    "# #hide\n",
    "# colors = dict(zip(\n",
    "#     [\"Oceania\", \"Europe\", \"Asia\", \"South America\", \"Middle East\", \"North America\", \"Africa\"],\n",
    "#     [\"#adb0ff\", \"#ffb3ff\", \"#90d595\", \"#e48381\", \"#aafbff\", \"#f7bb5f\", \"#eafb50\"]\n",
    "# ))\n",
    "# group_lk = g.set_index('name')['group'].to_dict()"
   ]
  },
  {
   "cell_type": "code",
   "execution_count": null,
   "id": "gross-drinking",
   "metadata": {
    "papermill": {
     "duration": 0.031175,
     "end_time": "2022-11-16T12:26:43.130013",
     "exception": false,
     "start_time": "2022-11-16T12:26:43.098838",
     "status": "completed"
    },
    "tags": []
   },
   "outputs": [],
   "source": []
  },
  {
   "cell_type": "code",
   "execution_count": 41,
   "id": "subject-macintosh",
   "metadata": {
    "execution": {
     "iopub.execute_input": "2022-11-16T12:26:43.196528Z",
     "iopub.status.busy": "2022-11-16T12:26:43.195946Z",
     "iopub.status.idle": "2022-11-16T12:26:43.198290Z",
     "shell.execute_reply": "2022-11-16T12:26:43.197758Z"
    },
    "papermill": {
     "duration": 0.037209,
     "end_time": "2022-11-16T12:26:43.198390",
     "exception": false,
     "start_time": "2022-11-16T12:26:43.161181",
     "status": "completed"
    },
    "tags": []
   },
   "outputs": [],
   "source": [
    "# #hide\n",
    "# fig, ax = plt.subplots(figsize=(15, 8))\n",
    "\n",
    "# def draw_barchart(current_day):\n",
    "#     dff = g[g['day'].eq(current_day)].sort_values(by='value', ascending=True).tail(10)\n",
    "#     ax.clear()\n",
    "#     ax.barh(dff['name'], dff['value'], color=[colors[group_lk[x]] for x in dff['name']])\n",
    "#     dx = dff['value'].max() / 200\n",
    "    \n",
    "#     for i, (value, name) in enumerate(zip(dff['value'], dff['name'])):\n",
    "#         ax.text(value-dx, i,     name,           size=14, weight=600, ha='right', va='bottom')\n",
    "#         ax.text(value-dx, i-.25, group_lk[name], size=10, color='#444444', ha='right', va='baseline')\n",
    "#         ax.text(value+dx, i,     f'{value:,.0f}',  size=14, ha='left',  va='center')\n",
    "#     ax.text(1, 0.4, current_day, transform=ax.transAxes, color='#777777', size=46, ha='right', weight=800)\n",
    "#     ax.text(0, 1.06, 'Population (thousands)', transform=ax.transAxes, size=12, color='#777777')\n",
    "#     ax.xaxis.set_major_formatter(ticker.StrMethodFormatter('{x:,.0f}'))\n",
    "#     ax.xaxis.set_ticks_position('top')\n",
    "#     ax.tick_params(axis='x', colors='#777777', labelsize=12)\n",
    "#     ax.set_yticks([])\n",
    "#     ax.margins(0, 0.01)\n",
    "#     ax.grid(which='major', axis='x', linestyle='-')\n",
    "#     ax.set_axisbelow(True)\n",
    "    \n",
    "#     ax.text(0, 1.15, 'Coronavirus',\n",
    "#             transform=ax.transAxes, size=24, weight=600, ha='left', va='top')\n",
    "# #     ax.text(1, 0, 'by @pratapvardhan; credit @jburnmurdoch', transform=ax.transAxes, color='#777777', ha='right',\n",
    "# #             bbox=dict(facecolor='white', alpha=0.8, edgecolor='white'))\n",
    "#     plt.box(False)"
   ]
  },
  {
   "cell_type": "code",
   "execution_count": 42,
   "id": "sexual-wages",
   "metadata": {
    "execution": {
     "iopub.execute_input": "2022-11-16T12:26:43.265243Z",
     "iopub.status.busy": "2022-11-16T12:26:43.264674Z",
     "iopub.status.idle": "2022-11-16T12:26:43.267052Z",
     "shell.execute_reply": "2022-11-16T12:26:43.266528Z"
    },
    "papermill": {
     "duration": 0.037462,
     "end_time": "2022-11-16T12:26:43.267149",
     "exception": false,
     "start_time": "2022-11-16T12:26:43.229687",
     "status": "completed"
    },
    "tags": []
   },
   "outputs": [],
   "source": [
    "# #hide_input\n",
    "# fig, ax = plt.subplots(figsize=(15, 8))\n",
    "# animator = animation.FuncAnimation(fig, draw_barchart, frames=range(g.day.values.min(), g.day.values.max()))\n",
    "# HTML(animator.to_jshtml())\n",
    "# # or use animator.to_html5_video() or animator.save() "
   ]
  },
  {
   "cell_type": "code",
   "execution_count": null,
   "id": "australian-container",
   "metadata": {
    "papermill": {
     "duration": 0.031085,
     "end_time": "2022-11-16T12:26:43.329607",
     "exception": false,
     "start_time": "2022-11-16T12:26:43.298522",
     "status": "completed"
    },
    "tags": []
   },
   "outputs": [],
   "source": []
  },
  {
   "cell_type": "code",
   "execution_count": null,
   "id": "mediterranean-pontiac",
   "metadata": {
    "papermill": {
     "duration": 0.031053,
     "end_time": "2022-11-16T12:26:43.391847",
     "exception": false,
     "start_time": "2022-11-16T12:26:43.360794",
     "status": "completed"
    },
    "tags": []
   },
   "outputs": [],
   "source": []
  },
  {
   "cell_type": "code",
   "execution_count": null,
   "id": "aging-legislature",
   "metadata": {
    "papermill": {
     "duration": 0.031088,
     "end_time": "2022-11-16T12:26:43.454248",
     "exception": false,
     "start_time": "2022-11-16T12:26:43.423160",
     "status": "completed"
    },
    "tags": []
   },
   "outputs": [],
   "source": []
  }
 ],
 "metadata": {
  "kernelspec": {
   "display_name": "Python 3",
   "language": "python",
   "name": "python3"
  },
  "language_info": {
   "codemirror_mode": {
    "name": "ipython",
    "version": 3
   },
   "file_extension": ".py",
   "mimetype": "text/x-python",
   "name": "python",
   "nbconvert_exporter": "python",
   "pygments_lexer": "ipython3",
   "version": "3.6.15"
  },
  "papermill": {
   "duration": 5.853827,
   "end_time": "2022-11-16T12:26:43.802772",
   "environment_variables": {},
   "exception": null,
   "input_path": "2020-03-21-covid19exp.ipynb",
   "output_path": "2020-03-21-covid19exp.ipynb",
   "parameters": {},
   "start_time": "2022-11-16T12:26:37.948945",
   "version": "2.0.0"
  }
 },
 "nbformat": 4,
 "nbformat_minor": 5
}