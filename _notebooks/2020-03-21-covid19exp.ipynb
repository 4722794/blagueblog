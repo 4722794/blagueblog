{
 "cells": [
  {
   "cell_type": "markdown",
   "id": "muslim-click",
   "metadata": {
    "papermill": {
     "duration": 0.033613,
     "end_time": "2021-11-28T12:11:29.832112",
     "exception": false,
     "start_time": "2021-11-28T12:11:29.798499",
     "status": "completed"
    },
    "tags": []
   },
   "source": [
    "# COVID-19 Case Race\n",
    "> A race chart to see rising cases around the world\n",
    "\n",
    "- author: Hargun Oberoi\n",
    "- image: images/covid-overview.png\n",
    "- hide: false\n",
    "- badges: false"
   ]
  },
  {
   "cell_type": "code",
   "execution_count": 1,
   "id": "proof-material",
   "metadata": {
    "execution": {
     "iopub.execute_input": "2021-11-28T12:11:29.900303Z",
     "iopub.status.busy": "2021-11-28T12:11:29.899721Z",
     "iopub.status.idle": "2021-11-28T12:11:30.242727Z",
     "shell.execute_reply": "2021-11-28T12:11:30.243167Z"
    },
    "papermill": {
     "duration": 0.37844,
     "end_time": "2021-11-28T12:11:30.243355",
     "exception": false,
     "start_time": "2021-11-28T12:11:29.864915",
     "status": "completed"
    },
    "tags": []
   },
   "outputs": [],
   "source": [
    "#hide\n",
    "import numpy as np\n",
    "import pandas as pd\n",
    "from jinja2 import Template\n",
    "from IPython.display import HTML"
   ]
  },
  {
   "cell_type": "code",
   "execution_count": 2,
   "id": "developed-terminology",
   "metadata": {
    "execution": {
     "iopub.execute_input": "2021-11-28T12:11:30.311616Z",
     "iopub.status.busy": "2021-11-28T12:11:30.311026Z",
     "iopub.status.idle": "2021-11-28T12:11:30.313344Z",
     "shell.execute_reply": "2021-11-28T12:11:30.312911Z"
    },
    "papermill": {
     "duration": 0.038579,
     "end_time": "2021-11-28T12:11:30.313445",
     "exception": false,
     "start_time": "2021-11-28T12:11:30.274866",
     "status": "completed"
    },
    "tags": []
   },
   "outputs": [],
   "source": [
    "#hide\n",
    "\n",
    "# FETCH\n",
    "base_url = 'https://raw.githubusercontent.com/pratapvardhan/notebooks/master/covid19/'\n",
    "paths = {\n",
    "    'mapping': base_url + 'mapping_countries.csv',\n",
    "    'overview': base_url + 'overview.tpl'\n",
    "}"
   ]
  },
  {
   "cell_type": "code",
   "execution_count": 3,
   "id": "dynamic-saver",
   "metadata": {
    "execution": {
     "iopub.execute_input": "2021-11-28T12:11:30.386482Z",
     "iopub.status.busy": "2021-11-28T12:11:30.384619Z",
     "iopub.status.idle": "2021-11-28T12:11:30.389423Z",
     "shell.execute_reply": "2021-11-28T12:11:30.389851Z"
    },
    "papermill": {
     "duration": 0.042869,
     "end_time": "2021-11-28T12:11:30.389963",
     "exception": false,
     "start_time": "2021-11-28T12:11:30.347094",
     "status": "completed"
    },
    "tags": []
   },
   "outputs": [
    {
     "data": {
      "text/plain": [
       "'https://raw.githubusercontent.com/pratapvardhan/notebooks/master/covid19/mapping_countries.csv'"
      ]
     },
     "execution_count": 3,
     "metadata": {},
     "output_type": "execute_result"
    }
   ],
   "source": [
    "#hide\n",
    "paths['mapping']"
   ]
  },
  {
   "cell_type": "code",
   "execution_count": 4,
   "id": "urban-software",
   "metadata": {
    "execution": {
     "iopub.execute_input": "2021-11-28T12:11:30.460165Z",
     "iopub.status.busy": "2021-11-28T12:11:30.459602Z",
     "iopub.status.idle": "2021-11-28T12:11:30.461957Z",
     "shell.execute_reply": "2021-11-28T12:11:30.462619Z"
    },
    "papermill": {
     "duration": 0.040338,
     "end_time": "2021-11-28T12:11:30.462773",
     "exception": false,
     "start_time": "2021-11-28T12:11:30.422435",
     "status": "completed"
    },
    "tags": []
   },
   "outputs": [],
   "source": [
    "#hide\n",
    "def get_mappings(url):\n",
    "    df = pd.read_csv(url)\n",
    "    return {\n",
    "        'df': df,\n",
    "        'replace.country': dict(df.dropna(subset=['Name']).set_index('Country')['Name']),\n",
    "        'map.continent': dict(df.set_index('Name')['Continent'])\n",
    "    }"
   ]
  },
  {
   "cell_type": "code",
   "execution_count": 5,
   "id": "intimate-machinery",
   "metadata": {
    "execution": {
     "iopub.execute_input": "2021-11-28T12:11:30.530387Z",
     "iopub.status.busy": "2021-11-28T12:11:30.529811Z",
     "iopub.status.idle": "2021-11-28T12:11:30.567085Z",
     "shell.execute_reply": "2021-11-28T12:11:30.567673Z"
    },
    "papermill": {
     "duration": 0.075206,
     "end_time": "2021-11-28T12:11:30.567824",
     "exception": false,
     "start_time": "2021-11-28T12:11:30.492618",
     "status": "completed"
    },
    "tags": []
   },
   "outputs": [],
   "source": [
    "#hide\n",
    "mapping = get_mappings(paths['mapping'])"
   ]
  },
  {
   "cell_type": "code",
   "execution_count": 6,
   "id": "certified-tactics",
   "metadata": {
    "execution": {
     "iopub.execute_input": "2021-11-28T12:11:30.634597Z",
     "iopub.status.busy": "2021-11-28T12:11:30.634020Z",
     "iopub.status.idle": "2021-11-28T12:11:30.636475Z",
     "shell.execute_reply": "2021-11-28T12:11:30.636036Z"
    },
    "papermill": {
     "duration": 0.037987,
     "end_time": "2021-11-28T12:11:30.636578",
     "exception": false,
     "start_time": "2021-11-28T12:11:30.598591",
     "status": "completed"
    },
    "tags": []
   },
   "outputs": [],
   "source": [
    "#hide\n",
    "def get_template(path):\n",
    "    from urllib.parse import urlparse\n",
    "    if bool(urlparse(path).netloc):\n",
    "        from urllib.request import urlopen\n",
    "        return urlopen(path).read().decode('utf8')\n",
    "    return open(path).read()"
   ]
  },
  {
   "cell_type": "code",
   "execution_count": 7,
   "id": "realistic-blast",
   "metadata": {
    "execution": {
     "iopub.execute_input": "2021-11-28T12:11:30.708467Z",
     "iopub.status.busy": "2021-11-28T12:11:30.707898Z",
     "iopub.status.idle": "2021-11-28T12:11:30.710538Z",
     "shell.execute_reply": "2021-11-28T12:11:30.710084Z"
    },
    "papermill": {
     "duration": 0.041524,
     "end_time": "2021-11-28T12:11:30.710647",
     "exception": false,
     "start_time": "2021-11-28T12:11:30.669123",
     "status": "completed"
    },
    "tags": []
   },
   "outputs": [],
   "source": [
    "#hide\n",
    "def get_frame(name):\n",
    "    url = (\n",
    "        'https://raw.githubusercontent.com/CSSEGISandData/COVID-19/master/csse_covid_19_data/'\n",
    "        f'csse_covid_19_time_series/time_series_covid19_{name}_global.csv')\n",
    "    df = pd.read_csv(url)\n",
    "    # rename countries\n",
    "    df['Country/Region'] = df['Country/Region'].replace(mapping['replace.country'])\n",
    "    return df"
   ]
  },
  {
   "cell_type": "code",
   "execution_count": 8,
   "id": "affiliated-characterization",
   "metadata": {
    "execution": {
     "iopub.execute_input": "2021-11-28T12:11:30.778622Z",
     "iopub.status.busy": "2021-11-28T12:11:30.778075Z",
     "iopub.status.idle": "2021-11-28T12:11:30.780354Z",
     "shell.execute_reply": "2021-11-28T12:11:30.779938Z"
    },
    "papermill": {
     "duration": 0.039156,
     "end_time": "2021-11-28T12:11:30.780455",
     "exception": false,
     "start_time": "2021-11-28T12:11:30.741299",
     "status": "completed"
    },
    "tags": []
   },
   "outputs": [],
   "source": [
    "#hide\n",
    "def get_dates(df):\n",
    "    dt_cols = df.columns[~df.columns.isin(['Province/State', 'Country/Region', 'Lat', 'Long'])]\n",
    "    LAST_DATE_I = -1\n",
    "    # sometimes last column may be empty, then go backwards\n",
    "    for i in range(-1, -len(dt_cols), -1):\n",
    "        if not df[dt_cols[i]].fillna(0).eq(0).all():\n",
    "            LAST_DATE_I = i\n",
    "            break\n",
    "    return LAST_DATE_I, dt_cols"
   ]
  },
  {
   "cell_type": "code",
   "execution_count": 9,
   "id": "recent-optimization",
   "metadata": {
    "execution": {
     "iopub.execute_input": "2021-11-28T12:11:30.846193Z",
     "iopub.status.busy": "2021-11-28T12:11:30.845577Z",
     "iopub.status.idle": "2021-11-28T12:11:31.247673Z",
     "shell.execute_reply": "2021-11-28T12:11:31.246614Z"
    },
    "papermill": {
     "duration": 0.436049,
     "end_time": "2021-11-28T12:11:31.247795",
     "exception": false,
     "start_time": "2021-11-28T12:11:30.811746",
     "status": "completed"
    },
    "tags": []
   },
   "outputs": [],
   "source": [
    "#hide\n",
    "COL_REGION = 'Country/Region'\n",
    "# Confirmed, Recovered, Deaths\n",
    "df = get_frame('confirmed')\n",
    "# dft_: timeseries, dfc_: today country agg\n",
    "dft_cases = df\n",
    "dft_deaths = get_frame('deaths')\n",
    "dft_recovered = get_frame('recovered')\n",
    "LAST_DATE_I, dt_cols = get_dates(df)"
   ]
  },
  {
   "cell_type": "code",
   "execution_count": 10,
   "id": "absolute-copper",
   "metadata": {
    "execution": {
     "iopub.execute_input": "2021-11-28T12:11:31.313982Z",
     "iopub.status.busy": "2021-11-28T12:11:31.313448Z",
     "iopub.status.idle": "2021-11-28T12:11:31.315453Z",
     "shell.execute_reply": "2021-11-28T12:11:31.315984Z"
    },
    "papermill": {
     "duration": 0.038154,
     "end_time": "2021-11-28T12:11:31.316137",
     "exception": false,
     "start_time": "2021-11-28T12:11:31.277983",
     "status": "completed"
    },
    "tags": []
   },
   "outputs": [],
   "source": [
    "#hide\n",
    "LAST_DATE_I, dt_cols = get_dates(df)\n",
    "dt_today =dt_cols[LAST_DATE_I]\n",
    "# dt_5day = dt_cols[LAST_DATE_I - 5]\n",
    "dt_yday = dt_cols[LAST_DATE_I - 1]"
   ]
  },
  {
   "cell_type": "code",
   "execution_count": 11,
   "id": "restricted-sheriff",
   "metadata": {
    "execution": {
     "iopub.execute_input": "2021-11-28T12:11:31.385653Z",
     "iopub.status.busy": "2021-11-28T12:11:31.383739Z",
     "iopub.status.idle": "2021-11-28T12:11:31.392871Z",
     "shell.execute_reply": "2021-11-28T12:11:31.392370Z"
    },
    "papermill": {
     "duration": 0.045165,
     "end_time": "2021-11-28T12:11:31.392972",
     "exception": false,
     "start_time": "2021-11-28T12:11:31.347807",
     "status": "completed"
    },
    "tags": []
   },
   "outputs": [],
   "source": [
    "#hide\n",
    "dfc_cases = dft_cases.groupby(COL_REGION)[dt_today].sum()\n",
    "dfc_deaths = dft_deaths.groupby(COL_REGION)[dt_today].sum()\n",
    "# dfp_cases = dft_cases.groupby(COL_REGION)[dt_5day].sum()\n",
    "# dfp_deaths = dft_deaths.groupby(COL_REGION)[dt_5day].sum()\n",
    "dfp_cases = dft_cases.groupby(COL_REGION)[dt_yday].sum()\n",
    "dfp_deaths = dft_deaths.groupby(COL_REGION)[dt_yday].sum()"
   ]
  },
  {
   "cell_type": "code",
   "execution_count": 12,
   "id": "deluxe-hepatitis",
   "metadata": {
    "execution": {
     "iopub.execute_input": "2021-11-28T12:11:31.457879Z",
     "iopub.status.busy": "2021-11-28T12:11:31.457352Z",
     "iopub.status.idle": "2021-11-28T12:11:31.462284Z",
     "shell.execute_reply": "2021-11-28T12:11:31.462783Z"
    },
    "papermill": {
     "duration": 0.039066,
     "end_time": "2021-11-28T12:11:31.462898",
     "exception": false,
     "start_time": "2021-11-28T12:11:31.423832",
     "status": "completed"
    },
    "tags": []
   },
   "outputs": [],
   "source": [
    "#hide\n",
    "df_table = (pd.DataFrame(dict(Cases = dfc_cases, Deaths = dfc_deaths, PCases = dfp_cases, PDeaths = dfp_deaths))\n",
    "            .sort_values(by = ['Cases','Deaths'], ascending = [False, False])\n",
    "            .reset_index())"
   ]
  },
  {
   "cell_type": "code",
   "execution_count": 13,
   "id": "educational-chancellor",
   "metadata": {
    "execution": {
     "iopub.execute_input": "2021-11-28T12:11:31.545715Z",
     "iopub.status.busy": "2021-11-28T12:11:31.545161Z",
     "iopub.status.idle": "2021-11-28T12:11:31.553540Z",
     "shell.execute_reply": "2021-11-28T12:11:31.553116Z"
    },
    "papermill": {
     "duration": 0.06084,
     "end_time": "2021-11-28T12:11:31.553645",
     "exception": false,
     "start_time": "2021-11-28T12:11:31.492805",
     "status": "completed"
    },
    "tags": []
   },
   "outputs": [
    {
     "data": {
      "text/html": [
       "<div>\n",
       "<style scoped>\n",
       "    .dataframe tbody tr th:only-of-type {\n",
       "        vertical-align: middle;\n",
       "    }\n",
       "\n",
       "    .dataframe tbody tr th {\n",
       "        vertical-align: top;\n",
       "    }\n",
       "\n",
       "    .dataframe thead th {\n",
       "        text-align: right;\n",
       "    }\n",
       "</style>\n",
       "<table border=\"1\" class=\"dataframe\">\n",
       "  <thead>\n",
       "    <tr style=\"text-align: right;\">\n",
       "      <th></th>\n",
       "      <th>Country/Region</th>\n",
       "      <th>Cases</th>\n",
       "      <th>Deaths</th>\n",
       "      <th>PCases</th>\n",
       "      <th>PDeaths</th>\n",
       "      <th>Cases (+)</th>\n",
       "      <th>Deaths (+)</th>\n",
       "      <th>Fatality Rate</th>\n",
       "      <th>Continent</th>\n",
       "    </tr>\n",
       "  </thead>\n",
       "  <tbody>\n",
       "    <tr>\n",
       "      <th>0</th>\n",
       "      <td>US</td>\n",
       "      <td>48202463</td>\n",
       "      <td>776536</td>\n",
       "      <td>48177907</td>\n",
       "      <td>776349</td>\n",
       "      <td>24556</td>\n",
       "      <td>187</td>\n",
       "      <td>1.61</td>\n",
       "      <td>North America</td>\n",
       "    </tr>\n",
       "    <tr>\n",
       "      <th>1</th>\n",
       "      <td>India</td>\n",
       "      <td>34572523</td>\n",
       "      <td>468554</td>\n",
       "      <td>34563749</td>\n",
       "      <td>467933</td>\n",
       "      <td>8774</td>\n",
       "      <td>621</td>\n",
       "      <td>1.36</td>\n",
       "      <td>Asia</td>\n",
       "    </tr>\n",
       "    <tr>\n",
       "      <th>2</th>\n",
       "      <td>Brazil</td>\n",
       "      <td>22076863</td>\n",
       "      <td>614186</td>\n",
       "      <td>22067630</td>\n",
       "      <td>613957</td>\n",
       "      <td>9233</td>\n",
       "      <td>229</td>\n",
       "      <td>2.78</td>\n",
       "      <td>South America</td>\n",
       "    </tr>\n",
       "    <tr>\n",
       "      <th>3</th>\n",
       "      <td>United Kingdom</td>\n",
       "      <td>10165779</td>\n",
       "      <td>145167</td>\n",
       "      <td>10125945</td>\n",
       "      <td>145036</td>\n",
       "      <td>39834</td>\n",
       "      <td>131</td>\n",
       "      <td>1.43</td>\n",
       "      <td>Europe</td>\n",
       "    </tr>\n",
       "    <tr>\n",
       "      <th>4</th>\n",
       "      <td>Russia</td>\n",
       "      <td>9370694</td>\n",
       "      <td>266337</td>\n",
       "      <td>9337575</td>\n",
       "      <td>265134</td>\n",
       "      <td>33119</td>\n",
       "      <td>1203</td>\n",
       "      <td>2.84</td>\n",
       "      <td>Europe</td>\n",
       "    </tr>\n",
       "  </tbody>\n",
       "</table>\n",
       "</div>"
      ],
      "text/plain": [
       "   Country/Region     Cases  Deaths    PCases  PDeaths  Cases (+)  Deaths (+)  \\\n",
       "0              US  48202463  776536  48177907   776349      24556         187   \n",
       "1           India  34572523  468554  34563749   467933       8774         621   \n",
       "2          Brazil  22076863  614186  22067630   613957       9233         229   \n",
       "3  United Kingdom  10165779  145167  10125945   145036      39834         131   \n",
       "4          Russia   9370694  266337   9337575   265134      33119        1203   \n",
       "\n",
       "   Fatality Rate      Continent  \n",
       "0           1.61  North America  \n",
       "1           1.36           Asia  \n",
       "2           2.78  South America  \n",
       "3           1.43         Europe  \n",
       "4           2.84         Europe  "
      ]
     },
     "execution_count": 13,
     "metadata": {},
     "output_type": "execute_result"
    }
   ],
   "source": [
    "#hide\n",
    "for c in 'Cases, Deaths'.split(', '):\n",
    "    df_table[f'{c} (+)'] = (df_table[c] - df_table[f'P{c}']).clip(0)\n",
    "    #Clip ça veut dire, les chiffres negatif sont interdit\n",
    "df_table['Fatality Rate'] = (100* df_table['Deaths']/ df_table['Cases']).round(2)\n",
    "df_table['Continent'] = df_table['Country/Region'].map(mapping['map.continent'])\n",
    "df_table.head(5)"
   ]
  },
  {
   "cell_type": "code",
   "execution_count": 14,
   "id": "aboriginal-bulgaria",
   "metadata": {
    "execution": {
     "iopub.execute_input": "2021-11-28T12:11:31.619162Z",
     "iopub.status.busy": "2021-11-28T12:11:31.618641Z",
     "iopub.status.idle": "2021-11-28T12:11:31.621221Z",
     "shell.execute_reply": "2021-11-28T12:11:31.621792Z"
    },
    "papermill": {
     "duration": 0.037404,
     "end_time": "2021-11-28T12:11:31.621907",
     "exception": false,
     "start_time": "2021-11-28T12:11:31.584503",
     "status": "completed"
    },
    "tags": []
   },
   "outputs": [],
   "source": [
    "#hide\n",
    "#delete problematic countries from table\n",
    "df_table = df_table[~df_table['Country/Region'].isin(['Cape Verde', 'Cruise Ship', 'Kosovo'])]"
   ]
  },
  {
   "cell_type": "code",
   "execution_count": 15,
   "id": "fantastic-effect",
   "metadata": {
    "execution": {
     "iopub.execute_input": "2021-11-28T12:11:31.690063Z",
     "iopub.status.busy": "2021-11-28T12:11:31.689515Z",
     "iopub.status.idle": "2021-11-28T12:11:31.710048Z",
     "shell.execute_reply": "2021-11-28T12:11:31.709544Z"
    },
    "papermill": {
     "duration": 0.057851,
     "end_time": "2021-11-28T12:11:31.710193",
     "exception": false,
     "start_time": "2021-11-28T12:11:31.652342",
     "status": "completed"
    },
    "tags": []
   },
   "outputs": [
    {
     "data": {
      "text/html": [
       "<div>\n",
       "<style scoped>\n",
       "    .dataframe tbody tr th:only-of-type {\n",
       "        vertical-align: middle;\n",
       "    }\n",
       "\n",
       "    .dataframe tbody tr th {\n",
       "        vertical-align: top;\n",
       "    }\n",
       "\n",
       "    .dataframe thead th {\n",
       "        text-align: right;\n",
       "    }\n",
       "</style>\n",
       "<table border=\"1\" class=\"dataframe\">\n",
       "  <thead>\n",
       "    <tr style=\"text-align: right;\">\n",
       "      <th></th>\n",
       "      <th>Country/Region</th>\n",
       "      <th>Cases</th>\n",
       "      <th>Deaths</th>\n",
       "      <th>PCases</th>\n",
       "      <th>PDeaths</th>\n",
       "      <th>Cases (+)</th>\n",
       "      <th>Deaths (+)</th>\n",
       "      <th>Fatality Rate</th>\n",
       "      <th>Continent</th>\n",
       "    </tr>\n",
       "  </thead>\n",
       "  <tbody>\n",
       "    <tr>\n",
       "      <th>0</th>\n",
       "      <td>US</td>\n",
       "      <td>48202463</td>\n",
       "      <td>776536</td>\n",
       "      <td>48177907</td>\n",
       "      <td>776349</td>\n",
       "      <td>24556</td>\n",
       "      <td>187</td>\n",
       "      <td>1.6</td>\n",
       "      <td>North America</td>\n",
       "    </tr>\n",
       "    <tr>\n",
       "      <th>1</th>\n",
       "      <td>India</td>\n",
       "      <td>34572523</td>\n",
       "      <td>468554</td>\n",
       "      <td>34563749</td>\n",
       "      <td>467933</td>\n",
       "      <td>8774</td>\n",
       "      <td>621</td>\n",
       "      <td>1.4</td>\n",
       "      <td>Asia</td>\n",
       "    </tr>\n",
       "    <tr>\n",
       "      <th>2</th>\n",
       "      <td>Brazil</td>\n",
       "      <td>22076863</td>\n",
       "      <td>614186</td>\n",
       "      <td>22067630</td>\n",
       "      <td>613957</td>\n",
       "      <td>9233</td>\n",
       "      <td>229</td>\n",
       "      <td>2.8</td>\n",
       "      <td>South America</td>\n",
       "    </tr>\n",
       "    <tr>\n",
       "      <th>3</th>\n",
       "      <td>United Kingdom</td>\n",
       "      <td>10165779</td>\n",
       "      <td>145167</td>\n",
       "      <td>10125945</td>\n",
       "      <td>145036</td>\n",
       "      <td>39834</td>\n",
       "      <td>131</td>\n",
       "      <td>1.4</td>\n",
       "      <td>Europe</td>\n",
       "    </tr>\n",
       "    <tr>\n",
       "      <th>4</th>\n",
       "      <td>Russia</td>\n",
       "      <td>9370694</td>\n",
       "      <td>266337</td>\n",
       "      <td>9337575</td>\n",
       "      <td>265134</td>\n",
       "      <td>33119</td>\n",
       "      <td>1203</td>\n",
       "      <td>2.8</td>\n",
       "      <td>Europe</td>\n",
       "    </tr>\n",
       "  </tbody>\n",
       "</table>\n",
       "</div>"
      ],
      "text/plain": [
       "   Country/Region     Cases  Deaths    PCases  PDeaths  Cases (+)  Deaths (+)  \\\n",
       "0              US  48202463  776536  48177907   776349      24556         187   \n",
       "1           India  34572523  468554  34563749   467933       8774         621   \n",
       "2          Brazil  22076863  614186  22067630   613957       9233         229   \n",
       "3  United Kingdom  10165779  145167  10125945   145036      39834         131   \n",
       "4          Russia   9370694  266337   9337575   265134      33119        1203   \n",
       "\n",
       "   Fatality Rate      Continent  \n",
       "0            1.6  North America  \n",
       "1            1.4           Asia  \n",
       "2            2.8  South America  \n",
       "3            1.4         Europe  \n",
       "4            2.8         Europe  "
      ]
     },
     "execution_count": 15,
     "metadata": {},
     "output_type": "execute_result"
    }
   ],
   "source": [
    "#hide\n",
    "df_table = (pd.DataFrame(dict(Cases=dfc_cases, Deaths=dfc_deaths, PCases=dfp_cases, PDeaths=dfp_deaths))\n",
    "             .sort_values(by=['Cases', 'Deaths'], ascending=[False, False])\n",
    "             .reset_index())\n",
    "df_table.rename(columns={'index': 'Country/Region'}, inplace=True)\n",
    "for c in 'Cases, Deaths'.split(', '):\n",
    "    df_table[f'{c} (+)'] = (df_table[c] - df_table[f'P{c}']).clip(0)  # DATA BUG\n",
    "df_table['Fatality Rate'] = (100 * df_table['Deaths'] / df_table['Cases']).round(1)\n",
    "df_table['Continent'] = df_table['Country/Region'].map(mapping['map.continent'])\n",
    "df_table.head(5)"
   ]
  },
  {
   "cell_type": "code",
   "execution_count": 16,
   "id": "fewer-occasion",
   "metadata": {
    "execution": {
     "iopub.execute_input": "2021-11-28T12:11:31.782386Z",
     "iopub.status.busy": "2021-11-28T12:11:31.781834Z",
     "iopub.status.idle": "2021-11-28T12:11:31.785744Z",
     "shell.execute_reply": "2021-11-28T12:11:31.785243Z"
    },
    "papermill": {
     "duration": 0.041871,
     "end_time": "2021-11-28T12:11:31.785851",
     "exception": false,
     "start_time": "2021-11-28T12:11:31.743980",
     "status": "completed"
    },
    "tags": []
   },
   "outputs": [],
   "source": [
    "#hide\n",
    "#delete problematic countries from table\n",
    "df_table = df_table[~df_table['Country/Region'].isin(['Cape Verde', 'Cruise Ship', 'Kosovo'])]"
   ]
  },
  {
   "cell_type": "code",
   "execution_count": 17,
   "id": "related-center",
   "metadata": {
    "execution": {
     "iopub.execute_input": "2021-11-28T12:11:31.861639Z",
     "iopub.status.busy": "2021-11-28T12:11:31.861013Z",
     "iopub.status.idle": "2021-11-28T12:11:31.876045Z",
     "shell.execute_reply": "2021-11-28T12:11:31.875588Z"
    },
    "papermill": {
     "duration": 0.05624,
     "end_time": "2021-11-28T12:11:31.876147",
     "exception": false,
     "start_time": "2021-11-28T12:11:31.819907",
     "status": "completed"
    },
    "tags": []
   },
   "outputs": [],
   "source": [
    "#hide\n",
    "metrics = [df_table.columns[index] for index in [1,2,5,6]]\n",
    "# s_china = df_table[df_table['Country/Region'].eq('China')][metrics].sum().add_prefix('China ')\n",
    "s_us = df_table[df_table['Country/Region'].eq('US')][metrics].sum().add_prefix('US ')\n",
    "s_eu = df_table[df_table['Continent'].eq('Europe')][metrics].sum().add_prefix('EU ')\n",
    "s_ind = df_table[df_table['Country/Region'].eq('India')][metrics].sum().add_prefix('India ')\n",
    "summary = {'updated': pd.to_datetime(dt_today), 'since': pd.to_datetime(dt_yday)}\n",
    "summary = {'updated': pd.to_datetime(dt_today), 'since': pd.to_datetime(dt_yday)}\n",
    "summary = {**summary, **df_table[metrics].sum(), **s_ind, **s_us, **s_eu}"
   ]
  },
  {
   "cell_type": "code",
   "execution_count": 18,
   "id": "engaging-syndrome",
   "metadata": {
    "execution": {
     "iopub.execute_input": "2021-11-28T12:11:31.941854Z",
     "iopub.status.busy": "2021-11-28T12:11:31.941329Z",
     "iopub.status.idle": "2021-11-28T12:11:31.955902Z",
     "shell.execute_reply": "2021-11-28T12:11:31.955452Z"
    },
    "papermill": {
     "duration": 0.049917,
     "end_time": "2021-11-28T12:11:31.956004",
     "exception": false,
     "start_time": "2021-11-28T12:11:31.906087",
     "status": "completed"
    },
    "tags": []
   },
   "outputs": [],
   "source": [
    "#hide\n",
    "dft_ct_new_cases = dft_cases.groupby(COL_REGION)[dt_cols].sum().diff(axis=1).fillna(0).astype(int)"
   ]
  },
  {
   "cell_type": "code",
   "execution_count": 19,
   "id": "neutral-assignment",
   "metadata": {
    "execution": {
     "iopub.execute_input": "2021-11-28T12:11:32.026027Z",
     "iopub.status.busy": "2021-11-28T12:11:32.025487Z",
     "iopub.status.idle": "2021-11-28T12:11:32.027351Z",
     "shell.execute_reply": "2021-11-28T12:11:32.027814Z"
    },
    "papermill": {
     "duration": 0.039482,
     "end_time": "2021-11-28T12:11:32.027959",
     "exception": false,
     "start_time": "2021-11-28T12:11:31.988477",
     "status": "completed"
    },
    "tags": []
   },
   "outputs": [],
   "source": [
    "#hide\n",
    "everydaycases = dft_ct_new_cases.cumsum(axis=1)"
   ]
  },
  {
   "cell_type": "code",
   "execution_count": 20,
   "id": "parliamentary-calgary",
   "metadata": {
    "execution": {
     "iopub.execute_input": "2021-11-28T12:11:32.095910Z",
     "iopub.status.busy": "2021-11-28T12:11:32.095305Z",
     "iopub.status.idle": "2021-11-28T12:11:32.736161Z",
     "shell.execute_reply": "2021-11-28T12:11:32.736760Z"
    },
    "papermill": {
     "duration": 0.677188,
     "end_time": "2021-11-28T12:11:32.736917",
     "exception": false,
     "start_time": "2021-11-28T12:11:32.059729",
     "status": "completed"
    },
    "tags": []
   },
   "outputs": [],
   "source": [
    "#hide\n",
    "import pandas as pd\n",
    "import matplotlib.pyplot as plt\n",
    "import matplotlib.ticker as ticker\n",
    "import matplotlib.animation as animation\n",
    "from IPython.display import HTML"
   ]
  },
  {
   "cell_type": "code",
   "execution_count": 21,
   "id": "lasting-extraction",
   "metadata": {
    "execution": {
     "iopub.execute_input": "2021-11-28T12:11:32.807906Z",
     "iopub.status.busy": "2021-11-28T12:11:32.807279Z",
     "iopub.status.idle": "2021-11-28T12:11:32.813113Z",
     "shell.execute_reply": "2021-11-28T12:11:32.813826Z"
    },
    "papermill": {
     "duration": 0.044247,
     "end_time": "2021-11-28T12:11:32.813965",
     "exception": false,
     "start_time": "2021-11-28T12:11:32.769718",
     "status": "completed"
    },
    "tags": []
   },
   "outputs": [],
   "source": [
    "#hide\n",
    "t = everydaycases.stack()"
   ]
  },
  {
   "cell_type": "code",
   "execution_count": 22,
   "id": "premier-sleeve",
   "metadata": {
    "execution": {
     "iopub.execute_input": "2021-11-28T12:11:32.887821Z",
     "iopub.status.busy": "2021-11-28T12:11:32.887268Z",
     "iopub.status.idle": "2021-11-28T12:11:32.897557Z",
     "shell.execute_reply": "2021-11-28T12:11:32.898063Z"
    },
    "papermill": {
     "duration": 0.04972,
     "end_time": "2021-11-28T12:11:32.898206",
     "exception": false,
     "start_time": "2021-11-28T12:11:32.848486",
     "status": "completed"
    },
    "tags": []
   },
   "outputs": [],
   "source": [
    "#hide\n",
    "g = t.reset_index(['Country/Region'])"
   ]
  },
  {
   "cell_type": "code",
   "execution_count": 23,
   "id": "distributed-pittsburgh",
   "metadata": {
    "execution": {
     "iopub.execute_input": "2021-11-28T12:11:32.965777Z",
     "iopub.status.busy": "2021-11-28T12:11:32.965261Z",
     "iopub.status.idle": "2021-11-28T12:11:32.967714Z",
     "shell.execute_reply": "2021-11-28T12:11:32.967240Z"
    },
    "papermill": {
     "duration": 0.037862,
     "end_time": "2021-11-28T12:11:32.967826",
     "exception": false,
     "start_time": "2021-11-28T12:11:32.929964",
     "status": "completed"
    },
    "tags": []
   },
   "outputs": [],
   "source": [
    "#hide\n",
    "g.index.name = 'date'"
   ]
  },
  {
   "cell_type": "code",
   "execution_count": 24,
   "id": "naked-donor",
   "metadata": {
    "execution": {
     "iopub.execute_input": "2021-11-28T12:11:33.032423Z",
     "iopub.status.busy": "2021-11-28T12:11:33.031669Z",
     "iopub.status.idle": "2021-11-28T12:11:33.034734Z",
     "shell.execute_reply": "2021-11-28T12:11:33.034292Z"
    },
    "papermill": {
     "duration": 0.035995,
     "end_time": "2021-11-28T12:11:33.034835",
     "exception": false,
     "start_time": "2021-11-28T12:11:32.998840",
     "status": "completed"
    },
    "tags": []
   },
   "outputs": [],
   "source": [
    "# #hide\n",
    "# g = g.reset_index(['date'])"
   ]
  },
  {
   "cell_type": "code",
   "execution_count": 25,
   "id": "incomplete-mustang",
   "metadata": {
    "execution": {
     "iopub.execute_input": "2021-11-28T12:11:33.109646Z",
     "iopub.status.busy": "2021-11-28T12:11:33.109050Z",
     "iopub.status.idle": "2021-11-28T12:11:33.113333Z",
     "shell.execute_reply": "2021-11-28T12:11:33.113825Z"
    },
    "papermill": {
     "duration": 0.04174,
     "end_time": "2021-11-28T12:11:33.113989",
     "exception": false,
     "start_time": "2021-11-28T12:11:33.072249",
     "status": "completed"
    },
    "tags": []
   },
   "outputs": [],
   "source": [
    "#hide\n",
    "# g.head()"
   ]
  },
  {
   "cell_type": "code",
   "execution_count": 26,
   "id": "specific-kruger",
   "metadata": {
    "execution": {
     "iopub.execute_input": "2021-11-28T12:11:33.184284Z",
     "iopub.status.busy": "2021-11-28T12:11:33.183727Z",
     "iopub.status.idle": "2021-11-28T12:11:33.185801Z",
     "shell.execute_reply": "2021-11-28T12:11:33.185191Z"
    },
    "papermill": {
     "duration": 0.03796,
     "end_time": "2021-11-28T12:11:33.185919",
     "exception": false,
     "start_time": "2021-11-28T12:11:33.147959",
     "status": "completed"
    },
    "tags": []
   },
   "outputs": [],
   "source": [
    "#hide\n",
    "# g.columns = ['date','country','cases']"
   ]
  },
  {
   "cell_type": "code",
   "execution_count": 27,
   "id": "tender-conversion",
   "metadata": {
    "execution": {
     "iopub.execute_input": "2021-11-28T12:11:33.251196Z",
     "iopub.status.busy": "2021-11-28T12:11:33.250647Z",
     "iopub.status.idle": "2021-11-28T12:11:33.255131Z",
     "shell.execute_reply": "2021-11-28T12:11:33.254513Z"
    },
    "papermill": {
     "duration": 0.038811,
     "end_time": "2021-11-28T12:11:33.255283",
     "exception": false,
     "start_time": "2021-11-28T12:11:33.216472",
     "status": "completed"
    },
    "tags": []
   },
   "outputs": [],
   "source": [
    "#hide\n",
    "# g['continent'] = g.country"
   ]
  },
  {
   "cell_type": "code",
   "execution_count": 28,
   "id": "substantial-wilderness",
   "metadata": {
    "execution": {
     "iopub.execute_input": "2021-11-28T12:11:33.323227Z",
     "iopub.status.busy": "2021-11-28T12:11:33.322631Z",
     "iopub.status.idle": "2021-11-28T12:11:33.324846Z",
     "shell.execute_reply": "2021-11-28T12:11:33.324045Z"
    },
    "papermill": {
     "duration": 0.0368,
     "end_time": "2021-11-28T12:11:33.324946",
     "exception": false,
     "start_time": "2021-11-28T12:11:33.288146",
     "status": "completed"
    },
    "tags": []
   },
   "outputs": [],
   "source": [
    "#hide\n",
    "# cols = list(g.columns.values)"
   ]
  },
  {
   "cell_type": "code",
   "execution_count": 29,
   "id": "solved-farming",
   "metadata": {
    "execution": {
     "iopub.execute_input": "2021-11-28T12:11:33.390949Z",
     "iopub.status.busy": "2021-11-28T12:11:33.390421Z",
     "iopub.status.idle": "2021-11-28T12:11:33.392276Z",
     "shell.execute_reply": "2021-11-28T12:11:33.391759Z"
    },
    "papermill": {
     "duration": 0.035805,
     "end_time": "2021-11-28T12:11:33.392395",
     "exception": false,
     "start_time": "2021-11-28T12:11:33.356590",
     "status": "completed"
    },
    "tags": []
   },
   "outputs": [],
   "source": [
    "#hide\n",
    "# cols.insert(0, cols.pop())"
   ]
  },
  {
   "cell_type": "code",
   "execution_count": 30,
   "id": "executed-adoption",
   "metadata": {
    "execution": {
     "iopub.execute_input": "2021-11-28T12:11:33.462858Z",
     "iopub.status.busy": "2021-11-28T12:11:33.462338Z",
     "iopub.status.idle": "2021-11-28T12:11:33.465073Z",
     "shell.execute_reply": "2021-11-28T12:11:33.464518Z"
    },
    "papermill": {
     "duration": 0.041063,
     "end_time": "2021-11-28T12:11:33.465207",
     "exception": false,
     "start_time": "2021-11-28T12:11:33.424144",
     "status": "completed"
    },
    "tags": []
   },
   "outputs": [],
   "source": [
    "#hide\n",
    "# g = g[cols]"
   ]
  },
  {
   "cell_type": "code",
   "execution_count": 31,
   "id": "subject-dublin",
   "metadata": {
    "execution": {
     "iopub.execute_input": "2021-11-28T12:11:33.530710Z",
     "iopub.status.busy": "2021-11-28T12:11:33.530190Z",
     "iopub.status.idle": "2021-11-28T12:11:33.532980Z",
     "shell.execute_reply": "2021-11-28T12:11:33.532542Z"
    },
    "papermill": {
     "duration": 0.037375,
     "end_time": "2021-11-28T12:11:33.533145",
     "exception": false,
     "start_time": "2021-11-28T12:11:33.495770",
     "status": "completed"
    },
    "tags": []
   },
   "outputs": [],
   "source": [
    "#hide\n",
    "# g['continent'] = g['continent'].map(mapping['map.continent'])"
   ]
  },
  {
   "cell_type": "code",
   "execution_count": 32,
   "id": "freelance-scout",
   "metadata": {
    "execution": {
     "iopub.execute_input": "2021-11-28T12:11:33.600176Z",
     "iopub.status.busy": "2021-11-28T12:11:33.599626Z",
     "iopub.status.idle": "2021-11-28T12:11:33.602055Z",
     "shell.execute_reply": "2021-11-28T12:11:33.601620Z"
    },
    "papermill": {
     "duration": 0.038019,
     "end_time": "2021-11-28T12:11:33.602154",
     "exception": false,
     "start_time": "2021-11-28T12:11:33.564135",
     "status": "completed"
    },
    "tags": []
   },
   "outputs": [],
   "source": [
    "#hide\n",
    "# g.head()"
   ]
  },
  {
   "cell_type": "code",
   "execution_count": 33,
   "id": "limited-engine",
   "metadata": {
    "execution": {
     "iopub.execute_input": "2021-11-28T12:11:33.670722Z",
     "iopub.status.busy": "2021-11-28T12:11:33.670148Z",
     "iopub.status.idle": "2021-11-28T12:11:33.673302Z",
     "shell.execute_reply": "2021-11-28T12:11:33.672819Z"
    },
    "papermill": {
     "duration": 0.039865,
     "end_time": "2021-11-28T12:11:33.673411",
     "exception": false,
     "start_time": "2021-11-28T12:11:33.633546",
     "status": "completed"
    },
    "tags": []
   },
   "outputs": [],
   "source": [
    "# hide\n",
    "# g['date'] = g['date'].astype('datetime64[ns]')"
   ]
  },
  {
   "cell_type": "code",
   "execution_count": 34,
   "id": "sophisticated-supervisor",
   "metadata": {
    "execution": {
     "iopub.execute_input": "2021-11-28T12:11:33.743941Z",
     "iopub.status.busy": "2021-11-28T12:11:33.743384Z",
     "iopub.status.idle": "2021-11-28T12:11:33.745810Z",
     "shell.execute_reply": "2021-11-28T12:11:33.745378Z"
    },
    "papermill": {
     "duration": 0.03821,
     "end_time": "2021-11-28T12:11:33.745918",
     "exception": false,
     "start_time": "2021-11-28T12:11:33.707708",
     "status": "completed"
    },
    "tags": []
   },
   "outputs": [],
   "source": [
    "#hide\n",
    "# g['date'] = g.date.dt.dayofyear"
   ]
  },
  {
   "cell_type": "code",
   "execution_count": 35,
   "id": "inside-dubai",
   "metadata": {
    "execution": {
     "iopub.execute_input": "2021-11-28T12:11:33.815129Z",
     "iopub.status.busy": "2021-11-28T12:11:33.814576Z",
     "iopub.status.idle": "2021-11-28T12:11:33.816865Z",
     "shell.execute_reply": "2021-11-28T12:11:33.816278Z"
    },
    "papermill": {
     "duration": 0.036578,
     "end_time": "2021-11-28T12:11:33.816970",
     "exception": false,
     "start_time": "2021-11-28T12:11:33.780392",
     "status": "completed"
    },
    "tags": []
   },
   "outputs": [],
   "source": [
    "#hide\n",
    "# g = g.rename(columns= {'continent':'group','country':'name','cases':'value'})"
   ]
  },
  {
   "cell_type": "code",
   "execution_count": 36,
   "id": "fleet-motorcycle",
   "metadata": {
    "execution": {
     "iopub.execute_input": "2021-11-28T12:11:33.887626Z",
     "iopub.status.busy": "2021-11-28T12:11:33.887040Z",
     "iopub.status.idle": "2021-11-28T12:11:33.889388Z",
     "shell.execute_reply": "2021-11-28T12:11:33.888926Z"
    },
    "papermill": {
     "duration": 0.038725,
     "end_time": "2021-11-28T12:11:33.889496",
     "exception": false,
     "start_time": "2021-11-28T12:11:33.850771",
     "status": "completed"
    },
    "tags": []
   },
   "outputs": [],
   "source": [
    "#hide\n",
    "# cols = ['name','group','day','value']"
   ]
  },
  {
   "cell_type": "code",
   "execution_count": 37,
   "id": "continued-sleeping",
   "metadata": {
    "execution": {
     "iopub.execute_input": "2021-11-28T12:11:33.967071Z",
     "iopub.status.busy": "2021-11-28T12:11:33.966553Z",
     "iopub.status.idle": "2021-11-28T12:11:33.968669Z",
     "shell.execute_reply": "2021-11-28T12:11:33.969097Z"
    },
    "papermill": {
     "duration": 0.040239,
     "end_time": "2021-11-28T12:11:33.969213",
     "exception": false,
     "start_time": "2021-11-28T12:11:33.928974",
     "status": "completed"
    },
    "tags": []
   },
   "outputs": [],
   "source": [
    "#hide\n",
    "# g.rename(columns= {'date':'day'},inplace = True)"
   ]
  },
  {
   "cell_type": "code",
   "execution_count": 38,
   "id": "major-fight",
   "metadata": {
    "execution": {
     "iopub.execute_input": "2021-11-28T12:11:34.035304Z",
     "iopub.status.busy": "2021-11-28T12:11:34.034766Z",
     "iopub.status.idle": "2021-11-28T12:11:34.038081Z",
     "shell.execute_reply": "2021-11-28T12:11:34.038535Z"
    },
    "papermill": {
     "duration": 0.037938,
     "end_time": "2021-11-28T12:11:34.038655",
     "exception": false,
     "start_time": "2021-11-28T12:11:34.000717",
     "status": "completed"
    },
    "tags": []
   },
   "outputs": [],
   "source": [
    "#hide\n",
    "# g = g[cols]"
   ]
  },
  {
   "cell_type": "code",
   "execution_count": 39,
   "id": "structured-mobile",
   "metadata": {
    "execution": {
     "iopub.execute_input": "2021-11-28T12:11:34.153051Z",
     "iopub.status.busy": "2021-11-28T12:11:34.152506Z",
     "iopub.status.idle": "2021-11-28T12:11:34.154782Z",
     "shell.execute_reply": "2021-11-28T12:11:34.155236Z"
    },
    "papermill": {
     "duration": 0.071195,
     "end_time": "2021-11-28T12:11:34.155355",
     "exception": false,
     "start_time": "2021-11-28T12:11:34.084160",
     "status": "completed"
    },
    "tags": []
   },
   "outputs": [],
   "source": [
    "# #hide\n",
    "# g = g[g.group.notna()]"
   ]
  },
  {
   "cell_type": "code",
   "execution_count": 40,
   "id": "determined-closing",
   "metadata": {
    "execution": {
     "iopub.execute_input": "2021-11-28T12:11:34.221156Z",
     "iopub.status.busy": "2021-11-28T12:11:34.220599Z",
     "iopub.status.idle": "2021-11-28T12:11:34.224239Z",
     "shell.execute_reply": "2021-11-28T12:11:34.223822Z"
    },
    "papermill": {
     "duration": 0.03729,
     "end_time": "2021-11-28T12:11:34.224361",
     "exception": false,
     "start_time": "2021-11-28T12:11:34.187071",
     "status": "completed"
    },
    "tags": []
   },
   "outputs": [],
   "source": [
    "# #hide\n",
    "# colors = dict(zip(\n",
    "#     [\"Oceania\", \"Europe\", \"Asia\", \"South America\", \"Middle East\", \"North America\", \"Africa\"],\n",
    "#     [\"#adb0ff\", \"#ffb3ff\", \"#90d595\", \"#e48381\", \"#aafbff\", \"#f7bb5f\", \"#eafb50\"]\n",
    "# ))\n",
    "# group_lk = g.set_index('name')['group'].to_dict()"
   ]
  },
  {
   "cell_type": "code",
   "execution_count": null,
   "id": "gross-drinking",
   "metadata": {
    "papermill": {
     "duration": 0.030712,
     "end_time": "2021-11-28T12:11:34.287093",
     "exception": false,
     "start_time": "2021-11-28T12:11:34.256381",
     "status": "completed"
    },
    "tags": []
   },
   "outputs": [],
   "source": []
  },
  {
   "cell_type": "code",
   "execution_count": 41,
   "id": "subject-macintosh",
   "metadata": {
    "execution": {
     "iopub.execute_input": "2021-11-28T12:11:34.353363Z",
     "iopub.status.busy": "2021-11-28T12:11:34.352818Z",
     "iopub.status.idle": "2021-11-28T12:11:34.354584Z",
     "shell.execute_reply": "2021-11-28T12:11:34.354989Z"
    },
    "papermill": {
     "duration": 0.03735,
     "end_time": "2021-11-28T12:11:34.355114",
     "exception": false,
     "start_time": "2021-11-28T12:11:34.317764",
     "status": "completed"
    },
    "tags": []
   },
   "outputs": [],
   "source": [
    "# #hide\n",
    "# fig, ax = plt.subplots(figsize=(15, 8))\n",
    "\n",
    "# def draw_barchart(current_day):\n",
    "#     dff = g[g['day'].eq(current_day)].sort_values(by='value', ascending=True).tail(10)\n",
    "#     ax.clear()\n",
    "#     ax.barh(dff['name'], dff['value'], color=[colors[group_lk[x]] for x in dff['name']])\n",
    "#     dx = dff['value'].max() / 200\n",
    "    \n",
    "#     for i, (value, name) in enumerate(zip(dff['value'], dff['name'])):\n",
    "#         ax.text(value-dx, i,     name,           size=14, weight=600, ha='right', va='bottom')\n",
    "#         ax.text(value-dx, i-.25, group_lk[name], size=10, color='#444444', ha='right', va='baseline')\n",
    "#         ax.text(value+dx, i,     f'{value:,.0f}',  size=14, ha='left',  va='center')\n",
    "#     ax.text(1, 0.4, current_day, transform=ax.transAxes, color='#777777', size=46, ha='right', weight=800)\n",
    "#     ax.text(0, 1.06, 'Population (thousands)', transform=ax.transAxes, size=12, color='#777777')\n",
    "#     ax.xaxis.set_major_formatter(ticker.StrMethodFormatter('{x:,.0f}'))\n",
    "#     ax.xaxis.set_ticks_position('top')\n",
    "#     ax.tick_params(axis='x', colors='#777777', labelsize=12)\n",
    "#     ax.set_yticks([])\n",
    "#     ax.margins(0, 0.01)\n",
    "#     ax.grid(which='major', axis='x', linestyle='-')\n",
    "#     ax.set_axisbelow(True)\n",
    "    \n",
    "#     ax.text(0, 1.15, 'Coronavirus',\n",
    "#             transform=ax.transAxes, size=24, weight=600, ha='left', va='top')\n",
    "# #     ax.text(1, 0, 'by @pratapvardhan; credit @jburnmurdoch', transform=ax.transAxes, color='#777777', ha='right',\n",
    "# #             bbox=dict(facecolor='white', alpha=0.8, edgecolor='white'))\n",
    "#     plt.box(False)"
   ]
  },
  {
   "cell_type": "code",
   "execution_count": 42,
   "id": "sexual-wages",
   "metadata": {
    "execution": {
     "iopub.execute_input": "2021-11-28T12:11:34.421565Z",
     "iopub.status.busy": "2021-11-28T12:11:34.420987Z",
     "iopub.status.idle": "2021-11-28T12:11:34.423383Z",
     "shell.execute_reply": "2021-11-28T12:11:34.422932Z"
    },
    "papermill": {
     "duration": 0.036782,
     "end_time": "2021-11-28T12:11:34.423491",
     "exception": false,
     "start_time": "2021-11-28T12:11:34.386709",
     "status": "completed"
    },
    "tags": []
   },
   "outputs": [],
   "source": [
    "# #hide_input\n",
    "# fig, ax = plt.subplots(figsize=(15, 8))\n",
    "# animator = animation.FuncAnimation(fig, draw_barchart, frames=range(g.day.values.min(), g.day.values.max()))\n",
    "# HTML(animator.to_jshtml())\n",
    "# # or use animator.to_html5_video() or animator.save() "
   ]
  },
  {
   "cell_type": "code",
   "execution_count": null,
   "id": "australian-container",
   "metadata": {
    "papermill": {
     "duration": 0.030015,
     "end_time": "2021-11-28T12:11:34.485619",
     "exception": false,
     "start_time": "2021-11-28T12:11:34.455604",
     "status": "completed"
    },
    "tags": []
   },
   "outputs": [],
   "source": []
  },
  {
   "cell_type": "code",
   "execution_count": null,
   "id": "mediterranean-pontiac",
   "metadata": {
    "papermill": {
     "duration": 0.029815,
     "end_time": "2021-11-28T12:11:34.545939",
     "exception": false,
     "start_time": "2021-11-28T12:11:34.516124",
     "status": "completed"
    },
    "tags": []
   },
   "outputs": [],
   "source": []
  },
  {
   "cell_type": "code",
   "execution_count": null,
   "id": "aging-legislature",
   "metadata": {
    "papermill": {
     "duration": 0.03102,
     "end_time": "2021-11-28T12:11:34.609136",
     "exception": false,
     "start_time": "2021-11-28T12:11:34.578116",
     "status": "completed"
    },
    "tags": []
   },
   "outputs": [],
   "source": []
  }
 ],
 "metadata": {
  "kernelspec": {
   "display_name": "Python 3",
   "language": "python",
   "name": "python3"
  },
  "language_info": {
   "codemirror_mode": {
    "name": "ipython",
    "version": 3
   },
   "file_extension": ".py",
   "mimetype": "text/x-python",
   "name": "python",
   "nbconvert_exporter": "python",
   "pygments_lexer": "ipython3",
   "version": "3.6.15"
  },
  "papermill": {
   "duration": 6.410668,
   "end_time": "2021-11-28T12:11:34.946943",
   "environment_variables": {},
   "exception": null,
   "input_path": "2020-03-21-covid19exp.ipynb",
   "output_path": "2020-03-21-covid19exp.ipynb",
   "parameters": {},
   "start_time": "2021-11-28T12:11:28.536275",
   "version": "2.0.0"
  }
 },
 "nbformat": 4,
 "nbformat_minor": 5
}