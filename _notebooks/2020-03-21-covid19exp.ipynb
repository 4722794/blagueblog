{
 "cells": [
  {
   "cell_type": "markdown",
   "id": "muslim-click",
   "metadata": {
    "papermill": {
     "duration": 0.040972,
     "end_time": "2022-03-13T12:13:46.618076",
     "exception": false,
     "start_time": "2022-03-13T12:13:46.577104",
     "status": "completed"
    },
    "tags": []
   },
   "source": [
    "# COVID-19 Case Race\n",
    "> A race chart to see rising cases around the world\n",
    "\n",
    "- author: Hargun Oberoi\n",
    "- image: images/covid-overview.png\n",
    "- hide: false\n",
    "- badges: false"
   ]
  },
  {
   "cell_type": "code",
   "execution_count": 1,
   "id": "proof-material",
   "metadata": {
    "execution": {
     "iopub.execute_input": "2022-03-13T12:13:46.695395Z",
     "iopub.status.busy": "2022-03-13T12:13:46.694719Z",
     "iopub.status.idle": "2022-03-13T12:13:47.056824Z",
     "shell.execute_reply": "2022-03-13T12:13:47.056302Z"
    },
    "papermill": {
     "duration": 0.405368,
     "end_time": "2022-03-13T12:13:47.056956",
     "exception": false,
     "start_time": "2022-03-13T12:13:46.651588",
     "status": "completed"
    },
    "tags": []
   },
   "outputs": [],
   "source": [
    "#hide\n",
    "import numpy as np\n",
    "import pandas as pd\n",
    "from jinja2 import Template\n",
    "from IPython.display import HTML"
   ]
  },
  {
   "cell_type": "code",
   "execution_count": 2,
   "id": "developed-terminology",
   "metadata": {
    "execution": {
     "iopub.execute_input": "2022-03-13T12:13:47.126136Z",
     "iopub.status.busy": "2022-03-13T12:13:47.124784Z",
     "iopub.status.idle": "2022-03-13T12:13:47.126817Z",
     "shell.execute_reply": "2022-03-13T12:13:47.127339Z"
    },
    "papermill": {
     "duration": 0.040465,
     "end_time": "2022-03-13T12:13:47.127487",
     "exception": false,
     "start_time": "2022-03-13T12:13:47.087022",
     "status": "completed"
    },
    "tags": []
   },
   "outputs": [],
   "source": [
    "#hide\n",
    "\n",
    "# FETCH\n",
    "base_url = 'https://raw.githubusercontent.com/pratapvardhan/notebooks/master/covid19/'\n",
    "paths = {\n",
    "    'mapping': base_url + 'mapping_countries.csv',\n",
    "    'overview': base_url + 'overview.tpl'\n",
    "}"
   ]
  },
  {
   "cell_type": "code",
   "execution_count": 3,
   "id": "dynamic-saver",
   "metadata": {
    "execution": {
     "iopub.execute_input": "2022-03-13T12:13:47.201666Z",
     "iopub.status.busy": "2022-03-13T12:13:47.200675Z",
     "iopub.status.idle": "2022-03-13T12:13:47.203514Z",
     "shell.execute_reply": "2022-03-13T12:13:47.203981Z"
    },
    "papermill": {
     "duration": 0.045601,
     "end_time": "2022-03-13T12:13:47.204124",
     "exception": false,
     "start_time": "2022-03-13T12:13:47.158523",
     "status": "completed"
    },
    "tags": []
   },
   "outputs": [
    {
     "data": {
      "text/plain": [
       "'https://raw.githubusercontent.com/pratapvardhan/notebooks/master/covid19/mapping_countries.csv'"
      ]
     },
     "execution_count": 3,
     "metadata": {},
     "output_type": "execute_result"
    }
   ],
   "source": [
    "#hide\n",
    "paths['mapping']"
   ]
  },
  {
   "cell_type": "code",
   "execution_count": 4,
   "id": "urban-software",
   "metadata": {
    "execution": {
     "iopub.execute_input": "2022-03-13T12:13:47.275353Z",
     "iopub.status.busy": "2022-03-13T12:13:47.274747Z",
     "iopub.status.idle": "2022-03-13T12:13:47.277401Z",
     "shell.execute_reply": "2022-03-13T12:13:47.276918Z"
    },
    "papermill": {
     "duration": 0.041721,
     "end_time": "2022-03-13T12:13:47.277530",
     "exception": false,
     "start_time": "2022-03-13T12:13:47.235809",
     "status": "completed"
    },
    "tags": []
   },
   "outputs": [],
   "source": [
    "#hide\n",
    "def get_mappings(url):\n",
    "    df = pd.read_csv(url)\n",
    "    return {\n",
    "        'df': df,\n",
    "        'replace.country': dict(df.dropna(subset=['Name']).set_index('Country')['Name']),\n",
    "        'map.continent': dict(df.set_index('Name')['Continent'])\n",
    "    }"
   ]
  },
  {
   "cell_type": "code",
   "execution_count": 5,
   "id": "intimate-machinery",
   "metadata": {
    "execution": {
     "iopub.execute_input": "2022-03-13T12:13:47.344643Z",
     "iopub.status.busy": "2022-03-13T12:13:47.344144Z",
     "iopub.status.idle": "2022-03-13T12:13:47.371469Z",
     "shell.execute_reply": "2022-03-13T12:13:47.370779Z"
    },
    "papermill": {
     "duration": 0.063848,
     "end_time": "2022-03-13T12:13:47.371634",
     "exception": false,
     "start_time": "2022-03-13T12:13:47.307786",
     "status": "completed"
    },
    "tags": []
   },
   "outputs": [],
   "source": [
    "#hide\n",
    "mapping = get_mappings(paths['mapping'])"
   ]
  },
  {
   "cell_type": "code",
   "execution_count": 6,
   "id": "certified-tactics",
   "metadata": {
    "execution": {
     "iopub.execute_input": "2022-03-13T12:13:47.437667Z",
     "iopub.status.busy": "2022-03-13T12:13:47.437133Z",
     "iopub.status.idle": "2022-03-13T12:13:47.440950Z",
     "shell.execute_reply": "2022-03-13T12:13:47.440458Z"
    },
    "papermill": {
     "duration": 0.039551,
     "end_time": "2022-03-13T12:13:47.441078",
     "exception": false,
     "start_time": "2022-03-13T12:13:47.401527",
     "status": "completed"
    },
    "tags": []
   },
   "outputs": [],
   "source": [
    "#hide\n",
    "def get_template(path):\n",
    "    from urllib.parse import urlparse\n",
    "    if bool(urlparse(path).netloc):\n",
    "        from urllib.request import urlopen\n",
    "        return urlopen(path).read().decode('utf8')\n",
    "    return open(path).read()"
   ]
  },
  {
   "cell_type": "code",
   "execution_count": 7,
   "id": "realistic-blast",
   "metadata": {
    "execution": {
     "iopub.execute_input": "2022-03-13T12:13:47.509962Z",
     "iopub.status.busy": "2022-03-13T12:13:47.509402Z",
     "iopub.status.idle": "2022-03-13T12:13:47.511273Z",
     "shell.execute_reply": "2022-03-13T12:13:47.511731Z"
    },
    "papermill": {
     "duration": 0.039849,
     "end_time": "2022-03-13T12:13:47.511884",
     "exception": false,
     "start_time": "2022-03-13T12:13:47.472035",
     "status": "completed"
    },
    "tags": []
   },
   "outputs": [],
   "source": [
    "#hide\n",
    "def get_frame(name):\n",
    "    url = (\n",
    "        'https://raw.githubusercontent.com/CSSEGISandData/COVID-19/master/csse_covid_19_data/'\n",
    "        f'csse_covid_19_time_series/time_series_covid19_{name}_global.csv')\n",
    "    df = pd.read_csv(url)\n",
    "    # rename countries\n",
    "    df['Country/Region'] = df['Country/Region'].replace(mapping['replace.country'])\n",
    "    return df"
   ]
  },
  {
   "cell_type": "code",
   "execution_count": 8,
   "id": "affiliated-characterization",
   "metadata": {
    "execution": {
     "iopub.execute_input": "2022-03-13T12:13:47.579453Z",
     "iopub.status.busy": "2022-03-13T12:13:47.578934Z",
     "iopub.status.idle": "2022-03-13T12:13:47.580850Z",
     "shell.execute_reply": "2022-03-13T12:13:47.581320Z"
    },
    "papermill": {
     "duration": 0.039214,
     "end_time": "2022-03-13T12:13:47.581441",
     "exception": false,
     "start_time": "2022-03-13T12:13:47.542227",
     "status": "completed"
    },
    "tags": []
   },
   "outputs": [],
   "source": [
    "#hide\n",
    "def get_dates(df):\n",
    "    dt_cols = df.columns[~df.columns.isin(['Province/State', 'Country/Region', 'Lat', 'Long'])]\n",
    "    LAST_DATE_I = -1\n",
    "    # sometimes last column may be empty, then go backwards\n",
    "    for i in range(-1, -len(dt_cols), -1):\n",
    "        if not df[dt_cols[i]].fillna(0).eq(0).all():\n",
    "            LAST_DATE_I = i\n",
    "            break\n",
    "    return LAST_DATE_I, dt_cols"
   ]
  },
  {
   "cell_type": "code",
   "execution_count": 9,
   "id": "recent-optimization",
   "metadata": {
    "execution": {
     "iopub.execute_input": "2022-03-13T12:13:47.645191Z",
     "iopub.status.busy": "2022-03-13T12:13:47.644668Z",
     "iopub.status.idle": "2022-03-13T12:13:47.981816Z",
     "shell.execute_reply": "2022-03-13T12:13:47.980912Z"
    },
    "papermill": {
     "duration": 0.372572,
     "end_time": "2022-03-13T12:13:47.982042",
     "exception": false,
     "start_time": "2022-03-13T12:13:47.609470",
     "status": "completed"
    },
    "tags": []
   },
   "outputs": [],
   "source": [
    "#hide\n",
    "COL_REGION = 'Country/Region'\n",
    "# Confirmed, Recovered, Deaths\n",
    "df = get_frame('confirmed')\n",
    "# dft_: timeseries, dfc_: today country agg\n",
    "dft_cases = df\n",
    "dft_deaths = get_frame('deaths')\n",
    "dft_recovered = get_frame('recovered')\n",
    "LAST_DATE_I, dt_cols = get_dates(df)"
   ]
  },
  {
   "cell_type": "code",
   "execution_count": 10,
   "id": "absolute-copper",
   "metadata": {
    "execution": {
     "iopub.execute_input": "2022-03-13T12:13:48.055713Z",
     "iopub.status.busy": "2022-03-13T12:13:48.055096Z",
     "iopub.status.idle": "2022-03-13T12:13:48.056466Z",
     "shell.execute_reply": "2022-03-13T12:13:48.057024Z"
    },
    "papermill": {
     "duration": 0.041686,
     "end_time": "2022-03-13T12:13:48.057175",
     "exception": false,
     "start_time": "2022-03-13T12:13:48.015489",
     "status": "completed"
    },
    "tags": []
   },
   "outputs": [],
   "source": [
    "#hide\n",
    "LAST_DATE_I, dt_cols = get_dates(df)\n",
    "dt_today =dt_cols[LAST_DATE_I]\n",
    "# dt_5day = dt_cols[LAST_DATE_I - 5]\n",
    "dt_yday = dt_cols[LAST_DATE_I - 1]"
   ]
  },
  {
   "cell_type": "code",
   "execution_count": 11,
   "id": "restricted-sheriff",
   "metadata": {
    "execution": {
     "iopub.execute_input": "2022-03-13T12:13:48.132437Z",
     "iopub.status.busy": "2022-03-13T12:13:48.131067Z",
     "iopub.status.idle": "2022-03-13T12:13:48.138183Z",
     "shell.execute_reply": "2022-03-13T12:13:48.137672Z"
    },
    "papermill": {
     "duration": 0.048173,
     "end_time": "2022-03-13T12:13:48.138304",
     "exception": false,
     "start_time": "2022-03-13T12:13:48.090131",
     "status": "completed"
    },
    "tags": []
   },
   "outputs": [],
   "source": [
    "#hide\n",
    "dfc_cases = dft_cases.groupby(COL_REGION)[dt_today].sum()\n",
    "dfc_deaths = dft_deaths.groupby(COL_REGION)[dt_today].sum()\n",
    "# dfp_cases = dft_cases.groupby(COL_REGION)[dt_5day].sum()\n",
    "# dfp_deaths = dft_deaths.groupby(COL_REGION)[dt_5day].sum()\n",
    "dfp_cases = dft_cases.groupby(COL_REGION)[dt_yday].sum()\n",
    "dfp_deaths = dft_deaths.groupby(COL_REGION)[dt_yday].sum()"
   ]
  },
  {
   "cell_type": "code",
   "execution_count": 12,
   "id": "deluxe-hepatitis",
   "metadata": {
    "execution": {
     "iopub.execute_input": "2022-03-13T12:13:48.208741Z",
     "iopub.status.busy": "2022-03-13T12:13:48.206461Z",
     "iopub.status.idle": "2022-03-13T12:13:48.211590Z",
     "shell.execute_reply": "2022-03-13T12:13:48.210768Z"
    },
    "papermill": {
     "duration": 0.041242,
     "end_time": "2022-03-13T12:13:48.211719",
     "exception": false,
     "start_time": "2022-03-13T12:13:48.170477",
     "status": "completed"
    },
    "tags": []
   },
   "outputs": [],
   "source": [
    "#hide\n",
    "df_table = (pd.DataFrame(dict(Cases = dfc_cases, Deaths = dfc_deaths, PCases = dfp_cases, PDeaths = dfp_deaths))\n",
    "            .sort_values(by = ['Cases','Deaths'], ascending = [False, False])\n",
    "            .reset_index())"
   ]
  },
  {
   "cell_type": "code",
   "execution_count": 13,
   "id": "educational-chancellor",
   "metadata": {
    "execution": {
     "iopub.execute_input": "2022-03-13T12:13:48.300269Z",
     "iopub.status.busy": "2022-03-13T12:13:48.299551Z",
     "iopub.status.idle": "2022-03-13T12:13:48.308567Z",
     "shell.execute_reply": "2022-03-13T12:13:48.309069Z"
    },
    "papermill": {
     "duration": 0.066142,
     "end_time": "2022-03-13T12:13:48.309219",
     "exception": false,
     "start_time": "2022-03-13T12:13:48.243077",
     "status": "completed"
    },
    "tags": []
   },
   "outputs": [
    {
     "data": {
      "text/html": [
       "<div>\n",
       "<style scoped>\n",
       "    .dataframe tbody tr th:only-of-type {\n",
       "        vertical-align: middle;\n",
       "    }\n",
       "\n",
       "    .dataframe tbody tr th {\n",
       "        vertical-align: top;\n",
       "    }\n",
       "\n",
       "    .dataframe thead th {\n",
       "        text-align: right;\n",
       "    }\n",
       "</style>\n",
       "<table border=\"1\" class=\"dataframe\">\n",
       "  <thead>\n",
       "    <tr style=\"text-align: right;\">\n",
       "      <th></th>\n",
       "      <th>Country/Region</th>\n",
       "      <th>Cases</th>\n",
       "      <th>Deaths</th>\n",
       "      <th>PCases</th>\n",
       "      <th>PDeaths</th>\n",
       "      <th>Cases (+)</th>\n",
       "      <th>Deaths (+)</th>\n",
       "      <th>Fatality Rate</th>\n",
       "      <th>Continent</th>\n",
       "    </tr>\n",
       "  </thead>\n",
       "  <tbody>\n",
       "    <tr>\n",
       "      <th>0</th>\n",
       "      <td>US</td>\n",
       "      <td>79517492</td>\n",
       "      <td>967552</td>\n",
       "      <td>79507030</td>\n",
       "      <td>967165</td>\n",
       "      <td>10462</td>\n",
       "      <td>387</td>\n",
       "      <td>1.22</td>\n",
       "      <td>North America</td>\n",
       "    </tr>\n",
       "    <tr>\n",
       "      <th>1</th>\n",
       "      <td>India</td>\n",
       "      <td>42990991</td>\n",
       "      <td>515850</td>\n",
       "      <td>42987875</td>\n",
       "      <td>515803</td>\n",
       "      <td>3116</td>\n",
       "      <td>47</td>\n",
       "      <td>1.20</td>\n",
       "      <td>Asia</td>\n",
       "    </tr>\n",
       "    <tr>\n",
       "      <th>2</th>\n",
       "      <td>Brazil</td>\n",
       "      <td>29361024</td>\n",
       "      <td>655234</td>\n",
       "      <td>29313228</td>\n",
       "      <td>654843</td>\n",
       "      <td>47796</td>\n",
       "      <td>391</td>\n",
       "      <td>2.23</td>\n",
       "      <td>South America</td>\n",
       "    </tr>\n",
       "    <tr>\n",
       "      <th>3</th>\n",
       "      <td>France</td>\n",
       "      <td>23565274</td>\n",
       "      <td>141054</td>\n",
       "      <td>23565274</td>\n",
       "      <td>141054</td>\n",
       "      <td>0</td>\n",
       "      <td>0</td>\n",
       "      <td>0.60</td>\n",
       "      <td>Europe</td>\n",
       "    </tr>\n",
       "    <tr>\n",
       "      <th>4</th>\n",
       "      <td>United Kingdom</td>\n",
       "      <td>19673347</td>\n",
       "      <td>163317</td>\n",
       "      <td>19673347</td>\n",
       "      <td>163317</td>\n",
       "      <td>0</td>\n",
       "      <td>0</td>\n",
       "      <td>0.83</td>\n",
       "      <td>Europe</td>\n",
       "    </tr>\n",
       "  </tbody>\n",
       "</table>\n",
       "</div>"
      ],
      "text/plain": [
       "   Country/Region     Cases  Deaths    PCases  PDeaths  Cases (+)  Deaths (+)  \\\n",
       "0              US  79517492  967552  79507030   967165      10462         387   \n",
       "1           India  42990991  515850  42987875   515803       3116          47   \n",
       "2          Brazil  29361024  655234  29313228   654843      47796         391   \n",
       "3          France  23565274  141054  23565274   141054          0           0   \n",
       "4  United Kingdom  19673347  163317  19673347   163317          0           0   \n",
       "\n",
       "   Fatality Rate      Continent  \n",
       "0           1.22  North America  \n",
       "1           1.20           Asia  \n",
       "2           2.23  South America  \n",
       "3           0.60         Europe  \n",
       "4           0.83         Europe  "
      ]
     },
     "execution_count": 13,
     "metadata": {},
     "output_type": "execute_result"
    }
   ],
   "source": [
    "#hide\n",
    "for c in 'Cases, Deaths'.split(', '):\n",
    "    df_table[f'{c} (+)'] = (df_table[c] - df_table[f'P{c}']).clip(0)\n",
    "    #Clip ça veut dire, les chiffres negatif sont interdit\n",
    "df_table['Fatality Rate'] = (100* df_table['Deaths']/ df_table['Cases']).round(2)\n",
    "df_table['Continent'] = df_table['Country/Region'].map(mapping['map.continent'])\n",
    "df_table.head(5)"
   ]
  },
  {
   "cell_type": "code",
   "execution_count": 14,
   "id": "aboriginal-bulgaria",
   "metadata": {
    "execution": {
     "iopub.execute_input": "2022-03-13T12:13:48.382038Z",
     "iopub.status.busy": "2022-03-13T12:13:48.381476Z",
     "iopub.status.idle": "2022-03-13T12:13:48.383615Z",
     "shell.execute_reply": "2022-03-13T12:13:48.384098Z"
    },
    "papermill": {
     "duration": 0.042208,
     "end_time": "2022-03-13T12:13:48.384250",
     "exception": false,
     "start_time": "2022-03-13T12:13:48.342042",
     "status": "completed"
    },
    "tags": []
   },
   "outputs": [],
   "source": [
    "#hide\n",
    "#delete problematic countries from table\n",
    "df_table = df_table[~df_table['Country/Region'].isin(['Cape Verde', 'Cruise Ship', 'Kosovo'])]"
   ]
  },
  {
   "cell_type": "code",
   "execution_count": 15,
   "id": "fantastic-effect",
   "metadata": {
    "execution": {
     "iopub.execute_input": "2022-03-13T12:13:48.454704Z",
     "iopub.status.busy": "2022-03-13T12:13:48.454086Z",
     "iopub.status.idle": "2022-03-13T12:13:48.473284Z",
     "shell.execute_reply": "2022-03-13T12:13:48.473879Z"
    },
    "papermill": {
     "duration": 0.059426,
     "end_time": "2022-03-13T12:13:48.474067",
     "exception": false,
     "start_time": "2022-03-13T12:13:48.414641",
     "status": "completed"
    },
    "tags": []
   },
   "outputs": [
    {
     "data": {
      "text/html": [
       "<div>\n",
       "<style scoped>\n",
       "    .dataframe tbody tr th:only-of-type {\n",
       "        vertical-align: middle;\n",
       "    }\n",
       "\n",
       "    .dataframe tbody tr th {\n",
       "        vertical-align: top;\n",
       "    }\n",
       "\n",
       "    .dataframe thead th {\n",
       "        text-align: right;\n",
       "    }\n",
       "</style>\n",
       "<table border=\"1\" class=\"dataframe\">\n",
       "  <thead>\n",
       "    <tr style=\"text-align: right;\">\n",
       "      <th></th>\n",
       "      <th>Country/Region</th>\n",
       "      <th>Cases</th>\n",
       "      <th>Deaths</th>\n",
       "      <th>PCases</th>\n",
       "      <th>PDeaths</th>\n",
       "      <th>Cases (+)</th>\n",
       "      <th>Deaths (+)</th>\n",
       "      <th>Fatality Rate</th>\n",
       "      <th>Continent</th>\n",
       "    </tr>\n",
       "  </thead>\n",
       "  <tbody>\n",
       "    <tr>\n",
       "      <th>0</th>\n",
       "      <td>US</td>\n",
       "      <td>79517492</td>\n",
       "      <td>967552</td>\n",
       "      <td>79507030</td>\n",
       "      <td>967165</td>\n",
       "      <td>10462</td>\n",
       "      <td>387</td>\n",
       "      <td>1.2</td>\n",
       "      <td>North America</td>\n",
       "    </tr>\n",
       "    <tr>\n",
       "      <th>1</th>\n",
       "      <td>India</td>\n",
       "      <td>42990991</td>\n",
       "      <td>515850</td>\n",
       "      <td>42987875</td>\n",
       "      <td>515803</td>\n",
       "      <td>3116</td>\n",
       "      <td>47</td>\n",
       "      <td>1.2</td>\n",
       "      <td>Asia</td>\n",
       "    </tr>\n",
       "    <tr>\n",
       "      <th>2</th>\n",
       "      <td>Brazil</td>\n",
       "      <td>29361024</td>\n",
       "      <td>655234</td>\n",
       "      <td>29313228</td>\n",
       "      <td>654843</td>\n",
       "      <td>47796</td>\n",
       "      <td>391</td>\n",
       "      <td>2.2</td>\n",
       "      <td>South America</td>\n",
       "    </tr>\n",
       "    <tr>\n",
       "      <th>3</th>\n",
       "      <td>France</td>\n",
       "      <td>23565274</td>\n",
       "      <td>141054</td>\n",
       "      <td>23565274</td>\n",
       "      <td>141054</td>\n",
       "      <td>0</td>\n",
       "      <td>0</td>\n",
       "      <td>0.6</td>\n",
       "      <td>Europe</td>\n",
       "    </tr>\n",
       "    <tr>\n",
       "      <th>4</th>\n",
       "      <td>United Kingdom</td>\n",
       "      <td>19673347</td>\n",
       "      <td>163317</td>\n",
       "      <td>19673347</td>\n",
       "      <td>163317</td>\n",
       "      <td>0</td>\n",
       "      <td>0</td>\n",
       "      <td>0.8</td>\n",
       "      <td>Europe</td>\n",
       "    </tr>\n",
       "  </tbody>\n",
       "</table>\n",
       "</div>"
      ],
      "text/plain": [
       "   Country/Region     Cases  Deaths    PCases  PDeaths  Cases (+)  Deaths (+)  \\\n",
       "0              US  79517492  967552  79507030   967165      10462         387   \n",
       "1           India  42990991  515850  42987875   515803       3116          47   \n",
       "2          Brazil  29361024  655234  29313228   654843      47796         391   \n",
       "3          France  23565274  141054  23565274   141054          0           0   \n",
       "4  United Kingdom  19673347  163317  19673347   163317          0           0   \n",
       "\n",
       "   Fatality Rate      Continent  \n",
       "0            1.2  North America  \n",
       "1            1.2           Asia  \n",
       "2            2.2  South America  \n",
       "3            0.6         Europe  \n",
       "4            0.8         Europe  "
      ]
     },
     "execution_count": 15,
     "metadata": {},
     "output_type": "execute_result"
    }
   ],
   "source": [
    "#hide\n",
    "df_table = (pd.DataFrame(dict(Cases=dfc_cases, Deaths=dfc_deaths, PCases=dfp_cases, PDeaths=dfp_deaths))\n",
    "             .sort_values(by=['Cases', 'Deaths'], ascending=[False, False])\n",
    "             .reset_index())\n",
    "df_table.rename(columns={'index': 'Country/Region'}, inplace=True)\n",
    "for c in 'Cases, Deaths'.split(', '):\n",
    "    df_table[f'{c} (+)'] = (df_table[c] - df_table[f'P{c}']).clip(0)  # DATA BUG\n",
    "df_table['Fatality Rate'] = (100 * df_table['Deaths'] / df_table['Cases']).round(1)\n",
    "df_table['Continent'] = df_table['Country/Region'].map(mapping['map.continent'])\n",
    "df_table.head(5)"
   ]
  },
  {
   "cell_type": "code",
   "execution_count": 16,
   "id": "fewer-occasion",
   "metadata": {
    "execution": {
     "iopub.execute_input": "2022-03-13T12:13:48.550675Z",
     "iopub.status.busy": "2022-03-13T12:13:48.550141Z",
     "iopub.status.idle": "2022-03-13T12:13:48.553273Z",
     "shell.execute_reply": "2022-03-13T12:13:48.553640Z"
    },
    "papermill": {
     "duration": 0.044482,
     "end_time": "2022-03-13T12:13:48.553772",
     "exception": false,
     "start_time": "2022-03-13T12:13:48.509290",
     "status": "completed"
    },
    "tags": []
   },
   "outputs": [],
   "source": [
    "#hide\n",
    "#delete problematic countries from table\n",
    "df_table = df_table[~df_table['Country/Region'].isin(['Cape Verde', 'Cruise Ship', 'Kosovo'])]"
   ]
  },
  {
   "cell_type": "code",
   "execution_count": 17,
   "id": "related-center",
   "metadata": {
    "execution": {
     "iopub.execute_input": "2022-03-13T12:13:48.637565Z",
     "iopub.status.busy": "2022-03-13T12:13:48.636659Z",
     "iopub.status.idle": "2022-03-13T12:13:48.638486Z",
     "shell.execute_reply": "2022-03-13T12:13:48.639239Z"
    },
    "papermill": {
     "duration": 0.053206,
     "end_time": "2022-03-13T12:13:48.639489",
     "exception": false,
     "start_time": "2022-03-13T12:13:48.586283",
     "status": "completed"
    },
    "tags": []
   },
   "outputs": [],
   "source": [
    "#hide\n",
    "metrics = [df_table.columns[index] for index in [1,2,5,6]]\n",
    "# s_china = df_table[df_table['Country/Region'].eq('China')][metrics].sum().add_prefix('China ')\n",
    "s_us = df_table[df_table['Country/Region'].eq('US')][metrics].sum().add_prefix('US ')\n",
    "s_eu = df_table[df_table['Continent'].eq('Europe')][metrics].sum().add_prefix('EU ')\n",
    "s_ind = df_table[df_table['Country/Region'].eq('India')][metrics].sum().add_prefix('India ')\n",
    "summary = {'updated': pd.to_datetime(dt_today), 'since': pd.to_datetime(dt_yday)}\n",
    "summary = {'updated': pd.to_datetime(dt_today), 'since': pd.to_datetime(dt_yday)}\n",
    "summary = {**summary, **df_table[metrics].sum(), **s_ind, **s_us, **s_eu}"
   ]
  },
  {
   "cell_type": "code",
   "execution_count": 18,
   "id": "engaging-syndrome",
   "metadata": {
    "execution": {
     "iopub.execute_input": "2022-03-13T12:13:48.714018Z",
     "iopub.status.busy": "2022-03-13T12:13:48.713406Z",
     "iopub.status.idle": "2022-03-13T12:13:48.730620Z",
     "shell.execute_reply": "2022-03-13T12:13:48.730138Z"
    },
    "papermill": {
     "duration": 0.057565,
     "end_time": "2022-03-13T12:13:48.730750",
     "exception": false,
     "start_time": "2022-03-13T12:13:48.673185",
     "status": "completed"
    },
    "tags": []
   },
   "outputs": [],
   "source": [
    "#hide\n",
    "dft_ct_new_cases = dft_cases.groupby(COL_REGION)[dt_cols].sum().diff(axis=1).fillna(0).astype(int)"
   ]
  },
  {
   "cell_type": "code",
   "execution_count": 19,
   "id": "neutral-assignment",
   "metadata": {
    "execution": {
     "iopub.execute_input": "2022-03-13T12:13:48.799545Z",
     "iopub.status.busy": "2022-03-13T12:13:48.798933Z",
     "iopub.status.idle": "2022-03-13T12:13:48.801487Z",
     "shell.execute_reply": "2022-03-13T12:13:48.801966Z"
    },
    "papermill": {
     "duration": 0.040009,
     "end_time": "2022-03-13T12:13:48.802116",
     "exception": false,
     "start_time": "2022-03-13T12:13:48.762107",
     "status": "completed"
    },
    "tags": []
   },
   "outputs": [],
   "source": [
    "#hide\n",
    "everydaycases = dft_ct_new_cases.cumsum(axis=1)"
   ]
  },
  {
   "cell_type": "code",
   "execution_count": 20,
   "id": "parliamentary-calgary",
   "metadata": {
    "execution": {
     "iopub.execute_input": "2022-03-13T12:13:48.872924Z",
     "iopub.status.busy": "2022-03-13T12:13:48.872297Z",
     "iopub.status.idle": "2022-03-13T12:13:49.545488Z",
     "shell.execute_reply": "2022-03-13T12:13:49.544989Z"
    },
    "papermill": {
     "duration": 0.712338,
     "end_time": "2022-03-13T12:13:49.545623",
     "exception": false,
     "start_time": "2022-03-13T12:13:48.833285",
     "status": "completed"
    },
    "tags": []
   },
   "outputs": [],
   "source": [
    "#hide\n",
    "import pandas as pd\n",
    "import matplotlib.pyplot as plt\n",
    "import matplotlib.ticker as ticker\n",
    "import matplotlib.animation as animation\n",
    "from IPython.display import HTML"
   ]
  },
  {
   "cell_type": "code",
   "execution_count": 21,
   "id": "lasting-extraction",
   "metadata": {
    "execution": {
     "iopub.execute_input": "2022-03-13T12:13:49.619391Z",
     "iopub.status.busy": "2022-03-13T12:13:49.618772Z",
     "iopub.status.idle": "2022-03-13T12:13:49.625941Z",
     "shell.execute_reply": "2022-03-13T12:13:49.626410Z"
    },
    "papermill": {
     "duration": 0.048825,
     "end_time": "2022-03-13T12:13:49.626598",
     "exception": false,
     "start_time": "2022-03-13T12:13:49.577773",
     "status": "completed"
    },
    "tags": []
   },
   "outputs": [],
   "source": [
    "#hide\n",
    "t = everydaycases.stack()"
   ]
  },
  {
   "cell_type": "code",
   "execution_count": 22,
   "id": "premier-sleeve",
   "metadata": {
    "execution": {
     "iopub.execute_input": "2022-03-13T12:13:49.699610Z",
     "iopub.status.busy": "2022-03-13T12:13:49.698986Z",
     "iopub.status.idle": "2022-03-13T12:13:49.712100Z",
     "shell.execute_reply": "2022-03-13T12:13:49.712619Z"
    },
    "papermill": {
     "duration": 0.05299,
     "end_time": "2022-03-13T12:13:49.712778",
     "exception": false,
     "start_time": "2022-03-13T12:13:49.659788",
     "status": "completed"
    },
    "tags": []
   },
   "outputs": [],
   "source": [
    "#hide\n",
    "g = t.reset_index(['Country/Region'])"
   ]
  },
  {
   "cell_type": "code",
   "execution_count": 23,
   "id": "distributed-pittsburgh",
   "metadata": {
    "execution": {
     "iopub.execute_input": "2022-03-13T12:13:49.785208Z",
     "iopub.status.busy": "2022-03-13T12:13:49.784648Z",
     "iopub.status.idle": "2022-03-13T12:13:49.787336Z",
     "shell.execute_reply": "2022-03-13T12:13:49.788017Z"
    },
    "papermill": {
     "duration": 0.041745,
     "end_time": "2022-03-13T12:13:49.788177",
     "exception": false,
     "start_time": "2022-03-13T12:13:49.746432",
     "status": "completed"
    },
    "tags": []
   },
   "outputs": [],
   "source": [
    "#hide\n",
    "g.index.name = 'date'"
   ]
  },
  {
   "cell_type": "code",
   "execution_count": 24,
   "id": "naked-donor",
   "metadata": {
    "execution": {
     "iopub.execute_input": "2022-03-13T12:13:49.862715Z",
     "iopub.status.busy": "2022-03-13T12:13:49.862155Z",
     "iopub.status.idle": "2022-03-13T12:13:49.864528Z",
     "shell.execute_reply": "2022-03-13T12:13:49.865055Z"
    },
    "papermill": {
     "duration": 0.042833,
     "end_time": "2022-03-13T12:13:49.865197",
     "exception": false,
     "start_time": "2022-03-13T12:13:49.822364",
     "status": "completed"
    },
    "tags": []
   },
   "outputs": [],
   "source": [
    "# #hide\n",
    "# g = g.reset_index(['date'])"
   ]
  },
  {
   "cell_type": "code",
   "execution_count": 25,
   "id": "incomplete-mustang",
   "metadata": {
    "execution": {
     "iopub.execute_input": "2022-03-13T12:13:49.937066Z",
     "iopub.status.busy": "2022-03-13T12:13:49.936016Z",
     "iopub.status.idle": "2022-03-13T12:13:49.940836Z",
     "shell.execute_reply": "2022-03-13T12:13:49.941295Z"
    },
    "papermill": {
     "duration": 0.04347,
     "end_time": "2022-03-13T12:13:49.941435",
     "exception": false,
     "start_time": "2022-03-13T12:13:49.897965",
     "status": "completed"
    },
    "tags": []
   },
   "outputs": [],
   "source": [
    "#hide\n",
    "# g.head()"
   ]
  },
  {
   "cell_type": "code",
   "execution_count": 26,
   "id": "specific-kruger",
   "metadata": {
    "execution": {
     "iopub.execute_input": "2022-03-13T12:13:50.011706Z",
     "iopub.status.busy": "2022-03-13T12:13:50.010552Z",
     "iopub.status.idle": "2022-03-13T12:13:50.012373Z",
     "shell.execute_reply": "2022-03-13T12:13:50.012839Z"
    },
    "papermill": {
     "duration": 0.038937,
     "end_time": "2022-03-13T12:13:50.012980",
     "exception": false,
     "start_time": "2022-03-13T12:13:49.974043",
     "status": "completed"
    },
    "tags": []
   },
   "outputs": [],
   "source": [
    "#hide\n",
    "# g.columns = ['date','country','cases']"
   ]
  },
  {
   "cell_type": "code",
   "execution_count": 27,
   "id": "tender-conversion",
   "metadata": {
    "execution": {
     "iopub.execute_input": "2022-03-13T12:13:50.084978Z",
     "iopub.status.busy": "2022-03-13T12:13:50.084391Z",
     "iopub.status.idle": "2022-03-13T12:13:50.087121Z",
     "shell.execute_reply": "2022-03-13T12:13:50.087677Z"
    },
    "papermill": {
     "duration": 0.040275,
     "end_time": "2022-03-13T12:13:50.087822",
     "exception": false,
     "start_time": "2022-03-13T12:13:50.047547",
     "status": "completed"
    },
    "tags": []
   },
   "outputs": [],
   "source": [
    "#hide\n",
    "# g['continent'] = g.country"
   ]
  },
  {
   "cell_type": "code",
   "execution_count": 28,
   "id": "substantial-wilderness",
   "metadata": {
    "execution": {
     "iopub.execute_input": "2022-03-13T12:13:50.161207Z",
     "iopub.status.busy": "2022-03-13T12:13:50.160640Z",
     "iopub.status.idle": "2022-03-13T12:13:50.163809Z",
     "shell.execute_reply": "2022-03-13T12:13:50.163318Z"
    },
    "papermill": {
     "duration": 0.042879,
     "end_time": "2022-03-13T12:13:50.163938",
     "exception": false,
     "start_time": "2022-03-13T12:13:50.121059",
     "status": "completed"
    },
    "tags": []
   },
   "outputs": [],
   "source": [
    "#hide\n",
    "# cols = list(g.columns.values)"
   ]
  },
  {
   "cell_type": "code",
   "execution_count": 29,
   "id": "solved-farming",
   "metadata": {
    "execution": {
     "iopub.execute_input": "2022-03-13T12:13:50.235105Z",
     "iopub.status.busy": "2022-03-13T12:13:50.234435Z",
     "iopub.status.idle": "2022-03-13T12:13:50.238093Z",
     "shell.execute_reply": "2022-03-13T12:13:50.237643Z"
    },
    "papermill": {
     "duration": 0.040773,
     "end_time": "2022-03-13T12:13:50.238216",
     "exception": false,
     "start_time": "2022-03-13T12:13:50.197443",
     "status": "completed"
    },
    "tags": []
   },
   "outputs": [],
   "source": [
    "#hide\n",
    "# cols.insert(0, cols.pop())"
   ]
  },
  {
   "cell_type": "code",
   "execution_count": 30,
   "id": "executed-adoption",
   "metadata": {
    "execution": {
     "iopub.execute_input": "2022-03-13T12:13:50.309708Z",
     "iopub.status.busy": "2022-03-13T12:13:50.308598Z",
     "iopub.status.idle": "2022-03-13T12:13:50.314032Z",
     "shell.execute_reply": "2022-03-13T12:13:50.313098Z"
    },
    "papermill": {
     "duration": 0.043656,
     "end_time": "2022-03-13T12:13:50.314169",
     "exception": false,
     "start_time": "2022-03-13T12:13:50.270513",
     "status": "completed"
    },
    "tags": []
   },
   "outputs": [],
   "source": [
    "#hide\n",
    "# g = g[cols]"
   ]
  },
  {
   "cell_type": "code",
   "execution_count": 31,
   "id": "subject-dublin",
   "metadata": {
    "execution": {
     "iopub.execute_input": "2022-03-13T12:13:50.401401Z",
     "iopub.status.busy": "2022-03-13T12:13:50.400795Z",
     "iopub.status.idle": "2022-03-13T12:13:50.402637Z",
     "shell.execute_reply": "2022-03-13T12:13:50.403129Z"
    },
    "papermill": {
     "duration": 0.050899,
     "end_time": "2022-03-13T12:13:50.403278",
     "exception": false,
     "start_time": "2022-03-13T12:13:50.352379",
     "status": "completed"
    },
    "tags": []
   },
   "outputs": [],
   "source": [
    "#hide\n",
    "# g['continent'] = g['continent'].map(mapping['map.continent'])"
   ]
  },
  {
   "cell_type": "code",
   "execution_count": 32,
   "id": "freelance-scout",
   "metadata": {
    "execution": {
     "iopub.execute_input": "2022-03-13T12:13:50.477252Z",
     "iopub.status.busy": "2022-03-13T12:13:50.476321Z",
     "iopub.status.idle": "2022-03-13T12:13:50.481014Z",
     "shell.execute_reply": "2022-03-13T12:13:50.480405Z"
    },
    "papermill": {
     "duration": 0.043194,
     "end_time": "2022-03-13T12:13:50.481141",
     "exception": false,
     "start_time": "2022-03-13T12:13:50.437947",
     "status": "completed"
    },
    "tags": []
   },
   "outputs": [],
   "source": [
    "#hide\n",
    "# g.head()"
   ]
  },
  {
   "cell_type": "code",
   "execution_count": 33,
   "id": "limited-engine",
   "metadata": {
    "execution": {
     "iopub.execute_input": "2022-03-13T12:13:50.550936Z",
     "iopub.status.busy": "2022-03-13T12:13:50.550352Z",
     "iopub.status.idle": "2022-03-13T12:13:50.555764Z",
     "shell.execute_reply": "2022-03-13T12:13:50.556208Z"
    },
    "papermill": {
     "duration": 0.042139,
     "end_time": "2022-03-13T12:13:50.556346",
     "exception": false,
     "start_time": "2022-03-13T12:13:50.514207",
     "status": "completed"
    },
    "tags": []
   },
   "outputs": [],
   "source": [
    "# hide\n",
    "# g['date'] = g['date'].astype('datetime64[ns]')"
   ]
  },
  {
   "cell_type": "code",
   "execution_count": 34,
   "id": "sophisticated-supervisor",
   "metadata": {
    "execution": {
     "iopub.execute_input": "2022-03-13T12:13:50.626774Z",
     "iopub.status.busy": "2022-03-13T12:13:50.625708Z",
     "iopub.status.idle": "2022-03-13T12:13:50.627945Z",
     "shell.execute_reply": "2022-03-13T12:13:50.628582Z"
    },
    "papermill": {
     "duration": 0.040757,
     "end_time": "2022-03-13T12:13:50.628725",
     "exception": false,
     "start_time": "2022-03-13T12:13:50.587968",
     "status": "completed"
    },
    "tags": []
   },
   "outputs": [],
   "source": [
    "#hide\n",
    "# g['date'] = g.date.dt.dayofyear"
   ]
  },
  {
   "cell_type": "code",
   "execution_count": 35,
   "id": "inside-dubai",
   "metadata": {
    "execution": {
     "iopub.execute_input": "2022-03-13T12:13:50.700729Z",
     "iopub.status.busy": "2022-03-13T12:13:50.700146Z",
     "iopub.status.idle": "2022-03-13T12:13:50.701992Z",
     "shell.execute_reply": "2022-03-13T12:13:50.702443Z"
    },
    "papermill": {
     "duration": 0.040206,
     "end_time": "2022-03-13T12:13:50.702597",
     "exception": false,
     "start_time": "2022-03-13T12:13:50.662391",
     "status": "completed"
    },
    "tags": []
   },
   "outputs": [],
   "source": [
    "#hide\n",
    "# g = g.rename(columns= {'continent':'group','country':'name','cases':'value'})"
   ]
  },
  {
   "cell_type": "code",
   "execution_count": 36,
   "id": "fleet-motorcycle",
   "metadata": {
    "execution": {
     "iopub.execute_input": "2022-03-13T12:13:50.772639Z",
     "iopub.status.busy": "2022-03-13T12:13:50.772033Z",
     "iopub.status.idle": "2022-03-13T12:13:50.774313Z",
     "shell.execute_reply": "2022-03-13T12:13:50.773822Z"
    },
    "papermill": {
     "duration": 0.038633,
     "end_time": "2022-03-13T12:13:50.774437",
     "exception": false,
     "start_time": "2022-03-13T12:13:50.735804",
     "status": "completed"
    },
    "tags": []
   },
   "outputs": [],
   "source": [
    "#hide\n",
    "# cols = ['name','group','day','value']"
   ]
  },
  {
   "cell_type": "code",
   "execution_count": 37,
   "id": "continued-sleeping",
   "metadata": {
    "execution": {
     "iopub.execute_input": "2022-03-13T12:13:50.844490Z",
     "iopub.status.busy": "2022-03-13T12:13:50.843862Z",
     "iopub.status.idle": "2022-03-13T12:13:50.846736Z",
     "shell.execute_reply": "2022-03-13T12:13:50.847263Z"
    },
    "papermill": {
     "duration": 0.040351,
     "end_time": "2022-03-13T12:13:50.847421",
     "exception": false,
     "start_time": "2022-03-13T12:13:50.807070",
     "status": "completed"
    },
    "tags": []
   },
   "outputs": [],
   "source": [
    "#hide\n",
    "# g.rename(columns= {'date':'day'},inplace = True)"
   ]
  },
  {
   "cell_type": "code",
   "execution_count": 38,
   "id": "major-fight",
   "metadata": {
    "execution": {
     "iopub.execute_input": "2022-03-13T12:13:50.918091Z",
     "iopub.status.busy": "2022-03-13T12:13:50.917488Z",
     "iopub.status.idle": "2022-03-13T12:13:50.920260Z",
     "shell.execute_reply": "2022-03-13T12:13:50.920709Z"
    },
    "papermill": {
     "duration": 0.040742,
     "end_time": "2022-03-13T12:13:50.920855",
     "exception": false,
     "start_time": "2022-03-13T12:13:50.880113",
     "status": "completed"
    },
    "tags": []
   },
   "outputs": [],
   "source": [
    "#hide\n",
    "# g = g[cols]"
   ]
  },
  {
   "cell_type": "code",
   "execution_count": 39,
   "id": "structured-mobile",
   "metadata": {
    "execution": {
     "iopub.execute_input": "2022-03-13T12:13:50.991640Z",
     "iopub.status.busy": "2022-03-13T12:13:50.991000Z",
     "iopub.status.idle": "2022-03-13T12:13:50.992852Z",
     "shell.execute_reply": "2022-03-13T12:13:50.993337Z"
    },
    "papermill": {
     "duration": 0.039909,
     "end_time": "2022-03-13T12:13:50.993499",
     "exception": false,
     "start_time": "2022-03-13T12:13:50.953590",
     "status": "completed"
    },
    "tags": []
   },
   "outputs": [],
   "source": [
    "# #hide\n",
    "# g = g[g.group.notna()]"
   ]
  },
  {
   "cell_type": "code",
   "execution_count": 40,
   "id": "determined-closing",
   "metadata": {
    "execution": {
     "iopub.execute_input": "2022-03-13T12:13:51.066319Z",
     "iopub.status.busy": "2022-03-13T12:13:51.065624Z",
     "iopub.status.idle": "2022-03-13T12:13:51.067252Z",
     "shell.execute_reply": "2022-03-13T12:13:51.067803Z"
    },
    "papermill": {
     "duration": 0.040633,
     "end_time": "2022-03-13T12:13:51.067962",
     "exception": false,
     "start_time": "2022-03-13T12:13:51.027329",
     "status": "completed"
    },
    "tags": []
   },
   "outputs": [],
   "source": [
    "# #hide\n",
    "# colors = dict(zip(\n",
    "#     [\"Oceania\", \"Europe\", \"Asia\", \"South America\", \"Middle East\", \"North America\", \"Africa\"],\n",
    "#     [\"#adb0ff\", \"#ffb3ff\", \"#90d595\", \"#e48381\", \"#aafbff\", \"#f7bb5f\", \"#eafb50\"]\n",
    "# ))\n",
    "# group_lk = g.set_index('name')['group'].to_dict()"
   ]
  },
  {
   "cell_type": "code",
   "execution_count": null,
   "id": "gross-drinking",
   "metadata": {
    "papermill": {
     "duration": 0.032711,
     "end_time": "2022-03-13T12:13:51.134547",
     "exception": false,
     "start_time": "2022-03-13T12:13:51.101836",
     "status": "completed"
    },
    "tags": []
   },
   "outputs": [],
   "source": []
  },
  {
   "cell_type": "code",
   "execution_count": 41,
   "id": "subject-macintosh",
   "metadata": {
    "execution": {
     "iopub.execute_input": "2022-03-13T12:13:51.204646Z",
     "iopub.status.busy": "2022-03-13T12:13:51.203771Z",
     "iopub.status.idle": "2022-03-13T12:13:51.207523Z",
     "shell.execute_reply": "2022-03-13T12:13:51.207949Z"
    },
    "papermill": {
     "duration": 0.040323,
     "end_time": "2022-03-13T12:13:51.208097",
     "exception": false,
     "start_time": "2022-03-13T12:13:51.167774",
     "status": "completed"
    },
    "tags": []
   },
   "outputs": [],
   "source": [
    "# #hide\n",
    "# fig, ax = plt.subplots(figsize=(15, 8))\n",
    "\n",
    "# def draw_barchart(current_day):\n",
    "#     dff = g[g['day'].eq(current_day)].sort_values(by='value', ascending=True).tail(10)\n",
    "#     ax.clear()\n",
    "#     ax.barh(dff['name'], dff['value'], color=[colors[group_lk[x]] for x in dff['name']])\n",
    "#     dx = dff['value'].max() / 200\n",
    "    \n",
    "#     for i, (value, name) in enumerate(zip(dff['value'], dff['name'])):\n",
    "#         ax.text(value-dx, i,     name,           size=14, weight=600, ha='right', va='bottom')\n",
    "#         ax.text(value-dx, i-.25, group_lk[name], size=10, color='#444444', ha='right', va='baseline')\n",
    "#         ax.text(value+dx, i,     f'{value:,.0f}',  size=14, ha='left',  va='center')\n",
    "#     ax.text(1, 0.4, current_day, transform=ax.transAxes, color='#777777', size=46, ha='right', weight=800)\n",
    "#     ax.text(0, 1.06, 'Population (thousands)', transform=ax.transAxes, size=12, color='#777777')\n",
    "#     ax.xaxis.set_major_formatter(ticker.StrMethodFormatter('{x:,.0f}'))\n",
    "#     ax.xaxis.set_ticks_position('top')\n",
    "#     ax.tick_params(axis='x', colors='#777777', labelsize=12)\n",
    "#     ax.set_yticks([])\n",
    "#     ax.margins(0, 0.01)\n",
    "#     ax.grid(which='major', axis='x', linestyle='-')\n",
    "#     ax.set_axisbelow(True)\n",
    "    \n",
    "#     ax.text(0, 1.15, 'Coronavirus',\n",
    "#             transform=ax.transAxes, size=24, weight=600, ha='left', va='top')\n",
    "# #     ax.text(1, 0, 'by @pratapvardhan; credit @jburnmurdoch', transform=ax.transAxes, color='#777777', ha='right',\n",
    "# #             bbox=dict(facecolor='white', alpha=0.8, edgecolor='white'))\n",
    "#     plt.box(False)"
   ]
  },
  {
   "cell_type": "code",
   "execution_count": 42,
   "id": "sexual-wages",
   "metadata": {
    "execution": {
     "iopub.execute_input": "2022-03-13T12:13:51.276072Z",
     "iopub.status.busy": "2022-03-13T12:13:51.275500Z",
     "iopub.status.idle": "2022-03-13T12:13:51.278019Z",
     "shell.execute_reply": "2022-03-13T12:13:51.278463Z"
    },
    "papermill": {
     "duration": 0.039204,
     "end_time": "2022-03-13T12:13:51.278603",
     "exception": false,
     "start_time": "2022-03-13T12:13:51.239399",
     "status": "completed"
    },
    "tags": []
   },
   "outputs": [],
   "source": [
    "# #hide_input\n",
    "# fig, ax = plt.subplots(figsize=(15, 8))\n",
    "# animator = animation.FuncAnimation(fig, draw_barchart, frames=range(g.day.values.min(), g.day.values.max()))\n",
    "# HTML(animator.to_jshtml())\n",
    "# # or use animator.to_html5_video() or animator.save() "
   ]
  },
  {
   "cell_type": "code",
   "execution_count": null,
   "id": "australian-container",
   "metadata": {
    "papermill": {
     "duration": 0.030651,
     "end_time": "2022-03-13T12:13:51.340567",
     "exception": false,
     "start_time": "2022-03-13T12:13:51.309916",
     "status": "completed"
    },
    "tags": []
   },
   "outputs": [],
   "source": []
  },
  {
   "cell_type": "code",
   "execution_count": null,
   "id": "mediterranean-pontiac",
   "metadata": {
    "papermill": {
     "duration": 0.032041,
     "end_time": "2022-03-13T12:13:51.404368",
     "exception": false,
     "start_time": "2022-03-13T12:13:51.372327",
     "status": "completed"
    },
    "tags": []
   },
   "outputs": [],
   "source": []
  },
  {
   "cell_type": "code",
   "execution_count": null,
   "id": "aging-legislature",
   "metadata": {
    "papermill": {
     "duration": 0.035152,
     "end_time": "2022-03-13T12:13:51.474488",
     "exception": false,
     "start_time": "2022-03-13T12:13:51.439336",
     "status": "completed"
    },
    "tags": []
   },
   "outputs": [],
   "source": []
  }
 ],
 "metadata": {
  "kernelspec": {
   "display_name": "Python 3",
   "language": "python",
   "name": "python3"
  },
  "language_info": {
   "codemirror_mode": {
    "name": "ipython",
    "version": 3
   },
   "file_extension": ".py",
   "mimetype": "text/x-python",
   "name": "python",
   "nbconvert_exporter": "python",
   "pygments_lexer": "ipython3",
   "version": "3.6.15"
  },
  "papermill": {
   "duration": 6.644971,
   "end_time": "2022-03-13T12:13:51.929120",
   "environment_variables": {},
   "exception": null,
   "input_path": "2020-03-21-covid19exp.ipynb",
   "output_path": "2020-03-21-covid19exp.ipynb",
   "parameters": {},
   "start_time": "2022-03-13T12:13:45.284149",
   "version": "2.0.0"
  }
 },
 "nbformat": 4,
 "nbformat_minor": 5
}