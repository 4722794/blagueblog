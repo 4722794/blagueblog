{
 "cells": [
  {
   "cell_type": "markdown",
   "id": "muslim-click",
   "metadata": {
    "papermill": {
     "duration": 0.040206,
     "end_time": "2021-04-25T00:07:16.879475",
     "exception": false,
     "start_time": "2021-04-25T00:07:16.839269",
     "status": "completed"
    },
    "tags": []
   },
   "source": [
    "# COVID-19 Case Race\n",
    "> A race chart to see rising cases around the world\n",
    "\n",
    "- author: Hargun Oberoi\n",
    "- image: images/covid-overview.png\n",
    "- hide: false\n",
    "- badges: false"
   ]
  },
  {
   "cell_type": "code",
   "execution_count": 1,
   "id": "proof-material",
   "metadata": {
    "execution": {
     "iopub.execute_input": "2021-04-25T00:07:16.958320Z",
     "iopub.status.busy": "2021-04-25T00:07:16.957763Z",
     "iopub.status.idle": "2021-04-25T00:07:17.320772Z",
     "shell.execute_reply": "2021-04-25T00:07:17.320064Z"
    },
    "papermill": {
     "duration": 0.406925,
     "end_time": "2021-04-25T00:07:17.321003",
     "exception": false,
     "start_time": "2021-04-25T00:07:16.914078",
     "status": "completed"
    },
    "tags": []
   },
   "outputs": [],
   "source": [
    "#hide\n",
    "import numpy as np\n",
    "import pandas as pd\n",
    "from jinja2 import Template\n",
    "from IPython.display import HTML"
   ]
  },
  {
   "cell_type": "code",
   "execution_count": 2,
   "id": "developed-terminology",
   "metadata": {
    "execution": {
     "iopub.execute_input": "2021-04-25T00:07:17.401363Z",
     "iopub.status.busy": "2021-04-25T00:07:17.400686Z",
     "iopub.status.idle": "2021-04-25T00:07:17.403179Z",
     "shell.execute_reply": "2021-04-25T00:07:17.402680Z"
    },
    "papermill": {
     "duration": 0.045955,
     "end_time": "2021-04-25T00:07:17.403304",
     "exception": false,
     "start_time": "2021-04-25T00:07:17.357349",
     "status": "completed"
    },
    "tags": []
   },
   "outputs": [],
   "source": [
    "#hide\n",
    "\n",
    "# FETCH\n",
    "base_url = 'https://raw.githubusercontent.com/pratapvardhan/notebooks/master/covid19/'\n",
    "paths = {\n",
    "    'mapping': base_url + 'mapping_countries.csv',\n",
    "    'overview': base_url + 'overview.tpl'\n",
    "}"
   ]
  },
  {
   "cell_type": "code",
   "execution_count": 3,
   "id": "dynamic-saver",
   "metadata": {
    "execution": {
     "iopub.execute_input": "2021-04-25T00:07:17.484758Z",
     "iopub.status.busy": "2021-04-25T00:07:17.481713Z",
     "iopub.status.idle": "2021-04-25T00:07:17.487696Z",
     "shell.execute_reply": "2021-04-25T00:07:17.488166Z"
    },
    "papermill": {
     "duration": 0.050007,
     "end_time": "2021-04-25T00:07:17.488315",
     "exception": false,
     "start_time": "2021-04-25T00:07:17.438308",
     "status": "completed"
    },
    "tags": []
   },
   "outputs": [
    {
     "data": {
      "text/plain": [
       "'https://raw.githubusercontent.com/pratapvardhan/notebooks/master/covid19/mapping_countries.csv'"
      ]
     },
     "execution_count": 3,
     "metadata": {},
     "output_type": "execute_result"
    }
   ],
   "source": [
    "#hide\n",
    "paths['mapping']"
   ]
  },
  {
   "cell_type": "code",
   "execution_count": 4,
   "id": "urban-software",
   "metadata": {
    "execution": {
     "iopub.execute_input": "2021-04-25T00:07:17.573685Z",
     "iopub.status.busy": "2021-04-25T00:07:17.573021Z",
     "iopub.status.idle": "2021-04-25T00:07:17.574405Z",
     "shell.execute_reply": "2021-04-25T00:07:17.574959Z"
    },
    "papermill": {
     "duration": 0.046228,
     "end_time": "2021-04-25T00:07:17.575106",
     "exception": false,
     "start_time": "2021-04-25T00:07:17.528878",
     "status": "completed"
    },
    "tags": []
   },
   "outputs": [],
   "source": [
    "#hide\n",
    "def get_mappings(url):\n",
    "    df = pd.read_csv(url)\n",
    "    return {\n",
    "        'df': df,\n",
    "        'replace.country': dict(df.dropna(subset=['Name']).set_index('Country')['Name']),\n",
    "        'map.continent': dict(df.set_index('Name')['Continent'])\n",
    "    }"
   ]
  },
  {
   "cell_type": "code",
   "execution_count": 5,
   "id": "intimate-machinery",
   "metadata": {
    "execution": {
     "iopub.execute_input": "2021-04-25T00:07:17.654774Z",
     "iopub.status.busy": "2021-04-25T00:07:17.654188Z",
     "iopub.status.idle": "2021-04-25T00:07:17.703174Z",
     "shell.execute_reply": "2021-04-25T00:07:17.701934Z"
    },
    "papermill": {
     "duration": 0.090365,
     "end_time": "2021-04-25T00:07:17.703324",
     "exception": false,
     "start_time": "2021-04-25T00:07:17.612959",
     "status": "completed"
    },
    "tags": []
   },
   "outputs": [],
   "source": [
    "#hide\n",
    "mapping = get_mappings(paths['mapping'])"
   ]
  },
  {
   "cell_type": "code",
   "execution_count": 6,
   "id": "certified-tactics",
   "metadata": {
    "execution": {
     "iopub.execute_input": "2021-04-25T00:07:17.780605Z",
     "iopub.status.busy": "2021-04-25T00:07:17.779961Z",
     "iopub.status.idle": "2021-04-25T00:07:17.782602Z",
     "shell.execute_reply": "2021-04-25T00:07:17.781996Z"
    },
    "papermill": {
     "duration": 0.04416,
     "end_time": "2021-04-25T00:07:17.782742",
     "exception": false,
     "start_time": "2021-04-25T00:07:17.738582",
     "status": "completed"
    },
    "tags": []
   },
   "outputs": [],
   "source": [
    "#hide\n",
    "def get_template(path):\n",
    "    from urllib.parse import urlparse\n",
    "    if bool(urlparse(path).netloc):\n",
    "        from urllib.request import urlopen\n",
    "        return urlopen(path).read().decode('utf8')\n",
    "    return open(path).read()"
   ]
  },
  {
   "cell_type": "code",
   "execution_count": 7,
   "id": "realistic-blast",
   "metadata": {
    "execution": {
     "iopub.execute_input": "2021-04-25T00:07:17.858324Z",
     "iopub.status.busy": "2021-04-25T00:07:17.857732Z",
     "iopub.status.idle": "2021-04-25T00:07:17.859865Z",
     "shell.execute_reply": "2021-04-25T00:07:17.860313Z"
    },
    "papermill": {
     "duration": 0.042616,
     "end_time": "2021-04-25T00:07:17.860463",
     "exception": false,
     "start_time": "2021-04-25T00:07:17.817847",
     "status": "completed"
    },
    "tags": []
   },
   "outputs": [],
   "source": [
    "#hide\n",
    "def get_frame(name):\n",
    "    url = (\n",
    "        'https://raw.githubusercontent.com/CSSEGISandData/COVID-19/master/csse_covid_19_data/'\n",
    "        f'csse_covid_19_time_series/time_series_covid19_{name}_global.csv')\n",
    "    df = pd.read_csv(url)\n",
    "    # rename countries\n",
    "    df['Country/Region'] = df['Country/Region'].replace(mapping['replace.country'])\n",
    "    return df"
   ]
  },
  {
   "cell_type": "code",
   "execution_count": 8,
   "id": "affiliated-characterization",
   "metadata": {
    "execution": {
     "iopub.execute_input": "2021-04-25T00:07:17.939816Z",
     "iopub.status.busy": "2021-04-25T00:07:17.939198Z",
     "iopub.status.idle": "2021-04-25T00:07:17.943361Z",
     "shell.execute_reply": "2021-04-25T00:07:17.942863Z"
    },
    "papermill": {
     "duration": 0.046736,
     "end_time": "2021-04-25T00:07:17.943484",
     "exception": false,
     "start_time": "2021-04-25T00:07:17.896748",
     "status": "completed"
    },
    "tags": []
   },
   "outputs": [],
   "source": [
    "#hide\n",
    "def get_dates(df):\n",
    "    dt_cols = df.columns[~df.columns.isin(['Province/State', 'Country/Region', 'Lat', 'Long'])]\n",
    "    LAST_DATE_I = -1\n",
    "    # sometimes last column may be empty, then go backwards\n",
    "    for i in range(-1, -len(dt_cols), -1):\n",
    "        if not df[dt_cols[i]].fillna(0).eq(0).all():\n",
    "            LAST_DATE_I = i\n",
    "            break\n",
    "    return LAST_DATE_I, dt_cols"
   ]
  },
  {
   "cell_type": "code",
   "execution_count": 9,
   "id": "recent-optimization",
   "metadata": {
    "execution": {
     "iopub.execute_input": "2021-04-25T00:07:18.016373Z",
     "iopub.status.busy": "2021-04-25T00:07:18.015779Z",
     "iopub.status.idle": "2021-04-25T00:07:18.375713Z",
     "shell.execute_reply": "2021-04-25T00:07:18.374933Z"
    },
    "papermill": {
     "duration": 0.398599,
     "end_time": "2021-04-25T00:07:18.375908",
     "exception": false,
     "start_time": "2021-04-25T00:07:17.977309",
     "status": "completed"
    },
    "tags": []
   },
   "outputs": [],
   "source": [
    "#hide\n",
    "COL_REGION = 'Country/Region'\n",
    "# Confirmed, Recovered, Deaths\n",
    "df = get_frame('confirmed')\n",
    "# dft_: timeseries, dfc_: today country agg\n",
    "dft_cases = df\n",
    "dft_deaths = get_frame('deaths')\n",
    "dft_recovered = get_frame('recovered')\n",
    "LAST_DATE_I, dt_cols = get_dates(df)"
   ]
  },
  {
   "cell_type": "code",
   "execution_count": 10,
   "id": "absolute-copper",
   "metadata": {
    "execution": {
     "iopub.execute_input": "2021-04-25T00:07:18.454824Z",
     "iopub.status.busy": "2021-04-25T00:07:18.453568Z",
     "iopub.status.idle": "2021-04-25T00:07:18.455473Z",
     "shell.execute_reply": "2021-04-25T00:07:18.455929Z"
    },
    "papermill": {
     "duration": 0.043653,
     "end_time": "2021-04-25T00:07:18.456075",
     "exception": false,
     "start_time": "2021-04-25T00:07:18.412422",
     "status": "completed"
    },
    "tags": []
   },
   "outputs": [],
   "source": [
    "#hide\n",
    "LAST_DATE_I, dt_cols = get_dates(df)\n",
    "dt_today =dt_cols[LAST_DATE_I]\n",
    "# dt_5day = dt_cols[LAST_DATE_I - 5]\n",
    "dt_yday = dt_cols[LAST_DATE_I - 1]"
   ]
  },
  {
   "cell_type": "code",
   "execution_count": 11,
   "id": "restricted-sheriff",
   "metadata": {
    "execution": {
     "iopub.execute_input": "2021-04-25T00:07:18.532286Z",
     "iopub.status.busy": "2021-04-25T00:07:18.531638Z",
     "iopub.status.idle": "2021-04-25T00:07:18.541092Z",
     "shell.execute_reply": "2021-04-25T00:07:18.540610Z"
    },
    "papermill": {
     "duration": 0.051349,
     "end_time": "2021-04-25T00:07:18.541252",
     "exception": false,
     "start_time": "2021-04-25T00:07:18.489903",
     "status": "completed"
    },
    "tags": []
   },
   "outputs": [],
   "source": [
    "#hide\n",
    "dfc_cases = dft_cases.groupby(COL_REGION)[dt_today].sum()\n",
    "dfc_deaths = dft_deaths.groupby(COL_REGION)[dt_today].sum()\n",
    "# dfp_cases = dft_cases.groupby(COL_REGION)[dt_5day].sum()\n",
    "# dfp_deaths = dft_deaths.groupby(COL_REGION)[dt_5day].sum()\n",
    "dfp_cases = dft_cases.groupby(COL_REGION)[dt_yday].sum()\n",
    "dfp_deaths = dft_deaths.groupby(COL_REGION)[dt_yday].sum()"
   ]
  },
  {
   "cell_type": "code",
   "execution_count": 12,
   "id": "deluxe-hepatitis",
   "metadata": {
    "execution": {
     "iopub.execute_input": "2021-04-25T00:07:18.616641Z",
     "iopub.status.busy": "2021-04-25T00:07:18.616056Z",
     "iopub.status.idle": "2021-04-25T00:07:18.621073Z",
     "shell.execute_reply": "2021-04-25T00:07:18.620599Z"
    },
    "papermill": {
     "duration": 0.045795,
     "end_time": "2021-04-25T00:07:18.621223",
     "exception": false,
     "start_time": "2021-04-25T00:07:18.575428",
     "status": "completed"
    },
    "tags": []
   },
   "outputs": [],
   "source": [
    "#hide\n",
    "df_table = (pd.DataFrame(dict(Cases = dfc_cases, Deaths = dfc_deaths, PCases = dfp_cases, PDeaths = dfp_deaths))\n",
    "            .sort_values(by = ['Cases','Deaths'], ascending = [False, False])\n",
    "            .reset_index())"
   ]
  },
  {
   "cell_type": "code",
   "execution_count": 13,
   "id": "educational-chancellor",
   "metadata": {
    "execution": {
     "iopub.execute_input": "2021-04-25T00:07:18.714547Z",
     "iopub.status.busy": "2021-04-25T00:07:18.713878Z",
     "iopub.status.idle": "2021-04-25T00:07:18.721874Z",
     "shell.execute_reply": "2021-04-25T00:07:18.722382Z"
    },
    "papermill": {
     "duration": 0.067528,
     "end_time": "2021-04-25T00:07:18.722540",
     "exception": false,
     "start_time": "2021-04-25T00:07:18.655012",
     "status": "completed"
    },
    "tags": []
   },
   "outputs": [
    {
     "data": {
      "text/html": [
       "<div>\n",
       "<style scoped>\n",
       "    .dataframe tbody tr th:only-of-type {\n",
       "        vertical-align: middle;\n",
       "    }\n",
       "\n",
       "    .dataframe tbody tr th {\n",
       "        vertical-align: top;\n",
       "    }\n",
       "\n",
       "    .dataframe thead th {\n",
       "        text-align: right;\n",
       "    }\n",
       "</style>\n",
       "<table border=\"1\" class=\"dataframe\">\n",
       "  <thead>\n",
       "    <tr style=\"text-align: right;\">\n",
       "      <th></th>\n",
       "      <th>Country/Region</th>\n",
       "      <th>Cases</th>\n",
       "      <th>Deaths</th>\n",
       "      <th>PCases</th>\n",
       "      <th>PDeaths</th>\n",
       "      <th>Cases (+)</th>\n",
       "      <th>Deaths (+)</th>\n",
       "      <th>Fatality Rate</th>\n",
       "      <th>Continent</th>\n",
       "    </tr>\n",
       "  </thead>\n",
       "  <tbody>\n",
       "    <tr>\n",
       "      <th>0</th>\n",
       "      <td>US</td>\n",
       "      <td>31991750</td>\n",
       "      <td>571197</td>\n",
       "      <td>31929351</td>\n",
       "      <td>570345</td>\n",
       "      <td>62399</td>\n",
       "      <td>852</td>\n",
       "      <td>1.79</td>\n",
       "      <td>North America</td>\n",
       "    </tr>\n",
       "    <tr>\n",
       "      <th>1</th>\n",
       "      <td>India</td>\n",
       "      <td>16610481</td>\n",
       "      <td>189544</td>\n",
       "      <td>16263695</td>\n",
       "      <td>186920</td>\n",
       "      <td>346786</td>\n",
       "      <td>2624</td>\n",
       "      <td>1.14</td>\n",
       "      <td>Asia</td>\n",
       "    </tr>\n",
       "    <tr>\n",
       "      <th>2</th>\n",
       "      <td>Brazil</td>\n",
       "      <td>14237078</td>\n",
       "      <td>386416</td>\n",
       "      <td>14167973</td>\n",
       "      <td>383502</td>\n",
       "      <td>69105</td>\n",
       "      <td>2914</td>\n",
       "      <td>2.71</td>\n",
       "      <td>South America</td>\n",
       "    </tr>\n",
       "    <tr>\n",
       "      <th>3</th>\n",
       "      <td>France</td>\n",
       "      <td>5502014</td>\n",
       "      <td>102655</td>\n",
       "      <td>5469674</td>\n",
       "      <td>102323</td>\n",
       "      <td>32340</td>\n",
       "      <td>332</td>\n",
       "      <td>1.87</td>\n",
       "      <td>Europe</td>\n",
       "    </tr>\n",
       "    <tr>\n",
       "      <th>4</th>\n",
       "      <td>Russia</td>\n",
       "      <td>4691290</td>\n",
       "      <td>105718</td>\n",
       "      <td>4682573</td>\n",
       "      <td>105328</td>\n",
       "      <td>8717</td>\n",
       "      <td>390</td>\n",
       "      <td>2.25</td>\n",
       "      <td>Europe</td>\n",
       "    </tr>\n",
       "  </tbody>\n",
       "</table>\n",
       "</div>"
      ],
      "text/plain": [
       "  Country/Region     Cases  Deaths    PCases  PDeaths  Cases (+)  Deaths (+)  \\\n",
       "0             US  31991750  571197  31929351   570345      62399         852   \n",
       "1          India  16610481  189544  16263695   186920     346786        2624   \n",
       "2         Brazil  14237078  386416  14167973   383502      69105        2914   \n",
       "3         France   5502014  102655   5469674   102323      32340         332   \n",
       "4         Russia   4691290  105718   4682573   105328       8717         390   \n",
       "\n",
       "   Fatality Rate      Continent  \n",
       "0           1.79  North America  \n",
       "1           1.14           Asia  \n",
       "2           2.71  South America  \n",
       "3           1.87         Europe  \n",
       "4           2.25         Europe  "
      ]
     },
     "execution_count": 13,
     "metadata": {},
     "output_type": "execute_result"
    }
   ],
   "source": [
    "#hide\n",
    "for c in 'Cases, Deaths'.split(', '):\n",
    "    df_table[f'{c} (+)'] = (df_table[c] - df_table[f'P{c}']).clip(0)\n",
    "    #Clip ça veut dire, les chiffres negatif sont interdit\n",
    "df_table['Fatality Rate'] = (100* df_table['Deaths']/ df_table['Cases']).round(2)\n",
    "df_table['Continent'] = df_table['Country/Region'].map(mapping['map.continent'])\n",
    "df_table.head(5)"
   ]
  },
  {
   "cell_type": "code",
   "execution_count": 14,
   "id": "aboriginal-bulgaria",
   "metadata": {
    "execution": {
     "iopub.execute_input": "2021-04-25T00:07:18.798422Z",
     "iopub.status.busy": "2021-04-25T00:07:18.797819Z",
     "iopub.status.idle": "2021-04-25T00:07:18.800125Z",
     "shell.execute_reply": "2021-04-25T00:07:18.799627Z"
    },
    "papermill": {
     "duration": 0.042802,
     "end_time": "2021-04-25T00:07:18.800257",
     "exception": false,
     "start_time": "2021-04-25T00:07:18.757455",
     "status": "completed"
    },
    "tags": []
   },
   "outputs": [],
   "source": [
    "#hide\n",
    "#delete problematic countries from table\n",
    "df_table = df_table[~df_table['Country/Region'].isin(['Cape Verde', 'Cruise Ship', 'Kosovo'])]"
   ]
  },
  {
   "cell_type": "code",
   "execution_count": 15,
   "id": "fantastic-effect",
   "metadata": {
    "execution": {
     "iopub.execute_input": "2021-04-25T00:07:18.878353Z",
     "iopub.status.busy": "2021-04-25T00:07:18.877741Z",
     "iopub.status.idle": "2021-04-25T00:07:18.900809Z",
     "shell.execute_reply": "2021-04-25T00:07:18.901283Z"
    },
    "papermill": {
     "duration": 0.066692,
     "end_time": "2021-04-25T00:07:18.901445",
     "exception": false,
     "start_time": "2021-04-25T00:07:18.834753",
     "status": "completed"
    },
    "tags": []
   },
   "outputs": [
    {
     "data": {
      "text/html": [
       "<div>\n",
       "<style scoped>\n",
       "    .dataframe tbody tr th:only-of-type {\n",
       "        vertical-align: middle;\n",
       "    }\n",
       "\n",
       "    .dataframe tbody tr th {\n",
       "        vertical-align: top;\n",
       "    }\n",
       "\n",
       "    .dataframe thead th {\n",
       "        text-align: right;\n",
       "    }\n",
       "</style>\n",
       "<table border=\"1\" class=\"dataframe\">\n",
       "  <thead>\n",
       "    <tr style=\"text-align: right;\">\n",
       "      <th></th>\n",
       "      <th>Country/Region</th>\n",
       "      <th>Cases</th>\n",
       "      <th>Deaths</th>\n",
       "      <th>PCases</th>\n",
       "      <th>PDeaths</th>\n",
       "      <th>Cases (+)</th>\n",
       "      <th>Deaths (+)</th>\n",
       "      <th>Fatality Rate</th>\n",
       "      <th>Continent</th>\n",
       "    </tr>\n",
       "  </thead>\n",
       "  <tbody>\n",
       "    <tr>\n",
       "      <th>0</th>\n",
       "      <td>US</td>\n",
       "      <td>31991750</td>\n",
       "      <td>571197</td>\n",
       "      <td>31929351</td>\n",
       "      <td>570345</td>\n",
       "      <td>62399</td>\n",
       "      <td>852</td>\n",
       "      <td>1.8</td>\n",
       "      <td>North America</td>\n",
       "    </tr>\n",
       "    <tr>\n",
       "      <th>1</th>\n",
       "      <td>India</td>\n",
       "      <td>16610481</td>\n",
       "      <td>189544</td>\n",
       "      <td>16263695</td>\n",
       "      <td>186920</td>\n",
       "      <td>346786</td>\n",
       "      <td>2624</td>\n",
       "      <td>1.1</td>\n",
       "      <td>Asia</td>\n",
       "    </tr>\n",
       "    <tr>\n",
       "      <th>2</th>\n",
       "      <td>Brazil</td>\n",
       "      <td>14237078</td>\n",
       "      <td>386416</td>\n",
       "      <td>14167973</td>\n",
       "      <td>383502</td>\n",
       "      <td>69105</td>\n",
       "      <td>2914</td>\n",
       "      <td>2.7</td>\n",
       "      <td>South America</td>\n",
       "    </tr>\n",
       "    <tr>\n",
       "      <th>3</th>\n",
       "      <td>France</td>\n",
       "      <td>5502014</td>\n",
       "      <td>102655</td>\n",
       "      <td>5469674</td>\n",
       "      <td>102323</td>\n",
       "      <td>32340</td>\n",
       "      <td>332</td>\n",
       "      <td>1.9</td>\n",
       "      <td>Europe</td>\n",
       "    </tr>\n",
       "    <tr>\n",
       "      <th>4</th>\n",
       "      <td>Russia</td>\n",
       "      <td>4691290</td>\n",
       "      <td>105718</td>\n",
       "      <td>4682573</td>\n",
       "      <td>105328</td>\n",
       "      <td>8717</td>\n",
       "      <td>390</td>\n",
       "      <td>2.3</td>\n",
       "      <td>Europe</td>\n",
       "    </tr>\n",
       "  </tbody>\n",
       "</table>\n",
       "</div>"
      ],
      "text/plain": [
       "  Country/Region     Cases  Deaths    PCases  PDeaths  Cases (+)  Deaths (+)  \\\n",
       "0             US  31991750  571197  31929351   570345      62399         852   \n",
       "1          India  16610481  189544  16263695   186920     346786        2624   \n",
       "2         Brazil  14237078  386416  14167973   383502      69105        2914   \n",
       "3         France   5502014  102655   5469674   102323      32340         332   \n",
       "4         Russia   4691290  105718   4682573   105328       8717         390   \n",
       "\n",
       "   Fatality Rate      Continent  \n",
       "0            1.8  North America  \n",
       "1            1.1           Asia  \n",
       "2            2.7  South America  \n",
       "3            1.9         Europe  \n",
       "4            2.3         Europe  "
      ]
     },
     "execution_count": 15,
     "metadata": {},
     "output_type": "execute_result"
    }
   ],
   "source": [
    "#hide\n",
    "df_table = (pd.DataFrame(dict(Cases=dfc_cases, Deaths=dfc_deaths, PCases=dfp_cases, PDeaths=dfp_deaths))\n",
    "             .sort_values(by=['Cases', 'Deaths'], ascending=[False, False])\n",
    "             .reset_index())\n",
    "df_table.rename(columns={'index': 'Country/Region'}, inplace=True)\n",
    "for c in 'Cases, Deaths'.split(', '):\n",
    "    df_table[f'{c} (+)'] = (df_table[c] - df_table[f'P{c}']).clip(0)  # DATA BUG\n",
    "df_table['Fatality Rate'] = (100 * df_table['Deaths'] / df_table['Cases']).round(1)\n",
    "df_table['Continent'] = df_table['Country/Region'].map(mapping['map.continent'])\n",
    "df_table.head(5)"
   ]
  },
  {
   "cell_type": "code",
   "execution_count": 16,
   "id": "fewer-occasion",
   "metadata": {
    "execution": {
     "iopub.execute_input": "2021-04-25T00:07:18.978288Z",
     "iopub.status.busy": "2021-04-25T00:07:18.977693Z",
     "iopub.status.idle": "2021-04-25T00:07:18.981165Z",
     "shell.execute_reply": "2021-04-25T00:07:18.981687Z"
    },
    "papermill": {
     "duration": 0.0451,
     "end_time": "2021-04-25T00:07:18.981842",
     "exception": false,
     "start_time": "2021-04-25T00:07:18.936742",
     "status": "completed"
    },
    "tags": []
   },
   "outputs": [],
   "source": [
    "#hide\n",
    "#delete problematic countries from table\n",
    "df_table = df_table[~df_table['Country/Region'].isin(['Cape Verde', 'Cruise Ship', 'Kosovo'])]"
   ]
  },
  {
   "cell_type": "code",
   "execution_count": 17,
   "id": "related-center",
   "metadata": {
    "execution": {
     "iopub.execute_input": "2021-04-25T00:07:19.067097Z",
     "iopub.status.busy": "2021-04-25T00:07:19.066474Z",
     "iopub.status.idle": "2021-04-25T00:07:19.075658Z",
     "shell.execute_reply": "2021-04-25T00:07:19.075167Z"
    },
    "papermill": {
     "duration": 0.059037,
     "end_time": "2021-04-25T00:07:19.075792",
     "exception": false,
     "start_time": "2021-04-25T00:07:19.016755",
     "status": "completed"
    },
    "tags": []
   },
   "outputs": [],
   "source": [
    "#hide\n",
    "metrics = [df_table.columns[index] for index in [1,2,5,6]]\n",
    "# s_china = df_table[df_table['Country/Region'].eq('China')][metrics].sum().add_prefix('China ')\n",
    "s_us = df_table[df_table['Country/Region'].eq('US')][metrics].sum().add_prefix('US ')\n",
    "s_eu = df_table[df_table['Continent'].eq('Europe')][metrics].sum().add_prefix('EU ')\n",
    "s_ind = df_table[df_table['Country/Region'].eq('India')][metrics].sum().add_prefix('India ')\n",
    "summary = {'updated': pd.to_datetime(dt_today), 'since': pd.to_datetime(dt_yday)}\n",
    "summary = {'updated': pd.to_datetime(dt_today), 'since': pd.to_datetime(dt_yday)}\n",
    "summary = {**summary, **df_table[metrics].sum(), **s_ind, **s_us, **s_eu}"
   ]
  },
  {
   "cell_type": "code",
   "execution_count": 18,
   "id": "engaging-syndrome",
   "metadata": {
    "execution": {
     "iopub.execute_input": "2021-04-25T00:07:19.156077Z",
     "iopub.status.busy": "2021-04-25T00:07:19.152626Z",
     "iopub.status.idle": "2021-04-25T00:07:19.168193Z",
     "shell.execute_reply": "2021-04-25T00:07:19.167517Z"
    },
    "papermill": {
     "duration": 0.056735,
     "end_time": "2021-04-25T00:07:19.168345",
     "exception": false,
     "start_time": "2021-04-25T00:07:19.111610",
     "status": "completed"
    },
    "tags": []
   },
   "outputs": [],
   "source": [
    "#hide\n",
    "dft_ct_new_cases = dft_cases.groupby(COL_REGION)[dt_cols].sum().diff(axis=1).fillna(0).astype(int)"
   ]
  },
  {
   "cell_type": "code",
   "execution_count": 19,
   "id": "neutral-assignment",
   "metadata": {
    "execution": {
     "iopub.execute_input": "2021-04-25T00:07:19.249349Z",
     "iopub.status.busy": "2021-04-25T00:07:19.248714Z",
     "iopub.status.idle": "2021-04-25T00:07:19.251013Z",
     "shell.execute_reply": "2021-04-25T00:07:19.250507Z"
    },
    "papermill": {
     "duration": 0.046663,
     "end_time": "2021-04-25T00:07:19.251139",
     "exception": false,
     "start_time": "2021-04-25T00:07:19.204476",
     "status": "completed"
    },
    "tags": []
   },
   "outputs": [],
   "source": [
    "#hide\n",
    "everydaycases = dft_ct_new_cases.cumsum(axis=1)"
   ]
  },
  {
   "cell_type": "code",
   "execution_count": 20,
   "id": "parliamentary-calgary",
   "metadata": {
    "execution": {
     "iopub.execute_input": "2021-04-25T00:07:19.331122Z",
     "iopub.status.busy": "2021-04-25T00:07:19.330479Z",
     "iopub.status.idle": "2021-04-25T00:07:19.920461Z",
     "shell.execute_reply": "2021-04-25T00:07:19.919799Z"
    },
    "papermill": {
     "duration": 0.632575,
     "end_time": "2021-04-25T00:07:19.920623",
     "exception": false,
     "start_time": "2021-04-25T00:07:19.288048",
     "status": "completed"
    },
    "tags": []
   },
   "outputs": [],
   "source": [
    "#hide\n",
    "import pandas as pd\n",
    "import matplotlib.pyplot as plt\n",
    "import matplotlib.ticker as ticker\n",
    "import matplotlib.animation as animation\n",
    "from IPython.display import HTML"
   ]
  },
  {
   "cell_type": "code",
   "execution_count": 21,
   "id": "lasting-extraction",
   "metadata": {
    "execution": {
     "iopub.execute_input": "2021-04-25T00:07:20.000403Z",
     "iopub.status.busy": "2021-04-25T00:07:19.999795Z",
     "iopub.status.idle": "2021-04-25T00:07:20.008055Z",
     "shell.execute_reply": "2021-04-25T00:07:20.007313Z"
    },
    "papermill": {
     "duration": 0.050619,
     "end_time": "2021-04-25T00:07:20.008221",
     "exception": false,
     "start_time": "2021-04-25T00:07:19.957602",
     "status": "completed"
    },
    "tags": []
   },
   "outputs": [],
   "source": [
    "#hide\n",
    "t = everydaycases.stack()"
   ]
  },
  {
   "cell_type": "code",
   "execution_count": 22,
   "id": "premier-sleeve",
   "metadata": {
    "execution": {
     "iopub.execute_input": "2021-04-25T00:07:20.088442Z",
     "iopub.status.busy": "2021-04-25T00:07:20.087820Z",
     "iopub.status.idle": "2021-04-25T00:07:20.101738Z",
     "shell.execute_reply": "2021-04-25T00:07:20.102619Z"
    },
    "papermill": {
     "duration": 0.056904,
     "end_time": "2021-04-25T00:07:20.102801",
     "exception": false,
     "start_time": "2021-04-25T00:07:20.045897",
     "status": "completed"
    },
    "tags": []
   },
   "outputs": [],
   "source": [
    "#hide\n",
    "g = t.reset_index(['Country/Region'])"
   ]
  },
  {
   "cell_type": "code",
   "execution_count": 23,
   "id": "distributed-pittsburgh",
   "metadata": {
    "execution": {
     "iopub.execute_input": "2021-04-25T00:07:20.184463Z",
     "iopub.status.busy": "2021-04-25T00:07:20.183742Z",
     "iopub.status.idle": "2021-04-25T00:07:20.186168Z",
     "shell.execute_reply": "2021-04-25T00:07:20.185690Z"
    },
    "papermill": {
     "duration": 0.043003,
     "end_time": "2021-04-25T00:07:20.186298",
     "exception": false,
     "start_time": "2021-04-25T00:07:20.143295",
     "status": "completed"
    },
    "tags": []
   },
   "outputs": [],
   "source": [
    "#hide\n",
    "g.index.name = 'date'"
   ]
  },
  {
   "cell_type": "code",
   "execution_count": 24,
   "id": "naked-donor",
   "metadata": {
    "execution": {
     "iopub.execute_input": "2021-04-25T00:07:20.260975Z",
     "iopub.status.busy": "2021-04-25T00:07:20.260382Z",
     "iopub.status.idle": "2021-04-25T00:07:20.262393Z",
     "shell.execute_reply": "2021-04-25T00:07:20.262859Z"
    },
    "papermill": {
     "duration": 0.041036,
     "end_time": "2021-04-25T00:07:20.263006",
     "exception": false,
     "start_time": "2021-04-25T00:07:20.221970",
     "status": "completed"
    },
    "tags": []
   },
   "outputs": [],
   "source": [
    "# #hide\n",
    "# g = g.reset_index(['date'])"
   ]
  },
  {
   "cell_type": "code",
   "execution_count": 25,
   "id": "incomplete-mustang",
   "metadata": {
    "execution": {
     "iopub.execute_input": "2021-04-25T00:07:20.338885Z",
     "iopub.status.busy": "2021-04-25T00:07:20.338281Z",
     "iopub.status.idle": "2021-04-25T00:07:20.341479Z",
     "shell.execute_reply": "2021-04-25T00:07:20.341993Z"
    },
    "papermill": {
     "duration": 0.043825,
     "end_time": "2021-04-25T00:07:20.342152",
     "exception": false,
     "start_time": "2021-04-25T00:07:20.298327",
     "status": "completed"
    },
    "tags": []
   },
   "outputs": [],
   "source": [
    "#hide\n",
    "# g.head()"
   ]
  },
  {
   "cell_type": "code",
   "execution_count": 26,
   "id": "specific-kruger",
   "metadata": {
    "execution": {
     "iopub.execute_input": "2021-04-25T00:07:20.416365Z",
     "iopub.status.busy": "2021-04-25T00:07:20.415772Z",
     "iopub.status.idle": "2021-04-25T00:07:20.418060Z",
     "shell.execute_reply": "2021-04-25T00:07:20.417582Z"
    },
    "papermill": {
     "duration": 0.040818,
     "end_time": "2021-04-25T00:07:20.418188",
     "exception": false,
     "start_time": "2021-04-25T00:07:20.377370",
     "status": "completed"
    },
    "tags": []
   },
   "outputs": [],
   "source": [
    "#hide\n",
    "# g.columns = ['date','country','cases']"
   ]
  },
  {
   "cell_type": "code",
   "execution_count": 27,
   "id": "tender-conversion",
   "metadata": {
    "execution": {
     "iopub.execute_input": "2021-04-25T00:07:20.498280Z",
     "iopub.status.busy": "2021-04-25T00:07:20.497639Z",
     "iopub.status.idle": "2021-04-25T00:07:20.500330Z",
     "shell.execute_reply": "2021-04-25T00:07:20.500895Z"
    },
    "papermill": {
     "duration": 0.04557,
     "end_time": "2021-04-25T00:07:20.501053",
     "exception": false,
     "start_time": "2021-04-25T00:07:20.455483",
     "status": "completed"
    },
    "tags": []
   },
   "outputs": [],
   "source": [
    "#hide\n",
    "# g['continent'] = g.country"
   ]
  },
  {
   "cell_type": "code",
   "execution_count": 28,
   "id": "substantial-wilderness",
   "metadata": {
    "execution": {
     "iopub.execute_input": "2021-04-25T00:07:20.577093Z",
     "iopub.status.busy": "2021-04-25T00:07:20.576275Z",
     "iopub.status.idle": "2021-04-25T00:07:20.578196Z",
     "shell.execute_reply": "2021-04-25T00:07:20.577702Z"
    },
    "papermill": {
     "duration": 0.041421,
     "end_time": "2021-04-25T00:07:20.578323",
     "exception": false,
     "start_time": "2021-04-25T00:07:20.536902",
     "status": "completed"
    },
    "tags": []
   },
   "outputs": [],
   "source": [
    "#hide\n",
    "# cols = list(g.columns.values)"
   ]
  },
  {
   "cell_type": "code",
   "execution_count": 29,
   "id": "solved-farming",
   "metadata": {
    "execution": {
     "iopub.execute_input": "2021-04-25T00:07:20.656663Z",
     "iopub.status.busy": "2021-04-25T00:07:20.656040Z",
     "iopub.status.idle": "2021-04-25T00:07:20.658334Z",
     "shell.execute_reply": "2021-04-25T00:07:20.657826Z"
    },
    "papermill": {
     "duration": 0.043768,
     "end_time": "2021-04-25T00:07:20.658464",
     "exception": false,
     "start_time": "2021-04-25T00:07:20.614696",
     "status": "completed"
    },
    "tags": []
   },
   "outputs": [],
   "source": [
    "#hide\n",
    "# cols.insert(0, cols.pop())"
   ]
  },
  {
   "cell_type": "code",
   "execution_count": 30,
   "id": "executed-adoption",
   "metadata": {
    "execution": {
     "iopub.execute_input": "2021-04-25T00:07:20.740019Z",
     "iopub.status.busy": "2021-04-25T00:07:20.739414Z",
     "iopub.status.idle": "2021-04-25T00:07:20.741351Z",
     "shell.execute_reply": "2021-04-25T00:07:20.741844Z"
    },
    "papermill": {
     "duration": 0.045155,
     "end_time": "2021-04-25T00:07:20.741995",
     "exception": false,
     "start_time": "2021-04-25T00:07:20.696840",
     "status": "completed"
    },
    "tags": []
   },
   "outputs": [],
   "source": [
    "#hide\n",
    "# g = g[cols]"
   ]
  },
  {
   "cell_type": "code",
   "execution_count": 31,
   "id": "subject-dublin",
   "metadata": {
    "execution": {
     "iopub.execute_input": "2021-04-25T00:07:20.818248Z",
     "iopub.status.busy": "2021-04-25T00:07:20.817649Z",
     "iopub.status.idle": "2021-04-25T00:07:20.819151Z",
     "shell.execute_reply": "2021-04-25T00:07:20.819642Z"
    },
    "papermill": {
     "duration": 0.041773,
     "end_time": "2021-04-25T00:07:20.819789",
     "exception": false,
     "start_time": "2021-04-25T00:07:20.778016",
     "status": "completed"
    },
    "tags": []
   },
   "outputs": [],
   "source": [
    "#hide\n",
    "# g['continent'] = g['continent'].map(mapping['map.continent'])"
   ]
  },
  {
   "cell_type": "code",
   "execution_count": 32,
   "id": "freelance-scout",
   "metadata": {
    "execution": {
     "iopub.execute_input": "2021-04-25T00:07:20.901058Z",
     "iopub.status.busy": "2021-04-25T00:07:20.900465Z",
     "iopub.status.idle": "2021-04-25T00:07:20.903668Z",
     "shell.execute_reply": "2021-04-25T00:07:20.904160Z"
    },
    "papermill": {
     "duration": 0.047906,
     "end_time": "2021-04-25T00:07:20.904315",
     "exception": false,
     "start_time": "2021-04-25T00:07:20.856409",
     "status": "completed"
    },
    "tags": []
   },
   "outputs": [],
   "source": [
    "#hide\n",
    "# g.head()"
   ]
  },
  {
   "cell_type": "code",
   "execution_count": 33,
   "id": "limited-engine",
   "metadata": {
    "execution": {
     "iopub.execute_input": "2021-04-25T00:07:20.983056Z",
     "iopub.status.busy": "2021-04-25T00:07:20.982452Z",
     "iopub.status.idle": "2021-04-25T00:07:20.984775Z",
     "shell.execute_reply": "2021-04-25T00:07:20.984276Z"
    },
    "papermill": {
     "duration": 0.041934,
     "end_time": "2021-04-25T00:07:20.984902",
     "exception": false,
     "start_time": "2021-04-25T00:07:20.942968",
     "status": "completed"
    },
    "tags": []
   },
   "outputs": [],
   "source": [
    "# hide\n",
    "# g['date'] = g['date'].astype('datetime64[ns]')"
   ]
  },
  {
   "cell_type": "code",
   "execution_count": 34,
   "id": "sophisticated-supervisor",
   "metadata": {
    "execution": {
     "iopub.execute_input": "2021-04-25T00:07:21.059031Z",
     "iopub.status.busy": "2021-04-25T00:07:21.058402Z",
     "iopub.status.idle": "2021-04-25T00:07:21.062297Z",
     "shell.execute_reply": "2021-04-25T00:07:21.062859Z"
    },
    "papermill": {
     "duration": 0.043048,
     "end_time": "2021-04-25T00:07:21.063009",
     "exception": false,
     "start_time": "2021-04-25T00:07:21.019961",
     "status": "completed"
    },
    "tags": []
   },
   "outputs": [],
   "source": [
    "#hide\n",
    "# g['date'] = g.date.dt.dayofyear"
   ]
  },
  {
   "cell_type": "code",
   "execution_count": 35,
   "id": "inside-dubai",
   "metadata": {
    "execution": {
     "iopub.execute_input": "2021-04-25T00:07:21.140941Z",
     "iopub.status.busy": "2021-04-25T00:07:21.140348Z",
     "iopub.status.idle": "2021-04-25T00:07:21.142809Z",
     "shell.execute_reply": "2021-04-25T00:07:21.143363Z"
    },
    "papermill": {
     "duration": 0.044892,
     "end_time": "2021-04-25T00:07:21.143510",
     "exception": false,
     "start_time": "2021-04-25T00:07:21.098618",
     "status": "completed"
    },
    "tags": []
   },
   "outputs": [],
   "source": [
    "#hide\n",
    "# g = g.rename(columns= {'continent':'group','country':'name','cases':'value'})"
   ]
  },
  {
   "cell_type": "code",
   "execution_count": 36,
   "id": "fleet-motorcycle",
   "metadata": {
    "execution": {
     "iopub.execute_input": "2021-04-25T00:07:21.228179Z",
     "iopub.status.busy": "2021-04-25T00:07:21.227587Z",
     "iopub.status.idle": "2021-04-25T00:07:21.230169Z",
     "shell.execute_reply": "2021-04-25T00:07:21.230613Z"
    },
    "papermill": {
     "duration": 0.048376,
     "end_time": "2021-04-25T00:07:21.230765",
     "exception": false,
     "start_time": "2021-04-25T00:07:21.182389",
     "status": "completed"
    },
    "tags": []
   },
   "outputs": [],
   "source": [
    "#hide\n",
    "# cols = ['name','group','day','value']"
   ]
  },
  {
   "cell_type": "code",
   "execution_count": 37,
   "id": "continued-sleeping",
   "metadata": {
    "execution": {
     "iopub.execute_input": "2021-04-25T00:07:21.307978Z",
     "iopub.status.busy": "2021-04-25T00:07:21.307378Z",
     "iopub.status.idle": "2021-04-25T00:07:21.309705Z",
     "shell.execute_reply": "2021-04-25T00:07:21.310153Z"
    },
    "papermill": {
     "duration": 0.042756,
     "end_time": "2021-04-25T00:07:21.310303",
     "exception": false,
     "start_time": "2021-04-25T00:07:21.267547",
     "status": "completed"
    },
    "tags": []
   },
   "outputs": [],
   "source": [
    "#hide\n",
    "# g.rename(columns= {'date':'day'},inplace = True)"
   ]
  },
  {
   "cell_type": "code",
   "execution_count": 38,
   "id": "major-fight",
   "metadata": {
    "execution": {
     "iopub.execute_input": "2021-04-25T00:07:21.385414Z",
     "iopub.status.busy": "2021-04-25T00:07:21.384768Z",
     "iopub.status.idle": "2021-04-25T00:07:21.387233Z",
     "shell.execute_reply": "2021-04-25T00:07:21.387794Z"
    },
    "papermill": {
     "duration": 0.042524,
     "end_time": "2021-04-25T00:07:21.387945",
     "exception": false,
     "start_time": "2021-04-25T00:07:21.345421",
     "status": "completed"
    },
    "tags": []
   },
   "outputs": [],
   "source": [
    "#hide\n",
    "# g = g[cols]"
   ]
  },
  {
   "cell_type": "code",
   "execution_count": 39,
   "id": "structured-mobile",
   "metadata": {
    "execution": {
     "iopub.execute_input": "2021-04-25T00:07:21.463046Z",
     "iopub.status.busy": "2021-04-25T00:07:21.462456Z",
     "iopub.status.idle": "2021-04-25T00:07:21.465094Z",
     "shell.execute_reply": "2021-04-25T00:07:21.464592Z"
    },
    "papermill": {
     "duration": 0.042279,
     "end_time": "2021-04-25T00:07:21.465241",
     "exception": false,
     "start_time": "2021-04-25T00:07:21.422962",
     "status": "completed"
    },
    "tags": []
   },
   "outputs": [],
   "source": [
    "# #hide\n",
    "# g = g[g.group.notna()]"
   ]
  },
  {
   "cell_type": "code",
   "execution_count": 40,
   "id": "determined-closing",
   "metadata": {
    "execution": {
     "iopub.execute_input": "2021-04-25T00:07:21.539621Z",
     "iopub.status.busy": "2021-04-25T00:07:21.539028Z",
     "iopub.status.idle": "2021-04-25T00:07:21.541870Z",
     "shell.execute_reply": "2021-04-25T00:07:21.541389Z"
    },
    "papermill": {
     "duration": 0.041761,
     "end_time": "2021-04-25T00:07:21.541998",
     "exception": false,
     "start_time": "2021-04-25T00:07:21.500237",
     "status": "completed"
    },
    "tags": []
   },
   "outputs": [],
   "source": [
    "# #hide\n",
    "# colors = dict(zip(\n",
    "#     [\"Oceania\", \"Europe\", \"Asia\", \"South America\", \"Middle East\", \"North America\", \"Africa\"],\n",
    "#     [\"#adb0ff\", \"#ffb3ff\", \"#90d595\", \"#e48381\", \"#aafbff\", \"#f7bb5f\", \"#eafb50\"]\n",
    "# ))\n",
    "# group_lk = g.set_index('name')['group'].to_dict()"
   ]
  },
  {
   "cell_type": "code",
   "execution_count": null,
   "id": "gross-drinking",
   "metadata": {
    "papermill": {
     "duration": 0.034924,
     "end_time": "2021-04-25T00:07:21.611846",
     "exception": false,
     "start_time": "2021-04-25T00:07:21.576922",
     "status": "completed"
    },
    "tags": []
   },
   "outputs": [],
   "source": []
  },
  {
   "cell_type": "code",
   "execution_count": 41,
   "id": "subject-macintosh",
   "metadata": {
    "execution": {
     "iopub.execute_input": "2021-04-25T00:07:21.686767Z",
     "iopub.status.busy": "2021-04-25T00:07:21.686139Z",
     "iopub.status.idle": "2021-04-25T00:07:21.688678Z",
     "shell.execute_reply": "2021-04-25T00:07:21.689147Z"
    },
    "papermill": {
     "duration": 0.042574,
     "end_time": "2021-04-25T00:07:21.689307",
     "exception": false,
     "start_time": "2021-04-25T00:07:21.646733",
     "status": "completed"
    },
    "tags": []
   },
   "outputs": [],
   "source": [
    "# #hide\n",
    "# fig, ax = plt.subplots(figsize=(15, 8))\n",
    "\n",
    "# def draw_barchart(current_day):\n",
    "#     dff = g[g['day'].eq(current_day)].sort_values(by='value', ascending=True).tail(10)\n",
    "#     ax.clear()\n",
    "#     ax.barh(dff['name'], dff['value'], color=[colors[group_lk[x]] for x in dff['name']])\n",
    "#     dx = dff['value'].max() / 200\n",
    "    \n",
    "#     for i, (value, name) in enumerate(zip(dff['value'], dff['name'])):\n",
    "#         ax.text(value-dx, i,     name,           size=14, weight=600, ha='right', va='bottom')\n",
    "#         ax.text(value-dx, i-.25, group_lk[name], size=10, color='#444444', ha='right', va='baseline')\n",
    "#         ax.text(value+dx, i,     f'{value:,.0f}',  size=14, ha='left',  va='center')\n",
    "#     ax.text(1, 0.4, current_day, transform=ax.transAxes, color='#777777', size=46, ha='right', weight=800)\n",
    "#     ax.text(0, 1.06, 'Population (thousands)', transform=ax.transAxes, size=12, color='#777777')\n",
    "#     ax.xaxis.set_major_formatter(ticker.StrMethodFormatter('{x:,.0f}'))\n",
    "#     ax.xaxis.set_ticks_position('top')\n",
    "#     ax.tick_params(axis='x', colors='#777777', labelsize=12)\n",
    "#     ax.set_yticks([])\n",
    "#     ax.margins(0, 0.01)\n",
    "#     ax.grid(which='major', axis='x', linestyle='-')\n",
    "#     ax.set_axisbelow(True)\n",
    "    \n",
    "#     ax.text(0, 1.15, 'Coronavirus',\n",
    "#             transform=ax.transAxes, size=24, weight=600, ha='left', va='top')\n",
    "# #     ax.text(1, 0, 'by @pratapvardhan; credit @jburnmurdoch', transform=ax.transAxes, color='#777777', ha='right',\n",
    "# #             bbox=dict(facecolor='white', alpha=0.8, edgecolor='white'))\n",
    "#     plt.box(False)"
   ]
  },
  {
   "cell_type": "code",
   "execution_count": 42,
   "id": "sexual-wages",
   "metadata": {
    "execution": {
     "iopub.execute_input": "2021-04-25T00:07:21.764551Z",
     "iopub.status.busy": "2021-04-25T00:07:21.763957Z",
     "iopub.status.idle": "2021-04-25T00:07:21.766307Z",
     "shell.execute_reply": "2021-04-25T00:07:21.766861Z"
    },
    "papermill": {
     "duration": 0.04257,
     "end_time": "2021-04-25T00:07:21.767006",
     "exception": false,
     "start_time": "2021-04-25T00:07:21.724436",
     "status": "completed"
    },
    "tags": []
   },
   "outputs": [],
   "source": [
    "# #hide_input\n",
    "# fig, ax = plt.subplots(figsize=(15, 8))\n",
    "# animator = animation.FuncAnimation(fig, draw_barchart, frames=range(g.day.values.min(), g.day.values.max()))\n",
    "# HTML(animator.to_jshtml())\n",
    "# # or use animator.to_html5_video() or animator.save() "
   ]
  },
  {
   "cell_type": "code",
   "execution_count": null,
   "id": "australian-container",
   "metadata": {
    "papermill": {
     "duration": 0.034773,
     "end_time": "2021-04-25T00:07:21.836837",
     "exception": false,
     "start_time": "2021-04-25T00:07:21.802064",
     "status": "completed"
    },
    "tags": []
   },
   "outputs": [],
   "source": []
  },
  {
   "cell_type": "code",
   "execution_count": null,
   "id": "mediterranean-pontiac",
   "metadata": {
    "papermill": {
     "duration": 0.035407,
     "end_time": "2021-04-25T00:07:21.907194",
     "exception": false,
     "start_time": "2021-04-25T00:07:21.871787",
     "status": "completed"
    },
    "tags": []
   },
   "outputs": [],
   "source": []
  },
  {
   "cell_type": "code",
   "execution_count": null,
   "id": "aging-legislature",
   "metadata": {
    "papermill": {
     "duration": 0.034381,
     "end_time": "2021-04-25T00:07:21.976720",
     "exception": false,
     "start_time": "2021-04-25T00:07:21.942339",
     "status": "completed"
    },
    "tags": []
   },
   "outputs": [],
   "source": []
  }
 ],
 "metadata": {
  "kernelspec": {
   "display_name": "Python 3",
   "language": "python",
   "name": "python3"
  },
  "language_info": {
   "codemirror_mode": {
    "name": "ipython",
    "version": 3
   },
   "file_extension": ".py",
   "mimetype": "text/x-python",
   "name": "python",
   "nbconvert_exporter": "python",
   "pygments_lexer": "ipython3",
   "version": "3.6.13"
  },
  "papermill": {
   "duration": 6.888183,
   "end_time": "2021-04-25T00:07:22.420334",
   "environment_variables": {},
   "exception": null,
   "input_path": "2020-03-21-covid19exp.ipynb",
   "output_path": "2020-03-21-covid19exp.ipynb",
   "parameters": {},
   "start_time": "2021-04-25T00:07:15.532151",
   "version": "2.0.0"
  }
 },
 "nbformat": 4,
 "nbformat_minor": 5
}