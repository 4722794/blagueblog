{
 "cells": [
  {
   "cell_type": "markdown",
   "id": "muslim-click",
   "metadata": {
    "papermill": {
     "duration": 0.042602,
     "end_time": "2021-06-18T00:19:41.578846",
     "exception": false,
     "start_time": "2021-06-18T00:19:41.536244",
     "status": "completed"
    },
    "tags": []
   },
   "source": [
    "# COVID-19 Case Race\n",
    "> A race chart to see rising cases around the world\n",
    "\n",
    "- author: Hargun Oberoi\n",
    "- image: images/covid-overview.png\n",
    "- hide: false\n",
    "- badges: false"
   ]
  },
  {
   "cell_type": "code",
   "execution_count": 1,
   "id": "proof-material",
   "metadata": {
    "execution": {
     "iopub.execute_input": "2021-06-18T00:19:41.668323Z",
     "iopub.status.busy": "2021-06-18T00:19:41.667674Z",
     "iopub.status.idle": "2021-06-18T00:19:42.033533Z",
     "shell.execute_reply": "2021-06-18T00:19:42.032953Z"
    },
    "papermill": {
     "duration": 0.414437,
     "end_time": "2021-06-18T00:19:42.033715",
     "exception": false,
     "start_time": "2021-06-18T00:19:41.619278",
     "status": "completed"
    },
    "tags": []
   },
   "outputs": [],
   "source": [
    "#hide\n",
    "import numpy as np\n",
    "import pandas as pd\n",
    "from jinja2 import Template\n",
    "from IPython.display import HTML"
   ]
  },
  {
   "cell_type": "code",
   "execution_count": 2,
   "id": "developed-terminology",
   "metadata": {
    "execution": {
     "iopub.execute_input": "2021-06-18T00:19:42.116064Z",
     "iopub.status.busy": "2021-06-18T00:19:42.115417Z",
     "iopub.status.idle": "2021-06-18T00:19:42.117324Z",
     "shell.execute_reply": "2021-06-18T00:19:42.117924Z"
    },
    "papermill": {
     "duration": 0.044854,
     "end_time": "2021-06-18T00:19:42.118064",
     "exception": false,
     "start_time": "2021-06-18T00:19:42.073210",
     "status": "completed"
    },
    "tags": []
   },
   "outputs": [],
   "source": [
    "#hide\n",
    "\n",
    "# FETCH\n",
    "base_url = 'https://raw.githubusercontent.com/pratapvardhan/notebooks/master/covid19/'\n",
    "paths = {\n",
    "    'mapping': base_url + 'mapping_countries.csv',\n",
    "    'overview': base_url + 'overview.tpl'\n",
    "}"
   ]
  },
  {
   "cell_type": "code",
   "execution_count": 3,
   "id": "dynamic-saver",
   "metadata": {
    "execution": {
     "iopub.execute_input": "2021-06-18T00:19:42.204173Z",
     "iopub.status.busy": "2021-06-18T00:19:42.201458Z",
     "iopub.status.idle": "2021-06-18T00:19:42.207608Z",
     "shell.execute_reply": "2021-06-18T00:19:42.206921Z"
    },
    "papermill": {
     "duration": 0.051812,
     "end_time": "2021-06-18T00:19:42.207740",
     "exception": false,
     "start_time": "2021-06-18T00:19:42.155928",
     "status": "completed"
    },
    "tags": []
   },
   "outputs": [
    {
     "data": {
      "text/plain": [
       "'https://raw.githubusercontent.com/pratapvardhan/notebooks/master/covid19/mapping_countries.csv'"
      ]
     },
     "execution_count": 3,
     "metadata": {},
     "output_type": "execute_result"
    }
   ],
   "source": [
    "#hide\n",
    "paths['mapping']"
   ]
  },
  {
   "cell_type": "code",
   "execution_count": 4,
   "id": "urban-software",
   "metadata": {
    "execution": {
     "iopub.execute_input": "2021-06-18T00:19:42.290066Z",
     "iopub.status.busy": "2021-06-18T00:19:42.289394Z",
     "iopub.status.idle": "2021-06-18T00:19:42.291224Z",
     "shell.execute_reply": "2021-06-18T00:19:42.291825Z"
    },
    "papermill": {
     "duration": 0.045137,
     "end_time": "2021-06-18T00:19:42.291963",
     "exception": false,
     "start_time": "2021-06-18T00:19:42.246826",
     "status": "completed"
    },
    "tags": []
   },
   "outputs": [],
   "source": [
    "#hide\n",
    "def get_mappings(url):\n",
    "    df = pd.read_csv(url)\n",
    "    return {\n",
    "        'df': df,\n",
    "        'replace.country': dict(df.dropna(subset=['Name']).set_index('Country')['Name']),\n",
    "        'map.continent': dict(df.set_index('Name')['Continent'])\n",
    "    }"
   ]
  },
  {
   "cell_type": "code",
   "execution_count": 5,
   "id": "intimate-machinery",
   "metadata": {
    "execution": {
     "iopub.execute_input": "2021-06-18T00:19:42.373746Z",
     "iopub.status.busy": "2021-06-18T00:19:42.373080Z",
     "iopub.status.idle": "2021-06-18T00:19:42.412424Z",
     "shell.execute_reply": "2021-06-18T00:19:42.411888Z"
    },
    "papermill": {
     "duration": 0.082478,
     "end_time": "2021-06-18T00:19:42.412559",
     "exception": false,
     "start_time": "2021-06-18T00:19:42.330081",
     "status": "completed"
    },
    "tags": []
   },
   "outputs": [],
   "source": [
    "#hide\n",
    "mapping = get_mappings(paths['mapping'])"
   ]
  },
  {
   "cell_type": "code",
   "execution_count": 6,
   "id": "certified-tactics",
   "metadata": {
    "execution": {
     "iopub.execute_input": "2021-06-18T00:19:42.494446Z",
     "iopub.status.busy": "2021-06-18T00:19:42.493799Z",
     "iopub.status.idle": "2021-06-18T00:19:42.496025Z",
     "shell.execute_reply": "2021-06-18T00:19:42.496581Z"
    },
    "papermill": {
     "duration": 0.046115,
     "end_time": "2021-06-18T00:19:42.496721",
     "exception": false,
     "start_time": "2021-06-18T00:19:42.450606",
     "status": "completed"
    },
    "tags": []
   },
   "outputs": [],
   "source": [
    "#hide\n",
    "def get_template(path):\n",
    "    from urllib.parse import urlparse\n",
    "    if bool(urlparse(path).netloc):\n",
    "        from urllib.request import urlopen\n",
    "        return urlopen(path).read().decode('utf8')\n",
    "    return open(path).read()"
   ]
  },
  {
   "cell_type": "code",
   "execution_count": 7,
   "id": "realistic-blast",
   "metadata": {
    "execution": {
     "iopub.execute_input": "2021-06-18T00:19:42.582385Z",
     "iopub.status.busy": "2021-06-18T00:19:42.581740Z",
     "iopub.status.idle": "2021-06-18T00:19:42.583556Z",
     "shell.execute_reply": "2021-06-18T00:19:42.584113Z"
    },
    "papermill": {
     "duration": 0.047864,
     "end_time": "2021-06-18T00:19:42.584256",
     "exception": false,
     "start_time": "2021-06-18T00:19:42.536392",
     "status": "completed"
    },
    "tags": []
   },
   "outputs": [],
   "source": [
    "#hide\n",
    "def get_frame(name):\n",
    "    url = (\n",
    "        'https://raw.githubusercontent.com/CSSEGISandData/COVID-19/master/csse_covid_19_data/'\n",
    "        f'csse_covid_19_time_series/time_series_covid19_{name}_global.csv')\n",
    "    df = pd.read_csv(url)\n",
    "    # rename countries\n",
    "    df['Country/Region'] = df['Country/Region'].replace(mapping['replace.country'])\n",
    "    return df"
   ]
  },
  {
   "cell_type": "code",
   "execution_count": 8,
   "id": "affiliated-characterization",
   "metadata": {
    "execution": {
     "iopub.execute_input": "2021-06-18T00:19:42.667081Z",
     "iopub.status.busy": "2021-06-18T00:19:42.666439Z",
     "iopub.status.idle": "2021-06-18T00:19:42.668310Z",
     "shell.execute_reply": "2021-06-18T00:19:42.668832Z"
    },
    "papermill": {
     "duration": 0.045402,
     "end_time": "2021-06-18T00:19:42.668972",
     "exception": false,
     "start_time": "2021-06-18T00:19:42.623570",
     "status": "completed"
    },
    "tags": []
   },
   "outputs": [],
   "source": [
    "#hide\n",
    "def get_dates(df):\n",
    "    dt_cols = df.columns[~df.columns.isin(['Province/State', 'Country/Region', 'Lat', 'Long'])]\n",
    "    LAST_DATE_I = -1\n",
    "    # sometimes last column may be empty, then go backwards\n",
    "    for i in range(-1, -len(dt_cols), -1):\n",
    "        if not df[dt_cols[i]].fillna(0).eq(0).all():\n",
    "            LAST_DATE_I = i\n",
    "            break\n",
    "    return LAST_DATE_I, dt_cols"
   ]
  },
  {
   "cell_type": "code",
   "execution_count": 9,
   "id": "recent-optimization",
   "metadata": {
    "execution": {
     "iopub.execute_input": "2021-06-18T00:19:42.751426Z",
     "iopub.status.busy": "2021-06-18T00:19:42.750773Z",
     "iopub.status.idle": "2021-06-18T00:19:43.145343Z",
     "shell.execute_reply": "2021-06-18T00:19:43.144780Z"
    },
    "papermill": {
     "duration": 0.439054,
     "end_time": "2021-06-18T00:19:43.145485",
     "exception": false,
     "start_time": "2021-06-18T00:19:42.706431",
     "status": "completed"
    },
    "tags": []
   },
   "outputs": [],
   "source": [
    "#hide\n",
    "COL_REGION = 'Country/Region'\n",
    "# Confirmed, Recovered, Deaths\n",
    "df = get_frame('confirmed')\n",
    "# dft_: timeseries, dfc_: today country agg\n",
    "dft_cases = df\n",
    "dft_deaths = get_frame('deaths')\n",
    "dft_recovered = get_frame('recovered')\n",
    "LAST_DATE_I, dt_cols = get_dates(df)"
   ]
  },
  {
   "cell_type": "code",
   "execution_count": 10,
   "id": "absolute-copper",
   "metadata": {
    "execution": {
     "iopub.execute_input": "2021-06-18T00:19:43.227986Z",
     "iopub.status.busy": "2021-06-18T00:19:43.227344Z",
     "iopub.status.idle": "2021-06-18T00:19:43.229175Z",
     "shell.execute_reply": "2021-06-18T00:19:43.230131Z"
    },
    "papermill": {
     "duration": 0.046396,
     "end_time": "2021-06-18T00:19:43.230281",
     "exception": false,
     "start_time": "2021-06-18T00:19:43.183885",
     "status": "completed"
    },
    "tags": []
   },
   "outputs": [],
   "source": [
    "#hide\n",
    "LAST_DATE_I, dt_cols = get_dates(df)\n",
    "dt_today =dt_cols[LAST_DATE_I]\n",
    "# dt_5day = dt_cols[LAST_DATE_I - 5]\n",
    "dt_yday = dt_cols[LAST_DATE_I - 1]"
   ]
  },
  {
   "cell_type": "code",
   "execution_count": 11,
   "id": "restricted-sheriff",
   "metadata": {
    "execution": {
     "iopub.execute_input": "2021-06-18T00:19:43.313263Z",
     "iopub.status.busy": "2021-06-18T00:19:43.312490Z",
     "iopub.status.idle": "2021-06-18T00:19:43.321511Z",
     "shell.execute_reply": "2021-06-18T00:19:43.320959Z"
    },
    "papermill": {
     "duration": 0.052666,
     "end_time": "2021-06-18T00:19:43.321641",
     "exception": false,
     "start_time": "2021-06-18T00:19:43.268975",
     "status": "completed"
    },
    "tags": []
   },
   "outputs": [],
   "source": [
    "#hide\n",
    "dfc_cases = dft_cases.groupby(COL_REGION)[dt_today].sum()\n",
    "dfc_deaths = dft_deaths.groupby(COL_REGION)[dt_today].sum()\n",
    "# dfp_cases = dft_cases.groupby(COL_REGION)[dt_5day].sum()\n",
    "# dfp_deaths = dft_deaths.groupby(COL_REGION)[dt_5day].sum()\n",
    "dfp_cases = dft_cases.groupby(COL_REGION)[dt_yday].sum()\n",
    "dfp_deaths = dft_deaths.groupby(COL_REGION)[dt_yday].sum()"
   ]
  },
  {
   "cell_type": "code",
   "execution_count": 12,
   "id": "deluxe-hepatitis",
   "metadata": {
    "execution": {
     "iopub.execute_input": "2021-06-18T00:19:43.406355Z",
     "iopub.status.busy": "2021-06-18T00:19:43.405705Z",
     "iopub.status.idle": "2021-06-18T00:19:43.410808Z",
     "shell.execute_reply": "2021-06-18T00:19:43.410259Z"
    },
    "papermill": {
     "duration": 0.049155,
     "end_time": "2021-06-18T00:19:43.410936",
     "exception": false,
     "start_time": "2021-06-18T00:19:43.361781",
     "status": "completed"
    },
    "tags": []
   },
   "outputs": [],
   "source": [
    "#hide\n",
    "df_table = (pd.DataFrame(dict(Cases = dfc_cases, Deaths = dfc_deaths, PCases = dfp_cases, PDeaths = dfp_deaths))\n",
    "            .sort_values(by = ['Cases','Deaths'], ascending = [False, False])\n",
    "            .reset_index())"
   ]
  },
  {
   "cell_type": "code",
   "execution_count": 13,
   "id": "educational-chancellor",
   "metadata": {
    "execution": {
     "iopub.execute_input": "2021-06-18T00:19:43.508331Z",
     "iopub.status.busy": "2021-06-18T00:19:43.507680Z",
     "iopub.status.idle": "2021-06-18T00:19:43.516777Z",
     "shell.execute_reply": "2021-06-18T00:19:43.516218Z"
    },
    "papermill": {
     "duration": 0.068093,
     "end_time": "2021-06-18T00:19:43.516909",
     "exception": false,
     "start_time": "2021-06-18T00:19:43.448816",
     "status": "completed"
    },
    "tags": []
   },
   "outputs": [
    {
     "data": {
      "text/html": [
       "<div>\n",
       "<style scoped>\n",
       "    .dataframe tbody tr th:only-of-type {\n",
       "        vertical-align: middle;\n",
       "    }\n",
       "\n",
       "    .dataframe tbody tr th {\n",
       "        vertical-align: top;\n",
       "    }\n",
       "\n",
       "    .dataframe thead th {\n",
       "        text-align: right;\n",
       "    }\n",
       "</style>\n",
       "<table border=\"1\" class=\"dataframe\">\n",
       "  <thead>\n",
       "    <tr style=\"text-align: right;\">\n",
       "      <th></th>\n",
       "      <th>Country/Region</th>\n",
       "      <th>Cases</th>\n",
       "      <th>Deaths</th>\n",
       "      <th>PCases</th>\n",
       "      <th>PDeaths</th>\n",
       "      <th>Cases (+)</th>\n",
       "      <th>Deaths (+)</th>\n",
       "      <th>Fatality Rate</th>\n",
       "      <th>Continent</th>\n",
       "    </tr>\n",
       "  </thead>\n",
       "  <tbody>\n",
       "    <tr>\n",
       "      <th>0</th>\n",
       "      <td>US</td>\n",
       "      <td>33498468</td>\n",
       "      <td>600653</td>\n",
       "      <td>33486038</td>\n",
       "      <td>600285</td>\n",
       "      <td>12430</td>\n",
       "      <td>368</td>\n",
       "      <td>1.79</td>\n",
       "      <td>North America</td>\n",
       "    </tr>\n",
       "    <tr>\n",
       "      <th>1</th>\n",
       "      <td>India</td>\n",
       "      <td>29700313</td>\n",
       "      <td>381903</td>\n",
       "      <td>29633105</td>\n",
       "      <td>379573</td>\n",
       "      <td>67208</td>\n",
       "      <td>2330</td>\n",
       "      <td>1.29</td>\n",
       "      <td>Asia</td>\n",
       "    </tr>\n",
       "    <tr>\n",
       "      <th>2</th>\n",
       "      <td>Brazil</td>\n",
       "      <td>17628588</td>\n",
       "      <td>493693</td>\n",
       "      <td>17533221</td>\n",
       "      <td>490696</td>\n",
       "      <td>95367</td>\n",
       "      <td>2997</td>\n",
       "      <td>2.80</td>\n",
       "      <td>South America</td>\n",
       "    </tr>\n",
       "    <tr>\n",
       "      <th>3</th>\n",
       "      <td>France</td>\n",
       "      <td>5809319</td>\n",
       "      <td>110740</td>\n",
       "      <td>5806255</td>\n",
       "      <td>110692</td>\n",
       "      <td>3064</td>\n",
       "      <td>48</td>\n",
       "      <td>1.91</td>\n",
       "      <td>Europe</td>\n",
       "    </tr>\n",
       "    <tr>\n",
       "      <th>4</th>\n",
       "      <td>Turkey</td>\n",
       "      <td>5348249</td>\n",
       "      <td>48950</td>\n",
       "      <td>5342028</td>\n",
       "      <td>48879</td>\n",
       "      <td>6221</td>\n",
       "      <td>71</td>\n",
       "      <td>0.92</td>\n",
       "      <td>Asia</td>\n",
       "    </tr>\n",
       "  </tbody>\n",
       "</table>\n",
       "</div>"
      ],
      "text/plain": [
       "  Country/Region     Cases  Deaths    PCases  PDeaths  Cases (+)  Deaths (+)  \\\n",
       "0             US  33498468  600653  33486038   600285      12430         368   \n",
       "1          India  29700313  381903  29633105   379573      67208        2330   \n",
       "2         Brazil  17628588  493693  17533221   490696      95367        2997   \n",
       "3         France   5809319  110740   5806255   110692       3064          48   \n",
       "4         Turkey   5348249   48950   5342028    48879       6221          71   \n",
       "\n",
       "   Fatality Rate      Continent  \n",
       "0           1.79  North America  \n",
       "1           1.29           Asia  \n",
       "2           2.80  South America  \n",
       "3           1.91         Europe  \n",
       "4           0.92           Asia  "
      ]
     },
     "execution_count": 13,
     "metadata": {},
     "output_type": "execute_result"
    }
   ],
   "source": [
    "#hide\n",
    "for c in 'Cases, Deaths'.split(', '):\n",
    "    df_table[f'{c} (+)'] = (df_table[c] - df_table[f'P{c}']).clip(0)\n",
    "    #Clip ça veut dire, les chiffres negatif sont interdit\n",
    "df_table['Fatality Rate'] = (100* df_table['Deaths']/ df_table['Cases']).round(2)\n",
    "df_table['Continent'] = df_table['Country/Region'].map(mapping['map.continent'])\n",
    "df_table.head(5)"
   ]
  },
  {
   "cell_type": "code",
   "execution_count": 14,
   "id": "aboriginal-bulgaria",
   "metadata": {
    "execution": {
     "iopub.execute_input": "2021-06-18T00:19:43.602669Z",
     "iopub.status.busy": "2021-06-18T00:19:43.602029Z",
     "iopub.status.idle": "2021-06-18T00:19:43.604915Z",
     "shell.execute_reply": "2021-06-18T00:19:43.604306Z"
    },
    "papermill": {
     "duration": 0.047636,
     "end_time": "2021-06-18T00:19:43.605044",
     "exception": false,
     "start_time": "2021-06-18T00:19:43.557408",
     "status": "completed"
    },
    "tags": []
   },
   "outputs": [],
   "source": [
    "#hide\n",
    "#delete problematic countries from table\n",
    "df_table = df_table[~df_table['Country/Region'].isin(['Cape Verde', 'Cruise Ship', 'Kosovo'])]"
   ]
  },
  {
   "cell_type": "code",
   "execution_count": 15,
   "id": "fantastic-effect",
   "metadata": {
    "execution": {
     "iopub.execute_input": "2021-06-18T00:19:43.690441Z",
     "iopub.status.busy": "2021-06-18T00:19:43.689793Z",
     "iopub.status.idle": "2021-06-18T00:19:43.710112Z",
     "shell.execute_reply": "2021-06-18T00:19:43.710672Z"
    },
    "papermill": {
     "duration": 0.06698,
     "end_time": "2021-06-18T00:19:43.710818",
     "exception": false,
     "start_time": "2021-06-18T00:19:43.643838",
     "status": "completed"
    },
    "tags": []
   },
   "outputs": [
    {
     "data": {
      "text/html": [
       "<div>\n",
       "<style scoped>\n",
       "    .dataframe tbody tr th:only-of-type {\n",
       "        vertical-align: middle;\n",
       "    }\n",
       "\n",
       "    .dataframe tbody tr th {\n",
       "        vertical-align: top;\n",
       "    }\n",
       "\n",
       "    .dataframe thead th {\n",
       "        text-align: right;\n",
       "    }\n",
       "</style>\n",
       "<table border=\"1\" class=\"dataframe\">\n",
       "  <thead>\n",
       "    <tr style=\"text-align: right;\">\n",
       "      <th></th>\n",
       "      <th>Country/Region</th>\n",
       "      <th>Cases</th>\n",
       "      <th>Deaths</th>\n",
       "      <th>PCases</th>\n",
       "      <th>PDeaths</th>\n",
       "      <th>Cases (+)</th>\n",
       "      <th>Deaths (+)</th>\n",
       "      <th>Fatality Rate</th>\n",
       "      <th>Continent</th>\n",
       "    </tr>\n",
       "  </thead>\n",
       "  <tbody>\n",
       "    <tr>\n",
       "      <th>0</th>\n",
       "      <td>US</td>\n",
       "      <td>33498468</td>\n",
       "      <td>600653</td>\n",
       "      <td>33486038</td>\n",
       "      <td>600285</td>\n",
       "      <td>12430</td>\n",
       "      <td>368</td>\n",
       "      <td>1.8</td>\n",
       "      <td>North America</td>\n",
       "    </tr>\n",
       "    <tr>\n",
       "      <th>1</th>\n",
       "      <td>India</td>\n",
       "      <td>29700313</td>\n",
       "      <td>381903</td>\n",
       "      <td>29633105</td>\n",
       "      <td>379573</td>\n",
       "      <td>67208</td>\n",
       "      <td>2330</td>\n",
       "      <td>1.3</td>\n",
       "      <td>Asia</td>\n",
       "    </tr>\n",
       "    <tr>\n",
       "      <th>2</th>\n",
       "      <td>Brazil</td>\n",
       "      <td>17628588</td>\n",
       "      <td>493693</td>\n",
       "      <td>17533221</td>\n",
       "      <td>490696</td>\n",
       "      <td>95367</td>\n",
       "      <td>2997</td>\n",
       "      <td>2.8</td>\n",
       "      <td>South America</td>\n",
       "    </tr>\n",
       "    <tr>\n",
       "      <th>3</th>\n",
       "      <td>France</td>\n",
       "      <td>5809319</td>\n",
       "      <td>110740</td>\n",
       "      <td>5806255</td>\n",
       "      <td>110692</td>\n",
       "      <td>3064</td>\n",
       "      <td>48</td>\n",
       "      <td>1.9</td>\n",
       "      <td>Europe</td>\n",
       "    </tr>\n",
       "    <tr>\n",
       "      <th>4</th>\n",
       "      <td>Turkey</td>\n",
       "      <td>5348249</td>\n",
       "      <td>48950</td>\n",
       "      <td>5342028</td>\n",
       "      <td>48879</td>\n",
       "      <td>6221</td>\n",
       "      <td>71</td>\n",
       "      <td>0.9</td>\n",
       "      <td>Asia</td>\n",
       "    </tr>\n",
       "  </tbody>\n",
       "</table>\n",
       "</div>"
      ],
      "text/plain": [
       "  Country/Region     Cases  Deaths    PCases  PDeaths  Cases (+)  Deaths (+)  \\\n",
       "0             US  33498468  600653  33486038   600285      12430         368   \n",
       "1          India  29700313  381903  29633105   379573      67208        2330   \n",
       "2         Brazil  17628588  493693  17533221   490696      95367        2997   \n",
       "3         France   5809319  110740   5806255   110692       3064          48   \n",
       "4         Turkey   5348249   48950   5342028    48879       6221          71   \n",
       "\n",
       "   Fatality Rate      Continent  \n",
       "0            1.8  North America  \n",
       "1            1.3           Asia  \n",
       "2            2.8  South America  \n",
       "3            1.9         Europe  \n",
       "4            0.9           Asia  "
      ]
     },
     "execution_count": 15,
     "metadata": {},
     "output_type": "execute_result"
    }
   ],
   "source": [
    "#hide\n",
    "df_table = (pd.DataFrame(dict(Cases=dfc_cases, Deaths=dfc_deaths, PCases=dfp_cases, PDeaths=dfp_deaths))\n",
    "             .sort_values(by=['Cases', 'Deaths'], ascending=[False, False])\n",
    "             .reset_index())\n",
    "df_table.rename(columns={'index': 'Country/Region'}, inplace=True)\n",
    "for c in 'Cases, Deaths'.split(', '):\n",
    "    df_table[f'{c} (+)'] = (df_table[c] - df_table[f'P{c}']).clip(0)  # DATA BUG\n",
    "df_table['Fatality Rate'] = (100 * df_table['Deaths'] / df_table['Cases']).round(1)\n",
    "df_table['Continent'] = df_table['Country/Region'].map(mapping['map.continent'])\n",
    "df_table.head(5)"
   ]
  },
  {
   "cell_type": "code",
   "execution_count": 16,
   "id": "fewer-occasion",
   "metadata": {
    "execution": {
     "iopub.execute_input": "2021-06-18T00:19:43.794466Z",
     "iopub.status.busy": "2021-06-18T00:19:43.793825Z",
     "iopub.status.idle": "2021-06-18T00:19:43.797291Z",
     "shell.execute_reply": "2021-06-18T00:19:43.796654Z"
    },
    "papermill": {
     "duration": 0.047615,
     "end_time": "2021-06-18T00:19:43.797416",
     "exception": false,
     "start_time": "2021-06-18T00:19:43.749801",
     "status": "completed"
    },
    "tags": []
   },
   "outputs": [],
   "source": [
    "#hide\n",
    "#delete problematic countries from table\n",
    "df_table = df_table[~df_table['Country/Region'].isin(['Cape Verde', 'Cruise Ship', 'Kosovo'])]"
   ]
  },
  {
   "cell_type": "code",
   "execution_count": 17,
   "id": "related-center",
   "metadata": {
    "execution": {
     "iopub.execute_input": "2021-06-18T00:19:43.906051Z",
     "iopub.status.busy": "2021-06-18T00:19:43.905371Z",
     "iopub.status.idle": "2021-06-18T00:19:43.908266Z",
     "shell.execute_reply": "2021-06-18T00:19:43.907716Z"
    },
    "papermill": {
     "duration": 0.063719,
     "end_time": "2021-06-18T00:19:43.908397",
     "exception": false,
     "start_time": "2021-06-18T00:19:43.844678",
     "status": "completed"
    },
    "tags": []
   },
   "outputs": [],
   "source": [
    "#hide\n",
    "metrics = [df_table.columns[index] for index in [1,2,5,6]]\n",
    "# s_china = df_table[df_table['Country/Region'].eq('China')][metrics].sum().add_prefix('China ')\n",
    "s_us = df_table[df_table['Country/Region'].eq('US')][metrics].sum().add_prefix('US ')\n",
    "s_eu = df_table[df_table['Continent'].eq('Europe')][metrics].sum().add_prefix('EU ')\n",
    "s_ind = df_table[df_table['Country/Region'].eq('India')][metrics].sum().add_prefix('India ')\n",
    "summary = {'updated': pd.to_datetime(dt_today), 'since': pd.to_datetime(dt_yday)}\n",
    "summary = {'updated': pd.to_datetime(dt_today), 'since': pd.to_datetime(dt_yday)}\n",
    "summary = {**summary, **df_table[metrics].sum(), **s_ind, **s_us, **s_eu}"
   ]
  },
  {
   "cell_type": "code",
   "execution_count": 18,
   "id": "engaging-syndrome",
   "metadata": {
    "execution": {
     "iopub.execute_input": "2021-06-18T00:19:43.993456Z",
     "iopub.status.busy": "2021-06-18T00:19:43.992816Z",
     "iopub.status.idle": "2021-06-18T00:19:44.007405Z",
     "shell.execute_reply": "2021-06-18T00:19:44.006844Z"
    },
    "papermill": {
     "duration": 0.059304,
     "end_time": "2021-06-18T00:19:44.007536",
     "exception": false,
     "start_time": "2021-06-18T00:19:43.948232",
     "status": "completed"
    },
    "tags": []
   },
   "outputs": [],
   "source": [
    "#hide\n",
    "dft_ct_new_cases = dft_cases.groupby(COL_REGION)[dt_cols].sum().diff(axis=1).fillna(0).astype(int)"
   ]
  },
  {
   "cell_type": "code",
   "execution_count": 19,
   "id": "neutral-assignment",
   "metadata": {
    "execution": {
     "iopub.execute_input": "2021-06-18T00:19:44.093820Z",
     "iopub.status.busy": "2021-06-18T00:19:44.093151Z",
     "iopub.status.idle": "2021-06-18T00:19:44.095112Z",
     "shell.execute_reply": "2021-06-18T00:19:44.095667Z"
    },
    "papermill": {
     "duration": 0.047167,
     "end_time": "2021-06-18T00:19:44.095808",
     "exception": false,
     "start_time": "2021-06-18T00:19:44.048641",
     "status": "completed"
    },
    "tags": []
   },
   "outputs": [],
   "source": [
    "#hide\n",
    "everydaycases = dft_ct_new_cases.cumsum(axis=1)"
   ]
  },
  {
   "cell_type": "code",
   "execution_count": 20,
   "id": "parliamentary-calgary",
   "metadata": {
    "execution": {
     "iopub.execute_input": "2021-06-18T00:19:44.179381Z",
     "iopub.status.busy": "2021-06-18T00:19:44.177504Z",
     "iopub.status.idle": "2021-06-18T00:19:44.775322Z",
     "shell.execute_reply": "2021-06-18T00:19:44.775844Z"
    },
    "papermill": {
     "duration": 0.641379,
     "end_time": "2021-06-18T00:19:44.776016",
     "exception": false,
     "start_time": "2021-06-18T00:19:44.134637",
     "status": "completed"
    },
    "tags": []
   },
   "outputs": [],
   "source": [
    "#hide\n",
    "import pandas as pd\n",
    "import matplotlib.pyplot as plt\n",
    "import matplotlib.ticker as ticker\n",
    "import matplotlib.animation as animation\n",
    "from IPython.display import HTML"
   ]
  },
  {
   "cell_type": "code",
   "execution_count": 21,
   "id": "lasting-extraction",
   "metadata": {
    "execution": {
     "iopub.execute_input": "2021-06-18T00:19:44.861177Z",
     "iopub.status.busy": "2021-06-18T00:19:44.860539Z",
     "iopub.status.idle": "2021-06-18T00:19:44.866381Z",
     "shell.execute_reply": "2021-06-18T00:19:44.865825Z"
    },
    "papermill": {
     "duration": 0.050036,
     "end_time": "2021-06-18T00:19:44.866509",
     "exception": false,
     "start_time": "2021-06-18T00:19:44.816473",
     "status": "completed"
    },
    "tags": []
   },
   "outputs": [],
   "source": [
    "#hide\n",
    "t = everydaycases.stack()"
   ]
  },
  {
   "cell_type": "code",
   "execution_count": 22,
   "id": "premier-sleeve",
   "metadata": {
    "execution": {
     "iopub.execute_input": "2021-06-18T00:19:44.949991Z",
     "iopub.status.busy": "2021-06-18T00:19:44.949291Z",
     "iopub.status.idle": "2021-06-18T00:19:44.957939Z",
     "shell.execute_reply": "2021-06-18T00:19:44.957352Z"
    },
    "papermill": {
     "duration": 0.052181,
     "end_time": "2021-06-18T00:19:44.958069",
     "exception": false,
     "start_time": "2021-06-18T00:19:44.905888",
     "status": "completed"
    },
    "tags": []
   },
   "outputs": [],
   "source": [
    "#hide\n",
    "g = t.reset_index(['Country/Region'])"
   ]
  },
  {
   "cell_type": "code",
   "execution_count": 23,
   "id": "distributed-pittsburgh",
   "metadata": {
    "execution": {
     "iopub.execute_input": "2021-06-18T00:19:45.042171Z",
     "iopub.status.busy": "2021-06-18T00:19:45.041452Z",
     "iopub.status.idle": "2021-06-18T00:19:45.044313Z",
     "shell.execute_reply": "2021-06-18T00:19:45.043670Z"
    },
    "papermill": {
     "duration": 0.046584,
     "end_time": "2021-06-18T00:19:45.044443",
     "exception": false,
     "start_time": "2021-06-18T00:19:44.997859",
     "status": "completed"
    },
    "tags": []
   },
   "outputs": [],
   "source": [
    "#hide\n",
    "g.index.name = 'date'"
   ]
  },
  {
   "cell_type": "code",
   "execution_count": 24,
   "id": "naked-donor",
   "metadata": {
    "execution": {
     "iopub.execute_input": "2021-06-18T00:19:45.127441Z",
     "iopub.status.busy": "2021-06-18T00:19:45.126799Z",
     "iopub.status.idle": "2021-06-18T00:19:45.129239Z",
     "shell.execute_reply": "2021-06-18T00:19:45.128688Z"
    },
    "papermill": {
     "duration": 0.045646,
     "end_time": "2021-06-18T00:19:45.129368",
     "exception": false,
     "start_time": "2021-06-18T00:19:45.083722",
     "status": "completed"
    },
    "tags": []
   },
   "outputs": [],
   "source": [
    "# #hide\n",
    "# g = g.reset_index(['date'])"
   ]
  },
  {
   "cell_type": "code",
   "execution_count": 25,
   "id": "incomplete-mustang",
   "metadata": {
    "execution": {
     "iopub.execute_input": "2021-06-18T00:19:45.213956Z",
     "iopub.status.busy": "2021-06-18T00:19:45.212490Z",
     "iopub.status.idle": "2021-06-18T00:19:45.214656Z",
     "shell.execute_reply": "2021-06-18T00:19:45.215186Z"
    },
    "papermill": {
     "duration": 0.04553,
     "end_time": "2021-06-18T00:19:45.215329",
     "exception": false,
     "start_time": "2021-06-18T00:19:45.169799",
     "status": "completed"
    },
    "tags": []
   },
   "outputs": [],
   "source": [
    "#hide\n",
    "# g.head()"
   ]
  },
  {
   "cell_type": "code",
   "execution_count": 26,
   "id": "specific-kruger",
   "metadata": {
    "execution": {
     "iopub.execute_input": "2021-06-18T00:19:45.306813Z",
     "iopub.status.busy": "2021-06-18T00:19:45.305442Z",
     "iopub.status.idle": "2021-06-18T00:19:45.307511Z",
     "shell.execute_reply": "2021-06-18T00:19:45.308037Z"
    },
    "papermill": {
     "duration": 0.044749,
     "end_time": "2021-06-18T00:19:45.308182",
     "exception": false,
     "start_time": "2021-06-18T00:19:45.263433",
     "status": "completed"
    },
    "tags": []
   },
   "outputs": [],
   "source": [
    "#hide\n",
    "# g.columns = ['date','country','cases']"
   ]
  },
  {
   "cell_type": "code",
   "execution_count": 27,
   "id": "tender-conversion",
   "metadata": {
    "execution": {
     "iopub.execute_input": "2021-06-18T00:19:45.389435Z",
     "iopub.status.busy": "2021-06-18T00:19:45.388086Z",
     "iopub.status.idle": "2021-06-18T00:19:45.390173Z",
     "shell.execute_reply": "2021-06-18T00:19:45.390699Z"
    },
    "papermill": {
     "duration": 0.044078,
     "end_time": "2021-06-18T00:19:45.390836",
     "exception": false,
     "start_time": "2021-06-18T00:19:45.346758",
     "status": "completed"
    },
    "tags": []
   },
   "outputs": [],
   "source": [
    "#hide\n",
    "# g['continent'] = g.country"
   ]
  },
  {
   "cell_type": "code",
   "execution_count": 28,
   "id": "substantial-wilderness",
   "metadata": {
    "execution": {
     "iopub.execute_input": "2021-06-18T00:19:45.474009Z",
     "iopub.status.busy": "2021-06-18T00:19:45.473308Z",
     "iopub.status.idle": "2021-06-18T00:19:45.475922Z",
     "shell.execute_reply": "2021-06-18T00:19:45.475279Z"
    },
    "papermill": {
     "duration": 0.045527,
     "end_time": "2021-06-18T00:19:45.476048",
     "exception": false,
     "start_time": "2021-06-18T00:19:45.430521",
     "status": "completed"
    },
    "tags": []
   },
   "outputs": [],
   "source": [
    "#hide\n",
    "# cols = list(g.columns.values)"
   ]
  },
  {
   "cell_type": "code",
   "execution_count": 29,
   "id": "solved-farming",
   "metadata": {
    "execution": {
     "iopub.execute_input": "2021-06-18T00:19:45.560696Z",
     "iopub.status.busy": "2021-06-18T00:19:45.560055Z",
     "iopub.status.idle": "2021-06-18T00:19:45.562474Z",
     "shell.execute_reply": "2021-06-18T00:19:45.561922Z"
    },
    "papermill": {
     "duration": 0.045965,
     "end_time": "2021-06-18T00:19:45.562599",
     "exception": false,
     "start_time": "2021-06-18T00:19:45.516634",
     "status": "completed"
    },
    "tags": []
   },
   "outputs": [],
   "source": [
    "#hide\n",
    "# cols.insert(0, cols.pop())"
   ]
  },
  {
   "cell_type": "code",
   "execution_count": 30,
   "id": "executed-adoption",
   "metadata": {
    "execution": {
     "iopub.execute_input": "2021-06-18T00:19:45.646371Z",
     "iopub.status.busy": "2021-06-18T00:19:45.645445Z",
     "iopub.status.idle": "2021-06-18T00:19:45.648983Z",
     "shell.execute_reply": "2021-06-18T00:19:45.648430Z"
    },
    "papermill": {
     "duration": 0.04671,
     "end_time": "2021-06-18T00:19:45.649110",
     "exception": false,
     "start_time": "2021-06-18T00:19:45.602400",
     "status": "completed"
    },
    "tags": []
   },
   "outputs": [],
   "source": [
    "#hide\n",
    "# g = g[cols]"
   ]
  },
  {
   "cell_type": "code",
   "execution_count": 31,
   "id": "subject-dublin",
   "metadata": {
    "execution": {
     "iopub.execute_input": "2021-06-18T00:19:45.734035Z",
     "iopub.status.busy": "2021-06-18T00:19:45.733337Z",
     "iopub.status.idle": "2021-06-18T00:19:45.735728Z",
     "shell.execute_reply": "2021-06-18T00:19:45.735097Z"
    },
    "papermill": {
     "duration": 0.04512,
     "end_time": "2021-06-18T00:19:45.735855",
     "exception": false,
     "start_time": "2021-06-18T00:19:45.690735",
     "status": "completed"
    },
    "tags": []
   },
   "outputs": [],
   "source": [
    "#hide\n",
    "# g['continent'] = g['continent'].map(mapping['map.continent'])"
   ]
  },
  {
   "cell_type": "code",
   "execution_count": 32,
   "id": "freelance-scout",
   "metadata": {
    "execution": {
     "iopub.execute_input": "2021-06-18T00:19:45.818542Z",
     "iopub.status.busy": "2021-06-18T00:19:45.817892Z",
     "iopub.status.idle": "2021-06-18T00:19:45.820323Z",
     "shell.execute_reply": "2021-06-18T00:19:45.819705Z"
    },
    "papermill": {
     "duration": 0.045161,
     "end_time": "2021-06-18T00:19:45.820447",
     "exception": false,
     "start_time": "2021-06-18T00:19:45.775286",
     "status": "completed"
    },
    "tags": []
   },
   "outputs": [],
   "source": [
    "#hide\n",
    "# g.head()"
   ]
  },
  {
   "cell_type": "code",
   "execution_count": 33,
   "id": "limited-engine",
   "metadata": {
    "execution": {
     "iopub.execute_input": "2021-06-18T00:19:45.908026Z",
     "iopub.status.busy": "2021-06-18T00:19:45.907188Z",
     "iopub.status.idle": "2021-06-18T00:19:45.909823Z",
     "shell.execute_reply": "2021-06-18T00:19:45.909239Z"
    },
    "papermill": {
     "duration": 0.046991,
     "end_time": "2021-06-18T00:19:45.909953",
     "exception": false,
     "start_time": "2021-06-18T00:19:45.862962",
     "status": "completed"
    },
    "tags": []
   },
   "outputs": [],
   "source": [
    "# hide\n",
    "# g['date'] = g['date'].astype('datetime64[ns]')"
   ]
  },
  {
   "cell_type": "code",
   "execution_count": 34,
   "id": "sophisticated-supervisor",
   "metadata": {
    "execution": {
     "iopub.execute_input": "2021-06-18T00:19:45.990947Z",
     "iopub.status.busy": "2021-06-18T00:19:45.990310Z",
     "iopub.status.idle": "2021-06-18T00:19:45.992791Z",
     "shell.execute_reply": "2021-06-18T00:19:45.992240Z"
    },
    "papermill": {
     "duration": 0.043662,
     "end_time": "2021-06-18T00:19:45.992915",
     "exception": false,
     "start_time": "2021-06-18T00:19:45.949253",
     "status": "completed"
    },
    "tags": []
   },
   "outputs": [],
   "source": [
    "#hide\n",
    "# g['date'] = g.date.dt.dayofyear"
   ]
  },
  {
   "cell_type": "code",
   "execution_count": 35,
   "id": "inside-dubai",
   "metadata": {
    "execution": {
     "iopub.execute_input": "2021-06-18T00:19:46.077393Z",
     "iopub.status.busy": "2021-06-18T00:19:46.076752Z",
     "iopub.status.idle": "2021-06-18T00:19:46.079315Z",
     "shell.execute_reply": "2021-06-18T00:19:46.078687Z"
    },
    "papermill": {
     "duration": 0.045278,
     "end_time": "2021-06-18T00:19:46.079440",
     "exception": false,
     "start_time": "2021-06-18T00:19:46.034162",
     "status": "completed"
    },
    "tags": []
   },
   "outputs": [],
   "source": [
    "#hide\n",
    "# g = g.rename(columns= {'continent':'group','country':'name','cases':'value'})"
   ]
  },
  {
   "cell_type": "code",
   "execution_count": 36,
   "id": "fleet-motorcycle",
   "metadata": {
    "execution": {
     "iopub.execute_input": "2021-06-18T00:19:46.162236Z",
     "iopub.status.busy": "2021-06-18T00:19:46.161554Z",
     "iopub.status.idle": "2021-06-18T00:19:46.163924Z",
     "shell.execute_reply": "2021-06-18T00:19:46.163291Z"
    },
    "papermill": {
     "duration": 0.045378,
     "end_time": "2021-06-18T00:19:46.164052",
     "exception": false,
     "start_time": "2021-06-18T00:19:46.118674",
     "status": "completed"
    },
    "tags": []
   },
   "outputs": [],
   "source": [
    "#hide\n",
    "# cols = ['name','group','day','value']"
   ]
  },
  {
   "cell_type": "code",
   "execution_count": 37,
   "id": "continued-sleeping",
   "metadata": {
    "execution": {
     "iopub.execute_input": "2021-06-18T00:19:46.248694Z",
     "iopub.status.busy": "2021-06-18T00:19:46.247299Z",
     "iopub.status.idle": "2021-06-18T00:19:46.249401Z",
     "shell.execute_reply": "2021-06-18T00:19:46.250156Z"
    },
    "papermill": {
     "duration": 0.046482,
     "end_time": "2021-06-18T00:19:46.250303",
     "exception": false,
     "start_time": "2021-06-18T00:19:46.203821",
     "status": "completed"
    },
    "tags": []
   },
   "outputs": [],
   "source": [
    "#hide\n",
    "# g.rename(columns= {'date':'day'},inplace = True)"
   ]
  },
  {
   "cell_type": "code",
   "execution_count": 38,
   "id": "major-fight",
   "metadata": {
    "execution": {
     "iopub.execute_input": "2021-06-18T00:19:46.332997Z",
     "iopub.status.busy": "2021-06-18T00:19:46.332359Z",
     "iopub.status.idle": "2021-06-18T00:19:46.334833Z",
     "shell.execute_reply": "2021-06-18T00:19:46.334282Z"
    },
    "papermill": {
     "duration": 0.045156,
     "end_time": "2021-06-18T00:19:46.334956",
     "exception": false,
     "start_time": "2021-06-18T00:19:46.289800",
     "status": "completed"
    },
    "tags": []
   },
   "outputs": [],
   "source": [
    "#hide\n",
    "# g = g[cols]"
   ]
  },
  {
   "cell_type": "code",
   "execution_count": 39,
   "id": "structured-mobile",
   "metadata": {
    "execution": {
     "iopub.execute_input": "2021-06-18T00:19:46.415927Z",
     "iopub.status.busy": "2021-06-18T00:19:46.415285Z",
     "iopub.status.idle": "2021-06-18T00:19:46.417679Z",
     "shell.execute_reply": "2021-06-18T00:19:46.417108Z"
    },
    "papermill": {
     "duration": 0.043985,
     "end_time": "2021-06-18T00:19:46.417806",
     "exception": false,
     "start_time": "2021-06-18T00:19:46.373821",
     "status": "completed"
    },
    "tags": []
   },
   "outputs": [],
   "source": [
    "# #hide\n",
    "# g = g[g.group.notna()]"
   ]
  },
  {
   "cell_type": "code",
   "execution_count": 40,
   "id": "determined-closing",
   "metadata": {
    "execution": {
     "iopub.execute_input": "2021-06-18T00:19:46.504513Z",
     "iopub.status.busy": "2021-06-18T00:19:46.503860Z",
     "iopub.status.idle": "2021-06-18T00:19:46.505137Z",
     "shell.execute_reply": "2021-06-18T00:19:46.506191Z"
    },
    "papermill": {
     "duration": 0.049611,
     "end_time": "2021-06-18T00:19:46.506332",
     "exception": false,
     "start_time": "2021-06-18T00:19:46.456721",
     "status": "completed"
    },
    "tags": []
   },
   "outputs": [],
   "source": [
    "# #hide\n",
    "# colors = dict(zip(\n",
    "#     [\"Oceania\", \"Europe\", \"Asia\", \"South America\", \"Middle East\", \"North America\", \"Africa\"],\n",
    "#     [\"#adb0ff\", \"#ffb3ff\", \"#90d595\", \"#e48381\", \"#aafbff\", \"#f7bb5f\", \"#eafb50\"]\n",
    "# ))\n",
    "# group_lk = g.set_index('name')['group'].to_dict()"
   ]
  },
  {
   "cell_type": "code",
   "execution_count": null,
   "id": "gross-drinking",
   "metadata": {
    "papermill": {
     "duration": 0.039069,
     "end_time": "2021-06-18T00:19:46.583640",
     "exception": false,
     "start_time": "2021-06-18T00:19:46.544571",
     "status": "completed"
    },
    "tags": []
   },
   "outputs": [],
   "source": []
  },
  {
   "cell_type": "code",
   "execution_count": 41,
   "id": "subject-macintosh",
   "metadata": {
    "execution": {
     "iopub.execute_input": "2021-06-18T00:19:46.667812Z",
     "iopub.status.busy": "2021-06-18T00:19:46.667152Z",
     "iopub.status.idle": "2021-06-18T00:19:46.669595Z",
     "shell.execute_reply": "2021-06-18T00:19:46.669043Z"
    },
    "papermill": {
     "duration": 0.046506,
     "end_time": "2021-06-18T00:19:46.669749",
     "exception": false,
     "start_time": "2021-06-18T00:19:46.623243",
     "status": "completed"
    },
    "tags": []
   },
   "outputs": [],
   "source": [
    "# #hide\n",
    "# fig, ax = plt.subplots(figsize=(15, 8))\n",
    "\n",
    "# def draw_barchart(current_day):\n",
    "#     dff = g[g['day'].eq(current_day)].sort_values(by='value', ascending=True).tail(10)\n",
    "#     ax.clear()\n",
    "#     ax.barh(dff['name'], dff['value'], color=[colors[group_lk[x]] for x in dff['name']])\n",
    "#     dx = dff['value'].max() / 200\n",
    "    \n",
    "#     for i, (value, name) in enumerate(zip(dff['value'], dff['name'])):\n",
    "#         ax.text(value-dx, i,     name,           size=14, weight=600, ha='right', va='bottom')\n",
    "#         ax.text(value-dx, i-.25, group_lk[name], size=10, color='#444444', ha='right', va='baseline')\n",
    "#         ax.text(value+dx, i,     f'{value:,.0f}',  size=14, ha='left',  va='center')\n",
    "#     ax.text(1, 0.4, current_day, transform=ax.transAxes, color='#777777', size=46, ha='right', weight=800)\n",
    "#     ax.text(0, 1.06, 'Population (thousands)', transform=ax.transAxes, size=12, color='#777777')\n",
    "#     ax.xaxis.set_major_formatter(ticker.StrMethodFormatter('{x:,.0f}'))\n",
    "#     ax.xaxis.set_ticks_position('top')\n",
    "#     ax.tick_params(axis='x', colors='#777777', labelsize=12)\n",
    "#     ax.set_yticks([])\n",
    "#     ax.margins(0, 0.01)\n",
    "#     ax.grid(which='major', axis='x', linestyle='-')\n",
    "#     ax.set_axisbelow(True)\n",
    "    \n",
    "#     ax.text(0, 1.15, 'Coronavirus',\n",
    "#             transform=ax.transAxes, size=24, weight=600, ha='left', va='top')\n",
    "# #     ax.text(1, 0, 'by @pratapvardhan; credit @jburnmurdoch', transform=ax.transAxes, color='#777777', ha='right',\n",
    "# #             bbox=dict(facecolor='white', alpha=0.8, edgecolor='white'))\n",
    "#     plt.box(False)"
   ]
  },
  {
   "cell_type": "code",
   "execution_count": 42,
   "id": "sexual-wages",
   "metadata": {
    "execution": {
     "iopub.execute_input": "2021-06-18T00:19:46.753980Z",
     "iopub.status.busy": "2021-06-18T00:19:46.753303Z",
     "iopub.status.idle": "2021-06-18T00:19:46.754657Z",
     "shell.execute_reply": "2021-06-18T00:19:46.755653Z"
    },
    "papermill": {
     "duration": 0.04534,
     "end_time": "2021-06-18T00:19:46.755800",
     "exception": false,
     "start_time": "2021-06-18T00:19:46.710460",
     "status": "completed"
    },
    "tags": []
   },
   "outputs": [],
   "source": [
    "# #hide_input\n",
    "# fig, ax = plt.subplots(figsize=(15, 8))\n",
    "# animator = animation.FuncAnimation(fig, draw_barchart, frames=range(g.day.values.min(), g.day.values.max()))\n",
    "# HTML(animator.to_jshtml())\n",
    "# # or use animator.to_html5_video() or animator.save() "
   ]
  },
  {
   "cell_type": "code",
   "execution_count": null,
   "id": "australian-container",
   "metadata": {
    "papermill": {
     "duration": 0.039053,
     "end_time": "2021-06-18T00:19:46.833253",
     "exception": false,
     "start_time": "2021-06-18T00:19:46.794200",
     "status": "completed"
    },
    "tags": []
   },
   "outputs": [],
   "source": []
  },
  {
   "cell_type": "code",
   "execution_count": null,
   "id": "mediterranean-pontiac",
   "metadata": {
    "papermill": {
     "duration": 0.039615,
     "end_time": "2021-06-18T00:19:46.911194",
     "exception": false,
     "start_time": "2021-06-18T00:19:46.871579",
     "status": "completed"
    },
    "tags": []
   },
   "outputs": [],
   "source": []
  },
  {
   "cell_type": "code",
   "execution_count": null,
   "id": "aging-legislature",
   "metadata": {
    "papermill": {
     "duration": 0.039307,
     "end_time": "2021-06-18T00:19:46.989955",
     "exception": false,
     "start_time": "2021-06-18T00:19:46.950648",
     "status": "completed"
    },
    "tags": []
   },
   "outputs": [],
   "source": []
  }
 ],
 "metadata": {
  "kernelspec": {
   "display_name": "Python 3",
   "language": "python",
   "name": "python3"
  },
  "language_info": {
   "codemirror_mode": {
    "name": "ipython",
    "version": 3
   },
   "file_extension": ".py",
   "mimetype": "text/x-python",
   "name": "python",
   "nbconvert_exporter": "python",
   "pygments_lexer": "ipython3",
   "version": "3.6.13"
  },
  "papermill": {
   "duration": 7.073292,
   "end_time": "2021-06-18T00:19:47.338900",
   "environment_variables": {},
   "exception": null,
   "input_path": "2020-03-21-covid19exp.ipynb",
   "output_path": "2020-03-21-covid19exp.ipynb",
   "parameters": {},
   "start_time": "2021-06-18T00:19:40.265608",
   "version": "2.0.0"
  }
 },
 "nbformat": 4,
 "nbformat_minor": 5
}