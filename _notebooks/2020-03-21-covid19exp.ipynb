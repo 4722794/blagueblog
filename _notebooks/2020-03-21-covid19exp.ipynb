{
 "cells": [
  {
   "cell_type": "markdown",
   "id": "muslim-click",
   "metadata": {
    "papermill": {
     "duration": 0.033609,
     "end_time": "2022-06-20T12:15:47.339312",
     "exception": false,
     "start_time": "2022-06-20T12:15:47.305703",
     "status": "completed"
    },
    "tags": []
   },
   "source": [
    "# COVID-19 Case Race\n",
    "> A race chart to see rising cases around the world\n",
    "\n",
    "- author: Hargun Oberoi\n",
    "- image: images/covid-overview.png\n",
    "- hide: false\n",
    "- badges: false"
   ]
  },
  {
   "cell_type": "code",
   "execution_count": 1,
   "id": "proof-material",
   "metadata": {
    "execution": {
     "iopub.execute_input": "2022-06-20T12:15:47.410857Z",
     "iopub.status.busy": "2022-06-20T12:15:47.410259Z",
     "iopub.status.idle": "2022-06-20T12:15:47.737056Z",
     "shell.execute_reply": "2022-06-20T12:15:47.736519Z"
    },
    "papermill": {
     "duration": 0.366382,
     "end_time": "2022-06-20T12:15:47.737202",
     "exception": false,
     "start_time": "2022-06-20T12:15:47.370820",
     "status": "completed"
    },
    "tags": []
   },
   "outputs": [],
   "source": [
    "#hide\n",
    "import numpy as np\n",
    "import pandas as pd\n",
    "from jinja2 import Template\n",
    "from IPython.display import HTML"
   ]
  },
  {
   "cell_type": "code",
   "execution_count": 2,
   "id": "developed-terminology",
   "metadata": {
    "execution": {
     "iopub.execute_input": "2022-06-20T12:15:47.805294Z",
     "iopub.status.busy": "2022-06-20T12:15:47.804588Z",
     "iopub.status.idle": "2022-06-20T12:15:47.806258Z",
     "shell.execute_reply": "2022-06-20T12:15:47.806722Z"
    },
    "papermill": {
     "duration": 0.037778,
     "end_time": "2022-06-20T12:15:47.806849",
     "exception": false,
     "start_time": "2022-06-20T12:15:47.769071",
     "status": "completed"
    },
    "tags": []
   },
   "outputs": [],
   "source": [
    "#hide\n",
    "\n",
    "# FETCH\n",
    "base_url = 'https://raw.githubusercontent.com/pratapvardhan/notebooks/master/covid19/'\n",
    "paths = {\n",
    "    'mapping': base_url + 'mapping_countries.csv',\n",
    "    'overview': base_url + 'overview.tpl'\n",
    "}"
   ]
  },
  {
   "cell_type": "code",
   "execution_count": 3,
   "id": "dynamic-saver",
   "metadata": {
    "execution": {
     "iopub.execute_input": "2022-06-20T12:15:47.876232Z",
     "iopub.status.busy": "2022-06-20T12:15:47.875617Z",
     "iopub.status.idle": "2022-06-20T12:15:47.878985Z",
     "shell.execute_reply": "2022-06-20T12:15:47.879448Z"
    },
    "papermill": {
     "duration": 0.042442,
     "end_time": "2022-06-20T12:15:47.879569",
     "exception": false,
     "start_time": "2022-06-20T12:15:47.837127",
     "status": "completed"
    },
    "tags": []
   },
   "outputs": [
    {
     "data": {
      "text/plain": [
       "'https://raw.githubusercontent.com/pratapvardhan/notebooks/master/covid19/mapping_countries.csv'"
      ]
     },
     "execution_count": 3,
     "metadata": {},
     "output_type": "execute_result"
    }
   ],
   "source": [
    "#hide\n",
    "paths['mapping']"
   ]
  },
  {
   "cell_type": "code",
   "execution_count": 4,
   "id": "urban-software",
   "metadata": {
    "execution": {
     "iopub.execute_input": "2022-06-20T12:15:47.943987Z",
     "iopub.status.busy": "2022-06-20T12:15:47.943303Z",
     "iopub.status.idle": "2022-06-20T12:15:47.945803Z",
     "shell.execute_reply": "2022-06-20T12:15:47.945275Z"
    },
    "papermill": {
     "duration": 0.036773,
     "end_time": "2022-06-20T12:15:47.945924",
     "exception": false,
     "start_time": "2022-06-20T12:15:47.909151",
     "status": "completed"
    },
    "tags": []
   },
   "outputs": [],
   "source": [
    "#hide\n",
    "def get_mappings(url):\n",
    "    df = pd.read_csv(url)\n",
    "    return {\n",
    "        'df': df,\n",
    "        'replace.country': dict(df.dropna(subset=['Name']).set_index('Country')['Name']),\n",
    "        'map.continent': dict(df.set_index('Name')['Continent'])\n",
    "    }"
   ]
  },
  {
   "cell_type": "code",
   "execution_count": 5,
   "id": "intimate-machinery",
   "metadata": {
    "execution": {
     "iopub.execute_input": "2022-06-20T12:15:48.011914Z",
     "iopub.status.busy": "2022-06-20T12:15:48.011295Z",
     "iopub.status.idle": "2022-06-20T12:15:48.058399Z",
     "shell.execute_reply": "2022-06-20T12:15:48.057807Z"
    },
    "papermill": {
     "duration": 0.082869,
     "end_time": "2022-06-20T12:15:48.058532",
     "exception": false,
     "start_time": "2022-06-20T12:15:47.975663",
     "status": "completed"
    },
    "tags": []
   },
   "outputs": [],
   "source": [
    "#hide\n",
    "mapping = get_mappings(paths['mapping'])"
   ]
  },
  {
   "cell_type": "code",
   "execution_count": 6,
   "id": "certified-tactics",
   "metadata": {
    "execution": {
     "iopub.execute_input": "2022-06-20T12:15:48.124188Z",
     "iopub.status.busy": "2022-06-20T12:15:48.123521Z",
     "iopub.status.idle": "2022-06-20T12:15:48.125983Z",
     "shell.execute_reply": "2022-06-20T12:15:48.125514Z"
    },
    "papermill": {
     "duration": 0.037346,
     "end_time": "2022-06-20T12:15:48.126093",
     "exception": false,
     "start_time": "2022-06-20T12:15:48.088747",
     "status": "completed"
    },
    "tags": []
   },
   "outputs": [],
   "source": [
    "#hide\n",
    "def get_template(path):\n",
    "    from urllib.parse import urlparse\n",
    "    if bool(urlparse(path).netloc):\n",
    "        from urllib.request import urlopen\n",
    "        return urlopen(path).read().decode('utf8')\n",
    "    return open(path).read()"
   ]
  },
  {
   "cell_type": "code",
   "execution_count": 7,
   "id": "realistic-blast",
   "metadata": {
    "execution": {
     "iopub.execute_input": "2022-06-20T12:15:48.191932Z",
     "iopub.status.busy": "2022-06-20T12:15:48.191278Z",
     "iopub.status.idle": "2022-06-20T12:15:48.193476Z",
     "shell.execute_reply": "2022-06-20T12:15:48.193918Z"
    },
    "papermill": {
     "duration": 0.038496,
     "end_time": "2022-06-20T12:15:48.194042",
     "exception": false,
     "start_time": "2022-06-20T12:15:48.155546",
     "status": "completed"
    },
    "tags": []
   },
   "outputs": [],
   "source": [
    "#hide\n",
    "def get_frame(name):\n",
    "    url = (\n",
    "        'https://raw.githubusercontent.com/CSSEGISandData/COVID-19/master/csse_covid_19_data/'\n",
    "        f'csse_covid_19_time_series/time_series_covid19_{name}_global.csv')\n",
    "    df = pd.read_csv(url)\n",
    "    # rename countries\n",
    "    df['Country/Region'] = df['Country/Region'].replace(mapping['replace.country'])\n",
    "    return df"
   ]
  },
  {
   "cell_type": "code",
   "execution_count": 8,
   "id": "affiliated-characterization",
   "metadata": {
    "execution": {
     "iopub.execute_input": "2022-06-20T12:15:48.260053Z",
     "iopub.status.busy": "2022-06-20T12:15:48.259456Z",
     "iopub.status.idle": "2022-06-20T12:15:48.262194Z",
     "shell.execute_reply": "2022-06-20T12:15:48.262656Z"
    },
    "papermill": {
     "duration": 0.038718,
     "end_time": "2022-06-20T12:15:48.262774",
     "exception": false,
     "start_time": "2022-06-20T12:15:48.224056",
     "status": "completed"
    },
    "tags": []
   },
   "outputs": [],
   "source": [
    "#hide\n",
    "def get_dates(df):\n",
    "    dt_cols = df.columns[~df.columns.isin(['Province/State', 'Country/Region', 'Lat', 'Long'])]\n",
    "    LAST_DATE_I = -1\n",
    "    # sometimes last column may be empty, then go backwards\n",
    "    for i in range(-1, -len(dt_cols), -1):\n",
    "        if not df[dt_cols[i]].fillna(0).eq(0).all():\n",
    "            LAST_DATE_I = i\n",
    "            break\n",
    "    return LAST_DATE_I, dt_cols"
   ]
  },
  {
   "cell_type": "code",
   "execution_count": 9,
   "id": "recent-optimization",
   "metadata": {
    "execution": {
     "iopub.execute_input": "2022-06-20T12:15:48.326859Z",
     "iopub.status.busy": "2022-06-20T12:15:48.326274Z",
     "iopub.status.idle": "2022-06-20T12:15:48.768560Z",
     "shell.execute_reply": "2022-06-20T12:15:48.769102Z"
    },
    "papermill": {
     "duration": 0.477113,
     "end_time": "2022-06-20T12:15:48.769272",
     "exception": false,
     "start_time": "2022-06-20T12:15:48.292159",
     "status": "completed"
    },
    "tags": []
   },
   "outputs": [],
   "source": [
    "#hide\n",
    "COL_REGION = 'Country/Region'\n",
    "# Confirmed, Recovered, Deaths\n",
    "df = get_frame('confirmed')\n",
    "# dft_: timeseries, dfc_: today country agg\n",
    "dft_cases = df\n",
    "dft_deaths = get_frame('deaths')\n",
    "dft_recovered = get_frame('recovered')\n",
    "LAST_DATE_I, dt_cols = get_dates(df)"
   ]
  },
  {
   "cell_type": "code",
   "execution_count": 10,
   "id": "absolute-copper",
   "metadata": {
    "execution": {
     "iopub.execute_input": "2022-06-20T12:15:48.835972Z",
     "iopub.status.busy": "2022-06-20T12:15:48.835311Z",
     "iopub.status.idle": "2022-06-20T12:15:48.837756Z",
     "shell.execute_reply": "2022-06-20T12:15:48.837298Z"
    },
    "papermill": {
     "duration": 0.037892,
     "end_time": "2022-06-20T12:15:48.837871",
     "exception": false,
     "start_time": "2022-06-20T12:15:48.799979",
     "status": "completed"
    },
    "tags": []
   },
   "outputs": [],
   "source": [
    "#hide\n",
    "LAST_DATE_I, dt_cols = get_dates(df)\n",
    "dt_today =dt_cols[LAST_DATE_I]\n",
    "# dt_5day = dt_cols[LAST_DATE_I - 5]\n",
    "dt_yday = dt_cols[LAST_DATE_I - 1]"
   ]
  },
  {
   "cell_type": "code",
   "execution_count": 11,
   "id": "restricted-sheriff",
   "metadata": {
    "execution": {
     "iopub.execute_input": "2022-06-20T12:15:48.903681Z",
     "iopub.status.busy": "2022-06-20T12:15:48.903074Z",
     "iopub.status.idle": "2022-06-20T12:15:48.910438Z",
     "shell.execute_reply": "2022-06-20T12:15:48.910911Z"
    },
    "papermill": {
     "duration": 0.04349,
     "end_time": "2022-06-20T12:15:48.911044",
     "exception": false,
     "start_time": "2022-06-20T12:15:48.867554",
     "status": "completed"
    },
    "tags": []
   },
   "outputs": [],
   "source": [
    "#hide\n",
    "dfc_cases = dft_cases.groupby(COL_REGION)[dt_today].sum()\n",
    "dfc_deaths = dft_deaths.groupby(COL_REGION)[dt_today].sum()\n",
    "# dfp_cases = dft_cases.groupby(COL_REGION)[dt_5day].sum()\n",
    "# dfp_deaths = dft_deaths.groupby(COL_REGION)[dt_5day].sum()\n",
    "dfp_cases = dft_cases.groupby(COL_REGION)[dt_yday].sum()\n",
    "dfp_deaths = dft_deaths.groupby(COL_REGION)[dt_yday].sum()"
   ]
  },
  {
   "cell_type": "code",
   "execution_count": 12,
   "id": "deluxe-hepatitis",
   "metadata": {
    "execution": {
     "iopub.execute_input": "2022-06-20T12:15:48.976627Z",
     "iopub.status.busy": "2022-06-20T12:15:48.976040Z",
     "iopub.status.idle": "2022-06-20T12:15:48.981643Z",
     "shell.execute_reply": "2022-06-20T12:15:48.982109Z"
    },
    "papermill": {
     "duration": 0.041246,
     "end_time": "2022-06-20T12:15:48.982240",
     "exception": false,
     "start_time": "2022-06-20T12:15:48.940994",
     "status": "completed"
    },
    "tags": []
   },
   "outputs": [],
   "source": [
    "#hide\n",
    "df_table = (pd.DataFrame(dict(Cases = dfc_cases, Deaths = dfc_deaths, PCases = dfp_cases, PDeaths = dfp_deaths))\n",
    "            .sort_values(by = ['Cases','Deaths'], ascending = [False, False])\n",
    "            .reset_index())"
   ]
  },
  {
   "cell_type": "code",
   "execution_count": 13,
   "id": "educational-chancellor",
   "metadata": {
    "execution": {
     "iopub.execute_input": "2022-06-20T12:15:49.061144Z",
     "iopub.status.busy": "2022-06-20T12:15:49.060527Z",
     "iopub.status.idle": "2022-06-20T12:15:49.069081Z",
     "shell.execute_reply": "2022-06-20T12:15:49.068598Z"
    },
    "papermill": {
     "duration": 0.057433,
     "end_time": "2022-06-20T12:15:49.069201",
     "exception": false,
     "start_time": "2022-06-20T12:15:49.011768",
     "status": "completed"
    },
    "tags": []
   },
   "outputs": [
    {
     "data": {
      "text/html": [
       "<div>\n",
       "<style scoped>\n",
       "    .dataframe tbody tr th:only-of-type {\n",
       "        vertical-align: middle;\n",
       "    }\n",
       "\n",
       "    .dataframe tbody tr th {\n",
       "        vertical-align: top;\n",
       "    }\n",
       "\n",
       "    .dataframe thead th {\n",
       "        text-align: right;\n",
       "    }\n",
       "</style>\n",
       "<table border=\"1\" class=\"dataframe\">\n",
       "  <thead>\n",
       "    <tr style=\"text-align: right;\">\n",
       "      <th></th>\n",
       "      <th>Country/Region</th>\n",
       "      <th>Cases</th>\n",
       "      <th>Deaths</th>\n",
       "      <th>PCases</th>\n",
       "      <th>PDeaths</th>\n",
       "      <th>Cases (+)</th>\n",
       "      <th>Deaths (+)</th>\n",
       "      <th>Fatality Rate</th>\n",
       "      <th>Continent</th>\n",
       "    </tr>\n",
       "  </thead>\n",
       "  <tbody>\n",
       "    <tr>\n",
       "      <th>0</th>\n",
       "      <td>US</td>\n",
       "      <td>86246101</td>\n",
       "      <td>1013413</td>\n",
       "      <td>86230982</td>\n",
       "      <td>1013377</td>\n",
       "      <td>15119</td>\n",
       "      <td>36</td>\n",
       "      <td>1.18</td>\n",
       "      <td>North America</td>\n",
       "    </tr>\n",
       "    <tr>\n",
       "      <th>1</th>\n",
       "      <td>India</td>\n",
       "      <td>43309473</td>\n",
       "      <td>524873</td>\n",
       "      <td>43296692</td>\n",
       "      <td>524855</td>\n",
       "      <td>12781</td>\n",
       "      <td>18</td>\n",
       "      <td>1.21</td>\n",
       "      <td>Asia</td>\n",
       "    </tr>\n",
       "    <tr>\n",
       "      <th>2</th>\n",
       "      <td>Brazil</td>\n",
       "      <td>31611769</td>\n",
       "      <td>668693</td>\n",
       "      <td>31611769</td>\n",
       "      <td>668693</td>\n",
       "      <td>0</td>\n",
       "      <td>0</td>\n",
       "      <td>2.12</td>\n",
       "      <td>South America</td>\n",
       "    </tr>\n",
       "    <tr>\n",
       "      <th>3</th>\n",
       "      <td>France</td>\n",
       "      <td>30279240</td>\n",
       "      <td>150078</td>\n",
       "      <td>30279240</td>\n",
       "      <td>150078</td>\n",
       "      <td>0</td>\n",
       "      <td>0</td>\n",
       "      <td>0.50</td>\n",
       "      <td>Europe</td>\n",
       "    </tr>\n",
       "    <tr>\n",
       "      <th>4</th>\n",
       "      <td>Germany</td>\n",
       "      <td>27211896</td>\n",
       "      <td>140176</td>\n",
       "      <td>27204955</td>\n",
       "      <td>140176</td>\n",
       "      <td>6941</td>\n",
       "      <td>0</td>\n",
       "      <td>0.52</td>\n",
       "      <td>Europe</td>\n",
       "    </tr>\n",
       "  </tbody>\n",
       "</table>\n",
       "</div>"
      ],
      "text/plain": [
       "  Country/Region     Cases   Deaths    PCases  PDeaths  Cases (+)  Deaths (+)  \\\n",
       "0             US  86246101  1013413  86230982  1013377      15119          36   \n",
       "1          India  43309473   524873  43296692   524855      12781          18   \n",
       "2         Brazil  31611769   668693  31611769   668693          0           0   \n",
       "3         France  30279240   150078  30279240   150078          0           0   \n",
       "4        Germany  27211896   140176  27204955   140176       6941           0   \n",
       "\n",
       "   Fatality Rate      Continent  \n",
       "0           1.18  North America  \n",
       "1           1.21           Asia  \n",
       "2           2.12  South America  \n",
       "3           0.50         Europe  \n",
       "4           0.52         Europe  "
      ]
     },
     "execution_count": 13,
     "metadata": {},
     "output_type": "execute_result"
    }
   ],
   "source": [
    "#hide\n",
    "for c in 'Cases, Deaths'.split(', '):\n",
    "    df_table[f'{c} (+)'] = (df_table[c] - df_table[f'P{c}']).clip(0)\n",
    "    #Clip ça veut dire, les chiffres negatif sont interdit\n",
    "df_table['Fatality Rate'] = (100* df_table['Deaths']/ df_table['Cases']).round(2)\n",
    "df_table['Continent'] = df_table['Country/Region'].map(mapping['map.continent'])\n",
    "df_table.head(5)"
   ]
  },
  {
   "cell_type": "code",
   "execution_count": 14,
   "id": "aboriginal-bulgaria",
   "metadata": {
    "execution": {
     "iopub.execute_input": "2022-06-20T12:15:49.137098Z",
     "iopub.status.busy": "2022-06-20T12:15:49.136496Z",
     "iopub.status.idle": "2022-06-20T12:15:49.138493Z",
     "shell.execute_reply": "2022-06-20T12:15:49.139045Z"
    },
    "papermill": {
     "duration": 0.039328,
     "end_time": "2022-06-20T12:15:49.139180",
     "exception": false,
     "start_time": "2022-06-20T12:15:49.099852",
     "status": "completed"
    },
    "tags": []
   },
   "outputs": [],
   "source": [
    "#hide\n",
    "#delete problematic countries from table\n",
    "df_table = df_table[~df_table['Country/Region'].isin(['Cape Verde', 'Cruise Ship', 'Kosovo'])]"
   ]
  },
  {
   "cell_type": "code",
   "execution_count": 15,
   "id": "fantastic-effect",
   "metadata": {
    "execution": {
     "iopub.execute_input": "2022-06-20T12:15:49.207790Z",
     "iopub.status.busy": "2022-06-20T12:15:49.207181Z",
     "iopub.status.idle": "2022-06-20T12:15:49.225814Z",
     "shell.execute_reply": "2022-06-20T12:15:49.226657Z"
    },
    "papermill": {
     "duration": 0.057536,
     "end_time": "2022-06-20T12:15:49.226806",
     "exception": false,
     "start_time": "2022-06-20T12:15:49.169270",
     "status": "completed"
    },
    "tags": []
   },
   "outputs": [
    {
     "data": {
      "text/html": [
       "<div>\n",
       "<style scoped>\n",
       "    .dataframe tbody tr th:only-of-type {\n",
       "        vertical-align: middle;\n",
       "    }\n",
       "\n",
       "    .dataframe tbody tr th {\n",
       "        vertical-align: top;\n",
       "    }\n",
       "\n",
       "    .dataframe thead th {\n",
       "        text-align: right;\n",
       "    }\n",
       "</style>\n",
       "<table border=\"1\" class=\"dataframe\">\n",
       "  <thead>\n",
       "    <tr style=\"text-align: right;\">\n",
       "      <th></th>\n",
       "      <th>Country/Region</th>\n",
       "      <th>Cases</th>\n",
       "      <th>Deaths</th>\n",
       "      <th>PCases</th>\n",
       "      <th>PDeaths</th>\n",
       "      <th>Cases (+)</th>\n",
       "      <th>Deaths (+)</th>\n",
       "      <th>Fatality Rate</th>\n",
       "      <th>Continent</th>\n",
       "    </tr>\n",
       "  </thead>\n",
       "  <tbody>\n",
       "    <tr>\n",
       "      <th>0</th>\n",
       "      <td>US</td>\n",
       "      <td>86246101</td>\n",
       "      <td>1013413</td>\n",
       "      <td>86230982</td>\n",
       "      <td>1013377</td>\n",
       "      <td>15119</td>\n",
       "      <td>36</td>\n",
       "      <td>1.2</td>\n",
       "      <td>North America</td>\n",
       "    </tr>\n",
       "    <tr>\n",
       "      <th>1</th>\n",
       "      <td>India</td>\n",
       "      <td>43309473</td>\n",
       "      <td>524873</td>\n",
       "      <td>43296692</td>\n",
       "      <td>524855</td>\n",
       "      <td>12781</td>\n",
       "      <td>18</td>\n",
       "      <td>1.2</td>\n",
       "      <td>Asia</td>\n",
       "    </tr>\n",
       "    <tr>\n",
       "      <th>2</th>\n",
       "      <td>Brazil</td>\n",
       "      <td>31611769</td>\n",
       "      <td>668693</td>\n",
       "      <td>31611769</td>\n",
       "      <td>668693</td>\n",
       "      <td>0</td>\n",
       "      <td>0</td>\n",
       "      <td>2.1</td>\n",
       "      <td>South America</td>\n",
       "    </tr>\n",
       "    <tr>\n",
       "      <th>3</th>\n",
       "      <td>France</td>\n",
       "      <td>30279240</td>\n",
       "      <td>150078</td>\n",
       "      <td>30279240</td>\n",
       "      <td>150078</td>\n",
       "      <td>0</td>\n",
       "      <td>0</td>\n",
       "      <td>0.5</td>\n",
       "      <td>Europe</td>\n",
       "    </tr>\n",
       "    <tr>\n",
       "      <th>4</th>\n",
       "      <td>Germany</td>\n",
       "      <td>27211896</td>\n",
       "      <td>140176</td>\n",
       "      <td>27204955</td>\n",
       "      <td>140176</td>\n",
       "      <td>6941</td>\n",
       "      <td>0</td>\n",
       "      <td>0.5</td>\n",
       "      <td>Europe</td>\n",
       "    </tr>\n",
       "  </tbody>\n",
       "</table>\n",
       "</div>"
      ],
      "text/plain": [
       "  Country/Region     Cases   Deaths    PCases  PDeaths  Cases (+)  Deaths (+)  \\\n",
       "0             US  86246101  1013413  86230982  1013377      15119          36   \n",
       "1          India  43309473   524873  43296692   524855      12781          18   \n",
       "2         Brazil  31611769   668693  31611769   668693          0           0   \n",
       "3         France  30279240   150078  30279240   150078          0           0   \n",
       "4        Germany  27211896   140176  27204955   140176       6941           0   \n",
       "\n",
       "   Fatality Rate      Continent  \n",
       "0            1.2  North America  \n",
       "1            1.2           Asia  \n",
       "2            2.1  South America  \n",
       "3            0.5         Europe  \n",
       "4            0.5         Europe  "
      ]
     },
     "execution_count": 15,
     "metadata": {},
     "output_type": "execute_result"
    }
   ],
   "source": [
    "#hide\n",
    "df_table = (pd.DataFrame(dict(Cases=dfc_cases, Deaths=dfc_deaths, PCases=dfp_cases, PDeaths=dfp_deaths))\n",
    "             .sort_values(by=['Cases', 'Deaths'], ascending=[False, False])\n",
    "             .reset_index())\n",
    "df_table.rename(columns={'index': 'Country/Region'}, inplace=True)\n",
    "for c in 'Cases, Deaths'.split(', '):\n",
    "    df_table[f'{c} (+)'] = (df_table[c] - df_table[f'P{c}']).clip(0)  # DATA BUG\n",
    "df_table['Fatality Rate'] = (100 * df_table['Deaths'] / df_table['Cases']).round(1)\n",
    "df_table['Continent'] = df_table['Country/Region'].map(mapping['map.continent'])\n",
    "df_table.head(5)"
   ]
  },
  {
   "cell_type": "code",
   "execution_count": 16,
   "id": "fewer-occasion",
   "metadata": {
    "execution": {
     "iopub.execute_input": "2022-06-20T12:15:49.295854Z",
     "iopub.status.busy": "2022-06-20T12:15:49.295204Z",
     "iopub.status.idle": "2022-06-20T12:15:49.297843Z",
     "shell.execute_reply": "2022-06-20T12:15:49.297274Z"
    },
    "papermill": {
     "duration": 0.040099,
     "end_time": "2022-06-20T12:15:49.297957",
     "exception": false,
     "start_time": "2022-06-20T12:15:49.257858",
     "status": "completed"
    },
    "tags": []
   },
   "outputs": [],
   "source": [
    "#hide\n",
    "#delete problematic countries from table\n",
    "df_table = df_table[~df_table['Country/Region'].isin(['Cape Verde', 'Cruise Ship', 'Kosovo'])]"
   ]
  },
  {
   "cell_type": "code",
   "execution_count": 17,
   "id": "related-center",
   "metadata": {
    "execution": {
     "iopub.execute_input": "2022-06-20T12:15:49.378129Z",
     "iopub.status.busy": "2022-06-20T12:15:49.377527Z",
     "iopub.status.idle": "2022-06-20T12:15:49.380409Z",
     "shell.execute_reply": "2022-06-20T12:15:49.379925Z"
    },
    "papermill": {
     "duration": 0.051755,
     "end_time": "2022-06-20T12:15:49.380528",
     "exception": false,
     "start_time": "2022-06-20T12:15:49.328773",
     "status": "completed"
    },
    "tags": []
   },
   "outputs": [],
   "source": [
    "#hide\n",
    "metrics = [df_table.columns[index] for index in [1,2,5,6]]\n",
    "# s_china = df_table[df_table['Country/Region'].eq('China')][metrics].sum().add_prefix('China ')\n",
    "s_us = df_table[df_table['Country/Region'].eq('US')][metrics].sum().add_prefix('US ')\n",
    "s_eu = df_table[df_table['Continent'].eq('Europe')][metrics].sum().add_prefix('EU ')\n",
    "s_ind = df_table[df_table['Country/Region'].eq('India')][metrics].sum().add_prefix('India ')\n",
    "summary = {'updated': pd.to_datetime(dt_today), 'since': pd.to_datetime(dt_yday)}\n",
    "summary = {'updated': pd.to_datetime(dt_today), 'since': pd.to_datetime(dt_yday)}\n",
    "summary = {**summary, **df_table[metrics].sum(), **s_ind, **s_us, **s_eu}"
   ]
  },
  {
   "cell_type": "code",
   "execution_count": 18,
   "id": "engaging-syndrome",
   "metadata": {
    "execution": {
     "iopub.execute_input": "2022-06-20T12:15:49.447933Z",
     "iopub.status.busy": "2022-06-20T12:15:49.447317Z",
     "iopub.status.idle": "2022-06-20T12:15:49.466778Z",
     "shell.execute_reply": "2022-06-20T12:15:49.466294Z"
    },
    "papermill": {
     "duration": 0.055404,
     "end_time": "2022-06-20T12:15:49.466896",
     "exception": false,
     "start_time": "2022-06-20T12:15:49.411492",
     "status": "completed"
    },
    "tags": []
   },
   "outputs": [],
   "source": [
    "#hide\n",
    "dft_ct_new_cases = dft_cases.groupby(COL_REGION)[dt_cols].sum().diff(axis=1).fillna(0).astype(int)"
   ]
  },
  {
   "cell_type": "code",
   "execution_count": 19,
   "id": "neutral-assignment",
   "metadata": {
    "execution": {
     "iopub.execute_input": "2022-06-20T12:15:49.534990Z",
     "iopub.status.busy": "2022-06-20T12:15:49.534314Z",
     "iopub.status.idle": "2022-06-20T12:15:49.536918Z",
     "shell.execute_reply": "2022-06-20T12:15:49.536279Z"
    },
    "papermill": {
     "duration": 0.03944,
     "end_time": "2022-06-20T12:15:49.537041",
     "exception": false,
     "start_time": "2022-06-20T12:15:49.497601",
     "status": "completed"
    },
    "tags": []
   },
   "outputs": [],
   "source": [
    "#hide\n",
    "everydaycases = dft_ct_new_cases.cumsum(axis=1)"
   ]
  },
  {
   "cell_type": "code",
   "execution_count": 20,
   "id": "parliamentary-calgary",
   "metadata": {
    "execution": {
     "iopub.execute_input": "2022-06-20T12:15:49.603768Z",
     "iopub.status.busy": "2022-06-20T12:15:49.603149Z",
     "iopub.status.idle": "2022-06-20T12:15:50.180701Z",
     "shell.execute_reply": "2022-06-20T12:15:50.180096Z"
    },
    "papermill": {
     "duration": 0.612716,
     "end_time": "2022-06-20T12:15:50.180848",
     "exception": false,
     "start_time": "2022-06-20T12:15:49.568132",
     "status": "completed"
    },
    "tags": []
   },
   "outputs": [],
   "source": [
    "#hide\n",
    "import pandas as pd\n",
    "import matplotlib.pyplot as plt\n",
    "import matplotlib.ticker as ticker\n",
    "import matplotlib.animation as animation\n",
    "from IPython.display import HTML"
   ]
  },
  {
   "cell_type": "code",
   "execution_count": 21,
   "id": "lasting-extraction",
   "metadata": {
    "execution": {
     "iopub.execute_input": "2022-06-20T12:15:50.249632Z",
     "iopub.status.busy": "2022-06-20T12:15:50.248953Z",
     "iopub.status.idle": "2022-06-20T12:15:50.256776Z",
     "shell.execute_reply": "2022-06-20T12:15:50.256227Z"
    },
    "papermill": {
     "duration": 0.045014,
     "end_time": "2022-06-20T12:15:50.256898",
     "exception": false,
     "start_time": "2022-06-20T12:15:50.211884",
     "status": "completed"
    },
    "tags": []
   },
   "outputs": [],
   "source": [
    "#hide\n",
    "t = everydaycases.stack()"
   ]
  },
  {
   "cell_type": "code",
   "execution_count": 22,
   "id": "premier-sleeve",
   "metadata": {
    "execution": {
     "iopub.execute_input": "2022-06-20T12:15:50.322868Z",
     "iopub.status.busy": "2022-06-20T12:15:50.322261Z",
     "iopub.status.idle": "2022-06-20T12:15:50.333751Z",
     "shell.execute_reply": "2022-06-20T12:15:50.334214Z"
    },
    "papermill": {
     "duration": 0.046587,
     "end_time": "2022-06-20T12:15:50.334349",
     "exception": false,
     "start_time": "2022-06-20T12:15:50.287762",
     "status": "completed"
    },
    "tags": []
   },
   "outputs": [],
   "source": [
    "#hide\n",
    "g = t.reset_index(['Country/Region'])"
   ]
  },
  {
   "cell_type": "code",
   "execution_count": 23,
   "id": "distributed-pittsburgh",
   "metadata": {
    "execution": {
     "iopub.execute_input": "2022-06-20T12:15:50.400074Z",
     "iopub.status.busy": "2022-06-20T12:15:50.399438Z",
     "iopub.status.idle": "2022-06-20T12:15:50.401775Z",
     "shell.execute_reply": "2022-06-20T12:15:50.402326Z"
    },
    "papermill": {
     "duration": 0.037495,
     "end_time": "2022-06-20T12:15:50.402477",
     "exception": false,
     "start_time": "2022-06-20T12:15:50.364982",
     "status": "completed"
    },
    "tags": []
   },
   "outputs": [],
   "source": [
    "#hide\n",
    "g.index.name = 'date'"
   ]
  },
  {
   "cell_type": "code",
   "execution_count": 24,
   "id": "naked-donor",
   "metadata": {
    "execution": {
     "iopub.execute_input": "2022-06-20T12:15:50.468141Z",
     "iopub.status.busy": "2022-06-20T12:15:50.467493Z",
     "iopub.status.idle": "2022-06-20T12:15:50.469661Z",
     "shell.execute_reply": "2022-06-20T12:15:50.470080Z"
    },
    "papermill": {
     "duration": 0.036764,
     "end_time": "2022-06-20T12:15:50.470211",
     "exception": false,
     "start_time": "2022-06-20T12:15:50.433447",
     "status": "completed"
    },
    "tags": []
   },
   "outputs": [],
   "source": [
    "# #hide\n",
    "# g = g.reset_index(['date'])"
   ]
  },
  {
   "cell_type": "code",
   "execution_count": 25,
   "id": "incomplete-mustang",
   "metadata": {
    "execution": {
     "iopub.execute_input": "2022-06-20T12:15:50.534887Z",
     "iopub.status.busy": "2022-06-20T12:15:50.534299Z",
     "iopub.status.idle": "2022-06-20T12:15:50.536633Z",
     "shell.execute_reply": "2022-06-20T12:15:50.537180Z"
    },
    "papermill": {
     "duration": 0.036548,
     "end_time": "2022-06-20T12:15:50.537305",
     "exception": false,
     "start_time": "2022-06-20T12:15:50.500757",
     "status": "completed"
    },
    "tags": []
   },
   "outputs": [],
   "source": [
    "#hide\n",
    "# g.head()"
   ]
  },
  {
   "cell_type": "code",
   "execution_count": 26,
   "id": "specific-kruger",
   "metadata": {
    "execution": {
     "iopub.execute_input": "2022-06-20T12:15:50.602102Z",
     "iopub.status.busy": "2022-06-20T12:15:50.601495Z",
     "iopub.status.idle": "2022-06-20T12:15:50.604181Z",
     "shell.execute_reply": "2022-06-20T12:15:50.603577Z"
    },
    "papermill": {
     "duration": 0.036199,
     "end_time": "2022-06-20T12:15:50.604287",
     "exception": false,
     "start_time": "2022-06-20T12:15:50.568088",
     "status": "completed"
    },
    "tags": []
   },
   "outputs": [],
   "source": [
    "#hide\n",
    "# g.columns = ['date','country','cases']"
   ]
  },
  {
   "cell_type": "code",
   "execution_count": 27,
   "id": "tender-conversion",
   "metadata": {
    "execution": {
     "iopub.execute_input": "2022-06-20T12:15:50.669596Z",
     "iopub.status.busy": "2022-06-20T12:15:50.668980Z",
     "iopub.status.idle": "2022-06-20T12:15:50.671392Z",
     "shell.execute_reply": "2022-06-20T12:15:50.671958Z"
    },
    "papermill": {
     "duration": 0.037241,
     "end_time": "2022-06-20T12:15:50.672087",
     "exception": false,
     "start_time": "2022-06-20T12:15:50.634846",
     "status": "completed"
    },
    "tags": []
   },
   "outputs": [],
   "source": [
    "#hide\n",
    "# g['continent'] = g.country"
   ]
  },
  {
   "cell_type": "code",
   "execution_count": 28,
   "id": "substantial-wilderness",
   "metadata": {
    "execution": {
     "iopub.execute_input": "2022-06-20T12:15:50.737769Z",
     "iopub.status.busy": "2022-06-20T12:15:50.737082Z",
     "iopub.status.idle": "2022-06-20T12:15:50.739679Z",
     "shell.execute_reply": "2022-06-20T12:15:50.739033Z"
    },
    "papermill": {
     "duration": 0.036855,
     "end_time": "2022-06-20T12:15:50.739803",
     "exception": false,
     "start_time": "2022-06-20T12:15:50.702948",
     "status": "completed"
    },
    "tags": []
   },
   "outputs": [],
   "source": [
    "#hide\n",
    "# cols = list(g.columns.values)"
   ]
  },
  {
   "cell_type": "code",
   "execution_count": 29,
   "id": "solved-farming",
   "metadata": {
    "execution": {
     "iopub.execute_input": "2022-06-20T12:15:50.804696Z",
     "iopub.status.busy": "2022-06-20T12:15:50.803939Z",
     "iopub.status.idle": "2022-06-20T12:15:50.806896Z",
     "shell.execute_reply": "2022-06-20T12:15:50.807336Z"
    },
    "papermill": {
     "duration": 0.037033,
     "end_time": "2022-06-20T12:15:50.807533",
     "exception": false,
     "start_time": "2022-06-20T12:15:50.770500",
     "status": "completed"
    },
    "tags": []
   },
   "outputs": [],
   "source": [
    "#hide\n",
    "# cols.insert(0, cols.pop())"
   ]
  },
  {
   "cell_type": "code",
   "execution_count": 30,
   "id": "executed-adoption",
   "metadata": {
    "execution": {
     "iopub.execute_input": "2022-06-20T12:15:50.872797Z",
     "iopub.status.busy": "2022-06-20T12:15:50.872160Z",
     "iopub.status.idle": "2022-06-20T12:15:50.875030Z",
     "shell.execute_reply": "2022-06-20T12:15:50.874492Z"
    },
    "papermill": {
     "duration": 0.036935,
     "end_time": "2022-06-20T12:15:50.875143",
     "exception": false,
     "start_time": "2022-06-20T12:15:50.838208",
     "status": "completed"
    },
    "tags": []
   },
   "outputs": [],
   "source": [
    "#hide\n",
    "# g = g[cols]"
   ]
  },
  {
   "cell_type": "code",
   "execution_count": 31,
   "id": "subject-dublin",
   "metadata": {
    "execution": {
     "iopub.execute_input": "2022-06-20T12:15:50.941156Z",
     "iopub.status.busy": "2022-06-20T12:15:50.940468Z",
     "iopub.status.idle": "2022-06-20T12:15:50.943028Z",
     "shell.execute_reply": "2022-06-20T12:15:50.942403Z"
    },
    "papermill": {
     "duration": 0.037388,
     "end_time": "2022-06-20T12:15:50.943149",
     "exception": false,
     "start_time": "2022-06-20T12:15:50.905761",
     "status": "completed"
    },
    "tags": []
   },
   "outputs": [],
   "source": [
    "#hide\n",
    "# g['continent'] = g['continent'].map(mapping['map.continent'])"
   ]
  },
  {
   "cell_type": "code",
   "execution_count": 32,
   "id": "freelance-scout",
   "metadata": {
    "execution": {
     "iopub.execute_input": "2022-06-20T12:15:51.008887Z",
     "iopub.status.busy": "2022-06-20T12:15:51.008287Z",
     "iopub.status.idle": "2022-06-20T12:15:51.010870Z",
     "shell.execute_reply": "2022-06-20T12:15:51.010300Z"
    },
    "papermill": {
     "duration": 0.03671,
     "end_time": "2022-06-20T12:15:51.010979",
     "exception": false,
     "start_time": "2022-06-20T12:15:50.974269",
     "status": "completed"
    },
    "tags": []
   },
   "outputs": [],
   "source": [
    "#hide\n",
    "# g.head()"
   ]
  },
  {
   "cell_type": "code",
   "execution_count": 33,
   "id": "limited-engine",
   "metadata": {
    "execution": {
     "iopub.execute_input": "2022-06-20T12:15:51.076480Z",
     "iopub.status.busy": "2022-06-20T12:15:51.075758Z",
     "iopub.status.idle": "2022-06-20T12:15:51.077533Z",
     "shell.execute_reply": "2022-06-20T12:15:51.078081Z"
    },
    "papermill": {
     "duration": 0.03682,
     "end_time": "2022-06-20T12:15:51.078232",
     "exception": false,
     "start_time": "2022-06-20T12:15:51.041412",
     "status": "completed"
    },
    "tags": []
   },
   "outputs": [],
   "source": [
    "# hide\n",
    "# g['date'] = g['date'].astype('datetime64[ns]')"
   ]
  },
  {
   "cell_type": "code",
   "execution_count": 34,
   "id": "sophisticated-supervisor",
   "metadata": {
    "execution": {
     "iopub.execute_input": "2022-06-20T12:15:51.144807Z",
     "iopub.status.busy": "2022-06-20T12:15:51.144112Z",
     "iopub.status.idle": "2022-06-20T12:15:51.148100Z",
     "shell.execute_reply": "2022-06-20T12:15:51.148583Z"
    },
    "papermill": {
     "duration": 0.039373,
     "end_time": "2022-06-20T12:15:51.148729",
     "exception": false,
     "start_time": "2022-06-20T12:15:51.109356",
     "status": "completed"
    },
    "tags": []
   },
   "outputs": [],
   "source": [
    "#hide\n",
    "# g['date'] = g.date.dt.dayofyear"
   ]
  },
  {
   "cell_type": "code",
   "execution_count": 35,
   "id": "inside-dubai",
   "metadata": {
    "execution": {
     "iopub.execute_input": "2022-06-20T12:15:51.214542Z",
     "iopub.status.busy": "2022-06-20T12:15:51.213865Z",
     "iopub.status.idle": "2022-06-20T12:15:51.216328Z",
     "shell.execute_reply": "2022-06-20T12:15:51.215677Z"
    },
    "papermill": {
     "duration": 0.036665,
     "end_time": "2022-06-20T12:15:51.216455",
     "exception": false,
     "start_time": "2022-06-20T12:15:51.179790",
     "status": "completed"
    },
    "tags": []
   },
   "outputs": [],
   "source": [
    "#hide\n",
    "# g = g.rename(columns= {'continent':'group','country':'name','cases':'value'})"
   ]
  },
  {
   "cell_type": "code",
   "execution_count": 36,
   "id": "fleet-motorcycle",
   "metadata": {
    "execution": {
     "iopub.execute_input": "2022-06-20T12:15:51.282443Z",
     "iopub.status.busy": "2022-06-20T12:15:51.281867Z",
     "iopub.status.idle": "2022-06-20T12:15:51.284567Z",
     "shell.execute_reply": "2022-06-20T12:15:51.284004Z"
    },
    "papermill": {
     "duration": 0.036751,
     "end_time": "2022-06-20T12:15:51.284675",
     "exception": false,
     "start_time": "2022-06-20T12:15:51.247924",
     "status": "completed"
    },
    "tags": []
   },
   "outputs": [],
   "source": [
    "#hide\n",
    "# cols = ['name','group','day','value']"
   ]
  },
  {
   "cell_type": "code",
   "execution_count": 37,
   "id": "continued-sleeping",
   "metadata": {
    "execution": {
     "iopub.execute_input": "2022-06-20T12:15:51.349887Z",
     "iopub.status.busy": "2022-06-20T12:15:51.349210Z",
     "iopub.status.idle": "2022-06-20T12:15:51.353602Z",
     "shell.execute_reply": "2022-06-20T12:15:51.353132Z"
    },
    "papermill": {
     "duration": 0.038482,
     "end_time": "2022-06-20T12:15:51.353709",
     "exception": false,
     "start_time": "2022-06-20T12:15:51.315227",
     "status": "completed"
    },
    "tags": []
   },
   "outputs": [],
   "source": [
    "#hide\n",
    "# g.rename(columns= {'date':'day'},inplace = True)"
   ]
  },
  {
   "cell_type": "code",
   "execution_count": 38,
   "id": "major-fight",
   "metadata": {
    "execution": {
     "iopub.execute_input": "2022-06-20T12:15:51.419376Z",
     "iopub.status.busy": "2022-06-20T12:15:51.418800Z",
     "iopub.status.idle": "2022-06-20T12:15:51.421022Z",
     "shell.execute_reply": "2022-06-20T12:15:51.421467Z"
    },
    "papermill": {
     "duration": 0.036839,
     "end_time": "2022-06-20T12:15:51.421585",
     "exception": false,
     "start_time": "2022-06-20T12:15:51.384746",
     "status": "completed"
    },
    "tags": []
   },
   "outputs": [],
   "source": [
    "#hide\n",
    "# g = g[cols]"
   ]
  },
  {
   "cell_type": "code",
   "execution_count": 39,
   "id": "structured-mobile",
   "metadata": {
    "execution": {
     "iopub.execute_input": "2022-06-20T12:15:51.487971Z",
     "iopub.status.busy": "2022-06-20T12:15:51.487274Z",
     "iopub.status.idle": "2022-06-20T12:15:51.489914Z",
     "shell.execute_reply": "2022-06-20T12:15:51.489474Z"
    },
    "papermill": {
     "duration": 0.036021,
     "end_time": "2022-06-20T12:15:51.490020",
     "exception": false,
     "start_time": "2022-06-20T12:15:51.453999",
     "status": "completed"
    },
    "tags": []
   },
   "outputs": [],
   "source": [
    "# #hide\n",
    "# g = g[g.group.notna()]"
   ]
  },
  {
   "cell_type": "code",
   "execution_count": 40,
   "id": "determined-closing",
   "metadata": {
    "execution": {
     "iopub.execute_input": "2022-06-20T12:15:51.555057Z",
     "iopub.status.busy": "2022-06-20T12:15:51.554475Z",
     "iopub.status.idle": "2022-06-20T12:15:51.556824Z",
     "shell.execute_reply": "2022-06-20T12:15:51.557290Z"
    },
    "papermill": {
     "duration": 0.036672,
     "end_time": "2022-06-20T12:15:51.557406",
     "exception": false,
     "start_time": "2022-06-20T12:15:51.520734",
     "status": "completed"
    },
    "tags": []
   },
   "outputs": [],
   "source": [
    "# #hide\n",
    "# colors = dict(zip(\n",
    "#     [\"Oceania\", \"Europe\", \"Asia\", \"South America\", \"Middle East\", \"North America\", \"Africa\"],\n",
    "#     [\"#adb0ff\", \"#ffb3ff\", \"#90d595\", \"#e48381\", \"#aafbff\", \"#f7bb5f\", \"#eafb50\"]\n",
    "# ))\n",
    "# group_lk = g.set_index('name')['group'].to_dict()"
   ]
  },
  {
   "cell_type": "code",
   "execution_count": null,
   "id": "gross-drinking",
   "metadata": {
    "papermill": {
     "duration": 0.03033,
     "end_time": "2022-06-20T12:15:51.617945",
     "exception": false,
     "start_time": "2022-06-20T12:15:51.587615",
     "status": "completed"
    },
    "tags": []
   },
   "outputs": [],
   "source": []
  },
  {
   "cell_type": "code",
   "execution_count": 41,
   "id": "subject-macintosh",
   "metadata": {
    "execution": {
     "iopub.execute_input": "2022-06-20T12:15:51.684528Z",
     "iopub.status.busy": "2022-06-20T12:15:51.683887Z",
     "iopub.status.idle": "2022-06-20T12:15:51.686546Z",
     "shell.execute_reply": "2022-06-20T12:15:51.686087Z"
    },
    "papermill": {
     "duration": 0.03815,
     "end_time": "2022-06-20T12:15:51.686660",
     "exception": false,
     "start_time": "2022-06-20T12:15:51.648510",
     "status": "completed"
    },
    "tags": []
   },
   "outputs": [],
   "source": [
    "# #hide\n",
    "# fig, ax = plt.subplots(figsize=(15, 8))\n",
    "\n",
    "# def draw_barchart(current_day):\n",
    "#     dff = g[g['day'].eq(current_day)].sort_values(by='value', ascending=True).tail(10)\n",
    "#     ax.clear()\n",
    "#     ax.barh(dff['name'], dff['value'], color=[colors[group_lk[x]] for x in dff['name']])\n",
    "#     dx = dff['value'].max() / 200\n",
    "    \n",
    "#     for i, (value, name) in enumerate(zip(dff['value'], dff['name'])):\n",
    "#         ax.text(value-dx, i,     name,           size=14, weight=600, ha='right', va='bottom')\n",
    "#         ax.text(value-dx, i-.25, group_lk[name], size=10, color='#444444', ha='right', va='baseline')\n",
    "#         ax.text(value+dx, i,     f'{value:,.0f}',  size=14, ha='left',  va='center')\n",
    "#     ax.text(1, 0.4, current_day, transform=ax.transAxes, color='#777777', size=46, ha='right', weight=800)\n",
    "#     ax.text(0, 1.06, 'Population (thousands)', transform=ax.transAxes, size=12, color='#777777')\n",
    "#     ax.xaxis.set_major_formatter(ticker.StrMethodFormatter('{x:,.0f}'))\n",
    "#     ax.xaxis.set_ticks_position('top')\n",
    "#     ax.tick_params(axis='x', colors='#777777', labelsize=12)\n",
    "#     ax.set_yticks([])\n",
    "#     ax.margins(0, 0.01)\n",
    "#     ax.grid(which='major', axis='x', linestyle='-')\n",
    "#     ax.set_axisbelow(True)\n",
    "    \n",
    "#     ax.text(0, 1.15, 'Coronavirus',\n",
    "#             transform=ax.transAxes, size=24, weight=600, ha='left', va='top')\n",
    "# #     ax.text(1, 0, 'by @pratapvardhan; credit @jburnmurdoch', transform=ax.transAxes, color='#777777', ha='right',\n",
    "# #             bbox=dict(facecolor='white', alpha=0.8, edgecolor='white'))\n",
    "#     plt.box(False)"
   ]
  },
  {
   "cell_type": "code",
   "execution_count": 42,
   "id": "sexual-wages",
   "metadata": {
    "execution": {
     "iopub.execute_input": "2022-06-20T12:15:51.752021Z",
     "iopub.status.busy": "2022-06-20T12:15:51.751383Z",
     "iopub.status.idle": "2022-06-20T12:15:51.754163Z",
     "shell.execute_reply": "2022-06-20T12:15:51.753699Z"
    },
    "papermill": {
     "duration": 0.036943,
     "end_time": "2022-06-20T12:15:51.754271",
     "exception": false,
     "start_time": "2022-06-20T12:15:51.717328",
     "status": "completed"
    },
    "tags": []
   },
   "outputs": [],
   "source": [
    "# #hide_input\n",
    "# fig, ax = plt.subplots(figsize=(15, 8))\n",
    "# animator = animation.FuncAnimation(fig, draw_barchart, frames=range(g.day.values.min(), g.day.values.max()))\n",
    "# HTML(animator.to_jshtml())\n",
    "# # or use animator.to_html5_video() or animator.save() "
   ]
  },
  {
   "cell_type": "code",
   "execution_count": null,
   "id": "australian-container",
   "metadata": {
    "papermill": {
     "duration": 0.03053,
     "end_time": "2022-06-20T12:15:51.815471",
     "exception": false,
     "start_time": "2022-06-20T12:15:51.784941",
     "status": "completed"
    },
    "tags": []
   },
   "outputs": [],
   "source": []
  },
  {
   "cell_type": "code",
   "execution_count": null,
   "id": "mediterranean-pontiac",
   "metadata": {
    "papermill": {
     "duration": 0.030678,
     "end_time": "2022-06-20T12:15:51.876759",
     "exception": false,
     "start_time": "2022-06-20T12:15:51.846081",
     "status": "completed"
    },
    "tags": []
   },
   "outputs": [],
   "source": []
  },
  {
   "cell_type": "code",
   "execution_count": null,
   "id": "aging-legislature",
   "metadata": {
    "papermill": {
     "duration": 0.030419,
     "end_time": "2022-06-20T12:15:51.937859",
     "exception": false,
     "start_time": "2022-06-20T12:15:51.907440",
     "status": "completed"
    },
    "tags": []
   },
   "outputs": [],
   "source": []
  }
 ],
 "metadata": {
  "kernelspec": {
   "display_name": "Python 3",
   "language": "python",
   "name": "python3"
  },
  "language_info": {
   "codemirror_mode": {
    "name": "ipython",
    "version": 3
   },
   "file_extension": ".py",
   "mimetype": "text/x-python",
   "name": "python",
   "nbconvert_exporter": "python",
   "pygments_lexer": "ipython3",
   "version": "3.6.15"
  },
  "papermill": {
   "duration": 5.943228,
   "end_time": "2022-06-20T12:15:52.288714",
   "environment_variables": {},
   "exception": null,
   "input_path": "2020-03-21-covid19exp.ipynb",
   "output_path": "2020-03-21-covid19exp.ipynb",
   "parameters": {},
   "start_time": "2022-06-20T12:15:46.345486",
   "version": "2.0.0"
  }
 },
 "nbformat": 4,
 "nbformat_minor": 5
}