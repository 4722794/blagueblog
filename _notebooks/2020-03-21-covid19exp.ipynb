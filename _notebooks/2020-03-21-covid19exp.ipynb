{
 "cells": [
  {
   "cell_type": "markdown",
   "id": "muslim-click",
   "metadata": {
    "papermill": {
     "duration": 0.042057,
     "end_time": "2021-02-22T12:06:22.020176",
     "exception": false,
     "start_time": "2021-02-22T12:06:21.978119",
     "status": "completed"
    },
    "tags": []
   },
   "source": [
    "# COVID-19 Case Race\n",
    "> A race chart to see rising cases around the world\n",
    "\n",
    "- author: Hargun Oberoi\n",
    "- image: images/covid-overview.png\n",
    "- hide: false\n",
    "- badges: false"
   ]
  },
  {
   "cell_type": "code",
   "execution_count": 1,
   "id": "proof-material",
   "metadata": {
    "execution": {
     "iopub.execute_input": "2021-02-22T12:06:22.102817Z",
     "iopub.status.busy": "2021-02-22T12:06:22.102202Z",
     "iopub.status.idle": "2021-02-22T12:06:22.447855Z",
     "shell.execute_reply": "2021-02-22T12:06:22.446898Z"
    },
    "papermill": {
     "duration": 0.392331,
     "end_time": "2021-02-22T12:06:22.448088",
     "exception": false,
     "start_time": "2021-02-22T12:06:22.055757",
     "status": "completed"
    },
    "tags": []
   },
   "outputs": [],
   "source": [
    "#hide\n",
    "import numpy as np\n",
    "import pandas as pd\n",
    "from jinja2 import Template\n",
    "from IPython.display import HTML"
   ]
  },
  {
   "cell_type": "code",
   "execution_count": 2,
   "id": "developed-terminology",
   "metadata": {
    "execution": {
     "iopub.execute_input": "2021-02-22T12:06:22.526142Z",
     "iopub.status.busy": "2021-02-22T12:06:22.525499Z",
     "iopub.status.idle": "2021-02-22T12:06:22.527144Z",
     "shell.execute_reply": "2021-02-22T12:06:22.527613Z"
    },
    "papermill": {
     "duration": 0.04186,
     "end_time": "2021-02-22T12:06:22.527756",
     "exception": false,
     "start_time": "2021-02-22T12:06:22.485896",
     "status": "completed"
    },
    "tags": []
   },
   "outputs": [],
   "source": [
    "#hide\n",
    "\n",
    "# FETCH\n",
    "base_url = 'https://raw.githubusercontent.com/pratapvardhan/notebooks/master/covid19/'\n",
    "paths = {\n",
    "    'mapping': base_url + 'mapping_countries.csv',\n",
    "    'overview': base_url + 'overview.tpl'\n",
    "}"
   ]
  },
  {
   "cell_type": "code",
   "execution_count": 3,
   "id": "dynamic-saver",
   "metadata": {
    "execution": {
     "iopub.execute_input": "2021-02-22T12:06:22.610059Z",
     "iopub.status.busy": "2021-02-22T12:06:22.605493Z",
     "iopub.status.idle": "2021-02-22T12:06:22.613232Z",
     "shell.execute_reply": "2021-02-22T12:06:22.612723Z"
    },
    "papermill": {
     "duration": 0.051732,
     "end_time": "2021-02-22T12:06:22.613363",
     "exception": false,
     "start_time": "2021-02-22T12:06:22.561631",
     "status": "completed"
    },
    "tags": []
   },
   "outputs": [
    {
     "data": {
      "text/plain": [
       "'https://raw.githubusercontent.com/pratapvardhan/notebooks/master/covid19/mapping_countries.csv'"
      ]
     },
     "execution_count": 3,
     "metadata": {},
     "output_type": "execute_result"
    }
   ],
   "source": [
    "#hide\n",
    "paths['mapping']"
   ]
  },
  {
   "cell_type": "code",
   "execution_count": 4,
   "id": "urban-software",
   "metadata": {
    "execution": {
     "iopub.execute_input": "2021-02-22T12:06:22.687834Z",
     "iopub.status.busy": "2021-02-22T12:06:22.686943Z",
     "iopub.status.idle": "2021-02-22T12:06:22.689201Z",
     "shell.execute_reply": "2021-02-22T12:06:22.689776Z"
    },
    "papermill": {
     "duration": 0.042844,
     "end_time": "2021-02-22T12:06:22.689926",
     "exception": false,
     "start_time": "2021-02-22T12:06:22.647082",
     "status": "completed"
    },
    "tags": []
   },
   "outputs": [],
   "source": [
    "#hide\n",
    "def get_mappings(url):\n",
    "    df = pd.read_csv(url)\n",
    "    return {\n",
    "        'df': df,\n",
    "        'replace.country': dict(df.dropna(subset=['Name']).set_index('Country')['Name']),\n",
    "        'map.continent': dict(df.set_index('Name')['Continent'])\n",
    "    }"
   ]
  },
  {
   "cell_type": "code",
   "execution_count": 5,
   "id": "intimate-machinery",
   "metadata": {
    "execution": {
     "iopub.execute_input": "2021-02-22T12:06:22.763971Z",
     "iopub.status.busy": "2021-02-22T12:06:22.763311Z",
     "iopub.status.idle": "2021-02-22T12:06:22.802616Z",
     "shell.execute_reply": "2021-02-22T12:06:22.803407Z"
    },
    "papermill": {
     "duration": 0.080076,
     "end_time": "2021-02-22T12:06:22.803648",
     "exception": false,
     "start_time": "2021-02-22T12:06:22.723572",
     "status": "completed"
    },
    "tags": []
   },
   "outputs": [],
   "source": [
    "#hide\n",
    "mapping = get_mappings(paths['mapping'])"
   ]
  },
  {
   "cell_type": "code",
   "execution_count": 6,
   "id": "certified-tactics",
   "metadata": {
    "execution": {
     "iopub.execute_input": "2021-02-22T12:06:22.880009Z",
     "iopub.status.busy": "2021-02-22T12:06:22.879371Z",
     "iopub.status.idle": "2021-02-22T12:06:22.881652Z",
     "shell.execute_reply": "2021-02-22T12:06:22.881163Z"
    },
    "papermill": {
     "duration": 0.043037,
     "end_time": "2021-02-22T12:06:22.881783",
     "exception": false,
     "start_time": "2021-02-22T12:06:22.838746",
     "status": "completed"
    },
    "tags": []
   },
   "outputs": [],
   "source": [
    "#hide\n",
    "def get_template(path):\n",
    "    from urllib.parse import urlparse\n",
    "    if bool(urlparse(path).netloc):\n",
    "        from urllib.request import urlopen\n",
    "        return urlopen(path).read().decode('utf8')\n",
    "    return open(path).read()"
   ]
  },
  {
   "cell_type": "code",
   "execution_count": 7,
   "id": "realistic-blast",
   "metadata": {
    "execution": {
     "iopub.execute_input": "2021-02-22T12:06:22.956184Z",
     "iopub.status.busy": "2021-02-22T12:06:22.955578Z",
     "iopub.status.idle": "2021-02-22T12:06:22.958451Z",
     "shell.execute_reply": "2021-02-22T12:06:22.959198Z"
    },
    "papermill": {
     "duration": 0.044126,
     "end_time": "2021-02-22T12:06:22.959353",
     "exception": false,
     "start_time": "2021-02-22T12:06:22.915227",
     "status": "completed"
    },
    "tags": []
   },
   "outputs": [],
   "source": [
    "#hide\n",
    "def get_frame(name):\n",
    "    url = (\n",
    "        'https://raw.githubusercontent.com/CSSEGISandData/COVID-19/master/csse_covid_19_data/'\n",
    "        f'csse_covid_19_time_series/time_series_covid19_{name}_global.csv')\n",
    "    df = pd.read_csv(url)\n",
    "    # rename countries\n",
    "    df['Country/Region'] = df['Country/Region'].replace(mapping['replace.country'])\n",
    "    return df"
   ]
  },
  {
   "cell_type": "code",
   "execution_count": 8,
   "id": "affiliated-characterization",
   "metadata": {
    "execution": {
     "iopub.execute_input": "2021-02-22T12:06:23.033771Z",
     "iopub.status.busy": "2021-02-22T12:06:23.033176Z",
     "iopub.status.idle": "2021-02-22T12:06:23.035230Z",
     "shell.execute_reply": "2021-02-22T12:06:23.035729Z"
    },
    "papermill": {
     "duration": 0.043379,
     "end_time": "2021-02-22T12:06:23.035866",
     "exception": false,
     "start_time": "2021-02-22T12:06:22.992487",
     "status": "completed"
    },
    "tags": []
   },
   "outputs": [],
   "source": [
    "#hide\n",
    "def get_dates(df):\n",
    "    dt_cols = df.columns[~df.columns.isin(['Province/State', 'Country/Region', 'Lat', 'Long'])]\n",
    "    LAST_DATE_I = -1\n",
    "    # sometimes last column may be empty, then go backwards\n",
    "    for i in range(-1, -len(dt_cols), -1):\n",
    "        if not df[dt_cols[i]].fillna(0).eq(0).all():\n",
    "            LAST_DATE_I = i\n",
    "            break\n",
    "    return LAST_DATE_I, dt_cols"
   ]
  },
  {
   "cell_type": "code",
   "execution_count": 9,
   "id": "recent-optimization",
   "metadata": {
    "execution": {
     "iopub.execute_input": "2021-02-22T12:06:23.106740Z",
     "iopub.status.busy": "2021-02-22T12:06:23.106147Z",
     "iopub.status.idle": "2021-02-22T12:06:23.401102Z",
     "shell.execute_reply": "2021-02-22T12:06:23.399925Z"
    },
    "papermill": {
     "duration": 0.332646,
     "end_time": "2021-02-22T12:06:23.401250",
     "exception": false,
     "start_time": "2021-02-22T12:06:23.068604",
     "status": "completed"
    },
    "tags": []
   },
   "outputs": [],
   "source": [
    "#hide\n",
    "COL_REGION = 'Country/Region'\n",
    "# Confirmed, Recovered, Deaths\n",
    "df = get_frame('confirmed')\n",
    "# dft_: timeseries, dfc_: today country agg\n",
    "dft_cases = df\n",
    "dft_deaths = get_frame('deaths')\n",
    "dft_recovered = get_frame('recovered')\n",
    "LAST_DATE_I, dt_cols = get_dates(df)"
   ]
  },
  {
   "cell_type": "code",
   "execution_count": 10,
   "id": "absolute-copper",
   "metadata": {
    "execution": {
     "iopub.execute_input": "2021-02-22T12:06:23.474153Z",
     "iopub.status.busy": "2021-02-22T12:06:23.473499Z",
     "iopub.status.idle": "2021-02-22T12:06:23.476072Z",
     "shell.execute_reply": "2021-02-22T12:06:23.476551Z"
    },
    "papermill": {
     "duration": 0.042055,
     "end_time": "2021-02-22T12:06:23.476699",
     "exception": false,
     "start_time": "2021-02-22T12:06:23.434644",
     "status": "completed"
    },
    "tags": []
   },
   "outputs": [],
   "source": [
    "#hide\n",
    "LAST_DATE_I, dt_cols = get_dates(df)\n",
    "dt_today =dt_cols[LAST_DATE_I]\n",
    "# dt_5day = dt_cols[LAST_DATE_I - 5]\n",
    "dt_yday = dt_cols[LAST_DATE_I - 1]"
   ]
  },
  {
   "cell_type": "code",
   "execution_count": 11,
   "id": "restricted-sheriff",
   "metadata": {
    "execution": {
     "iopub.execute_input": "2021-02-22T12:06:23.549159Z",
     "iopub.status.busy": "2021-02-22T12:06:23.548559Z",
     "iopub.status.idle": "2021-02-22T12:06:23.556286Z",
     "shell.execute_reply": "2021-02-22T12:06:23.555804Z"
    },
    "papermill": {
     "duration": 0.046944,
     "end_time": "2021-02-22T12:06:23.556415",
     "exception": false,
     "start_time": "2021-02-22T12:06:23.509471",
     "status": "completed"
    },
    "tags": []
   },
   "outputs": [],
   "source": [
    "#hide\n",
    "dfc_cases = dft_cases.groupby(COL_REGION)[dt_today].sum()\n",
    "dfc_deaths = dft_deaths.groupby(COL_REGION)[dt_today].sum()\n",
    "# dfp_cases = dft_cases.groupby(COL_REGION)[dt_5day].sum()\n",
    "# dfp_deaths = dft_deaths.groupby(COL_REGION)[dt_5day].sum()\n",
    "dfp_cases = dft_cases.groupby(COL_REGION)[dt_yday].sum()\n",
    "dfp_deaths = dft_deaths.groupby(COL_REGION)[dt_yday].sum()"
   ]
  },
  {
   "cell_type": "code",
   "execution_count": 12,
   "id": "deluxe-hepatitis",
   "metadata": {
    "execution": {
     "iopub.execute_input": "2021-02-22T12:06:23.629517Z",
     "iopub.status.busy": "2021-02-22T12:06:23.628928Z",
     "iopub.status.idle": "2021-02-22T12:06:23.633802Z",
     "shell.execute_reply": "2021-02-22T12:06:23.633328Z"
    },
    "papermill": {
     "duration": 0.044388,
     "end_time": "2021-02-22T12:06:23.633927",
     "exception": false,
     "start_time": "2021-02-22T12:06:23.589539",
     "status": "completed"
    },
    "tags": []
   },
   "outputs": [],
   "source": [
    "#hide\n",
    "df_table = (pd.DataFrame(dict(Cases = dfc_cases, Deaths = dfc_deaths, PCases = dfp_cases, PDeaths = dfp_deaths))\n",
    "            .sort_values(by = ['Cases','Deaths'], ascending = [False, False])\n",
    "            .reset_index())"
   ]
  },
  {
   "cell_type": "code",
   "execution_count": 13,
   "id": "educational-chancellor",
   "metadata": {
    "execution": {
     "iopub.execute_input": "2021-02-22T12:06:23.720444Z",
     "iopub.status.busy": "2021-02-22T12:06:23.715328Z",
     "iopub.status.idle": "2021-02-22T12:06:23.728950Z",
     "shell.execute_reply": "2021-02-22T12:06:23.728443Z"
    },
    "papermill": {
     "duration": 0.06254,
     "end_time": "2021-02-22T12:06:23.729076",
     "exception": false,
     "start_time": "2021-02-22T12:06:23.666536",
     "status": "completed"
    },
    "tags": []
   },
   "outputs": [
    {
     "data": {
      "text/html": [
       "<div>\n",
       "<style scoped>\n",
       "    .dataframe tbody tr th:only-of-type {\n",
       "        vertical-align: middle;\n",
       "    }\n",
       "\n",
       "    .dataframe tbody tr th {\n",
       "        vertical-align: top;\n",
       "    }\n",
       "\n",
       "    .dataframe thead th {\n",
       "        text-align: right;\n",
       "    }\n",
       "</style>\n",
       "<table border=\"1\" class=\"dataframe\">\n",
       "  <thead>\n",
       "    <tr style=\"text-align: right;\">\n",
       "      <th></th>\n",
       "      <th>Country/Region</th>\n",
       "      <th>Cases</th>\n",
       "      <th>Deaths</th>\n",
       "      <th>PCases</th>\n",
       "      <th>PDeaths</th>\n",
       "      <th>Cases (+)</th>\n",
       "      <th>Deaths (+)</th>\n",
       "      <th>Fatality Rate</th>\n",
       "      <th>Continent</th>\n",
       "    </tr>\n",
       "  </thead>\n",
       "  <tbody>\n",
       "    <tr>\n",
       "      <th>0</th>\n",
       "      <td>US</td>\n",
       "      <td>28134115</td>\n",
       "      <td>498897</td>\n",
       "      <td>28077620</td>\n",
       "      <td>497648</td>\n",
       "      <td>56495</td>\n",
       "      <td>1249</td>\n",
       "      <td>1.77</td>\n",
       "      <td>North America</td>\n",
       "    </tr>\n",
       "    <tr>\n",
       "      <th>1</th>\n",
       "      <td>India</td>\n",
       "      <td>11005850</td>\n",
       "      <td>156385</td>\n",
       "      <td>10991651</td>\n",
       "      <td>156302</td>\n",
       "      <td>14199</td>\n",
       "      <td>83</td>\n",
       "      <td>1.42</td>\n",
       "      <td>Asia</td>\n",
       "    </tr>\n",
       "    <tr>\n",
       "      <th>2</th>\n",
       "      <td>Brazil</td>\n",
       "      <td>10168174</td>\n",
       "      <td>246504</td>\n",
       "      <td>10139148</td>\n",
       "      <td>245977</td>\n",
       "      <td>29026</td>\n",
       "      <td>527</td>\n",
       "      <td>2.42</td>\n",
       "      <td>South America</td>\n",
       "    </tr>\n",
       "    <tr>\n",
       "      <th>3</th>\n",
       "      <td>United Kingdom</td>\n",
       "      <td>4127574</td>\n",
       "      <td>120810</td>\n",
       "      <td>4117739</td>\n",
       "      <td>120593</td>\n",
       "      <td>9835</td>\n",
       "      <td>217</td>\n",
       "      <td>2.93</td>\n",
       "      <td>Europe</td>\n",
       "    </tr>\n",
       "    <tr>\n",
       "      <th>4</th>\n",
       "      <td>Russia</td>\n",
       "      <td>4117992</td>\n",
       "      <td>81926</td>\n",
       "      <td>4105424</td>\n",
       "      <td>81517</td>\n",
       "      <td>12568</td>\n",
       "      <td>409</td>\n",
       "      <td>1.99</td>\n",
       "      <td>Europe</td>\n",
       "    </tr>\n",
       "  </tbody>\n",
       "</table>\n",
       "</div>"
      ],
      "text/plain": [
       "   Country/Region     Cases  Deaths    PCases  PDeaths  Cases (+)  Deaths (+)  \\\n",
       "0              US  28134115  498897  28077620   497648      56495        1249   \n",
       "1           India  11005850  156385  10991651   156302      14199          83   \n",
       "2          Brazil  10168174  246504  10139148   245977      29026         527   \n",
       "3  United Kingdom   4127574  120810   4117739   120593       9835         217   \n",
       "4          Russia   4117992   81926   4105424    81517      12568         409   \n",
       "\n",
       "   Fatality Rate      Continent  \n",
       "0           1.77  North America  \n",
       "1           1.42           Asia  \n",
       "2           2.42  South America  \n",
       "3           2.93         Europe  \n",
       "4           1.99         Europe  "
      ]
     },
     "execution_count": 13,
     "metadata": {},
     "output_type": "execute_result"
    }
   ],
   "source": [
    "#hide\n",
    "for c in 'Cases, Deaths'.split(', '):\n",
    "    df_table[f'{c} (+)'] = (df_table[c] - df_table[f'P{c}']).clip(0)\n",
    "    #Clip ça veut dire, les chiffres negatif sont interdit\n",
    "df_table['Fatality Rate'] = (100* df_table['Deaths']/ df_table['Cases']).round(2)\n",
    "df_table['Continent'] = df_table['Country/Region'].map(mapping['map.continent'])\n",
    "df_table.head(5)"
   ]
  },
  {
   "cell_type": "code",
   "execution_count": 14,
   "id": "aboriginal-bulgaria",
   "metadata": {
    "execution": {
     "iopub.execute_input": "2021-02-22T12:06:23.802859Z",
     "iopub.status.busy": "2021-02-22T12:06:23.802262Z",
     "iopub.status.idle": "2021-02-22T12:06:23.804711Z",
     "shell.execute_reply": "2021-02-22T12:06:23.804237Z"
    },
    "papermill": {
     "duration": 0.041741,
     "end_time": "2021-02-22T12:06:23.804832",
     "exception": false,
     "start_time": "2021-02-22T12:06:23.763091",
     "status": "completed"
    },
    "tags": []
   },
   "outputs": [],
   "source": [
    "#hide\n",
    "#delete problematic countries from table\n",
    "df_table = df_table[~df_table['Country/Region'].isin(['Cape Verde', 'Cruise Ship', 'Kosovo'])]"
   ]
  },
  {
   "cell_type": "code",
   "execution_count": 15,
   "id": "fantastic-effect",
   "metadata": {
    "execution": {
     "iopub.execute_input": "2021-02-22T12:06:23.884731Z",
     "iopub.status.busy": "2021-02-22T12:06:23.880821Z",
     "iopub.status.idle": "2021-02-22T12:06:23.903007Z",
     "shell.execute_reply": "2021-02-22T12:06:23.902534Z"
    },
    "papermill": {
     "duration": 0.064541,
     "end_time": "2021-02-22T12:06:23.903130",
     "exception": false,
     "start_time": "2021-02-22T12:06:23.838589",
     "status": "completed"
    },
    "tags": []
   },
   "outputs": [
    {
     "data": {
      "text/html": [
       "<div>\n",
       "<style scoped>\n",
       "    .dataframe tbody tr th:only-of-type {\n",
       "        vertical-align: middle;\n",
       "    }\n",
       "\n",
       "    .dataframe tbody tr th {\n",
       "        vertical-align: top;\n",
       "    }\n",
       "\n",
       "    .dataframe thead th {\n",
       "        text-align: right;\n",
       "    }\n",
       "</style>\n",
       "<table border=\"1\" class=\"dataframe\">\n",
       "  <thead>\n",
       "    <tr style=\"text-align: right;\">\n",
       "      <th></th>\n",
       "      <th>Country/Region</th>\n",
       "      <th>Cases</th>\n",
       "      <th>Deaths</th>\n",
       "      <th>PCases</th>\n",
       "      <th>PDeaths</th>\n",
       "      <th>Cases (+)</th>\n",
       "      <th>Deaths (+)</th>\n",
       "      <th>Fatality Rate</th>\n",
       "      <th>Continent</th>\n",
       "    </tr>\n",
       "  </thead>\n",
       "  <tbody>\n",
       "    <tr>\n",
       "      <th>0</th>\n",
       "      <td>US</td>\n",
       "      <td>28134115</td>\n",
       "      <td>498897</td>\n",
       "      <td>28077620</td>\n",
       "      <td>497648</td>\n",
       "      <td>56495</td>\n",
       "      <td>1249</td>\n",
       "      <td>1.8</td>\n",
       "      <td>North America</td>\n",
       "    </tr>\n",
       "    <tr>\n",
       "      <th>1</th>\n",
       "      <td>India</td>\n",
       "      <td>11005850</td>\n",
       "      <td>156385</td>\n",
       "      <td>10991651</td>\n",
       "      <td>156302</td>\n",
       "      <td>14199</td>\n",
       "      <td>83</td>\n",
       "      <td>1.4</td>\n",
       "      <td>Asia</td>\n",
       "    </tr>\n",
       "    <tr>\n",
       "      <th>2</th>\n",
       "      <td>Brazil</td>\n",
       "      <td>10168174</td>\n",
       "      <td>246504</td>\n",
       "      <td>10139148</td>\n",
       "      <td>245977</td>\n",
       "      <td>29026</td>\n",
       "      <td>527</td>\n",
       "      <td>2.4</td>\n",
       "      <td>South America</td>\n",
       "    </tr>\n",
       "    <tr>\n",
       "      <th>3</th>\n",
       "      <td>United Kingdom</td>\n",
       "      <td>4127574</td>\n",
       "      <td>120810</td>\n",
       "      <td>4117739</td>\n",
       "      <td>120593</td>\n",
       "      <td>9835</td>\n",
       "      <td>217</td>\n",
       "      <td>2.9</td>\n",
       "      <td>Europe</td>\n",
       "    </tr>\n",
       "    <tr>\n",
       "      <th>4</th>\n",
       "      <td>Russia</td>\n",
       "      <td>4117992</td>\n",
       "      <td>81926</td>\n",
       "      <td>4105424</td>\n",
       "      <td>81517</td>\n",
       "      <td>12568</td>\n",
       "      <td>409</td>\n",
       "      <td>2.0</td>\n",
       "      <td>Europe</td>\n",
       "    </tr>\n",
       "  </tbody>\n",
       "</table>\n",
       "</div>"
      ],
      "text/plain": [
       "   Country/Region     Cases  Deaths    PCases  PDeaths  Cases (+)  Deaths (+)  \\\n",
       "0              US  28134115  498897  28077620   497648      56495        1249   \n",
       "1           India  11005850  156385  10991651   156302      14199          83   \n",
       "2          Brazil  10168174  246504  10139148   245977      29026         527   \n",
       "3  United Kingdom   4127574  120810   4117739   120593       9835         217   \n",
       "4          Russia   4117992   81926   4105424    81517      12568         409   \n",
       "\n",
       "   Fatality Rate      Continent  \n",
       "0            1.8  North America  \n",
       "1            1.4           Asia  \n",
       "2            2.4  South America  \n",
       "3            2.9         Europe  \n",
       "4            2.0         Europe  "
      ]
     },
     "execution_count": 15,
     "metadata": {},
     "output_type": "execute_result"
    }
   ],
   "source": [
    "#hide\n",
    "df_table = (pd.DataFrame(dict(Cases=dfc_cases, Deaths=dfc_deaths, PCases=dfp_cases, PDeaths=dfp_deaths))\n",
    "             .sort_values(by=['Cases', 'Deaths'], ascending=[False, False])\n",
    "             .reset_index())\n",
    "df_table.rename(columns={'index': 'Country/Region'}, inplace=True)\n",
    "for c in 'Cases, Deaths'.split(', '):\n",
    "    df_table[f'{c} (+)'] = (df_table[c] - df_table[f'P{c}']).clip(0)  # DATA BUG\n",
    "df_table['Fatality Rate'] = (100 * df_table['Deaths'] / df_table['Cases']).round(1)\n",
    "df_table['Continent'] = df_table['Country/Region'].map(mapping['map.continent'])\n",
    "df_table.head(5)"
   ]
  },
  {
   "cell_type": "code",
   "execution_count": 16,
   "id": "fewer-occasion",
   "metadata": {
    "execution": {
     "iopub.execute_input": "2021-02-22T12:06:23.979539Z",
     "iopub.status.busy": "2021-02-22T12:06:23.978951Z",
     "iopub.status.idle": "2021-02-22T12:06:23.981900Z",
     "shell.execute_reply": "2021-02-22T12:06:23.982437Z"
    },
    "papermill": {
     "duration": 0.045211,
     "end_time": "2021-02-22T12:06:23.982575",
     "exception": false,
     "start_time": "2021-02-22T12:06:23.937364",
     "status": "completed"
    },
    "tags": []
   },
   "outputs": [],
   "source": [
    "#hide\n",
    "#delete problematic countries from table\n",
    "df_table = df_table[~df_table['Country/Region'].isin(['Cape Verde', 'Cruise Ship', 'Kosovo'])]"
   ]
  },
  {
   "cell_type": "code",
   "execution_count": 17,
   "id": "related-center",
   "metadata": {
    "execution": {
     "iopub.execute_input": "2021-02-22T12:06:24.062171Z",
     "iopub.status.busy": "2021-02-22T12:06:24.061542Z",
     "iopub.status.idle": "2021-02-22T12:06:24.074028Z",
     "shell.execute_reply": "2021-02-22T12:06:24.074544Z"
    },
    "papermill": {
     "duration": 0.058531,
     "end_time": "2021-02-22T12:06:24.074692",
     "exception": false,
     "start_time": "2021-02-22T12:06:24.016161",
     "status": "completed"
    },
    "tags": []
   },
   "outputs": [],
   "source": [
    "#hide\n",
    "metrics = [df_table.columns[index] for index in [1,2,5,6]]\n",
    "# s_china = df_table[df_table['Country/Region'].eq('China')][metrics].sum().add_prefix('China ')\n",
    "s_us = df_table[df_table['Country/Region'].eq('US')][metrics].sum().add_prefix('US ')\n",
    "s_eu = df_table[df_table['Continent'].eq('Europe')][metrics].sum().add_prefix('EU ')\n",
    "s_ind = df_table[df_table['Country/Region'].eq('India')][metrics].sum().add_prefix('India ')\n",
    "summary = {'updated': pd.to_datetime(dt_today), 'since': pd.to_datetime(dt_yday)}\n",
    "summary = {'updated': pd.to_datetime(dt_today), 'since': pd.to_datetime(dt_yday)}\n",
    "summary = {**summary, **df_table[metrics].sum(), **s_ind, **s_us, **s_eu}"
   ]
  },
  {
   "cell_type": "code",
   "execution_count": 18,
   "id": "engaging-syndrome",
   "metadata": {
    "execution": {
     "iopub.execute_input": "2021-02-22T12:06:24.151091Z",
     "iopub.status.busy": "2021-02-22T12:06:24.150492Z",
     "iopub.status.idle": "2021-02-22T12:06:24.164407Z",
     "shell.execute_reply": "2021-02-22T12:06:24.164858Z"
    },
    "papermill": {
     "duration": 0.055908,
     "end_time": "2021-02-22T12:06:24.165005",
     "exception": false,
     "start_time": "2021-02-22T12:06:24.109097",
     "status": "completed"
    },
    "tags": []
   },
   "outputs": [],
   "source": [
    "#hide\n",
    "dft_ct_new_cases = dft_cases.groupby(COL_REGION)[dt_cols].sum().diff(axis=1).fillna(0).astype(int)"
   ]
  },
  {
   "cell_type": "code",
   "execution_count": 19,
   "id": "neutral-assignment",
   "metadata": {
    "execution": {
     "iopub.execute_input": "2021-02-22T12:06:24.240456Z",
     "iopub.status.busy": "2021-02-22T12:06:24.239869Z",
     "iopub.status.idle": "2021-02-22T12:06:24.242114Z",
     "shell.execute_reply": "2021-02-22T12:06:24.241595Z"
    },
    "papermill": {
     "duration": 0.042928,
     "end_time": "2021-02-22T12:06:24.242238",
     "exception": false,
     "start_time": "2021-02-22T12:06:24.199310",
     "status": "completed"
    },
    "tags": []
   },
   "outputs": [],
   "source": [
    "#hide\n",
    "everydaycases = dft_ct_new_cases.cumsum(axis=1)"
   ]
  },
  {
   "cell_type": "code",
   "execution_count": 20,
   "id": "parliamentary-calgary",
   "metadata": {
    "execution": {
     "iopub.execute_input": "2021-02-22T12:06:24.314945Z",
     "iopub.status.busy": "2021-02-22T12:06:24.314348Z",
     "iopub.status.idle": "2021-02-22T12:06:26.349997Z",
     "shell.execute_reply": "2021-02-22T12:06:26.349058Z"
    },
    "papermill": {
     "duration": 2.073831,
     "end_time": "2021-02-22T12:06:26.350228",
     "exception": false,
     "start_time": "2021-02-22T12:06:24.276397",
     "status": "completed"
    },
    "tags": []
   },
   "outputs": [],
   "source": [
    "#hide\n",
    "import pandas as pd\n",
    "import matplotlib.pyplot as plt\n",
    "import matplotlib.ticker as ticker\n",
    "import matplotlib.animation as animation\n",
    "from IPython.display import HTML"
   ]
  },
  {
   "cell_type": "code",
   "execution_count": 21,
   "id": "lasting-extraction",
   "metadata": {
    "execution": {
     "iopub.execute_input": "2021-02-22T12:06:26.433603Z",
     "iopub.status.busy": "2021-02-22T12:06:26.432693Z",
     "iopub.status.idle": "2021-02-22T12:06:26.438349Z",
     "shell.execute_reply": "2021-02-22T12:06:26.438834Z"
    },
    "papermill": {
     "duration": 0.052326,
     "end_time": "2021-02-22T12:06:26.438988",
     "exception": false,
     "start_time": "2021-02-22T12:06:26.386662",
     "status": "completed"
    },
    "tags": []
   },
   "outputs": [],
   "source": [
    "#hide\n",
    "t = everydaycases.stack()"
   ]
  },
  {
   "cell_type": "code",
   "execution_count": 22,
   "id": "premier-sleeve",
   "metadata": {
    "execution": {
     "iopub.execute_input": "2021-02-22T12:06:26.514883Z",
     "iopub.status.busy": "2021-02-22T12:06:26.514125Z",
     "iopub.status.idle": "2021-02-22T12:06:26.521376Z",
     "shell.execute_reply": "2021-02-22T12:06:26.520884Z"
    },
    "papermill": {
     "duration": 0.047202,
     "end_time": "2021-02-22T12:06:26.521516",
     "exception": false,
     "start_time": "2021-02-22T12:06:26.474314",
     "status": "completed"
    },
    "tags": []
   },
   "outputs": [],
   "source": [
    "#hide\n",
    "g = t.reset_index(['Country/Region'])"
   ]
  },
  {
   "cell_type": "code",
   "execution_count": 23,
   "id": "distributed-pittsburgh",
   "metadata": {
    "execution": {
     "iopub.execute_input": "2021-02-22T12:06:26.594084Z",
     "iopub.status.busy": "2021-02-22T12:06:26.593467Z",
     "iopub.status.idle": "2021-02-22T12:06:26.595769Z",
     "shell.execute_reply": "2021-02-22T12:06:26.595195Z"
    },
    "papermill": {
     "duration": 0.040323,
     "end_time": "2021-02-22T12:06:26.595892",
     "exception": false,
     "start_time": "2021-02-22T12:06:26.555569",
     "status": "completed"
    },
    "tags": []
   },
   "outputs": [],
   "source": [
    "#hide\n",
    "g.index.name = 'date'"
   ]
  },
  {
   "cell_type": "code",
   "execution_count": 24,
   "id": "naked-donor",
   "metadata": {
    "execution": {
     "iopub.execute_input": "2021-02-22T12:06:26.669256Z",
     "iopub.status.busy": "2021-02-22T12:06:26.668661Z",
     "iopub.status.idle": "2021-02-22T12:06:26.671192Z",
     "shell.execute_reply": "2021-02-22T12:06:26.670692Z"
    },
    "papermill": {
     "duration": 0.041333,
     "end_time": "2021-02-22T12:06:26.671313",
     "exception": false,
     "start_time": "2021-02-22T12:06:26.629980",
     "status": "completed"
    },
    "tags": []
   },
   "outputs": [],
   "source": [
    "# #hide\n",
    "# g = g.reset_index(['date'])"
   ]
  },
  {
   "cell_type": "code",
   "execution_count": 25,
   "id": "incomplete-mustang",
   "metadata": {
    "execution": {
     "iopub.execute_input": "2021-02-22T12:06:26.743742Z",
     "iopub.status.busy": "2021-02-22T12:06:26.743144Z",
     "iopub.status.idle": "2021-02-22T12:06:26.745930Z",
     "shell.execute_reply": "2021-02-22T12:06:26.746521Z"
    },
    "papermill": {
     "duration": 0.041389,
     "end_time": "2021-02-22T12:06:26.746664",
     "exception": false,
     "start_time": "2021-02-22T12:06:26.705275",
     "status": "completed"
    },
    "tags": []
   },
   "outputs": [],
   "source": [
    "#hide\n",
    "# g.head()"
   ]
  },
  {
   "cell_type": "code",
   "execution_count": 26,
   "id": "specific-kruger",
   "metadata": {
    "execution": {
     "iopub.execute_input": "2021-02-22T12:06:26.819145Z",
     "iopub.status.busy": "2021-02-22T12:06:26.818549Z",
     "iopub.status.idle": "2021-02-22T12:06:26.821061Z",
     "shell.execute_reply": "2021-02-22T12:06:26.821558Z"
    },
    "papermill": {
     "duration": 0.040785,
     "end_time": "2021-02-22T12:06:26.821698",
     "exception": false,
     "start_time": "2021-02-22T12:06:26.780913",
     "status": "completed"
    },
    "tags": []
   },
   "outputs": [],
   "source": [
    "#hide\n",
    "# g.columns = ['date','country','cases']"
   ]
  },
  {
   "cell_type": "code",
   "execution_count": 27,
   "id": "tender-conversion",
   "metadata": {
    "execution": {
     "iopub.execute_input": "2021-02-22T12:06:26.894492Z",
     "iopub.status.busy": "2021-02-22T12:06:26.893861Z",
     "iopub.status.idle": "2021-02-22T12:06:26.896086Z",
     "shell.execute_reply": "2021-02-22T12:06:26.895588Z"
    },
    "papermill": {
     "duration": 0.040585,
     "end_time": "2021-02-22T12:06:26.896207",
     "exception": false,
     "start_time": "2021-02-22T12:06:26.855622",
     "status": "completed"
    },
    "tags": []
   },
   "outputs": [],
   "source": [
    "#hide\n",
    "# g['continent'] = g.country"
   ]
  },
  {
   "cell_type": "code",
   "execution_count": 28,
   "id": "substantial-wilderness",
   "metadata": {
    "execution": {
     "iopub.execute_input": "2021-02-22T12:06:26.970628Z",
     "iopub.status.busy": "2021-02-22T12:06:26.969545Z",
     "iopub.status.idle": "2021-02-22T12:06:26.971713Z",
     "shell.execute_reply": "2021-02-22T12:06:26.972517Z"
    },
    "papermill": {
     "duration": 0.042347,
     "end_time": "2021-02-22T12:06:26.972741",
     "exception": false,
     "start_time": "2021-02-22T12:06:26.930394",
     "status": "completed"
    },
    "tags": []
   },
   "outputs": [],
   "source": [
    "#hide\n",
    "# cols = list(g.columns.values)"
   ]
  },
  {
   "cell_type": "code",
   "execution_count": 29,
   "id": "solved-farming",
   "metadata": {
    "execution": {
     "iopub.execute_input": "2021-02-22T12:06:27.047969Z",
     "iopub.status.busy": "2021-02-22T12:06:27.047350Z",
     "iopub.status.idle": "2021-02-22T12:06:27.049751Z",
     "shell.execute_reply": "2021-02-22T12:06:27.050256Z"
    },
    "papermill": {
     "duration": 0.042443,
     "end_time": "2021-02-22T12:06:27.050402",
     "exception": false,
     "start_time": "2021-02-22T12:06:27.007959",
     "status": "completed"
    },
    "tags": []
   },
   "outputs": [],
   "source": [
    "#hide\n",
    "# cols.insert(0, cols.pop())"
   ]
  },
  {
   "cell_type": "code",
   "execution_count": 30,
   "id": "executed-adoption",
   "metadata": {
    "execution": {
     "iopub.execute_input": "2021-02-22T12:06:27.125260Z",
     "iopub.status.busy": "2021-02-22T12:06:27.124570Z",
     "iopub.status.idle": "2021-02-22T12:06:27.127067Z",
     "shell.execute_reply": "2021-02-22T12:06:27.126575Z"
    },
    "papermill": {
     "duration": 0.041014,
     "end_time": "2021-02-22T12:06:27.127188",
     "exception": false,
     "start_time": "2021-02-22T12:06:27.086174",
     "status": "completed"
    },
    "tags": []
   },
   "outputs": [],
   "source": [
    "#hide\n",
    "# g = g[cols]"
   ]
  },
  {
   "cell_type": "code",
   "execution_count": 31,
   "id": "subject-dublin",
   "metadata": {
    "execution": {
     "iopub.execute_input": "2021-02-22T12:06:27.200291Z",
     "iopub.status.busy": "2021-02-22T12:06:27.199710Z",
     "iopub.status.idle": "2021-02-22T12:06:27.202248Z",
     "shell.execute_reply": "2021-02-22T12:06:27.202699Z"
    },
    "papermill": {
     "duration": 0.041476,
     "end_time": "2021-02-22T12:06:27.202836",
     "exception": false,
     "start_time": "2021-02-22T12:06:27.161360",
     "status": "completed"
    },
    "tags": []
   },
   "outputs": [],
   "source": [
    "#hide\n",
    "# g['continent'] = g['continent'].map(mapping['map.continent'])"
   ]
  },
  {
   "cell_type": "code",
   "execution_count": 32,
   "id": "freelance-scout",
   "metadata": {
    "execution": {
     "iopub.execute_input": "2021-02-22T12:06:27.276770Z",
     "iopub.status.busy": "2021-02-22T12:06:27.276196Z",
     "iopub.status.idle": "2021-02-22T12:06:27.279146Z",
     "shell.execute_reply": "2021-02-22T12:06:27.278654Z"
    },
    "papermill": {
     "duration": 0.041649,
     "end_time": "2021-02-22T12:06:27.279262",
     "exception": false,
     "start_time": "2021-02-22T12:06:27.237613",
     "status": "completed"
    },
    "tags": []
   },
   "outputs": [],
   "source": [
    "#hide\n",
    "# g.head()"
   ]
  },
  {
   "cell_type": "code",
   "execution_count": 33,
   "id": "limited-engine",
   "metadata": {
    "execution": {
     "iopub.execute_input": "2021-02-22T12:06:27.352863Z",
     "iopub.status.busy": "2021-02-22T12:06:27.351855Z",
     "iopub.status.idle": "2021-02-22T12:06:27.353937Z",
     "shell.execute_reply": "2021-02-22T12:06:27.354797Z"
    },
    "papermill": {
     "duration": 0.041737,
     "end_time": "2021-02-22T12:06:27.355014",
     "exception": false,
     "start_time": "2021-02-22T12:06:27.313277",
     "status": "completed"
    },
    "tags": []
   },
   "outputs": [],
   "source": [
    "# hide\n",
    "# g['date'] = g['date'].astype('datetime64[ns]')"
   ]
  },
  {
   "cell_type": "code",
   "execution_count": 34,
   "id": "sophisticated-supervisor",
   "metadata": {
    "execution": {
     "iopub.execute_input": "2021-02-22T12:06:27.429651Z",
     "iopub.status.busy": "2021-02-22T12:06:27.429036Z",
     "iopub.status.idle": "2021-02-22T12:06:27.430296Z",
     "shell.execute_reply": "2021-02-22T12:06:27.430791Z"
    },
    "papermill": {
     "duration": 0.040708,
     "end_time": "2021-02-22T12:06:27.430929",
     "exception": false,
     "start_time": "2021-02-22T12:06:27.390221",
     "status": "completed"
    },
    "tags": []
   },
   "outputs": [],
   "source": [
    "#hide\n",
    "# g['date'] = g.date.dt.dayofyear"
   ]
  },
  {
   "cell_type": "code",
   "execution_count": 35,
   "id": "inside-dubai",
   "metadata": {
    "execution": {
     "iopub.execute_input": "2021-02-22T12:06:27.512428Z",
     "iopub.status.busy": "2021-02-22T12:06:27.511830Z",
     "iopub.status.idle": "2021-02-22T12:06:27.514095Z",
     "shell.execute_reply": "2021-02-22T12:06:27.513580Z"
    },
    "papermill": {
     "duration": 0.041716,
     "end_time": "2021-02-22T12:06:27.514218",
     "exception": false,
     "start_time": "2021-02-22T12:06:27.472502",
     "status": "completed"
    },
    "tags": []
   },
   "outputs": [],
   "source": [
    "#hide\n",
    "# g = g.rename(columns= {'continent':'group','country':'name','cases':'value'})"
   ]
  },
  {
   "cell_type": "code",
   "execution_count": 36,
   "id": "fleet-motorcycle",
   "metadata": {
    "execution": {
     "iopub.execute_input": "2021-02-22T12:06:27.587703Z",
     "iopub.status.busy": "2021-02-22T12:06:27.587119Z",
     "iopub.status.idle": "2021-02-22T12:06:27.589604Z",
     "shell.execute_reply": "2021-02-22T12:06:27.590128Z"
    },
    "papermill": {
     "duration": 0.041786,
     "end_time": "2021-02-22T12:06:27.590264",
     "exception": false,
     "start_time": "2021-02-22T12:06:27.548478",
     "status": "completed"
    },
    "tags": []
   },
   "outputs": [],
   "source": [
    "#hide\n",
    "# cols = ['name','group','day','value']"
   ]
  },
  {
   "cell_type": "code",
   "execution_count": 37,
   "id": "continued-sleeping",
   "metadata": {
    "execution": {
     "iopub.execute_input": "2021-02-22T12:06:27.664369Z",
     "iopub.status.busy": "2021-02-22T12:06:27.663776Z",
     "iopub.status.idle": "2021-02-22T12:06:27.666103Z",
     "shell.execute_reply": "2021-02-22T12:06:27.665353Z"
    },
    "papermill": {
     "duration": 0.041315,
     "end_time": "2021-02-22T12:06:27.666233",
     "exception": false,
     "start_time": "2021-02-22T12:06:27.624918",
     "status": "completed"
    },
    "tags": []
   },
   "outputs": [],
   "source": [
    "#hide\n",
    "# g.rename(columns= {'date':'day'},inplace = True)"
   ]
  },
  {
   "cell_type": "code",
   "execution_count": 38,
   "id": "major-fight",
   "metadata": {
    "execution": {
     "iopub.execute_input": "2021-02-22T12:06:27.740666Z",
     "iopub.status.busy": "2021-02-22T12:06:27.740070Z",
     "iopub.status.idle": "2021-02-22T12:06:27.742476Z",
     "shell.execute_reply": "2021-02-22T12:06:27.743031Z"
    },
    "papermill": {
     "duration": 0.042318,
     "end_time": "2021-02-22T12:06:27.743171",
     "exception": false,
     "start_time": "2021-02-22T12:06:27.700853",
     "status": "completed"
    },
    "tags": []
   },
   "outputs": [],
   "source": [
    "#hide\n",
    "# g = g[cols]"
   ]
  },
  {
   "cell_type": "code",
   "execution_count": 39,
   "id": "structured-mobile",
   "metadata": {
    "execution": {
     "iopub.execute_input": "2021-02-22T12:06:27.816729Z",
     "iopub.status.busy": "2021-02-22T12:06:27.816141Z",
     "iopub.status.idle": "2021-02-22T12:06:27.817938Z",
     "shell.execute_reply": "2021-02-22T12:06:27.818421Z"
    },
    "papermill": {
     "duration": 0.041124,
     "end_time": "2021-02-22T12:06:27.818564",
     "exception": false,
     "start_time": "2021-02-22T12:06:27.777440",
     "status": "completed"
    },
    "tags": []
   },
   "outputs": [],
   "source": [
    "# #hide\n",
    "# g = g[g.group.notna()]"
   ]
  },
  {
   "cell_type": "code",
   "execution_count": 40,
   "id": "determined-closing",
   "metadata": {
    "execution": {
     "iopub.execute_input": "2021-02-22T12:06:27.892405Z",
     "iopub.status.busy": "2021-02-22T12:06:27.891804Z",
     "iopub.status.idle": "2021-02-22T12:06:27.894614Z",
     "shell.execute_reply": "2021-02-22T12:06:27.895174Z"
    },
    "papermill": {
     "duration": 0.042148,
     "end_time": "2021-02-22T12:06:27.895313",
     "exception": false,
     "start_time": "2021-02-22T12:06:27.853165",
     "status": "completed"
    },
    "tags": []
   },
   "outputs": [],
   "source": [
    "# #hide\n",
    "# colors = dict(zip(\n",
    "#     [\"Oceania\", \"Europe\", \"Asia\", \"South America\", \"Middle East\", \"North America\", \"Africa\"],\n",
    "#     [\"#adb0ff\", \"#ffb3ff\", \"#90d595\", \"#e48381\", \"#aafbff\", \"#f7bb5f\", \"#eafb50\"]\n",
    "# ))\n",
    "# group_lk = g.set_index('name')['group'].to_dict()"
   ]
  },
  {
   "cell_type": "code",
   "execution_count": null,
   "id": "gross-drinking",
   "metadata": {
    "papermill": {
     "duration": 0.034189,
     "end_time": "2021-02-22T12:06:27.964334",
     "exception": false,
     "start_time": "2021-02-22T12:06:27.930145",
     "status": "completed"
    },
    "tags": []
   },
   "outputs": [],
   "source": []
  },
  {
   "cell_type": "code",
   "execution_count": 41,
   "id": "subject-macintosh",
   "metadata": {
    "execution": {
     "iopub.execute_input": "2021-02-22T12:06:28.038958Z",
     "iopub.status.busy": "2021-02-22T12:06:28.038328Z",
     "iopub.status.idle": "2021-02-22T12:06:28.040935Z",
     "shell.execute_reply": "2021-02-22T12:06:28.040369Z"
    },
    "papermill": {
     "duration": 0.042973,
     "end_time": "2021-02-22T12:06:28.041052",
     "exception": false,
     "start_time": "2021-02-22T12:06:27.998079",
     "status": "completed"
    },
    "tags": []
   },
   "outputs": [],
   "source": [
    "# #hide\n",
    "# fig, ax = plt.subplots(figsize=(15, 8))\n",
    "\n",
    "# def draw_barchart(current_day):\n",
    "#     dff = g[g['day'].eq(current_day)].sort_values(by='value', ascending=True).tail(10)\n",
    "#     ax.clear()\n",
    "#     ax.barh(dff['name'], dff['value'], color=[colors[group_lk[x]] for x in dff['name']])\n",
    "#     dx = dff['value'].max() / 200\n",
    "    \n",
    "#     for i, (value, name) in enumerate(zip(dff['value'], dff['name'])):\n",
    "#         ax.text(value-dx, i,     name,           size=14, weight=600, ha='right', va='bottom')\n",
    "#         ax.text(value-dx, i-.25, group_lk[name], size=10, color='#444444', ha='right', va='baseline')\n",
    "#         ax.text(value+dx, i,     f'{value:,.0f}',  size=14, ha='left',  va='center')\n",
    "#     ax.text(1, 0.4, current_day, transform=ax.transAxes, color='#777777', size=46, ha='right', weight=800)\n",
    "#     ax.text(0, 1.06, 'Population (thousands)', transform=ax.transAxes, size=12, color='#777777')\n",
    "#     ax.xaxis.set_major_formatter(ticker.StrMethodFormatter('{x:,.0f}'))\n",
    "#     ax.xaxis.set_ticks_position('top')\n",
    "#     ax.tick_params(axis='x', colors='#777777', labelsize=12)\n",
    "#     ax.set_yticks([])\n",
    "#     ax.margins(0, 0.01)\n",
    "#     ax.grid(which='major', axis='x', linestyle='-')\n",
    "#     ax.set_axisbelow(True)\n",
    "    \n",
    "#     ax.text(0, 1.15, 'Coronavirus',\n",
    "#             transform=ax.transAxes, size=24, weight=600, ha='left', va='top')\n",
    "# #     ax.text(1, 0, 'by @pratapvardhan; credit @jburnmurdoch', transform=ax.transAxes, color='#777777', ha='right',\n",
    "# #             bbox=dict(facecolor='white', alpha=0.8, edgecolor='white'))\n",
    "#     plt.box(False)"
   ]
  },
  {
   "cell_type": "code",
   "execution_count": 42,
   "id": "sexual-wages",
   "metadata": {
    "execution": {
     "iopub.execute_input": "2021-02-22T12:06:28.118520Z",
     "iopub.status.busy": "2021-02-22T12:06:28.117880Z",
     "iopub.status.idle": "2021-02-22T12:06:28.120828Z",
     "shell.execute_reply": "2021-02-22T12:06:28.120326Z"
    },
    "papermill": {
     "duration": 0.042385,
     "end_time": "2021-02-22T12:06:28.120951",
     "exception": false,
     "start_time": "2021-02-22T12:06:28.078566",
     "status": "completed"
    },
    "tags": []
   },
   "outputs": [],
   "source": [
    "# #hide_input\n",
    "# fig, ax = plt.subplots(figsize=(15, 8))\n",
    "# animator = animation.FuncAnimation(fig, draw_barchart, frames=range(g.day.values.min(), g.day.values.max()))\n",
    "# HTML(animator.to_jshtml())\n",
    "# # or use animator.to_html5_video() or animator.save() "
   ]
  },
  {
   "cell_type": "code",
   "execution_count": null,
   "id": "australian-container",
   "metadata": {
    "papermill": {
     "duration": 0.035043,
     "end_time": "2021-02-22T12:06:28.190524",
     "exception": false,
     "start_time": "2021-02-22T12:06:28.155481",
     "status": "completed"
    },
    "tags": []
   },
   "outputs": [],
   "source": []
  },
  {
   "cell_type": "code",
   "execution_count": null,
   "id": "mediterranean-pontiac",
   "metadata": {
    "papermill": {
     "duration": 0.035182,
     "end_time": "2021-02-22T12:06:28.260110",
     "exception": false,
     "start_time": "2021-02-22T12:06:28.224928",
     "status": "completed"
    },
    "tags": []
   },
   "outputs": [],
   "source": []
  },
  {
   "cell_type": "code",
   "execution_count": null,
   "id": "aging-legislature",
   "metadata": {
    "papermill": {
     "duration": 0.034848,
     "end_time": "2021-02-22T12:06:28.330210",
     "exception": false,
     "start_time": "2021-02-22T12:06:28.295362",
     "status": "completed"
    },
    "tags": []
   },
   "outputs": [],
   "source": []
  }
 ],
 "metadata": {
  "kernelspec": {
   "display_name": "Python 3",
   "language": "python",
   "name": "python3"
  },
  "language_info": {
   "codemirror_mode": {
    "name": "ipython",
    "version": 3
   },
   "file_extension": ".py",
   "mimetype": "text/x-python",
   "name": "python",
   "nbconvert_exporter": "python",
   "pygments_lexer": "ipython3",
   "version": "3.6.12"
  },
  "papermill": {
   "duration": 7.898947,
   "end_time": "2021-02-22T12:06:28.775024",
   "environment_variables": {},
   "exception": null,
   "input_path": "2020-03-21-covid19exp.ipynb",
   "output_path": "2020-03-21-covid19exp.ipynb",
   "parameters": {},
   "start_time": "2021-02-22T12:06:20.876077",
   "version": "2.0.0"
  }
 },
 "nbformat": 4,
 "nbformat_minor": 5
}