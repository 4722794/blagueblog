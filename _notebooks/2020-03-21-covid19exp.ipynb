{
 "cells": [
  {
   "cell_type": "markdown",
   "id": "muslim-click",
   "metadata": {
    "papermill": {
     "duration": 0.044403,
     "end_time": "2021-11-14T12:11:37.846626",
     "exception": false,
     "start_time": "2021-11-14T12:11:37.802223",
     "status": "completed"
    },
    "tags": []
   },
   "source": [
    "# COVID-19 Case Race\n",
    "> A race chart to see rising cases around the world\n",
    "\n",
    "- author: Hargun Oberoi\n",
    "- image: images/covid-overview.png\n",
    "- hide: false\n",
    "- badges: false"
   ]
  },
  {
   "cell_type": "code",
   "execution_count": 1,
   "id": "proof-material",
   "metadata": {
    "execution": {
     "iopub.execute_input": "2021-11-14T12:11:37.949223Z",
     "iopub.status.busy": "2021-11-14T12:11:37.948511Z",
     "iopub.status.idle": "2021-11-14T12:11:38.331425Z",
     "shell.execute_reply": "2021-11-14T12:11:38.330766Z"
    },
    "papermill": {
     "duration": 0.44554,
     "end_time": "2021-11-14T12:11:38.331618",
     "exception": false,
     "start_time": "2021-11-14T12:11:37.886078",
     "status": "completed"
    },
    "tags": []
   },
   "outputs": [],
   "source": [
    "#hide\n",
    "import numpy as np\n",
    "import pandas as pd\n",
    "from jinja2 import Template\n",
    "from IPython.display import HTML"
   ]
  },
  {
   "cell_type": "code",
   "execution_count": 2,
   "id": "developed-terminology",
   "metadata": {
    "execution": {
     "iopub.execute_input": "2021-11-14T12:11:38.415489Z",
     "iopub.status.busy": "2021-11-14T12:11:38.414816Z",
     "iopub.status.idle": "2021-11-14T12:11:38.419757Z",
     "shell.execute_reply": "2021-11-14T12:11:38.418973Z"
    },
    "papermill": {
     "duration": 0.049888,
     "end_time": "2021-11-14T12:11:38.419892",
     "exception": false,
     "start_time": "2021-11-14T12:11:38.370004",
     "status": "completed"
    },
    "tags": []
   },
   "outputs": [],
   "source": [
    "#hide\n",
    "\n",
    "# FETCH\n",
    "base_url = 'https://raw.githubusercontent.com/pratapvardhan/notebooks/master/covid19/'\n",
    "paths = {\n",
    "    'mapping': base_url + 'mapping_countries.csv',\n",
    "    'overview': base_url + 'overview.tpl'\n",
    "}"
   ]
  },
  {
   "cell_type": "code",
   "execution_count": 3,
   "id": "dynamic-saver",
   "metadata": {
    "execution": {
     "iopub.execute_input": "2021-11-14T12:11:38.503067Z",
     "iopub.status.busy": "2021-11-14T12:11:38.502466Z",
     "iopub.status.idle": "2021-11-14T12:11:38.505613Z",
     "shell.execute_reply": "2021-11-14T12:11:38.504982Z"
    },
    "papermill": {
     "duration": 0.047858,
     "end_time": "2021-11-14T12:11:38.505769",
     "exception": false,
     "start_time": "2021-11-14T12:11:38.457911",
     "status": "completed"
    },
    "tags": []
   },
   "outputs": [
    {
     "data": {
      "text/plain": [
       "'https://raw.githubusercontent.com/pratapvardhan/notebooks/master/covid19/mapping_countries.csv'"
      ]
     },
     "execution_count": 3,
     "metadata": {},
     "output_type": "execute_result"
    }
   ],
   "source": [
    "#hide\n",
    "paths['mapping']"
   ]
  },
  {
   "cell_type": "code",
   "execution_count": 4,
   "id": "urban-software",
   "metadata": {
    "execution": {
     "iopub.execute_input": "2021-11-14T12:11:38.579520Z",
     "iopub.status.busy": "2021-11-14T12:11:38.578835Z",
     "iopub.status.idle": "2021-11-14T12:11:38.581591Z",
     "shell.execute_reply": "2021-11-14T12:11:38.581130Z"
    },
    "papermill": {
     "duration": 0.042526,
     "end_time": "2021-11-14T12:11:38.581706",
     "exception": false,
     "start_time": "2021-11-14T12:11:38.539180",
     "status": "completed"
    },
    "tags": []
   },
   "outputs": [],
   "source": [
    "#hide\n",
    "def get_mappings(url):\n",
    "    df = pd.read_csv(url)\n",
    "    return {\n",
    "        'df': df,\n",
    "        'replace.country': dict(df.dropna(subset=['Name']).set_index('Country')['Name']),\n",
    "        'map.continent': dict(df.set_index('Name')['Continent'])\n",
    "    }"
   ]
  },
  {
   "cell_type": "code",
   "execution_count": 5,
   "id": "intimate-machinery",
   "metadata": {
    "execution": {
     "iopub.execute_input": "2021-11-14T12:11:38.657281Z",
     "iopub.status.busy": "2021-11-14T12:11:38.656581Z",
     "iopub.status.idle": "2021-11-14T12:11:38.698788Z",
     "shell.execute_reply": "2021-11-14T12:11:38.698174Z"
    },
    "papermill": {
     "duration": 0.084188,
     "end_time": "2021-11-14T12:11:38.699078",
     "exception": false,
     "start_time": "2021-11-14T12:11:38.614890",
     "status": "completed"
    },
    "tags": []
   },
   "outputs": [],
   "source": [
    "#hide\n",
    "mapping = get_mappings(paths['mapping'])"
   ]
  },
  {
   "cell_type": "code",
   "execution_count": 6,
   "id": "certified-tactics",
   "metadata": {
    "execution": {
     "iopub.execute_input": "2021-11-14T12:11:38.780134Z",
     "iopub.status.busy": "2021-11-14T12:11:38.779280Z",
     "iopub.status.idle": "2021-11-14T12:11:38.781849Z",
     "shell.execute_reply": "2021-11-14T12:11:38.781207Z"
    },
    "papermill": {
     "duration": 0.0468,
     "end_time": "2021-11-14T12:11:38.782033",
     "exception": false,
     "start_time": "2021-11-14T12:11:38.735233",
     "status": "completed"
    },
    "tags": []
   },
   "outputs": [],
   "source": [
    "#hide\n",
    "def get_template(path):\n",
    "    from urllib.parse import urlparse\n",
    "    if bool(urlparse(path).netloc):\n",
    "        from urllib.request import urlopen\n",
    "        return urlopen(path).read().decode('utf8')\n",
    "    return open(path).read()"
   ]
  },
  {
   "cell_type": "code",
   "execution_count": 7,
   "id": "realistic-blast",
   "metadata": {
    "execution": {
     "iopub.execute_input": "2021-11-14T12:11:38.863707Z",
     "iopub.status.busy": "2021-11-14T12:11:38.862973Z",
     "iopub.status.idle": "2021-11-14T12:11:38.867152Z",
     "shell.execute_reply": "2021-11-14T12:11:38.866643Z"
    },
    "papermill": {
     "duration": 0.046219,
     "end_time": "2021-11-14T12:11:38.867293",
     "exception": false,
     "start_time": "2021-11-14T12:11:38.821074",
     "status": "completed"
    },
    "tags": []
   },
   "outputs": [],
   "source": [
    "#hide\n",
    "def get_frame(name):\n",
    "    url = (\n",
    "        'https://raw.githubusercontent.com/CSSEGISandData/COVID-19/master/csse_covid_19_data/'\n",
    "        f'csse_covid_19_time_series/time_series_covid19_{name}_global.csv')\n",
    "    df = pd.read_csv(url)\n",
    "    # rename countries\n",
    "    df['Country/Region'] = df['Country/Region'].replace(mapping['replace.country'])\n",
    "    return df"
   ]
  },
  {
   "cell_type": "code",
   "execution_count": 8,
   "id": "affiliated-characterization",
   "metadata": {
    "execution": {
     "iopub.execute_input": "2021-11-14T12:11:38.952103Z",
     "iopub.status.busy": "2021-11-14T12:11:38.951156Z",
     "iopub.status.idle": "2021-11-14T12:11:38.953098Z",
     "shell.execute_reply": "2021-11-14T12:11:38.953905Z"
    },
    "papermill": {
     "duration": 0.04796,
     "end_time": "2021-11-14T12:11:38.954107",
     "exception": false,
     "start_time": "2021-11-14T12:11:38.906147",
     "status": "completed"
    },
    "tags": []
   },
   "outputs": [],
   "source": [
    "#hide\n",
    "def get_dates(df):\n",
    "    dt_cols = df.columns[~df.columns.isin(['Province/State', 'Country/Region', 'Lat', 'Long'])]\n",
    "    LAST_DATE_I = -1\n",
    "    # sometimes last column may be empty, then go backwards\n",
    "    for i in range(-1, -len(dt_cols), -1):\n",
    "        if not df[dt_cols[i]].fillna(0).eq(0).all():\n",
    "            LAST_DATE_I = i\n",
    "            break\n",
    "    return LAST_DATE_I, dt_cols"
   ]
  },
  {
   "cell_type": "code",
   "execution_count": 9,
   "id": "recent-optimization",
   "metadata": {
    "execution": {
     "iopub.execute_input": "2021-11-14T12:11:39.030985Z",
     "iopub.status.busy": "2021-11-14T12:11:39.030289Z",
     "iopub.status.idle": "2021-11-14T12:11:39.445711Z",
     "shell.execute_reply": "2021-11-14T12:11:39.444914Z"
    },
    "papermill": {
     "duration": 0.456197,
     "end_time": "2021-11-14T12:11:39.445848",
     "exception": false,
     "start_time": "2021-11-14T12:11:38.989651",
     "status": "completed"
    },
    "tags": []
   },
   "outputs": [],
   "source": [
    "#hide\n",
    "COL_REGION = 'Country/Region'\n",
    "# Confirmed, Recovered, Deaths\n",
    "df = get_frame('confirmed')\n",
    "# dft_: timeseries, dfc_: today country agg\n",
    "dft_cases = df\n",
    "dft_deaths = get_frame('deaths')\n",
    "dft_recovered = get_frame('recovered')\n",
    "LAST_DATE_I, dt_cols = get_dates(df)"
   ]
  },
  {
   "cell_type": "code",
   "execution_count": 10,
   "id": "absolute-copper",
   "metadata": {
    "execution": {
     "iopub.execute_input": "2021-11-14T12:11:39.526120Z",
     "iopub.status.busy": "2021-11-14T12:11:39.525540Z",
     "iopub.status.idle": "2021-11-14T12:11:39.529640Z",
     "shell.execute_reply": "2021-11-14T12:11:39.530152Z"
    },
    "papermill": {
     "duration": 0.046303,
     "end_time": "2021-11-14T12:11:39.530411",
     "exception": false,
     "start_time": "2021-11-14T12:11:39.484108",
     "status": "completed"
    },
    "tags": []
   },
   "outputs": [],
   "source": [
    "#hide\n",
    "LAST_DATE_I, dt_cols = get_dates(df)\n",
    "dt_today =dt_cols[LAST_DATE_I]\n",
    "# dt_5day = dt_cols[LAST_DATE_I - 5]\n",
    "dt_yday = dt_cols[LAST_DATE_I - 1]"
   ]
  },
  {
   "cell_type": "code",
   "execution_count": 11,
   "id": "restricted-sheriff",
   "metadata": {
    "execution": {
     "iopub.execute_input": "2021-11-14T12:11:39.616842Z",
     "iopub.status.busy": "2021-11-14T12:11:39.616194Z",
     "iopub.status.idle": "2021-11-14T12:11:39.620147Z",
     "shell.execute_reply": "2021-11-14T12:11:39.619614Z"
    },
    "papermill": {
     "duration": 0.051566,
     "end_time": "2021-11-14T12:11:39.620300",
     "exception": false,
     "start_time": "2021-11-14T12:11:39.568734",
     "status": "completed"
    },
    "tags": []
   },
   "outputs": [],
   "source": [
    "#hide\n",
    "dfc_cases = dft_cases.groupby(COL_REGION)[dt_today].sum()\n",
    "dfc_deaths = dft_deaths.groupby(COL_REGION)[dt_today].sum()\n",
    "# dfp_cases = dft_cases.groupby(COL_REGION)[dt_5day].sum()\n",
    "# dfp_deaths = dft_deaths.groupby(COL_REGION)[dt_5day].sum()\n",
    "dfp_cases = dft_cases.groupby(COL_REGION)[dt_yday].sum()\n",
    "dfp_deaths = dft_deaths.groupby(COL_REGION)[dt_yday].sum()"
   ]
  },
  {
   "cell_type": "code",
   "execution_count": 12,
   "id": "deluxe-hepatitis",
   "metadata": {
    "execution": {
     "iopub.execute_input": "2021-11-14T12:11:39.698502Z",
     "iopub.status.busy": "2021-11-14T12:11:39.697887Z",
     "iopub.status.idle": "2021-11-14T12:11:39.703636Z",
     "shell.execute_reply": "2021-11-14T12:11:39.703097Z"
    },
    "papermill": {
     "duration": 0.044638,
     "end_time": "2021-11-14T12:11:39.703745",
     "exception": false,
     "start_time": "2021-11-14T12:11:39.659107",
     "status": "completed"
    },
    "tags": []
   },
   "outputs": [],
   "source": [
    "#hide\n",
    "df_table = (pd.DataFrame(dict(Cases = dfc_cases, Deaths = dfc_deaths, PCases = dfp_cases, PDeaths = dfp_deaths))\n",
    "            .sort_values(by = ['Cases','Deaths'], ascending = [False, False])\n",
    "            .reset_index())"
   ]
  },
  {
   "cell_type": "code",
   "execution_count": 13,
   "id": "educational-chancellor",
   "metadata": {
    "execution": {
     "iopub.execute_input": "2021-11-14T12:11:39.791743Z",
     "iopub.status.busy": "2021-11-14T12:11:39.791097Z",
     "iopub.status.idle": "2021-11-14T12:11:39.801874Z",
     "shell.execute_reply": "2021-11-14T12:11:39.801348Z"
    },
    "papermill": {
     "duration": 0.065253,
     "end_time": "2021-11-14T12:11:39.802029",
     "exception": false,
     "start_time": "2021-11-14T12:11:39.736776",
     "status": "completed"
    },
    "tags": []
   },
   "outputs": [
    {
     "data": {
      "text/html": [
       "<div>\n",
       "<style scoped>\n",
       "    .dataframe tbody tr th:only-of-type {\n",
       "        vertical-align: middle;\n",
       "    }\n",
       "\n",
       "    .dataframe tbody tr th {\n",
       "        vertical-align: top;\n",
       "    }\n",
       "\n",
       "    .dataframe thead th {\n",
       "        text-align: right;\n",
       "    }\n",
       "</style>\n",
       "<table border=\"1\" class=\"dataframe\">\n",
       "  <thead>\n",
       "    <tr style=\"text-align: right;\">\n",
       "      <th></th>\n",
       "      <th>Country/Region</th>\n",
       "      <th>Cases</th>\n",
       "      <th>Deaths</th>\n",
       "      <th>PCases</th>\n",
       "      <th>PDeaths</th>\n",
       "      <th>Cases (+)</th>\n",
       "      <th>Deaths (+)</th>\n",
       "      <th>Fatality Rate</th>\n",
       "      <th>Continent</th>\n",
       "    </tr>\n",
       "  </thead>\n",
       "  <tbody>\n",
       "    <tr>\n",
       "      <th>0</th>\n",
       "      <td>US</td>\n",
       "      <td>47050502</td>\n",
       "      <td>762972</td>\n",
       "      <td>46991304</td>\n",
       "      <td>762520</td>\n",
       "      <td>59198</td>\n",
       "      <td>452</td>\n",
       "      <td>1.62</td>\n",
       "      <td>North America</td>\n",
       "    </tr>\n",
       "    <tr>\n",
       "      <th>1</th>\n",
       "      <td>India</td>\n",
       "      <td>34437307</td>\n",
       "      <td>463530</td>\n",
       "      <td>34426036</td>\n",
       "      <td>463245</td>\n",
       "      <td>11271</td>\n",
       "      <td>285</td>\n",
       "      <td>1.35</td>\n",
       "      <td>Asia</td>\n",
       "    </tr>\n",
       "    <tr>\n",
       "      <th>2</th>\n",
       "      <td>Brazil</td>\n",
       "      <td>21953838</td>\n",
       "      <td>611222</td>\n",
       "      <td>21939196</td>\n",
       "      <td>610491</td>\n",
       "      <td>14642</td>\n",
       "      <td>731</td>\n",
       "      <td>2.78</td>\n",
       "      <td>South America</td>\n",
       "    </tr>\n",
       "    <tr>\n",
       "      <th>3</th>\n",
       "      <td>United Kingdom</td>\n",
       "      <td>9572351</td>\n",
       "      <td>143274</td>\n",
       "      <td>9534544</td>\n",
       "      <td>143116</td>\n",
       "      <td>37807</td>\n",
       "      <td>158</td>\n",
       "      <td>1.50</td>\n",
       "      <td>Europe</td>\n",
       "    </tr>\n",
       "    <tr>\n",
       "      <th>4</th>\n",
       "      <td>Russia</td>\n",
       "      <td>8881306</td>\n",
       "      <td>249415</td>\n",
       "      <td>8843238</td>\n",
       "      <td>248203</td>\n",
       "      <td>38068</td>\n",
       "      <td>1212</td>\n",
       "      <td>2.81</td>\n",
       "      <td>Europe</td>\n",
       "    </tr>\n",
       "  </tbody>\n",
       "</table>\n",
       "</div>"
      ],
      "text/plain": [
       "   Country/Region     Cases  Deaths    PCases  PDeaths  Cases (+)  Deaths (+)  \\\n",
       "0              US  47050502  762972  46991304   762520      59198         452   \n",
       "1           India  34437307  463530  34426036   463245      11271         285   \n",
       "2          Brazil  21953838  611222  21939196   610491      14642         731   \n",
       "3  United Kingdom   9572351  143274   9534544   143116      37807         158   \n",
       "4          Russia   8881306  249415   8843238   248203      38068        1212   \n",
       "\n",
       "   Fatality Rate      Continent  \n",
       "0           1.62  North America  \n",
       "1           1.35           Asia  \n",
       "2           2.78  South America  \n",
       "3           1.50         Europe  \n",
       "4           2.81         Europe  "
      ]
     },
     "execution_count": 13,
     "metadata": {},
     "output_type": "execute_result"
    }
   ],
   "source": [
    "#hide\n",
    "for c in 'Cases, Deaths'.split(', '):\n",
    "    df_table[f'{c} (+)'] = (df_table[c] - df_table[f'P{c}']).clip(0)\n",
    "    #Clip ça veut dire, les chiffres negatif sont interdit\n",
    "df_table['Fatality Rate'] = (100* df_table['Deaths']/ df_table['Cases']).round(2)\n",
    "df_table['Continent'] = df_table['Country/Region'].map(mapping['map.continent'])\n",
    "df_table.head(5)"
   ]
  },
  {
   "cell_type": "code",
   "execution_count": 14,
   "id": "aboriginal-bulgaria",
   "metadata": {
    "execution": {
     "iopub.execute_input": "2021-11-14T12:11:39.883477Z",
     "iopub.status.busy": "2021-11-14T12:11:39.882730Z",
     "iopub.status.idle": "2021-11-14T12:11:39.885860Z",
     "shell.execute_reply": "2021-11-14T12:11:39.886409Z"
    },
    "papermill": {
     "duration": 0.047173,
     "end_time": "2021-11-14T12:11:39.886556",
     "exception": false,
     "start_time": "2021-11-14T12:11:39.839383",
     "status": "completed"
    },
    "tags": []
   },
   "outputs": [],
   "source": [
    "#hide\n",
    "#delete problematic countries from table\n",
    "df_table = df_table[~df_table['Country/Region'].isin(['Cape Verde', 'Cruise Ship', 'Kosovo'])]"
   ]
  },
  {
   "cell_type": "code",
   "execution_count": 15,
   "id": "fantastic-effect",
   "metadata": {
    "execution": {
     "iopub.execute_input": "2021-11-14T12:11:39.972865Z",
     "iopub.status.busy": "2021-11-14T12:11:39.972086Z",
     "iopub.status.idle": "2021-11-14T12:11:39.995673Z",
     "shell.execute_reply": "2021-11-14T12:11:39.996261Z"
    },
    "papermill": {
     "duration": 0.073877,
     "end_time": "2021-11-14T12:11:39.996394",
     "exception": false,
     "start_time": "2021-11-14T12:11:39.922517",
     "status": "completed"
    },
    "tags": []
   },
   "outputs": [
    {
     "data": {
      "text/html": [
       "<div>\n",
       "<style scoped>\n",
       "    .dataframe tbody tr th:only-of-type {\n",
       "        vertical-align: middle;\n",
       "    }\n",
       "\n",
       "    .dataframe tbody tr th {\n",
       "        vertical-align: top;\n",
       "    }\n",
       "\n",
       "    .dataframe thead th {\n",
       "        text-align: right;\n",
       "    }\n",
       "</style>\n",
       "<table border=\"1\" class=\"dataframe\">\n",
       "  <thead>\n",
       "    <tr style=\"text-align: right;\">\n",
       "      <th></th>\n",
       "      <th>Country/Region</th>\n",
       "      <th>Cases</th>\n",
       "      <th>Deaths</th>\n",
       "      <th>PCases</th>\n",
       "      <th>PDeaths</th>\n",
       "      <th>Cases (+)</th>\n",
       "      <th>Deaths (+)</th>\n",
       "      <th>Fatality Rate</th>\n",
       "      <th>Continent</th>\n",
       "    </tr>\n",
       "  </thead>\n",
       "  <tbody>\n",
       "    <tr>\n",
       "      <th>0</th>\n",
       "      <td>US</td>\n",
       "      <td>47050502</td>\n",
       "      <td>762972</td>\n",
       "      <td>46991304</td>\n",
       "      <td>762520</td>\n",
       "      <td>59198</td>\n",
       "      <td>452</td>\n",
       "      <td>1.6</td>\n",
       "      <td>North America</td>\n",
       "    </tr>\n",
       "    <tr>\n",
       "      <th>1</th>\n",
       "      <td>India</td>\n",
       "      <td>34437307</td>\n",
       "      <td>463530</td>\n",
       "      <td>34426036</td>\n",
       "      <td>463245</td>\n",
       "      <td>11271</td>\n",
       "      <td>285</td>\n",
       "      <td>1.3</td>\n",
       "      <td>Asia</td>\n",
       "    </tr>\n",
       "    <tr>\n",
       "      <th>2</th>\n",
       "      <td>Brazil</td>\n",
       "      <td>21953838</td>\n",
       "      <td>611222</td>\n",
       "      <td>21939196</td>\n",
       "      <td>610491</td>\n",
       "      <td>14642</td>\n",
       "      <td>731</td>\n",
       "      <td>2.8</td>\n",
       "      <td>South America</td>\n",
       "    </tr>\n",
       "    <tr>\n",
       "      <th>3</th>\n",
       "      <td>United Kingdom</td>\n",
       "      <td>9572351</td>\n",
       "      <td>143274</td>\n",
       "      <td>9534544</td>\n",
       "      <td>143116</td>\n",
       "      <td>37807</td>\n",
       "      <td>158</td>\n",
       "      <td>1.5</td>\n",
       "      <td>Europe</td>\n",
       "    </tr>\n",
       "    <tr>\n",
       "      <th>4</th>\n",
       "      <td>Russia</td>\n",
       "      <td>8881306</td>\n",
       "      <td>249415</td>\n",
       "      <td>8843238</td>\n",
       "      <td>248203</td>\n",
       "      <td>38068</td>\n",
       "      <td>1212</td>\n",
       "      <td>2.8</td>\n",
       "      <td>Europe</td>\n",
       "    </tr>\n",
       "  </tbody>\n",
       "</table>\n",
       "</div>"
      ],
      "text/plain": [
       "   Country/Region     Cases  Deaths    PCases  PDeaths  Cases (+)  Deaths (+)  \\\n",
       "0              US  47050502  762972  46991304   762520      59198         452   \n",
       "1           India  34437307  463530  34426036   463245      11271         285   \n",
       "2          Brazil  21953838  611222  21939196   610491      14642         731   \n",
       "3  United Kingdom   9572351  143274   9534544   143116      37807         158   \n",
       "4          Russia   8881306  249415   8843238   248203      38068        1212   \n",
       "\n",
       "   Fatality Rate      Continent  \n",
       "0            1.6  North America  \n",
       "1            1.3           Asia  \n",
       "2            2.8  South America  \n",
       "3            1.5         Europe  \n",
       "4            2.8         Europe  "
      ]
     },
     "execution_count": 15,
     "metadata": {},
     "output_type": "execute_result"
    }
   ],
   "source": [
    "#hide\n",
    "df_table = (pd.DataFrame(dict(Cases=dfc_cases, Deaths=dfc_deaths, PCases=dfp_cases, PDeaths=dfp_deaths))\n",
    "             .sort_values(by=['Cases', 'Deaths'], ascending=[False, False])\n",
    "             .reset_index())\n",
    "df_table.rename(columns={'index': 'Country/Region'}, inplace=True)\n",
    "for c in 'Cases, Deaths'.split(', '):\n",
    "    df_table[f'{c} (+)'] = (df_table[c] - df_table[f'P{c}']).clip(0)  # DATA BUG\n",
    "df_table['Fatality Rate'] = (100 * df_table['Deaths'] / df_table['Cases']).round(1)\n",
    "df_table['Continent'] = df_table['Country/Region'].map(mapping['map.continent'])\n",
    "df_table.head(5)"
   ]
  },
  {
   "cell_type": "code",
   "execution_count": 16,
   "id": "fewer-occasion",
   "metadata": {
    "execution": {
     "iopub.execute_input": "2021-11-14T12:11:40.085873Z",
     "iopub.status.busy": "2021-11-14T12:11:40.085249Z",
     "iopub.status.idle": "2021-11-14T12:11:40.088702Z",
     "shell.execute_reply": "2021-11-14T12:11:40.088225Z"
    },
    "papermill": {
     "duration": 0.055284,
     "end_time": "2021-11-14T12:11:40.088821",
     "exception": false,
     "start_time": "2021-11-14T12:11:40.033537",
     "status": "completed"
    },
    "tags": []
   },
   "outputs": [],
   "source": [
    "#hide\n",
    "#delete problematic countries from table\n",
    "df_table = df_table[~df_table['Country/Region'].isin(['Cape Verde', 'Cruise Ship', 'Kosovo'])]"
   ]
  },
  {
   "cell_type": "code",
   "execution_count": 17,
   "id": "related-center",
   "metadata": {
    "execution": {
     "iopub.execute_input": "2021-11-14T12:11:40.171439Z",
     "iopub.status.busy": "2021-11-14T12:11:40.170834Z",
     "iopub.status.idle": "2021-11-14T12:11:40.184600Z",
     "shell.execute_reply": "2021-11-14T12:11:40.183903Z"
    },
    "papermill": {
     "duration": 0.057461,
     "end_time": "2021-11-14T12:11:40.184779",
     "exception": false,
     "start_time": "2021-11-14T12:11:40.127318",
     "status": "completed"
    },
    "tags": []
   },
   "outputs": [],
   "source": [
    "#hide\n",
    "metrics = [df_table.columns[index] for index in [1,2,5,6]]\n",
    "# s_china = df_table[df_table['Country/Region'].eq('China')][metrics].sum().add_prefix('China ')\n",
    "s_us = df_table[df_table['Country/Region'].eq('US')][metrics].sum().add_prefix('US ')\n",
    "s_eu = df_table[df_table['Continent'].eq('Europe')][metrics].sum().add_prefix('EU ')\n",
    "s_ind = df_table[df_table['Country/Region'].eq('India')][metrics].sum().add_prefix('India ')\n",
    "summary = {'updated': pd.to_datetime(dt_today), 'since': pd.to_datetime(dt_yday)}\n",
    "summary = {'updated': pd.to_datetime(dt_today), 'since': pd.to_datetime(dt_yday)}\n",
    "summary = {**summary, **df_table[metrics].sum(), **s_ind, **s_us, **s_eu}"
   ]
  },
  {
   "cell_type": "code",
   "execution_count": 18,
   "id": "engaging-syndrome",
   "metadata": {
    "execution": {
     "iopub.execute_input": "2021-11-14T12:11:40.263525Z",
     "iopub.status.busy": "2021-11-14T12:11:40.262789Z",
     "iopub.status.idle": "2021-11-14T12:11:40.277990Z",
     "shell.execute_reply": "2021-11-14T12:11:40.278533Z"
    },
    "papermill": {
     "duration": 0.05725,
     "end_time": "2021-11-14T12:11:40.278684",
     "exception": false,
     "start_time": "2021-11-14T12:11:40.221434",
     "status": "completed"
    },
    "tags": []
   },
   "outputs": [],
   "source": [
    "#hide\n",
    "dft_ct_new_cases = dft_cases.groupby(COL_REGION)[dt_cols].sum().diff(axis=1).fillna(0).astype(int)"
   ]
  },
  {
   "cell_type": "code",
   "execution_count": 19,
   "id": "neutral-assignment",
   "metadata": {
    "execution": {
     "iopub.execute_input": "2021-11-14T12:11:40.357385Z",
     "iopub.status.busy": "2021-11-14T12:11:40.356756Z",
     "iopub.status.idle": "2021-11-14T12:11:40.358784Z",
     "shell.execute_reply": "2021-11-14T12:11:40.359338Z"
    },
    "papermill": {
     "duration": 0.044949,
     "end_time": "2021-11-14T12:11:40.359475",
     "exception": false,
     "start_time": "2021-11-14T12:11:40.314526",
     "status": "completed"
    },
    "tags": []
   },
   "outputs": [],
   "source": [
    "#hide\n",
    "everydaycases = dft_ct_new_cases.cumsum(axis=1)"
   ]
  },
  {
   "cell_type": "code",
   "execution_count": 20,
   "id": "parliamentary-calgary",
   "metadata": {
    "execution": {
     "iopub.execute_input": "2021-11-14T12:11:40.439302Z",
     "iopub.status.busy": "2021-11-14T12:11:40.438662Z",
     "iopub.status.idle": "2021-11-14T12:11:41.113151Z",
     "shell.execute_reply": "2021-11-14T12:11:41.112580Z"
    },
    "papermill": {
     "duration": 0.715422,
     "end_time": "2021-11-14T12:11:41.113296",
     "exception": false,
     "start_time": "2021-11-14T12:11:40.397874",
     "status": "completed"
    },
    "tags": []
   },
   "outputs": [],
   "source": [
    "#hide\n",
    "import pandas as pd\n",
    "import matplotlib.pyplot as plt\n",
    "import matplotlib.ticker as ticker\n",
    "import matplotlib.animation as animation\n",
    "from IPython.display import HTML"
   ]
  },
  {
   "cell_type": "code",
   "execution_count": 21,
   "id": "lasting-extraction",
   "metadata": {
    "execution": {
     "iopub.execute_input": "2021-11-14T12:11:41.203271Z",
     "iopub.status.busy": "2021-11-14T12:11:41.202453Z",
     "iopub.status.idle": "2021-11-14T12:11:41.208993Z",
     "shell.execute_reply": "2021-11-14T12:11:41.209544Z"
    },
    "papermill": {
     "duration": 0.056139,
     "end_time": "2021-11-14T12:11:41.209692",
     "exception": false,
     "start_time": "2021-11-14T12:11:41.153553",
     "status": "completed"
    },
    "tags": []
   },
   "outputs": [],
   "source": [
    "#hide\n",
    "t = everydaycases.stack()"
   ]
  },
  {
   "cell_type": "code",
   "execution_count": 22,
   "id": "premier-sleeve",
   "metadata": {
    "execution": {
     "iopub.execute_input": "2021-11-14T12:11:41.293625Z",
     "iopub.status.busy": "2021-11-14T12:11:41.292967Z",
     "iopub.status.idle": "2021-11-14T12:11:41.302546Z",
     "shell.execute_reply": "2021-11-14T12:11:41.303100Z"
    },
    "papermill": {
     "duration": 0.052272,
     "end_time": "2021-11-14T12:11:41.303254",
     "exception": false,
     "start_time": "2021-11-14T12:11:41.250982",
     "status": "completed"
    },
    "tags": []
   },
   "outputs": [],
   "source": [
    "#hide\n",
    "g = t.reset_index(['Country/Region'])"
   ]
  },
  {
   "cell_type": "code",
   "execution_count": 23,
   "id": "distributed-pittsburgh",
   "metadata": {
    "execution": {
     "iopub.execute_input": "2021-11-14T12:11:41.377353Z",
     "iopub.status.busy": "2021-11-14T12:11:41.376715Z",
     "iopub.status.idle": "2021-11-14T12:11:41.380871Z",
     "shell.execute_reply": "2021-11-14T12:11:41.380368Z"
    },
    "papermill": {
     "duration": 0.042962,
     "end_time": "2021-11-14T12:11:41.380997",
     "exception": false,
     "start_time": "2021-11-14T12:11:41.338035",
     "status": "completed"
    },
    "tags": []
   },
   "outputs": [],
   "source": [
    "#hide\n",
    "g.index.name = 'date'"
   ]
  },
  {
   "cell_type": "code",
   "execution_count": 24,
   "id": "naked-donor",
   "metadata": {
    "execution": {
     "iopub.execute_input": "2021-11-14T12:11:41.459207Z",
     "iopub.status.busy": "2021-11-14T12:11:41.458469Z",
     "iopub.status.idle": "2021-11-14T12:11:41.460599Z",
     "shell.execute_reply": "2021-11-14T12:11:41.461111Z"
    },
    "papermill": {
     "duration": 0.04279,
     "end_time": "2021-11-14T12:11:41.461285",
     "exception": false,
     "start_time": "2021-11-14T12:11:41.418495",
     "status": "completed"
    },
    "tags": []
   },
   "outputs": [],
   "source": [
    "# #hide\n",
    "# g = g.reset_index(['date'])"
   ]
  },
  {
   "cell_type": "code",
   "execution_count": 25,
   "id": "incomplete-mustang",
   "metadata": {
    "execution": {
     "iopub.execute_input": "2021-11-14T12:11:41.544410Z",
     "iopub.status.busy": "2021-11-14T12:11:41.543839Z",
     "iopub.status.idle": "2021-11-14T12:11:41.547697Z",
     "shell.execute_reply": "2021-11-14T12:11:41.548208Z"
    },
    "papermill": {
     "duration": 0.046326,
     "end_time": "2021-11-14T12:11:41.548399",
     "exception": false,
     "start_time": "2021-11-14T12:11:41.502073",
     "status": "completed"
    },
    "tags": []
   },
   "outputs": [],
   "source": [
    "#hide\n",
    "# g.head()"
   ]
  },
  {
   "cell_type": "code",
   "execution_count": 26,
   "id": "specific-kruger",
   "metadata": {
    "execution": {
     "iopub.execute_input": "2021-11-14T12:11:41.627865Z",
     "iopub.status.busy": "2021-11-14T12:11:41.627197Z",
     "iopub.status.idle": "2021-11-14T12:11:41.629574Z",
     "shell.execute_reply": "2021-11-14T12:11:41.628923Z"
    },
    "papermill": {
     "duration": 0.043492,
     "end_time": "2021-11-14T12:11:41.629699",
     "exception": false,
     "start_time": "2021-11-14T12:11:41.586207",
     "status": "completed"
    },
    "tags": []
   },
   "outputs": [],
   "source": [
    "#hide\n",
    "# g.columns = ['date','country','cases']"
   ]
  },
  {
   "cell_type": "code",
   "execution_count": 27,
   "id": "tender-conversion",
   "metadata": {
    "execution": {
     "iopub.execute_input": "2021-11-14T12:11:41.711878Z",
     "iopub.status.busy": "2021-11-14T12:11:41.711189Z",
     "iopub.status.idle": "2021-11-14T12:11:41.713124Z",
     "shell.execute_reply": "2021-11-14T12:11:41.713580Z"
    },
    "papermill": {
     "duration": 0.04103,
     "end_time": "2021-11-14T12:11:41.713711",
     "exception": false,
     "start_time": "2021-11-14T12:11:41.672681",
     "status": "completed"
    },
    "tags": []
   },
   "outputs": [],
   "source": [
    "#hide\n",
    "# g['continent'] = g.country"
   ]
  },
  {
   "cell_type": "code",
   "execution_count": 28,
   "id": "substantial-wilderness",
   "metadata": {
    "execution": {
     "iopub.execute_input": "2021-11-14T12:11:41.791773Z",
     "iopub.status.busy": "2021-11-14T12:11:41.791144Z",
     "iopub.status.idle": "2021-11-14T12:11:41.793540Z",
     "shell.execute_reply": "2021-11-14T12:11:41.792999Z"
    },
    "papermill": {
     "duration": 0.042813,
     "end_time": "2021-11-14T12:11:41.793658",
     "exception": false,
     "start_time": "2021-11-14T12:11:41.750845",
     "status": "completed"
    },
    "tags": []
   },
   "outputs": [],
   "source": [
    "#hide\n",
    "# cols = list(g.columns.values)"
   ]
  },
  {
   "cell_type": "code",
   "execution_count": 29,
   "id": "solved-farming",
   "metadata": {
    "execution": {
     "iopub.execute_input": "2021-11-14T12:11:41.868758Z",
     "iopub.status.busy": "2021-11-14T12:11:41.868188Z",
     "iopub.status.idle": "2021-11-14T12:11:41.870491Z",
     "shell.execute_reply": "2021-11-14T12:11:41.869979Z"
    },
    "papermill": {
     "duration": 0.040191,
     "end_time": "2021-11-14T12:11:41.870704",
     "exception": false,
     "start_time": "2021-11-14T12:11:41.830513",
     "status": "completed"
    },
    "tags": []
   },
   "outputs": [],
   "source": [
    "#hide\n",
    "# cols.insert(0, cols.pop())"
   ]
  },
  {
   "cell_type": "code",
   "execution_count": 30,
   "id": "executed-adoption",
   "metadata": {
    "execution": {
     "iopub.execute_input": "2021-11-14T12:11:41.946245Z",
     "iopub.status.busy": "2021-11-14T12:11:41.945645Z",
     "iopub.status.idle": "2021-11-14T12:11:41.949352Z",
     "shell.execute_reply": "2021-11-14T12:11:41.949879Z"
    },
    "papermill": {
     "duration": 0.044738,
     "end_time": "2021-11-14T12:11:41.950090",
     "exception": false,
     "start_time": "2021-11-14T12:11:41.905352",
     "status": "completed"
    },
    "tags": []
   },
   "outputs": [],
   "source": [
    "#hide\n",
    "# g = g[cols]"
   ]
  },
  {
   "cell_type": "code",
   "execution_count": 31,
   "id": "subject-dublin",
   "metadata": {
    "execution": {
     "iopub.execute_input": "2021-11-14T12:11:42.029453Z",
     "iopub.status.busy": "2021-11-14T12:11:42.028569Z",
     "iopub.status.idle": "2021-11-14T12:11:42.031326Z",
     "shell.execute_reply": "2021-11-14T12:11:42.030634Z"
    },
    "papermill": {
     "duration": 0.044006,
     "end_time": "2021-11-14T12:11:42.031474",
     "exception": false,
     "start_time": "2021-11-14T12:11:41.987468",
     "status": "completed"
    },
    "tags": []
   },
   "outputs": [],
   "source": [
    "#hide\n",
    "# g['continent'] = g['continent'].map(mapping['map.continent'])"
   ]
  },
  {
   "cell_type": "code",
   "execution_count": 32,
   "id": "freelance-scout",
   "metadata": {
    "execution": {
     "iopub.execute_input": "2021-11-14T12:11:42.116283Z",
     "iopub.status.busy": "2021-11-14T12:11:42.115611Z",
     "iopub.status.idle": "2021-11-14T12:11:42.118146Z",
     "shell.execute_reply": "2021-11-14T12:11:42.117643Z"
    },
    "papermill": {
     "duration": 0.046744,
     "end_time": "2021-11-14T12:11:42.118266",
     "exception": false,
     "start_time": "2021-11-14T12:11:42.071522",
     "status": "completed"
    },
    "tags": []
   },
   "outputs": [],
   "source": [
    "#hide\n",
    "# g.head()"
   ]
  },
  {
   "cell_type": "code",
   "execution_count": 33,
   "id": "limited-engine",
   "metadata": {
    "execution": {
     "iopub.execute_input": "2021-11-14T12:11:42.192135Z",
     "iopub.status.busy": "2021-11-14T12:11:42.191543Z",
     "iopub.status.idle": "2021-11-14T12:11:42.195755Z",
     "shell.execute_reply": "2021-11-14T12:11:42.195150Z"
    },
    "papermill": {
     "duration": 0.042057,
     "end_time": "2021-11-14T12:11:42.195872",
     "exception": false,
     "start_time": "2021-11-14T12:11:42.153815",
     "status": "completed"
    },
    "tags": []
   },
   "outputs": [],
   "source": [
    "# hide\n",
    "# g['date'] = g['date'].astype('datetime64[ns]')"
   ]
  },
  {
   "cell_type": "code",
   "execution_count": 34,
   "id": "sophisticated-supervisor",
   "metadata": {
    "execution": {
     "iopub.execute_input": "2021-11-14T12:11:42.272580Z",
     "iopub.status.busy": "2021-11-14T12:11:42.271953Z",
     "iopub.status.idle": "2021-11-14T12:11:42.276068Z",
     "shell.execute_reply": "2021-11-14T12:11:42.275549Z"
    },
    "papermill": {
     "duration": 0.044264,
     "end_time": "2021-11-14T12:11:42.276180",
     "exception": false,
     "start_time": "2021-11-14T12:11:42.231916",
     "status": "completed"
    },
    "tags": []
   },
   "outputs": [],
   "source": [
    "#hide\n",
    "# g['date'] = g.date.dt.dayofyear"
   ]
  },
  {
   "cell_type": "code",
   "execution_count": 35,
   "id": "inside-dubai",
   "metadata": {
    "execution": {
     "iopub.execute_input": "2021-11-14T12:11:42.349426Z",
     "iopub.status.busy": "2021-11-14T12:11:42.348845Z",
     "iopub.status.idle": "2021-11-14T12:11:42.351411Z",
     "shell.execute_reply": "2021-11-14T12:11:42.350833Z"
    },
    "papermill": {
     "duration": 0.039758,
     "end_time": "2021-11-14T12:11:42.351561",
     "exception": false,
     "start_time": "2021-11-14T12:11:42.311803",
     "status": "completed"
    },
    "tags": []
   },
   "outputs": [],
   "source": [
    "#hide\n",
    "# g = g.rename(columns= {'continent':'group','country':'name','cases':'value'})"
   ]
  },
  {
   "cell_type": "code",
   "execution_count": 36,
   "id": "fleet-motorcycle",
   "metadata": {
    "execution": {
     "iopub.execute_input": "2021-11-14T12:11:42.433164Z",
     "iopub.status.busy": "2021-11-14T12:11:42.432459Z",
     "iopub.status.idle": "2021-11-14T12:11:42.434844Z",
     "shell.execute_reply": "2021-11-14T12:11:42.435414Z"
    },
    "papermill": {
     "duration": 0.045645,
     "end_time": "2021-11-14T12:11:42.435586",
     "exception": false,
     "start_time": "2021-11-14T12:11:42.389941",
     "status": "completed"
    },
    "tags": []
   },
   "outputs": [],
   "source": [
    "#hide\n",
    "# cols = ['name','group','day','value']"
   ]
  },
  {
   "cell_type": "code",
   "execution_count": 37,
   "id": "continued-sleeping",
   "metadata": {
    "execution": {
     "iopub.execute_input": "2021-11-14T12:11:42.516244Z",
     "iopub.status.busy": "2021-11-14T12:11:42.515557Z",
     "iopub.status.idle": "2021-11-14T12:11:42.518052Z",
     "shell.execute_reply": "2021-11-14T12:11:42.517253Z"
    },
    "papermill": {
     "duration": 0.045524,
     "end_time": "2021-11-14T12:11:42.518175",
     "exception": false,
     "start_time": "2021-11-14T12:11:42.472651",
     "status": "completed"
    },
    "tags": []
   },
   "outputs": [],
   "source": [
    "#hide\n",
    "# g.rename(columns= {'date':'day'},inplace = True)"
   ]
  },
  {
   "cell_type": "code",
   "execution_count": 38,
   "id": "major-fight",
   "metadata": {
    "execution": {
     "iopub.execute_input": "2021-11-14T12:11:42.593297Z",
     "iopub.status.busy": "2021-11-14T12:11:42.592671Z",
     "iopub.status.idle": "2021-11-14T12:11:42.594899Z",
     "shell.execute_reply": "2021-11-14T12:11:42.595377Z"
    },
    "papermill": {
     "duration": 0.041495,
     "end_time": "2021-11-14T12:11:42.595523",
     "exception": false,
     "start_time": "2021-11-14T12:11:42.554028",
     "status": "completed"
    },
    "tags": []
   },
   "outputs": [],
   "source": [
    "#hide\n",
    "# g = g[cols]"
   ]
  },
  {
   "cell_type": "code",
   "execution_count": 39,
   "id": "structured-mobile",
   "metadata": {
    "execution": {
     "iopub.execute_input": "2021-11-14T12:11:42.672254Z",
     "iopub.status.busy": "2021-11-14T12:11:42.671532Z",
     "iopub.status.idle": "2021-11-14T12:11:42.673974Z",
     "shell.execute_reply": "2021-11-14T12:11:42.673346Z"
    },
    "papermill": {
     "duration": 0.042622,
     "end_time": "2021-11-14T12:11:42.674093",
     "exception": false,
     "start_time": "2021-11-14T12:11:42.631471",
     "status": "completed"
    },
    "tags": []
   },
   "outputs": [],
   "source": [
    "# #hide\n",
    "# g = g[g.group.notna()]"
   ]
  },
  {
   "cell_type": "code",
   "execution_count": 40,
   "id": "determined-closing",
   "metadata": {
    "execution": {
     "iopub.execute_input": "2021-11-14T12:11:42.754386Z",
     "iopub.status.busy": "2021-11-14T12:11:42.753653Z",
     "iopub.status.idle": "2021-11-14T12:11:42.756945Z",
     "shell.execute_reply": "2021-11-14T12:11:42.757496Z"
    },
    "papermill": {
     "duration": 0.045092,
     "end_time": "2021-11-14T12:11:42.757662",
     "exception": false,
     "start_time": "2021-11-14T12:11:42.712570",
     "status": "completed"
    },
    "tags": []
   },
   "outputs": [],
   "source": [
    "# #hide\n",
    "# colors = dict(zip(\n",
    "#     [\"Oceania\", \"Europe\", \"Asia\", \"South America\", \"Middle East\", \"North America\", \"Africa\"],\n",
    "#     [\"#adb0ff\", \"#ffb3ff\", \"#90d595\", \"#e48381\", \"#aafbff\", \"#f7bb5f\", \"#eafb50\"]\n",
    "# ))\n",
    "# group_lk = g.set_index('name')['group'].to_dict()"
   ]
  },
  {
   "cell_type": "code",
   "execution_count": null,
   "id": "gross-drinking",
   "metadata": {
    "papermill": {
     "duration": 0.040349,
     "end_time": "2021-11-14T12:11:42.837507",
     "exception": false,
     "start_time": "2021-11-14T12:11:42.797158",
     "status": "completed"
    },
    "tags": []
   },
   "outputs": [],
   "source": []
  },
  {
   "cell_type": "code",
   "execution_count": 41,
   "id": "subject-macintosh",
   "metadata": {
    "execution": {
     "iopub.execute_input": "2021-11-14T12:11:42.914585Z",
     "iopub.status.busy": "2021-11-14T12:11:42.913935Z",
     "iopub.status.idle": "2021-11-14T12:11:42.917489Z",
     "shell.execute_reply": "2021-11-14T12:11:42.917006Z"
    },
    "papermill": {
     "duration": 0.041636,
     "end_time": "2021-11-14T12:11:42.917604",
     "exception": false,
     "start_time": "2021-11-14T12:11:42.875968",
     "status": "completed"
    },
    "tags": []
   },
   "outputs": [],
   "source": [
    "# #hide\n",
    "# fig, ax = plt.subplots(figsize=(15, 8))\n",
    "\n",
    "# def draw_barchart(current_day):\n",
    "#     dff = g[g['day'].eq(current_day)].sort_values(by='value', ascending=True).tail(10)\n",
    "#     ax.clear()\n",
    "#     ax.barh(dff['name'], dff['value'], color=[colors[group_lk[x]] for x in dff['name']])\n",
    "#     dx = dff['value'].max() / 200\n",
    "    \n",
    "#     for i, (value, name) in enumerate(zip(dff['value'], dff['name'])):\n",
    "#         ax.text(value-dx, i,     name,           size=14, weight=600, ha='right', va='bottom')\n",
    "#         ax.text(value-dx, i-.25, group_lk[name], size=10, color='#444444', ha='right', va='baseline')\n",
    "#         ax.text(value+dx, i,     f'{value:,.0f}',  size=14, ha='left',  va='center')\n",
    "#     ax.text(1, 0.4, current_day, transform=ax.transAxes, color='#777777', size=46, ha='right', weight=800)\n",
    "#     ax.text(0, 1.06, 'Population (thousands)', transform=ax.transAxes, size=12, color='#777777')\n",
    "#     ax.xaxis.set_major_formatter(ticker.StrMethodFormatter('{x:,.0f}'))\n",
    "#     ax.xaxis.set_ticks_position('top')\n",
    "#     ax.tick_params(axis='x', colors='#777777', labelsize=12)\n",
    "#     ax.set_yticks([])\n",
    "#     ax.margins(0, 0.01)\n",
    "#     ax.grid(which='major', axis='x', linestyle='-')\n",
    "#     ax.set_axisbelow(True)\n",
    "    \n",
    "#     ax.text(0, 1.15, 'Coronavirus',\n",
    "#             transform=ax.transAxes, size=24, weight=600, ha='left', va='top')\n",
    "# #     ax.text(1, 0, 'by @pratapvardhan; credit @jburnmurdoch', transform=ax.transAxes, color='#777777', ha='right',\n",
    "# #             bbox=dict(facecolor='white', alpha=0.8, edgecolor='white'))\n",
    "#     plt.box(False)"
   ]
  },
  {
   "cell_type": "code",
   "execution_count": 42,
   "id": "sexual-wages",
   "metadata": {
    "execution": {
     "iopub.execute_input": "2021-11-14T12:11:42.995560Z",
     "iopub.status.busy": "2021-11-14T12:11:42.994844Z",
     "iopub.status.idle": "2021-11-14T12:11:42.998060Z",
     "shell.execute_reply": "2021-11-14T12:11:42.997518Z"
    },
    "papermill": {
     "duration": 0.041895,
     "end_time": "2021-11-14T12:11:42.998178",
     "exception": false,
     "start_time": "2021-11-14T12:11:42.956283",
     "status": "completed"
    },
    "tags": []
   },
   "outputs": [],
   "source": [
    "# #hide_input\n",
    "# fig, ax = plt.subplots(figsize=(15, 8))\n",
    "# animator = animation.FuncAnimation(fig, draw_barchart, frames=range(g.day.values.min(), g.day.values.max()))\n",
    "# HTML(animator.to_jshtml())\n",
    "# # or use animator.to_html5_video() or animator.save() "
   ]
  },
  {
   "cell_type": "code",
   "execution_count": null,
   "id": "australian-container",
   "metadata": {
    "papermill": {
     "duration": 0.037308,
     "end_time": "2021-11-14T12:11:43.072200",
     "exception": false,
     "start_time": "2021-11-14T12:11:43.034892",
     "status": "completed"
    },
    "tags": []
   },
   "outputs": [],
   "source": []
  },
  {
   "cell_type": "code",
   "execution_count": null,
   "id": "mediterranean-pontiac",
   "metadata": {
    "papermill": {
     "duration": 0.036879,
     "end_time": "2021-11-14T12:11:43.144756",
     "exception": false,
     "start_time": "2021-11-14T12:11:43.107877",
     "status": "completed"
    },
    "tags": []
   },
   "outputs": [],
   "source": []
  },
  {
   "cell_type": "code",
   "execution_count": null,
   "id": "aging-legislature",
   "metadata": {
    "papermill": {
     "duration": 0.036166,
     "end_time": "2021-11-14T12:11:43.217029",
     "exception": false,
     "start_time": "2021-11-14T12:11:43.180863",
     "status": "completed"
    },
    "tags": []
   },
   "outputs": [],
   "source": []
  }
 ],
 "metadata": {
  "kernelspec": {
   "display_name": "Python 3",
   "language": "python",
   "name": "python3"
  },
  "language_info": {
   "codemirror_mode": {
    "name": "ipython",
    "version": 3
   },
   "file_extension": ".py",
   "mimetype": "text/x-python",
   "name": "python",
   "nbconvert_exporter": "python",
   "pygments_lexer": "ipython3",
   "version": "3.6.15"
  },
  "papermill": {
   "duration": 6.856494,
   "end_time": "2021-11-14T12:11:43.560151",
   "environment_variables": {},
   "exception": null,
   "input_path": "2020-03-21-covid19exp.ipynb",
   "output_path": "2020-03-21-covid19exp.ipynb",
   "parameters": {},
   "start_time": "2021-11-14T12:11:36.703657",
   "version": "2.0.0"
  }
 },
 "nbformat": 4,
 "nbformat_minor": 5
}