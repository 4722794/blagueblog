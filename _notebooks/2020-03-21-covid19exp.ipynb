{
 "cells": [
  {
   "cell_type": "markdown",
   "id": "muslim-click",
   "metadata": {
    "papermill": {
     "duration": 0.044692,
     "end_time": "2021-04-03T12:03:39.963966",
     "exception": false,
     "start_time": "2021-04-03T12:03:39.919274",
     "status": "completed"
    },
    "tags": []
   },
   "source": [
    "# COVID-19 Case Race\n",
    "> A race chart to see rising cases around the world\n",
    "\n",
    "- author: Hargun Oberoi\n",
    "- image: images/covid-overview.png\n",
    "- hide: false\n",
    "- badges: false"
   ]
  },
  {
   "cell_type": "code",
   "execution_count": 1,
   "id": "proof-material",
   "metadata": {
    "execution": {
     "iopub.execute_input": "2021-04-03T12:03:40.040166Z",
     "iopub.status.busy": "2021-04-03T12:03:40.039572Z",
     "iopub.status.idle": "2021-04-03T12:03:40.371362Z",
     "shell.execute_reply": "2021-04-03T12:03:40.370499Z"
    },
    "papermill": {
     "duration": 0.375443,
     "end_time": "2021-04-03T12:03:40.371509",
     "exception": false,
     "start_time": "2021-04-03T12:03:39.996066",
     "status": "completed"
    },
    "tags": []
   },
   "outputs": [],
   "source": [
    "#hide\n",
    "import numpy as np\n",
    "import pandas as pd\n",
    "from jinja2 import Template\n",
    "from IPython.display import HTML"
   ]
  },
  {
   "cell_type": "code",
   "execution_count": 2,
   "id": "developed-terminology",
   "metadata": {
    "execution": {
     "iopub.execute_input": "2021-04-03T12:03:40.443139Z",
     "iopub.status.busy": "2021-04-03T12:03:40.442535Z",
     "iopub.status.idle": "2021-04-03T12:03:40.444810Z",
     "shell.execute_reply": "2021-04-03T12:03:40.444186Z"
    },
    "papermill": {
     "duration": 0.038225,
     "end_time": "2021-04-03T12:03:40.444926",
     "exception": false,
     "start_time": "2021-04-03T12:03:40.406701",
     "status": "completed"
    },
    "tags": []
   },
   "outputs": [],
   "source": [
    "#hide\n",
    "\n",
    "# FETCH\n",
    "base_url = 'https://raw.githubusercontent.com/pratapvardhan/notebooks/master/covid19/'\n",
    "paths = {\n",
    "    'mapping': base_url + 'mapping_countries.csv',\n",
    "    'overview': base_url + 'overview.tpl'\n",
    "}"
   ]
  },
  {
   "cell_type": "code",
   "execution_count": 3,
   "id": "dynamic-saver",
   "metadata": {
    "execution": {
     "iopub.execute_input": "2021-04-03T12:03:40.519054Z",
     "iopub.status.busy": "2021-04-03T12:03:40.518524Z",
     "iopub.status.idle": "2021-04-03T12:03:40.522669Z",
     "shell.execute_reply": "2021-04-03T12:03:40.523179Z"
    },
    "papermill": {
     "duration": 0.047033,
     "end_time": "2021-04-03T12:03:40.523298",
     "exception": false,
     "start_time": "2021-04-03T12:03:40.476265",
     "status": "completed"
    },
    "tags": []
   },
   "outputs": [
    {
     "data": {
      "text/plain": [
       "'https://raw.githubusercontent.com/pratapvardhan/notebooks/master/covid19/mapping_countries.csv'"
      ]
     },
     "execution_count": 3,
     "metadata": {},
     "output_type": "execute_result"
    }
   ],
   "source": [
    "#hide\n",
    "paths['mapping']"
   ]
  },
  {
   "cell_type": "code",
   "execution_count": 4,
   "id": "urban-software",
   "metadata": {
    "execution": {
     "iopub.execute_input": "2021-04-03T12:03:40.591459Z",
     "iopub.status.busy": "2021-04-03T12:03:40.591052Z",
     "iopub.status.idle": "2021-04-03T12:03:40.593437Z",
     "shell.execute_reply": "2021-04-03T12:03:40.593962Z"
    },
    "papermill": {
     "duration": 0.041271,
     "end_time": "2021-04-03T12:03:40.594085",
     "exception": false,
     "start_time": "2021-04-03T12:03:40.552814",
     "status": "completed"
    },
    "tags": []
   },
   "outputs": [],
   "source": [
    "#hide\n",
    "def get_mappings(url):\n",
    "    df = pd.read_csv(url)\n",
    "    return {\n",
    "        'df': df,\n",
    "        'replace.country': dict(df.dropna(subset=['Name']).set_index('Country')['Name']),\n",
    "        'map.continent': dict(df.set_index('Name')['Continent'])\n",
    "    }"
   ]
  },
  {
   "cell_type": "code",
   "execution_count": 5,
   "id": "intimate-machinery",
   "metadata": {
    "execution": {
     "iopub.execute_input": "2021-04-03T12:03:40.659109Z",
     "iopub.status.busy": "2021-04-03T12:03:40.658544Z",
     "iopub.status.idle": "2021-04-03T12:03:40.693108Z",
     "shell.execute_reply": "2021-04-03T12:03:40.693607Z"
    },
    "papermill": {
     "duration": 0.070117,
     "end_time": "2021-04-03T12:03:40.693740",
     "exception": false,
     "start_time": "2021-04-03T12:03:40.623623",
     "status": "completed"
    },
    "tags": []
   },
   "outputs": [],
   "source": [
    "#hide\n",
    "mapping = get_mappings(paths['mapping'])"
   ]
  },
  {
   "cell_type": "code",
   "execution_count": 6,
   "id": "certified-tactics",
   "metadata": {
    "execution": {
     "iopub.execute_input": "2021-04-03T12:03:40.766946Z",
     "iopub.status.busy": "2021-04-03T12:03:40.766390Z",
     "iopub.status.idle": "2021-04-03T12:03:40.768188Z",
     "shell.execute_reply": "2021-04-03T12:03:40.768584Z"
    },
    "papermill": {
     "duration": 0.041626,
     "end_time": "2021-04-03T12:03:40.768696",
     "exception": false,
     "start_time": "2021-04-03T12:03:40.727070",
     "status": "completed"
    },
    "tags": []
   },
   "outputs": [],
   "source": [
    "#hide\n",
    "def get_template(path):\n",
    "    from urllib.parse import urlparse\n",
    "    if bool(urlparse(path).netloc):\n",
    "        from urllib.request import urlopen\n",
    "        return urlopen(path).read().decode('utf8')\n",
    "    return open(path).read()"
   ]
  },
  {
   "cell_type": "code",
   "execution_count": 7,
   "id": "realistic-blast",
   "metadata": {
    "execution": {
     "iopub.execute_input": "2021-04-03T12:03:40.843455Z",
     "iopub.status.busy": "2021-04-03T12:03:40.842889Z",
     "iopub.status.idle": "2021-04-03T12:03:40.845729Z",
     "shell.execute_reply": "2021-04-03T12:03:40.846268Z"
    },
    "papermill": {
     "duration": 0.045948,
     "end_time": "2021-04-03T12:03:40.846389",
     "exception": false,
     "start_time": "2021-04-03T12:03:40.800441",
     "status": "completed"
    },
    "tags": []
   },
   "outputs": [],
   "source": [
    "#hide\n",
    "def get_frame(name):\n",
    "    url = (\n",
    "        'https://raw.githubusercontent.com/CSSEGISandData/COVID-19/master/csse_covid_19_data/'\n",
    "        f'csse_covid_19_time_series/time_series_covid19_{name}_global.csv')\n",
    "    df = pd.read_csv(url)\n",
    "    # rename countries\n",
    "    df['Country/Region'] = df['Country/Region'].replace(mapping['replace.country'])\n",
    "    return df"
   ]
  },
  {
   "cell_type": "code",
   "execution_count": 8,
   "id": "affiliated-characterization",
   "metadata": {
    "execution": {
     "iopub.execute_input": "2021-04-03T12:03:40.920558Z",
     "iopub.status.busy": "2021-04-03T12:03:40.919988Z",
     "iopub.status.idle": "2021-04-03T12:03:40.922206Z",
     "shell.execute_reply": "2021-04-03T12:03:40.921718Z"
    },
    "papermill": {
     "duration": 0.044493,
     "end_time": "2021-04-03T12:03:40.922320",
     "exception": false,
     "start_time": "2021-04-03T12:03:40.877827",
     "status": "completed"
    },
    "tags": []
   },
   "outputs": [],
   "source": [
    "#hide\n",
    "def get_dates(df):\n",
    "    dt_cols = df.columns[~df.columns.isin(['Province/State', 'Country/Region', 'Lat', 'Long'])]\n",
    "    LAST_DATE_I = -1\n",
    "    # sometimes last column may be empty, then go backwards\n",
    "    for i in range(-1, -len(dt_cols), -1):\n",
    "        if not df[dt_cols[i]].fillna(0).eq(0).all():\n",
    "            LAST_DATE_I = i\n",
    "            break\n",
    "    return LAST_DATE_I, dt_cols"
   ]
  },
  {
   "cell_type": "code",
   "execution_count": 9,
   "id": "recent-optimization",
   "metadata": {
    "execution": {
     "iopub.execute_input": "2021-04-03T12:03:40.992860Z",
     "iopub.status.busy": "2021-04-03T12:03:40.992292Z",
     "iopub.status.idle": "2021-04-03T12:03:41.241011Z",
     "shell.execute_reply": "2021-04-03T12:03:41.239875Z"
    },
    "papermill": {
     "duration": 0.285749,
     "end_time": "2021-04-03T12:03:41.241143",
     "exception": false,
     "start_time": "2021-04-03T12:03:40.955394",
     "status": "completed"
    },
    "tags": []
   },
   "outputs": [],
   "source": [
    "#hide\n",
    "COL_REGION = 'Country/Region'\n",
    "# Confirmed, Recovered, Deaths\n",
    "df = get_frame('confirmed')\n",
    "# dft_: timeseries, dfc_: today country agg\n",
    "dft_cases = df\n",
    "dft_deaths = get_frame('deaths')\n",
    "dft_recovered = get_frame('recovered')\n",
    "LAST_DATE_I, dt_cols = get_dates(df)"
   ]
  },
  {
   "cell_type": "code",
   "execution_count": 10,
   "id": "absolute-copper",
   "metadata": {
    "execution": {
     "iopub.execute_input": "2021-04-03T12:03:41.308246Z",
     "iopub.status.busy": "2021-04-03T12:03:41.306934Z",
     "iopub.status.idle": "2021-04-03T12:03:41.309421Z",
     "shell.execute_reply": "2021-04-03T12:03:41.310222Z"
    },
    "papermill": {
     "duration": 0.039354,
     "end_time": "2021-04-03T12:03:41.310441",
     "exception": false,
     "start_time": "2021-04-03T12:03:41.271087",
     "status": "completed"
    },
    "tags": []
   },
   "outputs": [],
   "source": [
    "#hide\n",
    "LAST_DATE_I, dt_cols = get_dates(df)\n",
    "dt_today =dt_cols[LAST_DATE_I]\n",
    "# dt_5day = dt_cols[LAST_DATE_I - 5]\n",
    "dt_yday = dt_cols[LAST_DATE_I - 1]"
   ]
  },
  {
   "cell_type": "code",
   "execution_count": 11,
   "id": "restricted-sheriff",
   "metadata": {
    "execution": {
     "iopub.execute_input": "2021-04-03T12:03:41.382362Z",
     "iopub.status.busy": "2021-04-03T12:03:41.381815Z",
     "iopub.status.idle": "2021-04-03T12:03:41.390907Z",
     "shell.execute_reply": "2021-04-03T12:03:41.391332Z"
    },
    "papermill": {
     "duration": 0.047167,
     "end_time": "2021-04-03T12:03:41.391460",
     "exception": false,
     "start_time": "2021-04-03T12:03:41.344293",
     "status": "completed"
    },
    "tags": []
   },
   "outputs": [],
   "source": [
    "#hide\n",
    "dfc_cases = dft_cases.groupby(COL_REGION)[dt_today].sum()\n",
    "dfc_deaths = dft_deaths.groupby(COL_REGION)[dt_today].sum()\n",
    "# dfp_cases = dft_cases.groupby(COL_REGION)[dt_5day].sum()\n",
    "# dfp_deaths = dft_deaths.groupby(COL_REGION)[dt_5day].sum()\n",
    "dfp_cases = dft_cases.groupby(COL_REGION)[dt_yday].sum()\n",
    "dfp_deaths = dft_deaths.groupby(COL_REGION)[dt_yday].sum()"
   ]
  },
  {
   "cell_type": "code",
   "execution_count": 12,
   "id": "deluxe-hepatitis",
   "metadata": {
    "execution": {
     "iopub.execute_input": "2021-04-03T12:03:41.462375Z",
     "iopub.status.busy": "2021-04-03T12:03:41.461838Z",
     "iopub.status.idle": "2021-04-03T12:03:41.466445Z",
     "shell.execute_reply": "2021-04-03T12:03:41.465875Z"
    },
    "papermill": {
     "duration": 0.043196,
     "end_time": "2021-04-03T12:03:41.466551",
     "exception": false,
     "start_time": "2021-04-03T12:03:41.423355",
     "status": "completed"
    },
    "tags": []
   },
   "outputs": [],
   "source": [
    "#hide\n",
    "df_table = (pd.DataFrame(dict(Cases = dfc_cases, Deaths = dfc_deaths, PCases = dfp_cases, PDeaths = dfp_deaths))\n",
    "            .sort_values(by = ['Cases','Deaths'], ascending = [False, False])\n",
    "            .reset_index())"
   ]
  },
  {
   "cell_type": "code",
   "execution_count": 13,
   "id": "educational-chancellor",
   "metadata": {
    "execution": {
     "iopub.execute_input": "2021-04-03T12:03:41.549047Z",
     "iopub.status.busy": "2021-04-03T12:03:41.548490Z",
     "iopub.status.idle": "2021-04-03T12:03:41.573351Z",
     "shell.execute_reply": "2021-04-03T12:03:41.572700Z"
    },
    "papermill": {
     "duration": 0.065852,
     "end_time": "2021-04-03T12:03:41.573481",
     "exception": false,
     "start_time": "2021-04-03T12:03:41.507629",
     "status": "completed"
    },
    "tags": []
   },
   "outputs": [
    {
     "data": {
      "text/html": [
       "<div>\n",
       "<style scoped>\n",
       "    .dataframe tbody tr th:only-of-type {\n",
       "        vertical-align: middle;\n",
       "    }\n",
       "\n",
       "    .dataframe tbody tr th {\n",
       "        vertical-align: top;\n",
       "    }\n",
       "\n",
       "    .dataframe thead th {\n",
       "        text-align: right;\n",
       "    }\n",
       "</style>\n",
       "<table border=\"1\" class=\"dataframe\">\n",
       "  <thead>\n",
       "    <tr style=\"text-align: right;\">\n",
       "      <th></th>\n",
       "      <th>Country/Region</th>\n",
       "      <th>Cases</th>\n",
       "      <th>Deaths</th>\n",
       "      <th>PCases</th>\n",
       "      <th>PDeaths</th>\n",
       "      <th>Cases (+)</th>\n",
       "      <th>Deaths (+)</th>\n",
       "      <th>Fatality Rate</th>\n",
       "      <th>Continent</th>\n",
       "    </tr>\n",
       "  </thead>\n",
       "  <tbody>\n",
       "    <tr>\n",
       "      <th>0</th>\n",
       "      <td>US</td>\n",
       "      <td>30609690</td>\n",
       "      <td>554103</td>\n",
       "      <td>30539868</td>\n",
       "      <td>553136</td>\n",
       "      <td>69822</td>\n",
       "      <td>967</td>\n",
       "      <td>1.81</td>\n",
       "      <td>North America</td>\n",
       "    </tr>\n",
       "    <tr>\n",
       "      <th>1</th>\n",
       "      <td>Brazil</td>\n",
       "      <td>12910082</td>\n",
       "      <td>328206</td>\n",
       "      <td>12839844</td>\n",
       "      <td>325284</td>\n",
       "      <td>70238</td>\n",
       "      <td>2922</td>\n",
       "      <td>2.54</td>\n",
       "      <td>South America</td>\n",
       "    </tr>\n",
       "    <tr>\n",
       "      <th>2</th>\n",
       "      <td>India</td>\n",
       "      <td>12392260</td>\n",
       "      <td>164110</td>\n",
       "      <td>12303131</td>\n",
       "      <td>163396</td>\n",
       "      <td>89129</td>\n",
       "      <td>714</td>\n",
       "      <td>1.32</td>\n",
       "      <td>Asia</td>\n",
       "    </tr>\n",
       "    <tr>\n",
       "      <th>3</th>\n",
       "      <td>France</td>\n",
       "      <td>4802457</td>\n",
       "      <td>96438</td>\n",
       "      <td>4755779</td>\n",
       "      <td>96106</td>\n",
       "      <td>46678</td>\n",
       "      <td>332</td>\n",
       "      <td>2.01</td>\n",
       "      <td>Europe</td>\n",
       "    </tr>\n",
       "    <tr>\n",
       "      <th>4</th>\n",
       "      <td>Russia</td>\n",
       "      <td>4511973</td>\n",
       "      <td>97986</td>\n",
       "      <td>4503291</td>\n",
       "      <td>97594</td>\n",
       "      <td>8682</td>\n",
       "      <td>392</td>\n",
       "      <td>2.17</td>\n",
       "      <td>Europe</td>\n",
       "    </tr>\n",
       "  </tbody>\n",
       "</table>\n",
       "</div>"
      ],
      "text/plain": [
       "  Country/Region     Cases  Deaths    PCases  PDeaths  Cases (+)  Deaths (+)  \\\n",
       "0             US  30609690  554103  30539868   553136      69822         967   \n",
       "1         Brazil  12910082  328206  12839844   325284      70238        2922   \n",
       "2          India  12392260  164110  12303131   163396      89129         714   \n",
       "3         France   4802457   96438   4755779    96106      46678         332   \n",
       "4         Russia   4511973   97986   4503291    97594       8682         392   \n",
       "\n",
       "   Fatality Rate      Continent  \n",
       "0           1.81  North America  \n",
       "1           2.54  South America  \n",
       "2           1.32           Asia  \n",
       "3           2.01         Europe  \n",
       "4           2.17         Europe  "
      ]
     },
     "execution_count": 13,
     "metadata": {},
     "output_type": "execute_result"
    }
   ],
   "source": [
    "#hide\n",
    "for c in 'Cases, Deaths'.split(', '):\n",
    "    df_table[f'{c} (+)'] = (df_table[c] - df_table[f'P{c}']).clip(0)\n",
    "    #Clip ça veut dire, les chiffres negatif sont interdit\n",
    "df_table['Fatality Rate'] = (100* df_table['Deaths']/ df_table['Cases']).round(2)\n",
    "df_table['Continent'] = df_table['Country/Region'].map(mapping['map.continent'])\n",
    "df_table.head(5)"
   ]
  },
  {
   "cell_type": "code",
   "execution_count": 14,
   "id": "aboriginal-bulgaria",
   "metadata": {
    "execution": {
     "iopub.execute_input": "2021-04-03T12:03:41.648805Z",
     "iopub.status.busy": "2021-04-03T12:03:41.647706Z",
     "iopub.status.idle": "2021-04-03T12:03:41.650087Z",
     "shell.execute_reply": "2021-04-03T12:03:41.650563Z"
    },
    "papermill": {
     "duration": 0.044433,
     "end_time": "2021-04-03T12:03:41.650692",
     "exception": false,
     "start_time": "2021-04-03T12:03:41.606259",
     "status": "completed"
    },
    "tags": []
   },
   "outputs": [],
   "source": [
    "#hide\n",
    "#delete problematic countries from table\n",
    "df_table = df_table[~df_table['Country/Region'].isin(['Cape Verde', 'Cruise Ship', 'Kosovo'])]"
   ]
  },
  {
   "cell_type": "code",
   "execution_count": 15,
   "id": "fantastic-effect",
   "metadata": {
    "execution": {
     "iopub.execute_input": "2021-04-03T12:03:41.725179Z",
     "iopub.status.busy": "2021-04-03T12:03:41.724604Z",
     "iopub.status.idle": "2021-04-03T12:03:41.742960Z",
     "shell.execute_reply": "2021-04-03T12:03:41.742543Z"
    },
    "papermill": {
     "duration": 0.058197,
     "end_time": "2021-04-03T12:03:41.743054",
     "exception": false,
     "start_time": "2021-04-03T12:03:41.684857",
     "status": "completed"
    },
    "tags": []
   },
   "outputs": [
    {
     "data": {
      "text/html": [
       "<div>\n",
       "<style scoped>\n",
       "    .dataframe tbody tr th:only-of-type {\n",
       "        vertical-align: middle;\n",
       "    }\n",
       "\n",
       "    .dataframe tbody tr th {\n",
       "        vertical-align: top;\n",
       "    }\n",
       "\n",
       "    .dataframe thead th {\n",
       "        text-align: right;\n",
       "    }\n",
       "</style>\n",
       "<table border=\"1\" class=\"dataframe\">\n",
       "  <thead>\n",
       "    <tr style=\"text-align: right;\">\n",
       "      <th></th>\n",
       "      <th>Country/Region</th>\n",
       "      <th>Cases</th>\n",
       "      <th>Deaths</th>\n",
       "      <th>PCases</th>\n",
       "      <th>PDeaths</th>\n",
       "      <th>Cases (+)</th>\n",
       "      <th>Deaths (+)</th>\n",
       "      <th>Fatality Rate</th>\n",
       "      <th>Continent</th>\n",
       "    </tr>\n",
       "  </thead>\n",
       "  <tbody>\n",
       "    <tr>\n",
       "      <th>0</th>\n",
       "      <td>US</td>\n",
       "      <td>30609690</td>\n",
       "      <td>554103</td>\n",
       "      <td>30539868</td>\n",
       "      <td>553136</td>\n",
       "      <td>69822</td>\n",
       "      <td>967</td>\n",
       "      <td>1.8</td>\n",
       "      <td>North America</td>\n",
       "    </tr>\n",
       "    <tr>\n",
       "      <th>1</th>\n",
       "      <td>Brazil</td>\n",
       "      <td>12910082</td>\n",
       "      <td>328206</td>\n",
       "      <td>12839844</td>\n",
       "      <td>325284</td>\n",
       "      <td>70238</td>\n",
       "      <td>2922</td>\n",
       "      <td>2.5</td>\n",
       "      <td>South America</td>\n",
       "    </tr>\n",
       "    <tr>\n",
       "      <th>2</th>\n",
       "      <td>India</td>\n",
       "      <td>12392260</td>\n",
       "      <td>164110</td>\n",
       "      <td>12303131</td>\n",
       "      <td>163396</td>\n",
       "      <td>89129</td>\n",
       "      <td>714</td>\n",
       "      <td>1.3</td>\n",
       "      <td>Asia</td>\n",
       "    </tr>\n",
       "    <tr>\n",
       "      <th>3</th>\n",
       "      <td>France</td>\n",
       "      <td>4802457</td>\n",
       "      <td>96438</td>\n",
       "      <td>4755779</td>\n",
       "      <td>96106</td>\n",
       "      <td>46678</td>\n",
       "      <td>332</td>\n",
       "      <td>2.0</td>\n",
       "      <td>Europe</td>\n",
       "    </tr>\n",
       "    <tr>\n",
       "      <th>4</th>\n",
       "      <td>Russia</td>\n",
       "      <td>4511973</td>\n",
       "      <td>97986</td>\n",
       "      <td>4503291</td>\n",
       "      <td>97594</td>\n",
       "      <td>8682</td>\n",
       "      <td>392</td>\n",
       "      <td>2.2</td>\n",
       "      <td>Europe</td>\n",
       "    </tr>\n",
       "  </tbody>\n",
       "</table>\n",
       "</div>"
      ],
      "text/plain": [
       "  Country/Region     Cases  Deaths    PCases  PDeaths  Cases (+)  Deaths (+)  \\\n",
       "0             US  30609690  554103  30539868   553136      69822         967   \n",
       "1         Brazil  12910082  328206  12839844   325284      70238        2922   \n",
       "2          India  12392260  164110  12303131   163396      89129         714   \n",
       "3         France   4802457   96438   4755779    96106      46678         332   \n",
       "4         Russia   4511973   97986   4503291    97594       8682         392   \n",
       "\n",
       "   Fatality Rate      Continent  \n",
       "0            1.8  North America  \n",
       "1            2.5  South America  \n",
       "2            1.3           Asia  \n",
       "3            2.0         Europe  \n",
       "4            2.2         Europe  "
      ]
     },
     "execution_count": 15,
     "metadata": {},
     "output_type": "execute_result"
    }
   ],
   "source": [
    "#hide\n",
    "df_table = (pd.DataFrame(dict(Cases=dfc_cases, Deaths=dfc_deaths, PCases=dfp_cases, PDeaths=dfp_deaths))\n",
    "             .sort_values(by=['Cases', 'Deaths'], ascending=[False, False])\n",
    "             .reset_index())\n",
    "df_table.rename(columns={'index': 'Country/Region'}, inplace=True)\n",
    "for c in 'Cases, Deaths'.split(', '):\n",
    "    df_table[f'{c} (+)'] = (df_table[c] - df_table[f'P{c}']).clip(0)  # DATA BUG\n",
    "df_table['Fatality Rate'] = (100 * df_table['Deaths'] / df_table['Cases']).round(1)\n",
    "df_table['Continent'] = df_table['Country/Region'].map(mapping['map.continent'])\n",
    "df_table.head(5)"
   ]
  },
  {
   "cell_type": "code",
   "execution_count": 16,
   "id": "fewer-occasion",
   "metadata": {
    "execution": {
     "iopub.execute_input": "2021-04-03T12:03:41.818505Z",
     "iopub.status.busy": "2021-04-03T12:03:41.817944Z",
     "iopub.status.idle": "2021-04-03T12:03:41.820350Z",
     "shell.execute_reply": "2021-04-03T12:03:41.819808Z"
    },
    "papermill": {
     "duration": 0.045187,
     "end_time": "2021-04-03T12:03:41.820471",
     "exception": false,
     "start_time": "2021-04-03T12:03:41.775284",
     "status": "completed"
    },
    "tags": []
   },
   "outputs": [],
   "source": [
    "#hide\n",
    "#delete problematic countries from table\n",
    "df_table = df_table[~df_table['Country/Region'].isin(['Cape Verde', 'Cruise Ship', 'Kosovo'])]"
   ]
  },
  {
   "cell_type": "code",
   "execution_count": 17,
   "id": "related-center",
   "metadata": {
    "execution": {
     "iopub.execute_input": "2021-04-03T12:03:41.895350Z",
     "iopub.status.busy": "2021-04-03T12:03:41.894631Z",
     "iopub.status.idle": "2021-04-03T12:03:41.908643Z",
     "shell.execute_reply": "2021-04-03T12:03:41.908150Z"
    },
    "papermill": {
     "duration": 0.057288,
     "end_time": "2021-04-03T12:03:41.908763",
     "exception": false,
     "start_time": "2021-04-03T12:03:41.851475",
     "status": "completed"
    },
    "tags": []
   },
   "outputs": [],
   "source": [
    "#hide\n",
    "metrics = [df_table.columns[index] for index in [1,2,5,6]]\n",
    "# s_china = df_table[df_table['Country/Region'].eq('China')][metrics].sum().add_prefix('China ')\n",
    "s_us = df_table[df_table['Country/Region'].eq('US')][metrics].sum().add_prefix('US ')\n",
    "s_eu = df_table[df_table['Continent'].eq('Europe')][metrics].sum().add_prefix('EU ')\n",
    "s_ind = df_table[df_table['Country/Region'].eq('India')][metrics].sum().add_prefix('India ')\n",
    "summary = {'updated': pd.to_datetime(dt_today), 'since': pd.to_datetime(dt_yday)}\n",
    "summary = {'updated': pd.to_datetime(dt_today), 'since': pd.to_datetime(dt_yday)}\n",
    "summary = {**summary, **df_table[metrics].sum(), **s_ind, **s_us, **s_eu}"
   ]
  },
  {
   "cell_type": "code",
   "execution_count": 18,
   "id": "engaging-syndrome",
   "metadata": {
    "execution": {
     "iopub.execute_input": "2021-04-03T12:03:41.998633Z",
     "iopub.status.busy": "2021-04-03T12:03:41.995089Z",
     "iopub.status.idle": "2021-04-03T12:03:42.008604Z",
     "shell.execute_reply": "2021-04-03T12:03:42.008991Z"
    },
    "papermill": {
     "duration": 0.064224,
     "end_time": "2021-04-03T12:03:42.009108",
     "exception": false,
     "start_time": "2021-04-03T12:03:41.944884",
     "status": "completed"
    },
    "tags": []
   },
   "outputs": [],
   "source": [
    "#hide\n",
    "dft_ct_new_cases = dft_cases.groupby(COL_REGION)[dt_cols].sum().diff(axis=1).fillna(0).astype(int)"
   ]
  },
  {
   "cell_type": "code",
   "execution_count": 19,
   "id": "neutral-assignment",
   "metadata": {
    "execution": {
     "iopub.execute_input": "2021-04-03T12:03:42.093097Z",
     "iopub.status.busy": "2021-04-03T12:03:42.092517Z",
     "iopub.status.idle": "2021-04-03T12:03:42.094159Z",
     "shell.execute_reply": "2021-04-03T12:03:42.094656Z"
    },
    "papermill": {
     "duration": 0.052171,
     "end_time": "2021-04-03T12:03:42.094782",
     "exception": false,
     "start_time": "2021-04-03T12:03:42.042611",
     "status": "completed"
    },
    "tags": []
   },
   "outputs": [],
   "source": [
    "#hide\n",
    "everydaycases = dft_ct_new_cases.cumsum(axis=1)"
   ]
  },
  {
   "cell_type": "code",
   "execution_count": 20,
   "id": "parliamentary-calgary",
   "metadata": {
    "execution": {
     "iopub.execute_input": "2021-04-03T12:03:42.169041Z",
     "iopub.status.busy": "2021-04-03T12:03:42.168495Z",
     "iopub.status.idle": "2021-04-03T12:03:44.512793Z",
     "shell.execute_reply": "2021-04-03T12:03:44.511478Z"
    },
    "papermill": {
     "duration": 2.382997,
     "end_time": "2021-04-03T12:03:44.512927",
     "exception": false,
     "start_time": "2021-04-03T12:03:42.129930",
     "status": "completed"
    },
    "tags": []
   },
   "outputs": [],
   "source": [
    "#hide\n",
    "import pandas as pd\n",
    "import matplotlib.pyplot as plt\n",
    "import matplotlib.ticker as ticker\n",
    "import matplotlib.animation as animation\n",
    "from IPython.display import HTML"
   ]
  },
  {
   "cell_type": "code",
   "execution_count": 21,
   "id": "lasting-extraction",
   "metadata": {
    "execution": {
     "iopub.execute_input": "2021-04-03T12:03:44.585781Z",
     "iopub.status.busy": "2021-04-03T12:03:44.584736Z",
     "iopub.status.idle": "2021-04-03T12:03:44.590264Z",
     "shell.execute_reply": "2021-04-03T12:03:44.589825Z"
    },
    "papermill": {
     "duration": 0.044217,
     "end_time": "2021-04-03T12:03:44.590380",
     "exception": false,
     "start_time": "2021-04-03T12:03:44.546163",
     "status": "completed"
    },
    "tags": []
   },
   "outputs": [],
   "source": [
    "#hide\n",
    "t = everydaycases.stack()"
   ]
  },
  {
   "cell_type": "code",
   "execution_count": 22,
   "id": "premier-sleeve",
   "metadata": {
    "execution": {
     "iopub.execute_input": "2021-04-03T12:03:44.659918Z",
     "iopub.status.busy": "2021-04-03T12:03:44.659338Z",
     "iopub.status.idle": "2021-04-03T12:03:44.667293Z",
     "shell.execute_reply": "2021-04-03T12:03:44.667827Z"
    },
    "papermill": {
     "duration": 0.044329,
     "end_time": "2021-04-03T12:03:44.667960",
     "exception": false,
     "start_time": "2021-04-03T12:03:44.623631",
     "status": "completed"
    },
    "tags": []
   },
   "outputs": [],
   "source": [
    "#hide\n",
    "g = t.reset_index(['Country/Region'])"
   ]
  },
  {
   "cell_type": "code",
   "execution_count": 23,
   "id": "distributed-pittsburgh",
   "metadata": {
    "execution": {
     "iopub.execute_input": "2021-04-03T12:03:44.733966Z",
     "iopub.status.busy": "2021-04-03T12:03:44.733503Z",
     "iopub.status.idle": "2021-04-03T12:03:44.736215Z",
     "shell.execute_reply": "2021-04-03T12:03:44.736751Z"
    },
    "papermill": {
     "duration": 0.038453,
     "end_time": "2021-04-03T12:03:44.736875",
     "exception": false,
     "start_time": "2021-04-03T12:03:44.698422",
     "status": "completed"
    },
    "tags": []
   },
   "outputs": [],
   "source": [
    "#hide\n",
    "g.index.name = 'date'"
   ]
  },
  {
   "cell_type": "code",
   "execution_count": 24,
   "id": "naked-donor",
   "metadata": {
    "execution": {
     "iopub.execute_input": "2021-04-03T12:03:44.807077Z",
     "iopub.status.busy": "2021-04-03T12:03:44.806472Z",
     "iopub.status.idle": "2021-04-03T12:03:44.808994Z",
     "shell.execute_reply": "2021-04-03T12:03:44.808496Z"
    },
    "papermill": {
     "duration": 0.039149,
     "end_time": "2021-04-03T12:03:44.809115",
     "exception": false,
     "start_time": "2021-04-03T12:03:44.769966",
     "status": "completed"
    },
    "tags": []
   },
   "outputs": [],
   "source": [
    "# #hide\n",
    "# g = g.reset_index(['date'])"
   ]
  },
  {
   "cell_type": "code",
   "execution_count": 25,
   "id": "incomplete-mustang",
   "metadata": {
    "execution": {
     "iopub.execute_input": "2021-04-03T12:03:44.893808Z",
     "iopub.status.busy": "2021-04-03T12:03:44.893261Z",
     "iopub.status.idle": "2021-04-03T12:03:44.894803Z",
     "shell.execute_reply": "2021-04-03T12:03:44.895206Z"
    },
    "papermill": {
     "duration": 0.053002,
     "end_time": "2021-04-03T12:03:44.895316",
     "exception": false,
     "start_time": "2021-04-03T12:03:44.842314",
     "status": "completed"
    },
    "tags": []
   },
   "outputs": [],
   "source": [
    "#hide\n",
    "# g.head()"
   ]
  },
  {
   "cell_type": "code",
   "execution_count": 26,
   "id": "specific-kruger",
   "metadata": {
    "execution": {
     "iopub.execute_input": "2021-04-03T12:03:44.963850Z",
     "iopub.status.busy": "2021-04-03T12:03:44.963272Z",
     "iopub.status.idle": "2021-04-03T12:03:44.966080Z",
     "shell.execute_reply": "2021-04-03T12:03:44.965636Z"
    },
    "papermill": {
     "duration": 0.038995,
     "end_time": "2021-04-03T12:03:44.966190",
     "exception": false,
     "start_time": "2021-04-03T12:03:44.927195",
     "status": "completed"
    },
    "tags": []
   },
   "outputs": [],
   "source": [
    "#hide\n",
    "# g.columns = ['date','country','cases']"
   ]
  },
  {
   "cell_type": "code",
   "execution_count": 27,
   "id": "tender-conversion",
   "metadata": {
    "execution": {
     "iopub.execute_input": "2021-04-03T12:03:45.036217Z",
     "iopub.status.busy": "2021-04-03T12:03:45.035745Z",
     "iopub.status.idle": "2021-04-03T12:03:45.037688Z",
     "shell.execute_reply": "2021-04-03T12:03:45.038151Z"
    },
    "papermill": {
     "duration": 0.038605,
     "end_time": "2021-04-03T12:03:45.038294",
     "exception": false,
     "start_time": "2021-04-03T12:03:44.999689",
     "status": "completed"
    },
    "tags": []
   },
   "outputs": [],
   "source": [
    "#hide\n",
    "# g['continent'] = g.country"
   ]
  },
  {
   "cell_type": "code",
   "execution_count": 28,
   "id": "substantial-wilderness",
   "metadata": {
    "execution": {
     "iopub.execute_input": "2021-04-03T12:03:45.108343Z",
     "iopub.status.busy": "2021-04-03T12:03:45.107808Z",
     "iopub.status.idle": "2021-04-03T12:03:45.109965Z",
     "shell.execute_reply": "2021-04-03T12:03:45.109489Z"
    },
    "papermill": {
     "duration": 0.039257,
     "end_time": "2021-04-03T12:03:45.110094",
     "exception": false,
     "start_time": "2021-04-03T12:03:45.070837",
     "status": "completed"
    },
    "tags": []
   },
   "outputs": [],
   "source": [
    "#hide\n",
    "# cols = list(g.columns.values)"
   ]
  },
  {
   "cell_type": "code",
   "execution_count": 29,
   "id": "solved-farming",
   "metadata": {
    "execution": {
     "iopub.execute_input": "2021-04-03T12:03:45.180052Z",
     "iopub.status.busy": "2021-04-03T12:03:45.179475Z",
     "iopub.status.idle": "2021-04-03T12:03:45.181340Z",
     "shell.execute_reply": "2021-04-03T12:03:45.181755Z"
    },
    "papermill": {
     "duration": 0.038884,
     "end_time": "2021-04-03T12:03:45.181883",
     "exception": false,
     "start_time": "2021-04-03T12:03:45.142999",
     "status": "completed"
    },
    "tags": []
   },
   "outputs": [],
   "source": [
    "#hide\n",
    "# cols.insert(0, cols.pop())"
   ]
  },
  {
   "cell_type": "code",
   "execution_count": 30,
   "id": "executed-adoption",
   "metadata": {
    "execution": {
     "iopub.execute_input": "2021-04-03T12:03:45.254013Z",
     "iopub.status.busy": "2021-04-03T12:03:45.253462Z",
     "iopub.status.idle": "2021-04-03T12:03:45.255745Z",
     "shell.execute_reply": "2021-04-03T12:03:45.256297Z"
    },
    "papermill": {
     "duration": 0.040528,
     "end_time": "2021-04-03T12:03:45.256447",
     "exception": false,
     "start_time": "2021-04-03T12:03:45.215919",
     "status": "completed"
    },
    "tags": []
   },
   "outputs": [],
   "source": [
    "#hide\n",
    "# g = g[cols]"
   ]
  },
  {
   "cell_type": "code",
   "execution_count": 31,
   "id": "subject-dublin",
   "metadata": {
    "execution": {
     "iopub.execute_input": "2021-04-03T12:03:45.327101Z",
     "iopub.status.busy": "2021-04-03T12:03:45.326170Z",
     "iopub.status.idle": "2021-04-03T12:03:45.328084Z",
     "shell.execute_reply": "2021-04-03T12:03:45.328868Z"
    },
    "papermill": {
     "duration": 0.040804,
     "end_time": "2021-04-03T12:03:45.329066",
     "exception": false,
     "start_time": "2021-04-03T12:03:45.288262",
     "status": "completed"
    },
    "tags": []
   },
   "outputs": [],
   "source": [
    "#hide\n",
    "# g['continent'] = g['continent'].map(mapping['map.continent'])"
   ]
  },
  {
   "cell_type": "code",
   "execution_count": 32,
   "id": "freelance-scout",
   "metadata": {
    "execution": {
     "iopub.execute_input": "2021-04-03T12:03:45.407359Z",
     "iopub.status.busy": "2021-04-03T12:03:45.406828Z",
     "iopub.status.idle": "2021-04-03T12:03:45.409399Z",
     "shell.execute_reply": "2021-04-03T12:03:45.409955Z"
    },
    "papermill": {
     "duration": 0.046193,
     "end_time": "2021-04-03T12:03:45.410081",
     "exception": false,
     "start_time": "2021-04-03T12:03:45.363888",
     "status": "completed"
    },
    "tags": []
   },
   "outputs": [],
   "source": [
    "#hide\n",
    "# g.head()"
   ]
  },
  {
   "cell_type": "code",
   "execution_count": 33,
   "id": "limited-engine",
   "metadata": {
    "execution": {
     "iopub.execute_input": "2021-04-03T12:03:45.480913Z",
     "iopub.status.busy": "2021-04-03T12:03:45.479847Z",
     "iopub.status.idle": "2021-04-03T12:03:45.481986Z",
     "shell.execute_reply": "2021-04-03T12:03:45.482467Z"
    },
    "papermill": {
     "duration": 0.038771,
     "end_time": "2021-04-03T12:03:45.482570",
     "exception": false,
     "start_time": "2021-04-03T12:03:45.443799",
     "status": "completed"
    },
    "tags": []
   },
   "outputs": [],
   "source": [
    "# hide\n",
    "# g['date'] = g['date'].astype('datetime64[ns]')"
   ]
  },
  {
   "cell_type": "code",
   "execution_count": 34,
   "id": "sophisticated-supervisor",
   "metadata": {
    "execution": {
     "iopub.execute_input": "2021-04-03T12:03:45.551002Z",
     "iopub.status.busy": "2021-04-03T12:03:45.550537Z",
     "iopub.status.idle": "2021-04-03T12:03:45.552549Z",
     "shell.execute_reply": "2021-04-03T12:03:45.553113Z"
    },
    "papermill": {
     "duration": 0.037701,
     "end_time": "2021-04-03T12:03:45.553240",
     "exception": false,
     "start_time": "2021-04-03T12:03:45.515539",
     "status": "completed"
    },
    "tags": []
   },
   "outputs": [],
   "source": [
    "#hide\n",
    "# g['date'] = g.date.dt.dayofyear"
   ]
  },
  {
   "cell_type": "code",
   "execution_count": 35,
   "id": "inside-dubai",
   "metadata": {
    "execution": {
     "iopub.execute_input": "2021-04-03T12:03:45.627475Z",
     "iopub.status.busy": "2021-04-03T12:03:45.626945Z",
     "iopub.status.idle": "2021-04-03T12:03:45.629344Z",
     "shell.execute_reply": "2021-04-03T12:03:45.629849Z"
    },
    "papermill": {
     "duration": 0.047247,
     "end_time": "2021-04-03T12:03:45.629970",
     "exception": false,
     "start_time": "2021-04-03T12:03:45.582723",
     "status": "completed"
    },
    "tags": []
   },
   "outputs": [],
   "source": [
    "#hide\n",
    "# g = g.rename(columns= {'continent':'group','country':'name','cases':'value'})"
   ]
  },
  {
   "cell_type": "code",
   "execution_count": 36,
   "id": "fleet-motorcycle",
   "metadata": {
    "execution": {
     "iopub.execute_input": "2021-04-03T12:03:45.699394Z",
     "iopub.status.busy": "2021-04-03T12:03:45.698858Z",
     "iopub.status.idle": "2021-04-03T12:03:45.701322Z",
     "shell.execute_reply": "2021-04-03T12:03:45.701835Z"
    },
    "papermill": {
     "duration": 0.039382,
     "end_time": "2021-04-03T12:03:45.701955",
     "exception": false,
     "start_time": "2021-04-03T12:03:45.662573",
     "status": "completed"
    },
    "tags": []
   },
   "outputs": [],
   "source": [
    "#hide\n",
    "# cols = ['name','group','day','value']"
   ]
  },
  {
   "cell_type": "code",
   "execution_count": 37,
   "id": "continued-sleeping",
   "metadata": {
    "execution": {
     "iopub.execute_input": "2021-04-03T12:03:45.772171Z",
     "iopub.status.busy": "2021-04-03T12:03:45.771601Z",
     "iopub.status.idle": "2021-04-03T12:03:45.773923Z",
     "shell.execute_reply": "2021-04-03T12:03:45.774431Z"
    },
    "papermill": {
     "duration": 0.040338,
     "end_time": "2021-04-03T12:03:45.774551",
     "exception": false,
     "start_time": "2021-04-03T12:03:45.734213",
     "status": "completed"
    },
    "tags": []
   },
   "outputs": [],
   "source": [
    "#hide\n",
    "# g.rename(columns= {'date':'day'},inplace = True)"
   ]
  },
  {
   "cell_type": "code",
   "execution_count": 38,
   "id": "major-fight",
   "metadata": {
    "execution": {
     "iopub.execute_input": "2021-04-03T12:03:45.843479Z",
     "iopub.status.busy": "2021-04-03T12:03:45.842985Z",
     "iopub.status.idle": "2021-04-03T12:03:45.845215Z",
     "shell.execute_reply": "2021-04-03T12:03:45.845721Z"
    },
    "papermill": {
     "duration": 0.03777,
     "end_time": "2021-04-03T12:03:45.845841",
     "exception": false,
     "start_time": "2021-04-03T12:03:45.808071",
     "status": "completed"
    },
    "tags": []
   },
   "outputs": [],
   "source": [
    "#hide\n",
    "# g = g[cols]"
   ]
  },
  {
   "cell_type": "code",
   "execution_count": 39,
   "id": "structured-mobile",
   "metadata": {
    "execution": {
     "iopub.execute_input": "2021-04-03T12:03:45.914857Z",
     "iopub.status.busy": "2021-04-03T12:03:45.914308Z",
     "iopub.status.idle": "2021-04-03T12:03:45.916678Z",
     "shell.execute_reply": "2021-04-03T12:03:45.917239Z"
    },
    "papermill": {
     "duration": 0.039538,
     "end_time": "2021-04-03T12:03:45.917366",
     "exception": false,
     "start_time": "2021-04-03T12:03:45.877828",
     "status": "completed"
    },
    "tags": []
   },
   "outputs": [],
   "source": [
    "# #hide\n",
    "# g = g[g.group.notna()]"
   ]
  },
  {
   "cell_type": "code",
   "execution_count": 40,
   "id": "determined-closing",
   "metadata": {
    "execution": {
     "iopub.execute_input": "2021-04-03T12:03:45.989612Z",
     "iopub.status.busy": "2021-04-03T12:03:45.989029Z",
     "iopub.status.idle": "2021-04-03T12:03:45.990172Z",
     "shell.execute_reply": "2021-04-03T12:03:45.990607Z"
    },
    "papermill": {
     "duration": 0.040122,
     "end_time": "2021-04-03T12:03:45.990723",
     "exception": false,
     "start_time": "2021-04-03T12:03:45.950601",
     "status": "completed"
    },
    "tags": []
   },
   "outputs": [],
   "source": [
    "# #hide\n",
    "# colors = dict(zip(\n",
    "#     [\"Oceania\", \"Europe\", \"Asia\", \"South America\", \"Middle East\", \"North America\", \"Africa\"],\n",
    "#     [\"#adb0ff\", \"#ffb3ff\", \"#90d595\", \"#e48381\", \"#aafbff\", \"#f7bb5f\", \"#eafb50\"]\n",
    "# ))\n",
    "# group_lk = g.set_index('name')['group'].to_dict()"
   ]
  },
  {
   "cell_type": "code",
   "execution_count": null,
   "id": "gross-drinking",
   "metadata": {
    "papermill": {
     "duration": 0.032446,
     "end_time": "2021-04-03T12:03:46.053701",
     "exception": false,
     "start_time": "2021-04-03T12:03:46.021255",
     "status": "completed"
    },
    "tags": []
   },
   "outputs": [],
   "source": []
  },
  {
   "cell_type": "code",
   "execution_count": 41,
   "id": "subject-macintosh",
   "metadata": {
    "execution": {
     "iopub.execute_input": "2021-04-03T12:03:46.122183Z",
     "iopub.status.busy": "2021-04-03T12:03:46.121610Z",
     "iopub.status.idle": "2021-04-03T12:03:46.123728Z",
     "shell.execute_reply": "2021-04-03T12:03:46.124173Z"
    },
    "papermill": {
     "duration": 0.038947,
     "end_time": "2021-04-03T12:03:46.124281",
     "exception": false,
     "start_time": "2021-04-03T12:03:46.085334",
     "status": "completed"
    },
    "tags": []
   },
   "outputs": [],
   "source": [
    "# #hide\n",
    "# fig, ax = plt.subplots(figsize=(15, 8))\n",
    "\n",
    "# def draw_barchart(current_day):\n",
    "#     dff = g[g['day'].eq(current_day)].sort_values(by='value', ascending=True).tail(10)\n",
    "#     ax.clear()\n",
    "#     ax.barh(dff['name'], dff['value'], color=[colors[group_lk[x]] for x in dff['name']])\n",
    "#     dx = dff['value'].max() / 200\n",
    "    \n",
    "#     for i, (value, name) in enumerate(zip(dff['value'], dff['name'])):\n",
    "#         ax.text(value-dx, i,     name,           size=14, weight=600, ha='right', va='bottom')\n",
    "#         ax.text(value-dx, i-.25, group_lk[name], size=10, color='#444444', ha='right', va='baseline')\n",
    "#         ax.text(value+dx, i,     f'{value:,.0f}',  size=14, ha='left',  va='center')\n",
    "#     ax.text(1, 0.4, current_day, transform=ax.transAxes, color='#777777', size=46, ha='right', weight=800)\n",
    "#     ax.text(0, 1.06, 'Population (thousands)', transform=ax.transAxes, size=12, color='#777777')\n",
    "#     ax.xaxis.set_major_formatter(ticker.StrMethodFormatter('{x:,.0f}'))\n",
    "#     ax.xaxis.set_ticks_position('top')\n",
    "#     ax.tick_params(axis='x', colors='#777777', labelsize=12)\n",
    "#     ax.set_yticks([])\n",
    "#     ax.margins(0, 0.01)\n",
    "#     ax.grid(which='major', axis='x', linestyle='-')\n",
    "#     ax.set_axisbelow(True)\n",
    "    \n",
    "#     ax.text(0, 1.15, 'Coronavirus',\n",
    "#             transform=ax.transAxes, size=24, weight=600, ha='left', va='top')\n",
    "# #     ax.text(1, 0, 'by @pratapvardhan; credit @jburnmurdoch', transform=ax.transAxes, color='#777777', ha='right',\n",
    "# #             bbox=dict(facecolor='white', alpha=0.8, edgecolor='white'))\n",
    "#     plt.box(False)"
   ]
  },
  {
   "cell_type": "code",
   "execution_count": 42,
   "id": "sexual-wages",
   "metadata": {
    "execution": {
     "iopub.execute_input": "2021-04-03T12:03:46.193902Z",
     "iopub.status.busy": "2021-04-03T12:03:46.193316Z",
     "iopub.status.idle": "2021-04-03T12:03:46.195737Z",
     "shell.execute_reply": "2021-04-03T12:03:46.195289Z"
    },
    "papermill": {
     "duration": 0.040916,
     "end_time": "2021-04-03T12:03:46.195835",
     "exception": false,
     "start_time": "2021-04-03T12:03:46.154919",
     "status": "completed"
    },
    "tags": []
   },
   "outputs": [],
   "source": [
    "# #hide_input\n",
    "# fig, ax = plt.subplots(figsize=(15, 8))\n",
    "# animator = animation.FuncAnimation(fig, draw_barchart, frames=range(g.day.values.min(), g.day.values.max()))\n",
    "# HTML(animator.to_jshtml())\n",
    "# # or use animator.to_html5_video() or animator.save() "
   ]
  },
  {
   "cell_type": "code",
   "execution_count": null,
   "id": "australian-container",
   "metadata": {
    "papermill": {
     "duration": 0.03321,
     "end_time": "2021-04-03T12:03:46.261496",
     "exception": false,
     "start_time": "2021-04-03T12:03:46.228286",
     "status": "completed"
    },
    "tags": []
   },
   "outputs": [],
   "source": []
  },
  {
   "cell_type": "code",
   "execution_count": null,
   "id": "mediterranean-pontiac",
   "metadata": {
    "papermill": {
     "duration": 0.030863,
     "end_time": "2021-04-03T12:03:46.325994",
     "exception": false,
     "start_time": "2021-04-03T12:03:46.295131",
     "status": "completed"
    },
    "tags": []
   },
   "outputs": [],
   "source": []
  },
  {
   "cell_type": "code",
   "execution_count": null,
   "id": "aging-legislature",
   "metadata": {
    "papermill": {
     "duration": 0.031351,
     "end_time": "2021-04-03T12:03:46.387152",
     "exception": false,
     "start_time": "2021-04-03T12:03:46.355801",
     "status": "completed"
    },
    "tags": []
   },
   "outputs": [],
   "source": []
  }
 ],
 "metadata": {
  "kernelspec": {
   "display_name": "Python 3",
   "language": "python",
   "name": "python3"
  },
  "language_info": {
   "codemirror_mode": {
    "name": "ipython",
    "version": 3
   },
   "file_extension": ".py",
   "mimetype": "text/x-python",
   "name": "python",
   "nbconvert_exporter": "python",
   "pygments_lexer": "ipython3",
   "version": "3.6.13"
  },
  "papermill": {
   "duration": 7.897149,
   "end_time": "2021-04-03T12:03:46.726845",
   "environment_variables": {},
   "exception": null,
   "input_path": "2020-03-21-covid19exp.ipynb",
   "output_path": "2020-03-21-covid19exp.ipynb",
   "parameters": {},
   "start_time": "2021-04-03T12:03:38.829696",
   "version": "2.0.0"
  }
 },
 "nbformat": 4,
 "nbformat_minor": 5
}