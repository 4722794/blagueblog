{
 "cells": [
  {
   "cell_type": "markdown",
   "id": "muslim-click",
   "metadata": {
    "papermill": {
     "duration": 0.039828,
     "end_time": "2022-05-19T00:45:06.754873",
     "exception": false,
     "start_time": "2022-05-19T00:45:06.715045",
     "status": "completed"
    },
    "tags": []
   },
   "source": [
    "# COVID-19 Case Race\n",
    "> A race chart to see rising cases around the world\n",
    "\n",
    "- author: Hargun Oberoi\n",
    "- image: images/covid-overview.png\n",
    "- hide: false\n",
    "- badges: false"
   ]
  },
  {
   "cell_type": "code",
   "execution_count": 1,
   "id": "proof-material",
   "metadata": {
    "execution": {
     "iopub.execute_input": "2022-05-19T00:45:06.836304Z",
     "iopub.status.busy": "2022-05-19T00:45:06.835655Z",
     "iopub.status.idle": "2022-05-19T00:45:07.212191Z",
     "shell.execute_reply": "2022-05-19T00:45:07.213053Z"
    },
    "papermill": {
     "duration": 0.42447,
     "end_time": "2022-05-19T00:45:07.213406",
     "exception": false,
     "start_time": "2022-05-19T00:45:06.788936",
     "status": "completed"
    },
    "tags": []
   },
   "outputs": [],
   "source": [
    "#hide\n",
    "import numpy as np\n",
    "import pandas as pd\n",
    "from jinja2 import Template\n",
    "from IPython.display import HTML"
   ]
  },
  {
   "cell_type": "code",
   "execution_count": 2,
   "id": "developed-terminology",
   "metadata": {
    "execution": {
     "iopub.execute_input": "2022-05-19T00:45:07.286920Z",
     "iopub.status.busy": "2022-05-19T00:45:07.286144Z",
     "iopub.status.idle": "2022-05-19T00:45:07.288868Z",
     "shell.execute_reply": "2022-05-19T00:45:07.288281Z"
    },
    "papermill": {
     "duration": 0.040721,
     "end_time": "2022-05-19T00:45:07.288998",
     "exception": false,
     "start_time": "2022-05-19T00:45:07.248277",
     "status": "completed"
    },
    "tags": []
   },
   "outputs": [],
   "source": [
    "#hide\n",
    "\n",
    "# FETCH\n",
    "base_url = 'https://raw.githubusercontent.com/pratapvardhan/notebooks/master/covid19/'\n",
    "paths = {\n",
    "    'mapping': base_url + 'mapping_countries.csv',\n",
    "    'overview': base_url + 'overview.tpl'\n",
    "}"
   ]
  },
  {
   "cell_type": "code",
   "execution_count": 3,
   "id": "dynamic-saver",
   "metadata": {
    "execution": {
     "iopub.execute_input": "2022-05-19T00:45:07.363821Z",
     "iopub.status.busy": "2022-05-19T00:45:07.362757Z",
     "iopub.status.idle": "2022-05-19T00:45:07.373143Z",
     "shell.execute_reply": "2022-05-19T00:45:07.373638Z"
    },
    "papermill": {
     "duration": 0.049119,
     "end_time": "2022-05-19T00:45:07.373792",
     "exception": false,
     "start_time": "2022-05-19T00:45:07.324673",
     "status": "completed"
    },
    "tags": []
   },
   "outputs": [
    {
     "data": {
      "text/plain": [
       "'https://raw.githubusercontent.com/pratapvardhan/notebooks/master/covid19/mapping_countries.csv'"
      ]
     },
     "execution_count": 3,
     "metadata": {},
     "output_type": "execute_result"
    }
   ],
   "source": [
    "#hide\n",
    "paths['mapping']"
   ]
  },
  {
   "cell_type": "code",
   "execution_count": 4,
   "id": "urban-software",
   "metadata": {
    "execution": {
     "iopub.execute_input": "2022-05-19T00:45:07.444756Z",
     "iopub.status.busy": "2022-05-19T00:45:07.444199Z",
     "iopub.status.idle": "2022-05-19T00:45:07.446538Z",
     "shell.execute_reply": "2022-05-19T00:45:07.447109Z"
    },
    "papermill": {
     "duration": 0.040819,
     "end_time": "2022-05-19T00:45:07.447251",
     "exception": false,
     "start_time": "2022-05-19T00:45:07.406432",
     "status": "completed"
    },
    "tags": []
   },
   "outputs": [],
   "source": [
    "#hide\n",
    "def get_mappings(url):\n",
    "    df = pd.read_csv(url)\n",
    "    return {\n",
    "        'df': df,\n",
    "        'replace.country': dict(df.dropna(subset=['Name']).set_index('Country')['Name']),\n",
    "        'map.continent': dict(df.set_index('Name')['Continent'])\n",
    "    }"
   ]
  },
  {
   "cell_type": "code",
   "execution_count": 5,
   "id": "intimate-machinery",
   "metadata": {
    "execution": {
     "iopub.execute_input": "2022-05-19T00:45:07.517435Z",
     "iopub.status.busy": "2022-05-19T00:45:07.516825Z",
     "iopub.status.idle": "2022-05-19T00:45:07.547019Z",
     "shell.execute_reply": "2022-05-19T00:45:07.547779Z"
    },
    "papermill": {
     "duration": 0.069479,
     "end_time": "2022-05-19T00:45:07.548013",
     "exception": false,
     "start_time": "2022-05-19T00:45:07.478534",
     "status": "completed"
    },
    "tags": []
   },
   "outputs": [],
   "source": [
    "#hide\n",
    "mapping = get_mappings(paths['mapping'])"
   ]
  },
  {
   "cell_type": "code",
   "execution_count": 6,
   "id": "certified-tactics",
   "metadata": {
    "execution": {
     "iopub.execute_input": "2022-05-19T00:45:07.618302Z",
     "iopub.status.busy": "2022-05-19T00:45:07.617780Z",
     "iopub.status.idle": "2022-05-19T00:45:07.619951Z",
     "shell.execute_reply": "2022-05-19T00:45:07.620421Z"
    },
    "papermill": {
     "duration": 0.039719,
     "end_time": "2022-05-19T00:45:07.620565",
     "exception": false,
     "start_time": "2022-05-19T00:45:07.580846",
     "status": "completed"
    },
    "tags": []
   },
   "outputs": [],
   "source": [
    "#hide\n",
    "def get_template(path):\n",
    "    from urllib.parse import urlparse\n",
    "    if bool(urlparse(path).netloc):\n",
    "        from urllib.request import urlopen\n",
    "        return urlopen(path).read().decode('utf8')\n",
    "    return open(path).read()"
   ]
  },
  {
   "cell_type": "code",
   "execution_count": 7,
   "id": "realistic-blast",
   "metadata": {
    "execution": {
     "iopub.execute_input": "2022-05-19T00:45:07.690977Z",
     "iopub.status.busy": "2022-05-19T00:45:07.690333Z",
     "iopub.status.idle": "2022-05-19T00:45:07.694209Z",
     "shell.execute_reply": "2022-05-19T00:45:07.693717Z"
    },
    "papermill": {
     "duration": 0.041391,
     "end_time": "2022-05-19T00:45:07.694337",
     "exception": false,
     "start_time": "2022-05-19T00:45:07.652946",
     "status": "completed"
    },
    "tags": []
   },
   "outputs": [],
   "source": [
    "#hide\n",
    "def get_frame(name):\n",
    "    url = (\n",
    "        'https://raw.githubusercontent.com/CSSEGISandData/COVID-19/master/csse_covid_19_data/'\n",
    "        f'csse_covid_19_time_series/time_series_covid19_{name}_global.csv')\n",
    "    df = pd.read_csv(url)\n",
    "    # rename countries\n",
    "    df['Country/Region'] = df['Country/Region'].replace(mapping['replace.country'])\n",
    "    return df"
   ]
  },
  {
   "cell_type": "code",
   "execution_count": 8,
   "id": "affiliated-characterization",
   "metadata": {
    "execution": {
     "iopub.execute_input": "2022-05-19T00:45:07.768307Z",
     "iopub.status.busy": "2022-05-19T00:45:07.767676Z",
     "iopub.status.idle": "2022-05-19T00:45:07.770322Z",
     "shell.execute_reply": "2022-05-19T00:45:07.769811Z"
    },
    "papermill": {
     "duration": 0.043084,
     "end_time": "2022-05-19T00:45:07.770448",
     "exception": false,
     "start_time": "2022-05-19T00:45:07.727364",
     "status": "completed"
    },
    "tags": []
   },
   "outputs": [],
   "source": [
    "#hide\n",
    "def get_dates(df):\n",
    "    dt_cols = df.columns[~df.columns.isin(['Province/State', 'Country/Region', 'Lat', 'Long'])]\n",
    "    LAST_DATE_I = -1\n",
    "    # sometimes last column may be empty, then go backwards\n",
    "    for i in range(-1, -len(dt_cols), -1):\n",
    "        if not df[dt_cols[i]].fillna(0).eq(0).all():\n",
    "            LAST_DATE_I = i\n",
    "            break\n",
    "    return LAST_DATE_I, dt_cols"
   ]
  },
  {
   "cell_type": "code",
   "execution_count": 9,
   "id": "recent-optimization",
   "metadata": {
    "execution": {
     "iopub.execute_input": "2022-05-19T00:45:07.842059Z",
     "iopub.status.busy": "2022-05-19T00:45:07.841504Z",
     "iopub.status.idle": "2022-05-19T00:45:08.250202Z",
     "shell.execute_reply": "2022-05-19T00:45:08.249285Z"
    },
    "papermill": {
     "duration": 0.447465,
     "end_time": "2022-05-19T00:45:08.250430",
     "exception": false,
     "start_time": "2022-05-19T00:45:07.802965",
     "status": "completed"
    },
    "tags": []
   },
   "outputs": [],
   "source": [
    "#hide\n",
    "COL_REGION = 'Country/Region'\n",
    "# Confirmed, Recovered, Deaths\n",
    "df = get_frame('confirmed')\n",
    "# dft_: timeseries, dfc_: today country agg\n",
    "dft_cases = df\n",
    "dft_deaths = get_frame('deaths')\n",
    "dft_recovered = get_frame('recovered')\n",
    "LAST_DATE_I, dt_cols = get_dates(df)"
   ]
  },
  {
   "cell_type": "code",
   "execution_count": 10,
   "id": "absolute-copper",
   "metadata": {
    "execution": {
     "iopub.execute_input": "2022-05-19T00:45:08.324840Z",
     "iopub.status.busy": "2022-05-19T00:45:08.324273Z",
     "iopub.status.idle": "2022-05-19T00:45:08.326679Z",
     "shell.execute_reply": "2022-05-19T00:45:08.326132Z"
    },
    "papermill": {
     "duration": 0.042263,
     "end_time": "2022-05-19T00:45:08.326798",
     "exception": false,
     "start_time": "2022-05-19T00:45:08.284535",
     "status": "completed"
    },
    "tags": []
   },
   "outputs": [],
   "source": [
    "#hide\n",
    "LAST_DATE_I, dt_cols = get_dates(df)\n",
    "dt_today =dt_cols[LAST_DATE_I]\n",
    "# dt_5day = dt_cols[LAST_DATE_I - 5]\n",
    "dt_yday = dt_cols[LAST_DATE_I - 1]"
   ]
  },
  {
   "cell_type": "code",
   "execution_count": 11,
   "id": "restricted-sheriff",
   "metadata": {
    "execution": {
     "iopub.execute_input": "2022-05-19T00:45:08.402300Z",
     "iopub.status.busy": "2022-05-19T00:45:08.401678Z",
     "iopub.status.idle": "2022-05-19T00:45:08.410515Z",
     "shell.execute_reply": "2022-05-19T00:45:08.410098Z"
    },
    "papermill": {
     "duration": 0.049781,
     "end_time": "2022-05-19T00:45:08.410620",
     "exception": false,
     "start_time": "2022-05-19T00:45:08.360839",
     "status": "completed"
    },
    "tags": []
   },
   "outputs": [],
   "source": [
    "#hide\n",
    "dfc_cases = dft_cases.groupby(COL_REGION)[dt_today].sum()\n",
    "dfc_deaths = dft_deaths.groupby(COL_REGION)[dt_today].sum()\n",
    "# dfp_cases = dft_cases.groupby(COL_REGION)[dt_5day].sum()\n",
    "# dfp_deaths = dft_deaths.groupby(COL_REGION)[dt_5day].sum()\n",
    "dfp_cases = dft_cases.groupby(COL_REGION)[dt_yday].sum()\n",
    "dfp_deaths = dft_deaths.groupby(COL_REGION)[dt_yday].sum()"
   ]
  },
  {
   "cell_type": "code",
   "execution_count": 12,
   "id": "deluxe-hepatitis",
   "metadata": {
    "execution": {
     "iopub.execute_input": "2022-05-19T00:45:08.486709Z",
     "iopub.status.busy": "2022-05-19T00:45:08.486075Z",
     "iopub.status.idle": "2022-05-19T00:45:08.490790Z",
     "shell.execute_reply": "2022-05-19T00:45:08.490312Z"
    },
    "papermill": {
     "duration": 0.043376,
     "end_time": "2022-05-19T00:45:08.490909",
     "exception": false,
     "start_time": "2022-05-19T00:45:08.447533",
     "status": "completed"
    },
    "tags": []
   },
   "outputs": [],
   "source": [
    "#hide\n",
    "df_table = (pd.DataFrame(dict(Cases = dfc_cases, Deaths = dfc_deaths, PCases = dfp_cases, PDeaths = dfp_deaths))\n",
    "            .sort_values(by = ['Cases','Deaths'], ascending = [False, False])\n",
    "            .reset_index())"
   ]
  },
  {
   "cell_type": "code",
   "execution_count": 13,
   "id": "educational-chancellor",
   "metadata": {
    "execution": {
     "iopub.execute_input": "2022-05-19T00:45:08.572096Z",
     "iopub.status.busy": "2022-05-19T00:45:08.571521Z",
     "iopub.status.idle": "2022-05-19T00:45:08.580019Z",
     "shell.execute_reply": "2022-05-19T00:45:08.579568Z"
    },
    "papermill": {
     "duration": 0.058006,
     "end_time": "2022-05-19T00:45:08.580140",
     "exception": false,
     "start_time": "2022-05-19T00:45:08.522134",
     "status": "completed"
    },
    "tags": []
   },
   "outputs": [
    {
     "data": {
      "text/html": [
       "<div>\n",
       "<style scoped>\n",
       "    .dataframe tbody tr th:only-of-type {\n",
       "        vertical-align: middle;\n",
       "    }\n",
       "\n",
       "    .dataframe tbody tr th {\n",
       "        vertical-align: top;\n",
       "    }\n",
       "\n",
       "    .dataframe thead th {\n",
       "        text-align: right;\n",
       "    }\n",
       "</style>\n",
       "<table border=\"1\" class=\"dataframe\">\n",
       "  <thead>\n",
       "    <tr style=\"text-align: right;\">\n",
       "      <th></th>\n",
       "      <th>Country/Region</th>\n",
       "      <th>Cases</th>\n",
       "      <th>Deaths</th>\n",
       "      <th>PCases</th>\n",
       "      <th>PDeaths</th>\n",
       "      <th>Cases (+)</th>\n",
       "      <th>Deaths (+)</th>\n",
       "      <th>Fatality Rate</th>\n",
       "      <th>Continent</th>\n",
       "    </tr>\n",
       "  </thead>\n",
       "  <tbody>\n",
       "    <tr>\n",
       "      <th>0</th>\n",
       "      <td>US</td>\n",
       "      <td>82742996</td>\n",
       "      <td>1000326</td>\n",
       "      <td>82630509</td>\n",
       "      <td>999979</td>\n",
       "      <td>112487</td>\n",
       "      <td>347</td>\n",
       "      <td>1.21</td>\n",
       "      <td>North America</td>\n",
       "    </tr>\n",
       "    <tr>\n",
       "      <th>1</th>\n",
       "      <td>India</td>\n",
       "      <td>43127199</td>\n",
       "      <td>524293</td>\n",
       "      <td>43125370</td>\n",
       "      <td>524260</td>\n",
       "      <td>1829</td>\n",
       "      <td>33</td>\n",
       "      <td>1.22</td>\n",
       "      <td>Asia</td>\n",
       "    </tr>\n",
       "    <tr>\n",
       "      <th>2</th>\n",
       "      <td>Brazil</td>\n",
       "      <td>30701900</td>\n",
       "      <td>665216</td>\n",
       "      <td>30701900</td>\n",
       "      <td>665216</td>\n",
       "      <td>0</td>\n",
       "      <td>0</td>\n",
       "      <td>2.17</td>\n",
       "      <td>South America</td>\n",
       "    </tr>\n",
       "    <tr>\n",
       "      <th>3</th>\n",
       "      <td>France</td>\n",
       "      <td>29424812</td>\n",
       "      <td>148606</td>\n",
       "      <td>29381085</td>\n",
       "      <td>148516</td>\n",
       "      <td>43727</td>\n",
       "      <td>90</td>\n",
       "      <td>0.51</td>\n",
       "      <td>Europe</td>\n",
       "    </tr>\n",
       "    <tr>\n",
       "      <th>4</th>\n",
       "      <td>Germany</td>\n",
       "      <td>25890456</td>\n",
       "      <td>137888</td>\n",
       "      <td>25818405</td>\n",
       "      <td>137714</td>\n",
       "      <td>72051</td>\n",
       "      <td>174</td>\n",
       "      <td>0.53</td>\n",
       "      <td>Europe</td>\n",
       "    </tr>\n",
       "  </tbody>\n",
       "</table>\n",
       "</div>"
      ],
      "text/plain": [
       "  Country/Region     Cases   Deaths    PCases  PDeaths  Cases (+)  Deaths (+)  \\\n",
       "0             US  82742996  1000326  82630509   999979     112487         347   \n",
       "1          India  43127199   524293  43125370   524260       1829          33   \n",
       "2         Brazil  30701900   665216  30701900   665216          0           0   \n",
       "3         France  29424812   148606  29381085   148516      43727          90   \n",
       "4        Germany  25890456   137888  25818405   137714      72051         174   \n",
       "\n",
       "   Fatality Rate      Continent  \n",
       "0           1.21  North America  \n",
       "1           1.22           Asia  \n",
       "2           2.17  South America  \n",
       "3           0.51         Europe  \n",
       "4           0.53         Europe  "
      ]
     },
     "execution_count": 13,
     "metadata": {},
     "output_type": "execute_result"
    }
   ],
   "source": [
    "#hide\n",
    "for c in 'Cases, Deaths'.split(', '):\n",
    "    df_table[f'{c} (+)'] = (df_table[c] - df_table[f'P{c}']).clip(0)\n",
    "    #Clip ça veut dire, les chiffres negatif sont interdit\n",
    "df_table['Fatality Rate'] = (100* df_table['Deaths']/ df_table['Cases']).round(2)\n",
    "df_table['Continent'] = df_table['Country/Region'].map(mapping['map.continent'])\n",
    "df_table.head(5)"
   ]
  },
  {
   "cell_type": "code",
   "execution_count": 14,
   "id": "aboriginal-bulgaria",
   "metadata": {
    "execution": {
     "iopub.execute_input": "2022-05-19T00:45:08.656919Z",
     "iopub.status.busy": "2022-05-19T00:45:08.655861Z",
     "iopub.status.idle": "2022-05-19T00:45:08.660026Z",
     "shell.execute_reply": "2022-05-19T00:45:08.660473Z"
    },
    "papermill": {
     "duration": 0.046721,
     "end_time": "2022-05-19T00:45:08.660621",
     "exception": false,
     "start_time": "2022-05-19T00:45:08.613900",
     "status": "completed"
    },
    "tags": []
   },
   "outputs": [],
   "source": [
    "#hide\n",
    "#delete problematic countries from table\n",
    "df_table = df_table[~df_table['Country/Region'].isin(['Cape Verde', 'Cruise Ship', 'Kosovo'])]"
   ]
  },
  {
   "cell_type": "code",
   "execution_count": 15,
   "id": "fantastic-effect",
   "metadata": {
    "execution": {
     "iopub.execute_input": "2022-05-19T00:45:08.736767Z",
     "iopub.status.busy": "2022-05-19T00:45:08.735941Z",
     "iopub.status.idle": "2022-05-19T00:45:08.754755Z",
     "shell.execute_reply": "2022-05-19T00:45:08.754233Z"
    },
    "papermill": {
     "duration": 0.061652,
     "end_time": "2022-05-19T00:45:08.754886",
     "exception": false,
     "start_time": "2022-05-19T00:45:08.693234",
     "status": "completed"
    },
    "tags": []
   },
   "outputs": [
    {
     "data": {
      "text/html": [
       "<div>\n",
       "<style scoped>\n",
       "    .dataframe tbody tr th:only-of-type {\n",
       "        vertical-align: middle;\n",
       "    }\n",
       "\n",
       "    .dataframe tbody tr th {\n",
       "        vertical-align: top;\n",
       "    }\n",
       "\n",
       "    .dataframe thead th {\n",
       "        text-align: right;\n",
       "    }\n",
       "</style>\n",
       "<table border=\"1\" class=\"dataframe\">\n",
       "  <thead>\n",
       "    <tr style=\"text-align: right;\">\n",
       "      <th></th>\n",
       "      <th>Country/Region</th>\n",
       "      <th>Cases</th>\n",
       "      <th>Deaths</th>\n",
       "      <th>PCases</th>\n",
       "      <th>PDeaths</th>\n",
       "      <th>Cases (+)</th>\n",
       "      <th>Deaths (+)</th>\n",
       "      <th>Fatality Rate</th>\n",
       "      <th>Continent</th>\n",
       "    </tr>\n",
       "  </thead>\n",
       "  <tbody>\n",
       "    <tr>\n",
       "      <th>0</th>\n",
       "      <td>US</td>\n",
       "      <td>82742996</td>\n",
       "      <td>1000326</td>\n",
       "      <td>82630509</td>\n",
       "      <td>999979</td>\n",
       "      <td>112487</td>\n",
       "      <td>347</td>\n",
       "      <td>1.2</td>\n",
       "      <td>North America</td>\n",
       "    </tr>\n",
       "    <tr>\n",
       "      <th>1</th>\n",
       "      <td>India</td>\n",
       "      <td>43127199</td>\n",
       "      <td>524293</td>\n",
       "      <td>43125370</td>\n",
       "      <td>524260</td>\n",
       "      <td>1829</td>\n",
       "      <td>33</td>\n",
       "      <td>1.2</td>\n",
       "      <td>Asia</td>\n",
       "    </tr>\n",
       "    <tr>\n",
       "      <th>2</th>\n",
       "      <td>Brazil</td>\n",
       "      <td>30701900</td>\n",
       "      <td>665216</td>\n",
       "      <td>30701900</td>\n",
       "      <td>665216</td>\n",
       "      <td>0</td>\n",
       "      <td>0</td>\n",
       "      <td>2.2</td>\n",
       "      <td>South America</td>\n",
       "    </tr>\n",
       "    <tr>\n",
       "      <th>3</th>\n",
       "      <td>France</td>\n",
       "      <td>29424812</td>\n",
       "      <td>148606</td>\n",
       "      <td>29381085</td>\n",
       "      <td>148516</td>\n",
       "      <td>43727</td>\n",
       "      <td>90</td>\n",
       "      <td>0.5</td>\n",
       "      <td>Europe</td>\n",
       "    </tr>\n",
       "    <tr>\n",
       "      <th>4</th>\n",
       "      <td>Germany</td>\n",
       "      <td>25890456</td>\n",
       "      <td>137888</td>\n",
       "      <td>25818405</td>\n",
       "      <td>137714</td>\n",
       "      <td>72051</td>\n",
       "      <td>174</td>\n",
       "      <td>0.5</td>\n",
       "      <td>Europe</td>\n",
       "    </tr>\n",
       "  </tbody>\n",
       "</table>\n",
       "</div>"
      ],
      "text/plain": [
       "  Country/Region     Cases   Deaths    PCases  PDeaths  Cases (+)  Deaths (+)  \\\n",
       "0             US  82742996  1000326  82630509   999979     112487         347   \n",
       "1          India  43127199   524293  43125370   524260       1829          33   \n",
       "2         Brazil  30701900   665216  30701900   665216          0           0   \n",
       "3         France  29424812   148606  29381085   148516      43727          90   \n",
       "4        Germany  25890456   137888  25818405   137714      72051         174   \n",
       "\n",
       "   Fatality Rate      Continent  \n",
       "0            1.2  North America  \n",
       "1            1.2           Asia  \n",
       "2            2.2  South America  \n",
       "3            0.5         Europe  \n",
       "4            0.5         Europe  "
      ]
     },
     "execution_count": 15,
     "metadata": {},
     "output_type": "execute_result"
    }
   ],
   "source": [
    "#hide\n",
    "df_table = (pd.DataFrame(dict(Cases=dfc_cases, Deaths=dfc_deaths, PCases=dfp_cases, PDeaths=dfp_deaths))\n",
    "             .sort_values(by=['Cases', 'Deaths'], ascending=[False, False])\n",
    "             .reset_index())\n",
    "df_table.rename(columns={'index': 'Country/Region'}, inplace=True)\n",
    "for c in 'Cases, Deaths'.split(', '):\n",
    "    df_table[f'{c} (+)'] = (df_table[c] - df_table[f'P{c}']).clip(0)  # DATA BUG\n",
    "df_table['Fatality Rate'] = (100 * df_table['Deaths'] / df_table['Cases']).round(1)\n",
    "df_table['Continent'] = df_table['Country/Region'].map(mapping['map.continent'])\n",
    "df_table.head(5)"
   ]
  },
  {
   "cell_type": "code",
   "execution_count": 16,
   "id": "fewer-occasion",
   "metadata": {
    "execution": {
     "iopub.execute_input": "2022-05-19T00:45:08.833337Z",
     "iopub.status.busy": "2022-05-19T00:45:08.831765Z",
     "iopub.status.idle": "2022-05-19T00:45:08.834093Z",
     "shell.execute_reply": "2022-05-19T00:45:08.834547Z"
    },
    "papermill": {
     "duration": 0.042974,
     "end_time": "2022-05-19T00:45:08.834702",
     "exception": false,
     "start_time": "2022-05-19T00:45:08.791728",
     "status": "completed"
    },
    "tags": []
   },
   "outputs": [],
   "source": [
    "#hide\n",
    "#delete problematic countries from table\n",
    "df_table = df_table[~df_table['Country/Region'].isin(['Cape Verde', 'Cruise Ship', 'Kosovo'])]"
   ]
  },
  {
   "cell_type": "code",
   "execution_count": 17,
   "id": "related-center",
   "metadata": {
    "execution": {
     "iopub.execute_input": "2022-05-19T00:45:08.910457Z",
     "iopub.status.busy": "2022-05-19T00:45:08.909838Z",
     "iopub.status.idle": "2022-05-19T00:45:08.926200Z",
     "shell.execute_reply": "2022-05-19T00:45:08.925671Z"
    },
    "papermill": {
     "duration": 0.058391,
     "end_time": "2022-05-19T00:45:08.926330",
     "exception": false,
     "start_time": "2022-05-19T00:45:08.867939",
     "status": "completed"
    },
    "tags": []
   },
   "outputs": [],
   "source": [
    "#hide\n",
    "metrics = [df_table.columns[index] for index in [1,2,5,6]]\n",
    "# s_china = df_table[df_table['Country/Region'].eq('China')][metrics].sum().add_prefix('China ')\n",
    "s_us = df_table[df_table['Country/Region'].eq('US')][metrics].sum().add_prefix('US ')\n",
    "s_eu = df_table[df_table['Continent'].eq('Europe')][metrics].sum().add_prefix('EU ')\n",
    "s_ind = df_table[df_table['Country/Region'].eq('India')][metrics].sum().add_prefix('India ')\n",
    "summary = {'updated': pd.to_datetime(dt_today), 'since': pd.to_datetime(dt_yday)}\n",
    "summary = {'updated': pd.to_datetime(dt_today), 'since': pd.to_datetime(dt_yday)}\n",
    "summary = {**summary, **df_table[metrics].sum(), **s_ind, **s_us, **s_eu}"
   ]
  },
  {
   "cell_type": "code",
   "execution_count": 18,
   "id": "engaging-syndrome",
   "metadata": {
    "execution": {
     "iopub.execute_input": "2022-05-19T00:45:08.998502Z",
     "iopub.status.busy": "2022-05-19T00:45:08.997902Z",
     "iopub.status.idle": "2022-05-19T00:45:09.018882Z",
     "shell.execute_reply": "2022-05-19T00:45:09.017760Z"
    },
    "papermill": {
     "duration": 0.059227,
     "end_time": "2022-05-19T00:45:09.019018",
     "exception": false,
     "start_time": "2022-05-19T00:45:08.959791",
     "status": "completed"
    },
    "tags": []
   },
   "outputs": [],
   "source": [
    "#hide\n",
    "dft_ct_new_cases = dft_cases.groupby(COL_REGION)[dt_cols].sum().diff(axis=1).fillna(0).astype(int)"
   ]
  },
  {
   "cell_type": "code",
   "execution_count": 19,
   "id": "neutral-assignment",
   "metadata": {
    "execution": {
     "iopub.execute_input": "2022-05-19T00:45:09.094402Z",
     "iopub.status.busy": "2022-05-19T00:45:09.091186Z",
     "iopub.status.idle": "2022-05-19T00:45:09.096755Z",
     "shell.execute_reply": "2022-05-19T00:45:09.096247Z"
    },
    "papermill": {
     "duration": 0.043917,
     "end_time": "2022-05-19T00:45:09.096880",
     "exception": false,
     "start_time": "2022-05-19T00:45:09.052963",
     "status": "completed"
    },
    "tags": []
   },
   "outputs": [],
   "source": [
    "#hide\n",
    "everydaycases = dft_ct_new_cases.cumsum(axis=1)"
   ]
  },
  {
   "cell_type": "code",
   "execution_count": 20,
   "id": "parliamentary-calgary",
   "metadata": {
    "execution": {
     "iopub.execute_input": "2022-05-19T00:45:09.171508Z",
     "iopub.status.busy": "2022-05-19T00:45:09.170906Z",
     "iopub.status.idle": "2022-05-19T00:45:09.816798Z",
     "shell.execute_reply": "2022-05-19T00:45:09.816235Z"
    },
    "papermill": {
     "duration": 0.686229,
     "end_time": "2022-05-19T00:45:09.816933",
     "exception": false,
     "start_time": "2022-05-19T00:45:09.130704",
     "status": "completed"
    },
    "tags": []
   },
   "outputs": [],
   "source": [
    "#hide\n",
    "import pandas as pd\n",
    "import matplotlib.pyplot as plt\n",
    "import matplotlib.ticker as ticker\n",
    "import matplotlib.animation as animation\n",
    "from IPython.display import HTML"
   ]
  },
  {
   "cell_type": "code",
   "execution_count": 21,
   "id": "lasting-extraction",
   "metadata": {
    "execution": {
     "iopub.execute_input": "2022-05-19T00:45:09.895277Z",
     "iopub.status.busy": "2022-05-19T00:45:09.894693Z",
     "iopub.status.idle": "2022-05-19T00:45:09.901901Z",
     "shell.execute_reply": "2022-05-19T00:45:09.902419Z"
    },
    "papermill": {
     "duration": 0.05105,
     "end_time": "2022-05-19T00:45:09.902562",
     "exception": false,
     "start_time": "2022-05-19T00:45:09.851512",
     "status": "completed"
    },
    "tags": []
   },
   "outputs": [],
   "source": [
    "#hide\n",
    "t = everydaycases.stack()"
   ]
  },
  {
   "cell_type": "code",
   "execution_count": 22,
   "id": "premier-sleeve",
   "metadata": {
    "execution": {
     "iopub.execute_input": "2022-05-19T00:45:09.976422Z",
     "iopub.status.busy": "2022-05-19T00:45:09.975814Z",
     "iopub.status.idle": "2022-05-19T00:45:09.987723Z",
     "shell.execute_reply": "2022-05-19T00:45:09.988234Z"
    },
    "papermill": {
     "duration": 0.052273,
     "end_time": "2022-05-19T00:45:09.988401",
     "exception": false,
     "start_time": "2022-05-19T00:45:09.936128",
     "status": "completed"
    },
    "tags": []
   },
   "outputs": [],
   "source": [
    "#hide\n",
    "g = t.reset_index(['Country/Region'])"
   ]
  },
  {
   "cell_type": "code",
   "execution_count": 23,
   "id": "distributed-pittsburgh",
   "metadata": {
    "execution": {
     "iopub.execute_input": "2022-05-19T00:45:10.060187Z",
     "iopub.status.busy": "2022-05-19T00:45:10.059552Z",
     "iopub.status.idle": "2022-05-19T00:45:10.060996Z",
     "shell.execute_reply": "2022-05-19T00:45:10.061594Z"
    },
    "papermill": {
     "duration": 0.039819,
     "end_time": "2022-05-19T00:45:10.061743",
     "exception": false,
     "start_time": "2022-05-19T00:45:10.021924",
     "status": "completed"
    },
    "tags": []
   },
   "outputs": [],
   "source": [
    "#hide\n",
    "g.index.name = 'date'"
   ]
  },
  {
   "cell_type": "code",
   "execution_count": 24,
   "id": "naked-donor",
   "metadata": {
    "execution": {
     "iopub.execute_input": "2022-05-19T00:45:10.137225Z",
     "iopub.status.busy": "2022-05-19T00:45:10.136560Z",
     "iopub.status.idle": "2022-05-19T00:45:10.138226Z",
     "shell.execute_reply": "2022-05-19T00:45:10.138876Z"
    },
    "papermill": {
     "duration": 0.042673,
     "end_time": "2022-05-19T00:45:10.139050",
     "exception": false,
     "start_time": "2022-05-19T00:45:10.096377",
     "status": "completed"
    },
    "tags": []
   },
   "outputs": [],
   "source": [
    "# #hide\n",
    "# g = g.reset_index(['date'])"
   ]
  },
  {
   "cell_type": "code",
   "execution_count": 25,
   "id": "incomplete-mustang",
   "metadata": {
    "execution": {
     "iopub.execute_input": "2022-05-19T00:45:10.215970Z",
     "iopub.status.busy": "2022-05-19T00:45:10.215127Z",
     "iopub.status.idle": "2022-05-19T00:45:10.219405Z",
     "shell.execute_reply": "2022-05-19T00:45:10.219826Z"
    },
    "papermill": {
     "duration": 0.042878,
     "end_time": "2022-05-19T00:45:10.219970",
     "exception": false,
     "start_time": "2022-05-19T00:45:10.177092",
     "status": "completed"
    },
    "tags": []
   },
   "outputs": [],
   "source": [
    "#hide\n",
    "# g.head()"
   ]
  },
  {
   "cell_type": "code",
   "execution_count": 26,
   "id": "specific-kruger",
   "metadata": {
    "execution": {
     "iopub.execute_input": "2022-05-19T00:45:10.292563Z",
     "iopub.status.busy": "2022-05-19T00:45:10.291913Z",
     "iopub.status.idle": "2022-05-19T00:45:10.294164Z",
     "shell.execute_reply": "2022-05-19T00:45:10.293659Z"
    },
    "papermill": {
     "duration": 0.040149,
     "end_time": "2022-05-19T00:45:10.294280",
     "exception": false,
     "start_time": "2022-05-19T00:45:10.254131",
     "status": "completed"
    },
    "tags": []
   },
   "outputs": [],
   "source": [
    "#hide\n",
    "# g.columns = ['date','country','cases']"
   ]
  },
  {
   "cell_type": "code",
   "execution_count": 27,
   "id": "tender-conversion",
   "metadata": {
    "execution": {
     "iopub.execute_input": "2022-05-19T00:45:10.369287Z",
     "iopub.status.busy": "2022-05-19T00:45:10.368657Z",
     "iopub.status.idle": "2022-05-19T00:45:10.371776Z",
     "shell.execute_reply": "2022-05-19T00:45:10.371297Z"
    },
    "papermill": {
     "duration": 0.042751,
     "end_time": "2022-05-19T00:45:10.371902",
     "exception": false,
     "start_time": "2022-05-19T00:45:10.329151",
     "status": "completed"
    },
    "tags": []
   },
   "outputs": [],
   "source": [
    "#hide\n",
    "# g['continent'] = g.country"
   ]
  },
  {
   "cell_type": "code",
   "execution_count": 28,
   "id": "substantial-wilderness",
   "metadata": {
    "execution": {
     "iopub.execute_input": "2022-05-19T00:45:10.444909Z",
     "iopub.status.busy": "2022-05-19T00:45:10.444252Z",
     "iopub.status.idle": "2022-05-19T00:45:10.446203Z",
     "shell.execute_reply": "2022-05-19T00:45:10.446687Z"
    },
    "papermill": {
     "duration": 0.040655,
     "end_time": "2022-05-19T00:45:10.446833",
     "exception": false,
     "start_time": "2022-05-19T00:45:10.406178",
     "status": "completed"
    },
    "tags": []
   },
   "outputs": [],
   "source": [
    "#hide\n",
    "# cols = list(g.columns.values)"
   ]
  },
  {
   "cell_type": "code",
   "execution_count": 29,
   "id": "solved-farming",
   "metadata": {
    "execution": {
     "iopub.execute_input": "2022-05-19T00:45:10.519751Z",
     "iopub.status.busy": "2022-05-19T00:45:10.518661Z",
     "iopub.status.idle": "2022-05-19T00:45:10.520992Z",
     "shell.execute_reply": "2022-05-19T00:45:10.521847Z"
    },
    "papermill": {
     "duration": 0.042282,
     "end_time": "2022-05-19T00:45:10.522055",
     "exception": false,
     "start_time": "2022-05-19T00:45:10.479773",
     "status": "completed"
    },
    "tags": []
   },
   "outputs": [],
   "source": [
    "#hide\n",
    "# cols.insert(0, cols.pop())"
   ]
  },
  {
   "cell_type": "code",
   "execution_count": 30,
   "id": "executed-adoption",
   "metadata": {
    "execution": {
     "iopub.execute_input": "2022-05-19T00:45:10.603953Z",
     "iopub.status.busy": "2022-05-19T00:45:10.603279Z",
     "iopub.status.idle": "2022-05-19T00:45:10.605690Z",
     "shell.execute_reply": "2022-05-19T00:45:10.605226Z"
    },
    "papermill": {
     "duration": 0.046658,
     "end_time": "2022-05-19T00:45:10.605813",
     "exception": false,
     "start_time": "2022-05-19T00:45:10.559155",
     "status": "completed"
    },
    "tags": []
   },
   "outputs": [],
   "source": [
    "#hide\n",
    "# g = g[cols]"
   ]
  },
  {
   "cell_type": "code",
   "execution_count": 31,
   "id": "subject-dublin",
   "metadata": {
    "execution": {
     "iopub.execute_input": "2022-05-19T00:45:10.676433Z",
     "iopub.status.busy": "2022-05-19T00:45:10.675822Z",
     "iopub.status.idle": "2022-05-19T00:45:10.679238Z",
     "shell.execute_reply": "2022-05-19T00:45:10.679658Z"
    },
    "papermill": {
     "duration": 0.041016,
     "end_time": "2022-05-19T00:45:10.679796",
     "exception": false,
     "start_time": "2022-05-19T00:45:10.638780",
     "status": "completed"
    },
    "tags": []
   },
   "outputs": [],
   "source": [
    "#hide\n",
    "# g['continent'] = g['continent'].map(mapping['map.continent'])"
   ]
  },
  {
   "cell_type": "code",
   "execution_count": 32,
   "id": "freelance-scout",
   "metadata": {
    "execution": {
     "iopub.execute_input": "2022-05-19T00:45:10.751936Z",
     "iopub.status.busy": "2022-05-19T00:45:10.751341Z",
     "iopub.status.idle": "2022-05-19T00:45:10.753681Z",
     "shell.execute_reply": "2022-05-19T00:45:10.753183Z"
    },
    "papermill": {
     "duration": 0.040304,
     "end_time": "2022-05-19T00:45:10.753838",
     "exception": false,
     "start_time": "2022-05-19T00:45:10.713534",
     "status": "completed"
    },
    "tags": []
   },
   "outputs": [],
   "source": [
    "#hide\n",
    "# g.head()"
   ]
  },
  {
   "cell_type": "code",
   "execution_count": 33,
   "id": "limited-engine",
   "metadata": {
    "execution": {
     "iopub.execute_input": "2022-05-19T00:45:10.838621Z",
     "iopub.status.busy": "2022-05-19T00:45:10.837515Z",
     "iopub.status.idle": "2022-05-19T00:45:10.839382Z",
     "shell.execute_reply": "2022-05-19T00:45:10.839945Z"
    },
    "papermill": {
     "duration": 0.041771,
     "end_time": "2022-05-19T00:45:10.840080",
     "exception": false,
     "start_time": "2022-05-19T00:45:10.798309",
     "status": "completed"
    },
    "tags": []
   },
   "outputs": [],
   "source": [
    "# hide\n",
    "# g['date'] = g['date'].astype('datetime64[ns]')"
   ]
  },
  {
   "cell_type": "code",
   "execution_count": 34,
   "id": "sophisticated-supervisor",
   "metadata": {
    "execution": {
     "iopub.execute_input": "2022-05-19T00:45:10.911955Z",
     "iopub.status.busy": "2022-05-19T00:45:10.911315Z",
     "iopub.status.idle": "2022-05-19T00:45:10.912893Z",
     "shell.execute_reply": "2022-05-19T00:45:10.913384Z"
    },
    "papermill": {
     "duration": 0.039417,
     "end_time": "2022-05-19T00:45:10.913535",
     "exception": false,
     "start_time": "2022-05-19T00:45:10.874118",
     "status": "completed"
    },
    "tags": []
   },
   "outputs": [],
   "source": [
    "#hide\n",
    "# g['date'] = g.date.dt.dayofyear"
   ]
  },
  {
   "cell_type": "code",
   "execution_count": 35,
   "id": "inside-dubai",
   "metadata": {
    "execution": {
     "iopub.execute_input": "2022-05-19T00:45:10.988873Z",
     "iopub.status.busy": "2022-05-19T00:45:10.987742Z",
     "iopub.status.idle": "2022-05-19T00:45:10.991838Z",
     "shell.execute_reply": "2022-05-19T00:45:10.991360Z"
    },
    "papermill": {
     "duration": 0.042745,
     "end_time": "2022-05-19T00:45:10.991958",
     "exception": false,
     "start_time": "2022-05-19T00:45:10.949213",
     "status": "completed"
    },
    "tags": []
   },
   "outputs": [],
   "source": [
    "#hide\n",
    "# g = g.rename(columns= {'continent':'group','country':'name','cases':'value'})"
   ]
  },
  {
   "cell_type": "code",
   "execution_count": 36,
   "id": "fleet-motorcycle",
   "metadata": {
    "execution": {
     "iopub.execute_input": "2022-05-19T00:45:11.063866Z",
     "iopub.status.busy": "2022-05-19T00:45:11.063280Z",
     "iopub.status.idle": "2022-05-19T00:45:11.065665Z",
     "shell.execute_reply": "2022-05-19T00:45:11.066147Z"
    },
    "papermill": {
     "duration": 0.040367,
     "end_time": "2022-05-19T00:45:11.066295",
     "exception": false,
     "start_time": "2022-05-19T00:45:11.025928",
     "status": "completed"
    },
    "tags": []
   },
   "outputs": [],
   "source": [
    "#hide\n",
    "# cols = ['name','group','day','value']"
   ]
  },
  {
   "cell_type": "code",
   "execution_count": 37,
   "id": "continued-sleeping",
   "metadata": {
    "execution": {
     "iopub.execute_input": "2022-05-19T00:45:11.136717Z",
     "iopub.status.busy": "2022-05-19T00:45:11.136086Z",
     "iopub.status.idle": "2022-05-19T00:45:11.138370Z",
     "shell.execute_reply": "2022-05-19T00:45:11.137760Z"
    },
    "papermill": {
     "duration": 0.03899,
     "end_time": "2022-05-19T00:45:11.138499",
     "exception": false,
     "start_time": "2022-05-19T00:45:11.099509",
     "status": "completed"
    },
    "tags": []
   },
   "outputs": [],
   "source": [
    "#hide\n",
    "# g.rename(columns= {'date':'day'},inplace = True)"
   ]
  },
  {
   "cell_type": "code",
   "execution_count": 38,
   "id": "major-fight",
   "metadata": {
    "execution": {
     "iopub.execute_input": "2022-05-19T00:45:11.216199Z",
     "iopub.status.busy": "2022-05-19T00:45:11.215577Z",
     "iopub.status.idle": "2022-05-19T00:45:11.219486Z",
     "shell.execute_reply": "2022-05-19T00:45:11.219033Z"
    },
    "papermill": {
     "duration": 0.043392,
     "end_time": "2022-05-19T00:45:11.219607",
     "exception": false,
     "start_time": "2022-05-19T00:45:11.176215",
     "status": "completed"
    },
    "tags": []
   },
   "outputs": [],
   "source": [
    "#hide\n",
    "# g = g[cols]"
   ]
  },
  {
   "cell_type": "code",
   "execution_count": 39,
   "id": "structured-mobile",
   "metadata": {
    "execution": {
     "iopub.execute_input": "2022-05-19T00:45:11.293047Z",
     "iopub.status.busy": "2022-05-19T00:45:11.291423Z",
     "iopub.status.idle": "2022-05-19T00:45:11.294430Z",
     "shell.execute_reply": "2022-05-19T00:45:11.295279Z"
    },
    "papermill": {
     "duration": 0.042192,
     "end_time": "2022-05-19T00:45:11.295514",
     "exception": false,
     "start_time": "2022-05-19T00:45:11.253322",
     "status": "completed"
    },
    "tags": []
   },
   "outputs": [],
   "source": [
    "# #hide\n",
    "# g = g[g.group.notna()]"
   ]
  },
  {
   "cell_type": "code",
   "execution_count": 40,
   "id": "determined-closing",
   "metadata": {
    "execution": {
     "iopub.execute_input": "2022-05-19T00:45:11.372355Z",
     "iopub.status.busy": "2022-05-19T00:45:11.371786Z",
     "iopub.status.idle": "2022-05-19T00:45:11.374347Z",
     "shell.execute_reply": "2022-05-19T00:45:11.375062Z"
    },
    "papermill": {
     "duration": 0.043248,
     "end_time": "2022-05-19T00:45:11.375260",
     "exception": false,
     "start_time": "2022-05-19T00:45:11.332012",
     "status": "completed"
    },
    "tags": []
   },
   "outputs": [],
   "source": [
    "# #hide\n",
    "# colors = dict(zip(\n",
    "#     [\"Oceania\", \"Europe\", \"Asia\", \"South America\", \"Middle East\", \"North America\", \"Africa\"],\n",
    "#     [\"#adb0ff\", \"#ffb3ff\", \"#90d595\", \"#e48381\", \"#aafbff\", \"#f7bb5f\", \"#eafb50\"]\n",
    "# ))\n",
    "# group_lk = g.set_index('name')['group'].to_dict()"
   ]
  },
  {
   "cell_type": "code",
   "execution_count": null,
   "id": "gross-drinking",
   "metadata": {
    "papermill": {
     "duration": 0.033131,
     "end_time": "2022-05-19T00:45:11.440845",
     "exception": false,
     "start_time": "2022-05-19T00:45:11.407714",
     "status": "completed"
    },
    "tags": []
   },
   "outputs": [],
   "source": []
  },
  {
   "cell_type": "code",
   "execution_count": 41,
   "id": "subject-macintosh",
   "metadata": {
    "execution": {
     "iopub.execute_input": "2022-05-19T00:45:11.511070Z",
     "iopub.status.busy": "2022-05-19T00:45:11.510478Z",
     "iopub.status.idle": "2022-05-19T00:45:11.512431Z",
     "shell.execute_reply": "2022-05-19T00:45:11.512961Z"
    },
    "papermill": {
     "duration": 0.039248,
     "end_time": "2022-05-19T00:45:11.513098",
     "exception": false,
     "start_time": "2022-05-19T00:45:11.473850",
     "status": "completed"
    },
    "tags": []
   },
   "outputs": [],
   "source": [
    "# #hide\n",
    "# fig, ax = plt.subplots(figsize=(15, 8))\n",
    "\n",
    "# def draw_barchart(current_day):\n",
    "#     dff = g[g['day'].eq(current_day)].sort_values(by='value', ascending=True).tail(10)\n",
    "#     ax.clear()\n",
    "#     ax.barh(dff['name'], dff['value'], color=[colors[group_lk[x]] for x in dff['name']])\n",
    "#     dx = dff['value'].max() / 200\n",
    "    \n",
    "#     for i, (value, name) in enumerate(zip(dff['value'], dff['name'])):\n",
    "#         ax.text(value-dx, i,     name,           size=14, weight=600, ha='right', va='bottom')\n",
    "#         ax.text(value-dx, i-.25, group_lk[name], size=10, color='#444444', ha='right', va='baseline')\n",
    "#         ax.text(value+dx, i,     f'{value:,.0f}',  size=14, ha='left',  va='center')\n",
    "#     ax.text(1, 0.4, current_day, transform=ax.transAxes, color='#777777', size=46, ha='right', weight=800)\n",
    "#     ax.text(0, 1.06, 'Population (thousands)', transform=ax.transAxes, size=12, color='#777777')\n",
    "#     ax.xaxis.set_major_formatter(ticker.StrMethodFormatter('{x:,.0f}'))\n",
    "#     ax.xaxis.set_ticks_position('top')\n",
    "#     ax.tick_params(axis='x', colors='#777777', labelsize=12)\n",
    "#     ax.set_yticks([])\n",
    "#     ax.margins(0, 0.01)\n",
    "#     ax.grid(which='major', axis='x', linestyle='-')\n",
    "#     ax.set_axisbelow(True)\n",
    "    \n",
    "#     ax.text(0, 1.15, 'Coronavirus',\n",
    "#             transform=ax.transAxes, size=24, weight=600, ha='left', va='top')\n",
    "# #     ax.text(1, 0, 'by @pratapvardhan; credit @jburnmurdoch', transform=ax.transAxes, color='#777777', ha='right',\n",
    "# #             bbox=dict(facecolor='white', alpha=0.8, edgecolor='white'))\n",
    "#     plt.box(False)"
   ]
  },
  {
   "cell_type": "code",
   "execution_count": 42,
   "id": "sexual-wages",
   "metadata": {
    "execution": {
     "iopub.execute_input": "2022-05-19T00:45:11.594165Z",
     "iopub.status.busy": "2022-05-19T00:45:11.593545Z",
     "iopub.status.idle": "2022-05-19T00:45:11.596043Z",
     "shell.execute_reply": "2022-05-19T00:45:11.595570Z"
    },
    "papermill": {
     "duration": 0.043505,
     "end_time": "2022-05-19T00:45:11.596160",
     "exception": false,
     "start_time": "2022-05-19T00:45:11.552655",
     "status": "completed"
    },
    "tags": []
   },
   "outputs": [],
   "source": [
    "# #hide_input\n",
    "# fig, ax = plt.subplots(figsize=(15, 8))\n",
    "# animator = animation.FuncAnimation(fig, draw_barchart, frames=range(g.day.values.min(), g.day.values.max()))\n",
    "# HTML(animator.to_jshtml())\n",
    "# # or use animator.to_html5_video() or animator.save() "
   ]
  },
  {
   "cell_type": "code",
   "execution_count": null,
   "id": "australian-container",
   "metadata": {
    "papermill": {
     "duration": 0.033583,
     "end_time": "2022-05-19T00:45:11.664198",
     "exception": false,
     "start_time": "2022-05-19T00:45:11.630615",
     "status": "completed"
    },
    "tags": []
   },
   "outputs": [],
   "source": []
  },
  {
   "cell_type": "code",
   "execution_count": null,
   "id": "mediterranean-pontiac",
   "metadata": {
    "papermill": {
     "duration": 0.033114,
     "end_time": "2022-05-19T00:45:11.731416",
     "exception": false,
     "start_time": "2022-05-19T00:45:11.698302",
     "status": "completed"
    },
    "tags": []
   },
   "outputs": [],
   "source": []
  },
  {
   "cell_type": "code",
   "execution_count": null,
   "id": "aging-legislature",
   "metadata": {
    "papermill": {
     "duration": 0.034479,
     "end_time": "2022-05-19T00:45:11.800061",
     "exception": false,
     "start_time": "2022-05-19T00:45:11.765582",
     "status": "completed"
    },
    "tags": []
   },
   "outputs": [],
   "source": []
  }
 ],
 "metadata": {
  "kernelspec": {
   "display_name": "Python 3",
   "language": "python",
   "name": "python3"
  },
  "language_info": {
   "codemirror_mode": {
    "name": "ipython",
    "version": 3
   },
   "file_extension": ".py",
   "mimetype": "text/x-python",
   "name": "python",
   "nbconvert_exporter": "python",
   "pygments_lexer": "ipython3",
   "version": "3.6.15"
  },
  "papermill": {
   "duration": 6.832297,
   "end_time": "2022-05-19T00:45:12.255126",
   "environment_variables": {},
   "exception": null,
   "input_path": "2020-03-21-covid19exp.ipynb",
   "output_path": "2020-03-21-covid19exp.ipynb",
   "parameters": {},
   "start_time": "2022-05-19T00:45:05.422829",
   "version": "2.0.0"
  }
 },
 "nbformat": 4,
 "nbformat_minor": 5
}