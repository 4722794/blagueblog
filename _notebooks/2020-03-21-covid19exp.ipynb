{
 "cells": [
  {
   "cell_type": "markdown",
   "id": "muslim-click",
   "metadata": {
    "papermill": {
     "duration": 0.043854,
     "end_time": "2021-05-29T12:30:07.058247",
     "exception": false,
     "start_time": "2021-05-29T12:30:07.014393",
     "status": "completed"
    },
    "tags": []
   },
   "source": [
    "# COVID-19 Case Race\n",
    "> A race chart to see rising cases around the world\n",
    "\n",
    "- author: Hargun Oberoi\n",
    "- image: images/covid-overview.png\n",
    "- hide: false\n",
    "- badges: false"
   ]
  },
  {
   "cell_type": "code",
   "execution_count": 1,
   "id": "proof-material",
   "metadata": {
    "execution": {
     "iopub.execute_input": "2021-05-29T12:30:07.149584Z",
     "iopub.status.busy": "2021-05-29T12:30:07.148887Z",
     "iopub.status.idle": "2021-05-29T12:30:07.548656Z",
     "shell.execute_reply": "2021-05-29T12:30:07.548091Z"
    },
    "papermill": {
     "duration": 0.451554,
     "end_time": "2021-05-29T12:30:07.548821",
     "exception": false,
     "start_time": "2021-05-29T12:30:07.097267",
     "status": "completed"
    },
    "tags": []
   },
   "outputs": [],
   "source": [
    "#hide\n",
    "import numpy as np\n",
    "import pandas as pd\n",
    "from jinja2 import Template\n",
    "from IPython.display import HTML"
   ]
  },
  {
   "cell_type": "code",
   "execution_count": 2,
   "id": "developed-terminology",
   "metadata": {
    "execution": {
     "iopub.execute_input": "2021-05-29T12:30:07.632895Z",
     "iopub.status.busy": "2021-05-29T12:30:07.631889Z",
     "iopub.status.idle": "2021-05-29T12:30:07.634342Z",
     "shell.execute_reply": "2021-05-29T12:30:07.634954Z"
    },
    "papermill": {
     "duration": 0.046876,
     "end_time": "2021-05-29T12:30:07.635099",
     "exception": false,
     "start_time": "2021-05-29T12:30:07.588223",
     "status": "completed"
    },
    "tags": []
   },
   "outputs": [],
   "source": [
    "#hide\n",
    "\n",
    "# FETCH\n",
    "base_url = 'https://raw.githubusercontent.com/pratapvardhan/notebooks/master/covid19/'\n",
    "paths = {\n",
    "    'mapping': base_url + 'mapping_countries.csv',\n",
    "    'overview': base_url + 'overview.tpl'\n",
    "}"
   ]
  },
  {
   "cell_type": "code",
   "execution_count": 3,
   "id": "dynamic-saver",
   "metadata": {
    "execution": {
     "iopub.execute_input": "2021-05-29T12:30:07.727946Z",
     "iopub.status.busy": "2021-05-29T12:30:07.727291Z",
     "iopub.status.idle": "2021-05-29T12:30:07.730656Z",
     "shell.execute_reply": "2021-05-29T12:30:07.729946Z"
    },
    "papermill": {
     "duration": 0.054508,
     "end_time": "2021-05-29T12:30:07.730789",
     "exception": false,
     "start_time": "2021-05-29T12:30:07.676281",
     "status": "completed"
    },
    "tags": []
   },
   "outputs": [
    {
     "data": {
      "text/plain": [
       "'https://raw.githubusercontent.com/pratapvardhan/notebooks/master/covid19/mapping_countries.csv'"
      ]
     },
     "execution_count": 3,
     "metadata": {},
     "output_type": "execute_result"
    }
   ],
   "source": [
    "#hide\n",
    "paths['mapping']"
   ]
  },
  {
   "cell_type": "code",
   "execution_count": 4,
   "id": "urban-software",
   "metadata": {
    "execution": {
     "iopub.execute_input": "2021-05-29T12:30:07.816459Z",
     "iopub.status.busy": "2021-05-29T12:30:07.815627Z",
     "iopub.status.idle": "2021-05-29T12:30:07.817384Z",
     "shell.execute_reply": "2021-05-29T12:30:07.818008Z"
    },
    "papermill": {
     "duration": 0.046979,
     "end_time": "2021-05-29T12:30:07.818150",
     "exception": false,
     "start_time": "2021-05-29T12:30:07.771171",
     "status": "completed"
    },
    "tags": []
   },
   "outputs": [],
   "source": [
    "#hide\n",
    "def get_mappings(url):\n",
    "    df = pd.read_csv(url)\n",
    "    return {\n",
    "        'df': df,\n",
    "        'replace.country': dict(df.dropna(subset=['Name']).set_index('Country')['Name']),\n",
    "        'map.continent': dict(df.set_index('Name')['Continent'])\n",
    "    }"
   ]
  },
  {
   "cell_type": "code",
   "execution_count": 5,
   "id": "intimate-machinery",
   "metadata": {
    "execution": {
     "iopub.execute_input": "2021-05-29T12:30:07.903128Z",
     "iopub.status.busy": "2021-05-29T12:30:07.902509Z",
     "iopub.status.idle": "2021-05-29T12:30:07.932703Z",
     "shell.execute_reply": "2021-05-29T12:30:07.932089Z"
    },
    "papermill": {
     "duration": 0.074521,
     "end_time": "2021-05-29T12:30:07.932837",
     "exception": false,
     "start_time": "2021-05-29T12:30:07.858316",
     "status": "completed"
    },
    "tags": []
   },
   "outputs": [],
   "source": [
    "#hide\n",
    "mapping = get_mappings(paths['mapping'])"
   ]
  },
  {
   "cell_type": "code",
   "execution_count": 6,
   "id": "certified-tactics",
   "metadata": {
    "execution": {
     "iopub.execute_input": "2021-05-29T12:30:08.017481Z",
     "iopub.status.busy": "2021-05-29T12:30:08.016741Z",
     "iopub.status.idle": "2021-05-29T12:30:08.018569Z",
     "shell.execute_reply": "2021-05-29T12:30:08.019130Z"
    },
    "papermill": {
     "duration": 0.046672,
     "end_time": "2021-05-29T12:30:08.019286",
     "exception": false,
     "start_time": "2021-05-29T12:30:07.972614",
     "status": "completed"
    },
    "tags": []
   },
   "outputs": [],
   "source": [
    "#hide\n",
    "def get_template(path):\n",
    "    from urllib.parse import urlparse\n",
    "    if bool(urlparse(path).netloc):\n",
    "        from urllib.request import urlopen\n",
    "        return urlopen(path).read().decode('utf8')\n",
    "    return open(path).read()"
   ]
  },
  {
   "cell_type": "code",
   "execution_count": 7,
   "id": "realistic-blast",
   "metadata": {
    "execution": {
     "iopub.execute_input": "2021-05-29T12:30:08.105521Z",
     "iopub.status.busy": "2021-05-29T12:30:08.104852Z",
     "iopub.status.idle": "2021-05-29T12:30:08.107560Z",
     "shell.execute_reply": "2021-05-29T12:30:08.107038Z"
    },
    "papermill": {
     "duration": 0.047575,
     "end_time": "2021-05-29T12:30:08.107684",
     "exception": false,
     "start_time": "2021-05-29T12:30:08.060109",
     "status": "completed"
    },
    "tags": []
   },
   "outputs": [],
   "source": [
    "#hide\n",
    "def get_frame(name):\n",
    "    url = (\n",
    "        'https://raw.githubusercontent.com/CSSEGISandData/COVID-19/master/csse_covid_19_data/'\n",
    "        f'csse_covid_19_time_series/time_series_covid19_{name}_global.csv')\n",
    "    df = pd.read_csv(url)\n",
    "    # rename countries\n",
    "    df['Country/Region'] = df['Country/Region'].replace(mapping['replace.country'])\n",
    "    return df"
   ]
  },
  {
   "cell_type": "code",
   "execution_count": 8,
   "id": "affiliated-characterization",
   "metadata": {
    "execution": {
     "iopub.execute_input": "2021-05-29T12:30:08.197492Z",
     "iopub.status.busy": "2021-05-29T12:30:08.196862Z",
     "iopub.status.idle": "2021-05-29T12:30:08.199181Z",
     "shell.execute_reply": "2021-05-29T12:30:08.198542Z"
    },
    "papermill": {
     "duration": 0.051559,
     "end_time": "2021-05-29T12:30:08.199308",
     "exception": false,
     "start_time": "2021-05-29T12:30:08.147749",
     "status": "completed"
    },
    "tags": []
   },
   "outputs": [],
   "source": [
    "#hide\n",
    "def get_dates(df):\n",
    "    dt_cols = df.columns[~df.columns.isin(['Province/State', 'Country/Region', 'Lat', 'Long'])]\n",
    "    LAST_DATE_I = -1\n",
    "    # sometimes last column may be empty, then go backwards\n",
    "    for i in range(-1, -len(dt_cols), -1):\n",
    "        if not df[dt_cols[i]].fillna(0).eq(0).all():\n",
    "            LAST_DATE_I = i\n",
    "            break\n",
    "    return LAST_DATE_I, dt_cols"
   ]
  },
  {
   "cell_type": "code",
   "execution_count": 9,
   "id": "recent-optimization",
   "metadata": {
    "execution": {
     "iopub.execute_input": "2021-05-29T12:30:08.285148Z",
     "iopub.status.busy": "2021-05-29T12:30:08.284386Z",
     "iopub.status.idle": "2021-05-29T12:30:08.614049Z",
     "shell.execute_reply": "2021-05-29T12:30:08.613395Z"
    },
    "papermill": {
     "duration": 0.374346,
     "end_time": "2021-05-29T12:30:08.614202",
     "exception": false,
     "start_time": "2021-05-29T12:30:08.239856",
     "status": "completed"
    },
    "tags": []
   },
   "outputs": [],
   "source": [
    "#hide\n",
    "COL_REGION = 'Country/Region'\n",
    "# Confirmed, Recovered, Deaths\n",
    "df = get_frame('confirmed')\n",
    "# dft_: timeseries, dfc_: today country agg\n",
    "dft_cases = df\n",
    "dft_deaths = get_frame('deaths')\n",
    "dft_recovered = get_frame('recovered')\n",
    "LAST_DATE_I, dt_cols = get_dates(df)"
   ]
  },
  {
   "cell_type": "code",
   "execution_count": 10,
   "id": "absolute-copper",
   "metadata": {
    "execution": {
     "iopub.execute_input": "2021-05-29T12:30:08.699263Z",
     "iopub.status.busy": "2021-05-29T12:30:08.698649Z",
     "iopub.status.idle": "2021-05-29T12:30:08.703101Z",
     "shell.execute_reply": "2021-05-29T12:30:08.702574Z"
    },
    "papermill": {
     "duration": 0.0494,
     "end_time": "2021-05-29T12:30:08.703263",
     "exception": false,
     "start_time": "2021-05-29T12:30:08.653863",
     "status": "completed"
    },
    "tags": []
   },
   "outputs": [],
   "source": [
    "#hide\n",
    "LAST_DATE_I, dt_cols = get_dates(df)\n",
    "dt_today =dt_cols[LAST_DATE_I]\n",
    "# dt_5day = dt_cols[LAST_DATE_I - 5]\n",
    "dt_yday = dt_cols[LAST_DATE_I - 1]"
   ]
  },
  {
   "cell_type": "code",
   "execution_count": 11,
   "id": "restricted-sheriff",
   "metadata": {
    "execution": {
     "iopub.execute_input": "2021-05-29T12:30:08.794571Z",
     "iopub.status.busy": "2021-05-29T12:30:08.792484Z",
     "iopub.status.idle": "2021-05-29T12:30:08.800384Z",
     "shell.execute_reply": "2021-05-29T12:30:08.799643Z"
    },
    "papermill": {
     "duration": 0.056631,
     "end_time": "2021-05-29T12:30:08.800521",
     "exception": false,
     "start_time": "2021-05-29T12:30:08.743890",
     "status": "completed"
    },
    "tags": []
   },
   "outputs": [],
   "source": [
    "#hide\n",
    "dfc_cases = dft_cases.groupby(COL_REGION)[dt_today].sum()\n",
    "dfc_deaths = dft_deaths.groupby(COL_REGION)[dt_today].sum()\n",
    "# dfp_cases = dft_cases.groupby(COL_REGION)[dt_5day].sum()\n",
    "# dfp_deaths = dft_deaths.groupby(COL_REGION)[dt_5day].sum()\n",
    "dfp_cases = dft_cases.groupby(COL_REGION)[dt_yday].sum()\n",
    "dfp_deaths = dft_deaths.groupby(COL_REGION)[dt_yday].sum()"
   ]
  },
  {
   "cell_type": "code",
   "execution_count": 12,
   "id": "deluxe-hepatitis",
   "metadata": {
    "execution": {
     "iopub.execute_input": "2021-05-29T12:30:08.887547Z",
     "iopub.status.busy": "2021-05-29T12:30:08.886817Z",
     "iopub.status.idle": "2021-05-29T12:30:08.891551Z",
     "shell.execute_reply": "2021-05-29T12:30:08.892214Z"
    },
    "papermill": {
     "duration": 0.052612,
     "end_time": "2021-05-29T12:30:08.892362",
     "exception": false,
     "start_time": "2021-05-29T12:30:08.839750",
     "status": "completed"
    },
    "tags": []
   },
   "outputs": [],
   "source": [
    "#hide\n",
    "df_table = (pd.DataFrame(dict(Cases = dfc_cases, Deaths = dfc_deaths, PCases = dfp_cases, PDeaths = dfp_deaths))\n",
    "            .sort_values(by = ['Cases','Deaths'], ascending = [False, False])\n",
    "            .reset_index())"
   ]
  },
  {
   "cell_type": "code",
   "execution_count": 13,
   "id": "educational-chancellor",
   "metadata": {
    "execution": {
     "iopub.execute_input": "2021-05-29T12:30:08.994079Z",
     "iopub.status.busy": "2021-05-29T12:30:08.993446Z",
     "iopub.status.idle": "2021-05-29T12:30:09.002584Z",
     "shell.execute_reply": "2021-05-29T12:30:09.002031Z"
    },
    "papermill": {
     "duration": 0.072538,
     "end_time": "2021-05-29T12:30:09.002713",
     "exception": false,
     "start_time": "2021-05-29T12:30:08.930175",
     "status": "completed"
    },
    "tags": []
   },
   "outputs": [
    {
     "data": {
      "text/html": [
       "<div>\n",
       "<style scoped>\n",
       "    .dataframe tbody tr th:only-of-type {\n",
       "        vertical-align: middle;\n",
       "    }\n",
       "\n",
       "    .dataframe tbody tr th {\n",
       "        vertical-align: top;\n",
       "    }\n",
       "\n",
       "    .dataframe thead th {\n",
       "        text-align: right;\n",
       "    }\n",
       "</style>\n",
       "<table border=\"1\" class=\"dataframe\">\n",
       "  <thead>\n",
       "    <tr style=\"text-align: right;\">\n",
       "      <th></th>\n",
       "      <th>Country/Region</th>\n",
       "      <th>Cases</th>\n",
       "      <th>Deaths</th>\n",
       "      <th>PCases</th>\n",
       "      <th>PDeaths</th>\n",
       "      <th>Cases (+)</th>\n",
       "      <th>Deaths (+)</th>\n",
       "      <th>Fatality Rate</th>\n",
       "      <th>Continent</th>\n",
       "    </tr>\n",
       "  </thead>\n",
       "  <tbody>\n",
       "    <tr>\n",
       "      <th>0</th>\n",
       "      <td>US</td>\n",
       "      <td>33239963</td>\n",
       "      <td>593963</td>\n",
       "      <td>33217995</td>\n",
       "      <td>593288</td>\n",
       "      <td>21968</td>\n",
       "      <td>675</td>\n",
       "      <td>1.79</td>\n",
       "      <td>North America</td>\n",
       "    </tr>\n",
       "    <tr>\n",
       "      <th>1</th>\n",
       "      <td>India</td>\n",
       "      <td>27729247</td>\n",
       "      <td>322512</td>\n",
       "      <td>27555457</td>\n",
       "      <td>318895</td>\n",
       "      <td>173790</td>\n",
       "      <td>3617</td>\n",
       "      <td>1.16</td>\n",
       "      <td>Asia</td>\n",
       "    </tr>\n",
       "    <tr>\n",
       "      <th>2</th>\n",
       "      <td>Brazil</td>\n",
       "      <td>16391930</td>\n",
       "      <td>459045</td>\n",
       "      <td>16342162</td>\n",
       "      <td>456674</td>\n",
       "      <td>49768</td>\n",
       "      <td>2371</td>\n",
       "      <td>2.80</td>\n",
       "      <td>South America</td>\n",
       "    </tr>\n",
       "    <tr>\n",
       "      <th>3</th>\n",
       "      <td>France</td>\n",
       "      <td>5708350</td>\n",
       "      <td>109452</td>\n",
       "      <td>5697076</td>\n",
       "      <td>109327</td>\n",
       "      <td>11274</td>\n",
       "      <td>125</td>\n",
       "      <td>1.92</td>\n",
       "      <td>Europe</td>\n",
       "    </tr>\n",
       "    <tr>\n",
       "      <th>4</th>\n",
       "      <td>Turkey</td>\n",
       "      <td>5228322</td>\n",
       "      <td>47134</td>\n",
       "      <td>5220549</td>\n",
       "      <td>46970</td>\n",
       "      <td>7773</td>\n",
       "      <td>164</td>\n",
       "      <td>0.90</td>\n",
       "      <td>Asia</td>\n",
       "    </tr>\n",
       "  </tbody>\n",
       "</table>\n",
       "</div>"
      ],
      "text/plain": [
       "  Country/Region     Cases  Deaths    PCases  PDeaths  Cases (+)  Deaths (+)  \\\n",
       "0             US  33239963  593963  33217995   593288      21968         675   \n",
       "1          India  27729247  322512  27555457   318895     173790        3617   \n",
       "2         Brazil  16391930  459045  16342162   456674      49768        2371   \n",
       "3         France   5708350  109452   5697076   109327      11274         125   \n",
       "4         Turkey   5228322   47134   5220549    46970       7773         164   \n",
       "\n",
       "   Fatality Rate      Continent  \n",
       "0           1.79  North America  \n",
       "1           1.16           Asia  \n",
       "2           2.80  South America  \n",
       "3           1.92         Europe  \n",
       "4           0.90           Asia  "
      ]
     },
     "execution_count": 13,
     "metadata": {},
     "output_type": "execute_result"
    }
   ],
   "source": [
    "#hide\n",
    "for c in 'Cases, Deaths'.split(', '):\n",
    "    df_table[f'{c} (+)'] = (df_table[c] - df_table[f'P{c}']).clip(0)\n",
    "    #Clip ça veut dire, les chiffres negatif sont interdit\n",
    "df_table['Fatality Rate'] = (100* df_table['Deaths']/ df_table['Cases']).round(2)\n",
    "df_table['Continent'] = df_table['Country/Region'].map(mapping['map.continent'])\n",
    "df_table.head(5)"
   ]
  },
  {
   "cell_type": "code",
   "execution_count": 14,
   "id": "aboriginal-bulgaria",
   "metadata": {
    "execution": {
     "iopub.execute_input": "2021-05-29T12:30:09.094160Z",
     "iopub.status.busy": "2021-05-29T12:30:09.093441Z",
     "iopub.status.idle": "2021-05-29T12:30:09.095956Z",
     "shell.execute_reply": "2021-05-29T12:30:09.095317Z"
    },
    "papermill": {
     "duration": 0.05171,
     "end_time": "2021-05-29T12:30:09.096113",
     "exception": false,
     "start_time": "2021-05-29T12:30:09.044403",
     "status": "completed"
    },
    "tags": []
   },
   "outputs": [],
   "source": [
    "#hide\n",
    "#delete problematic countries from table\n",
    "df_table = df_table[~df_table['Country/Region'].isin(['Cape Verde', 'Cruise Ship', 'Kosovo'])]"
   ]
  },
  {
   "cell_type": "code",
   "execution_count": 15,
   "id": "fantastic-effect",
   "metadata": {
    "execution": {
     "iopub.execute_input": "2021-05-29T12:30:09.184351Z",
     "iopub.status.busy": "2021-05-29T12:30:09.183523Z",
     "iopub.status.idle": "2021-05-29T12:30:09.205851Z",
     "shell.execute_reply": "2021-05-29T12:30:09.206403Z"
    },
    "papermill": {
     "duration": 0.071262,
     "end_time": "2021-05-29T12:30:09.206552",
     "exception": false,
     "start_time": "2021-05-29T12:30:09.135290",
     "status": "completed"
    },
    "tags": []
   },
   "outputs": [
    {
     "data": {
      "text/html": [
       "<div>\n",
       "<style scoped>\n",
       "    .dataframe tbody tr th:only-of-type {\n",
       "        vertical-align: middle;\n",
       "    }\n",
       "\n",
       "    .dataframe tbody tr th {\n",
       "        vertical-align: top;\n",
       "    }\n",
       "\n",
       "    .dataframe thead th {\n",
       "        text-align: right;\n",
       "    }\n",
       "</style>\n",
       "<table border=\"1\" class=\"dataframe\">\n",
       "  <thead>\n",
       "    <tr style=\"text-align: right;\">\n",
       "      <th></th>\n",
       "      <th>Country/Region</th>\n",
       "      <th>Cases</th>\n",
       "      <th>Deaths</th>\n",
       "      <th>PCases</th>\n",
       "      <th>PDeaths</th>\n",
       "      <th>Cases (+)</th>\n",
       "      <th>Deaths (+)</th>\n",
       "      <th>Fatality Rate</th>\n",
       "      <th>Continent</th>\n",
       "    </tr>\n",
       "  </thead>\n",
       "  <tbody>\n",
       "    <tr>\n",
       "      <th>0</th>\n",
       "      <td>US</td>\n",
       "      <td>33239963</td>\n",
       "      <td>593963</td>\n",
       "      <td>33217995</td>\n",
       "      <td>593288</td>\n",
       "      <td>21968</td>\n",
       "      <td>675</td>\n",
       "      <td>1.8</td>\n",
       "      <td>North America</td>\n",
       "    </tr>\n",
       "    <tr>\n",
       "      <th>1</th>\n",
       "      <td>India</td>\n",
       "      <td>27729247</td>\n",
       "      <td>322512</td>\n",
       "      <td>27555457</td>\n",
       "      <td>318895</td>\n",
       "      <td>173790</td>\n",
       "      <td>3617</td>\n",
       "      <td>1.2</td>\n",
       "      <td>Asia</td>\n",
       "    </tr>\n",
       "    <tr>\n",
       "      <th>2</th>\n",
       "      <td>Brazil</td>\n",
       "      <td>16391930</td>\n",
       "      <td>459045</td>\n",
       "      <td>16342162</td>\n",
       "      <td>456674</td>\n",
       "      <td>49768</td>\n",
       "      <td>2371</td>\n",
       "      <td>2.8</td>\n",
       "      <td>South America</td>\n",
       "    </tr>\n",
       "    <tr>\n",
       "      <th>3</th>\n",
       "      <td>France</td>\n",
       "      <td>5708350</td>\n",
       "      <td>109452</td>\n",
       "      <td>5697076</td>\n",
       "      <td>109327</td>\n",
       "      <td>11274</td>\n",
       "      <td>125</td>\n",
       "      <td>1.9</td>\n",
       "      <td>Europe</td>\n",
       "    </tr>\n",
       "    <tr>\n",
       "      <th>4</th>\n",
       "      <td>Turkey</td>\n",
       "      <td>5228322</td>\n",
       "      <td>47134</td>\n",
       "      <td>5220549</td>\n",
       "      <td>46970</td>\n",
       "      <td>7773</td>\n",
       "      <td>164</td>\n",
       "      <td>0.9</td>\n",
       "      <td>Asia</td>\n",
       "    </tr>\n",
       "  </tbody>\n",
       "</table>\n",
       "</div>"
      ],
      "text/plain": [
       "  Country/Region     Cases  Deaths    PCases  PDeaths  Cases (+)  Deaths (+)  \\\n",
       "0             US  33239963  593963  33217995   593288      21968         675   \n",
       "1          India  27729247  322512  27555457   318895     173790        3617   \n",
       "2         Brazil  16391930  459045  16342162   456674      49768        2371   \n",
       "3         France   5708350  109452   5697076   109327      11274         125   \n",
       "4         Turkey   5228322   47134   5220549    46970       7773         164   \n",
       "\n",
       "   Fatality Rate      Continent  \n",
       "0            1.8  North America  \n",
       "1            1.2           Asia  \n",
       "2            2.8  South America  \n",
       "3            1.9         Europe  \n",
       "4            0.9           Asia  "
      ]
     },
     "execution_count": 15,
     "metadata": {},
     "output_type": "execute_result"
    }
   ],
   "source": [
    "#hide\n",
    "df_table = (pd.DataFrame(dict(Cases=dfc_cases, Deaths=dfc_deaths, PCases=dfp_cases, PDeaths=dfp_deaths))\n",
    "             .sort_values(by=['Cases', 'Deaths'], ascending=[False, False])\n",
    "             .reset_index())\n",
    "df_table.rename(columns={'index': 'Country/Region'}, inplace=True)\n",
    "for c in 'Cases, Deaths'.split(', '):\n",
    "    df_table[f'{c} (+)'] = (df_table[c] - df_table[f'P{c}']).clip(0)  # DATA BUG\n",
    "df_table['Fatality Rate'] = (100 * df_table['Deaths'] / df_table['Cases']).round(1)\n",
    "df_table['Continent'] = df_table['Country/Region'].map(mapping['map.continent'])\n",
    "df_table.head(5)"
   ]
  },
  {
   "cell_type": "code",
   "execution_count": 16,
   "id": "fewer-occasion",
   "metadata": {
    "execution": {
     "iopub.execute_input": "2021-05-29T12:30:09.289799Z",
     "iopub.status.busy": "2021-05-29T12:30:09.289274Z",
     "iopub.status.idle": "2021-05-29T12:30:09.293406Z",
     "shell.execute_reply": "2021-05-29T12:30:09.292726Z"
    },
    "papermill": {
     "duration": 0.046594,
     "end_time": "2021-05-29T12:30:09.293603",
     "exception": false,
     "start_time": "2021-05-29T12:30:09.247009",
     "status": "completed"
    },
    "tags": []
   },
   "outputs": [],
   "source": [
    "#hide\n",
    "#delete problematic countries from table\n",
    "df_table = df_table[~df_table['Country/Region'].isin(['Cape Verde', 'Cruise Ship', 'Kosovo'])]"
   ]
  },
  {
   "cell_type": "code",
   "execution_count": 17,
   "id": "related-center",
   "metadata": {
    "execution": {
     "iopub.execute_input": "2021-05-29T12:30:09.400912Z",
     "iopub.status.busy": "2021-05-29T12:30:09.400239Z",
     "iopub.status.idle": "2021-05-29T12:30:09.403068Z",
     "shell.execute_reply": "2021-05-29T12:30:09.402500Z"
    },
    "papermill": {
     "duration": 0.068196,
     "end_time": "2021-05-29T12:30:09.403198",
     "exception": false,
     "start_time": "2021-05-29T12:30:09.335002",
     "status": "completed"
    },
    "tags": []
   },
   "outputs": [],
   "source": [
    "#hide\n",
    "metrics = [df_table.columns[index] for index in [1,2,5,6]]\n",
    "# s_china = df_table[df_table['Country/Region'].eq('China')][metrics].sum().add_prefix('China ')\n",
    "s_us = df_table[df_table['Country/Region'].eq('US')][metrics].sum().add_prefix('US ')\n",
    "s_eu = df_table[df_table['Continent'].eq('Europe')][metrics].sum().add_prefix('EU ')\n",
    "s_ind = df_table[df_table['Country/Region'].eq('India')][metrics].sum().add_prefix('India ')\n",
    "summary = {'updated': pd.to_datetime(dt_today), 'since': pd.to_datetime(dt_yday)}\n",
    "summary = {'updated': pd.to_datetime(dt_today), 'since': pd.to_datetime(dt_yday)}\n",
    "summary = {**summary, **df_table[metrics].sum(), **s_ind, **s_us, **s_eu}"
   ]
  },
  {
   "cell_type": "code",
   "execution_count": 18,
   "id": "engaging-syndrome",
   "metadata": {
    "execution": {
     "iopub.execute_input": "2021-05-29T12:30:09.492023Z",
     "iopub.status.busy": "2021-05-29T12:30:09.491392Z",
     "iopub.status.idle": "2021-05-29T12:30:09.506314Z",
     "shell.execute_reply": "2021-05-29T12:30:09.505616Z"
    },
    "papermill": {
     "duration": 0.062099,
     "end_time": "2021-05-29T12:30:09.506446",
     "exception": false,
     "start_time": "2021-05-29T12:30:09.444347",
     "status": "completed"
    },
    "tags": []
   },
   "outputs": [],
   "source": [
    "#hide\n",
    "dft_ct_new_cases = dft_cases.groupby(COL_REGION)[dt_cols].sum().diff(axis=1).fillna(0).astype(int)"
   ]
  },
  {
   "cell_type": "code",
   "execution_count": 19,
   "id": "neutral-assignment",
   "metadata": {
    "execution": {
     "iopub.execute_input": "2021-05-29T12:30:09.595406Z",
     "iopub.status.busy": "2021-05-29T12:30:09.594733Z",
     "iopub.status.idle": "2021-05-29T12:30:09.597387Z",
     "shell.execute_reply": "2021-05-29T12:30:09.596742Z"
    },
    "papermill": {
     "duration": 0.050994,
     "end_time": "2021-05-29T12:30:09.597517",
     "exception": false,
     "start_time": "2021-05-29T12:30:09.546523",
     "status": "completed"
    },
    "tags": []
   },
   "outputs": [],
   "source": [
    "#hide\n",
    "everydaycases = dft_ct_new_cases.cumsum(axis=1)"
   ]
  },
  {
   "cell_type": "code",
   "execution_count": 20,
   "id": "parliamentary-calgary",
   "metadata": {
    "execution": {
     "iopub.execute_input": "2021-05-29T12:30:09.684178Z",
     "iopub.status.busy": "2021-05-29T12:30:09.683457Z",
     "iopub.status.idle": "2021-05-29T12:30:10.371819Z",
     "shell.execute_reply": "2021-05-29T12:30:10.371196Z"
    },
    "papermill": {
     "duration": 0.733772,
     "end_time": "2021-05-29T12:30:10.371979",
     "exception": false,
     "start_time": "2021-05-29T12:30:09.638207",
     "status": "completed"
    },
    "tags": []
   },
   "outputs": [],
   "source": [
    "#hide\n",
    "import pandas as pd\n",
    "import matplotlib.pyplot as plt\n",
    "import matplotlib.ticker as ticker\n",
    "import matplotlib.animation as animation\n",
    "from IPython.display import HTML"
   ]
  },
  {
   "cell_type": "code",
   "execution_count": 21,
   "id": "lasting-extraction",
   "metadata": {
    "execution": {
     "iopub.execute_input": "2021-05-29T12:30:10.464443Z",
     "iopub.status.busy": "2021-05-29T12:30:10.463546Z",
     "iopub.status.idle": "2021-05-29T12:30:10.469973Z",
     "shell.execute_reply": "2021-05-29T12:30:10.469269Z"
    },
    "papermill": {
     "duration": 0.054018,
     "end_time": "2021-05-29T12:30:10.470106",
     "exception": false,
     "start_time": "2021-05-29T12:30:10.416088",
     "status": "completed"
    },
    "tags": []
   },
   "outputs": [],
   "source": [
    "#hide\n",
    "t = everydaycases.stack()"
   ]
  },
  {
   "cell_type": "code",
   "execution_count": 22,
   "id": "premier-sleeve",
   "metadata": {
    "execution": {
     "iopub.execute_input": "2021-05-29T12:30:10.560987Z",
     "iopub.status.busy": "2021-05-29T12:30:10.560334Z",
     "iopub.status.idle": "2021-05-29T12:30:10.568637Z",
     "shell.execute_reply": "2021-05-29T12:30:10.569264Z"
    },
    "papermill": {
     "duration": 0.054739,
     "end_time": "2021-05-29T12:30:10.569405",
     "exception": false,
     "start_time": "2021-05-29T12:30:10.514666",
     "status": "completed"
    },
    "tags": []
   },
   "outputs": [],
   "source": [
    "#hide\n",
    "g = t.reset_index(['Country/Region'])"
   ]
  },
  {
   "cell_type": "code",
   "execution_count": 23,
   "id": "distributed-pittsburgh",
   "metadata": {
    "execution": {
     "iopub.execute_input": "2021-05-29T12:30:10.663223Z",
     "iopub.status.busy": "2021-05-29T12:30:10.662495Z",
     "iopub.status.idle": "2021-05-29T12:30:10.665211Z",
     "shell.execute_reply": "2021-05-29T12:30:10.664643Z"
    },
    "papermill": {
     "duration": 0.051282,
     "end_time": "2021-05-29T12:30:10.665395",
     "exception": false,
     "start_time": "2021-05-29T12:30:10.614113",
     "status": "completed"
    },
    "tags": []
   },
   "outputs": [],
   "source": [
    "#hide\n",
    "g.index.name = 'date'"
   ]
  },
  {
   "cell_type": "code",
   "execution_count": 24,
   "id": "naked-donor",
   "metadata": {
    "execution": {
     "iopub.execute_input": "2021-05-29T12:30:10.756995Z",
     "iopub.status.busy": "2021-05-29T12:30:10.755540Z",
     "iopub.status.idle": "2021-05-29T12:30:10.757913Z",
     "shell.execute_reply": "2021-05-29T12:30:10.758569Z"
    },
    "papermill": {
     "duration": 0.050811,
     "end_time": "2021-05-29T12:30:10.758730",
     "exception": false,
     "start_time": "2021-05-29T12:30:10.707919",
     "status": "completed"
    },
    "tags": []
   },
   "outputs": [],
   "source": [
    "# #hide\n",
    "# g = g.reset_index(['date'])"
   ]
  },
  {
   "cell_type": "code",
   "execution_count": 25,
   "id": "incomplete-mustang",
   "metadata": {
    "execution": {
     "iopub.execute_input": "2021-05-29T12:30:10.845767Z",
     "iopub.status.busy": "2021-05-29T12:30:10.844209Z",
     "iopub.status.idle": "2021-05-29T12:30:10.846636Z",
     "shell.execute_reply": "2021-05-29T12:30:10.847153Z"
    },
    "papermill": {
     "duration": 0.046834,
     "end_time": "2021-05-29T12:30:10.847293",
     "exception": false,
     "start_time": "2021-05-29T12:30:10.800459",
     "status": "completed"
    },
    "tags": []
   },
   "outputs": [],
   "source": [
    "#hide\n",
    "# g.head()"
   ]
  },
  {
   "cell_type": "code",
   "execution_count": 26,
   "id": "specific-kruger",
   "metadata": {
    "execution": {
     "iopub.execute_input": "2021-05-29T12:30:10.932603Z",
     "iopub.status.busy": "2021-05-29T12:30:10.931179Z",
     "iopub.status.idle": "2021-05-29T12:30:10.933413Z",
     "shell.execute_reply": "2021-05-29T12:30:10.933944Z"
    },
    "papermill": {
     "duration": 0.048027,
     "end_time": "2021-05-29T12:30:10.934087",
     "exception": false,
     "start_time": "2021-05-29T12:30:10.886060",
     "status": "completed"
    },
    "tags": []
   },
   "outputs": [],
   "source": [
    "#hide\n",
    "# g.columns = ['date','country','cases']"
   ]
  },
  {
   "cell_type": "code",
   "execution_count": 27,
   "id": "tender-conversion",
   "metadata": {
    "execution": {
     "iopub.execute_input": "2021-05-29T12:30:11.022252Z",
     "iopub.status.busy": "2021-05-29T12:30:11.020769Z",
     "iopub.status.idle": "2021-05-29T12:30:11.022978Z",
     "shell.execute_reply": "2021-05-29T12:30:11.023498Z"
    },
    "papermill": {
     "duration": 0.048973,
     "end_time": "2021-05-29T12:30:11.023639",
     "exception": false,
     "start_time": "2021-05-29T12:30:10.974666",
     "status": "completed"
    },
    "tags": []
   },
   "outputs": [],
   "source": [
    "#hide\n",
    "# g['continent'] = g.country"
   ]
  },
  {
   "cell_type": "code",
   "execution_count": 28,
   "id": "substantial-wilderness",
   "metadata": {
    "execution": {
     "iopub.execute_input": "2021-05-29T12:30:11.129664Z",
     "iopub.status.busy": "2021-05-29T12:30:11.128938Z",
     "iopub.status.idle": "2021-05-29T12:30:11.131895Z",
     "shell.execute_reply": "2021-05-29T12:30:11.131367Z"
    },
    "papermill": {
     "duration": 0.05129,
     "end_time": "2021-05-29T12:30:11.132190",
     "exception": false,
     "start_time": "2021-05-29T12:30:11.080900",
     "status": "completed"
    },
    "tags": []
   },
   "outputs": [],
   "source": [
    "#hide\n",
    "# cols = list(g.columns.values)"
   ]
  },
  {
   "cell_type": "code",
   "execution_count": 29,
   "id": "solved-farming",
   "metadata": {
    "execution": {
     "iopub.execute_input": "2021-05-29T12:30:11.225014Z",
     "iopub.status.busy": "2021-05-29T12:30:11.224309Z",
     "iopub.status.idle": "2021-05-29T12:30:11.226827Z",
     "shell.execute_reply": "2021-05-29T12:30:11.226265Z"
    },
    "papermill": {
     "duration": 0.049401,
     "end_time": "2021-05-29T12:30:11.226956",
     "exception": false,
     "start_time": "2021-05-29T12:30:11.177555",
     "status": "completed"
    },
    "tags": []
   },
   "outputs": [],
   "source": [
    "#hide\n",
    "# cols.insert(0, cols.pop())"
   ]
  },
  {
   "cell_type": "code",
   "execution_count": 30,
   "id": "executed-adoption",
   "metadata": {
    "execution": {
     "iopub.execute_input": "2021-05-29T12:30:11.319782Z",
     "iopub.status.busy": "2021-05-29T12:30:11.319169Z",
     "iopub.status.idle": "2021-05-29T12:30:11.321320Z",
     "shell.execute_reply": "2021-05-29T12:30:11.321974Z"
    },
    "papermill": {
     "duration": 0.051434,
     "end_time": "2021-05-29T12:30:11.322114",
     "exception": false,
     "start_time": "2021-05-29T12:30:11.270680",
     "status": "completed"
    },
    "tags": []
   },
   "outputs": [],
   "source": [
    "#hide\n",
    "# g = g[cols]"
   ]
  },
  {
   "cell_type": "code",
   "execution_count": 31,
   "id": "subject-dublin",
   "metadata": {
    "execution": {
     "iopub.execute_input": "2021-05-29T12:30:11.409229Z",
     "iopub.status.busy": "2021-05-29T12:30:11.408553Z",
     "iopub.status.idle": "2021-05-29T12:30:11.410482Z",
     "shell.execute_reply": "2021-05-29T12:30:11.411175Z"
    },
    "papermill": {
     "duration": 0.049018,
     "end_time": "2021-05-29T12:30:11.411333",
     "exception": false,
     "start_time": "2021-05-29T12:30:11.362315",
     "status": "completed"
    },
    "tags": []
   },
   "outputs": [],
   "source": [
    "#hide\n",
    "# g['continent'] = g['continent'].map(mapping['map.continent'])"
   ]
  },
  {
   "cell_type": "code",
   "execution_count": 32,
   "id": "freelance-scout",
   "metadata": {
    "execution": {
     "iopub.execute_input": "2021-05-29T12:30:11.510130Z",
     "iopub.status.busy": "2021-05-29T12:30:11.508967Z",
     "iopub.status.idle": "2021-05-29T12:30:11.510922Z",
     "shell.execute_reply": "2021-05-29T12:30:11.511790Z"
    },
    "papermill": {
     "duration": 0.049387,
     "end_time": "2021-05-29T12:30:11.512004",
     "exception": false,
     "start_time": "2021-05-29T12:30:11.462617",
     "status": "completed"
    },
    "tags": []
   },
   "outputs": [],
   "source": [
    "#hide\n",
    "# g.head()"
   ]
  },
  {
   "cell_type": "code",
   "execution_count": 33,
   "id": "limited-engine",
   "metadata": {
    "execution": {
     "iopub.execute_input": "2021-05-29T12:30:11.596208Z",
     "iopub.status.busy": "2021-05-29T12:30:11.595400Z",
     "iopub.status.idle": "2021-05-29T12:30:11.599774Z",
     "shell.execute_reply": "2021-05-29T12:30:11.599022Z"
    },
    "papermill": {
     "duration": 0.047929,
     "end_time": "2021-05-29T12:30:11.599957",
     "exception": false,
     "start_time": "2021-05-29T12:30:11.552028",
     "status": "completed"
    },
    "tags": []
   },
   "outputs": [],
   "source": [
    "# hide\n",
    "# g['date'] = g['date'].astype('datetime64[ns]')"
   ]
  },
  {
   "cell_type": "code",
   "execution_count": 34,
   "id": "sophisticated-supervisor",
   "metadata": {
    "execution": {
     "iopub.execute_input": "2021-05-29T12:30:11.689617Z",
     "iopub.status.busy": "2021-05-29T12:30:11.688799Z",
     "iopub.status.idle": "2021-05-29T12:30:11.691677Z",
     "shell.execute_reply": "2021-05-29T12:30:11.691141Z"
    },
    "papermill": {
     "duration": 0.048692,
     "end_time": "2021-05-29T12:30:11.691808",
     "exception": false,
     "start_time": "2021-05-29T12:30:11.643116",
     "status": "completed"
    },
    "tags": []
   },
   "outputs": [],
   "source": [
    "#hide\n",
    "# g['date'] = g.date.dt.dayofyear"
   ]
  },
  {
   "cell_type": "code",
   "execution_count": 35,
   "id": "inside-dubai",
   "metadata": {
    "execution": {
     "iopub.execute_input": "2021-05-29T12:30:11.783580Z",
     "iopub.status.busy": "2021-05-29T12:30:11.782900Z",
     "iopub.status.idle": "2021-05-29T12:30:11.786120Z",
     "shell.execute_reply": "2021-05-29T12:30:11.785461Z"
    },
    "papermill": {
     "duration": 0.05169,
     "end_time": "2021-05-29T12:30:11.786254",
     "exception": false,
     "start_time": "2021-05-29T12:30:11.734564",
     "status": "completed"
    },
    "tags": []
   },
   "outputs": [],
   "source": [
    "#hide\n",
    "# g = g.rename(columns= {'continent':'group','country':'name','cases':'value'})"
   ]
  },
  {
   "cell_type": "code",
   "execution_count": 36,
   "id": "fleet-motorcycle",
   "metadata": {
    "execution": {
     "iopub.execute_input": "2021-05-29T12:30:11.875913Z",
     "iopub.status.busy": "2021-05-29T12:30:11.875262Z",
     "iopub.status.idle": "2021-05-29T12:30:11.877408Z",
     "shell.execute_reply": "2021-05-29T12:30:11.877943Z"
    },
    "papermill": {
     "duration": 0.048274,
     "end_time": "2021-05-29T12:30:11.878093",
     "exception": false,
     "start_time": "2021-05-29T12:30:11.829819",
     "status": "completed"
    },
    "tags": []
   },
   "outputs": [],
   "source": [
    "#hide\n",
    "# cols = ['name','group','day','value']"
   ]
  },
  {
   "cell_type": "code",
   "execution_count": 37,
   "id": "continued-sleeping",
   "metadata": {
    "execution": {
     "iopub.execute_input": "2021-05-29T12:30:11.967063Z",
     "iopub.status.busy": "2021-05-29T12:30:11.966448Z",
     "iopub.status.idle": "2021-05-29T12:30:11.968306Z",
     "shell.execute_reply": "2021-05-29T12:30:11.968945Z"
    },
    "papermill": {
     "duration": 0.049063,
     "end_time": "2021-05-29T12:30:11.969080",
     "exception": false,
     "start_time": "2021-05-29T12:30:11.920017",
     "status": "completed"
    },
    "tags": []
   },
   "outputs": [],
   "source": [
    "#hide\n",
    "# g.rename(columns= {'date':'day'},inplace = True)"
   ]
  },
  {
   "cell_type": "code",
   "execution_count": 38,
   "id": "major-fight",
   "metadata": {
    "execution": {
     "iopub.execute_input": "2021-05-29T12:30:12.053112Z",
     "iopub.status.busy": "2021-05-29T12:30:12.052514Z",
     "iopub.status.idle": "2021-05-29T12:30:12.054588Z",
     "shell.execute_reply": "2021-05-29T12:30:12.055039Z"
    },
    "papermill": {
     "duration": 0.045206,
     "end_time": "2021-05-29T12:30:12.055171",
     "exception": false,
     "start_time": "2021-05-29T12:30:12.009965",
     "status": "completed"
    },
    "tags": []
   },
   "outputs": [],
   "source": [
    "#hide\n",
    "# g = g[cols]"
   ]
  },
  {
   "cell_type": "code",
   "execution_count": 39,
   "id": "structured-mobile",
   "metadata": {
    "execution": {
     "iopub.execute_input": "2021-05-29T12:30:12.141548Z",
     "iopub.status.busy": "2021-05-29T12:30:12.140924Z",
     "iopub.status.idle": "2021-05-29T12:30:12.143197Z",
     "shell.execute_reply": "2021-05-29T12:30:12.142591Z"
    },
    "papermill": {
     "duration": 0.04655,
     "end_time": "2021-05-29T12:30:12.143323",
     "exception": false,
     "start_time": "2021-05-29T12:30:12.096773",
     "status": "completed"
    },
    "tags": []
   },
   "outputs": [],
   "source": [
    "# #hide\n",
    "# g = g[g.group.notna()]"
   ]
  },
  {
   "cell_type": "code",
   "execution_count": 40,
   "id": "determined-closing",
   "metadata": {
    "execution": {
     "iopub.execute_input": "2021-05-29T12:30:12.228411Z",
     "iopub.status.busy": "2021-05-29T12:30:12.227694Z",
     "iopub.status.idle": "2021-05-29T12:30:12.229694Z",
     "shell.execute_reply": "2021-05-29T12:30:12.230272Z"
    },
    "papermill": {
     "duration": 0.048595,
     "end_time": "2021-05-29T12:30:12.230425",
     "exception": false,
     "start_time": "2021-05-29T12:30:12.181830",
     "status": "completed"
    },
    "tags": []
   },
   "outputs": [],
   "source": [
    "# #hide\n",
    "# colors = dict(zip(\n",
    "#     [\"Oceania\", \"Europe\", \"Asia\", \"South America\", \"Middle East\", \"North America\", \"Africa\"],\n",
    "#     [\"#adb0ff\", \"#ffb3ff\", \"#90d595\", \"#e48381\", \"#aafbff\", \"#f7bb5f\", \"#eafb50\"]\n",
    "# ))\n",
    "# group_lk = g.set_index('name')['group'].to_dict()"
   ]
  },
  {
   "cell_type": "code",
   "execution_count": null,
   "id": "gross-drinking",
   "metadata": {
    "papermill": {
     "duration": 0.043328,
     "end_time": "2021-05-29T12:30:12.312429",
     "exception": false,
     "start_time": "2021-05-29T12:30:12.269101",
     "status": "completed"
    },
    "tags": []
   },
   "outputs": [],
   "source": []
  },
  {
   "cell_type": "code",
   "execution_count": 41,
   "id": "subject-macintosh",
   "metadata": {
    "execution": {
     "iopub.execute_input": "2021-05-29T12:30:12.396777Z",
     "iopub.status.busy": "2021-05-29T12:30:12.396087Z",
     "iopub.status.idle": "2021-05-29T12:30:12.398091Z",
     "shell.execute_reply": "2021-05-29T12:30:12.398583Z"
    },
    "papermill": {
     "duration": 0.047335,
     "end_time": "2021-05-29T12:30:12.398731",
     "exception": false,
     "start_time": "2021-05-29T12:30:12.351396",
     "status": "completed"
    },
    "tags": []
   },
   "outputs": [],
   "source": [
    "# #hide\n",
    "# fig, ax = plt.subplots(figsize=(15, 8))\n",
    "\n",
    "# def draw_barchart(current_day):\n",
    "#     dff = g[g['day'].eq(current_day)].sort_values(by='value', ascending=True).tail(10)\n",
    "#     ax.clear()\n",
    "#     ax.barh(dff['name'], dff['value'], color=[colors[group_lk[x]] for x in dff['name']])\n",
    "#     dx = dff['value'].max() / 200\n",
    "    \n",
    "#     for i, (value, name) in enumerate(zip(dff['value'], dff['name'])):\n",
    "#         ax.text(value-dx, i,     name,           size=14, weight=600, ha='right', va='bottom')\n",
    "#         ax.text(value-dx, i-.25, group_lk[name], size=10, color='#444444', ha='right', va='baseline')\n",
    "#         ax.text(value+dx, i,     f'{value:,.0f}',  size=14, ha='left',  va='center')\n",
    "#     ax.text(1, 0.4, current_day, transform=ax.transAxes, color='#777777', size=46, ha='right', weight=800)\n",
    "#     ax.text(0, 1.06, 'Population (thousands)', transform=ax.transAxes, size=12, color='#777777')\n",
    "#     ax.xaxis.set_major_formatter(ticker.StrMethodFormatter('{x:,.0f}'))\n",
    "#     ax.xaxis.set_ticks_position('top')\n",
    "#     ax.tick_params(axis='x', colors='#777777', labelsize=12)\n",
    "#     ax.set_yticks([])\n",
    "#     ax.margins(0, 0.01)\n",
    "#     ax.grid(which='major', axis='x', linestyle='-')\n",
    "#     ax.set_axisbelow(True)\n",
    "    \n",
    "#     ax.text(0, 1.15, 'Coronavirus',\n",
    "#             transform=ax.transAxes, size=24, weight=600, ha='left', va='top')\n",
    "# #     ax.text(1, 0, 'by @pratapvardhan; credit @jburnmurdoch', transform=ax.transAxes, color='#777777', ha='right',\n",
    "# #             bbox=dict(facecolor='white', alpha=0.8, edgecolor='white'))\n",
    "#     plt.box(False)"
   ]
  },
  {
   "cell_type": "code",
   "execution_count": 42,
   "id": "sexual-wages",
   "metadata": {
    "execution": {
     "iopub.execute_input": "2021-05-29T12:30:12.480336Z",
     "iopub.status.busy": "2021-05-29T12:30:12.479602Z",
     "iopub.status.idle": "2021-05-29T12:30:12.481770Z",
     "shell.execute_reply": "2021-05-29T12:30:12.482329Z"
    },
    "papermill": {
     "duration": 0.044781,
     "end_time": "2021-05-29T12:30:12.482458",
     "exception": false,
     "start_time": "2021-05-29T12:30:12.437677",
     "status": "completed"
    },
    "tags": []
   },
   "outputs": [],
   "source": [
    "# #hide_input\n",
    "# fig, ax = plt.subplots(figsize=(15, 8))\n",
    "# animator = animation.FuncAnimation(fig, draw_barchart, frames=range(g.day.values.min(), g.day.values.max()))\n",
    "# HTML(animator.to_jshtml())\n",
    "# # or use animator.to_html5_video() or animator.save() "
   ]
  },
  {
   "cell_type": "code",
   "execution_count": null,
   "id": "australian-container",
   "metadata": {
    "papermill": {
     "duration": 0.038121,
     "end_time": "2021-05-29T12:30:12.560120",
     "exception": false,
     "start_time": "2021-05-29T12:30:12.521999",
     "status": "completed"
    },
    "tags": []
   },
   "outputs": [],
   "source": []
  },
  {
   "cell_type": "code",
   "execution_count": null,
   "id": "mediterranean-pontiac",
   "metadata": {
    "papermill": {
     "duration": 0.039229,
     "end_time": "2021-05-29T12:30:12.638706",
     "exception": false,
     "start_time": "2021-05-29T12:30:12.599477",
     "status": "completed"
    },
    "tags": []
   },
   "outputs": [],
   "source": []
  },
  {
   "cell_type": "code",
   "execution_count": null,
   "id": "aging-legislature",
   "metadata": {
    "papermill": {
     "duration": 0.04233,
     "end_time": "2021-05-29T12:30:12.721374",
     "exception": false,
     "start_time": "2021-05-29T12:30:12.679044",
     "status": "completed"
    },
    "tags": []
   },
   "outputs": [],
   "source": []
  }
 ],
 "metadata": {
  "kernelspec": {
   "display_name": "Python 3",
   "language": "python",
   "name": "python3"
  },
  "language_info": {
   "codemirror_mode": {
    "name": "ipython",
    "version": 3
   },
   "file_extension": ".py",
   "mimetype": "text/x-python",
   "name": "python",
   "nbconvert_exporter": "python",
   "pygments_lexer": "ipython3",
   "version": "3.6.13"
  },
  "papermill": {
   "duration": 7.2163,
   "end_time": "2021-05-29T12:30:13.067447",
   "environment_variables": {},
   "exception": null,
   "input_path": "2020-03-21-covid19exp.ipynb",
   "output_path": "2020-03-21-covid19exp.ipynb",
   "parameters": {},
   "start_time": "2021-05-29T12:30:05.851147",
   "version": "2.0.0"
  }
 },
 "nbformat": 4,
 "nbformat_minor": 5
}