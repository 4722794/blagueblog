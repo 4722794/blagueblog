{
 "cells": [
  {
   "cell_type": "markdown",
   "id": "muslim-click",
   "metadata": {
    "papermill": {
     "duration": 0.038816,
     "end_time": "2021-03-29T12:04:12.120188",
     "exception": false,
     "start_time": "2021-03-29T12:04:12.081372",
     "status": "completed"
    },
    "tags": []
   },
   "source": [
    "# COVID-19 Case Race\n",
    "> A race chart to see rising cases around the world\n",
    "\n",
    "- author: Hargun Oberoi\n",
    "- image: images/covid-overview.png\n",
    "- hide: false\n",
    "- badges: false"
   ]
  },
  {
   "cell_type": "code",
   "execution_count": 1,
   "id": "proof-material",
   "metadata": {
    "execution": {
     "iopub.execute_input": "2021-03-29T12:04:12.210462Z",
     "iopub.status.busy": "2021-03-29T12:04:12.209762Z",
     "iopub.status.idle": "2021-03-29T12:04:12.553894Z",
     "shell.execute_reply": "2021-03-29T12:04:12.553213Z"
    },
    "papermill": {
     "duration": 0.393657,
     "end_time": "2021-03-29T12:04:12.554066",
     "exception": false,
     "start_time": "2021-03-29T12:04:12.160409",
     "status": "completed"
    },
    "tags": []
   },
   "outputs": [],
   "source": [
    "#hide\n",
    "import numpy as np\n",
    "import pandas as pd\n",
    "from jinja2 import Template\n",
    "from IPython.display import HTML"
   ]
  },
  {
   "cell_type": "code",
   "execution_count": 2,
   "id": "developed-terminology",
   "metadata": {
    "execution": {
     "iopub.execute_input": "2021-03-29T12:04:12.627318Z",
     "iopub.status.busy": "2021-03-29T12:04:12.626746Z",
     "iopub.status.idle": "2021-03-29T12:04:12.628917Z",
     "shell.execute_reply": "2021-03-29T12:04:12.628441Z"
    },
    "papermill": {
     "duration": 0.039242,
     "end_time": "2021-03-29T12:04:12.629093",
     "exception": false,
     "start_time": "2021-03-29T12:04:12.589851",
     "status": "completed"
    },
    "tags": []
   },
   "outputs": [],
   "source": [
    "#hide\n",
    "\n",
    "# FETCH\n",
    "base_url = 'https://raw.githubusercontent.com/pratapvardhan/notebooks/master/covid19/'\n",
    "paths = {\n",
    "    'mapping': base_url + 'mapping_countries.csv',\n",
    "    'overview': base_url + 'overview.tpl'\n",
    "}"
   ]
  },
  {
   "cell_type": "code",
   "execution_count": 3,
   "id": "dynamic-saver",
   "metadata": {
    "execution": {
     "iopub.execute_input": "2021-03-29T12:04:12.706536Z",
     "iopub.status.busy": "2021-03-29T12:04:12.705791Z",
     "iopub.status.idle": "2021-03-29T12:04:12.708390Z",
     "shell.execute_reply": "2021-03-29T12:04:12.709018Z"
    },
    "papermill": {
     "duration": 0.047827,
     "end_time": "2021-03-29T12:04:12.709164",
     "exception": false,
     "start_time": "2021-03-29T12:04:12.661337",
     "status": "completed"
    },
    "tags": []
   },
   "outputs": [
    {
     "data": {
      "text/plain": [
       "'https://raw.githubusercontent.com/pratapvardhan/notebooks/master/covid19/mapping_countries.csv'"
      ]
     },
     "execution_count": 3,
     "metadata": {},
     "output_type": "execute_result"
    }
   ],
   "source": [
    "#hide\n",
    "paths['mapping']"
   ]
  },
  {
   "cell_type": "code",
   "execution_count": 4,
   "id": "urban-software",
   "metadata": {
    "execution": {
     "iopub.execute_input": "2021-03-29T12:04:12.790149Z",
     "iopub.status.busy": "2021-03-29T12:04:12.789544Z",
     "iopub.status.idle": "2021-03-29T12:04:12.791756Z",
     "shell.execute_reply": "2021-03-29T12:04:12.791180Z"
    },
    "papermill": {
     "duration": 0.042721,
     "end_time": "2021-03-29T12:04:12.791874",
     "exception": false,
     "start_time": "2021-03-29T12:04:12.749153",
     "status": "completed"
    },
    "tags": []
   },
   "outputs": [],
   "source": [
    "#hide\n",
    "def get_mappings(url):\n",
    "    df = pd.read_csv(url)\n",
    "    return {\n",
    "        'df': df,\n",
    "        'replace.country': dict(df.dropna(subset=['Name']).set_index('Country')['Name']),\n",
    "        'map.continent': dict(df.set_index('Name')['Continent'])\n",
    "    }"
   ]
  },
  {
   "cell_type": "code",
   "execution_count": 5,
   "id": "intimate-machinery",
   "metadata": {
    "execution": {
     "iopub.execute_input": "2021-03-29T12:04:12.868987Z",
     "iopub.status.busy": "2021-03-29T12:04:12.868357Z",
     "iopub.status.idle": "2021-03-29T12:04:12.938964Z",
     "shell.execute_reply": "2021-03-29T12:04:12.938426Z"
    },
    "papermill": {
     "duration": 0.113071,
     "end_time": "2021-03-29T12:04:12.939107",
     "exception": false,
     "start_time": "2021-03-29T12:04:12.826036",
     "status": "completed"
    },
    "tags": []
   },
   "outputs": [],
   "source": [
    "#hide\n",
    "mapping = get_mappings(paths['mapping'])"
   ]
  },
  {
   "cell_type": "code",
   "execution_count": 6,
   "id": "certified-tactics",
   "metadata": {
    "execution": {
     "iopub.execute_input": "2021-03-29T12:04:13.013879Z",
     "iopub.status.busy": "2021-03-29T12:04:13.013263Z",
     "iopub.status.idle": "2021-03-29T12:04:13.014695Z",
     "shell.execute_reply": "2021-03-29T12:04:13.015241Z"
    },
    "papermill": {
     "duration": 0.039979,
     "end_time": "2021-03-29T12:04:13.015370",
     "exception": false,
     "start_time": "2021-03-29T12:04:12.975391",
     "status": "completed"
    },
    "tags": []
   },
   "outputs": [],
   "source": [
    "#hide\n",
    "def get_template(path):\n",
    "    from urllib.parse import urlparse\n",
    "    if bool(urlparse(path).netloc):\n",
    "        from urllib.request import urlopen\n",
    "        return urlopen(path).read().decode('utf8')\n",
    "    return open(path).read()"
   ]
  },
  {
   "cell_type": "code",
   "execution_count": 7,
   "id": "realistic-blast",
   "metadata": {
    "execution": {
     "iopub.execute_input": "2021-03-29T12:04:13.096313Z",
     "iopub.status.busy": "2021-03-29T12:04:13.095678Z",
     "iopub.status.idle": "2021-03-29T12:04:13.096854Z",
     "shell.execute_reply": "2021-03-29T12:04:13.097416Z"
    },
    "papermill": {
     "duration": 0.047252,
     "end_time": "2021-03-29T12:04:13.097600",
     "exception": false,
     "start_time": "2021-03-29T12:04:13.050348",
     "status": "completed"
    },
    "tags": []
   },
   "outputs": [],
   "source": [
    "#hide\n",
    "def get_frame(name):\n",
    "    url = (\n",
    "        'https://raw.githubusercontent.com/CSSEGISandData/COVID-19/master/csse_covid_19_data/'\n",
    "        f'csse_covid_19_time_series/time_series_covid19_{name}_global.csv')\n",
    "    df = pd.read_csv(url)\n",
    "    # rename countries\n",
    "    df['Country/Region'] = df['Country/Region'].replace(mapping['replace.country'])\n",
    "    return df"
   ]
  },
  {
   "cell_type": "code",
   "execution_count": 8,
   "id": "affiliated-characterization",
   "metadata": {
    "execution": {
     "iopub.execute_input": "2021-03-29T12:04:13.169509Z",
     "iopub.status.busy": "2021-03-29T12:04:13.168683Z",
     "iopub.status.idle": "2021-03-29T12:04:13.171636Z",
     "shell.execute_reply": "2021-03-29T12:04:13.171040Z"
    },
    "papermill": {
     "duration": 0.040168,
     "end_time": "2021-03-29T12:04:13.171757",
     "exception": false,
     "start_time": "2021-03-29T12:04:13.131589",
     "status": "completed"
    },
    "tags": []
   },
   "outputs": [],
   "source": [
    "#hide\n",
    "def get_dates(df):\n",
    "    dt_cols = df.columns[~df.columns.isin(['Province/State', 'Country/Region', 'Lat', 'Long'])]\n",
    "    LAST_DATE_I = -1\n",
    "    # sometimes last column may be empty, then go backwards\n",
    "    for i in range(-1, -len(dt_cols), -1):\n",
    "        if not df[dt_cols[i]].fillna(0).eq(0).all():\n",
    "            LAST_DATE_I = i\n",
    "            break\n",
    "    return LAST_DATE_I, dt_cols"
   ]
  },
  {
   "cell_type": "code",
   "execution_count": 9,
   "id": "recent-optimization",
   "metadata": {
    "execution": {
     "iopub.execute_input": "2021-03-29T12:04:13.252808Z",
     "iopub.status.busy": "2021-03-29T12:04:13.252200Z",
     "iopub.status.idle": "2021-03-29T12:04:13.769978Z",
     "shell.execute_reply": "2021-03-29T12:04:13.769274Z"
    },
    "papermill": {
     "duration": 0.563449,
     "end_time": "2021-03-29T12:04:13.770154",
     "exception": false,
     "start_time": "2021-03-29T12:04:13.206705",
     "status": "completed"
    },
    "tags": []
   },
   "outputs": [],
   "source": [
    "#hide\n",
    "COL_REGION = 'Country/Region'\n",
    "# Confirmed, Recovered, Deaths\n",
    "df = get_frame('confirmed')\n",
    "# dft_: timeseries, dfc_: today country agg\n",
    "dft_cases = df\n",
    "dft_deaths = get_frame('deaths')\n",
    "dft_recovered = get_frame('recovered')\n",
    "LAST_DATE_I, dt_cols = get_dates(df)"
   ]
  },
  {
   "cell_type": "code",
   "execution_count": 10,
   "id": "absolute-copper",
   "metadata": {
    "execution": {
     "iopub.execute_input": "2021-03-29T12:04:13.847500Z",
     "iopub.status.busy": "2021-03-29T12:04:13.846914Z",
     "iopub.status.idle": "2021-03-29T12:04:13.848947Z",
     "shell.execute_reply": "2021-03-29T12:04:13.849378Z"
    },
    "papermill": {
     "duration": 0.041547,
     "end_time": "2021-03-29T12:04:13.849536",
     "exception": false,
     "start_time": "2021-03-29T12:04:13.807989",
     "status": "completed"
    },
    "tags": []
   },
   "outputs": [],
   "source": [
    "#hide\n",
    "LAST_DATE_I, dt_cols = get_dates(df)\n",
    "dt_today =dt_cols[LAST_DATE_I]\n",
    "# dt_5day = dt_cols[LAST_DATE_I - 5]\n",
    "dt_yday = dt_cols[LAST_DATE_I - 1]"
   ]
  },
  {
   "cell_type": "code",
   "execution_count": 11,
   "id": "restricted-sheriff",
   "metadata": {
    "execution": {
     "iopub.execute_input": "2021-03-29T12:04:13.927367Z",
     "iopub.status.busy": "2021-03-29T12:04:13.926663Z",
     "iopub.status.idle": "2021-03-29T12:04:13.935247Z",
     "shell.execute_reply": "2021-03-29T12:04:13.934651Z"
    },
    "papermill": {
     "duration": 0.049996,
     "end_time": "2021-03-29T12:04:13.935393",
     "exception": false,
     "start_time": "2021-03-29T12:04:13.885397",
     "status": "completed"
    },
    "tags": []
   },
   "outputs": [],
   "source": [
    "#hide\n",
    "dfc_cases = dft_cases.groupby(COL_REGION)[dt_today].sum()\n",
    "dfc_deaths = dft_deaths.groupby(COL_REGION)[dt_today].sum()\n",
    "# dfp_cases = dft_cases.groupby(COL_REGION)[dt_5day].sum()\n",
    "# dfp_deaths = dft_deaths.groupby(COL_REGION)[dt_5day].sum()\n",
    "dfp_cases = dft_cases.groupby(COL_REGION)[dt_yday].sum()\n",
    "dfp_deaths = dft_deaths.groupby(COL_REGION)[dt_yday].sum()"
   ]
  },
  {
   "cell_type": "code",
   "execution_count": 12,
   "id": "deluxe-hepatitis",
   "metadata": {
    "execution": {
     "iopub.execute_input": "2021-03-29T12:04:14.009485Z",
     "iopub.status.busy": "2021-03-29T12:04:14.008921Z",
     "iopub.status.idle": "2021-03-29T12:04:14.014543Z",
     "shell.execute_reply": "2021-03-29T12:04:14.014005Z"
    },
    "papermill": {
     "duration": 0.044122,
     "end_time": "2021-03-29T12:04:14.014692",
     "exception": false,
     "start_time": "2021-03-29T12:04:13.970570",
     "status": "completed"
    },
    "tags": []
   },
   "outputs": [],
   "source": [
    "#hide\n",
    "df_table = (pd.DataFrame(dict(Cases = dfc_cases, Deaths = dfc_deaths, PCases = dfp_cases, PDeaths = dfp_deaths))\n",
    "            .sort_values(by = ['Cases','Deaths'], ascending = [False, False])\n",
    "            .reset_index())"
   ]
  },
  {
   "cell_type": "code",
   "execution_count": 13,
   "id": "educational-chancellor",
   "metadata": {
    "execution": {
     "iopub.execute_input": "2021-03-29T12:04:14.105597Z",
     "iopub.status.busy": "2021-03-29T12:04:14.104928Z",
     "iopub.status.idle": "2021-03-29T12:04:14.113065Z",
     "shell.execute_reply": "2021-03-29T12:04:14.113836Z"
    },
    "papermill": {
     "duration": 0.063434,
     "end_time": "2021-03-29T12:04:14.113975",
     "exception": false,
     "start_time": "2021-03-29T12:04:14.050541",
     "status": "completed"
    },
    "tags": []
   },
   "outputs": [
    {
     "data": {
      "text/html": [
       "<div>\n",
       "<style scoped>\n",
       "    .dataframe tbody tr th:only-of-type {\n",
       "        vertical-align: middle;\n",
       "    }\n",
       "\n",
       "    .dataframe tbody tr th {\n",
       "        vertical-align: top;\n",
       "    }\n",
       "\n",
       "    .dataframe thead th {\n",
       "        text-align: right;\n",
       "    }\n",
       "</style>\n",
       "<table border=\"1\" class=\"dataframe\">\n",
       "  <thead>\n",
       "    <tr style=\"text-align: right;\">\n",
       "      <th></th>\n",
       "      <th>Country/Region</th>\n",
       "      <th>Cases</th>\n",
       "      <th>Deaths</th>\n",
       "      <th>PCases</th>\n",
       "      <th>PDeaths</th>\n",
       "      <th>Cases (+)</th>\n",
       "      <th>Deaths (+)</th>\n",
       "      <th>Fatality Rate</th>\n",
       "      <th>Continent</th>\n",
       "    </tr>\n",
       "  </thead>\n",
       "  <tbody>\n",
       "    <tr>\n",
       "      <th>0</th>\n",
       "      <td>US</td>\n",
       "      <td>30262377</td>\n",
       "      <td>549335</td>\n",
       "      <td>30218683</td>\n",
       "      <td>548829</td>\n",
       "      <td>43694</td>\n",
       "      <td>506</td>\n",
       "      <td>1.82</td>\n",
       "      <td>North America</td>\n",
       "    </tr>\n",
       "    <tr>\n",
       "      <th>1</th>\n",
       "      <td>Brazil</td>\n",
       "      <td>12534688</td>\n",
       "      <td>312206</td>\n",
       "      <td>12490362</td>\n",
       "      <td>310550</td>\n",
       "      <td>44326</td>\n",
       "      <td>1656</td>\n",
       "      <td>2.49</td>\n",
       "      <td>South America</td>\n",
       "    </tr>\n",
       "    <tr>\n",
       "      <th>2</th>\n",
       "      <td>India</td>\n",
       "      <td>12039644</td>\n",
       "      <td>161843</td>\n",
       "      <td>11971624</td>\n",
       "      <td>161552</td>\n",
       "      <td>68020</td>\n",
       "      <td>291</td>\n",
       "      <td>1.34</td>\n",
       "      <td>Asia</td>\n",
       "    </tr>\n",
       "    <tr>\n",
       "      <th>3</th>\n",
       "      <td>France</td>\n",
       "      <td>4606185</td>\n",
       "      <td>94754</td>\n",
       "      <td>4569164</td>\n",
       "      <td>94623</td>\n",
       "      <td>37021</td>\n",
       "      <td>131</td>\n",
       "      <td>2.06</td>\n",
       "      <td>Europe</td>\n",
       "    </tr>\n",
       "    <tr>\n",
       "      <th>4</th>\n",
       "      <td>Russia</td>\n",
       "      <td>4469327</td>\n",
       "      <td>96123</td>\n",
       "      <td>4460348</td>\n",
       "      <td>95792</td>\n",
       "      <td>8979</td>\n",
       "      <td>331</td>\n",
       "      <td>2.15</td>\n",
       "      <td>Europe</td>\n",
       "    </tr>\n",
       "  </tbody>\n",
       "</table>\n",
       "</div>"
      ],
      "text/plain": [
       "  Country/Region     Cases  Deaths    PCases  PDeaths  Cases (+)  Deaths (+)  \\\n",
       "0             US  30262377  549335  30218683   548829      43694         506   \n",
       "1         Brazil  12534688  312206  12490362   310550      44326        1656   \n",
       "2          India  12039644  161843  11971624   161552      68020         291   \n",
       "3         France   4606185   94754   4569164    94623      37021         131   \n",
       "4         Russia   4469327   96123   4460348    95792       8979         331   \n",
       "\n",
       "   Fatality Rate      Continent  \n",
       "0           1.82  North America  \n",
       "1           2.49  South America  \n",
       "2           1.34           Asia  \n",
       "3           2.06         Europe  \n",
       "4           2.15         Europe  "
      ]
     },
     "execution_count": 13,
     "metadata": {},
     "output_type": "execute_result"
    }
   ],
   "source": [
    "#hide\n",
    "for c in 'Cases, Deaths'.split(', '):\n",
    "    df_table[f'{c} (+)'] = (df_table[c] - df_table[f'P{c}']).clip(0)\n",
    "    #Clip ça veut dire, les chiffres negatif sont interdit\n",
    "df_table['Fatality Rate'] = (100* df_table['Deaths']/ df_table['Cases']).round(2)\n",
    "df_table['Continent'] = df_table['Country/Region'].map(mapping['map.continent'])\n",
    "df_table.head(5)"
   ]
  },
  {
   "cell_type": "code",
   "execution_count": 14,
   "id": "aboriginal-bulgaria",
   "metadata": {
    "execution": {
     "iopub.execute_input": "2021-03-29T12:04:14.187899Z",
     "iopub.status.busy": "2021-03-29T12:04:14.187234Z",
     "iopub.status.idle": "2021-03-29T12:04:14.190228Z",
     "shell.execute_reply": "2021-03-29T12:04:14.190787Z"
    },
    "papermill": {
     "duration": 0.043982,
     "end_time": "2021-03-29T12:04:14.190933",
     "exception": false,
     "start_time": "2021-03-29T12:04:14.146951",
     "status": "completed"
    },
    "tags": []
   },
   "outputs": [],
   "source": [
    "#hide\n",
    "#delete problematic countries from table\n",
    "df_table = df_table[~df_table['Country/Region'].isin(['Cape Verde', 'Cruise Ship', 'Kosovo'])]"
   ]
  },
  {
   "cell_type": "code",
   "execution_count": 15,
   "id": "fantastic-effect",
   "metadata": {
    "execution": {
     "iopub.execute_input": "2021-03-29T12:04:14.271814Z",
     "iopub.status.busy": "2021-03-29T12:04:14.271172Z",
     "iopub.status.idle": "2021-03-29T12:04:14.292600Z",
     "shell.execute_reply": "2021-03-29T12:04:14.292039Z"
    },
    "papermill": {
     "duration": 0.065537,
     "end_time": "2021-03-29T12:04:14.292764",
     "exception": false,
     "start_time": "2021-03-29T12:04:14.227227",
     "status": "completed"
    },
    "tags": []
   },
   "outputs": [
    {
     "data": {
      "text/html": [
       "<div>\n",
       "<style scoped>\n",
       "    .dataframe tbody tr th:only-of-type {\n",
       "        vertical-align: middle;\n",
       "    }\n",
       "\n",
       "    .dataframe tbody tr th {\n",
       "        vertical-align: top;\n",
       "    }\n",
       "\n",
       "    .dataframe thead th {\n",
       "        text-align: right;\n",
       "    }\n",
       "</style>\n",
       "<table border=\"1\" class=\"dataframe\">\n",
       "  <thead>\n",
       "    <tr style=\"text-align: right;\">\n",
       "      <th></th>\n",
       "      <th>Country/Region</th>\n",
       "      <th>Cases</th>\n",
       "      <th>Deaths</th>\n",
       "      <th>PCases</th>\n",
       "      <th>PDeaths</th>\n",
       "      <th>Cases (+)</th>\n",
       "      <th>Deaths (+)</th>\n",
       "      <th>Fatality Rate</th>\n",
       "      <th>Continent</th>\n",
       "    </tr>\n",
       "  </thead>\n",
       "  <tbody>\n",
       "    <tr>\n",
       "      <th>0</th>\n",
       "      <td>US</td>\n",
       "      <td>30262377</td>\n",
       "      <td>549335</td>\n",
       "      <td>30218683</td>\n",
       "      <td>548829</td>\n",
       "      <td>43694</td>\n",
       "      <td>506</td>\n",
       "      <td>1.8</td>\n",
       "      <td>North America</td>\n",
       "    </tr>\n",
       "    <tr>\n",
       "      <th>1</th>\n",
       "      <td>Brazil</td>\n",
       "      <td>12534688</td>\n",
       "      <td>312206</td>\n",
       "      <td>12490362</td>\n",
       "      <td>310550</td>\n",
       "      <td>44326</td>\n",
       "      <td>1656</td>\n",
       "      <td>2.5</td>\n",
       "      <td>South America</td>\n",
       "    </tr>\n",
       "    <tr>\n",
       "      <th>2</th>\n",
       "      <td>India</td>\n",
       "      <td>12039644</td>\n",
       "      <td>161843</td>\n",
       "      <td>11971624</td>\n",
       "      <td>161552</td>\n",
       "      <td>68020</td>\n",
       "      <td>291</td>\n",
       "      <td>1.3</td>\n",
       "      <td>Asia</td>\n",
       "    </tr>\n",
       "    <tr>\n",
       "      <th>3</th>\n",
       "      <td>France</td>\n",
       "      <td>4606185</td>\n",
       "      <td>94754</td>\n",
       "      <td>4569164</td>\n",
       "      <td>94623</td>\n",
       "      <td>37021</td>\n",
       "      <td>131</td>\n",
       "      <td>2.1</td>\n",
       "      <td>Europe</td>\n",
       "    </tr>\n",
       "    <tr>\n",
       "      <th>4</th>\n",
       "      <td>Russia</td>\n",
       "      <td>4469327</td>\n",
       "      <td>96123</td>\n",
       "      <td>4460348</td>\n",
       "      <td>95792</td>\n",
       "      <td>8979</td>\n",
       "      <td>331</td>\n",
       "      <td>2.2</td>\n",
       "      <td>Europe</td>\n",
       "    </tr>\n",
       "  </tbody>\n",
       "</table>\n",
       "</div>"
      ],
      "text/plain": [
       "  Country/Region     Cases  Deaths    PCases  PDeaths  Cases (+)  Deaths (+)  \\\n",
       "0             US  30262377  549335  30218683   548829      43694         506   \n",
       "1         Brazil  12534688  312206  12490362   310550      44326        1656   \n",
       "2          India  12039644  161843  11971624   161552      68020         291   \n",
       "3         France   4606185   94754   4569164    94623      37021         131   \n",
       "4         Russia   4469327   96123   4460348    95792       8979         331   \n",
       "\n",
       "   Fatality Rate      Continent  \n",
       "0            1.8  North America  \n",
       "1            2.5  South America  \n",
       "2            1.3           Asia  \n",
       "3            2.1         Europe  \n",
       "4            2.2         Europe  "
      ]
     },
     "execution_count": 15,
     "metadata": {},
     "output_type": "execute_result"
    }
   ],
   "source": [
    "#hide\n",
    "df_table = (pd.DataFrame(dict(Cases=dfc_cases, Deaths=dfc_deaths, PCases=dfp_cases, PDeaths=dfp_deaths))\n",
    "             .sort_values(by=['Cases', 'Deaths'], ascending=[False, False])\n",
    "             .reset_index())\n",
    "df_table.rename(columns={'index': 'Country/Region'}, inplace=True)\n",
    "for c in 'Cases, Deaths'.split(', '):\n",
    "    df_table[f'{c} (+)'] = (df_table[c] - df_table[f'P{c}']).clip(0)  # DATA BUG\n",
    "df_table['Fatality Rate'] = (100 * df_table['Deaths'] / df_table['Cases']).round(1)\n",
    "df_table['Continent'] = df_table['Country/Region'].map(mapping['map.continent'])\n",
    "df_table.head(5)"
   ]
  },
  {
   "cell_type": "code",
   "execution_count": 16,
   "id": "fewer-occasion",
   "metadata": {
    "execution": {
     "iopub.execute_input": "2021-03-29T12:04:14.369735Z",
     "iopub.status.busy": "2021-03-29T12:04:14.369155Z",
     "iopub.status.idle": "2021-03-29T12:04:14.371400Z",
     "shell.execute_reply": "2021-03-29T12:04:14.370867Z"
    },
    "papermill": {
     "duration": 0.04114,
     "end_time": "2021-03-29T12:04:14.371515",
     "exception": false,
     "start_time": "2021-03-29T12:04:14.330375",
     "status": "completed"
    },
    "tags": []
   },
   "outputs": [],
   "source": [
    "#hide\n",
    "#delete problematic countries from table\n",
    "df_table = df_table[~df_table['Country/Region'].isin(['Cape Verde', 'Cruise Ship', 'Kosovo'])]"
   ]
  },
  {
   "cell_type": "code",
   "execution_count": 17,
   "id": "related-center",
   "metadata": {
    "execution": {
     "iopub.execute_input": "2021-03-29T12:04:14.456383Z",
     "iopub.status.busy": "2021-03-29T12:04:14.455649Z",
     "iopub.status.idle": "2021-03-29T12:04:14.466816Z",
     "shell.execute_reply": "2021-03-29T12:04:14.466349Z"
    },
    "papermill": {
     "duration": 0.060042,
     "end_time": "2021-03-29T12:04:14.466933",
     "exception": false,
     "start_time": "2021-03-29T12:04:14.406891",
     "status": "completed"
    },
    "tags": []
   },
   "outputs": [],
   "source": [
    "#hide\n",
    "metrics = [df_table.columns[index] for index in [1,2,5,6]]\n",
    "# s_china = df_table[df_table['Country/Region'].eq('China')][metrics].sum().add_prefix('China ')\n",
    "s_us = df_table[df_table['Country/Region'].eq('US')][metrics].sum().add_prefix('US ')\n",
    "s_eu = df_table[df_table['Continent'].eq('Europe')][metrics].sum().add_prefix('EU ')\n",
    "s_ind = df_table[df_table['Country/Region'].eq('India')][metrics].sum().add_prefix('India ')\n",
    "summary = {'updated': pd.to_datetime(dt_today), 'since': pd.to_datetime(dt_yday)}\n",
    "summary = {'updated': pd.to_datetime(dt_today), 'since': pd.to_datetime(dt_yday)}\n",
    "summary = {**summary, **df_table[metrics].sum(), **s_ind, **s_us, **s_eu}"
   ]
  },
  {
   "cell_type": "code",
   "execution_count": 18,
   "id": "engaging-syndrome",
   "metadata": {
    "execution": {
     "iopub.execute_input": "2021-03-29T12:04:14.540514Z",
     "iopub.status.busy": "2021-03-29T12:04:14.539798Z",
     "iopub.status.idle": "2021-03-29T12:04:14.552558Z",
     "shell.execute_reply": "2021-03-29T12:04:14.552024Z"
    },
    "papermill": {
     "duration": 0.052062,
     "end_time": "2021-03-29T12:04:14.552689",
     "exception": false,
     "start_time": "2021-03-29T12:04:14.500627",
     "status": "completed"
    },
    "tags": []
   },
   "outputs": [],
   "source": [
    "#hide\n",
    "dft_ct_new_cases = dft_cases.groupby(COL_REGION)[dt_cols].sum().diff(axis=1).fillna(0).astype(int)"
   ]
  },
  {
   "cell_type": "code",
   "execution_count": 19,
   "id": "neutral-assignment",
   "metadata": {
    "execution": {
     "iopub.execute_input": "2021-03-29T12:04:14.640671Z",
     "iopub.status.busy": "2021-03-29T12:04:14.637260Z",
     "iopub.status.idle": "2021-03-29T12:04:14.641375Z",
     "shell.execute_reply": "2021-03-29T12:04:14.642004Z"
    },
    "papermill": {
     "duration": 0.050044,
     "end_time": "2021-03-29T12:04:14.642154",
     "exception": false,
     "start_time": "2021-03-29T12:04:14.592110",
     "status": "completed"
    },
    "tags": []
   },
   "outputs": [],
   "source": [
    "#hide\n",
    "everydaycases = dft_ct_new_cases.cumsum(axis=1)"
   ]
  },
  {
   "cell_type": "code",
   "execution_count": 20,
   "id": "parliamentary-calgary",
   "metadata": {
    "execution": {
     "iopub.execute_input": "2021-03-29T12:04:14.719146Z",
     "iopub.status.busy": "2021-03-29T12:04:14.718484Z",
     "iopub.status.idle": "2021-03-29T12:04:15.435162Z",
     "shell.execute_reply": "2021-03-29T12:04:15.434524Z"
    },
    "papermill": {
     "duration": 0.754625,
     "end_time": "2021-03-29T12:04:15.435301",
     "exception": false,
     "start_time": "2021-03-29T12:04:14.680676",
     "status": "completed"
    },
    "tags": []
   },
   "outputs": [],
   "source": [
    "#hide\n",
    "import pandas as pd\n",
    "import matplotlib.pyplot as plt\n",
    "import matplotlib.ticker as ticker\n",
    "import matplotlib.animation as animation\n",
    "from IPython.display import HTML"
   ]
  },
  {
   "cell_type": "code",
   "execution_count": 21,
   "id": "lasting-extraction",
   "metadata": {
    "execution": {
     "iopub.execute_input": "2021-03-29T12:04:15.516720Z",
     "iopub.status.busy": "2021-03-29T12:04:15.516008Z",
     "iopub.status.idle": "2021-03-29T12:04:15.521696Z",
     "shell.execute_reply": "2021-03-29T12:04:15.521079Z"
    },
    "papermill": {
     "duration": 0.051289,
     "end_time": "2021-03-29T12:04:15.521862",
     "exception": false,
     "start_time": "2021-03-29T12:04:15.470573",
     "status": "completed"
    },
    "tags": []
   },
   "outputs": [],
   "source": [
    "#hide\n",
    "t = everydaycases.stack()"
   ]
  },
  {
   "cell_type": "code",
   "execution_count": 22,
   "id": "premier-sleeve",
   "metadata": {
    "execution": {
     "iopub.execute_input": "2021-03-29T12:04:15.598938Z",
     "iopub.status.busy": "2021-03-29T12:04:15.598371Z",
     "iopub.status.idle": "2021-03-29T12:04:15.604622Z",
     "shell.execute_reply": "2021-03-29T12:04:15.605154Z"
    },
    "papermill": {
     "duration": 0.046108,
     "end_time": "2021-03-29T12:04:15.605284",
     "exception": false,
     "start_time": "2021-03-29T12:04:15.559176",
     "status": "completed"
    },
    "tags": []
   },
   "outputs": [],
   "source": [
    "#hide\n",
    "g = t.reset_index(['Country/Region'])"
   ]
  },
  {
   "cell_type": "code",
   "execution_count": 23,
   "id": "distributed-pittsburgh",
   "metadata": {
    "execution": {
     "iopub.execute_input": "2021-03-29T12:04:15.685298Z",
     "iopub.status.busy": "2021-03-29T12:04:15.684481Z",
     "iopub.status.idle": "2021-03-29T12:04:15.687130Z",
     "shell.execute_reply": "2021-03-29T12:04:15.686540Z"
    },
    "papermill": {
     "duration": 0.046203,
     "end_time": "2021-03-29T12:04:15.687309",
     "exception": false,
     "start_time": "2021-03-29T12:04:15.641106",
     "status": "completed"
    },
    "tags": []
   },
   "outputs": [],
   "source": [
    "#hide\n",
    "g.index.name = 'date'"
   ]
  },
  {
   "cell_type": "code",
   "execution_count": 24,
   "id": "naked-donor",
   "metadata": {
    "execution": {
     "iopub.execute_input": "2021-03-29T12:04:15.767813Z",
     "iopub.status.busy": "2021-03-29T12:04:15.767132Z",
     "iopub.status.idle": "2021-03-29T12:04:15.769767Z",
     "shell.execute_reply": "2021-03-29T12:04:15.769071Z"
    },
    "papermill": {
     "duration": 0.045322,
     "end_time": "2021-03-29T12:04:15.769903",
     "exception": false,
     "start_time": "2021-03-29T12:04:15.724581",
     "status": "completed"
    },
    "tags": []
   },
   "outputs": [],
   "source": [
    "# #hide\n",
    "# g = g.reset_index(['date'])"
   ]
  },
  {
   "cell_type": "code",
   "execution_count": 25,
   "id": "incomplete-mustang",
   "metadata": {
    "execution": {
     "iopub.execute_input": "2021-03-29T12:04:15.856821Z",
     "iopub.status.busy": "2021-03-29T12:04:15.856062Z",
     "iopub.status.idle": "2021-03-29T12:04:15.858456Z",
     "shell.execute_reply": "2021-03-29T12:04:15.859048Z"
    },
    "papermill": {
     "duration": 0.044365,
     "end_time": "2021-03-29T12:04:15.859189",
     "exception": false,
     "start_time": "2021-03-29T12:04:15.814824",
     "status": "completed"
    },
    "tags": []
   },
   "outputs": [],
   "source": [
    "#hide\n",
    "# g.head()"
   ]
  },
  {
   "cell_type": "code",
   "execution_count": 26,
   "id": "specific-kruger",
   "metadata": {
    "execution": {
     "iopub.execute_input": "2021-03-29T12:04:15.937300Z",
     "iopub.status.busy": "2021-03-29T12:04:15.936733Z",
     "iopub.status.idle": "2021-03-29T12:04:15.938025Z",
     "shell.execute_reply": "2021-03-29T12:04:15.938561Z"
    },
    "papermill": {
     "duration": 0.04154,
     "end_time": "2021-03-29T12:04:15.938688",
     "exception": false,
     "start_time": "2021-03-29T12:04:15.897148",
     "status": "completed"
    },
    "tags": []
   },
   "outputs": [],
   "source": [
    "#hide\n",
    "# g.columns = ['date','country','cases']"
   ]
  },
  {
   "cell_type": "code",
   "execution_count": 27,
   "id": "tender-conversion",
   "metadata": {
    "execution": {
     "iopub.execute_input": "2021-03-29T12:04:16.017055Z",
     "iopub.status.busy": "2021-03-29T12:04:16.016445Z",
     "iopub.status.idle": "2021-03-29T12:04:16.018414Z",
     "shell.execute_reply": "2021-03-29T12:04:16.018939Z"
    },
    "papermill": {
     "duration": 0.043592,
     "end_time": "2021-03-29T12:04:16.019073",
     "exception": false,
     "start_time": "2021-03-29T12:04:15.975481",
     "status": "completed"
    },
    "tags": []
   },
   "outputs": [],
   "source": [
    "#hide\n",
    "# g['continent'] = g.country"
   ]
  },
  {
   "cell_type": "code",
   "execution_count": 28,
   "id": "substantial-wilderness",
   "metadata": {
    "execution": {
     "iopub.execute_input": "2021-03-29T12:04:16.095030Z",
     "iopub.status.busy": "2021-03-29T12:04:16.094482Z",
     "iopub.status.idle": "2021-03-29T12:04:16.096832Z",
     "shell.execute_reply": "2021-03-29T12:04:16.096371Z"
    },
    "papermill": {
     "duration": 0.041926,
     "end_time": "2021-03-29T12:04:16.096943",
     "exception": false,
     "start_time": "2021-03-29T12:04:16.055017",
     "status": "completed"
    },
    "tags": []
   },
   "outputs": [],
   "source": [
    "#hide\n",
    "# cols = list(g.columns.values)"
   ]
  },
  {
   "cell_type": "code",
   "execution_count": 29,
   "id": "solved-farming",
   "metadata": {
    "execution": {
     "iopub.execute_input": "2021-03-29T12:04:16.172461Z",
     "iopub.status.busy": "2021-03-29T12:04:16.171863Z",
     "iopub.status.idle": "2021-03-29T12:04:16.174212Z",
     "shell.execute_reply": "2021-03-29T12:04:16.173727Z"
    },
    "papermill": {
     "duration": 0.04106,
     "end_time": "2021-03-29T12:04:16.174327",
     "exception": false,
     "start_time": "2021-03-29T12:04:16.133267",
     "status": "completed"
    },
    "tags": []
   },
   "outputs": [],
   "source": [
    "#hide\n",
    "# cols.insert(0, cols.pop())"
   ]
  },
  {
   "cell_type": "code",
   "execution_count": 30,
   "id": "executed-adoption",
   "metadata": {
    "execution": {
     "iopub.execute_input": "2021-03-29T12:04:16.248961Z",
     "iopub.status.busy": "2021-03-29T12:04:16.248318Z",
     "iopub.status.idle": "2021-03-29T12:04:16.250862Z",
     "shell.execute_reply": "2021-03-29T12:04:16.250319Z"
    },
    "papermill": {
     "duration": 0.042192,
     "end_time": "2021-03-29T12:04:16.251031",
     "exception": false,
     "start_time": "2021-03-29T12:04:16.208839",
     "status": "completed"
    },
    "tags": []
   },
   "outputs": [],
   "source": [
    "#hide\n",
    "# g = g[cols]"
   ]
  },
  {
   "cell_type": "code",
   "execution_count": 31,
   "id": "subject-dublin",
   "metadata": {
    "execution": {
     "iopub.execute_input": "2021-03-29T12:04:16.331855Z",
     "iopub.status.busy": "2021-03-29T12:04:16.331254Z",
     "iopub.status.idle": "2021-03-29T12:04:16.333746Z",
     "shell.execute_reply": "2021-03-29T12:04:16.333186Z"
    },
    "papermill": {
     "duration": 0.042896,
     "end_time": "2021-03-29T12:04:16.333881",
     "exception": false,
     "start_time": "2021-03-29T12:04:16.290985",
     "status": "completed"
    },
    "tags": []
   },
   "outputs": [],
   "source": [
    "#hide\n",
    "# g['continent'] = g['continent'].map(mapping['map.continent'])"
   ]
  },
  {
   "cell_type": "code",
   "execution_count": 32,
   "id": "freelance-scout",
   "metadata": {
    "execution": {
     "iopub.execute_input": "2021-03-29T12:04:16.410159Z",
     "iopub.status.busy": "2021-03-29T12:04:16.409511Z",
     "iopub.status.idle": "2021-03-29T12:04:16.411945Z",
     "shell.execute_reply": "2021-03-29T12:04:16.411386Z"
    },
    "papermill": {
     "duration": 0.041882,
     "end_time": "2021-03-29T12:04:16.412054",
     "exception": false,
     "start_time": "2021-03-29T12:04:16.370172",
     "status": "completed"
    },
    "tags": []
   },
   "outputs": [],
   "source": [
    "#hide\n",
    "# g.head()"
   ]
  },
  {
   "cell_type": "code",
   "execution_count": 33,
   "id": "limited-engine",
   "metadata": {
    "execution": {
     "iopub.execute_input": "2021-03-29T12:04:16.489402Z",
     "iopub.status.busy": "2021-03-29T12:04:16.487832Z",
     "iopub.status.idle": "2021-03-29T12:04:16.490118Z",
     "shell.execute_reply": "2021-03-29T12:04:16.490638Z"
    },
    "papermill": {
     "duration": 0.041956,
     "end_time": "2021-03-29T12:04:16.490776",
     "exception": false,
     "start_time": "2021-03-29T12:04:16.448820",
     "status": "completed"
    },
    "tags": []
   },
   "outputs": [],
   "source": [
    "# hide\n",
    "# g['date'] = g['date'].astype('datetime64[ns]')"
   ]
  },
  {
   "cell_type": "code",
   "execution_count": 34,
   "id": "sophisticated-supervisor",
   "metadata": {
    "execution": {
     "iopub.execute_input": "2021-03-29T12:04:16.566107Z",
     "iopub.status.busy": "2021-03-29T12:04:16.565523Z",
     "iopub.status.idle": "2021-03-29T12:04:16.567963Z",
     "shell.execute_reply": "2021-03-29T12:04:16.567387Z"
    },
    "papermill": {
     "duration": 0.041272,
     "end_time": "2021-03-29T12:04:16.568080",
     "exception": false,
     "start_time": "2021-03-29T12:04:16.526808",
     "status": "completed"
    },
    "tags": []
   },
   "outputs": [],
   "source": [
    "#hide\n",
    "# g['date'] = g.date.dt.dayofyear"
   ]
  },
  {
   "cell_type": "code",
   "execution_count": 35,
   "id": "inside-dubai",
   "metadata": {
    "execution": {
     "iopub.execute_input": "2021-03-29T12:04:16.644822Z",
     "iopub.status.busy": "2021-03-29T12:04:16.644167Z",
     "iopub.status.idle": "2021-03-29T12:04:16.646639Z",
     "shell.execute_reply": "2021-03-29T12:04:16.646126Z"
    },
    "papermill": {
     "duration": 0.043652,
     "end_time": "2021-03-29T12:04:16.646761",
     "exception": false,
     "start_time": "2021-03-29T12:04:16.603109",
     "status": "completed"
    },
    "tags": []
   },
   "outputs": [],
   "source": [
    "#hide\n",
    "# g = g.rename(columns= {'continent':'group','country':'name','cases':'value'})"
   ]
  },
  {
   "cell_type": "code",
   "execution_count": 36,
   "id": "fleet-motorcycle",
   "metadata": {
    "execution": {
     "iopub.execute_input": "2021-03-29T12:04:16.721176Z",
     "iopub.status.busy": "2021-03-29T12:04:16.720543Z",
     "iopub.status.idle": "2021-03-29T12:04:16.723145Z",
     "shell.execute_reply": "2021-03-29T12:04:16.722339Z"
    },
    "papermill": {
     "duration": 0.040785,
     "end_time": "2021-03-29T12:04:16.723286",
     "exception": false,
     "start_time": "2021-03-29T12:04:16.682501",
     "status": "completed"
    },
    "tags": []
   },
   "outputs": [],
   "source": [
    "#hide\n",
    "# cols = ['name','group','day','value']"
   ]
  },
  {
   "cell_type": "code",
   "execution_count": 37,
   "id": "continued-sleeping",
   "metadata": {
    "execution": {
     "iopub.execute_input": "2021-03-29T12:04:16.798453Z",
     "iopub.status.busy": "2021-03-29T12:04:16.797820Z",
     "iopub.status.idle": "2021-03-29T12:04:16.799644Z",
     "shell.execute_reply": "2021-03-29T12:04:16.800224Z"
    },
    "papermill": {
     "duration": 0.041297,
     "end_time": "2021-03-29T12:04:16.800355",
     "exception": false,
     "start_time": "2021-03-29T12:04:16.759058",
     "status": "completed"
    },
    "tags": []
   },
   "outputs": [],
   "source": [
    "#hide\n",
    "# g.rename(columns= {'date':'day'},inplace = True)"
   ]
  },
  {
   "cell_type": "code",
   "execution_count": 38,
   "id": "major-fight",
   "metadata": {
    "execution": {
     "iopub.execute_input": "2021-03-29T12:04:16.878477Z",
     "iopub.status.busy": "2021-03-29T12:04:16.877884Z",
     "iopub.status.idle": "2021-03-29T12:04:16.880290Z",
     "shell.execute_reply": "2021-03-29T12:04:16.879829Z"
    },
    "papermill": {
     "duration": 0.042306,
     "end_time": "2021-03-29T12:04:16.880401",
     "exception": false,
     "start_time": "2021-03-29T12:04:16.838095",
     "status": "completed"
    },
    "tags": []
   },
   "outputs": [],
   "source": [
    "#hide\n",
    "# g = g[cols]"
   ]
  },
  {
   "cell_type": "code",
   "execution_count": 39,
   "id": "structured-mobile",
   "metadata": {
    "execution": {
     "iopub.execute_input": "2021-03-29T12:04:16.955243Z",
     "iopub.status.busy": "2021-03-29T12:04:16.954663Z",
     "iopub.status.idle": "2021-03-29T12:04:16.956967Z",
     "shell.execute_reply": "2021-03-29T12:04:16.956502Z"
    },
    "papermill": {
     "duration": 0.040925,
     "end_time": "2021-03-29T12:04:16.957153",
     "exception": false,
     "start_time": "2021-03-29T12:04:16.916228",
     "status": "completed"
    },
    "tags": []
   },
   "outputs": [],
   "source": [
    "# #hide\n",
    "# g = g[g.group.notna()]"
   ]
  },
  {
   "cell_type": "code",
   "execution_count": 40,
   "id": "determined-closing",
   "metadata": {
    "execution": {
     "iopub.execute_input": "2021-03-29T12:04:17.031972Z",
     "iopub.status.busy": "2021-03-29T12:04:17.031322Z",
     "iopub.status.idle": "2021-03-29T12:04:17.033249Z",
     "shell.execute_reply": "2021-03-29T12:04:17.033856Z"
    },
    "papermill": {
     "duration": 0.040927,
     "end_time": "2021-03-29T12:04:17.033992",
     "exception": false,
     "start_time": "2021-03-29T12:04:16.993065",
     "status": "completed"
    },
    "tags": []
   },
   "outputs": [],
   "source": [
    "# #hide\n",
    "# colors = dict(zip(\n",
    "#     [\"Oceania\", \"Europe\", \"Asia\", \"South America\", \"Middle East\", \"North America\", \"Africa\"],\n",
    "#     [\"#adb0ff\", \"#ffb3ff\", \"#90d595\", \"#e48381\", \"#aafbff\", \"#f7bb5f\", \"#eafb50\"]\n",
    "# ))\n",
    "# group_lk = g.set_index('name')['group'].to_dict()"
   ]
  },
  {
   "cell_type": "code",
   "execution_count": null,
   "id": "gross-drinking",
   "metadata": {
    "papermill": {
     "duration": 0.038559,
     "end_time": "2021-03-29T12:04:17.108442",
     "exception": false,
     "start_time": "2021-03-29T12:04:17.069883",
     "status": "completed"
    },
    "tags": []
   },
   "outputs": [],
   "source": []
  },
  {
   "cell_type": "code",
   "execution_count": 41,
   "id": "subject-macintosh",
   "metadata": {
    "execution": {
     "iopub.execute_input": "2021-03-29T12:04:17.187196Z",
     "iopub.status.busy": "2021-03-29T12:04:17.186554Z",
     "iopub.status.idle": "2021-03-29T12:04:17.188910Z",
     "shell.execute_reply": "2021-03-29T12:04:17.188389Z"
    },
    "papermill": {
     "duration": 0.044716,
     "end_time": "2021-03-29T12:04:17.189035",
     "exception": false,
     "start_time": "2021-03-29T12:04:17.144319",
     "status": "completed"
    },
    "tags": []
   },
   "outputs": [],
   "source": [
    "# #hide\n",
    "# fig, ax = plt.subplots(figsize=(15, 8))\n",
    "\n",
    "# def draw_barchart(current_day):\n",
    "#     dff = g[g['day'].eq(current_day)].sort_values(by='value', ascending=True).tail(10)\n",
    "#     ax.clear()\n",
    "#     ax.barh(dff['name'], dff['value'], color=[colors[group_lk[x]] for x in dff['name']])\n",
    "#     dx = dff['value'].max() / 200\n",
    "    \n",
    "#     for i, (value, name) in enumerate(zip(dff['value'], dff['name'])):\n",
    "#         ax.text(value-dx, i,     name,           size=14, weight=600, ha='right', va='bottom')\n",
    "#         ax.text(value-dx, i-.25, group_lk[name], size=10, color='#444444', ha='right', va='baseline')\n",
    "#         ax.text(value+dx, i,     f'{value:,.0f}',  size=14, ha='left',  va='center')\n",
    "#     ax.text(1, 0.4, current_day, transform=ax.transAxes, color='#777777', size=46, ha='right', weight=800)\n",
    "#     ax.text(0, 1.06, 'Population (thousands)', transform=ax.transAxes, size=12, color='#777777')\n",
    "#     ax.xaxis.set_major_formatter(ticker.StrMethodFormatter('{x:,.0f}'))\n",
    "#     ax.xaxis.set_ticks_position('top')\n",
    "#     ax.tick_params(axis='x', colors='#777777', labelsize=12)\n",
    "#     ax.set_yticks([])\n",
    "#     ax.margins(0, 0.01)\n",
    "#     ax.grid(which='major', axis='x', linestyle='-')\n",
    "#     ax.set_axisbelow(True)\n",
    "    \n",
    "#     ax.text(0, 1.15, 'Coronavirus',\n",
    "#             transform=ax.transAxes, size=24, weight=600, ha='left', va='top')\n",
    "# #     ax.text(1, 0, 'by @pratapvardhan; credit @jburnmurdoch', transform=ax.transAxes, color='#777777', ha='right',\n",
    "# #             bbox=dict(facecolor='white', alpha=0.8, edgecolor='white'))\n",
    "#     plt.box(False)"
   ]
  },
  {
   "cell_type": "code",
   "execution_count": 42,
   "id": "sexual-wages",
   "metadata": {
    "execution": {
     "iopub.execute_input": "2021-03-29T12:04:17.259986Z",
     "iopub.status.busy": "2021-03-29T12:04:17.259444Z",
     "iopub.status.idle": "2021-03-29T12:04:17.261186Z",
     "shell.execute_reply": "2021-03-29T12:04:17.261675Z"
    },
    "papermill": {
     "duration": 0.038552,
     "end_time": "2021-03-29T12:04:17.261800",
     "exception": false,
     "start_time": "2021-03-29T12:04:17.223248",
     "status": "completed"
    },
    "tags": []
   },
   "outputs": [],
   "source": [
    "# #hide_input\n",
    "# fig, ax = plt.subplots(figsize=(15, 8))\n",
    "# animator = animation.FuncAnimation(fig, draw_barchart, frames=range(g.day.values.min(), g.day.values.max()))\n",
    "# HTML(animator.to_jshtml())\n",
    "# # or use animator.to_html5_video() or animator.save() "
   ]
  },
  {
   "cell_type": "code",
   "execution_count": null,
   "id": "australian-container",
   "metadata": {
    "papermill": {
     "duration": 0.03447,
     "end_time": "2021-03-29T12:04:17.337130",
     "exception": false,
     "start_time": "2021-03-29T12:04:17.302660",
     "status": "completed"
    },
    "tags": []
   },
   "outputs": [],
   "source": []
  },
  {
   "cell_type": "code",
   "execution_count": null,
   "id": "mediterranean-pontiac",
   "metadata": {
    "papermill": {
     "duration": 0.033603,
     "end_time": "2021-03-29T12:04:17.404766",
     "exception": false,
     "start_time": "2021-03-29T12:04:17.371163",
     "status": "completed"
    },
    "tags": []
   },
   "outputs": [],
   "source": []
  },
  {
   "cell_type": "code",
   "execution_count": null,
   "id": "aging-legislature",
   "metadata": {
    "papermill": {
     "duration": 0.033864,
     "end_time": "2021-03-29T12:04:17.472635",
     "exception": false,
     "start_time": "2021-03-29T12:04:17.438771",
     "status": "completed"
    },
    "tags": []
   },
   "outputs": [],
   "source": []
  }
 ],
 "metadata": {
  "kernelspec": {
   "display_name": "Python 3",
   "language": "python",
   "name": "python3"
  },
  "language_info": {
   "codemirror_mode": {
    "name": "ipython",
    "version": 3
   },
   "file_extension": ".py",
   "mimetype": "text/x-python",
   "name": "python",
   "nbconvert_exporter": "python",
   "pygments_lexer": "ipython3",
   "version": "3.6.13"
  },
  "papermill": {
   "duration": 7.04873,
   "end_time": "2021-03-29T12:04:17.813374",
   "environment_variables": {},
   "exception": null,
   "input_path": "2020-03-21-covid19exp.ipynb",
   "output_path": "2020-03-21-covid19exp.ipynb",
   "parameters": {},
   "start_time": "2021-03-29T12:04:10.764644",
   "version": "2.0.0"
  }
 },
 "nbformat": 4,
 "nbformat_minor": 5
}