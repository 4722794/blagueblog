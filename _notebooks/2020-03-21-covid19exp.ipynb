{
 "cells": [
  {
   "cell_type": "markdown",
   "id": "muslim-click",
   "metadata": {
    "papermill": {
     "duration": 0.045227,
     "end_time": "2021-09-01T12:11:17.477995",
     "exception": false,
     "start_time": "2021-09-01T12:11:17.432768",
     "status": "completed"
    },
    "tags": []
   },
   "source": [
    "# COVID-19 Case Race\n",
    "> A race chart to see rising cases around the world\n",
    "\n",
    "- author: Hargun Oberoi\n",
    "- image: images/covid-overview.png\n",
    "- hide: false\n",
    "- badges: false"
   ]
  },
  {
   "cell_type": "code",
   "execution_count": 1,
   "id": "proof-material",
   "metadata": {
    "execution": {
     "iopub.execute_input": "2021-09-01T12:11:17.570885Z",
     "iopub.status.busy": "2021-09-01T12:11:17.568039Z",
     "iopub.status.idle": "2021-09-01T12:11:18.004078Z",
     "shell.execute_reply": "2021-09-01T12:11:18.003553Z"
    },
    "papermill": {
     "duration": 0.486218,
     "end_time": "2021-09-01T12:11:18.004225",
     "exception": false,
     "start_time": "2021-09-01T12:11:17.518007",
     "status": "completed"
    },
    "tags": []
   },
   "outputs": [],
   "source": [
    "#hide\n",
    "import numpy as np\n",
    "import pandas as pd\n",
    "from jinja2 import Template\n",
    "from IPython.display import HTML"
   ]
  },
  {
   "cell_type": "code",
   "execution_count": 2,
   "id": "developed-terminology",
   "metadata": {
    "execution": {
     "iopub.execute_input": "2021-09-01T12:11:18.086534Z",
     "iopub.status.busy": "2021-09-01T12:11:18.085919Z",
     "iopub.status.idle": "2021-09-01T12:11:18.088098Z",
     "shell.execute_reply": "2021-09-01T12:11:18.088575Z"
    },
    "papermill": {
     "duration": 0.045137,
     "end_time": "2021-09-01T12:11:18.088721",
     "exception": false,
     "start_time": "2021-09-01T12:11:18.043584",
     "status": "completed"
    },
    "tags": []
   },
   "outputs": [],
   "source": [
    "#hide\n",
    "\n",
    "# FETCH\n",
    "base_url = 'https://raw.githubusercontent.com/pratapvardhan/notebooks/master/covid19/'\n",
    "paths = {\n",
    "    'mapping': base_url + 'mapping_countries.csv',\n",
    "    'overview': base_url + 'overview.tpl'\n",
    "}"
   ]
  },
  {
   "cell_type": "code",
   "execution_count": 3,
   "id": "dynamic-saver",
   "metadata": {
    "execution": {
     "iopub.execute_input": "2021-09-01T12:11:18.183947Z",
     "iopub.status.busy": "2021-09-01T12:11:18.183191Z",
     "iopub.status.idle": "2021-09-01T12:11:18.187073Z",
     "shell.execute_reply": "2021-09-01T12:11:18.186537Z"
    },
    "papermill": {
     "duration": 0.058443,
     "end_time": "2021-09-01T12:11:18.187206",
     "exception": false,
     "start_time": "2021-09-01T12:11:18.128763",
     "status": "completed"
    },
    "tags": []
   },
   "outputs": [
    {
     "data": {
      "text/plain": [
       "'https://raw.githubusercontent.com/pratapvardhan/notebooks/master/covid19/mapping_countries.csv'"
      ]
     },
     "execution_count": 3,
     "metadata": {},
     "output_type": "execute_result"
    }
   ],
   "source": [
    "#hide\n",
    "paths['mapping']"
   ]
  },
  {
   "cell_type": "code",
   "execution_count": 4,
   "id": "urban-software",
   "metadata": {
    "execution": {
     "iopub.execute_input": "2021-09-01T12:11:18.277725Z",
     "iopub.status.busy": "2021-09-01T12:11:18.277025Z",
     "iopub.status.idle": "2021-09-01T12:11:18.279694Z",
     "shell.execute_reply": "2021-09-01T12:11:18.278985Z"
    },
    "papermill": {
     "duration": 0.051144,
     "end_time": "2021-09-01T12:11:18.279843",
     "exception": false,
     "start_time": "2021-09-01T12:11:18.228699",
     "status": "completed"
    },
    "tags": []
   },
   "outputs": [],
   "source": [
    "#hide\n",
    "def get_mappings(url):\n",
    "    df = pd.read_csv(url)\n",
    "    return {\n",
    "        'df': df,\n",
    "        'replace.country': dict(df.dropna(subset=['Name']).set_index('Country')['Name']),\n",
    "        'map.continent': dict(df.set_index('Name')['Continent'])\n",
    "    }"
   ]
  },
  {
   "cell_type": "code",
   "execution_count": 5,
   "id": "intimate-machinery",
   "metadata": {
    "execution": {
     "iopub.execute_input": "2021-09-01T12:11:18.367114Z",
     "iopub.status.busy": "2021-09-01T12:11:18.366362Z",
     "iopub.status.idle": "2021-09-01T12:11:18.402057Z",
     "shell.execute_reply": "2021-09-01T12:11:18.401440Z"
    },
    "papermill": {
     "duration": 0.081102,
     "end_time": "2021-09-01T12:11:18.402199",
     "exception": false,
     "start_time": "2021-09-01T12:11:18.321097",
     "status": "completed"
    },
    "tags": []
   },
   "outputs": [],
   "source": [
    "#hide\n",
    "mapping = get_mappings(paths['mapping'])"
   ]
  },
  {
   "cell_type": "code",
   "execution_count": 6,
   "id": "certified-tactics",
   "metadata": {
    "execution": {
     "iopub.execute_input": "2021-09-01T12:11:18.488993Z",
     "iopub.status.busy": "2021-09-01T12:11:18.488309Z",
     "iopub.status.idle": "2021-09-01T12:11:18.490937Z",
     "shell.execute_reply": "2021-09-01T12:11:18.490152Z"
    },
    "papermill": {
     "duration": 0.049121,
     "end_time": "2021-09-01T12:11:18.491069",
     "exception": false,
     "start_time": "2021-09-01T12:11:18.441948",
     "status": "completed"
    },
    "tags": []
   },
   "outputs": [],
   "source": [
    "#hide\n",
    "def get_template(path):\n",
    "    from urllib.parse import urlparse\n",
    "    if bool(urlparse(path).netloc):\n",
    "        from urllib.request import urlopen\n",
    "        return urlopen(path).read().decode('utf8')\n",
    "    return open(path).read()"
   ]
  },
  {
   "cell_type": "code",
   "execution_count": 7,
   "id": "realistic-blast",
   "metadata": {
    "execution": {
     "iopub.execute_input": "2021-09-01T12:11:18.576856Z",
     "iopub.status.busy": "2021-09-01T12:11:18.576097Z",
     "iopub.status.idle": "2021-09-01T12:11:18.578903Z",
     "shell.execute_reply": "2021-09-01T12:11:18.578299Z"
    },
    "papermill": {
     "duration": 0.049105,
     "end_time": "2021-09-01T12:11:18.579037",
     "exception": false,
     "start_time": "2021-09-01T12:11:18.529932",
     "status": "completed"
    },
    "tags": []
   },
   "outputs": [],
   "source": [
    "#hide\n",
    "def get_frame(name):\n",
    "    url = (\n",
    "        'https://raw.githubusercontent.com/CSSEGISandData/COVID-19/master/csse_covid_19_data/'\n",
    "        f'csse_covid_19_time_series/time_series_covid19_{name}_global.csv')\n",
    "    df = pd.read_csv(url)\n",
    "    # rename countries\n",
    "    df['Country/Region'] = df['Country/Region'].replace(mapping['replace.country'])\n",
    "    return df"
   ]
  },
  {
   "cell_type": "code",
   "execution_count": 8,
   "id": "affiliated-characterization",
   "metadata": {
    "execution": {
     "iopub.execute_input": "2021-09-01T12:11:18.665788Z",
     "iopub.status.busy": "2021-09-01T12:11:18.665067Z",
     "iopub.status.idle": "2021-09-01T12:11:18.666617Z",
     "shell.execute_reply": "2021-09-01T12:11:18.667204Z"
    },
    "papermill": {
     "duration": 0.050494,
     "end_time": "2021-09-01T12:11:18.667371",
     "exception": false,
     "start_time": "2021-09-01T12:11:18.616877",
     "status": "completed"
    },
    "tags": []
   },
   "outputs": [],
   "source": [
    "#hide\n",
    "def get_dates(df):\n",
    "    dt_cols = df.columns[~df.columns.isin(['Province/State', 'Country/Region', 'Lat', 'Long'])]\n",
    "    LAST_DATE_I = -1\n",
    "    # sometimes last column may be empty, then go backwards\n",
    "    for i in range(-1, -len(dt_cols), -1):\n",
    "        if not df[dt_cols[i]].fillna(0).eq(0).all():\n",
    "            LAST_DATE_I = i\n",
    "            break\n",
    "    return LAST_DATE_I, dt_cols"
   ]
  },
  {
   "cell_type": "code",
   "execution_count": 9,
   "id": "recent-optimization",
   "metadata": {
    "execution": {
     "iopub.execute_input": "2021-09-01T12:11:18.751359Z",
     "iopub.status.busy": "2021-09-01T12:11:18.750696Z",
     "iopub.status.idle": "2021-09-01T12:11:19.132826Z",
     "shell.execute_reply": "2021-09-01T12:11:19.132246Z"
    },
    "papermill": {
     "duration": 0.42663,
     "end_time": "2021-09-01T12:11:19.132970",
     "exception": false,
     "start_time": "2021-09-01T12:11:18.706340",
     "status": "completed"
    },
    "tags": []
   },
   "outputs": [],
   "source": [
    "#hide\n",
    "COL_REGION = 'Country/Region'\n",
    "# Confirmed, Recovered, Deaths\n",
    "df = get_frame('confirmed')\n",
    "# dft_: timeseries, dfc_: today country agg\n",
    "dft_cases = df\n",
    "dft_deaths = get_frame('deaths')\n",
    "dft_recovered = get_frame('recovered')\n",
    "LAST_DATE_I, dt_cols = get_dates(df)"
   ]
  },
  {
   "cell_type": "code",
   "execution_count": 10,
   "id": "absolute-copper",
   "metadata": {
    "execution": {
     "iopub.execute_input": "2021-09-01T12:11:19.223976Z",
     "iopub.status.busy": "2021-09-01T12:11:19.223336Z",
     "iopub.status.idle": "2021-09-01T12:11:19.225940Z",
     "shell.execute_reply": "2021-09-01T12:11:19.225236Z"
    },
    "papermill": {
     "duration": 0.050537,
     "end_time": "2021-09-01T12:11:19.226138",
     "exception": false,
     "start_time": "2021-09-01T12:11:19.175601",
     "status": "completed"
    },
    "tags": []
   },
   "outputs": [],
   "source": [
    "#hide\n",
    "LAST_DATE_I, dt_cols = get_dates(df)\n",
    "dt_today =dt_cols[LAST_DATE_I]\n",
    "# dt_5day = dt_cols[LAST_DATE_I - 5]\n",
    "dt_yday = dt_cols[LAST_DATE_I - 1]"
   ]
  },
  {
   "cell_type": "code",
   "execution_count": 11,
   "id": "restricted-sheriff",
   "metadata": {
    "execution": {
     "iopub.execute_input": "2021-09-01T12:11:19.312896Z",
     "iopub.status.busy": "2021-09-01T12:11:19.312246Z",
     "iopub.status.idle": "2021-09-01T12:11:19.322188Z",
     "shell.execute_reply": "2021-09-01T12:11:19.321582Z"
    },
    "papermill": {
     "duration": 0.055265,
     "end_time": "2021-09-01T12:11:19.322356",
     "exception": false,
     "start_time": "2021-09-01T12:11:19.267091",
     "status": "completed"
    },
    "tags": []
   },
   "outputs": [],
   "source": [
    "#hide\n",
    "dfc_cases = dft_cases.groupby(COL_REGION)[dt_today].sum()\n",
    "dfc_deaths = dft_deaths.groupby(COL_REGION)[dt_today].sum()\n",
    "# dfp_cases = dft_cases.groupby(COL_REGION)[dt_5day].sum()\n",
    "# dfp_deaths = dft_deaths.groupby(COL_REGION)[dt_5day].sum()\n",
    "dfp_cases = dft_cases.groupby(COL_REGION)[dt_yday].sum()\n",
    "dfp_deaths = dft_deaths.groupby(COL_REGION)[dt_yday].sum()"
   ]
  },
  {
   "cell_type": "code",
   "execution_count": 12,
   "id": "deluxe-hepatitis",
   "metadata": {
    "execution": {
     "iopub.execute_input": "2021-09-01T12:11:19.410970Z",
     "iopub.status.busy": "2021-09-01T12:11:19.410177Z",
     "iopub.status.idle": "2021-09-01T12:11:19.416393Z",
     "shell.execute_reply": "2021-09-01T12:11:19.415855Z"
    },
    "papermill": {
     "duration": 0.055279,
     "end_time": "2021-09-01T12:11:19.416522",
     "exception": false,
     "start_time": "2021-09-01T12:11:19.361243",
     "status": "completed"
    },
    "tags": []
   },
   "outputs": [],
   "source": [
    "#hide\n",
    "df_table = (pd.DataFrame(dict(Cases = dfc_cases, Deaths = dfc_deaths, PCases = dfp_cases, PDeaths = dfp_deaths))\n",
    "            .sort_values(by = ['Cases','Deaths'], ascending = [False, False])\n",
    "            .reset_index())"
   ]
  },
  {
   "cell_type": "code",
   "execution_count": 13,
   "id": "educational-chancellor",
   "metadata": {
    "execution": {
     "iopub.execute_input": "2021-09-01T12:11:19.521623Z",
     "iopub.status.busy": "2021-09-01T12:11:19.520935Z",
     "iopub.status.idle": "2021-09-01T12:11:19.529984Z",
     "shell.execute_reply": "2021-09-01T12:11:19.529428Z"
    },
    "papermill": {
     "duration": 0.071246,
     "end_time": "2021-09-01T12:11:19.530113",
     "exception": false,
     "start_time": "2021-09-01T12:11:19.458867",
     "status": "completed"
    },
    "tags": []
   },
   "outputs": [
    {
     "data": {
      "text/html": [
       "<div>\n",
       "<style scoped>\n",
       "    .dataframe tbody tr th:only-of-type {\n",
       "        vertical-align: middle;\n",
       "    }\n",
       "\n",
       "    .dataframe tbody tr th {\n",
       "        vertical-align: top;\n",
       "    }\n",
       "\n",
       "    .dataframe thead th {\n",
       "        text-align: right;\n",
       "    }\n",
       "</style>\n",
       "<table border=\"1\" class=\"dataframe\">\n",
       "  <thead>\n",
       "    <tr style=\"text-align: right;\">\n",
       "      <th></th>\n",
       "      <th>Country/Region</th>\n",
       "      <th>Cases</th>\n",
       "      <th>Deaths</th>\n",
       "      <th>PCases</th>\n",
       "      <th>PDeaths</th>\n",
       "      <th>Cases (+)</th>\n",
       "      <th>Deaths (+)</th>\n",
       "      <th>Fatality Rate</th>\n",
       "      <th>Continent</th>\n",
       "    </tr>\n",
       "  </thead>\n",
       "  <tbody>\n",
       "    <tr>\n",
       "      <th>0</th>\n",
       "      <td>US</td>\n",
       "      <td>39198072</td>\n",
       "      <td>640108</td>\n",
       "      <td>39057368</td>\n",
       "      <td>638711</td>\n",
       "      <td>140704</td>\n",
       "      <td>1397</td>\n",
       "      <td>1.63</td>\n",
       "      <td>North America</td>\n",
       "    </tr>\n",
       "    <tr>\n",
       "      <th>1</th>\n",
       "      <td>India</td>\n",
       "      <td>32810845</td>\n",
       "      <td>439020</td>\n",
       "      <td>32768880</td>\n",
       "      <td>438560</td>\n",
       "      <td>41965</td>\n",
       "      <td>460</td>\n",
       "      <td>1.34</td>\n",
       "      <td>Asia</td>\n",
       "    </tr>\n",
       "    <tr>\n",
       "      <th>2</th>\n",
       "      <td>Brazil</td>\n",
       "      <td>20776870</td>\n",
       "      <td>580413</td>\n",
       "      <td>20752281</td>\n",
       "      <td>579574</td>\n",
       "      <td>24589</td>\n",
       "      <td>839</td>\n",
       "      <td>2.79</td>\n",
       "      <td>South America</td>\n",
       "    </tr>\n",
       "    <tr>\n",
       "      <th>3</th>\n",
       "      <td>France</td>\n",
       "      <td>6834858</td>\n",
       "      <td>114638</td>\n",
       "      <td>6834834</td>\n",
       "      <td>114620</td>\n",
       "      <td>24</td>\n",
       "      <td>18</td>\n",
       "      <td>1.68</td>\n",
       "      <td>Europe</td>\n",
       "    </tr>\n",
       "    <tr>\n",
       "      <th>4</th>\n",
       "      <td>United Kingdom</td>\n",
       "      <td>6821356</td>\n",
       "      <td>132859</td>\n",
       "      <td>6789189</td>\n",
       "      <td>132808</td>\n",
       "      <td>32167</td>\n",
       "      <td>51</td>\n",
       "      <td>1.95</td>\n",
       "      <td>Europe</td>\n",
       "    </tr>\n",
       "  </tbody>\n",
       "</table>\n",
       "</div>"
      ],
      "text/plain": [
       "   Country/Region     Cases  Deaths    PCases  PDeaths  Cases (+)  Deaths (+)  \\\n",
       "0              US  39198072  640108  39057368   638711     140704        1397   \n",
       "1           India  32810845  439020  32768880   438560      41965         460   \n",
       "2          Brazil  20776870  580413  20752281   579574      24589         839   \n",
       "3          France   6834858  114638   6834834   114620         24          18   \n",
       "4  United Kingdom   6821356  132859   6789189   132808      32167          51   \n",
       "\n",
       "   Fatality Rate      Continent  \n",
       "0           1.63  North America  \n",
       "1           1.34           Asia  \n",
       "2           2.79  South America  \n",
       "3           1.68         Europe  \n",
       "4           1.95         Europe  "
      ]
     },
     "execution_count": 13,
     "metadata": {},
     "output_type": "execute_result"
    }
   ],
   "source": [
    "#hide\n",
    "for c in 'Cases, Deaths'.split(', '):\n",
    "    df_table[f'{c} (+)'] = (df_table[c] - df_table[f'P{c}']).clip(0)\n",
    "    #Clip ça veut dire, les chiffres negatif sont interdit\n",
    "df_table['Fatality Rate'] = (100* df_table['Deaths']/ df_table['Cases']).round(2)\n",
    "df_table['Continent'] = df_table['Country/Region'].map(mapping['map.continent'])\n",
    "df_table.head(5)"
   ]
  },
  {
   "cell_type": "code",
   "execution_count": 14,
   "id": "aboriginal-bulgaria",
   "metadata": {
    "execution": {
     "iopub.execute_input": "2021-09-01T12:11:19.617606Z",
     "iopub.status.busy": "2021-09-01T12:11:19.616928Z",
     "iopub.status.idle": "2021-09-01T12:11:19.619929Z",
     "shell.execute_reply": "2021-09-01T12:11:19.619377Z"
    },
    "papermill": {
     "duration": 0.050088,
     "end_time": "2021-09-01T12:11:19.620069",
     "exception": false,
     "start_time": "2021-09-01T12:11:19.569981",
     "status": "completed"
    },
    "tags": []
   },
   "outputs": [],
   "source": [
    "#hide\n",
    "#delete problematic countries from table\n",
    "df_table = df_table[~df_table['Country/Region'].isin(['Cape Verde', 'Cruise Ship', 'Kosovo'])]"
   ]
  },
  {
   "cell_type": "code",
   "execution_count": 15,
   "id": "fantastic-effect",
   "metadata": {
    "execution": {
     "iopub.execute_input": "2021-09-01T12:11:19.711290Z",
     "iopub.status.busy": "2021-09-01T12:11:19.710683Z",
     "iopub.status.idle": "2021-09-01T12:11:19.736249Z",
     "shell.execute_reply": "2021-09-01T12:11:19.735751Z"
    },
    "papermill": {
     "duration": 0.075039,
     "end_time": "2021-09-01T12:11:19.736379",
     "exception": false,
     "start_time": "2021-09-01T12:11:19.661340",
     "status": "completed"
    },
    "tags": []
   },
   "outputs": [
    {
     "data": {
      "text/html": [
       "<div>\n",
       "<style scoped>\n",
       "    .dataframe tbody tr th:only-of-type {\n",
       "        vertical-align: middle;\n",
       "    }\n",
       "\n",
       "    .dataframe tbody tr th {\n",
       "        vertical-align: top;\n",
       "    }\n",
       "\n",
       "    .dataframe thead th {\n",
       "        text-align: right;\n",
       "    }\n",
       "</style>\n",
       "<table border=\"1\" class=\"dataframe\">\n",
       "  <thead>\n",
       "    <tr style=\"text-align: right;\">\n",
       "      <th></th>\n",
       "      <th>Country/Region</th>\n",
       "      <th>Cases</th>\n",
       "      <th>Deaths</th>\n",
       "      <th>PCases</th>\n",
       "      <th>PDeaths</th>\n",
       "      <th>Cases (+)</th>\n",
       "      <th>Deaths (+)</th>\n",
       "      <th>Fatality Rate</th>\n",
       "      <th>Continent</th>\n",
       "    </tr>\n",
       "  </thead>\n",
       "  <tbody>\n",
       "    <tr>\n",
       "      <th>0</th>\n",
       "      <td>US</td>\n",
       "      <td>39198072</td>\n",
       "      <td>640108</td>\n",
       "      <td>39057368</td>\n",
       "      <td>638711</td>\n",
       "      <td>140704</td>\n",
       "      <td>1397</td>\n",
       "      <td>1.6</td>\n",
       "      <td>North America</td>\n",
       "    </tr>\n",
       "    <tr>\n",
       "      <th>1</th>\n",
       "      <td>India</td>\n",
       "      <td>32810845</td>\n",
       "      <td>439020</td>\n",
       "      <td>32768880</td>\n",
       "      <td>438560</td>\n",
       "      <td>41965</td>\n",
       "      <td>460</td>\n",
       "      <td>1.3</td>\n",
       "      <td>Asia</td>\n",
       "    </tr>\n",
       "    <tr>\n",
       "      <th>2</th>\n",
       "      <td>Brazil</td>\n",
       "      <td>20776870</td>\n",
       "      <td>580413</td>\n",
       "      <td>20752281</td>\n",
       "      <td>579574</td>\n",
       "      <td>24589</td>\n",
       "      <td>839</td>\n",
       "      <td>2.8</td>\n",
       "      <td>South America</td>\n",
       "    </tr>\n",
       "    <tr>\n",
       "      <th>3</th>\n",
       "      <td>France</td>\n",
       "      <td>6834858</td>\n",
       "      <td>114638</td>\n",
       "      <td>6834834</td>\n",
       "      <td>114620</td>\n",
       "      <td>24</td>\n",
       "      <td>18</td>\n",
       "      <td>1.7</td>\n",
       "      <td>Europe</td>\n",
       "    </tr>\n",
       "    <tr>\n",
       "      <th>4</th>\n",
       "      <td>United Kingdom</td>\n",
       "      <td>6821356</td>\n",
       "      <td>132859</td>\n",
       "      <td>6789189</td>\n",
       "      <td>132808</td>\n",
       "      <td>32167</td>\n",
       "      <td>51</td>\n",
       "      <td>1.9</td>\n",
       "      <td>Europe</td>\n",
       "    </tr>\n",
       "  </tbody>\n",
       "</table>\n",
       "</div>"
      ],
      "text/plain": [
       "   Country/Region     Cases  Deaths    PCases  PDeaths  Cases (+)  Deaths (+)  \\\n",
       "0              US  39198072  640108  39057368   638711     140704        1397   \n",
       "1           India  32810845  439020  32768880   438560      41965         460   \n",
       "2          Brazil  20776870  580413  20752281   579574      24589         839   \n",
       "3          France   6834858  114638   6834834   114620         24          18   \n",
       "4  United Kingdom   6821356  132859   6789189   132808      32167          51   \n",
       "\n",
       "   Fatality Rate      Continent  \n",
       "0            1.6  North America  \n",
       "1            1.3           Asia  \n",
       "2            2.8  South America  \n",
       "3            1.7         Europe  \n",
       "4            1.9         Europe  "
      ]
     },
     "execution_count": 15,
     "metadata": {},
     "output_type": "execute_result"
    }
   ],
   "source": [
    "#hide\n",
    "df_table = (pd.DataFrame(dict(Cases=dfc_cases, Deaths=dfc_deaths, PCases=dfp_cases, PDeaths=dfp_deaths))\n",
    "             .sort_values(by=['Cases', 'Deaths'], ascending=[False, False])\n",
    "             .reset_index())\n",
    "df_table.rename(columns={'index': 'Country/Region'}, inplace=True)\n",
    "for c in 'Cases, Deaths'.split(', '):\n",
    "    df_table[f'{c} (+)'] = (df_table[c] - df_table[f'P{c}']).clip(0)  # DATA BUG\n",
    "df_table['Fatality Rate'] = (100 * df_table['Deaths'] / df_table['Cases']).round(1)\n",
    "df_table['Continent'] = df_table['Country/Region'].map(mapping['map.continent'])\n",
    "df_table.head(5)"
   ]
  },
  {
   "cell_type": "code",
   "execution_count": 16,
   "id": "fewer-occasion",
   "metadata": {
    "execution": {
     "iopub.execute_input": "2021-09-01T12:11:19.823487Z",
     "iopub.status.busy": "2021-09-01T12:11:19.822842Z",
     "iopub.status.idle": "2021-09-01T12:11:19.825496Z",
     "shell.execute_reply": "2021-09-01T12:11:19.826131Z"
    },
    "papermill": {
     "duration": 0.050274,
     "end_time": "2021-09-01T12:11:19.826307",
     "exception": false,
     "start_time": "2021-09-01T12:11:19.776033",
     "status": "completed"
    },
    "tags": []
   },
   "outputs": [],
   "source": [
    "#hide\n",
    "#delete problematic countries from table\n",
    "df_table = df_table[~df_table['Country/Region'].isin(['Cape Verde', 'Cruise Ship', 'Kosovo'])]"
   ]
  },
  {
   "cell_type": "code",
   "execution_count": 17,
   "id": "related-center",
   "metadata": {
    "execution": {
     "iopub.execute_input": "2021-09-01T12:11:19.932421Z",
     "iopub.status.busy": "2021-09-01T12:11:19.931706Z",
     "iopub.status.idle": "2021-09-01T12:11:19.938840Z",
     "shell.execute_reply": "2021-09-01T12:11:19.939406Z"
    },
    "papermill": {
     "duration": 0.072971,
     "end_time": "2021-09-01T12:11:19.939599",
     "exception": false,
     "start_time": "2021-09-01T12:11:19.866628",
     "status": "completed"
    },
    "tags": []
   },
   "outputs": [],
   "source": [
    "#hide\n",
    "metrics = [df_table.columns[index] for index in [1,2,5,6]]\n",
    "# s_china = df_table[df_table['Country/Region'].eq('China')][metrics].sum().add_prefix('China ')\n",
    "s_us = df_table[df_table['Country/Region'].eq('US')][metrics].sum().add_prefix('US ')\n",
    "s_eu = df_table[df_table['Continent'].eq('Europe')][metrics].sum().add_prefix('EU ')\n",
    "s_ind = df_table[df_table['Country/Region'].eq('India')][metrics].sum().add_prefix('India ')\n",
    "summary = {'updated': pd.to_datetime(dt_today), 'since': pd.to_datetime(dt_yday)}\n",
    "summary = {'updated': pd.to_datetime(dt_today), 'since': pd.to_datetime(dt_yday)}\n",
    "summary = {**summary, **df_table[metrics].sum(), **s_ind, **s_us, **s_eu}"
   ]
  },
  {
   "cell_type": "code",
   "execution_count": 18,
   "id": "engaging-syndrome",
   "metadata": {
    "execution": {
     "iopub.execute_input": "2021-09-01T12:11:20.034595Z",
     "iopub.status.busy": "2021-09-01T12:11:20.032301Z",
     "iopub.status.idle": "2021-09-01T12:11:20.050246Z",
     "shell.execute_reply": "2021-09-01T12:11:20.049590Z"
    },
    "papermill": {
     "duration": 0.068827,
     "end_time": "2021-09-01T12:11:20.050412",
     "exception": false,
     "start_time": "2021-09-01T12:11:19.981585",
     "status": "completed"
    },
    "tags": []
   },
   "outputs": [],
   "source": [
    "#hide\n",
    "dft_ct_new_cases = dft_cases.groupby(COL_REGION)[dt_cols].sum().diff(axis=1).fillna(0).astype(int)"
   ]
  },
  {
   "cell_type": "code",
   "execution_count": 19,
   "id": "neutral-assignment",
   "metadata": {
    "execution": {
     "iopub.execute_input": "2021-09-01T12:11:20.161161Z",
     "iopub.status.busy": "2021-09-01T12:11:20.160455Z",
     "iopub.status.idle": "2021-09-01T12:11:20.162249Z",
     "shell.execute_reply": "2021-09-01T12:11:20.162764Z"
    },
    "papermill": {
     "duration": 0.06164,
     "end_time": "2021-09-01T12:11:20.162922",
     "exception": false,
     "start_time": "2021-09-01T12:11:20.101282",
     "status": "completed"
    },
    "tags": []
   },
   "outputs": [],
   "source": [
    "#hide\n",
    "everydaycases = dft_ct_new_cases.cumsum(axis=1)"
   ]
  },
  {
   "cell_type": "code",
   "execution_count": 20,
   "id": "parliamentary-calgary",
   "metadata": {
    "execution": {
     "iopub.execute_input": "2021-09-01T12:11:20.252899Z",
     "iopub.status.busy": "2021-09-01T12:11:20.251988Z",
     "iopub.status.idle": "2021-09-01T12:11:21.067176Z",
     "shell.execute_reply": "2021-09-01T12:11:21.065247Z"
    },
    "papermill": {
     "duration": 0.86478,
     "end_time": "2021-09-01T12:11:21.067406",
     "exception": false,
     "start_time": "2021-09-01T12:11:20.202626",
     "status": "completed"
    },
    "tags": []
   },
   "outputs": [],
   "source": [
    "#hide\n",
    "import pandas as pd\n",
    "import matplotlib.pyplot as plt\n",
    "import matplotlib.ticker as ticker\n",
    "import matplotlib.animation as animation\n",
    "from IPython.display import HTML"
   ]
  },
  {
   "cell_type": "code",
   "execution_count": 21,
   "id": "lasting-extraction",
   "metadata": {
    "execution": {
     "iopub.execute_input": "2021-09-01T12:11:21.154564Z",
     "iopub.status.busy": "2021-09-01T12:11:21.153684Z",
     "iopub.status.idle": "2021-09-01T12:11:21.160773Z",
     "shell.execute_reply": "2021-09-01T12:11:21.160228Z"
    },
    "papermill": {
     "duration": 0.053241,
     "end_time": "2021-09-01T12:11:21.160908",
     "exception": false,
     "start_time": "2021-09-01T12:11:21.107667",
     "status": "completed"
    },
    "tags": []
   },
   "outputs": [],
   "source": [
    "#hide\n",
    "t = everydaycases.stack()"
   ]
  },
  {
   "cell_type": "code",
   "execution_count": 22,
   "id": "premier-sleeve",
   "metadata": {
    "execution": {
     "iopub.execute_input": "2021-09-01T12:11:21.245485Z",
     "iopub.status.busy": "2021-09-01T12:11:21.244827Z",
     "iopub.status.idle": "2021-09-01T12:11:21.257096Z",
     "shell.execute_reply": "2021-09-01T12:11:21.255722Z"
    },
    "papermill": {
     "duration": 0.055942,
     "end_time": "2021-09-01T12:11:21.257261",
     "exception": false,
     "start_time": "2021-09-01T12:11:21.201319",
     "status": "completed"
    },
    "tags": []
   },
   "outputs": [],
   "source": [
    "#hide\n",
    "g = t.reset_index(['Country/Region'])"
   ]
  },
  {
   "cell_type": "code",
   "execution_count": 23,
   "id": "distributed-pittsburgh",
   "metadata": {
    "execution": {
     "iopub.execute_input": "2021-09-01T12:11:21.344443Z",
     "iopub.status.busy": "2021-09-01T12:11:21.343733Z",
     "iopub.status.idle": "2021-09-01T12:11:21.346523Z",
     "shell.execute_reply": "2021-09-01T12:11:21.347024Z"
    },
    "papermill": {
     "duration": 0.047159,
     "end_time": "2021-09-01T12:11:21.347203",
     "exception": false,
     "start_time": "2021-09-01T12:11:21.300044",
     "status": "completed"
    },
    "tags": []
   },
   "outputs": [],
   "source": [
    "#hide\n",
    "g.index.name = 'date'"
   ]
  },
  {
   "cell_type": "code",
   "execution_count": 24,
   "id": "naked-donor",
   "metadata": {
    "execution": {
     "iopub.execute_input": "2021-09-01T12:11:21.439492Z",
     "iopub.status.busy": "2021-09-01T12:11:21.438102Z",
     "iopub.status.idle": "2021-09-01T12:11:21.440182Z",
     "shell.execute_reply": "2021-09-01T12:11:21.440832Z"
    },
    "papermill": {
     "duration": 0.048863,
     "end_time": "2021-09-01T12:11:21.440975",
     "exception": false,
     "start_time": "2021-09-01T12:11:21.392112",
     "status": "completed"
    },
    "tags": []
   },
   "outputs": [],
   "source": [
    "# #hide\n",
    "# g = g.reset_index(['date'])"
   ]
  },
  {
   "cell_type": "code",
   "execution_count": 25,
   "id": "incomplete-mustang",
   "metadata": {
    "execution": {
     "iopub.execute_input": "2021-09-01T12:11:21.527464Z",
     "iopub.status.busy": "2021-09-01T12:11:21.526733Z",
     "iopub.status.idle": "2021-09-01T12:11:21.528304Z",
     "shell.execute_reply": "2021-09-01T12:11:21.528939Z"
    },
    "papermill": {
     "duration": 0.046946,
     "end_time": "2021-09-01T12:11:21.529104",
     "exception": false,
     "start_time": "2021-09-01T12:11:21.482158",
     "status": "completed"
    },
    "tags": []
   },
   "outputs": [],
   "source": [
    "#hide\n",
    "# g.head()"
   ]
  },
  {
   "cell_type": "code",
   "execution_count": 26,
   "id": "specific-kruger",
   "metadata": {
    "execution": {
     "iopub.execute_input": "2021-09-01T12:11:21.617932Z",
     "iopub.status.busy": "2021-09-01T12:11:21.617230Z",
     "iopub.status.idle": "2021-09-01T12:11:21.619289Z",
     "shell.execute_reply": "2021-09-01T12:11:21.619915Z"
    },
    "papermill": {
     "duration": 0.049906,
     "end_time": "2021-09-01T12:11:21.620066",
     "exception": false,
     "start_time": "2021-09-01T12:11:21.570160",
     "status": "completed"
    },
    "tags": []
   },
   "outputs": [],
   "source": [
    "#hide\n",
    "# g.columns = ['date','country','cases']"
   ]
  },
  {
   "cell_type": "code",
   "execution_count": 27,
   "id": "tender-conversion",
   "metadata": {
    "execution": {
     "iopub.execute_input": "2021-09-01T12:11:21.704796Z",
     "iopub.status.busy": "2021-09-01T12:11:21.704125Z",
     "iopub.status.idle": "2021-09-01T12:11:21.706470Z",
     "shell.execute_reply": "2021-09-01T12:11:21.705966Z"
    },
    "papermill": {
     "duration": 0.046239,
     "end_time": "2021-09-01T12:11:21.706597",
     "exception": false,
     "start_time": "2021-09-01T12:11:21.660358",
     "status": "completed"
    },
    "tags": []
   },
   "outputs": [],
   "source": [
    "#hide\n",
    "# g['continent'] = g.country"
   ]
  },
  {
   "cell_type": "code",
   "execution_count": 28,
   "id": "substantial-wilderness",
   "metadata": {
    "execution": {
     "iopub.execute_input": "2021-09-01T12:11:21.792766Z",
     "iopub.status.busy": "2021-09-01T12:11:21.791923Z",
     "iopub.status.idle": "2021-09-01T12:11:21.795362Z",
     "shell.execute_reply": "2021-09-01T12:11:21.795874Z"
    },
    "papermill": {
     "duration": 0.047986,
     "end_time": "2021-09-01T12:11:21.796022",
     "exception": false,
     "start_time": "2021-09-01T12:11:21.748036",
     "status": "completed"
    },
    "tags": []
   },
   "outputs": [],
   "source": [
    "#hide\n",
    "# cols = list(g.columns.values)"
   ]
  },
  {
   "cell_type": "code",
   "execution_count": 29,
   "id": "solved-farming",
   "metadata": {
    "execution": {
     "iopub.execute_input": "2021-09-01T12:11:21.879846Z",
     "iopub.status.busy": "2021-09-01T12:11:21.878951Z",
     "iopub.status.idle": "2021-09-01T12:11:21.882266Z",
     "shell.execute_reply": "2021-09-01T12:11:21.881501Z"
    },
    "papermill": {
     "duration": 0.047678,
     "end_time": "2021-09-01T12:11:21.882425",
     "exception": false,
     "start_time": "2021-09-01T12:11:21.834747",
     "status": "completed"
    },
    "tags": []
   },
   "outputs": [],
   "source": [
    "#hide\n",
    "# cols.insert(0, cols.pop())"
   ]
  },
  {
   "cell_type": "code",
   "execution_count": 30,
   "id": "executed-adoption",
   "metadata": {
    "execution": {
     "iopub.execute_input": "2021-09-01T12:11:21.966080Z",
     "iopub.status.busy": "2021-09-01T12:11:21.965329Z",
     "iopub.status.idle": "2021-09-01T12:11:21.967837Z",
     "shell.execute_reply": "2021-09-01T12:11:21.967189Z"
    },
    "papermill": {
     "duration": 0.045072,
     "end_time": "2021-09-01T12:11:21.967966",
     "exception": false,
     "start_time": "2021-09-01T12:11:21.922894",
     "status": "completed"
    },
    "tags": []
   },
   "outputs": [],
   "source": [
    "#hide\n",
    "# g = g[cols]"
   ]
  },
  {
   "cell_type": "code",
   "execution_count": 31,
   "id": "subject-dublin",
   "metadata": {
    "execution": {
     "iopub.execute_input": "2021-09-01T12:11:22.053317Z",
     "iopub.status.busy": "2021-09-01T12:11:22.052615Z",
     "iopub.status.idle": "2021-09-01T12:11:22.055199Z",
     "shell.execute_reply": "2021-09-01T12:11:22.054665Z"
    },
    "papermill": {
     "duration": 0.046043,
     "end_time": "2021-09-01T12:11:22.055324",
     "exception": false,
     "start_time": "2021-09-01T12:11:22.009281",
     "status": "completed"
    },
    "tags": []
   },
   "outputs": [],
   "source": [
    "#hide\n",
    "# g['continent'] = g['continent'].map(mapping['map.continent'])"
   ]
  },
  {
   "cell_type": "code",
   "execution_count": 32,
   "id": "freelance-scout",
   "metadata": {
    "execution": {
     "iopub.execute_input": "2021-09-01T12:11:22.140004Z",
     "iopub.status.busy": "2021-09-01T12:11:22.139322Z",
     "iopub.status.idle": "2021-09-01T12:11:22.141918Z",
     "shell.execute_reply": "2021-09-01T12:11:22.141302Z"
    },
    "papermill": {
     "duration": 0.045599,
     "end_time": "2021-09-01T12:11:22.142059",
     "exception": false,
     "start_time": "2021-09-01T12:11:22.096460",
     "status": "completed"
    },
    "tags": []
   },
   "outputs": [],
   "source": [
    "#hide\n",
    "# g.head()"
   ]
  },
  {
   "cell_type": "code",
   "execution_count": 33,
   "id": "limited-engine",
   "metadata": {
    "execution": {
     "iopub.execute_input": "2021-09-01T12:11:22.230460Z",
     "iopub.status.busy": "2021-09-01T12:11:22.229502Z",
     "iopub.status.idle": "2021-09-01T12:11:22.231459Z",
     "shell.execute_reply": "2021-09-01T12:11:22.232153Z"
    },
    "papermill": {
     "duration": 0.05024,
     "end_time": "2021-09-01T12:11:22.232409",
     "exception": false,
     "start_time": "2021-09-01T12:11:22.182169",
     "status": "completed"
    },
    "tags": []
   },
   "outputs": [],
   "source": [
    "# hide\n",
    "# g['date'] = g['date'].astype('datetime64[ns]')"
   ]
  },
  {
   "cell_type": "code",
   "execution_count": 34,
   "id": "sophisticated-supervisor",
   "metadata": {
    "execution": {
     "iopub.execute_input": "2021-09-01T12:11:22.326074Z",
     "iopub.status.busy": "2021-09-01T12:11:22.325079Z",
     "iopub.status.idle": "2021-09-01T12:11:22.328676Z",
     "shell.execute_reply": "2021-09-01T12:11:22.327965Z"
    },
    "papermill": {
     "duration": 0.049409,
     "end_time": "2021-09-01T12:11:22.328810",
     "exception": false,
     "start_time": "2021-09-01T12:11:22.279401",
     "status": "completed"
    },
    "tags": []
   },
   "outputs": [],
   "source": [
    "#hide\n",
    "# g['date'] = g.date.dt.dayofyear"
   ]
  },
  {
   "cell_type": "code",
   "execution_count": 35,
   "id": "inside-dubai",
   "metadata": {
    "execution": {
     "iopub.execute_input": "2021-09-01T12:11:22.414012Z",
     "iopub.status.busy": "2021-09-01T12:11:22.413262Z",
     "iopub.status.idle": "2021-09-01T12:11:22.415915Z",
     "shell.execute_reply": "2021-09-01T12:11:22.415265Z"
    },
    "papermill": {
     "duration": 0.048309,
     "end_time": "2021-09-01T12:11:22.416063",
     "exception": false,
     "start_time": "2021-09-01T12:11:22.367754",
     "status": "completed"
    },
    "tags": []
   },
   "outputs": [],
   "source": [
    "#hide\n",
    "# g = g.rename(columns= {'continent':'group','country':'name','cases':'value'})"
   ]
  },
  {
   "cell_type": "code",
   "execution_count": 36,
   "id": "fleet-motorcycle",
   "metadata": {
    "execution": {
     "iopub.execute_input": "2021-09-01T12:11:22.506186Z",
     "iopub.status.busy": "2021-09-01T12:11:22.505569Z",
     "iopub.status.idle": "2021-09-01T12:11:22.508146Z",
     "shell.execute_reply": "2021-09-01T12:11:22.507440Z"
    },
    "papermill": {
     "duration": 0.052839,
     "end_time": "2021-09-01T12:11:22.508276",
     "exception": false,
     "start_time": "2021-09-01T12:11:22.455437",
     "status": "completed"
    },
    "tags": []
   },
   "outputs": [],
   "source": [
    "#hide\n",
    "# cols = ['name','group','day','value']"
   ]
  },
  {
   "cell_type": "code",
   "execution_count": 37,
   "id": "continued-sleeping",
   "metadata": {
    "execution": {
     "iopub.execute_input": "2021-09-01T12:11:22.590178Z",
     "iopub.status.busy": "2021-09-01T12:11:22.589424Z",
     "iopub.status.idle": "2021-09-01T12:11:22.591910Z",
     "shell.execute_reply": "2021-09-01T12:11:22.592545Z"
    },
    "papermill": {
     "duration": 0.045023,
     "end_time": "2021-09-01T12:11:22.592688",
     "exception": false,
     "start_time": "2021-09-01T12:11:22.547665",
     "status": "completed"
    },
    "tags": []
   },
   "outputs": [],
   "source": [
    "#hide\n",
    "# g.rename(columns= {'date':'day'},inplace = True)"
   ]
  },
  {
   "cell_type": "code",
   "execution_count": 38,
   "id": "major-fight",
   "metadata": {
    "execution": {
     "iopub.execute_input": "2021-09-01T12:11:22.677246Z",
     "iopub.status.busy": "2021-09-01T12:11:22.676611Z",
     "iopub.status.idle": "2021-09-01T12:11:22.678865Z",
     "shell.execute_reply": "2021-09-01T12:11:22.678337Z"
    },
    "papermill": {
     "duration": 0.046864,
     "end_time": "2021-09-01T12:11:22.678986",
     "exception": false,
     "start_time": "2021-09-01T12:11:22.632122",
     "status": "completed"
    },
    "tags": []
   },
   "outputs": [],
   "source": [
    "#hide\n",
    "# g = g[cols]"
   ]
  },
  {
   "cell_type": "code",
   "execution_count": 39,
   "id": "structured-mobile",
   "metadata": {
    "execution": {
     "iopub.execute_input": "2021-09-01T12:11:22.768419Z",
     "iopub.status.busy": "2021-09-01T12:11:22.767686Z",
     "iopub.status.idle": "2021-09-01T12:11:22.770218Z",
     "shell.execute_reply": "2021-09-01T12:11:22.769640Z"
    },
    "papermill": {
     "duration": 0.046627,
     "end_time": "2021-09-01T12:11:22.770345",
     "exception": false,
     "start_time": "2021-09-01T12:11:22.723718",
     "status": "completed"
    },
    "tags": []
   },
   "outputs": [],
   "source": [
    "# #hide\n",
    "# g = g[g.group.notna()]"
   ]
  },
  {
   "cell_type": "code",
   "execution_count": 40,
   "id": "determined-closing",
   "metadata": {
    "execution": {
     "iopub.execute_input": "2021-09-01T12:11:22.858694Z",
     "iopub.status.busy": "2021-09-01T12:11:22.857996Z",
     "iopub.status.idle": "2021-09-01T12:11:22.860022Z",
     "shell.execute_reply": "2021-09-01T12:11:22.860623Z"
    },
    "papermill": {
     "duration": 0.048035,
     "end_time": "2021-09-01T12:11:22.860769",
     "exception": false,
     "start_time": "2021-09-01T12:11:22.812734",
     "status": "completed"
    },
    "tags": []
   },
   "outputs": [],
   "source": [
    "# #hide\n",
    "# colors = dict(zip(\n",
    "#     [\"Oceania\", \"Europe\", \"Asia\", \"South America\", \"Middle East\", \"North America\", \"Africa\"],\n",
    "#     [\"#adb0ff\", \"#ffb3ff\", \"#90d595\", \"#e48381\", \"#aafbff\", \"#f7bb5f\", \"#eafb50\"]\n",
    "# ))\n",
    "# group_lk = g.set_index('name')['group'].to_dict()"
   ]
  },
  {
   "cell_type": "code",
   "execution_count": null,
   "id": "gross-drinking",
   "metadata": {
    "papermill": {
     "duration": 0.040228,
     "end_time": "2021-09-01T12:11:22.941898",
     "exception": false,
     "start_time": "2021-09-01T12:11:22.901670",
     "status": "completed"
    },
    "tags": []
   },
   "outputs": [],
   "source": []
  },
  {
   "cell_type": "code",
   "execution_count": 41,
   "id": "subject-macintosh",
   "metadata": {
    "execution": {
     "iopub.execute_input": "2021-09-01T12:11:23.031614Z",
     "iopub.status.busy": "2021-09-01T12:11:23.031014Z",
     "iopub.status.idle": "2021-09-01T12:11:23.033266Z",
     "shell.execute_reply": "2021-09-01T12:11:23.032778Z"
    },
    "papermill": {
     "duration": 0.051005,
     "end_time": "2021-09-01T12:11:23.033381",
     "exception": false,
     "start_time": "2021-09-01T12:11:22.982376",
     "status": "completed"
    },
    "tags": []
   },
   "outputs": [],
   "source": [
    "# #hide\n",
    "# fig, ax = plt.subplots(figsize=(15, 8))\n",
    "\n",
    "# def draw_barchart(current_day):\n",
    "#     dff = g[g['day'].eq(current_day)].sort_values(by='value', ascending=True).tail(10)\n",
    "#     ax.clear()\n",
    "#     ax.barh(dff['name'], dff['value'], color=[colors[group_lk[x]] for x in dff['name']])\n",
    "#     dx = dff['value'].max() / 200\n",
    "    \n",
    "#     for i, (value, name) in enumerate(zip(dff['value'], dff['name'])):\n",
    "#         ax.text(value-dx, i,     name,           size=14, weight=600, ha='right', va='bottom')\n",
    "#         ax.text(value-dx, i-.25, group_lk[name], size=10, color='#444444', ha='right', va='baseline')\n",
    "#         ax.text(value+dx, i,     f'{value:,.0f}',  size=14, ha='left',  va='center')\n",
    "#     ax.text(1, 0.4, current_day, transform=ax.transAxes, color='#777777', size=46, ha='right', weight=800)\n",
    "#     ax.text(0, 1.06, 'Population (thousands)', transform=ax.transAxes, size=12, color='#777777')\n",
    "#     ax.xaxis.set_major_formatter(ticker.StrMethodFormatter('{x:,.0f}'))\n",
    "#     ax.xaxis.set_ticks_position('top')\n",
    "#     ax.tick_params(axis='x', colors='#777777', labelsize=12)\n",
    "#     ax.set_yticks([])\n",
    "#     ax.margins(0, 0.01)\n",
    "#     ax.grid(which='major', axis='x', linestyle='-')\n",
    "#     ax.set_axisbelow(True)\n",
    "    \n",
    "#     ax.text(0, 1.15, 'Coronavirus',\n",
    "#             transform=ax.transAxes, size=24, weight=600, ha='left', va='top')\n",
    "# #     ax.text(1, 0, 'by @pratapvardhan; credit @jburnmurdoch', transform=ax.transAxes, color='#777777', ha='right',\n",
    "# #             bbox=dict(facecolor='white', alpha=0.8, edgecolor='white'))\n",
    "#     plt.box(False)"
   ]
  },
  {
   "cell_type": "code",
   "execution_count": 42,
   "id": "sexual-wages",
   "metadata": {
    "execution": {
     "iopub.execute_input": "2021-09-01T12:11:23.120025Z",
     "iopub.status.busy": "2021-09-01T12:11:23.119239Z",
     "iopub.status.idle": "2021-09-01T12:11:23.120798Z",
     "shell.execute_reply": "2021-09-01T12:11:23.121473Z"
    },
    "papermill": {
     "duration": 0.04762,
     "end_time": "2021-09-01T12:11:23.121653",
     "exception": false,
     "start_time": "2021-09-01T12:11:23.074033",
     "status": "completed"
    },
    "tags": []
   },
   "outputs": [],
   "source": [
    "# #hide_input\n",
    "# fig, ax = plt.subplots(figsize=(15, 8))\n",
    "# animator = animation.FuncAnimation(fig, draw_barchart, frames=range(g.day.values.min(), g.day.values.max()))\n",
    "# HTML(animator.to_jshtml())\n",
    "# # or use animator.to_html5_video() or animator.save() "
   ]
  },
  {
   "cell_type": "code",
   "execution_count": null,
   "id": "australian-container",
   "metadata": {
    "papermill": {
     "duration": 0.040441,
     "end_time": "2021-09-01T12:11:23.201784",
     "exception": false,
     "start_time": "2021-09-01T12:11:23.161343",
     "status": "completed"
    },
    "tags": []
   },
   "outputs": [],
   "source": []
  },
  {
   "cell_type": "code",
   "execution_count": null,
   "id": "mediterranean-pontiac",
   "metadata": {
    "papermill": {
     "duration": 0.037983,
     "end_time": "2021-09-01T12:11:23.279690",
     "exception": false,
     "start_time": "2021-09-01T12:11:23.241707",
     "status": "completed"
    },
    "tags": []
   },
   "outputs": [],
   "source": []
  },
  {
   "cell_type": "code",
   "execution_count": null,
   "id": "aging-legislature",
   "metadata": {
    "papermill": {
     "duration": 0.038903,
     "end_time": "2021-09-01T12:11:23.360337",
     "exception": false,
     "start_time": "2021-09-01T12:11:23.321434",
     "status": "completed"
    },
    "tags": []
   },
   "outputs": [],
   "source": []
  }
 ],
 "metadata": {
  "kernelspec": {
   "display_name": "Python 3",
   "language": "python",
   "name": "python3"
  },
  "language_info": {
   "codemirror_mode": {
    "name": "ipython",
    "version": 3
   },
   "file_extension": ".py",
   "mimetype": "text/x-python",
   "name": "python",
   "nbconvert_exporter": "python",
   "pygments_lexer": "ipython3",
   "version": "3.6.14"
  },
  "papermill": {
   "duration": 7.565041,
   "end_time": "2021-09-01T12:11:23.821553",
   "environment_variables": {},
   "exception": null,
   "input_path": "2020-03-21-covid19exp.ipynb",
   "output_path": "2020-03-21-covid19exp.ipynb",
   "parameters": {},
   "start_time": "2021-09-01T12:11:16.256512",
   "version": "2.0.0"
  }
 },
 "nbformat": 4,
 "nbformat_minor": 5
}