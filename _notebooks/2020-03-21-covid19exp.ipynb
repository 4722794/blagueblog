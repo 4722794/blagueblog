{
 "cells": [
  {
   "cell_type": "markdown",
   "id": "muslim-click",
   "metadata": {
    "papermill": {
     "duration": 0.042596,
     "end_time": "2021-09-13T00:24:15.986852",
     "exception": false,
     "start_time": "2021-09-13T00:24:15.944256",
     "status": "completed"
    },
    "tags": []
   },
   "source": [
    "# COVID-19 Case Race\n",
    "> A race chart to see rising cases around the world\n",
    "\n",
    "- author: Hargun Oberoi\n",
    "- image: images/covid-overview.png\n",
    "- hide: false\n",
    "- badges: false"
   ]
  },
  {
   "cell_type": "code",
   "execution_count": 1,
   "id": "proof-material",
   "metadata": {
    "execution": {
     "iopub.execute_input": "2021-09-13T00:24:16.076523Z",
     "iopub.status.busy": "2021-09-13T00:24:16.075856Z",
     "iopub.status.idle": "2021-09-13T00:24:16.467341Z",
     "shell.execute_reply": "2021-09-13T00:24:16.466332Z"
    },
    "papermill": {
     "duration": 0.440873,
     "end_time": "2021-09-13T00:24:16.467510",
     "exception": false,
     "start_time": "2021-09-13T00:24:16.026637",
     "status": "completed"
    },
    "tags": []
   },
   "outputs": [],
   "source": [
    "#hide\n",
    "import numpy as np\n",
    "import pandas as pd\n",
    "from jinja2 import Template\n",
    "from IPython.display import HTML"
   ]
  },
  {
   "cell_type": "code",
   "execution_count": 2,
   "id": "developed-terminology",
   "metadata": {
    "execution": {
     "iopub.execute_input": "2021-09-13T00:24:16.551723Z",
     "iopub.status.busy": "2021-09-13T00:24:16.551043Z",
     "iopub.status.idle": "2021-09-13T00:24:16.553588Z",
     "shell.execute_reply": "2021-09-13T00:24:16.553007Z"
    },
    "papermill": {
     "duration": 0.048136,
     "end_time": "2021-09-13T00:24:16.553750",
     "exception": false,
     "start_time": "2021-09-13T00:24:16.505614",
     "status": "completed"
    },
    "tags": []
   },
   "outputs": [],
   "source": [
    "#hide\n",
    "\n",
    "# FETCH\n",
    "base_url = 'https://raw.githubusercontent.com/pratapvardhan/notebooks/master/covid19/'\n",
    "paths = {\n",
    "    'mapping': base_url + 'mapping_countries.csv',\n",
    "    'overview': base_url + 'overview.tpl'\n",
    "}"
   ]
  },
  {
   "cell_type": "code",
   "execution_count": 3,
   "id": "dynamic-saver",
   "metadata": {
    "execution": {
     "iopub.execute_input": "2021-09-13T00:24:16.643802Z",
     "iopub.status.busy": "2021-09-13T00:24:16.642952Z",
     "iopub.status.idle": "2021-09-13T00:24:16.645860Z",
     "shell.execute_reply": "2021-09-13T00:24:16.646500Z"
    },
    "papermill": {
     "duration": 0.054768,
     "end_time": "2021-09-13T00:24:16.646654",
     "exception": false,
     "start_time": "2021-09-13T00:24:16.591886",
     "status": "completed"
    },
    "tags": []
   },
   "outputs": [
    {
     "data": {
      "text/plain": [
       "'https://raw.githubusercontent.com/pratapvardhan/notebooks/master/covid19/mapping_countries.csv'"
      ]
     },
     "execution_count": 3,
     "metadata": {},
     "output_type": "execute_result"
    }
   ],
   "source": [
    "#hide\n",
    "paths['mapping']"
   ]
  },
  {
   "cell_type": "code",
   "execution_count": 4,
   "id": "urban-software",
   "metadata": {
    "execution": {
     "iopub.execute_input": "2021-09-13T00:24:16.730464Z",
     "iopub.status.busy": "2021-09-13T00:24:16.729768Z",
     "iopub.status.idle": "2021-09-13T00:24:16.732311Z",
     "shell.execute_reply": "2021-09-13T00:24:16.731771Z"
    },
    "papermill": {
     "duration": 0.047827,
     "end_time": "2021-09-13T00:24:16.732428",
     "exception": false,
     "start_time": "2021-09-13T00:24:16.684601",
     "status": "completed"
    },
    "tags": []
   },
   "outputs": [],
   "source": [
    "#hide\n",
    "def get_mappings(url):\n",
    "    df = pd.read_csv(url)\n",
    "    return {\n",
    "        'df': df,\n",
    "        'replace.country': dict(df.dropna(subset=['Name']).set_index('Country')['Name']),\n",
    "        'map.continent': dict(df.set_index('Name')['Continent'])\n",
    "    }"
   ]
  },
  {
   "cell_type": "code",
   "execution_count": 5,
   "id": "intimate-machinery",
   "metadata": {
    "execution": {
     "iopub.execute_input": "2021-09-13T00:24:16.815897Z",
     "iopub.status.busy": "2021-09-13T00:24:16.815178Z",
     "iopub.status.idle": "2021-09-13T00:24:16.857205Z",
     "shell.execute_reply": "2021-09-13T00:24:16.857791Z"
    },
    "papermill": {
     "duration": 0.086545,
     "end_time": "2021-09-13T00:24:16.857957",
     "exception": false,
     "start_time": "2021-09-13T00:24:16.771412",
     "status": "completed"
    },
    "tags": []
   },
   "outputs": [],
   "source": [
    "#hide\n",
    "mapping = get_mappings(paths['mapping'])"
   ]
  },
  {
   "cell_type": "code",
   "execution_count": 6,
   "id": "certified-tactics",
   "metadata": {
    "execution": {
     "iopub.execute_input": "2021-09-13T00:24:16.941510Z",
     "iopub.status.busy": "2021-09-13T00:24:16.940833Z",
     "iopub.status.idle": "2021-09-13T00:24:16.943361Z",
     "shell.execute_reply": "2021-09-13T00:24:16.942767Z"
    },
    "papermill": {
     "duration": 0.046569,
     "end_time": "2021-09-13T00:24:16.943491",
     "exception": false,
     "start_time": "2021-09-13T00:24:16.896922",
     "status": "completed"
    },
    "tags": []
   },
   "outputs": [],
   "source": [
    "#hide\n",
    "def get_template(path):\n",
    "    from urllib.parse import urlparse\n",
    "    if bool(urlparse(path).netloc):\n",
    "        from urllib.request import urlopen\n",
    "        return urlopen(path).read().decode('utf8')\n",
    "    return open(path).read()"
   ]
  },
  {
   "cell_type": "code",
   "execution_count": 7,
   "id": "realistic-blast",
   "metadata": {
    "execution": {
     "iopub.execute_input": "2021-09-13T00:24:17.025790Z",
     "iopub.status.busy": "2021-09-13T00:24:17.025107Z",
     "iopub.status.idle": "2021-09-13T00:24:17.027155Z",
     "shell.execute_reply": "2021-09-13T00:24:17.028116Z"
    },
    "papermill": {
     "duration": 0.047206,
     "end_time": "2021-09-13T00:24:17.028306",
     "exception": false,
     "start_time": "2021-09-13T00:24:16.981100",
     "status": "completed"
    },
    "tags": []
   },
   "outputs": [],
   "source": [
    "#hide\n",
    "def get_frame(name):\n",
    "    url = (\n",
    "        'https://raw.githubusercontent.com/CSSEGISandData/COVID-19/master/csse_covid_19_data/'\n",
    "        f'csse_covid_19_time_series/time_series_covid19_{name}_global.csv')\n",
    "    df = pd.read_csv(url)\n",
    "    # rename countries\n",
    "    df['Country/Region'] = df['Country/Region'].replace(mapping['replace.country'])\n",
    "    return df"
   ]
  },
  {
   "cell_type": "code",
   "execution_count": 8,
   "id": "affiliated-characterization",
   "metadata": {
    "execution": {
     "iopub.execute_input": "2021-09-13T00:24:17.114982Z",
     "iopub.status.busy": "2021-09-13T00:24:17.114316Z",
     "iopub.status.idle": "2021-09-13T00:24:17.116809Z",
     "shell.execute_reply": "2021-09-13T00:24:17.116237Z"
    },
    "papermill": {
     "duration": 0.051037,
     "end_time": "2021-09-13T00:24:17.116947",
     "exception": false,
     "start_time": "2021-09-13T00:24:17.065910",
     "status": "completed"
    },
    "tags": []
   },
   "outputs": [],
   "source": [
    "#hide\n",
    "def get_dates(df):\n",
    "    dt_cols = df.columns[~df.columns.isin(['Province/State', 'Country/Region', 'Lat', 'Long'])]\n",
    "    LAST_DATE_I = -1\n",
    "    # sometimes last column may be empty, then go backwards\n",
    "    for i in range(-1, -len(dt_cols), -1):\n",
    "        if not df[dt_cols[i]].fillna(0).eq(0).all():\n",
    "            LAST_DATE_I = i\n",
    "            break\n",
    "    return LAST_DATE_I, dt_cols"
   ]
  },
  {
   "cell_type": "code",
   "execution_count": 9,
   "id": "recent-optimization",
   "metadata": {
    "execution": {
     "iopub.execute_input": "2021-09-13T00:24:17.203064Z",
     "iopub.status.busy": "2021-09-13T00:24:17.202379Z",
     "iopub.status.idle": "2021-09-13T00:24:17.630819Z",
     "shell.execute_reply": "2021-09-13T00:24:17.630230Z"
    },
    "papermill": {
     "duration": 0.475148,
     "end_time": "2021-09-13T00:24:17.630966",
     "exception": false,
     "start_time": "2021-09-13T00:24:17.155818",
     "status": "completed"
    },
    "tags": []
   },
   "outputs": [],
   "source": [
    "#hide\n",
    "COL_REGION = 'Country/Region'\n",
    "# Confirmed, Recovered, Deaths\n",
    "df = get_frame('confirmed')\n",
    "# dft_: timeseries, dfc_: today country agg\n",
    "dft_cases = df\n",
    "dft_deaths = get_frame('deaths')\n",
    "dft_recovered = get_frame('recovered')\n",
    "LAST_DATE_I, dt_cols = get_dates(df)"
   ]
  },
  {
   "cell_type": "code",
   "execution_count": 10,
   "id": "absolute-copper",
   "metadata": {
    "execution": {
     "iopub.execute_input": "2021-09-13T00:24:17.716449Z",
     "iopub.status.busy": "2021-09-13T00:24:17.714432Z",
     "iopub.status.idle": "2021-09-13T00:24:17.717360Z",
     "shell.execute_reply": "2021-09-13T00:24:17.718097Z"
    },
    "papermill": {
     "duration": 0.048501,
     "end_time": "2021-09-13T00:24:17.718262",
     "exception": false,
     "start_time": "2021-09-13T00:24:17.669761",
     "status": "completed"
    },
    "tags": []
   },
   "outputs": [],
   "source": [
    "#hide\n",
    "LAST_DATE_I, dt_cols = get_dates(df)\n",
    "dt_today =dt_cols[LAST_DATE_I]\n",
    "# dt_5day = dt_cols[LAST_DATE_I - 5]\n",
    "dt_yday = dt_cols[LAST_DATE_I - 1]"
   ]
  },
  {
   "cell_type": "code",
   "execution_count": 11,
   "id": "restricted-sheriff",
   "metadata": {
    "execution": {
     "iopub.execute_input": "2021-09-13T00:24:17.807387Z",
     "iopub.status.busy": "2021-09-13T00:24:17.806688Z",
     "iopub.status.idle": "2021-09-13T00:24:17.815658Z",
     "shell.execute_reply": "2021-09-13T00:24:17.815084Z"
    },
    "papermill": {
     "duration": 0.058957,
     "end_time": "2021-09-13T00:24:17.815798",
     "exception": false,
     "start_time": "2021-09-13T00:24:17.756841",
     "status": "completed"
    },
    "tags": []
   },
   "outputs": [],
   "source": [
    "#hide\n",
    "dfc_cases = dft_cases.groupby(COL_REGION)[dt_today].sum()\n",
    "dfc_deaths = dft_deaths.groupby(COL_REGION)[dt_today].sum()\n",
    "# dfp_cases = dft_cases.groupby(COL_REGION)[dt_5day].sum()\n",
    "# dfp_deaths = dft_deaths.groupby(COL_REGION)[dt_5day].sum()\n",
    "dfp_cases = dft_cases.groupby(COL_REGION)[dt_yday].sum()\n",
    "dfp_deaths = dft_deaths.groupby(COL_REGION)[dt_yday].sum()"
   ]
  },
  {
   "cell_type": "code",
   "execution_count": 12,
   "id": "deluxe-hepatitis",
   "metadata": {
    "execution": {
     "iopub.execute_input": "2021-09-13T00:24:17.902478Z",
     "iopub.status.busy": "2021-09-13T00:24:17.901823Z",
     "iopub.status.idle": "2021-09-13T00:24:17.906102Z",
     "shell.execute_reply": "2021-09-13T00:24:17.906730Z"
    },
    "papermill": {
     "duration": 0.050939,
     "end_time": "2021-09-13T00:24:17.906894",
     "exception": false,
     "start_time": "2021-09-13T00:24:17.855955",
     "status": "completed"
    },
    "tags": []
   },
   "outputs": [],
   "source": [
    "#hide\n",
    "df_table = (pd.DataFrame(dict(Cases = dfc_cases, Deaths = dfc_deaths, PCases = dfp_cases, PDeaths = dfp_deaths))\n",
    "            .sort_values(by = ['Cases','Deaths'], ascending = [False, False])\n",
    "            .reset_index())"
   ]
  },
  {
   "cell_type": "code",
   "execution_count": 13,
   "id": "educational-chancellor",
   "metadata": {
    "execution": {
     "iopub.execute_input": "2021-09-13T00:24:18.005219Z",
     "iopub.status.busy": "2021-09-13T00:24:18.004508Z",
     "iopub.status.idle": "2021-09-13T00:24:18.013309Z",
     "shell.execute_reply": "2021-09-13T00:24:18.014018Z"
    },
    "papermill": {
     "duration": 0.068591,
     "end_time": "2021-09-13T00:24:18.014191",
     "exception": false,
     "start_time": "2021-09-13T00:24:17.945600",
     "status": "completed"
    },
    "tags": []
   },
   "outputs": [
    {
     "data": {
      "text/html": [
       "<div>\n",
       "<style scoped>\n",
       "    .dataframe tbody tr th:only-of-type {\n",
       "        vertical-align: middle;\n",
       "    }\n",
       "\n",
       "    .dataframe tbody tr th {\n",
       "        vertical-align: top;\n",
       "    }\n",
       "\n",
       "    .dataframe thead th {\n",
       "        text-align: right;\n",
       "    }\n",
       "</style>\n",
       "<table border=\"1\" class=\"dataframe\">\n",
       "  <thead>\n",
       "    <tr style=\"text-align: right;\">\n",
       "      <th></th>\n",
       "      <th>Country/Region</th>\n",
       "      <th>Cases</th>\n",
       "      <th>Deaths</th>\n",
       "      <th>PCases</th>\n",
       "      <th>PDeaths</th>\n",
       "      <th>Cases (+)</th>\n",
       "      <th>Deaths (+)</th>\n",
       "      <th>Fatality Rate</th>\n",
       "      <th>Continent</th>\n",
       "    </tr>\n",
       "  </thead>\n",
       "  <tbody>\n",
       "    <tr>\n",
       "      <th>0</th>\n",
       "      <td>US</td>\n",
       "      <td>40921394</td>\n",
       "      <td>659691</td>\n",
       "      <td>40863868</td>\n",
       "      <td>658992</td>\n",
       "      <td>57526</td>\n",
       "      <td>699</td>\n",
       "      <td>1.61</td>\n",
       "      <td>North America</td>\n",
       "    </tr>\n",
       "    <tr>\n",
       "      <th>1</th>\n",
       "      <td>India</td>\n",
       "      <td>33236921</td>\n",
       "      <td>442655</td>\n",
       "      <td>33208330</td>\n",
       "      <td>442317</td>\n",
       "      <td>28591</td>\n",
       "      <td>338</td>\n",
       "      <td>1.33</td>\n",
       "      <td>Asia</td>\n",
       "    </tr>\n",
       "    <tr>\n",
       "      <th>2</th>\n",
       "      <td>Brazil</td>\n",
       "      <td>20989164</td>\n",
       "      <td>586558</td>\n",
       "      <td>20974850</td>\n",
       "      <td>585846</td>\n",
       "      <td>14314</td>\n",
       "      <td>712</td>\n",
       "      <td>2.79</td>\n",
       "      <td>South America</td>\n",
       "    </tr>\n",
       "    <tr>\n",
       "      <th>3</th>\n",
       "      <td>United Kingdom</td>\n",
       "      <td>7231111</td>\n",
       "      <td>134469</td>\n",
       "      <td>7202212</td>\n",
       "      <td>134313</td>\n",
       "      <td>28899</td>\n",
       "      <td>156</td>\n",
       "      <td>1.86</td>\n",
       "      <td>Europe</td>\n",
       "    </tr>\n",
       "    <tr>\n",
       "      <th>4</th>\n",
       "      <td>Russia</td>\n",
       "      <td>7019200</td>\n",
       "      <td>188546</td>\n",
       "      <td>7000636</td>\n",
       "      <td>187768</td>\n",
       "      <td>18564</td>\n",
       "      <td>778</td>\n",
       "      <td>2.69</td>\n",
       "      <td>Europe</td>\n",
       "    </tr>\n",
       "  </tbody>\n",
       "</table>\n",
       "</div>"
      ],
      "text/plain": [
       "   Country/Region     Cases  Deaths    PCases  PDeaths  Cases (+)  Deaths (+)  \\\n",
       "0              US  40921394  659691  40863868   658992      57526         699   \n",
       "1           India  33236921  442655  33208330   442317      28591         338   \n",
       "2          Brazil  20989164  586558  20974850   585846      14314         712   \n",
       "3  United Kingdom   7231111  134469   7202212   134313      28899         156   \n",
       "4          Russia   7019200  188546   7000636   187768      18564         778   \n",
       "\n",
       "   Fatality Rate      Continent  \n",
       "0           1.61  North America  \n",
       "1           1.33           Asia  \n",
       "2           2.79  South America  \n",
       "3           1.86         Europe  \n",
       "4           2.69         Europe  "
      ]
     },
     "execution_count": 13,
     "metadata": {},
     "output_type": "execute_result"
    }
   ],
   "source": [
    "#hide\n",
    "for c in 'Cases, Deaths'.split(', '):\n",
    "    df_table[f'{c} (+)'] = (df_table[c] - df_table[f'P{c}']).clip(0)\n",
    "    #Clip ça veut dire, les chiffres negatif sont interdit\n",
    "df_table['Fatality Rate'] = (100* df_table['Deaths']/ df_table['Cases']).round(2)\n",
    "df_table['Continent'] = df_table['Country/Region'].map(mapping['map.continent'])\n",
    "df_table.head(5)"
   ]
  },
  {
   "cell_type": "code",
   "execution_count": 14,
   "id": "aboriginal-bulgaria",
   "metadata": {
    "execution": {
     "iopub.execute_input": "2021-09-13T00:24:18.103738Z",
     "iopub.status.busy": "2021-09-13T00:24:18.103055Z",
     "iopub.status.idle": "2021-09-13T00:24:18.105598Z",
     "shell.execute_reply": "2021-09-13T00:24:18.105045Z"
    },
    "papermill": {
     "duration": 0.051955,
     "end_time": "2021-09-13T00:24:18.105729",
     "exception": false,
     "start_time": "2021-09-13T00:24:18.053774",
     "status": "completed"
    },
    "tags": []
   },
   "outputs": [],
   "source": [
    "#hide\n",
    "#delete problematic countries from table\n",
    "df_table = df_table[~df_table['Country/Region'].isin(['Cape Verde', 'Cruise Ship', 'Kosovo'])]"
   ]
  },
  {
   "cell_type": "code",
   "execution_count": 15,
   "id": "fantastic-effect",
   "metadata": {
    "execution": {
     "iopub.execute_input": "2021-09-13T00:24:18.193661Z",
     "iopub.status.busy": "2021-09-13T00:24:18.193017Z",
     "iopub.status.idle": "2021-09-13T00:24:18.214076Z",
     "shell.execute_reply": "2021-09-13T00:24:18.214698Z"
    },
    "papermill": {
     "duration": 0.069288,
     "end_time": "2021-09-13T00:24:18.214865",
     "exception": false,
     "start_time": "2021-09-13T00:24:18.145577",
     "status": "completed"
    },
    "tags": []
   },
   "outputs": [
    {
     "data": {
      "text/html": [
       "<div>\n",
       "<style scoped>\n",
       "    .dataframe tbody tr th:only-of-type {\n",
       "        vertical-align: middle;\n",
       "    }\n",
       "\n",
       "    .dataframe tbody tr th {\n",
       "        vertical-align: top;\n",
       "    }\n",
       "\n",
       "    .dataframe thead th {\n",
       "        text-align: right;\n",
       "    }\n",
       "</style>\n",
       "<table border=\"1\" class=\"dataframe\">\n",
       "  <thead>\n",
       "    <tr style=\"text-align: right;\">\n",
       "      <th></th>\n",
       "      <th>Country/Region</th>\n",
       "      <th>Cases</th>\n",
       "      <th>Deaths</th>\n",
       "      <th>PCases</th>\n",
       "      <th>PDeaths</th>\n",
       "      <th>Cases (+)</th>\n",
       "      <th>Deaths (+)</th>\n",
       "      <th>Fatality Rate</th>\n",
       "      <th>Continent</th>\n",
       "    </tr>\n",
       "  </thead>\n",
       "  <tbody>\n",
       "    <tr>\n",
       "      <th>0</th>\n",
       "      <td>US</td>\n",
       "      <td>40921394</td>\n",
       "      <td>659691</td>\n",
       "      <td>40863868</td>\n",
       "      <td>658992</td>\n",
       "      <td>57526</td>\n",
       "      <td>699</td>\n",
       "      <td>1.6</td>\n",
       "      <td>North America</td>\n",
       "    </tr>\n",
       "    <tr>\n",
       "      <th>1</th>\n",
       "      <td>India</td>\n",
       "      <td>33236921</td>\n",
       "      <td>442655</td>\n",
       "      <td>33208330</td>\n",
       "      <td>442317</td>\n",
       "      <td>28591</td>\n",
       "      <td>338</td>\n",
       "      <td>1.3</td>\n",
       "      <td>Asia</td>\n",
       "    </tr>\n",
       "    <tr>\n",
       "      <th>2</th>\n",
       "      <td>Brazil</td>\n",
       "      <td>20989164</td>\n",
       "      <td>586558</td>\n",
       "      <td>20974850</td>\n",
       "      <td>585846</td>\n",
       "      <td>14314</td>\n",
       "      <td>712</td>\n",
       "      <td>2.8</td>\n",
       "      <td>South America</td>\n",
       "    </tr>\n",
       "    <tr>\n",
       "      <th>3</th>\n",
       "      <td>United Kingdom</td>\n",
       "      <td>7231111</td>\n",
       "      <td>134469</td>\n",
       "      <td>7202212</td>\n",
       "      <td>134313</td>\n",
       "      <td>28899</td>\n",
       "      <td>156</td>\n",
       "      <td>1.9</td>\n",
       "      <td>Europe</td>\n",
       "    </tr>\n",
       "    <tr>\n",
       "      <th>4</th>\n",
       "      <td>Russia</td>\n",
       "      <td>7019200</td>\n",
       "      <td>188546</td>\n",
       "      <td>7000636</td>\n",
       "      <td>187768</td>\n",
       "      <td>18564</td>\n",
       "      <td>778</td>\n",
       "      <td>2.7</td>\n",
       "      <td>Europe</td>\n",
       "    </tr>\n",
       "  </tbody>\n",
       "</table>\n",
       "</div>"
      ],
      "text/plain": [
       "   Country/Region     Cases  Deaths    PCases  PDeaths  Cases (+)  Deaths (+)  \\\n",
       "0              US  40921394  659691  40863868   658992      57526         699   \n",
       "1           India  33236921  442655  33208330   442317      28591         338   \n",
       "2          Brazil  20989164  586558  20974850   585846      14314         712   \n",
       "3  United Kingdom   7231111  134469   7202212   134313      28899         156   \n",
       "4          Russia   7019200  188546   7000636   187768      18564         778   \n",
       "\n",
       "   Fatality Rate      Continent  \n",
       "0            1.6  North America  \n",
       "1            1.3           Asia  \n",
       "2            2.8  South America  \n",
       "3            1.9         Europe  \n",
       "4            2.7         Europe  "
      ]
     },
     "execution_count": 15,
     "metadata": {},
     "output_type": "execute_result"
    }
   ],
   "source": [
    "#hide\n",
    "df_table = (pd.DataFrame(dict(Cases=dfc_cases, Deaths=dfc_deaths, PCases=dfp_cases, PDeaths=dfp_deaths))\n",
    "             .sort_values(by=['Cases', 'Deaths'], ascending=[False, False])\n",
    "             .reset_index())\n",
    "df_table.rename(columns={'index': 'Country/Region'}, inplace=True)\n",
    "for c in 'Cases, Deaths'.split(', '):\n",
    "    df_table[f'{c} (+)'] = (df_table[c] - df_table[f'P{c}']).clip(0)  # DATA BUG\n",
    "df_table['Fatality Rate'] = (100 * df_table['Deaths'] / df_table['Cases']).round(1)\n",
    "df_table['Continent'] = df_table['Country/Region'].map(mapping['map.continent'])\n",
    "df_table.head(5)"
   ]
  },
  {
   "cell_type": "code",
   "execution_count": 16,
   "id": "fewer-occasion",
   "metadata": {
    "execution": {
     "iopub.execute_input": "2021-09-13T00:24:18.301277Z",
     "iopub.status.busy": "2021-09-13T00:24:18.300622Z",
     "iopub.status.idle": "2021-09-13T00:24:18.303401Z",
     "shell.execute_reply": "2021-09-13T00:24:18.302789Z"
    },
    "papermill": {
     "duration": 0.048654,
     "end_time": "2021-09-13T00:24:18.303532",
     "exception": false,
     "start_time": "2021-09-13T00:24:18.254878",
     "status": "completed"
    },
    "tags": []
   },
   "outputs": [],
   "source": [
    "#hide\n",
    "#delete problematic countries from table\n",
    "df_table = df_table[~df_table['Country/Region'].isin(['Cape Verde', 'Cruise Ship', 'Kosovo'])]"
   ]
  },
  {
   "cell_type": "code",
   "execution_count": 17,
   "id": "related-center",
   "metadata": {
    "execution": {
     "iopub.execute_input": "2021-09-13T00:24:18.407509Z",
     "iopub.status.busy": "2021-09-13T00:24:18.406816Z",
     "iopub.status.idle": "2021-09-13T00:24:18.409149Z",
     "shell.execute_reply": "2021-09-13T00:24:18.408598Z"
    },
    "papermill": {
     "duration": 0.066129,
     "end_time": "2021-09-13T00:24:18.409281",
     "exception": false,
     "start_time": "2021-09-13T00:24:18.343152",
     "status": "completed"
    },
    "tags": []
   },
   "outputs": [],
   "source": [
    "#hide\n",
    "metrics = [df_table.columns[index] for index in [1,2,5,6]]\n",
    "# s_china = df_table[df_table['Country/Region'].eq('China')][metrics].sum().add_prefix('China ')\n",
    "s_us = df_table[df_table['Country/Region'].eq('US')][metrics].sum().add_prefix('US ')\n",
    "s_eu = df_table[df_table['Continent'].eq('Europe')][metrics].sum().add_prefix('EU ')\n",
    "s_ind = df_table[df_table['Country/Region'].eq('India')][metrics].sum().add_prefix('India ')\n",
    "summary = {'updated': pd.to_datetime(dt_today), 'since': pd.to_datetime(dt_yday)}\n",
    "summary = {'updated': pd.to_datetime(dt_today), 'since': pd.to_datetime(dt_yday)}\n",
    "summary = {**summary, **df_table[metrics].sum(), **s_ind, **s_us, **s_eu}"
   ]
  },
  {
   "cell_type": "code",
   "execution_count": 18,
   "id": "engaging-syndrome",
   "metadata": {
    "execution": {
     "iopub.execute_input": "2021-09-13T00:24:18.497716Z",
     "iopub.status.busy": "2021-09-13T00:24:18.497038Z",
     "iopub.status.idle": "2021-09-13T00:24:18.511538Z",
     "shell.execute_reply": "2021-09-13T00:24:18.512130Z"
    },
    "papermill": {
     "duration": 0.060598,
     "end_time": "2021-09-13T00:24:18.512273",
     "exception": false,
     "start_time": "2021-09-13T00:24:18.451675",
     "status": "completed"
    },
    "tags": []
   },
   "outputs": [],
   "source": [
    "#hide\n",
    "dft_ct_new_cases = dft_cases.groupby(COL_REGION)[dt_cols].sum().diff(axis=1).fillna(0).astype(int)"
   ]
  },
  {
   "cell_type": "code",
   "execution_count": 19,
   "id": "neutral-assignment",
   "metadata": {
    "execution": {
     "iopub.execute_input": "2021-09-13T00:24:18.599973Z",
     "iopub.status.busy": "2021-09-13T00:24:18.599288Z",
     "iopub.status.idle": "2021-09-13T00:24:18.601919Z",
     "shell.execute_reply": "2021-09-13T00:24:18.601302Z"
    },
    "papermill": {
     "duration": 0.048903,
     "end_time": "2021-09-13T00:24:18.602057",
     "exception": false,
     "start_time": "2021-09-13T00:24:18.553154",
     "status": "completed"
    },
    "tags": []
   },
   "outputs": [],
   "source": [
    "#hide\n",
    "everydaycases = dft_ct_new_cases.cumsum(axis=1)"
   ]
  },
  {
   "cell_type": "code",
   "execution_count": 20,
   "id": "parliamentary-calgary",
   "metadata": {
    "execution": {
     "iopub.execute_input": "2021-09-13T00:24:18.688252Z",
     "iopub.status.busy": "2021-09-13T00:24:18.687511Z",
     "iopub.status.idle": "2021-09-13T00:24:19.435364Z",
     "shell.execute_reply": "2021-09-13T00:24:19.434728Z"
    },
    "papermill": {
     "duration": 0.792067,
     "end_time": "2021-09-13T00:24:19.435512",
     "exception": false,
     "start_time": "2021-09-13T00:24:18.643445",
     "status": "completed"
    },
    "tags": []
   },
   "outputs": [],
   "source": [
    "#hide\n",
    "import pandas as pd\n",
    "import matplotlib.pyplot as plt\n",
    "import matplotlib.ticker as ticker\n",
    "import matplotlib.animation as animation\n",
    "from IPython.display import HTML"
   ]
  },
  {
   "cell_type": "code",
   "execution_count": 21,
   "id": "lasting-extraction",
   "metadata": {
    "execution": {
     "iopub.execute_input": "2021-09-13T00:24:19.520667Z",
     "iopub.status.busy": "2021-09-13T00:24:19.519952Z",
     "iopub.status.idle": "2021-09-13T00:24:19.525940Z",
     "shell.execute_reply": "2021-09-13T00:24:19.526543Z"
    },
    "papermill": {
     "duration": 0.052005,
     "end_time": "2021-09-13T00:24:19.526678",
     "exception": false,
     "start_time": "2021-09-13T00:24:19.474673",
     "status": "completed"
    },
    "tags": []
   },
   "outputs": [],
   "source": [
    "#hide\n",
    "t = everydaycases.stack()"
   ]
  },
  {
   "cell_type": "code",
   "execution_count": 22,
   "id": "premier-sleeve",
   "metadata": {
    "execution": {
     "iopub.execute_input": "2021-09-13T00:24:19.610042Z",
     "iopub.status.busy": "2021-09-13T00:24:19.609342Z",
     "iopub.status.idle": "2021-09-13T00:24:19.618987Z",
     "shell.execute_reply": "2021-09-13T00:24:19.618386Z"
    },
    "papermill": {
     "duration": 0.053086,
     "end_time": "2021-09-13T00:24:19.619168",
     "exception": false,
     "start_time": "2021-09-13T00:24:19.566082",
     "status": "completed"
    },
    "tags": []
   },
   "outputs": [],
   "source": [
    "#hide\n",
    "g = t.reset_index(['Country/Region'])"
   ]
  },
  {
   "cell_type": "code",
   "execution_count": 23,
   "id": "distributed-pittsburgh",
   "metadata": {
    "execution": {
     "iopub.execute_input": "2021-09-13T00:24:19.704607Z",
     "iopub.status.busy": "2021-09-13T00:24:19.703157Z",
     "iopub.status.idle": "2021-09-13T00:24:19.705355Z",
     "shell.execute_reply": "2021-09-13T00:24:19.705873Z"
    },
    "papermill": {
     "duration": 0.046132,
     "end_time": "2021-09-13T00:24:19.706053",
     "exception": false,
     "start_time": "2021-09-13T00:24:19.659921",
     "status": "completed"
    },
    "tags": []
   },
   "outputs": [],
   "source": [
    "#hide\n",
    "g.index.name = 'date'"
   ]
  },
  {
   "cell_type": "code",
   "execution_count": 24,
   "id": "naked-donor",
   "metadata": {
    "execution": {
     "iopub.execute_input": "2021-09-13T00:24:19.786485Z",
     "iopub.status.busy": "2021-09-13T00:24:19.785851Z",
     "iopub.status.idle": "2021-09-13T00:24:19.787774Z",
     "shell.execute_reply": "2021-09-13T00:24:19.788536Z"
    },
    "papermill": {
     "duration": 0.044392,
     "end_time": "2021-09-13T00:24:19.788685",
     "exception": false,
     "start_time": "2021-09-13T00:24:19.744293",
     "status": "completed"
    },
    "tags": []
   },
   "outputs": [],
   "source": [
    "# #hide\n",
    "# g = g.reset_index(['date'])"
   ]
  },
  {
   "cell_type": "code",
   "execution_count": 25,
   "id": "incomplete-mustang",
   "metadata": {
    "execution": {
     "iopub.execute_input": "2021-09-13T00:24:19.873002Z",
     "iopub.status.busy": "2021-09-13T00:24:19.872316Z",
     "iopub.status.idle": "2021-09-13T00:24:19.874815Z",
     "shell.execute_reply": "2021-09-13T00:24:19.874116Z"
    },
    "papermill": {
     "duration": 0.046201,
     "end_time": "2021-09-13T00:24:19.874960",
     "exception": false,
     "start_time": "2021-09-13T00:24:19.828759",
     "status": "completed"
    },
    "tags": []
   },
   "outputs": [],
   "source": [
    "#hide\n",
    "# g.head()"
   ]
  },
  {
   "cell_type": "code",
   "execution_count": 26,
   "id": "specific-kruger",
   "metadata": {
    "execution": {
     "iopub.execute_input": "2021-09-13T00:24:19.959080Z",
     "iopub.status.busy": "2021-09-13T00:24:19.958451Z",
     "iopub.status.idle": "2021-09-13T00:24:19.960644Z",
     "shell.execute_reply": "2021-09-13T00:24:19.961175Z"
    },
    "papermill": {
     "duration": 0.046903,
     "end_time": "2021-09-13T00:24:19.961312",
     "exception": false,
     "start_time": "2021-09-13T00:24:19.914409",
     "status": "completed"
    },
    "tags": []
   },
   "outputs": [],
   "source": [
    "#hide\n",
    "# g.columns = ['date','country','cases']"
   ]
  },
  {
   "cell_type": "code",
   "execution_count": 27,
   "id": "tender-conversion",
   "metadata": {
    "execution": {
     "iopub.execute_input": "2021-09-13T00:24:20.047954Z",
     "iopub.status.busy": "2021-09-13T00:24:20.047301Z",
     "iopub.status.idle": "2021-09-13T00:24:20.049185Z",
     "shell.execute_reply": "2021-09-13T00:24:20.049751Z"
    },
    "papermill": {
     "duration": 0.048247,
     "end_time": "2021-09-13T00:24:20.049898",
     "exception": false,
     "start_time": "2021-09-13T00:24:20.001651",
     "status": "completed"
    },
    "tags": []
   },
   "outputs": [],
   "source": [
    "#hide\n",
    "# g['continent'] = g.country"
   ]
  },
  {
   "cell_type": "code",
   "execution_count": 28,
   "id": "substantial-wilderness",
   "metadata": {
    "execution": {
     "iopub.execute_input": "2021-09-13T00:24:20.132813Z",
     "iopub.status.busy": "2021-09-13T00:24:20.132159Z",
     "iopub.status.idle": "2021-09-13T00:24:20.134014Z",
     "shell.execute_reply": "2021-09-13T00:24:20.134581Z"
    },
    "papermill": {
     "duration": 0.045913,
     "end_time": "2021-09-13T00:24:20.134725",
     "exception": false,
     "start_time": "2021-09-13T00:24:20.088812",
     "status": "completed"
    },
    "tags": []
   },
   "outputs": [],
   "source": [
    "#hide\n",
    "# cols = list(g.columns.values)"
   ]
  },
  {
   "cell_type": "code",
   "execution_count": 29,
   "id": "solved-farming",
   "metadata": {
    "execution": {
     "iopub.execute_input": "2021-09-13T00:24:20.217627Z",
     "iopub.status.busy": "2021-09-13T00:24:20.216965Z",
     "iopub.status.idle": "2021-09-13T00:24:20.219336Z",
     "shell.execute_reply": "2021-09-13T00:24:20.218800Z"
    },
    "papermill": {
     "duration": 0.045775,
     "end_time": "2021-09-13T00:24:20.219468",
     "exception": false,
     "start_time": "2021-09-13T00:24:20.173693",
     "status": "completed"
    },
    "tags": []
   },
   "outputs": [],
   "source": [
    "#hide\n",
    "# cols.insert(0, cols.pop())"
   ]
  },
  {
   "cell_type": "code",
   "execution_count": 30,
   "id": "executed-adoption",
   "metadata": {
    "execution": {
     "iopub.execute_input": "2021-09-13T00:24:20.310667Z",
     "iopub.status.busy": "2021-09-13T00:24:20.309976Z",
     "iopub.status.idle": "2021-09-13T00:24:20.314205Z",
     "shell.execute_reply": "2021-09-13T00:24:20.312470Z"
    },
    "papermill": {
     "duration": 0.053205,
     "end_time": "2021-09-13T00:24:20.314351",
     "exception": false,
     "start_time": "2021-09-13T00:24:20.261146",
     "status": "completed"
    },
    "tags": []
   },
   "outputs": [],
   "source": [
    "#hide\n",
    "# g = g[cols]"
   ]
  },
  {
   "cell_type": "code",
   "execution_count": 31,
   "id": "subject-dublin",
   "metadata": {
    "execution": {
     "iopub.execute_input": "2021-09-13T00:24:20.412690Z",
     "iopub.status.busy": "2021-09-13T00:24:20.411904Z",
     "iopub.status.idle": "2021-09-13T00:24:20.416263Z",
     "shell.execute_reply": "2021-09-13T00:24:20.416768Z"
    },
    "papermill": {
     "duration": 0.058896,
     "end_time": "2021-09-13T00:24:20.416920",
     "exception": false,
     "start_time": "2021-09-13T00:24:20.358024",
     "status": "completed"
    },
    "tags": []
   },
   "outputs": [],
   "source": [
    "#hide\n",
    "# g['continent'] = g['continent'].map(mapping['map.continent'])"
   ]
  },
  {
   "cell_type": "code",
   "execution_count": 32,
   "id": "freelance-scout",
   "metadata": {
    "execution": {
     "iopub.execute_input": "2021-09-13T00:24:20.555511Z",
     "iopub.status.busy": "2021-09-13T00:24:20.554735Z",
     "iopub.status.idle": "2021-09-13T00:24:20.557956Z",
     "shell.execute_reply": "2021-09-13T00:24:20.558581Z"
    },
    "papermill": {
     "duration": 0.04928,
     "end_time": "2021-09-13T00:24:20.558732",
     "exception": false,
     "start_time": "2021-09-13T00:24:20.509452",
     "status": "completed"
    },
    "tags": []
   },
   "outputs": [],
   "source": [
    "#hide\n",
    "# g.head()"
   ]
  },
  {
   "cell_type": "code",
   "execution_count": 33,
   "id": "limited-engine",
   "metadata": {
    "execution": {
     "iopub.execute_input": "2021-09-13T00:24:20.641468Z",
     "iopub.status.busy": "2021-09-13T00:24:20.640819Z",
     "iopub.status.idle": "2021-09-13T00:24:20.642897Z",
     "shell.execute_reply": "2021-09-13T00:24:20.643429Z"
    },
    "papermill": {
     "duration": 0.045225,
     "end_time": "2021-09-13T00:24:20.643628",
     "exception": false,
     "start_time": "2021-09-13T00:24:20.598403",
     "status": "completed"
    },
    "tags": []
   },
   "outputs": [],
   "source": [
    "# hide\n",
    "# g['date'] = g['date'].astype('datetime64[ns]')"
   ]
  },
  {
   "cell_type": "code",
   "execution_count": 34,
   "id": "sophisticated-supervisor",
   "metadata": {
    "execution": {
     "iopub.execute_input": "2021-09-13T00:24:20.725153Z",
     "iopub.status.busy": "2021-09-13T00:24:20.724502Z",
     "iopub.status.idle": "2021-09-13T00:24:20.727032Z",
     "shell.execute_reply": "2021-09-13T00:24:20.726479Z"
    },
    "papermill": {
     "duration": 0.043549,
     "end_time": "2021-09-13T00:24:20.727198",
     "exception": false,
     "start_time": "2021-09-13T00:24:20.683649",
     "status": "completed"
    },
    "tags": []
   },
   "outputs": [],
   "source": [
    "#hide\n",
    "# g['date'] = g.date.dt.dayofyear"
   ]
  },
  {
   "cell_type": "code",
   "execution_count": 35,
   "id": "inside-dubai",
   "metadata": {
    "execution": {
     "iopub.execute_input": "2021-09-13T00:24:20.810231Z",
     "iopub.status.busy": "2021-09-13T00:24:20.809577Z",
     "iopub.status.idle": "2021-09-13T00:24:20.812686Z",
     "shell.execute_reply": "2021-09-13T00:24:20.812133Z"
    },
    "papermill": {
     "duration": 0.046423,
     "end_time": "2021-09-13T00:24:20.812817",
     "exception": false,
     "start_time": "2021-09-13T00:24:20.766394",
     "status": "completed"
    },
    "tags": []
   },
   "outputs": [],
   "source": [
    "#hide\n",
    "# g = g.rename(columns= {'continent':'group','country':'name','cases':'value'})"
   ]
  },
  {
   "cell_type": "code",
   "execution_count": 36,
   "id": "fleet-motorcycle",
   "metadata": {
    "execution": {
     "iopub.execute_input": "2021-09-13T00:24:20.896269Z",
     "iopub.status.busy": "2021-09-13T00:24:20.895619Z",
     "iopub.status.idle": "2021-09-13T00:24:20.897464Z",
     "shell.execute_reply": "2021-09-13T00:24:20.898046Z"
    },
    "papermill": {
     "duration": 0.04596,
     "end_time": "2021-09-13T00:24:20.898195",
     "exception": false,
     "start_time": "2021-09-13T00:24:20.852235",
     "status": "completed"
    },
    "tags": []
   },
   "outputs": [],
   "source": [
    "#hide\n",
    "# cols = ['name','group','day','value']"
   ]
  },
  {
   "cell_type": "code",
   "execution_count": 37,
   "id": "continued-sleeping",
   "metadata": {
    "execution": {
     "iopub.execute_input": "2021-09-13T00:24:20.980476Z",
     "iopub.status.busy": "2021-09-13T00:24:20.979810Z",
     "iopub.status.idle": "2021-09-13T00:24:20.982059Z",
     "shell.execute_reply": "2021-09-13T00:24:20.982645Z"
    },
    "papermill": {
     "duration": 0.045059,
     "end_time": "2021-09-13T00:24:20.982793",
     "exception": false,
     "start_time": "2021-09-13T00:24:20.937734",
     "status": "completed"
    },
    "tags": []
   },
   "outputs": [],
   "source": [
    "#hide\n",
    "# g.rename(columns= {'date':'day'},inplace = True)"
   ]
  },
  {
   "cell_type": "code",
   "execution_count": 38,
   "id": "major-fight",
   "metadata": {
    "execution": {
     "iopub.execute_input": "2021-09-13T00:24:21.064908Z",
     "iopub.status.busy": "2021-09-13T00:24:21.064223Z",
     "iopub.status.idle": "2021-09-13T00:24:21.066158Z",
     "shell.execute_reply": "2021-09-13T00:24:21.066773Z"
    },
    "papermill": {
     "duration": 0.04569,
     "end_time": "2021-09-13T00:24:21.066919",
     "exception": false,
     "start_time": "2021-09-13T00:24:21.021229",
     "status": "completed"
    },
    "tags": []
   },
   "outputs": [],
   "source": [
    "#hide\n",
    "# g = g[cols]"
   ]
  },
  {
   "cell_type": "code",
   "execution_count": 39,
   "id": "structured-mobile",
   "metadata": {
    "execution": {
     "iopub.execute_input": "2021-09-13T00:24:21.148712Z",
     "iopub.status.busy": "2021-09-13T00:24:21.148041Z",
     "iopub.status.idle": "2021-09-13T00:24:21.149926Z",
     "shell.execute_reply": "2021-09-13T00:24:21.150521Z"
    },
    "papermill": {
     "duration": 0.044336,
     "end_time": "2021-09-13T00:24:21.150661",
     "exception": false,
     "start_time": "2021-09-13T00:24:21.106325",
     "status": "completed"
    },
    "tags": []
   },
   "outputs": [],
   "source": [
    "# #hide\n",
    "# g = g[g.group.notna()]"
   ]
  },
  {
   "cell_type": "code",
   "execution_count": 40,
   "id": "determined-closing",
   "metadata": {
    "execution": {
     "iopub.execute_input": "2021-09-13T00:24:21.233065Z",
     "iopub.status.busy": "2021-09-13T00:24:21.232407Z",
     "iopub.status.idle": "2021-09-13T00:24:21.235306Z",
     "shell.execute_reply": "2021-09-13T00:24:21.234714Z"
    },
    "papermill": {
     "duration": 0.046368,
     "end_time": "2021-09-13T00:24:21.235447",
     "exception": false,
     "start_time": "2021-09-13T00:24:21.189079",
     "status": "completed"
    },
    "tags": []
   },
   "outputs": [],
   "source": [
    "# #hide\n",
    "# colors = dict(zip(\n",
    "#     [\"Oceania\", \"Europe\", \"Asia\", \"South America\", \"Middle East\", \"North America\", \"Africa\"],\n",
    "#     [\"#adb0ff\", \"#ffb3ff\", \"#90d595\", \"#e48381\", \"#aafbff\", \"#f7bb5f\", \"#eafb50\"]\n",
    "# ))\n",
    "# group_lk = g.set_index('name')['group'].to_dict()"
   ]
  },
  {
   "cell_type": "code",
   "execution_count": null,
   "id": "gross-drinking",
   "metadata": {
    "papermill": {
     "duration": 0.040429,
     "end_time": "2021-09-13T00:24:21.315757",
     "exception": false,
     "start_time": "2021-09-13T00:24:21.275328",
     "status": "completed"
    },
    "tags": []
   },
   "outputs": [],
   "source": []
  },
  {
   "cell_type": "code",
   "execution_count": 41,
   "id": "subject-macintosh",
   "metadata": {
    "execution": {
     "iopub.execute_input": "2021-09-13T00:24:21.399968Z",
     "iopub.status.busy": "2021-09-13T00:24:21.399246Z",
     "iopub.status.idle": "2021-09-13T00:24:21.401744Z",
     "shell.execute_reply": "2021-09-13T00:24:21.402314Z"
    },
    "papermill": {
     "duration": 0.046639,
     "end_time": "2021-09-13T00:24:21.402474",
     "exception": false,
     "start_time": "2021-09-13T00:24:21.355835",
     "status": "completed"
    },
    "tags": []
   },
   "outputs": [],
   "source": [
    "# #hide\n",
    "# fig, ax = plt.subplots(figsize=(15, 8))\n",
    "\n",
    "# def draw_barchart(current_day):\n",
    "#     dff = g[g['day'].eq(current_day)].sort_values(by='value', ascending=True).tail(10)\n",
    "#     ax.clear()\n",
    "#     ax.barh(dff['name'], dff['value'], color=[colors[group_lk[x]] for x in dff['name']])\n",
    "#     dx = dff['value'].max() / 200\n",
    "    \n",
    "#     for i, (value, name) in enumerate(zip(dff['value'], dff['name'])):\n",
    "#         ax.text(value-dx, i,     name,           size=14, weight=600, ha='right', va='bottom')\n",
    "#         ax.text(value-dx, i-.25, group_lk[name], size=10, color='#444444', ha='right', va='baseline')\n",
    "#         ax.text(value+dx, i,     f'{value:,.0f}',  size=14, ha='left',  va='center')\n",
    "#     ax.text(1, 0.4, current_day, transform=ax.transAxes, color='#777777', size=46, ha='right', weight=800)\n",
    "#     ax.text(0, 1.06, 'Population (thousands)', transform=ax.transAxes, size=12, color='#777777')\n",
    "#     ax.xaxis.set_major_formatter(ticker.StrMethodFormatter('{x:,.0f}'))\n",
    "#     ax.xaxis.set_ticks_position('top')\n",
    "#     ax.tick_params(axis='x', colors='#777777', labelsize=12)\n",
    "#     ax.set_yticks([])\n",
    "#     ax.margins(0, 0.01)\n",
    "#     ax.grid(which='major', axis='x', linestyle='-')\n",
    "#     ax.set_axisbelow(True)\n",
    "    \n",
    "#     ax.text(0, 1.15, 'Coronavirus',\n",
    "#             transform=ax.transAxes, size=24, weight=600, ha='left', va='top')\n",
    "# #     ax.text(1, 0, 'by @pratapvardhan; credit @jburnmurdoch', transform=ax.transAxes, color='#777777', ha='right',\n",
    "# #             bbox=dict(facecolor='white', alpha=0.8, edgecolor='white'))\n",
    "#     plt.box(False)"
   ]
  },
  {
   "cell_type": "code",
   "execution_count": 42,
   "id": "sexual-wages",
   "metadata": {
    "execution": {
     "iopub.execute_input": "2021-09-13T00:24:21.486826Z",
     "iopub.status.busy": "2021-09-13T00:24:21.485838Z",
     "iopub.status.idle": "2021-09-13T00:24:21.488442Z",
     "shell.execute_reply": "2021-09-13T00:24:21.489080Z"
    },
    "papermill": {
     "duration": 0.045966,
     "end_time": "2021-09-13T00:24:21.489221",
     "exception": false,
     "start_time": "2021-09-13T00:24:21.443255",
     "status": "completed"
    },
    "tags": []
   },
   "outputs": [],
   "source": [
    "# #hide_input\n",
    "# fig, ax = plt.subplots(figsize=(15, 8))\n",
    "# animator = animation.FuncAnimation(fig, draw_barchart, frames=range(g.day.values.min(), g.day.values.max()))\n",
    "# HTML(animator.to_jshtml())\n",
    "# # or use animator.to_html5_video() or animator.save() "
   ]
  },
  {
   "cell_type": "code",
   "execution_count": null,
   "id": "australian-container",
   "metadata": {
    "papermill": {
     "duration": 0.04219,
     "end_time": "2021-09-13T00:24:21.571448",
     "exception": false,
     "start_time": "2021-09-13T00:24:21.529258",
     "status": "completed"
    },
    "tags": []
   },
   "outputs": [],
   "source": []
  },
  {
   "cell_type": "code",
   "execution_count": null,
   "id": "mediterranean-pontiac",
   "metadata": {
    "papermill": {
     "duration": 0.040466,
     "end_time": "2021-09-13T00:24:21.652222",
     "exception": false,
     "start_time": "2021-09-13T00:24:21.611756",
     "status": "completed"
    },
    "tags": []
   },
   "outputs": [],
   "source": []
  },
  {
   "cell_type": "code",
   "execution_count": null,
   "id": "aging-legislature",
   "metadata": {
    "papermill": {
     "duration": 0.039789,
     "end_time": "2021-09-13T00:24:21.731828",
     "exception": false,
     "start_time": "2021-09-13T00:24:21.692039",
     "status": "completed"
    },
    "tags": []
   },
   "outputs": [],
   "source": []
  }
 ],
 "metadata": {
  "kernelspec": {
   "display_name": "Python 3",
   "language": "python",
   "name": "python3"
  },
  "language_info": {
   "codemirror_mode": {
    "name": "ipython",
    "version": 3
   },
   "file_extension": ".py",
   "mimetype": "text/x-python",
   "name": "python",
   "nbconvert_exporter": "python",
   "pygments_lexer": "ipython3",
   "version": "3.6.14"
  },
  "papermill": {
   "duration": 7.367914,
   "end_time": "2021-09-13T00:24:22.179830",
   "environment_variables": {},
   "exception": null,
   "input_path": "2020-03-21-covid19exp.ipynb",
   "output_path": "2020-03-21-covid19exp.ipynb",
   "parameters": {},
   "start_time": "2021-09-13T00:24:14.811916",
   "version": "2.0.0"
  }
 },
 "nbformat": 4,
 "nbformat_minor": 5
}