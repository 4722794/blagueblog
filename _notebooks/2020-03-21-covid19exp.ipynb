{
 "cells": [
  {
   "cell_type": "markdown",
   "id": "muslim-click",
   "metadata": {
    "papermill": {
     "duration": 0.033492,
     "end_time": "2022-05-10T00:40:28.368821",
     "exception": false,
     "start_time": "2022-05-10T00:40:28.335329",
     "status": "completed"
    },
    "tags": []
   },
   "source": [
    "# COVID-19 Case Race\n",
    "> A race chart to see rising cases around the world\n",
    "\n",
    "- author: Hargun Oberoi\n",
    "- image: images/covid-overview.png\n",
    "- hide: false\n",
    "- badges: false"
   ]
  },
  {
   "cell_type": "code",
   "execution_count": 1,
   "id": "proof-material",
   "metadata": {
    "execution": {
     "iopub.execute_input": "2022-05-10T00:40:28.440350Z",
     "iopub.status.busy": "2022-05-10T00:40:28.439784Z",
     "iopub.status.idle": "2022-05-10T00:40:28.764759Z",
     "shell.execute_reply": "2022-05-10T00:40:28.765234Z"
    },
    "papermill": {
     "duration": 0.365032,
     "end_time": "2022-05-10T00:40:28.765406",
     "exception": false,
     "start_time": "2022-05-10T00:40:28.400374",
     "status": "completed"
    },
    "tags": []
   },
   "outputs": [],
   "source": [
    "#hide\n",
    "import numpy as np\n",
    "import pandas as pd\n",
    "from jinja2 import Template\n",
    "from IPython.display import HTML"
   ]
  },
  {
   "cell_type": "code",
   "execution_count": 2,
   "id": "developed-terminology",
   "metadata": {
    "execution": {
     "iopub.execute_input": "2022-05-10T00:40:28.828789Z",
     "iopub.status.busy": "2022-05-10T00:40:28.828241Z",
     "iopub.status.idle": "2022-05-10T00:40:28.830281Z",
     "shell.execute_reply": "2022-05-10T00:40:28.829869Z"
    },
    "papermill": {
     "duration": 0.035545,
     "end_time": "2022-05-10T00:40:28.830394",
     "exception": false,
     "start_time": "2022-05-10T00:40:28.794849",
     "status": "completed"
    },
    "tags": []
   },
   "outputs": [],
   "source": [
    "#hide\n",
    "\n",
    "# FETCH\n",
    "base_url = 'https://raw.githubusercontent.com/pratapvardhan/notebooks/master/covid19/'\n",
    "paths = {\n",
    "    'mapping': base_url + 'mapping_countries.csv',\n",
    "    'overview': base_url + 'overview.tpl'\n",
    "}"
   ]
  },
  {
   "cell_type": "code",
   "execution_count": 3,
   "id": "dynamic-saver",
   "metadata": {
    "execution": {
     "iopub.execute_input": "2022-05-10T00:40:28.898477Z",
     "iopub.status.busy": "2022-05-10T00:40:28.897958Z",
     "iopub.status.idle": "2022-05-10T00:40:28.900326Z",
     "shell.execute_reply": "2022-05-10T00:40:28.900754Z"
    },
    "papermill": {
     "duration": 0.041453,
     "end_time": "2022-05-10T00:40:28.900877",
     "exception": false,
     "start_time": "2022-05-10T00:40:28.859424",
     "status": "completed"
    },
    "tags": []
   },
   "outputs": [
    {
     "data": {
      "text/plain": [
       "'https://raw.githubusercontent.com/pratapvardhan/notebooks/master/covid19/mapping_countries.csv'"
      ]
     },
     "execution_count": 3,
     "metadata": {},
     "output_type": "execute_result"
    }
   ],
   "source": [
    "#hide\n",
    "paths['mapping']"
   ]
  },
  {
   "cell_type": "code",
   "execution_count": 4,
   "id": "urban-software",
   "metadata": {
    "execution": {
     "iopub.execute_input": "2022-05-10T00:40:28.964430Z",
     "iopub.status.busy": "2022-05-10T00:40:28.963847Z",
     "iopub.status.idle": "2022-05-10T00:40:28.966049Z",
     "shell.execute_reply": "2022-05-10T00:40:28.965515Z"
    },
    "papermill": {
     "duration": 0.035973,
     "end_time": "2022-05-10T00:40:28.966177",
     "exception": false,
     "start_time": "2022-05-10T00:40:28.930204",
     "status": "completed"
    },
    "tags": []
   },
   "outputs": [],
   "source": [
    "#hide\n",
    "def get_mappings(url):\n",
    "    df = pd.read_csv(url)\n",
    "    return {\n",
    "        'df': df,\n",
    "        'replace.country': dict(df.dropna(subset=['Name']).set_index('Country')['Name']),\n",
    "        'map.continent': dict(df.set_index('Name')['Continent'])\n",
    "    }"
   ]
  },
  {
   "cell_type": "code",
   "execution_count": 5,
   "id": "intimate-machinery",
   "metadata": {
    "execution": {
     "iopub.execute_input": "2022-05-10T00:40:29.030823Z",
     "iopub.status.busy": "2022-05-10T00:40:29.030272Z",
     "iopub.status.idle": "2022-05-10T00:40:29.056426Z",
     "shell.execute_reply": "2022-05-10T00:40:29.055951Z"
    },
    "papermill": {
     "duration": 0.06035,
     "end_time": "2022-05-10T00:40:29.056556",
     "exception": false,
     "start_time": "2022-05-10T00:40:28.996206",
     "status": "completed"
    },
    "tags": []
   },
   "outputs": [],
   "source": [
    "#hide\n",
    "mapping = get_mappings(paths['mapping'])"
   ]
  },
  {
   "cell_type": "code",
   "execution_count": 6,
   "id": "certified-tactics",
   "metadata": {
    "execution": {
     "iopub.execute_input": "2022-05-10T00:40:29.121513Z",
     "iopub.status.busy": "2022-05-10T00:40:29.120999Z",
     "iopub.status.idle": "2022-05-10T00:40:29.123436Z",
     "shell.execute_reply": "2022-05-10T00:40:29.122994Z"
    },
    "papermill": {
     "duration": 0.036665,
     "end_time": "2022-05-10T00:40:29.123544",
     "exception": false,
     "start_time": "2022-05-10T00:40:29.086879",
     "status": "completed"
    },
    "tags": []
   },
   "outputs": [],
   "source": [
    "#hide\n",
    "def get_template(path):\n",
    "    from urllib.parse import urlparse\n",
    "    if bool(urlparse(path).netloc):\n",
    "        from urllib.request import urlopen\n",
    "        return urlopen(path).read().decode('utf8')\n",
    "    return open(path).read()"
   ]
  },
  {
   "cell_type": "code",
   "execution_count": 7,
   "id": "realistic-blast",
   "metadata": {
    "execution": {
     "iopub.execute_input": "2022-05-10T00:40:29.187187Z",
     "iopub.status.busy": "2022-05-10T00:40:29.186665Z",
     "iopub.status.idle": "2022-05-10T00:40:29.189152Z",
     "shell.execute_reply": "2022-05-10T00:40:29.188743Z"
    },
    "papermill": {
     "duration": 0.036347,
     "end_time": "2022-05-10T00:40:29.189263",
     "exception": false,
     "start_time": "2022-05-10T00:40:29.152916",
     "status": "completed"
    },
    "tags": []
   },
   "outputs": [],
   "source": [
    "#hide\n",
    "def get_frame(name):\n",
    "    url = (\n",
    "        'https://raw.githubusercontent.com/CSSEGISandData/COVID-19/master/csse_covid_19_data/'\n",
    "        f'csse_covid_19_time_series/time_series_covid19_{name}_global.csv')\n",
    "    df = pd.read_csv(url)\n",
    "    # rename countries\n",
    "    df['Country/Region'] = df['Country/Region'].replace(mapping['replace.country'])\n",
    "    return df"
   ]
  },
  {
   "cell_type": "code",
   "execution_count": 8,
   "id": "affiliated-characterization",
   "metadata": {
    "execution": {
     "iopub.execute_input": "2022-05-10T00:40:29.254722Z",
     "iopub.status.busy": "2022-05-10T00:40:29.254136Z",
     "iopub.status.idle": "2022-05-10T00:40:29.257973Z",
     "shell.execute_reply": "2022-05-10T00:40:29.257563Z"
    },
    "papermill": {
     "duration": 0.039037,
     "end_time": "2022-05-10T00:40:29.258082",
     "exception": false,
     "start_time": "2022-05-10T00:40:29.219045",
     "status": "completed"
    },
    "tags": []
   },
   "outputs": [],
   "source": [
    "#hide\n",
    "def get_dates(df):\n",
    "    dt_cols = df.columns[~df.columns.isin(['Province/State', 'Country/Region', 'Lat', 'Long'])]\n",
    "    LAST_DATE_I = -1\n",
    "    # sometimes last column may be empty, then go backwards\n",
    "    for i in range(-1, -len(dt_cols), -1):\n",
    "        if not df[dt_cols[i]].fillna(0).eq(0).all():\n",
    "            LAST_DATE_I = i\n",
    "            break\n",
    "    return LAST_DATE_I, dt_cols"
   ]
  },
  {
   "cell_type": "code",
   "execution_count": 9,
   "id": "recent-optimization",
   "metadata": {
    "execution": {
     "iopub.execute_input": "2022-05-10T00:40:29.321465Z",
     "iopub.status.busy": "2022-05-10T00:40:29.320944Z",
     "iopub.status.idle": "2022-05-10T00:40:29.669696Z",
     "shell.execute_reply": "2022-05-10T00:40:29.669150Z"
    },
    "papermill": {
     "duration": 0.382364,
     "end_time": "2022-05-10T00:40:29.669840",
     "exception": false,
     "start_time": "2022-05-10T00:40:29.287476",
     "status": "completed"
    },
    "tags": []
   },
   "outputs": [],
   "source": [
    "#hide\n",
    "COL_REGION = 'Country/Region'\n",
    "# Confirmed, Recovered, Deaths\n",
    "df = get_frame('confirmed')\n",
    "# dft_: timeseries, dfc_: today country agg\n",
    "dft_cases = df\n",
    "dft_deaths = get_frame('deaths')\n",
    "dft_recovered = get_frame('recovered')\n",
    "LAST_DATE_I, dt_cols = get_dates(df)"
   ]
  },
  {
   "cell_type": "code",
   "execution_count": 10,
   "id": "absolute-copper",
   "metadata": {
    "execution": {
     "iopub.execute_input": "2022-05-10T00:40:29.735381Z",
     "iopub.status.busy": "2022-05-10T00:40:29.734839Z",
     "iopub.status.idle": "2022-05-10T00:40:29.737380Z",
     "shell.execute_reply": "2022-05-10T00:40:29.736970Z"
    },
    "papermill": {
     "duration": 0.036967,
     "end_time": "2022-05-10T00:40:29.737493",
     "exception": false,
     "start_time": "2022-05-10T00:40:29.700526",
     "status": "completed"
    },
    "tags": []
   },
   "outputs": [],
   "source": [
    "#hide\n",
    "LAST_DATE_I, dt_cols = get_dates(df)\n",
    "dt_today =dt_cols[LAST_DATE_I]\n",
    "# dt_5day = dt_cols[LAST_DATE_I - 5]\n",
    "dt_yday = dt_cols[LAST_DATE_I - 1]"
   ]
  },
  {
   "cell_type": "code",
   "execution_count": 11,
   "id": "restricted-sheriff",
   "metadata": {
    "execution": {
     "iopub.execute_input": "2022-05-10T00:40:29.802841Z",
     "iopub.status.busy": "2022-05-10T00:40:29.802296Z",
     "iopub.status.idle": "2022-05-10T00:40:29.809598Z",
     "shell.execute_reply": "2022-05-10T00:40:29.809186Z"
    },
    "papermill": {
     "duration": 0.04274,
     "end_time": "2022-05-10T00:40:29.809709",
     "exception": false,
     "start_time": "2022-05-10T00:40:29.766969",
     "status": "completed"
    },
    "tags": []
   },
   "outputs": [],
   "source": [
    "#hide\n",
    "dfc_cases = dft_cases.groupby(COL_REGION)[dt_today].sum()\n",
    "dfc_deaths = dft_deaths.groupby(COL_REGION)[dt_today].sum()\n",
    "# dfp_cases = dft_cases.groupby(COL_REGION)[dt_5day].sum()\n",
    "# dfp_deaths = dft_deaths.groupby(COL_REGION)[dt_5day].sum()\n",
    "dfp_cases = dft_cases.groupby(COL_REGION)[dt_yday].sum()\n",
    "dfp_deaths = dft_deaths.groupby(COL_REGION)[dt_yday].sum()"
   ]
  },
  {
   "cell_type": "code",
   "execution_count": 12,
   "id": "deluxe-hepatitis",
   "metadata": {
    "execution": {
     "iopub.execute_input": "2022-05-10T00:40:29.875387Z",
     "iopub.status.busy": "2022-05-10T00:40:29.874864Z",
     "iopub.status.idle": "2022-05-10T00:40:29.879448Z",
     "shell.execute_reply": "2022-05-10T00:40:29.879036Z"
    },
    "papermill": {
     "duration": 0.040246,
     "end_time": "2022-05-10T00:40:29.879562",
     "exception": false,
     "start_time": "2022-05-10T00:40:29.839316",
     "status": "completed"
    },
    "tags": []
   },
   "outputs": [],
   "source": [
    "#hide\n",
    "df_table = (pd.DataFrame(dict(Cases = dfc_cases, Deaths = dfc_deaths, PCases = dfp_cases, PDeaths = dfp_deaths))\n",
    "            .sort_values(by = ['Cases','Deaths'], ascending = [False, False])\n",
    "            .reset_index())"
   ]
  },
  {
   "cell_type": "code",
   "execution_count": 13,
   "id": "educational-chancellor",
   "metadata": {
    "execution": {
     "iopub.execute_input": "2022-05-10T00:40:29.956343Z",
     "iopub.status.busy": "2022-05-10T00:40:29.955810Z",
     "iopub.status.idle": "2022-05-10T00:40:29.963286Z",
     "shell.execute_reply": "2022-05-10T00:40:29.962846Z"
    },
    "papermill": {
     "duration": 0.05449,
     "end_time": "2022-05-10T00:40:29.963396",
     "exception": false,
     "start_time": "2022-05-10T00:40:29.908906",
     "status": "completed"
    },
    "tags": []
   },
   "outputs": [
    {
     "data": {
      "text/html": [
       "<div>\n",
       "<style scoped>\n",
       "    .dataframe tbody tr th:only-of-type {\n",
       "        vertical-align: middle;\n",
       "    }\n",
       "\n",
       "    .dataframe tbody tr th {\n",
       "        vertical-align: top;\n",
       "    }\n",
       "\n",
       "    .dataframe thead th {\n",
       "        text-align: right;\n",
       "    }\n",
       "</style>\n",
       "<table border=\"1\" class=\"dataframe\">\n",
       "  <thead>\n",
       "    <tr style=\"text-align: right;\">\n",
       "      <th></th>\n",
       "      <th>Country/Region</th>\n",
       "      <th>Cases</th>\n",
       "      <th>Deaths</th>\n",
       "      <th>PCases</th>\n",
       "      <th>PDeaths</th>\n",
       "      <th>Cases (+)</th>\n",
       "      <th>Deaths (+)</th>\n",
       "      <th>Fatality Rate</th>\n",
       "      <th>Continent</th>\n",
       "    </tr>\n",
       "  </thead>\n",
       "  <tbody>\n",
       "    <tr>\n",
       "      <th>0</th>\n",
       "      <td>US</td>\n",
       "      <td>81863479</td>\n",
       "      <td>997526</td>\n",
       "      <td>81858498</td>\n",
       "      <td>997503</td>\n",
       "      <td>4981</td>\n",
       "      <td>23</td>\n",
       "      <td>1.22</td>\n",
       "      <td>North America</td>\n",
       "    </tr>\n",
       "    <tr>\n",
       "      <th>1</th>\n",
       "      <td>India</td>\n",
       "      <td>43105401</td>\n",
       "      <td>524093</td>\n",
       "      <td>43102194</td>\n",
       "      <td>524064</td>\n",
       "      <td>3207</td>\n",
       "      <td>29</td>\n",
       "      <td>1.22</td>\n",
       "      <td>Asia</td>\n",
       "    </tr>\n",
       "    <tr>\n",
       "      <th>2</th>\n",
       "      <td>Brazil</td>\n",
       "      <td>30564536</td>\n",
       "      <td>664374</td>\n",
       "      <td>30558530</td>\n",
       "      <td>664361</td>\n",
       "      <td>6006</td>\n",
       "      <td>13</td>\n",
       "      <td>2.17</td>\n",
       "      <td>South America</td>\n",
       "    </tr>\n",
       "    <tr>\n",
       "      <th>3</th>\n",
       "      <td>France</td>\n",
       "      <td>29148451</td>\n",
       "      <td>147761</td>\n",
       "      <td>29119127</td>\n",
       "      <td>147707</td>\n",
       "      <td>29324</td>\n",
       "      <td>54</td>\n",
       "      <td>0.51</td>\n",
       "      <td>Europe</td>\n",
       "    </tr>\n",
       "    <tr>\n",
       "      <th>4</th>\n",
       "      <td>Germany</td>\n",
       "      <td>25299300</td>\n",
       "      <td>136538</td>\n",
       "      <td>25295950</td>\n",
       "      <td>136533</td>\n",
       "      <td>3350</td>\n",
       "      <td>5</td>\n",
       "      <td>0.54</td>\n",
       "      <td>Europe</td>\n",
       "    </tr>\n",
       "  </tbody>\n",
       "</table>\n",
       "</div>"
      ],
      "text/plain": [
       "  Country/Region     Cases  Deaths    PCases  PDeaths  Cases (+)  Deaths (+)  \\\n",
       "0             US  81863479  997526  81858498   997503       4981          23   \n",
       "1          India  43105401  524093  43102194   524064       3207          29   \n",
       "2         Brazil  30564536  664374  30558530   664361       6006          13   \n",
       "3         France  29148451  147761  29119127   147707      29324          54   \n",
       "4        Germany  25299300  136538  25295950   136533       3350           5   \n",
       "\n",
       "   Fatality Rate      Continent  \n",
       "0           1.22  North America  \n",
       "1           1.22           Asia  \n",
       "2           2.17  South America  \n",
       "3           0.51         Europe  \n",
       "4           0.54         Europe  "
      ]
     },
     "execution_count": 13,
     "metadata": {},
     "output_type": "execute_result"
    }
   ],
   "source": [
    "#hide\n",
    "for c in 'Cases, Deaths'.split(', '):\n",
    "    df_table[f'{c} (+)'] = (df_table[c] - df_table[f'P{c}']).clip(0)\n",
    "    #Clip ça veut dire, les chiffres negatif sont interdit\n",
    "df_table['Fatality Rate'] = (100* df_table['Deaths']/ df_table['Cases']).round(2)\n",
    "df_table['Continent'] = df_table['Country/Region'].map(mapping['map.continent'])\n",
    "df_table.head(5)"
   ]
  },
  {
   "cell_type": "code",
   "execution_count": 14,
   "id": "aboriginal-bulgaria",
   "metadata": {
    "execution": {
     "iopub.execute_input": "2022-05-10T00:40:30.029276Z",
     "iopub.status.busy": "2022-05-10T00:40:30.028768Z",
     "iopub.status.idle": "2022-05-10T00:40:30.031127Z",
     "shell.execute_reply": "2022-05-10T00:40:30.030690Z"
    },
    "papermill": {
     "duration": 0.037838,
     "end_time": "2022-05-10T00:40:30.031234",
     "exception": false,
     "start_time": "2022-05-10T00:40:29.993396",
     "status": "completed"
    },
    "tags": []
   },
   "outputs": [],
   "source": [
    "#hide\n",
    "#delete problematic countries from table\n",
    "df_table = df_table[~df_table['Country/Region'].isin(['Cape Verde', 'Cruise Ship', 'Kosovo'])]"
   ]
  },
  {
   "cell_type": "code",
   "execution_count": 15,
   "id": "fantastic-effect",
   "metadata": {
    "execution": {
     "iopub.execute_input": "2022-05-10T00:40:30.098489Z",
     "iopub.status.busy": "2022-05-10T00:40:30.097979Z",
     "iopub.status.idle": "2022-05-10T00:40:30.114736Z",
     "shell.execute_reply": "2022-05-10T00:40:30.115125Z"
    },
    "papermill": {
     "duration": 0.054382,
     "end_time": "2022-05-10T00:40:30.115256",
     "exception": false,
     "start_time": "2022-05-10T00:40:30.060874",
     "status": "completed"
    },
    "tags": []
   },
   "outputs": [
    {
     "data": {
      "text/html": [
       "<div>\n",
       "<style scoped>\n",
       "    .dataframe tbody tr th:only-of-type {\n",
       "        vertical-align: middle;\n",
       "    }\n",
       "\n",
       "    .dataframe tbody tr th {\n",
       "        vertical-align: top;\n",
       "    }\n",
       "\n",
       "    .dataframe thead th {\n",
       "        text-align: right;\n",
       "    }\n",
       "</style>\n",
       "<table border=\"1\" class=\"dataframe\">\n",
       "  <thead>\n",
       "    <tr style=\"text-align: right;\">\n",
       "      <th></th>\n",
       "      <th>Country/Region</th>\n",
       "      <th>Cases</th>\n",
       "      <th>Deaths</th>\n",
       "      <th>PCases</th>\n",
       "      <th>PDeaths</th>\n",
       "      <th>Cases (+)</th>\n",
       "      <th>Deaths (+)</th>\n",
       "      <th>Fatality Rate</th>\n",
       "      <th>Continent</th>\n",
       "    </tr>\n",
       "  </thead>\n",
       "  <tbody>\n",
       "    <tr>\n",
       "      <th>0</th>\n",
       "      <td>US</td>\n",
       "      <td>81863479</td>\n",
       "      <td>997526</td>\n",
       "      <td>81858498</td>\n",
       "      <td>997503</td>\n",
       "      <td>4981</td>\n",
       "      <td>23</td>\n",
       "      <td>1.2</td>\n",
       "      <td>North America</td>\n",
       "    </tr>\n",
       "    <tr>\n",
       "      <th>1</th>\n",
       "      <td>India</td>\n",
       "      <td>43105401</td>\n",
       "      <td>524093</td>\n",
       "      <td>43102194</td>\n",
       "      <td>524064</td>\n",
       "      <td>3207</td>\n",
       "      <td>29</td>\n",
       "      <td>1.2</td>\n",
       "      <td>Asia</td>\n",
       "    </tr>\n",
       "    <tr>\n",
       "      <th>2</th>\n",
       "      <td>Brazil</td>\n",
       "      <td>30564536</td>\n",
       "      <td>664374</td>\n",
       "      <td>30558530</td>\n",
       "      <td>664361</td>\n",
       "      <td>6006</td>\n",
       "      <td>13</td>\n",
       "      <td>2.2</td>\n",
       "      <td>South America</td>\n",
       "    </tr>\n",
       "    <tr>\n",
       "      <th>3</th>\n",
       "      <td>France</td>\n",
       "      <td>29148451</td>\n",
       "      <td>147761</td>\n",
       "      <td>29119127</td>\n",
       "      <td>147707</td>\n",
       "      <td>29324</td>\n",
       "      <td>54</td>\n",
       "      <td>0.5</td>\n",
       "      <td>Europe</td>\n",
       "    </tr>\n",
       "    <tr>\n",
       "      <th>4</th>\n",
       "      <td>Germany</td>\n",
       "      <td>25299300</td>\n",
       "      <td>136538</td>\n",
       "      <td>25295950</td>\n",
       "      <td>136533</td>\n",
       "      <td>3350</td>\n",
       "      <td>5</td>\n",
       "      <td>0.5</td>\n",
       "      <td>Europe</td>\n",
       "    </tr>\n",
       "  </tbody>\n",
       "</table>\n",
       "</div>"
      ],
      "text/plain": [
       "  Country/Region     Cases  Deaths    PCases  PDeaths  Cases (+)  Deaths (+)  \\\n",
       "0             US  81863479  997526  81858498   997503       4981          23   \n",
       "1          India  43105401  524093  43102194   524064       3207          29   \n",
       "2         Brazil  30564536  664374  30558530   664361       6006          13   \n",
       "3         France  29148451  147761  29119127   147707      29324          54   \n",
       "4        Germany  25299300  136538  25295950   136533       3350           5   \n",
       "\n",
       "   Fatality Rate      Continent  \n",
       "0            1.2  North America  \n",
       "1            1.2           Asia  \n",
       "2            2.2  South America  \n",
       "3            0.5         Europe  \n",
       "4            0.5         Europe  "
      ]
     },
     "execution_count": 15,
     "metadata": {},
     "output_type": "execute_result"
    }
   ],
   "source": [
    "#hide\n",
    "df_table = (pd.DataFrame(dict(Cases=dfc_cases, Deaths=dfc_deaths, PCases=dfp_cases, PDeaths=dfp_deaths))\n",
    "             .sort_values(by=['Cases', 'Deaths'], ascending=[False, False])\n",
    "             .reset_index())\n",
    "df_table.rename(columns={'index': 'Country/Region'}, inplace=True)\n",
    "for c in 'Cases, Deaths'.split(', '):\n",
    "    df_table[f'{c} (+)'] = (df_table[c] - df_table[f'P{c}']).clip(0)  # DATA BUG\n",
    "df_table['Fatality Rate'] = (100 * df_table['Deaths'] / df_table['Cases']).round(1)\n",
    "df_table['Continent'] = df_table['Country/Region'].map(mapping['map.continent'])\n",
    "df_table.head(5)"
   ]
  },
  {
   "cell_type": "code",
   "execution_count": 16,
   "id": "fewer-occasion",
   "metadata": {
    "execution": {
     "iopub.execute_input": "2022-05-10T00:40:30.181982Z",
     "iopub.status.busy": "2022-05-10T00:40:30.181432Z",
     "iopub.status.idle": "2022-05-10T00:40:30.183546Z",
     "shell.execute_reply": "2022-05-10T00:40:30.183138Z"
    },
    "papermill": {
     "duration": 0.038027,
     "end_time": "2022-05-10T00:40:30.183655",
     "exception": false,
     "start_time": "2022-05-10T00:40:30.145628",
     "status": "completed"
    },
    "tags": []
   },
   "outputs": [],
   "source": [
    "#hide\n",
    "#delete problematic countries from table\n",
    "df_table = df_table[~df_table['Country/Region'].isin(['Cape Verde', 'Cruise Ship', 'Kosovo'])]"
   ]
  },
  {
   "cell_type": "code",
   "execution_count": 17,
   "id": "related-center",
   "metadata": {
    "execution": {
     "iopub.execute_input": "2022-05-10T00:40:30.262416Z",
     "iopub.status.busy": "2022-05-10T00:40:30.261889Z",
     "iopub.status.idle": "2022-05-10T00:40:30.264285Z",
     "shell.execute_reply": "2022-05-10T00:40:30.263871Z"
    },
    "papermill": {
     "duration": 0.050489,
     "end_time": "2022-05-10T00:40:30.264399",
     "exception": false,
     "start_time": "2022-05-10T00:40:30.213910",
     "status": "completed"
    },
    "tags": []
   },
   "outputs": [],
   "source": [
    "#hide\n",
    "metrics = [df_table.columns[index] for index in [1,2,5,6]]\n",
    "# s_china = df_table[df_table['Country/Region'].eq('China')][metrics].sum().add_prefix('China ')\n",
    "s_us = df_table[df_table['Country/Region'].eq('US')][metrics].sum().add_prefix('US ')\n",
    "s_eu = df_table[df_table['Continent'].eq('Europe')][metrics].sum().add_prefix('EU ')\n",
    "s_ind = df_table[df_table['Country/Region'].eq('India')][metrics].sum().add_prefix('India ')\n",
    "summary = {'updated': pd.to_datetime(dt_today), 'since': pd.to_datetime(dt_yday)}\n",
    "summary = {'updated': pd.to_datetime(dt_today), 'since': pd.to_datetime(dt_yday)}\n",
    "summary = {**summary, **df_table[metrics].sum(), **s_ind, **s_us, **s_eu}"
   ]
  },
  {
   "cell_type": "code",
   "execution_count": 18,
   "id": "engaging-syndrome",
   "metadata": {
    "execution": {
     "iopub.execute_input": "2022-05-10T00:40:30.332759Z",
     "iopub.status.busy": "2022-05-10T00:40:30.332250Z",
     "iopub.status.idle": "2022-05-10T00:40:30.350180Z",
     "shell.execute_reply": "2022-05-10T00:40:30.350633Z"
    },
    "papermill": {
     "duration": 0.054577,
     "end_time": "2022-05-10T00:40:30.350786",
     "exception": false,
     "start_time": "2022-05-10T00:40:30.296209",
     "status": "completed"
    },
    "tags": []
   },
   "outputs": [],
   "source": [
    "#hide\n",
    "dft_ct_new_cases = dft_cases.groupby(COL_REGION)[dt_cols].sum().diff(axis=1).fillna(0).astype(int)"
   ]
  },
  {
   "cell_type": "code",
   "execution_count": 19,
   "id": "neutral-assignment",
   "metadata": {
    "execution": {
     "iopub.execute_input": "2022-05-10T00:40:30.418509Z",
     "iopub.status.busy": "2022-05-10T00:40:30.417903Z",
     "iopub.status.idle": "2022-05-10T00:40:30.419442Z",
     "shell.execute_reply": "2022-05-10T00:40:30.419904Z"
    },
    "papermill": {
     "duration": 0.03867,
     "end_time": "2022-05-10T00:40:30.420054",
     "exception": false,
     "start_time": "2022-05-10T00:40:30.381384",
     "status": "completed"
    },
    "tags": []
   },
   "outputs": [],
   "source": [
    "#hide\n",
    "everydaycases = dft_ct_new_cases.cumsum(axis=1)"
   ]
  },
  {
   "cell_type": "code",
   "execution_count": 20,
   "id": "parliamentary-calgary",
   "metadata": {
    "execution": {
     "iopub.execute_input": "2022-05-10T00:40:30.486256Z",
     "iopub.status.busy": "2022-05-10T00:40:30.485714Z",
     "iopub.status.idle": "2022-05-10T00:40:31.025292Z",
     "shell.execute_reply": "2022-05-10T00:40:31.025778Z"
    },
    "papermill": {
     "duration": 0.575052,
     "end_time": "2022-05-10T00:40:31.025951",
     "exception": false,
     "start_time": "2022-05-10T00:40:30.450899",
     "status": "completed"
    },
    "tags": []
   },
   "outputs": [],
   "source": [
    "#hide\n",
    "import pandas as pd\n",
    "import matplotlib.pyplot as plt\n",
    "import matplotlib.ticker as ticker\n",
    "import matplotlib.animation as animation\n",
    "from IPython.display import HTML"
   ]
  },
  {
   "cell_type": "code",
   "execution_count": 21,
   "id": "lasting-extraction",
   "metadata": {
    "execution": {
     "iopub.execute_input": "2022-05-10T00:40:31.094706Z",
     "iopub.status.busy": "2022-05-10T00:40:31.094160Z",
     "iopub.status.idle": "2022-05-10T00:40:31.100903Z",
     "shell.execute_reply": "2022-05-10T00:40:31.100491Z"
    },
    "papermill": {
     "duration": 0.043235,
     "end_time": "2022-05-10T00:40:31.101020",
     "exception": false,
     "start_time": "2022-05-10T00:40:31.057785",
     "status": "completed"
    },
    "tags": []
   },
   "outputs": [],
   "source": [
    "#hide\n",
    "t = everydaycases.stack()"
   ]
  },
  {
   "cell_type": "code",
   "execution_count": 22,
   "id": "premier-sleeve",
   "metadata": {
    "execution": {
     "iopub.execute_input": "2022-05-10T00:40:31.165658Z",
     "iopub.status.busy": "2022-05-10T00:40:31.165147Z",
     "iopub.status.idle": "2022-05-10T00:40:31.175354Z",
     "shell.execute_reply": "2022-05-10T00:40:31.175783Z"
    },
    "papermill": {
     "duration": 0.04442,
     "end_time": "2022-05-10T00:40:31.175912",
     "exception": false,
     "start_time": "2022-05-10T00:40:31.131492",
     "status": "completed"
    },
    "tags": []
   },
   "outputs": [],
   "source": [
    "#hide\n",
    "g = t.reset_index(['Country/Region'])"
   ]
  },
  {
   "cell_type": "code",
   "execution_count": 23,
   "id": "distributed-pittsburgh",
   "metadata": {
    "execution": {
     "iopub.execute_input": "2022-05-10T00:40:31.240451Z",
     "iopub.status.busy": "2022-05-10T00:40:31.239848Z",
     "iopub.status.idle": "2022-05-10T00:40:31.242054Z",
     "shell.execute_reply": "2022-05-10T00:40:31.241561Z"
    },
    "papermill": {
     "duration": 0.036192,
     "end_time": "2022-05-10T00:40:31.242176",
     "exception": false,
     "start_time": "2022-05-10T00:40:31.205984",
     "status": "completed"
    },
    "tags": []
   },
   "outputs": [],
   "source": [
    "#hide\n",
    "g.index.name = 'date'"
   ]
  },
  {
   "cell_type": "code",
   "execution_count": 24,
   "id": "naked-donor",
   "metadata": {
    "execution": {
     "iopub.execute_input": "2022-05-10T00:40:31.307235Z",
     "iopub.status.busy": "2022-05-10T00:40:31.306624Z",
     "iopub.status.idle": "2022-05-10T00:40:31.309398Z",
     "shell.execute_reply": "2022-05-10T00:40:31.308968Z"
    },
    "papermill": {
     "duration": 0.03624,
     "end_time": "2022-05-10T00:40:31.309505",
     "exception": false,
     "start_time": "2022-05-10T00:40:31.273265",
     "status": "completed"
    },
    "tags": []
   },
   "outputs": [],
   "source": [
    "# #hide\n",
    "# g = g.reset_index(['date'])"
   ]
  },
  {
   "cell_type": "code",
   "execution_count": 25,
   "id": "incomplete-mustang",
   "metadata": {
    "execution": {
     "iopub.execute_input": "2022-05-10T00:40:31.373539Z",
     "iopub.status.busy": "2022-05-10T00:40:31.372949Z",
     "iopub.status.idle": "2022-05-10T00:40:31.375110Z",
     "shell.execute_reply": "2022-05-10T00:40:31.374632Z"
    },
    "papermill": {
     "duration": 0.035493,
     "end_time": "2022-05-10T00:40:31.375235",
     "exception": false,
     "start_time": "2022-05-10T00:40:31.339742",
     "status": "completed"
    },
    "tags": []
   },
   "outputs": [],
   "source": [
    "#hide\n",
    "# g.head()"
   ]
  },
  {
   "cell_type": "code",
   "execution_count": 26,
   "id": "specific-kruger",
   "metadata": {
    "execution": {
     "iopub.execute_input": "2022-05-10T00:40:31.439937Z",
     "iopub.status.busy": "2022-05-10T00:40:31.439355Z",
     "iopub.status.idle": "2022-05-10T00:40:31.441058Z",
     "shell.execute_reply": "2022-05-10T00:40:31.441486Z"
    },
    "papermill": {
     "duration": 0.035493,
     "end_time": "2022-05-10T00:40:31.441613",
     "exception": false,
     "start_time": "2022-05-10T00:40:31.406120",
     "status": "completed"
    },
    "tags": []
   },
   "outputs": [],
   "source": [
    "#hide\n",
    "# g.columns = ['date','country','cases']"
   ]
  },
  {
   "cell_type": "code",
   "execution_count": 27,
   "id": "tender-conversion",
   "metadata": {
    "execution": {
     "iopub.execute_input": "2022-05-10T00:40:31.505650Z",
     "iopub.status.busy": "2022-05-10T00:40:31.505044Z",
     "iopub.status.idle": "2022-05-10T00:40:31.508522Z",
     "shell.execute_reply": "2022-05-10T00:40:31.508962Z"
    },
    "papermill": {
     "duration": 0.037414,
     "end_time": "2022-05-10T00:40:31.509105",
     "exception": false,
     "start_time": "2022-05-10T00:40:31.471691",
     "status": "completed"
    },
    "tags": []
   },
   "outputs": [],
   "source": [
    "#hide\n",
    "# g['continent'] = g.country"
   ]
  },
  {
   "cell_type": "code",
   "execution_count": 28,
   "id": "substantial-wilderness",
   "metadata": {
    "execution": {
     "iopub.execute_input": "2022-05-10T00:40:31.574378Z",
     "iopub.status.busy": "2022-05-10T00:40:31.573802Z",
     "iopub.status.idle": "2022-05-10T00:40:31.575467Z",
     "shell.execute_reply": "2022-05-10T00:40:31.575852Z"
    },
    "papermill": {
     "duration": 0.035671,
     "end_time": "2022-05-10T00:40:31.575985",
     "exception": false,
     "start_time": "2022-05-10T00:40:31.540314",
     "status": "completed"
    },
    "tags": []
   },
   "outputs": [],
   "source": [
    "#hide\n",
    "# cols = list(g.columns.values)"
   ]
  },
  {
   "cell_type": "code",
   "execution_count": 29,
   "id": "solved-farming",
   "metadata": {
    "execution": {
     "iopub.execute_input": "2022-05-10T00:40:31.640271Z",
     "iopub.status.busy": "2022-05-10T00:40:31.639675Z",
     "iopub.status.idle": "2022-05-10T00:40:31.641778Z",
     "shell.execute_reply": "2022-05-10T00:40:31.641201Z"
    },
    "papermill": {
     "duration": 0.035587,
     "end_time": "2022-05-10T00:40:31.641896",
     "exception": false,
     "start_time": "2022-05-10T00:40:31.606309",
     "status": "completed"
    },
    "tags": []
   },
   "outputs": [],
   "source": [
    "#hide\n",
    "# cols.insert(0, cols.pop())"
   ]
  },
  {
   "cell_type": "code",
   "execution_count": 30,
   "id": "executed-adoption",
   "metadata": {
    "execution": {
     "iopub.execute_input": "2022-05-10T00:40:31.707100Z",
     "iopub.status.busy": "2022-05-10T00:40:31.706496Z",
     "iopub.status.idle": "2022-05-10T00:40:31.708505Z",
     "shell.execute_reply": "2022-05-10T00:40:31.708075Z"
    },
    "papermill": {
     "duration": 0.03544,
     "end_time": "2022-05-10T00:40:31.708610",
     "exception": false,
     "start_time": "2022-05-10T00:40:31.673170",
     "status": "completed"
    },
    "tags": []
   },
   "outputs": [],
   "source": [
    "#hide\n",
    "# g = g[cols]"
   ]
  },
  {
   "cell_type": "code",
   "execution_count": 31,
   "id": "subject-dublin",
   "metadata": {
    "execution": {
     "iopub.execute_input": "2022-05-10T00:40:31.772543Z",
     "iopub.status.busy": "2022-05-10T00:40:31.771959Z",
     "iopub.status.idle": "2022-05-10T00:40:31.774107Z",
     "shell.execute_reply": "2022-05-10T00:40:31.773643Z"
    },
    "papermill": {
     "duration": 0.035356,
     "end_time": "2022-05-10T00:40:31.774230",
     "exception": false,
     "start_time": "2022-05-10T00:40:31.738874",
     "status": "completed"
    },
    "tags": []
   },
   "outputs": [],
   "source": [
    "#hide\n",
    "# g['continent'] = g['continent'].map(mapping['map.continent'])"
   ]
  },
  {
   "cell_type": "code",
   "execution_count": 32,
   "id": "freelance-scout",
   "metadata": {
    "execution": {
     "iopub.execute_input": "2022-05-10T00:40:31.839281Z",
     "iopub.status.busy": "2022-05-10T00:40:31.838676Z",
     "iopub.status.idle": "2022-05-10T00:40:31.840293Z",
     "shell.execute_reply": "2022-05-10T00:40:31.840674Z"
    },
    "papermill": {
     "duration": 0.035524,
     "end_time": "2022-05-10T00:40:31.840801",
     "exception": false,
     "start_time": "2022-05-10T00:40:31.805277",
     "status": "completed"
    },
    "tags": []
   },
   "outputs": [],
   "source": [
    "#hide\n",
    "# g.head()"
   ]
  },
  {
   "cell_type": "code",
   "execution_count": 33,
   "id": "limited-engine",
   "metadata": {
    "execution": {
     "iopub.execute_input": "2022-05-10T00:40:31.904617Z",
     "iopub.status.busy": "2022-05-10T00:40:31.904037Z",
     "iopub.status.idle": "2022-05-10T00:40:31.905764Z",
     "shell.execute_reply": "2022-05-10T00:40:31.906203Z"
    },
    "papermill": {
     "duration": 0.035414,
     "end_time": "2022-05-10T00:40:31.906341",
     "exception": false,
     "start_time": "2022-05-10T00:40:31.870927",
     "status": "completed"
    },
    "tags": []
   },
   "outputs": [],
   "source": [
    "# hide\n",
    "# g['date'] = g['date'].astype('datetime64[ns]')"
   ]
  },
  {
   "cell_type": "code",
   "execution_count": 34,
   "id": "sophisticated-supervisor",
   "metadata": {
    "execution": {
     "iopub.execute_input": "2022-05-10T00:40:31.970993Z",
     "iopub.status.busy": "2022-05-10T00:40:31.970382Z",
     "iopub.status.idle": "2022-05-10T00:40:31.972009Z",
     "shell.execute_reply": "2022-05-10T00:40:31.972392Z"
    },
    "papermill": {
     "duration": 0.035323,
     "end_time": "2022-05-10T00:40:31.972514",
     "exception": false,
     "start_time": "2022-05-10T00:40:31.937191",
     "status": "completed"
    },
    "tags": []
   },
   "outputs": [],
   "source": [
    "#hide\n",
    "# g['date'] = g.date.dt.dayofyear"
   ]
  },
  {
   "cell_type": "code",
   "execution_count": 35,
   "id": "inside-dubai",
   "metadata": {
    "execution": {
     "iopub.execute_input": "2022-05-10T00:40:32.036269Z",
     "iopub.status.busy": "2022-05-10T00:40:32.035678Z",
     "iopub.status.idle": "2022-05-10T00:40:32.037842Z",
     "shell.execute_reply": "2022-05-10T00:40:32.037379Z"
    },
    "papermill": {
     "duration": 0.035363,
     "end_time": "2022-05-10T00:40:32.037961",
     "exception": false,
     "start_time": "2022-05-10T00:40:32.002598",
     "status": "completed"
    },
    "tags": []
   },
   "outputs": [],
   "source": [
    "#hide\n",
    "# g = g.rename(columns= {'continent':'group','country':'name','cases':'value'})"
   ]
  },
  {
   "cell_type": "code",
   "execution_count": 36,
   "id": "fleet-motorcycle",
   "metadata": {
    "execution": {
     "iopub.execute_input": "2022-05-10T00:40:32.102709Z",
     "iopub.status.busy": "2022-05-10T00:40:32.102089Z",
     "iopub.status.idle": "2022-05-10T00:40:32.105390Z",
     "shell.execute_reply": "2022-05-10T00:40:32.104983Z"
    },
    "papermill": {
     "duration": 0.036665,
     "end_time": "2022-05-10T00:40:32.105497",
     "exception": false,
     "start_time": "2022-05-10T00:40:32.068832",
     "status": "completed"
    },
    "tags": []
   },
   "outputs": [],
   "source": [
    "#hide\n",
    "# cols = ['name','group','day','value']"
   ]
  },
  {
   "cell_type": "code",
   "execution_count": 37,
   "id": "continued-sleeping",
   "metadata": {
    "execution": {
     "iopub.execute_input": "2022-05-10T00:40:32.169353Z",
     "iopub.status.busy": "2022-05-10T00:40:32.168761Z",
     "iopub.status.idle": "2022-05-10T00:40:32.170923Z",
     "shell.execute_reply": "2022-05-10T00:40:32.170401Z"
    },
    "papermill": {
     "duration": 0.035428,
     "end_time": "2022-05-10T00:40:32.171045",
     "exception": false,
     "start_time": "2022-05-10T00:40:32.135617",
     "status": "completed"
    },
    "tags": []
   },
   "outputs": [],
   "source": [
    "#hide\n",
    "# g.rename(columns= {'date':'day'},inplace = True)"
   ]
  },
  {
   "cell_type": "code",
   "execution_count": 38,
   "id": "major-fight",
   "metadata": {
    "execution": {
     "iopub.execute_input": "2022-05-10T00:40:32.235869Z",
     "iopub.status.busy": "2022-05-10T00:40:32.235264Z",
     "iopub.status.idle": "2022-05-10T00:40:32.236755Z",
     "shell.execute_reply": "2022-05-10T00:40:32.237162Z"
    },
    "papermill": {
     "duration": 0.035438,
     "end_time": "2022-05-10T00:40:32.237283",
     "exception": false,
     "start_time": "2022-05-10T00:40:32.201845",
     "status": "completed"
    },
    "tags": []
   },
   "outputs": [],
   "source": [
    "#hide\n",
    "# g = g[cols]"
   ]
  },
  {
   "cell_type": "code",
   "execution_count": 39,
   "id": "structured-mobile",
   "metadata": {
    "execution": {
     "iopub.execute_input": "2022-05-10T00:40:32.300799Z",
     "iopub.status.busy": "2022-05-10T00:40:32.300191Z",
     "iopub.status.idle": "2022-05-10T00:40:32.303588Z",
     "shell.execute_reply": "2022-05-10T00:40:32.304029Z"
    },
    "papermill": {
     "duration": 0.03705,
     "end_time": "2022-05-10T00:40:32.304172",
     "exception": false,
     "start_time": "2022-05-10T00:40:32.267122",
     "status": "completed"
    },
    "tags": []
   },
   "outputs": [],
   "source": [
    "# #hide\n",
    "# g = g[g.group.notna()]"
   ]
  },
  {
   "cell_type": "code",
   "execution_count": 40,
   "id": "determined-closing",
   "metadata": {
    "execution": {
     "iopub.execute_input": "2022-05-10T00:40:32.369173Z",
     "iopub.status.busy": "2022-05-10T00:40:32.368624Z",
     "iopub.status.idle": "2022-05-10T00:40:32.370719Z",
     "shell.execute_reply": "2022-05-10T00:40:32.370282Z"
    },
    "papermill": {
     "duration": 0.035928,
     "end_time": "2022-05-10T00:40:32.370833",
     "exception": false,
     "start_time": "2022-05-10T00:40:32.334905",
     "status": "completed"
    },
    "tags": []
   },
   "outputs": [],
   "source": [
    "# #hide\n",
    "# colors = dict(zip(\n",
    "#     [\"Oceania\", \"Europe\", \"Asia\", \"South America\", \"Middle East\", \"North America\", \"Africa\"],\n",
    "#     [\"#adb0ff\", \"#ffb3ff\", \"#90d595\", \"#e48381\", \"#aafbff\", \"#f7bb5f\", \"#eafb50\"]\n",
    "# ))\n",
    "# group_lk = g.set_index('name')['group'].to_dict()"
   ]
  },
  {
   "cell_type": "code",
   "execution_count": null,
   "id": "gross-drinking",
   "metadata": {
    "papermill": {
     "duration": 0.030052,
     "end_time": "2022-05-10T00:40:32.430843",
     "exception": false,
     "start_time": "2022-05-10T00:40:32.400791",
     "status": "completed"
    },
    "tags": []
   },
   "outputs": [],
   "source": []
  },
  {
   "cell_type": "code",
   "execution_count": 41,
   "id": "subject-macintosh",
   "metadata": {
    "execution": {
     "iopub.execute_input": "2022-05-10T00:40:32.495334Z",
     "iopub.status.busy": "2022-05-10T00:40:32.494785Z",
     "iopub.status.idle": "2022-05-10T00:40:32.496994Z",
     "shell.execute_reply": "2022-05-10T00:40:32.496585Z"
    },
    "papermill": {
     "duration": 0.036174,
     "end_time": "2022-05-10T00:40:32.497104",
     "exception": false,
     "start_time": "2022-05-10T00:40:32.460930",
     "status": "completed"
    },
    "tags": []
   },
   "outputs": [],
   "source": [
    "# #hide\n",
    "# fig, ax = plt.subplots(figsize=(15, 8))\n",
    "\n",
    "# def draw_barchart(current_day):\n",
    "#     dff = g[g['day'].eq(current_day)].sort_values(by='value', ascending=True).tail(10)\n",
    "#     ax.clear()\n",
    "#     ax.barh(dff['name'], dff['value'], color=[colors[group_lk[x]] for x in dff['name']])\n",
    "#     dx = dff['value'].max() / 200\n",
    "    \n",
    "#     for i, (value, name) in enumerate(zip(dff['value'], dff['name'])):\n",
    "#         ax.text(value-dx, i,     name,           size=14, weight=600, ha='right', va='bottom')\n",
    "#         ax.text(value-dx, i-.25, group_lk[name], size=10, color='#444444', ha='right', va='baseline')\n",
    "#         ax.text(value+dx, i,     f'{value:,.0f}',  size=14, ha='left',  va='center')\n",
    "#     ax.text(1, 0.4, current_day, transform=ax.transAxes, color='#777777', size=46, ha='right', weight=800)\n",
    "#     ax.text(0, 1.06, 'Population (thousands)', transform=ax.transAxes, size=12, color='#777777')\n",
    "#     ax.xaxis.set_major_formatter(ticker.StrMethodFormatter('{x:,.0f}'))\n",
    "#     ax.xaxis.set_ticks_position('top')\n",
    "#     ax.tick_params(axis='x', colors='#777777', labelsize=12)\n",
    "#     ax.set_yticks([])\n",
    "#     ax.margins(0, 0.01)\n",
    "#     ax.grid(which='major', axis='x', linestyle='-')\n",
    "#     ax.set_axisbelow(True)\n",
    "    \n",
    "#     ax.text(0, 1.15, 'Coronavirus',\n",
    "#             transform=ax.transAxes, size=24, weight=600, ha='left', va='top')\n",
    "# #     ax.text(1, 0, 'by @pratapvardhan; credit @jburnmurdoch', transform=ax.transAxes, color='#777777', ha='right',\n",
    "# #             bbox=dict(facecolor='white', alpha=0.8, edgecolor='white'))\n",
    "#     plt.box(False)"
   ]
  },
  {
   "cell_type": "code",
   "execution_count": 42,
   "id": "sexual-wages",
   "metadata": {
    "execution": {
     "iopub.execute_input": "2022-05-10T00:40:32.561086Z",
     "iopub.status.busy": "2022-05-10T00:40:32.560487Z",
     "iopub.status.idle": "2022-05-10T00:40:32.564347Z",
     "shell.execute_reply": "2022-05-10T00:40:32.563937Z"
    },
    "papermill": {
     "duration": 0.037306,
     "end_time": "2022-05-10T00:40:32.564454",
     "exception": false,
     "start_time": "2022-05-10T00:40:32.527148",
     "status": "completed"
    },
    "tags": []
   },
   "outputs": [],
   "source": [
    "# #hide_input\n",
    "# fig, ax = plt.subplots(figsize=(15, 8))\n",
    "# animator = animation.FuncAnimation(fig, draw_barchart, frames=range(g.day.values.min(), g.day.values.max()))\n",
    "# HTML(animator.to_jshtml())\n",
    "# # or use animator.to_html5_video() or animator.save() "
   ]
  },
  {
   "cell_type": "code",
   "execution_count": null,
   "id": "australian-container",
   "metadata": {
    "papermill": {
     "duration": 0.03024,
     "end_time": "2022-05-10T00:40:32.624817",
     "exception": false,
     "start_time": "2022-05-10T00:40:32.594577",
     "status": "completed"
    },
    "tags": []
   },
   "outputs": [],
   "source": []
  },
  {
   "cell_type": "code",
   "execution_count": null,
   "id": "mediterranean-pontiac",
   "metadata": {
    "papermill": {
     "duration": 0.030019,
     "end_time": "2022-05-10T00:40:32.684702",
     "exception": false,
     "start_time": "2022-05-10T00:40:32.654683",
     "status": "completed"
    },
    "tags": []
   },
   "outputs": [],
   "source": []
  },
  {
   "cell_type": "code",
   "execution_count": null,
   "id": "aging-legislature",
   "metadata": {
    "papermill": {
     "duration": 0.030153,
     "end_time": "2022-05-10T00:40:32.745426",
     "exception": false,
     "start_time": "2022-05-10T00:40:32.715273",
     "status": "completed"
    },
    "tags": []
   },
   "outputs": [],
   "source": []
  }
 ],
 "metadata": {
  "kernelspec": {
   "display_name": "Python 3",
   "language": "python",
   "name": "python3"
  },
  "language_info": {
   "codemirror_mode": {
    "name": "ipython",
    "version": 3
   },
   "file_extension": ".py",
   "mimetype": "text/x-python",
   "name": "python",
   "nbconvert_exporter": "python",
   "pygments_lexer": "ipython3",
   "version": "3.6.15"
  },
  "papermill": {
   "duration": 5.691574,
   "end_time": "2022-05-10T00:40:33.093997",
   "environment_variables": {},
   "exception": null,
   "input_path": "2020-03-21-covid19exp.ipynb",
   "output_path": "2020-03-21-covid19exp.ipynb",
   "parameters": {},
   "start_time": "2022-05-10T00:40:27.402423",
   "version": "2.0.0"
  }
 },
 "nbformat": 4,
 "nbformat_minor": 5
}