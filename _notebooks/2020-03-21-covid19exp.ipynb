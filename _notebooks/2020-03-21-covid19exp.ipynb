{
 "cells": [
  {
   "cell_type": "markdown",
   "id": "muslim-click",
   "metadata": {
    "papermill": {
     "duration": 0.039097,
     "end_time": "2022-09-26T12:21:12.989807",
     "exception": false,
     "start_time": "2022-09-26T12:21:12.950710",
     "status": "completed"
    },
    "tags": []
   },
   "source": [
    "# COVID-19 Case Race\n",
    "> A race chart to see rising cases around the world\n",
    "\n",
    "- author: Hargun Oberoi\n",
    "- image: images/covid-overview.png\n",
    "- hide: false\n",
    "- badges: false"
   ]
  },
  {
   "cell_type": "code",
   "execution_count": 1,
   "id": "proof-material",
   "metadata": {
    "execution": {
     "iopub.execute_input": "2022-09-26T12:21:13.066636Z",
     "iopub.status.busy": "2022-09-26T12:21:13.065851Z",
     "iopub.status.idle": "2022-09-26T12:21:13.446772Z",
     "shell.execute_reply": "2022-09-26T12:21:13.447355Z"
    },
    "papermill": {
     "duration": 0.424302,
     "end_time": "2022-09-26T12:21:13.447551",
     "exception": false,
     "start_time": "2022-09-26T12:21:13.023249",
     "status": "completed"
    },
    "tags": []
   },
   "outputs": [],
   "source": [
    "#hide\n",
    "import numpy as np\n",
    "import pandas as pd\n",
    "from jinja2 import Template\n",
    "from IPython.display import HTML"
   ]
  },
  {
   "cell_type": "code",
   "execution_count": 2,
   "id": "developed-terminology",
   "metadata": {
    "execution": {
     "iopub.execute_input": "2022-09-26T12:21:13.519159Z",
     "iopub.status.busy": "2022-09-26T12:21:13.518393Z",
     "iopub.status.idle": "2022-09-26T12:21:13.521173Z",
     "shell.execute_reply": "2022-09-26T12:21:13.521639Z"
    },
    "papermill": {
     "duration": 0.041487,
     "end_time": "2022-09-26T12:21:13.521766",
     "exception": false,
     "start_time": "2022-09-26T12:21:13.480279",
     "status": "completed"
    },
    "tags": []
   },
   "outputs": [],
   "source": [
    "#hide\n",
    "\n",
    "# FETCH\n",
    "base_url = 'https://raw.githubusercontent.com/pratapvardhan/notebooks/master/covid19/'\n",
    "paths = {\n",
    "    'mapping': base_url + 'mapping_countries.csv',\n",
    "    'overview': base_url + 'overview.tpl'\n",
    "}"
   ]
  },
  {
   "cell_type": "code",
   "execution_count": 3,
   "id": "dynamic-saver",
   "metadata": {
    "execution": {
     "iopub.execute_input": "2022-09-26T12:21:13.600916Z",
     "iopub.status.busy": "2022-09-26T12:21:13.600241Z",
     "iopub.status.idle": "2022-09-26T12:21:13.604963Z",
     "shell.execute_reply": "2022-09-26T12:21:13.604413Z"
    },
    "papermill": {
     "duration": 0.050711,
     "end_time": "2022-09-26T12:21:13.605089",
     "exception": false,
     "start_time": "2022-09-26T12:21:13.554378",
     "status": "completed"
    },
    "tags": []
   },
   "outputs": [
    {
     "data": {
      "text/plain": [
       "'https://raw.githubusercontent.com/pratapvardhan/notebooks/master/covid19/mapping_countries.csv'"
      ]
     },
     "execution_count": 3,
     "metadata": {},
     "output_type": "execute_result"
    }
   ],
   "source": [
    "#hide\n",
    "paths['mapping']"
   ]
  },
  {
   "cell_type": "code",
   "execution_count": 4,
   "id": "urban-software",
   "metadata": {
    "execution": {
     "iopub.execute_input": "2022-09-26T12:21:13.677283Z",
     "iopub.status.busy": "2022-09-26T12:21:13.676552Z",
     "iopub.status.idle": "2022-09-26T12:21:13.679707Z",
     "shell.execute_reply": "2022-09-26T12:21:13.679113Z"
    },
    "papermill": {
     "duration": 0.041756,
     "end_time": "2022-09-26T12:21:13.679849",
     "exception": false,
     "start_time": "2022-09-26T12:21:13.638093",
     "status": "completed"
    },
    "tags": []
   },
   "outputs": [],
   "source": [
    "#hide\n",
    "def get_mappings(url):\n",
    "    df = pd.read_csv(url)\n",
    "    return {\n",
    "        'df': df,\n",
    "        'replace.country': dict(df.dropna(subset=['Name']).set_index('Country')['Name']),\n",
    "        'map.continent': dict(df.set_index('Name')['Continent'])\n",
    "    }"
   ]
  },
  {
   "cell_type": "code",
   "execution_count": 5,
   "id": "intimate-machinery",
   "metadata": {
    "execution": {
     "iopub.execute_input": "2022-09-26T12:21:13.751922Z",
     "iopub.status.busy": "2022-09-26T12:21:13.751276Z",
     "iopub.status.idle": "2022-09-26T12:21:13.784856Z",
     "shell.execute_reply": "2022-09-26T12:21:13.783946Z"
    },
    "papermill": {
     "duration": 0.072495,
     "end_time": "2022-09-26T12:21:13.785058",
     "exception": false,
     "start_time": "2022-09-26T12:21:13.712563",
     "status": "completed"
    },
    "tags": []
   },
   "outputs": [],
   "source": [
    "#hide\n",
    "mapping = get_mappings(paths['mapping'])"
   ]
  },
  {
   "cell_type": "code",
   "execution_count": 6,
   "id": "certified-tactics",
   "metadata": {
    "execution": {
     "iopub.execute_input": "2022-09-26T12:21:13.858648Z",
     "iopub.status.busy": "2022-09-26T12:21:13.857884Z",
     "iopub.status.idle": "2022-09-26T12:21:13.860797Z",
     "shell.execute_reply": "2022-09-26T12:21:13.860225Z"
    },
    "papermill": {
     "duration": 0.042082,
     "end_time": "2022-09-26T12:21:13.860926",
     "exception": false,
     "start_time": "2022-09-26T12:21:13.818844",
     "status": "completed"
    },
    "tags": []
   },
   "outputs": [],
   "source": [
    "#hide\n",
    "def get_template(path):\n",
    "    from urllib.parse import urlparse\n",
    "    if bool(urlparse(path).netloc):\n",
    "        from urllib.request import urlopen\n",
    "        return urlopen(path).read().decode('utf8')\n",
    "    return open(path).read()"
   ]
  },
  {
   "cell_type": "code",
   "execution_count": 7,
   "id": "realistic-blast",
   "metadata": {
    "execution": {
     "iopub.execute_input": "2022-09-26T12:21:13.934496Z",
     "iopub.status.busy": "2022-09-26T12:21:13.933771Z",
     "iopub.status.idle": "2022-09-26T12:21:13.936489Z",
     "shell.execute_reply": "2022-09-26T12:21:13.935856Z"
    },
    "papermill": {
     "duration": 0.042648,
     "end_time": "2022-09-26T12:21:13.936611",
     "exception": false,
     "start_time": "2022-09-26T12:21:13.893963",
     "status": "completed"
    },
    "tags": []
   },
   "outputs": [],
   "source": [
    "#hide\n",
    "def get_frame(name):\n",
    "    url = (\n",
    "        'https://raw.githubusercontent.com/CSSEGISandData/COVID-19/master/csse_covid_19_data/'\n",
    "        f'csse_covid_19_time_series/time_series_covid19_{name}_global.csv')\n",
    "    df = pd.read_csv(url)\n",
    "    # rename countries\n",
    "    df['Country/Region'] = df['Country/Region'].replace(mapping['replace.country'])\n",
    "    return df"
   ]
  },
  {
   "cell_type": "code",
   "execution_count": 8,
   "id": "affiliated-characterization",
   "metadata": {
    "execution": {
     "iopub.execute_input": "2022-09-26T12:21:14.008971Z",
     "iopub.status.busy": "2022-09-26T12:21:14.008271Z",
     "iopub.status.idle": "2022-09-26T12:21:14.012169Z",
     "shell.execute_reply": "2022-09-26T12:21:14.011609Z"
    },
    "papermill": {
     "duration": 0.042578,
     "end_time": "2022-09-26T12:21:14.012297",
     "exception": false,
     "start_time": "2022-09-26T12:21:13.969719",
     "status": "completed"
    },
    "tags": []
   },
   "outputs": [],
   "source": [
    "#hide\n",
    "def get_dates(df):\n",
    "    dt_cols = df.columns[~df.columns.isin(['Province/State', 'Country/Region', 'Lat', 'Long'])]\n",
    "    LAST_DATE_I = -1\n",
    "    # sometimes last column may be empty, then go backwards\n",
    "    for i in range(-1, -len(dt_cols), -1):\n",
    "        if not df[dt_cols[i]].fillna(0).eq(0).all():\n",
    "            LAST_DATE_I = i\n",
    "            break\n",
    "    return LAST_DATE_I, dt_cols"
   ]
  },
  {
   "cell_type": "code",
   "execution_count": 9,
   "id": "recent-optimization",
   "metadata": {
    "execution": {
     "iopub.execute_input": "2022-09-26T12:21:14.083835Z",
     "iopub.status.busy": "2022-09-26T12:21:14.083099Z",
     "iopub.status.idle": "2022-09-26T12:21:14.493465Z",
     "shell.execute_reply": "2022-09-26T12:21:14.492881Z"
    },
    "papermill": {
     "duration": 0.450359,
     "end_time": "2022-09-26T12:21:14.493603",
     "exception": false,
     "start_time": "2022-09-26T12:21:14.043244",
     "status": "completed"
    },
    "tags": []
   },
   "outputs": [],
   "source": [
    "#hide\n",
    "COL_REGION = 'Country/Region'\n",
    "# Confirmed, Recovered, Deaths\n",
    "df = get_frame('confirmed')\n",
    "# dft_: timeseries, dfc_: today country agg\n",
    "dft_cases = df\n",
    "dft_deaths = get_frame('deaths')\n",
    "dft_recovered = get_frame('recovered')\n",
    "LAST_DATE_I, dt_cols = get_dates(df)"
   ]
  },
  {
   "cell_type": "code",
   "execution_count": 10,
   "id": "absolute-copper",
   "metadata": {
    "execution": {
     "iopub.execute_input": "2022-09-26T12:21:14.571705Z",
     "iopub.status.busy": "2022-09-26T12:21:14.570459Z",
     "iopub.status.idle": "2022-09-26T12:21:14.572893Z",
     "shell.execute_reply": "2022-09-26T12:21:14.573390Z"
    },
    "papermill": {
     "duration": 0.046218,
     "end_time": "2022-09-26T12:21:14.573526",
     "exception": false,
     "start_time": "2022-09-26T12:21:14.527308",
     "status": "completed"
    },
    "tags": []
   },
   "outputs": [],
   "source": [
    "#hide\n",
    "LAST_DATE_I, dt_cols = get_dates(df)\n",
    "dt_today =dt_cols[LAST_DATE_I]\n",
    "# dt_5day = dt_cols[LAST_DATE_I - 5]\n",
    "dt_yday = dt_cols[LAST_DATE_I - 1]"
   ]
  },
  {
   "cell_type": "code",
   "execution_count": 11,
   "id": "restricted-sheriff",
   "metadata": {
    "execution": {
     "iopub.execute_input": "2022-09-26T12:21:14.641517Z",
     "iopub.status.busy": "2022-09-26T12:21:14.640804Z",
     "iopub.status.idle": "2022-09-26T12:21:14.649648Z",
     "shell.execute_reply": "2022-09-26T12:21:14.649136Z"
    },
    "papermill": {
     "duration": 0.045946,
     "end_time": "2022-09-26T12:21:14.649778",
     "exception": false,
     "start_time": "2022-09-26T12:21:14.603832",
     "status": "completed"
    },
    "tags": []
   },
   "outputs": [],
   "source": [
    "#hide\n",
    "dfc_cases = dft_cases.groupby(COL_REGION)[dt_today].sum()\n",
    "dfc_deaths = dft_deaths.groupby(COL_REGION)[dt_today].sum()\n",
    "# dfp_cases = dft_cases.groupby(COL_REGION)[dt_5day].sum()\n",
    "# dfp_deaths = dft_deaths.groupby(COL_REGION)[dt_5day].sum()\n",
    "dfp_cases = dft_cases.groupby(COL_REGION)[dt_yday].sum()\n",
    "dfp_deaths = dft_deaths.groupby(COL_REGION)[dt_yday].sum()"
   ]
  },
  {
   "cell_type": "code",
   "execution_count": 12,
   "id": "deluxe-hepatitis",
   "metadata": {
    "execution": {
     "iopub.execute_input": "2022-09-26T12:21:14.718758Z",
     "iopub.status.busy": "2022-09-26T12:21:14.718092Z",
     "iopub.status.idle": "2022-09-26T12:21:14.723451Z",
     "shell.execute_reply": "2022-09-26T12:21:14.722928Z"
    },
    "papermill": {
     "duration": 0.041993,
     "end_time": "2022-09-26T12:21:14.723572",
     "exception": false,
     "start_time": "2022-09-26T12:21:14.681579",
     "status": "completed"
    },
    "tags": []
   },
   "outputs": [],
   "source": [
    "#hide\n",
    "df_table = (pd.DataFrame(dict(Cases = dfc_cases, Deaths = dfc_deaths, PCases = dfp_cases, PDeaths = dfp_deaths))\n",
    "            .sort_values(by = ['Cases','Deaths'], ascending = [False, False])\n",
    "            .reset_index())"
   ]
  },
  {
   "cell_type": "code",
   "execution_count": 13,
   "id": "educational-chancellor",
   "metadata": {
    "execution": {
     "iopub.execute_input": "2022-09-26T12:21:14.797085Z",
     "iopub.status.busy": "2022-09-26T12:21:14.795998Z",
     "iopub.status.idle": "2022-09-26T12:21:14.819418Z",
     "shell.execute_reply": "2022-09-26T12:21:14.819929Z"
    },
    "papermill": {
     "duration": 0.064246,
     "end_time": "2022-09-26T12:21:14.820077",
     "exception": false,
     "start_time": "2022-09-26T12:21:14.755831",
     "status": "completed"
    },
    "tags": []
   },
   "outputs": [
    {
     "data": {
      "text/html": [
       "<div>\n",
       "<style scoped>\n",
       "    .dataframe tbody tr th:only-of-type {\n",
       "        vertical-align: middle;\n",
       "    }\n",
       "\n",
       "    .dataframe tbody tr th {\n",
       "        vertical-align: top;\n",
       "    }\n",
       "\n",
       "    .dataframe thead th {\n",
       "        text-align: right;\n",
       "    }\n",
       "</style>\n",
       "<table border=\"1\" class=\"dataframe\">\n",
       "  <thead>\n",
       "    <tr style=\"text-align: right;\">\n",
       "      <th></th>\n",
       "      <th>Country/Region</th>\n",
       "      <th>Cases</th>\n",
       "      <th>Deaths</th>\n",
       "      <th>PCases</th>\n",
       "      <th>PDeaths</th>\n",
       "      <th>Cases (+)</th>\n",
       "      <th>Deaths (+)</th>\n",
       "      <th>Fatality Rate</th>\n",
       "      <th>Continent</th>\n",
       "    </tr>\n",
       "  </thead>\n",
       "  <tbody>\n",
       "    <tr>\n",
       "      <th>0</th>\n",
       "      <td>US</td>\n",
       "      <td>96070980</td>\n",
       "      <td>1056416</td>\n",
       "      <td>96065161</td>\n",
       "      <td>1056409</td>\n",
       "      <td>5819</td>\n",
       "      <td>7</td>\n",
       "      <td>1.10</td>\n",
       "      <td>North America</td>\n",
       "    </tr>\n",
       "    <tr>\n",
       "      <th>1</th>\n",
       "      <td>India</td>\n",
       "      <td>44572243</td>\n",
       "      <td>528530</td>\n",
       "      <td>44568114</td>\n",
       "      <td>528510</td>\n",
       "      <td>4129</td>\n",
       "      <td>20</td>\n",
       "      <td>1.19</td>\n",
       "      <td>Asia</td>\n",
       "    </tr>\n",
       "    <tr>\n",
       "      <th>2</th>\n",
       "      <td>France</td>\n",
       "      <td>35304648</td>\n",
       "      <td>155927</td>\n",
       "      <td>35304648</td>\n",
       "      <td>155927</td>\n",
       "      <td>0</td>\n",
       "      <td>0</td>\n",
       "      <td>0.44</td>\n",
       "      <td>Europe</td>\n",
       "    </tr>\n",
       "    <tr>\n",
       "      <th>3</th>\n",
       "      <td>Brazil</td>\n",
       "      <td>34624427</td>\n",
       "      <td>685750</td>\n",
       "      <td>34624427</td>\n",
       "      <td>685750</td>\n",
       "      <td>0</td>\n",
       "      <td>0</td>\n",
       "      <td>1.98</td>\n",
       "      <td>South America</td>\n",
       "    </tr>\n",
       "    <tr>\n",
       "      <th>4</th>\n",
       "      <td>Germany</td>\n",
       "      <td>32952050</td>\n",
       "      <td>149458</td>\n",
       "      <td>32952050</td>\n",
       "      <td>149458</td>\n",
       "      <td>0</td>\n",
       "      <td>0</td>\n",
       "      <td>0.45</td>\n",
       "      <td>Europe</td>\n",
       "    </tr>\n",
       "  </tbody>\n",
       "</table>\n",
       "</div>"
      ],
      "text/plain": [
       "  Country/Region     Cases   Deaths    PCases  PDeaths  Cases (+)  Deaths (+)  \\\n",
       "0             US  96070980  1056416  96065161  1056409       5819           7   \n",
       "1          India  44572243   528530  44568114   528510       4129          20   \n",
       "2         France  35304648   155927  35304648   155927          0           0   \n",
       "3         Brazil  34624427   685750  34624427   685750          0           0   \n",
       "4        Germany  32952050   149458  32952050   149458          0           0   \n",
       "\n",
       "   Fatality Rate      Continent  \n",
       "0           1.10  North America  \n",
       "1           1.19           Asia  \n",
       "2           0.44         Europe  \n",
       "3           1.98  South America  \n",
       "4           0.45         Europe  "
      ]
     },
     "execution_count": 13,
     "metadata": {},
     "output_type": "execute_result"
    }
   ],
   "source": [
    "#hide\n",
    "for c in 'Cases, Deaths'.split(', '):\n",
    "    df_table[f'{c} (+)'] = (df_table[c] - df_table[f'P{c}']).clip(0)\n",
    "    #Clip ça veut dire, les chiffres negatif sont interdit\n",
    "df_table['Fatality Rate'] = (100* df_table['Deaths']/ df_table['Cases']).round(2)\n",
    "df_table['Continent'] = df_table['Country/Region'].map(mapping['map.continent'])\n",
    "df_table.head(5)"
   ]
  },
  {
   "cell_type": "code",
   "execution_count": 14,
   "id": "aboriginal-bulgaria",
   "metadata": {
    "execution": {
     "iopub.execute_input": "2022-09-26T12:21:14.895103Z",
     "iopub.status.busy": "2022-09-26T12:21:14.894397Z",
     "iopub.status.idle": "2022-09-26T12:21:14.897845Z",
     "shell.execute_reply": "2022-09-26T12:21:14.898407Z"
    },
    "papermill": {
     "duration": 0.046133,
     "end_time": "2022-09-26T12:21:14.898549",
     "exception": false,
     "start_time": "2022-09-26T12:21:14.852416",
     "status": "completed"
    },
    "tags": []
   },
   "outputs": [],
   "source": [
    "#hide\n",
    "#delete problematic countries from table\n",
    "df_table = df_table[~df_table['Country/Region'].isin(['Cape Verde', 'Cruise Ship', 'Kosovo'])]"
   ]
  },
  {
   "cell_type": "code",
   "execution_count": 15,
   "id": "fantastic-effect",
   "metadata": {
    "execution": {
     "iopub.execute_input": "2022-09-26T12:21:14.972763Z",
     "iopub.status.busy": "2022-09-26T12:21:14.971810Z",
     "iopub.status.idle": "2022-09-26T12:21:14.994158Z",
     "shell.execute_reply": "2022-09-26T12:21:14.993593Z"
    },
    "papermill": {
     "duration": 0.062936,
     "end_time": "2022-09-26T12:21:14.994292",
     "exception": false,
     "start_time": "2022-09-26T12:21:14.931356",
     "status": "completed"
    },
    "tags": []
   },
   "outputs": [
    {
     "data": {
      "text/html": [
       "<div>\n",
       "<style scoped>\n",
       "    .dataframe tbody tr th:only-of-type {\n",
       "        vertical-align: middle;\n",
       "    }\n",
       "\n",
       "    .dataframe tbody tr th {\n",
       "        vertical-align: top;\n",
       "    }\n",
       "\n",
       "    .dataframe thead th {\n",
       "        text-align: right;\n",
       "    }\n",
       "</style>\n",
       "<table border=\"1\" class=\"dataframe\">\n",
       "  <thead>\n",
       "    <tr style=\"text-align: right;\">\n",
       "      <th></th>\n",
       "      <th>Country/Region</th>\n",
       "      <th>Cases</th>\n",
       "      <th>Deaths</th>\n",
       "      <th>PCases</th>\n",
       "      <th>PDeaths</th>\n",
       "      <th>Cases (+)</th>\n",
       "      <th>Deaths (+)</th>\n",
       "      <th>Fatality Rate</th>\n",
       "      <th>Continent</th>\n",
       "    </tr>\n",
       "  </thead>\n",
       "  <tbody>\n",
       "    <tr>\n",
       "      <th>0</th>\n",
       "      <td>US</td>\n",
       "      <td>96070980</td>\n",
       "      <td>1056416</td>\n",
       "      <td>96065161</td>\n",
       "      <td>1056409</td>\n",
       "      <td>5819</td>\n",
       "      <td>7</td>\n",
       "      <td>1.1</td>\n",
       "      <td>North America</td>\n",
       "    </tr>\n",
       "    <tr>\n",
       "      <th>1</th>\n",
       "      <td>India</td>\n",
       "      <td>44572243</td>\n",
       "      <td>528530</td>\n",
       "      <td>44568114</td>\n",
       "      <td>528510</td>\n",
       "      <td>4129</td>\n",
       "      <td>20</td>\n",
       "      <td>1.2</td>\n",
       "      <td>Asia</td>\n",
       "    </tr>\n",
       "    <tr>\n",
       "      <th>2</th>\n",
       "      <td>France</td>\n",
       "      <td>35304648</td>\n",
       "      <td>155927</td>\n",
       "      <td>35304648</td>\n",
       "      <td>155927</td>\n",
       "      <td>0</td>\n",
       "      <td>0</td>\n",
       "      <td>0.4</td>\n",
       "      <td>Europe</td>\n",
       "    </tr>\n",
       "    <tr>\n",
       "      <th>3</th>\n",
       "      <td>Brazil</td>\n",
       "      <td>34624427</td>\n",
       "      <td>685750</td>\n",
       "      <td>34624427</td>\n",
       "      <td>685750</td>\n",
       "      <td>0</td>\n",
       "      <td>0</td>\n",
       "      <td>2.0</td>\n",
       "      <td>South America</td>\n",
       "    </tr>\n",
       "    <tr>\n",
       "      <th>4</th>\n",
       "      <td>Germany</td>\n",
       "      <td>32952050</td>\n",
       "      <td>149458</td>\n",
       "      <td>32952050</td>\n",
       "      <td>149458</td>\n",
       "      <td>0</td>\n",
       "      <td>0</td>\n",
       "      <td>0.5</td>\n",
       "      <td>Europe</td>\n",
       "    </tr>\n",
       "  </tbody>\n",
       "</table>\n",
       "</div>"
      ],
      "text/plain": [
       "  Country/Region     Cases   Deaths    PCases  PDeaths  Cases (+)  Deaths (+)  \\\n",
       "0             US  96070980  1056416  96065161  1056409       5819           7   \n",
       "1          India  44572243   528530  44568114   528510       4129          20   \n",
       "2         France  35304648   155927  35304648   155927          0           0   \n",
       "3         Brazil  34624427   685750  34624427   685750          0           0   \n",
       "4        Germany  32952050   149458  32952050   149458          0           0   \n",
       "\n",
       "   Fatality Rate      Continent  \n",
       "0            1.1  North America  \n",
       "1            1.2           Asia  \n",
       "2            0.4         Europe  \n",
       "3            2.0  South America  \n",
       "4            0.5         Europe  "
      ]
     },
     "execution_count": 15,
     "metadata": {},
     "output_type": "execute_result"
    }
   ],
   "source": [
    "#hide\n",
    "df_table = (pd.DataFrame(dict(Cases=dfc_cases, Deaths=dfc_deaths, PCases=dfp_cases, PDeaths=dfp_deaths))\n",
    "             .sort_values(by=['Cases', 'Deaths'], ascending=[False, False])\n",
    "             .reset_index())\n",
    "df_table.rename(columns={'index': 'Country/Region'}, inplace=True)\n",
    "for c in 'Cases, Deaths'.split(', '):\n",
    "    df_table[f'{c} (+)'] = (df_table[c] - df_table[f'P{c}']).clip(0)  # DATA BUG\n",
    "df_table['Fatality Rate'] = (100 * df_table['Deaths'] / df_table['Cases']).round(1)\n",
    "df_table['Continent'] = df_table['Country/Region'].map(mapping['map.continent'])\n",
    "df_table.head(5)"
   ]
  },
  {
   "cell_type": "code",
   "execution_count": 16,
   "id": "fewer-occasion",
   "metadata": {
    "execution": {
     "iopub.execute_input": "2022-09-26T12:21:15.085441Z",
     "iopub.status.busy": "2022-09-26T12:21:15.084724Z",
     "iopub.status.idle": "2022-09-26T12:21:15.087593Z",
     "shell.execute_reply": "2022-09-26T12:21:15.087056Z"
    },
    "papermill": {
     "duration": 0.05275,
     "end_time": "2022-09-26T12:21:15.087729",
     "exception": false,
     "start_time": "2022-09-26T12:21:15.034979",
     "status": "completed"
    },
    "tags": []
   },
   "outputs": [],
   "source": [
    "#hide\n",
    "#delete problematic countries from table\n",
    "df_table = df_table[~df_table['Country/Region'].isin(['Cape Verde', 'Cruise Ship', 'Kosovo'])]"
   ]
  },
  {
   "cell_type": "code",
   "execution_count": 17,
   "id": "related-center",
   "metadata": {
    "execution": {
     "iopub.execute_input": "2022-09-26T12:21:15.165487Z",
     "iopub.status.busy": "2022-09-26T12:21:15.164425Z",
     "iopub.status.idle": "2022-09-26T12:21:15.180308Z",
     "shell.execute_reply": "2022-09-26T12:21:15.180860Z"
    },
    "papermill": {
     "duration": 0.058874,
     "end_time": "2022-09-26T12:21:15.181016",
     "exception": false,
     "start_time": "2022-09-26T12:21:15.122142",
     "status": "completed"
    },
    "tags": []
   },
   "outputs": [],
   "source": [
    "#hide\n",
    "metrics = [df_table.columns[index] for index in [1,2,5,6]]\n",
    "# s_china = df_table[df_table['Country/Region'].eq('China')][metrics].sum().add_prefix('China ')\n",
    "s_us = df_table[df_table['Country/Region'].eq('US')][metrics].sum().add_prefix('US ')\n",
    "s_eu = df_table[df_table['Continent'].eq('Europe')][metrics].sum().add_prefix('EU ')\n",
    "s_ind = df_table[df_table['Country/Region'].eq('India')][metrics].sum().add_prefix('India ')\n",
    "summary = {'updated': pd.to_datetime(dt_today), 'since': pd.to_datetime(dt_yday)}\n",
    "summary = {'updated': pd.to_datetime(dt_today), 'since': pd.to_datetime(dt_yday)}\n",
    "summary = {**summary, **df_table[metrics].sum(), **s_ind, **s_us, **s_eu}"
   ]
  },
  {
   "cell_type": "code",
   "execution_count": 18,
   "id": "engaging-syndrome",
   "metadata": {
    "execution": {
     "iopub.execute_input": "2022-09-26T12:21:15.254747Z",
     "iopub.status.busy": "2022-09-26T12:21:15.254029Z",
     "iopub.status.idle": "2022-09-26T12:21:15.280416Z",
     "shell.execute_reply": "2022-09-26T12:21:15.279613Z"
    },
    "papermill": {
     "duration": 0.065791,
     "end_time": "2022-09-26T12:21:15.280591",
     "exception": false,
     "start_time": "2022-09-26T12:21:15.214800",
     "status": "completed"
    },
    "tags": []
   },
   "outputs": [],
   "source": [
    "#hide\n",
    "dft_ct_new_cases = dft_cases.groupby(COL_REGION)[dt_cols].sum().diff(axis=1).fillna(0).astype(int)"
   ]
  },
  {
   "cell_type": "code",
   "execution_count": 19,
   "id": "neutral-assignment",
   "metadata": {
    "execution": {
     "iopub.execute_input": "2022-09-26T12:21:15.357732Z",
     "iopub.status.busy": "2022-09-26T12:21:15.357022Z",
     "iopub.status.idle": "2022-09-26T12:21:15.358751Z",
     "shell.execute_reply": "2022-09-26T12:21:15.359213Z"
    },
    "papermill": {
     "duration": 0.043813,
     "end_time": "2022-09-26T12:21:15.359341",
     "exception": false,
     "start_time": "2022-09-26T12:21:15.315528",
     "status": "completed"
    },
    "tags": []
   },
   "outputs": [],
   "source": [
    "#hide\n",
    "everydaycases = dft_ct_new_cases.cumsum(axis=1)"
   ]
  },
  {
   "cell_type": "code",
   "execution_count": 20,
   "id": "parliamentary-calgary",
   "metadata": {
    "execution": {
     "iopub.execute_input": "2022-09-26T12:21:15.432046Z",
     "iopub.status.busy": "2022-09-26T12:21:15.431431Z",
     "iopub.status.idle": "2022-09-26T12:21:16.106835Z",
     "shell.execute_reply": "2022-09-26T12:21:16.107576Z"
    },
    "papermill": {
     "duration": 0.715431,
     "end_time": "2022-09-26T12:21:16.107795",
     "exception": false,
     "start_time": "2022-09-26T12:21:15.392364",
     "status": "completed"
    },
    "tags": []
   },
   "outputs": [],
   "source": [
    "#hide\n",
    "import pandas as pd\n",
    "import matplotlib.pyplot as plt\n",
    "import matplotlib.ticker as ticker\n",
    "import matplotlib.animation as animation\n",
    "from IPython.display import HTML"
   ]
  },
  {
   "cell_type": "code",
   "execution_count": 21,
   "id": "lasting-extraction",
   "metadata": {
    "execution": {
     "iopub.execute_input": "2022-09-26T12:21:16.187449Z",
     "iopub.status.busy": "2022-09-26T12:21:16.186745Z",
     "iopub.status.idle": "2022-09-26T12:21:16.194655Z",
     "shell.execute_reply": "2022-09-26T12:21:16.195224Z"
    },
    "papermill": {
     "duration": 0.051643,
     "end_time": "2022-09-26T12:21:16.195378",
     "exception": false,
     "start_time": "2022-09-26T12:21:16.143735",
     "status": "completed"
    },
    "tags": []
   },
   "outputs": [],
   "source": [
    "#hide\n",
    "t = everydaycases.stack()"
   ]
  },
  {
   "cell_type": "code",
   "execution_count": 22,
   "id": "premier-sleeve",
   "metadata": {
    "execution": {
     "iopub.execute_input": "2022-09-26T12:21:16.270196Z",
     "iopub.status.busy": "2022-09-26T12:21:16.269543Z",
     "iopub.status.idle": "2022-09-26T12:21:16.287345Z",
     "shell.execute_reply": "2022-09-26T12:21:16.286497Z"
    },
    "papermill": {
     "duration": 0.058155,
     "end_time": "2022-09-26T12:21:16.287525",
     "exception": false,
     "start_time": "2022-09-26T12:21:16.229370",
     "status": "completed"
    },
    "tags": []
   },
   "outputs": [],
   "source": [
    "#hide\n",
    "g = t.reset_index(['Country/Region'])"
   ]
  },
  {
   "cell_type": "code",
   "execution_count": 23,
   "id": "distributed-pittsburgh",
   "metadata": {
    "execution": {
     "iopub.execute_input": "2022-09-26T12:21:16.361778Z",
     "iopub.status.busy": "2022-09-26T12:21:16.361105Z",
     "iopub.status.idle": "2022-09-26T12:21:16.364658Z",
     "shell.execute_reply": "2022-09-26T12:21:16.365298Z"
    },
    "papermill": {
     "duration": 0.042727,
     "end_time": "2022-09-26T12:21:16.365446",
     "exception": false,
     "start_time": "2022-09-26T12:21:16.322719",
     "status": "completed"
    },
    "tags": []
   },
   "outputs": [],
   "source": [
    "#hide\n",
    "g.index.name = 'date'"
   ]
  },
  {
   "cell_type": "code",
   "execution_count": 24,
   "id": "naked-donor",
   "metadata": {
    "execution": {
     "iopub.execute_input": "2022-09-26T12:21:16.435913Z",
     "iopub.status.busy": "2022-09-26T12:21:16.434698Z",
     "iopub.status.idle": "2022-09-26T12:21:16.439005Z",
     "shell.execute_reply": "2022-09-26T12:21:16.438405Z"
    },
    "papermill": {
     "duration": 0.041738,
     "end_time": "2022-09-26T12:21:16.439127",
     "exception": false,
     "start_time": "2022-09-26T12:21:16.397389",
     "status": "completed"
    },
    "tags": []
   },
   "outputs": [],
   "source": [
    "# #hide\n",
    "# g = g.reset_index(['date'])"
   ]
  },
  {
   "cell_type": "code",
   "execution_count": 25,
   "id": "incomplete-mustang",
   "metadata": {
    "execution": {
     "iopub.execute_input": "2022-09-26T12:21:16.509693Z",
     "iopub.status.busy": "2022-09-26T12:21:16.508989Z",
     "iopub.status.idle": "2022-09-26T12:21:16.511641Z",
     "shell.execute_reply": "2022-09-26T12:21:16.510996Z"
    },
    "papermill": {
     "duration": 0.039205,
     "end_time": "2022-09-26T12:21:16.511764",
     "exception": false,
     "start_time": "2022-09-26T12:21:16.472559",
     "status": "completed"
    },
    "tags": []
   },
   "outputs": [],
   "source": [
    "#hide\n",
    "# g.head()"
   ]
  },
  {
   "cell_type": "code",
   "execution_count": 26,
   "id": "specific-kruger",
   "metadata": {
    "execution": {
     "iopub.execute_input": "2022-09-26T12:21:16.584291Z",
     "iopub.status.busy": "2022-09-26T12:21:16.583478Z",
     "iopub.status.idle": "2022-09-26T12:21:16.585366Z",
     "shell.execute_reply": "2022-09-26T12:21:16.585989Z"
    },
    "papermill": {
     "duration": 0.041159,
     "end_time": "2022-09-26T12:21:16.586152",
     "exception": false,
     "start_time": "2022-09-26T12:21:16.544993",
     "status": "completed"
    },
    "tags": []
   },
   "outputs": [],
   "source": [
    "#hide\n",
    "# g.columns = ['date','country','cases']"
   ]
  },
  {
   "cell_type": "code",
   "execution_count": 27,
   "id": "tender-conversion",
   "metadata": {
    "execution": {
     "iopub.execute_input": "2022-09-26T12:21:16.657698Z",
     "iopub.status.busy": "2022-09-26T12:21:16.656845Z",
     "iopub.status.idle": "2022-09-26T12:21:16.661224Z",
     "shell.execute_reply": "2022-09-26T12:21:16.661871Z"
    },
    "papermill": {
     "duration": 0.041816,
     "end_time": "2022-09-26T12:21:16.662049",
     "exception": false,
     "start_time": "2022-09-26T12:21:16.620233",
     "status": "completed"
    },
    "tags": []
   },
   "outputs": [],
   "source": [
    "#hide\n",
    "# g['continent'] = g.country"
   ]
  },
  {
   "cell_type": "code",
   "execution_count": 28,
   "id": "substantial-wilderness",
   "metadata": {
    "execution": {
     "iopub.execute_input": "2022-09-26T12:21:16.733734Z",
     "iopub.status.busy": "2022-09-26T12:21:16.732700Z",
     "iopub.status.idle": "2022-09-26T12:21:16.737413Z",
     "shell.execute_reply": "2022-09-26T12:21:16.736894Z"
    },
    "papermill": {
     "duration": 0.041706,
     "end_time": "2022-09-26T12:21:16.737532",
     "exception": false,
     "start_time": "2022-09-26T12:21:16.695826",
     "status": "completed"
    },
    "tags": []
   },
   "outputs": [],
   "source": [
    "#hide\n",
    "# cols = list(g.columns.values)"
   ]
  },
  {
   "cell_type": "code",
   "execution_count": 29,
   "id": "solved-farming",
   "metadata": {
    "execution": {
     "iopub.execute_input": "2022-09-26T12:21:16.806898Z",
     "iopub.status.busy": "2022-09-26T12:21:16.806259Z",
     "iopub.status.idle": "2022-09-26T12:21:16.808594Z",
     "shell.execute_reply": "2022-09-26T12:21:16.808089Z"
    },
    "papermill": {
     "duration": 0.039974,
     "end_time": "2022-09-26T12:21:16.808711",
     "exception": false,
     "start_time": "2022-09-26T12:21:16.768737",
     "status": "completed"
    },
    "tags": []
   },
   "outputs": [],
   "source": [
    "#hide\n",
    "# cols.insert(0, cols.pop())"
   ]
  },
  {
   "cell_type": "code",
   "execution_count": 30,
   "id": "executed-adoption",
   "metadata": {
    "execution": {
     "iopub.execute_input": "2022-09-26T12:21:16.883432Z",
     "iopub.status.busy": "2022-09-26T12:21:16.882164Z",
     "iopub.status.idle": "2022-09-26T12:21:16.887164Z",
     "shell.execute_reply": "2022-09-26T12:21:16.886595Z"
    },
    "papermill": {
     "duration": 0.0445,
     "end_time": "2022-09-26T12:21:16.887289",
     "exception": false,
     "start_time": "2022-09-26T12:21:16.842789",
     "status": "completed"
    },
    "tags": []
   },
   "outputs": [],
   "source": [
    "#hide\n",
    "# g = g[cols]"
   ]
  },
  {
   "cell_type": "code",
   "execution_count": 31,
   "id": "subject-dublin",
   "metadata": {
    "execution": {
     "iopub.execute_input": "2022-09-26T12:21:16.957893Z",
     "iopub.status.busy": "2022-09-26T12:21:16.957068Z",
     "iopub.status.idle": "2022-09-26T12:21:16.958640Z",
     "shell.execute_reply": "2022-09-26T12:21:16.959129Z"
    },
    "papermill": {
     "duration": 0.039253,
     "end_time": "2022-09-26T12:21:16.959268",
     "exception": false,
     "start_time": "2022-09-26T12:21:16.920015",
     "status": "completed"
    },
    "tags": []
   },
   "outputs": [],
   "source": [
    "#hide\n",
    "# g['continent'] = g['continent'].map(mapping['map.continent'])"
   ]
  },
  {
   "cell_type": "code",
   "execution_count": 32,
   "id": "freelance-scout",
   "metadata": {
    "execution": {
     "iopub.execute_input": "2022-09-26T12:21:17.040122Z",
     "iopub.status.busy": "2022-09-26T12:21:17.038980Z",
     "iopub.status.idle": "2022-09-26T12:21:17.040871Z",
     "shell.execute_reply": "2022-09-26T12:21:17.041383Z"
    },
    "papermill": {
     "duration": 0.048875,
     "end_time": "2022-09-26T12:21:17.041529",
     "exception": false,
     "start_time": "2022-09-26T12:21:16.992654",
     "status": "completed"
    },
    "tags": []
   },
   "outputs": [],
   "source": [
    "#hide\n",
    "# g.head()"
   ]
  },
  {
   "cell_type": "code",
   "execution_count": 33,
   "id": "limited-engine",
   "metadata": {
    "execution": {
     "iopub.execute_input": "2022-09-26T12:21:17.113460Z",
     "iopub.status.busy": "2022-09-26T12:21:17.112770Z",
     "iopub.status.idle": "2022-09-26T12:21:17.115538Z",
     "shell.execute_reply": "2022-09-26T12:21:17.114883Z"
    },
    "papermill": {
     "duration": 0.040183,
     "end_time": "2022-09-26T12:21:17.115658",
     "exception": false,
     "start_time": "2022-09-26T12:21:17.075475",
     "status": "completed"
    },
    "tags": []
   },
   "outputs": [],
   "source": [
    "# hide\n",
    "# g['date'] = g['date'].astype('datetime64[ns]')"
   ]
  },
  {
   "cell_type": "code",
   "execution_count": 34,
   "id": "sophisticated-supervisor",
   "metadata": {
    "execution": {
     "iopub.execute_input": "2022-09-26T12:21:17.184576Z",
     "iopub.status.busy": "2022-09-26T12:21:17.183851Z",
     "iopub.status.idle": "2022-09-26T12:21:17.185958Z",
     "shell.execute_reply": "2022-09-26T12:21:17.186470Z"
    },
    "papermill": {
     "duration": 0.037648,
     "end_time": "2022-09-26T12:21:17.186642",
     "exception": false,
     "start_time": "2022-09-26T12:21:17.148994",
     "status": "completed"
    },
    "tags": []
   },
   "outputs": [],
   "source": [
    "#hide\n",
    "# g['date'] = g.date.dt.dayofyear"
   ]
  },
  {
   "cell_type": "code",
   "execution_count": 35,
   "id": "inside-dubai",
   "metadata": {
    "execution": {
     "iopub.execute_input": "2022-09-26T12:21:17.260451Z",
     "iopub.status.busy": "2022-09-26T12:21:17.259839Z",
     "iopub.status.idle": "2022-09-26T12:21:17.263673Z",
     "shell.execute_reply": "2022-09-26T12:21:17.264369Z"
    },
    "papermill": {
     "duration": 0.045473,
     "end_time": "2022-09-26T12:21:17.264521",
     "exception": false,
     "start_time": "2022-09-26T12:21:17.219048",
     "status": "completed"
    },
    "tags": []
   },
   "outputs": [],
   "source": [
    "#hide\n",
    "# g = g.rename(columns= {'continent':'group','country':'name','cases':'value'})"
   ]
  },
  {
   "cell_type": "code",
   "execution_count": 36,
   "id": "fleet-motorcycle",
   "metadata": {
    "execution": {
     "iopub.execute_input": "2022-09-26T12:21:17.336400Z",
     "iopub.status.busy": "2022-09-26T12:21:17.335498Z",
     "iopub.status.idle": "2022-09-26T12:21:17.337121Z",
     "shell.execute_reply": "2022-09-26T12:21:17.337594Z"
    },
    "papermill": {
     "duration": 0.041688,
     "end_time": "2022-09-26T12:21:17.337734",
     "exception": false,
     "start_time": "2022-09-26T12:21:17.296046",
     "status": "completed"
    },
    "tags": []
   },
   "outputs": [],
   "source": [
    "#hide\n",
    "# cols = ['name','group','day','value']"
   ]
  },
  {
   "cell_type": "code",
   "execution_count": 37,
   "id": "continued-sleeping",
   "metadata": {
    "execution": {
     "iopub.execute_input": "2022-09-26T12:21:17.410960Z",
     "iopub.status.busy": "2022-09-26T12:21:17.409695Z",
     "iopub.status.idle": "2022-09-26T12:21:17.412251Z",
     "shell.execute_reply": "2022-09-26T12:21:17.413465Z"
    },
    "papermill": {
     "duration": 0.041925,
     "end_time": "2022-09-26T12:21:17.413719",
     "exception": false,
     "start_time": "2022-09-26T12:21:17.371794",
     "status": "completed"
    },
    "tags": []
   },
   "outputs": [],
   "source": [
    "#hide\n",
    "# g.rename(columns= {'date':'day'},inplace = True)"
   ]
  },
  {
   "cell_type": "code",
   "execution_count": 38,
   "id": "major-fight",
   "metadata": {
    "execution": {
     "iopub.execute_input": "2022-09-26T12:21:17.494334Z",
     "iopub.status.busy": "2022-09-26T12:21:17.493205Z",
     "iopub.status.idle": "2022-09-26T12:21:17.498879Z",
     "shell.execute_reply": "2022-09-26T12:21:17.499382Z"
    },
    "papermill": {
     "duration": 0.049494,
     "end_time": "2022-09-26T12:21:17.499533",
     "exception": false,
     "start_time": "2022-09-26T12:21:17.450039",
     "status": "completed"
    },
    "tags": []
   },
   "outputs": [],
   "source": [
    "#hide\n",
    "# g = g[cols]"
   ]
  },
  {
   "cell_type": "code",
   "execution_count": 39,
   "id": "structured-mobile",
   "metadata": {
    "execution": {
     "iopub.execute_input": "2022-09-26T12:21:17.567385Z",
     "iopub.status.busy": "2022-09-26T12:21:17.566583Z",
     "iopub.status.idle": "2022-09-26T12:21:17.569868Z",
     "shell.execute_reply": "2022-09-26T12:21:17.569365Z"
    },
    "papermill": {
     "duration": 0.038763,
     "end_time": "2022-09-26T12:21:17.569980",
     "exception": false,
     "start_time": "2022-09-26T12:21:17.531217",
     "status": "completed"
    },
    "tags": []
   },
   "outputs": [],
   "source": [
    "# #hide\n",
    "# g = g[g.group.notna()]"
   ]
  },
  {
   "cell_type": "code",
   "execution_count": 40,
   "id": "determined-closing",
   "metadata": {
    "execution": {
     "iopub.execute_input": "2022-09-26T12:21:17.648019Z",
     "iopub.status.busy": "2022-09-26T12:21:17.646587Z",
     "iopub.status.idle": "2022-09-26T12:21:17.649333Z",
     "shell.execute_reply": "2022-09-26T12:21:17.650229Z"
    },
    "papermill": {
     "duration": 0.044135,
     "end_time": "2022-09-26T12:21:17.650428",
     "exception": false,
     "start_time": "2022-09-26T12:21:17.606293",
     "status": "completed"
    },
    "tags": []
   },
   "outputs": [],
   "source": [
    "# #hide\n",
    "# colors = dict(zip(\n",
    "#     [\"Oceania\", \"Europe\", \"Asia\", \"South America\", \"Middle East\", \"North America\", \"Africa\"],\n",
    "#     [\"#adb0ff\", \"#ffb3ff\", \"#90d595\", \"#e48381\", \"#aafbff\", \"#f7bb5f\", \"#eafb50\"]\n",
    "# ))\n",
    "# group_lk = g.set_index('name')['group'].to_dict()"
   ]
  },
  {
   "cell_type": "code",
   "execution_count": null,
   "id": "gross-drinking",
   "metadata": {
    "papermill": {
     "duration": 0.034205,
     "end_time": "2022-09-26T12:21:17.718653",
     "exception": false,
     "start_time": "2022-09-26T12:21:17.684448",
     "status": "completed"
    },
    "tags": []
   },
   "outputs": [],
   "source": []
  },
  {
   "cell_type": "code",
   "execution_count": 41,
   "id": "subject-macintosh",
   "metadata": {
    "execution": {
     "iopub.execute_input": "2022-09-26T12:21:17.792108Z",
     "iopub.status.busy": "2022-09-26T12:21:17.791449Z",
     "iopub.status.idle": "2022-09-26T12:21:17.794928Z",
     "shell.execute_reply": "2022-09-26T12:21:17.794374Z"
    },
    "papermill": {
     "duration": 0.042976,
     "end_time": "2022-09-26T12:21:17.795083",
     "exception": false,
     "start_time": "2022-09-26T12:21:17.752107",
     "status": "completed"
    },
    "tags": []
   },
   "outputs": [],
   "source": [
    "# #hide\n",
    "# fig, ax = plt.subplots(figsize=(15, 8))\n",
    "\n",
    "# def draw_barchart(current_day):\n",
    "#     dff = g[g['day'].eq(current_day)].sort_values(by='value', ascending=True).tail(10)\n",
    "#     ax.clear()\n",
    "#     ax.barh(dff['name'], dff['value'], color=[colors[group_lk[x]] for x in dff['name']])\n",
    "#     dx = dff['value'].max() / 200\n",
    "    \n",
    "#     for i, (value, name) in enumerate(zip(dff['value'], dff['name'])):\n",
    "#         ax.text(value-dx, i,     name,           size=14, weight=600, ha='right', va='bottom')\n",
    "#         ax.text(value-dx, i-.25, group_lk[name], size=10, color='#444444', ha='right', va='baseline')\n",
    "#         ax.text(value+dx, i,     f'{value:,.0f}',  size=14, ha='left',  va='center')\n",
    "#     ax.text(1, 0.4, current_day, transform=ax.transAxes, color='#777777', size=46, ha='right', weight=800)\n",
    "#     ax.text(0, 1.06, 'Population (thousands)', transform=ax.transAxes, size=12, color='#777777')\n",
    "#     ax.xaxis.set_major_formatter(ticker.StrMethodFormatter('{x:,.0f}'))\n",
    "#     ax.xaxis.set_ticks_position('top')\n",
    "#     ax.tick_params(axis='x', colors='#777777', labelsize=12)\n",
    "#     ax.set_yticks([])\n",
    "#     ax.margins(0, 0.01)\n",
    "#     ax.grid(which='major', axis='x', linestyle='-')\n",
    "#     ax.set_axisbelow(True)\n",
    "    \n",
    "#     ax.text(0, 1.15, 'Coronavirus',\n",
    "#             transform=ax.transAxes, size=24, weight=600, ha='left', va='top')\n",
    "# #     ax.text(1, 0, 'by @pratapvardhan; credit @jburnmurdoch', transform=ax.transAxes, color='#777777', ha='right',\n",
    "# #             bbox=dict(facecolor='white', alpha=0.8, edgecolor='white'))\n",
    "#     plt.box(False)"
   ]
  },
  {
   "cell_type": "code",
   "execution_count": 42,
   "id": "sexual-wages",
   "metadata": {
    "execution": {
     "iopub.execute_input": "2022-09-26T12:21:17.868433Z",
     "iopub.status.busy": "2022-09-26T12:21:17.867590Z",
     "iopub.status.idle": "2022-09-26T12:21:17.869076Z",
     "shell.execute_reply": "2022-09-26T12:21:17.869597Z"
    },
    "papermill": {
     "duration": 0.039463,
     "end_time": "2022-09-26T12:21:17.869723",
     "exception": false,
     "start_time": "2022-09-26T12:21:17.830260",
     "status": "completed"
    },
    "tags": []
   },
   "outputs": [],
   "source": [
    "# #hide_input\n",
    "# fig, ax = plt.subplots(figsize=(15, 8))\n",
    "# animator = animation.FuncAnimation(fig, draw_barchart, frames=range(g.day.values.min(), g.day.values.max()))\n",
    "# HTML(animator.to_jshtml())\n",
    "# # or use animator.to_html5_video() or animator.save() "
   ]
  },
  {
   "cell_type": "code",
   "execution_count": null,
   "id": "australian-container",
   "metadata": {
    "papermill": {
     "duration": 0.032526,
     "end_time": "2022-09-26T12:21:17.934128",
     "exception": false,
     "start_time": "2022-09-26T12:21:17.901602",
     "status": "completed"
    },
    "tags": []
   },
   "outputs": [],
   "source": []
  },
  {
   "cell_type": "code",
   "execution_count": null,
   "id": "mediterranean-pontiac",
   "metadata": {
    "papermill": {
     "duration": 0.03134,
     "end_time": "2022-09-26T12:21:17.996922",
     "exception": false,
     "start_time": "2022-09-26T12:21:17.965582",
     "status": "completed"
    },
    "tags": []
   },
   "outputs": [],
   "source": []
  },
  {
   "cell_type": "code",
   "execution_count": null,
   "id": "aging-legislature",
   "metadata": {
    "papermill": {
     "duration": 0.034205,
     "end_time": "2022-09-26T12:21:18.063703",
     "exception": false,
     "start_time": "2022-09-26T12:21:18.029498",
     "status": "completed"
    },
    "tags": []
   },
   "outputs": [],
   "source": []
  }
 ],
 "metadata": {
  "kernelspec": {
   "display_name": "Python 3",
   "language": "python",
   "name": "python3"
  },
  "language_info": {
   "codemirror_mode": {
    "name": "ipython",
    "version": 3
   },
   "file_extension": ".py",
   "mimetype": "text/x-python",
   "name": "python",
   "nbconvert_exporter": "python",
   "pygments_lexer": "ipython3",
   "version": "3.6.15"
  },
  "papermill": {
   "duration": 6.851492,
   "end_time": "2022-09-26T12:21:18.517964",
   "environment_variables": {},
   "exception": null,
   "input_path": "2020-03-21-covid19exp.ipynb",
   "output_path": "2020-03-21-covid19exp.ipynb",
   "parameters": {},
   "start_time": "2022-09-26T12:21:11.666472",
   "version": "2.0.0"
  }
 },
 "nbformat": 4,
 "nbformat_minor": 5
}