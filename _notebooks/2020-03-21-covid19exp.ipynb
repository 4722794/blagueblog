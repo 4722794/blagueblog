{
 "cells": [
  {
   "cell_type": "markdown",
   "id": "muslim-click",
   "metadata": {
    "papermill": {
     "duration": 0.033738,
     "end_time": "2022-07-13T12:15:58.092828",
     "exception": false,
     "start_time": "2022-07-13T12:15:58.059090",
     "status": "completed"
    },
    "tags": []
   },
   "source": [
    "# COVID-19 Case Race\n",
    "> A race chart to see rising cases around the world\n",
    "\n",
    "- author: Hargun Oberoi\n",
    "- image: images/covid-overview.png\n",
    "- hide: false\n",
    "- badges: false"
   ]
  },
  {
   "cell_type": "code",
   "execution_count": 1,
   "id": "proof-material",
   "metadata": {
    "execution": {
     "iopub.execute_input": "2022-07-13T12:15:58.162971Z",
     "iopub.status.busy": "2022-07-13T12:15:58.162392Z",
     "iopub.status.idle": "2022-07-13T12:15:58.468296Z",
     "shell.execute_reply": "2022-07-13T12:15:58.467799Z"
    },
    "papermill": {
     "duration": 0.344439,
     "end_time": "2022-07-13T12:15:58.468418",
     "exception": false,
     "start_time": "2022-07-13T12:15:58.123979",
     "status": "completed"
    },
    "tags": []
   },
   "outputs": [],
   "source": [
    "#hide\n",
    "import numpy as np\n",
    "import pandas as pd\n",
    "from jinja2 import Template\n",
    "from IPython.display import HTML"
   ]
  },
  {
   "cell_type": "code",
   "execution_count": 2,
   "id": "developed-terminology",
   "metadata": {
    "execution": {
     "iopub.execute_input": "2022-07-13T12:15:58.532141Z",
     "iopub.status.busy": "2022-07-13T12:15:58.531584Z",
     "iopub.status.idle": "2022-07-13T12:15:58.534277Z",
     "shell.execute_reply": "2022-07-13T12:15:58.533815Z"
    },
    "papermill": {
     "duration": 0.036181,
     "end_time": "2022-07-13T12:15:58.534388",
     "exception": false,
     "start_time": "2022-07-13T12:15:58.498207",
     "status": "completed"
    },
    "tags": []
   },
   "outputs": [],
   "source": [
    "#hide\n",
    "\n",
    "# FETCH\n",
    "base_url = 'https://raw.githubusercontent.com/pratapvardhan/notebooks/master/covid19/'\n",
    "paths = {\n",
    "    'mapping': base_url + 'mapping_countries.csv',\n",
    "    'overview': base_url + 'overview.tpl'\n",
    "}"
   ]
  },
  {
   "cell_type": "code",
   "execution_count": 3,
   "id": "dynamic-saver",
   "metadata": {
    "execution": {
     "iopub.execute_input": "2022-07-13T12:15:58.601572Z",
     "iopub.status.busy": "2022-07-13T12:15:58.601004Z",
     "iopub.status.idle": "2022-07-13T12:15:58.604512Z",
     "shell.execute_reply": "2022-07-13T12:15:58.603962Z"
    },
    "papermill": {
     "duration": 0.040925,
     "end_time": "2022-07-13T12:15:58.604610",
     "exception": false,
     "start_time": "2022-07-13T12:15:58.563685",
     "status": "completed"
    },
    "tags": []
   },
   "outputs": [
    {
     "data": {
      "text/plain": [
       "'https://raw.githubusercontent.com/pratapvardhan/notebooks/master/covid19/mapping_countries.csv'"
      ]
     },
     "execution_count": 3,
     "metadata": {},
     "output_type": "execute_result"
    }
   ],
   "source": [
    "#hide\n",
    "paths['mapping']"
   ]
  },
  {
   "cell_type": "code",
   "execution_count": 4,
   "id": "urban-software",
   "metadata": {
    "execution": {
     "iopub.execute_input": "2022-07-13T12:15:58.668722Z",
     "iopub.status.busy": "2022-07-13T12:15:58.668074Z",
     "iopub.status.idle": "2022-07-13T12:15:58.670592Z",
     "shell.execute_reply": "2022-07-13T12:15:58.670029Z"
    },
    "papermill": {
     "duration": 0.036326,
     "end_time": "2022-07-13T12:15:58.670686",
     "exception": false,
     "start_time": "2022-07-13T12:15:58.634360",
     "status": "completed"
    },
    "tags": []
   },
   "outputs": [],
   "source": [
    "#hide\n",
    "def get_mappings(url):\n",
    "    df = pd.read_csv(url)\n",
    "    return {\n",
    "        'df': df,\n",
    "        'replace.country': dict(df.dropna(subset=['Name']).set_index('Country')['Name']),\n",
    "        'map.continent': dict(df.set_index('Name')['Continent'])\n",
    "    }"
   ]
  },
  {
   "cell_type": "code",
   "execution_count": 5,
   "id": "intimate-machinery",
   "metadata": {
    "execution": {
     "iopub.execute_input": "2022-07-13T12:15:58.734722Z",
     "iopub.status.busy": "2022-07-13T12:15:58.734130Z",
     "iopub.status.idle": "2022-07-13T12:15:58.778703Z",
     "shell.execute_reply": "2022-07-13T12:15:58.778125Z"
    },
    "papermill": {
     "duration": 0.078472,
     "end_time": "2022-07-13T12:15:58.778804",
     "exception": false,
     "start_time": "2022-07-13T12:15:58.700332",
     "status": "completed"
    },
    "tags": []
   },
   "outputs": [],
   "source": [
    "#hide\n",
    "mapping = get_mappings(paths['mapping'])"
   ]
  },
  {
   "cell_type": "code",
   "execution_count": 6,
   "id": "certified-tactics",
   "metadata": {
    "execution": {
     "iopub.execute_input": "2022-07-13T12:15:58.843115Z",
     "iopub.status.busy": "2022-07-13T12:15:58.842542Z",
     "iopub.status.idle": "2022-07-13T12:15:58.845155Z",
     "shell.execute_reply": "2022-07-13T12:15:58.844619Z"
    },
    "papermill": {
     "duration": 0.036533,
     "end_time": "2022-07-13T12:15:58.845251",
     "exception": false,
     "start_time": "2022-07-13T12:15:58.808718",
     "status": "completed"
    },
    "tags": []
   },
   "outputs": [],
   "source": [
    "#hide\n",
    "def get_template(path):\n",
    "    from urllib.parse import urlparse\n",
    "    if bool(urlparse(path).netloc):\n",
    "        from urllib.request import urlopen\n",
    "        return urlopen(path).read().decode('utf8')\n",
    "    return open(path).read()"
   ]
  },
  {
   "cell_type": "code",
   "execution_count": 7,
   "id": "realistic-blast",
   "metadata": {
    "execution": {
     "iopub.execute_input": "2022-07-13T12:15:58.908951Z",
     "iopub.status.busy": "2022-07-13T12:15:58.908371Z",
     "iopub.status.idle": "2022-07-13T12:15:58.910810Z",
     "shell.execute_reply": "2022-07-13T12:15:58.910250Z"
    },
    "papermill": {
     "duration": 0.035945,
     "end_time": "2022-07-13T12:15:58.910906",
     "exception": false,
     "start_time": "2022-07-13T12:15:58.874961",
     "status": "completed"
    },
    "tags": []
   },
   "outputs": [],
   "source": [
    "#hide\n",
    "def get_frame(name):\n",
    "    url = (\n",
    "        'https://raw.githubusercontent.com/CSSEGISandData/COVID-19/master/csse_covid_19_data/'\n",
    "        f'csse_covid_19_time_series/time_series_covid19_{name}_global.csv')\n",
    "    df = pd.read_csv(url)\n",
    "    # rename countries\n",
    "    df['Country/Region'] = df['Country/Region'].replace(mapping['replace.country'])\n",
    "    return df"
   ]
  },
  {
   "cell_type": "code",
   "execution_count": 8,
   "id": "affiliated-characterization",
   "metadata": {
    "execution": {
     "iopub.execute_input": "2022-07-13T12:15:58.975310Z",
     "iopub.status.busy": "2022-07-13T12:15:58.974742Z",
     "iopub.status.idle": "2022-07-13T12:15:58.977018Z",
     "shell.execute_reply": "2022-07-13T12:15:58.977434Z"
    },
    "papermill": {
     "duration": 0.03682,
     "end_time": "2022-07-13T12:15:58.977537",
     "exception": false,
     "start_time": "2022-07-13T12:15:58.940717",
     "status": "completed"
    },
    "tags": []
   },
   "outputs": [],
   "source": [
    "#hide\n",
    "def get_dates(df):\n",
    "    dt_cols = df.columns[~df.columns.isin(['Province/State', 'Country/Region', 'Lat', 'Long'])]\n",
    "    LAST_DATE_I = -1\n",
    "    # sometimes last column may be empty, then go backwards\n",
    "    for i in range(-1, -len(dt_cols), -1):\n",
    "        if not df[dt_cols[i]].fillna(0).eq(0).all():\n",
    "            LAST_DATE_I = i\n",
    "            break\n",
    "    return LAST_DATE_I, dt_cols"
   ]
  },
  {
   "cell_type": "code",
   "execution_count": 9,
   "id": "recent-optimization",
   "metadata": {
    "execution": {
     "iopub.execute_input": "2022-07-13T12:15:59.041155Z",
     "iopub.status.busy": "2022-07-13T12:15:59.040564Z",
     "iopub.status.idle": "2022-07-13T12:15:59.476921Z",
     "shell.execute_reply": "2022-07-13T12:15:59.477367Z"
    },
    "papermill": {
     "duration": 0.470435,
     "end_time": "2022-07-13T12:15:59.477504",
     "exception": false,
     "start_time": "2022-07-13T12:15:59.007069",
     "status": "completed"
    },
    "tags": []
   },
   "outputs": [],
   "source": [
    "#hide\n",
    "COL_REGION = 'Country/Region'\n",
    "# Confirmed, Recovered, Deaths\n",
    "df = get_frame('confirmed')\n",
    "# dft_: timeseries, dfc_: today country agg\n",
    "dft_cases = df\n",
    "dft_deaths = get_frame('deaths')\n",
    "dft_recovered = get_frame('recovered')\n",
    "LAST_DATE_I, dt_cols = get_dates(df)"
   ]
  },
  {
   "cell_type": "code",
   "execution_count": 10,
   "id": "absolute-copper",
   "metadata": {
    "execution": {
     "iopub.execute_input": "2022-07-13T12:15:59.542153Z",
     "iopub.status.busy": "2022-07-13T12:15:59.541587Z",
     "iopub.status.idle": "2022-07-13T12:15:59.545141Z",
     "shell.execute_reply": "2022-07-13T12:15:59.545566Z"
    },
    "papermill": {
     "duration": 0.038089,
     "end_time": "2022-07-13T12:15:59.545684",
     "exception": false,
     "start_time": "2022-07-13T12:15:59.507595",
     "status": "completed"
    },
    "tags": []
   },
   "outputs": [],
   "source": [
    "#hide\n",
    "LAST_DATE_I, dt_cols = get_dates(df)\n",
    "dt_today =dt_cols[LAST_DATE_I]\n",
    "# dt_5day = dt_cols[LAST_DATE_I - 5]\n",
    "dt_yday = dt_cols[LAST_DATE_I - 1]"
   ]
  },
  {
   "cell_type": "code",
   "execution_count": 11,
   "id": "restricted-sheriff",
   "metadata": {
    "execution": {
     "iopub.execute_input": "2022-07-13T12:15:59.610422Z",
     "iopub.status.busy": "2022-07-13T12:15:59.608834Z",
     "iopub.status.idle": "2022-07-13T12:15:59.616216Z",
     "shell.execute_reply": "2022-07-13T12:15:59.615674Z"
    },
    "papermill": {
     "duration": 0.041115,
     "end_time": "2022-07-13T12:15:59.616310",
     "exception": false,
     "start_time": "2022-07-13T12:15:59.575195",
     "status": "completed"
    },
    "tags": []
   },
   "outputs": [],
   "source": [
    "#hide\n",
    "dfc_cases = dft_cases.groupby(COL_REGION)[dt_today].sum()\n",
    "dfc_deaths = dft_deaths.groupby(COL_REGION)[dt_today].sum()\n",
    "# dfp_cases = dft_cases.groupby(COL_REGION)[dt_5day].sum()\n",
    "# dfp_deaths = dft_deaths.groupby(COL_REGION)[dt_5day].sum()\n",
    "dfp_cases = dft_cases.groupby(COL_REGION)[dt_yday].sum()\n",
    "dfp_deaths = dft_deaths.groupby(COL_REGION)[dt_yday].sum()"
   ]
  },
  {
   "cell_type": "code",
   "execution_count": 12,
   "id": "deluxe-hepatitis",
   "metadata": {
    "execution": {
     "iopub.execute_input": "2022-07-13T12:15:59.680590Z",
     "iopub.status.busy": "2022-07-13T12:15:59.680040Z",
     "iopub.status.idle": "2022-07-13T12:15:59.684590Z",
     "shell.execute_reply": "2022-07-13T12:15:59.684047Z"
    },
    "papermill": {
     "duration": 0.038603,
     "end_time": "2022-07-13T12:15:59.684685",
     "exception": false,
     "start_time": "2022-07-13T12:15:59.646082",
     "status": "completed"
    },
    "tags": []
   },
   "outputs": [],
   "source": [
    "#hide\n",
    "df_table = (pd.DataFrame(dict(Cases = dfc_cases, Deaths = dfc_deaths, PCases = dfp_cases, PDeaths = dfp_deaths))\n",
    "            .sort_values(by = ['Cases','Deaths'], ascending = [False, False])\n",
    "            .reset_index())"
   ]
  },
  {
   "cell_type": "code",
   "execution_count": 13,
   "id": "educational-chancellor",
   "metadata": {
    "execution": {
     "iopub.execute_input": "2022-07-13T12:15:59.755419Z",
     "iopub.status.busy": "2022-07-13T12:15:59.754872Z",
     "iopub.status.idle": "2022-07-13T12:15:59.766602Z",
     "shell.execute_reply": "2022-07-13T12:15:59.766138Z"
    },
    "papermill": {
     "duration": 0.052493,
     "end_time": "2022-07-13T12:15:59.766696",
     "exception": false,
     "start_time": "2022-07-13T12:15:59.714203",
     "status": "completed"
    },
    "tags": []
   },
   "outputs": [
    {
     "data": {
      "text/html": [
       "<div>\n",
       "<style scoped>\n",
       "    .dataframe tbody tr th:only-of-type {\n",
       "        vertical-align: middle;\n",
       "    }\n",
       "\n",
       "    .dataframe tbody tr th {\n",
       "        vertical-align: top;\n",
       "    }\n",
       "\n",
       "    .dataframe thead th {\n",
       "        text-align: right;\n",
       "    }\n",
       "</style>\n",
       "<table border=\"1\" class=\"dataframe\">\n",
       "  <thead>\n",
       "    <tr style=\"text-align: right;\">\n",
       "      <th></th>\n",
       "      <th>Country/Region</th>\n",
       "      <th>Cases</th>\n",
       "      <th>Deaths</th>\n",
       "      <th>PCases</th>\n",
       "      <th>PDeaths</th>\n",
       "      <th>Cases (+)</th>\n",
       "      <th>Deaths (+)</th>\n",
       "      <th>Fatality Rate</th>\n",
       "      <th>Continent</th>\n",
       "    </tr>\n",
       "  </thead>\n",
       "  <tbody>\n",
       "    <tr>\n",
       "      <th>0</th>\n",
       "      <td>US</td>\n",
       "      <td>88946276</td>\n",
       "      <td>1021838</td>\n",
       "      <td>88754821</td>\n",
       "      <td>1021306</td>\n",
       "      <td>191455</td>\n",
       "      <td>532</td>\n",
       "      <td>1.15</td>\n",
       "      <td>North America</td>\n",
       "    </tr>\n",
       "    <tr>\n",
       "      <th>1</th>\n",
       "      <td>India</td>\n",
       "      <td>43669850</td>\n",
       "      <td>525519</td>\n",
       "      <td>43652944</td>\n",
       "      <td>525474</td>\n",
       "      <td>16906</td>\n",
       "      <td>45</td>\n",
       "      <td>1.20</td>\n",
       "      <td>Asia</td>\n",
       "    </tr>\n",
       "    <tr>\n",
       "      <th>2</th>\n",
       "      <td>Brazil</td>\n",
       "      <td>33004555</td>\n",
       "      <td>674102</td>\n",
       "      <td>32940507</td>\n",
       "      <td>673758</td>\n",
       "      <td>64048</td>\n",
       "      <td>344</td>\n",
       "      <td>2.04</td>\n",
       "      <td>South America</td>\n",
       "    </tr>\n",
       "    <tr>\n",
       "      <th>3</th>\n",
       "      <td>France</td>\n",
       "      <td>32753754</td>\n",
       "      <td>151345</td>\n",
       "      <td>32570121</td>\n",
       "      <td>151218</td>\n",
       "      <td>183633</td>\n",
       "      <td>127</td>\n",
       "      <td>0.46</td>\n",
       "      <td>Europe</td>\n",
       "    </tr>\n",
       "    <tr>\n",
       "      <th>4</th>\n",
       "      <td>Germany</td>\n",
       "      <td>29308100</td>\n",
       "      <td>142139</td>\n",
       "      <td>29180489</td>\n",
       "      <td>142035</td>\n",
       "      <td>127611</td>\n",
       "      <td>104</td>\n",
       "      <td>0.48</td>\n",
       "      <td>Europe</td>\n",
       "    </tr>\n",
       "  </tbody>\n",
       "</table>\n",
       "</div>"
      ],
      "text/plain": [
       "  Country/Region     Cases   Deaths    PCases  PDeaths  Cases (+)  Deaths (+)  \\\n",
       "0             US  88946276  1021838  88754821  1021306     191455         532   \n",
       "1          India  43669850   525519  43652944   525474      16906          45   \n",
       "2         Brazil  33004555   674102  32940507   673758      64048         344   \n",
       "3         France  32753754   151345  32570121   151218     183633         127   \n",
       "4        Germany  29308100   142139  29180489   142035     127611         104   \n",
       "\n",
       "   Fatality Rate      Continent  \n",
       "0           1.15  North America  \n",
       "1           1.20           Asia  \n",
       "2           2.04  South America  \n",
       "3           0.46         Europe  \n",
       "4           0.48         Europe  "
      ]
     },
     "execution_count": 13,
     "metadata": {},
     "output_type": "execute_result"
    }
   ],
   "source": [
    "#hide\n",
    "for c in 'Cases, Deaths'.split(', '):\n",
    "    df_table[f'{c} (+)'] = (df_table[c] - df_table[f'P{c}']).clip(0)\n",
    "    #Clip ça veut dire, les chiffres negatif sont interdit\n",
    "df_table['Fatality Rate'] = (100* df_table['Deaths']/ df_table['Cases']).round(2)\n",
    "df_table['Continent'] = df_table['Country/Region'].map(mapping['map.continent'])\n",
    "df_table.head(5)"
   ]
  },
  {
   "cell_type": "code",
   "execution_count": 14,
   "id": "aboriginal-bulgaria",
   "metadata": {
    "execution": {
     "iopub.execute_input": "2022-07-13T12:15:59.831646Z",
     "iopub.status.busy": "2022-07-13T12:15:59.831064Z",
     "iopub.status.idle": "2022-07-13T12:15:59.833592Z",
     "shell.execute_reply": "2022-07-13T12:15:59.833129Z"
    },
    "papermill": {
     "duration": 0.036841,
     "end_time": "2022-07-13T12:15:59.833687",
     "exception": false,
     "start_time": "2022-07-13T12:15:59.796846",
     "status": "completed"
    },
    "tags": []
   },
   "outputs": [],
   "source": [
    "#hide\n",
    "#delete problematic countries from table\n",
    "df_table = df_table[~df_table['Country/Region'].isin(['Cape Verde', 'Cruise Ship', 'Kosovo'])]"
   ]
  },
  {
   "cell_type": "code",
   "execution_count": 15,
   "id": "fantastic-effect",
   "metadata": {
    "execution": {
     "iopub.execute_input": "2022-07-13T12:15:59.907948Z",
     "iopub.status.busy": "2022-07-13T12:15:59.899972Z",
     "iopub.status.idle": "2022-07-13T12:15:59.916970Z",
     "shell.execute_reply": "2022-07-13T12:15:59.916521Z"
    },
    "papermill": {
     "duration": 0.053438,
     "end_time": "2022-07-13T12:15:59.917063",
     "exception": false,
     "start_time": "2022-07-13T12:15:59.863625",
     "status": "completed"
    },
    "tags": []
   },
   "outputs": [
    {
     "data": {
      "text/html": [
       "<div>\n",
       "<style scoped>\n",
       "    .dataframe tbody tr th:only-of-type {\n",
       "        vertical-align: middle;\n",
       "    }\n",
       "\n",
       "    .dataframe tbody tr th {\n",
       "        vertical-align: top;\n",
       "    }\n",
       "\n",
       "    .dataframe thead th {\n",
       "        text-align: right;\n",
       "    }\n",
       "</style>\n",
       "<table border=\"1\" class=\"dataframe\">\n",
       "  <thead>\n",
       "    <tr style=\"text-align: right;\">\n",
       "      <th></th>\n",
       "      <th>Country/Region</th>\n",
       "      <th>Cases</th>\n",
       "      <th>Deaths</th>\n",
       "      <th>PCases</th>\n",
       "      <th>PDeaths</th>\n",
       "      <th>Cases (+)</th>\n",
       "      <th>Deaths (+)</th>\n",
       "      <th>Fatality Rate</th>\n",
       "      <th>Continent</th>\n",
       "    </tr>\n",
       "  </thead>\n",
       "  <tbody>\n",
       "    <tr>\n",
       "      <th>0</th>\n",
       "      <td>US</td>\n",
       "      <td>88946276</td>\n",
       "      <td>1021838</td>\n",
       "      <td>88754821</td>\n",
       "      <td>1021306</td>\n",
       "      <td>191455</td>\n",
       "      <td>532</td>\n",
       "      <td>1.1</td>\n",
       "      <td>North America</td>\n",
       "    </tr>\n",
       "    <tr>\n",
       "      <th>1</th>\n",
       "      <td>India</td>\n",
       "      <td>43669850</td>\n",
       "      <td>525519</td>\n",
       "      <td>43652944</td>\n",
       "      <td>525474</td>\n",
       "      <td>16906</td>\n",
       "      <td>45</td>\n",
       "      <td>1.2</td>\n",
       "      <td>Asia</td>\n",
       "    </tr>\n",
       "    <tr>\n",
       "      <th>2</th>\n",
       "      <td>Brazil</td>\n",
       "      <td>33004555</td>\n",
       "      <td>674102</td>\n",
       "      <td>32940507</td>\n",
       "      <td>673758</td>\n",
       "      <td>64048</td>\n",
       "      <td>344</td>\n",
       "      <td>2.0</td>\n",
       "      <td>South America</td>\n",
       "    </tr>\n",
       "    <tr>\n",
       "      <th>3</th>\n",
       "      <td>France</td>\n",
       "      <td>32753754</td>\n",
       "      <td>151345</td>\n",
       "      <td>32570121</td>\n",
       "      <td>151218</td>\n",
       "      <td>183633</td>\n",
       "      <td>127</td>\n",
       "      <td>0.5</td>\n",
       "      <td>Europe</td>\n",
       "    </tr>\n",
       "    <tr>\n",
       "      <th>4</th>\n",
       "      <td>Germany</td>\n",
       "      <td>29308100</td>\n",
       "      <td>142139</td>\n",
       "      <td>29180489</td>\n",
       "      <td>142035</td>\n",
       "      <td>127611</td>\n",
       "      <td>104</td>\n",
       "      <td>0.5</td>\n",
       "      <td>Europe</td>\n",
       "    </tr>\n",
       "  </tbody>\n",
       "</table>\n",
       "</div>"
      ],
      "text/plain": [
       "  Country/Region     Cases   Deaths    PCases  PDeaths  Cases (+)  Deaths (+)  \\\n",
       "0             US  88946276  1021838  88754821  1021306     191455         532   \n",
       "1          India  43669850   525519  43652944   525474      16906          45   \n",
       "2         Brazil  33004555   674102  32940507   673758      64048         344   \n",
       "3         France  32753754   151345  32570121   151218     183633         127   \n",
       "4        Germany  29308100   142139  29180489   142035     127611         104   \n",
       "\n",
       "   Fatality Rate      Continent  \n",
       "0            1.1  North America  \n",
       "1            1.2           Asia  \n",
       "2            2.0  South America  \n",
       "3            0.5         Europe  \n",
       "4            0.5         Europe  "
      ]
     },
     "execution_count": 15,
     "metadata": {},
     "output_type": "execute_result"
    }
   ],
   "source": [
    "#hide\n",
    "df_table = (pd.DataFrame(dict(Cases=dfc_cases, Deaths=dfc_deaths, PCases=dfp_cases, PDeaths=dfp_deaths))\n",
    "             .sort_values(by=['Cases', 'Deaths'], ascending=[False, False])\n",
    "             .reset_index())\n",
    "df_table.rename(columns={'index': 'Country/Region'}, inplace=True)\n",
    "for c in 'Cases, Deaths'.split(', '):\n",
    "    df_table[f'{c} (+)'] = (df_table[c] - df_table[f'P{c}']).clip(0)  # DATA BUG\n",
    "df_table['Fatality Rate'] = (100 * df_table['Deaths'] / df_table['Cases']).round(1)\n",
    "df_table['Continent'] = df_table['Country/Region'].map(mapping['map.continent'])\n",
    "df_table.head(5)"
   ]
  },
  {
   "cell_type": "code",
   "execution_count": 16,
   "id": "fewer-occasion",
   "metadata": {
    "execution": {
     "iopub.execute_input": "2022-07-13T12:15:59.982331Z",
     "iopub.status.busy": "2022-07-13T12:15:59.981775Z",
     "iopub.status.idle": "2022-07-13T12:15:59.983984Z",
     "shell.execute_reply": "2022-07-13T12:15:59.984434Z"
    },
    "papermill": {
     "duration": 0.03695,
     "end_time": "2022-07-13T12:15:59.984538",
     "exception": false,
     "start_time": "2022-07-13T12:15:59.947588",
     "status": "completed"
    },
    "tags": []
   },
   "outputs": [],
   "source": [
    "#hide\n",
    "#delete problematic countries from table\n",
    "df_table = df_table[~df_table['Country/Region'].isin(['Cape Verde', 'Cruise Ship', 'Kosovo'])]"
   ]
  },
  {
   "cell_type": "code",
   "execution_count": 17,
   "id": "related-center",
   "metadata": {
    "execution": {
     "iopub.execute_input": "2022-07-13T12:16:00.052775Z",
     "iopub.status.busy": "2022-07-13T12:16:00.052207Z",
     "iopub.status.idle": "2022-07-13T12:16:00.064037Z",
     "shell.execute_reply": "2022-07-13T12:16:00.063593Z"
    },
    "papermill": {
     "duration": 0.049147,
     "end_time": "2022-07-13T12:16:00.064134",
     "exception": false,
     "start_time": "2022-07-13T12:16:00.014987",
     "status": "completed"
    },
    "tags": []
   },
   "outputs": [],
   "source": [
    "#hide\n",
    "metrics = [df_table.columns[index] for index in [1,2,5,6]]\n",
    "# s_china = df_table[df_table['Country/Region'].eq('China')][metrics].sum().add_prefix('China ')\n",
    "s_us = df_table[df_table['Country/Region'].eq('US')][metrics].sum().add_prefix('US ')\n",
    "s_eu = df_table[df_table['Continent'].eq('Europe')][metrics].sum().add_prefix('EU ')\n",
    "s_ind = df_table[df_table['Country/Region'].eq('India')][metrics].sum().add_prefix('India ')\n",
    "summary = {'updated': pd.to_datetime(dt_today), 'since': pd.to_datetime(dt_yday)}\n",
    "summary = {'updated': pd.to_datetime(dt_today), 'since': pd.to_datetime(dt_yday)}\n",
    "summary = {**summary, **df_table[metrics].sum(), **s_ind, **s_us, **s_eu}"
   ]
  },
  {
   "cell_type": "code",
   "execution_count": 18,
   "id": "engaging-syndrome",
   "metadata": {
    "execution": {
     "iopub.execute_input": "2022-07-13T12:16:00.129297Z",
     "iopub.status.busy": "2022-07-13T12:16:00.128738Z",
     "iopub.status.idle": "2022-07-13T12:16:00.146661Z",
     "shell.execute_reply": "2022-07-13T12:16:00.147083Z"
    },
    "papermill": {
     "duration": 0.052526,
     "end_time": "2022-07-13T12:16:00.147192",
     "exception": false,
     "start_time": "2022-07-13T12:16:00.094666",
     "status": "completed"
    },
    "tags": []
   },
   "outputs": [],
   "source": [
    "#hide\n",
    "dft_ct_new_cases = dft_cases.groupby(COL_REGION)[dt_cols].sum().diff(axis=1).fillna(0).astype(int)"
   ]
  },
  {
   "cell_type": "code",
   "execution_count": 19,
   "id": "neutral-assignment",
   "metadata": {
    "execution": {
     "iopub.execute_input": "2022-07-13T12:16:00.212860Z",
     "iopub.status.busy": "2022-07-13T12:16:00.212302Z",
     "iopub.status.idle": "2022-07-13T12:16:00.214742Z",
     "shell.execute_reply": "2022-07-13T12:16:00.214199Z"
    },
    "papermill": {
     "duration": 0.037252,
     "end_time": "2022-07-13T12:16:00.214838",
     "exception": false,
     "start_time": "2022-07-13T12:16:00.177586",
     "status": "completed"
    },
    "tags": []
   },
   "outputs": [],
   "source": [
    "#hide\n",
    "everydaycases = dft_ct_new_cases.cumsum(axis=1)"
   ]
  },
  {
   "cell_type": "code",
   "execution_count": 20,
   "id": "parliamentary-calgary",
   "metadata": {
    "execution": {
     "iopub.execute_input": "2022-07-13T12:16:00.279620Z",
     "iopub.status.busy": "2022-07-13T12:16:00.279050Z",
     "iopub.status.idle": "2022-07-13T12:16:00.880671Z",
     "shell.execute_reply": "2022-07-13T12:16:00.881143Z"
    },
    "papermill": {
     "duration": 0.635908,
     "end_time": "2022-07-13T12:16:00.881281",
     "exception": false,
     "start_time": "2022-07-13T12:16:00.245373",
     "status": "completed"
    },
    "tags": []
   },
   "outputs": [],
   "source": [
    "#hide\n",
    "import pandas as pd\n",
    "import matplotlib.pyplot as plt\n",
    "import matplotlib.ticker as ticker\n",
    "import matplotlib.animation as animation\n",
    "from IPython.display import HTML"
   ]
  },
  {
   "cell_type": "code",
   "execution_count": 21,
   "id": "lasting-extraction",
   "metadata": {
    "execution": {
     "iopub.execute_input": "2022-07-13T12:16:00.948274Z",
     "iopub.status.busy": "2022-07-13T12:16:00.947715Z",
     "iopub.status.idle": "2022-07-13T12:16:00.954277Z",
     "shell.execute_reply": "2022-07-13T12:16:00.953827Z"
    },
    "papermill": {
     "duration": 0.042472,
     "end_time": "2022-07-13T12:16:00.954390",
     "exception": false,
     "start_time": "2022-07-13T12:16:00.911918",
     "status": "completed"
    },
    "tags": []
   },
   "outputs": [],
   "source": [
    "#hide\n",
    "t = everydaycases.stack()"
   ]
  },
  {
   "cell_type": "code",
   "execution_count": 22,
   "id": "premier-sleeve",
   "metadata": {
    "execution": {
     "iopub.execute_input": "2022-07-13T12:16:01.019575Z",
     "iopub.status.busy": "2022-07-13T12:16:01.019020Z",
     "iopub.status.idle": "2022-07-13T12:16:01.029679Z",
     "shell.execute_reply": "2022-07-13T12:16:01.030129Z"
    },
    "papermill": {
     "duration": 0.045155,
     "end_time": "2022-07-13T12:16:01.030237",
     "exception": false,
     "start_time": "2022-07-13T12:16:00.985082",
     "status": "completed"
    },
    "tags": []
   },
   "outputs": [],
   "source": [
    "#hide\n",
    "g = t.reset_index(['Country/Region'])"
   ]
  },
  {
   "cell_type": "code",
   "execution_count": 23,
   "id": "distributed-pittsburgh",
   "metadata": {
    "execution": {
     "iopub.execute_input": "2022-07-13T12:16:01.094564Z",
     "iopub.status.busy": "2022-07-13T12:16:01.093976Z",
     "iopub.status.idle": "2022-07-13T12:16:01.096049Z",
     "shell.execute_reply": "2022-07-13T12:16:01.096468Z"
    },
    "papermill": {
     "duration": 0.035966,
     "end_time": "2022-07-13T12:16:01.096578",
     "exception": false,
     "start_time": "2022-07-13T12:16:01.060612",
     "status": "completed"
    },
    "tags": []
   },
   "outputs": [],
   "source": [
    "#hide\n",
    "g.index.name = 'date'"
   ]
  },
  {
   "cell_type": "code",
   "execution_count": 24,
   "id": "naked-donor",
   "metadata": {
    "execution": {
     "iopub.execute_input": "2022-07-13T12:16:01.160926Z",
     "iopub.status.busy": "2022-07-13T12:16:01.160357Z",
     "iopub.status.idle": "2022-07-13T12:16:01.162833Z",
     "shell.execute_reply": "2022-07-13T12:16:01.162364Z"
    },
    "papermill": {
     "duration": 0.035824,
     "end_time": "2022-07-13T12:16:01.162927",
     "exception": false,
     "start_time": "2022-07-13T12:16:01.127103",
     "status": "completed"
    },
    "tags": []
   },
   "outputs": [],
   "source": [
    "# #hide\n",
    "# g = g.reset_index(['date'])"
   ]
  },
  {
   "cell_type": "code",
   "execution_count": 25,
   "id": "incomplete-mustang",
   "metadata": {
    "execution": {
     "iopub.execute_input": "2022-07-13T12:16:01.227127Z",
     "iopub.status.busy": "2022-07-13T12:16:01.226551Z",
     "iopub.status.idle": "2022-07-13T12:16:01.228952Z",
     "shell.execute_reply": "2022-07-13T12:16:01.228424Z"
    },
    "papermill": {
     "duration": 0.035515,
     "end_time": "2022-07-13T12:16:01.229045",
     "exception": false,
     "start_time": "2022-07-13T12:16:01.193530",
     "status": "completed"
    },
    "tags": []
   },
   "outputs": [],
   "source": [
    "#hide\n",
    "# g.head()"
   ]
  },
  {
   "cell_type": "code",
   "execution_count": 26,
   "id": "specific-kruger",
   "metadata": {
    "execution": {
     "iopub.execute_input": "2022-07-13T12:16:01.293078Z",
     "iopub.status.busy": "2022-07-13T12:16:01.292497Z",
     "iopub.status.idle": "2022-07-13T12:16:01.294957Z",
     "shell.execute_reply": "2022-07-13T12:16:01.294515Z"
    },
    "papermill": {
     "duration": 0.035448,
     "end_time": "2022-07-13T12:16:01.295048",
     "exception": false,
     "start_time": "2022-07-13T12:16:01.259600",
     "status": "completed"
    },
    "tags": []
   },
   "outputs": [],
   "source": [
    "#hide\n",
    "# g.columns = ['date','country','cases']"
   ]
  },
  {
   "cell_type": "code",
   "execution_count": 27,
   "id": "tender-conversion",
   "metadata": {
    "execution": {
     "iopub.execute_input": "2022-07-13T12:16:01.359084Z",
     "iopub.status.busy": "2022-07-13T12:16:01.358506Z",
     "iopub.status.idle": "2022-07-13T12:16:01.360855Z",
     "shell.execute_reply": "2022-07-13T12:16:01.360326Z"
    },
    "papermill": {
     "duration": 0.035419,
     "end_time": "2022-07-13T12:16:01.360948",
     "exception": false,
     "start_time": "2022-07-13T12:16:01.325529",
     "status": "completed"
    },
    "tags": []
   },
   "outputs": [],
   "source": [
    "#hide\n",
    "# g['continent'] = g.country"
   ]
  },
  {
   "cell_type": "code",
   "execution_count": 28,
   "id": "substantial-wilderness",
   "metadata": {
    "execution": {
     "iopub.execute_input": "2022-07-13T12:16:01.425582Z",
     "iopub.status.busy": "2022-07-13T12:16:01.425024Z",
     "iopub.status.idle": "2022-07-13T12:16:01.426906Z",
     "shell.execute_reply": "2022-07-13T12:16:01.427327Z"
    },
    "papermill": {
     "duration": 0.036004,
     "end_time": "2022-07-13T12:16:01.427434",
     "exception": false,
     "start_time": "2022-07-13T12:16:01.391430",
     "status": "completed"
    },
    "tags": []
   },
   "outputs": [],
   "source": [
    "#hide\n",
    "# cols = list(g.columns.values)"
   ]
  },
  {
   "cell_type": "code",
   "execution_count": 29,
   "id": "solved-farming",
   "metadata": {
    "execution": {
     "iopub.execute_input": "2022-07-13T12:16:01.491147Z",
     "iopub.status.busy": "2022-07-13T12:16:01.490570Z",
     "iopub.status.idle": "2022-07-13T12:16:01.492983Z",
     "shell.execute_reply": "2022-07-13T12:16:01.492539Z"
    },
    "papermill": {
     "duration": 0.03533,
     "end_time": "2022-07-13T12:16:01.493076",
     "exception": false,
     "start_time": "2022-07-13T12:16:01.457746",
     "status": "completed"
    },
    "tags": []
   },
   "outputs": [],
   "source": [
    "#hide\n",
    "# cols.insert(0, cols.pop())"
   ]
  },
  {
   "cell_type": "code",
   "execution_count": 30,
   "id": "executed-adoption",
   "metadata": {
    "execution": {
     "iopub.execute_input": "2022-07-13T12:16:01.557629Z",
     "iopub.status.busy": "2022-07-13T12:16:01.557051Z",
     "iopub.status.idle": "2022-07-13T12:16:01.559239Z",
     "shell.execute_reply": "2022-07-13T12:16:01.558817Z"
    },
    "papermill": {
     "duration": 0.035786,
     "end_time": "2022-07-13T12:16:01.559332",
     "exception": false,
     "start_time": "2022-07-13T12:16:01.523546",
     "status": "completed"
    },
    "tags": []
   },
   "outputs": [],
   "source": [
    "#hide\n",
    "# g = g[cols]"
   ]
  },
  {
   "cell_type": "code",
   "execution_count": 31,
   "id": "subject-dublin",
   "metadata": {
    "execution": {
     "iopub.execute_input": "2022-07-13T12:16:01.623494Z",
     "iopub.status.busy": "2022-07-13T12:16:01.622929Z",
     "iopub.status.idle": "2022-07-13T12:16:01.625283Z",
     "shell.execute_reply": "2022-07-13T12:16:01.624757Z"
    },
    "papermill": {
     "duration": 0.035539,
     "end_time": "2022-07-13T12:16:01.625375",
     "exception": false,
     "start_time": "2022-07-13T12:16:01.589836",
     "status": "completed"
    },
    "tags": []
   },
   "outputs": [],
   "source": [
    "#hide\n",
    "# g['continent'] = g['continent'].map(mapping['map.continent'])"
   ]
  },
  {
   "cell_type": "code",
   "execution_count": 32,
   "id": "freelance-scout",
   "metadata": {
    "execution": {
     "iopub.execute_input": "2022-07-13T12:16:01.689610Z",
     "iopub.status.busy": "2022-07-13T12:16:01.689030Z",
     "iopub.status.idle": "2022-07-13T12:16:01.691449Z",
     "shell.execute_reply": "2022-07-13T12:16:01.691010Z"
    },
    "papermill": {
     "duration": 0.035523,
     "end_time": "2022-07-13T12:16:01.691540",
     "exception": false,
     "start_time": "2022-07-13T12:16:01.656017",
     "status": "completed"
    },
    "tags": []
   },
   "outputs": [],
   "source": [
    "#hide\n",
    "# g.head()"
   ]
  },
  {
   "cell_type": "code",
   "execution_count": 33,
   "id": "limited-engine",
   "metadata": {
    "execution": {
     "iopub.execute_input": "2022-07-13T12:16:01.755306Z",
     "iopub.status.busy": "2022-07-13T12:16:01.754749Z",
     "iopub.status.idle": "2022-07-13T12:16:01.758168Z",
     "shell.execute_reply": "2022-07-13T12:16:01.758605Z"
    },
    "papermill": {
     "duration": 0.036831,
     "end_time": "2022-07-13T12:16:01.758716",
     "exception": false,
     "start_time": "2022-07-13T12:16:01.721885",
     "status": "completed"
    },
    "tags": []
   },
   "outputs": [],
   "source": [
    "# hide\n",
    "# g['date'] = g['date'].astype('datetime64[ns]')"
   ]
  },
  {
   "cell_type": "code",
   "execution_count": 34,
   "id": "sophisticated-supervisor",
   "metadata": {
    "execution": {
     "iopub.execute_input": "2022-07-13T12:16:01.823225Z",
     "iopub.status.busy": "2022-07-13T12:16:01.822646Z",
     "iopub.status.idle": "2022-07-13T12:16:01.825173Z",
     "shell.execute_reply": "2022-07-13T12:16:01.824651Z"
    },
    "papermill": {
     "duration": 0.035899,
     "end_time": "2022-07-13T12:16:01.825266",
     "exception": false,
     "start_time": "2022-07-13T12:16:01.789367",
     "status": "completed"
    },
    "tags": []
   },
   "outputs": [],
   "source": [
    "#hide\n",
    "# g['date'] = g.date.dt.dayofyear"
   ]
  },
  {
   "cell_type": "code",
   "execution_count": 35,
   "id": "inside-dubai",
   "metadata": {
    "execution": {
     "iopub.execute_input": "2022-07-13T12:16:01.889074Z",
     "iopub.status.busy": "2022-07-13T12:16:01.888501Z",
     "iopub.status.idle": "2022-07-13T12:16:01.890939Z",
     "shell.execute_reply": "2022-07-13T12:16:01.890516Z"
    },
    "papermill": {
     "duration": 0.035435,
     "end_time": "2022-07-13T12:16:01.891034",
     "exception": false,
     "start_time": "2022-07-13T12:16:01.855599",
     "status": "completed"
    },
    "tags": []
   },
   "outputs": [],
   "source": [
    "#hide\n",
    "# g = g.rename(columns= {'continent':'group','country':'name','cases':'value'})"
   ]
  },
  {
   "cell_type": "code",
   "execution_count": 36,
   "id": "fleet-motorcycle",
   "metadata": {
    "execution": {
     "iopub.execute_input": "2022-07-13T12:16:01.955080Z",
     "iopub.status.busy": "2022-07-13T12:16:01.954504Z",
     "iopub.status.idle": "2022-07-13T12:16:01.956941Z",
     "shell.execute_reply": "2022-07-13T12:16:01.956411Z"
    },
    "papermill": {
     "duration": 0.035578,
     "end_time": "2022-07-13T12:16:01.957034",
     "exception": false,
     "start_time": "2022-07-13T12:16:01.921456",
     "status": "completed"
    },
    "tags": []
   },
   "outputs": [],
   "source": [
    "#hide\n",
    "# cols = ['name','group','day','value']"
   ]
  },
  {
   "cell_type": "code",
   "execution_count": 37,
   "id": "continued-sleeping",
   "metadata": {
    "execution": {
     "iopub.execute_input": "2022-07-13T12:16:02.020975Z",
     "iopub.status.busy": "2022-07-13T12:16:02.020406Z",
     "iopub.status.idle": "2022-07-13T12:16:02.022458Z",
     "shell.execute_reply": "2022-07-13T12:16:02.022868Z"
    },
    "papermill": {
     "duration": 0.035456,
     "end_time": "2022-07-13T12:16:02.022977",
     "exception": false,
     "start_time": "2022-07-13T12:16:01.987521",
     "status": "completed"
    },
    "tags": []
   },
   "outputs": [],
   "source": [
    "#hide\n",
    "# g.rename(columns= {'date':'day'},inplace = True)"
   ]
  },
  {
   "cell_type": "code",
   "execution_count": 38,
   "id": "major-fight",
   "metadata": {
    "execution": {
     "iopub.execute_input": "2022-07-13T12:16:02.087217Z",
     "iopub.status.busy": "2022-07-13T12:16:02.086645Z",
     "iopub.status.idle": "2022-07-13T12:16:02.089071Z",
     "shell.execute_reply": "2022-07-13T12:16:02.088543Z"
    },
    "papermill": {
     "duration": 0.035678,
     "end_time": "2022-07-13T12:16:02.089164",
     "exception": false,
     "start_time": "2022-07-13T12:16:02.053486",
     "status": "completed"
    },
    "tags": []
   },
   "outputs": [],
   "source": [
    "#hide\n",
    "# g = g[cols]"
   ]
  },
  {
   "cell_type": "code",
   "execution_count": 39,
   "id": "structured-mobile",
   "metadata": {
    "execution": {
     "iopub.execute_input": "2022-07-13T12:16:02.153066Z",
     "iopub.status.busy": "2022-07-13T12:16:02.152498Z",
     "iopub.status.idle": "2022-07-13T12:16:02.154887Z",
     "shell.execute_reply": "2022-07-13T12:16:02.154356Z"
    },
    "papermill": {
     "duration": 0.035365,
     "end_time": "2022-07-13T12:16:02.154979",
     "exception": false,
     "start_time": "2022-07-13T12:16:02.119614",
     "status": "completed"
    },
    "tags": []
   },
   "outputs": [],
   "source": [
    "# #hide\n",
    "# g = g[g.group.notna()]"
   ]
  },
  {
   "cell_type": "code",
   "execution_count": 40,
   "id": "determined-closing",
   "metadata": {
    "execution": {
     "iopub.execute_input": "2022-07-13T12:16:02.219228Z",
     "iopub.status.busy": "2022-07-13T12:16:02.218661Z",
     "iopub.status.idle": "2022-07-13T12:16:02.220909Z",
     "shell.execute_reply": "2022-07-13T12:16:02.220388Z"
    },
    "papermill": {
     "duration": 0.035379,
     "end_time": "2022-07-13T12:16:02.221000",
     "exception": false,
     "start_time": "2022-07-13T12:16:02.185621",
     "status": "completed"
    },
    "tags": []
   },
   "outputs": [],
   "source": [
    "# #hide\n",
    "# colors = dict(zip(\n",
    "#     [\"Oceania\", \"Europe\", \"Asia\", \"South America\", \"Middle East\", \"North America\", \"Africa\"],\n",
    "#     [\"#adb0ff\", \"#ffb3ff\", \"#90d595\", \"#e48381\", \"#aafbff\", \"#f7bb5f\", \"#eafb50\"]\n",
    "# ))\n",
    "# group_lk = g.set_index('name')['group'].to_dict()"
   ]
  },
  {
   "cell_type": "code",
   "execution_count": null,
   "id": "gross-drinking",
   "metadata": {
    "papermill": {
     "duration": 0.030362,
     "end_time": "2022-07-13T12:16:02.281700",
     "exception": false,
     "start_time": "2022-07-13T12:16:02.251338",
     "status": "completed"
    },
    "tags": []
   },
   "outputs": [],
   "source": []
  },
  {
   "cell_type": "code",
   "execution_count": 41,
   "id": "subject-macintosh",
   "metadata": {
    "execution": {
     "iopub.execute_input": "2022-07-13T12:16:02.346636Z",
     "iopub.status.busy": "2022-07-13T12:16:02.346033Z",
     "iopub.status.idle": "2022-07-13T12:16:02.348635Z",
     "shell.execute_reply": "2022-07-13T12:16:02.348101Z"
    },
    "papermill": {
     "duration": 0.036556,
     "end_time": "2022-07-13T12:16:02.348728",
     "exception": false,
     "start_time": "2022-07-13T12:16:02.312172",
     "status": "completed"
    },
    "tags": []
   },
   "outputs": [],
   "source": [
    "# #hide\n",
    "# fig, ax = plt.subplots(figsize=(15, 8))\n",
    "\n",
    "# def draw_barchart(current_day):\n",
    "#     dff = g[g['day'].eq(current_day)].sort_values(by='value', ascending=True).tail(10)\n",
    "#     ax.clear()\n",
    "#     ax.barh(dff['name'], dff['value'], color=[colors[group_lk[x]] for x in dff['name']])\n",
    "#     dx = dff['value'].max() / 200\n",
    "    \n",
    "#     for i, (value, name) in enumerate(zip(dff['value'], dff['name'])):\n",
    "#         ax.text(value-dx, i,     name,           size=14, weight=600, ha='right', va='bottom')\n",
    "#         ax.text(value-dx, i-.25, group_lk[name], size=10, color='#444444', ha='right', va='baseline')\n",
    "#         ax.text(value+dx, i,     f'{value:,.0f}',  size=14, ha='left',  va='center')\n",
    "#     ax.text(1, 0.4, current_day, transform=ax.transAxes, color='#777777', size=46, ha='right', weight=800)\n",
    "#     ax.text(0, 1.06, 'Population (thousands)', transform=ax.transAxes, size=12, color='#777777')\n",
    "#     ax.xaxis.set_major_formatter(ticker.StrMethodFormatter('{x:,.0f}'))\n",
    "#     ax.xaxis.set_ticks_position('top')\n",
    "#     ax.tick_params(axis='x', colors='#777777', labelsize=12)\n",
    "#     ax.set_yticks([])\n",
    "#     ax.margins(0, 0.01)\n",
    "#     ax.grid(which='major', axis='x', linestyle='-')\n",
    "#     ax.set_axisbelow(True)\n",
    "    \n",
    "#     ax.text(0, 1.15, 'Coronavirus',\n",
    "#             transform=ax.transAxes, size=24, weight=600, ha='left', va='top')\n",
    "# #     ax.text(1, 0, 'by @pratapvardhan; credit @jburnmurdoch', transform=ax.transAxes, color='#777777', ha='right',\n",
    "# #             bbox=dict(facecolor='white', alpha=0.8, edgecolor='white'))\n",
    "#     plt.box(False)"
   ]
  },
  {
   "cell_type": "code",
   "execution_count": 42,
   "id": "sexual-wages",
   "metadata": {
    "execution": {
     "iopub.execute_input": "2022-07-13T12:16:02.413243Z",
     "iopub.status.busy": "2022-07-13T12:16:02.412667Z",
     "iopub.status.idle": "2022-07-13T12:16:02.415071Z",
     "shell.execute_reply": "2022-07-13T12:16:02.414527Z"
    },
    "papermill": {
     "duration": 0.035928,
     "end_time": "2022-07-13T12:16:02.415165",
     "exception": false,
     "start_time": "2022-07-13T12:16:02.379237",
     "status": "completed"
    },
    "tags": []
   },
   "outputs": [],
   "source": [
    "# #hide_input\n",
    "# fig, ax = plt.subplots(figsize=(15, 8))\n",
    "# animator = animation.FuncAnimation(fig, draw_barchart, frames=range(g.day.values.min(), g.day.values.max()))\n",
    "# HTML(animator.to_jshtml())\n",
    "# # or use animator.to_html5_video() or animator.save() "
   ]
  },
  {
   "cell_type": "code",
   "execution_count": null,
   "id": "australian-container",
   "metadata": {
    "papermill": {
     "duration": 0.030636,
     "end_time": "2022-07-13T12:16:02.476766",
     "exception": false,
     "start_time": "2022-07-13T12:16:02.446130",
     "status": "completed"
    },
    "tags": []
   },
   "outputs": [],
   "source": []
  },
  {
   "cell_type": "code",
   "execution_count": null,
   "id": "mediterranean-pontiac",
   "metadata": {
    "papermill": {
     "duration": 0.030274,
     "end_time": "2022-07-13T12:16:02.537485",
     "exception": false,
     "start_time": "2022-07-13T12:16:02.507211",
     "status": "completed"
    },
    "tags": []
   },
   "outputs": [],
   "source": []
  },
  {
   "cell_type": "code",
   "execution_count": null,
   "id": "aging-legislature",
   "metadata": {
    "papermill": {
     "duration": 0.030313,
     "end_time": "2022-07-13T12:16:02.598509",
     "exception": false,
     "start_time": "2022-07-13T12:16:02.568196",
     "status": "completed"
    },
    "tags": []
   },
   "outputs": [],
   "source": []
  }
 ],
 "metadata": {
  "kernelspec": {
   "display_name": "Python 3",
   "language": "python",
   "name": "python3"
  },
  "language_info": {
   "codemirror_mode": {
    "name": "ipython",
    "version": 3
   },
   "file_extension": ".py",
   "mimetype": "text/x-python",
   "name": "python",
   "nbconvert_exporter": "python",
   "pygments_lexer": "ipython3",
   "version": "3.6.15"
  },
  "papermill": {
   "duration": 5.806305,
   "end_time": "2022-07-13T12:16:02.947032",
   "environment_variables": {},
   "exception": null,
   "input_path": "2020-03-21-covid19exp.ipynb",
   "output_path": "2020-03-21-covid19exp.ipynb",
   "parameters": {},
   "start_time": "2022-07-13T12:15:57.140727",
   "version": "2.0.0"
  }
 },
 "nbformat": 4,
 "nbformat_minor": 5
}