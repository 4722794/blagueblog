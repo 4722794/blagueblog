{
 "cells": [
  {
   "cell_type": "markdown",
   "id": "muslim-click",
   "metadata": {
    "papermill": {
     "duration": 0.03358,
     "end_time": "2022-05-28T12:14:28.530108",
     "exception": false,
     "start_time": "2022-05-28T12:14:28.496528",
     "status": "completed"
    },
    "tags": []
   },
   "source": [
    "# COVID-19 Case Race\n",
    "> A race chart to see rising cases around the world\n",
    "\n",
    "- author: Hargun Oberoi\n",
    "- image: images/covid-overview.png\n",
    "- hide: false\n",
    "- badges: false"
   ]
  },
  {
   "cell_type": "code",
   "execution_count": 1,
   "id": "proof-material",
   "metadata": {
    "execution": {
     "iopub.execute_input": "2022-05-28T12:14:28.601518Z",
     "iopub.status.busy": "2022-05-28T12:14:28.599906Z",
     "iopub.status.idle": "2022-05-28T12:14:28.905099Z",
     "shell.execute_reply": "2022-05-28T12:14:28.904595Z"
    },
    "papermill": {
     "duration": 0.342868,
     "end_time": "2022-05-28T12:14:28.905238",
     "exception": false,
     "start_time": "2022-05-28T12:14:28.562370",
     "status": "completed"
    },
    "tags": []
   },
   "outputs": [],
   "source": [
    "#hide\n",
    "import numpy as np\n",
    "import pandas as pd\n",
    "from jinja2 import Template\n",
    "from IPython.display import HTML"
   ]
  },
  {
   "cell_type": "code",
   "execution_count": 2,
   "id": "developed-terminology",
   "metadata": {
    "execution": {
     "iopub.execute_input": "2022-05-28T12:14:28.971593Z",
     "iopub.status.busy": "2022-05-28T12:14:28.971025Z",
     "iopub.status.idle": "2022-05-28T12:14:28.972938Z",
     "shell.execute_reply": "2022-05-28T12:14:28.973375Z"
    },
    "papermill": {
     "duration": 0.037325,
     "end_time": "2022-05-28T12:14:28.973489",
     "exception": false,
     "start_time": "2022-05-28T12:14:28.936164",
     "status": "completed"
    },
    "tags": []
   },
   "outputs": [],
   "source": [
    "#hide\n",
    "\n",
    "# FETCH\n",
    "base_url = 'https://raw.githubusercontent.com/pratapvardhan/notebooks/master/covid19/'\n",
    "paths = {\n",
    "    'mapping': base_url + 'mapping_countries.csv',\n",
    "    'overview': base_url + 'overview.tpl'\n",
    "}"
   ]
  },
  {
   "cell_type": "code",
   "execution_count": 3,
   "id": "dynamic-saver",
   "metadata": {
    "execution": {
     "iopub.execute_input": "2022-05-28T12:14:29.041904Z",
     "iopub.status.busy": "2022-05-28T12:14:29.041348Z",
     "iopub.status.idle": "2022-05-28T12:14:29.044734Z",
     "shell.execute_reply": "2022-05-28T12:14:29.044289Z"
    },
    "papermill": {
     "duration": 0.041478,
     "end_time": "2022-05-28T12:14:29.044829",
     "exception": false,
     "start_time": "2022-05-28T12:14:29.003351",
     "status": "completed"
    },
    "tags": []
   },
   "outputs": [
    {
     "data": {
      "text/plain": [
       "'https://raw.githubusercontent.com/pratapvardhan/notebooks/master/covid19/mapping_countries.csv'"
      ]
     },
     "execution_count": 3,
     "metadata": {},
     "output_type": "execute_result"
    }
   ],
   "source": [
    "#hide\n",
    "paths['mapping']"
   ]
  },
  {
   "cell_type": "code",
   "execution_count": 4,
   "id": "urban-software",
   "metadata": {
    "execution": {
     "iopub.execute_input": "2022-05-28T12:14:29.110151Z",
     "iopub.status.busy": "2022-05-28T12:14:29.109605Z",
     "iopub.status.idle": "2022-05-28T12:14:29.111849Z",
     "shell.execute_reply": "2022-05-28T12:14:29.112256Z"
    },
    "papermill": {
     "duration": 0.037089,
     "end_time": "2022-05-28T12:14:29.112365",
     "exception": false,
     "start_time": "2022-05-28T12:14:29.075276",
     "status": "completed"
    },
    "tags": []
   },
   "outputs": [],
   "source": [
    "#hide\n",
    "def get_mappings(url):\n",
    "    df = pd.read_csv(url)\n",
    "    return {\n",
    "        'df': df,\n",
    "        'replace.country': dict(df.dropna(subset=['Name']).set_index('Country')['Name']),\n",
    "        'map.continent': dict(df.set_index('Name')['Continent'])\n",
    "    }"
   ]
  },
  {
   "cell_type": "code",
   "execution_count": 5,
   "id": "intimate-machinery",
   "metadata": {
    "execution": {
     "iopub.execute_input": "2022-05-28T12:14:29.177545Z",
     "iopub.status.busy": "2022-05-28T12:14:29.176975Z",
     "iopub.status.idle": "2022-05-28T12:14:29.264096Z",
     "shell.execute_reply": "2022-05-28T12:14:29.263630Z"
    },
    "papermill": {
     "duration": 0.121603,
     "end_time": "2022-05-28T12:14:29.264198",
     "exception": false,
     "start_time": "2022-05-28T12:14:29.142595",
     "status": "completed"
    },
    "tags": []
   },
   "outputs": [],
   "source": [
    "#hide\n",
    "mapping = get_mappings(paths['mapping'])"
   ]
  },
  {
   "cell_type": "code",
   "execution_count": 6,
   "id": "certified-tactics",
   "metadata": {
    "execution": {
     "iopub.execute_input": "2022-05-28T12:14:29.329387Z",
     "iopub.status.busy": "2022-05-28T12:14:29.328815Z",
     "iopub.status.idle": "2022-05-28T12:14:29.331444Z",
     "shell.execute_reply": "2022-05-28T12:14:29.330994Z"
    },
    "papermill": {
     "duration": 0.03692,
     "end_time": "2022-05-28T12:14:29.331537",
     "exception": false,
     "start_time": "2022-05-28T12:14:29.294617",
     "status": "completed"
    },
    "tags": []
   },
   "outputs": [],
   "source": [
    "#hide\n",
    "def get_template(path):\n",
    "    from urllib.parse import urlparse\n",
    "    if bool(urlparse(path).netloc):\n",
    "        from urllib.request import urlopen\n",
    "        return urlopen(path).read().decode('utf8')\n",
    "    return open(path).read()"
   ]
  },
  {
   "cell_type": "code",
   "execution_count": 7,
   "id": "realistic-blast",
   "metadata": {
    "execution": {
     "iopub.execute_input": "2022-05-28T12:14:29.396170Z",
     "iopub.status.busy": "2022-05-28T12:14:29.395619Z",
     "iopub.status.idle": "2022-05-28T12:14:29.398272Z",
     "shell.execute_reply": "2022-05-28T12:14:29.397837Z"
    },
    "papermill": {
     "duration": 0.036581,
     "end_time": "2022-05-28T12:14:29.398363",
     "exception": false,
     "start_time": "2022-05-28T12:14:29.361782",
     "status": "completed"
    },
    "tags": []
   },
   "outputs": [],
   "source": [
    "#hide\n",
    "def get_frame(name):\n",
    "    url = (\n",
    "        'https://raw.githubusercontent.com/CSSEGISandData/COVID-19/master/csse_covid_19_data/'\n",
    "        f'csse_covid_19_time_series/time_series_covid19_{name}_global.csv')\n",
    "    df = pd.read_csv(url)\n",
    "    # rename countries\n",
    "    df['Country/Region'] = df['Country/Region'].replace(mapping['replace.country'])\n",
    "    return df"
   ]
  },
  {
   "cell_type": "code",
   "execution_count": 8,
   "id": "affiliated-characterization",
   "metadata": {
    "execution": {
     "iopub.execute_input": "2022-05-28T12:14:29.464115Z",
     "iopub.status.busy": "2022-05-28T12:14:29.463558Z",
     "iopub.status.idle": "2022-05-28T12:14:29.466197Z",
     "shell.execute_reply": "2022-05-28T12:14:29.465752Z"
    },
    "papermill": {
     "duration": 0.037532,
     "end_time": "2022-05-28T12:14:29.466290",
     "exception": false,
     "start_time": "2022-05-28T12:14:29.428758",
     "status": "completed"
    },
    "tags": []
   },
   "outputs": [],
   "source": [
    "#hide\n",
    "def get_dates(df):\n",
    "    dt_cols = df.columns[~df.columns.isin(['Province/State', 'Country/Region', 'Lat', 'Long'])]\n",
    "    LAST_DATE_I = -1\n",
    "    # sometimes last column may be empty, then go backwards\n",
    "    for i in range(-1, -len(dt_cols), -1):\n",
    "        if not df[dt_cols[i]].fillna(0).eq(0).all():\n",
    "            LAST_DATE_I = i\n",
    "            break\n",
    "    return LAST_DATE_I, dt_cols"
   ]
  },
  {
   "cell_type": "code",
   "execution_count": 9,
   "id": "recent-optimization",
   "metadata": {
    "execution": {
     "iopub.execute_input": "2022-05-28T12:14:29.531648Z",
     "iopub.status.busy": "2022-05-28T12:14:29.531098Z",
     "iopub.status.idle": "2022-05-28T12:14:30.198538Z",
     "shell.execute_reply": "2022-05-28T12:14:30.198982Z"
    },
    "papermill": {
     "duration": 0.702353,
     "end_time": "2022-05-28T12:14:30.199119",
     "exception": false,
     "start_time": "2022-05-28T12:14:29.496766",
     "status": "completed"
    },
    "tags": []
   },
   "outputs": [],
   "source": [
    "#hide\n",
    "COL_REGION = 'Country/Region'\n",
    "# Confirmed, Recovered, Deaths\n",
    "df = get_frame('confirmed')\n",
    "# dft_: timeseries, dfc_: today country agg\n",
    "dft_cases = df\n",
    "dft_deaths = get_frame('deaths')\n",
    "dft_recovered = get_frame('recovered')\n",
    "LAST_DATE_I, dt_cols = get_dates(df)"
   ]
  },
  {
   "cell_type": "code",
   "execution_count": 10,
   "id": "absolute-copper",
   "metadata": {
    "execution": {
     "iopub.execute_input": "2022-05-28T12:14:30.265006Z",
     "iopub.status.busy": "2022-05-28T12:14:30.264452Z",
     "iopub.status.idle": "2022-05-28T12:14:30.266829Z",
     "shell.execute_reply": "2022-05-28T12:14:30.266393Z"
    },
    "papermill": {
     "duration": 0.03728,
     "end_time": "2022-05-28T12:14:30.266930",
     "exception": false,
     "start_time": "2022-05-28T12:14:30.229650",
     "status": "completed"
    },
    "tags": []
   },
   "outputs": [],
   "source": [
    "#hide\n",
    "LAST_DATE_I, dt_cols = get_dates(df)\n",
    "dt_today =dt_cols[LAST_DATE_I]\n",
    "# dt_5day = dt_cols[LAST_DATE_I - 5]\n",
    "dt_yday = dt_cols[LAST_DATE_I - 1]"
   ]
  },
  {
   "cell_type": "code",
   "execution_count": 11,
   "id": "restricted-sheriff",
   "metadata": {
    "execution": {
     "iopub.execute_input": "2022-05-28T12:14:30.333713Z",
     "iopub.status.busy": "2022-05-28T12:14:30.333134Z",
     "iopub.status.idle": "2022-05-28T12:14:30.338655Z",
     "shell.execute_reply": "2022-05-28T12:14:30.339096Z"
    },
    "papermill": {
     "duration": 0.042055,
     "end_time": "2022-05-28T12:14:30.339206",
     "exception": false,
     "start_time": "2022-05-28T12:14:30.297151",
     "status": "completed"
    },
    "tags": []
   },
   "outputs": [],
   "source": [
    "#hide\n",
    "dfc_cases = dft_cases.groupby(COL_REGION)[dt_today].sum()\n",
    "dfc_deaths = dft_deaths.groupby(COL_REGION)[dt_today].sum()\n",
    "# dfp_cases = dft_cases.groupby(COL_REGION)[dt_5day].sum()\n",
    "# dfp_deaths = dft_deaths.groupby(COL_REGION)[dt_5day].sum()\n",
    "dfp_cases = dft_cases.groupby(COL_REGION)[dt_yday].sum()\n",
    "dfp_deaths = dft_deaths.groupby(COL_REGION)[dt_yday].sum()"
   ]
  },
  {
   "cell_type": "code",
   "execution_count": 12,
   "id": "deluxe-hepatitis",
   "metadata": {
    "execution": {
     "iopub.execute_input": "2022-05-28T12:14:30.405135Z",
     "iopub.status.busy": "2022-05-28T12:14:30.404565Z",
     "iopub.status.idle": "2022-05-28T12:14:30.408681Z",
     "shell.execute_reply": "2022-05-28T12:14:30.409141Z"
    },
    "papermill": {
     "duration": 0.039677,
     "end_time": "2022-05-28T12:14:30.409253",
     "exception": false,
     "start_time": "2022-05-28T12:14:30.369576",
     "status": "completed"
    },
    "tags": []
   },
   "outputs": [],
   "source": [
    "#hide\n",
    "df_table = (pd.DataFrame(dict(Cases = dfc_cases, Deaths = dfc_deaths, PCases = dfp_cases, PDeaths = dfp_deaths))\n",
    "            .sort_values(by = ['Cases','Deaths'], ascending = [False, False])\n",
    "            .reset_index())"
   ]
  },
  {
   "cell_type": "code",
   "execution_count": 13,
   "id": "educational-chancellor",
   "metadata": {
    "execution": {
     "iopub.execute_input": "2022-05-28T12:14:30.482344Z",
     "iopub.status.busy": "2022-05-28T12:14:30.481791Z",
     "iopub.status.idle": "2022-05-28T12:14:30.493970Z",
     "shell.execute_reply": "2022-05-28T12:14:30.493421Z"
    },
    "papermill": {
     "duration": 0.054634,
     "end_time": "2022-05-28T12:14:30.494069",
     "exception": false,
     "start_time": "2022-05-28T12:14:30.439435",
     "status": "completed"
    },
    "tags": []
   },
   "outputs": [
    {
     "data": {
      "text/html": [
       "<div>\n",
       "<style scoped>\n",
       "    .dataframe tbody tr th:only-of-type {\n",
       "        vertical-align: middle;\n",
       "    }\n",
       "\n",
       "    .dataframe tbody tr th {\n",
       "        vertical-align: top;\n",
       "    }\n",
       "\n",
       "    .dataframe thead th {\n",
       "        text-align: right;\n",
       "    }\n",
       "</style>\n",
       "<table border=\"1\" class=\"dataframe\">\n",
       "  <thead>\n",
       "    <tr style=\"text-align: right;\">\n",
       "      <th></th>\n",
       "      <th>Country/Region</th>\n",
       "      <th>Cases</th>\n",
       "      <th>Deaths</th>\n",
       "      <th>PCases</th>\n",
       "      <th>PDeaths</th>\n",
       "      <th>Cases (+)</th>\n",
       "      <th>Deaths (+)</th>\n",
       "      <th>Fatality Rate</th>\n",
       "      <th>Continent</th>\n",
       "    </tr>\n",
       "  </thead>\n",
       "  <tbody>\n",
       "    <tr>\n",
       "      <th>0</th>\n",
       "      <td>US</td>\n",
       "      <td>83969313</td>\n",
       "      <td>1004693</td>\n",
       "      <td>83837114</td>\n",
       "      <td>1004121</td>\n",
       "      <td>132199</td>\n",
       "      <td>572</td>\n",
       "      <td>1.20</td>\n",
       "      <td>North America</td>\n",
       "    </tr>\n",
       "    <tr>\n",
       "      <th>1</th>\n",
       "      <td>India</td>\n",
       "      <td>43150215</td>\n",
       "      <td>524572</td>\n",
       "      <td>43147530</td>\n",
       "      <td>524539</td>\n",
       "      <td>2685</td>\n",
       "      <td>33</td>\n",
       "      <td>1.22</td>\n",
       "      <td>Asia</td>\n",
       "    </tr>\n",
       "    <tr>\n",
       "      <th>2</th>\n",
       "      <td>Brazil</td>\n",
       "      <td>30921145</td>\n",
       "      <td>666319</td>\n",
       "      <td>30880512</td>\n",
       "      <td>666180</td>\n",
       "      <td>40633</td>\n",
       "      <td>139</td>\n",
       "      <td>2.15</td>\n",
       "      <td>South America</td>\n",
       "    </tr>\n",
       "    <tr>\n",
       "      <th>3</th>\n",
       "      <td>France</td>\n",
       "      <td>29631816</td>\n",
       "      <td>149168</td>\n",
       "      <td>29626992</td>\n",
       "      <td>149123</td>\n",
       "      <td>4824</td>\n",
       "      <td>45</td>\n",
       "      <td>0.50</td>\n",
       "      <td>Europe</td>\n",
       "    </tr>\n",
       "    <tr>\n",
       "      <th>4</th>\n",
       "      <td>Germany</td>\n",
       "      <td>26240639</td>\n",
       "      <td>138854</td>\n",
       "      <td>26200663</td>\n",
       "      <td>138781</td>\n",
       "      <td>39976</td>\n",
       "      <td>73</td>\n",
       "      <td>0.53</td>\n",
       "      <td>Europe</td>\n",
       "    </tr>\n",
       "  </tbody>\n",
       "</table>\n",
       "</div>"
      ],
      "text/plain": [
       "  Country/Region     Cases   Deaths    PCases  PDeaths  Cases (+)  Deaths (+)  \\\n",
       "0             US  83969313  1004693  83837114  1004121     132199         572   \n",
       "1          India  43150215   524572  43147530   524539       2685          33   \n",
       "2         Brazil  30921145   666319  30880512   666180      40633         139   \n",
       "3         France  29631816   149168  29626992   149123       4824          45   \n",
       "4        Germany  26240639   138854  26200663   138781      39976          73   \n",
       "\n",
       "   Fatality Rate      Continent  \n",
       "0           1.20  North America  \n",
       "1           1.22           Asia  \n",
       "2           2.15  South America  \n",
       "3           0.50         Europe  \n",
       "4           0.53         Europe  "
      ]
     },
     "execution_count": 13,
     "metadata": {},
     "output_type": "execute_result"
    }
   ],
   "source": [
    "#hide\n",
    "for c in 'Cases, Deaths'.split(', '):\n",
    "    df_table[f'{c} (+)'] = (df_table[c] - df_table[f'P{c}']).clip(0)\n",
    "    #Clip ça veut dire, les chiffres negatif sont interdit\n",
    "df_table['Fatality Rate'] = (100* df_table['Deaths']/ df_table['Cases']).round(2)\n",
    "df_table['Continent'] = df_table['Country/Region'].map(mapping['map.continent'])\n",
    "df_table.head(5)"
   ]
  },
  {
   "cell_type": "code",
   "execution_count": 14,
   "id": "aboriginal-bulgaria",
   "metadata": {
    "execution": {
     "iopub.execute_input": "2022-05-28T12:14:30.561482Z",
     "iopub.status.busy": "2022-05-28T12:14:30.560914Z",
     "iopub.status.idle": "2022-05-28T12:14:30.563065Z",
     "shell.execute_reply": "2022-05-28T12:14:30.563577Z"
    },
    "papermill": {
     "duration": 0.038082,
     "end_time": "2022-05-28T12:14:30.563685",
     "exception": false,
     "start_time": "2022-05-28T12:14:30.525603",
     "status": "completed"
    },
    "tags": []
   },
   "outputs": [],
   "source": [
    "#hide\n",
    "#delete problematic countries from table\n",
    "df_table = df_table[~df_table['Country/Region'].isin(['Cape Verde', 'Cruise Ship', 'Kosovo'])]"
   ]
  },
  {
   "cell_type": "code",
   "execution_count": 15,
   "id": "fantastic-effect",
   "metadata": {
    "execution": {
     "iopub.execute_input": "2022-05-28T12:14:30.631426Z",
     "iopub.status.busy": "2022-05-28T12:14:30.630882Z",
     "iopub.status.idle": "2022-05-28T12:14:30.648561Z",
     "shell.execute_reply": "2022-05-28T12:14:30.648032Z"
    },
    "papermill": {
     "duration": 0.054391,
     "end_time": "2022-05-28T12:14:30.648662",
     "exception": false,
     "start_time": "2022-05-28T12:14:30.594271",
     "status": "completed"
    },
    "tags": []
   },
   "outputs": [
    {
     "data": {
      "text/html": [
       "<div>\n",
       "<style scoped>\n",
       "    .dataframe tbody tr th:only-of-type {\n",
       "        vertical-align: middle;\n",
       "    }\n",
       "\n",
       "    .dataframe tbody tr th {\n",
       "        vertical-align: top;\n",
       "    }\n",
       "\n",
       "    .dataframe thead th {\n",
       "        text-align: right;\n",
       "    }\n",
       "</style>\n",
       "<table border=\"1\" class=\"dataframe\">\n",
       "  <thead>\n",
       "    <tr style=\"text-align: right;\">\n",
       "      <th></th>\n",
       "      <th>Country/Region</th>\n",
       "      <th>Cases</th>\n",
       "      <th>Deaths</th>\n",
       "      <th>PCases</th>\n",
       "      <th>PDeaths</th>\n",
       "      <th>Cases (+)</th>\n",
       "      <th>Deaths (+)</th>\n",
       "      <th>Fatality Rate</th>\n",
       "      <th>Continent</th>\n",
       "    </tr>\n",
       "  </thead>\n",
       "  <tbody>\n",
       "    <tr>\n",
       "      <th>0</th>\n",
       "      <td>US</td>\n",
       "      <td>83969313</td>\n",
       "      <td>1004693</td>\n",
       "      <td>83837114</td>\n",
       "      <td>1004121</td>\n",
       "      <td>132199</td>\n",
       "      <td>572</td>\n",
       "      <td>1.2</td>\n",
       "      <td>North America</td>\n",
       "    </tr>\n",
       "    <tr>\n",
       "      <th>1</th>\n",
       "      <td>India</td>\n",
       "      <td>43150215</td>\n",
       "      <td>524572</td>\n",
       "      <td>43147530</td>\n",
       "      <td>524539</td>\n",
       "      <td>2685</td>\n",
       "      <td>33</td>\n",
       "      <td>1.2</td>\n",
       "      <td>Asia</td>\n",
       "    </tr>\n",
       "    <tr>\n",
       "      <th>2</th>\n",
       "      <td>Brazil</td>\n",
       "      <td>30921145</td>\n",
       "      <td>666319</td>\n",
       "      <td>30880512</td>\n",
       "      <td>666180</td>\n",
       "      <td>40633</td>\n",
       "      <td>139</td>\n",
       "      <td>2.2</td>\n",
       "      <td>South America</td>\n",
       "    </tr>\n",
       "    <tr>\n",
       "      <th>3</th>\n",
       "      <td>France</td>\n",
       "      <td>29631816</td>\n",
       "      <td>149168</td>\n",
       "      <td>29626992</td>\n",
       "      <td>149123</td>\n",
       "      <td>4824</td>\n",
       "      <td>45</td>\n",
       "      <td>0.5</td>\n",
       "      <td>Europe</td>\n",
       "    </tr>\n",
       "    <tr>\n",
       "      <th>4</th>\n",
       "      <td>Germany</td>\n",
       "      <td>26240639</td>\n",
       "      <td>138854</td>\n",
       "      <td>26200663</td>\n",
       "      <td>138781</td>\n",
       "      <td>39976</td>\n",
       "      <td>73</td>\n",
       "      <td>0.5</td>\n",
       "      <td>Europe</td>\n",
       "    </tr>\n",
       "  </tbody>\n",
       "</table>\n",
       "</div>"
      ],
      "text/plain": [
       "  Country/Region     Cases   Deaths    PCases  PDeaths  Cases (+)  Deaths (+)  \\\n",
       "0             US  83969313  1004693  83837114  1004121     132199         572   \n",
       "1          India  43150215   524572  43147530   524539       2685          33   \n",
       "2         Brazil  30921145   666319  30880512   666180      40633         139   \n",
       "3         France  29631816   149168  29626992   149123       4824          45   \n",
       "4        Germany  26240639   138854  26200663   138781      39976          73   \n",
       "\n",
       "   Fatality Rate      Continent  \n",
       "0            1.2  North America  \n",
       "1            1.2           Asia  \n",
       "2            2.2  South America  \n",
       "3            0.5         Europe  \n",
       "4            0.5         Europe  "
      ]
     },
     "execution_count": 15,
     "metadata": {},
     "output_type": "execute_result"
    }
   ],
   "source": [
    "#hide\n",
    "df_table = (pd.DataFrame(dict(Cases=dfc_cases, Deaths=dfc_deaths, PCases=dfp_cases, PDeaths=dfp_deaths))\n",
    "             .sort_values(by=['Cases', 'Deaths'], ascending=[False, False])\n",
    "             .reset_index())\n",
    "df_table.rename(columns={'index': 'Country/Region'}, inplace=True)\n",
    "for c in 'Cases, Deaths'.split(', '):\n",
    "    df_table[f'{c} (+)'] = (df_table[c] - df_table[f'P{c}']).clip(0)  # DATA BUG\n",
    "df_table['Fatality Rate'] = (100 * df_table['Deaths'] / df_table['Cases']).round(1)\n",
    "df_table['Continent'] = df_table['Country/Region'].map(mapping['map.continent'])\n",
    "df_table.head(5)"
   ]
  },
  {
   "cell_type": "code",
   "execution_count": 16,
   "id": "fewer-occasion",
   "metadata": {
    "execution": {
     "iopub.execute_input": "2022-05-28T12:14:30.717373Z",
     "iopub.status.busy": "2022-05-28T12:14:30.716796Z",
     "iopub.status.idle": "2022-05-28T12:14:30.718978Z",
     "shell.execute_reply": "2022-05-28T12:14:30.719396Z"
    },
    "papermill": {
     "duration": 0.039177,
     "end_time": "2022-05-28T12:14:30.719508",
     "exception": false,
     "start_time": "2022-05-28T12:14:30.680331",
     "status": "completed"
    },
    "tags": []
   },
   "outputs": [],
   "source": [
    "#hide\n",
    "#delete problematic countries from table\n",
    "df_table = df_table[~df_table['Country/Region'].isin(['Cape Verde', 'Cruise Ship', 'Kosovo'])]"
   ]
  },
  {
   "cell_type": "code",
   "execution_count": 17,
   "id": "related-center",
   "metadata": {
    "execution": {
     "iopub.execute_input": "2022-05-28T12:14:30.793669Z",
     "iopub.status.busy": "2022-05-28T12:14:30.793073Z",
     "iopub.status.idle": "2022-05-28T12:14:30.801055Z",
     "shell.execute_reply": "2022-05-28T12:14:30.800608Z"
    },
    "papermill": {
     "duration": 0.050323,
     "end_time": "2022-05-28T12:14:30.801164",
     "exception": false,
     "start_time": "2022-05-28T12:14:30.750841",
     "status": "completed"
    },
    "tags": []
   },
   "outputs": [],
   "source": [
    "#hide\n",
    "metrics = [df_table.columns[index] for index in [1,2,5,6]]\n",
    "# s_china = df_table[df_table['Country/Region'].eq('China')][metrics].sum().add_prefix('China ')\n",
    "s_us = df_table[df_table['Country/Region'].eq('US')][metrics].sum().add_prefix('US ')\n",
    "s_eu = df_table[df_table['Continent'].eq('Europe')][metrics].sum().add_prefix('EU ')\n",
    "s_ind = df_table[df_table['Country/Region'].eq('India')][metrics].sum().add_prefix('India ')\n",
    "summary = {'updated': pd.to_datetime(dt_today), 'since': pd.to_datetime(dt_yday)}\n",
    "summary = {'updated': pd.to_datetime(dt_today), 'since': pd.to_datetime(dt_yday)}\n",
    "summary = {**summary, **df_table[metrics].sum(), **s_ind, **s_us, **s_eu}"
   ]
  },
  {
   "cell_type": "code",
   "execution_count": 18,
   "id": "engaging-syndrome",
   "metadata": {
    "execution": {
     "iopub.execute_input": "2022-05-28T12:14:30.869344Z",
     "iopub.status.busy": "2022-05-28T12:14:30.868764Z",
     "iopub.status.idle": "2022-05-28T12:14:30.884962Z",
     "shell.execute_reply": "2022-05-28T12:14:30.885403Z"
    },
    "papermill": {
     "duration": 0.052682,
     "end_time": "2022-05-28T12:14:30.885521",
     "exception": false,
     "start_time": "2022-05-28T12:14:30.832839",
     "status": "completed"
    },
    "tags": []
   },
   "outputs": [],
   "source": [
    "#hide\n",
    "dft_ct_new_cases = dft_cases.groupby(COL_REGION)[dt_cols].sum().diff(axis=1).fillna(0).astype(int)"
   ]
  },
  {
   "cell_type": "code",
   "execution_count": 19,
   "id": "neutral-assignment",
   "metadata": {
    "execution": {
     "iopub.execute_input": "2022-05-28T12:14:30.953862Z",
     "iopub.status.busy": "2022-05-28T12:14:30.953308Z",
     "iopub.status.idle": "2022-05-28T12:14:30.955467Z",
     "shell.execute_reply": "2022-05-28T12:14:30.955030Z"
    },
    "papermill": {
     "duration": 0.03878,
     "end_time": "2022-05-28T12:14:30.955564",
     "exception": false,
     "start_time": "2022-05-28T12:14:30.916784",
     "status": "completed"
    },
    "tags": []
   },
   "outputs": [],
   "source": [
    "#hide\n",
    "everydaycases = dft_ct_new_cases.cumsum(axis=1)"
   ]
  },
  {
   "cell_type": "code",
   "execution_count": 20,
   "id": "parliamentary-calgary",
   "metadata": {
    "execution": {
     "iopub.execute_input": "2022-05-28T12:14:31.022090Z",
     "iopub.status.busy": "2022-05-28T12:14:31.021545Z",
     "iopub.status.idle": "2022-05-28T12:14:31.575864Z",
     "shell.execute_reply": "2022-05-28T12:14:31.575366Z"
    },
    "papermill": {
     "duration": 0.589075,
     "end_time": "2022-05-28T12:14:31.575970",
     "exception": false,
     "start_time": "2022-05-28T12:14:30.986895",
     "status": "completed"
    },
    "tags": []
   },
   "outputs": [],
   "source": [
    "#hide\n",
    "import pandas as pd\n",
    "import matplotlib.pyplot as plt\n",
    "import matplotlib.ticker as ticker\n",
    "import matplotlib.animation as animation\n",
    "from IPython.display import HTML"
   ]
  },
  {
   "cell_type": "code",
   "execution_count": 21,
   "id": "lasting-extraction",
   "metadata": {
    "execution": {
     "iopub.execute_input": "2022-05-28T12:14:31.644218Z",
     "iopub.status.busy": "2022-05-28T12:14:31.643660Z",
     "iopub.status.idle": "2022-05-28T12:14:31.649951Z",
     "shell.execute_reply": "2022-05-28T12:14:31.649499Z"
    },
    "papermill": {
     "duration": 0.042549,
     "end_time": "2022-05-28T12:14:31.650046",
     "exception": false,
     "start_time": "2022-05-28T12:14:31.607497",
     "status": "completed"
    },
    "tags": []
   },
   "outputs": [],
   "source": [
    "#hide\n",
    "t = everydaycases.stack()"
   ]
  },
  {
   "cell_type": "code",
   "execution_count": 22,
   "id": "premier-sleeve",
   "metadata": {
    "execution": {
     "iopub.execute_input": "2022-05-28T12:14:31.716055Z",
     "iopub.status.busy": "2022-05-28T12:14:31.715509Z",
     "iopub.status.idle": "2022-05-28T12:14:31.725294Z",
     "shell.execute_reply": "2022-05-28T12:14:31.725740Z"
    },
    "papermill": {
     "duration": 0.044487,
     "end_time": "2022-05-28T12:14:31.725847",
     "exception": false,
     "start_time": "2022-05-28T12:14:31.681360",
     "status": "completed"
    },
    "tags": []
   },
   "outputs": [],
   "source": [
    "#hide\n",
    "g = t.reset_index(['Country/Region'])"
   ]
  },
  {
   "cell_type": "code",
   "execution_count": 23,
   "id": "distributed-pittsburgh",
   "metadata": {
    "execution": {
     "iopub.execute_input": "2022-05-28T12:14:31.791456Z",
     "iopub.status.busy": "2022-05-28T12:14:31.790783Z",
     "iopub.status.idle": "2022-05-28T12:14:31.793109Z",
     "shell.execute_reply": "2022-05-28T12:14:31.792595Z"
    },
    "papermill": {
     "duration": 0.036385,
     "end_time": "2022-05-28T12:14:31.793224",
     "exception": false,
     "start_time": "2022-05-28T12:14:31.756839",
     "status": "completed"
    },
    "tags": []
   },
   "outputs": [],
   "source": [
    "#hide\n",
    "g.index.name = 'date'"
   ]
  },
  {
   "cell_type": "code",
   "execution_count": 24,
   "id": "naked-donor",
   "metadata": {
    "execution": {
     "iopub.execute_input": "2022-05-28T12:14:31.859393Z",
     "iopub.status.busy": "2022-05-28T12:14:31.858840Z",
     "iopub.status.idle": "2022-05-28T12:14:31.862735Z",
     "shell.execute_reply": "2022-05-28T12:14:31.862268Z"
    },
    "papermill": {
     "duration": 0.038115,
     "end_time": "2022-05-28T12:14:31.862830",
     "exception": false,
     "start_time": "2022-05-28T12:14:31.824715",
     "status": "completed"
    },
    "tags": []
   },
   "outputs": [],
   "source": [
    "# #hide\n",
    "# g = g.reset_index(['date'])"
   ]
  },
  {
   "cell_type": "code",
   "execution_count": 25,
   "id": "incomplete-mustang",
   "metadata": {
    "execution": {
     "iopub.execute_input": "2022-05-28T12:14:31.928481Z",
     "iopub.status.busy": "2022-05-28T12:14:31.927925Z",
     "iopub.status.idle": "2022-05-28T12:14:31.930376Z",
     "shell.execute_reply": "2022-05-28T12:14:31.929955Z"
    },
    "papermill": {
     "duration": 0.036076,
     "end_time": "2022-05-28T12:14:31.930472",
     "exception": false,
     "start_time": "2022-05-28T12:14:31.894396",
     "status": "completed"
    },
    "tags": []
   },
   "outputs": [],
   "source": [
    "#hide\n",
    "# g.head()"
   ]
  },
  {
   "cell_type": "code",
   "execution_count": 26,
   "id": "specific-kruger",
   "metadata": {
    "execution": {
     "iopub.execute_input": "2022-05-28T12:14:31.995916Z",
     "iopub.status.busy": "2022-05-28T12:14:31.995375Z",
     "iopub.status.idle": "2022-05-28T12:14:31.997657Z",
     "shell.execute_reply": "2022-05-28T12:14:31.997152Z"
    },
    "papermill": {
     "duration": 0.036021,
     "end_time": "2022-05-28T12:14:31.997753",
     "exception": false,
     "start_time": "2022-05-28T12:14:31.961732",
     "status": "completed"
    },
    "tags": []
   },
   "outputs": [],
   "source": [
    "#hide\n",
    "# g.columns = ['date','country','cases']"
   ]
  },
  {
   "cell_type": "code",
   "execution_count": 27,
   "id": "tender-conversion",
   "metadata": {
    "execution": {
     "iopub.execute_input": "2022-05-28T12:14:32.063170Z",
     "iopub.status.busy": "2022-05-28T12:14:32.062611Z",
     "iopub.status.idle": "2022-05-28T12:14:32.065975Z",
     "shell.execute_reply": "2022-05-28T12:14:32.066375Z"
    },
    "papermill": {
     "duration": 0.037666,
     "end_time": "2022-05-28T12:14:32.066487",
     "exception": false,
     "start_time": "2022-05-28T12:14:32.028821",
     "status": "completed"
    },
    "tags": []
   },
   "outputs": [],
   "source": [
    "#hide\n",
    "# g['continent'] = g.country"
   ]
  },
  {
   "cell_type": "code",
   "execution_count": 28,
   "id": "substantial-wilderness",
   "metadata": {
    "execution": {
     "iopub.execute_input": "2022-05-28T12:14:32.133053Z",
     "iopub.status.busy": "2022-05-28T12:14:32.132507Z",
     "iopub.status.idle": "2022-05-28T12:14:32.134578Z",
     "shell.execute_reply": "2022-05-28T12:14:32.134983Z"
    },
    "papermill": {
     "duration": 0.037023,
     "end_time": "2022-05-28T12:14:32.135100",
     "exception": false,
     "start_time": "2022-05-28T12:14:32.098077",
     "status": "completed"
    },
    "tags": []
   },
   "outputs": [],
   "source": [
    "#hide\n",
    "# cols = list(g.columns.values)"
   ]
  },
  {
   "cell_type": "code",
   "execution_count": 29,
   "id": "solved-farming",
   "metadata": {
    "execution": {
     "iopub.execute_input": "2022-05-28T12:14:32.200683Z",
     "iopub.status.busy": "2022-05-28T12:14:32.200127Z",
     "iopub.status.idle": "2022-05-28T12:14:32.202489Z",
     "shell.execute_reply": "2022-05-28T12:14:32.201964Z"
    },
    "papermill": {
     "duration": 0.036309,
     "end_time": "2022-05-28T12:14:32.202584",
     "exception": false,
     "start_time": "2022-05-28T12:14:32.166275",
     "status": "completed"
    },
    "tags": []
   },
   "outputs": [],
   "source": [
    "#hide\n",
    "# cols.insert(0, cols.pop())"
   ]
  },
  {
   "cell_type": "code",
   "execution_count": 30,
   "id": "executed-adoption",
   "metadata": {
    "execution": {
     "iopub.execute_input": "2022-05-28T12:14:32.268708Z",
     "iopub.status.busy": "2022-05-28T12:14:32.268152Z",
     "iopub.status.idle": "2022-05-28T12:14:32.270597Z",
     "shell.execute_reply": "2022-05-28T12:14:32.270157Z"
    },
    "papermill": {
     "duration": 0.036686,
     "end_time": "2022-05-28T12:14:32.270691",
     "exception": false,
     "start_time": "2022-05-28T12:14:32.234005",
     "status": "completed"
    },
    "tags": []
   },
   "outputs": [],
   "source": [
    "#hide\n",
    "# g = g[cols]"
   ]
  },
  {
   "cell_type": "code",
   "execution_count": 31,
   "id": "subject-dublin",
   "metadata": {
    "execution": {
     "iopub.execute_input": "2022-05-28T12:14:32.336434Z",
     "iopub.status.busy": "2022-05-28T12:14:32.335876Z",
     "iopub.status.idle": "2022-05-28T12:14:32.338257Z",
     "shell.execute_reply": "2022-05-28T12:14:32.337821Z"
    },
    "papermill": {
     "duration": 0.036435,
     "end_time": "2022-05-28T12:14:32.338352",
     "exception": false,
     "start_time": "2022-05-28T12:14:32.301917",
     "status": "completed"
    },
    "tags": []
   },
   "outputs": [],
   "source": [
    "#hide\n",
    "# g['continent'] = g['continent'].map(mapping['map.continent'])"
   ]
  },
  {
   "cell_type": "code",
   "execution_count": 32,
   "id": "freelance-scout",
   "metadata": {
    "execution": {
     "iopub.execute_input": "2022-05-28T12:14:32.403993Z",
     "iopub.status.busy": "2022-05-28T12:14:32.403435Z",
     "iopub.status.idle": "2022-05-28T12:14:32.405781Z",
     "shell.execute_reply": "2022-05-28T12:14:32.405341Z"
    },
    "papermill": {
     "duration": 0.036193,
     "end_time": "2022-05-28T12:14:32.405875",
     "exception": false,
     "start_time": "2022-05-28T12:14:32.369682",
     "status": "completed"
    },
    "tags": []
   },
   "outputs": [],
   "source": [
    "#hide\n",
    "# g.head()"
   ]
  },
  {
   "cell_type": "code",
   "execution_count": 33,
   "id": "limited-engine",
   "metadata": {
    "execution": {
     "iopub.execute_input": "2022-05-28T12:14:32.471123Z",
     "iopub.status.busy": "2022-05-28T12:14:32.470578Z",
     "iopub.status.idle": "2022-05-28T12:14:32.472964Z",
     "shell.execute_reply": "2022-05-28T12:14:32.472527Z"
    },
    "papermill": {
     "duration": 0.036094,
     "end_time": "2022-05-28T12:14:32.473056",
     "exception": false,
     "start_time": "2022-05-28T12:14:32.436962",
     "status": "completed"
    },
    "tags": []
   },
   "outputs": [],
   "source": [
    "# hide\n",
    "# g['date'] = g['date'].astype('datetime64[ns]')"
   ]
  },
  {
   "cell_type": "code",
   "execution_count": 34,
   "id": "sophisticated-supervisor",
   "metadata": {
    "execution": {
     "iopub.execute_input": "2022-05-28T12:14:32.538734Z",
     "iopub.status.busy": "2022-05-28T12:14:32.538179Z",
     "iopub.status.idle": "2022-05-28T12:14:32.540484Z",
     "shell.execute_reply": "2022-05-28T12:14:32.539966Z"
    },
    "papermill": {
     "duration": 0.036206,
     "end_time": "2022-05-28T12:14:32.540575",
     "exception": false,
     "start_time": "2022-05-28T12:14:32.504369",
     "status": "completed"
    },
    "tags": []
   },
   "outputs": [],
   "source": [
    "#hide\n",
    "# g['date'] = g.date.dt.dayofyear"
   ]
  },
  {
   "cell_type": "code",
   "execution_count": 35,
   "id": "inside-dubai",
   "metadata": {
    "execution": {
     "iopub.execute_input": "2022-05-28T12:14:32.605953Z",
     "iopub.status.busy": "2022-05-28T12:14:32.605391Z",
     "iopub.status.idle": "2022-05-28T12:14:32.607740Z",
     "shell.execute_reply": "2022-05-28T12:14:32.607308Z"
    },
    "papermill": {
     "duration": 0.036202,
     "end_time": "2022-05-28T12:14:32.607831",
     "exception": false,
     "start_time": "2022-05-28T12:14:32.571629",
     "status": "completed"
    },
    "tags": []
   },
   "outputs": [],
   "source": [
    "#hide\n",
    "# g = g.rename(columns= {'continent':'group','country':'name','cases':'value'})"
   ]
  },
  {
   "cell_type": "code",
   "execution_count": 36,
   "id": "fleet-motorcycle",
   "metadata": {
    "execution": {
     "iopub.execute_input": "2022-05-28T12:14:32.673787Z",
     "iopub.status.busy": "2022-05-28T12:14:32.673226Z",
     "iopub.status.idle": "2022-05-28T12:14:32.675525Z",
     "shell.execute_reply": "2022-05-28T12:14:32.675088Z"
    },
    "papermill": {
     "duration": 0.036499,
     "end_time": "2022-05-28T12:14:32.675620",
     "exception": false,
     "start_time": "2022-05-28T12:14:32.639121",
     "status": "completed"
    },
    "tags": []
   },
   "outputs": [],
   "source": [
    "#hide\n",
    "# cols = ['name','group','day','value']"
   ]
  },
  {
   "cell_type": "code",
   "execution_count": 37,
   "id": "continued-sleeping",
   "metadata": {
    "execution": {
     "iopub.execute_input": "2022-05-28T12:14:32.741428Z",
     "iopub.status.busy": "2022-05-28T12:14:32.740836Z",
     "iopub.status.idle": "2022-05-28T12:14:32.743183Z",
     "shell.execute_reply": "2022-05-28T12:14:32.742658Z"
    },
    "papermill": {
     "duration": 0.036401,
     "end_time": "2022-05-28T12:14:32.743277",
     "exception": false,
     "start_time": "2022-05-28T12:14:32.706876",
     "status": "completed"
    },
    "tags": []
   },
   "outputs": [],
   "source": [
    "#hide\n",
    "# g.rename(columns= {'date':'day'},inplace = True)"
   ]
  },
  {
   "cell_type": "code",
   "execution_count": 38,
   "id": "major-fight",
   "metadata": {
    "execution": {
     "iopub.execute_input": "2022-05-28T12:14:32.809054Z",
     "iopub.status.busy": "2022-05-28T12:14:32.808498Z",
     "iopub.status.idle": "2022-05-28T12:14:32.810928Z",
     "shell.execute_reply": "2022-05-28T12:14:32.810473Z"
    },
    "papermill": {
     "duration": 0.036409,
     "end_time": "2022-05-28T12:14:32.811026",
     "exception": false,
     "start_time": "2022-05-28T12:14:32.774617",
     "status": "completed"
    },
    "tags": []
   },
   "outputs": [],
   "source": [
    "#hide\n",
    "# g = g[cols]"
   ]
  },
  {
   "cell_type": "code",
   "execution_count": 39,
   "id": "structured-mobile",
   "metadata": {
    "execution": {
     "iopub.execute_input": "2022-05-28T12:14:32.876960Z",
     "iopub.status.busy": "2022-05-28T12:14:32.876400Z",
     "iopub.status.idle": "2022-05-28T12:14:32.878362Z",
     "shell.execute_reply": "2022-05-28T12:14:32.878777Z"
    },
    "papermill": {
     "duration": 0.036497,
     "end_time": "2022-05-28T12:14:32.878885",
     "exception": false,
     "start_time": "2022-05-28T12:14:32.842388",
     "status": "completed"
    },
    "tags": []
   },
   "outputs": [],
   "source": [
    "# #hide\n",
    "# g = g[g.group.notna()]"
   ]
  },
  {
   "cell_type": "code",
   "execution_count": 40,
   "id": "determined-closing",
   "metadata": {
    "execution": {
     "iopub.execute_input": "2022-05-28T12:14:32.945186Z",
     "iopub.status.busy": "2022-05-28T12:14:32.944585Z",
     "iopub.status.idle": "2022-05-28T12:14:32.947144Z",
     "shell.execute_reply": "2022-05-28T12:14:32.946705Z"
    },
    "papermill": {
     "duration": 0.036509,
     "end_time": "2022-05-28T12:14:32.947236",
     "exception": false,
     "start_time": "2022-05-28T12:14:32.910727",
     "status": "completed"
    },
    "tags": []
   },
   "outputs": [],
   "source": [
    "# #hide\n",
    "# colors = dict(zip(\n",
    "#     [\"Oceania\", \"Europe\", \"Asia\", \"South America\", \"Middle East\", \"North America\", \"Africa\"],\n",
    "#     [\"#adb0ff\", \"#ffb3ff\", \"#90d595\", \"#e48381\", \"#aafbff\", \"#f7bb5f\", \"#eafb50\"]\n",
    "# ))\n",
    "# group_lk = g.set_index('name')['group'].to_dict()"
   ]
  },
  {
   "cell_type": "code",
   "execution_count": null,
   "id": "gross-drinking",
   "metadata": {
    "papermill": {
     "duration": 0.031106,
     "end_time": "2022-05-28T12:14:33.009560",
     "exception": false,
     "start_time": "2022-05-28T12:14:32.978454",
     "status": "completed"
    },
    "tags": []
   },
   "outputs": [],
   "source": []
  },
  {
   "cell_type": "code",
   "execution_count": 41,
   "id": "subject-macintosh",
   "metadata": {
    "execution": {
     "iopub.execute_input": "2022-05-28T12:14:33.076282Z",
     "iopub.status.busy": "2022-05-28T12:14:33.075712Z",
     "iopub.status.idle": "2022-05-28T12:14:33.078116Z",
     "shell.execute_reply": "2022-05-28T12:14:33.077672Z"
    },
    "papermill": {
     "duration": 0.037368,
     "end_time": "2022-05-28T12:14:33.078212",
     "exception": false,
     "start_time": "2022-05-28T12:14:33.040844",
     "status": "completed"
    },
    "tags": []
   },
   "outputs": [],
   "source": [
    "# #hide\n",
    "# fig, ax = plt.subplots(figsize=(15, 8))\n",
    "\n",
    "# def draw_barchart(current_day):\n",
    "#     dff = g[g['day'].eq(current_day)].sort_values(by='value', ascending=True).tail(10)\n",
    "#     ax.clear()\n",
    "#     ax.barh(dff['name'], dff['value'], color=[colors[group_lk[x]] for x in dff['name']])\n",
    "#     dx = dff['value'].max() / 200\n",
    "    \n",
    "#     for i, (value, name) in enumerate(zip(dff['value'], dff['name'])):\n",
    "#         ax.text(value-dx, i,     name,           size=14, weight=600, ha='right', va='bottom')\n",
    "#         ax.text(value-dx, i-.25, group_lk[name], size=10, color='#444444', ha='right', va='baseline')\n",
    "#         ax.text(value+dx, i,     f'{value:,.0f}',  size=14, ha='left',  va='center')\n",
    "#     ax.text(1, 0.4, current_day, transform=ax.transAxes, color='#777777', size=46, ha='right', weight=800)\n",
    "#     ax.text(0, 1.06, 'Population (thousands)', transform=ax.transAxes, size=12, color='#777777')\n",
    "#     ax.xaxis.set_major_formatter(ticker.StrMethodFormatter('{x:,.0f}'))\n",
    "#     ax.xaxis.set_ticks_position('top')\n",
    "#     ax.tick_params(axis='x', colors='#777777', labelsize=12)\n",
    "#     ax.set_yticks([])\n",
    "#     ax.margins(0, 0.01)\n",
    "#     ax.grid(which='major', axis='x', linestyle='-')\n",
    "#     ax.set_axisbelow(True)\n",
    "    \n",
    "#     ax.text(0, 1.15, 'Coronavirus',\n",
    "#             transform=ax.transAxes, size=24, weight=600, ha='left', va='top')\n",
    "# #     ax.text(1, 0, 'by @pratapvardhan; credit @jburnmurdoch', transform=ax.transAxes, color='#777777', ha='right',\n",
    "# #             bbox=dict(facecolor='white', alpha=0.8, edgecolor='white'))\n",
    "#     plt.box(False)"
   ]
  },
  {
   "cell_type": "code",
   "execution_count": 42,
   "id": "sexual-wages",
   "metadata": {
    "execution": {
     "iopub.execute_input": "2022-05-28T12:14:33.143762Z",
     "iopub.status.busy": "2022-05-28T12:14:33.143204Z",
     "iopub.status.idle": "2022-05-28T12:14:33.145530Z",
     "shell.execute_reply": "2022-05-28T12:14:33.144995Z"
    },
    "papermill": {
     "duration": 0.036171,
     "end_time": "2022-05-28T12:14:33.145622",
     "exception": false,
     "start_time": "2022-05-28T12:14:33.109451",
     "status": "completed"
    },
    "tags": []
   },
   "outputs": [],
   "source": [
    "# #hide_input\n",
    "# fig, ax = plt.subplots(figsize=(15, 8))\n",
    "# animator = animation.FuncAnimation(fig, draw_barchart, frames=range(g.day.values.min(), g.day.values.max()))\n",
    "# HTML(animator.to_jshtml())\n",
    "# # or use animator.to_html5_video() or animator.save() "
   ]
  },
  {
   "cell_type": "code",
   "execution_count": null,
   "id": "australian-container",
   "metadata": {
    "papermill": {
     "duration": 0.031136,
     "end_time": "2022-05-28T12:14:33.208108",
     "exception": false,
     "start_time": "2022-05-28T12:14:33.176972",
     "status": "completed"
    },
    "tags": []
   },
   "outputs": [],
   "source": []
  },
  {
   "cell_type": "code",
   "execution_count": null,
   "id": "mediterranean-pontiac",
   "metadata": {
    "papermill": {
     "duration": 0.031143,
     "end_time": "2022-05-28T12:14:33.270356",
     "exception": false,
     "start_time": "2022-05-28T12:14:33.239213",
     "status": "completed"
    },
    "tags": []
   },
   "outputs": [],
   "source": []
  },
  {
   "cell_type": "code",
   "execution_count": null,
   "id": "aging-legislature",
   "metadata": {
    "papermill": {
     "duration": 0.03144,
     "end_time": "2022-05-28T12:14:33.333214",
     "exception": false,
     "start_time": "2022-05-28T12:14:33.301774",
     "status": "completed"
    },
    "tags": []
   },
   "outputs": [],
   "source": []
  }
 ],
 "metadata": {
  "kernelspec": {
   "display_name": "Python 3",
   "language": "python",
   "name": "python3"
  },
  "language_info": {
   "codemirror_mode": {
    "name": "ipython",
    "version": 3
   },
   "file_extension": ".py",
   "mimetype": "text/x-python",
   "name": "python",
   "nbconvert_exporter": "python",
   "pygments_lexer": "ipython3",
   "version": "3.6.15"
  },
  "papermill": {
   "duration": 6.105921,
   "end_time": "2022-05-28T12:14:33.682913",
   "environment_variables": {},
   "exception": null,
   "input_path": "2020-03-21-covid19exp.ipynb",
   "output_path": "2020-03-21-covid19exp.ipynb",
   "parameters": {},
   "start_time": "2022-05-28T12:14:27.576992",
   "version": "2.0.0"
  }
 },
 "nbformat": 4,
 "nbformat_minor": 5
}