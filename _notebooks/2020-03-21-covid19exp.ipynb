{
 "cells": [
  {
   "cell_type": "markdown",
   "id": "muslim-click",
   "metadata": {
    "papermill": {
     "duration": 0.038344,
     "end_time": "2022-03-01T00:33:13.115084",
     "exception": false,
     "start_time": "2022-03-01T00:33:13.076740",
     "status": "completed"
    },
    "tags": []
   },
   "source": [
    "# COVID-19 Case Race\n",
    "> A race chart to see rising cases around the world\n",
    "\n",
    "- author: Hargun Oberoi\n",
    "- image: images/covid-overview.png\n",
    "- hide: false\n",
    "- badges: false"
   ]
  },
  {
   "cell_type": "code",
   "execution_count": 1,
   "id": "proof-material",
   "metadata": {
    "execution": {
     "iopub.execute_input": "2022-03-01T00:33:13.194029Z",
     "iopub.status.busy": "2022-03-01T00:33:13.193454Z",
     "iopub.status.idle": "2022-03-01T00:33:13.557636Z",
     "shell.execute_reply": "2022-03-01T00:33:13.556913Z"
    },
    "papermill": {
     "duration": 0.408472,
     "end_time": "2022-03-01T00:33:13.557832",
     "exception": false,
     "start_time": "2022-03-01T00:33:13.149360",
     "status": "completed"
    },
    "tags": []
   },
   "outputs": [],
   "source": [
    "#hide\n",
    "import numpy as np\n",
    "import pandas as pd\n",
    "from jinja2 import Template\n",
    "from IPython.display import HTML"
   ]
  },
  {
   "cell_type": "code",
   "execution_count": 2,
   "id": "developed-terminology",
   "metadata": {
    "execution": {
     "iopub.execute_input": "2022-03-01T00:33:13.632176Z",
     "iopub.status.busy": "2022-03-01T00:33:13.631094Z",
     "iopub.status.idle": "2022-03-01T00:33:13.634240Z",
     "shell.execute_reply": "2022-03-01T00:33:13.635075Z"
    },
    "papermill": {
     "duration": 0.043305,
     "end_time": "2022-03-01T00:33:13.635316",
     "exception": false,
     "start_time": "2022-03-01T00:33:13.592011",
     "status": "completed"
    },
    "tags": []
   },
   "outputs": [],
   "source": [
    "#hide\n",
    "\n",
    "# FETCH\n",
    "base_url = 'https://raw.githubusercontent.com/pratapvardhan/notebooks/master/covid19/'\n",
    "paths = {\n",
    "    'mapping': base_url + 'mapping_countries.csv',\n",
    "    'overview': base_url + 'overview.tpl'\n",
    "}"
   ]
  },
  {
   "cell_type": "code",
   "execution_count": 3,
   "id": "dynamic-saver",
   "metadata": {
    "execution": {
     "iopub.execute_input": "2022-03-01T00:33:13.708463Z",
     "iopub.status.busy": "2022-03-01T00:33:13.707868Z",
     "iopub.status.idle": "2022-03-01T00:33:13.716322Z",
     "shell.execute_reply": "2022-03-01T00:33:13.715820Z"
    },
    "papermill": {
     "duration": 0.048601,
     "end_time": "2022-03-01T00:33:13.716441",
     "exception": false,
     "start_time": "2022-03-01T00:33:13.667840",
     "status": "completed"
    },
    "tags": []
   },
   "outputs": [
    {
     "data": {
      "text/plain": [
       "'https://raw.githubusercontent.com/pratapvardhan/notebooks/master/covid19/mapping_countries.csv'"
      ]
     },
     "execution_count": 3,
     "metadata": {},
     "output_type": "execute_result"
    }
   ],
   "source": [
    "#hide\n",
    "paths['mapping']"
   ]
  },
  {
   "cell_type": "code",
   "execution_count": 4,
   "id": "urban-software",
   "metadata": {
    "execution": {
     "iopub.execute_input": "2022-03-01T00:33:13.786963Z",
     "iopub.status.busy": "2022-03-01T00:33:13.786369Z",
     "iopub.status.idle": "2022-03-01T00:33:13.789753Z",
     "shell.execute_reply": "2022-03-01T00:33:13.788882Z"
    },
    "papermill": {
     "duration": 0.041603,
     "end_time": "2022-03-01T00:33:13.789949",
     "exception": false,
     "start_time": "2022-03-01T00:33:13.748346",
     "status": "completed"
    },
    "tags": []
   },
   "outputs": [],
   "source": [
    "#hide\n",
    "def get_mappings(url):\n",
    "    df = pd.read_csv(url)\n",
    "    return {\n",
    "        'df': df,\n",
    "        'replace.country': dict(df.dropna(subset=['Name']).set_index('Country')['Name']),\n",
    "        'map.continent': dict(df.set_index('Name')['Continent'])\n",
    "    }"
   ]
  },
  {
   "cell_type": "code",
   "execution_count": 5,
   "id": "intimate-machinery",
   "metadata": {
    "execution": {
     "iopub.execute_input": "2022-03-01T00:33:13.867261Z",
     "iopub.status.busy": "2022-03-01T00:33:13.866631Z",
     "iopub.status.idle": "2022-03-01T00:33:13.904705Z",
     "shell.execute_reply": "2022-03-01T00:33:13.903826Z"
    },
    "papermill": {
     "duration": 0.078607,
     "end_time": "2022-03-01T00:33:13.904901",
     "exception": false,
     "start_time": "2022-03-01T00:33:13.826294",
     "status": "completed"
    },
    "tags": []
   },
   "outputs": [],
   "source": [
    "#hide\n",
    "mapping = get_mappings(paths['mapping'])"
   ]
  },
  {
   "cell_type": "code",
   "execution_count": 6,
   "id": "certified-tactics",
   "metadata": {
    "execution": {
     "iopub.execute_input": "2022-03-01T00:33:13.978534Z",
     "iopub.status.busy": "2022-03-01T00:33:13.977994Z",
     "iopub.status.idle": "2022-03-01T00:33:13.980437Z",
     "shell.execute_reply": "2022-03-01T00:33:13.980930Z"
    },
    "papermill": {
     "duration": 0.04086,
     "end_time": "2022-03-01T00:33:13.981064",
     "exception": false,
     "start_time": "2022-03-01T00:33:13.940204",
     "status": "completed"
    },
    "tags": []
   },
   "outputs": [],
   "source": [
    "#hide\n",
    "def get_template(path):\n",
    "    from urllib.parse import urlparse\n",
    "    if bool(urlparse(path).netloc):\n",
    "        from urllib.request import urlopen\n",
    "        return urlopen(path).read().decode('utf8')\n",
    "    return open(path).read()"
   ]
  },
  {
   "cell_type": "code",
   "execution_count": 7,
   "id": "realistic-blast",
   "metadata": {
    "execution": {
     "iopub.execute_input": "2022-03-01T00:33:14.053490Z",
     "iopub.status.busy": "2022-03-01T00:33:14.052887Z",
     "iopub.status.idle": "2022-03-01T00:33:14.055267Z",
     "shell.execute_reply": "2022-03-01T00:33:14.054739Z"
    },
    "papermill": {
     "duration": 0.040839,
     "end_time": "2022-03-01T00:33:14.055391",
     "exception": false,
     "start_time": "2022-03-01T00:33:14.014552",
     "status": "completed"
    },
    "tags": []
   },
   "outputs": [],
   "source": [
    "#hide\n",
    "def get_frame(name):\n",
    "    url = (\n",
    "        'https://raw.githubusercontent.com/CSSEGISandData/COVID-19/master/csse_covid_19_data/'\n",
    "        f'csse_covid_19_time_series/time_series_covid19_{name}_global.csv')\n",
    "    df = pd.read_csv(url)\n",
    "    # rename countries\n",
    "    df['Country/Region'] = df['Country/Region'].replace(mapping['replace.country'])\n",
    "    return df"
   ]
  },
  {
   "cell_type": "code",
   "execution_count": 8,
   "id": "affiliated-characterization",
   "metadata": {
    "execution": {
     "iopub.execute_input": "2022-03-01T00:33:14.130064Z",
     "iopub.status.busy": "2022-03-01T00:33:14.129490Z",
     "iopub.status.idle": "2022-03-01T00:33:14.132730Z",
     "shell.execute_reply": "2022-03-01T00:33:14.132221Z"
    },
    "papermill": {
     "duration": 0.044434,
     "end_time": "2022-03-01T00:33:14.132852",
     "exception": false,
     "start_time": "2022-03-01T00:33:14.088418",
     "status": "completed"
    },
    "tags": []
   },
   "outputs": [],
   "source": [
    "#hide\n",
    "def get_dates(df):\n",
    "    dt_cols = df.columns[~df.columns.isin(['Province/State', 'Country/Region', 'Lat', 'Long'])]\n",
    "    LAST_DATE_I = -1\n",
    "    # sometimes last column may be empty, then go backwards\n",
    "    for i in range(-1, -len(dt_cols), -1):\n",
    "        if not df[dt_cols[i]].fillna(0).eq(0).all():\n",
    "            LAST_DATE_I = i\n",
    "            break\n",
    "    return LAST_DATE_I, dt_cols"
   ]
  },
  {
   "cell_type": "code",
   "execution_count": 9,
   "id": "recent-optimization",
   "metadata": {
    "execution": {
     "iopub.execute_input": "2022-03-01T00:33:14.204797Z",
     "iopub.status.busy": "2022-03-01T00:33:14.203824Z",
     "iopub.status.idle": "2022-03-01T00:33:14.570898Z",
     "shell.execute_reply": "2022-03-01T00:33:14.570339Z"
    },
    "papermill": {
     "duration": 0.405459,
     "end_time": "2022-03-01T00:33:14.571055",
     "exception": false,
     "start_time": "2022-03-01T00:33:14.165596",
     "status": "completed"
    },
    "tags": []
   },
   "outputs": [],
   "source": [
    "#hide\n",
    "COL_REGION = 'Country/Region'\n",
    "# Confirmed, Recovered, Deaths\n",
    "df = get_frame('confirmed')\n",
    "# dft_: timeseries, dfc_: today country agg\n",
    "dft_cases = df\n",
    "dft_deaths = get_frame('deaths')\n",
    "dft_recovered = get_frame('recovered')\n",
    "LAST_DATE_I, dt_cols = get_dates(df)"
   ]
  },
  {
   "cell_type": "code",
   "execution_count": 10,
   "id": "absolute-copper",
   "metadata": {
    "execution": {
     "iopub.execute_input": "2022-03-01T00:33:14.646240Z",
     "iopub.status.busy": "2022-03-01T00:33:14.645633Z",
     "iopub.status.idle": "2022-03-01T00:33:14.649820Z",
     "shell.execute_reply": "2022-03-01T00:33:14.649335Z"
    },
    "papermill": {
     "duration": 0.043521,
     "end_time": "2022-03-01T00:33:14.649936",
     "exception": false,
     "start_time": "2022-03-01T00:33:14.606415",
     "status": "completed"
    },
    "tags": []
   },
   "outputs": [],
   "source": [
    "#hide\n",
    "LAST_DATE_I, dt_cols = get_dates(df)\n",
    "dt_today =dt_cols[LAST_DATE_I]\n",
    "# dt_5day = dt_cols[LAST_DATE_I - 5]\n",
    "dt_yday = dt_cols[LAST_DATE_I - 1]"
   ]
  },
  {
   "cell_type": "code",
   "execution_count": 11,
   "id": "restricted-sheriff",
   "metadata": {
    "execution": {
     "iopub.execute_input": "2022-03-01T00:33:14.724172Z",
     "iopub.status.busy": "2022-03-01T00:33:14.723511Z",
     "iopub.status.idle": "2022-03-01T00:33:14.731645Z",
     "shell.execute_reply": "2022-03-01T00:33:14.731164Z"
    },
    "papermill": {
     "duration": 0.04902,
     "end_time": "2022-03-01T00:33:14.731766",
     "exception": false,
     "start_time": "2022-03-01T00:33:14.682746",
     "status": "completed"
    },
    "tags": []
   },
   "outputs": [],
   "source": [
    "#hide\n",
    "dfc_cases = dft_cases.groupby(COL_REGION)[dt_today].sum()\n",
    "dfc_deaths = dft_deaths.groupby(COL_REGION)[dt_today].sum()\n",
    "# dfp_cases = dft_cases.groupby(COL_REGION)[dt_5day].sum()\n",
    "# dfp_deaths = dft_deaths.groupby(COL_REGION)[dt_5day].sum()\n",
    "dfp_cases = dft_cases.groupby(COL_REGION)[dt_yday].sum()\n",
    "dfp_deaths = dft_deaths.groupby(COL_REGION)[dt_yday].sum()"
   ]
  },
  {
   "cell_type": "code",
   "execution_count": 12,
   "id": "deluxe-hepatitis",
   "metadata": {
    "execution": {
     "iopub.execute_input": "2022-03-01T00:33:14.807046Z",
     "iopub.status.busy": "2022-03-01T00:33:14.806422Z",
     "iopub.status.idle": "2022-03-01T00:33:14.811323Z",
     "shell.execute_reply": "2022-03-01T00:33:14.810795Z"
    },
    "papermill": {
     "duration": 0.045932,
     "end_time": "2022-03-01T00:33:14.811448",
     "exception": false,
     "start_time": "2022-03-01T00:33:14.765516",
     "status": "completed"
    },
    "tags": []
   },
   "outputs": [],
   "source": [
    "#hide\n",
    "df_table = (pd.DataFrame(dict(Cases = dfc_cases, Deaths = dfc_deaths, PCases = dfp_cases, PDeaths = dfp_deaths))\n",
    "            .sort_values(by = ['Cases','Deaths'], ascending = [False, False])\n",
    "            .reset_index())"
   ]
  },
  {
   "cell_type": "code",
   "execution_count": 13,
   "id": "educational-chancellor",
   "metadata": {
    "execution": {
     "iopub.execute_input": "2022-03-01T00:33:14.898816Z",
     "iopub.status.busy": "2022-03-01T00:33:14.886818Z",
     "iopub.status.idle": "2022-03-01T00:33:14.907877Z",
     "shell.execute_reply": "2022-03-01T00:33:14.907376Z"
    },
    "papermill": {
     "duration": 0.063394,
     "end_time": "2022-03-01T00:33:14.907988",
     "exception": false,
     "start_time": "2022-03-01T00:33:14.844594",
     "status": "completed"
    },
    "tags": []
   },
   "outputs": [
    {
     "data": {
      "text/html": [
       "<div>\n",
       "<style scoped>\n",
       "    .dataframe tbody tr th:only-of-type {\n",
       "        vertical-align: middle;\n",
       "    }\n",
       "\n",
       "    .dataframe tbody tr th {\n",
       "        vertical-align: top;\n",
       "    }\n",
       "\n",
       "    .dataframe thead th {\n",
       "        text-align: right;\n",
       "    }\n",
       "</style>\n",
       "<table border=\"1\" class=\"dataframe\">\n",
       "  <thead>\n",
       "    <tr style=\"text-align: right;\">\n",
       "      <th></th>\n",
       "      <th>Country/Region</th>\n",
       "      <th>Cases</th>\n",
       "      <th>Deaths</th>\n",
       "      <th>PCases</th>\n",
       "      <th>PDeaths</th>\n",
       "      <th>Cases (+)</th>\n",
       "      <th>Deaths (+)</th>\n",
       "      <th>Fatality Rate</th>\n",
       "      <th>Continent</th>\n",
       "    </tr>\n",
       "  </thead>\n",
       "  <tbody>\n",
       "    <tr>\n",
       "      <th>0</th>\n",
       "      <td>US</td>\n",
       "      <td>78939203</td>\n",
       "      <td>948397</td>\n",
       "      <td>78931739</td>\n",
       "      <td>948215</td>\n",
       "      <td>7464</td>\n",
       "      <td>182</td>\n",
       "      <td>1.20</td>\n",
       "      <td>North America</td>\n",
       "    </tr>\n",
       "    <tr>\n",
       "      <th>1</th>\n",
       "      <td>India</td>\n",
       "      <td>42924130</td>\n",
       "      <td>513843</td>\n",
       "      <td>42916117</td>\n",
       "      <td>513724</td>\n",
       "      <td>8013</td>\n",
       "      <td>119</td>\n",
       "      <td>1.20</td>\n",
       "      <td>Asia</td>\n",
       "    </tr>\n",
       "    <tr>\n",
       "      <th>2</th>\n",
       "      <td>Brazil</td>\n",
       "      <td>28776794</td>\n",
       "      <td>649437</td>\n",
       "      <td>28749552</td>\n",
       "      <td>649184</td>\n",
       "      <td>27242</td>\n",
       "      <td>253</td>\n",
       "      <td>2.26</td>\n",
       "      <td>South America</td>\n",
       "    </tr>\n",
       "    <tr>\n",
       "      <th>3</th>\n",
       "      <td>France</td>\n",
       "      <td>22862157</td>\n",
       "      <td>139149</td>\n",
       "      <td>22819557</td>\n",
       "      <td>139073</td>\n",
       "      <td>42600</td>\n",
       "      <td>76</td>\n",
       "      <td>0.61</td>\n",
       "      <td>Europe</td>\n",
       "    </tr>\n",
       "    <tr>\n",
       "      <th>4</th>\n",
       "      <td>United Kingdom</td>\n",
       "      <td>18938546</td>\n",
       "      <td>161797</td>\n",
       "      <td>18938546</td>\n",
       "      <td>161797</td>\n",
       "      <td>0</td>\n",
       "      <td>0</td>\n",
       "      <td>0.85</td>\n",
       "      <td>Europe</td>\n",
       "    </tr>\n",
       "  </tbody>\n",
       "</table>\n",
       "</div>"
      ],
      "text/plain": [
       "   Country/Region     Cases  Deaths    PCases  PDeaths  Cases (+)  Deaths (+)  \\\n",
       "0              US  78939203  948397  78931739   948215       7464         182   \n",
       "1           India  42924130  513843  42916117   513724       8013         119   \n",
       "2          Brazil  28776794  649437  28749552   649184      27242         253   \n",
       "3          France  22862157  139149  22819557   139073      42600          76   \n",
       "4  United Kingdom  18938546  161797  18938546   161797          0           0   \n",
       "\n",
       "   Fatality Rate      Continent  \n",
       "0           1.20  North America  \n",
       "1           1.20           Asia  \n",
       "2           2.26  South America  \n",
       "3           0.61         Europe  \n",
       "4           0.85         Europe  "
      ]
     },
     "execution_count": 13,
     "metadata": {},
     "output_type": "execute_result"
    }
   ],
   "source": [
    "#hide\n",
    "for c in 'Cases, Deaths'.split(', '):\n",
    "    df_table[f'{c} (+)'] = (df_table[c] - df_table[f'P{c}']).clip(0)\n",
    "    #Clip ça veut dire, les chiffres negatif sont interdit\n",
    "df_table['Fatality Rate'] = (100* df_table['Deaths']/ df_table['Cases']).round(2)\n",
    "df_table['Continent'] = df_table['Country/Region'].map(mapping['map.continent'])\n",
    "df_table.head(5)"
   ]
  },
  {
   "cell_type": "code",
   "execution_count": 14,
   "id": "aboriginal-bulgaria",
   "metadata": {
    "execution": {
     "iopub.execute_input": "2022-03-01T00:33:14.983515Z",
     "iopub.status.busy": "2022-03-01T00:33:14.982893Z",
     "iopub.status.idle": "2022-03-01T00:33:14.985808Z",
     "shell.execute_reply": "2022-03-01T00:33:14.986372Z"
    },
    "papermill": {
     "duration": 0.044613,
     "end_time": "2022-03-01T00:33:14.986506",
     "exception": false,
     "start_time": "2022-03-01T00:33:14.941893",
     "status": "completed"
    },
    "tags": []
   },
   "outputs": [],
   "source": [
    "#hide\n",
    "#delete problematic countries from table\n",
    "df_table = df_table[~df_table['Country/Region'].isin(['Cape Verde', 'Cruise Ship', 'Kosovo'])]"
   ]
  },
  {
   "cell_type": "code",
   "execution_count": 15,
   "id": "fantastic-effect",
   "metadata": {
    "execution": {
     "iopub.execute_input": "2022-03-01T00:33:15.064789Z",
     "iopub.status.busy": "2022-03-01T00:33:15.064194Z",
     "iopub.status.idle": "2022-03-01T00:33:15.084021Z",
     "shell.execute_reply": "2022-03-01T00:33:15.083544Z"
    },
    "papermill": {
     "duration": 0.063807,
     "end_time": "2022-03-01T00:33:15.084144",
     "exception": false,
     "start_time": "2022-03-01T00:33:15.020337",
     "status": "completed"
    },
    "tags": []
   },
   "outputs": [
    {
     "data": {
      "text/html": [
       "<div>\n",
       "<style scoped>\n",
       "    .dataframe tbody tr th:only-of-type {\n",
       "        vertical-align: middle;\n",
       "    }\n",
       "\n",
       "    .dataframe tbody tr th {\n",
       "        vertical-align: top;\n",
       "    }\n",
       "\n",
       "    .dataframe thead th {\n",
       "        text-align: right;\n",
       "    }\n",
       "</style>\n",
       "<table border=\"1\" class=\"dataframe\">\n",
       "  <thead>\n",
       "    <tr style=\"text-align: right;\">\n",
       "      <th></th>\n",
       "      <th>Country/Region</th>\n",
       "      <th>Cases</th>\n",
       "      <th>Deaths</th>\n",
       "      <th>PCases</th>\n",
       "      <th>PDeaths</th>\n",
       "      <th>Cases (+)</th>\n",
       "      <th>Deaths (+)</th>\n",
       "      <th>Fatality Rate</th>\n",
       "      <th>Continent</th>\n",
       "    </tr>\n",
       "  </thead>\n",
       "  <tbody>\n",
       "    <tr>\n",
       "      <th>0</th>\n",
       "      <td>US</td>\n",
       "      <td>78939203</td>\n",
       "      <td>948397</td>\n",
       "      <td>78931739</td>\n",
       "      <td>948215</td>\n",
       "      <td>7464</td>\n",
       "      <td>182</td>\n",
       "      <td>1.2</td>\n",
       "      <td>North America</td>\n",
       "    </tr>\n",
       "    <tr>\n",
       "      <th>1</th>\n",
       "      <td>India</td>\n",
       "      <td>42924130</td>\n",
       "      <td>513843</td>\n",
       "      <td>42916117</td>\n",
       "      <td>513724</td>\n",
       "      <td>8013</td>\n",
       "      <td>119</td>\n",
       "      <td>1.2</td>\n",
       "      <td>Asia</td>\n",
       "    </tr>\n",
       "    <tr>\n",
       "      <th>2</th>\n",
       "      <td>Brazil</td>\n",
       "      <td>28776794</td>\n",
       "      <td>649437</td>\n",
       "      <td>28749552</td>\n",
       "      <td>649184</td>\n",
       "      <td>27242</td>\n",
       "      <td>253</td>\n",
       "      <td>2.3</td>\n",
       "      <td>South America</td>\n",
       "    </tr>\n",
       "    <tr>\n",
       "      <th>3</th>\n",
       "      <td>France</td>\n",
       "      <td>22862157</td>\n",
       "      <td>139149</td>\n",
       "      <td>22819557</td>\n",
       "      <td>139073</td>\n",
       "      <td>42600</td>\n",
       "      <td>76</td>\n",
       "      <td>0.6</td>\n",
       "      <td>Europe</td>\n",
       "    </tr>\n",
       "    <tr>\n",
       "      <th>4</th>\n",
       "      <td>United Kingdom</td>\n",
       "      <td>18938546</td>\n",
       "      <td>161797</td>\n",
       "      <td>18938546</td>\n",
       "      <td>161797</td>\n",
       "      <td>0</td>\n",
       "      <td>0</td>\n",
       "      <td>0.9</td>\n",
       "      <td>Europe</td>\n",
       "    </tr>\n",
       "  </tbody>\n",
       "</table>\n",
       "</div>"
      ],
      "text/plain": [
       "   Country/Region     Cases  Deaths    PCases  PDeaths  Cases (+)  Deaths (+)  \\\n",
       "0              US  78939203  948397  78931739   948215       7464         182   \n",
       "1           India  42924130  513843  42916117   513724       8013         119   \n",
       "2          Brazil  28776794  649437  28749552   649184      27242         253   \n",
       "3          France  22862157  139149  22819557   139073      42600          76   \n",
       "4  United Kingdom  18938546  161797  18938546   161797          0           0   \n",
       "\n",
       "   Fatality Rate      Continent  \n",
       "0            1.2  North America  \n",
       "1            1.2           Asia  \n",
       "2            2.3  South America  \n",
       "3            0.6         Europe  \n",
       "4            0.9         Europe  "
      ]
     },
     "execution_count": 15,
     "metadata": {},
     "output_type": "execute_result"
    }
   ],
   "source": [
    "#hide\n",
    "df_table = (pd.DataFrame(dict(Cases=dfc_cases, Deaths=dfc_deaths, PCases=dfp_cases, PDeaths=dfp_deaths))\n",
    "             .sort_values(by=['Cases', 'Deaths'], ascending=[False, False])\n",
    "             .reset_index())\n",
    "df_table.rename(columns={'index': 'Country/Region'}, inplace=True)\n",
    "for c in 'Cases, Deaths'.split(', '):\n",
    "    df_table[f'{c} (+)'] = (df_table[c] - df_table[f'P{c}']).clip(0)  # DATA BUG\n",
    "df_table['Fatality Rate'] = (100 * df_table['Deaths'] / df_table['Cases']).round(1)\n",
    "df_table['Continent'] = df_table['Country/Region'].map(mapping['map.continent'])\n",
    "df_table.head(5)"
   ]
  },
  {
   "cell_type": "code",
   "execution_count": 16,
   "id": "fewer-occasion",
   "metadata": {
    "execution": {
     "iopub.execute_input": "2022-03-01T00:33:15.160356Z",
     "iopub.status.busy": "2022-03-01T00:33:15.159750Z",
     "iopub.status.idle": "2022-03-01T00:33:15.162264Z",
     "shell.execute_reply": "2022-03-01T00:33:15.162717Z"
    },
    "papermill": {
     "duration": 0.043889,
     "end_time": "2022-03-01T00:33:15.162871",
     "exception": false,
     "start_time": "2022-03-01T00:33:15.118982",
     "status": "completed"
    },
    "tags": []
   },
   "outputs": [],
   "source": [
    "#hide\n",
    "#delete problematic countries from table\n",
    "df_table = df_table[~df_table['Country/Region'].isin(['Cape Verde', 'Cruise Ship', 'Kosovo'])]"
   ]
  },
  {
   "cell_type": "code",
   "execution_count": 17,
   "id": "related-center",
   "metadata": {
    "execution": {
     "iopub.execute_input": "2022-03-01T00:33:15.254362Z",
     "iopub.status.busy": "2022-03-01T00:33:15.253750Z",
     "iopub.status.idle": "2022-03-01T00:33:15.255963Z",
     "shell.execute_reply": "2022-03-01T00:33:15.256418Z"
    },
    "papermill": {
     "duration": 0.059271,
     "end_time": "2022-03-01T00:33:15.256558",
     "exception": false,
     "start_time": "2022-03-01T00:33:15.197287",
     "status": "completed"
    },
    "tags": []
   },
   "outputs": [],
   "source": [
    "#hide\n",
    "metrics = [df_table.columns[index] for index in [1,2,5,6]]\n",
    "# s_china = df_table[df_table['Country/Region'].eq('China')][metrics].sum().add_prefix('China ')\n",
    "s_us = df_table[df_table['Country/Region'].eq('US')][metrics].sum().add_prefix('US ')\n",
    "s_eu = df_table[df_table['Continent'].eq('Europe')][metrics].sum().add_prefix('EU ')\n",
    "s_ind = df_table[df_table['Country/Region'].eq('India')][metrics].sum().add_prefix('India ')\n",
    "summary = {'updated': pd.to_datetime(dt_today), 'since': pd.to_datetime(dt_yday)}\n",
    "summary = {'updated': pd.to_datetime(dt_today), 'since': pd.to_datetime(dt_yday)}\n",
    "summary = {**summary, **df_table[metrics].sum(), **s_ind, **s_us, **s_eu}"
   ]
  },
  {
   "cell_type": "code",
   "execution_count": 18,
   "id": "engaging-syndrome",
   "metadata": {
    "execution": {
     "iopub.execute_input": "2022-03-01T00:33:15.333083Z",
     "iopub.status.busy": "2022-03-01T00:33:15.332488Z",
     "iopub.status.idle": "2022-03-01T00:33:15.349876Z",
     "shell.execute_reply": "2022-03-01T00:33:15.350335Z"
    },
    "papermill": {
     "duration": 0.059254,
     "end_time": "2022-03-01T00:33:15.350485",
     "exception": false,
     "start_time": "2022-03-01T00:33:15.291231",
     "status": "completed"
    },
    "tags": []
   },
   "outputs": [],
   "source": [
    "#hide\n",
    "dft_ct_new_cases = dft_cases.groupby(COL_REGION)[dt_cols].sum().diff(axis=1).fillna(0).astype(int)"
   ]
  },
  {
   "cell_type": "code",
   "execution_count": 19,
   "id": "neutral-assignment",
   "metadata": {
    "execution": {
     "iopub.execute_input": "2022-03-01T00:33:15.427839Z",
     "iopub.status.busy": "2022-03-01T00:33:15.427069Z",
     "iopub.status.idle": "2022-03-01T00:33:15.428661Z",
     "shell.execute_reply": "2022-03-01T00:33:15.429282Z"
    },
    "papermill": {
     "duration": 0.043864,
     "end_time": "2022-03-01T00:33:15.429437",
     "exception": false,
     "start_time": "2022-03-01T00:33:15.385573",
     "status": "completed"
    },
    "tags": []
   },
   "outputs": [],
   "source": [
    "#hide\n",
    "everydaycases = dft_ct_new_cases.cumsum(axis=1)"
   ]
  },
  {
   "cell_type": "code",
   "execution_count": 20,
   "id": "parliamentary-calgary",
   "metadata": {
    "execution": {
     "iopub.execute_input": "2022-03-01T00:33:15.511532Z",
     "iopub.status.busy": "2022-03-01T00:33:15.510752Z",
     "iopub.status.idle": "2022-03-01T00:33:16.316380Z",
     "shell.execute_reply": "2022-03-01T00:33:16.315830Z"
    },
    "papermill": {
     "duration": 0.849337,
     "end_time": "2022-03-01T00:33:16.316521",
     "exception": false,
     "start_time": "2022-03-01T00:33:15.467184",
     "status": "completed"
    },
    "tags": []
   },
   "outputs": [],
   "source": [
    "#hide\n",
    "import pandas as pd\n",
    "import matplotlib.pyplot as plt\n",
    "import matplotlib.ticker as ticker\n",
    "import matplotlib.animation as animation\n",
    "from IPython.display import HTML"
   ]
  },
  {
   "cell_type": "code",
   "execution_count": 21,
   "id": "lasting-extraction",
   "metadata": {
    "execution": {
     "iopub.execute_input": "2022-03-01T00:33:16.395270Z",
     "iopub.status.busy": "2022-03-01T00:33:16.394628Z",
     "iopub.status.idle": "2022-03-01T00:33:16.404288Z",
     "shell.execute_reply": "2022-03-01T00:33:16.404834Z"
    },
    "papermill": {
     "duration": 0.051312,
     "end_time": "2022-03-01T00:33:16.404985",
     "exception": false,
     "start_time": "2022-03-01T00:33:16.353673",
     "status": "completed"
    },
    "tags": []
   },
   "outputs": [],
   "source": [
    "#hide\n",
    "t = everydaycases.stack()"
   ]
  },
  {
   "cell_type": "code",
   "execution_count": 22,
   "id": "premier-sleeve",
   "metadata": {
    "execution": {
     "iopub.execute_input": "2022-03-01T00:33:16.481074Z",
     "iopub.status.busy": "2022-03-01T00:33:16.480470Z",
     "iopub.status.idle": "2022-03-01T00:33:16.493484Z",
     "shell.execute_reply": "2022-03-01T00:33:16.492983Z"
    },
    "papermill": {
     "duration": 0.053444,
     "end_time": "2022-03-01T00:33:16.493608",
     "exception": false,
     "start_time": "2022-03-01T00:33:16.440164",
     "status": "completed"
    },
    "tags": []
   },
   "outputs": [],
   "source": [
    "#hide\n",
    "g = t.reset_index(['Country/Region'])"
   ]
  },
  {
   "cell_type": "code",
   "execution_count": 23,
   "id": "distributed-pittsburgh",
   "metadata": {
    "execution": {
     "iopub.execute_input": "2022-03-01T00:33:16.567065Z",
     "iopub.status.busy": "2022-03-01T00:33:16.566449Z",
     "iopub.status.idle": "2022-03-01T00:33:16.568945Z",
     "shell.execute_reply": "2022-03-01T00:33:16.569516Z"
    },
    "papermill": {
     "duration": 0.041558,
     "end_time": "2022-03-01T00:33:16.569656",
     "exception": false,
     "start_time": "2022-03-01T00:33:16.528098",
     "status": "completed"
    },
    "tags": []
   },
   "outputs": [],
   "source": [
    "#hide\n",
    "g.index.name = 'date'"
   ]
  },
  {
   "cell_type": "code",
   "execution_count": 24,
   "id": "naked-donor",
   "metadata": {
    "execution": {
     "iopub.execute_input": "2022-03-01T00:33:16.644977Z",
     "iopub.status.busy": "2022-03-01T00:33:16.643927Z",
     "iopub.status.idle": "2022-03-01T00:33:16.648737Z",
     "shell.execute_reply": "2022-03-01T00:33:16.648256Z"
    },
    "papermill": {
     "duration": 0.044432,
     "end_time": "2022-03-01T00:33:16.648863",
     "exception": false,
     "start_time": "2022-03-01T00:33:16.604431",
     "status": "completed"
    },
    "tags": []
   },
   "outputs": [],
   "source": [
    "# #hide\n",
    "# g = g.reset_index(['date'])"
   ]
  },
  {
   "cell_type": "code",
   "execution_count": 25,
   "id": "incomplete-mustang",
   "metadata": {
    "execution": {
     "iopub.execute_input": "2022-03-01T00:33:16.724465Z",
     "iopub.status.busy": "2022-03-01T00:33:16.723366Z",
     "iopub.status.idle": "2022-03-01T00:33:16.725622Z",
     "shell.execute_reply": "2022-03-01T00:33:16.726436Z"
    },
    "papermill": {
     "duration": 0.043012,
     "end_time": "2022-03-01T00:33:16.726659",
     "exception": false,
     "start_time": "2022-03-01T00:33:16.683647",
     "status": "completed"
    },
    "tags": []
   },
   "outputs": [],
   "source": [
    "#hide\n",
    "# g.head()"
   ]
  },
  {
   "cell_type": "code",
   "execution_count": 26,
   "id": "specific-kruger",
   "metadata": {
    "execution": {
     "iopub.execute_input": "2022-03-01T00:33:16.800967Z",
     "iopub.status.busy": "2022-03-01T00:33:16.800362Z",
     "iopub.status.idle": "2022-03-01T00:33:16.803107Z",
     "shell.execute_reply": "2022-03-01T00:33:16.803597Z"
    },
    "papermill": {
     "duration": 0.041851,
     "end_time": "2022-03-01T00:33:16.803737",
     "exception": false,
     "start_time": "2022-03-01T00:33:16.761886",
     "status": "completed"
    },
    "tags": []
   },
   "outputs": [],
   "source": [
    "#hide\n",
    "# g.columns = ['date','country','cases']"
   ]
  },
  {
   "cell_type": "code",
   "execution_count": 27,
   "id": "tender-conversion",
   "metadata": {
    "execution": {
     "iopub.execute_input": "2022-03-01T00:33:16.877509Z",
     "iopub.status.busy": "2022-03-01T00:33:16.876890Z",
     "iopub.status.idle": "2022-03-01T00:33:16.879942Z",
     "shell.execute_reply": "2022-03-01T00:33:16.880503Z"
    },
    "papermill": {
     "duration": 0.04219,
     "end_time": "2022-03-01T00:33:16.880655",
     "exception": false,
     "start_time": "2022-03-01T00:33:16.838465",
     "status": "completed"
    },
    "tags": []
   },
   "outputs": [],
   "source": [
    "#hide\n",
    "# g['continent'] = g.country"
   ]
  },
  {
   "cell_type": "code",
   "execution_count": 28,
   "id": "substantial-wilderness",
   "metadata": {
    "execution": {
     "iopub.execute_input": "2022-03-01T00:33:16.955767Z",
     "iopub.status.busy": "2022-03-01T00:33:16.954679Z",
     "iopub.status.idle": "2022-03-01T00:33:16.959349Z",
     "shell.execute_reply": "2022-03-01T00:33:16.958260Z"
    },
    "papermill": {
     "duration": 0.044398,
     "end_time": "2022-03-01T00:33:16.959554",
     "exception": false,
     "start_time": "2022-03-01T00:33:16.915156",
     "status": "completed"
    },
    "tags": []
   },
   "outputs": [],
   "source": [
    "#hide\n",
    "# cols = list(g.columns.values)"
   ]
  },
  {
   "cell_type": "code",
   "execution_count": 29,
   "id": "solved-farming",
   "metadata": {
    "execution": {
     "iopub.execute_input": "2022-03-01T00:33:17.034475Z",
     "iopub.status.busy": "2022-03-01T00:33:17.033865Z",
     "iopub.status.idle": "2022-03-01T00:33:17.036471Z",
     "shell.execute_reply": "2022-03-01T00:33:17.035957Z"
    },
    "papermill": {
     "duration": 0.041515,
     "end_time": "2022-03-01T00:33:17.036592",
     "exception": false,
     "start_time": "2022-03-01T00:33:16.995077",
     "status": "completed"
    },
    "tags": []
   },
   "outputs": [],
   "source": [
    "#hide\n",
    "# cols.insert(0, cols.pop())"
   ]
  },
  {
   "cell_type": "code",
   "execution_count": 30,
   "id": "executed-adoption",
   "metadata": {
    "execution": {
     "iopub.execute_input": "2022-03-01T00:33:17.109652Z",
     "iopub.status.busy": "2022-03-01T00:33:17.109031Z",
     "iopub.status.idle": "2022-03-01T00:33:17.111065Z",
     "shell.execute_reply": "2022-03-01T00:33:17.110464Z"
    },
    "papermill": {
     "duration": 0.039998,
     "end_time": "2022-03-01T00:33:17.111190",
     "exception": false,
     "start_time": "2022-03-01T00:33:17.071192",
     "status": "completed"
    },
    "tags": []
   },
   "outputs": [],
   "source": [
    "#hide\n",
    "# g = g[cols]"
   ]
  },
  {
   "cell_type": "code",
   "execution_count": 31,
   "id": "subject-dublin",
   "metadata": {
    "execution": {
     "iopub.execute_input": "2022-03-01T00:33:17.186168Z",
     "iopub.status.busy": "2022-03-01T00:33:17.185565Z",
     "iopub.status.idle": "2022-03-01T00:33:17.187612Z",
     "shell.execute_reply": "2022-03-01T00:33:17.187013Z"
    },
    "papermill": {
     "duration": 0.041153,
     "end_time": "2022-03-01T00:33:17.187724",
     "exception": false,
     "start_time": "2022-03-01T00:33:17.146571",
     "status": "completed"
    },
    "tags": []
   },
   "outputs": [],
   "source": [
    "#hide\n",
    "# g['continent'] = g['continent'].map(mapping['map.continent'])"
   ]
  },
  {
   "cell_type": "code",
   "execution_count": 32,
   "id": "freelance-scout",
   "metadata": {
    "execution": {
     "iopub.execute_input": "2022-03-01T00:33:17.262473Z",
     "iopub.status.busy": "2022-03-01T00:33:17.261447Z",
     "iopub.status.idle": "2022-03-01T00:33:17.266691Z",
     "shell.execute_reply": "2022-03-01T00:33:17.267175Z"
    },
    "papermill": {
     "duration": 0.044989,
     "end_time": "2022-03-01T00:33:17.267312",
     "exception": false,
     "start_time": "2022-03-01T00:33:17.222323",
     "status": "completed"
    },
    "tags": []
   },
   "outputs": [],
   "source": [
    "#hide\n",
    "# g.head()"
   ]
  },
  {
   "cell_type": "code",
   "execution_count": 33,
   "id": "limited-engine",
   "metadata": {
    "execution": {
     "iopub.execute_input": "2022-03-01T00:33:17.340572Z",
     "iopub.status.busy": "2022-03-01T00:33:17.339982Z",
     "iopub.status.idle": "2022-03-01T00:33:17.343548Z",
     "shell.execute_reply": "2022-03-01T00:33:17.344122Z"
    },
    "papermill": {
     "duration": 0.042355,
     "end_time": "2022-03-01T00:33:17.344253",
     "exception": false,
     "start_time": "2022-03-01T00:33:17.301898",
     "status": "completed"
    },
    "tags": []
   },
   "outputs": [],
   "source": [
    "# hide\n",
    "# g['date'] = g['date'].astype('datetime64[ns]')"
   ]
  },
  {
   "cell_type": "code",
   "execution_count": 34,
   "id": "sophisticated-supervisor",
   "metadata": {
    "execution": {
     "iopub.execute_input": "2022-03-01T00:33:17.417101Z",
     "iopub.status.busy": "2022-03-01T00:33:17.416478Z",
     "iopub.status.idle": "2022-03-01T00:33:17.420043Z",
     "shell.execute_reply": "2022-03-01T00:33:17.420507Z"
    },
    "papermill": {
     "duration": 0.042269,
     "end_time": "2022-03-01T00:33:17.420648",
     "exception": false,
     "start_time": "2022-03-01T00:33:17.378379",
     "status": "completed"
    },
    "tags": []
   },
   "outputs": [],
   "source": [
    "#hide\n",
    "# g['date'] = g.date.dt.dayofyear"
   ]
  },
  {
   "cell_type": "code",
   "execution_count": 35,
   "id": "inside-dubai",
   "metadata": {
    "execution": {
     "iopub.execute_input": "2022-03-01T00:33:17.495447Z",
     "iopub.status.busy": "2022-03-01T00:33:17.494209Z",
     "iopub.status.idle": "2022-03-01T00:33:17.497153Z",
     "shell.execute_reply": "2022-03-01T00:33:17.496350Z"
    },
    "papermill": {
     "duration": 0.042133,
     "end_time": "2022-03-01T00:33:17.497321",
     "exception": false,
     "start_time": "2022-03-01T00:33:17.455188",
     "status": "completed"
    },
    "tags": []
   },
   "outputs": [],
   "source": [
    "#hide\n",
    "# g = g.rename(columns= {'continent':'group','country':'name','cases':'value'})"
   ]
  },
  {
   "cell_type": "code",
   "execution_count": 36,
   "id": "fleet-motorcycle",
   "metadata": {
    "execution": {
     "iopub.execute_input": "2022-03-01T00:33:17.576888Z",
     "iopub.status.busy": "2022-03-01T00:33:17.576084Z",
     "iopub.status.idle": "2022-03-01T00:33:17.578745Z",
     "shell.execute_reply": "2022-03-01T00:33:17.579334Z"
    },
    "papermill": {
     "duration": 0.043013,
     "end_time": "2022-03-01T00:33:17.579469",
     "exception": false,
     "start_time": "2022-03-01T00:33:17.536456",
     "status": "completed"
    },
    "tags": []
   },
   "outputs": [],
   "source": [
    "#hide\n",
    "# cols = ['name','group','day','value']"
   ]
  },
  {
   "cell_type": "code",
   "execution_count": 37,
   "id": "continued-sleeping",
   "metadata": {
    "execution": {
     "iopub.execute_input": "2022-03-01T00:33:17.656400Z",
     "iopub.status.busy": "2022-03-01T00:33:17.655361Z",
     "iopub.status.idle": "2022-03-01T00:33:17.657556Z",
     "shell.execute_reply": "2022-03-01T00:33:17.658498Z"
    },
    "papermill": {
     "duration": 0.042084,
     "end_time": "2022-03-01T00:33:17.658716",
     "exception": false,
     "start_time": "2022-03-01T00:33:17.616632",
     "status": "completed"
    },
    "tags": []
   },
   "outputs": [],
   "source": [
    "#hide\n",
    "# g.rename(columns= {'date':'day'},inplace = True)"
   ]
  },
  {
   "cell_type": "code",
   "execution_count": 38,
   "id": "major-fight",
   "metadata": {
    "execution": {
     "iopub.execute_input": "2022-03-01T00:33:17.731138Z",
     "iopub.status.busy": "2022-03-01T00:33:17.730522Z",
     "iopub.status.idle": "2022-03-01T00:33:17.732985Z",
     "shell.execute_reply": "2022-03-01T00:33:17.733558Z"
    },
    "papermill": {
     "duration": 0.040537,
     "end_time": "2022-03-01T00:33:17.733692",
     "exception": false,
     "start_time": "2022-03-01T00:33:17.693155",
     "status": "completed"
    },
    "tags": []
   },
   "outputs": [],
   "source": [
    "#hide\n",
    "# g = g[cols]"
   ]
  },
  {
   "cell_type": "code",
   "execution_count": 39,
   "id": "structured-mobile",
   "metadata": {
    "execution": {
     "iopub.execute_input": "2022-03-01T00:33:17.805517Z",
     "iopub.status.busy": "2022-03-01T00:33:17.804922Z",
     "iopub.status.idle": "2022-03-01T00:33:17.807201Z",
     "shell.execute_reply": "2022-03-01T00:33:17.806733Z"
    },
    "papermill": {
     "duration": 0.039718,
     "end_time": "2022-03-01T00:33:17.807316",
     "exception": false,
     "start_time": "2022-03-01T00:33:17.767598",
     "status": "completed"
    },
    "tags": []
   },
   "outputs": [],
   "source": [
    "# #hide\n",
    "# g = g[g.group.notna()]"
   ]
  },
  {
   "cell_type": "code",
   "execution_count": 40,
   "id": "determined-closing",
   "metadata": {
    "execution": {
     "iopub.execute_input": "2022-03-01T00:33:17.880863Z",
     "iopub.status.busy": "2022-03-01T00:33:17.879789Z",
     "iopub.status.idle": "2022-03-01T00:33:17.881973Z",
     "shell.execute_reply": "2022-03-01T00:33:17.882786Z"
    },
    "papermill": {
     "duration": 0.042292,
     "end_time": "2022-03-01T00:33:17.883033",
     "exception": false,
     "start_time": "2022-03-01T00:33:17.840741",
     "status": "completed"
    },
    "tags": []
   },
   "outputs": [],
   "source": [
    "# #hide\n",
    "# colors = dict(zip(\n",
    "#     [\"Oceania\", \"Europe\", \"Asia\", \"South America\", \"Middle East\", \"North America\", \"Africa\"],\n",
    "#     [\"#adb0ff\", \"#ffb3ff\", \"#90d595\", \"#e48381\", \"#aafbff\", \"#f7bb5f\", \"#eafb50\"]\n",
    "# ))\n",
    "# group_lk = g.set_index('name')['group'].to_dict()"
   ]
  },
  {
   "cell_type": "code",
   "execution_count": null,
   "id": "gross-drinking",
   "metadata": {
    "papermill": {
     "duration": 0.034053,
     "end_time": "2022-03-01T00:33:17.952962",
     "exception": false,
     "start_time": "2022-03-01T00:33:17.918909",
     "status": "completed"
    },
    "tags": []
   },
   "outputs": [],
   "source": []
  },
  {
   "cell_type": "code",
   "execution_count": 41,
   "id": "subject-macintosh",
   "metadata": {
    "execution": {
     "iopub.execute_input": "2022-03-01T00:33:18.027323Z",
     "iopub.status.busy": "2022-03-01T00:33:18.026663Z",
     "iopub.status.idle": "2022-03-01T00:33:18.029605Z",
     "shell.execute_reply": "2022-03-01T00:33:18.029124Z"
    },
    "papermill": {
     "duration": 0.042142,
     "end_time": "2022-03-01T00:33:18.029731",
     "exception": false,
     "start_time": "2022-03-01T00:33:17.987589",
     "status": "completed"
    },
    "tags": []
   },
   "outputs": [],
   "source": [
    "# #hide\n",
    "# fig, ax = plt.subplots(figsize=(15, 8))\n",
    "\n",
    "# def draw_barchart(current_day):\n",
    "#     dff = g[g['day'].eq(current_day)].sort_values(by='value', ascending=True).tail(10)\n",
    "#     ax.clear()\n",
    "#     ax.barh(dff['name'], dff['value'], color=[colors[group_lk[x]] for x in dff['name']])\n",
    "#     dx = dff['value'].max() / 200\n",
    "    \n",
    "#     for i, (value, name) in enumerate(zip(dff['value'], dff['name'])):\n",
    "#         ax.text(value-dx, i,     name,           size=14, weight=600, ha='right', va='bottom')\n",
    "#         ax.text(value-dx, i-.25, group_lk[name], size=10, color='#444444', ha='right', va='baseline')\n",
    "#         ax.text(value+dx, i,     f'{value:,.0f}',  size=14, ha='left',  va='center')\n",
    "#     ax.text(1, 0.4, current_day, transform=ax.transAxes, color='#777777', size=46, ha='right', weight=800)\n",
    "#     ax.text(0, 1.06, 'Population (thousands)', transform=ax.transAxes, size=12, color='#777777')\n",
    "#     ax.xaxis.set_major_formatter(ticker.StrMethodFormatter('{x:,.0f}'))\n",
    "#     ax.xaxis.set_ticks_position('top')\n",
    "#     ax.tick_params(axis='x', colors='#777777', labelsize=12)\n",
    "#     ax.set_yticks([])\n",
    "#     ax.margins(0, 0.01)\n",
    "#     ax.grid(which='major', axis='x', linestyle='-')\n",
    "#     ax.set_axisbelow(True)\n",
    "    \n",
    "#     ax.text(0, 1.15, 'Coronavirus',\n",
    "#             transform=ax.transAxes, size=24, weight=600, ha='left', va='top')\n",
    "# #     ax.text(1, 0, 'by @pratapvardhan; credit @jburnmurdoch', transform=ax.transAxes, color='#777777', ha='right',\n",
    "# #             bbox=dict(facecolor='white', alpha=0.8, edgecolor='white'))\n",
    "#     plt.box(False)"
   ]
  },
  {
   "cell_type": "code",
   "execution_count": 42,
   "id": "sexual-wages",
   "metadata": {
    "execution": {
     "iopub.execute_input": "2022-03-01T00:33:18.104112Z",
     "iopub.status.busy": "2022-03-01T00:33:18.103261Z",
     "iopub.status.idle": "2022-03-01T00:33:18.106607Z",
     "shell.execute_reply": "2022-03-01T00:33:18.105919Z"
    },
    "papermill": {
     "duration": 0.042127,
     "end_time": "2022-03-01T00:33:18.106764",
     "exception": false,
     "start_time": "2022-03-01T00:33:18.064637",
     "status": "completed"
    },
    "tags": []
   },
   "outputs": [],
   "source": [
    "# #hide_input\n",
    "# fig, ax = plt.subplots(figsize=(15, 8))\n",
    "# animator = animation.FuncAnimation(fig, draw_barchart, frames=range(g.day.values.min(), g.day.values.max()))\n",
    "# HTML(animator.to_jshtml())\n",
    "# # or use animator.to_html5_video() or animator.save() "
   ]
  },
  {
   "cell_type": "code",
   "execution_count": null,
   "id": "australian-container",
   "metadata": {
    "papermill": {
     "duration": 0.03661,
     "end_time": "2022-03-01T00:33:18.179415",
     "exception": false,
     "start_time": "2022-03-01T00:33:18.142805",
     "status": "completed"
    },
    "tags": []
   },
   "outputs": [],
   "source": []
  },
  {
   "cell_type": "code",
   "execution_count": null,
   "id": "mediterranean-pontiac",
   "metadata": {
    "papermill": {
     "duration": 0.033997,
     "end_time": "2022-03-01T00:33:18.247842",
     "exception": false,
     "start_time": "2022-03-01T00:33:18.213845",
     "status": "completed"
    },
    "tags": []
   },
   "outputs": [],
   "source": []
  },
  {
   "cell_type": "code",
   "execution_count": null,
   "id": "aging-legislature",
   "metadata": {
    "papermill": {
     "duration": 0.034035,
     "end_time": "2022-03-01T00:33:18.315664",
     "exception": false,
     "start_time": "2022-03-01T00:33:18.281629",
     "status": "completed"
    },
    "tags": []
   },
   "outputs": [],
   "source": []
  }
 ],
 "metadata": {
  "kernelspec": {
   "display_name": "Python 3",
   "language": "python",
   "name": "python3"
  },
  "language_info": {
   "codemirror_mode": {
    "name": "ipython",
    "version": 3
   },
   "file_extension": ".py",
   "mimetype": "text/x-python",
   "name": "python",
   "nbconvert_exporter": "python",
   "pygments_lexer": "ipython3",
   "version": "3.6.15"
  },
  "papermill": {
   "duration": 6.888791,
   "end_time": "2022-03-01T00:33:18.668366",
   "environment_variables": {},
   "exception": null,
   "input_path": "2020-03-21-covid19exp.ipynb",
   "output_path": "2020-03-21-covid19exp.ipynb",
   "parameters": {},
   "start_time": "2022-03-01T00:33:11.779575",
   "version": "2.0.0"
  }
 },
 "nbformat": 4,
 "nbformat_minor": 5
}