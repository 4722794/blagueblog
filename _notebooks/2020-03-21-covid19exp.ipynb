{
 "cells": [
  {
   "cell_type": "markdown",
   "id": "muslim-click",
   "metadata": {
    "papermill": {
     "duration": 0.034196,
     "end_time": "2021-12-14T00:26:40.230973",
     "exception": false,
     "start_time": "2021-12-14T00:26:40.196777",
     "status": "completed"
    },
    "tags": []
   },
   "source": [
    "# COVID-19 Case Race\n",
    "> A race chart to see rising cases around the world\n",
    "\n",
    "- author: Hargun Oberoi\n",
    "- image: images/covid-overview.png\n",
    "- hide: false\n",
    "- badges: false"
   ]
  },
  {
   "cell_type": "code",
   "execution_count": 1,
   "id": "proof-material",
   "metadata": {
    "execution": {
     "iopub.execute_input": "2021-12-14T00:26:40.299590Z",
     "iopub.status.busy": "2021-12-14T00:26:40.299054Z",
     "iopub.status.idle": "2021-12-14T00:26:40.614008Z",
     "shell.execute_reply": "2021-12-14T00:26:40.614477Z"
    },
    "papermill": {
     "duration": 0.353761,
     "end_time": "2021-12-14T00:26:40.614646",
     "exception": false,
     "start_time": "2021-12-14T00:26:40.260885",
     "status": "completed"
    },
    "tags": []
   },
   "outputs": [],
   "source": [
    "#hide\n",
    "import numpy as np\n",
    "import pandas as pd\n",
    "from jinja2 import Template\n",
    "from IPython.display import HTML"
   ]
  },
  {
   "cell_type": "code",
   "execution_count": 2,
   "id": "developed-terminology",
   "metadata": {
    "execution": {
     "iopub.execute_input": "2021-12-14T00:26:40.680199Z",
     "iopub.status.busy": "2021-12-14T00:26:40.679660Z",
     "iopub.status.idle": "2021-12-14T00:26:40.681259Z",
     "shell.execute_reply": "2021-12-14T00:26:40.681700Z"
    },
    "papermill": {
     "duration": 0.037548,
     "end_time": "2021-12-14T00:26:40.681830",
     "exception": false,
     "start_time": "2021-12-14T00:26:40.644282",
     "status": "completed"
    },
    "tags": []
   },
   "outputs": [],
   "source": [
    "#hide\n",
    "\n",
    "# FETCH\n",
    "base_url = 'https://raw.githubusercontent.com/pratapvardhan/notebooks/master/covid19/'\n",
    "paths = {\n",
    "    'mapping': base_url + 'mapping_countries.csv',\n",
    "    'overview': base_url + 'overview.tpl'\n",
    "}"
   ]
  },
  {
   "cell_type": "code",
   "execution_count": 3,
   "id": "dynamic-saver",
   "metadata": {
    "execution": {
     "iopub.execute_input": "2021-12-14T00:26:40.750322Z",
     "iopub.status.busy": "2021-12-14T00:26:40.748072Z",
     "iopub.status.idle": "2021-12-14T00:26:40.753038Z",
     "shell.execute_reply": "2021-12-14T00:26:40.752604Z"
    },
    "papermill": {
     "duration": 0.041814,
     "end_time": "2021-12-14T00:26:40.753145",
     "exception": false,
     "start_time": "2021-12-14T00:26:40.711331",
     "status": "completed"
    },
    "tags": []
   },
   "outputs": [
    {
     "data": {
      "text/plain": [
       "'https://raw.githubusercontent.com/pratapvardhan/notebooks/master/covid19/mapping_countries.csv'"
      ]
     },
     "execution_count": 3,
     "metadata": {},
     "output_type": "execute_result"
    }
   ],
   "source": [
    "#hide\n",
    "paths['mapping']"
   ]
  },
  {
   "cell_type": "code",
   "execution_count": 4,
   "id": "urban-software",
   "metadata": {
    "execution": {
     "iopub.execute_input": "2021-12-14T00:26:40.817632Z",
     "iopub.status.busy": "2021-12-14T00:26:40.817022Z",
     "iopub.status.idle": "2021-12-14T00:26:40.819221Z",
     "shell.execute_reply": "2021-12-14T00:26:40.818726Z"
    },
    "papermill": {
     "duration": 0.036471,
     "end_time": "2021-12-14T00:26:40.819339",
     "exception": false,
     "start_time": "2021-12-14T00:26:40.782868",
     "status": "completed"
    },
    "tags": []
   },
   "outputs": [],
   "source": [
    "#hide\n",
    "def get_mappings(url):\n",
    "    df = pd.read_csv(url)\n",
    "    return {\n",
    "        'df': df,\n",
    "        'replace.country': dict(df.dropna(subset=['Name']).set_index('Country')['Name']),\n",
    "        'map.continent': dict(df.set_index('Name')['Continent'])\n",
    "    }"
   ]
  },
  {
   "cell_type": "code",
   "execution_count": 5,
   "id": "intimate-machinery",
   "metadata": {
    "execution": {
     "iopub.execute_input": "2021-12-14T00:26:40.884866Z",
     "iopub.status.busy": "2021-12-14T00:26:40.884352Z",
     "iopub.status.idle": "2021-12-14T00:26:40.952671Z",
     "shell.execute_reply": "2021-12-14T00:26:40.952173Z"
    },
    "papermill": {
     "duration": 0.102444,
     "end_time": "2021-12-14T00:26:40.952798",
     "exception": false,
     "start_time": "2021-12-14T00:26:40.850354",
     "status": "completed"
    },
    "tags": []
   },
   "outputs": [],
   "source": [
    "#hide\n",
    "mapping = get_mappings(paths['mapping'])"
   ]
  },
  {
   "cell_type": "code",
   "execution_count": 6,
   "id": "certified-tactics",
   "metadata": {
    "execution": {
     "iopub.execute_input": "2021-12-14T00:26:41.017811Z",
     "iopub.status.busy": "2021-12-14T00:26:41.017288Z",
     "iopub.status.idle": "2021-12-14T00:26:41.019323Z",
     "shell.execute_reply": "2021-12-14T00:26:41.019710Z"
    },
    "papermill": {
     "duration": 0.037071,
     "end_time": "2021-12-14T00:26:41.019837",
     "exception": false,
     "start_time": "2021-12-14T00:26:40.982766",
     "status": "completed"
    },
    "tags": []
   },
   "outputs": [],
   "source": [
    "#hide\n",
    "def get_template(path):\n",
    "    from urllib.parse import urlparse\n",
    "    if bool(urlparse(path).netloc):\n",
    "        from urllib.request import urlopen\n",
    "        return urlopen(path).read().decode('utf8')\n",
    "    return open(path).read()"
   ]
  },
  {
   "cell_type": "code",
   "execution_count": 7,
   "id": "realistic-blast",
   "metadata": {
    "execution": {
     "iopub.execute_input": "2021-12-14T00:26:41.083851Z",
     "iopub.status.busy": "2021-12-14T00:26:41.083313Z",
     "iopub.status.idle": "2021-12-14T00:26:41.085103Z",
     "shell.execute_reply": "2021-12-14T00:26:41.085488Z"
    },
    "papermill": {
     "duration": 0.036157,
     "end_time": "2021-12-14T00:26:41.085612",
     "exception": false,
     "start_time": "2021-12-14T00:26:41.049455",
     "status": "completed"
    },
    "tags": []
   },
   "outputs": [],
   "source": [
    "#hide\n",
    "def get_frame(name):\n",
    "    url = (\n",
    "        'https://raw.githubusercontent.com/CSSEGISandData/COVID-19/master/csse_covid_19_data/'\n",
    "        f'csse_covid_19_time_series/time_series_covid19_{name}_global.csv')\n",
    "    df = pd.read_csv(url)\n",
    "    # rename countries\n",
    "    df['Country/Region'] = df['Country/Region'].replace(mapping['replace.country'])\n",
    "    return df"
   ]
  },
  {
   "cell_type": "code",
   "execution_count": 8,
   "id": "affiliated-characterization",
   "metadata": {
    "execution": {
     "iopub.execute_input": "2021-12-14T00:26:41.147476Z",
     "iopub.status.busy": "2021-12-14T00:26:41.146958Z",
     "iopub.status.idle": "2021-12-14T00:26:41.152246Z",
     "shell.execute_reply": "2021-12-14T00:26:41.152636Z"
    },
    "papermill": {
     "duration": 0.037553,
     "end_time": "2021-12-14T00:26:41.152761",
     "exception": false,
     "start_time": "2021-12-14T00:26:41.115208",
     "status": "completed"
    },
    "tags": []
   },
   "outputs": [],
   "source": [
    "#hide\n",
    "def get_dates(df):\n",
    "    dt_cols = df.columns[~df.columns.isin(['Province/State', 'Country/Region', 'Lat', 'Long'])]\n",
    "    LAST_DATE_I = -1\n",
    "    # sometimes last column may be empty, then go backwards\n",
    "    for i in range(-1, -len(dt_cols), -1):\n",
    "        if not df[dt_cols[i]].fillna(0).eq(0).all():\n",
    "            LAST_DATE_I = i\n",
    "            break\n",
    "    return LAST_DATE_I, dt_cols"
   ]
  },
  {
   "cell_type": "code",
   "execution_count": 9,
   "id": "recent-optimization",
   "metadata": {
    "execution": {
     "iopub.execute_input": "2021-12-14T00:26:41.216865Z",
     "iopub.status.busy": "2021-12-14T00:26:41.216316Z",
     "iopub.status.idle": "2021-12-14T00:26:41.804375Z",
     "shell.execute_reply": "2021-12-14T00:26:41.803318Z"
    },
    "papermill": {
     "duration": 0.62214,
     "end_time": "2021-12-14T00:26:41.804512",
     "exception": false,
     "start_time": "2021-12-14T00:26:41.182372",
     "status": "completed"
    },
    "tags": []
   },
   "outputs": [],
   "source": [
    "#hide\n",
    "COL_REGION = 'Country/Region'\n",
    "# Confirmed, Recovered, Deaths\n",
    "df = get_frame('confirmed')\n",
    "# dft_: timeseries, dfc_: today country agg\n",
    "dft_cases = df\n",
    "dft_deaths = get_frame('deaths')\n",
    "dft_recovered = get_frame('recovered')\n",
    "LAST_DATE_I, dt_cols = get_dates(df)"
   ]
  },
  {
   "cell_type": "code",
   "execution_count": 10,
   "id": "absolute-copper",
   "metadata": {
    "execution": {
     "iopub.execute_input": "2021-12-14T00:26:41.869459Z",
     "iopub.status.busy": "2021-12-14T00:26:41.868860Z",
     "iopub.status.idle": "2021-12-14T00:26:41.871030Z",
     "shell.execute_reply": "2021-12-14T00:26:41.870529Z"
    },
    "papermill": {
     "duration": 0.036471,
     "end_time": "2021-12-14T00:26:41.871148",
     "exception": false,
     "start_time": "2021-12-14T00:26:41.834677",
     "status": "completed"
    },
    "tags": []
   },
   "outputs": [],
   "source": [
    "#hide\n",
    "LAST_DATE_I, dt_cols = get_dates(df)\n",
    "dt_today =dt_cols[LAST_DATE_I]\n",
    "# dt_5day = dt_cols[LAST_DATE_I - 5]\n",
    "dt_yday = dt_cols[LAST_DATE_I - 1]"
   ]
  },
  {
   "cell_type": "code",
   "execution_count": 11,
   "id": "restricted-sheriff",
   "metadata": {
    "execution": {
     "iopub.execute_input": "2021-12-14T00:26:41.937363Z",
     "iopub.status.busy": "2021-12-14T00:26:41.936856Z",
     "iopub.status.idle": "2021-12-14T00:26:41.943789Z",
     "shell.execute_reply": "2021-12-14T00:26:41.944174Z"
    },
    "papermill": {
     "duration": 0.04292,
     "end_time": "2021-12-14T00:26:41.944302",
     "exception": false,
     "start_time": "2021-12-14T00:26:41.901382",
     "status": "completed"
    },
    "tags": []
   },
   "outputs": [],
   "source": [
    "#hide\n",
    "dfc_cases = dft_cases.groupby(COL_REGION)[dt_today].sum()\n",
    "dfc_deaths = dft_deaths.groupby(COL_REGION)[dt_today].sum()\n",
    "# dfp_cases = dft_cases.groupby(COL_REGION)[dt_5day].sum()\n",
    "# dfp_deaths = dft_deaths.groupby(COL_REGION)[dt_5day].sum()\n",
    "dfp_cases = dft_cases.groupby(COL_REGION)[dt_yday].sum()\n",
    "dfp_deaths = dft_deaths.groupby(COL_REGION)[dt_yday].sum()"
   ]
  },
  {
   "cell_type": "code",
   "execution_count": 12,
   "id": "deluxe-hepatitis",
   "metadata": {
    "execution": {
     "iopub.execute_input": "2021-12-14T00:26:42.009481Z",
     "iopub.status.busy": "2021-12-14T00:26:42.008963Z",
     "iopub.status.idle": "2021-12-14T00:26:42.013345Z",
     "shell.execute_reply": "2021-12-14T00:26:42.012848Z"
    },
    "papermill": {
     "duration": 0.039571,
     "end_time": "2021-12-14T00:26:42.013448",
     "exception": false,
     "start_time": "2021-12-14T00:26:41.973877",
     "status": "completed"
    },
    "tags": []
   },
   "outputs": [],
   "source": [
    "#hide\n",
    "df_table = (pd.DataFrame(dict(Cases = dfc_cases, Deaths = dfc_deaths, PCases = dfp_cases, PDeaths = dfp_deaths))\n",
    "            .sort_values(by = ['Cases','Deaths'], ascending = [False, False])\n",
    "            .reset_index())"
   ]
  },
  {
   "cell_type": "code",
   "execution_count": 13,
   "id": "educational-chancellor",
   "metadata": {
    "execution": {
     "iopub.execute_input": "2021-12-14T00:26:42.089691Z",
     "iopub.status.busy": "2021-12-14T00:26:42.089173Z",
     "iopub.status.idle": "2021-12-14T00:26:42.096282Z",
     "shell.execute_reply": "2021-12-14T00:26:42.095869Z"
    },
    "papermill": {
     "duration": 0.053427,
     "end_time": "2021-12-14T00:26:42.096386",
     "exception": false,
     "start_time": "2021-12-14T00:26:42.042959",
     "status": "completed"
    },
    "tags": []
   },
   "outputs": [
    {
     "data": {
      "text/html": [
       "<div>\n",
       "<style scoped>\n",
       "    .dataframe tbody tr th:only-of-type {\n",
       "        vertical-align: middle;\n",
       "    }\n",
       "\n",
       "    .dataframe tbody tr th {\n",
       "        vertical-align: top;\n",
       "    }\n",
       "\n",
       "    .dataframe thead th {\n",
       "        text-align: right;\n",
       "    }\n",
       "</style>\n",
       "<table border=\"1\" class=\"dataframe\">\n",
       "  <thead>\n",
       "    <tr style=\"text-align: right;\">\n",
       "      <th></th>\n",
       "      <th>Country/Region</th>\n",
       "      <th>Cases</th>\n",
       "      <th>Deaths</th>\n",
       "      <th>PCases</th>\n",
       "      <th>PDeaths</th>\n",
       "      <th>Cases (+)</th>\n",
       "      <th>Deaths (+)</th>\n",
       "      <th>Fatality Rate</th>\n",
       "      <th>Continent</th>\n",
       "    </tr>\n",
       "  </thead>\n",
       "  <tbody>\n",
       "    <tr>\n",
       "      <th>0</th>\n",
       "      <td>US</td>\n",
       "      <td>49921405</td>\n",
       "      <td>797346</td>\n",
       "      <td>49884587</td>\n",
       "      <td>797179</td>\n",
       "      <td>36818</td>\n",
       "      <td>167</td>\n",
       "      <td>1.60</td>\n",
       "      <td>North America</td>\n",
       "    </tr>\n",
       "    <tr>\n",
       "      <th>1</th>\n",
       "      <td>India</td>\n",
       "      <td>34697860</td>\n",
       "      <td>475636</td>\n",
       "      <td>34690510</td>\n",
       "      <td>475434</td>\n",
       "      <td>7350</td>\n",
       "      <td>202</td>\n",
       "      <td>1.37</td>\n",
       "      <td>Asia</td>\n",
       "    </tr>\n",
       "    <tr>\n",
       "      <th>2</th>\n",
       "      <td>Brazil</td>\n",
       "      <td>22177059</td>\n",
       "      <td>616457</td>\n",
       "      <td>22177059</td>\n",
       "      <td>616457</td>\n",
       "      <td>0</td>\n",
       "      <td>0</td>\n",
       "      <td>2.78</td>\n",
       "      <td>South America</td>\n",
       "    </tr>\n",
       "    <tr>\n",
       "      <th>3</th>\n",
       "      <td>United Kingdom</td>\n",
       "      <td>10881189</td>\n",
       "      <td>146896</td>\n",
       "      <td>10833033</td>\n",
       "      <td>146844</td>\n",
       "      <td>48156</td>\n",
       "      <td>52</td>\n",
       "      <td>1.35</td>\n",
       "      <td>Europe</td>\n",
       "    </tr>\n",
       "    <tr>\n",
       "      <th>4</th>\n",
       "      <td>Russia</td>\n",
       "      <td>9842021</td>\n",
       "      <td>283815</td>\n",
       "      <td>9812538</td>\n",
       "      <td>282713</td>\n",
       "      <td>29483</td>\n",
       "      <td>1102</td>\n",
       "      <td>2.88</td>\n",
       "      <td>Europe</td>\n",
       "    </tr>\n",
       "  </tbody>\n",
       "</table>\n",
       "</div>"
      ],
      "text/plain": [
       "   Country/Region     Cases  Deaths    PCases  PDeaths  Cases (+)  Deaths (+)  \\\n",
       "0              US  49921405  797346  49884587   797179      36818         167   \n",
       "1           India  34697860  475636  34690510   475434       7350         202   \n",
       "2          Brazil  22177059  616457  22177059   616457          0           0   \n",
       "3  United Kingdom  10881189  146896  10833033   146844      48156          52   \n",
       "4          Russia   9842021  283815   9812538   282713      29483        1102   \n",
       "\n",
       "   Fatality Rate      Continent  \n",
       "0           1.60  North America  \n",
       "1           1.37           Asia  \n",
       "2           2.78  South America  \n",
       "3           1.35         Europe  \n",
       "4           2.88         Europe  "
      ]
     },
     "execution_count": 13,
     "metadata": {},
     "output_type": "execute_result"
    }
   ],
   "source": [
    "#hide\n",
    "for c in 'Cases, Deaths'.split(', '):\n",
    "    df_table[f'{c} (+)'] = (df_table[c] - df_table[f'P{c}']).clip(0)\n",
    "    #Clip ça veut dire, les chiffres negatif sont interdit\n",
    "df_table['Fatality Rate'] = (100* df_table['Deaths']/ df_table['Cases']).round(2)\n",
    "df_table['Continent'] = df_table['Country/Region'].map(mapping['map.continent'])\n",
    "df_table.head(5)"
   ]
  },
  {
   "cell_type": "code",
   "execution_count": 14,
   "id": "aboriginal-bulgaria",
   "metadata": {
    "execution": {
     "iopub.execute_input": "2021-12-14T00:26:42.161732Z",
     "iopub.status.busy": "2021-12-14T00:26:42.161224Z",
     "iopub.status.idle": "2021-12-14T00:26:42.163247Z",
     "shell.execute_reply": "2021-12-14T00:26:42.163634Z"
    },
    "papermill": {
     "duration": 0.037215,
     "end_time": "2021-12-14T00:26:42.163753",
     "exception": false,
     "start_time": "2021-12-14T00:26:42.126538",
     "status": "completed"
    },
    "tags": []
   },
   "outputs": [],
   "source": [
    "#hide\n",
    "#delete problematic countries from table\n",
    "df_table = df_table[~df_table['Country/Region'].isin(['Cape Verde', 'Cruise Ship', 'Kosovo'])]"
   ]
  },
  {
   "cell_type": "code",
   "execution_count": 15,
   "id": "fantastic-effect",
   "metadata": {
    "execution": {
     "iopub.execute_input": "2021-12-14T00:26:42.230828Z",
     "iopub.status.busy": "2021-12-14T00:26:42.230312Z",
     "iopub.status.idle": "2021-12-14T00:26:42.247135Z",
     "shell.execute_reply": "2021-12-14T00:26:42.247549Z"
    },
    "papermill": {
     "duration": 0.054135,
     "end_time": "2021-12-14T00:26:42.247664",
     "exception": false,
     "start_time": "2021-12-14T00:26:42.193529",
     "status": "completed"
    },
    "tags": []
   },
   "outputs": [
    {
     "data": {
      "text/html": [
       "<div>\n",
       "<style scoped>\n",
       "    .dataframe tbody tr th:only-of-type {\n",
       "        vertical-align: middle;\n",
       "    }\n",
       "\n",
       "    .dataframe tbody tr th {\n",
       "        vertical-align: top;\n",
       "    }\n",
       "\n",
       "    .dataframe thead th {\n",
       "        text-align: right;\n",
       "    }\n",
       "</style>\n",
       "<table border=\"1\" class=\"dataframe\">\n",
       "  <thead>\n",
       "    <tr style=\"text-align: right;\">\n",
       "      <th></th>\n",
       "      <th>Country/Region</th>\n",
       "      <th>Cases</th>\n",
       "      <th>Deaths</th>\n",
       "      <th>PCases</th>\n",
       "      <th>PDeaths</th>\n",
       "      <th>Cases (+)</th>\n",
       "      <th>Deaths (+)</th>\n",
       "      <th>Fatality Rate</th>\n",
       "      <th>Continent</th>\n",
       "    </tr>\n",
       "  </thead>\n",
       "  <tbody>\n",
       "    <tr>\n",
       "      <th>0</th>\n",
       "      <td>US</td>\n",
       "      <td>49921405</td>\n",
       "      <td>797346</td>\n",
       "      <td>49884587</td>\n",
       "      <td>797179</td>\n",
       "      <td>36818</td>\n",
       "      <td>167</td>\n",
       "      <td>1.6</td>\n",
       "      <td>North America</td>\n",
       "    </tr>\n",
       "    <tr>\n",
       "      <th>1</th>\n",
       "      <td>India</td>\n",
       "      <td>34697860</td>\n",
       "      <td>475636</td>\n",
       "      <td>34690510</td>\n",
       "      <td>475434</td>\n",
       "      <td>7350</td>\n",
       "      <td>202</td>\n",
       "      <td>1.4</td>\n",
       "      <td>Asia</td>\n",
       "    </tr>\n",
       "    <tr>\n",
       "      <th>2</th>\n",
       "      <td>Brazil</td>\n",
       "      <td>22177059</td>\n",
       "      <td>616457</td>\n",
       "      <td>22177059</td>\n",
       "      <td>616457</td>\n",
       "      <td>0</td>\n",
       "      <td>0</td>\n",
       "      <td>2.8</td>\n",
       "      <td>South America</td>\n",
       "    </tr>\n",
       "    <tr>\n",
       "      <th>3</th>\n",
       "      <td>United Kingdom</td>\n",
       "      <td>10881189</td>\n",
       "      <td>146896</td>\n",
       "      <td>10833033</td>\n",
       "      <td>146844</td>\n",
       "      <td>48156</td>\n",
       "      <td>52</td>\n",
       "      <td>1.3</td>\n",
       "      <td>Europe</td>\n",
       "    </tr>\n",
       "    <tr>\n",
       "      <th>4</th>\n",
       "      <td>Russia</td>\n",
       "      <td>9842021</td>\n",
       "      <td>283815</td>\n",
       "      <td>9812538</td>\n",
       "      <td>282713</td>\n",
       "      <td>29483</td>\n",
       "      <td>1102</td>\n",
       "      <td>2.9</td>\n",
       "      <td>Europe</td>\n",
       "    </tr>\n",
       "  </tbody>\n",
       "</table>\n",
       "</div>"
      ],
      "text/plain": [
       "   Country/Region     Cases  Deaths    PCases  PDeaths  Cases (+)  Deaths (+)  \\\n",
       "0              US  49921405  797346  49884587   797179      36818         167   \n",
       "1           India  34697860  475636  34690510   475434       7350         202   \n",
       "2          Brazil  22177059  616457  22177059   616457          0           0   \n",
       "3  United Kingdom  10881189  146896  10833033   146844      48156          52   \n",
       "4          Russia   9842021  283815   9812538   282713      29483        1102   \n",
       "\n",
       "   Fatality Rate      Continent  \n",
       "0            1.6  North America  \n",
       "1            1.4           Asia  \n",
       "2            2.8  South America  \n",
       "3            1.3         Europe  \n",
       "4            2.9         Europe  "
      ]
     },
     "execution_count": 15,
     "metadata": {},
     "output_type": "execute_result"
    }
   ],
   "source": [
    "#hide\n",
    "df_table = (pd.DataFrame(dict(Cases=dfc_cases, Deaths=dfc_deaths, PCases=dfp_cases, PDeaths=dfp_deaths))\n",
    "             .sort_values(by=['Cases', 'Deaths'], ascending=[False, False])\n",
    "             .reset_index())\n",
    "df_table.rename(columns={'index': 'Country/Region'}, inplace=True)\n",
    "for c in 'Cases, Deaths'.split(', '):\n",
    "    df_table[f'{c} (+)'] = (df_table[c] - df_table[f'P{c}']).clip(0)  # DATA BUG\n",
    "df_table['Fatality Rate'] = (100 * df_table['Deaths'] / df_table['Cases']).round(1)\n",
    "df_table['Continent'] = df_table['Country/Region'].map(mapping['map.continent'])\n",
    "df_table.head(5)"
   ]
  },
  {
   "cell_type": "code",
   "execution_count": 16,
   "id": "fewer-occasion",
   "metadata": {
    "execution": {
     "iopub.execute_input": "2021-12-14T00:26:42.313264Z",
     "iopub.status.busy": "2021-12-14T00:26:42.312759Z",
     "iopub.status.idle": "2021-12-14T00:26:42.314790Z",
     "shell.execute_reply": "2021-12-14T00:26:42.315224Z"
    },
    "papermill": {
     "duration": 0.037276,
     "end_time": "2021-12-14T00:26:42.315337",
     "exception": false,
     "start_time": "2021-12-14T00:26:42.278061",
     "status": "completed"
    },
    "tags": []
   },
   "outputs": [],
   "source": [
    "#hide\n",
    "#delete problematic countries from table\n",
    "df_table = df_table[~df_table['Country/Region'].isin(['Cape Verde', 'Cruise Ship', 'Kosovo'])]"
   ]
  },
  {
   "cell_type": "code",
   "execution_count": 17,
   "id": "related-center",
   "metadata": {
    "execution": {
     "iopub.execute_input": "2021-12-14T00:26:42.393181Z",
     "iopub.status.busy": "2021-12-14T00:26:42.392649Z",
     "iopub.status.idle": "2021-12-14T00:26:42.394865Z",
     "shell.execute_reply": "2021-12-14T00:26:42.394353Z"
    },
    "papermill": {
     "duration": 0.04954,
     "end_time": "2021-12-14T00:26:42.394968",
     "exception": false,
     "start_time": "2021-12-14T00:26:42.345428",
     "status": "completed"
    },
    "tags": []
   },
   "outputs": [],
   "source": [
    "#hide\n",
    "metrics = [df_table.columns[index] for index in [1,2,5,6]]\n",
    "# s_china = df_table[df_table['Country/Region'].eq('China')][metrics].sum().add_prefix('China ')\n",
    "s_us = df_table[df_table['Country/Region'].eq('US')][metrics].sum().add_prefix('US ')\n",
    "s_eu = df_table[df_table['Continent'].eq('Europe')][metrics].sum().add_prefix('EU ')\n",
    "s_ind = df_table[df_table['Country/Region'].eq('India')][metrics].sum().add_prefix('India ')\n",
    "summary = {'updated': pd.to_datetime(dt_today), 'since': pd.to_datetime(dt_yday)}\n",
    "summary = {'updated': pd.to_datetime(dt_today), 'since': pd.to_datetime(dt_yday)}\n",
    "summary = {**summary, **df_table[metrics].sum(), **s_ind, **s_us, **s_eu}"
   ]
  },
  {
   "cell_type": "code",
   "execution_count": 18,
   "id": "engaging-syndrome",
   "metadata": {
    "execution": {
     "iopub.execute_input": "2021-12-14T00:26:42.459930Z",
     "iopub.status.busy": "2021-12-14T00:26:42.459418Z",
     "iopub.status.idle": "2021-12-14T00:26:42.472978Z",
     "shell.execute_reply": "2021-12-14T00:26:42.473414Z"
    },
    "papermill": {
     "duration": 0.048183,
     "end_time": "2021-12-14T00:26:42.473533",
     "exception": false,
     "start_time": "2021-12-14T00:26:42.425350",
     "status": "completed"
    },
    "tags": []
   },
   "outputs": [],
   "source": [
    "#hide\n",
    "dft_ct_new_cases = dft_cases.groupby(COL_REGION)[dt_cols].sum().diff(axis=1).fillna(0).astype(int)"
   ]
  },
  {
   "cell_type": "code",
   "execution_count": 19,
   "id": "neutral-assignment",
   "metadata": {
    "execution": {
     "iopub.execute_input": "2021-12-14T00:26:42.539165Z",
     "iopub.status.busy": "2021-12-14T00:26:42.538576Z",
     "iopub.status.idle": "2021-12-14T00:26:42.540720Z",
     "shell.execute_reply": "2021-12-14T00:26:42.540158Z"
    },
    "papermill": {
     "duration": 0.037026,
     "end_time": "2021-12-14T00:26:42.540834",
     "exception": false,
     "start_time": "2021-12-14T00:26:42.503808",
     "status": "completed"
    },
    "tags": []
   },
   "outputs": [],
   "source": [
    "#hide\n",
    "everydaycases = dft_ct_new_cases.cumsum(axis=1)"
   ]
  },
  {
   "cell_type": "code",
   "execution_count": 20,
   "id": "parliamentary-calgary",
   "metadata": {
    "execution": {
     "iopub.execute_input": "2021-12-14T00:26:42.606268Z",
     "iopub.status.busy": "2021-12-14T00:26:42.605713Z",
     "iopub.status.idle": "2021-12-14T00:26:43.369201Z",
     "shell.execute_reply": "2021-12-14T00:26:43.368673Z"
    },
    "papermill": {
     "duration": 0.797229,
     "end_time": "2021-12-14T00:26:43.369339",
     "exception": false,
     "start_time": "2021-12-14T00:26:42.572110",
     "status": "completed"
    },
    "tags": []
   },
   "outputs": [],
   "source": [
    "#hide\n",
    "import pandas as pd\n",
    "import matplotlib.pyplot as plt\n",
    "import matplotlib.ticker as ticker\n",
    "import matplotlib.animation as animation\n",
    "from IPython.display import HTML"
   ]
  },
  {
   "cell_type": "code",
   "execution_count": 21,
   "id": "lasting-extraction",
   "metadata": {
    "execution": {
     "iopub.execute_input": "2021-12-14T00:26:43.436351Z",
     "iopub.status.busy": "2021-12-14T00:26:43.435840Z",
     "iopub.status.idle": "2021-12-14T00:26:43.441468Z",
     "shell.execute_reply": "2021-12-14T00:26:43.441914Z"
    },
    "papermill": {
     "duration": 0.041463,
     "end_time": "2021-12-14T00:26:43.442036",
     "exception": false,
     "start_time": "2021-12-14T00:26:43.400573",
     "status": "completed"
    },
    "tags": []
   },
   "outputs": [],
   "source": [
    "#hide\n",
    "t = everydaycases.stack()"
   ]
  },
  {
   "cell_type": "code",
   "execution_count": 22,
   "id": "premier-sleeve",
   "metadata": {
    "execution": {
     "iopub.execute_input": "2021-12-14T00:26:43.506552Z",
     "iopub.status.busy": "2021-12-14T00:26:43.506000Z",
     "iopub.status.idle": "2021-12-14T00:26:43.515356Z",
     "shell.execute_reply": "2021-12-14T00:26:43.515831Z"
    },
    "papermill": {
     "duration": 0.043574,
     "end_time": "2021-12-14T00:26:43.515950",
     "exception": false,
     "start_time": "2021-12-14T00:26:43.472376",
     "status": "completed"
    },
    "tags": []
   },
   "outputs": [],
   "source": [
    "#hide\n",
    "g = t.reset_index(['Country/Region'])"
   ]
  },
  {
   "cell_type": "code",
   "execution_count": 23,
   "id": "distributed-pittsburgh",
   "metadata": {
    "execution": {
     "iopub.execute_input": "2021-12-14T00:26:43.580040Z",
     "iopub.status.busy": "2021-12-14T00:26:43.579526Z",
     "iopub.status.idle": "2021-12-14T00:26:43.581251Z",
     "shell.execute_reply": "2021-12-14T00:26:43.581640Z"
    },
    "papermill": {
     "duration": 0.03568,
     "end_time": "2021-12-14T00:26:43.581759",
     "exception": false,
     "start_time": "2021-12-14T00:26:43.546079",
     "status": "completed"
    },
    "tags": []
   },
   "outputs": [],
   "source": [
    "#hide\n",
    "g.index.name = 'date'"
   ]
  },
  {
   "cell_type": "code",
   "execution_count": 24,
   "id": "naked-donor",
   "metadata": {
    "execution": {
     "iopub.execute_input": "2021-12-14T00:26:43.645383Z",
     "iopub.status.busy": "2021-12-14T00:26:43.644792Z",
     "iopub.status.idle": "2021-12-14T00:26:43.647004Z",
     "shell.execute_reply": "2021-12-14T00:26:43.646433Z"
    },
    "papermill": {
     "duration": 0.035051,
     "end_time": "2021-12-14T00:26:43.647119",
     "exception": false,
     "start_time": "2021-12-14T00:26:43.612068",
     "status": "completed"
    },
    "tags": []
   },
   "outputs": [],
   "source": [
    "# #hide\n",
    "# g = g.reset_index(['date'])"
   ]
  },
  {
   "cell_type": "code",
   "execution_count": 25,
   "id": "incomplete-mustang",
   "metadata": {
    "execution": {
     "iopub.execute_input": "2021-12-14T00:26:43.711916Z",
     "iopub.status.busy": "2021-12-14T00:26:43.711306Z",
     "iopub.status.idle": "2021-12-14T00:26:43.713642Z",
     "shell.execute_reply": "2021-12-14T00:26:43.713233Z"
    },
    "papermill": {
     "duration": 0.035812,
     "end_time": "2021-12-14T00:26:43.713751",
     "exception": false,
     "start_time": "2021-12-14T00:26:43.677939",
     "status": "completed"
    },
    "tags": []
   },
   "outputs": [],
   "source": [
    "#hide\n",
    "# g.head()"
   ]
  },
  {
   "cell_type": "code",
   "execution_count": 26,
   "id": "specific-kruger",
   "metadata": {
    "execution": {
     "iopub.execute_input": "2021-12-14T00:26:43.778378Z",
     "iopub.status.busy": "2021-12-14T00:26:43.777723Z",
     "iopub.status.idle": "2021-12-14T00:26:43.779300Z",
     "shell.execute_reply": "2021-12-14T00:26:43.779741Z"
    },
    "papermill": {
     "duration": 0.035676,
     "end_time": "2021-12-14T00:26:43.779884",
     "exception": false,
     "start_time": "2021-12-14T00:26:43.744208",
     "status": "completed"
    },
    "tags": []
   },
   "outputs": [],
   "source": [
    "#hide\n",
    "# g.columns = ['date','country','cases']"
   ]
  },
  {
   "cell_type": "code",
   "execution_count": 27,
   "id": "tender-conversion",
   "metadata": {
    "execution": {
     "iopub.execute_input": "2021-12-14T00:26:43.844183Z",
     "iopub.status.busy": "2021-12-14T00:26:43.843608Z",
     "iopub.status.idle": "2021-12-14T00:26:43.845664Z",
     "shell.execute_reply": "2021-12-14T00:26:43.845170Z"
    },
    "papermill": {
     "duration": 0.035195,
     "end_time": "2021-12-14T00:26:43.845768",
     "exception": false,
     "start_time": "2021-12-14T00:26:43.810573",
     "status": "completed"
    },
    "tags": []
   },
   "outputs": [],
   "source": [
    "#hide\n",
    "# g['continent'] = g.country"
   ]
  },
  {
   "cell_type": "code",
   "execution_count": 28,
   "id": "substantial-wilderness",
   "metadata": {
    "execution": {
     "iopub.execute_input": "2021-12-14T00:26:43.910519Z",
     "iopub.status.busy": "2021-12-14T00:26:43.909690Z",
     "iopub.status.idle": "2021-12-14T00:26:43.911111Z",
     "shell.execute_reply": "2021-12-14T00:26:43.911669Z"
    },
    "papermill": {
     "duration": 0.035597,
     "end_time": "2021-12-14T00:26:43.911804",
     "exception": false,
     "start_time": "2021-12-14T00:26:43.876207",
     "status": "completed"
    },
    "tags": []
   },
   "outputs": [],
   "source": [
    "#hide\n",
    "# cols = list(g.columns.values)"
   ]
  },
  {
   "cell_type": "code",
   "execution_count": 29,
   "id": "solved-farming",
   "metadata": {
    "execution": {
     "iopub.execute_input": "2021-12-14T00:26:43.977437Z",
     "iopub.status.busy": "2021-12-14T00:26:43.976844Z",
     "iopub.status.idle": "2021-12-14T00:26:43.979031Z",
     "shell.execute_reply": "2021-12-14T00:26:43.978561Z"
    },
    "papermill": {
     "duration": 0.036203,
     "end_time": "2021-12-14T00:26:43.979150",
     "exception": false,
     "start_time": "2021-12-14T00:26:43.942947",
     "status": "completed"
    },
    "tags": []
   },
   "outputs": [],
   "source": [
    "#hide\n",
    "# cols.insert(0, cols.pop())"
   ]
  },
  {
   "cell_type": "code",
   "execution_count": 30,
   "id": "executed-adoption",
   "metadata": {
    "execution": {
     "iopub.execute_input": "2021-12-14T00:26:44.043643Z",
     "iopub.status.busy": "2021-12-14T00:26:44.043125Z",
     "iopub.status.idle": "2021-12-14T00:26:44.044862Z",
     "shell.execute_reply": "2021-12-14T00:26:44.045276Z"
    },
    "papermill": {
     "duration": 0.034949,
     "end_time": "2021-12-14T00:26:44.045395",
     "exception": false,
     "start_time": "2021-12-14T00:26:44.010446",
     "status": "completed"
    },
    "tags": []
   },
   "outputs": [],
   "source": [
    "#hide\n",
    "# g = g[cols]"
   ]
  },
  {
   "cell_type": "code",
   "execution_count": 31,
   "id": "subject-dublin",
   "metadata": {
    "execution": {
     "iopub.execute_input": "2021-12-14T00:26:44.108982Z",
     "iopub.status.busy": "2021-12-14T00:26:44.108400Z",
     "iopub.status.idle": "2021-12-14T00:26:44.110613Z",
     "shell.execute_reply": "2021-12-14T00:26:44.110115Z"
    },
    "papermill": {
     "duration": 0.035121,
     "end_time": "2021-12-14T00:26:44.110731",
     "exception": false,
     "start_time": "2021-12-14T00:26:44.075610",
     "status": "completed"
    },
    "tags": []
   },
   "outputs": [],
   "source": [
    "#hide\n",
    "# g['continent'] = g['continent'].map(mapping['map.continent'])"
   ]
  },
  {
   "cell_type": "code",
   "execution_count": 32,
   "id": "freelance-scout",
   "metadata": {
    "execution": {
     "iopub.execute_input": "2021-12-14T00:26:44.175644Z",
     "iopub.status.busy": "2021-12-14T00:26:44.175053Z",
     "iopub.status.idle": "2021-12-14T00:26:44.177127Z",
     "shell.execute_reply": "2021-12-14T00:26:44.176551Z"
    },
    "papermill": {
     "duration": 0.035234,
     "end_time": "2021-12-14T00:26:44.177242",
     "exception": false,
     "start_time": "2021-12-14T00:26:44.142008",
     "status": "completed"
    },
    "tags": []
   },
   "outputs": [],
   "source": [
    "#hide\n",
    "# g.head()"
   ]
  },
  {
   "cell_type": "code",
   "execution_count": 33,
   "id": "limited-engine",
   "metadata": {
    "execution": {
     "iopub.execute_input": "2021-12-14T00:26:44.241119Z",
     "iopub.status.busy": "2021-12-14T00:26:44.240529Z",
     "iopub.status.idle": "2021-12-14T00:26:44.242712Z",
     "shell.execute_reply": "2021-12-14T00:26:44.242236Z"
    },
    "papermill": {
     "duration": 0.035316,
     "end_time": "2021-12-14T00:26:44.242830",
     "exception": false,
     "start_time": "2021-12-14T00:26:44.207514",
     "status": "completed"
    },
    "tags": []
   },
   "outputs": [],
   "source": [
    "# hide\n",
    "# g['date'] = g['date'].astype('datetime64[ns]')"
   ]
  },
  {
   "cell_type": "code",
   "execution_count": 34,
   "id": "sophisticated-supervisor",
   "metadata": {
    "execution": {
     "iopub.execute_input": "2021-12-14T00:26:44.308102Z",
     "iopub.status.busy": "2021-12-14T00:26:44.307510Z",
     "iopub.status.idle": "2021-12-14T00:26:44.309616Z",
     "shell.execute_reply": "2021-12-14T00:26:44.309206Z"
    },
    "papermill": {
     "duration": 0.035641,
     "end_time": "2021-12-14T00:26:44.309722",
     "exception": false,
     "start_time": "2021-12-14T00:26:44.274081",
     "status": "completed"
    },
    "tags": []
   },
   "outputs": [],
   "source": [
    "#hide\n",
    "# g['date'] = g.date.dt.dayofyear"
   ]
  },
  {
   "cell_type": "code",
   "execution_count": 35,
   "id": "inside-dubai",
   "metadata": {
    "execution": {
     "iopub.execute_input": "2021-12-14T00:26:44.373446Z",
     "iopub.status.busy": "2021-12-14T00:26:44.372932Z",
     "iopub.status.idle": "2021-12-14T00:26:44.375367Z",
     "shell.execute_reply": "2021-12-14T00:26:44.374949Z"
    },
    "papermill": {
     "duration": 0.035481,
     "end_time": "2021-12-14T00:26:44.375471",
     "exception": false,
     "start_time": "2021-12-14T00:26:44.339990",
     "status": "completed"
    },
    "tags": []
   },
   "outputs": [],
   "source": [
    "#hide\n",
    "# g = g.rename(columns= {'continent':'group','country':'name','cases':'value'})"
   ]
  },
  {
   "cell_type": "code",
   "execution_count": 36,
   "id": "fleet-motorcycle",
   "metadata": {
    "execution": {
     "iopub.execute_input": "2021-12-14T00:26:44.439837Z",
     "iopub.status.busy": "2021-12-14T00:26:44.439247Z",
     "iopub.status.idle": "2021-12-14T00:26:44.441431Z",
     "shell.execute_reply": "2021-12-14T00:26:44.440873Z"
    },
    "papermill": {
     "duration": 0.035593,
     "end_time": "2021-12-14T00:26:44.441546",
     "exception": false,
     "start_time": "2021-12-14T00:26:44.405953",
     "status": "completed"
    },
    "tags": []
   },
   "outputs": [],
   "source": [
    "#hide\n",
    "# cols = ['name','group','day','value']"
   ]
  },
  {
   "cell_type": "code",
   "execution_count": 37,
   "id": "continued-sleeping",
   "metadata": {
    "execution": {
     "iopub.execute_input": "2021-12-14T00:26:44.505378Z",
     "iopub.status.busy": "2021-12-14T00:26:44.504790Z",
     "iopub.status.idle": "2021-12-14T00:26:44.506520Z",
     "shell.execute_reply": "2021-12-14T00:26:44.506965Z"
    },
    "papermill": {
     "duration": 0.03528,
     "end_time": "2021-12-14T00:26:44.507100",
     "exception": false,
     "start_time": "2021-12-14T00:26:44.471820",
     "status": "completed"
    },
    "tags": []
   },
   "outputs": [],
   "source": [
    "#hide\n",
    "# g.rename(columns= {'date':'day'},inplace = True)"
   ]
  },
  {
   "cell_type": "code",
   "execution_count": 38,
   "id": "major-fight",
   "metadata": {
    "execution": {
     "iopub.execute_input": "2021-12-14T00:26:44.571921Z",
     "iopub.status.busy": "2021-12-14T00:26:44.571321Z",
     "iopub.status.idle": "2021-12-14T00:26:44.573393Z",
     "shell.execute_reply": "2021-12-14T00:26:44.572823Z"
    },
    "papermill": {
     "duration": 0.035451,
     "end_time": "2021-12-14T00:26:44.573508",
     "exception": false,
     "start_time": "2021-12-14T00:26:44.538057",
     "status": "completed"
    },
    "tags": []
   },
   "outputs": [],
   "source": [
    "#hide\n",
    "# g = g[cols]"
   ]
  },
  {
   "cell_type": "code",
   "execution_count": 39,
   "id": "structured-mobile",
   "metadata": {
    "execution": {
     "iopub.execute_input": "2021-12-14T00:26:44.638364Z",
     "iopub.status.busy": "2021-12-14T00:26:44.637745Z",
     "iopub.status.idle": "2021-12-14T00:26:44.639958Z",
     "shell.execute_reply": "2021-12-14T00:26:44.639383Z"
    },
    "papermill": {
     "duration": 0.035327,
     "end_time": "2021-12-14T00:26:44.640073",
     "exception": false,
     "start_time": "2021-12-14T00:26:44.604746",
     "status": "completed"
    },
    "tags": []
   },
   "outputs": [],
   "source": [
    "# #hide\n",
    "# g = g[g.group.notna()]"
   ]
  },
  {
   "cell_type": "code",
   "execution_count": 40,
   "id": "determined-closing",
   "metadata": {
    "execution": {
     "iopub.execute_input": "2021-12-14T00:26:44.706062Z",
     "iopub.status.busy": "2021-12-14T00:26:44.705512Z",
     "iopub.status.idle": "2021-12-14T00:26:44.709014Z",
     "shell.execute_reply": "2021-12-14T00:26:44.708592Z"
    },
    "papermill": {
     "duration": 0.037537,
     "end_time": "2021-12-14T00:26:44.709125",
     "exception": false,
     "start_time": "2021-12-14T00:26:44.671588",
     "status": "completed"
    },
    "tags": []
   },
   "outputs": [],
   "source": [
    "# #hide\n",
    "# colors = dict(zip(\n",
    "#     [\"Oceania\", \"Europe\", \"Asia\", \"South America\", \"Middle East\", \"North America\", \"Africa\"],\n",
    "#     [\"#adb0ff\", \"#ffb3ff\", \"#90d595\", \"#e48381\", \"#aafbff\", \"#f7bb5f\", \"#eafb50\"]\n",
    "# ))\n",
    "# group_lk = g.set_index('name')['group'].to_dict()"
   ]
  },
  {
   "cell_type": "code",
   "execution_count": null,
   "id": "gross-drinking",
   "metadata": {
    "papermill": {
     "duration": 0.030268,
     "end_time": "2021-12-14T00:26:44.769852",
     "exception": false,
     "start_time": "2021-12-14T00:26:44.739584",
     "status": "completed"
    },
    "tags": []
   },
   "outputs": [],
   "source": []
  },
  {
   "cell_type": "code",
   "execution_count": 41,
   "id": "subject-macintosh",
   "metadata": {
    "execution": {
     "iopub.execute_input": "2021-12-14T00:26:44.834676Z",
     "iopub.status.busy": "2021-12-14T00:26:44.834106Z",
     "iopub.status.idle": "2021-12-14T00:26:44.836654Z",
     "shell.execute_reply": "2021-12-14T00:26:44.836235Z"
    },
    "papermill": {
     "duration": 0.036486,
     "end_time": "2021-12-14T00:26:44.836764",
     "exception": false,
     "start_time": "2021-12-14T00:26:44.800278",
     "status": "completed"
    },
    "tags": []
   },
   "outputs": [],
   "source": [
    "# #hide\n",
    "# fig, ax = plt.subplots(figsize=(15, 8))\n",
    "\n",
    "# def draw_barchart(current_day):\n",
    "#     dff = g[g['day'].eq(current_day)].sort_values(by='value', ascending=True).tail(10)\n",
    "#     ax.clear()\n",
    "#     ax.barh(dff['name'], dff['value'], color=[colors[group_lk[x]] for x in dff['name']])\n",
    "#     dx = dff['value'].max() / 200\n",
    "    \n",
    "#     for i, (value, name) in enumerate(zip(dff['value'], dff['name'])):\n",
    "#         ax.text(value-dx, i,     name,           size=14, weight=600, ha='right', va='bottom')\n",
    "#         ax.text(value-dx, i-.25, group_lk[name], size=10, color='#444444', ha='right', va='baseline')\n",
    "#         ax.text(value+dx, i,     f'{value:,.0f}',  size=14, ha='left',  va='center')\n",
    "#     ax.text(1, 0.4, current_day, transform=ax.transAxes, color='#777777', size=46, ha='right', weight=800)\n",
    "#     ax.text(0, 1.06, 'Population (thousands)', transform=ax.transAxes, size=12, color='#777777')\n",
    "#     ax.xaxis.set_major_formatter(ticker.StrMethodFormatter('{x:,.0f}'))\n",
    "#     ax.xaxis.set_ticks_position('top')\n",
    "#     ax.tick_params(axis='x', colors='#777777', labelsize=12)\n",
    "#     ax.set_yticks([])\n",
    "#     ax.margins(0, 0.01)\n",
    "#     ax.grid(which='major', axis='x', linestyle='-')\n",
    "#     ax.set_axisbelow(True)\n",
    "    \n",
    "#     ax.text(0, 1.15, 'Coronavirus',\n",
    "#             transform=ax.transAxes, size=24, weight=600, ha='left', va='top')\n",
    "# #     ax.text(1, 0, 'by @pratapvardhan; credit @jburnmurdoch', transform=ax.transAxes, color='#777777', ha='right',\n",
    "# #             bbox=dict(facecolor='white', alpha=0.8, edgecolor='white'))\n",
    "#     plt.box(False)"
   ]
  },
  {
   "cell_type": "code",
   "execution_count": 42,
   "id": "sexual-wages",
   "metadata": {
    "execution": {
     "iopub.execute_input": "2021-12-14T00:26:44.900714Z",
     "iopub.status.busy": "2021-12-14T00:26:44.900201Z",
     "iopub.status.idle": "2021-12-14T00:26:44.902103Z",
     "shell.execute_reply": "2021-12-14T00:26:44.902521Z"
    },
    "papermill": {
     "duration": 0.035541,
     "end_time": "2021-12-14T00:26:44.902646",
     "exception": false,
     "start_time": "2021-12-14T00:26:44.867105",
     "status": "completed"
    },
    "tags": []
   },
   "outputs": [],
   "source": [
    "# #hide_input\n",
    "# fig, ax = plt.subplots(figsize=(15, 8))\n",
    "# animator = animation.FuncAnimation(fig, draw_barchart, frames=range(g.day.values.min(), g.day.values.max()))\n",
    "# HTML(animator.to_jshtml())\n",
    "# # or use animator.to_html5_video() or animator.save() "
   ]
  },
  {
   "cell_type": "code",
   "execution_count": null,
   "id": "australian-container",
   "metadata": {
    "papermill": {
     "duration": 0.03019,
     "end_time": "2021-12-14T00:26:44.963235",
     "exception": false,
     "start_time": "2021-12-14T00:26:44.933045",
     "status": "completed"
    },
    "tags": []
   },
   "outputs": [],
   "source": []
  },
  {
   "cell_type": "code",
   "execution_count": null,
   "id": "mediterranean-pontiac",
   "metadata": {
    "papermill": {
     "duration": 0.030144,
     "end_time": "2021-12-14T00:26:45.023459",
     "exception": false,
     "start_time": "2021-12-14T00:26:44.993315",
     "status": "completed"
    },
    "tags": []
   },
   "outputs": [],
   "source": []
  },
  {
   "cell_type": "code",
   "execution_count": null,
   "id": "aging-legislature",
   "metadata": {
    "papermill": {
     "duration": 0.03015,
     "end_time": "2021-12-14T00:26:45.083924",
     "exception": false,
     "start_time": "2021-12-14T00:26:45.053774",
     "status": "completed"
    },
    "tags": []
   },
   "outputs": [],
   "source": []
  }
 ],
 "metadata": {
  "kernelspec": {
   "display_name": "Python 3",
   "language": "python",
   "name": "python3"
  },
  "language_info": {
   "codemirror_mode": {
    "name": "ipython",
    "version": 3
   },
   "file_extension": ".py",
   "mimetype": "text/x-python",
   "name": "python",
   "nbconvert_exporter": "python",
   "pygments_lexer": "ipython3",
   "version": "3.6.15"
  },
  "papermill": {
   "duration": 6.150421,
   "end_time": "2021-12-14T00:26:45.422945",
   "environment_variables": {},
   "exception": null,
   "input_path": "2020-03-21-covid19exp.ipynb",
   "output_path": "2020-03-21-covid19exp.ipynb",
   "parameters": {},
   "start_time": "2021-12-14T00:26:39.272524",
   "version": "2.0.0"
  }
 },
 "nbformat": 4,
 "nbformat_minor": 5
}