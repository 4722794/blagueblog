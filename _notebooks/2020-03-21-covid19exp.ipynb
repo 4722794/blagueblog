{
 "cells": [
  {
   "cell_type": "markdown",
   "id": "muslim-click",
   "metadata": {
    "papermill": {
     "duration": 0.037107,
     "end_time": "2021-06-15T00:20:49.482913",
     "exception": false,
     "start_time": "2021-06-15T00:20:49.445806",
     "status": "completed"
    },
    "tags": []
   },
   "source": [
    "# COVID-19 Case Race\n",
    "> A race chart to see rising cases around the world\n",
    "\n",
    "- author: Hargun Oberoi\n",
    "- image: images/covid-overview.png\n",
    "- hide: false\n",
    "- badges: false"
   ]
  },
  {
   "cell_type": "code",
   "execution_count": 1,
   "id": "proof-material",
   "metadata": {
    "execution": {
     "iopub.execute_input": "2021-06-15T00:20:49.553253Z",
     "iopub.status.busy": "2021-06-15T00:20:49.552582Z",
     "iopub.status.idle": "2021-06-15T00:20:49.908876Z",
     "shell.execute_reply": "2021-06-15T00:20:49.907849Z"
    },
    "papermill": {
     "duration": 0.395157,
     "end_time": "2021-06-15T00:20:49.909128",
     "exception": false,
     "start_time": "2021-06-15T00:20:49.513971",
     "status": "completed"
    },
    "tags": []
   },
   "outputs": [],
   "source": [
    "#hide\n",
    "import numpy as np\n",
    "import pandas as pd\n",
    "from jinja2 import Template\n",
    "from IPython.display import HTML"
   ]
  },
  {
   "cell_type": "code",
   "execution_count": 2,
   "id": "developed-terminology",
   "metadata": {
    "execution": {
     "iopub.execute_input": "2021-06-15T00:20:49.981110Z",
     "iopub.status.busy": "2021-06-15T00:20:49.980474Z",
     "iopub.status.idle": "2021-06-15T00:20:49.982912Z",
     "shell.execute_reply": "2021-06-15T00:20:49.983491Z"
    },
    "papermill": {
     "duration": 0.04069,
     "end_time": "2021-06-15T00:20:49.983627",
     "exception": false,
     "start_time": "2021-06-15T00:20:49.942937",
     "status": "completed"
    },
    "tags": []
   },
   "outputs": [],
   "source": [
    "#hide\n",
    "\n",
    "# FETCH\n",
    "base_url = 'https://raw.githubusercontent.com/pratapvardhan/notebooks/master/covid19/'\n",
    "paths = {\n",
    "    'mapping': base_url + 'mapping_countries.csv',\n",
    "    'overview': base_url + 'overview.tpl'\n",
    "}"
   ]
  },
  {
   "cell_type": "code",
   "execution_count": 3,
   "id": "dynamic-saver",
   "metadata": {
    "execution": {
     "iopub.execute_input": "2021-06-15T00:20:50.054864Z",
     "iopub.status.busy": "2021-06-15T00:20:50.054301Z",
     "iopub.status.idle": "2021-06-15T00:20:50.057465Z",
     "shell.execute_reply": "2021-06-15T00:20:50.056913Z"
    },
    "papermill": {
     "duration": 0.043897,
     "end_time": "2021-06-15T00:20:50.057577",
     "exception": false,
     "start_time": "2021-06-15T00:20:50.013680",
     "status": "completed"
    },
    "tags": []
   },
   "outputs": [
    {
     "data": {
      "text/plain": [
       "'https://raw.githubusercontent.com/pratapvardhan/notebooks/master/covid19/mapping_countries.csv'"
      ]
     },
     "execution_count": 3,
     "metadata": {},
     "output_type": "execute_result"
    }
   ],
   "source": [
    "#hide\n",
    "paths['mapping']"
   ]
  },
  {
   "cell_type": "code",
   "execution_count": 4,
   "id": "urban-software",
   "metadata": {
    "execution": {
     "iopub.execute_input": "2021-06-15T00:20:50.131107Z",
     "iopub.status.busy": "2021-06-15T00:20:50.130541Z",
     "iopub.status.idle": "2021-06-15T00:20:50.133440Z",
     "shell.execute_reply": "2021-06-15T00:20:50.134002Z"
    },
    "papermill": {
     "duration": 0.043541,
     "end_time": "2021-06-15T00:20:50.134134",
     "exception": false,
     "start_time": "2021-06-15T00:20:50.090593",
     "status": "completed"
    },
    "tags": []
   },
   "outputs": [],
   "source": [
    "#hide\n",
    "def get_mappings(url):\n",
    "    df = pd.read_csv(url)\n",
    "    return {\n",
    "        'df': df,\n",
    "        'replace.country': dict(df.dropna(subset=['Name']).set_index('Country')['Name']),\n",
    "        'map.continent': dict(df.set_index('Name')['Continent'])\n",
    "    }"
   ]
  },
  {
   "cell_type": "code",
   "execution_count": 5,
   "id": "intimate-machinery",
   "metadata": {
    "execution": {
     "iopub.execute_input": "2021-06-15T00:20:50.206246Z",
     "iopub.status.busy": "2021-06-15T00:20:50.205659Z",
     "iopub.status.idle": "2021-06-15T00:20:50.235131Z",
     "shell.execute_reply": "2021-06-15T00:20:50.235655Z"
    },
    "papermill": {
     "duration": 0.069232,
     "end_time": "2021-06-15T00:20:50.235802",
     "exception": false,
     "start_time": "2021-06-15T00:20:50.166570",
     "status": "completed"
    },
    "tags": []
   },
   "outputs": [],
   "source": [
    "#hide\n",
    "mapping = get_mappings(paths['mapping'])"
   ]
  },
  {
   "cell_type": "code",
   "execution_count": 6,
   "id": "certified-tactics",
   "metadata": {
    "execution": {
     "iopub.execute_input": "2021-06-15T00:20:50.309093Z",
     "iopub.status.busy": "2021-06-15T00:20:50.307993Z",
     "iopub.status.idle": "2021-06-15T00:20:50.310199Z",
     "shell.execute_reply": "2021-06-15T00:20:50.311009Z"
    },
    "papermill": {
     "duration": 0.043011,
     "end_time": "2021-06-15T00:20:50.311233",
     "exception": false,
     "start_time": "2021-06-15T00:20:50.268222",
     "status": "completed"
    },
    "tags": []
   },
   "outputs": [],
   "source": [
    "#hide\n",
    "def get_template(path):\n",
    "    from urllib.parse import urlparse\n",
    "    if bool(urlparse(path).netloc):\n",
    "        from urllib.request import urlopen\n",
    "        return urlopen(path).read().decode('utf8')\n",
    "    return open(path).read()"
   ]
  },
  {
   "cell_type": "code",
   "execution_count": 7,
   "id": "realistic-blast",
   "metadata": {
    "execution": {
     "iopub.execute_input": "2021-06-15T00:20:50.386550Z",
     "iopub.status.busy": "2021-06-15T00:20:50.385958Z",
     "iopub.status.idle": "2021-06-15T00:20:50.388336Z",
     "shell.execute_reply": "2021-06-15T00:20:50.388903Z"
    },
    "papermill": {
     "duration": 0.042365,
     "end_time": "2021-06-15T00:20:50.389068",
     "exception": false,
     "start_time": "2021-06-15T00:20:50.346703",
     "status": "completed"
    },
    "tags": []
   },
   "outputs": [],
   "source": [
    "#hide\n",
    "def get_frame(name):\n",
    "    url = (\n",
    "        'https://raw.githubusercontent.com/CSSEGISandData/COVID-19/master/csse_covid_19_data/'\n",
    "        f'csse_covid_19_time_series/time_series_covid19_{name}_global.csv')\n",
    "    df = pd.read_csv(url)\n",
    "    # rename countries\n",
    "    df['Country/Region'] = df['Country/Region'].replace(mapping['replace.country'])\n",
    "    return df"
   ]
  },
  {
   "cell_type": "code",
   "execution_count": 8,
   "id": "affiliated-characterization",
   "metadata": {
    "execution": {
     "iopub.execute_input": "2021-06-15T00:20:50.462743Z",
     "iopub.status.busy": "2021-06-15T00:20:50.462149Z",
     "iopub.status.idle": "2021-06-15T00:20:50.463886Z",
     "shell.execute_reply": "2021-06-15T00:20:50.464426Z"
    },
    "papermill": {
     "duration": 0.04292,
     "end_time": "2021-06-15T00:20:50.464559",
     "exception": false,
     "start_time": "2021-06-15T00:20:50.421639",
     "status": "completed"
    },
    "tags": []
   },
   "outputs": [],
   "source": [
    "#hide\n",
    "def get_dates(df):\n",
    "    dt_cols = df.columns[~df.columns.isin(['Province/State', 'Country/Region', 'Lat', 'Long'])]\n",
    "    LAST_DATE_I = -1\n",
    "    # sometimes last column may be empty, then go backwards\n",
    "    for i in range(-1, -len(dt_cols), -1):\n",
    "        if not df[dt_cols[i]].fillna(0).eq(0).all():\n",
    "            LAST_DATE_I = i\n",
    "            break\n",
    "    return LAST_DATE_I, dt_cols"
   ]
  },
  {
   "cell_type": "code",
   "execution_count": 9,
   "id": "recent-optimization",
   "metadata": {
    "execution": {
     "iopub.execute_input": "2021-06-15T00:20:50.535570Z",
     "iopub.status.busy": "2021-06-15T00:20:50.534957Z",
     "iopub.status.idle": "2021-06-15T00:20:50.817964Z",
     "shell.execute_reply": "2021-06-15T00:20:50.817361Z"
    },
    "papermill": {
     "duration": 0.320158,
     "end_time": "2021-06-15T00:20:50.818096",
     "exception": false,
     "start_time": "2021-06-15T00:20:50.497938",
     "status": "completed"
    },
    "tags": []
   },
   "outputs": [],
   "source": [
    "#hide\n",
    "COL_REGION = 'Country/Region'\n",
    "# Confirmed, Recovered, Deaths\n",
    "df = get_frame('confirmed')\n",
    "# dft_: timeseries, dfc_: today country agg\n",
    "dft_cases = df\n",
    "dft_deaths = get_frame('deaths')\n",
    "dft_recovered = get_frame('recovered')\n",
    "LAST_DATE_I, dt_cols = get_dates(df)"
   ]
  },
  {
   "cell_type": "code",
   "execution_count": 10,
   "id": "absolute-copper",
   "metadata": {
    "execution": {
     "iopub.execute_input": "2021-06-15T00:20:50.890865Z",
     "iopub.status.busy": "2021-06-15T00:20:50.890362Z",
     "iopub.status.idle": "2021-06-15T00:20:50.892695Z",
     "shell.execute_reply": "2021-06-15T00:20:50.892225Z"
    },
    "papermill": {
     "duration": 0.042459,
     "end_time": "2021-06-15T00:20:50.892851",
     "exception": false,
     "start_time": "2021-06-15T00:20:50.850392",
     "status": "completed"
    },
    "tags": []
   },
   "outputs": [],
   "source": [
    "#hide\n",
    "LAST_DATE_I, dt_cols = get_dates(df)\n",
    "dt_today =dt_cols[LAST_DATE_I]\n",
    "# dt_5day = dt_cols[LAST_DATE_I - 5]\n",
    "dt_yday = dt_cols[LAST_DATE_I - 1]"
   ]
  },
  {
   "cell_type": "code",
   "execution_count": 11,
   "id": "restricted-sheriff",
   "metadata": {
    "execution": {
     "iopub.execute_input": "2021-06-15T00:20:50.962887Z",
     "iopub.status.busy": "2021-06-15T00:20:50.962303Z",
     "iopub.status.idle": "2021-06-15T00:20:50.970576Z",
     "shell.execute_reply": "2021-06-15T00:20:50.970093Z"
    },
    "papermill": {
     "duration": 0.046233,
     "end_time": "2021-06-15T00:20:50.970701",
     "exception": false,
     "start_time": "2021-06-15T00:20:50.924468",
     "status": "completed"
    },
    "tags": []
   },
   "outputs": [],
   "source": [
    "#hide\n",
    "dfc_cases = dft_cases.groupby(COL_REGION)[dt_today].sum()\n",
    "dfc_deaths = dft_deaths.groupby(COL_REGION)[dt_today].sum()\n",
    "# dfp_cases = dft_cases.groupby(COL_REGION)[dt_5day].sum()\n",
    "# dfp_deaths = dft_deaths.groupby(COL_REGION)[dt_5day].sum()\n",
    "dfp_cases = dft_cases.groupby(COL_REGION)[dt_yday].sum()\n",
    "dfp_deaths = dft_deaths.groupby(COL_REGION)[dt_yday].sum()"
   ]
  },
  {
   "cell_type": "code",
   "execution_count": 12,
   "id": "deluxe-hepatitis",
   "metadata": {
    "execution": {
     "iopub.execute_input": "2021-06-15T00:20:51.040399Z",
     "iopub.status.busy": "2021-06-15T00:20:51.039798Z",
     "iopub.status.idle": "2021-06-15T00:20:51.044870Z",
     "shell.execute_reply": "2021-06-15T00:20:51.044347Z"
    },
    "papermill": {
     "duration": 0.043102,
     "end_time": "2021-06-15T00:20:51.044991",
     "exception": false,
     "start_time": "2021-06-15T00:20:51.001889",
     "status": "completed"
    },
    "tags": []
   },
   "outputs": [],
   "source": [
    "#hide\n",
    "df_table = (pd.DataFrame(dict(Cases = dfc_cases, Deaths = dfc_deaths, PCases = dfp_cases, PDeaths = dfp_deaths))\n",
    "            .sort_values(by = ['Cases','Deaths'], ascending = [False, False])\n",
    "            .reset_index())"
   ]
  },
  {
   "cell_type": "code",
   "execution_count": 13,
   "id": "educational-chancellor",
   "metadata": {
    "execution": {
     "iopub.execute_input": "2021-06-15T00:20:51.127887Z",
     "iopub.status.busy": "2021-06-15T00:20:51.127334Z",
     "iopub.status.idle": "2021-06-15T00:20:51.139617Z",
     "shell.execute_reply": "2021-06-15T00:20:51.139135Z"
    },
    "papermill": {
     "duration": 0.061954,
     "end_time": "2021-06-15T00:20:51.139744",
     "exception": false,
     "start_time": "2021-06-15T00:20:51.077790",
     "status": "completed"
    },
    "tags": []
   },
   "outputs": [
    {
     "data": {
      "text/html": [
       "<div>\n",
       "<style scoped>\n",
       "    .dataframe tbody tr th:only-of-type {\n",
       "        vertical-align: middle;\n",
       "    }\n",
       "\n",
       "    .dataframe tbody tr th {\n",
       "        vertical-align: top;\n",
       "    }\n",
       "\n",
       "    .dataframe thead th {\n",
       "        text-align: right;\n",
       "    }\n",
       "</style>\n",
       "<table border=\"1\" class=\"dataframe\">\n",
       "  <thead>\n",
       "    <tr style=\"text-align: right;\">\n",
       "      <th></th>\n",
       "      <th>Country/Region</th>\n",
       "      <th>Cases</th>\n",
       "      <th>Deaths</th>\n",
       "      <th>PCases</th>\n",
       "      <th>PDeaths</th>\n",
       "      <th>Cases (+)</th>\n",
       "      <th>Deaths (+)</th>\n",
       "      <th>Fatality Rate</th>\n",
       "      <th>Continent</th>\n",
       "    </tr>\n",
       "  </thead>\n",
       "  <tbody>\n",
       "    <tr>\n",
       "      <th>0</th>\n",
       "      <td>US</td>\n",
       "      <td>33461982</td>\n",
       "      <td>599775</td>\n",
       "      <td>33457407</td>\n",
       "      <td>599664</td>\n",
       "      <td>4575</td>\n",
       "      <td>111</td>\n",
       "      <td>1.79</td>\n",
       "      <td>North America</td>\n",
       "    </tr>\n",
       "    <tr>\n",
       "      <th>1</th>\n",
       "      <td>India</td>\n",
       "      <td>29510410</td>\n",
       "      <td>374305</td>\n",
       "      <td>29439989</td>\n",
       "      <td>370384</td>\n",
       "      <td>70421</td>\n",
       "      <td>3921</td>\n",
       "      <td>1.27</td>\n",
       "      <td>Asia</td>\n",
       "    </tr>\n",
       "    <tr>\n",
       "      <th>2</th>\n",
       "      <td>Brazil</td>\n",
       "      <td>17412766</td>\n",
       "      <td>487401</td>\n",
       "      <td>17374818</td>\n",
       "      <td>486272</td>\n",
       "      <td>37948</td>\n",
       "      <td>1129</td>\n",
       "      <td>2.80</td>\n",
       "      <td>South America</td>\n",
       "    </tr>\n",
       "    <tr>\n",
       "      <th>3</th>\n",
       "      <td>France</td>\n",
       "      <td>5802314</td>\n",
       "      <td>110553</td>\n",
       "      <td>5799459</td>\n",
       "      <td>110540</td>\n",
       "      <td>2855</td>\n",
       "      <td>13</td>\n",
       "      <td>1.91</td>\n",
       "      <td>Europe</td>\n",
       "    </tr>\n",
       "    <tr>\n",
       "      <th>4</th>\n",
       "      <td>Turkey</td>\n",
       "      <td>5330447</td>\n",
       "      <td>48721</td>\n",
       "      <td>5325435</td>\n",
       "      <td>48668</td>\n",
       "      <td>5012</td>\n",
       "      <td>53</td>\n",
       "      <td>0.91</td>\n",
       "      <td>Asia</td>\n",
       "    </tr>\n",
       "  </tbody>\n",
       "</table>\n",
       "</div>"
      ],
      "text/plain": [
       "  Country/Region     Cases  Deaths    PCases  PDeaths  Cases (+)  Deaths (+)  \\\n",
       "0             US  33461982  599775  33457407   599664       4575         111   \n",
       "1          India  29510410  374305  29439989   370384      70421        3921   \n",
       "2         Brazil  17412766  487401  17374818   486272      37948        1129   \n",
       "3         France   5802314  110553   5799459   110540       2855          13   \n",
       "4         Turkey   5330447   48721   5325435    48668       5012          53   \n",
       "\n",
       "   Fatality Rate      Continent  \n",
       "0           1.79  North America  \n",
       "1           1.27           Asia  \n",
       "2           2.80  South America  \n",
       "3           1.91         Europe  \n",
       "4           0.91           Asia  "
      ]
     },
     "execution_count": 13,
     "metadata": {},
     "output_type": "execute_result"
    }
   ],
   "source": [
    "#hide\n",
    "for c in 'Cases, Deaths'.split(', '):\n",
    "    df_table[f'{c} (+)'] = (df_table[c] - df_table[f'P{c}']).clip(0)\n",
    "    #Clip ça veut dire, les chiffres negatif sont interdit\n",
    "df_table['Fatality Rate'] = (100* df_table['Deaths']/ df_table['Cases']).round(2)\n",
    "df_table['Continent'] = df_table['Country/Region'].map(mapping['map.continent'])\n",
    "df_table.head(5)"
   ]
  },
  {
   "cell_type": "code",
   "execution_count": 14,
   "id": "aboriginal-bulgaria",
   "metadata": {
    "execution": {
     "iopub.execute_input": "2021-06-15T00:20:51.210740Z",
     "iopub.status.busy": "2021-06-15T00:20:51.210160Z",
     "iopub.status.idle": "2021-06-15T00:20:51.214317Z",
     "shell.execute_reply": "2021-06-15T00:20:51.213843Z"
    },
    "papermill": {
     "duration": 0.042127,
     "end_time": "2021-06-15T00:20:51.214433",
     "exception": false,
     "start_time": "2021-06-15T00:20:51.172306",
     "status": "completed"
    },
    "tags": []
   },
   "outputs": [],
   "source": [
    "#hide\n",
    "#delete problematic countries from table\n",
    "df_table = df_table[~df_table['Country/Region'].isin(['Cape Verde', 'Cruise Ship', 'Kosovo'])]"
   ]
  },
  {
   "cell_type": "code",
   "execution_count": 15,
   "id": "fantastic-effect",
   "metadata": {
    "execution": {
     "iopub.execute_input": "2021-06-15T00:20:51.287312Z",
     "iopub.status.busy": "2021-06-15T00:20:51.286726Z",
     "iopub.status.idle": "2021-06-15T00:20:51.305752Z",
     "shell.execute_reply": "2021-06-15T00:20:51.305289Z"
    },
    "papermill": {
     "duration": 0.059749,
     "end_time": "2021-06-15T00:20:51.305865",
     "exception": false,
     "start_time": "2021-06-15T00:20:51.246116",
     "status": "completed"
    },
    "tags": []
   },
   "outputs": [
    {
     "data": {
      "text/html": [
       "<div>\n",
       "<style scoped>\n",
       "    .dataframe tbody tr th:only-of-type {\n",
       "        vertical-align: middle;\n",
       "    }\n",
       "\n",
       "    .dataframe tbody tr th {\n",
       "        vertical-align: top;\n",
       "    }\n",
       "\n",
       "    .dataframe thead th {\n",
       "        text-align: right;\n",
       "    }\n",
       "</style>\n",
       "<table border=\"1\" class=\"dataframe\">\n",
       "  <thead>\n",
       "    <tr style=\"text-align: right;\">\n",
       "      <th></th>\n",
       "      <th>Country/Region</th>\n",
       "      <th>Cases</th>\n",
       "      <th>Deaths</th>\n",
       "      <th>PCases</th>\n",
       "      <th>PDeaths</th>\n",
       "      <th>Cases (+)</th>\n",
       "      <th>Deaths (+)</th>\n",
       "      <th>Fatality Rate</th>\n",
       "      <th>Continent</th>\n",
       "    </tr>\n",
       "  </thead>\n",
       "  <tbody>\n",
       "    <tr>\n",
       "      <th>0</th>\n",
       "      <td>US</td>\n",
       "      <td>33461982</td>\n",
       "      <td>599775</td>\n",
       "      <td>33457407</td>\n",
       "      <td>599664</td>\n",
       "      <td>4575</td>\n",
       "      <td>111</td>\n",
       "      <td>1.8</td>\n",
       "      <td>North America</td>\n",
       "    </tr>\n",
       "    <tr>\n",
       "      <th>1</th>\n",
       "      <td>India</td>\n",
       "      <td>29510410</td>\n",
       "      <td>374305</td>\n",
       "      <td>29439989</td>\n",
       "      <td>370384</td>\n",
       "      <td>70421</td>\n",
       "      <td>3921</td>\n",
       "      <td>1.3</td>\n",
       "      <td>Asia</td>\n",
       "    </tr>\n",
       "    <tr>\n",
       "      <th>2</th>\n",
       "      <td>Brazil</td>\n",
       "      <td>17412766</td>\n",
       "      <td>487401</td>\n",
       "      <td>17374818</td>\n",
       "      <td>486272</td>\n",
       "      <td>37948</td>\n",
       "      <td>1129</td>\n",
       "      <td>2.8</td>\n",
       "      <td>South America</td>\n",
       "    </tr>\n",
       "    <tr>\n",
       "      <th>3</th>\n",
       "      <td>France</td>\n",
       "      <td>5802314</td>\n",
       "      <td>110553</td>\n",
       "      <td>5799459</td>\n",
       "      <td>110540</td>\n",
       "      <td>2855</td>\n",
       "      <td>13</td>\n",
       "      <td>1.9</td>\n",
       "      <td>Europe</td>\n",
       "    </tr>\n",
       "    <tr>\n",
       "      <th>4</th>\n",
       "      <td>Turkey</td>\n",
       "      <td>5330447</td>\n",
       "      <td>48721</td>\n",
       "      <td>5325435</td>\n",
       "      <td>48668</td>\n",
       "      <td>5012</td>\n",
       "      <td>53</td>\n",
       "      <td>0.9</td>\n",
       "      <td>Asia</td>\n",
       "    </tr>\n",
       "  </tbody>\n",
       "</table>\n",
       "</div>"
      ],
      "text/plain": [
       "  Country/Region     Cases  Deaths    PCases  PDeaths  Cases (+)  Deaths (+)  \\\n",
       "0             US  33461982  599775  33457407   599664       4575         111   \n",
       "1          India  29510410  374305  29439989   370384      70421        3921   \n",
       "2         Brazil  17412766  487401  17374818   486272      37948        1129   \n",
       "3         France   5802314  110553   5799459   110540       2855          13   \n",
       "4         Turkey   5330447   48721   5325435    48668       5012          53   \n",
       "\n",
       "   Fatality Rate      Continent  \n",
       "0            1.8  North America  \n",
       "1            1.3           Asia  \n",
       "2            2.8  South America  \n",
       "3            1.9         Europe  \n",
       "4            0.9           Asia  "
      ]
     },
     "execution_count": 15,
     "metadata": {},
     "output_type": "execute_result"
    }
   ],
   "source": [
    "#hide\n",
    "df_table = (pd.DataFrame(dict(Cases=dfc_cases, Deaths=dfc_deaths, PCases=dfp_cases, PDeaths=dfp_deaths))\n",
    "             .sort_values(by=['Cases', 'Deaths'], ascending=[False, False])\n",
    "             .reset_index())\n",
    "df_table.rename(columns={'index': 'Country/Region'}, inplace=True)\n",
    "for c in 'Cases, Deaths'.split(', '):\n",
    "    df_table[f'{c} (+)'] = (df_table[c] - df_table[f'P{c}']).clip(0)  # DATA BUG\n",
    "df_table['Fatality Rate'] = (100 * df_table['Deaths'] / df_table['Cases']).round(1)\n",
    "df_table['Continent'] = df_table['Country/Region'].map(mapping['map.continent'])\n",
    "df_table.head(5)"
   ]
  },
  {
   "cell_type": "code",
   "execution_count": 16,
   "id": "fewer-occasion",
   "metadata": {
    "execution": {
     "iopub.execute_input": "2021-06-15T00:20:51.376762Z",
     "iopub.status.busy": "2021-06-15T00:20:51.376181Z",
     "iopub.status.idle": "2021-06-15T00:20:51.378059Z",
     "shell.execute_reply": "2021-06-15T00:20:51.378572Z"
    },
    "papermill": {
     "duration": 0.040699,
     "end_time": "2021-06-15T00:20:51.378696",
     "exception": false,
     "start_time": "2021-06-15T00:20:51.337997",
     "status": "completed"
    },
    "tags": []
   },
   "outputs": [],
   "source": [
    "#hide\n",
    "#delete problematic countries from table\n",
    "df_table = df_table[~df_table['Country/Region'].isin(['Cape Verde', 'Cruise Ship', 'Kosovo'])]"
   ]
  },
  {
   "cell_type": "code",
   "execution_count": 17,
   "id": "related-center",
   "metadata": {
    "execution": {
     "iopub.execute_input": "2021-06-15T00:20:51.462721Z",
     "iopub.status.busy": "2021-06-15T00:20:51.462129Z",
     "iopub.status.idle": "2021-06-15T00:20:51.465019Z",
     "shell.execute_reply": "2021-06-15T00:20:51.464533Z"
    },
    "papermill": {
     "duration": 0.053492,
     "end_time": "2021-06-15T00:20:51.465168",
     "exception": false,
     "start_time": "2021-06-15T00:20:51.411676",
     "status": "completed"
    },
    "tags": []
   },
   "outputs": [],
   "source": [
    "#hide\n",
    "metrics = [df_table.columns[index] for index in [1,2,5,6]]\n",
    "# s_china = df_table[df_table['Country/Region'].eq('China')][metrics].sum().add_prefix('China ')\n",
    "s_us = df_table[df_table['Country/Region'].eq('US')][metrics].sum().add_prefix('US ')\n",
    "s_eu = df_table[df_table['Continent'].eq('Europe')][metrics].sum().add_prefix('EU ')\n",
    "s_ind = df_table[df_table['Country/Region'].eq('India')][metrics].sum().add_prefix('India ')\n",
    "summary = {'updated': pd.to_datetime(dt_today), 'since': pd.to_datetime(dt_yday)}\n",
    "summary = {'updated': pd.to_datetime(dt_today), 'since': pd.to_datetime(dt_yday)}\n",
    "summary = {**summary, **df_table[metrics].sum(), **s_ind, **s_us, **s_eu}"
   ]
  },
  {
   "cell_type": "code",
   "execution_count": 18,
   "id": "engaging-syndrome",
   "metadata": {
    "execution": {
     "iopub.execute_input": "2021-06-15T00:20:51.536910Z",
     "iopub.status.busy": "2021-06-15T00:20:51.536335Z",
     "iopub.status.idle": "2021-06-15T00:20:51.550421Z",
     "shell.execute_reply": "2021-06-15T00:20:51.549956Z"
    },
    "papermill": {
     "duration": 0.053476,
     "end_time": "2021-06-15T00:20:51.550531",
     "exception": false,
     "start_time": "2021-06-15T00:20:51.497055",
     "status": "completed"
    },
    "tags": []
   },
   "outputs": [],
   "source": [
    "#hide\n",
    "dft_ct_new_cases = dft_cases.groupby(COL_REGION)[dt_cols].sum().diff(axis=1).fillna(0).astype(int)"
   ]
  },
  {
   "cell_type": "code",
   "execution_count": 19,
   "id": "neutral-assignment",
   "metadata": {
    "execution": {
     "iopub.execute_input": "2021-06-15T00:20:51.622226Z",
     "iopub.status.busy": "2021-06-15T00:20:51.621748Z",
     "iopub.status.idle": "2021-06-15T00:20:51.623940Z",
     "shell.execute_reply": "2021-06-15T00:20:51.623462Z"
    },
    "papermill": {
     "duration": 0.040797,
     "end_time": "2021-06-15T00:20:51.624060",
     "exception": false,
     "start_time": "2021-06-15T00:20:51.583263",
     "status": "completed"
    },
    "tags": []
   },
   "outputs": [],
   "source": [
    "#hide\n",
    "everydaycases = dft_ct_new_cases.cumsum(axis=1)"
   ]
  },
  {
   "cell_type": "code",
   "execution_count": 20,
   "id": "parliamentary-calgary",
   "metadata": {
    "execution": {
     "iopub.execute_input": "2021-06-15T00:20:51.693245Z",
     "iopub.status.busy": "2021-06-15T00:20:51.692737Z",
     "iopub.status.idle": "2021-06-15T00:20:52.344085Z",
     "shell.execute_reply": "2021-06-15T00:20:52.342974Z"
    },
    "papermill": {
     "duration": 0.687257,
     "end_time": "2021-06-15T00:20:52.344211",
     "exception": false,
     "start_time": "2021-06-15T00:20:51.656954",
     "status": "completed"
    },
    "tags": []
   },
   "outputs": [],
   "source": [
    "#hide\n",
    "import pandas as pd\n",
    "import matplotlib.pyplot as plt\n",
    "import matplotlib.ticker as ticker\n",
    "import matplotlib.animation as animation\n",
    "from IPython.display import HTML"
   ]
  },
  {
   "cell_type": "code",
   "execution_count": 21,
   "id": "lasting-extraction",
   "metadata": {
    "execution": {
     "iopub.execute_input": "2021-06-15T00:20:52.414458Z",
     "iopub.status.busy": "2021-06-15T00:20:52.413403Z",
     "iopub.status.idle": "2021-06-15T00:20:52.419604Z",
     "shell.execute_reply": "2021-06-15T00:20:52.418673Z"
    },
    "papermill": {
     "duration": 0.044322,
     "end_time": "2021-06-15T00:20:52.419807",
     "exception": false,
     "start_time": "2021-06-15T00:20:52.375485",
     "status": "completed"
    },
    "tags": []
   },
   "outputs": [],
   "source": [
    "#hide\n",
    "t = everydaycases.stack()"
   ]
  },
  {
   "cell_type": "code",
   "execution_count": 22,
   "id": "premier-sleeve",
   "metadata": {
    "execution": {
     "iopub.execute_input": "2021-06-15T00:20:52.493438Z",
     "iopub.status.busy": "2021-06-15T00:20:52.492799Z",
     "iopub.status.idle": "2021-06-15T00:20:52.500945Z",
     "shell.execute_reply": "2021-06-15T00:20:52.501462Z"
    },
    "papermill": {
     "duration": 0.048049,
     "end_time": "2021-06-15T00:20:52.501611",
     "exception": false,
     "start_time": "2021-06-15T00:20:52.453562",
     "status": "completed"
    },
    "tags": []
   },
   "outputs": [],
   "source": [
    "#hide\n",
    "g = t.reset_index(['Country/Region'])"
   ]
  },
  {
   "cell_type": "code",
   "execution_count": 23,
   "id": "distributed-pittsburgh",
   "metadata": {
    "execution": {
     "iopub.execute_input": "2021-06-15T00:20:52.567784Z",
     "iopub.status.busy": "2021-06-15T00:20:52.567242Z",
     "iopub.status.idle": "2021-06-15T00:20:52.569926Z",
     "shell.execute_reply": "2021-06-15T00:20:52.570315Z"
    },
    "papermill": {
     "duration": 0.036464,
     "end_time": "2021-06-15T00:20:52.570428",
     "exception": false,
     "start_time": "2021-06-15T00:20:52.533964",
     "status": "completed"
    },
    "tags": []
   },
   "outputs": [],
   "source": [
    "#hide\n",
    "g.index.name = 'date'"
   ]
  },
  {
   "cell_type": "code",
   "execution_count": 24,
   "id": "naked-donor",
   "metadata": {
    "execution": {
     "iopub.execute_input": "2021-06-15T00:20:52.636082Z",
     "iopub.status.busy": "2021-06-15T00:20:52.635595Z",
     "iopub.status.idle": "2021-06-15T00:20:52.637831Z",
     "shell.execute_reply": "2021-06-15T00:20:52.637445Z"
    },
    "papermill": {
     "duration": 0.03703,
     "end_time": "2021-06-15T00:20:52.637952",
     "exception": false,
     "start_time": "2021-06-15T00:20:52.600922",
     "status": "completed"
    },
    "tags": []
   },
   "outputs": [],
   "source": [
    "# #hide\n",
    "# g = g.reset_index(['date'])"
   ]
  },
  {
   "cell_type": "code",
   "execution_count": 25,
   "id": "incomplete-mustang",
   "metadata": {
    "execution": {
     "iopub.execute_input": "2021-06-15T00:20:52.705227Z",
     "iopub.status.busy": "2021-06-15T00:20:52.704599Z",
     "iopub.status.idle": "2021-06-15T00:20:52.706770Z",
     "shell.execute_reply": "2021-06-15T00:20:52.707182Z"
    },
    "papermill": {
     "duration": 0.038578,
     "end_time": "2021-06-15T00:20:52.707310",
     "exception": false,
     "start_time": "2021-06-15T00:20:52.668732",
     "status": "completed"
    },
    "tags": []
   },
   "outputs": [],
   "source": [
    "#hide\n",
    "# g.head()"
   ]
  },
  {
   "cell_type": "code",
   "execution_count": 26,
   "id": "specific-kruger",
   "metadata": {
    "execution": {
     "iopub.execute_input": "2021-06-15T00:20:52.778149Z",
     "iopub.status.busy": "2021-06-15T00:20:52.777590Z",
     "iopub.status.idle": "2021-06-15T00:20:52.779437Z",
     "shell.execute_reply": "2021-06-15T00:20:52.779901Z"
    },
    "papermill": {
     "duration": 0.040192,
     "end_time": "2021-06-15T00:20:52.780022",
     "exception": false,
     "start_time": "2021-06-15T00:20:52.739830",
     "status": "completed"
    },
    "tags": []
   },
   "outputs": [],
   "source": [
    "#hide\n",
    "# g.columns = ['date','country','cases']"
   ]
  },
  {
   "cell_type": "code",
   "execution_count": 27,
   "id": "tender-conversion",
   "metadata": {
    "execution": {
     "iopub.execute_input": "2021-06-15T00:20:52.849663Z",
     "iopub.status.busy": "2021-06-15T00:20:52.849224Z",
     "iopub.status.idle": "2021-06-15T00:20:52.851648Z",
     "shell.execute_reply": "2021-06-15T00:20:52.851213Z"
    },
    "papermill": {
     "duration": 0.038953,
     "end_time": "2021-06-15T00:20:52.851750",
     "exception": false,
     "start_time": "2021-06-15T00:20:52.812797",
     "status": "completed"
    },
    "tags": []
   },
   "outputs": [],
   "source": [
    "#hide\n",
    "# g['continent'] = g.country"
   ]
  },
  {
   "cell_type": "code",
   "execution_count": 28,
   "id": "substantial-wilderness",
   "metadata": {
    "execution": {
     "iopub.execute_input": "2021-06-15T00:20:52.922108Z",
     "iopub.status.busy": "2021-06-15T00:20:52.921517Z",
     "iopub.status.idle": "2021-06-15T00:20:52.923935Z",
     "shell.execute_reply": "2021-06-15T00:20:52.924504Z"
    },
    "papermill": {
     "duration": 0.040994,
     "end_time": "2021-06-15T00:20:52.924642",
     "exception": false,
     "start_time": "2021-06-15T00:20:52.883648",
     "status": "completed"
    },
    "tags": []
   },
   "outputs": [],
   "source": [
    "#hide\n",
    "# cols = list(g.columns.values)"
   ]
  },
  {
   "cell_type": "code",
   "execution_count": 29,
   "id": "solved-farming",
   "metadata": {
    "execution": {
     "iopub.execute_input": "2021-06-15T00:20:52.995483Z",
     "iopub.status.busy": "2021-06-15T00:20:52.994898Z",
     "iopub.status.idle": "2021-06-15T00:20:52.997259Z",
     "shell.execute_reply": "2021-06-15T00:20:52.997742Z"
    },
    "papermill": {
     "duration": 0.040495,
     "end_time": "2021-06-15T00:20:52.997874",
     "exception": false,
     "start_time": "2021-06-15T00:20:52.957379",
     "status": "completed"
    },
    "tags": []
   },
   "outputs": [],
   "source": [
    "#hide\n",
    "# cols.insert(0, cols.pop())"
   ]
  },
  {
   "cell_type": "code",
   "execution_count": 30,
   "id": "executed-adoption",
   "metadata": {
    "execution": {
     "iopub.execute_input": "2021-06-15T00:20:53.066618Z",
     "iopub.status.busy": "2021-06-15T00:20:53.066026Z",
     "iopub.status.idle": "2021-06-15T00:20:53.068882Z",
     "shell.execute_reply": "2021-06-15T00:20:53.068388Z"
    },
    "papermill": {
     "duration": 0.03952,
     "end_time": "2021-06-15T00:20:53.069005",
     "exception": false,
     "start_time": "2021-06-15T00:20:53.029485",
     "status": "completed"
    },
    "tags": []
   },
   "outputs": [],
   "source": [
    "#hide\n",
    "# g = g[cols]"
   ]
  },
  {
   "cell_type": "code",
   "execution_count": 31,
   "id": "subject-dublin",
   "metadata": {
    "execution": {
     "iopub.execute_input": "2021-06-15T00:20:53.137617Z",
     "iopub.status.busy": "2021-06-15T00:20:53.137028Z",
     "iopub.status.idle": "2021-06-15T00:20:53.139808Z",
     "shell.execute_reply": "2021-06-15T00:20:53.140326Z"
    },
    "papermill": {
     "duration": 0.037932,
     "end_time": "2021-06-15T00:20:53.140451",
     "exception": false,
     "start_time": "2021-06-15T00:20:53.102519",
     "status": "completed"
    },
    "tags": []
   },
   "outputs": [],
   "source": [
    "#hide\n",
    "# g['continent'] = g['continent'].map(mapping['map.continent'])"
   ]
  },
  {
   "cell_type": "code",
   "execution_count": 32,
   "id": "freelance-scout",
   "metadata": {
    "execution": {
     "iopub.execute_input": "2021-06-15T00:20:53.208669Z",
     "iopub.status.busy": "2021-06-15T00:20:53.208075Z",
     "iopub.status.idle": "2021-06-15T00:20:53.210428Z",
     "shell.execute_reply": "2021-06-15T00:20:53.210994Z"
    },
    "papermill": {
     "duration": 0.038115,
     "end_time": "2021-06-15T00:20:53.211128",
     "exception": false,
     "start_time": "2021-06-15T00:20:53.173013",
     "status": "completed"
    },
    "tags": []
   },
   "outputs": [],
   "source": [
    "#hide\n",
    "# g.head()"
   ]
  },
  {
   "cell_type": "code",
   "execution_count": 33,
   "id": "limited-engine",
   "metadata": {
    "execution": {
     "iopub.execute_input": "2021-06-15T00:20:53.279707Z",
     "iopub.status.busy": "2021-06-15T00:20:53.279116Z",
     "iopub.status.idle": "2021-06-15T00:20:53.281524Z",
     "shell.execute_reply": "2021-06-15T00:20:53.282089Z"
    },
    "papermill": {
     "duration": 0.038258,
     "end_time": "2021-06-15T00:20:53.282229",
     "exception": false,
     "start_time": "2021-06-15T00:20:53.243971",
     "status": "completed"
    },
    "tags": []
   },
   "outputs": [],
   "source": [
    "# hide\n",
    "# g['date'] = g['date'].astype('datetime64[ns]')"
   ]
  },
  {
   "cell_type": "code",
   "execution_count": 34,
   "id": "sophisticated-supervisor",
   "metadata": {
    "execution": {
     "iopub.execute_input": "2021-06-15T00:20:53.351309Z",
     "iopub.status.busy": "2021-06-15T00:20:53.350737Z",
     "iopub.status.idle": "2021-06-15T00:20:53.352986Z",
     "shell.execute_reply": "2021-06-15T00:20:53.353570Z"
    },
    "papermill": {
     "duration": 0.038471,
     "end_time": "2021-06-15T00:20:53.353694",
     "exception": false,
     "start_time": "2021-06-15T00:20:53.315223",
     "status": "completed"
    },
    "tags": []
   },
   "outputs": [],
   "source": [
    "#hide\n",
    "# g['date'] = g.date.dt.dayofyear"
   ]
  },
  {
   "cell_type": "code",
   "execution_count": 35,
   "id": "inside-dubai",
   "metadata": {
    "execution": {
     "iopub.execute_input": "2021-06-15T00:20:53.423422Z",
     "iopub.status.busy": "2021-06-15T00:20:53.422872Z",
     "iopub.status.idle": "2021-06-15T00:20:53.425427Z",
     "shell.execute_reply": "2021-06-15T00:20:53.425948Z"
    },
    "papermill": {
     "duration": 0.039774,
     "end_time": "2021-06-15T00:20:53.426076",
     "exception": false,
     "start_time": "2021-06-15T00:20:53.386302",
     "status": "completed"
    },
    "tags": []
   },
   "outputs": [],
   "source": [
    "#hide\n",
    "# g = g.rename(columns= {'continent':'group','country':'name','cases':'value'})"
   ]
  },
  {
   "cell_type": "code",
   "execution_count": 36,
   "id": "fleet-motorcycle",
   "metadata": {
    "execution": {
     "iopub.execute_input": "2021-06-15T00:20:53.494361Z",
     "iopub.status.busy": "2021-06-15T00:20:53.493758Z",
     "iopub.status.idle": "2021-06-15T00:20:53.496498Z",
     "shell.execute_reply": "2021-06-15T00:20:53.496997Z"
    },
    "papermill": {
     "duration": 0.038054,
     "end_time": "2021-06-15T00:20:53.497135",
     "exception": false,
     "start_time": "2021-06-15T00:20:53.459081",
     "status": "completed"
    },
    "tags": []
   },
   "outputs": [],
   "source": [
    "#hide\n",
    "# cols = ['name','group','day','value']"
   ]
  },
  {
   "cell_type": "code",
   "execution_count": 37,
   "id": "continued-sleeping",
   "metadata": {
    "execution": {
     "iopub.execute_input": "2021-06-15T00:20:53.566639Z",
     "iopub.status.busy": "2021-06-15T00:20:53.566054Z",
     "iopub.status.idle": "2021-06-15T00:20:53.568429Z",
     "shell.execute_reply": "2021-06-15T00:20:53.568834Z"
    },
    "papermill": {
     "duration": 0.039003,
     "end_time": "2021-06-15T00:20:53.568977",
     "exception": false,
     "start_time": "2021-06-15T00:20:53.529974",
     "status": "completed"
    },
    "tags": []
   },
   "outputs": [],
   "source": [
    "#hide\n",
    "# g.rename(columns= {'date':'day'},inplace = True)"
   ]
  },
  {
   "cell_type": "code",
   "execution_count": 38,
   "id": "major-fight",
   "metadata": {
    "execution": {
     "iopub.execute_input": "2021-06-15T00:20:53.637955Z",
     "iopub.status.busy": "2021-06-15T00:20:53.637343Z",
     "iopub.status.idle": "2021-06-15T00:20:53.639371Z",
     "shell.execute_reply": "2021-06-15T00:20:53.639781Z"
    },
    "papermill": {
     "duration": 0.0382,
     "end_time": "2021-06-15T00:20:53.639907",
     "exception": false,
     "start_time": "2021-06-15T00:20:53.601707",
     "status": "completed"
    },
    "tags": []
   },
   "outputs": [],
   "source": [
    "#hide\n",
    "# g = g[cols]"
   ]
  },
  {
   "cell_type": "code",
   "execution_count": 39,
   "id": "structured-mobile",
   "metadata": {
    "execution": {
     "iopub.execute_input": "2021-06-15T00:20:53.709368Z",
     "iopub.status.busy": "2021-06-15T00:20:53.708795Z",
     "iopub.status.idle": "2021-06-15T00:20:53.710902Z",
     "shell.execute_reply": "2021-06-15T00:20:53.710313Z"
    },
    "papermill": {
     "duration": 0.039214,
     "end_time": "2021-06-15T00:20:53.711019",
     "exception": false,
     "start_time": "2021-06-15T00:20:53.671805",
     "status": "completed"
    },
    "tags": []
   },
   "outputs": [],
   "source": [
    "# #hide\n",
    "# g = g[g.group.notna()]"
   ]
  },
  {
   "cell_type": "code",
   "execution_count": 40,
   "id": "determined-closing",
   "metadata": {
    "execution": {
     "iopub.execute_input": "2021-06-15T00:20:53.778154Z",
     "iopub.status.busy": "2021-06-15T00:20:53.777566Z",
     "iopub.status.idle": "2021-06-15T00:20:53.779773Z",
     "shell.execute_reply": "2021-06-15T00:20:53.780180Z"
    },
    "papermill": {
     "duration": 0.036666,
     "end_time": "2021-06-15T00:20:53.780303",
     "exception": false,
     "start_time": "2021-06-15T00:20:53.743637",
     "status": "completed"
    },
    "tags": []
   },
   "outputs": [],
   "source": [
    "# #hide\n",
    "# colors = dict(zip(\n",
    "#     [\"Oceania\", \"Europe\", \"Asia\", \"South America\", \"Middle East\", \"North America\", \"Africa\"],\n",
    "#     [\"#adb0ff\", \"#ffb3ff\", \"#90d595\", \"#e48381\", \"#aafbff\", \"#f7bb5f\", \"#eafb50\"]\n",
    "# ))\n",
    "# group_lk = g.set_index('name')['group'].to_dict()"
   ]
  },
  {
   "cell_type": "code",
   "execution_count": null,
   "id": "gross-drinking",
   "metadata": {
    "papermill": {
     "duration": 0.030758,
     "end_time": "2021-06-15T00:20:53.843841",
     "exception": false,
     "start_time": "2021-06-15T00:20:53.813083",
     "status": "completed"
    },
    "tags": []
   },
   "outputs": [],
   "source": []
  },
  {
   "cell_type": "code",
   "execution_count": 41,
   "id": "subject-macintosh",
   "metadata": {
    "execution": {
     "iopub.execute_input": "2021-06-15T00:20:53.913708Z",
     "iopub.status.busy": "2021-06-15T00:20:53.913117Z",
     "iopub.status.idle": "2021-06-15T00:20:53.915515Z",
     "shell.execute_reply": "2021-06-15T00:20:53.915988Z"
    },
    "papermill": {
     "duration": 0.04088,
     "end_time": "2021-06-15T00:20:53.916125",
     "exception": false,
     "start_time": "2021-06-15T00:20:53.875245",
     "status": "completed"
    },
    "tags": []
   },
   "outputs": [],
   "source": [
    "# #hide\n",
    "# fig, ax = plt.subplots(figsize=(15, 8))\n",
    "\n",
    "# def draw_barchart(current_day):\n",
    "#     dff = g[g['day'].eq(current_day)].sort_values(by='value', ascending=True).tail(10)\n",
    "#     ax.clear()\n",
    "#     ax.barh(dff['name'], dff['value'], color=[colors[group_lk[x]] for x in dff['name']])\n",
    "#     dx = dff['value'].max() / 200\n",
    "    \n",
    "#     for i, (value, name) in enumerate(zip(dff['value'], dff['name'])):\n",
    "#         ax.text(value-dx, i,     name,           size=14, weight=600, ha='right', va='bottom')\n",
    "#         ax.text(value-dx, i-.25, group_lk[name], size=10, color='#444444', ha='right', va='baseline')\n",
    "#         ax.text(value+dx, i,     f'{value:,.0f}',  size=14, ha='left',  va='center')\n",
    "#     ax.text(1, 0.4, current_day, transform=ax.transAxes, color='#777777', size=46, ha='right', weight=800)\n",
    "#     ax.text(0, 1.06, 'Population (thousands)', transform=ax.transAxes, size=12, color='#777777')\n",
    "#     ax.xaxis.set_major_formatter(ticker.StrMethodFormatter('{x:,.0f}'))\n",
    "#     ax.xaxis.set_ticks_position('top')\n",
    "#     ax.tick_params(axis='x', colors='#777777', labelsize=12)\n",
    "#     ax.set_yticks([])\n",
    "#     ax.margins(0, 0.01)\n",
    "#     ax.grid(which='major', axis='x', linestyle='-')\n",
    "#     ax.set_axisbelow(True)\n",
    "    \n",
    "#     ax.text(0, 1.15, 'Coronavirus',\n",
    "#             transform=ax.transAxes, size=24, weight=600, ha='left', va='top')\n",
    "# #     ax.text(1, 0, 'by @pratapvardhan; credit @jburnmurdoch', transform=ax.transAxes, color='#777777', ha='right',\n",
    "# #             bbox=dict(facecolor='white', alpha=0.8, edgecolor='white'))\n",
    "#     plt.box(False)"
   ]
  },
  {
   "cell_type": "code",
   "execution_count": 42,
   "id": "sexual-wages",
   "metadata": {
    "execution": {
     "iopub.execute_input": "2021-06-15T00:20:53.984227Z",
     "iopub.status.busy": "2021-06-15T00:20:53.983679Z",
     "iopub.status.idle": "2021-06-15T00:20:53.986349Z",
     "shell.execute_reply": "2021-06-15T00:20:53.986938Z"
    },
    "papermill": {
     "duration": 0.038059,
     "end_time": "2021-06-15T00:20:53.987072",
     "exception": false,
     "start_time": "2021-06-15T00:20:53.949013",
     "status": "completed"
    },
    "tags": []
   },
   "outputs": [],
   "source": [
    "# #hide_input\n",
    "# fig, ax = plt.subplots(figsize=(15, 8))\n",
    "# animator = animation.FuncAnimation(fig, draw_barchart, frames=range(g.day.values.min(), g.day.values.max()))\n",
    "# HTML(animator.to_jshtml())\n",
    "# # or use animator.to_html5_video() or animator.save() "
   ]
  },
  {
   "cell_type": "code",
   "execution_count": null,
   "id": "australian-container",
   "metadata": {
    "papermill": {
     "duration": 0.030335,
     "end_time": "2021-06-15T00:20:54.049994",
     "exception": false,
     "start_time": "2021-06-15T00:20:54.019659",
     "status": "completed"
    },
    "tags": []
   },
   "outputs": [],
   "source": []
  },
  {
   "cell_type": "code",
   "execution_count": null,
   "id": "mediterranean-pontiac",
   "metadata": {
    "papermill": {
     "duration": 0.031113,
     "end_time": "2021-06-15T00:20:54.114779",
     "exception": false,
     "start_time": "2021-06-15T00:20:54.083666",
     "status": "completed"
    },
    "tags": []
   },
   "outputs": [],
   "source": []
  },
  {
   "cell_type": "code",
   "execution_count": null,
   "id": "aging-legislature",
   "metadata": {
    "papermill": {
     "duration": 0.032801,
     "end_time": "2021-06-15T00:20:54.179157",
     "exception": false,
     "start_time": "2021-06-15T00:20:54.146356",
     "status": "completed"
    },
    "tags": []
   },
   "outputs": [],
   "source": []
  }
 ],
 "metadata": {
  "kernelspec": {
   "display_name": "Python 3",
   "language": "python",
   "name": "python3"
  },
  "language_info": {
   "codemirror_mode": {
    "name": "ipython",
    "version": 3
   },
   "file_extension": ".py",
   "mimetype": "text/x-python",
   "name": "python",
   "nbconvert_exporter": "python",
   "pygments_lexer": "ipython3",
   "version": "3.6.13"
  },
  "papermill": {
   "duration": 6.156696,
   "end_time": "2021-06-15T00:20:54.520349",
   "environment_variables": {},
   "exception": null,
   "input_path": "2020-03-21-covid19exp.ipynb",
   "output_path": "2020-03-21-covid19exp.ipynb",
   "parameters": {},
   "start_time": "2021-06-15T00:20:48.363653",
   "version": "2.0.0"
  }
 },
 "nbformat": 4,
 "nbformat_minor": 5
}