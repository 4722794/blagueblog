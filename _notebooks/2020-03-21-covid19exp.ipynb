{
 "cells": [
  {
   "cell_type": "markdown",
   "id": "muslim-click",
   "metadata": {
    "papermill": {
     "duration": 0.038225,
     "end_time": "2021-12-08T12:13:17.254835",
     "exception": false,
     "start_time": "2021-12-08T12:13:17.216610",
     "status": "completed"
    },
    "tags": []
   },
   "source": [
    "# COVID-19 Case Race\n",
    "> A race chart to see rising cases around the world\n",
    "\n",
    "- author: Hargun Oberoi\n",
    "- image: images/covid-overview.png\n",
    "- hide: false\n",
    "- badges: false"
   ]
  },
  {
   "cell_type": "code",
   "execution_count": 1,
   "id": "proof-material",
   "metadata": {
    "execution": {
     "iopub.execute_input": "2021-12-08T12:13:17.335916Z",
     "iopub.status.busy": "2021-12-08T12:13:17.335262Z",
     "iopub.status.idle": "2021-12-08T12:13:17.759283Z",
     "shell.execute_reply": "2021-12-08T12:13:17.758619Z"
    },
    "papermill": {
     "duration": 0.470553,
     "end_time": "2021-12-08T12:13:17.759469",
     "exception": false,
     "start_time": "2021-12-08T12:13:17.288916",
     "status": "completed"
    },
    "tags": []
   },
   "outputs": [],
   "source": [
    "#hide\n",
    "import numpy as np\n",
    "import pandas as pd\n",
    "from jinja2 import Template\n",
    "from IPython.display import HTML"
   ]
  },
  {
   "cell_type": "code",
   "execution_count": 2,
   "id": "developed-terminology",
   "metadata": {
    "execution": {
     "iopub.execute_input": "2021-12-08T12:13:17.837346Z",
     "iopub.status.busy": "2021-12-08T12:13:17.836708Z",
     "iopub.status.idle": "2021-12-08T12:13:17.842266Z",
     "shell.execute_reply": "2021-12-08T12:13:17.841740Z"
    },
    "papermill": {
     "duration": 0.048324,
     "end_time": "2021-12-08T12:13:17.842401",
     "exception": false,
     "start_time": "2021-12-08T12:13:17.794077",
     "status": "completed"
    },
    "tags": []
   },
   "outputs": [],
   "source": [
    "#hide\n",
    "\n",
    "# FETCH\n",
    "base_url = 'https://raw.githubusercontent.com/pratapvardhan/notebooks/master/covid19/'\n",
    "paths = {\n",
    "    'mapping': base_url + 'mapping_countries.csv',\n",
    "    'overview': base_url + 'overview.tpl'\n",
    "}"
   ]
  },
  {
   "cell_type": "code",
   "execution_count": 3,
   "id": "dynamic-saver",
   "metadata": {
    "execution": {
     "iopub.execute_input": "2021-12-08T12:13:17.922324Z",
     "iopub.status.busy": "2021-12-08T12:13:17.921663Z",
     "iopub.status.idle": "2021-12-08T12:13:17.923894Z",
     "shell.execute_reply": "2021-12-08T12:13:17.924353Z"
    },
    "papermill": {
     "duration": 0.048124,
     "end_time": "2021-12-08T12:13:17.924502",
     "exception": false,
     "start_time": "2021-12-08T12:13:17.876378",
     "status": "completed"
    },
    "tags": []
   },
   "outputs": [
    {
     "data": {
      "text/plain": [
       "'https://raw.githubusercontent.com/pratapvardhan/notebooks/master/covid19/mapping_countries.csv'"
      ]
     },
     "execution_count": 3,
     "metadata": {},
     "output_type": "execute_result"
    }
   ],
   "source": [
    "#hide\n",
    "paths['mapping']"
   ]
  },
  {
   "cell_type": "code",
   "execution_count": 4,
   "id": "urban-software",
   "metadata": {
    "execution": {
     "iopub.execute_input": "2021-12-08T12:13:17.998438Z",
     "iopub.status.busy": "2021-12-08T12:13:17.997794Z",
     "iopub.status.idle": "2021-12-08T12:13:18.003067Z",
     "shell.execute_reply": "2021-12-08T12:13:18.002351Z"
    },
    "papermill": {
     "duration": 0.044793,
     "end_time": "2021-12-08T12:13:18.003214",
     "exception": false,
     "start_time": "2021-12-08T12:13:17.958421",
     "status": "completed"
    },
    "tags": []
   },
   "outputs": [],
   "source": [
    "#hide\n",
    "def get_mappings(url):\n",
    "    df = pd.read_csv(url)\n",
    "    return {\n",
    "        'df': df,\n",
    "        'replace.country': dict(df.dropna(subset=['Name']).set_index('Country')['Name']),\n",
    "        'map.continent': dict(df.set_index('Name')['Continent'])\n",
    "    }"
   ]
  },
  {
   "cell_type": "code",
   "execution_count": 5,
   "id": "intimate-machinery",
   "metadata": {
    "execution": {
     "iopub.execute_input": "2021-12-08T12:13:18.079869Z",
     "iopub.status.busy": "2021-12-08T12:13:18.079238Z",
     "iopub.status.idle": "2021-12-08T12:13:18.121475Z",
     "shell.execute_reply": "2021-12-08T12:13:18.122012Z"
    },
    "papermill": {
     "duration": 0.084602,
     "end_time": "2021-12-08T12:13:18.122187",
     "exception": false,
     "start_time": "2021-12-08T12:13:18.037585",
     "status": "completed"
    },
    "tags": []
   },
   "outputs": [],
   "source": [
    "#hide\n",
    "mapping = get_mappings(paths['mapping'])"
   ]
  },
  {
   "cell_type": "code",
   "execution_count": 6,
   "id": "certified-tactics",
   "metadata": {
    "execution": {
     "iopub.execute_input": "2021-12-08T12:13:18.200484Z",
     "iopub.status.busy": "2021-12-08T12:13:18.199849Z",
     "iopub.status.idle": "2021-12-08T12:13:18.202470Z",
     "shell.execute_reply": "2021-12-08T12:13:18.202926Z"
    },
    "papermill": {
     "duration": 0.043404,
     "end_time": "2021-12-08T12:13:18.203081",
     "exception": false,
     "start_time": "2021-12-08T12:13:18.159677",
     "status": "completed"
    },
    "tags": []
   },
   "outputs": [],
   "source": [
    "#hide\n",
    "def get_template(path):\n",
    "    from urllib.parse import urlparse\n",
    "    if bool(urlparse(path).netloc):\n",
    "        from urllib.request import urlopen\n",
    "        return urlopen(path).read().decode('utf8')\n",
    "    return open(path).read()"
   ]
  },
  {
   "cell_type": "code",
   "execution_count": 7,
   "id": "realistic-blast",
   "metadata": {
    "execution": {
     "iopub.execute_input": "2021-12-08T12:13:18.277759Z",
     "iopub.status.busy": "2021-12-08T12:13:18.277102Z",
     "iopub.status.idle": "2021-12-08T12:13:18.280285Z",
     "shell.execute_reply": "2021-12-08T12:13:18.280735Z"
    },
    "papermill": {
     "duration": 0.044148,
     "end_time": "2021-12-08T12:13:18.280887",
     "exception": false,
     "start_time": "2021-12-08T12:13:18.236739",
     "status": "completed"
    },
    "tags": []
   },
   "outputs": [],
   "source": [
    "#hide\n",
    "def get_frame(name):\n",
    "    url = (\n",
    "        'https://raw.githubusercontent.com/CSSEGISandData/COVID-19/master/csse_covid_19_data/'\n",
    "        f'csse_covid_19_time_series/time_series_covid19_{name}_global.csv')\n",
    "    df = pd.read_csv(url)\n",
    "    # rename countries\n",
    "    df['Country/Region'] = df['Country/Region'].replace(mapping['replace.country'])\n",
    "    return df"
   ]
  },
  {
   "cell_type": "code",
   "execution_count": 8,
   "id": "affiliated-characterization",
   "metadata": {
    "execution": {
     "iopub.execute_input": "2021-12-08T12:13:18.359532Z",
     "iopub.status.busy": "2021-12-08T12:13:18.358884Z",
     "iopub.status.idle": "2021-12-08T12:13:18.361501Z",
     "shell.execute_reply": "2021-12-08T12:13:18.360982Z"
    },
    "papermill": {
     "duration": 0.04564,
     "end_time": "2021-12-08T12:13:18.361667",
     "exception": false,
     "start_time": "2021-12-08T12:13:18.316027",
     "status": "completed"
    },
    "tags": []
   },
   "outputs": [],
   "source": [
    "#hide\n",
    "def get_dates(df):\n",
    "    dt_cols = df.columns[~df.columns.isin(['Province/State', 'Country/Region', 'Lat', 'Long'])]\n",
    "    LAST_DATE_I = -1\n",
    "    # sometimes last column may be empty, then go backwards\n",
    "    for i in range(-1, -len(dt_cols), -1):\n",
    "        if not df[dt_cols[i]].fillna(0).eq(0).all():\n",
    "            LAST_DATE_I = i\n",
    "            break\n",
    "    return LAST_DATE_I, dt_cols"
   ]
  },
  {
   "cell_type": "code",
   "execution_count": 9,
   "id": "recent-optimization",
   "metadata": {
    "execution": {
     "iopub.execute_input": "2021-12-08T12:13:18.436934Z",
     "iopub.status.busy": "2021-12-08T12:13:18.436310Z",
     "iopub.status.idle": "2021-12-08T12:13:18.853885Z",
     "shell.execute_reply": "2021-12-08T12:13:18.852685Z"
    },
    "papermill": {
     "duration": 0.457547,
     "end_time": "2021-12-08T12:13:18.854049",
     "exception": false,
     "start_time": "2021-12-08T12:13:18.396502",
     "status": "completed"
    },
    "tags": []
   },
   "outputs": [],
   "source": [
    "#hide\n",
    "COL_REGION = 'Country/Region'\n",
    "# Confirmed, Recovered, Deaths\n",
    "df = get_frame('confirmed')\n",
    "# dft_: timeseries, dfc_: today country agg\n",
    "dft_cases = df\n",
    "dft_deaths = get_frame('deaths')\n",
    "dft_recovered = get_frame('recovered')\n",
    "LAST_DATE_I, dt_cols = get_dates(df)"
   ]
  },
  {
   "cell_type": "code",
   "execution_count": 10,
   "id": "absolute-copper",
   "metadata": {
    "execution": {
     "iopub.execute_input": "2021-12-08T12:13:18.930041Z",
     "iopub.status.busy": "2021-12-08T12:13:18.928332Z",
     "iopub.status.idle": "2021-12-08T12:13:18.930895Z",
     "shell.execute_reply": "2021-12-08T12:13:18.931507Z"
    },
    "papermill": {
     "duration": 0.043397,
     "end_time": "2021-12-08T12:13:18.931692",
     "exception": false,
     "start_time": "2021-12-08T12:13:18.888295",
     "status": "completed"
    },
    "tags": []
   },
   "outputs": [],
   "source": [
    "#hide\n",
    "LAST_DATE_I, dt_cols = get_dates(df)\n",
    "dt_today =dt_cols[LAST_DATE_I]\n",
    "# dt_5day = dt_cols[LAST_DATE_I - 5]\n",
    "dt_yday = dt_cols[LAST_DATE_I - 1]"
   ]
  },
  {
   "cell_type": "code",
   "execution_count": 11,
   "id": "restricted-sheriff",
   "metadata": {
    "execution": {
     "iopub.execute_input": "2021-12-08T12:13:19.023970Z",
     "iopub.status.busy": "2021-12-08T12:13:19.023294Z",
     "iopub.status.idle": "2021-12-08T12:13:19.030781Z",
     "shell.execute_reply": "2021-12-08T12:13:19.030231Z"
    },
    "papermill": {
     "duration": 0.062676,
     "end_time": "2021-12-08T12:13:19.030913",
     "exception": false,
     "start_time": "2021-12-08T12:13:18.968237",
     "status": "completed"
    },
    "tags": []
   },
   "outputs": [],
   "source": [
    "#hide\n",
    "dfc_cases = dft_cases.groupby(COL_REGION)[dt_today].sum()\n",
    "dfc_deaths = dft_deaths.groupby(COL_REGION)[dt_today].sum()\n",
    "# dfp_cases = dft_cases.groupby(COL_REGION)[dt_5day].sum()\n",
    "# dfp_deaths = dft_deaths.groupby(COL_REGION)[dt_5day].sum()\n",
    "dfp_cases = dft_cases.groupby(COL_REGION)[dt_yday].sum()\n",
    "dfp_deaths = dft_deaths.groupby(COL_REGION)[dt_yday].sum()"
   ]
  },
  {
   "cell_type": "code",
   "execution_count": 12,
   "id": "deluxe-hepatitis",
   "metadata": {
    "execution": {
     "iopub.execute_input": "2021-12-08T12:13:19.117200Z",
     "iopub.status.busy": "2021-12-08T12:13:19.116570Z",
     "iopub.status.idle": "2021-12-08T12:13:19.121883Z",
     "shell.execute_reply": "2021-12-08T12:13:19.121243Z"
    },
    "papermill": {
     "duration": 0.047626,
     "end_time": "2021-12-08T12:13:19.122017",
     "exception": false,
     "start_time": "2021-12-08T12:13:19.074391",
     "status": "completed"
    },
    "tags": []
   },
   "outputs": [],
   "source": [
    "#hide\n",
    "df_table = (pd.DataFrame(dict(Cases = dfc_cases, Deaths = dfc_deaths, PCases = dfp_cases, PDeaths = dfp_deaths))\n",
    "            .sort_values(by = ['Cases','Deaths'], ascending = [False, False])\n",
    "            .reset_index())"
   ]
  },
  {
   "cell_type": "code",
   "execution_count": 13,
   "id": "educational-chancellor",
   "metadata": {
    "execution": {
     "iopub.execute_input": "2021-12-08T12:13:19.199166Z",
     "iopub.status.busy": "2021-12-08T12:13:19.198504Z",
     "iopub.status.idle": "2021-12-08T12:13:19.220740Z",
     "shell.execute_reply": "2021-12-08T12:13:19.221256Z"
    },
    "papermill": {
     "duration": 0.065776,
     "end_time": "2021-12-08T12:13:19.221410",
     "exception": false,
     "start_time": "2021-12-08T12:13:19.155634",
     "status": "completed"
    },
    "tags": []
   },
   "outputs": [
    {
     "data": {
      "text/html": [
       "<div>\n",
       "<style scoped>\n",
       "    .dataframe tbody tr th:only-of-type {\n",
       "        vertical-align: middle;\n",
       "    }\n",
       "\n",
       "    .dataframe tbody tr th {\n",
       "        vertical-align: top;\n",
       "    }\n",
       "\n",
       "    .dataframe thead th {\n",
       "        text-align: right;\n",
       "    }\n",
       "</style>\n",
       "<table border=\"1\" class=\"dataframe\">\n",
       "  <thead>\n",
       "    <tr style=\"text-align: right;\">\n",
       "      <th></th>\n",
       "      <th>Country/Region</th>\n",
       "      <th>Cases</th>\n",
       "      <th>Deaths</th>\n",
       "      <th>PCases</th>\n",
       "      <th>PDeaths</th>\n",
       "      <th>Cases (+)</th>\n",
       "      <th>Deaths (+)</th>\n",
       "      <th>Fatality Rate</th>\n",
       "      <th>Continent</th>\n",
       "    </tr>\n",
       "  </thead>\n",
       "  <tbody>\n",
       "    <tr>\n",
       "      <th>0</th>\n",
       "      <td>US</td>\n",
       "      <td>49387208</td>\n",
       "      <td>791514</td>\n",
       "      <td>49278278</td>\n",
       "      <td>789905</td>\n",
       "      <td>108930</td>\n",
       "      <td>1609</td>\n",
       "      <td>1.60</td>\n",
       "      <td>North America</td>\n",
       "    </tr>\n",
       "    <tr>\n",
       "      <th>1</th>\n",
       "      <td>India</td>\n",
       "      <td>34656822</td>\n",
       "      <td>473952</td>\n",
       "      <td>34648383</td>\n",
       "      <td>473757</td>\n",
       "      <td>8439</td>\n",
       "      <td>195</td>\n",
       "      <td>1.37</td>\n",
       "      <td>Asia</td>\n",
       "    </tr>\n",
       "    <tr>\n",
       "      <th>2</th>\n",
       "      <td>Brazil</td>\n",
       "      <td>22157726</td>\n",
       "      <td>616018</td>\n",
       "      <td>22147476</td>\n",
       "      <td>615744</td>\n",
       "      <td>10250</td>\n",
       "      <td>274</td>\n",
       "      <td>2.78</td>\n",
       "      <td>South America</td>\n",
       "    </tr>\n",
       "    <tr>\n",
       "      <th>3</th>\n",
       "      <td>United Kingdom</td>\n",
       "      <td>10620535</td>\n",
       "      <td>146281</td>\n",
       "      <td>10575062</td>\n",
       "      <td>146101</td>\n",
       "      <td>45473</td>\n",
       "      <td>180</td>\n",
       "      <td>1.38</td>\n",
       "      <td>Europe</td>\n",
       "    </tr>\n",
       "    <tr>\n",
       "      <th>4</th>\n",
       "      <td>Russia</td>\n",
       "      <td>9692411</td>\n",
       "      <td>278131</td>\n",
       "      <td>9661865</td>\n",
       "      <td>276979</td>\n",
       "      <td>30546</td>\n",
       "      <td>1152</td>\n",
       "      <td>2.87</td>\n",
       "      <td>Europe</td>\n",
       "    </tr>\n",
       "  </tbody>\n",
       "</table>\n",
       "</div>"
      ],
      "text/plain": [
       "   Country/Region     Cases  Deaths    PCases  PDeaths  Cases (+)  Deaths (+)  \\\n",
       "0              US  49387208  791514  49278278   789905     108930        1609   \n",
       "1           India  34656822  473952  34648383   473757       8439         195   \n",
       "2          Brazil  22157726  616018  22147476   615744      10250         274   \n",
       "3  United Kingdom  10620535  146281  10575062   146101      45473         180   \n",
       "4          Russia   9692411  278131   9661865   276979      30546        1152   \n",
       "\n",
       "   Fatality Rate      Continent  \n",
       "0           1.60  North America  \n",
       "1           1.37           Asia  \n",
       "2           2.78  South America  \n",
       "3           1.38         Europe  \n",
       "4           2.87         Europe  "
      ]
     },
     "execution_count": 13,
     "metadata": {},
     "output_type": "execute_result"
    }
   ],
   "source": [
    "#hide\n",
    "for c in 'Cases, Deaths'.split(', '):\n",
    "    df_table[f'{c} (+)'] = (df_table[c] - df_table[f'P{c}']).clip(0)\n",
    "    #Clip ça veut dire, les chiffres negatif sont interdit\n",
    "df_table['Fatality Rate'] = (100* df_table['Deaths']/ df_table['Cases']).round(2)\n",
    "df_table['Continent'] = df_table['Country/Region'].map(mapping['map.continent'])\n",
    "df_table.head(5)"
   ]
  },
  {
   "cell_type": "code",
   "execution_count": 14,
   "id": "aboriginal-bulgaria",
   "metadata": {
    "execution": {
     "iopub.execute_input": "2021-12-08T12:13:19.303114Z",
     "iopub.status.busy": "2021-12-08T12:13:19.302434Z",
     "iopub.status.idle": "2021-12-08T12:13:19.303877Z",
     "shell.execute_reply": "2021-12-08T12:13:19.304447Z"
    },
    "papermill": {
     "duration": 0.045822,
     "end_time": "2021-12-08T12:13:19.304598",
     "exception": false,
     "start_time": "2021-12-08T12:13:19.258776",
     "status": "completed"
    },
    "tags": []
   },
   "outputs": [],
   "source": [
    "#hide\n",
    "#delete problematic countries from table\n",
    "df_table = df_table[~df_table['Country/Region'].isin(['Cape Verde', 'Cruise Ship', 'Kosovo'])]"
   ]
  },
  {
   "cell_type": "code",
   "execution_count": 15,
   "id": "fantastic-effect",
   "metadata": {
    "execution": {
     "iopub.execute_input": "2021-12-08T12:13:19.384022Z",
     "iopub.status.busy": "2021-12-08T12:13:19.382504Z",
     "iopub.status.idle": "2021-12-08T12:13:19.404712Z",
     "shell.execute_reply": "2021-12-08T12:13:19.404103Z"
    },
    "papermill": {
     "duration": 0.065978,
     "end_time": "2021-12-08T12:13:19.404847",
     "exception": false,
     "start_time": "2021-12-08T12:13:19.338869",
     "status": "completed"
    },
    "tags": []
   },
   "outputs": [
    {
     "data": {
      "text/html": [
       "<div>\n",
       "<style scoped>\n",
       "    .dataframe tbody tr th:only-of-type {\n",
       "        vertical-align: middle;\n",
       "    }\n",
       "\n",
       "    .dataframe tbody tr th {\n",
       "        vertical-align: top;\n",
       "    }\n",
       "\n",
       "    .dataframe thead th {\n",
       "        text-align: right;\n",
       "    }\n",
       "</style>\n",
       "<table border=\"1\" class=\"dataframe\">\n",
       "  <thead>\n",
       "    <tr style=\"text-align: right;\">\n",
       "      <th></th>\n",
       "      <th>Country/Region</th>\n",
       "      <th>Cases</th>\n",
       "      <th>Deaths</th>\n",
       "      <th>PCases</th>\n",
       "      <th>PDeaths</th>\n",
       "      <th>Cases (+)</th>\n",
       "      <th>Deaths (+)</th>\n",
       "      <th>Fatality Rate</th>\n",
       "      <th>Continent</th>\n",
       "    </tr>\n",
       "  </thead>\n",
       "  <tbody>\n",
       "    <tr>\n",
       "      <th>0</th>\n",
       "      <td>US</td>\n",
       "      <td>49387208</td>\n",
       "      <td>791514</td>\n",
       "      <td>49278278</td>\n",
       "      <td>789905</td>\n",
       "      <td>108930</td>\n",
       "      <td>1609</td>\n",
       "      <td>1.6</td>\n",
       "      <td>North America</td>\n",
       "    </tr>\n",
       "    <tr>\n",
       "      <th>1</th>\n",
       "      <td>India</td>\n",
       "      <td>34656822</td>\n",
       "      <td>473952</td>\n",
       "      <td>34648383</td>\n",
       "      <td>473757</td>\n",
       "      <td>8439</td>\n",
       "      <td>195</td>\n",
       "      <td>1.4</td>\n",
       "      <td>Asia</td>\n",
       "    </tr>\n",
       "    <tr>\n",
       "      <th>2</th>\n",
       "      <td>Brazil</td>\n",
       "      <td>22157726</td>\n",
       "      <td>616018</td>\n",
       "      <td>22147476</td>\n",
       "      <td>615744</td>\n",
       "      <td>10250</td>\n",
       "      <td>274</td>\n",
       "      <td>2.8</td>\n",
       "      <td>South America</td>\n",
       "    </tr>\n",
       "    <tr>\n",
       "      <th>3</th>\n",
       "      <td>United Kingdom</td>\n",
       "      <td>10620535</td>\n",
       "      <td>146281</td>\n",
       "      <td>10575062</td>\n",
       "      <td>146101</td>\n",
       "      <td>45473</td>\n",
       "      <td>180</td>\n",
       "      <td>1.4</td>\n",
       "      <td>Europe</td>\n",
       "    </tr>\n",
       "    <tr>\n",
       "      <th>4</th>\n",
       "      <td>Russia</td>\n",
       "      <td>9692411</td>\n",
       "      <td>278131</td>\n",
       "      <td>9661865</td>\n",
       "      <td>276979</td>\n",
       "      <td>30546</td>\n",
       "      <td>1152</td>\n",
       "      <td>2.9</td>\n",
       "      <td>Europe</td>\n",
       "    </tr>\n",
       "  </tbody>\n",
       "</table>\n",
       "</div>"
      ],
      "text/plain": [
       "   Country/Region     Cases  Deaths    PCases  PDeaths  Cases (+)  Deaths (+)  \\\n",
       "0              US  49387208  791514  49278278   789905     108930        1609   \n",
       "1           India  34656822  473952  34648383   473757       8439         195   \n",
       "2          Brazil  22157726  616018  22147476   615744      10250         274   \n",
       "3  United Kingdom  10620535  146281  10575062   146101      45473         180   \n",
       "4          Russia   9692411  278131   9661865   276979      30546        1152   \n",
       "\n",
       "   Fatality Rate      Continent  \n",
       "0            1.6  North America  \n",
       "1            1.4           Asia  \n",
       "2            2.8  South America  \n",
       "3            1.4         Europe  \n",
       "4            2.9         Europe  "
      ]
     },
     "execution_count": 15,
     "metadata": {},
     "output_type": "execute_result"
    }
   ],
   "source": [
    "#hide\n",
    "df_table = (pd.DataFrame(dict(Cases=dfc_cases, Deaths=dfc_deaths, PCases=dfp_cases, PDeaths=dfp_deaths))\n",
    "             .sort_values(by=['Cases', 'Deaths'], ascending=[False, False])\n",
    "             .reset_index())\n",
    "df_table.rename(columns={'index': 'Country/Region'}, inplace=True)\n",
    "for c in 'Cases, Deaths'.split(', '):\n",
    "    df_table[f'{c} (+)'] = (df_table[c] - df_table[f'P{c}']).clip(0)  # DATA BUG\n",
    "df_table['Fatality Rate'] = (100 * df_table['Deaths'] / df_table['Cases']).round(1)\n",
    "df_table['Continent'] = df_table['Country/Region'].map(mapping['map.continent'])\n",
    "df_table.head(5)"
   ]
  },
  {
   "cell_type": "code",
   "execution_count": 16,
   "id": "fewer-occasion",
   "metadata": {
    "execution": {
     "iopub.execute_input": "2021-12-08T12:13:19.482272Z",
     "iopub.status.busy": "2021-12-08T12:13:19.481641Z",
     "iopub.status.idle": "2021-12-08T12:13:19.484472Z",
     "shell.execute_reply": "2021-12-08T12:13:19.483976Z"
    },
    "papermill": {
     "duration": 0.044668,
     "end_time": "2021-12-08T12:13:19.484606",
     "exception": false,
     "start_time": "2021-12-08T12:13:19.439938",
     "status": "completed"
    },
    "tags": []
   },
   "outputs": [],
   "source": [
    "#hide\n",
    "#delete problematic countries from table\n",
    "df_table = df_table[~df_table['Country/Region'].isin(['Cape Verde', 'Cruise Ship', 'Kosovo'])]"
   ]
  },
  {
   "cell_type": "code",
   "execution_count": 17,
   "id": "related-center",
   "metadata": {
    "execution": {
     "iopub.execute_input": "2021-12-08T12:13:19.564583Z",
     "iopub.status.busy": "2021-12-08T12:13:19.563947Z",
     "iopub.status.idle": "2021-12-08T12:13:19.580739Z",
     "shell.execute_reply": "2021-12-08T12:13:19.580066Z"
    },
    "papermill": {
     "duration": 0.061758,
     "end_time": "2021-12-08T12:13:19.580914",
     "exception": false,
     "start_time": "2021-12-08T12:13:19.519156",
     "status": "completed"
    },
    "tags": []
   },
   "outputs": [],
   "source": [
    "#hide\n",
    "metrics = [df_table.columns[index] for index in [1,2,5,6]]\n",
    "# s_china = df_table[df_table['Country/Region'].eq('China')][metrics].sum().add_prefix('China ')\n",
    "s_us = df_table[df_table['Country/Region'].eq('US')][metrics].sum().add_prefix('US ')\n",
    "s_eu = df_table[df_table['Continent'].eq('Europe')][metrics].sum().add_prefix('EU ')\n",
    "s_ind = df_table[df_table['Country/Region'].eq('India')][metrics].sum().add_prefix('India ')\n",
    "summary = {'updated': pd.to_datetime(dt_today), 'since': pd.to_datetime(dt_yday)}\n",
    "summary = {'updated': pd.to_datetime(dt_today), 'since': pd.to_datetime(dt_yday)}\n",
    "summary = {**summary, **df_table[metrics].sum(), **s_ind, **s_us, **s_eu}"
   ]
  },
  {
   "cell_type": "code",
   "execution_count": 18,
   "id": "engaging-syndrome",
   "metadata": {
    "execution": {
     "iopub.execute_input": "2021-12-08T12:13:19.660067Z",
     "iopub.status.busy": "2021-12-08T12:13:19.657661Z",
     "iopub.status.idle": "2021-12-08T12:13:19.682824Z",
     "shell.execute_reply": "2021-12-08T12:13:19.683478Z"
    },
    "papermill": {
     "duration": 0.066173,
     "end_time": "2021-12-08T12:13:19.683693",
     "exception": false,
     "start_time": "2021-12-08T12:13:19.617520",
     "status": "completed"
    },
    "tags": []
   },
   "outputs": [],
   "source": [
    "#hide\n",
    "dft_ct_new_cases = dft_cases.groupby(COL_REGION)[dt_cols].sum().diff(axis=1).fillna(0).astype(int)"
   ]
  },
  {
   "cell_type": "code",
   "execution_count": 19,
   "id": "neutral-assignment",
   "metadata": {
    "execution": {
     "iopub.execute_input": "2021-12-08T12:13:19.761675Z",
     "iopub.status.busy": "2021-12-08T12:13:19.761011Z",
     "iopub.status.idle": "2021-12-08T12:13:19.763712Z",
     "shell.execute_reply": "2021-12-08T12:13:19.763230Z"
    },
    "papermill": {
     "duration": 0.04386,
     "end_time": "2021-12-08T12:13:19.763843",
     "exception": false,
     "start_time": "2021-12-08T12:13:19.719983",
     "status": "completed"
    },
    "tags": []
   },
   "outputs": [],
   "source": [
    "#hide\n",
    "everydaycases = dft_ct_new_cases.cumsum(axis=1)"
   ]
  },
  {
   "cell_type": "code",
   "execution_count": 20,
   "id": "parliamentary-calgary",
   "metadata": {
    "execution": {
     "iopub.execute_input": "2021-12-08T12:13:19.839951Z",
     "iopub.status.busy": "2021-12-08T12:13:19.839334Z",
     "iopub.status.idle": "2021-12-08T12:13:20.651068Z",
     "shell.execute_reply": "2021-12-08T12:13:20.650361Z"
    },
    "papermill": {
     "duration": 0.852634,
     "end_time": "2021-12-08T12:13:20.651253",
     "exception": false,
     "start_time": "2021-12-08T12:13:19.798619",
     "status": "completed"
    },
    "tags": []
   },
   "outputs": [],
   "source": [
    "#hide\n",
    "import pandas as pd\n",
    "import matplotlib.pyplot as plt\n",
    "import matplotlib.ticker as ticker\n",
    "import matplotlib.animation as animation\n",
    "from IPython.display import HTML"
   ]
  },
  {
   "cell_type": "code",
   "execution_count": 21,
   "id": "lasting-extraction",
   "metadata": {
    "execution": {
     "iopub.execute_input": "2021-12-08T12:13:20.737972Z",
     "iopub.status.busy": "2021-12-08T12:13:20.737318Z",
     "iopub.status.idle": "2021-12-08T12:13:20.746587Z",
     "shell.execute_reply": "2021-12-08T12:13:20.746075Z"
    },
    "papermill": {
     "duration": 0.058546,
     "end_time": "2021-12-08T12:13:20.746727",
     "exception": false,
     "start_time": "2021-12-08T12:13:20.688181",
     "status": "completed"
    },
    "tags": []
   },
   "outputs": [],
   "source": [
    "#hide\n",
    "t = everydaycases.stack()"
   ]
  },
  {
   "cell_type": "code",
   "execution_count": 22,
   "id": "premier-sleeve",
   "metadata": {
    "execution": {
     "iopub.execute_input": "2021-12-08T12:13:20.826514Z",
     "iopub.status.busy": "2021-12-08T12:13:20.825852Z",
     "iopub.status.idle": "2021-12-08T12:13:20.838856Z",
     "shell.execute_reply": "2021-12-08T12:13:20.839660Z"
    },
    "papermill": {
     "duration": 0.054683,
     "end_time": "2021-12-08T12:13:20.839832",
     "exception": false,
     "start_time": "2021-12-08T12:13:20.785149",
     "status": "completed"
    },
    "tags": []
   },
   "outputs": [],
   "source": [
    "#hide\n",
    "g = t.reset_index(['Country/Region'])"
   ]
  },
  {
   "cell_type": "code",
   "execution_count": 23,
   "id": "distributed-pittsburgh",
   "metadata": {
    "execution": {
     "iopub.execute_input": "2021-12-08T12:13:20.915448Z",
     "iopub.status.busy": "2021-12-08T12:13:20.914446Z",
     "iopub.status.idle": "2021-12-08T12:13:20.922966Z",
     "shell.execute_reply": "2021-12-08T12:13:20.919138Z"
    },
    "papermill": {
     "duration": 0.048733,
     "end_time": "2021-12-08T12:13:20.923106",
     "exception": false,
     "start_time": "2021-12-08T12:13:20.874373",
     "status": "completed"
    },
    "tags": []
   },
   "outputs": [],
   "source": [
    "#hide\n",
    "g.index.name = 'date'"
   ]
  },
  {
   "cell_type": "code",
   "execution_count": 24,
   "id": "naked-donor",
   "metadata": {
    "execution": {
     "iopub.execute_input": "2021-12-08T12:13:21.005470Z",
     "iopub.status.busy": "2021-12-08T12:13:21.004410Z",
     "iopub.status.idle": "2021-12-08T12:13:21.006641Z",
     "shell.execute_reply": "2021-12-08T12:13:21.007455Z"
    },
    "papermill": {
     "duration": 0.044265,
     "end_time": "2021-12-08T12:13:21.007689",
     "exception": false,
     "start_time": "2021-12-08T12:13:20.963424",
     "status": "completed"
    },
    "tags": []
   },
   "outputs": [],
   "source": [
    "# #hide\n",
    "# g = g.reset_index(['date'])"
   ]
  },
  {
   "cell_type": "code",
   "execution_count": 25,
   "id": "incomplete-mustang",
   "metadata": {
    "execution": {
     "iopub.execute_input": "2021-12-08T12:13:21.082193Z",
     "iopub.status.busy": "2021-12-08T12:13:21.081522Z",
     "iopub.status.idle": "2021-12-08T12:13:21.084264Z",
     "shell.execute_reply": "2021-12-08T12:13:21.083779Z"
    },
    "papermill": {
     "duration": 0.041051,
     "end_time": "2021-12-08T12:13:21.084398",
     "exception": false,
     "start_time": "2021-12-08T12:13:21.043347",
     "status": "completed"
    },
    "tags": []
   },
   "outputs": [],
   "source": [
    "#hide\n",
    "# g.head()"
   ]
  },
  {
   "cell_type": "code",
   "execution_count": 26,
   "id": "specific-kruger",
   "metadata": {
    "execution": {
     "iopub.execute_input": "2021-12-08T12:13:21.159730Z",
     "iopub.status.busy": "2021-12-08T12:13:21.159120Z",
     "iopub.status.idle": "2021-12-08T12:13:21.162851Z",
     "shell.execute_reply": "2021-12-08T12:13:21.163414Z"
    },
    "papermill": {
     "duration": 0.043908,
     "end_time": "2021-12-08T12:13:21.163566",
     "exception": false,
     "start_time": "2021-12-08T12:13:21.119658",
     "status": "completed"
    },
    "tags": []
   },
   "outputs": [],
   "source": [
    "#hide\n",
    "# g.columns = ['date','country','cases']"
   ]
  },
  {
   "cell_type": "code",
   "execution_count": 27,
   "id": "tender-conversion",
   "metadata": {
    "execution": {
     "iopub.execute_input": "2021-12-08T12:13:21.238196Z",
     "iopub.status.busy": "2021-12-08T12:13:21.237078Z",
     "iopub.status.idle": "2021-12-08T12:13:21.242703Z",
     "shell.execute_reply": "2021-12-08T12:13:21.241615Z"
    },
    "papermill": {
     "duration": 0.044913,
     "end_time": "2021-12-08T12:13:21.242992",
     "exception": false,
     "start_time": "2021-12-08T12:13:21.198079",
     "status": "completed"
    },
    "tags": []
   },
   "outputs": [],
   "source": [
    "#hide\n",
    "# g['continent'] = g.country"
   ]
  },
  {
   "cell_type": "code",
   "execution_count": 28,
   "id": "substantial-wilderness",
   "metadata": {
    "execution": {
     "iopub.execute_input": "2021-12-08T12:13:21.320821Z",
     "iopub.status.busy": "2021-12-08T12:13:21.320156Z",
     "iopub.status.idle": "2021-12-08T12:13:21.321851Z",
     "shell.execute_reply": "2021-12-08T12:13:21.322355Z"
    },
    "papermill": {
     "duration": 0.044125,
     "end_time": "2021-12-08T12:13:21.322507",
     "exception": false,
     "start_time": "2021-12-08T12:13:21.278382",
     "status": "completed"
    },
    "tags": []
   },
   "outputs": [],
   "source": [
    "#hide\n",
    "# cols = list(g.columns.values)"
   ]
  },
  {
   "cell_type": "code",
   "execution_count": 29,
   "id": "solved-farming",
   "metadata": {
    "execution": {
     "iopub.execute_input": "2021-12-08T12:13:21.396203Z",
     "iopub.status.busy": "2021-12-08T12:13:21.395564Z",
     "iopub.status.idle": "2021-12-08T12:13:21.397141Z",
     "shell.execute_reply": "2021-12-08T12:13:21.397713Z"
    },
    "papermill": {
     "duration": 0.040826,
     "end_time": "2021-12-08T12:13:21.397871",
     "exception": false,
     "start_time": "2021-12-08T12:13:21.357045",
     "status": "completed"
    },
    "tags": []
   },
   "outputs": [],
   "source": [
    "#hide\n",
    "# cols.insert(0, cols.pop())"
   ]
  },
  {
   "cell_type": "code",
   "execution_count": 30,
   "id": "executed-adoption",
   "metadata": {
    "execution": {
     "iopub.execute_input": "2021-12-08T12:13:21.483164Z",
     "iopub.status.busy": "2021-12-08T12:13:21.482521Z",
     "iopub.status.idle": "2021-12-08T12:13:21.484840Z",
     "shell.execute_reply": "2021-12-08T12:13:21.484252Z"
    },
    "papermill": {
     "duration": 0.044005,
     "end_time": "2021-12-08T12:13:21.484968",
     "exception": false,
     "start_time": "2021-12-08T12:13:21.440963",
     "status": "completed"
    },
    "tags": []
   },
   "outputs": [],
   "source": [
    "#hide\n",
    "# g = g[cols]"
   ]
  },
  {
   "cell_type": "code",
   "execution_count": 31,
   "id": "subject-dublin",
   "metadata": {
    "execution": {
     "iopub.execute_input": "2021-12-08T12:13:21.563353Z",
     "iopub.status.busy": "2021-12-08T12:13:21.562422Z",
     "iopub.status.idle": "2021-12-08T12:13:21.568142Z",
     "shell.execute_reply": "2021-12-08T12:13:21.567659Z"
    },
    "papermill": {
     "duration": 0.045562,
     "end_time": "2021-12-08T12:13:21.568274",
     "exception": false,
     "start_time": "2021-12-08T12:13:21.522712",
     "status": "completed"
    },
    "tags": []
   },
   "outputs": [],
   "source": [
    "#hide\n",
    "# g['continent'] = g['continent'].map(mapping['map.continent'])"
   ]
  },
  {
   "cell_type": "code",
   "execution_count": 32,
   "id": "freelance-scout",
   "metadata": {
    "execution": {
     "iopub.execute_input": "2021-12-08T12:13:21.647281Z",
     "iopub.status.busy": "2021-12-08T12:13:21.646154Z",
     "iopub.status.idle": "2021-12-08T12:13:21.648378Z",
     "shell.execute_reply": "2021-12-08T12:13:21.649104Z"
    },
    "papermill": {
     "duration": 0.045604,
     "end_time": "2021-12-08T12:13:21.649258",
     "exception": false,
     "start_time": "2021-12-08T12:13:21.603654",
     "status": "completed"
    },
    "tags": []
   },
   "outputs": [],
   "source": [
    "#hide\n",
    "# g.head()"
   ]
  },
  {
   "cell_type": "code",
   "execution_count": 33,
   "id": "limited-engine",
   "metadata": {
    "execution": {
     "iopub.execute_input": "2021-12-08T12:13:21.722308Z",
     "iopub.status.busy": "2021-12-08T12:13:21.721661Z",
     "iopub.status.idle": "2021-12-08T12:13:21.725237Z",
     "shell.execute_reply": "2021-12-08T12:13:21.724758Z"
    },
    "papermill": {
     "duration": 0.041697,
     "end_time": "2021-12-08T12:13:21.725365",
     "exception": false,
     "start_time": "2021-12-08T12:13:21.683668",
     "status": "completed"
    },
    "tags": []
   },
   "outputs": [],
   "source": [
    "# hide\n",
    "# g['date'] = g['date'].astype('datetime64[ns]')"
   ]
  },
  {
   "cell_type": "code",
   "execution_count": 34,
   "id": "sophisticated-supervisor",
   "metadata": {
    "execution": {
     "iopub.execute_input": "2021-12-08T12:13:21.800932Z",
     "iopub.status.busy": "2021-12-08T12:13:21.799927Z",
     "iopub.status.idle": "2021-12-08T12:13:21.804229Z",
     "shell.execute_reply": "2021-12-08T12:13:21.804687Z"
    },
    "papermill": {
     "duration": 0.044635,
     "end_time": "2021-12-08T12:13:21.804858",
     "exception": false,
     "start_time": "2021-12-08T12:13:21.760223",
     "status": "completed"
    },
    "tags": []
   },
   "outputs": [],
   "source": [
    "#hide\n",
    "# g['date'] = g.date.dt.dayofyear"
   ]
  },
  {
   "cell_type": "code",
   "execution_count": 35,
   "id": "inside-dubai",
   "metadata": {
    "execution": {
     "iopub.execute_input": "2021-12-08T12:13:21.879788Z",
     "iopub.status.busy": "2021-12-08T12:13:21.878793Z",
     "iopub.status.idle": "2021-12-08T12:13:21.880956Z",
     "shell.execute_reply": "2021-12-08T12:13:21.881666Z"
    },
    "papermill": {
     "duration": 0.042498,
     "end_time": "2021-12-08T12:13:21.881822",
     "exception": false,
     "start_time": "2021-12-08T12:13:21.839324",
     "status": "completed"
    },
    "tags": []
   },
   "outputs": [],
   "source": [
    "#hide\n",
    "# g = g.rename(columns= {'continent':'group','country':'name','cases':'value'})"
   ]
  },
  {
   "cell_type": "code",
   "execution_count": 36,
   "id": "fleet-motorcycle",
   "metadata": {
    "execution": {
     "iopub.execute_input": "2021-12-08T12:13:21.958344Z",
     "iopub.status.busy": "2021-12-08T12:13:21.957492Z",
     "iopub.status.idle": "2021-12-08T12:13:21.960601Z",
     "shell.execute_reply": "2021-12-08T12:13:21.961189Z"
    },
    "papermill": {
     "duration": 0.043058,
     "end_time": "2021-12-08T12:13:21.961380",
     "exception": false,
     "start_time": "2021-12-08T12:13:21.918322",
     "status": "completed"
    },
    "tags": []
   },
   "outputs": [],
   "source": [
    "#hide\n",
    "# cols = ['name','group','day','value']"
   ]
  },
  {
   "cell_type": "code",
   "execution_count": 37,
   "id": "continued-sleeping",
   "metadata": {
    "execution": {
     "iopub.execute_input": "2021-12-08T12:13:22.035915Z",
     "iopub.status.busy": "2021-12-08T12:13:22.035267Z",
     "iopub.status.idle": "2021-12-08T12:13:22.039005Z",
     "shell.execute_reply": "2021-12-08T12:13:22.038480Z"
    },
    "papermill": {
     "duration": 0.042723,
     "end_time": "2021-12-08T12:13:22.039138",
     "exception": false,
     "start_time": "2021-12-08T12:13:21.996415",
     "status": "completed"
    },
    "tags": []
   },
   "outputs": [],
   "source": [
    "#hide\n",
    "# g.rename(columns= {'date':'day'},inplace = True)"
   ]
  },
  {
   "cell_type": "code",
   "execution_count": 38,
   "id": "major-fight",
   "metadata": {
    "execution": {
     "iopub.execute_input": "2021-12-08T12:13:22.118996Z",
     "iopub.status.busy": "2021-12-08T12:13:22.118246Z",
     "iopub.status.idle": "2021-12-08T12:13:22.122285Z",
     "shell.execute_reply": "2021-12-08T12:13:22.122819Z"
    },
    "papermill": {
     "duration": 0.045529,
     "end_time": "2021-12-08T12:13:22.122996",
     "exception": false,
     "start_time": "2021-12-08T12:13:22.077467",
     "status": "completed"
    },
    "tags": []
   },
   "outputs": [],
   "source": [
    "#hide\n",
    "# g = g[cols]"
   ]
  },
  {
   "cell_type": "code",
   "execution_count": 39,
   "id": "structured-mobile",
   "metadata": {
    "execution": {
     "iopub.execute_input": "2021-12-08T12:13:22.197298Z",
     "iopub.status.busy": "2021-12-08T12:13:22.196699Z",
     "iopub.status.idle": "2021-12-08T12:13:22.199364Z",
     "shell.execute_reply": "2021-12-08T12:13:22.198855Z"
    },
    "papermill": {
     "duration": 0.0418,
     "end_time": "2021-12-08T12:13:22.199491",
     "exception": false,
     "start_time": "2021-12-08T12:13:22.157691",
     "status": "completed"
    },
    "tags": []
   },
   "outputs": [],
   "source": [
    "# #hide\n",
    "# g = g[g.group.notna()]"
   ]
  },
  {
   "cell_type": "code",
   "execution_count": 40,
   "id": "determined-closing",
   "metadata": {
    "execution": {
     "iopub.execute_input": "2021-12-08T12:13:22.273878Z",
     "iopub.status.busy": "2021-12-08T12:13:22.273228Z",
     "iopub.status.idle": "2021-12-08T12:13:22.276070Z",
     "shell.execute_reply": "2021-12-08T12:13:22.276648Z"
    },
    "papermill": {
     "duration": 0.04268,
     "end_time": "2021-12-08T12:13:22.276803",
     "exception": false,
     "start_time": "2021-12-08T12:13:22.234123",
     "status": "completed"
    },
    "tags": []
   },
   "outputs": [],
   "source": [
    "# #hide\n",
    "# colors = dict(zip(\n",
    "#     [\"Oceania\", \"Europe\", \"Asia\", \"South America\", \"Middle East\", \"North America\", \"Africa\"],\n",
    "#     [\"#adb0ff\", \"#ffb3ff\", \"#90d595\", \"#e48381\", \"#aafbff\", \"#f7bb5f\", \"#eafb50\"]\n",
    "# ))\n",
    "# group_lk = g.set_index('name')['group'].to_dict()"
   ]
  },
  {
   "cell_type": "code",
   "execution_count": null,
   "id": "gross-drinking",
   "metadata": {
    "papermill": {
     "duration": 0.034485,
     "end_time": "2021-12-08T12:13:22.346336",
     "exception": false,
     "start_time": "2021-12-08T12:13:22.311851",
     "status": "completed"
    },
    "tags": []
   },
   "outputs": [],
   "source": []
  },
  {
   "cell_type": "code",
   "execution_count": 41,
   "id": "subject-macintosh",
   "metadata": {
    "execution": {
     "iopub.execute_input": "2021-12-08T12:13:22.421512Z",
     "iopub.status.busy": "2021-12-08T12:13:22.420886Z",
     "iopub.status.idle": "2021-12-08T12:13:22.423584Z",
     "shell.execute_reply": "2021-12-08T12:13:22.423100Z"
    },
    "papermill": {
     "duration": 0.04283,
     "end_time": "2021-12-08T12:13:22.423715",
     "exception": false,
     "start_time": "2021-12-08T12:13:22.380885",
     "status": "completed"
    },
    "tags": []
   },
   "outputs": [],
   "source": [
    "# #hide\n",
    "# fig, ax = plt.subplots(figsize=(15, 8))\n",
    "\n",
    "# def draw_barchart(current_day):\n",
    "#     dff = g[g['day'].eq(current_day)].sort_values(by='value', ascending=True).tail(10)\n",
    "#     ax.clear()\n",
    "#     ax.barh(dff['name'], dff['value'], color=[colors[group_lk[x]] for x in dff['name']])\n",
    "#     dx = dff['value'].max() / 200\n",
    "    \n",
    "#     for i, (value, name) in enumerate(zip(dff['value'], dff['name'])):\n",
    "#         ax.text(value-dx, i,     name,           size=14, weight=600, ha='right', va='bottom')\n",
    "#         ax.text(value-dx, i-.25, group_lk[name], size=10, color='#444444', ha='right', va='baseline')\n",
    "#         ax.text(value+dx, i,     f'{value:,.0f}',  size=14, ha='left',  va='center')\n",
    "#     ax.text(1, 0.4, current_day, transform=ax.transAxes, color='#777777', size=46, ha='right', weight=800)\n",
    "#     ax.text(0, 1.06, 'Population (thousands)', transform=ax.transAxes, size=12, color='#777777')\n",
    "#     ax.xaxis.set_major_formatter(ticker.StrMethodFormatter('{x:,.0f}'))\n",
    "#     ax.xaxis.set_ticks_position('top')\n",
    "#     ax.tick_params(axis='x', colors='#777777', labelsize=12)\n",
    "#     ax.set_yticks([])\n",
    "#     ax.margins(0, 0.01)\n",
    "#     ax.grid(which='major', axis='x', linestyle='-')\n",
    "#     ax.set_axisbelow(True)\n",
    "    \n",
    "#     ax.text(0, 1.15, 'Coronavirus',\n",
    "#             transform=ax.transAxes, size=24, weight=600, ha='left', va='top')\n",
    "# #     ax.text(1, 0, 'by @pratapvardhan; credit @jburnmurdoch', transform=ax.transAxes, color='#777777', ha='right',\n",
    "# #             bbox=dict(facecolor='white', alpha=0.8, edgecolor='white'))\n",
    "#     plt.box(False)"
   ]
  },
  {
   "cell_type": "code",
   "execution_count": 42,
   "id": "sexual-wages",
   "metadata": {
    "execution": {
     "iopub.execute_input": "2021-12-08T12:13:22.499620Z",
     "iopub.status.busy": "2021-12-08T12:13:22.498294Z",
     "iopub.status.idle": "2021-12-08T12:13:22.500367Z",
     "shell.execute_reply": "2021-12-08T12:13:22.500832Z"
    },
    "papermill": {
     "duration": 0.042509,
     "end_time": "2021-12-08T12:13:22.500982",
     "exception": false,
     "start_time": "2021-12-08T12:13:22.458473",
     "status": "completed"
    },
    "tags": []
   },
   "outputs": [],
   "source": [
    "# #hide_input\n",
    "# fig, ax = plt.subplots(figsize=(15, 8))\n",
    "# animator = animation.FuncAnimation(fig, draw_barchart, frames=range(g.day.values.min(), g.day.values.max()))\n",
    "# HTML(animator.to_jshtml())\n",
    "# # or use animator.to_html5_video() or animator.save() "
   ]
  },
  {
   "cell_type": "code",
   "execution_count": null,
   "id": "australian-container",
   "metadata": {
    "papermill": {
     "duration": 0.037962,
     "end_time": "2021-12-08T12:13:22.574165",
     "exception": false,
     "start_time": "2021-12-08T12:13:22.536203",
     "status": "completed"
    },
    "tags": []
   },
   "outputs": [],
   "source": []
  },
  {
   "cell_type": "code",
   "execution_count": null,
   "id": "mediterranean-pontiac",
   "metadata": {
    "papermill": {
     "duration": 0.035275,
     "end_time": "2021-12-08T12:13:22.644837",
     "exception": false,
     "start_time": "2021-12-08T12:13:22.609562",
     "status": "completed"
    },
    "tags": []
   },
   "outputs": [],
   "source": []
  },
  {
   "cell_type": "code",
   "execution_count": null,
   "id": "aging-legislature",
   "metadata": {
    "papermill": {
     "duration": 0.042996,
     "end_time": "2021-12-08T12:13:22.723268",
     "exception": false,
     "start_time": "2021-12-08T12:13:22.680272",
     "status": "completed"
    },
    "tags": []
   },
   "outputs": [],
   "source": []
  }
 ],
 "metadata": {
  "kernelspec": {
   "display_name": "Python 3",
   "language": "python",
   "name": "python3"
  },
  "language_info": {
   "codemirror_mode": {
    "name": "ipython",
    "version": 3
   },
   "file_extension": ".py",
   "mimetype": "text/x-python",
   "name": "python",
   "nbconvert_exporter": "python",
   "pygments_lexer": "ipython3",
   "version": "3.6.15"
  },
  "papermill": {
   "duration": 7.281012,
   "end_time": "2021-12-08T12:13:23.170479",
   "environment_variables": {},
   "exception": null,
   "input_path": "2020-03-21-covid19exp.ipynb",
   "output_path": "2020-03-21-covid19exp.ipynb",
   "parameters": {},
   "start_time": "2021-12-08T12:13:15.889467",
   "version": "2.0.0"
  }
 },
 "nbformat": 4,
 "nbformat_minor": 5
}