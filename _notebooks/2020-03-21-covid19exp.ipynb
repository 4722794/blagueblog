{
 "cells": [
  {
   "cell_type": "markdown",
   "id": "muslim-click",
   "metadata": {
    "papermill": {
     "duration": 0.039859,
     "end_time": "2021-11-14T00:25:01.159384",
     "exception": false,
     "start_time": "2021-11-14T00:25:01.119525",
     "status": "completed"
    },
    "tags": []
   },
   "source": [
    "# COVID-19 Case Race\n",
    "> A race chart to see rising cases around the world\n",
    "\n",
    "- author: Hargun Oberoi\n",
    "- image: images/covid-overview.png\n",
    "- hide: false\n",
    "- badges: false"
   ]
  },
  {
   "cell_type": "code",
   "execution_count": 1,
   "id": "proof-material",
   "metadata": {
    "execution": {
     "iopub.execute_input": "2021-11-14T00:25:01.244664Z",
     "iopub.status.busy": "2021-11-14T00:25:01.243978Z",
     "iopub.status.idle": "2021-11-14T00:25:01.638995Z",
     "shell.execute_reply": "2021-11-14T00:25:01.638479Z"
    },
    "papermill": {
     "duration": 0.443463,
     "end_time": "2021-11-14T00:25:01.639195",
     "exception": false,
     "start_time": "2021-11-14T00:25:01.195732",
     "status": "completed"
    },
    "tags": []
   },
   "outputs": [],
   "source": [
    "#hide\n",
    "import numpy as np\n",
    "import pandas as pd\n",
    "from jinja2 import Template\n",
    "from IPython.display import HTML"
   ]
  },
  {
   "cell_type": "code",
   "execution_count": 2,
   "id": "developed-terminology",
   "metadata": {
    "execution": {
     "iopub.execute_input": "2021-11-14T00:25:01.718513Z",
     "iopub.status.busy": "2021-11-14T00:25:01.717866Z",
     "iopub.status.idle": "2021-11-14T00:25:01.719855Z",
     "shell.execute_reply": "2021-11-14T00:25:01.720390Z"
    },
    "papermill": {
     "duration": 0.042504,
     "end_time": "2021-11-14T00:25:01.720531",
     "exception": false,
     "start_time": "2021-11-14T00:25:01.678027",
     "status": "completed"
    },
    "tags": []
   },
   "outputs": [],
   "source": [
    "#hide\n",
    "\n",
    "# FETCH\n",
    "base_url = 'https://raw.githubusercontent.com/pratapvardhan/notebooks/master/covid19/'\n",
    "paths = {\n",
    "    'mapping': base_url + 'mapping_countries.csv',\n",
    "    'overview': base_url + 'overview.tpl'\n",
    "}"
   ]
  },
  {
   "cell_type": "code",
   "execution_count": 3,
   "id": "dynamic-saver",
   "metadata": {
    "execution": {
     "iopub.execute_input": "2021-11-14T00:25:01.803010Z",
     "iopub.status.busy": "2021-11-14T00:25:01.802388Z",
     "iopub.status.idle": "2021-11-14T00:25:01.808508Z",
     "shell.execute_reply": "2021-11-14T00:25:01.809147Z"
    },
    "papermill": {
     "duration": 0.053833,
     "end_time": "2021-11-14T00:25:01.809344",
     "exception": false,
     "start_time": "2021-11-14T00:25:01.755511",
     "status": "completed"
    },
    "tags": []
   },
   "outputs": [
    {
     "data": {
      "text/plain": [
       "'https://raw.githubusercontent.com/pratapvardhan/notebooks/master/covid19/mapping_countries.csv'"
      ]
     },
     "execution_count": 3,
     "metadata": {},
     "output_type": "execute_result"
    }
   ],
   "source": [
    "#hide\n",
    "paths['mapping']"
   ]
  },
  {
   "cell_type": "code",
   "execution_count": 4,
   "id": "urban-software",
   "metadata": {
    "execution": {
     "iopub.execute_input": "2021-11-14T00:25:01.887409Z",
     "iopub.status.busy": "2021-11-14T00:25:01.886734Z",
     "iopub.status.idle": "2021-11-14T00:25:01.890092Z",
     "shell.execute_reply": "2021-11-14T00:25:01.890577Z"
    },
    "papermill": {
     "duration": 0.04459,
     "end_time": "2021-11-14T00:25:01.890703",
     "exception": false,
     "start_time": "2021-11-14T00:25:01.846113",
     "status": "completed"
    },
    "tags": []
   },
   "outputs": [],
   "source": [
    "#hide\n",
    "def get_mappings(url):\n",
    "    df = pd.read_csv(url)\n",
    "    return {\n",
    "        'df': df,\n",
    "        'replace.country': dict(df.dropna(subset=['Name']).set_index('Country')['Name']),\n",
    "        'map.continent': dict(df.set_index('Name')['Continent'])\n",
    "    }"
   ]
  },
  {
   "cell_type": "code",
   "execution_count": 5,
   "id": "intimate-machinery",
   "metadata": {
    "execution": {
     "iopub.execute_input": "2021-11-14T00:25:01.968646Z",
     "iopub.status.busy": "2021-11-14T00:25:01.968054Z",
     "iopub.status.idle": "2021-11-14T00:25:02.046290Z",
     "shell.execute_reply": "2021-11-14T00:25:02.045784Z"
    },
    "papermill": {
     "duration": 0.119356,
     "end_time": "2021-11-14T00:25:02.046582",
     "exception": false,
     "start_time": "2021-11-14T00:25:01.927226",
     "status": "completed"
    },
    "tags": []
   },
   "outputs": [],
   "source": [
    "#hide\n",
    "mapping = get_mappings(paths['mapping'])"
   ]
  },
  {
   "cell_type": "code",
   "execution_count": 6,
   "id": "certified-tactics",
   "metadata": {
    "execution": {
     "iopub.execute_input": "2021-11-14T00:25:02.126147Z",
     "iopub.status.busy": "2021-11-14T00:25:02.125504Z",
     "iopub.status.idle": "2021-11-14T00:25:02.127741Z",
     "shell.execute_reply": "2021-11-14T00:25:02.128333Z"
    },
    "papermill": {
     "duration": 0.044529,
     "end_time": "2021-11-14T00:25:02.128510",
     "exception": false,
     "start_time": "2021-11-14T00:25:02.083981",
     "status": "completed"
    },
    "tags": []
   },
   "outputs": [],
   "source": [
    "#hide\n",
    "def get_template(path):\n",
    "    from urllib.parse import urlparse\n",
    "    if bool(urlparse(path).netloc):\n",
    "        from urllib.request import urlopen\n",
    "        return urlopen(path).read().decode('utf8')\n",
    "    return open(path).read()"
   ]
  },
  {
   "cell_type": "code",
   "execution_count": 7,
   "id": "realistic-blast",
   "metadata": {
    "execution": {
     "iopub.execute_input": "2021-11-14T00:25:02.205855Z",
     "iopub.status.busy": "2021-11-14T00:25:02.205250Z",
     "iopub.status.idle": "2021-11-14T00:25:02.207196Z",
     "shell.execute_reply": "2021-11-14T00:25:02.207664Z"
    },
    "papermill": {
     "duration": 0.042778,
     "end_time": "2021-11-14T00:25:02.207800",
     "exception": false,
     "start_time": "2021-11-14T00:25:02.165022",
     "status": "completed"
    },
    "tags": []
   },
   "outputs": [],
   "source": [
    "#hide\n",
    "def get_frame(name):\n",
    "    url = (\n",
    "        'https://raw.githubusercontent.com/CSSEGISandData/COVID-19/master/csse_covid_19_data/'\n",
    "        f'csse_covid_19_time_series/time_series_covid19_{name}_global.csv')\n",
    "    df = pd.read_csv(url)\n",
    "    # rename countries\n",
    "    df['Country/Region'] = df['Country/Region'].replace(mapping['replace.country'])\n",
    "    return df"
   ]
  },
  {
   "cell_type": "code",
   "execution_count": 8,
   "id": "affiliated-characterization",
   "metadata": {
    "execution": {
     "iopub.execute_input": "2021-11-14T00:25:02.286677Z",
     "iopub.status.busy": "2021-11-14T00:25:02.286027Z",
     "iopub.status.idle": "2021-11-14T00:25:02.290324Z",
     "shell.execute_reply": "2021-11-14T00:25:02.290945Z"
    },
    "papermill": {
     "duration": 0.046965,
     "end_time": "2021-11-14T00:25:02.291140",
     "exception": false,
     "start_time": "2021-11-14T00:25:02.244175",
     "status": "completed"
    },
    "tags": []
   },
   "outputs": [],
   "source": [
    "#hide\n",
    "def get_dates(df):\n",
    "    dt_cols = df.columns[~df.columns.isin(['Province/State', 'Country/Region', 'Lat', 'Long'])]\n",
    "    LAST_DATE_I = -1\n",
    "    # sometimes last column may be empty, then go backwards\n",
    "    for i in range(-1, -len(dt_cols), -1):\n",
    "        if not df[dt_cols[i]].fillna(0).eq(0).all():\n",
    "            LAST_DATE_I = i\n",
    "            break\n",
    "    return LAST_DATE_I, dt_cols"
   ]
  },
  {
   "cell_type": "code",
   "execution_count": 9,
   "id": "recent-optimization",
   "metadata": {
    "execution": {
     "iopub.execute_input": "2021-11-14T00:25:02.376777Z",
     "iopub.status.busy": "2021-11-14T00:25:02.375995Z",
     "iopub.status.idle": "2021-11-14T00:25:03.067963Z",
     "shell.execute_reply": "2021-11-14T00:25:03.067242Z"
    },
    "papermill": {
     "duration": 0.736392,
     "end_time": "2021-11-14T00:25:03.068152",
     "exception": false,
     "start_time": "2021-11-14T00:25:02.331760",
     "status": "completed"
    },
    "tags": []
   },
   "outputs": [],
   "source": [
    "#hide\n",
    "COL_REGION = 'Country/Region'\n",
    "# Confirmed, Recovered, Deaths\n",
    "df = get_frame('confirmed')\n",
    "# dft_: timeseries, dfc_: today country agg\n",
    "dft_cases = df\n",
    "dft_deaths = get_frame('deaths')\n",
    "dft_recovered = get_frame('recovered')\n",
    "LAST_DATE_I, dt_cols = get_dates(df)"
   ]
  },
  {
   "cell_type": "code",
   "execution_count": 10,
   "id": "absolute-copper",
   "metadata": {
    "execution": {
     "iopub.execute_input": "2021-11-14T00:25:03.154518Z",
     "iopub.status.busy": "2021-11-14T00:25:03.153757Z",
     "iopub.status.idle": "2021-11-14T00:25:03.156536Z",
     "shell.execute_reply": "2021-11-14T00:25:03.157117Z"
    },
    "papermill": {
     "duration": 0.048039,
     "end_time": "2021-11-14T00:25:03.157251",
     "exception": false,
     "start_time": "2021-11-14T00:25:03.109212",
     "status": "completed"
    },
    "tags": []
   },
   "outputs": [],
   "source": [
    "#hide\n",
    "LAST_DATE_I, dt_cols = get_dates(df)\n",
    "dt_today =dt_cols[LAST_DATE_I]\n",
    "# dt_5day = dt_cols[LAST_DATE_I - 5]\n",
    "dt_yday = dt_cols[LAST_DATE_I - 1]"
   ]
  },
  {
   "cell_type": "code",
   "execution_count": 11,
   "id": "restricted-sheriff",
   "metadata": {
    "execution": {
     "iopub.execute_input": "2021-11-14T00:25:03.240313Z",
     "iopub.status.busy": "2021-11-14T00:25:03.239468Z",
     "iopub.status.idle": "2021-11-14T00:25:03.246135Z",
     "shell.execute_reply": "2021-11-14T00:25:03.246582Z"
    },
    "papermill": {
     "duration": 0.053762,
     "end_time": "2021-11-14T00:25:03.246744",
     "exception": false,
     "start_time": "2021-11-14T00:25:03.192982",
     "status": "completed"
    },
    "tags": []
   },
   "outputs": [],
   "source": [
    "#hide\n",
    "dfc_cases = dft_cases.groupby(COL_REGION)[dt_today].sum()\n",
    "dfc_deaths = dft_deaths.groupby(COL_REGION)[dt_today].sum()\n",
    "# dfp_cases = dft_cases.groupby(COL_REGION)[dt_5day].sum()\n",
    "# dfp_deaths = dft_deaths.groupby(COL_REGION)[dt_5day].sum()\n",
    "dfp_cases = dft_cases.groupby(COL_REGION)[dt_yday].sum()\n",
    "dfp_deaths = dft_deaths.groupby(COL_REGION)[dt_yday].sum()"
   ]
  },
  {
   "cell_type": "code",
   "execution_count": 12,
   "id": "deluxe-hepatitis",
   "metadata": {
    "execution": {
     "iopub.execute_input": "2021-11-14T00:25:03.327462Z",
     "iopub.status.busy": "2021-11-14T00:25:03.326713Z",
     "iopub.status.idle": "2021-11-14T00:25:03.331927Z",
     "shell.execute_reply": "2021-11-14T00:25:03.332628Z"
    },
    "papermill": {
     "duration": 0.049443,
     "end_time": "2021-11-14T00:25:03.332772",
     "exception": false,
     "start_time": "2021-11-14T00:25:03.283329",
     "status": "completed"
    },
    "tags": []
   },
   "outputs": [],
   "source": [
    "#hide\n",
    "df_table = (pd.DataFrame(dict(Cases = dfc_cases, Deaths = dfc_deaths, PCases = dfp_cases, PDeaths = dfp_deaths))\n",
    "            .sort_values(by = ['Cases','Deaths'], ascending = [False, False])\n",
    "            .reset_index())"
   ]
  },
  {
   "cell_type": "code",
   "execution_count": 13,
   "id": "educational-chancellor",
   "metadata": {
    "execution": {
     "iopub.execute_input": "2021-11-14T00:25:03.430196Z",
     "iopub.status.busy": "2021-11-14T00:25:03.429553Z",
     "iopub.status.idle": "2021-11-14T00:25:03.432520Z",
     "shell.execute_reply": "2021-11-14T00:25:03.433051Z"
    },
    "papermill": {
     "duration": 0.064424,
     "end_time": "2021-11-14T00:25:03.433195",
     "exception": false,
     "start_time": "2021-11-14T00:25:03.368771",
     "status": "completed"
    },
    "tags": []
   },
   "outputs": [
    {
     "data": {
      "text/html": [
       "<div>\n",
       "<style scoped>\n",
       "    .dataframe tbody tr th:only-of-type {\n",
       "        vertical-align: middle;\n",
       "    }\n",
       "\n",
       "    .dataframe tbody tr th {\n",
       "        vertical-align: top;\n",
       "    }\n",
       "\n",
       "    .dataframe thead th {\n",
       "        text-align: right;\n",
       "    }\n",
       "</style>\n",
       "<table border=\"1\" class=\"dataframe\">\n",
       "  <thead>\n",
       "    <tr style=\"text-align: right;\">\n",
       "      <th></th>\n",
       "      <th>Country/Region</th>\n",
       "      <th>Cases</th>\n",
       "      <th>Deaths</th>\n",
       "      <th>PCases</th>\n",
       "      <th>PDeaths</th>\n",
       "      <th>Cases (+)</th>\n",
       "      <th>Deaths (+)</th>\n",
       "      <th>Fatality Rate</th>\n",
       "      <th>Continent</th>\n",
       "    </tr>\n",
       "  </thead>\n",
       "  <tbody>\n",
       "    <tr>\n",
       "      <th>0</th>\n",
       "      <td>US</td>\n",
       "      <td>46991304</td>\n",
       "      <td>762520</td>\n",
       "      <td>46851529</td>\n",
       "      <td>760037</td>\n",
       "      <td>139775</td>\n",
       "      <td>2483</td>\n",
       "      <td>1.62</td>\n",
       "      <td>North America</td>\n",
       "    </tr>\n",
       "    <tr>\n",
       "      <th>1</th>\n",
       "      <td>India</td>\n",
       "      <td>34426036</td>\n",
       "      <td>463245</td>\n",
       "      <td>34414186</td>\n",
       "      <td>462690</td>\n",
       "      <td>11850</td>\n",
       "      <td>555</td>\n",
       "      <td>1.35</td>\n",
       "      <td>Asia</td>\n",
       "    </tr>\n",
       "    <tr>\n",
       "      <th>2</th>\n",
       "      <td>Brazil</td>\n",
       "      <td>21939196</td>\n",
       "      <td>610491</td>\n",
       "      <td>21924598</td>\n",
       "      <td>610224</td>\n",
       "      <td>14598</td>\n",
       "      <td>267</td>\n",
       "      <td>2.78</td>\n",
       "      <td>South America</td>\n",
       "    </tr>\n",
       "    <tr>\n",
       "      <th>3</th>\n",
       "      <td>United Kingdom</td>\n",
       "      <td>9534544</td>\n",
       "      <td>143116</td>\n",
       "      <td>9495395</td>\n",
       "      <td>142971</td>\n",
       "      <td>39149</td>\n",
       "      <td>145</td>\n",
       "      <td>1.50</td>\n",
       "      <td>Europe</td>\n",
       "    </tr>\n",
       "    <tr>\n",
       "      <th>4</th>\n",
       "      <td>Russia</td>\n",
       "      <td>8843238</td>\n",
       "      <td>248203</td>\n",
       "      <td>8804297</td>\n",
       "      <td>247000</td>\n",
       "      <td>38941</td>\n",
       "      <td>1203</td>\n",
       "      <td>2.81</td>\n",
       "      <td>Europe</td>\n",
       "    </tr>\n",
       "  </tbody>\n",
       "</table>\n",
       "</div>"
      ],
      "text/plain": [
       "   Country/Region     Cases  Deaths    PCases  PDeaths  Cases (+)  Deaths (+)  \\\n",
       "0              US  46991304  762520  46851529   760037     139775        2483   \n",
       "1           India  34426036  463245  34414186   462690      11850         555   \n",
       "2          Brazil  21939196  610491  21924598   610224      14598         267   \n",
       "3  United Kingdom   9534544  143116   9495395   142971      39149         145   \n",
       "4          Russia   8843238  248203   8804297   247000      38941        1203   \n",
       "\n",
       "   Fatality Rate      Continent  \n",
       "0           1.62  North America  \n",
       "1           1.35           Asia  \n",
       "2           2.78  South America  \n",
       "3           1.50         Europe  \n",
       "4           2.81         Europe  "
      ]
     },
     "execution_count": 13,
     "metadata": {},
     "output_type": "execute_result"
    }
   ],
   "source": [
    "#hide\n",
    "for c in 'Cases, Deaths'.split(', '):\n",
    "    df_table[f'{c} (+)'] = (df_table[c] - df_table[f'P{c}']).clip(0)\n",
    "    #Clip ça veut dire, les chiffres negatif sont interdit\n",
    "df_table['Fatality Rate'] = (100* df_table['Deaths']/ df_table['Cases']).round(2)\n",
    "df_table['Continent'] = df_table['Country/Region'].map(mapping['map.continent'])\n",
    "df_table.head(5)"
   ]
  },
  {
   "cell_type": "code",
   "execution_count": 14,
   "id": "aboriginal-bulgaria",
   "metadata": {
    "execution": {
     "iopub.execute_input": "2021-11-14T00:25:03.514014Z",
     "iopub.status.busy": "2021-11-14T00:25:03.513243Z",
     "iopub.status.idle": "2021-11-14T00:25:03.516464Z",
     "shell.execute_reply": "2021-11-14T00:25:03.517090Z"
    },
    "papermill": {
     "duration": 0.046234,
     "end_time": "2021-11-14T00:25:03.517245",
     "exception": false,
     "start_time": "2021-11-14T00:25:03.471011",
     "status": "completed"
    },
    "tags": []
   },
   "outputs": [],
   "source": [
    "#hide\n",
    "#delete problematic countries from table\n",
    "df_table = df_table[~df_table['Country/Region'].isin(['Cape Verde', 'Cruise Ship', 'Kosovo'])]"
   ]
  },
  {
   "cell_type": "code",
   "execution_count": 15,
   "id": "fantastic-effect",
   "metadata": {
    "execution": {
     "iopub.execute_input": "2021-11-14T00:25:03.609779Z",
     "iopub.status.busy": "2021-11-14T00:25:03.608893Z",
     "iopub.status.idle": "2021-11-14T00:25:03.634951Z",
     "shell.execute_reply": "2021-11-14T00:25:03.635577Z"
    },
    "papermill": {
     "duration": 0.080549,
     "end_time": "2021-11-14T00:25:03.635749",
     "exception": false,
     "start_time": "2021-11-14T00:25:03.555200",
     "status": "completed"
    },
    "tags": []
   },
   "outputs": [
    {
     "data": {
      "text/html": [
       "<div>\n",
       "<style scoped>\n",
       "    .dataframe tbody tr th:only-of-type {\n",
       "        vertical-align: middle;\n",
       "    }\n",
       "\n",
       "    .dataframe tbody tr th {\n",
       "        vertical-align: top;\n",
       "    }\n",
       "\n",
       "    .dataframe thead th {\n",
       "        text-align: right;\n",
       "    }\n",
       "</style>\n",
       "<table border=\"1\" class=\"dataframe\">\n",
       "  <thead>\n",
       "    <tr style=\"text-align: right;\">\n",
       "      <th></th>\n",
       "      <th>Country/Region</th>\n",
       "      <th>Cases</th>\n",
       "      <th>Deaths</th>\n",
       "      <th>PCases</th>\n",
       "      <th>PDeaths</th>\n",
       "      <th>Cases (+)</th>\n",
       "      <th>Deaths (+)</th>\n",
       "      <th>Fatality Rate</th>\n",
       "      <th>Continent</th>\n",
       "    </tr>\n",
       "  </thead>\n",
       "  <tbody>\n",
       "    <tr>\n",
       "      <th>0</th>\n",
       "      <td>US</td>\n",
       "      <td>46991304</td>\n",
       "      <td>762520</td>\n",
       "      <td>46851529</td>\n",
       "      <td>760037</td>\n",
       "      <td>139775</td>\n",
       "      <td>2483</td>\n",
       "      <td>1.6</td>\n",
       "      <td>North America</td>\n",
       "    </tr>\n",
       "    <tr>\n",
       "      <th>1</th>\n",
       "      <td>India</td>\n",
       "      <td>34426036</td>\n",
       "      <td>463245</td>\n",
       "      <td>34414186</td>\n",
       "      <td>462690</td>\n",
       "      <td>11850</td>\n",
       "      <td>555</td>\n",
       "      <td>1.3</td>\n",
       "      <td>Asia</td>\n",
       "    </tr>\n",
       "    <tr>\n",
       "      <th>2</th>\n",
       "      <td>Brazil</td>\n",
       "      <td>21939196</td>\n",
       "      <td>610491</td>\n",
       "      <td>21924598</td>\n",
       "      <td>610224</td>\n",
       "      <td>14598</td>\n",
       "      <td>267</td>\n",
       "      <td>2.8</td>\n",
       "      <td>South America</td>\n",
       "    </tr>\n",
       "    <tr>\n",
       "      <th>3</th>\n",
       "      <td>United Kingdom</td>\n",
       "      <td>9534544</td>\n",
       "      <td>143116</td>\n",
       "      <td>9495395</td>\n",
       "      <td>142971</td>\n",
       "      <td>39149</td>\n",
       "      <td>145</td>\n",
       "      <td>1.5</td>\n",
       "      <td>Europe</td>\n",
       "    </tr>\n",
       "    <tr>\n",
       "      <th>4</th>\n",
       "      <td>Russia</td>\n",
       "      <td>8843238</td>\n",
       "      <td>248203</td>\n",
       "      <td>8804297</td>\n",
       "      <td>247000</td>\n",
       "      <td>38941</td>\n",
       "      <td>1203</td>\n",
       "      <td>2.8</td>\n",
       "      <td>Europe</td>\n",
       "    </tr>\n",
       "  </tbody>\n",
       "</table>\n",
       "</div>"
      ],
      "text/plain": [
       "   Country/Region     Cases  Deaths    PCases  PDeaths  Cases (+)  Deaths (+)  \\\n",
       "0              US  46991304  762520  46851529   760037     139775        2483   \n",
       "1           India  34426036  463245  34414186   462690      11850         555   \n",
       "2          Brazil  21939196  610491  21924598   610224      14598         267   \n",
       "3  United Kingdom   9534544  143116   9495395   142971      39149         145   \n",
       "4          Russia   8843238  248203   8804297   247000      38941        1203   \n",
       "\n",
       "   Fatality Rate      Continent  \n",
       "0            1.6  North America  \n",
       "1            1.3           Asia  \n",
       "2            2.8  South America  \n",
       "3            1.5         Europe  \n",
       "4            2.8         Europe  "
      ]
     },
     "execution_count": 15,
     "metadata": {},
     "output_type": "execute_result"
    }
   ],
   "source": [
    "#hide\n",
    "df_table = (pd.DataFrame(dict(Cases=dfc_cases, Deaths=dfc_deaths, PCases=dfp_cases, PDeaths=dfp_deaths))\n",
    "             .sort_values(by=['Cases', 'Deaths'], ascending=[False, False])\n",
    "             .reset_index())\n",
    "df_table.rename(columns={'index': 'Country/Region'}, inplace=True)\n",
    "for c in 'Cases, Deaths'.split(', '):\n",
    "    df_table[f'{c} (+)'] = (df_table[c] - df_table[f'P{c}']).clip(0)  # DATA BUG\n",
    "df_table['Fatality Rate'] = (100 * df_table['Deaths'] / df_table['Cases']).round(1)\n",
    "df_table['Continent'] = df_table['Country/Region'].map(mapping['map.continent'])\n",
    "df_table.head(5)"
   ]
  },
  {
   "cell_type": "code",
   "execution_count": 16,
   "id": "fewer-occasion",
   "metadata": {
    "execution": {
     "iopub.execute_input": "2021-11-14T00:25:03.724379Z",
     "iopub.status.busy": "2021-11-14T00:25:03.723616Z",
     "iopub.status.idle": "2021-11-14T00:25:03.730538Z",
     "shell.execute_reply": "2021-11-14T00:25:03.731178Z"
    },
    "papermill": {
     "duration": 0.054545,
     "end_time": "2021-11-14T00:25:03.731356",
     "exception": false,
     "start_time": "2021-11-14T00:25:03.676811",
     "status": "completed"
    },
    "tags": []
   },
   "outputs": [],
   "source": [
    "#hide\n",
    "#delete problematic countries from table\n",
    "df_table = df_table[~df_table['Country/Region'].isin(['Cape Verde', 'Cruise Ship', 'Kosovo'])]"
   ]
  },
  {
   "cell_type": "code",
   "execution_count": 17,
   "id": "related-center",
   "metadata": {
    "execution": {
     "iopub.execute_input": "2021-11-14T00:25:03.838789Z",
     "iopub.status.busy": "2021-11-14T00:25:03.837671Z",
     "iopub.status.idle": "2021-11-14T00:25:03.839768Z",
     "shell.execute_reply": "2021-11-14T00:25:03.840271Z"
    },
    "papermill": {
     "duration": 0.065922,
     "end_time": "2021-11-14T00:25:03.840458",
     "exception": false,
     "start_time": "2021-11-14T00:25:03.774536",
     "status": "completed"
    },
    "tags": []
   },
   "outputs": [],
   "source": [
    "#hide\n",
    "metrics = [df_table.columns[index] for index in [1,2,5,6]]\n",
    "# s_china = df_table[df_table['Country/Region'].eq('China')][metrics].sum().add_prefix('China ')\n",
    "s_us = df_table[df_table['Country/Region'].eq('US')][metrics].sum().add_prefix('US ')\n",
    "s_eu = df_table[df_table['Continent'].eq('Europe')][metrics].sum().add_prefix('EU ')\n",
    "s_ind = df_table[df_table['Country/Region'].eq('India')][metrics].sum().add_prefix('India ')\n",
    "summary = {'updated': pd.to_datetime(dt_today), 'since': pd.to_datetime(dt_yday)}\n",
    "summary = {'updated': pd.to_datetime(dt_today), 'since': pd.to_datetime(dt_yday)}\n",
    "summary = {**summary, **df_table[metrics].sum(), **s_ind, **s_us, **s_eu}"
   ]
  },
  {
   "cell_type": "code",
   "execution_count": 18,
   "id": "engaging-syndrome",
   "metadata": {
    "execution": {
     "iopub.execute_input": "2021-11-14T00:25:03.920677Z",
     "iopub.status.busy": "2021-11-14T00:25:03.920038Z",
     "iopub.status.idle": "2021-11-14T00:25:03.937902Z",
     "shell.execute_reply": "2021-11-14T00:25:03.937394Z"
    },
    "papermill": {
     "duration": 0.059595,
     "end_time": "2021-11-14T00:25:03.938029",
     "exception": false,
     "start_time": "2021-11-14T00:25:03.878434",
     "status": "completed"
    },
    "tags": []
   },
   "outputs": [],
   "source": [
    "#hide\n",
    "dft_ct_new_cases = dft_cases.groupby(COL_REGION)[dt_cols].sum().diff(axis=1).fillna(0).astype(int)"
   ]
  },
  {
   "cell_type": "code",
   "execution_count": 19,
   "id": "neutral-assignment",
   "metadata": {
    "execution": {
     "iopub.execute_input": "2021-11-14T00:25:04.018559Z",
     "iopub.status.busy": "2021-11-14T00:25:04.017720Z",
     "iopub.status.idle": "2021-11-14T00:25:04.022025Z",
     "shell.execute_reply": "2021-11-14T00:25:04.022627Z"
    },
    "papermill": {
     "duration": 0.047954,
     "end_time": "2021-11-14T00:25:04.022805",
     "exception": false,
     "start_time": "2021-11-14T00:25:03.974851",
     "status": "completed"
    },
    "tags": []
   },
   "outputs": [],
   "source": [
    "#hide\n",
    "everydaycases = dft_ct_new_cases.cumsum(axis=1)"
   ]
  },
  {
   "cell_type": "code",
   "execution_count": 20,
   "id": "parliamentary-calgary",
   "metadata": {
    "execution": {
     "iopub.execute_input": "2021-11-14T00:25:04.109535Z",
     "iopub.status.busy": "2021-11-14T00:25:04.105797Z",
     "iopub.status.idle": "2021-11-14T00:25:04.716776Z",
     "shell.execute_reply": "2021-11-14T00:25:04.717342Z"
    },
    "papermill": {
     "duration": 0.654737,
     "end_time": "2021-11-14T00:25:04.717525",
     "exception": false,
     "start_time": "2021-11-14T00:25:04.062788",
     "status": "completed"
    },
    "tags": []
   },
   "outputs": [],
   "source": [
    "#hide\n",
    "import pandas as pd\n",
    "import matplotlib.pyplot as plt\n",
    "import matplotlib.ticker as ticker\n",
    "import matplotlib.animation as animation\n",
    "from IPython.display import HTML"
   ]
  },
  {
   "cell_type": "code",
   "execution_count": 21,
   "id": "lasting-extraction",
   "metadata": {
    "execution": {
     "iopub.execute_input": "2021-11-14T00:25:04.798587Z",
     "iopub.status.busy": "2021-11-14T00:25:04.797957Z",
     "iopub.status.idle": "2021-11-14T00:25:04.803520Z",
     "shell.execute_reply": "2021-11-14T00:25:04.804108Z"
    },
    "papermill": {
     "duration": 0.048525,
     "end_time": "2021-11-14T00:25:04.804242",
     "exception": false,
     "start_time": "2021-11-14T00:25:04.755717",
     "status": "completed"
    },
    "tags": []
   },
   "outputs": [],
   "source": [
    "#hide\n",
    "t = everydaycases.stack()"
   ]
  },
  {
   "cell_type": "code",
   "execution_count": 22,
   "id": "premier-sleeve",
   "metadata": {
    "execution": {
     "iopub.execute_input": "2021-11-14T00:25:04.881865Z",
     "iopub.status.busy": "2021-11-14T00:25:04.881062Z",
     "iopub.status.idle": "2021-11-14T00:25:04.890752Z",
     "shell.execute_reply": "2021-11-14T00:25:04.891401Z"
    },
    "papermill": {
     "duration": 0.050666,
     "end_time": "2021-11-14T00:25:04.891547",
     "exception": false,
     "start_time": "2021-11-14T00:25:04.840881",
     "status": "completed"
    },
    "tags": []
   },
   "outputs": [],
   "source": [
    "#hide\n",
    "g = t.reset_index(['Country/Region'])"
   ]
  },
  {
   "cell_type": "code",
   "execution_count": 23,
   "id": "distributed-pittsburgh",
   "metadata": {
    "execution": {
     "iopub.execute_input": "2021-11-14T00:25:04.976494Z",
     "iopub.status.busy": "2021-11-14T00:25:04.975820Z",
     "iopub.status.idle": "2021-11-14T00:25:04.978807Z",
     "shell.execute_reply": "2021-11-14T00:25:04.978068Z"
    },
    "papermill": {
     "duration": 0.047282,
     "end_time": "2021-11-14T00:25:04.978940",
     "exception": false,
     "start_time": "2021-11-14T00:25:04.931658",
     "status": "completed"
    },
    "tags": []
   },
   "outputs": [],
   "source": [
    "#hide\n",
    "g.index.name = 'date'"
   ]
  },
  {
   "cell_type": "code",
   "execution_count": 24,
   "id": "naked-donor",
   "metadata": {
    "execution": {
     "iopub.execute_input": "2021-11-14T00:25:05.061898Z",
     "iopub.status.busy": "2021-11-14T00:25:05.061268Z",
     "iopub.status.idle": "2021-11-14T00:25:05.063258Z",
     "shell.execute_reply": "2021-11-14T00:25:05.063874Z"
    },
    "papermill": {
     "duration": 0.047069,
     "end_time": "2021-11-14T00:25:05.064006",
     "exception": false,
     "start_time": "2021-11-14T00:25:05.016937",
     "status": "completed"
    },
    "tags": []
   },
   "outputs": [],
   "source": [
    "# #hide\n",
    "# g = g.reset_index(['date'])"
   ]
  },
  {
   "cell_type": "code",
   "execution_count": 25,
   "id": "incomplete-mustang",
   "metadata": {
    "execution": {
     "iopub.execute_input": "2021-11-14T00:25:05.142640Z",
     "iopub.status.busy": "2021-11-14T00:25:05.141950Z",
     "iopub.status.idle": "2021-11-14T00:25:05.145672Z",
     "shell.execute_reply": "2021-11-14T00:25:05.146153Z"
    },
    "papermill": {
     "duration": 0.044939,
     "end_time": "2021-11-14T00:25:05.146342",
     "exception": false,
     "start_time": "2021-11-14T00:25:05.101403",
     "status": "completed"
    },
    "tags": []
   },
   "outputs": [],
   "source": [
    "#hide\n",
    "# g.head()"
   ]
  },
  {
   "cell_type": "code",
   "execution_count": 26,
   "id": "specific-kruger",
   "metadata": {
    "execution": {
     "iopub.execute_input": "2021-11-14T00:25:05.223926Z",
     "iopub.status.busy": "2021-11-14T00:25:05.223304Z",
     "iopub.status.idle": "2021-11-14T00:25:05.226141Z",
     "shell.execute_reply": "2021-11-14T00:25:05.226628Z"
    },
    "papermill": {
     "duration": 0.042524,
     "end_time": "2021-11-14T00:25:05.226795",
     "exception": false,
     "start_time": "2021-11-14T00:25:05.184271",
     "status": "completed"
    },
    "tags": []
   },
   "outputs": [],
   "source": [
    "#hide\n",
    "# g.columns = ['date','country','cases']"
   ]
  },
  {
   "cell_type": "code",
   "execution_count": 27,
   "id": "tender-conversion",
   "metadata": {
    "execution": {
     "iopub.execute_input": "2021-11-14T00:25:05.305887Z",
     "iopub.status.busy": "2021-11-14T00:25:05.305246Z",
     "iopub.status.idle": "2021-11-14T00:25:05.307340Z",
     "shell.execute_reply": "2021-11-14T00:25:05.307821Z"
    },
    "papermill": {
     "duration": 0.043179,
     "end_time": "2021-11-14T00:25:05.307974",
     "exception": false,
     "start_time": "2021-11-14T00:25:05.264795",
     "status": "completed"
    },
    "tags": []
   },
   "outputs": [],
   "source": [
    "#hide\n",
    "# g['continent'] = g.country"
   ]
  },
  {
   "cell_type": "code",
   "execution_count": 28,
   "id": "substantial-wilderness",
   "metadata": {
    "execution": {
     "iopub.execute_input": "2021-11-14T00:25:05.390487Z",
     "iopub.status.busy": "2021-11-14T00:25:05.389862Z",
     "iopub.status.idle": "2021-11-14T00:25:05.393699Z",
     "shell.execute_reply": "2021-11-14T00:25:05.394182Z"
    },
    "papermill": {
     "duration": 0.048317,
     "end_time": "2021-11-14T00:25:05.394323",
     "exception": false,
     "start_time": "2021-11-14T00:25:05.346006",
     "status": "completed"
    },
    "tags": []
   },
   "outputs": [],
   "source": [
    "#hide\n",
    "# cols = list(g.columns.values)"
   ]
  },
  {
   "cell_type": "code",
   "execution_count": 29,
   "id": "solved-farming",
   "metadata": {
    "execution": {
     "iopub.execute_input": "2021-11-14T00:25:05.474358Z",
     "iopub.status.busy": "2021-11-14T00:25:05.473540Z",
     "iopub.status.idle": "2021-11-14T00:25:05.476003Z",
     "shell.execute_reply": "2021-11-14T00:25:05.475366Z"
    },
    "papermill": {
     "duration": 0.043351,
     "end_time": "2021-11-14T00:25:05.476121",
     "exception": false,
     "start_time": "2021-11-14T00:25:05.432770",
     "status": "completed"
    },
    "tags": []
   },
   "outputs": [],
   "source": [
    "#hide\n",
    "# cols.insert(0, cols.pop())"
   ]
  },
  {
   "cell_type": "code",
   "execution_count": 30,
   "id": "executed-adoption",
   "metadata": {
    "execution": {
     "iopub.execute_input": "2021-11-14T00:25:05.557413Z",
     "iopub.status.busy": "2021-11-14T00:25:05.556790Z",
     "iopub.status.idle": "2021-11-14T00:25:05.560358Z",
     "shell.execute_reply": "2021-11-14T00:25:05.560924Z"
    },
    "papermill": {
     "duration": 0.046096,
     "end_time": "2021-11-14T00:25:05.561077",
     "exception": false,
     "start_time": "2021-11-14T00:25:05.514981",
     "status": "completed"
    },
    "tags": []
   },
   "outputs": [],
   "source": [
    "#hide\n",
    "# g = g[cols]"
   ]
  },
  {
   "cell_type": "code",
   "execution_count": 31,
   "id": "subject-dublin",
   "metadata": {
    "execution": {
     "iopub.execute_input": "2021-11-14T00:25:05.638769Z",
     "iopub.status.busy": "2021-11-14T00:25:05.638150Z",
     "iopub.status.idle": "2021-11-14T00:25:05.641703Z",
     "shell.execute_reply": "2021-11-14T00:25:05.642135Z"
    },
    "papermill": {
     "duration": 0.044075,
     "end_time": "2021-11-14T00:25:05.642269",
     "exception": false,
     "start_time": "2021-11-14T00:25:05.598194",
     "status": "completed"
    },
    "tags": []
   },
   "outputs": [],
   "source": [
    "#hide\n",
    "# g['continent'] = g['continent'].map(mapping['map.continent'])"
   ]
  },
  {
   "cell_type": "code",
   "execution_count": 32,
   "id": "freelance-scout",
   "metadata": {
    "execution": {
     "iopub.execute_input": "2021-11-14T00:25:05.719941Z",
     "iopub.status.busy": "2021-11-14T00:25:05.719234Z",
     "iopub.status.idle": "2021-11-14T00:25:05.721263Z",
     "shell.execute_reply": "2021-11-14T00:25:05.720664Z"
    },
    "papermill": {
     "duration": 0.041674,
     "end_time": "2021-11-14T00:25:05.721383",
     "exception": false,
     "start_time": "2021-11-14T00:25:05.679709",
     "status": "completed"
    },
    "tags": []
   },
   "outputs": [],
   "source": [
    "#hide\n",
    "# g.head()"
   ]
  },
  {
   "cell_type": "code",
   "execution_count": 33,
   "id": "limited-engine",
   "metadata": {
    "execution": {
     "iopub.execute_input": "2021-11-14T00:25:05.800927Z",
     "iopub.status.busy": "2021-11-14T00:25:05.800244Z",
     "iopub.status.idle": "2021-11-14T00:25:05.802608Z",
     "shell.execute_reply": "2021-11-14T00:25:05.801993Z"
    },
    "papermill": {
     "duration": 0.04186,
     "end_time": "2021-11-14T00:25:05.802728",
     "exception": false,
     "start_time": "2021-11-14T00:25:05.760868",
     "status": "completed"
    },
    "tags": []
   },
   "outputs": [],
   "source": [
    "# hide\n",
    "# g['date'] = g['date'].astype('datetime64[ns]')"
   ]
  },
  {
   "cell_type": "code",
   "execution_count": 34,
   "id": "sophisticated-supervisor",
   "metadata": {
    "execution": {
     "iopub.execute_input": "2021-11-14T00:25:05.880077Z",
     "iopub.status.busy": "2021-11-14T00:25:05.879385Z",
     "iopub.status.idle": "2021-11-14T00:25:05.882718Z",
     "shell.execute_reply": "2021-11-14T00:25:05.882183Z"
    },
    "papermill": {
     "duration": 0.043912,
     "end_time": "2021-11-14T00:25:05.882857",
     "exception": false,
     "start_time": "2021-11-14T00:25:05.838945",
     "status": "completed"
    },
    "tags": []
   },
   "outputs": [],
   "source": [
    "#hide\n",
    "# g['date'] = g.date.dt.dayofyear"
   ]
  },
  {
   "cell_type": "code",
   "execution_count": 35,
   "id": "inside-dubai",
   "metadata": {
    "execution": {
     "iopub.execute_input": "2021-11-14T00:25:05.964885Z",
     "iopub.status.busy": "2021-11-14T00:25:05.964239Z",
     "iopub.status.idle": "2021-11-14T00:25:05.968188Z",
     "shell.execute_reply": "2021-11-14T00:25:05.968644Z"
    },
    "papermill": {
     "duration": 0.04746,
     "end_time": "2021-11-14T00:25:05.968782",
     "exception": false,
     "start_time": "2021-11-14T00:25:05.921322",
     "status": "completed"
    },
    "tags": []
   },
   "outputs": [],
   "source": [
    "#hide\n",
    "# g = g.rename(columns= {'continent':'group','country':'name','cases':'value'})"
   ]
  },
  {
   "cell_type": "code",
   "execution_count": 36,
   "id": "fleet-motorcycle",
   "metadata": {
    "execution": {
     "iopub.execute_input": "2021-11-14T00:25:06.047506Z",
     "iopub.status.busy": "2021-11-14T00:25:06.046753Z",
     "iopub.status.idle": "2021-11-14T00:25:06.049061Z",
     "shell.execute_reply": "2021-11-14T00:25:06.048368Z"
    },
    "papermill": {
     "duration": 0.042838,
     "end_time": "2021-11-14T00:25:06.049194",
     "exception": false,
     "start_time": "2021-11-14T00:25:06.006356",
     "status": "completed"
    },
    "tags": []
   },
   "outputs": [],
   "source": [
    "#hide\n",
    "# cols = ['name','group','day','value']"
   ]
  },
  {
   "cell_type": "code",
   "execution_count": 37,
   "id": "continued-sleeping",
   "metadata": {
    "execution": {
     "iopub.execute_input": "2021-11-14T00:25:06.126810Z",
     "iopub.status.busy": "2021-11-14T00:25:06.126148Z",
     "iopub.status.idle": "2021-11-14T00:25:06.129883Z",
     "shell.execute_reply": "2021-11-14T00:25:06.130379Z"
    },
    "papermill": {
     "duration": 0.043481,
     "end_time": "2021-11-14T00:25:06.130525",
     "exception": false,
     "start_time": "2021-11-14T00:25:06.087044",
     "status": "completed"
    },
    "tags": []
   },
   "outputs": [],
   "source": [
    "#hide\n",
    "# g.rename(columns= {'date':'day'},inplace = True)"
   ]
  },
  {
   "cell_type": "code",
   "execution_count": 38,
   "id": "major-fight",
   "metadata": {
    "execution": {
     "iopub.execute_input": "2021-11-14T00:25:06.210105Z",
     "iopub.status.busy": "2021-11-14T00:25:06.209319Z",
     "iopub.status.idle": "2021-11-14T00:25:06.211480Z",
     "shell.execute_reply": "2021-11-14T00:25:06.211950Z"
    },
    "papermill": {
     "duration": 0.044124,
     "end_time": "2021-11-14T00:25:06.212329",
     "exception": false,
     "start_time": "2021-11-14T00:25:06.168205",
     "status": "completed"
    },
    "tags": []
   },
   "outputs": [],
   "source": [
    "#hide\n",
    "# g = g[cols]"
   ]
  },
  {
   "cell_type": "code",
   "execution_count": 39,
   "id": "structured-mobile",
   "metadata": {
    "execution": {
     "iopub.execute_input": "2021-11-14T00:25:06.298743Z",
     "iopub.status.busy": "2021-11-14T00:25:06.298110Z",
     "iopub.status.idle": "2021-11-14T00:25:06.301810Z",
     "shell.execute_reply": "2021-11-14T00:25:06.302319Z"
    },
    "papermill": {
     "duration": 0.044995,
     "end_time": "2021-11-14T00:25:06.302475",
     "exception": false,
     "start_time": "2021-11-14T00:25:06.257480",
     "status": "completed"
    },
    "tags": []
   },
   "outputs": [],
   "source": [
    "# #hide\n",
    "# g = g[g.group.notna()]"
   ]
  },
  {
   "cell_type": "code",
   "execution_count": 40,
   "id": "determined-closing",
   "metadata": {
    "execution": {
     "iopub.execute_input": "2021-11-14T00:25:06.382375Z",
     "iopub.status.busy": "2021-11-14T00:25:06.381659Z",
     "iopub.status.idle": "2021-11-14T00:25:06.383852Z",
     "shell.execute_reply": "2021-11-14T00:25:06.383102Z"
    },
    "papermill": {
     "duration": 0.044084,
     "end_time": "2021-11-14T00:25:06.383999",
     "exception": false,
     "start_time": "2021-11-14T00:25:06.339915",
     "status": "completed"
    },
    "tags": []
   },
   "outputs": [],
   "source": [
    "# #hide\n",
    "# colors = dict(zip(\n",
    "#     [\"Oceania\", \"Europe\", \"Asia\", \"South America\", \"Middle East\", \"North America\", \"Africa\"],\n",
    "#     [\"#adb0ff\", \"#ffb3ff\", \"#90d595\", \"#e48381\", \"#aafbff\", \"#f7bb5f\", \"#eafb50\"]\n",
    "# ))\n",
    "# group_lk = g.set_index('name')['group'].to_dict()"
   ]
  },
  {
   "cell_type": "code",
   "execution_count": null,
   "id": "gross-drinking",
   "metadata": {
    "papermill": {
     "duration": 0.03653,
     "end_time": "2021-11-14T00:25:06.458411",
     "exception": false,
     "start_time": "2021-11-14T00:25:06.421881",
     "status": "completed"
    },
    "tags": []
   },
   "outputs": [],
   "source": []
  },
  {
   "cell_type": "code",
   "execution_count": 41,
   "id": "subject-macintosh",
   "metadata": {
    "execution": {
     "iopub.execute_input": "2021-11-14T00:25:06.537377Z",
     "iopub.status.busy": "2021-11-14T00:25:06.536736Z",
     "iopub.status.idle": "2021-11-14T00:25:06.541414Z",
     "shell.execute_reply": "2021-11-14T00:25:06.540927Z"
    },
    "papermill": {
     "duration": 0.04776,
     "end_time": "2021-11-14T00:25:06.541549",
     "exception": false,
     "start_time": "2021-11-14T00:25:06.493789",
     "status": "completed"
    },
    "tags": []
   },
   "outputs": [],
   "source": [
    "# #hide\n",
    "# fig, ax = plt.subplots(figsize=(15, 8))\n",
    "\n",
    "# def draw_barchart(current_day):\n",
    "#     dff = g[g['day'].eq(current_day)].sort_values(by='value', ascending=True).tail(10)\n",
    "#     ax.clear()\n",
    "#     ax.barh(dff['name'], dff['value'], color=[colors[group_lk[x]] for x in dff['name']])\n",
    "#     dx = dff['value'].max() / 200\n",
    "    \n",
    "#     for i, (value, name) in enumerate(zip(dff['value'], dff['name'])):\n",
    "#         ax.text(value-dx, i,     name,           size=14, weight=600, ha='right', va='bottom')\n",
    "#         ax.text(value-dx, i-.25, group_lk[name], size=10, color='#444444', ha='right', va='baseline')\n",
    "#         ax.text(value+dx, i,     f'{value:,.0f}',  size=14, ha='left',  va='center')\n",
    "#     ax.text(1, 0.4, current_day, transform=ax.transAxes, color='#777777', size=46, ha='right', weight=800)\n",
    "#     ax.text(0, 1.06, 'Population (thousands)', transform=ax.transAxes, size=12, color='#777777')\n",
    "#     ax.xaxis.set_major_formatter(ticker.StrMethodFormatter('{x:,.0f}'))\n",
    "#     ax.xaxis.set_ticks_position('top')\n",
    "#     ax.tick_params(axis='x', colors='#777777', labelsize=12)\n",
    "#     ax.set_yticks([])\n",
    "#     ax.margins(0, 0.01)\n",
    "#     ax.grid(which='major', axis='x', linestyle='-')\n",
    "#     ax.set_axisbelow(True)\n",
    "    \n",
    "#     ax.text(0, 1.15, 'Coronavirus',\n",
    "#             transform=ax.transAxes, size=24, weight=600, ha='left', va='top')\n",
    "# #     ax.text(1, 0, 'by @pratapvardhan; credit @jburnmurdoch', transform=ax.transAxes, color='#777777', ha='right',\n",
    "# #             bbox=dict(facecolor='white', alpha=0.8, edgecolor='white'))\n",
    "#     plt.box(False)"
   ]
  },
  {
   "cell_type": "code",
   "execution_count": 42,
   "id": "sexual-wages",
   "metadata": {
    "execution": {
     "iopub.execute_input": "2021-11-14T00:25:06.627524Z",
     "iopub.status.busy": "2021-11-14T00:25:06.626843Z",
     "iopub.status.idle": "2021-11-14T00:25:06.630176Z",
     "shell.execute_reply": "2021-11-14T00:25:06.630728Z"
    },
    "papermill": {
     "duration": 0.045434,
     "end_time": "2021-11-14T00:25:06.630855",
     "exception": false,
     "start_time": "2021-11-14T00:25:06.585421",
     "status": "completed"
    },
    "tags": []
   },
   "outputs": [],
   "source": [
    "# #hide_input\n",
    "# fig, ax = plt.subplots(figsize=(15, 8))\n",
    "# animator = animation.FuncAnimation(fig, draw_barchart, frames=range(g.day.values.min(), g.day.values.max()))\n",
    "# HTML(animator.to_jshtml())\n",
    "# # or use animator.to_html5_video() or animator.save() "
   ]
  },
  {
   "cell_type": "code",
   "execution_count": null,
   "id": "australian-container",
   "metadata": {
    "papermill": {
     "duration": 0.03685,
     "end_time": "2021-11-14T00:25:06.705364",
     "exception": false,
     "start_time": "2021-11-14T00:25:06.668514",
     "status": "completed"
    },
    "tags": []
   },
   "outputs": [],
   "source": []
  },
  {
   "cell_type": "code",
   "execution_count": null,
   "id": "mediterranean-pontiac",
   "metadata": {
    "papermill": {
     "duration": 0.041225,
     "end_time": "2021-11-14T00:25:06.785650",
     "exception": false,
     "start_time": "2021-11-14T00:25:06.744425",
     "status": "completed"
    },
    "tags": []
   },
   "outputs": [],
   "source": []
  },
  {
   "cell_type": "code",
   "execution_count": null,
   "id": "aging-legislature",
   "metadata": {
    "papermill": {
     "duration": 0.039247,
     "end_time": "2021-11-14T00:25:06.864090",
     "exception": false,
     "start_time": "2021-11-14T00:25:06.824843",
     "status": "completed"
    },
    "tags": []
   },
   "outputs": [],
   "source": []
  }
 ],
 "metadata": {
  "kernelspec": {
   "display_name": "Python 3",
   "language": "python",
   "name": "python3"
  },
  "language_info": {
   "codemirror_mode": {
    "name": "ipython",
    "version": 3
   },
   "file_extension": ".py",
   "mimetype": "text/x-python",
   "name": "python",
   "nbconvert_exporter": "python",
   "pygments_lexer": "ipython3",
   "version": "3.6.15"
  },
  "papermill": {
   "duration": 7.206616,
   "end_time": "2021-11-14T00:25:07.211438",
   "environment_variables": {},
   "exception": null,
   "input_path": "2020-03-21-covid19exp.ipynb",
   "output_path": "2020-03-21-covid19exp.ipynb",
   "parameters": {},
   "start_time": "2021-11-14T00:25:00.004822",
   "version": "2.0.0"
  }
 },
 "nbformat": 4,
 "nbformat_minor": 5
}