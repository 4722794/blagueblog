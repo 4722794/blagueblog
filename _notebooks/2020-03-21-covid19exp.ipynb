{
 "cells": [
  {
   "cell_type": "markdown",
   "id": "muslim-click",
   "metadata": {
    "papermill": {
     "duration": 0.038777,
     "end_time": "2022-03-09T00:33:35.022079",
     "exception": false,
     "start_time": "2022-03-09T00:33:34.983302",
     "status": "completed"
    },
    "tags": []
   },
   "source": [
    "# COVID-19 Case Race\n",
    "> A race chart to see rising cases around the world\n",
    "\n",
    "- author: Hargun Oberoi\n",
    "- image: images/covid-overview.png\n",
    "- hide: false\n",
    "- badges: false"
   ]
  },
  {
   "cell_type": "code",
   "execution_count": 1,
   "id": "proof-material",
   "metadata": {
    "execution": {
     "iopub.execute_input": "2022-03-09T00:33:35.111045Z",
     "iopub.status.busy": "2022-03-09T00:33:35.109679Z",
     "iopub.status.idle": "2022-03-09T00:33:35.478237Z",
     "shell.execute_reply": "2022-03-09T00:33:35.477581Z"
    },
    "papermill": {
     "duration": 0.417571,
     "end_time": "2022-03-09T00:33:35.478392",
     "exception": false,
     "start_time": "2022-03-09T00:33:35.060821",
     "status": "completed"
    },
    "tags": []
   },
   "outputs": [],
   "source": [
    "#hide\n",
    "import numpy as np\n",
    "import pandas as pd\n",
    "from jinja2 import Template\n",
    "from IPython.display import HTML"
   ]
  },
  {
   "cell_type": "code",
   "execution_count": 2,
   "id": "developed-terminology",
   "metadata": {
    "execution": {
     "iopub.execute_input": "2022-03-09T00:33:35.559276Z",
     "iopub.status.busy": "2022-03-09T00:33:35.558722Z",
     "iopub.status.idle": "2022-03-09T00:33:35.562593Z",
     "shell.execute_reply": "2022-03-09T00:33:35.563107Z"
    },
    "papermill": {
     "duration": 0.044592,
     "end_time": "2022-03-09T00:33:35.563294",
     "exception": false,
     "start_time": "2022-03-09T00:33:35.518702",
     "status": "completed"
    },
    "tags": []
   },
   "outputs": [],
   "source": [
    "#hide\n",
    "\n",
    "# FETCH\n",
    "base_url = 'https://raw.githubusercontent.com/pratapvardhan/notebooks/master/covid19/'\n",
    "paths = {\n",
    "    'mapping': base_url + 'mapping_countries.csv',\n",
    "    'overview': base_url + 'overview.tpl'\n",
    "}"
   ]
  },
  {
   "cell_type": "code",
   "execution_count": 3,
   "id": "dynamic-saver",
   "metadata": {
    "execution": {
     "iopub.execute_input": "2022-03-09T00:33:35.644079Z",
     "iopub.status.busy": "2022-03-09T00:33:35.643484Z",
     "iopub.status.idle": "2022-03-09T00:33:35.646746Z",
     "shell.execute_reply": "2022-03-09T00:33:35.647301Z"
    },
    "papermill": {
     "duration": 0.047632,
     "end_time": "2022-03-09T00:33:35.647419",
     "exception": false,
     "start_time": "2022-03-09T00:33:35.599787",
     "status": "completed"
    },
    "tags": []
   },
   "outputs": [
    {
     "data": {
      "text/plain": [
       "'https://raw.githubusercontent.com/pratapvardhan/notebooks/master/covid19/mapping_countries.csv'"
      ]
     },
     "execution_count": 3,
     "metadata": {},
     "output_type": "execute_result"
    }
   ],
   "source": [
    "#hide\n",
    "paths['mapping']"
   ]
  },
  {
   "cell_type": "code",
   "execution_count": 4,
   "id": "urban-software",
   "metadata": {
    "execution": {
     "iopub.execute_input": "2022-03-09T00:33:35.724320Z",
     "iopub.status.busy": "2022-03-09T00:33:35.723699Z",
     "iopub.status.idle": "2022-03-09T00:33:35.727678Z",
     "shell.execute_reply": "2022-03-09T00:33:35.727231Z"
    },
    "papermill": {
     "duration": 0.044671,
     "end_time": "2022-03-09T00:33:35.727780",
     "exception": false,
     "start_time": "2022-03-09T00:33:35.683109",
     "status": "completed"
    },
    "tags": []
   },
   "outputs": [],
   "source": [
    "#hide\n",
    "def get_mappings(url):\n",
    "    df = pd.read_csv(url)\n",
    "    return {\n",
    "        'df': df,\n",
    "        'replace.country': dict(df.dropna(subset=['Name']).set_index('Country')['Name']),\n",
    "        'map.continent': dict(df.set_index('Name')['Continent'])\n",
    "    }"
   ]
  },
  {
   "cell_type": "code",
   "execution_count": 5,
   "id": "intimate-machinery",
   "metadata": {
    "execution": {
     "iopub.execute_input": "2022-03-09T00:33:35.804146Z",
     "iopub.status.busy": "2022-03-09T00:33:35.803466Z",
     "iopub.status.idle": "2022-03-09T00:33:35.834445Z",
     "shell.execute_reply": "2022-03-09T00:33:35.835045Z"
    },
    "papermill": {
     "duration": 0.072808,
     "end_time": "2022-03-09T00:33:35.835158",
     "exception": false,
     "start_time": "2022-03-09T00:33:35.762350",
     "status": "completed"
    },
    "tags": []
   },
   "outputs": [],
   "source": [
    "#hide\n",
    "mapping = get_mappings(paths['mapping'])"
   ]
  },
  {
   "cell_type": "code",
   "execution_count": 6,
   "id": "certified-tactics",
   "metadata": {
    "execution": {
     "iopub.execute_input": "2022-03-09T00:33:35.907408Z",
     "iopub.status.busy": "2022-03-09T00:33:35.906800Z",
     "iopub.status.idle": "2022-03-09T00:33:35.908853Z",
     "shell.execute_reply": "2022-03-09T00:33:35.909260Z"
    },
    "papermill": {
     "duration": 0.041243,
     "end_time": "2022-03-09T00:33:35.909382",
     "exception": false,
     "start_time": "2022-03-09T00:33:35.868139",
     "status": "completed"
    },
    "tags": []
   },
   "outputs": [],
   "source": [
    "#hide\n",
    "def get_template(path):\n",
    "    from urllib.parse import urlparse\n",
    "    if bool(urlparse(path).netloc):\n",
    "        from urllib.request import urlopen\n",
    "        return urlopen(path).read().decode('utf8')\n",
    "    return open(path).read()"
   ]
  },
  {
   "cell_type": "code",
   "execution_count": 7,
   "id": "realistic-blast",
   "metadata": {
    "execution": {
     "iopub.execute_input": "2022-03-09T00:33:35.994771Z",
     "iopub.status.busy": "2022-03-09T00:33:35.993992Z",
     "iopub.status.idle": "2022-03-09T00:33:35.997502Z",
     "shell.execute_reply": "2022-03-09T00:33:35.996906Z"
    },
    "papermill": {
     "duration": 0.049892,
     "end_time": "2022-03-09T00:33:35.997626",
     "exception": false,
     "start_time": "2022-03-09T00:33:35.947734",
     "status": "completed"
    },
    "tags": []
   },
   "outputs": [],
   "source": [
    "#hide\n",
    "def get_frame(name):\n",
    "    url = (\n",
    "        'https://raw.githubusercontent.com/CSSEGISandData/COVID-19/master/csse_covid_19_data/'\n",
    "        f'csse_covid_19_time_series/time_series_covid19_{name}_global.csv')\n",
    "    df = pd.read_csv(url)\n",
    "    # rename countries\n",
    "    df['Country/Region'] = df['Country/Region'].replace(mapping['replace.country'])\n",
    "    return df"
   ]
  },
  {
   "cell_type": "code",
   "execution_count": 8,
   "id": "affiliated-characterization",
   "metadata": {
    "execution": {
     "iopub.execute_input": "2022-03-09T00:33:36.081561Z",
     "iopub.status.busy": "2022-03-09T00:33:36.080954Z",
     "iopub.status.idle": "2022-03-09T00:33:36.085067Z",
     "shell.execute_reply": "2022-03-09T00:33:36.085665Z"
    },
    "papermill": {
     "duration": 0.050677,
     "end_time": "2022-03-09T00:33:36.085918",
     "exception": false,
     "start_time": "2022-03-09T00:33:36.035241",
     "status": "completed"
    },
    "tags": []
   },
   "outputs": [],
   "source": [
    "#hide\n",
    "def get_dates(df):\n",
    "    dt_cols = df.columns[~df.columns.isin(['Province/State', 'Country/Region', 'Lat', 'Long'])]\n",
    "    LAST_DATE_I = -1\n",
    "    # sometimes last column may be empty, then go backwards\n",
    "    for i in range(-1, -len(dt_cols), -1):\n",
    "        if not df[dt_cols[i]].fillna(0).eq(0).all():\n",
    "            LAST_DATE_I = i\n",
    "            break\n",
    "    return LAST_DATE_I, dt_cols"
   ]
  },
  {
   "cell_type": "code",
   "execution_count": 9,
   "id": "recent-optimization",
   "metadata": {
    "execution": {
     "iopub.execute_input": "2022-03-09T00:33:36.160795Z",
     "iopub.status.busy": "2022-03-09T00:33:36.160173Z",
     "iopub.status.idle": "2022-03-09T00:33:36.534523Z",
     "shell.execute_reply": "2022-03-09T00:33:36.533973Z"
    },
    "papermill": {
     "duration": 0.413465,
     "end_time": "2022-03-09T00:33:36.534691",
     "exception": false,
     "start_time": "2022-03-09T00:33:36.121226",
     "status": "completed"
    },
    "tags": []
   },
   "outputs": [],
   "source": [
    "#hide\n",
    "COL_REGION = 'Country/Region'\n",
    "# Confirmed, Recovered, Deaths\n",
    "df = get_frame('confirmed')\n",
    "# dft_: timeseries, dfc_: today country agg\n",
    "dft_cases = df\n",
    "dft_deaths = get_frame('deaths')\n",
    "dft_recovered = get_frame('recovered')\n",
    "LAST_DATE_I, dt_cols = get_dates(df)"
   ]
  },
  {
   "cell_type": "code",
   "execution_count": 10,
   "id": "absolute-copper",
   "metadata": {
    "execution": {
     "iopub.execute_input": "2022-03-09T00:33:36.615048Z",
     "iopub.status.busy": "2022-03-09T00:33:36.613761Z",
     "iopub.status.idle": "2022-03-09T00:33:36.615730Z",
     "shell.execute_reply": "2022-03-09T00:33:36.616149Z"
    },
    "papermill": {
     "duration": 0.043381,
     "end_time": "2022-03-09T00:33:36.616259",
     "exception": false,
     "start_time": "2022-03-09T00:33:36.572878",
     "status": "completed"
    },
    "tags": []
   },
   "outputs": [],
   "source": [
    "#hide\n",
    "LAST_DATE_I, dt_cols = get_dates(df)\n",
    "dt_today =dt_cols[LAST_DATE_I]\n",
    "# dt_5day = dt_cols[LAST_DATE_I - 5]\n",
    "dt_yday = dt_cols[LAST_DATE_I - 1]"
   ]
  },
  {
   "cell_type": "code",
   "execution_count": 11,
   "id": "restricted-sheriff",
   "metadata": {
    "execution": {
     "iopub.execute_input": "2022-03-09T00:33:36.693847Z",
     "iopub.status.busy": "2022-03-09T00:33:36.691952Z",
     "iopub.status.idle": "2022-03-09T00:33:36.700866Z",
     "shell.execute_reply": "2022-03-09T00:33:36.701431Z"
    },
    "papermill": {
     "duration": 0.049974,
     "end_time": "2022-03-09T00:33:36.701541",
     "exception": false,
     "start_time": "2022-03-09T00:33:36.651567",
     "status": "completed"
    },
    "tags": []
   },
   "outputs": [],
   "source": [
    "#hide\n",
    "dfc_cases = dft_cases.groupby(COL_REGION)[dt_today].sum()\n",
    "dfc_deaths = dft_deaths.groupby(COL_REGION)[dt_today].sum()\n",
    "# dfp_cases = dft_cases.groupby(COL_REGION)[dt_5day].sum()\n",
    "# dfp_deaths = dft_deaths.groupby(COL_REGION)[dt_5day].sum()\n",
    "dfp_cases = dft_cases.groupby(COL_REGION)[dt_yday].sum()\n",
    "dfp_deaths = dft_deaths.groupby(COL_REGION)[dt_yday].sum()"
   ]
  },
  {
   "cell_type": "code",
   "execution_count": 12,
   "id": "deluxe-hepatitis",
   "metadata": {
    "execution": {
     "iopub.execute_input": "2022-03-09T00:33:36.788043Z",
     "iopub.status.busy": "2022-03-09T00:33:36.787443Z",
     "iopub.status.idle": "2022-03-09T00:33:36.793400Z",
     "shell.execute_reply": "2022-03-09T00:33:36.792886Z"
    },
    "papermill": {
     "duration": 0.056607,
     "end_time": "2022-03-09T00:33:36.793506",
     "exception": false,
     "start_time": "2022-03-09T00:33:36.736899",
     "status": "completed"
    },
    "tags": []
   },
   "outputs": [],
   "source": [
    "#hide\n",
    "df_table = (pd.DataFrame(dict(Cases = dfc_cases, Deaths = dfc_deaths, PCases = dfp_cases, PDeaths = dfp_deaths))\n",
    "            .sort_values(by = ['Cases','Deaths'], ascending = [False, False])\n",
    "            .reset_index())"
   ]
  },
  {
   "cell_type": "code",
   "execution_count": 13,
   "id": "educational-chancellor",
   "metadata": {
    "execution": {
     "iopub.execute_input": "2022-03-09T00:33:36.884618Z",
     "iopub.status.busy": "2022-03-09T00:33:36.883813Z",
     "iopub.status.idle": "2022-03-09T00:33:36.894863Z",
     "shell.execute_reply": "2022-03-09T00:33:36.894198Z"
    },
    "papermill": {
     "duration": 0.067671,
     "end_time": "2022-03-09T00:33:36.894979",
     "exception": false,
     "start_time": "2022-03-09T00:33:36.827308",
     "status": "completed"
    },
    "tags": []
   },
   "outputs": [
    {
     "data": {
      "text/html": [
       "<div>\n",
       "<style scoped>\n",
       "    .dataframe tbody tr th:only-of-type {\n",
       "        vertical-align: middle;\n",
       "    }\n",
       "\n",
       "    .dataframe tbody tr th {\n",
       "        vertical-align: top;\n",
       "    }\n",
       "\n",
       "    .dataframe thead th {\n",
       "        text-align: right;\n",
       "    }\n",
       "</style>\n",
       "<table border=\"1\" class=\"dataframe\">\n",
       "  <thead>\n",
       "    <tr style=\"text-align: right;\">\n",
       "      <th></th>\n",
       "      <th>Country/Region</th>\n",
       "      <th>Cases</th>\n",
       "      <th>Deaths</th>\n",
       "      <th>PCases</th>\n",
       "      <th>PDeaths</th>\n",
       "      <th>Cases (+)</th>\n",
       "      <th>Deaths (+)</th>\n",
       "      <th>Fatality Rate</th>\n",
       "      <th>Continent</th>\n",
       "    </tr>\n",
       "  </thead>\n",
       "  <tbody>\n",
       "    <tr>\n",
       "      <th>0</th>\n",
       "      <td>US</td>\n",
       "      <td>79339202</td>\n",
       "      <td>960311</td>\n",
       "      <td>79271686</td>\n",
       "      <td>958625</td>\n",
       "      <td>67516</td>\n",
       "      <td>1686</td>\n",
       "      <td>1.21</td>\n",
       "      <td>North America</td>\n",
       "    </tr>\n",
       "    <tr>\n",
       "      <th>1</th>\n",
       "      <td>India</td>\n",
       "      <td>42971308</td>\n",
       "      <td>515210</td>\n",
       "      <td>42967315</td>\n",
       "      <td>515102</td>\n",
       "      <td>3993</td>\n",
       "      <td>108</td>\n",
       "      <td>1.20</td>\n",
       "      <td>Asia</td>\n",
       "    </tr>\n",
       "    <tr>\n",
       "      <th>2</th>\n",
       "      <td>Brazil</td>\n",
       "      <td>29077831</td>\n",
       "      <td>652648</td>\n",
       "      <td>29056525</td>\n",
       "      <td>652438</td>\n",
       "      <td>21306</td>\n",
       "      <td>210</td>\n",
       "      <td>2.24</td>\n",
       "      <td>South America</td>\n",
       "    </tr>\n",
       "    <tr>\n",
       "      <th>3</th>\n",
       "      <td>France</td>\n",
       "      <td>23253235</td>\n",
       "      <td>140473</td>\n",
       "      <td>23236908</td>\n",
       "      <td>140296</td>\n",
       "      <td>16327</td>\n",
       "      <td>177</td>\n",
       "      <td>0.60</td>\n",
       "      <td>Europe</td>\n",
       "    </tr>\n",
       "    <tr>\n",
       "      <th>4</th>\n",
       "      <td>United Kingdom</td>\n",
       "      <td>19383743</td>\n",
       "      <td>162722</td>\n",
       "      <td>19256835</td>\n",
       "      <td>162582</td>\n",
       "      <td>126908</td>\n",
       "      <td>140</td>\n",
       "      <td>0.84</td>\n",
       "      <td>Europe</td>\n",
       "    </tr>\n",
       "  </tbody>\n",
       "</table>\n",
       "</div>"
      ],
      "text/plain": [
       "   Country/Region     Cases  Deaths    PCases  PDeaths  Cases (+)  Deaths (+)  \\\n",
       "0              US  79339202  960311  79271686   958625      67516        1686   \n",
       "1           India  42971308  515210  42967315   515102       3993         108   \n",
       "2          Brazil  29077831  652648  29056525   652438      21306         210   \n",
       "3          France  23253235  140473  23236908   140296      16327         177   \n",
       "4  United Kingdom  19383743  162722  19256835   162582     126908         140   \n",
       "\n",
       "   Fatality Rate      Continent  \n",
       "0           1.21  North America  \n",
       "1           1.20           Asia  \n",
       "2           2.24  South America  \n",
       "3           0.60         Europe  \n",
       "4           0.84         Europe  "
      ]
     },
     "execution_count": 13,
     "metadata": {},
     "output_type": "execute_result"
    }
   ],
   "source": [
    "#hide\n",
    "for c in 'Cases, Deaths'.split(', '):\n",
    "    df_table[f'{c} (+)'] = (df_table[c] - df_table[f'P{c}']).clip(0)\n",
    "    #Clip ça veut dire, les chiffres negatif sont interdit\n",
    "df_table['Fatality Rate'] = (100* df_table['Deaths']/ df_table['Cases']).round(2)\n",
    "df_table['Continent'] = df_table['Country/Region'].map(mapping['map.continent'])\n",
    "df_table.head(5)"
   ]
  },
  {
   "cell_type": "code",
   "execution_count": 14,
   "id": "aboriginal-bulgaria",
   "metadata": {
    "execution": {
     "iopub.execute_input": "2022-03-09T00:33:36.975710Z",
     "iopub.status.busy": "2022-03-09T00:33:36.975077Z",
     "iopub.status.idle": "2022-03-09T00:33:36.977580Z",
     "shell.execute_reply": "2022-03-09T00:33:36.978060Z"
    },
    "papermill": {
     "duration": 0.04474,
     "end_time": "2022-03-09T00:33:36.978186",
     "exception": false,
     "start_time": "2022-03-09T00:33:36.933446",
     "status": "completed"
    },
    "tags": []
   },
   "outputs": [],
   "source": [
    "#hide\n",
    "#delete problematic countries from table\n",
    "df_table = df_table[~df_table['Country/Region'].isin(['Cape Verde', 'Cruise Ship', 'Kosovo'])]"
   ]
  },
  {
   "cell_type": "code",
   "execution_count": 15,
   "id": "fantastic-effect",
   "metadata": {
    "execution": {
     "iopub.execute_input": "2022-03-09T00:33:37.062083Z",
     "iopub.status.busy": "2022-03-09T00:33:37.061376Z",
     "iopub.status.idle": "2022-03-09T00:33:37.083383Z",
     "shell.execute_reply": "2022-03-09T00:33:37.083925Z"
    },
    "papermill": {
     "duration": 0.068733,
     "end_time": "2022-03-09T00:33:37.084052",
     "exception": false,
     "start_time": "2022-03-09T00:33:37.015319",
     "status": "completed"
    },
    "tags": []
   },
   "outputs": [
    {
     "data": {
      "text/html": [
       "<div>\n",
       "<style scoped>\n",
       "    .dataframe tbody tr th:only-of-type {\n",
       "        vertical-align: middle;\n",
       "    }\n",
       "\n",
       "    .dataframe tbody tr th {\n",
       "        vertical-align: top;\n",
       "    }\n",
       "\n",
       "    .dataframe thead th {\n",
       "        text-align: right;\n",
       "    }\n",
       "</style>\n",
       "<table border=\"1\" class=\"dataframe\">\n",
       "  <thead>\n",
       "    <tr style=\"text-align: right;\">\n",
       "      <th></th>\n",
       "      <th>Country/Region</th>\n",
       "      <th>Cases</th>\n",
       "      <th>Deaths</th>\n",
       "      <th>PCases</th>\n",
       "      <th>PDeaths</th>\n",
       "      <th>Cases (+)</th>\n",
       "      <th>Deaths (+)</th>\n",
       "      <th>Fatality Rate</th>\n",
       "      <th>Continent</th>\n",
       "    </tr>\n",
       "  </thead>\n",
       "  <tbody>\n",
       "    <tr>\n",
       "      <th>0</th>\n",
       "      <td>US</td>\n",
       "      <td>79339202</td>\n",
       "      <td>960311</td>\n",
       "      <td>79271686</td>\n",
       "      <td>958625</td>\n",
       "      <td>67516</td>\n",
       "      <td>1686</td>\n",
       "      <td>1.2</td>\n",
       "      <td>North America</td>\n",
       "    </tr>\n",
       "    <tr>\n",
       "      <th>1</th>\n",
       "      <td>India</td>\n",
       "      <td>42971308</td>\n",
       "      <td>515210</td>\n",
       "      <td>42967315</td>\n",
       "      <td>515102</td>\n",
       "      <td>3993</td>\n",
       "      <td>108</td>\n",
       "      <td>1.2</td>\n",
       "      <td>Asia</td>\n",
       "    </tr>\n",
       "    <tr>\n",
       "      <th>2</th>\n",
       "      <td>Brazil</td>\n",
       "      <td>29077831</td>\n",
       "      <td>652648</td>\n",
       "      <td>29056525</td>\n",
       "      <td>652438</td>\n",
       "      <td>21306</td>\n",
       "      <td>210</td>\n",
       "      <td>2.2</td>\n",
       "      <td>South America</td>\n",
       "    </tr>\n",
       "    <tr>\n",
       "      <th>3</th>\n",
       "      <td>France</td>\n",
       "      <td>23253235</td>\n",
       "      <td>140473</td>\n",
       "      <td>23236908</td>\n",
       "      <td>140296</td>\n",
       "      <td>16327</td>\n",
       "      <td>177</td>\n",
       "      <td>0.6</td>\n",
       "      <td>Europe</td>\n",
       "    </tr>\n",
       "    <tr>\n",
       "      <th>4</th>\n",
       "      <td>United Kingdom</td>\n",
       "      <td>19383743</td>\n",
       "      <td>162722</td>\n",
       "      <td>19256835</td>\n",
       "      <td>162582</td>\n",
       "      <td>126908</td>\n",
       "      <td>140</td>\n",
       "      <td>0.8</td>\n",
       "      <td>Europe</td>\n",
       "    </tr>\n",
       "  </tbody>\n",
       "</table>\n",
       "</div>"
      ],
      "text/plain": [
       "   Country/Region     Cases  Deaths    PCases  PDeaths  Cases (+)  Deaths (+)  \\\n",
       "0              US  79339202  960311  79271686   958625      67516        1686   \n",
       "1           India  42971308  515210  42967315   515102       3993         108   \n",
       "2          Brazil  29077831  652648  29056525   652438      21306         210   \n",
       "3          France  23253235  140473  23236908   140296      16327         177   \n",
       "4  United Kingdom  19383743  162722  19256835   162582     126908         140   \n",
       "\n",
       "   Fatality Rate      Continent  \n",
       "0            1.2  North America  \n",
       "1            1.2           Asia  \n",
       "2            2.2  South America  \n",
       "3            0.6         Europe  \n",
       "4            0.8         Europe  "
      ]
     },
     "execution_count": 15,
     "metadata": {},
     "output_type": "execute_result"
    }
   ],
   "source": [
    "#hide\n",
    "df_table = (pd.DataFrame(dict(Cases=dfc_cases, Deaths=dfc_deaths, PCases=dfp_cases, PDeaths=dfp_deaths))\n",
    "             .sort_values(by=['Cases', 'Deaths'], ascending=[False, False])\n",
    "             .reset_index())\n",
    "df_table.rename(columns={'index': 'Country/Region'}, inplace=True)\n",
    "for c in 'Cases, Deaths'.split(', '):\n",
    "    df_table[f'{c} (+)'] = (df_table[c] - df_table[f'P{c}']).clip(0)  # DATA BUG\n",
    "df_table['Fatality Rate'] = (100 * df_table['Deaths'] / df_table['Cases']).round(1)\n",
    "df_table['Continent'] = df_table['Country/Region'].map(mapping['map.continent'])\n",
    "df_table.head(5)"
   ]
  },
  {
   "cell_type": "code",
   "execution_count": 16,
   "id": "fewer-occasion",
   "metadata": {
    "execution": {
     "iopub.execute_input": "2022-03-09T00:33:37.160278Z",
     "iopub.status.busy": "2022-03-09T00:33:37.159540Z",
     "iopub.status.idle": "2022-03-09T00:33:37.162704Z",
     "shell.execute_reply": "2022-03-09T00:33:37.163163Z"
    },
    "papermill": {
     "duration": 0.043373,
     "end_time": "2022-03-09T00:33:37.163294",
     "exception": false,
     "start_time": "2022-03-09T00:33:37.119921",
     "status": "completed"
    },
    "tags": []
   },
   "outputs": [],
   "source": [
    "#hide\n",
    "#delete problematic countries from table\n",
    "df_table = df_table[~df_table['Country/Region'].isin(['Cape Verde', 'Cruise Ship', 'Kosovo'])]"
   ]
  },
  {
   "cell_type": "code",
   "execution_count": 17,
   "id": "related-center",
   "metadata": {
    "execution": {
     "iopub.execute_input": "2022-03-09T00:33:37.241320Z",
     "iopub.status.busy": "2022-03-09T00:33:37.240716Z",
     "iopub.status.idle": "2022-03-09T00:33:37.254043Z",
     "shell.execute_reply": "2022-03-09T00:33:37.254582Z"
    },
    "papermill": {
     "duration": 0.05638,
     "end_time": "2022-03-09T00:33:37.254696",
     "exception": false,
     "start_time": "2022-03-09T00:33:37.198316",
     "status": "completed"
    },
    "tags": []
   },
   "outputs": [],
   "source": [
    "#hide\n",
    "metrics = [df_table.columns[index] for index in [1,2,5,6]]\n",
    "# s_china = df_table[df_table['Country/Region'].eq('China')][metrics].sum().add_prefix('China ')\n",
    "s_us = df_table[df_table['Country/Region'].eq('US')][metrics].sum().add_prefix('US ')\n",
    "s_eu = df_table[df_table['Continent'].eq('Europe')][metrics].sum().add_prefix('EU ')\n",
    "s_ind = df_table[df_table['Country/Region'].eq('India')][metrics].sum().add_prefix('India ')\n",
    "summary = {'updated': pd.to_datetime(dt_today), 'since': pd.to_datetime(dt_yday)}\n",
    "summary = {'updated': pd.to_datetime(dt_today), 'since': pd.to_datetime(dt_yday)}\n",
    "summary = {**summary, **df_table[metrics].sum(), **s_ind, **s_us, **s_eu}"
   ]
  },
  {
   "cell_type": "code",
   "execution_count": 18,
   "id": "engaging-syndrome",
   "metadata": {
    "execution": {
     "iopub.execute_input": "2022-03-09T00:33:37.332190Z",
     "iopub.status.busy": "2022-03-09T00:33:37.331628Z",
     "iopub.status.idle": "2022-03-09T00:33:37.347353Z",
     "shell.execute_reply": "2022-03-09T00:33:37.347886Z"
    },
    "papermill": {
     "duration": 0.057942,
     "end_time": "2022-03-09T00:33:37.348011",
     "exception": false,
     "start_time": "2022-03-09T00:33:37.290069",
     "status": "completed"
    },
    "tags": []
   },
   "outputs": [],
   "source": [
    "#hide\n",
    "dft_ct_new_cases = dft_cases.groupby(COL_REGION)[dt_cols].sum().diff(axis=1).fillna(0).astype(int)"
   ]
  },
  {
   "cell_type": "code",
   "execution_count": 19,
   "id": "neutral-assignment",
   "metadata": {
    "execution": {
     "iopub.execute_input": "2022-03-09T00:33:37.426251Z",
     "iopub.status.busy": "2022-03-09T00:33:37.425498Z",
     "iopub.status.idle": "2022-03-09T00:33:37.427852Z",
     "shell.execute_reply": "2022-03-09T00:33:37.428307Z"
    },
    "papermill": {
     "duration": 0.045588,
     "end_time": "2022-03-09T00:33:37.428461",
     "exception": false,
     "start_time": "2022-03-09T00:33:37.382873",
     "status": "completed"
    },
    "tags": []
   },
   "outputs": [],
   "source": [
    "#hide\n",
    "everydaycases = dft_ct_new_cases.cumsum(axis=1)"
   ]
  },
  {
   "cell_type": "code",
   "execution_count": 20,
   "id": "parliamentary-calgary",
   "metadata": {
    "execution": {
     "iopub.execute_input": "2022-03-09T00:33:37.503691Z",
     "iopub.status.busy": "2022-03-09T00:33:37.502881Z",
     "iopub.status.idle": "2022-03-09T00:33:38.339610Z",
     "shell.execute_reply": "2022-03-09T00:33:38.338978Z"
    },
    "papermill": {
     "duration": 0.874926,
     "end_time": "2022-03-09T00:33:38.339747",
     "exception": false,
     "start_time": "2022-03-09T00:33:37.464821",
     "status": "completed"
    },
    "tags": []
   },
   "outputs": [],
   "source": [
    "#hide\n",
    "import pandas as pd\n",
    "import matplotlib.pyplot as plt\n",
    "import matplotlib.ticker as ticker\n",
    "import matplotlib.animation as animation\n",
    "from IPython.display import HTML"
   ]
  },
  {
   "cell_type": "code",
   "execution_count": 21,
   "id": "lasting-extraction",
   "metadata": {
    "execution": {
     "iopub.execute_input": "2022-03-09T00:33:38.424631Z",
     "iopub.status.busy": "2022-03-09T00:33:38.423433Z",
     "iopub.status.idle": "2022-03-09T00:33:38.431068Z",
     "shell.execute_reply": "2022-03-09T00:33:38.430552Z"
    },
    "papermill": {
     "duration": 0.051744,
     "end_time": "2022-03-09T00:33:38.431190",
     "exception": false,
     "start_time": "2022-03-09T00:33:38.379446",
     "status": "completed"
    },
    "tags": []
   },
   "outputs": [],
   "source": [
    "#hide\n",
    "t = everydaycases.stack()"
   ]
  },
  {
   "cell_type": "code",
   "execution_count": 22,
   "id": "premier-sleeve",
   "metadata": {
    "execution": {
     "iopub.execute_input": "2022-03-09T00:33:38.511371Z",
     "iopub.status.busy": "2022-03-09T00:33:38.510692Z",
     "iopub.status.idle": "2022-03-09T00:33:38.522052Z",
     "shell.execute_reply": "2022-03-09T00:33:38.522604Z"
    },
    "papermill": {
     "duration": 0.053129,
     "end_time": "2022-03-09T00:33:38.522734",
     "exception": false,
     "start_time": "2022-03-09T00:33:38.469605",
     "status": "completed"
    },
    "tags": []
   },
   "outputs": [],
   "source": [
    "#hide\n",
    "g = t.reset_index(['Country/Region'])"
   ]
  },
  {
   "cell_type": "code",
   "execution_count": 23,
   "id": "distributed-pittsburgh",
   "metadata": {
    "execution": {
     "iopub.execute_input": "2022-03-09T00:33:38.602937Z",
     "iopub.status.busy": "2022-03-09T00:33:38.602263Z",
     "iopub.status.idle": "2022-03-09T00:33:38.606616Z",
     "shell.execute_reply": "2022-03-09T00:33:38.606116Z"
    },
    "papermill": {
     "duration": 0.046751,
     "end_time": "2022-03-09T00:33:38.606740",
     "exception": false,
     "start_time": "2022-03-09T00:33:38.559989",
     "status": "completed"
    },
    "tags": []
   },
   "outputs": [],
   "source": [
    "#hide\n",
    "g.index.name = 'date'"
   ]
  },
  {
   "cell_type": "code",
   "execution_count": 24,
   "id": "naked-donor",
   "metadata": {
    "execution": {
     "iopub.execute_input": "2022-03-09T00:33:38.687645Z",
     "iopub.status.busy": "2022-03-09T00:33:38.687054Z",
     "iopub.status.idle": "2022-03-09T00:33:38.689029Z",
     "shell.execute_reply": "2022-03-09T00:33:38.689563Z"
    },
    "papermill": {
     "duration": 0.043701,
     "end_time": "2022-03-09T00:33:38.689750",
     "exception": false,
     "start_time": "2022-03-09T00:33:38.646049",
     "status": "completed"
    },
    "tags": []
   },
   "outputs": [],
   "source": [
    "# #hide\n",
    "# g = g.reset_index(['date'])"
   ]
  },
  {
   "cell_type": "code",
   "execution_count": 25,
   "id": "incomplete-mustang",
   "metadata": {
    "execution": {
     "iopub.execute_input": "2022-03-09T00:33:38.770866Z",
     "iopub.status.busy": "2022-03-09T00:33:38.770291Z",
     "iopub.status.idle": "2022-03-09T00:33:38.772500Z",
     "shell.execute_reply": "2022-03-09T00:33:38.773105Z"
    },
    "papermill": {
     "duration": 0.044142,
     "end_time": "2022-03-09T00:33:38.773283",
     "exception": false,
     "start_time": "2022-03-09T00:33:38.729141",
     "status": "completed"
    },
    "tags": []
   },
   "outputs": [],
   "source": [
    "#hide\n",
    "# g.head()"
   ]
  },
  {
   "cell_type": "code",
   "execution_count": 26,
   "id": "specific-kruger",
   "metadata": {
    "execution": {
     "iopub.execute_input": "2022-03-09T00:33:38.854567Z",
     "iopub.status.busy": "2022-03-09T00:33:38.853943Z",
     "iopub.status.idle": "2022-03-09T00:33:38.858943Z",
     "shell.execute_reply": "2022-03-09T00:33:38.858402Z"
    },
    "papermill": {
     "duration": 0.048136,
     "end_time": "2022-03-09T00:33:38.859127",
     "exception": false,
     "start_time": "2022-03-09T00:33:38.810991",
     "status": "completed"
    },
    "tags": []
   },
   "outputs": [],
   "source": [
    "#hide\n",
    "# g.columns = ['date','country','cases']"
   ]
  },
  {
   "cell_type": "code",
   "execution_count": 27,
   "id": "tender-conversion",
   "metadata": {
    "execution": {
     "iopub.execute_input": "2022-03-09T00:33:38.944062Z",
     "iopub.status.busy": "2022-03-09T00:33:38.943248Z",
     "iopub.status.idle": "2022-03-09T00:33:38.945914Z",
     "shell.execute_reply": "2022-03-09T00:33:38.945197Z"
    },
    "papermill": {
     "duration": 0.045731,
     "end_time": "2022-03-09T00:33:38.946033",
     "exception": false,
     "start_time": "2022-03-09T00:33:38.900302",
     "status": "completed"
    },
    "tags": []
   },
   "outputs": [],
   "source": [
    "#hide\n",
    "# g['continent'] = g.country"
   ]
  },
  {
   "cell_type": "code",
   "execution_count": 28,
   "id": "substantial-wilderness",
   "metadata": {
    "execution": {
     "iopub.execute_input": "2022-03-09T00:33:39.025428Z",
     "iopub.status.busy": "2022-03-09T00:33:39.024754Z",
     "iopub.status.idle": "2022-03-09T00:33:39.028342Z",
     "shell.execute_reply": "2022-03-09T00:33:39.028875Z"
    },
    "papermill": {
     "duration": 0.044427,
     "end_time": "2022-03-09T00:33:39.029000",
     "exception": false,
     "start_time": "2022-03-09T00:33:38.984573",
     "status": "completed"
    },
    "tags": []
   },
   "outputs": [],
   "source": [
    "#hide\n",
    "# cols = list(g.columns.values)"
   ]
  },
  {
   "cell_type": "code",
   "execution_count": 29,
   "id": "solved-farming",
   "metadata": {
    "execution": {
     "iopub.execute_input": "2022-03-09T00:33:39.108611Z",
     "iopub.status.busy": "2022-03-09T00:33:39.108014Z",
     "iopub.status.idle": "2022-03-09T00:33:39.110039Z",
     "shell.execute_reply": "2022-03-09T00:33:39.109465Z"
    },
    "papermill": {
     "duration": 0.042886,
     "end_time": "2022-03-09T00:33:39.110150",
     "exception": false,
     "start_time": "2022-03-09T00:33:39.067264",
     "status": "completed"
    },
    "tags": []
   },
   "outputs": [],
   "source": [
    "#hide\n",
    "# cols.insert(0, cols.pop())"
   ]
  },
  {
   "cell_type": "code",
   "execution_count": 30,
   "id": "executed-adoption",
   "metadata": {
    "execution": {
     "iopub.execute_input": "2022-03-09T00:33:39.189656Z",
     "iopub.status.busy": "2022-03-09T00:33:39.188889Z",
     "iopub.status.idle": "2022-03-09T00:33:39.191526Z",
     "shell.execute_reply": "2022-03-09T00:33:39.190918Z"
    },
    "papermill": {
     "duration": 0.043531,
     "end_time": "2022-03-09T00:33:39.191626",
     "exception": false,
     "start_time": "2022-03-09T00:33:39.148095",
     "status": "completed"
    },
    "tags": []
   },
   "outputs": [],
   "source": [
    "#hide\n",
    "# g = g[cols]"
   ]
  },
  {
   "cell_type": "code",
   "execution_count": 31,
   "id": "subject-dublin",
   "metadata": {
    "execution": {
     "iopub.execute_input": "2022-03-09T00:33:39.270613Z",
     "iopub.status.busy": "2022-03-09T00:33:39.269886Z",
     "iopub.status.idle": "2022-03-09T00:33:39.273164Z",
     "shell.execute_reply": "2022-03-09T00:33:39.272489Z"
    },
    "papermill": {
     "duration": 0.044586,
     "end_time": "2022-03-09T00:33:39.273283",
     "exception": false,
     "start_time": "2022-03-09T00:33:39.228697",
     "status": "completed"
    },
    "tags": []
   },
   "outputs": [],
   "source": [
    "#hide\n",
    "# g['continent'] = g['continent'].map(mapping['map.continent'])"
   ]
  },
  {
   "cell_type": "code",
   "execution_count": 32,
   "id": "freelance-scout",
   "metadata": {
    "execution": {
     "iopub.execute_input": "2022-03-09T00:33:39.355148Z",
     "iopub.status.busy": "2022-03-09T00:33:39.354575Z",
     "iopub.status.idle": "2022-03-09T00:33:39.358485Z",
     "shell.execute_reply": "2022-03-09T00:33:39.359127Z"
    },
    "papermill": {
     "duration": 0.046091,
     "end_time": "2022-03-09T00:33:39.359285",
     "exception": false,
     "start_time": "2022-03-09T00:33:39.313194",
     "status": "completed"
    },
    "tags": []
   },
   "outputs": [],
   "source": [
    "#hide\n",
    "# g.head()"
   ]
  },
  {
   "cell_type": "code",
   "execution_count": 33,
   "id": "limited-engine",
   "metadata": {
    "execution": {
     "iopub.execute_input": "2022-03-09T00:33:39.440603Z",
     "iopub.status.busy": "2022-03-09T00:33:39.439951Z",
     "iopub.status.idle": "2022-03-09T00:33:39.442355Z",
     "shell.execute_reply": "2022-03-09T00:33:39.441750Z"
    },
    "papermill": {
     "duration": 0.044437,
     "end_time": "2022-03-09T00:33:39.442474",
     "exception": false,
     "start_time": "2022-03-09T00:33:39.398037",
     "status": "completed"
    },
    "tags": []
   },
   "outputs": [],
   "source": [
    "# hide\n",
    "# g['date'] = g['date'].astype('datetime64[ns]')"
   ]
  },
  {
   "cell_type": "code",
   "execution_count": 34,
   "id": "sophisticated-supervisor",
   "metadata": {
    "execution": {
     "iopub.execute_input": "2022-03-09T00:33:39.524700Z",
     "iopub.status.busy": "2022-03-09T00:33:39.523911Z",
     "iopub.status.idle": "2022-03-09T00:33:39.527684Z",
     "shell.execute_reply": "2022-03-09T00:33:39.527155Z"
    },
    "papermill": {
     "duration": 0.045789,
     "end_time": "2022-03-09T00:33:39.527803",
     "exception": false,
     "start_time": "2022-03-09T00:33:39.482014",
     "status": "completed"
    },
    "tags": []
   },
   "outputs": [],
   "source": [
    "#hide\n",
    "# g['date'] = g.date.dt.dayofyear"
   ]
  },
  {
   "cell_type": "code",
   "execution_count": 35,
   "id": "inside-dubai",
   "metadata": {
    "execution": {
     "iopub.execute_input": "2022-03-09T00:33:39.608296Z",
     "iopub.status.busy": "2022-03-09T00:33:39.607647Z",
     "iopub.status.idle": "2022-03-09T00:33:39.610047Z",
     "shell.execute_reply": "2022-03-09T00:33:39.609523Z"
    },
    "papermill": {
     "duration": 0.04423,
     "end_time": "2022-03-09T00:33:39.610167",
     "exception": false,
     "start_time": "2022-03-09T00:33:39.565937",
     "status": "completed"
    },
    "tags": []
   },
   "outputs": [],
   "source": [
    "#hide\n",
    "# g = g.rename(columns= {'continent':'group','country':'name','cases':'value'})"
   ]
  },
  {
   "cell_type": "code",
   "execution_count": 36,
   "id": "fleet-motorcycle",
   "metadata": {
    "execution": {
     "iopub.execute_input": "2022-03-09T00:33:39.691589Z",
     "iopub.status.busy": "2022-03-09T00:33:39.690847Z",
     "iopub.status.idle": "2022-03-09T00:33:39.693635Z",
     "shell.execute_reply": "2022-03-09T00:33:39.693123Z"
    },
    "papermill": {
     "duration": 0.04433,
     "end_time": "2022-03-09T00:33:39.693747",
     "exception": false,
     "start_time": "2022-03-09T00:33:39.649417",
     "status": "completed"
    },
    "tags": []
   },
   "outputs": [],
   "source": [
    "#hide\n",
    "# cols = ['name','group','day','value']"
   ]
  },
  {
   "cell_type": "code",
   "execution_count": 37,
   "id": "continued-sleeping",
   "metadata": {
    "execution": {
     "iopub.execute_input": "2022-03-09T00:33:39.775572Z",
     "iopub.status.busy": "2022-03-09T00:33:39.774892Z",
     "iopub.status.idle": "2022-03-09T00:33:39.778753Z",
     "shell.execute_reply": "2022-03-09T00:33:39.779256Z"
    },
    "papermill": {
     "duration": 0.046144,
     "end_time": "2022-03-09T00:33:39.779430",
     "exception": false,
     "start_time": "2022-03-09T00:33:39.733286",
     "status": "completed"
    },
    "tags": []
   },
   "outputs": [],
   "source": [
    "#hide\n",
    "# g.rename(columns= {'date':'day'},inplace = True)"
   ]
  },
  {
   "cell_type": "code",
   "execution_count": 38,
   "id": "major-fight",
   "metadata": {
    "execution": {
     "iopub.execute_input": "2022-03-09T00:33:39.864856Z",
     "iopub.status.busy": "2022-03-09T00:33:39.864187Z",
     "iopub.status.idle": "2022-03-09T00:33:39.866490Z",
     "shell.execute_reply": "2022-03-09T00:33:39.866963Z"
    },
    "papermill": {
     "duration": 0.046332,
     "end_time": "2022-03-09T00:33:39.867096",
     "exception": false,
     "start_time": "2022-03-09T00:33:39.820764",
     "status": "completed"
    },
    "tags": []
   },
   "outputs": [],
   "source": [
    "#hide\n",
    "# g = g[cols]"
   ]
  },
  {
   "cell_type": "code",
   "execution_count": 39,
   "id": "structured-mobile",
   "metadata": {
    "execution": {
     "iopub.execute_input": "2022-03-09T00:33:39.945335Z",
     "iopub.status.busy": "2022-03-09T00:33:39.944677Z",
     "iopub.status.idle": "2022-03-09T00:33:39.947444Z",
     "shell.execute_reply": "2022-03-09T00:33:39.946901Z"
    },
    "papermill": {
     "duration": 0.042778,
     "end_time": "2022-03-09T00:33:39.947549",
     "exception": false,
     "start_time": "2022-03-09T00:33:39.904771",
     "status": "completed"
    },
    "tags": []
   },
   "outputs": [],
   "source": [
    "# #hide\n",
    "# g = g[g.group.notna()]"
   ]
  },
  {
   "cell_type": "code",
   "execution_count": 40,
   "id": "determined-closing",
   "metadata": {
    "execution": {
     "iopub.execute_input": "2022-03-09T00:33:40.025938Z",
     "iopub.status.busy": "2022-03-09T00:33:40.025213Z",
     "iopub.status.idle": "2022-03-09T00:33:40.027086Z",
     "shell.execute_reply": "2022-03-09T00:33:40.027586Z"
    },
    "papermill": {
     "duration": 0.042567,
     "end_time": "2022-03-09T00:33:40.027706",
     "exception": false,
     "start_time": "2022-03-09T00:33:39.985139",
     "status": "completed"
    },
    "tags": []
   },
   "outputs": [],
   "source": [
    "# #hide\n",
    "# colors = dict(zip(\n",
    "#     [\"Oceania\", \"Europe\", \"Asia\", \"South America\", \"Middle East\", \"North America\", \"Africa\"],\n",
    "#     [\"#adb0ff\", \"#ffb3ff\", \"#90d595\", \"#e48381\", \"#aafbff\", \"#f7bb5f\", \"#eafb50\"]\n",
    "# ))\n",
    "# group_lk = g.set_index('name')['group'].to_dict()"
   ]
  },
  {
   "cell_type": "code",
   "execution_count": null,
   "id": "gross-drinking",
   "metadata": {
    "papermill": {
     "duration": 0.037025,
     "end_time": "2022-03-09T00:33:40.103452",
     "exception": false,
     "start_time": "2022-03-09T00:33:40.066427",
     "status": "completed"
    },
    "tags": []
   },
   "outputs": [],
   "source": []
  },
  {
   "cell_type": "code",
   "execution_count": 41,
   "id": "subject-macintosh",
   "metadata": {
    "execution": {
     "iopub.execute_input": "2022-03-09T00:33:40.192692Z",
     "iopub.status.busy": "2022-03-09T00:33:40.191903Z",
     "iopub.status.idle": "2022-03-09T00:33:40.196990Z",
     "shell.execute_reply": "2022-03-09T00:33:40.197537Z"
    },
    "papermill": {
     "duration": 0.05306,
     "end_time": "2022-03-09T00:33:40.197709",
     "exception": false,
     "start_time": "2022-03-09T00:33:40.144649",
     "status": "completed"
    },
    "tags": []
   },
   "outputs": [],
   "source": [
    "# #hide\n",
    "# fig, ax = plt.subplots(figsize=(15, 8))\n",
    "\n",
    "# def draw_barchart(current_day):\n",
    "#     dff = g[g['day'].eq(current_day)].sort_values(by='value', ascending=True).tail(10)\n",
    "#     ax.clear()\n",
    "#     ax.barh(dff['name'], dff['value'], color=[colors[group_lk[x]] for x in dff['name']])\n",
    "#     dx = dff['value'].max() / 200\n",
    "    \n",
    "#     for i, (value, name) in enumerate(zip(dff['value'], dff['name'])):\n",
    "#         ax.text(value-dx, i,     name,           size=14, weight=600, ha='right', va='bottom')\n",
    "#         ax.text(value-dx, i-.25, group_lk[name], size=10, color='#444444', ha='right', va='baseline')\n",
    "#         ax.text(value+dx, i,     f'{value:,.0f}',  size=14, ha='left',  va='center')\n",
    "#     ax.text(1, 0.4, current_day, transform=ax.transAxes, color='#777777', size=46, ha='right', weight=800)\n",
    "#     ax.text(0, 1.06, 'Population (thousands)', transform=ax.transAxes, size=12, color='#777777')\n",
    "#     ax.xaxis.set_major_formatter(ticker.StrMethodFormatter('{x:,.0f}'))\n",
    "#     ax.xaxis.set_ticks_position('top')\n",
    "#     ax.tick_params(axis='x', colors='#777777', labelsize=12)\n",
    "#     ax.set_yticks([])\n",
    "#     ax.margins(0, 0.01)\n",
    "#     ax.grid(which='major', axis='x', linestyle='-')\n",
    "#     ax.set_axisbelow(True)\n",
    "    \n",
    "#     ax.text(0, 1.15, 'Coronavirus',\n",
    "#             transform=ax.transAxes, size=24, weight=600, ha='left', va='top')\n",
    "# #     ax.text(1, 0, 'by @pratapvardhan; credit @jburnmurdoch', transform=ax.transAxes, color='#777777', ha='right',\n",
    "# #             bbox=dict(facecolor='white', alpha=0.8, edgecolor='white'))\n",
    "#     plt.box(False)"
   ]
  },
  {
   "cell_type": "code",
   "execution_count": 42,
   "id": "sexual-wages",
   "metadata": {
    "execution": {
     "iopub.execute_input": "2022-03-09T00:33:40.283944Z",
     "iopub.status.busy": "2022-03-09T00:33:40.283151Z",
     "iopub.status.idle": "2022-03-09T00:33:40.285724Z",
     "shell.execute_reply": "2022-03-09T00:33:40.285094Z"
    },
    "papermill": {
     "duration": 0.047117,
     "end_time": "2022-03-09T00:33:40.285841",
     "exception": false,
     "start_time": "2022-03-09T00:33:40.238724",
     "status": "completed"
    },
    "tags": []
   },
   "outputs": [],
   "source": [
    "# #hide_input\n",
    "# fig, ax = plt.subplots(figsize=(15, 8))\n",
    "# animator = animation.FuncAnimation(fig, draw_barchart, frames=range(g.day.values.min(), g.day.values.max()))\n",
    "# HTML(animator.to_jshtml())\n",
    "# # or use animator.to_html5_video() or animator.save() "
   ]
  },
  {
   "cell_type": "code",
   "execution_count": null,
   "id": "australian-container",
   "metadata": {
    "papermill": {
     "duration": 0.038761,
     "end_time": "2022-03-09T00:33:40.363366",
     "exception": false,
     "start_time": "2022-03-09T00:33:40.324605",
     "status": "completed"
    },
    "tags": []
   },
   "outputs": [],
   "source": []
  },
  {
   "cell_type": "code",
   "execution_count": null,
   "id": "mediterranean-pontiac",
   "metadata": {
    "papermill": {
     "duration": 0.039846,
     "end_time": "2022-03-09T00:33:40.440122",
     "exception": false,
     "start_time": "2022-03-09T00:33:40.400276",
     "status": "completed"
    },
    "tags": []
   },
   "outputs": [],
   "source": []
  },
  {
   "cell_type": "code",
   "execution_count": null,
   "id": "aging-legislature",
   "metadata": {
    "papermill": {
     "duration": 0.037765,
     "end_time": "2022-03-09T00:33:40.523071",
     "exception": false,
     "start_time": "2022-03-09T00:33:40.485306",
     "status": "completed"
    },
    "tags": []
   },
   "outputs": [],
   "source": []
  }
 ],
 "metadata": {
  "kernelspec": {
   "display_name": "Python 3",
   "language": "python",
   "name": "python3"
  },
  "language_info": {
   "codemirror_mode": {
    "name": "ipython",
    "version": 3
   },
   "file_extension": ".py",
   "mimetype": "text/x-python",
   "name": "python",
   "nbconvert_exporter": "python",
   "pygments_lexer": "ipython3",
   "version": "3.6.15"
  },
  "papermill": {
   "duration": 7.183836,
   "end_time": "2022-03-09T00:33:40.877726",
   "environment_variables": {},
   "exception": null,
   "input_path": "2020-03-21-covid19exp.ipynb",
   "output_path": "2020-03-21-covid19exp.ipynb",
   "parameters": {},
   "start_time": "2022-03-09T00:33:33.693890",
   "version": "2.0.0"
  }
 },
 "nbformat": 4,
 "nbformat_minor": 5
}