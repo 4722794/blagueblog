{
 "cells": [
  {
   "cell_type": "markdown",
   "id": "muslim-click",
   "metadata": {
    "papermill": {
     "duration": 0.048129,
     "end_time": "2021-10-17T12:11:15.213777",
     "exception": false,
     "start_time": "2021-10-17T12:11:15.165648",
     "status": "completed"
    },
    "tags": []
   },
   "source": [
    "# COVID-19 Case Race\n",
    "> A race chart to see rising cases around the world\n",
    "\n",
    "- author: Hargun Oberoi\n",
    "- image: images/covid-overview.png\n",
    "- hide: false\n",
    "- badges: false"
   ]
  },
  {
   "cell_type": "code",
   "execution_count": 1,
   "id": "proof-material",
   "metadata": {
    "execution": {
     "iopub.execute_input": "2021-10-17T12:11:15.302561Z",
     "iopub.status.busy": "2021-10-17T12:11:15.301824Z",
     "iopub.status.idle": "2021-10-17T12:11:15.712313Z",
     "shell.execute_reply": "2021-10-17T12:11:15.711704Z"
    },
    "papermill": {
     "duration": 0.458937,
     "end_time": "2021-10-17T12:11:15.712482",
     "exception": false,
     "start_time": "2021-10-17T12:11:15.253545",
     "status": "completed"
    },
    "tags": []
   },
   "outputs": [],
   "source": [
    "#hide\n",
    "import numpy as np\n",
    "import pandas as pd\n",
    "from jinja2 import Template\n",
    "from IPython.display import HTML"
   ]
  },
  {
   "cell_type": "code",
   "execution_count": 2,
   "id": "developed-terminology",
   "metadata": {
    "execution": {
     "iopub.execute_input": "2021-10-17T12:11:15.797401Z",
     "iopub.status.busy": "2021-10-17T12:11:15.796677Z",
     "iopub.status.idle": "2021-10-17T12:11:15.798941Z",
     "shell.execute_reply": "2021-10-17T12:11:15.799565Z"
    },
    "papermill": {
     "duration": 0.047267,
     "end_time": "2021-10-17T12:11:15.799790",
     "exception": false,
     "start_time": "2021-10-17T12:11:15.752523",
     "status": "completed"
    },
    "tags": []
   },
   "outputs": [],
   "source": [
    "#hide\n",
    "\n",
    "# FETCH\n",
    "base_url = 'https://raw.githubusercontent.com/pratapvardhan/notebooks/master/covid19/'\n",
    "paths = {\n",
    "    'mapping': base_url + 'mapping_countries.csv',\n",
    "    'overview': base_url + 'overview.tpl'\n",
    "}"
   ]
  },
  {
   "cell_type": "code",
   "execution_count": 3,
   "id": "dynamic-saver",
   "metadata": {
    "execution": {
     "iopub.execute_input": "2021-10-17T12:11:15.887139Z",
     "iopub.status.busy": "2021-10-17T12:11:15.886253Z",
     "iopub.status.idle": "2021-10-17T12:11:15.890386Z",
     "shell.execute_reply": "2021-10-17T12:11:15.889795Z"
    },
    "papermill": {
     "duration": 0.053019,
     "end_time": "2021-10-17T12:11:15.890513",
     "exception": false,
     "start_time": "2021-10-17T12:11:15.837494",
     "status": "completed"
    },
    "tags": []
   },
   "outputs": [
    {
     "data": {
      "text/plain": [
       "'https://raw.githubusercontent.com/pratapvardhan/notebooks/master/covid19/mapping_countries.csv'"
      ]
     },
     "execution_count": 3,
     "metadata": {},
     "output_type": "execute_result"
    }
   ],
   "source": [
    "#hide\n",
    "paths['mapping']"
   ]
  },
  {
   "cell_type": "code",
   "execution_count": 4,
   "id": "urban-software",
   "metadata": {
    "execution": {
     "iopub.execute_input": "2021-10-17T12:11:15.974178Z",
     "iopub.status.busy": "2021-10-17T12:11:15.973545Z",
     "iopub.status.idle": "2021-10-17T12:11:15.975599Z",
     "shell.execute_reply": "2021-10-17T12:11:15.976233Z"
    },
    "papermill": {
     "duration": 0.046113,
     "end_time": "2021-10-17T12:11:15.976390",
     "exception": false,
     "start_time": "2021-10-17T12:11:15.930277",
     "status": "completed"
    },
    "tags": []
   },
   "outputs": [],
   "source": [
    "#hide\n",
    "def get_mappings(url):\n",
    "    df = pd.read_csv(url)\n",
    "    return {\n",
    "        'df': df,\n",
    "        'replace.country': dict(df.dropna(subset=['Name']).set_index('Country')['Name']),\n",
    "        'map.continent': dict(df.set_index('Name')['Continent'])\n",
    "    }"
   ]
  },
  {
   "cell_type": "code",
   "execution_count": 5,
   "id": "intimate-machinery",
   "metadata": {
    "execution": {
     "iopub.execute_input": "2021-10-17T12:11:16.063398Z",
     "iopub.status.busy": "2021-10-17T12:11:16.062654Z",
     "iopub.status.idle": "2021-10-17T12:11:16.104330Z",
     "shell.execute_reply": "2021-10-17T12:11:16.103624Z"
    },
    "papermill": {
     "duration": 0.089708,
     "end_time": "2021-10-17T12:11:16.104481",
     "exception": false,
     "start_time": "2021-10-17T12:11:16.014773",
     "status": "completed"
    },
    "tags": []
   },
   "outputs": [],
   "source": [
    "#hide\n",
    "mapping = get_mappings(paths['mapping'])"
   ]
  },
  {
   "cell_type": "code",
   "execution_count": 6,
   "id": "certified-tactics",
   "metadata": {
    "execution": {
     "iopub.execute_input": "2021-10-17T12:11:16.190703Z",
     "iopub.status.busy": "2021-10-17T12:11:16.190033Z",
     "iopub.status.idle": "2021-10-17T12:11:16.192423Z",
     "shell.execute_reply": "2021-10-17T12:11:16.192950Z"
    },
    "papermill": {
     "duration": 0.04864,
     "end_time": "2021-10-17T12:11:16.193145",
     "exception": false,
     "start_time": "2021-10-17T12:11:16.144505",
     "status": "completed"
    },
    "tags": []
   },
   "outputs": [],
   "source": [
    "#hide\n",
    "def get_template(path):\n",
    "    from urllib.parse import urlparse\n",
    "    if bool(urlparse(path).netloc):\n",
    "        from urllib.request import urlopen\n",
    "        return urlopen(path).read().decode('utf8')\n",
    "    return open(path).read()"
   ]
  },
  {
   "cell_type": "code",
   "execution_count": 7,
   "id": "realistic-blast",
   "metadata": {
    "execution": {
     "iopub.execute_input": "2021-10-17T12:11:16.278849Z",
     "iopub.status.busy": "2021-10-17T12:11:16.278098Z",
     "iopub.status.idle": "2021-10-17T12:11:16.280369Z",
     "shell.execute_reply": "2021-10-17T12:11:16.280995Z"
    },
    "papermill": {
     "duration": 0.04792,
     "end_time": "2021-10-17T12:11:16.281146",
     "exception": false,
     "start_time": "2021-10-17T12:11:16.233226",
     "status": "completed"
    },
    "tags": []
   },
   "outputs": [],
   "source": [
    "#hide\n",
    "def get_frame(name):\n",
    "    url = (\n",
    "        'https://raw.githubusercontent.com/CSSEGISandData/COVID-19/master/csse_covid_19_data/'\n",
    "        f'csse_covid_19_time_series/time_series_covid19_{name}_global.csv')\n",
    "    df = pd.read_csv(url)\n",
    "    # rename countries\n",
    "    df['Country/Region'] = df['Country/Region'].replace(mapping['replace.country'])\n",
    "    return df"
   ]
  },
  {
   "cell_type": "code",
   "execution_count": 8,
   "id": "affiliated-characterization",
   "metadata": {
    "execution": {
     "iopub.execute_input": "2021-10-17T12:11:16.381611Z",
     "iopub.status.busy": "2021-10-17T12:11:16.380873Z",
     "iopub.status.idle": "2021-10-17T12:11:16.383545Z",
     "shell.execute_reply": "2021-10-17T12:11:16.382823Z"
    },
    "papermill": {
     "duration": 0.055837,
     "end_time": "2021-10-17T12:11:16.383715",
     "exception": false,
     "start_time": "2021-10-17T12:11:16.327878",
     "status": "completed"
    },
    "tags": []
   },
   "outputs": [],
   "source": [
    "#hide\n",
    "def get_dates(df):\n",
    "    dt_cols = df.columns[~df.columns.isin(['Province/State', 'Country/Region', 'Lat', 'Long'])]\n",
    "    LAST_DATE_I = -1\n",
    "    # sometimes last column may be empty, then go backwards\n",
    "    for i in range(-1, -len(dt_cols), -1):\n",
    "        if not df[dt_cols[i]].fillna(0).eq(0).all():\n",
    "            LAST_DATE_I = i\n",
    "            break\n",
    "    return LAST_DATE_I, dt_cols"
   ]
  },
  {
   "cell_type": "code",
   "execution_count": 9,
   "id": "recent-optimization",
   "metadata": {
    "execution": {
     "iopub.execute_input": "2021-10-17T12:11:16.475485Z",
     "iopub.status.busy": "2021-10-17T12:11:16.474677Z",
     "iopub.status.idle": "2021-10-17T12:11:16.938874Z",
     "shell.execute_reply": "2021-10-17T12:11:16.938070Z"
    },
    "papermill": {
     "duration": 0.513202,
     "end_time": "2021-10-17T12:11:16.939058",
     "exception": false,
     "start_time": "2021-10-17T12:11:16.425856",
     "status": "completed"
    },
    "tags": []
   },
   "outputs": [],
   "source": [
    "#hide\n",
    "COL_REGION = 'Country/Region'\n",
    "# Confirmed, Recovered, Deaths\n",
    "df = get_frame('confirmed')\n",
    "# dft_: timeseries, dfc_: today country agg\n",
    "dft_cases = df\n",
    "dft_deaths = get_frame('deaths')\n",
    "dft_recovered = get_frame('recovered')\n",
    "LAST_DATE_I, dt_cols = get_dates(df)"
   ]
  },
  {
   "cell_type": "code",
   "execution_count": 10,
   "id": "absolute-copper",
   "metadata": {
    "execution": {
     "iopub.execute_input": "2021-10-17T12:11:17.025078Z",
     "iopub.status.busy": "2021-10-17T12:11:17.024367Z",
     "iopub.status.idle": "2021-10-17T12:11:17.027531Z",
     "shell.execute_reply": "2021-10-17T12:11:17.026942Z"
    },
    "papermill": {
     "duration": 0.048216,
     "end_time": "2021-10-17T12:11:17.027714",
     "exception": false,
     "start_time": "2021-10-17T12:11:16.979498",
     "status": "completed"
    },
    "tags": []
   },
   "outputs": [],
   "source": [
    "#hide\n",
    "LAST_DATE_I, dt_cols = get_dates(df)\n",
    "dt_today =dt_cols[LAST_DATE_I]\n",
    "# dt_5day = dt_cols[LAST_DATE_I - 5]\n",
    "dt_yday = dt_cols[LAST_DATE_I - 1]"
   ]
  },
  {
   "cell_type": "code",
   "execution_count": 11,
   "id": "restricted-sheriff",
   "metadata": {
    "execution": {
     "iopub.execute_input": "2021-10-17T12:11:17.115058Z",
     "iopub.status.busy": "2021-10-17T12:11:17.114347Z",
     "iopub.status.idle": "2021-10-17T12:11:17.124023Z",
     "shell.execute_reply": "2021-10-17T12:11:17.124614Z"
    },
    "papermill": {
     "duration": 0.056616,
     "end_time": "2021-10-17T12:11:17.124775",
     "exception": false,
     "start_time": "2021-10-17T12:11:17.068159",
     "status": "completed"
    },
    "tags": []
   },
   "outputs": [],
   "source": [
    "#hide\n",
    "dfc_cases = dft_cases.groupby(COL_REGION)[dt_today].sum()\n",
    "dfc_deaths = dft_deaths.groupby(COL_REGION)[dt_today].sum()\n",
    "# dfp_cases = dft_cases.groupby(COL_REGION)[dt_5day].sum()\n",
    "# dfp_deaths = dft_deaths.groupby(COL_REGION)[dt_5day].sum()\n",
    "dfp_cases = dft_cases.groupby(COL_REGION)[dt_yday].sum()\n",
    "dfp_deaths = dft_deaths.groupby(COL_REGION)[dt_yday].sum()"
   ]
  },
  {
   "cell_type": "code",
   "execution_count": 12,
   "id": "deluxe-hepatitis",
   "metadata": {
    "execution": {
     "iopub.execute_input": "2021-10-17T12:11:17.216910Z",
     "iopub.status.busy": "2021-10-17T12:11:17.216097Z",
     "iopub.status.idle": "2021-10-17T12:11:17.223037Z",
     "shell.execute_reply": "2021-10-17T12:11:17.222368Z"
    },
    "papermill": {
     "duration": 0.058416,
     "end_time": "2021-10-17T12:11:17.223178",
     "exception": false,
     "start_time": "2021-10-17T12:11:17.164762",
     "status": "completed"
    },
    "tags": []
   },
   "outputs": [],
   "source": [
    "#hide\n",
    "df_table = (pd.DataFrame(dict(Cases = dfc_cases, Deaths = dfc_deaths, PCases = dfp_cases, PDeaths = dfp_deaths))\n",
    "            .sort_values(by = ['Cases','Deaths'], ascending = [False, False])\n",
    "            .reset_index())"
   ]
  },
  {
   "cell_type": "code",
   "execution_count": 13,
   "id": "educational-chancellor",
   "metadata": {
    "execution": {
     "iopub.execute_input": "2021-10-17T12:11:17.327933Z",
     "iopub.status.busy": "2021-10-17T12:11:17.327158Z",
     "iopub.status.idle": "2021-10-17T12:11:17.337184Z",
     "shell.execute_reply": "2021-10-17T12:11:17.336618Z"
    },
    "papermill": {
     "duration": 0.074143,
     "end_time": "2021-10-17T12:11:17.337335",
     "exception": false,
     "start_time": "2021-10-17T12:11:17.263192",
     "status": "completed"
    },
    "tags": []
   },
   "outputs": [
    {
     "data": {
      "text/html": [
       "<div>\n",
       "<style scoped>\n",
       "    .dataframe tbody tr th:only-of-type {\n",
       "        vertical-align: middle;\n",
       "    }\n",
       "\n",
       "    .dataframe tbody tr th {\n",
       "        vertical-align: top;\n",
       "    }\n",
       "\n",
       "    .dataframe thead th {\n",
       "        text-align: right;\n",
       "    }\n",
       "</style>\n",
       "<table border=\"1\" class=\"dataframe\">\n",
       "  <thead>\n",
       "    <tr style=\"text-align: right;\">\n",
       "      <th></th>\n",
       "      <th>Country/Region</th>\n",
       "      <th>Cases</th>\n",
       "      <th>Deaths</th>\n",
       "      <th>PCases</th>\n",
       "      <th>PDeaths</th>\n",
       "      <th>Cases (+)</th>\n",
       "      <th>Deaths (+)</th>\n",
       "      <th>Fatality Rate</th>\n",
       "      <th>Continent</th>\n",
       "    </tr>\n",
       "  </thead>\n",
       "  <tbody>\n",
       "    <tr>\n",
       "      <th>0</th>\n",
       "      <td>US</td>\n",
       "      <td>44916423</td>\n",
       "      <td>724153</td>\n",
       "      <td>44884868</td>\n",
       "      <td>723754</td>\n",
       "      <td>31555</td>\n",
       "      <td>399</td>\n",
       "      <td>1.61</td>\n",
       "      <td>North America</td>\n",
       "    </tr>\n",
       "    <tr>\n",
       "      <th>1</th>\n",
       "      <td>India</td>\n",
       "      <td>34067719</td>\n",
       "      <td>452124</td>\n",
       "      <td>34053573</td>\n",
       "      <td>451980</td>\n",
       "      <td>14146</td>\n",
       "      <td>144</td>\n",
       "      <td>1.33</td>\n",
       "      <td>Asia</td>\n",
       "    </tr>\n",
       "    <tr>\n",
       "      <th>2</th>\n",
       "      <td>Brazil</td>\n",
       "      <td>21638726</td>\n",
       "      <td>603152</td>\n",
       "      <td>21627476</td>\n",
       "      <td>602669</td>\n",
       "      <td>11250</td>\n",
       "      <td>483</td>\n",
       "      <td>2.79</td>\n",
       "      <td>South America</td>\n",
       "    </tr>\n",
       "    <tr>\n",
       "      <th>3</th>\n",
       "      <td>United Kingdom</td>\n",
       "      <td>8443882</td>\n",
       "      <td>138940</td>\n",
       "      <td>8400983</td>\n",
       "      <td>138792</td>\n",
       "      <td>42899</td>\n",
       "      <td>148</td>\n",
       "      <td>1.65</td>\n",
       "      <td>Europe</td>\n",
       "    </tr>\n",
       "    <tr>\n",
       "      <th>4</th>\n",
       "      <td>Russia</td>\n",
       "      <td>7837101</td>\n",
       "      <td>218362</td>\n",
       "      <td>7804750</td>\n",
       "      <td>217382</td>\n",
       "      <td>32351</td>\n",
       "      <td>980</td>\n",
       "      <td>2.79</td>\n",
       "      <td>Europe</td>\n",
       "    </tr>\n",
       "  </tbody>\n",
       "</table>\n",
       "</div>"
      ],
      "text/plain": [
       "   Country/Region     Cases  Deaths    PCases  PDeaths  Cases (+)  Deaths (+)  \\\n",
       "0              US  44916423  724153  44884868   723754      31555         399   \n",
       "1           India  34067719  452124  34053573   451980      14146         144   \n",
       "2          Brazil  21638726  603152  21627476   602669      11250         483   \n",
       "3  United Kingdom   8443882  138940   8400983   138792      42899         148   \n",
       "4          Russia   7837101  218362   7804750   217382      32351         980   \n",
       "\n",
       "   Fatality Rate      Continent  \n",
       "0           1.61  North America  \n",
       "1           1.33           Asia  \n",
       "2           2.79  South America  \n",
       "3           1.65         Europe  \n",
       "4           2.79         Europe  "
      ]
     },
     "execution_count": 13,
     "metadata": {},
     "output_type": "execute_result"
    }
   ],
   "source": [
    "#hide\n",
    "for c in 'Cases, Deaths'.split(', '):\n",
    "    df_table[f'{c} (+)'] = (df_table[c] - df_table[f'P{c}']).clip(0)\n",
    "    #Clip ça veut dire, les chiffres negatif sont interdit\n",
    "df_table['Fatality Rate'] = (100* df_table['Deaths']/ df_table['Cases']).round(2)\n",
    "df_table['Continent'] = df_table['Country/Region'].map(mapping['map.continent'])\n",
    "df_table.head(5)"
   ]
  },
  {
   "cell_type": "code",
   "execution_count": 14,
   "id": "aboriginal-bulgaria",
   "metadata": {
    "execution": {
     "iopub.execute_input": "2021-10-17T12:11:17.425726Z",
     "iopub.status.busy": "2021-10-17T12:11:17.425046Z",
     "iopub.status.idle": "2021-10-17T12:11:17.427162Z",
     "shell.execute_reply": "2021-10-17T12:11:17.427761Z"
    },
    "papermill": {
     "duration": 0.049842,
     "end_time": "2021-10-17T12:11:17.427929",
     "exception": false,
     "start_time": "2021-10-17T12:11:17.378087",
     "status": "completed"
    },
    "tags": []
   },
   "outputs": [],
   "source": [
    "#hide\n",
    "#delete problematic countries from table\n",
    "df_table = df_table[~df_table['Country/Region'].isin(['Cape Verde', 'Cruise Ship', 'Kosovo'])]"
   ]
  },
  {
   "cell_type": "code",
   "execution_count": 15,
   "id": "fantastic-effect",
   "metadata": {
    "execution": {
     "iopub.execute_input": "2021-10-17T12:11:17.521194Z",
     "iopub.status.busy": "2021-10-17T12:11:17.520457Z",
     "iopub.status.idle": "2021-10-17T12:11:17.545472Z",
     "shell.execute_reply": "2021-10-17T12:11:17.546225Z"
    },
    "papermill": {
     "duration": 0.078516,
     "end_time": "2021-10-17T12:11:17.546398",
     "exception": false,
     "start_time": "2021-10-17T12:11:17.467882",
     "status": "completed"
    },
    "tags": []
   },
   "outputs": [
    {
     "data": {
      "text/html": [
       "<div>\n",
       "<style scoped>\n",
       "    .dataframe tbody tr th:only-of-type {\n",
       "        vertical-align: middle;\n",
       "    }\n",
       "\n",
       "    .dataframe tbody tr th {\n",
       "        vertical-align: top;\n",
       "    }\n",
       "\n",
       "    .dataframe thead th {\n",
       "        text-align: right;\n",
       "    }\n",
       "</style>\n",
       "<table border=\"1\" class=\"dataframe\">\n",
       "  <thead>\n",
       "    <tr style=\"text-align: right;\">\n",
       "      <th></th>\n",
       "      <th>Country/Region</th>\n",
       "      <th>Cases</th>\n",
       "      <th>Deaths</th>\n",
       "      <th>PCases</th>\n",
       "      <th>PDeaths</th>\n",
       "      <th>Cases (+)</th>\n",
       "      <th>Deaths (+)</th>\n",
       "      <th>Fatality Rate</th>\n",
       "      <th>Continent</th>\n",
       "    </tr>\n",
       "  </thead>\n",
       "  <tbody>\n",
       "    <tr>\n",
       "      <th>0</th>\n",
       "      <td>US</td>\n",
       "      <td>44916423</td>\n",
       "      <td>724153</td>\n",
       "      <td>44884868</td>\n",
       "      <td>723754</td>\n",
       "      <td>31555</td>\n",
       "      <td>399</td>\n",
       "      <td>1.6</td>\n",
       "      <td>North America</td>\n",
       "    </tr>\n",
       "    <tr>\n",
       "      <th>1</th>\n",
       "      <td>India</td>\n",
       "      <td>34067719</td>\n",
       "      <td>452124</td>\n",
       "      <td>34053573</td>\n",
       "      <td>451980</td>\n",
       "      <td>14146</td>\n",
       "      <td>144</td>\n",
       "      <td>1.3</td>\n",
       "      <td>Asia</td>\n",
       "    </tr>\n",
       "    <tr>\n",
       "      <th>2</th>\n",
       "      <td>Brazil</td>\n",
       "      <td>21638726</td>\n",
       "      <td>603152</td>\n",
       "      <td>21627476</td>\n",
       "      <td>602669</td>\n",
       "      <td>11250</td>\n",
       "      <td>483</td>\n",
       "      <td>2.8</td>\n",
       "      <td>South America</td>\n",
       "    </tr>\n",
       "    <tr>\n",
       "      <th>3</th>\n",
       "      <td>United Kingdom</td>\n",
       "      <td>8443882</td>\n",
       "      <td>138940</td>\n",
       "      <td>8400983</td>\n",
       "      <td>138792</td>\n",
       "      <td>42899</td>\n",
       "      <td>148</td>\n",
       "      <td>1.6</td>\n",
       "      <td>Europe</td>\n",
       "    </tr>\n",
       "    <tr>\n",
       "      <th>4</th>\n",
       "      <td>Russia</td>\n",
       "      <td>7837101</td>\n",
       "      <td>218362</td>\n",
       "      <td>7804750</td>\n",
       "      <td>217382</td>\n",
       "      <td>32351</td>\n",
       "      <td>980</td>\n",
       "      <td>2.8</td>\n",
       "      <td>Europe</td>\n",
       "    </tr>\n",
       "  </tbody>\n",
       "</table>\n",
       "</div>"
      ],
      "text/plain": [
       "   Country/Region     Cases  Deaths    PCases  PDeaths  Cases (+)  Deaths (+)  \\\n",
       "0              US  44916423  724153  44884868   723754      31555         399   \n",
       "1           India  34067719  452124  34053573   451980      14146         144   \n",
       "2          Brazil  21638726  603152  21627476   602669      11250         483   \n",
       "3  United Kingdom   8443882  138940   8400983   138792      42899         148   \n",
       "4          Russia   7837101  218362   7804750   217382      32351         980   \n",
       "\n",
       "   Fatality Rate      Continent  \n",
       "0            1.6  North America  \n",
       "1            1.3           Asia  \n",
       "2            2.8  South America  \n",
       "3            1.6         Europe  \n",
       "4            2.8         Europe  "
      ]
     },
     "execution_count": 15,
     "metadata": {},
     "output_type": "execute_result"
    }
   ],
   "source": [
    "#hide\n",
    "df_table = (pd.DataFrame(dict(Cases=dfc_cases, Deaths=dfc_deaths, PCases=dfp_cases, PDeaths=dfp_deaths))\n",
    "             .sort_values(by=['Cases', 'Deaths'], ascending=[False, False])\n",
    "             .reset_index())\n",
    "df_table.rename(columns={'index': 'Country/Region'}, inplace=True)\n",
    "for c in 'Cases, Deaths'.split(', '):\n",
    "    df_table[f'{c} (+)'] = (df_table[c] - df_table[f'P{c}']).clip(0)  # DATA BUG\n",
    "df_table['Fatality Rate'] = (100 * df_table['Deaths'] / df_table['Cases']).round(1)\n",
    "df_table['Continent'] = df_table['Country/Region'].map(mapping['map.continent'])\n",
    "df_table.head(5)"
   ]
  },
  {
   "cell_type": "code",
   "execution_count": 16,
   "id": "fewer-occasion",
   "metadata": {
    "execution": {
     "iopub.execute_input": "2021-10-17T12:11:17.639241Z",
     "iopub.status.busy": "2021-10-17T12:11:17.638495Z",
     "iopub.status.idle": "2021-10-17T12:11:17.641687Z",
     "shell.execute_reply": "2021-10-17T12:11:17.642344Z"
    },
    "papermill": {
     "duration": 0.051209,
     "end_time": "2021-10-17T12:11:17.642528",
     "exception": false,
     "start_time": "2021-10-17T12:11:17.591319",
     "status": "completed"
    },
    "tags": []
   },
   "outputs": [],
   "source": [
    "#hide\n",
    "#delete problematic countries from table\n",
    "df_table = df_table[~df_table['Country/Region'].isin(['Cape Verde', 'Cruise Ship', 'Kosovo'])]"
   ]
  },
  {
   "cell_type": "code",
   "execution_count": 17,
   "id": "related-center",
   "metadata": {
    "execution": {
     "iopub.execute_input": "2021-10-17T12:11:17.729516Z",
     "iopub.status.busy": "2021-10-17T12:11:17.728756Z",
     "iopub.status.idle": "2021-10-17T12:11:17.754393Z",
     "shell.execute_reply": "2021-10-17T12:11:17.755116Z"
    },
    "papermill": {
     "duration": 0.071776,
     "end_time": "2021-10-17T12:11:17.755297",
     "exception": false,
     "start_time": "2021-10-17T12:11:17.683521",
     "status": "completed"
    },
    "tags": []
   },
   "outputs": [],
   "source": [
    "#hide\n",
    "metrics = [df_table.columns[index] for index in [1,2,5,6]]\n",
    "# s_china = df_table[df_table['Country/Region'].eq('China')][metrics].sum().add_prefix('China ')\n",
    "s_us = df_table[df_table['Country/Region'].eq('US')][metrics].sum().add_prefix('US ')\n",
    "s_eu = df_table[df_table['Continent'].eq('Europe')][metrics].sum().add_prefix('EU ')\n",
    "s_ind = df_table[df_table['Country/Region'].eq('India')][metrics].sum().add_prefix('India ')\n",
    "summary = {'updated': pd.to_datetime(dt_today), 'since': pd.to_datetime(dt_yday)}\n",
    "summary = {'updated': pd.to_datetime(dt_today), 'since': pd.to_datetime(dt_yday)}\n",
    "summary = {**summary, **df_table[metrics].sum(), **s_ind, **s_us, **s_eu}"
   ]
  },
  {
   "cell_type": "code",
   "execution_count": 18,
   "id": "engaging-syndrome",
   "metadata": {
    "execution": {
     "iopub.execute_input": "2021-10-17T12:11:17.842706Z",
     "iopub.status.busy": "2021-10-17T12:11:17.842007Z",
     "iopub.status.idle": "2021-10-17T12:11:17.859031Z",
     "shell.execute_reply": "2021-10-17T12:11:17.859600Z"
    },
    "papermill": {
     "duration": 0.063294,
     "end_time": "2021-10-17T12:11:17.859804",
     "exception": false,
     "start_time": "2021-10-17T12:11:17.796510",
     "status": "completed"
    },
    "tags": []
   },
   "outputs": [],
   "source": [
    "#hide\n",
    "dft_ct_new_cases = dft_cases.groupby(COL_REGION)[dt_cols].sum().diff(axis=1).fillna(0).astype(int)"
   ]
  },
  {
   "cell_type": "code",
   "execution_count": 19,
   "id": "neutral-assignment",
   "metadata": {
    "execution": {
     "iopub.execute_input": "2021-10-17T12:11:17.950522Z",
     "iopub.status.busy": "2021-10-17T12:11:17.949808Z",
     "iopub.status.idle": "2021-10-17T12:11:17.952451Z",
     "shell.execute_reply": "2021-10-17T12:11:17.951861Z"
    },
    "papermill": {
     "duration": 0.052031,
     "end_time": "2021-10-17T12:11:17.952589",
     "exception": false,
     "start_time": "2021-10-17T12:11:17.900558",
     "status": "completed"
    },
    "tags": []
   },
   "outputs": [],
   "source": [
    "#hide\n",
    "everydaycases = dft_ct_new_cases.cumsum(axis=1)"
   ]
  },
  {
   "cell_type": "code",
   "execution_count": 20,
   "id": "parliamentary-calgary",
   "metadata": {
    "execution": {
     "iopub.execute_input": "2021-10-17T12:11:18.039523Z",
     "iopub.status.busy": "2021-10-17T12:11:18.038702Z",
     "iopub.status.idle": "2021-10-17T12:11:18.752829Z",
     "shell.execute_reply": "2021-10-17T12:11:18.752115Z"
    },
    "papermill": {
     "duration": 0.760278,
     "end_time": "2021-10-17T12:11:18.753007",
     "exception": false,
     "start_time": "2021-10-17T12:11:17.992729",
     "status": "completed"
    },
    "tags": []
   },
   "outputs": [],
   "source": [
    "#hide\n",
    "import pandas as pd\n",
    "import matplotlib.pyplot as plt\n",
    "import matplotlib.ticker as ticker\n",
    "import matplotlib.animation as animation\n",
    "from IPython.display import HTML"
   ]
  },
  {
   "cell_type": "code",
   "execution_count": 21,
   "id": "lasting-extraction",
   "metadata": {
    "execution": {
     "iopub.execute_input": "2021-10-17T12:11:18.844054Z",
     "iopub.status.busy": "2021-10-17T12:11:18.843279Z",
     "iopub.status.idle": "2021-10-17T12:11:18.850431Z",
     "shell.execute_reply": "2021-10-17T12:11:18.849901Z"
    },
    "papermill": {
     "duration": 0.053853,
     "end_time": "2021-10-17T12:11:18.850589",
     "exception": false,
     "start_time": "2021-10-17T12:11:18.796736",
     "status": "completed"
    },
    "tags": []
   },
   "outputs": [],
   "source": [
    "#hide\n",
    "t = everydaycases.stack()"
   ]
  },
  {
   "cell_type": "code",
   "execution_count": 22,
   "id": "premier-sleeve",
   "metadata": {
    "execution": {
     "iopub.execute_input": "2021-10-17T12:11:18.939606Z",
     "iopub.status.busy": "2021-10-17T12:11:18.938734Z",
     "iopub.status.idle": "2021-10-17T12:11:18.950098Z",
     "shell.execute_reply": "2021-10-17T12:11:18.950798Z"
    },
    "papermill": {
     "duration": 0.057831,
     "end_time": "2021-10-17T12:11:18.950974",
     "exception": false,
     "start_time": "2021-10-17T12:11:18.893143",
     "status": "completed"
    },
    "tags": []
   },
   "outputs": [],
   "source": [
    "#hide\n",
    "g = t.reset_index(['Country/Region'])"
   ]
  },
  {
   "cell_type": "code",
   "execution_count": 23,
   "id": "distributed-pittsburgh",
   "metadata": {
    "execution": {
     "iopub.execute_input": "2021-10-17T12:11:19.038254Z",
     "iopub.status.busy": "2021-10-17T12:11:19.037513Z",
     "iopub.status.idle": "2021-10-17T12:11:19.040210Z",
     "shell.execute_reply": "2021-10-17T12:11:19.040924Z"
    },
    "papermill": {
     "duration": 0.049537,
     "end_time": "2021-10-17T12:11:19.041108",
     "exception": false,
     "start_time": "2021-10-17T12:11:18.991571",
     "status": "completed"
    },
    "tags": []
   },
   "outputs": [],
   "source": [
    "#hide\n",
    "g.index.name = 'date'"
   ]
  },
  {
   "cell_type": "code",
   "execution_count": 24,
   "id": "naked-donor",
   "metadata": {
    "execution": {
     "iopub.execute_input": "2021-10-17T12:11:19.129246Z",
     "iopub.status.busy": "2021-10-17T12:11:19.128553Z",
     "iopub.status.idle": "2021-10-17T12:11:19.130553Z",
     "shell.execute_reply": "2021-10-17T12:11:19.131235Z"
    },
    "papermill": {
     "duration": 0.049119,
     "end_time": "2021-10-17T12:11:19.131463",
     "exception": false,
     "start_time": "2021-10-17T12:11:19.082344",
     "status": "completed"
    },
    "tags": []
   },
   "outputs": [],
   "source": [
    "# #hide\n",
    "# g = g.reset_index(['date'])"
   ]
  },
  {
   "cell_type": "code",
   "execution_count": 25,
   "id": "incomplete-mustang",
   "metadata": {
    "execution": {
     "iopub.execute_input": "2021-10-17T12:11:19.219312Z",
     "iopub.status.busy": "2021-10-17T12:11:19.218636Z",
     "iopub.status.idle": "2021-10-17T12:11:19.220662Z",
     "shell.execute_reply": "2021-10-17T12:11:19.221336Z"
    },
    "papermill": {
     "duration": 0.048123,
     "end_time": "2021-10-17T12:11:19.221509",
     "exception": false,
     "start_time": "2021-10-17T12:11:19.173386",
     "status": "completed"
    },
    "tags": []
   },
   "outputs": [],
   "source": [
    "#hide\n",
    "# g.head()"
   ]
  },
  {
   "cell_type": "code",
   "execution_count": 26,
   "id": "specific-kruger",
   "metadata": {
    "execution": {
     "iopub.execute_input": "2021-10-17T12:11:19.307749Z",
     "iopub.status.busy": "2021-10-17T12:11:19.307042Z",
     "iopub.status.idle": "2021-10-17T12:11:19.309923Z",
     "shell.execute_reply": "2021-10-17T12:11:19.309308Z"
    },
    "papermill": {
     "duration": 0.048126,
     "end_time": "2021-10-17T12:11:19.310054",
     "exception": false,
     "start_time": "2021-10-17T12:11:19.261928",
     "status": "completed"
    },
    "tags": []
   },
   "outputs": [],
   "source": [
    "#hide\n",
    "# g.columns = ['date','country','cases']"
   ]
  },
  {
   "cell_type": "code",
   "execution_count": 27,
   "id": "tender-conversion",
   "metadata": {
    "execution": {
     "iopub.execute_input": "2021-10-17T12:11:19.399564Z",
     "iopub.status.busy": "2021-10-17T12:11:19.398873Z",
     "iopub.status.idle": "2021-10-17T12:11:19.401000Z",
     "shell.execute_reply": "2021-10-17T12:11:19.401642Z"
    },
    "papermill": {
     "duration": 0.050081,
     "end_time": "2021-10-17T12:11:19.401800",
     "exception": false,
     "start_time": "2021-10-17T12:11:19.351719",
     "status": "completed"
    },
    "tags": []
   },
   "outputs": [],
   "source": [
    "#hide\n",
    "# g['continent'] = g.country"
   ]
  },
  {
   "cell_type": "code",
   "execution_count": 28,
   "id": "substantial-wilderness",
   "metadata": {
    "execution": {
     "iopub.execute_input": "2021-10-17T12:11:19.489574Z",
     "iopub.status.busy": "2021-10-17T12:11:19.488819Z",
     "iopub.status.idle": "2021-10-17T12:11:19.491742Z",
     "shell.execute_reply": "2021-10-17T12:11:19.491074Z"
    },
    "papermill": {
     "duration": 0.048093,
     "end_time": "2021-10-17T12:11:19.491909",
     "exception": false,
     "start_time": "2021-10-17T12:11:19.443816",
     "status": "completed"
    },
    "tags": []
   },
   "outputs": [],
   "source": [
    "#hide\n",
    "# cols = list(g.columns.values)"
   ]
  },
  {
   "cell_type": "code",
   "execution_count": 29,
   "id": "solved-farming",
   "metadata": {
    "execution": {
     "iopub.execute_input": "2021-10-17T12:11:19.581223Z",
     "iopub.status.busy": "2021-10-17T12:11:19.580492Z",
     "iopub.status.idle": "2021-10-17T12:11:19.582739Z",
     "shell.execute_reply": "2021-10-17T12:11:19.583351Z"
    },
    "papermill": {
     "duration": 0.049771,
     "end_time": "2021-10-17T12:11:19.583559",
     "exception": false,
     "start_time": "2021-10-17T12:11:19.533788",
     "status": "completed"
    },
    "tags": []
   },
   "outputs": [],
   "source": [
    "#hide\n",
    "# cols.insert(0, cols.pop())"
   ]
  },
  {
   "cell_type": "code",
   "execution_count": 30,
   "id": "executed-adoption",
   "metadata": {
    "execution": {
     "iopub.execute_input": "2021-10-17T12:11:19.671335Z",
     "iopub.status.busy": "2021-10-17T12:11:19.670652Z",
     "iopub.status.idle": "2021-10-17T12:11:19.674005Z",
     "shell.execute_reply": "2021-10-17T12:11:19.674556Z"
    },
    "papermill": {
     "duration": 0.049329,
     "end_time": "2021-10-17T12:11:19.674719",
     "exception": false,
     "start_time": "2021-10-17T12:11:19.625390",
     "status": "completed"
    },
    "tags": []
   },
   "outputs": [],
   "source": [
    "#hide\n",
    "# g = g[cols]"
   ]
  },
  {
   "cell_type": "code",
   "execution_count": 31,
   "id": "subject-dublin",
   "metadata": {
    "execution": {
     "iopub.execute_input": "2021-10-17T12:11:19.764198Z",
     "iopub.status.busy": "2021-10-17T12:11:19.763447Z",
     "iopub.status.idle": "2021-10-17T12:11:19.765594Z",
     "shell.execute_reply": "2021-10-17T12:11:19.766209Z"
    },
    "papermill": {
     "duration": 0.047866,
     "end_time": "2021-10-17T12:11:19.766365",
     "exception": false,
     "start_time": "2021-10-17T12:11:19.718499",
     "status": "completed"
    },
    "tags": []
   },
   "outputs": [],
   "source": [
    "#hide\n",
    "# g['continent'] = g['continent'].map(mapping['map.continent'])"
   ]
  },
  {
   "cell_type": "code",
   "execution_count": 32,
   "id": "freelance-scout",
   "metadata": {
    "execution": {
     "iopub.execute_input": "2021-10-17T12:11:19.855189Z",
     "iopub.status.busy": "2021-10-17T12:11:19.854497Z",
     "iopub.status.idle": "2021-10-17T12:11:19.858511Z",
     "shell.execute_reply": "2021-10-17T12:11:19.859043Z"
    },
    "papermill": {
     "duration": 0.052244,
     "end_time": "2021-10-17T12:11:19.859285",
     "exception": false,
     "start_time": "2021-10-17T12:11:19.807041",
     "status": "completed"
    },
    "tags": []
   },
   "outputs": [],
   "source": [
    "#hide\n",
    "# g.head()"
   ]
  },
  {
   "cell_type": "code",
   "execution_count": 33,
   "id": "limited-engine",
   "metadata": {
    "execution": {
     "iopub.execute_input": "2021-10-17T12:11:19.952973Z",
     "iopub.status.busy": "2021-10-17T12:11:19.952250Z",
     "iopub.status.idle": "2021-10-17T12:11:19.954970Z",
     "shell.execute_reply": "2021-10-17T12:11:19.954363Z"
    },
    "papermill": {
     "duration": 0.047476,
     "end_time": "2021-10-17T12:11:19.955107",
     "exception": false,
     "start_time": "2021-10-17T12:11:19.907631",
     "status": "completed"
    },
    "tags": []
   },
   "outputs": [],
   "source": [
    "# hide\n",
    "# g['date'] = g['date'].astype('datetime64[ns]')"
   ]
  },
  {
   "cell_type": "code",
   "execution_count": 34,
   "id": "sophisticated-supervisor",
   "metadata": {
    "execution": {
     "iopub.execute_input": "2021-10-17T12:11:20.041878Z",
     "iopub.status.busy": "2021-10-17T12:11:20.041176Z",
     "iopub.status.idle": "2021-10-17T12:11:20.043172Z",
     "shell.execute_reply": "2021-10-17T12:11:20.043909Z"
    },
    "papermill": {
     "duration": 0.048112,
     "end_time": "2021-10-17T12:11:20.044074",
     "exception": false,
     "start_time": "2021-10-17T12:11:19.995962",
     "status": "completed"
    },
    "tags": []
   },
   "outputs": [],
   "source": [
    "#hide\n",
    "# g['date'] = g.date.dt.dayofyear"
   ]
  },
  {
   "cell_type": "code",
   "execution_count": 35,
   "id": "inside-dubai",
   "metadata": {
    "execution": {
     "iopub.execute_input": "2021-10-17T12:11:20.143256Z",
     "iopub.status.busy": "2021-10-17T12:11:20.142550Z",
     "iopub.status.idle": "2021-10-17T12:11:20.144993Z",
     "shell.execute_reply": "2021-10-17T12:11:20.144402Z"
    },
    "papermill": {
     "duration": 0.051643,
     "end_time": "2021-10-17T12:11:20.145138",
     "exception": false,
     "start_time": "2021-10-17T12:11:20.093495",
     "status": "completed"
    },
    "tags": []
   },
   "outputs": [],
   "source": [
    "#hide\n",
    "# g = g.rename(columns= {'continent':'group','country':'name','cases':'value'})"
   ]
  },
  {
   "cell_type": "code",
   "execution_count": 36,
   "id": "fleet-motorcycle",
   "metadata": {
    "execution": {
     "iopub.execute_input": "2021-10-17T12:11:20.237086Z",
     "iopub.status.busy": "2021-10-17T12:11:20.236380Z",
     "iopub.status.idle": "2021-10-17T12:11:20.239030Z",
     "shell.execute_reply": "2021-10-17T12:11:20.238485Z"
    },
    "papermill": {
     "duration": 0.048016,
     "end_time": "2021-10-17T12:11:20.239169",
     "exception": false,
     "start_time": "2021-10-17T12:11:20.191153",
     "status": "completed"
    },
    "tags": []
   },
   "outputs": [],
   "source": [
    "#hide\n",
    "# cols = ['name','group','day','value']"
   ]
  },
  {
   "cell_type": "code",
   "execution_count": 37,
   "id": "continued-sleeping",
   "metadata": {
    "execution": {
     "iopub.execute_input": "2021-10-17T12:11:20.329552Z",
     "iopub.status.busy": "2021-10-17T12:11:20.328839Z",
     "iopub.status.idle": "2021-10-17T12:11:20.330889Z",
     "shell.execute_reply": "2021-10-17T12:11:20.331548Z"
    },
    "papermill": {
     "duration": 0.04979,
     "end_time": "2021-10-17T12:11:20.331737",
     "exception": false,
     "start_time": "2021-10-17T12:11:20.281947",
     "status": "completed"
    },
    "tags": []
   },
   "outputs": [],
   "source": [
    "#hide\n",
    "# g.rename(columns= {'date':'day'},inplace = True)"
   ]
  },
  {
   "cell_type": "code",
   "execution_count": 38,
   "id": "major-fight",
   "metadata": {
    "execution": {
     "iopub.execute_input": "2021-10-17T12:11:20.419078Z",
     "iopub.status.busy": "2021-10-17T12:11:20.418391Z",
     "iopub.status.idle": "2021-10-17T12:11:20.421101Z",
     "shell.execute_reply": "2021-10-17T12:11:20.420544Z"
    },
    "papermill": {
     "duration": 0.048646,
     "end_time": "2021-10-17T12:11:20.421277",
     "exception": false,
     "start_time": "2021-10-17T12:11:20.372631",
     "status": "completed"
    },
    "tags": []
   },
   "outputs": [],
   "source": [
    "#hide\n",
    "# g = g[cols]"
   ]
  },
  {
   "cell_type": "code",
   "execution_count": 39,
   "id": "structured-mobile",
   "metadata": {
    "execution": {
     "iopub.execute_input": "2021-10-17T12:11:20.505928Z",
     "iopub.status.busy": "2021-10-17T12:11:20.505030Z",
     "iopub.status.idle": "2021-10-17T12:11:20.508017Z",
     "shell.execute_reply": "2021-10-17T12:11:20.507397Z"
    },
    "papermill": {
     "duration": 0.045819,
     "end_time": "2021-10-17T12:11:20.508152",
     "exception": false,
     "start_time": "2021-10-17T12:11:20.462333",
     "status": "completed"
    },
    "tags": []
   },
   "outputs": [],
   "source": [
    "# #hide\n",
    "# g = g[g.group.notna()]"
   ]
  },
  {
   "cell_type": "code",
   "execution_count": 40,
   "id": "determined-closing",
   "metadata": {
    "execution": {
     "iopub.execute_input": "2021-10-17T12:11:20.595340Z",
     "iopub.status.busy": "2021-10-17T12:11:20.594597Z",
     "iopub.status.idle": "2021-10-17T12:11:20.599952Z",
     "shell.execute_reply": "2021-10-17T12:11:20.598127Z"
    },
    "papermill": {
     "duration": 0.051315,
     "end_time": "2021-10-17T12:11:20.600120",
     "exception": false,
     "start_time": "2021-10-17T12:11:20.548805",
     "status": "completed"
    },
    "tags": []
   },
   "outputs": [],
   "source": [
    "# #hide\n",
    "# colors = dict(zip(\n",
    "#     [\"Oceania\", \"Europe\", \"Asia\", \"South America\", \"Middle East\", \"North America\", \"Africa\"],\n",
    "#     [\"#adb0ff\", \"#ffb3ff\", \"#90d595\", \"#e48381\", \"#aafbff\", \"#f7bb5f\", \"#eafb50\"]\n",
    "# ))\n",
    "# group_lk = g.set_index('name')['group'].to_dict()"
   ]
  },
  {
   "cell_type": "code",
   "execution_count": null,
   "id": "gross-drinking",
   "metadata": {
    "papermill": {
     "duration": 0.04094,
     "end_time": "2021-10-17T12:11:20.683041",
     "exception": false,
     "start_time": "2021-10-17T12:11:20.642101",
     "status": "completed"
    },
    "tags": []
   },
   "outputs": [],
   "source": []
  },
  {
   "cell_type": "code",
   "execution_count": 41,
   "id": "subject-macintosh",
   "metadata": {
    "execution": {
     "iopub.execute_input": "2021-10-17T12:11:20.771173Z",
     "iopub.status.busy": "2021-10-17T12:11:20.770413Z",
     "iopub.status.idle": "2021-10-17T12:11:20.772262Z",
     "shell.execute_reply": "2021-10-17T12:11:20.772967Z"
    },
    "papermill": {
     "duration": 0.048564,
     "end_time": "2021-10-17T12:11:20.773126",
     "exception": false,
     "start_time": "2021-10-17T12:11:20.724562",
     "status": "completed"
    },
    "tags": []
   },
   "outputs": [],
   "source": [
    "# #hide\n",
    "# fig, ax = plt.subplots(figsize=(15, 8))\n",
    "\n",
    "# def draw_barchart(current_day):\n",
    "#     dff = g[g['day'].eq(current_day)].sort_values(by='value', ascending=True).tail(10)\n",
    "#     ax.clear()\n",
    "#     ax.barh(dff['name'], dff['value'], color=[colors[group_lk[x]] for x in dff['name']])\n",
    "#     dx = dff['value'].max() / 200\n",
    "    \n",
    "#     for i, (value, name) in enumerate(zip(dff['value'], dff['name'])):\n",
    "#         ax.text(value-dx, i,     name,           size=14, weight=600, ha='right', va='bottom')\n",
    "#         ax.text(value-dx, i-.25, group_lk[name], size=10, color='#444444', ha='right', va='baseline')\n",
    "#         ax.text(value+dx, i,     f'{value:,.0f}',  size=14, ha='left',  va='center')\n",
    "#     ax.text(1, 0.4, current_day, transform=ax.transAxes, color='#777777', size=46, ha='right', weight=800)\n",
    "#     ax.text(0, 1.06, 'Population (thousands)', transform=ax.transAxes, size=12, color='#777777')\n",
    "#     ax.xaxis.set_major_formatter(ticker.StrMethodFormatter('{x:,.0f}'))\n",
    "#     ax.xaxis.set_ticks_position('top')\n",
    "#     ax.tick_params(axis='x', colors='#777777', labelsize=12)\n",
    "#     ax.set_yticks([])\n",
    "#     ax.margins(0, 0.01)\n",
    "#     ax.grid(which='major', axis='x', linestyle='-')\n",
    "#     ax.set_axisbelow(True)\n",
    "    \n",
    "#     ax.text(0, 1.15, 'Coronavirus',\n",
    "#             transform=ax.transAxes, size=24, weight=600, ha='left', va='top')\n",
    "# #     ax.text(1, 0, 'by @pratapvardhan; credit @jburnmurdoch', transform=ax.transAxes, color='#777777', ha='right',\n",
    "# #             bbox=dict(facecolor='white', alpha=0.8, edgecolor='white'))\n",
    "#     plt.box(False)"
   ]
  },
  {
   "cell_type": "code",
   "execution_count": 42,
   "id": "sexual-wages",
   "metadata": {
    "execution": {
     "iopub.execute_input": "2021-10-17T12:11:20.860291Z",
     "iopub.status.busy": "2021-10-17T12:11:20.859500Z",
     "iopub.status.idle": "2021-10-17T12:11:20.861273Z",
     "shell.execute_reply": "2021-10-17T12:11:20.861981Z"
    },
    "papermill": {
     "duration": 0.047882,
     "end_time": "2021-10-17T12:11:20.862169",
     "exception": false,
     "start_time": "2021-10-17T12:11:20.814287",
     "status": "completed"
    },
    "tags": []
   },
   "outputs": [],
   "source": [
    "# #hide_input\n",
    "# fig, ax = plt.subplots(figsize=(15, 8))\n",
    "# animator = animation.FuncAnimation(fig, draw_barchart, frames=range(g.day.values.min(), g.day.values.max()))\n",
    "# HTML(animator.to_jshtml())\n",
    "# # or use animator.to_html5_video() or animator.save() "
   ]
  },
  {
   "cell_type": "code",
   "execution_count": null,
   "id": "australian-container",
   "metadata": {
    "papermill": {
     "duration": 0.040344,
     "end_time": "2021-10-17T12:11:20.944655",
     "exception": false,
     "start_time": "2021-10-17T12:11:20.904311",
     "status": "completed"
    },
    "tags": []
   },
   "outputs": [],
   "source": []
  },
  {
   "cell_type": "code",
   "execution_count": null,
   "id": "mediterranean-pontiac",
   "metadata": {
    "papermill": {
     "duration": 0.041754,
     "end_time": "2021-10-17T12:11:21.029854",
     "exception": false,
     "start_time": "2021-10-17T12:11:20.988100",
     "status": "completed"
    },
    "tags": []
   },
   "outputs": [],
   "source": []
  },
  {
   "cell_type": "code",
   "execution_count": null,
   "id": "aging-legislature",
   "metadata": {
    "papermill": {
     "duration": 0.042562,
     "end_time": "2021-10-17T12:11:21.113803",
     "exception": false,
     "start_time": "2021-10-17T12:11:21.071241",
     "status": "completed"
    },
    "tags": []
   },
   "outputs": [],
   "source": []
  }
 ],
 "metadata": {
  "kernelspec": {
   "display_name": "Python 3",
   "language": "python",
   "name": "python3"
  },
  "language_info": {
   "codemirror_mode": {
    "name": "ipython",
    "version": 3
   },
   "file_extension": ".py",
   "mimetype": "text/x-python",
   "name": "python",
   "nbconvert_exporter": "python",
   "pygments_lexer": "ipython3",
   "version": "3.6.15"
  },
  "papermill": {
   "duration": 7.683123,
   "end_time": "2021-10-17T12:11:21.464740",
   "environment_variables": {},
   "exception": null,
   "input_path": "2020-03-21-covid19exp.ipynb",
   "output_path": "2020-03-21-covid19exp.ipynb",
   "parameters": {},
   "start_time": "2021-10-17T12:11:13.781617",
   "version": "2.0.0"
  }
 },
 "nbformat": 4,
 "nbformat_minor": 5
}