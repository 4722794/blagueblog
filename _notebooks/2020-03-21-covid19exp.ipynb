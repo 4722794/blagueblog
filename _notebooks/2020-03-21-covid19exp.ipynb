{
 "cells": [
  {
   "cell_type": "markdown",
   "id": "muslim-click",
   "metadata": {
    "papermill": {
     "duration": 0.033722,
     "end_time": "2022-03-07T00:31:43.210863",
     "exception": false,
     "start_time": "2022-03-07T00:31:43.177141",
     "status": "completed"
    },
    "tags": []
   },
   "source": [
    "# COVID-19 Case Race\n",
    "> A race chart to see rising cases around the world\n",
    "\n",
    "- author: Hargun Oberoi\n",
    "- image: images/covid-overview.png\n",
    "- hide: false\n",
    "- badges: false"
   ]
  },
  {
   "cell_type": "code",
   "execution_count": 1,
   "id": "proof-material",
   "metadata": {
    "execution": {
     "iopub.execute_input": "2022-03-07T00:31:43.280522Z",
     "iopub.status.busy": "2022-03-07T00:31:43.279960Z",
     "iopub.status.idle": "2022-03-07T00:31:43.590818Z",
     "shell.execute_reply": "2022-03-07T00:31:43.589979Z"
    },
    "papermill": {
     "duration": 0.348869,
     "end_time": "2022-03-07T00:31:43.590962",
     "exception": false,
     "start_time": "2022-03-07T00:31:43.242093",
     "status": "completed"
    },
    "tags": []
   },
   "outputs": [],
   "source": [
    "#hide\n",
    "import numpy as np\n",
    "import pandas as pd\n",
    "from jinja2 import Template\n",
    "from IPython.display import HTML"
   ]
  },
  {
   "cell_type": "code",
   "execution_count": 2,
   "id": "developed-terminology",
   "metadata": {
    "execution": {
     "iopub.execute_input": "2022-03-07T00:31:43.654202Z",
     "iopub.status.busy": "2022-03-07T00:31:43.653685Z",
     "iopub.status.idle": "2022-03-07T00:31:43.655678Z",
     "shell.execute_reply": "2022-03-07T00:31:43.656176Z"
    },
    "papermill": {
     "duration": 0.035848,
     "end_time": "2022-03-07T00:31:43.656295",
     "exception": false,
     "start_time": "2022-03-07T00:31:43.620447",
     "status": "completed"
    },
    "tags": []
   },
   "outputs": [],
   "source": [
    "#hide\n",
    "\n",
    "# FETCH\n",
    "base_url = 'https://raw.githubusercontent.com/pratapvardhan/notebooks/master/covid19/'\n",
    "paths = {\n",
    "    'mapping': base_url + 'mapping_countries.csv',\n",
    "    'overview': base_url + 'overview.tpl'\n",
    "}"
   ]
  },
  {
   "cell_type": "code",
   "execution_count": 3,
   "id": "dynamic-saver",
   "metadata": {
    "execution": {
     "iopub.execute_input": "2022-03-07T00:31:43.725116Z",
     "iopub.status.busy": "2022-03-07T00:31:43.723557Z",
     "iopub.status.idle": "2022-03-07T00:31:43.727434Z",
     "shell.execute_reply": "2022-03-07T00:31:43.727861Z"
    },
    "papermill": {
     "duration": 0.040407,
     "end_time": "2022-03-07T00:31:43.727967",
     "exception": false,
     "start_time": "2022-03-07T00:31:43.687560",
     "status": "completed"
    },
    "tags": []
   },
   "outputs": [
    {
     "data": {
      "text/plain": [
       "'https://raw.githubusercontent.com/pratapvardhan/notebooks/master/covid19/mapping_countries.csv'"
      ]
     },
     "execution_count": 3,
     "metadata": {},
     "output_type": "execute_result"
    }
   ],
   "source": [
    "#hide\n",
    "paths['mapping']"
   ]
  },
  {
   "cell_type": "code",
   "execution_count": 4,
   "id": "urban-software",
   "metadata": {
    "execution": {
     "iopub.execute_input": "2022-03-07T00:31:43.792749Z",
     "iopub.status.busy": "2022-03-07T00:31:43.792243Z",
     "iopub.status.idle": "2022-03-07T00:31:43.794292Z",
     "shell.execute_reply": "2022-03-07T00:31:43.793889Z"
    },
    "papermill": {
     "duration": 0.036945,
     "end_time": "2022-03-07T00:31:43.794391",
     "exception": false,
     "start_time": "2022-03-07T00:31:43.757446",
     "status": "completed"
    },
    "tags": []
   },
   "outputs": [],
   "source": [
    "#hide\n",
    "def get_mappings(url):\n",
    "    df = pd.read_csv(url)\n",
    "    return {\n",
    "        'df': df,\n",
    "        'replace.country': dict(df.dropna(subset=['Name']).set_index('Country')['Name']),\n",
    "        'map.continent': dict(df.set_index('Name')['Continent'])\n",
    "    }"
   ]
  },
  {
   "cell_type": "code",
   "execution_count": 5,
   "id": "intimate-machinery",
   "metadata": {
    "execution": {
     "iopub.execute_input": "2022-03-07T00:31:43.855334Z",
     "iopub.status.busy": "2022-03-07T00:31:43.854834Z",
     "iopub.status.idle": "2022-03-07T00:31:43.919697Z",
     "shell.execute_reply": "2022-03-07T00:31:43.919184Z"
    },
    "papermill": {
     "duration": 0.09601,
     "end_time": "2022-03-07T00:31:43.919805",
     "exception": false,
     "start_time": "2022-03-07T00:31:43.823795",
     "status": "completed"
    },
    "tags": []
   },
   "outputs": [],
   "source": [
    "#hide\n",
    "mapping = get_mappings(paths['mapping'])"
   ]
  },
  {
   "cell_type": "code",
   "execution_count": 6,
   "id": "certified-tactics",
   "metadata": {
    "execution": {
     "iopub.execute_input": "2022-03-07T00:31:43.983885Z",
     "iopub.status.busy": "2022-03-07T00:31:43.983310Z",
     "iopub.status.idle": "2022-03-07T00:31:43.985299Z",
     "shell.execute_reply": "2022-03-07T00:31:43.984882Z"
    },
    "papermill": {
     "duration": 0.035514,
     "end_time": "2022-03-07T00:31:43.985393",
     "exception": false,
     "start_time": "2022-03-07T00:31:43.949879",
     "status": "completed"
    },
    "tags": []
   },
   "outputs": [],
   "source": [
    "#hide\n",
    "def get_template(path):\n",
    "    from urllib.parse import urlparse\n",
    "    if bool(urlparse(path).netloc):\n",
    "        from urllib.request import urlopen\n",
    "        return urlopen(path).read().decode('utf8')\n",
    "    return open(path).read()"
   ]
  },
  {
   "cell_type": "code",
   "execution_count": 7,
   "id": "realistic-blast",
   "metadata": {
    "execution": {
     "iopub.execute_input": "2022-03-07T00:31:44.048585Z",
     "iopub.status.busy": "2022-03-07T00:31:44.047979Z",
     "iopub.status.idle": "2022-03-07T00:31:44.049681Z",
     "shell.execute_reply": "2022-03-07T00:31:44.050124Z"
    },
    "papermill": {
     "duration": 0.035392,
     "end_time": "2022-03-07T00:31:44.050248",
     "exception": false,
     "start_time": "2022-03-07T00:31:44.014856",
     "status": "completed"
    },
    "tags": []
   },
   "outputs": [],
   "source": [
    "#hide\n",
    "def get_frame(name):\n",
    "    url = (\n",
    "        'https://raw.githubusercontent.com/CSSEGISandData/COVID-19/master/csse_covid_19_data/'\n",
    "        f'csse_covid_19_time_series/time_series_covid19_{name}_global.csv')\n",
    "    df = pd.read_csv(url)\n",
    "    # rename countries\n",
    "    df['Country/Region'] = df['Country/Region'].replace(mapping['replace.country'])\n",
    "    return df"
   ]
  },
  {
   "cell_type": "code",
   "execution_count": 8,
   "id": "affiliated-characterization",
   "metadata": {
    "execution": {
     "iopub.execute_input": "2022-03-07T00:31:44.115322Z",
     "iopub.status.busy": "2022-03-07T00:31:44.114744Z",
     "iopub.status.idle": "2022-03-07T00:31:44.116752Z",
     "shell.execute_reply": "2022-03-07T00:31:44.116329Z"
    },
    "papermill": {
     "duration": 0.036213,
     "end_time": "2022-03-07T00:31:44.116847",
     "exception": false,
     "start_time": "2022-03-07T00:31:44.080634",
     "status": "completed"
    },
    "tags": []
   },
   "outputs": [],
   "source": [
    "#hide\n",
    "def get_dates(df):\n",
    "    dt_cols = df.columns[~df.columns.isin(['Province/State', 'Country/Region', 'Lat', 'Long'])]\n",
    "    LAST_DATE_I = -1\n",
    "    # sometimes last column may be empty, then go backwards\n",
    "    for i in range(-1, -len(dt_cols), -1):\n",
    "        if not df[dt_cols[i]].fillna(0).eq(0).all():\n",
    "            LAST_DATE_I = i\n",
    "            break\n",
    "    return LAST_DATE_I, dt_cols"
   ]
  },
  {
   "cell_type": "code",
   "execution_count": 9,
   "id": "recent-optimization",
   "metadata": {
    "execution": {
     "iopub.execute_input": "2022-03-07T00:31:44.179969Z",
     "iopub.status.busy": "2022-03-07T00:31:44.179460Z",
     "iopub.status.idle": "2022-03-07T00:31:44.761015Z",
     "shell.execute_reply": "2022-03-07T00:31:44.760226Z"
    },
    "papermill": {
     "duration": 0.614816,
     "end_time": "2022-03-07T00:31:44.761146",
     "exception": false,
     "start_time": "2022-03-07T00:31:44.146330",
     "status": "completed"
    },
    "tags": []
   },
   "outputs": [],
   "source": [
    "#hide\n",
    "COL_REGION = 'Country/Region'\n",
    "# Confirmed, Recovered, Deaths\n",
    "df = get_frame('confirmed')\n",
    "# dft_: timeseries, dfc_: today country agg\n",
    "dft_cases = df\n",
    "dft_deaths = get_frame('deaths')\n",
    "dft_recovered = get_frame('recovered')\n",
    "LAST_DATE_I, dt_cols = get_dates(df)"
   ]
  },
  {
   "cell_type": "code",
   "execution_count": 10,
   "id": "absolute-copper",
   "metadata": {
    "execution": {
     "iopub.execute_input": "2022-03-07T00:31:44.825361Z",
     "iopub.status.busy": "2022-03-07T00:31:44.824820Z",
     "iopub.status.idle": "2022-03-07T00:31:44.826794Z",
     "shell.execute_reply": "2022-03-07T00:31:44.826366Z"
    },
    "papermill": {
     "duration": 0.035691,
     "end_time": "2022-03-07T00:31:44.826895",
     "exception": false,
     "start_time": "2022-03-07T00:31:44.791204",
     "status": "completed"
    },
    "tags": []
   },
   "outputs": [],
   "source": [
    "#hide\n",
    "LAST_DATE_I, dt_cols = get_dates(df)\n",
    "dt_today =dt_cols[LAST_DATE_I]\n",
    "# dt_5day = dt_cols[LAST_DATE_I - 5]\n",
    "dt_yday = dt_cols[LAST_DATE_I - 1]"
   ]
  },
  {
   "cell_type": "code",
   "execution_count": 11,
   "id": "restricted-sheriff",
   "metadata": {
    "execution": {
     "iopub.execute_input": "2022-03-07T00:31:44.893891Z",
     "iopub.status.busy": "2022-03-07T00:31:44.893320Z",
     "iopub.status.idle": "2022-03-07T00:31:44.903906Z",
     "shell.execute_reply": "2022-03-07T00:31:44.902344Z"
    },
    "papermill": {
     "duration": 0.047688,
     "end_time": "2022-03-07T00:31:44.904014",
     "exception": false,
     "start_time": "2022-03-07T00:31:44.856326",
     "status": "completed"
    },
    "tags": []
   },
   "outputs": [],
   "source": [
    "#hide\n",
    "dfc_cases = dft_cases.groupby(COL_REGION)[dt_today].sum()\n",
    "dfc_deaths = dft_deaths.groupby(COL_REGION)[dt_today].sum()\n",
    "# dfp_cases = dft_cases.groupby(COL_REGION)[dt_5day].sum()\n",
    "# dfp_deaths = dft_deaths.groupby(COL_REGION)[dt_5day].sum()\n",
    "dfp_cases = dft_cases.groupby(COL_REGION)[dt_yday].sum()\n",
    "dfp_deaths = dft_deaths.groupby(COL_REGION)[dt_yday].sum()"
   ]
  },
  {
   "cell_type": "code",
   "execution_count": 12,
   "id": "deluxe-hepatitis",
   "metadata": {
    "execution": {
     "iopub.execute_input": "2022-03-07T00:31:44.968720Z",
     "iopub.status.busy": "2022-03-07T00:31:44.968197Z",
     "iopub.status.idle": "2022-03-07T00:31:44.972334Z",
     "shell.execute_reply": "2022-03-07T00:31:44.972746Z"
    },
    "papermill": {
     "duration": 0.039194,
     "end_time": "2022-03-07T00:31:44.972862",
     "exception": false,
     "start_time": "2022-03-07T00:31:44.933668",
     "status": "completed"
    },
    "tags": []
   },
   "outputs": [],
   "source": [
    "#hide\n",
    "df_table = (pd.DataFrame(dict(Cases = dfc_cases, Deaths = dfc_deaths, PCases = dfp_cases, PDeaths = dfp_deaths))\n",
    "            .sort_values(by = ['Cases','Deaths'], ascending = [False, False])\n",
    "            .reset_index())"
   ]
  },
  {
   "cell_type": "code",
   "execution_count": 13,
   "id": "educational-chancellor",
   "metadata": {
    "execution": {
     "iopub.execute_input": "2022-03-07T00:31:45.043832Z",
     "iopub.status.busy": "2022-03-07T00:31:45.043331Z",
     "iopub.status.idle": "2022-03-07T00:31:45.054738Z",
     "shell.execute_reply": "2022-03-07T00:31:45.054343Z"
    },
    "papermill": {
     "duration": 0.0526,
     "end_time": "2022-03-07T00:31:45.054838",
     "exception": false,
     "start_time": "2022-03-07T00:31:45.002238",
     "status": "completed"
    },
    "tags": []
   },
   "outputs": [
    {
     "data": {
      "text/html": [
       "<div>\n",
       "<style scoped>\n",
       "    .dataframe tbody tr th:only-of-type {\n",
       "        vertical-align: middle;\n",
       "    }\n",
       "\n",
       "    .dataframe tbody tr th {\n",
       "        vertical-align: top;\n",
       "    }\n",
       "\n",
       "    .dataframe thead th {\n",
       "        text-align: right;\n",
       "    }\n",
       "</style>\n",
       "<table border=\"1\" class=\"dataframe\">\n",
       "  <thead>\n",
       "    <tr style=\"text-align: right;\">\n",
       "      <th></th>\n",
       "      <th>Country/Region</th>\n",
       "      <th>Cases</th>\n",
       "      <th>Deaths</th>\n",
       "      <th>PCases</th>\n",
       "      <th>PDeaths</th>\n",
       "      <th>Cases (+)</th>\n",
       "      <th>Deaths (+)</th>\n",
       "      <th>Fatality Rate</th>\n",
       "      <th>Continent</th>\n",
       "    </tr>\n",
       "  </thead>\n",
       "  <tbody>\n",
       "    <tr>\n",
       "      <th>0</th>\n",
       "      <td>US</td>\n",
       "      <td>79265726</td>\n",
       "      <td>958437</td>\n",
       "      <td>79250509</td>\n",
       "      <td>958144</td>\n",
       "      <td>15217</td>\n",
       "      <td>293</td>\n",
       "      <td>1.21</td>\n",
       "      <td>North America</td>\n",
       "    </tr>\n",
       "    <tr>\n",
       "      <th>1</th>\n",
       "      <td>India</td>\n",
       "      <td>42962953</td>\n",
       "      <td>515036</td>\n",
       "      <td>42957477</td>\n",
       "      <td>514878</td>\n",
       "      <td>5476</td>\n",
       "      <td>158</td>\n",
       "      <td>1.20</td>\n",
       "      <td>Asia</td>\n",
       "    </tr>\n",
       "    <tr>\n",
       "      <th>2</th>\n",
       "      <td>Brazil</td>\n",
       "      <td>29040800</td>\n",
       "      <td>652216</td>\n",
       "      <td>28978052</td>\n",
       "      <td>651522</td>\n",
       "      <td>62748</td>\n",
       "      <td>694</td>\n",
       "      <td>2.25</td>\n",
       "      <td>South America</td>\n",
       "    </tr>\n",
       "    <tr>\n",
       "      <th>3</th>\n",
       "      <td>France</td>\n",
       "      <td>23191580</td>\n",
       "      <td>140264</td>\n",
       "      <td>23137902</td>\n",
       "      <td>140144</td>\n",
       "      <td>53678</td>\n",
       "      <td>120</td>\n",
       "      <td>0.60</td>\n",
       "      <td>Europe</td>\n",
       "    </tr>\n",
       "    <tr>\n",
       "      <th>4</th>\n",
       "      <td>United Kingdom</td>\n",
       "      <td>19256835</td>\n",
       "      <td>162582</td>\n",
       "      <td>19256835</td>\n",
       "      <td>162582</td>\n",
       "      <td>0</td>\n",
       "      <td>0</td>\n",
       "      <td>0.84</td>\n",
       "      <td>Europe</td>\n",
       "    </tr>\n",
       "  </tbody>\n",
       "</table>\n",
       "</div>"
      ],
      "text/plain": [
       "   Country/Region     Cases  Deaths    PCases  PDeaths  Cases (+)  Deaths (+)  \\\n",
       "0              US  79265726  958437  79250509   958144      15217         293   \n",
       "1           India  42962953  515036  42957477   514878       5476         158   \n",
       "2          Brazil  29040800  652216  28978052   651522      62748         694   \n",
       "3          France  23191580  140264  23137902   140144      53678         120   \n",
       "4  United Kingdom  19256835  162582  19256835   162582          0           0   \n",
       "\n",
       "   Fatality Rate      Continent  \n",
       "0           1.21  North America  \n",
       "1           1.20           Asia  \n",
       "2           2.25  South America  \n",
       "3           0.60         Europe  \n",
       "4           0.84         Europe  "
      ]
     },
     "execution_count": 13,
     "metadata": {},
     "output_type": "execute_result"
    }
   ],
   "source": [
    "#hide\n",
    "for c in 'Cases, Deaths'.split(', '):\n",
    "    df_table[f'{c} (+)'] = (df_table[c] - df_table[f'P{c}']).clip(0)\n",
    "    #Clip ça veut dire, les chiffres negatif sont interdit\n",
    "df_table['Fatality Rate'] = (100* df_table['Deaths']/ df_table['Cases']).round(2)\n",
    "df_table['Continent'] = df_table['Country/Region'].map(mapping['map.continent'])\n",
    "df_table.head(5)"
   ]
  },
  {
   "cell_type": "code",
   "execution_count": 14,
   "id": "aboriginal-bulgaria",
   "metadata": {
    "execution": {
     "iopub.execute_input": "2022-03-07T00:31:45.116917Z",
     "iopub.status.busy": "2022-03-07T00:31:45.116416Z",
     "iopub.status.idle": "2022-03-07T00:31:45.121011Z",
     "shell.execute_reply": "2022-03-07T00:31:45.121475Z"
    },
    "papermill": {
     "duration": 0.036762,
     "end_time": "2022-03-07T00:31:45.121584",
     "exception": false,
     "start_time": "2022-03-07T00:31:45.084822",
     "status": "completed"
    },
    "tags": []
   },
   "outputs": [],
   "source": [
    "#hide\n",
    "#delete problematic countries from table\n",
    "df_table = df_table[~df_table['Country/Region'].isin(['Cape Verde', 'Cruise Ship', 'Kosovo'])]"
   ]
  },
  {
   "cell_type": "code",
   "execution_count": 15,
   "id": "fantastic-effect",
   "metadata": {
    "execution": {
     "iopub.execute_input": "2022-03-07T00:31:45.188448Z",
     "iopub.status.busy": "2022-03-07T00:31:45.187922Z",
     "iopub.status.idle": "2022-03-07T00:31:45.204511Z",
     "shell.execute_reply": "2022-03-07T00:31:45.204006Z"
    },
    "papermill": {
     "duration": 0.053273,
     "end_time": "2022-03-07T00:31:45.204624",
     "exception": false,
     "start_time": "2022-03-07T00:31:45.151351",
     "status": "completed"
    },
    "tags": []
   },
   "outputs": [
    {
     "data": {
      "text/html": [
       "<div>\n",
       "<style scoped>\n",
       "    .dataframe tbody tr th:only-of-type {\n",
       "        vertical-align: middle;\n",
       "    }\n",
       "\n",
       "    .dataframe tbody tr th {\n",
       "        vertical-align: top;\n",
       "    }\n",
       "\n",
       "    .dataframe thead th {\n",
       "        text-align: right;\n",
       "    }\n",
       "</style>\n",
       "<table border=\"1\" class=\"dataframe\">\n",
       "  <thead>\n",
       "    <tr style=\"text-align: right;\">\n",
       "      <th></th>\n",
       "      <th>Country/Region</th>\n",
       "      <th>Cases</th>\n",
       "      <th>Deaths</th>\n",
       "      <th>PCases</th>\n",
       "      <th>PDeaths</th>\n",
       "      <th>Cases (+)</th>\n",
       "      <th>Deaths (+)</th>\n",
       "      <th>Fatality Rate</th>\n",
       "      <th>Continent</th>\n",
       "    </tr>\n",
       "  </thead>\n",
       "  <tbody>\n",
       "    <tr>\n",
       "      <th>0</th>\n",
       "      <td>US</td>\n",
       "      <td>79265726</td>\n",
       "      <td>958437</td>\n",
       "      <td>79250509</td>\n",
       "      <td>958144</td>\n",
       "      <td>15217</td>\n",
       "      <td>293</td>\n",
       "      <td>1.2</td>\n",
       "      <td>North America</td>\n",
       "    </tr>\n",
       "    <tr>\n",
       "      <th>1</th>\n",
       "      <td>India</td>\n",
       "      <td>42962953</td>\n",
       "      <td>515036</td>\n",
       "      <td>42957477</td>\n",
       "      <td>514878</td>\n",
       "      <td>5476</td>\n",
       "      <td>158</td>\n",
       "      <td>1.2</td>\n",
       "      <td>Asia</td>\n",
       "    </tr>\n",
       "    <tr>\n",
       "      <th>2</th>\n",
       "      <td>Brazil</td>\n",
       "      <td>29040800</td>\n",
       "      <td>652216</td>\n",
       "      <td>28978052</td>\n",
       "      <td>651522</td>\n",
       "      <td>62748</td>\n",
       "      <td>694</td>\n",
       "      <td>2.2</td>\n",
       "      <td>South America</td>\n",
       "    </tr>\n",
       "    <tr>\n",
       "      <th>3</th>\n",
       "      <td>France</td>\n",
       "      <td>23191580</td>\n",
       "      <td>140264</td>\n",
       "      <td>23137902</td>\n",
       "      <td>140144</td>\n",
       "      <td>53678</td>\n",
       "      <td>120</td>\n",
       "      <td>0.6</td>\n",
       "      <td>Europe</td>\n",
       "    </tr>\n",
       "    <tr>\n",
       "      <th>4</th>\n",
       "      <td>United Kingdom</td>\n",
       "      <td>19256835</td>\n",
       "      <td>162582</td>\n",
       "      <td>19256835</td>\n",
       "      <td>162582</td>\n",
       "      <td>0</td>\n",
       "      <td>0</td>\n",
       "      <td>0.8</td>\n",
       "      <td>Europe</td>\n",
       "    </tr>\n",
       "  </tbody>\n",
       "</table>\n",
       "</div>"
      ],
      "text/plain": [
       "   Country/Region     Cases  Deaths    PCases  PDeaths  Cases (+)  Deaths (+)  \\\n",
       "0              US  79265726  958437  79250509   958144      15217         293   \n",
       "1           India  42962953  515036  42957477   514878       5476         158   \n",
       "2          Brazil  29040800  652216  28978052   651522      62748         694   \n",
       "3          France  23191580  140264  23137902   140144      53678         120   \n",
       "4  United Kingdom  19256835  162582  19256835   162582          0           0   \n",
       "\n",
       "   Fatality Rate      Continent  \n",
       "0            1.2  North America  \n",
       "1            1.2           Asia  \n",
       "2            2.2  South America  \n",
       "3            0.6         Europe  \n",
       "4            0.8         Europe  "
      ]
     },
     "execution_count": 15,
     "metadata": {},
     "output_type": "execute_result"
    }
   ],
   "source": [
    "#hide\n",
    "df_table = (pd.DataFrame(dict(Cases=dfc_cases, Deaths=dfc_deaths, PCases=dfp_cases, PDeaths=dfp_deaths))\n",
    "             .sort_values(by=['Cases', 'Deaths'], ascending=[False, False])\n",
    "             .reset_index())\n",
    "df_table.rename(columns={'index': 'Country/Region'}, inplace=True)\n",
    "for c in 'Cases, Deaths'.split(', '):\n",
    "    df_table[f'{c} (+)'] = (df_table[c] - df_table[f'P{c}']).clip(0)  # DATA BUG\n",
    "df_table['Fatality Rate'] = (100 * df_table['Deaths'] / df_table['Cases']).round(1)\n",
    "df_table['Continent'] = df_table['Country/Region'].map(mapping['map.continent'])\n",
    "df_table.head(5)"
   ]
  },
  {
   "cell_type": "code",
   "execution_count": 16,
   "id": "fewer-occasion",
   "metadata": {
    "execution": {
     "iopub.execute_input": "2022-03-07T00:31:45.270033Z",
     "iopub.status.busy": "2022-03-07T00:31:45.269534Z",
     "iopub.status.idle": "2022-03-07T00:31:45.272366Z",
     "shell.execute_reply": "2022-03-07T00:31:45.272749Z"
    },
    "papermill": {
     "duration": 0.037024,
     "end_time": "2022-03-07T00:31:45.272860",
     "exception": false,
     "start_time": "2022-03-07T00:31:45.235836",
     "status": "completed"
    },
    "tags": []
   },
   "outputs": [],
   "source": [
    "#hide\n",
    "#delete problematic countries from table\n",
    "df_table = df_table[~df_table['Country/Region'].isin(['Cape Verde', 'Cruise Ship', 'Kosovo'])]"
   ]
  },
  {
   "cell_type": "code",
   "execution_count": 17,
   "id": "related-center",
   "metadata": {
    "execution": {
     "iopub.execute_input": "2022-03-07T00:31:45.339593Z",
     "iopub.status.busy": "2022-03-07T00:31:45.339094Z",
     "iopub.status.idle": "2022-03-07T00:31:45.351794Z",
     "shell.execute_reply": "2022-03-07T00:31:45.351375Z"
    },
    "papermill": {
     "duration": 0.048715,
     "end_time": "2022-03-07T00:31:45.351888",
     "exception": false,
     "start_time": "2022-03-07T00:31:45.303173",
     "status": "completed"
    },
    "tags": []
   },
   "outputs": [],
   "source": [
    "#hide\n",
    "metrics = [df_table.columns[index] for index in [1,2,5,6]]\n",
    "# s_china = df_table[df_table['Country/Region'].eq('China')][metrics].sum().add_prefix('China ')\n",
    "s_us = df_table[df_table['Country/Region'].eq('US')][metrics].sum().add_prefix('US ')\n",
    "s_eu = df_table[df_table['Continent'].eq('Europe')][metrics].sum().add_prefix('EU ')\n",
    "s_ind = df_table[df_table['Country/Region'].eq('India')][metrics].sum().add_prefix('India ')\n",
    "summary = {'updated': pd.to_datetime(dt_today), 'since': pd.to_datetime(dt_yday)}\n",
    "summary = {'updated': pd.to_datetime(dt_today), 'since': pd.to_datetime(dt_yday)}\n",
    "summary = {**summary, **df_table[metrics].sum(), **s_ind, **s_us, **s_eu}"
   ]
  },
  {
   "cell_type": "code",
   "execution_count": 18,
   "id": "engaging-syndrome",
   "metadata": {
    "execution": {
     "iopub.execute_input": "2022-03-07T00:31:45.416690Z",
     "iopub.status.busy": "2022-03-07T00:31:45.416189Z",
     "iopub.status.idle": "2022-03-07T00:31:45.431506Z",
     "shell.execute_reply": "2022-03-07T00:31:45.431933Z"
    },
    "papermill": {
     "duration": 0.04972,
     "end_time": "2022-03-07T00:31:45.432041",
     "exception": false,
     "start_time": "2022-03-07T00:31:45.382321",
     "status": "completed"
    },
    "tags": []
   },
   "outputs": [],
   "source": [
    "#hide\n",
    "dft_ct_new_cases = dft_cases.groupby(COL_REGION)[dt_cols].sum().diff(axis=1).fillna(0).astype(int)"
   ]
  },
  {
   "cell_type": "code",
   "execution_count": 19,
   "id": "neutral-assignment",
   "metadata": {
    "execution": {
     "iopub.execute_input": "2022-03-07T00:31:45.497438Z",
     "iopub.status.busy": "2022-03-07T00:31:45.496868Z",
     "iopub.status.idle": "2022-03-07T00:31:45.498532Z",
     "shell.execute_reply": "2022-03-07T00:31:45.498966Z"
    },
    "papermill": {
     "duration": 0.036752,
     "end_time": "2022-03-07T00:31:45.499090",
     "exception": false,
     "start_time": "2022-03-07T00:31:45.462338",
     "status": "completed"
    },
    "tags": []
   },
   "outputs": [],
   "source": [
    "#hide\n",
    "everydaycases = dft_ct_new_cases.cumsum(axis=1)"
   ]
  },
  {
   "cell_type": "code",
   "execution_count": 20,
   "id": "parliamentary-calgary",
   "metadata": {
    "execution": {
     "iopub.execute_input": "2022-03-07T00:31:45.564477Z",
     "iopub.status.busy": "2022-03-07T00:31:45.563921Z",
     "iopub.status.idle": "2022-03-07T00:31:46.129296Z",
     "shell.execute_reply": "2022-03-07T00:31:46.128769Z"
    },
    "papermill": {
     "duration": 0.599345,
     "end_time": "2022-03-07T00:31:46.129434",
     "exception": false,
     "start_time": "2022-03-07T00:31:45.530089",
     "status": "completed"
    },
    "tags": []
   },
   "outputs": [],
   "source": [
    "#hide\n",
    "import pandas as pd\n",
    "import matplotlib.pyplot as plt\n",
    "import matplotlib.ticker as ticker\n",
    "import matplotlib.animation as animation\n",
    "from IPython.display import HTML"
   ]
  },
  {
   "cell_type": "code",
   "execution_count": 21,
   "id": "lasting-extraction",
   "metadata": {
    "execution": {
     "iopub.execute_input": "2022-03-07T00:31:46.196817Z",
     "iopub.status.busy": "2022-03-07T00:31:46.196304Z",
     "iopub.status.idle": "2022-03-07T00:31:46.202617Z",
     "shell.execute_reply": "2022-03-07T00:31:46.202186Z"
    },
    "papermill": {
     "duration": 0.04235,
     "end_time": "2022-03-07T00:31:46.202723",
     "exception": false,
     "start_time": "2022-03-07T00:31:46.160373",
     "status": "completed"
    },
    "tags": []
   },
   "outputs": [],
   "source": [
    "#hide\n",
    "t = everydaycases.stack()"
   ]
  },
  {
   "cell_type": "code",
   "execution_count": 22,
   "id": "premier-sleeve",
   "metadata": {
    "execution": {
     "iopub.execute_input": "2022-03-07T00:31:46.267292Z",
     "iopub.status.busy": "2022-03-07T00:31:46.266779Z",
     "iopub.status.idle": "2022-03-07T00:31:46.277318Z",
     "shell.execute_reply": "2022-03-07T00:31:46.276895Z"
    },
    "papermill": {
     "duration": 0.043985,
     "end_time": "2022-03-07T00:31:46.277417",
     "exception": false,
     "start_time": "2022-03-07T00:31:46.233432",
     "status": "completed"
    },
    "tags": []
   },
   "outputs": [],
   "source": [
    "#hide\n",
    "g = t.reset_index(['Country/Region'])"
   ]
  },
  {
   "cell_type": "code",
   "execution_count": 23,
   "id": "distributed-pittsburgh",
   "metadata": {
    "execution": {
     "iopub.execute_input": "2022-03-07T00:31:46.341860Z",
     "iopub.status.busy": "2022-03-07T00:31:46.341290Z",
     "iopub.status.idle": "2022-03-07T00:31:46.343457Z",
     "shell.execute_reply": "2022-03-07T00:31:46.343046Z"
    },
    "papermill": {
     "duration": 0.035729,
     "end_time": "2022-03-07T00:31:46.343558",
     "exception": false,
     "start_time": "2022-03-07T00:31:46.307829",
     "status": "completed"
    },
    "tags": []
   },
   "outputs": [],
   "source": [
    "#hide\n",
    "g.index.name = 'date'"
   ]
  },
  {
   "cell_type": "code",
   "execution_count": 24,
   "id": "naked-donor",
   "metadata": {
    "execution": {
     "iopub.execute_input": "2022-03-07T00:31:46.406496Z",
     "iopub.status.busy": "2022-03-07T00:31:46.406003Z",
     "iopub.status.idle": "2022-03-07T00:31:46.409120Z",
     "shell.execute_reply": "2022-03-07T00:31:46.409601Z"
    },
    "papermill": {
     "duration": 0.035565,
     "end_time": "2022-03-07T00:31:46.409709",
     "exception": false,
     "start_time": "2022-03-07T00:31:46.374144",
     "status": "completed"
    },
    "tags": []
   },
   "outputs": [],
   "source": [
    "# #hide\n",
    "# g = g.reset_index(['date'])"
   ]
  },
  {
   "cell_type": "code",
   "execution_count": 25,
   "id": "incomplete-mustang",
   "metadata": {
    "execution": {
     "iopub.execute_input": "2022-03-07T00:31:46.473070Z",
     "iopub.status.busy": "2022-03-07T00:31:46.472568Z",
     "iopub.status.idle": "2022-03-07T00:31:46.476458Z",
     "shell.execute_reply": "2022-03-07T00:31:46.475998Z"
    },
    "papermill": {
     "duration": 0.036575,
     "end_time": "2022-03-07T00:31:46.476558",
     "exception": false,
     "start_time": "2022-03-07T00:31:46.439983",
     "status": "completed"
    },
    "tags": []
   },
   "outputs": [],
   "source": [
    "#hide\n",
    "# g.head()"
   ]
  },
  {
   "cell_type": "code",
   "execution_count": 26,
   "id": "specific-kruger",
   "metadata": {
    "execution": {
     "iopub.execute_input": "2022-03-07T00:31:46.540342Z",
     "iopub.status.busy": "2022-03-07T00:31:46.539746Z",
     "iopub.status.idle": "2022-03-07T00:31:46.541457Z",
     "shell.execute_reply": "2022-03-07T00:31:46.541894Z"
    },
    "papermill": {
     "duration": 0.034988,
     "end_time": "2022-03-07T00:31:46.542019",
     "exception": false,
     "start_time": "2022-03-07T00:31:46.507031",
     "status": "completed"
    },
    "tags": []
   },
   "outputs": [],
   "source": [
    "#hide\n",
    "# g.columns = ['date','country','cases']"
   ]
  },
  {
   "cell_type": "code",
   "execution_count": 27,
   "id": "tender-conversion",
   "metadata": {
    "execution": {
     "iopub.execute_input": "2022-03-07T00:31:46.606146Z",
     "iopub.status.busy": "2022-03-07T00:31:46.605577Z",
     "iopub.status.idle": "2022-03-07T00:31:46.607233Z",
     "shell.execute_reply": "2022-03-07T00:31:46.607658Z"
    },
    "papermill": {
     "duration": 0.034925,
     "end_time": "2022-03-07T00:31:46.607764",
     "exception": false,
     "start_time": "2022-03-07T00:31:46.572839",
     "status": "completed"
    },
    "tags": []
   },
   "outputs": [],
   "source": [
    "#hide\n",
    "# g['continent'] = g.country"
   ]
  },
  {
   "cell_type": "code",
   "execution_count": 28,
   "id": "substantial-wilderness",
   "metadata": {
    "execution": {
     "iopub.execute_input": "2022-03-07T00:31:46.671443Z",
     "iopub.status.busy": "2022-03-07T00:31:46.670871Z",
     "iopub.status.idle": "2022-03-07T00:31:46.672530Z",
     "shell.execute_reply": "2022-03-07T00:31:46.672963Z"
    },
    "papermill": {
     "duration": 0.034871,
     "end_time": "2022-03-07T00:31:46.673088",
     "exception": false,
     "start_time": "2022-03-07T00:31:46.638217",
     "status": "completed"
    },
    "tags": []
   },
   "outputs": [],
   "source": [
    "#hide\n",
    "# cols = list(g.columns.values)"
   ]
  },
  {
   "cell_type": "code",
   "execution_count": 29,
   "id": "solved-farming",
   "metadata": {
    "execution": {
     "iopub.execute_input": "2022-03-07T00:31:46.737407Z",
     "iopub.status.busy": "2022-03-07T00:31:46.736839Z",
     "iopub.status.idle": "2022-03-07T00:31:46.740680Z",
     "shell.execute_reply": "2022-03-07T00:31:46.740272Z"
    },
    "papermill": {
     "duration": 0.036744,
     "end_time": "2022-03-07T00:31:46.740777",
     "exception": false,
     "start_time": "2022-03-07T00:31:46.704033",
     "status": "completed"
    },
    "tags": []
   },
   "outputs": [],
   "source": [
    "#hide\n",
    "# cols.insert(0, cols.pop())"
   ]
  },
  {
   "cell_type": "code",
   "execution_count": 30,
   "id": "executed-adoption",
   "metadata": {
    "execution": {
     "iopub.execute_input": "2022-03-07T00:31:46.804590Z",
     "iopub.status.busy": "2022-03-07T00:31:46.803970Z",
     "iopub.status.idle": "2022-03-07T00:31:46.805629Z",
     "shell.execute_reply": "2022-03-07T00:31:46.806062Z"
    },
    "papermill": {
     "duration": 0.034991,
     "end_time": "2022-03-07T00:31:46.806185",
     "exception": false,
     "start_time": "2022-03-07T00:31:46.771194",
     "status": "completed"
    },
    "tags": []
   },
   "outputs": [],
   "source": [
    "#hide\n",
    "# g = g[cols]"
   ]
  },
  {
   "cell_type": "code",
   "execution_count": 31,
   "id": "subject-dublin",
   "metadata": {
    "execution": {
     "iopub.execute_input": "2022-03-07T00:31:46.870509Z",
     "iopub.status.busy": "2022-03-07T00:31:46.869899Z",
     "iopub.status.idle": "2022-03-07T00:31:46.872191Z",
     "shell.execute_reply": "2022-03-07T00:31:46.871769Z"
    },
    "papermill": {
     "duration": 0.035401,
     "end_time": "2022-03-07T00:31:46.872295",
     "exception": false,
     "start_time": "2022-03-07T00:31:46.836894",
     "status": "completed"
    },
    "tags": []
   },
   "outputs": [],
   "source": [
    "#hide\n",
    "# g['continent'] = g['continent'].map(mapping['map.continent'])"
   ]
  },
  {
   "cell_type": "code",
   "execution_count": 32,
   "id": "freelance-scout",
   "metadata": {
    "execution": {
     "iopub.execute_input": "2022-03-07T00:31:46.936039Z",
     "iopub.status.busy": "2022-03-07T00:31:46.935466Z",
     "iopub.status.idle": "2022-03-07T00:31:46.937600Z",
     "shell.execute_reply": "2022-03-07T00:31:46.937123Z"
    },
    "papermill": {
     "duration": 0.034955,
     "end_time": "2022-03-07T00:31:46.937707",
     "exception": false,
     "start_time": "2022-03-07T00:31:46.902752",
     "status": "completed"
    },
    "tags": []
   },
   "outputs": [],
   "source": [
    "#hide\n",
    "# g.head()"
   ]
  },
  {
   "cell_type": "code",
   "execution_count": 33,
   "id": "limited-engine",
   "metadata": {
    "execution": {
     "iopub.execute_input": "2022-03-07T00:31:47.001922Z",
     "iopub.status.busy": "2022-03-07T00:31:47.001348Z",
     "iopub.status.idle": "2022-03-07T00:31:47.004198Z",
     "shell.execute_reply": "2022-03-07T00:31:47.003775Z"
    },
    "papermill": {
     "duration": 0.035731,
     "end_time": "2022-03-07T00:31:47.004300",
     "exception": false,
     "start_time": "2022-03-07T00:31:46.968569",
     "status": "completed"
    },
    "tags": []
   },
   "outputs": [],
   "source": [
    "# hide\n",
    "# g['date'] = g['date'].astype('datetime64[ns]')"
   ]
  },
  {
   "cell_type": "code",
   "execution_count": 34,
   "id": "sophisticated-supervisor",
   "metadata": {
    "execution": {
     "iopub.execute_input": "2022-03-07T00:31:47.068086Z",
     "iopub.status.busy": "2022-03-07T00:31:47.067556Z",
     "iopub.status.idle": "2022-03-07T00:31:47.069896Z",
     "shell.execute_reply": "2022-03-07T00:31:47.069480Z"
    },
    "papermill": {
     "duration": 0.035242,
     "end_time": "2022-03-07T00:31:47.070000",
     "exception": false,
     "start_time": "2022-03-07T00:31:47.034758",
     "status": "completed"
    },
    "tags": []
   },
   "outputs": [],
   "source": [
    "#hide\n",
    "# g['date'] = g.date.dt.dayofyear"
   ]
  },
  {
   "cell_type": "code",
   "execution_count": 35,
   "id": "inside-dubai",
   "metadata": {
    "execution": {
     "iopub.execute_input": "2022-03-07T00:31:47.133881Z",
     "iopub.status.busy": "2022-03-07T00:31:47.133333Z",
     "iopub.status.idle": "2022-03-07T00:31:47.135160Z",
     "shell.execute_reply": "2022-03-07T00:31:47.135560Z"
    },
    "papermill": {
     "duration": 0.035239,
     "end_time": "2022-03-07T00:31:47.135668",
     "exception": false,
     "start_time": "2022-03-07T00:31:47.100429",
     "status": "completed"
    },
    "tags": []
   },
   "outputs": [],
   "source": [
    "#hide\n",
    "# g = g.rename(columns= {'continent':'group','country':'name','cases':'value'})"
   ]
  },
  {
   "cell_type": "code",
   "execution_count": 36,
   "id": "fleet-motorcycle",
   "metadata": {
    "execution": {
     "iopub.execute_input": "2022-03-07T00:31:47.199382Z",
     "iopub.status.busy": "2022-03-07T00:31:47.198815Z",
     "iopub.status.idle": "2022-03-07T00:31:47.200991Z",
     "shell.execute_reply": "2022-03-07T00:31:47.200475Z"
    },
    "papermill": {
     "duration": 0.034942,
     "end_time": "2022-03-07T00:31:47.201101",
     "exception": false,
     "start_time": "2022-03-07T00:31:47.166159",
     "status": "completed"
    },
    "tags": []
   },
   "outputs": [],
   "source": [
    "#hide\n",
    "# cols = ['name','group','day','value']"
   ]
  },
  {
   "cell_type": "code",
   "execution_count": 37,
   "id": "continued-sleeping",
   "metadata": {
    "execution": {
     "iopub.execute_input": "2022-03-07T00:31:47.265277Z",
     "iopub.status.busy": "2022-03-07T00:31:47.264782Z",
     "iopub.status.idle": "2022-03-07T00:31:47.266609Z",
     "shell.execute_reply": "2022-03-07T00:31:47.267034Z"
    },
    "papermill": {
     "duration": 0.035188,
     "end_time": "2022-03-07T00:31:47.267140",
     "exception": false,
     "start_time": "2022-03-07T00:31:47.231952",
     "status": "completed"
    },
    "tags": []
   },
   "outputs": [],
   "source": [
    "#hide\n",
    "# g.rename(columns= {'date':'day'},inplace = True)"
   ]
  },
  {
   "cell_type": "code",
   "execution_count": 38,
   "id": "major-fight",
   "metadata": {
    "execution": {
     "iopub.execute_input": "2022-03-07T00:31:47.331011Z",
     "iopub.status.busy": "2022-03-07T00:31:47.330437Z",
     "iopub.status.idle": "2022-03-07T00:31:47.332140Z",
     "shell.execute_reply": "2022-03-07T00:31:47.332606Z"
    },
    "papermill": {
     "duration": 0.035132,
     "end_time": "2022-03-07T00:31:47.332733",
     "exception": false,
     "start_time": "2022-03-07T00:31:47.297601",
     "status": "completed"
    },
    "tags": []
   },
   "outputs": [],
   "source": [
    "#hide\n",
    "# g = g[cols]"
   ]
  },
  {
   "cell_type": "code",
   "execution_count": 39,
   "id": "structured-mobile",
   "metadata": {
    "execution": {
     "iopub.execute_input": "2022-03-07T00:31:47.397295Z",
     "iopub.status.busy": "2022-03-07T00:31:47.396773Z",
     "iopub.status.idle": "2022-03-07T00:31:47.398331Z",
     "shell.execute_reply": "2022-03-07T00:31:47.398710Z"
    },
    "papermill": {
     "duration": 0.034861,
     "end_time": "2022-03-07T00:31:47.398820",
     "exception": false,
     "start_time": "2022-03-07T00:31:47.363959",
     "status": "completed"
    },
    "tags": []
   },
   "outputs": [],
   "source": [
    "# #hide\n",
    "# g = g[g.group.notna()]"
   ]
  },
  {
   "cell_type": "code",
   "execution_count": 40,
   "id": "determined-closing",
   "metadata": {
    "execution": {
     "iopub.execute_input": "2022-03-07T00:31:47.462733Z",
     "iopub.status.busy": "2022-03-07T00:31:47.462224Z",
     "iopub.status.idle": "2022-03-07T00:31:47.464040Z",
     "shell.execute_reply": "2022-03-07T00:31:47.464547Z"
    },
    "papermill": {
     "duration": 0.03528,
     "end_time": "2022-03-07T00:31:47.464656",
     "exception": false,
     "start_time": "2022-03-07T00:31:47.429376",
     "status": "completed"
    },
    "tags": []
   },
   "outputs": [],
   "source": [
    "# #hide\n",
    "# colors = dict(zip(\n",
    "#     [\"Oceania\", \"Europe\", \"Asia\", \"South America\", \"Middle East\", \"North America\", \"Africa\"],\n",
    "#     [\"#adb0ff\", \"#ffb3ff\", \"#90d595\", \"#e48381\", \"#aafbff\", \"#f7bb5f\", \"#eafb50\"]\n",
    "# ))\n",
    "# group_lk = g.set_index('name')['group'].to_dict()"
   ]
  },
  {
   "cell_type": "code",
   "execution_count": null,
   "id": "gross-drinking",
   "metadata": {
    "papermill": {
     "duration": 0.030277,
     "end_time": "2022-03-07T00:31:47.525245",
     "exception": false,
     "start_time": "2022-03-07T00:31:47.494968",
     "status": "completed"
    },
    "tags": []
   },
   "outputs": [],
   "source": []
  },
  {
   "cell_type": "code",
   "execution_count": 41,
   "id": "subject-macintosh",
   "metadata": {
    "execution": {
     "iopub.execute_input": "2022-03-07T00:31:47.589617Z",
     "iopub.status.busy": "2022-03-07T00:31:47.589108Z",
     "iopub.status.idle": "2022-03-07T00:31:47.592557Z",
     "shell.execute_reply": "2022-03-07T00:31:47.592120Z"
    },
    "papermill": {
     "duration": 0.036918,
     "end_time": "2022-03-07T00:31:47.592656",
     "exception": false,
     "start_time": "2022-03-07T00:31:47.555738",
     "status": "completed"
    },
    "tags": []
   },
   "outputs": [],
   "source": [
    "# #hide\n",
    "# fig, ax = plt.subplots(figsize=(15, 8))\n",
    "\n",
    "# def draw_barchart(current_day):\n",
    "#     dff = g[g['day'].eq(current_day)].sort_values(by='value', ascending=True).tail(10)\n",
    "#     ax.clear()\n",
    "#     ax.barh(dff['name'], dff['value'], color=[colors[group_lk[x]] for x in dff['name']])\n",
    "#     dx = dff['value'].max() / 200\n",
    "    \n",
    "#     for i, (value, name) in enumerate(zip(dff['value'], dff['name'])):\n",
    "#         ax.text(value-dx, i,     name,           size=14, weight=600, ha='right', va='bottom')\n",
    "#         ax.text(value-dx, i-.25, group_lk[name], size=10, color='#444444', ha='right', va='baseline')\n",
    "#         ax.text(value+dx, i,     f'{value:,.0f}',  size=14, ha='left',  va='center')\n",
    "#     ax.text(1, 0.4, current_day, transform=ax.transAxes, color='#777777', size=46, ha='right', weight=800)\n",
    "#     ax.text(0, 1.06, 'Population (thousands)', transform=ax.transAxes, size=12, color='#777777')\n",
    "#     ax.xaxis.set_major_formatter(ticker.StrMethodFormatter('{x:,.0f}'))\n",
    "#     ax.xaxis.set_ticks_position('top')\n",
    "#     ax.tick_params(axis='x', colors='#777777', labelsize=12)\n",
    "#     ax.set_yticks([])\n",
    "#     ax.margins(0, 0.01)\n",
    "#     ax.grid(which='major', axis='x', linestyle='-')\n",
    "#     ax.set_axisbelow(True)\n",
    "    \n",
    "#     ax.text(0, 1.15, 'Coronavirus',\n",
    "#             transform=ax.transAxes, size=24, weight=600, ha='left', va='top')\n",
    "# #     ax.text(1, 0, 'by @pratapvardhan; credit @jburnmurdoch', transform=ax.transAxes, color='#777777', ha='right',\n",
    "# #             bbox=dict(facecolor='white', alpha=0.8, edgecolor='white'))\n",
    "#     plt.box(False)"
   ]
  },
  {
   "cell_type": "code",
   "execution_count": 42,
   "id": "sexual-wages",
   "metadata": {
    "execution": {
     "iopub.execute_input": "2022-03-07T00:31:47.656542Z",
     "iopub.status.busy": "2022-03-07T00:31:47.655921Z",
     "iopub.status.idle": "2022-03-07T00:31:47.657770Z",
     "shell.execute_reply": "2022-03-07T00:31:47.658227Z"
    },
    "papermill": {
     "duration": 0.03528,
     "end_time": "2022-03-07T00:31:47.658346",
     "exception": false,
     "start_time": "2022-03-07T00:31:47.623066",
     "status": "completed"
    },
    "tags": []
   },
   "outputs": [],
   "source": [
    "# #hide_input\n",
    "# fig, ax = plt.subplots(figsize=(15, 8))\n",
    "# animator = animation.FuncAnimation(fig, draw_barchart, frames=range(g.day.values.min(), g.day.values.max()))\n",
    "# HTML(animator.to_jshtml())\n",
    "# # or use animator.to_html5_video() or animator.save() "
   ]
  },
  {
   "cell_type": "code",
   "execution_count": null,
   "id": "australian-container",
   "metadata": {
    "papermill": {
     "duration": 0.030318,
     "end_time": "2022-03-07T00:31:47.719337",
     "exception": false,
     "start_time": "2022-03-07T00:31:47.689019",
     "status": "completed"
    },
    "tags": []
   },
   "outputs": [],
   "source": []
  },
  {
   "cell_type": "code",
   "execution_count": null,
   "id": "mediterranean-pontiac",
   "metadata": {
    "papermill": {
     "duration": 0.030211,
     "end_time": "2022-03-07T00:31:47.779911",
     "exception": false,
     "start_time": "2022-03-07T00:31:47.749700",
     "status": "completed"
    },
    "tags": []
   },
   "outputs": [],
   "source": []
  },
  {
   "cell_type": "code",
   "execution_count": null,
   "id": "aging-legislature",
   "metadata": {
    "papermill": {
     "duration": 0.03046,
     "end_time": "2022-03-07T00:31:47.840868",
     "exception": false,
     "start_time": "2022-03-07T00:31:47.810408",
     "status": "completed"
    },
    "tags": []
   },
   "outputs": [],
   "source": []
  }
 ],
 "metadata": {
  "kernelspec": {
   "display_name": "Python 3",
   "language": "python",
   "name": "python3"
  },
  "language_info": {
   "codemirror_mode": {
    "name": "ipython",
    "version": 3
   },
   "file_extension": ".py",
   "mimetype": "text/x-python",
   "name": "python",
   "nbconvert_exporter": "python",
   "pygments_lexer": "ipython3",
   "version": "3.6.15"
  },
  "papermill": {
   "duration": 6.126381,
   "end_time": "2022-03-07T00:31:48.189206",
   "environment_variables": {},
   "exception": null,
   "input_path": "2020-03-21-covid19exp.ipynb",
   "output_path": "2020-03-21-covid19exp.ipynb",
   "parameters": {},
   "start_time": "2022-03-07T00:31:42.062825",
   "version": "2.0.0"
  }
 },
 "nbformat": 4,
 "nbformat_minor": 5
}