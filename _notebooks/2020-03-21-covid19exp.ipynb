{
 "cells": [
  {
   "cell_type": "markdown",
   "id": "muslim-click",
   "metadata": {
    "papermill": {
     "duration": 0.045651,
     "end_time": "2021-08-13T12:11:01.507101",
     "exception": false,
     "start_time": "2021-08-13T12:11:01.461450",
     "status": "completed"
    },
    "tags": []
   },
   "source": [
    "# COVID-19 Case Race\n",
    "> A race chart to see rising cases around the world\n",
    "\n",
    "- author: Hargun Oberoi\n",
    "- image: images/covid-overview.png\n",
    "- hide: false\n",
    "- badges: false"
   ]
  },
  {
   "cell_type": "code",
   "execution_count": 1,
   "id": "proof-material",
   "metadata": {
    "execution": {
     "iopub.execute_input": "2021-08-13T12:11:01.610788Z",
     "iopub.status.busy": "2021-08-13T12:11:01.608422Z",
     "iopub.status.idle": "2021-08-13T12:11:02.037138Z",
     "shell.execute_reply": "2021-08-13T12:11:02.036118Z"
    },
    "papermill": {
     "duration": 0.488835,
     "end_time": "2021-08-13T12:11:02.037328",
     "exception": false,
     "start_time": "2021-08-13T12:11:01.548493",
     "status": "completed"
    },
    "tags": []
   },
   "outputs": [],
   "source": [
    "#hide\n",
    "import numpy as np\n",
    "import pandas as pd\n",
    "from jinja2 import Template\n",
    "from IPython.display import HTML"
   ]
  },
  {
   "cell_type": "code",
   "execution_count": 2,
   "id": "developed-terminology",
   "metadata": {
    "execution": {
     "iopub.execute_input": "2021-08-13T12:11:02.129082Z",
     "iopub.status.busy": "2021-08-13T12:11:02.128394Z",
     "iopub.status.idle": "2021-08-13T12:11:02.132984Z",
     "shell.execute_reply": "2021-08-13T12:11:02.133555Z"
    },
    "papermill": {
     "duration": 0.053474,
     "end_time": "2021-08-13T12:11:02.133713",
     "exception": false,
     "start_time": "2021-08-13T12:11:02.080239",
     "status": "completed"
    },
    "tags": []
   },
   "outputs": [],
   "source": [
    "#hide\n",
    "\n",
    "# FETCH\n",
    "base_url = 'https://raw.githubusercontent.com/pratapvardhan/notebooks/master/covid19/'\n",
    "paths = {\n",
    "    'mapping': base_url + 'mapping_countries.csv',\n",
    "    'overview': base_url + 'overview.tpl'\n",
    "}"
   ]
  },
  {
   "cell_type": "code",
   "execution_count": 3,
   "id": "dynamic-saver",
   "metadata": {
    "execution": {
     "iopub.execute_input": "2021-08-13T12:11:02.231701Z",
     "iopub.status.busy": "2021-08-13T12:11:02.230956Z",
     "iopub.status.idle": "2021-08-13T12:11:02.235780Z",
     "shell.execute_reply": "2021-08-13T12:11:02.235188Z"
    },
    "papermill": {
     "duration": 0.060504,
     "end_time": "2021-08-13T12:11:02.235930",
     "exception": false,
     "start_time": "2021-08-13T12:11:02.175426",
     "status": "completed"
    },
    "tags": []
   },
   "outputs": [
    {
     "data": {
      "text/plain": [
       "'https://raw.githubusercontent.com/pratapvardhan/notebooks/master/covid19/mapping_countries.csv'"
      ]
     },
     "execution_count": 3,
     "metadata": {},
     "output_type": "execute_result"
    }
   ],
   "source": [
    "#hide\n",
    "paths['mapping']"
   ]
  },
  {
   "cell_type": "code",
   "execution_count": 4,
   "id": "urban-software",
   "metadata": {
    "execution": {
     "iopub.execute_input": "2021-08-13T12:11:02.332890Z",
     "iopub.status.busy": "2021-08-13T12:11:02.332212Z",
     "iopub.status.idle": "2021-08-13T12:11:02.334245Z",
     "shell.execute_reply": "2021-08-13T12:11:02.334858Z"
    },
    "papermill": {
     "duration": 0.050114,
     "end_time": "2021-08-13T12:11:02.335020",
     "exception": false,
     "start_time": "2021-08-13T12:11:02.284906",
     "status": "completed"
    },
    "tags": []
   },
   "outputs": [],
   "source": [
    "#hide\n",
    "def get_mappings(url):\n",
    "    df = pd.read_csv(url)\n",
    "    return {\n",
    "        'df': df,\n",
    "        'replace.country': dict(df.dropna(subset=['Name']).set_index('Country')['Name']),\n",
    "        'map.continent': dict(df.set_index('Name')['Continent'])\n",
    "    }"
   ]
  },
  {
   "cell_type": "code",
   "execution_count": 5,
   "id": "intimate-machinery",
   "metadata": {
    "execution": {
     "iopub.execute_input": "2021-08-13T12:11:02.434687Z",
     "iopub.status.busy": "2021-08-13T12:11:02.434014Z",
     "iopub.status.idle": "2021-08-13T12:11:02.478119Z",
     "shell.execute_reply": "2021-08-13T12:11:02.477532Z"
    },
    "papermill": {
     "duration": 0.098469,
     "end_time": "2021-08-13T12:11:02.478275",
     "exception": false,
     "start_time": "2021-08-13T12:11:02.379806",
     "status": "completed"
    },
    "tags": []
   },
   "outputs": [],
   "source": [
    "#hide\n",
    "mapping = get_mappings(paths['mapping'])"
   ]
  },
  {
   "cell_type": "code",
   "execution_count": 6,
   "id": "certified-tactics",
   "metadata": {
    "execution": {
     "iopub.execute_input": "2021-08-13T12:11:02.582348Z",
     "iopub.status.busy": "2021-08-13T12:11:02.581641Z",
     "iopub.status.idle": "2021-08-13T12:11:02.583571Z",
     "shell.execute_reply": "2021-08-13T12:11:02.584141Z"
    },
    "papermill": {
     "duration": 0.059467,
     "end_time": "2021-08-13T12:11:02.584310",
     "exception": false,
     "start_time": "2021-08-13T12:11:02.524843",
     "status": "completed"
    },
    "tags": []
   },
   "outputs": [],
   "source": [
    "#hide\n",
    "def get_template(path):\n",
    "    from urllib.parse import urlparse\n",
    "    if bool(urlparse(path).netloc):\n",
    "        from urllib.request import urlopen\n",
    "        return urlopen(path).read().decode('utf8')\n",
    "    return open(path).read()"
   ]
  },
  {
   "cell_type": "code",
   "execution_count": 7,
   "id": "realistic-blast",
   "metadata": {
    "execution": {
     "iopub.execute_input": "2021-08-13T12:11:02.676969Z",
     "iopub.status.busy": "2021-08-13T12:11:02.676301Z",
     "iopub.status.idle": "2021-08-13T12:11:02.679297Z",
     "shell.execute_reply": "2021-08-13T12:11:02.678585Z"
    },
    "papermill": {
     "duration": 0.054563,
     "end_time": "2021-08-13T12:11:02.679444",
     "exception": false,
     "start_time": "2021-08-13T12:11:02.624881",
     "status": "completed"
    },
    "tags": []
   },
   "outputs": [],
   "source": [
    "#hide\n",
    "def get_frame(name):\n",
    "    url = (\n",
    "        'https://raw.githubusercontent.com/CSSEGISandData/COVID-19/master/csse_covid_19_data/'\n",
    "        f'csse_covid_19_time_series/time_series_covid19_{name}_global.csv')\n",
    "    df = pd.read_csv(url)\n",
    "    # rename countries\n",
    "    df['Country/Region'] = df['Country/Region'].replace(mapping['replace.country'])\n",
    "    return df"
   ]
  },
  {
   "cell_type": "code",
   "execution_count": 8,
   "id": "affiliated-characterization",
   "metadata": {
    "execution": {
     "iopub.execute_input": "2021-08-13T12:11:02.787153Z",
     "iopub.status.busy": "2021-08-13T12:11:02.786424Z",
     "iopub.status.idle": "2021-08-13T12:11:02.788301Z",
     "shell.execute_reply": "2021-08-13T12:11:02.788943Z"
    },
    "papermill": {
     "duration": 0.052023,
     "end_time": "2021-08-13T12:11:02.789114",
     "exception": false,
     "start_time": "2021-08-13T12:11:02.737091",
     "status": "completed"
    },
    "tags": []
   },
   "outputs": [],
   "source": [
    "#hide\n",
    "def get_dates(df):\n",
    "    dt_cols = df.columns[~df.columns.isin(['Province/State', 'Country/Region', 'Lat', 'Long'])]\n",
    "    LAST_DATE_I = -1\n",
    "    # sometimes last column may be empty, then go backwards\n",
    "    for i in range(-1, -len(dt_cols), -1):\n",
    "        if not df[dt_cols[i]].fillna(0).eq(0).all():\n",
    "            LAST_DATE_I = i\n",
    "            break\n",
    "    return LAST_DATE_I, dt_cols"
   ]
  },
  {
   "cell_type": "code",
   "execution_count": 9,
   "id": "recent-optimization",
   "metadata": {
    "execution": {
     "iopub.execute_input": "2021-08-13T12:11:02.880719Z",
     "iopub.status.busy": "2021-08-13T12:11:02.879893Z",
     "iopub.status.idle": "2021-08-13T12:11:03.306883Z",
     "shell.execute_reply": "2021-08-13T12:11:03.305787Z"
    },
    "papermill": {
     "duration": 0.478265,
     "end_time": "2021-08-13T12:11:03.307032",
     "exception": false,
     "start_time": "2021-08-13T12:11:02.828767",
     "status": "completed"
    },
    "tags": []
   },
   "outputs": [],
   "source": [
    "#hide\n",
    "COL_REGION = 'Country/Region'\n",
    "# Confirmed, Recovered, Deaths\n",
    "df = get_frame('confirmed')\n",
    "# dft_: timeseries, dfc_: today country agg\n",
    "dft_cases = df\n",
    "dft_deaths = get_frame('deaths')\n",
    "dft_recovered = get_frame('recovered')\n",
    "LAST_DATE_I, dt_cols = get_dates(df)"
   ]
  },
  {
   "cell_type": "code",
   "execution_count": 10,
   "id": "absolute-copper",
   "metadata": {
    "execution": {
     "iopub.execute_input": "2021-08-13T12:11:03.392197Z",
     "iopub.status.busy": "2021-08-13T12:11:03.390712Z",
     "iopub.status.idle": "2021-08-13T12:11:03.392922Z",
     "shell.execute_reply": "2021-08-13T12:11:03.393456Z"
    },
    "papermill": {
     "duration": 0.047435,
     "end_time": "2021-08-13T12:11:03.393629",
     "exception": false,
     "start_time": "2021-08-13T12:11:03.346194",
     "status": "completed"
    },
    "tags": []
   },
   "outputs": [],
   "source": [
    "#hide\n",
    "LAST_DATE_I, dt_cols = get_dates(df)\n",
    "dt_today =dt_cols[LAST_DATE_I]\n",
    "# dt_5day = dt_cols[LAST_DATE_I - 5]\n",
    "dt_yday = dt_cols[LAST_DATE_I - 1]"
   ]
  },
  {
   "cell_type": "code",
   "execution_count": 11,
   "id": "restricted-sheriff",
   "metadata": {
    "execution": {
     "iopub.execute_input": "2021-08-13T12:11:03.479825Z",
     "iopub.status.busy": "2021-08-13T12:11:03.479118Z",
     "iopub.status.idle": "2021-08-13T12:11:03.489332Z",
     "shell.execute_reply": "2021-08-13T12:11:03.488773Z"
    },
    "papermill": {
     "duration": 0.055699,
     "end_time": "2021-08-13T12:11:03.489484",
     "exception": false,
     "start_time": "2021-08-13T12:11:03.433785",
     "status": "completed"
    },
    "tags": []
   },
   "outputs": [],
   "source": [
    "#hide\n",
    "dfc_cases = dft_cases.groupby(COL_REGION)[dt_today].sum()\n",
    "dfc_deaths = dft_deaths.groupby(COL_REGION)[dt_today].sum()\n",
    "# dfp_cases = dft_cases.groupby(COL_REGION)[dt_5day].sum()\n",
    "# dfp_deaths = dft_deaths.groupby(COL_REGION)[dt_5day].sum()\n",
    "dfp_cases = dft_cases.groupby(COL_REGION)[dt_yday].sum()\n",
    "dfp_deaths = dft_deaths.groupby(COL_REGION)[dt_yday].sum()"
   ]
  },
  {
   "cell_type": "code",
   "execution_count": 12,
   "id": "deluxe-hepatitis",
   "metadata": {
    "execution": {
     "iopub.execute_input": "2021-08-13T12:11:03.582346Z",
     "iopub.status.busy": "2021-08-13T12:11:03.581578Z",
     "iopub.status.idle": "2021-08-13T12:11:03.583547Z",
     "shell.execute_reply": "2021-08-13T12:11:03.582958Z"
    },
    "papermill": {
     "duration": 0.05421,
     "end_time": "2021-08-13T12:11:03.583689",
     "exception": false,
     "start_time": "2021-08-13T12:11:03.529479",
     "status": "completed"
    },
    "tags": []
   },
   "outputs": [],
   "source": [
    "#hide\n",
    "df_table = (pd.DataFrame(dict(Cases = dfc_cases, Deaths = dfc_deaths, PCases = dfp_cases, PDeaths = dfp_deaths))\n",
    "            .sort_values(by = ['Cases','Deaths'], ascending = [False, False])\n",
    "            .reset_index())"
   ]
  },
  {
   "cell_type": "code",
   "execution_count": 13,
   "id": "educational-chancellor",
   "metadata": {
    "execution": {
     "iopub.execute_input": "2021-08-13T12:11:03.688105Z",
     "iopub.status.busy": "2021-08-13T12:11:03.687392Z",
     "iopub.status.idle": "2021-08-13T12:11:03.697229Z",
     "shell.execute_reply": "2021-08-13T12:11:03.696498Z"
    },
    "papermill": {
     "duration": 0.071529,
     "end_time": "2021-08-13T12:11:03.697389",
     "exception": false,
     "start_time": "2021-08-13T12:11:03.625860",
     "status": "completed"
    },
    "tags": []
   },
   "outputs": [
    {
     "data": {
      "text/html": [
       "<div>\n",
       "<style scoped>\n",
       "    .dataframe tbody tr th:only-of-type {\n",
       "        vertical-align: middle;\n",
       "    }\n",
       "\n",
       "    .dataframe tbody tr th {\n",
       "        vertical-align: top;\n",
       "    }\n",
       "\n",
       "    .dataframe thead th {\n",
       "        text-align: right;\n",
       "    }\n",
       "</style>\n",
       "<table border=\"1\" class=\"dataframe\">\n",
       "  <thead>\n",
       "    <tr style=\"text-align: right;\">\n",
       "      <th></th>\n",
       "      <th>Country/Region</th>\n",
       "      <th>Cases</th>\n",
       "      <th>Deaths</th>\n",
       "      <th>PCases</th>\n",
       "      <th>PDeaths</th>\n",
       "      <th>Cases (+)</th>\n",
       "      <th>Deaths (+)</th>\n",
       "      <th>Fatality Rate</th>\n",
       "      <th>Continent</th>\n",
       "    </tr>\n",
       "  </thead>\n",
       "  <tbody>\n",
       "    <tr>\n",
       "      <th>0</th>\n",
       "      <td>US</td>\n",
       "      <td>36306724</td>\n",
       "      <td>619093</td>\n",
       "      <td>36190179</td>\n",
       "      <td>618479</td>\n",
       "      <td>116545</td>\n",
       "      <td>614</td>\n",
       "      <td>1.71</td>\n",
       "      <td>North America</td>\n",
       "    </tr>\n",
       "    <tr>\n",
       "      <th>1</th>\n",
       "      <td>India</td>\n",
       "      <td>32117826</td>\n",
       "      <td>430254</td>\n",
       "      <td>32077706</td>\n",
       "      <td>429669</td>\n",
       "      <td>40120</td>\n",
       "      <td>585</td>\n",
       "      <td>1.34</td>\n",
       "      <td>Asia</td>\n",
       "    </tr>\n",
       "    <tr>\n",
       "      <th>2</th>\n",
       "      <td>Brazil</td>\n",
       "      <td>20285067</td>\n",
       "      <td>566896</td>\n",
       "      <td>20245085</td>\n",
       "      <td>565748</td>\n",
       "      <td>39982</td>\n",
       "      <td>1148</td>\n",
       "      <td>2.79</td>\n",
       "      <td>South America</td>\n",
       "    </tr>\n",
       "    <tr>\n",
       "      <th>3</th>\n",
       "      <td>France</td>\n",
       "      <td>6469753</td>\n",
       "      <td>112700</td>\n",
       "      <td>6440082</td>\n",
       "      <td>112620</td>\n",
       "      <td>29671</td>\n",
       "      <td>80</td>\n",
       "      <td>1.74</td>\n",
       "      <td>Europe</td>\n",
       "    </tr>\n",
       "    <tr>\n",
       "      <th>4</th>\n",
       "      <td>Russia</td>\n",
       "      <td>6447229</td>\n",
       "      <td>165201</td>\n",
       "      <td>6425918</td>\n",
       "      <td>164413</td>\n",
       "      <td>21311</td>\n",
       "      <td>788</td>\n",
       "      <td>2.56</td>\n",
       "      <td>Europe</td>\n",
       "    </tr>\n",
       "  </tbody>\n",
       "</table>\n",
       "</div>"
      ],
      "text/plain": [
       "  Country/Region     Cases  Deaths    PCases  PDeaths  Cases (+)  Deaths (+)  \\\n",
       "0             US  36306724  619093  36190179   618479     116545         614   \n",
       "1          India  32117826  430254  32077706   429669      40120         585   \n",
       "2         Brazil  20285067  566896  20245085   565748      39982        1148   \n",
       "3         France   6469753  112700   6440082   112620      29671          80   \n",
       "4         Russia   6447229  165201   6425918   164413      21311         788   \n",
       "\n",
       "   Fatality Rate      Continent  \n",
       "0           1.71  North America  \n",
       "1           1.34           Asia  \n",
       "2           2.79  South America  \n",
       "3           1.74         Europe  \n",
       "4           2.56         Europe  "
      ]
     },
     "execution_count": 13,
     "metadata": {},
     "output_type": "execute_result"
    }
   ],
   "source": [
    "#hide\n",
    "for c in 'Cases, Deaths'.split(', '):\n",
    "    df_table[f'{c} (+)'] = (df_table[c] - df_table[f'P{c}']).clip(0)\n",
    "    #Clip ça veut dire, les chiffres negatif sont interdit\n",
    "df_table['Fatality Rate'] = (100* df_table['Deaths']/ df_table['Cases']).round(2)\n",
    "df_table['Continent'] = df_table['Country/Region'].map(mapping['map.continent'])\n",
    "df_table.head(5)"
   ]
  },
  {
   "cell_type": "code",
   "execution_count": 14,
   "id": "aboriginal-bulgaria",
   "metadata": {
    "execution": {
     "iopub.execute_input": "2021-08-13T12:11:03.783835Z",
     "iopub.status.busy": "2021-08-13T12:11:03.783162Z",
     "iopub.status.idle": "2021-08-13T12:11:03.784941Z",
     "shell.execute_reply": "2021-08-13T12:11:03.785565Z"
    },
    "papermill": {
     "duration": 0.04872,
     "end_time": "2021-08-13T12:11:03.785726",
     "exception": false,
     "start_time": "2021-08-13T12:11:03.737006",
     "status": "completed"
    },
    "tags": []
   },
   "outputs": [],
   "source": [
    "#hide\n",
    "#delete problematic countries from table\n",
    "df_table = df_table[~df_table['Country/Region'].isin(['Cape Verde', 'Cruise Ship', 'Kosovo'])]"
   ]
  },
  {
   "cell_type": "code",
   "execution_count": 15,
   "id": "fantastic-effect",
   "metadata": {
    "execution": {
     "iopub.execute_input": "2021-08-13T12:11:03.876262Z",
     "iopub.status.busy": "2021-08-13T12:11:03.875577Z",
     "iopub.status.idle": "2021-08-13T12:11:03.905171Z",
     "shell.execute_reply": "2021-08-13T12:11:03.905947Z"
    },
    "papermill": {
     "duration": 0.079975,
     "end_time": "2021-08-13T12:11:03.906127",
     "exception": false,
     "start_time": "2021-08-13T12:11:03.826152",
     "status": "completed"
    },
    "tags": []
   },
   "outputs": [
    {
     "data": {
      "text/html": [
       "<div>\n",
       "<style scoped>\n",
       "    .dataframe tbody tr th:only-of-type {\n",
       "        vertical-align: middle;\n",
       "    }\n",
       "\n",
       "    .dataframe tbody tr th {\n",
       "        vertical-align: top;\n",
       "    }\n",
       "\n",
       "    .dataframe thead th {\n",
       "        text-align: right;\n",
       "    }\n",
       "</style>\n",
       "<table border=\"1\" class=\"dataframe\">\n",
       "  <thead>\n",
       "    <tr style=\"text-align: right;\">\n",
       "      <th></th>\n",
       "      <th>Country/Region</th>\n",
       "      <th>Cases</th>\n",
       "      <th>Deaths</th>\n",
       "      <th>PCases</th>\n",
       "      <th>PDeaths</th>\n",
       "      <th>Cases (+)</th>\n",
       "      <th>Deaths (+)</th>\n",
       "      <th>Fatality Rate</th>\n",
       "      <th>Continent</th>\n",
       "    </tr>\n",
       "  </thead>\n",
       "  <tbody>\n",
       "    <tr>\n",
       "      <th>0</th>\n",
       "      <td>US</td>\n",
       "      <td>36306724</td>\n",
       "      <td>619093</td>\n",
       "      <td>36190179</td>\n",
       "      <td>618479</td>\n",
       "      <td>116545</td>\n",
       "      <td>614</td>\n",
       "      <td>1.7</td>\n",
       "      <td>North America</td>\n",
       "    </tr>\n",
       "    <tr>\n",
       "      <th>1</th>\n",
       "      <td>India</td>\n",
       "      <td>32117826</td>\n",
       "      <td>430254</td>\n",
       "      <td>32077706</td>\n",
       "      <td>429669</td>\n",
       "      <td>40120</td>\n",
       "      <td>585</td>\n",
       "      <td>1.3</td>\n",
       "      <td>Asia</td>\n",
       "    </tr>\n",
       "    <tr>\n",
       "      <th>2</th>\n",
       "      <td>Brazil</td>\n",
       "      <td>20285067</td>\n",
       "      <td>566896</td>\n",
       "      <td>20245085</td>\n",
       "      <td>565748</td>\n",
       "      <td>39982</td>\n",
       "      <td>1148</td>\n",
       "      <td>2.8</td>\n",
       "      <td>South America</td>\n",
       "    </tr>\n",
       "    <tr>\n",
       "      <th>3</th>\n",
       "      <td>France</td>\n",
       "      <td>6469753</td>\n",
       "      <td>112700</td>\n",
       "      <td>6440082</td>\n",
       "      <td>112620</td>\n",
       "      <td>29671</td>\n",
       "      <td>80</td>\n",
       "      <td>1.7</td>\n",
       "      <td>Europe</td>\n",
       "    </tr>\n",
       "    <tr>\n",
       "      <th>4</th>\n",
       "      <td>Russia</td>\n",
       "      <td>6447229</td>\n",
       "      <td>165201</td>\n",
       "      <td>6425918</td>\n",
       "      <td>164413</td>\n",
       "      <td>21311</td>\n",
       "      <td>788</td>\n",
       "      <td>2.6</td>\n",
       "      <td>Europe</td>\n",
       "    </tr>\n",
       "  </tbody>\n",
       "</table>\n",
       "</div>"
      ],
      "text/plain": [
       "  Country/Region     Cases  Deaths    PCases  PDeaths  Cases (+)  Deaths (+)  \\\n",
       "0             US  36306724  619093  36190179   618479     116545         614   \n",
       "1          India  32117826  430254  32077706   429669      40120         585   \n",
       "2         Brazil  20285067  566896  20245085   565748      39982        1148   \n",
       "3         France   6469753  112700   6440082   112620      29671          80   \n",
       "4         Russia   6447229  165201   6425918   164413      21311         788   \n",
       "\n",
       "   Fatality Rate      Continent  \n",
       "0            1.7  North America  \n",
       "1            1.3           Asia  \n",
       "2            2.8  South America  \n",
       "3            1.7         Europe  \n",
       "4            2.6         Europe  "
      ]
     },
     "execution_count": 15,
     "metadata": {},
     "output_type": "execute_result"
    }
   ],
   "source": [
    "#hide\n",
    "df_table = (pd.DataFrame(dict(Cases=dfc_cases, Deaths=dfc_deaths, PCases=dfp_cases, PDeaths=dfp_deaths))\n",
    "             .sort_values(by=['Cases', 'Deaths'], ascending=[False, False])\n",
    "             .reset_index())\n",
    "df_table.rename(columns={'index': 'Country/Region'}, inplace=True)\n",
    "for c in 'Cases, Deaths'.split(', '):\n",
    "    df_table[f'{c} (+)'] = (df_table[c] - df_table[f'P{c}']).clip(0)  # DATA BUG\n",
    "df_table['Fatality Rate'] = (100 * df_table['Deaths'] / df_table['Cases']).round(1)\n",
    "df_table['Continent'] = df_table['Country/Region'].map(mapping['map.continent'])\n",
    "df_table.head(5)"
   ]
  },
  {
   "cell_type": "code",
   "execution_count": 16,
   "id": "fewer-occasion",
   "metadata": {
    "execution": {
     "iopub.execute_input": "2021-08-13T12:11:04.012196Z",
     "iopub.status.busy": "2021-08-13T12:11:04.011536Z",
     "iopub.status.idle": "2021-08-13T12:11:04.014591Z",
     "shell.execute_reply": "2021-08-13T12:11:04.015245Z"
    },
    "papermill": {
     "duration": 0.057461,
     "end_time": "2021-08-13T12:11:04.015406",
     "exception": false,
     "start_time": "2021-08-13T12:11:03.957945",
     "status": "completed"
    },
    "tags": []
   },
   "outputs": [],
   "source": [
    "#hide\n",
    "#delete problematic countries from table\n",
    "df_table = df_table[~df_table['Country/Region'].isin(['Cape Verde', 'Cruise Ship', 'Kosovo'])]"
   ]
  },
  {
   "cell_type": "code",
   "execution_count": 17,
   "id": "related-center",
   "metadata": {
    "execution": {
     "iopub.execute_input": "2021-08-13T12:11:04.120065Z",
     "iopub.status.busy": "2021-08-13T12:11:04.119335Z",
     "iopub.status.idle": "2021-08-13T12:11:04.122949Z",
     "shell.execute_reply": "2021-08-13T12:11:04.123619Z"
    },
    "papermill": {
     "duration": 0.068081,
     "end_time": "2021-08-13T12:11:04.123792",
     "exception": false,
     "start_time": "2021-08-13T12:11:04.055711",
     "status": "completed"
    },
    "tags": []
   },
   "outputs": [],
   "source": [
    "#hide\n",
    "metrics = [df_table.columns[index] for index in [1,2,5,6]]\n",
    "# s_china = df_table[df_table['Country/Region'].eq('China')][metrics].sum().add_prefix('China ')\n",
    "s_us = df_table[df_table['Country/Region'].eq('US')][metrics].sum().add_prefix('US ')\n",
    "s_eu = df_table[df_table['Continent'].eq('Europe')][metrics].sum().add_prefix('EU ')\n",
    "s_ind = df_table[df_table['Country/Region'].eq('India')][metrics].sum().add_prefix('India ')\n",
    "summary = {'updated': pd.to_datetime(dt_today), 'since': pd.to_datetime(dt_yday)}\n",
    "summary = {'updated': pd.to_datetime(dt_today), 'since': pd.to_datetime(dt_yday)}\n",
    "summary = {**summary, **df_table[metrics].sum(), **s_ind, **s_us, **s_eu}"
   ]
  },
  {
   "cell_type": "code",
   "execution_count": 18,
   "id": "engaging-syndrome",
   "metadata": {
    "execution": {
     "iopub.execute_input": "2021-08-13T12:11:04.227329Z",
     "iopub.status.busy": "2021-08-13T12:11:04.226484Z",
     "iopub.status.idle": "2021-08-13T12:11:04.242571Z",
     "shell.execute_reply": "2021-08-13T12:11:04.241945Z"
    },
    "papermill": {
     "duration": 0.06815,
     "end_time": "2021-08-13T12:11:04.242720",
     "exception": false,
     "start_time": "2021-08-13T12:11:04.174570",
     "status": "completed"
    },
    "tags": []
   },
   "outputs": [],
   "source": [
    "#hide\n",
    "dft_ct_new_cases = dft_cases.groupby(COL_REGION)[dt_cols].sum().diff(axis=1).fillna(0).astype(int)"
   ]
  },
  {
   "cell_type": "code",
   "execution_count": 19,
   "id": "neutral-assignment",
   "metadata": {
    "execution": {
     "iopub.execute_input": "2021-08-13T12:11:04.334350Z",
     "iopub.status.busy": "2021-08-13T12:11:04.333667Z",
     "iopub.status.idle": "2021-08-13T12:11:04.335676Z",
     "shell.execute_reply": "2021-08-13T12:11:04.336221Z"
    },
    "papermill": {
     "duration": 0.051007,
     "end_time": "2021-08-13T12:11:04.336391",
     "exception": false,
     "start_time": "2021-08-13T12:11:04.285384",
     "status": "completed"
    },
    "tags": []
   },
   "outputs": [],
   "source": [
    "#hide\n",
    "everydaycases = dft_ct_new_cases.cumsum(axis=1)"
   ]
  },
  {
   "cell_type": "code",
   "execution_count": 20,
   "id": "parliamentary-calgary",
   "metadata": {
    "execution": {
     "iopub.execute_input": "2021-08-13T12:11:04.425685Z",
     "iopub.status.busy": "2021-08-13T12:11:04.424995Z",
     "iopub.status.idle": "2021-08-13T12:11:05.140989Z",
     "shell.execute_reply": "2021-08-13T12:11:05.140389Z"
    },
    "papermill": {
     "duration": 0.764092,
     "end_time": "2021-08-13T12:11:05.141148",
     "exception": false,
     "start_time": "2021-08-13T12:11:04.377056",
     "status": "completed"
    },
    "tags": []
   },
   "outputs": [],
   "source": [
    "#hide\n",
    "import pandas as pd\n",
    "import matplotlib.pyplot as plt\n",
    "import matplotlib.ticker as ticker\n",
    "import matplotlib.animation as animation\n",
    "from IPython.display import HTML"
   ]
  },
  {
   "cell_type": "code",
   "execution_count": 21,
   "id": "lasting-extraction",
   "metadata": {
    "execution": {
     "iopub.execute_input": "2021-08-13T12:11:05.242572Z",
     "iopub.status.busy": "2021-08-13T12:11:05.241900Z",
     "iopub.status.idle": "2021-08-13T12:11:05.254172Z",
     "shell.execute_reply": "2021-08-13T12:11:05.254748Z"
    },
    "papermill": {
     "duration": 0.060427,
     "end_time": "2021-08-13T12:11:05.254932",
     "exception": false,
     "start_time": "2021-08-13T12:11:05.194505",
     "status": "completed"
    },
    "tags": []
   },
   "outputs": [],
   "source": [
    "#hide\n",
    "t = everydaycases.stack()"
   ]
  },
  {
   "cell_type": "code",
   "execution_count": 22,
   "id": "premier-sleeve",
   "metadata": {
    "execution": {
     "iopub.execute_input": "2021-08-13T12:11:05.344739Z",
     "iopub.status.busy": "2021-08-13T12:11:05.344052Z",
     "iopub.status.idle": "2021-08-13T12:11:05.355735Z",
     "shell.execute_reply": "2021-08-13T12:11:05.356301Z"
    },
    "papermill": {
     "duration": 0.059454,
     "end_time": "2021-08-13T12:11:05.356493",
     "exception": false,
     "start_time": "2021-08-13T12:11:05.297039",
     "status": "completed"
    },
    "tags": []
   },
   "outputs": [],
   "source": [
    "#hide\n",
    "g = t.reset_index(['Country/Region'])"
   ]
  },
  {
   "cell_type": "code",
   "execution_count": 23,
   "id": "distributed-pittsburgh",
   "metadata": {
    "execution": {
     "iopub.execute_input": "2021-08-13T12:11:05.445669Z",
     "iopub.status.busy": "2021-08-13T12:11:05.444163Z",
     "iopub.status.idle": "2021-08-13T12:11:05.446414Z",
     "shell.execute_reply": "2021-08-13T12:11:05.446958Z"
    },
    "papermill": {
     "duration": 0.049177,
     "end_time": "2021-08-13T12:11:05.447162",
     "exception": false,
     "start_time": "2021-08-13T12:11:05.397985",
     "status": "completed"
    },
    "tags": []
   },
   "outputs": [],
   "source": [
    "#hide\n",
    "g.index.name = 'date'"
   ]
  },
  {
   "cell_type": "code",
   "execution_count": 24,
   "id": "naked-donor",
   "metadata": {
    "execution": {
     "iopub.execute_input": "2021-08-13T12:11:05.550827Z",
     "iopub.status.busy": "2021-08-13T12:11:05.547737Z",
     "iopub.status.idle": "2021-08-13T12:11:05.552311Z",
     "shell.execute_reply": "2021-08-13T12:11:05.553140Z"
    },
    "papermill": {
     "duration": 0.065005,
     "end_time": "2021-08-13T12:11:05.553495",
     "exception": false,
     "start_time": "2021-08-13T12:11:05.488490",
     "status": "completed"
    },
    "tags": []
   },
   "outputs": [],
   "source": [
    "# #hide\n",
    "# g = g.reset_index(['date'])"
   ]
  },
  {
   "cell_type": "code",
   "execution_count": 25,
   "id": "incomplete-mustang",
   "metadata": {
    "execution": {
     "iopub.execute_input": "2021-08-13T12:11:05.648809Z",
     "iopub.status.busy": "2021-08-13T12:11:05.648137Z",
     "iopub.status.idle": "2021-08-13T12:11:05.650728Z",
     "shell.execute_reply": "2021-08-13T12:11:05.650161Z"
    },
    "papermill": {
     "duration": 0.049425,
     "end_time": "2021-08-13T12:11:05.650867",
     "exception": false,
     "start_time": "2021-08-13T12:11:05.601442",
     "status": "completed"
    },
    "tags": []
   },
   "outputs": [],
   "source": [
    "#hide\n",
    "# g.head()"
   ]
  },
  {
   "cell_type": "code",
   "execution_count": 26,
   "id": "specific-kruger",
   "metadata": {
    "execution": {
     "iopub.execute_input": "2021-08-13T12:11:05.747360Z",
     "iopub.status.busy": "2021-08-13T12:11:05.745815Z",
     "iopub.status.idle": "2021-08-13T12:11:05.748088Z",
     "shell.execute_reply": "2021-08-13T12:11:05.748731Z"
    },
    "papermill": {
     "duration": 0.05201,
     "end_time": "2021-08-13T12:11:05.748997",
     "exception": false,
     "start_time": "2021-08-13T12:11:05.696987",
     "status": "completed"
    },
    "tags": []
   },
   "outputs": [],
   "source": [
    "#hide\n",
    "# g.columns = ['date','country','cases']"
   ]
  },
  {
   "cell_type": "code",
   "execution_count": 27,
   "id": "tender-conversion",
   "metadata": {
    "execution": {
     "iopub.execute_input": "2021-08-13T12:11:05.845304Z",
     "iopub.status.busy": "2021-08-13T12:11:05.844632Z",
     "iopub.status.idle": "2021-08-13T12:11:05.846994Z",
     "shell.execute_reply": "2021-08-13T12:11:05.847574Z"
    },
    "papermill": {
     "duration": 0.053657,
     "end_time": "2021-08-13T12:11:05.847737",
     "exception": false,
     "start_time": "2021-08-13T12:11:05.794080",
     "status": "completed"
    },
    "tags": []
   },
   "outputs": [],
   "source": [
    "#hide\n",
    "# g['continent'] = g.country"
   ]
  },
  {
   "cell_type": "code",
   "execution_count": 28,
   "id": "substantial-wilderness",
   "metadata": {
    "execution": {
     "iopub.execute_input": "2021-08-13T12:11:05.946847Z",
     "iopub.status.busy": "2021-08-13T12:11:05.946058Z",
     "iopub.status.idle": "2021-08-13T12:11:05.948488Z",
     "shell.execute_reply": "2021-08-13T12:11:05.947668Z"
    },
    "papermill": {
     "duration": 0.056326,
     "end_time": "2021-08-13T12:11:05.948645",
     "exception": false,
     "start_time": "2021-08-13T12:11:05.892319",
     "status": "completed"
    },
    "tags": []
   },
   "outputs": [],
   "source": [
    "#hide\n",
    "# cols = list(g.columns.values)"
   ]
  },
  {
   "cell_type": "code",
   "execution_count": 29,
   "id": "solved-farming",
   "metadata": {
    "execution": {
     "iopub.execute_input": "2021-08-13T12:11:06.047775Z",
     "iopub.status.busy": "2021-08-13T12:11:06.047113Z",
     "iopub.status.idle": "2021-08-13T12:11:06.049597Z",
     "shell.execute_reply": "2021-08-13T12:11:06.050114Z"
    },
    "papermill": {
     "duration": 0.052386,
     "end_time": "2021-08-13T12:11:06.050277",
     "exception": false,
     "start_time": "2021-08-13T12:11:05.997891",
     "status": "completed"
    },
    "tags": []
   },
   "outputs": [],
   "source": [
    "#hide\n",
    "# cols.insert(0, cols.pop())"
   ]
  },
  {
   "cell_type": "code",
   "execution_count": 30,
   "id": "executed-adoption",
   "metadata": {
    "execution": {
     "iopub.execute_input": "2021-08-13T12:11:06.143652Z",
     "iopub.status.busy": "2021-08-13T12:11:06.141809Z",
     "iopub.status.idle": "2021-08-13T12:11:06.144379Z",
     "shell.execute_reply": "2021-08-13T12:11:06.144926Z"
    },
    "papermill": {
     "duration": 0.051707,
     "end_time": "2021-08-13T12:11:06.145093",
     "exception": false,
     "start_time": "2021-08-13T12:11:06.093386",
     "status": "completed"
    },
    "tags": []
   },
   "outputs": [],
   "source": [
    "#hide\n",
    "# g = g[cols]"
   ]
  },
  {
   "cell_type": "code",
   "execution_count": 31,
   "id": "subject-dublin",
   "metadata": {
    "execution": {
     "iopub.execute_input": "2021-08-13T12:11:06.234591Z",
     "iopub.status.busy": "2021-08-13T12:11:06.233849Z",
     "iopub.status.idle": "2021-08-13T12:11:06.235572Z",
     "shell.execute_reply": "2021-08-13T12:11:06.236215Z"
    },
    "papermill": {
     "duration": 0.049378,
     "end_time": "2021-08-13T12:11:06.236391",
     "exception": false,
     "start_time": "2021-08-13T12:11:06.187013",
     "status": "completed"
    },
    "tags": []
   },
   "outputs": [],
   "source": [
    "#hide\n",
    "# g['continent'] = g['continent'].map(mapping['map.continent'])"
   ]
  },
  {
   "cell_type": "code",
   "execution_count": 32,
   "id": "freelance-scout",
   "metadata": {
    "execution": {
     "iopub.execute_input": "2021-08-13T12:11:06.326291Z",
     "iopub.status.busy": "2021-08-13T12:11:06.325613Z",
     "iopub.status.idle": "2021-08-13T12:11:06.328389Z",
     "shell.execute_reply": "2021-08-13T12:11:06.328910Z"
    },
    "papermill": {
     "duration": 0.050045,
     "end_time": "2021-08-13T12:11:06.329084",
     "exception": false,
     "start_time": "2021-08-13T12:11:06.279039",
     "status": "completed"
    },
    "tags": []
   },
   "outputs": [],
   "source": [
    "#hide\n",
    "# g.head()"
   ]
  },
  {
   "cell_type": "code",
   "execution_count": 33,
   "id": "limited-engine",
   "metadata": {
    "execution": {
     "iopub.execute_input": "2021-08-13T12:11:06.422490Z",
     "iopub.status.busy": "2021-08-13T12:11:06.421811Z",
     "iopub.status.idle": "2021-08-13T12:11:06.425379Z",
     "shell.execute_reply": "2021-08-13T12:11:06.425966Z"
    },
    "papermill": {
     "duration": 0.054708,
     "end_time": "2021-08-13T12:11:06.426138",
     "exception": false,
     "start_time": "2021-08-13T12:11:06.371430",
     "status": "completed"
    },
    "tags": []
   },
   "outputs": [],
   "source": [
    "# hide\n",
    "# g['date'] = g['date'].astype('datetime64[ns]')"
   ]
  },
  {
   "cell_type": "code",
   "execution_count": 34,
   "id": "sophisticated-supervisor",
   "metadata": {
    "execution": {
     "iopub.execute_input": "2021-08-13T12:11:06.514313Z",
     "iopub.status.busy": "2021-08-13T12:11:06.513628Z",
     "iopub.status.idle": "2021-08-13T12:11:06.516288Z",
     "shell.execute_reply": "2021-08-13T12:11:06.515615Z"
    },
    "papermill": {
     "duration": 0.048045,
     "end_time": "2021-08-13T12:11:06.516438",
     "exception": false,
     "start_time": "2021-08-13T12:11:06.468393",
     "status": "completed"
    },
    "tags": []
   },
   "outputs": [],
   "source": [
    "#hide\n",
    "# g['date'] = g.date.dt.dayofyear"
   ]
  },
  {
   "cell_type": "code",
   "execution_count": 35,
   "id": "inside-dubai",
   "metadata": {
    "execution": {
     "iopub.execute_input": "2021-08-13T12:11:06.607543Z",
     "iopub.status.busy": "2021-08-13T12:11:06.606401Z",
     "iopub.status.idle": "2021-08-13T12:11:06.609491Z",
     "shell.execute_reply": "2021-08-13T12:11:06.608796Z"
    },
    "papermill": {
     "duration": 0.049584,
     "end_time": "2021-08-13T12:11:06.609632",
     "exception": false,
     "start_time": "2021-08-13T12:11:06.560048",
     "status": "completed"
    },
    "tags": []
   },
   "outputs": [],
   "source": [
    "#hide\n",
    "# g = g.rename(columns= {'continent':'group','country':'name','cases':'value'})"
   ]
  },
  {
   "cell_type": "code",
   "execution_count": 36,
   "id": "fleet-motorcycle",
   "metadata": {
    "execution": {
     "iopub.execute_input": "2021-08-13T12:11:06.702399Z",
     "iopub.status.busy": "2021-08-13T12:11:06.701720Z",
     "iopub.status.idle": "2021-08-13T12:11:06.703753Z",
     "shell.execute_reply": "2021-08-13T12:11:06.704265Z"
    },
    "papermill": {
     "duration": 0.050629,
     "end_time": "2021-08-13T12:11:06.704434",
     "exception": false,
     "start_time": "2021-08-13T12:11:06.653805",
     "status": "completed"
    },
    "tags": []
   },
   "outputs": [],
   "source": [
    "#hide\n",
    "# cols = ['name','group','day','value']"
   ]
  },
  {
   "cell_type": "code",
   "execution_count": 37,
   "id": "continued-sleeping",
   "metadata": {
    "execution": {
     "iopub.execute_input": "2021-08-13T12:11:06.794021Z",
     "iopub.status.busy": "2021-08-13T12:11:06.793356Z",
     "iopub.status.idle": "2021-08-13T12:11:06.795395Z",
     "shell.execute_reply": "2021-08-13T12:11:06.795948Z"
    },
    "papermill": {
     "duration": 0.048984,
     "end_time": "2021-08-13T12:11:06.796103",
     "exception": false,
     "start_time": "2021-08-13T12:11:06.747119",
     "status": "completed"
    },
    "tags": []
   },
   "outputs": [],
   "source": [
    "#hide\n",
    "# g.rename(columns= {'date':'day'},inplace = True)"
   ]
  },
  {
   "cell_type": "code",
   "execution_count": 38,
   "id": "major-fight",
   "metadata": {
    "execution": {
     "iopub.execute_input": "2021-08-13T12:11:06.883884Z",
     "iopub.status.busy": "2021-08-13T12:11:06.883205Z",
     "iopub.status.idle": "2021-08-13T12:11:06.885075Z",
     "shell.execute_reply": "2021-08-13T12:11:06.885650Z"
    },
    "papermill": {
     "duration": 0.048329,
     "end_time": "2021-08-13T12:11:06.885812",
     "exception": false,
     "start_time": "2021-08-13T12:11:06.837483",
     "status": "completed"
    },
    "tags": []
   },
   "outputs": [],
   "source": [
    "#hide\n",
    "# g = g[cols]"
   ]
  },
  {
   "cell_type": "code",
   "execution_count": 39,
   "id": "structured-mobile",
   "metadata": {
    "execution": {
     "iopub.execute_input": "2021-08-13T12:11:06.971516Z",
     "iopub.status.busy": "2021-08-13T12:11:06.970807Z",
     "iopub.status.idle": "2021-08-13T12:11:06.973350Z",
     "shell.execute_reply": "2021-08-13T12:11:06.972664Z"
    },
    "papermill": {
     "duration": 0.047095,
     "end_time": "2021-08-13T12:11:06.973505",
     "exception": false,
     "start_time": "2021-08-13T12:11:06.926410",
     "status": "completed"
    },
    "tags": []
   },
   "outputs": [],
   "source": [
    "# #hide\n",
    "# g = g[g.group.notna()]"
   ]
  },
  {
   "cell_type": "code",
   "execution_count": 40,
   "id": "determined-closing",
   "metadata": {
    "execution": {
     "iopub.execute_input": "2021-08-13T12:11:07.061267Z",
     "iopub.status.busy": "2021-08-13T12:11:07.060542Z",
     "iopub.status.idle": "2021-08-13T12:11:07.062452Z",
     "shell.execute_reply": "2021-08-13T12:11:07.063160Z"
    },
    "papermill": {
     "duration": 0.048021,
     "end_time": "2021-08-13T12:11:07.063320",
     "exception": false,
     "start_time": "2021-08-13T12:11:07.015299",
     "status": "completed"
    },
    "tags": []
   },
   "outputs": [],
   "source": [
    "# #hide\n",
    "# colors = dict(zip(\n",
    "#     [\"Oceania\", \"Europe\", \"Asia\", \"South America\", \"Middle East\", \"North America\", \"Africa\"],\n",
    "#     [\"#adb0ff\", \"#ffb3ff\", \"#90d595\", \"#e48381\", \"#aafbff\", \"#f7bb5f\", \"#eafb50\"]\n",
    "# ))\n",
    "# group_lk = g.set_index('name')['group'].to_dict()"
   ]
  },
  {
   "cell_type": "code",
   "execution_count": null,
   "id": "gross-drinking",
   "metadata": {
    "papermill": {
     "duration": 0.044757,
     "end_time": "2021-08-13T12:11:07.149624",
     "exception": false,
     "start_time": "2021-08-13T12:11:07.104867",
     "status": "completed"
    },
    "tags": []
   },
   "outputs": [],
   "source": []
  },
  {
   "cell_type": "code",
   "execution_count": 41,
   "id": "subject-macintosh",
   "metadata": {
    "execution": {
     "iopub.execute_input": "2021-08-13T12:11:07.236915Z",
     "iopub.status.busy": "2021-08-13T12:11:07.236216Z",
     "iopub.status.idle": "2021-08-13T12:11:07.239172Z",
     "shell.execute_reply": "2021-08-13T12:11:07.238566Z"
    },
    "papermill": {
     "duration": 0.048892,
     "end_time": "2021-08-13T12:11:07.239323",
     "exception": false,
     "start_time": "2021-08-13T12:11:07.190431",
     "status": "completed"
    },
    "tags": []
   },
   "outputs": [],
   "source": [
    "# #hide\n",
    "# fig, ax = plt.subplots(figsize=(15, 8))\n",
    "\n",
    "# def draw_barchart(current_day):\n",
    "#     dff = g[g['day'].eq(current_day)].sort_values(by='value', ascending=True).tail(10)\n",
    "#     ax.clear()\n",
    "#     ax.barh(dff['name'], dff['value'], color=[colors[group_lk[x]] for x in dff['name']])\n",
    "#     dx = dff['value'].max() / 200\n",
    "    \n",
    "#     for i, (value, name) in enumerate(zip(dff['value'], dff['name'])):\n",
    "#         ax.text(value-dx, i,     name,           size=14, weight=600, ha='right', va='bottom')\n",
    "#         ax.text(value-dx, i-.25, group_lk[name], size=10, color='#444444', ha='right', va='baseline')\n",
    "#         ax.text(value+dx, i,     f'{value:,.0f}',  size=14, ha='left',  va='center')\n",
    "#     ax.text(1, 0.4, current_day, transform=ax.transAxes, color='#777777', size=46, ha='right', weight=800)\n",
    "#     ax.text(0, 1.06, 'Population (thousands)', transform=ax.transAxes, size=12, color='#777777')\n",
    "#     ax.xaxis.set_major_formatter(ticker.StrMethodFormatter('{x:,.0f}'))\n",
    "#     ax.xaxis.set_ticks_position('top')\n",
    "#     ax.tick_params(axis='x', colors='#777777', labelsize=12)\n",
    "#     ax.set_yticks([])\n",
    "#     ax.margins(0, 0.01)\n",
    "#     ax.grid(which='major', axis='x', linestyle='-')\n",
    "#     ax.set_axisbelow(True)\n",
    "    \n",
    "#     ax.text(0, 1.15, 'Coronavirus',\n",
    "#             transform=ax.transAxes, size=24, weight=600, ha='left', va='top')\n",
    "# #     ax.text(1, 0, 'by @pratapvardhan; credit @jburnmurdoch', transform=ax.transAxes, color='#777777', ha='right',\n",
    "# #             bbox=dict(facecolor='white', alpha=0.8, edgecolor='white'))\n",
    "#     plt.box(False)"
   ]
  },
  {
   "cell_type": "code",
   "execution_count": 42,
   "id": "sexual-wages",
   "metadata": {
    "execution": {
     "iopub.execute_input": "2021-08-13T12:11:07.326166Z",
     "iopub.status.busy": "2021-08-13T12:11:07.325503Z",
     "iopub.status.idle": "2021-08-13T12:11:07.328321Z",
     "shell.execute_reply": "2021-08-13T12:11:07.327694Z"
    },
    "papermill": {
     "duration": 0.048074,
     "end_time": "2021-08-13T12:11:07.328459",
     "exception": false,
     "start_time": "2021-08-13T12:11:07.280385",
     "status": "completed"
    },
    "tags": []
   },
   "outputs": [],
   "source": [
    "# #hide_input\n",
    "# fig, ax = plt.subplots(figsize=(15, 8))\n",
    "# animator = animation.FuncAnimation(fig, draw_barchart, frames=range(g.day.values.min(), g.day.values.max()))\n",
    "# HTML(animator.to_jshtml())\n",
    "# # or use animator.to_html5_video() or animator.save() "
   ]
  },
  {
   "cell_type": "code",
   "execution_count": null,
   "id": "australian-container",
   "metadata": {
    "papermill": {
     "duration": 0.040533,
     "end_time": "2021-08-13T12:11:07.410631",
     "exception": false,
     "start_time": "2021-08-13T12:11:07.370098",
     "status": "completed"
    },
    "tags": []
   },
   "outputs": [],
   "source": []
  },
  {
   "cell_type": "code",
   "execution_count": null,
   "id": "mediterranean-pontiac",
   "metadata": {
    "papermill": {
     "duration": 0.041853,
     "end_time": "2021-08-13T12:11:07.494564",
     "exception": false,
     "start_time": "2021-08-13T12:11:07.452711",
     "status": "completed"
    },
    "tags": []
   },
   "outputs": [],
   "source": []
  },
  {
   "cell_type": "code",
   "execution_count": null,
   "id": "aging-legislature",
   "metadata": {
    "papermill": {
     "duration": 0.042728,
     "end_time": "2021-08-13T12:11:07.578173",
     "exception": false,
     "start_time": "2021-08-13T12:11:07.535445",
     "status": "completed"
    },
    "tags": []
   },
   "outputs": [],
   "source": []
  }
 ],
 "metadata": {
  "kernelspec": {
   "display_name": "Python 3",
   "language": "python",
   "name": "python3"
  },
  "language_info": {
   "codemirror_mode": {
    "name": "ipython",
    "version": 3
   },
   "file_extension": ".py",
   "mimetype": "text/x-python",
   "name": "python",
   "nbconvert_exporter": "python",
   "pygments_lexer": "ipython3",
   "version": "3.6.14"
  },
  "papermill": {
   "duration": 7.810603,
   "end_time": "2021-08-13T12:11:08.028423",
   "environment_variables": {},
   "exception": null,
   "input_path": "2020-03-21-covid19exp.ipynb",
   "output_path": "2020-03-21-covid19exp.ipynb",
   "parameters": {},
   "start_time": "2021-08-13T12:11:00.217820",
   "version": "2.0.0"
  }
 },
 "nbformat": 4,
 "nbformat_minor": 5
}