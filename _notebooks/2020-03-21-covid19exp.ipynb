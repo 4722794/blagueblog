{
 "cells": [
  {
   "cell_type": "markdown",
   "id": "muslim-click",
   "metadata": {
    "papermill": {
     "duration": 0.034449,
     "end_time": "2022-10-15T12:18:48.437841",
     "exception": false,
     "start_time": "2022-10-15T12:18:48.403392",
     "status": "completed"
    },
    "tags": []
   },
   "source": [
    "# COVID-19 Case Race\n",
    "> A race chart to see rising cases around the world\n",
    "\n",
    "- author: Hargun Oberoi\n",
    "- image: images/covid-overview.png\n",
    "- hide: false\n",
    "- badges: false"
   ]
  },
  {
   "cell_type": "code",
   "execution_count": 1,
   "id": "proof-material",
   "metadata": {
    "execution": {
     "iopub.execute_input": "2022-10-15T12:18:48.507035Z",
     "iopub.status.busy": "2022-10-15T12:18:48.506444Z",
     "iopub.status.idle": "2022-10-15T12:18:48.826322Z",
     "shell.execute_reply": "2022-10-15T12:18:48.825440Z"
    },
    "papermill": {
     "duration": 0.358949,
     "end_time": "2022-10-15T12:18:48.826466",
     "exception": false,
     "start_time": "2022-10-15T12:18:48.467517",
     "status": "completed"
    },
    "tags": []
   },
   "outputs": [],
   "source": [
    "#hide\n",
    "import numpy as np\n",
    "import pandas as pd\n",
    "from jinja2 import Template\n",
    "from IPython.display import HTML"
   ]
  },
  {
   "cell_type": "code",
   "execution_count": 2,
   "id": "developed-terminology",
   "metadata": {
    "execution": {
     "iopub.execute_input": "2022-10-15T12:18:48.889437Z",
     "iopub.status.busy": "2022-10-15T12:18:48.888642Z",
     "iopub.status.idle": "2022-10-15T12:18:48.890995Z",
     "shell.execute_reply": "2022-10-15T12:18:48.890346Z"
    },
    "papermill": {
     "duration": 0.035494,
     "end_time": "2022-10-15T12:18:48.891111",
     "exception": false,
     "start_time": "2022-10-15T12:18:48.855617",
     "status": "completed"
    },
    "tags": []
   },
   "outputs": [],
   "source": [
    "#hide\n",
    "\n",
    "# FETCH\n",
    "base_url = 'https://raw.githubusercontent.com/pratapvardhan/notebooks/master/covid19/'\n",
    "paths = {\n",
    "    'mapping': base_url + 'mapping_countries.csv',\n",
    "    'overview': base_url + 'overview.tpl'\n",
    "}"
   ]
  },
  {
   "cell_type": "code",
   "execution_count": 3,
   "id": "dynamic-saver",
   "metadata": {
    "execution": {
     "iopub.execute_input": "2022-10-15T12:18:48.958772Z",
     "iopub.status.busy": "2022-10-15T12:18:48.958198Z",
     "iopub.status.idle": "2022-10-15T12:18:48.960990Z",
     "shell.execute_reply": "2022-10-15T12:18:48.961491Z"
    },
    "papermill": {
     "duration": 0.041316,
     "end_time": "2022-10-15T12:18:48.961607",
     "exception": false,
     "start_time": "2022-10-15T12:18:48.920291",
     "status": "completed"
    },
    "tags": []
   },
   "outputs": [
    {
     "data": {
      "text/plain": [
       "'https://raw.githubusercontent.com/pratapvardhan/notebooks/master/covid19/mapping_countries.csv'"
      ]
     },
     "execution_count": 3,
     "metadata": {},
     "output_type": "execute_result"
    }
   ],
   "source": [
    "#hide\n",
    "paths['mapping']"
   ]
  },
  {
   "cell_type": "code",
   "execution_count": 4,
   "id": "urban-software",
   "metadata": {
    "execution": {
     "iopub.execute_input": "2022-10-15T12:18:49.025022Z",
     "iopub.status.busy": "2022-10-15T12:18:49.024360Z",
     "iopub.status.idle": "2022-10-15T12:18:49.026790Z",
     "shell.execute_reply": "2022-10-15T12:18:49.026330Z"
    },
    "papermill": {
     "duration": 0.036044,
     "end_time": "2022-10-15T12:18:49.026890",
     "exception": false,
     "start_time": "2022-10-15T12:18:48.990846",
     "status": "completed"
    },
    "tags": []
   },
   "outputs": [],
   "source": [
    "#hide\n",
    "def get_mappings(url):\n",
    "    df = pd.read_csv(url)\n",
    "    return {\n",
    "        'df': df,\n",
    "        'replace.country': dict(df.dropna(subset=['Name']).set_index('Country')['Name']),\n",
    "        'map.continent': dict(df.set_index('Name')['Continent'])\n",
    "    }"
   ]
  },
  {
   "cell_type": "code",
   "execution_count": 5,
   "id": "intimate-machinery",
   "metadata": {
    "execution": {
     "iopub.execute_input": "2022-10-15T12:18:49.090142Z",
     "iopub.status.busy": "2022-10-15T12:18:49.089571Z",
     "iopub.status.idle": "2022-10-15T12:18:49.127432Z",
     "shell.execute_reply": "2022-10-15T12:18:49.126815Z"
    },
    "papermill": {
     "duration": 0.071572,
     "end_time": "2022-10-15T12:18:49.127533",
     "exception": false,
     "start_time": "2022-10-15T12:18:49.055961",
     "status": "completed"
    },
    "tags": []
   },
   "outputs": [],
   "source": [
    "#hide\n",
    "mapping = get_mappings(paths['mapping'])"
   ]
  },
  {
   "cell_type": "code",
   "execution_count": 6,
   "id": "certified-tactics",
   "metadata": {
    "execution": {
     "iopub.execute_input": "2022-10-15T12:18:49.191434Z",
     "iopub.status.busy": "2022-10-15T12:18:49.190853Z",
     "iopub.status.idle": "2022-10-15T12:18:49.193018Z",
     "shell.execute_reply": "2022-10-15T12:18:49.193618Z"
    },
    "papermill": {
     "duration": 0.036793,
     "end_time": "2022-10-15T12:18:49.193737",
     "exception": false,
     "start_time": "2022-10-15T12:18:49.156944",
     "status": "completed"
    },
    "tags": []
   },
   "outputs": [],
   "source": [
    "#hide\n",
    "def get_template(path):\n",
    "    from urllib.parse import urlparse\n",
    "    if bool(urlparse(path).netloc):\n",
    "        from urllib.request import urlopen\n",
    "        return urlopen(path).read().decode('utf8')\n",
    "    return open(path).read()"
   ]
  },
  {
   "cell_type": "code",
   "execution_count": 7,
   "id": "realistic-blast",
   "metadata": {
    "execution": {
     "iopub.execute_input": "2022-10-15T12:18:49.257035Z",
     "iopub.status.busy": "2022-10-15T12:18:49.256465Z",
     "iopub.status.idle": "2022-10-15T12:18:49.259014Z",
     "shell.execute_reply": "2022-10-15T12:18:49.258555Z"
    },
    "papermill": {
     "duration": 0.036259,
     "end_time": "2022-10-15T12:18:49.259112",
     "exception": false,
     "start_time": "2022-10-15T12:18:49.222853",
     "status": "completed"
    },
    "tags": []
   },
   "outputs": [],
   "source": [
    "#hide\n",
    "def get_frame(name):\n",
    "    url = (\n",
    "        'https://raw.githubusercontent.com/CSSEGISandData/COVID-19/master/csse_covid_19_data/'\n",
    "        f'csse_covid_19_time_series/time_series_covid19_{name}_global.csv')\n",
    "    df = pd.read_csv(url)\n",
    "    # rename countries\n",
    "    df['Country/Region'] = df['Country/Region'].replace(mapping['replace.country'])\n",
    "    return df"
   ]
  },
  {
   "cell_type": "code",
   "execution_count": 8,
   "id": "affiliated-characterization",
   "metadata": {
    "execution": {
     "iopub.execute_input": "2022-10-15T12:18:49.322896Z",
     "iopub.status.busy": "2022-10-15T12:18:49.322323Z",
     "iopub.status.idle": "2022-10-15T12:18:49.325212Z",
     "shell.execute_reply": "2022-10-15T12:18:49.324711Z"
    },
    "papermill": {
     "duration": 0.036892,
     "end_time": "2022-10-15T12:18:49.325314",
     "exception": false,
     "start_time": "2022-10-15T12:18:49.288422",
     "status": "completed"
    },
    "tags": []
   },
   "outputs": [],
   "source": [
    "#hide\n",
    "def get_dates(df):\n",
    "    dt_cols = df.columns[~df.columns.isin(['Province/State', 'Country/Region', 'Lat', 'Long'])]\n",
    "    LAST_DATE_I = -1\n",
    "    # sometimes last column may be empty, then go backwards\n",
    "    for i in range(-1, -len(dt_cols), -1):\n",
    "        if not df[dt_cols[i]].fillna(0).eq(0).all():\n",
    "            LAST_DATE_I = i\n",
    "            break\n",
    "    return LAST_DATE_I, dt_cols"
   ]
  },
  {
   "cell_type": "code",
   "execution_count": 9,
   "id": "recent-optimization",
   "metadata": {
    "execution": {
     "iopub.execute_input": "2022-10-15T12:18:49.387756Z",
     "iopub.status.busy": "2022-10-15T12:18:49.386975Z",
     "iopub.status.idle": "2022-10-15T12:18:49.860526Z",
     "shell.execute_reply": "2022-10-15T12:18:49.859962Z"
    },
    "papermill": {
     "duration": 0.506362,
     "end_time": "2022-10-15T12:18:49.860663",
     "exception": false,
     "start_time": "2022-10-15T12:18:49.354301",
     "status": "completed"
    },
    "tags": []
   },
   "outputs": [],
   "source": [
    "#hide\n",
    "COL_REGION = 'Country/Region'\n",
    "# Confirmed, Recovered, Deaths\n",
    "df = get_frame('confirmed')\n",
    "# dft_: timeseries, dfc_: today country agg\n",
    "dft_cases = df\n",
    "dft_deaths = get_frame('deaths')\n",
    "dft_recovered = get_frame('recovered')\n",
    "LAST_DATE_I, dt_cols = get_dates(df)"
   ]
  },
  {
   "cell_type": "code",
   "execution_count": 10,
   "id": "absolute-copper",
   "metadata": {
    "execution": {
     "iopub.execute_input": "2022-10-15T12:18:49.925985Z",
     "iopub.status.busy": "2022-10-15T12:18:49.925397Z",
     "iopub.status.idle": "2022-10-15T12:18:49.928355Z",
     "shell.execute_reply": "2022-10-15T12:18:49.927889Z"
    },
    "papermill": {
     "duration": 0.037313,
     "end_time": "2022-10-15T12:18:49.928459",
     "exception": false,
     "start_time": "2022-10-15T12:18:49.891146",
     "status": "completed"
    },
    "tags": []
   },
   "outputs": [],
   "source": [
    "#hide\n",
    "LAST_DATE_I, dt_cols = get_dates(df)\n",
    "dt_today =dt_cols[LAST_DATE_I]\n",
    "# dt_5day = dt_cols[LAST_DATE_I - 5]\n",
    "dt_yday = dt_cols[LAST_DATE_I - 1]"
   ]
  },
  {
   "cell_type": "code",
   "execution_count": 11,
   "id": "restricted-sheriff",
   "metadata": {
    "execution": {
     "iopub.execute_input": "2022-10-15T12:18:49.994357Z",
     "iopub.status.busy": "2022-10-15T12:18:49.993797Z",
     "iopub.status.idle": "2022-10-15T12:18:50.001342Z",
     "shell.execute_reply": "2022-10-15T12:18:50.001889Z"
    },
    "papermill": {
     "duration": 0.044518,
     "end_time": "2022-10-15T12:18:50.002003",
     "exception": false,
     "start_time": "2022-10-15T12:18:49.957485",
     "status": "completed"
    },
    "tags": []
   },
   "outputs": [],
   "source": [
    "#hide\n",
    "dfc_cases = dft_cases.groupby(COL_REGION)[dt_today].sum()\n",
    "dfc_deaths = dft_deaths.groupby(COL_REGION)[dt_today].sum()\n",
    "# dfp_cases = dft_cases.groupby(COL_REGION)[dt_5day].sum()\n",
    "# dfp_deaths = dft_deaths.groupby(COL_REGION)[dt_5day].sum()\n",
    "dfp_cases = dft_cases.groupby(COL_REGION)[dt_yday].sum()\n",
    "dfp_deaths = dft_deaths.groupby(COL_REGION)[dt_yday].sum()"
   ]
  },
  {
   "cell_type": "code",
   "execution_count": 12,
   "id": "deluxe-hepatitis",
   "metadata": {
    "execution": {
     "iopub.execute_input": "2022-10-15T12:18:50.065517Z",
     "iopub.status.busy": "2022-10-15T12:18:50.064833Z",
     "iopub.status.idle": "2022-10-15T12:18:50.071040Z",
     "shell.execute_reply": "2022-10-15T12:18:50.070537Z"
    },
    "papermill": {
     "duration": 0.040074,
     "end_time": "2022-10-15T12:18:50.071155",
     "exception": false,
     "start_time": "2022-10-15T12:18:50.031081",
     "status": "completed"
    },
    "tags": []
   },
   "outputs": [],
   "source": [
    "#hide\n",
    "df_table = (pd.DataFrame(dict(Cases = dfc_cases, Deaths = dfc_deaths, PCases = dfp_cases, PDeaths = dfp_deaths))\n",
    "            .sort_values(by = ['Cases','Deaths'], ascending = [False, False])\n",
    "            .reset_index())"
   ]
  },
  {
   "cell_type": "code",
   "execution_count": 13,
   "id": "educational-chancellor",
   "metadata": {
    "execution": {
     "iopub.execute_input": "2022-10-15T12:18:50.145879Z",
     "iopub.status.busy": "2022-10-15T12:18:50.145291Z",
     "iopub.status.idle": "2022-10-15T12:18:50.152809Z",
     "shell.execute_reply": "2022-10-15T12:18:50.153304Z"
    },
    "papermill": {
     "duration": 0.053232,
     "end_time": "2022-10-15T12:18:50.153420",
     "exception": false,
     "start_time": "2022-10-15T12:18:50.100188",
     "status": "completed"
    },
    "tags": []
   },
   "outputs": [
    {
     "data": {
      "text/html": [
       "<div>\n",
       "<style scoped>\n",
       "    .dataframe tbody tr th:only-of-type {\n",
       "        vertical-align: middle;\n",
       "    }\n",
       "\n",
       "    .dataframe tbody tr th {\n",
       "        vertical-align: top;\n",
       "    }\n",
       "\n",
       "    .dataframe thead th {\n",
       "        text-align: right;\n",
       "    }\n",
       "</style>\n",
       "<table border=\"1\" class=\"dataframe\">\n",
       "  <thead>\n",
       "    <tr style=\"text-align: right;\">\n",
       "      <th></th>\n",
       "      <th>Country/Region</th>\n",
       "      <th>Cases</th>\n",
       "      <th>Deaths</th>\n",
       "      <th>PCases</th>\n",
       "      <th>PDeaths</th>\n",
       "      <th>Cases (+)</th>\n",
       "      <th>Deaths (+)</th>\n",
       "      <th>Fatality Rate</th>\n",
       "      <th>Continent</th>\n",
       "    </tr>\n",
       "  </thead>\n",
       "  <tbody>\n",
       "    <tr>\n",
       "      <th>0</th>\n",
       "      <td>US</td>\n",
       "      <td>96940217</td>\n",
       "      <td>1065076</td>\n",
       "      <td>96912054</td>\n",
       "      <td>1064798</td>\n",
       "      <td>28163</td>\n",
       "      <td>278</td>\n",
       "      <td>1.10</td>\n",
       "      <td>North America</td>\n",
       "    </tr>\n",
       "    <tr>\n",
       "      <th>1</th>\n",
       "      <td>India</td>\n",
       "      <td>44626427</td>\n",
       "      <td>528874</td>\n",
       "      <td>44623997</td>\n",
       "      <td>528857</td>\n",
       "      <td>2430</td>\n",
       "      <td>17</td>\n",
       "      <td>1.19</td>\n",
       "      <td>Asia</td>\n",
       "    </tr>\n",
       "    <tr>\n",
       "      <th>2</th>\n",
       "      <td>France</td>\n",
       "      <td>36378553</td>\n",
       "      <td>156856</td>\n",
       "      <td>36319858</td>\n",
       "      <td>156777</td>\n",
       "      <td>58695</td>\n",
       "      <td>79</td>\n",
       "      <td>0.43</td>\n",
       "      <td>Europe</td>\n",
       "    </tr>\n",
       "    <tr>\n",
       "      <th>3</th>\n",
       "      <td>Brazil</td>\n",
       "      <td>34746462</td>\n",
       "      <td>687144</td>\n",
       "      <td>34739865</td>\n",
       "      <td>687069</td>\n",
       "      <td>6597</td>\n",
       "      <td>75</td>\n",
       "      <td>1.98</td>\n",
       "      <td>South America</td>\n",
       "    </tr>\n",
       "    <tr>\n",
       "      <th>4</th>\n",
       "      <td>Germany</td>\n",
       "      <td>34608835</td>\n",
       "      <td>151420</td>\n",
       "      <td>34517327</td>\n",
       "      <td>151260</td>\n",
       "      <td>91508</td>\n",
       "      <td>160</td>\n",
       "      <td>0.44</td>\n",
       "      <td>Europe</td>\n",
       "    </tr>\n",
       "  </tbody>\n",
       "</table>\n",
       "</div>"
      ],
      "text/plain": [
       "  Country/Region     Cases   Deaths    PCases  PDeaths  Cases (+)  Deaths (+)  \\\n",
       "0             US  96940217  1065076  96912054  1064798      28163         278   \n",
       "1          India  44626427   528874  44623997   528857       2430          17   \n",
       "2         France  36378553   156856  36319858   156777      58695          79   \n",
       "3         Brazil  34746462   687144  34739865   687069       6597          75   \n",
       "4        Germany  34608835   151420  34517327   151260      91508         160   \n",
       "\n",
       "   Fatality Rate      Continent  \n",
       "0           1.10  North America  \n",
       "1           1.19           Asia  \n",
       "2           0.43         Europe  \n",
       "3           1.98  South America  \n",
       "4           0.44         Europe  "
      ]
     },
     "execution_count": 13,
     "metadata": {},
     "output_type": "execute_result"
    }
   ],
   "source": [
    "#hide\n",
    "for c in 'Cases, Deaths'.split(', '):\n",
    "    df_table[f'{c} (+)'] = (df_table[c] - df_table[f'P{c}']).clip(0)\n",
    "    #Clip ça veut dire, les chiffres negatif sont interdit\n",
    "df_table['Fatality Rate'] = (100* df_table['Deaths']/ df_table['Cases']).round(2)\n",
    "df_table['Continent'] = df_table['Country/Region'].map(mapping['map.continent'])\n",
    "df_table.head(5)"
   ]
  },
  {
   "cell_type": "code",
   "execution_count": 14,
   "id": "aboriginal-bulgaria",
   "metadata": {
    "execution": {
     "iopub.execute_input": "2022-10-15T12:18:50.217307Z",
     "iopub.status.busy": "2022-10-15T12:18:50.216717Z",
     "iopub.status.idle": "2022-10-15T12:18:50.219703Z",
     "shell.execute_reply": "2022-10-15T12:18:50.220170Z"
    },
    "papermill": {
     "duration": 0.037248,
     "end_time": "2022-10-15T12:18:50.220280",
     "exception": false,
     "start_time": "2022-10-15T12:18:50.183032",
     "status": "completed"
    },
    "tags": []
   },
   "outputs": [],
   "source": [
    "#hide\n",
    "#delete problematic countries from table\n",
    "df_table = df_table[~df_table['Country/Region'].isin(['Cape Verde', 'Cruise Ship', 'Kosovo'])]"
   ]
  },
  {
   "cell_type": "code",
   "execution_count": 15,
   "id": "fantastic-effect",
   "metadata": {
    "execution": {
     "iopub.execute_input": "2022-10-15T12:18:50.288571Z",
     "iopub.status.busy": "2022-10-15T12:18:50.287993Z",
     "iopub.status.idle": "2022-10-15T12:18:50.305172Z",
     "shell.execute_reply": "2022-10-15T12:18:50.304588Z"
    },
    "papermill": {
     "duration": 0.055398,
     "end_time": "2022-10-15T12:18:50.305276",
     "exception": false,
     "start_time": "2022-10-15T12:18:50.249878",
     "status": "completed"
    },
    "tags": []
   },
   "outputs": [
    {
     "data": {
      "text/html": [
       "<div>\n",
       "<style scoped>\n",
       "    .dataframe tbody tr th:only-of-type {\n",
       "        vertical-align: middle;\n",
       "    }\n",
       "\n",
       "    .dataframe tbody tr th {\n",
       "        vertical-align: top;\n",
       "    }\n",
       "\n",
       "    .dataframe thead th {\n",
       "        text-align: right;\n",
       "    }\n",
       "</style>\n",
       "<table border=\"1\" class=\"dataframe\">\n",
       "  <thead>\n",
       "    <tr style=\"text-align: right;\">\n",
       "      <th></th>\n",
       "      <th>Country/Region</th>\n",
       "      <th>Cases</th>\n",
       "      <th>Deaths</th>\n",
       "      <th>PCases</th>\n",
       "      <th>PDeaths</th>\n",
       "      <th>Cases (+)</th>\n",
       "      <th>Deaths (+)</th>\n",
       "      <th>Fatality Rate</th>\n",
       "      <th>Continent</th>\n",
       "    </tr>\n",
       "  </thead>\n",
       "  <tbody>\n",
       "    <tr>\n",
       "      <th>0</th>\n",
       "      <td>US</td>\n",
       "      <td>96940217</td>\n",
       "      <td>1065076</td>\n",
       "      <td>96912054</td>\n",
       "      <td>1064798</td>\n",
       "      <td>28163</td>\n",
       "      <td>278</td>\n",
       "      <td>1.1</td>\n",
       "      <td>North America</td>\n",
       "    </tr>\n",
       "    <tr>\n",
       "      <th>1</th>\n",
       "      <td>India</td>\n",
       "      <td>44626427</td>\n",
       "      <td>528874</td>\n",
       "      <td>44623997</td>\n",
       "      <td>528857</td>\n",
       "      <td>2430</td>\n",
       "      <td>17</td>\n",
       "      <td>1.2</td>\n",
       "      <td>Asia</td>\n",
       "    </tr>\n",
       "    <tr>\n",
       "      <th>2</th>\n",
       "      <td>France</td>\n",
       "      <td>36378553</td>\n",
       "      <td>156856</td>\n",
       "      <td>36319858</td>\n",
       "      <td>156777</td>\n",
       "      <td>58695</td>\n",
       "      <td>79</td>\n",
       "      <td>0.4</td>\n",
       "      <td>Europe</td>\n",
       "    </tr>\n",
       "    <tr>\n",
       "      <th>3</th>\n",
       "      <td>Brazil</td>\n",
       "      <td>34746462</td>\n",
       "      <td>687144</td>\n",
       "      <td>34739865</td>\n",
       "      <td>687069</td>\n",
       "      <td>6597</td>\n",
       "      <td>75</td>\n",
       "      <td>2.0</td>\n",
       "      <td>South America</td>\n",
       "    </tr>\n",
       "    <tr>\n",
       "      <th>4</th>\n",
       "      <td>Germany</td>\n",
       "      <td>34608835</td>\n",
       "      <td>151420</td>\n",
       "      <td>34517327</td>\n",
       "      <td>151260</td>\n",
       "      <td>91508</td>\n",
       "      <td>160</td>\n",
       "      <td>0.4</td>\n",
       "      <td>Europe</td>\n",
       "    </tr>\n",
       "  </tbody>\n",
       "</table>\n",
       "</div>"
      ],
      "text/plain": [
       "  Country/Region     Cases   Deaths    PCases  PDeaths  Cases (+)  Deaths (+)  \\\n",
       "0             US  96940217  1065076  96912054  1064798      28163         278   \n",
       "1          India  44626427   528874  44623997   528857       2430          17   \n",
       "2         France  36378553   156856  36319858   156777      58695          79   \n",
       "3         Brazil  34746462   687144  34739865   687069       6597          75   \n",
       "4        Germany  34608835   151420  34517327   151260      91508         160   \n",
       "\n",
       "   Fatality Rate      Continent  \n",
       "0            1.1  North America  \n",
       "1            1.2           Asia  \n",
       "2            0.4         Europe  \n",
       "3            2.0  South America  \n",
       "4            0.4         Europe  "
      ]
     },
     "execution_count": 15,
     "metadata": {},
     "output_type": "execute_result"
    }
   ],
   "source": [
    "#hide\n",
    "df_table = (pd.DataFrame(dict(Cases=dfc_cases, Deaths=dfc_deaths, PCases=dfp_cases, PDeaths=dfp_deaths))\n",
    "             .sort_values(by=['Cases', 'Deaths'], ascending=[False, False])\n",
    "             .reset_index())\n",
    "df_table.rename(columns={'index': 'Country/Region'}, inplace=True)\n",
    "for c in 'Cases, Deaths'.split(', '):\n",
    "    df_table[f'{c} (+)'] = (df_table[c] - df_table[f'P{c}']).clip(0)  # DATA BUG\n",
    "df_table['Fatality Rate'] = (100 * df_table['Deaths'] / df_table['Cases']).round(1)\n",
    "df_table['Continent'] = df_table['Country/Region'].map(mapping['map.continent'])\n",
    "df_table.head(5)"
   ]
  },
  {
   "cell_type": "code",
   "execution_count": 16,
   "id": "fewer-occasion",
   "metadata": {
    "execution": {
     "iopub.execute_input": "2022-10-15T12:18:50.371023Z",
     "iopub.status.busy": "2022-10-15T12:18:50.370450Z",
     "iopub.status.idle": "2022-10-15T12:18:50.374250Z",
     "shell.execute_reply": "2022-10-15T12:18:50.374798Z"
    },
    "papermill": {
     "duration": 0.039342,
     "end_time": "2022-10-15T12:18:50.374914",
     "exception": false,
     "start_time": "2022-10-15T12:18:50.335572",
     "status": "completed"
    },
    "tags": []
   },
   "outputs": [],
   "source": [
    "#hide\n",
    "#delete problematic countries from table\n",
    "df_table = df_table[~df_table['Country/Region'].isin(['Cape Verde', 'Cruise Ship', 'Kosovo'])]"
   ]
  },
  {
   "cell_type": "code",
   "execution_count": 17,
   "id": "related-center",
   "metadata": {
    "execution": {
     "iopub.execute_input": "2022-10-15T12:18:50.453594Z",
     "iopub.status.busy": "2022-10-15T12:18:50.452982Z",
     "iopub.status.idle": "2022-10-15T12:18:50.455472Z",
     "shell.execute_reply": "2022-10-15T12:18:50.454916Z"
    },
    "papermill": {
     "duration": 0.050624,
     "end_time": "2022-10-15T12:18:50.455575",
     "exception": false,
     "start_time": "2022-10-15T12:18:50.404951",
     "status": "completed"
    },
    "tags": []
   },
   "outputs": [],
   "source": [
    "#hide\n",
    "metrics = [df_table.columns[index] for index in [1,2,5,6]]\n",
    "# s_china = df_table[df_table['Country/Region'].eq('China')][metrics].sum().add_prefix('China ')\n",
    "s_us = df_table[df_table['Country/Region'].eq('US')][metrics].sum().add_prefix('US ')\n",
    "s_eu = df_table[df_table['Continent'].eq('Europe')][metrics].sum().add_prefix('EU ')\n",
    "s_ind = df_table[df_table['Country/Region'].eq('India')][metrics].sum().add_prefix('India ')\n",
    "summary = {'updated': pd.to_datetime(dt_today), 'since': pd.to_datetime(dt_yday)}\n",
    "summary = {'updated': pd.to_datetime(dt_today), 'since': pd.to_datetime(dt_yday)}\n",
    "summary = {**summary, **df_table[metrics].sum(), **s_ind, **s_us, **s_eu}"
   ]
  },
  {
   "cell_type": "code",
   "execution_count": 18,
   "id": "engaging-syndrome",
   "metadata": {
    "execution": {
     "iopub.execute_input": "2022-10-15T12:18:50.520733Z",
     "iopub.status.busy": "2022-10-15T12:18:50.520164Z",
     "iopub.status.idle": "2022-10-15T12:18:50.541176Z",
     "shell.execute_reply": "2022-10-15T12:18:50.540608Z"
    },
    "papermill": {
     "duration": 0.055424,
     "end_time": "2022-10-15T12:18:50.541299",
     "exception": false,
     "start_time": "2022-10-15T12:18:50.485875",
     "status": "completed"
    },
    "tags": []
   },
   "outputs": [],
   "source": [
    "#hide\n",
    "dft_ct_new_cases = dft_cases.groupby(COL_REGION)[dt_cols].sum().diff(axis=1).fillna(0).astype(int)"
   ]
  },
  {
   "cell_type": "code",
   "execution_count": 19,
   "id": "neutral-assignment",
   "metadata": {
    "execution": {
     "iopub.execute_input": "2022-10-15T12:18:50.608625Z",
     "iopub.status.busy": "2022-10-15T12:18:50.608054Z",
     "iopub.status.idle": "2022-10-15T12:18:50.610491Z",
     "shell.execute_reply": "2022-10-15T12:18:50.610967Z"
    },
    "papermill": {
     "duration": 0.038689,
     "end_time": "2022-10-15T12:18:50.611084",
     "exception": false,
     "start_time": "2022-10-15T12:18:50.572395",
     "status": "completed"
    },
    "tags": []
   },
   "outputs": [],
   "source": [
    "#hide\n",
    "everydaycases = dft_ct_new_cases.cumsum(axis=1)"
   ]
  },
  {
   "cell_type": "code",
   "execution_count": 20,
   "id": "parliamentary-calgary",
   "metadata": {
    "execution": {
     "iopub.execute_input": "2022-10-15T12:18:50.675790Z",
     "iopub.status.busy": "2022-10-15T12:18:50.675210Z",
     "iopub.status.idle": "2022-10-15T12:18:51.206101Z",
     "shell.execute_reply": "2022-10-15T12:18:51.205237Z"
    },
    "papermill": {
     "duration": 0.564843,
     "end_time": "2022-10-15T12:18:51.206234",
     "exception": false,
     "start_time": "2022-10-15T12:18:50.641391",
     "status": "completed"
    },
    "tags": []
   },
   "outputs": [],
   "source": [
    "#hide\n",
    "import pandas as pd\n",
    "import matplotlib.pyplot as plt\n",
    "import matplotlib.ticker as ticker\n",
    "import matplotlib.animation as animation\n",
    "from IPython.display import HTML"
   ]
  },
  {
   "cell_type": "code",
   "execution_count": 21,
   "id": "lasting-extraction",
   "metadata": {
    "execution": {
     "iopub.execute_input": "2022-10-15T12:18:51.273665Z",
     "iopub.status.busy": "2022-10-15T12:18:51.272964Z",
     "iopub.status.idle": "2022-10-15T12:18:51.280312Z",
     "shell.execute_reply": "2022-10-15T12:18:51.279834Z"
    },
    "papermill": {
     "duration": 0.043756,
     "end_time": "2022-10-15T12:18:51.280422",
     "exception": false,
     "start_time": "2022-10-15T12:18:51.236666",
     "status": "completed"
    },
    "tags": []
   },
   "outputs": [],
   "source": [
    "#hide\n",
    "t = everydaycases.stack()"
   ]
  },
  {
   "cell_type": "code",
   "execution_count": 22,
   "id": "premier-sleeve",
   "metadata": {
    "execution": {
     "iopub.execute_input": "2022-10-15T12:18:51.345605Z",
     "iopub.status.busy": "2022-10-15T12:18:51.344963Z",
     "iopub.status.idle": "2022-10-15T12:18:51.357691Z",
     "shell.execute_reply": "2022-10-15T12:18:51.357215Z"
    },
    "papermill": {
     "duration": 0.046765,
     "end_time": "2022-10-15T12:18:51.357796",
     "exception": false,
     "start_time": "2022-10-15T12:18:51.311031",
     "status": "completed"
    },
    "tags": []
   },
   "outputs": [],
   "source": [
    "#hide\n",
    "g = t.reset_index(['Country/Region'])"
   ]
  },
  {
   "cell_type": "code",
   "execution_count": 23,
   "id": "distributed-pittsburgh",
   "metadata": {
    "execution": {
     "iopub.execute_input": "2022-10-15T12:18:51.421757Z",
     "iopub.status.busy": "2022-10-15T12:18:51.421176Z",
     "iopub.status.idle": "2022-10-15T12:18:51.423767Z",
     "shell.execute_reply": "2022-10-15T12:18:51.423214Z"
    },
    "papermill": {
     "duration": 0.036075,
     "end_time": "2022-10-15T12:18:51.423868",
     "exception": false,
     "start_time": "2022-10-15T12:18:51.387793",
     "status": "completed"
    },
    "tags": []
   },
   "outputs": [],
   "source": [
    "#hide\n",
    "g.index.name = 'date'"
   ]
  },
  {
   "cell_type": "code",
   "execution_count": 24,
   "id": "naked-donor",
   "metadata": {
    "execution": {
     "iopub.execute_input": "2022-10-15T12:18:51.487586Z",
     "iopub.status.busy": "2022-10-15T12:18:51.487009Z",
     "iopub.status.idle": "2022-10-15T12:18:51.489299Z",
     "shell.execute_reply": "2022-10-15T12:18:51.489850Z"
    },
    "papermill": {
     "duration": 0.035814,
     "end_time": "2022-10-15T12:18:51.489964",
     "exception": false,
     "start_time": "2022-10-15T12:18:51.454150",
     "status": "completed"
    },
    "tags": []
   },
   "outputs": [],
   "source": [
    "# #hide\n",
    "# g = g.reset_index(['date'])"
   ]
  },
  {
   "cell_type": "code",
   "execution_count": 25,
   "id": "incomplete-mustang",
   "metadata": {
    "execution": {
     "iopub.execute_input": "2022-10-15T12:18:51.553779Z",
     "iopub.status.busy": "2022-10-15T12:18:51.553165Z",
     "iopub.status.idle": "2022-10-15T12:18:51.556306Z",
     "shell.execute_reply": "2022-10-15T12:18:51.555835Z"
    },
    "papermill": {
     "duration": 0.036367,
     "end_time": "2022-10-15T12:18:51.556415",
     "exception": false,
     "start_time": "2022-10-15T12:18:51.520048",
     "status": "completed"
    },
    "tags": []
   },
   "outputs": [],
   "source": [
    "#hide\n",
    "# g.head()"
   ]
  },
  {
   "cell_type": "code",
   "execution_count": 26,
   "id": "specific-kruger",
   "metadata": {
    "execution": {
     "iopub.execute_input": "2022-10-15T12:18:51.620662Z",
     "iopub.status.busy": "2022-10-15T12:18:51.620015Z",
     "iopub.status.idle": "2022-10-15T12:18:51.622613Z",
     "shell.execute_reply": "2022-10-15T12:18:51.621973Z"
    },
    "papermill": {
     "duration": 0.035619,
     "end_time": "2022-10-15T12:18:51.622726",
     "exception": false,
     "start_time": "2022-10-15T12:18:51.587107",
     "status": "completed"
    },
    "tags": []
   },
   "outputs": [],
   "source": [
    "#hide\n",
    "# g.columns = ['date','country','cases']"
   ]
  },
  {
   "cell_type": "code",
   "execution_count": 27,
   "id": "tender-conversion",
   "metadata": {
    "execution": {
     "iopub.execute_input": "2022-10-15T12:18:51.686279Z",
     "iopub.status.busy": "2022-10-15T12:18:51.685629Z",
     "iopub.status.idle": "2022-10-15T12:18:51.688256Z",
     "shell.execute_reply": "2022-10-15T12:18:51.687729Z"
    },
    "papermill": {
     "duration": 0.03564,
     "end_time": "2022-10-15T12:18:51.688366",
     "exception": false,
     "start_time": "2022-10-15T12:18:51.652726",
     "status": "completed"
    },
    "tags": []
   },
   "outputs": [],
   "source": [
    "#hide\n",
    "# g['continent'] = g.country"
   ]
  },
  {
   "cell_type": "code",
   "execution_count": 28,
   "id": "substantial-wilderness",
   "metadata": {
    "execution": {
     "iopub.execute_input": "2022-10-15T12:18:51.753492Z",
     "iopub.status.busy": "2022-10-15T12:18:51.752814Z",
     "iopub.status.idle": "2022-10-15T12:18:51.755258Z",
     "shell.execute_reply": "2022-10-15T12:18:51.754704Z"
    },
    "papermill": {
     "duration": 0.03593,
     "end_time": "2022-10-15T12:18:51.755356",
     "exception": false,
     "start_time": "2022-10-15T12:18:51.719426",
     "status": "completed"
    },
    "tags": []
   },
   "outputs": [],
   "source": [
    "#hide\n",
    "# cols = list(g.columns.values)"
   ]
  },
  {
   "cell_type": "code",
   "execution_count": 29,
   "id": "solved-farming",
   "metadata": {
    "execution": {
     "iopub.execute_input": "2022-10-15T12:18:51.819122Z",
     "iopub.status.busy": "2022-10-15T12:18:51.818469Z",
     "iopub.status.idle": "2022-10-15T12:18:51.822010Z",
     "shell.execute_reply": "2022-10-15T12:18:51.822516Z"
    },
    "papermill": {
     "duration": 0.037274,
     "end_time": "2022-10-15T12:18:51.822644",
     "exception": false,
     "start_time": "2022-10-15T12:18:51.785370",
     "status": "completed"
    },
    "tags": []
   },
   "outputs": [],
   "source": [
    "#hide\n",
    "# cols.insert(0, cols.pop())"
   ]
  },
  {
   "cell_type": "code",
   "execution_count": 30,
   "id": "executed-adoption",
   "metadata": {
    "execution": {
     "iopub.execute_input": "2022-10-15T12:18:51.886409Z",
     "iopub.status.busy": "2022-10-15T12:18:51.885836Z",
     "iopub.status.idle": "2022-10-15T12:18:51.888427Z",
     "shell.execute_reply": "2022-10-15T12:18:51.887966Z"
    },
    "papermill": {
     "duration": 0.03556,
     "end_time": "2022-10-15T12:18:51.888527",
     "exception": false,
     "start_time": "2022-10-15T12:18:51.852967",
     "status": "completed"
    },
    "tags": []
   },
   "outputs": [],
   "source": [
    "#hide\n",
    "# g = g[cols]"
   ]
  },
  {
   "cell_type": "code",
   "execution_count": 31,
   "id": "subject-dublin",
   "metadata": {
    "execution": {
     "iopub.execute_input": "2022-10-15T12:18:51.952344Z",
     "iopub.status.busy": "2022-10-15T12:18:51.951691Z",
     "iopub.status.idle": "2022-10-15T12:18:51.955407Z",
     "shell.execute_reply": "2022-10-15T12:18:51.955916Z"
    },
    "papermill": {
     "duration": 0.037413,
     "end_time": "2022-10-15T12:18:51.956042",
     "exception": false,
     "start_time": "2022-10-15T12:18:51.918629",
     "status": "completed"
    },
    "tags": []
   },
   "outputs": [],
   "source": [
    "#hide\n",
    "# g['continent'] = g['continent'].map(mapping['map.continent'])"
   ]
  },
  {
   "cell_type": "code",
   "execution_count": 32,
   "id": "freelance-scout",
   "metadata": {
    "execution": {
     "iopub.execute_input": "2022-10-15T12:18:52.019911Z",
     "iopub.status.busy": "2022-10-15T12:18:52.019347Z",
     "iopub.status.idle": "2022-10-15T12:18:52.021684Z",
     "shell.execute_reply": "2022-10-15T12:18:52.022101Z"
    },
    "papermill": {
     "duration": 0.035761,
     "end_time": "2022-10-15T12:18:52.022215",
     "exception": false,
     "start_time": "2022-10-15T12:18:51.986454",
     "status": "completed"
    },
    "tags": []
   },
   "outputs": [],
   "source": [
    "#hide\n",
    "# g.head()"
   ]
  },
  {
   "cell_type": "code",
   "execution_count": 33,
   "id": "limited-engine",
   "metadata": {
    "execution": {
     "iopub.execute_input": "2022-10-15T12:18:52.085678Z",
     "iopub.status.busy": "2022-10-15T12:18:52.085069Z",
     "iopub.status.idle": "2022-10-15T12:18:52.087257Z",
     "shell.execute_reply": "2022-10-15T12:18:52.087805Z"
    },
    "papermill": {
     "duration": 0.035695,
     "end_time": "2022-10-15T12:18:52.087916",
     "exception": false,
     "start_time": "2022-10-15T12:18:52.052221",
     "status": "completed"
    },
    "tags": []
   },
   "outputs": [],
   "source": [
    "# hide\n",
    "# g['date'] = g['date'].astype('datetime64[ns]')"
   ]
  },
  {
   "cell_type": "code",
   "execution_count": 34,
   "id": "sophisticated-supervisor",
   "metadata": {
    "execution": {
     "iopub.execute_input": "2022-10-15T12:18:52.151957Z",
     "iopub.status.busy": "2022-10-15T12:18:52.151394Z",
     "iopub.status.idle": "2022-10-15T12:18:52.154119Z",
     "shell.execute_reply": "2022-10-15T12:18:52.153661Z"
    },
    "papermill": {
     "duration": 0.035976,
     "end_time": "2022-10-15T12:18:52.154218",
     "exception": false,
     "start_time": "2022-10-15T12:18:52.118242",
     "status": "completed"
    },
    "tags": []
   },
   "outputs": [],
   "source": [
    "#hide\n",
    "# g['date'] = g.date.dt.dayofyear"
   ]
  },
  {
   "cell_type": "code",
   "execution_count": 35,
   "id": "inside-dubai",
   "metadata": {
    "execution": {
     "iopub.execute_input": "2022-10-15T12:18:52.217963Z",
     "iopub.status.busy": "2022-10-15T12:18:52.217300Z",
     "iopub.status.idle": "2022-10-15T12:18:52.220262Z",
     "shell.execute_reply": "2022-10-15T12:18:52.219708Z"
    },
    "papermill": {
     "duration": 0.036173,
     "end_time": "2022-10-15T12:18:52.220361",
     "exception": false,
     "start_time": "2022-10-15T12:18:52.184188",
     "status": "completed"
    },
    "tags": []
   },
   "outputs": [],
   "source": [
    "#hide\n",
    "# g = g.rename(columns= {'continent':'group','country':'name','cases':'value'})"
   ]
  },
  {
   "cell_type": "code",
   "execution_count": 36,
   "id": "fleet-motorcycle",
   "metadata": {
    "execution": {
     "iopub.execute_input": "2022-10-15T12:18:52.283984Z",
     "iopub.status.busy": "2022-10-15T12:18:52.283422Z",
     "iopub.status.idle": "2022-10-15T12:18:52.285616Z",
     "shell.execute_reply": "2022-10-15T12:18:52.286159Z"
    },
    "papermill": {
     "duration": 0.035676,
     "end_time": "2022-10-15T12:18:52.286267",
     "exception": false,
     "start_time": "2022-10-15T12:18:52.250591",
     "status": "completed"
    },
    "tags": []
   },
   "outputs": [],
   "source": [
    "#hide\n",
    "# cols = ['name','group','day','value']"
   ]
  },
  {
   "cell_type": "code",
   "execution_count": 37,
   "id": "continued-sleeping",
   "metadata": {
    "execution": {
     "iopub.execute_input": "2022-10-15T12:18:52.349697Z",
     "iopub.status.busy": "2022-10-15T12:18:52.349121Z",
     "iopub.status.idle": "2022-10-15T12:18:52.355565Z",
     "shell.execute_reply": "2022-10-15T12:18:52.354997Z"
    },
    "papermill": {
     "duration": 0.039412,
     "end_time": "2022-10-15T12:18:52.355667",
     "exception": false,
     "start_time": "2022-10-15T12:18:52.316255",
     "status": "completed"
    },
    "tags": []
   },
   "outputs": [],
   "source": [
    "#hide\n",
    "# g.rename(columns= {'date':'day'},inplace = True)"
   ]
  },
  {
   "cell_type": "code",
   "execution_count": 38,
   "id": "major-fight",
   "metadata": {
    "execution": {
     "iopub.execute_input": "2022-10-15T12:18:52.487527Z",
     "iopub.status.busy": "2022-10-15T12:18:52.486520Z",
     "iopub.status.idle": "2022-10-15T12:18:52.488066Z",
     "shell.execute_reply": "2022-10-15T12:18:52.487029Z"
    },
    "papermill": {
     "duration": 0.056588,
     "end_time": "2022-10-15T12:18:52.488169",
     "exception": false,
     "start_time": "2022-10-15T12:18:52.431581",
     "status": "completed"
    },
    "tags": []
   },
   "outputs": [],
   "source": [
    "#hide\n",
    "# g = g[cols]"
   ]
  },
  {
   "cell_type": "code",
   "execution_count": 39,
   "id": "structured-mobile",
   "metadata": {
    "execution": {
     "iopub.execute_input": "2022-10-15T12:18:52.585122Z",
     "iopub.status.busy": "2022-10-15T12:18:52.584288Z",
     "iopub.status.idle": "2022-10-15T12:18:52.585841Z",
     "shell.execute_reply": "2022-10-15T12:18:52.586274Z"
    },
    "papermill": {
     "duration": 0.060092,
     "end_time": "2022-10-15T12:18:52.586391",
     "exception": false,
     "start_time": "2022-10-15T12:18:52.526299",
     "status": "completed"
    },
    "tags": []
   },
   "outputs": [],
   "source": [
    "# #hide\n",
    "# g = g[g.group.notna()]"
   ]
  },
  {
   "cell_type": "code",
   "execution_count": 40,
   "id": "determined-closing",
   "metadata": {
    "execution": {
     "iopub.execute_input": "2022-10-15T12:18:52.689024Z",
     "iopub.status.busy": "2022-10-15T12:18:52.688419Z",
     "iopub.status.idle": "2022-10-15T12:18:52.689699Z",
     "shell.execute_reply": "2022-10-15T12:18:52.690132Z"
    },
    "papermill": {
     "duration": 0.068542,
     "end_time": "2022-10-15T12:18:52.690248",
     "exception": false,
     "start_time": "2022-10-15T12:18:52.621706",
     "status": "completed"
    },
    "tags": []
   },
   "outputs": [],
   "source": [
    "# #hide\n",
    "# colors = dict(zip(\n",
    "#     [\"Oceania\", \"Europe\", \"Asia\", \"South America\", \"Middle East\", \"North America\", \"Africa\"],\n",
    "#     [\"#adb0ff\", \"#ffb3ff\", \"#90d595\", \"#e48381\", \"#aafbff\", \"#f7bb5f\", \"#eafb50\"]\n",
    "# ))\n",
    "# group_lk = g.set_index('name')['group'].to_dict()"
   ]
  },
  {
   "cell_type": "code",
   "execution_count": null,
   "id": "gross-drinking",
   "metadata": {
    "papermill": {
     "duration": 0.059802,
     "end_time": "2022-10-15T12:18:52.780183",
     "exception": false,
     "start_time": "2022-10-15T12:18:52.720381",
     "status": "completed"
    },
    "tags": []
   },
   "outputs": [],
   "source": []
  },
  {
   "cell_type": "code",
   "execution_count": 41,
   "id": "subject-macintosh",
   "metadata": {
    "execution": {
     "iopub.execute_input": "2022-10-15T12:18:52.848920Z",
     "iopub.status.busy": "2022-10-15T12:18:52.848313Z",
     "iopub.status.idle": "2022-10-15T12:18:52.850698Z",
     "shell.execute_reply": "2022-10-15T12:18:52.850134Z"
    },
    "papermill": {
     "duration": 0.038573,
     "end_time": "2022-10-15T12:18:52.850807",
     "exception": false,
     "start_time": "2022-10-15T12:18:52.812234",
     "status": "completed"
    },
    "tags": []
   },
   "outputs": [],
   "source": [
    "# #hide\n",
    "# fig, ax = plt.subplots(figsize=(15, 8))\n",
    "\n",
    "# def draw_barchart(current_day):\n",
    "#     dff = g[g['day'].eq(current_day)].sort_values(by='value', ascending=True).tail(10)\n",
    "#     ax.clear()\n",
    "#     ax.barh(dff['name'], dff['value'], color=[colors[group_lk[x]] for x in dff['name']])\n",
    "#     dx = dff['value'].max() / 200\n",
    "    \n",
    "#     for i, (value, name) in enumerate(zip(dff['value'], dff['name'])):\n",
    "#         ax.text(value-dx, i,     name,           size=14, weight=600, ha='right', va='bottom')\n",
    "#         ax.text(value-dx, i-.25, group_lk[name], size=10, color='#444444', ha='right', va='baseline')\n",
    "#         ax.text(value+dx, i,     f'{value:,.0f}',  size=14, ha='left',  va='center')\n",
    "#     ax.text(1, 0.4, current_day, transform=ax.transAxes, color='#777777', size=46, ha='right', weight=800)\n",
    "#     ax.text(0, 1.06, 'Population (thousands)', transform=ax.transAxes, size=12, color='#777777')\n",
    "#     ax.xaxis.set_major_formatter(ticker.StrMethodFormatter('{x:,.0f}'))\n",
    "#     ax.xaxis.set_ticks_position('top')\n",
    "#     ax.tick_params(axis='x', colors='#777777', labelsize=12)\n",
    "#     ax.set_yticks([])\n",
    "#     ax.margins(0, 0.01)\n",
    "#     ax.grid(which='major', axis='x', linestyle='-')\n",
    "#     ax.set_axisbelow(True)\n",
    "    \n",
    "#     ax.text(0, 1.15, 'Coronavirus',\n",
    "#             transform=ax.transAxes, size=24, weight=600, ha='left', va='top')\n",
    "# #     ax.text(1, 0, 'by @pratapvardhan; credit @jburnmurdoch', transform=ax.transAxes, color='#777777', ha='right',\n",
    "# #             bbox=dict(facecolor='white', alpha=0.8, edgecolor='white'))\n",
    "#     plt.box(False)"
   ]
  },
  {
   "cell_type": "code",
   "execution_count": 42,
   "id": "sexual-wages",
   "metadata": {
    "execution": {
     "iopub.execute_input": "2022-10-15T12:18:52.938885Z",
     "iopub.status.busy": "2022-10-15T12:18:52.937875Z",
     "iopub.status.idle": "2022-10-15T12:18:52.939424Z",
     "shell.execute_reply": "2022-10-15T12:18:52.938387Z"
    },
    "papermill": {
     "duration": 0.054348,
     "end_time": "2022-10-15T12:18:52.939529",
     "exception": false,
     "start_time": "2022-10-15T12:18:52.885181",
     "status": "completed"
    },
    "tags": []
   },
   "outputs": [],
   "source": [
    "# #hide_input\n",
    "# fig, ax = plt.subplots(figsize=(15, 8))\n",
    "# animator = animation.FuncAnimation(fig, draw_barchart, frames=range(g.day.values.min(), g.day.values.max()))\n",
    "# HTML(animator.to_jshtml())\n",
    "# # or use animator.to_html5_video() or animator.save() "
   ]
  },
  {
   "cell_type": "code",
   "execution_count": null,
   "id": "australian-container",
   "metadata": {
    "papermill": {
     "duration": 0.094226,
     "end_time": "2022-10-15T12:18:53.176786",
     "exception": false,
     "start_time": "2022-10-15T12:18:53.082560",
     "status": "completed"
    },
    "tags": []
   },
   "outputs": [],
   "source": []
  },
  {
   "cell_type": "code",
   "execution_count": null,
   "id": "mediterranean-pontiac",
   "metadata": {
    "papermill": {
     "duration": 0.030303,
     "end_time": "2022-10-15T12:18:53.238285",
     "exception": false,
     "start_time": "2022-10-15T12:18:53.207982",
     "status": "completed"
    },
    "tags": []
   },
   "outputs": [],
   "source": []
  },
  {
   "cell_type": "code",
   "execution_count": null,
   "id": "aging-legislature",
   "metadata": {
    "papermill": {
     "duration": 0.030212,
     "end_time": "2022-10-15T12:18:53.298919",
     "exception": false,
     "start_time": "2022-10-15T12:18:53.268707",
     "status": "completed"
    },
    "tags": []
   },
   "outputs": [],
   "source": []
  }
 ],
 "metadata": {
  "kernelspec": {
   "display_name": "Python 3",
   "language": "python",
   "name": "python3"
  },
  "language_info": {
   "codemirror_mode": {
    "name": "ipython",
    "version": 3
   },
   "file_extension": ".py",
   "mimetype": "text/x-python",
   "name": "python",
   "nbconvert_exporter": "python",
   "pygments_lexer": "ipython3",
   "version": "3.6.15"
  },
  "papermill": {
   "duration": 6.179596,
   "end_time": "2022-10-15T12:18:53.647253",
   "environment_variables": {},
   "exception": null,
   "input_path": "2020-03-21-covid19exp.ipynb",
   "output_path": "2020-03-21-covid19exp.ipynb",
   "parameters": {},
   "start_time": "2022-10-15T12:18:47.467657",
   "version": "2.0.0"
  }
 },
 "nbformat": 4,
 "nbformat_minor": 5
}