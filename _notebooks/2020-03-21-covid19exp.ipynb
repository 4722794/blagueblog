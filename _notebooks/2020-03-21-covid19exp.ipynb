{
 "cells": [
  {
   "cell_type": "markdown",
   "id": "muslim-click",
   "metadata": {
    "papermill": {
     "duration": 0.036217,
     "end_time": "2022-11-11T12:18:48.392919",
     "exception": false,
     "start_time": "2022-11-11T12:18:48.356702",
     "status": "completed"
    },
    "tags": []
   },
   "source": [
    "# COVID-19 Case Race\n",
    "> A race chart to see rising cases around the world\n",
    "\n",
    "- author: Hargun Oberoi\n",
    "- image: images/covid-overview.png\n",
    "- hide: false\n",
    "- badges: false"
   ]
  },
  {
   "cell_type": "code",
   "execution_count": 1,
   "id": "proof-material",
   "metadata": {
    "execution": {
     "iopub.execute_input": "2022-11-11T12:18:48.463427Z",
     "iopub.status.busy": "2022-11-11T12:18:48.462740Z",
     "iopub.status.idle": "2022-11-11T12:18:48.801061Z",
     "shell.execute_reply": "2022-11-11T12:18:48.800451Z"
    },
    "papermill": {
     "duration": 0.377817,
     "end_time": "2022-11-11T12:18:48.801224",
     "exception": false,
     "start_time": "2022-11-11T12:18:48.423407",
     "status": "completed"
    },
    "tags": []
   },
   "outputs": [],
   "source": [
    "#hide\n",
    "import numpy as np\n",
    "import pandas as pd\n",
    "from jinja2 import Template\n",
    "from IPython.display import HTML"
   ]
  },
  {
   "cell_type": "code",
   "execution_count": 2,
   "id": "developed-terminology",
   "metadata": {
    "execution": {
     "iopub.execute_input": "2022-11-11T12:18:48.867420Z",
     "iopub.status.busy": "2022-11-11T12:18:48.866733Z",
     "iopub.status.idle": "2022-11-11T12:18:48.869097Z",
     "shell.execute_reply": "2022-11-11T12:18:48.868518Z"
    },
    "papermill": {
     "duration": 0.037289,
     "end_time": "2022-11-11T12:18:48.869214",
     "exception": false,
     "start_time": "2022-11-11T12:18:48.831925",
     "status": "completed"
    },
    "tags": []
   },
   "outputs": [],
   "source": [
    "#hide\n",
    "\n",
    "# FETCH\n",
    "base_url = 'https://raw.githubusercontent.com/pratapvardhan/notebooks/master/covid19/'\n",
    "paths = {\n",
    "    'mapping': base_url + 'mapping_countries.csv',\n",
    "    'overview': base_url + 'overview.tpl'\n",
    "}"
   ]
  },
  {
   "cell_type": "code",
   "execution_count": 3,
   "id": "dynamic-saver",
   "metadata": {
    "execution": {
     "iopub.execute_input": "2022-11-11T12:18:48.939039Z",
     "iopub.status.busy": "2022-11-11T12:18:48.938413Z",
     "iopub.status.idle": "2022-11-11T12:18:48.941624Z",
     "shell.execute_reply": "2022-11-11T12:18:48.942183Z"
    },
    "papermill": {
     "duration": 0.043372,
     "end_time": "2022-11-11T12:18:48.942316",
     "exception": false,
     "start_time": "2022-11-11T12:18:48.898944",
     "status": "completed"
    },
    "tags": []
   },
   "outputs": [
    {
     "data": {
      "text/plain": [
       "'https://raw.githubusercontent.com/pratapvardhan/notebooks/master/covid19/mapping_countries.csv'"
      ]
     },
     "execution_count": 3,
     "metadata": {},
     "output_type": "execute_result"
    }
   ],
   "source": [
    "#hide\n",
    "paths['mapping']"
   ]
  },
  {
   "cell_type": "code",
   "execution_count": 4,
   "id": "urban-software",
   "metadata": {
    "execution": {
     "iopub.execute_input": "2022-11-11T12:18:49.009042Z",
     "iopub.status.busy": "2022-11-11T12:18:49.008414Z",
     "iopub.status.idle": "2022-11-11T12:18:49.010915Z",
     "shell.execute_reply": "2022-11-11T12:18:49.010415Z"
    },
    "papermill": {
     "duration": 0.038142,
     "end_time": "2022-11-11T12:18:49.011038",
     "exception": false,
     "start_time": "2022-11-11T12:18:48.972896",
     "status": "completed"
    },
    "tags": []
   },
   "outputs": [],
   "source": [
    "#hide\n",
    "def get_mappings(url):\n",
    "    df = pd.read_csv(url)\n",
    "    return {\n",
    "        'df': df,\n",
    "        'replace.country': dict(df.dropna(subset=['Name']).set_index('Country')['Name']),\n",
    "        'map.continent': dict(df.set_index('Name')['Continent'])\n",
    "    }"
   ]
  },
  {
   "cell_type": "code",
   "execution_count": 5,
   "id": "intimate-machinery",
   "metadata": {
    "execution": {
     "iopub.execute_input": "2022-11-11T12:18:49.077067Z",
     "iopub.status.busy": "2022-11-11T12:18:49.076479Z",
     "iopub.status.idle": "2022-11-11T12:18:49.123112Z",
     "shell.execute_reply": "2022-11-11T12:18:49.122510Z"
    },
    "papermill": {
     "duration": 0.082204,
     "end_time": "2022-11-11T12:18:49.123250",
     "exception": false,
     "start_time": "2022-11-11T12:18:49.041046",
     "status": "completed"
    },
    "tags": []
   },
   "outputs": [],
   "source": [
    "#hide\n",
    "mapping = get_mappings(paths['mapping'])"
   ]
  },
  {
   "cell_type": "code",
   "execution_count": 6,
   "id": "certified-tactics",
   "metadata": {
    "execution": {
     "iopub.execute_input": "2022-11-11T12:18:49.190615Z",
     "iopub.status.busy": "2022-11-11T12:18:49.189896Z",
     "iopub.status.idle": "2022-11-11T12:18:49.192359Z",
     "shell.execute_reply": "2022-11-11T12:18:49.191745Z"
    },
    "papermill": {
     "duration": 0.037841,
     "end_time": "2022-11-11T12:18:49.192472",
     "exception": false,
     "start_time": "2022-11-11T12:18:49.154631",
     "status": "completed"
    },
    "tags": []
   },
   "outputs": [],
   "source": [
    "#hide\n",
    "def get_template(path):\n",
    "    from urllib.parse import urlparse\n",
    "    if bool(urlparse(path).netloc):\n",
    "        from urllib.request import urlopen\n",
    "        return urlopen(path).read().decode('utf8')\n",
    "    return open(path).read()"
   ]
  },
  {
   "cell_type": "code",
   "execution_count": 7,
   "id": "realistic-blast",
   "metadata": {
    "execution": {
     "iopub.execute_input": "2022-11-11T12:18:49.258638Z",
     "iopub.status.busy": "2022-11-11T12:18:49.257922Z",
     "iopub.status.idle": "2022-11-11T12:18:49.259737Z",
     "shell.execute_reply": "2022-11-11T12:18:49.260277Z"
    },
    "papermill": {
     "duration": 0.037959,
     "end_time": "2022-11-11T12:18:49.260430",
     "exception": false,
     "start_time": "2022-11-11T12:18:49.222471",
     "status": "completed"
    },
    "tags": []
   },
   "outputs": [],
   "source": [
    "#hide\n",
    "def get_frame(name):\n",
    "    url = (\n",
    "        'https://raw.githubusercontent.com/CSSEGISandData/COVID-19/master/csse_covid_19_data/'\n",
    "        f'csse_covid_19_time_series/time_series_covid19_{name}_global.csv')\n",
    "    df = pd.read_csv(url)\n",
    "    # rename countries\n",
    "    df['Country/Region'] = df['Country/Region'].replace(mapping['replace.country'])\n",
    "    return df"
   ]
  },
  {
   "cell_type": "code",
   "execution_count": 8,
   "id": "affiliated-characterization",
   "metadata": {
    "execution": {
     "iopub.execute_input": "2022-11-11T12:18:49.330468Z",
     "iopub.status.busy": "2022-11-11T12:18:49.329867Z",
     "iopub.status.idle": "2022-11-11T12:18:49.332312Z",
     "shell.execute_reply": "2022-11-11T12:18:49.332869Z"
    },
    "papermill": {
     "duration": 0.041651,
     "end_time": "2022-11-11T12:18:49.333005",
     "exception": false,
     "start_time": "2022-11-11T12:18:49.291354",
     "status": "completed"
    },
    "tags": []
   },
   "outputs": [],
   "source": [
    "#hide\n",
    "def get_dates(df):\n",
    "    dt_cols = df.columns[~df.columns.isin(['Province/State', 'Country/Region', 'Lat', 'Long'])]\n",
    "    LAST_DATE_I = -1\n",
    "    # sometimes last column may be empty, then go backwards\n",
    "    for i in range(-1, -len(dt_cols), -1):\n",
    "        if not df[dt_cols[i]].fillna(0).eq(0).all():\n",
    "            LAST_DATE_I = i\n",
    "            break\n",
    "    return LAST_DATE_I, dt_cols"
   ]
  },
  {
   "cell_type": "code",
   "execution_count": 9,
   "id": "recent-optimization",
   "metadata": {
    "execution": {
     "iopub.execute_input": "2022-11-11T12:18:49.398995Z",
     "iopub.status.busy": "2022-11-11T12:18:49.398328Z",
     "iopub.status.idle": "2022-11-11T12:18:49.942568Z",
     "shell.execute_reply": "2022-11-11T12:18:49.941965Z"
    },
    "papermill": {
     "duration": 0.579584,
     "end_time": "2022-11-11T12:18:49.942725",
     "exception": false,
     "start_time": "2022-11-11T12:18:49.363141",
     "status": "completed"
    },
    "tags": []
   },
   "outputs": [],
   "source": [
    "#hide\n",
    "COL_REGION = 'Country/Region'\n",
    "# Confirmed, Recovered, Deaths\n",
    "df = get_frame('confirmed')\n",
    "# dft_: timeseries, dfc_: today country agg\n",
    "dft_cases = df\n",
    "dft_deaths = get_frame('deaths')\n",
    "dft_recovered = get_frame('recovered')\n",
    "LAST_DATE_I, dt_cols = get_dates(df)"
   ]
  },
  {
   "cell_type": "code",
   "execution_count": 10,
   "id": "absolute-copper",
   "metadata": {
    "execution": {
     "iopub.execute_input": "2022-11-11T12:18:50.010657Z",
     "iopub.status.busy": "2022-11-11T12:18:50.010055Z",
     "iopub.status.idle": "2022-11-11T12:18:50.012555Z",
     "shell.execute_reply": "2022-11-11T12:18:50.013121Z"
    },
    "papermill": {
     "duration": 0.039064,
     "end_time": "2022-11-11T12:18:50.013262",
     "exception": false,
     "start_time": "2022-11-11T12:18:49.974198",
     "status": "completed"
    },
    "tags": []
   },
   "outputs": [],
   "source": [
    "#hide\n",
    "LAST_DATE_I, dt_cols = get_dates(df)\n",
    "dt_today =dt_cols[LAST_DATE_I]\n",
    "# dt_5day = dt_cols[LAST_DATE_I - 5]\n",
    "dt_yday = dt_cols[LAST_DATE_I - 1]"
   ]
  },
  {
   "cell_type": "code",
   "execution_count": 11,
   "id": "restricted-sheriff",
   "metadata": {
    "execution": {
     "iopub.execute_input": "2022-11-11T12:18:50.080673Z",
     "iopub.status.busy": "2022-11-11T12:18:50.080065Z",
     "iopub.status.idle": "2022-11-11T12:18:50.087544Z",
     "shell.execute_reply": "2022-11-11T12:18:50.088036Z"
    },
    "papermill": {
     "duration": 0.044794,
     "end_time": "2022-11-11T12:18:50.088182",
     "exception": false,
     "start_time": "2022-11-11T12:18:50.043388",
     "status": "completed"
    },
    "tags": []
   },
   "outputs": [],
   "source": [
    "#hide\n",
    "dfc_cases = dft_cases.groupby(COL_REGION)[dt_today].sum()\n",
    "dfc_deaths = dft_deaths.groupby(COL_REGION)[dt_today].sum()\n",
    "# dfp_cases = dft_cases.groupby(COL_REGION)[dt_5day].sum()\n",
    "# dfp_deaths = dft_deaths.groupby(COL_REGION)[dt_5day].sum()\n",
    "dfp_cases = dft_cases.groupby(COL_REGION)[dt_yday].sum()\n",
    "dfp_deaths = dft_deaths.groupby(COL_REGION)[dt_yday].sum()"
   ]
  },
  {
   "cell_type": "code",
   "execution_count": 12,
   "id": "deluxe-hepatitis",
   "metadata": {
    "execution": {
     "iopub.execute_input": "2022-11-11T12:18:50.155360Z",
     "iopub.status.busy": "2022-11-11T12:18:50.154683Z",
     "iopub.status.idle": "2022-11-11T12:18:50.161471Z",
     "shell.execute_reply": "2022-11-11T12:18:50.160921Z"
    },
    "papermill": {
     "duration": 0.04301,
     "end_time": "2022-11-11T12:18:50.161602",
     "exception": false,
     "start_time": "2022-11-11T12:18:50.118592",
     "status": "completed"
    },
    "tags": []
   },
   "outputs": [],
   "source": [
    "#hide\n",
    "df_table = (pd.DataFrame(dict(Cases = dfc_cases, Deaths = dfc_deaths, PCases = dfp_cases, PDeaths = dfp_deaths))\n",
    "            .sort_values(by = ['Cases','Deaths'], ascending = [False, False])\n",
    "            .reset_index())"
   ]
  },
  {
   "cell_type": "code",
   "execution_count": 13,
   "id": "educational-chancellor",
   "metadata": {
    "execution": {
     "iopub.execute_input": "2022-11-11T12:18:50.240756Z",
     "iopub.status.busy": "2022-11-11T12:18:50.240119Z",
     "iopub.status.idle": "2022-11-11T12:18:50.249098Z",
     "shell.execute_reply": "2022-11-11T12:18:50.248636Z"
    },
    "papermill": {
     "duration": 0.057159,
     "end_time": "2022-11-11T12:18:50.249245",
     "exception": false,
     "start_time": "2022-11-11T12:18:50.192086",
     "status": "completed"
    },
    "tags": []
   },
   "outputs": [
    {
     "data": {
      "text/html": [
       "<div>\n",
       "<style scoped>\n",
       "    .dataframe tbody tr th:only-of-type {\n",
       "        vertical-align: middle;\n",
       "    }\n",
       "\n",
       "    .dataframe tbody tr th {\n",
       "        vertical-align: top;\n",
       "    }\n",
       "\n",
       "    .dataframe thead th {\n",
       "        text-align: right;\n",
       "    }\n",
       "</style>\n",
       "<table border=\"1\" class=\"dataframe\">\n",
       "  <thead>\n",
       "    <tr style=\"text-align: right;\">\n",
       "      <th></th>\n",
       "      <th>Country/Region</th>\n",
       "      <th>Cases</th>\n",
       "      <th>Deaths</th>\n",
       "      <th>PCases</th>\n",
       "      <th>PDeaths</th>\n",
       "      <th>Cases (+)</th>\n",
       "      <th>Deaths (+)</th>\n",
       "      <th>Fatality Rate</th>\n",
       "      <th>Continent</th>\n",
       "    </tr>\n",
       "  </thead>\n",
       "  <tbody>\n",
       "    <tr>\n",
       "      <th>0</th>\n",
       "      <td>US</td>\n",
       "      <td>97977357</td>\n",
       "      <td>1074485</td>\n",
       "      <td>97912585</td>\n",
       "      <td>1073940</td>\n",
       "      <td>64772</td>\n",
       "      <td>545</td>\n",
       "      <td>1.10</td>\n",
       "      <td>North America</td>\n",
       "    </tr>\n",
       "    <tr>\n",
       "      <th>1</th>\n",
       "      <td>India</td>\n",
       "      <td>44664810</td>\n",
       "      <td>530520</td>\n",
       "      <td>44660293</td>\n",
       "      <td>530509</td>\n",
       "      <td>4517</td>\n",
       "      <td>11</td>\n",
       "      <td>1.19</td>\n",
       "      <td>Asia</td>\n",
       "    </tr>\n",
       "    <tr>\n",
       "      <th>2</th>\n",
       "      <td>France</td>\n",
       "      <td>37288432</td>\n",
       "      <td>158711</td>\n",
       "      <td>37261364</td>\n",
       "      <td>158658</td>\n",
       "      <td>27068</td>\n",
       "      <td>53</td>\n",
       "      <td>0.43</td>\n",
       "      <td>Europe</td>\n",
       "    </tr>\n",
       "    <tr>\n",
       "      <th>3</th>\n",
       "      <td>Germany</td>\n",
       "      <td>36005025</td>\n",
       "      <td>155403</td>\n",
       "      <td>35971322</td>\n",
       "      <td>155187</td>\n",
       "      <td>33703</td>\n",
       "      <td>216</td>\n",
       "      <td>0.43</td>\n",
       "      <td>Europe</td>\n",
       "    </tr>\n",
       "    <tr>\n",
       "      <th>4</th>\n",
       "      <td>Brazil</td>\n",
       "      <td>34889576</td>\n",
       "      <td>688607</td>\n",
       "      <td>34855492</td>\n",
       "      <td>688395</td>\n",
       "      <td>34084</td>\n",
       "      <td>212</td>\n",
       "      <td>1.97</td>\n",
       "      <td>South America</td>\n",
       "    </tr>\n",
       "  </tbody>\n",
       "</table>\n",
       "</div>"
      ],
      "text/plain": [
       "  Country/Region     Cases   Deaths    PCases  PDeaths  Cases (+)  Deaths (+)  \\\n",
       "0             US  97977357  1074485  97912585  1073940      64772         545   \n",
       "1          India  44664810   530520  44660293   530509       4517          11   \n",
       "2         France  37288432   158711  37261364   158658      27068          53   \n",
       "3        Germany  36005025   155403  35971322   155187      33703         216   \n",
       "4         Brazil  34889576   688607  34855492   688395      34084         212   \n",
       "\n",
       "   Fatality Rate      Continent  \n",
       "0           1.10  North America  \n",
       "1           1.19           Asia  \n",
       "2           0.43         Europe  \n",
       "3           0.43         Europe  \n",
       "4           1.97  South America  "
      ]
     },
     "execution_count": 13,
     "metadata": {},
     "output_type": "execute_result"
    }
   ],
   "source": [
    "#hide\n",
    "for c in 'Cases, Deaths'.split(', '):\n",
    "    df_table[f'{c} (+)'] = (df_table[c] - df_table[f'P{c}']).clip(0)\n",
    "    #Clip ça veut dire, les chiffres negatif sont interdit\n",
    "df_table['Fatality Rate'] = (100* df_table['Deaths']/ df_table['Cases']).round(2)\n",
    "df_table['Continent'] = df_table['Country/Region'].map(mapping['map.continent'])\n",
    "df_table.head(5)"
   ]
  },
  {
   "cell_type": "code",
   "execution_count": 14,
   "id": "aboriginal-bulgaria",
   "metadata": {
    "execution": {
     "iopub.execute_input": "2022-11-11T12:18:50.317722Z",
     "iopub.status.busy": "2022-11-11T12:18:50.317105Z",
     "iopub.status.idle": "2022-11-11T12:18:50.319612Z",
     "shell.execute_reply": "2022-11-11T12:18:50.320187Z"
    },
    "papermill": {
     "duration": 0.040117,
     "end_time": "2022-11-11T12:18:50.320332",
     "exception": false,
     "start_time": "2022-11-11T12:18:50.280215",
     "status": "completed"
    },
    "tags": []
   },
   "outputs": [],
   "source": [
    "#hide\n",
    "#delete problematic countries from table\n",
    "df_table = df_table[~df_table['Country/Region'].isin(['Cape Verde', 'Cruise Ship', 'Kosovo'])]"
   ]
  },
  {
   "cell_type": "code",
   "execution_count": 15,
   "id": "fantastic-effect",
   "metadata": {
    "execution": {
     "iopub.execute_input": "2022-11-11T12:18:50.391247Z",
     "iopub.status.busy": "2022-11-11T12:18:50.390580Z",
     "iopub.status.idle": "2022-11-11T12:18:50.409156Z",
     "shell.execute_reply": "2022-11-11T12:18:50.408554Z"
    },
    "papermill": {
     "duration": 0.05813,
     "end_time": "2022-11-11T12:18:50.409279",
     "exception": false,
     "start_time": "2022-11-11T12:18:50.351149",
     "status": "completed"
    },
    "tags": []
   },
   "outputs": [
    {
     "data": {
      "text/html": [
       "<div>\n",
       "<style scoped>\n",
       "    .dataframe tbody tr th:only-of-type {\n",
       "        vertical-align: middle;\n",
       "    }\n",
       "\n",
       "    .dataframe tbody tr th {\n",
       "        vertical-align: top;\n",
       "    }\n",
       "\n",
       "    .dataframe thead th {\n",
       "        text-align: right;\n",
       "    }\n",
       "</style>\n",
       "<table border=\"1\" class=\"dataframe\">\n",
       "  <thead>\n",
       "    <tr style=\"text-align: right;\">\n",
       "      <th></th>\n",
       "      <th>Country/Region</th>\n",
       "      <th>Cases</th>\n",
       "      <th>Deaths</th>\n",
       "      <th>PCases</th>\n",
       "      <th>PDeaths</th>\n",
       "      <th>Cases (+)</th>\n",
       "      <th>Deaths (+)</th>\n",
       "      <th>Fatality Rate</th>\n",
       "      <th>Continent</th>\n",
       "    </tr>\n",
       "  </thead>\n",
       "  <tbody>\n",
       "    <tr>\n",
       "      <th>0</th>\n",
       "      <td>US</td>\n",
       "      <td>97977357</td>\n",
       "      <td>1074485</td>\n",
       "      <td>97912585</td>\n",
       "      <td>1073940</td>\n",
       "      <td>64772</td>\n",
       "      <td>545</td>\n",
       "      <td>1.1</td>\n",
       "      <td>North America</td>\n",
       "    </tr>\n",
       "    <tr>\n",
       "      <th>1</th>\n",
       "      <td>India</td>\n",
       "      <td>44664810</td>\n",
       "      <td>530520</td>\n",
       "      <td>44660293</td>\n",
       "      <td>530509</td>\n",
       "      <td>4517</td>\n",
       "      <td>11</td>\n",
       "      <td>1.2</td>\n",
       "      <td>Asia</td>\n",
       "    </tr>\n",
       "    <tr>\n",
       "      <th>2</th>\n",
       "      <td>France</td>\n",
       "      <td>37288432</td>\n",
       "      <td>158711</td>\n",
       "      <td>37261364</td>\n",
       "      <td>158658</td>\n",
       "      <td>27068</td>\n",
       "      <td>53</td>\n",
       "      <td>0.4</td>\n",
       "      <td>Europe</td>\n",
       "    </tr>\n",
       "    <tr>\n",
       "      <th>3</th>\n",
       "      <td>Germany</td>\n",
       "      <td>36005025</td>\n",
       "      <td>155403</td>\n",
       "      <td>35971322</td>\n",
       "      <td>155187</td>\n",
       "      <td>33703</td>\n",
       "      <td>216</td>\n",
       "      <td>0.4</td>\n",
       "      <td>Europe</td>\n",
       "    </tr>\n",
       "    <tr>\n",
       "      <th>4</th>\n",
       "      <td>Brazil</td>\n",
       "      <td>34889576</td>\n",
       "      <td>688607</td>\n",
       "      <td>34855492</td>\n",
       "      <td>688395</td>\n",
       "      <td>34084</td>\n",
       "      <td>212</td>\n",
       "      <td>2.0</td>\n",
       "      <td>South America</td>\n",
       "    </tr>\n",
       "  </tbody>\n",
       "</table>\n",
       "</div>"
      ],
      "text/plain": [
       "  Country/Region     Cases   Deaths    PCases  PDeaths  Cases (+)  Deaths (+)  \\\n",
       "0             US  97977357  1074485  97912585  1073940      64772         545   \n",
       "1          India  44664810   530520  44660293   530509       4517          11   \n",
       "2         France  37288432   158711  37261364   158658      27068          53   \n",
       "3        Germany  36005025   155403  35971322   155187      33703         216   \n",
       "4         Brazil  34889576   688607  34855492   688395      34084         212   \n",
       "\n",
       "   Fatality Rate      Continent  \n",
       "0            1.1  North America  \n",
       "1            1.2           Asia  \n",
       "2            0.4         Europe  \n",
       "3            0.4         Europe  \n",
       "4            2.0  South America  "
      ]
     },
     "execution_count": 15,
     "metadata": {},
     "output_type": "execute_result"
    }
   ],
   "source": [
    "#hide\n",
    "df_table = (pd.DataFrame(dict(Cases=dfc_cases, Deaths=dfc_deaths, PCases=dfp_cases, PDeaths=dfp_deaths))\n",
    "             .sort_values(by=['Cases', 'Deaths'], ascending=[False, False])\n",
    "             .reset_index())\n",
    "df_table.rename(columns={'index': 'Country/Region'}, inplace=True)\n",
    "for c in 'Cases, Deaths'.split(', '):\n",
    "    df_table[f'{c} (+)'] = (df_table[c] - df_table[f'P{c}']).clip(0)  # DATA BUG\n",
    "df_table['Fatality Rate'] = (100 * df_table['Deaths'] / df_table['Cases']).round(1)\n",
    "df_table['Continent'] = df_table['Country/Region'].map(mapping['map.continent'])\n",
    "df_table.head(5)"
   ]
  },
  {
   "cell_type": "code",
   "execution_count": 16,
   "id": "fewer-occasion",
   "metadata": {
    "execution": {
     "iopub.execute_input": "2022-11-11T12:18:50.478948Z",
     "iopub.status.busy": "2022-11-11T12:18:50.478319Z",
     "iopub.status.idle": "2022-11-11T12:18:50.480753Z",
     "shell.execute_reply": "2022-11-11T12:18:50.481327Z"
    },
    "papermill": {
     "duration": 0.040537,
     "end_time": "2022-11-11T12:18:50.481468",
     "exception": false,
     "start_time": "2022-11-11T12:18:50.440931",
     "status": "completed"
    },
    "tags": []
   },
   "outputs": [],
   "source": [
    "#hide\n",
    "#delete problematic countries from table\n",
    "df_table = df_table[~df_table['Country/Region'].isin(['Cape Verde', 'Cruise Ship', 'Kosovo'])]"
   ]
  },
  {
   "cell_type": "code",
   "execution_count": 17,
   "id": "related-center",
   "metadata": {
    "execution": {
     "iopub.execute_input": "2022-11-11T12:18:50.558079Z",
     "iopub.status.busy": "2022-11-11T12:18:50.557451Z",
     "iopub.status.idle": "2022-11-11T12:18:50.566181Z",
     "shell.execute_reply": "2022-11-11T12:18:50.565702Z"
    },
    "papermill": {
     "duration": 0.053689,
     "end_time": "2022-11-11T12:18:50.566311",
     "exception": false,
     "start_time": "2022-11-11T12:18:50.512622",
     "status": "completed"
    },
    "tags": []
   },
   "outputs": [],
   "source": [
    "#hide\n",
    "metrics = [df_table.columns[index] for index in [1,2,5,6]]\n",
    "# s_china = df_table[df_table['Country/Region'].eq('China')][metrics].sum().add_prefix('China ')\n",
    "s_us = df_table[df_table['Country/Region'].eq('US')][metrics].sum().add_prefix('US ')\n",
    "s_eu = df_table[df_table['Continent'].eq('Europe')][metrics].sum().add_prefix('EU ')\n",
    "s_ind = df_table[df_table['Country/Region'].eq('India')][metrics].sum().add_prefix('India ')\n",
    "summary = {'updated': pd.to_datetime(dt_today), 'since': pd.to_datetime(dt_yday)}\n",
    "summary = {'updated': pd.to_datetime(dt_today), 'since': pd.to_datetime(dt_yday)}\n",
    "summary = {**summary, **df_table[metrics].sum(), **s_ind, **s_us, **s_eu}"
   ]
  },
  {
   "cell_type": "code",
   "execution_count": 18,
   "id": "engaging-syndrome",
   "metadata": {
    "execution": {
     "iopub.execute_input": "2022-11-11T12:18:50.635856Z",
     "iopub.status.busy": "2022-11-11T12:18:50.635213Z",
     "iopub.status.idle": "2022-11-11T12:18:50.659053Z",
     "shell.execute_reply": "2022-11-11T12:18:50.658531Z"
    },
    "papermill": {
     "duration": 0.061021,
     "end_time": "2022-11-11T12:18:50.659190",
     "exception": false,
     "start_time": "2022-11-11T12:18:50.598169",
     "status": "completed"
    },
    "tags": []
   },
   "outputs": [],
   "source": [
    "#hide\n",
    "dft_ct_new_cases = dft_cases.groupby(COL_REGION)[dt_cols].sum().diff(axis=1).fillna(0).astype(int)"
   ]
  },
  {
   "cell_type": "code",
   "execution_count": 19,
   "id": "neutral-assignment",
   "metadata": {
    "execution": {
     "iopub.execute_input": "2022-11-11T12:18:50.729520Z",
     "iopub.status.busy": "2022-11-11T12:18:50.728920Z",
     "iopub.status.idle": "2022-11-11T12:18:50.731241Z",
     "shell.execute_reply": "2022-11-11T12:18:50.731796Z"
    },
    "papermill": {
     "duration": 0.04137,
     "end_time": "2022-11-11T12:18:50.731940",
     "exception": false,
     "start_time": "2022-11-11T12:18:50.690570",
     "status": "completed"
    },
    "tags": []
   },
   "outputs": [],
   "source": [
    "#hide\n",
    "everydaycases = dft_ct_new_cases.cumsum(axis=1)"
   ]
  },
  {
   "cell_type": "code",
   "execution_count": 20,
   "id": "parliamentary-calgary",
   "metadata": {
    "execution": {
     "iopub.execute_input": "2022-11-11T12:18:50.800162Z",
     "iopub.status.busy": "2022-11-11T12:18:50.799537Z",
     "iopub.status.idle": "2022-11-11T12:18:51.362986Z",
     "shell.execute_reply": "2022-11-11T12:18:51.362391Z"
    },
    "papermill": {
     "duration": 0.599706,
     "end_time": "2022-11-11T12:18:51.363135",
     "exception": false,
     "start_time": "2022-11-11T12:18:50.763429",
     "status": "completed"
    },
    "tags": []
   },
   "outputs": [],
   "source": [
    "#hide\n",
    "import pandas as pd\n",
    "import matplotlib.pyplot as plt\n",
    "import matplotlib.ticker as ticker\n",
    "import matplotlib.animation as animation\n",
    "from IPython.display import HTML"
   ]
  },
  {
   "cell_type": "code",
   "execution_count": 21,
   "id": "lasting-extraction",
   "metadata": {
    "execution": {
     "iopub.execute_input": "2022-11-11T12:18:51.433839Z",
     "iopub.status.busy": "2022-11-11T12:18:51.433196Z",
     "iopub.status.idle": "2022-11-11T12:18:51.441864Z",
     "shell.execute_reply": "2022-11-11T12:18:51.441375Z"
    },
    "papermill": {
     "duration": 0.047409,
     "end_time": "2022-11-11T12:18:51.441992",
     "exception": false,
     "start_time": "2022-11-11T12:18:51.394583",
     "status": "completed"
    },
    "tags": []
   },
   "outputs": [],
   "source": [
    "#hide\n",
    "t = everydaycases.stack()"
   ]
  },
  {
   "cell_type": "code",
   "execution_count": 22,
   "id": "premier-sleeve",
   "metadata": {
    "execution": {
     "iopub.execute_input": "2022-11-11T12:18:51.510619Z",
     "iopub.status.busy": "2022-11-11T12:18:51.510013Z",
     "iopub.status.idle": "2022-11-11T12:18:51.523910Z",
     "shell.execute_reply": "2022-11-11T12:18:51.523402Z"
    },
    "papermill": {
     "duration": 0.050371,
     "end_time": "2022-11-11T12:18:51.524036",
     "exception": false,
     "start_time": "2022-11-11T12:18:51.473665",
     "status": "completed"
    },
    "tags": []
   },
   "outputs": [],
   "source": [
    "#hide\n",
    "g = t.reset_index(['Country/Region'])"
   ]
  },
  {
   "cell_type": "code",
   "execution_count": 23,
   "id": "distributed-pittsburgh",
   "metadata": {
    "execution": {
     "iopub.execute_input": "2022-11-11T12:18:51.590848Z",
     "iopub.status.busy": "2022-11-11T12:18:51.590222Z",
     "iopub.status.idle": "2022-11-11T12:18:51.592857Z",
     "shell.execute_reply": "2022-11-11T12:18:51.592282Z"
    },
    "papermill": {
     "duration": 0.037943,
     "end_time": "2022-11-11T12:18:51.592978",
     "exception": false,
     "start_time": "2022-11-11T12:18:51.555035",
     "status": "completed"
    },
    "tags": []
   },
   "outputs": [],
   "source": [
    "#hide\n",
    "g.index.name = 'date'"
   ]
  },
  {
   "cell_type": "code",
   "execution_count": 24,
   "id": "naked-donor",
   "metadata": {
    "execution": {
     "iopub.execute_input": "2022-11-11T12:18:51.660566Z",
     "iopub.status.busy": "2022-11-11T12:18:51.659859Z",
     "iopub.status.idle": "2022-11-11T12:18:51.662396Z",
     "shell.execute_reply": "2022-11-11T12:18:51.661935Z"
    },
    "papermill": {
     "duration": 0.037615,
     "end_time": "2022-11-11T12:18:51.662515",
     "exception": false,
     "start_time": "2022-11-11T12:18:51.624900",
     "status": "completed"
    },
    "tags": []
   },
   "outputs": [],
   "source": [
    "# #hide\n",
    "# g = g.reset_index(['date'])"
   ]
  },
  {
   "cell_type": "code",
   "execution_count": 25,
   "id": "incomplete-mustang",
   "metadata": {
    "execution": {
     "iopub.execute_input": "2022-11-11T12:18:51.729323Z",
     "iopub.status.busy": "2022-11-11T12:18:51.728615Z",
     "iopub.status.idle": "2022-11-11T12:18:51.731288Z",
     "shell.execute_reply": "2022-11-11T12:18:51.730615Z"
    },
    "papermill": {
     "duration": 0.037773,
     "end_time": "2022-11-11T12:18:51.731421",
     "exception": false,
     "start_time": "2022-11-11T12:18:51.693648",
     "status": "completed"
    },
    "tags": []
   },
   "outputs": [],
   "source": [
    "#hide\n",
    "# g.head()"
   ]
  },
  {
   "cell_type": "code",
   "execution_count": 26,
   "id": "specific-kruger",
   "metadata": {
    "execution": {
     "iopub.execute_input": "2022-11-11T12:18:51.800213Z",
     "iopub.status.busy": "2022-11-11T12:18:51.799613Z",
     "iopub.status.idle": "2022-11-11T12:18:51.801971Z",
     "shell.execute_reply": "2022-11-11T12:18:51.802396Z"
    },
    "papermill": {
     "duration": 0.039706,
     "end_time": "2022-11-11T12:18:51.802538",
     "exception": false,
     "start_time": "2022-11-11T12:18:51.762832",
     "status": "completed"
    },
    "tags": []
   },
   "outputs": [],
   "source": [
    "#hide\n",
    "# g.columns = ['date','country','cases']"
   ]
  },
  {
   "cell_type": "code",
   "execution_count": 27,
   "id": "tender-conversion",
   "metadata": {
    "execution": {
     "iopub.execute_input": "2022-11-11T12:18:51.869444Z",
     "iopub.status.busy": "2022-11-11T12:18:51.868727Z",
     "iopub.status.idle": "2022-11-11T12:18:51.870603Z",
     "shell.execute_reply": "2022-11-11T12:18:51.871146Z"
    },
    "papermill": {
     "duration": 0.037597,
     "end_time": "2022-11-11T12:18:51.871298",
     "exception": false,
     "start_time": "2022-11-11T12:18:51.833701",
     "status": "completed"
    },
    "tags": []
   },
   "outputs": [],
   "source": [
    "#hide\n",
    "# g['continent'] = g.country"
   ]
  },
  {
   "cell_type": "code",
   "execution_count": 28,
   "id": "substantial-wilderness",
   "metadata": {
    "execution": {
     "iopub.execute_input": "2022-11-11T12:18:51.939562Z",
     "iopub.status.busy": "2022-11-11T12:18:51.938930Z",
     "iopub.status.idle": "2022-11-11T12:18:51.941103Z",
     "shell.execute_reply": "2022-11-11T12:18:51.941526Z"
    },
    "papermill": {
     "duration": 0.037522,
     "end_time": "2022-11-11T12:18:51.941666",
     "exception": false,
     "start_time": "2022-11-11T12:18:51.904144",
     "status": "completed"
    },
    "tags": []
   },
   "outputs": [],
   "source": [
    "#hide\n",
    "# cols = list(g.columns.values)"
   ]
  },
  {
   "cell_type": "code",
   "execution_count": 29,
   "id": "solved-farming",
   "metadata": {
    "execution": {
     "iopub.execute_input": "2022-11-11T12:18:52.008550Z",
     "iopub.status.busy": "2022-11-11T12:18:52.007834Z",
     "iopub.status.idle": "2022-11-11T12:18:52.009566Z",
     "shell.execute_reply": "2022-11-11T12:18:52.010042Z"
    },
    "papermill": {
     "duration": 0.037368,
     "end_time": "2022-11-11T12:18:52.010177",
     "exception": false,
     "start_time": "2022-11-11T12:18:51.972809",
     "status": "completed"
    },
    "tags": []
   },
   "outputs": [],
   "source": [
    "#hide\n",
    "# cols.insert(0, cols.pop())"
   ]
  },
  {
   "cell_type": "code",
   "execution_count": 30,
   "id": "executed-adoption",
   "metadata": {
    "execution": {
     "iopub.execute_input": "2022-11-11T12:18:52.077181Z",
     "iopub.status.busy": "2022-11-11T12:18:52.076454Z",
     "iopub.status.idle": "2022-11-11T12:18:52.078257Z",
     "shell.execute_reply": "2022-11-11T12:18:52.078803Z"
    },
    "papermill": {
     "duration": 0.037435,
     "end_time": "2022-11-11T12:18:52.078980",
     "exception": false,
     "start_time": "2022-11-11T12:18:52.041545",
     "status": "completed"
    },
    "tags": []
   },
   "outputs": [],
   "source": [
    "#hide\n",
    "# g = g[cols]"
   ]
  },
  {
   "cell_type": "code",
   "execution_count": 31,
   "id": "subject-dublin",
   "metadata": {
    "execution": {
     "iopub.execute_input": "2022-11-11T12:18:52.145516Z",
     "iopub.status.busy": "2022-11-11T12:18:52.144930Z",
     "iopub.status.idle": "2022-11-11T12:18:52.147189Z",
     "shell.execute_reply": "2022-11-11T12:18:52.147746Z"
    },
    "papermill": {
     "duration": 0.037676,
     "end_time": "2022-11-11T12:18:52.147881",
     "exception": false,
     "start_time": "2022-11-11T12:18:52.110205",
     "status": "completed"
    },
    "tags": []
   },
   "outputs": [],
   "source": [
    "#hide\n",
    "# g['continent'] = g['continent'].map(mapping['map.continent'])"
   ]
  },
  {
   "cell_type": "code",
   "execution_count": 32,
   "id": "freelance-scout",
   "metadata": {
    "execution": {
     "iopub.execute_input": "2022-11-11T12:18:52.214827Z",
     "iopub.status.busy": "2022-11-11T12:18:52.214201Z",
     "iopub.status.idle": "2022-11-11T12:18:52.216211Z",
     "shell.execute_reply": "2022-11-11T12:18:52.216672Z"
    },
    "papermill": {
     "duration": 0.037729,
     "end_time": "2022-11-11T12:18:52.216814",
     "exception": false,
     "start_time": "2022-11-11T12:18:52.179085",
     "status": "completed"
    },
    "tags": []
   },
   "outputs": [],
   "source": [
    "#hide\n",
    "# g.head()"
   ]
  },
  {
   "cell_type": "code",
   "execution_count": 33,
   "id": "limited-engine",
   "metadata": {
    "execution": {
     "iopub.execute_input": "2022-11-11T12:18:52.283831Z",
     "iopub.status.busy": "2022-11-11T12:18:52.283112Z",
     "iopub.status.idle": "2022-11-11T12:18:52.284872Z",
     "shell.execute_reply": "2022-11-11T12:18:52.285397Z"
    },
    "papermill": {
     "duration": 0.037396,
     "end_time": "2022-11-11T12:18:52.285537",
     "exception": false,
     "start_time": "2022-11-11T12:18:52.248141",
     "status": "completed"
    },
    "tags": []
   },
   "outputs": [],
   "source": [
    "# hide\n",
    "# g['date'] = g['date'].astype('datetime64[ns]')"
   ]
  },
  {
   "cell_type": "code",
   "execution_count": 34,
   "id": "sophisticated-supervisor",
   "metadata": {
    "execution": {
     "iopub.execute_input": "2022-11-11T12:18:52.352458Z",
     "iopub.status.busy": "2022-11-11T12:18:52.351875Z",
     "iopub.status.idle": "2022-11-11T12:18:52.354147Z",
     "shell.execute_reply": "2022-11-11T12:18:52.354703Z"
    },
    "papermill": {
     "duration": 0.03775,
     "end_time": "2022-11-11T12:18:52.354833",
     "exception": false,
     "start_time": "2022-11-11T12:18:52.317083",
     "status": "completed"
    },
    "tags": []
   },
   "outputs": [],
   "source": [
    "#hide\n",
    "# g['date'] = g.date.dt.dayofyear"
   ]
  },
  {
   "cell_type": "code",
   "execution_count": 35,
   "id": "inside-dubai",
   "metadata": {
    "execution": {
     "iopub.execute_input": "2022-11-11T12:18:52.421634Z",
     "iopub.status.busy": "2022-11-11T12:18:52.420927Z",
     "iopub.status.idle": "2022-11-11T12:18:52.423491Z",
     "shell.execute_reply": "2022-11-11T12:18:52.422799Z"
    },
    "papermill": {
     "duration": 0.037738,
     "end_time": "2022-11-11T12:18:52.423625",
     "exception": false,
     "start_time": "2022-11-11T12:18:52.385887",
     "status": "completed"
    },
    "tags": []
   },
   "outputs": [],
   "source": [
    "#hide\n",
    "# g = g.rename(columns= {'continent':'group','country':'name','cases':'value'})"
   ]
  },
  {
   "cell_type": "code",
   "execution_count": 36,
   "id": "fleet-motorcycle",
   "metadata": {
    "execution": {
     "iopub.execute_input": "2022-11-11T12:18:52.491382Z",
     "iopub.status.busy": "2022-11-11T12:18:52.490722Z",
     "iopub.status.idle": "2022-11-11T12:18:52.493242Z",
     "shell.execute_reply": "2022-11-11T12:18:52.492772Z"
    },
    "papermill": {
     "duration": 0.037693,
     "end_time": "2022-11-11T12:18:52.493357",
     "exception": false,
     "start_time": "2022-11-11T12:18:52.455664",
     "status": "completed"
    },
    "tags": []
   },
   "outputs": [],
   "source": [
    "#hide\n",
    "# cols = ['name','group','day','value']"
   ]
  },
  {
   "cell_type": "code",
   "execution_count": 37,
   "id": "continued-sleeping",
   "metadata": {
    "execution": {
     "iopub.execute_input": "2022-11-11T12:18:52.559793Z",
     "iopub.status.busy": "2022-11-11T12:18:52.559187Z",
     "iopub.status.idle": "2022-11-11T12:18:52.561609Z",
     "shell.execute_reply": "2022-11-11T12:18:52.562033Z"
    },
    "papermill": {
     "duration": 0.037793,
     "end_time": "2022-11-11T12:18:52.562176",
     "exception": false,
     "start_time": "2022-11-11T12:18:52.524383",
     "status": "completed"
    },
    "tags": []
   },
   "outputs": [],
   "source": [
    "#hide\n",
    "# g.rename(columns= {'date':'day'},inplace = True)"
   ]
  },
  {
   "cell_type": "code",
   "execution_count": 38,
   "id": "major-fight",
   "metadata": {
    "execution": {
     "iopub.execute_input": "2022-11-11T12:18:52.629746Z",
     "iopub.status.busy": "2022-11-11T12:18:52.629035Z",
     "iopub.status.idle": "2022-11-11T12:18:52.631611Z",
     "shell.execute_reply": "2022-11-11T12:18:52.630931Z"
    },
    "papermill": {
     "duration": 0.038289,
     "end_time": "2022-11-11T12:18:52.631749",
     "exception": false,
     "start_time": "2022-11-11T12:18:52.593460",
     "status": "completed"
    },
    "tags": []
   },
   "outputs": [],
   "source": [
    "#hide\n",
    "# g = g[cols]"
   ]
  },
  {
   "cell_type": "code",
   "execution_count": 39,
   "id": "structured-mobile",
   "metadata": {
    "execution": {
     "iopub.execute_input": "2022-11-11T12:18:52.698558Z",
     "iopub.status.busy": "2022-11-11T12:18:52.697934Z",
     "iopub.status.idle": "2022-11-11T12:18:52.700607Z",
     "shell.execute_reply": "2022-11-11T12:18:52.700125Z"
    },
    "papermill": {
     "duration": 0.037491,
     "end_time": "2022-11-11T12:18:52.700721",
     "exception": false,
     "start_time": "2022-11-11T12:18:52.663230",
     "status": "completed"
    },
    "tags": []
   },
   "outputs": [],
   "source": [
    "# #hide\n",
    "# g = g[g.group.notna()]"
   ]
  },
  {
   "cell_type": "code",
   "execution_count": 40,
   "id": "determined-closing",
   "metadata": {
    "execution": {
     "iopub.execute_input": "2022-11-11T12:18:52.768193Z",
     "iopub.status.busy": "2022-11-11T12:18:52.767493Z",
     "iopub.status.idle": "2022-11-11T12:18:52.771403Z",
     "shell.execute_reply": "2022-11-11T12:18:52.771832Z"
    },
    "papermill": {
     "duration": 0.039965,
     "end_time": "2022-11-11T12:18:52.771979",
     "exception": false,
     "start_time": "2022-11-11T12:18:52.732014",
     "status": "completed"
    },
    "tags": []
   },
   "outputs": [],
   "source": [
    "# #hide\n",
    "# colors = dict(zip(\n",
    "#     [\"Oceania\", \"Europe\", \"Asia\", \"South America\", \"Middle East\", \"North America\", \"Africa\"],\n",
    "#     [\"#adb0ff\", \"#ffb3ff\", \"#90d595\", \"#e48381\", \"#aafbff\", \"#f7bb5f\", \"#eafb50\"]\n",
    "# ))\n",
    "# group_lk = g.set_index('name')['group'].to_dict()"
   ]
  },
  {
   "cell_type": "code",
   "execution_count": null,
   "id": "gross-drinking",
   "metadata": {
    "papermill": {
     "duration": 0.030959,
     "end_time": "2022-11-11T12:18:52.834045",
     "exception": false,
     "start_time": "2022-11-11T12:18:52.803086",
     "status": "completed"
    },
    "tags": []
   },
   "outputs": [],
   "source": []
  },
  {
   "cell_type": "code",
   "execution_count": 41,
   "id": "subject-macintosh",
   "metadata": {
    "execution": {
     "iopub.execute_input": "2022-11-11T12:18:52.901487Z",
     "iopub.status.busy": "2022-11-11T12:18:52.900869Z",
     "iopub.status.idle": "2022-11-11T12:18:52.903325Z",
     "shell.execute_reply": "2022-11-11T12:18:52.903783Z"
    },
    "papermill": {
     "duration": 0.03857,
     "end_time": "2022-11-11T12:18:52.903919",
     "exception": false,
     "start_time": "2022-11-11T12:18:52.865349",
     "status": "completed"
    },
    "tags": []
   },
   "outputs": [],
   "source": [
    "# #hide\n",
    "# fig, ax = plt.subplots(figsize=(15, 8))\n",
    "\n",
    "# def draw_barchart(current_day):\n",
    "#     dff = g[g['day'].eq(current_day)].sort_values(by='value', ascending=True).tail(10)\n",
    "#     ax.clear()\n",
    "#     ax.barh(dff['name'], dff['value'], color=[colors[group_lk[x]] for x in dff['name']])\n",
    "#     dx = dff['value'].max() / 200\n",
    "    \n",
    "#     for i, (value, name) in enumerate(zip(dff['value'], dff['name'])):\n",
    "#         ax.text(value-dx, i,     name,           size=14, weight=600, ha='right', va='bottom')\n",
    "#         ax.text(value-dx, i-.25, group_lk[name], size=10, color='#444444', ha='right', va='baseline')\n",
    "#         ax.text(value+dx, i,     f'{value:,.0f}',  size=14, ha='left',  va='center')\n",
    "#     ax.text(1, 0.4, current_day, transform=ax.transAxes, color='#777777', size=46, ha='right', weight=800)\n",
    "#     ax.text(0, 1.06, 'Population (thousands)', transform=ax.transAxes, size=12, color='#777777')\n",
    "#     ax.xaxis.set_major_formatter(ticker.StrMethodFormatter('{x:,.0f}'))\n",
    "#     ax.xaxis.set_ticks_position('top')\n",
    "#     ax.tick_params(axis='x', colors='#777777', labelsize=12)\n",
    "#     ax.set_yticks([])\n",
    "#     ax.margins(0, 0.01)\n",
    "#     ax.grid(which='major', axis='x', linestyle='-')\n",
    "#     ax.set_axisbelow(True)\n",
    "    \n",
    "#     ax.text(0, 1.15, 'Coronavirus',\n",
    "#             transform=ax.transAxes, size=24, weight=600, ha='left', va='top')\n",
    "# #     ax.text(1, 0, 'by @pratapvardhan; credit @jburnmurdoch', transform=ax.transAxes, color='#777777', ha='right',\n",
    "# #             bbox=dict(facecolor='white', alpha=0.8, edgecolor='white'))\n",
    "#     plt.box(False)"
   ]
  },
  {
   "cell_type": "code",
   "execution_count": 42,
   "id": "sexual-wages",
   "metadata": {
    "execution": {
     "iopub.execute_input": "2022-11-11T12:18:52.970746Z",
     "iopub.status.busy": "2022-11-11T12:18:52.970020Z",
     "iopub.status.idle": "2022-11-11T12:18:52.972595Z",
     "shell.execute_reply": "2022-11-11T12:18:52.971943Z"
    },
    "papermill": {
     "duration": 0.037733,
     "end_time": "2022-11-11T12:18:52.972726",
     "exception": false,
     "start_time": "2022-11-11T12:18:52.934993",
     "status": "completed"
    },
    "tags": []
   },
   "outputs": [],
   "source": [
    "# #hide_input\n",
    "# fig, ax = plt.subplots(figsize=(15, 8))\n",
    "# animator = animation.FuncAnimation(fig, draw_barchart, frames=range(g.day.values.min(), g.day.values.max()))\n",
    "# HTML(animator.to_jshtml())\n",
    "# # or use animator.to_html5_video() or animator.save() "
   ]
  },
  {
   "cell_type": "code",
   "execution_count": null,
   "id": "australian-container",
   "metadata": {
    "papermill": {
     "duration": 0.031226,
     "end_time": "2022-11-11T12:18:53.035495",
     "exception": false,
     "start_time": "2022-11-11T12:18:53.004269",
     "status": "completed"
    },
    "tags": []
   },
   "outputs": [],
   "source": []
  },
  {
   "cell_type": "code",
   "execution_count": null,
   "id": "mediterranean-pontiac",
   "metadata": {
    "papermill": {
     "duration": 0.030944,
     "end_time": "2022-11-11T12:18:53.097474",
     "exception": false,
     "start_time": "2022-11-11T12:18:53.066530",
     "status": "completed"
    },
    "tags": []
   },
   "outputs": [],
   "source": []
  },
  {
   "cell_type": "code",
   "execution_count": null,
   "id": "aging-legislature",
   "metadata": {
    "papermill": {
     "duration": 0.031049,
     "end_time": "2022-11-11T12:18:53.160001",
     "exception": false,
     "start_time": "2022-11-11T12:18:53.128952",
     "status": "completed"
    },
    "tags": []
   },
   "outputs": [],
   "source": []
  }
 ],
 "metadata": {
  "kernelspec": {
   "display_name": "Python 3",
   "language": "python",
   "name": "python3"
  },
  "language_info": {
   "codemirror_mode": {
    "name": "ipython",
    "version": 3
   },
   "file_extension": ".py",
   "mimetype": "text/x-python",
   "name": "python",
   "nbconvert_exporter": "python",
   "pygments_lexer": "ipython3",
   "version": "3.6.15"
  },
  "papermill": {
   "duration": 6.306438,
   "end_time": "2022-11-11T12:18:53.609670",
   "environment_variables": {},
   "exception": null,
   "input_path": "2020-03-21-covid19exp.ipynb",
   "output_path": "2020-03-21-covid19exp.ipynb",
   "parameters": {},
   "start_time": "2022-11-11T12:18:47.303232",
   "version": "2.0.0"
  }
 },
 "nbformat": 4,
 "nbformat_minor": 5
}