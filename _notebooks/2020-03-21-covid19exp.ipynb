{
 "cells": [
  {
   "cell_type": "markdown",
   "id": "muslim-click",
   "metadata": {
    "papermill": {
     "duration": 0.039502,
     "end_time": "2021-06-13T12:09:46.003106",
     "exception": false,
     "start_time": "2021-06-13T12:09:45.963604",
     "status": "completed"
    },
    "tags": []
   },
   "source": [
    "# COVID-19 Case Race\n",
    "> A race chart to see rising cases around the world\n",
    "\n",
    "- author: Hargun Oberoi\n",
    "- image: images/covid-overview.png\n",
    "- hide: false\n",
    "- badges: false"
   ]
  },
  {
   "cell_type": "code",
   "execution_count": 1,
   "id": "proof-material",
   "metadata": {
    "execution": {
     "iopub.execute_input": "2021-06-13T12:09:46.087845Z",
     "iopub.status.busy": "2021-06-13T12:09:46.087196Z",
     "iopub.status.idle": "2021-06-13T12:09:46.450597Z",
     "shell.execute_reply": "2021-06-13T12:09:46.450051Z"
    },
    "papermill": {
     "duration": 0.412058,
     "end_time": "2021-06-13T12:09:46.450802",
     "exception": false,
     "start_time": "2021-06-13T12:09:46.038744",
     "status": "completed"
    },
    "tags": []
   },
   "outputs": [],
   "source": [
    "#hide\n",
    "import numpy as np\n",
    "import pandas as pd\n",
    "from jinja2 import Template\n",
    "from IPython.display import HTML"
   ]
  },
  {
   "cell_type": "code",
   "execution_count": 2,
   "id": "developed-terminology",
   "metadata": {
    "execution": {
     "iopub.execute_input": "2021-06-13T12:09:46.527885Z",
     "iopub.status.busy": "2021-06-13T12:09:46.527244Z",
     "iopub.status.idle": "2021-06-13T12:09:46.529086Z",
     "shell.execute_reply": "2021-06-13T12:09:46.529604Z"
    },
    "papermill": {
     "duration": 0.041756,
     "end_time": "2021-06-13T12:09:46.529732",
     "exception": false,
     "start_time": "2021-06-13T12:09:46.487976",
     "status": "completed"
    },
    "tags": []
   },
   "outputs": [],
   "source": [
    "#hide\n",
    "\n",
    "# FETCH\n",
    "base_url = 'https://raw.githubusercontent.com/pratapvardhan/notebooks/master/covid19/'\n",
    "paths = {\n",
    "    'mapping': base_url + 'mapping_countries.csv',\n",
    "    'overview': base_url + 'overview.tpl'\n",
    "}"
   ]
  },
  {
   "cell_type": "code",
   "execution_count": 3,
   "id": "dynamic-saver",
   "metadata": {
    "execution": {
     "iopub.execute_input": "2021-06-13T12:09:46.605583Z",
     "iopub.status.busy": "2021-06-13T12:09:46.604977Z",
     "iopub.status.idle": "2021-06-13T12:09:46.610519Z",
     "shell.execute_reply": "2021-06-13T12:09:46.611081Z"
    },
    "papermill": {
     "duration": 0.047048,
     "end_time": "2021-06-13T12:09:46.611201",
     "exception": false,
     "start_time": "2021-06-13T12:09:46.564153",
     "status": "completed"
    },
    "tags": []
   },
   "outputs": [
    {
     "data": {
      "text/plain": [
       "'https://raw.githubusercontent.com/pratapvardhan/notebooks/master/covid19/mapping_countries.csv'"
      ]
     },
     "execution_count": 3,
     "metadata": {},
     "output_type": "execute_result"
    }
   ],
   "source": [
    "#hide\n",
    "paths['mapping']"
   ]
  },
  {
   "cell_type": "code",
   "execution_count": 4,
   "id": "urban-software",
   "metadata": {
    "execution": {
     "iopub.execute_input": "2021-06-13T12:09:46.687320Z",
     "iopub.status.busy": "2021-06-13T12:09:46.686703Z",
     "iopub.status.idle": "2021-06-13T12:09:46.689071Z",
     "shell.execute_reply": "2021-06-13T12:09:46.688563Z"
    },
    "papermill": {
     "duration": 0.041554,
     "end_time": "2021-06-13T12:09:46.689208",
     "exception": false,
     "start_time": "2021-06-13T12:09:46.647654",
     "status": "completed"
    },
    "tags": []
   },
   "outputs": [],
   "source": [
    "#hide\n",
    "def get_mappings(url):\n",
    "    df = pd.read_csv(url)\n",
    "    return {\n",
    "        'df': df,\n",
    "        'replace.country': dict(df.dropna(subset=['Name']).set_index('Country')['Name']),\n",
    "        'map.continent': dict(df.set_index('Name')['Continent'])\n",
    "    }"
   ]
  },
  {
   "cell_type": "code",
   "execution_count": 5,
   "id": "intimate-machinery",
   "metadata": {
    "execution": {
     "iopub.execute_input": "2021-06-13T12:09:46.769694Z",
     "iopub.status.busy": "2021-06-13T12:09:46.769024Z",
     "iopub.status.idle": "2021-06-13T12:09:46.820387Z",
     "shell.execute_reply": "2021-06-13T12:09:46.820863Z"
    },
    "papermill": {
     "duration": 0.094755,
     "end_time": "2021-06-13T12:09:46.821025",
     "exception": false,
     "start_time": "2021-06-13T12:09:46.726270",
     "status": "completed"
    },
    "tags": []
   },
   "outputs": [],
   "source": [
    "#hide\n",
    "mapping = get_mappings(paths['mapping'])"
   ]
  },
  {
   "cell_type": "code",
   "execution_count": 6,
   "id": "certified-tactics",
   "metadata": {
    "execution": {
     "iopub.execute_input": "2021-06-13T12:09:46.896920Z",
     "iopub.status.busy": "2021-06-13T12:09:46.895506Z",
     "iopub.status.idle": "2021-06-13T12:09:46.898792Z",
     "shell.execute_reply": "2021-06-13T12:09:46.898313Z"
    },
    "papermill": {
     "duration": 0.041942,
     "end_time": "2021-06-13T12:09:46.898904",
     "exception": false,
     "start_time": "2021-06-13T12:09:46.856962",
     "status": "completed"
    },
    "tags": []
   },
   "outputs": [],
   "source": [
    "#hide\n",
    "def get_template(path):\n",
    "    from urllib.parse import urlparse\n",
    "    if bool(urlparse(path).netloc):\n",
    "        from urllib.request import urlopen\n",
    "        return urlopen(path).read().decode('utf8')\n",
    "    return open(path).read()"
   ]
  },
  {
   "cell_type": "code",
   "execution_count": 7,
   "id": "realistic-blast",
   "metadata": {
    "execution": {
     "iopub.execute_input": "2021-06-13T12:09:46.977275Z",
     "iopub.status.busy": "2021-06-13T12:09:46.976476Z",
     "iopub.status.idle": "2021-06-13T12:09:46.978453Z",
     "shell.execute_reply": "2021-06-13T12:09:46.979032Z"
    },
    "papermill": {
     "duration": 0.047031,
     "end_time": "2021-06-13T12:09:46.979175",
     "exception": false,
     "start_time": "2021-06-13T12:09:46.932144",
     "status": "completed"
    },
    "tags": []
   },
   "outputs": [],
   "source": [
    "#hide\n",
    "def get_frame(name):\n",
    "    url = (\n",
    "        'https://raw.githubusercontent.com/CSSEGISandData/COVID-19/master/csse_covid_19_data/'\n",
    "        f'csse_covid_19_time_series/time_series_covid19_{name}_global.csv')\n",
    "    df = pd.read_csv(url)\n",
    "    # rename countries\n",
    "    df['Country/Region'] = df['Country/Region'].replace(mapping['replace.country'])\n",
    "    return df"
   ]
  },
  {
   "cell_type": "code",
   "execution_count": 8,
   "id": "affiliated-characterization",
   "metadata": {
    "execution": {
     "iopub.execute_input": "2021-06-13T12:09:47.068638Z",
     "iopub.status.busy": "2021-06-13T12:09:47.068001Z",
     "iopub.status.idle": "2021-06-13T12:09:47.070233Z",
     "shell.execute_reply": "2021-06-13T12:09:47.069750Z"
    },
    "papermill": {
     "duration": 0.045682,
     "end_time": "2021-06-13T12:09:47.070347",
     "exception": false,
     "start_time": "2021-06-13T12:09:47.024665",
     "status": "completed"
    },
    "tags": []
   },
   "outputs": [],
   "source": [
    "#hide\n",
    "def get_dates(df):\n",
    "    dt_cols = df.columns[~df.columns.isin(['Province/State', 'Country/Region', 'Lat', 'Long'])]\n",
    "    LAST_DATE_I = -1\n",
    "    # sometimes last column may be empty, then go backwards\n",
    "    for i in range(-1, -len(dt_cols), -1):\n",
    "        if not df[dt_cols[i]].fillna(0).eq(0).all():\n",
    "            LAST_DATE_I = i\n",
    "            break\n",
    "    return LAST_DATE_I, dt_cols"
   ]
  },
  {
   "cell_type": "code",
   "execution_count": 9,
   "id": "recent-optimization",
   "metadata": {
    "execution": {
     "iopub.execute_input": "2021-06-13T12:09:47.142435Z",
     "iopub.status.busy": "2021-06-13T12:09:47.141754Z",
     "iopub.status.idle": "2021-06-13T12:09:47.649485Z",
     "shell.execute_reply": "2021-06-13T12:09:47.648941Z"
    },
    "papermill": {
     "duration": 0.545438,
     "end_time": "2021-06-13T12:09:47.649624",
     "exception": false,
     "start_time": "2021-06-13T12:09:47.104186",
     "status": "completed"
    },
    "tags": []
   },
   "outputs": [],
   "source": [
    "#hide\n",
    "COL_REGION = 'Country/Region'\n",
    "# Confirmed, Recovered, Deaths\n",
    "df = get_frame('confirmed')\n",
    "# dft_: timeseries, dfc_: today country agg\n",
    "dft_cases = df\n",
    "dft_deaths = get_frame('deaths')\n",
    "dft_recovered = get_frame('recovered')\n",
    "LAST_DATE_I, dt_cols = get_dates(df)"
   ]
  },
  {
   "cell_type": "code",
   "execution_count": 10,
   "id": "absolute-copper",
   "metadata": {
    "execution": {
     "iopub.execute_input": "2021-06-13T12:09:47.727337Z",
     "iopub.status.busy": "2021-06-13T12:09:47.725809Z",
     "iopub.status.idle": "2021-06-13T12:09:47.727952Z",
     "shell.execute_reply": "2021-06-13T12:09:47.728421Z"
    },
    "papermill": {
     "duration": 0.044281,
     "end_time": "2021-06-13T12:09:47.728553",
     "exception": false,
     "start_time": "2021-06-13T12:09:47.684272",
     "status": "completed"
    },
    "tags": []
   },
   "outputs": [],
   "source": [
    "#hide\n",
    "LAST_DATE_I, dt_cols = get_dates(df)\n",
    "dt_today =dt_cols[LAST_DATE_I]\n",
    "# dt_5day = dt_cols[LAST_DATE_I - 5]\n",
    "dt_yday = dt_cols[LAST_DATE_I - 1]"
   ]
  },
  {
   "cell_type": "code",
   "execution_count": 11,
   "id": "restricted-sheriff",
   "metadata": {
    "execution": {
     "iopub.execute_input": "2021-06-13T12:09:47.802295Z",
     "iopub.status.busy": "2021-06-13T12:09:47.801706Z",
     "iopub.status.idle": "2021-06-13T12:09:47.809429Z",
     "shell.execute_reply": "2021-06-13T12:09:47.809924Z"
    },
    "papermill": {
     "duration": 0.047307,
     "end_time": "2021-06-13T12:09:47.810042",
     "exception": false,
     "start_time": "2021-06-13T12:09:47.762735",
     "status": "completed"
    },
    "tags": []
   },
   "outputs": [],
   "source": [
    "#hide\n",
    "dfc_cases = dft_cases.groupby(COL_REGION)[dt_today].sum()\n",
    "dfc_deaths = dft_deaths.groupby(COL_REGION)[dt_today].sum()\n",
    "# dfp_cases = dft_cases.groupby(COL_REGION)[dt_5day].sum()\n",
    "# dfp_deaths = dft_deaths.groupby(COL_REGION)[dt_5day].sum()\n",
    "dfp_cases = dft_cases.groupby(COL_REGION)[dt_yday].sum()\n",
    "dfp_deaths = dft_deaths.groupby(COL_REGION)[dt_yday].sum()"
   ]
  },
  {
   "cell_type": "code",
   "execution_count": 12,
   "id": "deluxe-hepatitis",
   "metadata": {
    "execution": {
     "iopub.execute_input": "2021-06-13T12:09:47.885472Z",
     "iopub.status.busy": "2021-06-13T12:09:47.884856Z",
     "iopub.status.idle": "2021-06-13T12:09:47.889608Z",
     "shell.execute_reply": "2021-06-13T12:09:47.890140Z"
    },
    "papermill": {
     "duration": 0.045004,
     "end_time": "2021-06-13T12:09:47.890262",
     "exception": false,
     "start_time": "2021-06-13T12:09:47.845258",
     "status": "completed"
    },
    "tags": []
   },
   "outputs": [],
   "source": [
    "#hide\n",
    "df_table = (pd.DataFrame(dict(Cases = dfc_cases, Deaths = dfc_deaths, PCases = dfp_cases, PDeaths = dfp_deaths))\n",
    "            .sort_values(by = ['Cases','Deaths'], ascending = [False, False])\n",
    "            .reset_index())"
   ]
  },
  {
   "cell_type": "code",
   "execution_count": 13,
   "id": "educational-chancellor",
   "metadata": {
    "execution": {
     "iopub.execute_input": "2021-06-13T12:09:47.976989Z",
     "iopub.status.busy": "2021-06-13T12:09:47.976422Z",
     "iopub.status.idle": "2021-06-13T12:09:47.984131Z",
     "shell.execute_reply": "2021-06-13T12:09:47.984596Z"
    },
    "papermill": {
     "duration": 0.060789,
     "end_time": "2021-06-13T12:09:47.984718",
     "exception": false,
     "start_time": "2021-06-13T12:09:47.923929",
     "status": "completed"
    },
    "tags": []
   },
   "outputs": [
    {
     "data": {
      "text/html": [
       "<div>\n",
       "<style scoped>\n",
       "    .dataframe tbody tr th:only-of-type {\n",
       "        vertical-align: middle;\n",
       "    }\n",
       "\n",
       "    .dataframe tbody tr th {\n",
       "        vertical-align: top;\n",
       "    }\n",
       "\n",
       "    .dataframe thead th {\n",
       "        text-align: right;\n",
       "    }\n",
       "</style>\n",
       "<table border=\"1\" class=\"dataframe\">\n",
       "  <thead>\n",
       "    <tr style=\"text-align: right;\">\n",
       "      <th></th>\n",
       "      <th>Country/Region</th>\n",
       "      <th>Cases</th>\n",
       "      <th>Deaths</th>\n",
       "      <th>PCases</th>\n",
       "      <th>PDeaths</th>\n",
       "      <th>Cases (+)</th>\n",
       "      <th>Deaths (+)</th>\n",
       "      <th>Fatality Rate</th>\n",
       "      <th>Continent</th>\n",
       "    </tr>\n",
       "  </thead>\n",
       "  <tbody>\n",
       "    <tr>\n",
       "      <th>0</th>\n",
       "      <td>US</td>\n",
       "      <td>33457407</td>\n",
       "      <td>599664</td>\n",
       "      <td>33449200</td>\n",
       "      <td>599472</td>\n",
       "      <td>8207</td>\n",
       "      <td>192</td>\n",
       "      <td>1.79</td>\n",
       "      <td>North America</td>\n",
       "    </tr>\n",
       "    <tr>\n",
       "      <th>1</th>\n",
       "      <td>India</td>\n",
       "      <td>29439989</td>\n",
       "      <td>370384</td>\n",
       "      <td>29359155</td>\n",
       "      <td>367081</td>\n",
       "      <td>80834</td>\n",
       "      <td>3303</td>\n",
       "      <td>1.26</td>\n",
       "      <td>Asia</td>\n",
       "    </tr>\n",
       "    <tr>\n",
       "      <th>2</th>\n",
       "      <td>Brazil</td>\n",
       "      <td>17374818</td>\n",
       "      <td>486272</td>\n",
       "      <td>17296118</td>\n",
       "      <td>484235</td>\n",
       "      <td>78700</td>\n",
       "      <td>2037</td>\n",
       "      <td>2.80</td>\n",
       "      <td>South America</td>\n",
       "    </tr>\n",
       "    <tr>\n",
       "      <th>3</th>\n",
       "      <td>France</td>\n",
       "      <td>5799459</td>\n",
       "      <td>110540</td>\n",
       "      <td>5795487</td>\n",
       "      <td>110506</td>\n",
       "      <td>3972</td>\n",
       "      <td>34</td>\n",
       "      <td>1.91</td>\n",
       "      <td>Europe</td>\n",
       "    </tr>\n",
       "    <tr>\n",
       "      <th>4</th>\n",
       "      <td>Turkey</td>\n",
       "      <td>5325435</td>\n",
       "      <td>48668</td>\n",
       "      <td>5319359</td>\n",
       "      <td>48593</td>\n",
       "      <td>6076</td>\n",
       "      <td>75</td>\n",
       "      <td>0.91</td>\n",
       "      <td>Asia</td>\n",
       "    </tr>\n",
       "  </tbody>\n",
       "</table>\n",
       "</div>"
      ],
      "text/plain": [
       "  Country/Region     Cases  Deaths    PCases  PDeaths  Cases (+)  Deaths (+)  \\\n",
       "0             US  33457407  599664  33449200   599472       8207         192   \n",
       "1          India  29439989  370384  29359155   367081      80834        3303   \n",
       "2         Brazil  17374818  486272  17296118   484235      78700        2037   \n",
       "3         France   5799459  110540   5795487   110506       3972          34   \n",
       "4         Turkey   5325435   48668   5319359    48593       6076          75   \n",
       "\n",
       "   Fatality Rate      Continent  \n",
       "0           1.79  North America  \n",
       "1           1.26           Asia  \n",
       "2           2.80  South America  \n",
       "3           1.91         Europe  \n",
       "4           0.91           Asia  "
      ]
     },
     "execution_count": 13,
     "metadata": {},
     "output_type": "execute_result"
    }
   ],
   "source": [
    "#hide\n",
    "for c in 'Cases, Deaths'.split(', '):\n",
    "    df_table[f'{c} (+)'] = (df_table[c] - df_table[f'P{c}']).clip(0)\n",
    "    #Clip ça veut dire, les chiffres negatif sont interdit\n",
    "df_table['Fatality Rate'] = (100* df_table['Deaths']/ df_table['Cases']).round(2)\n",
    "df_table['Continent'] = df_table['Country/Region'].map(mapping['map.continent'])\n",
    "df_table.head(5)"
   ]
  },
  {
   "cell_type": "code",
   "execution_count": 14,
   "id": "aboriginal-bulgaria",
   "metadata": {
    "execution": {
     "iopub.execute_input": "2021-06-13T12:09:48.059010Z",
     "iopub.status.busy": "2021-06-13T12:09:48.058446Z",
     "iopub.status.idle": "2021-06-13T12:09:48.061014Z",
     "shell.execute_reply": "2021-06-13T12:09:48.061684Z"
    },
    "papermill": {
     "duration": 0.04227,
     "end_time": "2021-06-13T12:09:48.061823",
     "exception": false,
     "start_time": "2021-06-13T12:09:48.019553",
     "status": "completed"
    },
    "tags": []
   },
   "outputs": [],
   "source": [
    "#hide\n",
    "#delete problematic countries from table\n",
    "df_table = df_table[~df_table['Country/Region'].isin(['Cape Verde', 'Cruise Ship', 'Kosovo'])]"
   ]
  },
  {
   "cell_type": "code",
   "execution_count": 15,
   "id": "fantastic-effect",
   "metadata": {
    "execution": {
     "iopub.execute_input": "2021-06-13T12:09:48.139004Z",
     "iopub.status.busy": "2021-06-13T12:09:48.138388Z",
     "iopub.status.idle": "2021-06-13T12:09:48.158338Z",
     "shell.execute_reply": "2021-06-13T12:09:48.158880Z"
    },
    "papermill": {
     "duration": 0.062904,
     "end_time": "2021-06-13T12:09:48.159009",
     "exception": false,
     "start_time": "2021-06-13T12:09:48.096105",
     "status": "completed"
    },
    "tags": []
   },
   "outputs": [
    {
     "data": {
      "text/html": [
       "<div>\n",
       "<style scoped>\n",
       "    .dataframe tbody tr th:only-of-type {\n",
       "        vertical-align: middle;\n",
       "    }\n",
       "\n",
       "    .dataframe tbody tr th {\n",
       "        vertical-align: top;\n",
       "    }\n",
       "\n",
       "    .dataframe thead th {\n",
       "        text-align: right;\n",
       "    }\n",
       "</style>\n",
       "<table border=\"1\" class=\"dataframe\">\n",
       "  <thead>\n",
       "    <tr style=\"text-align: right;\">\n",
       "      <th></th>\n",
       "      <th>Country/Region</th>\n",
       "      <th>Cases</th>\n",
       "      <th>Deaths</th>\n",
       "      <th>PCases</th>\n",
       "      <th>PDeaths</th>\n",
       "      <th>Cases (+)</th>\n",
       "      <th>Deaths (+)</th>\n",
       "      <th>Fatality Rate</th>\n",
       "      <th>Continent</th>\n",
       "    </tr>\n",
       "  </thead>\n",
       "  <tbody>\n",
       "    <tr>\n",
       "      <th>0</th>\n",
       "      <td>US</td>\n",
       "      <td>33457407</td>\n",
       "      <td>599664</td>\n",
       "      <td>33449200</td>\n",
       "      <td>599472</td>\n",
       "      <td>8207</td>\n",
       "      <td>192</td>\n",
       "      <td>1.8</td>\n",
       "      <td>North America</td>\n",
       "    </tr>\n",
       "    <tr>\n",
       "      <th>1</th>\n",
       "      <td>India</td>\n",
       "      <td>29439989</td>\n",
       "      <td>370384</td>\n",
       "      <td>29359155</td>\n",
       "      <td>367081</td>\n",
       "      <td>80834</td>\n",
       "      <td>3303</td>\n",
       "      <td>1.3</td>\n",
       "      <td>Asia</td>\n",
       "    </tr>\n",
       "    <tr>\n",
       "      <th>2</th>\n",
       "      <td>Brazil</td>\n",
       "      <td>17374818</td>\n",
       "      <td>486272</td>\n",
       "      <td>17296118</td>\n",
       "      <td>484235</td>\n",
       "      <td>78700</td>\n",
       "      <td>2037</td>\n",
       "      <td>2.8</td>\n",
       "      <td>South America</td>\n",
       "    </tr>\n",
       "    <tr>\n",
       "      <th>3</th>\n",
       "      <td>France</td>\n",
       "      <td>5799459</td>\n",
       "      <td>110540</td>\n",
       "      <td>5795487</td>\n",
       "      <td>110506</td>\n",
       "      <td>3972</td>\n",
       "      <td>34</td>\n",
       "      <td>1.9</td>\n",
       "      <td>Europe</td>\n",
       "    </tr>\n",
       "    <tr>\n",
       "      <th>4</th>\n",
       "      <td>Turkey</td>\n",
       "      <td>5325435</td>\n",
       "      <td>48668</td>\n",
       "      <td>5319359</td>\n",
       "      <td>48593</td>\n",
       "      <td>6076</td>\n",
       "      <td>75</td>\n",
       "      <td>0.9</td>\n",
       "      <td>Asia</td>\n",
       "    </tr>\n",
       "  </tbody>\n",
       "</table>\n",
       "</div>"
      ],
      "text/plain": [
       "  Country/Region     Cases  Deaths    PCases  PDeaths  Cases (+)  Deaths (+)  \\\n",
       "0             US  33457407  599664  33449200   599472       8207         192   \n",
       "1          India  29439989  370384  29359155   367081      80834        3303   \n",
       "2         Brazil  17374818  486272  17296118   484235      78700        2037   \n",
       "3         France   5799459  110540   5795487   110506       3972          34   \n",
       "4         Turkey   5325435   48668   5319359    48593       6076          75   \n",
       "\n",
       "   Fatality Rate      Continent  \n",
       "0            1.8  North America  \n",
       "1            1.3           Asia  \n",
       "2            2.8  South America  \n",
       "3            1.9         Europe  \n",
       "4            0.9           Asia  "
      ]
     },
     "execution_count": 15,
     "metadata": {},
     "output_type": "execute_result"
    }
   ],
   "source": [
    "#hide\n",
    "df_table = (pd.DataFrame(dict(Cases=dfc_cases, Deaths=dfc_deaths, PCases=dfp_cases, PDeaths=dfp_deaths))\n",
    "             .sort_values(by=['Cases', 'Deaths'], ascending=[False, False])\n",
    "             .reset_index())\n",
    "df_table.rename(columns={'index': 'Country/Region'}, inplace=True)\n",
    "for c in 'Cases, Deaths'.split(', '):\n",
    "    df_table[f'{c} (+)'] = (df_table[c] - df_table[f'P{c}']).clip(0)  # DATA BUG\n",
    "df_table['Fatality Rate'] = (100 * df_table['Deaths'] / df_table['Cases']).round(1)\n",
    "df_table['Continent'] = df_table['Country/Region'].map(mapping['map.continent'])\n",
    "df_table.head(5)"
   ]
  },
  {
   "cell_type": "code",
   "execution_count": 16,
   "id": "fewer-occasion",
   "metadata": {
    "execution": {
     "iopub.execute_input": "2021-06-13T12:09:48.239043Z",
     "iopub.status.busy": "2021-06-13T12:09:48.238436Z",
     "iopub.status.idle": "2021-06-13T12:09:48.241467Z",
     "shell.execute_reply": "2021-06-13T12:09:48.242016Z"
    },
    "papermill": {
     "duration": 0.046924,
     "end_time": "2021-06-13T12:09:48.242137",
     "exception": false,
     "start_time": "2021-06-13T12:09:48.195213",
     "status": "completed"
    },
    "tags": []
   },
   "outputs": [],
   "source": [
    "#hide\n",
    "#delete problematic countries from table\n",
    "df_table = df_table[~df_table['Country/Region'].isin(['Cape Verde', 'Cruise Ship', 'Kosovo'])]"
   ]
  },
  {
   "cell_type": "code",
   "execution_count": 17,
   "id": "related-center",
   "metadata": {
    "execution": {
     "iopub.execute_input": "2021-06-13T12:09:48.318846Z",
     "iopub.status.busy": "2021-06-13T12:09:48.318289Z",
     "iopub.status.idle": "2021-06-13T12:09:48.331451Z",
     "shell.execute_reply": "2021-06-13T12:09:48.330972Z"
    },
    "papermill": {
     "duration": 0.055346,
     "end_time": "2021-06-13T12:09:48.331554",
     "exception": false,
     "start_time": "2021-06-13T12:09:48.276208",
     "status": "completed"
    },
    "tags": []
   },
   "outputs": [],
   "source": [
    "#hide\n",
    "metrics = [df_table.columns[index] for index in [1,2,5,6]]\n",
    "# s_china = df_table[df_table['Country/Region'].eq('China')][metrics].sum().add_prefix('China ')\n",
    "s_us = df_table[df_table['Country/Region'].eq('US')][metrics].sum().add_prefix('US ')\n",
    "s_eu = df_table[df_table['Continent'].eq('Europe')][metrics].sum().add_prefix('EU ')\n",
    "s_ind = df_table[df_table['Country/Region'].eq('India')][metrics].sum().add_prefix('India ')\n",
    "summary = {'updated': pd.to_datetime(dt_today), 'since': pd.to_datetime(dt_yday)}\n",
    "summary = {'updated': pd.to_datetime(dt_today), 'since': pd.to_datetime(dt_yday)}\n",
    "summary = {**summary, **df_table[metrics].sum(), **s_ind, **s_us, **s_eu}"
   ]
  },
  {
   "cell_type": "code",
   "execution_count": 18,
   "id": "engaging-syndrome",
   "metadata": {
    "execution": {
     "iopub.execute_input": "2021-06-13T12:09:48.408677Z",
     "iopub.status.busy": "2021-06-13T12:09:48.408096Z",
     "iopub.status.idle": "2021-06-13T12:09:48.420335Z",
     "shell.execute_reply": "2021-06-13T12:09:48.420869Z"
    },
    "papermill": {
     "duration": 0.053442,
     "end_time": "2021-06-13T12:09:48.420993",
     "exception": false,
     "start_time": "2021-06-13T12:09:48.367551",
     "status": "completed"
    },
    "tags": []
   },
   "outputs": [],
   "source": [
    "#hide\n",
    "dft_ct_new_cases = dft_cases.groupby(COL_REGION)[dt_cols].sum().diff(axis=1).fillna(0).astype(int)"
   ]
  },
  {
   "cell_type": "code",
   "execution_count": 19,
   "id": "neutral-assignment",
   "metadata": {
    "execution": {
     "iopub.execute_input": "2021-06-13T12:09:48.495451Z",
     "iopub.status.busy": "2021-06-13T12:09:48.494882Z",
     "iopub.status.idle": "2021-06-13T12:09:48.495986Z",
     "shell.execute_reply": "2021-06-13T12:09:48.496513Z"
    },
    "papermill": {
     "duration": 0.04071,
     "end_time": "2021-06-13T12:09:48.496631",
     "exception": false,
     "start_time": "2021-06-13T12:09:48.455921",
     "status": "completed"
    },
    "tags": []
   },
   "outputs": [],
   "source": [
    "#hide\n",
    "everydaycases = dft_ct_new_cases.cumsum(axis=1)"
   ]
  },
  {
   "cell_type": "code",
   "execution_count": 20,
   "id": "parliamentary-calgary",
   "metadata": {
    "execution": {
     "iopub.execute_input": "2021-06-13T12:09:48.570050Z",
     "iopub.status.busy": "2021-06-13T12:09:48.569489Z",
     "iopub.status.idle": "2021-06-13T12:09:49.146930Z",
     "shell.execute_reply": "2021-06-13T12:09:49.146423Z"
    },
    "papermill": {
     "duration": 0.61623,
     "end_time": "2021-06-13T12:09:49.147066",
     "exception": false,
     "start_time": "2021-06-13T12:09:48.530836",
     "status": "completed"
    },
    "tags": []
   },
   "outputs": [],
   "source": [
    "#hide\n",
    "import pandas as pd\n",
    "import matplotlib.pyplot as plt\n",
    "import matplotlib.ticker as ticker\n",
    "import matplotlib.animation as animation\n",
    "from IPython.display import HTML"
   ]
  },
  {
   "cell_type": "code",
   "execution_count": 21,
   "id": "lasting-extraction",
   "metadata": {
    "execution": {
     "iopub.execute_input": "2021-06-13T12:09:49.222956Z",
     "iopub.status.busy": "2021-06-13T12:09:49.222289Z",
     "iopub.status.idle": "2021-06-13T12:09:49.227539Z",
     "shell.execute_reply": "2021-06-13T12:09:49.227997Z"
    },
    "papermill": {
     "duration": 0.04521,
     "end_time": "2021-06-13T12:09:49.228119",
     "exception": false,
     "start_time": "2021-06-13T12:09:49.182909",
     "status": "completed"
    },
    "tags": []
   },
   "outputs": [],
   "source": [
    "#hide\n",
    "t = everydaycases.stack()"
   ]
  },
  {
   "cell_type": "code",
   "execution_count": 22,
   "id": "premier-sleeve",
   "metadata": {
    "execution": {
     "iopub.execute_input": "2021-06-13T12:09:49.303410Z",
     "iopub.status.busy": "2021-06-13T12:09:49.302608Z",
     "iopub.status.idle": "2021-06-13T12:09:49.309905Z",
     "shell.execute_reply": "2021-06-13T12:09:49.310365Z"
    },
    "papermill": {
     "duration": 0.0461,
     "end_time": "2021-06-13T12:09:49.310497",
     "exception": false,
     "start_time": "2021-06-13T12:09:49.264397",
     "status": "completed"
    },
    "tags": []
   },
   "outputs": [],
   "source": [
    "#hide\n",
    "g = t.reset_index(['Country/Region'])"
   ]
  },
  {
   "cell_type": "code",
   "execution_count": 23,
   "id": "distributed-pittsburgh",
   "metadata": {
    "execution": {
     "iopub.execute_input": "2021-06-13T12:09:49.383441Z",
     "iopub.status.busy": "2021-06-13T12:09:49.382889Z",
     "iopub.status.idle": "2021-06-13T12:09:49.386475Z",
     "shell.execute_reply": "2021-06-13T12:09:49.387011Z"
    },
    "papermill": {
     "duration": 0.040463,
     "end_time": "2021-06-13T12:09:49.387130",
     "exception": false,
     "start_time": "2021-06-13T12:09:49.346667",
     "status": "completed"
    },
    "tags": []
   },
   "outputs": [],
   "source": [
    "#hide\n",
    "g.index.name = 'date'"
   ]
  },
  {
   "cell_type": "code",
   "execution_count": 24,
   "id": "naked-donor",
   "metadata": {
    "execution": {
     "iopub.execute_input": "2021-06-13T12:09:49.462044Z",
     "iopub.status.busy": "2021-06-13T12:09:49.461453Z",
     "iopub.status.idle": "2021-06-13T12:09:49.463852Z",
     "shell.execute_reply": "2021-06-13T12:09:49.463375Z"
    },
    "papermill": {
     "duration": 0.042512,
     "end_time": "2021-06-13T12:09:49.463958",
     "exception": false,
     "start_time": "2021-06-13T12:09:49.421446",
     "status": "completed"
    },
    "tags": []
   },
   "outputs": [],
   "source": [
    "# #hide\n",
    "# g = g.reset_index(['date'])"
   ]
  },
  {
   "cell_type": "code",
   "execution_count": 25,
   "id": "incomplete-mustang",
   "metadata": {
    "execution": {
     "iopub.execute_input": "2021-06-13T12:09:49.536804Z",
     "iopub.status.busy": "2021-06-13T12:09:49.536251Z",
     "iopub.status.idle": "2021-06-13T12:09:49.538537Z",
     "shell.execute_reply": "2021-06-13T12:09:49.538058Z"
    },
    "papermill": {
     "duration": 0.039248,
     "end_time": "2021-06-13T12:09:49.538644",
     "exception": false,
     "start_time": "2021-06-13T12:09:49.499396",
     "status": "completed"
    },
    "tags": []
   },
   "outputs": [],
   "source": [
    "#hide\n",
    "# g.head()"
   ]
  },
  {
   "cell_type": "code",
   "execution_count": 26,
   "id": "specific-kruger",
   "metadata": {
    "execution": {
     "iopub.execute_input": "2021-06-13T12:09:49.610981Z",
     "iopub.status.busy": "2021-06-13T12:09:49.610429Z",
     "iopub.status.idle": "2021-06-13T12:09:49.612750Z",
     "shell.execute_reply": "2021-06-13T12:09:49.612275Z"
    },
    "papermill": {
     "duration": 0.039327,
     "end_time": "2021-06-13T12:09:49.612855",
     "exception": false,
     "start_time": "2021-06-13T12:09:49.573528",
     "status": "completed"
    },
    "tags": []
   },
   "outputs": [],
   "source": [
    "#hide\n",
    "# g.columns = ['date','country','cases']"
   ]
  },
  {
   "cell_type": "code",
   "execution_count": 27,
   "id": "tender-conversion",
   "metadata": {
    "execution": {
     "iopub.execute_input": "2021-06-13T12:09:49.687404Z",
     "iopub.status.busy": "2021-06-13T12:09:49.686777Z",
     "iopub.status.idle": "2021-06-13T12:09:49.688956Z",
     "shell.execute_reply": "2021-06-13T12:09:49.688388Z"
    },
    "papermill": {
     "duration": 0.040599,
     "end_time": "2021-06-13T12:09:49.689065",
     "exception": false,
     "start_time": "2021-06-13T12:09:49.648466",
     "status": "completed"
    },
    "tags": []
   },
   "outputs": [],
   "source": [
    "#hide\n",
    "# g['continent'] = g.country"
   ]
  },
  {
   "cell_type": "code",
   "execution_count": 28,
   "id": "substantial-wilderness",
   "metadata": {
    "execution": {
     "iopub.execute_input": "2021-06-13T12:09:49.763828Z",
     "iopub.status.busy": "2021-06-13T12:09:49.763241Z",
     "iopub.status.idle": "2021-06-13T12:09:49.765163Z",
     "shell.execute_reply": "2021-06-13T12:09:49.765691Z"
    },
    "papermill": {
     "duration": 0.041555,
     "end_time": "2021-06-13T12:09:49.765811",
     "exception": false,
     "start_time": "2021-06-13T12:09:49.724256",
     "status": "completed"
    },
    "tags": []
   },
   "outputs": [],
   "source": [
    "#hide\n",
    "# cols = list(g.columns.values)"
   ]
  },
  {
   "cell_type": "code",
   "execution_count": 29,
   "id": "solved-farming",
   "metadata": {
    "execution": {
     "iopub.execute_input": "2021-06-13T12:09:49.840906Z",
     "iopub.status.busy": "2021-06-13T12:09:49.840350Z",
     "iopub.status.idle": "2021-06-13T12:09:49.842414Z",
     "shell.execute_reply": "2021-06-13T12:09:49.841868Z"
    },
    "papermill": {
     "duration": 0.040391,
     "end_time": "2021-06-13T12:09:49.842520",
     "exception": false,
     "start_time": "2021-06-13T12:09:49.802129",
     "status": "completed"
    },
    "tags": []
   },
   "outputs": [],
   "source": [
    "#hide\n",
    "# cols.insert(0, cols.pop())"
   ]
  },
  {
   "cell_type": "code",
   "execution_count": 30,
   "id": "executed-adoption",
   "metadata": {
    "execution": {
     "iopub.execute_input": "2021-06-13T12:09:49.914872Z",
     "iopub.status.busy": "2021-06-13T12:09:49.914319Z",
     "iopub.status.idle": "2021-06-13T12:09:49.916237Z",
     "shell.execute_reply": "2021-06-13T12:09:49.916692Z"
    },
    "papermill": {
     "duration": 0.039379,
     "end_time": "2021-06-13T12:09:49.916810",
     "exception": false,
     "start_time": "2021-06-13T12:09:49.877431",
     "status": "completed"
    },
    "tags": []
   },
   "outputs": [],
   "source": [
    "#hide\n",
    "# g = g[cols]"
   ]
  },
  {
   "cell_type": "code",
   "execution_count": 31,
   "id": "subject-dublin",
   "metadata": {
    "execution": {
     "iopub.execute_input": "2021-06-13T12:09:49.991924Z",
     "iopub.status.busy": "2021-06-13T12:09:49.991373Z",
     "iopub.status.idle": "2021-06-13T12:09:49.993121Z",
     "shell.execute_reply": "2021-06-13T12:09:49.993675Z"
    },
    "papermill": {
     "duration": 0.040868,
     "end_time": "2021-06-13T12:09:49.993794",
     "exception": false,
     "start_time": "2021-06-13T12:09:49.952926",
     "status": "completed"
    },
    "tags": []
   },
   "outputs": [],
   "source": [
    "#hide\n",
    "# g['continent'] = g['continent'].map(mapping['map.continent'])"
   ]
  },
  {
   "cell_type": "code",
   "execution_count": 32,
   "id": "freelance-scout",
   "metadata": {
    "execution": {
     "iopub.execute_input": "2021-06-13T12:09:50.068188Z",
     "iopub.status.busy": "2021-06-13T12:09:50.067629Z",
     "iopub.status.idle": "2021-06-13T12:09:50.069997Z",
     "shell.execute_reply": "2021-06-13T12:09:50.069509Z"
    },
    "papermill": {
     "duration": 0.041602,
     "end_time": "2021-06-13T12:09:50.070113",
     "exception": false,
     "start_time": "2021-06-13T12:09:50.028511",
     "status": "completed"
    },
    "tags": []
   },
   "outputs": [],
   "source": [
    "#hide\n",
    "# g.head()"
   ]
  },
  {
   "cell_type": "code",
   "execution_count": 33,
   "id": "limited-engine",
   "metadata": {
    "execution": {
     "iopub.execute_input": "2021-06-13T12:09:50.143806Z",
     "iopub.status.busy": "2021-06-13T12:09:50.143251Z",
     "iopub.status.idle": "2021-06-13T12:09:50.145080Z",
     "shell.execute_reply": "2021-06-13T12:09:50.145585Z"
    },
    "papermill": {
     "duration": 0.039013,
     "end_time": "2021-06-13T12:09:50.145702",
     "exception": false,
     "start_time": "2021-06-13T12:09:50.106689",
     "status": "completed"
    },
    "tags": []
   },
   "outputs": [],
   "source": [
    "# hide\n",
    "# g['date'] = g['date'].astype('datetime64[ns]')"
   ]
  },
  {
   "cell_type": "code",
   "execution_count": 34,
   "id": "sophisticated-supervisor",
   "metadata": {
    "execution": {
     "iopub.execute_input": "2021-06-13T12:09:50.221198Z",
     "iopub.status.busy": "2021-06-13T12:09:50.219974Z",
     "iopub.status.idle": "2021-06-13T12:09:50.221836Z",
     "shell.execute_reply": "2021-06-13T12:09:50.222369Z"
    },
    "papermill": {
     "duration": 0.042137,
     "end_time": "2021-06-13T12:09:50.222493",
     "exception": false,
     "start_time": "2021-06-13T12:09:50.180356",
     "status": "completed"
    },
    "tags": []
   },
   "outputs": [],
   "source": [
    "#hide\n",
    "# g['date'] = g.date.dt.dayofyear"
   ]
  },
  {
   "cell_type": "code",
   "execution_count": 35,
   "id": "inside-dubai",
   "metadata": {
    "execution": {
     "iopub.execute_input": "2021-06-13T12:09:50.296055Z",
     "iopub.status.busy": "2021-06-13T12:09:50.294957Z",
     "iopub.status.idle": "2021-06-13T12:09:50.296727Z",
     "shell.execute_reply": "2021-06-13T12:09:50.297228Z"
    },
    "papermill": {
     "duration": 0.040025,
     "end_time": "2021-06-13T12:09:50.297349",
     "exception": false,
     "start_time": "2021-06-13T12:09:50.257324",
     "status": "completed"
    },
    "tags": []
   },
   "outputs": [],
   "source": [
    "#hide\n",
    "# g = g.rename(columns= {'continent':'group','country':'name','cases':'value'})"
   ]
  },
  {
   "cell_type": "code",
   "execution_count": 36,
   "id": "fleet-motorcycle",
   "metadata": {
    "execution": {
     "iopub.execute_input": "2021-06-13T12:09:50.371390Z",
     "iopub.status.busy": "2021-06-13T12:09:50.370223Z",
     "iopub.status.idle": "2021-06-13T12:09:50.372081Z",
     "shell.execute_reply": "2021-06-13T12:09:50.372535Z"
    },
    "papermill": {
     "duration": 0.041098,
     "end_time": "2021-06-13T12:09:50.372654",
     "exception": false,
     "start_time": "2021-06-13T12:09:50.331556",
     "status": "completed"
    },
    "tags": []
   },
   "outputs": [],
   "source": [
    "#hide\n",
    "# cols = ['name','group','day','value']"
   ]
  },
  {
   "cell_type": "code",
   "execution_count": 37,
   "id": "continued-sleeping",
   "metadata": {
    "execution": {
     "iopub.execute_input": "2021-06-13T12:09:50.447284Z",
     "iopub.status.busy": "2021-06-13T12:09:50.446516Z",
     "iopub.status.idle": "2021-06-13T12:09:50.449030Z",
     "shell.execute_reply": "2021-06-13T12:09:50.448510Z"
    },
    "papermill": {
     "duration": 0.041549,
     "end_time": "2021-06-13T12:09:50.449144",
     "exception": false,
     "start_time": "2021-06-13T12:09:50.407595",
     "status": "completed"
    },
    "tags": []
   },
   "outputs": [],
   "source": [
    "#hide\n",
    "# g.rename(columns= {'date':'day'},inplace = True)"
   ]
  },
  {
   "cell_type": "code",
   "execution_count": 38,
   "id": "major-fight",
   "metadata": {
    "execution": {
     "iopub.execute_input": "2021-06-13T12:09:50.534917Z",
     "iopub.status.busy": "2021-06-13T12:09:50.534330Z",
     "iopub.status.idle": "2021-06-13T12:09:50.536074Z",
     "shell.execute_reply": "2021-06-13T12:09:50.536751Z"
    },
    "papermill": {
     "duration": 0.047221,
     "end_time": "2021-06-13T12:09:50.536950",
     "exception": false,
     "start_time": "2021-06-13T12:09:50.489729",
     "status": "completed"
    },
    "tags": []
   },
   "outputs": [],
   "source": [
    "#hide\n",
    "# g = g[cols]"
   ]
  },
  {
   "cell_type": "code",
   "execution_count": 39,
   "id": "structured-mobile",
   "metadata": {
    "execution": {
     "iopub.execute_input": "2021-06-13T12:09:50.619471Z",
     "iopub.status.busy": "2021-06-13T12:09:50.618832Z",
     "iopub.status.idle": "2021-06-13T12:09:50.621238Z",
     "shell.execute_reply": "2021-06-13T12:09:50.620561Z"
    },
    "papermill": {
     "duration": 0.045263,
     "end_time": "2021-06-13T12:09:50.621367",
     "exception": false,
     "start_time": "2021-06-13T12:09:50.576104",
     "status": "completed"
    },
    "tags": []
   },
   "outputs": [],
   "source": [
    "# #hide\n",
    "# g = g[g.group.notna()]"
   ]
  },
  {
   "cell_type": "code",
   "execution_count": 40,
   "id": "determined-closing",
   "metadata": {
    "execution": {
     "iopub.execute_input": "2021-06-13T12:09:50.703482Z",
     "iopub.status.busy": "2021-06-13T12:09:50.702920Z",
     "iopub.status.idle": "2021-06-13T12:09:50.704747Z",
     "shell.execute_reply": "2021-06-13T12:09:50.705256Z"
    },
    "papermill": {
     "duration": 0.042353,
     "end_time": "2021-06-13T12:09:50.705382",
     "exception": false,
     "start_time": "2021-06-13T12:09:50.663029",
     "status": "completed"
    },
    "tags": []
   },
   "outputs": [],
   "source": [
    "# #hide\n",
    "# colors = dict(zip(\n",
    "#     [\"Oceania\", \"Europe\", \"Asia\", \"South America\", \"Middle East\", \"North America\", \"Africa\"],\n",
    "#     [\"#adb0ff\", \"#ffb3ff\", \"#90d595\", \"#e48381\", \"#aafbff\", \"#f7bb5f\", \"#eafb50\"]\n",
    "# ))\n",
    "# group_lk = g.set_index('name')['group'].to_dict()"
   ]
  },
  {
   "cell_type": "code",
   "execution_count": null,
   "id": "gross-drinking",
   "metadata": {
    "papermill": {
     "duration": 0.037193,
     "end_time": "2021-06-13T12:09:50.778153",
     "exception": false,
     "start_time": "2021-06-13T12:09:50.740960",
     "status": "completed"
    },
    "tags": []
   },
   "outputs": [],
   "source": []
  },
  {
   "cell_type": "code",
   "execution_count": 41,
   "id": "subject-macintosh",
   "metadata": {
    "execution": {
     "iopub.execute_input": "2021-06-13T12:09:50.863226Z",
     "iopub.status.busy": "2021-06-13T12:09:50.862549Z",
     "iopub.status.idle": "2021-06-13T12:09:50.864799Z",
     "shell.execute_reply": "2021-06-13T12:09:50.865310Z"
    },
    "papermill": {
     "duration": 0.050085,
     "end_time": "2021-06-13T12:09:50.865443",
     "exception": false,
     "start_time": "2021-06-13T12:09:50.815358",
     "status": "completed"
    },
    "tags": []
   },
   "outputs": [],
   "source": [
    "# #hide\n",
    "# fig, ax = plt.subplots(figsize=(15, 8))\n",
    "\n",
    "# def draw_barchart(current_day):\n",
    "#     dff = g[g['day'].eq(current_day)].sort_values(by='value', ascending=True).tail(10)\n",
    "#     ax.clear()\n",
    "#     ax.barh(dff['name'], dff['value'], color=[colors[group_lk[x]] for x in dff['name']])\n",
    "#     dx = dff['value'].max() / 200\n",
    "    \n",
    "#     for i, (value, name) in enumerate(zip(dff['value'], dff['name'])):\n",
    "#         ax.text(value-dx, i,     name,           size=14, weight=600, ha='right', va='bottom')\n",
    "#         ax.text(value-dx, i-.25, group_lk[name], size=10, color='#444444', ha='right', va='baseline')\n",
    "#         ax.text(value+dx, i,     f'{value:,.0f}',  size=14, ha='left',  va='center')\n",
    "#     ax.text(1, 0.4, current_day, transform=ax.transAxes, color='#777777', size=46, ha='right', weight=800)\n",
    "#     ax.text(0, 1.06, 'Population (thousands)', transform=ax.transAxes, size=12, color='#777777')\n",
    "#     ax.xaxis.set_major_formatter(ticker.StrMethodFormatter('{x:,.0f}'))\n",
    "#     ax.xaxis.set_ticks_position('top')\n",
    "#     ax.tick_params(axis='x', colors='#777777', labelsize=12)\n",
    "#     ax.set_yticks([])\n",
    "#     ax.margins(0, 0.01)\n",
    "#     ax.grid(which='major', axis='x', linestyle='-')\n",
    "#     ax.set_axisbelow(True)\n",
    "    \n",
    "#     ax.text(0, 1.15, 'Coronavirus',\n",
    "#             transform=ax.transAxes, size=24, weight=600, ha='left', va='top')\n",
    "# #     ax.text(1, 0, 'by @pratapvardhan; credit @jburnmurdoch', transform=ax.transAxes, color='#777777', ha='right',\n",
    "# #             bbox=dict(facecolor='white', alpha=0.8, edgecolor='white'))\n",
    "#     plt.box(False)"
   ]
  },
  {
   "cell_type": "code",
   "execution_count": 42,
   "id": "sexual-wages",
   "metadata": {
    "execution": {
     "iopub.execute_input": "2021-06-13T12:09:50.937767Z",
     "iopub.status.busy": "2021-06-13T12:09:50.937104Z",
     "iopub.status.idle": "2021-06-13T12:09:50.939381Z",
     "shell.execute_reply": "2021-06-13T12:09:50.938876Z"
    },
    "papermill": {
     "duration": 0.039145,
     "end_time": "2021-06-13T12:09:50.939495",
     "exception": false,
     "start_time": "2021-06-13T12:09:50.900350",
     "status": "completed"
    },
    "tags": []
   },
   "outputs": [],
   "source": [
    "# #hide_input\n",
    "# fig, ax = plt.subplots(figsize=(15, 8))\n",
    "# animator = animation.FuncAnimation(fig, draw_barchart, frames=range(g.day.values.min(), g.day.values.max()))\n",
    "# HTML(animator.to_jshtml())\n",
    "# # or use animator.to_html5_video() or animator.save() "
   ]
  },
  {
   "cell_type": "code",
   "execution_count": null,
   "id": "australian-container",
   "metadata": {
    "papermill": {
     "duration": 0.034458,
     "end_time": "2021-06-13T12:09:51.014687",
     "exception": false,
     "start_time": "2021-06-13T12:09:50.980229",
     "status": "completed"
    },
    "tags": []
   },
   "outputs": [],
   "source": []
  },
  {
   "cell_type": "code",
   "execution_count": null,
   "id": "mediterranean-pontiac",
   "metadata": {
    "papermill": {
     "duration": 0.039253,
     "end_time": "2021-06-13T12:09:51.095375",
     "exception": false,
     "start_time": "2021-06-13T12:09:51.056122",
     "status": "completed"
    },
    "tags": []
   },
   "outputs": [],
   "source": []
  },
  {
   "cell_type": "code",
   "execution_count": null,
   "id": "aging-legislature",
   "metadata": {
    "papermill": {
     "duration": 0.036678,
     "end_time": "2021-06-13T12:09:51.169084",
     "exception": false,
     "start_time": "2021-06-13T12:09:51.132406",
     "status": "completed"
    },
    "tags": []
   },
   "outputs": [],
   "source": []
  }
 ],
 "metadata": {
  "kernelspec": {
   "display_name": "Python 3",
   "language": "python",
   "name": "python3"
  },
  "language_info": {
   "codemirror_mode": {
    "name": "ipython",
    "version": 3
   },
   "file_extension": ".py",
   "mimetype": "text/x-python",
   "name": "python",
   "nbconvert_exporter": "python",
   "pygments_lexer": "ipython3",
   "version": "3.6.13"
  },
  "papermill": {
   "duration": 6.833706,
   "end_time": "2021-06-13T12:09:51.512305",
   "environment_variables": {},
   "exception": null,
   "input_path": "2020-03-21-covid19exp.ipynb",
   "output_path": "2020-03-21-covid19exp.ipynb",
   "parameters": {},
   "start_time": "2021-06-13T12:09:44.678599",
   "version": "2.0.0"
  }
 },
 "nbformat": 4,
 "nbformat_minor": 5
}