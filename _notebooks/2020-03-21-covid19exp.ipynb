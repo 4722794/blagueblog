{
 "cells": [
  {
   "cell_type": "markdown",
   "metadata": {
    "papermill": {
     "duration": 0.034433,
     "end_time": "2020-11-30T12:06:50.232891",
     "exception": false,
     "start_time": "2020-11-30T12:06:50.198458",
     "status": "completed"
    },
    "tags": []
   },
   "source": [
    "# COVID-19 Case Race\n",
    "> A race chart to see rising cases around the world\n",
    "\n",
    "- author: Hargun Oberoi\n",
    "- image: images/covid-overview.png\n",
    "- hide: false\n",
    "- badges: false"
   ]
  },
  {
   "cell_type": "code",
   "execution_count": 1,
   "metadata": {
    "execution": {
     "iopub.execute_input": "2020-11-30T12:06:50.293908Z",
     "iopub.status.busy": "2020-11-30T12:06:50.293322Z",
     "iopub.status.idle": "2020-11-30T12:06:50.595882Z",
     "shell.execute_reply": "2020-11-30T12:06:50.594894Z"
    },
    "papermill": {
     "duration": 0.335449,
     "end_time": "2020-11-30T12:06:50.596027",
     "exception": false,
     "start_time": "2020-11-30T12:06:50.260578",
     "status": "completed"
    },
    "tags": []
   },
   "outputs": [],
   "source": [
    "#hide\n",
    "import numpy as np\n",
    "import pandas as pd\n",
    "from jinja2 import Template\n",
    "from IPython.display import HTML"
   ]
  },
  {
   "cell_type": "code",
   "execution_count": 2,
   "metadata": {
    "execution": {
     "iopub.execute_input": "2020-11-30T12:06:50.653117Z",
     "iopub.status.busy": "2020-11-30T12:06:50.652547Z",
     "iopub.status.idle": "2020-11-30T12:06:50.655035Z",
     "shell.execute_reply": "2020-11-30T12:06:50.654538Z"
    },
    "papermill": {
     "duration": 0.033618,
     "end_time": "2020-11-30T12:06:50.655136",
     "exception": false,
     "start_time": "2020-11-30T12:06:50.621518",
     "status": "completed"
    },
    "tags": []
   },
   "outputs": [],
   "source": [
    "#hide\n",
    "\n",
    "# FETCH\n",
    "base_url = 'https://raw.githubusercontent.com/pratapvardhan/notebooks/master/covid19/'\n",
    "paths = {\n",
    "    'mapping': base_url + 'mapping_countries.csv',\n",
    "    'overview': base_url + 'overview.tpl'\n",
    "}"
   ]
  },
  {
   "cell_type": "code",
   "execution_count": 3,
   "metadata": {
    "execution": {
     "iopub.execute_input": "2020-11-30T12:06:50.716375Z",
     "iopub.status.busy": "2020-11-30T12:06:50.711644Z",
     "iopub.status.idle": "2020-11-30T12:06:50.719292Z",
     "shell.execute_reply": "2020-11-30T12:06:50.718835Z"
    },
    "papermill": {
     "duration": 0.038957,
     "end_time": "2020-11-30T12:06:50.719401",
     "exception": false,
     "start_time": "2020-11-30T12:06:50.680444",
     "status": "completed"
    },
    "tags": []
   },
   "outputs": [
    {
     "data": {
      "text/plain": [
       "'https://raw.githubusercontent.com/pratapvardhan/notebooks/master/covid19/mapping_countries.csv'"
      ]
     },
     "execution_count": 3,
     "metadata": {},
     "output_type": "execute_result"
    }
   ],
   "source": [
    "#hide\n",
    "paths['mapping']"
   ]
  },
  {
   "cell_type": "code",
   "execution_count": 4,
   "metadata": {
    "execution": {
     "iopub.execute_input": "2020-11-30T12:06:50.784202Z",
     "iopub.status.busy": "2020-11-30T12:06:50.783465Z",
     "iopub.status.idle": "2020-11-30T12:06:50.784768Z",
     "shell.execute_reply": "2020-11-30T12:06:50.785159Z"
    },
    "papermill": {
     "duration": 0.036706,
     "end_time": "2020-11-30T12:06:50.785288",
     "exception": false,
     "start_time": "2020-11-30T12:06:50.748582",
     "status": "completed"
    },
    "tags": []
   },
   "outputs": [],
   "source": [
    "#hide\n",
    "def get_mappings(url):\n",
    "    df = pd.read_csv(url)\n",
    "    return {\n",
    "        'df': df,\n",
    "        'replace.country': dict(df.dropna(subset=['Name']).set_index('Country')['Name']),\n",
    "        'map.continent': dict(df.set_index('Name')['Continent'])\n",
    "    }"
   ]
  },
  {
   "cell_type": "code",
   "execution_count": 5,
   "metadata": {
    "execution": {
     "iopub.execute_input": "2020-11-30T12:06:50.846193Z",
     "iopub.status.busy": "2020-11-30T12:06:50.845648Z",
     "iopub.status.idle": "2020-11-30T12:06:50.925345Z",
     "shell.execute_reply": "2020-11-30T12:06:50.924755Z"
    },
    "papermill": {
     "duration": 0.11284,
     "end_time": "2020-11-30T12:06:50.925494",
     "exception": false,
     "start_time": "2020-11-30T12:06:50.812654",
     "status": "completed"
    },
    "tags": []
   },
   "outputs": [],
   "source": [
    "#hide\n",
    "mapping = get_mappings(paths['mapping'])"
   ]
  },
  {
   "cell_type": "code",
   "execution_count": 6,
   "metadata": {
    "execution": {
     "iopub.execute_input": "2020-11-30T12:06:50.988321Z",
     "iopub.status.busy": "2020-11-30T12:06:50.987556Z",
     "iopub.status.idle": "2020-11-30T12:06:50.988903Z",
     "shell.execute_reply": "2020-11-30T12:06:50.989357Z"
    },
    "papermill": {
     "duration": 0.036539,
     "end_time": "2020-11-30T12:06:50.989538",
     "exception": false,
     "start_time": "2020-11-30T12:06:50.952999",
     "status": "completed"
    },
    "tags": []
   },
   "outputs": [],
   "source": [
    "#hide\n",
    "def get_template(path):\n",
    "    from urllib.parse import urlparse\n",
    "    if bool(urlparse(path).netloc):\n",
    "        from urllib.request import urlopen\n",
    "        return urlopen(path).read().decode('utf8')\n",
    "    return open(path).read()"
   ]
  },
  {
   "cell_type": "code",
   "execution_count": 7,
   "metadata": {
    "execution": {
     "iopub.execute_input": "2020-11-30T12:06:51.046767Z",
     "iopub.status.busy": "2020-11-30T12:06:51.046288Z",
     "iopub.status.idle": "2020-11-30T12:06:51.049355Z",
     "shell.execute_reply": "2020-11-30T12:06:51.048928Z"
    },
    "papermill": {
     "duration": 0.033082,
     "end_time": "2020-11-30T12:06:51.049484",
     "exception": false,
     "start_time": "2020-11-30T12:06:51.016402",
     "status": "completed"
    },
    "tags": []
   },
   "outputs": [],
   "source": [
    "#hide\n",
    "def get_frame(name):\n",
    "    url = (\n",
    "        'https://raw.githubusercontent.com/CSSEGISandData/COVID-19/master/csse_covid_19_data/'\n",
    "        f'csse_covid_19_time_series/time_series_covid19_{name}_global.csv')\n",
    "    df = pd.read_csv(url)\n",
    "    # rename countries\n",
    "    df['Country/Region'] = df['Country/Region'].replace(mapping['replace.country'])\n",
    "    return df"
   ]
  },
  {
   "cell_type": "code",
   "execution_count": 8,
   "metadata": {
    "execution": {
     "iopub.execute_input": "2020-11-30T12:06:51.108668Z",
     "iopub.status.busy": "2020-11-30T12:06:51.108095Z",
     "iopub.status.idle": "2020-11-30T12:06:51.110792Z",
     "shell.execute_reply": "2020-11-30T12:06:51.110309Z"
    },
    "papermill": {
     "duration": 0.034973,
     "end_time": "2020-11-30T12:06:51.110951",
     "exception": false,
     "start_time": "2020-11-30T12:06:51.075978",
     "status": "completed"
    },
    "tags": []
   },
   "outputs": [],
   "source": [
    "#hide\n",
    "def get_dates(df):\n",
    "    dt_cols = df.columns[~df.columns.isin(['Province/State', 'Country/Region', 'Lat', 'Long'])]\n",
    "    LAST_DATE_I = -1\n",
    "    # sometimes last column may be empty, then go backwards\n",
    "    for i in range(-1, -len(dt_cols), -1):\n",
    "        if not df[dt_cols[i]].fillna(0).eq(0).all():\n",
    "            LAST_DATE_I = i\n",
    "            break\n",
    "    return LAST_DATE_I, dt_cols"
   ]
  },
  {
   "cell_type": "code",
   "execution_count": 9,
   "metadata": {
    "execution": {
     "iopub.execute_input": "2020-11-30T12:06:51.170022Z",
     "iopub.status.busy": "2020-11-30T12:06:51.169097Z",
     "iopub.status.idle": "2020-11-30T12:06:51.626336Z",
     "shell.execute_reply": "2020-11-30T12:06:51.625722Z"
    },
    "papermill": {
     "duration": 0.488694,
     "end_time": "2020-11-30T12:06:51.626497",
     "exception": false,
     "start_time": "2020-11-30T12:06:51.137803",
     "status": "completed"
    },
    "tags": []
   },
   "outputs": [],
   "source": [
    "#hide\n",
    "COL_REGION = 'Country/Region'\n",
    "# Confirmed, Recovered, Deaths\n",
    "df = get_frame('confirmed')\n",
    "# dft_: timeseries, dfc_: today country agg\n",
    "dft_cases = df\n",
    "dft_deaths = get_frame('deaths')\n",
    "dft_recovered = get_frame('recovered')\n",
    "LAST_DATE_I, dt_cols = get_dates(df)"
   ]
  },
  {
   "cell_type": "code",
   "execution_count": 10,
   "metadata": {
    "execution": {
     "iopub.execute_input": "2020-11-30T12:06:51.687934Z",
     "iopub.status.busy": "2020-11-30T12:06:51.687387Z",
     "iopub.status.idle": "2020-11-30T12:06:51.690359Z",
     "shell.execute_reply": "2020-11-30T12:06:51.690721Z"
    },
    "papermill": {
     "duration": 0.035785,
     "end_time": "2020-11-30T12:06:51.690837",
     "exception": false,
     "start_time": "2020-11-30T12:06:51.655052",
     "status": "completed"
    },
    "tags": []
   },
   "outputs": [],
   "source": [
    "#hide\n",
    "LAST_DATE_I, dt_cols = get_dates(df)\n",
    "dt_today =dt_cols[LAST_DATE_I]\n",
    "# dt_5day = dt_cols[LAST_DATE_I - 5]\n",
    "dt_yday = dt_cols[LAST_DATE_I - 1]"
   ]
  },
  {
   "cell_type": "code",
   "execution_count": 11,
   "metadata": {
    "execution": {
     "iopub.execute_input": "2020-11-30T12:06:51.749022Z",
     "iopub.status.busy": "2020-11-30T12:06:51.748486Z",
     "iopub.status.idle": "2020-11-30T12:06:51.754796Z",
     "shell.execute_reply": "2020-11-30T12:06:51.754393Z"
    },
    "papermill": {
     "duration": 0.038889,
     "end_time": "2020-11-30T12:06:51.754891",
     "exception": false,
     "start_time": "2020-11-30T12:06:51.716002",
     "status": "completed"
    },
    "tags": []
   },
   "outputs": [],
   "source": [
    "#hide\n",
    "dfc_cases = dft_cases.groupby(COL_REGION)[dt_today].sum()\n",
    "dfc_deaths = dft_deaths.groupby(COL_REGION)[dt_today].sum()\n",
    "# dfp_cases = dft_cases.groupby(COL_REGION)[dt_5day].sum()\n",
    "# dfp_deaths = dft_deaths.groupby(COL_REGION)[dt_5day].sum()\n",
    "dfp_cases = dft_cases.groupby(COL_REGION)[dt_yday].sum()\n",
    "dfp_deaths = dft_deaths.groupby(COL_REGION)[dt_yday].sum()"
   ]
  },
  {
   "cell_type": "code",
   "execution_count": 12,
   "metadata": {
    "execution": {
     "iopub.execute_input": "2020-11-30T12:06:51.813855Z",
     "iopub.status.busy": "2020-11-30T12:06:51.813357Z",
     "iopub.status.idle": "2020-11-30T12:06:51.819730Z",
     "shell.execute_reply": "2020-11-30T12:06:51.819234Z"
    },
    "papermill": {
     "duration": 0.03893,
     "end_time": "2020-11-30T12:06:51.819848",
     "exception": false,
     "start_time": "2020-11-30T12:06:51.780918",
     "status": "completed"
    },
    "tags": []
   },
   "outputs": [],
   "source": [
    "#hide\n",
    "df_table = (pd.DataFrame(dict(Cases = dfc_cases, Deaths = dfc_deaths, PCases = dfp_cases, PDeaths = dfp_deaths))\n",
    "            .sort_values(by = ['Cases','Deaths'], ascending = [False, False])\n",
    "            .reset_index())"
   ]
  },
  {
   "cell_type": "code",
   "execution_count": 13,
   "metadata": {
    "execution": {
     "iopub.execute_input": "2020-11-30T12:06:51.896851Z",
     "iopub.status.busy": "2020-11-30T12:06:51.896059Z",
     "iopub.status.idle": "2020-11-30T12:06:51.904079Z",
     "shell.execute_reply": "2020-11-30T12:06:51.903595Z"
    },
    "papermill": {
     "duration": 0.057827,
     "end_time": "2020-11-30T12:06:51.904207",
     "exception": false,
     "start_time": "2020-11-30T12:06:51.846380",
     "status": "completed"
    },
    "tags": []
   },
   "outputs": [
    {
     "data": {
      "text/html": [
       "<div>\n",
       "<style scoped>\n",
       "    .dataframe tbody tr th:only-of-type {\n",
       "        vertical-align: middle;\n",
       "    }\n",
       "\n",
       "    .dataframe tbody tr th {\n",
       "        vertical-align: top;\n",
       "    }\n",
       "\n",
       "    .dataframe thead th {\n",
       "        text-align: right;\n",
       "    }\n",
       "</style>\n",
       "<table border=\"1\" class=\"dataframe\">\n",
       "  <thead>\n",
       "    <tr style=\"text-align: right;\">\n",
       "      <th></th>\n",
       "      <th>Country/Region</th>\n",
       "      <th>Cases</th>\n",
       "      <th>Deaths</th>\n",
       "      <th>PCases</th>\n",
       "      <th>PDeaths</th>\n",
       "      <th>Cases (+)</th>\n",
       "      <th>Deaths (+)</th>\n",
       "      <th>Fatality Rate</th>\n",
       "      <th>Continent</th>\n",
       "    </tr>\n",
       "  </thead>\n",
       "  <tbody>\n",
       "    <tr>\n",
       "      <th>0</th>\n",
       "      <td>US</td>\n",
       "      <td>13383320</td>\n",
       "      <td>266873</td>\n",
       "      <td>13244417</td>\n",
       "      <td>266047</td>\n",
       "      <td>138903</td>\n",
       "      <td>826</td>\n",
       "      <td>1.99</td>\n",
       "      <td>North America</td>\n",
       "    </tr>\n",
       "    <tr>\n",
       "      <th>1</th>\n",
       "      <td>India</td>\n",
       "      <td>9431691</td>\n",
       "      <td>137139</td>\n",
       "      <td>9392919</td>\n",
       "      <td>136696</td>\n",
       "      <td>38772</td>\n",
       "      <td>443</td>\n",
       "      <td>1.45</td>\n",
       "      <td>Asia</td>\n",
       "    </tr>\n",
       "    <tr>\n",
       "      <th>2</th>\n",
       "      <td>Brazil</td>\n",
       "      <td>6314740</td>\n",
       "      <td>172833</td>\n",
       "      <td>6290272</td>\n",
       "      <td>172561</td>\n",
       "      <td>24468</td>\n",
       "      <td>272</td>\n",
       "      <td>2.74</td>\n",
       "      <td>South America</td>\n",
       "    </tr>\n",
       "    <tr>\n",
       "      <th>3</th>\n",
       "      <td>France</td>\n",
       "      <td>2270573</td>\n",
       "      <td>52410</td>\n",
       "      <td>2260789</td>\n",
       "      <td>52212</td>\n",
       "      <td>9784</td>\n",
       "      <td>198</td>\n",
       "      <td>2.31</td>\n",
       "      <td>Europe</td>\n",
       "    </tr>\n",
       "    <tr>\n",
       "      <th>4</th>\n",
       "      <td>Russia</td>\n",
       "      <td>2249890</td>\n",
       "      <td>39127</td>\n",
       "      <td>2223500</td>\n",
       "      <td>38676</td>\n",
       "      <td>26390</td>\n",
       "      <td>451</td>\n",
       "      <td>1.74</td>\n",
       "      <td>Europe</td>\n",
       "    </tr>\n",
       "  </tbody>\n",
       "</table>\n",
       "</div>"
      ],
      "text/plain": [
       "  Country/Region     Cases  Deaths    PCases  PDeaths  Cases (+)  Deaths (+)  \\\n",
       "0             US  13383320  266873  13244417   266047     138903         826   \n",
       "1          India   9431691  137139   9392919   136696      38772         443   \n",
       "2         Brazil   6314740  172833   6290272   172561      24468         272   \n",
       "3         France   2270573   52410   2260789    52212       9784         198   \n",
       "4         Russia   2249890   39127   2223500    38676      26390         451   \n",
       "\n",
       "   Fatality Rate      Continent  \n",
       "0           1.99  North America  \n",
       "1           1.45           Asia  \n",
       "2           2.74  South America  \n",
       "3           2.31         Europe  \n",
       "4           1.74         Europe  "
      ]
     },
     "execution_count": 13,
     "metadata": {},
     "output_type": "execute_result"
    }
   ],
   "source": [
    "#hide\n",
    "for c in 'Cases, Deaths'.split(', '):\n",
    "    df_table[f'{c} (+)'] = (df_table[c] - df_table[f'P{c}']).clip(0)\n",
    "    #Clip ça veut dire, les chiffres negatif sont interdit\n",
    "df_table['Fatality Rate'] = (100* df_table['Deaths']/ df_table['Cases']).round(2)\n",
    "df_table['Continent'] = df_table['Country/Region'].map(mapping['map.continent'])\n",
    "df_table.head(5)"
   ]
  },
  {
   "cell_type": "code",
   "execution_count": 14,
   "metadata": {
    "execution": {
     "iopub.execute_input": "2020-11-30T12:06:51.960378Z",
     "iopub.status.busy": "2020-11-30T12:06:51.959863Z",
     "iopub.status.idle": "2020-11-30T12:06:51.961871Z",
     "shell.execute_reply": "2020-11-30T12:06:51.961486Z"
    },
    "papermill": {
     "duration": 0.030654,
     "end_time": "2020-11-30T12:06:51.961972",
     "exception": false,
     "start_time": "2020-11-30T12:06:51.931318",
     "status": "completed"
    },
    "tags": []
   },
   "outputs": [],
   "source": [
    "#hide\n",
    "#delete problematic countries from table\n",
    "df_table = df_table[~df_table['Country/Region'].isin(['Cape Verde', 'Cruise Ship', 'Kosovo'])]"
   ]
  },
  {
   "cell_type": "code",
   "execution_count": 15,
   "metadata": {
    "execution": {
     "iopub.execute_input": "2020-11-30T12:06:52.022062Z",
     "iopub.status.busy": "2020-11-30T12:06:52.018829Z",
     "iopub.status.idle": "2020-11-30T12:06:52.037166Z",
     "shell.execute_reply": "2020-11-30T12:06:52.036684Z"
    },
    "papermill": {
     "duration": 0.051591,
     "end_time": "2020-11-30T12:06:52.037283",
     "exception": false,
     "start_time": "2020-11-30T12:06:51.985692",
     "status": "completed"
    },
    "tags": []
   },
   "outputs": [
    {
     "data": {
      "text/html": [
       "<div>\n",
       "<style scoped>\n",
       "    .dataframe tbody tr th:only-of-type {\n",
       "        vertical-align: middle;\n",
       "    }\n",
       "\n",
       "    .dataframe tbody tr th {\n",
       "        vertical-align: top;\n",
       "    }\n",
       "\n",
       "    .dataframe thead th {\n",
       "        text-align: right;\n",
       "    }\n",
       "</style>\n",
       "<table border=\"1\" class=\"dataframe\">\n",
       "  <thead>\n",
       "    <tr style=\"text-align: right;\">\n",
       "      <th></th>\n",
       "      <th>Country/Region</th>\n",
       "      <th>Cases</th>\n",
       "      <th>Deaths</th>\n",
       "      <th>PCases</th>\n",
       "      <th>PDeaths</th>\n",
       "      <th>Cases (+)</th>\n",
       "      <th>Deaths (+)</th>\n",
       "      <th>Fatality Rate</th>\n",
       "      <th>Continent</th>\n",
       "    </tr>\n",
       "  </thead>\n",
       "  <tbody>\n",
       "    <tr>\n",
       "      <th>0</th>\n",
       "      <td>US</td>\n",
       "      <td>13383320</td>\n",
       "      <td>266873</td>\n",
       "      <td>13244417</td>\n",
       "      <td>266047</td>\n",
       "      <td>138903</td>\n",
       "      <td>826</td>\n",
       "      <td>2.0</td>\n",
       "      <td>North America</td>\n",
       "    </tr>\n",
       "    <tr>\n",
       "      <th>1</th>\n",
       "      <td>India</td>\n",
       "      <td>9431691</td>\n",
       "      <td>137139</td>\n",
       "      <td>9392919</td>\n",
       "      <td>136696</td>\n",
       "      <td>38772</td>\n",
       "      <td>443</td>\n",
       "      <td>1.5</td>\n",
       "      <td>Asia</td>\n",
       "    </tr>\n",
       "    <tr>\n",
       "      <th>2</th>\n",
       "      <td>Brazil</td>\n",
       "      <td>6314740</td>\n",
       "      <td>172833</td>\n",
       "      <td>6290272</td>\n",
       "      <td>172561</td>\n",
       "      <td>24468</td>\n",
       "      <td>272</td>\n",
       "      <td>2.7</td>\n",
       "      <td>South America</td>\n",
       "    </tr>\n",
       "    <tr>\n",
       "      <th>3</th>\n",
       "      <td>France</td>\n",
       "      <td>2270573</td>\n",
       "      <td>52410</td>\n",
       "      <td>2260789</td>\n",
       "      <td>52212</td>\n",
       "      <td>9784</td>\n",
       "      <td>198</td>\n",
       "      <td>2.3</td>\n",
       "      <td>Europe</td>\n",
       "    </tr>\n",
       "    <tr>\n",
       "      <th>4</th>\n",
       "      <td>Russia</td>\n",
       "      <td>2249890</td>\n",
       "      <td>39127</td>\n",
       "      <td>2223500</td>\n",
       "      <td>38676</td>\n",
       "      <td>26390</td>\n",
       "      <td>451</td>\n",
       "      <td>1.7</td>\n",
       "      <td>Europe</td>\n",
       "    </tr>\n",
       "  </tbody>\n",
       "</table>\n",
       "</div>"
      ],
      "text/plain": [
       "  Country/Region     Cases  Deaths    PCases  PDeaths  Cases (+)  Deaths (+)  \\\n",
       "0             US  13383320  266873  13244417   266047     138903         826   \n",
       "1          India   9431691  137139   9392919   136696      38772         443   \n",
       "2         Brazil   6314740  172833   6290272   172561      24468         272   \n",
       "3         France   2270573   52410   2260789    52212       9784         198   \n",
       "4         Russia   2249890   39127   2223500    38676      26390         451   \n",
       "\n",
       "   Fatality Rate      Continent  \n",
       "0            2.0  North America  \n",
       "1            1.5           Asia  \n",
       "2            2.7  South America  \n",
       "3            2.3         Europe  \n",
       "4            1.7         Europe  "
      ]
     },
     "execution_count": 15,
     "metadata": {},
     "output_type": "execute_result"
    }
   ],
   "source": [
    "#hide\n",
    "df_table = (pd.DataFrame(dict(Cases=dfc_cases, Deaths=dfc_deaths, PCases=dfp_cases, PDeaths=dfp_deaths))\n",
    "             .sort_values(by=['Cases', 'Deaths'], ascending=[False, False])\n",
    "             .reset_index())\n",
    "df_table.rename(columns={'index': 'Country/Region'}, inplace=True)\n",
    "for c in 'Cases, Deaths'.split(', '):\n",
    "    df_table[f'{c} (+)'] = (df_table[c] - df_table[f'P{c}']).clip(0)  # DATA BUG\n",
    "df_table['Fatality Rate'] = (100 * df_table['Deaths'] / df_table['Cases']).round(1)\n",
    "df_table['Continent'] = df_table['Country/Region'].map(mapping['map.continent'])\n",
    "df_table.head(5)"
   ]
  },
  {
   "cell_type": "code",
   "execution_count": 16,
   "metadata": {
    "execution": {
     "iopub.execute_input": "2020-11-30T12:06:52.097535Z",
     "iopub.status.busy": "2020-11-30T12:06:52.097015Z",
     "iopub.status.idle": "2020-11-30T12:06:52.099402Z",
     "shell.execute_reply": "2020-11-30T12:06:52.099958Z"
    },
    "papermill": {
     "duration": 0.036229,
     "end_time": "2020-11-30T12:06:52.100086",
     "exception": false,
     "start_time": "2020-11-30T12:06:52.063857",
     "status": "completed"
    },
    "tags": []
   },
   "outputs": [],
   "source": [
    "#hide\n",
    "#delete problematic countries from table\n",
    "df_table = df_table[~df_table['Country/Region'].isin(['Cape Verde', 'Cruise Ship', 'Kosovo'])]"
   ]
  },
  {
   "cell_type": "code",
   "execution_count": 17,
   "metadata": {
    "execution": {
     "iopub.execute_input": "2020-11-30T12:06:52.166428Z",
     "iopub.status.busy": "2020-11-30T12:06:52.166019Z",
     "iopub.status.idle": "2020-11-30T12:06:52.168079Z",
     "shell.execute_reply": "2020-11-30T12:06:52.168660Z"
    },
    "papermill": {
     "duration": 0.043259,
     "end_time": "2020-11-30T12:06:52.168767",
     "exception": false,
     "start_time": "2020-11-30T12:06:52.125508",
     "status": "completed"
    },
    "tags": []
   },
   "outputs": [],
   "source": [
    "#hide\n",
    "metrics = [df_table.columns[index] for index in [1,2,5,6]]\n",
    "# s_china = df_table[df_table['Country/Region'].eq('China')][metrics].sum().add_prefix('China ')\n",
    "s_us = df_table[df_table['Country/Region'].eq('US')][metrics].sum().add_prefix('US ')\n",
    "s_eu = df_table[df_table['Continent'].eq('Europe')][metrics].sum().add_prefix('EU ')\n",
    "s_ind = df_table[df_table['Country/Region'].eq('India')][metrics].sum().add_prefix('India ')\n",
    "summary = {'updated': pd.to_datetime(dt_today), 'since': pd.to_datetime(dt_yday)}\n",
    "summary = {'updated': pd.to_datetime(dt_today), 'since': pd.to_datetime(dt_yday)}\n",
    "summary = {**summary, **df_table[metrics].sum(), **s_ind, **s_us, **s_eu}"
   ]
  },
  {
   "cell_type": "code",
   "execution_count": 18,
   "metadata": {
    "execution": {
     "iopub.execute_input": "2020-11-30T12:06:52.226329Z",
     "iopub.status.busy": "2020-11-30T12:06:52.225925Z",
     "iopub.status.idle": "2020-11-30T12:06:52.233711Z",
     "shell.execute_reply": "2020-11-30T12:06:52.233214Z"
    },
    "papermill": {
     "duration": 0.039133,
     "end_time": "2020-11-30T12:06:52.233832",
     "exception": false,
     "start_time": "2020-11-30T12:06:52.194699",
     "status": "completed"
    },
    "tags": []
   },
   "outputs": [],
   "source": [
    "#hide\n",
    "dft_ct_new_cases = dft_cases.groupby(COL_REGION)[dt_cols].sum().diff(axis=1).fillna(0).astype(int)"
   ]
  },
  {
   "cell_type": "code",
   "execution_count": 19,
   "metadata": {
    "execution": {
     "iopub.execute_input": "2020-11-30T12:06:52.291382Z",
     "iopub.status.busy": "2020-11-30T12:06:52.290915Z",
     "iopub.status.idle": "2020-11-30T12:06:52.293698Z",
     "shell.execute_reply": "2020-11-30T12:06:52.293292Z"
    },
    "papermill": {
     "duration": 0.03554,
     "end_time": "2020-11-30T12:06:52.293814",
     "exception": false,
     "start_time": "2020-11-30T12:06:52.258274",
     "status": "completed"
    },
    "tags": []
   },
   "outputs": [],
   "source": [
    "#hide\n",
    "everydaycases = dft_ct_new_cases.cumsum(axis=1)"
   ]
  },
  {
   "cell_type": "code",
   "execution_count": 20,
   "metadata": {
    "execution": {
     "iopub.execute_input": "2020-11-30T12:06:52.354579Z",
     "iopub.status.busy": "2020-11-30T12:06:52.354001Z",
     "iopub.status.idle": "2020-11-30T12:06:54.902950Z",
     "shell.execute_reply": "2020-11-30T12:06:54.902076Z"
    },
    "papermill": {
     "duration": 2.581679,
     "end_time": "2020-11-30T12:06:54.903172",
     "exception": false,
     "start_time": "2020-11-30T12:06:52.321493",
     "status": "completed"
    },
    "tags": []
   },
   "outputs": [],
   "source": [
    "#hide\n",
    "import pandas as pd\n",
    "import matplotlib.pyplot as plt\n",
    "import matplotlib.ticker as ticker\n",
    "import matplotlib.animation as animation\n",
    "from IPython.display import HTML"
   ]
  },
  {
   "cell_type": "code",
   "execution_count": 21,
   "metadata": {
    "execution": {
     "iopub.execute_input": "2020-11-30T12:06:54.966893Z",
     "iopub.status.busy": "2020-11-30T12:06:54.966479Z",
     "iopub.status.idle": "2020-11-30T12:06:54.970479Z",
     "shell.execute_reply": "2020-11-30T12:06:54.970063Z"
    },
    "papermill": {
     "duration": 0.037285,
     "end_time": "2020-11-30T12:06:54.970581",
     "exception": false,
     "start_time": "2020-11-30T12:06:54.933296",
     "status": "completed"
    },
    "tags": []
   },
   "outputs": [],
   "source": [
    "#hide\n",
    "t = everydaycases.stack()"
   ]
  },
  {
   "cell_type": "code",
   "execution_count": 22,
   "metadata": {
    "execution": {
     "iopub.execute_input": "2020-11-30T12:06:55.026013Z",
     "iopub.status.busy": "2020-11-30T12:06:55.025539Z",
     "iopub.status.idle": "2020-11-30T12:06:55.032026Z",
     "shell.execute_reply": "2020-11-30T12:06:55.032513Z"
    },
    "papermill": {
     "duration": 0.03696,
     "end_time": "2020-11-30T12:06:55.032654",
     "exception": false,
     "start_time": "2020-11-30T12:06:54.995694",
     "status": "completed"
    },
    "tags": []
   },
   "outputs": [],
   "source": [
    "#hide\n",
    "g = t.reset_index(['Country/Region'])"
   ]
  },
  {
   "cell_type": "code",
   "execution_count": 23,
   "metadata": {
    "execution": {
     "iopub.execute_input": "2020-11-30T12:06:55.084896Z",
     "iopub.status.busy": "2020-11-30T12:06:55.084317Z",
     "iopub.status.idle": "2020-11-30T12:06:55.087147Z",
     "shell.execute_reply": "2020-11-30T12:06:55.086661Z"
    },
    "papermill": {
     "duration": 0.030314,
     "end_time": "2020-11-30T12:06:55.087261",
     "exception": false,
     "start_time": "2020-11-30T12:06:55.056947",
     "status": "completed"
    },
    "tags": []
   },
   "outputs": [],
   "source": [
    "#hide\n",
    "g.index.name = 'date'"
   ]
  },
  {
   "cell_type": "code",
   "execution_count": 24,
   "metadata": {
    "execution": {
     "iopub.execute_input": "2020-11-30T12:06:55.147733Z",
     "iopub.status.busy": "2020-11-30T12:06:55.147182Z",
     "iopub.status.idle": "2020-11-30T12:06:55.148801Z",
     "shell.execute_reply": "2020-11-30T12:06:55.149260Z"
    },
    "papermill": {
     "duration": 0.031986,
     "end_time": "2020-11-30T12:06:55.149401",
     "exception": false,
     "start_time": "2020-11-30T12:06:55.117415",
     "status": "completed"
    },
    "tags": []
   },
   "outputs": [],
   "source": [
    "# #hide\n",
    "# g = g.reset_index(['date'])"
   ]
  },
  {
   "cell_type": "code",
   "execution_count": 25,
   "metadata": {
    "execution": {
     "iopub.execute_input": "2020-11-30T12:06:55.202108Z",
     "iopub.status.busy": "2020-11-30T12:06:55.201574Z",
     "iopub.status.idle": "2020-11-30T12:06:55.203729Z",
     "shell.execute_reply": "2020-11-30T12:06:55.204276Z"
    },
    "papermill": {
     "duration": 0.030845,
     "end_time": "2020-11-30T12:06:55.204404",
     "exception": false,
     "start_time": "2020-11-30T12:06:55.173559",
     "status": "completed"
    },
    "tags": []
   },
   "outputs": [],
   "source": [
    "#hide\n",
    "# g.head()"
   ]
  },
  {
   "cell_type": "code",
   "execution_count": 26,
   "metadata": {
    "execution": {
     "iopub.execute_input": "2020-11-30T12:06:55.261886Z",
     "iopub.status.busy": "2020-11-30T12:06:55.261304Z",
     "iopub.status.idle": "2020-11-30T12:06:55.263553Z",
     "shell.execute_reply": "2020-11-30T12:06:55.263131Z"
    },
    "papermill": {
     "duration": 0.032341,
     "end_time": "2020-11-30T12:06:55.263676",
     "exception": false,
     "start_time": "2020-11-30T12:06:55.231335",
     "status": "completed"
    },
    "tags": []
   },
   "outputs": [],
   "source": [
    "#hide\n",
    "# g.columns = ['date','country','cases']"
   ]
  },
  {
   "cell_type": "code",
   "execution_count": 27,
   "metadata": {
    "execution": {
     "iopub.execute_input": "2020-11-30T12:06:55.322561Z",
     "iopub.status.busy": "2020-11-30T12:06:55.322011Z",
     "iopub.status.idle": "2020-11-30T12:06:55.323589Z",
     "shell.execute_reply": "2020-11-30T12:06:55.323989Z"
    },
    "papermill": {
     "duration": 0.034966,
     "end_time": "2020-11-30T12:06:55.324121",
     "exception": false,
     "start_time": "2020-11-30T12:06:55.289155",
     "status": "completed"
    },
    "tags": []
   },
   "outputs": [],
   "source": [
    "#hide\n",
    "# g['continent'] = g.country"
   ]
  },
  {
   "cell_type": "code",
   "execution_count": 28,
   "metadata": {
    "execution": {
     "iopub.execute_input": "2020-11-30T12:06:55.382344Z",
     "iopub.status.busy": "2020-11-30T12:06:55.381809Z",
     "iopub.status.idle": "2020-11-30T12:06:55.383795Z",
     "shell.execute_reply": "2020-11-30T12:06:55.384253Z"
    },
    "papermill": {
     "duration": 0.033432,
     "end_time": "2020-11-30T12:06:55.384376",
     "exception": false,
     "start_time": "2020-11-30T12:06:55.350944",
     "status": "completed"
    },
    "tags": []
   },
   "outputs": [],
   "source": [
    "#hide\n",
    "# cols = list(g.columns.values)"
   ]
  },
  {
   "cell_type": "code",
   "execution_count": 29,
   "metadata": {
    "execution": {
     "iopub.execute_input": "2020-11-30T12:06:55.444812Z",
     "iopub.status.busy": "2020-11-30T12:06:55.444239Z",
     "iopub.status.idle": "2020-11-30T12:06:55.446011Z",
     "shell.execute_reply": "2020-11-30T12:06:55.446440Z"
    },
    "papermill": {
     "duration": 0.033417,
     "end_time": "2020-11-30T12:06:55.446567",
     "exception": false,
     "start_time": "2020-11-30T12:06:55.413150",
     "status": "completed"
    },
    "tags": []
   },
   "outputs": [],
   "source": [
    "#hide\n",
    "# cols.insert(0, cols.pop())"
   ]
  },
  {
   "cell_type": "code",
   "execution_count": 30,
   "metadata": {
    "execution": {
     "iopub.execute_input": "2020-11-30T12:06:55.500429Z",
     "iopub.status.busy": "2020-11-30T12:06:55.499865Z",
     "iopub.status.idle": "2020-11-30T12:06:55.502259Z",
     "shell.execute_reply": "2020-11-30T12:06:55.502771Z"
    },
    "papermill": {
     "duration": 0.032215,
     "end_time": "2020-11-30T12:06:55.502893",
     "exception": false,
     "start_time": "2020-11-30T12:06:55.470678",
     "status": "completed"
    },
    "tags": []
   },
   "outputs": [],
   "source": [
    "#hide\n",
    "# g = g[cols]"
   ]
  },
  {
   "cell_type": "code",
   "execution_count": 31,
   "metadata": {
    "execution": {
     "iopub.execute_input": "2020-11-30T12:06:55.560232Z",
     "iopub.status.busy": "2020-11-30T12:06:55.559600Z",
     "iopub.status.idle": "2020-11-30T12:06:55.561093Z",
     "shell.execute_reply": "2020-11-30T12:06:55.561629Z"
    },
    "papermill": {
     "duration": 0.032496,
     "end_time": "2020-11-30T12:06:55.561774",
     "exception": false,
     "start_time": "2020-11-30T12:06:55.529278",
     "status": "completed"
    },
    "tags": []
   },
   "outputs": [],
   "source": [
    "#hide\n",
    "# g['continent'] = g['continent'].map(mapping['map.continent'])"
   ]
  },
  {
   "cell_type": "code",
   "execution_count": 32,
   "metadata": {
    "execution": {
     "iopub.execute_input": "2020-11-30T12:06:55.619225Z",
     "iopub.status.busy": "2020-11-30T12:06:55.618656Z",
     "iopub.status.idle": "2020-11-30T12:06:55.620974Z",
     "shell.execute_reply": "2020-11-30T12:06:55.621571Z"
    },
    "papermill": {
     "duration": 0.033937,
     "end_time": "2020-11-30T12:06:55.621708",
     "exception": false,
     "start_time": "2020-11-30T12:06:55.587771",
     "status": "completed"
    },
    "tags": []
   },
   "outputs": [],
   "source": [
    "#hide\n",
    "# g.head()"
   ]
  },
  {
   "cell_type": "code",
   "execution_count": 33,
   "metadata": {
    "execution": {
     "iopub.execute_input": "2020-11-30T12:06:55.679259Z",
     "iopub.status.busy": "2020-11-30T12:06:55.678698Z",
     "iopub.status.idle": "2020-11-30T12:06:55.680825Z",
     "shell.execute_reply": "2020-11-30T12:06:55.680299Z"
    },
    "papermill": {
     "duration": 0.03099,
     "end_time": "2020-11-30T12:06:55.680931",
     "exception": false,
     "start_time": "2020-11-30T12:06:55.649941",
     "status": "completed"
    },
    "tags": []
   },
   "outputs": [],
   "source": [
    "# hide\n",
    "# g['date'] = g['date'].astype('datetime64[ns]')"
   ]
  },
  {
   "cell_type": "code",
   "execution_count": 34,
   "metadata": {
    "execution": {
     "iopub.execute_input": "2020-11-30T12:06:55.736487Z",
     "iopub.status.busy": "2020-11-30T12:06:55.735782Z",
     "iopub.status.idle": "2020-11-30T12:06:55.737238Z",
     "shell.execute_reply": "2020-11-30T12:06:55.737733Z"
    },
    "papermill": {
     "duration": 0.030853,
     "end_time": "2020-11-30T12:06:55.737838",
     "exception": false,
     "start_time": "2020-11-30T12:06:55.706985",
     "status": "completed"
    },
    "tags": []
   },
   "outputs": [],
   "source": [
    "#hide\n",
    "# g['date'] = g.date.dt.dayofyear"
   ]
  },
  {
   "cell_type": "code",
   "execution_count": 35,
   "metadata": {
    "execution": {
     "iopub.execute_input": "2020-11-30T12:06:55.795295Z",
     "iopub.status.busy": "2020-11-30T12:06:55.794763Z",
     "iopub.status.idle": "2020-11-30T12:06:55.797210Z",
     "shell.execute_reply": "2020-11-30T12:06:55.797686Z"
    },
    "papermill": {
     "duration": 0.033288,
     "end_time": "2020-11-30T12:06:55.797795",
     "exception": false,
     "start_time": "2020-11-30T12:06:55.764507",
     "status": "completed"
    },
    "tags": []
   },
   "outputs": [],
   "source": [
    "#hide\n",
    "# g = g.rename(columns= {'continent':'group','country':'name','cases':'value'})"
   ]
  },
  {
   "cell_type": "code",
   "execution_count": 36,
   "metadata": {
    "execution": {
     "iopub.execute_input": "2020-11-30T12:06:55.855897Z",
     "iopub.status.busy": "2020-11-30T12:06:55.854824Z",
     "iopub.status.idle": "2020-11-30T12:06:55.856971Z",
     "shell.execute_reply": "2020-11-30T12:06:55.857811Z"
    },
    "papermill": {
     "duration": 0.0342,
     "end_time": "2020-11-30T12:06:55.858033",
     "exception": false,
     "start_time": "2020-11-30T12:06:55.823833",
     "status": "completed"
    },
    "tags": []
   },
   "outputs": [],
   "source": [
    "#hide\n",
    "# cols = ['name','group','day','value']"
   ]
  },
  {
   "cell_type": "code",
   "execution_count": 37,
   "metadata": {
    "execution": {
     "iopub.execute_input": "2020-11-30T12:06:55.916720Z",
     "iopub.status.busy": "2020-11-30T12:06:55.916246Z",
     "iopub.status.idle": "2020-11-30T12:06:55.919167Z",
     "shell.execute_reply": "2020-11-30T12:06:55.918736Z"
    },
    "papermill": {
     "duration": 0.033231,
     "end_time": "2020-11-30T12:06:55.919277",
     "exception": false,
     "start_time": "2020-11-30T12:06:55.886046",
     "status": "completed"
    },
    "tags": []
   },
   "outputs": [],
   "source": [
    "#hide\n",
    "# g.rename(columns= {'date':'day'},inplace = True)"
   ]
  },
  {
   "cell_type": "code",
   "execution_count": 38,
   "metadata": {
    "execution": {
     "iopub.execute_input": "2020-11-30T12:06:55.980497Z",
     "iopub.status.busy": "2020-11-30T12:06:55.979932Z",
     "iopub.status.idle": "2020-11-30T12:06:55.982205Z",
     "shell.execute_reply": "2020-11-30T12:06:55.982611Z"
    },
    "papermill": {
     "duration": 0.035069,
     "end_time": "2020-11-30T12:06:55.982731",
     "exception": false,
     "start_time": "2020-11-30T12:06:55.947662",
     "status": "completed"
    },
    "tags": []
   },
   "outputs": [],
   "source": [
    "#hide\n",
    "# g = g[cols]"
   ]
  },
  {
   "cell_type": "code",
   "execution_count": 39,
   "metadata": {
    "execution": {
     "iopub.execute_input": "2020-11-30T12:06:56.040201Z",
     "iopub.status.busy": "2020-11-30T12:06:56.039202Z",
     "iopub.status.idle": "2020-11-30T12:06:56.041259Z",
     "shell.execute_reply": "2020-11-30T12:06:56.042111Z"
    },
    "papermill": {
     "duration": 0.032664,
     "end_time": "2020-11-30T12:06:56.042251",
     "exception": false,
     "start_time": "2020-11-30T12:06:56.009587",
     "status": "completed"
    },
    "tags": []
   },
   "outputs": [],
   "source": [
    "# #hide\n",
    "# g = g[g.group.notna()]"
   ]
  },
  {
   "cell_type": "code",
   "execution_count": 40,
   "metadata": {
    "execution": {
     "iopub.execute_input": "2020-11-30T12:06:56.102632Z",
     "iopub.status.busy": "2020-11-30T12:06:56.102085Z",
     "iopub.status.idle": "2020-11-30T12:06:56.104353Z",
     "shell.execute_reply": "2020-11-30T12:06:56.104812Z"
    },
    "papermill": {
     "duration": 0.034993,
     "end_time": "2020-11-30T12:06:56.104933",
     "exception": false,
     "start_time": "2020-11-30T12:06:56.069940",
     "status": "completed"
    },
    "tags": []
   },
   "outputs": [],
   "source": [
    "# #hide\n",
    "# colors = dict(zip(\n",
    "#     [\"Oceania\", \"Europe\", \"Asia\", \"South America\", \"Middle East\", \"North America\", \"Africa\"],\n",
    "#     [\"#adb0ff\", \"#ffb3ff\", \"#90d595\", \"#e48381\", \"#aafbff\", \"#f7bb5f\", \"#eafb50\"]\n",
    "# ))\n",
    "# group_lk = g.set_index('name')['group'].to_dict()"
   ]
  },
  {
   "cell_type": "code",
   "execution_count": null,
   "metadata": {
    "papermill": {
     "duration": 0.024971,
     "end_time": "2020-11-30T12:06:56.154004",
     "exception": false,
     "start_time": "2020-11-30T12:06:56.129033",
     "status": "completed"
    },
    "tags": []
   },
   "outputs": [],
   "source": []
  },
  {
   "cell_type": "code",
   "execution_count": 41,
   "metadata": {
    "execution": {
     "iopub.execute_input": "2020-11-30T12:06:56.206604Z",
     "iopub.status.busy": "2020-11-30T12:06:56.206052Z",
     "iopub.status.idle": "2020-11-30T12:06:56.208187Z",
     "shell.execute_reply": "2020-11-30T12:06:56.207786Z"
    },
    "papermill": {
     "duration": 0.030762,
     "end_time": "2020-11-30T12:06:56.208282",
     "exception": false,
     "start_time": "2020-11-30T12:06:56.177520",
     "status": "completed"
    },
    "tags": []
   },
   "outputs": [],
   "source": [
    "# #hide\n",
    "# fig, ax = plt.subplots(figsize=(15, 8))\n",
    "\n",
    "# def draw_barchart(current_day):\n",
    "#     dff = g[g['day'].eq(current_day)].sort_values(by='value', ascending=True).tail(10)\n",
    "#     ax.clear()\n",
    "#     ax.barh(dff['name'], dff['value'], color=[colors[group_lk[x]] for x in dff['name']])\n",
    "#     dx = dff['value'].max() / 200\n",
    "    \n",
    "#     for i, (value, name) in enumerate(zip(dff['value'], dff['name'])):\n",
    "#         ax.text(value-dx, i,     name,           size=14, weight=600, ha='right', va='bottom')\n",
    "#         ax.text(value-dx, i-.25, group_lk[name], size=10, color='#444444', ha='right', va='baseline')\n",
    "#         ax.text(value+dx, i,     f'{value:,.0f}',  size=14, ha='left',  va='center')\n",
    "#     ax.text(1, 0.4, current_day, transform=ax.transAxes, color='#777777', size=46, ha='right', weight=800)\n",
    "#     ax.text(0, 1.06, 'Population (thousands)', transform=ax.transAxes, size=12, color='#777777')\n",
    "#     ax.xaxis.set_major_formatter(ticker.StrMethodFormatter('{x:,.0f}'))\n",
    "#     ax.xaxis.set_ticks_position('top')\n",
    "#     ax.tick_params(axis='x', colors='#777777', labelsize=12)\n",
    "#     ax.set_yticks([])\n",
    "#     ax.margins(0, 0.01)\n",
    "#     ax.grid(which='major', axis='x', linestyle='-')\n",
    "#     ax.set_axisbelow(True)\n",
    "    \n",
    "#     ax.text(0, 1.15, 'Coronavirus',\n",
    "#             transform=ax.transAxes, size=24, weight=600, ha='left', va='top')\n",
    "# #     ax.text(1, 0, 'by @pratapvardhan; credit @jburnmurdoch', transform=ax.transAxes, color='#777777', ha='right',\n",
    "# #             bbox=dict(facecolor='white', alpha=0.8, edgecolor='white'))\n",
    "#     plt.box(False)"
   ]
  },
  {
   "cell_type": "code",
   "execution_count": 42,
   "metadata": {
    "execution": {
     "iopub.execute_input": "2020-11-30T12:06:56.266943Z",
     "iopub.status.busy": "2020-11-30T12:06:56.266424Z",
     "iopub.status.idle": "2020-11-30T12:06:56.268158Z",
     "shell.execute_reply": "2020-11-30T12:06:56.268631Z"
    },
    "papermill": {
     "duration": 0.033905,
     "end_time": "2020-11-30T12:06:56.268759",
     "exception": false,
     "start_time": "2020-11-30T12:06:56.234854",
     "status": "completed"
    },
    "tags": []
   },
   "outputs": [],
   "source": [
    "# #hide_input\n",
    "# fig, ax = plt.subplots(figsize=(15, 8))\n",
    "# animator = animation.FuncAnimation(fig, draw_barchart, frames=range(g.day.values.min(), g.day.values.max()))\n",
    "# HTML(animator.to_jshtml())\n",
    "# # or use animator.to_html5_video() or animator.save() "
   ]
  },
  {
   "cell_type": "code",
   "execution_count": null,
   "metadata": {
    "papermill": {
     "duration": 0.029788,
     "end_time": "2020-11-30T12:06:56.326805",
     "exception": false,
     "start_time": "2020-11-30T12:06:56.297017",
     "status": "completed"
    },
    "tags": []
   },
   "outputs": [],
   "source": []
  },
  {
   "cell_type": "code",
   "execution_count": null,
   "metadata": {
    "papermill": {
     "duration": 0.025934,
     "end_time": "2020-11-30T12:06:56.377575",
     "exception": false,
     "start_time": "2020-11-30T12:06:56.351641",
     "status": "completed"
    },
    "tags": []
   },
   "outputs": [],
   "source": []
  },
  {
   "cell_type": "code",
   "execution_count": null,
   "metadata": {
    "papermill": {
     "duration": 0.023886,
     "end_time": "2020-11-30T12:06:56.427401",
     "exception": false,
     "start_time": "2020-11-30T12:06:56.403515",
     "status": "completed"
    },
    "tags": []
   },
   "outputs": [],
   "source": []
  }
 ],
 "metadata": {
  "kernelspec": {
   "display_name": "Python 3",
   "language": "python",
   "name": "python3"
  },
  "language_info": {
   "codemirror_mode": {
    "name": "ipython",
    "version": 3
   },
   "file_extension": ".py",
   "mimetype": "text/x-python",
   "name": "python",
   "nbconvert_exporter": "python",
   "pygments_lexer": "ipython3",
   "version": "3.6.12"
  },
  "papermill": {
   "duration": 7.622815,
   "end_time": "2020-11-30T12:06:56.760877",
   "environment_variables": {},
   "exception": null,
   "input_path": "2020-03-21-covid19exp.ipynb",
   "output_path": "2020-03-21-covid19exp.ipynb",
   "parameters": {},
   "start_time": "2020-11-30T12:06:49.138062",
   "version": "2.0.0"
  }
 },
 "nbformat": 4,
 "nbformat_minor": 4
}