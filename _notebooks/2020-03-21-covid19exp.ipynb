{
 "cells": [
  {
   "cell_type": "markdown",
   "id": "muslim-click",
   "metadata": {
    "papermill": {
     "duration": 0.040902,
     "end_time": "2022-02-27T12:13:36.135080",
     "exception": false,
     "start_time": "2022-02-27T12:13:36.094178",
     "status": "completed"
    },
    "tags": []
   },
   "source": [
    "# COVID-19 Case Race\n",
    "> A race chart to see rising cases around the world\n",
    "\n",
    "- author: Hargun Oberoi\n",
    "- image: images/covid-overview.png\n",
    "- hide: false\n",
    "- badges: false"
   ]
  },
  {
   "cell_type": "code",
   "execution_count": 1,
   "id": "proof-material",
   "metadata": {
    "execution": {
     "iopub.execute_input": "2022-02-27T12:13:36.221569Z",
     "iopub.status.busy": "2022-02-27T12:13:36.219220Z",
     "iopub.status.idle": "2022-02-27T12:13:36.614561Z",
     "shell.execute_reply": "2022-02-27T12:13:36.613643Z"
    },
    "papermill": {
     "duration": 0.440226,
     "end_time": "2022-02-27T12:13:36.614742",
     "exception": false,
     "start_time": "2022-02-27T12:13:36.174516",
     "status": "completed"
    },
    "tags": []
   },
   "outputs": [],
   "source": [
    "#hide\n",
    "import numpy as np\n",
    "import pandas as pd\n",
    "from jinja2 import Template\n",
    "from IPython.display import HTML"
   ]
  },
  {
   "cell_type": "code",
   "execution_count": 2,
   "id": "developed-terminology",
   "metadata": {
    "execution": {
     "iopub.execute_input": "2022-02-27T12:13:36.696680Z",
     "iopub.status.busy": "2022-02-27T12:13:36.696007Z",
     "iopub.status.idle": "2022-02-27T12:13:36.698751Z",
     "shell.execute_reply": "2022-02-27T12:13:36.698099Z"
    },
    "papermill": {
     "duration": 0.046621,
     "end_time": "2022-02-27T12:13:36.698883",
     "exception": false,
     "start_time": "2022-02-27T12:13:36.652262",
     "status": "completed"
    },
    "tags": []
   },
   "outputs": [],
   "source": [
    "#hide\n",
    "\n",
    "# FETCH\n",
    "base_url = 'https://raw.githubusercontent.com/pratapvardhan/notebooks/master/covid19/'\n",
    "paths = {\n",
    "    'mapping': base_url + 'mapping_countries.csv',\n",
    "    'overview': base_url + 'overview.tpl'\n",
    "}"
   ]
  },
  {
   "cell_type": "code",
   "execution_count": 3,
   "id": "dynamic-saver",
   "metadata": {
    "execution": {
     "iopub.execute_input": "2022-02-27T12:13:36.784140Z",
     "iopub.status.busy": "2022-02-27T12:13:36.783489Z",
     "iopub.status.idle": "2022-02-27T12:13:36.786947Z",
     "shell.execute_reply": "2022-02-27T12:13:36.786399Z"
    },
    "papermill": {
     "duration": 0.050428,
     "end_time": "2022-02-27T12:13:36.787080",
     "exception": false,
     "start_time": "2022-02-27T12:13:36.736652",
     "status": "completed"
    },
    "tags": []
   },
   "outputs": [
    {
     "data": {
      "text/plain": [
       "'https://raw.githubusercontent.com/pratapvardhan/notebooks/master/covid19/mapping_countries.csv'"
      ]
     },
     "execution_count": 3,
     "metadata": {},
     "output_type": "execute_result"
    }
   ],
   "source": [
    "#hide\n",
    "paths['mapping']"
   ]
  },
  {
   "cell_type": "code",
   "execution_count": 4,
   "id": "urban-software",
   "metadata": {
    "execution": {
     "iopub.execute_input": "2022-02-27T12:13:36.870182Z",
     "iopub.status.busy": "2022-02-27T12:13:36.869561Z",
     "iopub.status.idle": "2022-02-27T12:13:36.872006Z",
     "shell.execute_reply": "2022-02-27T12:13:36.871482Z"
    },
    "papermill": {
     "duration": 0.048026,
     "end_time": "2022-02-27T12:13:36.872128",
     "exception": false,
     "start_time": "2022-02-27T12:13:36.824102",
     "status": "completed"
    },
    "tags": []
   },
   "outputs": [],
   "source": [
    "#hide\n",
    "def get_mappings(url):\n",
    "    df = pd.read_csv(url)\n",
    "    return {\n",
    "        'df': df,\n",
    "        'replace.country': dict(df.dropna(subset=['Name']).set_index('Country')['Name']),\n",
    "        'map.continent': dict(df.set_index('Name')['Continent'])\n",
    "    }"
   ]
  },
  {
   "cell_type": "code",
   "execution_count": 5,
   "id": "intimate-machinery",
   "metadata": {
    "execution": {
     "iopub.execute_input": "2022-02-27T12:13:36.947678Z",
     "iopub.status.busy": "2022-02-27T12:13:36.947008Z",
     "iopub.status.idle": "2022-02-27T12:13:36.985372Z",
     "shell.execute_reply": "2022-02-27T12:13:36.984862Z"
    },
    "papermill": {
     "duration": 0.078603,
     "end_time": "2022-02-27T12:13:36.985497",
     "exception": false,
     "start_time": "2022-02-27T12:13:36.906894",
     "status": "completed"
    },
    "tags": []
   },
   "outputs": [],
   "source": [
    "#hide\n",
    "mapping = get_mappings(paths['mapping'])"
   ]
  },
  {
   "cell_type": "code",
   "execution_count": 6,
   "id": "certified-tactics",
   "metadata": {
    "execution": {
     "iopub.execute_input": "2022-02-27T12:13:37.064377Z",
     "iopub.status.busy": "2022-02-27T12:13:37.063631Z",
     "iopub.status.idle": "2022-02-27T12:13:37.066312Z",
     "shell.execute_reply": "2022-02-27T12:13:37.065783Z"
    },
    "papermill": {
     "duration": 0.046694,
     "end_time": "2022-02-27T12:13:37.066456",
     "exception": false,
     "start_time": "2022-02-27T12:13:37.019762",
     "status": "completed"
    },
    "tags": []
   },
   "outputs": [],
   "source": [
    "#hide\n",
    "def get_template(path):\n",
    "    from urllib.parse import urlparse\n",
    "    if bool(urlparse(path).netloc):\n",
    "        from urllib.request import urlopen\n",
    "        return urlopen(path).read().decode('utf8')\n",
    "    return open(path).read()"
   ]
  },
  {
   "cell_type": "code",
   "execution_count": 7,
   "id": "realistic-blast",
   "metadata": {
    "execution": {
     "iopub.execute_input": "2022-02-27T12:13:37.149225Z",
     "iopub.status.busy": "2022-02-27T12:13:37.148533Z",
     "iopub.status.idle": "2022-02-27T12:13:37.150934Z",
     "shell.execute_reply": "2022-02-27T12:13:37.150418Z"
    },
    "papermill": {
     "duration": 0.045447,
     "end_time": "2022-02-27T12:13:37.151055",
     "exception": false,
     "start_time": "2022-02-27T12:13:37.105608",
     "status": "completed"
    },
    "tags": []
   },
   "outputs": [],
   "source": [
    "#hide\n",
    "def get_frame(name):\n",
    "    url = (\n",
    "        'https://raw.githubusercontent.com/CSSEGISandData/COVID-19/master/csse_covid_19_data/'\n",
    "        f'csse_covid_19_time_series/time_series_covid19_{name}_global.csv')\n",
    "    df = pd.read_csv(url)\n",
    "    # rename countries\n",
    "    df['Country/Region'] = df['Country/Region'].replace(mapping['replace.country'])\n",
    "    return df"
   ]
  },
  {
   "cell_type": "code",
   "execution_count": 8,
   "id": "affiliated-characterization",
   "metadata": {
    "execution": {
     "iopub.execute_input": "2022-02-27T12:13:37.232530Z",
     "iopub.status.busy": "2022-02-27T12:13:37.231904Z",
     "iopub.status.idle": "2022-02-27T12:13:37.234478Z",
     "shell.execute_reply": "2022-02-27T12:13:37.233912Z"
    },
    "papermill": {
     "duration": 0.045683,
     "end_time": "2022-02-27T12:13:37.234624",
     "exception": false,
     "start_time": "2022-02-27T12:13:37.188941",
     "status": "completed"
    },
    "tags": []
   },
   "outputs": [],
   "source": [
    "#hide\n",
    "def get_dates(df):\n",
    "    dt_cols = df.columns[~df.columns.isin(['Province/State', 'Country/Region', 'Lat', 'Long'])]\n",
    "    LAST_DATE_I = -1\n",
    "    # sometimes last column may be empty, then go backwards\n",
    "    for i in range(-1, -len(dt_cols), -1):\n",
    "        if not df[dt_cols[i]].fillna(0).eq(0).all():\n",
    "            LAST_DATE_I = i\n",
    "            break\n",
    "    return LAST_DATE_I, dt_cols"
   ]
  },
  {
   "cell_type": "code",
   "execution_count": 9,
   "id": "recent-optimization",
   "metadata": {
    "execution": {
     "iopub.execute_input": "2022-02-27T12:13:37.312960Z",
     "iopub.status.busy": "2022-02-27T12:13:37.312204Z",
     "iopub.status.idle": "2022-02-27T12:13:37.766326Z",
     "shell.execute_reply": "2022-02-27T12:13:37.766821Z"
    },
    "papermill": {
     "duration": 0.494661,
     "end_time": "2022-02-27T12:13:37.766982",
     "exception": false,
     "start_time": "2022-02-27T12:13:37.272321",
     "status": "completed"
    },
    "tags": []
   },
   "outputs": [],
   "source": [
    "#hide\n",
    "COL_REGION = 'Country/Region'\n",
    "# Confirmed, Recovered, Deaths\n",
    "df = get_frame('confirmed')\n",
    "# dft_: timeseries, dfc_: today country agg\n",
    "dft_cases = df\n",
    "dft_deaths = get_frame('deaths')\n",
    "dft_recovered = get_frame('recovered')\n",
    "LAST_DATE_I, dt_cols = get_dates(df)"
   ]
  },
  {
   "cell_type": "code",
   "execution_count": 10,
   "id": "absolute-copper",
   "metadata": {
    "execution": {
     "iopub.execute_input": "2022-02-27T12:13:37.845797Z",
     "iopub.status.busy": "2022-02-27T12:13:37.845126Z",
     "iopub.status.idle": "2022-02-27T12:13:37.848042Z",
     "shell.execute_reply": "2022-02-27T12:13:37.847373Z"
    },
    "papermill": {
     "duration": 0.04342,
     "end_time": "2022-02-27T12:13:37.848186",
     "exception": false,
     "start_time": "2022-02-27T12:13:37.804766",
     "status": "completed"
    },
    "tags": []
   },
   "outputs": [],
   "source": [
    "#hide\n",
    "LAST_DATE_I, dt_cols = get_dates(df)\n",
    "dt_today =dt_cols[LAST_DATE_I]\n",
    "# dt_5day = dt_cols[LAST_DATE_I - 5]\n",
    "dt_yday = dt_cols[LAST_DATE_I - 1]"
   ]
  },
  {
   "cell_type": "code",
   "execution_count": 11,
   "id": "restricted-sheriff",
   "metadata": {
    "execution": {
     "iopub.execute_input": "2022-02-27T12:13:37.925392Z",
     "iopub.status.busy": "2022-02-27T12:13:37.924698Z",
     "iopub.status.idle": "2022-02-27T12:13:37.933170Z",
     "shell.execute_reply": "2022-02-27T12:13:37.933819Z"
    },
    "papermill": {
     "duration": 0.049348,
     "end_time": "2022-02-27T12:13:37.933962",
     "exception": false,
     "start_time": "2022-02-27T12:13:37.884614",
     "status": "completed"
    },
    "tags": []
   },
   "outputs": [],
   "source": [
    "#hide\n",
    "dfc_cases = dft_cases.groupby(COL_REGION)[dt_today].sum()\n",
    "dfc_deaths = dft_deaths.groupby(COL_REGION)[dt_today].sum()\n",
    "# dfp_cases = dft_cases.groupby(COL_REGION)[dt_5day].sum()\n",
    "# dfp_deaths = dft_deaths.groupby(COL_REGION)[dt_5day].sum()\n",
    "dfp_cases = dft_cases.groupby(COL_REGION)[dt_yday].sum()\n",
    "dfp_deaths = dft_deaths.groupby(COL_REGION)[dt_yday].sum()"
   ]
  },
  {
   "cell_type": "code",
   "execution_count": 12,
   "id": "deluxe-hepatitis",
   "metadata": {
    "execution": {
     "iopub.execute_input": "2022-02-27T12:13:38.013765Z",
     "iopub.status.busy": "2022-02-27T12:13:38.013079Z",
     "iopub.status.idle": "2022-02-27T12:13:38.018252Z",
     "shell.execute_reply": "2022-02-27T12:13:38.017679Z"
    },
    "papermill": {
     "duration": 0.048003,
     "end_time": "2022-02-27T12:13:38.018393",
     "exception": false,
     "start_time": "2022-02-27T12:13:37.970390",
     "status": "completed"
    },
    "tags": []
   },
   "outputs": [],
   "source": [
    "#hide\n",
    "df_table = (pd.DataFrame(dict(Cases = dfc_cases, Deaths = dfc_deaths, PCases = dfp_cases, PDeaths = dfp_deaths))\n",
    "            .sort_values(by = ['Cases','Deaths'], ascending = [False, False])\n",
    "            .reset_index())"
   ]
  },
  {
   "cell_type": "code",
   "execution_count": 13,
   "id": "educational-chancellor",
   "metadata": {
    "execution": {
     "iopub.execute_input": "2022-02-27T12:13:38.113783Z",
     "iopub.status.busy": "2022-02-27T12:13:38.113057Z",
     "iopub.status.idle": "2022-02-27T12:13:38.121382Z",
     "shell.execute_reply": "2022-02-27T12:13:38.121951Z"
    },
    "papermill": {
     "duration": 0.066439,
     "end_time": "2022-02-27T12:13:38.122103",
     "exception": false,
     "start_time": "2022-02-27T12:13:38.055664",
     "status": "completed"
    },
    "tags": []
   },
   "outputs": [
    {
     "data": {
      "text/html": [
       "<div>\n",
       "<style scoped>\n",
       "    .dataframe tbody tr th:only-of-type {\n",
       "        vertical-align: middle;\n",
       "    }\n",
       "\n",
       "    .dataframe tbody tr th {\n",
       "        vertical-align: top;\n",
       "    }\n",
       "\n",
       "    .dataframe thead th {\n",
       "        text-align: right;\n",
       "    }\n",
       "</style>\n",
       "<table border=\"1\" class=\"dataframe\">\n",
       "  <thead>\n",
       "    <tr style=\"text-align: right;\">\n",
       "      <th></th>\n",
       "      <th>Country/Region</th>\n",
       "      <th>Cases</th>\n",
       "      <th>Deaths</th>\n",
       "      <th>PCases</th>\n",
       "      <th>PDeaths</th>\n",
       "      <th>Cases (+)</th>\n",
       "      <th>Deaths (+)</th>\n",
       "      <th>Fatality Rate</th>\n",
       "      <th>Continent</th>\n",
       "    </tr>\n",
       "  </thead>\n",
       "  <tbody>\n",
       "    <tr>\n",
       "      <th>0</th>\n",
       "      <td>US</td>\n",
       "      <td>78931739</td>\n",
       "      <td>948215</td>\n",
       "      <td>78883101</td>\n",
       "      <td>947417</td>\n",
       "      <td>48638</td>\n",
       "      <td>798</td>\n",
       "      <td>1.20</td>\n",
       "      <td>North America</td>\n",
       "    </tr>\n",
       "    <tr>\n",
       "      <th>1</th>\n",
       "      <td>India</td>\n",
       "      <td>42916117</td>\n",
       "      <td>513724</td>\n",
       "      <td>42905844</td>\n",
       "      <td>513481</td>\n",
       "      <td>10273</td>\n",
       "      <td>243</td>\n",
       "      <td>1.20</td>\n",
       "      <td>Asia</td>\n",
       "    </tr>\n",
       "    <tr>\n",
       "      <th>2</th>\n",
       "      <td>Brazil</td>\n",
       "      <td>28749552</td>\n",
       "      <td>649184</td>\n",
       "      <td>28679671</td>\n",
       "      <td>648496</td>\n",
       "      <td>69881</td>\n",
       "      <td>688</td>\n",
       "      <td>2.26</td>\n",
       "      <td>South America</td>\n",
       "    </tr>\n",
       "    <tr>\n",
       "      <th>3</th>\n",
       "      <td>France</td>\n",
       "      <td>22819557</td>\n",
       "      <td>139073</td>\n",
       "      <td>22765934</td>\n",
       "      <td>138972</td>\n",
       "      <td>53623</td>\n",
       "      <td>101</td>\n",
       "      <td>0.61</td>\n",
       "      <td>Europe</td>\n",
       "    </tr>\n",
       "    <tr>\n",
       "      <th>4</th>\n",
       "      <td>United Kingdom</td>\n",
       "      <td>18938546</td>\n",
       "      <td>161797</td>\n",
       "      <td>18938546</td>\n",
       "      <td>161797</td>\n",
       "      <td>0</td>\n",
       "      <td>0</td>\n",
       "      <td>0.85</td>\n",
       "      <td>Europe</td>\n",
       "    </tr>\n",
       "  </tbody>\n",
       "</table>\n",
       "</div>"
      ],
      "text/plain": [
       "   Country/Region     Cases  Deaths    PCases  PDeaths  Cases (+)  Deaths (+)  \\\n",
       "0              US  78931739  948215  78883101   947417      48638         798   \n",
       "1           India  42916117  513724  42905844   513481      10273         243   \n",
       "2          Brazil  28749552  649184  28679671   648496      69881         688   \n",
       "3          France  22819557  139073  22765934   138972      53623         101   \n",
       "4  United Kingdom  18938546  161797  18938546   161797          0           0   \n",
       "\n",
       "   Fatality Rate      Continent  \n",
       "0           1.20  North America  \n",
       "1           1.20           Asia  \n",
       "2           2.26  South America  \n",
       "3           0.61         Europe  \n",
       "4           0.85         Europe  "
      ]
     },
     "execution_count": 13,
     "metadata": {},
     "output_type": "execute_result"
    }
   ],
   "source": [
    "#hide\n",
    "for c in 'Cases, Deaths'.split(', '):\n",
    "    df_table[f'{c} (+)'] = (df_table[c] - df_table[f'P{c}']).clip(0)\n",
    "    #Clip ça veut dire, les chiffres negatif sont interdit\n",
    "df_table['Fatality Rate'] = (100* df_table['Deaths']/ df_table['Cases']).round(2)\n",
    "df_table['Continent'] = df_table['Country/Region'].map(mapping['map.continent'])\n",
    "df_table.head(5)"
   ]
  },
  {
   "cell_type": "code",
   "execution_count": 14,
   "id": "aboriginal-bulgaria",
   "metadata": {
    "execution": {
     "iopub.execute_input": "2022-02-27T12:13:38.200539Z",
     "iopub.status.busy": "2022-02-27T12:13:38.199950Z",
     "iopub.status.idle": "2022-02-27T12:13:38.202496Z",
     "shell.execute_reply": "2022-02-27T12:13:38.201894Z"
    },
    "papermill": {
     "duration": 0.044602,
     "end_time": "2022-02-27T12:13:38.202635",
     "exception": false,
     "start_time": "2022-02-27T12:13:38.158033",
     "status": "completed"
    },
    "tags": []
   },
   "outputs": [],
   "source": [
    "#hide\n",
    "#delete problematic countries from table\n",
    "df_table = df_table[~df_table['Country/Region'].isin(['Cape Verde', 'Cruise Ship', 'Kosovo'])]"
   ]
  },
  {
   "cell_type": "code",
   "execution_count": 15,
   "id": "fantastic-effect",
   "metadata": {
    "execution": {
     "iopub.execute_input": "2022-02-27T12:13:38.288791Z",
     "iopub.status.busy": "2022-02-27T12:13:38.288107Z",
     "iopub.status.idle": "2022-02-27T12:13:38.310847Z",
     "shell.execute_reply": "2022-02-27T12:13:38.309935Z"
    },
    "papermill": {
     "duration": 0.069039,
     "end_time": "2022-02-27T12:13:38.310989",
     "exception": false,
     "start_time": "2022-02-27T12:13:38.241950",
     "status": "completed"
    },
    "tags": []
   },
   "outputs": [
    {
     "data": {
      "text/html": [
       "<div>\n",
       "<style scoped>\n",
       "    .dataframe tbody tr th:only-of-type {\n",
       "        vertical-align: middle;\n",
       "    }\n",
       "\n",
       "    .dataframe tbody tr th {\n",
       "        vertical-align: top;\n",
       "    }\n",
       "\n",
       "    .dataframe thead th {\n",
       "        text-align: right;\n",
       "    }\n",
       "</style>\n",
       "<table border=\"1\" class=\"dataframe\">\n",
       "  <thead>\n",
       "    <tr style=\"text-align: right;\">\n",
       "      <th></th>\n",
       "      <th>Country/Region</th>\n",
       "      <th>Cases</th>\n",
       "      <th>Deaths</th>\n",
       "      <th>PCases</th>\n",
       "      <th>PDeaths</th>\n",
       "      <th>Cases (+)</th>\n",
       "      <th>Deaths (+)</th>\n",
       "      <th>Fatality Rate</th>\n",
       "      <th>Continent</th>\n",
       "    </tr>\n",
       "  </thead>\n",
       "  <tbody>\n",
       "    <tr>\n",
       "      <th>0</th>\n",
       "      <td>US</td>\n",
       "      <td>78931739</td>\n",
       "      <td>948215</td>\n",
       "      <td>78883101</td>\n",
       "      <td>947417</td>\n",
       "      <td>48638</td>\n",
       "      <td>798</td>\n",
       "      <td>1.2</td>\n",
       "      <td>North America</td>\n",
       "    </tr>\n",
       "    <tr>\n",
       "      <th>1</th>\n",
       "      <td>India</td>\n",
       "      <td>42916117</td>\n",
       "      <td>513724</td>\n",
       "      <td>42905844</td>\n",
       "      <td>513481</td>\n",
       "      <td>10273</td>\n",
       "      <td>243</td>\n",
       "      <td>1.2</td>\n",
       "      <td>Asia</td>\n",
       "    </tr>\n",
       "    <tr>\n",
       "      <th>2</th>\n",
       "      <td>Brazil</td>\n",
       "      <td>28749552</td>\n",
       "      <td>649184</td>\n",
       "      <td>28679671</td>\n",
       "      <td>648496</td>\n",
       "      <td>69881</td>\n",
       "      <td>688</td>\n",
       "      <td>2.3</td>\n",
       "      <td>South America</td>\n",
       "    </tr>\n",
       "    <tr>\n",
       "      <th>3</th>\n",
       "      <td>France</td>\n",
       "      <td>22819557</td>\n",
       "      <td>139073</td>\n",
       "      <td>22765934</td>\n",
       "      <td>138972</td>\n",
       "      <td>53623</td>\n",
       "      <td>101</td>\n",
       "      <td>0.6</td>\n",
       "      <td>Europe</td>\n",
       "    </tr>\n",
       "    <tr>\n",
       "      <th>4</th>\n",
       "      <td>United Kingdom</td>\n",
       "      <td>18938546</td>\n",
       "      <td>161797</td>\n",
       "      <td>18938546</td>\n",
       "      <td>161797</td>\n",
       "      <td>0</td>\n",
       "      <td>0</td>\n",
       "      <td>0.9</td>\n",
       "      <td>Europe</td>\n",
       "    </tr>\n",
       "  </tbody>\n",
       "</table>\n",
       "</div>"
      ],
      "text/plain": [
       "   Country/Region     Cases  Deaths    PCases  PDeaths  Cases (+)  Deaths (+)  \\\n",
       "0              US  78931739  948215  78883101   947417      48638         798   \n",
       "1           India  42916117  513724  42905844   513481      10273         243   \n",
       "2          Brazil  28749552  649184  28679671   648496      69881         688   \n",
       "3          France  22819557  139073  22765934   138972      53623         101   \n",
       "4  United Kingdom  18938546  161797  18938546   161797          0           0   \n",
       "\n",
       "   Fatality Rate      Continent  \n",
       "0            1.2  North America  \n",
       "1            1.2           Asia  \n",
       "2            2.3  South America  \n",
       "3            0.6         Europe  \n",
       "4            0.9         Europe  "
      ]
     },
     "execution_count": 15,
     "metadata": {},
     "output_type": "execute_result"
    }
   ],
   "source": [
    "#hide\n",
    "df_table = (pd.DataFrame(dict(Cases=dfc_cases, Deaths=dfc_deaths, PCases=dfp_cases, PDeaths=dfp_deaths))\n",
    "             .sort_values(by=['Cases', 'Deaths'], ascending=[False, False])\n",
    "             .reset_index())\n",
    "df_table.rename(columns={'index': 'Country/Region'}, inplace=True)\n",
    "for c in 'Cases, Deaths'.split(', '):\n",
    "    df_table[f'{c} (+)'] = (df_table[c] - df_table[f'P{c}']).clip(0)  # DATA BUG\n",
    "df_table['Fatality Rate'] = (100 * df_table['Deaths'] / df_table['Cases']).round(1)\n",
    "df_table['Continent'] = df_table['Country/Region'].map(mapping['map.continent'])\n",
    "df_table.head(5)"
   ]
  },
  {
   "cell_type": "code",
   "execution_count": 16,
   "id": "fewer-occasion",
   "metadata": {
    "execution": {
     "iopub.execute_input": "2022-02-27T12:13:38.394071Z",
     "iopub.status.busy": "2022-02-27T12:13:38.393420Z",
     "iopub.status.idle": "2022-02-27T12:13:38.395907Z",
     "shell.execute_reply": "2022-02-27T12:13:38.395242Z"
    },
    "papermill": {
     "duration": 0.046104,
     "end_time": "2022-02-27T12:13:38.396037",
     "exception": false,
     "start_time": "2022-02-27T12:13:38.349933",
     "status": "completed"
    },
    "tags": []
   },
   "outputs": [],
   "source": [
    "#hide\n",
    "#delete problematic countries from table\n",
    "df_table = df_table[~df_table['Country/Region'].isin(['Cape Verde', 'Cruise Ship', 'Kosovo'])]"
   ]
  },
  {
   "cell_type": "code",
   "execution_count": 17,
   "id": "related-center",
   "metadata": {
    "execution": {
     "iopub.execute_input": "2022-02-27T12:13:38.495256Z",
     "iopub.status.busy": "2022-02-27T12:13:38.494571Z",
     "iopub.status.idle": "2022-02-27T12:13:38.497239Z",
     "shell.execute_reply": "2022-02-27T12:13:38.496705Z"
    },
    "papermill": {
     "duration": 0.062052,
     "end_time": "2022-02-27T12:13:38.497386",
     "exception": false,
     "start_time": "2022-02-27T12:13:38.435334",
     "status": "completed"
    },
    "tags": []
   },
   "outputs": [],
   "source": [
    "#hide\n",
    "metrics = [df_table.columns[index] for index in [1,2,5,6]]\n",
    "# s_china = df_table[df_table['Country/Region'].eq('China')][metrics].sum().add_prefix('China ')\n",
    "s_us = df_table[df_table['Country/Region'].eq('US')][metrics].sum().add_prefix('US ')\n",
    "s_eu = df_table[df_table['Continent'].eq('Europe')][metrics].sum().add_prefix('EU ')\n",
    "s_ind = df_table[df_table['Country/Region'].eq('India')][metrics].sum().add_prefix('India ')\n",
    "summary = {'updated': pd.to_datetime(dt_today), 'since': pd.to_datetime(dt_yday)}\n",
    "summary = {'updated': pd.to_datetime(dt_today), 'since': pd.to_datetime(dt_yday)}\n",
    "summary = {**summary, **df_table[metrics].sum(), **s_ind, **s_us, **s_eu}"
   ]
  },
  {
   "cell_type": "code",
   "execution_count": 18,
   "id": "engaging-syndrome",
   "metadata": {
    "execution": {
     "iopub.execute_input": "2022-02-27T12:13:38.580274Z",
     "iopub.status.busy": "2022-02-27T12:13:38.579592Z",
     "iopub.status.idle": "2022-02-27T12:13:38.596334Z",
     "shell.execute_reply": "2022-02-27T12:13:38.596949Z"
    },
    "papermill": {
     "duration": 0.061603,
     "end_time": "2022-02-27T12:13:38.597164",
     "exception": false,
     "start_time": "2022-02-27T12:13:38.535561",
     "status": "completed"
    },
    "tags": []
   },
   "outputs": [],
   "source": [
    "#hide\n",
    "dft_ct_new_cases = dft_cases.groupby(COL_REGION)[dt_cols].sum().diff(axis=1).fillna(0).astype(int)"
   ]
  },
  {
   "cell_type": "code",
   "execution_count": 19,
   "id": "neutral-assignment",
   "metadata": {
    "execution": {
     "iopub.execute_input": "2022-02-27T12:13:38.679505Z",
     "iopub.status.busy": "2022-02-27T12:13:38.678785Z",
     "iopub.status.idle": "2022-02-27T12:13:38.681392Z",
     "shell.execute_reply": "2022-02-27T12:13:38.682032Z"
    },
    "papermill": {
     "duration": 0.046511,
     "end_time": "2022-02-27T12:13:38.682194",
     "exception": false,
     "start_time": "2022-02-27T12:13:38.635683",
     "status": "completed"
    },
    "tags": []
   },
   "outputs": [],
   "source": [
    "#hide\n",
    "everydaycases = dft_ct_new_cases.cumsum(axis=1)"
   ]
  },
  {
   "cell_type": "code",
   "execution_count": 20,
   "id": "parliamentary-calgary",
   "metadata": {
    "execution": {
     "iopub.execute_input": "2022-02-27T12:13:38.760441Z",
     "iopub.status.busy": "2022-02-27T12:13:38.759819Z",
     "iopub.status.idle": "2022-02-27T12:13:39.521183Z",
     "shell.execute_reply": "2022-02-27T12:13:39.520138Z"
    },
    "papermill": {
     "duration": 0.8017,
     "end_time": "2022-02-27T12:13:39.521341",
     "exception": false,
     "start_time": "2022-02-27T12:13:38.719641",
     "status": "completed"
    },
    "tags": []
   },
   "outputs": [],
   "source": [
    "#hide\n",
    "import pandas as pd\n",
    "import matplotlib.pyplot as plt\n",
    "import matplotlib.ticker as ticker\n",
    "import matplotlib.animation as animation\n",
    "from IPython.display import HTML"
   ]
  },
  {
   "cell_type": "code",
   "execution_count": 21,
   "id": "lasting-extraction",
   "metadata": {
    "execution": {
     "iopub.execute_input": "2022-02-27T12:13:39.621730Z",
     "iopub.status.busy": "2022-02-27T12:13:39.620695Z",
     "iopub.status.idle": "2022-02-27T12:13:39.627425Z",
     "shell.execute_reply": "2022-02-27T12:13:39.626823Z"
    },
    "papermill": {
     "duration": 0.068279,
     "end_time": "2022-02-27T12:13:39.627566",
     "exception": false,
     "start_time": "2022-02-27T12:13:39.559287",
     "status": "completed"
    },
    "tags": []
   },
   "outputs": [],
   "source": [
    "#hide\n",
    "t = everydaycases.stack()"
   ]
  },
  {
   "cell_type": "code",
   "execution_count": 22,
   "id": "premier-sleeve",
   "metadata": {
    "execution": {
     "iopub.execute_input": "2022-02-27T12:13:39.709428Z",
     "iopub.status.busy": "2022-02-27T12:13:39.708743Z",
     "iopub.status.idle": "2022-02-27T12:13:39.719722Z",
     "shell.execute_reply": "2022-02-27T12:13:39.719190Z"
    },
    "papermill": {
     "duration": 0.053555,
     "end_time": "2022-02-27T12:13:39.719858",
     "exception": false,
     "start_time": "2022-02-27T12:13:39.666303",
     "status": "completed"
    },
    "tags": []
   },
   "outputs": [],
   "source": [
    "#hide\n",
    "g = t.reset_index(['Country/Region'])"
   ]
  },
  {
   "cell_type": "code",
   "execution_count": 23,
   "id": "distributed-pittsburgh",
   "metadata": {
    "execution": {
     "iopub.execute_input": "2022-02-27T12:13:39.799590Z",
     "iopub.status.busy": "2022-02-27T12:13:39.798913Z",
     "iopub.status.idle": "2022-02-27T12:13:39.801973Z",
     "shell.execute_reply": "2022-02-27T12:13:39.801362Z"
    },
    "papermill": {
     "duration": 0.044856,
     "end_time": "2022-02-27T12:13:39.802149",
     "exception": false,
     "start_time": "2022-02-27T12:13:39.757293",
     "status": "completed"
    },
    "tags": []
   },
   "outputs": [],
   "source": [
    "#hide\n",
    "g.index.name = 'date'"
   ]
  },
  {
   "cell_type": "code",
   "execution_count": 24,
   "id": "naked-donor",
   "metadata": {
    "execution": {
     "iopub.execute_input": "2022-02-27T12:13:39.878507Z",
     "iopub.status.busy": "2022-02-27T12:13:39.877814Z",
     "iopub.status.idle": "2022-02-27T12:13:39.880213Z",
     "shell.execute_reply": "2022-02-27T12:13:39.879708Z"
    },
    "papermill": {
     "duration": 0.042467,
     "end_time": "2022-02-27T12:13:39.880335",
     "exception": false,
     "start_time": "2022-02-27T12:13:39.837868",
     "status": "completed"
    },
    "tags": []
   },
   "outputs": [],
   "source": [
    "# #hide\n",
    "# g = g.reset_index(['date'])"
   ]
  },
  {
   "cell_type": "code",
   "execution_count": 25,
   "id": "incomplete-mustang",
   "metadata": {
    "execution": {
     "iopub.execute_input": "2022-02-27T12:13:39.957452Z",
     "iopub.status.busy": "2022-02-27T12:13:39.956837Z",
     "iopub.status.idle": "2022-02-27T12:13:39.959450Z",
     "shell.execute_reply": "2022-02-27T12:13:39.958773Z"
    },
    "papermill": {
     "duration": 0.040728,
     "end_time": "2022-02-27T12:13:39.959567",
     "exception": false,
     "start_time": "2022-02-27T12:13:39.918839",
     "status": "completed"
    },
    "tags": []
   },
   "outputs": [],
   "source": [
    "#hide\n",
    "# g.head()"
   ]
  },
  {
   "cell_type": "code",
   "execution_count": 26,
   "id": "specific-kruger",
   "metadata": {
    "execution": {
     "iopub.execute_input": "2022-02-27T12:13:40.034764Z",
     "iopub.status.busy": "2022-02-27T12:13:40.034172Z",
     "iopub.status.idle": "2022-02-27T12:13:40.038036Z",
     "shell.execute_reply": "2022-02-27T12:13:40.038559Z"
    },
    "papermill": {
     "duration": 0.043476,
     "end_time": "2022-02-27T12:13:40.038694",
     "exception": false,
     "start_time": "2022-02-27T12:13:39.995218",
     "status": "completed"
    },
    "tags": []
   },
   "outputs": [],
   "source": [
    "#hide\n",
    "# g.columns = ['date','country','cases']"
   ]
  },
  {
   "cell_type": "code",
   "execution_count": 27,
   "id": "tender-conversion",
   "metadata": {
    "execution": {
     "iopub.execute_input": "2022-02-27T12:13:40.132010Z",
     "iopub.status.busy": "2022-02-27T12:13:40.131342Z",
     "iopub.status.idle": "2022-02-27T12:13:40.133851Z",
     "shell.execute_reply": "2022-02-27T12:13:40.133198Z"
    },
    "papermill": {
     "duration": 0.054143,
     "end_time": "2022-02-27T12:13:40.133990",
     "exception": false,
     "start_time": "2022-02-27T12:13:40.079847",
     "status": "completed"
    },
    "tags": []
   },
   "outputs": [],
   "source": [
    "#hide\n",
    "# g['continent'] = g.country"
   ]
  },
  {
   "cell_type": "code",
   "execution_count": 28,
   "id": "substantial-wilderness",
   "metadata": {
    "execution": {
     "iopub.execute_input": "2022-02-27T12:13:40.218567Z",
     "iopub.status.busy": "2022-02-27T12:13:40.217893Z",
     "iopub.status.idle": "2022-02-27T12:13:40.220391Z",
     "shell.execute_reply": "2022-02-27T12:13:40.219793Z"
    },
    "papermill": {
     "duration": 0.046513,
     "end_time": "2022-02-27T12:13:40.220523",
     "exception": false,
     "start_time": "2022-02-27T12:13:40.174010",
     "status": "completed"
    },
    "tags": []
   },
   "outputs": [],
   "source": [
    "#hide\n",
    "# cols = list(g.columns.values)"
   ]
  },
  {
   "cell_type": "code",
   "execution_count": 29,
   "id": "solved-farming",
   "metadata": {
    "execution": {
     "iopub.execute_input": "2022-02-27T12:13:40.302312Z",
     "iopub.status.busy": "2022-02-27T12:13:40.301152Z",
     "iopub.status.idle": "2022-02-27T12:13:40.305632Z",
     "shell.execute_reply": "2022-02-27T12:13:40.306148Z"
    },
    "papermill": {
     "duration": 0.046702,
     "end_time": "2022-02-27T12:13:40.306335",
     "exception": false,
     "start_time": "2022-02-27T12:13:40.259633",
     "status": "completed"
    },
    "tags": []
   },
   "outputs": [],
   "source": [
    "#hide\n",
    "# cols.insert(0, cols.pop())"
   ]
  },
  {
   "cell_type": "code",
   "execution_count": 30,
   "id": "executed-adoption",
   "metadata": {
    "execution": {
     "iopub.execute_input": "2022-02-27T12:13:40.384593Z",
     "iopub.status.busy": "2022-02-27T12:13:40.383952Z",
     "iopub.status.idle": "2022-02-27T12:13:40.386808Z",
     "shell.execute_reply": "2022-02-27T12:13:40.386273Z"
    },
    "papermill": {
     "duration": 0.042215,
     "end_time": "2022-02-27T12:13:40.386934",
     "exception": false,
     "start_time": "2022-02-27T12:13:40.344719",
     "status": "completed"
    },
    "tags": []
   },
   "outputs": [],
   "source": [
    "#hide\n",
    "# g = g[cols]"
   ]
  },
  {
   "cell_type": "code",
   "execution_count": 31,
   "id": "subject-dublin",
   "metadata": {
    "execution": {
     "iopub.execute_input": "2022-02-27T12:13:40.462537Z",
     "iopub.status.busy": "2022-02-27T12:13:40.461948Z",
     "iopub.status.idle": "2022-02-27T12:13:40.464252Z",
     "shell.execute_reply": "2022-02-27T12:13:40.464777Z"
    },
    "papermill": {
     "duration": 0.041394,
     "end_time": "2022-02-27T12:13:40.464926",
     "exception": false,
     "start_time": "2022-02-27T12:13:40.423532",
     "status": "completed"
    },
    "tags": []
   },
   "outputs": [],
   "source": [
    "#hide\n",
    "# g['continent'] = g['continent'].map(mapping['map.continent'])"
   ]
  },
  {
   "cell_type": "code",
   "execution_count": 32,
   "id": "freelance-scout",
   "metadata": {
    "execution": {
     "iopub.execute_input": "2022-02-27T12:13:40.540675Z",
     "iopub.status.busy": "2022-02-27T12:13:40.540028Z",
     "iopub.status.idle": "2022-02-27T12:13:40.542330Z",
     "shell.execute_reply": "2022-02-27T12:13:40.542778Z"
    },
    "papermill": {
     "duration": 0.043441,
     "end_time": "2022-02-27T12:13:40.542910",
     "exception": false,
     "start_time": "2022-02-27T12:13:40.499469",
     "status": "completed"
    },
    "tags": []
   },
   "outputs": [],
   "source": [
    "#hide\n",
    "# g.head()"
   ]
  },
  {
   "cell_type": "code",
   "execution_count": 33,
   "id": "limited-engine",
   "metadata": {
    "execution": {
     "iopub.execute_input": "2022-02-27T12:13:40.636190Z",
     "iopub.status.busy": "2022-02-27T12:13:40.635542Z",
     "iopub.status.idle": "2022-02-27T12:13:40.637614Z",
     "shell.execute_reply": "2022-02-27T12:13:40.637035Z"
    },
    "papermill": {
     "duration": 0.045339,
     "end_time": "2022-02-27T12:13:40.637737",
     "exception": false,
     "start_time": "2022-02-27T12:13:40.592398",
     "status": "completed"
    },
    "tags": []
   },
   "outputs": [],
   "source": [
    "# hide\n",
    "# g['date'] = g['date'].astype('datetime64[ns]')"
   ]
  },
  {
   "cell_type": "code",
   "execution_count": 34,
   "id": "sophisticated-supervisor",
   "metadata": {
    "execution": {
     "iopub.execute_input": "2022-02-27T12:13:40.726835Z",
     "iopub.status.busy": "2022-02-27T12:13:40.726171Z",
     "iopub.status.idle": "2022-02-27T12:13:40.729955Z",
     "shell.execute_reply": "2022-02-27T12:13:40.730444Z"
    },
    "papermill": {
     "duration": 0.054066,
     "end_time": "2022-02-27T12:13:40.730603",
     "exception": false,
     "start_time": "2022-02-27T12:13:40.676537",
     "status": "completed"
    },
    "tags": []
   },
   "outputs": [],
   "source": [
    "#hide\n",
    "# g['date'] = g.date.dt.dayofyear"
   ]
  },
  {
   "cell_type": "code",
   "execution_count": 35,
   "id": "inside-dubai",
   "metadata": {
    "execution": {
     "iopub.execute_input": "2022-02-27T12:13:40.810097Z",
     "iopub.status.busy": "2022-02-27T12:13:40.809400Z",
     "iopub.status.idle": "2022-02-27T12:13:40.811928Z",
     "shell.execute_reply": "2022-02-27T12:13:40.811340Z"
    },
    "papermill": {
     "duration": 0.042957,
     "end_time": "2022-02-27T12:13:40.812063",
     "exception": false,
     "start_time": "2022-02-27T12:13:40.769106",
     "status": "completed"
    },
    "tags": []
   },
   "outputs": [],
   "source": [
    "#hide\n",
    "# g = g.rename(columns= {'continent':'group','country':'name','cases':'value'})"
   ]
  },
  {
   "cell_type": "code",
   "execution_count": 36,
   "id": "fleet-motorcycle",
   "metadata": {
    "execution": {
     "iopub.execute_input": "2022-02-27T12:13:40.889810Z",
     "iopub.status.busy": "2022-02-27T12:13:40.889224Z",
     "iopub.status.idle": "2022-02-27T12:13:40.891659Z",
     "shell.execute_reply": "2022-02-27T12:13:40.891164Z"
    },
    "papermill": {
     "duration": 0.042797,
     "end_time": "2022-02-27T12:13:40.891779",
     "exception": false,
     "start_time": "2022-02-27T12:13:40.848982",
     "status": "completed"
    },
    "tags": []
   },
   "outputs": [],
   "source": [
    "#hide\n",
    "# cols = ['name','group','day','value']"
   ]
  },
  {
   "cell_type": "code",
   "execution_count": 37,
   "id": "continued-sleeping",
   "metadata": {
    "execution": {
     "iopub.execute_input": "2022-02-27T12:13:40.969790Z",
     "iopub.status.busy": "2022-02-27T12:13:40.969196Z",
     "iopub.status.idle": "2022-02-27T12:13:40.972797Z",
     "shell.execute_reply": "2022-02-27T12:13:40.973254Z"
    },
    "papermill": {
     "duration": 0.04413,
     "end_time": "2022-02-27T12:13:40.973410",
     "exception": false,
     "start_time": "2022-02-27T12:13:40.929280",
     "status": "completed"
    },
    "tags": []
   },
   "outputs": [],
   "source": [
    "#hide\n",
    "# g.rename(columns= {'date':'day'},inplace = True)"
   ]
  },
  {
   "cell_type": "code",
   "execution_count": 38,
   "id": "major-fight",
   "metadata": {
    "execution": {
     "iopub.execute_input": "2022-02-27T12:13:41.050214Z",
     "iopub.status.busy": "2022-02-27T12:13:41.049601Z",
     "iopub.status.idle": "2022-02-27T12:13:41.052172Z",
     "shell.execute_reply": "2022-02-27T12:13:41.051597Z"
    },
    "papermill": {
     "duration": 0.041917,
     "end_time": "2022-02-27T12:13:41.052313",
     "exception": false,
     "start_time": "2022-02-27T12:13:41.010396",
     "status": "completed"
    },
    "tags": []
   },
   "outputs": [],
   "source": [
    "#hide\n",
    "# g = g[cols]"
   ]
  },
  {
   "cell_type": "code",
   "execution_count": 39,
   "id": "structured-mobile",
   "metadata": {
    "execution": {
     "iopub.execute_input": "2022-02-27T12:13:41.132753Z",
     "iopub.status.busy": "2022-02-27T12:13:41.132122Z",
     "iopub.status.idle": "2022-02-27T12:13:41.134416Z",
     "shell.execute_reply": "2022-02-27T12:13:41.133914Z"
    },
    "papermill": {
     "duration": 0.042643,
     "end_time": "2022-02-27T12:13:41.134538",
     "exception": false,
     "start_time": "2022-02-27T12:13:41.091895",
     "status": "completed"
    },
    "tags": []
   },
   "outputs": [],
   "source": [
    "# #hide\n",
    "# g = g[g.group.notna()]"
   ]
  },
  {
   "cell_type": "code",
   "execution_count": 40,
   "id": "determined-closing",
   "metadata": {
    "execution": {
     "iopub.execute_input": "2022-02-27T12:13:41.219229Z",
     "iopub.status.busy": "2022-02-27T12:13:41.218444Z",
     "iopub.status.idle": "2022-02-27T12:13:41.221176Z",
     "shell.execute_reply": "2022-02-27T12:13:41.220677Z"
    },
    "papermill": {
     "duration": 0.049171,
     "end_time": "2022-02-27T12:13:41.221297",
     "exception": false,
     "start_time": "2022-02-27T12:13:41.172126",
     "status": "completed"
    },
    "tags": []
   },
   "outputs": [],
   "source": [
    "# #hide\n",
    "# colors = dict(zip(\n",
    "#     [\"Oceania\", \"Europe\", \"Asia\", \"South America\", \"Middle East\", \"North America\", \"Africa\"],\n",
    "#     [\"#adb0ff\", \"#ffb3ff\", \"#90d595\", \"#e48381\", \"#aafbff\", \"#f7bb5f\", \"#eafb50\"]\n",
    "# ))\n",
    "# group_lk = g.set_index('name')['group'].to_dict()"
   ]
  },
  {
   "cell_type": "code",
   "execution_count": null,
   "id": "gross-drinking",
   "metadata": {
    "papermill": {
     "duration": 0.036979,
     "end_time": "2022-02-27T12:13:41.294021",
     "exception": false,
     "start_time": "2022-02-27T12:13:41.257042",
     "status": "completed"
    },
    "tags": []
   },
   "outputs": [],
   "source": []
  },
  {
   "cell_type": "code",
   "execution_count": 41,
   "id": "subject-macintosh",
   "metadata": {
    "execution": {
     "iopub.execute_input": "2022-02-27T12:13:41.373736Z",
     "iopub.status.busy": "2022-02-27T12:13:41.373068Z",
     "iopub.status.idle": "2022-02-27T12:13:41.377563Z",
     "shell.execute_reply": "2022-02-27T12:13:41.377022Z"
    },
    "papermill": {
     "duration": 0.046465,
     "end_time": "2022-02-27T12:13:41.377691",
     "exception": false,
     "start_time": "2022-02-27T12:13:41.331226",
     "status": "completed"
    },
    "tags": []
   },
   "outputs": [],
   "source": [
    "# #hide\n",
    "# fig, ax = plt.subplots(figsize=(15, 8))\n",
    "\n",
    "# def draw_barchart(current_day):\n",
    "#     dff = g[g['day'].eq(current_day)].sort_values(by='value', ascending=True).tail(10)\n",
    "#     ax.clear()\n",
    "#     ax.barh(dff['name'], dff['value'], color=[colors[group_lk[x]] for x in dff['name']])\n",
    "#     dx = dff['value'].max() / 200\n",
    "    \n",
    "#     for i, (value, name) in enumerate(zip(dff['value'], dff['name'])):\n",
    "#         ax.text(value-dx, i,     name,           size=14, weight=600, ha='right', va='bottom')\n",
    "#         ax.text(value-dx, i-.25, group_lk[name], size=10, color='#444444', ha='right', va='baseline')\n",
    "#         ax.text(value+dx, i,     f'{value:,.0f}',  size=14, ha='left',  va='center')\n",
    "#     ax.text(1, 0.4, current_day, transform=ax.transAxes, color='#777777', size=46, ha='right', weight=800)\n",
    "#     ax.text(0, 1.06, 'Population (thousands)', transform=ax.transAxes, size=12, color='#777777')\n",
    "#     ax.xaxis.set_major_formatter(ticker.StrMethodFormatter('{x:,.0f}'))\n",
    "#     ax.xaxis.set_ticks_position('top')\n",
    "#     ax.tick_params(axis='x', colors='#777777', labelsize=12)\n",
    "#     ax.set_yticks([])\n",
    "#     ax.margins(0, 0.01)\n",
    "#     ax.grid(which='major', axis='x', linestyle='-')\n",
    "#     ax.set_axisbelow(True)\n",
    "    \n",
    "#     ax.text(0, 1.15, 'Coronavirus',\n",
    "#             transform=ax.transAxes, size=24, weight=600, ha='left', va='top')\n",
    "# #     ax.text(1, 0, 'by @pratapvardhan; credit @jburnmurdoch', transform=ax.transAxes, color='#777777', ha='right',\n",
    "# #             bbox=dict(facecolor='white', alpha=0.8, edgecolor='white'))\n",
    "#     plt.box(False)"
   ]
  },
  {
   "cell_type": "code",
   "execution_count": 42,
   "id": "sexual-wages",
   "metadata": {
    "execution": {
     "iopub.execute_input": "2022-02-27T12:13:41.451934Z",
     "iopub.status.busy": "2022-02-27T12:13:41.451254Z",
     "iopub.status.idle": "2022-02-27T12:13:41.456583Z",
     "shell.execute_reply": "2022-02-27T12:13:41.456070Z"
    },
    "papermill": {
     "duration": 0.043363,
     "end_time": "2022-02-27T12:13:41.456744",
     "exception": false,
     "start_time": "2022-02-27T12:13:41.413381",
     "status": "completed"
    },
    "tags": []
   },
   "outputs": [],
   "source": [
    "# #hide_input\n",
    "# fig, ax = plt.subplots(figsize=(15, 8))\n",
    "# animator = animation.FuncAnimation(fig, draw_barchart, frames=range(g.day.values.min(), g.day.values.max()))\n",
    "# HTML(animator.to_jshtml())\n",
    "# # or use animator.to_html5_video() or animator.save() "
   ]
  },
  {
   "cell_type": "code",
   "execution_count": null,
   "id": "australian-container",
   "metadata": {
    "papermill": {
     "duration": 0.035333,
     "end_time": "2022-02-27T12:13:41.528289",
     "exception": false,
     "start_time": "2022-02-27T12:13:41.492956",
     "status": "completed"
    },
    "tags": []
   },
   "outputs": [],
   "source": []
  },
  {
   "cell_type": "code",
   "execution_count": null,
   "id": "mediterranean-pontiac",
   "metadata": {
    "papermill": {
     "duration": 0.039864,
     "end_time": "2022-02-27T12:13:41.603251",
     "exception": false,
     "start_time": "2022-02-27T12:13:41.563387",
     "status": "completed"
    },
    "tags": []
   },
   "outputs": [],
   "source": []
  },
  {
   "cell_type": "code",
   "execution_count": null,
   "id": "aging-legislature",
   "metadata": {
    "papermill": {
     "duration": 0.037462,
     "end_time": "2022-02-27T12:13:41.677039",
     "exception": false,
     "start_time": "2022-02-27T12:13:41.639577",
     "status": "completed"
    },
    "tags": []
   },
   "outputs": [],
   "source": []
  }
 ],
 "metadata": {
  "kernelspec": {
   "display_name": "Python 3",
   "language": "python",
   "name": "python3"
  },
  "language_info": {
   "codemirror_mode": {
    "name": "ipython",
    "version": 3
   },
   "file_extension": ".py",
   "mimetype": "text/x-python",
   "name": "python",
   "nbconvert_exporter": "python",
   "pygments_lexer": "ipython3",
   "version": "3.6.15"
  },
  "papermill": {
   "duration": 7.250622,
   "end_time": "2022-02-27T12:13:42.033938",
   "environment_variables": {},
   "exception": null,
   "input_path": "2020-03-21-covid19exp.ipynb",
   "output_path": "2020-03-21-covid19exp.ipynb",
   "parameters": {},
   "start_time": "2022-02-27T12:13:34.783316",
   "version": "2.0.0"
  }
 },
 "nbformat": 4,
 "nbformat_minor": 5
}