{
 "cells": [
  {
   "cell_type": "markdown",
   "metadata": {
    "papermill": {
     "duration": 0.027417,
     "end_time": "2020-11-26T12:06:07.534703",
     "exception": false,
     "start_time": "2020-11-26T12:06:07.507286",
     "status": "completed"
    },
    "tags": []
   },
   "source": [
    "# COVID-19 Case Race\n",
    "> A race chart to see rising cases around the world\n",
    "\n",
    "- author: Hargun Oberoi\n",
    "- image: images/covid-overview.png\n",
    "- hide: false\n",
    "- badges: false"
   ]
  },
  {
   "cell_type": "code",
   "execution_count": 1,
   "metadata": {
    "execution": {
     "iopub.execute_input": "2020-11-26T12:06:07.591102Z",
     "iopub.status.busy": "2020-11-26T12:06:07.590613Z",
     "iopub.status.idle": "2020-11-26T12:06:07.880993Z",
     "shell.execute_reply": "2020-11-26T12:06:07.880099Z"
    },
    "papermill": {
     "duration": 0.320124,
     "end_time": "2020-11-26T12:06:07.881247",
     "exception": false,
     "start_time": "2020-11-26T12:06:07.561123",
     "status": "completed"
    },
    "tags": []
   },
   "outputs": [],
   "source": [
    "#hide\n",
    "import numpy as np\n",
    "import pandas as pd\n",
    "from jinja2 import Template\n",
    "from IPython.display import HTML"
   ]
  },
  {
   "cell_type": "code",
   "execution_count": 2,
   "metadata": {
    "execution": {
     "iopub.execute_input": "2020-11-26T12:06:07.937580Z",
     "iopub.status.busy": "2020-11-26T12:06:07.937149Z",
     "iopub.status.idle": "2020-11-26T12:06:07.939234Z",
     "shell.execute_reply": "2020-11-26T12:06:07.939627Z"
    },
    "papermill": {
     "duration": 0.031698,
     "end_time": "2020-11-26T12:06:07.939734",
     "exception": false,
     "start_time": "2020-11-26T12:06:07.908036",
     "status": "completed"
    },
    "tags": []
   },
   "outputs": [],
   "source": [
    "#hide\n",
    "\n",
    "# FETCH\n",
    "base_url = 'https://raw.githubusercontent.com/pratapvardhan/notebooks/master/covid19/'\n",
    "paths = {\n",
    "    'mapping': base_url + 'mapping_countries.csv',\n",
    "    'overview': base_url + 'overview.tpl'\n",
    "}"
   ]
  },
  {
   "cell_type": "code",
   "execution_count": 3,
   "metadata": {
    "execution": {
     "iopub.execute_input": "2020-11-26T12:06:07.999534Z",
     "iopub.status.busy": "2020-11-26T12:06:07.995705Z",
     "iopub.status.idle": "2020-11-26T12:06:08.001975Z",
     "shell.execute_reply": "2020-11-26T12:06:08.001553Z"
    },
    "papermill": {
     "duration": 0.038625,
     "end_time": "2020-11-26T12:06:08.002102",
     "exception": false,
     "start_time": "2020-11-26T12:06:07.963477",
     "status": "completed"
    },
    "tags": []
   },
   "outputs": [
    {
     "data": {
      "text/plain": [
       "'https://raw.githubusercontent.com/pratapvardhan/notebooks/master/covid19/mapping_countries.csv'"
      ]
     },
     "execution_count": 3,
     "metadata": {},
     "output_type": "execute_result"
    }
   ],
   "source": [
    "#hide\n",
    "paths['mapping']"
   ]
  },
  {
   "cell_type": "code",
   "execution_count": 4,
   "metadata": {
    "execution": {
     "iopub.execute_input": "2020-11-26T12:06:08.057848Z",
     "iopub.status.busy": "2020-11-26T12:06:08.057271Z",
     "iopub.status.idle": "2020-11-26T12:06:08.059140Z",
     "shell.execute_reply": "2020-11-26T12:06:08.059518Z"
    },
    "papermill": {
     "duration": 0.033278,
     "end_time": "2020-11-26T12:06:08.059625",
     "exception": false,
     "start_time": "2020-11-26T12:06:08.026347",
     "status": "completed"
    },
    "tags": []
   },
   "outputs": [],
   "source": [
    "#hide\n",
    "def get_mappings(url):\n",
    "    df = pd.read_csv(url)\n",
    "    return {\n",
    "        'df': df,\n",
    "        'replace.country': dict(df.dropna(subset=['Name']).set_index('Country')['Name']),\n",
    "        'map.continent': dict(df.set_index('Name')['Continent'])\n",
    "    }"
   ]
  },
  {
   "cell_type": "code",
   "execution_count": 5,
   "metadata": {
    "execution": {
     "iopub.execute_input": "2020-11-26T12:06:08.116364Z",
     "iopub.status.busy": "2020-11-26T12:06:08.115785Z",
     "iopub.status.idle": "2020-11-26T12:06:08.170364Z",
     "shell.execute_reply": "2020-11-26T12:06:08.170737Z"
    },
    "papermill": {
     "duration": 0.086936,
     "end_time": "2020-11-26T12:06:08.170859",
     "exception": false,
     "start_time": "2020-11-26T12:06:08.083923",
     "status": "completed"
    },
    "tags": []
   },
   "outputs": [],
   "source": [
    "#hide\n",
    "mapping = get_mappings(paths['mapping'])"
   ]
  },
  {
   "cell_type": "code",
   "execution_count": 6,
   "metadata": {
    "execution": {
     "iopub.execute_input": "2020-11-26T12:06:08.226651Z",
     "iopub.status.busy": "2020-11-26T12:06:08.226165Z",
     "iopub.status.idle": "2020-11-26T12:06:08.228490Z",
     "shell.execute_reply": "2020-11-26T12:06:08.228941Z"
    },
    "papermill": {
     "duration": 0.03292,
     "end_time": "2020-11-26T12:06:08.229073",
     "exception": false,
     "start_time": "2020-11-26T12:06:08.196153",
     "status": "completed"
    },
    "tags": []
   },
   "outputs": [],
   "source": [
    "#hide\n",
    "def get_template(path):\n",
    "    from urllib.parse import urlparse\n",
    "    if bool(urlparse(path).netloc):\n",
    "        from urllib.request import urlopen\n",
    "        return urlopen(path).read().decode('utf8')\n",
    "    return open(path).read()"
   ]
  },
  {
   "cell_type": "code",
   "execution_count": 7,
   "metadata": {
    "execution": {
     "iopub.execute_input": "2020-11-26T12:06:08.282086Z",
     "iopub.status.busy": "2020-11-26T12:06:08.281654Z",
     "iopub.status.idle": "2020-11-26T12:06:08.283543Z",
     "shell.execute_reply": "2020-11-26T12:06:08.283196Z"
    },
    "papermill": {
     "duration": 0.030944,
     "end_time": "2020-11-26T12:06:08.283627",
     "exception": false,
     "start_time": "2020-11-26T12:06:08.252683",
     "status": "completed"
    },
    "tags": []
   },
   "outputs": [],
   "source": [
    "#hide\n",
    "def get_frame(name):\n",
    "    url = (\n",
    "        'https://raw.githubusercontent.com/CSSEGISandData/COVID-19/master/csse_covid_19_data/'\n",
    "        f'csse_covid_19_time_series/time_series_covid19_{name}_global.csv')\n",
    "    df = pd.read_csv(url)\n",
    "    # rename countries\n",
    "    df['Country/Region'] = df['Country/Region'].replace(mapping['replace.country'])\n",
    "    return df"
   ]
  },
  {
   "cell_type": "code",
   "execution_count": 8,
   "metadata": {
    "execution": {
     "iopub.execute_input": "2020-11-26T12:06:08.336371Z",
     "iopub.status.busy": "2020-11-26T12:06:08.335834Z",
     "iopub.status.idle": "2020-11-26T12:06:08.338133Z",
     "shell.execute_reply": "2020-11-26T12:06:08.338649Z"
    },
    "papermill": {
     "duration": 0.031414,
     "end_time": "2020-11-26T12:06:08.338771",
     "exception": false,
     "start_time": "2020-11-26T12:06:08.307357",
     "status": "completed"
    },
    "tags": []
   },
   "outputs": [],
   "source": [
    "#hide\n",
    "def get_dates(df):\n",
    "    dt_cols = df.columns[~df.columns.isin(['Province/State', 'Country/Region', 'Lat', 'Long'])]\n",
    "    LAST_DATE_I = -1\n",
    "    # sometimes last column may be empty, then go backwards\n",
    "    for i in range(-1, -len(dt_cols), -1):\n",
    "        if not df[dt_cols[i]].fillna(0).eq(0).all():\n",
    "            LAST_DATE_I = i\n",
    "            break\n",
    "    return LAST_DATE_I, dt_cols"
   ]
  },
  {
   "cell_type": "code",
   "execution_count": 9,
   "metadata": {
    "execution": {
     "iopub.execute_input": "2020-11-26T12:06:08.391658Z",
     "iopub.status.busy": "2020-11-26T12:06:08.391241Z",
     "iopub.status.idle": "2020-11-26T12:06:08.703759Z",
     "shell.execute_reply": "2020-11-26T12:06:08.703253Z"
    },
    "papermill": {
     "duration": 0.340395,
     "end_time": "2020-11-26T12:06:08.703876",
     "exception": false,
     "start_time": "2020-11-26T12:06:08.363481",
     "status": "completed"
    },
    "tags": []
   },
   "outputs": [],
   "source": [
    "#hide\n",
    "COL_REGION = 'Country/Region'\n",
    "# Confirmed, Recovered, Deaths\n",
    "df = get_frame('confirmed')\n",
    "# dft_: timeseries, dfc_: today country agg\n",
    "dft_cases = df\n",
    "dft_deaths = get_frame('deaths')\n",
    "dft_recovered = get_frame('recovered')\n",
    "LAST_DATE_I, dt_cols = get_dates(df)"
   ]
  },
  {
   "cell_type": "code",
   "execution_count": 10,
   "metadata": {
    "execution": {
     "iopub.execute_input": "2020-11-26T12:06:08.760207Z",
     "iopub.status.busy": "2020-11-26T12:06:08.759627Z",
     "iopub.status.idle": "2020-11-26T12:06:08.761632Z",
     "shell.execute_reply": "2020-11-26T12:06:08.762090Z"
    },
    "papermill": {
     "duration": 0.033445,
     "end_time": "2020-11-26T12:06:08.762234",
     "exception": false,
     "start_time": "2020-11-26T12:06:08.728789",
     "status": "completed"
    },
    "tags": []
   },
   "outputs": [],
   "source": [
    "#hide\n",
    "LAST_DATE_I, dt_cols = get_dates(df)\n",
    "dt_today =dt_cols[LAST_DATE_I]\n",
    "# dt_5day = dt_cols[LAST_DATE_I - 5]\n",
    "dt_yday = dt_cols[LAST_DATE_I - 1]"
   ]
  },
  {
   "cell_type": "code",
   "execution_count": 11,
   "metadata": {
    "execution": {
     "iopub.execute_input": "2020-11-26T12:06:08.821145Z",
     "iopub.status.busy": "2020-11-26T12:06:08.820620Z",
     "iopub.status.idle": "2020-11-26T12:06:08.826684Z",
     "shell.execute_reply": "2020-11-26T12:06:08.826332Z"
    },
    "papermill": {
     "duration": 0.040446,
     "end_time": "2020-11-26T12:06:08.826771",
     "exception": false,
     "start_time": "2020-11-26T12:06:08.786325",
     "status": "completed"
    },
    "tags": []
   },
   "outputs": [],
   "source": [
    "#hide\n",
    "dfc_cases = dft_cases.groupby(COL_REGION)[dt_today].sum()\n",
    "dfc_deaths = dft_deaths.groupby(COL_REGION)[dt_today].sum()\n",
    "# dfp_cases = dft_cases.groupby(COL_REGION)[dt_5day].sum()\n",
    "# dfp_deaths = dft_deaths.groupby(COL_REGION)[dt_5day].sum()\n",
    "dfp_cases = dft_cases.groupby(COL_REGION)[dt_yday].sum()\n",
    "dfp_deaths = dft_deaths.groupby(COL_REGION)[dt_yday].sum()"
   ]
  },
  {
   "cell_type": "code",
   "execution_count": 12,
   "metadata": {
    "execution": {
     "iopub.execute_input": "2020-11-26T12:06:08.885780Z",
     "iopub.status.busy": "2020-11-26T12:06:08.885245Z",
     "iopub.status.idle": "2020-11-26T12:06:08.890811Z",
     "shell.execute_reply": "2020-11-26T12:06:08.891186Z"
    },
    "papermill": {
     "duration": 0.03858,
     "end_time": "2020-11-26T12:06:08.891295",
     "exception": false,
     "start_time": "2020-11-26T12:06:08.852715",
     "status": "completed"
    },
    "tags": []
   },
   "outputs": [],
   "source": [
    "#hide\n",
    "df_table = (pd.DataFrame(dict(Cases = dfc_cases, Deaths = dfc_deaths, PCases = dfp_cases, PDeaths = dfp_deaths))\n",
    "            .sort_values(by = ['Cases','Deaths'], ascending = [False, False])\n",
    "            .reset_index())"
   ]
  },
  {
   "cell_type": "code",
   "execution_count": 13,
   "metadata": {
    "execution": {
     "iopub.execute_input": "2020-11-26T12:06:08.962233Z",
     "iopub.status.busy": "2020-11-26T12:06:08.957247Z",
     "iopub.status.idle": "2020-11-26T12:06:08.965863Z",
     "shell.execute_reply": "2020-11-26T12:06:08.965405Z"
    },
    "papermill": {
     "duration": 0.049726,
     "end_time": "2020-11-26T12:06:08.965995",
     "exception": false,
     "start_time": "2020-11-26T12:06:08.916269",
     "status": "completed"
    },
    "tags": []
   },
   "outputs": [
    {
     "data": {
      "text/html": [
       "<div>\n",
       "<style scoped>\n",
       "    .dataframe tbody tr th:only-of-type {\n",
       "        vertical-align: middle;\n",
       "    }\n",
       "\n",
       "    .dataframe tbody tr th {\n",
       "        vertical-align: top;\n",
       "    }\n",
       "\n",
       "    .dataframe thead th {\n",
       "        text-align: right;\n",
       "    }\n",
       "</style>\n",
       "<table border=\"1\" class=\"dataframe\">\n",
       "  <thead>\n",
       "    <tr style=\"text-align: right;\">\n",
       "      <th></th>\n",
       "      <th>Country/Region</th>\n",
       "      <th>Cases</th>\n",
       "      <th>Deaths</th>\n",
       "      <th>PCases</th>\n",
       "      <th>PDeaths</th>\n",
       "      <th>Cases (+)</th>\n",
       "      <th>Deaths (+)</th>\n",
       "      <th>Fatality Rate</th>\n",
       "      <th>Continent</th>\n",
       "    </tr>\n",
       "  </thead>\n",
       "  <tbody>\n",
       "    <tr>\n",
       "      <th>0</th>\n",
       "      <td>US</td>\n",
       "      <td>12772653</td>\n",
       "      <td>262222</td>\n",
       "      <td>12591163</td>\n",
       "      <td>259925</td>\n",
       "      <td>181490</td>\n",
       "      <td>2297</td>\n",
       "      <td>2.05</td>\n",
       "      <td>North America</td>\n",
       "    </tr>\n",
       "    <tr>\n",
       "      <th>1</th>\n",
       "      <td>India</td>\n",
       "      <td>9266705</td>\n",
       "      <td>135223</td>\n",
       "      <td>9222216</td>\n",
       "      <td>134699</td>\n",
       "      <td>44489</td>\n",
       "      <td>524</td>\n",
       "      <td>1.46</td>\n",
       "      <td>Asia</td>\n",
       "    </tr>\n",
       "    <tr>\n",
       "      <th>2</th>\n",
       "      <td>Brazil</td>\n",
       "      <td>6166606</td>\n",
       "      <td>170769</td>\n",
       "      <td>6118708</td>\n",
       "      <td>170115</td>\n",
       "      <td>47898</td>\n",
       "      <td>654</td>\n",
       "      <td>2.77</td>\n",
       "      <td>South America</td>\n",
       "    </tr>\n",
       "    <tr>\n",
       "      <th>3</th>\n",
       "      <td>France</td>\n",
       "      <td>2221874</td>\n",
       "      <td>50700</td>\n",
       "      <td>2206126</td>\n",
       "      <td>50324</td>\n",
       "      <td>15748</td>\n",
       "      <td>376</td>\n",
       "      <td>2.28</td>\n",
       "      <td>Europe</td>\n",
       "    </tr>\n",
       "    <tr>\n",
       "      <th>4</th>\n",
       "      <td>Russia</td>\n",
       "      <td>2144229</td>\n",
       "      <td>37173</td>\n",
       "      <td>2120836</td>\n",
       "      <td>36675</td>\n",
       "      <td>23393</td>\n",
       "      <td>498</td>\n",
       "      <td>1.73</td>\n",
       "      <td>Europe</td>\n",
       "    </tr>\n",
       "  </tbody>\n",
       "</table>\n",
       "</div>"
      ],
      "text/plain": [
       "  Country/Region     Cases  Deaths    PCases  PDeaths  Cases (+)  Deaths (+)  \\\n",
       "0             US  12772653  262222  12591163   259925     181490        2297   \n",
       "1          India   9266705  135223   9222216   134699      44489         524   \n",
       "2         Brazil   6166606  170769   6118708   170115      47898         654   \n",
       "3         France   2221874   50700   2206126    50324      15748         376   \n",
       "4         Russia   2144229   37173   2120836    36675      23393         498   \n",
       "\n",
       "   Fatality Rate      Continent  \n",
       "0           2.05  North America  \n",
       "1           1.46           Asia  \n",
       "2           2.77  South America  \n",
       "3           2.28         Europe  \n",
       "4           1.73         Europe  "
      ]
     },
     "execution_count": 13,
     "metadata": {},
     "output_type": "execute_result"
    }
   ],
   "source": [
    "#hide\n",
    "for c in 'Cases, Deaths'.split(', '):\n",
    "    df_table[f'{c} (+)'] = (df_table[c] - df_table[f'P{c}']).clip(0)\n",
    "    #Clip ça veut dire, les chiffres negatif sont interdit\n",
    "df_table['Fatality Rate'] = (100* df_table['Deaths']/ df_table['Cases']).round(2)\n",
    "df_table['Continent'] = df_table['Country/Region'].map(mapping['map.continent'])\n",
    "df_table.head(5)"
   ]
  },
  {
   "cell_type": "code",
   "execution_count": 14,
   "metadata": {
    "execution": {
     "iopub.execute_input": "2020-11-26T12:06:09.020782Z",
     "iopub.status.busy": "2020-11-26T12:06:09.020271Z",
     "iopub.status.idle": "2020-11-26T12:06:09.022369Z",
     "shell.execute_reply": "2020-11-26T12:06:09.022837Z"
    },
    "papermill": {
     "duration": 0.032238,
     "end_time": "2020-11-26T12:06:09.022961",
     "exception": false,
     "start_time": "2020-11-26T12:06:08.990723",
     "status": "completed"
    },
    "tags": []
   },
   "outputs": [],
   "source": [
    "#hide\n",
    "#delete problematic countries from table\n",
    "df_table = df_table[~df_table['Country/Region'].isin(['Cape Verde', 'Cruise Ship', 'Kosovo'])]"
   ]
  },
  {
   "cell_type": "code",
   "execution_count": 15,
   "metadata": {
    "execution": {
     "iopub.execute_input": "2020-11-26T12:06:09.085355Z",
     "iopub.status.busy": "2020-11-26T12:06:09.084801Z",
     "iopub.status.idle": "2020-11-26T12:06:09.101245Z",
     "shell.execute_reply": "2020-11-26T12:06:09.100791Z"
    },
    "papermill": {
     "duration": 0.051225,
     "end_time": "2020-11-26T12:06:09.101359",
     "exception": false,
     "start_time": "2020-11-26T12:06:09.050134",
     "status": "completed"
    },
    "tags": []
   },
   "outputs": [
    {
     "data": {
      "text/html": [
       "<div>\n",
       "<style scoped>\n",
       "    .dataframe tbody tr th:only-of-type {\n",
       "        vertical-align: middle;\n",
       "    }\n",
       "\n",
       "    .dataframe tbody tr th {\n",
       "        vertical-align: top;\n",
       "    }\n",
       "\n",
       "    .dataframe thead th {\n",
       "        text-align: right;\n",
       "    }\n",
       "</style>\n",
       "<table border=\"1\" class=\"dataframe\">\n",
       "  <thead>\n",
       "    <tr style=\"text-align: right;\">\n",
       "      <th></th>\n",
       "      <th>Country/Region</th>\n",
       "      <th>Cases</th>\n",
       "      <th>Deaths</th>\n",
       "      <th>PCases</th>\n",
       "      <th>PDeaths</th>\n",
       "      <th>Cases (+)</th>\n",
       "      <th>Deaths (+)</th>\n",
       "      <th>Fatality Rate</th>\n",
       "      <th>Continent</th>\n",
       "    </tr>\n",
       "  </thead>\n",
       "  <tbody>\n",
       "    <tr>\n",
       "      <th>0</th>\n",
       "      <td>US</td>\n",
       "      <td>12772653</td>\n",
       "      <td>262222</td>\n",
       "      <td>12591163</td>\n",
       "      <td>259925</td>\n",
       "      <td>181490</td>\n",
       "      <td>2297</td>\n",
       "      <td>2.1</td>\n",
       "      <td>North America</td>\n",
       "    </tr>\n",
       "    <tr>\n",
       "      <th>1</th>\n",
       "      <td>India</td>\n",
       "      <td>9266705</td>\n",
       "      <td>135223</td>\n",
       "      <td>9222216</td>\n",
       "      <td>134699</td>\n",
       "      <td>44489</td>\n",
       "      <td>524</td>\n",
       "      <td>1.5</td>\n",
       "      <td>Asia</td>\n",
       "    </tr>\n",
       "    <tr>\n",
       "      <th>2</th>\n",
       "      <td>Brazil</td>\n",
       "      <td>6166606</td>\n",
       "      <td>170769</td>\n",
       "      <td>6118708</td>\n",
       "      <td>170115</td>\n",
       "      <td>47898</td>\n",
       "      <td>654</td>\n",
       "      <td>2.8</td>\n",
       "      <td>South America</td>\n",
       "    </tr>\n",
       "    <tr>\n",
       "      <th>3</th>\n",
       "      <td>France</td>\n",
       "      <td>2221874</td>\n",
       "      <td>50700</td>\n",
       "      <td>2206126</td>\n",
       "      <td>50324</td>\n",
       "      <td>15748</td>\n",
       "      <td>376</td>\n",
       "      <td>2.3</td>\n",
       "      <td>Europe</td>\n",
       "    </tr>\n",
       "    <tr>\n",
       "      <th>4</th>\n",
       "      <td>Russia</td>\n",
       "      <td>2144229</td>\n",
       "      <td>37173</td>\n",
       "      <td>2120836</td>\n",
       "      <td>36675</td>\n",
       "      <td>23393</td>\n",
       "      <td>498</td>\n",
       "      <td>1.7</td>\n",
       "      <td>Europe</td>\n",
       "    </tr>\n",
       "  </tbody>\n",
       "</table>\n",
       "</div>"
      ],
      "text/plain": [
       "  Country/Region     Cases  Deaths    PCases  PDeaths  Cases (+)  Deaths (+)  \\\n",
       "0             US  12772653  262222  12591163   259925     181490        2297   \n",
       "1          India   9266705  135223   9222216   134699      44489         524   \n",
       "2         Brazil   6166606  170769   6118708   170115      47898         654   \n",
       "3         France   2221874   50700   2206126    50324      15748         376   \n",
       "4         Russia   2144229   37173   2120836    36675      23393         498   \n",
       "\n",
       "   Fatality Rate      Continent  \n",
       "0            2.1  North America  \n",
       "1            1.5           Asia  \n",
       "2            2.8  South America  \n",
       "3            2.3         Europe  \n",
       "4            1.7         Europe  "
      ]
     },
     "execution_count": 15,
     "metadata": {},
     "output_type": "execute_result"
    }
   ],
   "source": [
    "#hide\n",
    "df_table = (pd.DataFrame(dict(Cases=dfc_cases, Deaths=dfc_deaths, PCases=dfp_cases, PDeaths=dfp_deaths))\n",
    "             .sort_values(by=['Cases', 'Deaths'], ascending=[False, False])\n",
    "             .reset_index())\n",
    "df_table.rename(columns={'index': 'Country/Region'}, inplace=True)\n",
    "for c in 'Cases, Deaths'.split(', '):\n",
    "    df_table[f'{c} (+)'] = (df_table[c] - df_table[f'P{c}']).clip(0)  # DATA BUG\n",
    "df_table['Fatality Rate'] = (100 * df_table['Deaths'] / df_table['Cases']).round(1)\n",
    "df_table['Continent'] = df_table['Country/Region'].map(mapping['map.continent'])\n",
    "df_table.head(5)"
   ]
  },
  {
   "cell_type": "code",
   "execution_count": 16,
   "metadata": {
    "execution": {
     "iopub.execute_input": "2020-11-26T12:06:09.160976Z",
     "iopub.status.busy": "2020-11-26T12:06:09.160443Z",
     "iopub.status.idle": "2020-11-26T12:06:09.163397Z",
     "shell.execute_reply": "2020-11-26T12:06:09.163000Z"
    },
    "papermill": {
     "duration": 0.035557,
     "end_time": "2020-11-26T12:06:09.163516",
     "exception": false,
     "start_time": "2020-11-26T12:06:09.127959",
     "status": "completed"
    },
    "tags": []
   },
   "outputs": [],
   "source": [
    "#hide\n",
    "#delete problematic countries from table\n",
    "df_table = df_table[~df_table['Country/Region'].isin(['Cape Verde', 'Cruise Ship', 'Kosovo'])]"
   ]
  },
  {
   "cell_type": "code",
   "execution_count": 17,
   "metadata": {
    "execution": {
     "iopub.execute_input": "2020-11-26T12:06:09.221752Z",
     "iopub.status.busy": "2020-11-26T12:06:09.221213Z",
     "iopub.status.idle": "2020-11-26T12:06:09.236106Z",
     "shell.execute_reply": "2020-11-26T12:06:09.235204Z"
    },
    "papermill": {
     "duration": 0.047105,
     "end_time": "2020-11-26T12:06:09.236302",
     "exception": false,
     "start_time": "2020-11-26T12:06:09.189197",
     "status": "completed"
    },
    "tags": []
   },
   "outputs": [],
   "source": [
    "#hide\n",
    "metrics = [df_table.columns[index] for index in [1,2,5,6]]\n",
    "# s_china = df_table[df_table['Country/Region'].eq('China')][metrics].sum().add_prefix('China ')\n",
    "s_us = df_table[df_table['Country/Region'].eq('US')][metrics].sum().add_prefix('US ')\n",
    "s_eu = df_table[df_table['Continent'].eq('Europe')][metrics].sum().add_prefix('EU ')\n",
    "s_ind = df_table[df_table['Country/Region'].eq('India')][metrics].sum().add_prefix('India ')\n",
    "summary = {'updated': pd.to_datetime(dt_today), 'since': pd.to_datetime(dt_yday)}\n",
    "summary = {'updated': pd.to_datetime(dt_today), 'since': pd.to_datetime(dt_yday)}\n",
    "summary = {**summary, **df_table[metrics].sum(), **s_ind, **s_us, **s_eu}"
   ]
  },
  {
   "cell_type": "code",
   "execution_count": 18,
   "metadata": {
    "execution": {
     "iopub.execute_input": "2020-11-26T12:06:09.296553Z",
     "iopub.status.busy": "2020-11-26T12:06:09.296145Z",
     "iopub.status.idle": "2020-11-26T12:06:09.304334Z",
     "shell.execute_reply": "2020-11-26T12:06:09.303879Z"
    },
    "papermill": {
     "duration": 0.03948,
     "end_time": "2020-11-26T12:06:09.304441",
     "exception": false,
     "start_time": "2020-11-26T12:06:09.264961",
     "status": "completed"
    },
    "tags": []
   },
   "outputs": [],
   "source": [
    "#hide\n",
    "dft_ct_new_cases = dft_cases.groupby(COL_REGION)[dt_cols].sum().diff(axis=1).fillna(0).astype(int)"
   ]
  },
  {
   "cell_type": "code",
   "execution_count": 19,
   "metadata": {
    "execution": {
     "iopub.execute_input": "2020-11-26T12:06:09.360150Z",
     "iopub.status.busy": "2020-11-26T12:06:09.359361Z",
     "iopub.status.idle": "2020-11-26T12:06:09.360982Z",
     "shell.execute_reply": "2020-11-26T12:06:09.361609Z"
    },
    "papermill": {
     "duration": 0.033027,
     "end_time": "2020-11-26T12:06:09.361782",
     "exception": false,
     "start_time": "2020-11-26T12:06:09.328755",
     "status": "completed"
    },
    "tags": []
   },
   "outputs": [],
   "source": [
    "#hide\n",
    "everydaycases = dft_ct_new_cases.cumsum(axis=1)"
   ]
  },
  {
   "cell_type": "code",
   "execution_count": 20,
   "metadata": {
    "execution": {
     "iopub.execute_input": "2020-11-26T12:06:09.421118Z",
     "iopub.status.busy": "2020-11-26T12:06:09.420712Z",
     "iopub.status.idle": "2020-11-26T12:06:10.506702Z",
     "shell.execute_reply": "2020-11-26T12:06:10.505588Z"
    },
    "papermill": {
     "duration": 1.116978,
     "end_time": "2020-11-26T12:06:10.506855",
     "exception": false,
     "start_time": "2020-11-26T12:06:09.389877",
     "status": "completed"
    },
    "tags": []
   },
   "outputs": [],
   "source": [
    "#hide\n",
    "import pandas as pd\n",
    "import matplotlib.pyplot as plt\n",
    "import matplotlib.ticker as ticker\n",
    "import matplotlib.animation as animation\n",
    "from IPython.display import HTML"
   ]
  },
  {
   "cell_type": "code",
   "execution_count": 21,
   "metadata": {
    "execution": {
     "iopub.execute_input": "2020-11-26T12:06:10.563474Z",
     "iopub.status.busy": "2020-11-26T12:06:10.562441Z",
     "iopub.status.idle": "2020-11-26T12:06:10.567386Z",
     "shell.execute_reply": "2020-11-26T12:06:10.566516Z"
    },
    "papermill": {
     "duration": 0.035122,
     "end_time": "2020-11-26T12:06:10.567595",
     "exception": false,
     "start_time": "2020-11-26T12:06:10.532473",
     "status": "completed"
    },
    "tags": []
   },
   "outputs": [],
   "source": [
    "#hide\n",
    "t = everydaycases.stack()"
   ]
  },
  {
   "cell_type": "code",
   "execution_count": 22,
   "metadata": {
    "execution": {
     "iopub.execute_input": "2020-11-26T12:06:10.627565Z",
     "iopub.status.busy": "2020-11-26T12:06:10.627095Z",
     "iopub.status.idle": "2020-11-26T12:06:10.634576Z",
     "shell.execute_reply": "2020-11-26T12:06:10.634072Z"
    },
    "papermill": {
     "duration": 0.038786,
     "end_time": "2020-11-26T12:06:10.634701",
     "exception": false,
     "start_time": "2020-11-26T12:06:10.595915",
     "status": "completed"
    },
    "tags": []
   },
   "outputs": [],
   "source": [
    "#hide\n",
    "g = t.reset_index(['Country/Region'])"
   ]
  },
  {
   "cell_type": "code",
   "execution_count": 23,
   "metadata": {
    "execution": {
     "iopub.execute_input": "2020-11-26T12:06:10.691057Z",
     "iopub.status.busy": "2020-11-26T12:06:10.690581Z",
     "iopub.status.idle": "2020-11-26T12:06:10.692702Z",
     "shell.execute_reply": "2020-11-26T12:06:10.692175Z"
    },
    "papermill": {
     "duration": 0.031975,
     "end_time": "2020-11-26T12:06:10.692811",
     "exception": false,
     "start_time": "2020-11-26T12:06:10.660836",
     "status": "completed"
    },
    "tags": []
   },
   "outputs": [],
   "source": [
    "#hide\n",
    "g.index.name = 'date'"
   ]
  },
  {
   "cell_type": "code",
   "execution_count": 24,
   "metadata": {
    "execution": {
     "iopub.execute_input": "2020-11-26T12:06:10.749005Z",
     "iopub.status.busy": "2020-11-26T12:06:10.748519Z",
     "iopub.status.idle": "2020-11-26T12:06:10.750577Z",
     "shell.execute_reply": "2020-11-26T12:06:10.751068Z"
    },
    "papermill": {
     "duration": 0.032177,
     "end_time": "2020-11-26T12:06:10.751190",
     "exception": false,
     "start_time": "2020-11-26T12:06:10.719013",
     "status": "completed"
    },
    "tags": []
   },
   "outputs": [],
   "source": [
    "# #hide\n",
    "# g = g.reset_index(['date'])"
   ]
  },
  {
   "cell_type": "code",
   "execution_count": 25,
   "metadata": {
    "execution": {
     "iopub.execute_input": "2020-11-26T12:06:10.805748Z",
     "iopub.status.busy": "2020-11-26T12:06:10.805263Z",
     "iopub.status.idle": "2020-11-26T12:06:10.807676Z",
     "shell.execute_reply": "2020-11-26T12:06:10.808129Z"
    },
    "papermill": {
     "duration": 0.030803,
     "end_time": "2020-11-26T12:06:10.808222",
     "exception": false,
     "start_time": "2020-11-26T12:06:10.777419",
     "status": "completed"
    },
    "tags": []
   },
   "outputs": [],
   "source": [
    "#hide\n",
    "# g.head()"
   ]
  },
  {
   "cell_type": "code",
   "execution_count": 26,
   "metadata": {
    "execution": {
     "iopub.execute_input": "2020-11-26T12:06:10.861760Z",
     "iopub.status.busy": "2020-11-26T12:06:10.861298Z",
     "iopub.status.idle": "2020-11-26T12:06:10.866909Z",
     "shell.execute_reply": "2020-11-26T12:06:10.867537Z"
    },
    "papermill": {
     "duration": 0.034885,
     "end_time": "2020-11-26T12:06:10.867677",
     "exception": false,
     "start_time": "2020-11-26T12:06:10.832792",
     "status": "completed"
    },
    "tags": []
   },
   "outputs": [],
   "source": [
    "#hide\n",
    "# g.columns = ['date','country','cases']"
   ]
  },
  {
   "cell_type": "code",
   "execution_count": 27,
   "metadata": {
    "execution": {
     "iopub.execute_input": "2020-11-26T12:06:11.440244Z",
     "iopub.status.busy": "2020-11-26T12:06:11.439470Z",
     "iopub.status.idle": "2020-11-26T12:06:11.440635Z",
     "shell.execute_reply": "2020-11-26T12:06:11.439899Z"
    },
    "papermill": {
     "duration": 0.545731,
     "end_time": "2020-11-26T12:06:11.440734",
     "exception": false,
     "start_time": "2020-11-26T12:06:10.895003",
     "status": "completed"
    },
    "tags": []
   },
   "outputs": [],
   "source": [
    "#hide\n",
    "# g['continent'] = g.country"
   ]
  },
  {
   "cell_type": "code",
   "execution_count": 28,
   "metadata": {
    "execution": {
     "iopub.execute_input": "2020-11-26T12:06:12.486159Z",
     "iopub.status.busy": "2020-11-26T12:06:12.485555Z",
     "iopub.status.idle": "2020-11-26T12:06:12.487588Z",
     "shell.execute_reply": "2020-11-26T12:06:12.487187Z"
    },
    "papermill": {
     "duration": 0.756809,
     "end_time": "2020-11-26T12:06:12.487705",
     "exception": false,
     "start_time": "2020-11-26T12:06:11.730896",
     "status": "completed"
    },
    "tags": []
   },
   "outputs": [],
   "source": [
    "#hide\n",
    "# cols = list(g.columns.values)"
   ]
  },
  {
   "cell_type": "code",
   "execution_count": 29,
   "metadata": {
    "execution": {
     "iopub.execute_input": "2020-11-26T12:06:13.436042Z",
     "iopub.status.busy": "2020-11-26T12:06:13.435596Z",
     "iopub.status.idle": "2020-11-26T12:06:13.437472Z",
     "shell.execute_reply": "2020-11-26T12:06:13.437842Z"
    },
    "papermill": {
     "duration": 0.258011,
     "end_time": "2020-11-26T12:06:13.437980",
     "exception": false,
     "start_time": "2020-11-26T12:06:13.179969",
     "status": "completed"
    },
    "tags": []
   },
   "outputs": [],
   "source": [
    "#hide\n",
    "# cols.insert(0, cols.pop())"
   ]
  },
  {
   "cell_type": "code",
   "execution_count": 30,
   "metadata": {
    "execution": {
     "iopub.execute_input": "2020-11-26T12:06:13.494176Z",
     "iopub.status.busy": "2020-11-26T12:06:13.493355Z",
     "iopub.status.idle": "2020-11-26T12:06:13.494770Z",
     "shell.execute_reply": "2020-11-26T12:06:13.495088Z"
    },
    "papermill": {
     "duration": 0.030939,
     "end_time": "2020-11-26T12:06:13.495187",
     "exception": false,
     "start_time": "2020-11-26T12:06:13.464248",
     "status": "completed"
    },
    "tags": []
   },
   "outputs": [],
   "source": [
    "#hide\n",
    "# g = g[cols]"
   ]
  },
  {
   "cell_type": "code",
   "execution_count": 31,
   "metadata": {
    "execution": {
     "iopub.execute_input": "2020-11-26T12:06:13.550721Z",
     "iopub.status.busy": "2020-11-26T12:06:13.550188Z",
     "iopub.status.idle": "2020-11-26T12:06:13.552539Z",
     "shell.execute_reply": "2020-11-26T12:06:13.553099Z"
    },
    "papermill": {
     "duration": 0.03234,
     "end_time": "2020-11-26T12:06:13.553229",
     "exception": false,
     "start_time": "2020-11-26T12:06:13.520889",
     "status": "completed"
    },
    "tags": []
   },
   "outputs": [],
   "source": [
    "#hide\n",
    "# g['continent'] = g['continent'].map(mapping['map.continent'])"
   ]
  },
  {
   "cell_type": "code",
   "execution_count": 32,
   "metadata": {
    "execution": {
     "iopub.execute_input": "2020-11-26T12:06:13.606535Z",
     "iopub.status.busy": "2020-11-26T12:06:13.605995Z",
     "iopub.status.idle": "2020-11-26T12:06:13.608071Z",
     "shell.execute_reply": "2020-11-26T12:06:13.607726Z"
    },
    "papermill": {
     "duration": 0.030477,
     "end_time": "2020-11-26T12:06:13.608153",
     "exception": false,
     "start_time": "2020-11-26T12:06:13.577676",
     "status": "completed"
    },
    "tags": []
   },
   "outputs": [],
   "source": [
    "#hide\n",
    "# g.head()"
   ]
  },
  {
   "cell_type": "code",
   "execution_count": 33,
   "metadata": {
    "execution": {
     "iopub.execute_input": "2020-11-26T12:06:13.662275Z",
     "iopub.status.busy": "2020-11-26T12:06:13.661688Z",
     "iopub.status.idle": "2020-11-26T12:06:13.663863Z",
     "shell.execute_reply": "2020-11-26T12:06:13.664253Z"
    },
    "papermill": {
     "duration": 0.031506,
     "end_time": "2020-11-26T12:06:13.664345",
     "exception": false,
     "start_time": "2020-11-26T12:06:13.632839",
     "status": "completed"
    },
    "tags": []
   },
   "outputs": [],
   "source": [
    "# hide\n",
    "# g['date'] = g['date'].astype('datetime64[ns]')"
   ]
  },
  {
   "cell_type": "code",
   "execution_count": 34,
   "metadata": {
    "execution": {
     "iopub.execute_input": "2020-11-26T12:06:13.720783Z",
     "iopub.status.busy": "2020-11-26T12:06:13.720248Z",
     "iopub.status.idle": "2020-11-26T12:06:13.722403Z",
     "shell.execute_reply": "2020-11-26T12:06:13.722792Z"
    },
    "papermill": {
     "duration": 0.031367,
     "end_time": "2020-11-26T12:06:13.722885",
     "exception": false,
     "start_time": "2020-11-26T12:06:13.691518",
     "status": "completed"
    },
    "tags": []
   },
   "outputs": [],
   "source": [
    "#hide\n",
    "# g['date'] = g.date.dt.dayofyear"
   ]
  },
  {
   "cell_type": "code",
   "execution_count": 35,
   "metadata": {
    "execution": {
     "iopub.execute_input": "2020-11-26T12:06:13.774023Z",
     "iopub.status.busy": "2020-11-26T12:06:13.773454Z",
     "iopub.status.idle": "2020-11-26T12:06:13.775537Z",
     "shell.execute_reply": "2020-11-26T12:06:13.775953Z"
    },
    "papermill": {
     "duration": 0.029846,
     "end_time": "2020-11-26T12:06:13.776044",
     "exception": false,
     "start_time": "2020-11-26T12:06:13.746198",
     "status": "completed"
    },
    "tags": []
   },
   "outputs": [],
   "source": [
    "#hide\n",
    "# g = g.rename(columns= {'continent':'group','country':'name','cases':'value'})"
   ]
  },
  {
   "cell_type": "code",
   "execution_count": 36,
   "metadata": {
    "execution": {
     "iopub.execute_input": "2020-11-26T12:06:13.829950Z",
     "iopub.status.busy": "2020-11-26T12:06:13.829406Z",
     "iopub.status.idle": "2020-11-26T12:06:13.831806Z",
     "shell.execute_reply": "2020-11-26T12:06:13.831350Z"
    },
    "papermill": {
     "duration": 0.031278,
     "end_time": "2020-11-26T12:06:13.831911",
     "exception": false,
     "start_time": "2020-11-26T12:06:13.800633",
     "status": "completed"
    },
    "tags": []
   },
   "outputs": [],
   "source": [
    "#hide\n",
    "# cols = ['name','group','day','value']"
   ]
  },
  {
   "cell_type": "code",
   "execution_count": 37,
   "metadata": {
    "execution": {
     "iopub.execute_input": "2020-11-26T12:06:13.886440Z",
     "iopub.status.busy": "2020-11-26T12:06:13.885980Z",
     "iopub.status.idle": "2020-11-26T12:06:13.888401Z",
     "shell.execute_reply": "2020-11-26T12:06:13.888858Z"
    },
    "papermill": {
     "duration": 0.031875,
     "end_time": "2020-11-26T12:06:13.888950",
     "exception": false,
     "start_time": "2020-11-26T12:06:13.857075",
     "status": "completed"
    },
    "tags": []
   },
   "outputs": [],
   "source": [
    "#hide\n",
    "# g.rename(columns= {'date':'day'},inplace = True)"
   ]
  },
  {
   "cell_type": "code",
   "execution_count": 38,
   "metadata": {
    "execution": {
     "iopub.execute_input": "2020-11-26T12:06:13.941762Z",
     "iopub.status.busy": "2020-11-26T12:06:13.941279Z",
     "iopub.status.idle": "2020-11-26T12:06:13.943536Z",
     "shell.execute_reply": "2020-11-26T12:06:13.944088Z"
    },
    "papermill": {
     "duration": 0.030207,
     "end_time": "2020-11-26T12:06:13.944217",
     "exception": false,
     "start_time": "2020-11-26T12:06:13.914010",
     "status": "completed"
    },
    "tags": []
   },
   "outputs": [],
   "source": [
    "#hide\n",
    "# g = g[cols]"
   ]
  },
  {
   "cell_type": "code",
   "execution_count": 39,
   "metadata": {
    "execution": {
     "iopub.execute_input": "2020-11-26T12:06:13.997803Z",
     "iopub.status.busy": "2020-11-26T12:06:13.997277Z",
     "iopub.status.idle": "2020-11-26T12:06:13.999816Z",
     "shell.execute_reply": "2020-11-26T12:06:14.000326Z"
    },
    "papermill": {
     "duration": 0.031473,
     "end_time": "2020-11-26T12:06:14.000443",
     "exception": false,
     "start_time": "2020-11-26T12:06:13.968970",
     "status": "completed"
    },
    "tags": []
   },
   "outputs": [],
   "source": [
    "# #hide\n",
    "# g = g[g.group.notna()]"
   ]
  },
  {
   "cell_type": "code",
   "execution_count": 40,
   "metadata": {
    "execution": {
     "iopub.execute_input": "2020-11-26T12:06:14.053805Z",
     "iopub.status.busy": "2020-11-26T12:06:14.053222Z",
     "iopub.status.idle": "2020-11-26T12:06:14.055775Z",
     "shell.execute_reply": "2020-11-26T12:06:14.056323Z"
    },
    "papermill": {
     "duration": 0.030475,
     "end_time": "2020-11-26T12:06:14.056451",
     "exception": false,
     "start_time": "2020-11-26T12:06:14.025976",
     "status": "completed"
    },
    "tags": []
   },
   "outputs": [],
   "source": [
    "# #hide\n",
    "# colors = dict(zip(\n",
    "#     [\"Oceania\", \"Europe\", \"Asia\", \"South America\", \"Middle East\", \"North America\", \"Africa\"],\n",
    "#     [\"#adb0ff\", \"#ffb3ff\", \"#90d595\", \"#e48381\", \"#aafbff\", \"#f7bb5f\", \"#eafb50\"]\n",
    "# ))\n",
    "# group_lk = g.set_index('name')['group'].to_dict()"
   ]
  },
  {
   "cell_type": "code",
   "execution_count": null,
   "metadata": {
    "papermill": {
     "duration": 0.023821,
     "end_time": "2020-11-26T12:06:14.108737",
     "exception": false,
     "start_time": "2020-11-26T12:06:14.084916",
     "status": "completed"
    },
    "tags": []
   },
   "outputs": [],
   "source": []
  },
  {
   "cell_type": "code",
   "execution_count": 41,
   "metadata": {
    "execution": {
     "iopub.execute_input": "2020-11-26T12:06:14.161574Z",
     "iopub.status.busy": "2020-11-26T12:06:14.161075Z",
     "iopub.status.idle": "2020-11-26T12:06:14.164415Z",
     "shell.execute_reply": "2020-11-26T12:06:14.163985Z"
    },
    "papermill": {
     "duration": 0.03197,
     "end_time": "2020-11-26T12:06:14.164527",
     "exception": false,
     "start_time": "2020-11-26T12:06:14.132557",
     "status": "completed"
    },
    "tags": []
   },
   "outputs": [],
   "source": [
    "# #hide\n",
    "# fig, ax = plt.subplots(figsize=(15, 8))\n",
    "\n",
    "# def draw_barchart(current_day):\n",
    "#     dff = g[g['day'].eq(current_day)].sort_values(by='value', ascending=True).tail(10)\n",
    "#     ax.clear()\n",
    "#     ax.barh(dff['name'], dff['value'], color=[colors[group_lk[x]] for x in dff['name']])\n",
    "#     dx = dff['value'].max() / 200\n",
    "    \n",
    "#     for i, (value, name) in enumerate(zip(dff['value'], dff['name'])):\n",
    "#         ax.text(value-dx, i,     name,           size=14, weight=600, ha='right', va='bottom')\n",
    "#         ax.text(value-dx, i-.25, group_lk[name], size=10, color='#444444', ha='right', va='baseline')\n",
    "#         ax.text(value+dx, i,     f'{value:,.0f}',  size=14, ha='left',  va='center')\n",
    "#     ax.text(1, 0.4, current_day, transform=ax.transAxes, color='#777777', size=46, ha='right', weight=800)\n",
    "#     ax.text(0, 1.06, 'Population (thousands)', transform=ax.transAxes, size=12, color='#777777')\n",
    "#     ax.xaxis.set_major_formatter(ticker.StrMethodFormatter('{x:,.0f}'))\n",
    "#     ax.xaxis.set_ticks_position('top')\n",
    "#     ax.tick_params(axis='x', colors='#777777', labelsize=12)\n",
    "#     ax.set_yticks([])\n",
    "#     ax.margins(0, 0.01)\n",
    "#     ax.grid(which='major', axis='x', linestyle='-')\n",
    "#     ax.set_axisbelow(True)\n",
    "    \n",
    "#     ax.text(0, 1.15, 'Coronavirus',\n",
    "#             transform=ax.transAxes, size=24, weight=600, ha='left', va='top')\n",
    "# #     ax.text(1, 0, 'by @pratapvardhan; credit @jburnmurdoch', transform=ax.transAxes, color='#777777', ha='right',\n",
    "# #             bbox=dict(facecolor='white', alpha=0.8, edgecolor='white'))\n",
    "#     plt.box(False)"
   ]
  },
  {
   "cell_type": "code",
   "execution_count": 42,
   "metadata": {
    "execution": {
     "iopub.execute_input": "2020-11-26T12:06:14.221279Z",
     "iopub.status.busy": "2020-11-26T12:06:14.220806Z",
     "iopub.status.idle": "2020-11-26T12:06:14.223136Z",
     "shell.execute_reply": "2020-11-26T12:06:14.223526Z"
    },
    "papermill": {
     "duration": 0.032025,
     "end_time": "2020-11-26T12:06:14.223623",
     "exception": false,
     "start_time": "2020-11-26T12:06:14.191598",
     "status": "completed"
    },
    "tags": []
   },
   "outputs": [],
   "source": [
    "# #hide_input\n",
    "# fig, ax = plt.subplots(figsize=(15, 8))\n",
    "# animator = animation.FuncAnimation(fig, draw_barchart, frames=range(g.day.values.min(), g.day.values.max()))\n",
    "# HTML(animator.to_jshtml())\n",
    "# # or use animator.to_html5_video() or animator.save() "
   ]
  },
  {
   "cell_type": "code",
   "execution_count": null,
   "metadata": {
    "papermill": {
     "duration": 0.025391,
     "end_time": "2020-11-26T12:06:14.273079",
     "exception": false,
     "start_time": "2020-11-26T12:06:14.247688",
     "status": "completed"
    },
    "tags": []
   },
   "outputs": [],
   "source": []
  },
  {
   "cell_type": "code",
   "execution_count": null,
   "metadata": {
    "papermill": {
     "duration": 0.026042,
     "end_time": "2020-11-26T12:06:14.323905",
     "exception": false,
     "start_time": "2020-11-26T12:06:14.297863",
     "status": "completed"
    },
    "tags": []
   },
   "outputs": [],
   "source": []
  },
  {
   "cell_type": "code",
   "execution_count": null,
   "metadata": {
    "papermill": {
     "duration": 0.027499,
     "end_time": "2020-11-26T12:06:14.378328",
     "exception": false,
     "start_time": "2020-11-26T12:06:14.350829",
     "status": "completed"
    },
    "tags": []
   },
   "outputs": [],
   "source": []
  }
 ],
 "metadata": {
  "kernelspec": {
   "display_name": "Python 3",
   "language": "python",
   "name": "python3"
  },
  "language_info": {
   "codemirror_mode": {
    "name": "ipython",
    "version": 3
   },
   "file_extension": ".py",
   "mimetype": "text/x-python",
   "name": "python",
   "nbconvert_exporter": "python",
   "pygments_lexer": "ipython3",
   "version": "3.6.12"
  },
  "papermill": {
   "duration": 8.254481,
   "end_time": "2020-11-26T12:06:14.712858",
   "environment_variables": {},
   "exception": null,
   "input_path": "2020-03-21-covid19exp.ipynb",
   "output_path": "2020-03-21-covid19exp.ipynb",
   "parameters": {},
   "start_time": "2020-11-26T12:06:06.458377",
   "version": "2.0.0"
  }
 },
 "nbformat": 4,
 "nbformat_minor": 4
}