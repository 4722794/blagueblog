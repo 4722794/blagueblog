{
 "cells": [
  {
   "cell_type": "markdown",
   "id": "muslim-click",
   "metadata": {
    "papermill": {
     "duration": 0.041761,
     "end_time": "2021-03-08T00:11:33.063267",
     "exception": false,
     "start_time": "2021-03-08T00:11:33.021506",
     "status": "completed"
    },
    "tags": []
   },
   "source": [
    "# COVID-19 Case Race\n",
    "> A race chart to see rising cases around the world\n",
    "\n",
    "- author: Hargun Oberoi\n",
    "- image: images/covid-overview.png\n",
    "- hide: false\n",
    "- badges: false"
   ]
  },
  {
   "cell_type": "code",
   "execution_count": 1,
   "id": "proof-material",
   "metadata": {
    "execution": {
     "iopub.execute_input": "2021-03-08T00:11:33.151218Z",
     "iopub.status.busy": "2021-03-08T00:11:33.148455Z",
     "iopub.status.idle": "2021-03-08T00:11:33.515311Z",
     "shell.execute_reply": "2021-03-08T00:11:33.514752Z"
    },
    "papermill": {
     "duration": 0.412085,
     "end_time": "2021-03-08T00:11:33.515469",
     "exception": false,
     "start_time": "2021-03-08T00:11:33.103384",
     "status": "completed"
    },
    "tags": []
   },
   "outputs": [],
   "source": [
    "#hide\n",
    "import numpy as np\n",
    "import pandas as pd\n",
    "from jinja2 import Template\n",
    "from IPython.display import HTML"
   ]
  },
  {
   "cell_type": "code",
   "execution_count": 2,
   "id": "developed-terminology",
   "metadata": {
    "execution": {
     "iopub.execute_input": "2021-03-08T00:11:33.595870Z",
     "iopub.status.busy": "2021-03-08T00:11:33.595228Z",
     "iopub.status.idle": "2021-03-08T00:11:33.597863Z",
     "shell.execute_reply": "2021-03-08T00:11:33.597242Z"
    },
    "papermill": {
     "duration": 0.046019,
     "end_time": "2021-03-08T00:11:33.597978",
     "exception": false,
     "start_time": "2021-03-08T00:11:33.551959",
     "status": "completed"
    },
    "tags": []
   },
   "outputs": [],
   "source": [
    "#hide\n",
    "\n",
    "# FETCH\n",
    "base_url = 'https://raw.githubusercontent.com/pratapvardhan/notebooks/master/covid19/'\n",
    "paths = {\n",
    "    'mapping': base_url + 'mapping_countries.csv',\n",
    "    'overview': base_url + 'overview.tpl'\n",
    "}"
   ]
  },
  {
   "cell_type": "code",
   "execution_count": 3,
   "id": "dynamic-saver",
   "metadata": {
    "execution": {
     "iopub.execute_input": "2021-03-08T00:11:33.689330Z",
     "iopub.status.busy": "2021-03-08T00:11:33.688660Z",
     "iopub.status.idle": "2021-03-08T00:11:33.692117Z",
     "shell.execute_reply": "2021-03-08T00:11:33.691394Z"
    },
    "papermill": {
     "duration": 0.052862,
     "end_time": "2021-03-08T00:11:33.692309",
     "exception": false,
     "start_time": "2021-03-08T00:11:33.639447",
     "status": "completed"
    },
    "tags": []
   },
   "outputs": [
    {
     "data": {
      "text/plain": [
       "'https://raw.githubusercontent.com/pratapvardhan/notebooks/master/covid19/mapping_countries.csv'"
      ]
     },
     "execution_count": 3,
     "metadata": {},
     "output_type": "execute_result"
    }
   ],
   "source": [
    "#hide\n",
    "paths['mapping']"
   ]
  },
  {
   "cell_type": "code",
   "execution_count": 4,
   "id": "urban-software",
   "metadata": {
    "execution": {
     "iopub.execute_input": "2021-03-08T00:11:33.776434Z",
     "iopub.status.busy": "2021-03-08T00:11:33.775491Z",
     "iopub.status.idle": "2021-03-08T00:11:33.777237Z",
     "shell.execute_reply": "2021-03-08T00:11:33.778112Z"
    },
    "papermill": {
     "duration": 0.046487,
     "end_time": "2021-03-08T00:11:33.778311",
     "exception": false,
     "start_time": "2021-03-08T00:11:33.731824",
     "status": "completed"
    },
    "tags": []
   },
   "outputs": [],
   "source": [
    "#hide\n",
    "def get_mappings(url):\n",
    "    df = pd.read_csv(url)\n",
    "    return {\n",
    "        'df': df,\n",
    "        'replace.country': dict(df.dropna(subset=['Name']).set_index('Country')['Name']),\n",
    "        'map.continent': dict(df.set_index('Name')['Continent'])\n",
    "    }"
   ]
  },
  {
   "cell_type": "code",
   "execution_count": 5,
   "id": "intimate-machinery",
   "metadata": {
    "execution": {
     "iopub.execute_input": "2021-03-08T00:11:33.864328Z",
     "iopub.status.busy": "2021-03-08T00:11:33.863309Z",
     "iopub.status.idle": "2021-03-08T00:11:33.895397Z",
     "shell.execute_reply": "2021-03-08T00:11:33.894565Z"
    },
    "papermill": {
     "duration": 0.07898,
     "end_time": "2021-03-08T00:11:33.895537",
     "exception": false,
     "start_time": "2021-03-08T00:11:33.816557",
     "status": "completed"
    },
    "tags": []
   },
   "outputs": [],
   "source": [
    "#hide\n",
    "mapping = get_mappings(paths['mapping'])"
   ]
  },
  {
   "cell_type": "code",
   "execution_count": 6,
   "id": "certified-tactics",
   "metadata": {
    "execution": {
     "iopub.execute_input": "2021-03-08T00:11:33.977802Z",
     "iopub.status.busy": "2021-03-08T00:11:33.976997Z",
     "iopub.status.idle": "2021-03-08T00:11:33.979619Z",
     "shell.execute_reply": "2021-03-08T00:11:33.978999Z"
    },
    "papermill": {
     "duration": 0.044309,
     "end_time": "2021-03-08T00:11:33.979739",
     "exception": false,
     "start_time": "2021-03-08T00:11:33.935430",
     "status": "completed"
    },
    "tags": []
   },
   "outputs": [],
   "source": [
    "#hide\n",
    "def get_template(path):\n",
    "    from urllib.parse import urlparse\n",
    "    if bool(urlparse(path).netloc):\n",
    "        from urllib.request import urlopen\n",
    "        return urlopen(path).read().decode('utf8')\n",
    "    return open(path).read()"
   ]
  },
  {
   "cell_type": "code",
   "execution_count": 7,
   "id": "realistic-blast",
   "metadata": {
    "execution": {
     "iopub.execute_input": "2021-03-08T00:11:34.059333Z",
     "iopub.status.busy": "2021-03-08T00:11:34.058659Z",
     "iopub.status.idle": "2021-03-08T00:11:34.060828Z",
     "shell.execute_reply": "2021-03-08T00:11:34.061585Z"
    },
    "papermill": {
     "duration": 0.045703,
     "end_time": "2021-03-08T00:11:34.061726",
     "exception": false,
     "start_time": "2021-03-08T00:11:34.016023",
     "status": "completed"
    },
    "tags": []
   },
   "outputs": [],
   "source": [
    "#hide\n",
    "def get_frame(name):\n",
    "    url = (\n",
    "        'https://raw.githubusercontent.com/CSSEGISandData/COVID-19/master/csse_covid_19_data/'\n",
    "        f'csse_covid_19_time_series/time_series_covid19_{name}_global.csv')\n",
    "    df = pd.read_csv(url)\n",
    "    # rename countries\n",
    "    df['Country/Region'] = df['Country/Region'].replace(mapping['replace.country'])\n",
    "    return df"
   ]
  },
  {
   "cell_type": "code",
   "execution_count": 8,
   "id": "affiliated-characterization",
   "metadata": {
    "execution": {
     "iopub.execute_input": "2021-03-08T00:11:34.140553Z",
     "iopub.status.busy": "2021-03-08T00:11:34.139924Z",
     "iopub.status.idle": "2021-03-08T00:11:34.142676Z",
     "shell.execute_reply": "2021-03-08T00:11:34.142169Z"
    },
    "papermill": {
     "duration": 0.04355,
     "end_time": "2021-03-08T00:11:34.142819",
     "exception": false,
     "start_time": "2021-03-08T00:11:34.099269",
     "status": "completed"
    },
    "tags": []
   },
   "outputs": [],
   "source": [
    "#hide\n",
    "def get_dates(df):\n",
    "    dt_cols = df.columns[~df.columns.isin(['Province/State', 'Country/Region', 'Lat', 'Long'])]\n",
    "    LAST_DATE_I = -1\n",
    "    # sometimes last column may be empty, then go backwards\n",
    "    for i in range(-1, -len(dt_cols), -1):\n",
    "        if not df[dt_cols[i]].fillna(0).eq(0).all():\n",
    "            LAST_DATE_I = i\n",
    "            break\n",
    "    return LAST_DATE_I, dt_cols"
   ]
  },
  {
   "cell_type": "code",
   "execution_count": 9,
   "id": "recent-optimization",
   "metadata": {
    "execution": {
     "iopub.execute_input": "2021-03-08T00:11:34.223578Z",
     "iopub.status.busy": "2021-03-08T00:11:34.222316Z",
     "iopub.status.idle": "2021-03-08T00:11:34.498011Z",
     "shell.execute_reply": "2021-03-08T00:11:34.498690Z"
    },
    "papermill": {
     "duration": 0.319814,
     "end_time": "2021-03-08T00:11:34.498922",
     "exception": false,
     "start_time": "2021-03-08T00:11:34.179108",
     "status": "completed"
    },
    "tags": []
   },
   "outputs": [],
   "source": [
    "#hide\n",
    "COL_REGION = 'Country/Region'\n",
    "# Confirmed, Recovered, Deaths\n",
    "df = get_frame('confirmed')\n",
    "# dft_: timeseries, dfc_: today country agg\n",
    "dft_cases = df\n",
    "dft_deaths = get_frame('deaths')\n",
    "dft_recovered = get_frame('recovered')\n",
    "LAST_DATE_I, dt_cols = get_dates(df)"
   ]
  },
  {
   "cell_type": "code",
   "execution_count": 10,
   "id": "absolute-copper",
   "metadata": {
    "execution": {
     "iopub.execute_input": "2021-03-08T00:11:34.579180Z",
     "iopub.status.busy": "2021-03-08T00:11:34.578494Z",
     "iopub.status.idle": "2021-03-08T00:11:34.580680Z",
     "shell.execute_reply": "2021-03-08T00:11:34.581200Z"
    },
    "papermill": {
     "duration": 0.044527,
     "end_time": "2021-03-08T00:11:34.581484",
     "exception": false,
     "start_time": "2021-03-08T00:11:34.536957",
     "status": "completed"
    },
    "tags": []
   },
   "outputs": [],
   "source": [
    "#hide\n",
    "LAST_DATE_I, dt_cols = get_dates(df)\n",
    "dt_today =dt_cols[LAST_DATE_I]\n",
    "# dt_5day = dt_cols[LAST_DATE_I - 5]\n",
    "dt_yday = dt_cols[LAST_DATE_I - 1]"
   ]
  },
  {
   "cell_type": "code",
   "execution_count": 11,
   "id": "restricted-sheriff",
   "metadata": {
    "execution": {
     "iopub.execute_input": "2021-03-08T00:11:34.673289Z",
     "iopub.status.busy": "2021-03-08T00:11:34.672624Z",
     "iopub.status.idle": "2021-03-08T00:11:34.680017Z",
     "shell.execute_reply": "2021-03-08T00:11:34.680764Z"
    },
    "papermill": {
     "duration": 0.058127,
     "end_time": "2021-03-08T00:11:34.680899",
     "exception": false,
     "start_time": "2021-03-08T00:11:34.622772",
     "status": "completed"
    },
    "tags": []
   },
   "outputs": [],
   "source": [
    "#hide\n",
    "dfc_cases = dft_cases.groupby(COL_REGION)[dt_today].sum()\n",
    "dfc_deaths = dft_deaths.groupby(COL_REGION)[dt_today].sum()\n",
    "# dfp_cases = dft_cases.groupby(COL_REGION)[dt_5day].sum()\n",
    "# dfp_deaths = dft_deaths.groupby(COL_REGION)[dt_5day].sum()\n",
    "dfp_cases = dft_cases.groupby(COL_REGION)[dt_yday].sum()\n",
    "dfp_deaths = dft_deaths.groupby(COL_REGION)[dt_yday].sum()"
   ]
  },
  {
   "cell_type": "code",
   "execution_count": 12,
   "id": "deluxe-hepatitis",
   "metadata": {
    "execution": {
     "iopub.execute_input": "2021-03-08T00:11:34.762229Z",
     "iopub.status.busy": "2021-03-08T00:11:34.761560Z",
     "iopub.status.idle": "2021-03-08T00:11:34.766617Z",
     "shell.execute_reply": "2021-03-08T00:11:34.767207Z"
    },
    "papermill": {
     "duration": 0.048197,
     "end_time": "2021-03-08T00:11:34.767344",
     "exception": false,
     "start_time": "2021-03-08T00:11:34.719147",
     "status": "completed"
    },
    "tags": []
   },
   "outputs": [],
   "source": [
    "#hide\n",
    "df_table = (pd.DataFrame(dict(Cases = dfc_cases, Deaths = dfc_deaths, PCases = dfp_cases, PDeaths = dfp_deaths))\n",
    "            .sort_values(by = ['Cases','Deaths'], ascending = [False, False])\n",
    "            .reset_index())"
   ]
  },
  {
   "cell_type": "code",
   "execution_count": 13,
   "id": "educational-chancellor",
   "metadata": {
    "execution": {
     "iopub.execute_input": "2021-03-08T00:11:34.865910Z",
     "iopub.status.busy": "2021-03-08T00:11:34.864675Z",
     "iopub.status.idle": "2021-03-08T00:11:34.872547Z",
     "shell.execute_reply": "2021-03-08T00:11:34.873540Z"
    },
    "papermill": {
     "duration": 0.067549,
     "end_time": "2021-03-08T00:11:34.873746",
     "exception": false,
     "start_time": "2021-03-08T00:11:34.806197",
     "status": "completed"
    },
    "tags": []
   },
   "outputs": [
    {
     "data": {
      "text/html": [
       "<div>\n",
       "<style scoped>\n",
       "    .dataframe tbody tr th:only-of-type {\n",
       "        vertical-align: middle;\n",
       "    }\n",
       "\n",
       "    .dataframe tbody tr th {\n",
       "        vertical-align: top;\n",
       "    }\n",
       "\n",
       "    .dataframe thead th {\n",
       "        text-align: right;\n",
       "    }\n",
       "</style>\n",
       "<table border=\"1\" class=\"dataframe\">\n",
       "  <thead>\n",
       "    <tr style=\"text-align: right;\">\n",
       "      <th></th>\n",
       "      <th>Country/Region</th>\n",
       "      <th>Cases</th>\n",
       "      <th>Deaths</th>\n",
       "      <th>PCases</th>\n",
       "      <th>PDeaths</th>\n",
       "      <th>Cases (+)</th>\n",
       "      <th>Deaths (+)</th>\n",
       "      <th>Fatality Rate</th>\n",
       "      <th>Continent</th>\n",
       "    </tr>\n",
       "  </thead>\n",
       "  <tbody>\n",
       "    <tr>\n",
       "      <th>0</th>\n",
       "      <td>US</td>\n",
       "      <td>28952970</td>\n",
       "      <td>524362</td>\n",
       "      <td>28894908</td>\n",
       "      <td>522877</td>\n",
       "      <td>58062</td>\n",
       "      <td>1485</td>\n",
       "      <td>1.81</td>\n",
       "      <td>North America</td>\n",
       "    </tr>\n",
       "    <tr>\n",
       "      <th>1</th>\n",
       "      <td>India</td>\n",
       "      <td>11210799</td>\n",
       "      <td>157756</td>\n",
       "      <td>11192045</td>\n",
       "      <td>157656</td>\n",
       "      <td>18754</td>\n",
       "      <td>100</td>\n",
       "      <td>1.41</td>\n",
       "      <td>Asia</td>\n",
       "    </tr>\n",
       "    <tr>\n",
       "      <th>2</th>\n",
       "      <td>Brazil</td>\n",
       "      <td>10938836</td>\n",
       "      <td>264325</td>\n",
       "      <td>10869227</td>\n",
       "      <td>262770</td>\n",
       "      <td>69609</td>\n",
       "      <td>1555</td>\n",
       "      <td>2.42</td>\n",
       "      <td>South America</td>\n",
       "    </tr>\n",
       "    <tr>\n",
       "      <th>3</th>\n",
       "      <td>Russia</td>\n",
       "      <td>4263785</td>\n",
       "      <td>87253</td>\n",
       "      <td>4252876</td>\n",
       "      <td>86821</td>\n",
       "      <td>10909</td>\n",
       "      <td>432</td>\n",
       "      <td>2.05</td>\n",
       "      <td>Europe</td>\n",
       "    </tr>\n",
       "    <tr>\n",
       "      <th>4</th>\n",
       "      <td>United Kingdom</td>\n",
       "      <td>4225906</td>\n",
       "      <td>124654</td>\n",
       "      <td>4219788</td>\n",
       "      <td>124495</td>\n",
       "      <td>6118</td>\n",
       "      <td>159</td>\n",
       "      <td>2.95</td>\n",
       "      <td>Europe</td>\n",
       "    </tr>\n",
       "  </tbody>\n",
       "</table>\n",
       "</div>"
      ],
      "text/plain": [
       "   Country/Region     Cases  Deaths    PCases  PDeaths  Cases (+)  Deaths (+)  \\\n",
       "0              US  28952970  524362  28894908   522877      58062        1485   \n",
       "1           India  11210799  157756  11192045   157656      18754         100   \n",
       "2          Brazil  10938836  264325  10869227   262770      69609        1555   \n",
       "3          Russia   4263785   87253   4252876    86821      10909         432   \n",
       "4  United Kingdom   4225906  124654   4219788   124495       6118         159   \n",
       "\n",
       "   Fatality Rate      Continent  \n",
       "0           1.81  North America  \n",
       "1           1.41           Asia  \n",
       "2           2.42  South America  \n",
       "3           2.05         Europe  \n",
       "4           2.95         Europe  "
      ]
     },
     "execution_count": 13,
     "metadata": {},
     "output_type": "execute_result"
    }
   ],
   "source": [
    "#hide\n",
    "for c in 'Cases, Deaths'.split(', '):\n",
    "    df_table[f'{c} (+)'] = (df_table[c] - df_table[f'P{c}']).clip(0)\n",
    "    #Clip ça veut dire, les chiffres negatif sont interdit\n",
    "df_table['Fatality Rate'] = (100* df_table['Deaths']/ df_table['Cases']).round(2)\n",
    "df_table['Continent'] = df_table['Country/Region'].map(mapping['map.continent'])\n",
    "df_table.head(5)"
   ]
  },
  {
   "cell_type": "code",
   "execution_count": 14,
   "id": "aboriginal-bulgaria",
   "metadata": {
    "execution": {
     "iopub.execute_input": "2021-03-08T00:11:34.965050Z",
     "iopub.status.busy": "2021-03-08T00:11:34.964315Z",
     "iopub.status.idle": "2021-03-08T00:11:34.967337Z",
     "shell.execute_reply": "2021-03-08T00:11:34.967958Z"
    },
    "papermill": {
     "duration": 0.047342,
     "end_time": "2021-03-08T00:11:34.968117",
     "exception": false,
     "start_time": "2021-03-08T00:11:34.920775",
     "status": "completed"
    },
    "tags": []
   },
   "outputs": [],
   "source": [
    "#hide\n",
    "#delete problematic countries from table\n",
    "df_table = df_table[~df_table['Country/Region'].isin(['Cape Verde', 'Cruise Ship', 'Kosovo'])]"
   ]
  },
  {
   "cell_type": "code",
   "execution_count": 15,
   "id": "fantastic-effect",
   "metadata": {
    "execution": {
     "iopub.execute_input": "2021-03-08T00:11:35.053648Z",
     "iopub.status.busy": "2021-03-08T00:11:35.053003Z",
     "iopub.status.idle": "2021-03-08T00:11:35.074147Z",
     "shell.execute_reply": "2021-03-08T00:11:35.073614Z"
    },
    "papermill": {
     "duration": 0.067783,
     "end_time": "2021-03-08T00:11:35.074270",
     "exception": false,
     "start_time": "2021-03-08T00:11:35.006487",
     "status": "completed"
    },
    "tags": []
   },
   "outputs": [
    {
     "data": {
      "text/html": [
       "<div>\n",
       "<style scoped>\n",
       "    .dataframe tbody tr th:only-of-type {\n",
       "        vertical-align: middle;\n",
       "    }\n",
       "\n",
       "    .dataframe tbody tr th {\n",
       "        vertical-align: top;\n",
       "    }\n",
       "\n",
       "    .dataframe thead th {\n",
       "        text-align: right;\n",
       "    }\n",
       "</style>\n",
       "<table border=\"1\" class=\"dataframe\">\n",
       "  <thead>\n",
       "    <tr style=\"text-align: right;\">\n",
       "      <th></th>\n",
       "      <th>Country/Region</th>\n",
       "      <th>Cases</th>\n",
       "      <th>Deaths</th>\n",
       "      <th>PCases</th>\n",
       "      <th>PDeaths</th>\n",
       "      <th>Cases (+)</th>\n",
       "      <th>Deaths (+)</th>\n",
       "      <th>Fatality Rate</th>\n",
       "      <th>Continent</th>\n",
       "    </tr>\n",
       "  </thead>\n",
       "  <tbody>\n",
       "    <tr>\n",
       "      <th>0</th>\n",
       "      <td>US</td>\n",
       "      <td>28952970</td>\n",
       "      <td>524362</td>\n",
       "      <td>28894908</td>\n",
       "      <td>522877</td>\n",
       "      <td>58062</td>\n",
       "      <td>1485</td>\n",
       "      <td>1.8</td>\n",
       "      <td>North America</td>\n",
       "    </tr>\n",
       "    <tr>\n",
       "      <th>1</th>\n",
       "      <td>India</td>\n",
       "      <td>11210799</td>\n",
       "      <td>157756</td>\n",
       "      <td>11192045</td>\n",
       "      <td>157656</td>\n",
       "      <td>18754</td>\n",
       "      <td>100</td>\n",
       "      <td>1.4</td>\n",
       "      <td>Asia</td>\n",
       "    </tr>\n",
       "    <tr>\n",
       "      <th>2</th>\n",
       "      <td>Brazil</td>\n",
       "      <td>10938836</td>\n",
       "      <td>264325</td>\n",
       "      <td>10869227</td>\n",
       "      <td>262770</td>\n",
       "      <td>69609</td>\n",
       "      <td>1555</td>\n",
       "      <td>2.4</td>\n",
       "      <td>South America</td>\n",
       "    </tr>\n",
       "    <tr>\n",
       "      <th>3</th>\n",
       "      <td>Russia</td>\n",
       "      <td>4263785</td>\n",
       "      <td>87253</td>\n",
       "      <td>4252876</td>\n",
       "      <td>86821</td>\n",
       "      <td>10909</td>\n",
       "      <td>432</td>\n",
       "      <td>2.0</td>\n",
       "      <td>Europe</td>\n",
       "    </tr>\n",
       "    <tr>\n",
       "      <th>4</th>\n",
       "      <td>United Kingdom</td>\n",
       "      <td>4225906</td>\n",
       "      <td>124654</td>\n",
       "      <td>4219788</td>\n",
       "      <td>124495</td>\n",
       "      <td>6118</td>\n",
       "      <td>159</td>\n",
       "      <td>2.9</td>\n",
       "      <td>Europe</td>\n",
       "    </tr>\n",
       "  </tbody>\n",
       "</table>\n",
       "</div>"
      ],
      "text/plain": [
       "   Country/Region     Cases  Deaths    PCases  PDeaths  Cases (+)  Deaths (+)  \\\n",
       "0              US  28952970  524362  28894908   522877      58062        1485   \n",
       "1           India  11210799  157756  11192045   157656      18754         100   \n",
       "2          Brazil  10938836  264325  10869227   262770      69609        1555   \n",
       "3          Russia   4263785   87253   4252876    86821      10909         432   \n",
       "4  United Kingdom   4225906  124654   4219788   124495       6118         159   \n",
       "\n",
       "   Fatality Rate      Continent  \n",
       "0            1.8  North America  \n",
       "1            1.4           Asia  \n",
       "2            2.4  South America  \n",
       "3            2.0         Europe  \n",
       "4            2.9         Europe  "
      ]
     },
     "execution_count": 15,
     "metadata": {},
     "output_type": "execute_result"
    }
   ],
   "source": [
    "#hide\n",
    "df_table = (pd.DataFrame(dict(Cases=dfc_cases, Deaths=dfc_deaths, PCases=dfp_cases, PDeaths=dfp_deaths))\n",
    "             .sort_values(by=['Cases', 'Deaths'], ascending=[False, False])\n",
    "             .reset_index())\n",
    "df_table.rename(columns={'index': 'Country/Region'}, inplace=True)\n",
    "for c in 'Cases, Deaths'.split(', '):\n",
    "    df_table[f'{c} (+)'] = (df_table[c] - df_table[f'P{c}']).clip(0)  # DATA BUG\n",
    "df_table['Fatality Rate'] = (100 * df_table['Deaths'] / df_table['Cases']).round(1)\n",
    "df_table['Continent'] = df_table['Country/Region'].map(mapping['map.continent'])\n",
    "df_table.head(5)"
   ]
  },
  {
   "cell_type": "code",
   "execution_count": 16,
   "id": "fewer-occasion",
   "metadata": {
    "execution": {
     "iopub.execute_input": "2021-03-08T00:11:35.160411Z",
     "iopub.status.busy": "2021-03-08T00:11:35.159724Z",
     "iopub.status.idle": "2021-03-08T00:11:35.162686Z",
     "shell.execute_reply": "2021-03-08T00:11:35.163320Z"
    },
    "papermill": {
     "duration": 0.050144,
     "end_time": "2021-03-08T00:11:35.163463",
     "exception": false,
     "start_time": "2021-03-08T00:11:35.113319",
     "status": "completed"
    },
    "tags": []
   },
   "outputs": [],
   "source": [
    "#hide\n",
    "#delete problematic countries from table\n",
    "df_table = df_table[~df_table['Country/Region'].isin(['Cape Verde', 'Cruise Ship', 'Kosovo'])]"
   ]
  },
  {
   "cell_type": "code",
   "execution_count": 17,
   "id": "related-center",
   "metadata": {
    "execution": {
     "iopub.execute_input": "2021-03-08T00:11:35.248827Z",
     "iopub.status.busy": "2021-03-08T00:11:35.248171Z",
     "iopub.status.idle": "2021-03-08T00:11:35.260383Z",
     "shell.execute_reply": "2021-03-08T00:11:35.260851Z"
    },
    "papermill": {
     "duration": 0.061558,
     "end_time": "2021-03-08T00:11:35.260994",
     "exception": false,
     "start_time": "2021-03-08T00:11:35.199436",
     "status": "completed"
    },
    "tags": []
   },
   "outputs": [],
   "source": [
    "#hide\n",
    "metrics = [df_table.columns[index] for index in [1,2,5,6]]\n",
    "# s_china = df_table[df_table['Country/Region'].eq('China')][metrics].sum().add_prefix('China ')\n",
    "s_us = df_table[df_table['Country/Region'].eq('US')][metrics].sum().add_prefix('US ')\n",
    "s_eu = df_table[df_table['Continent'].eq('Europe')][metrics].sum().add_prefix('EU ')\n",
    "s_ind = df_table[df_table['Country/Region'].eq('India')][metrics].sum().add_prefix('India ')\n",
    "summary = {'updated': pd.to_datetime(dt_today), 'since': pd.to_datetime(dt_yday)}\n",
    "summary = {'updated': pd.to_datetime(dt_today), 'since': pd.to_datetime(dt_yday)}\n",
    "summary = {**summary, **df_table[metrics].sum(), **s_ind, **s_us, **s_eu}"
   ]
  },
  {
   "cell_type": "code",
   "execution_count": 18,
   "id": "engaging-syndrome",
   "metadata": {
    "execution": {
     "iopub.execute_input": "2021-03-08T00:11:35.339608Z",
     "iopub.status.busy": "2021-03-08T00:11:35.339034Z",
     "iopub.status.idle": "2021-03-08T00:11:35.351973Z",
     "shell.execute_reply": "2021-03-08T00:11:35.352538Z"
    },
    "papermill": {
     "duration": 0.055226,
     "end_time": "2021-03-08T00:11:35.352742",
     "exception": false,
     "start_time": "2021-03-08T00:11:35.297516",
     "status": "completed"
    },
    "tags": []
   },
   "outputs": [],
   "source": [
    "#hide\n",
    "dft_ct_new_cases = dft_cases.groupby(COL_REGION)[dt_cols].sum().diff(axis=1).fillna(0).astype(int)"
   ]
  },
  {
   "cell_type": "code",
   "execution_count": 19,
   "id": "neutral-assignment",
   "metadata": {
    "execution": {
     "iopub.execute_input": "2021-03-08T00:11:35.433030Z",
     "iopub.status.busy": "2021-03-08T00:11:35.432419Z",
     "iopub.status.idle": "2021-03-08T00:11:35.434349Z",
     "shell.execute_reply": "2021-03-08T00:11:35.434897Z"
    },
    "papermill": {
     "duration": 0.044858,
     "end_time": "2021-03-08T00:11:35.435024",
     "exception": false,
     "start_time": "2021-03-08T00:11:35.390166",
     "status": "completed"
    },
    "tags": []
   },
   "outputs": [],
   "source": [
    "#hide\n",
    "everydaycases = dft_ct_new_cases.cumsum(axis=1)"
   ]
  },
  {
   "cell_type": "code",
   "execution_count": 20,
   "id": "parliamentary-calgary",
   "metadata": {
    "execution": {
     "iopub.execute_input": "2021-03-08T00:11:35.513294Z",
     "iopub.status.busy": "2021-03-08T00:11:35.512647Z",
     "iopub.status.idle": "2021-03-08T00:11:36.237054Z",
     "shell.execute_reply": "2021-03-08T00:11:36.236528Z"
    },
    "papermill": {
     "duration": 0.765971,
     "end_time": "2021-03-08T00:11:36.237188",
     "exception": false,
     "start_time": "2021-03-08T00:11:35.471217",
     "status": "completed"
    },
    "tags": []
   },
   "outputs": [],
   "source": [
    "#hide\n",
    "import pandas as pd\n",
    "import matplotlib.pyplot as plt\n",
    "import matplotlib.ticker as ticker\n",
    "import matplotlib.animation as animation\n",
    "from IPython.display import HTML"
   ]
  },
  {
   "cell_type": "code",
   "execution_count": 21,
   "id": "lasting-extraction",
   "metadata": {
    "execution": {
     "iopub.execute_input": "2021-03-08T00:11:36.321599Z",
     "iopub.status.busy": "2021-03-08T00:11:36.320660Z",
     "iopub.status.idle": "2021-03-08T00:11:36.325775Z",
     "shell.execute_reply": "2021-03-08T00:11:36.326397Z"
    },
    "papermill": {
     "duration": 0.050062,
     "end_time": "2021-03-08T00:11:36.326550",
     "exception": false,
     "start_time": "2021-03-08T00:11:36.276488",
     "status": "completed"
    },
    "tags": []
   },
   "outputs": [],
   "source": [
    "#hide\n",
    "t = everydaycases.stack()"
   ]
  },
  {
   "cell_type": "code",
   "execution_count": 22,
   "id": "premier-sleeve",
   "metadata": {
    "execution": {
     "iopub.execute_input": "2021-03-08T00:11:36.412191Z",
     "iopub.status.busy": "2021-03-08T00:11:36.411582Z",
     "iopub.status.idle": "2021-03-08T00:11:36.418576Z",
     "shell.execute_reply": "2021-03-08T00:11:36.419164Z"
    },
    "papermill": {
     "duration": 0.04933,
     "end_time": "2021-03-08T00:11:36.419301",
     "exception": false,
     "start_time": "2021-03-08T00:11:36.369971",
     "status": "completed"
    },
    "tags": []
   },
   "outputs": [],
   "source": [
    "#hide\n",
    "g = t.reset_index(['Country/Region'])"
   ]
  },
  {
   "cell_type": "code",
   "execution_count": 23,
   "id": "distributed-pittsburgh",
   "metadata": {
    "execution": {
     "iopub.execute_input": "2021-03-08T00:11:36.498896Z",
     "iopub.status.busy": "2021-03-08T00:11:36.498271Z",
     "iopub.status.idle": "2021-03-08T00:11:36.500297Z",
     "shell.execute_reply": "2021-03-08T00:11:36.500971Z"
    },
    "papermill": {
     "duration": 0.044899,
     "end_time": "2021-03-08T00:11:36.501109",
     "exception": false,
     "start_time": "2021-03-08T00:11:36.456210",
     "status": "completed"
    },
    "tags": []
   },
   "outputs": [],
   "source": [
    "#hide\n",
    "g.index.name = 'date'"
   ]
  },
  {
   "cell_type": "code",
   "execution_count": 24,
   "id": "naked-donor",
   "metadata": {
    "execution": {
     "iopub.execute_input": "2021-03-08T00:11:36.581407Z",
     "iopub.status.busy": "2021-03-08T00:11:36.580779Z",
     "iopub.status.idle": "2021-03-08T00:11:36.582695Z",
     "shell.execute_reply": "2021-03-08T00:11:36.583375Z"
    },
    "papermill": {
     "duration": 0.043678,
     "end_time": "2021-03-08T00:11:36.583509",
     "exception": false,
     "start_time": "2021-03-08T00:11:36.539831",
     "status": "completed"
    },
    "tags": []
   },
   "outputs": [],
   "source": [
    "# #hide\n",
    "# g = g.reset_index(['date'])"
   ]
  },
  {
   "cell_type": "code",
   "execution_count": 25,
   "id": "incomplete-mustang",
   "metadata": {
    "execution": {
     "iopub.execute_input": "2021-03-08T00:11:36.666250Z",
     "iopub.status.busy": "2021-03-08T00:11:36.665578Z",
     "iopub.status.idle": "2021-03-08T00:11:36.669276Z",
     "shell.execute_reply": "2021-03-08T00:11:36.669802Z"
    },
    "papermill": {
     "duration": 0.050783,
     "end_time": "2021-03-08T00:11:36.669947",
     "exception": false,
     "start_time": "2021-03-08T00:11:36.619164",
     "status": "completed"
    },
    "tags": []
   },
   "outputs": [],
   "source": [
    "#hide\n",
    "# g.head()"
   ]
  },
  {
   "cell_type": "code",
   "execution_count": 26,
   "id": "specific-kruger",
   "metadata": {
    "execution": {
     "iopub.execute_input": "2021-03-08T00:11:36.752665Z",
     "iopub.status.busy": "2021-03-08T00:11:36.751956Z",
     "iopub.status.idle": "2021-03-08T00:11:36.755220Z",
     "shell.execute_reply": "2021-03-08T00:11:36.755861Z"
    },
    "papermill": {
     "duration": 0.04452,
     "end_time": "2021-03-08T00:11:36.755991",
     "exception": false,
     "start_time": "2021-03-08T00:11:36.711471",
     "status": "completed"
    },
    "tags": []
   },
   "outputs": [],
   "source": [
    "#hide\n",
    "# g.columns = ['date','country','cases']"
   ]
  },
  {
   "cell_type": "code",
   "execution_count": 27,
   "id": "tender-conversion",
   "metadata": {
    "execution": {
     "iopub.execute_input": "2021-03-08T00:11:36.836035Z",
     "iopub.status.busy": "2021-03-08T00:11:36.835381Z",
     "iopub.status.idle": "2021-03-08T00:11:36.838011Z",
     "shell.execute_reply": "2021-03-08T00:11:36.837407Z"
    },
    "papermill": {
     "duration": 0.044044,
     "end_time": "2021-03-08T00:11:36.838134",
     "exception": false,
     "start_time": "2021-03-08T00:11:36.794090",
     "status": "completed"
    },
    "tags": []
   },
   "outputs": [],
   "source": [
    "#hide\n",
    "# g['continent'] = g.country"
   ]
  },
  {
   "cell_type": "code",
   "execution_count": 28,
   "id": "substantial-wilderness",
   "metadata": {
    "execution": {
     "iopub.execute_input": "2021-03-08T00:11:36.925254Z",
     "iopub.status.busy": "2021-03-08T00:11:36.924580Z",
     "iopub.status.idle": "2021-03-08T00:11:36.926578Z",
     "shell.execute_reply": "2021-03-08T00:11:36.927155Z"
    },
    "papermill": {
     "duration": 0.044495,
     "end_time": "2021-03-08T00:11:36.927289",
     "exception": false,
     "start_time": "2021-03-08T00:11:36.882794",
     "status": "completed"
    },
    "tags": []
   },
   "outputs": [],
   "source": [
    "#hide\n",
    "# cols = list(g.columns.values)"
   ]
  },
  {
   "cell_type": "code",
   "execution_count": 29,
   "id": "solved-farming",
   "metadata": {
    "execution": {
     "iopub.execute_input": "2021-03-08T00:11:37.010633Z",
     "iopub.status.busy": "2021-03-08T00:11:37.009888Z",
     "iopub.status.idle": "2021-03-08T00:11:37.012786Z",
     "shell.execute_reply": "2021-03-08T00:11:37.012223Z"
    },
    "papermill": {
     "duration": 0.047416,
     "end_time": "2021-03-08T00:11:37.012908",
     "exception": false,
     "start_time": "2021-03-08T00:11:36.965492",
     "status": "completed"
    },
    "tags": []
   },
   "outputs": [],
   "source": [
    "#hide\n",
    "# cols.insert(0, cols.pop())"
   ]
  },
  {
   "cell_type": "code",
   "execution_count": 30,
   "id": "executed-adoption",
   "metadata": {
    "execution": {
     "iopub.execute_input": "2021-03-08T00:11:37.091295Z",
     "iopub.status.busy": "2021-03-08T00:11:37.090571Z",
     "iopub.status.idle": "2021-03-08T00:11:37.093503Z",
     "shell.execute_reply": "2021-03-08T00:11:37.092917Z"
    },
    "papermill": {
     "duration": 0.043806,
     "end_time": "2021-03-08T00:11:37.093620",
     "exception": false,
     "start_time": "2021-03-08T00:11:37.049814",
     "status": "completed"
    },
    "tags": []
   },
   "outputs": [],
   "source": [
    "#hide\n",
    "# g = g[cols]"
   ]
  },
  {
   "cell_type": "code",
   "execution_count": 31,
   "id": "subject-dublin",
   "metadata": {
    "execution": {
     "iopub.execute_input": "2021-03-08T00:11:37.173247Z",
     "iopub.status.busy": "2021-03-08T00:11:37.172452Z",
     "iopub.status.idle": "2021-03-08T00:11:37.175132Z",
     "shell.execute_reply": "2021-03-08T00:11:37.174460Z"
    },
    "papermill": {
     "duration": 0.044839,
     "end_time": "2021-03-08T00:11:37.175259",
     "exception": false,
     "start_time": "2021-03-08T00:11:37.130420",
     "status": "completed"
    },
    "tags": []
   },
   "outputs": [],
   "source": [
    "#hide\n",
    "# g['continent'] = g['continent'].map(mapping['map.continent'])"
   ]
  },
  {
   "cell_type": "code",
   "execution_count": 32,
   "id": "freelance-scout",
   "metadata": {
    "execution": {
     "iopub.execute_input": "2021-03-08T00:11:37.257397Z",
     "iopub.status.busy": "2021-03-08T00:11:37.256731Z",
     "iopub.status.idle": "2021-03-08T00:11:37.259205Z",
     "shell.execute_reply": "2021-03-08T00:11:37.258488Z"
    },
    "papermill": {
     "duration": 0.045418,
     "end_time": "2021-03-08T00:11:37.259330",
     "exception": false,
     "start_time": "2021-03-08T00:11:37.213912",
     "status": "completed"
    },
    "tags": []
   },
   "outputs": [],
   "source": [
    "#hide\n",
    "# g.head()"
   ]
  },
  {
   "cell_type": "code",
   "execution_count": 33,
   "id": "limited-engine",
   "metadata": {
    "execution": {
     "iopub.execute_input": "2021-03-08T00:11:37.349783Z",
     "iopub.status.busy": "2021-03-08T00:11:37.349108Z",
     "iopub.status.idle": "2021-03-08T00:11:37.351241Z",
     "shell.execute_reply": "2021-03-08T00:11:37.351845Z"
    },
    "papermill": {
     "duration": 0.052905,
     "end_time": "2021-03-08T00:11:37.352005",
     "exception": false,
     "start_time": "2021-03-08T00:11:37.299100",
     "status": "completed"
    },
    "tags": []
   },
   "outputs": [],
   "source": [
    "# hide\n",
    "# g['date'] = g['date'].astype('datetime64[ns]')"
   ]
  },
  {
   "cell_type": "code",
   "execution_count": 34,
   "id": "sophisticated-supervisor",
   "metadata": {
    "execution": {
     "iopub.execute_input": "2021-03-08T00:11:37.435948Z",
     "iopub.status.busy": "2021-03-08T00:11:37.435258Z",
     "iopub.status.idle": "2021-03-08T00:11:37.437436Z",
     "shell.execute_reply": "2021-03-08T00:11:37.437987Z"
    },
    "papermill": {
     "duration": 0.047207,
     "end_time": "2021-03-08T00:11:37.438124",
     "exception": false,
     "start_time": "2021-03-08T00:11:37.390917",
     "status": "completed"
    },
    "tags": []
   },
   "outputs": [],
   "source": [
    "#hide\n",
    "# g['date'] = g.date.dt.dayofyear"
   ]
  },
  {
   "cell_type": "code",
   "execution_count": 35,
   "id": "inside-dubai",
   "metadata": {
    "execution": {
     "iopub.execute_input": "2021-03-08T00:11:37.523021Z",
     "iopub.status.busy": "2021-03-08T00:11:37.522387Z",
     "iopub.status.idle": "2021-03-08T00:11:37.525060Z",
     "shell.execute_reply": "2021-03-08T00:11:37.524436Z"
    },
    "papermill": {
     "duration": 0.046262,
     "end_time": "2021-03-08T00:11:37.525180",
     "exception": false,
     "start_time": "2021-03-08T00:11:37.478918",
     "status": "completed"
    },
    "tags": []
   },
   "outputs": [],
   "source": [
    "#hide\n",
    "# g = g.rename(columns= {'continent':'group','country':'name','cases':'value'})"
   ]
  },
  {
   "cell_type": "code",
   "execution_count": 36,
   "id": "fleet-motorcycle",
   "metadata": {
    "execution": {
     "iopub.execute_input": "2021-03-08T00:11:37.608278Z",
     "iopub.status.busy": "2021-03-08T00:11:37.607401Z",
     "iopub.status.idle": "2021-03-08T00:11:37.609705Z",
     "shell.execute_reply": "2021-03-08T00:11:37.610256Z"
    },
    "papermill": {
     "duration": 0.046705,
     "end_time": "2021-03-08T00:11:37.610391",
     "exception": false,
     "start_time": "2021-03-08T00:11:37.563686",
     "status": "completed"
    },
    "tags": []
   },
   "outputs": [],
   "source": [
    "#hide\n",
    "# cols = ['name','group','day','value']"
   ]
  },
  {
   "cell_type": "code",
   "execution_count": 37,
   "id": "continued-sleeping",
   "metadata": {
    "execution": {
     "iopub.execute_input": "2021-03-08T00:11:37.694828Z",
     "iopub.status.busy": "2021-03-08T00:11:37.694013Z",
     "iopub.status.idle": "2021-03-08T00:11:37.695754Z",
     "shell.execute_reply": "2021-03-08T00:11:37.696442Z"
    },
    "papermill": {
     "duration": 0.047758,
     "end_time": "2021-03-08T00:11:37.696651",
     "exception": false,
     "start_time": "2021-03-08T00:11:37.648893",
     "status": "completed"
    },
    "tags": []
   },
   "outputs": [],
   "source": [
    "#hide\n",
    "# g.rename(columns= {'date':'day'},inplace = True)"
   ]
  },
  {
   "cell_type": "code",
   "execution_count": 38,
   "id": "major-fight",
   "metadata": {
    "execution": {
     "iopub.execute_input": "2021-03-08T00:11:37.780748Z",
     "iopub.status.busy": "2021-03-08T00:11:37.779866Z",
     "iopub.status.idle": "2021-03-08T00:11:37.782812Z",
     "shell.execute_reply": "2021-03-08T00:11:37.782261Z"
    },
    "papermill": {
     "duration": 0.045727,
     "end_time": "2021-03-08T00:11:37.782931",
     "exception": false,
     "start_time": "2021-03-08T00:11:37.737204",
     "status": "completed"
    },
    "tags": []
   },
   "outputs": [],
   "source": [
    "#hide\n",
    "# g = g[cols]"
   ]
  },
  {
   "cell_type": "code",
   "execution_count": 39,
   "id": "structured-mobile",
   "metadata": {
    "execution": {
     "iopub.execute_input": "2021-03-08T00:11:37.866151Z",
     "iopub.status.busy": "2021-03-08T00:11:37.865453Z",
     "iopub.status.idle": "2021-03-08T00:11:37.868195Z",
     "shell.execute_reply": "2021-03-08T00:11:37.867581Z"
    },
    "papermill": {
     "duration": 0.045102,
     "end_time": "2021-03-08T00:11:37.868341",
     "exception": false,
     "start_time": "2021-03-08T00:11:37.823239",
     "status": "completed"
    },
    "tags": []
   },
   "outputs": [],
   "source": [
    "# #hide\n",
    "# g = g[g.group.notna()]"
   ]
  },
  {
   "cell_type": "code",
   "execution_count": 40,
   "id": "determined-closing",
   "metadata": {
    "execution": {
     "iopub.execute_input": "2021-03-08T00:11:37.950737Z",
     "iopub.status.busy": "2021-03-08T00:11:37.950059Z",
     "iopub.status.idle": "2021-03-08T00:11:37.951988Z",
     "shell.execute_reply": "2021-03-08T00:11:37.952617Z"
    },
    "papermill": {
     "duration": 0.044366,
     "end_time": "2021-03-08T00:11:37.952759",
     "exception": false,
     "start_time": "2021-03-08T00:11:37.908393",
     "status": "completed"
    },
    "tags": []
   },
   "outputs": [],
   "source": [
    "# #hide\n",
    "# colors = dict(zip(\n",
    "#     [\"Oceania\", \"Europe\", \"Asia\", \"South America\", \"Middle East\", \"North America\", \"Africa\"],\n",
    "#     [\"#adb0ff\", \"#ffb3ff\", \"#90d595\", \"#e48381\", \"#aafbff\", \"#f7bb5f\", \"#eafb50\"]\n",
    "# ))\n",
    "# group_lk = g.set_index('name')['group'].to_dict()"
   ]
  },
  {
   "cell_type": "code",
   "execution_count": null,
   "id": "gross-drinking",
   "metadata": {
    "papermill": {
     "duration": 0.036805,
     "end_time": "2021-03-08T00:11:38.030941",
     "exception": false,
     "start_time": "2021-03-08T00:11:37.994136",
     "status": "completed"
    },
    "tags": []
   },
   "outputs": [],
   "source": []
  },
  {
   "cell_type": "code",
   "execution_count": 41,
   "id": "subject-macintosh",
   "metadata": {
    "execution": {
     "iopub.execute_input": "2021-03-08T00:11:38.110607Z",
     "iopub.status.busy": "2021-03-08T00:11:38.109987Z",
     "iopub.status.idle": "2021-03-08T00:11:38.112594Z",
     "shell.execute_reply": "2021-03-08T00:11:38.113076Z"
    },
    "papermill": {
     "duration": 0.044667,
     "end_time": "2021-03-08T00:11:38.113214",
     "exception": false,
     "start_time": "2021-03-08T00:11:38.068547",
     "status": "completed"
    },
    "tags": []
   },
   "outputs": [],
   "source": [
    "# #hide\n",
    "# fig, ax = plt.subplots(figsize=(15, 8))\n",
    "\n",
    "# def draw_barchart(current_day):\n",
    "#     dff = g[g['day'].eq(current_day)].sort_values(by='value', ascending=True).tail(10)\n",
    "#     ax.clear()\n",
    "#     ax.barh(dff['name'], dff['value'], color=[colors[group_lk[x]] for x in dff['name']])\n",
    "#     dx = dff['value'].max() / 200\n",
    "    \n",
    "#     for i, (value, name) in enumerate(zip(dff['value'], dff['name'])):\n",
    "#         ax.text(value-dx, i,     name,           size=14, weight=600, ha='right', va='bottom')\n",
    "#         ax.text(value-dx, i-.25, group_lk[name], size=10, color='#444444', ha='right', va='baseline')\n",
    "#         ax.text(value+dx, i,     f'{value:,.0f}',  size=14, ha='left',  va='center')\n",
    "#     ax.text(1, 0.4, current_day, transform=ax.transAxes, color='#777777', size=46, ha='right', weight=800)\n",
    "#     ax.text(0, 1.06, 'Population (thousands)', transform=ax.transAxes, size=12, color='#777777')\n",
    "#     ax.xaxis.set_major_formatter(ticker.StrMethodFormatter('{x:,.0f}'))\n",
    "#     ax.xaxis.set_ticks_position('top')\n",
    "#     ax.tick_params(axis='x', colors='#777777', labelsize=12)\n",
    "#     ax.set_yticks([])\n",
    "#     ax.margins(0, 0.01)\n",
    "#     ax.grid(which='major', axis='x', linestyle='-')\n",
    "#     ax.set_axisbelow(True)\n",
    "    \n",
    "#     ax.text(0, 1.15, 'Coronavirus',\n",
    "#             transform=ax.transAxes, size=24, weight=600, ha='left', va='top')\n",
    "# #     ax.text(1, 0, 'by @pratapvardhan; credit @jburnmurdoch', transform=ax.transAxes, color='#777777', ha='right',\n",
    "# #             bbox=dict(facecolor='white', alpha=0.8, edgecolor='white'))\n",
    "#     plt.box(False)"
   ]
  },
  {
   "cell_type": "code",
   "execution_count": 42,
   "id": "sexual-wages",
   "metadata": {
    "execution": {
     "iopub.execute_input": "2021-03-08T00:11:38.200371Z",
     "iopub.status.busy": "2021-03-08T00:11:38.199637Z",
     "iopub.status.idle": "2021-03-08T00:11:38.202557Z",
     "shell.execute_reply": "2021-03-08T00:11:38.201776Z"
    },
    "papermill": {
     "duration": 0.053346,
     "end_time": "2021-03-08T00:11:38.202689",
     "exception": false,
     "start_time": "2021-03-08T00:11:38.149343",
     "status": "completed"
    },
    "tags": []
   },
   "outputs": [],
   "source": [
    "# #hide_input\n",
    "# fig, ax = plt.subplots(figsize=(15, 8))\n",
    "# animator = animation.FuncAnimation(fig, draw_barchart, frames=range(g.day.values.min(), g.day.values.max()))\n",
    "# HTML(animator.to_jshtml())\n",
    "# # or use animator.to_html5_video() or animator.save() "
   ]
  },
  {
   "cell_type": "code",
   "execution_count": null,
   "id": "australian-container",
   "metadata": {
    "papermill": {
     "duration": 0.04688,
     "end_time": "2021-03-08T00:11:38.290521",
     "exception": false,
     "start_time": "2021-03-08T00:11:38.243641",
     "status": "completed"
    },
    "tags": []
   },
   "outputs": [],
   "source": []
  },
  {
   "cell_type": "code",
   "execution_count": null,
   "id": "mediterranean-pontiac",
   "metadata": {
    "papermill": {
     "duration": 0.038504,
     "end_time": "2021-03-08T00:11:38.367838",
     "exception": false,
     "start_time": "2021-03-08T00:11:38.329334",
     "status": "completed"
    },
    "tags": []
   },
   "outputs": [],
   "source": []
  },
  {
   "cell_type": "code",
   "execution_count": null,
   "id": "aging-legislature",
   "metadata": {
    "papermill": {
     "duration": 0.037657,
     "end_time": "2021-03-08T00:11:38.447633",
     "exception": false,
     "start_time": "2021-03-08T00:11:38.409976",
     "status": "completed"
    },
    "tags": []
   },
   "outputs": [],
   "source": []
  }
 ],
 "metadata": {
  "kernelspec": {
   "display_name": "Python 3",
   "language": "python",
   "name": "python3"
  },
  "language_info": {
   "codemirror_mode": {
    "name": "ipython",
    "version": 3
   },
   "file_extension": ".py",
   "mimetype": "text/x-python",
   "name": "python",
   "nbconvert_exporter": "python",
   "pygments_lexer": "ipython3",
   "version": "3.6.13"
  },
  "papermill": {
   "duration": 6.921645,
   "end_time": "2021-03-08T00:11:38.793648",
   "environment_variables": {},
   "exception": null,
   "input_path": "2020-03-21-covid19exp.ipynb",
   "output_path": "2020-03-21-covid19exp.ipynb",
   "parameters": {},
   "start_time": "2021-03-08T00:11:31.872003",
   "version": "2.0.0"
  }
 },
 "nbformat": 4,
 "nbformat_minor": 5
}