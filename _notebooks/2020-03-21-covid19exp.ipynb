{
 "cells": [
  {
   "cell_type": "markdown",
   "id": "muslim-click",
   "metadata": {
    "papermill": {
     "duration": 0.033657,
     "end_time": "2021-07-29T12:10:49.832447",
     "exception": false,
     "start_time": "2021-07-29T12:10:49.798790",
     "status": "completed"
    },
    "tags": []
   },
   "source": [
    "# COVID-19 Case Race\n",
    "> A race chart to see rising cases around the world\n",
    "\n",
    "- author: Hargun Oberoi\n",
    "- image: images/covid-overview.png\n",
    "- hide: false\n",
    "- badges: false"
   ]
  },
  {
   "cell_type": "code",
   "execution_count": 1,
   "id": "proof-material",
   "metadata": {
    "execution": {
     "iopub.execute_input": "2021-07-29T12:10:49.902472Z",
     "iopub.status.busy": "2021-07-29T12:10:49.901954Z",
     "iopub.status.idle": "2021-07-29T12:10:50.222544Z",
     "shell.execute_reply": "2021-07-29T12:10:50.222011Z"
    },
    "papermill": {
     "duration": 0.360346,
     "end_time": "2021-07-29T12:10:50.222696",
     "exception": false,
     "start_time": "2021-07-29T12:10:49.862350",
     "status": "completed"
    },
    "tags": []
   },
   "outputs": [],
   "source": [
    "#hide\n",
    "import numpy as np\n",
    "import pandas as pd\n",
    "from jinja2 import Template\n",
    "from IPython.display import HTML"
   ]
  },
  {
   "cell_type": "code",
   "execution_count": 2,
   "id": "developed-terminology",
   "metadata": {
    "execution": {
     "iopub.execute_input": "2021-07-29T12:10:50.287277Z",
     "iopub.status.busy": "2021-07-29T12:10:50.286679Z",
     "iopub.status.idle": "2021-07-29T12:10:50.288125Z",
     "shell.execute_reply": "2021-07-29T12:10:50.288556Z"
    },
    "papermill": {
     "duration": 0.035836,
     "end_time": "2021-07-29T12:10:50.288684",
     "exception": false,
     "start_time": "2021-07-29T12:10:50.252848",
     "status": "completed"
    },
    "tags": []
   },
   "outputs": [],
   "source": [
    "#hide\n",
    "\n",
    "# FETCH\n",
    "base_url = 'https://raw.githubusercontent.com/pratapvardhan/notebooks/master/covid19/'\n",
    "paths = {\n",
    "    'mapping': base_url + 'mapping_countries.csv',\n",
    "    'overview': base_url + 'overview.tpl'\n",
    "}"
   ]
  },
  {
   "cell_type": "code",
   "execution_count": 3,
   "id": "dynamic-saver",
   "metadata": {
    "execution": {
     "iopub.execute_input": "2021-07-29T12:10:50.356813Z",
     "iopub.status.busy": "2021-07-29T12:10:50.356277Z",
     "iopub.status.idle": "2021-07-29T12:10:50.359490Z",
     "shell.execute_reply": "2021-07-29T12:10:50.359070Z"
    },
    "papermill": {
     "duration": 0.041756,
     "end_time": "2021-07-29T12:10:50.359590",
     "exception": false,
     "start_time": "2021-07-29T12:10:50.317834",
     "status": "completed"
    },
    "tags": []
   },
   "outputs": [
    {
     "data": {
      "text/plain": [
       "'https://raw.githubusercontent.com/pratapvardhan/notebooks/master/covid19/mapping_countries.csv'"
      ]
     },
     "execution_count": 3,
     "metadata": {},
     "output_type": "execute_result"
    }
   ],
   "source": [
    "#hide\n",
    "paths['mapping']"
   ]
  },
  {
   "cell_type": "code",
   "execution_count": 4,
   "id": "urban-software",
   "metadata": {
    "execution": {
     "iopub.execute_input": "2021-07-29T12:10:50.424304Z",
     "iopub.status.busy": "2021-07-29T12:10:50.423799Z",
     "iopub.status.idle": "2021-07-29T12:10:50.426271Z",
     "shell.execute_reply": "2021-07-29T12:10:50.425852Z"
    },
    "papermill": {
     "duration": 0.037126,
     "end_time": "2021-07-29T12:10:50.426377",
     "exception": false,
     "start_time": "2021-07-29T12:10:50.389251",
     "status": "completed"
    },
    "tags": []
   },
   "outputs": [],
   "source": [
    "#hide\n",
    "def get_mappings(url):\n",
    "    df = pd.read_csv(url)\n",
    "    return {\n",
    "        'df': df,\n",
    "        'replace.country': dict(df.dropna(subset=['Name']).set_index('Country')['Name']),\n",
    "        'map.continent': dict(df.set_index('Name')['Continent'])\n",
    "    }"
   ]
  },
  {
   "cell_type": "code",
   "execution_count": 5,
   "id": "intimate-machinery",
   "metadata": {
    "execution": {
     "iopub.execute_input": "2021-07-29T12:10:50.490663Z",
     "iopub.status.busy": "2021-07-29T12:10:50.490171Z",
     "iopub.status.idle": "2021-07-29T12:10:50.526407Z",
     "shell.execute_reply": "2021-07-29T12:10:50.525923Z"
    },
    "papermill": {
     "duration": 0.070771,
     "end_time": "2021-07-29T12:10:50.526539",
     "exception": false,
     "start_time": "2021-07-29T12:10:50.455768",
     "status": "completed"
    },
    "tags": []
   },
   "outputs": [],
   "source": [
    "#hide\n",
    "mapping = get_mappings(paths['mapping'])"
   ]
  },
  {
   "cell_type": "code",
   "execution_count": 6,
   "id": "certified-tactics",
   "metadata": {
    "execution": {
     "iopub.execute_input": "2021-07-29T12:10:50.591657Z",
     "iopub.status.busy": "2021-07-29T12:10:50.591148Z",
     "iopub.status.idle": "2021-07-29T12:10:50.593403Z",
     "shell.execute_reply": "2021-07-29T12:10:50.592963Z"
    },
    "papermill": {
     "duration": 0.036691,
     "end_time": "2021-07-29T12:10:50.593513",
     "exception": false,
     "start_time": "2021-07-29T12:10:50.556822",
     "status": "completed"
    },
    "tags": []
   },
   "outputs": [],
   "source": [
    "#hide\n",
    "def get_template(path):\n",
    "    from urllib.parse import urlparse\n",
    "    if bool(urlparse(path).netloc):\n",
    "        from urllib.request import urlopen\n",
    "        return urlopen(path).read().decode('utf8')\n",
    "    return open(path).read()"
   ]
  },
  {
   "cell_type": "code",
   "execution_count": 7,
   "id": "realistic-blast",
   "metadata": {
    "execution": {
     "iopub.execute_input": "2021-07-29T12:10:50.657706Z",
     "iopub.status.busy": "2021-07-29T12:10:50.657180Z",
     "iopub.status.idle": "2021-07-29T12:10:50.659376Z",
     "shell.execute_reply": "2021-07-29T12:10:50.658980Z"
    },
    "papermill": {
     "duration": 0.036339,
     "end_time": "2021-07-29T12:10:50.659483",
     "exception": false,
     "start_time": "2021-07-29T12:10:50.623144",
     "status": "completed"
    },
    "tags": []
   },
   "outputs": [],
   "source": [
    "#hide\n",
    "def get_frame(name):\n",
    "    url = (\n",
    "        'https://raw.githubusercontent.com/CSSEGISandData/COVID-19/master/csse_covid_19_data/'\n",
    "        f'csse_covid_19_time_series/time_series_covid19_{name}_global.csv')\n",
    "    df = pd.read_csv(url)\n",
    "    # rename countries\n",
    "    df['Country/Region'] = df['Country/Region'].replace(mapping['replace.country'])\n",
    "    return df"
   ]
  },
  {
   "cell_type": "code",
   "execution_count": 8,
   "id": "affiliated-characterization",
   "metadata": {
    "execution": {
     "iopub.execute_input": "2021-07-29T12:10:50.724079Z",
     "iopub.status.busy": "2021-07-29T12:10:50.723584Z",
     "iopub.status.idle": "2021-07-29T12:10:50.725672Z",
     "shell.execute_reply": "2021-07-29T12:10:50.725233Z"
    },
    "papermill": {
     "duration": 0.036653,
     "end_time": "2021-07-29T12:10:50.725779",
     "exception": false,
     "start_time": "2021-07-29T12:10:50.689126",
     "status": "completed"
    },
    "tags": []
   },
   "outputs": [],
   "source": [
    "#hide\n",
    "def get_dates(df):\n",
    "    dt_cols = df.columns[~df.columns.isin(['Province/State', 'Country/Region', 'Lat', 'Long'])]\n",
    "    LAST_DATE_I = -1\n",
    "    # sometimes last column may be empty, then go backwards\n",
    "    for i in range(-1, -len(dt_cols), -1):\n",
    "        if not df[dt_cols[i]].fillna(0).eq(0).all():\n",
    "            LAST_DATE_I = i\n",
    "            break\n",
    "    return LAST_DATE_I, dt_cols"
   ]
  },
  {
   "cell_type": "code",
   "execution_count": 9,
   "id": "recent-optimization",
   "metadata": {
    "execution": {
     "iopub.execute_input": "2021-07-29T12:10:50.789688Z",
     "iopub.status.busy": "2021-07-29T12:10:50.789163Z",
     "iopub.status.idle": "2021-07-29T12:10:51.122963Z",
     "shell.execute_reply": "2021-07-29T12:10:51.122438Z"
    },
    "papermill": {
     "duration": 0.367923,
     "end_time": "2021-07-29T12:10:51.123097",
     "exception": false,
     "start_time": "2021-07-29T12:10:50.755174",
     "status": "completed"
    },
    "tags": []
   },
   "outputs": [],
   "source": [
    "#hide\n",
    "COL_REGION = 'Country/Region'\n",
    "# Confirmed, Recovered, Deaths\n",
    "df = get_frame('confirmed')\n",
    "# dft_: timeseries, dfc_: today country agg\n",
    "dft_cases = df\n",
    "dft_deaths = get_frame('deaths')\n",
    "dft_recovered = get_frame('recovered')\n",
    "LAST_DATE_I, dt_cols = get_dates(df)"
   ]
  },
  {
   "cell_type": "code",
   "execution_count": 10,
   "id": "absolute-copper",
   "metadata": {
    "execution": {
     "iopub.execute_input": "2021-07-29T12:10:51.189107Z",
     "iopub.status.busy": "2021-07-29T12:10:51.188608Z",
     "iopub.status.idle": "2021-07-29T12:10:51.190671Z",
     "shell.execute_reply": "2021-07-29T12:10:51.190275Z"
    },
    "papermill": {
     "duration": 0.036996,
     "end_time": "2021-07-29T12:10:51.190779",
     "exception": false,
     "start_time": "2021-07-29T12:10:51.153783",
     "status": "completed"
    },
    "tags": []
   },
   "outputs": [],
   "source": [
    "#hide\n",
    "LAST_DATE_I, dt_cols = get_dates(df)\n",
    "dt_today =dt_cols[LAST_DATE_I]\n",
    "# dt_5day = dt_cols[LAST_DATE_I - 5]\n",
    "dt_yday = dt_cols[LAST_DATE_I - 1]"
   ]
  },
  {
   "cell_type": "code",
   "execution_count": 11,
   "id": "restricted-sheriff",
   "metadata": {
    "execution": {
     "iopub.execute_input": "2021-07-29T12:10:51.255120Z",
     "iopub.status.busy": "2021-07-29T12:10:51.254630Z",
     "iopub.status.idle": "2021-07-29T12:10:51.260909Z",
     "shell.execute_reply": "2021-07-29T12:10:51.261341Z"
    },
    "papermill": {
     "duration": 0.041194,
     "end_time": "2021-07-29T12:10:51.261481",
     "exception": false,
     "start_time": "2021-07-29T12:10:51.220287",
     "status": "completed"
    },
    "tags": []
   },
   "outputs": [],
   "source": [
    "#hide\n",
    "dfc_cases = dft_cases.groupby(COL_REGION)[dt_today].sum()\n",
    "dfc_deaths = dft_deaths.groupby(COL_REGION)[dt_today].sum()\n",
    "# dfp_cases = dft_cases.groupby(COL_REGION)[dt_5day].sum()\n",
    "# dfp_deaths = dft_deaths.groupby(COL_REGION)[dt_5day].sum()\n",
    "dfp_cases = dft_cases.groupby(COL_REGION)[dt_yday].sum()\n",
    "dfp_deaths = dft_deaths.groupby(COL_REGION)[dt_yday].sum()"
   ]
  },
  {
   "cell_type": "code",
   "execution_count": 12,
   "id": "deluxe-hepatitis",
   "metadata": {
    "execution": {
     "iopub.execute_input": "2021-07-29T12:10:51.326312Z",
     "iopub.status.busy": "2021-07-29T12:10:51.325822Z",
     "iopub.status.idle": "2021-07-29T12:10:51.330003Z",
     "shell.execute_reply": "2021-07-29T12:10:51.330397Z"
    },
    "papermill": {
     "duration": 0.039389,
     "end_time": "2021-07-29T12:10:51.330513",
     "exception": false,
     "start_time": "2021-07-29T12:10:51.291124",
     "status": "completed"
    },
    "tags": []
   },
   "outputs": [],
   "source": [
    "#hide\n",
    "df_table = (pd.DataFrame(dict(Cases = dfc_cases, Deaths = dfc_deaths, PCases = dfp_cases, PDeaths = dfp_deaths))\n",
    "            .sort_values(by = ['Cases','Deaths'], ascending = [False, False])\n",
    "            .reset_index())"
   ]
  },
  {
   "cell_type": "code",
   "execution_count": 13,
   "id": "educational-chancellor",
   "metadata": {
    "execution": {
     "iopub.execute_input": "2021-07-29T12:10:51.406847Z",
     "iopub.status.busy": "2021-07-29T12:10:51.406346Z",
     "iopub.status.idle": "2021-07-29T12:10:51.413469Z",
     "shell.execute_reply": "2021-07-29T12:10:51.413055Z"
    },
    "papermill": {
     "duration": 0.053681,
     "end_time": "2021-07-29T12:10:51.413578",
     "exception": false,
     "start_time": "2021-07-29T12:10:51.359897",
     "status": "completed"
    },
    "tags": []
   },
   "outputs": [
    {
     "data": {
      "text/html": [
       "<div>\n",
       "<style scoped>\n",
       "    .dataframe tbody tr th:only-of-type {\n",
       "        vertical-align: middle;\n",
       "    }\n",
       "\n",
       "    .dataframe tbody tr th {\n",
       "        vertical-align: top;\n",
       "    }\n",
       "\n",
       "    .dataframe thead th {\n",
       "        text-align: right;\n",
       "    }\n",
       "</style>\n",
       "<table border=\"1\" class=\"dataframe\">\n",
       "  <thead>\n",
       "    <tr style=\"text-align: right;\">\n",
       "      <th></th>\n",
       "      <th>Country/Region</th>\n",
       "      <th>Cases</th>\n",
       "      <th>Deaths</th>\n",
       "      <th>PCases</th>\n",
       "      <th>PDeaths</th>\n",
       "      <th>Cases (+)</th>\n",
       "      <th>Deaths (+)</th>\n",
       "      <th>Fatality Rate</th>\n",
       "      <th>Continent</th>\n",
       "    </tr>\n",
       "  </thead>\n",
       "  <tbody>\n",
       "    <tr>\n",
       "      <th>0</th>\n",
       "      <td>US</td>\n",
       "      <td>34672690</td>\n",
       "      <td>611801</td>\n",
       "      <td>34603919</td>\n",
       "      <td>611414</td>\n",
       "      <td>68771</td>\n",
       "      <td>387</td>\n",
       "      <td>1.76</td>\n",
       "      <td>North America</td>\n",
       "    </tr>\n",
       "    <tr>\n",
       "      <th>1</th>\n",
       "      <td>India</td>\n",
       "      <td>31528114</td>\n",
       "      <td>422662</td>\n",
       "      <td>31484605</td>\n",
       "      <td>422022</td>\n",
       "      <td>43509</td>\n",
       "      <td>640</td>\n",
       "      <td>1.34</td>\n",
       "      <td>Asia</td>\n",
       "    </tr>\n",
       "    <tr>\n",
       "      <th>2</th>\n",
       "      <td>Brazil</td>\n",
       "      <td>19797086</td>\n",
       "      <td>553179</td>\n",
       "      <td>19749073</td>\n",
       "      <td>551835</td>\n",
       "      <td>48013</td>\n",
       "      <td>1344</td>\n",
       "      <td>2.79</td>\n",
       "      <td>South America</td>\n",
       "    </tr>\n",
       "    <tr>\n",
       "      <th>3</th>\n",
       "      <td>France</td>\n",
       "      <td>6116853</td>\n",
       "      <td>111923</td>\n",
       "      <td>6088930</td>\n",
       "      <td>111883</td>\n",
       "      <td>27923</td>\n",
       "      <td>40</td>\n",
       "      <td>1.83</td>\n",
       "      <td>Europe</td>\n",
       "    </tr>\n",
       "    <tr>\n",
       "      <th>4</th>\n",
       "      <td>Russia</td>\n",
       "      <td>6116249</td>\n",
       "      <td>153620</td>\n",
       "      <td>6094379</td>\n",
       "      <td>152836</td>\n",
       "      <td>21870</td>\n",
       "      <td>784</td>\n",
       "      <td>2.51</td>\n",
       "      <td>Europe</td>\n",
       "    </tr>\n",
       "  </tbody>\n",
       "</table>\n",
       "</div>"
      ],
      "text/plain": [
       "  Country/Region     Cases  Deaths    PCases  PDeaths  Cases (+)  Deaths (+)  \\\n",
       "0             US  34672690  611801  34603919   611414      68771         387   \n",
       "1          India  31528114  422662  31484605   422022      43509         640   \n",
       "2         Brazil  19797086  553179  19749073   551835      48013        1344   \n",
       "3         France   6116853  111923   6088930   111883      27923          40   \n",
       "4         Russia   6116249  153620   6094379   152836      21870         784   \n",
       "\n",
       "   Fatality Rate      Continent  \n",
       "0           1.76  North America  \n",
       "1           1.34           Asia  \n",
       "2           2.79  South America  \n",
       "3           1.83         Europe  \n",
       "4           2.51         Europe  "
      ]
     },
     "execution_count": 13,
     "metadata": {},
     "output_type": "execute_result"
    }
   ],
   "source": [
    "#hide\n",
    "for c in 'Cases, Deaths'.split(', '):\n",
    "    df_table[f'{c} (+)'] = (df_table[c] - df_table[f'P{c}']).clip(0)\n",
    "    #Clip ça veut dire, les chiffres negatif sont interdit\n",
    "df_table['Fatality Rate'] = (100* df_table['Deaths']/ df_table['Cases']).round(2)\n",
    "df_table['Continent'] = df_table['Country/Region'].map(mapping['map.continent'])\n",
    "df_table.head(5)"
   ]
  },
  {
   "cell_type": "code",
   "execution_count": 14,
   "id": "aboriginal-bulgaria",
   "metadata": {
    "execution": {
     "iopub.execute_input": "2021-07-29T12:10:51.479221Z",
     "iopub.status.busy": "2021-07-29T12:10:51.478722Z",
     "iopub.status.idle": "2021-07-29T12:10:51.481160Z",
     "shell.execute_reply": "2021-07-29T12:10:51.480742Z"
    },
    "papermill": {
     "duration": 0.037506,
     "end_time": "2021-07-29T12:10:51.481262",
     "exception": false,
     "start_time": "2021-07-29T12:10:51.443756",
     "status": "completed"
    },
    "tags": []
   },
   "outputs": [],
   "source": [
    "#hide\n",
    "#delete problematic countries from table\n",
    "df_table = df_table[~df_table['Country/Region'].isin(['Cape Verde', 'Cruise Ship', 'Kosovo'])]"
   ]
  },
  {
   "cell_type": "code",
   "execution_count": 15,
   "id": "fantastic-effect",
   "metadata": {
    "execution": {
     "iopub.execute_input": "2021-07-29T12:10:51.549477Z",
     "iopub.status.busy": "2021-07-29T12:10:51.548946Z",
     "iopub.status.idle": "2021-07-29T12:10:51.564785Z",
     "shell.execute_reply": "2021-07-29T12:10:51.565159Z"
    },
    "papermill": {
     "duration": 0.053919,
     "end_time": "2021-07-29T12:10:51.565285",
     "exception": false,
     "start_time": "2021-07-29T12:10:51.511366",
     "status": "completed"
    },
    "tags": []
   },
   "outputs": [
    {
     "data": {
      "text/html": [
       "<div>\n",
       "<style scoped>\n",
       "    .dataframe tbody tr th:only-of-type {\n",
       "        vertical-align: middle;\n",
       "    }\n",
       "\n",
       "    .dataframe tbody tr th {\n",
       "        vertical-align: top;\n",
       "    }\n",
       "\n",
       "    .dataframe thead th {\n",
       "        text-align: right;\n",
       "    }\n",
       "</style>\n",
       "<table border=\"1\" class=\"dataframe\">\n",
       "  <thead>\n",
       "    <tr style=\"text-align: right;\">\n",
       "      <th></th>\n",
       "      <th>Country/Region</th>\n",
       "      <th>Cases</th>\n",
       "      <th>Deaths</th>\n",
       "      <th>PCases</th>\n",
       "      <th>PDeaths</th>\n",
       "      <th>Cases (+)</th>\n",
       "      <th>Deaths (+)</th>\n",
       "      <th>Fatality Rate</th>\n",
       "      <th>Continent</th>\n",
       "    </tr>\n",
       "  </thead>\n",
       "  <tbody>\n",
       "    <tr>\n",
       "      <th>0</th>\n",
       "      <td>US</td>\n",
       "      <td>34672690</td>\n",
       "      <td>611801</td>\n",
       "      <td>34603919</td>\n",
       "      <td>611414</td>\n",
       "      <td>68771</td>\n",
       "      <td>387</td>\n",
       "      <td>1.8</td>\n",
       "      <td>North America</td>\n",
       "    </tr>\n",
       "    <tr>\n",
       "      <th>1</th>\n",
       "      <td>India</td>\n",
       "      <td>31528114</td>\n",
       "      <td>422662</td>\n",
       "      <td>31484605</td>\n",
       "      <td>422022</td>\n",
       "      <td>43509</td>\n",
       "      <td>640</td>\n",
       "      <td>1.3</td>\n",
       "      <td>Asia</td>\n",
       "    </tr>\n",
       "    <tr>\n",
       "      <th>2</th>\n",
       "      <td>Brazil</td>\n",
       "      <td>19797086</td>\n",
       "      <td>553179</td>\n",
       "      <td>19749073</td>\n",
       "      <td>551835</td>\n",
       "      <td>48013</td>\n",
       "      <td>1344</td>\n",
       "      <td>2.8</td>\n",
       "      <td>South America</td>\n",
       "    </tr>\n",
       "    <tr>\n",
       "      <th>3</th>\n",
       "      <td>France</td>\n",
       "      <td>6116853</td>\n",
       "      <td>111923</td>\n",
       "      <td>6088930</td>\n",
       "      <td>111883</td>\n",
       "      <td>27923</td>\n",
       "      <td>40</td>\n",
       "      <td>1.8</td>\n",
       "      <td>Europe</td>\n",
       "    </tr>\n",
       "    <tr>\n",
       "      <th>4</th>\n",
       "      <td>Russia</td>\n",
       "      <td>6116249</td>\n",
       "      <td>153620</td>\n",
       "      <td>6094379</td>\n",
       "      <td>152836</td>\n",
       "      <td>21870</td>\n",
       "      <td>784</td>\n",
       "      <td>2.5</td>\n",
       "      <td>Europe</td>\n",
       "    </tr>\n",
       "  </tbody>\n",
       "</table>\n",
       "</div>"
      ],
      "text/plain": [
       "  Country/Region     Cases  Deaths    PCases  PDeaths  Cases (+)  Deaths (+)  \\\n",
       "0             US  34672690  611801  34603919   611414      68771         387   \n",
       "1          India  31528114  422662  31484605   422022      43509         640   \n",
       "2         Brazil  19797086  553179  19749073   551835      48013        1344   \n",
       "3         France   6116853  111923   6088930   111883      27923          40   \n",
       "4         Russia   6116249  153620   6094379   152836      21870         784   \n",
       "\n",
       "   Fatality Rate      Continent  \n",
       "0            1.8  North America  \n",
       "1            1.3           Asia  \n",
       "2            2.8  South America  \n",
       "3            1.8         Europe  \n",
       "4            2.5         Europe  "
      ]
     },
     "execution_count": 15,
     "metadata": {},
     "output_type": "execute_result"
    }
   ],
   "source": [
    "#hide\n",
    "df_table = (pd.DataFrame(dict(Cases=dfc_cases, Deaths=dfc_deaths, PCases=dfp_cases, PDeaths=dfp_deaths))\n",
    "             .sort_values(by=['Cases', 'Deaths'], ascending=[False, False])\n",
    "             .reset_index())\n",
    "df_table.rename(columns={'index': 'Country/Region'}, inplace=True)\n",
    "for c in 'Cases, Deaths'.split(', '):\n",
    "    df_table[f'{c} (+)'] = (df_table[c] - df_table[f'P{c}']).clip(0)  # DATA BUG\n",
    "df_table['Fatality Rate'] = (100 * df_table['Deaths'] / df_table['Cases']).round(1)\n",
    "df_table['Continent'] = df_table['Country/Region'].map(mapping['map.continent'])\n",
    "df_table.head(5)"
   ]
  },
  {
   "cell_type": "code",
   "execution_count": 16,
   "id": "fewer-occasion",
   "metadata": {
    "execution": {
     "iopub.execute_input": "2021-07-29T12:10:51.632490Z",
     "iopub.status.busy": "2021-07-29T12:10:51.631995Z",
     "iopub.status.idle": "2021-07-29T12:10:51.634090Z",
     "shell.execute_reply": "2021-07-29T12:10:51.634510Z"
    },
    "papermill": {
     "duration": 0.038681,
     "end_time": "2021-07-29T12:10:51.634634",
     "exception": false,
     "start_time": "2021-07-29T12:10:51.595953",
     "status": "completed"
    },
    "tags": []
   },
   "outputs": [],
   "source": [
    "#hide\n",
    "#delete problematic countries from table\n",
    "df_table = df_table[~df_table['Country/Region'].isin(['Cape Verde', 'Cruise Ship', 'Kosovo'])]"
   ]
  },
  {
   "cell_type": "code",
   "execution_count": 17,
   "id": "related-center",
   "metadata": {
    "execution": {
     "iopub.execute_input": "2021-07-29T12:10:51.713719Z",
     "iopub.status.busy": "2021-07-29T12:10:51.713185Z",
     "iopub.status.idle": "2021-07-29T12:10:51.715552Z",
     "shell.execute_reply": "2021-07-29T12:10:51.715154Z"
    },
    "papermill": {
     "duration": 0.050746,
     "end_time": "2021-07-29T12:10:51.715662",
     "exception": false,
     "start_time": "2021-07-29T12:10:51.664916",
     "status": "completed"
    },
    "tags": []
   },
   "outputs": [],
   "source": [
    "#hide\n",
    "metrics = [df_table.columns[index] for index in [1,2,5,6]]\n",
    "# s_china = df_table[df_table['Country/Region'].eq('China')][metrics].sum().add_prefix('China ')\n",
    "s_us = df_table[df_table['Country/Region'].eq('US')][metrics].sum().add_prefix('US ')\n",
    "s_eu = df_table[df_table['Continent'].eq('Europe')][metrics].sum().add_prefix('EU ')\n",
    "s_ind = df_table[df_table['Country/Region'].eq('India')][metrics].sum().add_prefix('India ')\n",
    "summary = {'updated': pd.to_datetime(dt_today), 'since': pd.to_datetime(dt_yday)}\n",
    "summary = {'updated': pd.to_datetime(dt_today), 'since': pd.to_datetime(dt_yday)}\n",
    "summary = {**summary, **df_table[metrics].sum(), **s_ind, **s_us, **s_eu}"
   ]
  },
  {
   "cell_type": "code",
   "execution_count": 18,
   "id": "engaging-syndrome",
   "metadata": {
    "execution": {
     "iopub.execute_input": "2021-07-29T12:10:51.782014Z",
     "iopub.status.busy": "2021-07-29T12:10:51.781513Z",
     "iopub.status.idle": "2021-07-29T12:10:51.794778Z",
     "shell.execute_reply": "2021-07-29T12:10:51.794376Z"
    },
    "papermill": {
     "duration": 0.048447,
     "end_time": "2021-07-29T12:10:51.794887",
     "exception": false,
     "start_time": "2021-07-29T12:10:51.746440",
     "status": "completed"
    },
    "tags": []
   },
   "outputs": [],
   "source": [
    "#hide\n",
    "dft_ct_new_cases = dft_cases.groupby(COL_REGION)[dt_cols].sum().diff(axis=1).fillna(0).astype(int)"
   ]
  },
  {
   "cell_type": "code",
   "execution_count": 19,
   "id": "neutral-assignment",
   "metadata": {
    "execution": {
     "iopub.execute_input": "2021-07-29T12:10:51.861824Z",
     "iopub.status.busy": "2021-07-29T12:10:51.861305Z",
     "iopub.status.idle": "2021-07-29T12:10:51.863055Z",
     "shell.execute_reply": "2021-07-29T12:10:51.863520Z"
    },
    "papermill": {
     "duration": 0.038069,
     "end_time": "2021-07-29T12:10:51.863638",
     "exception": false,
     "start_time": "2021-07-29T12:10:51.825569",
     "status": "completed"
    },
    "tags": []
   },
   "outputs": [],
   "source": [
    "#hide\n",
    "everydaycases = dft_ct_new_cases.cumsum(axis=1)"
   ]
  },
  {
   "cell_type": "code",
   "execution_count": 20,
   "id": "parliamentary-calgary",
   "metadata": {
    "execution": {
     "iopub.execute_input": "2021-07-29T12:10:51.928796Z",
     "iopub.status.busy": "2021-07-29T12:10:51.928300Z",
     "iopub.status.idle": "2021-07-29T12:10:52.547698Z",
     "shell.execute_reply": "2021-07-29T12:10:52.547245Z"
    },
    "papermill": {
     "duration": 0.653735,
     "end_time": "2021-07-29T12:10:52.547826",
     "exception": false,
     "start_time": "2021-07-29T12:10:51.894091",
     "status": "completed"
    },
    "tags": []
   },
   "outputs": [],
   "source": [
    "#hide\n",
    "import pandas as pd\n",
    "import matplotlib.pyplot as plt\n",
    "import matplotlib.ticker as ticker\n",
    "import matplotlib.animation as animation\n",
    "from IPython.display import HTML"
   ]
  },
  {
   "cell_type": "code",
   "execution_count": 21,
   "id": "lasting-extraction",
   "metadata": {
    "execution": {
     "iopub.execute_input": "2021-07-29T12:10:52.615372Z",
     "iopub.status.busy": "2021-07-29T12:10:52.614876Z",
     "iopub.status.idle": "2021-07-29T12:10:52.620114Z",
     "shell.execute_reply": "2021-07-29T12:10:52.620532Z"
    },
    "papermill": {
     "duration": 0.041182,
     "end_time": "2021-07-29T12:10:52.620654",
     "exception": false,
     "start_time": "2021-07-29T12:10:52.579472",
     "status": "completed"
    },
    "tags": []
   },
   "outputs": [],
   "source": [
    "#hide\n",
    "t = everydaycases.stack()"
   ]
  },
  {
   "cell_type": "code",
   "execution_count": 22,
   "id": "premier-sleeve",
   "metadata": {
    "execution": {
     "iopub.execute_input": "2021-07-29T12:10:52.685659Z",
     "iopub.status.busy": "2021-07-29T12:10:52.685132Z",
     "iopub.status.idle": "2021-07-29T12:10:52.692792Z",
     "shell.execute_reply": "2021-07-29T12:10:52.693211Z"
    },
    "papermill": {
     "duration": 0.042088,
     "end_time": "2021-07-29T12:10:52.693333",
     "exception": false,
     "start_time": "2021-07-29T12:10:52.651245",
     "status": "completed"
    },
    "tags": []
   },
   "outputs": [],
   "source": [
    "#hide\n",
    "g = t.reset_index(['Country/Region'])"
   ]
  },
  {
   "cell_type": "code",
   "execution_count": 23,
   "id": "distributed-pittsburgh",
   "metadata": {
    "execution": {
     "iopub.execute_input": "2021-07-29T12:10:52.757796Z",
     "iopub.status.busy": "2021-07-29T12:10:52.757269Z",
     "iopub.status.idle": "2021-07-29T12:10:52.759508Z",
     "shell.execute_reply": "2021-07-29T12:10:52.759116Z"
    },
    "papermill": {
     "duration": 0.035882,
     "end_time": "2021-07-29T12:10:52.759611",
     "exception": false,
     "start_time": "2021-07-29T12:10:52.723729",
     "status": "completed"
    },
    "tags": []
   },
   "outputs": [],
   "source": [
    "#hide\n",
    "g.index.name = 'date'"
   ]
  },
  {
   "cell_type": "code",
   "execution_count": 24,
   "id": "naked-donor",
   "metadata": {
    "execution": {
     "iopub.execute_input": "2021-07-29T12:10:52.823739Z",
     "iopub.status.busy": "2021-07-29T12:10:52.823248Z",
     "iopub.status.idle": "2021-07-29T12:10:52.825484Z",
     "shell.execute_reply": "2021-07-29T12:10:52.825073Z"
    },
    "papermill": {
     "duration": 0.035548,
     "end_time": "2021-07-29T12:10:52.825588",
     "exception": false,
     "start_time": "2021-07-29T12:10:52.790040",
     "status": "completed"
    },
    "tags": []
   },
   "outputs": [],
   "source": [
    "# #hide\n",
    "# g = g.reset_index(['date'])"
   ]
  },
  {
   "cell_type": "code",
   "execution_count": 25,
   "id": "incomplete-mustang",
   "metadata": {
    "execution": {
     "iopub.execute_input": "2021-07-29T12:10:52.889855Z",
     "iopub.status.busy": "2021-07-29T12:10:52.889333Z",
     "iopub.status.idle": "2021-07-29T12:10:52.891536Z",
     "shell.execute_reply": "2021-07-29T12:10:52.891146Z"
    },
    "papermill": {
     "duration": 0.035549,
     "end_time": "2021-07-29T12:10:52.891641",
     "exception": false,
     "start_time": "2021-07-29T12:10:52.856092",
     "status": "completed"
    },
    "tags": []
   },
   "outputs": [],
   "source": [
    "#hide\n",
    "# g.head()"
   ]
  },
  {
   "cell_type": "code",
   "execution_count": 26,
   "id": "specific-kruger",
   "metadata": {
    "execution": {
     "iopub.execute_input": "2021-07-29T12:10:52.955876Z",
     "iopub.status.busy": "2021-07-29T12:10:52.955377Z",
     "iopub.status.idle": "2021-07-29T12:10:52.957583Z",
     "shell.execute_reply": "2021-07-29T12:10:52.957148Z"
    },
    "papermill": {
     "duration": 0.035554,
     "end_time": "2021-07-29T12:10:52.957687",
     "exception": false,
     "start_time": "2021-07-29T12:10:52.922133",
     "status": "completed"
    },
    "tags": []
   },
   "outputs": [],
   "source": [
    "#hide\n",
    "# g.columns = ['date','country','cases']"
   ]
  },
  {
   "cell_type": "code",
   "execution_count": 27,
   "id": "tender-conversion",
   "metadata": {
    "execution": {
     "iopub.execute_input": "2021-07-29T12:10:53.021787Z",
     "iopub.status.busy": "2021-07-29T12:10:53.021261Z",
     "iopub.status.idle": "2021-07-29T12:10:53.023043Z",
     "shell.execute_reply": "2021-07-29T12:10:53.023514Z"
    },
    "papermill": {
     "duration": 0.035576,
     "end_time": "2021-07-29T12:10:53.023628",
     "exception": false,
     "start_time": "2021-07-29T12:10:52.988052",
     "status": "completed"
    },
    "tags": []
   },
   "outputs": [],
   "source": [
    "#hide\n",
    "# g['continent'] = g.country"
   ]
  },
  {
   "cell_type": "code",
   "execution_count": 28,
   "id": "substantial-wilderness",
   "metadata": {
    "execution": {
     "iopub.execute_input": "2021-07-29T12:10:53.087917Z",
     "iopub.status.busy": "2021-07-29T12:10:53.087427Z",
     "iopub.status.idle": "2021-07-29T12:10:53.089164Z",
     "shell.execute_reply": "2021-07-29T12:10:53.089652Z"
    },
    "papermill": {
     "duration": 0.035663,
     "end_time": "2021-07-29T12:10:53.089772",
     "exception": false,
     "start_time": "2021-07-29T12:10:53.054109",
     "status": "completed"
    },
    "tags": []
   },
   "outputs": [],
   "source": [
    "#hide\n",
    "# cols = list(g.columns.values)"
   ]
  },
  {
   "cell_type": "code",
   "execution_count": 29,
   "id": "solved-farming",
   "metadata": {
    "execution": {
     "iopub.execute_input": "2021-07-29T12:10:53.153878Z",
     "iopub.status.busy": "2021-07-29T12:10:53.153379Z",
     "iopub.status.idle": "2021-07-29T12:10:53.155188Z",
     "shell.execute_reply": "2021-07-29T12:10:53.155556Z"
    },
    "papermill": {
     "duration": 0.035233,
     "end_time": "2021-07-29T12:10:53.155671",
     "exception": false,
     "start_time": "2021-07-29T12:10:53.120438",
     "status": "completed"
    },
    "tags": []
   },
   "outputs": [],
   "source": [
    "#hide\n",
    "# cols.insert(0, cols.pop())"
   ]
  },
  {
   "cell_type": "code",
   "execution_count": 30,
   "id": "executed-adoption",
   "metadata": {
    "execution": {
     "iopub.execute_input": "2021-07-29T12:10:53.219544Z",
     "iopub.status.busy": "2021-07-29T12:10:53.219038Z",
     "iopub.status.idle": "2021-07-29T12:10:53.220849Z",
     "shell.execute_reply": "2021-07-29T12:10:53.221265Z"
    },
    "papermill": {
     "duration": 0.035429,
     "end_time": "2021-07-29T12:10:53.221399",
     "exception": false,
     "start_time": "2021-07-29T12:10:53.185970",
     "status": "completed"
    },
    "tags": []
   },
   "outputs": [],
   "source": [
    "#hide\n",
    "# g = g[cols]"
   ]
  },
  {
   "cell_type": "code",
   "execution_count": 31,
   "id": "subject-dublin",
   "metadata": {
    "execution": {
     "iopub.execute_input": "2021-07-29T12:10:53.285060Z",
     "iopub.status.busy": "2021-07-29T12:10:53.284572Z",
     "iopub.status.idle": "2021-07-29T12:10:53.286836Z",
     "shell.execute_reply": "2021-07-29T12:10:53.286442Z"
    },
    "papermill": {
     "duration": 0.035341,
     "end_time": "2021-07-29T12:10:53.286937",
     "exception": false,
     "start_time": "2021-07-29T12:10:53.251596",
     "status": "completed"
    },
    "tags": []
   },
   "outputs": [],
   "source": [
    "#hide\n",
    "# g['continent'] = g['continent'].map(mapping['map.continent'])"
   ]
  },
  {
   "cell_type": "code",
   "execution_count": 32,
   "id": "freelance-scout",
   "metadata": {
    "execution": {
     "iopub.execute_input": "2021-07-29T12:10:53.350618Z",
     "iopub.status.busy": "2021-07-29T12:10:53.350125Z",
     "iopub.status.idle": "2021-07-29T12:10:53.352347Z",
     "shell.execute_reply": "2021-07-29T12:10:53.351959Z"
    },
    "papermill": {
     "duration": 0.035296,
     "end_time": "2021-07-29T12:10:53.352450",
     "exception": false,
     "start_time": "2021-07-29T12:10:53.317154",
     "status": "completed"
    },
    "tags": []
   },
   "outputs": [],
   "source": [
    "#hide\n",
    "# g.head()"
   ]
  },
  {
   "cell_type": "code",
   "execution_count": 33,
   "id": "limited-engine",
   "metadata": {
    "execution": {
     "iopub.execute_input": "2021-07-29T12:10:53.416140Z",
     "iopub.status.busy": "2021-07-29T12:10:53.415652Z",
     "iopub.status.idle": "2021-07-29T12:10:53.417417Z",
     "shell.execute_reply": "2021-07-29T12:10:53.417898Z"
    },
    "papermill": {
     "duration": 0.035367,
     "end_time": "2021-07-29T12:10:53.418013",
     "exception": false,
     "start_time": "2021-07-29T12:10:53.382646",
     "status": "completed"
    },
    "tags": []
   },
   "outputs": [],
   "source": [
    "# hide\n",
    "# g['date'] = g['date'].astype('datetime64[ns]')"
   ]
  },
  {
   "cell_type": "code",
   "execution_count": 34,
   "id": "sophisticated-supervisor",
   "metadata": {
    "execution": {
     "iopub.execute_input": "2021-07-29T12:10:53.482110Z",
     "iopub.status.busy": "2021-07-29T12:10:53.481612Z",
     "iopub.status.idle": "2021-07-29T12:10:53.483610Z",
     "shell.execute_reply": "2021-07-29T12:10:53.483127Z"
    },
    "papermill": {
     "duration": 0.035062,
     "end_time": "2021-07-29T12:10:53.483709",
     "exception": false,
     "start_time": "2021-07-29T12:10:53.448647",
     "status": "completed"
    },
    "tags": []
   },
   "outputs": [],
   "source": [
    "#hide\n",
    "# g['date'] = g.date.dt.dayofyear"
   ]
  },
  {
   "cell_type": "code",
   "execution_count": 35,
   "id": "inside-dubai",
   "metadata": {
    "execution": {
     "iopub.execute_input": "2021-07-29T12:10:53.548321Z",
     "iopub.status.busy": "2021-07-29T12:10:53.547835Z",
     "iopub.status.idle": "2021-07-29T12:10:53.549957Z",
     "shell.execute_reply": "2021-07-29T12:10:53.549542Z"
    },
    "papermill": {
     "duration": 0.036141,
     "end_time": "2021-07-29T12:10:53.550057",
     "exception": false,
     "start_time": "2021-07-29T12:10:53.513916",
     "status": "completed"
    },
    "tags": []
   },
   "outputs": [],
   "source": [
    "#hide\n",
    "# g = g.rename(columns= {'continent':'group','country':'name','cases':'value'})"
   ]
  },
  {
   "cell_type": "code",
   "execution_count": 36,
   "id": "fleet-motorcycle",
   "metadata": {
    "execution": {
     "iopub.execute_input": "2021-07-29T12:10:53.614124Z",
     "iopub.status.busy": "2021-07-29T12:10:53.613624Z",
     "iopub.status.idle": "2021-07-29T12:10:53.615780Z",
     "shell.execute_reply": "2021-07-29T12:10:53.615366Z"
    },
    "papermill": {
     "duration": 0.035444,
     "end_time": "2021-07-29T12:10:53.615879",
     "exception": false,
     "start_time": "2021-07-29T12:10:53.580435",
     "status": "completed"
    },
    "tags": []
   },
   "outputs": [],
   "source": [
    "#hide\n",
    "# cols = ['name','group','day','value']"
   ]
  },
  {
   "cell_type": "code",
   "execution_count": 37,
   "id": "continued-sleeping",
   "metadata": {
    "execution": {
     "iopub.execute_input": "2021-07-29T12:10:53.679747Z",
     "iopub.status.busy": "2021-07-29T12:10:53.679259Z",
     "iopub.status.idle": "2021-07-29T12:10:53.681119Z",
     "shell.execute_reply": "2021-07-29T12:10:53.681528Z"
    },
    "papermill": {
     "duration": 0.035523,
     "end_time": "2021-07-29T12:10:53.681647",
     "exception": false,
     "start_time": "2021-07-29T12:10:53.646124",
     "status": "completed"
    },
    "tags": []
   },
   "outputs": [],
   "source": [
    "#hide\n",
    "# g.rename(columns= {'date':'day'},inplace = True)"
   ]
  },
  {
   "cell_type": "code",
   "execution_count": 38,
   "id": "major-fight",
   "metadata": {
    "execution": {
     "iopub.execute_input": "2021-07-29T12:10:53.745818Z",
     "iopub.status.busy": "2021-07-29T12:10:53.745301Z",
     "iopub.status.idle": "2021-07-29T12:10:53.747033Z",
     "shell.execute_reply": "2021-07-29T12:10:53.747499Z"
    },
    "papermill": {
     "duration": 0.035368,
     "end_time": "2021-07-29T12:10:53.747611",
     "exception": false,
     "start_time": "2021-07-29T12:10:53.712243",
     "status": "completed"
    },
    "tags": []
   },
   "outputs": [],
   "source": [
    "#hide\n",
    "# g = g[cols]"
   ]
  },
  {
   "cell_type": "code",
   "execution_count": 39,
   "id": "structured-mobile",
   "metadata": {
    "execution": {
     "iopub.execute_input": "2021-07-29T12:10:53.811274Z",
     "iopub.status.busy": "2021-07-29T12:10:53.810788Z",
     "iopub.status.idle": "2021-07-29T12:10:53.813038Z",
     "shell.execute_reply": "2021-07-29T12:10:53.812627Z"
    },
    "papermill": {
     "duration": 0.035384,
     "end_time": "2021-07-29T12:10:53.813136",
     "exception": false,
     "start_time": "2021-07-29T12:10:53.777752",
     "status": "completed"
    },
    "tags": []
   },
   "outputs": [],
   "source": [
    "# #hide\n",
    "# g = g[g.group.notna()]"
   ]
  },
  {
   "cell_type": "code",
   "execution_count": 40,
   "id": "determined-closing",
   "metadata": {
    "execution": {
     "iopub.execute_input": "2021-07-29T12:10:53.876950Z",
     "iopub.status.busy": "2021-07-29T12:10:53.876451Z",
     "iopub.status.idle": "2021-07-29T12:10:53.878646Z",
     "shell.execute_reply": "2021-07-29T12:10:53.878227Z"
    },
    "papermill": {
     "duration": 0.03526,
     "end_time": "2021-07-29T12:10:53.878748",
     "exception": false,
     "start_time": "2021-07-29T12:10:53.843488",
     "status": "completed"
    },
    "tags": []
   },
   "outputs": [],
   "source": [
    "# #hide\n",
    "# colors = dict(zip(\n",
    "#     [\"Oceania\", \"Europe\", \"Asia\", \"South America\", \"Middle East\", \"North America\", \"Africa\"],\n",
    "#     [\"#adb0ff\", \"#ffb3ff\", \"#90d595\", \"#e48381\", \"#aafbff\", \"#f7bb5f\", \"#eafb50\"]\n",
    "# ))\n",
    "# group_lk = g.set_index('name')['group'].to_dict()"
   ]
  },
  {
   "cell_type": "code",
   "execution_count": null,
   "id": "gross-drinking",
   "metadata": {
    "papermill": {
     "duration": 0.030162,
     "end_time": "2021-07-29T12:10:53.939078",
     "exception": false,
     "start_time": "2021-07-29T12:10:53.908916",
     "status": "completed"
    },
    "tags": []
   },
   "outputs": [],
   "source": []
  },
  {
   "cell_type": "code",
   "execution_count": 41,
   "id": "subject-macintosh",
   "metadata": {
    "execution": {
     "iopub.execute_input": "2021-07-29T12:10:54.004103Z",
     "iopub.status.busy": "2021-07-29T12:10:54.003587Z",
     "iopub.status.idle": "2021-07-29T12:10:54.005390Z",
     "shell.execute_reply": "2021-07-29T12:10:54.005771Z"
    },
    "papermill": {
     "duration": 0.036324,
     "end_time": "2021-07-29T12:10:54.005894",
     "exception": false,
     "start_time": "2021-07-29T12:10:53.969570",
     "status": "completed"
    },
    "tags": []
   },
   "outputs": [],
   "source": [
    "# #hide\n",
    "# fig, ax = plt.subplots(figsize=(15, 8))\n",
    "\n",
    "# def draw_barchart(current_day):\n",
    "#     dff = g[g['day'].eq(current_day)].sort_values(by='value', ascending=True).tail(10)\n",
    "#     ax.clear()\n",
    "#     ax.barh(dff['name'], dff['value'], color=[colors[group_lk[x]] for x in dff['name']])\n",
    "#     dx = dff['value'].max() / 200\n",
    "    \n",
    "#     for i, (value, name) in enumerate(zip(dff['value'], dff['name'])):\n",
    "#         ax.text(value-dx, i,     name,           size=14, weight=600, ha='right', va='bottom')\n",
    "#         ax.text(value-dx, i-.25, group_lk[name], size=10, color='#444444', ha='right', va='baseline')\n",
    "#         ax.text(value+dx, i,     f'{value:,.0f}',  size=14, ha='left',  va='center')\n",
    "#     ax.text(1, 0.4, current_day, transform=ax.transAxes, color='#777777', size=46, ha='right', weight=800)\n",
    "#     ax.text(0, 1.06, 'Population (thousands)', transform=ax.transAxes, size=12, color='#777777')\n",
    "#     ax.xaxis.set_major_formatter(ticker.StrMethodFormatter('{x:,.0f}'))\n",
    "#     ax.xaxis.set_ticks_position('top')\n",
    "#     ax.tick_params(axis='x', colors='#777777', labelsize=12)\n",
    "#     ax.set_yticks([])\n",
    "#     ax.margins(0, 0.01)\n",
    "#     ax.grid(which='major', axis='x', linestyle='-')\n",
    "#     ax.set_axisbelow(True)\n",
    "    \n",
    "#     ax.text(0, 1.15, 'Coronavirus',\n",
    "#             transform=ax.transAxes, size=24, weight=600, ha='left', va='top')\n",
    "# #     ax.text(1, 0, 'by @pratapvardhan; credit @jburnmurdoch', transform=ax.transAxes, color='#777777', ha='right',\n",
    "# #             bbox=dict(facecolor='white', alpha=0.8, edgecolor='white'))\n",
    "#     plt.box(False)"
   ]
  },
  {
   "cell_type": "code",
   "execution_count": 42,
   "id": "sexual-wages",
   "metadata": {
    "execution": {
     "iopub.execute_input": "2021-07-29T12:10:54.077024Z",
     "iopub.status.busy": "2021-07-29T12:10:54.075161Z",
     "iopub.status.idle": "2021-07-29T12:10:54.078769Z",
     "shell.execute_reply": "2021-07-29T12:10:54.079191Z"
    },
    "papermill": {
     "duration": 0.043162,
     "end_time": "2021-07-29T12:10:54.079317",
     "exception": false,
     "start_time": "2021-07-29T12:10:54.036155",
     "status": "completed"
    },
    "tags": []
   },
   "outputs": [],
   "source": [
    "# #hide_input\n",
    "# fig, ax = plt.subplots(figsize=(15, 8))\n",
    "# animator = animation.FuncAnimation(fig, draw_barchart, frames=range(g.day.values.min(), g.day.values.max()))\n",
    "# HTML(animator.to_jshtml())\n",
    "# # or use animator.to_html5_video() or animator.save() "
   ]
  },
  {
   "cell_type": "code",
   "execution_count": null,
   "id": "australian-container",
   "metadata": {
    "papermill": {
     "duration": 0.057612,
     "end_time": "2021-07-29T12:10:54.201509",
     "exception": false,
     "start_time": "2021-07-29T12:10:54.143897",
     "status": "completed"
    },
    "tags": []
   },
   "outputs": [],
   "source": []
  },
  {
   "cell_type": "code",
   "execution_count": null,
   "id": "mediterranean-pontiac",
   "metadata": {
    "papermill": {
     "duration": 0.062846,
     "end_time": "2021-07-29T12:10:54.299192",
     "exception": false,
     "start_time": "2021-07-29T12:10:54.236346",
     "status": "completed"
    },
    "tags": []
   },
   "outputs": [],
   "source": []
  },
  {
   "cell_type": "code",
   "execution_count": null,
   "id": "aging-legislature",
   "metadata": {
    "papermill": {
     "duration": 0.061082,
     "end_time": "2021-07-29T12:10:54.398448",
     "exception": false,
     "start_time": "2021-07-29T12:10:54.337366",
     "status": "completed"
    },
    "tags": []
   },
   "outputs": [],
   "source": []
  }
 ],
 "metadata": {
  "kernelspec": {
   "display_name": "Python 3",
   "language": "python",
   "name": "python3"
  },
  "language_info": {
   "codemirror_mode": {
    "name": "ipython",
    "version": 3
   },
   "file_extension": ".py",
   "mimetype": "text/x-python",
   "name": "python",
   "nbconvert_exporter": "python",
   "pygments_lexer": "ipython3",
   "version": "3.6.14"
  },
  "papermill": {
   "duration": 5.944133,
   "end_time": "2021-07-29T12:10:54.738649",
   "environment_variables": {},
   "exception": null,
   "input_path": "2020-03-21-covid19exp.ipynb",
   "output_path": "2020-03-21-covid19exp.ipynb",
   "parameters": {},
   "start_time": "2021-07-29T12:10:48.794516",
   "version": "2.0.0"
  }
 },
 "nbformat": 4,
 "nbformat_minor": 5
}