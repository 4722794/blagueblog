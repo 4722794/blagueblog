{
 "cells": [
  {
   "cell_type": "markdown",
   "id": "muslim-click",
   "metadata": {
    "papermill": {
     "duration": 0.039381,
     "end_time": "2022-01-03T12:13:09.917566",
     "exception": false,
     "start_time": "2022-01-03T12:13:09.878185",
     "status": "completed"
    },
    "tags": []
   },
   "source": [
    "# COVID-19 Case Race\n",
    "> A race chart to see rising cases around the world\n",
    "\n",
    "- author: Hargun Oberoi\n",
    "- image: images/covid-overview.png\n",
    "- hide: false\n",
    "- badges: false"
   ]
  },
  {
   "cell_type": "code",
   "execution_count": 1,
   "id": "proof-material",
   "metadata": {
    "execution": {
     "iopub.execute_input": "2022-01-03T12:13:09.988760Z",
     "iopub.status.busy": "2022-01-03T12:13:09.988158Z",
     "iopub.status.idle": "2022-01-03T12:13:10.321677Z",
     "shell.execute_reply": "2022-01-03T12:13:10.320774Z"
    },
    "papermill": {
     "duration": 0.375087,
     "end_time": "2022-01-03T12:13:10.321922",
     "exception": false,
     "start_time": "2022-01-03T12:13:09.946835",
     "status": "completed"
    },
    "tags": []
   },
   "outputs": [],
   "source": [
    "#hide\n",
    "import numpy as np\n",
    "import pandas as pd\n",
    "from jinja2 import Template\n",
    "from IPython.display import HTML"
   ]
  },
  {
   "cell_type": "code",
   "execution_count": 2,
   "id": "developed-terminology",
   "metadata": {
    "execution": {
     "iopub.execute_input": "2022-01-03T12:13:10.388659Z",
     "iopub.status.busy": "2022-01-03T12:13:10.388045Z",
     "iopub.status.idle": "2022-01-03T12:13:10.389980Z",
     "shell.execute_reply": "2022-01-03T12:13:10.390359Z"
    },
    "papermill": {
     "duration": 0.037974,
     "end_time": "2022-01-03T12:13:10.390486",
     "exception": false,
     "start_time": "2022-01-03T12:13:10.352512",
     "status": "completed"
    },
    "tags": []
   },
   "outputs": [],
   "source": [
    "#hide\n",
    "\n",
    "# FETCH\n",
    "base_url = 'https://raw.githubusercontent.com/pratapvardhan/notebooks/master/covid19/'\n",
    "paths = {\n",
    "    'mapping': base_url + 'mapping_countries.csv',\n",
    "    'overview': base_url + 'overview.tpl'\n",
    "}"
   ]
  },
  {
   "cell_type": "code",
   "execution_count": 3,
   "id": "dynamic-saver",
   "metadata": {
    "execution": {
     "iopub.execute_input": "2022-01-03T12:13:10.461964Z",
     "iopub.status.busy": "2022-01-03T12:13:10.461421Z",
     "iopub.status.idle": "2022-01-03T12:13:10.463796Z",
     "shell.execute_reply": "2022-01-03T12:13:10.464233Z"
    },
    "papermill": {
     "duration": 0.044566,
     "end_time": "2022-01-03T12:13:10.464372",
     "exception": false,
     "start_time": "2022-01-03T12:13:10.419806",
     "status": "completed"
    },
    "tags": []
   },
   "outputs": [
    {
     "data": {
      "text/plain": [
       "'https://raw.githubusercontent.com/pratapvardhan/notebooks/master/covid19/mapping_countries.csv'"
      ]
     },
     "execution_count": 3,
     "metadata": {},
     "output_type": "execute_result"
    }
   ],
   "source": [
    "#hide\n",
    "paths['mapping']"
   ]
  },
  {
   "cell_type": "code",
   "execution_count": 4,
   "id": "urban-software",
   "metadata": {
    "execution": {
     "iopub.execute_input": "2022-01-03T12:13:10.533417Z",
     "iopub.status.busy": "2022-01-03T12:13:10.532789Z",
     "iopub.status.idle": "2022-01-03T12:13:10.535255Z",
     "shell.execute_reply": "2022-01-03T12:13:10.535762Z"
    },
    "papermill": {
     "duration": 0.039642,
     "end_time": "2022-01-03T12:13:10.535901",
     "exception": false,
     "start_time": "2022-01-03T12:13:10.496259",
     "status": "completed"
    },
    "tags": []
   },
   "outputs": [],
   "source": [
    "#hide\n",
    "def get_mappings(url):\n",
    "    df = pd.read_csv(url)\n",
    "    return {\n",
    "        'df': df,\n",
    "        'replace.country': dict(df.dropna(subset=['Name']).set_index('Country')['Name']),\n",
    "        'map.continent': dict(df.set_index('Name')['Continent'])\n",
    "    }"
   ]
  },
  {
   "cell_type": "code",
   "execution_count": 5,
   "id": "intimate-machinery",
   "metadata": {
    "execution": {
     "iopub.execute_input": "2022-01-03T12:13:10.598172Z",
     "iopub.status.busy": "2022-01-03T12:13:10.597634Z",
     "iopub.status.idle": "2022-01-03T12:13:10.627389Z",
     "shell.execute_reply": "2022-01-03T12:13:10.627938Z"
    },
    "papermill": {
     "duration": 0.062888,
     "end_time": "2022-01-03T12:13:10.628112",
     "exception": false,
     "start_time": "2022-01-03T12:13:10.565224",
     "status": "completed"
    },
    "tags": []
   },
   "outputs": [],
   "source": [
    "#hide\n",
    "mapping = get_mappings(paths['mapping'])"
   ]
  },
  {
   "cell_type": "code",
   "execution_count": 6,
   "id": "certified-tactics",
   "metadata": {
    "execution": {
     "iopub.execute_input": "2022-01-03T12:13:10.690765Z",
     "iopub.status.busy": "2022-01-03T12:13:10.690216Z",
     "iopub.status.idle": "2022-01-03T12:13:10.691847Z",
     "shell.execute_reply": "2022-01-03T12:13:10.692256Z"
    },
    "papermill": {
     "duration": 0.036321,
     "end_time": "2022-01-03T12:13:10.692390",
     "exception": false,
     "start_time": "2022-01-03T12:13:10.656069",
     "status": "completed"
    },
    "tags": []
   },
   "outputs": [],
   "source": [
    "#hide\n",
    "def get_template(path):\n",
    "    from urllib.parse import urlparse\n",
    "    if bool(urlparse(path).netloc):\n",
    "        from urllib.request import urlopen\n",
    "        return urlopen(path).read().decode('utf8')\n",
    "    return open(path).read()"
   ]
  },
  {
   "cell_type": "code",
   "execution_count": 7,
   "id": "realistic-blast",
   "metadata": {
    "execution": {
     "iopub.execute_input": "2022-01-03T12:13:10.757273Z",
     "iopub.status.busy": "2022-01-03T12:13:10.756694Z",
     "iopub.status.idle": "2022-01-03T12:13:10.759558Z",
     "shell.execute_reply": "2022-01-03T12:13:10.760018Z"
    },
    "papermill": {
     "duration": 0.038619,
     "end_time": "2022-01-03T12:13:10.760131",
     "exception": false,
     "start_time": "2022-01-03T12:13:10.721512",
     "status": "completed"
    },
    "tags": []
   },
   "outputs": [],
   "source": [
    "#hide\n",
    "def get_frame(name):\n",
    "    url = (\n",
    "        'https://raw.githubusercontent.com/CSSEGISandData/COVID-19/master/csse_covid_19_data/'\n",
    "        f'csse_covid_19_time_series/time_series_covid19_{name}_global.csv')\n",
    "    df = pd.read_csv(url)\n",
    "    # rename countries\n",
    "    df['Country/Region'] = df['Country/Region'].replace(mapping['replace.country'])\n",
    "    return df"
   ]
  },
  {
   "cell_type": "code",
   "execution_count": 8,
   "id": "affiliated-characterization",
   "metadata": {
    "execution": {
     "iopub.execute_input": "2022-01-03T12:13:10.825051Z",
     "iopub.status.busy": "2022-01-03T12:13:10.824471Z",
     "iopub.status.idle": "2022-01-03T12:13:10.827022Z",
     "shell.execute_reply": "2022-01-03T12:13:10.827428Z"
    },
    "papermill": {
     "duration": 0.038051,
     "end_time": "2022-01-03T12:13:10.827533",
     "exception": false,
     "start_time": "2022-01-03T12:13:10.789482",
     "status": "completed"
    },
    "tags": []
   },
   "outputs": [],
   "source": [
    "#hide\n",
    "def get_dates(df):\n",
    "    dt_cols = df.columns[~df.columns.isin(['Province/State', 'Country/Region', 'Lat', 'Long'])]\n",
    "    LAST_DATE_I = -1\n",
    "    # sometimes last column may be empty, then go backwards\n",
    "    for i in range(-1, -len(dt_cols), -1):\n",
    "        if not df[dt_cols[i]].fillna(0).eq(0).all():\n",
    "            LAST_DATE_I = i\n",
    "            break\n",
    "    return LAST_DATE_I, dt_cols"
   ]
  },
  {
   "cell_type": "code",
   "execution_count": 9,
   "id": "recent-optimization",
   "metadata": {
    "execution": {
     "iopub.execute_input": "2022-01-03T12:13:10.890577Z",
     "iopub.status.busy": "2022-01-03T12:13:10.889983Z",
     "iopub.status.idle": "2022-01-03T12:13:11.211463Z",
     "shell.execute_reply": "2022-01-03T12:13:11.210822Z"
    },
    "papermill": {
     "duration": 0.355255,
     "end_time": "2022-01-03T12:13:11.211595",
     "exception": false,
     "start_time": "2022-01-03T12:13:10.856340",
     "status": "completed"
    },
    "tags": []
   },
   "outputs": [],
   "source": [
    "#hide\n",
    "COL_REGION = 'Country/Region'\n",
    "# Confirmed, Recovered, Deaths\n",
    "df = get_frame('confirmed')\n",
    "# dft_: timeseries, dfc_: today country agg\n",
    "dft_cases = df\n",
    "dft_deaths = get_frame('deaths')\n",
    "dft_recovered = get_frame('recovered')\n",
    "LAST_DATE_I, dt_cols = get_dates(df)"
   ]
  },
  {
   "cell_type": "code",
   "execution_count": 10,
   "id": "absolute-copper",
   "metadata": {
    "execution": {
     "iopub.execute_input": "2022-01-03T12:13:11.279582Z",
     "iopub.status.busy": "2022-01-03T12:13:11.278973Z",
     "iopub.status.idle": "2022-01-03T12:13:11.281013Z",
     "shell.execute_reply": "2022-01-03T12:13:11.280528Z"
    },
    "papermill": {
     "duration": 0.038677,
     "end_time": "2022-01-03T12:13:11.281141",
     "exception": false,
     "start_time": "2022-01-03T12:13:11.242464",
     "status": "completed"
    },
    "tags": []
   },
   "outputs": [],
   "source": [
    "#hide\n",
    "LAST_DATE_I, dt_cols = get_dates(df)\n",
    "dt_today =dt_cols[LAST_DATE_I]\n",
    "# dt_5day = dt_cols[LAST_DATE_I - 5]\n",
    "dt_yday = dt_cols[LAST_DATE_I - 1]"
   ]
  },
  {
   "cell_type": "code",
   "execution_count": 11,
   "id": "restricted-sheriff",
   "metadata": {
    "execution": {
     "iopub.execute_input": "2022-01-03T12:13:11.343153Z",
     "iopub.status.busy": "2022-01-03T12:13:11.342708Z",
     "iopub.status.idle": "2022-01-03T12:13:11.352999Z",
     "shell.execute_reply": "2022-01-03T12:13:11.352532Z"
    },
    "papermill": {
     "duration": 0.043816,
     "end_time": "2022-01-03T12:13:11.353110",
     "exception": false,
     "start_time": "2022-01-03T12:13:11.309294",
     "status": "completed"
    },
    "tags": []
   },
   "outputs": [],
   "source": [
    "#hide\n",
    "dfc_cases = dft_cases.groupby(COL_REGION)[dt_today].sum()\n",
    "dfc_deaths = dft_deaths.groupby(COL_REGION)[dt_today].sum()\n",
    "# dfp_cases = dft_cases.groupby(COL_REGION)[dt_5day].sum()\n",
    "# dfp_deaths = dft_deaths.groupby(COL_REGION)[dt_5day].sum()\n",
    "dfp_cases = dft_cases.groupby(COL_REGION)[dt_yday].sum()\n",
    "dfp_deaths = dft_deaths.groupby(COL_REGION)[dt_yday].sum()"
   ]
  },
  {
   "cell_type": "code",
   "execution_count": 12,
   "id": "deluxe-hepatitis",
   "metadata": {
    "execution": {
     "iopub.execute_input": "2022-01-03T12:13:11.415235Z",
     "iopub.status.busy": "2022-01-03T12:13:11.414736Z",
     "iopub.status.idle": "2022-01-03T12:13:11.420642Z",
     "shell.execute_reply": "2022-01-03T12:13:11.420218Z"
    },
    "papermill": {
     "duration": 0.040447,
     "end_time": "2022-01-03T12:13:11.420744",
     "exception": false,
     "start_time": "2022-01-03T12:13:11.380297",
     "status": "completed"
    },
    "tags": []
   },
   "outputs": [],
   "source": [
    "#hide\n",
    "df_table = (pd.DataFrame(dict(Cases = dfc_cases, Deaths = dfc_deaths, PCases = dfp_cases, PDeaths = dfp_deaths))\n",
    "            .sort_values(by = ['Cases','Deaths'], ascending = [False, False])\n",
    "            .reset_index())"
   ]
  },
  {
   "cell_type": "code",
   "execution_count": 13,
   "id": "educational-chancellor",
   "metadata": {
    "execution": {
     "iopub.execute_input": "2022-01-03T12:13:11.498165Z",
     "iopub.status.busy": "2022-01-03T12:13:11.497604Z",
     "iopub.status.idle": "2022-01-03T12:13:11.506236Z",
     "shell.execute_reply": "2022-01-03T12:13:11.506716Z"
    },
    "papermill": {
     "duration": 0.057496,
     "end_time": "2022-01-03T12:13:11.506851",
     "exception": false,
     "start_time": "2022-01-03T12:13:11.449355",
     "status": "completed"
    },
    "tags": []
   },
   "outputs": [
    {
     "data": {
      "text/html": [
       "<div>\n",
       "<style scoped>\n",
       "    .dataframe tbody tr th:only-of-type {\n",
       "        vertical-align: middle;\n",
       "    }\n",
       "\n",
       "    .dataframe tbody tr th {\n",
       "        vertical-align: top;\n",
       "    }\n",
       "\n",
       "    .dataframe thead th {\n",
       "        text-align: right;\n",
       "    }\n",
       "</style>\n",
       "<table border=\"1\" class=\"dataframe\">\n",
       "  <thead>\n",
       "    <tr style=\"text-align: right;\">\n",
       "      <th></th>\n",
       "      <th>Country/Region</th>\n",
       "      <th>Cases</th>\n",
       "      <th>Deaths</th>\n",
       "      <th>PCases</th>\n",
       "      <th>PDeaths</th>\n",
       "      <th>Cases (+)</th>\n",
       "      <th>Deaths (+)</th>\n",
       "      <th>Fatality Rate</th>\n",
       "      <th>Continent</th>\n",
       "    </tr>\n",
       "  </thead>\n",
       "  <tbody>\n",
       "    <tr>\n",
       "      <th>0</th>\n",
       "      <td>US</td>\n",
       "      <td>55114057</td>\n",
       "      <td>826060</td>\n",
       "      <td>54859966</td>\n",
       "      <td>825816</td>\n",
       "      <td>254091</td>\n",
       "      <td>244</td>\n",
       "      <td>1.50</td>\n",
       "      <td>North America</td>\n",
       "    </tr>\n",
       "    <tr>\n",
       "      <th>1</th>\n",
       "      <td>India</td>\n",
       "      <td>34922882</td>\n",
       "      <td>481893</td>\n",
       "      <td>34889132</td>\n",
       "      <td>481770</td>\n",
       "      <td>33750</td>\n",
       "      <td>123</td>\n",
       "      <td>1.38</td>\n",
       "      <td>Asia</td>\n",
       "    </tr>\n",
       "    <tr>\n",
       "      <th>2</th>\n",
       "      <td>Brazil</td>\n",
       "      <td>22297427</td>\n",
       "      <td>619401</td>\n",
       "      <td>22295621</td>\n",
       "      <td>619367</td>\n",
       "      <td>1806</td>\n",
       "      <td>34</td>\n",
       "      <td>2.78</td>\n",
       "      <td>South America</td>\n",
       "    </tr>\n",
       "    <tr>\n",
       "      <th>3</th>\n",
       "      <td>United Kingdom</td>\n",
       "      <td>13309651</td>\n",
       "      <td>149324</td>\n",
       "      <td>13174528</td>\n",
       "      <td>149251</td>\n",
       "      <td>135123</td>\n",
       "      <td>73</td>\n",
       "      <td>1.12</td>\n",
       "      <td>Europe</td>\n",
       "    </tr>\n",
       "    <tr>\n",
       "      <th>4</th>\n",
       "      <td>Russia</td>\n",
       "      <td>10358099</td>\n",
       "      <td>304284</td>\n",
       "      <td>10340011</td>\n",
       "      <td>303496</td>\n",
       "      <td>18088</td>\n",
       "      <td>788</td>\n",
       "      <td>2.94</td>\n",
       "      <td>Europe</td>\n",
       "    </tr>\n",
       "  </tbody>\n",
       "</table>\n",
       "</div>"
      ],
      "text/plain": [
       "   Country/Region     Cases  Deaths    PCases  PDeaths  Cases (+)  Deaths (+)  \\\n",
       "0              US  55114057  826060  54859966   825816     254091         244   \n",
       "1           India  34922882  481893  34889132   481770      33750         123   \n",
       "2          Brazil  22297427  619401  22295621   619367       1806          34   \n",
       "3  United Kingdom  13309651  149324  13174528   149251     135123          73   \n",
       "4          Russia  10358099  304284  10340011   303496      18088         788   \n",
       "\n",
       "   Fatality Rate      Continent  \n",
       "0           1.50  North America  \n",
       "1           1.38           Asia  \n",
       "2           2.78  South America  \n",
       "3           1.12         Europe  \n",
       "4           2.94         Europe  "
      ]
     },
     "execution_count": 13,
     "metadata": {},
     "output_type": "execute_result"
    }
   ],
   "source": [
    "#hide\n",
    "for c in 'Cases, Deaths'.split(', '):\n",
    "    df_table[f'{c} (+)'] = (df_table[c] - df_table[f'P{c}']).clip(0)\n",
    "    #Clip ça veut dire, les chiffres negatif sont interdit\n",
    "df_table['Fatality Rate'] = (100* df_table['Deaths']/ df_table['Cases']).round(2)\n",
    "df_table['Continent'] = df_table['Country/Region'].map(mapping['map.continent'])\n",
    "df_table.head(5)"
   ]
  },
  {
   "cell_type": "code",
   "execution_count": 14,
   "id": "aboriginal-bulgaria",
   "metadata": {
    "execution": {
     "iopub.execute_input": "2022-01-03T12:13:11.578826Z",
     "iopub.status.busy": "2022-01-03T12:13:11.578248Z",
     "iopub.status.idle": "2022-01-03T12:13:11.581170Z",
     "shell.execute_reply": "2022-01-03T12:13:11.581724Z"
    },
    "papermill": {
     "duration": 0.044279,
     "end_time": "2022-01-03T12:13:11.581865",
     "exception": false,
     "start_time": "2022-01-03T12:13:11.537586",
     "status": "completed"
    },
    "tags": []
   },
   "outputs": [],
   "source": [
    "#hide\n",
    "#delete problematic countries from table\n",
    "df_table = df_table[~df_table['Country/Region'].isin(['Cape Verde', 'Cruise Ship', 'Kosovo'])]"
   ]
  },
  {
   "cell_type": "code",
   "execution_count": 15,
   "id": "fantastic-effect",
   "metadata": {
    "execution": {
     "iopub.execute_input": "2022-01-03T12:13:11.658925Z",
     "iopub.status.busy": "2022-01-03T12:13:11.652428Z",
     "iopub.status.idle": "2022-01-03T12:13:11.672567Z",
     "shell.execute_reply": "2022-01-03T12:13:11.673041Z"
    },
    "papermill": {
     "duration": 0.059675,
     "end_time": "2022-01-03T12:13:11.673186",
     "exception": false,
     "start_time": "2022-01-03T12:13:11.613511",
     "status": "completed"
    },
    "tags": []
   },
   "outputs": [
    {
     "data": {
      "text/html": [
       "<div>\n",
       "<style scoped>\n",
       "    .dataframe tbody tr th:only-of-type {\n",
       "        vertical-align: middle;\n",
       "    }\n",
       "\n",
       "    .dataframe tbody tr th {\n",
       "        vertical-align: top;\n",
       "    }\n",
       "\n",
       "    .dataframe thead th {\n",
       "        text-align: right;\n",
       "    }\n",
       "</style>\n",
       "<table border=\"1\" class=\"dataframe\">\n",
       "  <thead>\n",
       "    <tr style=\"text-align: right;\">\n",
       "      <th></th>\n",
       "      <th>Country/Region</th>\n",
       "      <th>Cases</th>\n",
       "      <th>Deaths</th>\n",
       "      <th>PCases</th>\n",
       "      <th>PDeaths</th>\n",
       "      <th>Cases (+)</th>\n",
       "      <th>Deaths (+)</th>\n",
       "      <th>Fatality Rate</th>\n",
       "      <th>Continent</th>\n",
       "    </tr>\n",
       "  </thead>\n",
       "  <tbody>\n",
       "    <tr>\n",
       "      <th>0</th>\n",
       "      <td>US</td>\n",
       "      <td>55114057</td>\n",
       "      <td>826060</td>\n",
       "      <td>54859966</td>\n",
       "      <td>825816</td>\n",
       "      <td>254091</td>\n",
       "      <td>244</td>\n",
       "      <td>1.5</td>\n",
       "      <td>North America</td>\n",
       "    </tr>\n",
       "    <tr>\n",
       "      <th>1</th>\n",
       "      <td>India</td>\n",
       "      <td>34922882</td>\n",
       "      <td>481893</td>\n",
       "      <td>34889132</td>\n",
       "      <td>481770</td>\n",
       "      <td>33750</td>\n",
       "      <td>123</td>\n",
       "      <td>1.4</td>\n",
       "      <td>Asia</td>\n",
       "    </tr>\n",
       "    <tr>\n",
       "      <th>2</th>\n",
       "      <td>Brazil</td>\n",
       "      <td>22297427</td>\n",
       "      <td>619401</td>\n",
       "      <td>22295621</td>\n",
       "      <td>619367</td>\n",
       "      <td>1806</td>\n",
       "      <td>34</td>\n",
       "      <td>2.8</td>\n",
       "      <td>South America</td>\n",
       "    </tr>\n",
       "    <tr>\n",
       "      <th>3</th>\n",
       "      <td>United Kingdom</td>\n",
       "      <td>13309651</td>\n",
       "      <td>149324</td>\n",
       "      <td>13174528</td>\n",
       "      <td>149251</td>\n",
       "      <td>135123</td>\n",
       "      <td>73</td>\n",
       "      <td>1.1</td>\n",
       "      <td>Europe</td>\n",
       "    </tr>\n",
       "    <tr>\n",
       "      <th>4</th>\n",
       "      <td>Russia</td>\n",
       "      <td>10358099</td>\n",
       "      <td>304284</td>\n",
       "      <td>10340011</td>\n",
       "      <td>303496</td>\n",
       "      <td>18088</td>\n",
       "      <td>788</td>\n",
       "      <td>2.9</td>\n",
       "      <td>Europe</td>\n",
       "    </tr>\n",
       "  </tbody>\n",
       "</table>\n",
       "</div>"
      ],
      "text/plain": [
       "   Country/Region     Cases  Deaths    PCases  PDeaths  Cases (+)  Deaths (+)  \\\n",
       "0              US  55114057  826060  54859966   825816     254091         244   \n",
       "1           India  34922882  481893  34889132   481770      33750         123   \n",
       "2          Brazil  22297427  619401  22295621   619367       1806          34   \n",
       "3  United Kingdom  13309651  149324  13174528   149251     135123          73   \n",
       "4          Russia  10358099  304284  10340011   303496      18088         788   \n",
       "\n",
       "   Fatality Rate      Continent  \n",
       "0            1.5  North America  \n",
       "1            1.4           Asia  \n",
       "2            2.8  South America  \n",
       "3            1.1         Europe  \n",
       "4            2.9         Europe  "
      ]
     },
     "execution_count": 15,
     "metadata": {},
     "output_type": "execute_result"
    }
   ],
   "source": [
    "#hide\n",
    "df_table = (pd.DataFrame(dict(Cases=dfc_cases, Deaths=dfc_deaths, PCases=dfp_cases, PDeaths=dfp_deaths))\n",
    "             .sort_values(by=['Cases', 'Deaths'], ascending=[False, False])\n",
    "             .reset_index())\n",
    "df_table.rename(columns={'index': 'Country/Region'}, inplace=True)\n",
    "for c in 'Cases, Deaths'.split(', '):\n",
    "    df_table[f'{c} (+)'] = (df_table[c] - df_table[f'P{c}']).clip(0)  # DATA BUG\n",
    "df_table['Fatality Rate'] = (100 * df_table['Deaths'] / df_table['Cases']).round(1)\n",
    "df_table['Continent'] = df_table['Country/Region'].map(mapping['map.continent'])\n",
    "df_table.head(5)"
   ]
  },
  {
   "cell_type": "code",
   "execution_count": 16,
   "id": "fewer-occasion",
   "metadata": {
    "execution": {
     "iopub.execute_input": "2022-01-03T12:13:11.738360Z",
     "iopub.status.busy": "2022-01-03T12:13:11.737762Z",
     "iopub.status.idle": "2022-01-03T12:13:11.740231Z",
     "shell.execute_reply": "2022-01-03T12:13:11.739777Z"
    },
    "papermill": {
     "duration": 0.036346,
     "end_time": "2022-01-03T12:13:11.740330",
     "exception": false,
     "start_time": "2022-01-03T12:13:11.703984",
     "status": "completed"
    },
    "tags": []
   },
   "outputs": [],
   "source": [
    "#hide\n",
    "#delete problematic countries from table\n",
    "df_table = df_table[~df_table['Country/Region'].isin(['Cape Verde', 'Cruise Ship', 'Kosovo'])]"
   ]
  },
  {
   "cell_type": "code",
   "execution_count": 17,
   "id": "related-center",
   "metadata": {
    "execution": {
     "iopub.execute_input": "2022-01-03T12:13:11.807768Z",
     "iopub.status.busy": "2022-01-03T12:13:11.807344Z",
     "iopub.status.idle": "2022-01-03T12:13:11.822185Z",
     "shell.execute_reply": "2022-01-03T12:13:11.821257Z"
    },
    "papermill": {
     "duration": 0.052582,
     "end_time": "2022-01-03T12:13:11.822384",
     "exception": false,
     "start_time": "2022-01-03T12:13:11.769802",
     "status": "completed"
    },
    "tags": []
   },
   "outputs": [],
   "source": [
    "#hide\n",
    "metrics = [df_table.columns[index] for index in [1,2,5,6]]\n",
    "# s_china = df_table[df_table['Country/Region'].eq('China')][metrics].sum().add_prefix('China ')\n",
    "s_us = df_table[df_table['Country/Region'].eq('US')][metrics].sum().add_prefix('US ')\n",
    "s_eu = df_table[df_table['Continent'].eq('Europe')][metrics].sum().add_prefix('EU ')\n",
    "s_ind = df_table[df_table['Country/Region'].eq('India')][metrics].sum().add_prefix('India ')\n",
    "summary = {'updated': pd.to_datetime(dt_today), 'since': pd.to_datetime(dt_yday)}\n",
    "summary = {'updated': pd.to_datetime(dt_today), 'since': pd.to_datetime(dt_yday)}\n",
    "summary = {**summary, **df_table[metrics].sum(), **s_ind, **s_us, **s_eu}"
   ]
  },
  {
   "cell_type": "code",
   "execution_count": 18,
   "id": "engaging-syndrome",
   "metadata": {
    "execution": {
     "iopub.execute_input": "2022-01-03T12:13:11.892843Z",
     "iopub.status.busy": "2022-01-03T12:13:11.889368Z",
     "iopub.status.idle": "2022-01-03T12:13:11.906134Z",
     "shell.execute_reply": "2022-01-03T12:13:11.905611Z"
    },
    "papermill": {
     "duration": 0.051386,
     "end_time": "2022-01-03T12:13:11.906261",
     "exception": false,
     "start_time": "2022-01-03T12:13:11.854875",
     "status": "completed"
    },
    "tags": []
   },
   "outputs": [],
   "source": [
    "#hide\n",
    "dft_ct_new_cases = dft_cases.groupby(COL_REGION)[dt_cols].sum().diff(axis=1).fillna(0).astype(int)"
   ]
  },
  {
   "cell_type": "code",
   "execution_count": 19,
   "id": "neutral-assignment",
   "metadata": {
    "execution": {
     "iopub.execute_input": "2022-01-03T12:13:11.972347Z",
     "iopub.status.busy": "2022-01-03T12:13:11.971724Z",
     "iopub.status.idle": "2022-01-03T12:13:11.973973Z",
     "shell.execute_reply": "2022-01-03T12:13:11.973492Z"
    },
    "papermill": {
     "duration": 0.036151,
     "end_time": "2022-01-03T12:13:11.974075",
     "exception": false,
     "start_time": "2022-01-03T12:13:11.937924",
     "status": "completed"
    },
    "tags": []
   },
   "outputs": [],
   "source": [
    "#hide\n",
    "everydaycases = dft_ct_new_cases.cumsum(axis=1)"
   ]
  },
  {
   "cell_type": "code",
   "execution_count": 20,
   "id": "parliamentary-calgary",
   "metadata": {
    "execution": {
     "iopub.execute_input": "2022-01-03T12:13:12.044209Z",
     "iopub.status.busy": "2022-01-03T12:13:12.043661Z",
     "iopub.status.idle": "2022-01-03T12:13:12.720262Z",
     "shell.execute_reply": "2022-01-03T12:13:12.719808Z"
    },
    "papermill": {
     "duration": 0.713861,
     "end_time": "2022-01-03T12:13:12.720407",
     "exception": false,
     "start_time": "2022-01-03T12:13:12.006546",
     "status": "completed"
    },
    "tags": []
   },
   "outputs": [],
   "source": [
    "#hide\n",
    "import pandas as pd\n",
    "import matplotlib.pyplot as plt\n",
    "import matplotlib.ticker as ticker\n",
    "import matplotlib.animation as animation\n",
    "from IPython.display import HTML"
   ]
  },
  {
   "cell_type": "code",
   "execution_count": 21,
   "id": "lasting-extraction",
   "metadata": {
    "execution": {
     "iopub.execute_input": "2022-01-03T12:13:12.790198Z",
     "iopub.status.busy": "2022-01-03T12:13:12.789715Z",
     "iopub.status.idle": "2022-01-03T12:13:12.796627Z",
     "shell.execute_reply": "2022-01-03T12:13:12.796148Z"
    },
    "papermill": {
     "duration": 0.046603,
     "end_time": "2022-01-03T12:13:12.796758",
     "exception": false,
     "start_time": "2022-01-03T12:13:12.750155",
     "status": "completed"
    },
    "tags": []
   },
   "outputs": [],
   "source": [
    "#hide\n",
    "t = everydaycases.stack()"
   ]
  },
  {
   "cell_type": "code",
   "execution_count": 22,
   "id": "premier-sleeve",
   "metadata": {
    "execution": {
     "iopub.execute_input": "2022-01-03T12:13:12.863657Z",
     "iopub.status.busy": "2022-01-03T12:13:12.863174Z",
     "iopub.status.idle": "2022-01-03T12:13:12.875146Z",
     "shell.execute_reply": "2022-01-03T12:13:12.874233Z"
    },
    "papermill": {
     "duration": 0.048118,
     "end_time": "2022-01-03T12:13:12.875256",
     "exception": false,
     "start_time": "2022-01-03T12:13:12.827138",
     "status": "completed"
    },
    "tags": []
   },
   "outputs": [],
   "source": [
    "#hide\n",
    "g = t.reset_index(['Country/Region'])"
   ]
  },
  {
   "cell_type": "code",
   "execution_count": 23,
   "id": "distributed-pittsburgh",
   "metadata": {
    "execution": {
     "iopub.execute_input": "2022-01-03T12:13:12.937754Z",
     "iopub.status.busy": "2022-01-03T12:13:12.936563Z",
     "iopub.status.idle": "2022-01-03T12:13:12.939587Z",
     "shell.execute_reply": "2022-01-03T12:13:12.938716Z"
    },
    "papermill": {
     "duration": 0.036573,
     "end_time": "2022-01-03T12:13:12.939784",
     "exception": false,
     "start_time": "2022-01-03T12:13:12.903211",
     "status": "completed"
    },
    "tags": []
   },
   "outputs": [],
   "source": [
    "#hide\n",
    "g.index.name = 'date'"
   ]
  },
  {
   "cell_type": "code",
   "execution_count": 24,
   "id": "naked-donor",
   "metadata": {
    "execution": {
     "iopub.execute_input": "2022-01-03T12:13:13.003868Z",
     "iopub.status.busy": "2022-01-03T12:13:13.003394Z",
     "iopub.status.idle": "2022-01-03T12:13:13.005988Z",
     "shell.execute_reply": "2022-01-03T12:13:13.006443Z"
    },
    "papermill": {
     "duration": 0.035797,
     "end_time": "2022-01-03T12:13:13.006555",
     "exception": false,
     "start_time": "2022-01-03T12:13:12.970758",
     "status": "completed"
    },
    "tags": []
   },
   "outputs": [],
   "source": [
    "# #hide\n",
    "# g = g.reset_index(['date'])"
   ]
  },
  {
   "cell_type": "code",
   "execution_count": 25,
   "id": "incomplete-mustang",
   "metadata": {
    "execution": {
     "iopub.execute_input": "2022-01-03T12:13:13.069150Z",
     "iopub.status.busy": "2022-01-03T12:13:13.068684Z",
     "iopub.status.idle": "2022-01-03T12:13:13.070926Z",
     "shell.execute_reply": "2022-01-03T12:13:13.070516Z"
    },
    "papermill": {
     "duration": 0.036382,
     "end_time": "2022-01-03T12:13:13.071029",
     "exception": false,
     "start_time": "2022-01-03T12:13:13.034647",
     "status": "completed"
    },
    "tags": []
   },
   "outputs": [],
   "source": [
    "#hide\n",
    "# g.head()"
   ]
  },
  {
   "cell_type": "code",
   "execution_count": 26,
   "id": "specific-kruger",
   "metadata": {
    "execution": {
     "iopub.execute_input": "2022-01-03T12:13:13.133082Z",
     "iopub.status.busy": "2022-01-03T12:13:13.132490Z",
     "iopub.status.idle": "2022-01-03T12:13:13.135011Z",
     "shell.execute_reply": "2022-01-03T12:13:13.134506Z"
    },
    "papermill": {
     "duration": 0.036256,
     "end_time": "2022-01-03T12:13:13.135137",
     "exception": false,
     "start_time": "2022-01-03T12:13:13.098881",
     "status": "completed"
    },
    "tags": []
   },
   "outputs": [],
   "source": [
    "#hide\n",
    "# g.columns = ['date','country','cases']"
   ]
  },
  {
   "cell_type": "code",
   "execution_count": 27,
   "id": "tender-conversion",
   "metadata": {
    "execution": {
     "iopub.execute_input": "2022-01-03T12:13:13.202675Z",
     "iopub.status.busy": "2022-01-03T12:13:13.202010Z",
     "iopub.status.idle": "2022-01-03T12:13:13.205781Z",
     "shell.execute_reply": "2022-01-03T12:13:13.205273Z"
    },
    "papermill": {
     "duration": 0.037729,
     "end_time": "2022-01-03T12:13:13.205915",
     "exception": false,
     "start_time": "2022-01-03T12:13:13.168186",
     "status": "completed"
    },
    "tags": []
   },
   "outputs": [],
   "source": [
    "#hide\n",
    "# g['continent'] = g.country"
   ]
  },
  {
   "cell_type": "code",
   "execution_count": 28,
   "id": "substantial-wilderness",
   "metadata": {
    "execution": {
     "iopub.execute_input": "2022-01-03T12:13:13.273646Z",
     "iopub.status.busy": "2022-01-03T12:13:13.273109Z",
     "iopub.status.idle": "2022-01-03T12:13:13.275772Z",
     "shell.execute_reply": "2022-01-03T12:13:13.276335Z"
    },
    "papermill": {
     "duration": 0.038364,
     "end_time": "2022-01-03T12:13:13.276461",
     "exception": false,
     "start_time": "2022-01-03T12:13:13.238097",
     "status": "completed"
    },
    "tags": []
   },
   "outputs": [],
   "source": [
    "#hide\n",
    "# cols = list(g.columns.values)"
   ]
  },
  {
   "cell_type": "code",
   "execution_count": 29,
   "id": "solved-farming",
   "metadata": {
    "execution": {
     "iopub.execute_input": "2022-01-03T12:13:13.343474Z",
     "iopub.status.busy": "2022-01-03T12:13:13.342386Z",
     "iopub.status.idle": "2022-01-03T12:13:13.346737Z",
     "shell.execute_reply": "2022-01-03T12:13:13.345817Z"
    },
    "papermill": {
     "duration": 0.040224,
     "end_time": "2022-01-03T12:13:13.346944",
     "exception": false,
     "start_time": "2022-01-03T12:13:13.306720",
     "status": "completed"
    },
    "tags": []
   },
   "outputs": [],
   "source": [
    "#hide\n",
    "# cols.insert(0, cols.pop())"
   ]
  },
  {
   "cell_type": "code",
   "execution_count": 30,
   "id": "executed-adoption",
   "metadata": {
    "execution": {
     "iopub.execute_input": "2022-01-03T12:13:13.415679Z",
     "iopub.status.busy": "2022-01-03T12:13:13.415003Z",
     "iopub.status.idle": "2022-01-03T12:13:13.419348Z",
     "shell.execute_reply": "2022-01-03T12:13:13.418796Z"
    },
    "papermill": {
     "duration": 0.040889,
     "end_time": "2022-01-03T12:13:13.419492",
     "exception": false,
     "start_time": "2022-01-03T12:13:13.378603",
     "status": "completed"
    },
    "tags": []
   },
   "outputs": [],
   "source": [
    "#hide\n",
    "# g = g[cols]"
   ]
  },
  {
   "cell_type": "code",
   "execution_count": 31,
   "id": "subject-dublin",
   "metadata": {
    "execution": {
     "iopub.execute_input": "2022-01-03T12:13:13.489747Z",
     "iopub.status.busy": "2022-01-03T12:13:13.488927Z",
     "iopub.status.idle": "2022-01-03T12:13:13.490931Z",
     "shell.execute_reply": "2022-01-03T12:13:13.490351Z"
    },
    "papermill": {
     "duration": 0.039065,
     "end_time": "2022-01-03T12:13:13.491047",
     "exception": false,
     "start_time": "2022-01-03T12:13:13.451982",
     "status": "completed"
    },
    "tags": []
   },
   "outputs": [],
   "source": [
    "#hide\n",
    "# g['continent'] = g['continent'].map(mapping['map.continent'])"
   ]
  },
  {
   "cell_type": "code",
   "execution_count": 32,
   "id": "freelance-scout",
   "metadata": {
    "execution": {
     "iopub.execute_input": "2022-01-03T12:13:13.562500Z",
     "iopub.status.busy": "2022-01-03T12:13:13.561949Z",
     "iopub.status.idle": "2022-01-03T12:13:13.565582Z",
     "shell.execute_reply": "2022-01-03T12:13:13.565112Z"
    },
    "papermill": {
     "duration": 0.041021,
     "end_time": "2022-01-03T12:13:13.565702",
     "exception": false,
     "start_time": "2022-01-03T12:13:13.524681",
     "status": "completed"
    },
    "tags": []
   },
   "outputs": [],
   "source": [
    "#hide\n",
    "# g.head()"
   ]
  },
  {
   "cell_type": "code",
   "execution_count": 33,
   "id": "limited-engine",
   "metadata": {
    "execution": {
     "iopub.execute_input": "2022-01-03T12:13:13.637890Z",
     "iopub.status.busy": "2022-01-03T12:13:13.636857Z",
     "iopub.status.idle": "2022-01-03T12:13:13.641767Z",
     "shell.execute_reply": "2022-01-03T12:13:13.642487Z"
    },
    "papermill": {
     "duration": 0.043804,
     "end_time": "2022-01-03T12:13:13.642662",
     "exception": false,
     "start_time": "2022-01-03T12:13:13.598858",
     "status": "completed"
    },
    "tags": []
   },
   "outputs": [],
   "source": [
    "# hide\n",
    "# g['date'] = g['date'].astype('datetime64[ns]')"
   ]
  },
  {
   "cell_type": "code",
   "execution_count": 34,
   "id": "sophisticated-supervisor",
   "metadata": {
    "execution": {
     "iopub.execute_input": "2022-01-03T12:13:13.711958Z",
     "iopub.status.busy": "2022-01-03T12:13:13.711157Z",
     "iopub.status.idle": "2022-01-03T12:13:13.714891Z",
     "shell.execute_reply": "2022-01-03T12:13:13.715308Z"
    },
    "papermill": {
     "duration": 0.040749,
     "end_time": "2022-01-03T12:13:13.715442",
     "exception": false,
     "start_time": "2022-01-03T12:13:13.674693",
     "status": "completed"
    },
    "tags": []
   },
   "outputs": [],
   "source": [
    "#hide\n",
    "# g['date'] = g.date.dt.dayofyear"
   ]
  },
  {
   "cell_type": "code",
   "execution_count": 35,
   "id": "inside-dubai",
   "metadata": {
    "execution": {
     "iopub.execute_input": "2022-01-03T12:13:13.783873Z",
     "iopub.status.busy": "2022-01-03T12:13:13.783330Z",
     "iopub.status.idle": "2022-01-03T12:13:13.786411Z",
     "shell.execute_reply": "2022-01-03T12:13:13.785912Z"
    },
    "papermill": {
     "duration": 0.039511,
     "end_time": "2022-01-03T12:13:13.786529",
     "exception": false,
     "start_time": "2022-01-03T12:13:13.747018",
     "status": "completed"
    },
    "tags": []
   },
   "outputs": [],
   "source": [
    "#hide\n",
    "# g = g.rename(columns= {'continent':'group','country':'name','cases':'value'})"
   ]
  },
  {
   "cell_type": "code",
   "execution_count": 36,
   "id": "fleet-motorcycle",
   "metadata": {
    "execution": {
     "iopub.execute_input": "2022-01-03T12:13:13.853462Z",
     "iopub.status.busy": "2022-01-03T12:13:13.852797Z",
     "iopub.status.idle": "2022-01-03T12:13:13.855065Z",
     "shell.execute_reply": "2022-01-03T12:13:13.854397Z"
    },
    "papermill": {
     "duration": 0.037713,
     "end_time": "2022-01-03T12:13:13.855179",
     "exception": false,
     "start_time": "2022-01-03T12:13:13.817466",
     "status": "completed"
    },
    "tags": []
   },
   "outputs": [],
   "source": [
    "#hide\n",
    "# cols = ['name','group','day','value']"
   ]
  },
  {
   "cell_type": "code",
   "execution_count": 37,
   "id": "continued-sleeping",
   "metadata": {
    "execution": {
     "iopub.execute_input": "2022-01-03T12:13:13.923950Z",
     "iopub.status.busy": "2022-01-03T12:13:13.923364Z",
     "iopub.status.idle": "2022-01-03T12:13:13.925965Z",
     "shell.execute_reply": "2022-01-03T12:13:13.926464Z"
    },
    "papermill": {
     "duration": 0.039548,
     "end_time": "2022-01-03T12:13:13.926639",
     "exception": false,
     "start_time": "2022-01-03T12:13:13.887091",
     "status": "completed"
    },
    "tags": []
   },
   "outputs": [],
   "source": [
    "#hide\n",
    "# g.rename(columns= {'date':'day'},inplace = True)"
   ]
  },
  {
   "cell_type": "code",
   "execution_count": 38,
   "id": "major-fight",
   "metadata": {
    "execution": {
     "iopub.execute_input": "2022-01-03T12:13:13.992959Z",
     "iopub.status.busy": "2022-01-03T12:13:13.992419Z",
     "iopub.status.idle": "2022-01-03T12:13:13.995304Z",
     "shell.execute_reply": "2022-01-03T12:13:13.995783Z"
    },
    "papermill": {
     "duration": 0.038632,
     "end_time": "2022-01-03T12:13:13.995908",
     "exception": false,
     "start_time": "2022-01-03T12:13:13.957276",
     "status": "completed"
    },
    "tags": []
   },
   "outputs": [],
   "source": [
    "#hide\n",
    "# g = g[cols]"
   ]
  },
  {
   "cell_type": "code",
   "execution_count": 39,
   "id": "structured-mobile",
   "metadata": {
    "execution": {
     "iopub.execute_input": "2022-01-03T12:13:14.062062Z",
     "iopub.status.busy": "2022-01-03T12:13:14.061474Z",
     "iopub.status.idle": "2022-01-03T12:13:14.064007Z",
     "shell.execute_reply": "2022-01-03T12:13:14.064576Z"
    },
    "papermill": {
     "duration": 0.039693,
     "end_time": "2022-01-03T12:13:14.064712",
     "exception": false,
     "start_time": "2022-01-03T12:13:14.025019",
     "status": "completed"
    },
    "tags": []
   },
   "outputs": [],
   "source": [
    "# #hide\n",
    "# g = g[g.group.notna()]"
   ]
  },
  {
   "cell_type": "code",
   "execution_count": 40,
   "id": "determined-closing",
   "metadata": {
    "execution": {
     "iopub.execute_input": "2022-01-03T12:13:14.133935Z",
     "iopub.status.busy": "2022-01-03T12:13:14.133385Z",
     "iopub.status.idle": "2022-01-03T12:13:14.136177Z",
     "shell.execute_reply": "2022-01-03T12:13:14.136738Z"
    },
    "papermill": {
     "duration": 0.039975,
     "end_time": "2022-01-03T12:13:14.136875",
     "exception": false,
     "start_time": "2022-01-03T12:13:14.096900",
     "status": "completed"
    },
    "tags": []
   },
   "outputs": [],
   "source": [
    "# #hide\n",
    "# colors = dict(zip(\n",
    "#     [\"Oceania\", \"Europe\", \"Asia\", \"South America\", \"Middle East\", \"North America\", \"Africa\"],\n",
    "#     [\"#adb0ff\", \"#ffb3ff\", \"#90d595\", \"#e48381\", \"#aafbff\", \"#f7bb5f\", \"#eafb50\"]\n",
    "# ))\n",
    "# group_lk = g.set_index('name')['group'].to_dict()"
   ]
  },
  {
   "cell_type": "code",
   "execution_count": null,
   "id": "gross-drinking",
   "metadata": {
    "papermill": {
     "duration": 0.031171,
     "end_time": "2022-01-03T12:13:14.198469",
     "exception": false,
     "start_time": "2022-01-03T12:13:14.167298",
     "status": "completed"
    },
    "tags": []
   },
   "outputs": [],
   "source": []
  },
  {
   "cell_type": "code",
   "execution_count": 41,
   "id": "subject-macintosh",
   "metadata": {
    "execution": {
     "iopub.execute_input": "2022-01-03T12:13:14.269935Z",
     "iopub.status.busy": "2022-01-03T12:13:14.268852Z",
     "iopub.status.idle": "2022-01-03T12:13:14.272985Z",
     "shell.execute_reply": "2022-01-03T12:13:14.273438Z"
    },
    "papermill": {
     "duration": 0.043434,
     "end_time": "2022-01-03T12:13:14.273587",
     "exception": false,
     "start_time": "2022-01-03T12:13:14.230153",
     "status": "completed"
    },
    "tags": []
   },
   "outputs": [],
   "source": [
    "# #hide\n",
    "# fig, ax = plt.subplots(figsize=(15, 8))\n",
    "\n",
    "# def draw_barchart(current_day):\n",
    "#     dff = g[g['day'].eq(current_day)].sort_values(by='value', ascending=True).tail(10)\n",
    "#     ax.clear()\n",
    "#     ax.barh(dff['name'], dff['value'], color=[colors[group_lk[x]] for x in dff['name']])\n",
    "#     dx = dff['value'].max() / 200\n",
    "    \n",
    "#     for i, (value, name) in enumerate(zip(dff['value'], dff['name'])):\n",
    "#         ax.text(value-dx, i,     name,           size=14, weight=600, ha='right', va='bottom')\n",
    "#         ax.text(value-dx, i-.25, group_lk[name], size=10, color='#444444', ha='right', va='baseline')\n",
    "#         ax.text(value+dx, i,     f'{value:,.0f}',  size=14, ha='left',  va='center')\n",
    "#     ax.text(1, 0.4, current_day, transform=ax.transAxes, color='#777777', size=46, ha='right', weight=800)\n",
    "#     ax.text(0, 1.06, 'Population (thousands)', transform=ax.transAxes, size=12, color='#777777')\n",
    "#     ax.xaxis.set_major_formatter(ticker.StrMethodFormatter('{x:,.0f}'))\n",
    "#     ax.xaxis.set_ticks_position('top')\n",
    "#     ax.tick_params(axis='x', colors='#777777', labelsize=12)\n",
    "#     ax.set_yticks([])\n",
    "#     ax.margins(0, 0.01)\n",
    "#     ax.grid(which='major', axis='x', linestyle='-')\n",
    "#     ax.set_axisbelow(True)\n",
    "    \n",
    "#     ax.text(0, 1.15, 'Coronavirus',\n",
    "#             transform=ax.transAxes, size=24, weight=600, ha='left', va='top')\n",
    "# #     ax.text(1, 0, 'by @pratapvardhan; credit @jburnmurdoch', transform=ax.transAxes, color='#777777', ha='right',\n",
    "# #             bbox=dict(facecolor='white', alpha=0.8, edgecolor='white'))\n",
    "#     plt.box(False)"
   ]
  },
  {
   "cell_type": "code",
   "execution_count": 42,
   "id": "sexual-wages",
   "metadata": {
    "execution": {
     "iopub.execute_input": "2022-01-03T12:13:14.340876Z",
     "iopub.status.busy": "2022-01-03T12:13:14.339723Z",
     "iopub.status.idle": "2022-01-03T12:13:14.342388Z",
     "shell.execute_reply": "2022-01-03T12:13:14.341856Z"
    },
    "papermill": {
     "duration": 0.036759,
     "end_time": "2022-01-03T12:13:14.342501",
     "exception": false,
     "start_time": "2022-01-03T12:13:14.305742",
     "status": "completed"
    },
    "tags": []
   },
   "outputs": [],
   "source": [
    "# #hide_input\n",
    "# fig, ax = plt.subplots(figsize=(15, 8))\n",
    "# animator = animation.FuncAnimation(fig, draw_barchart, frames=range(g.day.values.min(), g.day.values.max()))\n",
    "# HTML(animator.to_jshtml())\n",
    "# # or use animator.to_html5_video() or animator.save() "
   ]
  },
  {
   "cell_type": "code",
   "execution_count": null,
   "id": "australian-container",
   "metadata": {
    "papermill": {
     "duration": 0.030758,
     "end_time": "2022-01-03T12:13:14.403255",
     "exception": false,
     "start_time": "2022-01-03T12:13:14.372497",
     "status": "completed"
    },
    "tags": []
   },
   "outputs": [],
   "source": []
  },
  {
   "cell_type": "code",
   "execution_count": null,
   "id": "mediterranean-pontiac",
   "metadata": {
    "papermill": {
     "duration": 0.033058,
     "end_time": "2022-01-03T12:13:14.469431",
     "exception": false,
     "start_time": "2022-01-03T12:13:14.436373",
     "status": "completed"
    },
    "tags": []
   },
   "outputs": [],
   "source": []
  },
  {
   "cell_type": "code",
   "execution_count": null,
   "id": "aging-legislature",
   "metadata": {
    "papermill": {
     "duration": 0.031063,
     "end_time": "2022-01-03T12:13:14.532999",
     "exception": false,
     "start_time": "2022-01-03T12:13:14.501936",
     "status": "completed"
    },
    "tags": []
   },
   "outputs": [],
   "source": []
  }
 ],
 "metadata": {
  "kernelspec": {
   "display_name": "Python 3",
   "language": "python",
   "name": "python3"
  },
  "language_info": {
   "codemirror_mode": {
    "name": "ipython",
    "version": 3
   },
   "file_extension": ".py",
   "mimetype": "text/x-python",
   "name": "python",
   "nbconvert_exporter": "python",
   "pygments_lexer": "ipython3",
   "version": "3.6.15"
  },
  "papermill": {
   "duration": 6.054523,
   "end_time": "2022-01-03T12:13:14.873292",
   "environment_variables": {},
   "exception": null,
   "input_path": "2020-03-21-covid19exp.ipynb",
   "output_path": "2020-03-21-covid19exp.ipynb",
   "parameters": {},
   "start_time": "2022-01-03T12:13:08.818769",
   "version": "2.0.0"
  }
 },
 "nbformat": 4,
 "nbformat_minor": 5
}