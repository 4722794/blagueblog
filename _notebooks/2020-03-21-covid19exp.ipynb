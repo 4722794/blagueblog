{
 "cells": [
  {
   "cell_type": "markdown",
   "id": "muslim-click",
   "metadata": {
    "papermill": {
     "duration": 0.044575,
     "end_time": "2021-08-15T00:22:28.181053",
     "exception": false,
     "start_time": "2021-08-15T00:22:28.136478",
     "status": "completed"
    },
    "tags": []
   },
   "source": [
    "# COVID-19 Case Race\n",
    "> A race chart to see rising cases around the world\n",
    "\n",
    "- author: Hargun Oberoi\n",
    "- image: images/covid-overview.png\n",
    "- hide: false\n",
    "- badges: false"
   ]
  },
  {
   "cell_type": "code",
   "execution_count": 1,
   "id": "proof-material",
   "metadata": {
    "execution": {
     "iopub.execute_input": "2021-08-15T00:22:28.265735Z",
     "iopub.status.busy": "2021-08-15T00:22:28.264939Z",
     "iopub.status.idle": "2021-08-15T00:22:28.644031Z",
     "shell.execute_reply": "2021-08-15T00:22:28.644610Z"
    },
    "papermill": {
     "duration": 0.423735,
     "end_time": "2021-08-15T00:22:28.644791",
     "exception": false,
     "start_time": "2021-08-15T00:22:28.221056",
     "status": "completed"
    },
    "tags": []
   },
   "outputs": [],
   "source": [
    "#hide\n",
    "import numpy as np\n",
    "import pandas as pd\n",
    "from jinja2 import Template\n",
    "from IPython.display import HTML"
   ]
  },
  {
   "cell_type": "code",
   "execution_count": 2,
   "id": "developed-terminology",
   "metadata": {
    "execution": {
     "iopub.execute_input": "2021-08-15T00:22:28.728262Z",
     "iopub.status.busy": "2021-08-15T00:22:28.727491Z",
     "iopub.status.idle": "2021-08-15T00:22:28.729889Z",
     "shell.execute_reply": "2021-08-15T00:22:28.729288Z"
    },
    "papermill": {
     "duration": 0.048101,
     "end_time": "2021-08-15T00:22:28.730005",
     "exception": false,
     "start_time": "2021-08-15T00:22:28.681904",
     "status": "completed"
    },
    "tags": []
   },
   "outputs": [],
   "source": [
    "#hide\n",
    "\n",
    "# FETCH\n",
    "base_url = 'https://raw.githubusercontent.com/pratapvardhan/notebooks/master/covid19/'\n",
    "paths = {\n",
    "    'mapping': base_url + 'mapping_countries.csv',\n",
    "    'overview': base_url + 'overview.tpl'\n",
    "}"
   ]
  },
  {
   "cell_type": "code",
   "execution_count": 3,
   "id": "dynamic-saver",
   "metadata": {
    "execution": {
     "iopub.execute_input": "2021-08-15T00:22:28.818623Z",
     "iopub.status.busy": "2021-08-15T00:22:28.817791Z",
     "iopub.status.idle": "2021-08-15T00:22:28.820645Z",
     "shell.execute_reply": "2021-08-15T00:22:28.821713Z"
    },
    "papermill": {
     "duration": 0.052414,
     "end_time": "2021-08-15T00:22:28.821856",
     "exception": false,
     "start_time": "2021-08-15T00:22:28.769442",
     "status": "completed"
    },
    "tags": []
   },
   "outputs": [
    {
     "data": {
      "text/plain": [
       "'https://raw.githubusercontent.com/pratapvardhan/notebooks/master/covid19/mapping_countries.csv'"
      ]
     },
     "execution_count": 3,
     "metadata": {},
     "output_type": "execute_result"
    }
   ],
   "source": [
    "#hide\n",
    "paths['mapping']"
   ]
  },
  {
   "cell_type": "code",
   "execution_count": 4,
   "id": "urban-software",
   "metadata": {
    "execution": {
     "iopub.execute_input": "2021-08-15T00:22:28.912100Z",
     "iopub.status.busy": "2021-08-15T00:22:28.911404Z",
     "iopub.status.idle": "2021-08-15T00:22:28.912802Z",
     "shell.execute_reply": "2021-08-15T00:22:28.913339Z"
    },
    "papermill": {
     "duration": 0.049662,
     "end_time": "2021-08-15T00:22:28.913482",
     "exception": false,
     "start_time": "2021-08-15T00:22:28.863820",
     "status": "completed"
    },
    "tags": []
   },
   "outputs": [],
   "source": [
    "#hide\n",
    "def get_mappings(url):\n",
    "    df = pd.read_csv(url)\n",
    "    return {\n",
    "        'df': df,\n",
    "        'replace.country': dict(df.dropna(subset=['Name']).set_index('Country')['Name']),\n",
    "        'map.continent': dict(df.set_index('Name')['Continent'])\n",
    "    }"
   ]
  },
  {
   "cell_type": "code",
   "execution_count": 5,
   "id": "intimate-machinery",
   "metadata": {
    "execution": {
     "iopub.execute_input": "2021-08-15T00:22:28.999530Z",
     "iopub.status.busy": "2021-08-15T00:22:28.998903Z",
     "iopub.status.idle": "2021-08-15T00:22:29.046297Z",
     "shell.execute_reply": "2021-08-15T00:22:29.045630Z"
    },
    "papermill": {
     "duration": 0.092707,
     "end_time": "2021-08-15T00:22:29.046479",
     "exception": false,
     "start_time": "2021-08-15T00:22:28.953772",
     "status": "completed"
    },
    "tags": []
   },
   "outputs": [],
   "source": [
    "#hide\n",
    "mapping = get_mappings(paths['mapping'])"
   ]
  },
  {
   "cell_type": "code",
   "execution_count": 6,
   "id": "certified-tactics",
   "metadata": {
    "execution": {
     "iopub.execute_input": "2021-08-15T00:22:29.129359Z",
     "iopub.status.busy": "2021-08-15T00:22:29.128747Z",
     "iopub.status.idle": "2021-08-15T00:22:29.131287Z",
     "shell.execute_reply": "2021-08-15T00:22:29.130618Z"
    },
    "papermill": {
     "duration": 0.044147,
     "end_time": "2021-08-15T00:22:29.131400",
     "exception": false,
     "start_time": "2021-08-15T00:22:29.087253",
     "status": "completed"
    },
    "tags": []
   },
   "outputs": [],
   "source": [
    "#hide\n",
    "def get_template(path):\n",
    "    from urllib.parse import urlparse\n",
    "    if bool(urlparse(path).netloc):\n",
    "        from urllib.request import urlopen\n",
    "        return urlopen(path).read().decode('utf8')\n",
    "    return open(path).read()"
   ]
  },
  {
   "cell_type": "code",
   "execution_count": 7,
   "id": "realistic-blast",
   "metadata": {
    "execution": {
     "iopub.execute_input": "2021-08-15T00:22:29.212574Z",
     "iopub.status.busy": "2021-08-15T00:22:29.211934Z",
     "iopub.status.idle": "2021-08-15T00:22:29.214034Z",
     "shell.execute_reply": "2021-08-15T00:22:29.214697Z"
    },
    "papermill": {
     "duration": 0.045574,
     "end_time": "2021-08-15T00:22:29.214836",
     "exception": false,
     "start_time": "2021-08-15T00:22:29.169262",
     "status": "completed"
    },
    "tags": []
   },
   "outputs": [],
   "source": [
    "#hide\n",
    "def get_frame(name):\n",
    "    url = (\n",
    "        'https://raw.githubusercontent.com/CSSEGISandData/COVID-19/master/csse_covid_19_data/'\n",
    "        f'csse_covid_19_time_series/time_series_covid19_{name}_global.csv')\n",
    "    df = pd.read_csv(url)\n",
    "    # rename countries\n",
    "    df['Country/Region'] = df['Country/Region'].replace(mapping['replace.country'])\n",
    "    return df"
   ]
  },
  {
   "cell_type": "code",
   "execution_count": 8,
   "id": "affiliated-characterization",
   "metadata": {
    "execution": {
     "iopub.execute_input": "2021-08-15T00:22:29.300700Z",
     "iopub.status.busy": "2021-08-15T00:22:29.299968Z",
     "iopub.status.idle": "2021-08-15T00:22:29.302466Z",
     "shell.execute_reply": "2021-08-15T00:22:29.301880Z"
    },
    "papermill": {
     "duration": 0.048762,
     "end_time": "2021-08-15T00:22:29.302585",
     "exception": false,
     "start_time": "2021-08-15T00:22:29.253823",
     "status": "completed"
    },
    "tags": []
   },
   "outputs": [],
   "source": [
    "#hide\n",
    "def get_dates(df):\n",
    "    dt_cols = df.columns[~df.columns.isin(['Province/State', 'Country/Region', 'Lat', 'Long'])]\n",
    "    LAST_DATE_I = -1\n",
    "    # sometimes last column may be empty, then go backwards\n",
    "    for i in range(-1, -len(dt_cols), -1):\n",
    "        if not df[dt_cols[i]].fillna(0).eq(0).all():\n",
    "            LAST_DATE_I = i\n",
    "            break\n",
    "    return LAST_DATE_I, dt_cols"
   ]
  },
  {
   "cell_type": "code",
   "execution_count": 9,
   "id": "recent-optimization",
   "metadata": {
    "execution": {
     "iopub.execute_input": "2021-08-15T00:22:29.384751Z",
     "iopub.status.busy": "2021-08-15T00:22:29.383877Z",
     "iopub.status.idle": "2021-08-15T00:22:29.792263Z",
     "shell.execute_reply": "2021-08-15T00:22:29.791046Z"
    },
    "papermill": {
     "duration": 0.453043,
     "end_time": "2021-08-15T00:22:29.792409",
     "exception": false,
     "start_time": "2021-08-15T00:22:29.339366",
     "status": "completed"
    },
    "tags": []
   },
   "outputs": [],
   "source": [
    "#hide\n",
    "COL_REGION = 'Country/Region'\n",
    "# Confirmed, Recovered, Deaths\n",
    "df = get_frame('confirmed')\n",
    "# dft_: timeseries, dfc_: today country agg\n",
    "dft_cases = df\n",
    "dft_deaths = get_frame('deaths')\n",
    "dft_recovered = get_frame('recovered')\n",
    "LAST_DATE_I, dt_cols = get_dates(df)"
   ]
  },
  {
   "cell_type": "code",
   "execution_count": 10,
   "id": "absolute-copper",
   "metadata": {
    "execution": {
     "iopub.execute_input": "2021-08-15T00:22:29.876463Z",
     "iopub.status.busy": "2021-08-15T00:22:29.875890Z",
     "iopub.status.idle": "2021-08-15T00:22:29.878303Z",
     "shell.execute_reply": "2021-08-15T00:22:29.877628Z"
    },
    "papermill": {
     "duration": 0.047181,
     "end_time": "2021-08-15T00:22:29.878419",
     "exception": false,
     "start_time": "2021-08-15T00:22:29.831238",
     "status": "completed"
    },
    "tags": []
   },
   "outputs": [],
   "source": [
    "#hide\n",
    "LAST_DATE_I, dt_cols = get_dates(df)\n",
    "dt_today =dt_cols[LAST_DATE_I]\n",
    "# dt_5day = dt_cols[LAST_DATE_I - 5]\n",
    "dt_yday = dt_cols[LAST_DATE_I - 1]"
   ]
  },
  {
   "cell_type": "code",
   "execution_count": 11,
   "id": "restricted-sheriff",
   "metadata": {
    "execution": {
     "iopub.execute_input": "2021-08-15T00:22:29.960864Z",
     "iopub.status.busy": "2021-08-15T00:22:29.960231Z",
     "iopub.status.idle": "2021-08-15T00:22:29.970242Z",
     "shell.execute_reply": "2021-08-15T00:22:29.969720Z"
    },
    "papermill": {
     "duration": 0.054143,
     "end_time": "2021-08-15T00:22:29.970368",
     "exception": false,
     "start_time": "2021-08-15T00:22:29.916225",
     "status": "completed"
    },
    "tags": []
   },
   "outputs": [],
   "source": [
    "#hide\n",
    "dfc_cases = dft_cases.groupby(COL_REGION)[dt_today].sum()\n",
    "dfc_deaths = dft_deaths.groupby(COL_REGION)[dt_today].sum()\n",
    "# dfp_cases = dft_cases.groupby(COL_REGION)[dt_5day].sum()\n",
    "# dfp_deaths = dft_deaths.groupby(COL_REGION)[dt_5day].sum()\n",
    "dfp_cases = dft_cases.groupby(COL_REGION)[dt_yday].sum()\n",
    "dfp_deaths = dft_deaths.groupby(COL_REGION)[dt_yday].sum()"
   ]
  },
  {
   "cell_type": "code",
   "execution_count": 12,
   "id": "deluxe-hepatitis",
   "metadata": {
    "execution": {
     "iopub.execute_input": "2021-08-15T00:22:30.050882Z",
     "iopub.status.busy": "2021-08-15T00:22:30.050228Z",
     "iopub.status.idle": "2021-08-15T00:22:30.055319Z",
     "shell.execute_reply": "2021-08-15T00:22:30.056822Z"
    },
    "papermill": {
     "duration": 0.050268,
     "end_time": "2021-08-15T00:22:30.058618",
     "exception": false,
     "start_time": "2021-08-15T00:22:30.008350",
     "status": "completed"
    },
    "tags": []
   },
   "outputs": [],
   "source": [
    "#hide\n",
    "df_table = (pd.DataFrame(dict(Cases = dfc_cases, Deaths = dfc_deaths, PCases = dfp_cases, PDeaths = dfp_deaths))\n",
    "            .sort_values(by = ['Cases','Deaths'], ascending = [False, False])\n",
    "            .reset_index())"
   ]
  },
  {
   "cell_type": "code",
   "execution_count": 13,
   "id": "educational-chancellor",
   "metadata": {
    "execution": {
     "iopub.execute_input": "2021-08-15T00:22:30.167394Z",
     "iopub.status.busy": "2021-08-15T00:22:30.166536Z",
     "iopub.status.idle": "2021-08-15T00:22:30.175931Z",
     "shell.execute_reply": "2021-08-15T00:22:30.176391Z"
    },
    "papermill": {
     "duration": 0.07502,
     "end_time": "2021-08-15T00:22:30.176543",
     "exception": false,
     "start_time": "2021-08-15T00:22:30.101523",
     "status": "completed"
    },
    "tags": []
   },
   "outputs": [
    {
     "data": {
      "text/html": [
       "<div>\n",
       "<style scoped>\n",
       "    .dataframe tbody tr th:only-of-type {\n",
       "        vertical-align: middle;\n",
       "    }\n",
       "\n",
       "    .dataframe tbody tr th {\n",
       "        vertical-align: top;\n",
       "    }\n",
       "\n",
       "    .dataframe thead th {\n",
       "        text-align: right;\n",
       "    }\n",
       "</style>\n",
       "<table border=\"1\" class=\"dataframe\">\n",
       "  <thead>\n",
       "    <tr style=\"text-align: right;\">\n",
       "      <th></th>\n",
       "      <th>Country/Region</th>\n",
       "      <th>Cases</th>\n",
       "      <th>Deaths</th>\n",
       "      <th>PCases</th>\n",
       "      <th>PDeaths</th>\n",
       "      <th>Cases (+)</th>\n",
       "      <th>Deaths (+)</th>\n",
       "      <th>Fatality Rate</th>\n",
       "      <th>Continent</th>\n",
       "    </tr>\n",
       "  </thead>\n",
       "  <tbody>\n",
       "    <tr>\n",
       "      <th>0</th>\n",
       "      <td>US</td>\n",
       "      <td>36597564</td>\n",
       "      <td>621016</td>\n",
       "      <td>36306724</td>\n",
       "      <td>619093</td>\n",
       "      <td>290840</td>\n",
       "      <td>1923</td>\n",
       "      <td>1.70</td>\n",
       "      <td>North America</td>\n",
       "    </tr>\n",
       "    <tr>\n",
       "      <th>1</th>\n",
       "      <td>India</td>\n",
       "      <td>32156493</td>\n",
       "      <td>430732</td>\n",
       "      <td>32117826</td>\n",
       "      <td>430254</td>\n",
       "      <td>38667</td>\n",
       "      <td>478</td>\n",
       "      <td>1.34</td>\n",
       "      <td>Asia</td>\n",
       "    </tr>\n",
       "    <tr>\n",
       "      <th>2</th>\n",
       "      <td>Brazil</td>\n",
       "      <td>20319000</td>\n",
       "      <td>567862</td>\n",
       "      <td>20285067</td>\n",
       "      <td>566896</td>\n",
       "      <td>33933</td>\n",
       "      <td>966</td>\n",
       "      <td>2.79</td>\n",
       "      <td>South America</td>\n",
       "    </tr>\n",
       "    <tr>\n",
       "      <th>3</th>\n",
       "      <td>France</td>\n",
       "      <td>6471262</td>\n",
       "      <td>112705</td>\n",
       "      <td>6469753</td>\n",
       "      <td>112700</td>\n",
       "      <td>1509</td>\n",
       "      <td>5</td>\n",
       "      <td>1.74</td>\n",
       "      <td>Europe</td>\n",
       "    </tr>\n",
       "    <tr>\n",
       "      <th>4</th>\n",
       "      <td>Russia</td>\n",
       "      <td>6468890</td>\n",
       "      <td>165996</td>\n",
       "      <td>6447229</td>\n",
       "      <td>165201</td>\n",
       "      <td>21661</td>\n",
       "      <td>795</td>\n",
       "      <td>2.57</td>\n",
       "      <td>Europe</td>\n",
       "    </tr>\n",
       "  </tbody>\n",
       "</table>\n",
       "</div>"
      ],
      "text/plain": [
       "  Country/Region     Cases  Deaths    PCases  PDeaths  Cases (+)  Deaths (+)  \\\n",
       "0             US  36597564  621016  36306724   619093     290840        1923   \n",
       "1          India  32156493  430732  32117826   430254      38667         478   \n",
       "2         Brazil  20319000  567862  20285067   566896      33933         966   \n",
       "3         France   6471262  112705   6469753   112700       1509           5   \n",
       "4         Russia   6468890  165996   6447229   165201      21661         795   \n",
       "\n",
       "   Fatality Rate      Continent  \n",
       "0           1.70  North America  \n",
       "1           1.34           Asia  \n",
       "2           2.79  South America  \n",
       "3           1.74         Europe  \n",
       "4           2.57         Europe  "
      ]
     },
     "execution_count": 13,
     "metadata": {},
     "output_type": "execute_result"
    }
   ],
   "source": [
    "#hide\n",
    "for c in 'Cases, Deaths'.split(', '):\n",
    "    df_table[f'{c} (+)'] = (df_table[c] - df_table[f'P{c}']).clip(0)\n",
    "    #Clip ça veut dire, les chiffres negatif sont interdit\n",
    "df_table['Fatality Rate'] = (100* df_table['Deaths']/ df_table['Cases']).round(2)\n",
    "df_table['Continent'] = df_table['Country/Region'].map(mapping['map.continent'])\n",
    "df_table.head(5)"
   ]
  },
  {
   "cell_type": "code",
   "execution_count": 14,
   "id": "aboriginal-bulgaria",
   "metadata": {
    "execution": {
     "iopub.execute_input": "2021-08-15T00:22:30.263535Z",
     "iopub.status.busy": "2021-08-15T00:22:30.262852Z",
     "iopub.status.idle": "2021-08-15T00:22:30.265850Z",
     "shell.execute_reply": "2021-08-15T00:22:30.266331Z"
    },
    "papermill": {
     "duration": 0.049824,
     "end_time": "2021-08-15T00:22:30.266480",
     "exception": false,
     "start_time": "2021-08-15T00:22:30.216656",
     "status": "completed"
    },
    "tags": []
   },
   "outputs": [],
   "source": [
    "#hide\n",
    "#delete problematic countries from table\n",
    "df_table = df_table[~df_table['Country/Region'].isin(['Cape Verde', 'Cruise Ship', 'Kosovo'])]"
   ]
  },
  {
   "cell_type": "code",
   "execution_count": 15,
   "id": "fantastic-effect",
   "metadata": {
    "execution": {
     "iopub.execute_input": "2021-08-15T00:22:30.352636Z",
     "iopub.status.busy": "2021-08-15T00:22:30.352063Z",
     "iopub.status.idle": "2021-08-15T00:22:30.377490Z",
     "shell.execute_reply": "2021-08-15T00:22:30.376938Z"
    },
    "papermill": {
     "duration": 0.070241,
     "end_time": "2021-08-15T00:22:30.377620",
     "exception": false,
     "start_time": "2021-08-15T00:22:30.307379",
     "status": "completed"
    },
    "tags": []
   },
   "outputs": [
    {
     "data": {
      "text/html": [
       "<div>\n",
       "<style scoped>\n",
       "    .dataframe tbody tr th:only-of-type {\n",
       "        vertical-align: middle;\n",
       "    }\n",
       "\n",
       "    .dataframe tbody tr th {\n",
       "        vertical-align: top;\n",
       "    }\n",
       "\n",
       "    .dataframe thead th {\n",
       "        text-align: right;\n",
       "    }\n",
       "</style>\n",
       "<table border=\"1\" class=\"dataframe\">\n",
       "  <thead>\n",
       "    <tr style=\"text-align: right;\">\n",
       "      <th></th>\n",
       "      <th>Country/Region</th>\n",
       "      <th>Cases</th>\n",
       "      <th>Deaths</th>\n",
       "      <th>PCases</th>\n",
       "      <th>PDeaths</th>\n",
       "      <th>Cases (+)</th>\n",
       "      <th>Deaths (+)</th>\n",
       "      <th>Fatality Rate</th>\n",
       "      <th>Continent</th>\n",
       "    </tr>\n",
       "  </thead>\n",
       "  <tbody>\n",
       "    <tr>\n",
       "      <th>0</th>\n",
       "      <td>US</td>\n",
       "      <td>36597564</td>\n",
       "      <td>621016</td>\n",
       "      <td>36306724</td>\n",
       "      <td>619093</td>\n",
       "      <td>290840</td>\n",
       "      <td>1923</td>\n",
       "      <td>1.7</td>\n",
       "      <td>North America</td>\n",
       "    </tr>\n",
       "    <tr>\n",
       "      <th>1</th>\n",
       "      <td>India</td>\n",
       "      <td>32156493</td>\n",
       "      <td>430732</td>\n",
       "      <td>32117826</td>\n",
       "      <td>430254</td>\n",
       "      <td>38667</td>\n",
       "      <td>478</td>\n",
       "      <td>1.3</td>\n",
       "      <td>Asia</td>\n",
       "    </tr>\n",
       "    <tr>\n",
       "      <th>2</th>\n",
       "      <td>Brazil</td>\n",
       "      <td>20319000</td>\n",
       "      <td>567862</td>\n",
       "      <td>20285067</td>\n",
       "      <td>566896</td>\n",
       "      <td>33933</td>\n",
       "      <td>966</td>\n",
       "      <td>2.8</td>\n",
       "      <td>South America</td>\n",
       "    </tr>\n",
       "    <tr>\n",
       "      <th>3</th>\n",
       "      <td>France</td>\n",
       "      <td>6471262</td>\n",
       "      <td>112705</td>\n",
       "      <td>6469753</td>\n",
       "      <td>112700</td>\n",
       "      <td>1509</td>\n",
       "      <td>5</td>\n",
       "      <td>1.7</td>\n",
       "      <td>Europe</td>\n",
       "    </tr>\n",
       "    <tr>\n",
       "      <th>4</th>\n",
       "      <td>Russia</td>\n",
       "      <td>6468890</td>\n",
       "      <td>165996</td>\n",
       "      <td>6447229</td>\n",
       "      <td>165201</td>\n",
       "      <td>21661</td>\n",
       "      <td>795</td>\n",
       "      <td>2.6</td>\n",
       "      <td>Europe</td>\n",
       "    </tr>\n",
       "  </tbody>\n",
       "</table>\n",
       "</div>"
      ],
      "text/plain": [
       "  Country/Region     Cases  Deaths    PCases  PDeaths  Cases (+)  Deaths (+)  \\\n",
       "0             US  36597564  621016  36306724   619093     290840        1923   \n",
       "1          India  32156493  430732  32117826   430254      38667         478   \n",
       "2         Brazil  20319000  567862  20285067   566896      33933         966   \n",
       "3         France   6471262  112705   6469753   112700       1509           5   \n",
       "4         Russia   6468890  165996   6447229   165201      21661         795   \n",
       "\n",
       "   Fatality Rate      Continent  \n",
       "0            1.7  North America  \n",
       "1            1.3           Asia  \n",
       "2            2.8  South America  \n",
       "3            1.7         Europe  \n",
       "4            2.6         Europe  "
      ]
     },
     "execution_count": 15,
     "metadata": {},
     "output_type": "execute_result"
    }
   ],
   "source": [
    "#hide\n",
    "df_table = (pd.DataFrame(dict(Cases=dfc_cases, Deaths=dfc_deaths, PCases=dfp_cases, PDeaths=dfp_deaths))\n",
    "             .sort_values(by=['Cases', 'Deaths'], ascending=[False, False])\n",
    "             .reset_index())\n",
    "df_table.rename(columns={'index': 'Country/Region'}, inplace=True)\n",
    "for c in 'Cases, Deaths'.split(', '):\n",
    "    df_table[f'{c} (+)'] = (df_table[c] - df_table[f'P{c}']).clip(0)  # DATA BUG\n",
    "df_table['Fatality Rate'] = (100 * df_table['Deaths'] / df_table['Cases']).round(1)\n",
    "df_table['Continent'] = df_table['Country/Region'].map(mapping['map.continent'])\n",
    "df_table.head(5)"
   ]
  },
  {
   "cell_type": "code",
   "execution_count": 16,
   "id": "fewer-occasion",
   "metadata": {
    "execution": {
     "iopub.execute_input": "2021-08-15T00:22:30.458057Z",
     "iopub.status.busy": "2021-08-15T00:22:30.457430Z",
     "iopub.status.idle": "2021-08-15T00:22:30.461828Z",
     "shell.execute_reply": "2021-08-15T00:22:30.462338Z"
    },
    "papermill": {
     "duration": 0.04585,
     "end_time": "2021-08-15T00:22:30.462470",
     "exception": false,
     "start_time": "2021-08-15T00:22:30.416620",
     "status": "completed"
    },
    "tags": []
   },
   "outputs": [],
   "source": [
    "#hide\n",
    "#delete problematic countries from table\n",
    "df_table = df_table[~df_table['Country/Region'].isin(['Cape Verde', 'Cruise Ship', 'Kosovo'])]"
   ]
  },
  {
   "cell_type": "code",
   "execution_count": 17,
   "id": "related-center",
   "metadata": {
    "execution": {
     "iopub.execute_input": "2021-08-15T00:22:30.564509Z",
     "iopub.status.busy": "2021-08-15T00:22:30.563773Z",
     "iopub.status.idle": "2021-08-15T00:22:30.567622Z",
     "shell.execute_reply": "2021-08-15T00:22:30.568195Z"
    },
    "papermill": {
     "duration": 0.064352,
     "end_time": "2021-08-15T00:22:30.568379",
     "exception": false,
     "start_time": "2021-08-15T00:22:30.504027",
     "status": "completed"
    },
    "tags": []
   },
   "outputs": [],
   "source": [
    "#hide\n",
    "metrics = [df_table.columns[index] for index in [1,2,5,6]]\n",
    "# s_china = df_table[df_table['Country/Region'].eq('China')][metrics].sum().add_prefix('China ')\n",
    "s_us = df_table[df_table['Country/Region'].eq('US')][metrics].sum().add_prefix('US ')\n",
    "s_eu = df_table[df_table['Continent'].eq('Europe')][metrics].sum().add_prefix('EU ')\n",
    "s_ind = df_table[df_table['Country/Region'].eq('India')][metrics].sum().add_prefix('India ')\n",
    "summary = {'updated': pd.to_datetime(dt_today), 'since': pd.to_datetime(dt_yday)}\n",
    "summary = {'updated': pd.to_datetime(dt_today), 'since': pd.to_datetime(dt_yday)}\n",
    "summary = {**summary, **df_table[metrics].sum(), **s_ind, **s_us, **s_eu}"
   ]
  },
  {
   "cell_type": "code",
   "execution_count": 18,
   "id": "engaging-syndrome",
   "metadata": {
    "execution": {
     "iopub.execute_input": "2021-08-15T00:22:30.650646Z",
     "iopub.status.busy": "2021-08-15T00:22:30.650083Z",
     "iopub.status.idle": "2021-08-15T00:22:30.666193Z",
     "shell.execute_reply": "2021-08-15T00:22:30.665615Z"
    },
    "papermill": {
     "duration": 0.058664,
     "end_time": "2021-08-15T00:22:30.666314",
     "exception": false,
     "start_time": "2021-08-15T00:22:30.607650",
     "status": "completed"
    },
    "tags": []
   },
   "outputs": [],
   "source": [
    "#hide\n",
    "dft_ct_new_cases = dft_cases.groupby(COL_REGION)[dt_cols].sum().diff(axis=1).fillna(0).astype(int)"
   ]
  },
  {
   "cell_type": "code",
   "execution_count": 19,
   "id": "neutral-assignment",
   "metadata": {
    "execution": {
     "iopub.execute_input": "2021-08-15T00:22:30.752275Z",
     "iopub.status.busy": "2021-08-15T00:22:30.751599Z",
     "iopub.status.idle": "2021-08-15T00:22:30.754122Z",
     "shell.execute_reply": "2021-08-15T00:22:30.753475Z"
    },
    "papermill": {
     "duration": 0.049208,
     "end_time": "2021-08-15T00:22:30.754252",
     "exception": false,
     "start_time": "2021-08-15T00:22:30.705044",
     "status": "completed"
    },
    "tags": []
   },
   "outputs": [],
   "source": [
    "#hide\n",
    "everydaycases = dft_ct_new_cases.cumsum(axis=1)"
   ]
  },
  {
   "cell_type": "code",
   "execution_count": 20,
   "id": "parliamentary-calgary",
   "metadata": {
    "execution": {
     "iopub.execute_input": "2021-08-15T00:22:30.838014Z",
     "iopub.status.busy": "2021-08-15T00:22:30.837369Z",
     "iopub.status.idle": "2021-08-15T00:22:31.524475Z",
     "shell.execute_reply": "2021-08-15T00:22:31.523977Z"
    },
    "papermill": {
     "duration": 0.729612,
     "end_time": "2021-08-15T00:22:31.524602",
     "exception": false,
     "start_time": "2021-08-15T00:22:30.794990",
     "status": "completed"
    },
    "tags": []
   },
   "outputs": [],
   "source": [
    "#hide\n",
    "import pandas as pd\n",
    "import matplotlib.pyplot as plt\n",
    "import matplotlib.ticker as ticker\n",
    "import matplotlib.animation as animation\n",
    "from IPython.display import HTML"
   ]
  },
  {
   "cell_type": "code",
   "execution_count": 21,
   "id": "lasting-extraction",
   "metadata": {
    "execution": {
     "iopub.execute_input": "2021-08-15T00:22:31.608327Z",
     "iopub.status.busy": "2021-08-15T00:22:31.607728Z",
     "iopub.status.idle": "2021-08-15T00:22:31.613295Z",
     "shell.execute_reply": "2021-08-15T00:22:31.613839Z"
    },
    "papermill": {
     "duration": 0.050306,
     "end_time": "2021-08-15T00:22:31.613971",
     "exception": false,
     "start_time": "2021-08-15T00:22:31.563665",
     "status": "completed"
    },
    "tags": []
   },
   "outputs": [],
   "source": [
    "#hide\n",
    "t = everydaycases.stack()"
   ]
  },
  {
   "cell_type": "code",
   "execution_count": 22,
   "id": "premier-sleeve",
   "metadata": {
    "execution": {
     "iopub.execute_input": "2021-08-15T00:22:31.696701Z",
     "iopub.status.busy": "2021-08-15T00:22:31.696022Z",
     "iopub.status.idle": "2021-08-15T00:22:31.705396Z",
     "shell.execute_reply": "2021-08-15T00:22:31.704864Z"
    },
    "papermill": {
     "duration": 0.054881,
     "end_time": "2021-08-15T00:22:31.705517",
     "exception": false,
     "start_time": "2021-08-15T00:22:31.650636",
     "status": "completed"
    },
    "tags": []
   },
   "outputs": [],
   "source": [
    "#hide\n",
    "g = t.reset_index(['Country/Region'])"
   ]
  },
  {
   "cell_type": "code",
   "execution_count": 23,
   "id": "distributed-pittsburgh",
   "metadata": {
    "execution": {
     "iopub.execute_input": "2021-08-15T00:22:31.794761Z",
     "iopub.status.busy": "2021-08-15T00:22:31.793851Z",
     "iopub.status.idle": "2021-08-15T00:22:31.796674Z",
     "shell.execute_reply": "2021-08-15T00:22:31.796175Z"
    },
    "papermill": {
     "duration": 0.052043,
     "end_time": "2021-08-15T00:22:31.796828",
     "exception": false,
     "start_time": "2021-08-15T00:22:31.744785",
     "status": "completed"
    },
    "tags": []
   },
   "outputs": [],
   "source": [
    "#hide\n",
    "g.index.name = 'date'"
   ]
  },
  {
   "cell_type": "code",
   "execution_count": 24,
   "id": "naked-donor",
   "metadata": {
    "execution": {
     "iopub.execute_input": "2021-08-15T00:22:31.877223Z",
     "iopub.status.busy": "2021-08-15T00:22:31.876486Z",
     "iopub.status.idle": "2021-08-15T00:22:31.879593Z",
     "shell.execute_reply": "2021-08-15T00:22:31.879001Z"
    },
    "papermill": {
     "duration": 0.046156,
     "end_time": "2021-08-15T00:22:31.879736",
     "exception": false,
     "start_time": "2021-08-15T00:22:31.833580",
     "status": "completed"
    },
    "tags": []
   },
   "outputs": [],
   "source": [
    "# #hide\n",
    "# g = g.reset_index(['date'])"
   ]
  },
  {
   "cell_type": "code",
   "execution_count": 25,
   "id": "incomplete-mustang",
   "metadata": {
    "execution": {
     "iopub.execute_input": "2021-08-15T00:22:31.961555Z",
     "iopub.status.busy": "2021-08-15T00:22:31.960914Z",
     "iopub.status.idle": "2021-08-15T00:22:31.963288Z",
     "shell.execute_reply": "2021-08-15T00:22:31.962683Z"
    },
    "papermill": {
     "duration": 0.044745,
     "end_time": "2021-08-15T00:22:31.963409",
     "exception": false,
     "start_time": "2021-08-15T00:22:31.918664",
     "status": "completed"
    },
    "tags": []
   },
   "outputs": [],
   "source": [
    "#hide\n",
    "# g.head()"
   ]
  },
  {
   "cell_type": "code",
   "execution_count": 26,
   "id": "specific-kruger",
   "metadata": {
    "execution": {
     "iopub.execute_input": "2021-08-15T00:22:32.048179Z",
     "iopub.status.busy": "2021-08-15T00:22:32.047381Z",
     "iopub.status.idle": "2021-08-15T00:22:32.049867Z",
     "shell.execute_reply": "2021-08-15T00:22:32.049344Z"
    },
    "papermill": {
     "duration": 0.046239,
     "end_time": "2021-08-15T00:22:32.049988",
     "exception": false,
     "start_time": "2021-08-15T00:22:32.003749",
     "status": "completed"
    },
    "tags": []
   },
   "outputs": [],
   "source": [
    "#hide\n",
    "# g.columns = ['date','country','cases']"
   ]
  },
  {
   "cell_type": "code",
   "execution_count": 27,
   "id": "tender-conversion",
   "metadata": {
    "execution": {
     "iopub.execute_input": "2021-08-15T00:22:32.135532Z",
     "iopub.status.busy": "2021-08-15T00:22:32.134901Z",
     "iopub.status.idle": "2021-08-15T00:22:32.137316Z",
     "shell.execute_reply": "2021-08-15T00:22:32.136666Z"
    },
    "papermill": {
     "duration": 0.044889,
     "end_time": "2021-08-15T00:22:32.137441",
     "exception": false,
     "start_time": "2021-08-15T00:22:32.092552",
     "status": "completed"
    },
    "tags": []
   },
   "outputs": [],
   "source": [
    "#hide\n",
    "# g['continent'] = g.country"
   ]
  },
  {
   "cell_type": "code",
   "execution_count": 28,
   "id": "substantial-wilderness",
   "metadata": {
    "execution": {
     "iopub.execute_input": "2021-08-15T00:22:32.218105Z",
     "iopub.status.busy": "2021-08-15T00:22:32.217507Z",
     "iopub.status.idle": "2021-08-15T00:22:32.219695Z",
     "shell.execute_reply": "2021-08-15T00:22:32.220325Z"
    },
    "papermill": {
     "duration": 0.046336,
     "end_time": "2021-08-15T00:22:32.220464",
     "exception": false,
     "start_time": "2021-08-15T00:22:32.174128",
     "status": "completed"
    },
    "tags": []
   },
   "outputs": [],
   "source": [
    "#hide\n",
    "# cols = list(g.columns.values)"
   ]
  },
  {
   "cell_type": "code",
   "execution_count": 29,
   "id": "solved-farming",
   "metadata": {
    "execution": {
     "iopub.execute_input": "2021-08-15T00:22:32.306190Z",
     "iopub.status.busy": "2021-08-15T00:22:32.305532Z",
     "iopub.status.idle": "2021-08-15T00:22:32.308026Z",
     "shell.execute_reply": "2021-08-15T00:22:32.307358Z"
    },
    "papermill": {
     "duration": 0.051018,
     "end_time": "2021-08-15T00:22:32.308151",
     "exception": false,
     "start_time": "2021-08-15T00:22:32.257133",
     "status": "completed"
    },
    "tags": []
   },
   "outputs": [],
   "source": [
    "#hide\n",
    "# cols.insert(0, cols.pop())"
   ]
  },
  {
   "cell_type": "code",
   "execution_count": 30,
   "id": "executed-adoption",
   "metadata": {
    "execution": {
     "iopub.execute_input": "2021-08-15T00:22:32.404932Z",
     "iopub.status.busy": "2021-08-15T00:22:32.404136Z",
     "iopub.status.idle": "2021-08-15T00:22:32.406743Z",
     "shell.execute_reply": "2021-08-15T00:22:32.407331Z"
    },
    "papermill": {
     "duration": 0.055607,
     "end_time": "2021-08-15T00:22:32.407501",
     "exception": false,
     "start_time": "2021-08-15T00:22:32.351894",
     "status": "completed"
    },
    "tags": []
   },
   "outputs": [],
   "source": [
    "#hide\n",
    "# g = g[cols]"
   ]
  },
  {
   "cell_type": "code",
   "execution_count": 31,
   "id": "subject-dublin",
   "metadata": {
    "execution": {
     "iopub.execute_input": "2021-08-15T00:22:32.501269Z",
     "iopub.status.busy": "2021-08-15T00:22:32.500579Z",
     "iopub.status.idle": "2021-08-15T00:22:32.503323Z",
     "shell.execute_reply": "2021-08-15T00:22:32.502788Z"
    },
    "papermill": {
     "duration": 0.050605,
     "end_time": "2021-08-15T00:22:32.503463",
     "exception": false,
     "start_time": "2021-08-15T00:22:32.452858",
     "status": "completed"
    },
    "tags": []
   },
   "outputs": [],
   "source": [
    "#hide\n",
    "# g['continent'] = g['continent'].map(mapping['map.continent'])"
   ]
  },
  {
   "cell_type": "code",
   "execution_count": 32,
   "id": "freelance-scout",
   "metadata": {
    "execution": {
     "iopub.execute_input": "2021-08-15T00:22:32.587164Z",
     "iopub.status.busy": "2021-08-15T00:22:32.586224Z",
     "iopub.status.idle": "2021-08-15T00:22:32.588928Z",
     "shell.execute_reply": "2021-08-15T00:22:32.588180Z"
    },
    "papermill": {
     "duration": 0.045739,
     "end_time": "2021-08-15T00:22:32.589081",
     "exception": false,
     "start_time": "2021-08-15T00:22:32.543342",
     "status": "completed"
    },
    "tags": []
   },
   "outputs": [],
   "source": [
    "#hide\n",
    "# g.head()"
   ]
  },
  {
   "cell_type": "code",
   "execution_count": 33,
   "id": "limited-engine",
   "metadata": {
    "execution": {
     "iopub.execute_input": "2021-08-15T00:22:32.677600Z",
     "iopub.status.busy": "2021-08-15T00:22:32.676618Z",
     "iopub.status.idle": "2021-08-15T00:22:32.678606Z",
     "shell.execute_reply": "2021-08-15T00:22:32.679593Z"
    },
    "papermill": {
     "duration": 0.047417,
     "end_time": "2021-08-15T00:22:32.679752",
     "exception": false,
     "start_time": "2021-08-15T00:22:32.632335",
     "status": "completed"
    },
    "tags": []
   },
   "outputs": [],
   "source": [
    "# hide\n",
    "# g['date'] = g['date'].astype('datetime64[ns]')"
   ]
  },
  {
   "cell_type": "code",
   "execution_count": 34,
   "id": "sophisticated-supervisor",
   "metadata": {
    "execution": {
     "iopub.execute_input": "2021-08-15T00:22:32.766190Z",
     "iopub.status.busy": "2021-08-15T00:22:32.765405Z",
     "iopub.status.idle": "2021-08-15T00:22:32.767286Z",
     "shell.execute_reply": "2021-08-15T00:22:32.767902Z"
    },
    "papermill": {
     "duration": 0.046087,
     "end_time": "2021-08-15T00:22:32.768036",
     "exception": false,
     "start_time": "2021-08-15T00:22:32.721949",
     "status": "completed"
    },
    "tags": []
   },
   "outputs": [],
   "source": [
    "#hide\n",
    "# g['date'] = g.date.dt.dayofyear"
   ]
  },
  {
   "cell_type": "code",
   "execution_count": 35,
   "id": "inside-dubai",
   "metadata": {
    "execution": {
     "iopub.execute_input": "2021-08-15T00:22:32.851028Z",
     "iopub.status.busy": "2021-08-15T00:22:32.850430Z",
     "iopub.status.idle": "2021-08-15T00:22:32.852788Z",
     "shell.execute_reply": "2021-08-15T00:22:32.852290Z"
    },
    "papermill": {
     "duration": 0.047907,
     "end_time": "2021-08-15T00:22:32.852906",
     "exception": false,
     "start_time": "2021-08-15T00:22:32.804999",
     "status": "completed"
    },
    "tags": []
   },
   "outputs": [],
   "source": [
    "#hide\n",
    "# g = g.rename(columns= {'continent':'group','country':'name','cases':'value'})"
   ]
  },
  {
   "cell_type": "code",
   "execution_count": 36,
   "id": "fleet-motorcycle",
   "metadata": {
    "execution": {
     "iopub.execute_input": "2021-08-15T00:22:32.934839Z",
     "iopub.status.busy": "2021-08-15T00:22:32.934052Z",
     "iopub.status.idle": "2021-08-15T00:22:32.936645Z",
     "shell.execute_reply": "2021-08-15T00:22:32.935949Z"
    },
    "papermill": {
     "duration": 0.048059,
     "end_time": "2021-08-15T00:22:32.936763",
     "exception": false,
     "start_time": "2021-08-15T00:22:32.888704",
     "status": "completed"
    },
    "tags": []
   },
   "outputs": [],
   "source": [
    "#hide\n",
    "# cols = ['name','group','day','value']"
   ]
  },
  {
   "cell_type": "code",
   "execution_count": 37,
   "id": "continued-sleeping",
   "metadata": {
    "execution": {
     "iopub.execute_input": "2021-08-15T00:22:33.016183Z",
     "iopub.status.busy": "2021-08-15T00:22:33.015602Z",
     "iopub.status.idle": "2021-08-15T00:22:33.017963Z",
     "shell.execute_reply": "2021-08-15T00:22:33.017368Z"
    },
    "papermill": {
     "duration": 0.042999,
     "end_time": "2021-08-15T00:22:33.018109",
     "exception": false,
     "start_time": "2021-08-15T00:22:32.975110",
     "status": "completed"
    },
    "tags": []
   },
   "outputs": [],
   "source": [
    "#hide\n",
    "# g.rename(columns= {'date':'day'},inplace = True)"
   ]
  },
  {
   "cell_type": "code",
   "execution_count": 38,
   "id": "major-fight",
   "metadata": {
    "execution": {
     "iopub.execute_input": "2021-08-15T00:22:33.092044Z",
     "iopub.status.busy": "2021-08-15T00:22:33.091269Z",
     "iopub.status.idle": "2021-08-15T00:22:33.093629Z",
     "shell.execute_reply": "2021-08-15T00:22:33.094138Z"
    },
    "papermill": {
     "duration": 0.040778,
     "end_time": "2021-08-15T00:22:33.094249",
     "exception": false,
     "start_time": "2021-08-15T00:22:33.053471",
     "status": "completed"
    },
    "tags": []
   },
   "outputs": [],
   "source": [
    "#hide\n",
    "# g = g[cols]"
   ]
  },
  {
   "cell_type": "code",
   "execution_count": 39,
   "id": "structured-mobile",
   "metadata": {
    "execution": {
     "iopub.execute_input": "2021-08-15T00:22:33.173786Z",
     "iopub.status.busy": "2021-08-15T00:22:33.173062Z",
     "iopub.status.idle": "2021-08-15T00:22:33.175426Z",
     "shell.execute_reply": "2021-08-15T00:22:33.174954Z"
    },
    "papermill": {
     "duration": 0.042658,
     "end_time": "2021-08-15T00:22:33.175534",
     "exception": false,
     "start_time": "2021-08-15T00:22:33.132876",
     "status": "completed"
    },
    "tags": []
   },
   "outputs": [],
   "source": [
    "# #hide\n",
    "# g = g[g.group.notna()]"
   ]
  },
  {
   "cell_type": "code",
   "execution_count": 40,
   "id": "determined-closing",
   "metadata": {
    "execution": {
     "iopub.execute_input": "2021-08-15T00:22:33.257889Z",
     "iopub.status.busy": "2021-08-15T00:22:33.257271Z",
     "iopub.status.idle": "2021-08-15T00:22:33.259717Z",
     "shell.execute_reply": "2021-08-15T00:22:33.259185Z"
    },
    "papermill": {
     "duration": 0.046111,
     "end_time": "2021-08-15T00:22:33.259831",
     "exception": false,
     "start_time": "2021-08-15T00:22:33.213720",
     "status": "completed"
    },
    "tags": []
   },
   "outputs": [],
   "source": [
    "# #hide\n",
    "# colors = dict(zip(\n",
    "#     [\"Oceania\", \"Europe\", \"Asia\", \"South America\", \"Middle East\", \"North America\", \"Africa\"],\n",
    "#     [\"#adb0ff\", \"#ffb3ff\", \"#90d595\", \"#e48381\", \"#aafbff\", \"#f7bb5f\", \"#eafb50\"]\n",
    "# ))\n",
    "# group_lk = g.set_index('name')['group'].to_dict()"
   ]
  },
  {
   "cell_type": "code",
   "execution_count": null,
   "id": "gross-drinking",
   "metadata": {
    "papermill": {
     "duration": 0.040451,
     "end_time": "2021-08-15T00:22:33.339809",
     "exception": false,
     "start_time": "2021-08-15T00:22:33.299358",
     "status": "completed"
    },
    "tags": []
   },
   "outputs": [],
   "source": []
  },
  {
   "cell_type": "code",
   "execution_count": 41,
   "id": "subject-macintosh",
   "metadata": {
    "execution": {
     "iopub.execute_input": "2021-08-15T00:22:33.421381Z",
     "iopub.status.busy": "2021-08-15T00:22:33.420745Z",
     "iopub.status.idle": "2021-08-15T00:22:33.423590Z",
     "shell.execute_reply": "2021-08-15T00:22:33.423071Z"
    },
    "papermill": {
     "duration": 0.046023,
     "end_time": "2021-08-15T00:22:33.423709",
     "exception": false,
     "start_time": "2021-08-15T00:22:33.377686",
     "status": "completed"
    },
    "tags": []
   },
   "outputs": [],
   "source": [
    "# #hide\n",
    "# fig, ax = plt.subplots(figsize=(15, 8))\n",
    "\n",
    "# def draw_barchart(current_day):\n",
    "#     dff = g[g['day'].eq(current_day)].sort_values(by='value', ascending=True).tail(10)\n",
    "#     ax.clear()\n",
    "#     ax.barh(dff['name'], dff['value'], color=[colors[group_lk[x]] for x in dff['name']])\n",
    "#     dx = dff['value'].max() / 200\n",
    "    \n",
    "#     for i, (value, name) in enumerate(zip(dff['value'], dff['name'])):\n",
    "#         ax.text(value-dx, i,     name,           size=14, weight=600, ha='right', va='bottom')\n",
    "#         ax.text(value-dx, i-.25, group_lk[name], size=10, color='#444444', ha='right', va='baseline')\n",
    "#         ax.text(value+dx, i,     f'{value:,.0f}',  size=14, ha='left',  va='center')\n",
    "#     ax.text(1, 0.4, current_day, transform=ax.transAxes, color='#777777', size=46, ha='right', weight=800)\n",
    "#     ax.text(0, 1.06, 'Population (thousands)', transform=ax.transAxes, size=12, color='#777777')\n",
    "#     ax.xaxis.set_major_formatter(ticker.StrMethodFormatter('{x:,.0f}'))\n",
    "#     ax.xaxis.set_ticks_position('top')\n",
    "#     ax.tick_params(axis='x', colors='#777777', labelsize=12)\n",
    "#     ax.set_yticks([])\n",
    "#     ax.margins(0, 0.01)\n",
    "#     ax.grid(which='major', axis='x', linestyle='-')\n",
    "#     ax.set_axisbelow(True)\n",
    "    \n",
    "#     ax.text(0, 1.15, 'Coronavirus',\n",
    "#             transform=ax.transAxes, size=24, weight=600, ha='left', va='top')\n",
    "# #     ax.text(1, 0, 'by @pratapvardhan; credit @jburnmurdoch', transform=ax.transAxes, color='#777777', ha='right',\n",
    "# #             bbox=dict(facecolor='white', alpha=0.8, edgecolor='white'))\n",
    "#     plt.box(False)"
   ]
  },
  {
   "cell_type": "code",
   "execution_count": 42,
   "id": "sexual-wages",
   "metadata": {
    "execution": {
     "iopub.execute_input": "2021-08-15T00:22:33.506293Z",
     "iopub.status.busy": "2021-08-15T00:22:33.505651Z",
     "iopub.status.idle": "2021-08-15T00:22:33.506952Z",
     "shell.execute_reply": "2021-08-15T00:22:33.507502Z"
    },
    "papermill": {
     "duration": 0.045682,
     "end_time": "2021-08-15T00:22:33.507640",
     "exception": false,
     "start_time": "2021-08-15T00:22:33.461958",
     "status": "completed"
    },
    "tags": []
   },
   "outputs": [],
   "source": [
    "# #hide_input\n",
    "# fig, ax = plt.subplots(figsize=(15, 8))\n",
    "# animator = animation.FuncAnimation(fig, draw_barchart, frames=range(g.day.values.min(), g.day.values.max()))\n",
    "# HTML(animator.to_jshtml())\n",
    "# # or use animator.to_html5_video() or animator.save() "
   ]
  },
  {
   "cell_type": "code",
   "execution_count": null,
   "id": "australian-container",
   "metadata": {
    "papermill": {
     "duration": 0.036618,
     "end_time": "2021-08-15T00:22:33.582424",
     "exception": false,
     "start_time": "2021-08-15T00:22:33.545806",
     "status": "completed"
    },
    "tags": []
   },
   "outputs": [],
   "source": []
  },
  {
   "cell_type": "code",
   "execution_count": null,
   "id": "mediterranean-pontiac",
   "metadata": {
    "papermill": {
     "duration": 0.037608,
     "end_time": "2021-08-15T00:22:33.657467",
     "exception": false,
     "start_time": "2021-08-15T00:22:33.619859",
     "status": "completed"
    },
    "tags": []
   },
   "outputs": [],
   "source": []
  },
  {
   "cell_type": "code",
   "execution_count": null,
   "id": "aging-legislature",
   "metadata": {
    "papermill": {
     "duration": 0.03933,
     "end_time": "2021-08-15T00:22:33.733779",
     "exception": false,
     "start_time": "2021-08-15T00:22:33.694449",
     "status": "completed"
    },
    "tags": []
   },
   "outputs": [],
   "source": []
  }
 ],
 "metadata": {
  "kernelspec": {
   "display_name": "Python 3",
   "language": "python",
   "name": "python3"
  },
  "language_info": {
   "codemirror_mode": {
    "name": "ipython",
    "version": 3
   },
   "file_extension": ".py",
   "mimetype": "text/x-python",
   "name": "python",
   "nbconvert_exporter": "python",
   "pygments_lexer": "ipython3",
   "version": "3.6.14"
  },
  "papermill": {
   "duration": 7.059202,
   "end_time": "2021-08-15T00:22:34.083819",
   "environment_variables": {},
   "exception": null,
   "input_path": "2020-03-21-covid19exp.ipynb",
   "output_path": "2020-03-21-covid19exp.ipynb",
   "parameters": {},
   "start_time": "2021-08-15T00:22:27.024617",
   "version": "2.0.0"
  }
 },
 "nbformat": 4,
 "nbformat_minor": 5
}