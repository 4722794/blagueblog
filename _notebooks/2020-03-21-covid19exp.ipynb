{
 "cells": [
  {
   "cell_type": "markdown",
   "metadata": {
    "papermill": {
     "duration": 0.038364,
     "end_time": "2020-12-14T12:07:47.300105",
     "exception": false,
     "start_time": "2020-12-14T12:07:47.261741",
     "status": "completed"
    },
    "tags": []
   },
   "source": [
    "# COVID-19 Case Race\n",
    "> A race chart to see rising cases around the world\n",
    "\n",
    "- author: Hargun Oberoi\n",
    "- image: images/covid-overview.png\n",
    "- hide: false\n",
    "- badges: false"
   ]
  },
  {
   "cell_type": "code",
   "execution_count": 1,
   "metadata": {
    "execution": {
     "iopub.execute_input": "2020-12-14T12:07:47.381594Z",
     "iopub.status.busy": "2020-12-14T12:07:47.380906Z",
     "iopub.status.idle": "2020-12-14T12:07:47.747675Z",
     "shell.execute_reply": "2020-12-14T12:07:47.746856Z"
    },
    "papermill": {
     "duration": 0.411522,
     "end_time": "2020-12-14T12:07:47.747873",
     "exception": false,
     "start_time": "2020-12-14T12:07:47.336351",
     "status": "completed"
    },
    "tags": []
   },
   "outputs": [],
   "source": [
    "#hide\n",
    "import numpy as np\n",
    "import pandas as pd\n",
    "from jinja2 import Template\n",
    "from IPython.display import HTML"
   ]
  },
  {
   "cell_type": "code",
   "execution_count": 2,
   "metadata": {
    "execution": {
     "iopub.execute_input": "2020-12-14T12:07:47.824200Z",
     "iopub.status.busy": "2020-12-14T12:07:47.823527Z",
     "iopub.status.idle": "2020-12-14T12:07:47.826202Z",
     "shell.execute_reply": "2020-12-14T12:07:47.825627Z"
    },
    "papermill": {
     "duration": 0.042631,
     "end_time": "2020-12-14T12:07:47.826335",
     "exception": false,
     "start_time": "2020-12-14T12:07:47.783704",
     "status": "completed"
    },
    "tags": []
   },
   "outputs": [],
   "source": [
    "#hide\n",
    "\n",
    "# FETCH\n",
    "base_url = 'https://raw.githubusercontent.com/pratapvardhan/notebooks/master/covid19/'\n",
    "paths = {\n",
    "    'mapping': base_url + 'mapping_countries.csv',\n",
    "    'overview': base_url + 'overview.tpl'\n",
    "}"
   ]
  },
  {
   "cell_type": "code",
   "execution_count": 3,
   "metadata": {
    "execution": {
     "iopub.execute_input": "2020-12-14T12:07:47.911214Z",
     "iopub.status.busy": "2020-12-14T12:07:47.910281Z",
     "iopub.status.idle": "2020-12-14T12:07:47.912912Z",
     "shell.execute_reply": "2020-12-14T12:07:47.913538Z"
    },
    "papermill": {
     "duration": 0.051483,
     "end_time": "2020-12-14T12:07:47.913821",
     "exception": false,
     "start_time": "2020-12-14T12:07:47.862338",
     "status": "completed"
    },
    "tags": []
   },
   "outputs": [
    {
     "data": {
      "text/plain": [
       "'https://raw.githubusercontent.com/pratapvardhan/notebooks/master/covid19/mapping_countries.csv'"
      ]
     },
     "execution_count": 3,
     "metadata": {},
     "output_type": "execute_result"
    }
   ],
   "source": [
    "#hide\n",
    "paths['mapping']"
   ]
  },
  {
   "cell_type": "code",
   "execution_count": 4,
   "metadata": {
    "execution": {
     "iopub.execute_input": "2020-12-14T12:07:47.994575Z",
     "iopub.status.busy": "2020-12-14T12:07:47.993864Z",
     "iopub.status.idle": "2020-12-14T12:07:47.995840Z",
     "shell.execute_reply": "2020-12-14T12:07:47.996426Z"
    },
    "papermill": {
     "duration": 0.047201,
     "end_time": "2020-12-14T12:07:47.996586",
     "exception": false,
     "start_time": "2020-12-14T12:07:47.949385",
     "status": "completed"
    },
    "tags": []
   },
   "outputs": [],
   "source": [
    "#hide\n",
    "def get_mappings(url):\n",
    "    df = pd.read_csv(url)\n",
    "    return {\n",
    "        'df': df,\n",
    "        'replace.country': dict(df.dropna(subset=['Name']).set_index('Country')['Name']),\n",
    "        'map.continent': dict(df.set_index('Name')['Continent'])\n",
    "    }"
   ]
  },
  {
   "cell_type": "code",
   "execution_count": 5,
   "metadata": {
    "execution": {
     "iopub.execute_input": "2020-12-14T12:07:48.074542Z",
     "iopub.status.busy": "2020-12-14T12:07:48.073817Z",
     "iopub.status.idle": "2020-12-14T12:07:48.174604Z",
     "shell.execute_reply": "2020-12-14T12:07:48.173444Z"
    },
    "papermill": {
     "duration": 0.142518,
     "end_time": "2020-12-14T12:07:48.174757",
     "exception": false,
     "start_time": "2020-12-14T12:07:48.032239",
     "status": "completed"
    },
    "tags": []
   },
   "outputs": [],
   "source": [
    "#hide\n",
    "mapping = get_mappings(paths['mapping'])"
   ]
  },
  {
   "cell_type": "code",
   "execution_count": 6,
   "metadata": {
    "execution": {
     "iopub.execute_input": "2020-12-14T12:07:48.252080Z",
     "iopub.status.busy": "2020-12-14T12:07:48.251419Z",
     "iopub.status.idle": "2020-12-14T12:07:48.254035Z",
     "shell.execute_reply": "2020-12-14T12:07:48.253377Z"
    },
    "papermill": {
     "duration": 0.043164,
     "end_time": "2020-12-14T12:07:48.254206",
     "exception": false,
     "start_time": "2020-12-14T12:07:48.211042",
     "status": "completed"
    },
    "tags": []
   },
   "outputs": [],
   "source": [
    "#hide\n",
    "def get_template(path):\n",
    "    from urllib.parse import urlparse\n",
    "    if bool(urlparse(path).netloc):\n",
    "        from urllib.request import urlopen\n",
    "        return urlopen(path).read().decode('utf8')\n",
    "    return open(path).read()"
   ]
  },
  {
   "cell_type": "code",
   "execution_count": 7,
   "metadata": {
    "execution": {
     "iopub.execute_input": "2020-12-14T12:07:48.329907Z",
     "iopub.status.busy": "2020-12-14T12:07:48.329224Z",
     "iopub.status.idle": "2020-12-14T12:07:48.332278Z",
     "shell.execute_reply": "2020-12-14T12:07:48.331706Z"
    },
    "papermill": {
     "duration": 0.042979,
     "end_time": "2020-12-14T12:07:48.332449",
     "exception": false,
     "start_time": "2020-12-14T12:07:48.289470",
     "status": "completed"
    },
    "tags": []
   },
   "outputs": [],
   "source": [
    "#hide\n",
    "def get_frame(name):\n",
    "    url = (\n",
    "        'https://raw.githubusercontent.com/CSSEGISandData/COVID-19/master/csse_covid_19_data/'\n",
    "        f'csse_covid_19_time_series/time_series_covid19_{name}_global.csv')\n",
    "    df = pd.read_csv(url)\n",
    "    # rename countries\n",
    "    df['Country/Region'] = df['Country/Region'].replace(mapping['replace.country'])\n",
    "    return df"
   ]
  },
  {
   "cell_type": "code",
   "execution_count": 8,
   "metadata": {
    "execution": {
     "iopub.execute_input": "2020-12-14T12:07:48.411921Z",
     "iopub.status.busy": "2020-12-14T12:07:48.411212Z",
     "iopub.status.idle": "2020-12-14T12:07:48.413179Z",
     "shell.execute_reply": "2020-12-14T12:07:48.413795Z"
    },
    "papermill": {
     "duration": 0.044958,
     "end_time": "2020-12-14T12:07:48.413953",
     "exception": false,
     "start_time": "2020-12-14T12:07:48.368995",
     "status": "completed"
    },
    "tags": []
   },
   "outputs": [],
   "source": [
    "#hide\n",
    "def get_dates(df):\n",
    "    dt_cols = df.columns[~df.columns.isin(['Province/State', 'Country/Region', 'Lat', 'Long'])]\n",
    "    LAST_DATE_I = -1\n",
    "    # sometimes last column may be empty, then go backwards\n",
    "    for i in range(-1, -len(dt_cols), -1):\n",
    "        if not df[dt_cols[i]].fillna(0).eq(0).all():\n",
    "            LAST_DATE_I = i\n",
    "            break\n",
    "    return LAST_DATE_I, dt_cols"
   ]
  },
  {
   "cell_type": "code",
   "execution_count": 9,
   "metadata": {
    "execution": {
     "iopub.execute_input": "2020-12-14T12:07:48.490933Z",
     "iopub.status.busy": "2020-12-14T12:07:48.490205Z",
     "iopub.status.idle": "2020-12-14T12:07:48.722368Z",
     "shell.execute_reply": "2020-12-14T12:07:48.721127Z"
    },
    "papermill": {
     "duration": 0.273347,
     "end_time": "2020-12-14T12:07:48.722544",
     "exception": false,
     "start_time": "2020-12-14T12:07:48.449197",
     "status": "completed"
    },
    "tags": []
   },
   "outputs": [],
   "source": [
    "#hide\n",
    "COL_REGION = 'Country/Region'\n",
    "# Confirmed, Recovered, Deaths\n",
    "df = get_frame('confirmed')\n",
    "# dft_: timeseries, dfc_: today country agg\n",
    "dft_cases = df\n",
    "dft_deaths = get_frame('deaths')\n",
    "dft_recovered = get_frame('recovered')\n",
    "LAST_DATE_I, dt_cols = get_dates(df)"
   ]
  },
  {
   "cell_type": "code",
   "execution_count": 10,
   "metadata": {
    "execution": {
     "iopub.execute_input": "2020-12-14T12:07:48.799823Z",
     "iopub.status.busy": "2020-12-14T12:07:48.799080Z",
     "iopub.status.idle": "2020-12-14T12:07:48.800730Z",
     "shell.execute_reply": "2020-12-14T12:07:48.801366Z"
    },
    "papermill": {
     "duration": 0.042868,
     "end_time": "2020-12-14T12:07:48.801516",
     "exception": false,
     "start_time": "2020-12-14T12:07:48.758648",
     "status": "completed"
    },
    "tags": []
   },
   "outputs": [],
   "source": [
    "#hide\n",
    "LAST_DATE_I, dt_cols = get_dates(df)\n",
    "dt_today =dt_cols[LAST_DATE_I]\n",
    "# dt_5day = dt_cols[LAST_DATE_I - 5]\n",
    "dt_yday = dt_cols[LAST_DATE_I - 1]"
   ]
  },
  {
   "cell_type": "code",
   "execution_count": 11,
   "metadata": {
    "execution": {
     "iopub.execute_input": "2020-12-14T12:07:48.888602Z",
     "iopub.status.busy": "2020-12-14T12:07:48.887810Z",
     "iopub.status.idle": "2020-12-14T12:07:48.897398Z",
     "shell.execute_reply": "2020-12-14T12:07:48.896415Z"
    },
    "papermill": {
     "duration": 0.060097,
     "end_time": "2020-12-14T12:07:48.897577",
     "exception": false,
     "start_time": "2020-12-14T12:07:48.837480",
     "status": "completed"
    },
    "tags": []
   },
   "outputs": [],
   "source": [
    "#hide\n",
    "dfc_cases = dft_cases.groupby(COL_REGION)[dt_today].sum()\n",
    "dfc_deaths = dft_deaths.groupby(COL_REGION)[dt_today].sum()\n",
    "# dfp_cases = dft_cases.groupby(COL_REGION)[dt_5day].sum()\n",
    "# dfp_deaths = dft_deaths.groupby(COL_REGION)[dt_5day].sum()\n",
    "dfp_cases = dft_cases.groupby(COL_REGION)[dt_yday].sum()\n",
    "dfp_deaths = dft_deaths.groupby(COL_REGION)[dt_yday].sum()"
   ]
  },
  {
   "cell_type": "code",
   "execution_count": 12,
   "metadata": {
    "execution": {
     "iopub.execute_input": "2020-12-14T12:07:49.295984Z",
     "iopub.status.busy": "2020-12-14T12:07:49.295299Z",
     "iopub.status.idle": "2020-12-14T12:07:49.300679Z",
     "shell.execute_reply": "2020-12-14T12:07:49.300106Z"
    },
    "papermill": {
     "duration": 0.365832,
     "end_time": "2020-12-14T12:07:49.300823",
     "exception": false,
     "start_time": "2020-12-14T12:07:48.934991",
     "status": "completed"
    },
    "tags": []
   },
   "outputs": [],
   "source": [
    "#hide\n",
    "df_table = (pd.DataFrame(dict(Cases = dfc_cases, Deaths = dfc_deaths, PCases = dfp_cases, PDeaths = dfp_deaths))\n",
    "            .sort_values(by = ['Cases','Deaths'], ascending = [False, False])\n",
    "            .reset_index())"
   ]
  },
  {
   "cell_type": "code",
   "execution_count": 13,
   "metadata": {
    "execution": {
     "iopub.execute_input": "2020-12-14T12:07:49.880819Z",
     "iopub.status.busy": "2020-12-14T12:07:49.880029Z",
     "iopub.status.idle": "2020-12-14T12:07:49.888829Z",
     "shell.execute_reply": "2020-12-14T12:07:49.889387Z"
    },
    "papermill": {
     "duration": 0.066615,
     "end_time": "2020-12-14T12:07:49.889549",
     "exception": false,
     "start_time": "2020-12-14T12:07:49.822934",
     "status": "completed"
    },
    "tags": []
   },
   "outputs": [
    {
     "data": {
      "text/html": [
       "<div>\n",
       "<style scoped>\n",
       "    .dataframe tbody tr th:only-of-type {\n",
       "        vertical-align: middle;\n",
       "    }\n",
       "\n",
       "    .dataframe tbody tr th {\n",
       "        vertical-align: top;\n",
       "    }\n",
       "\n",
       "    .dataframe thead th {\n",
       "        text-align: right;\n",
       "    }\n",
       "</style>\n",
       "<table border=\"1\" class=\"dataframe\">\n",
       "  <thead>\n",
       "    <tr style=\"text-align: right;\">\n",
       "      <th></th>\n",
       "      <th>Country/Region</th>\n",
       "      <th>Cases</th>\n",
       "      <th>Deaths</th>\n",
       "      <th>PCases</th>\n",
       "      <th>PDeaths</th>\n",
       "      <th>Cases (+)</th>\n",
       "      <th>Deaths (+)</th>\n",
       "      <th>Fatality Rate</th>\n",
       "      <th>Continent</th>\n",
       "    </tr>\n",
       "  </thead>\n",
       "  <tbody>\n",
       "    <tr>\n",
       "      <th>0</th>\n",
       "      <td>US</td>\n",
       "      <td>16253219</td>\n",
       "      <td>299168</td>\n",
       "      <td>16062299</td>\n",
       "      <td>297779</td>\n",
       "      <td>190920</td>\n",
       "      <td>1389</td>\n",
       "      <td>1.84</td>\n",
       "      <td>North America</td>\n",
       "    </tr>\n",
       "    <tr>\n",
       "      <th>1</th>\n",
       "      <td>India</td>\n",
       "      <td>9884100</td>\n",
       "      <td>143355</td>\n",
       "      <td>9857029</td>\n",
       "      <td>143019</td>\n",
       "      <td>27071</td>\n",
       "      <td>336</td>\n",
       "      <td>1.45</td>\n",
       "      <td>Asia</td>\n",
       "    </tr>\n",
       "    <tr>\n",
       "      <th>2</th>\n",
       "      <td>Brazil</td>\n",
       "      <td>6901952</td>\n",
       "      <td>181402</td>\n",
       "      <td>6880127</td>\n",
       "      <td>181123</td>\n",
       "      <td>21825</td>\n",
       "      <td>279</td>\n",
       "      <td>2.63</td>\n",
       "      <td>South America</td>\n",
       "    </tr>\n",
       "    <tr>\n",
       "      <th>3</th>\n",
       "      <td>Russia</td>\n",
       "      <td>2629699</td>\n",
       "      <td>46404</td>\n",
       "      <td>2602048</td>\n",
       "      <td>45923</td>\n",
       "      <td>27651</td>\n",
       "      <td>481</td>\n",
       "      <td>1.76</td>\n",
       "      <td>Europe</td>\n",
       "    </tr>\n",
       "    <tr>\n",
       "      <th>4</th>\n",
       "      <td>France</td>\n",
       "      <td>2430612</td>\n",
       "      <td>58015</td>\n",
       "      <td>2405255</td>\n",
       "      <td>57671</td>\n",
       "      <td>25357</td>\n",
       "      <td>344</td>\n",
       "      <td>2.39</td>\n",
       "      <td>Europe</td>\n",
       "    </tr>\n",
       "  </tbody>\n",
       "</table>\n",
       "</div>"
      ],
      "text/plain": [
       "  Country/Region     Cases  Deaths    PCases  PDeaths  Cases (+)  Deaths (+)  \\\n",
       "0             US  16253219  299168  16062299   297779     190920        1389   \n",
       "1          India   9884100  143355   9857029   143019      27071         336   \n",
       "2         Brazil   6901952  181402   6880127   181123      21825         279   \n",
       "3         Russia   2629699   46404   2602048    45923      27651         481   \n",
       "4         France   2430612   58015   2405255    57671      25357         344   \n",
       "\n",
       "   Fatality Rate      Continent  \n",
       "0           1.84  North America  \n",
       "1           1.45           Asia  \n",
       "2           2.63  South America  \n",
       "3           1.76         Europe  \n",
       "4           2.39         Europe  "
      ]
     },
     "execution_count": 13,
     "metadata": {},
     "output_type": "execute_result"
    }
   ],
   "source": [
    "#hide\n",
    "for c in 'Cases, Deaths'.split(', '):\n",
    "    df_table[f'{c} (+)'] = (df_table[c] - df_table[f'P{c}']).clip(0)\n",
    "    #Clip ça veut dire, les chiffres negatif sont interdit\n",
    "df_table['Fatality Rate'] = (100* df_table['Deaths']/ df_table['Cases']).round(2)\n",
    "df_table['Continent'] = df_table['Country/Region'].map(mapping['map.continent'])\n",
    "df_table.head(5)"
   ]
  },
  {
   "cell_type": "code",
   "execution_count": 14,
   "metadata": {
    "execution": {
     "iopub.execute_input": "2020-12-14T12:07:49.969902Z",
     "iopub.status.busy": "2020-12-14T12:07:49.969202Z",
     "iopub.status.idle": "2020-12-14T12:07:49.971257Z",
     "shell.execute_reply": "2020-12-14T12:07:49.971901Z"
    },
    "papermill": {
     "duration": 0.045603,
     "end_time": "2020-12-14T12:07:49.972067",
     "exception": false,
     "start_time": "2020-12-14T12:07:49.926464",
     "status": "completed"
    },
    "tags": []
   },
   "outputs": [],
   "source": [
    "#hide\n",
    "#delete problematic countries from table\n",
    "df_table = df_table[~df_table['Country/Region'].isin(['Cape Verde', 'Cruise Ship', 'Kosovo'])]"
   ]
  },
  {
   "cell_type": "code",
   "execution_count": 15,
   "metadata": {
    "execution": {
     "iopub.execute_input": "2020-12-14T12:07:50.054166Z",
     "iopub.status.busy": "2020-12-14T12:07:50.053475Z",
     "iopub.status.idle": "2020-12-14T12:07:50.076429Z",
     "shell.execute_reply": "2020-12-14T12:07:50.075858Z"
    },
    "papermill": {
     "duration": 0.068486,
     "end_time": "2020-12-14T12:07:50.076573",
     "exception": false,
     "start_time": "2020-12-14T12:07:50.008087",
     "status": "completed"
    },
    "tags": []
   },
   "outputs": [
    {
     "data": {
      "text/html": [
       "<div>\n",
       "<style scoped>\n",
       "    .dataframe tbody tr th:only-of-type {\n",
       "        vertical-align: middle;\n",
       "    }\n",
       "\n",
       "    .dataframe tbody tr th {\n",
       "        vertical-align: top;\n",
       "    }\n",
       "\n",
       "    .dataframe thead th {\n",
       "        text-align: right;\n",
       "    }\n",
       "</style>\n",
       "<table border=\"1\" class=\"dataframe\">\n",
       "  <thead>\n",
       "    <tr style=\"text-align: right;\">\n",
       "      <th></th>\n",
       "      <th>Country/Region</th>\n",
       "      <th>Cases</th>\n",
       "      <th>Deaths</th>\n",
       "      <th>PCases</th>\n",
       "      <th>PDeaths</th>\n",
       "      <th>Cases (+)</th>\n",
       "      <th>Deaths (+)</th>\n",
       "      <th>Fatality Rate</th>\n",
       "      <th>Continent</th>\n",
       "    </tr>\n",
       "  </thead>\n",
       "  <tbody>\n",
       "    <tr>\n",
       "      <th>0</th>\n",
       "      <td>US</td>\n",
       "      <td>16253219</td>\n",
       "      <td>299168</td>\n",
       "      <td>16062299</td>\n",
       "      <td>297779</td>\n",
       "      <td>190920</td>\n",
       "      <td>1389</td>\n",
       "      <td>1.8</td>\n",
       "      <td>North America</td>\n",
       "    </tr>\n",
       "    <tr>\n",
       "      <th>1</th>\n",
       "      <td>India</td>\n",
       "      <td>9884100</td>\n",
       "      <td>143355</td>\n",
       "      <td>9857029</td>\n",
       "      <td>143019</td>\n",
       "      <td>27071</td>\n",
       "      <td>336</td>\n",
       "      <td>1.5</td>\n",
       "      <td>Asia</td>\n",
       "    </tr>\n",
       "    <tr>\n",
       "      <th>2</th>\n",
       "      <td>Brazil</td>\n",
       "      <td>6901952</td>\n",
       "      <td>181402</td>\n",
       "      <td>6880127</td>\n",
       "      <td>181123</td>\n",
       "      <td>21825</td>\n",
       "      <td>279</td>\n",
       "      <td>2.6</td>\n",
       "      <td>South America</td>\n",
       "    </tr>\n",
       "    <tr>\n",
       "      <th>3</th>\n",
       "      <td>Russia</td>\n",
       "      <td>2629699</td>\n",
       "      <td>46404</td>\n",
       "      <td>2602048</td>\n",
       "      <td>45923</td>\n",
       "      <td>27651</td>\n",
       "      <td>481</td>\n",
       "      <td>1.8</td>\n",
       "      <td>Europe</td>\n",
       "    </tr>\n",
       "    <tr>\n",
       "      <th>4</th>\n",
       "      <td>France</td>\n",
       "      <td>2430612</td>\n",
       "      <td>58015</td>\n",
       "      <td>2405255</td>\n",
       "      <td>57671</td>\n",
       "      <td>25357</td>\n",
       "      <td>344</td>\n",
       "      <td>2.4</td>\n",
       "      <td>Europe</td>\n",
       "    </tr>\n",
       "  </tbody>\n",
       "</table>\n",
       "</div>"
      ],
      "text/plain": [
       "  Country/Region     Cases  Deaths    PCases  PDeaths  Cases (+)  Deaths (+)  \\\n",
       "0             US  16253219  299168  16062299   297779     190920        1389   \n",
       "1          India   9884100  143355   9857029   143019      27071         336   \n",
       "2         Brazil   6901952  181402   6880127   181123      21825         279   \n",
       "3         Russia   2629699   46404   2602048    45923      27651         481   \n",
       "4         France   2430612   58015   2405255    57671      25357         344   \n",
       "\n",
       "   Fatality Rate      Continent  \n",
       "0            1.8  North America  \n",
       "1            1.5           Asia  \n",
       "2            2.6  South America  \n",
       "3            1.8         Europe  \n",
       "4            2.4         Europe  "
      ]
     },
     "execution_count": 15,
     "metadata": {},
     "output_type": "execute_result"
    }
   ],
   "source": [
    "#hide\n",
    "df_table = (pd.DataFrame(dict(Cases=dfc_cases, Deaths=dfc_deaths, PCases=dfp_cases, PDeaths=dfp_deaths))\n",
    "             .sort_values(by=['Cases', 'Deaths'], ascending=[False, False])\n",
    "             .reset_index())\n",
    "df_table.rename(columns={'index': 'Country/Region'}, inplace=True)\n",
    "for c in 'Cases, Deaths'.split(', '):\n",
    "    df_table[f'{c} (+)'] = (df_table[c] - df_table[f'P{c}']).clip(0)  # DATA BUG\n",
    "df_table['Fatality Rate'] = (100 * df_table['Deaths'] / df_table['Cases']).round(1)\n",
    "df_table['Continent'] = df_table['Country/Region'].map(mapping['map.continent'])\n",
    "df_table.head(5)"
   ]
  },
  {
   "cell_type": "code",
   "execution_count": 16,
   "metadata": {
    "execution": {
     "iopub.execute_input": "2020-12-14T12:07:50.155904Z",
     "iopub.status.busy": "2020-12-14T12:07:50.155196Z",
     "iopub.status.idle": "2020-12-14T12:07:50.158465Z",
     "shell.execute_reply": "2020-12-14T12:07:50.159154Z"
    },
    "papermill": {
     "duration": 0.04674,
     "end_time": "2020-12-14T12:07:50.159309",
     "exception": false,
     "start_time": "2020-12-14T12:07:50.112569",
     "status": "completed"
    },
    "tags": []
   },
   "outputs": [],
   "source": [
    "#hide\n",
    "#delete problematic countries from table\n",
    "df_table = df_table[~df_table['Country/Region'].isin(['Cape Verde', 'Cruise Ship', 'Kosovo'])]"
   ]
  },
  {
   "cell_type": "code",
   "execution_count": 17,
   "metadata": {
    "execution": {
     "iopub.execute_input": "2020-12-14T12:07:50.253792Z",
     "iopub.status.busy": "2020-12-14T12:07:50.253056Z",
     "iopub.status.idle": "2020-12-14T12:07:50.255237Z",
     "shell.execute_reply": "2020-12-14T12:07:50.255809Z"
    },
    "papermill": {
     "duration": 0.061403,
     "end_time": "2020-12-14T12:07:50.255990",
     "exception": false,
     "start_time": "2020-12-14T12:07:50.194587",
     "status": "completed"
    },
    "tags": []
   },
   "outputs": [],
   "source": [
    "#hide\n",
    "metrics = [df_table.columns[index] for index in [1,2,5,6]]\n",
    "# s_china = df_table[df_table['Country/Region'].eq('China')][metrics].sum().add_prefix('China ')\n",
    "s_us = df_table[df_table['Country/Region'].eq('US')][metrics].sum().add_prefix('US ')\n",
    "s_eu = df_table[df_table['Continent'].eq('Europe')][metrics].sum().add_prefix('EU ')\n",
    "s_ind = df_table[df_table['Country/Region'].eq('India')][metrics].sum().add_prefix('India ')\n",
    "summary = {'updated': pd.to_datetime(dt_today), 'since': pd.to_datetime(dt_yday)}\n",
    "summary = {'updated': pd.to_datetime(dt_today), 'since': pd.to_datetime(dt_yday)}\n",
    "summary = {**summary, **df_table[metrics].sum(), **s_ind, **s_us, **s_eu}"
   ]
  },
  {
   "cell_type": "code",
   "execution_count": 18,
   "metadata": {
    "execution": {
     "iopub.execute_input": "2020-12-14T12:07:50.334707Z",
     "iopub.status.busy": "2020-12-14T12:07:50.334044Z",
     "iopub.status.idle": "2020-12-14T12:07:50.345840Z",
     "shell.execute_reply": "2020-12-14T12:07:50.345226Z"
    },
    "papermill": {
     "duration": 0.052366,
     "end_time": "2020-12-14T12:07:50.345980",
     "exception": false,
     "start_time": "2020-12-14T12:07:50.293614",
     "status": "completed"
    },
    "tags": []
   },
   "outputs": [],
   "source": [
    "#hide\n",
    "dft_ct_new_cases = dft_cases.groupby(COL_REGION)[dt_cols].sum().diff(axis=1).fillna(0).astype(int)"
   ]
  },
  {
   "cell_type": "code",
   "execution_count": 19,
   "metadata": {
    "execution": {
     "iopub.execute_input": "2020-12-14T12:07:50.429670Z",
     "iopub.status.busy": "2020-12-14T12:07:50.428908Z",
     "iopub.status.idle": "2020-12-14T12:07:50.430997Z",
     "shell.execute_reply": "2020-12-14T12:07:50.431608Z"
    },
    "papermill": {
     "duration": 0.044492,
     "end_time": "2020-12-14T12:07:50.431778",
     "exception": false,
     "start_time": "2020-12-14T12:07:50.387286",
     "status": "completed"
    },
    "tags": []
   },
   "outputs": [],
   "source": [
    "#hide\n",
    "everydaycases = dft_ct_new_cases.cumsum(axis=1)"
   ]
  },
  {
   "cell_type": "code",
   "execution_count": 20,
   "metadata": {
    "execution": {
     "iopub.execute_input": "2020-12-14T12:07:50.510482Z",
     "iopub.status.busy": "2020-12-14T12:07:50.509797Z",
     "iopub.status.idle": "2020-12-14T12:07:52.629618Z",
     "shell.execute_reply": "2020-12-14T12:07:52.629031Z"
    },
    "papermill": {
     "duration": 2.16272,
     "end_time": "2020-12-14T12:07:52.629792",
     "exception": false,
     "start_time": "2020-12-14T12:07:50.467072",
     "status": "completed"
    },
    "tags": []
   },
   "outputs": [],
   "source": [
    "#hide\n",
    "import pandas as pd\n",
    "import matplotlib.pyplot as plt\n",
    "import matplotlib.ticker as ticker\n",
    "import matplotlib.animation as animation\n",
    "from IPython.display import HTML"
   ]
  },
  {
   "cell_type": "code",
   "execution_count": 21,
   "metadata": {
    "execution": {
     "iopub.execute_input": "2020-12-14T12:07:52.709438Z",
     "iopub.status.busy": "2020-12-14T12:07:52.708762Z",
     "iopub.status.idle": "2020-12-14T12:07:52.713605Z",
     "shell.execute_reply": "2020-12-14T12:07:52.714156Z"
    },
    "papermill": {
     "duration": 0.04616,
     "end_time": "2020-12-14T12:07:52.714312",
     "exception": false,
     "start_time": "2020-12-14T12:07:52.668152",
     "status": "completed"
    },
    "tags": []
   },
   "outputs": [],
   "source": [
    "#hide\n",
    "t = everydaycases.stack()"
   ]
  },
  {
   "cell_type": "code",
   "execution_count": 22,
   "metadata": {
    "execution": {
     "iopub.execute_input": "2020-12-14T12:07:52.790792Z",
     "iopub.status.busy": "2020-12-14T12:07:52.790001Z",
     "iopub.status.idle": "2020-12-14T12:07:52.798028Z",
     "shell.execute_reply": "2020-12-14T12:07:52.797451Z"
    },
    "papermill": {
     "duration": 0.048688,
     "end_time": "2020-12-14T12:07:52.798184",
     "exception": false,
     "start_time": "2020-12-14T12:07:52.749496",
     "status": "completed"
    },
    "tags": []
   },
   "outputs": [],
   "source": [
    "#hide\n",
    "g = t.reset_index(['Country/Region'])"
   ]
  },
  {
   "cell_type": "code",
   "execution_count": 23,
   "metadata": {
    "execution": {
     "iopub.execute_input": "2020-12-14T12:07:52.872939Z",
     "iopub.status.busy": "2020-12-14T12:07:52.872260Z",
     "iopub.status.idle": "2020-12-14T12:07:52.874806Z",
     "shell.execute_reply": "2020-12-14T12:07:52.874252Z"
    },
    "papermill": {
     "duration": 0.041218,
     "end_time": "2020-12-14T12:07:52.874978",
     "exception": false,
     "start_time": "2020-12-14T12:07:52.833760",
     "status": "completed"
    },
    "tags": []
   },
   "outputs": [],
   "source": [
    "#hide\n",
    "g.index.name = 'date'"
   ]
  },
  {
   "cell_type": "code",
   "execution_count": 24,
   "metadata": {
    "execution": {
     "iopub.execute_input": "2020-12-14T12:07:52.954266Z",
     "iopub.status.busy": "2020-12-14T12:07:52.953605Z",
     "iopub.status.idle": "2020-12-14T12:07:52.955807Z",
     "shell.execute_reply": "2020-12-14T12:07:52.956355Z"
    },
    "papermill": {
     "duration": 0.045164,
     "end_time": "2020-12-14T12:07:52.956501",
     "exception": false,
     "start_time": "2020-12-14T12:07:52.911337",
     "status": "completed"
    },
    "tags": []
   },
   "outputs": [],
   "source": [
    "# #hide\n",
    "# g = g.reset_index(['date'])"
   ]
  },
  {
   "cell_type": "code",
   "execution_count": 25,
   "metadata": {
    "execution": {
     "iopub.execute_input": "2020-12-14T12:07:53.033487Z",
     "iopub.status.busy": "2020-12-14T12:07:53.032784Z",
     "iopub.status.idle": "2020-12-14T12:07:53.035341Z",
     "shell.execute_reply": "2020-12-14T12:07:53.034640Z"
    },
    "papermill": {
     "duration": 0.042667,
     "end_time": "2020-12-14T12:07:53.035497",
     "exception": false,
     "start_time": "2020-12-14T12:07:52.992830",
     "status": "completed"
    },
    "tags": []
   },
   "outputs": [],
   "source": [
    "#hide\n",
    "# g.head()"
   ]
  },
  {
   "cell_type": "code",
   "execution_count": 26,
   "metadata": {
    "execution": {
     "iopub.execute_input": "2020-12-14T12:07:53.110910Z",
     "iopub.status.busy": "2020-12-14T12:07:53.110234Z",
     "iopub.status.idle": "2020-12-14T12:07:53.112887Z",
     "shell.execute_reply": "2020-12-14T12:07:53.112310Z"
    },
    "papermill": {
     "duration": 0.042181,
     "end_time": "2020-12-14T12:07:53.113020",
     "exception": false,
     "start_time": "2020-12-14T12:07:53.070839",
     "status": "completed"
    },
    "tags": []
   },
   "outputs": [],
   "source": [
    "#hide\n",
    "# g.columns = ['date','country','cases']"
   ]
  },
  {
   "cell_type": "code",
   "execution_count": 27,
   "metadata": {
    "execution": {
     "iopub.execute_input": "2020-12-14T12:07:53.188317Z",
     "iopub.status.busy": "2020-12-14T12:07:53.187593Z",
     "iopub.status.idle": "2020-12-14T12:07:53.190430Z",
     "shell.execute_reply": "2020-12-14T12:07:53.189852Z"
    },
    "papermill": {
     "duration": 0.04234,
     "end_time": "2020-12-14T12:07:53.190586",
     "exception": false,
     "start_time": "2020-12-14T12:07:53.148246",
     "status": "completed"
    },
    "tags": []
   },
   "outputs": [],
   "source": [
    "#hide\n",
    "# g['continent'] = g.country"
   ]
  },
  {
   "cell_type": "code",
   "execution_count": 28,
   "metadata": {
    "execution": {
     "iopub.execute_input": "2020-12-14T12:07:53.271315Z",
     "iopub.status.busy": "2020-12-14T12:07:53.270031Z",
     "iopub.status.idle": "2020-12-14T12:07:53.272044Z",
     "shell.execute_reply": "2020-12-14T12:07:53.272556Z"
    },
    "papermill": {
     "duration": 0.044506,
     "end_time": "2020-12-14T12:07:53.272722",
     "exception": false,
     "start_time": "2020-12-14T12:07:53.228216",
     "status": "completed"
    },
    "tags": []
   },
   "outputs": [],
   "source": [
    "#hide\n",
    "# cols = list(g.columns.values)"
   ]
  },
  {
   "cell_type": "code",
   "execution_count": 29,
   "metadata": {
    "execution": {
     "iopub.execute_input": "2020-12-14T12:07:53.354691Z",
     "iopub.status.busy": "2020-12-14T12:07:53.353933Z",
     "iopub.status.idle": "2020-12-14T12:07:53.357264Z",
     "shell.execute_reply": "2020-12-14T12:07:53.356654Z"
    },
    "papermill": {
     "duration": 0.046693,
     "end_time": "2020-12-14T12:07:53.357394",
     "exception": false,
     "start_time": "2020-12-14T12:07:53.310701",
     "status": "completed"
    },
    "tags": []
   },
   "outputs": [],
   "source": [
    "#hide\n",
    "# cols.insert(0, cols.pop())"
   ]
  },
  {
   "cell_type": "code",
   "execution_count": 30,
   "metadata": {
    "execution": {
     "iopub.execute_input": "2020-12-14T12:07:53.431981Z",
     "iopub.status.busy": "2020-12-14T12:07:53.431307Z",
     "iopub.status.idle": "2020-12-14T12:07:53.433982Z",
     "shell.execute_reply": "2020-12-14T12:07:53.434707Z"
    },
    "papermill": {
     "duration": 0.041754,
     "end_time": "2020-12-14T12:07:53.434977",
     "exception": false,
     "start_time": "2020-12-14T12:07:53.393223",
     "status": "completed"
    },
    "tags": []
   },
   "outputs": [],
   "source": [
    "#hide\n",
    "# g = g[cols]"
   ]
  },
  {
   "cell_type": "code",
   "execution_count": 31,
   "metadata": {
    "execution": {
     "iopub.execute_input": "2020-12-14T12:07:53.512494Z",
     "iopub.status.busy": "2020-12-14T12:07:53.511806Z",
     "iopub.status.idle": "2020-12-14T12:07:53.514374Z",
     "shell.execute_reply": "2020-12-14T12:07:53.513819Z"
    },
    "papermill": {
     "duration": 0.041552,
     "end_time": "2020-12-14T12:07:53.514531",
     "exception": false,
     "start_time": "2020-12-14T12:07:53.472979",
     "status": "completed"
    },
    "tags": []
   },
   "outputs": [],
   "source": [
    "#hide\n",
    "# g['continent'] = g['continent'].map(mapping['map.continent'])"
   ]
  },
  {
   "cell_type": "code",
   "execution_count": 32,
   "metadata": {
    "execution": {
     "iopub.execute_input": "2020-12-14T12:07:53.589277Z",
     "iopub.status.busy": "2020-12-14T12:07:53.588603Z",
     "iopub.status.idle": "2020-12-14T12:07:53.591263Z",
     "shell.execute_reply": "2020-12-14T12:07:53.590656Z"
    },
    "papermill": {
     "duration": 0.041111,
     "end_time": "2020-12-14T12:07:53.591400",
     "exception": false,
     "start_time": "2020-12-14T12:07:53.550289",
     "status": "completed"
    },
    "tags": []
   },
   "outputs": [],
   "source": [
    "#hide\n",
    "# g.head()"
   ]
  },
  {
   "cell_type": "code",
   "execution_count": 33,
   "metadata": {
    "execution": {
     "iopub.execute_input": "2020-12-14T12:07:53.666176Z",
     "iopub.status.busy": "2020-12-14T12:07:53.665516Z",
     "iopub.status.idle": "2020-12-14T12:07:53.668304Z",
     "shell.execute_reply": "2020-12-14T12:07:53.668951Z"
    },
    "papermill": {
     "duration": 0.042645,
     "end_time": "2020-12-14T12:07:53.669119",
     "exception": false,
     "start_time": "2020-12-14T12:07:53.626474",
     "status": "completed"
    },
    "tags": []
   },
   "outputs": [],
   "source": [
    "# hide\n",
    "# g['date'] = g['date'].astype('datetime64[ns]')"
   ]
  },
  {
   "cell_type": "code",
   "execution_count": 34,
   "metadata": {
    "execution": {
     "iopub.execute_input": "2020-12-14T12:07:53.744689Z",
     "iopub.status.busy": "2020-12-14T12:07:53.743973Z",
     "iopub.status.idle": "2020-12-14T12:07:53.746351Z",
     "shell.execute_reply": "2020-12-14T12:07:53.746884Z"
    },
    "papermill": {
     "duration": 0.043532,
     "end_time": "2020-12-14T12:07:53.747075",
     "exception": false,
     "start_time": "2020-12-14T12:07:53.703543",
     "status": "completed"
    },
    "tags": []
   },
   "outputs": [],
   "source": [
    "#hide\n",
    "# g['date'] = g.date.dt.dayofyear"
   ]
  },
  {
   "cell_type": "code",
   "execution_count": 35,
   "metadata": {
    "execution": {
     "iopub.execute_input": "2020-12-14T12:07:53.847792Z",
     "iopub.status.busy": "2020-12-14T12:07:53.846886Z",
     "iopub.status.idle": "2020-12-14T12:07:53.848652Z",
     "shell.execute_reply": "2020-12-14T12:07:53.849373Z"
    },
    "papermill": {
     "duration": 0.053793,
     "end_time": "2020-12-14T12:07:53.849519",
     "exception": false,
     "start_time": "2020-12-14T12:07:53.795726",
     "status": "completed"
    },
    "tags": []
   },
   "outputs": [],
   "source": [
    "#hide\n",
    "# g = g.rename(columns= {'continent':'group','country':'name','cases':'value'})"
   ]
  },
  {
   "cell_type": "code",
   "execution_count": 36,
   "metadata": {
    "execution": {
     "iopub.execute_input": "2020-12-14T12:07:53.932902Z",
     "iopub.status.busy": "2020-12-14T12:07:53.932251Z",
     "iopub.status.idle": "2020-12-14T12:07:53.934343Z",
     "shell.execute_reply": "2020-12-14T12:07:53.934898Z"
    },
    "papermill": {
     "duration": 0.040977,
     "end_time": "2020-12-14T12:07:53.935063",
     "exception": false,
     "start_time": "2020-12-14T12:07:53.894086",
     "status": "completed"
    },
    "tags": []
   },
   "outputs": [],
   "source": [
    "#hide\n",
    "# cols = ['name','group','day','value']"
   ]
  },
  {
   "cell_type": "code",
   "execution_count": 37,
   "metadata": {
    "execution": {
     "iopub.execute_input": "2020-12-14T12:07:54.009078Z",
     "iopub.status.busy": "2020-12-14T12:07:54.008416Z",
     "iopub.status.idle": "2020-12-14T12:07:54.011305Z",
     "shell.execute_reply": "2020-12-14T12:07:54.010703Z"
    },
    "papermill": {
     "duration": 0.041962,
     "end_time": "2020-12-14T12:07:54.011437",
     "exception": false,
     "start_time": "2020-12-14T12:07:53.969475",
     "status": "completed"
    },
    "tags": []
   },
   "outputs": [],
   "source": [
    "#hide\n",
    "# g.rename(columns= {'date':'day'},inplace = True)"
   ]
  },
  {
   "cell_type": "code",
   "execution_count": 38,
   "metadata": {
    "execution": {
     "iopub.execute_input": "2020-12-14T12:07:54.091183Z",
     "iopub.status.busy": "2020-12-14T12:07:54.090372Z",
     "iopub.status.idle": "2020-12-14T12:07:54.092991Z",
     "shell.execute_reply": "2020-12-14T12:07:54.093625Z"
    },
    "papermill": {
     "duration": 0.045061,
     "end_time": "2020-12-14T12:07:54.093797",
     "exception": false,
     "start_time": "2020-12-14T12:07:54.048736",
     "status": "completed"
    },
    "tags": []
   },
   "outputs": [],
   "source": [
    "#hide\n",
    "# g = g[cols]"
   ]
  },
  {
   "cell_type": "code",
   "execution_count": 39,
   "metadata": {
    "execution": {
     "iopub.execute_input": "2020-12-14T12:07:54.166704Z",
     "iopub.status.busy": "2020-12-14T12:07:54.165998Z",
     "iopub.status.idle": "2020-12-14T12:07:54.168339Z",
     "shell.execute_reply": "2020-12-14T12:07:54.169003Z"
    },
    "papermill": {
     "duration": 0.040455,
     "end_time": "2020-12-14T12:07:54.169157",
     "exception": false,
     "start_time": "2020-12-14T12:07:54.128702",
     "status": "completed"
    },
    "tags": []
   },
   "outputs": [],
   "source": [
    "# #hide\n",
    "# g = g[g.group.notna()]"
   ]
  },
  {
   "cell_type": "code",
   "execution_count": 40,
   "metadata": {
    "execution": {
     "iopub.execute_input": "2020-12-14T12:07:54.243183Z",
     "iopub.status.busy": "2020-12-14T12:07:54.242497Z",
     "iopub.status.idle": "2020-12-14T12:07:54.244515Z",
     "shell.execute_reply": "2020-12-14T12:07:54.245054Z"
    },
    "papermill": {
     "duration": 0.041033,
     "end_time": "2020-12-14T12:07:54.245232",
     "exception": false,
     "start_time": "2020-12-14T12:07:54.204199",
     "status": "completed"
    },
    "tags": []
   },
   "outputs": [],
   "source": [
    "# #hide\n",
    "# colors = dict(zip(\n",
    "#     [\"Oceania\", \"Europe\", \"Asia\", \"South America\", \"Middle East\", \"North America\", \"Africa\"],\n",
    "#     [\"#adb0ff\", \"#ffb3ff\", \"#90d595\", \"#e48381\", \"#aafbff\", \"#f7bb5f\", \"#eafb50\"]\n",
    "# ))\n",
    "# group_lk = g.set_index('name')['group'].to_dict()"
   ]
  },
  {
   "cell_type": "code",
   "execution_count": null,
   "metadata": {
    "papermill": {
     "duration": 0.036011,
     "end_time": "2020-12-14T12:07:54.316117",
     "exception": false,
     "start_time": "2020-12-14T12:07:54.280106",
     "status": "completed"
    },
    "tags": []
   },
   "outputs": [],
   "source": []
  },
  {
   "cell_type": "code",
   "execution_count": 41,
   "metadata": {
    "execution": {
     "iopub.execute_input": "2020-12-14T12:07:54.390427Z",
     "iopub.status.busy": "2020-12-14T12:07:54.389742Z",
     "iopub.status.idle": "2020-12-14T12:07:54.392130Z",
     "shell.execute_reply": "2020-12-14T12:07:54.392762Z"
    },
    "papermill": {
     "duration": 0.042105,
     "end_time": "2020-12-14T12:07:54.392908",
     "exception": false,
     "start_time": "2020-12-14T12:07:54.350803",
     "status": "completed"
    },
    "tags": []
   },
   "outputs": [],
   "source": [
    "# #hide\n",
    "# fig, ax = plt.subplots(figsize=(15, 8))\n",
    "\n",
    "# def draw_barchart(current_day):\n",
    "#     dff = g[g['day'].eq(current_day)].sort_values(by='value', ascending=True).tail(10)\n",
    "#     ax.clear()\n",
    "#     ax.barh(dff['name'], dff['value'], color=[colors[group_lk[x]] for x in dff['name']])\n",
    "#     dx = dff['value'].max() / 200\n",
    "    \n",
    "#     for i, (value, name) in enumerate(zip(dff['value'], dff['name'])):\n",
    "#         ax.text(value-dx, i,     name,           size=14, weight=600, ha='right', va='bottom')\n",
    "#         ax.text(value-dx, i-.25, group_lk[name], size=10, color='#444444', ha='right', va='baseline')\n",
    "#         ax.text(value+dx, i,     f'{value:,.0f}',  size=14, ha='left',  va='center')\n",
    "#     ax.text(1, 0.4, current_day, transform=ax.transAxes, color='#777777', size=46, ha='right', weight=800)\n",
    "#     ax.text(0, 1.06, 'Population (thousands)', transform=ax.transAxes, size=12, color='#777777')\n",
    "#     ax.xaxis.set_major_formatter(ticker.StrMethodFormatter('{x:,.0f}'))\n",
    "#     ax.xaxis.set_ticks_position('top')\n",
    "#     ax.tick_params(axis='x', colors='#777777', labelsize=12)\n",
    "#     ax.set_yticks([])\n",
    "#     ax.margins(0, 0.01)\n",
    "#     ax.grid(which='major', axis='x', linestyle='-')\n",
    "#     ax.set_axisbelow(True)\n",
    "    \n",
    "#     ax.text(0, 1.15, 'Coronavirus',\n",
    "#             transform=ax.transAxes, size=24, weight=600, ha='left', va='top')\n",
    "# #     ax.text(1, 0, 'by @pratapvardhan; credit @jburnmurdoch', transform=ax.transAxes, color='#777777', ha='right',\n",
    "# #             bbox=dict(facecolor='white', alpha=0.8, edgecolor='white'))\n",
    "#     plt.box(False)"
   ]
  },
  {
   "cell_type": "code",
   "execution_count": 42,
   "metadata": {
    "execution": {
     "iopub.execute_input": "2020-12-14T12:07:54.467490Z",
     "iopub.status.busy": "2020-12-14T12:07:54.466739Z",
     "iopub.status.idle": "2020-12-14T12:07:54.468811Z",
     "shell.execute_reply": "2020-12-14T12:07:54.469380Z"
    },
    "papermill": {
     "duration": 0.041199,
     "end_time": "2020-12-14T12:07:54.469532",
     "exception": false,
     "start_time": "2020-12-14T12:07:54.428333",
     "status": "completed"
    },
    "tags": []
   },
   "outputs": [],
   "source": [
    "# #hide_input\n",
    "# fig, ax = plt.subplots(figsize=(15, 8))\n",
    "# animator = animation.FuncAnimation(fig, draw_barchart, frames=range(g.day.values.min(), g.day.values.max()))\n",
    "# HTML(animator.to_jshtml())\n",
    "# # or use animator.to_html5_video() or animator.save() "
   ]
  },
  {
   "cell_type": "code",
   "execution_count": null,
   "metadata": {
    "papermill": {
     "duration": 0.316631,
     "end_time": "2020-12-14T12:07:54.821744",
     "exception": false,
     "start_time": "2020-12-14T12:07:54.505113",
     "status": "completed"
    },
    "tags": []
   },
   "outputs": [],
   "source": []
  },
  {
   "cell_type": "code",
   "execution_count": null,
   "metadata": {
    "papermill": {
     "duration": 0.039562,
     "end_time": "2020-12-14T12:07:54.970711",
     "exception": false,
     "start_time": "2020-12-14T12:07:54.931149",
     "status": "completed"
    },
    "tags": []
   },
   "outputs": [],
   "source": []
  },
  {
   "cell_type": "code",
   "execution_count": null,
   "metadata": {
    "papermill": {
     "duration": 0.035298,
     "end_time": "2020-12-14T12:07:55.041357",
     "exception": false,
     "start_time": "2020-12-14T12:07:55.006059",
     "status": "completed"
    },
    "tags": []
   },
   "outputs": [],
   "source": []
  }
 ],
 "metadata": {
  "kernelspec": {
   "display_name": "Python 3",
   "language": "python",
   "name": "python3"
  },
  "language_info": {
   "codemirror_mode": {
    "name": "ipython",
    "version": 3
   },
   "file_extension": ".py",
   "mimetype": "text/x-python",
   "name": "python",
   "nbconvert_exporter": "python",
   "pygments_lexer": "ipython3",
   "version": "3.6.12"
  },
  "papermill": {
   "duration": 9.267099,
   "end_time": "2020-12-14T12:07:55.387734",
   "environment_variables": {},
   "exception": null,
   "input_path": "2020-03-21-covid19exp.ipynb",
   "output_path": "2020-03-21-covid19exp.ipynb",
   "parameters": {},
   "start_time": "2020-12-14T12:07:46.120635",
   "version": "2.0.0"
  }
 },
 "nbformat": 4,
 "nbformat_minor": 4
}