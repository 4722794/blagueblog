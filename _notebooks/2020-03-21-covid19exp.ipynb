{
 "cells": [
  {
   "cell_type": "markdown",
   "id": "muslim-click",
   "metadata": {
    "papermill": {
     "duration": 0.038892,
     "end_time": "2021-06-02T12:46:00.222619",
     "exception": false,
     "start_time": "2021-06-02T12:46:00.183727",
     "status": "completed"
    },
    "tags": []
   },
   "source": [
    "# COVID-19 Case Race\n",
    "> A race chart to see rising cases around the world\n",
    "\n",
    "- author: Hargun Oberoi\n",
    "- image: images/covid-overview.png\n",
    "- hide: false\n",
    "- badges: false"
   ]
  },
  {
   "cell_type": "code",
   "execution_count": 1,
   "id": "proof-material",
   "metadata": {
    "execution": {
     "iopub.execute_input": "2021-06-02T12:46:00.304341Z",
     "iopub.status.busy": "2021-06-02T12:46:00.303606Z",
     "iopub.status.idle": "2021-06-02T12:46:00.657762Z",
     "shell.execute_reply": "2021-06-02T12:46:00.657233Z"
    },
    "papermill": {
     "duration": 0.398454,
     "end_time": "2021-06-02T12:46:00.657914",
     "exception": false,
     "start_time": "2021-06-02T12:46:00.259460",
     "status": "completed"
    },
    "tags": []
   },
   "outputs": [],
   "source": [
    "#hide\n",
    "import numpy as np\n",
    "import pandas as pd\n",
    "from jinja2 import Template\n",
    "from IPython.display import HTML"
   ]
  },
  {
   "cell_type": "code",
   "execution_count": 2,
   "id": "developed-terminology",
   "metadata": {
    "execution": {
     "iopub.execute_input": "2021-06-02T12:46:00.732768Z",
     "iopub.status.busy": "2021-06-02T12:46:00.732146Z",
     "iopub.status.idle": "2021-06-02T12:46:00.734232Z",
     "shell.execute_reply": "2021-06-02T12:46:00.734793Z"
    },
    "papermill": {
     "duration": 0.040646,
     "end_time": "2021-06-02T12:46:00.734918",
     "exception": false,
     "start_time": "2021-06-02T12:46:00.694272",
     "status": "completed"
    },
    "tags": []
   },
   "outputs": [],
   "source": [
    "#hide\n",
    "\n",
    "# FETCH\n",
    "base_url = 'https://raw.githubusercontent.com/pratapvardhan/notebooks/master/covid19/'\n",
    "paths = {\n",
    "    'mapping': base_url + 'mapping_countries.csv',\n",
    "    'overview': base_url + 'overview.tpl'\n",
    "}"
   ]
  },
  {
   "cell_type": "code",
   "execution_count": 3,
   "id": "dynamic-saver",
   "metadata": {
    "execution": {
     "iopub.execute_input": "2021-06-02T12:46:00.813376Z",
     "iopub.status.busy": "2021-06-02T12:46:00.811077Z",
     "iopub.status.idle": "2021-06-02T12:46:00.816145Z",
     "shell.execute_reply": "2021-06-02T12:46:00.816618Z"
    },
    "papermill": {
     "duration": 0.047207,
     "end_time": "2021-06-02T12:46:00.816743",
     "exception": false,
     "start_time": "2021-06-02T12:46:00.769536",
     "status": "completed"
    },
    "tags": []
   },
   "outputs": [
    {
     "data": {
      "text/plain": [
       "'https://raw.githubusercontent.com/pratapvardhan/notebooks/master/covid19/mapping_countries.csv'"
      ]
     },
     "execution_count": 3,
     "metadata": {},
     "output_type": "execute_result"
    }
   ],
   "source": [
    "#hide\n",
    "paths['mapping']"
   ]
  },
  {
   "cell_type": "code",
   "execution_count": 4,
   "id": "urban-software",
   "metadata": {
    "execution": {
     "iopub.execute_input": "2021-06-02T12:46:00.899886Z",
     "iopub.status.busy": "2021-06-02T12:46:00.899170Z",
     "iopub.status.idle": "2021-06-02T12:46:00.902246Z",
     "shell.execute_reply": "2021-06-02T12:46:00.902764Z"
    },
    "papermill": {
     "duration": 0.050005,
     "end_time": "2021-06-02T12:46:00.902897",
     "exception": false,
     "start_time": "2021-06-02T12:46:00.852892",
     "status": "completed"
    },
    "tags": []
   },
   "outputs": [],
   "source": [
    "#hide\n",
    "def get_mappings(url):\n",
    "    df = pd.read_csv(url)\n",
    "    return {\n",
    "        'df': df,\n",
    "        'replace.country': dict(df.dropna(subset=['Name']).set_index('Country')['Name']),\n",
    "        'map.continent': dict(df.set_index('Name')['Continent'])\n",
    "    }"
   ]
  },
  {
   "cell_type": "code",
   "execution_count": 5,
   "id": "intimate-machinery",
   "metadata": {
    "execution": {
     "iopub.execute_input": "2021-06-02T12:46:00.980095Z",
     "iopub.status.busy": "2021-06-02T12:46:00.979491Z",
     "iopub.status.idle": "2021-06-02T12:46:01.025244Z",
     "shell.execute_reply": "2021-06-02T12:46:01.024743Z"
    },
    "papermill": {
     "duration": 0.086584,
     "end_time": "2021-06-02T12:46:01.025376",
     "exception": false,
     "start_time": "2021-06-02T12:46:00.938792",
     "status": "completed"
    },
    "tags": []
   },
   "outputs": [],
   "source": [
    "#hide\n",
    "mapping = get_mappings(paths['mapping'])"
   ]
  },
  {
   "cell_type": "code",
   "execution_count": 6,
   "id": "certified-tactics",
   "metadata": {
    "execution": {
     "iopub.execute_input": "2021-06-02T12:46:01.104614Z",
     "iopub.status.busy": "2021-06-02T12:46:01.103993Z",
     "iopub.status.idle": "2021-06-02T12:46:01.106534Z",
     "shell.execute_reply": "2021-06-02T12:46:01.105874Z"
    },
    "papermill": {
     "duration": 0.042905,
     "end_time": "2021-06-02T12:46:01.106660",
     "exception": false,
     "start_time": "2021-06-02T12:46:01.063755",
     "status": "completed"
    },
    "tags": []
   },
   "outputs": [],
   "source": [
    "#hide\n",
    "def get_template(path):\n",
    "    from urllib.parse import urlparse\n",
    "    if bool(urlparse(path).netloc):\n",
    "        from urllib.request import urlopen\n",
    "        return urlopen(path).read().decode('utf8')\n",
    "    return open(path).read()"
   ]
  },
  {
   "cell_type": "code",
   "execution_count": 7,
   "id": "realistic-blast",
   "metadata": {
    "execution": {
     "iopub.execute_input": "2021-06-02T12:46:01.179838Z",
     "iopub.status.busy": "2021-06-02T12:46:01.179217Z",
     "iopub.status.idle": "2021-06-02T12:46:01.181157Z",
     "shell.execute_reply": "2021-06-02T12:46:01.181666Z"
    },
    "papermill": {
     "duration": 0.040639,
     "end_time": "2021-06-02T12:46:01.181877",
     "exception": false,
     "start_time": "2021-06-02T12:46:01.141238",
     "status": "completed"
    },
    "tags": []
   },
   "outputs": [],
   "source": [
    "#hide\n",
    "def get_frame(name):\n",
    "    url = (\n",
    "        'https://raw.githubusercontent.com/CSSEGISandData/COVID-19/master/csse_covid_19_data/'\n",
    "        f'csse_covid_19_time_series/time_series_covid19_{name}_global.csv')\n",
    "    df = pd.read_csv(url)\n",
    "    # rename countries\n",
    "    df['Country/Region'] = df['Country/Region'].replace(mapping['replace.country'])\n",
    "    return df"
   ]
  },
  {
   "cell_type": "code",
   "execution_count": 8,
   "id": "affiliated-characterization",
   "metadata": {
    "execution": {
     "iopub.execute_input": "2021-06-02T12:46:01.257297Z",
     "iopub.status.busy": "2021-06-02T12:46:01.256717Z",
     "iopub.status.idle": "2021-06-02T12:46:01.258564Z",
     "shell.execute_reply": "2021-06-02T12:46:01.259056Z"
    },
    "papermill": {
     "duration": 0.042375,
     "end_time": "2021-06-02T12:46:01.259184",
     "exception": false,
     "start_time": "2021-06-02T12:46:01.216809",
     "status": "completed"
    },
    "tags": []
   },
   "outputs": [],
   "source": [
    "#hide\n",
    "def get_dates(df):\n",
    "    dt_cols = df.columns[~df.columns.isin(['Province/State', 'Country/Region', 'Lat', 'Long'])]\n",
    "    LAST_DATE_I = -1\n",
    "    # sometimes last column may be empty, then go backwards\n",
    "    for i in range(-1, -len(dt_cols), -1):\n",
    "        if not df[dt_cols[i]].fillna(0).eq(0).all():\n",
    "            LAST_DATE_I = i\n",
    "            break\n",
    "    return LAST_DATE_I, dt_cols"
   ]
  },
  {
   "cell_type": "code",
   "execution_count": 9,
   "id": "recent-optimization",
   "metadata": {
    "execution": {
     "iopub.execute_input": "2021-06-02T12:46:01.332129Z",
     "iopub.status.busy": "2021-06-02T12:46:01.331482Z",
     "iopub.status.idle": "2021-06-02T12:46:01.689000Z",
     "shell.execute_reply": "2021-06-02T12:46:01.688447Z"
    },
    "papermill": {
     "duration": 0.395438,
     "end_time": "2021-06-02T12:46:01.689135",
     "exception": false,
     "start_time": "2021-06-02T12:46:01.293697",
     "status": "completed"
    },
    "tags": []
   },
   "outputs": [],
   "source": [
    "#hide\n",
    "COL_REGION = 'Country/Region'\n",
    "# Confirmed, Recovered, Deaths\n",
    "df = get_frame('confirmed')\n",
    "# dft_: timeseries, dfc_: today country agg\n",
    "dft_cases = df\n",
    "dft_deaths = get_frame('deaths')\n",
    "dft_recovered = get_frame('recovered')\n",
    "LAST_DATE_I, dt_cols = get_dates(df)"
   ]
  },
  {
   "cell_type": "code",
   "execution_count": 10,
   "id": "absolute-copper",
   "metadata": {
    "execution": {
     "iopub.execute_input": "2021-06-02T12:46:01.767108Z",
     "iopub.status.busy": "2021-06-02T12:46:01.766317Z",
     "iopub.status.idle": "2021-06-02T12:46:01.768418Z",
     "shell.execute_reply": "2021-06-02T12:46:01.768953Z"
    },
    "papermill": {
     "duration": 0.041994,
     "end_time": "2021-06-02T12:46:01.769073",
     "exception": false,
     "start_time": "2021-06-02T12:46:01.727079",
     "status": "completed"
    },
    "tags": []
   },
   "outputs": [],
   "source": [
    "#hide\n",
    "LAST_DATE_I, dt_cols = get_dates(df)\n",
    "dt_today =dt_cols[LAST_DATE_I]\n",
    "# dt_5day = dt_cols[LAST_DATE_I - 5]\n",
    "dt_yday = dt_cols[LAST_DATE_I - 1]"
   ]
  },
  {
   "cell_type": "code",
   "execution_count": 11,
   "id": "restricted-sheriff",
   "metadata": {
    "execution": {
     "iopub.execute_input": "2021-06-02T12:46:01.843429Z",
     "iopub.status.busy": "2021-06-02T12:46:01.842780Z",
     "iopub.status.idle": "2021-06-02T12:46:01.851187Z",
     "shell.execute_reply": "2021-06-02T12:46:01.851724Z"
    },
    "papermill": {
     "duration": 0.048101,
     "end_time": "2021-06-02T12:46:01.851844",
     "exception": false,
     "start_time": "2021-06-02T12:46:01.803743",
     "status": "completed"
    },
    "tags": []
   },
   "outputs": [],
   "source": [
    "#hide\n",
    "dfc_cases = dft_cases.groupby(COL_REGION)[dt_today].sum()\n",
    "dfc_deaths = dft_deaths.groupby(COL_REGION)[dt_today].sum()\n",
    "# dfp_cases = dft_cases.groupby(COL_REGION)[dt_5day].sum()\n",
    "# dfp_deaths = dft_deaths.groupby(COL_REGION)[dt_5day].sum()\n",
    "dfp_cases = dft_cases.groupby(COL_REGION)[dt_yday].sum()\n",
    "dfp_deaths = dft_deaths.groupby(COL_REGION)[dt_yday].sum()"
   ]
  },
  {
   "cell_type": "code",
   "execution_count": 12,
   "id": "deluxe-hepatitis",
   "metadata": {
    "execution": {
     "iopub.execute_input": "2021-06-02T12:46:01.925854Z",
     "iopub.status.busy": "2021-06-02T12:46:01.925207Z",
     "iopub.status.idle": "2021-06-02T12:46:01.930279Z",
     "shell.execute_reply": "2021-06-02T12:46:01.930923Z"
    },
    "papermill": {
     "duration": 0.045976,
     "end_time": "2021-06-02T12:46:01.931045",
     "exception": false,
     "start_time": "2021-06-02T12:46:01.885069",
     "status": "completed"
    },
    "tags": []
   },
   "outputs": [],
   "source": [
    "#hide\n",
    "df_table = (pd.DataFrame(dict(Cases = dfc_cases, Deaths = dfc_deaths, PCases = dfp_cases, PDeaths = dfp_deaths))\n",
    "            .sort_values(by = ['Cases','Deaths'], ascending = [False, False])\n",
    "            .reset_index())"
   ]
  },
  {
   "cell_type": "code",
   "execution_count": 13,
   "id": "educational-chancellor",
   "metadata": {
    "execution": {
     "iopub.execute_input": "2021-06-02T12:46:02.015734Z",
     "iopub.status.busy": "2021-06-02T12:46:02.015160Z",
     "iopub.status.idle": "2021-06-02T12:46:02.023149Z",
     "shell.execute_reply": "2021-06-02T12:46:02.023686Z"
    },
    "papermill": {
     "duration": 0.059544,
     "end_time": "2021-06-02T12:46:02.023805",
     "exception": false,
     "start_time": "2021-06-02T12:46:01.964261",
     "status": "completed"
    },
    "tags": []
   },
   "outputs": [
    {
     "data": {
      "text/html": [
       "<div>\n",
       "<style scoped>\n",
       "    .dataframe tbody tr th:only-of-type {\n",
       "        vertical-align: middle;\n",
       "    }\n",
       "\n",
       "    .dataframe tbody tr th {\n",
       "        vertical-align: top;\n",
       "    }\n",
       "\n",
       "    .dataframe thead th {\n",
       "        text-align: right;\n",
       "    }\n",
       "</style>\n",
       "<table border=\"1\" class=\"dataframe\">\n",
       "  <thead>\n",
       "    <tr style=\"text-align: right;\">\n",
       "      <th></th>\n",
       "      <th>Country/Region</th>\n",
       "      <th>Cases</th>\n",
       "      <th>Deaths</th>\n",
       "      <th>PCases</th>\n",
       "      <th>PDeaths</th>\n",
       "      <th>Cases (+)</th>\n",
       "      <th>Deaths (+)</th>\n",
       "      <th>Fatality Rate</th>\n",
       "      <th>Continent</th>\n",
       "    </tr>\n",
       "  </thead>\n",
       "  <tbody>\n",
       "    <tr>\n",
       "      <th>0</th>\n",
       "      <td>US</td>\n",
       "      <td>33287438</td>\n",
       "      <td>595213</td>\n",
       "      <td>33264428</td>\n",
       "      <td>594572</td>\n",
       "      <td>23010</td>\n",
       "      <td>641</td>\n",
       "      <td>1.79</td>\n",
       "      <td>North America</td>\n",
       "    </tr>\n",
       "    <tr>\n",
       "      <th>1</th>\n",
       "      <td>India</td>\n",
       "      <td>28307832</td>\n",
       "      <td>335102</td>\n",
       "      <td>28175044</td>\n",
       "      <td>331895</td>\n",
       "      <td>132788</td>\n",
       "      <td>3207</td>\n",
       "      <td>1.18</td>\n",
       "      <td>Asia</td>\n",
       "    </tr>\n",
       "    <tr>\n",
       "      <th>2</th>\n",
       "      <td>Brazil</td>\n",
       "      <td>16624480</td>\n",
       "      <td>465199</td>\n",
       "      <td>16545554</td>\n",
       "      <td>462791</td>\n",
       "      <td>78926</td>\n",
       "      <td>2408</td>\n",
       "      <td>2.80</td>\n",
       "      <td>South America</td>\n",
       "    </tr>\n",
       "    <tr>\n",
       "      <th>3</th>\n",
       "      <td>France</td>\n",
       "      <td>5738641</td>\n",
       "      <td>109824</td>\n",
       "      <td>5728788</td>\n",
       "      <td>109690</td>\n",
       "      <td>9853</td>\n",
       "      <td>134</td>\n",
       "      <td>1.91</td>\n",
       "      <td>Europe</td>\n",
       "    </tr>\n",
       "    <tr>\n",
       "      <th>4</th>\n",
       "      <td>Turkey</td>\n",
       "      <td>5256516</td>\n",
       "      <td>47656</td>\n",
       "      <td>5249404</td>\n",
       "      <td>47527</td>\n",
       "      <td>7112</td>\n",
       "      <td>129</td>\n",
       "      <td>0.91</td>\n",
       "      <td>Asia</td>\n",
       "    </tr>\n",
       "  </tbody>\n",
       "</table>\n",
       "</div>"
      ],
      "text/plain": [
       "  Country/Region     Cases  Deaths    PCases  PDeaths  Cases (+)  Deaths (+)  \\\n",
       "0             US  33287438  595213  33264428   594572      23010         641   \n",
       "1          India  28307832  335102  28175044   331895     132788        3207   \n",
       "2         Brazil  16624480  465199  16545554   462791      78926        2408   \n",
       "3         France   5738641  109824   5728788   109690       9853         134   \n",
       "4         Turkey   5256516   47656   5249404    47527       7112         129   \n",
       "\n",
       "   Fatality Rate      Continent  \n",
       "0           1.79  North America  \n",
       "1           1.18           Asia  \n",
       "2           2.80  South America  \n",
       "3           1.91         Europe  \n",
       "4           0.91           Asia  "
      ]
     },
     "execution_count": 13,
     "metadata": {},
     "output_type": "execute_result"
    }
   ],
   "source": [
    "#hide\n",
    "for c in 'Cases, Deaths'.split(', '):\n",
    "    df_table[f'{c} (+)'] = (df_table[c] - df_table[f'P{c}']).clip(0)\n",
    "    #Clip ça veut dire, les chiffres negatif sont interdit\n",
    "df_table['Fatality Rate'] = (100* df_table['Deaths']/ df_table['Cases']).round(2)\n",
    "df_table['Continent'] = df_table['Country/Region'].map(mapping['map.continent'])\n",
    "df_table.head(5)"
   ]
  },
  {
   "cell_type": "code",
   "execution_count": 14,
   "id": "aboriginal-bulgaria",
   "metadata": {
    "execution": {
     "iopub.execute_input": "2021-06-02T12:46:02.100682Z",
     "iopub.status.busy": "2021-06-02T12:46:02.100001Z",
     "iopub.status.idle": "2021-06-02T12:46:02.102546Z",
     "shell.execute_reply": "2021-06-02T12:46:02.103048Z"
    },
    "papermill": {
     "duration": 0.044424,
     "end_time": "2021-06-02T12:46:02.103173",
     "exception": false,
     "start_time": "2021-06-02T12:46:02.058749",
     "status": "completed"
    },
    "tags": []
   },
   "outputs": [],
   "source": [
    "#hide\n",
    "#delete problematic countries from table\n",
    "df_table = df_table[~df_table['Country/Region'].isin(['Cape Verde', 'Cruise Ship', 'Kosovo'])]"
   ]
  },
  {
   "cell_type": "code",
   "execution_count": 15,
   "id": "fantastic-effect",
   "metadata": {
    "execution": {
     "iopub.execute_input": "2021-06-02T12:46:02.179215Z",
     "iopub.status.busy": "2021-06-02T12:46:02.178563Z",
     "iopub.status.idle": "2021-06-02T12:46:02.198384Z",
     "shell.execute_reply": "2021-06-02T12:46:02.197893Z"
    },
    "papermill": {
     "duration": 0.06198,
     "end_time": "2021-06-02T12:46:02.198519",
     "exception": false,
     "start_time": "2021-06-02T12:46:02.136539",
     "status": "completed"
    },
    "tags": []
   },
   "outputs": [
    {
     "data": {
      "text/html": [
       "<div>\n",
       "<style scoped>\n",
       "    .dataframe tbody tr th:only-of-type {\n",
       "        vertical-align: middle;\n",
       "    }\n",
       "\n",
       "    .dataframe tbody tr th {\n",
       "        vertical-align: top;\n",
       "    }\n",
       "\n",
       "    .dataframe thead th {\n",
       "        text-align: right;\n",
       "    }\n",
       "</style>\n",
       "<table border=\"1\" class=\"dataframe\">\n",
       "  <thead>\n",
       "    <tr style=\"text-align: right;\">\n",
       "      <th></th>\n",
       "      <th>Country/Region</th>\n",
       "      <th>Cases</th>\n",
       "      <th>Deaths</th>\n",
       "      <th>PCases</th>\n",
       "      <th>PDeaths</th>\n",
       "      <th>Cases (+)</th>\n",
       "      <th>Deaths (+)</th>\n",
       "      <th>Fatality Rate</th>\n",
       "      <th>Continent</th>\n",
       "    </tr>\n",
       "  </thead>\n",
       "  <tbody>\n",
       "    <tr>\n",
       "      <th>0</th>\n",
       "      <td>US</td>\n",
       "      <td>33287438</td>\n",
       "      <td>595213</td>\n",
       "      <td>33264428</td>\n",
       "      <td>594572</td>\n",
       "      <td>23010</td>\n",
       "      <td>641</td>\n",
       "      <td>1.8</td>\n",
       "      <td>North America</td>\n",
       "    </tr>\n",
       "    <tr>\n",
       "      <th>1</th>\n",
       "      <td>India</td>\n",
       "      <td>28307832</td>\n",
       "      <td>335102</td>\n",
       "      <td>28175044</td>\n",
       "      <td>331895</td>\n",
       "      <td>132788</td>\n",
       "      <td>3207</td>\n",
       "      <td>1.2</td>\n",
       "      <td>Asia</td>\n",
       "    </tr>\n",
       "    <tr>\n",
       "      <th>2</th>\n",
       "      <td>Brazil</td>\n",
       "      <td>16624480</td>\n",
       "      <td>465199</td>\n",
       "      <td>16545554</td>\n",
       "      <td>462791</td>\n",
       "      <td>78926</td>\n",
       "      <td>2408</td>\n",
       "      <td>2.8</td>\n",
       "      <td>South America</td>\n",
       "    </tr>\n",
       "    <tr>\n",
       "      <th>3</th>\n",
       "      <td>France</td>\n",
       "      <td>5738641</td>\n",
       "      <td>109824</td>\n",
       "      <td>5728788</td>\n",
       "      <td>109690</td>\n",
       "      <td>9853</td>\n",
       "      <td>134</td>\n",
       "      <td>1.9</td>\n",
       "      <td>Europe</td>\n",
       "    </tr>\n",
       "    <tr>\n",
       "      <th>4</th>\n",
       "      <td>Turkey</td>\n",
       "      <td>5256516</td>\n",
       "      <td>47656</td>\n",
       "      <td>5249404</td>\n",
       "      <td>47527</td>\n",
       "      <td>7112</td>\n",
       "      <td>129</td>\n",
       "      <td>0.9</td>\n",
       "      <td>Asia</td>\n",
       "    </tr>\n",
       "  </tbody>\n",
       "</table>\n",
       "</div>"
      ],
      "text/plain": [
       "  Country/Region     Cases  Deaths    PCases  PDeaths  Cases (+)  Deaths (+)  \\\n",
       "0             US  33287438  595213  33264428   594572      23010         641   \n",
       "1          India  28307832  335102  28175044   331895     132788        3207   \n",
       "2         Brazil  16624480  465199  16545554   462791      78926        2408   \n",
       "3         France   5738641  109824   5728788   109690       9853         134   \n",
       "4         Turkey   5256516   47656   5249404    47527       7112         129   \n",
       "\n",
       "   Fatality Rate      Continent  \n",
       "0            1.8  North America  \n",
       "1            1.2           Asia  \n",
       "2            2.8  South America  \n",
       "3            1.9         Europe  \n",
       "4            0.9           Asia  "
      ]
     },
     "execution_count": 15,
     "metadata": {},
     "output_type": "execute_result"
    }
   ],
   "source": [
    "#hide\n",
    "df_table = (pd.DataFrame(dict(Cases=dfc_cases, Deaths=dfc_deaths, PCases=dfp_cases, PDeaths=dfp_deaths))\n",
    "             .sort_values(by=['Cases', 'Deaths'], ascending=[False, False])\n",
    "             .reset_index())\n",
    "df_table.rename(columns={'index': 'Country/Region'}, inplace=True)\n",
    "for c in 'Cases, Deaths'.split(', '):\n",
    "    df_table[f'{c} (+)'] = (df_table[c] - df_table[f'P{c}']).clip(0)  # DATA BUG\n",
    "df_table['Fatality Rate'] = (100 * df_table['Deaths'] / df_table['Cases']).round(1)\n",
    "df_table['Continent'] = df_table['Country/Region'].map(mapping['map.continent'])\n",
    "df_table.head(5)"
   ]
  },
  {
   "cell_type": "code",
   "execution_count": 16,
   "id": "fewer-occasion",
   "metadata": {
    "execution": {
     "iopub.execute_input": "2021-06-02T12:46:02.272768Z",
     "iopub.status.busy": "2021-06-02T12:46:02.272197Z",
     "iopub.status.idle": "2021-06-02T12:46:02.275179Z",
     "shell.execute_reply": "2021-06-02T12:46:02.275725Z"
    },
    "papermill": {
     "duration": 0.041976,
     "end_time": "2021-06-02T12:46:02.275846",
     "exception": false,
     "start_time": "2021-06-02T12:46:02.233870",
     "status": "completed"
    },
    "tags": []
   },
   "outputs": [],
   "source": [
    "#hide\n",
    "#delete problematic countries from table\n",
    "df_table = df_table[~df_table['Country/Region'].isin(['Cape Verde', 'Cruise Ship', 'Kosovo'])]"
   ]
  },
  {
   "cell_type": "code",
   "execution_count": 17,
   "id": "related-center",
   "metadata": {
    "execution": {
     "iopub.execute_input": "2021-06-02T12:46:02.356489Z",
     "iopub.status.busy": "2021-06-02T12:46:02.355874Z",
     "iopub.status.idle": "2021-06-02T12:46:02.366617Z",
     "shell.execute_reply": "2021-06-02T12:46:02.366098Z"
    },
    "papermill": {
     "duration": 0.055702,
     "end_time": "2021-06-02T12:46:02.366726",
     "exception": false,
     "start_time": "2021-06-02T12:46:02.311024",
     "status": "completed"
    },
    "tags": []
   },
   "outputs": [],
   "source": [
    "#hide\n",
    "metrics = [df_table.columns[index] for index in [1,2,5,6]]\n",
    "# s_china = df_table[df_table['Country/Region'].eq('China')][metrics].sum().add_prefix('China ')\n",
    "s_us = df_table[df_table['Country/Region'].eq('US')][metrics].sum().add_prefix('US ')\n",
    "s_eu = df_table[df_table['Continent'].eq('Europe')][metrics].sum().add_prefix('EU ')\n",
    "s_ind = df_table[df_table['Country/Region'].eq('India')][metrics].sum().add_prefix('India ')\n",
    "summary = {'updated': pd.to_datetime(dt_today), 'since': pd.to_datetime(dt_yday)}\n",
    "summary = {'updated': pd.to_datetime(dt_today), 'since': pd.to_datetime(dt_yday)}\n",
    "summary = {**summary, **df_table[metrics].sum(), **s_ind, **s_us, **s_eu}"
   ]
  },
  {
   "cell_type": "code",
   "execution_count": 18,
   "id": "engaging-syndrome",
   "metadata": {
    "execution": {
     "iopub.execute_input": "2021-06-02T12:46:02.443479Z",
     "iopub.status.busy": "2021-06-02T12:46:02.442692Z",
     "iopub.status.idle": "2021-06-02T12:46:02.456186Z",
     "shell.execute_reply": "2021-06-02T12:46:02.456663Z"
    },
    "papermill": {
     "duration": 0.055573,
     "end_time": "2021-06-02T12:46:02.456810",
     "exception": false,
     "start_time": "2021-06-02T12:46:02.401237",
     "status": "completed"
    },
    "tags": []
   },
   "outputs": [],
   "source": [
    "#hide\n",
    "dft_ct_new_cases = dft_cases.groupby(COL_REGION)[dt_cols].sum().diff(axis=1).fillna(0).astype(int)"
   ]
  },
  {
   "cell_type": "code",
   "execution_count": 19,
   "id": "neutral-assignment",
   "metadata": {
    "execution": {
     "iopub.execute_input": "2021-06-02T12:46:02.535158Z",
     "iopub.status.busy": "2021-06-02T12:46:02.534581Z",
     "iopub.status.idle": "2021-06-02T12:46:02.536610Z",
     "shell.execute_reply": "2021-06-02T12:46:02.537146Z"
    },
    "papermill": {
     "duration": 0.042607,
     "end_time": "2021-06-02T12:46:02.537275",
     "exception": false,
     "start_time": "2021-06-02T12:46:02.494668",
     "status": "completed"
    },
    "tags": []
   },
   "outputs": [],
   "source": [
    "#hide\n",
    "everydaycases = dft_ct_new_cases.cumsum(axis=1)"
   ]
  },
  {
   "cell_type": "code",
   "execution_count": 20,
   "id": "parliamentary-calgary",
   "metadata": {
    "execution": {
     "iopub.execute_input": "2021-06-02T12:46:02.610872Z",
     "iopub.status.busy": "2021-06-02T12:46:02.610244Z",
     "iopub.status.idle": "2021-06-02T12:46:03.205743Z",
     "shell.execute_reply": "2021-06-02T12:46:03.205200Z"
    },
    "papermill": {
     "duration": 0.634186,
     "end_time": "2021-06-02T12:46:03.205899",
     "exception": false,
     "start_time": "2021-06-02T12:46:02.571713",
     "status": "completed"
    },
    "tags": []
   },
   "outputs": [],
   "source": [
    "#hide\n",
    "import pandas as pd\n",
    "import matplotlib.pyplot as plt\n",
    "import matplotlib.ticker as ticker\n",
    "import matplotlib.animation as animation\n",
    "from IPython.display import HTML"
   ]
  },
  {
   "cell_type": "code",
   "execution_count": 21,
   "id": "lasting-extraction",
   "metadata": {
    "execution": {
     "iopub.execute_input": "2021-06-02T12:46:03.286723Z",
     "iopub.status.busy": "2021-06-02T12:46:03.286092Z",
     "iopub.status.idle": "2021-06-02T12:46:03.291296Z",
     "shell.execute_reply": "2021-06-02T12:46:03.291794Z"
    },
    "papermill": {
     "duration": 0.047925,
     "end_time": "2021-06-02T12:46:03.291921",
     "exception": false,
     "start_time": "2021-06-02T12:46:03.243996",
     "status": "completed"
    },
    "tags": []
   },
   "outputs": [],
   "source": [
    "#hide\n",
    "t = everydaycases.stack()"
   ]
  },
  {
   "cell_type": "code",
   "execution_count": 22,
   "id": "premier-sleeve",
   "metadata": {
    "execution": {
     "iopub.execute_input": "2021-06-02T12:46:03.368376Z",
     "iopub.status.busy": "2021-06-02T12:46:03.367733Z",
     "iopub.status.idle": "2021-06-02T12:46:03.375537Z",
     "shell.execute_reply": "2021-06-02T12:46:03.376173Z"
    },
    "papermill": {
     "duration": 0.048767,
     "end_time": "2021-06-02T12:46:03.376326",
     "exception": false,
     "start_time": "2021-06-02T12:46:03.327559",
     "status": "completed"
    },
    "tags": []
   },
   "outputs": [],
   "source": [
    "#hide\n",
    "g = t.reset_index(['Country/Region'])"
   ]
  },
  {
   "cell_type": "code",
   "execution_count": 23,
   "id": "distributed-pittsburgh",
   "metadata": {
    "execution": {
     "iopub.execute_input": "2021-06-02T12:46:03.453948Z",
     "iopub.status.busy": "2021-06-02T12:46:03.453379Z",
     "iopub.status.idle": "2021-06-02T12:46:03.455166Z",
     "shell.execute_reply": "2021-06-02T12:46:03.455718Z"
    },
    "papermill": {
     "duration": 0.041345,
     "end_time": "2021-06-02T12:46:03.455845",
     "exception": false,
     "start_time": "2021-06-02T12:46:03.414500",
     "status": "completed"
    },
    "tags": []
   },
   "outputs": [],
   "source": [
    "#hide\n",
    "g.index.name = 'date'"
   ]
  },
  {
   "cell_type": "code",
   "execution_count": 24,
   "id": "naked-donor",
   "metadata": {
    "execution": {
     "iopub.execute_input": "2021-06-02T12:46:03.528298Z",
     "iopub.status.busy": "2021-06-02T12:46:03.527730Z",
     "iopub.status.idle": "2021-06-02T12:46:03.529604Z",
     "shell.execute_reply": "2021-06-02T12:46:03.530137Z"
    },
    "papermill": {
     "duration": 0.039714,
     "end_time": "2021-06-02T12:46:03.530258",
     "exception": false,
     "start_time": "2021-06-02T12:46:03.490544",
     "status": "completed"
    },
    "tags": []
   },
   "outputs": [],
   "source": [
    "# #hide\n",
    "# g = g.reset_index(['date'])"
   ]
  },
  {
   "cell_type": "code",
   "execution_count": 25,
   "id": "incomplete-mustang",
   "metadata": {
    "execution": {
     "iopub.execute_input": "2021-06-02T12:46:03.605344Z",
     "iopub.status.busy": "2021-06-02T12:46:03.604778Z",
     "iopub.status.idle": "2021-06-02T12:46:03.607140Z",
     "shell.execute_reply": "2021-06-02T12:46:03.606648Z"
    },
    "papermill": {
     "duration": 0.04233,
     "end_time": "2021-06-02T12:46:03.607253",
     "exception": false,
     "start_time": "2021-06-02T12:46:03.564923",
     "status": "completed"
    },
    "tags": []
   },
   "outputs": [],
   "source": [
    "#hide\n",
    "# g.head()"
   ]
  },
  {
   "cell_type": "code",
   "execution_count": 26,
   "id": "specific-kruger",
   "metadata": {
    "execution": {
     "iopub.execute_input": "2021-06-02T12:46:03.679705Z",
     "iopub.status.busy": "2021-06-02T12:46:03.679080Z",
     "iopub.status.idle": "2021-06-02T12:46:03.681447Z",
     "shell.execute_reply": "2021-06-02T12:46:03.680984Z"
    },
    "papermill": {
     "duration": 0.040204,
     "end_time": "2021-06-02T12:46:03.681559",
     "exception": false,
     "start_time": "2021-06-02T12:46:03.641355",
     "status": "completed"
    },
    "tags": []
   },
   "outputs": [],
   "source": [
    "#hide\n",
    "# g.columns = ['date','country','cases']"
   ]
  },
  {
   "cell_type": "code",
   "execution_count": 27,
   "id": "tender-conversion",
   "metadata": {
    "execution": {
     "iopub.execute_input": "2021-06-02T12:46:03.760888Z",
     "iopub.status.busy": "2021-06-02T12:46:03.760275Z",
     "iopub.status.idle": "2021-06-02T12:46:03.762615Z",
     "shell.execute_reply": "2021-06-02T12:46:03.762098Z"
    },
    "papermill": {
     "duration": 0.0413,
     "end_time": "2021-06-02T12:46:03.762724",
     "exception": false,
     "start_time": "2021-06-02T12:46:03.721424",
     "status": "completed"
    },
    "tags": []
   },
   "outputs": [],
   "source": [
    "#hide\n",
    "# g['continent'] = g.country"
   ]
  },
  {
   "cell_type": "code",
   "execution_count": 28,
   "id": "substantial-wilderness",
   "metadata": {
    "execution": {
     "iopub.execute_input": "2021-06-02T12:46:03.839277Z",
     "iopub.status.busy": "2021-06-02T12:46:03.838658Z",
     "iopub.status.idle": "2021-06-02T12:46:03.841531Z",
     "shell.execute_reply": "2021-06-02T12:46:03.841041Z"
    },
    "papermill": {
     "duration": 0.041537,
     "end_time": "2021-06-02T12:46:03.841640",
     "exception": false,
     "start_time": "2021-06-02T12:46:03.800103",
     "status": "completed"
    },
    "tags": []
   },
   "outputs": [],
   "source": [
    "#hide\n",
    "# cols = list(g.columns.values)"
   ]
  },
  {
   "cell_type": "code",
   "execution_count": 29,
   "id": "solved-farming",
   "metadata": {
    "execution": {
     "iopub.execute_input": "2021-06-02T12:46:03.914011Z",
     "iopub.status.busy": "2021-06-02T12:46:03.913443Z",
     "iopub.status.idle": "2021-06-02T12:46:03.916676Z",
     "shell.execute_reply": "2021-06-02T12:46:03.916044Z"
    },
    "papermill": {
     "duration": 0.040772,
     "end_time": "2021-06-02T12:46:03.916799",
     "exception": false,
     "start_time": "2021-06-02T12:46:03.876027",
     "status": "completed"
    },
    "tags": []
   },
   "outputs": [],
   "source": [
    "#hide\n",
    "# cols.insert(0, cols.pop())"
   ]
  },
  {
   "cell_type": "code",
   "execution_count": 30,
   "id": "executed-adoption",
   "metadata": {
    "execution": {
     "iopub.execute_input": "2021-06-02T12:46:03.991197Z",
     "iopub.status.busy": "2021-06-02T12:46:03.990571Z",
     "iopub.status.idle": "2021-06-02T12:46:03.992776Z",
     "shell.execute_reply": "2021-06-02T12:46:03.992203Z"
    },
    "papermill": {
     "duration": 0.040405,
     "end_time": "2021-06-02T12:46:03.992884",
     "exception": false,
     "start_time": "2021-06-02T12:46:03.952479",
     "status": "completed"
    },
    "tags": []
   },
   "outputs": [],
   "source": [
    "#hide\n",
    "# g = g[cols]"
   ]
  },
  {
   "cell_type": "code",
   "execution_count": 31,
   "id": "subject-dublin",
   "metadata": {
    "execution": {
     "iopub.execute_input": "2021-06-02T12:46:04.067988Z",
     "iopub.status.busy": "2021-06-02T12:46:04.067423Z",
     "iopub.status.idle": "2021-06-02T12:46:04.069550Z",
     "shell.execute_reply": "2021-06-02T12:46:04.070045Z"
    },
    "papermill": {
     "duration": 0.042484,
     "end_time": "2021-06-02T12:46:04.070165",
     "exception": false,
     "start_time": "2021-06-02T12:46:04.027681",
     "status": "completed"
    },
    "tags": []
   },
   "outputs": [],
   "source": [
    "#hide\n",
    "# g['continent'] = g['continent'].map(mapping['map.continent'])"
   ]
  },
  {
   "cell_type": "code",
   "execution_count": 32,
   "id": "freelance-scout",
   "metadata": {
    "execution": {
     "iopub.execute_input": "2021-06-02T12:46:04.141898Z",
     "iopub.status.busy": "2021-06-02T12:46:04.141294Z",
     "iopub.status.idle": "2021-06-02T12:46:04.143676Z",
     "shell.execute_reply": "2021-06-02T12:46:04.143188Z"
    },
    "papermill": {
     "duration": 0.03892,
     "end_time": "2021-06-02T12:46:04.143783",
     "exception": false,
     "start_time": "2021-06-02T12:46:04.104863",
     "status": "completed"
    },
    "tags": []
   },
   "outputs": [],
   "source": [
    "#hide\n",
    "# g.head()"
   ]
  },
  {
   "cell_type": "code",
   "execution_count": 33,
   "id": "limited-engine",
   "metadata": {
    "execution": {
     "iopub.execute_input": "2021-06-02T12:46:04.221220Z",
     "iopub.status.busy": "2021-06-02T12:46:04.220606Z",
     "iopub.status.idle": "2021-06-02T12:46:04.222516Z",
     "shell.execute_reply": "2021-06-02T12:46:04.222989Z"
    },
    "papermill": {
     "duration": 0.043055,
     "end_time": "2021-06-02T12:46:04.223120",
     "exception": false,
     "start_time": "2021-06-02T12:46:04.180065",
     "status": "completed"
    },
    "tags": []
   },
   "outputs": [],
   "source": [
    "# hide\n",
    "# g['date'] = g['date'].astype('datetime64[ns]')"
   ]
  },
  {
   "cell_type": "code",
   "execution_count": 34,
   "id": "sophisticated-supervisor",
   "metadata": {
    "execution": {
     "iopub.execute_input": "2021-06-02T12:46:04.300409Z",
     "iopub.status.busy": "2021-06-02T12:46:04.299613Z",
     "iopub.status.idle": "2021-06-02T12:46:04.301724Z",
     "shell.execute_reply": "2021-06-02T12:46:04.302355Z"
    },
    "papermill": {
     "duration": 0.043183,
     "end_time": "2021-06-02T12:46:04.302503",
     "exception": false,
     "start_time": "2021-06-02T12:46:04.259320",
     "status": "completed"
    },
    "tags": []
   },
   "outputs": [],
   "source": [
    "#hide\n",
    "# g['date'] = g.date.dt.dayofyear"
   ]
  },
  {
   "cell_type": "code",
   "execution_count": 35,
   "id": "inside-dubai",
   "metadata": {
    "execution": {
     "iopub.execute_input": "2021-06-02T12:46:04.386072Z",
     "iopub.status.busy": "2021-06-02T12:46:04.385463Z",
     "iopub.status.idle": "2021-06-02T12:46:04.387420Z",
     "shell.execute_reply": "2021-06-02T12:46:04.388252Z"
    },
    "papermill": {
     "duration": 0.044759,
     "end_time": "2021-06-02T12:46:04.388521",
     "exception": false,
     "start_time": "2021-06-02T12:46:04.343762",
     "status": "completed"
    },
    "tags": []
   },
   "outputs": [],
   "source": [
    "#hide\n",
    "# g = g.rename(columns= {'continent':'group','country':'name','cases':'value'})"
   ]
  },
  {
   "cell_type": "code",
   "execution_count": 36,
   "id": "fleet-motorcycle",
   "metadata": {
    "execution": {
     "iopub.execute_input": "2021-06-02T12:46:04.467036Z",
     "iopub.status.busy": "2021-06-02T12:46:04.466422Z",
     "iopub.status.idle": "2021-06-02T12:46:04.468867Z",
     "shell.execute_reply": "2021-06-02T12:46:04.468229Z"
    },
    "papermill": {
     "duration": 0.042705,
     "end_time": "2021-06-02T12:46:04.468998",
     "exception": false,
     "start_time": "2021-06-02T12:46:04.426293",
     "status": "completed"
    },
    "tags": []
   },
   "outputs": [],
   "source": [
    "#hide\n",
    "# cols = ['name','group','day','value']"
   ]
  },
  {
   "cell_type": "code",
   "execution_count": 37,
   "id": "continued-sleeping",
   "metadata": {
    "execution": {
     "iopub.execute_input": "2021-06-02T12:46:04.545154Z",
     "iopub.status.busy": "2021-06-02T12:46:04.544556Z",
     "iopub.status.idle": "2021-06-02T12:46:04.545704Z",
     "shell.execute_reply": "2021-06-02T12:46:04.546245Z"
    },
    "papermill": {
     "duration": 0.040659,
     "end_time": "2021-06-02T12:46:04.546365",
     "exception": false,
     "start_time": "2021-06-02T12:46:04.505706",
     "status": "completed"
    },
    "tags": []
   },
   "outputs": [],
   "source": [
    "#hide\n",
    "# g.rename(columns= {'date':'day'},inplace = True)"
   ]
  },
  {
   "cell_type": "code",
   "execution_count": 38,
   "id": "major-fight",
   "metadata": {
    "execution": {
     "iopub.execute_input": "2021-06-02T12:46:04.621924Z",
     "iopub.status.busy": "2021-06-02T12:46:04.621281Z",
     "iopub.status.idle": "2021-06-02T12:46:04.623855Z",
     "shell.execute_reply": "2021-06-02T12:46:04.623238Z"
    },
    "papermill": {
     "duration": 0.042375,
     "end_time": "2021-06-02T12:46:04.623982",
     "exception": false,
     "start_time": "2021-06-02T12:46:04.581607",
     "status": "completed"
    },
    "tags": []
   },
   "outputs": [],
   "source": [
    "#hide\n",
    "# g = g[cols]"
   ]
  },
  {
   "cell_type": "code",
   "execution_count": 39,
   "id": "structured-mobile",
   "metadata": {
    "execution": {
     "iopub.execute_input": "2021-06-02T12:46:04.706750Z",
     "iopub.status.busy": "2021-06-02T12:46:04.705984Z",
     "iopub.status.idle": "2021-06-02T12:46:04.709668Z",
     "shell.execute_reply": "2021-06-02T12:46:04.710512Z"
    },
    "papermill": {
     "duration": 0.047155,
     "end_time": "2021-06-02T12:46:04.710688",
     "exception": false,
     "start_time": "2021-06-02T12:46:04.663533",
     "status": "completed"
    },
    "tags": []
   },
   "outputs": [],
   "source": [
    "# #hide\n",
    "# g = g[g.group.notna()]"
   ]
  },
  {
   "cell_type": "code",
   "execution_count": 40,
   "id": "determined-closing",
   "metadata": {
    "execution": {
     "iopub.execute_input": "2021-06-02T12:46:04.788692Z",
     "iopub.status.busy": "2021-06-02T12:46:04.788026Z",
     "iopub.status.idle": "2021-06-02T12:46:04.790482Z",
     "shell.execute_reply": "2021-06-02T12:46:04.791354Z"
    },
    "papermill": {
     "duration": 0.041706,
     "end_time": "2021-06-02T12:46:04.791590",
     "exception": false,
     "start_time": "2021-06-02T12:46:04.749884",
     "status": "completed"
    },
    "tags": []
   },
   "outputs": [],
   "source": [
    "# #hide\n",
    "# colors = dict(zip(\n",
    "#     [\"Oceania\", \"Europe\", \"Asia\", \"South America\", \"Middle East\", \"North America\", \"Africa\"],\n",
    "#     [\"#adb0ff\", \"#ffb3ff\", \"#90d595\", \"#e48381\", \"#aafbff\", \"#f7bb5f\", \"#eafb50\"]\n",
    "# ))\n",
    "# group_lk = g.set_index('name')['group'].to_dict()"
   ]
  },
  {
   "cell_type": "code",
   "execution_count": null,
   "id": "gross-drinking",
   "metadata": {
    "papermill": {
     "duration": 0.039214,
     "end_time": "2021-06-02T12:46:04.871914",
     "exception": false,
     "start_time": "2021-06-02T12:46:04.832700",
     "status": "completed"
    },
    "tags": []
   },
   "outputs": [],
   "source": []
  },
  {
   "cell_type": "code",
   "execution_count": 41,
   "id": "subject-macintosh",
   "metadata": {
    "execution": {
     "iopub.execute_input": "2021-06-02T12:46:04.965166Z",
     "iopub.status.busy": "2021-06-02T12:46:04.964415Z",
     "iopub.status.idle": "2021-06-02T12:46:04.968974Z",
     "shell.execute_reply": "2021-06-02T12:46:04.969684Z"
    },
    "papermill": {
     "duration": 0.054385,
     "end_time": "2021-06-02T12:46:04.969853",
     "exception": false,
     "start_time": "2021-06-02T12:46:04.915468",
     "status": "completed"
    },
    "tags": []
   },
   "outputs": [],
   "source": [
    "# #hide\n",
    "# fig, ax = plt.subplots(figsize=(15, 8))\n",
    "\n",
    "# def draw_barchart(current_day):\n",
    "#     dff = g[g['day'].eq(current_day)].sort_values(by='value', ascending=True).tail(10)\n",
    "#     ax.clear()\n",
    "#     ax.barh(dff['name'], dff['value'], color=[colors[group_lk[x]] for x in dff['name']])\n",
    "#     dx = dff['value'].max() / 200\n",
    "    \n",
    "#     for i, (value, name) in enumerate(zip(dff['value'], dff['name'])):\n",
    "#         ax.text(value-dx, i,     name,           size=14, weight=600, ha='right', va='bottom')\n",
    "#         ax.text(value-dx, i-.25, group_lk[name], size=10, color='#444444', ha='right', va='baseline')\n",
    "#         ax.text(value+dx, i,     f'{value:,.0f}',  size=14, ha='left',  va='center')\n",
    "#     ax.text(1, 0.4, current_day, transform=ax.transAxes, color='#777777', size=46, ha='right', weight=800)\n",
    "#     ax.text(0, 1.06, 'Population (thousands)', transform=ax.transAxes, size=12, color='#777777')\n",
    "#     ax.xaxis.set_major_formatter(ticker.StrMethodFormatter('{x:,.0f}'))\n",
    "#     ax.xaxis.set_ticks_position('top')\n",
    "#     ax.tick_params(axis='x', colors='#777777', labelsize=12)\n",
    "#     ax.set_yticks([])\n",
    "#     ax.margins(0, 0.01)\n",
    "#     ax.grid(which='major', axis='x', linestyle='-')\n",
    "#     ax.set_axisbelow(True)\n",
    "    \n",
    "#     ax.text(0, 1.15, 'Coronavirus',\n",
    "#             transform=ax.transAxes, size=24, weight=600, ha='left', va='top')\n",
    "# #     ax.text(1, 0, 'by @pratapvardhan; credit @jburnmurdoch', transform=ax.transAxes, color='#777777', ha='right',\n",
    "# #             bbox=dict(facecolor='white', alpha=0.8, edgecolor='white'))\n",
    "#     plt.box(False)"
   ]
  },
  {
   "cell_type": "code",
   "execution_count": 42,
   "id": "sexual-wages",
   "metadata": {
    "execution": {
     "iopub.execute_input": "2021-06-02T12:46:05.052219Z",
     "iopub.status.busy": "2021-06-02T12:46:05.051547Z",
     "iopub.status.idle": "2021-06-02T12:46:05.055014Z",
     "shell.execute_reply": "2021-06-02T12:46:05.054347Z"
    },
    "papermill": {
     "duration": 0.042993,
     "end_time": "2021-06-02T12:46:05.055142",
     "exception": false,
     "start_time": "2021-06-02T12:46:05.012149",
     "status": "completed"
    },
    "tags": []
   },
   "outputs": [],
   "source": [
    "# #hide_input\n",
    "# fig, ax = plt.subplots(figsize=(15, 8))\n",
    "# animator = animation.FuncAnimation(fig, draw_barchart, frames=range(g.day.values.min(), g.day.values.max()))\n",
    "# HTML(animator.to_jshtml())\n",
    "# # or use animator.to_html5_video() or animator.save() "
   ]
  },
  {
   "cell_type": "code",
   "execution_count": null,
   "id": "australian-container",
   "metadata": {
    "papermill": {
     "duration": 0.037893,
     "end_time": "2021-06-02T12:46:05.134897",
     "exception": false,
     "start_time": "2021-06-02T12:46:05.097004",
     "status": "completed"
    },
    "tags": []
   },
   "outputs": [],
   "source": []
  },
  {
   "cell_type": "code",
   "execution_count": null,
   "id": "mediterranean-pontiac",
   "metadata": {
    "papermill": {
     "duration": 0.035694,
     "end_time": "2021-06-02T12:46:05.212796",
     "exception": false,
     "start_time": "2021-06-02T12:46:05.177102",
     "status": "completed"
    },
    "tags": []
   },
   "outputs": [],
   "source": []
  },
  {
   "cell_type": "code",
   "execution_count": null,
   "id": "aging-legislature",
   "metadata": {
    "papermill": {
     "duration": 0.035053,
     "end_time": "2021-06-02T12:46:05.283186",
     "exception": false,
     "start_time": "2021-06-02T12:46:05.248133",
     "status": "completed"
    },
    "tags": []
   },
   "outputs": [],
   "source": []
  }
 ],
 "metadata": {
  "kernelspec": {
   "display_name": "Python 3",
   "language": "python",
   "name": "python3"
  },
  "language_info": {
   "codemirror_mode": {
    "name": "ipython",
    "version": 3
   },
   "file_extension": ".py",
   "mimetype": "text/x-python",
   "name": "python",
   "nbconvert_exporter": "python",
   "pygments_lexer": "ipython3",
   "version": "3.6.13"
  },
  "papermill": {
   "duration": 6.664515,
   "end_time": "2021-06-02T12:46:05.625866",
   "environment_variables": {},
   "exception": null,
   "input_path": "2020-03-21-covid19exp.ipynb",
   "output_path": "2020-03-21-covid19exp.ipynb",
   "parameters": {},
   "start_time": "2021-06-02T12:45:58.961351",
   "version": "2.0.0"
  }
 },
 "nbformat": 4,
 "nbformat_minor": 5
}