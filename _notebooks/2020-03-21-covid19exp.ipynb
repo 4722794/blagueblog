{
 "cells": [
  {
   "cell_type": "markdown",
   "id": "muslim-click",
   "metadata": {
    "papermill": {
     "duration": 0.034547,
     "end_time": "2022-04-21T12:14:52.395582",
     "exception": false,
     "start_time": "2022-04-21T12:14:52.361035",
     "status": "completed"
    },
    "tags": []
   },
   "source": [
    "# COVID-19 Case Race\n",
    "> A race chart to see rising cases around the world\n",
    "\n",
    "- author: Hargun Oberoi\n",
    "- image: images/covid-overview.png\n",
    "- hide: false\n",
    "- badges: false"
   ]
  },
  {
   "cell_type": "code",
   "execution_count": 1,
   "id": "proof-material",
   "metadata": {
    "execution": {
     "iopub.execute_input": "2022-04-21T12:14:52.466686Z",
     "iopub.status.busy": "2022-04-21T12:14:52.466151Z",
     "iopub.status.idle": "2022-04-21T12:14:52.789167Z",
     "shell.execute_reply": "2022-04-21T12:14:52.788619Z"
    },
    "papermill": {
     "duration": 0.36227,
     "end_time": "2022-04-21T12:14:52.789322",
     "exception": false,
     "start_time": "2022-04-21T12:14:52.427052",
     "status": "completed"
    },
    "tags": []
   },
   "outputs": [],
   "source": [
    "#hide\n",
    "import numpy as np\n",
    "import pandas as pd\n",
    "from jinja2 import Template\n",
    "from IPython.display import HTML"
   ]
  },
  {
   "cell_type": "code",
   "execution_count": 2,
   "id": "developed-terminology",
   "metadata": {
    "execution": {
     "iopub.execute_input": "2022-04-21T12:14:52.855710Z",
     "iopub.status.busy": "2022-04-21T12:14:52.855176Z",
     "iopub.status.idle": "2022-04-21T12:14:52.857269Z",
     "shell.execute_reply": "2022-04-21T12:14:52.857704Z"
    },
    "papermill": {
     "duration": 0.037178,
     "end_time": "2022-04-21T12:14:52.857837",
     "exception": false,
     "start_time": "2022-04-21T12:14:52.820659",
     "status": "completed"
    },
    "tags": []
   },
   "outputs": [],
   "source": [
    "#hide\n",
    "\n",
    "# FETCH\n",
    "base_url = 'https://raw.githubusercontent.com/pratapvardhan/notebooks/master/covid19/'\n",
    "paths = {\n",
    "    'mapping': base_url + 'mapping_countries.csv',\n",
    "    'overview': base_url + 'overview.tpl'\n",
    "}"
   ]
  },
  {
   "cell_type": "code",
   "execution_count": 3,
   "id": "dynamic-saver",
   "metadata": {
    "execution": {
     "iopub.execute_input": "2022-04-21T12:14:52.926704Z",
     "iopub.status.busy": "2022-04-21T12:14:52.926175Z",
     "iopub.status.idle": "2022-04-21T12:14:52.928132Z",
     "shell.execute_reply": "2022-04-21T12:14:52.928619Z"
    },
    "papermill": {
     "duration": 0.041414,
     "end_time": "2022-04-21T12:14:52.928745",
     "exception": false,
     "start_time": "2022-04-21T12:14:52.887331",
     "status": "completed"
    },
    "tags": []
   },
   "outputs": [
    {
     "data": {
      "text/plain": [
       "'https://raw.githubusercontent.com/pratapvardhan/notebooks/master/covid19/mapping_countries.csv'"
      ]
     },
     "execution_count": 3,
     "metadata": {},
     "output_type": "execute_result"
    }
   ],
   "source": [
    "#hide\n",
    "paths['mapping']"
   ]
  },
  {
   "cell_type": "code",
   "execution_count": 4,
   "id": "urban-software",
   "metadata": {
    "execution": {
     "iopub.execute_input": "2022-04-21T12:14:52.995199Z",
     "iopub.status.busy": "2022-04-21T12:14:52.994558Z",
     "iopub.status.idle": "2022-04-21T12:14:52.996073Z",
     "shell.execute_reply": "2022-04-21T12:14:52.996568Z"
    },
    "papermill": {
     "duration": 0.037913,
     "end_time": "2022-04-21T12:14:52.996712",
     "exception": false,
     "start_time": "2022-04-21T12:14:52.958799",
     "status": "completed"
    },
    "tags": []
   },
   "outputs": [],
   "source": [
    "#hide\n",
    "def get_mappings(url):\n",
    "    df = pd.read_csv(url)\n",
    "    return {\n",
    "        'df': df,\n",
    "        'replace.country': dict(df.dropna(subset=['Name']).set_index('Country')['Name']),\n",
    "        'map.continent': dict(df.set_index('Name')['Continent'])\n",
    "    }"
   ]
  },
  {
   "cell_type": "code",
   "execution_count": 5,
   "id": "intimate-machinery",
   "metadata": {
    "execution": {
     "iopub.execute_input": "2022-04-21T12:14:53.062688Z",
     "iopub.status.busy": "2022-04-21T12:14:53.062156Z",
     "iopub.status.idle": "2022-04-21T12:14:53.122657Z",
     "shell.execute_reply": "2022-04-21T12:14:53.122197Z"
    },
    "papermill": {
     "duration": 0.095386,
     "end_time": "2022-04-21T12:14:53.122774",
     "exception": false,
     "start_time": "2022-04-21T12:14:53.027388",
     "status": "completed"
    },
    "tags": []
   },
   "outputs": [],
   "source": [
    "#hide\n",
    "mapping = get_mappings(paths['mapping'])"
   ]
  },
  {
   "cell_type": "code",
   "execution_count": 6,
   "id": "certified-tactics",
   "metadata": {
    "execution": {
     "iopub.execute_input": "2022-04-21T12:14:53.188632Z",
     "iopub.status.busy": "2022-04-21T12:14:53.187653Z",
     "iopub.status.idle": "2022-04-21T12:14:53.189295Z",
     "shell.execute_reply": "2022-04-21T12:14:53.189784Z"
    },
    "papermill": {
     "duration": 0.037085,
     "end_time": "2022-04-21T12:14:53.189929",
     "exception": false,
     "start_time": "2022-04-21T12:14:53.152844",
     "status": "completed"
    },
    "tags": []
   },
   "outputs": [],
   "source": [
    "#hide\n",
    "def get_template(path):\n",
    "    from urllib.parse import urlparse\n",
    "    if bool(urlparse(path).netloc):\n",
    "        from urllib.request import urlopen\n",
    "        return urlopen(path).read().decode('utf8')\n",
    "    return open(path).read()"
   ]
  },
  {
   "cell_type": "code",
   "execution_count": 7,
   "id": "realistic-blast",
   "metadata": {
    "execution": {
     "iopub.execute_input": "2022-04-21T12:14:53.255119Z",
     "iopub.status.busy": "2022-04-21T12:14:53.254575Z",
     "iopub.status.idle": "2022-04-21T12:14:53.256613Z",
     "shell.execute_reply": "2022-04-21T12:14:53.256181Z"
    },
    "papermill": {
     "duration": 0.036604,
     "end_time": "2022-04-21T12:14:53.256721",
     "exception": false,
     "start_time": "2022-04-21T12:14:53.220117",
     "status": "completed"
    },
    "tags": []
   },
   "outputs": [],
   "source": [
    "#hide\n",
    "def get_frame(name):\n",
    "    url = (\n",
    "        'https://raw.githubusercontent.com/CSSEGISandData/COVID-19/master/csse_covid_19_data/'\n",
    "        f'csse_covid_19_time_series/time_series_covid19_{name}_global.csv')\n",
    "    df = pd.read_csv(url)\n",
    "    # rename countries\n",
    "    df['Country/Region'] = df['Country/Region'].replace(mapping['replace.country'])\n",
    "    return df"
   ]
  },
  {
   "cell_type": "code",
   "execution_count": 8,
   "id": "affiliated-characterization",
   "metadata": {
    "execution": {
     "iopub.execute_input": "2022-04-21T12:14:53.322915Z",
     "iopub.status.busy": "2022-04-21T12:14:53.322385Z",
     "iopub.status.idle": "2022-04-21T12:14:53.324948Z",
     "shell.execute_reply": "2022-04-21T12:14:53.324531Z"
    },
    "papermill": {
     "duration": 0.038276,
     "end_time": "2022-04-21T12:14:53.325062",
     "exception": false,
     "start_time": "2022-04-21T12:14:53.286786",
     "status": "completed"
    },
    "tags": []
   },
   "outputs": [],
   "source": [
    "#hide\n",
    "def get_dates(df):\n",
    "    dt_cols = df.columns[~df.columns.isin(['Province/State', 'Country/Region', 'Lat', 'Long'])]\n",
    "    LAST_DATE_I = -1\n",
    "    # sometimes last column may be empty, then go backwards\n",
    "    for i in range(-1, -len(dt_cols), -1):\n",
    "        if not df[dt_cols[i]].fillna(0).eq(0).all():\n",
    "            LAST_DATE_I = i\n",
    "            break\n",
    "    return LAST_DATE_I, dt_cols"
   ]
  },
  {
   "cell_type": "code",
   "execution_count": 9,
   "id": "recent-optimization",
   "metadata": {
    "execution": {
     "iopub.execute_input": "2022-04-21T12:14:53.390132Z",
     "iopub.status.busy": "2022-04-21T12:14:53.389589Z",
     "iopub.status.idle": "2022-04-21T12:14:53.990750Z",
     "shell.execute_reply": "2022-04-21T12:14:53.991233Z"
    },
    "papermill": {
     "duration": 0.636425,
     "end_time": "2022-04-21T12:14:53.991396",
     "exception": false,
     "start_time": "2022-04-21T12:14:53.354971",
     "status": "completed"
    },
    "tags": []
   },
   "outputs": [],
   "source": [
    "#hide\n",
    "COL_REGION = 'Country/Region'\n",
    "# Confirmed, Recovered, Deaths\n",
    "df = get_frame('confirmed')\n",
    "# dft_: timeseries, dfc_: today country agg\n",
    "dft_cases = df\n",
    "dft_deaths = get_frame('deaths')\n",
    "dft_recovered = get_frame('recovered')\n",
    "LAST_DATE_I, dt_cols = get_dates(df)"
   ]
  },
  {
   "cell_type": "code",
   "execution_count": 10,
   "id": "absolute-copper",
   "metadata": {
    "execution": {
     "iopub.execute_input": "2022-04-21T12:14:54.058354Z",
     "iopub.status.busy": "2022-04-21T12:14:54.057812Z",
     "iopub.status.idle": "2022-04-21T12:14:54.059872Z",
     "shell.execute_reply": "2022-04-21T12:14:54.059347Z"
    },
    "papermill": {
     "duration": 0.037444,
     "end_time": "2022-04-21T12:14:54.059989",
     "exception": false,
     "start_time": "2022-04-21T12:14:54.022545",
     "status": "completed"
    },
    "tags": []
   },
   "outputs": [],
   "source": [
    "#hide\n",
    "LAST_DATE_I, dt_cols = get_dates(df)\n",
    "dt_today =dt_cols[LAST_DATE_I]\n",
    "# dt_5day = dt_cols[LAST_DATE_I - 5]\n",
    "dt_yday = dt_cols[LAST_DATE_I - 1]"
   ]
  },
  {
   "cell_type": "code",
   "execution_count": 11,
   "id": "restricted-sheriff",
   "metadata": {
    "execution": {
     "iopub.execute_input": "2022-04-21T12:14:54.129088Z",
     "iopub.status.busy": "2022-04-21T12:14:54.128564Z",
     "iopub.status.idle": "2022-04-21T12:14:54.133330Z",
     "shell.execute_reply": "2022-04-21T12:14:54.132887Z"
    },
    "papermill": {
     "duration": 0.043297,
     "end_time": "2022-04-21T12:14:54.133441",
     "exception": false,
     "start_time": "2022-04-21T12:14:54.090144",
     "status": "completed"
    },
    "tags": []
   },
   "outputs": [],
   "source": [
    "#hide\n",
    "dfc_cases = dft_cases.groupby(COL_REGION)[dt_today].sum()\n",
    "dfc_deaths = dft_deaths.groupby(COL_REGION)[dt_today].sum()\n",
    "# dfp_cases = dft_cases.groupby(COL_REGION)[dt_5day].sum()\n",
    "# dfp_deaths = dft_deaths.groupby(COL_REGION)[dt_5day].sum()\n",
    "dfp_cases = dft_cases.groupby(COL_REGION)[dt_yday].sum()\n",
    "dfp_deaths = dft_deaths.groupby(COL_REGION)[dt_yday].sum()"
   ]
  },
  {
   "cell_type": "code",
   "execution_count": 12,
   "id": "deluxe-hepatitis",
   "metadata": {
    "execution": {
     "iopub.execute_input": "2022-04-21T12:14:54.199626Z",
     "iopub.status.busy": "2022-04-21T12:14:54.199109Z",
     "iopub.status.idle": "2022-04-21T12:14:54.203621Z",
     "shell.execute_reply": "2022-04-21T12:14:54.203183Z"
    },
    "papermill": {
     "duration": 0.040073,
     "end_time": "2022-04-21T12:14:54.203731",
     "exception": false,
     "start_time": "2022-04-21T12:14:54.163658",
     "status": "completed"
    },
    "tags": []
   },
   "outputs": [],
   "source": [
    "#hide\n",
    "df_table = (pd.DataFrame(dict(Cases = dfc_cases, Deaths = dfc_deaths, PCases = dfp_cases, PDeaths = dfp_deaths))\n",
    "            .sort_values(by = ['Cases','Deaths'], ascending = [False, False])\n",
    "            .reset_index())"
   ]
  },
  {
   "cell_type": "code",
   "execution_count": 13,
   "id": "educational-chancellor",
   "metadata": {
    "execution": {
     "iopub.execute_input": "2022-04-21T12:14:54.281195Z",
     "iopub.status.busy": "2022-04-21T12:14:54.280672Z",
     "iopub.status.idle": "2022-04-21T12:14:54.288066Z",
     "shell.execute_reply": "2022-04-21T12:14:54.287629Z"
    },
    "papermill": {
     "duration": 0.054563,
     "end_time": "2022-04-21T12:14:54.288175",
     "exception": false,
     "start_time": "2022-04-21T12:14:54.233612",
     "status": "completed"
    },
    "tags": []
   },
   "outputs": [
    {
     "data": {
      "text/html": [
       "<div>\n",
       "<style scoped>\n",
       "    .dataframe tbody tr th:only-of-type {\n",
       "        vertical-align: middle;\n",
       "    }\n",
       "\n",
       "    .dataframe tbody tr th {\n",
       "        vertical-align: top;\n",
       "    }\n",
       "\n",
       "    .dataframe thead th {\n",
       "        text-align: right;\n",
       "    }\n",
       "</style>\n",
       "<table border=\"1\" class=\"dataframe\">\n",
       "  <thead>\n",
       "    <tr style=\"text-align: right;\">\n",
       "      <th></th>\n",
       "      <th>Country/Region</th>\n",
       "      <th>Cases</th>\n",
       "      <th>Deaths</th>\n",
       "      <th>PCases</th>\n",
       "      <th>PDeaths</th>\n",
       "      <th>Cases (+)</th>\n",
       "      <th>Deaths (+)</th>\n",
       "      <th>Fatality Rate</th>\n",
       "      <th>Continent</th>\n",
       "    </tr>\n",
       "  </thead>\n",
       "  <tbody>\n",
       "    <tr>\n",
       "      <th>0</th>\n",
       "      <td>US</td>\n",
       "      <td>80801713</td>\n",
       "      <td>990208</td>\n",
       "      <td>80732932</td>\n",
       "      <td>989331</td>\n",
       "      <td>68781</td>\n",
       "      <td>877</td>\n",
       "      <td>1.23</td>\n",
       "      <td>North America</td>\n",
       "    </tr>\n",
       "    <tr>\n",
       "      <th>1</th>\n",
       "      <td>India</td>\n",
       "      <td>43049974</td>\n",
       "      <td>522062</td>\n",
       "      <td>43047594</td>\n",
       "      <td>522006</td>\n",
       "      <td>2380</td>\n",
       "      <td>56</td>\n",
       "      <td>1.21</td>\n",
       "      <td>Asia</td>\n",
       "    </tr>\n",
       "    <tr>\n",
       "      <th>2</th>\n",
       "      <td>Brazil</td>\n",
       "      <td>30311969</td>\n",
       "      <td>662659</td>\n",
       "      <td>30275219</td>\n",
       "      <td>662396</td>\n",
       "      <td>36750</td>\n",
       "      <td>263</td>\n",
       "      <td>2.19</td>\n",
       "      <td>South America</td>\n",
       "    </tr>\n",
       "    <tr>\n",
       "      <th>3</th>\n",
       "      <td>France</td>\n",
       "      <td>28162002</td>\n",
       "      <td>145651</td>\n",
       "      <td>28006219</td>\n",
       "      <td>145424</td>\n",
       "      <td>155783</td>\n",
       "      <td>227</td>\n",
       "      <td>0.52</td>\n",
       "      <td>Europe</td>\n",
       "    </tr>\n",
       "    <tr>\n",
       "      <th>4</th>\n",
       "      <td>Germany</td>\n",
       "      <td>23844536</td>\n",
       "      <td>133632</td>\n",
       "      <td>23658211</td>\n",
       "      <td>133308</td>\n",
       "      <td>186325</td>\n",
       "      <td>324</td>\n",
       "      <td>0.56</td>\n",
       "      <td>Europe</td>\n",
       "    </tr>\n",
       "  </tbody>\n",
       "</table>\n",
       "</div>"
      ],
      "text/plain": [
       "  Country/Region     Cases  Deaths    PCases  PDeaths  Cases (+)  Deaths (+)  \\\n",
       "0             US  80801713  990208  80732932   989331      68781         877   \n",
       "1          India  43049974  522062  43047594   522006       2380          56   \n",
       "2         Brazil  30311969  662659  30275219   662396      36750         263   \n",
       "3         France  28162002  145651  28006219   145424     155783         227   \n",
       "4        Germany  23844536  133632  23658211   133308     186325         324   \n",
       "\n",
       "   Fatality Rate      Continent  \n",
       "0           1.23  North America  \n",
       "1           1.21           Asia  \n",
       "2           2.19  South America  \n",
       "3           0.52         Europe  \n",
       "4           0.56         Europe  "
      ]
     },
     "execution_count": 13,
     "metadata": {},
     "output_type": "execute_result"
    }
   ],
   "source": [
    "#hide\n",
    "for c in 'Cases, Deaths'.split(', '):\n",
    "    df_table[f'{c} (+)'] = (df_table[c] - df_table[f'P{c}']).clip(0)\n",
    "    #Clip ça veut dire, les chiffres negatif sont interdit\n",
    "df_table['Fatality Rate'] = (100* df_table['Deaths']/ df_table['Cases']).round(2)\n",
    "df_table['Continent'] = df_table['Country/Region'].map(mapping['map.continent'])\n",
    "df_table.head(5)"
   ]
  },
  {
   "cell_type": "code",
   "execution_count": 14,
   "id": "aboriginal-bulgaria",
   "metadata": {
    "execution": {
     "iopub.execute_input": "2022-04-21T12:14:54.355642Z",
     "iopub.status.busy": "2022-04-21T12:14:54.355127Z",
     "iopub.status.idle": "2022-04-21T12:14:54.357786Z",
     "shell.execute_reply": "2022-04-21T12:14:54.358286Z"
    },
    "papermill": {
     "duration": 0.03844,
     "end_time": "2022-04-21T12:14:54.358420",
     "exception": false,
     "start_time": "2022-04-21T12:14:54.319980",
     "status": "completed"
    },
    "tags": []
   },
   "outputs": [],
   "source": [
    "#hide\n",
    "#delete problematic countries from table\n",
    "df_table = df_table[~df_table['Country/Region'].isin(['Cape Verde', 'Cruise Ship', 'Kosovo'])]"
   ]
  },
  {
   "cell_type": "code",
   "execution_count": 15,
   "id": "fantastic-effect",
   "metadata": {
    "execution": {
     "iopub.execute_input": "2022-04-21T12:14:54.426943Z",
     "iopub.status.busy": "2022-04-21T12:14:54.426423Z",
     "iopub.status.idle": "2022-04-21T12:14:54.443457Z",
     "shell.execute_reply": "2022-04-21T12:14:54.443046Z"
    },
    "papermill": {
     "duration": 0.054945,
     "end_time": "2022-04-21T12:14:54.443568",
     "exception": false,
     "start_time": "2022-04-21T12:14:54.388623",
     "status": "completed"
    },
    "tags": []
   },
   "outputs": [
    {
     "data": {
      "text/html": [
       "<div>\n",
       "<style scoped>\n",
       "    .dataframe tbody tr th:only-of-type {\n",
       "        vertical-align: middle;\n",
       "    }\n",
       "\n",
       "    .dataframe tbody tr th {\n",
       "        vertical-align: top;\n",
       "    }\n",
       "\n",
       "    .dataframe thead th {\n",
       "        text-align: right;\n",
       "    }\n",
       "</style>\n",
       "<table border=\"1\" class=\"dataframe\">\n",
       "  <thead>\n",
       "    <tr style=\"text-align: right;\">\n",
       "      <th></th>\n",
       "      <th>Country/Region</th>\n",
       "      <th>Cases</th>\n",
       "      <th>Deaths</th>\n",
       "      <th>PCases</th>\n",
       "      <th>PDeaths</th>\n",
       "      <th>Cases (+)</th>\n",
       "      <th>Deaths (+)</th>\n",
       "      <th>Fatality Rate</th>\n",
       "      <th>Continent</th>\n",
       "    </tr>\n",
       "  </thead>\n",
       "  <tbody>\n",
       "    <tr>\n",
       "      <th>0</th>\n",
       "      <td>US</td>\n",
       "      <td>80801713</td>\n",
       "      <td>990208</td>\n",
       "      <td>80732932</td>\n",
       "      <td>989331</td>\n",
       "      <td>68781</td>\n",
       "      <td>877</td>\n",
       "      <td>1.2</td>\n",
       "      <td>North America</td>\n",
       "    </tr>\n",
       "    <tr>\n",
       "      <th>1</th>\n",
       "      <td>India</td>\n",
       "      <td>43049974</td>\n",
       "      <td>522062</td>\n",
       "      <td>43047594</td>\n",
       "      <td>522006</td>\n",
       "      <td>2380</td>\n",
       "      <td>56</td>\n",
       "      <td>1.2</td>\n",
       "      <td>Asia</td>\n",
       "    </tr>\n",
       "    <tr>\n",
       "      <th>2</th>\n",
       "      <td>Brazil</td>\n",
       "      <td>30311969</td>\n",
       "      <td>662659</td>\n",
       "      <td>30275219</td>\n",
       "      <td>662396</td>\n",
       "      <td>36750</td>\n",
       "      <td>263</td>\n",
       "      <td>2.2</td>\n",
       "      <td>South America</td>\n",
       "    </tr>\n",
       "    <tr>\n",
       "      <th>3</th>\n",
       "      <td>France</td>\n",
       "      <td>28162002</td>\n",
       "      <td>145651</td>\n",
       "      <td>28006219</td>\n",
       "      <td>145424</td>\n",
       "      <td>155783</td>\n",
       "      <td>227</td>\n",
       "      <td>0.5</td>\n",
       "      <td>Europe</td>\n",
       "    </tr>\n",
       "    <tr>\n",
       "      <th>4</th>\n",
       "      <td>Germany</td>\n",
       "      <td>23844536</td>\n",
       "      <td>133632</td>\n",
       "      <td>23658211</td>\n",
       "      <td>133308</td>\n",
       "      <td>186325</td>\n",
       "      <td>324</td>\n",
       "      <td>0.6</td>\n",
       "      <td>Europe</td>\n",
       "    </tr>\n",
       "  </tbody>\n",
       "</table>\n",
       "</div>"
      ],
      "text/plain": [
       "  Country/Region     Cases  Deaths    PCases  PDeaths  Cases (+)  Deaths (+)  \\\n",
       "0             US  80801713  990208  80732932   989331      68781         877   \n",
       "1          India  43049974  522062  43047594   522006       2380          56   \n",
       "2         Brazil  30311969  662659  30275219   662396      36750         263   \n",
       "3         France  28162002  145651  28006219   145424     155783         227   \n",
       "4        Germany  23844536  133632  23658211   133308     186325         324   \n",
       "\n",
       "   Fatality Rate      Continent  \n",
       "0            1.2  North America  \n",
       "1            1.2           Asia  \n",
       "2            2.2  South America  \n",
       "3            0.5         Europe  \n",
       "4            0.6         Europe  "
      ]
     },
     "execution_count": 15,
     "metadata": {},
     "output_type": "execute_result"
    }
   ],
   "source": [
    "#hide\n",
    "df_table = (pd.DataFrame(dict(Cases=dfc_cases, Deaths=dfc_deaths, PCases=dfp_cases, PDeaths=dfp_deaths))\n",
    "             .sort_values(by=['Cases', 'Deaths'], ascending=[False, False])\n",
    "             .reset_index())\n",
    "df_table.rename(columns={'index': 'Country/Region'}, inplace=True)\n",
    "for c in 'Cases, Deaths'.split(', '):\n",
    "    df_table[f'{c} (+)'] = (df_table[c] - df_table[f'P{c}']).clip(0)  # DATA BUG\n",
    "df_table['Fatality Rate'] = (100 * df_table['Deaths'] / df_table['Cases']).round(1)\n",
    "df_table['Continent'] = df_table['Country/Region'].map(mapping['map.continent'])\n",
    "df_table.head(5)"
   ]
  },
  {
   "cell_type": "code",
   "execution_count": 16,
   "id": "fewer-occasion",
   "metadata": {
    "execution": {
     "iopub.execute_input": "2022-04-21T12:14:54.509833Z",
     "iopub.status.busy": "2022-04-21T12:14:54.509288Z",
     "iopub.status.idle": "2022-04-21T12:14:54.512466Z",
     "shell.execute_reply": "2022-04-21T12:14:54.512057Z"
    },
    "papermill": {
     "duration": 0.037969,
     "end_time": "2022-04-21T12:14:54.512571",
     "exception": false,
     "start_time": "2022-04-21T12:14:54.474602",
     "status": "completed"
    },
    "tags": []
   },
   "outputs": [],
   "source": [
    "#hide\n",
    "#delete problematic countries from table\n",
    "df_table = df_table[~df_table['Country/Region'].isin(['Cape Verde', 'Cruise Ship', 'Kosovo'])]"
   ]
  },
  {
   "cell_type": "code",
   "execution_count": 17,
   "id": "related-center",
   "metadata": {
    "execution": {
     "iopub.execute_input": "2022-04-21T12:14:54.582806Z",
     "iopub.status.busy": "2022-04-21T12:14:54.582288Z",
     "iopub.status.idle": "2022-04-21T12:14:54.594619Z",
     "shell.execute_reply": "2022-04-21T12:14:54.594171Z"
    },
    "papermill": {
     "duration": 0.05137,
     "end_time": "2022-04-21T12:14:54.594727",
     "exception": false,
     "start_time": "2022-04-21T12:14:54.543357",
     "status": "completed"
    },
    "tags": []
   },
   "outputs": [],
   "source": [
    "#hide\n",
    "metrics = [df_table.columns[index] for index in [1,2,5,6]]\n",
    "# s_china = df_table[df_table['Country/Region'].eq('China')][metrics].sum().add_prefix('China ')\n",
    "s_us = df_table[df_table['Country/Region'].eq('US')][metrics].sum().add_prefix('US ')\n",
    "s_eu = df_table[df_table['Continent'].eq('Europe')][metrics].sum().add_prefix('EU ')\n",
    "s_ind = df_table[df_table['Country/Region'].eq('India')][metrics].sum().add_prefix('India ')\n",
    "summary = {'updated': pd.to_datetime(dt_today), 'since': pd.to_datetime(dt_yday)}\n",
    "summary = {'updated': pd.to_datetime(dt_today), 'since': pd.to_datetime(dt_yday)}\n",
    "summary = {**summary, **df_table[metrics].sum(), **s_ind, **s_us, **s_eu}"
   ]
  },
  {
   "cell_type": "code",
   "execution_count": 18,
   "id": "engaging-syndrome",
   "metadata": {
    "execution": {
     "iopub.execute_input": "2022-04-21T12:14:54.662190Z",
     "iopub.status.busy": "2022-04-21T12:14:54.661666Z",
     "iopub.status.idle": "2022-04-21T12:14:54.678787Z",
     "shell.execute_reply": "2022-04-21T12:14:54.679171Z"
    },
    "papermill": {
     "duration": 0.053538,
     "end_time": "2022-04-21T12:14:54.679307",
     "exception": false,
     "start_time": "2022-04-21T12:14:54.625769",
     "status": "completed"
    },
    "tags": []
   },
   "outputs": [],
   "source": [
    "#hide\n",
    "dft_ct_new_cases = dft_cases.groupby(COL_REGION)[dt_cols].sum().diff(axis=1).fillna(0).astype(int)"
   ]
  },
  {
   "cell_type": "code",
   "execution_count": 19,
   "id": "neutral-assignment",
   "metadata": {
    "execution": {
     "iopub.execute_input": "2022-04-21T12:14:54.747373Z",
     "iopub.status.busy": "2022-04-21T12:14:54.746779Z",
     "iopub.status.idle": "2022-04-21T12:14:54.748527Z",
     "shell.execute_reply": "2022-04-21T12:14:54.748910Z"
    },
    "papermill": {
     "duration": 0.038912,
     "end_time": "2022-04-21T12:14:54.749038",
     "exception": false,
     "start_time": "2022-04-21T12:14:54.710126",
     "status": "completed"
    },
    "tags": []
   },
   "outputs": [],
   "source": [
    "#hide\n",
    "everydaycases = dft_ct_new_cases.cumsum(axis=1)"
   ]
  },
  {
   "cell_type": "code",
   "execution_count": 20,
   "id": "parliamentary-calgary",
   "metadata": {
    "execution": {
     "iopub.execute_input": "2022-04-21T12:14:54.815637Z",
     "iopub.status.busy": "2022-04-21T12:14:54.815111Z",
     "iopub.status.idle": "2022-04-21T12:14:55.344664Z",
     "shell.execute_reply": "2022-04-21T12:14:55.345121Z"
    },
    "papermill": {
     "duration": 0.565203,
     "end_time": "2022-04-21T12:14:55.345265",
     "exception": false,
     "start_time": "2022-04-21T12:14:54.780062",
     "status": "completed"
    },
    "tags": []
   },
   "outputs": [],
   "source": [
    "#hide\n",
    "import pandas as pd\n",
    "import matplotlib.pyplot as plt\n",
    "import matplotlib.ticker as ticker\n",
    "import matplotlib.animation as animation\n",
    "from IPython.display import HTML"
   ]
  },
  {
   "cell_type": "code",
   "execution_count": 21,
   "id": "lasting-extraction",
   "metadata": {
    "execution": {
     "iopub.execute_input": "2022-04-21T12:14:55.413035Z",
     "iopub.status.busy": "2022-04-21T12:14:55.412523Z",
     "iopub.status.idle": "2022-04-21T12:14:55.418935Z",
     "shell.execute_reply": "2022-04-21T12:14:55.418517Z"
    },
    "papermill": {
     "duration": 0.04281,
     "end_time": "2022-04-21T12:14:55.419050",
     "exception": false,
     "start_time": "2022-04-21T12:14:55.376240",
     "status": "completed"
    },
    "tags": []
   },
   "outputs": [],
   "source": [
    "#hide\n",
    "t = everydaycases.stack()"
   ]
  },
  {
   "cell_type": "code",
   "execution_count": 22,
   "id": "premier-sleeve",
   "metadata": {
    "execution": {
     "iopub.execute_input": "2022-04-21T12:14:55.485862Z",
     "iopub.status.busy": "2022-04-21T12:14:55.485292Z",
     "iopub.status.idle": "2022-04-21T12:14:55.495791Z",
     "shell.execute_reply": "2022-04-21T12:14:55.496177Z"
    },
    "papermill": {
     "duration": 0.046064,
     "end_time": "2022-04-21T12:14:55.496309",
     "exception": false,
     "start_time": "2022-04-21T12:14:55.450245",
     "status": "completed"
    },
    "tags": []
   },
   "outputs": [],
   "source": [
    "#hide\n",
    "g = t.reset_index(['Country/Region'])"
   ]
  },
  {
   "cell_type": "code",
   "execution_count": 23,
   "id": "distributed-pittsburgh",
   "metadata": {
    "execution": {
     "iopub.execute_input": "2022-04-21T12:14:55.561384Z",
     "iopub.status.busy": "2022-04-21T12:14:55.560799Z",
     "iopub.status.idle": "2022-04-21T12:14:55.562927Z",
     "shell.execute_reply": "2022-04-21T12:14:55.562433Z"
    },
    "papermill": {
     "duration": 0.036047,
     "end_time": "2022-04-21T12:14:55.563035",
     "exception": false,
     "start_time": "2022-04-21T12:14:55.526988",
     "status": "completed"
    },
    "tags": []
   },
   "outputs": [],
   "source": [
    "#hide\n",
    "g.index.name = 'date'"
   ]
  },
  {
   "cell_type": "code",
   "execution_count": 24,
   "id": "naked-donor",
   "metadata": {
    "execution": {
     "iopub.execute_input": "2022-04-21T12:14:55.628185Z",
     "iopub.status.busy": "2022-04-21T12:14:55.627589Z",
     "iopub.status.idle": "2022-04-21T12:14:55.629798Z",
     "shell.execute_reply": "2022-04-21T12:14:55.629255Z"
    },
    "papermill": {
     "duration": 0.035897,
     "end_time": "2022-04-21T12:14:55.629918",
     "exception": false,
     "start_time": "2022-04-21T12:14:55.594021",
     "status": "completed"
    },
    "tags": []
   },
   "outputs": [],
   "source": [
    "# #hide\n",
    "# g = g.reset_index(['date'])"
   ]
  },
  {
   "cell_type": "code",
   "execution_count": 25,
   "id": "incomplete-mustang",
   "metadata": {
    "execution": {
     "iopub.execute_input": "2022-04-21T12:14:55.695284Z",
     "iopub.status.busy": "2022-04-21T12:14:55.694759Z",
     "iopub.status.idle": "2022-04-21T12:14:55.698358Z",
     "shell.execute_reply": "2022-04-21T12:14:55.697948Z"
    },
    "papermill": {
     "duration": 0.0374,
     "end_time": "2022-04-21T12:14:55.698468",
     "exception": false,
     "start_time": "2022-04-21T12:14:55.661068",
     "status": "completed"
    },
    "tags": []
   },
   "outputs": [],
   "source": [
    "#hide\n",
    "# g.head()"
   ]
  },
  {
   "cell_type": "code",
   "execution_count": 26,
   "id": "specific-kruger",
   "metadata": {
    "execution": {
     "iopub.execute_input": "2022-04-21T12:14:55.763993Z",
     "iopub.status.busy": "2022-04-21T12:14:55.763403Z",
     "iopub.status.idle": "2022-04-21T12:14:55.765563Z",
     "shell.execute_reply": "2022-04-21T12:14:55.765073Z"
    },
    "papermill": {
     "duration": 0.035994,
     "end_time": "2022-04-21T12:14:55.765688",
     "exception": false,
     "start_time": "2022-04-21T12:14:55.729694",
     "status": "completed"
    },
    "tags": []
   },
   "outputs": [],
   "source": [
    "#hide\n",
    "# g.columns = ['date','country','cases']"
   ]
  },
  {
   "cell_type": "code",
   "execution_count": 27,
   "id": "tender-conversion",
   "metadata": {
    "execution": {
     "iopub.execute_input": "2022-04-21T12:14:55.830645Z",
     "iopub.status.busy": "2022-04-21T12:14:55.830045Z",
     "iopub.status.idle": "2022-04-21T12:14:55.832145Z",
     "shell.execute_reply": "2022-04-21T12:14:55.831573Z"
    },
    "papermill": {
     "duration": 0.035937,
     "end_time": "2022-04-21T12:14:55.832264",
     "exception": false,
     "start_time": "2022-04-21T12:14:55.796327",
     "status": "completed"
    },
    "tags": []
   },
   "outputs": [],
   "source": [
    "#hide\n",
    "# g['continent'] = g.country"
   ]
  },
  {
   "cell_type": "code",
   "execution_count": 28,
   "id": "substantial-wilderness",
   "metadata": {
    "execution": {
     "iopub.execute_input": "2022-04-21T12:14:55.898263Z",
     "iopub.status.busy": "2022-04-21T12:14:55.897732Z",
     "iopub.status.idle": "2022-04-21T12:14:55.899364Z",
     "shell.execute_reply": "2022-04-21T12:14:55.899752Z"
    },
    "papermill": {
     "duration": 0.036004,
     "end_time": "2022-04-21T12:14:55.899881",
     "exception": false,
     "start_time": "2022-04-21T12:14:55.863877",
     "status": "completed"
    },
    "tags": []
   },
   "outputs": [],
   "source": [
    "#hide\n",
    "# cols = list(g.columns.values)"
   ]
  },
  {
   "cell_type": "code",
   "execution_count": 29,
   "id": "solved-farming",
   "metadata": {
    "execution": {
     "iopub.execute_input": "2022-04-21T12:14:55.965320Z",
     "iopub.status.busy": "2022-04-21T12:14:55.964720Z",
     "iopub.status.idle": "2022-04-21T12:14:55.968121Z",
     "shell.execute_reply": "2022-04-21T12:14:55.968562Z"
    },
    "papermill": {
     "duration": 0.037961,
     "end_time": "2022-04-21T12:14:55.968707",
     "exception": false,
     "start_time": "2022-04-21T12:14:55.930746",
     "status": "completed"
    },
    "tags": []
   },
   "outputs": [],
   "source": [
    "#hide\n",
    "# cols.insert(0, cols.pop())"
   ]
  },
  {
   "cell_type": "code",
   "execution_count": 30,
   "id": "executed-adoption",
   "metadata": {
    "execution": {
     "iopub.execute_input": "2022-04-21T12:14:56.034398Z",
     "iopub.status.busy": "2022-04-21T12:14:56.033793Z",
     "iopub.status.idle": "2022-04-21T12:14:56.035799Z",
     "shell.execute_reply": "2022-04-21T12:14:56.035231Z"
    },
    "papermill": {
     "duration": 0.036166,
     "end_time": "2022-04-21T12:14:56.035919",
     "exception": false,
     "start_time": "2022-04-21T12:14:55.999753",
     "status": "completed"
    },
    "tags": []
   },
   "outputs": [],
   "source": [
    "#hide\n",
    "# g = g[cols]"
   ]
  },
  {
   "cell_type": "code",
   "execution_count": 31,
   "id": "subject-dublin",
   "metadata": {
    "execution": {
     "iopub.execute_input": "2022-04-21T12:14:56.101229Z",
     "iopub.status.busy": "2022-04-21T12:14:56.100712Z",
     "iopub.status.idle": "2022-04-21T12:14:56.102494Z",
     "shell.execute_reply": "2022-04-21T12:14:56.102880Z"
    },
    "papermill": {
     "duration": 0.035836,
     "end_time": "2022-04-21T12:14:56.103004",
     "exception": false,
     "start_time": "2022-04-21T12:14:56.067168",
     "status": "completed"
    },
    "tags": []
   },
   "outputs": [],
   "source": [
    "#hide\n",
    "# g['continent'] = g['continent'].map(mapping['map.continent'])"
   ]
  },
  {
   "cell_type": "code",
   "execution_count": 32,
   "id": "freelance-scout",
   "metadata": {
    "execution": {
     "iopub.execute_input": "2022-04-21T12:14:56.168182Z",
     "iopub.status.busy": "2022-04-21T12:14:56.167582Z",
     "iopub.status.idle": "2022-04-21T12:14:56.169086Z",
     "shell.execute_reply": "2022-04-21T12:14:56.169575Z"
    },
    "papermill": {
     "duration": 0.035959,
     "end_time": "2022-04-21T12:14:56.169717",
     "exception": false,
     "start_time": "2022-04-21T12:14:56.133758",
     "status": "completed"
    },
    "tags": []
   },
   "outputs": [],
   "source": [
    "#hide\n",
    "# g.head()"
   ]
  },
  {
   "cell_type": "code",
   "execution_count": 33,
   "id": "limited-engine",
   "metadata": {
    "execution": {
     "iopub.execute_input": "2022-04-21T12:14:56.235144Z",
     "iopub.status.busy": "2022-04-21T12:14:56.234544Z",
     "iopub.status.idle": "2022-04-21T12:14:56.236050Z",
     "shell.execute_reply": "2022-04-21T12:14:56.236516Z"
    },
    "papermill": {
     "duration": 0.035829,
     "end_time": "2022-04-21T12:14:56.236651",
     "exception": false,
     "start_time": "2022-04-21T12:14:56.200822",
     "status": "completed"
    },
    "tags": []
   },
   "outputs": [],
   "source": [
    "# hide\n",
    "# g['date'] = g['date'].astype('datetime64[ns]')"
   ]
  },
  {
   "cell_type": "code",
   "execution_count": 34,
   "id": "sophisticated-supervisor",
   "metadata": {
    "execution": {
     "iopub.execute_input": "2022-04-21T12:14:56.302946Z",
     "iopub.status.busy": "2022-04-21T12:14:56.302344Z",
     "iopub.status.idle": "2022-04-21T12:14:56.304372Z",
     "shell.execute_reply": "2022-04-21T12:14:56.303960Z"
    },
    "papermill": {
     "duration": 0.036192,
     "end_time": "2022-04-21T12:14:56.304479",
     "exception": false,
     "start_time": "2022-04-21T12:14:56.268287",
     "status": "completed"
    },
    "tags": []
   },
   "outputs": [],
   "source": [
    "#hide\n",
    "# g['date'] = g.date.dt.dayofyear"
   ]
  },
  {
   "cell_type": "code",
   "execution_count": 35,
   "id": "inside-dubai",
   "metadata": {
    "execution": {
     "iopub.execute_input": "2022-04-21T12:14:56.369765Z",
     "iopub.status.busy": "2022-04-21T12:14:56.369125Z",
     "iopub.status.idle": "2022-04-21T12:14:56.370678Z",
     "shell.execute_reply": "2022-04-21T12:14:56.371139Z"
    },
    "papermill": {
     "duration": 0.035989,
     "end_time": "2022-04-21T12:14:56.371273",
     "exception": false,
     "start_time": "2022-04-21T12:14:56.335284",
     "status": "completed"
    },
    "tags": []
   },
   "outputs": [],
   "source": [
    "#hide\n",
    "# g = g.rename(columns= {'continent':'group','country':'name','cases':'value'})"
   ]
  },
  {
   "cell_type": "code",
   "execution_count": 36,
   "id": "fleet-motorcycle",
   "metadata": {
    "execution": {
     "iopub.execute_input": "2022-04-21T12:14:56.436920Z",
     "iopub.status.busy": "2022-04-21T12:14:56.436333Z",
     "iopub.status.idle": "2022-04-21T12:14:56.440002Z",
     "shell.execute_reply": "2022-04-21T12:14:56.440443Z"
    },
    "papermill": {
     "duration": 0.037965,
     "end_time": "2022-04-21T12:14:56.440583",
     "exception": false,
     "start_time": "2022-04-21T12:14:56.402618",
     "status": "completed"
    },
    "tags": []
   },
   "outputs": [],
   "source": [
    "#hide\n",
    "# cols = ['name','group','day','value']"
   ]
  },
  {
   "cell_type": "code",
   "execution_count": 37,
   "id": "continued-sleeping",
   "metadata": {
    "execution": {
     "iopub.execute_input": "2022-04-21T12:14:56.506222Z",
     "iopub.status.busy": "2022-04-21T12:14:56.505695Z",
     "iopub.status.idle": "2022-04-21T12:14:56.507564Z",
     "shell.execute_reply": "2022-04-21T12:14:56.507973Z"
    },
    "papermill": {
     "duration": 0.036329,
     "end_time": "2022-04-21T12:14:56.508095",
     "exception": false,
     "start_time": "2022-04-21T12:14:56.471766",
     "status": "completed"
    },
    "tags": []
   },
   "outputs": [],
   "source": [
    "#hide\n",
    "# g.rename(columns= {'date':'day'},inplace = True)"
   ]
  },
  {
   "cell_type": "code",
   "execution_count": 38,
   "id": "major-fight",
   "metadata": {
    "execution": {
     "iopub.execute_input": "2022-04-21T12:14:56.573900Z",
     "iopub.status.busy": "2022-04-21T12:14:56.573230Z",
     "iopub.status.idle": "2022-04-21T12:14:56.574771Z",
     "shell.execute_reply": "2022-04-21T12:14:56.575233Z"
    },
    "papermill": {
     "duration": 0.036221,
     "end_time": "2022-04-21T12:14:56.575369",
     "exception": false,
     "start_time": "2022-04-21T12:14:56.539148",
     "status": "completed"
    },
    "tags": []
   },
   "outputs": [],
   "source": [
    "#hide\n",
    "# g = g[cols]"
   ]
  },
  {
   "cell_type": "code",
   "execution_count": 39,
   "id": "structured-mobile",
   "metadata": {
    "execution": {
     "iopub.execute_input": "2022-04-21T12:14:56.640543Z",
     "iopub.status.busy": "2022-04-21T12:14:56.639949Z",
     "iopub.status.idle": "2022-04-21T12:14:56.641439Z",
     "shell.execute_reply": "2022-04-21T12:14:56.641934Z"
    },
    "papermill": {
     "duration": 0.035889,
     "end_time": "2022-04-21T12:14:56.642073",
     "exception": false,
     "start_time": "2022-04-21T12:14:56.606184",
     "status": "completed"
    },
    "tags": []
   },
   "outputs": [],
   "source": [
    "# #hide\n",
    "# g = g[g.group.notna()]"
   ]
  },
  {
   "cell_type": "code",
   "execution_count": 40,
   "id": "determined-closing",
   "metadata": {
    "execution": {
     "iopub.execute_input": "2022-04-21T12:14:56.708006Z",
     "iopub.status.busy": "2022-04-21T12:14:56.707460Z",
     "iopub.status.idle": "2022-04-21T12:14:56.710594Z",
     "shell.execute_reply": "2022-04-21T12:14:56.710981Z"
    },
    "papermill": {
     "duration": 0.037606,
     "end_time": "2022-04-21T12:14:56.711108",
     "exception": false,
     "start_time": "2022-04-21T12:14:56.673502",
     "status": "completed"
    },
    "tags": []
   },
   "outputs": [],
   "source": [
    "# #hide\n",
    "# colors = dict(zip(\n",
    "#     [\"Oceania\", \"Europe\", \"Asia\", \"South America\", \"Middle East\", \"North America\", \"Africa\"],\n",
    "#     [\"#adb0ff\", \"#ffb3ff\", \"#90d595\", \"#e48381\", \"#aafbff\", \"#f7bb5f\", \"#eafb50\"]\n",
    "# ))\n",
    "# group_lk = g.set_index('name')['group'].to_dict()"
   ]
  },
  {
   "cell_type": "code",
   "execution_count": null,
   "id": "gross-drinking",
   "metadata": {
    "papermill": {
     "duration": 0.030619,
     "end_time": "2022-04-21T12:14:56.772816",
     "exception": false,
     "start_time": "2022-04-21T12:14:56.742197",
     "status": "completed"
    },
    "tags": []
   },
   "outputs": [],
   "source": []
  },
  {
   "cell_type": "code",
   "execution_count": 41,
   "id": "subject-macintosh",
   "metadata": {
    "execution": {
     "iopub.execute_input": "2022-04-21T12:14:56.839131Z",
     "iopub.status.busy": "2022-04-21T12:14:56.838506Z",
     "iopub.status.idle": "2022-04-21T12:14:56.840599Z",
     "shell.execute_reply": "2022-04-21T12:14:56.840161Z"
    },
    "papermill": {
     "duration": 0.036913,
     "end_time": "2022-04-21T12:14:56.840710",
     "exception": false,
     "start_time": "2022-04-21T12:14:56.803797",
     "status": "completed"
    },
    "tags": []
   },
   "outputs": [],
   "source": [
    "# #hide\n",
    "# fig, ax = plt.subplots(figsize=(15, 8))\n",
    "\n",
    "# def draw_barchart(current_day):\n",
    "#     dff = g[g['day'].eq(current_day)].sort_values(by='value', ascending=True).tail(10)\n",
    "#     ax.clear()\n",
    "#     ax.barh(dff['name'], dff['value'], color=[colors[group_lk[x]] for x in dff['name']])\n",
    "#     dx = dff['value'].max() / 200\n",
    "    \n",
    "#     for i, (value, name) in enumerate(zip(dff['value'], dff['name'])):\n",
    "#         ax.text(value-dx, i,     name,           size=14, weight=600, ha='right', va='bottom')\n",
    "#         ax.text(value-dx, i-.25, group_lk[name], size=10, color='#444444', ha='right', va='baseline')\n",
    "#         ax.text(value+dx, i,     f'{value:,.0f}',  size=14, ha='left',  va='center')\n",
    "#     ax.text(1, 0.4, current_day, transform=ax.transAxes, color='#777777', size=46, ha='right', weight=800)\n",
    "#     ax.text(0, 1.06, 'Population (thousands)', transform=ax.transAxes, size=12, color='#777777')\n",
    "#     ax.xaxis.set_major_formatter(ticker.StrMethodFormatter('{x:,.0f}'))\n",
    "#     ax.xaxis.set_ticks_position('top')\n",
    "#     ax.tick_params(axis='x', colors='#777777', labelsize=12)\n",
    "#     ax.set_yticks([])\n",
    "#     ax.margins(0, 0.01)\n",
    "#     ax.grid(which='major', axis='x', linestyle='-')\n",
    "#     ax.set_axisbelow(True)\n",
    "    \n",
    "#     ax.text(0, 1.15, 'Coronavirus',\n",
    "#             transform=ax.transAxes, size=24, weight=600, ha='left', va='top')\n",
    "# #     ax.text(1, 0, 'by @pratapvardhan; credit @jburnmurdoch', transform=ax.transAxes, color='#777777', ha='right',\n",
    "# #             bbox=dict(facecolor='white', alpha=0.8, edgecolor='white'))\n",
    "#     plt.box(False)"
   ]
  },
  {
   "cell_type": "code",
   "execution_count": 42,
   "id": "sexual-wages",
   "metadata": {
    "execution": {
     "iopub.execute_input": "2022-04-21T12:14:56.905864Z",
     "iopub.status.busy": "2022-04-21T12:14:56.905200Z",
     "iopub.status.idle": "2022-04-21T12:14:56.906712Z",
     "shell.execute_reply": "2022-04-21T12:14:56.907208Z"
    },
    "papermill": {
     "duration": 0.035867,
     "end_time": "2022-04-21T12:14:56.907344",
     "exception": false,
     "start_time": "2022-04-21T12:14:56.871477",
     "status": "completed"
    },
    "tags": []
   },
   "outputs": [],
   "source": [
    "# #hide_input\n",
    "# fig, ax = plt.subplots(figsize=(15, 8))\n",
    "# animator = animation.FuncAnimation(fig, draw_barchart, frames=range(g.day.values.min(), g.day.values.max()))\n",
    "# HTML(animator.to_jshtml())\n",
    "# # or use animator.to_html5_video() or animator.save() "
   ]
  },
  {
   "cell_type": "code",
   "execution_count": null,
   "id": "australian-container",
   "metadata": {
    "papermill": {
     "duration": 0.030681,
     "end_time": "2022-04-21T12:14:56.969119",
     "exception": false,
     "start_time": "2022-04-21T12:14:56.938438",
     "status": "completed"
    },
    "tags": []
   },
   "outputs": [],
   "source": []
  },
  {
   "cell_type": "code",
   "execution_count": null,
   "id": "mediterranean-pontiac",
   "metadata": {
    "papermill": {
     "duration": 0.031055,
     "end_time": "2022-04-21T12:14:57.030765",
     "exception": false,
     "start_time": "2022-04-21T12:14:56.999710",
     "status": "completed"
    },
    "tags": []
   },
   "outputs": [],
   "source": []
  },
  {
   "cell_type": "code",
   "execution_count": null,
   "id": "aging-legislature",
   "metadata": {
    "papermill": {
     "duration": 0.030609,
     "end_time": "2022-04-21T12:14:57.092200",
     "exception": false,
     "start_time": "2022-04-21T12:14:57.061591",
     "status": "completed"
    },
    "tags": []
   },
   "outputs": [],
   "source": []
  }
 ],
 "metadata": {
  "kernelspec": {
   "display_name": "Python 3",
   "language": "python",
   "name": "python3"
  },
  "language_info": {
   "codemirror_mode": {
    "name": "ipython",
    "version": 3
   },
   "file_extension": ".py",
   "mimetype": "text/x-python",
   "name": "python",
   "nbconvert_exporter": "python",
   "pygments_lexer": "ipython3",
   "version": "3.6.15"
  },
  "papermill": {
   "duration": 6.017504,
   "end_time": "2022-04-21T12:14:57.442259",
   "environment_variables": {},
   "exception": null,
   "input_path": "2020-03-21-covid19exp.ipynb",
   "output_path": "2020-03-21-covid19exp.ipynb",
   "parameters": {},
   "start_time": "2022-04-21T12:14:51.424755",
   "version": "2.0.0"
  }
 },
 "nbformat": 4,
 "nbformat_minor": 5
}