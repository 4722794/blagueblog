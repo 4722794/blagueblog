{
 "cells": [
  {
   "cell_type": "markdown",
   "id": "muslim-click",
   "metadata": {
    "papermill": {
     "duration": 0.039928,
     "end_time": "2021-07-22T12:10:42.770328",
     "exception": false,
     "start_time": "2021-07-22T12:10:42.730400",
     "status": "completed"
    },
    "tags": []
   },
   "source": [
    "# COVID-19 Case Race\n",
    "> A race chart to see rising cases around the world\n",
    "\n",
    "- author: Hargun Oberoi\n",
    "- image: images/covid-overview.png\n",
    "- hide: false\n",
    "- badges: false"
   ]
  },
  {
   "cell_type": "code",
   "execution_count": 1,
   "id": "proof-material",
   "metadata": {
    "execution": {
     "iopub.execute_input": "2021-07-22T12:10:42.855072Z",
     "iopub.status.busy": "2021-07-22T12:10:42.854438Z",
     "iopub.status.idle": "2021-07-22T12:10:43.246853Z",
     "shell.execute_reply": "2021-07-22T12:10:43.247391Z"
    },
    "papermill": {
     "duration": 0.440237,
     "end_time": "2021-07-22T12:10:43.247775",
     "exception": false,
     "start_time": "2021-07-22T12:10:42.807538",
     "status": "completed"
    },
    "tags": []
   },
   "outputs": [],
   "source": [
    "#hide\n",
    "import numpy as np\n",
    "import pandas as pd\n",
    "from jinja2 import Template\n",
    "from IPython.display import HTML"
   ]
  },
  {
   "cell_type": "code",
   "execution_count": 2,
   "id": "developed-terminology",
   "metadata": {
    "execution": {
     "iopub.execute_input": "2021-07-22T12:10:43.327501Z",
     "iopub.status.busy": "2021-07-22T12:10:43.326832Z",
     "iopub.status.idle": "2021-07-22T12:10:43.331315Z",
     "shell.execute_reply": "2021-07-22T12:10:43.331874Z"
    },
    "papermill": {
     "duration": 0.047049,
     "end_time": "2021-07-22T12:10:43.332027",
     "exception": false,
     "start_time": "2021-07-22T12:10:43.284978",
     "status": "completed"
    },
    "tags": []
   },
   "outputs": [],
   "source": [
    "#hide\n",
    "\n",
    "# FETCH\n",
    "base_url = 'https://raw.githubusercontent.com/pratapvardhan/notebooks/master/covid19/'\n",
    "paths = {\n",
    "    'mapping': base_url + 'mapping_countries.csv',\n",
    "    'overview': base_url + 'overview.tpl'\n",
    "}"
   ]
  },
  {
   "cell_type": "code",
   "execution_count": 3,
   "id": "dynamic-saver",
   "metadata": {
    "execution": {
     "iopub.execute_input": "2021-07-22T12:10:43.412240Z",
     "iopub.status.busy": "2021-07-22T12:10:43.411571Z",
     "iopub.status.idle": "2021-07-22T12:10:43.417199Z",
     "shell.execute_reply": "2021-07-22T12:10:43.417813Z"
    },
    "papermill": {
     "duration": 0.050391,
     "end_time": "2021-07-22T12:10:43.417949",
     "exception": false,
     "start_time": "2021-07-22T12:10:43.367558",
     "status": "completed"
    },
    "tags": []
   },
   "outputs": [
    {
     "data": {
      "text/plain": [
       "'https://raw.githubusercontent.com/pratapvardhan/notebooks/master/covid19/mapping_countries.csv'"
      ]
     },
     "execution_count": 3,
     "metadata": {},
     "output_type": "execute_result"
    }
   ],
   "source": [
    "#hide\n",
    "paths['mapping']"
   ]
  },
  {
   "cell_type": "code",
   "execution_count": 4,
   "id": "urban-software",
   "metadata": {
    "execution": {
     "iopub.execute_input": "2021-07-22T12:10:43.499612Z",
     "iopub.status.busy": "2021-07-22T12:10:43.498841Z",
     "iopub.status.idle": "2021-07-22T12:10:43.501681Z",
     "shell.execute_reply": "2021-07-22T12:10:43.501054Z"
    },
    "papermill": {
     "duration": 0.045459,
     "end_time": "2021-07-22T12:10:43.501795",
     "exception": false,
     "start_time": "2021-07-22T12:10:43.456336",
     "status": "completed"
    },
    "tags": []
   },
   "outputs": [],
   "source": [
    "#hide\n",
    "def get_mappings(url):\n",
    "    df = pd.read_csv(url)\n",
    "    return {\n",
    "        'df': df,\n",
    "        'replace.country': dict(df.dropna(subset=['Name']).set_index('Country')['Name']),\n",
    "        'map.continent': dict(df.set_index('Name')['Continent'])\n",
    "    }"
   ]
  },
  {
   "cell_type": "code",
   "execution_count": 5,
   "id": "intimate-machinery",
   "metadata": {
    "execution": {
     "iopub.execute_input": "2021-07-22T12:10:43.584937Z",
     "iopub.status.busy": "2021-07-22T12:10:43.584310Z",
     "iopub.status.idle": "2021-07-22T12:10:43.635088Z",
     "shell.execute_reply": "2021-07-22T12:10:43.634579Z"
    },
    "papermill": {
     "duration": 0.094373,
     "end_time": "2021-07-22T12:10:43.635222",
     "exception": false,
     "start_time": "2021-07-22T12:10:43.540849",
     "status": "completed"
    },
    "tags": []
   },
   "outputs": [],
   "source": [
    "#hide\n",
    "mapping = get_mappings(paths['mapping'])"
   ]
  },
  {
   "cell_type": "code",
   "execution_count": 6,
   "id": "certified-tactics",
   "metadata": {
    "execution": {
     "iopub.execute_input": "2021-07-22T12:10:43.714983Z",
     "iopub.status.busy": "2021-07-22T12:10:43.714347Z",
     "iopub.status.idle": "2021-07-22T12:10:43.716247Z",
     "shell.execute_reply": "2021-07-22T12:10:43.716836Z"
    },
    "papermill": {
     "duration": 0.044323,
     "end_time": "2021-07-22T12:10:43.716979",
     "exception": false,
     "start_time": "2021-07-22T12:10:43.672656",
     "status": "completed"
    },
    "tags": []
   },
   "outputs": [],
   "source": [
    "#hide\n",
    "def get_template(path):\n",
    "    from urllib.parse import urlparse\n",
    "    if bool(urlparse(path).netloc):\n",
    "        from urllib.request import urlopen\n",
    "        return urlopen(path).read().decode('utf8')\n",
    "    return open(path).read()"
   ]
  },
  {
   "cell_type": "code",
   "execution_count": 7,
   "id": "realistic-blast",
   "metadata": {
    "execution": {
     "iopub.execute_input": "2021-07-22T12:10:43.797254Z",
     "iopub.status.busy": "2021-07-22T12:10:43.796623Z",
     "iopub.status.idle": "2021-07-22T12:10:43.798522Z",
     "shell.execute_reply": "2021-07-22T12:10:43.799112Z"
    },
    "papermill": {
     "duration": 0.044124,
     "end_time": "2021-07-22T12:10:43.799251",
     "exception": false,
     "start_time": "2021-07-22T12:10:43.755127",
     "status": "completed"
    },
    "tags": []
   },
   "outputs": [],
   "source": [
    "#hide\n",
    "def get_frame(name):\n",
    "    url = (\n",
    "        'https://raw.githubusercontent.com/CSSEGISandData/COVID-19/master/csse_covid_19_data/'\n",
    "        f'csse_covid_19_time_series/time_series_covid19_{name}_global.csv')\n",
    "    df = pd.read_csv(url)\n",
    "    # rename countries\n",
    "    df['Country/Region'] = df['Country/Region'].replace(mapping['replace.country'])\n",
    "    return df"
   ]
  },
  {
   "cell_type": "code",
   "execution_count": 8,
   "id": "affiliated-characterization",
   "metadata": {
    "execution": {
     "iopub.execute_input": "2021-07-22T12:10:43.882526Z",
     "iopub.status.busy": "2021-07-22T12:10:43.881885Z",
     "iopub.status.idle": "2021-07-22T12:10:43.883778Z",
     "shell.execute_reply": "2021-07-22T12:10:43.884331Z"
    },
    "papermill": {
     "duration": 0.048174,
     "end_time": "2021-07-22T12:10:43.884479",
     "exception": false,
     "start_time": "2021-07-22T12:10:43.836305",
     "status": "completed"
    },
    "tags": []
   },
   "outputs": [],
   "source": [
    "#hide\n",
    "def get_dates(df):\n",
    "    dt_cols = df.columns[~df.columns.isin(['Province/State', 'Country/Region', 'Lat', 'Long'])]\n",
    "    LAST_DATE_I = -1\n",
    "    # sometimes last column may be empty, then go backwards\n",
    "    for i in range(-1, -len(dt_cols), -1):\n",
    "        if not df[dt_cols[i]].fillna(0).eq(0).all():\n",
    "            LAST_DATE_I = i\n",
    "            break\n",
    "    return LAST_DATE_I, dt_cols"
   ]
  },
  {
   "cell_type": "code",
   "execution_count": 9,
   "id": "recent-optimization",
   "metadata": {
    "execution": {
     "iopub.execute_input": "2021-07-22T12:10:43.964746Z",
     "iopub.status.busy": "2021-07-22T12:10:43.963993Z",
     "iopub.status.idle": "2021-07-22T12:10:44.549761Z",
     "shell.execute_reply": "2021-07-22T12:10:44.550274Z"
    },
    "papermill": {
     "duration": 0.628595,
     "end_time": "2021-07-22T12:10:44.550448",
     "exception": false,
     "start_time": "2021-07-22T12:10:43.921853",
     "status": "completed"
    },
    "tags": []
   },
   "outputs": [],
   "source": [
    "#hide\n",
    "COL_REGION = 'Country/Region'\n",
    "# Confirmed, Recovered, Deaths\n",
    "df = get_frame('confirmed')\n",
    "# dft_: timeseries, dfc_: today country agg\n",
    "dft_cases = df\n",
    "dft_deaths = get_frame('deaths')\n",
    "dft_recovered = get_frame('recovered')\n",
    "LAST_DATE_I, dt_cols = get_dates(df)"
   ]
  },
  {
   "cell_type": "code",
   "execution_count": 10,
   "id": "absolute-copper",
   "metadata": {
    "execution": {
     "iopub.execute_input": "2021-07-22T12:10:44.643630Z",
     "iopub.status.busy": "2021-07-22T12:10:44.642953Z",
     "iopub.status.idle": "2021-07-22T12:10:44.645342Z",
     "shell.execute_reply": "2021-07-22T12:10:44.644709Z"
    },
    "papermill": {
     "duration": 0.055165,
     "end_time": "2021-07-22T12:10:44.645473",
     "exception": false,
     "start_time": "2021-07-22T12:10:44.590308",
     "status": "completed"
    },
    "tags": []
   },
   "outputs": [],
   "source": [
    "#hide\n",
    "LAST_DATE_I, dt_cols = get_dates(df)\n",
    "dt_today =dt_cols[LAST_DATE_I]\n",
    "# dt_5day = dt_cols[LAST_DATE_I - 5]\n",
    "dt_yday = dt_cols[LAST_DATE_I - 1]"
   ]
  },
  {
   "cell_type": "code",
   "execution_count": 11,
   "id": "restricted-sheriff",
   "metadata": {
    "execution": {
     "iopub.execute_input": "2021-07-22T12:10:44.734211Z",
     "iopub.status.busy": "2021-07-22T12:10:44.733555Z",
     "iopub.status.idle": "2021-07-22T12:10:44.739893Z",
     "shell.execute_reply": "2021-07-22T12:10:44.740513Z"
    },
    "papermill": {
     "duration": 0.054801,
     "end_time": "2021-07-22T12:10:44.740668",
     "exception": false,
     "start_time": "2021-07-22T12:10:44.685867",
     "status": "completed"
    },
    "tags": []
   },
   "outputs": [],
   "source": [
    "#hide\n",
    "dfc_cases = dft_cases.groupby(COL_REGION)[dt_today].sum()\n",
    "dfc_deaths = dft_deaths.groupby(COL_REGION)[dt_today].sum()\n",
    "# dfp_cases = dft_cases.groupby(COL_REGION)[dt_5day].sum()\n",
    "# dfp_deaths = dft_deaths.groupby(COL_REGION)[dt_5day].sum()\n",
    "dfp_cases = dft_cases.groupby(COL_REGION)[dt_yday].sum()\n",
    "dfp_deaths = dft_deaths.groupby(COL_REGION)[dt_yday].sum()"
   ]
  },
  {
   "cell_type": "code",
   "execution_count": 12,
   "id": "deluxe-hepatitis",
   "metadata": {
    "execution": {
     "iopub.execute_input": "2021-07-22T12:10:44.823603Z",
     "iopub.status.busy": "2021-07-22T12:10:44.822931Z",
     "iopub.status.idle": "2021-07-22T12:10:44.828587Z",
     "shell.execute_reply": "2021-07-22T12:10:44.829208Z"
    },
    "papermill": {
     "duration": 0.048584,
     "end_time": "2021-07-22T12:10:44.829360",
     "exception": false,
     "start_time": "2021-07-22T12:10:44.780776",
     "status": "completed"
    },
    "tags": []
   },
   "outputs": [],
   "source": [
    "#hide\n",
    "df_table = (pd.DataFrame(dict(Cases = dfc_cases, Deaths = dfc_deaths, PCases = dfp_cases, PDeaths = dfp_deaths))\n",
    "            .sort_values(by = ['Cases','Deaths'], ascending = [False, False])\n",
    "            .reset_index())"
   ]
  },
  {
   "cell_type": "code",
   "execution_count": 13,
   "id": "educational-chancellor",
   "metadata": {
    "execution": {
     "iopub.execute_input": "2021-07-22T12:10:44.937663Z",
     "iopub.status.busy": "2021-07-22T12:10:44.930962Z",
     "iopub.status.idle": "2021-07-22T12:10:44.941320Z",
     "shell.execute_reply": "2021-07-22T12:10:44.941914Z"
    },
    "papermill": {
     "duration": 0.073068,
     "end_time": "2021-07-22T12:10:44.942074",
     "exception": false,
     "start_time": "2021-07-22T12:10:44.869006",
     "status": "completed"
    },
    "tags": []
   },
   "outputs": [
    {
     "data": {
      "text/html": [
       "<div>\n",
       "<style scoped>\n",
       "    .dataframe tbody tr th:only-of-type {\n",
       "        vertical-align: middle;\n",
       "    }\n",
       "\n",
       "    .dataframe tbody tr th {\n",
       "        vertical-align: top;\n",
       "    }\n",
       "\n",
       "    .dataframe thead th {\n",
       "        text-align: right;\n",
       "    }\n",
       "</style>\n",
       "<table border=\"1\" class=\"dataframe\">\n",
       "  <thead>\n",
       "    <tr style=\"text-align: right;\">\n",
       "      <th></th>\n",
       "      <th>Country/Region</th>\n",
       "      <th>Cases</th>\n",
       "      <th>Deaths</th>\n",
       "      <th>PCases</th>\n",
       "      <th>PDeaths</th>\n",
       "      <th>Cases (+)</th>\n",
       "      <th>Deaths (+)</th>\n",
       "      <th>Fatality Rate</th>\n",
       "      <th>Continent</th>\n",
       "    </tr>\n",
       "  </thead>\n",
       "  <tbody>\n",
       "    <tr>\n",
       "      <th>0</th>\n",
       "      <td>US</td>\n",
       "      <td>34226806</td>\n",
       "      <td>609862</td>\n",
       "      <td>34174774</td>\n",
       "      <td>609529</td>\n",
       "      <td>52032</td>\n",
       "      <td>333</td>\n",
       "      <td>1.78</td>\n",
       "      <td>North America</td>\n",
       "    </tr>\n",
       "    <tr>\n",
       "      <th>1</th>\n",
       "      <td>India</td>\n",
       "      <td>31257720</td>\n",
       "      <td>418987</td>\n",
       "      <td>31216337</td>\n",
       "      <td>418480</td>\n",
       "      <td>41383</td>\n",
       "      <td>507</td>\n",
       "      <td>1.34</td>\n",
       "      <td>Asia</td>\n",
       "    </tr>\n",
       "    <tr>\n",
       "      <th>2</th>\n",
       "      <td>Brazil</td>\n",
       "      <td>19473954</td>\n",
       "      <td>545604</td>\n",
       "      <td>19419437</td>\n",
       "      <td>544180</td>\n",
       "      <td>54517</td>\n",
       "      <td>1424</td>\n",
       "      <td>2.80</td>\n",
       "      <td>South America</td>\n",
       "    </tr>\n",
       "    <tr>\n",
       "      <th>3</th>\n",
       "      <td>France</td>\n",
       "      <td>5973912</td>\n",
       "      <td>111737</td>\n",
       "      <td>5952339</td>\n",
       "      <td>111715</td>\n",
       "      <td>21573</td>\n",
       "      <td>22</td>\n",
       "      <td>1.87</td>\n",
       "      <td>Europe</td>\n",
       "    </tr>\n",
       "    <tr>\n",
       "      <th>4</th>\n",
       "      <td>Russia</td>\n",
       "      <td>5955089</td>\n",
       "      <td>148229</td>\n",
       "      <td>5931925</td>\n",
       "      <td>147457</td>\n",
       "      <td>23164</td>\n",
       "      <td>772</td>\n",
       "      <td>2.49</td>\n",
       "      <td>Europe</td>\n",
       "    </tr>\n",
       "  </tbody>\n",
       "</table>\n",
       "</div>"
      ],
      "text/plain": [
       "  Country/Region     Cases  Deaths    PCases  PDeaths  Cases (+)  Deaths (+)  \\\n",
       "0             US  34226806  609862  34174774   609529      52032         333   \n",
       "1          India  31257720  418987  31216337   418480      41383         507   \n",
       "2         Brazil  19473954  545604  19419437   544180      54517        1424   \n",
       "3         France   5973912  111737   5952339   111715      21573          22   \n",
       "4         Russia   5955089  148229   5931925   147457      23164         772   \n",
       "\n",
       "   Fatality Rate      Continent  \n",
       "0           1.78  North America  \n",
       "1           1.34           Asia  \n",
       "2           2.80  South America  \n",
       "3           1.87         Europe  \n",
       "4           2.49         Europe  "
      ]
     },
     "execution_count": 13,
     "metadata": {},
     "output_type": "execute_result"
    }
   ],
   "source": [
    "#hide\n",
    "for c in 'Cases, Deaths'.split(', '):\n",
    "    df_table[f'{c} (+)'] = (df_table[c] - df_table[f'P{c}']).clip(0)\n",
    "    #Clip ça veut dire, les chiffres negatif sont interdit\n",
    "df_table['Fatality Rate'] = (100* df_table['Deaths']/ df_table['Cases']).round(2)\n",
    "df_table['Continent'] = df_table['Country/Region'].map(mapping['map.continent'])\n",
    "df_table.head(5)"
   ]
  },
  {
   "cell_type": "code",
   "execution_count": 14,
   "id": "aboriginal-bulgaria",
   "metadata": {
    "execution": {
     "iopub.execute_input": "2021-07-22T12:10:45.027249Z",
     "iopub.status.busy": "2021-07-22T12:10:45.026384Z",
     "iopub.status.idle": "2021-07-22T12:10:45.028829Z",
     "shell.execute_reply": "2021-07-22T12:10:45.029447Z"
    },
    "papermill": {
     "duration": 0.047,
     "end_time": "2021-07-22T12:10:45.029594",
     "exception": false,
     "start_time": "2021-07-22T12:10:44.982594",
     "status": "completed"
    },
    "tags": []
   },
   "outputs": [],
   "source": [
    "#hide\n",
    "#delete problematic countries from table\n",
    "df_table = df_table[~df_table['Country/Region'].isin(['Cape Verde', 'Cruise Ship', 'Kosovo'])]"
   ]
  },
  {
   "cell_type": "code",
   "execution_count": 15,
   "id": "fantastic-effect",
   "metadata": {
    "execution": {
     "iopub.execute_input": "2021-07-22T12:10:45.119770Z",
     "iopub.status.busy": "2021-07-22T12:10:45.119086Z",
     "iopub.status.idle": "2021-07-22T12:10:45.140567Z",
     "shell.execute_reply": "2021-07-22T12:10:45.141085Z"
    },
    "papermill": {
     "duration": 0.069885,
     "end_time": "2021-07-22T12:10:45.141242",
     "exception": false,
     "start_time": "2021-07-22T12:10:45.071357",
     "status": "completed"
    },
    "tags": []
   },
   "outputs": [
    {
     "data": {
      "text/html": [
       "<div>\n",
       "<style scoped>\n",
       "    .dataframe tbody tr th:only-of-type {\n",
       "        vertical-align: middle;\n",
       "    }\n",
       "\n",
       "    .dataframe tbody tr th {\n",
       "        vertical-align: top;\n",
       "    }\n",
       "\n",
       "    .dataframe thead th {\n",
       "        text-align: right;\n",
       "    }\n",
       "</style>\n",
       "<table border=\"1\" class=\"dataframe\">\n",
       "  <thead>\n",
       "    <tr style=\"text-align: right;\">\n",
       "      <th></th>\n",
       "      <th>Country/Region</th>\n",
       "      <th>Cases</th>\n",
       "      <th>Deaths</th>\n",
       "      <th>PCases</th>\n",
       "      <th>PDeaths</th>\n",
       "      <th>Cases (+)</th>\n",
       "      <th>Deaths (+)</th>\n",
       "      <th>Fatality Rate</th>\n",
       "      <th>Continent</th>\n",
       "    </tr>\n",
       "  </thead>\n",
       "  <tbody>\n",
       "    <tr>\n",
       "      <th>0</th>\n",
       "      <td>US</td>\n",
       "      <td>34226806</td>\n",
       "      <td>609862</td>\n",
       "      <td>34174774</td>\n",
       "      <td>609529</td>\n",
       "      <td>52032</td>\n",
       "      <td>333</td>\n",
       "      <td>1.8</td>\n",
       "      <td>North America</td>\n",
       "    </tr>\n",
       "    <tr>\n",
       "      <th>1</th>\n",
       "      <td>India</td>\n",
       "      <td>31257720</td>\n",
       "      <td>418987</td>\n",
       "      <td>31216337</td>\n",
       "      <td>418480</td>\n",
       "      <td>41383</td>\n",
       "      <td>507</td>\n",
       "      <td>1.3</td>\n",
       "      <td>Asia</td>\n",
       "    </tr>\n",
       "    <tr>\n",
       "      <th>2</th>\n",
       "      <td>Brazil</td>\n",
       "      <td>19473954</td>\n",
       "      <td>545604</td>\n",
       "      <td>19419437</td>\n",
       "      <td>544180</td>\n",
       "      <td>54517</td>\n",
       "      <td>1424</td>\n",
       "      <td>2.8</td>\n",
       "      <td>South America</td>\n",
       "    </tr>\n",
       "    <tr>\n",
       "      <th>3</th>\n",
       "      <td>France</td>\n",
       "      <td>5973912</td>\n",
       "      <td>111737</td>\n",
       "      <td>5952339</td>\n",
       "      <td>111715</td>\n",
       "      <td>21573</td>\n",
       "      <td>22</td>\n",
       "      <td>1.9</td>\n",
       "      <td>Europe</td>\n",
       "    </tr>\n",
       "    <tr>\n",
       "      <th>4</th>\n",
       "      <td>Russia</td>\n",
       "      <td>5955089</td>\n",
       "      <td>148229</td>\n",
       "      <td>5931925</td>\n",
       "      <td>147457</td>\n",
       "      <td>23164</td>\n",
       "      <td>772</td>\n",
       "      <td>2.5</td>\n",
       "      <td>Europe</td>\n",
       "    </tr>\n",
       "  </tbody>\n",
       "</table>\n",
       "</div>"
      ],
      "text/plain": [
       "  Country/Region     Cases  Deaths    PCases  PDeaths  Cases (+)  Deaths (+)  \\\n",
       "0             US  34226806  609862  34174774   609529      52032         333   \n",
       "1          India  31257720  418987  31216337   418480      41383         507   \n",
       "2         Brazil  19473954  545604  19419437   544180      54517        1424   \n",
       "3         France   5973912  111737   5952339   111715      21573          22   \n",
       "4         Russia   5955089  148229   5931925   147457      23164         772   \n",
       "\n",
       "   Fatality Rate      Continent  \n",
       "0            1.8  North America  \n",
       "1            1.3           Asia  \n",
       "2            2.8  South America  \n",
       "3            1.9         Europe  \n",
       "4            2.5         Europe  "
      ]
     },
     "execution_count": 15,
     "metadata": {},
     "output_type": "execute_result"
    }
   ],
   "source": [
    "#hide\n",
    "df_table = (pd.DataFrame(dict(Cases=dfc_cases, Deaths=dfc_deaths, PCases=dfp_cases, PDeaths=dfp_deaths))\n",
    "             .sort_values(by=['Cases', 'Deaths'], ascending=[False, False])\n",
    "             .reset_index())\n",
    "df_table.rename(columns={'index': 'Country/Region'}, inplace=True)\n",
    "for c in 'Cases, Deaths'.split(', '):\n",
    "    df_table[f'{c} (+)'] = (df_table[c] - df_table[f'P{c}']).clip(0)  # DATA BUG\n",
    "df_table['Fatality Rate'] = (100 * df_table['Deaths'] / df_table['Cases']).round(1)\n",
    "df_table['Continent'] = df_table['Country/Region'].map(mapping['map.continent'])\n",
    "df_table.head(5)"
   ]
  },
  {
   "cell_type": "code",
   "execution_count": 16,
   "id": "fewer-occasion",
   "metadata": {
    "execution": {
     "iopub.execute_input": "2021-07-22T12:10:45.242734Z",
     "iopub.status.busy": "2021-07-22T12:10:45.242094Z",
     "iopub.status.idle": "2021-07-22T12:10:45.244682Z",
     "shell.execute_reply": "2021-07-22T12:10:45.245235Z"
    },
    "papermill": {
     "duration": 0.053148,
     "end_time": "2021-07-22T12:10:45.245391",
     "exception": false,
     "start_time": "2021-07-22T12:10:45.192243",
     "status": "completed"
    },
    "tags": []
   },
   "outputs": [],
   "source": [
    "#hide\n",
    "#delete problematic countries from table\n",
    "df_table = df_table[~df_table['Country/Region'].isin(['Cape Verde', 'Cruise Ship', 'Kosovo'])]"
   ]
  },
  {
   "cell_type": "code",
   "execution_count": 17,
   "id": "related-center",
   "metadata": {
    "execution": {
     "iopub.execute_input": "2021-07-22T12:10:45.335124Z",
     "iopub.status.busy": "2021-07-22T12:10:45.334478Z",
     "iopub.status.idle": "2021-07-22T12:10:45.356594Z",
     "shell.execute_reply": "2021-07-22T12:10:45.356052Z"
    },
    "papermill": {
     "duration": 0.07037,
     "end_time": "2021-07-22T12:10:45.356743",
     "exception": false,
     "start_time": "2021-07-22T12:10:45.286373",
     "status": "completed"
    },
    "tags": []
   },
   "outputs": [],
   "source": [
    "#hide\n",
    "metrics = [df_table.columns[index] for index in [1,2,5,6]]\n",
    "# s_china = df_table[df_table['Country/Region'].eq('China')][metrics].sum().add_prefix('China ')\n",
    "s_us = df_table[df_table['Country/Region'].eq('US')][metrics].sum().add_prefix('US ')\n",
    "s_eu = df_table[df_table['Continent'].eq('Europe')][metrics].sum().add_prefix('EU ')\n",
    "s_ind = df_table[df_table['Country/Region'].eq('India')][metrics].sum().add_prefix('India ')\n",
    "summary = {'updated': pd.to_datetime(dt_today), 'since': pd.to_datetime(dt_yday)}\n",
    "summary = {'updated': pd.to_datetime(dt_today), 'since': pd.to_datetime(dt_yday)}\n",
    "summary = {**summary, **df_table[metrics].sum(), **s_ind, **s_us, **s_eu}"
   ]
  },
  {
   "cell_type": "code",
   "execution_count": 18,
   "id": "engaging-syndrome",
   "metadata": {
    "execution": {
     "iopub.execute_input": "2021-07-22T12:10:45.451725Z",
     "iopub.status.busy": "2021-07-22T12:10:45.451061Z",
     "iopub.status.idle": "2021-07-22T12:10:45.465272Z",
     "shell.execute_reply": "2021-07-22T12:10:45.464618Z"
    },
    "papermill": {
     "duration": 0.062298,
     "end_time": "2021-07-22T12:10:45.465410",
     "exception": false,
     "start_time": "2021-07-22T12:10:45.403112",
     "status": "completed"
    },
    "tags": []
   },
   "outputs": [],
   "source": [
    "#hide\n",
    "dft_ct_new_cases = dft_cases.groupby(COL_REGION)[dt_cols].sum().diff(axis=1).fillna(0).astype(int)"
   ]
  },
  {
   "cell_type": "code",
   "execution_count": 19,
   "id": "neutral-assignment",
   "metadata": {
    "execution": {
     "iopub.execute_input": "2021-07-22T12:10:45.553679Z",
     "iopub.status.busy": "2021-07-22T12:10:45.553031Z",
     "iopub.status.idle": "2021-07-22T12:10:45.554762Z",
     "shell.execute_reply": "2021-07-22T12:10:45.555318Z"
    },
    "papermill": {
     "duration": 0.049285,
     "end_time": "2021-07-22T12:10:45.555505",
     "exception": false,
     "start_time": "2021-07-22T12:10:45.506220",
     "status": "completed"
    },
    "tags": []
   },
   "outputs": [],
   "source": [
    "#hide\n",
    "everydaycases = dft_ct_new_cases.cumsum(axis=1)"
   ]
  },
  {
   "cell_type": "code",
   "execution_count": 20,
   "id": "parliamentary-calgary",
   "metadata": {
    "execution": {
     "iopub.execute_input": "2021-07-22T12:10:45.638643Z",
     "iopub.status.busy": "2021-07-22T12:10:45.637998Z",
     "iopub.status.idle": "2021-07-22T12:10:46.413978Z",
     "shell.execute_reply": "2021-07-22T12:10:46.414482Z"
    },
    "papermill": {
     "duration": 0.81979,
     "end_time": "2021-07-22T12:10:46.414648",
     "exception": false,
     "start_time": "2021-07-22T12:10:45.594858",
     "status": "completed"
    },
    "tags": []
   },
   "outputs": [],
   "source": [
    "#hide\n",
    "import pandas as pd\n",
    "import matplotlib.pyplot as plt\n",
    "import matplotlib.ticker as ticker\n",
    "import matplotlib.animation as animation\n",
    "from IPython.display import HTML"
   ]
  },
  {
   "cell_type": "code",
   "execution_count": 21,
   "id": "lasting-extraction",
   "metadata": {
    "execution": {
     "iopub.execute_input": "2021-07-22T12:10:46.500088Z",
     "iopub.status.busy": "2021-07-22T12:10:46.499440Z",
     "iopub.status.idle": "2021-07-22T12:10:46.505448Z",
     "shell.execute_reply": "2021-07-22T12:10:46.506064Z"
    },
    "papermill": {
     "duration": 0.052424,
     "end_time": "2021-07-22T12:10:46.506224",
     "exception": false,
     "start_time": "2021-07-22T12:10:46.453800",
     "status": "completed"
    },
    "tags": []
   },
   "outputs": [],
   "source": [
    "#hide\n",
    "t = everydaycases.stack()"
   ]
  },
  {
   "cell_type": "code",
   "execution_count": 22,
   "id": "premier-sleeve",
   "metadata": {
    "execution": {
     "iopub.execute_input": "2021-07-22T12:10:46.590848Z",
     "iopub.status.busy": "2021-07-22T12:10:46.590211Z",
     "iopub.status.idle": "2021-07-22T12:10:46.598772Z",
     "shell.execute_reply": "2021-07-22T12:10:46.599290Z"
    },
    "papermill": {
     "duration": 0.054494,
     "end_time": "2021-07-22T12:10:46.599472",
     "exception": false,
     "start_time": "2021-07-22T12:10:46.544978",
     "status": "completed"
    },
    "tags": []
   },
   "outputs": [],
   "source": [
    "#hide\n",
    "g = t.reset_index(['Country/Region'])"
   ]
  },
  {
   "cell_type": "code",
   "execution_count": 23,
   "id": "distributed-pittsburgh",
   "metadata": {
    "execution": {
     "iopub.execute_input": "2021-07-22T12:10:46.682992Z",
     "iopub.status.busy": "2021-07-22T12:10:46.681741Z",
     "iopub.status.idle": "2021-07-22T12:10:46.683650Z",
     "shell.execute_reply": "2021-07-22T12:10:46.685192Z"
    },
    "papermill": {
     "duration": 0.046148,
     "end_time": "2021-07-22T12:10:46.685352",
     "exception": false,
     "start_time": "2021-07-22T12:10:46.639204",
     "status": "completed"
    },
    "tags": []
   },
   "outputs": [],
   "source": [
    "#hide\n",
    "g.index.name = 'date'"
   ]
  },
  {
   "cell_type": "code",
   "execution_count": 24,
   "id": "naked-donor",
   "metadata": {
    "execution": {
     "iopub.execute_input": "2021-07-22T12:10:46.767046Z",
     "iopub.status.busy": "2021-07-22T12:10:46.765778Z",
     "iopub.status.idle": "2021-07-22T12:10:46.767763Z",
     "shell.execute_reply": "2021-07-22T12:10:46.768281Z"
    },
    "papermill": {
     "duration": 0.045499,
     "end_time": "2021-07-22T12:10:46.768421",
     "exception": false,
     "start_time": "2021-07-22T12:10:46.722922",
     "status": "completed"
    },
    "tags": []
   },
   "outputs": [],
   "source": [
    "# #hide\n",
    "# g = g.reset_index(['date'])"
   ]
  },
  {
   "cell_type": "code",
   "execution_count": 25,
   "id": "incomplete-mustang",
   "metadata": {
    "execution": {
     "iopub.execute_input": "2021-07-22T12:10:46.851506Z",
     "iopub.status.busy": "2021-07-22T12:10:46.850844Z",
     "iopub.status.idle": "2021-07-22T12:10:46.852704Z",
     "shell.execute_reply": "2021-07-22T12:10:46.853297Z"
    },
    "papermill": {
     "duration": 0.045122,
     "end_time": "2021-07-22T12:10:46.853444",
     "exception": false,
     "start_time": "2021-07-22T12:10:46.808322",
     "status": "completed"
    },
    "tags": []
   },
   "outputs": [],
   "source": [
    "#hide\n",
    "# g.head()"
   ]
  },
  {
   "cell_type": "code",
   "execution_count": 26,
   "id": "specific-kruger",
   "metadata": {
    "execution": {
     "iopub.execute_input": "2021-07-22T12:10:46.945996Z",
     "iopub.status.busy": "2021-07-22T12:10:46.944905Z",
     "iopub.status.idle": "2021-07-22T12:10:46.947581Z",
     "shell.execute_reply": "2021-07-22T12:10:46.948415Z"
    },
    "papermill": {
     "duration": 0.051661,
     "end_time": "2021-07-22T12:10:46.948570",
     "exception": false,
     "start_time": "2021-07-22T12:10:46.896909",
     "status": "completed"
    },
    "tags": []
   },
   "outputs": [],
   "source": [
    "#hide\n",
    "# g.columns = ['date','country','cases']"
   ]
  },
  {
   "cell_type": "code",
   "execution_count": 27,
   "id": "tender-conversion",
   "metadata": {
    "execution": {
     "iopub.execute_input": "2021-07-22T12:10:47.036177Z",
     "iopub.status.busy": "2021-07-22T12:10:47.035547Z",
     "iopub.status.idle": "2021-07-22T12:10:47.038055Z",
     "shell.execute_reply": "2021-07-22T12:10:47.037517Z"
    },
    "papermill": {
     "duration": 0.045835,
     "end_time": "2021-07-22T12:10:47.038182",
     "exception": false,
     "start_time": "2021-07-22T12:10:46.992347",
     "status": "completed"
    },
    "tags": []
   },
   "outputs": [],
   "source": [
    "#hide\n",
    "# g['continent'] = g.country"
   ]
  },
  {
   "cell_type": "code",
   "execution_count": 28,
   "id": "substantial-wilderness",
   "metadata": {
    "execution": {
     "iopub.execute_input": "2021-07-22T12:10:47.123286Z",
     "iopub.status.busy": "2021-07-22T12:10:47.122659Z",
     "iopub.status.idle": "2021-07-22T12:10:47.124648Z",
     "shell.execute_reply": "2021-07-22T12:10:47.125504Z"
    },
    "papermill": {
     "duration": 0.046842,
     "end_time": "2021-07-22T12:10:47.125647",
     "exception": false,
     "start_time": "2021-07-22T12:10:47.078805",
     "status": "completed"
    },
    "tags": []
   },
   "outputs": [],
   "source": [
    "#hide\n",
    "# cols = list(g.columns.values)"
   ]
  },
  {
   "cell_type": "code",
   "execution_count": 29,
   "id": "solved-farming",
   "metadata": {
    "execution": {
     "iopub.execute_input": "2021-07-22T12:10:47.209522Z",
     "iopub.status.busy": "2021-07-22T12:10:47.208894Z",
     "iopub.status.idle": "2021-07-22T12:10:47.210931Z",
     "shell.execute_reply": "2021-07-22T12:10:47.211469Z"
    },
    "papermill": {
     "duration": 0.046793,
     "end_time": "2021-07-22T12:10:47.211613",
     "exception": false,
     "start_time": "2021-07-22T12:10:47.164820",
     "status": "completed"
    },
    "tags": []
   },
   "outputs": [],
   "source": [
    "#hide\n",
    "# cols.insert(0, cols.pop())"
   ]
  },
  {
   "cell_type": "code",
   "execution_count": 30,
   "id": "executed-adoption",
   "metadata": {
    "execution": {
     "iopub.execute_input": "2021-07-22T12:10:47.293612Z",
     "iopub.status.busy": "2021-07-22T12:10:47.292966Z",
     "iopub.status.idle": "2021-07-22T12:10:47.294843Z",
     "shell.execute_reply": "2021-07-22T12:10:47.295410Z"
    },
    "papermill": {
     "duration": 0.045649,
     "end_time": "2021-07-22T12:10:47.295561",
     "exception": false,
     "start_time": "2021-07-22T12:10:47.249912",
     "status": "completed"
    },
    "tags": []
   },
   "outputs": [],
   "source": [
    "#hide\n",
    "# g = g[cols]"
   ]
  },
  {
   "cell_type": "code",
   "execution_count": 31,
   "id": "subject-dublin",
   "metadata": {
    "execution": {
     "iopub.execute_input": "2021-07-22T12:10:47.376920Z",
     "iopub.status.busy": "2021-07-22T12:10:47.376295Z",
     "iopub.status.idle": "2021-07-22T12:10:47.378733Z",
     "shell.execute_reply": "2021-07-22T12:10:47.378111Z"
    },
    "papermill": {
     "duration": 0.044727,
     "end_time": "2021-07-22T12:10:47.378859",
     "exception": false,
     "start_time": "2021-07-22T12:10:47.334132",
     "status": "completed"
    },
    "tags": []
   },
   "outputs": [],
   "source": [
    "#hide\n",
    "# g['continent'] = g['continent'].map(mapping['map.continent'])"
   ]
  },
  {
   "cell_type": "code",
   "execution_count": 32,
   "id": "freelance-scout",
   "metadata": {
    "execution": {
     "iopub.execute_input": "2021-07-22T12:10:47.461341Z",
     "iopub.status.busy": "2021-07-22T12:10:47.460699Z",
     "iopub.status.idle": "2021-07-22T12:10:47.462643Z",
     "shell.execute_reply": "2021-07-22T12:10:47.463187Z"
    },
    "papermill": {
     "duration": 0.045835,
     "end_time": "2021-07-22T12:10:47.463330",
     "exception": false,
     "start_time": "2021-07-22T12:10:47.417495",
     "status": "completed"
    },
    "tags": []
   },
   "outputs": [],
   "source": [
    "#hide\n",
    "# g.head()"
   ]
  },
  {
   "cell_type": "code",
   "execution_count": 33,
   "id": "limited-engine",
   "metadata": {
    "execution": {
     "iopub.execute_input": "2021-07-22T12:10:47.546122Z",
     "iopub.status.busy": "2021-07-22T12:10:47.545495Z",
     "iopub.status.idle": "2021-07-22T12:10:47.547959Z",
     "shell.execute_reply": "2021-07-22T12:10:47.547320Z"
    },
    "papermill": {
     "duration": 0.045555,
     "end_time": "2021-07-22T12:10:47.548088",
     "exception": false,
     "start_time": "2021-07-22T12:10:47.502533",
     "status": "completed"
    },
    "tags": []
   },
   "outputs": [],
   "source": [
    "# hide\n",
    "# g['date'] = g['date'].astype('datetime64[ns]')"
   ]
  },
  {
   "cell_type": "code",
   "execution_count": 34,
   "id": "sophisticated-supervisor",
   "metadata": {
    "execution": {
     "iopub.execute_input": "2021-07-22T12:10:47.632932Z",
     "iopub.status.busy": "2021-07-22T12:10:47.632186Z",
     "iopub.status.idle": "2021-07-22T12:10:47.634668Z",
     "shell.execute_reply": "2021-07-22T12:10:47.634129Z"
    },
    "papermill": {
     "duration": 0.048193,
     "end_time": "2021-07-22T12:10:47.634795",
     "exception": false,
     "start_time": "2021-07-22T12:10:47.586602",
     "status": "completed"
    },
    "tags": []
   },
   "outputs": [],
   "source": [
    "#hide\n",
    "# g['date'] = g.date.dt.dayofyear"
   ]
  },
  {
   "cell_type": "code",
   "execution_count": 35,
   "id": "inside-dubai",
   "metadata": {
    "execution": {
     "iopub.execute_input": "2021-07-22T12:10:47.725892Z",
     "iopub.status.busy": "2021-07-22T12:10:47.725266Z",
     "iopub.status.idle": "2021-07-22T12:10:47.727809Z",
     "shell.execute_reply": "2021-07-22T12:10:47.727249Z"
    },
    "papermill": {
     "duration": 0.045374,
     "end_time": "2021-07-22T12:10:47.727934",
     "exception": false,
     "start_time": "2021-07-22T12:10:47.682560",
     "status": "completed"
    },
    "tags": []
   },
   "outputs": [],
   "source": [
    "#hide\n",
    "# g = g.rename(columns= {'continent':'group','country':'name','cases':'value'})"
   ]
  },
  {
   "cell_type": "code",
   "execution_count": 36,
   "id": "fleet-motorcycle",
   "metadata": {
    "execution": {
     "iopub.execute_input": "2021-07-22T12:10:47.812463Z",
     "iopub.status.busy": "2021-07-22T12:10:47.811815Z",
     "iopub.status.idle": "2021-07-22T12:10:47.813705Z",
     "shell.execute_reply": "2021-07-22T12:10:47.814307Z"
    },
    "papermill": {
     "duration": 0.048438,
     "end_time": "2021-07-22T12:10:47.814457",
     "exception": false,
     "start_time": "2021-07-22T12:10:47.766019",
     "status": "completed"
    },
    "tags": []
   },
   "outputs": [],
   "source": [
    "#hide\n",
    "# cols = ['name','group','day','value']"
   ]
  },
  {
   "cell_type": "code",
   "execution_count": 37,
   "id": "continued-sleeping",
   "metadata": {
    "execution": {
     "iopub.execute_input": "2021-07-22T12:10:47.898743Z",
     "iopub.status.busy": "2021-07-22T12:10:47.898047Z",
     "iopub.status.idle": "2021-07-22T12:10:47.899898Z",
     "shell.execute_reply": "2021-07-22T12:10:47.900498Z"
    },
    "papermill": {
     "duration": 0.047357,
     "end_time": "2021-07-22T12:10:47.900664",
     "exception": false,
     "start_time": "2021-07-22T12:10:47.853307",
     "status": "completed"
    },
    "tags": []
   },
   "outputs": [],
   "source": [
    "#hide\n",
    "# g.rename(columns= {'date':'day'},inplace = True)"
   ]
  },
  {
   "cell_type": "code",
   "execution_count": 38,
   "id": "major-fight",
   "metadata": {
    "execution": {
     "iopub.execute_input": "2021-07-22T12:10:47.983590Z",
     "iopub.status.busy": "2021-07-22T12:10:47.982828Z",
     "iopub.status.idle": "2021-07-22T12:10:47.985316Z",
     "shell.execute_reply": "2021-07-22T12:10:47.985789Z"
    },
    "papermill": {
     "duration": 0.044998,
     "end_time": "2021-07-22T12:10:47.985934",
     "exception": false,
     "start_time": "2021-07-22T12:10:47.940936",
     "status": "completed"
    },
    "tags": []
   },
   "outputs": [],
   "source": [
    "#hide\n",
    "# g = g[cols]"
   ]
  },
  {
   "cell_type": "code",
   "execution_count": 39,
   "id": "structured-mobile",
   "metadata": {
    "execution": {
     "iopub.execute_input": "2021-07-22T12:10:48.072945Z",
     "iopub.status.busy": "2021-07-22T12:10:48.072317Z",
     "iopub.status.idle": "2021-07-22T12:10:48.074657Z",
     "shell.execute_reply": "2021-07-22T12:10:48.074032Z"
    },
    "papermill": {
     "duration": 0.047521,
     "end_time": "2021-07-22T12:10:48.074788",
     "exception": false,
     "start_time": "2021-07-22T12:10:48.027267",
     "status": "completed"
    },
    "tags": []
   },
   "outputs": [],
   "source": [
    "# #hide\n",
    "# g = g[g.group.notna()]"
   ]
  },
  {
   "cell_type": "code",
   "execution_count": 40,
   "id": "determined-closing",
   "metadata": {
    "execution": {
     "iopub.execute_input": "2021-07-22T12:10:48.158678Z",
     "iopub.status.busy": "2021-07-22T12:10:48.158030Z",
     "iopub.status.idle": "2021-07-22T12:10:48.159904Z",
     "shell.execute_reply": "2021-07-22T12:10:48.160441Z"
    },
    "papermill": {
     "duration": 0.046961,
     "end_time": "2021-07-22T12:10:48.160579",
     "exception": false,
     "start_time": "2021-07-22T12:10:48.113618",
     "status": "completed"
    },
    "tags": []
   },
   "outputs": [],
   "source": [
    "# #hide\n",
    "# colors = dict(zip(\n",
    "#     [\"Oceania\", \"Europe\", \"Asia\", \"South America\", \"Middle East\", \"North America\", \"Africa\"],\n",
    "#     [\"#adb0ff\", \"#ffb3ff\", \"#90d595\", \"#e48381\", \"#aafbff\", \"#f7bb5f\", \"#eafb50\"]\n",
    "# ))\n",
    "# group_lk = g.set_index('name')['group'].to_dict()"
   ]
  },
  {
   "cell_type": "code",
   "execution_count": null,
   "id": "gross-drinking",
   "metadata": {
    "papermill": {
     "duration": 0.038383,
     "end_time": "2021-07-22T12:10:48.238863",
     "exception": false,
     "start_time": "2021-07-22T12:10:48.200480",
     "status": "completed"
    },
    "tags": []
   },
   "outputs": [],
   "source": []
  },
  {
   "cell_type": "code",
   "execution_count": 41,
   "id": "subject-macintosh",
   "metadata": {
    "execution": {
     "iopub.execute_input": "2021-07-22T12:10:48.324288Z",
     "iopub.status.busy": "2021-07-22T12:10:48.323652Z",
     "iopub.status.idle": "2021-07-22T12:10:48.326111Z",
     "shell.execute_reply": "2021-07-22T12:10:48.325538Z"
    },
    "papermill": {
     "duration": 0.049313,
     "end_time": "2021-07-22T12:10:48.326230",
     "exception": false,
     "start_time": "2021-07-22T12:10:48.276917",
     "status": "completed"
    },
    "tags": []
   },
   "outputs": [],
   "source": [
    "# #hide\n",
    "# fig, ax = plt.subplots(figsize=(15, 8))\n",
    "\n",
    "# def draw_barchart(current_day):\n",
    "#     dff = g[g['day'].eq(current_day)].sort_values(by='value', ascending=True).tail(10)\n",
    "#     ax.clear()\n",
    "#     ax.barh(dff['name'], dff['value'], color=[colors[group_lk[x]] for x in dff['name']])\n",
    "#     dx = dff['value'].max() / 200\n",
    "    \n",
    "#     for i, (value, name) in enumerate(zip(dff['value'], dff['name'])):\n",
    "#         ax.text(value-dx, i,     name,           size=14, weight=600, ha='right', va='bottom')\n",
    "#         ax.text(value-dx, i-.25, group_lk[name], size=10, color='#444444', ha='right', va='baseline')\n",
    "#         ax.text(value+dx, i,     f'{value:,.0f}',  size=14, ha='left',  va='center')\n",
    "#     ax.text(1, 0.4, current_day, transform=ax.transAxes, color='#777777', size=46, ha='right', weight=800)\n",
    "#     ax.text(0, 1.06, 'Population (thousands)', transform=ax.transAxes, size=12, color='#777777')\n",
    "#     ax.xaxis.set_major_formatter(ticker.StrMethodFormatter('{x:,.0f}'))\n",
    "#     ax.xaxis.set_ticks_position('top')\n",
    "#     ax.tick_params(axis='x', colors='#777777', labelsize=12)\n",
    "#     ax.set_yticks([])\n",
    "#     ax.margins(0, 0.01)\n",
    "#     ax.grid(which='major', axis='x', linestyle='-')\n",
    "#     ax.set_axisbelow(True)\n",
    "    \n",
    "#     ax.text(0, 1.15, 'Coronavirus',\n",
    "#             transform=ax.transAxes, size=24, weight=600, ha='left', va='top')\n",
    "# #     ax.text(1, 0, 'by @pratapvardhan; credit @jburnmurdoch', transform=ax.transAxes, color='#777777', ha='right',\n",
    "# #             bbox=dict(facecolor='white', alpha=0.8, edgecolor='white'))\n",
    "#     plt.box(False)"
   ]
  },
  {
   "cell_type": "code",
   "execution_count": 42,
   "id": "sexual-wages",
   "metadata": {
    "execution": {
     "iopub.execute_input": "2021-07-22T12:10:48.407780Z",
     "iopub.status.busy": "2021-07-22T12:10:48.407116Z",
     "iopub.status.idle": "2021-07-22T12:10:48.409203Z",
     "shell.execute_reply": "2021-07-22T12:10:48.409775Z"
    },
    "papermill": {
     "duration": 0.045127,
     "end_time": "2021-07-22T12:10:48.409935",
     "exception": false,
     "start_time": "2021-07-22T12:10:48.364808",
     "status": "completed"
    },
    "tags": []
   },
   "outputs": [],
   "source": [
    "# #hide_input\n",
    "# fig, ax = plt.subplots(figsize=(15, 8))\n",
    "# animator = animation.FuncAnimation(fig, draw_barchart, frames=range(g.day.values.min(), g.day.values.max()))\n",
    "# HTML(animator.to_jshtml())\n",
    "# # or use animator.to_html5_video() or animator.save() "
   ]
  },
  {
   "cell_type": "code",
   "execution_count": null,
   "id": "australian-container",
   "metadata": {
    "papermill": {
     "duration": 0.038281,
     "end_time": "2021-07-22T12:10:48.486276",
     "exception": false,
     "start_time": "2021-07-22T12:10:48.447995",
     "status": "completed"
    },
    "tags": []
   },
   "outputs": [],
   "source": []
  },
  {
   "cell_type": "code",
   "execution_count": null,
   "id": "mediterranean-pontiac",
   "metadata": {
    "papermill": {
     "duration": 0.037308,
     "end_time": "2021-07-22T12:10:48.562919",
     "exception": false,
     "start_time": "2021-07-22T12:10:48.525611",
     "status": "completed"
    },
    "tags": []
   },
   "outputs": [],
   "source": []
  },
  {
   "cell_type": "code",
   "execution_count": null,
   "id": "aging-legislature",
   "metadata": {
    "papermill": {
     "duration": 0.038487,
     "end_time": "2021-07-22T12:10:48.639734",
     "exception": false,
     "start_time": "2021-07-22T12:10:48.601247",
     "status": "completed"
    },
    "tags": []
   },
   "outputs": [],
   "source": []
  }
 ],
 "metadata": {
  "kernelspec": {
   "display_name": "Python 3",
   "language": "python",
   "name": "python3"
  },
  "language_info": {
   "codemirror_mode": {
    "name": "ipython",
    "version": 3
   },
   "file_extension": ".py",
   "mimetype": "text/x-python",
   "name": "python",
   "nbconvert_exporter": "python",
   "pygments_lexer": "ipython3",
   "version": "3.6.14"
  },
  "papermill": {
   "duration": 8.397501,
   "end_time": "2021-07-22T12:10:49.998057",
   "environment_variables": {},
   "exception": null,
   "input_path": "2020-03-21-covid19exp.ipynb",
   "output_path": "2020-03-21-covid19exp.ipynb",
   "parameters": {},
   "start_time": "2021-07-22T12:10:41.600556",
   "version": "2.0.0"
  }
 },
 "nbformat": 4,
 "nbformat_minor": 5
}