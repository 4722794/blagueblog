{
 "cells": [
  {
   "cell_type": "markdown",
   "id": "muslim-click",
   "metadata": {
    "papermill": {
     "duration": 0.040889,
     "end_time": "2021-10-31T00:25:31.572903",
     "exception": false,
     "start_time": "2021-10-31T00:25:31.532014",
     "status": "completed"
    },
    "tags": []
   },
   "source": [
    "# COVID-19 Case Race\n",
    "> A race chart to see rising cases around the world\n",
    "\n",
    "- author: Hargun Oberoi\n",
    "- image: images/covid-overview.png\n",
    "- hide: false\n",
    "- badges: false"
   ]
  },
  {
   "cell_type": "code",
   "execution_count": 1,
   "id": "proof-material",
   "metadata": {
    "execution": {
     "iopub.execute_input": "2021-10-31T00:25:31.656865Z",
     "iopub.status.busy": "2021-10-31T00:25:31.656110Z",
     "iopub.status.idle": "2021-10-31T00:25:32.035723Z",
     "shell.execute_reply": "2021-10-31T00:25:32.036308Z"
    },
    "papermill": {
     "duration": 0.42823,
     "end_time": "2021-10-31T00:25:32.036500",
     "exception": false,
     "start_time": "2021-10-31T00:25:31.608270",
     "status": "completed"
    },
    "tags": []
   },
   "outputs": [],
   "source": [
    "#hide\n",
    "import numpy as np\n",
    "import pandas as pd\n",
    "from jinja2 import Template\n",
    "from IPython.display import HTML"
   ]
  },
  {
   "cell_type": "code",
   "execution_count": 2,
   "id": "developed-terminology",
   "metadata": {
    "execution": {
     "iopub.execute_input": "2021-10-31T00:25:32.124172Z",
     "iopub.status.busy": "2021-10-31T00:25:32.123434Z",
     "iopub.status.idle": "2021-10-31T00:25:32.126150Z",
     "shell.execute_reply": "2021-10-31T00:25:32.125424Z"
    },
    "papermill": {
     "duration": 0.048594,
     "end_time": "2021-10-31T00:25:32.126284",
     "exception": false,
     "start_time": "2021-10-31T00:25:32.077690",
     "status": "completed"
    },
    "tags": []
   },
   "outputs": [],
   "source": [
    "#hide\n",
    "\n",
    "# FETCH\n",
    "base_url = 'https://raw.githubusercontent.com/pratapvardhan/notebooks/master/covid19/'\n",
    "paths = {\n",
    "    'mapping': base_url + 'mapping_countries.csv',\n",
    "    'overview': base_url + 'overview.tpl'\n",
    "}"
   ]
  },
  {
   "cell_type": "code",
   "execution_count": 3,
   "id": "dynamic-saver",
   "metadata": {
    "execution": {
     "iopub.execute_input": "2021-10-31T00:25:32.209694Z",
     "iopub.status.busy": "2021-10-31T00:25:32.209024Z",
     "iopub.status.idle": "2021-10-31T00:25:32.211867Z",
     "shell.execute_reply": "2021-10-31T00:25:32.212440Z"
    },
    "papermill": {
     "duration": 0.049781,
     "end_time": "2021-10-31T00:25:32.212591",
     "exception": false,
     "start_time": "2021-10-31T00:25:32.162810",
     "status": "completed"
    },
    "tags": []
   },
   "outputs": [
    {
     "data": {
      "text/plain": [
       "'https://raw.githubusercontent.com/pratapvardhan/notebooks/master/covid19/mapping_countries.csv'"
      ]
     },
     "execution_count": 3,
     "metadata": {},
     "output_type": "execute_result"
    }
   ],
   "source": [
    "#hide\n",
    "paths['mapping']"
   ]
  },
  {
   "cell_type": "code",
   "execution_count": 4,
   "id": "urban-software",
   "metadata": {
    "execution": {
     "iopub.execute_input": "2021-10-31T00:25:32.292333Z",
     "iopub.status.busy": "2021-10-31T00:25:32.291679Z",
     "iopub.status.idle": "2021-10-31T00:25:32.293684Z",
     "shell.execute_reply": "2021-10-31T00:25:32.294281Z"
    },
    "papermill": {
     "duration": 0.047775,
     "end_time": "2021-10-31T00:25:32.294415",
     "exception": false,
     "start_time": "2021-10-31T00:25:32.246640",
     "status": "completed"
    },
    "tags": []
   },
   "outputs": [],
   "source": [
    "#hide\n",
    "def get_mappings(url):\n",
    "    df = pd.read_csv(url)\n",
    "    return {\n",
    "        'df': df,\n",
    "        'replace.country': dict(df.dropna(subset=['Name']).set_index('Country')['Name']),\n",
    "        'map.continent': dict(df.set_index('Name')['Continent'])\n",
    "    }"
   ]
  },
  {
   "cell_type": "code",
   "execution_count": 5,
   "id": "intimate-machinery",
   "metadata": {
    "execution": {
     "iopub.execute_input": "2021-10-31T00:25:32.370799Z",
     "iopub.status.busy": "2021-10-31T00:25:32.370108Z",
     "iopub.status.idle": "2021-10-31T00:25:32.412827Z",
     "shell.execute_reply": "2021-10-31T00:25:32.412307Z"
    },
    "papermill": {
     "duration": 0.08228,
     "end_time": "2021-10-31T00:25:32.412955",
     "exception": false,
     "start_time": "2021-10-31T00:25:32.330675",
     "status": "completed"
    },
    "tags": []
   },
   "outputs": [],
   "source": [
    "#hide\n",
    "mapping = get_mappings(paths['mapping'])"
   ]
  },
  {
   "cell_type": "code",
   "execution_count": 6,
   "id": "certified-tactics",
   "metadata": {
    "execution": {
     "iopub.execute_input": "2021-10-31T00:25:32.504247Z",
     "iopub.status.busy": "2021-10-31T00:25:32.503590Z",
     "iopub.status.idle": "2021-10-31T00:25:32.505590Z",
     "shell.execute_reply": "2021-10-31T00:25:32.506182Z"
    },
    "papermill": {
     "duration": 0.058894,
     "end_time": "2021-10-31T00:25:32.506317",
     "exception": false,
     "start_time": "2021-10-31T00:25:32.447423",
     "status": "completed"
    },
    "tags": []
   },
   "outputs": [],
   "source": [
    "#hide\n",
    "def get_template(path):\n",
    "    from urllib.parse import urlparse\n",
    "    if bool(urlparse(path).netloc):\n",
    "        from urllib.request import urlopen\n",
    "        return urlopen(path).read().decode('utf8')\n",
    "    return open(path).read()"
   ]
  },
  {
   "cell_type": "code",
   "execution_count": 7,
   "id": "realistic-blast",
   "metadata": {
    "execution": {
     "iopub.execute_input": "2021-10-31T00:25:32.586126Z",
     "iopub.status.busy": "2021-10-31T00:25:32.585454Z",
     "iopub.status.idle": "2021-10-31T00:25:32.587375Z",
     "shell.execute_reply": "2021-10-31T00:25:32.587978Z"
    },
    "papermill": {
     "duration": 0.043737,
     "end_time": "2021-10-31T00:25:32.588112",
     "exception": false,
     "start_time": "2021-10-31T00:25:32.544375",
     "status": "completed"
    },
    "tags": []
   },
   "outputs": [],
   "source": [
    "#hide\n",
    "def get_frame(name):\n",
    "    url = (\n",
    "        'https://raw.githubusercontent.com/CSSEGISandData/COVID-19/master/csse_covid_19_data/'\n",
    "        f'csse_covid_19_time_series/time_series_covid19_{name}_global.csv')\n",
    "    df = pd.read_csv(url)\n",
    "    # rename countries\n",
    "    df['Country/Region'] = df['Country/Region'].replace(mapping['replace.country'])\n",
    "    return df"
   ]
  },
  {
   "cell_type": "code",
   "execution_count": 8,
   "id": "affiliated-characterization",
   "metadata": {
    "execution": {
     "iopub.execute_input": "2021-10-31T00:25:32.672137Z",
     "iopub.status.busy": "2021-10-31T00:25:32.671208Z",
     "iopub.status.idle": "2021-10-31T00:25:32.673011Z",
     "shell.execute_reply": "2021-10-31T00:25:32.673700Z"
    },
    "papermill": {
     "duration": 0.048404,
     "end_time": "2021-10-31T00:25:32.673854",
     "exception": false,
     "start_time": "2021-10-31T00:25:32.625450",
     "status": "completed"
    },
    "tags": []
   },
   "outputs": [],
   "source": [
    "#hide\n",
    "def get_dates(df):\n",
    "    dt_cols = df.columns[~df.columns.isin(['Province/State', 'Country/Region', 'Lat', 'Long'])]\n",
    "    LAST_DATE_I = -1\n",
    "    # sometimes last column may be empty, then go backwards\n",
    "    for i in range(-1, -len(dt_cols), -1):\n",
    "        if not df[dt_cols[i]].fillna(0).eq(0).all():\n",
    "            LAST_DATE_I = i\n",
    "            break\n",
    "    return LAST_DATE_I, dt_cols"
   ]
  },
  {
   "cell_type": "code",
   "execution_count": 9,
   "id": "recent-optimization",
   "metadata": {
    "execution": {
     "iopub.execute_input": "2021-10-31T00:25:32.751399Z",
     "iopub.status.busy": "2021-10-31T00:25:32.750683Z",
     "iopub.status.idle": "2021-10-31T00:25:33.168885Z",
     "shell.execute_reply": "2021-10-31T00:25:33.168328Z"
    },
    "papermill": {
     "duration": 0.457773,
     "end_time": "2021-10-31T00:25:33.169035",
     "exception": false,
     "start_time": "2021-10-31T00:25:32.711262",
     "status": "completed"
    },
    "tags": []
   },
   "outputs": [],
   "source": [
    "#hide\n",
    "COL_REGION = 'Country/Region'\n",
    "# Confirmed, Recovered, Deaths\n",
    "df = get_frame('confirmed')\n",
    "# dft_: timeseries, dfc_: today country agg\n",
    "dft_cases = df\n",
    "dft_deaths = get_frame('deaths')\n",
    "dft_recovered = get_frame('recovered')\n",
    "LAST_DATE_I, dt_cols = get_dates(df)"
   ]
  },
  {
   "cell_type": "code",
   "execution_count": 10,
   "id": "absolute-copper",
   "metadata": {
    "execution": {
     "iopub.execute_input": "2021-10-31T00:25:33.247471Z",
     "iopub.status.busy": "2021-10-31T00:25:33.246795Z",
     "iopub.status.idle": "2021-10-31T00:25:33.250228Z",
     "shell.execute_reply": "2021-10-31T00:25:33.249630Z"
    },
    "papermill": {
     "duration": 0.046227,
     "end_time": "2021-10-31T00:25:33.250354",
     "exception": false,
     "start_time": "2021-10-31T00:25:33.204127",
     "status": "completed"
    },
    "tags": []
   },
   "outputs": [],
   "source": [
    "#hide\n",
    "LAST_DATE_I, dt_cols = get_dates(df)\n",
    "dt_today =dt_cols[LAST_DATE_I]\n",
    "# dt_5day = dt_cols[LAST_DATE_I - 5]\n",
    "dt_yday = dt_cols[LAST_DATE_I - 1]"
   ]
  },
  {
   "cell_type": "code",
   "execution_count": 11,
   "id": "restricted-sheriff",
   "metadata": {
    "execution": {
     "iopub.execute_input": "2021-10-31T00:25:33.329405Z",
     "iopub.status.busy": "2021-10-31T00:25:33.328692Z",
     "iopub.status.idle": "2021-10-31T00:25:33.336421Z",
     "shell.execute_reply": "2021-10-31T00:25:33.337164Z"
    },
    "papermill": {
     "duration": 0.050977,
     "end_time": "2021-10-31T00:25:33.337304",
     "exception": false,
     "start_time": "2021-10-31T00:25:33.286327",
     "status": "completed"
    },
    "tags": []
   },
   "outputs": [],
   "source": [
    "#hide\n",
    "dfc_cases = dft_cases.groupby(COL_REGION)[dt_today].sum()\n",
    "dfc_deaths = dft_deaths.groupby(COL_REGION)[dt_today].sum()\n",
    "# dfp_cases = dft_cases.groupby(COL_REGION)[dt_5day].sum()\n",
    "# dfp_deaths = dft_deaths.groupby(COL_REGION)[dt_5day].sum()\n",
    "dfp_cases = dft_cases.groupby(COL_REGION)[dt_yday].sum()\n",
    "dfp_deaths = dft_deaths.groupby(COL_REGION)[dt_yday].sum()"
   ]
  },
  {
   "cell_type": "code",
   "execution_count": 12,
   "id": "deluxe-hepatitis",
   "metadata": {
    "execution": {
     "iopub.execute_input": "2021-10-31T00:25:33.419346Z",
     "iopub.status.busy": "2021-10-31T00:25:33.418708Z",
     "iopub.status.idle": "2021-10-31T00:25:33.424166Z",
     "shell.execute_reply": "2021-10-31T00:25:33.423660Z"
    },
    "papermill": {
     "duration": 0.050429,
     "end_time": "2021-10-31T00:25:33.424285",
     "exception": false,
     "start_time": "2021-10-31T00:25:33.373856",
     "status": "completed"
    },
    "tags": []
   },
   "outputs": [],
   "source": [
    "#hide\n",
    "df_table = (pd.DataFrame(dict(Cases = dfc_cases, Deaths = dfc_deaths, PCases = dfp_cases, PDeaths = dfp_deaths))\n",
    "            .sort_values(by = ['Cases','Deaths'], ascending = [False, False])\n",
    "            .reset_index())"
   ]
  },
  {
   "cell_type": "code",
   "execution_count": 13,
   "id": "educational-chancellor",
   "metadata": {
    "execution": {
     "iopub.execute_input": "2021-10-31T00:25:33.509360Z",
     "iopub.status.busy": "2021-10-31T00:25:33.508675Z",
     "iopub.status.idle": "2021-10-31T00:25:33.524181Z",
     "shell.execute_reply": "2021-10-31T00:25:33.523558Z"
    },
    "papermill": {
     "duration": 0.066178,
     "end_time": "2021-10-31T00:25:33.524319",
     "exception": false,
     "start_time": "2021-10-31T00:25:33.458141",
     "status": "completed"
    },
    "tags": []
   },
   "outputs": [
    {
     "data": {
      "text/html": [
       "<div>\n",
       "<style scoped>\n",
       "    .dataframe tbody tr th:only-of-type {\n",
       "        vertical-align: middle;\n",
       "    }\n",
       "\n",
       "    .dataframe tbody tr th {\n",
       "        vertical-align: top;\n",
       "    }\n",
       "\n",
       "    .dataframe thead th {\n",
       "        text-align: right;\n",
       "    }\n",
       "</style>\n",
       "<table border=\"1\" class=\"dataframe\">\n",
       "  <thead>\n",
       "    <tr style=\"text-align: right;\">\n",
       "      <th></th>\n",
       "      <th>Country/Region</th>\n",
       "      <th>Cases</th>\n",
       "      <th>Deaths</th>\n",
       "      <th>PCases</th>\n",
       "      <th>PDeaths</th>\n",
       "      <th>Cases (+)</th>\n",
       "      <th>Deaths (+)</th>\n",
       "      <th>Fatality Rate</th>\n",
       "      <th>Continent</th>\n",
       "    </tr>\n",
       "  </thead>\n",
       "  <tbody>\n",
       "    <tr>\n",
       "      <th>0</th>\n",
       "      <td>US</td>\n",
       "      <td>45923884</td>\n",
       "      <td>745377</td>\n",
       "      <td>45826523</td>\n",
       "      <td>743358</td>\n",
       "      <td>97361</td>\n",
       "      <td>2019</td>\n",
       "      <td>1.62</td>\n",
       "      <td>North America</td>\n",
       "    </tr>\n",
       "    <tr>\n",
       "      <th>1</th>\n",
       "      <td>India</td>\n",
       "      <td>34260470</td>\n",
       "      <td>457740</td>\n",
       "      <td>34246157</td>\n",
       "      <td>457191</td>\n",
       "      <td>14313</td>\n",
       "      <td>549</td>\n",
       "      <td>1.34</td>\n",
       "      <td>Asia</td>\n",
       "    </tr>\n",
       "    <tr>\n",
       "      <th>2</th>\n",
       "      <td>Brazil</td>\n",
       "      <td>21793401</td>\n",
       "      <td>607462</td>\n",
       "      <td>21781436</td>\n",
       "      <td>607068</td>\n",
       "      <td>11965</td>\n",
       "      <td>394</td>\n",
       "      <td>2.79</td>\n",
       "      <td>South America</td>\n",
       "    </tr>\n",
       "    <tr>\n",
       "      <th>3</th>\n",
       "      <td>United Kingdom</td>\n",
       "      <td>9021701</td>\n",
       "      <td>140815</td>\n",
       "      <td>8978443</td>\n",
       "      <td>140628</td>\n",
       "      <td>43258</td>\n",
       "      <td>187</td>\n",
       "      <td>1.56</td>\n",
       "      <td>Europe</td>\n",
       "    </tr>\n",
       "    <tr>\n",
       "      <th>4</th>\n",
       "      <td>Russia</td>\n",
       "      <td>8298850</td>\n",
       "      <td>231931</td>\n",
       "      <td>8260045</td>\n",
       "      <td>230786</td>\n",
       "      <td>38805</td>\n",
       "      <td>1145</td>\n",
       "      <td>2.79</td>\n",
       "      <td>Europe</td>\n",
       "    </tr>\n",
       "  </tbody>\n",
       "</table>\n",
       "</div>"
      ],
      "text/plain": [
       "   Country/Region     Cases  Deaths    PCases  PDeaths  Cases (+)  Deaths (+)  \\\n",
       "0              US  45923884  745377  45826523   743358      97361        2019   \n",
       "1           India  34260470  457740  34246157   457191      14313         549   \n",
       "2          Brazil  21793401  607462  21781436   607068      11965         394   \n",
       "3  United Kingdom   9021701  140815   8978443   140628      43258         187   \n",
       "4          Russia   8298850  231931   8260045   230786      38805        1145   \n",
       "\n",
       "   Fatality Rate      Continent  \n",
       "0           1.62  North America  \n",
       "1           1.34           Asia  \n",
       "2           2.79  South America  \n",
       "3           1.56         Europe  \n",
       "4           2.79         Europe  "
      ]
     },
     "execution_count": 13,
     "metadata": {},
     "output_type": "execute_result"
    }
   ],
   "source": [
    "#hide\n",
    "for c in 'Cases, Deaths'.split(', '):\n",
    "    df_table[f'{c} (+)'] = (df_table[c] - df_table[f'P{c}']).clip(0)\n",
    "    #Clip ça veut dire, les chiffres negatif sont interdit\n",
    "df_table['Fatality Rate'] = (100* df_table['Deaths']/ df_table['Cases']).round(2)\n",
    "df_table['Continent'] = df_table['Country/Region'].map(mapping['map.continent'])\n",
    "df_table.head(5)"
   ]
  },
  {
   "cell_type": "code",
   "execution_count": 14,
   "id": "aboriginal-bulgaria",
   "metadata": {
    "execution": {
     "iopub.execute_input": "2021-10-31T00:25:33.605121Z",
     "iopub.status.busy": "2021-10-31T00:25:33.604448Z",
     "iopub.status.idle": "2021-10-31T00:25:33.606958Z",
     "shell.execute_reply": "2021-10-31T00:25:33.607541Z"
    },
    "papermill": {
     "duration": 0.043669,
     "end_time": "2021-10-31T00:25:33.607675",
     "exception": false,
     "start_time": "2021-10-31T00:25:33.564006",
     "status": "completed"
    },
    "tags": []
   },
   "outputs": [],
   "source": [
    "#hide\n",
    "#delete problematic countries from table\n",
    "df_table = df_table[~df_table['Country/Region'].isin(['Cape Verde', 'Cruise Ship', 'Kosovo'])]"
   ]
  },
  {
   "cell_type": "code",
   "execution_count": 15,
   "id": "fantastic-effect",
   "metadata": {
    "execution": {
     "iopub.execute_input": "2021-10-31T00:25:33.686447Z",
     "iopub.status.busy": "2021-10-31T00:25:33.685803Z",
     "iopub.status.idle": "2021-10-31T00:25:33.709111Z",
     "shell.execute_reply": "2021-10-31T00:25:33.708577Z"
    },
    "papermill": {
     "duration": 0.065895,
     "end_time": "2021-10-31T00:25:33.709234",
     "exception": false,
     "start_time": "2021-10-31T00:25:33.643339",
     "status": "completed"
    },
    "tags": []
   },
   "outputs": [
    {
     "data": {
      "text/html": [
       "<div>\n",
       "<style scoped>\n",
       "    .dataframe tbody tr th:only-of-type {\n",
       "        vertical-align: middle;\n",
       "    }\n",
       "\n",
       "    .dataframe tbody tr th {\n",
       "        vertical-align: top;\n",
       "    }\n",
       "\n",
       "    .dataframe thead th {\n",
       "        text-align: right;\n",
       "    }\n",
       "</style>\n",
       "<table border=\"1\" class=\"dataframe\">\n",
       "  <thead>\n",
       "    <tr style=\"text-align: right;\">\n",
       "      <th></th>\n",
       "      <th>Country/Region</th>\n",
       "      <th>Cases</th>\n",
       "      <th>Deaths</th>\n",
       "      <th>PCases</th>\n",
       "      <th>PDeaths</th>\n",
       "      <th>Cases (+)</th>\n",
       "      <th>Deaths (+)</th>\n",
       "      <th>Fatality Rate</th>\n",
       "      <th>Continent</th>\n",
       "    </tr>\n",
       "  </thead>\n",
       "  <tbody>\n",
       "    <tr>\n",
       "      <th>0</th>\n",
       "      <td>US</td>\n",
       "      <td>45923884</td>\n",
       "      <td>745377</td>\n",
       "      <td>45826523</td>\n",
       "      <td>743358</td>\n",
       "      <td>97361</td>\n",
       "      <td>2019</td>\n",
       "      <td>1.6</td>\n",
       "      <td>North America</td>\n",
       "    </tr>\n",
       "    <tr>\n",
       "      <th>1</th>\n",
       "      <td>India</td>\n",
       "      <td>34260470</td>\n",
       "      <td>457740</td>\n",
       "      <td>34246157</td>\n",
       "      <td>457191</td>\n",
       "      <td>14313</td>\n",
       "      <td>549</td>\n",
       "      <td>1.3</td>\n",
       "      <td>Asia</td>\n",
       "    </tr>\n",
       "    <tr>\n",
       "      <th>2</th>\n",
       "      <td>Brazil</td>\n",
       "      <td>21793401</td>\n",
       "      <td>607462</td>\n",
       "      <td>21781436</td>\n",
       "      <td>607068</td>\n",
       "      <td>11965</td>\n",
       "      <td>394</td>\n",
       "      <td>2.8</td>\n",
       "      <td>South America</td>\n",
       "    </tr>\n",
       "    <tr>\n",
       "      <th>3</th>\n",
       "      <td>United Kingdom</td>\n",
       "      <td>9021701</td>\n",
       "      <td>140815</td>\n",
       "      <td>8978443</td>\n",
       "      <td>140628</td>\n",
       "      <td>43258</td>\n",
       "      <td>187</td>\n",
       "      <td>1.6</td>\n",
       "      <td>Europe</td>\n",
       "    </tr>\n",
       "    <tr>\n",
       "      <th>4</th>\n",
       "      <td>Russia</td>\n",
       "      <td>8298850</td>\n",
       "      <td>231931</td>\n",
       "      <td>8260045</td>\n",
       "      <td>230786</td>\n",
       "      <td>38805</td>\n",
       "      <td>1145</td>\n",
       "      <td>2.8</td>\n",
       "      <td>Europe</td>\n",
       "    </tr>\n",
       "  </tbody>\n",
       "</table>\n",
       "</div>"
      ],
      "text/plain": [
       "   Country/Region     Cases  Deaths    PCases  PDeaths  Cases (+)  Deaths (+)  \\\n",
       "0              US  45923884  745377  45826523   743358      97361        2019   \n",
       "1           India  34260470  457740  34246157   457191      14313         549   \n",
       "2          Brazil  21793401  607462  21781436   607068      11965         394   \n",
       "3  United Kingdom   9021701  140815   8978443   140628      43258         187   \n",
       "4          Russia   8298850  231931   8260045   230786      38805        1145   \n",
       "\n",
       "   Fatality Rate      Continent  \n",
       "0            1.6  North America  \n",
       "1            1.3           Asia  \n",
       "2            2.8  South America  \n",
       "3            1.6         Europe  \n",
       "4            2.8         Europe  "
      ]
     },
     "execution_count": 15,
     "metadata": {},
     "output_type": "execute_result"
    }
   ],
   "source": [
    "#hide\n",
    "df_table = (pd.DataFrame(dict(Cases=dfc_cases, Deaths=dfc_deaths, PCases=dfp_cases, PDeaths=dfp_deaths))\n",
    "             .sort_values(by=['Cases', 'Deaths'], ascending=[False, False])\n",
    "             .reset_index())\n",
    "df_table.rename(columns={'index': 'Country/Region'}, inplace=True)\n",
    "for c in 'Cases, Deaths'.split(', '):\n",
    "    df_table[f'{c} (+)'] = (df_table[c] - df_table[f'P{c}']).clip(0)  # DATA BUG\n",
    "df_table['Fatality Rate'] = (100 * df_table['Deaths'] / df_table['Cases']).round(1)\n",
    "df_table['Continent'] = df_table['Country/Region'].map(mapping['map.continent'])\n",
    "df_table.head(5)"
   ]
  },
  {
   "cell_type": "code",
   "execution_count": 16,
   "id": "fewer-occasion",
   "metadata": {
    "execution": {
     "iopub.execute_input": "2021-10-31T00:25:33.787682Z",
     "iopub.status.busy": "2021-10-31T00:25:33.787035Z",
     "iopub.status.idle": "2021-10-31T00:25:33.790486Z",
     "shell.execute_reply": "2021-10-31T00:25:33.791083Z"
    },
    "papermill": {
     "duration": 0.045364,
     "end_time": "2021-10-31T00:25:33.791212",
     "exception": false,
     "start_time": "2021-10-31T00:25:33.745848",
     "status": "completed"
    },
    "tags": []
   },
   "outputs": [],
   "source": [
    "#hide\n",
    "#delete problematic countries from table\n",
    "df_table = df_table[~df_table['Country/Region'].isin(['Cape Verde', 'Cruise Ship', 'Kosovo'])]"
   ]
  },
  {
   "cell_type": "code",
   "execution_count": 17,
   "id": "related-center",
   "metadata": {
    "execution": {
     "iopub.execute_input": "2021-10-31T00:25:33.867883Z",
     "iopub.status.busy": "2021-10-31T00:25:33.867228Z",
     "iopub.status.idle": "2021-10-31T00:25:33.881801Z",
     "shell.execute_reply": "2021-10-31T00:25:33.882369Z"
    },
    "papermill": {
     "duration": 0.056375,
     "end_time": "2021-10-31T00:25:33.882497",
     "exception": false,
     "start_time": "2021-10-31T00:25:33.826122",
     "status": "completed"
    },
    "tags": []
   },
   "outputs": [],
   "source": [
    "#hide\n",
    "metrics = [df_table.columns[index] for index in [1,2,5,6]]\n",
    "# s_china = df_table[df_table['Country/Region'].eq('China')][metrics].sum().add_prefix('China ')\n",
    "s_us = df_table[df_table['Country/Region'].eq('US')][metrics].sum().add_prefix('US ')\n",
    "s_eu = df_table[df_table['Continent'].eq('Europe')][metrics].sum().add_prefix('EU ')\n",
    "s_ind = df_table[df_table['Country/Region'].eq('India')][metrics].sum().add_prefix('India ')\n",
    "summary = {'updated': pd.to_datetime(dt_today), 'since': pd.to_datetime(dt_yday)}\n",
    "summary = {'updated': pd.to_datetime(dt_today), 'since': pd.to_datetime(dt_yday)}\n",
    "summary = {**summary, **df_table[metrics].sum(), **s_ind, **s_us, **s_eu}"
   ]
  },
  {
   "cell_type": "code",
   "execution_count": 18,
   "id": "engaging-syndrome",
   "metadata": {
    "execution": {
     "iopub.execute_input": "2021-10-31T00:25:33.965007Z",
     "iopub.status.busy": "2021-10-31T00:25:33.964249Z",
     "iopub.status.idle": "2021-10-31T00:25:33.977889Z",
     "shell.execute_reply": "2021-10-31T00:25:33.978615Z"
    },
    "papermill": {
     "duration": 0.057186,
     "end_time": "2021-10-31T00:25:33.978797",
     "exception": false,
     "start_time": "2021-10-31T00:25:33.921611",
     "status": "completed"
    },
    "tags": []
   },
   "outputs": [],
   "source": [
    "#hide\n",
    "dft_ct_new_cases = dft_cases.groupby(COL_REGION)[dt_cols].sum().diff(axis=1).fillna(0).astype(int)"
   ]
  },
  {
   "cell_type": "code",
   "execution_count": 19,
   "id": "neutral-assignment",
   "metadata": {
    "execution": {
     "iopub.execute_input": "2021-10-31T00:25:34.056714Z",
     "iopub.status.busy": "2021-10-31T00:25:34.056089Z",
     "iopub.status.idle": "2021-10-31T00:25:34.058510Z",
     "shell.execute_reply": "2021-10-31T00:25:34.059021Z"
    },
    "papermill": {
     "duration": 0.044232,
     "end_time": "2021-10-31T00:25:34.059153",
     "exception": false,
     "start_time": "2021-10-31T00:25:34.014921",
     "status": "completed"
    },
    "tags": []
   },
   "outputs": [],
   "source": [
    "#hide\n",
    "everydaycases = dft_ct_new_cases.cumsum(axis=1)"
   ]
  },
  {
   "cell_type": "code",
   "execution_count": 20,
   "id": "parliamentary-calgary",
   "metadata": {
    "execution": {
     "iopub.execute_input": "2021-10-31T00:25:34.138003Z",
     "iopub.status.busy": "2021-10-31T00:25:34.137345Z",
     "iopub.status.idle": "2021-10-31T00:25:34.826052Z",
     "shell.execute_reply": "2021-10-31T00:25:34.825361Z"
    },
    "papermill": {
     "duration": 0.729665,
     "end_time": "2021-10-31T00:25:34.826203",
     "exception": false,
     "start_time": "2021-10-31T00:25:34.096538",
     "status": "completed"
    },
    "tags": []
   },
   "outputs": [],
   "source": [
    "#hide\n",
    "import pandas as pd\n",
    "import matplotlib.pyplot as plt\n",
    "import matplotlib.ticker as ticker\n",
    "import matplotlib.animation as animation\n",
    "from IPython.display import HTML"
   ]
  },
  {
   "cell_type": "code",
   "execution_count": 21,
   "id": "lasting-extraction",
   "metadata": {
    "execution": {
     "iopub.execute_input": "2021-10-31T00:25:34.906478Z",
     "iopub.status.busy": "2021-10-31T00:25:34.905779Z",
     "iopub.status.idle": "2021-10-31T00:25:34.912102Z",
     "shell.execute_reply": "2021-10-31T00:25:34.911584Z"
    },
    "papermill": {
     "duration": 0.048917,
     "end_time": "2021-10-31T00:25:34.912229",
     "exception": false,
     "start_time": "2021-10-31T00:25:34.863312",
     "status": "completed"
    },
    "tags": []
   },
   "outputs": [],
   "source": [
    "#hide\n",
    "t = everydaycases.stack()"
   ]
  },
  {
   "cell_type": "code",
   "execution_count": 22,
   "id": "premier-sleeve",
   "metadata": {
    "execution": {
     "iopub.execute_input": "2021-10-31T00:25:35.002750Z",
     "iopub.status.busy": "2021-10-31T00:25:35.002031Z",
     "iopub.status.idle": "2021-10-31T00:25:35.013547Z",
     "shell.execute_reply": "2021-10-31T00:25:35.012961Z"
    },
    "papermill": {
     "duration": 0.061642,
     "end_time": "2021-10-31T00:25:35.013693",
     "exception": false,
     "start_time": "2021-10-31T00:25:34.952051",
     "status": "completed"
    },
    "tags": []
   },
   "outputs": [],
   "source": [
    "#hide\n",
    "g = t.reset_index(['Country/Region'])"
   ]
  },
  {
   "cell_type": "code",
   "execution_count": 23,
   "id": "distributed-pittsburgh",
   "metadata": {
    "execution": {
     "iopub.execute_input": "2021-10-31T00:25:35.097235Z",
     "iopub.status.busy": "2021-10-31T00:25:35.096533Z",
     "iopub.status.idle": "2021-10-31T00:25:35.098842Z",
     "shell.execute_reply": "2021-10-31T00:25:35.099351Z"
    },
    "papermill": {
     "duration": 0.048876,
     "end_time": "2021-10-31T00:25:35.099510",
     "exception": false,
     "start_time": "2021-10-31T00:25:35.050634",
     "status": "completed"
    },
    "tags": []
   },
   "outputs": [],
   "source": [
    "#hide\n",
    "g.index.name = 'date'"
   ]
  },
  {
   "cell_type": "code",
   "execution_count": 24,
   "id": "naked-donor",
   "metadata": {
    "execution": {
     "iopub.execute_input": "2021-10-31T00:25:35.184033Z",
     "iopub.status.busy": "2021-10-31T00:25:35.183238Z",
     "iopub.status.idle": "2021-10-31T00:25:35.185363Z",
     "shell.execute_reply": "2021-10-31T00:25:35.186045Z"
    },
    "papermill": {
     "duration": 0.045635,
     "end_time": "2021-10-31T00:25:35.186183",
     "exception": false,
     "start_time": "2021-10-31T00:25:35.140548",
     "status": "completed"
    },
    "tags": []
   },
   "outputs": [],
   "source": [
    "# #hide\n",
    "# g = g.reset_index(['date'])"
   ]
  },
  {
   "cell_type": "code",
   "execution_count": 25,
   "id": "incomplete-mustang",
   "metadata": {
    "execution": {
     "iopub.execute_input": "2021-10-31T00:25:35.261962Z",
     "iopub.status.busy": "2021-10-31T00:25:35.261367Z",
     "iopub.status.idle": "2021-10-31T00:25:35.263275Z",
     "shell.execute_reply": "2021-10-31T00:25:35.263857Z"
    },
    "papermill": {
     "duration": 0.041396,
     "end_time": "2021-10-31T00:25:35.263982",
     "exception": false,
     "start_time": "2021-10-31T00:25:35.222586",
     "status": "completed"
    },
    "tags": []
   },
   "outputs": [],
   "source": [
    "#hide\n",
    "# g.head()"
   ]
  },
  {
   "cell_type": "code",
   "execution_count": 26,
   "id": "specific-kruger",
   "metadata": {
    "execution": {
     "iopub.execute_input": "2021-10-31T00:25:35.338770Z",
     "iopub.status.busy": "2021-10-31T00:25:35.338135Z",
     "iopub.status.idle": "2021-10-31T00:25:35.340480Z",
     "shell.execute_reply": "2021-10-31T00:25:35.339798Z"
    },
    "papermill": {
     "duration": 0.040739,
     "end_time": "2021-10-31T00:25:35.340614",
     "exception": false,
     "start_time": "2021-10-31T00:25:35.299875",
     "status": "completed"
    },
    "tags": []
   },
   "outputs": [],
   "source": [
    "#hide\n",
    "# g.columns = ['date','country','cases']"
   ]
  },
  {
   "cell_type": "code",
   "execution_count": 27,
   "id": "tender-conversion",
   "metadata": {
    "execution": {
     "iopub.execute_input": "2021-10-31T00:25:35.416945Z",
     "iopub.status.busy": "2021-10-31T00:25:35.416157Z",
     "iopub.status.idle": "2021-10-31T00:25:35.418461Z",
     "shell.execute_reply": "2021-10-31T00:25:35.419038Z"
    },
    "papermill": {
     "duration": 0.041941,
     "end_time": "2021-10-31T00:25:35.419162",
     "exception": false,
     "start_time": "2021-10-31T00:25:35.377221",
     "status": "completed"
    },
    "tags": []
   },
   "outputs": [],
   "source": [
    "#hide\n",
    "# g['continent'] = g.country"
   ]
  },
  {
   "cell_type": "code",
   "execution_count": 28,
   "id": "substantial-wilderness",
   "metadata": {
    "execution": {
     "iopub.execute_input": "2021-10-31T00:25:35.494323Z",
     "iopub.status.busy": "2021-10-31T00:25:35.493675Z",
     "iopub.status.idle": "2021-10-31T00:25:35.496211Z",
     "shell.execute_reply": "2021-10-31T00:25:35.495714Z"
    },
    "papermill": {
     "duration": 0.041028,
     "end_time": "2021-10-31T00:25:35.496323",
     "exception": false,
     "start_time": "2021-10-31T00:25:35.455295",
     "status": "completed"
    },
    "tags": []
   },
   "outputs": [],
   "source": [
    "#hide\n",
    "# cols = list(g.columns.values)"
   ]
  },
  {
   "cell_type": "code",
   "execution_count": 29,
   "id": "solved-farming",
   "metadata": {
    "execution": {
     "iopub.execute_input": "2021-10-31T00:25:35.571724Z",
     "iopub.status.busy": "2021-10-31T00:25:35.571111Z",
     "iopub.status.idle": "2021-10-31T00:25:35.573108Z",
     "shell.execute_reply": "2021-10-31T00:25:35.573686Z"
    },
    "papermill": {
     "duration": 0.041501,
     "end_time": "2021-10-31T00:25:35.573809",
     "exception": false,
     "start_time": "2021-10-31T00:25:35.532308",
     "status": "completed"
    },
    "tags": []
   },
   "outputs": [],
   "source": [
    "#hide\n",
    "# cols.insert(0, cols.pop())"
   ]
  },
  {
   "cell_type": "code",
   "execution_count": 30,
   "id": "executed-adoption",
   "metadata": {
    "execution": {
     "iopub.execute_input": "2021-10-31T00:25:35.653761Z",
     "iopub.status.busy": "2021-10-31T00:25:35.653077Z",
     "iopub.status.idle": "2021-10-31T00:25:35.655462Z",
     "shell.execute_reply": "2021-10-31T00:25:35.654812Z"
    },
    "papermill": {
     "duration": 0.045682,
     "end_time": "2021-10-31T00:25:35.655599",
     "exception": false,
     "start_time": "2021-10-31T00:25:35.609917",
     "status": "completed"
    },
    "tags": []
   },
   "outputs": [],
   "source": [
    "#hide\n",
    "# g = g[cols]"
   ]
  },
  {
   "cell_type": "code",
   "execution_count": 31,
   "id": "subject-dublin",
   "metadata": {
    "execution": {
     "iopub.execute_input": "2021-10-31T00:25:35.750341Z",
     "iopub.status.busy": "2021-10-31T00:25:35.749709Z",
     "iopub.status.idle": "2021-10-31T00:25:35.756753Z",
     "shell.execute_reply": "2021-10-31T00:25:35.757394Z"
    },
    "papermill": {
     "duration": 0.055317,
     "end_time": "2021-10-31T00:25:35.757545",
     "exception": false,
     "start_time": "2021-10-31T00:25:35.702228",
     "status": "completed"
    },
    "tags": []
   },
   "outputs": [],
   "source": [
    "#hide\n",
    "# g['continent'] = g['continent'].map(mapping['map.continent'])"
   ]
  },
  {
   "cell_type": "code",
   "execution_count": 32,
   "id": "freelance-scout",
   "metadata": {
    "execution": {
     "iopub.execute_input": "2021-10-31T00:25:35.836422Z",
     "iopub.status.busy": "2021-10-31T00:25:35.834929Z",
     "iopub.status.idle": "2021-10-31T00:25:35.837121Z",
     "shell.execute_reply": "2021-10-31T00:25:35.837617Z"
    },
    "papermill": {
     "duration": 0.042538,
     "end_time": "2021-10-31T00:25:35.837749",
     "exception": false,
     "start_time": "2021-10-31T00:25:35.795211",
     "status": "completed"
    },
    "tags": []
   },
   "outputs": [],
   "source": [
    "#hide\n",
    "# g.head()"
   ]
  },
  {
   "cell_type": "code",
   "execution_count": 33,
   "id": "limited-engine",
   "metadata": {
    "execution": {
     "iopub.execute_input": "2021-10-31T00:25:35.912204Z",
     "iopub.status.busy": "2021-10-31T00:25:35.910894Z",
     "iopub.status.idle": "2021-10-31T00:25:35.912934Z",
     "shell.execute_reply": "2021-10-31T00:25:35.913462Z"
    },
    "papermill": {
     "duration": 0.040954,
     "end_time": "2021-10-31T00:25:35.913597",
     "exception": false,
     "start_time": "2021-10-31T00:25:35.872643",
     "status": "completed"
    },
    "tags": []
   },
   "outputs": [],
   "source": [
    "# hide\n",
    "# g['date'] = g['date'].astype('datetime64[ns]')"
   ]
  },
  {
   "cell_type": "code",
   "execution_count": 34,
   "id": "sophisticated-supervisor",
   "metadata": {
    "execution": {
     "iopub.execute_input": "2021-10-31T00:25:35.986793Z",
     "iopub.status.busy": "2021-10-31T00:25:35.986174Z",
     "iopub.status.idle": "2021-10-31T00:25:35.988129Z",
     "shell.execute_reply": "2021-10-31T00:25:35.989096Z"
    },
    "papermill": {
     "duration": 0.040242,
     "end_time": "2021-10-31T00:25:35.989226",
     "exception": false,
     "start_time": "2021-10-31T00:25:35.948984",
     "status": "completed"
    },
    "tags": []
   },
   "outputs": [],
   "source": [
    "#hide\n",
    "# g['date'] = g.date.dt.dayofyear"
   ]
  },
  {
   "cell_type": "code",
   "execution_count": 35,
   "id": "inside-dubai",
   "metadata": {
    "execution": {
     "iopub.execute_input": "2021-10-31T00:25:36.065870Z",
     "iopub.status.busy": "2021-10-31T00:25:36.065235Z",
     "iopub.status.idle": "2021-10-31T00:25:36.067539Z",
     "shell.execute_reply": "2021-10-31T00:25:36.068097Z"
    },
    "papermill": {
     "duration": 0.041763,
     "end_time": "2021-10-31T00:25:36.068249",
     "exception": false,
     "start_time": "2021-10-31T00:25:36.026486",
     "status": "completed"
    },
    "tags": []
   },
   "outputs": [],
   "source": [
    "#hide\n",
    "# g = g.rename(columns= {'continent':'group','country':'name','cases':'value'})"
   ]
  },
  {
   "cell_type": "code",
   "execution_count": 36,
   "id": "fleet-motorcycle",
   "metadata": {
    "execution": {
     "iopub.execute_input": "2021-10-31T00:25:36.145078Z",
     "iopub.status.busy": "2021-10-31T00:25:36.144387Z",
     "iopub.status.idle": "2021-10-31T00:25:36.146581Z",
     "shell.execute_reply": "2021-10-31T00:25:36.147665Z"
    },
    "papermill": {
     "duration": 0.041086,
     "end_time": "2021-10-31T00:25:36.147821",
     "exception": false,
     "start_time": "2021-10-31T00:25:36.106735",
     "status": "completed"
    },
    "tags": []
   },
   "outputs": [],
   "source": [
    "#hide\n",
    "# cols = ['name','group','day','value']"
   ]
  },
  {
   "cell_type": "code",
   "execution_count": 37,
   "id": "continued-sleeping",
   "metadata": {
    "execution": {
     "iopub.execute_input": "2021-10-31T00:25:36.236712Z",
     "iopub.status.busy": "2021-10-31T00:25:36.236032Z",
     "iopub.status.idle": "2021-10-31T00:25:36.237993Z",
     "shell.execute_reply": "2021-10-31T00:25:36.238669Z"
    },
    "papermill": {
     "duration": 0.046492,
     "end_time": "2021-10-31T00:25:36.238820",
     "exception": false,
     "start_time": "2021-10-31T00:25:36.192328",
     "status": "completed"
    },
    "tags": []
   },
   "outputs": [],
   "source": [
    "#hide\n",
    "# g.rename(columns= {'date':'day'},inplace = True)"
   ]
  },
  {
   "cell_type": "code",
   "execution_count": 38,
   "id": "major-fight",
   "metadata": {
    "execution": {
     "iopub.execute_input": "2021-10-31T00:25:36.317675Z",
     "iopub.status.busy": "2021-10-31T00:25:36.316931Z",
     "iopub.status.idle": "2021-10-31T00:25:36.318999Z",
     "shell.execute_reply": "2021-10-31T00:25:36.319861Z"
    },
    "papermill": {
     "duration": 0.043873,
     "end_time": "2021-10-31T00:25:36.320013",
     "exception": false,
     "start_time": "2021-10-31T00:25:36.276140",
     "status": "completed"
    },
    "tags": []
   },
   "outputs": [],
   "source": [
    "#hide\n",
    "# g = g[cols]"
   ]
  },
  {
   "cell_type": "code",
   "execution_count": 39,
   "id": "structured-mobile",
   "metadata": {
    "execution": {
     "iopub.execute_input": "2021-10-31T00:25:36.396719Z",
     "iopub.status.busy": "2021-10-31T00:25:36.396113Z",
     "iopub.status.idle": "2021-10-31T00:25:36.398774Z",
     "shell.execute_reply": "2021-10-31T00:25:36.398298Z"
    },
    "papermill": {
     "duration": 0.042185,
     "end_time": "2021-10-31T00:25:36.398893",
     "exception": false,
     "start_time": "2021-10-31T00:25:36.356708",
     "status": "completed"
    },
    "tags": []
   },
   "outputs": [],
   "source": [
    "# #hide\n",
    "# g = g[g.group.notna()]"
   ]
  },
  {
   "cell_type": "code",
   "execution_count": 40,
   "id": "determined-closing",
   "metadata": {
    "execution": {
     "iopub.execute_input": "2021-10-31T00:25:36.474365Z",
     "iopub.status.busy": "2021-10-31T00:25:36.473772Z",
     "iopub.status.idle": "2021-10-31T00:25:36.476216Z",
     "shell.execute_reply": "2021-10-31T00:25:36.475635Z"
    },
    "papermill": {
     "duration": 0.040763,
     "end_time": "2021-10-31T00:25:36.476329",
     "exception": false,
     "start_time": "2021-10-31T00:25:36.435566",
     "status": "completed"
    },
    "tags": []
   },
   "outputs": [],
   "source": [
    "# #hide\n",
    "# colors = dict(zip(\n",
    "#     [\"Oceania\", \"Europe\", \"Asia\", \"South America\", \"Middle East\", \"North America\", \"Africa\"],\n",
    "#     [\"#adb0ff\", \"#ffb3ff\", \"#90d595\", \"#e48381\", \"#aafbff\", \"#f7bb5f\", \"#eafb50\"]\n",
    "# ))\n",
    "# group_lk = g.set_index('name')['group'].to_dict()"
   ]
  },
  {
   "cell_type": "code",
   "execution_count": null,
   "id": "gross-drinking",
   "metadata": {
    "papermill": {
     "duration": 0.036712,
     "end_time": "2021-10-31T00:25:36.548254",
     "exception": false,
     "start_time": "2021-10-31T00:25:36.511542",
     "status": "completed"
    },
    "tags": []
   },
   "outputs": [],
   "source": []
  },
  {
   "cell_type": "code",
   "execution_count": 41,
   "id": "subject-macintosh",
   "metadata": {
    "execution": {
     "iopub.execute_input": "2021-10-31T00:25:36.624998Z",
     "iopub.status.busy": "2021-10-31T00:25:36.624396Z",
     "iopub.status.idle": "2021-10-31T00:25:36.626282Z",
     "shell.execute_reply": "2021-10-31T00:25:36.626830Z"
    },
    "papermill": {
     "duration": 0.043084,
     "end_time": "2021-10-31T00:25:36.626973",
     "exception": false,
     "start_time": "2021-10-31T00:25:36.583889",
     "status": "completed"
    },
    "tags": []
   },
   "outputs": [],
   "source": [
    "# #hide\n",
    "# fig, ax = plt.subplots(figsize=(15, 8))\n",
    "\n",
    "# def draw_barchart(current_day):\n",
    "#     dff = g[g['day'].eq(current_day)].sort_values(by='value', ascending=True).tail(10)\n",
    "#     ax.clear()\n",
    "#     ax.barh(dff['name'], dff['value'], color=[colors[group_lk[x]] for x in dff['name']])\n",
    "#     dx = dff['value'].max() / 200\n",
    "    \n",
    "#     for i, (value, name) in enumerate(zip(dff['value'], dff['name'])):\n",
    "#         ax.text(value-dx, i,     name,           size=14, weight=600, ha='right', va='bottom')\n",
    "#         ax.text(value-dx, i-.25, group_lk[name], size=10, color='#444444', ha='right', va='baseline')\n",
    "#         ax.text(value+dx, i,     f'{value:,.0f}',  size=14, ha='left',  va='center')\n",
    "#     ax.text(1, 0.4, current_day, transform=ax.transAxes, color='#777777', size=46, ha='right', weight=800)\n",
    "#     ax.text(0, 1.06, 'Population (thousands)', transform=ax.transAxes, size=12, color='#777777')\n",
    "#     ax.xaxis.set_major_formatter(ticker.StrMethodFormatter('{x:,.0f}'))\n",
    "#     ax.xaxis.set_ticks_position('top')\n",
    "#     ax.tick_params(axis='x', colors='#777777', labelsize=12)\n",
    "#     ax.set_yticks([])\n",
    "#     ax.margins(0, 0.01)\n",
    "#     ax.grid(which='major', axis='x', linestyle='-')\n",
    "#     ax.set_axisbelow(True)\n",
    "    \n",
    "#     ax.text(0, 1.15, 'Coronavirus',\n",
    "#             transform=ax.transAxes, size=24, weight=600, ha='left', va='top')\n",
    "# #     ax.text(1, 0, 'by @pratapvardhan; credit @jburnmurdoch', transform=ax.transAxes, color='#777777', ha='right',\n",
    "# #             bbox=dict(facecolor='white', alpha=0.8, edgecolor='white'))\n",
    "#     plt.box(False)"
   ]
  },
  {
   "cell_type": "code",
   "execution_count": 42,
   "id": "sexual-wages",
   "metadata": {
    "execution": {
     "iopub.execute_input": "2021-10-31T00:25:36.702090Z",
     "iopub.status.busy": "2021-10-31T00:25:36.701423Z",
     "iopub.status.idle": "2021-10-31T00:25:36.703716Z",
     "shell.execute_reply": "2021-10-31T00:25:36.704397Z"
    },
    "papermill": {
     "duration": 0.042346,
     "end_time": "2021-10-31T00:25:36.704551",
     "exception": false,
     "start_time": "2021-10-31T00:25:36.662205",
     "status": "completed"
    },
    "tags": []
   },
   "outputs": [],
   "source": [
    "# #hide_input\n",
    "# fig, ax = plt.subplots(figsize=(15, 8))\n",
    "# animator = animation.FuncAnimation(fig, draw_barchart, frames=range(g.day.values.min(), g.day.values.max()))\n",
    "# HTML(animator.to_jshtml())\n",
    "# # or use animator.to_html5_video() or animator.save() "
   ]
  },
  {
   "cell_type": "code",
   "execution_count": null,
   "id": "australian-container",
   "metadata": {
    "papermill": {
     "duration": 0.035781,
     "end_time": "2021-10-31T00:25:36.775935",
     "exception": false,
     "start_time": "2021-10-31T00:25:36.740154",
     "status": "completed"
    },
    "tags": []
   },
   "outputs": [],
   "source": []
  },
  {
   "cell_type": "code",
   "execution_count": null,
   "id": "mediterranean-pontiac",
   "metadata": {
    "papermill": {
     "duration": 0.036397,
     "end_time": "2021-10-31T00:25:36.849091",
     "exception": false,
     "start_time": "2021-10-31T00:25:36.812694",
     "status": "completed"
    },
    "tags": []
   },
   "outputs": [],
   "source": []
  },
  {
   "cell_type": "code",
   "execution_count": null,
   "id": "aging-legislature",
   "metadata": {
    "papermill": {
     "duration": 0.036868,
     "end_time": "2021-10-31T00:25:36.923592",
     "exception": false,
     "start_time": "2021-10-31T00:25:36.886724",
     "status": "completed"
    },
    "tags": []
   },
   "outputs": [],
   "source": []
  }
 ],
 "metadata": {
  "kernelspec": {
   "display_name": "Python 3",
   "language": "python",
   "name": "python3"
  },
  "language_info": {
   "codemirror_mode": {
    "name": "ipython",
    "version": 3
   },
   "file_extension": ".py",
   "mimetype": "text/x-python",
   "name": "python",
   "nbconvert_exporter": "python",
   "pygments_lexer": "ipython3",
   "version": "3.6.15"
  },
  "papermill": {
   "duration": 6.828791,
   "end_time": "2021-10-31T00:25:37.269332",
   "environment_variables": {},
   "exception": null,
   "input_path": "2020-03-21-covid19exp.ipynb",
   "output_path": "2020-03-21-covid19exp.ipynb",
   "parameters": {},
   "start_time": "2021-10-31T00:25:30.440541",
   "version": "2.0.0"
  }
 },
 "nbformat": 4,
 "nbformat_minor": 5
}